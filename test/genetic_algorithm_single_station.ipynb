{
 "cells": [
  {
   "cell_type": "code",
   "execution_count": 1,
   "metadata": {},
   "outputs": [],
   "source": [
    "import pint\n",
    "import xarray as xr\n",
    "from dask.distributed import Client\n",
    "from seapopym.configuration.no_transport.parameter import ForcingParameters\n",
    "from seapopym.configuration.parameters.parameter_forcing import ForcingUnit\n",
    "from seapopym.standard.units import StandardUnitsLabels\n",
    "\n",
    "from seapopym_optimization import (\n",
    "    FunctionalGroupOptimizeNoTransport,\n",
    "    GeneticAlgorithm,\n",
    "    GeneticAlgorithmParameters,\n",
    "    NoTransportCostFunction,\n",
    "    Observation,\n",
    "    Parameter,\n",
    "    constraint,\n",
    ")"
   ]
  },
  {
   "cell_type": "markdown",
   "metadata": {},
   "source": [
    "Load forcing.\n"
   ]
  },
  {
   "cell_type": "code",
   "execution_count": 2,
   "metadata": {},
   "outputs": [],
   "source": [
    "time_start, time_end = \"1998-01-01\", \"2022-01-01\"\n",
    "\n",
    "bats_data = xr.open_dataset(\"../notebooks/1_data_processing/1_1_Forcing/products/Bats_cmems.zarr\", engine=\"zarr\")\n",
    "bats_data[\"T\"].attrs[\"units\"] = StandardUnitsLabels.temperature.units\n",
    "bats_data.time.attrs[\"axis\"] = \"T\"\n",
    "bats_data = bats_data.sel(time=slice(time_start, time_end))\n",
    "_ = bats_data.load()\n",
    "\n",
    "cafe_npp = xr.open_dataset(\"../notebooks/1_data_processing/1_1_Forcing/products/Bats_cafe.zarr\", engine=\"zarr\")\n",
    "cafe_npp = cafe_npp.sel(time=slice(time_start, time_end))\n",
    "cafe_npp = cafe_npp.dropna(\"time\")\n",
    "cafe_npp = cafe_npp.resample(time=\"D\").interpolate(\"linear\")\n",
    "cafe_npp.latitude.attrs = {\"units\": \"degrees_north\", \"long_name\": \"latitude\", \"axis\": \"Y\"}\n",
    "cafe_npp.longitude.attrs = {\"units\": \"degrees_east\", \"long_name\": \"longitude\", \"axis\": \"X\"}\n",
    "# cafe_npp = cafe_npp.rename({\"lat\": \"latitude\", \"lon\": \"longitude\"})\n",
    "_ = cafe_npp.load()"
   ]
  },
  {
   "cell_type": "code",
   "execution_count": 3,
   "metadata": {},
   "outputs": [
    {
     "data": {
      "text/html": [
       "<div><svg style=\"position: absolute; width: 0; height: 0; overflow: hidden\">\n",
       "<defs>\n",
       "<symbol id=\"icon-database\" viewBox=\"0 0 32 32\">\n",
       "<path d=\"M16 0c-8.837 0-16 2.239-16 5v4c0 2.761 7.163 5 16 5s16-2.239 16-5v-4c0-2.761-7.163-5-16-5z\"></path>\n",
       "<path d=\"M16 17c-8.837 0-16-2.239-16-5v6c0 2.761 7.163 5 16 5s16-2.239 16-5v-6c0 2.761-7.163 5-16 5z\"></path>\n",
       "<path d=\"M16 26c-8.837 0-16-2.239-16-5v6c0 2.761 7.163 5 16 5s16-2.239 16-5v-6c0 2.761-7.163 5-16 5z\"></path>\n",
       "</symbol>\n",
       "<symbol id=\"icon-file-text2\" viewBox=\"0 0 32 32\">\n",
       "<path d=\"M28.681 7.159c-0.694-0.947-1.662-2.053-2.724-3.116s-2.169-2.030-3.116-2.724c-1.612-1.182-2.393-1.319-2.841-1.319h-15.5c-1.378 0-2.5 1.121-2.5 2.5v27c0 1.378 1.122 2.5 2.5 2.5h23c1.378 0 2.5-1.122 2.5-2.5v-19.5c0-0.448-0.137-1.23-1.319-2.841zM24.543 5.457c0.959 0.959 1.712 1.825 2.268 2.543h-4.811v-4.811c0.718 0.556 1.584 1.309 2.543 2.268zM28 29.5c0 0.271-0.229 0.5-0.5 0.5h-23c-0.271 0-0.5-0.229-0.5-0.5v-27c0-0.271 0.229-0.5 0.5-0.5 0 0 15.499-0 15.5 0v7c0 0.552 0.448 1 1 1h7v19.5z\"></path>\n",
       "<path d=\"M23 26h-14c-0.552 0-1-0.448-1-1s0.448-1 1-1h14c0.552 0 1 0.448 1 1s-0.448 1-1 1z\"></path>\n",
       "<path d=\"M23 22h-14c-0.552 0-1-0.448-1-1s0.448-1 1-1h14c0.552 0 1 0.448 1 1s-0.448 1-1 1z\"></path>\n",
       "<path d=\"M23 18h-14c-0.552 0-1-0.448-1-1s0.448-1 1-1h14c0.552 0 1 0.448 1 1s-0.448 1-1 1z\"></path>\n",
       "</symbol>\n",
       "</defs>\n",
       "</svg>\n",
       "<style>/* CSS stylesheet for displaying xarray objects in jupyterlab.\n",
       " *\n",
       " */\n",
       "\n",
       ":root {\n",
       "  --xr-font-color0: var(--jp-content-font-color0, rgba(0, 0, 0, 1));\n",
       "  --xr-font-color2: var(--jp-content-font-color2, rgba(0, 0, 0, 0.54));\n",
       "  --xr-font-color3: var(--jp-content-font-color3, rgba(0, 0, 0, 0.38));\n",
       "  --xr-border-color: var(--jp-border-color2, #e0e0e0);\n",
       "  --xr-disabled-color: var(--jp-layout-color3, #bdbdbd);\n",
       "  --xr-background-color: var(--jp-layout-color0, white);\n",
       "  --xr-background-color-row-even: var(--jp-layout-color1, white);\n",
       "  --xr-background-color-row-odd: var(--jp-layout-color2, #eeeeee);\n",
       "}\n",
       "\n",
       "html[theme=dark],\n",
       "html[data-theme=dark],\n",
       "body[data-theme=dark],\n",
       "body.vscode-dark {\n",
       "  --xr-font-color0: rgba(255, 255, 255, 1);\n",
       "  --xr-font-color2: rgba(255, 255, 255, 0.54);\n",
       "  --xr-font-color3: rgba(255, 255, 255, 0.38);\n",
       "  --xr-border-color: #1F1F1F;\n",
       "  --xr-disabled-color: #515151;\n",
       "  --xr-background-color: #111111;\n",
       "  --xr-background-color-row-even: #111111;\n",
       "  --xr-background-color-row-odd: #313131;\n",
       "}\n",
       "\n",
       ".xr-wrap {\n",
       "  display: block !important;\n",
       "  min-width: 300px;\n",
       "  max-width: 700px;\n",
       "}\n",
       "\n",
       ".xr-text-repr-fallback {\n",
       "  /* fallback to plain text repr when CSS is not injected (untrusted notebook) */\n",
       "  display: none;\n",
       "}\n",
       "\n",
       ".xr-header {\n",
       "  padding-top: 6px;\n",
       "  padding-bottom: 6px;\n",
       "  margin-bottom: 4px;\n",
       "  border-bottom: solid 1px var(--xr-border-color);\n",
       "}\n",
       "\n",
       ".xr-header > div,\n",
       ".xr-header > ul {\n",
       "  display: inline;\n",
       "  margin-top: 0;\n",
       "  margin-bottom: 0;\n",
       "}\n",
       "\n",
       ".xr-obj-type,\n",
       ".xr-array-name {\n",
       "  margin-left: 2px;\n",
       "  margin-right: 10px;\n",
       "}\n",
       "\n",
       ".xr-obj-type {\n",
       "  color: var(--xr-font-color2);\n",
       "}\n",
       "\n",
       ".xr-sections {\n",
       "  padding-left: 0 !important;\n",
       "  display: grid;\n",
       "  grid-template-columns: 150px auto auto 1fr 0 20px 0 20px;\n",
       "}\n",
       "\n",
       ".xr-section-item {\n",
       "  display: contents;\n",
       "}\n",
       "\n",
       ".xr-section-item input {\n",
       "  display: inline-block;\n",
       "  opacity: 0;\n",
       "}\n",
       "\n",
       ".xr-section-item input + label {\n",
       "  color: var(--xr-disabled-color);\n",
       "}\n",
       "\n",
       ".xr-section-item input:enabled + label {\n",
       "  cursor: pointer;\n",
       "  color: var(--xr-font-color2);\n",
       "}\n",
       "\n",
       ".xr-section-item input:focus + label {\n",
       "  border: 2px solid var(--xr-font-color0);\n",
       "}\n",
       "\n",
       ".xr-section-item input:enabled + label:hover {\n",
       "  color: var(--xr-font-color0);\n",
       "}\n",
       "\n",
       ".xr-section-summary {\n",
       "  grid-column: 1;\n",
       "  color: var(--xr-font-color2);\n",
       "  font-weight: 500;\n",
       "}\n",
       "\n",
       ".xr-section-summary > span {\n",
       "  display: inline-block;\n",
       "  padding-left: 0.5em;\n",
       "}\n",
       "\n",
       ".xr-section-summary-in:disabled + label {\n",
       "  color: var(--xr-font-color2);\n",
       "}\n",
       "\n",
       ".xr-section-summary-in + label:before {\n",
       "  display: inline-block;\n",
       "  content: '►';\n",
       "  font-size: 11px;\n",
       "  width: 15px;\n",
       "  text-align: center;\n",
       "}\n",
       "\n",
       ".xr-section-summary-in:disabled + label:before {\n",
       "  color: var(--xr-disabled-color);\n",
       "}\n",
       "\n",
       ".xr-section-summary-in:checked + label:before {\n",
       "  content: '▼';\n",
       "}\n",
       "\n",
       ".xr-section-summary-in:checked + label > span {\n",
       "  display: none;\n",
       "}\n",
       "\n",
       ".xr-section-summary,\n",
       ".xr-section-inline-details {\n",
       "  padding-top: 4px;\n",
       "  padding-bottom: 4px;\n",
       "}\n",
       "\n",
       ".xr-section-inline-details {\n",
       "  grid-column: 2 / -1;\n",
       "}\n",
       "\n",
       ".xr-section-details {\n",
       "  display: none;\n",
       "  grid-column: 1 / -1;\n",
       "  margin-bottom: 5px;\n",
       "}\n",
       "\n",
       ".xr-section-summary-in:checked ~ .xr-section-details {\n",
       "  display: contents;\n",
       "}\n",
       "\n",
       ".xr-array-wrap {\n",
       "  grid-column: 1 / -1;\n",
       "  display: grid;\n",
       "  grid-template-columns: 20px auto;\n",
       "}\n",
       "\n",
       ".xr-array-wrap > label {\n",
       "  grid-column: 1;\n",
       "  vertical-align: top;\n",
       "}\n",
       "\n",
       ".xr-preview {\n",
       "  color: var(--xr-font-color3);\n",
       "}\n",
       "\n",
       ".xr-array-preview,\n",
       ".xr-array-data {\n",
       "  padding: 0 5px !important;\n",
       "  grid-column: 2;\n",
       "}\n",
       "\n",
       ".xr-array-data,\n",
       ".xr-array-in:checked ~ .xr-array-preview {\n",
       "  display: none;\n",
       "}\n",
       "\n",
       ".xr-array-in:checked ~ .xr-array-data,\n",
       ".xr-array-preview {\n",
       "  display: inline-block;\n",
       "}\n",
       "\n",
       ".xr-dim-list {\n",
       "  display: inline-block !important;\n",
       "  list-style: none;\n",
       "  padding: 0 !important;\n",
       "  margin: 0;\n",
       "}\n",
       "\n",
       ".xr-dim-list li {\n",
       "  display: inline-block;\n",
       "  padding: 0;\n",
       "  margin: 0;\n",
       "}\n",
       "\n",
       ".xr-dim-list:before {\n",
       "  content: '(';\n",
       "}\n",
       "\n",
       ".xr-dim-list:after {\n",
       "  content: ')';\n",
       "}\n",
       "\n",
       ".xr-dim-list li:not(:last-child):after {\n",
       "  content: ',';\n",
       "  padding-right: 5px;\n",
       "}\n",
       "\n",
       ".xr-has-index {\n",
       "  font-weight: bold;\n",
       "}\n",
       "\n",
       ".xr-var-list,\n",
       ".xr-var-item {\n",
       "  display: contents;\n",
       "}\n",
       "\n",
       ".xr-var-item > div,\n",
       ".xr-var-item label,\n",
       ".xr-var-item > .xr-var-name span {\n",
       "  background-color: var(--xr-background-color-row-even);\n",
       "  margin-bottom: 0;\n",
       "}\n",
       "\n",
       ".xr-var-item > .xr-var-name:hover span {\n",
       "  padding-right: 5px;\n",
       "}\n",
       "\n",
       ".xr-var-list > li:nth-child(odd) > div,\n",
       ".xr-var-list > li:nth-child(odd) > label,\n",
       ".xr-var-list > li:nth-child(odd) > .xr-var-name span {\n",
       "  background-color: var(--xr-background-color-row-odd);\n",
       "}\n",
       "\n",
       ".xr-var-name {\n",
       "  grid-column: 1;\n",
       "}\n",
       "\n",
       ".xr-var-dims {\n",
       "  grid-column: 2;\n",
       "}\n",
       "\n",
       ".xr-var-dtype {\n",
       "  grid-column: 3;\n",
       "  text-align: right;\n",
       "  color: var(--xr-font-color2);\n",
       "}\n",
       "\n",
       ".xr-var-preview {\n",
       "  grid-column: 4;\n",
       "}\n",
       "\n",
       ".xr-index-preview {\n",
       "  grid-column: 2 / 5;\n",
       "  color: var(--xr-font-color2);\n",
       "}\n",
       "\n",
       ".xr-var-name,\n",
       ".xr-var-dims,\n",
       ".xr-var-dtype,\n",
       ".xr-preview,\n",
       ".xr-attrs dt {\n",
       "  white-space: nowrap;\n",
       "  overflow: hidden;\n",
       "  text-overflow: ellipsis;\n",
       "  padding-right: 10px;\n",
       "}\n",
       "\n",
       ".xr-var-name:hover,\n",
       ".xr-var-dims:hover,\n",
       ".xr-var-dtype:hover,\n",
       ".xr-attrs dt:hover {\n",
       "  overflow: visible;\n",
       "  width: auto;\n",
       "  z-index: 1;\n",
       "}\n",
       "\n",
       ".xr-var-attrs,\n",
       ".xr-var-data,\n",
       ".xr-index-data {\n",
       "  display: none;\n",
       "  background-color: var(--xr-background-color) !important;\n",
       "  padding-bottom: 5px !important;\n",
       "}\n",
       "\n",
       ".xr-var-attrs-in:checked ~ .xr-var-attrs,\n",
       ".xr-var-data-in:checked ~ .xr-var-data,\n",
       ".xr-index-data-in:checked ~ .xr-index-data {\n",
       "  display: block;\n",
       "}\n",
       "\n",
       ".xr-var-data > table {\n",
       "  float: right;\n",
       "}\n",
       "\n",
       ".xr-var-name span,\n",
       ".xr-var-data,\n",
       ".xr-index-name div,\n",
       ".xr-index-data,\n",
       ".xr-attrs {\n",
       "  padding-left: 25px !important;\n",
       "}\n",
       "\n",
       ".xr-attrs,\n",
       ".xr-var-attrs,\n",
       ".xr-var-data,\n",
       ".xr-index-data {\n",
       "  grid-column: 1 / -1;\n",
       "}\n",
       "\n",
       "dl.xr-attrs {\n",
       "  padding: 0;\n",
       "  margin: 0;\n",
       "  display: grid;\n",
       "  grid-template-columns: 125px auto;\n",
       "}\n",
       "\n",
       ".xr-attrs dt,\n",
       ".xr-attrs dd {\n",
       "  padding: 0;\n",
       "  margin: 0;\n",
       "  float: left;\n",
       "  padding-right: 10px;\n",
       "  width: auto;\n",
       "}\n",
       "\n",
       ".xr-attrs dt {\n",
       "  font-weight: normal;\n",
       "  grid-column: 1;\n",
       "}\n",
       "\n",
       ".xr-attrs dt:hover span {\n",
       "  display: inline-block;\n",
       "  background: var(--xr-background-color);\n",
       "  padding-right: 10px;\n",
       "}\n",
       "\n",
       ".xr-attrs dd {\n",
       "  grid-column: 2;\n",
       "  white-space: pre-wrap;\n",
       "  word-break: break-all;\n",
       "}\n",
       "\n",
       ".xr-icon-database,\n",
       ".xr-icon-file-text2,\n",
       ".xr-no-icon {\n",
       "  display: inline-block;\n",
       "  vertical-align: middle;\n",
       "  width: 1em;\n",
       "  height: 1.5em !important;\n",
       "  stroke-width: 0;\n",
       "  stroke: currentColor;\n",
       "  fill: currentColor;\n",
       "}\n",
       "</style><pre class='xr-text-repr-fallback'>&lt;xarray.Dataset&gt; Size: 2MB\n",
       "Dimensions:              (latitude: 1, longitude: 1, time: 8767, depth: 3)\n",
       "Coordinates:\n",
       "  * depth                (depth) int32 12B 1 2 3\n",
       "  * latitude             (latitude) float64 8B 31.6\n",
       "  * longitude            (longitude) float64 8B -64.2\n",
       "  * time                 (time) datetime64[ns] 70kB 1998-01-01 ... 2022-01-01\n",
       "Data variables: (12/13)\n",
       "    T                    (latitude, longitude, time, depth) float64 210kB 20....\n",
       "    U                    (latitude, longitude, time, depth) float64 210kB 0.0...\n",
       "    V                    (latitude, longitude, time, depth) float64 210kB -0....\n",
       "    mnkc_epi             (latitude, longitude, time) float64 70kB 0.7326 ... ...\n",
       "    mnkc_hmlmeso         (latitude, longitude, time) float64 70kB 0.6836 ... ...\n",
       "    mnkc_lmeso           (latitude, longitude, time) float64 70kB 1.118 ... 1...\n",
       "    ...                   ...\n",
       "    mnkc_mumeso          (latitude, longitude, time) float64 70kB 0.579 ... 1...\n",
       "    mnkc_umeso           (latitude, longitude, time) float64 70kB 0.3336 ... ...\n",
       "    npp                  (latitude, longitude, time) float64 70kB 450.0 ... 2...\n",
       "    pelagic_layer_depth  (latitude, longitude, time, depth) float64 210kB 100...\n",
       "    zeu                  (latitude, longitude, time) float64 70kB 66.78 ... 7...\n",
       "    zooc                 (latitude, longitude, time) float64 70kB 0.3742 ... ...</pre><div class='xr-wrap' style='display:none'><div class='xr-header'><div class='xr-obj-type'>xarray.Dataset</div></div><ul class='xr-sections'><li class='xr-section-item'><input id='section-215935b8-015b-41ee-b5c7-78e5e458b24a' class='xr-section-summary-in' type='checkbox' disabled ><label for='section-215935b8-015b-41ee-b5c7-78e5e458b24a' class='xr-section-summary'  title='Expand/collapse section'>Dimensions:</label><div class='xr-section-inline-details'><ul class='xr-dim-list'><li><span class='xr-has-index'>latitude</span>: 1</li><li><span class='xr-has-index'>longitude</span>: 1</li><li><span class='xr-has-index'>time</span>: 8767</li><li><span class='xr-has-index'>depth</span>: 3</li></ul></div><div class='xr-section-details'></div></li><li class='xr-section-item'><input id='section-c5e8438f-ed0f-445c-9236-4d27de25dbfe' class='xr-section-summary-in' type='checkbox'  checked><label for='section-c5e8438f-ed0f-445c-9236-4d27de25dbfe' class='xr-section-summary' >Coordinates: <span>(4)</span></label><div class='xr-section-inline-details'></div><div class='xr-section-details'><ul class='xr-var-list'><li class='xr-var-item'><div class='xr-var-name'><span class='xr-has-index'>depth</span></div><div class='xr-var-dims'>(depth)</div><div class='xr-var-dtype'>int32</div><div class='xr-var-preview xr-preview'>1 2 3</div><input id='attrs-dcbf6c0a-e8a3-4998-9989-decfa917e9db' class='xr-var-attrs-in' type='checkbox' ><label for='attrs-dcbf6c0a-e8a3-4998-9989-decfa917e9db' title='Show/Hide attributes'><svg class='icon xr-icon-file-text2'><use xlink:href='#icon-file-text2'></use></svg></label><input id='data-03801c0f-d489-4ed2-8f2c-e37abdbb2969' class='xr-var-data-in' type='checkbox'><label for='data-03801c0f-d489-4ed2-8f2c-e37abdbb2969' title='Show/Hide data repr'><svg class='icon xr-icon-database'><use xlink:href='#icon-database'></use></svg></label><div class='xr-var-attrs'><dl class='xr-attrs'><dt><span>axis :</span></dt><dd>Z</dd><dt><span>comment :</span></dt><dd>In fact units are pelagic layer number; 1: epipelagic layer; 2: upper mesopelagic layer; 3: lower mesopelagic layer</dd><dt><span>long_name :</span></dt><dd>Depth</dd><dt><span>positive :</span></dt><dd>down</dd><dt><span>standard_name :</span></dt><dd>depth</dd><dt><span>units :</span></dt><dd>m</dd><dt><span>valid_max :</span></dt><dd>3</dd><dt><span>valid_min :</span></dt><dd>1</dd></dl></div><div class='xr-var-data'><pre>array([1, 2, 3], dtype=int32)</pre></div></li><li class='xr-var-item'><div class='xr-var-name'><span class='xr-has-index'>latitude</span></div><div class='xr-var-dims'>(latitude)</div><div class='xr-var-dtype'>float64</div><div class='xr-var-preview xr-preview'>31.6</div><input id='attrs-b41d179b-67d5-4951-b8dd-0a0a81786952' class='xr-var-attrs-in' type='checkbox' ><label for='attrs-b41d179b-67d5-4951-b8dd-0a0a81786952' title='Show/Hide attributes'><svg class='icon xr-icon-file-text2'><use xlink:href='#icon-file-text2'></use></svg></label><input id='data-57147148-8a6f-411d-ac7f-253811b52c01' class='xr-var-data-in' type='checkbox'><label for='data-57147148-8a6f-411d-ac7f-253811b52c01' title='Show/Hide data repr'><svg class='icon xr-icon-database'><use xlink:href='#icon-database'></use></svg></label><div class='xr-var-attrs'><dl class='xr-attrs'><dt><span>axis :</span></dt><dd>Y</dd><dt><span>standard_name :</span></dt><dd>latitude</dd><dt><span>units :</span></dt><dd>degrees_north</dd><dt><span>valid_max :</span></dt><dd>32.08333206176758</dd><dt><span>valid_min :</span></dt><dd>31.166664123535156</dd></dl></div><div class='xr-var-data'><pre>array([31.6])</pre></div></li><li class='xr-var-item'><div class='xr-var-name'><span class='xr-has-index'>longitude</span></div><div class='xr-var-dims'>(longitude)</div><div class='xr-var-dtype'>float64</div><div class='xr-var-preview xr-preview'>-64.2</div><input id='attrs-1b44cbb3-4811-4dd8-bedb-17fb7c49a4ff' class='xr-var-attrs-in' type='checkbox' ><label for='attrs-1b44cbb3-4811-4dd8-bedb-17fb7c49a4ff' title='Show/Hide attributes'><svg class='icon xr-icon-file-text2'><use xlink:href='#icon-file-text2'></use></svg></label><input id='data-b204c7f0-714d-4368-86af-ef66f613e24f' class='xr-var-data-in' type='checkbox'><label for='data-b204c7f0-714d-4368-86af-ef66f613e24f' title='Show/Hide data repr'><svg class='icon xr-icon-database'><use xlink:href='#icon-database'></use></svg></label><div class='xr-var-attrs'><dl class='xr-attrs'><dt><span>axis :</span></dt><dd>X</dd><dt><span>standard_name :</span></dt><dd>longitude</dd><dt><span>units :</span></dt><dd>degrees_east</dd><dt><span>valid_max :</span></dt><dd>-63.75</dd><dt><span>valid_min :</span></dt><dd>-64.66666412353516</dd></dl></div><div class='xr-var-data'><pre>array([-64.2])</pre></div></li><li class='xr-var-item'><div class='xr-var-name'><span class='xr-has-index'>time</span></div><div class='xr-var-dims'>(time)</div><div class='xr-var-dtype'>datetime64[ns]</div><div class='xr-var-preview xr-preview'>1998-01-01 ... 2022-01-01</div><input id='attrs-67bc4e81-584f-44f2-9ce1-62351dfa1491' class='xr-var-attrs-in' type='checkbox' ><label for='attrs-67bc4e81-584f-44f2-9ce1-62351dfa1491' title='Show/Hide attributes'><svg class='icon xr-icon-file-text2'><use xlink:href='#icon-file-text2'></use></svg></label><input id='data-cb01cd9f-7b1a-4847-b2db-a33127d536e7' class='xr-var-data-in' type='checkbox'><label for='data-cb01cd9f-7b1a-4847-b2db-a33127d536e7' title='Show/Hide data repr'><svg class='icon xr-icon-database'><use xlink:href='#icon-database'></use></svg></label><div class='xr-var-attrs'><dl class='xr-attrs'><dt><span>valid_max :</span></dt><dd>1672444800</dd><dt><span>valid_min :</span></dt><dd>883612800</dd><dt><span>axis :</span></dt><dd>T</dd></dl></div><div class='xr-var-data'><pre>array([&#x27;1998-01-01T00:00:00.000000000&#x27;, &#x27;1998-01-02T00:00:00.000000000&#x27;,\n",
       "       &#x27;1998-01-03T00:00:00.000000000&#x27;, ..., &#x27;2021-12-30T00:00:00.000000000&#x27;,\n",
       "       &#x27;2021-12-31T00:00:00.000000000&#x27;, &#x27;2022-01-01T00:00:00.000000000&#x27;],\n",
       "      dtype=&#x27;datetime64[ns]&#x27;)</pre></div></li></ul></div></li><li class='xr-section-item'><input id='section-5cce3427-e634-46ef-8a93-80f67317692d' class='xr-section-summary-in' type='checkbox'  checked><label for='section-5cce3427-e634-46ef-8a93-80f67317692d' class='xr-section-summary' >Data variables: <span>(13)</span></label><div class='xr-section-inline-details'></div><div class='xr-section-details'><ul class='xr-var-list'><li class='xr-var-item'><div class='xr-var-name'><span>T</span></div><div class='xr-var-dims'>(latitude, longitude, time, depth)</div><div class='xr-var-dtype'>float64</div><div class='xr-var-preview xr-preview'>20.51 19.1 16.86 ... 19.49 15.32</div><input id='attrs-52441ff7-a0d9-4533-ab1d-cc1775c5c59f' class='xr-var-attrs-in' type='checkbox' ><label for='attrs-52441ff7-a0d9-4533-ab1d-cc1775c5c59f' title='Show/Hide attributes'><svg class='icon xr-icon-file-text2'><use xlink:href='#icon-file-text2'></use></svg></label><input id='data-055c62b0-0d41-4dae-96e8-ecedd7a33c7a' class='xr-var-data-in' type='checkbox'><label for='data-055c62b0-0d41-4dae-96e8-ecedd7a33c7a' title='Show/Hide data repr'><svg class='icon xr-icon-database'><use xlink:href='#icon-database'></use></svg></label><div class='xr-var-attrs'><dl class='xr-attrs'><dt><span>units :</span></dt><dd>degree_Celsius</dd></dl></div><div class='xr-var-data'><pre>array([[[[20.51211445, 19.1010322 , 16.8604747 ],\n",
       "         [20.31378345, 19.04885421, 16.84353735],\n",
       "         [20.17628124, 19.0504933 , 16.68454473],\n",
       "         ...,\n",
       "         [21.87930527, 19.37758465, 14.9782425 ],\n",
       "         [21.91418166, 19.30655702, 14.45901231],\n",
       "         [22.06980502, 19.49050037, 15.32190696]]]])</pre></div></li><li class='xr-var-item'><div class='xr-var-name'><span>U</span></div><div class='xr-var-dims'>(latitude, longitude, time, depth)</div><div class='xr-var-dtype'>float64</div><div class='xr-var-preview xr-preview'>0.08066 0.03671 ... 0.08947 0.1082</div><input id='attrs-09d82d3a-4207-430d-ada4-37a538b38b13' class='xr-var-attrs-in' type='checkbox' disabled><label for='attrs-09d82d3a-4207-430d-ada4-37a538b38b13' title='Show/Hide attributes'><svg class='icon xr-icon-file-text2'><use xlink:href='#icon-file-text2'></use></svg></label><input id='data-587310f1-9f7e-43d3-a7a3-d94c7129696b' class='xr-var-data-in' type='checkbox'><label for='data-587310f1-9f7e-43d3-a7a3-d94c7129696b' title='Show/Hide data repr'><svg class='icon xr-icon-database'><use xlink:href='#icon-database'></use></svg></label><div class='xr-var-attrs'><dl class='xr-attrs'></dl></div><div class='xr-var-data'><pre>array([[[[ 0.0806616 ,  0.03670746, -0.02888433],\n",
       "         [ 0.07583223,  0.06510794,  0.00712971],\n",
       "         [ 0.08008586,  0.08481211,  0.05660928],\n",
       "         ...,\n",
       "         [ 0.16187581,  0.10117354,  0.10073529],\n",
       "         [ 0.14172478,  0.09128278,  0.10150008],\n",
       "         [ 0.12663515,  0.08946962,  0.10821136]]]])</pre></div></li><li class='xr-var-item'><div class='xr-var-name'><span>V</span></div><div class='xr-var-dims'>(latitude, longitude, time, depth)</div><div class='xr-var-dtype'>float64</div><div class='xr-var-preview xr-preview'>-0.1034 -0.09259 ... 0.02328</div><input id='attrs-05980694-8a44-4056-9548-9e186efcf114' class='xr-var-attrs-in' type='checkbox' disabled><label for='attrs-05980694-8a44-4056-9548-9e186efcf114' title='Show/Hide attributes'><svg class='icon xr-icon-file-text2'><use xlink:href='#icon-file-text2'></use></svg></label><input id='data-ddce2b39-6684-4dff-818f-a8580f001c74' class='xr-var-data-in' type='checkbox'><label for='data-ddce2b39-6684-4dff-818f-a8580f001c74' title='Show/Hide data repr'><svg class='icon xr-icon-database'><use xlink:href='#icon-database'></use></svg></label><div class='xr-var-attrs'><dl class='xr-attrs'></dl></div><div class='xr-var-data'><pre>array([[[[-0.10337433, -0.09258738, -0.10879782],\n",
       "         [-0.05903576, -0.10115289, -0.11612254],\n",
       "         [-0.06137727, -0.09405832, -0.09984205],\n",
       "         ...,\n",
       "         [-0.0258744 ,  0.0031443 , -0.00254937],\n",
       "         [-0.0125358 ,  0.02153615,  0.00790737],\n",
       "         [ 0.01961491,  0.03842703,  0.02327727]]]])</pre></div></li><li class='xr-var-item'><div class='xr-var-name'><span>mnkc_epi</span></div><div class='xr-var-dims'>(latitude, longitude, time)</div><div class='xr-var-dtype'>float64</div><div class='xr-var-preview xr-preview'>0.7326 0.7558 0.7467 ... 1.31 1.395</div><input id='attrs-77a0eb3d-2460-4928-9021-193e8378d2d8' class='xr-var-attrs-in' type='checkbox' disabled><label for='attrs-77a0eb3d-2460-4928-9021-193e8378d2d8' title='Show/Hide attributes'><svg class='icon xr-icon-file-text2'><use xlink:href='#icon-file-text2'></use></svg></label><input id='data-283a4277-d3e8-4e2f-a0b2-ed2a88d25c82' class='xr-var-data-in' type='checkbox'><label for='data-283a4277-d3e8-4e2f-a0b2-ed2a88d25c82' title='Show/Hide data repr'><svg class='icon xr-icon-database'><use xlink:href='#icon-database'></use></svg></label><div class='xr-var-attrs'><dl class='xr-attrs'></dl></div><div class='xr-var-data'><pre>array([[[0.73258019, 0.75582066, 0.74672656, ..., 1.18425373,\n",
       "         1.30955019, 1.39543889]]])</pre></div></li><li class='xr-var-item'><div class='xr-var-name'><span>mnkc_hmlmeso</span></div><div class='xr-var-dims'>(latitude, longitude, time)</div><div class='xr-var-dtype'>float64</div><div class='xr-var-preview xr-preview'>0.6836 0.68 0.6656 ... 1.047 1.108</div><input id='attrs-802da92e-e18b-4ff8-8190-d30b5a672cdb' class='xr-var-attrs-in' type='checkbox' disabled><label for='attrs-802da92e-e18b-4ff8-8190-d30b5a672cdb' title='Show/Hide attributes'><svg class='icon xr-icon-file-text2'><use xlink:href='#icon-file-text2'></use></svg></label><input id='data-84a1dc14-f592-42e1-abe5-c4d9473d6f16' class='xr-var-data-in' type='checkbox'><label for='data-84a1dc14-f592-42e1-abe5-c4d9473d6f16' title='Show/Hide data repr'><svg class='icon xr-icon-database'><use xlink:href='#icon-database'></use></svg></label><div class='xr-var-attrs'><dl class='xr-attrs'></dl></div><div class='xr-var-data'><pre>array([[[0.68355685, 0.67995863, 0.66556575, ..., 0.9552224 ,\n",
       "         1.04697699, 1.10814671]]])</pre></div></li><li class='xr-var-item'><div class='xr-var-name'><span>mnkc_lmeso</span></div><div class='xr-var-dims'>(latitude, longitude, time)</div><div class='xr-var-dtype'>float64</div><div class='xr-var-preview xr-preview'>1.118 1.045 0.9603 ... 1.6 1.462</div><input id='attrs-68e41c56-871b-463f-9fd5-7c4201bee70c' class='xr-var-attrs-in' type='checkbox' disabled><label for='attrs-68e41c56-871b-463f-9fd5-7c4201bee70c' title='Show/Hide attributes'><svg class='icon xr-icon-file-text2'><use xlink:href='#icon-file-text2'></use></svg></label><input id='data-f354687a-2404-463e-9210-ac269654cf6c' class='xr-var-data-in' type='checkbox'><label for='data-f354687a-2404-463e-9210-ac269654cf6c' title='Show/Hide data repr'><svg class='icon xr-icon-database'><use xlink:href='#icon-database'></use></svg></label><div class='xr-var-attrs'><dl class='xr-attrs'></dl></div><div class='xr-var-data'><pre>array([[[1.11793016, 1.0448794 , 0.96034924, ..., 1.64076486,\n",
       "         1.59954336, 1.4623123 ]]])</pre></div></li><li class='xr-var-item'><div class='xr-var-name'><span>mnkc_mlmeso</span></div><div class='xr-var-dims'>(latitude, longitude, time)</div><div class='xr-var-dtype'>float64</div><div class='xr-var-preview xr-preview'>0.5543 0.4991 ... 1.032 0.8975</div><input id='attrs-1455beb2-929a-48d4-be56-84b39834a55e' class='xr-var-attrs-in' type='checkbox' disabled><label for='attrs-1455beb2-929a-48d4-be56-84b39834a55e' title='Show/Hide attributes'><svg class='icon xr-icon-file-text2'><use xlink:href='#icon-file-text2'></use></svg></label><input id='data-d7b6e183-7a5b-4bc2-b3cd-9c1611ceeefc' class='xr-var-data-in' type='checkbox'><label for='data-d7b6e183-7a5b-4bc2-b3cd-9c1611ceeefc' title='Show/Hide data repr'><svg class='icon xr-icon-database'><use xlink:href='#icon-database'></use></svg></label><div class='xr-var-attrs'><dl class='xr-attrs'></dl></div><div class='xr-var-data'><pre>array([[[0.5542729 , 0.49911113, 0.49465362, ..., 1.06354416,\n",
       "         1.03234154, 0.89750167]]])</pre></div></li><li class='xr-var-item'><div class='xr-var-name'><span>mnkc_mumeso</span></div><div class='xr-var-dims'>(latitude, longitude, time)</div><div class='xr-var-dtype'>float64</div><div class='xr-var-preview xr-preview'>0.579 0.5983 0.6176 ... 1.139 1.158</div><input id='attrs-8409c525-dbc1-4ef3-ab14-2d1fee264320' class='xr-var-attrs-in' type='checkbox' disabled><label for='attrs-8409c525-dbc1-4ef3-ab14-2d1fee264320' title='Show/Hide attributes'><svg class='icon xr-icon-file-text2'><use xlink:href='#icon-file-text2'></use></svg></label><input id='data-1327b65b-cbc5-49ba-8481-136bd8342d7c' class='xr-var-data-in' type='checkbox'><label for='data-1327b65b-cbc5-49ba-8481-136bd8342d7c' title='Show/Hide data repr'><svg class='icon xr-icon-database'><use xlink:href='#icon-database'></use></svg></label><div class='xr-var-attrs'><dl class='xr-attrs'></dl></div><div class='xr-var-data'><pre>array([[[0.57900871, 0.59830896, 0.61760921, ..., 1.00361423,\n",
       "         1.13871598, 1.15801623]]])</pre></div></li><li class='xr-var-item'><div class='xr-var-name'><span>mnkc_umeso</span></div><div class='xr-var-dims'>(latitude, longitude, time)</div><div class='xr-var-dtype'>float64</div><div class='xr-var-preview xr-preview'>0.3336 0.3262 ... 0.7413 0.6276</div><input id='attrs-34166fc5-73dc-437c-990e-ab8b4eb11996' class='xr-var-attrs-in' type='checkbox' disabled><label for='attrs-34166fc5-73dc-437c-990e-ab8b4eb11996' title='Show/Hide attributes'><svg class='icon xr-icon-file-text2'><use xlink:href='#icon-file-text2'></use></svg></label><input id='data-07ebcf43-b0aa-4e52-afdb-66c6d64bffd5' class='xr-var-data-in' type='checkbox'><label for='data-07ebcf43-b0aa-4e52-afdb-66c6d64bffd5' title='Show/Hide data repr'><svg class='icon xr-icon-database'><use xlink:href='#icon-database'></use></svg></label><div class='xr-var-attrs'><dl class='xr-attrs'></dl></div><div class='xr-var-data'><pre>array([[[0.33357269, 0.32615997, 0.3360436 , ..., 0.76845245,\n",
       "         0.74127246, 0.62761071]]])</pre></div></li><li class='xr-var-item'><div class='xr-var-name'><span>npp</span></div><div class='xr-var-dims'>(latitude, longitude, time)</div><div class='xr-var-dtype'>float64</div><div class='xr-var-preview xr-preview'>450.0 435.5 459.8 ... 255.3 294.5</div><input id='attrs-d79c8230-e022-4ddc-8178-4d9bd64bdc38' class='xr-var-attrs-in' type='checkbox' disabled><label for='attrs-d79c8230-e022-4ddc-8178-4d9bd64bdc38' title='Show/Hide attributes'><svg class='icon xr-icon-file-text2'><use xlink:href='#icon-file-text2'></use></svg></label><input id='data-82b10f1c-4976-4a8e-a55c-f32cad3e12f9' class='xr-var-data-in' type='checkbox'><label for='data-82b10f1c-4976-4a8e-a55c-f32cad3e12f9' title='Show/Hide data repr'><svg class='icon xr-icon-database'><use xlink:href='#icon-database'></use></svg></label><div class='xr-var-attrs'><dl class='xr-attrs'></dl></div><div class='xr-var-data'><pre>array([[[450.0096169 , 435.54171524, 459.84779004, ..., 273.5012166 ,\n",
       "         255.2716605 , 294.50860981]]])</pre></div></li><li class='xr-var-item'><div class='xr-var-name'><span>pelagic_layer_depth</span></div><div class='xr-var-dims'>(latitude, longitude, time, depth)</div><div class='xr-var-dtype'>float64</div><div class='xr-var-preview xr-preview'>100.6 301.8 704.3 ... 351.7 820.7</div><input id='attrs-264d4460-a806-432a-9b47-5b203a28fa6b' class='xr-var-attrs-in' type='checkbox' disabled><label for='attrs-264d4460-a806-432a-9b47-5b203a28fa6b' title='Show/Hide attributes'><svg class='icon xr-icon-file-text2'><use xlink:href='#icon-file-text2'></use></svg></label><input id='data-2d13532d-f7ff-4638-a55e-c46643f12666' class='xr-var-data-in' type='checkbox'><label for='data-2d13532d-f7ff-4638-a55e-c46643f12666' title='Show/Hide data repr'><svg class='icon xr-icon-database'><use xlink:href='#icon-database'></use></svg></label><div class='xr-var-attrs'><dl class='xr-attrs'></dl></div><div class='xr-var-data'><pre>array([[[[100.60614871, 301.82047921, 704.25164616],\n",
       "         [100.05484224, 300.16405387, 700.38247714],\n",
       "         [100.42070926, 301.26165493, 702.93853439],\n",
       "         ...,\n",
       "         [121.49314596, 364.48397692, 850.46563883],\n",
       "         [125.88104425, 377.63263614, 881.12579618],\n",
       "         [117.24056836, 351.71371441, 820.66251245]]]])</pre></div></li><li class='xr-var-item'><div class='xr-var-name'><span>zeu</span></div><div class='xr-var-dims'>(latitude, longitude, time)</div><div class='xr-var-dtype'>float64</div><div class='xr-var-preview xr-preview'>66.78 66.45 66.63 ... 83.92 78.48</div><input id='attrs-fc7a8485-b6e9-4fe9-b4ae-9cd76e271618' class='xr-var-attrs-in' type='checkbox' disabled><label for='attrs-fc7a8485-b6e9-4fe9-b4ae-9cd76e271618' title='Show/Hide attributes'><svg class='icon xr-icon-file-text2'><use xlink:href='#icon-file-text2'></use></svg></label><input id='data-eef8ec51-ef1c-44bc-aeff-df0f1e4495a1' class='xr-var-data-in' type='checkbox'><label for='data-eef8ec51-ef1c-44bc-aeff-df0f1e4495a1' title='Show/Hide data repr'><svg class='icon xr-icon-database'><use xlink:href='#icon-database'></use></svg></label><div class='xr-var-attrs'><dl class='xr-attrs'></dl></div><div class='xr-var-data'><pre>array([[[66.7802204 , 66.45091712, 66.62987701, ..., 80.88260162,\n",
       "         83.92193001, 78.48265977]]])</pre></div></li><li class='xr-var-item'><div class='xr-var-name'><span>zooc</span></div><div class='xr-var-dims'>(latitude, longitude, time)</div><div class='xr-var-dtype'>float64</div><div class='xr-var-preview xr-preview'>0.3742 0.4487 ... 0.505 0.4653</div><input id='attrs-35b7cab9-3346-4162-8e14-191dbe441493' class='xr-var-attrs-in' type='checkbox' disabled><label for='attrs-35b7cab9-3346-4162-8e14-191dbe441493' title='Show/Hide attributes'><svg class='icon xr-icon-file-text2'><use xlink:href='#icon-file-text2'></use></svg></label><input id='data-dc5a0d65-7ff6-474b-9feb-5bc658e59451' class='xr-var-data-in' type='checkbox'><label for='data-dc5a0d65-7ff6-474b-9feb-5bc658e59451' title='Show/Hide data repr'><svg class='icon xr-icon-database'><use xlink:href='#icon-database'></use></svg></label><div class='xr-var-attrs'><dl class='xr-attrs'></dl></div><div class='xr-var-data'><pre>array([[[0.37423876, 0.44865302, 0.5042831 , ..., 0.49778088,\n",
       "         0.50500557, 0.4652698 ]]])</pre></div></li></ul></div></li><li class='xr-section-item'><input id='section-25c53f29-a1f4-4b0c-9f51-ddb6811cd360' class='xr-section-summary-in' type='checkbox'  ><label for='section-25c53f29-a1f4-4b0c-9f51-ddb6811cd360' class='xr-section-summary' >Indexes: <span>(4)</span></label><div class='xr-section-inline-details'></div><div class='xr-section-details'><ul class='xr-var-list'><li class='xr-var-item'><div class='xr-index-name'><div>depth</div></div><div class='xr-index-preview'>PandasIndex</div><div></div><input id='index-f6d89489-3db9-4c23-9257-21dd2b96b6be' class='xr-index-data-in' type='checkbox'/><label for='index-f6d89489-3db9-4c23-9257-21dd2b96b6be' title='Show/Hide index repr'><svg class='icon xr-icon-database'><use xlink:href='#icon-database'></use></svg></label><div class='xr-index-data'><pre>PandasIndex(Index([1, 2, 3], dtype=&#x27;int32&#x27;, name=&#x27;depth&#x27;))</pre></div></li><li class='xr-var-item'><div class='xr-index-name'><div>latitude</div></div><div class='xr-index-preview'>PandasIndex</div><div></div><input id='index-b6e7430e-c636-47fa-a847-5f3a5e7c8ede' class='xr-index-data-in' type='checkbox'/><label for='index-b6e7430e-c636-47fa-a847-5f3a5e7c8ede' title='Show/Hide index repr'><svg class='icon xr-icon-database'><use xlink:href='#icon-database'></use></svg></label><div class='xr-index-data'><pre>PandasIndex(Index([31.6], dtype=&#x27;float64&#x27;, name=&#x27;latitude&#x27;))</pre></div></li><li class='xr-var-item'><div class='xr-index-name'><div>longitude</div></div><div class='xr-index-preview'>PandasIndex</div><div></div><input id='index-81298e66-17d5-404a-87df-515362a62b9f' class='xr-index-data-in' type='checkbox'/><label for='index-81298e66-17d5-404a-87df-515362a62b9f' title='Show/Hide index repr'><svg class='icon xr-icon-database'><use xlink:href='#icon-database'></use></svg></label><div class='xr-index-data'><pre>PandasIndex(Index([-64.2], dtype=&#x27;float64&#x27;, name=&#x27;longitude&#x27;))</pre></div></li><li class='xr-var-item'><div class='xr-index-name'><div>time</div></div><div class='xr-index-preview'>PandasIndex</div><div></div><input id='index-201976be-f68c-42e9-bd72-008369c42c64' class='xr-index-data-in' type='checkbox'/><label for='index-201976be-f68c-42e9-bd72-008369c42c64' title='Show/Hide index repr'><svg class='icon xr-icon-database'><use xlink:href='#icon-database'></use></svg></label><div class='xr-index-data'><pre>PandasIndex(DatetimeIndex([&#x27;1998-01-01&#x27;, &#x27;1998-01-02&#x27;, &#x27;1998-01-03&#x27;, &#x27;1998-01-04&#x27;,\n",
       "               &#x27;1998-01-05&#x27;, &#x27;1998-01-06&#x27;, &#x27;1998-01-07&#x27;, &#x27;1998-01-08&#x27;,\n",
       "               &#x27;1998-01-09&#x27;, &#x27;1998-01-10&#x27;,\n",
       "               ...\n",
       "               &#x27;2021-12-23&#x27;, &#x27;2021-12-24&#x27;, &#x27;2021-12-25&#x27;, &#x27;2021-12-26&#x27;,\n",
       "               &#x27;2021-12-27&#x27;, &#x27;2021-12-28&#x27;, &#x27;2021-12-29&#x27;, &#x27;2021-12-30&#x27;,\n",
       "               &#x27;2021-12-31&#x27;, &#x27;2022-01-01&#x27;],\n",
       "              dtype=&#x27;datetime64[ns]&#x27;, name=&#x27;time&#x27;, length=8767, freq=None))</pre></div></li></ul></div></li><li class='xr-section-item'><input id='section-f3075c4d-07e7-4f8c-8533-47ca2bbc20a4' class='xr-section-summary-in' type='checkbox' disabled ><label for='section-f3075c4d-07e7-4f8c-8533-47ca2bbc20a4' class='xr-section-summary'  title='Expand/collapse section'>Attributes: <span>(0)</span></label><div class='xr-section-inline-details'></div><div class='xr-section-details'><dl class='xr-attrs'></dl></div></li></ul></div></div>"
      ],
      "text/plain": [
       "<xarray.Dataset> Size: 2MB\n",
       "Dimensions:              (latitude: 1, longitude: 1, time: 8767, depth: 3)\n",
       "Coordinates:\n",
       "  * depth                (depth) int32 12B 1 2 3\n",
       "  * latitude             (latitude) float64 8B 31.6\n",
       "  * longitude            (longitude) float64 8B -64.2\n",
       "  * time                 (time) datetime64[ns] 70kB 1998-01-01 ... 2022-01-01\n",
       "Data variables: (12/13)\n",
       "    T                    (latitude, longitude, time, depth) float64 210kB 20....\n",
       "    U                    (latitude, longitude, time, depth) float64 210kB 0.0...\n",
       "    V                    (latitude, longitude, time, depth) float64 210kB -0....\n",
       "    mnkc_epi             (latitude, longitude, time) float64 70kB 0.7326 ... ...\n",
       "    mnkc_hmlmeso         (latitude, longitude, time) float64 70kB 0.6836 ... ...\n",
       "    mnkc_lmeso           (latitude, longitude, time) float64 70kB 1.118 ... 1...\n",
       "    ...                   ...\n",
       "    mnkc_mumeso          (latitude, longitude, time) float64 70kB 0.579 ... 1...\n",
       "    mnkc_umeso           (latitude, longitude, time) float64 70kB 0.3336 ... ...\n",
       "    npp                  (latitude, longitude, time) float64 70kB 450.0 ... 2...\n",
       "    pelagic_layer_depth  (latitude, longitude, time, depth) float64 210kB 100...\n",
       "    zeu                  (latitude, longitude, time) float64 70kB 66.78 ... 7...\n",
       "    zooc                 (latitude, longitude, time) float64 70kB 0.3742 ... ..."
      ]
     },
     "execution_count": 3,
     "metadata": {},
     "output_type": "execute_result"
    }
   ],
   "source": [
    "bats_data"
   ]
  },
  {
   "cell_type": "code",
   "execution_count": 4,
   "metadata": {},
   "outputs": [
    {
     "data": {
      "text/html": [
       "<div><svg style=\"position: absolute; width: 0; height: 0; overflow: hidden\">\n",
       "<defs>\n",
       "<symbol id=\"icon-database\" viewBox=\"0 0 32 32\">\n",
       "<path d=\"M16 0c-8.837 0-16 2.239-16 5v4c0 2.761 7.163 5 16 5s16-2.239 16-5v-4c0-2.761-7.163-5-16-5z\"></path>\n",
       "<path d=\"M16 17c-8.837 0-16-2.239-16-5v6c0 2.761 7.163 5 16 5s16-2.239 16-5v-6c0 2.761-7.163 5-16 5z\"></path>\n",
       "<path d=\"M16 26c-8.837 0-16-2.239-16-5v6c0 2.761 7.163 5 16 5s16-2.239 16-5v-6c0 2.761-7.163 5-16 5z\"></path>\n",
       "</symbol>\n",
       "<symbol id=\"icon-file-text2\" viewBox=\"0 0 32 32\">\n",
       "<path d=\"M28.681 7.159c-0.694-0.947-1.662-2.053-2.724-3.116s-2.169-2.030-3.116-2.724c-1.612-1.182-2.393-1.319-2.841-1.319h-15.5c-1.378 0-2.5 1.121-2.5 2.5v27c0 1.378 1.122 2.5 2.5 2.5h23c1.378 0 2.5-1.122 2.5-2.5v-19.5c0-0.448-0.137-1.23-1.319-2.841zM24.543 5.457c0.959 0.959 1.712 1.825 2.268 2.543h-4.811v-4.811c0.718 0.556 1.584 1.309 2.543 2.268zM28 29.5c0 0.271-0.229 0.5-0.5 0.5h-23c-0.271 0-0.5-0.229-0.5-0.5v-27c0-0.271 0.229-0.5 0.5-0.5 0 0 15.499-0 15.5 0v7c0 0.552 0.448 1 1 1h7v19.5z\"></path>\n",
       "<path d=\"M23 26h-14c-0.552 0-1-0.448-1-1s0.448-1 1-1h14c0.552 0 1 0.448 1 1s-0.448 1-1 1z\"></path>\n",
       "<path d=\"M23 22h-14c-0.552 0-1-0.448-1-1s0.448-1 1-1h14c0.552 0 1 0.448 1 1s-0.448 1-1 1z\"></path>\n",
       "<path d=\"M23 18h-14c-0.552 0-1-0.448-1-1s0.448-1 1-1h14c0.552 0 1 0.448 1 1s-0.448 1-1 1z\"></path>\n",
       "</symbol>\n",
       "</defs>\n",
       "</svg>\n",
       "<style>/* CSS stylesheet for displaying xarray objects in jupyterlab.\n",
       " *\n",
       " */\n",
       "\n",
       ":root {\n",
       "  --xr-font-color0: var(--jp-content-font-color0, rgba(0, 0, 0, 1));\n",
       "  --xr-font-color2: var(--jp-content-font-color2, rgba(0, 0, 0, 0.54));\n",
       "  --xr-font-color3: var(--jp-content-font-color3, rgba(0, 0, 0, 0.38));\n",
       "  --xr-border-color: var(--jp-border-color2, #e0e0e0);\n",
       "  --xr-disabled-color: var(--jp-layout-color3, #bdbdbd);\n",
       "  --xr-background-color: var(--jp-layout-color0, white);\n",
       "  --xr-background-color-row-even: var(--jp-layout-color1, white);\n",
       "  --xr-background-color-row-odd: var(--jp-layout-color2, #eeeeee);\n",
       "}\n",
       "\n",
       "html[theme=dark],\n",
       "html[data-theme=dark],\n",
       "body[data-theme=dark],\n",
       "body.vscode-dark {\n",
       "  --xr-font-color0: rgba(255, 255, 255, 1);\n",
       "  --xr-font-color2: rgba(255, 255, 255, 0.54);\n",
       "  --xr-font-color3: rgba(255, 255, 255, 0.38);\n",
       "  --xr-border-color: #1F1F1F;\n",
       "  --xr-disabled-color: #515151;\n",
       "  --xr-background-color: #111111;\n",
       "  --xr-background-color-row-even: #111111;\n",
       "  --xr-background-color-row-odd: #313131;\n",
       "}\n",
       "\n",
       ".xr-wrap {\n",
       "  display: block !important;\n",
       "  min-width: 300px;\n",
       "  max-width: 700px;\n",
       "}\n",
       "\n",
       ".xr-text-repr-fallback {\n",
       "  /* fallback to plain text repr when CSS is not injected (untrusted notebook) */\n",
       "  display: none;\n",
       "}\n",
       "\n",
       ".xr-header {\n",
       "  padding-top: 6px;\n",
       "  padding-bottom: 6px;\n",
       "  margin-bottom: 4px;\n",
       "  border-bottom: solid 1px var(--xr-border-color);\n",
       "}\n",
       "\n",
       ".xr-header > div,\n",
       ".xr-header > ul {\n",
       "  display: inline;\n",
       "  margin-top: 0;\n",
       "  margin-bottom: 0;\n",
       "}\n",
       "\n",
       ".xr-obj-type,\n",
       ".xr-array-name {\n",
       "  margin-left: 2px;\n",
       "  margin-right: 10px;\n",
       "}\n",
       "\n",
       ".xr-obj-type {\n",
       "  color: var(--xr-font-color2);\n",
       "}\n",
       "\n",
       ".xr-sections {\n",
       "  padding-left: 0 !important;\n",
       "  display: grid;\n",
       "  grid-template-columns: 150px auto auto 1fr 0 20px 0 20px;\n",
       "}\n",
       "\n",
       ".xr-section-item {\n",
       "  display: contents;\n",
       "}\n",
       "\n",
       ".xr-section-item input {\n",
       "  display: inline-block;\n",
       "  opacity: 0;\n",
       "}\n",
       "\n",
       ".xr-section-item input + label {\n",
       "  color: var(--xr-disabled-color);\n",
       "}\n",
       "\n",
       ".xr-section-item input:enabled + label {\n",
       "  cursor: pointer;\n",
       "  color: var(--xr-font-color2);\n",
       "}\n",
       "\n",
       ".xr-section-item input:focus + label {\n",
       "  border: 2px solid var(--xr-font-color0);\n",
       "}\n",
       "\n",
       ".xr-section-item input:enabled + label:hover {\n",
       "  color: var(--xr-font-color0);\n",
       "}\n",
       "\n",
       ".xr-section-summary {\n",
       "  grid-column: 1;\n",
       "  color: var(--xr-font-color2);\n",
       "  font-weight: 500;\n",
       "}\n",
       "\n",
       ".xr-section-summary > span {\n",
       "  display: inline-block;\n",
       "  padding-left: 0.5em;\n",
       "}\n",
       "\n",
       ".xr-section-summary-in:disabled + label {\n",
       "  color: var(--xr-font-color2);\n",
       "}\n",
       "\n",
       ".xr-section-summary-in + label:before {\n",
       "  display: inline-block;\n",
       "  content: '►';\n",
       "  font-size: 11px;\n",
       "  width: 15px;\n",
       "  text-align: center;\n",
       "}\n",
       "\n",
       ".xr-section-summary-in:disabled + label:before {\n",
       "  color: var(--xr-disabled-color);\n",
       "}\n",
       "\n",
       ".xr-section-summary-in:checked + label:before {\n",
       "  content: '▼';\n",
       "}\n",
       "\n",
       ".xr-section-summary-in:checked + label > span {\n",
       "  display: none;\n",
       "}\n",
       "\n",
       ".xr-section-summary,\n",
       ".xr-section-inline-details {\n",
       "  padding-top: 4px;\n",
       "  padding-bottom: 4px;\n",
       "}\n",
       "\n",
       ".xr-section-inline-details {\n",
       "  grid-column: 2 / -1;\n",
       "}\n",
       "\n",
       ".xr-section-details {\n",
       "  display: none;\n",
       "  grid-column: 1 / -1;\n",
       "  margin-bottom: 5px;\n",
       "}\n",
       "\n",
       ".xr-section-summary-in:checked ~ .xr-section-details {\n",
       "  display: contents;\n",
       "}\n",
       "\n",
       ".xr-array-wrap {\n",
       "  grid-column: 1 / -1;\n",
       "  display: grid;\n",
       "  grid-template-columns: 20px auto;\n",
       "}\n",
       "\n",
       ".xr-array-wrap > label {\n",
       "  grid-column: 1;\n",
       "  vertical-align: top;\n",
       "}\n",
       "\n",
       ".xr-preview {\n",
       "  color: var(--xr-font-color3);\n",
       "}\n",
       "\n",
       ".xr-array-preview,\n",
       ".xr-array-data {\n",
       "  padding: 0 5px !important;\n",
       "  grid-column: 2;\n",
       "}\n",
       "\n",
       ".xr-array-data,\n",
       ".xr-array-in:checked ~ .xr-array-preview {\n",
       "  display: none;\n",
       "}\n",
       "\n",
       ".xr-array-in:checked ~ .xr-array-data,\n",
       ".xr-array-preview {\n",
       "  display: inline-block;\n",
       "}\n",
       "\n",
       ".xr-dim-list {\n",
       "  display: inline-block !important;\n",
       "  list-style: none;\n",
       "  padding: 0 !important;\n",
       "  margin: 0;\n",
       "}\n",
       "\n",
       ".xr-dim-list li {\n",
       "  display: inline-block;\n",
       "  padding: 0;\n",
       "  margin: 0;\n",
       "}\n",
       "\n",
       ".xr-dim-list:before {\n",
       "  content: '(';\n",
       "}\n",
       "\n",
       ".xr-dim-list:after {\n",
       "  content: ')';\n",
       "}\n",
       "\n",
       ".xr-dim-list li:not(:last-child):after {\n",
       "  content: ',';\n",
       "  padding-right: 5px;\n",
       "}\n",
       "\n",
       ".xr-has-index {\n",
       "  font-weight: bold;\n",
       "}\n",
       "\n",
       ".xr-var-list,\n",
       ".xr-var-item {\n",
       "  display: contents;\n",
       "}\n",
       "\n",
       ".xr-var-item > div,\n",
       ".xr-var-item label,\n",
       ".xr-var-item > .xr-var-name span {\n",
       "  background-color: var(--xr-background-color-row-even);\n",
       "  margin-bottom: 0;\n",
       "}\n",
       "\n",
       ".xr-var-item > .xr-var-name:hover span {\n",
       "  padding-right: 5px;\n",
       "}\n",
       "\n",
       ".xr-var-list > li:nth-child(odd) > div,\n",
       ".xr-var-list > li:nth-child(odd) > label,\n",
       ".xr-var-list > li:nth-child(odd) > .xr-var-name span {\n",
       "  background-color: var(--xr-background-color-row-odd);\n",
       "}\n",
       "\n",
       ".xr-var-name {\n",
       "  grid-column: 1;\n",
       "}\n",
       "\n",
       ".xr-var-dims {\n",
       "  grid-column: 2;\n",
       "}\n",
       "\n",
       ".xr-var-dtype {\n",
       "  grid-column: 3;\n",
       "  text-align: right;\n",
       "  color: var(--xr-font-color2);\n",
       "}\n",
       "\n",
       ".xr-var-preview {\n",
       "  grid-column: 4;\n",
       "}\n",
       "\n",
       ".xr-index-preview {\n",
       "  grid-column: 2 / 5;\n",
       "  color: var(--xr-font-color2);\n",
       "}\n",
       "\n",
       ".xr-var-name,\n",
       ".xr-var-dims,\n",
       ".xr-var-dtype,\n",
       ".xr-preview,\n",
       ".xr-attrs dt {\n",
       "  white-space: nowrap;\n",
       "  overflow: hidden;\n",
       "  text-overflow: ellipsis;\n",
       "  padding-right: 10px;\n",
       "}\n",
       "\n",
       ".xr-var-name:hover,\n",
       ".xr-var-dims:hover,\n",
       ".xr-var-dtype:hover,\n",
       ".xr-attrs dt:hover {\n",
       "  overflow: visible;\n",
       "  width: auto;\n",
       "  z-index: 1;\n",
       "}\n",
       "\n",
       ".xr-var-attrs,\n",
       ".xr-var-data,\n",
       ".xr-index-data {\n",
       "  display: none;\n",
       "  background-color: var(--xr-background-color) !important;\n",
       "  padding-bottom: 5px !important;\n",
       "}\n",
       "\n",
       ".xr-var-attrs-in:checked ~ .xr-var-attrs,\n",
       ".xr-var-data-in:checked ~ .xr-var-data,\n",
       ".xr-index-data-in:checked ~ .xr-index-data {\n",
       "  display: block;\n",
       "}\n",
       "\n",
       ".xr-var-data > table {\n",
       "  float: right;\n",
       "}\n",
       "\n",
       ".xr-var-name span,\n",
       ".xr-var-data,\n",
       ".xr-index-name div,\n",
       ".xr-index-data,\n",
       ".xr-attrs {\n",
       "  padding-left: 25px !important;\n",
       "}\n",
       "\n",
       ".xr-attrs,\n",
       ".xr-var-attrs,\n",
       ".xr-var-data,\n",
       ".xr-index-data {\n",
       "  grid-column: 1 / -1;\n",
       "}\n",
       "\n",
       "dl.xr-attrs {\n",
       "  padding: 0;\n",
       "  margin: 0;\n",
       "  display: grid;\n",
       "  grid-template-columns: 125px auto;\n",
       "}\n",
       "\n",
       ".xr-attrs dt,\n",
       ".xr-attrs dd {\n",
       "  padding: 0;\n",
       "  margin: 0;\n",
       "  float: left;\n",
       "  padding-right: 10px;\n",
       "  width: auto;\n",
       "}\n",
       "\n",
       ".xr-attrs dt {\n",
       "  font-weight: normal;\n",
       "  grid-column: 1;\n",
       "}\n",
       "\n",
       ".xr-attrs dt:hover span {\n",
       "  display: inline-block;\n",
       "  background: var(--xr-background-color);\n",
       "  padding-right: 10px;\n",
       "}\n",
       "\n",
       ".xr-attrs dd {\n",
       "  grid-column: 2;\n",
       "  white-space: pre-wrap;\n",
       "  word-break: break-all;\n",
       "}\n",
       "\n",
       ".xr-icon-database,\n",
       ".xr-icon-file-text2,\n",
       ".xr-no-icon {\n",
       "  display: inline-block;\n",
       "  vertical-align: middle;\n",
       "  width: 1em;\n",
       "  height: 1.5em !important;\n",
       "  stroke-width: 0;\n",
       "  stroke: currentColor;\n",
       "  fill: currentColor;\n",
       "}\n",
       "</style><pre class='xr-text-repr-fallback'>&lt;xarray.Dataset&gt; Size: 140kB\n",
       "Dimensions:    (time: 8767, latitude: 1, longitude: 1)\n",
       "Coordinates:\n",
       "  * latitude   (latitude) float64 8B 31.6\n",
       "  * longitude  (longitude) float64 8B -64.2\n",
       "  * time       (time) datetime64[ns] 70kB 1998-01-01 1998-01-02 ... 2022-01-01\n",
       "Data variables:\n",
       "    CAFE       (time, latitude, longitude) float64 70kB 262.5 257.1 ... 228.4\n",
       "Attributes:\n",
       "    Conventions:  CF-1.8\n",
       "    History:      2023-01-02 08:55:09.514113 Python\n",
       "    Keywords:     Primary Production\n",
       "    PI Contact:   tryankeogh@csir.co.za\n",
       "    PI Name:      Thomas Ryan-Keogh</pre><div class='xr-wrap' style='display:none'><div class='xr-header'><div class='xr-obj-type'>xarray.Dataset</div></div><ul class='xr-sections'><li class='xr-section-item'><input id='section-fe7b5396-0508-4185-8f48-992054d4e1a6' class='xr-section-summary-in' type='checkbox' disabled ><label for='section-fe7b5396-0508-4185-8f48-992054d4e1a6' class='xr-section-summary'  title='Expand/collapse section'>Dimensions:</label><div class='xr-section-inline-details'><ul class='xr-dim-list'><li><span class='xr-has-index'>time</span>: 8767</li><li><span class='xr-has-index'>latitude</span>: 1</li><li><span class='xr-has-index'>longitude</span>: 1</li></ul></div><div class='xr-section-details'></div></li><li class='xr-section-item'><input id='section-8c3de231-4471-4222-9a0a-eaf86aa0307c' class='xr-section-summary-in' type='checkbox'  checked><label for='section-8c3de231-4471-4222-9a0a-eaf86aa0307c' class='xr-section-summary' >Coordinates: <span>(3)</span></label><div class='xr-section-inline-details'></div><div class='xr-section-details'><ul class='xr-var-list'><li class='xr-var-item'><div class='xr-var-name'><span class='xr-has-index'>latitude</span></div><div class='xr-var-dims'>(latitude)</div><div class='xr-var-dtype'>float64</div><div class='xr-var-preview xr-preview'>31.6</div><input id='attrs-b4a8ab49-737e-4d7e-b071-2a7f6634f080' class='xr-var-attrs-in' type='checkbox' ><label for='attrs-b4a8ab49-737e-4d7e-b071-2a7f6634f080' title='Show/Hide attributes'><svg class='icon xr-icon-file-text2'><use xlink:href='#icon-file-text2'></use></svg></label><input id='data-428c676a-2af2-4448-9fda-3938e3d4d07d' class='xr-var-data-in' type='checkbox'><label for='data-428c676a-2af2-4448-9fda-3938e3d4d07d' title='Show/Hide data repr'><svg class='icon xr-icon-database'><use xlink:href='#icon-database'></use></svg></label><div class='xr-var-attrs'><dl class='xr-attrs'><dt><span>units :</span></dt><dd>degrees_north</dd><dt><span>long_name :</span></dt><dd>latitude</dd><dt><span>axis :</span></dt><dd>Y</dd></dl></div><div class='xr-var-data'><pre>array([31.6])</pre></div></li><li class='xr-var-item'><div class='xr-var-name'><span class='xr-has-index'>longitude</span></div><div class='xr-var-dims'>(longitude)</div><div class='xr-var-dtype'>float64</div><div class='xr-var-preview xr-preview'>-64.2</div><input id='attrs-76a9a9f4-93b8-4b2e-ac74-7f7a12fc6cb3' class='xr-var-attrs-in' type='checkbox' ><label for='attrs-76a9a9f4-93b8-4b2e-ac74-7f7a12fc6cb3' title='Show/Hide attributes'><svg class='icon xr-icon-file-text2'><use xlink:href='#icon-file-text2'></use></svg></label><input id='data-fe208bb6-33da-42fa-9855-94431ef41674' class='xr-var-data-in' type='checkbox'><label for='data-fe208bb6-33da-42fa-9855-94431ef41674' title='Show/Hide data repr'><svg class='icon xr-icon-database'><use xlink:href='#icon-database'></use></svg></label><div class='xr-var-attrs'><dl class='xr-attrs'><dt><span>units :</span></dt><dd>degrees_east</dd><dt><span>long_name :</span></dt><dd>longitude</dd><dt><span>axis :</span></dt><dd>X</dd></dl></div><div class='xr-var-data'><pre>array([-64.2])</pre></div></li><li class='xr-var-item'><div class='xr-var-name'><span class='xr-has-index'>time</span></div><div class='xr-var-dims'>(time)</div><div class='xr-var-dtype'>datetime64[ns]</div><div class='xr-var-preview xr-preview'>1998-01-01 ... 2022-01-01</div><input id='attrs-7d616e28-3347-4800-8c99-ae8089dd799f' class='xr-var-attrs-in' type='checkbox' ><label for='attrs-7d616e28-3347-4800-8c99-ae8089dd799f' title='Show/Hide attributes'><svg class='icon xr-icon-file-text2'><use xlink:href='#icon-file-text2'></use></svg></label><input id='data-8a127569-137e-4615-9bab-dea396651bc3' class='xr-var-data-in' type='checkbox'><label for='data-8a127569-137e-4615-9bab-dea396651bc3' title='Show/Hide data repr'><svg class='icon xr-icon-database'><use xlink:href='#icon-database'></use></svg></label><div class='xr-var-attrs'><dl class='xr-attrs'><dt><span>format :</span></dt><dd>datetime64[ns]</dd><dt><span>long_name :</span></dt><dd>time</dd><dt><span>standard_name :</span></dt><dd>Time</dd></dl></div><div class='xr-var-data'><pre>array([&#x27;1998-01-01T00:00:00.000000000&#x27;, &#x27;1998-01-02T00:00:00.000000000&#x27;,\n",
       "       &#x27;1998-01-03T00:00:00.000000000&#x27;, ..., &#x27;2021-12-30T00:00:00.000000000&#x27;,\n",
       "       &#x27;2021-12-31T00:00:00.000000000&#x27;, &#x27;2022-01-01T00:00:00.000000000&#x27;],\n",
       "      dtype=&#x27;datetime64[ns]&#x27;)</pre></div></li></ul></div></li><li class='xr-section-item'><input id='section-b616522e-9f15-4320-939c-6cf7f91f3ca1' class='xr-section-summary-in' type='checkbox'  checked><label for='section-b616522e-9f15-4320-939c-6cf7f91f3ca1' class='xr-section-summary' >Data variables: <span>(1)</span></label><div class='xr-section-inline-details'></div><div class='xr-section-details'><ul class='xr-var-list'><li class='xr-var-item'><div class='xr-var-name'><span>CAFE</span></div><div class='xr-var-dims'>(time, latitude, longitude)</div><div class='xr-var-dtype'>float64</div><div class='xr-var-preview xr-preview'>262.5 257.1 251.8 ... 229.4 228.4</div><input id='attrs-d379a906-2b30-4917-83e2-4f25900cc088' class='xr-var-attrs-in' type='checkbox' ><label for='attrs-d379a906-2b30-4917-83e2-4f25900cc088' title='Show/Hide attributes'><svg class='icon xr-icon-file-text2'><use xlink:href='#icon-file-text2'></use></svg></label><input id='data-da5912b5-7adb-4011-a206-5568c8526640' class='xr-var-data-in' type='checkbox'><label for='data-da5912b5-7adb-4011-a206-5568c8526640' title='Show/Hide data repr'><svg class='icon xr-icon-database'><use xlink:href='#icon-database'></use></svg></label><div class='xr-var-attrs'><dl class='xr-attrs'><dt><span>adg wavelength :</span></dt><dd>443nm</dd><dt><span>aph wavelength :</span></dt><dd>443nm</dd><dt><span>bbp wavelength :</span></dt><dd>443nm</dd><dt><span>doi :</span></dt><dd>10.1002/2016GB005521</dd><dt><span>long_name :</span></dt><dd>primary_production_using_CAFE_model</dd><dt><span>mld_criteria :</span></dt><dd>0.030 kg m^-3</dd><dt><span>mld_product :</span></dt><dd>HADLEY</dd><dt><span>reference :</span></dt><dd>Silsbe_et_al_2016</dd><dt><span>remote_sensing_data_product :</span></dt><dd>OCCCIv6</dd><dt><span>resolution :</span></dt><dd>0.00f; // float</dd><dt><span>standard_name :</span></dt><dd>NPP</dd><dt><span>units :</span></dt><dd>mg m-2 day-1</dd><dt><span>weight :</span></dt><dd>carbon</dd></dl></div><div class='xr-var-data'><pre>array([[[262.46481323]],\n",
       "\n",
       "       [[257.14034843]],\n",
       "\n",
       "       [[251.81588364]],\n",
       "\n",
       "       ...,\n",
       "\n",
       "       [[230.26930847]],\n",
       "\n",
       "       [[229.35965271]],\n",
       "\n",
       "       [[228.44999695]]])</pre></div></li></ul></div></li><li class='xr-section-item'><input id='section-3b2b5774-b1e0-44e8-98ef-80f09d115dd0' class='xr-section-summary-in' type='checkbox'  ><label for='section-3b2b5774-b1e0-44e8-98ef-80f09d115dd0' class='xr-section-summary' >Indexes: <span>(3)</span></label><div class='xr-section-inline-details'></div><div class='xr-section-details'><ul class='xr-var-list'><li class='xr-var-item'><div class='xr-index-name'><div>latitude</div></div><div class='xr-index-preview'>PandasIndex</div><div></div><input id='index-65edcfbd-e42a-4e54-8431-0d934a444da9' class='xr-index-data-in' type='checkbox'/><label for='index-65edcfbd-e42a-4e54-8431-0d934a444da9' title='Show/Hide index repr'><svg class='icon xr-icon-database'><use xlink:href='#icon-database'></use></svg></label><div class='xr-index-data'><pre>PandasIndex(Index([31.6], dtype=&#x27;float64&#x27;, name=&#x27;latitude&#x27;))</pre></div></li><li class='xr-var-item'><div class='xr-index-name'><div>longitude</div></div><div class='xr-index-preview'>PandasIndex</div><div></div><input id='index-818923d2-be57-4f4b-8692-1c2f2e3ead39' class='xr-index-data-in' type='checkbox'/><label for='index-818923d2-be57-4f4b-8692-1c2f2e3ead39' title='Show/Hide index repr'><svg class='icon xr-icon-database'><use xlink:href='#icon-database'></use></svg></label><div class='xr-index-data'><pre>PandasIndex(Index([-64.2], dtype=&#x27;float64&#x27;, name=&#x27;longitude&#x27;))</pre></div></li><li class='xr-var-item'><div class='xr-index-name'><div>time</div></div><div class='xr-index-preview'>PandasIndex</div><div></div><input id='index-d5cf78f5-2aef-4415-acdf-add552f652de' class='xr-index-data-in' type='checkbox'/><label for='index-d5cf78f5-2aef-4415-acdf-add552f652de' title='Show/Hide index repr'><svg class='icon xr-icon-database'><use xlink:href='#icon-database'></use></svg></label><div class='xr-index-data'><pre>PandasIndex(DatetimeIndex([&#x27;1998-01-01&#x27;, &#x27;1998-01-02&#x27;, &#x27;1998-01-03&#x27;, &#x27;1998-01-04&#x27;,\n",
       "               &#x27;1998-01-05&#x27;, &#x27;1998-01-06&#x27;, &#x27;1998-01-07&#x27;, &#x27;1998-01-08&#x27;,\n",
       "               &#x27;1998-01-09&#x27;, &#x27;1998-01-10&#x27;,\n",
       "               ...\n",
       "               &#x27;2021-12-23&#x27;, &#x27;2021-12-24&#x27;, &#x27;2021-12-25&#x27;, &#x27;2021-12-26&#x27;,\n",
       "               &#x27;2021-12-27&#x27;, &#x27;2021-12-28&#x27;, &#x27;2021-12-29&#x27;, &#x27;2021-12-30&#x27;,\n",
       "               &#x27;2021-12-31&#x27;, &#x27;2022-01-01&#x27;],\n",
       "              dtype=&#x27;datetime64[ns]&#x27;, name=&#x27;time&#x27;, length=8767, freq=None))</pre></div></li></ul></div></li><li class='xr-section-item'><input id='section-085f07ab-3d97-4983-9648-cde9ccf65be6' class='xr-section-summary-in' type='checkbox'  checked><label for='section-085f07ab-3d97-4983-9648-cde9ccf65be6' class='xr-section-summary' >Attributes: <span>(5)</span></label><div class='xr-section-inline-details'></div><div class='xr-section-details'><dl class='xr-attrs'><dt><span>Conventions :</span></dt><dd>CF-1.8</dd><dt><span>History :</span></dt><dd>2023-01-02 08:55:09.514113 Python</dd><dt><span>Keywords :</span></dt><dd>Primary Production</dd><dt><span>PI Contact :</span></dt><dd>tryankeogh@csir.co.za</dd><dt><span>PI Name :</span></dt><dd>Thomas Ryan-Keogh</dd></dl></div></li></ul></div></div>"
      ],
      "text/plain": [
       "<xarray.Dataset> Size: 140kB\n",
       "Dimensions:    (time: 8767, latitude: 1, longitude: 1)\n",
       "Coordinates:\n",
       "  * latitude   (latitude) float64 8B 31.6\n",
       "  * longitude  (longitude) float64 8B -64.2\n",
       "  * time       (time) datetime64[ns] 70kB 1998-01-01 1998-01-02 ... 2022-01-01\n",
       "Data variables:\n",
       "    CAFE       (time, latitude, longitude) float64 70kB 262.5 257.1 ... 228.4\n",
       "Attributes:\n",
       "    Conventions:  CF-1.8\n",
       "    History:      2023-01-02 08:55:09.514113 Python\n",
       "    Keywords:     Primary Production\n",
       "    PI Contact:   tryankeogh@csir.co.za\n",
       "    PI Name:      Thomas Ryan-Keogh"
      ]
     },
     "execution_count": 4,
     "metadata": {},
     "output_type": "execute_result"
    }
   ],
   "source": [
    "cafe_npp"
   ]
  },
  {
   "cell_type": "markdown",
   "metadata": {},
   "source": [
    "Load observations.\n",
    "\n",
    "First I multiply the observations by the average epipelagic layer depth (150m) to have a biomass in m2 rather than m3.\n"
   ]
  },
  {
   "cell_type": "code",
   "execution_count": 5,
   "metadata": {},
   "outputs": [],
   "source": [
    "def update_layer(data: xr.DataArray, epipelagic_size):\n",
    "    data = data.pint.quantify() * epipelagic_size\n",
    "    layer_attrs = data[\"layer\"].attrs\n",
    "    data = data.assign_coords({\"layer\": [1]})\n",
    "    data[\"layer\"].attrs = layer_attrs\n",
    "    return data\n",
    "\n",
    "\n",
    "epipelagic_size = 150 * pint.application_registry(\"meter\")\n",
    "\n",
    "obs_bats = xr.open_dataset(\"../../seapopym-data/data/zooplankton_product/Bats_zooplankton.nc\")\n",
    "obs_bats = update_layer(obs_bats, epipelagic_size)\n",
    "obs_bats = Observation(obs_bats)\n",
    "observations = [obs_bats]"
   ]
  },
  {
   "cell_type": "markdown",
   "metadata": {},
   "source": [
    "Create structure for SeapoPym simulation.\n"
   ]
  },
  {
   "cell_type": "code",
   "execution_count": 6,
   "metadata": {},
   "outputs": [
    {
     "name": "stderr",
     "output_type": "stream",
     "text": [
      "\u001b[38;5;226m2024-11-21 11:24:41,124 :: Seapodym ::  WARNING ::\n",
      "|\tCAFE unit is milligram / day / meter ** 2, it will be converted to kilogram / day / meter ** 2.\n",
      "\u001b[0m\n"
     ]
    }
   ],
   "source": [
    "forcing_parameters = ForcingParameters(\n",
    "    temperature=ForcingUnit(forcing=bats_data[\"T\"], resolution=1 / 12),\n",
    "    primary_production=ForcingUnit(forcing=cafe_npp[\"CAFE\"], resolution=1 / 12),\n",
    ")"
   ]
  },
  {
   "cell_type": "markdown",
   "metadata": {},
   "source": [
    "Setup the cost function.\n"
   ]
  },
  {
   "cell_type": "code",
   "execution_count": 7,
   "metadata": {},
   "outputs": [],
   "source": [
    "functional_groups = [\n",
    "    FunctionalGroupOptimizeNoTransport(\n",
    "        name=\"D1N1\",\n",
    "        day_layer=1,\n",
    "        night_layer=1,\n",
    "        tr_rate=Parameter(\"D1N1_tr_rate\", -1, 0),\n",
    "        tr_max=Parameter(\"D1N1_tr_max\", 0, 50),\n",
    "        inv_lambda_rate=Parameter(\"D1N1_inv_lambda_rate\", 0, 1),\n",
    "        inv_lambda_max=Parameter(\"D1N1_inv_lambda_max\", 0, 100),\n",
    "        energy_coefficient=Parameter(\"D1N1_energy_coefficient\", 0.05, 0.8),\n",
    "    ),\n",
    "    FunctionalGroupOptimizeNoTransport(\n",
    "        name=\"D2N1\",\n",
    "        day_layer=2,\n",
    "        night_layer=1,\n",
    "        tr_rate=Parameter(\"D2N1_tr_rate\", -1, 0),\n",
    "        tr_max=Parameter(\"D2N1_tr_max\", 0, 50),\n",
    "        inv_lambda_rate=Parameter(\"D2N1_inv_lambda_rate\", 0, 1),\n",
    "        inv_lambda_max=Parameter(\"D2N1_inv_lambda_max\", 0, 100),\n",
    "        energy_coefficient=Parameter(\"D2N1_energy_coefficient\", 0.05, 0.8),\n",
    "    ),\n",
    "]"
   ]
  },
  {
   "cell_type": "code",
   "execution_count": 8,
   "metadata": {},
   "outputs": [],
   "source": [
    "cost_function = NoTransportCostFunction(\n",
    "    functional_groups=functional_groups,\n",
    "    forcing_parameters=forcing_parameters,\n",
    "    observations=observations,\n",
    ")"
   ]
  },
  {
   "cell_type": "markdown",
   "metadata": {},
   "source": [
    "Set the genetic algorithm meta parameters.\n"
   ]
  },
  {
   "cell_type": "code",
   "execution_count": null,
   "metadata": {},
   "outputs": [],
   "source": [
    "genetic_algo_parameters = GeneticAlgorithmParameters(\n",
    "    ETA=1,\n",
    "    INDPB=0.1,\n",
    "    CXPB=0.5,\n",
    "    MUTPB=0.2,\n",
    "    NGEN=5,\n",
    "    POP_SIZE=10,\n",
    "    cost_function_weight=(-1,),\n",
    ")"
   ]
  },
  {
   "cell_type": "markdown",
   "metadata": {},
   "source": [
    "Add a constraint to limit the total of energy transfert coefficient to 100%.\n"
   ]
  },
  {
   "cell_type": "code",
   "execution_count": 10,
   "metadata": {},
   "outputs": [],
   "source": [
    "constraint_energy = constraint.ConstraintNoTransportEnergyCoefficient(\n",
    "    parameters_name=[\"D1N1_energy_coefficient\", \"D2N1_energy_coefficient\"],\n",
    "    min_energy_coef_value=0,\n",
    "    max_energy_coef_value=1,\n",
    ")"
   ]
  },
  {
   "cell_type": "markdown",
   "metadata": {},
   "source": [
    "Finaly, create the Genetic Algorithm.\n"
   ]
  },
  {
   "cell_type": "code",
   "execution_count": 11,
   "metadata": {},
   "outputs": [
    {
     "name": "stderr",
     "output_type": "stream",
     "text": [
      "/Users/ash/Documents/Workspaces/PhD/Seapopym-optimisation/.venv/lib/python3.12/site-packages/distributed/node.py:187: UserWarning: Port 8787 is already in use.\n",
      "Perhaps you already have a cluster running?\n",
      "Hosting the HTTP server on port 61381 instead\n",
      "  warnings.warn(\n"
     ]
    }
   ],
   "source": [
    "client = Client()\n",
    "genetic_algo = GeneticAlgorithm(\n",
    "    cost_function=cost_function,\n",
    "    parameter_genetic_algorithm=genetic_algo_parameters,\n",
    "    constraint=[constraint_energy],\n",
    "    client=client,\n",
    ")"
   ]
  },
  {
   "cell_type": "markdown",
   "metadata": {},
   "source": [
    "And watch the magic on the Dask dashboard :\n"
   ]
  },
  {
   "cell_type": "code",
   "execution_count": 12,
   "metadata": {},
   "outputs": [
    {
     "data": {
      "text/html": [
       "<div>\n",
       "    <div style=\"width: 24px; height: 24px; background-color: #e1e1e1; border: 3px solid #9D9D9D; border-radius: 5px; position: absolute;\"> </div>\n",
       "    <div style=\"margin-left: 48px;\">\n",
       "        <h3 style=\"margin-bottom: 0px;\">Client</h3>\n",
       "        <p style=\"color: #9D9D9D; margin-bottom: 0px;\">Client-d191370c-a7f2-11ef-8685-56668fadc22d</p>\n",
       "        <table style=\"width: 100%; text-align: left;\">\n",
       "\n",
       "        <tr>\n",
       "        \n",
       "            <td style=\"text-align: left;\"><strong>Connection method:</strong> Cluster object</td>\n",
       "            <td style=\"text-align: left;\"><strong>Cluster type:</strong> distributed.LocalCluster</td>\n",
       "        \n",
       "        </tr>\n",
       "\n",
       "        \n",
       "            <tr>\n",
       "                <td style=\"text-align: left;\">\n",
       "                    <strong>Dashboard: </strong> <a href=\"http://127.0.0.1:61381/status\" target=\"_blank\">http://127.0.0.1:61381/status</a>\n",
       "                </td>\n",
       "                <td style=\"text-align: left;\"></td>\n",
       "            </tr>\n",
       "        \n",
       "\n",
       "        </table>\n",
       "\n",
       "        \n",
       "\n",
       "        \n",
       "            <details>\n",
       "            <summary style=\"margin-bottom: 20px;\"><h3 style=\"display: inline;\">Cluster Info</h3></summary>\n",
       "            <div class=\"jp-RenderedHTMLCommon jp-RenderedHTML jp-mod-trusted jp-OutputArea-output\">\n",
       "    <div style=\"width: 24px; height: 24px; background-color: #e1e1e1; border: 3px solid #9D9D9D; border-radius: 5px; position: absolute;\">\n",
       "    </div>\n",
       "    <div style=\"margin-left: 48px;\">\n",
       "        <h3 style=\"margin-bottom: 0px; margin-top: 0px;\">LocalCluster</h3>\n",
       "        <p style=\"color: #9D9D9D; margin-bottom: 0px;\">cc93cbd8</p>\n",
       "        <table style=\"width: 100%; text-align: left;\">\n",
       "            <tr>\n",
       "                <td style=\"text-align: left;\">\n",
       "                    <strong>Dashboard:</strong> <a href=\"http://127.0.0.1:61381/status\" target=\"_blank\">http://127.0.0.1:61381/status</a>\n",
       "                </td>\n",
       "                <td style=\"text-align: left;\">\n",
       "                    <strong>Workers:</strong> 4\n",
       "                </td>\n",
       "            </tr>\n",
       "            <tr>\n",
       "                <td style=\"text-align: left;\">\n",
       "                    <strong>Total threads:</strong> 8\n",
       "                </td>\n",
       "                <td style=\"text-align: left;\">\n",
       "                    <strong>Total memory:</strong> 16.00 GiB\n",
       "                </td>\n",
       "            </tr>\n",
       "            \n",
       "            <tr>\n",
       "    <td style=\"text-align: left;\"><strong>Status:</strong> running</td>\n",
       "    <td style=\"text-align: left;\"><strong>Using processes:</strong> True</td>\n",
       "</tr>\n",
       "\n",
       "            \n",
       "        </table>\n",
       "\n",
       "        <details>\n",
       "            <summary style=\"margin-bottom: 20px;\">\n",
       "                <h3 style=\"display: inline;\">Scheduler Info</h3>\n",
       "            </summary>\n",
       "\n",
       "            <div style=\"\">\n",
       "    <div>\n",
       "        <div style=\"width: 24px; height: 24px; background-color: #FFF7E5; border: 3px solid #FF6132; border-radius: 5px; position: absolute;\"> </div>\n",
       "        <div style=\"margin-left: 48px;\">\n",
       "            <h3 style=\"margin-bottom: 0px;\">Scheduler</h3>\n",
       "            <p style=\"color: #9D9D9D; margin-bottom: 0px;\">Scheduler-a19e7fdd-ac8d-4090-a014-a5673bc1410f</p>\n",
       "            <table style=\"width: 100%; text-align: left;\">\n",
       "                <tr>\n",
       "                    <td style=\"text-align: left;\">\n",
       "                        <strong>Comm:</strong> tcp://127.0.0.1:61382\n",
       "                    </td>\n",
       "                    <td style=\"text-align: left;\">\n",
       "                        <strong>Workers:</strong> 4\n",
       "                    </td>\n",
       "                </tr>\n",
       "                <tr>\n",
       "                    <td style=\"text-align: left;\">\n",
       "                        <strong>Dashboard:</strong> <a href=\"http://127.0.0.1:61381/status\" target=\"_blank\">http://127.0.0.1:61381/status</a>\n",
       "                    </td>\n",
       "                    <td style=\"text-align: left;\">\n",
       "                        <strong>Total threads:</strong> 8\n",
       "                    </td>\n",
       "                </tr>\n",
       "                <tr>\n",
       "                    <td style=\"text-align: left;\">\n",
       "                        <strong>Started:</strong> Just now\n",
       "                    </td>\n",
       "                    <td style=\"text-align: left;\">\n",
       "                        <strong>Total memory:</strong> 16.00 GiB\n",
       "                    </td>\n",
       "                </tr>\n",
       "            </table>\n",
       "        </div>\n",
       "    </div>\n",
       "\n",
       "    <details style=\"margin-left: 48px;\">\n",
       "        <summary style=\"margin-bottom: 20px;\">\n",
       "            <h3 style=\"display: inline;\">Workers</h3>\n",
       "        </summary>\n",
       "\n",
       "        \n",
       "        <div style=\"margin-bottom: 20px;\">\n",
       "            <div style=\"width: 24px; height: 24px; background-color: #DBF5FF; border: 3px solid #4CC9FF; border-radius: 5px; position: absolute;\"> </div>\n",
       "            <div style=\"margin-left: 48px;\">\n",
       "            <details>\n",
       "                <summary>\n",
       "                    <h4 style=\"margin-bottom: 0px; display: inline;\">Worker: 0</h4>\n",
       "                </summary>\n",
       "                <table style=\"width: 100%; text-align: left;\">\n",
       "                    <tr>\n",
       "                        <td style=\"text-align: left;\">\n",
       "                            <strong>Comm: </strong> tcp://127.0.0.1:61393\n",
       "                        </td>\n",
       "                        <td style=\"text-align: left;\">\n",
       "                            <strong>Total threads: </strong> 2\n",
       "                        </td>\n",
       "                    </tr>\n",
       "                    <tr>\n",
       "                        <td style=\"text-align: left;\">\n",
       "                            <strong>Dashboard: </strong> <a href=\"http://127.0.0.1:61400/status\" target=\"_blank\">http://127.0.0.1:61400/status</a>\n",
       "                        </td>\n",
       "                        <td style=\"text-align: left;\">\n",
       "                            <strong>Memory: </strong> 4.00 GiB\n",
       "                        </td>\n",
       "                    </tr>\n",
       "                    <tr>\n",
       "                        <td style=\"text-align: left;\">\n",
       "                            <strong>Nanny: </strong> tcp://127.0.0.1:61385\n",
       "                        </td>\n",
       "                        <td style=\"text-align: left;\"></td>\n",
       "                    </tr>\n",
       "                    <tr>\n",
       "                        <td colspan=\"2\" style=\"text-align: left;\">\n",
       "                            <strong>Local directory: </strong> /var/folders/36/grrgsqjd14j4tf6cf5ty4ykh0000gn/T/dask-scratch-space/worker-mxw_lfr2\n",
       "                        </td>\n",
       "                    </tr>\n",
       "\n",
       "                    \n",
       "\n",
       "                    \n",
       "\n",
       "                </table>\n",
       "            </details>\n",
       "            </div>\n",
       "        </div>\n",
       "        \n",
       "        <div style=\"margin-bottom: 20px;\">\n",
       "            <div style=\"width: 24px; height: 24px; background-color: #DBF5FF; border: 3px solid #4CC9FF; border-radius: 5px; position: absolute;\"> </div>\n",
       "            <div style=\"margin-left: 48px;\">\n",
       "            <details>\n",
       "                <summary>\n",
       "                    <h4 style=\"margin-bottom: 0px; display: inline;\">Worker: 1</h4>\n",
       "                </summary>\n",
       "                <table style=\"width: 100%; text-align: left;\">\n",
       "                    <tr>\n",
       "                        <td style=\"text-align: left;\">\n",
       "                            <strong>Comm: </strong> tcp://127.0.0.1:61394\n",
       "                        </td>\n",
       "                        <td style=\"text-align: left;\">\n",
       "                            <strong>Total threads: </strong> 2\n",
       "                        </td>\n",
       "                    </tr>\n",
       "                    <tr>\n",
       "                        <td style=\"text-align: left;\">\n",
       "                            <strong>Dashboard: </strong> <a href=\"http://127.0.0.1:61397/status\" target=\"_blank\">http://127.0.0.1:61397/status</a>\n",
       "                        </td>\n",
       "                        <td style=\"text-align: left;\">\n",
       "                            <strong>Memory: </strong> 4.00 GiB\n",
       "                        </td>\n",
       "                    </tr>\n",
       "                    <tr>\n",
       "                        <td style=\"text-align: left;\">\n",
       "                            <strong>Nanny: </strong> tcp://127.0.0.1:61387\n",
       "                        </td>\n",
       "                        <td style=\"text-align: left;\"></td>\n",
       "                    </tr>\n",
       "                    <tr>\n",
       "                        <td colspan=\"2\" style=\"text-align: left;\">\n",
       "                            <strong>Local directory: </strong> /var/folders/36/grrgsqjd14j4tf6cf5ty4ykh0000gn/T/dask-scratch-space/worker-oi8z9xka\n",
       "                        </td>\n",
       "                    </tr>\n",
       "\n",
       "                    \n",
       "\n",
       "                    \n",
       "\n",
       "                </table>\n",
       "            </details>\n",
       "            </div>\n",
       "        </div>\n",
       "        \n",
       "        <div style=\"margin-bottom: 20px;\">\n",
       "            <div style=\"width: 24px; height: 24px; background-color: #DBF5FF; border: 3px solid #4CC9FF; border-radius: 5px; position: absolute;\"> </div>\n",
       "            <div style=\"margin-left: 48px;\">\n",
       "            <details>\n",
       "                <summary>\n",
       "                    <h4 style=\"margin-bottom: 0px; display: inline;\">Worker: 2</h4>\n",
       "                </summary>\n",
       "                <table style=\"width: 100%; text-align: left;\">\n",
       "                    <tr>\n",
       "                        <td style=\"text-align: left;\">\n",
       "                            <strong>Comm: </strong> tcp://127.0.0.1:61395\n",
       "                        </td>\n",
       "                        <td style=\"text-align: left;\">\n",
       "                            <strong>Total threads: </strong> 2\n",
       "                        </td>\n",
       "                    </tr>\n",
       "                    <tr>\n",
       "                        <td style=\"text-align: left;\">\n",
       "                            <strong>Dashboard: </strong> <a href=\"http://127.0.0.1:61396/status\" target=\"_blank\">http://127.0.0.1:61396/status</a>\n",
       "                        </td>\n",
       "                        <td style=\"text-align: left;\">\n",
       "                            <strong>Memory: </strong> 4.00 GiB\n",
       "                        </td>\n",
       "                    </tr>\n",
       "                    <tr>\n",
       "                        <td style=\"text-align: left;\">\n",
       "                            <strong>Nanny: </strong> tcp://127.0.0.1:61389\n",
       "                        </td>\n",
       "                        <td style=\"text-align: left;\"></td>\n",
       "                    </tr>\n",
       "                    <tr>\n",
       "                        <td colspan=\"2\" style=\"text-align: left;\">\n",
       "                            <strong>Local directory: </strong> /var/folders/36/grrgsqjd14j4tf6cf5ty4ykh0000gn/T/dask-scratch-space/worker-936j1lvn\n",
       "                        </td>\n",
       "                    </tr>\n",
       "\n",
       "                    \n",
       "\n",
       "                    \n",
       "\n",
       "                </table>\n",
       "            </details>\n",
       "            </div>\n",
       "        </div>\n",
       "        \n",
       "        <div style=\"margin-bottom: 20px;\">\n",
       "            <div style=\"width: 24px; height: 24px; background-color: #DBF5FF; border: 3px solid #4CC9FF; border-radius: 5px; position: absolute;\"> </div>\n",
       "            <div style=\"margin-left: 48px;\">\n",
       "            <details>\n",
       "                <summary>\n",
       "                    <h4 style=\"margin-bottom: 0px; display: inline;\">Worker: 3</h4>\n",
       "                </summary>\n",
       "                <table style=\"width: 100%; text-align: left;\">\n",
       "                    <tr>\n",
       "                        <td style=\"text-align: left;\">\n",
       "                            <strong>Comm: </strong> tcp://127.0.0.1:61402\n",
       "                        </td>\n",
       "                        <td style=\"text-align: left;\">\n",
       "                            <strong>Total threads: </strong> 2\n",
       "                        </td>\n",
       "                    </tr>\n",
       "                    <tr>\n",
       "                        <td style=\"text-align: left;\">\n",
       "                            <strong>Dashboard: </strong> <a href=\"http://127.0.0.1:61403/status\" target=\"_blank\">http://127.0.0.1:61403/status</a>\n",
       "                        </td>\n",
       "                        <td style=\"text-align: left;\">\n",
       "                            <strong>Memory: </strong> 4.00 GiB\n",
       "                        </td>\n",
       "                    </tr>\n",
       "                    <tr>\n",
       "                        <td style=\"text-align: left;\">\n",
       "                            <strong>Nanny: </strong> tcp://127.0.0.1:61391\n",
       "                        </td>\n",
       "                        <td style=\"text-align: left;\"></td>\n",
       "                    </tr>\n",
       "                    <tr>\n",
       "                        <td colspan=\"2\" style=\"text-align: left;\">\n",
       "                            <strong>Local directory: </strong> /var/folders/36/grrgsqjd14j4tf6cf5ty4ykh0000gn/T/dask-scratch-space/worker-exz505sz\n",
       "                        </td>\n",
       "                    </tr>\n",
       "\n",
       "                    \n",
       "\n",
       "                    \n",
       "\n",
       "                </table>\n",
       "            </details>\n",
       "            </div>\n",
       "        </div>\n",
       "        \n",
       "\n",
       "    </details>\n",
       "</div>\n",
       "\n",
       "        </details>\n",
       "    </div>\n",
       "</div>\n",
       "            </details>\n",
       "        \n",
       "\n",
       "    </div>\n",
       "</div>"
      ],
      "text/plain": [
       "<Client: 'tcp://127.0.0.1:61382' processes=4 threads=8, memory=16.00 GiB>"
      ]
     },
     "execution_count": 12,
     "metadata": {},
     "output_type": "execute_result"
    }
   ],
   "source": [
    "genetic_algo.client"
   ]
  },
  {
   "cell_type": "markdown",
   "metadata": {},
   "source": [
    "And execute the process.\n"
   ]
  },
  {
   "cell_type": "code",
   "execution_count": 13,
   "metadata": {},
   "outputs": [
    {
     "name": "stderr",
     "output_type": "stream",
     "text": [
      "\u001b[38;21m2024-11-21 11:24:42,704 :: Seapodym ::  DEBUG ::\n",
      "|\tDirect computation for global_mask_from_nan.\n",
      "\u001b[0m\n",
      "\u001b[38;21m2024-11-21 11:24:42,708 :: Seapodym ::  DEBUG ::\n",
      "|\tDirect computation for mask_by_fgroup.\n",
      "\u001b[0m\n",
      "\u001b[38;21m2024-11-21 11:24:42,712 :: Seapodym ::  DEBUG ::\n",
      "|\tDirect computation for global_mask_from_nan.\n",
      "\u001b[0m\n",
      "\u001b[38;21m2024-11-21 11:24:42,712 :: Seapodym ::  DEBUG ::\n",
      "|\tDirect computation for global_mask_from_nan.\n",
      "\u001b[0m\n",
      "\u001b[38;21m2024-11-21 11:24:42,715 :: Seapodym ::  DEBUG ::\n",
      "|\tDirect computation for mask_by_fgroup.\n",
      "\u001b[0m\n",
      "\u001b[38;21m2024-11-21 11:24:42,715 :: Seapodym ::  DEBUG ::\n",
      "|\tDirect computation for mask_by_fgroup.\n",
      "\u001b[0m\n",
      "\u001b[38;21m2024-11-21 11:24:42,718 :: Seapodym ::  DEBUG ::\n",
      "|\tDirect computation for _wrapper_mesh_day_lengths.\n",
      "\u001b[0m\n",
      "\u001b[38;21m2024-11-21 11:24:42,723 :: Seapodym ::  DEBUG ::\n",
      "|\tDirect computation for _wrapper_mesh_day_lengths.\n",
      "\u001b[0m\n",
      "\u001b[38;21m2024-11-21 11:24:42,724 :: Seapodym ::  DEBUG ::\n",
      "|\tDirect computation for _wrapper_mesh_day_lengths.\n",
      "\u001b[0m\n",
      "\u001b[38;21m2024-11-21 11:24:42,754 :: Seapodym ::  DEBUG ::\n",
      "|\tDirect computation for _average_temperature.\n",
      "\u001b[0m\n",
      "\u001b[38;21m2024-11-21 11:24:42,762 :: Seapodym ::  DEBUG ::\n",
      "|\tDirect computation for global_mask_from_nan.\n",
      "\u001b[0m\n",
      "\u001b[38;21m2024-11-21 11:24:42,764 :: Seapodym ::  DEBUG ::\n",
      "|\tDirect computation for mask_by_fgroup.\n",
      "\u001b[0m\n",
      "\u001b[38;21m2024-11-21 11:24:42,764 :: Seapodym ::  DEBUG ::\n",
      "|\tDirect computation for global_mask_from_nan.\n",
      "\u001b[0m\n",
      "\u001b[38;21m2024-11-21 11:24:42,768 :: Seapodym ::  DEBUG ::\n",
      "|\tDirect computation for _average_temperature.\n",
      "\u001b[0m\n",
      "\u001b[38;21m2024-11-21 11:24:42,772 :: Seapodym ::  DEBUG ::\n",
      "|\tDirect computation for _average_temperature.\n",
      "\u001b[0m\n",
      "\u001b[38;21m2024-11-21 11:24:42,773 :: Seapodym ::  DEBUG ::\n",
      "|\tDirect computation for _apply_coefficient_to_primary_production_helper.\n",
      "\u001b[0m\n",
      "\u001b[38;21m2024-11-21 11:24:42,777 :: Seapodym ::  DEBUG ::\n",
      "|\tDirect computation for _min_temperature_by_cohort_helper.\n",
      "\u001b[0m\n",
      "\u001b[38;21m2024-11-21 11:24:42,778 :: Seapodym ::  DEBUG ::\n",
      "|\tDirect computation for _mask_temperature_helper.\n",
      "\u001b[0m\n",
      "\u001b[38;21m2024-11-21 11:24:42,786 :: Seapodym ::  DEBUG ::\n",
      "|\tDirect computation for _cell_area_helper.\n",
      "\u001b[0m\n",
      "\u001b[38;21m2024-11-21 11:24:42,789 :: Seapodym ::  DEBUG ::\n",
      "|\tDirect computation for _wrapper_mesh_day_lengths.\n",
      "\u001b[0m\n",
      "\u001b[38;21m2024-11-21 11:24:42,792 :: Seapodym ::  DEBUG ::\n",
      "|\tDirect computation for _apply_coefficient_to_primary_production_helper.\n",
      "\u001b[0m\n",
      "\u001b[38;21m2024-11-21 11:24:42,798 :: Seapodym ::  DEBUG ::\n",
      "|\tDirect computation for _min_temperature_by_cohort_helper.\n",
      "\u001b[0m\n",
      "\u001b[38;21m2024-11-21 11:24:42,799 :: Seapodym ::  DEBUG ::\n",
      "|\tDirect computation for _mask_temperature_helper.\n",
      "\u001b[0m\n",
      "\u001b[38;21m2024-11-21 11:24:42,807 :: Seapodym ::  DEBUG ::\n",
      "|\tDirect computation for _cell_area_helper.\n",
      "\u001b[0m\n",
      "\u001b[38;21m2024-11-21 11:24:42,809 :: Seapodym ::  DEBUG ::\n",
      "|\tDirect computation for mask_by_fgroup.\n",
      "\u001b[0m\n",
      "\u001b[38;21m2024-11-21 11:24:42,812 :: Seapodym ::  DEBUG ::\n",
      "|\tDirect computation for _mortality_field_helper.\n",
      "\u001b[0m\n",
      "\u001b[38;21m2024-11-21 11:24:42,817 :: Seapodym ::  DEBUG ::\n",
      "|\tDirect computation for _production_helper.\n",
      "\u001b[0m\n",
      "\u001b[38;21m2024-11-21 11:24:42,837 :: Seapodym ::  DEBUG ::\n",
      "|\tDirect computation for _average_temperature.\n",
      "\u001b[0m\n",
      "\u001b[38;21m2024-11-21 11:24:42,849 :: Seapodym ::  DEBUG ::\n",
      "|\tDirect computation for _mortality_field_helper.\n",
      "\u001b[0m\n",
      "\u001b[38;21m2024-11-21 11:24:42,855 :: Seapodym ::  DEBUG ::\n",
      "|\tDirect computation for _production_helper.\n",
      "\u001b[0m\n",
      "\u001b[38;21m2024-11-21 11:24:42,861 :: Seapodym ::  DEBUG ::\n",
      "|\tDirect computation for _apply_coefficient_to_primary_production_helper.\n",
      "\u001b[0m\n",
      "\u001b[38;21m2024-11-21 11:24:42,867 :: Seapodym ::  DEBUG ::\n",
      "|\tDirect computation for _min_temperature_by_cohort_helper.\n",
      "\u001b[0m\n",
      "\u001b[38;21m2024-11-21 11:24:42,869 :: Seapodym ::  DEBUG ::\n",
      "|\tDirect computation for _mask_temperature_helper.\n",
      "\u001b[0m\n",
      "\u001b[38;21m2024-11-21 11:24:42,870 :: Seapodym ::  DEBUG ::\n",
      "|\tDirect computation for _wrapper_mesh_day_lengths.\n",
      "\u001b[0m\n",
      "\u001b[38;21m2024-11-21 11:24:42,875 :: Seapodym ::  DEBUG ::\n",
      "|\tDirect computation for _cell_area_helper.\n",
      "\u001b[0m\n",
      "\u001b[38;21m2024-11-21 11:24:42,912 :: Seapodym ::  DEBUG ::\n",
      "|\tDirect computation for _mortality_field_helper.\n",
      "\u001b[0m\n",
      "\u001b[38;21m2024-11-21 11:24:42,923 :: Seapodym ::  DEBUG ::\n",
      "|\tDirect computation for _production_helper.\n",
      "\u001b[0m\n",
      "\u001b[38;21m2024-11-21 11:24:42,930 :: Seapodym ::  DEBUG ::\n",
      "|\tDirect computation for _apply_coefficient_to_primary_production_helper.\n",
      "\u001b[0m\n",
      "\u001b[38;21m2024-11-21 11:24:42,935 :: Seapodym ::  DEBUG ::\n",
      "|\tDirect computation for _min_temperature_by_cohort_helper.\n",
      "\u001b[0m\n",
      "\u001b[38;21m2024-11-21 11:24:42,936 :: Seapodym ::  DEBUG ::\n",
      "|\tDirect computation for _mask_temperature_helper.\n",
      "\u001b[0m\n",
      "\u001b[38;21m2024-11-21 11:24:42,945 :: Seapodym ::  DEBUG ::\n",
      "|\tDirect computation for _cell_area_helper.\n",
      "\u001b[0m\n",
      "\u001b[38;21m2024-11-21 11:24:42,971 :: Seapodym ::  DEBUG ::\n",
      "|\tDirect computation for _average_temperature.\n",
      "\u001b[0m\n",
      "\u001b[38;21m2024-11-21 11:24:42,978 :: Seapodym ::  DEBUG ::\n",
      "|\tDirect computation for _mortality_field_helper.\n",
      "\u001b[0m\n",
      "\u001b[38;21m2024-11-21 11:24:42,983 :: Seapodym ::  DEBUG ::\n",
      "|\tDirect computation for _production_helper.\n",
      "\u001b[0m\n",
      "\u001b[38;21m2024-11-21 11:24:43,007 :: Seapodym ::  DEBUG ::\n",
      "|\tDirect computation for _apply_coefficient_to_primary_production_helper.\n",
      "\u001b[0m\n",
      "\u001b[38;21m2024-11-21 11:24:43,011 :: Seapodym ::  DEBUG ::\n",
      "|\tDirect computation for _min_temperature_by_cohort_helper.\n",
      "\u001b[0m\n",
      "\u001b[38;21m2024-11-21 11:24:43,012 :: Seapodym ::  DEBUG ::\n",
      "|\tDirect computation for _mask_temperature_helper.\n",
      "\u001b[0m\n",
      "\u001b[38;21m2024-11-21 11:24:43,015 :: Seapodym ::  DEBUG ::\n",
      "|\tDirect computation for global_mask_from_nan.\n",
      "\u001b[0m\n",
      "\u001b[38;21m2024-11-21 11:24:43,017 :: Seapodym ::  DEBUG ::\n",
      "|\tDirect computation for mask_by_fgroup.\n",
      "\u001b[0m\n",
      "\u001b[38;21m2024-11-21 11:24:43,022 :: Seapodym ::  DEBUG ::\n",
      "|\tDirect computation for _cell_area_helper.\n",
      "\u001b[0m\n",
      "\u001b[38;21m2024-11-21 11:24:43,026 :: Seapodym ::  DEBUG ::\n",
      "|\tDirect computation for _wrapper_mesh_day_lengths.\n",
      "\u001b[0m\n",
      "\u001b[38;21m2024-11-21 11:24:43,061 :: Seapodym ::  DEBUG ::\n",
      "|\tDirect computation for _average_temperature.\n",
      "\u001b[0m\n",
      "\u001b[38;21m2024-11-21 11:24:43,082 :: Seapodym ::  DEBUG ::\n",
      "|\tDirect computation for _apply_coefficient_to_primary_production_helper.\n",
      "\u001b[0m\n",
      "\u001b[38;21m2024-11-21 11:24:43,087 :: Seapodym ::  DEBUG ::\n",
      "|\tDirect computation for _min_temperature_by_cohort_helper.\n",
      "\u001b[0m\n",
      "\u001b[38;21m2024-11-21 11:24:43,089 :: Seapodym ::  DEBUG ::\n",
      "|\tDirect computation for _mask_temperature_helper.\n",
      "\u001b[0m\n",
      "\u001b[38;21m2024-11-21 11:24:43,100 :: Seapodym ::  DEBUG ::\n",
      "|\tDirect computation for _cell_area_helper.\n",
      "\u001b[0m\n",
      "\u001b[38;21m2024-11-21 11:24:43,123 :: Seapodym ::  DEBUG ::\n",
      "|\tDirect computation for _mortality_field_helper.\n",
      "\u001b[0m\n",
      "\u001b[38;21m2024-11-21 11:24:43,128 :: Seapodym ::  DEBUG ::\n",
      "|\tDirect computation for _production_helper.\n",
      "\u001b[0m\n",
      "\u001b[38;21m2024-11-21 11:24:43,179 :: Seapodym ::  DEBUG ::\n",
      "|\tDirect computation for _mortality_field_helper.\n",
      "\u001b[0m\n",
      "\u001b[38;21m2024-11-21 11:24:43,186 :: Seapodym ::  DEBUG ::\n",
      "|\tDirect computation for _production_helper.\n",
      "\u001b[0m\n",
      "\u001b[38;21m2024-11-21 11:24:46,254 :: Seapodym ::  DEBUG ::\n",
      "|\tDirect computation for _biomass_helper.\n",
      "\u001b[0m\n",
      "\u001b[38;21m2024-11-21 11:24:46,531 :: Seapodym ::  DEBUG ::\n",
      "|\tDirect computation for _biomass_helper.\n",
      "\u001b[0m\n",
      "\u001b[38;21m2024-11-21 11:24:46,563 :: Seapodym ::  DEBUG ::\n",
      "|\tDirect computation for _biomass_helper.\n",
      "\u001b[0m\n",
      "\u001b[38;21m2024-11-21 11:24:46,564 :: Seapodym ::  DEBUG ::\n",
      "|\tDirect computation for _biomass_helper.\n",
      "\u001b[0m\n",
      "\u001b[38;21m2024-11-21 11:24:46,771 :: Seapodym ::  DEBUG ::\n",
      "|\tDirect computation for _biomass_helper.\n",
      "\u001b[0m\n",
      "\u001b[38;21m2024-11-21 11:24:46,774 :: Seapodym ::  DEBUG ::\n",
      "|\tDirect computation for _biomass_helper.\n",
      "\u001b[0m\n",
      "\u001b[38;21m2024-11-21 11:24:46,976 :: Seapodym ::  DEBUG ::\n",
      "|\tDirect computation for global_mask_from_nan.\n",
      "\u001b[0m\n",
      "\u001b[38;21m2024-11-21 11:24:46,978 :: Seapodym ::  DEBUG ::\n",
      "|\tDirect computation for mask_by_fgroup.\n",
      "\u001b[0m\n",
      "\u001b[38;21m2024-11-21 11:24:46,979 :: Seapodym ::  DEBUG ::\n",
      "|\tDirect computation for global_mask_from_nan.\n",
      "\u001b[0m\n",
      "\u001b[38;21m2024-11-21 11:24:46,980 :: Seapodym ::  DEBUG ::\n",
      "|\tDirect computation for mask_by_fgroup.\n",
      "\u001b[0m\n",
      "\u001b[38;21m2024-11-21 11:24:46,982 :: Seapodym ::  DEBUG ::\n",
      "|\tDirect computation for global_mask_from_nan.\n",
      "\u001b[0m\n",
      "\u001b[38;21m2024-11-21 11:24:46,983 :: Seapodym ::  DEBUG ::\n",
      "|\tDirect computation for global_mask_from_nan.\n",
      "\u001b[0m\n",
      "\u001b[38;21m2024-11-21 11:24:46,984 :: Seapodym ::  DEBUG ::\n",
      "|\tDirect computation for mask_by_fgroup.\n",
      "\u001b[0m\n",
      "\u001b[38;21m2024-11-21 11:24:46,985 :: Seapodym ::  DEBUG ::\n",
      "|\tDirect computation for _wrapper_mesh_day_lengths.\n",
      "\u001b[0m\n",
      "\u001b[38;21m2024-11-21 11:24:46,985 :: Seapodym ::  DEBUG ::\n",
      "|\tDirect computation for mask_by_fgroup.\n",
      "\u001b[0m\n",
      "\u001b[38;21m2024-11-21 11:24:46,987 :: Seapodym ::  DEBUG ::\n",
      "|\tDirect computation for _wrapper_mesh_day_lengths.\n",
      "\u001b[0m\n",
      "\u001b[38;21m2024-11-21 11:24:46,991 :: Seapodym ::  DEBUG ::\n",
      "|\tDirect computation for _wrapper_mesh_day_lengths.\n",
      "\u001b[0m\n",
      "\u001b[38;21m2024-11-21 11:24:46,992 :: Seapodym ::  DEBUG ::\n",
      "|\tDirect computation for _wrapper_mesh_day_lengths.\n",
      "\u001b[0m\n",
      "\u001b[38;21m2024-11-21 11:24:47,015 :: Seapodym ::  DEBUG ::\n",
      "|\tDirect computation for _average_temperature.\n",
      "\u001b[0m\n",
      "\u001b[38;21m2024-11-21 11:24:47,018 :: Seapodym ::  DEBUG ::\n",
      "|\tDirect computation for _average_temperature.\n",
      "\u001b[0m\n",
      "\u001b[38;21m2024-11-21 11:24:47,021 :: Seapodym ::  DEBUG ::\n",
      "|\tDirect computation for _average_temperature.\n",
      "\u001b[0m\n",
      "\u001b[38;21m2024-11-21 11:24:47,023 :: Seapodym ::  DEBUG ::\n",
      "|\tDirect computation for _average_temperature.\n",
      "\u001b[0m\n",
      "\u001b[38;21m2024-11-21 11:24:47,036 :: Seapodym ::  DEBUG ::\n",
      "|\tDirect computation for _apply_coefficient_to_primary_production_helper.\n",
      "\u001b[0m\n",
      "\u001b[38;21m2024-11-21 11:24:47,038 :: Seapodym ::  DEBUG ::\n",
      "|\tDirect computation for _apply_coefficient_to_primary_production_helper.\n",
      "\u001b[0m\n",
      "\u001b[38;21m2024-11-21 11:24:47,040 :: Seapodym ::  DEBUG ::\n",
      "|\tDirect computation for _min_temperature_by_cohort_helper.\n",
      "\u001b[0m\n",
      "\u001b[38;21m2024-11-21 11:24:47,041 :: Seapodym ::  DEBUG ::\n",
      "|\tDirect computation for _apply_coefficient_to_primary_production_helper.\n",
      "\u001b[0m\n",
      "\u001b[38;21m2024-11-21 11:24:47,041 :: Seapodym ::  DEBUG ::\n",
      "|\tDirect computation for _mask_temperature_helper.\n",
      "\u001b[0m\n",
      "\u001b[38;21m2024-11-21 11:24:47,042 :: Seapodym ::  DEBUG ::\n",
      "|\tDirect computation for _apply_coefficient_to_primary_production_helper.\n",
      "\u001b[0m\n",
      "\u001b[38;21m2024-11-21 11:24:47,043 :: Seapodym ::  DEBUG ::\n",
      "|\tDirect computation for _min_temperature_by_cohort_helper.\n",
      "\u001b[0m\n",
      "\u001b[38;21m2024-11-21 11:24:47,044 :: Seapodym ::  DEBUG ::\n",
      "|\tDirect computation for _mask_temperature_helper.\n",
      "\u001b[0m\n",
      "\u001b[38;21m2024-11-21 11:24:47,045 :: Seapodym ::  DEBUG ::\n",
      "|\tDirect computation for _min_temperature_by_cohort_helper.\n",
      "\u001b[0m\n",
      "\u001b[38;21m2024-11-21 11:24:47,046 :: Seapodym ::  DEBUG ::\n",
      "|\tDirect computation for _mask_temperature_helper.\n",
      "\u001b[0m\n",
      "\u001b[38;21m2024-11-21 11:24:47,046 :: Seapodym ::  DEBUG ::\n",
      "|\tDirect computation for _min_temperature_by_cohort_helper.\n",
      "\u001b[0m\n",
      "\u001b[38;21m2024-11-21 11:24:47,047 :: Seapodym ::  DEBUG ::\n",
      "|\tDirect computation for _mask_temperature_helper.\n",
      "\u001b[0m\n",
      "\u001b[38;21m2024-11-21 11:24:47,049 :: Seapodym ::  DEBUG ::\n",
      "|\tDirect computation for _cell_area_helper.\n",
      "\u001b[0m\n",
      "\u001b[38;21m2024-11-21 11:24:47,052 :: Seapodym ::  DEBUG ::\n",
      "|\tDirect computation for _cell_area_helper.\n",
      "\u001b[0m\n",
      "\u001b[38;21m2024-11-21 11:24:47,054 :: Seapodym ::  DEBUG ::\n",
      "|\tDirect computation for _cell_area_helper.\n",
      "\u001b[0m\n",
      "\u001b[38;21m2024-11-21 11:24:47,055 :: Seapodym ::  DEBUG ::\n",
      "|\tDirect computation for _cell_area_helper.\n",
      "\u001b[0m\n",
      "\u001b[38;21m2024-11-21 11:24:47,074 :: Seapodym ::  DEBUG ::\n",
      "|\tDirect computation for _mortality_field_helper.\n",
      "\u001b[0m\n",
      "\u001b[38;21m2024-11-21 11:24:47,075 :: Seapodym ::  DEBUG ::\n",
      "|\tDirect computation for _mortality_field_helper.\n",
      "\u001b[0m\n",
      "\u001b[38;21m2024-11-21 11:24:47,077 :: Seapodym ::  DEBUG ::\n",
      "|\tDirect computation for _mortality_field_helper.\n",
      "\u001b[0m\n",
      "\u001b[38;21m2024-11-21 11:24:47,078 :: Seapodym ::  DEBUG ::\n",
      "|\tDirect computation for _mortality_field_helper.\n",
      "\u001b[0m\n",
      "\u001b[38;21m2024-11-21 11:24:47,079 :: Seapodym ::  DEBUG ::\n",
      "|\tDirect computation for _production_helper.\n",
      "\u001b[0m\n",
      "\u001b[38;21m2024-11-21 11:24:47,080 :: Seapodym ::  DEBUG ::\n",
      "|\tDirect computation for _production_helper.\n",
      "\u001b[0m\n",
      "\u001b[38;21m2024-11-21 11:24:47,082 :: Seapodym ::  DEBUG ::\n",
      "|\tDirect computation for _production_helper.\n",
      "\u001b[0m\n",
      "\u001b[38;21m2024-11-21 11:24:47,083 :: Seapodym ::  DEBUG ::\n",
      "|\tDirect computation for _production_helper.\n",
      "\u001b[0m\n",
      "\u001b[38;21m2024-11-21 11:24:47,261 :: Seapodym ::  DEBUG ::\n",
      "|\tDirect computation for _biomass_helper.\n",
      "\u001b[0m\n",
      "\u001b[38;21m2024-11-21 11:24:47,261 :: Seapodym ::  DEBUG ::\n",
      "|\tDirect computation for _biomass_helper.\n",
      "\u001b[0m\n",
      "\u001b[38;21m2024-11-21 11:24:47,263 :: Seapodym ::  DEBUG ::\n",
      "|\tDirect computation for _biomass_helper.\n",
      "\u001b[0m\n",
      "\u001b[38;21m2024-11-21 11:24:47,268 :: Seapodym ::  DEBUG ::\n",
      "|\tDirect computation for _biomass_helper.\n",
      "\u001b[0m\n",
      "\u001b[38;21m2024-11-21 11:24:47,322 :: Seapodym ::  DEBUG ::\n",
      "|\tDirect computation for global_mask_from_nan.\n",
      "\u001b[0m\n",
      "\u001b[38;21m2024-11-21 11:24:47,323 :: Seapodym ::  DEBUG ::\n",
      "|\tDirect computation for global_mask_from_nan.\n",
      "\u001b[0m\n",
      "\u001b[38;21m2024-11-21 11:24:47,324 :: Seapodym ::  DEBUG ::\n",
      "|\tDirect computation for global_mask_from_nan.\n",
      "\u001b[0m\n",
      "\u001b[38;21m2024-11-21 11:24:47,324 :: Seapodym ::  DEBUG ::\n",
      "|\tDirect computation for mask_by_fgroup.\n",
      "\u001b[0m\n",
      "\u001b[38;21m2024-11-21 11:24:47,324 :: Seapodym ::  DEBUG ::\n",
      "|\tDirect computation for global_mask_from_nan.\n",
      "\u001b[0m\n",
      "\u001b[38;21m2024-11-21 11:24:47,325 :: Seapodym ::  DEBUG ::\n",
      "|\tDirect computation for mask_by_fgroup.\n",
      "\u001b[0m\n",
      "\u001b[38;21m2024-11-21 11:24:47,325 :: Seapodym ::  DEBUG ::\n",
      "|\tDirect computation for mask_by_fgroup.\n",
      "\u001b[0m\n",
      "\u001b[38;21m2024-11-21 11:24:47,325 :: Seapodym ::  DEBUG ::\n",
      "|\tDirect computation for mask_by_fgroup.\n",
      "\u001b[0m\n",
      "\u001b[38;21m2024-11-21 11:24:47,330 :: Seapodym ::  DEBUG ::\n",
      "|\tDirect computation for _wrapper_mesh_day_lengths.\n",
      "\u001b[0m\n",
      "\u001b[38;21m2024-11-21 11:24:47,331 :: Seapodym ::  DEBUG ::\n",
      "|\tDirect computation for _wrapper_mesh_day_lengths.\n",
      "\u001b[0m\n",
      "\u001b[38;21m2024-11-21 11:24:47,332 :: Seapodym ::  DEBUG ::\n",
      "|\tDirect computation for _wrapper_mesh_day_lengths.\n",
      "\u001b[0m\n",
      "\u001b[38;21m2024-11-21 11:24:47,332 :: Seapodym ::  DEBUG ::\n",
      "|\tDirect computation for _wrapper_mesh_day_lengths.\n",
      "\u001b[0m\n",
      "\u001b[38;21m2024-11-21 11:24:47,361 :: Seapodym ::  DEBUG ::\n",
      "|\tDirect computation for _average_temperature.\n",
      "\u001b[0m\n",
      "\u001b[38;21m2024-11-21 11:24:47,361 :: Seapodym ::  DEBUG ::\n",
      "|\tDirect computation for _average_temperature.\n",
      "\u001b[0m\n",
      "\u001b[38;21m2024-11-21 11:24:47,363 :: Seapodym ::  DEBUG ::\n",
      "|\tDirect computation for _average_temperature.\n",
      "\u001b[0m\n",
      "\u001b[38;21m2024-11-21 11:24:47,363 :: Seapodym ::  DEBUG ::\n",
      "|\tDirect computation for _average_temperature.\n",
      "\u001b[0m\n",
      "\u001b[38;21m2024-11-21 11:24:47,379 :: Seapodym ::  DEBUG ::\n",
      "|\tDirect computation for _apply_coefficient_to_primary_production_helper.\n",
      "\u001b[0m\n",
      "\u001b[38;21m2024-11-21 11:24:47,379 :: Seapodym ::  DEBUG ::\n",
      "|\tDirect computation for _apply_coefficient_to_primary_production_helper.\n",
      "\u001b[0m\n",
      "\u001b[38;21m2024-11-21 11:24:47,381 :: Seapodym ::  DEBUG ::\n",
      "|\tDirect computation for _apply_coefficient_to_primary_production_helper.\n",
      "\u001b[0m\n",
      "\u001b[38;21m2024-11-21 11:24:47,382 :: Seapodym ::  DEBUG ::\n",
      "|\tDirect computation for _apply_coefficient_to_primary_production_helper.\n",
      "\u001b[0m\n",
      "\u001b[38;21m2024-11-21 11:24:47,383 :: Seapodym ::  DEBUG ::\n",
      "|\tDirect computation for _min_temperature_by_cohort_helper.\n",
      "\u001b[0m\n",
      "\u001b[38;21m2024-11-21 11:24:47,383 :: Seapodym ::  DEBUG ::\n",
      "|\tDirect computation for _min_temperature_by_cohort_helper.\n",
      "\u001b[0m\n",
      "\u001b[38;21m2024-11-21 11:24:47,384 :: Seapodym ::  DEBUG ::\n",
      "|\tDirect computation for _mask_temperature_helper.\n",
      "\u001b[0m\n",
      "\u001b[38;21m2024-11-21 11:24:47,385 :: Seapodym ::  DEBUG ::\n",
      "|\tDirect computation for _mask_temperature_helper.\n",
      "\u001b[0m\n",
      "\u001b[38;21m2024-11-21 11:24:47,385 :: Seapodym ::  DEBUG ::\n",
      "|\tDirect computation for _min_temperature_by_cohort_helper.\n",
      "\u001b[0m\n",
      "\u001b[38;21m2024-11-21 11:24:47,386 :: Seapodym ::  DEBUG ::\n",
      "|\tDirect computation for _mask_temperature_helper.\n",
      "\u001b[0m\n",
      "\u001b[38;21m2024-11-21 11:24:47,387 :: Seapodym ::  DEBUG ::\n",
      "|\tDirect computation for _min_temperature_by_cohort_helper.\n",
      "\u001b[0m\n",
      "\u001b[38;21m2024-11-21 11:24:47,388 :: Seapodym ::  DEBUG ::\n",
      "|\tDirect computation for _mask_temperature_helper.\n",
      "\u001b[0m\n",
      "\u001b[38;21m2024-11-21 11:24:47,392 :: Seapodym ::  DEBUG ::\n",
      "|\tDirect computation for _cell_area_helper.\n",
      "\u001b[0m\n",
      "\u001b[38;21m2024-11-21 11:24:47,393 :: Seapodym ::  DEBUG ::\n",
      "|\tDirect computation for _cell_area_helper.\n",
      "\u001b[0m\n",
      "\u001b[38;21m2024-11-21 11:24:47,395 :: Seapodym ::  DEBUG ::\n",
      "|\tDirect computation for _cell_area_helper.\n",
      "\u001b[0m\n",
      "\u001b[38;21m2024-11-21 11:24:47,396 :: Seapodym ::  DEBUG ::\n",
      "|\tDirect computation for _cell_area_helper.\n",
      "\u001b[0m\n",
      "\u001b[38;21m2024-11-21 11:24:47,415 :: Seapodym ::  DEBUG ::\n",
      "|\tDirect computation for _mortality_field_helper.\n",
      "\u001b[0m\n",
      "\u001b[38;21m2024-11-21 11:24:47,416 :: Seapodym ::  DEBUG ::\n",
      "|\tDirect computation for _mortality_field_helper.\n",
      "\u001b[0m\n",
      "\u001b[38;21m2024-11-21 11:24:47,417 :: Seapodym ::  DEBUG ::\n",
      "|\tDirect computation for _mortality_field_helper.\n",
      "\u001b[0m\n",
      "\u001b[38;21m2024-11-21 11:24:47,420 :: Seapodym ::  DEBUG ::\n",
      "|\tDirect computation for _mortality_field_helper.\n",
      "\u001b[0m\n",
      "\u001b[38;21m2024-11-21 11:24:47,420 :: Seapodym ::  DEBUG ::\n",
      "|\tDirect computation for _production_helper.\n",
      "\u001b[0m\n",
      "\u001b[38;21m2024-11-21 11:24:47,421 :: Seapodym ::  DEBUG ::\n",
      "|\tDirect computation for _production_helper.\n",
      "\u001b[0m\n",
      "\u001b[38;21m2024-11-21 11:24:47,422 :: Seapodym ::  DEBUG ::\n",
      "|\tDirect computation for _production_helper.\n",
      "\u001b[0m\n",
      "\u001b[38;21m2024-11-21 11:24:47,425 :: Seapodym ::  DEBUG ::\n",
      "|\tDirect computation for _production_helper.\n",
      "\u001b[0m\n",
      "\u001b[38;21m2024-11-21 11:24:47,598 :: Seapodym ::  DEBUG ::\n",
      "|\tDirect computation for _biomass_helper.\n",
      "\u001b[0m\n",
      "\u001b[38;21m2024-11-21 11:24:47,601 :: Seapodym ::  DEBUG ::\n",
      "|\tDirect computation for _biomass_helper.\n",
      "\u001b[0m\n",
      "\u001b[38;21m2024-11-21 11:24:47,605 :: Seapodym ::  DEBUG ::\n",
      "|\tDirect computation for _biomass_helper.\n",
      "\u001b[0m\n",
      "\u001b[38;21m2024-11-21 11:24:47,607 :: Seapodym ::  DEBUG ::\n",
      "|\tDirect computation for _biomass_helper.\n",
      "\u001b[0m\n",
      "\u001b[38;21m2024-11-21 11:24:47,658 :: Seapodym ::  DEBUG ::\n",
      "|\tDirect computation for global_mask_from_nan.\n",
      "\u001b[0m\n",
      "\u001b[38;21m2024-11-21 11:24:47,659 :: Seapodym ::  DEBUG ::\n",
      "|\tDirect computation for global_mask_from_nan.\n",
      "\u001b[0m\n",
      "\u001b[38;21m2024-11-21 11:24:47,661 :: Seapodym ::  DEBUG ::\n",
      "|\tDirect computation for mask_by_fgroup.\n",
      "\u001b[0m\n",
      "\u001b[38;21m2024-11-21 11:24:47,661 :: Seapodym ::  DEBUG ::\n",
      "|\tDirect computation for mask_by_fgroup.\n",
      "\u001b[0m\n",
      "\u001b[38;21m2024-11-21 11:24:47,661 :: Seapodym ::  DEBUG ::\n",
      "|\tDirect computation for global_mask_from_nan.\n",
      "\u001b[0m\n",
      "\u001b[38;21m2024-11-21 11:24:47,662 :: Seapodym ::  DEBUG ::\n",
      "|\tDirect computation for global_mask_from_nan.\n",
      "\u001b[0m\n",
      "\u001b[38;21m2024-11-21 11:24:47,663 :: Seapodym ::  DEBUG ::\n",
      "|\tDirect computation for mask_by_fgroup.\n",
      "\u001b[0m\n",
      "\u001b[38;21m2024-11-21 11:24:47,664 :: Seapodym ::  DEBUG ::\n",
      "|\tDirect computation for mask_by_fgroup.\n",
      "\u001b[0m\n",
      "\u001b[38;21m2024-11-21 11:24:47,666 :: Seapodym ::  DEBUG ::\n",
      "|\tDirect computation for _wrapper_mesh_day_lengths.\n",
      "\u001b[0m\n",
      "\u001b[38;21m2024-11-21 11:24:47,666 :: Seapodym ::  DEBUG ::\n",
      "|\tDirect computation for _wrapper_mesh_day_lengths.\n",
      "\u001b[0m\n",
      "\u001b[38;21m2024-11-21 11:24:47,670 :: Seapodym ::  DEBUG ::\n",
      "|\tDirect computation for _wrapper_mesh_day_lengths.\n",
      "\u001b[0m\n",
      "\u001b[38;21m2024-11-21 11:24:47,671 :: Seapodym ::  DEBUG ::\n",
      "|\tDirect computation for _wrapper_mesh_day_lengths.\n",
      "\u001b[0m\n",
      "\u001b[38;21m2024-11-21 11:24:47,696 :: Seapodym ::  DEBUG ::\n",
      "|\tDirect computation for _average_temperature.\n",
      "\u001b[0m\n",
      "\u001b[38;21m2024-11-21 11:24:47,697 :: Seapodym ::  DEBUG ::\n",
      "|\tDirect computation for _average_temperature.\n",
      "\u001b[0m\n",
      "\u001b[38;21m2024-11-21 11:24:47,700 :: Seapodym ::  DEBUG ::\n",
      "|\tDirect computation for _average_temperature.\n",
      "\u001b[0m\n",
      "\u001b[38;21m2024-11-21 11:24:47,702 :: Seapodym ::  DEBUG ::\n",
      "|\tDirect computation for _average_temperature.\n",
      "\u001b[0m\n",
      "\u001b[38;21m2024-11-21 11:24:47,714 :: Seapodym ::  DEBUG ::\n",
      "|\tDirect computation for _apply_coefficient_to_primary_production_helper.\n",
      "\u001b[0m\n",
      "\u001b[38;21m2024-11-21 11:24:47,715 :: Seapodym ::  DEBUG ::\n",
      "|\tDirect computation for _apply_coefficient_to_primary_production_helper.\n",
      "\u001b[0m\n",
      "\u001b[38;21m2024-11-21 11:24:47,717 :: Seapodym ::  DEBUG ::\n",
      "|\tDirect computation for _apply_coefficient_to_primary_production_helper.\n",
      "\u001b[0m\n",
      "\u001b[38;21m2024-11-21 11:24:47,719 :: Seapodym ::  DEBUG ::\n",
      "|\tDirect computation for _min_temperature_by_cohort_helper.\n",
      "\u001b[0m\n",
      "\u001b[38;21m2024-11-21 11:24:47,719 :: Seapodym ::  DEBUG ::\n",
      "|\tDirect computation for _min_temperature_by_cohort_helper.\n",
      "\u001b[0m\n",
      "\u001b[38;21m2024-11-21 11:24:47,719 :: Seapodym ::  DEBUG ::\n",
      "|\tDirect computation for _apply_coefficient_to_primary_production_helper.\n",
      "\u001b[0m\n",
      "\u001b[38;21m2024-11-21 11:24:47,719 :: Seapodym ::  DEBUG ::\n",
      "|\tDirect computation for _mask_temperature_helper.\n",
      "\u001b[0m\n",
      "\u001b[38;21m2024-11-21 11:24:47,720 :: Seapodym ::  DEBUG ::\n",
      "|\tDirect computation for _mask_temperature_helper.\n",
      "\u001b[0m\n",
      "\u001b[38;21m2024-11-21 11:24:47,722 :: Seapodym ::  DEBUG ::\n",
      "|\tDirect computation for _min_temperature_by_cohort_helper.\n",
      "\u001b[0m\n",
      "\u001b[38;21m2024-11-21 11:24:47,723 :: Seapodym ::  DEBUG ::\n",
      "|\tDirect computation for _mask_temperature_helper.\n",
      "\u001b[0m\n",
      "\u001b[38;21m2024-11-21 11:24:47,723 :: Seapodym ::  DEBUG ::\n",
      "|\tDirect computation for _min_temperature_by_cohort_helper.\n",
      "\u001b[0m\n",
      "\u001b[38;21m2024-11-21 11:24:47,724 :: Seapodym ::  DEBUG ::\n",
      "|\tDirect computation for _mask_temperature_helper.\n",
      "\u001b[0m\n",
      "\u001b[38;21m2024-11-21 11:24:47,727 :: Seapodym ::  DEBUG ::\n",
      "|\tDirect computation for _cell_area_helper.\n",
      "\u001b[0m\n",
      "\u001b[38;21m2024-11-21 11:24:47,728 :: Seapodym ::  DEBUG ::\n",
      "|\tDirect computation for _cell_area_helper.\n",
      "\u001b[0m\n",
      "\u001b[38;21m2024-11-21 11:24:47,731 :: Seapodym ::  DEBUG ::\n",
      "|\tDirect computation for _cell_area_helper.\n",
      "\u001b[0m\n",
      "\u001b[38;21m2024-11-21 11:24:47,733 :: Seapodym ::  DEBUG ::\n",
      "|\tDirect computation for _cell_area_helper.\n",
      "\u001b[0m\n",
      "\u001b[38;21m2024-11-21 11:24:47,750 :: Seapodym ::  DEBUG ::\n",
      "|\tDirect computation for _mortality_field_helper.\n",
      "\u001b[0m\n",
      "\u001b[38;21m2024-11-21 11:24:47,751 :: Seapodym ::  DEBUG ::\n",
      "|\tDirect computation for _mortality_field_helper.\n",
      "\u001b[0m\n",
      "\u001b[38;21m2024-11-21 11:24:47,753 :: Seapodym ::  DEBUG ::\n",
      "|\tDirect computation for _mortality_field_helper.\n",
      "\u001b[0m\n",
      "\u001b[38;21m2024-11-21 11:24:47,755 :: Seapodym ::  DEBUG ::\n",
      "|\tDirect computation for _production_helper.\n",
      "\u001b[0m\n",
      "\u001b[38;21m2024-11-21 11:24:47,755 :: Seapodym ::  DEBUG ::\n",
      "|\tDirect computation for _mortality_field_helper.\n",
      "\u001b[0m\n",
      "\u001b[38;21m2024-11-21 11:24:47,755 :: Seapodym ::  DEBUG ::\n",
      "|\tDirect computation for _production_helper.\n",
      "\u001b[0m\n",
      "\u001b[38;21m2024-11-21 11:24:47,757 :: Seapodym ::  DEBUG ::\n",
      "|\tDirect computation for _production_helper.\n",
      "\u001b[0m\n",
      "\u001b[38;21m2024-11-21 11:24:47,760 :: Seapodym ::  DEBUG ::\n",
      "|\tDirect computation for _production_helper.\n",
      "\u001b[0m\n",
      "\u001b[38;21m2024-11-21 11:24:47,933 :: Seapodym ::  DEBUG ::\n",
      "|\tDirect computation for _biomass_helper.\n",
      "\u001b[0m\n",
      "\u001b[38;21m2024-11-21 11:24:47,933 :: Seapodym ::  DEBUG ::\n",
      "|\tDirect computation for _biomass_helper.\n",
      "\u001b[0m\n",
      "\u001b[38;21m2024-11-21 11:24:47,936 :: Seapodym ::  DEBUG ::\n",
      "|\tDirect computation for _biomass_helper.\n",
      "\u001b[0m\n",
      "\u001b[38;21m2024-11-21 11:24:47,939 :: Seapodym ::  DEBUG ::\n",
      "|\tDirect computation for _biomass_helper.\n",
      "\u001b[0m\n",
      "\u001b[38;21m2024-11-21 11:24:47,993 :: Seapodym ::  DEBUG ::\n",
      "|\tDirect computation for global_mask_from_nan.\n",
      "\u001b[0m\n",
      "\u001b[38;21m2024-11-21 11:24:47,995 :: Seapodym ::  DEBUG ::\n",
      "|\tDirect computation for global_mask_from_nan.\n",
      "\u001b[0m\n",
      "\u001b[38;21m2024-11-21 11:24:47,995 :: Seapodym ::  DEBUG ::\n",
      "|\tDirect computation for mask_by_fgroup.\n",
      "\u001b[0m\n",
      "\u001b[38;21m2024-11-21 11:24:47,996 :: Seapodym ::  DEBUG ::\n",
      "|\tDirect computation for global_mask_from_nan.\n",
      "\u001b[0m\n",
      "\u001b[38;21m2024-11-21 11:24:47,996 :: Seapodym ::  DEBUG ::\n",
      "|\tDirect computation for mask_by_fgroup.\n",
      "\u001b[0m\n",
      "\u001b[38;21m2024-11-21 11:24:47,997 :: Seapodym ::  DEBUG ::\n",
      "|\tDirect computation for global_mask_from_nan.\n",
      "\u001b[0m\n",
      "\u001b[38;21m2024-11-21 11:24:47,997 :: Seapodym ::  DEBUG ::\n",
      "|\tDirect computation for mask_by_fgroup.\n",
      "\u001b[0m\n",
      "\u001b[38;21m2024-11-21 11:24:47,998 :: Seapodym ::  DEBUG ::\n",
      "|\tDirect computation for mask_by_fgroup.\n",
      "\u001b[0m\n",
      "\u001b[38;21m2024-11-21 11:24:48,001 :: Seapodym ::  DEBUG ::\n",
      "|\tDirect computation for _wrapper_mesh_day_lengths.\n",
      "\u001b[0m\n",
      "\u001b[38;21m2024-11-21 11:24:48,003 :: Seapodym ::  DEBUG ::\n",
      "|\tDirect computation for _wrapper_mesh_day_lengths.\n",
      "\u001b[0m\n",
      "\u001b[38;21m2024-11-21 11:24:48,004 :: Seapodym ::  DEBUG ::\n",
      "|\tDirect computation for _wrapper_mesh_day_lengths.\n",
      "\u001b[0m\n",
      "\u001b[38;21m2024-11-21 11:24:48,005 :: Seapodym ::  DEBUG ::\n",
      "|\tDirect computation for _wrapper_mesh_day_lengths.\n",
      "\u001b[0m\n",
      "\u001b[38;21m2024-11-21 11:24:48,031 :: Seapodym ::  DEBUG ::\n",
      "|\tDirect computation for _average_temperature.\n",
      "\u001b[0m\n",
      "\u001b[38;21m2024-11-21 11:24:48,034 :: Seapodym ::  DEBUG ::\n",
      "|\tDirect computation for _average_temperature.\n",
      "\u001b[0m\n",
      "\u001b[38;21m2024-11-21 11:24:48,034 :: Seapodym ::  DEBUG ::\n",
      "|\tDirect computation for _average_temperature.\n",
      "\u001b[0m\n",
      "\u001b[38;21m2024-11-21 11:24:48,036 :: Seapodym ::  DEBUG ::\n",
      "|\tDirect computation for _average_temperature.\n",
      "\u001b[0m\n",
      "\u001b[38;21m2024-11-21 11:24:48,049 :: Seapodym ::  DEBUG ::\n",
      "|\tDirect computation for _apply_coefficient_to_primary_production_helper.\n",
      "\u001b[0m\n",
      "\u001b[38;21m2024-11-21 11:24:48,052 :: Seapodym ::  DEBUG ::\n",
      "|\tDirect computation for _apply_coefficient_to_primary_production_helper.\n",
      "\u001b[0m\n",
      "\u001b[38;21m2024-11-21 11:24:48,053 :: Seapodym ::  DEBUG ::\n",
      "|\tDirect computation for _apply_coefficient_to_primary_production_helper.\n",
      "\u001b[0m\n",
      "\u001b[38;21m2024-11-21 11:24:48,053 :: Seapodym ::  DEBUG ::\n",
      "|\tDirect computation for _min_temperature_by_cohort_helper.\n",
      "\u001b[0m\n",
      "\u001b[38;21m2024-11-21 11:24:48,054 :: Seapodym ::  DEBUG ::\n",
      "|\tDirect computation for _apply_coefficient_to_primary_production_helper.\n",
      "\u001b[0m\n",
      "\u001b[38;21m2024-11-21 11:24:48,054 :: Seapodym ::  DEBUG ::\n",
      "|\tDirect computation for _mask_temperature_helper.\n",
      "\u001b[0m\n",
      "\u001b[38;21m2024-11-21 11:24:48,056 :: Seapodym ::  DEBUG ::\n",
      "|\tDirect computation for _min_temperature_by_cohort_helper.\n",
      "\u001b[0m\n",
      "\u001b[38;21m2024-11-21 11:24:48,057 :: Seapodym ::  DEBUG ::\n",
      "|\tDirect computation for _min_temperature_by_cohort_helper.\n",
      "\u001b[0m\n",
      "\u001b[38;21m2024-11-21 11:24:48,057 :: Seapodym ::  DEBUG ::\n",
      "|\tDirect computation for _mask_temperature_helper.\n",
      "\u001b[0m\n",
      "\u001b[38;21m2024-11-21 11:24:48,058 :: Seapodym ::  DEBUG ::\n",
      "|\tDirect computation for _min_temperature_by_cohort_helper.\n",
      "\u001b[0m\n",
      "\u001b[38;21m2024-11-21 11:24:48,058 :: Seapodym ::  DEBUG ::\n",
      "|\tDirect computation for _mask_temperature_helper.\n",
      "\u001b[0m\n",
      "\u001b[38;21m2024-11-21 11:24:48,059 :: Seapodym ::  DEBUG ::\n",
      "|\tDirect computation for _mask_temperature_helper.\n",
      "\u001b[0m\n",
      "\u001b[38;21m2024-11-21 11:24:48,063 :: Seapodym ::  DEBUG ::\n",
      "|\tDirect computation for _cell_area_helper.\n",
      "\u001b[0m\n",
      "\u001b[38;21m2024-11-21 11:24:48,065 :: Seapodym ::  DEBUG ::\n",
      "|\tDirect computation for _cell_area_helper.\n",
      "\u001b[0m\n",
      "\u001b[38;21m2024-11-21 11:24:48,066 :: Seapodym ::  DEBUG ::\n",
      "|\tDirect computation for _cell_area_helper.\n",
      "\u001b[0m\n",
      "\u001b[38;21m2024-11-21 11:24:48,067 :: Seapodym ::  DEBUG ::\n",
      "|\tDirect computation for _cell_area_helper.\n",
      "\u001b[0m\n",
      "\u001b[38;21m2024-11-21 11:24:48,087 :: Seapodym ::  DEBUG ::\n",
      "|\tDirect computation for _mortality_field_helper.\n",
      "\u001b[0m\n",
      "\u001b[38;21m2024-11-21 11:24:48,088 :: Seapodym ::  DEBUG ::\n",
      "|\tDirect computation for _mortality_field_helper.\n",
      "\u001b[0m\n",
      "\u001b[38;21m2024-11-21 11:24:48,090 :: Seapodym ::  DEBUG ::\n",
      "|\tDirect computation for _mortality_field_helper.\n",
      "\u001b[0m\n",
      "\u001b[38;21m2024-11-21 11:24:48,090 :: Seapodym ::  DEBUG ::\n",
      "|\tDirect computation for _mortality_field_helper.\n",
      "\u001b[0m\n",
      "\u001b[38;21m2024-11-21 11:24:48,092 :: Seapodym ::  DEBUG ::\n",
      "|\tDirect computation for _production_helper.\n",
      "\u001b[0m\n",
      "\u001b[38;21m2024-11-21 11:24:48,092 :: Seapodym ::  DEBUG ::\n",
      "|\tDirect computation for _production_helper.\n",
      "\u001b[0m\n",
      "\u001b[38;21m2024-11-21 11:24:48,094 :: Seapodym ::  DEBUG ::\n",
      "|\tDirect computation for _production_helper.\n",
      "\u001b[0m\n",
      "\u001b[38;21m2024-11-21 11:24:48,095 :: Seapodym ::  DEBUG ::\n",
      "|\tDirect computation for _production_helper.\n",
      "\u001b[0m\n",
      "\u001b[38;21m2024-11-21 11:24:48,272 :: Seapodym ::  DEBUG ::\n",
      "|\tDirect computation for _biomass_helper.\n",
      "\u001b[0m\n",
      "\u001b[38;21m2024-11-21 11:24:48,273 :: Seapodym ::  DEBUG ::\n",
      "|\tDirect computation for _biomass_helper.\n",
      "\u001b[0m\n",
      "\u001b[38;21m2024-11-21 11:24:48,274 :: Seapodym ::  DEBUG ::\n",
      "|\tDirect computation for _biomass_helper.\n",
      "\u001b[0m\n",
      "\u001b[38;21m2024-11-21 11:24:48,275 :: Seapodym ::  DEBUG ::\n",
      "|\tDirect computation for _biomass_helper.\n",
      "\u001b[0m\n",
      "\u001b[38;21m2024-11-21 11:24:48,326 :: Seapodym ::  DEBUG ::\n",
      "|\tDirect computation for global_mask_from_nan.\n",
      "\u001b[0m\n",
      "\u001b[38;21m2024-11-21 11:24:48,327 :: Seapodym ::  DEBUG ::\n",
      "|\tDirect computation for mask_by_fgroup.\n",
      "\u001b[0m\n",
      "\u001b[38;21m2024-11-21 11:24:48,328 :: Seapodym ::  DEBUG ::\n",
      "|\tDirect computation for global_mask_from_nan.\n",
      "\u001b[0m\n",
      "\u001b[38;21m2024-11-21 11:24:48,328 :: Seapodym ::  DEBUG ::\n",
      "|\tDirect computation for global_mask_from_nan.\n",
      "\u001b[0m\n",
      "\u001b[38;21m2024-11-21 11:24:48,330 :: Seapodym ::  DEBUG ::\n",
      "|\tDirect computation for mask_by_fgroup.\n",
      "\u001b[0m\n",
      "\u001b[38;21m2024-11-21 11:24:48,330 :: Seapodym ::  DEBUG ::\n",
      "|\tDirect computation for mask_by_fgroup.\n",
      "\u001b[0m\n",
      "\u001b[38;21m2024-11-21 11:24:48,334 :: Seapodym ::  DEBUG ::\n",
      "|\tDirect computation for _wrapper_mesh_day_lengths.\n",
      "\u001b[0m\n",
      "\u001b[38;21m2024-11-21 11:24:48,335 :: Seapodym ::  DEBUG ::\n",
      "|\tDirect computation for _wrapper_mesh_day_lengths.\n",
      "\u001b[0m\n",
      "\u001b[38;21m2024-11-21 11:24:48,337 :: Seapodym ::  DEBUG ::\n",
      "|\tDirect computation for _wrapper_mesh_day_lengths.\n",
      "\u001b[0m\n",
      "\u001b[38;21m2024-11-21 11:24:48,363 :: Seapodym ::  DEBUG ::\n",
      "|\tDirect computation for _average_temperature.\n",
      "\u001b[0m\n",
      "\u001b[38;21m2024-11-21 11:24:48,365 :: Seapodym ::  DEBUG ::\n",
      "|\tDirect computation for _average_temperature.\n",
      "\u001b[0m\n",
      "\u001b[38;21m2024-11-21 11:24:48,366 :: Seapodym ::  DEBUG ::\n",
      "|\tDirect computation for _average_temperature.\n",
      "\u001b[0m\n",
      "\u001b[38;21m2024-11-21 11:24:48,380 :: Seapodym ::  DEBUG ::\n",
      "|\tDirect computation for _apply_coefficient_to_primary_production_helper.\n",
      "\u001b[0m\n",
      "\u001b[38;21m2024-11-21 11:24:48,382 :: Seapodym ::  DEBUG ::\n",
      "|\tDirect computation for _apply_coefficient_to_primary_production_helper.\n",
      "\u001b[0m\n",
      "\u001b[38;21m2024-11-21 11:24:48,383 :: Seapodym ::  DEBUG ::\n",
      "|\tDirect computation for _apply_coefficient_to_primary_production_helper.\n",
      "\u001b[0m\n",
      "\u001b[38;21m2024-11-21 11:24:48,383 :: Seapodym ::  DEBUG ::\n",
      "|\tDirect computation for _min_temperature_by_cohort_helper.\n",
      "\u001b[0m\n",
      "\u001b[38;21m2024-11-21 11:24:48,384 :: Seapodym ::  DEBUG ::\n",
      "|\tDirect computation for _mask_temperature_helper.\n",
      "\u001b[0m\n",
      "\u001b[38;21m2024-11-21 11:24:48,387 :: Seapodym ::  DEBUG ::\n",
      "|\tDirect computation for _min_temperature_by_cohort_helper.\n",
      "\u001b[0m\n",
      "\u001b[38;21m2024-11-21 11:24:48,388 :: Seapodym ::  DEBUG ::\n",
      "|\tDirect computation for _mask_temperature_helper.\n",
      "\u001b[0m\n",
      "\u001b[38;21m2024-11-21 11:24:48,388 :: Seapodym ::  DEBUG ::\n",
      "|\tDirect computation for _min_temperature_by_cohort_helper.\n",
      "\u001b[0m\n",
      "\u001b[38;21m2024-11-21 11:24:48,389 :: Seapodym ::  DEBUG ::\n",
      "|\tDirect computation for _mask_temperature_helper.\n",
      "\u001b[0m\n",
      "\u001b[38;21m2024-11-21 11:24:48,392 :: Seapodym ::  DEBUG ::\n",
      "|\tDirect computation for _cell_area_helper.\n",
      "\u001b[0m\n",
      "\u001b[38;21m2024-11-21 11:24:48,396 :: Seapodym ::  DEBUG ::\n",
      "|\tDirect computation for _cell_area_helper.\n",
      "\u001b[0m\n",
      "\u001b[38;21m2024-11-21 11:24:48,396 :: Seapodym ::  DEBUG ::\n",
      "|\tDirect computation for _cell_area_helper.\n",
      "\u001b[0m\n",
      "\u001b[38;21m2024-11-21 11:24:48,414 :: Seapodym ::  DEBUG ::\n",
      "|\tDirect computation for _mortality_field_helper.\n",
      "\u001b[0m\n",
      "\u001b[38;21m2024-11-21 11:24:48,417 :: Seapodym ::  DEBUG ::\n",
      "|\tDirect computation for _mortality_field_helper.\n",
      "\u001b[0m\n",
      "\u001b[38;21m2024-11-21 11:24:48,417 :: Seapodym ::  DEBUG ::\n",
      "|\tDirect computation for _mortality_field_helper.\n",
      "\u001b[0m\n",
      "\u001b[38;21m2024-11-21 11:24:48,418 :: Seapodym ::  DEBUG ::\n",
      "|\tDirect computation for _production_helper.\n",
      "\u001b[0m\n",
      "\u001b[38;21m2024-11-21 11:24:48,421 :: Seapodym ::  DEBUG ::\n",
      "|\tDirect computation for _production_helper.\n",
      "\u001b[0m\n",
      "\u001b[38;21m2024-11-21 11:24:48,422 :: Seapodym ::  DEBUG ::\n",
      "|\tDirect computation for _production_helper.\n",
      "\u001b[0m\n",
      "\u001b[38;21m2024-11-21 11:24:48,646 :: Seapodym ::  DEBUG ::\n",
      "|\tDirect computation for _biomass_helper.\n",
      "\u001b[0m\n",
      "\u001b[38;21m2024-11-21 11:24:48,690 :: Seapodym ::  DEBUG ::\n",
      "|\tDirect computation for _biomass_helper.\n",
      "\u001b[0m\n",
      "\u001b[38;21m2024-11-21 11:24:48,693 :: Seapodym ::  DEBUG ::\n",
      "|\tDirect computation for _biomass_helper.\n",
      "\u001b[0m\n"
     ]
    }
   ],
   "source": [
    "viewer = genetic_algo.optimize()"
   ]
  },
  {
   "cell_type": "markdown",
   "metadata": {},
   "source": [
    "Finaly here is the result :\n"
   ]
  },
  {
   "cell_type": "code",
   "execution_count": 14,
   "metadata": {},
   "outputs": [
    {
     "data": {
      "text/html": [
       "<div>\n",
       "<style scoped>\n",
       "    .dataframe tbody tr th:only-of-type {\n",
       "        vertical-align: middle;\n",
       "    }\n",
       "\n",
       "    .dataframe tbody tr th {\n",
       "        vertical-align: top;\n",
       "    }\n",
       "\n",
       "    .dataframe thead th {\n",
       "        text-align: right;\n",
       "    }\n",
       "</style>\n",
       "<table border=\"1\" class=\"dataframe\">\n",
       "  <thead>\n",
       "    <tr style=\"text-align: right;\">\n",
       "      <th></th>\n",
       "      <th>gen</th>\n",
       "      <th>nevals</th>\n",
       "      <th>avg</th>\n",
       "      <th>std</th>\n",
       "      <th>min</th>\n",
       "      <th>max</th>\n",
       "      <th>nvalide</th>\n",
       "      <th>ninvalide</th>\n",
       "    </tr>\n",
       "  </thead>\n",
       "  <tbody>\n",
       "    <tr>\n",
       "      <th>0</th>\n",
       "      <td>0</td>\n",
       "      <td>10</td>\n",
       "      <td>8.852038e-06</td>\n",
       "      <td>1.915979e-05</td>\n",
       "      <td>1.388461e-07</td>\n",
       "      <td>5.169416e-05</td>\n",
       "      <td>6</td>\n",
       "      <td>4</td>\n",
       "    </tr>\n",
       "    <tr>\n",
       "      <th>1</th>\n",
       "      <td>1</td>\n",
       "      <td>7</td>\n",
       "      <td>3.365392e-07</td>\n",
       "      <td>8.886897e-08</td>\n",
       "      <td>1.388461e-07</td>\n",
       "      <td>4.304619e-07</td>\n",
       "      <td>8</td>\n",
       "      <td>2</td>\n",
       "    </tr>\n",
       "    <tr>\n",
       "      <th>2</th>\n",
       "      <td>2</td>\n",
       "      <td>5</td>\n",
       "      <td>2.633433e-07</td>\n",
       "      <td>1.073315e-07</td>\n",
       "      <td>1.388461e-07</td>\n",
       "      <td>4.198998e-07</td>\n",
       "      <td>10</td>\n",
       "      <td>0</td>\n",
       "    </tr>\n",
       "    <tr>\n",
       "      <th>3</th>\n",
       "      <td>3</td>\n",
       "      <td>7</td>\n",
       "      <td>9.080509e-07</td>\n",
       "      <td>2.203398e-06</td>\n",
       "      <td>1.388461e-07</td>\n",
       "      <td>7.515611e-06</td>\n",
       "      <td>10</td>\n",
       "      <td>0</td>\n",
       "    </tr>\n",
       "    <tr>\n",
       "      <th>4</th>\n",
       "      <td>4</td>\n",
       "      <td>4</td>\n",
       "      <td>1.609957e-07</td>\n",
       "      <td>6.644878e-08</td>\n",
       "      <td>1.388461e-07</td>\n",
       "      <td>3.603420e-07</td>\n",
       "      <td>10</td>\n",
       "      <td>0</td>\n",
       "    </tr>\n",
       "    <tr>\n",
       "      <th>5</th>\n",
       "      <td>5</td>\n",
       "      <td>5</td>\n",
       "      <td>1.496308e-07</td>\n",
       "      <td>3.235398e-08</td>\n",
       "      <td>1.388461e-07</td>\n",
       "      <td>2.466927e-07</td>\n",
       "      <td>10</td>\n",
       "      <td>0</td>\n",
       "    </tr>\n",
       "  </tbody>\n",
       "</table>\n",
       "</div>"
      ],
      "text/plain": [
       "   gen  nevals           avg           std           min           max  \\\n",
       "0    0      10  8.852038e-06  1.915979e-05  1.388461e-07  5.169416e-05   \n",
       "1    1       7  3.365392e-07  8.886897e-08  1.388461e-07  4.304619e-07   \n",
       "2    2       5  2.633433e-07  1.073315e-07  1.388461e-07  4.198998e-07   \n",
       "3    3       7  9.080509e-07  2.203398e-06  1.388461e-07  7.515611e-06   \n",
       "4    4       4  1.609957e-07  6.644878e-08  1.388461e-07  3.603420e-07   \n",
       "5    5       5  1.496308e-07  3.235398e-08  1.388461e-07  2.466927e-07   \n",
       "\n",
       "   nvalide  ninvalide  \n",
       "0        6          4  \n",
       "1        8          2  \n",
       "2       10          0  \n",
       "3       10          0  \n",
       "4       10          0  \n",
       "5       10          0  "
      ]
     },
     "execution_count": 14,
     "metadata": {},
     "output_type": "execute_result"
    }
   ],
   "source": [
    "viewer.logbook"
   ]
  },
  {
   "cell_type": "code",
   "execution_count": 15,
   "metadata": {},
   "outputs": [
    {
     "data": {
      "application/vnd.plotly.v1+json": {
       "config": {
        "plotlyServerURL": "https://plot.ly"
       },
       "data": [
        {
         "alignmentgroup": "True",
         "hovertemplate": "D1N1_tr_max=%{y}<extra></extra>",
         "legendgroup": "",
         "marker": {
          "color": "#636efa"
         },
         "name": "",
         "notched": false,
         "offsetgroup": "",
         "orientation": "v",
         "showlegend": false,
         "type": "box",
         "x0": " ",
         "xaxis": "x",
         "y": [
          38.76447158464333,
          38.76447158464333,
          38.76447158464333,
          9.979999716560851,
          38.76447158464333,
          38.76447158464333,
          44.288583807078204,
          38.32174869105921,
          38.32174869105921,
          19.912255973728136,
          38.76447158464333,
          19.912255973728136,
          44.288583807078204,
          44.288583807078204,
          38.32174869105921,
          19.912255973728136,
          38.76447158464333,
          32.118025079542754
         ],
         "y0": " ",
         "yaxis": "y"
        },
        {
         "alignmentgroup": "True",
         "hovertemplate": "D1N1_tr_rate=%{y}<extra></extra>",
         "legendgroup": "",
         "marker": {
          "color": "#636efa"
         },
         "name": "",
         "notched": false,
         "offsetgroup": "",
         "orientation": "v",
         "showlegend": false,
         "type": "box",
         "x0": " ",
         "xaxis": "x2",
         "y": [
          -0.21860243845233263,
          -0.21860243845233263,
          -0.21860243845233263,
          -0.49179062038403765,
          -0.21860243845233263,
          -0.21860243845233263,
          -0.988067646162031,
          -0.7324453541685094,
          -0.7324453541685094,
          -0.37441178019876287,
          -0.21860243845233263,
          -0.37441178019876287,
          -0.988067646162031,
          -0.988067646162031,
          -0.7324453541685094,
          -0.37441178019876287,
          -0.21860243845233263,
          -0.3836505622543743
         ],
         "y0": " ",
         "yaxis": "y2"
        },
        {
         "alignmentgroup": "True",
         "hovertemplate": "D1N1_inv_lambda_max=%{y}<extra></extra>",
         "legendgroup": "",
         "marker": {
          "color": "#636efa"
         },
         "name": "",
         "notched": false,
         "offsetgroup": "",
         "orientation": "v",
         "showlegend": false,
         "type": "box",
         "x0": " ",
         "xaxis": "x3",
         "y": [
          5.772658496847871,
          5.772658496847871,
          5.772658496847871,
          45.923919200055174,
          0.2761564326343997,
          5.772658496847871,
          32.65321155729636,
          57.9932523807982,
          57.9932523807982,
          59.73008178416283,
          5.772658496847871,
          59.73008178416283,
          32.65321155729636,
          32.65321155729636,
          57.9932523807982,
          59.73008178416283,
          5.772658496847871,
          94.16460808125105
         ],
         "y0": " ",
         "yaxis": "y3"
        },
        {
         "alignmentgroup": "True",
         "hovertemplate": "D1N1_inv_lambda_rate=%{y}<extra></extra>",
         "legendgroup": "",
         "marker": {
          "color": "#636efa"
         },
         "name": "",
         "notched": false,
         "offsetgroup": "",
         "orientation": "v",
         "showlegend": false,
         "type": "box",
         "x0": " ",
         "xaxis": "x4",
         "y": [
          0.044408443921092,
          0.044408443921092,
          0.044408443921092,
          0.9826177973641601,
          0.044408443921092,
          0.6307682274255278,
          0.8217771657337483,
          0.8217771657337483,
          0.8217771657337483,
          0.4211132507883798,
          0.01653952182519114,
          0.4211132507883798,
          0.1936926409771399,
          0.1936926409771399,
          0.1936926409771399,
          0.4211132507883798,
          0.0028367060225013008,
          0.04558771964456798
         ],
         "y0": " ",
         "yaxis": "y4"
        },
        {
         "alignmentgroup": "True",
         "hovertemplate": "D1N1_energy_coefficient=%{y}<extra></extra>",
         "legendgroup": "",
         "marker": {
          "color": "#636efa"
         },
         "name": "",
         "notched": false,
         "offsetgroup": "",
         "orientation": "v",
         "showlegend": false,
         "type": "box",
         "x0": " ",
         "xaxis": "x5",
         "y": [
          0.6037017019153891,
          0.6037017019153891,
          0.6037017019153891,
          0.3055811213866364,
          0.6037017019153891,
          0.6037017019153891,
          0.5091898018256199,
          0.5091898018256199,
          0.5091898018256199,
          0.23234081892094616,
          0.6037017019153891,
          0.15380928892697493,
          0.23234081892094616,
          0.15380928892697493,
          0.15380928892697493,
          0.23234081892094616,
          0.6037017019153891,
          0.550683714322987
         ],
         "y0": " ",
         "yaxis": "y5"
        },
        {
         "alignmentgroup": "True",
         "hovertemplate": "D2N1_tr_max=%{y}<extra></extra>",
         "legendgroup": "",
         "marker": {
          "color": "#636efa"
         },
         "name": "",
         "notched": false,
         "offsetgroup": "",
         "orientation": "v",
         "showlegend": false,
         "type": "box",
         "x0": " ",
         "xaxis": "x6",
         "y": [
          28.654380707042833,
          33.00929025972178,
          28.654380707042833,
          5.713836302547887,
          33.00929025972178,
          8.288024028638894,
          31.81418315563258,
          31.81418315563258,
          24.7607346495367,
          3.085253371359997,
          33.30561414746169,
          16.5493624662746,
          3.085253371359997,
          16.5493624662746,
          16.5493624662746,
          3.085253371359997,
          28.654380707042833,
          17.11876839666479
         ],
         "y0": " ",
         "yaxis": "y6"
        },
        {
         "alignmentgroup": "True",
         "hovertemplate": "D2N1_tr_rate=%{y}<extra></extra>",
         "legendgroup": "",
         "marker": {
          "color": "#636efa"
         },
         "name": "",
         "notched": false,
         "offsetgroup": "",
         "orientation": "v",
         "showlegend": false,
         "type": "box",
         "x0": " ",
         "xaxis": "x7",
         "y": [
          -0.9192961732901517,
          -0.39948464093614033,
          -0.39948464093614033,
          -0.4757587404058239,
          -0.567882805197141,
          -0.39948464093614033,
          -0.6324881767396197,
          -0.7515724057193238,
          -0.7515724057193238,
          -0.8050727332472516,
          -0.1896775117224726,
          -0.8050727332472516,
          -0.6324881767396197,
          -0.6324881767396197,
          -0.7515724057193238,
          -0.8050727332472516,
          -0.39948464093614033,
          -0.21696259527502781
         ],
         "y0": " ",
         "yaxis": "y7"
        },
        {
         "alignmentgroup": "True",
         "hovertemplate": "D2N1_inv_lambda_max=%{y}<extra></extra>",
         "legendgroup": "",
         "marker": {
          "color": "#636efa"
         },
         "name": "",
         "notched": false,
         "offsetgroup": "",
         "orientation": "v",
         "showlegend": false,
         "type": "box",
         "x0": " ",
         "xaxis": "x8",
         "y": [
          53.3421591019588,
          53.3421591019588,
          53.3421591019588,
          15.48662483183132,
          53.3421591019588,
          53.3421591019588,
          48.59813105298667,
          56.84863344119925,
          56.84863344119925,
          17.965866480736516,
          53.3421591019588,
          17.965866480736516,
          48.59813105298667,
          48.59813105298667,
          56.84863344119925,
          17.965866480736516,
          53.3421591019588,
          68.94219252135888
         ],
         "y0": " ",
         "yaxis": "y8"
        },
        {
         "alignmentgroup": "True",
         "hovertemplate": "D2N1_inv_lambda_rate=%{y}<extra></extra>",
         "legendgroup": "",
         "marker": {
          "color": "#636efa"
         },
         "name": "",
         "notched": false,
         "offsetgroup": "",
         "orientation": "v",
         "showlegend": false,
         "type": "box",
         "x0": " ",
         "xaxis": "x9",
         "y": [
          0.3325455601810893,
          0.3325455601810893,
          0.3325455601810893,
          0.07637890699218408,
          0.17718251889565273,
          0.3325455601810893,
          0.24582924111235172,
          0.2988249945921606,
          0.5196792271464139,
          0.662600201358791,
          0.3325455601810893,
          0.662600201358791,
          0.24582924111235172,
          0.24582924111235172,
          0.2988249945921606,
          0.662600201358791,
          0.03364427121122926,
          0.3279619949219378
         ],
         "y0": " ",
         "yaxis": "y9"
        },
        {
         "alignmentgroup": "True",
         "hovertemplate": "D2N1_energy_coefficient=%{y}<extra></extra>",
         "legendgroup": "",
         "marker": {
          "color": "#636efa"
         },
         "name": "",
         "notched": false,
         "offsetgroup": "",
         "orientation": "v",
         "showlegend": false,
         "type": "box",
         "x0": " ",
         "xaxis": "x10",
         "y": [
          0.29171947048070773,
          0.29171947048070773,
          0.29171947048070773,
          0.4040213619099052,
          0.25016908850306013,
          0.29171947048070773,
          0.3904015475821031,
          0.3098900577443144,
          0.3098900577443144,
          0.7346517992449475,
          0.29171947048070773,
          0.7346517992449475,
          0.3904015475821031,
          0.3904015475821031,
          0.3098900577443144,
          0.3075649309372717,
          0.29171947048070773,
          0.3075649309372717
         ],
         "y0": " ",
         "yaxis": "y10"
        }
       ],
       "layout": {
        "annotations": [
         {
          "font": {
           "size": 16
          },
          "showarrow": false,
          "text": "D1N1_tr_max",
          "x": 0.08399999999999999,
          "xanchor": "center",
          "xref": "paper",
          "y": 1,
          "yanchor": "bottom",
          "yref": "paper"
         },
         {
          "font": {
           "size": 16
          },
          "showarrow": false,
          "text": "D1N1_tr_rate",
          "x": 0.292,
          "xanchor": "center",
          "xref": "paper",
          "y": 1,
          "yanchor": "bottom",
          "yref": "paper"
         },
         {
          "font": {
           "size": 16
          },
          "showarrow": false,
          "text": "D1N1_inv_lambda_max",
          "x": 0.5,
          "xanchor": "center",
          "xref": "paper",
          "y": 1,
          "yanchor": "bottom",
          "yref": "paper"
         },
         {
          "font": {
           "size": 16
          },
          "showarrow": false,
          "text": "D1N1_inv_lambda_rate",
          "x": 0.708,
          "xanchor": "center",
          "xref": "paper",
          "y": 1,
          "yanchor": "bottom",
          "yref": "paper"
         },
         {
          "font": {
           "size": 16
          },
          "showarrow": false,
          "text": "D1N1_energy_coefficient",
          "x": 0.9159999999999999,
          "xanchor": "center",
          "xref": "paper",
          "y": 1,
          "yanchor": "bottom",
          "yref": "paper"
         },
         {
          "font": {
           "size": 16
          },
          "showarrow": false,
          "text": "D2N1_tr_max",
          "x": 0.08399999999999999,
          "xanchor": "center",
          "xref": "paper",
          "y": 0.375,
          "yanchor": "bottom",
          "yref": "paper"
         },
         {
          "font": {
           "size": 16
          },
          "showarrow": false,
          "text": "D2N1_tr_rate",
          "x": 0.292,
          "xanchor": "center",
          "xref": "paper",
          "y": 0.375,
          "yanchor": "bottom",
          "yref": "paper"
         },
         {
          "font": {
           "size": 16
          },
          "showarrow": false,
          "text": "D2N1_inv_lambda_max",
          "x": 0.5,
          "xanchor": "center",
          "xref": "paper",
          "y": 0.375,
          "yanchor": "bottom",
          "yref": "paper"
         },
         {
          "font": {
           "size": 16
          },
          "showarrow": false,
          "text": "D2N1_inv_lambda_rate",
          "x": 0.708,
          "xanchor": "center",
          "xref": "paper",
          "y": 0.375,
          "yanchor": "bottom",
          "yref": "paper"
         },
         {
          "font": {
           "size": 16
          },
          "showarrow": false,
          "text": "D2N1_energy_coefficient",
          "x": 0.9159999999999999,
          "xanchor": "center",
          "xref": "paper",
          "y": 0.375,
          "yanchor": "bottom",
          "yref": "paper"
         }
        ],
        "template": {
         "data": {
          "bar": [
           {
            "error_x": {
             "color": "#2a3f5f"
            },
            "error_y": {
             "color": "#2a3f5f"
            },
            "marker": {
             "line": {
              "color": "#E5ECF6",
              "width": 0.5
             },
             "pattern": {
              "fillmode": "overlay",
              "size": 10,
              "solidity": 0.2
             }
            },
            "type": "bar"
           }
          ],
          "barpolar": [
           {
            "marker": {
             "line": {
              "color": "#E5ECF6",
              "width": 0.5
             },
             "pattern": {
              "fillmode": "overlay",
              "size": 10,
              "solidity": 0.2
             }
            },
            "type": "barpolar"
           }
          ],
          "carpet": [
           {
            "aaxis": {
             "endlinecolor": "#2a3f5f",
             "gridcolor": "white",
             "linecolor": "white",
             "minorgridcolor": "white",
             "startlinecolor": "#2a3f5f"
            },
            "baxis": {
             "endlinecolor": "#2a3f5f",
             "gridcolor": "white",
             "linecolor": "white",
             "minorgridcolor": "white",
             "startlinecolor": "#2a3f5f"
            },
            "type": "carpet"
           }
          ],
          "choropleth": [
           {
            "colorbar": {
             "outlinewidth": 0,
             "ticks": ""
            },
            "type": "choropleth"
           }
          ],
          "contour": [
           {
            "colorbar": {
             "outlinewidth": 0,
             "ticks": ""
            },
            "colorscale": [
             [
              0,
              "#0d0887"
             ],
             [
              0.1111111111111111,
              "#46039f"
             ],
             [
              0.2222222222222222,
              "#7201a8"
             ],
             [
              0.3333333333333333,
              "#9c179e"
             ],
             [
              0.4444444444444444,
              "#bd3786"
             ],
             [
              0.5555555555555556,
              "#d8576b"
             ],
             [
              0.6666666666666666,
              "#ed7953"
             ],
             [
              0.7777777777777778,
              "#fb9f3a"
             ],
             [
              0.8888888888888888,
              "#fdca26"
             ],
             [
              1,
              "#f0f921"
             ]
            ],
            "type": "contour"
           }
          ],
          "contourcarpet": [
           {
            "colorbar": {
             "outlinewidth": 0,
             "ticks": ""
            },
            "type": "contourcarpet"
           }
          ],
          "heatmap": [
           {
            "colorbar": {
             "outlinewidth": 0,
             "ticks": ""
            },
            "colorscale": [
             [
              0,
              "#0d0887"
             ],
             [
              0.1111111111111111,
              "#46039f"
             ],
             [
              0.2222222222222222,
              "#7201a8"
             ],
             [
              0.3333333333333333,
              "#9c179e"
             ],
             [
              0.4444444444444444,
              "#bd3786"
             ],
             [
              0.5555555555555556,
              "#d8576b"
             ],
             [
              0.6666666666666666,
              "#ed7953"
             ],
             [
              0.7777777777777778,
              "#fb9f3a"
             ],
             [
              0.8888888888888888,
              "#fdca26"
             ],
             [
              1,
              "#f0f921"
             ]
            ],
            "type": "heatmap"
           }
          ],
          "heatmapgl": [
           {
            "colorbar": {
             "outlinewidth": 0,
             "ticks": ""
            },
            "colorscale": [
             [
              0,
              "#0d0887"
             ],
             [
              0.1111111111111111,
              "#46039f"
             ],
             [
              0.2222222222222222,
              "#7201a8"
             ],
             [
              0.3333333333333333,
              "#9c179e"
             ],
             [
              0.4444444444444444,
              "#bd3786"
             ],
             [
              0.5555555555555556,
              "#d8576b"
             ],
             [
              0.6666666666666666,
              "#ed7953"
             ],
             [
              0.7777777777777778,
              "#fb9f3a"
             ],
             [
              0.8888888888888888,
              "#fdca26"
             ],
             [
              1,
              "#f0f921"
             ]
            ],
            "type": "heatmapgl"
           }
          ],
          "histogram": [
           {
            "marker": {
             "pattern": {
              "fillmode": "overlay",
              "size": 10,
              "solidity": 0.2
             }
            },
            "type": "histogram"
           }
          ],
          "histogram2d": [
           {
            "colorbar": {
             "outlinewidth": 0,
             "ticks": ""
            },
            "colorscale": [
             [
              0,
              "#0d0887"
             ],
             [
              0.1111111111111111,
              "#46039f"
             ],
             [
              0.2222222222222222,
              "#7201a8"
             ],
             [
              0.3333333333333333,
              "#9c179e"
             ],
             [
              0.4444444444444444,
              "#bd3786"
             ],
             [
              0.5555555555555556,
              "#d8576b"
             ],
             [
              0.6666666666666666,
              "#ed7953"
             ],
             [
              0.7777777777777778,
              "#fb9f3a"
             ],
             [
              0.8888888888888888,
              "#fdca26"
             ],
             [
              1,
              "#f0f921"
             ]
            ],
            "type": "histogram2d"
           }
          ],
          "histogram2dcontour": [
           {
            "colorbar": {
             "outlinewidth": 0,
             "ticks": ""
            },
            "colorscale": [
             [
              0,
              "#0d0887"
             ],
             [
              0.1111111111111111,
              "#46039f"
             ],
             [
              0.2222222222222222,
              "#7201a8"
             ],
             [
              0.3333333333333333,
              "#9c179e"
             ],
             [
              0.4444444444444444,
              "#bd3786"
             ],
             [
              0.5555555555555556,
              "#d8576b"
             ],
             [
              0.6666666666666666,
              "#ed7953"
             ],
             [
              0.7777777777777778,
              "#fb9f3a"
             ],
             [
              0.8888888888888888,
              "#fdca26"
             ],
             [
              1,
              "#f0f921"
             ]
            ],
            "type": "histogram2dcontour"
           }
          ],
          "mesh3d": [
           {
            "colorbar": {
             "outlinewidth": 0,
             "ticks": ""
            },
            "type": "mesh3d"
           }
          ],
          "parcoords": [
           {
            "line": {
             "colorbar": {
              "outlinewidth": 0,
              "ticks": ""
             }
            },
            "type": "parcoords"
           }
          ],
          "pie": [
           {
            "automargin": true,
            "type": "pie"
           }
          ],
          "scatter": [
           {
            "fillpattern": {
             "fillmode": "overlay",
             "size": 10,
             "solidity": 0.2
            },
            "type": "scatter"
           }
          ],
          "scatter3d": [
           {
            "line": {
             "colorbar": {
              "outlinewidth": 0,
              "ticks": ""
             }
            },
            "marker": {
             "colorbar": {
              "outlinewidth": 0,
              "ticks": ""
             }
            },
            "type": "scatter3d"
           }
          ],
          "scattercarpet": [
           {
            "marker": {
             "colorbar": {
              "outlinewidth": 0,
              "ticks": ""
             }
            },
            "type": "scattercarpet"
           }
          ],
          "scattergeo": [
           {
            "marker": {
             "colorbar": {
              "outlinewidth": 0,
              "ticks": ""
             }
            },
            "type": "scattergeo"
           }
          ],
          "scattergl": [
           {
            "marker": {
             "colorbar": {
              "outlinewidth": 0,
              "ticks": ""
             }
            },
            "type": "scattergl"
           }
          ],
          "scattermapbox": [
           {
            "marker": {
             "colorbar": {
              "outlinewidth": 0,
              "ticks": ""
             }
            },
            "type": "scattermapbox"
           }
          ],
          "scatterpolar": [
           {
            "marker": {
             "colorbar": {
              "outlinewidth": 0,
              "ticks": ""
             }
            },
            "type": "scatterpolar"
           }
          ],
          "scatterpolargl": [
           {
            "marker": {
             "colorbar": {
              "outlinewidth": 0,
              "ticks": ""
             }
            },
            "type": "scatterpolargl"
           }
          ],
          "scatterternary": [
           {
            "marker": {
             "colorbar": {
              "outlinewidth": 0,
              "ticks": ""
             }
            },
            "type": "scatterternary"
           }
          ],
          "surface": [
           {
            "colorbar": {
             "outlinewidth": 0,
             "ticks": ""
            },
            "colorscale": [
             [
              0,
              "#0d0887"
             ],
             [
              0.1111111111111111,
              "#46039f"
             ],
             [
              0.2222222222222222,
              "#7201a8"
             ],
             [
              0.3333333333333333,
              "#9c179e"
             ],
             [
              0.4444444444444444,
              "#bd3786"
             ],
             [
              0.5555555555555556,
              "#d8576b"
             ],
             [
              0.6666666666666666,
              "#ed7953"
             ],
             [
              0.7777777777777778,
              "#fb9f3a"
             ],
             [
              0.8888888888888888,
              "#fdca26"
             ],
             [
              1,
              "#f0f921"
             ]
            ],
            "type": "surface"
           }
          ],
          "table": [
           {
            "cells": {
             "fill": {
              "color": "#EBF0F8"
             },
             "line": {
              "color": "white"
             }
            },
            "header": {
             "fill": {
              "color": "#C8D4E3"
             },
             "line": {
              "color": "white"
             }
            },
            "type": "table"
           }
          ]
         },
         "layout": {
          "annotationdefaults": {
           "arrowcolor": "#2a3f5f",
           "arrowhead": 0,
           "arrowwidth": 1
          },
          "autotypenumbers": "strict",
          "coloraxis": {
           "colorbar": {
            "outlinewidth": 0,
            "ticks": ""
           }
          },
          "colorscale": {
           "diverging": [
            [
             0,
             "#8e0152"
            ],
            [
             0.1,
             "#c51b7d"
            ],
            [
             0.2,
             "#de77ae"
            ],
            [
             0.3,
             "#f1b6da"
            ],
            [
             0.4,
             "#fde0ef"
            ],
            [
             0.5,
             "#f7f7f7"
            ],
            [
             0.6,
             "#e6f5d0"
            ],
            [
             0.7,
             "#b8e186"
            ],
            [
             0.8,
             "#7fbc41"
            ],
            [
             0.9,
             "#4d9221"
            ],
            [
             1,
             "#276419"
            ]
           ],
           "sequential": [
            [
             0,
             "#0d0887"
            ],
            [
             0.1111111111111111,
             "#46039f"
            ],
            [
             0.2222222222222222,
             "#7201a8"
            ],
            [
             0.3333333333333333,
             "#9c179e"
            ],
            [
             0.4444444444444444,
             "#bd3786"
            ],
            [
             0.5555555555555556,
             "#d8576b"
            ],
            [
             0.6666666666666666,
             "#ed7953"
            ],
            [
             0.7777777777777778,
             "#fb9f3a"
            ],
            [
             0.8888888888888888,
             "#fdca26"
            ],
            [
             1,
             "#f0f921"
            ]
           ],
           "sequentialminus": [
            [
             0,
             "#0d0887"
            ],
            [
             0.1111111111111111,
             "#46039f"
            ],
            [
             0.2222222222222222,
             "#7201a8"
            ],
            [
             0.3333333333333333,
             "#9c179e"
            ],
            [
             0.4444444444444444,
             "#bd3786"
            ],
            [
             0.5555555555555556,
             "#d8576b"
            ],
            [
             0.6666666666666666,
             "#ed7953"
            ],
            [
             0.7777777777777778,
             "#fb9f3a"
            ],
            [
             0.8888888888888888,
             "#fdca26"
            ],
            [
             1,
             "#f0f921"
            ]
           ]
          },
          "colorway": [
           "#636efa",
           "#EF553B",
           "#00cc96",
           "#ab63fa",
           "#FFA15A",
           "#19d3f3",
           "#FF6692",
           "#B6E880",
           "#FF97FF",
           "#FECB52"
          ],
          "font": {
           "color": "#2a3f5f"
          },
          "geo": {
           "bgcolor": "white",
           "lakecolor": "white",
           "landcolor": "#E5ECF6",
           "showlakes": true,
           "showland": true,
           "subunitcolor": "white"
          },
          "hoverlabel": {
           "align": "left"
          },
          "hovermode": "closest",
          "mapbox": {
           "style": "light"
          },
          "paper_bgcolor": "white",
          "plot_bgcolor": "#E5ECF6",
          "polar": {
           "angularaxis": {
            "gridcolor": "white",
            "linecolor": "white",
            "ticks": ""
           },
           "bgcolor": "#E5ECF6",
           "radialaxis": {
            "gridcolor": "white",
            "linecolor": "white",
            "ticks": ""
           }
          },
          "scene": {
           "xaxis": {
            "backgroundcolor": "#E5ECF6",
            "gridcolor": "white",
            "gridwidth": 2,
            "linecolor": "white",
            "showbackground": true,
            "ticks": "",
            "zerolinecolor": "white"
           },
           "yaxis": {
            "backgroundcolor": "#E5ECF6",
            "gridcolor": "white",
            "gridwidth": 2,
            "linecolor": "white",
            "showbackground": true,
            "ticks": "",
            "zerolinecolor": "white"
           },
           "zaxis": {
            "backgroundcolor": "#E5ECF6",
            "gridcolor": "white",
            "gridwidth": 2,
            "linecolor": "white",
            "showbackground": true,
            "ticks": "",
            "zerolinecolor": "white"
           }
          },
          "shapedefaults": {
           "line": {
            "color": "#2a3f5f"
           }
          },
          "ternary": {
           "aaxis": {
            "gridcolor": "white",
            "linecolor": "white",
            "ticks": ""
           },
           "baxis": {
            "gridcolor": "white",
            "linecolor": "white",
            "ticks": ""
           },
           "bgcolor": "#E5ECF6",
           "caxis": {
            "gridcolor": "white",
            "linecolor": "white",
            "ticks": ""
           }
          },
          "title": {
           "x": 0.05
          },
          "xaxis": {
           "automargin": true,
           "gridcolor": "white",
           "linecolor": "white",
           "ticks": "",
           "title": {
            "standoff": 15
           },
           "zerolinecolor": "white",
           "zerolinewidth": 2
          },
          "yaxis": {
           "automargin": true,
           "gridcolor": "white",
           "linecolor": "white",
           "ticks": "",
           "title": {
            "standoff": 15
           },
           "zerolinecolor": "white",
           "zerolinewidth": 2
          }
         }
        },
        "xaxis": {
         "anchor": "y",
         "domain": [
          0,
          0.16799999999999998
         ]
        },
        "xaxis10": {
         "anchor": "y10",
         "domain": [
          0.832,
          1
         ]
        },
        "xaxis2": {
         "anchor": "y2",
         "domain": [
          0.208,
          0.376
         ]
        },
        "xaxis3": {
         "anchor": "y3",
         "domain": [
          0.416,
          0.584
         ]
        },
        "xaxis4": {
         "anchor": "y4",
         "domain": [
          0.624,
          0.792
         ]
        },
        "xaxis5": {
         "anchor": "y5",
         "domain": [
          0.832,
          1
         ]
        },
        "xaxis6": {
         "anchor": "y6",
         "domain": [
          0,
          0.16799999999999998
         ]
        },
        "xaxis7": {
         "anchor": "y7",
         "domain": [
          0.208,
          0.376
         ]
        },
        "xaxis8": {
         "anchor": "y8",
         "domain": [
          0.416,
          0.584
         ]
        },
        "xaxis9": {
         "anchor": "y9",
         "domain": [
          0.624,
          0.792
         ]
        },
        "yaxis": {
         "anchor": "x",
         "domain": [
          0.625,
          1
         ]
        },
        "yaxis10": {
         "anchor": "x10",
         "domain": [
          0,
          0.375
         ]
        },
        "yaxis2": {
         "anchor": "x2",
         "domain": [
          0.625,
          1
         ]
        },
        "yaxis3": {
         "anchor": "x3",
         "domain": [
          0.625,
          1
         ]
        },
        "yaxis4": {
         "anchor": "x4",
         "domain": [
          0.625,
          1
         ]
        },
        "yaxis5": {
         "anchor": "x5",
         "domain": [
          0.625,
          1
         ]
        },
        "yaxis6": {
         "anchor": "x6",
         "domain": [
          0,
          0.375
         ]
        },
        "yaxis7": {
         "anchor": "x7",
         "domain": [
          0,
          0.375
         ]
        },
        "yaxis8": {
         "anchor": "x8",
         "domain": [
          0,
          0.375
         ]
        },
        "yaxis9": {
         "anchor": "x9",
         "domain": [
          0,
          0.375
         ]
        }
       }
      }
     },
     "metadata": {},
     "output_type": "display_data"
    }
   ],
   "source": [
    "viewer.box_plot(5)"
   ]
  },
  {
   "cell_type": "code",
   "execution_count": 16,
   "metadata": {},
   "outputs": [
    {
     "data": {
      "application/vnd.plotly.v1+json": {
       "config": {
        "plotlyServerURL": "https://plot.ly"
       },
       "data": [
        {
         "dimensions": [
          {
           "label": "D1N1_tr_max",
           "range": [
            0,
            50
           ],
           "values": [
            38.76447158464333,
            38.76447158464333,
            38.76447158464333,
            9.979999716560851,
            38.76447158464333,
            38.76447158464333,
            44.288583807078204,
            38.32174869105921,
            38.32174869105921,
            19.912255973728136,
            38.76447158464333,
            19.912255973728136,
            44.288583807078204,
            44.288583807078204,
            38.32174869105921,
            19.912255973728136,
            38.76447158464333,
            32.118025079542754
           ]
          },
          {
           "label": "D1N1_tr_rate",
           "range": [
            -1,
            0
           ],
           "values": [
            -0.21860243845233263,
            -0.21860243845233263,
            -0.21860243845233263,
            -0.49179062038403765,
            -0.21860243845233263,
            -0.21860243845233263,
            -0.988067646162031,
            -0.7324453541685094,
            -0.7324453541685094,
            -0.37441178019876287,
            -0.21860243845233263,
            -0.37441178019876287,
            -0.988067646162031,
            -0.988067646162031,
            -0.7324453541685094,
            -0.37441178019876287,
            -0.21860243845233263,
            -0.3836505622543743
           ]
          },
          {
           "label": "D1N1_inv_lambda_max",
           "range": [
            0,
            100
           ],
           "values": [
            5.772658496847871,
            5.772658496847871,
            5.772658496847871,
            45.923919200055174,
            0.2761564326343997,
            5.772658496847871,
            32.65321155729636,
            57.9932523807982,
            57.9932523807982,
            59.73008178416283,
            5.772658496847871,
            59.73008178416283,
            32.65321155729636,
            32.65321155729636,
            57.9932523807982,
            59.73008178416283,
            5.772658496847871,
            94.16460808125105
           ]
          },
          {
           "label": "D1N1_inv_lambda_rate",
           "range": [
            0,
            1
           ],
           "values": [
            0.044408443921092,
            0.044408443921092,
            0.044408443921092,
            0.9826177973641601,
            0.044408443921092,
            0.6307682274255278,
            0.8217771657337483,
            0.8217771657337483,
            0.8217771657337483,
            0.4211132507883798,
            0.01653952182519114,
            0.4211132507883798,
            0.1936926409771399,
            0.1936926409771399,
            0.1936926409771399,
            0.4211132507883798,
            0.0028367060225013008,
            0.04558771964456798
           ]
          },
          {
           "label": "D1N1_energy_coefficient",
           "range": [
            0.05,
            0.8
           ],
           "values": [
            0.6037017019153891,
            0.6037017019153891,
            0.6037017019153891,
            0.3055811213866364,
            0.6037017019153891,
            0.6037017019153891,
            0.5091898018256199,
            0.5091898018256199,
            0.5091898018256199,
            0.23234081892094616,
            0.6037017019153891,
            0.15380928892697493,
            0.23234081892094616,
            0.15380928892697493,
            0.15380928892697493,
            0.23234081892094616,
            0.6037017019153891,
            0.550683714322987
           ]
          },
          {
           "label": "D2N1_tr_max",
           "range": [
            0,
            50
           ],
           "values": [
            28.654380707042833,
            33.00929025972178,
            28.654380707042833,
            5.713836302547887,
            33.00929025972178,
            8.288024028638894,
            31.81418315563258,
            31.81418315563258,
            24.7607346495367,
            3.085253371359997,
            33.30561414746169,
            16.5493624662746,
            3.085253371359997,
            16.5493624662746,
            16.5493624662746,
            3.085253371359997,
            28.654380707042833,
            17.11876839666479
           ]
          },
          {
           "label": "D2N1_tr_rate",
           "range": [
            -1,
            0
           ],
           "values": [
            -0.9192961732901517,
            -0.39948464093614033,
            -0.39948464093614033,
            -0.4757587404058239,
            -0.567882805197141,
            -0.39948464093614033,
            -0.6324881767396197,
            -0.7515724057193238,
            -0.7515724057193238,
            -0.8050727332472516,
            -0.1896775117224726,
            -0.8050727332472516,
            -0.6324881767396197,
            -0.6324881767396197,
            -0.7515724057193238,
            -0.8050727332472516,
            -0.39948464093614033,
            -0.21696259527502781
           ]
          },
          {
           "label": "D2N1_inv_lambda_max",
           "range": [
            0,
            100
           ],
           "values": [
            53.3421591019588,
            53.3421591019588,
            53.3421591019588,
            15.48662483183132,
            53.3421591019588,
            53.3421591019588,
            48.59813105298667,
            56.84863344119925,
            56.84863344119925,
            17.965866480736516,
            53.3421591019588,
            17.965866480736516,
            48.59813105298667,
            48.59813105298667,
            56.84863344119925,
            17.965866480736516,
            53.3421591019588,
            68.94219252135888
           ]
          },
          {
           "label": "D2N1_inv_lambda_rate",
           "range": [
            0,
            1
           ],
           "values": [
            0.3325455601810893,
            0.3325455601810893,
            0.3325455601810893,
            0.07637890699218408,
            0.17718251889565273,
            0.3325455601810893,
            0.24582924111235172,
            0.2988249945921606,
            0.5196792271464139,
            0.662600201358791,
            0.3325455601810893,
            0.662600201358791,
            0.24582924111235172,
            0.24582924111235172,
            0.2988249945921606,
            0.662600201358791,
            0.03364427121122926,
            0.3279619949219378
           ]
          },
          {
           "label": "D2N1_energy_coefficient",
           "range": [
            0.05,
            0.8
           ],
           "values": [
            0.29171947048070773,
            0.29171947048070773,
            0.29171947048070773,
            0.4040213619099052,
            0.25016908850306013,
            0.29171947048070773,
            0.3904015475821031,
            0.3098900577443144,
            0.3098900577443144,
            0.7346517992449475,
            0.29171947048070773,
            0.7346517992449475,
            0.3904015475821031,
            0.3904015475821031,
            0.3098900577443144,
            0.3075649309372717,
            0.29171947048070773,
            0.3075649309372717
           ]
          }
         ],
         "line": {
          "color": [
           1.3884610765570595e-7,
           1.3884610765570595e-7,
           1.3884610765570595e-7,
           2.0681304230562876e-7,
           2.4669270538978726e-7,
           2.9486916675264376e-7,
           2.981058248188563e-7,
           3.219889257446928e-7,
           3.222166379504931e-7,
           3.325896264627507e-7,
           3.6034203427818995e-7,
           3.6219223995711887e-7,
           3.7752848313885064e-7,
           4.1783187302508556e-7,
           4.198998285758288e-7,
           4.304618553727328e-7,
           0.000007515610968665278,
           0.00005169416137126734
          ],
          "colorbar": {
           "title": {
            "text": "Fitness"
           }
          },
          "colorscale": [
           [
            0,
            "rgba(255,0,0,0)"
           ],
           [
            0.6,
            "rgba(200,0,0,0.5)"
           ],
           [
            1,
            "rgba(0, 128, 0, 1)"
           ]
          ],
          "showscale": true
         },
         "type": "parcoords"
        }
       ],
       "layout": {
        "coloraxis": {
         "colorbar": {
          "title": {
           "text": "Fitness"
          }
         }
        },
        "template": {
         "data": {
          "bar": [
           {
            "error_x": {
             "color": "#2a3f5f"
            },
            "error_y": {
             "color": "#2a3f5f"
            },
            "marker": {
             "line": {
              "color": "#E5ECF6",
              "width": 0.5
             },
             "pattern": {
              "fillmode": "overlay",
              "size": 10,
              "solidity": 0.2
             }
            },
            "type": "bar"
           }
          ],
          "barpolar": [
           {
            "marker": {
             "line": {
              "color": "#E5ECF6",
              "width": 0.5
             },
             "pattern": {
              "fillmode": "overlay",
              "size": 10,
              "solidity": 0.2
             }
            },
            "type": "barpolar"
           }
          ],
          "carpet": [
           {
            "aaxis": {
             "endlinecolor": "#2a3f5f",
             "gridcolor": "white",
             "linecolor": "white",
             "minorgridcolor": "white",
             "startlinecolor": "#2a3f5f"
            },
            "baxis": {
             "endlinecolor": "#2a3f5f",
             "gridcolor": "white",
             "linecolor": "white",
             "minorgridcolor": "white",
             "startlinecolor": "#2a3f5f"
            },
            "type": "carpet"
           }
          ],
          "choropleth": [
           {
            "colorbar": {
             "outlinewidth": 0,
             "ticks": ""
            },
            "type": "choropleth"
           }
          ],
          "contour": [
           {
            "colorbar": {
             "outlinewidth": 0,
             "ticks": ""
            },
            "colorscale": [
             [
              0,
              "#0d0887"
             ],
             [
              0.1111111111111111,
              "#46039f"
             ],
             [
              0.2222222222222222,
              "#7201a8"
             ],
             [
              0.3333333333333333,
              "#9c179e"
             ],
             [
              0.4444444444444444,
              "#bd3786"
             ],
             [
              0.5555555555555556,
              "#d8576b"
             ],
             [
              0.6666666666666666,
              "#ed7953"
             ],
             [
              0.7777777777777778,
              "#fb9f3a"
             ],
             [
              0.8888888888888888,
              "#fdca26"
             ],
             [
              1,
              "#f0f921"
             ]
            ],
            "type": "contour"
           }
          ],
          "contourcarpet": [
           {
            "colorbar": {
             "outlinewidth": 0,
             "ticks": ""
            },
            "type": "contourcarpet"
           }
          ],
          "heatmap": [
           {
            "colorbar": {
             "outlinewidth": 0,
             "ticks": ""
            },
            "colorscale": [
             [
              0,
              "#0d0887"
             ],
             [
              0.1111111111111111,
              "#46039f"
             ],
             [
              0.2222222222222222,
              "#7201a8"
             ],
             [
              0.3333333333333333,
              "#9c179e"
             ],
             [
              0.4444444444444444,
              "#bd3786"
             ],
             [
              0.5555555555555556,
              "#d8576b"
             ],
             [
              0.6666666666666666,
              "#ed7953"
             ],
             [
              0.7777777777777778,
              "#fb9f3a"
             ],
             [
              0.8888888888888888,
              "#fdca26"
             ],
             [
              1,
              "#f0f921"
             ]
            ],
            "type": "heatmap"
           }
          ],
          "heatmapgl": [
           {
            "colorbar": {
             "outlinewidth": 0,
             "ticks": ""
            },
            "colorscale": [
             [
              0,
              "#0d0887"
             ],
             [
              0.1111111111111111,
              "#46039f"
             ],
             [
              0.2222222222222222,
              "#7201a8"
             ],
             [
              0.3333333333333333,
              "#9c179e"
             ],
             [
              0.4444444444444444,
              "#bd3786"
             ],
             [
              0.5555555555555556,
              "#d8576b"
             ],
             [
              0.6666666666666666,
              "#ed7953"
             ],
             [
              0.7777777777777778,
              "#fb9f3a"
             ],
             [
              0.8888888888888888,
              "#fdca26"
             ],
             [
              1,
              "#f0f921"
             ]
            ],
            "type": "heatmapgl"
           }
          ],
          "histogram": [
           {
            "marker": {
             "pattern": {
              "fillmode": "overlay",
              "size": 10,
              "solidity": 0.2
             }
            },
            "type": "histogram"
           }
          ],
          "histogram2d": [
           {
            "colorbar": {
             "outlinewidth": 0,
             "ticks": ""
            },
            "colorscale": [
             [
              0,
              "#0d0887"
             ],
             [
              0.1111111111111111,
              "#46039f"
             ],
             [
              0.2222222222222222,
              "#7201a8"
             ],
             [
              0.3333333333333333,
              "#9c179e"
             ],
             [
              0.4444444444444444,
              "#bd3786"
             ],
             [
              0.5555555555555556,
              "#d8576b"
             ],
             [
              0.6666666666666666,
              "#ed7953"
             ],
             [
              0.7777777777777778,
              "#fb9f3a"
             ],
             [
              0.8888888888888888,
              "#fdca26"
             ],
             [
              1,
              "#f0f921"
             ]
            ],
            "type": "histogram2d"
           }
          ],
          "histogram2dcontour": [
           {
            "colorbar": {
             "outlinewidth": 0,
             "ticks": ""
            },
            "colorscale": [
             [
              0,
              "#0d0887"
             ],
             [
              0.1111111111111111,
              "#46039f"
             ],
             [
              0.2222222222222222,
              "#7201a8"
             ],
             [
              0.3333333333333333,
              "#9c179e"
             ],
             [
              0.4444444444444444,
              "#bd3786"
             ],
             [
              0.5555555555555556,
              "#d8576b"
             ],
             [
              0.6666666666666666,
              "#ed7953"
             ],
             [
              0.7777777777777778,
              "#fb9f3a"
             ],
             [
              0.8888888888888888,
              "#fdca26"
             ],
             [
              1,
              "#f0f921"
             ]
            ],
            "type": "histogram2dcontour"
           }
          ],
          "mesh3d": [
           {
            "colorbar": {
             "outlinewidth": 0,
             "ticks": ""
            },
            "type": "mesh3d"
           }
          ],
          "parcoords": [
           {
            "line": {
             "colorbar": {
              "outlinewidth": 0,
              "ticks": ""
             }
            },
            "type": "parcoords"
           }
          ],
          "pie": [
           {
            "automargin": true,
            "type": "pie"
           }
          ],
          "scatter": [
           {
            "fillpattern": {
             "fillmode": "overlay",
             "size": 10,
             "solidity": 0.2
            },
            "type": "scatter"
           }
          ],
          "scatter3d": [
           {
            "line": {
             "colorbar": {
              "outlinewidth": 0,
              "ticks": ""
             }
            },
            "marker": {
             "colorbar": {
              "outlinewidth": 0,
              "ticks": ""
             }
            },
            "type": "scatter3d"
           }
          ],
          "scattercarpet": [
           {
            "marker": {
             "colorbar": {
              "outlinewidth": 0,
              "ticks": ""
             }
            },
            "type": "scattercarpet"
           }
          ],
          "scattergeo": [
           {
            "marker": {
             "colorbar": {
              "outlinewidth": 0,
              "ticks": ""
             }
            },
            "type": "scattergeo"
           }
          ],
          "scattergl": [
           {
            "marker": {
             "colorbar": {
              "outlinewidth": 0,
              "ticks": ""
             }
            },
            "type": "scattergl"
           }
          ],
          "scattermapbox": [
           {
            "marker": {
             "colorbar": {
              "outlinewidth": 0,
              "ticks": ""
             }
            },
            "type": "scattermapbox"
           }
          ],
          "scatterpolar": [
           {
            "marker": {
             "colorbar": {
              "outlinewidth": 0,
              "ticks": ""
             }
            },
            "type": "scatterpolar"
           }
          ],
          "scatterpolargl": [
           {
            "marker": {
             "colorbar": {
              "outlinewidth": 0,
              "ticks": ""
             }
            },
            "type": "scatterpolargl"
           }
          ],
          "scatterternary": [
           {
            "marker": {
             "colorbar": {
              "outlinewidth": 0,
              "ticks": ""
             }
            },
            "type": "scatterternary"
           }
          ],
          "surface": [
           {
            "colorbar": {
             "outlinewidth": 0,
             "ticks": ""
            },
            "colorscale": [
             [
              0,
              "#0d0887"
             ],
             [
              0.1111111111111111,
              "#46039f"
             ],
             [
              0.2222222222222222,
              "#7201a8"
             ],
             [
              0.3333333333333333,
              "#9c179e"
             ],
             [
              0.4444444444444444,
              "#bd3786"
             ],
             [
              0.5555555555555556,
              "#d8576b"
             ],
             [
              0.6666666666666666,
              "#ed7953"
             ],
             [
              0.7777777777777778,
              "#fb9f3a"
             ],
             [
              0.8888888888888888,
              "#fdca26"
             ],
             [
              1,
              "#f0f921"
             ]
            ],
            "type": "surface"
           }
          ],
          "table": [
           {
            "cells": {
             "fill": {
              "color": "#EBF0F8"
             },
             "line": {
              "color": "white"
             }
            },
            "header": {
             "fill": {
              "color": "#C8D4E3"
             },
             "line": {
              "color": "white"
             }
            },
            "type": "table"
           }
          ]
         },
         "layout": {
          "annotationdefaults": {
           "arrowcolor": "#2a3f5f",
           "arrowhead": 0,
           "arrowwidth": 1
          },
          "autotypenumbers": "strict",
          "coloraxis": {
           "colorbar": {
            "outlinewidth": 0,
            "ticks": ""
           }
          },
          "colorscale": {
           "diverging": [
            [
             0,
             "#8e0152"
            ],
            [
             0.1,
             "#c51b7d"
            ],
            [
             0.2,
             "#de77ae"
            ],
            [
             0.3,
             "#f1b6da"
            ],
            [
             0.4,
             "#fde0ef"
            ],
            [
             0.5,
             "#f7f7f7"
            ],
            [
             0.6,
             "#e6f5d0"
            ],
            [
             0.7,
             "#b8e186"
            ],
            [
             0.8,
             "#7fbc41"
            ],
            [
             0.9,
             "#4d9221"
            ],
            [
             1,
             "#276419"
            ]
           ],
           "sequential": [
            [
             0,
             "#0d0887"
            ],
            [
             0.1111111111111111,
             "#46039f"
            ],
            [
             0.2222222222222222,
             "#7201a8"
            ],
            [
             0.3333333333333333,
             "#9c179e"
            ],
            [
             0.4444444444444444,
             "#bd3786"
            ],
            [
             0.5555555555555556,
             "#d8576b"
            ],
            [
             0.6666666666666666,
             "#ed7953"
            ],
            [
             0.7777777777777778,
             "#fb9f3a"
            ],
            [
             0.8888888888888888,
             "#fdca26"
            ],
            [
             1,
             "#f0f921"
            ]
           ],
           "sequentialminus": [
            [
             0,
             "#0d0887"
            ],
            [
             0.1111111111111111,
             "#46039f"
            ],
            [
             0.2222222222222222,
             "#7201a8"
            ],
            [
             0.3333333333333333,
             "#9c179e"
            ],
            [
             0.4444444444444444,
             "#bd3786"
            ],
            [
             0.5555555555555556,
             "#d8576b"
            ],
            [
             0.6666666666666666,
             "#ed7953"
            ],
            [
             0.7777777777777778,
             "#fb9f3a"
            ],
            [
             0.8888888888888888,
             "#fdca26"
            ],
            [
             1,
             "#f0f921"
            ]
           ]
          },
          "colorway": [
           "#636efa",
           "#EF553B",
           "#00cc96",
           "#ab63fa",
           "#FFA15A",
           "#19d3f3",
           "#FF6692",
           "#B6E880",
           "#FF97FF",
           "#FECB52"
          ],
          "font": {
           "color": "#2a3f5f"
          },
          "geo": {
           "bgcolor": "white",
           "lakecolor": "white",
           "landcolor": "#E5ECF6",
           "showlakes": true,
           "showland": true,
           "subunitcolor": "white"
          },
          "hoverlabel": {
           "align": "left"
          },
          "hovermode": "closest",
          "mapbox": {
           "style": "light"
          },
          "paper_bgcolor": "white",
          "plot_bgcolor": "#E5ECF6",
          "polar": {
           "angularaxis": {
            "gridcolor": "white",
            "linecolor": "white",
            "ticks": ""
           },
           "bgcolor": "#E5ECF6",
           "radialaxis": {
            "gridcolor": "white",
            "linecolor": "white",
            "ticks": ""
           }
          },
          "scene": {
           "xaxis": {
            "backgroundcolor": "#E5ECF6",
            "gridcolor": "white",
            "gridwidth": 2,
            "linecolor": "white",
            "showbackground": true,
            "ticks": "",
            "zerolinecolor": "white"
           },
           "yaxis": {
            "backgroundcolor": "#E5ECF6",
            "gridcolor": "white",
            "gridwidth": 2,
            "linecolor": "white",
            "showbackground": true,
            "ticks": "",
            "zerolinecolor": "white"
           },
           "zaxis": {
            "backgroundcolor": "#E5ECF6",
            "gridcolor": "white",
            "gridwidth": 2,
            "linecolor": "white",
            "showbackground": true,
            "ticks": "",
            "zerolinecolor": "white"
           }
          },
          "shapedefaults": {
           "line": {
            "color": "#2a3f5f"
           }
          },
          "ternary": {
           "aaxis": {
            "gridcolor": "white",
            "linecolor": "white",
            "ticks": ""
           },
           "baxis": {
            "gridcolor": "white",
            "linecolor": "white",
            "ticks": ""
           },
           "bgcolor": "#E5ECF6",
           "caxis": {
            "gridcolor": "white",
            "linecolor": "white",
            "ticks": ""
           }
          },
          "title": {
           "x": 0.05
          },
          "xaxis": {
           "automargin": true,
           "gridcolor": "white",
           "linecolor": "white",
           "ticks": "",
           "title": {
            "standoff": 15
           },
           "zerolinecolor": "white",
           "zerolinewidth": 2
          },
          "yaxis": {
           "automargin": true,
           "gridcolor": "white",
           "linecolor": "white",
           "ticks": "",
           "title": {
            "standoff": 15
           },
           "zerolinecolor": "white",
           "zerolinewidth": 2
          }
         }
        }
       }
      }
     },
     "metadata": {},
     "output_type": "display_data"
    }
   ],
   "source": [
    "viewer.parallel_coordinates()"
   ]
  }
 ],
 "metadata": {
  "kernelspec": {
   "display_name": ".venv",
   "language": "python",
   "name": "python3"
  },
  "language_info": {
   "codemirror_mode": {
    "name": "ipython",
    "version": 3
   },
   "file_extension": ".py",
   "mimetype": "text/x-python",
   "name": "python",
   "nbconvert_exporter": "python",
   "pygments_lexer": "ipython3",
   "version": "3.12.5"
  }
 },
 "nbformat": 4,
 "nbformat_minor": 2
}
