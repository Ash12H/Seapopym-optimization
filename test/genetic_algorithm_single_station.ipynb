{
 "cells": [
  {
   "cell_type": "code",
   "execution_count": 1,
   "metadata": {},
   "outputs": [],
   "source": [
    "import pint\n",
    "import xarray as xr\n",
    "from dask.distributed import Client\n",
    "from seapopym.configuration.no_transport.parameter import ForcingParameters\n",
    "from seapopym.configuration.parameters.parameter_forcing import ForcingUnit\n",
    "from seapopym.standard.units import StandardUnitsLabels\n",
    "\n",
    "from seapopym_optimization import (\n",
    "    FunctionalGroupOptimizeNoTransport,\n",
    "    GeneticAlgorithm,\n",
    "    GeneticAlgorithmParameters,\n",
    "    NoTransportCostFunction,\n",
    "    Observation,\n",
    "    Parameter,\n",
    "    constraint,\n",
    ")"
   ]
  },
  {
   "cell_type": "markdown",
   "metadata": {},
   "source": [
    "Load forcing.\n"
   ]
  },
  {
   "cell_type": "code",
   "execution_count": 2,
   "metadata": {},
   "outputs": [],
   "source": [
    "time_start, time_end = \"1998-01-01\", \"2022-01-01\"\n",
    "\n",
    "bats_data = xr.open_dataset(\"../notebooks/1_data_processing/1_1_Forcing/bats_cmems.zarr\", engine=\"zarr\")\n",
    "bats_data[\"T\"].attrs[\"units\"] = StandardUnitsLabels.temperature.units\n",
    "bats_data = bats_data.sel(time=slice(time_start, time_end))\n",
    "_ = bats_data.load()\n",
    "\n",
    "cafe_npp = xr.open_dataset(\"../notebooks/1_data_processing/1_1_Forcing/bats_cafe.zarr\", engine=\"zarr\")\n",
    "cafe_npp = cafe_npp.sel(time=slice(time_start, time_end))\n",
    "cafe_npp = cafe_npp.dropna(\"time\")\n",
    "cafe_npp = cafe_npp.resample(time=\"D\").interpolate(\"linear\")\n",
    "cafe_npp.lat.attrs = {\"units\": \"degrees_north\", \"long_name\": \"latitude\", \"axis\": \"Y\"}\n",
    "cafe_npp.lon.attrs = {\"units\": \"degrees_east\", \"long_name\": \"longitude\", \"axis\": \"X\"}\n",
    "cafe_npp = cafe_npp.rename({\"lat\": \"latitude\", \"lon\": \"longitude\"})\n",
    "_ = cafe_npp.load()"
   ]
  },
  {
   "cell_type": "code",
   "execution_count": null,
   "metadata": {},
   "outputs": [],
   "source": [
    "bats_data"
   ]
  },
  {
   "cell_type": "markdown",
   "metadata": {},
   "source": [
    "Load observations.\n",
    "\n",
    "First I multiply the observations by the average epipelagic layer depth (150m) to have a biomass in m2 rather than m3.\n"
   ]
  },
  {
   "cell_type": "code",
   "execution_count": 4,
   "metadata": {},
   "outputs": [],
   "source": [
    "def update_layer(data: xr.DataArray, epipelagic_size):\n",
    "    data = data.pint.quantify() * epipelagic_size\n",
    "    layer_attrs = data[\"layer\"].attrs\n",
    "    data = data.assign_coords({\"layer\": [1]})\n",
    "    data[\"layer\"].attrs = layer_attrs\n",
    "    return data\n",
    "\n",
    "\n",
    "epipelagic_size = 150 * pint.application_registry(\"meter\")\n",
    "\n",
    "obs_bats = xr.open_dataset(\"../../seapopym-data/data/zooplankton_product/Bats_zooplankton.nc\")\n",
    "obs_bats = update_layer(obs_bats, epipelagic_size)\n",
    "obs_bats = Observation(obs_bats)\n",
    "observations = [obs_bats]"
   ]
  },
  {
   "cell_type": "markdown",
   "metadata": {},
   "source": [
    "Create structure for SeapoPym simulation.\n"
   ]
  },
  {
   "cell_type": "code",
   "execution_count": null,
   "metadata": {},
   "outputs": [],
   "source": [
    "forcing_parameters = ForcingParameters(\n",
    "    temperature=ForcingUnit(forcing=bats_data[\"T\"], resolution=1 / 12),\n",
    "    primary_production=ForcingUnit(forcing=cafe_npp[\"CAFE\"], resolution=1 / 12),\n",
    ")"
   ]
  },
  {
   "cell_type": "markdown",
   "metadata": {},
   "source": [
    "Setup the cost function.\n"
   ]
  },
  {
   "cell_type": "code",
   "execution_count": 6,
   "metadata": {},
   "outputs": [],
   "source": [
    "functional_groups = [\n",
    "    FunctionalGroupOptimizeNoTransport(\n",
    "        name=\"D1N1\",\n",
    "        day_layer=1,\n",
    "        night_layer=1,\n",
    "        tr_rate=Parameter(\"D1N1_tr_rate\", -1, 0),\n",
    "        tr_max=Parameter(\"D1N1_tr_max\", 0, 50),\n",
    "        inv_lambda_rate=Parameter(\"D1N1_inv_lambda_rate\", 0, 1),\n",
    "        inv_lambda_max=Parameter(\"D1N1_inv_lambda_max\", 0, 100),\n",
    "        energy_coefficient=Parameter(\"D1N1_energy_coefficient\", 0.05, 0.8),\n",
    "    ),\n",
    "    FunctionalGroupOptimizeNoTransport(\n",
    "        name=\"D2N1\",\n",
    "        day_layer=2,\n",
    "        night_layer=1,\n",
    "        tr_rate=Parameter(\"D2N1_tr_rate\", -1, 0),\n",
    "        tr_max=Parameter(\"D2N1_tr_max\", 0, 50),\n",
    "        inv_lambda_rate=Parameter(\"D2N1_inv_lambda_rate\", 0, 1),\n",
    "        inv_lambda_max=Parameter(\"D2N1_inv_lambda_max\", 0, 100),\n",
    "        energy_coefficient=Parameter(\"D2N1_energy_coefficient\", 0.05, 0.8),\n",
    "    ),\n",
    "]"
   ]
  },
  {
   "cell_type": "code",
   "execution_count": 7,
   "metadata": {},
   "outputs": [],
   "source": [
    "cost_function = NoTransportCostFunction(\n",
    "    functional_groups=functional_groups,\n",
    "    forcing_parameters=forcing_parameters,\n",
    "    observations=observations,\n",
    ")"
   ]
  },
  {
   "cell_type": "markdown",
   "metadata": {},
   "source": [
    "Set the genetic algorithm meta parameters.\n"
   ]
  },
  {
   "cell_type": "code",
   "execution_count": 8,
   "metadata": {},
   "outputs": [],
   "source": [
    "genetic_algo_parameters = GeneticAlgorithmParameters(\n",
    "    ETA=1, INDPB=0.1, CXPB=0.5, MUTPB=0.2, NGEN=20, POP_SIZE=20, cost_function_weight=(-1,)\n",
    ")"
   ]
  },
  {
   "cell_type": "markdown",
   "metadata": {},
   "source": [
    "Add a constraint to limit the total of energy transfert coefficient to 100%.\n"
   ]
  },
  {
   "cell_type": "code",
   "execution_count": 9,
   "metadata": {},
   "outputs": [],
   "source": [
    "constraint_energy = constraint.ConstraintNoTransportEnergyCoefficient(\n",
    "    parameters_name=[\"D1N1_energy_coefficient\", \"D2N1_energy_coefficient\"],\n",
    "    min_energy_coef_value=0,\n",
    "    max_energy_coef_value=1,\n",
    ")"
   ]
  },
  {
   "cell_type": "markdown",
   "metadata": {},
   "source": [
    "Finaly, create the Genetic Algorithm.\n"
   ]
  },
  {
   "cell_type": "code",
   "execution_count": 10,
   "metadata": {},
   "outputs": [],
   "source": [
    "client = Client()\n",
    "genetic_algo = GeneticAlgorithm(\n",
    "    cost_function=cost_function,\n",
    "    parameter_genetic_algorithm=genetic_algo_parameters,\n",
    "    constraint=[constraint_energy],\n",
    "    client=client,\n",
    ")"
   ]
  },
  {
   "cell_type": "markdown",
   "metadata": {},
   "source": [
    "And watch the magic on the Dask dashboard :\n"
   ]
  },
  {
   "cell_type": "code",
   "execution_count": null,
   "metadata": {},
   "outputs": [],
   "source": [
    "genetic_algo.client"
   ]
  },
  {
   "cell_type": "markdown",
   "metadata": {},
   "source": [
    "And execute the process.\n"
   ]
  },
  {
   "cell_type": "code",
   "execution_count": null,
   "metadata": {},
   "outputs": [],
   "source": [
    "viewer = genetic_algo.optimize()"
   ]
  },
  {
   "cell_type": "markdown",
   "metadata": {},
   "source": [
    "Finaly here is the result :\n"
   ]
  },
  {
   "cell_type": "code",
   "execution_count": null,
   "metadata": {},
   "outputs": [],
   "source": [
    "viewer.box_plot(4)"
   ]
  },
  {
   "cell_type": "code",
   "execution_count": null,
   "metadata": {},
   "outputs": [],
   "source": [
    "viewer.parallel_coordinates()"
   ]
  }
 ],
 "metadata": {
  "kernelspec": {
   "display_name": ".venv",
   "language": "python",
   "name": "python3"
  },
  "language_info": {
   "codemirror_mode": {
    "name": "ipython",
    "version": 3
   },
   "file_extension": ".py",
   "mimetype": "text/x-python",
   "name": "python",
   "nbconvert_exporter": "python",
   "pygments_lexer": "ipython3",
   "version": "3.12.5"
  }
 },
 "nbformat": 4,
 "nbformat_minor": 2
}
