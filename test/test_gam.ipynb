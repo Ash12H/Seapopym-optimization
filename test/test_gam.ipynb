{
 "cells": [
  {
   "cell_type": "code",
   "execution_count": null,
   "id": "da96e82b",
   "metadata": {},
   "outputs": [],
   "source": [
    "import numpy as np\n",
    "from pygam import LinearGAM, l, s\n"
   ]
  },
  {
   "cell_type": "code",
   "execution_count": null,
   "id": "3a989d48",
   "metadata": {},
   "outputs": [],
   "source": [
    "def decompose_GAM(self, data, variable):\n",
    "    \"\"\"\n",
    "    Decompose time series using GAM model into trend and seasonality,\n",
    "    all the calculations are in the log10 base.\n",
    "\n",
    "    Parameters\n",
    "    ----------\n",
    "        data (dataframe): must contain 'time' and the target variable to decompose\n",
    "        variable (str) : name of the variable in the model\n",
    "\n",
    "    Returns\n",
    "    -------\n",
    "        (trend_df,season_df):DataFrame with 'time' and 'biomass' columns\n",
    "\n",
    "    \"\"\"\n",
    "    data = data.copy()\n",
    "    data[variable] = np.log10(\n",
    "        np.maximum(data[variable], np.finfo(float).eps)\n",
    "    )  # log10 transformation, epsilon to avoid log(0)\n",
    "\n",
    "    data = data.dropna().reset_index(drop=True)\n",
    "    data[\"time_float\"] = (data[\"time\"] - data[\"time\"].min()).dt.total_seconds() / (3600 * 24)\n",
    "\n",
    "    data[\"month\"] = data[\"time\"].dt.month\n",
    "    data[\"month_sin\"] = np.sin(2 * np.pi * (data[\"month\"] - 1) / 12)\n",
    "    data[\"month_cos\"] = np.cos(2 * np.pi * (data[\"month\"] - 1) / 12)\n",
    "\n",
    "    X = data[[\"time_float\", \"month_sin\", \"month_cos\"]].values\n",
    "    y = data[variable].values\n",
    "\n",
    "    # For the estimation of the long-term trend, we use a spline term with n_splines=80.\n",
    "    # This controls the flexibility of the spline fit over time.\n",
    "    # - A higher n_splines allows the model to capture more rapid changes (but also more noise).\n",
    "    # - A lower n_splines results in a smoother trend that captures only large-scale variations.\n",
    "    gam = LinearGAM(s(0, n_splines=80) + l(1) + l(2), fit_intercept=False).fit(X, y)\n",
    "\n",
    "    trend = gam.partial_dependence(term=0, X=X)\n",
    "    season = gam.partial_dependence(term=1, X=X) + gam.partial_dependence(term=2, X=X)\n",
    "\n",
    "    trend_df = pd.DataFrame({\"time\": data[\"time\"].values, \"biomass\": trend})\n",
    "    season_df = pd.DataFrame({\"time\": data[\"time\"].values, \"biomass\": season})\n",
    "\n",
    "    return trend_df, season_df\n"
   ]
  }
 ],
 "metadata": {
  "kernelspec": {
   "display_name": ".venv",
   "language": "python",
   "name": "python3"
  },
  "language_info": {
   "codemirror_mode": {
    "name": "ipython",
    "version": 3
   },
   "file_extension": ".py",
   "mimetype": "text/x-python",
   "name": "python",
   "nbconvert_exporter": "python",
   "pygments_lexer": "ipython3",
   "version": "3.13.3"
  }
 },
 "nbformat": 4,
 "nbformat_minor": 5
}
