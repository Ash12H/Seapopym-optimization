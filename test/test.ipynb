{
 "cells": [
  {
   "cell_type": "code",
   "execution_count": 1,
   "id": "64226a7a",
   "metadata": {},
   "outputs": [],
   "source": [
    "import numpy as np\n",
    "import pandas as pd\n",
    "import xarray as xr\n",
    "from seapopym.configuration.no_transport import ForcingParameter, ForcingUnit\n",
    "\n",
    "from seapopym_optimization.constraint.energy_transfert_constraint import EnergyCoefficientConstraint\n",
    "from seapopym_optimization.cost_function import SimpleRootMeanSquareErrorCostFunction, TimeSeriesObservation\n",
    "from seapopym_optimization.functional_group import NoTransportFunctionalGroup, Parameter\n",
    "from seapopym_optimization.functional_group.base_functional_group import FunctionalGroupSet\n",
    "from seapopym_optimization.genetic_algorithm.simple_genetic_algorithm import (\n",
    "    SimpleGeneticAlgorithm,\n",
    "    SimpleGeneticAlgorithmParameters,\n",
    ")\n",
    "from seapopym_optimization.genetic_algorithm.simple_logbook import Logbook\n",
    "from seapopym_optimization.model_generator import NoTransportModelGenerator\n"
   ]
  },
  {
   "cell_type": "code",
   "execution_count": 2,
   "id": "13b82093",
   "metadata": {},
   "outputs": [],
   "source": [
    "import logging\n",
    "\n",
    "logging.basicConfig(level=logging.WARNING, format=\"\\n%(asctime)s - %(name)s - %(levelname)s - %(message)s\")\n",
    "logger = logging.getLogger(\"seapopym_optimization\")\n",
    "logger.setLevel(logging.DEBUG)"
   ]
  },
  {
   "cell_type": "code",
   "execution_count": 3,
   "id": "ae902720",
   "metadata": {},
   "outputs": [],
   "source": [
    "fg1 = NoTransportFunctionalGroup(\n",
    "    name=\"FG1\",\n",
    "    day_layer=0,\n",
    "    night_layer=0,\n",
    "    energy_transfert=Parameter(name=\"FG1_energy_transfert\", lower_bound=0, upper_bound=1),\n",
    "    lambda_temperature_0=Parameter(name=\"lambda_temperature_0\", lower_bound=0, upper_bound=100),\n",
    "    gamma_lambda_temperature=Parameter(name=\"gamma_lambda_temperature\", lower_bound=0, upper_bound=1),\n",
    "    tr_0=Parameter(name=\"tr_0\", lower_bound=0, upper_bound=10),\n",
    "    gamma_tr=Parameter(name=\"gamma_tr\", lower_bound=-1, upper_bound=0),\n",
    ")\n",
    "\n",
    "fg2 = NoTransportFunctionalGroup(\n",
    "    name=\"FG2\",\n",
    "    day_layer=1,\n",
    "    night_layer=1,\n",
    "    energy_transfert=Parameter(name=\"FG2_energy_transfert\", lower_bound=0, upper_bound=1),\n",
    "    lambda_temperature_0=Parameter(name=\"lambda_temperature_0\", lower_bound=0, upper_bound=100),\n",
    "    gamma_lambda_temperature=Parameter(name=\"gamma_lambda_temperature\", lower_bound=0, upper_bound=1),\n",
    "    tr_0=Parameter(name=\"tr_0\", lower_bound=0, upper_bound=10),\n",
    "    gamma_tr=Parameter(name=\"gamma_tr\", lower_bound=-1, upper_bound=0),\n",
    ")"
   ]
  },
  {
   "cell_type": "code",
   "execution_count": 4,
   "id": "b70b6061",
   "metadata": {},
   "outputs": [],
   "source": [
    "constraint = EnergyCoefficientConstraint(\n",
    "    parameters_name=[\"FG1_energy_transfert\", \"FG2_energy_transfert\"],\n",
    "    min_energy_coef_value=0,\n",
    "    max_energy_coef_value=1,\n",
    ")"
   ]
  },
  {
   "cell_type": "code",
   "execution_count": 5,
   "id": "c9aac46b",
   "metadata": {},
   "outputs": [],
   "source": [
    "fg_set = FunctionalGroupSet(\n",
    "    functional_groups=[fg1, fg2],\n",
    ")"
   ]
  },
  {
   "cell_type": "code",
   "execution_count": 6,
   "id": "d409fe4a",
   "metadata": {},
   "outputs": [
    {
     "data": {
      "text/plain": [
       "dict_keys(['FG1_energy_transfert', 'lambda_temperature_0', 'gamma_lambda_temperature', 'tr_0', 'gamma_tr', 'FG2_energy_transfert'])"
      ]
     },
     "execution_count": 6,
     "metadata": {},
     "output_type": "execute_result"
    }
   ],
   "source": [
    "fg_set.unique_functional_groups_parameters_ordered().keys()"
   ]
  },
  {
   "cell_type": "code",
   "execution_count": 7,
   "id": "7bb5d4fc",
   "metadata": {},
   "outputs": [
    {
     "data": {
      "text/plain": [
       "[{'day_layer': 0,\n",
       "  'night_layer': 0,\n",
       "  'energy_transfert': 1,\n",
       "  'lambda_temperature_0': inf,\n",
       "  'gamma_lambda_temperature': 1,\n",
       "  'tr_0': 1,\n",
       "  'gamma_tr': -1},\n",
       " {'day_layer': 1,\n",
       "  'night_layer': 1,\n",
       "  'energy_transfert': 1,\n",
       "  'lambda_temperature_0': inf,\n",
       "  'gamma_lambda_temperature': 1,\n",
       "  'tr_0': 1,\n",
       "  'gamma_tr': -1}]"
      ]
     },
     "execution_count": 7,
     "metadata": {},
     "output_type": "execute_result"
    }
   ],
   "source": [
    "parameters_set = [1, np.inf, 1, 1, -1, 1]\n",
    "functional_group_parameters = fg_set.generate(parameters_set)\n",
    "functional_group_parameters"
   ]
  },
  {
   "cell_type": "code",
   "execution_count": 8,
   "id": "85a21944",
   "metadata": {},
   "outputs": [],
   "source": [
    "nb_days = 360\n",
    "temperature = xr.DataArray(\n",
    "    data=np.zeros((nb_days, 1, 1, 2)),\n",
    "    dims=[\"time\", \"latitude\", \"longitude\", \"depth\"],\n",
    "    coords={\n",
    "        \"time\": pd.date_range(\"2023-01-01\", periods=nb_days, freq=\"D\"),\n",
    "        \"latitude\": [0],\n",
    "        \"longitude\": [0],\n",
    "        \"depth\": [0, 1],\n",
    "    },\n",
    "    name=\"temperature\",\n",
    "    attrs={\n",
    "        \"units\": \"Celsius\",\n",
    "        \"long_name\": \"Sea surface temperature\",\n",
    "        \"standard_name\": \"sea_surface_temperature\",\n",
    "    },\n",
    ")\n",
    "primary_production = xr.DataArray(\n",
    "    data=np.ones((nb_days, 1, 1)),\n",
    "    dims=[\"time\", \"latitude\", \"longitude\"],\n",
    "    coords={\n",
    "        \"time\": pd.date_range(\"2023-01-01\", periods=nb_days, freq=\"D\"),\n",
    "        \"latitude\": [0],\n",
    "        \"longitude\": [0],\n",
    "    },\n",
    "    name=\"primary_production\",\n",
    "    attrs={\n",
    "        \"units\": \"kg/m^2/day\",\n",
    "        \"long_name\": \"Primary production\",\n",
    "        \"standard_name\": \"primary_production\",\n",
    "    },\n",
    ")\n",
    "observation = xr.DataArray(\n",
    "    data=np.ones((nb_days, 1, 1, 2)),\n",
    "    dims=[\"time\", \"latitude\", \"longitude\", \"layer\"],\n",
    "    coords={\n",
    "        \"time\": pd.date_range(\"2023-01-01\", periods=nb_days, freq=\"D\"),\n",
    "        \"latitude\": [0],\n",
    "        \"longitude\": [0],\n",
    "        \"layer\": [0, 1],\n",
    "    },\n",
    "    attrs={\n",
    "        \"units\": \"kg/m^2\",\n",
    "    },\n",
    ")\n",
    "observation.time.attrs = {\"axis\": \"T\"}\n",
    "temperature.time.attrs = {\"axis\": \"T\"}\n",
    "primary_production.time.attrs = {\"axis\": \"T\"}\n",
    "\n",
    "observation.latitude.attrs = {\"axis\": \"Y\"}\n",
    "temperature.latitude.attrs = {\"axis\": \"Y\"}\n",
    "primary_production.latitude.attrs = {\"axis\": \"Y\"}\n",
    "\n",
    "observation.longitude.attrs = {\"axis\": \"X\"}\n",
    "temperature.longitude.attrs = {\"axis\": \"X\"}\n",
    "primary_production.longitude.attrs = {\"axis\": \"X\"}\n",
    "\n",
    "observation.layer.attrs = {\"axis\": \"Z\"}\n",
    "temperature.depth.attrs = {\"axis\": \"Z\"}\n",
    "\n",
    "forcing_parameter = ForcingParameter(\n",
    "    temperature=ForcingUnit(forcing=temperature),\n",
    "    primary_production=ForcingUnit(forcing=primary_production),\n",
    ")\n",
    "with xr.set_options(keep_attrs=True):\n",
    "    observation_2 = observation.sel(layer=[1]) / 2"
   ]
  },
  {
   "cell_type": "code",
   "execution_count": 9,
   "id": "94bce703",
   "metadata": {},
   "outputs": [],
   "source": [
    "observation_1 = TimeSeriesObservation(\n",
    "    name=\"Observation_all\",\n",
    "    observation=observation,\n",
    ")\n",
    "observation_2 = TimeSeriesObservation(\n",
    "    name=\"Observation_meso\",\n",
    "    observation=observation_2,\n",
    ")"
   ]
  },
  {
   "cell_type": "code",
   "execution_count": 10,
   "id": "e3afd22a",
   "metadata": {},
   "outputs": [],
   "source": [
    "model_generator = NoTransportModelGenerator(forcing_parameters=forcing_parameter)"
   ]
  },
  {
   "cell_type": "code",
   "execution_count": 11,
   "id": "613d9827",
   "metadata": {},
   "outputs": [],
   "source": [
    "# model = model_generator.generate(functional_group_parameters=functional_group_parameters)"
   ]
  },
  {
   "cell_type": "code",
   "execution_count": 12,
   "id": "72c38289",
   "metadata": {},
   "outputs": [],
   "source": [
    "# model.state"
   ]
  },
  {
   "cell_type": "code",
   "execution_count": 13,
   "id": "74ccb95e",
   "metadata": {},
   "outputs": [],
   "source": [
    "cost_function = SimpleRootMeanSquareErrorCostFunction(\n",
    "    model_generator=model_generator,\n",
    "    observations=[observation_1, observation_2],\n",
    "    functional_groups=[fg1, fg2],\n",
    "    root_mse=True,\n",
    "    centered_mse=False,\n",
    "    normalized_mse=False,\n",
    ")\n",
    "# partial_cost_function = cost_function.generate()\n",
    "# partial_cost_function(parameters_set)\n"
   ]
  },
  {
   "cell_type": "code",
   "execution_count": 14,
   "id": "1b535269",
   "metadata": {},
   "outputs": [],
   "source": [
    "metaparam = SimpleGeneticAlgorithmParameters(\n",
    "    ETA=4, INDPB=0.2, CXPB=0.5, MUTPB=0.2, NGEN=3, POP_SIZE=10, cost_function_weight=(-1, -1)\n",
    ")\n",
    "genetic_algorithm = SimpleGeneticAlgorithm(\n",
    "    meta_parameter=metaparam, cost_function=cost_function, constraint=[constraint]\n",
    ")"
   ]
  },
  {
   "cell_type": "code",
   "execution_count": 15,
   "id": "90a64c6b",
   "metadata": {},
   "outputs": [],
   "source": [
    "viewer = genetic_algorithm.optimize()"
   ]
  },
  {
   "cell_type": "code",
   "execution_count": 16,
   "id": "527682e7",
   "metadata": {},
   "outputs": [
    {
     "data": {
      "text/html": [
       "<div>\n",
       "<style scoped>\n",
       "    .dataframe tbody tr th:only-of-type {\n",
       "        vertical-align: middle;\n",
       "    }\n",
       "\n",
       "    .dataframe tbody tr th {\n",
       "        vertical-align: top;\n",
       "    }\n",
       "\n",
       "    .dataframe thead tr th {\n",
       "        text-align: left;\n",
       "    }\n",
       "\n",
       "    .dataframe thead tr:last-of-type th {\n",
       "        text-align: right;\n",
       "    }\n",
       "</style>\n",
       "<table border=\"1\" class=\"dataframe\">\n",
       "  <thead>\n",
       "    <tr>\n",
       "      <th></th>\n",
       "      <th></th>\n",
       "      <th>category</th>\n",
       "      <th colspan=\"6\" halign=\"left\">Parametre</th>\n",
       "      <th colspan=\"2\" halign=\"left\">Fitness</th>\n",
       "      <th>Weighted_fitness</th>\n",
       "    </tr>\n",
       "    <tr>\n",
       "      <th></th>\n",
       "      <th></th>\n",
       "      <th>name</th>\n",
       "      <th>FG1_energy_transfert</th>\n",
       "      <th>lambda_temperature_0</th>\n",
       "      <th>gamma_lambda_temperature</th>\n",
       "      <th>tr_0</th>\n",
       "      <th>gamma_tr</th>\n",
       "      <th>FG2_energy_transfert</th>\n",
       "      <th>Observation_all</th>\n",
       "      <th>Observation_meso</th>\n",
       "      <th>Weighted_fitness</th>\n",
       "    </tr>\n",
       "    <tr>\n",
       "      <th>Generation</th>\n",
       "      <th>Is_From_Previous_Generation</th>\n",
       "      <th>Individual</th>\n",
       "      <th></th>\n",
       "      <th></th>\n",
       "      <th></th>\n",
       "      <th></th>\n",
       "      <th></th>\n",
       "      <th></th>\n",
       "      <th></th>\n",
       "      <th></th>\n",
       "      <th></th>\n",
       "    </tr>\n",
       "  </thead>\n",
       "  <tbody>\n",
       "    <tr>\n",
       "      <th rowspan=\"10\" valign=\"top\">0</th>\n",
       "      <th rowspan=\"10\" valign=\"top\">False</th>\n",
       "      <th>0</th>\n",
       "      <td>0.903213</td>\n",
       "      <td>40.069842</td>\n",
       "      <td>0.971929</td>\n",
       "      <td>9.107756</td>\n",
       "      <td>-0.084361</td>\n",
       "      <td>0.818827</td>\n",
       "      <td>inf</td>\n",
       "      <td>inf</td>\n",
       "      <td>-inf</td>\n",
       "    </tr>\n",
       "    <tr>\n",
       "      <th>1</th>\n",
       "      <td>0.306994</td>\n",
       "      <td>0.844357</td>\n",
       "      <td>0.160585</td>\n",
       "      <td>5.757430</td>\n",
       "      <td>-0.740391</td>\n",
       "      <td>0.746439</td>\n",
       "      <td>inf</td>\n",
       "      <td>inf</td>\n",
       "      <td>-inf</td>\n",
       "    </tr>\n",
       "    <tr>\n",
       "      <th>2</th>\n",
       "      <td>0.170091</td>\n",
       "      <td>9.852331</td>\n",
       "      <td>0.767231</td>\n",
       "      <td>2.186004</td>\n",
       "      <td>-0.782788</td>\n",
       "      <td>0.426259</td>\n",
       "      <td>0.715313</td>\n",
       "      <td>0.082421</td>\n",
       "      <td>-0.398867</td>\n",
       "    </tr>\n",
       "    <tr>\n",
       "      <th>3</th>\n",
       "      <td>0.668542</td>\n",
       "      <td>15.180335</td>\n",
       "      <td>0.989579</td>\n",
       "      <td>8.215699</td>\n",
       "      <td>-0.505532</td>\n",
       "      <td>0.368232</td>\n",
       "      <td>inf</td>\n",
       "      <td>inf</td>\n",
       "      <td>-inf</td>\n",
       "    </tr>\n",
       "    <tr>\n",
       "      <th>4</th>\n",
       "      <td>0.156630</td>\n",
       "      <td>48.529656</td>\n",
       "      <td>0.143593</td>\n",
       "      <td>8.557978</td>\n",
       "      <td>-0.410299</td>\n",
       "      <td>0.681658</td>\n",
       "      <td>0.647689</td>\n",
       "      <td>0.194479</td>\n",
       "      <td>-0.421084</td>\n",
       "    </tr>\n",
       "    <tr>\n",
       "      <th>5</th>\n",
       "      <td>0.246708</td>\n",
       "      <td>50.260537</td>\n",
       "      <td>0.722269</td>\n",
       "      <td>6.554599</td>\n",
       "      <td>-0.831054</td>\n",
       "      <td>0.379086</td>\n",
       "      <td>0.696575</td>\n",
       "      <td>0.136173</td>\n",
       "      <td>-0.416374</td>\n",
       "    </tr>\n",
       "    <tr>\n",
       "      <th>6</th>\n",
       "      <td>0.884615</td>\n",
       "      <td>82.303120</td>\n",
       "      <td>0.929151</td>\n",
       "      <td>9.677476</td>\n",
       "      <td>-0.305504</td>\n",
       "      <td>0.326765</td>\n",
       "      <td>inf</td>\n",
       "      <td>inf</td>\n",
       "      <td>-inf</td>\n",
       "    </tr>\n",
       "    <tr>\n",
       "      <th>7</th>\n",
       "      <td>0.018091</td>\n",
       "      <td>94.766848</td>\n",
       "      <td>0.315206</td>\n",
       "      <td>1.070838</td>\n",
       "      <td>-0.037770</td>\n",
       "      <td>0.481530</td>\n",
       "      <td>0.785839</td>\n",
       "      <td>0.032166</td>\n",
       "      <td>-0.409003</td>\n",
       "    </tr>\n",
       "    <tr>\n",
       "      <th>8</th>\n",
       "      <td>0.860325</td>\n",
       "      <td>35.475724</td>\n",
       "      <td>0.227447</td>\n",
       "      <td>9.230937</td>\n",
       "      <td>-0.465358</td>\n",
       "      <td>0.558536</td>\n",
       "      <td>inf</td>\n",
       "      <td>inf</td>\n",
       "      <td>-inf</td>\n",
       "    </tr>\n",
       "    <tr>\n",
       "      <th>9</th>\n",
       "      <td>0.346342</td>\n",
       "      <td>85.056469</td>\n",
       "      <td>0.035027</td>\n",
       "      <td>4.451139</td>\n",
       "      <td>-0.901713</td>\n",
       "      <td>0.229107</td>\n",
       "      <td>0.718477</td>\n",
       "      <td>0.274491</td>\n",
       "      <td>-0.496484</td>\n",
       "    </tr>\n",
       "    <tr>\n",
       "      <th rowspan=\"10\" valign=\"top\">1</th>\n",
       "      <th rowspan=\"3\" valign=\"top\">False</th>\n",
       "      <th>0</th>\n",
       "      <td>0.346342</td>\n",
       "      <td>9.852331</td>\n",
       "      <td>0.767231</td>\n",
       "      <td>2.186004</td>\n",
       "      <td>-0.834442</td>\n",
       "      <td>0.373575</td>\n",
       "      <td>0.642723</td>\n",
       "      <td>0.131447</td>\n",
       "      <td>-0.387085</td>\n",
       "    </tr>\n",
       "    <tr>\n",
       "      <th>1</th>\n",
       "      <td>0.170091</td>\n",
       "      <td>85.056469</td>\n",
       "      <td>0.035027</td>\n",
       "      <td>4.451139</td>\n",
       "      <td>-0.782788</td>\n",
       "      <td>0.426259</td>\n",
       "      <td>0.717231</td>\n",
       "      <td>0.090306</td>\n",
       "      <td>-0.403768</td>\n",
       "    </tr>\n",
       "    <tr>\n",
       "      <th>2</th>\n",
       "      <td>0.828471</td>\n",
       "      <td>35.475724</td>\n",
       "      <td>0.227447</td>\n",
       "      <td>9.230937</td>\n",
       "      <td>-0.465358</td>\n",
       "      <td>0.558536</td>\n",
       "      <td>inf</td>\n",
       "      <td>inf</td>\n",
       "      <td>-inf</td>\n",
       "    </tr>\n",
       "    <tr>\n",
       "      <th rowspan=\"3\" valign=\"top\">True</th>\n",
       "      <th>3</th>\n",
       "      <td>0.246708</td>\n",
       "      <td>50.260537</td>\n",
       "      <td>0.722269</td>\n",
       "      <td>6.554599</td>\n",
       "      <td>-0.831054</td>\n",
       "      <td>0.379086</td>\n",
       "      <td>0.696575</td>\n",
       "      <td>0.136173</td>\n",
       "      <td>-0.416374</td>\n",
       "    </tr>\n",
       "    <tr>\n",
       "      <th>4</th>\n",
       "      <td>0.246708</td>\n",
       "      <td>50.260537</td>\n",
       "      <td>0.722269</td>\n",
       "      <td>6.554599</td>\n",
       "      <td>-0.831054</td>\n",
       "      <td>0.379086</td>\n",
       "      <td>0.696575</td>\n",
       "      <td>0.136173</td>\n",
       "      <td>-0.416374</td>\n",
       "    </tr>\n",
       "    <tr>\n",
       "      <th>5</th>\n",
       "      <td>0.018091</td>\n",
       "      <td>94.766848</td>\n",
       "      <td>0.315206</td>\n",
       "      <td>1.070838</td>\n",
       "      <td>-0.037770</td>\n",
       "      <td>0.481530</td>\n",
       "      <td>0.785839</td>\n",
       "      <td>0.032166</td>\n",
       "      <td>-0.409003</td>\n",
       "    </tr>\n",
       "    <tr>\n",
       "      <th rowspan=\"2\" valign=\"top\">False</th>\n",
       "      <th>6</th>\n",
       "      <td>0.156630</td>\n",
       "      <td>48.529656</td>\n",
       "      <td>0.722269</td>\n",
       "      <td>6.554599</td>\n",
       "      <td>-0.410299</td>\n",
       "      <td>0.681658</td>\n",
       "      <td>0.645138</td>\n",
       "      <td>0.191354</td>\n",
       "      <td>-0.418246</td>\n",
       "    </tr>\n",
       "    <tr>\n",
       "      <th>7</th>\n",
       "      <td>0.246708</td>\n",
       "      <td>50.260537</td>\n",
       "      <td>0.143593</td>\n",
       "      <td>8.557978</td>\n",
       "      <td>-0.831054</td>\n",
       "      <td>0.379086</td>\n",
       "      <td>0.698660</td>\n",
       "      <td>0.140893</td>\n",
       "      <td>-0.419776</td>\n",
       "    </tr>\n",
       "    <tr>\n",
       "      <th rowspan=\"2\" valign=\"top\">True</th>\n",
       "      <th>8</th>\n",
       "      <td>0.306994</td>\n",
       "      <td>0.844357</td>\n",
       "      <td>0.160585</td>\n",
       "      <td>5.757430</td>\n",
       "      <td>-0.740391</td>\n",
       "      <td>0.746439</td>\n",
       "      <td>inf</td>\n",
       "      <td>inf</td>\n",
       "      <td>-inf</td>\n",
       "    </tr>\n",
       "    <tr>\n",
       "      <th>9</th>\n",
       "      <td>0.346342</td>\n",
       "      <td>85.056469</td>\n",
       "      <td>0.035027</td>\n",
       "      <td>4.451139</td>\n",
       "      <td>-0.901713</td>\n",
       "      <td>0.229107</td>\n",
       "      <td>0.718477</td>\n",
       "      <td>0.274491</td>\n",
       "      <td>-0.496484</td>\n",
       "    </tr>\n",
       "    <tr>\n",
       "      <th rowspan=\"10\" valign=\"top\">2</th>\n",
       "      <th rowspan=\"4\" valign=\"top\">True</th>\n",
       "      <th>0</th>\n",
       "      <td>0.246708</td>\n",
       "      <td>50.260537</td>\n",
       "      <td>0.722269</td>\n",
       "      <td>6.554599</td>\n",
       "      <td>-0.831054</td>\n",
       "      <td>0.379086</td>\n",
       "      <td>0.696575</td>\n",
       "      <td>0.136173</td>\n",
       "      <td>-0.416374</td>\n",
       "    </tr>\n",
       "    <tr>\n",
       "      <th>1</th>\n",
       "      <td>0.306994</td>\n",
       "      <td>0.844357</td>\n",
       "      <td>0.160585</td>\n",
       "      <td>5.757430</td>\n",
       "      <td>-0.740391</td>\n",
       "      <td>0.746439</td>\n",
       "      <td>inf</td>\n",
       "      <td>inf</td>\n",
       "      <td>-inf</td>\n",
       "    </tr>\n",
       "    <tr>\n",
       "      <th>2</th>\n",
       "      <td>0.156630</td>\n",
       "      <td>48.529656</td>\n",
       "      <td>0.722269</td>\n",
       "      <td>6.554599</td>\n",
       "      <td>-0.410299</td>\n",
       "      <td>0.681658</td>\n",
       "      <td>0.645138</td>\n",
       "      <td>0.191354</td>\n",
       "      <td>-0.418246</td>\n",
       "    </tr>\n",
       "    <tr>\n",
       "      <th>3</th>\n",
       "      <td>0.346342</td>\n",
       "      <td>9.852331</td>\n",
       "      <td>0.767231</td>\n",
       "      <td>2.186004</td>\n",
       "      <td>-0.834442</td>\n",
       "      <td>0.373575</td>\n",
       "      <td>0.642723</td>\n",
       "      <td>0.131447</td>\n",
       "      <td>-0.387085</td>\n",
       "    </tr>\n",
       "    <tr>\n",
       "      <th rowspan=\"2\" valign=\"top\">False</th>\n",
       "      <th>4</th>\n",
       "      <td>0.346342</td>\n",
       "      <td>9.852331</td>\n",
       "      <td>0.767231</td>\n",
       "      <td>6.554599</td>\n",
       "      <td>-0.831054</td>\n",
       "      <td>0.379086</td>\n",
       "      <td>0.645191</td>\n",
       "      <td>0.136156</td>\n",
       "      <td>-0.390673</td>\n",
       "    </tr>\n",
       "    <tr>\n",
       "      <th>5</th>\n",
       "      <td>0.246708</td>\n",
       "      <td>50.260537</td>\n",
       "      <td>0.722269</td>\n",
       "      <td>2.186004</td>\n",
       "      <td>-0.834442</td>\n",
       "      <td>0.373575</td>\n",
       "      <td>0.694851</td>\n",
       "      <td>0.131466</td>\n",
       "      <td>-0.413159</td>\n",
       "    </tr>\n",
       "    <tr>\n",
       "      <th rowspan=\"2\" valign=\"top\">True</th>\n",
       "      <th>6</th>\n",
       "      <td>0.246708</td>\n",
       "      <td>50.260537</td>\n",
       "      <td>0.722269</td>\n",
       "      <td>6.554599</td>\n",
       "      <td>-0.831054</td>\n",
       "      <td>0.379086</td>\n",
       "      <td>0.696575</td>\n",
       "      <td>0.136173</td>\n",
       "      <td>-0.416374</td>\n",
       "    </tr>\n",
       "    <tr>\n",
       "      <th>7</th>\n",
       "      <td>0.156630</td>\n",
       "      <td>48.529656</td>\n",
       "      <td>0.722269</td>\n",
       "      <td>6.554599</td>\n",
       "      <td>-0.410299</td>\n",
       "      <td>0.681658</td>\n",
       "      <td>0.645138</td>\n",
       "      <td>0.191354</td>\n",
       "      <td>-0.418246</td>\n",
       "    </tr>\n",
       "    <tr>\n",
       "      <th rowspan=\"2\" valign=\"top\">False</th>\n",
       "      <th>8</th>\n",
       "      <td>0.156630</td>\n",
       "      <td>48.529656</td>\n",
       "      <td>0.143593</td>\n",
       "      <td>8.557978</td>\n",
       "      <td>-0.410299</td>\n",
       "      <td>0.681658</td>\n",
       "      <td>0.647689</td>\n",
       "      <td>0.194479</td>\n",
       "      <td>-0.421084</td>\n",
       "    </tr>\n",
       "    <tr>\n",
       "      <th>9</th>\n",
       "      <td>0.246708</td>\n",
       "      <td>50.260537</td>\n",
       "      <td>0.722269</td>\n",
       "      <td>6.554599</td>\n",
       "      <td>-0.831054</td>\n",
       "      <td>0.379086</td>\n",
       "      <td>0.696575</td>\n",
       "      <td>0.136173</td>\n",
       "      <td>-0.416374</td>\n",
       "    </tr>\n",
       "  </tbody>\n",
       "</table>\n",
       "</div>"
      ],
      "text/plain": [
       "category                                                     Parametre  \\\n",
       "name                                              FG1_energy_transfert   \n",
       "Generation Is_From_Previous_Generation Individual                        \n",
       "0          False                       0                      0.903213   \n",
       "                                       1                      0.306994   \n",
       "                                       2                      0.170091   \n",
       "                                       3                      0.668542   \n",
       "                                       4                      0.156630   \n",
       "                                       5                      0.246708   \n",
       "                                       6                      0.884615   \n",
       "                                       7                      0.018091   \n",
       "                                       8                      0.860325   \n",
       "                                       9                      0.346342   \n",
       "1          False                       0                      0.346342   \n",
       "                                       1                      0.170091   \n",
       "                                       2                      0.828471   \n",
       "           True                        3                      0.246708   \n",
       "                                       4                      0.246708   \n",
       "                                       5                      0.018091   \n",
       "           False                       6                      0.156630   \n",
       "                                       7                      0.246708   \n",
       "           True                        8                      0.306994   \n",
       "                                       9                      0.346342   \n",
       "2          True                        0                      0.246708   \n",
       "                                       1                      0.306994   \n",
       "                                       2                      0.156630   \n",
       "                                       3                      0.346342   \n",
       "           False                       4                      0.346342   \n",
       "                                       5                      0.246708   \n",
       "           True                        6                      0.246708   \n",
       "                                       7                      0.156630   \n",
       "           False                       8                      0.156630   \n",
       "                                       9                      0.246708   \n",
       "\n",
       "category                                                                \\\n",
       "name                                              lambda_temperature_0   \n",
       "Generation Is_From_Previous_Generation Individual                        \n",
       "0          False                       0                     40.069842   \n",
       "                                       1                      0.844357   \n",
       "                                       2                      9.852331   \n",
       "                                       3                     15.180335   \n",
       "                                       4                     48.529656   \n",
       "                                       5                     50.260537   \n",
       "                                       6                     82.303120   \n",
       "                                       7                     94.766848   \n",
       "                                       8                     35.475724   \n",
       "                                       9                     85.056469   \n",
       "1          False                       0                      9.852331   \n",
       "                                       1                     85.056469   \n",
       "                                       2                     35.475724   \n",
       "           True                        3                     50.260537   \n",
       "                                       4                     50.260537   \n",
       "                                       5                     94.766848   \n",
       "           False                       6                     48.529656   \n",
       "                                       7                     50.260537   \n",
       "           True                        8                      0.844357   \n",
       "                                       9                     85.056469   \n",
       "2          True                        0                     50.260537   \n",
       "                                       1                      0.844357   \n",
       "                                       2                     48.529656   \n",
       "                                       3                      9.852331   \n",
       "           False                       4                      9.852331   \n",
       "                                       5                     50.260537   \n",
       "           True                        6                     50.260537   \n",
       "                                       7                     48.529656   \n",
       "           False                       8                     48.529656   \n",
       "                                       9                     50.260537   \n",
       "\n",
       "category                                                                    \\\n",
       "name                                              gamma_lambda_temperature   \n",
       "Generation Is_From_Previous_Generation Individual                            \n",
       "0          False                       0                          0.971929   \n",
       "                                       1                          0.160585   \n",
       "                                       2                          0.767231   \n",
       "                                       3                          0.989579   \n",
       "                                       4                          0.143593   \n",
       "                                       5                          0.722269   \n",
       "                                       6                          0.929151   \n",
       "                                       7                          0.315206   \n",
       "                                       8                          0.227447   \n",
       "                                       9                          0.035027   \n",
       "1          False                       0                          0.767231   \n",
       "                                       1                          0.035027   \n",
       "                                       2                          0.227447   \n",
       "           True                        3                          0.722269   \n",
       "                                       4                          0.722269   \n",
       "                                       5                          0.315206   \n",
       "           False                       6                          0.722269   \n",
       "                                       7                          0.143593   \n",
       "           True                        8                          0.160585   \n",
       "                                       9                          0.035027   \n",
       "2          True                        0                          0.722269   \n",
       "                                       1                          0.160585   \n",
       "                                       2                          0.722269   \n",
       "                                       3                          0.767231   \n",
       "           False                       4                          0.767231   \n",
       "                                       5                          0.722269   \n",
       "           True                        6                          0.722269   \n",
       "                                       7                          0.722269   \n",
       "           False                       8                          0.143593   \n",
       "                                       9                          0.722269   \n",
       "\n",
       "category                                                               \\\n",
       "name                                                   tr_0  gamma_tr   \n",
       "Generation Is_From_Previous_Generation Individual                       \n",
       "0          False                       0           9.107756 -0.084361   \n",
       "                                       1           5.757430 -0.740391   \n",
       "                                       2           2.186004 -0.782788   \n",
       "                                       3           8.215699 -0.505532   \n",
       "                                       4           8.557978 -0.410299   \n",
       "                                       5           6.554599 -0.831054   \n",
       "                                       6           9.677476 -0.305504   \n",
       "                                       7           1.070838 -0.037770   \n",
       "                                       8           9.230937 -0.465358   \n",
       "                                       9           4.451139 -0.901713   \n",
       "1          False                       0           2.186004 -0.834442   \n",
       "                                       1           4.451139 -0.782788   \n",
       "                                       2           9.230937 -0.465358   \n",
       "           True                        3           6.554599 -0.831054   \n",
       "                                       4           6.554599 -0.831054   \n",
       "                                       5           1.070838 -0.037770   \n",
       "           False                       6           6.554599 -0.410299   \n",
       "                                       7           8.557978 -0.831054   \n",
       "           True                        8           5.757430 -0.740391   \n",
       "                                       9           4.451139 -0.901713   \n",
       "2          True                        0           6.554599 -0.831054   \n",
       "                                       1           5.757430 -0.740391   \n",
       "                                       2           6.554599 -0.410299   \n",
       "                                       3           2.186004 -0.834442   \n",
       "           False                       4           6.554599 -0.831054   \n",
       "                                       5           2.186004 -0.834442   \n",
       "           True                        6           6.554599 -0.831054   \n",
       "                                       7           6.554599 -0.410299   \n",
       "           False                       8           8.557978 -0.410299   \n",
       "                                       9           6.554599 -0.831054   \n",
       "\n",
       "category                                                                \\\n",
       "name                                              FG2_energy_transfert   \n",
       "Generation Is_From_Previous_Generation Individual                        \n",
       "0          False                       0                      0.818827   \n",
       "                                       1                      0.746439   \n",
       "                                       2                      0.426259   \n",
       "                                       3                      0.368232   \n",
       "                                       4                      0.681658   \n",
       "                                       5                      0.379086   \n",
       "                                       6                      0.326765   \n",
       "                                       7                      0.481530   \n",
       "                                       8                      0.558536   \n",
       "                                       9                      0.229107   \n",
       "1          False                       0                      0.373575   \n",
       "                                       1                      0.426259   \n",
       "                                       2                      0.558536   \n",
       "           True                        3                      0.379086   \n",
       "                                       4                      0.379086   \n",
       "                                       5                      0.481530   \n",
       "           False                       6                      0.681658   \n",
       "                                       7                      0.379086   \n",
       "           True                        8                      0.746439   \n",
       "                                       9                      0.229107   \n",
       "2          True                        0                      0.379086   \n",
       "                                       1                      0.746439   \n",
       "                                       2                      0.681658   \n",
       "                                       3                      0.373575   \n",
       "           False                       4                      0.379086   \n",
       "                                       5                      0.373575   \n",
       "           True                        6                      0.379086   \n",
       "                                       7                      0.681658   \n",
       "           False                       8                      0.681658   \n",
       "                                       9                      0.379086   \n",
       "\n",
       "category                                                  Fitness  \\\n",
       "name                                              Observation_all   \n",
       "Generation Is_From_Previous_Generation Individual                   \n",
       "0          False                       0                      inf   \n",
       "                                       1                      inf   \n",
       "                                       2                 0.715313   \n",
       "                                       3                      inf   \n",
       "                                       4                 0.647689   \n",
       "                                       5                 0.696575   \n",
       "                                       6                      inf   \n",
       "                                       7                 0.785839   \n",
       "                                       8                      inf   \n",
       "                                       9                 0.718477   \n",
       "1          False                       0                 0.642723   \n",
       "                                       1                 0.717231   \n",
       "                                       2                      inf   \n",
       "           True                        3                 0.696575   \n",
       "                                       4                 0.696575   \n",
       "                                       5                 0.785839   \n",
       "           False                       6                 0.645138   \n",
       "                                       7                 0.698660   \n",
       "           True                        8                      inf   \n",
       "                                       9                 0.718477   \n",
       "2          True                        0                 0.696575   \n",
       "                                       1                      inf   \n",
       "                                       2                 0.645138   \n",
       "                                       3                 0.642723   \n",
       "           False                       4                 0.645191   \n",
       "                                       5                 0.694851   \n",
       "           True                        6                 0.696575   \n",
       "                                       7                 0.645138   \n",
       "           False                       8                 0.647689   \n",
       "                                       9                 0.696575   \n",
       "\n",
       "category                                                            \\\n",
       "name                                              Observation_meso   \n",
       "Generation Is_From_Previous_Generation Individual                    \n",
       "0          False                       0                       inf   \n",
       "                                       1                       inf   \n",
       "                                       2                  0.082421   \n",
       "                                       3                       inf   \n",
       "                                       4                  0.194479   \n",
       "                                       5                  0.136173   \n",
       "                                       6                       inf   \n",
       "                                       7                  0.032166   \n",
       "                                       8                       inf   \n",
       "                                       9                  0.274491   \n",
       "1          False                       0                  0.131447   \n",
       "                                       1                  0.090306   \n",
       "                                       2                       inf   \n",
       "           True                        3                  0.136173   \n",
       "                                       4                  0.136173   \n",
       "                                       5                  0.032166   \n",
       "           False                       6                  0.191354   \n",
       "                                       7                  0.140893   \n",
       "           True                        8                       inf   \n",
       "                                       9                  0.274491   \n",
       "2          True                        0                  0.136173   \n",
       "                                       1                       inf   \n",
       "                                       2                  0.191354   \n",
       "                                       3                  0.131447   \n",
       "           False                       4                  0.136156   \n",
       "                                       5                  0.131466   \n",
       "           True                        6                  0.136173   \n",
       "                                       7                  0.191354   \n",
       "           False                       8                  0.194479   \n",
       "                                       9                  0.136173   \n",
       "\n",
       "category                                          Weighted_fitness  \n",
       "name                                              Weighted_fitness  \n",
       "Generation Is_From_Previous_Generation Individual                   \n",
       "0          False                       0                      -inf  \n",
       "                                       1                      -inf  \n",
       "                                       2                 -0.398867  \n",
       "                                       3                      -inf  \n",
       "                                       4                 -0.421084  \n",
       "                                       5                 -0.416374  \n",
       "                                       6                      -inf  \n",
       "                                       7                 -0.409003  \n",
       "                                       8                      -inf  \n",
       "                                       9                 -0.496484  \n",
       "1          False                       0                 -0.387085  \n",
       "                                       1                 -0.403768  \n",
       "                                       2                      -inf  \n",
       "           True                        3                 -0.416374  \n",
       "                                       4                 -0.416374  \n",
       "                                       5                 -0.409003  \n",
       "           False                       6                 -0.418246  \n",
       "                                       7                 -0.419776  \n",
       "           True                        8                      -inf  \n",
       "                                       9                 -0.496484  \n",
       "2          True                        0                 -0.416374  \n",
       "                                       1                      -inf  \n",
       "                                       2                 -0.418246  \n",
       "                                       3                 -0.387085  \n",
       "           False                       4                 -0.390673  \n",
       "                                       5                 -0.413159  \n",
       "           True                        6                 -0.416374  \n",
       "                                       7                 -0.418246  \n",
       "           False                       8                 -0.421084  \n",
       "                                       9                 -0.416374  "
      ]
     },
     "execution_count": 16,
     "metadata": {},
     "output_type": "execute_result"
    }
   ],
   "source": [
    "genetic_algorithm.logbook"
   ]
  },
  {
   "cell_type": "code",
   "execution_count": 17,
   "id": "b2f688c6",
   "metadata": {},
   "outputs": [],
   "source": [
    "# unevaluated_logbook = genetic_algorithm.logbook.loc[[0]].copy()\n",
    "# unevaluated_logbook"
   ]
  },
  {
   "cell_type": "code",
   "execution_count": 18,
   "id": "c539e8f0",
   "metadata": {},
   "outputs": [],
   "source": [
    "# unevaluated_logbook.iloc[:5, -3:] = np.nan\n",
    "# unevaluated_logbook = Logbook(unevaluated_logbook)\n",
    "# unevaluated_logbook"
   ]
  },
  {
   "cell_type": "code",
   "execution_count": 19,
   "id": "2f0b1f56",
   "metadata": {},
   "outputs": [],
   "source": [
    "# new_genetic_algorithm = SimpleGeneticAlgorithm(\n",
    "#     meta_parameter=metaparam,\n",
    "#     cost_function=cost_function,\n",
    "#     constraint=[constraint],\n",
    "#     logbook=unevaluated_logbook,\n",
    "# )\n"
   ]
  },
  {
   "cell_type": "code",
   "execution_count": 20,
   "id": "15603372",
   "metadata": {},
   "outputs": [],
   "source": [
    "# viewer = new_genetic_algorithm.optimize()"
   ]
  },
  {
   "cell_type": "code",
   "execution_count": 21,
   "id": "b74f0038",
   "metadata": {},
   "outputs": [
    {
     "data": {
      "text/html": [
       "<div>\n",
       "<style scoped>\n",
       "    .dataframe tbody tr th:only-of-type {\n",
       "        vertical-align: middle;\n",
       "    }\n",
       "\n",
       "    .dataframe tbody tr th {\n",
       "        vertical-align: top;\n",
       "    }\n",
       "\n",
       "    .dataframe thead tr th {\n",
       "        text-align: left;\n",
       "    }\n",
       "\n",
       "    .dataframe thead tr:last-of-type th {\n",
       "        text-align: right;\n",
       "    }\n",
       "</style>\n",
       "<table border=\"1\" class=\"dataframe\">\n",
       "  <thead>\n",
       "    <tr>\n",
       "      <th></th>\n",
       "      <th></th>\n",
       "      <th>category</th>\n",
       "      <th colspan=\"6\" halign=\"left\">Parametre</th>\n",
       "      <th colspan=\"2\" halign=\"left\">Fitness</th>\n",
       "      <th>Weighted_fitness</th>\n",
       "    </tr>\n",
       "    <tr>\n",
       "      <th></th>\n",
       "      <th></th>\n",
       "      <th>name</th>\n",
       "      <th>FG1_energy_transfert</th>\n",
       "      <th>lambda_temperature_0</th>\n",
       "      <th>gamma_lambda_temperature</th>\n",
       "      <th>tr_0</th>\n",
       "      <th>gamma_tr</th>\n",
       "      <th>FG2_energy_transfert</th>\n",
       "      <th>Observation_all</th>\n",
       "      <th>Observation_meso</th>\n",
       "      <th>Weighted_fitness</th>\n",
       "    </tr>\n",
       "    <tr>\n",
       "      <th>Generation</th>\n",
       "      <th>Is_From_Previous_Generation</th>\n",
       "      <th>Individual</th>\n",
       "      <th></th>\n",
       "      <th></th>\n",
       "      <th></th>\n",
       "      <th></th>\n",
       "      <th></th>\n",
       "      <th></th>\n",
       "      <th></th>\n",
       "      <th></th>\n",
       "      <th></th>\n",
       "    </tr>\n",
       "  </thead>\n",
       "  <tbody>\n",
       "    <tr>\n",
       "      <th rowspan=\"10\" valign=\"top\">0</th>\n",
       "      <th rowspan=\"10\" valign=\"top\">False</th>\n",
       "      <th>0</th>\n",
       "      <td>0.903213</td>\n",
       "      <td>40.069842</td>\n",
       "      <td>0.971929</td>\n",
       "      <td>9.107756</td>\n",
       "      <td>-0.084361</td>\n",
       "      <td>0.818827</td>\n",
       "      <td>inf</td>\n",
       "      <td>inf</td>\n",
       "      <td>-inf</td>\n",
       "    </tr>\n",
       "    <tr>\n",
       "      <th>1</th>\n",
       "      <td>0.306994</td>\n",
       "      <td>0.844357</td>\n",
       "      <td>0.160585</td>\n",
       "      <td>5.757430</td>\n",
       "      <td>-0.740391</td>\n",
       "      <td>0.746439</td>\n",
       "      <td>inf</td>\n",
       "      <td>inf</td>\n",
       "      <td>-inf</td>\n",
       "    </tr>\n",
       "    <tr>\n",
       "      <th>2</th>\n",
       "      <td>0.170091</td>\n",
       "      <td>9.852331</td>\n",
       "      <td>0.767231</td>\n",
       "      <td>2.186004</td>\n",
       "      <td>-0.782788</td>\n",
       "      <td>0.426259</td>\n",
       "      <td>0.715313</td>\n",
       "      <td>0.082421</td>\n",
       "      <td>-0.398867</td>\n",
       "    </tr>\n",
       "    <tr>\n",
       "      <th>3</th>\n",
       "      <td>0.668542</td>\n",
       "      <td>15.180335</td>\n",
       "      <td>0.989579</td>\n",
       "      <td>8.215699</td>\n",
       "      <td>-0.505532</td>\n",
       "      <td>0.368232</td>\n",
       "      <td>inf</td>\n",
       "      <td>inf</td>\n",
       "      <td>-inf</td>\n",
       "    </tr>\n",
       "    <tr>\n",
       "      <th>4</th>\n",
       "      <td>0.156630</td>\n",
       "      <td>48.529656</td>\n",
       "      <td>0.143593</td>\n",
       "      <td>8.557978</td>\n",
       "      <td>-0.410299</td>\n",
       "      <td>0.681658</td>\n",
       "      <td>0.647689</td>\n",
       "      <td>0.194479</td>\n",
       "      <td>-0.421084</td>\n",
       "    </tr>\n",
       "    <tr>\n",
       "      <th>5</th>\n",
       "      <td>0.246708</td>\n",
       "      <td>50.260537</td>\n",
       "      <td>0.722269</td>\n",
       "      <td>6.554599</td>\n",
       "      <td>-0.831054</td>\n",
       "      <td>0.379086</td>\n",
       "      <td>0.696575</td>\n",
       "      <td>0.136173</td>\n",
       "      <td>-0.416374</td>\n",
       "    </tr>\n",
       "    <tr>\n",
       "      <th>6</th>\n",
       "      <td>0.884615</td>\n",
       "      <td>82.303120</td>\n",
       "      <td>0.929151</td>\n",
       "      <td>9.677476</td>\n",
       "      <td>-0.305504</td>\n",
       "      <td>0.326765</td>\n",
       "      <td>inf</td>\n",
       "      <td>inf</td>\n",
       "      <td>-inf</td>\n",
       "    </tr>\n",
       "    <tr>\n",
       "      <th>7</th>\n",
       "      <td>0.018091</td>\n",
       "      <td>94.766848</td>\n",
       "      <td>0.315206</td>\n",
       "      <td>1.070838</td>\n",
       "      <td>-0.037770</td>\n",
       "      <td>0.481530</td>\n",
       "      <td>0.785839</td>\n",
       "      <td>0.032166</td>\n",
       "      <td>-0.409003</td>\n",
       "    </tr>\n",
       "    <tr>\n",
       "      <th>8</th>\n",
       "      <td>0.860325</td>\n",
       "      <td>35.475724</td>\n",
       "      <td>0.227447</td>\n",
       "      <td>9.230937</td>\n",
       "      <td>-0.465358</td>\n",
       "      <td>0.558536</td>\n",
       "      <td>inf</td>\n",
       "      <td>inf</td>\n",
       "      <td>-inf</td>\n",
       "    </tr>\n",
       "    <tr>\n",
       "      <th>9</th>\n",
       "      <td>0.346342</td>\n",
       "      <td>85.056469</td>\n",
       "      <td>0.035027</td>\n",
       "      <td>4.451139</td>\n",
       "      <td>-0.901713</td>\n",
       "      <td>0.229107</td>\n",
       "      <td>0.718477</td>\n",
       "      <td>0.274491</td>\n",
       "      <td>-0.496484</td>\n",
       "    </tr>\n",
       "    <tr>\n",
       "      <th rowspan=\"10\" valign=\"top\">1</th>\n",
       "      <th rowspan=\"3\" valign=\"top\">False</th>\n",
       "      <th>0</th>\n",
       "      <td>0.346342</td>\n",
       "      <td>9.852331</td>\n",
       "      <td>0.767231</td>\n",
       "      <td>2.186004</td>\n",
       "      <td>-0.834442</td>\n",
       "      <td>0.373575</td>\n",
       "      <td>0.642723</td>\n",
       "      <td>0.131447</td>\n",
       "      <td>-0.387085</td>\n",
       "    </tr>\n",
       "    <tr>\n",
       "      <th>1</th>\n",
       "      <td>0.170091</td>\n",
       "      <td>85.056469</td>\n",
       "      <td>0.035027</td>\n",
       "      <td>4.451139</td>\n",
       "      <td>-0.782788</td>\n",
       "      <td>0.426259</td>\n",
       "      <td>0.717231</td>\n",
       "      <td>0.090306</td>\n",
       "      <td>-0.403768</td>\n",
       "    </tr>\n",
       "    <tr>\n",
       "      <th>2</th>\n",
       "      <td>0.828471</td>\n",
       "      <td>35.475724</td>\n",
       "      <td>0.227447</td>\n",
       "      <td>9.230937</td>\n",
       "      <td>-0.465358</td>\n",
       "      <td>0.558536</td>\n",
       "      <td>inf</td>\n",
       "      <td>inf</td>\n",
       "      <td>-inf</td>\n",
       "    </tr>\n",
       "    <tr>\n",
       "      <th rowspan=\"3\" valign=\"top\">True</th>\n",
       "      <th>3</th>\n",
       "      <td>0.246708</td>\n",
       "      <td>50.260537</td>\n",
       "      <td>0.722269</td>\n",
       "      <td>6.554599</td>\n",
       "      <td>-0.831054</td>\n",
       "      <td>0.379086</td>\n",
       "      <td>0.696575</td>\n",
       "      <td>0.136173</td>\n",
       "      <td>-0.416374</td>\n",
       "    </tr>\n",
       "    <tr>\n",
       "      <th>4</th>\n",
       "      <td>0.246708</td>\n",
       "      <td>50.260537</td>\n",
       "      <td>0.722269</td>\n",
       "      <td>6.554599</td>\n",
       "      <td>-0.831054</td>\n",
       "      <td>0.379086</td>\n",
       "      <td>0.696575</td>\n",
       "      <td>0.136173</td>\n",
       "      <td>-0.416374</td>\n",
       "    </tr>\n",
       "    <tr>\n",
       "      <th>5</th>\n",
       "      <td>0.018091</td>\n",
       "      <td>94.766848</td>\n",
       "      <td>0.315206</td>\n",
       "      <td>1.070838</td>\n",
       "      <td>-0.037770</td>\n",
       "      <td>0.481530</td>\n",
       "      <td>0.785839</td>\n",
       "      <td>0.032166</td>\n",
       "      <td>-0.409003</td>\n",
       "    </tr>\n",
       "    <tr>\n",
       "      <th rowspan=\"2\" valign=\"top\">False</th>\n",
       "      <th>6</th>\n",
       "      <td>0.156630</td>\n",
       "      <td>48.529656</td>\n",
       "      <td>0.722269</td>\n",
       "      <td>6.554599</td>\n",
       "      <td>-0.410299</td>\n",
       "      <td>0.681658</td>\n",
       "      <td>0.645138</td>\n",
       "      <td>0.191354</td>\n",
       "      <td>-0.418246</td>\n",
       "    </tr>\n",
       "    <tr>\n",
       "      <th>7</th>\n",
       "      <td>0.246708</td>\n",
       "      <td>50.260537</td>\n",
       "      <td>0.143593</td>\n",
       "      <td>8.557978</td>\n",
       "      <td>-0.831054</td>\n",
       "      <td>0.379086</td>\n",
       "      <td>0.698660</td>\n",
       "      <td>0.140893</td>\n",
       "      <td>-0.419776</td>\n",
       "    </tr>\n",
       "    <tr>\n",
       "      <th rowspan=\"2\" valign=\"top\">True</th>\n",
       "      <th>8</th>\n",
       "      <td>0.306994</td>\n",
       "      <td>0.844357</td>\n",
       "      <td>0.160585</td>\n",
       "      <td>5.757430</td>\n",
       "      <td>-0.740391</td>\n",
       "      <td>0.746439</td>\n",
       "      <td>inf</td>\n",
       "      <td>inf</td>\n",
       "      <td>-inf</td>\n",
       "    </tr>\n",
       "    <tr>\n",
       "      <th>9</th>\n",
       "      <td>0.346342</td>\n",
       "      <td>85.056469</td>\n",
       "      <td>0.035027</td>\n",
       "      <td>4.451139</td>\n",
       "      <td>-0.901713</td>\n",
       "      <td>0.229107</td>\n",
       "      <td>0.718477</td>\n",
       "      <td>0.274491</td>\n",
       "      <td>-0.496484</td>\n",
       "    </tr>\n",
       "    <tr>\n",
       "      <th rowspan=\"10\" valign=\"top\">2</th>\n",
       "      <th rowspan=\"4\" valign=\"top\">True</th>\n",
       "      <th>0</th>\n",
       "      <td>0.246708</td>\n",
       "      <td>50.260537</td>\n",
       "      <td>0.722269</td>\n",
       "      <td>6.554599</td>\n",
       "      <td>-0.831054</td>\n",
       "      <td>0.379086</td>\n",
       "      <td>0.696575</td>\n",
       "      <td>0.136173</td>\n",
       "      <td>-0.416374</td>\n",
       "    </tr>\n",
       "    <tr>\n",
       "      <th>1</th>\n",
       "      <td>0.306994</td>\n",
       "      <td>0.844357</td>\n",
       "      <td>0.160585</td>\n",
       "      <td>5.757430</td>\n",
       "      <td>-0.740391</td>\n",
       "      <td>0.746439</td>\n",
       "      <td>inf</td>\n",
       "      <td>inf</td>\n",
       "      <td>-inf</td>\n",
       "    </tr>\n",
       "    <tr>\n",
       "      <th>2</th>\n",
       "      <td>0.156630</td>\n",
       "      <td>48.529656</td>\n",
       "      <td>0.722269</td>\n",
       "      <td>6.554599</td>\n",
       "      <td>-0.410299</td>\n",
       "      <td>0.681658</td>\n",
       "      <td>0.645138</td>\n",
       "      <td>0.191354</td>\n",
       "      <td>-0.418246</td>\n",
       "    </tr>\n",
       "    <tr>\n",
       "      <th>3</th>\n",
       "      <td>0.346342</td>\n",
       "      <td>9.852331</td>\n",
       "      <td>0.767231</td>\n",
       "      <td>2.186004</td>\n",
       "      <td>-0.834442</td>\n",
       "      <td>0.373575</td>\n",
       "      <td>0.642723</td>\n",
       "      <td>0.131447</td>\n",
       "      <td>-0.387085</td>\n",
       "    </tr>\n",
       "    <tr>\n",
       "      <th rowspan=\"2\" valign=\"top\">False</th>\n",
       "      <th>4</th>\n",
       "      <td>0.346342</td>\n",
       "      <td>9.852331</td>\n",
       "      <td>0.767231</td>\n",
       "      <td>6.554599</td>\n",
       "      <td>-0.831054</td>\n",
       "      <td>0.379086</td>\n",
       "      <td>0.645191</td>\n",
       "      <td>0.136156</td>\n",
       "      <td>-0.390673</td>\n",
       "    </tr>\n",
       "    <tr>\n",
       "      <th>5</th>\n",
       "      <td>0.246708</td>\n",
       "      <td>50.260537</td>\n",
       "      <td>0.722269</td>\n",
       "      <td>2.186004</td>\n",
       "      <td>-0.834442</td>\n",
       "      <td>0.373575</td>\n",
       "      <td>0.694851</td>\n",
       "      <td>0.131466</td>\n",
       "      <td>-0.413159</td>\n",
       "    </tr>\n",
       "    <tr>\n",
       "      <th rowspan=\"2\" valign=\"top\">True</th>\n",
       "      <th>6</th>\n",
       "      <td>0.246708</td>\n",
       "      <td>50.260537</td>\n",
       "      <td>0.722269</td>\n",
       "      <td>6.554599</td>\n",
       "      <td>-0.831054</td>\n",
       "      <td>0.379086</td>\n",
       "      <td>0.696575</td>\n",
       "      <td>0.136173</td>\n",
       "      <td>-0.416374</td>\n",
       "    </tr>\n",
       "    <tr>\n",
       "      <th>7</th>\n",
       "      <td>0.156630</td>\n",
       "      <td>48.529656</td>\n",
       "      <td>0.722269</td>\n",
       "      <td>6.554599</td>\n",
       "      <td>-0.410299</td>\n",
       "      <td>0.681658</td>\n",
       "      <td>0.645138</td>\n",
       "      <td>0.191354</td>\n",
       "      <td>-0.418246</td>\n",
       "    </tr>\n",
       "    <tr>\n",
       "      <th rowspan=\"2\" valign=\"top\">False</th>\n",
       "      <th>8</th>\n",
       "      <td>0.156630</td>\n",
       "      <td>48.529656</td>\n",
       "      <td>0.143593</td>\n",
       "      <td>8.557978</td>\n",
       "      <td>-0.410299</td>\n",
       "      <td>0.681658</td>\n",
       "      <td>0.647689</td>\n",
       "      <td>0.194479</td>\n",
       "      <td>-0.421084</td>\n",
       "    </tr>\n",
       "    <tr>\n",
       "      <th>9</th>\n",
       "      <td>0.246708</td>\n",
       "      <td>50.260537</td>\n",
       "      <td>0.722269</td>\n",
       "      <td>6.554599</td>\n",
       "      <td>-0.831054</td>\n",
       "      <td>0.379086</td>\n",
       "      <td>0.696575</td>\n",
       "      <td>0.136173</td>\n",
       "      <td>-0.416374</td>\n",
       "    </tr>\n",
       "  </tbody>\n",
       "</table>\n",
       "</div>"
      ],
      "text/plain": [
       "category                                                     Parametre  \\\n",
       "name                                              FG1_energy_transfert   \n",
       "Generation Is_From_Previous_Generation Individual                        \n",
       "0          False                       0                      0.903213   \n",
       "                                       1                      0.306994   \n",
       "                                       2                      0.170091   \n",
       "                                       3                      0.668542   \n",
       "                                       4                      0.156630   \n",
       "                                       5                      0.246708   \n",
       "                                       6                      0.884615   \n",
       "                                       7                      0.018091   \n",
       "                                       8                      0.860325   \n",
       "                                       9                      0.346342   \n",
       "1          False                       0                      0.346342   \n",
       "                                       1                      0.170091   \n",
       "                                       2                      0.828471   \n",
       "           True                        3                      0.246708   \n",
       "                                       4                      0.246708   \n",
       "                                       5                      0.018091   \n",
       "           False                       6                      0.156630   \n",
       "                                       7                      0.246708   \n",
       "           True                        8                      0.306994   \n",
       "                                       9                      0.346342   \n",
       "2          True                        0                      0.246708   \n",
       "                                       1                      0.306994   \n",
       "                                       2                      0.156630   \n",
       "                                       3                      0.346342   \n",
       "           False                       4                      0.346342   \n",
       "                                       5                      0.246708   \n",
       "           True                        6                      0.246708   \n",
       "                                       7                      0.156630   \n",
       "           False                       8                      0.156630   \n",
       "                                       9                      0.246708   \n",
       "\n",
       "category                                                                \\\n",
       "name                                              lambda_temperature_0   \n",
       "Generation Is_From_Previous_Generation Individual                        \n",
       "0          False                       0                     40.069842   \n",
       "                                       1                      0.844357   \n",
       "                                       2                      9.852331   \n",
       "                                       3                     15.180335   \n",
       "                                       4                     48.529656   \n",
       "                                       5                     50.260537   \n",
       "                                       6                     82.303120   \n",
       "                                       7                     94.766848   \n",
       "                                       8                     35.475724   \n",
       "                                       9                     85.056469   \n",
       "1          False                       0                      9.852331   \n",
       "                                       1                     85.056469   \n",
       "                                       2                     35.475724   \n",
       "           True                        3                     50.260537   \n",
       "                                       4                     50.260537   \n",
       "                                       5                     94.766848   \n",
       "           False                       6                     48.529656   \n",
       "                                       7                     50.260537   \n",
       "           True                        8                      0.844357   \n",
       "                                       9                     85.056469   \n",
       "2          True                        0                     50.260537   \n",
       "                                       1                      0.844357   \n",
       "                                       2                     48.529656   \n",
       "                                       3                      9.852331   \n",
       "           False                       4                      9.852331   \n",
       "                                       5                     50.260537   \n",
       "           True                        6                     50.260537   \n",
       "                                       7                     48.529656   \n",
       "           False                       8                     48.529656   \n",
       "                                       9                     50.260537   \n",
       "\n",
       "category                                                                    \\\n",
       "name                                              gamma_lambda_temperature   \n",
       "Generation Is_From_Previous_Generation Individual                            \n",
       "0          False                       0                          0.971929   \n",
       "                                       1                          0.160585   \n",
       "                                       2                          0.767231   \n",
       "                                       3                          0.989579   \n",
       "                                       4                          0.143593   \n",
       "                                       5                          0.722269   \n",
       "                                       6                          0.929151   \n",
       "                                       7                          0.315206   \n",
       "                                       8                          0.227447   \n",
       "                                       9                          0.035027   \n",
       "1          False                       0                          0.767231   \n",
       "                                       1                          0.035027   \n",
       "                                       2                          0.227447   \n",
       "           True                        3                          0.722269   \n",
       "                                       4                          0.722269   \n",
       "                                       5                          0.315206   \n",
       "           False                       6                          0.722269   \n",
       "                                       7                          0.143593   \n",
       "           True                        8                          0.160585   \n",
       "                                       9                          0.035027   \n",
       "2          True                        0                          0.722269   \n",
       "                                       1                          0.160585   \n",
       "                                       2                          0.722269   \n",
       "                                       3                          0.767231   \n",
       "           False                       4                          0.767231   \n",
       "                                       5                          0.722269   \n",
       "           True                        6                          0.722269   \n",
       "                                       7                          0.722269   \n",
       "           False                       8                          0.143593   \n",
       "                                       9                          0.722269   \n",
       "\n",
       "category                                                               \\\n",
       "name                                                   tr_0  gamma_tr   \n",
       "Generation Is_From_Previous_Generation Individual                       \n",
       "0          False                       0           9.107756 -0.084361   \n",
       "                                       1           5.757430 -0.740391   \n",
       "                                       2           2.186004 -0.782788   \n",
       "                                       3           8.215699 -0.505532   \n",
       "                                       4           8.557978 -0.410299   \n",
       "                                       5           6.554599 -0.831054   \n",
       "                                       6           9.677476 -0.305504   \n",
       "                                       7           1.070838 -0.037770   \n",
       "                                       8           9.230937 -0.465358   \n",
       "                                       9           4.451139 -0.901713   \n",
       "1          False                       0           2.186004 -0.834442   \n",
       "                                       1           4.451139 -0.782788   \n",
       "                                       2           9.230937 -0.465358   \n",
       "           True                        3           6.554599 -0.831054   \n",
       "                                       4           6.554599 -0.831054   \n",
       "                                       5           1.070838 -0.037770   \n",
       "           False                       6           6.554599 -0.410299   \n",
       "                                       7           8.557978 -0.831054   \n",
       "           True                        8           5.757430 -0.740391   \n",
       "                                       9           4.451139 -0.901713   \n",
       "2          True                        0           6.554599 -0.831054   \n",
       "                                       1           5.757430 -0.740391   \n",
       "                                       2           6.554599 -0.410299   \n",
       "                                       3           2.186004 -0.834442   \n",
       "           False                       4           6.554599 -0.831054   \n",
       "                                       5           2.186004 -0.834442   \n",
       "           True                        6           6.554599 -0.831054   \n",
       "                                       7           6.554599 -0.410299   \n",
       "           False                       8           8.557978 -0.410299   \n",
       "                                       9           6.554599 -0.831054   \n",
       "\n",
       "category                                                                \\\n",
       "name                                              FG2_energy_transfert   \n",
       "Generation Is_From_Previous_Generation Individual                        \n",
       "0          False                       0                      0.818827   \n",
       "                                       1                      0.746439   \n",
       "                                       2                      0.426259   \n",
       "                                       3                      0.368232   \n",
       "                                       4                      0.681658   \n",
       "                                       5                      0.379086   \n",
       "                                       6                      0.326765   \n",
       "                                       7                      0.481530   \n",
       "                                       8                      0.558536   \n",
       "                                       9                      0.229107   \n",
       "1          False                       0                      0.373575   \n",
       "                                       1                      0.426259   \n",
       "                                       2                      0.558536   \n",
       "           True                        3                      0.379086   \n",
       "                                       4                      0.379086   \n",
       "                                       5                      0.481530   \n",
       "           False                       6                      0.681658   \n",
       "                                       7                      0.379086   \n",
       "           True                        8                      0.746439   \n",
       "                                       9                      0.229107   \n",
       "2          True                        0                      0.379086   \n",
       "                                       1                      0.746439   \n",
       "                                       2                      0.681658   \n",
       "                                       3                      0.373575   \n",
       "           False                       4                      0.379086   \n",
       "                                       5                      0.373575   \n",
       "           True                        6                      0.379086   \n",
       "                                       7                      0.681658   \n",
       "           False                       8                      0.681658   \n",
       "                                       9                      0.379086   \n",
       "\n",
       "category                                                  Fitness  \\\n",
       "name                                              Observation_all   \n",
       "Generation Is_From_Previous_Generation Individual                   \n",
       "0          False                       0                      inf   \n",
       "                                       1                      inf   \n",
       "                                       2                 0.715313   \n",
       "                                       3                      inf   \n",
       "                                       4                 0.647689   \n",
       "                                       5                 0.696575   \n",
       "                                       6                      inf   \n",
       "                                       7                 0.785839   \n",
       "                                       8                      inf   \n",
       "                                       9                 0.718477   \n",
       "1          False                       0                 0.642723   \n",
       "                                       1                 0.717231   \n",
       "                                       2                      inf   \n",
       "           True                        3                 0.696575   \n",
       "                                       4                 0.696575   \n",
       "                                       5                 0.785839   \n",
       "           False                       6                 0.645138   \n",
       "                                       7                 0.698660   \n",
       "           True                        8                      inf   \n",
       "                                       9                 0.718477   \n",
       "2          True                        0                 0.696575   \n",
       "                                       1                      inf   \n",
       "                                       2                 0.645138   \n",
       "                                       3                 0.642723   \n",
       "           False                       4                 0.645191   \n",
       "                                       5                 0.694851   \n",
       "           True                        6                 0.696575   \n",
       "                                       7                 0.645138   \n",
       "           False                       8                 0.647689   \n",
       "                                       9                 0.696575   \n",
       "\n",
       "category                                                            \\\n",
       "name                                              Observation_meso   \n",
       "Generation Is_From_Previous_Generation Individual                    \n",
       "0          False                       0                       inf   \n",
       "                                       1                       inf   \n",
       "                                       2                  0.082421   \n",
       "                                       3                       inf   \n",
       "                                       4                  0.194479   \n",
       "                                       5                  0.136173   \n",
       "                                       6                       inf   \n",
       "                                       7                  0.032166   \n",
       "                                       8                       inf   \n",
       "                                       9                  0.274491   \n",
       "1          False                       0                  0.131447   \n",
       "                                       1                  0.090306   \n",
       "                                       2                       inf   \n",
       "           True                        3                  0.136173   \n",
       "                                       4                  0.136173   \n",
       "                                       5                  0.032166   \n",
       "           False                       6                  0.191354   \n",
       "                                       7                  0.140893   \n",
       "           True                        8                       inf   \n",
       "                                       9                  0.274491   \n",
       "2          True                        0                  0.136173   \n",
       "                                       1                       inf   \n",
       "                                       2                  0.191354   \n",
       "                                       3                  0.131447   \n",
       "           False                       4                  0.136156   \n",
       "                                       5                  0.131466   \n",
       "           True                        6                  0.136173   \n",
       "                                       7                  0.191354   \n",
       "           False                       8                  0.194479   \n",
       "                                       9                  0.136173   \n",
       "\n",
       "category                                          Weighted_fitness  \n",
       "name                                              Weighted_fitness  \n",
       "Generation Is_From_Previous_Generation Individual                   \n",
       "0          False                       0                      -inf  \n",
       "                                       1                      -inf  \n",
       "                                       2                 -0.398867  \n",
       "                                       3                      -inf  \n",
       "                                       4                 -0.421084  \n",
       "                                       5                 -0.416374  \n",
       "                                       6                      -inf  \n",
       "                                       7                 -0.409003  \n",
       "                                       8                      -inf  \n",
       "                                       9                 -0.496484  \n",
       "1          False                       0                 -0.387085  \n",
       "                                       1                 -0.403768  \n",
       "                                       2                      -inf  \n",
       "           True                        3                 -0.416374  \n",
       "                                       4                 -0.416374  \n",
       "                                       5                 -0.409003  \n",
       "           False                       6                 -0.418246  \n",
       "                                       7                 -0.419776  \n",
       "           True                        8                      -inf  \n",
       "                                       9                 -0.496484  \n",
       "2          True                        0                 -0.416374  \n",
       "                                       1                      -inf  \n",
       "                                       2                 -0.418246  \n",
       "                                       3                 -0.387085  \n",
       "           False                       4                 -0.390673  \n",
       "                                       5                 -0.413159  \n",
       "           True                        6                 -0.416374  \n",
       "                                       7                 -0.418246  \n",
       "           False                       8                 -0.421084  \n",
       "                                       9                 -0.416374  "
      ]
     },
     "execution_count": 21,
     "metadata": {},
     "output_type": "execute_result"
    }
   ],
   "source": [
    "viewer.logbook"
   ]
  },
  {
   "cell_type": "code",
   "execution_count": 22,
   "id": "95ab95ff",
   "metadata": {},
   "outputs": [
    {
     "data": {
      "text/html": [
       "<div>\n",
       "<style scoped>\n",
       "    .dataframe tbody tr th:only-of-type {\n",
       "        vertical-align: middle;\n",
       "    }\n",
       "\n",
       "    .dataframe tbody tr th {\n",
       "        vertical-align: top;\n",
       "    }\n",
       "\n",
       "    .dataframe thead th {\n",
       "        text-align: right;\n",
       "    }\n",
       "</style>\n",
       "<table border=\"1\" class=\"dataframe\">\n",
       "  <thead>\n",
       "    <tr style=\"text-align: right;\">\n",
       "      <th></th>\n",
       "      <th>mean</th>\n",
       "      <th>std</th>\n",
       "      <th>min</th>\n",
       "      <th>max</th>\n",
       "      <th>valid</th>\n",
       "      <th>from_previous_generation</th>\n",
       "    </tr>\n",
       "    <tr>\n",
       "      <th>Generation</th>\n",
       "      <th></th>\n",
       "      <th></th>\n",
       "      <th></th>\n",
       "      <th></th>\n",
       "      <th></th>\n",
       "      <th></th>\n",
       "    </tr>\n",
       "  </thead>\n",
       "  <tbody>\n",
       "    <tr>\n",
       "      <th>0</th>\n",
       "      <td>-0.428362</td>\n",
       "      <td>0.038994</td>\n",
       "      <td>-0.496484</td>\n",
       "      <td>-0.398867</td>\n",
       "      <td>5</td>\n",
       "      <td>0.000000</td>\n",
       "    </tr>\n",
       "    <tr>\n",
       "      <th>1</th>\n",
       "      <td>-0.420889</td>\n",
       "      <td>0.032383</td>\n",
       "      <td>-0.496484</td>\n",
       "      <td>-0.387085</td>\n",
       "      <td>8</td>\n",
       "      <td>0.500000</td>\n",
       "    </tr>\n",
       "    <tr>\n",
       "      <th>2</th>\n",
       "      <td>-0.410846</td>\n",
       "      <td>0.012663</td>\n",
       "      <td>-0.421084</td>\n",
       "      <td>-0.387085</td>\n",
       "      <td>9</td>\n",
       "      <td>0.555556</td>\n",
       "    </tr>\n",
       "  </tbody>\n",
       "</table>\n",
       "</div>"
      ],
      "text/plain": [
       "                mean       std       min       max  valid  \\\n",
       "Generation                                                  \n",
       "0          -0.428362  0.038994 -0.496484 -0.398867      5   \n",
       "1          -0.420889  0.032383 -0.496484 -0.387085      8   \n",
       "2          -0.410846  0.012663 -0.421084 -0.387085      9   \n",
       "\n",
       "            from_previous_generation  \n",
       "Generation                            \n",
       "0                           0.000000  \n",
       "1                           0.500000  \n",
       "2                           0.555556  "
      ]
     },
     "execution_count": 22,
     "metadata": {},
     "output_type": "execute_result"
    }
   ],
   "source": [
    "viewer.stats()"
   ]
  },
  {
   "cell_type": "code",
   "execution_count": 23,
   "id": "4128f4c4",
   "metadata": {},
   "outputs": [
    {
     "data": {
      "text/html": [
       "<div>\n",
       "<style scoped>\n",
       "    .dataframe tbody tr th:only-of-type {\n",
       "        vertical-align: middle;\n",
       "    }\n",
       "\n",
       "    .dataframe tbody tr th {\n",
       "        vertical-align: top;\n",
       "    }\n",
       "\n",
       "    .dataframe thead tr th {\n",
       "        text-align: left;\n",
       "    }\n",
       "\n",
       "    .dataframe thead tr:last-of-type th {\n",
       "        text-align: right;\n",
       "    }\n",
       "</style>\n",
       "<table border=\"1\" class=\"dataframe\">\n",
       "  <thead>\n",
       "    <tr>\n",
       "      <th></th>\n",
       "      <th></th>\n",
       "      <th>category</th>\n",
       "      <th colspan=\"6\" halign=\"left\">Parametre</th>\n",
       "      <th colspan=\"2\" halign=\"left\">Fitness</th>\n",
       "      <th>Weighted_fitness</th>\n",
       "    </tr>\n",
       "    <tr>\n",
       "      <th></th>\n",
       "      <th></th>\n",
       "      <th>name</th>\n",
       "      <th>FG1_energy_transfert</th>\n",
       "      <th>lambda_temperature_0</th>\n",
       "      <th>gamma_lambda_temperature</th>\n",
       "      <th>tr_0</th>\n",
       "      <th>gamma_tr</th>\n",
       "      <th>FG2_energy_transfert</th>\n",
       "      <th>Observation_all</th>\n",
       "      <th>Observation_meso</th>\n",
       "      <th>Weighted_fitness</th>\n",
       "    </tr>\n",
       "    <tr>\n",
       "      <th>Generation</th>\n",
       "      <th>Is_From_Previous_Generation</th>\n",
       "      <th>Individual</th>\n",
       "      <th></th>\n",
       "      <th></th>\n",
       "      <th></th>\n",
       "      <th></th>\n",
       "      <th></th>\n",
       "      <th></th>\n",
       "      <th></th>\n",
       "      <th></th>\n",
       "      <th></th>\n",
       "    </tr>\n",
       "  </thead>\n",
       "  <tbody>\n",
       "    <tr>\n",
       "      <th>1</th>\n",
       "      <th>False</th>\n",
       "      <th>0</th>\n",
       "      <td>0.346342</td>\n",
       "      <td>9.852331</td>\n",
       "      <td>0.767231</td>\n",
       "      <td>2.186004</td>\n",
       "      <td>-0.834442</td>\n",
       "      <td>0.373575</td>\n",
       "      <td>0.642723</td>\n",
       "      <td>0.131447</td>\n",
       "      <td>-0.387085</td>\n",
       "    </tr>\n",
       "    <tr>\n",
       "      <th>2</th>\n",
       "      <th>False</th>\n",
       "      <th>4</th>\n",
       "      <td>0.346342</td>\n",
       "      <td>9.852331</td>\n",
       "      <td>0.767231</td>\n",
       "      <td>6.554599</td>\n",
       "      <td>-0.831054</td>\n",
       "      <td>0.379086</td>\n",
       "      <td>0.645191</td>\n",
       "      <td>0.136156</td>\n",
       "      <td>-0.390673</td>\n",
       "    </tr>\n",
       "    <tr>\n",
       "      <th>0</th>\n",
       "      <th>False</th>\n",
       "      <th>2</th>\n",
       "      <td>0.170091</td>\n",
       "      <td>9.852331</td>\n",
       "      <td>0.767231</td>\n",
       "      <td>2.186004</td>\n",
       "      <td>-0.782788</td>\n",
       "      <td>0.426259</td>\n",
       "      <td>0.715313</td>\n",
       "      <td>0.082421</td>\n",
       "      <td>-0.398867</td>\n",
       "    </tr>\n",
       "    <tr>\n",
       "      <th>1</th>\n",
       "      <th>False</th>\n",
       "      <th>1</th>\n",
       "      <td>0.170091</td>\n",
       "      <td>85.056469</td>\n",
       "      <td>0.035027</td>\n",
       "      <td>4.451139</td>\n",
       "      <td>-0.782788</td>\n",
       "      <td>0.426259</td>\n",
       "      <td>0.717231</td>\n",
       "      <td>0.090306</td>\n",
       "      <td>-0.403768</td>\n",
       "    </tr>\n",
       "    <tr>\n",
       "      <th>0</th>\n",
       "      <th>False</th>\n",
       "      <th>7</th>\n",
       "      <td>0.018091</td>\n",
       "      <td>94.766848</td>\n",
       "      <td>0.315206</td>\n",
       "      <td>1.070838</td>\n",
       "      <td>-0.037770</td>\n",
       "      <td>0.481530</td>\n",
       "      <td>0.785839</td>\n",
       "      <td>0.032166</td>\n",
       "      <td>-0.409003</td>\n",
       "    </tr>\n",
       "    <tr>\n",
       "      <th>2</th>\n",
       "      <th>False</th>\n",
       "      <th>5</th>\n",
       "      <td>0.246708</td>\n",
       "      <td>50.260537</td>\n",
       "      <td>0.722269</td>\n",
       "      <td>2.186004</td>\n",
       "      <td>-0.834442</td>\n",
       "      <td>0.373575</td>\n",
       "      <td>0.694851</td>\n",
       "      <td>0.131466</td>\n",
       "      <td>-0.413159</td>\n",
       "    </tr>\n",
       "    <tr>\n",
       "      <th>0</th>\n",
       "      <th>False</th>\n",
       "      <th>5</th>\n",
       "      <td>0.246708</td>\n",
       "      <td>50.260537</td>\n",
       "      <td>0.722269</td>\n",
       "      <td>6.554599</td>\n",
       "      <td>-0.831054</td>\n",
       "      <td>0.379086</td>\n",
       "      <td>0.696575</td>\n",
       "      <td>0.136173</td>\n",
       "      <td>-0.416374</td>\n",
       "    </tr>\n",
       "    <tr>\n",
       "      <th rowspan=\"2\" valign=\"top\">1</th>\n",
       "      <th rowspan=\"2\" valign=\"top\">False</th>\n",
       "      <th>6</th>\n",
       "      <td>0.156630</td>\n",
       "      <td>48.529656</td>\n",
       "      <td>0.722269</td>\n",
       "      <td>6.554599</td>\n",
       "      <td>-0.410299</td>\n",
       "      <td>0.681658</td>\n",
       "      <td>0.645138</td>\n",
       "      <td>0.191354</td>\n",
       "      <td>-0.418246</td>\n",
       "    </tr>\n",
       "    <tr>\n",
       "      <th>7</th>\n",
       "      <td>0.246708</td>\n",
       "      <td>50.260537</td>\n",
       "      <td>0.143593</td>\n",
       "      <td>8.557978</td>\n",
       "      <td>-0.831054</td>\n",
       "      <td>0.379086</td>\n",
       "      <td>0.698660</td>\n",
       "      <td>0.140893</td>\n",
       "      <td>-0.419776</td>\n",
       "    </tr>\n",
       "    <tr>\n",
       "      <th rowspan=\"2\" valign=\"top\">0</th>\n",
       "      <th rowspan=\"2\" valign=\"top\">False</th>\n",
       "      <th>4</th>\n",
       "      <td>0.156630</td>\n",
       "      <td>48.529656</td>\n",
       "      <td>0.143593</td>\n",
       "      <td>8.557978</td>\n",
       "      <td>-0.410299</td>\n",
       "      <td>0.681658</td>\n",
       "      <td>0.647689</td>\n",
       "      <td>0.194479</td>\n",
       "      <td>-0.421084</td>\n",
       "    </tr>\n",
       "    <tr>\n",
       "      <th>9</th>\n",
       "      <td>0.346342</td>\n",
       "      <td>85.056469</td>\n",
       "      <td>0.035027</td>\n",
       "      <td>4.451139</td>\n",
       "      <td>-0.901713</td>\n",
       "      <td>0.229107</td>\n",
       "      <td>0.718477</td>\n",
       "      <td>0.274491</td>\n",
       "      <td>-0.496484</td>\n",
       "    </tr>\n",
       "  </tbody>\n",
       "</table>\n",
       "</div>"
      ],
      "text/plain": [
       "category                                                     Parametre  \\\n",
       "name                                              FG1_energy_transfert   \n",
       "Generation Is_From_Previous_Generation Individual                        \n",
       "1          False                       0                      0.346342   \n",
       "2          False                       4                      0.346342   \n",
       "0          False                       2                      0.170091   \n",
       "1          False                       1                      0.170091   \n",
       "0          False                       7                      0.018091   \n",
       "2          False                       5                      0.246708   \n",
       "0          False                       5                      0.246708   \n",
       "1          False                       6                      0.156630   \n",
       "                                       7                      0.246708   \n",
       "0          False                       4                      0.156630   \n",
       "                                       9                      0.346342   \n",
       "\n",
       "category                                                                \\\n",
       "name                                              lambda_temperature_0   \n",
       "Generation Is_From_Previous_Generation Individual                        \n",
       "1          False                       0                      9.852331   \n",
       "2          False                       4                      9.852331   \n",
       "0          False                       2                      9.852331   \n",
       "1          False                       1                     85.056469   \n",
       "0          False                       7                     94.766848   \n",
       "2          False                       5                     50.260537   \n",
       "0          False                       5                     50.260537   \n",
       "1          False                       6                     48.529656   \n",
       "                                       7                     50.260537   \n",
       "0          False                       4                     48.529656   \n",
       "                                       9                     85.056469   \n",
       "\n",
       "category                                                                    \\\n",
       "name                                              gamma_lambda_temperature   \n",
       "Generation Is_From_Previous_Generation Individual                            \n",
       "1          False                       0                          0.767231   \n",
       "2          False                       4                          0.767231   \n",
       "0          False                       2                          0.767231   \n",
       "1          False                       1                          0.035027   \n",
       "0          False                       7                          0.315206   \n",
       "2          False                       5                          0.722269   \n",
       "0          False                       5                          0.722269   \n",
       "1          False                       6                          0.722269   \n",
       "                                       7                          0.143593   \n",
       "0          False                       4                          0.143593   \n",
       "                                       9                          0.035027   \n",
       "\n",
       "category                                                               \\\n",
       "name                                                   tr_0  gamma_tr   \n",
       "Generation Is_From_Previous_Generation Individual                       \n",
       "1          False                       0           2.186004 -0.834442   \n",
       "2          False                       4           6.554599 -0.831054   \n",
       "0          False                       2           2.186004 -0.782788   \n",
       "1          False                       1           4.451139 -0.782788   \n",
       "0          False                       7           1.070838 -0.037770   \n",
       "2          False                       5           2.186004 -0.834442   \n",
       "0          False                       5           6.554599 -0.831054   \n",
       "1          False                       6           6.554599 -0.410299   \n",
       "                                       7           8.557978 -0.831054   \n",
       "0          False                       4           8.557978 -0.410299   \n",
       "                                       9           4.451139 -0.901713   \n",
       "\n",
       "category                                                                \\\n",
       "name                                              FG2_energy_transfert   \n",
       "Generation Is_From_Previous_Generation Individual                        \n",
       "1          False                       0                      0.373575   \n",
       "2          False                       4                      0.379086   \n",
       "0          False                       2                      0.426259   \n",
       "1          False                       1                      0.426259   \n",
       "0          False                       7                      0.481530   \n",
       "2          False                       5                      0.373575   \n",
       "0          False                       5                      0.379086   \n",
       "1          False                       6                      0.681658   \n",
       "                                       7                      0.379086   \n",
       "0          False                       4                      0.681658   \n",
       "                                       9                      0.229107   \n",
       "\n",
       "category                                                  Fitness  \\\n",
       "name                                              Observation_all   \n",
       "Generation Is_From_Previous_Generation Individual                   \n",
       "1          False                       0                 0.642723   \n",
       "2          False                       4                 0.645191   \n",
       "0          False                       2                 0.715313   \n",
       "1          False                       1                 0.717231   \n",
       "0          False                       7                 0.785839   \n",
       "2          False                       5                 0.694851   \n",
       "0          False                       5                 0.696575   \n",
       "1          False                       6                 0.645138   \n",
       "                                       7                 0.698660   \n",
       "0          False                       4                 0.647689   \n",
       "                                       9                 0.718477   \n",
       "\n",
       "category                                                            \\\n",
       "name                                              Observation_meso   \n",
       "Generation Is_From_Previous_Generation Individual                    \n",
       "1          False                       0                  0.131447   \n",
       "2          False                       4                  0.136156   \n",
       "0          False                       2                  0.082421   \n",
       "1          False                       1                  0.090306   \n",
       "0          False                       7                  0.032166   \n",
       "2          False                       5                  0.131466   \n",
       "0          False                       5                  0.136173   \n",
       "1          False                       6                  0.191354   \n",
       "                                       7                  0.140893   \n",
       "0          False                       4                  0.194479   \n",
       "                                       9                  0.274491   \n",
       "\n",
       "category                                          Weighted_fitness  \n",
       "name                                              Weighted_fitness  \n",
       "Generation Is_From_Previous_Generation Individual                   \n",
       "1          False                       0                 -0.387085  \n",
       "2          False                       4                 -0.390673  \n",
       "0          False                       2                 -0.398867  \n",
       "1          False                       1                 -0.403768  \n",
       "0          False                       7                 -0.409003  \n",
       "2          False                       5                 -0.413159  \n",
       "0          False                       5                 -0.416374  \n",
       "1          False                       6                 -0.418246  \n",
       "                                       7                 -0.419776  \n",
       "0          False                       4                 -0.421084  \n",
       "                                       9                 -0.496484  "
      ]
     },
     "execution_count": 23,
     "metadata": {},
     "output_type": "execute_result"
    }
   ],
   "source": [
    "viewer.hall_of_fame()"
   ]
  },
  {
   "cell_type": "code",
   "execution_count": 24,
   "id": "4476227b",
   "metadata": {},
   "outputs": [
    {
     "data": {
      "application/vnd.plotly.v1+json": {
       "config": {
        "plotlyServerURL": "https://plot.ly"
       },
       "data": [
        {
         "alignmentgroup": "True",
         "box": {
          "visible": true
         },
         "hovertemplate": "Generation=%{x}<br>Weighted_fitness=%{y}<extra></extra>",
         "legendgroup": "",
         "marker": {
          "color": "#636efa"
         },
         "name": "",
         "offsetgroup": "",
         "orientation": "v",
         "points": "all",
         "scalegroup": "True",
         "showlegend": false,
         "type": "violin",
         "x": {
          "bdata": "AAAAAAABAQEBAQEBAQICAgICAgICAg==",
          "dtype": "i1"
         },
         "x0": " ",
         "xaxis": "x",
         "y": {
          "bdata": "adfJOwiH2b+EzxTWCPPav76qaSbgpdq/+FFgqhkt2r+oC57rZMbfv1v99HgBxti/2W1OcVfX2b++qmkm4KXav76qaSbgpdq/+FFgqhkt2r8QETDZicTav/l3nJOd3dq/qAue62TG37++qmkm4KXavxARMNmJxNq/W/30eAHG2L9cdUP/ygDZvxTl74swcdq/vqppJuCl2r8QETDZicTav4TPFNYI89q/vqppJuCl2r8=",
          "dtype": "f8"
         },
         "y0": " ",
         "yaxis": "y"
        },
        {
         "line": {
          "color": "rgba(0,0,0,0.5)",
          "dash": "dash",
          "width": 2
         },
         "mode": "lines",
         "name": "Median",
         "type": "scatter",
         "x": {
          "bdata": "AAEC",
          "dtype": "i1"
         },
         "y": {
          "bdata": "vqppJuCl2r++qmkm4KXav76qaSbgpdq/",
          "dtype": "f8"
         }
        }
       ],
       "layout": {
        "legend": {
         "tracegroupgap": 0
        },
        "margin": {
         "t": 60
        },
        "template": {
         "data": {
          "bar": [
           {
            "error_x": {
             "color": "#2a3f5f"
            },
            "error_y": {
             "color": "#2a3f5f"
            },
            "marker": {
             "line": {
              "color": "#E5ECF6",
              "width": 0.5
             },
             "pattern": {
              "fillmode": "overlay",
              "size": 10,
              "solidity": 0.2
             }
            },
            "type": "bar"
           }
          ],
          "barpolar": [
           {
            "marker": {
             "line": {
              "color": "#E5ECF6",
              "width": 0.5
             },
             "pattern": {
              "fillmode": "overlay",
              "size": 10,
              "solidity": 0.2
             }
            },
            "type": "barpolar"
           }
          ],
          "carpet": [
           {
            "aaxis": {
             "endlinecolor": "#2a3f5f",
             "gridcolor": "white",
             "linecolor": "white",
             "minorgridcolor": "white",
             "startlinecolor": "#2a3f5f"
            },
            "baxis": {
             "endlinecolor": "#2a3f5f",
             "gridcolor": "white",
             "linecolor": "white",
             "minorgridcolor": "white",
             "startlinecolor": "#2a3f5f"
            },
            "type": "carpet"
           }
          ],
          "choropleth": [
           {
            "colorbar": {
             "outlinewidth": 0,
             "ticks": ""
            },
            "type": "choropleth"
           }
          ],
          "contour": [
           {
            "colorbar": {
             "outlinewidth": 0,
             "ticks": ""
            },
            "colorscale": [
             [
              0,
              "#0d0887"
             ],
             [
              0.1111111111111111,
              "#46039f"
             ],
             [
              0.2222222222222222,
              "#7201a8"
             ],
             [
              0.3333333333333333,
              "#9c179e"
             ],
             [
              0.4444444444444444,
              "#bd3786"
             ],
             [
              0.5555555555555556,
              "#d8576b"
             ],
             [
              0.6666666666666666,
              "#ed7953"
             ],
             [
              0.7777777777777778,
              "#fb9f3a"
             ],
             [
              0.8888888888888888,
              "#fdca26"
             ],
             [
              1,
              "#f0f921"
             ]
            ],
            "type": "contour"
           }
          ],
          "contourcarpet": [
           {
            "colorbar": {
             "outlinewidth": 0,
             "ticks": ""
            },
            "type": "contourcarpet"
           }
          ],
          "heatmap": [
           {
            "colorbar": {
             "outlinewidth": 0,
             "ticks": ""
            },
            "colorscale": [
             [
              0,
              "#0d0887"
             ],
             [
              0.1111111111111111,
              "#46039f"
             ],
             [
              0.2222222222222222,
              "#7201a8"
             ],
             [
              0.3333333333333333,
              "#9c179e"
             ],
             [
              0.4444444444444444,
              "#bd3786"
             ],
             [
              0.5555555555555556,
              "#d8576b"
             ],
             [
              0.6666666666666666,
              "#ed7953"
             ],
             [
              0.7777777777777778,
              "#fb9f3a"
             ],
             [
              0.8888888888888888,
              "#fdca26"
             ],
             [
              1,
              "#f0f921"
             ]
            ],
            "type": "heatmap"
           }
          ],
          "histogram": [
           {
            "marker": {
             "pattern": {
              "fillmode": "overlay",
              "size": 10,
              "solidity": 0.2
             }
            },
            "type": "histogram"
           }
          ],
          "histogram2d": [
           {
            "colorbar": {
             "outlinewidth": 0,
             "ticks": ""
            },
            "colorscale": [
             [
              0,
              "#0d0887"
             ],
             [
              0.1111111111111111,
              "#46039f"
             ],
             [
              0.2222222222222222,
              "#7201a8"
             ],
             [
              0.3333333333333333,
              "#9c179e"
             ],
             [
              0.4444444444444444,
              "#bd3786"
             ],
             [
              0.5555555555555556,
              "#d8576b"
             ],
             [
              0.6666666666666666,
              "#ed7953"
             ],
             [
              0.7777777777777778,
              "#fb9f3a"
             ],
             [
              0.8888888888888888,
              "#fdca26"
             ],
             [
              1,
              "#f0f921"
             ]
            ],
            "type": "histogram2d"
           }
          ],
          "histogram2dcontour": [
           {
            "colorbar": {
             "outlinewidth": 0,
             "ticks": ""
            },
            "colorscale": [
             [
              0,
              "#0d0887"
             ],
             [
              0.1111111111111111,
              "#46039f"
             ],
             [
              0.2222222222222222,
              "#7201a8"
             ],
             [
              0.3333333333333333,
              "#9c179e"
             ],
             [
              0.4444444444444444,
              "#bd3786"
             ],
             [
              0.5555555555555556,
              "#d8576b"
             ],
             [
              0.6666666666666666,
              "#ed7953"
             ],
             [
              0.7777777777777778,
              "#fb9f3a"
             ],
             [
              0.8888888888888888,
              "#fdca26"
             ],
             [
              1,
              "#f0f921"
             ]
            ],
            "type": "histogram2dcontour"
           }
          ],
          "mesh3d": [
           {
            "colorbar": {
             "outlinewidth": 0,
             "ticks": ""
            },
            "type": "mesh3d"
           }
          ],
          "parcoords": [
           {
            "line": {
             "colorbar": {
              "outlinewidth": 0,
              "ticks": ""
             }
            },
            "type": "parcoords"
           }
          ],
          "pie": [
           {
            "automargin": true,
            "type": "pie"
           }
          ],
          "scatter": [
           {
            "fillpattern": {
             "fillmode": "overlay",
             "size": 10,
             "solidity": 0.2
            },
            "type": "scatter"
           }
          ],
          "scatter3d": [
           {
            "line": {
             "colorbar": {
              "outlinewidth": 0,
              "ticks": ""
             }
            },
            "marker": {
             "colorbar": {
              "outlinewidth": 0,
              "ticks": ""
             }
            },
            "type": "scatter3d"
           }
          ],
          "scattercarpet": [
           {
            "marker": {
             "colorbar": {
              "outlinewidth": 0,
              "ticks": ""
             }
            },
            "type": "scattercarpet"
           }
          ],
          "scattergeo": [
           {
            "marker": {
             "colorbar": {
              "outlinewidth": 0,
              "ticks": ""
             }
            },
            "type": "scattergeo"
           }
          ],
          "scattergl": [
           {
            "marker": {
             "colorbar": {
              "outlinewidth": 0,
              "ticks": ""
             }
            },
            "type": "scattergl"
           }
          ],
          "scattermap": [
           {
            "marker": {
             "colorbar": {
              "outlinewidth": 0,
              "ticks": ""
             }
            },
            "type": "scattermap"
           }
          ],
          "scattermapbox": [
           {
            "marker": {
             "colorbar": {
              "outlinewidth": 0,
              "ticks": ""
             }
            },
            "type": "scattermapbox"
           }
          ],
          "scatterpolar": [
           {
            "marker": {
             "colorbar": {
              "outlinewidth": 0,
              "ticks": ""
             }
            },
            "type": "scatterpolar"
           }
          ],
          "scatterpolargl": [
           {
            "marker": {
             "colorbar": {
              "outlinewidth": 0,
              "ticks": ""
             }
            },
            "type": "scatterpolargl"
           }
          ],
          "scatterternary": [
           {
            "marker": {
             "colorbar": {
              "outlinewidth": 0,
              "ticks": ""
             }
            },
            "type": "scatterternary"
           }
          ],
          "surface": [
           {
            "colorbar": {
             "outlinewidth": 0,
             "ticks": ""
            },
            "colorscale": [
             [
              0,
              "#0d0887"
             ],
             [
              0.1111111111111111,
              "#46039f"
             ],
             [
              0.2222222222222222,
              "#7201a8"
             ],
             [
              0.3333333333333333,
              "#9c179e"
             ],
             [
              0.4444444444444444,
              "#bd3786"
             ],
             [
              0.5555555555555556,
              "#d8576b"
             ],
             [
              0.6666666666666666,
              "#ed7953"
             ],
             [
              0.7777777777777778,
              "#fb9f3a"
             ],
             [
              0.8888888888888888,
              "#fdca26"
             ],
             [
              1,
              "#f0f921"
             ]
            ],
            "type": "surface"
           }
          ],
          "table": [
           {
            "cells": {
             "fill": {
              "color": "#EBF0F8"
             },
             "line": {
              "color": "white"
             }
            },
            "header": {
             "fill": {
              "color": "#C8D4E3"
             },
             "line": {
              "color": "white"
             }
            },
            "type": "table"
           }
          ]
         },
         "layout": {
          "annotationdefaults": {
           "arrowcolor": "#2a3f5f",
           "arrowhead": 0,
           "arrowwidth": 1
          },
          "autotypenumbers": "strict",
          "coloraxis": {
           "colorbar": {
            "outlinewidth": 0,
            "ticks": ""
           }
          },
          "colorscale": {
           "diverging": [
            [
             0,
             "#8e0152"
            ],
            [
             0.1,
             "#c51b7d"
            ],
            [
             0.2,
             "#de77ae"
            ],
            [
             0.3,
             "#f1b6da"
            ],
            [
             0.4,
             "#fde0ef"
            ],
            [
             0.5,
             "#f7f7f7"
            ],
            [
             0.6,
             "#e6f5d0"
            ],
            [
             0.7,
             "#b8e186"
            ],
            [
             0.8,
             "#7fbc41"
            ],
            [
             0.9,
             "#4d9221"
            ],
            [
             1,
             "#276419"
            ]
           ],
           "sequential": [
            [
             0,
             "#0d0887"
            ],
            [
             0.1111111111111111,
             "#46039f"
            ],
            [
             0.2222222222222222,
             "#7201a8"
            ],
            [
             0.3333333333333333,
             "#9c179e"
            ],
            [
             0.4444444444444444,
             "#bd3786"
            ],
            [
             0.5555555555555556,
             "#d8576b"
            ],
            [
             0.6666666666666666,
             "#ed7953"
            ],
            [
             0.7777777777777778,
             "#fb9f3a"
            ],
            [
             0.8888888888888888,
             "#fdca26"
            ],
            [
             1,
             "#f0f921"
            ]
           ],
           "sequentialminus": [
            [
             0,
             "#0d0887"
            ],
            [
             0.1111111111111111,
             "#46039f"
            ],
            [
             0.2222222222222222,
             "#7201a8"
            ],
            [
             0.3333333333333333,
             "#9c179e"
            ],
            [
             0.4444444444444444,
             "#bd3786"
            ],
            [
             0.5555555555555556,
             "#d8576b"
            ],
            [
             0.6666666666666666,
             "#ed7953"
            ],
            [
             0.7777777777777778,
             "#fb9f3a"
            ],
            [
             0.8888888888888888,
             "#fdca26"
            ],
            [
             1,
             "#f0f921"
            ]
           ]
          },
          "colorway": [
           "#636efa",
           "#EF553B",
           "#00cc96",
           "#ab63fa",
           "#FFA15A",
           "#19d3f3",
           "#FF6692",
           "#B6E880",
           "#FF97FF",
           "#FECB52"
          ],
          "font": {
           "color": "#2a3f5f"
          },
          "geo": {
           "bgcolor": "white",
           "lakecolor": "white",
           "landcolor": "#E5ECF6",
           "showlakes": true,
           "showland": true,
           "subunitcolor": "white"
          },
          "hoverlabel": {
           "align": "left"
          },
          "hovermode": "closest",
          "mapbox": {
           "style": "light"
          },
          "paper_bgcolor": "white",
          "plot_bgcolor": "#E5ECF6",
          "polar": {
           "angularaxis": {
            "gridcolor": "white",
            "linecolor": "white",
            "ticks": ""
           },
           "bgcolor": "#E5ECF6",
           "radialaxis": {
            "gridcolor": "white",
            "linecolor": "white",
            "ticks": ""
           }
          },
          "scene": {
           "xaxis": {
            "backgroundcolor": "#E5ECF6",
            "gridcolor": "white",
            "gridwidth": 2,
            "linecolor": "white",
            "showbackground": true,
            "ticks": "",
            "zerolinecolor": "white"
           },
           "yaxis": {
            "backgroundcolor": "#E5ECF6",
            "gridcolor": "white",
            "gridwidth": 2,
            "linecolor": "white",
            "showbackground": true,
            "ticks": "",
            "zerolinecolor": "white"
           },
           "zaxis": {
            "backgroundcolor": "#E5ECF6",
            "gridcolor": "white",
            "gridwidth": 2,
            "linecolor": "white",
            "showbackground": true,
            "ticks": "",
            "zerolinecolor": "white"
           }
          },
          "shapedefaults": {
           "line": {
            "color": "#2a3f5f"
           }
          },
          "ternary": {
           "aaxis": {
            "gridcolor": "white",
            "linecolor": "white",
            "ticks": ""
           },
           "baxis": {
            "gridcolor": "white",
            "linecolor": "white",
            "ticks": ""
           },
           "bgcolor": "#E5ECF6",
           "caxis": {
            "gridcolor": "white",
            "linecolor": "white",
            "ticks": ""
           }
          },
          "title": {
           "x": 0.05
          },
          "xaxis": {
           "automargin": true,
           "gridcolor": "white",
           "linecolor": "white",
           "ticks": "",
           "title": {
            "standoff": 15
           },
           "zerolinecolor": "white",
           "zerolinewidth": 2
          },
          "yaxis": {
           "automargin": true,
           "gridcolor": "white",
           "linecolor": "white",
           "ticks": "",
           "title": {
            "standoff": 15
           },
           "zerolinecolor": "white",
           "zerolinewidth": 2
          }
         }
        },
        "title": {
         "text": "Fitness evolution"
        },
        "violinmode": "group",
        "xaxis": {
         "anchor": "y",
         "domain": [
          0,
          1
         ],
         "title": {
          "text": "Generation"
         }
        },
        "yaxis": {
         "anchor": "x",
         "domain": [
          0,
          1
         ],
         "title": {
          "text": "Weighted_fitness"
         }
        }
       }
      }
     },
     "metadata": {},
     "output_type": "display_data"
    }
   ],
   "source": [
    "viewer.fitness_evolution(points=\"all\")"
   ]
  },
  {
   "cell_type": "code",
   "execution_count": 25,
   "id": "a94c064e",
   "metadata": {},
   "outputs": [
    {
     "data": {
      "application/vnd.plotly.v1+json": {
       "config": {
        "plotlyServerURL": "https://plot.ly"
       },
       "data": [
        {
         "alignmentgroup": "True",
         "hovertemplate": "FG1_energy_transfert=%{y}<extra></extra>",
         "legendgroup": "",
         "marker": {
          "color": "#636efa"
         },
         "name": "",
         "notched": false,
         "offsetgroup": "",
         "orientation": "v",
         "showlegend": false,
         "type": "box",
         "x0": " ",
         "xaxis": "x",
         "y": {
          "bdata": "AkLGvXUq1j8CQsa9dSrWPwJCxr11KtY/zNOhnojFxT/M06GeiMXFP4AuQ7p8hpI/gC5DunyGkj8cOy3zHJTPPxw7LfMclM8/HDst8xyUzz8cOy3zHJTPPxw7LfMclM8/HDst8xyUzz8cOy3zHJTPPxxe5XtwDMQ/HF7le3AMxD8cXuV7cAzEPxw7LfMclM8/HF7le3AMxD8cXuV7cAzEPwJCxr11KtY/AkLGvXUq1j8=",
          "dtype": "f8"
         },
         "y0": " ",
         "yaxis": "y"
        },
        {
         "alignmentgroup": "True",
         "hovertemplate": "lambda_temperature_0=%{y}<extra></extra>",
         "legendgroup": "",
         "marker": {
          "color": "#636efa"
         },
         "name": "",
         "notched": false,
         "offsetgroup": "",
         "orientation": "v",
         "showlegend": false,
         "type": "box",
         "x0": " ",
         "xaxis": "x2",
         "y": {
          "bdata": "1DIDvWS0I0DUMgO9ZLQjQNQyA71ktCNA1DIDvWS0I0Aw8jIynUNVQNRoVQgUsVdA1GhVCBSxV0CsaiNIWSFJQKxqI0hZIUlArGojSFkhSUCsaiNIWSFJQKxqI0hZIUlArGojSFkhSUCsaiNIWSFJQJmjk8DLQ0hAmaOTwMtDSECZo5PAy0NIQKxqI0hZIUlAmaOTwMtDSECZo5PAy0NIQDDyMjKdQ1VAMPIyMp1DVUA=",
          "dtype": "f8"
         },
         "y0": " ",
         "yaxis": "y2"
        },
        {
         "alignmentgroup": "True",
         "hovertemplate": "gamma_lambda_temperature=%{y}<extra></extra>",
         "legendgroup": "",
         "marker": {
          "color": "#636efa"
         },
         "name": "",
         "notched": false,
         "offsetgroup": "",
         "orientation": "v",
         "showlegend": false,
         "type": "box",
         "x0": " ",
         "xaxis": "x3",
         "y": {
          "bdata": "sb+p9SeN6D+xv6n1J43oP7G/qfUnjeg/sb+p9SeN6D9g704NHu+hPyCWQdZULNQ/IJZB1lQs1D/UQygK1BznP9RDKArUHOc/1EMoCtQc5z/UQygK1BznP9RDKArUHOc/1EMoCtQc5z/UQygK1BznP9RDKArUHOc/1EMoCtQc5z/UQygK1BznPwgApCpDYcI/CACkKkNhwj8IAKQqQ2HCP2DvTg0e76E/YO9ODR7voT8=",
          "dtype": "f8"
         },
         "y0": " ",
         "yaxis": "y3"
        },
        {
         "alignmentgroup": "True",
         "hovertemplate": "tr_0=%{y}<extra></extra>",
         "legendgroup": "",
         "marker": {
          "color": "#636efa"
         },
         "name": "",
         "notched": false,
         "offsetgroup": "",
         "orientation": "v",
         "showlegend": false,
         "type": "box",
         "x0": " ",
         "xaxis": "x4",
         "y": {
          "bdata": "pZx3yO98AUClnHfI73wBQNbUat7oNxpApZx3yO98AUALY0l3980RQOR8m3snIvE/5Hybeyci8T+lnHfI73wBQNbUat7oNxpA1tRq3ug3GkDW1Gre6DcaQNbUat7oNxpA1tRq3ug3GkDW1Gre6DcaQNbUat7oNxpA1tRq3ug3GkDW1Gre6DcaQKwboj6vHSFArBuiPq8dIUCsG6I+rx0hQAtjSXf3zRFAC2NJd/fNEUA=",
          "dtype": "f8"
         },
         "y0": " ",
         "yaxis": "y4"
        },
        {
         "alignmentgroup": "True",
         "hovertemplate": "gamma_tr=%{y}<extra></extra>",
         "legendgroup": "",
         "marker": {
          "color": "#636efa"
         },
         "name": "",
         "notched": false,
         "offsetgroup": "",
         "orientation": "v",
         "showlegend": false,
         "type": "box",
         "x0": " ",
         "xaxis": "x5",
         "y": {
          "bdata": "pTcCo7+z6r+lNwKjv7Pqv190gNz+l+q/Tke+WJkM6b9OR75YmQzpvwA74d6KVqO/ADvh3opWo7+lNwKjv7Pqv190gNz+l+q/X3SA3P6X6r9fdIDc/pfqv190gNz+l+q/X3SA3P6X6r9fdIDc/pfqv2YLuz1YQtq/Zgu7PVhC2r9mC7s9WELav190gNz+l+q/Zgu7PVhC2r9mC7s9WELavzEVSrzV2uy/MRVKvNXa7L8=",
          "dtype": "f8"
         },
         "y0": " ",
         "yaxis": "y5"
        },
        {
         "alignmentgroup": "True",
         "hovertemplate": "FG2_energy_transfert=%{y}<extra></extra>",
         "legendgroup": "",
         "marker": {
          "color": "#636efa"
         },
         "name": "",
         "notched": false,
         "offsetgroup": "",
         "orientation": "v",
         "showlegend": false,
         "type": "box",
         "x0": " ",
         "xaxis": "x6",
         "y": {
          "bdata": "zs1BJKjo1z/OzUEkqOjXP+CcfjfyQtg/2lchM9JH2z/aVyEz0kfbP4CHYLdh0d4/gIdgt2HR3j/OzUEkqOjXP+CcfjfyQtg/4Jx+N/JC2D/gnH438kLYP+CcfjfyQtg/4Jx+N/JC2D/gnH438kLYP3laqaok0OU/eVqpqiTQ5T95WqmqJNDlP+CcfjfyQtg/eVqpqiTQ5T95WqmqJNDlP4BoikVfU80/gGiKRV9TzT8=",
          "dtype": "f8"
         },
         "y0": " ",
         "yaxis": "y6"
        }
       ],
       "layout": {
        "annotations": [
         {
          "font": {
           "size": 16
          },
          "showarrow": false,
          "text": "FG1_energy_transfert",
          "x": 0.13333333333333333,
          "xanchor": "center",
          "xref": "paper",
          "y": 1,
          "yanchor": "bottom",
          "yref": "paper"
         },
         {
          "font": {
           "size": 16
          },
          "showarrow": false,
          "text": "lambda_temperature_0",
          "x": 0.5,
          "xanchor": "center",
          "xref": "paper",
          "y": 1,
          "yanchor": "bottom",
          "yref": "paper"
         },
         {
          "font": {
           "size": 16
          },
          "showarrow": false,
          "text": "gamma_lambda_temperature",
          "x": 0.8666666666666667,
          "xanchor": "center",
          "xref": "paper",
          "y": 1,
          "yanchor": "bottom",
          "yref": "paper"
         },
         {
          "font": {
           "size": 16
          },
          "showarrow": false,
          "text": "tr_0",
          "x": 0.13333333333333333,
          "xanchor": "center",
          "xref": "paper",
          "y": 0.45,
          "yanchor": "bottom",
          "yref": "paper"
         },
         {
          "font": {
           "size": 16
          },
          "showarrow": false,
          "text": "gamma_tr",
          "x": 0.5,
          "xanchor": "center",
          "xref": "paper",
          "y": 0.45,
          "yanchor": "bottom",
          "yref": "paper"
         },
         {
          "font": {
           "size": 16
          },
          "showarrow": false,
          "text": "FG2_energy_transfert",
          "x": 0.8666666666666667,
          "xanchor": "center",
          "xref": "paper",
          "y": 0.45,
          "yanchor": "bottom",
          "yref": "paper"
         }
        ],
        "height": 600,
        "template": {
         "data": {
          "bar": [
           {
            "error_x": {
             "color": "#2a3f5f"
            },
            "error_y": {
             "color": "#2a3f5f"
            },
            "marker": {
             "line": {
              "color": "#E5ECF6",
              "width": 0.5
             },
             "pattern": {
              "fillmode": "overlay",
              "size": 10,
              "solidity": 0.2
             }
            },
            "type": "bar"
           }
          ],
          "barpolar": [
           {
            "marker": {
             "line": {
              "color": "#E5ECF6",
              "width": 0.5
             },
             "pattern": {
              "fillmode": "overlay",
              "size": 10,
              "solidity": 0.2
             }
            },
            "type": "barpolar"
           }
          ],
          "carpet": [
           {
            "aaxis": {
             "endlinecolor": "#2a3f5f",
             "gridcolor": "white",
             "linecolor": "white",
             "minorgridcolor": "white",
             "startlinecolor": "#2a3f5f"
            },
            "baxis": {
             "endlinecolor": "#2a3f5f",
             "gridcolor": "white",
             "linecolor": "white",
             "minorgridcolor": "white",
             "startlinecolor": "#2a3f5f"
            },
            "type": "carpet"
           }
          ],
          "choropleth": [
           {
            "colorbar": {
             "outlinewidth": 0,
             "ticks": ""
            },
            "type": "choropleth"
           }
          ],
          "contour": [
           {
            "colorbar": {
             "outlinewidth": 0,
             "ticks": ""
            },
            "colorscale": [
             [
              0,
              "#0d0887"
             ],
             [
              0.1111111111111111,
              "#46039f"
             ],
             [
              0.2222222222222222,
              "#7201a8"
             ],
             [
              0.3333333333333333,
              "#9c179e"
             ],
             [
              0.4444444444444444,
              "#bd3786"
             ],
             [
              0.5555555555555556,
              "#d8576b"
             ],
             [
              0.6666666666666666,
              "#ed7953"
             ],
             [
              0.7777777777777778,
              "#fb9f3a"
             ],
             [
              0.8888888888888888,
              "#fdca26"
             ],
             [
              1,
              "#f0f921"
             ]
            ],
            "type": "contour"
           }
          ],
          "contourcarpet": [
           {
            "colorbar": {
             "outlinewidth": 0,
             "ticks": ""
            },
            "type": "contourcarpet"
           }
          ],
          "heatmap": [
           {
            "colorbar": {
             "outlinewidth": 0,
             "ticks": ""
            },
            "colorscale": [
             [
              0,
              "#0d0887"
             ],
             [
              0.1111111111111111,
              "#46039f"
             ],
             [
              0.2222222222222222,
              "#7201a8"
             ],
             [
              0.3333333333333333,
              "#9c179e"
             ],
             [
              0.4444444444444444,
              "#bd3786"
             ],
             [
              0.5555555555555556,
              "#d8576b"
             ],
             [
              0.6666666666666666,
              "#ed7953"
             ],
             [
              0.7777777777777778,
              "#fb9f3a"
             ],
             [
              0.8888888888888888,
              "#fdca26"
             ],
             [
              1,
              "#f0f921"
             ]
            ],
            "type": "heatmap"
           }
          ],
          "histogram": [
           {
            "marker": {
             "pattern": {
              "fillmode": "overlay",
              "size": 10,
              "solidity": 0.2
             }
            },
            "type": "histogram"
           }
          ],
          "histogram2d": [
           {
            "colorbar": {
             "outlinewidth": 0,
             "ticks": ""
            },
            "colorscale": [
             [
              0,
              "#0d0887"
             ],
             [
              0.1111111111111111,
              "#46039f"
             ],
             [
              0.2222222222222222,
              "#7201a8"
             ],
             [
              0.3333333333333333,
              "#9c179e"
             ],
             [
              0.4444444444444444,
              "#bd3786"
             ],
             [
              0.5555555555555556,
              "#d8576b"
             ],
             [
              0.6666666666666666,
              "#ed7953"
             ],
             [
              0.7777777777777778,
              "#fb9f3a"
             ],
             [
              0.8888888888888888,
              "#fdca26"
             ],
             [
              1,
              "#f0f921"
             ]
            ],
            "type": "histogram2d"
           }
          ],
          "histogram2dcontour": [
           {
            "colorbar": {
             "outlinewidth": 0,
             "ticks": ""
            },
            "colorscale": [
             [
              0,
              "#0d0887"
             ],
             [
              0.1111111111111111,
              "#46039f"
             ],
             [
              0.2222222222222222,
              "#7201a8"
             ],
             [
              0.3333333333333333,
              "#9c179e"
             ],
             [
              0.4444444444444444,
              "#bd3786"
             ],
             [
              0.5555555555555556,
              "#d8576b"
             ],
             [
              0.6666666666666666,
              "#ed7953"
             ],
             [
              0.7777777777777778,
              "#fb9f3a"
             ],
             [
              0.8888888888888888,
              "#fdca26"
             ],
             [
              1,
              "#f0f921"
             ]
            ],
            "type": "histogram2dcontour"
           }
          ],
          "mesh3d": [
           {
            "colorbar": {
             "outlinewidth": 0,
             "ticks": ""
            },
            "type": "mesh3d"
           }
          ],
          "parcoords": [
           {
            "line": {
             "colorbar": {
              "outlinewidth": 0,
              "ticks": ""
             }
            },
            "type": "parcoords"
           }
          ],
          "pie": [
           {
            "automargin": true,
            "type": "pie"
           }
          ],
          "scatter": [
           {
            "fillpattern": {
             "fillmode": "overlay",
             "size": 10,
             "solidity": 0.2
            },
            "type": "scatter"
           }
          ],
          "scatter3d": [
           {
            "line": {
             "colorbar": {
              "outlinewidth": 0,
              "ticks": ""
             }
            },
            "marker": {
             "colorbar": {
              "outlinewidth": 0,
              "ticks": ""
             }
            },
            "type": "scatter3d"
           }
          ],
          "scattercarpet": [
           {
            "marker": {
             "colorbar": {
              "outlinewidth": 0,
              "ticks": ""
             }
            },
            "type": "scattercarpet"
           }
          ],
          "scattergeo": [
           {
            "marker": {
             "colorbar": {
              "outlinewidth": 0,
              "ticks": ""
             }
            },
            "type": "scattergeo"
           }
          ],
          "scattergl": [
           {
            "marker": {
             "colorbar": {
              "outlinewidth": 0,
              "ticks": ""
             }
            },
            "type": "scattergl"
           }
          ],
          "scattermap": [
           {
            "marker": {
             "colorbar": {
              "outlinewidth": 0,
              "ticks": ""
             }
            },
            "type": "scattermap"
           }
          ],
          "scattermapbox": [
           {
            "marker": {
             "colorbar": {
              "outlinewidth": 0,
              "ticks": ""
             }
            },
            "type": "scattermapbox"
           }
          ],
          "scatterpolar": [
           {
            "marker": {
             "colorbar": {
              "outlinewidth": 0,
              "ticks": ""
             }
            },
            "type": "scatterpolar"
           }
          ],
          "scatterpolargl": [
           {
            "marker": {
             "colorbar": {
              "outlinewidth": 0,
              "ticks": ""
             }
            },
            "type": "scatterpolargl"
           }
          ],
          "scatterternary": [
           {
            "marker": {
             "colorbar": {
              "outlinewidth": 0,
              "ticks": ""
             }
            },
            "type": "scatterternary"
           }
          ],
          "surface": [
           {
            "colorbar": {
             "outlinewidth": 0,
             "ticks": ""
            },
            "colorscale": [
             [
              0,
              "#0d0887"
             ],
             [
              0.1111111111111111,
              "#46039f"
             ],
             [
              0.2222222222222222,
              "#7201a8"
             ],
             [
              0.3333333333333333,
              "#9c179e"
             ],
             [
              0.4444444444444444,
              "#bd3786"
             ],
             [
              0.5555555555555556,
              "#d8576b"
             ],
             [
              0.6666666666666666,
              "#ed7953"
             ],
             [
              0.7777777777777778,
              "#fb9f3a"
             ],
             [
              0.8888888888888888,
              "#fdca26"
             ],
             [
              1,
              "#f0f921"
             ]
            ],
            "type": "surface"
           }
          ],
          "table": [
           {
            "cells": {
             "fill": {
              "color": "#EBF0F8"
             },
             "line": {
              "color": "white"
             }
            },
            "header": {
             "fill": {
              "color": "#C8D4E3"
             },
             "line": {
              "color": "white"
             }
            },
            "type": "table"
           }
          ]
         },
         "layout": {
          "annotationdefaults": {
           "arrowcolor": "#2a3f5f",
           "arrowhead": 0,
           "arrowwidth": 1
          },
          "autotypenumbers": "strict",
          "coloraxis": {
           "colorbar": {
            "outlinewidth": 0,
            "ticks": ""
           }
          },
          "colorscale": {
           "diverging": [
            [
             0,
             "#8e0152"
            ],
            [
             0.1,
             "#c51b7d"
            ],
            [
             0.2,
             "#de77ae"
            ],
            [
             0.3,
             "#f1b6da"
            ],
            [
             0.4,
             "#fde0ef"
            ],
            [
             0.5,
             "#f7f7f7"
            ],
            [
             0.6,
             "#e6f5d0"
            ],
            [
             0.7,
             "#b8e186"
            ],
            [
             0.8,
             "#7fbc41"
            ],
            [
             0.9,
             "#4d9221"
            ],
            [
             1,
             "#276419"
            ]
           ],
           "sequential": [
            [
             0,
             "#0d0887"
            ],
            [
             0.1111111111111111,
             "#46039f"
            ],
            [
             0.2222222222222222,
             "#7201a8"
            ],
            [
             0.3333333333333333,
             "#9c179e"
            ],
            [
             0.4444444444444444,
             "#bd3786"
            ],
            [
             0.5555555555555556,
             "#d8576b"
            ],
            [
             0.6666666666666666,
             "#ed7953"
            ],
            [
             0.7777777777777778,
             "#fb9f3a"
            ],
            [
             0.8888888888888888,
             "#fdca26"
            ],
            [
             1,
             "#f0f921"
            ]
           ],
           "sequentialminus": [
            [
             0,
             "#0d0887"
            ],
            [
             0.1111111111111111,
             "#46039f"
            ],
            [
             0.2222222222222222,
             "#7201a8"
            ],
            [
             0.3333333333333333,
             "#9c179e"
            ],
            [
             0.4444444444444444,
             "#bd3786"
            ],
            [
             0.5555555555555556,
             "#d8576b"
            ],
            [
             0.6666666666666666,
             "#ed7953"
            ],
            [
             0.7777777777777778,
             "#fb9f3a"
            ],
            [
             0.8888888888888888,
             "#fdca26"
            ],
            [
             1,
             "#f0f921"
            ]
           ]
          },
          "colorway": [
           "#636efa",
           "#EF553B",
           "#00cc96",
           "#ab63fa",
           "#FFA15A",
           "#19d3f3",
           "#FF6692",
           "#B6E880",
           "#FF97FF",
           "#FECB52"
          ],
          "font": {
           "color": "#2a3f5f"
          },
          "geo": {
           "bgcolor": "white",
           "lakecolor": "white",
           "landcolor": "#E5ECF6",
           "showlakes": true,
           "showland": true,
           "subunitcolor": "white"
          },
          "hoverlabel": {
           "align": "left"
          },
          "hovermode": "closest",
          "mapbox": {
           "style": "light"
          },
          "paper_bgcolor": "white",
          "plot_bgcolor": "#E5ECF6",
          "polar": {
           "angularaxis": {
            "gridcolor": "white",
            "linecolor": "white",
            "ticks": ""
           },
           "bgcolor": "#E5ECF6",
           "radialaxis": {
            "gridcolor": "white",
            "linecolor": "white",
            "ticks": ""
           }
          },
          "scene": {
           "xaxis": {
            "backgroundcolor": "#E5ECF6",
            "gridcolor": "white",
            "gridwidth": 2,
            "linecolor": "white",
            "showbackground": true,
            "ticks": "",
            "zerolinecolor": "white"
           },
           "yaxis": {
            "backgroundcolor": "#E5ECF6",
            "gridcolor": "white",
            "gridwidth": 2,
            "linecolor": "white",
            "showbackground": true,
            "ticks": "",
            "zerolinecolor": "white"
           },
           "zaxis": {
            "backgroundcolor": "#E5ECF6",
            "gridcolor": "white",
            "gridwidth": 2,
            "linecolor": "white",
            "showbackground": true,
            "ticks": "",
            "zerolinecolor": "white"
           }
          },
          "shapedefaults": {
           "line": {
            "color": "#2a3f5f"
           }
          },
          "ternary": {
           "aaxis": {
            "gridcolor": "white",
            "linecolor": "white",
            "ticks": ""
           },
           "baxis": {
            "gridcolor": "white",
            "linecolor": "white",
            "ticks": ""
           },
           "bgcolor": "#E5ECF6",
           "caxis": {
            "gridcolor": "white",
            "linecolor": "white",
            "ticks": ""
           }
          },
          "title": {
           "x": 0.05
          },
          "xaxis": {
           "automargin": true,
           "gridcolor": "white",
           "linecolor": "white",
           "ticks": "",
           "title": {
            "standoff": 15
           },
           "zerolinecolor": "white",
           "zerolinewidth": 2
          },
          "yaxis": {
           "automargin": true,
           "gridcolor": "white",
           "linecolor": "white",
           "ticks": "",
           "title": {
            "standoff": 15
           },
           "zerolinecolor": "white",
           "zerolinewidth": 2
          }
         }
        },
        "title": {
         "text": "Parameters distribution"
        },
        "width": 900,
        "xaxis": {
         "anchor": "y",
         "domain": [
          0,
          0.26666666666666666
         ]
        },
        "xaxis2": {
         "anchor": "y2",
         "domain": [
          0.3666666666666667,
          0.6333333333333333
         ]
        },
        "xaxis3": {
         "anchor": "y3",
         "domain": [
          0.7333333333333334,
          1
         ]
        },
        "xaxis4": {
         "anchor": "y4",
         "domain": [
          0,
          0.26666666666666666
         ]
        },
        "xaxis5": {
         "anchor": "y5",
         "domain": [
          0.3666666666666667,
          0.6333333333333333
         ]
        },
        "xaxis6": {
         "anchor": "y6",
         "domain": [
          0.7333333333333334,
          1
         ]
        },
        "yaxis": {
         "anchor": "x",
         "domain": [
          0.55,
          1
         ]
        },
        "yaxis2": {
         "anchor": "x2",
         "domain": [
          0.55,
          1
         ]
        },
        "yaxis3": {
         "anchor": "x3",
         "domain": [
          0.55,
          1
         ]
        },
        "yaxis4": {
         "anchor": "x4",
         "domain": [
          0,
          0.45
         ]
        },
        "yaxis5": {
         "anchor": "x5",
         "domain": [
          0,
          0.45
         ]
        },
        "yaxis6": {
         "anchor": "x6",
         "domain": [
          0,
          0.45
         ]
        }
       }
      }
     },
     "metadata": {},
     "output_type": "display_data"
    }
   ],
   "source": [
    "viewer.box_plot(3)"
   ]
  },
  {
   "cell_type": "code",
   "execution_count": 26,
   "id": "c87e9849",
   "metadata": {},
   "outputs": [
    {
     "data": {
      "application/vnd.plotly.v1+json": {
       "config": {
        "plotlyServerURL": "https://plot.ly"
       },
       "data": [
        {
         "dimensions": [
          {
           "label": "FG1_energy_transfert",
           "range": [
            0,
            1
           ],
           "values": {
            "bdata": "AkLGvXUq1j8CQsa9dSrWP8zToZ6IxcU/zNOhnojFxT+ALkO6fIaSPxw7LfMclM8/HDst8xyUzz8cXuV7cAzEPxw7LfMclM8/HF7le3AMxD8CQsa9dSrWPw==",
            "dtype": "f8"
           }
          },
          {
           "label": "lambda_temperature_0",
           "range": [
            0,
            100
           ],
           "values": {
            "bdata": "1DIDvWS0I0DUMgO9ZLQjQNQyA71ktCNAMPIyMp1DVUDUaFUIFLFXQKxqI0hZIUlArGojSFkhSUCZo5PAy0NIQKxqI0hZIUlAmaOTwMtDSEAw8jIynUNVQA==",
            "dtype": "f8"
           }
          },
          {
           "label": "gamma_lambda_temperature",
           "range": [
            0,
            1
           ],
           "values": {
            "bdata": "sb+p9SeN6D+xv6n1J43oP7G/qfUnjeg/YO9ODR7voT8glkHWVCzUP9RDKArUHOc/1EMoCtQc5z/UQygK1BznPwgApCpDYcI/CACkKkNhwj9g704NHu+hPw==",
            "dtype": "f8"
           }
          },
          {
           "label": "tr_0",
           "range": [
            0,
            10
           ],
           "values": {
            "bdata": "pZx3yO98AUDW1Gre6DcaQKWcd8jvfAFAC2NJd/fNEUDkfJt7JyLxP6Wcd8jvfAFA1tRq3ug3GkDW1Gre6DcaQKwboj6vHSFArBuiPq8dIUALY0l3980RQA==",
            "dtype": "f8"
           }
          },
          {
           "label": "gamma_tr",
           "range": [
            -1,
            0
           ],
           "values": {
            "bdata": "pTcCo7+z6r9fdIDc/pfqv05HvliZDOm/Tke+WJkM6b8AO+Heilajv6U3AqO/s+q/X3SA3P6X6r9mC7s9WELav190gNz+l+q/Zgu7PVhC2r8xFUq81drsvw==",
            "dtype": "f8"
           }
          },
          {
           "label": "FG2_energy_transfert",
           "range": [
            0,
            1
           ],
           "values": {
            "bdata": "zs1BJKjo1z/gnH438kLYP9pXITPSR9s/2lchM9JH2z+Ah2C3YdHeP87NQSSo6Nc/4Jx+N/JC2D95WqmqJNDlP+CcfjfyQtg/eVqpqiTQ5T+AaIpFX1PNPw==",
            "dtype": "f8"
           }
          }
         ],
         "line": {
          "color": {
           "bdata": "W/30eAHG2D9cdUP/ygDZP2nXyTsIh9k/2W1OcVfX2T/4UWCqGS3aPxTl74swcdo/vqppJuCl2j8QETDZicTaP/l3nJOd3do/hM8U1gjz2j+oC57rZMbfPw==",
           "dtype": "f8",
           "shape": "11, 1"
          },
          "colorbar": {
           "tickmode": "array",
           "ticktext": [
            [
             -0.4964840222311815
            ],
            [
             -0.3870853120060553
            ]
           ],
           "tickvals": [
            [
             0.4964840222311815
            ],
            [
             0.3870853120060553
            ]
           ],
           "title": {
            "text": "Cost function score"
           }
          },
          "colorscale": [
           [
            0,
            "rgb(12,51,131)"
           ],
           [
            0.25,
            "rgb(10,136,186)"
           ],
           [
            0.5,
            "rgb(242,211,56)"
           ],
           [
            0.75,
            "rgb(242,143,56)"
           ],
           [
            1,
            "rgb(217,30,30)"
           ]
          ],
          "reversescale": true,
          "showscale": true
         },
         "type": "parcoords",
         "unselected": {
          "line": {
           "opacity": 0.2
          }
         }
        }
       ],
       "layout": {
        "coloraxis": {
         "colorbar": {
          "title": {
           "text": "Cost function score"
          }
         }
        },
        "template": {
         "data": {
          "bar": [
           {
            "error_x": {
             "color": "#2a3f5f"
            },
            "error_y": {
             "color": "#2a3f5f"
            },
            "marker": {
             "line": {
              "color": "#E5ECF6",
              "width": 0.5
             },
             "pattern": {
              "fillmode": "overlay",
              "size": 10,
              "solidity": 0.2
             }
            },
            "type": "bar"
           }
          ],
          "barpolar": [
           {
            "marker": {
             "line": {
              "color": "#E5ECF6",
              "width": 0.5
             },
             "pattern": {
              "fillmode": "overlay",
              "size": 10,
              "solidity": 0.2
             }
            },
            "type": "barpolar"
           }
          ],
          "carpet": [
           {
            "aaxis": {
             "endlinecolor": "#2a3f5f",
             "gridcolor": "white",
             "linecolor": "white",
             "minorgridcolor": "white",
             "startlinecolor": "#2a3f5f"
            },
            "baxis": {
             "endlinecolor": "#2a3f5f",
             "gridcolor": "white",
             "linecolor": "white",
             "minorgridcolor": "white",
             "startlinecolor": "#2a3f5f"
            },
            "type": "carpet"
           }
          ],
          "choropleth": [
           {
            "colorbar": {
             "outlinewidth": 0,
             "ticks": ""
            },
            "type": "choropleth"
           }
          ],
          "contour": [
           {
            "colorbar": {
             "outlinewidth": 0,
             "ticks": ""
            },
            "colorscale": [
             [
              0,
              "#0d0887"
             ],
             [
              0.1111111111111111,
              "#46039f"
             ],
             [
              0.2222222222222222,
              "#7201a8"
             ],
             [
              0.3333333333333333,
              "#9c179e"
             ],
             [
              0.4444444444444444,
              "#bd3786"
             ],
             [
              0.5555555555555556,
              "#d8576b"
             ],
             [
              0.6666666666666666,
              "#ed7953"
             ],
             [
              0.7777777777777778,
              "#fb9f3a"
             ],
             [
              0.8888888888888888,
              "#fdca26"
             ],
             [
              1,
              "#f0f921"
             ]
            ],
            "type": "contour"
           }
          ],
          "contourcarpet": [
           {
            "colorbar": {
             "outlinewidth": 0,
             "ticks": ""
            },
            "type": "contourcarpet"
           }
          ],
          "heatmap": [
           {
            "colorbar": {
             "outlinewidth": 0,
             "ticks": ""
            },
            "colorscale": [
             [
              0,
              "#0d0887"
             ],
             [
              0.1111111111111111,
              "#46039f"
             ],
             [
              0.2222222222222222,
              "#7201a8"
             ],
             [
              0.3333333333333333,
              "#9c179e"
             ],
             [
              0.4444444444444444,
              "#bd3786"
             ],
             [
              0.5555555555555556,
              "#d8576b"
             ],
             [
              0.6666666666666666,
              "#ed7953"
             ],
             [
              0.7777777777777778,
              "#fb9f3a"
             ],
             [
              0.8888888888888888,
              "#fdca26"
             ],
             [
              1,
              "#f0f921"
             ]
            ],
            "type": "heatmap"
           }
          ],
          "histogram": [
           {
            "marker": {
             "pattern": {
              "fillmode": "overlay",
              "size": 10,
              "solidity": 0.2
             }
            },
            "type": "histogram"
           }
          ],
          "histogram2d": [
           {
            "colorbar": {
             "outlinewidth": 0,
             "ticks": ""
            },
            "colorscale": [
             [
              0,
              "#0d0887"
             ],
             [
              0.1111111111111111,
              "#46039f"
             ],
             [
              0.2222222222222222,
              "#7201a8"
             ],
             [
              0.3333333333333333,
              "#9c179e"
             ],
             [
              0.4444444444444444,
              "#bd3786"
             ],
             [
              0.5555555555555556,
              "#d8576b"
             ],
             [
              0.6666666666666666,
              "#ed7953"
             ],
             [
              0.7777777777777778,
              "#fb9f3a"
             ],
             [
              0.8888888888888888,
              "#fdca26"
             ],
             [
              1,
              "#f0f921"
             ]
            ],
            "type": "histogram2d"
           }
          ],
          "histogram2dcontour": [
           {
            "colorbar": {
             "outlinewidth": 0,
             "ticks": ""
            },
            "colorscale": [
             [
              0,
              "#0d0887"
             ],
             [
              0.1111111111111111,
              "#46039f"
             ],
             [
              0.2222222222222222,
              "#7201a8"
             ],
             [
              0.3333333333333333,
              "#9c179e"
             ],
             [
              0.4444444444444444,
              "#bd3786"
             ],
             [
              0.5555555555555556,
              "#d8576b"
             ],
             [
              0.6666666666666666,
              "#ed7953"
             ],
             [
              0.7777777777777778,
              "#fb9f3a"
             ],
             [
              0.8888888888888888,
              "#fdca26"
             ],
             [
              1,
              "#f0f921"
             ]
            ],
            "type": "histogram2dcontour"
           }
          ],
          "mesh3d": [
           {
            "colorbar": {
             "outlinewidth": 0,
             "ticks": ""
            },
            "type": "mesh3d"
           }
          ],
          "parcoords": [
           {
            "line": {
             "colorbar": {
              "outlinewidth": 0,
              "ticks": ""
             }
            },
            "type": "parcoords"
           }
          ],
          "pie": [
           {
            "automargin": true,
            "type": "pie"
           }
          ],
          "scatter": [
           {
            "fillpattern": {
             "fillmode": "overlay",
             "size": 10,
             "solidity": 0.2
            },
            "type": "scatter"
           }
          ],
          "scatter3d": [
           {
            "line": {
             "colorbar": {
              "outlinewidth": 0,
              "ticks": ""
             }
            },
            "marker": {
             "colorbar": {
              "outlinewidth": 0,
              "ticks": ""
             }
            },
            "type": "scatter3d"
           }
          ],
          "scattercarpet": [
           {
            "marker": {
             "colorbar": {
              "outlinewidth": 0,
              "ticks": ""
             }
            },
            "type": "scattercarpet"
           }
          ],
          "scattergeo": [
           {
            "marker": {
             "colorbar": {
              "outlinewidth": 0,
              "ticks": ""
             }
            },
            "type": "scattergeo"
           }
          ],
          "scattergl": [
           {
            "marker": {
             "colorbar": {
              "outlinewidth": 0,
              "ticks": ""
             }
            },
            "type": "scattergl"
           }
          ],
          "scattermap": [
           {
            "marker": {
             "colorbar": {
              "outlinewidth": 0,
              "ticks": ""
             }
            },
            "type": "scattermap"
           }
          ],
          "scattermapbox": [
           {
            "marker": {
             "colorbar": {
              "outlinewidth": 0,
              "ticks": ""
             }
            },
            "type": "scattermapbox"
           }
          ],
          "scatterpolar": [
           {
            "marker": {
             "colorbar": {
              "outlinewidth": 0,
              "ticks": ""
             }
            },
            "type": "scatterpolar"
           }
          ],
          "scatterpolargl": [
           {
            "marker": {
             "colorbar": {
              "outlinewidth": 0,
              "ticks": ""
             }
            },
            "type": "scatterpolargl"
           }
          ],
          "scatterternary": [
           {
            "marker": {
             "colorbar": {
              "outlinewidth": 0,
              "ticks": ""
             }
            },
            "type": "scatterternary"
           }
          ],
          "surface": [
           {
            "colorbar": {
             "outlinewidth": 0,
             "ticks": ""
            },
            "colorscale": [
             [
              0,
              "#0d0887"
             ],
             [
              0.1111111111111111,
              "#46039f"
             ],
             [
              0.2222222222222222,
              "#7201a8"
             ],
             [
              0.3333333333333333,
              "#9c179e"
             ],
             [
              0.4444444444444444,
              "#bd3786"
             ],
             [
              0.5555555555555556,
              "#d8576b"
             ],
             [
              0.6666666666666666,
              "#ed7953"
             ],
             [
              0.7777777777777778,
              "#fb9f3a"
             ],
             [
              0.8888888888888888,
              "#fdca26"
             ],
             [
              1,
              "#f0f921"
             ]
            ],
            "type": "surface"
           }
          ],
          "table": [
           {
            "cells": {
             "fill": {
              "color": "#EBF0F8"
             },
             "line": {
              "color": "white"
             }
            },
            "header": {
             "fill": {
              "color": "#C8D4E3"
             },
             "line": {
              "color": "white"
             }
            },
            "type": "table"
           }
          ]
         },
         "layout": {
          "annotationdefaults": {
           "arrowcolor": "#2a3f5f",
           "arrowhead": 0,
           "arrowwidth": 1
          },
          "autotypenumbers": "strict",
          "coloraxis": {
           "colorbar": {
            "outlinewidth": 0,
            "ticks": ""
           }
          },
          "colorscale": {
           "diverging": [
            [
             0,
             "#8e0152"
            ],
            [
             0.1,
             "#c51b7d"
            ],
            [
             0.2,
             "#de77ae"
            ],
            [
             0.3,
             "#f1b6da"
            ],
            [
             0.4,
             "#fde0ef"
            ],
            [
             0.5,
             "#f7f7f7"
            ],
            [
             0.6,
             "#e6f5d0"
            ],
            [
             0.7,
             "#b8e186"
            ],
            [
             0.8,
             "#7fbc41"
            ],
            [
             0.9,
             "#4d9221"
            ],
            [
             1,
             "#276419"
            ]
           ],
           "sequential": [
            [
             0,
             "#0d0887"
            ],
            [
             0.1111111111111111,
             "#46039f"
            ],
            [
             0.2222222222222222,
             "#7201a8"
            ],
            [
             0.3333333333333333,
             "#9c179e"
            ],
            [
             0.4444444444444444,
             "#bd3786"
            ],
            [
             0.5555555555555556,
             "#d8576b"
            ],
            [
             0.6666666666666666,
             "#ed7953"
            ],
            [
             0.7777777777777778,
             "#fb9f3a"
            ],
            [
             0.8888888888888888,
             "#fdca26"
            ],
            [
             1,
             "#f0f921"
            ]
           ],
           "sequentialminus": [
            [
             0,
             "#0d0887"
            ],
            [
             0.1111111111111111,
             "#46039f"
            ],
            [
             0.2222222222222222,
             "#7201a8"
            ],
            [
             0.3333333333333333,
             "#9c179e"
            ],
            [
             0.4444444444444444,
             "#bd3786"
            ],
            [
             0.5555555555555556,
             "#d8576b"
            ],
            [
             0.6666666666666666,
             "#ed7953"
            ],
            [
             0.7777777777777778,
             "#fb9f3a"
            ],
            [
             0.8888888888888888,
             "#fdca26"
            ],
            [
             1,
             "#f0f921"
            ]
           ]
          },
          "colorway": [
           "#636efa",
           "#EF553B",
           "#00cc96",
           "#ab63fa",
           "#FFA15A",
           "#19d3f3",
           "#FF6692",
           "#B6E880",
           "#FF97FF",
           "#FECB52"
          ],
          "font": {
           "color": "#2a3f5f"
          },
          "geo": {
           "bgcolor": "white",
           "lakecolor": "white",
           "landcolor": "#E5ECF6",
           "showlakes": true,
           "showland": true,
           "subunitcolor": "white"
          },
          "hoverlabel": {
           "align": "left"
          },
          "hovermode": "closest",
          "mapbox": {
           "style": "light"
          },
          "paper_bgcolor": "white",
          "plot_bgcolor": "#E5ECF6",
          "polar": {
           "angularaxis": {
            "gridcolor": "white",
            "linecolor": "white",
            "ticks": ""
           },
           "bgcolor": "#E5ECF6",
           "radialaxis": {
            "gridcolor": "white",
            "linecolor": "white",
            "ticks": ""
           }
          },
          "scene": {
           "xaxis": {
            "backgroundcolor": "#E5ECF6",
            "gridcolor": "white",
            "gridwidth": 2,
            "linecolor": "white",
            "showbackground": true,
            "ticks": "",
            "zerolinecolor": "white"
           },
           "yaxis": {
            "backgroundcolor": "#E5ECF6",
            "gridcolor": "white",
            "gridwidth": 2,
            "linecolor": "white",
            "showbackground": true,
            "ticks": "",
            "zerolinecolor": "white"
           },
           "zaxis": {
            "backgroundcolor": "#E5ECF6",
            "gridcolor": "white",
            "gridwidth": 2,
            "linecolor": "white",
            "showbackground": true,
            "ticks": "",
            "zerolinecolor": "white"
           }
          },
          "shapedefaults": {
           "line": {
            "color": "#2a3f5f"
           }
          },
          "ternary": {
           "aaxis": {
            "gridcolor": "white",
            "linecolor": "white",
            "ticks": ""
           },
           "baxis": {
            "gridcolor": "white",
            "linecolor": "white",
            "ticks": ""
           },
           "bgcolor": "#E5ECF6",
           "caxis": {
            "gridcolor": "white",
            "linecolor": "white",
            "ticks": ""
           }
          },
          "title": {
           "x": 0.05
          },
          "xaxis": {
           "automargin": true,
           "gridcolor": "white",
           "linecolor": "white",
           "ticks": "",
           "title": {
            "standoff": 15
           },
           "zerolinecolor": "white",
           "zerolinewidth": 2
          },
          "yaxis": {
           "automargin": true,
           "gridcolor": "white",
           "linecolor": "white",
           "ticks": "",
           "title": {
            "standoff": 15
           },
           "zerolinecolor": "white",
           "zerolinewidth": 2
          }
         }
        },
        "title": {
         "text": "Parameters optimization : minimization of the cost function for group 1"
        }
       }
      }
     },
     "metadata": {},
     "output_type": "display_data"
    }
   ],
   "source": [
    "viewer.parallel_coordinates()[0]"
   ]
  },
  {
   "cell_type": "code",
   "execution_count": 27,
   "id": "99ff5081",
   "metadata": {},
   "outputs": [
    {
     "data": {
      "application/vnd.plotly.v1+json": {
       "config": {
        "plotlyServerURL": "https://plot.ly"
       },
       "data": [
        {
         "orientation": "h",
         "type": "bar",
         "x": {
          "bdata": "rzIEzh+w1T+06rYGL//UP5dKV9IglNg/MU3GiV2Y0z/p6R7W1JLTP33GyBde4Mg/",
          "dtype": "f8"
         },
         "xaxis": "x",
         "y": [
          "FG1_energy_transfert",
          "lambda_temperature_0",
          "gamma_lambda_temperature",
          "tr_0",
          "gamma_tr",
          "FG2_energy_transfert"
         ],
         "yaxis": "y"
        },
        {
         "orientation": "h",
         "type": "bar",
         "x": {
          "bdata": "ngcLaFxDyz9RYT8K2ePTPwgXtrLi59M/rrIFS0Vz0D+wo/RpiajRP5BDyr6fI8Q/",
          "dtype": "f8"
         },
         "xaxis": "x2",
         "y": [
          "FG1_energy_transfert",
          "lambda_temperature_0",
          "gamma_lambda_temperature",
          "tr_0",
          "gamma_tr",
          "FG2_energy_transfert"
         ],
         "yaxis": "y2"
        },
        {
         "orientation": "h",
         "type": "bar",
         "x": {
          "bdata": "MjuV1wmpsj+y1H/C9pXKP1BvbgiTeM8/FcGGxCcByj+JMCHil4jJPzlw2Vv8U8U/",
          "dtype": "f8"
         },
         "xaxis": "x3",
         "y": [
          "FG1_energy_transfert",
          "lambda_temperature_0",
          "gamma_lambda_temperature",
          "tr_0",
          "gamma_tr",
          "FG2_energy_transfert"
         ],
         "yaxis": "y3"
        }
       ],
       "layout": {
        "annotations": [
         {
          "font": {
           "size": 16
          },
          "showarrow": false,
          "text": "Gen=0",
          "x": 0.14444444444444446,
          "xanchor": "center",
          "xref": "paper",
          "y": 1,
          "yanchor": "bottom",
          "yref": "paper"
         },
         {
          "font": {
           "size": 16
          },
          "showarrow": false,
          "text": "Gen=1",
          "x": 0.5,
          "xanchor": "center",
          "xref": "paper",
          "y": 1,
          "yanchor": "bottom",
          "yref": "paper"
         },
         {
          "font": {
           "size": 16
          },
          "showarrow": false,
          "text": "Gen=2",
          "x": 0.8555555555555556,
          "xanchor": "center",
          "xref": "paper",
          "y": 1,
          "yanchor": "bottom",
          "yref": "paper"
         }
        ],
        "showlegend": false,
        "template": {
         "data": {
          "bar": [
           {
            "error_x": {
             "color": "#2a3f5f"
            },
            "error_y": {
             "color": "#2a3f5f"
            },
            "marker": {
             "line": {
              "color": "#E5ECF6",
              "width": 0.5
             },
             "pattern": {
              "fillmode": "overlay",
              "size": 10,
              "solidity": 0.2
             }
            },
            "type": "bar"
           }
          ],
          "barpolar": [
           {
            "marker": {
             "line": {
              "color": "#E5ECF6",
              "width": 0.5
             },
             "pattern": {
              "fillmode": "overlay",
              "size": 10,
              "solidity": 0.2
             }
            },
            "type": "barpolar"
           }
          ],
          "carpet": [
           {
            "aaxis": {
             "endlinecolor": "#2a3f5f",
             "gridcolor": "white",
             "linecolor": "white",
             "minorgridcolor": "white",
             "startlinecolor": "#2a3f5f"
            },
            "baxis": {
             "endlinecolor": "#2a3f5f",
             "gridcolor": "white",
             "linecolor": "white",
             "minorgridcolor": "white",
             "startlinecolor": "#2a3f5f"
            },
            "type": "carpet"
           }
          ],
          "choropleth": [
           {
            "colorbar": {
             "outlinewidth": 0,
             "ticks": ""
            },
            "type": "choropleth"
           }
          ],
          "contour": [
           {
            "colorbar": {
             "outlinewidth": 0,
             "ticks": ""
            },
            "colorscale": [
             [
              0,
              "#0d0887"
             ],
             [
              0.1111111111111111,
              "#46039f"
             ],
             [
              0.2222222222222222,
              "#7201a8"
             ],
             [
              0.3333333333333333,
              "#9c179e"
             ],
             [
              0.4444444444444444,
              "#bd3786"
             ],
             [
              0.5555555555555556,
              "#d8576b"
             ],
             [
              0.6666666666666666,
              "#ed7953"
             ],
             [
              0.7777777777777778,
              "#fb9f3a"
             ],
             [
              0.8888888888888888,
              "#fdca26"
             ],
             [
              1,
              "#f0f921"
             ]
            ],
            "type": "contour"
           }
          ],
          "contourcarpet": [
           {
            "colorbar": {
             "outlinewidth": 0,
             "ticks": ""
            },
            "type": "contourcarpet"
           }
          ],
          "heatmap": [
           {
            "colorbar": {
             "outlinewidth": 0,
             "ticks": ""
            },
            "colorscale": [
             [
              0,
              "#0d0887"
             ],
             [
              0.1111111111111111,
              "#46039f"
             ],
             [
              0.2222222222222222,
              "#7201a8"
             ],
             [
              0.3333333333333333,
              "#9c179e"
             ],
             [
              0.4444444444444444,
              "#bd3786"
             ],
             [
              0.5555555555555556,
              "#d8576b"
             ],
             [
              0.6666666666666666,
              "#ed7953"
             ],
             [
              0.7777777777777778,
              "#fb9f3a"
             ],
             [
              0.8888888888888888,
              "#fdca26"
             ],
             [
              1,
              "#f0f921"
             ]
            ],
            "type": "heatmap"
           }
          ],
          "histogram": [
           {
            "marker": {
             "pattern": {
              "fillmode": "overlay",
              "size": 10,
              "solidity": 0.2
             }
            },
            "type": "histogram"
           }
          ],
          "histogram2d": [
           {
            "colorbar": {
             "outlinewidth": 0,
             "ticks": ""
            },
            "colorscale": [
             [
              0,
              "#0d0887"
             ],
             [
              0.1111111111111111,
              "#46039f"
             ],
             [
              0.2222222222222222,
              "#7201a8"
             ],
             [
              0.3333333333333333,
              "#9c179e"
             ],
             [
              0.4444444444444444,
              "#bd3786"
             ],
             [
              0.5555555555555556,
              "#d8576b"
             ],
             [
              0.6666666666666666,
              "#ed7953"
             ],
             [
              0.7777777777777778,
              "#fb9f3a"
             ],
             [
              0.8888888888888888,
              "#fdca26"
             ],
             [
              1,
              "#f0f921"
             ]
            ],
            "type": "histogram2d"
           }
          ],
          "histogram2dcontour": [
           {
            "colorbar": {
             "outlinewidth": 0,
             "ticks": ""
            },
            "colorscale": [
             [
              0,
              "#0d0887"
             ],
             [
              0.1111111111111111,
              "#46039f"
             ],
             [
              0.2222222222222222,
              "#7201a8"
             ],
             [
              0.3333333333333333,
              "#9c179e"
             ],
             [
              0.4444444444444444,
              "#bd3786"
             ],
             [
              0.5555555555555556,
              "#d8576b"
             ],
             [
              0.6666666666666666,
              "#ed7953"
             ],
             [
              0.7777777777777778,
              "#fb9f3a"
             ],
             [
              0.8888888888888888,
              "#fdca26"
             ],
             [
              1,
              "#f0f921"
             ]
            ],
            "type": "histogram2dcontour"
           }
          ],
          "mesh3d": [
           {
            "colorbar": {
             "outlinewidth": 0,
             "ticks": ""
            },
            "type": "mesh3d"
           }
          ],
          "parcoords": [
           {
            "line": {
             "colorbar": {
              "outlinewidth": 0,
              "ticks": ""
             }
            },
            "type": "parcoords"
           }
          ],
          "pie": [
           {
            "automargin": true,
            "type": "pie"
           }
          ],
          "scatter": [
           {
            "fillpattern": {
             "fillmode": "overlay",
             "size": 10,
             "solidity": 0.2
            },
            "type": "scatter"
           }
          ],
          "scatter3d": [
           {
            "line": {
             "colorbar": {
              "outlinewidth": 0,
              "ticks": ""
             }
            },
            "marker": {
             "colorbar": {
              "outlinewidth": 0,
              "ticks": ""
             }
            },
            "type": "scatter3d"
           }
          ],
          "scattercarpet": [
           {
            "marker": {
             "colorbar": {
              "outlinewidth": 0,
              "ticks": ""
             }
            },
            "type": "scattercarpet"
           }
          ],
          "scattergeo": [
           {
            "marker": {
             "colorbar": {
              "outlinewidth": 0,
              "ticks": ""
             }
            },
            "type": "scattergeo"
           }
          ],
          "scattergl": [
           {
            "marker": {
             "colorbar": {
              "outlinewidth": 0,
              "ticks": ""
             }
            },
            "type": "scattergl"
           }
          ],
          "scattermap": [
           {
            "marker": {
             "colorbar": {
              "outlinewidth": 0,
              "ticks": ""
             }
            },
            "type": "scattermap"
           }
          ],
          "scattermapbox": [
           {
            "marker": {
             "colorbar": {
              "outlinewidth": 0,
              "ticks": ""
             }
            },
            "type": "scattermapbox"
           }
          ],
          "scatterpolar": [
           {
            "marker": {
             "colorbar": {
              "outlinewidth": 0,
              "ticks": ""
             }
            },
            "type": "scatterpolar"
           }
          ],
          "scatterpolargl": [
           {
            "marker": {
             "colorbar": {
              "outlinewidth": 0,
              "ticks": ""
             }
            },
            "type": "scatterpolargl"
           }
          ],
          "scatterternary": [
           {
            "marker": {
             "colorbar": {
              "outlinewidth": 0,
              "ticks": ""
             }
            },
            "type": "scatterternary"
           }
          ],
          "surface": [
           {
            "colorbar": {
             "outlinewidth": 0,
             "ticks": ""
            },
            "colorscale": [
             [
              0,
              "#0d0887"
             ],
             [
              0.1111111111111111,
              "#46039f"
             ],
             [
              0.2222222222222222,
              "#7201a8"
             ],
             [
              0.3333333333333333,
              "#9c179e"
             ],
             [
              0.4444444444444444,
              "#bd3786"
             ],
             [
              0.5555555555555556,
              "#d8576b"
             ],
             [
              0.6666666666666666,
              "#ed7953"
             ],
             [
              0.7777777777777778,
              "#fb9f3a"
             ],
             [
              0.8888888888888888,
              "#fdca26"
             ],
             [
              1,
              "#f0f921"
             ]
            ],
            "type": "surface"
           }
          ],
          "table": [
           {
            "cells": {
             "fill": {
              "color": "#EBF0F8"
             },
             "line": {
              "color": "white"
             }
            },
            "header": {
             "fill": {
              "color": "#C8D4E3"
             },
             "line": {
              "color": "white"
             }
            },
            "type": "table"
           }
          ]
         },
         "layout": {
          "annotationdefaults": {
           "arrowcolor": "#2a3f5f",
           "arrowhead": 0,
           "arrowwidth": 1
          },
          "autotypenumbers": "strict",
          "coloraxis": {
           "colorbar": {
            "outlinewidth": 0,
            "ticks": ""
           }
          },
          "colorscale": {
           "diverging": [
            [
             0,
             "#8e0152"
            ],
            [
             0.1,
             "#c51b7d"
            ],
            [
             0.2,
             "#de77ae"
            ],
            [
             0.3,
             "#f1b6da"
            ],
            [
             0.4,
             "#fde0ef"
            ],
            [
             0.5,
             "#f7f7f7"
            ],
            [
             0.6,
             "#e6f5d0"
            ],
            [
             0.7,
             "#b8e186"
            ],
            [
             0.8,
             "#7fbc41"
            ],
            [
             0.9,
             "#4d9221"
            ],
            [
             1,
             "#276419"
            ]
           ],
           "sequential": [
            [
             0,
             "#0d0887"
            ],
            [
             0.1111111111111111,
             "#46039f"
            ],
            [
             0.2222222222222222,
             "#7201a8"
            ],
            [
             0.3333333333333333,
             "#9c179e"
            ],
            [
             0.4444444444444444,
             "#bd3786"
            ],
            [
             0.5555555555555556,
             "#d8576b"
            ],
            [
             0.6666666666666666,
             "#ed7953"
            ],
            [
             0.7777777777777778,
             "#fb9f3a"
            ],
            [
             0.8888888888888888,
             "#fdca26"
            ],
            [
             1,
             "#f0f921"
            ]
           ],
           "sequentialminus": [
            [
             0,
             "#0d0887"
            ],
            [
             0.1111111111111111,
             "#46039f"
            ],
            [
             0.2222222222222222,
             "#7201a8"
            ],
            [
             0.3333333333333333,
             "#9c179e"
            ],
            [
             0.4444444444444444,
             "#bd3786"
            ],
            [
             0.5555555555555556,
             "#d8576b"
            ],
            [
             0.6666666666666666,
             "#ed7953"
            ],
            [
             0.7777777777777778,
             "#fb9f3a"
            ],
            [
             0.8888888888888888,
             "#fdca26"
            ],
            [
             1,
             "#f0f921"
            ]
           ]
          },
          "colorway": [
           "#636efa",
           "#EF553B",
           "#00cc96",
           "#ab63fa",
           "#FFA15A",
           "#19d3f3",
           "#FF6692",
           "#B6E880",
           "#FF97FF",
           "#FECB52"
          ],
          "font": {
           "color": "#2a3f5f"
          },
          "geo": {
           "bgcolor": "white",
           "lakecolor": "white",
           "landcolor": "#E5ECF6",
           "showlakes": true,
           "showland": true,
           "subunitcolor": "white"
          },
          "hoverlabel": {
           "align": "left"
          },
          "hovermode": "closest",
          "mapbox": {
           "style": "light"
          },
          "paper_bgcolor": "white",
          "plot_bgcolor": "#E5ECF6",
          "polar": {
           "angularaxis": {
            "gridcolor": "white",
            "linecolor": "white",
            "ticks": ""
           },
           "bgcolor": "#E5ECF6",
           "radialaxis": {
            "gridcolor": "white",
            "linecolor": "white",
            "ticks": ""
           }
          },
          "scene": {
           "xaxis": {
            "backgroundcolor": "#E5ECF6",
            "gridcolor": "white",
            "gridwidth": 2,
            "linecolor": "white",
            "showbackground": true,
            "ticks": "",
            "zerolinecolor": "white"
           },
           "yaxis": {
            "backgroundcolor": "#E5ECF6",
            "gridcolor": "white",
            "gridwidth": 2,
            "linecolor": "white",
            "showbackground": true,
            "ticks": "",
            "zerolinecolor": "white"
           },
           "zaxis": {
            "backgroundcolor": "#E5ECF6",
            "gridcolor": "white",
            "gridwidth": 2,
            "linecolor": "white",
            "showbackground": true,
            "ticks": "",
            "zerolinecolor": "white"
           }
          },
          "shapedefaults": {
           "line": {
            "color": "#2a3f5f"
           }
          },
          "ternary": {
           "aaxis": {
            "gridcolor": "white",
            "linecolor": "white",
            "ticks": ""
           },
           "baxis": {
            "gridcolor": "white",
            "linecolor": "white",
            "ticks": ""
           },
           "bgcolor": "#E5ECF6",
           "caxis": {
            "gridcolor": "white",
            "linecolor": "white",
            "ticks": ""
           }
          },
          "title": {
           "x": 0.05
          },
          "xaxis": {
           "automargin": true,
           "gridcolor": "white",
           "linecolor": "white",
           "ticks": "",
           "title": {
            "standoff": 15
           },
           "zerolinecolor": "white",
           "zerolinewidth": 2
          },
          "yaxis": {
           "automargin": true,
           "gridcolor": "white",
           "linecolor": "white",
           "ticks": "",
           "title": {
            "standoff": 15
           },
           "zerolinecolor": "white",
           "zerolinewidth": 2
          }
         }
        },
        "title": {
         "text": "Standardized std of parameters by generation"
        },
        "xaxis": {
         "anchor": "y",
         "domain": [
          0,
          0.2888888888888889
         ]
        },
        "xaxis2": {
         "anchor": "y2",
         "domain": [
          0.35555555555555557,
          0.6444444444444445
         ]
        },
        "xaxis3": {
         "anchor": "y3",
         "domain": [
          0.7111111111111111,
          1
         ]
        },
        "yaxis": {
         "anchor": "x",
         "domain": [
          0,
          1
         ]
        },
        "yaxis2": {
         "anchor": "x2",
         "domain": [
          0,
          1
         ],
         "matches": "y",
         "showticklabels": false
        },
        "yaxis3": {
         "anchor": "x3",
         "domain": [
          0,
          1
         ],
         "matches": "y",
         "showticklabels": false
        }
       }
      }
     },
     "metadata": {},
     "output_type": "display_data"
    }
   ],
   "source": [
    "viewer.parameters_standardized_deviation()"
   ]
  },
  {
   "cell_type": "code",
   "execution_count": 28,
   "id": "7ab48b5a",
   "metadata": {},
   "outputs": [
    {
     "data": {
      "application/vnd.plotly.v1+json": {
       "config": {
        "plotlyServerURL": "https://plot.ly"
       },
       "data": [
        {
         "fillpattern": {
          "shape": ""
         },
         "hovertemplate": "Variable=FG1_energy_transfert<br>Generation=%{x}<br>Entropy=%{y}<extra></extra>",
         "legendgroup": "FG1_energy_transfert",
         "line": {
          "color": "#636efa"
         },
         "marker": {
          "symbol": "circle"
         },
         "mode": "lines+markers",
         "name": "FG1_energy_transfert",
         "orientation": "v",
         "showlegend": true,
         "stackgroup": "1",
         "type": "scatter",
         "x": {
          "bdata": "AAEC",
          "dtype": "i1"
         },
         "xaxis": "x",
         "y": {
          "bdata": "68UavLFrAkCCxg1tlln9P5Cu6GxIevQ/",
          "dtype": "f8"
         },
         "yaxis": "y"
        },
        {
         "fillpattern": {
          "shape": ""
         },
         "hovertemplate": "Variable=lambda_temperature_0<br>Generation=%{x}<br>Entropy=%{y}<extra></extra>",
         "legendgroup": "lambda_temperature_0",
         "line": {
          "color": "#EF553B"
         },
         "marker": {
          "symbol": "circle"
         },
         "mode": "lines+markers",
         "name": "lambda_temperature_0",
         "orientation": "v",
         "showlegend": true,
         "stackgroup": "1",
         "type": "scatter",
         "x": {
          "bdata": "AAEC",
          "dtype": "i1"
         },
         "xaxis": "x",
         "y": {
          "bdata": "lU7g37FrAkDClNW1lln9PxCA/pRIevQ/",
          "dtype": "f8"
         },
         "yaxis": "y"
        },
        {
         "fillpattern": {
          "shape": ""
         },
         "hovertemplate": "Variable=gamma_lambda_temperature<br>Generation=%{x}<br>Entropy=%{y}<extra></extra>",
         "legendgroup": "gamma_lambda_temperature",
         "line": {
          "color": "#00cc96"
         },
         "marker": {
          "symbol": "circle"
         },
         "mode": "lines+markers",
         "name": "gamma_lambda_temperature",
         "orientation": "v",
         "showlegend": true,
         "stackgroup": "1",
         "type": "scatter",
         "x": {
          "bdata": "AAEC",
          "dtype": "i1"
         },
         "xaxis": "x",
         "y": {
          "bdata": "h3sivLFrAkA89vtslln9Py4mAWIibPE/",
          "dtype": "f8"
         },
         "yaxis": "y"
        },
        {
         "fillpattern": {
          "shape": ""
         },
         "hovertemplate": "Variable=tr_0<br>Generation=%{x}<br>Entropy=%{y}<extra></extra>",
         "legendgroup": "tr_0",
         "line": {
          "color": "#ab63fa"
         },
         "marker": {
          "symbol": "circle"
         },
         "mode": "lines+markers",
         "name": "tr_0",
         "orientation": "v",
         "showlegend": true,
         "stackgroup": "1",
         "type": "scatter",
         "x": {
          "bdata": "AAEC",
          "dtype": "i1"
         },
         "xaxis": "x",
         "y": {
          "bdata": "unNMv7FrAkB7Kz1zlln9PxtO/2YibPE/",
          "dtype": "f8"
         },
         "yaxis": "y"
        },
        {
         "fillpattern": {
          "shape": ""
         },
         "hovertemplate": "Variable=gamma_tr<br>Generation=%{x}<br>Entropy=%{y}<extra></extra>",
         "legendgroup": "gamma_tr",
         "line": {
          "color": "#FFA15A"
         },
         "marker": {
          "symbol": "circle"
         },
         "mode": "lines+markers",
         "name": "gamma_tr",
         "orientation": "v",
         "showlegend": true,
         "stackgroup": "1",
         "type": "scatter",
         "x": {
          "bdata": "AAEC",
          "dtype": "i1"
         },
         "xaxis": "x",
         "y": {
          "bdata": "+WoYvLFrAkDP4P7saZH/PzH6H21IevQ/",
          "dtype": "f8"
         },
         "yaxis": "y"
        },
        {
         "fillpattern": {
          "shape": ""
         },
         "hovertemplate": "Variable=FG2_energy_transfert<br>Generation=%{x}<br>Entropy=%{y}<extra></extra>",
         "legendgroup": "FG2_energy_transfert",
         "line": {
          "color": "#19d3f3"
         },
         "marker": {
          "symbol": "circle"
         },
         "mode": "lines+markers",
         "name": "FG2_energy_transfert",
         "orientation": "v",
         "showlegend": true,
         "stackgroup": "1",
         "type": "scatter",
         "x": {
          "bdata": "AAEC",
          "dtype": "i1"
         },
         "xaxis": "x",
         "y": {
          "bdata": "qb35u7FrAkCfVrDsaZH/Py/0E21IevQ/",
          "dtype": "f8"
         },
         "yaxis": "y"
        }
       ],
       "layout": {
        "legend": {
         "title": {
          "text": "Variable"
         },
         "tracegroupgap": 0
        },
        "plot_bgcolor": "rgba(0, 0, 0, 0)",
        "template": {
         "data": {
          "bar": [
           {
            "error_x": {
             "color": "#2a3f5f"
            },
            "error_y": {
             "color": "#2a3f5f"
            },
            "marker": {
             "line": {
              "color": "#E5ECF6",
              "width": 0.5
             },
             "pattern": {
              "fillmode": "overlay",
              "size": 10,
              "solidity": 0.2
             }
            },
            "type": "bar"
           }
          ],
          "barpolar": [
           {
            "marker": {
             "line": {
              "color": "#E5ECF6",
              "width": 0.5
             },
             "pattern": {
              "fillmode": "overlay",
              "size": 10,
              "solidity": 0.2
             }
            },
            "type": "barpolar"
           }
          ],
          "carpet": [
           {
            "aaxis": {
             "endlinecolor": "#2a3f5f",
             "gridcolor": "white",
             "linecolor": "white",
             "minorgridcolor": "white",
             "startlinecolor": "#2a3f5f"
            },
            "baxis": {
             "endlinecolor": "#2a3f5f",
             "gridcolor": "white",
             "linecolor": "white",
             "minorgridcolor": "white",
             "startlinecolor": "#2a3f5f"
            },
            "type": "carpet"
           }
          ],
          "choropleth": [
           {
            "colorbar": {
             "outlinewidth": 0,
             "ticks": ""
            },
            "type": "choropleth"
           }
          ],
          "contour": [
           {
            "colorbar": {
             "outlinewidth": 0,
             "ticks": ""
            },
            "colorscale": [
             [
              0,
              "#0d0887"
             ],
             [
              0.1111111111111111,
              "#46039f"
             ],
             [
              0.2222222222222222,
              "#7201a8"
             ],
             [
              0.3333333333333333,
              "#9c179e"
             ],
             [
              0.4444444444444444,
              "#bd3786"
             ],
             [
              0.5555555555555556,
              "#d8576b"
             ],
             [
              0.6666666666666666,
              "#ed7953"
             ],
             [
              0.7777777777777778,
              "#fb9f3a"
             ],
             [
              0.8888888888888888,
              "#fdca26"
             ],
             [
              1,
              "#f0f921"
             ]
            ],
            "type": "contour"
           }
          ],
          "contourcarpet": [
           {
            "colorbar": {
             "outlinewidth": 0,
             "ticks": ""
            },
            "type": "contourcarpet"
           }
          ],
          "heatmap": [
           {
            "colorbar": {
             "outlinewidth": 0,
             "ticks": ""
            },
            "colorscale": [
             [
              0,
              "#0d0887"
             ],
             [
              0.1111111111111111,
              "#46039f"
             ],
             [
              0.2222222222222222,
              "#7201a8"
             ],
             [
              0.3333333333333333,
              "#9c179e"
             ],
             [
              0.4444444444444444,
              "#bd3786"
             ],
             [
              0.5555555555555556,
              "#d8576b"
             ],
             [
              0.6666666666666666,
              "#ed7953"
             ],
             [
              0.7777777777777778,
              "#fb9f3a"
             ],
             [
              0.8888888888888888,
              "#fdca26"
             ],
             [
              1,
              "#f0f921"
             ]
            ],
            "type": "heatmap"
           }
          ],
          "histogram": [
           {
            "marker": {
             "pattern": {
              "fillmode": "overlay",
              "size": 10,
              "solidity": 0.2
             }
            },
            "type": "histogram"
           }
          ],
          "histogram2d": [
           {
            "colorbar": {
             "outlinewidth": 0,
             "ticks": ""
            },
            "colorscale": [
             [
              0,
              "#0d0887"
             ],
             [
              0.1111111111111111,
              "#46039f"
             ],
             [
              0.2222222222222222,
              "#7201a8"
             ],
             [
              0.3333333333333333,
              "#9c179e"
             ],
             [
              0.4444444444444444,
              "#bd3786"
             ],
             [
              0.5555555555555556,
              "#d8576b"
             ],
             [
              0.6666666666666666,
              "#ed7953"
             ],
             [
              0.7777777777777778,
              "#fb9f3a"
             ],
             [
              0.8888888888888888,
              "#fdca26"
             ],
             [
              1,
              "#f0f921"
             ]
            ],
            "type": "histogram2d"
           }
          ],
          "histogram2dcontour": [
           {
            "colorbar": {
             "outlinewidth": 0,
             "ticks": ""
            },
            "colorscale": [
             [
              0,
              "#0d0887"
             ],
             [
              0.1111111111111111,
              "#46039f"
             ],
             [
              0.2222222222222222,
              "#7201a8"
             ],
             [
              0.3333333333333333,
              "#9c179e"
             ],
             [
              0.4444444444444444,
              "#bd3786"
             ],
             [
              0.5555555555555556,
              "#d8576b"
             ],
             [
              0.6666666666666666,
              "#ed7953"
             ],
             [
              0.7777777777777778,
              "#fb9f3a"
             ],
             [
              0.8888888888888888,
              "#fdca26"
             ],
             [
              1,
              "#f0f921"
             ]
            ],
            "type": "histogram2dcontour"
           }
          ],
          "mesh3d": [
           {
            "colorbar": {
             "outlinewidth": 0,
             "ticks": ""
            },
            "type": "mesh3d"
           }
          ],
          "parcoords": [
           {
            "line": {
             "colorbar": {
              "outlinewidth": 0,
              "ticks": ""
             }
            },
            "type": "parcoords"
           }
          ],
          "pie": [
           {
            "automargin": true,
            "type": "pie"
           }
          ],
          "scatter": [
           {
            "fillpattern": {
             "fillmode": "overlay",
             "size": 10,
             "solidity": 0.2
            },
            "type": "scatter"
           }
          ],
          "scatter3d": [
           {
            "line": {
             "colorbar": {
              "outlinewidth": 0,
              "ticks": ""
             }
            },
            "marker": {
             "colorbar": {
              "outlinewidth": 0,
              "ticks": ""
             }
            },
            "type": "scatter3d"
           }
          ],
          "scattercarpet": [
           {
            "marker": {
             "colorbar": {
              "outlinewidth": 0,
              "ticks": ""
             }
            },
            "type": "scattercarpet"
           }
          ],
          "scattergeo": [
           {
            "marker": {
             "colorbar": {
              "outlinewidth": 0,
              "ticks": ""
             }
            },
            "type": "scattergeo"
           }
          ],
          "scattergl": [
           {
            "marker": {
             "colorbar": {
              "outlinewidth": 0,
              "ticks": ""
             }
            },
            "type": "scattergl"
           }
          ],
          "scattermap": [
           {
            "marker": {
             "colorbar": {
              "outlinewidth": 0,
              "ticks": ""
             }
            },
            "type": "scattermap"
           }
          ],
          "scattermapbox": [
           {
            "marker": {
             "colorbar": {
              "outlinewidth": 0,
              "ticks": ""
             }
            },
            "type": "scattermapbox"
           }
          ],
          "scatterpolar": [
           {
            "marker": {
             "colorbar": {
              "outlinewidth": 0,
              "ticks": ""
             }
            },
            "type": "scatterpolar"
           }
          ],
          "scatterpolargl": [
           {
            "marker": {
             "colorbar": {
              "outlinewidth": 0,
              "ticks": ""
             }
            },
            "type": "scatterpolargl"
           }
          ],
          "scatterternary": [
           {
            "marker": {
             "colorbar": {
              "outlinewidth": 0,
              "ticks": ""
             }
            },
            "type": "scatterternary"
           }
          ],
          "surface": [
           {
            "colorbar": {
             "outlinewidth": 0,
             "ticks": ""
            },
            "colorscale": [
             [
              0,
              "#0d0887"
             ],
             [
              0.1111111111111111,
              "#46039f"
             ],
             [
              0.2222222222222222,
              "#7201a8"
             ],
             [
              0.3333333333333333,
              "#9c179e"
             ],
             [
              0.4444444444444444,
              "#bd3786"
             ],
             [
              0.5555555555555556,
              "#d8576b"
             ],
             [
              0.6666666666666666,
              "#ed7953"
             ],
             [
              0.7777777777777778,
              "#fb9f3a"
             ],
             [
              0.8888888888888888,
              "#fdca26"
             ],
             [
              1,
              "#f0f921"
             ]
            ],
            "type": "surface"
           }
          ],
          "table": [
           {
            "cells": {
             "fill": {
              "color": "#EBF0F8"
             },
             "line": {
              "color": "white"
             }
            },
            "header": {
             "fill": {
              "color": "#C8D4E3"
             },
             "line": {
              "color": "white"
             }
            },
            "type": "table"
           }
          ]
         },
         "layout": {
          "annotationdefaults": {
           "arrowcolor": "#2a3f5f",
           "arrowhead": 0,
           "arrowwidth": 1
          },
          "autotypenumbers": "strict",
          "coloraxis": {
           "colorbar": {
            "outlinewidth": 0,
            "ticks": ""
           }
          },
          "colorscale": {
           "diverging": [
            [
             0,
             "#8e0152"
            ],
            [
             0.1,
             "#c51b7d"
            ],
            [
             0.2,
             "#de77ae"
            ],
            [
             0.3,
             "#f1b6da"
            ],
            [
             0.4,
             "#fde0ef"
            ],
            [
             0.5,
             "#f7f7f7"
            ],
            [
             0.6,
             "#e6f5d0"
            ],
            [
             0.7,
             "#b8e186"
            ],
            [
             0.8,
             "#7fbc41"
            ],
            [
             0.9,
             "#4d9221"
            ],
            [
             1,
             "#276419"
            ]
           ],
           "sequential": [
            [
             0,
             "#0d0887"
            ],
            [
             0.1111111111111111,
             "#46039f"
            ],
            [
             0.2222222222222222,
             "#7201a8"
            ],
            [
             0.3333333333333333,
             "#9c179e"
            ],
            [
             0.4444444444444444,
             "#bd3786"
            ],
            [
             0.5555555555555556,
             "#d8576b"
            ],
            [
             0.6666666666666666,
             "#ed7953"
            ],
            [
             0.7777777777777778,
             "#fb9f3a"
            ],
            [
             0.8888888888888888,
             "#fdca26"
            ],
            [
             1,
             "#f0f921"
            ]
           ],
           "sequentialminus": [
            [
             0,
             "#0d0887"
            ],
            [
             0.1111111111111111,
             "#46039f"
            ],
            [
             0.2222222222222222,
             "#7201a8"
            ],
            [
             0.3333333333333333,
             "#9c179e"
            ],
            [
             0.4444444444444444,
             "#bd3786"
            ],
            [
             0.5555555555555556,
             "#d8576b"
            ],
            [
             0.6666666666666666,
             "#ed7953"
            ],
            [
             0.7777777777777778,
             "#fb9f3a"
            ],
            [
             0.8888888888888888,
             "#fdca26"
            ],
            [
             1,
             "#f0f921"
            ]
           ]
          },
          "colorway": [
           "#636efa",
           "#EF553B",
           "#00cc96",
           "#ab63fa",
           "#FFA15A",
           "#19d3f3",
           "#FF6692",
           "#B6E880",
           "#FF97FF",
           "#FECB52"
          ],
          "font": {
           "color": "#2a3f5f"
          },
          "geo": {
           "bgcolor": "white",
           "lakecolor": "white",
           "landcolor": "#E5ECF6",
           "showlakes": true,
           "showland": true,
           "subunitcolor": "white"
          },
          "hoverlabel": {
           "align": "left"
          },
          "hovermode": "closest",
          "mapbox": {
           "style": "light"
          },
          "paper_bgcolor": "white",
          "plot_bgcolor": "#E5ECF6",
          "polar": {
           "angularaxis": {
            "gridcolor": "white",
            "linecolor": "white",
            "ticks": ""
           },
           "bgcolor": "#E5ECF6",
           "radialaxis": {
            "gridcolor": "white",
            "linecolor": "white",
            "ticks": ""
           }
          },
          "scene": {
           "xaxis": {
            "backgroundcolor": "#E5ECF6",
            "gridcolor": "white",
            "gridwidth": 2,
            "linecolor": "white",
            "showbackground": true,
            "ticks": "",
            "zerolinecolor": "white"
           },
           "yaxis": {
            "backgroundcolor": "#E5ECF6",
            "gridcolor": "white",
            "gridwidth": 2,
            "linecolor": "white",
            "showbackground": true,
            "ticks": "",
            "zerolinecolor": "white"
           },
           "zaxis": {
            "backgroundcolor": "#E5ECF6",
            "gridcolor": "white",
            "gridwidth": 2,
            "linecolor": "white",
            "showbackground": true,
            "ticks": "",
            "zerolinecolor": "white"
           }
          },
          "shapedefaults": {
           "line": {
            "color": "#2a3f5f"
           }
          },
          "ternary": {
           "aaxis": {
            "gridcolor": "white",
            "linecolor": "white",
            "ticks": ""
           },
           "baxis": {
            "gridcolor": "white",
            "linecolor": "white",
            "ticks": ""
           },
           "bgcolor": "#E5ECF6",
           "caxis": {
            "gridcolor": "white",
            "linecolor": "white",
            "ticks": ""
           }
          },
          "title": {
           "x": 0.05
          },
          "xaxis": {
           "automargin": true,
           "gridcolor": "white",
           "linecolor": "white",
           "ticks": "",
           "title": {
            "standoff": 15
           },
           "zerolinecolor": "white",
           "zerolinewidth": 2
          },
          "yaxis": {
           "automargin": true,
           "gridcolor": "white",
           "linecolor": "white",
           "ticks": "",
           "title": {
            "standoff": 15
           },
           "zerolinecolor": "white",
           "zerolinewidth": 2
          }
         }
        },
        "title": {
         "text": "Shannon entropy of parameter distributions"
        },
        "xaxis": {
         "anchor": "y",
         "domain": [
          0,
          1
         ],
         "showgrid": false,
         "title": {
          "text": "Generation"
         }
        },
        "yaxis": {
         "anchor": "x",
         "domain": [
          0,
          1
         ],
         "showgrid": false,
         "title": {
          "text": "Entropy"
         }
        }
       }
      }
     },
     "metadata": {},
     "output_type": "display_data"
    }
   ],
   "source": [
    "viewer.shannon_entropy(bins=100_000)"
   ]
  },
  {
   "cell_type": "code",
   "execution_count": 30,
   "id": "f9a77e23",
   "metadata": {},
   "outputs": [
    {
     "name": "stdout",
     "output_type": "stream",
     "text": [
      "0 <xarray.DataArray 'layer' (layer: 2)> Size: 16B\n",
      "array([0, 1])\n",
      "Coordinates:\n",
      "  * layer    (layer) int64 16B 0 1\n",
      "Attributes:\n",
      "    axis:     Z\n",
      "1 <xarray.DataArray 'layer' (layer: 2)> Size: 16B\n",
      "array([0, 1])\n",
      "Coordinates:\n",
      "  * layer    (layer) int64 16B 0 1\n",
      "Attributes:\n",
      "    axis:     Z\n",
      "1 <xarray.DataArray 'layer' (layer: 1)> Size: 8B\n",
      "array([1])\n",
      "Coordinates:\n",
      "  * layer    (layer) int64 8B 1\n",
      "Attributes:\n",
      "    axis:     Z\n"
     ]
    },
    {
     "data": {
      "application/vnd.plotly.v1+json": {
       "config": {
        "plotlyServerURL": "https://plot.ly"
       },
       "data": [
        {
         "line": {
          "color": "firebrick",
          "dash": "solid",
          "width": 2
         },
         "mode": "lines",
         "name": "Predicted day layer 0",
         "type": "scatter",
         "x": [
          "2023-01-01T00:00:00.000000000",
          "2023-01-02T00:00:00.000000000",
          "2023-01-03T00:00:00.000000000",
          "2023-01-04T00:00:00.000000000",
          "2023-01-05T00:00:00.000000000",
          "2023-01-06T00:00:00.000000000",
          "2023-01-07T00:00:00.000000000",
          "2023-01-08T00:00:00.000000000",
          "2023-01-09T00:00:00.000000000",
          "2023-01-10T00:00:00.000000000",
          "2023-01-11T00:00:00.000000000",
          "2023-01-12T00:00:00.000000000",
          "2023-01-13T00:00:00.000000000",
          "2023-01-14T00:00:00.000000000",
          "2023-01-15T00:00:00.000000000",
          "2023-01-16T00:00:00.000000000",
          "2023-01-17T00:00:00.000000000",
          "2023-01-18T00:00:00.000000000",
          "2023-01-19T00:00:00.000000000",
          "2023-01-20T00:00:00.000000000",
          "2023-01-21T00:00:00.000000000",
          "2023-01-22T00:00:00.000000000",
          "2023-01-23T00:00:00.000000000",
          "2023-01-24T00:00:00.000000000",
          "2023-01-25T00:00:00.000000000",
          "2023-01-26T00:00:00.000000000",
          "2023-01-27T00:00:00.000000000",
          "2023-01-28T00:00:00.000000000",
          "2023-01-29T00:00:00.000000000",
          "2023-01-30T00:00:00.000000000",
          "2023-01-31T00:00:00.000000000",
          "2023-02-01T00:00:00.000000000",
          "2023-02-02T00:00:00.000000000",
          "2023-02-03T00:00:00.000000000",
          "2023-02-04T00:00:00.000000000",
          "2023-02-05T00:00:00.000000000",
          "2023-02-06T00:00:00.000000000",
          "2023-02-07T00:00:00.000000000",
          "2023-02-08T00:00:00.000000000",
          "2023-02-09T00:00:00.000000000",
          "2023-02-10T00:00:00.000000000",
          "2023-02-11T00:00:00.000000000",
          "2023-02-12T00:00:00.000000000",
          "2023-02-13T00:00:00.000000000",
          "2023-02-14T00:00:00.000000000",
          "2023-02-15T00:00:00.000000000",
          "2023-02-16T00:00:00.000000000",
          "2023-02-17T00:00:00.000000000",
          "2023-02-18T00:00:00.000000000",
          "2023-02-19T00:00:00.000000000",
          "2023-02-20T00:00:00.000000000",
          "2023-02-21T00:00:00.000000000",
          "2023-02-22T00:00:00.000000000",
          "2023-02-23T00:00:00.000000000",
          "2023-02-24T00:00:00.000000000",
          "2023-02-25T00:00:00.000000000",
          "2023-02-26T00:00:00.000000000",
          "2023-02-27T00:00:00.000000000",
          "2023-02-28T00:00:00.000000000",
          "2023-03-01T00:00:00.000000000",
          "2023-03-02T00:00:00.000000000",
          "2023-03-03T00:00:00.000000000",
          "2023-03-04T00:00:00.000000000",
          "2023-03-05T00:00:00.000000000",
          "2023-03-06T00:00:00.000000000",
          "2023-03-07T00:00:00.000000000",
          "2023-03-08T00:00:00.000000000",
          "2023-03-09T00:00:00.000000000",
          "2023-03-10T00:00:00.000000000",
          "2023-03-11T00:00:00.000000000",
          "2023-03-12T00:00:00.000000000",
          "2023-03-13T00:00:00.000000000",
          "2023-03-14T00:00:00.000000000",
          "2023-03-15T00:00:00.000000000",
          "2023-03-16T00:00:00.000000000",
          "2023-03-17T00:00:00.000000000",
          "2023-03-18T00:00:00.000000000",
          "2023-03-19T00:00:00.000000000",
          "2023-03-20T00:00:00.000000000",
          "2023-03-21T00:00:00.000000000",
          "2023-03-22T00:00:00.000000000",
          "2023-03-23T00:00:00.000000000",
          "2023-03-24T00:00:00.000000000",
          "2023-03-25T00:00:00.000000000",
          "2023-03-26T00:00:00.000000000",
          "2023-03-27T00:00:00.000000000",
          "2023-03-28T00:00:00.000000000",
          "2023-03-29T00:00:00.000000000",
          "2023-03-30T00:00:00.000000000",
          "2023-03-31T00:00:00.000000000",
          "2023-04-01T00:00:00.000000000",
          "2023-04-02T00:00:00.000000000",
          "2023-04-03T00:00:00.000000000",
          "2023-04-04T00:00:00.000000000",
          "2023-04-05T00:00:00.000000000",
          "2023-04-06T00:00:00.000000000",
          "2023-04-07T00:00:00.000000000",
          "2023-04-08T00:00:00.000000000",
          "2023-04-09T00:00:00.000000000",
          "2023-04-10T00:00:00.000000000",
          "2023-04-11T00:00:00.000000000",
          "2023-04-12T00:00:00.000000000",
          "2023-04-13T00:00:00.000000000",
          "2023-04-14T00:00:00.000000000",
          "2023-04-15T00:00:00.000000000",
          "2023-04-16T00:00:00.000000000",
          "2023-04-17T00:00:00.000000000",
          "2023-04-18T00:00:00.000000000",
          "2023-04-19T00:00:00.000000000",
          "2023-04-20T00:00:00.000000000",
          "2023-04-21T00:00:00.000000000",
          "2023-04-22T00:00:00.000000000",
          "2023-04-23T00:00:00.000000000",
          "2023-04-24T00:00:00.000000000",
          "2023-04-25T00:00:00.000000000",
          "2023-04-26T00:00:00.000000000",
          "2023-04-27T00:00:00.000000000",
          "2023-04-28T00:00:00.000000000",
          "2023-04-29T00:00:00.000000000",
          "2023-04-30T00:00:00.000000000",
          "2023-05-01T00:00:00.000000000",
          "2023-05-02T00:00:00.000000000",
          "2023-05-03T00:00:00.000000000",
          "2023-05-04T00:00:00.000000000",
          "2023-05-05T00:00:00.000000000",
          "2023-05-06T00:00:00.000000000",
          "2023-05-07T00:00:00.000000000",
          "2023-05-08T00:00:00.000000000",
          "2023-05-09T00:00:00.000000000",
          "2023-05-10T00:00:00.000000000",
          "2023-05-11T00:00:00.000000000",
          "2023-05-12T00:00:00.000000000",
          "2023-05-13T00:00:00.000000000",
          "2023-05-14T00:00:00.000000000",
          "2023-05-15T00:00:00.000000000",
          "2023-05-16T00:00:00.000000000",
          "2023-05-17T00:00:00.000000000",
          "2023-05-18T00:00:00.000000000",
          "2023-05-19T00:00:00.000000000",
          "2023-05-20T00:00:00.000000000",
          "2023-05-21T00:00:00.000000000",
          "2023-05-22T00:00:00.000000000",
          "2023-05-23T00:00:00.000000000",
          "2023-05-24T00:00:00.000000000",
          "2023-05-25T00:00:00.000000000",
          "2023-05-26T00:00:00.000000000",
          "2023-05-27T00:00:00.000000000",
          "2023-05-28T00:00:00.000000000",
          "2023-05-29T00:00:00.000000000",
          "2023-05-30T00:00:00.000000000",
          "2023-05-31T00:00:00.000000000",
          "2023-06-01T00:00:00.000000000",
          "2023-06-02T00:00:00.000000000",
          "2023-06-03T00:00:00.000000000",
          "2023-06-04T00:00:00.000000000",
          "2023-06-05T00:00:00.000000000",
          "2023-06-06T00:00:00.000000000",
          "2023-06-07T00:00:00.000000000",
          "2023-06-08T00:00:00.000000000",
          "2023-06-09T00:00:00.000000000",
          "2023-06-10T00:00:00.000000000",
          "2023-06-11T00:00:00.000000000",
          "2023-06-12T00:00:00.000000000",
          "2023-06-13T00:00:00.000000000",
          "2023-06-14T00:00:00.000000000",
          "2023-06-15T00:00:00.000000000",
          "2023-06-16T00:00:00.000000000",
          "2023-06-17T00:00:00.000000000",
          "2023-06-18T00:00:00.000000000",
          "2023-06-19T00:00:00.000000000",
          "2023-06-20T00:00:00.000000000",
          "2023-06-21T00:00:00.000000000",
          "2023-06-22T00:00:00.000000000",
          "2023-06-23T00:00:00.000000000",
          "2023-06-24T00:00:00.000000000",
          "2023-06-25T00:00:00.000000000",
          "2023-06-26T00:00:00.000000000",
          "2023-06-27T00:00:00.000000000",
          "2023-06-28T00:00:00.000000000",
          "2023-06-29T00:00:00.000000000",
          "2023-06-30T00:00:00.000000000",
          "2023-07-01T00:00:00.000000000",
          "2023-07-02T00:00:00.000000000",
          "2023-07-03T00:00:00.000000000",
          "2023-07-04T00:00:00.000000000",
          "2023-07-05T00:00:00.000000000",
          "2023-07-06T00:00:00.000000000",
          "2023-07-07T00:00:00.000000000",
          "2023-07-08T00:00:00.000000000",
          "2023-07-09T00:00:00.000000000",
          "2023-07-10T00:00:00.000000000",
          "2023-07-11T00:00:00.000000000",
          "2023-07-12T00:00:00.000000000",
          "2023-07-13T00:00:00.000000000",
          "2023-07-14T00:00:00.000000000",
          "2023-07-15T00:00:00.000000000",
          "2023-07-16T00:00:00.000000000",
          "2023-07-17T00:00:00.000000000",
          "2023-07-18T00:00:00.000000000",
          "2023-07-19T00:00:00.000000000",
          "2023-07-20T00:00:00.000000000",
          "2023-07-21T00:00:00.000000000",
          "2023-07-22T00:00:00.000000000",
          "2023-07-23T00:00:00.000000000",
          "2023-07-24T00:00:00.000000000",
          "2023-07-25T00:00:00.000000000",
          "2023-07-26T00:00:00.000000000",
          "2023-07-27T00:00:00.000000000",
          "2023-07-28T00:00:00.000000000",
          "2023-07-29T00:00:00.000000000",
          "2023-07-30T00:00:00.000000000",
          "2023-07-31T00:00:00.000000000",
          "2023-08-01T00:00:00.000000000",
          "2023-08-02T00:00:00.000000000",
          "2023-08-03T00:00:00.000000000",
          "2023-08-04T00:00:00.000000000",
          "2023-08-05T00:00:00.000000000",
          "2023-08-06T00:00:00.000000000",
          "2023-08-07T00:00:00.000000000",
          "2023-08-08T00:00:00.000000000",
          "2023-08-09T00:00:00.000000000",
          "2023-08-10T00:00:00.000000000",
          "2023-08-11T00:00:00.000000000",
          "2023-08-12T00:00:00.000000000",
          "2023-08-13T00:00:00.000000000",
          "2023-08-14T00:00:00.000000000",
          "2023-08-15T00:00:00.000000000",
          "2023-08-16T00:00:00.000000000",
          "2023-08-17T00:00:00.000000000",
          "2023-08-18T00:00:00.000000000",
          "2023-08-19T00:00:00.000000000",
          "2023-08-20T00:00:00.000000000",
          "2023-08-21T00:00:00.000000000",
          "2023-08-22T00:00:00.000000000",
          "2023-08-23T00:00:00.000000000",
          "2023-08-24T00:00:00.000000000",
          "2023-08-25T00:00:00.000000000",
          "2023-08-26T00:00:00.000000000",
          "2023-08-27T00:00:00.000000000",
          "2023-08-28T00:00:00.000000000",
          "2023-08-29T00:00:00.000000000",
          "2023-08-30T00:00:00.000000000",
          "2023-08-31T00:00:00.000000000",
          "2023-09-01T00:00:00.000000000",
          "2023-09-02T00:00:00.000000000",
          "2023-09-03T00:00:00.000000000",
          "2023-09-04T00:00:00.000000000",
          "2023-09-05T00:00:00.000000000",
          "2023-09-06T00:00:00.000000000",
          "2023-09-07T00:00:00.000000000",
          "2023-09-08T00:00:00.000000000",
          "2023-09-09T00:00:00.000000000",
          "2023-09-10T00:00:00.000000000",
          "2023-09-11T00:00:00.000000000",
          "2023-09-12T00:00:00.000000000",
          "2023-09-13T00:00:00.000000000",
          "2023-09-14T00:00:00.000000000",
          "2023-09-15T00:00:00.000000000",
          "2023-09-16T00:00:00.000000000",
          "2023-09-17T00:00:00.000000000",
          "2023-09-18T00:00:00.000000000",
          "2023-09-19T00:00:00.000000000",
          "2023-09-20T00:00:00.000000000",
          "2023-09-21T00:00:00.000000000",
          "2023-09-22T00:00:00.000000000",
          "2023-09-23T00:00:00.000000000",
          "2023-09-24T00:00:00.000000000",
          "2023-09-25T00:00:00.000000000",
          "2023-09-26T00:00:00.000000000",
          "2023-09-27T00:00:00.000000000",
          "2023-09-28T00:00:00.000000000",
          "2023-09-29T00:00:00.000000000",
          "2023-09-30T00:00:00.000000000",
          "2023-10-01T00:00:00.000000000",
          "2023-10-02T00:00:00.000000000",
          "2023-10-03T00:00:00.000000000",
          "2023-10-04T00:00:00.000000000",
          "2023-10-05T00:00:00.000000000",
          "2023-10-06T00:00:00.000000000",
          "2023-10-07T00:00:00.000000000",
          "2023-10-08T00:00:00.000000000",
          "2023-10-09T00:00:00.000000000",
          "2023-10-10T00:00:00.000000000",
          "2023-10-11T00:00:00.000000000",
          "2023-10-12T00:00:00.000000000",
          "2023-10-13T00:00:00.000000000",
          "2023-10-14T00:00:00.000000000",
          "2023-10-15T00:00:00.000000000",
          "2023-10-16T00:00:00.000000000",
          "2023-10-17T00:00:00.000000000",
          "2023-10-18T00:00:00.000000000",
          "2023-10-19T00:00:00.000000000",
          "2023-10-20T00:00:00.000000000",
          "2023-10-21T00:00:00.000000000",
          "2023-10-22T00:00:00.000000000",
          "2023-10-23T00:00:00.000000000",
          "2023-10-24T00:00:00.000000000",
          "2023-10-25T00:00:00.000000000",
          "2023-10-26T00:00:00.000000000",
          "2023-10-27T00:00:00.000000000",
          "2023-10-28T00:00:00.000000000",
          "2023-10-29T00:00:00.000000000",
          "2023-10-30T00:00:00.000000000",
          "2023-10-31T00:00:00.000000000",
          "2023-11-01T00:00:00.000000000",
          "2023-11-02T00:00:00.000000000",
          "2023-11-03T00:00:00.000000000",
          "2023-11-04T00:00:00.000000000",
          "2023-11-05T00:00:00.000000000",
          "2023-11-06T00:00:00.000000000",
          "2023-11-07T00:00:00.000000000",
          "2023-11-08T00:00:00.000000000",
          "2023-11-09T00:00:00.000000000",
          "2023-11-10T00:00:00.000000000",
          "2023-11-11T00:00:00.000000000",
          "2023-11-12T00:00:00.000000000",
          "2023-11-13T00:00:00.000000000",
          "2023-11-14T00:00:00.000000000",
          "2023-11-15T00:00:00.000000000",
          "2023-11-16T00:00:00.000000000",
          "2023-11-17T00:00:00.000000000",
          "2023-11-18T00:00:00.000000000",
          "2023-11-19T00:00:00.000000000",
          "2023-11-20T00:00:00.000000000",
          "2023-11-21T00:00:00.000000000",
          "2023-11-22T00:00:00.000000000",
          "2023-11-23T00:00:00.000000000",
          "2023-11-24T00:00:00.000000000",
          "2023-11-25T00:00:00.000000000",
          "2023-11-26T00:00:00.000000000",
          "2023-11-27T00:00:00.000000000",
          "2023-11-28T00:00:00.000000000",
          "2023-11-29T00:00:00.000000000",
          "2023-11-30T00:00:00.000000000",
          "2023-12-01T00:00:00.000000000",
          "2023-12-02T00:00:00.000000000",
          "2023-12-03T00:00:00.000000000",
          "2023-12-04T00:00:00.000000000",
          "2023-12-05T00:00:00.000000000",
          "2023-12-06T00:00:00.000000000",
          "2023-12-07T00:00:00.000000000",
          "2023-12-08T00:00:00.000000000",
          "2023-12-09T00:00:00.000000000",
          "2023-12-10T00:00:00.000000000",
          "2023-12-11T00:00:00.000000000",
          "2023-12-12T00:00:00.000000000",
          "2023-12-13T00:00:00.000000000",
          "2023-12-14T00:00:00.000000000",
          "2023-12-15T00:00:00.000000000",
          "2023-12-16T00:00:00.000000000",
          "2023-12-17T00:00:00.000000000",
          "2023-12-18T00:00:00.000000000",
          "2023-12-19T00:00:00.000000000",
          "2023-12-20T00:00:00.000000000",
          "2023-12-21T00:00:00.000000000",
          "2023-12-22T00:00:00.000000000",
          "2023-12-23T00:00:00.000000000",
          "2023-12-24T00:00:00.000000000",
          "2023-12-25T00:00:00.000000000",
          "2023-12-26T00:00:00.000000000"
         ],
         "xaxis": "x",
         "y": {
          "bdata": "AAAAAAAAAAAAAAAAAAAAAMumbzGWIxVBCoDeGN8jFUFT7tkZ3yMVQbbx2RnfIxVBtvHZGd8jFUG28dkZ3yMVQbbx2RnfIxVBtvHZGd8jFUG28dkZ3yMVQbbx2RnfIxVBtvHZGd8jFUG28dkZ3yMVQbbx2RnfIxVBtvHZGd8jFUG28dkZ3yMVQbbx2RnfIxVBtvHZGd8jFUG28dkZ3yMVQbbx2RnfIxVBtvHZGd8jFUG28dkZ3yMVQbbx2RnfIxVBtvHZGd8jFUG28dkZ3yMVQbbx2RnfIxVBtvHZGd8jFUG28dkZ3yMVQbbx2RnfIxVBtvHZGd8jFUG28dkZ3yMVQbbx2RnfIxVBtvHZGd8jFUG28dkZ3yMVQbbx2RnfIxVBtvHZGd8jFUG28dkZ3yMVQbbx2RnfIxVBtvHZGd8jFUG28dkZ3yMVQbbx2RnfIxVBtvHZGd8jFUG28dkZ3yMVQbbx2RnfIxVBtvHZGd8jFUG28dkZ3yMVQbbx2RnfIxVBtvHZGd8jFUG28dkZ3yMVQbbx2RnfIxVBtvHZGd8jFUG28dkZ3yMVQbbx2RnfIxVBtvHZGd8jFUG28dkZ3yMVQbbx2RnfIxVBtvHZGd8jFUG28dkZ3yMVQbbx2RnfIxVBtvHZGd8jFUG28dkZ3yMVQbbx2RnfIxVBtvHZGd8jFUG28dkZ3yMVQbbx2RnfIxVBtvHZGd8jFUG28dkZ3yMVQbbx2RnfIxVBtvHZGd8jFUG28dkZ3yMVQbbx2RnfIxVBtvHZGd8jFUG28dkZ3yMVQbbx2RnfIxVBtvHZGd8jFUG28dkZ3yMVQbbx2RnfIxVBtvHZGd8jFUG28dkZ3yMVQbbx2RnfIxVBtvHZGd8jFUG28dkZ3yMVQbbx2RnfIxVBtvHZGd8jFUG28dkZ3yMVQbbx2RnfIxVBtvHZGd8jFUG28dkZ3yMVQbbx2RnfIxVBtvHZGd8jFUG28dkZ3yMVQbbx2RnfIxVBtvHZGd8jFUG28dkZ3yMVQbbx2RnfIxVBtvHZGd8jFUG28dkZ3yMVQbbx2RnfIxVBtvHZGd8jFUG28dkZ3yMVQbbx2RnfIxVBtvHZGd8jFUG28dkZ3yMVQbbx2RnfIxVBtvHZGd8jFUG28dkZ3yMVQbbx2RnfIxVBtvHZGd8jFUG28dkZ3yMVQbbx2RnfIxVBtvHZGd8jFUG28dkZ3yMVQbbx2RnfIxVBtvHZGd8jFUG28dkZ3yMVQbbx2RnfIxVBtvHZGd8jFUG28dkZ3yMVQbbx2RnfIxVBtvHZGd8jFUG28dkZ3yMVQbbx2RnfIxVBtvHZGd8jFUG28dkZ3yMVQbbx2RnfIxVBtvHZGd8jFUG28dkZ3yMVQbbx2RnfIxVBtvHZGd8jFUG28dkZ3yMVQbbx2RnfIxVBtvHZGd8jFUG28dkZ3yMVQbbx2RnfIxVBtvHZGd8jFUG28dkZ3yMVQbbx2RnfIxVBtvHZGd8jFUG28dkZ3yMVQbbx2RnfIxVBtvHZGd8jFUG28dkZ3yMVQbbx2RnfIxVBtvHZGd8jFUG28dkZ3yMVQbbx2RnfIxVBtvHZGd8jFUG28dkZ3yMVQbbx2RnfIxVBtvHZGd8jFUG28dkZ3yMVQbbx2RnfIxVBtvHZGd8jFUG28dkZ3yMVQbbx2RnfIxVBtvHZGd8jFUG28dkZ3yMVQbbx2RnfIxVBtvHZGd8jFUG28dkZ3yMVQbbx2RnfIxVBtvHZGd8jFUG28dkZ3yMVQbbx2RnfIxVBtvHZGd8jFUG28dkZ3yMVQbbx2RnfIxVBtvHZGd8jFUG28dkZ3yMVQbbx2RnfIxVBtvHZGd8jFUG28dkZ3yMVQbbx2RnfIxVBtvHZGd8jFUG28dkZ3yMVQbbx2RnfIxVBtvHZGd8jFUG28dkZ3yMVQbbx2RnfIxVBtvHZGd8jFUG28dkZ3yMVQbbx2RnfIxVBtvHZGd8jFUG28dkZ3yMVQbbx2RnfIxVBtvHZGd8jFUG28dkZ3yMVQbbx2RnfIxVBtvHZGd8jFUG28dkZ3yMVQbbx2RnfIxVBtvHZGd8jFUG28dkZ3yMVQbbx2RnfIxVBtvHZGd8jFUG28dkZ3yMVQbbx2RnfIxVBtvHZGd8jFUG28dkZ3yMVQbbx2RnfIxVBtvHZGd8jFUG28dkZ3yMVQbbx2RnfIxVBtvHZGd8jFUG28dkZ3yMVQbbx2RnfIxVBtvHZGd8jFUG28dkZ3yMVQbbx2RnfIxVBtvHZGd8jFUG28dkZ3yMVQbbx2RnfIxVBtvHZGd8jFUG28dkZ3yMVQbbx2RnfIxVBtvHZGd8jFUG28dkZ3yMVQbbx2RnfIxVBtvHZGd8jFUG28dkZ3yMVQbbx2RnfIxVBtvHZGd8jFUG28dkZ3yMVQbbx2RnfIxVBtvHZGd8jFUG28dkZ3yMVQbbx2RnfIxVBtvHZGd8jFUG28dkZ3yMVQbbx2RnfIxVBtvHZGd8jFUG28dkZ3yMVQbbx2RnfIxVBtvHZGd8jFUG28dkZ3yMVQbbx2RnfIxVBtvHZGd8jFUG28dkZ3yMVQbbx2RnfIxVBtvHZGd8jFUG28dkZ3yMVQbbx2RnfIxVBtvHZGd8jFUG28dkZ3yMVQbbx2RnfIxVBtvHZGd8jFUG28dkZ3yMVQbbx2RnfIxVBtvHZGd8jFUG28dkZ3yMVQbbx2RnfIxVBtvHZGd8jFUG28dkZ3yMVQbbx2RnfIxVBtvHZGd8jFUG28dkZ3yMVQbbx2RnfIxVBtvHZGd8jFUG28dkZ3yMVQbbx2RnfIxVBtvHZGd8jFUG28dkZ3yMVQbbx2RnfIxVBtvHZGd8jFUG28dkZ3yMVQbbx2RnfIxVBtvHZGd8jFUG28dkZ3yMVQbbx2RnfIxVBtvHZGd8jFUG28dkZ3yMVQbbx2RnfIxVBtvHZGd8jFUG28dkZ3yMVQbbx2RnfIxVBtvHZGd8jFUG28dkZ3yMVQbbx2RnfIxVBtvHZGd8jFUG28dkZ3yMVQbbx2RnfIxVBtvHZGd8jFUG28dkZ3yMVQbbx2RnfIxVBtvHZGd8jFUG28dkZ3yMVQbbx2RnfIxVBtvHZGd8jFUG28dkZ3yMVQbbx2RnfIxVBtvHZGd8jFUG28dkZ3yMVQbbx2RnfIxVBtvHZGd8jFUG28dkZ3yMVQbbx2RnfIxVBtvHZGd8jFUG28dkZ3yMVQbbx2RnfIxVBtvHZGd8jFUG28dkZ3yMVQbbx2RnfIxVBtvHZGd8jFUG28dkZ3yMVQbbx2RnfIxVBtvHZGd8jFUG28dkZ3yMVQbbx2RnfIxVBtvHZGd8jFUG28dkZ3yMVQbbx2RnfIxVBtvHZGd8jFUG28dkZ3yMVQbbx2RnfIxVBtvHZGd8jFUG28dkZ3yMVQbbx2RnfIxVBtvHZGd8jFUG28dkZ3yMVQbbx2RnfIxVBtvHZGd8jFUG28dkZ3yMVQbbx2RnfIxVBtvHZGd8jFUG28dkZ3yMVQbbx2RnfIxVBtvHZGd8jFUG28dkZ3yMVQbbx2RnfIxVBtvHZGd8jFUG28dkZ3yMVQbbx2RnfIxVBtvHZGd8jFUG28dkZ3yMVQbbx2RnfIxVBtvHZGd8jFUG28dkZ3yMVQbbx2RnfIxVBtvHZGd8jFUG28dkZ3yMVQbbx2RnfIxVBtvHZGd8jFUG28dkZ3yMVQbbx2RnfIxVBtvHZGd8jFUG28dkZ3yMVQbbx2RnfIxVBtvHZGd8jFUG28dkZ3yMVQbbx2RnfIxVBtvHZGd8jFUG28dkZ3yMVQbbx2RnfIxVBtvHZGd8jFUG28dkZ3yMVQbbx2RnfIxVBtvHZGd8jFUG28dkZ3yMVQbbx2RnfIxVB",
          "dtype": "f8"
         },
         "yaxis": "y"
        },
        {
         "fill": "toself",
         "fillcolor": "rgba(174,30,36,0.3)",
         "line": {
          "color": "rgba(0,0,0,0)"
         },
         "name": "day layer 0 : 10 best individuals",
         "type": "scatter",
         "x": [
          "2023-01-01T00:00:00.000000000",
          "2023-01-02T00:00:00.000000000",
          "2023-01-03T00:00:00.000000000",
          "2023-01-04T00:00:00.000000000",
          "2023-01-05T00:00:00.000000000",
          "2023-01-06T00:00:00.000000000",
          "2023-01-07T00:00:00.000000000",
          "2023-01-08T00:00:00.000000000",
          "2023-01-09T00:00:00.000000000",
          "2023-01-10T00:00:00.000000000",
          "2023-01-11T00:00:00.000000000",
          "2023-01-12T00:00:00.000000000",
          "2023-01-13T00:00:00.000000000",
          "2023-01-14T00:00:00.000000000",
          "2023-01-15T00:00:00.000000000",
          "2023-01-16T00:00:00.000000000",
          "2023-01-17T00:00:00.000000000",
          "2023-01-18T00:00:00.000000000",
          "2023-01-19T00:00:00.000000000",
          "2023-01-20T00:00:00.000000000",
          "2023-01-21T00:00:00.000000000",
          "2023-01-22T00:00:00.000000000",
          "2023-01-23T00:00:00.000000000",
          "2023-01-24T00:00:00.000000000",
          "2023-01-25T00:00:00.000000000",
          "2023-01-26T00:00:00.000000000",
          "2023-01-27T00:00:00.000000000",
          "2023-01-28T00:00:00.000000000",
          "2023-01-29T00:00:00.000000000",
          "2023-01-30T00:00:00.000000000",
          "2023-01-31T00:00:00.000000000",
          "2023-02-01T00:00:00.000000000",
          "2023-02-02T00:00:00.000000000",
          "2023-02-03T00:00:00.000000000",
          "2023-02-04T00:00:00.000000000",
          "2023-02-05T00:00:00.000000000",
          "2023-02-06T00:00:00.000000000",
          "2023-02-07T00:00:00.000000000",
          "2023-02-08T00:00:00.000000000",
          "2023-02-09T00:00:00.000000000",
          "2023-02-10T00:00:00.000000000",
          "2023-02-11T00:00:00.000000000",
          "2023-02-12T00:00:00.000000000",
          "2023-02-13T00:00:00.000000000",
          "2023-02-14T00:00:00.000000000",
          "2023-02-15T00:00:00.000000000",
          "2023-02-16T00:00:00.000000000",
          "2023-02-17T00:00:00.000000000",
          "2023-02-18T00:00:00.000000000",
          "2023-02-19T00:00:00.000000000",
          "2023-02-20T00:00:00.000000000",
          "2023-02-21T00:00:00.000000000",
          "2023-02-22T00:00:00.000000000",
          "2023-02-23T00:00:00.000000000",
          "2023-02-24T00:00:00.000000000",
          "2023-02-25T00:00:00.000000000",
          "2023-02-26T00:00:00.000000000",
          "2023-02-27T00:00:00.000000000",
          "2023-02-28T00:00:00.000000000",
          "2023-03-01T00:00:00.000000000",
          "2023-03-02T00:00:00.000000000",
          "2023-03-03T00:00:00.000000000",
          "2023-03-04T00:00:00.000000000",
          "2023-03-05T00:00:00.000000000",
          "2023-03-06T00:00:00.000000000",
          "2023-03-07T00:00:00.000000000",
          "2023-03-08T00:00:00.000000000",
          "2023-03-09T00:00:00.000000000",
          "2023-03-10T00:00:00.000000000",
          "2023-03-11T00:00:00.000000000",
          "2023-03-12T00:00:00.000000000",
          "2023-03-13T00:00:00.000000000",
          "2023-03-14T00:00:00.000000000",
          "2023-03-15T00:00:00.000000000",
          "2023-03-16T00:00:00.000000000",
          "2023-03-17T00:00:00.000000000",
          "2023-03-18T00:00:00.000000000",
          "2023-03-19T00:00:00.000000000",
          "2023-03-20T00:00:00.000000000",
          "2023-03-21T00:00:00.000000000",
          "2023-03-22T00:00:00.000000000",
          "2023-03-23T00:00:00.000000000",
          "2023-03-24T00:00:00.000000000",
          "2023-03-25T00:00:00.000000000",
          "2023-03-26T00:00:00.000000000",
          "2023-03-27T00:00:00.000000000",
          "2023-03-28T00:00:00.000000000",
          "2023-03-29T00:00:00.000000000",
          "2023-03-30T00:00:00.000000000",
          "2023-03-31T00:00:00.000000000",
          "2023-04-01T00:00:00.000000000",
          "2023-04-02T00:00:00.000000000",
          "2023-04-03T00:00:00.000000000",
          "2023-04-04T00:00:00.000000000",
          "2023-04-05T00:00:00.000000000",
          "2023-04-06T00:00:00.000000000",
          "2023-04-07T00:00:00.000000000",
          "2023-04-08T00:00:00.000000000",
          "2023-04-09T00:00:00.000000000",
          "2023-04-10T00:00:00.000000000",
          "2023-04-11T00:00:00.000000000",
          "2023-04-12T00:00:00.000000000",
          "2023-04-13T00:00:00.000000000",
          "2023-04-14T00:00:00.000000000",
          "2023-04-15T00:00:00.000000000",
          "2023-04-16T00:00:00.000000000",
          "2023-04-17T00:00:00.000000000",
          "2023-04-18T00:00:00.000000000",
          "2023-04-19T00:00:00.000000000",
          "2023-04-20T00:00:00.000000000",
          "2023-04-21T00:00:00.000000000",
          "2023-04-22T00:00:00.000000000",
          "2023-04-23T00:00:00.000000000",
          "2023-04-24T00:00:00.000000000",
          "2023-04-25T00:00:00.000000000",
          "2023-04-26T00:00:00.000000000",
          "2023-04-27T00:00:00.000000000",
          "2023-04-28T00:00:00.000000000",
          "2023-04-29T00:00:00.000000000",
          "2023-04-30T00:00:00.000000000",
          "2023-05-01T00:00:00.000000000",
          "2023-05-02T00:00:00.000000000",
          "2023-05-03T00:00:00.000000000",
          "2023-05-04T00:00:00.000000000",
          "2023-05-05T00:00:00.000000000",
          "2023-05-06T00:00:00.000000000",
          "2023-05-07T00:00:00.000000000",
          "2023-05-08T00:00:00.000000000",
          "2023-05-09T00:00:00.000000000",
          "2023-05-10T00:00:00.000000000",
          "2023-05-11T00:00:00.000000000",
          "2023-05-12T00:00:00.000000000",
          "2023-05-13T00:00:00.000000000",
          "2023-05-14T00:00:00.000000000",
          "2023-05-15T00:00:00.000000000",
          "2023-05-16T00:00:00.000000000",
          "2023-05-17T00:00:00.000000000",
          "2023-05-18T00:00:00.000000000",
          "2023-05-19T00:00:00.000000000",
          "2023-05-20T00:00:00.000000000",
          "2023-05-21T00:00:00.000000000",
          "2023-05-22T00:00:00.000000000",
          "2023-05-23T00:00:00.000000000",
          "2023-05-24T00:00:00.000000000",
          "2023-05-25T00:00:00.000000000",
          "2023-05-26T00:00:00.000000000",
          "2023-05-27T00:00:00.000000000",
          "2023-05-28T00:00:00.000000000",
          "2023-05-29T00:00:00.000000000",
          "2023-05-30T00:00:00.000000000",
          "2023-05-31T00:00:00.000000000",
          "2023-06-01T00:00:00.000000000",
          "2023-06-02T00:00:00.000000000",
          "2023-06-03T00:00:00.000000000",
          "2023-06-04T00:00:00.000000000",
          "2023-06-05T00:00:00.000000000",
          "2023-06-06T00:00:00.000000000",
          "2023-06-07T00:00:00.000000000",
          "2023-06-08T00:00:00.000000000",
          "2023-06-09T00:00:00.000000000",
          "2023-06-10T00:00:00.000000000",
          "2023-06-11T00:00:00.000000000",
          "2023-06-12T00:00:00.000000000",
          "2023-06-13T00:00:00.000000000",
          "2023-06-14T00:00:00.000000000",
          "2023-06-15T00:00:00.000000000",
          "2023-06-16T00:00:00.000000000",
          "2023-06-17T00:00:00.000000000",
          "2023-06-18T00:00:00.000000000",
          "2023-06-19T00:00:00.000000000",
          "2023-06-20T00:00:00.000000000",
          "2023-06-21T00:00:00.000000000",
          "2023-06-22T00:00:00.000000000",
          "2023-06-23T00:00:00.000000000",
          "2023-06-24T00:00:00.000000000",
          "2023-06-25T00:00:00.000000000",
          "2023-06-26T00:00:00.000000000",
          "2023-06-27T00:00:00.000000000",
          "2023-06-28T00:00:00.000000000",
          "2023-06-29T00:00:00.000000000",
          "2023-06-30T00:00:00.000000000",
          "2023-07-01T00:00:00.000000000",
          "2023-07-02T00:00:00.000000000",
          "2023-07-03T00:00:00.000000000",
          "2023-07-04T00:00:00.000000000",
          "2023-07-05T00:00:00.000000000",
          "2023-07-06T00:00:00.000000000",
          "2023-07-07T00:00:00.000000000",
          "2023-07-08T00:00:00.000000000",
          "2023-07-09T00:00:00.000000000",
          "2023-07-10T00:00:00.000000000",
          "2023-07-11T00:00:00.000000000",
          "2023-07-12T00:00:00.000000000",
          "2023-07-13T00:00:00.000000000",
          "2023-07-14T00:00:00.000000000",
          "2023-07-15T00:00:00.000000000",
          "2023-07-16T00:00:00.000000000",
          "2023-07-17T00:00:00.000000000",
          "2023-07-18T00:00:00.000000000",
          "2023-07-19T00:00:00.000000000",
          "2023-07-20T00:00:00.000000000",
          "2023-07-21T00:00:00.000000000",
          "2023-07-22T00:00:00.000000000",
          "2023-07-23T00:00:00.000000000",
          "2023-07-24T00:00:00.000000000",
          "2023-07-25T00:00:00.000000000",
          "2023-07-26T00:00:00.000000000",
          "2023-07-27T00:00:00.000000000",
          "2023-07-28T00:00:00.000000000",
          "2023-07-29T00:00:00.000000000",
          "2023-07-30T00:00:00.000000000",
          "2023-07-31T00:00:00.000000000",
          "2023-08-01T00:00:00.000000000",
          "2023-08-02T00:00:00.000000000",
          "2023-08-03T00:00:00.000000000",
          "2023-08-04T00:00:00.000000000",
          "2023-08-05T00:00:00.000000000",
          "2023-08-06T00:00:00.000000000",
          "2023-08-07T00:00:00.000000000",
          "2023-08-08T00:00:00.000000000",
          "2023-08-09T00:00:00.000000000",
          "2023-08-10T00:00:00.000000000",
          "2023-08-11T00:00:00.000000000",
          "2023-08-12T00:00:00.000000000",
          "2023-08-13T00:00:00.000000000",
          "2023-08-14T00:00:00.000000000",
          "2023-08-15T00:00:00.000000000",
          "2023-08-16T00:00:00.000000000",
          "2023-08-17T00:00:00.000000000",
          "2023-08-18T00:00:00.000000000",
          "2023-08-19T00:00:00.000000000",
          "2023-08-20T00:00:00.000000000",
          "2023-08-21T00:00:00.000000000",
          "2023-08-22T00:00:00.000000000",
          "2023-08-23T00:00:00.000000000",
          "2023-08-24T00:00:00.000000000",
          "2023-08-25T00:00:00.000000000",
          "2023-08-26T00:00:00.000000000",
          "2023-08-27T00:00:00.000000000",
          "2023-08-28T00:00:00.000000000",
          "2023-08-29T00:00:00.000000000",
          "2023-08-30T00:00:00.000000000",
          "2023-08-31T00:00:00.000000000",
          "2023-09-01T00:00:00.000000000",
          "2023-09-02T00:00:00.000000000",
          "2023-09-03T00:00:00.000000000",
          "2023-09-04T00:00:00.000000000",
          "2023-09-05T00:00:00.000000000",
          "2023-09-06T00:00:00.000000000",
          "2023-09-07T00:00:00.000000000",
          "2023-09-08T00:00:00.000000000",
          "2023-09-09T00:00:00.000000000",
          "2023-09-10T00:00:00.000000000",
          "2023-09-11T00:00:00.000000000",
          "2023-09-12T00:00:00.000000000",
          "2023-09-13T00:00:00.000000000",
          "2023-09-14T00:00:00.000000000",
          "2023-09-15T00:00:00.000000000",
          "2023-09-16T00:00:00.000000000",
          "2023-09-17T00:00:00.000000000",
          "2023-09-18T00:00:00.000000000",
          "2023-09-19T00:00:00.000000000",
          "2023-09-20T00:00:00.000000000",
          "2023-09-21T00:00:00.000000000",
          "2023-09-22T00:00:00.000000000",
          "2023-09-23T00:00:00.000000000",
          "2023-09-24T00:00:00.000000000",
          "2023-09-25T00:00:00.000000000",
          "2023-09-26T00:00:00.000000000",
          "2023-09-27T00:00:00.000000000",
          "2023-09-28T00:00:00.000000000",
          "2023-09-29T00:00:00.000000000",
          "2023-09-30T00:00:00.000000000",
          "2023-10-01T00:00:00.000000000",
          "2023-10-02T00:00:00.000000000",
          "2023-10-03T00:00:00.000000000",
          "2023-10-04T00:00:00.000000000",
          "2023-10-05T00:00:00.000000000",
          "2023-10-06T00:00:00.000000000",
          "2023-10-07T00:00:00.000000000",
          "2023-10-08T00:00:00.000000000",
          "2023-10-09T00:00:00.000000000",
          "2023-10-10T00:00:00.000000000",
          "2023-10-11T00:00:00.000000000",
          "2023-10-12T00:00:00.000000000",
          "2023-10-13T00:00:00.000000000",
          "2023-10-14T00:00:00.000000000",
          "2023-10-15T00:00:00.000000000",
          "2023-10-16T00:00:00.000000000",
          "2023-10-17T00:00:00.000000000",
          "2023-10-18T00:00:00.000000000",
          "2023-10-19T00:00:00.000000000",
          "2023-10-20T00:00:00.000000000",
          "2023-10-21T00:00:00.000000000",
          "2023-10-22T00:00:00.000000000",
          "2023-10-23T00:00:00.000000000",
          "2023-10-24T00:00:00.000000000",
          "2023-10-25T00:00:00.000000000",
          "2023-10-26T00:00:00.000000000",
          "2023-10-27T00:00:00.000000000",
          "2023-10-28T00:00:00.000000000",
          "2023-10-29T00:00:00.000000000",
          "2023-10-30T00:00:00.000000000",
          "2023-10-31T00:00:00.000000000",
          "2023-11-01T00:00:00.000000000",
          "2023-11-02T00:00:00.000000000",
          "2023-11-03T00:00:00.000000000",
          "2023-11-04T00:00:00.000000000",
          "2023-11-05T00:00:00.000000000",
          "2023-11-06T00:00:00.000000000",
          "2023-11-07T00:00:00.000000000",
          "2023-11-08T00:00:00.000000000",
          "2023-11-09T00:00:00.000000000",
          "2023-11-10T00:00:00.000000000",
          "2023-11-11T00:00:00.000000000",
          "2023-11-12T00:00:00.000000000",
          "2023-11-13T00:00:00.000000000",
          "2023-11-14T00:00:00.000000000",
          "2023-11-15T00:00:00.000000000",
          "2023-11-16T00:00:00.000000000",
          "2023-11-17T00:00:00.000000000",
          "2023-11-18T00:00:00.000000000",
          "2023-11-19T00:00:00.000000000",
          "2023-11-20T00:00:00.000000000",
          "2023-11-21T00:00:00.000000000",
          "2023-11-22T00:00:00.000000000",
          "2023-11-23T00:00:00.000000000",
          "2023-11-24T00:00:00.000000000",
          "2023-11-25T00:00:00.000000000",
          "2023-11-26T00:00:00.000000000",
          "2023-11-27T00:00:00.000000000",
          "2023-11-28T00:00:00.000000000",
          "2023-11-29T00:00:00.000000000",
          "2023-11-30T00:00:00.000000000",
          "2023-12-01T00:00:00.000000000",
          "2023-12-02T00:00:00.000000000",
          "2023-12-03T00:00:00.000000000",
          "2023-12-04T00:00:00.000000000",
          "2023-12-05T00:00:00.000000000",
          "2023-12-06T00:00:00.000000000",
          "2023-12-07T00:00:00.000000000",
          "2023-12-08T00:00:00.000000000",
          "2023-12-09T00:00:00.000000000",
          "2023-12-10T00:00:00.000000000",
          "2023-12-11T00:00:00.000000000",
          "2023-12-12T00:00:00.000000000",
          "2023-12-13T00:00:00.000000000",
          "2023-12-14T00:00:00.000000000",
          "2023-12-15T00:00:00.000000000",
          "2023-12-16T00:00:00.000000000",
          "2023-12-17T00:00:00.000000000",
          "2023-12-18T00:00:00.000000000",
          "2023-12-19T00:00:00.000000000",
          "2023-12-20T00:00:00.000000000",
          "2023-12-21T00:00:00.000000000",
          "2023-12-22T00:00:00.000000000",
          "2023-12-23T00:00:00.000000000",
          "2023-12-24T00:00:00.000000000",
          "2023-12-25T00:00:00.000000000",
          "2023-12-26T00:00:00.000000000",
          "2023-12-26T00:00:00.000000000",
          "2023-12-25T00:00:00.000000000",
          "2023-12-24T00:00:00.000000000",
          "2023-12-23T00:00:00.000000000",
          "2023-12-22T00:00:00.000000000",
          "2023-12-21T00:00:00.000000000",
          "2023-12-20T00:00:00.000000000",
          "2023-12-19T00:00:00.000000000",
          "2023-12-18T00:00:00.000000000",
          "2023-12-17T00:00:00.000000000",
          "2023-12-16T00:00:00.000000000",
          "2023-12-15T00:00:00.000000000",
          "2023-12-14T00:00:00.000000000",
          "2023-12-13T00:00:00.000000000",
          "2023-12-12T00:00:00.000000000",
          "2023-12-11T00:00:00.000000000",
          "2023-12-10T00:00:00.000000000",
          "2023-12-09T00:00:00.000000000",
          "2023-12-08T00:00:00.000000000",
          "2023-12-07T00:00:00.000000000",
          "2023-12-06T00:00:00.000000000",
          "2023-12-05T00:00:00.000000000",
          "2023-12-04T00:00:00.000000000",
          "2023-12-03T00:00:00.000000000",
          "2023-12-02T00:00:00.000000000",
          "2023-12-01T00:00:00.000000000",
          "2023-11-30T00:00:00.000000000",
          "2023-11-29T00:00:00.000000000",
          "2023-11-28T00:00:00.000000000",
          "2023-11-27T00:00:00.000000000",
          "2023-11-26T00:00:00.000000000",
          "2023-11-25T00:00:00.000000000",
          "2023-11-24T00:00:00.000000000",
          "2023-11-23T00:00:00.000000000",
          "2023-11-22T00:00:00.000000000",
          "2023-11-21T00:00:00.000000000",
          "2023-11-20T00:00:00.000000000",
          "2023-11-19T00:00:00.000000000",
          "2023-11-18T00:00:00.000000000",
          "2023-11-17T00:00:00.000000000",
          "2023-11-16T00:00:00.000000000",
          "2023-11-15T00:00:00.000000000",
          "2023-11-14T00:00:00.000000000",
          "2023-11-13T00:00:00.000000000",
          "2023-11-12T00:00:00.000000000",
          "2023-11-11T00:00:00.000000000",
          "2023-11-10T00:00:00.000000000",
          "2023-11-09T00:00:00.000000000",
          "2023-11-08T00:00:00.000000000",
          "2023-11-07T00:00:00.000000000",
          "2023-11-06T00:00:00.000000000",
          "2023-11-05T00:00:00.000000000",
          "2023-11-04T00:00:00.000000000",
          "2023-11-03T00:00:00.000000000",
          "2023-11-02T00:00:00.000000000",
          "2023-11-01T00:00:00.000000000",
          "2023-10-31T00:00:00.000000000",
          "2023-10-30T00:00:00.000000000",
          "2023-10-29T00:00:00.000000000",
          "2023-10-28T00:00:00.000000000",
          "2023-10-27T00:00:00.000000000",
          "2023-10-26T00:00:00.000000000",
          "2023-10-25T00:00:00.000000000",
          "2023-10-24T00:00:00.000000000",
          "2023-10-23T00:00:00.000000000",
          "2023-10-22T00:00:00.000000000",
          "2023-10-21T00:00:00.000000000",
          "2023-10-20T00:00:00.000000000",
          "2023-10-19T00:00:00.000000000",
          "2023-10-18T00:00:00.000000000",
          "2023-10-17T00:00:00.000000000",
          "2023-10-16T00:00:00.000000000",
          "2023-10-15T00:00:00.000000000",
          "2023-10-14T00:00:00.000000000",
          "2023-10-13T00:00:00.000000000",
          "2023-10-12T00:00:00.000000000",
          "2023-10-11T00:00:00.000000000",
          "2023-10-10T00:00:00.000000000",
          "2023-10-09T00:00:00.000000000",
          "2023-10-08T00:00:00.000000000",
          "2023-10-07T00:00:00.000000000",
          "2023-10-06T00:00:00.000000000",
          "2023-10-05T00:00:00.000000000",
          "2023-10-04T00:00:00.000000000",
          "2023-10-03T00:00:00.000000000",
          "2023-10-02T00:00:00.000000000",
          "2023-10-01T00:00:00.000000000",
          "2023-09-30T00:00:00.000000000",
          "2023-09-29T00:00:00.000000000",
          "2023-09-28T00:00:00.000000000",
          "2023-09-27T00:00:00.000000000",
          "2023-09-26T00:00:00.000000000",
          "2023-09-25T00:00:00.000000000",
          "2023-09-24T00:00:00.000000000",
          "2023-09-23T00:00:00.000000000",
          "2023-09-22T00:00:00.000000000",
          "2023-09-21T00:00:00.000000000",
          "2023-09-20T00:00:00.000000000",
          "2023-09-19T00:00:00.000000000",
          "2023-09-18T00:00:00.000000000",
          "2023-09-17T00:00:00.000000000",
          "2023-09-16T00:00:00.000000000",
          "2023-09-15T00:00:00.000000000",
          "2023-09-14T00:00:00.000000000",
          "2023-09-13T00:00:00.000000000",
          "2023-09-12T00:00:00.000000000",
          "2023-09-11T00:00:00.000000000",
          "2023-09-10T00:00:00.000000000",
          "2023-09-09T00:00:00.000000000",
          "2023-09-08T00:00:00.000000000",
          "2023-09-07T00:00:00.000000000",
          "2023-09-06T00:00:00.000000000",
          "2023-09-05T00:00:00.000000000",
          "2023-09-04T00:00:00.000000000",
          "2023-09-03T00:00:00.000000000",
          "2023-09-02T00:00:00.000000000",
          "2023-09-01T00:00:00.000000000",
          "2023-08-31T00:00:00.000000000",
          "2023-08-30T00:00:00.000000000",
          "2023-08-29T00:00:00.000000000",
          "2023-08-28T00:00:00.000000000",
          "2023-08-27T00:00:00.000000000",
          "2023-08-26T00:00:00.000000000",
          "2023-08-25T00:00:00.000000000",
          "2023-08-24T00:00:00.000000000",
          "2023-08-23T00:00:00.000000000",
          "2023-08-22T00:00:00.000000000",
          "2023-08-21T00:00:00.000000000",
          "2023-08-20T00:00:00.000000000",
          "2023-08-19T00:00:00.000000000",
          "2023-08-18T00:00:00.000000000",
          "2023-08-17T00:00:00.000000000",
          "2023-08-16T00:00:00.000000000",
          "2023-08-15T00:00:00.000000000",
          "2023-08-14T00:00:00.000000000",
          "2023-08-13T00:00:00.000000000",
          "2023-08-12T00:00:00.000000000",
          "2023-08-11T00:00:00.000000000",
          "2023-08-10T00:00:00.000000000",
          "2023-08-09T00:00:00.000000000",
          "2023-08-08T00:00:00.000000000",
          "2023-08-07T00:00:00.000000000",
          "2023-08-06T00:00:00.000000000",
          "2023-08-05T00:00:00.000000000",
          "2023-08-04T00:00:00.000000000",
          "2023-08-03T00:00:00.000000000",
          "2023-08-02T00:00:00.000000000",
          "2023-08-01T00:00:00.000000000",
          "2023-07-31T00:00:00.000000000",
          "2023-07-30T00:00:00.000000000",
          "2023-07-29T00:00:00.000000000",
          "2023-07-28T00:00:00.000000000",
          "2023-07-27T00:00:00.000000000",
          "2023-07-26T00:00:00.000000000",
          "2023-07-25T00:00:00.000000000",
          "2023-07-24T00:00:00.000000000",
          "2023-07-23T00:00:00.000000000",
          "2023-07-22T00:00:00.000000000",
          "2023-07-21T00:00:00.000000000",
          "2023-07-20T00:00:00.000000000",
          "2023-07-19T00:00:00.000000000",
          "2023-07-18T00:00:00.000000000",
          "2023-07-17T00:00:00.000000000",
          "2023-07-16T00:00:00.000000000",
          "2023-07-15T00:00:00.000000000",
          "2023-07-14T00:00:00.000000000",
          "2023-07-13T00:00:00.000000000",
          "2023-07-12T00:00:00.000000000",
          "2023-07-11T00:00:00.000000000",
          "2023-07-10T00:00:00.000000000",
          "2023-07-09T00:00:00.000000000",
          "2023-07-08T00:00:00.000000000",
          "2023-07-07T00:00:00.000000000",
          "2023-07-06T00:00:00.000000000",
          "2023-07-05T00:00:00.000000000",
          "2023-07-04T00:00:00.000000000",
          "2023-07-03T00:00:00.000000000",
          "2023-07-02T00:00:00.000000000",
          "2023-07-01T00:00:00.000000000",
          "2023-06-30T00:00:00.000000000",
          "2023-06-29T00:00:00.000000000",
          "2023-06-28T00:00:00.000000000",
          "2023-06-27T00:00:00.000000000",
          "2023-06-26T00:00:00.000000000",
          "2023-06-25T00:00:00.000000000",
          "2023-06-24T00:00:00.000000000",
          "2023-06-23T00:00:00.000000000",
          "2023-06-22T00:00:00.000000000",
          "2023-06-21T00:00:00.000000000",
          "2023-06-20T00:00:00.000000000",
          "2023-06-19T00:00:00.000000000",
          "2023-06-18T00:00:00.000000000",
          "2023-06-17T00:00:00.000000000",
          "2023-06-16T00:00:00.000000000",
          "2023-06-15T00:00:00.000000000",
          "2023-06-14T00:00:00.000000000",
          "2023-06-13T00:00:00.000000000",
          "2023-06-12T00:00:00.000000000",
          "2023-06-11T00:00:00.000000000",
          "2023-06-10T00:00:00.000000000",
          "2023-06-09T00:00:00.000000000",
          "2023-06-08T00:00:00.000000000",
          "2023-06-07T00:00:00.000000000",
          "2023-06-06T00:00:00.000000000",
          "2023-06-05T00:00:00.000000000",
          "2023-06-04T00:00:00.000000000",
          "2023-06-03T00:00:00.000000000",
          "2023-06-02T00:00:00.000000000",
          "2023-06-01T00:00:00.000000000",
          "2023-05-31T00:00:00.000000000",
          "2023-05-30T00:00:00.000000000",
          "2023-05-29T00:00:00.000000000",
          "2023-05-28T00:00:00.000000000",
          "2023-05-27T00:00:00.000000000",
          "2023-05-26T00:00:00.000000000",
          "2023-05-25T00:00:00.000000000",
          "2023-05-24T00:00:00.000000000",
          "2023-05-23T00:00:00.000000000",
          "2023-05-22T00:00:00.000000000",
          "2023-05-21T00:00:00.000000000",
          "2023-05-20T00:00:00.000000000",
          "2023-05-19T00:00:00.000000000",
          "2023-05-18T00:00:00.000000000",
          "2023-05-17T00:00:00.000000000",
          "2023-05-16T00:00:00.000000000",
          "2023-05-15T00:00:00.000000000",
          "2023-05-14T00:00:00.000000000",
          "2023-05-13T00:00:00.000000000",
          "2023-05-12T00:00:00.000000000",
          "2023-05-11T00:00:00.000000000",
          "2023-05-10T00:00:00.000000000",
          "2023-05-09T00:00:00.000000000",
          "2023-05-08T00:00:00.000000000",
          "2023-05-07T00:00:00.000000000",
          "2023-05-06T00:00:00.000000000",
          "2023-05-05T00:00:00.000000000",
          "2023-05-04T00:00:00.000000000",
          "2023-05-03T00:00:00.000000000",
          "2023-05-02T00:00:00.000000000",
          "2023-05-01T00:00:00.000000000",
          "2023-04-30T00:00:00.000000000",
          "2023-04-29T00:00:00.000000000",
          "2023-04-28T00:00:00.000000000",
          "2023-04-27T00:00:00.000000000",
          "2023-04-26T00:00:00.000000000",
          "2023-04-25T00:00:00.000000000",
          "2023-04-24T00:00:00.000000000",
          "2023-04-23T00:00:00.000000000",
          "2023-04-22T00:00:00.000000000",
          "2023-04-21T00:00:00.000000000",
          "2023-04-20T00:00:00.000000000",
          "2023-04-19T00:00:00.000000000",
          "2023-04-18T00:00:00.000000000",
          "2023-04-17T00:00:00.000000000",
          "2023-04-16T00:00:00.000000000",
          "2023-04-15T00:00:00.000000000",
          "2023-04-14T00:00:00.000000000",
          "2023-04-13T00:00:00.000000000",
          "2023-04-12T00:00:00.000000000",
          "2023-04-11T00:00:00.000000000",
          "2023-04-10T00:00:00.000000000",
          "2023-04-09T00:00:00.000000000",
          "2023-04-08T00:00:00.000000000",
          "2023-04-07T00:00:00.000000000",
          "2023-04-06T00:00:00.000000000",
          "2023-04-05T00:00:00.000000000",
          "2023-04-04T00:00:00.000000000",
          "2023-04-03T00:00:00.000000000",
          "2023-04-02T00:00:00.000000000",
          "2023-04-01T00:00:00.000000000",
          "2023-03-31T00:00:00.000000000",
          "2023-03-30T00:00:00.000000000",
          "2023-03-29T00:00:00.000000000",
          "2023-03-28T00:00:00.000000000",
          "2023-03-27T00:00:00.000000000",
          "2023-03-26T00:00:00.000000000",
          "2023-03-25T00:00:00.000000000",
          "2023-03-24T00:00:00.000000000",
          "2023-03-23T00:00:00.000000000",
          "2023-03-22T00:00:00.000000000",
          "2023-03-21T00:00:00.000000000",
          "2023-03-20T00:00:00.000000000",
          "2023-03-19T00:00:00.000000000",
          "2023-03-18T00:00:00.000000000",
          "2023-03-17T00:00:00.000000000",
          "2023-03-16T00:00:00.000000000",
          "2023-03-15T00:00:00.000000000",
          "2023-03-14T00:00:00.000000000",
          "2023-03-13T00:00:00.000000000",
          "2023-03-12T00:00:00.000000000",
          "2023-03-11T00:00:00.000000000",
          "2023-03-10T00:00:00.000000000",
          "2023-03-09T00:00:00.000000000",
          "2023-03-08T00:00:00.000000000",
          "2023-03-07T00:00:00.000000000",
          "2023-03-06T00:00:00.000000000",
          "2023-03-05T00:00:00.000000000",
          "2023-03-04T00:00:00.000000000",
          "2023-03-03T00:00:00.000000000",
          "2023-03-02T00:00:00.000000000",
          "2023-03-01T00:00:00.000000000",
          "2023-02-28T00:00:00.000000000",
          "2023-02-27T00:00:00.000000000",
          "2023-02-26T00:00:00.000000000",
          "2023-02-25T00:00:00.000000000",
          "2023-02-24T00:00:00.000000000",
          "2023-02-23T00:00:00.000000000",
          "2023-02-22T00:00:00.000000000",
          "2023-02-21T00:00:00.000000000",
          "2023-02-20T00:00:00.000000000",
          "2023-02-19T00:00:00.000000000",
          "2023-02-18T00:00:00.000000000",
          "2023-02-17T00:00:00.000000000",
          "2023-02-16T00:00:00.000000000",
          "2023-02-15T00:00:00.000000000",
          "2023-02-14T00:00:00.000000000",
          "2023-02-13T00:00:00.000000000",
          "2023-02-12T00:00:00.000000000",
          "2023-02-11T00:00:00.000000000",
          "2023-02-10T00:00:00.000000000",
          "2023-02-09T00:00:00.000000000",
          "2023-02-08T00:00:00.000000000",
          "2023-02-07T00:00:00.000000000",
          "2023-02-06T00:00:00.000000000",
          "2023-02-05T00:00:00.000000000",
          "2023-02-04T00:00:00.000000000",
          "2023-02-03T00:00:00.000000000",
          "2023-02-02T00:00:00.000000000",
          "2023-02-01T00:00:00.000000000",
          "2023-01-31T00:00:00.000000000",
          "2023-01-30T00:00:00.000000000",
          "2023-01-29T00:00:00.000000000",
          "2023-01-28T00:00:00.000000000",
          "2023-01-27T00:00:00.000000000",
          "2023-01-26T00:00:00.000000000",
          "2023-01-25T00:00:00.000000000",
          "2023-01-24T00:00:00.000000000",
          "2023-01-23T00:00:00.000000000",
          "2023-01-22T00:00:00.000000000",
          "2023-01-21T00:00:00.000000000",
          "2023-01-20T00:00:00.000000000",
          "2023-01-19T00:00:00.000000000",
          "2023-01-18T00:00:00.000000000",
          "2023-01-17T00:00:00.000000000",
          "2023-01-16T00:00:00.000000000",
          "2023-01-15T00:00:00.000000000",
          "2023-01-14T00:00:00.000000000",
          "2023-01-13T00:00:00.000000000",
          "2023-01-12T00:00:00.000000000",
          "2023-01-11T00:00:00.000000000",
          "2023-01-10T00:00:00.000000000",
          "2023-01-09T00:00:00.000000000",
          "2023-01-08T00:00:00.000000000",
          "2023-01-07T00:00:00.000000000",
          "2023-01-06T00:00:00.000000000",
          "2023-01-05T00:00:00.000000000",
          "2023-01-04T00:00:00.000000000",
          "2023-01-03T00:00:00.000000000",
          "2023-01-02T00:00:00.000000000",
          "2023-01-01T00:00:00.000000000"
         ],
         "xaxis": "x",
         "y": {
          "bdata": "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",
          "dtype": "f8"
         },
         "yaxis": "y"
        },
        {
         "line": {
          "color": "black",
          "dash": "dash",
          "width": 1
         },
         "marker": {
          "color": "black",
          "size": 4,
          "symbol": "x"
         },
         "mode": "lines+markers",
         "name": "Observed day layer 0",
         "type": "scatter",
         "x": [
          "2023-01-01T00:00:00.000000000",
          "2023-01-02T00:00:00.000000000",
          "2023-01-03T00:00:00.000000000",
          "2023-01-04T00:00:00.000000000",
          "2023-01-05T00:00:00.000000000",
          "2023-01-06T00:00:00.000000000",
          "2023-01-07T00:00:00.000000000",
          "2023-01-08T00:00:00.000000000",
          "2023-01-09T00:00:00.000000000",
          "2023-01-10T00:00:00.000000000",
          "2023-01-11T00:00:00.000000000",
          "2023-01-12T00:00:00.000000000",
          "2023-01-13T00:00:00.000000000",
          "2023-01-14T00:00:00.000000000",
          "2023-01-15T00:00:00.000000000",
          "2023-01-16T00:00:00.000000000",
          "2023-01-17T00:00:00.000000000",
          "2023-01-18T00:00:00.000000000",
          "2023-01-19T00:00:00.000000000",
          "2023-01-20T00:00:00.000000000",
          "2023-01-21T00:00:00.000000000",
          "2023-01-22T00:00:00.000000000",
          "2023-01-23T00:00:00.000000000",
          "2023-01-24T00:00:00.000000000",
          "2023-01-25T00:00:00.000000000",
          "2023-01-26T00:00:00.000000000",
          "2023-01-27T00:00:00.000000000",
          "2023-01-28T00:00:00.000000000",
          "2023-01-29T00:00:00.000000000",
          "2023-01-30T00:00:00.000000000",
          "2023-01-31T00:00:00.000000000",
          "2023-02-01T00:00:00.000000000",
          "2023-02-02T00:00:00.000000000",
          "2023-02-03T00:00:00.000000000",
          "2023-02-04T00:00:00.000000000",
          "2023-02-05T00:00:00.000000000",
          "2023-02-06T00:00:00.000000000",
          "2023-02-07T00:00:00.000000000",
          "2023-02-08T00:00:00.000000000",
          "2023-02-09T00:00:00.000000000",
          "2023-02-10T00:00:00.000000000",
          "2023-02-11T00:00:00.000000000",
          "2023-02-12T00:00:00.000000000",
          "2023-02-13T00:00:00.000000000",
          "2023-02-14T00:00:00.000000000",
          "2023-02-15T00:00:00.000000000",
          "2023-02-16T00:00:00.000000000",
          "2023-02-17T00:00:00.000000000",
          "2023-02-18T00:00:00.000000000",
          "2023-02-19T00:00:00.000000000",
          "2023-02-20T00:00:00.000000000",
          "2023-02-21T00:00:00.000000000",
          "2023-02-22T00:00:00.000000000",
          "2023-02-23T00:00:00.000000000",
          "2023-02-24T00:00:00.000000000",
          "2023-02-25T00:00:00.000000000",
          "2023-02-26T00:00:00.000000000",
          "2023-02-27T00:00:00.000000000",
          "2023-02-28T00:00:00.000000000",
          "2023-03-01T00:00:00.000000000",
          "2023-03-02T00:00:00.000000000",
          "2023-03-03T00:00:00.000000000",
          "2023-03-04T00:00:00.000000000",
          "2023-03-05T00:00:00.000000000",
          "2023-03-06T00:00:00.000000000",
          "2023-03-07T00:00:00.000000000",
          "2023-03-08T00:00:00.000000000",
          "2023-03-09T00:00:00.000000000",
          "2023-03-10T00:00:00.000000000",
          "2023-03-11T00:00:00.000000000",
          "2023-03-12T00:00:00.000000000",
          "2023-03-13T00:00:00.000000000",
          "2023-03-14T00:00:00.000000000",
          "2023-03-15T00:00:00.000000000",
          "2023-03-16T00:00:00.000000000",
          "2023-03-17T00:00:00.000000000",
          "2023-03-18T00:00:00.000000000",
          "2023-03-19T00:00:00.000000000",
          "2023-03-20T00:00:00.000000000",
          "2023-03-21T00:00:00.000000000",
          "2023-03-22T00:00:00.000000000",
          "2023-03-23T00:00:00.000000000",
          "2023-03-24T00:00:00.000000000",
          "2023-03-25T00:00:00.000000000",
          "2023-03-26T00:00:00.000000000",
          "2023-03-27T00:00:00.000000000",
          "2023-03-28T00:00:00.000000000",
          "2023-03-29T00:00:00.000000000",
          "2023-03-30T00:00:00.000000000",
          "2023-03-31T00:00:00.000000000",
          "2023-04-01T00:00:00.000000000",
          "2023-04-02T00:00:00.000000000",
          "2023-04-03T00:00:00.000000000",
          "2023-04-04T00:00:00.000000000",
          "2023-04-05T00:00:00.000000000",
          "2023-04-06T00:00:00.000000000",
          "2023-04-07T00:00:00.000000000",
          "2023-04-08T00:00:00.000000000",
          "2023-04-09T00:00:00.000000000",
          "2023-04-10T00:00:00.000000000",
          "2023-04-11T00:00:00.000000000",
          "2023-04-12T00:00:00.000000000",
          "2023-04-13T00:00:00.000000000",
          "2023-04-14T00:00:00.000000000",
          "2023-04-15T00:00:00.000000000",
          "2023-04-16T00:00:00.000000000",
          "2023-04-17T00:00:00.000000000",
          "2023-04-18T00:00:00.000000000",
          "2023-04-19T00:00:00.000000000",
          "2023-04-20T00:00:00.000000000",
          "2023-04-21T00:00:00.000000000",
          "2023-04-22T00:00:00.000000000",
          "2023-04-23T00:00:00.000000000",
          "2023-04-24T00:00:00.000000000",
          "2023-04-25T00:00:00.000000000",
          "2023-04-26T00:00:00.000000000",
          "2023-04-27T00:00:00.000000000",
          "2023-04-28T00:00:00.000000000",
          "2023-04-29T00:00:00.000000000",
          "2023-04-30T00:00:00.000000000",
          "2023-05-01T00:00:00.000000000",
          "2023-05-02T00:00:00.000000000",
          "2023-05-03T00:00:00.000000000",
          "2023-05-04T00:00:00.000000000",
          "2023-05-05T00:00:00.000000000",
          "2023-05-06T00:00:00.000000000",
          "2023-05-07T00:00:00.000000000",
          "2023-05-08T00:00:00.000000000",
          "2023-05-09T00:00:00.000000000",
          "2023-05-10T00:00:00.000000000",
          "2023-05-11T00:00:00.000000000",
          "2023-05-12T00:00:00.000000000",
          "2023-05-13T00:00:00.000000000",
          "2023-05-14T00:00:00.000000000",
          "2023-05-15T00:00:00.000000000",
          "2023-05-16T00:00:00.000000000",
          "2023-05-17T00:00:00.000000000",
          "2023-05-18T00:00:00.000000000",
          "2023-05-19T00:00:00.000000000",
          "2023-05-20T00:00:00.000000000",
          "2023-05-21T00:00:00.000000000",
          "2023-05-22T00:00:00.000000000",
          "2023-05-23T00:00:00.000000000",
          "2023-05-24T00:00:00.000000000",
          "2023-05-25T00:00:00.000000000",
          "2023-05-26T00:00:00.000000000",
          "2023-05-27T00:00:00.000000000",
          "2023-05-28T00:00:00.000000000",
          "2023-05-29T00:00:00.000000000",
          "2023-05-30T00:00:00.000000000",
          "2023-05-31T00:00:00.000000000",
          "2023-06-01T00:00:00.000000000",
          "2023-06-02T00:00:00.000000000",
          "2023-06-03T00:00:00.000000000",
          "2023-06-04T00:00:00.000000000",
          "2023-06-05T00:00:00.000000000",
          "2023-06-06T00:00:00.000000000",
          "2023-06-07T00:00:00.000000000",
          "2023-06-08T00:00:00.000000000",
          "2023-06-09T00:00:00.000000000",
          "2023-06-10T00:00:00.000000000",
          "2023-06-11T00:00:00.000000000",
          "2023-06-12T00:00:00.000000000",
          "2023-06-13T00:00:00.000000000",
          "2023-06-14T00:00:00.000000000",
          "2023-06-15T00:00:00.000000000",
          "2023-06-16T00:00:00.000000000",
          "2023-06-17T00:00:00.000000000",
          "2023-06-18T00:00:00.000000000",
          "2023-06-19T00:00:00.000000000",
          "2023-06-20T00:00:00.000000000",
          "2023-06-21T00:00:00.000000000",
          "2023-06-22T00:00:00.000000000",
          "2023-06-23T00:00:00.000000000",
          "2023-06-24T00:00:00.000000000",
          "2023-06-25T00:00:00.000000000",
          "2023-06-26T00:00:00.000000000",
          "2023-06-27T00:00:00.000000000",
          "2023-06-28T00:00:00.000000000",
          "2023-06-29T00:00:00.000000000",
          "2023-06-30T00:00:00.000000000",
          "2023-07-01T00:00:00.000000000",
          "2023-07-02T00:00:00.000000000",
          "2023-07-03T00:00:00.000000000",
          "2023-07-04T00:00:00.000000000",
          "2023-07-05T00:00:00.000000000",
          "2023-07-06T00:00:00.000000000",
          "2023-07-07T00:00:00.000000000",
          "2023-07-08T00:00:00.000000000",
          "2023-07-09T00:00:00.000000000",
          "2023-07-10T00:00:00.000000000",
          "2023-07-11T00:00:00.000000000",
          "2023-07-12T00:00:00.000000000",
          "2023-07-13T00:00:00.000000000",
          "2023-07-14T00:00:00.000000000",
          "2023-07-15T00:00:00.000000000",
          "2023-07-16T00:00:00.000000000",
          "2023-07-17T00:00:00.000000000",
          "2023-07-18T00:00:00.000000000",
          "2023-07-19T00:00:00.000000000",
          "2023-07-20T00:00:00.000000000",
          "2023-07-21T00:00:00.000000000",
          "2023-07-22T00:00:00.000000000",
          "2023-07-23T00:00:00.000000000",
          "2023-07-24T00:00:00.000000000",
          "2023-07-25T00:00:00.000000000",
          "2023-07-26T00:00:00.000000000",
          "2023-07-27T00:00:00.000000000",
          "2023-07-28T00:00:00.000000000",
          "2023-07-29T00:00:00.000000000",
          "2023-07-30T00:00:00.000000000",
          "2023-07-31T00:00:00.000000000",
          "2023-08-01T00:00:00.000000000",
          "2023-08-02T00:00:00.000000000",
          "2023-08-03T00:00:00.000000000",
          "2023-08-04T00:00:00.000000000",
          "2023-08-05T00:00:00.000000000",
          "2023-08-06T00:00:00.000000000",
          "2023-08-07T00:00:00.000000000",
          "2023-08-08T00:00:00.000000000",
          "2023-08-09T00:00:00.000000000",
          "2023-08-10T00:00:00.000000000",
          "2023-08-11T00:00:00.000000000",
          "2023-08-12T00:00:00.000000000",
          "2023-08-13T00:00:00.000000000",
          "2023-08-14T00:00:00.000000000",
          "2023-08-15T00:00:00.000000000",
          "2023-08-16T00:00:00.000000000",
          "2023-08-17T00:00:00.000000000",
          "2023-08-18T00:00:00.000000000",
          "2023-08-19T00:00:00.000000000",
          "2023-08-20T00:00:00.000000000",
          "2023-08-21T00:00:00.000000000",
          "2023-08-22T00:00:00.000000000",
          "2023-08-23T00:00:00.000000000",
          "2023-08-24T00:00:00.000000000",
          "2023-08-25T00:00:00.000000000",
          "2023-08-26T00:00:00.000000000",
          "2023-08-27T00:00:00.000000000",
          "2023-08-28T00:00:00.000000000",
          "2023-08-29T00:00:00.000000000",
          "2023-08-30T00:00:00.000000000",
          "2023-08-31T00:00:00.000000000",
          "2023-09-01T00:00:00.000000000",
          "2023-09-02T00:00:00.000000000",
          "2023-09-03T00:00:00.000000000",
          "2023-09-04T00:00:00.000000000",
          "2023-09-05T00:00:00.000000000",
          "2023-09-06T00:00:00.000000000",
          "2023-09-07T00:00:00.000000000",
          "2023-09-08T00:00:00.000000000",
          "2023-09-09T00:00:00.000000000",
          "2023-09-10T00:00:00.000000000",
          "2023-09-11T00:00:00.000000000",
          "2023-09-12T00:00:00.000000000",
          "2023-09-13T00:00:00.000000000",
          "2023-09-14T00:00:00.000000000",
          "2023-09-15T00:00:00.000000000",
          "2023-09-16T00:00:00.000000000",
          "2023-09-17T00:00:00.000000000",
          "2023-09-18T00:00:00.000000000",
          "2023-09-19T00:00:00.000000000",
          "2023-09-20T00:00:00.000000000",
          "2023-09-21T00:00:00.000000000",
          "2023-09-22T00:00:00.000000000",
          "2023-09-23T00:00:00.000000000",
          "2023-09-24T00:00:00.000000000",
          "2023-09-25T00:00:00.000000000",
          "2023-09-26T00:00:00.000000000",
          "2023-09-27T00:00:00.000000000",
          "2023-09-28T00:00:00.000000000",
          "2023-09-29T00:00:00.000000000",
          "2023-09-30T00:00:00.000000000",
          "2023-10-01T00:00:00.000000000",
          "2023-10-02T00:00:00.000000000",
          "2023-10-03T00:00:00.000000000",
          "2023-10-04T00:00:00.000000000",
          "2023-10-05T00:00:00.000000000",
          "2023-10-06T00:00:00.000000000",
          "2023-10-07T00:00:00.000000000",
          "2023-10-08T00:00:00.000000000",
          "2023-10-09T00:00:00.000000000",
          "2023-10-10T00:00:00.000000000",
          "2023-10-11T00:00:00.000000000",
          "2023-10-12T00:00:00.000000000",
          "2023-10-13T00:00:00.000000000",
          "2023-10-14T00:00:00.000000000",
          "2023-10-15T00:00:00.000000000",
          "2023-10-16T00:00:00.000000000",
          "2023-10-17T00:00:00.000000000",
          "2023-10-18T00:00:00.000000000",
          "2023-10-19T00:00:00.000000000",
          "2023-10-20T00:00:00.000000000",
          "2023-10-21T00:00:00.000000000",
          "2023-10-22T00:00:00.000000000",
          "2023-10-23T00:00:00.000000000",
          "2023-10-24T00:00:00.000000000",
          "2023-10-25T00:00:00.000000000",
          "2023-10-26T00:00:00.000000000",
          "2023-10-27T00:00:00.000000000",
          "2023-10-28T00:00:00.000000000",
          "2023-10-29T00:00:00.000000000",
          "2023-10-30T00:00:00.000000000",
          "2023-10-31T00:00:00.000000000",
          "2023-11-01T00:00:00.000000000",
          "2023-11-02T00:00:00.000000000",
          "2023-11-03T00:00:00.000000000",
          "2023-11-04T00:00:00.000000000",
          "2023-11-05T00:00:00.000000000",
          "2023-11-06T00:00:00.000000000",
          "2023-11-07T00:00:00.000000000",
          "2023-11-08T00:00:00.000000000",
          "2023-11-09T00:00:00.000000000",
          "2023-11-10T00:00:00.000000000",
          "2023-11-11T00:00:00.000000000",
          "2023-11-12T00:00:00.000000000",
          "2023-11-13T00:00:00.000000000",
          "2023-11-14T00:00:00.000000000",
          "2023-11-15T00:00:00.000000000",
          "2023-11-16T00:00:00.000000000",
          "2023-11-17T00:00:00.000000000",
          "2023-11-18T00:00:00.000000000",
          "2023-11-19T00:00:00.000000000",
          "2023-11-20T00:00:00.000000000",
          "2023-11-21T00:00:00.000000000",
          "2023-11-22T00:00:00.000000000",
          "2023-11-23T00:00:00.000000000",
          "2023-11-24T00:00:00.000000000",
          "2023-11-25T00:00:00.000000000",
          "2023-11-26T00:00:00.000000000",
          "2023-11-27T00:00:00.000000000",
          "2023-11-28T00:00:00.000000000",
          "2023-11-29T00:00:00.000000000",
          "2023-11-30T00:00:00.000000000",
          "2023-12-01T00:00:00.000000000",
          "2023-12-02T00:00:00.000000000",
          "2023-12-03T00:00:00.000000000",
          "2023-12-04T00:00:00.000000000",
          "2023-12-05T00:00:00.000000000",
          "2023-12-06T00:00:00.000000000",
          "2023-12-07T00:00:00.000000000",
          "2023-12-08T00:00:00.000000000",
          "2023-12-09T00:00:00.000000000",
          "2023-12-10T00:00:00.000000000",
          "2023-12-11T00:00:00.000000000",
          "2023-12-12T00:00:00.000000000",
          "2023-12-13T00:00:00.000000000",
          "2023-12-14T00:00:00.000000000",
          "2023-12-15T00:00:00.000000000",
          "2023-12-16T00:00:00.000000000",
          "2023-12-17T00:00:00.000000000",
          "2023-12-18T00:00:00.000000000",
          "2023-12-19T00:00:00.000000000",
          "2023-12-20T00:00:00.000000000",
          "2023-12-21T00:00:00.000000000",
          "2023-12-22T00:00:00.000000000",
          "2023-12-23T00:00:00.000000000",
          "2023-12-24T00:00:00.000000000",
          "2023-12-25T00:00:00.000000000",
          "2023-12-26T00:00:00.000000000"
         ],
         "xaxis": "x",
         "y": {
          "bdata": "AAAAAICELkEAAAAAgIQuQQAAAACAhC5BAAAAAICELkEAAAAAgIQuQQAAAACAhC5BAAAAAICELkEAAAAAgIQuQQAAAACAhC5BAAAAAICELkEAAAAAgIQuQQAAAACAhC5BAAAAAICELkEAAAAAgIQuQQAAAACAhC5BAAAAAICELkEAAAAAgIQuQQAAAACAhC5BAAAAAICELkEAAAAAgIQuQQAAAACAhC5BAAAAAICELkEAAAAAgIQuQQAAAACAhC5BAAAAAICELkEAAAAAgIQuQQAAAACAhC5BAAAAAICELkEAAAAAgIQuQQAAAACAhC5BAAAAAICELkEAAAAAgIQuQQAAAACAhC5BAAAAAICELkEAAAAAgIQuQQAAAACAhC5BAAAAAICELkEAAAAAgIQuQQAAAACAhC5BAAAAAICELkEAAAAAgIQuQQAAAACAhC5BAAAAAICELkEAAAAAgIQuQQAAAACAhC5BAAAAAICELkEAAAAAgIQuQQAAAACAhC5BAAAAAICELkEAAAAAgIQuQQAAAACAhC5BAAAAAICELkEAAAAAgIQuQQAAAACAhC5BAAAAAICELkEAAAAAgIQuQQAAAACAhC5BAAAAAICELkEAAAAAgIQuQQAAAACAhC5BAAAAAICELkEAAAAAgIQuQQAAAACAhC5BAAAAAICELkEAAAAAgIQuQQAAAACAhC5BAAAAAICELkEAAAAAgIQuQQAAAACAhC5BAAAAAICELkEAAAAAgIQuQQAAAACAhC5BAAAAAICELkEAAAAAgIQuQQAAAACAhC5BAAAAAICELkEAAAAAgIQuQQAAAACAhC5BAAAAAICELkEAAAAAgIQuQQAAAACAhC5BAAAAAICELkEAAAAAgIQuQQAAAACAhC5BAAAAAICELkEAAAAAgIQuQQAAAACAhC5BAAAAAICELkEAAAAAgIQuQQAAAACAhC5BAAAAAICELkEAAAAAgIQuQQAAAACAhC5BAAAAAICELkEAAAAAgIQuQQAAAACAhC5BAAAAAICELkEAAAAAgIQuQQAAAACAhC5BAAAAAICELkEAAAAAgIQuQQAAAACAhC5BAAAAAICELkEAAAAAgIQuQQAAAACAhC5BAAAAAICELkEAAAAAgIQuQQAAAACAhC5BAAAAAICELkEAAAAAgIQuQQAAAACAhC5BAAAAAICELkEAAAAAgIQuQQAAAACAhC5BAAAAAICELkEAAAAAgIQuQQAAAACAhC5BAAAAAICELkEAAAAAgIQuQQAAAACAhC5BAAAAAICELkEAAAAAgIQuQQAAAACAhC5BAAAAAICELkEAAAAAgIQuQQAAAACAhC5BAAAAAICELkEAAAAAgIQuQQAAAACAhC5BAAAAAICELkEAAAAAgIQuQQAAAACAhC5BAAAAAICELkEAAAAAgIQuQQAAAACAhC5BAAAAAICELkEAAAAAgIQuQQAAAACAhC5BAAAAAICELkEAAAAAgIQuQQAAAACAhC5BAAAAAICELkEAAAAAgIQuQQAAAACAhC5BAAAAAICELkEAAAAAgIQuQQAAAACAhC5BAAAAAICELkEAAAAAgIQuQQAAAACAhC5BAAAAAICELkEAAAAAgIQuQQAAAACAhC5BAAAAAICELkEAAAAAgIQuQQAAAACAhC5BAAAAAICELkEAAAAAgIQuQQAAAACAhC5BAAAAAICELkEAAAAAgIQuQQAAAACAhC5BAAAAAICELkEAAAAAgIQuQQAAAACAhC5BAAAAAICELkEAAAAAgIQuQQAAAACAhC5BAAAAAICELkEAAAAAgIQuQQAAAACAhC5BAAAAAICELkEAAAAAgIQuQQAAAACAhC5BAAAAAICELkEAAAAAgIQuQQAAAACAhC5BAAAAAICELkEAAAAAgIQuQQAAAACAhC5BAAAAAICELkEAAAAAgIQuQQAAAACAhC5BAAAAAICELkEAAAAAgIQuQQAAAACAhC5BAAAAAICELkEAAAAAgIQuQQAAAACAhC5BAAAAAICELkEAAAAAgIQuQQAAAACAhC5BAAAAAICELkEAAAAAgIQuQQAAAACAhC5BAAAAAICELkEAAAAAgIQuQQAAAACAhC5BAAAAAICELkEAAAAAgIQuQQAAAACAhC5BAAAAAICELkEAAAAAgIQuQQAAAACAhC5BAAAAAICELkEAAAAAgIQuQQAAAACAhC5BAAAAAICELkEAAAAAgIQuQQAAAACAhC5BAAAAAICELkEAAAAAgIQuQQAAAACAhC5BAAAAAICELkEAAAAAgIQuQQAAAACAhC5BAAAAAICELkEAAAAAgIQuQQAAAACAhC5BAAAAAICELkEAAAAAgIQuQQAAAACAhC5BAAAAAICELkEAAAAAgIQuQQAAAACAhC5BAAAAAICELkEAAAAAgIQuQQAAAACAhC5BAAAAAICELkEAAAAAgIQuQQAAAACAhC5BAAAAAICELkEAAAAAgIQuQQAAAACAhC5BAAAAAICELkEAAAAAgIQuQQAAAACAhC5BAAAAAICELkEAAAAAgIQuQQAAAACAhC5BAAAAAICELkEAAAAAgIQuQQAAAACAhC5BAAAAAICELkEAAAAAgIQuQQAAAACAhC5BAAAAAICELkEAAAAAgIQuQQAAAACAhC5BAAAAAICELkEAAAAAgIQuQQAAAACAhC5BAAAAAICELkEAAAAAgIQuQQAAAACAhC5BAAAAAICELkEAAAAAgIQuQQAAAACAhC5BAAAAAICELkEAAAAAgIQuQQAAAACAhC5BAAAAAICELkEAAAAAgIQuQQAAAACAhC5BAAAAAICELkEAAAAAgIQuQQAAAACAhC5BAAAAAICELkEAAAAAgIQuQQAAAACAhC5BAAAAAICELkEAAAAAgIQuQQAAAACAhC5BAAAAAICELkEAAAAAgIQuQQAAAACAhC5BAAAAAICELkEAAAAAgIQuQQAAAACAhC5BAAAAAICELkEAAAAAgIQuQQAAAACAhC5BAAAAAICELkEAAAAAgIQuQQAAAACAhC5BAAAAAICELkEAAAAAgIQuQQAAAACAhC5BAAAAAICELkEAAAAAgIQuQQAAAACAhC5BAAAAAICELkEAAAAAgIQuQQAAAACAhC5BAAAAAICELkEAAAAAgIQuQQAAAACAhC5BAAAAAICELkEAAAAAgIQuQQAAAACAhC5BAAAAAICELkEAAAAAgIQuQQAAAACAhC5BAAAAAICELkEAAAAAgIQuQQAAAACAhC5BAAAAAICELkEAAAAAgIQuQQAAAACAhC5BAAAAAICELkEAAAAAgIQuQQAAAACAhC5BAAAAAICELkEAAAAAgIQuQQAAAACAhC5BAAAAAICELkEAAAAAgIQuQQAAAACAhC5BAAAAAICELkEAAAAAgIQuQQAAAACAhC5BAAAAAICELkEAAAAAgIQuQQAAAACAhC5BAAAAAICELkEAAAAAgIQuQQAAAACAhC5BAAAAAICELkEAAAAAgIQuQQAAAACAhC5BAAAAAICELkEAAAAAgIQuQQAAAACAhC5BAAAAAICELkEAAAAAgIQuQQAAAACAhC5BAAAAAICELkEAAAAAgIQuQQAAAACAhC5BAAAAAICELkEAAAAAgIQuQQAAAACAhC5BAAAAAICELkEAAAAAgIQuQQAAAACAhC5BAAAAAICELkEAAAAAgIQuQQAAAACAhC5BAAAAAICELkEAAAAAgIQuQQAAAACAhC5BAAAAAICELkEAAAAAgIQuQQAAAACAhC5BAAAAAICELkEAAAAAgIQuQQAAAACAhC5BAAAAAICELkEAAAAAgIQuQQAAAACAhC5B",
          "dtype": "f8"
         },
         "yaxis": "y"
        },
        {
         "line": {
          "color": "firebrick",
          "dash": "solid",
          "width": 2
         },
         "mode": "lines",
         "name": "Predicted day layer 1",
         "type": "scatter",
         "x": [
          "2023-01-01T00:00:00.000000000",
          "2023-01-02T00:00:00.000000000",
          "2023-01-03T00:00:00.000000000",
          "2023-01-04T00:00:00.000000000",
          "2023-01-05T00:00:00.000000000",
          "2023-01-06T00:00:00.000000000",
          "2023-01-07T00:00:00.000000000",
          "2023-01-08T00:00:00.000000000",
          "2023-01-09T00:00:00.000000000",
          "2023-01-10T00:00:00.000000000",
          "2023-01-11T00:00:00.000000000",
          "2023-01-12T00:00:00.000000000",
          "2023-01-13T00:00:00.000000000",
          "2023-01-14T00:00:00.000000000",
          "2023-01-15T00:00:00.000000000",
          "2023-01-16T00:00:00.000000000",
          "2023-01-17T00:00:00.000000000",
          "2023-01-18T00:00:00.000000000",
          "2023-01-19T00:00:00.000000000",
          "2023-01-20T00:00:00.000000000",
          "2023-01-21T00:00:00.000000000",
          "2023-01-22T00:00:00.000000000",
          "2023-01-23T00:00:00.000000000",
          "2023-01-24T00:00:00.000000000",
          "2023-01-25T00:00:00.000000000",
          "2023-01-26T00:00:00.000000000",
          "2023-01-27T00:00:00.000000000",
          "2023-01-28T00:00:00.000000000",
          "2023-01-29T00:00:00.000000000",
          "2023-01-30T00:00:00.000000000",
          "2023-01-31T00:00:00.000000000",
          "2023-02-01T00:00:00.000000000",
          "2023-02-02T00:00:00.000000000",
          "2023-02-03T00:00:00.000000000",
          "2023-02-04T00:00:00.000000000",
          "2023-02-05T00:00:00.000000000",
          "2023-02-06T00:00:00.000000000",
          "2023-02-07T00:00:00.000000000",
          "2023-02-08T00:00:00.000000000",
          "2023-02-09T00:00:00.000000000",
          "2023-02-10T00:00:00.000000000",
          "2023-02-11T00:00:00.000000000",
          "2023-02-12T00:00:00.000000000",
          "2023-02-13T00:00:00.000000000",
          "2023-02-14T00:00:00.000000000",
          "2023-02-15T00:00:00.000000000",
          "2023-02-16T00:00:00.000000000",
          "2023-02-17T00:00:00.000000000",
          "2023-02-18T00:00:00.000000000",
          "2023-02-19T00:00:00.000000000",
          "2023-02-20T00:00:00.000000000",
          "2023-02-21T00:00:00.000000000",
          "2023-02-22T00:00:00.000000000",
          "2023-02-23T00:00:00.000000000",
          "2023-02-24T00:00:00.000000000",
          "2023-02-25T00:00:00.000000000",
          "2023-02-26T00:00:00.000000000",
          "2023-02-27T00:00:00.000000000",
          "2023-02-28T00:00:00.000000000",
          "2023-03-01T00:00:00.000000000",
          "2023-03-02T00:00:00.000000000",
          "2023-03-03T00:00:00.000000000",
          "2023-03-04T00:00:00.000000000",
          "2023-03-05T00:00:00.000000000",
          "2023-03-06T00:00:00.000000000",
          "2023-03-07T00:00:00.000000000",
          "2023-03-08T00:00:00.000000000",
          "2023-03-09T00:00:00.000000000",
          "2023-03-10T00:00:00.000000000",
          "2023-03-11T00:00:00.000000000",
          "2023-03-12T00:00:00.000000000",
          "2023-03-13T00:00:00.000000000",
          "2023-03-14T00:00:00.000000000",
          "2023-03-15T00:00:00.000000000",
          "2023-03-16T00:00:00.000000000",
          "2023-03-17T00:00:00.000000000",
          "2023-03-18T00:00:00.000000000",
          "2023-03-19T00:00:00.000000000",
          "2023-03-20T00:00:00.000000000",
          "2023-03-21T00:00:00.000000000",
          "2023-03-22T00:00:00.000000000",
          "2023-03-23T00:00:00.000000000",
          "2023-03-24T00:00:00.000000000",
          "2023-03-25T00:00:00.000000000",
          "2023-03-26T00:00:00.000000000",
          "2023-03-27T00:00:00.000000000",
          "2023-03-28T00:00:00.000000000",
          "2023-03-29T00:00:00.000000000",
          "2023-03-30T00:00:00.000000000",
          "2023-03-31T00:00:00.000000000",
          "2023-04-01T00:00:00.000000000",
          "2023-04-02T00:00:00.000000000",
          "2023-04-03T00:00:00.000000000",
          "2023-04-04T00:00:00.000000000",
          "2023-04-05T00:00:00.000000000",
          "2023-04-06T00:00:00.000000000",
          "2023-04-07T00:00:00.000000000",
          "2023-04-08T00:00:00.000000000",
          "2023-04-09T00:00:00.000000000",
          "2023-04-10T00:00:00.000000000",
          "2023-04-11T00:00:00.000000000",
          "2023-04-12T00:00:00.000000000",
          "2023-04-13T00:00:00.000000000",
          "2023-04-14T00:00:00.000000000",
          "2023-04-15T00:00:00.000000000",
          "2023-04-16T00:00:00.000000000",
          "2023-04-17T00:00:00.000000000",
          "2023-04-18T00:00:00.000000000",
          "2023-04-19T00:00:00.000000000",
          "2023-04-20T00:00:00.000000000",
          "2023-04-21T00:00:00.000000000",
          "2023-04-22T00:00:00.000000000",
          "2023-04-23T00:00:00.000000000",
          "2023-04-24T00:00:00.000000000",
          "2023-04-25T00:00:00.000000000",
          "2023-04-26T00:00:00.000000000",
          "2023-04-27T00:00:00.000000000",
          "2023-04-28T00:00:00.000000000",
          "2023-04-29T00:00:00.000000000",
          "2023-04-30T00:00:00.000000000",
          "2023-05-01T00:00:00.000000000",
          "2023-05-02T00:00:00.000000000",
          "2023-05-03T00:00:00.000000000",
          "2023-05-04T00:00:00.000000000",
          "2023-05-05T00:00:00.000000000",
          "2023-05-06T00:00:00.000000000",
          "2023-05-07T00:00:00.000000000",
          "2023-05-08T00:00:00.000000000",
          "2023-05-09T00:00:00.000000000",
          "2023-05-10T00:00:00.000000000",
          "2023-05-11T00:00:00.000000000",
          "2023-05-12T00:00:00.000000000",
          "2023-05-13T00:00:00.000000000",
          "2023-05-14T00:00:00.000000000",
          "2023-05-15T00:00:00.000000000",
          "2023-05-16T00:00:00.000000000",
          "2023-05-17T00:00:00.000000000",
          "2023-05-18T00:00:00.000000000",
          "2023-05-19T00:00:00.000000000",
          "2023-05-20T00:00:00.000000000",
          "2023-05-21T00:00:00.000000000",
          "2023-05-22T00:00:00.000000000",
          "2023-05-23T00:00:00.000000000",
          "2023-05-24T00:00:00.000000000",
          "2023-05-25T00:00:00.000000000",
          "2023-05-26T00:00:00.000000000",
          "2023-05-27T00:00:00.000000000",
          "2023-05-28T00:00:00.000000000",
          "2023-05-29T00:00:00.000000000",
          "2023-05-30T00:00:00.000000000",
          "2023-05-31T00:00:00.000000000",
          "2023-06-01T00:00:00.000000000",
          "2023-06-02T00:00:00.000000000",
          "2023-06-03T00:00:00.000000000",
          "2023-06-04T00:00:00.000000000",
          "2023-06-05T00:00:00.000000000",
          "2023-06-06T00:00:00.000000000",
          "2023-06-07T00:00:00.000000000",
          "2023-06-08T00:00:00.000000000",
          "2023-06-09T00:00:00.000000000",
          "2023-06-10T00:00:00.000000000",
          "2023-06-11T00:00:00.000000000",
          "2023-06-12T00:00:00.000000000",
          "2023-06-13T00:00:00.000000000",
          "2023-06-14T00:00:00.000000000",
          "2023-06-15T00:00:00.000000000",
          "2023-06-16T00:00:00.000000000",
          "2023-06-17T00:00:00.000000000",
          "2023-06-18T00:00:00.000000000",
          "2023-06-19T00:00:00.000000000",
          "2023-06-20T00:00:00.000000000",
          "2023-06-21T00:00:00.000000000",
          "2023-06-22T00:00:00.000000000",
          "2023-06-23T00:00:00.000000000",
          "2023-06-24T00:00:00.000000000",
          "2023-06-25T00:00:00.000000000",
          "2023-06-26T00:00:00.000000000",
          "2023-06-27T00:00:00.000000000",
          "2023-06-28T00:00:00.000000000",
          "2023-06-29T00:00:00.000000000",
          "2023-06-30T00:00:00.000000000",
          "2023-07-01T00:00:00.000000000",
          "2023-07-02T00:00:00.000000000",
          "2023-07-03T00:00:00.000000000",
          "2023-07-04T00:00:00.000000000",
          "2023-07-05T00:00:00.000000000",
          "2023-07-06T00:00:00.000000000",
          "2023-07-07T00:00:00.000000000",
          "2023-07-08T00:00:00.000000000",
          "2023-07-09T00:00:00.000000000",
          "2023-07-10T00:00:00.000000000",
          "2023-07-11T00:00:00.000000000",
          "2023-07-12T00:00:00.000000000",
          "2023-07-13T00:00:00.000000000",
          "2023-07-14T00:00:00.000000000",
          "2023-07-15T00:00:00.000000000",
          "2023-07-16T00:00:00.000000000",
          "2023-07-17T00:00:00.000000000",
          "2023-07-18T00:00:00.000000000",
          "2023-07-19T00:00:00.000000000",
          "2023-07-20T00:00:00.000000000",
          "2023-07-21T00:00:00.000000000",
          "2023-07-22T00:00:00.000000000",
          "2023-07-23T00:00:00.000000000",
          "2023-07-24T00:00:00.000000000",
          "2023-07-25T00:00:00.000000000",
          "2023-07-26T00:00:00.000000000",
          "2023-07-27T00:00:00.000000000",
          "2023-07-28T00:00:00.000000000",
          "2023-07-29T00:00:00.000000000",
          "2023-07-30T00:00:00.000000000",
          "2023-07-31T00:00:00.000000000",
          "2023-08-01T00:00:00.000000000",
          "2023-08-02T00:00:00.000000000",
          "2023-08-03T00:00:00.000000000",
          "2023-08-04T00:00:00.000000000",
          "2023-08-05T00:00:00.000000000",
          "2023-08-06T00:00:00.000000000",
          "2023-08-07T00:00:00.000000000",
          "2023-08-08T00:00:00.000000000",
          "2023-08-09T00:00:00.000000000",
          "2023-08-10T00:00:00.000000000",
          "2023-08-11T00:00:00.000000000",
          "2023-08-12T00:00:00.000000000",
          "2023-08-13T00:00:00.000000000",
          "2023-08-14T00:00:00.000000000",
          "2023-08-15T00:00:00.000000000",
          "2023-08-16T00:00:00.000000000",
          "2023-08-17T00:00:00.000000000",
          "2023-08-18T00:00:00.000000000",
          "2023-08-19T00:00:00.000000000",
          "2023-08-20T00:00:00.000000000",
          "2023-08-21T00:00:00.000000000",
          "2023-08-22T00:00:00.000000000",
          "2023-08-23T00:00:00.000000000",
          "2023-08-24T00:00:00.000000000",
          "2023-08-25T00:00:00.000000000",
          "2023-08-26T00:00:00.000000000",
          "2023-08-27T00:00:00.000000000",
          "2023-08-28T00:00:00.000000000",
          "2023-08-29T00:00:00.000000000",
          "2023-08-30T00:00:00.000000000",
          "2023-08-31T00:00:00.000000000",
          "2023-09-01T00:00:00.000000000",
          "2023-09-02T00:00:00.000000000",
          "2023-09-03T00:00:00.000000000",
          "2023-09-04T00:00:00.000000000",
          "2023-09-05T00:00:00.000000000",
          "2023-09-06T00:00:00.000000000",
          "2023-09-07T00:00:00.000000000",
          "2023-09-08T00:00:00.000000000",
          "2023-09-09T00:00:00.000000000",
          "2023-09-10T00:00:00.000000000",
          "2023-09-11T00:00:00.000000000",
          "2023-09-12T00:00:00.000000000",
          "2023-09-13T00:00:00.000000000",
          "2023-09-14T00:00:00.000000000",
          "2023-09-15T00:00:00.000000000",
          "2023-09-16T00:00:00.000000000",
          "2023-09-17T00:00:00.000000000",
          "2023-09-18T00:00:00.000000000",
          "2023-09-19T00:00:00.000000000",
          "2023-09-20T00:00:00.000000000",
          "2023-09-21T00:00:00.000000000",
          "2023-09-22T00:00:00.000000000",
          "2023-09-23T00:00:00.000000000",
          "2023-09-24T00:00:00.000000000",
          "2023-09-25T00:00:00.000000000",
          "2023-09-26T00:00:00.000000000",
          "2023-09-27T00:00:00.000000000",
          "2023-09-28T00:00:00.000000000",
          "2023-09-29T00:00:00.000000000",
          "2023-09-30T00:00:00.000000000",
          "2023-10-01T00:00:00.000000000",
          "2023-10-02T00:00:00.000000000",
          "2023-10-03T00:00:00.000000000",
          "2023-10-04T00:00:00.000000000",
          "2023-10-05T00:00:00.000000000",
          "2023-10-06T00:00:00.000000000",
          "2023-10-07T00:00:00.000000000",
          "2023-10-08T00:00:00.000000000",
          "2023-10-09T00:00:00.000000000",
          "2023-10-10T00:00:00.000000000",
          "2023-10-11T00:00:00.000000000",
          "2023-10-12T00:00:00.000000000",
          "2023-10-13T00:00:00.000000000",
          "2023-10-14T00:00:00.000000000",
          "2023-10-15T00:00:00.000000000",
          "2023-10-16T00:00:00.000000000",
          "2023-10-17T00:00:00.000000000",
          "2023-10-18T00:00:00.000000000",
          "2023-10-19T00:00:00.000000000",
          "2023-10-20T00:00:00.000000000",
          "2023-10-21T00:00:00.000000000",
          "2023-10-22T00:00:00.000000000",
          "2023-10-23T00:00:00.000000000",
          "2023-10-24T00:00:00.000000000",
          "2023-10-25T00:00:00.000000000",
          "2023-10-26T00:00:00.000000000",
          "2023-10-27T00:00:00.000000000",
          "2023-10-28T00:00:00.000000000",
          "2023-10-29T00:00:00.000000000",
          "2023-10-30T00:00:00.000000000",
          "2023-10-31T00:00:00.000000000",
          "2023-11-01T00:00:00.000000000",
          "2023-11-02T00:00:00.000000000",
          "2023-11-03T00:00:00.000000000",
          "2023-11-04T00:00:00.000000000",
          "2023-11-05T00:00:00.000000000",
          "2023-11-06T00:00:00.000000000",
          "2023-11-07T00:00:00.000000000",
          "2023-11-08T00:00:00.000000000",
          "2023-11-09T00:00:00.000000000",
          "2023-11-10T00:00:00.000000000",
          "2023-11-11T00:00:00.000000000",
          "2023-11-12T00:00:00.000000000",
          "2023-11-13T00:00:00.000000000",
          "2023-11-14T00:00:00.000000000",
          "2023-11-15T00:00:00.000000000",
          "2023-11-16T00:00:00.000000000",
          "2023-11-17T00:00:00.000000000",
          "2023-11-18T00:00:00.000000000",
          "2023-11-19T00:00:00.000000000",
          "2023-11-20T00:00:00.000000000",
          "2023-11-21T00:00:00.000000000",
          "2023-11-22T00:00:00.000000000",
          "2023-11-23T00:00:00.000000000",
          "2023-11-24T00:00:00.000000000",
          "2023-11-25T00:00:00.000000000",
          "2023-11-26T00:00:00.000000000",
          "2023-11-27T00:00:00.000000000",
          "2023-11-28T00:00:00.000000000",
          "2023-11-29T00:00:00.000000000",
          "2023-11-30T00:00:00.000000000",
          "2023-12-01T00:00:00.000000000",
          "2023-12-02T00:00:00.000000000",
          "2023-12-03T00:00:00.000000000",
          "2023-12-04T00:00:00.000000000",
          "2023-12-05T00:00:00.000000000",
          "2023-12-06T00:00:00.000000000",
          "2023-12-07T00:00:00.000000000",
          "2023-12-08T00:00:00.000000000",
          "2023-12-09T00:00:00.000000000",
          "2023-12-10T00:00:00.000000000",
          "2023-12-11T00:00:00.000000000",
          "2023-12-12T00:00:00.000000000",
          "2023-12-13T00:00:00.000000000",
          "2023-12-14T00:00:00.000000000",
          "2023-12-15T00:00:00.000000000",
          "2023-12-16T00:00:00.000000000",
          "2023-12-17T00:00:00.000000000",
          "2023-12-18T00:00:00.000000000",
          "2023-12-19T00:00:00.000000000",
          "2023-12-20T00:00:00.000000000",
          "2023-12-21T00:00:00.000000000",
          "2023-12-22T00:00:00.000000000",
          "2023-12-23T00:00:00.000000000",
          "2023-12-24T00:00:00.000000000",
          "2023-12-25T00:00:00.000000000",
          "2023-12-26T00:00:00.000000000"
         ],
         "xaxis": "x3",
         "y": {
          "bdata": "AAAAAAAAAAAAAAAAAAAAAGnRM/oczRZBNAAwnWvNFkHFMz+ea80WQWw3P55rzRZBbDc/nmvNFkFsNz+ea80WQWw3P55rzRZBbDc/nmvNFkFsNz+ea80WQWw3P55rzRZBbDc/nmvNFkFsNz+ea80WQWw3P55rzRZBbDc/nmvNFkFsNz+ea80WQWw3P55rzRZBbDc/nmvNFkFsNz+ea80WQWw3P55rzRZBbDc/nmvNFkFsNz+ea80WQWw3P55rzRZBbDc/nmvNFkFsNz+ea80WQWw3P55rzRZBbDc/nmvNFkFsNz+ea80WQWw3P55rzRZBbDc/nmvNFkFsNz+ea80WQWw3P55rzRZBbDc/nmvNFkFsNz+ea80WQWw3P55rzRZBbDc/nmvNFkFsNz+ea80WQWw3P55rzRZBbDc/nmvNFkFsNz+ea80WQWw3P55rzRZBbDc/nmvNFkFsNz+ea80WQWw3P55rzRZBbDc/nmvNFkFsNz+ea80WQWw3P55rzRZBbDc/nmvNFkFsNz+ea80WQWw3P55rzRZBbDc/nmvNFkFsNz+ea80WQWw3P55rzRZBbDc/nmvNFkFsNz+ea80WQWw3P55rzRZBbDc/nmvNFkFsNz+ea80WQWw3P55rzRZBbDc/nmvNFkFsNz+ea80WQWw3P55rzRZBbDc/nmvNFkFsNz+ea80WQWw3P55rzRZBbDc/nmvNFkFsNz+ea80WQWw3P55rzRZBbDc/nmvNFkFsNz+ea80WQWw3P55rzRZBbDc/nmvNFkFsNz+ea80WQWw3P55rzRZBbDc/nmvNFkFsNz+ea80WQWw3P55rzRZBbDc/nmvNFkFsNz+ea80WQWw3P55rzRZBbDc/nmvNFkFsNz+ea80WQWw3P55rzRZBbDc/nmvNFkFsNz+ea80WQWw3P55rzRZBbDc/nmvNFkFsNz+ea80WQWw3P55rzRZBbDc/nmvNFkFsNz+ea80WQWw3P55rzRZBbDc/nmvNFkFsNz+ea80WQWw3P55rzRZBbDc/nmvNFkFsNz+ea80WQWw3P55rzRZBbDc/nmvNFkFsNz+ea80WQWw3P55rzRZBbDc/nmvNFkFsNz+ea80WQWw3P55rzRZBbDc/nmvNFkFsNz+ea80WQWw3P55rzRZBbDc/nmvNFkFsNz+ea80WQWw3P55rzRZBbDc/nmvNFkFsNz+ea80WQWw3P55rzRZBbDc/nmvNFkFsNz+ea80WQWw3P55rzRZBbDc/nmvNFkFsNz+ea80WQWw3P55rzRZBbDc/nmvNFkFsNz+ea80WQWw3P55rzRZBbDc/nmvNFkFsNz+ea80WQWw3P55rzRZBbDc/nmvNFkFsNz+ea80WQWw3P55rzRZBbDc/nmvNFkFsNz+ea80WQWw3P55rzRZBbDc/nmvNFkFsNz+ea80WQWw3P55rzRZBbDc/nmvNFkFsNz+ea80WQWw3P55rzRZBbDc/nmvNFkFsNz+ea80WQWw3P55rzRZBbDc/nmvNFkFsNz+ea80WQWw3P55rzRZBbDc/nmvNFkFsNz+ea80WQWw3P55rzRZBbDc/nmvNFkFsNz+ea80WQWw3P55rzRZBbDc/nmvNFkFsNz+ea80WQWw3P55rzRZBbDc/nmvNFkFsNz+ea80WQWw3P55rzRZBbDc/nmvNFkFsNz+ea80WQWw3P55rzRZBbDc/nmvNFkFsNz+ea80WQWw3P55rzRZBbDc/nmvNFkFsNz+ea80WQWw3P55rzRZBbDc/nmvNFkFsNz+ea80WQWw3P55rzRZBbDc/nmvNFkFsNz+ea80WQWw3P55rzRZBbDc/nmvNFkFsNz+ea80WQWw3P55rzRZBbDc/nmvNFkFsNz+ea80WQWw3P55rzRZBbDc/nmvNFkFsNz+ea80WQWw3P55rzRZBbDc/nmvNFkFsNz+ea80WQWw3P55rzRZBbDc/nmvNFkFsNz+ea80WQWw3P55rzRZBbDc/nmvNFkFsNz+ea80WQWw3P55rzRZBbDc/nmvNFkFsNz+ea80WQWw3P55rzRZBbDc/nmvNFkFsNz+ea80WQWw3P55rzRZBbDc/nmvNFkFsNz+ea80WQWw3P55rzRZBbDc/nmvNFkFsNz+ea80WQWw3P55rzRZBbDc/nmvNFkFsNz+ea80WQWw3P55rzRZBbDc/nmvNFkFsNz+ea80WQWw3P55rzRZBbDc/nmvNFkFsNz+ea80WQWw3P55rzRZBbDc/nmvNFkFsNz+ea80WQWw3P55rzRZBbDc/nmvNFkFsNz+ea80WQWw3P55rzRZBbDc/nmvNFkFsNz+ea80WQWw3P55rzRZBbDc/nmvNFkFsNz+ea80WQWw3P55rzRZBbDc/nmvNFkFsNz+ea80WQWw3P55rzRZBbDc/nmvNFkFsNz+ea80WQWw3P55rzRZBbDc/nmvNFkFsNz+ea80WQWw3P55rzRZBbDc/nmvNFkFsNz+ea80WQWw3P55rzRZBbDc/nmvNFkFsNz+ea80WQWw3P55rzRZBbDc/nmvNFkFsNz+ea80WQWw3P55rzRZBbDc/nmvNFkFsNz+ea80WQWw3P55rzRZBbDc/nmvNFkFsNz+ea80WQWw3P55rzRZBbDc/nmvNFkFsNz+ea80WQWw3P55rzRZBbDc/nmvNFkFsNz+ea80WQWw3P55rzRZBbDc/nmvNFkFsNz+ea80WQWw3P55rzRZBbDc/nmvNFkFsNz+ea80WQWw3P55rzRZBbDc/nmvNFkFsNz+ea80WQWw3P55rzRZBbDc/nmvNFkFsNz+ea80WQWw3P55rzRZBbDc/nmvNFkFsNz+ea80WQWw3P55rzRZBbDc/nmvNFkFsNz+ea80WQWw3P55rzRZBbDc/nmvNFkFsNz+ea80WQWw3P55rzRZBbDc/nmvNFkFsNz+ea80WQWw3P55rzRZBbDc/nmvNFkFsNz+ea80WQWw3P55rzRZBbDc/nmvNFkFsNz+ea80WQWw3P55rzRZBbDc/nmvNFkFsNz+ea80WQWw3P55rzRZBbDc/nmvNFkFsNz+ea80WQWw3P55rzRZBbDc/nmvNFkFsNz+ea80WQWw3P55rzRZBbDc/nmvNFkFsNz+ea80WQWw3P55rzRZBbDc/nmvNFkFsNz+ea80WQWw3P55rzRZBbDc/nmvNFkFsNz+ea80WQWw3P55rzRZBbDc/nmvNFkFsNz+ea80WQWw3P55rzRZBbDc/nmvNFkFsNz+ea80WQWw3P55rzRZBbDc/nmvNFkFsNz+ea80WQWw3P55rzRZBbDc/nmvNFkFsNz+ea80WQWw3P55rzRZBbDc/nmvNFkFsNz+ea80WQWw3P55rzRZBbDc/nmvNFkFsNz+ea80WQWw3P55rzRZBbDc/nmvNFkFsNz+ea80WQWw3P55rzRZBbDc/nmvNFkFsNz+ea80WQWw3P55rzRZBbDc/nmvNFkFsNz+ea80WQWw3P55rzRZBbDc/nmvNFkFsNz+ea80WQWw3P55rzRZBbDc/nmvNFkFsNz+ea80WQWw3P55rzRZBbDc/nmvNFkFsNz+ea80WQWw3P55rzRZBbDc/nmvNFkFsNz+ea80WQWw3P55rzRZBbDc/nmvNFkFsNz+ea80WQWw3P55rzRZBbDc/nmvNFkFsNz+ea80WQWw3P55rzRZBbDc/nmvNFkFsNz+ea80WQWw3P55rzRZBbDc/nmvNFkFsNz+ea80WQWw3P55rzRZBbDc/nmvNFkFsNz+ea80WQWw3P55rzRZBbDc/nmvNFkFsNz+ea80WQWw3P55rzRZBbDc/nmvNFkFsNz+ea80WQWw3P55rzRZB",
          "dtype": "f8"
         },
         "yaxis": "y3"
        },
        {
         "fill": "toself",
         "fillcolor": "rgba(174,30,36,0.3)",
         "line": {
          "color": "rgba(0,0,0,0)"
         },
         "name": "day layer 1 : 10 best individuals",
         "type": "scatter",
         "x": [
          "2023-01-01T00:00:00.000000000",
          "2023-01-02T00:00:00.000000000",
          "2023-01-03T00:00:00.000000000",
          "2023-01-04T00:00:00.000000000",
          "2023-01-05T00:00:00.000000000",
          "2023-01-06T00:00:00.000000000",
          "2023-01-07T00:00:00.000000000",
          "2023-01-08T00:00:00.000000000",
          "2023-01-09T00:00:00.000000000",
          "2023-01-10T00:00:00.000000000",
          "2023-01-11T00:00:00.000000000",
          "2023-01-12T00:00:00.000000000",
          "2023-01-13T00:00:00.000000000",
          "2023-01-14T00:00:00.000000000",
          "2023-01-15T00:00:00.000000000",
          "2023-01-16T00:00:00.000000000",
          "2023-01-17T00:00:00.000000000",
          "2023-01-18T00:00:00.000000000",
          "2023-01-19T00:00:00.000000000",
          "2023-01-20T00:00:00.000000000",
          "2023-01-21T00:00:00.000000000",
          "2023-01-22T00:00:00.000000000",
          "2023-01-23T00:00:00.000000000",
          "2023-01-24T00:00:00.000000000",
          "2023-01-25T00:00:00.000000000",
          "2023-01-26T00:00:00.000000000",
          "2023-01-27T00:00:00.000000000",
          "2023-01-28T00:00:00.000000000",
          "2023-01-29T00:00:00.000000000",
          "2023-01-30T00:00:00.000000000",
          "2023-01-31T00:00:00.000000000",
          "2023-02-01T00:00:00.000000000",
          "2023-02-02T00:00:00.000000000",
          "2023-02-03T00:00:00.000000000",
          "2023-02-04T00:00:00.000000000",
          "2023-02-05T00:00:00.000000000",
          "2023-02-06T00:00:00.000000000",
          "2023-02-07T00:00:00.000000000",
          "2023-02-08T00:00:00.000000000",
          "2023-02-09T00:00:00.000000000",
          "2023-02-10T00:00:00.000000000",
          "2023-02-11T00:00:00.000000000",
          "2023-02-12T00:00:00.000000000",
          "2023-02-13T00:00:00.000000000",
          "2023-02-14T00:00:00.000000000",
          "2023-02-15T00:00:00.000000000",
          "2023-02-16T00:00:00.000000000",
          "2023-02-17T00:00:00.000000000",
          "2023-02-18T00:00:00.000000000",
          "2023-02-19T00:00:00.000000000",
          "2023-02-20T00:00:00.000000000",
          "2023-02-21T00:00:00.000000000",
          "2023-02-22T00:00:00.000000000",
          "2023-02-23T00:00:00.000000000",
          "2023-02-24T00:00:00.000000000",
          "2023-02-25T00:00:00.000000000",
          "2023-02-26T00:00:00.000000000",
          "2023-02-27T00:00:00.000000000",
          "2023-02-28T00:00:00.000000000",
          "2023-03-01T00:00:00.000000000",
          "2023-03-02T00:00:00.000000000",
          "2023-03-03T00:00:00.000000000",
          "2023-03-04T00:00:00.000000000",
          "2023-03-05T00:00:00.000000000",
          "2023-03-06T00:00:00.000000000",
          "2023-03-07T00:00:00.000000000",
          "2023-03-08T00:00:00.000000000",
          "2023-03-09T00:00:00.000000000",
          "2023-03-10T00:00:00.000000000",
          "2023-03-11T00:00:00.000000000",
          "2023-03-12T00:00:00.000000000",
          "2023-03-13T00:00:00.000000000",
          "2023-03-14T00:00:00.000000000",
          "2023-03-15T00:00:00.000000000",
          "2023-03-16T00:00:00.000000000",
          "2023-03-17T00:00:00.000000000",
          "2023-03-18T00:00:00.000000000",
          "2023-03-19T00:00:00.000000000",
          "2023-03-20T00:00:00.000000000",
          "2023-03-21T00:00:00.000000000",
          "2023-03-22T00:00:00.000000000",
          "2023-03-23T00:00:00.000000000",
          "2023-03-24T00:00:00.000000000",
          "2023-03-25T00:00:00.000000000",
          "2023-03-26T00:00:00.000000000",
          "2023-03-27T00:00:00.000000000",
          "2023-03-28T00:00:00.000000000",
          "2023-03-29T00:00:00.000000000",
          "2023-03-30T00:00:00.000000000",
          "2023-03-31T00:00:00.000000000",
          "2023-04-01T00:00:00.000000000",
          "2023-04-02T00:00:00.000000000",
          "2023-04-03T00:00:00.000000000",
          "2023-04-04T00:00:00.000000000",
          "2023-04-05T00:00:00.000000000",
          "2023-04-06T00:00:00.000000000",
          "2023-04-07T00:00:00.000000000",
          "2023-04-08T00:00:00.000000000",
          "2023-04-09T00:00:00.000000000",
          "2023-04-10T00:00:00.000000000",
          "2023-04-11T00:00:00.000000000",
          "2023-04-12T00:00:00.000000000",
          "2023-04-13T00:00:00.000000000",
          "2023-04-14T00:00:00.000000000",
          "2023-04-15T00:00:00.000000000",
          "2023-04-16T00:00:00.000000000",
          "2023-04-17T00:00:00.000000000",
          "2023-04-18T00:00:00.000000000",
          "2023-04-19T00:00:00.000000000",
          "2023-04-20T00:00:00.000000000",
          "2023-04-21T00:00:00.000000000",
          "2023-04-22T00:00:00.000000000",
          "2023-04-23T00:00:00.000000000",
          "2023-04-24T00:00:00.000000000",
          "2023-04-25T00:00:00.000000000",
          "2023-04-26T00:00:00.000000000",
          "2023-04-27T00:00:00.000000000",
          "2023-04-28T00:00:00.000000000",
          "2023-04-29T00:00:00.000000000",
          "2023-04-30T00:00:00.000000000",
          "2023-05-01T00:00:00.000000000",
          "2023-05-02T00:00:00.000000000",
          "2023-05-03T00:00:00.000000000",
          "2023-05-04T00:00:00.000000000",
          "2023-05-05T00:00:00.000000000",
          "2023-05-06T00:00:00.000000000",
          "2023-05-07T00:00:00.000000000",
          "2023-05-08T00:00:00.000000000",
          "2023-05-09T00:00:00.000000000",
          "2023-05-10T00:00:00.000000000",
          "2023-05-11T00:00:00.000000000",
          "2023-05-12T00:00:00.000000000",
          "2023-05-13T00:00:00.000000000",
          "2023-05-14T00:00:00.000000000",
          "2023-05-15T00:00:00.000000000",
          "2023-05-16T00:00:00.000000000",
          "2023-05-17T00:00:00.000000000",
          "2023-05-18T00:00:00.000000000",
          "2023-05-19T00:00:00.000000000",
          "2023-05-20T00:00:00.000000000",
          "2023-05-21T00:00:00.000000000",
          "2023-05-22T00:00:00.000000000",
          "2023-05-23T00:00:00.000000000",
          "2023-05-24T00:00:00.000000000",
          "2023-05-25T00:00:00.000000000",
          "2023-05-26T00:00:00.000000000",
          "2023-05-27T00:00:00.000000000",
          "2023-05-28T00:00:00.000000000",
          "2023-05-29T00:00:00.000000000",
          "2023-05-30T00:00:00.000000000",
          "2023-05-31T00:00:00.000000000",
          "2023-06-01T00:00:00.000000000",
          "2023-06-02T00:00:00.000000000",
          "2023-06-03T00:00:00.000000000",
          "2023-06-04T00:00:00.000000000",
          "2023-06-05T00:00:00.000000000",
          "2023-06-06T00:00:00.000000000",
          "2023-06-07T00:00:00.000000000",
          "2023-06-08T00:00:00.000000000",
          "2023-06-09T00:00:00.000000000",
          "2023-06-10T00:00:00.000000000",
          "2023-06-11T00:00:00.000000000",
          "2023-06-12T00:00:00.000000000",
          "2023-06-13T00:00:00.000000000",
          "2023-06-14T00:00:00.000000000",
          "2023-06-15T00:00:00.000000000",
          "2023-06-16T00:00:00.000000000",
          "2023-06-17T00:00:00.000000000",
          "2023-06-18T00:00:00.000000000",
          "2023-06-19T00:00:00.000000000",
          "2023-06-20T00:00:00.000000000",
          "2023-06-21T00:00:00.000000000",
          "2023-06-22T00:00:00.000000000",
          "2023-06-23T00:00:00.000000000",
          "2023-06-24T00:00:00.000000000",
          "2023-06-25T00:00:00.000000000",
          "2023-06-26T00:00:00.000000000",
          "2023-06-27T00:00:00.000000000",
          "2023-06-28T00:00:00.000000000",
          "2023-06-29T00:00:00.000000000",
          "2023-06-30T00:00:00.000000000",
          "2023-07-01T00:00:00.000000000",
          "2023-07-02T00:00:00.000000000",
          "2023-07-03T00:00:00.000000000",
          "2023-07-04T00:00:00.000000000",
          "2023-07-05T00:00:00.000000000",
          "2023-07-06T00:00:00.000000000",
          "2023-07-07T00:00:00.000000000",
          "2023-07-08T00:00:00.000000000",
          "2023-07-09T00:00:00.000000000",
          "2023-07-10T00:00:00.000000000",
          "2023-07-11T00:00:00.000000000",
          "2023-07-12T00:00:00.000000000",
          "2023-07-13T00:00:00.000000000",
          "2023-07-14T00:00:00.000000000",
          "2023-07-15T00:00:00.000000000",
          "2023-07-16T00:00:00.000000000",
          "2023-07-17T00:00:00.000000000",
          "2023-07-18T00:00:00.000000000",
          "2023-07-19T00:00:00.000000000",
          "2023-07-20T00:00:00.000000000",
          "2023-07-21T00:00:00.000000000",
          "2023-07-22T00:00:00.000000000",
          "2023-07-23T00:00:00.000000000",
          "2023-07-24T00:00:00.000000000",
          "2023-07-25T00:00:00.000000000",
          "2023-07-26T00:00:00.000000000",
          "2023-07-27T00:00:00.000000000",
          "2023-07-28T00:00:00.000000000",
          "2023-07-29T00:00:00.000000000",
          "2023-07-30T00:00:00.000000000",
          "2023-07-31T00:00:00.000000000",
          "2023-08-01T00:00:00.000000000",
          "2023-08-02T00:00:00.000000000",
          "2023-08-03T00:00:00.000000000",
          "2023-08-04T00:00:00.000000000",
          "2023-08-05T00:00:00.000000000",
          "2023-08-06T00:00:00.000000000",
          "2023-08-07T00:00:00.000000000",
          "2023-08-08T00:00:00.000000000",
          "2023-08-09T00:00:00.000000000",
          "2023-08-10T00:00:00.000000000",
          "2023-08-11T00:00:00.000000000",
          "2023-08-12T00:00:00.000000000",
          "2023-08-13T00:00:00.000000000",
          "2023-08-14T00:00:00.000000000",
          "2023-08-15T00:00:00.000000000",
          "2023-08-16T00:00:00.000000000",
          "2023-08-17T00:00:00.000000000",
          "2023-08-18T00:00:00.000000000",
          "2023-08-19T00:00:00.000000000",
          "2023-08-20T00:00:00.000000000",
          "2023-08-21T00:00:00.000000000",
          "2023-08-22T00:00:00.000000000",
          "2023-08-23T00:00:00.000000000",
          "2023-08-24T00:00:00.000000000",
          "2023-08-25T00:00:00.000000000",
          "2023-08-26T00:00:00.000000000",
          "2023-08-27T00:00:00.000000000",
          "2023-08-28T00:00:00.000000000",
          "2023-08-29T00:00:00.000000000",
          "2023-08-30T00:00:00.000000000",
          "2023-08-31T00:00:00.000000000",
          "2023-09-01T00:00:00.000000000",
          "2023-09-02T00:00:00.000000000",
          "2023-09-03T00:00:00.000000000",
          "2023-09-04T00:00:00.000000000",
          "2023-09-05T00:00:00.000000000",
          "2023-09-06T00:00:00.000000000",
          "2023-09-07T00:00:00.000000000",
          "2023-09-08T00:00:00.000000000",
          "2023-09-09T00:00:00.000000000",
          "2023-09-10T00:00:00.000000000",
          "2023-09-11T00:00:00.000000000",
          "2023-09-12T00:00:00.000000000",
          "2023-09-13T00:00:00.000000000",
          "2023-09-14T00:00:00.000000000",
          "2023-09-15T00:00:00.000000000",
          "2023-09-16T00:00:00.000000000",
          "2023-09-17T00:00:00.000000000",
          "2023-09-18T00:00:00.000000000",
          "2023-09-19T00:00:00.000000000",
          "2023-09-20T00:00:00.000000000",
          "2023-09-21T00:00:00.000000000",
          "2023-09-22T00:00:00.000000000",
          "2023-09-23T00:00:00.000000000",
          "2023-09-24T00:00:00.000000000",
          "2023-09-25T00:00:00.000000000",
          "2023-09-26T00:00:00.000000000",
          "2023-09-27T00:00:00.000000000",
          "2023-09-28T00:00:00.000000000",
          "2023-09-29T00:00:00.000000000",
          "2023-09-30T00:00:00.000000000",
          "2023-10-01T00:00:00.000000000",
          "2023-10-02T00:00:00.000000000",
          "2023-10-03T00:00:00.000000000",
          "2023-10-04T00:00:00.000000000",
          "2023-10-05T00:00:00.000000000",
          "2023-10-06T00:00:00.000000000",
          "2023-10-07T00:00:00.000000000",
          "2023-10-08T00:00:00.000000000",
          "2023-10-09T00:00:00.000000000",
          "2023-10-10T00:00:00.000000000",
          "2023-10-11T00:00:00.000000000",
          "2023-10-12T00:00:00.000000000",
          "2023-10-13T00:00:00.000000000",
          "2023-10-14T00:00:00.000000000",
          "2023-10-15T00:00:00.000000000",
          "2023-10-16T00:00:00.000000000",
          "2023-10-17T00:00:00.000000000",
          "2023-10-18T00:00:00.000000000",
          "2023-10-19T00:00:00.000000000",
          "2023-10-20T00:00:00.000000000",
          "2023-10-21T00:00:00.000000000",
          "2023-10-22T00:00:00.000000000",
          "2023-10-23T00:00:00.000000000",
          "2023-10-24T00:00:00.000000000",
          "2023-10-25T00:00:00.000000000",
          "2023-10-26T00:00:00.000000000",
          "2023-10-27T00:00:00.000000000",
          "2023-10-28T00:00:00.000000000",
          "2023-10-29T00:00:00.000000000",
          "2023-10-30T00:00:00.000000000",
          "2023-10-31T00:00:00.000000000",
          "2023-11-01T00:00:00.000000000",
          "2023-11-02T00:00:00.000000000",
          "2023-11-03T00:00:00.000000000",
          "2023-11-04T00:00:00.000000000",
          "2023-11-05T00:00:00.000000000",
          "2023-11-06T00:00:00.000000000",
          "2023-11-07T00:00:00.000000000",
          "2023-11-08T00:00:00.000000000",
          "2023-11-09T00:00:00.000000000",
          "2023-11-10T00:00:00.000000000",
          "2023-11-11T00:00:00.000000000",
          "2023-11-12T00:00:00.000000000",
          "2023-11-13T00:00:00.000000000",
          "2023-11-14T00:00:00.000000000",
          "2023-11-15T00:00:00.000000000",
          "2023-11-16T00:00:00.000000000",
          "2023-11-17T00:00:00.000000000",
          "2023-11-18T00:00:00.000000000",
          "2023-11-19T00:00:00.000000000",
          "2023-11-20T00:00:00.000000000",
          "2023-11-21T00:00:00.000000000",
          "2023-11-22T00:00:00.000000000",
          "2023-11-23T00:00:00.000000000",
          "2023-11-24T00:00:00.000000000",
          "2023-11-25T00:00:00.000000000",
          "2023-11-26T00:00:00.000000000",
          "2023-11-27T00:00:00.000000000",
          "2023-11-28T00:00:00.000000000",
          "2023-11-29T00:00:00.000000000",
          "2023-11-30T00:00:00.000000000",
          "2023-12-01T00:00:00.000000000",
          "2023-12-02T00:00:00.000000000",
          "2023-12-03T00:00:00.000000000",
          "2023-12-04T00:00:00.000000000",
          "2023-12-05T00:00:00.000000000",
          "2023-12-06T00:00:00.000000000",
          "2023-12-07T00:00:00.000000000",
          "2023-12-08T00:00:00.000000000",
          "2023-12-09T00:00:00.000000000",
          "2023-12-10T00:00:00.000000000",
          "2023-12-11T00:00:00.000000000",
          "2023-12-12T00:00:00.000000000",
          "2023-12-13T00:00:00.000000000",
          "2023-12-14T00:00:00.000000000",
          "2023-12-15T00:00:00.000000000",
          "2023-12-16T00:00:00.000000000",
          "2023-12-17T00:00:00.000000000",
          "2023-12-18T00:00:00.000000000",
          "2023-12-19T00:00:00.000000000",
          "2023-12-20T00:00:00.000000000",
          "2023-12-21T00:00:00.000000000",
          "2023-12-22T00:00:00.000000000",
          "2023-12-23T00:00:00.000000000",
          "2023-12-24T00:00:00.000000000",
          "2023-12-25T00:00:00.000000000",
          "2023-12-26T00:00:00.000000000",
          "2023-12-26T00:00:00.000000000",
          "2023-12-25T00:00:00.000000000",
          "2023-12-24T00:00:00.000000000",
          "2023-12-23T00:00:00.000000000",
          "2023-12-22T00:00:00.000000000",
          "2023-12-21T00:00:00.000000000",
          "2023-12-20T00:00:00.000000000",
          "2023-12-19T00:00:00.000000000",
          "2023-12-18T00:00:00.000000000",
          "2023-12-17T00:00:00.000000000",
          "2023-12-16T00:00:00.000000000",
          "2023-12-15T00:00:00.000000000",
          "2023-12-14T00:00:00.000000000",
          "2023-12-13T00:00:00.000000000",
          "2023-12-12T00:00:00.000000000",
          "2023-12-11T00:00:00.000000000",
          "2023-12-10T00:00:00.000000000",
          "2023-12-09T00:00:00.000000000",
          "2023-12-08T00:00:00.000000000",
          "2023-12-07T00:00:00.000000000",
          "2023-12-06T00:00:00.000000000",
          "2023-12-05T00:00:00.000000000",
          "2023-12-04T00:00:00.000000000",
          "2023-12-03T00:00:00.000000000",
          "2023-12-02T00:00:00.000000000",
          "2023-12-01T00:00:00.000000000",
          "2023-11-30T00:00:00.000000000",
          "2023-11-29T00:00:00.000000000",
          "2023-11-28T00:00:00.000000000",
          "2023-11-27T00:00:00.000000000",
          "2023-11-26T00:00:00.000000000",
          "2023-11-25T00:00:00.000000000",
          "2023-11-24T00:00:00.000000000",
          "2023-11-23T00:00:00.000000000",
          "2023-11-22T00:00:00.000000000",
          "2023-11-21T00:00:00.000000000",
          "2023-11-20T00:00:00.000000000",
          "2023-11-19T00:00:00.000000000",
          "2023-11-18T00:00:00.000000000",
          "2023-11-17T00:00:00.000000000",
          "2023-11-16T00:00:00.000000000",
          "2023-11-15T00:00:00.000000000",
          "2023-11-14T00:00:00.000000000",
          "2023-11-13T00:00:00.000000000",
          "2023-11-12T00:00:00.000000000",
          "2023-11-11T00:00:00.000000000",
          "2023-11-10T00:00:00.000000000",
          "2023-11-09T00:00:00.000000000",
          "2023-11-08T00:00:00.000000000",
          "2023-11-07T00:00:00.000000000",
          "2023-11-06T00:00:00.000000000",
          "2023-11-05T00:00:00.000000000",
          "2023-11-04T00:00:00.000000000",
          "2023-11-03T00:00:00.000000000",
          "2023-11-02T00:00:00.000000000",
          "2023-11-01T00:00:00.000000000",
          "2023-10-31T00:00:00.000000000",
          "2023-10-30T00:00:00.000000000",
          "2023-10-29T00:00:00.000000000",
          "2023-10-28T00:00:00.000000000",
          "2023-10-27T00:00:00.000000000",
          "2023-10-26T00:00:00.000000000",
          "2023-10-25T00:00:00.000000000",
          "2023-10-24T00:00:00.000000000",
          "2023-10-23T00:00:00.000000000",
          "2023-10-22T00:00:00.000000000",
          "2023-10-21T00:00:00.000000000",
          "2023-10-20T00:00:00.000000000",
          "2023-10-19T00:00:00.000000000",
          "2023-10-18T00:00:00.000000000",
          "2023-10-17T00:00:00.000000000",
          "2023-10-16T00:00:00.000000000",
          "2023-10-15T00:00:00.000000000",
          "2023-10-14T00:00:00.000000000",
          "2023-10-13T00:00:00.000000000",
          "2023-10-12T00:00:00.000000000",
          "2023-10-11T00:00:00.000000000",
          "2023-10-10T00:00:00.000000000",
          "2023-10-09T00:00:00.000000000",
          "2023-10-08T00:00:00.000000000",
          "2023-10-07T00:00:00.000000000",
          "2023-10-06T00:00:00.000000000",
          "2023-10-05T00:00:00.000000000",
          "2023-10-04T00:00:00.000000000",
          "2023-10-03T00:00:00.000000000",
          "2023-10-02T00:00:00.000000000",
          "2023-10-01T00:00:00.000000000",
          "2023-09-30T00:00:00.000000000",
          "2023-09-29T00:00:00.000000000",
          "2023-09-28T00:00:00.000000000",
          "2023-09-27T00:00:00.000000000",
          "2023-09-26T00:00:00.000000000",
          "2023-09-25T00:00:00.000000000",
          "2023-09-24T00:00:00.000000000",
          "2023-09-23T00:00:00.000000000",
          "2023-09-22T00:00:00.000000000",
          "2023-09-21T00:00:00.000000000",
          "2023-09-20T00:00:00.000000000",
          "2023-09-19T00:00:00.000000000",
          "2023-09-18T00:00:00.000000000",
          "2023-09-17T00:00:00.000000000",
          "2023-09-16T00:00:00.000000000",
          "2023-09-15T00:00:00.000000000",
          "2023-09-14T00:00:00.000000000",
          "2023-09-13T00:00:00.000000000",
          "2023-09-12T00:00:00.000000000",
          "2023-09-11T00:00:00.000000000",
          "2023-09-10T00:00:00.000000000",
          "2023-09-09T00:00:00.000000000",
          "2023-09-08T00:00:00.000000000",
          "2023-09-07T00:00:00.000000000",
          "2023-09-06T00:00:00.000000000",
          "2023-09-05T00:00:00.000000000",
          "2023-09-04T00:00:00.000000000",
          "2023-09-03T00:00:00.000000000",
          "2023-09-02T00:00:00.000000000",
          "2023-09-01T00:00:00.000000000",
          "2023-08-31T00:00:00.000000000",
          "2023-08-30T00:00:00.000000000",
          "2023-08-29T00:00:00.000000000",
          "2023-08-28T00:00:00.000000000",
          "2023-08-27T00:00:00.000000000",
          "2023-08-26T00:00:00.000000000",
          "2023-08-25T00:00:00.000000000",
          "2023-08-24T00:00:00.000000000",
          "2023-08-23T00:00:00.000000000",
          "2023-08-22T00:00:00.000000000",
          "2023-08-21T00:00:00.000000000",
          "2023-08-20T00:00:00.000000000",
          "2023-08-19T00:00:00.000000000",
          "2023-08-18T00:00:00.000000000",
          "2023-08-17T00:00:00.000000000",
          "2023-08-16T00:00:00.000000000",
          "2023-08-15T00:00:00.000000000",
          "2023-08-14T00:00:00.000000000",
          "2023-08-13T00:00:00.000000000",
          "2023-08-12T00:00:00.000000000",
          "2023-08-11T00:00:00.000000000",
          "2023-08-10T00:00:00.000000000",
          "2023-08-09T00:00:00.000000000",
          "2023-08-08T00:00:00.000000000",
          "2023-08-07T00:00:00.000000000",
          "2023-08-06T00:00:00.000000000",
          "2023-08-05T00:00:00.000000000",
          "2023-08-04T00:00:00.000000000",
          "2023-08-03T00:00:00.000000000",
          "2023-08-02T00:00:00.000000000",
          "2023-08-01T00:00:00.000000000",
          "2023-07-31T00:00:00.000000000",
          "2023-07-30T00:00:00.000000000",
          "2023-07-29T00:00:00.000000000",
          "2023-07-28T00:00:00.000000000",
          "2023-07-27T00:00:00.000000000",
          "2023-07-26T00:00:00.000000000",
          "2023-07-25T00:00:00.000000000",
          "2023-07-24T00:00:00.000000000",
          "2023-07-23T00:00:00.000000000",
          "2023-07-22T00:00:00.000000000",
          "2023-07-21T00:00:00.000000000",
          "2023-07-20T00:00:00.000000000",
          "2023-07-19T00:00:00.000000000",
          "2023-07-18T00:00:00.000000000",
          "2023-07-17T00:00:00.000000000",
          "2023-07-16T00:00:00.000000000",
          "2023-07-15T00:00:00.000000000",
          "2023-07-14T00:00:00.000000000",
          "2023-07-13T00:00:00.000000000",
          "2023-07-12T00:00:00.000000000",
          "2023-07-11T00:00:00.000000000",
          "2023-07-10T00:00:00.000000000",
          "2023-07-09T00:00:00.000000000",
          "2023-07-08T00:00:00.000000000",
          "2023-07-07T00:00:00.000000000",
          "2023-07-06T00:00:00.000000000",
          "2023-07-05T00:00:00.000000000",
          "2023-07-04T00:00:00.000000000",
          "2023-07-03T00:00:00.000000000",
          "2023-07-02T00:00:00.000000000",
          "2023-07-01T00:00:00.000000000",
          "2023-06-30T00:00:00.000000000",
          "2023-06-29T00:00:00.000000000",
          "2023-06-28T00:00:00.000000000",
          "2023-06-27T00:00:00.000000000",
          "2023-06-26T00:00:00.000000000",
          "2023-06-25T00:00:00.000000000",
          "2023-06-24T00:00:00.000000000",
          "2023-06-23T00:00:00.000000000",
          "2023-06-22T00:00:00.000000000",
          "2023-06-21T00:00:00.000000000",
          "2023-06-20T00:00:00.000000000",
          "2023-06-19T00:00:00.000000000",
          "2023-06-18T00:00:00.000000000",
          "2023-06-17T00:00:00.000000000",
          "2023-06-16T00:00:00.000000000",
          "2023-06-15T00:00:00.000000000",
          "2023-06-14T00:00:00.000000000",
          "2023-06-13T00:00:00.000000000",
          "2023-06-12T00:00:00.000000000",
          "2023-06-11T00:00:00.000000000",
          "2023-06-10T00:00:00.000000000",
          "2023-06-09T00:00:00.000000000",
          "2023-06-08T00:00:00.000000000",
          "2023-06-07T00:00:00.000000000",
          "2023-06-06T00:00:00.000000000",
          "2023-06-05T00:00:00.000000000",
          "2023-06-04T00:00:00.000000000",
          "2023-06-03T00:00:00.000000000",
          "2023-06-02T00:00:00.000000000",
          "2023-06-01T00:00:00.000000000",
          "2023-05-31T00:00:00.000000000",
          "2023-05-30T00:00:00.000000000",
          "2023-05-29T00:00:00.000000000",
          "2023-05-28T00:00:00.000000000",
          "2023-05-27T00:00:00.000000000",
          "2023-05-26T00:00:00.000000000",
          "2023-05-25T00:00:00.000000000",
          "2023-05-24T00:00:00.000000000",
          "2023-05-23T00:00:00.000000000",
          "2023-05-22T00:00:00.000000000",
          "2023-05-21T00:00:00.000000000",
          "2023-05-20T00:00:00.000000000",
          "2023-05-19T00:00:00.000000000",
          "2023-05-18T00:00:00.000000000",
          "2023-05-17T00:00:00.000000000",
          "2023-05-16T00:00:00.000000000",
          "2023-05-15T00:00:00.000000000",
          "2023-05-14T00:00:00.000000000",
          "2023-05-13T00:00:00.000000000",
          "2023-05-12T00:00:00.000000000",
          "2023-05-11T00:00:00.000000000",
          "2023-05-10T00:00:00.000000000",
          "2023-05-09T00:00:00.000000000",
          "2023-05-08T00:00:00.000000000",
          "2023-05-07T00:00:00.000000000",
          "2023-05-06T00:00:00.000000000",
          "2023-05-05T00:00:00.000000000",
          "2023-05-04T00:00:00.000000000",
          "2023-05-03T00:00:00.000000000",
          "2023-05-02T00:00:00.000000000",
          "2023-05-01T00:00:00.000000000",
          "2023-04-30T00:00:00.000000000",
          "2023-04-29T00:00:00.000000000",
          "2023-04-28T00:00:00.000000000",
          "2023-04-27T00:00:00.000000000",
          "2023-04-26T00:00:00.000000000",
          "2023-04-25T00:00:00.000000000",
          "2023-04-24T00:00:00.000000000",
          "2023-04-23T00:00:00.000000000",
          "2023-04-22T00:00:00.000000000",
          "2023-04-21T00:00:00.000000000",
          "2023-04-20T00:00:00.000000000",
          "2023-04-19T00:00:00.000000000",
          "2023-04-18T00:00:00.000000000",
          "2023-04-17T00:00:00.000000000",
          "2023-04-16T00:00:00.000000000",
          "2023-04-15T00:00:00.000000000",
          "2023-04-14T00:00:00.000000000",
          "2023-04-13T00:00:00.000000000",
          "2023-04-12T00:00:00.000000000",
          "2023-04-11T00:00:00.000000000",
          "2023-04-10T00:00:00.000000000",
          "2023-04-09T00:00:00.000000000",
          "2023-04-08T00:00:00.000000000",
          "2023-04-07T00:00:00.000000000",
          "2023-04-06T00:00:00.000000000",
          "2023-04-05T00:00:00.000000000",
          "2023-04-04T00:00:00.000000000",
          "2023-04-03T00:00:00.000000000",
          "2023-04-02T00:00:00.000000000",
          "2023-04-01T00:00:00.000000000",
          "2023-03-31T00:00:00.000000000",
          "2023-03-30T00:00:00.000000000",
          "2023-03-29T00:00:00.000000000",
          "2023-03-28T00:00:00.000000000",
          "2023-03-27T00:00:00.000000000",
          "2023-03-26T00:00:00.000000000",
          "2023-03-25T00:00:00.000000000",
          "2023-03-24T00:00:00.000000000",
          "2023-03-23T00:00:00.000000000",
          "2023-03-22T00:00:00.000000000",
          "2023-03-21T00:00:00.000000000",
          "2023-03-20T00:00:00.000000000",
          "2023-03-19T00:00:00.000000000",
          "2023-03-18T00:00:00.000000000",
          "2023-03-17T00:00:00.000000000",
          "2023-03-16T00:00:00.000000000",
          "2023-03-15T00:00:00.000000000",
          "2023-03-14T00:00:00.000000000",
          "2023-03-13T00:00:00.000000000",
          "2023-03-12T00:00:00.000000000",
          "2023-03-11T00:00:00.000000000",
          "2023-03-10T00:00:00.000000000",
          "2023-03-09T00:00:00.000000000",
          "2023-03-08T00:00:00.000000000",
          "2023-03-07T00:00:00.000000000",
          "2023-03-06T00:00:00.000000000",
          "2023-03-05T00:00:00.000000000",
          "2023-03-04T00:00:00.000000000",
          "2023-03-03T00:00:00.000000000",
          "2023-03-02T00:00:00.000000000",
          "2023-03-01T00:00:00.000000000",
          "2023-02-28T00:00:00.000000000",
          "2023-02-27T00:00:00.000000000",
          "2023-02-26T00:00:00.000000000",
          "2023-02-25T00:00:00.000000000",
          "2023-02-24T00:00:00.000000000",
          "2023-02-23T00:00:00.000000000",
          "2023-02-22T00:00:00.000000000",
          "2023-02-21T00:00:00.000000000",
          "2023-02-20T00:00:00.000000000",
          "2023-02-19T00:00:00.000000000",
          "2023-02-18T00:00:00.000000000",
          "2023-02-17T00:00:00.000000000",
          "2023-02-16T00:00:00.000000000",
          "2023-02-15T00:00:00.000000000",
          "2023-02-14T00:00:00.000000000",
          "2023-02-13T00:00:00.000000000",
          "2023-02-12T00:00:00.000000000",
          "2023-02-11T00:00:00.000000000",
          "2023-02-10T00:00:00.000000000",
          "2023-02-09T00:00:00.000000000",
          "2023-02-08T00:00:00.000000000",
          "2023-02-07T00:00:00.000000000",
          "2023-02-06T00:00:00.000000000",
          "2023-02-05T00:00:00.000000000",
          "2023-02-04T00:00:00.000000000",
          "2023-02-03T00:00:00.000000000",
          "2023-02-02T00:00:00.000000000",
          "2023-02-01T00:00:00.000000000",
          "2023-01-31T00:00:00.000000000",
          "2023-01-30T00:00:00.000000000",
          "2023-01-29T00:00:00.000000000",
          "2023-01-28T00:00:00.000000000",
          "2023-01-27T00:00:00.000000000",
          "2023-01-26T00:00:00.000000000",
          "2023-01-25T00:00:00.000000000",
          "2023-01-24T00:00:00.000000000",
          "2023-01-23T00:00:00.000000000",
          "2023-01-22T00:00:00.000000000",
          "2023-01-21T00:00:00.000000000",
          "2023-01-20T00:00:00.000000000",
          "2023-01-19T00:00:00.000000000",
          "2023-01-18T00:00:00.000000000",
          "2023-01-17T00:00:00.000000000",
          "2023-01-16T00:00:00.000000000",
          "2023-01-15T00:00:00.000000000",
          "2023-01-14T00:00:00.000000000",
          "2023-01-13T00:00:00.000000000",
          "2023-01-12T00:00:00.000000000",
          "2023-01-11T00:00:00.000000000",
          "2023-01-10T00:00:00.000000000",
          "2023-01-09T00:00:00.000000000",
          "2023-01-08T00:00:00.000000000",
          "2023-01-07T00:00:00.000000000",
          "2023-01-06T00:00:00.000000000",
          "2023-01-05T00:00:00.000000000",
          "2023-01-04T00:00:00.000000000",
          "2023-01-03T00:00:00.000000000",
          "2023-01-02T00:00:00.000000000",
          "2023-01-01T00:00:00.000000000"
         ],
         "xaxis": "x3",
         "y": {
          "bdata": "AAAAAAAAAAC5yoWU5mMdQbnKhZTmYx1BucqFlOZjHUG5yoWU5mMdQbnKhZTmYx1BDGrRN3TNJEEMatE3dM0kQQxq0Td0zSRBDGrRN3TNJEEMatE3dM0kQQxq0Td0zSRBDGrRN3TNJEEMatE3dM0kQQxq0Td0zSRBDGrRN3TNJEEMatE3dM0kQQxq0Td0zSRBDGrRN3TNJEEMatE3dM0kQQxq0Td0zSRBDGrRN3TNJEEMatE3dM0kQQxq0Td0zSRBDGrRN3TNJEEMatE3dM0kQQxq0Td0zSRBDGrRN3TNJEEMatE3dM0kQQxq0Td0zSRBDGrRN3TNJEEMatE3dM0kQQxq0Td0zSRBDGrRN3TNJEEMatE3dM0kQQxq0Td0zSRBDGrRN3TNJEEMatE3dM0kQQxq0Td0zSRBDGrRN3TNJEEMatE3dM0kQQxq0Td0zSRBDGrRN3TNJEEMatE3dM0kQQxq0Td0zSRBDGrRN3TNJEEMatE3dM0kQQxq0Td0zSRBDGrRN3TNJEEMatE3dM0kQQxq0Td0zSRBDGrRN3TNJEEMatE3dM0kQQxq0Td0zSRBDGrRN3TNJEEMatE3dM0kQQxq0Td0zSRBDGrRN3TNJEEMatE3dM0kQQxq0Td0zSRBDGrRN3TNJEEMatE3dM0kQQxq0Td0zSRBDGrRN3TNJEEMatE3dM0kQQxq0Td0zSRBDGrRN3TNJEEMatE3dM0kQQxq0Td0zSRBDGrRN3TNJEEMatE3dM0kQQxq0Td0zSRBDGrRN3TNJEEMatE3dM0kQQxq0Td0zSRBDGrRN3TNJEEMatE3dM0kQQxq0Td0zSRBDGrRN3TNJEEMatE3dM0kQQxq0Td0zSRBDGrRN3TNJEEMatE3dM0kQQxq0Td0zSRBDGrRN3TNJEEMatE3dM0kQQxq0Td0zSRBDGrRN3TNJEEMatE3dM0kQQxq0Td0zSRBDGrRN3TNJEEMatE3dM0kQQxq0Td0zSRBDGrRN3TNJEEMatE3dM0kQQxq0Td0zSRBDGrRN3TNJEEMatE3dM0kQQxq0Td0zSRBDGrRN3TNJEEMatE3dM0kQQxq0Td0zSRBDGrRN3TNJEEMatE3dM0kQQxq0Td0zSRBDGrRN3TNJEEMatE3dM0kQQxq0Td0zSRBDGrRN3TNJEEMatE3dM0kQQxq0Td0zSRBDGrRN3TNJEEMatE3dM0kQQxq0Td0zSRBDGrRN3TNJEEMatE3dM0kQQxq0Td0zSRBDGrRN3TNJEEMatE3dM0kQQxq0Td0zSRBDGrRN3TNJEEMatE3dM0kQQxq0Td0zSRBDGrRN3TNJEEMatE3dM0kQQxq0Td0zSRBDGrRN3TNJEEMatE3dM0kQQxq0Td0zSRBDGrRN3TNJEEMatE3dM0kQQxq0Td0zSRBDGrRN3TNJEEMatE3dM0kQQxq0Td0zSRBDGrRN3TNJEEMatE3dM0kQQxq0Td0zSRBDGrRN3TNJEEMatE3dM0kQQxq0Td0zSRBDGrRN3TNJEEMatE3dM0kQQxq0Td0zSRBDGrRN3TNJEEMatE3dM0kQQxq0Td0zSRBDGrRN3TNJEEMatE3dM0kQQxq0Td0zSRBDGrRN3TNJEEMatE3dM0kQQxq0Td0zSRBDGrRN3TNJEEMatE3dM0kQQxq0Td0zSRBDGrRN3TNJEEMatE3dM0kQQxq0Td0zSRBDGrRN3TNJEEMatE3dM0kQQxq0Td0zSRBDGrRN3TNJEEMatE3dM0kQQxq0Td0zSRBDGrRN3TNJEEMatE3dM0kQQxq0Td0zSRBDGrRN3TNJEEMatE3dM0kQQxq0Td0zSRBDGrRN3TNJEEMatE3dM0kQQxq0Td0zSRBDGrRN3TNJEEMatE3dM0kQQxq0Td0zSRBDGrRN3TNJEEMatE3dM0kQQxq0Td0zSRBDGrRN3TNJEEMatE3dM0kQQxq0Td0zSRBDGrRN3TNJEEMatE3dM0kQQxq0Td0zSRBDGrRN3TNJEEMatE3dM0kQQxq0Td0zSRBDGrRN3TNJEEMatE3dM0kQQxq0Td0zSRBDGrRN3TNJEEMatE3dM0kQQxq0Td0zSRBDGrRN3TNJEEMatE3dM0kQQxq0Td0zSRBDGrRN3TNJEEMatE3dM0kQQxq0Td0zSRBDGrRN3TNJEEMatE3dM0kQQxq0Td0zSRBDGrRN3TNJEEMatE3dM0kQQxq0Td0zSRBDGrRN3TNJEEMatE3dM0kQQxq0Td0zSRBDGrRN3TNJEEMatE3dM0kQQxq0Td0zSRBDGrRN3TNJEEMatE3dM0kQQxq0Td0zSRBDGrRN3TNJEEMatE3dM0kQQxq0Td0zSRBDGrRN3TNJEEMatE3dM0kQQxq0Td0zSRBDGrRN3TNJEEMatE3dM0kQQxq0Td0zSRBDGrRN3TNJEEMatE3dM0kQQxq0Td0zSRBDGrRN3TNJEEMatE3dM0kQQxq0Td0zSRBDGrRN3TNJEEMatE3dM0kQQxq0Td0zSRBDGrRN3TNJEEMatE3dM0kQQxq0Td0zSRBDGrRN3TNJEEMatE3dM0kQQxq0Td0zSRBDGrRN3TNJEEMatE3dM0kQQxq0Td0zSRBDGrRN3TNJEEMatE3dM0kQQxq0Td0zSRBDGrRN3TNJEEMatE3dM0kQQxq0Td0zSRBDGrRN3TNJEEMatE3dM0kQQxq0Td0zSRBDGrRN3TNJEEMatE3dM0kQQxq0Td0zSRBDGrRN3TNJEEMatE3dM0kQQxq0Td0zSRBDGrRN3TNJEEMatE3dM0kQQxq0Td0zSRBDGrRN3TNJEEMatE3dM0kQQxq0Td0zSRBDGrRN3TNJEEMatE3dM0kQQxq0Td0zSRBDGrRN3TNJEEMatE3dM0kQQxq0Td0zSRBDGrRN3TNJEEMatE3dM0kQQxq0Td0zSRBDGrRN3TNJEEMatE3dM0kQQxq0Td0zSRBDGrRN3TNJEEMatE3dM0kQQxq0Td0zSRBDGrRN3TNJEEMatE3dM0kQQxq0Td0zSRBDGrRN3TNJEEMatE3dM0kQQxq0Td0zSRBDGrRN3TNJEEMatE3dM0kQQxq0Td0zSRBDGrRN3TNJEEMatE3dM0kQQxq0Td0zSRBDGrRN3TNJEEMatE3dM0kQQxq0Td0zSRBDGrRN3TNJEEMatE3dM0kQQxq0Td0zSRBDGrRN3TNJEEMatE3dM0kQQxq0Td0zSRBDGrRN3TNJEEMatE3dM0kQQxq0Td0zSRBDGrRN3TNJEEMatE3dM0kQQxq0Td0zSRBDGrRN3TNJEEMatE3dM0kQQxq0Td0zSRBDGrRN3TNJEEMatE3dM0kQQxq0Td0zSRBDGrRN3TNJEEMatE3dM0kQQxq0Td0zSRBDGrRN3TNJEEMatE3dM0kQQxq0Td0zSRBDGrRN3TNJEEMatE3dM0kQQxq0Td0zSRBDGrRN3TNJEEMatE3dM0kQQxq0Td0zSRBDGrRN3TNJEEMatE3dM0kQQxq0Td0zSRBDGrRN3TNJEEMatE3dM0kQQxq0Td0zSRBDGrRN3TNJEEMatE3dM0kQQxq0Td0zSRBDGrRN3TNJEEMatE3dM0kQQxq0Td0zSRBDGrRN3TNJEEMatE3dM0kQQxq0Td0zSRBDGrRN3TNJEEMatE3dM0kQQxq0Td0zSRBDGrRN3TNJEEMatE3dM0kQQxq0Td0zSRBDGrRN3TNJEEMatE3dM0kQQxq0Td0zSRBDGrRN3TNJEEMatE3dM0kQQxq0Td0zSRBDGrRN3TNJEEMatE3dM0kQQxq0Td0zSRBDGrRN3TNJEEMatE3dM0kQQxq0Td0zSRBDGrRN3TNJEEMatE3dM0kQQxq0Td0zSRBadEz+hzNFkFp0TP6HM0WQWnRM/oczRZBadEz+hzNFkFp0TP6HM0WQWnRM/oczRZBadEz+hzNFkFp0TP6HM0WQWnRM/oczRZBadEz+hzNFkFp0TP6HM0WQWnRM/oczRZBadEz+hzNFkFp0TP6HM0WQWnRM/oczRZBadEz+hzNFkFp0TP6HM0WQWnRM/oczRZBadEz+hzNFkFp0TP6HM0WQWnRM/oczRZBadEz+hzNFkFp0TP6HM0WQWnRM/oczRZBadEz+hzNFkFp0TP6HM0WQWnRM/oczRZBadEz+hzNFkFp0TP6HM0WQWnRM/oczRZBadEz+hzNFkFp0TP6HM0WQWnRM/oczRZBadEz+hzNFkFp0TP6HM0WQWnRM/oczRZBadEz+hzNFkFp0TP6HM0WQWnRM/oczRZBadEz+hzNFkFp0TP6HM0WQWnRM/oczRZBadEz+hzNFkFp0TP6HM0WQWnRM/oczRZBadEz+hzNFkFp0TP6HM0WQWnRM/oczRZBadEz+hzNFkFp0TP6HM0WQWnRM/oczRZBadEz+hzNFkFp0TP6HM0WQWnRM/oczRZBadEz+hzNFkFp0TP6HM0WQWnRM/oczRZBadEz+hzNFkFp0TP6HM0WQWnRM/oczRZBadEz+hzNFkFp0TP6HM0WQWnRM/oczRZBadEz+hzNFkFp0TP6HM0WQWnRM/oczRZBadEz+hzNFkFp0TP6HM0WQWnRM/oczRZBadEz+hzNFkFp0TP6HM0WQWnRM/oczRZBadEz+hzNFkFp0TP6HM0WQWnRM/oczRZBadEz+hzNFkFp0TP6HM0WQWnRM/oczRZBadEz+hzNFkFp0TP6HM0WQWnRM/oczRZBadEz+hzNFkFp0TP6HM0WQWnRM/oczRZBadEz+hzNFkFp0TP6HM0WQWnRM/oczRZBadEz+hzNFkFp0TP6HM0WQWnRM/oczRZBadEz+hzNFkFp0TP6HM0WQWnRM/oczRZBadEz+hzNFkFp0TP6HM0WQWnRM/oczRZBadEz+hzNFkFp0TP6HM0WQWnRM/oczRZBadEz+hzNFkFp0TP6HM0WQWnRM/oczRZBadEz+hzNFkFp0TP6HM0WQWnRM/oczRZBadEz+hzNFkFp0TP6HM0WQWnRM/oczRZBadEz+hzNFkFp0TP6HM0WQWnRM/oczRZBadEz+hzNFkFp0TP6HM0WQWnRM/oczRZBadEz+hzNFkFp0TP6HM0WQWnRM/oczRZBadEz+hzNFkFp0TP6HM0WQWnRM/oczRZBadEz+hzNFkFp0TP6HM0WQWnRM/oczRZBadEz+hzNFkFp0TP6HM0WQWnRM/oczRZBadEz+hzNFkFp0TP6HM0WQWnRM/oczRZBadEz+hzNFkFp0TP6HM0WQWnRM/oczRZBadEz+hzNFkFp0TP6HM0WQWnRM/oczRZBadEz+hzNFkFp0TP6HM0WQWnRM/oczRZBadEz+hzNFkFp0TP6HM0WQWnRM/oczRZBadEz+hzNFkFp0TP6HM0WQWnRM/oczRZBadEz+hzNFkFp0TP6HM0WQWnRM/oczRZBadEz+hzNFkFp0TP6HM0WQWnRM/oczRZBadEz+hzNFkFp0TP6HM0WQWnRM/oczRZBadEz+hzNFkFp0TP6HM0WQWnRM/oczRZBadEz+hzNFkFp0TP6HM0WQWnRM/oczRZBadEz+hzNFkFp0TP6HM0WQWnRM/oczRZBadEz+hzNFkFp0TP6HM0WQWnRM/oczRZBadEz+hzNFkFp0TP6HM0WQWnRM/oczRZBadEz+hzNFkFp0TP6HM0WQWnRM/oczRZBadEz+hzNFkFp0TP6HM0WQWnRM/oczRZBadEz+hzNFkFp0TP6HM0WQWnRM/oczRZBadEz+hzNFkFp0TP6HM0WQWnRM/oczRZBadEz+hzNFkFp0TP6HM0WQWnRM/oczRZBadEz+hzNFkFp0TP6HM0WQWnRM/oczRZBadEz+hzNFkFp0TP6HM0WQWnRM/oczRZBadEz+hzNFkFp0TP6HM0WQWnRM/oczRZBadEz+hzNFkFp0TP6HM0WQWnRM/oczRZBadEz+hzNFkFp0TP6HM0WQWnRM/oczRZBadEz+hzNFkFp0TP6HM0WQWnRM/oczRZBadEz+hzNFkFp0TP6HM0WQWnRM/oczRZBadEz+hzNFkFp0TP6HM0WQWnRM/oczRZBadEz+hzNFkFp0TP6HM0WQWnRM/oczRZBadEz+hzNFkFp0TP6HM0WQWnRM/oczRZBadEz+hzNFkFp0TP6HM0WQWnRM/oczRZBadEz+hzNFkFp0TP6HM0WQWnRM/oczRZBadEz+hzNFkFp0TP6HM0WQWnRM/oczRZBadEz+hzNFkFp0TP6HM0WQWnRM/oczRZBadEz+hzNFkFp0TP6HM0WQWnRM/oczRZBadEz+hzNFkFp0TP6HM0WQWnRM/oczRZBadEz+hzNFkFp0TP6HM0WQWnRM/oczRZBadEz+hzNFkFp0TP6HM0WQWnRM/oczRZBadEz+hzNFkFp0TP6HM0WQWnRM/oczRZBadEz+hzNFkFp0TP6HM0WQWnRM/oczRZBadEz+hzNFkFp0TP6HM0WQWnRM/oczRZBadEz+hzNFkFp0TP6HM0WQWnRM/oczRZBadEz+hzNFkFp0TP6HM0WQWnRM/oczRZBadEz+hzNFkFp0TP6HM0WQWnRM/oczRZBadEz+hzNFkFp0TP6HM0WQWnRM/oczRZBadEz+hzNFkFp0TP6HM0WQWnRM/oczRZBadEz+hzNFkFp0TP6HM0WQWnRM/oczRZBadEz+hzNFkFp0TP6HM0WQWnRM/oczRZBadEz+hzNFkFp0TP6HM0WQWnRM/oczRZBadEz+hzNFkFp0TP6HM0WQWnRM/oczRZBadEz+hzNFkFp0TP6HM0WQWnRM/oczRZBadEz+hzNFkFp0TP6HM0WQWnRM/oczRZBadEz+hzNFkFp0TP6HM0WQWnRM/oczRZBadEz+hzNFkFp0TP6HM0WQWnRM/oczRZBadEz+hzNFkFp0TP6HM0WQWnRM/oczRZBadEz+hzNFkFp0TP6HM0WQWnRM/oczRZBadEz+hzNFkFp0TP6HM0WQWnRM/oczRZBadEz+hzNFkFp0TP6HM0WQWnRM/oczRZBadEz+hzNFkFp0TP6HM0WQWnRM/oczRZBadEz+hzNFkFp0TP6HM0WQWnRM/oczRZBadEz+hzNFkFp0TP6HM0WQWnRM/oczRZBadEz+hzNFkFp0TP6HM0WQWnRM/oczRZBadEz+hzNFkFp0TP6HM0WQWnRM/oczRZBadEz+hzNFkFp0TP6HM0WQWnRM/oczRZBadEz+hzNFkFp0TP6HM0WQWnRM/oczRZBadEz+hzNFkFp0TP6HM0WQWnRM/oczRZBadEz+hzNFkFp0TP6HM0WQWnRM/oczRZBadEz+hzNFkFp0TP6HM0WQWnRM/oczRZBadEz+hzNFkFp0TP6HM0WQWnRM/oczRZBadEz+hzNFkFp0TP6HM0WQWnRM/oczRZBadEz+hzNFkFp0TP6HM0WQWnRM/oczRZBadEz+hzNFkFp0TP6HM0WQWnRM/oczRZBadEz+hzNFkFp0TP6HM0WQWnRM/oczRZBadEz+hzNFkFp0TP6HM0WQWnRM/oczRZBadEz+hzNFkFp0TP6HM0WQWnRM/oczRZBadEz+hzNFkFp0TP6HM0WQWnRM/oczRZBadEz+hzNFkEAAAAAAAAAAAAAAAAAAAAAAAAAAAAAAAAAAAAAAAAAAAAAAAAAAAAAAAAAAAAAAAAAAAAAAAAAAAAAAAAAAAAA",
          "dtype": "f8"
         },
         "yaxis": "y3"
        },
        {
         "line": {
          "color": "black",
          "dash": "dash",
          "width": 1
         },
         "marker": {
          "color": "black",
          "size": 4,
          "symbol": "x"
         },
         "mode": "lines+markers",
         "name": "Observed day layer 1",
         "type": "scatter",
         "x": [
          "2023-01-01T00:00:00.000000000",
          "2023-01-02T00:00:00.000000000",
          "2023-01-03T00:00:00.000000000",
          "2023-01-04T00:00:00.000000000",
          "2023-01-05T00:00:00.000000000",
          "2023-01-06T00:00:00.000000000",
          "2023-01-07T00:00:00.000000000",
          "2023-01-08T00:00:00.000000000",
          "2023-01-09T00:00:00.000000000",
          "2023-01-10T00:00:00.000000000",
          "2023-01-11T00:00:00.000000000",
          "2023-01-12T00:00:00.000000000",
          "2023-01-13T00:00:00.000000000",
          "2023-01-14T00:00:00.000000000",
          "2023-01-15T00:00:00.000000000",
          "2023-01-16T00:00:00.000000000",
          "2023-01-17T00:00:00.000000000",
          "2023-01-18T00:00:00.000000000",
          "2023-01-19T00:00:00.000000000",
          "2023-01-20T00:00:00.000000000",
          "2023-01-21T00:00:00.000000000",
          "2023-01-22T00:00:00.000000000",
          "2023-01-23T00:00:00.000000000",
          "2023-01-24T00:00:00.000000000",
          "2023-01-25T00:00:00.000000000",
          "2023-01-26T00:00:00.000000000",
          "2023-01-27T00:00:00.000000000",
          "2023-01-28T00:00:00.000000000",
          "2023-01-29T00:00:00.000000000",
          "2023-01-30T00:00:00.000000000",
          "2023-01-31T00:00:00.000000000",
          "2023-02-01T00:00:00.000000000",
          "2023-02-02T00:00:00.000000000",
          "2023-02-03T00:00:00.000000000",
          "2023-02-04T00:00:00.000000000",
          "2023-02-05T00:00:00.000000000",
          "2023-02-06T00:00:00.000000000",
          "2023-02-07T00:00:00.000000000",
          "2023-02-08T00:00:00.000000000",
          "2023-02-09T00:00:00.000000000",
          "2023-02-10T00:00:00.000000000",
          "2023-02-11T00:00:00.000000000",
          "2023-02-12T00:00:00.000000000",
          "2023-02-13T00:00:00.000000000",
          "2023-02-14T00:00:00.000000000",
          "2023-02-15T00:00:00.000000000",
          "2023-02-16T00:00:00.000000000",
          "2023-02-17T00:00:00.000000000",
          "2023-02-18T00:00:00.000000000",
          "2023-02-19T00:00:00.000000000",
          "2023-02-20T00:00:00.000000000",
          "2023-02-21T00:00:00.000000000",
          "2023-02-22T00:00:00.000000000",
          "2023-02-23T00:00:00.000000000",
          "2023-02-24T00:00:00.000000000",
          "2023-02-25T00:00:00.000000000",
          "2023-02-26T00:00:00.000000000",
          "2023-02-27T00:00:00.000000000",
          "2023-02-28T00:00:00.000000000",
          "2023-03-01T00:00:00.000000000",
          "2023-03-02T00:00:00.000000000",
          "2023-03-03T00:00:00.000000000",
          "2023-03-04T00:00:00.000000000",
          "2023-03-05T00:00:00.000000000",
          "2023-03-06T00:00:00.000000000",
          "2023-03-07T00:00:00.000000000",
          "2023-03-08T00:00:00.000000000",
          "2023-03-09T00:00:00.000000000",
          "2023-03-10T00:00:00.000000000",
          "2023-03-11T00:00:00.000000000",
          "2023-03-12T00:00:00.000000000",
          "2023-03-13T00:00:00.000000000",
          "2023-03-14T00:00:00.000000000",
          "2023-03-15T00:00:00.000000000",
          "2023-03-16T00:00:00.000000000",
          "2023-03-17T00:00:00.000000000",
          "2023-03-18T00:00:00.000000000",
          "2023-03-19T00:00:00.000000000",
          "2023-03-20T00:00:00.000000000",
          "2023-03-21T00:00:00.000000000",
          "2023-03-22T00:00:00.000000000",
          "2023-03-23T00:00:00.000000000",
          "2023-03-24T00:00:00.000000000",
          "2023-03-25T00:00:00.000000000",
          "2023-03-26T00:00:00.000000000",
          "2023-03-27T00:00:00.000000000",
          "2023-03-28T00:00:00.000000000",
          "2023-03-29T00:00:00.000000000",
          "2023-03-30T00:00:00.000000000",
          "2023-03-31T00:00:00.000000000",
          "2023-04-01T00:00:00.000000000",
          "2023-04-02T00:00:00.000000000",
          "2023-04-03T00:00:00.000000000",
          "2023-04-04T00:00:00.000000000",
          "2023-04-05T00:00:00.000000000",
          "2023-04-06T00:00:00.000000000",
          "2023-04-07T00:00:00.000000000",
          "2023-04-08T00:00:00.000000000",
          "2023-04-09T00:00:00.000000000",
          "2023-04-10T00:00:00.000000000",
          "2023-04-11T00:00:00.000000000",
          "2023-04-12T00:00:00.000000000",
          "2023-04-13T00:00:00.000000000",
          "2023-04-14T00:00:00.000000000",
          "2023-04-15T00:00:00.000000000",
          "2023-04-16T00:00:00.000000000",
          "2023-04-17T00:00:00.000000000",
          "2023-04-18T00:00:00.000000000",
          "2023-04-19T00:00:00.000000000",
          "2023-04-20T00:00:00.000000000",
          "2023-04-21T00:00:00.000000000",
          "2023-04-22T00:00:00.000000000",
          "2023-04-23T00:00:00.000000000",
          "2023-04-24T00:00:00.000000000",
          "2023-04-25T00:00:00.000000000",
          "2023-04-26T00:00:00.000000000",
          "2023-04-27T00:00:00.000000000",
          "2023-04-28T00:00:00.000000000",
          "2023-04-29T00:00:00.000000000",
          "2023-04-30T00:00:00.000000000",
          "2023-05-01T00:00:00.000000000",
          "2023-05-02T00:00:00.000000000",
          "2023-05-03T00:00:00.000000000",
          "2023-05-04T00:00:00.000000000",
          "2023-05-05T00:00:00.000000000",
          "2023-05-06T00:00:00.000000000",
          "2023-05-07T00:00:00.000000000",
          "2023-05-08T00:00:00.000000000",
          "2023-05-09T00:00:00.000000000",
          "2023-05-10T00:00:00.000000000",
          "2023-05-11T00:00:00.000000000",
          "2023-05-12T00:00:00.000000000",
          "2023-05-13T00:00:00.000000000",
          "2023-05-14T00:00:00.000000000",
          "2023-05-15T00:00:00.000000000",
          "2023-05-16T00:00:00.000000000",
          "2023-05-17T00:00:00.000000000",
          "2023-05-18T00:00:00.000000000",
          "2023-05-19T00:00:00.000000000",
          "2023-05-20T00:00:00.000000000",
          "2023-05-21T00:00:00.000000000",
          "2023-05-22T00:00:00.000000000",
          "2023-05-23T00:00:00.000000000",
          "2023-05-24T00:00:00.000000000",
          "2023-05-25T00:00:00.000000000",
          "2023-05-26T00:00:00.000000000",
          "2023-05-27T00:00:00.000000000",
          "2023-05-28T00:00:00.000000000",
          "2023-05-29T00:00:00.000000000",
          "2023-05-30T00:00:00.000000000",
          "2023-05-31T00:00:00.000000000",
          "2023-06-01T00:00:00.000000000",
          "2023-06-02T00:00:00.000000000",
          "2023-06-03T00:00:00.000000000",
          "2023-06-04T00:00:00.000000000",
          "2023-06-05T00:00:00.000000000",
          "2023-06-06T00:00:00.000000000",
          "2023-06-07T00:00:00.000000000",
          "2023-06-08T00:00:00.000000000",
          "2023-06-09T00:00:00.000000000",
          "2023-06-10T00:00:00.000000000",
          "2023-06-11T00:00:00.000000000",
          "2023-06-12T00:00:00.000000000",
          "2023-06-13T00:00:00.000000000",
          "2023-06-14T00:00:00.000000000",
          "2023-06-15T00:00:00.000000000",
          "2023-06-16T00:00:00.000000000",
          "2023-06-17T00:00:00.000000000",
          "2023-06-18T00:00:00.000000000",
          "2023-06-19T00:00:00.000000000",
          "2023-06-20T00:00:00.000000000",
          "2023-06-21T00:00:00.000000000",
          "2023-06-22T00:00:00.000000000",
          "2023-06-23T00:00:00.000000000",
          "2023-06-24T00:00:00.000000000",
          "2023-06-25T00:00:00.000000000",
          "2023-06-26T00:00:00.000000000",
          "2023-06-27T00:00:00.000000000",
          "2023-06-28T00:00:00.000000000",
          "2023-06-29T00:00:00.000000000",
          "2023-06-30T00:00:00.000000000",
          "2023-07-01T00:00:00.000000000",
          "2023-07-02T00:00:00.000000000",
          "2023-07-03T00:00:00.000000000",
          "2023-07-04T00:00:00.000000000",
          "2023-07-05T00:00:00.000000000",
          "2023-07-06T00:00:00.000000000",
          "2023-07-07T00:00:00.000000000",
          "2023-07-08T00:00:00.000000000",
          "2023-07-09T00:00:00.000000000",
          "2023-07-10T00:00:00.000000000",
          "2023-07-11T00:00:00.000000000",
          "2023-07-12T00:00:00.000000000",
          "2023-07-13T00:00:00.000000000",
          "2023-07-14T00:00:00.000000000",
          "2023-07-15T00:00:00.000000000",
          "2023-07-16T00:00:00.000000000",
          "2023-07-17T00:00:00.000000000",
          "2023-07-18T00:00:00.000000000",
          "2023-07-19T00:00:00.000000000",
          "2023-07-20T00:00:00.000000000",
          "2023-07-21T00:00:00.000000000",
          "2023-07-22T00:00:00.000000000",
          "2023-07-23T00:00:00.000000000",
          "2023-07-24T00:00:00.000000000",
          "2023-07-25T00:00:00.000000000",
          "2023-07-26T00:00:00.000000000",
          "2023-07-27T00:00:00.000000000",
          "2023-07-28T00:00:00.000000000",
          "2023-07-29T00:00:00.000000000",
          "2023-07-30T00:00:00.000000000",
          "2023-07-31T00:00:00.000000000",
          "2023-08-01T00:00:00.000000000",
          "2023-08-02T00:00:00.000000000",
          "2023-08-03T00:00:00.000000000",
          "2023-08-04T00:00:00.000000000",
          "2023-08-05T00:00:00.000000000",
          "2023-08-06T00:00:00.000000000",
          "2023-08-07T00:00:00.000000000",
          "2023-08-08T00:00:00.000000000",
          "2023-08-09T00:00:00.000000000",
          "2023-08-10T00:00:00.000000000",
          "2023-08-11T00:00:00.000000000",
          "2023-08-12T00:00:00.000000000",
          "2023-08-13T00:00:00.000000000",
          "2023-08-14T00:00:00.000000000",
          "2023-08-15T00:00:00.000000000",
          "2023-08-16T00:00:00.000000000",
          "2023-08-17T00:00:00.000000000",
          "2023-08-18T00:00:00.000000000",
          "2023-08-19T00:00:00.000000000",
          "2023-08-20T00:00:00.000000000",
          "2023-08-21T00:00:00.000000000",
          "2023-08-22T00:00:00.000000000",
          "2023-08-23T00:00:00.000000000",
          "2023-08-24T00:00:00.000000000",
          "2023-08-25T00:00:00.000000000",
          "2023-08-26T00:00:00.000000000",
          "2023-08-27T00:00:00.000000000",
          "2023-08-28T00:00:00.000000000",
          "2023-08-29T00:00:00.000000000",
          "2023-08-30T00:00:00.000000000",
          "2023-08-31T00:00:00.000000000",
          "2023-09-01T00:00:00.000000000",
          "2023-09-02T00:00:00.000000000",
          "2023-09-03T00:00:00.000000000",
          "2023-09-04T00:00:00.000000000",
          "2023-09-05T00:00:00.000000000",
          "2023-09-06T00:00:00.000000000",
          "2023-09-07T00:00:00.000000000",
          "2023-09-08T00:00:00.000000000",
          "2023-09-09T00:00:00.000000000",
          "2023-09-10T00:00:00.000000000",
          "2023-09-11T00:00:00.000000000",
          "2023-09-12T00:00:00.000000000",
          "2023-09-13T00:00:00.000000000",
          "2023-09-14T00:00:00.000000000",
          "2023-09-15T00:00:00.000000000",
          "2023-09-16T00:00:00.000000000",
          "2023-09-17T00:00:00.000000000",
          "2023-09-18T00:00:00.000000000",
          "2023-09-19T00:00:00.000000000",
          "2023-09-20T00:00:00.000000000",
          "2023-09-21T00:00:00.000000000",
          "2023-09-22T00:00:00.000000000",
          "2023-09-23T00:00:00.000000000",
          "2023-09-24T00:00:00.000000000",
          "2023-09-25T00:00:00.000000000",
          "2023-09-26T00:00:00.000000000",
          "2023-09-27T00:00:00.000000000",
          "2023-09-28T00:00:00.000000000",
          "2023-09-29T00:00:00.000000000",
          "2023-09-30T00:00:00.000000000",
          "2023-10-01T00:00:00.000000000",
          "2023-10-02T00:00:00.000000000",
          "2023-10-03T00:00:00.000000000",
          "2023-10-04T00:00:00.000000000",
          "2023-10-05T00:00:00.000000000",
          "2023-10-06T00:00:00.000000000",
          "2023-10-07T00:00:00.000000000",
          "2023-10-08T00:00:00.000000000",
          "2023-10-09T00:00:00.000000000",
          "2023-10-10T00:00:00.000000000",
          "2023-10-11T00:00:00.000000000",
          "2023-10-12T00:00:00.000000000",
          "2023-10-13T00:00:00.000000000",
          "2023-10-14T00:00:00.000000000",
          "2023-10-15T00:00:00.000000000",
          "2023-10-16T00:00:00.000000000",
          "2023-10-17T00:00:00.000000000",
          "2023-10-18T00:00:00.000000000",
          "2023-10-19T00:00:00.000000000",
          "2023-10-20T00:00:00.000000000",
          "2023-10-21T00:00:00.000000000",
          "2023-10-22T00:00:00.000000000",
          "2023-10-23T00:00:00.000000000",
          "2023-10-24T00:00:00.000000000",
          "2023-10-25T00:00:00.000000000",
          "2023-10-26T00:00:00.000000000",
          "2023-10-27T00:00:00.000000000",
          "2023-10-28T00:00:00.000000000",
          "2023-10-29T00:00:00.000000000",
          "2023-10-30T00:00:00.000000000",
          "2023-10-31T00:00:00.000000000",
          "2023-11-01T00:00:00.000000000",
          "2023-11-02T00:00:00.000000000",
          "2023-11-03T00:00:00.000000000",
          "2023-11-04T00:00:00.000000000",
          "2023-11-05T00:00:00.000000000",
          "2023-11-06T00:00:00.000000000",
          "2023-11-07T00:00:00.000000000",
          "2023-11-08T00:00:00.000000000",
          "2023-11-09T00:00:00.000000000",
          "2023-11-10T00:00:00.000000000",
          "2023-11-11T00:00:00.000000000",
          "2023-11-12T00:00:00.000000000",
          "2023-11-13T00:00:00.000000000",
          "2023-11-14T00:00:00.000000000",
          "2023-11-15T00:00:00.000000000",
          "2023-11-16T00:00:00.000000000",
          "2023-11-17T00:00:00.000000000",
          "2023-11-18T00:00:00.000000000",
          "2023-11-19T00:00:00.000000000",
          "2023-11-20T00:00:00.000000000",
          "2023-11-21T00:00:00.000000000",
          "2023-11-22T00:00:00.000000000",
          "2023-11-23T00:00:00.000000000",
          "2023-11-24T00:00:00.000000000",
          "2023-11-25T00:00:00.000000000",
          "2023-11-26T00:00:00.000000000",
          "2023-11-27T00:00:00.000000000",
          "2023-11-28T00:00:00.000000000",
          "2023-11-29T00:00:00.000000000",
          "2023-11-30T00:00:00.000000000",
          "2023-12-01T00:00:00.000000000",
          "2023-12-02T00:00:00.000000000",
          "2023-12-03T00:00:00.000000000",
          "2023-12-04T00:00:00.000000000",
          "2023-12-05T00:00:00.000000000",
          "2023-12-06T00:00:00.000000000",
          "2023-12-07T00:00:00.000000000",
          "2023-12-08T00:00:00.000000000",
          "2023-12-09T00:00:00.000000000",
          "2023-12-10T00:00:00.000000000",
          "2023-12-11T00:00:00.000000000",
          "2023-12-12T00:00:00.000000000",
          "2023-12-13T00:00:00.000000000",
          "2023-12-14T00:00:00.000000000",
          "2023-12-15T00:00:00.000000000",
          "2023-12-16T00:00:00.000000000",
          "2023-12-17T00:00:00.000000000",
          "2023-12-18T00:00:00.000000000",
          "2023-12-19T00:00:00.000000000",
          "2023-12-20T00:00:00.000000000",
          "2023-12-21T00:00:00.000000000",
          "2023-12-22T00:00:00.000000000",
          "2023-12-23T00:00:00.000000000",
          "2023-12-24T00:00:00.000000000",
          "2023-12-25T00:00:00.000000000",
          "2023-12-26T00:00:00.000000000"
         ],
         "xaxis": "x3",
         "y": {
          "bdata": "AAAAAICELkEAAAAAgIQuQQAAAACAhC5BAAAAAICELkEAAAAAgIQuQQAAAACAhC5BAAAAAICELkEAAAAAgIQuQQAAAACAhC5BAAAAAICELkEAAAAAgIQuQQAAAACAhC5BAAAAAICELkEAAAAAgIQuQQAAAACAhC5BAAAAAICELkEAAAAAgIQuQQAAAACAhC5BAAAAAICELkEAAAAAgIQuQQAAAACAhC5BAAAAAICELkEAAAAAgIQuQQAAAACAhC5BAAAAAICELkEAAAAAgIQuQQAAAACAhC5BAAAAAICELkEAAAAAgIQuQQAAAACAhC5BAAAAAICELkEAAAAAgIQuQQAAAACAhC5BAAAAAICELkEAAAAAgIQuQQAAAACAhC5BAAAAAICELkEAAAAAgIQuQQAAAACAhC5BAAAAAICELkEAAAAAgIQuQQAAAACAhC5BAAAAAICELkEAAAAAgIQuQQAAAACAhC5BAAAAAICELkEAAAAAgIQuQQAAAACAhC5BAAAAAICELkEAAAAAgIQuQQAAAACAhC5BAAAAAICELkEAAAAAgIQuQQAAAACAhC5BAAAAAICELkEAAAAAgIQuQQAAAACAhC5BAAAAAICELkEAAAAAgIQuQQAAAACAhC5BAAAAAICELkEAAAAAgIQuQQAAAACAhC5BAAAAAICELkEAAAAAgIQuQQAAAACAhC5BAAAAAICELkEAAAAAgIQuQQAAAACAhC5BAAAAAICELkEAAAAAgIQuQQAAAACAhC5BAAAAAICELkEAAAAAgIQuQQAAAACAhC5BAAAAAICELkEAAAAAgIQuQQAAAACAhC5BAAAAAICELkEAAAAAgIQuQQAAAACAhC5BAAAAAICELkEAAAAAgIQuQQAAAACAhC5BAAAAAICELkEAAAAAgIQuQQAAAACAhC5BAAAAAICELkEAAAAAgIQuQQAAAACAhC5BAAAAAICELkEAAAAAgIQuQQAAAACAhC5BAAAAAICELkEAAAAAgIQuQQAAAACAhC5BAAAAAICELkEAAAAAgIQuQQAAAACAhC5BAAAAAICELkEAAAAAgIQuQQAAAACAhC5BAAAAAICELkEAAAAAgIQuQQAAAACAhC5BAAAAAICELkEAAAAAgIQuQQAAAACAhC5BAAAAAICELkEAAAAAgIQuQQAAAACAhC5BAAAAAICELkEAAAAAgIQuQQAAAACAhC5BAAAAAICELkEAAAAAgIQuQQAAAACAhC5BAAAAAICELkEAAAAAgIQuQQAAAACAhC5BAAAAAICELkEAAAAAgIQuQQAAAACAhC5BAAAAAICELkEAAAAAgIQuQQAAAACAhC5BAAAAAICELkEAAAAAgIQuQQAAAACAhC5BAAAAAICELkEAAAAAgIQuQQAAAACAhC5BAAAAAICELkEAAAAAgIQuQQAAAACAhC5BAAAAAICELkEAAAAAgIQuQQAAAACAhC5BAAAAAICELkEAAAAAgIQuQQAAAACAhC5BAAAAAICELkEAAAAAgIQuQQAAAACAhC5BAAAAAICELkEAAAAAgIQuQQAAAACAhC5BAAAAAICELkEAAAAAgIQuQQAAAACAhC5BAAAAAICELkEAAAAAgIQuQQAAAACAhC5BAAAAAICELkEAAAAAgIQuQQAAAACAhC5BAAAAAICELkEAAAAAgIQuQQAAAACAhC5BAAAAAICELkEAAAAAgIQuQQAAAACAhC5BAAAAAICELkEAAAAAgIQuQQAAAACAhC5BAAAAAICELkEAAAAAgIQuQQAAAACAhC5BAAAAAICELkEAAAAAgIQuQQAAAACAhC5BAAAAAICELkEAAAAAgIQuQQAAAACAhC5BAAAAAICELkEAAAAAgIQuQQAAAACAhC5BAAAAAICELkEAAAAAgIQuQQAAAACAhC5BAAAAAICELkEAAAAAgIQuQQAAAACAhC5BAAAAAICELkEAAAAAgIQuQQAAAACAhC5BAAAAAICELkEAAAAAgIQuQQAAAACAhC5BAAAAAICELkEAAAAAgIQuQQAAAACAhC5BAAAAAICELkEAAAAAgIQuQQAAAACAhC5BAAAAAICELkEAAAAAgIQuQQAAAACAhC5BAAAAAICELkEAAAAAgIQuQQAAAACAhC5BAAAAAICELkEAAAAAgIQuQQAAAACAhC5BAAAAAICELkEAAAAAgIQuQQAAAACAhC5BAAAAAICELkEAAAAAgIQuQQAAAACAhC5BAAAAAICELkEAAAAAgIQuQQAAAACAhC5BAAAAAICELkEAAAAAgIQuQQAAAACAhC5BAAAAAICELkEAAAAAgIQuQQAAAACAhC5BAAAAAICELkEAAAAAgIQuQQAAAACAhC5BAAAAAICELkEAAAAAgIQuQQAAAACAhC5BAAAAAICELkEAAAAAgIQuQQAAAACAhC5BAAAAAICELkEAAAAAgIQuQQAAAACAhC5BAAAAAICELkEAAAAAgIQuQQAAAACAhC5BAAAAAICELkEAAAAAgIQuQQAAAACAhC5BAAAAAICELkEAAAAAgIQuQQAAAACAhC5BAAAAAICELkEAAAAAgIQuQQAAAACAhC5BAAAAAICELkEAAAAAgIQuQQAAAACAhC5BAAAAAICELkEAAAAAgIQuQQAAAACAhC5BAAAAAICELkEAAAAAgIQuQQAAAACAhC5BAAAAAICELkEAAAAAgIQuQQAAAACAhC5BAAAAAICELkEAAAAAgIQuQQAAAACAhC5BAAAAAICELkEAAAAAgIQuQQAAAACAhC5BAAAAAICELkEAAAAAgIQuQQAAAACAhC5BAAAAAICELkEAAAAAgIQuQQAAAACAhC5BAAAAAICELkEAAAAAgIQuQQAAAACAhC5BAAAAAICELkEAAAAAgIQuQQAAAACAhC5BAAAAAICELkEAAAAAgIQuQQAAAACAhC5BAAAAAICELkEAAAAAgIQuQQAAAACAhC5BAAAAAICELkEAAAAAgIQuQQAAAACAhC5BAAAAAICELkEAAAAAgIQuQQAAAACAhC5BAAAAAICELkEAAAAAgIQuQQAAAACAhC5BAAAAAICELkEAAAAAgIQuQQAAAACAhC5BAAAAAICELkEAAAAAgIQuQQAAAACAhC5BAAAAAICELkEAAAAAgIQuQQAAAACAhC5BAAAAAICELkEAAAAAgIQuQQAAAACAhC5BAAAAAICELkEAAAAAgIQuQQAAAACAhC5BAAAAAICELkEAAAAAgIQuQQAAAACAhC5BAAAAAICELkEAAAAAgIQuQQAAAACAhC5BAAAAAICELkEAAAAAgIQuQQAAAACAhC5BAAAAAICELkEAAAAAgIQuQQAAAACAhC5BAAAAAICELkEAAAAAgIQuQQAAAACAhC5BAAAAAICELkEAAAAAgIQuQQAAAACAhC5BAAAAAICELkEAAAAAgIQuQQAAAACAhC5BAAAAAICELkEAAAAAgIQuQQAAAACAhC5BAAAAAICELkEAAAAAgIQuQQAAAACAhC5BAAAAAICELkEAAAAAgIQuQQAAAACAhC5BAAAAAICELkEAAAAAgIQuQQAAAACAhC5BAAAAAICELkEAAAAAgIQuQQAAAACAhC5BAAAAAICELkEAAAAAgIQuQQAAAACAhC5BAAAAAICELkEAAAAAgIQuQQAAAACAhC5BAAAAAICELkEAAAAAgIQuQQAAAACAhC5BAAAAAICELkEAAAAAgIQuQQAAAACAhC5BAAAAAICELkEAAAAAgIQuQQAAAACAhC5BAAAAAICELkEAAAAAgIQuQQAAAACAhC5BAAAAAICELkEAAAAAgIQuQQAAAACAhC5B",
          "dtype": "f8"
         },
         "yaxis": "y3"
        }
       ],
       "layout": {
        "annotations": [
         {
          "font": {
           "size": 16
          },
          "showarrow": false,
          "text": "Day",
          "x": 0.22,
          "xanchor": "center",
          "xref": "paper",
          "y": 1,
          "yanchor": "bottom",
          "yref": "paper"
         },
         {
          "font": {
           "size": 16
          },
          "showarrow": false,
          "text": "Night",
          "x": 0.76,
          "xanchor": "center",
          "xref": "paper",
          "y": 1,
          "yanchor": "bottom",
          "yref": "paper"
         },
         {
          "font": {
           "size": 16
          },
          "showarrow": false,
          "text": "Layer 0",
          "textangle": 90,
          "x": 0.98,
          "xanchor": "left",
          "xref": "paper",
          "y": 0.775,
          "yanchor": "middle",
          "yref": "paper"
         },
         {
          "font": {
           "size": 16
          },
          "showarrow": false,
          "text": "Layer 1",
          "textangle": 90,
          "x": 0.98,
          "xanchor": "left",
          "xref": "paper",
          "y": 0.225,
          "yanchor": "middle",
          "yref": "paper"
         },
         {
          "font": {
           "size": 16
          },
          "showarrow": false,
          "text": "Time",
          "x": 0.49,
          "xanchor": "center",
          "xref": "paper",
          "y": 0,
          "yanchor": "top",
          "yref": "paper",
          "yshift": -30
         },
         {
          "font": {
           "size": 16
          },
          "showarrow": false,
          "text": "Biomass (mg/m2)",
          "textangle": -90,
          "x": 0,
          "xanchor": "right",
          "xref": "paper",
          "xshift": -40,
          "y": 0.5,
          "yanchor": "middle",
          "yref": "paper"
         }
        ],
        "template": {
         "data": {
          "bar": [
           {
            "error_x": {
             "color": "#2a3f5f"
            },
            "error_y": {
             "color": "#2a3f5f"
            },
            "marker": {
             "line": {
              "color": "#E5ECF6",
              "width": 0.5
             },
             "pattern": {
              "fillmode": "overlay",
              "size": 10,
              "solidity": 0.2
             }
            },
            "type": "bar"
           }
          ],
          "barpolar": [
           {
            "marker": {
             "line": {
              "color": "#E5ECF6",
              "width": 0.5
             },
             "pattern": {
              "fillmode": "overlay",
              "size": 10,
              "solidity": 0.2
             }
            },
            "type": "barpolar"
           }
          ],
          "carpet": [
           {
            "aaxis": {
             "endlinecolor": "#2a3f5f",
             "gridcolor": "white",
             "linecolor": "white",
             "minorgridcolor": "white",
             "startlinecolor": "#2a3f5f"
            },
            "baxis": {
             "endlinecolor": "#2a3f5f",
             "gridcolor": "white",
             "linecolor": "white",
             "minorgridcolor": "white",
             "startlinecolor": "#2a3f5f"
            },
            "type": "carpet"
           }
          ],
          "choropleth": [
           {
            "colorbar": {
             "outlinewidth": 0,
             "ticks": ""
            },
            "type": "choropleth"
           }
          ],
          "contour": [
           {
            "colorbar": {
             "outlinewidth": 0,
             "ticks": ""
            },
            "colorscale": [
             [
              0,
              "#0d0887"
             ],
             [
              0.1111111111111111,
              "#46039f"
             ],
             [
              0.2222222222222222,
              "#7201a8"
             ],
             [
              0.3333333333333333,
              "#9c179e"
             ],
             [
              0.4444444444444444,
              "#bd3786"
             ],
             [
              0.5555555555555556,
              "#d8576b"
             ],
             [
              0.6666666666666666,
              "#ed7953"
             ],
             [
              0.7777777777777778,
              "#fb9f3a"
             ],
             [
              0.8888888888888888,
              "#fdca26"
             ],
             [
              1,
              "#f0f921"
             ]
            ],
            "type": "contour"
           }
          ],
          "contourcarpet": [
           {
            "colorbar": {
             "outlinewidth": 0,
             "ticks": ""
            },
            "type": "contourcarpet"
           }
          ],
          "heatmap": [
           {
            "colorbar": {
             "outlinewidth": 0,
             "ticks": ""
            },
            "colorscale": [
             [
              0,
              "#0d0887"
             ],
             [
              0.1111111111111111,
              "#46039f"
             ],
             [
              0.2222222222222222,
              "#7201a8"
             ],
             [
              0.3333333333333333,
              "#9c179e"
             ],
             [
              0.4444444444444444,
              "#bd3786"
             ],
             [
              0.5555555555555556,
              "#d8576b"
             ],
             [
              0.6666666666666666,
              "#ed7953"
             ],
             [
              0.7777777777777778,
              "#fb9f3a"
             ],
             [
              0.8888888888888888,
              "#fdca26"
             ],
             [
              1,
              "#f0f921"
             ]
            ],
            "type": "heatmap"
           }
          ],
          "histogram": [
           {
            "marker": {
             "pattern": {
              "fillmode": "overlay",
              "size": 10,
              "solidity": 0.2
             }
            },
            "type": "histogram"
           }
          ],
          "histogram2d": [
           {
            "colorbar": {
             "outlinewidth": 0,
             "ticks": ""
            },
            "colorscale": [
             [
              0,
              "#0d0887"
             ],
             [
              0.1111111111111111,
              "#46039f"
             ],
             [
              0.2222222222222222,
              "#7201a8"
             ],
             [
              0.3333333333333333,
              "#9c179e"
             ],
             [
              0.4444444444444444,
              "#bd3786"
             ],
             [
              0.5555555555555556,
              "#d8576b"
             ],
             [
              0.6666666666666666,
              "#ed7953"
             ],
             [
              0.7777777777777778,
              "#fb9f3a"
             ],
             [
              0.8888888888888888,
              "#fdca26"
             ],
             [
              1,
              "#f0f921"
             ]
            ],
            "type": "histogram2d"
           }
          ],
          "histogram2dcontour": [
           {
            "colorbar": {
             "outlinewidth": 0,
             "ticks": ""
            },
            "colorscale": [
             [
              0,
              "#0d0887"
             ],
             [
              0.1111111111111111,
              "#46039f"
             ],
             [
              0.2222222222222222,
              "#7201a8"
             ],
             [
              0.3333333333333333,
              "#9c179e"
             ],
             [
              0.4444444444444444,
              "#bd3786"
             ],
             [
              0.5555555555555556,
              "#d8576b"
             ],
             [
              0.6666666666666666,
              "#ed7953"
             ],
             [
              0.7777777777777778,
              "#fb9f3a"
             ],
             [
              0.8888888888888888,
              "#fdca26"
             ],
             [
              1,
              "#f0f921"
             ]
            ],
            "type": "histogram2dcontour"
           }
          ],
          "mesh3d": [
           {
            "colorbar": {
             "outlinewidth": 0,
             "ticks": ""
            },
            "type": "mesh3d"
           }
          ],
          "parcoords": [
           {
            "line": {
             "colorbar": {
              "outlinewidth": 0,
              "ticks": ""
             }
            },
            "type": "parcoords"
           }
          ],
          "pie": [
           {
            "automargin": true,
            "type": "pie"
           }
          ],
          "scatter": [
           {
            "fillpattern": {
             "fillmode": "overlay",
             "size": 10,
             "solidity": 0.2
            },
            "type": "scatter"
           }
          ],
          "scatter3d": [
           {
            "line": {
             "colorbar": {
              "outlinewidth": 0,
              "ticks": ""
             }
            },
            "marker": {
             "colorbar": {
              "outlinewidth": 0,
              "ticks": ""
             }
            },
            "type": "scatter3d"
           }
          ],
          "scattercarpet": [
           {
            "marker": {
             "colorbar": {
              "outlinewidth": 0,
              "ticks": ""
             }
            },
            "type": "scattercarpet"
           }
          ],
          "scattergeo": [
           {
            "marker": {
             "colorbar": {
              "outlinewidth": 0,
              "ticks": ""
             }
            },
            "type": "scattergeo"
           }
          ],
          "scattergl": [
           {
            "marker": {
             "colorbar": {
              "outlinewidth": 0,
              "ticks": ""
             }
            },
            "type": "scattergl"
           }
          ],
          "scattermap": [
           {
            "marker": {
             "colorbar": {
              "outlinewidth": 0,
              "ticks": ""
             }
            },
            "type": "scattermap"
           }
          ],
          "scattermapbox": [
           {
            "marker": {
             "colorbar": {
              "outlinewidth": 0,
              "ticks": ""
             }
            },
            "type": "scattermapbox"
           }
          ],
          "scatterpolar": [
           {
            "marker": {
             "colorbar": {
              "outlinewidth": 0,
              "ticks": ""
             }
            },
            "type": "scatterpolar"
           }
          ],
          "scatterpolargl": [
           {
            "marker": {
             "colorbar": {
              "outlinewidth": 0,
              "ticks": ""
             }
            },
            "type": "scatterpolargl"
           }
          ],
          "scatterternary": [
           {
            "marker": {
             "colorbar": {
              "outlinewidth": 0,
              "ticks": ""
             }
            },
            "type": "scatterternary"
           }
          ],
          "surface": [
           {
            "colorbar": {
             "outlinewidth": 0,
             "ticks": ""
            },
            "colorscale": [
             [
              0,
              "#0d0887"
             ],
             [
              0.1111111111111111,
              "#46039f"
             ],
             [
              0.2222222222222222,
              "#7201a8"
             ],
             [
              0.3333333333333333,
              "#9c179e"
             ],
             [
              0.4444444444444444,
              "#bd3786"
             ],
             [
              0.5555555555555556,
              "#d8576b"
             ],
             [
              0.6666666666666666,
              "#ed7953"
             ],
             [
              0.7777777777777778,
              "#fb9f3a"
             ],
             [
              0.8888888888888888,
              "#fdca26"
             ],
             [
              1,
              "#f0f921"
             ]
            ],
            "type": "surface"
           }
          ],
          "table": [
           {
            "cells": {
             "fill": {
              "color": "#EBF0F8"
             },
             "line": {
              "color": "white"
             }
            },
            "header": {
             "fill": {
              "color": "#C8D4E3"
             },
             "line": {
              "color": "white"
             }
            },
            "type": "table"
           }
          ]
         },
         "layout": {
          "annotationdefaults": {
           "arrowcolor": "#2a3f5f",
           "arrowhead": 0,
           "arrowwidth": 1
          },
          "autotypenumbers": "strict",
          "coloraxis": {
           "colorbar": {
            "outlinewidth": 0,
            "ticks": ""
           }
          },
          "colorscale": {
           "diverging": [
            [
             0,
             "#8e0152"
            ],
            [
             0.1,
             "#c51b7d"
            ],
            [
             0.2,
             "#de77ae"
            ],
            [
             0.3,
             "#f1b6da"
            ],
            [
             0.4,
             "#fde0ef"
            ],
            [
             0.5,
             "#f7f7f7"
            ],
            [
             0.6,
             "#e6f5d0"
            ],
            [
             0.7,
             "#b8e186"
            ],
            [
             0.8,
             "#7fbc41"
            ],
            [
             0.9,
             "#4d9221"
            ],
            [
             1,
             "#276419"
            ]
           ],
           "sequential": [
            [
             0,
             "#0d0887"
            ],
            [
             0.1111111111111111,
             "#46039f"
            ],
            [
             0.2222222222222222,
             "#7201a8"
            ],
            [
             0.3333333333333333,
             "#9c179e"
            ],
            [
             0.4444444444444444,
             "#bd3786"
            ],
            [
             0.5555555555555556,
             "#d8576b"
            ],
            [
             0.6666666666666666,
             "#ed7953"
            ],
            [
             0.7777777777777778,
             "#fb9f3a"
            ],
            [
             0.8888888888888888,
             "#fdca26"
            ],
            [
             1,
             "#f0f921"
            ]
           ],
           "sequentialminus": [
            [
             0,
             "#0d0887"
            ],
            [
             0.1111111111111111,
             "#46039f"
            ],
            [
             0.2222222222222222,
             "#7201a8"
            ],
            [
             0.3333333333333333,
             "#9c179e"
            ],
            [
             0.4444444444444444,
             "#bd3786"
            ],
            [
             0.5555555555555556,
             "#d8576b"
            ],
            [
             0.6666666666666666,
             "#ed7953"
            ],
            [
             0.7777777777777778,
             "#fb9f3a"
            ],
            [
             0.8888888888888888,
             "#fdca26"
            ],
            [
             1,
             "#f0f921"
            ]
           ]
          },
          "colorway": [
           "#636efa",
           "#EF553B",
           "#00cc96",
           "#ab63fa",
           "#FFA15A",
           "#19d3f3",
           "#FF6692",
           "#B6E880",
           "#FF97FF",
           "#FECB52"
          ],
          "font": {
           "color": "#2a3f5f"
          },
          "geo": {
           "bgcolor": "white",
           "lakecolor": "white",
           "landcolor": "#E5ECF6",
           "showlakes": true,
           "showland": true,
           "subunitcolor": "white"
          },
          "hoverlabel": {
           "align": "left"
          },
          "hovermode": "closest",
          "mapbox": {
           "style": "light"
          },
          "paper_bgcolor": "white",
          "plot_bgcolor": "#E5ECF6",
          "polar": {
           "angularaxis": {
            "gridcolor": "white",
            "linecolor": "white",
            "ticks": ""
           },
           "bgcolor": "#E5ECF6",
           "radialaxis": {
            "gridcolor": "white",
            "linecolor": "white",
            "ticks": ""
           }
          },
          "scene": {
           "xaxis": {
            "backgroundcolor": "#E5ECF6",
            "gridcolor": "white",
            "gridwidth": 2,
            "linecolor": "white",
            "showbackground": true,
            "ticks": "",
            "zerolinecolor": "white"
           },
           "yaxis": {
            "backgroundcolor": "#E5ECF6",
            "gridcolor": "white",
            "gridwidth": 2,
            "linecolor": "white",
            "showbackground": true,
            "ticks": "",
            "zerolinecolor": "white"
           },
           "zaxis": {
            "backgroundcolor": "#E5ECF6",
            "gridcolor": "white",
            "gridwidth": 2,
            "linecolor": "white",
            "showbackground": true,
            "ticks": "",
            "zerolinecolor": "white"
           }
          },
          "shapedefaults": {
           "line": {
            "color": "#2a3f5f"
           }
          },
          "ternary": {
           "aaxis": {
            "gridcolor": "white",
            "linecolor": "white",
            "ticks": ""
           },
           "baxis": {
            "gridcolor": "white",
            "linecolor": "white",
            "ticks": ""
           },
           "bgcolor": "#E5ECF6",
           "caxis": {
            "gridcolor": "white",
            "linecolor": "white",
            "ticks": ""
           }
          },
          "title": {
           "x": 0.05
          },
          "xaxis": {
           "automargin": true,
           "gridcolor": "white",
           "linecolor": "white",
           "ticks": "",
           "title": {
            "standoff": 15
           },
           "zerolinecolor": "white",
           "zerolinewidth": 2
          },
          "yaxis": {
           "automargin": true,
           "gridcolor": "white",
           "linecolor": "white",
           "ticks": "",
           "title": {
            "standoff": 15
           },
           "zerolinecolor": "white",
           "zerolinewidth": 2
          }
         }
        },
        "title": {
         "text": "Observation_all"
        },
        "xaxis": {
         "anchor": "y",
         "domain": [
          0,
          0.44
         ]
        },
        "xaxis2": {
         "anchor": "y2",
         "domain": [
          0.54,
          0.98
         ]
        },
        "xaxis3": {
         "anchor": "y3",
         "domain": [
          0,
          0.44
         ]
        },
        "xaxis4": {
         "anchor": "y4",
         "domain": [
          0.54,
          0.98
         ]
        },
        "yaxis": {
         "anchor": "x",
         "domain": [
          0.55,
          1
         ]
        },
        "yaxis2": {
         "anchor": "x2",
         "domain": [
          0.55,
          1
         ]
        },
        "yaxis3": {
         "anchor": "x3",
         "domain": [
          0,
          0.45
         ]
        },
        "yaxis4": {
         "anchor": "x4",
         "domain": [
          0,
          0.45
         ]
        }
       }
      }
     },
     "metadata": {},
     "output_type": "display_data"
    },
    {
     "data": {
      "application/vnd.plotly.v1+json": {
       "config": {
        "plotlyServerURL": "https://plot.ly"
       },
       "data": [
        {
         "line": {
          "color": "firebrick",
          "dash": "solid",
          "width": 2
         },
         "mode": "lines",
         "name": "Predicted day layer 0",
         "type": "scatter",
         "x": [
          "2023-01-01T00:00:00.000000000",
          "2023-01-02T00:00:00.000000000",
          "2023-01-03T00:00:00.000000000",
          "2023-01-04T00:00:00.000000000",
          "2023-01-05T00:00:00.000000000",
          "2023-01-06T00:00:00.000000000",
          "2023-01-07T00:00:00.000000000",
          "2023-01-08T00:00:00.000000000",
          "2023-01-09T00:00:00.000000000",
          "2023-01-10T00:00:00.000000000",
          "2023-01-11T00:00:00.000000000",
          "2023-01-12T00:00:00.000000000",
          "2023-01-13T00:00:00.000000000",
          "2023-01-14T00:00:00.000000000",
          "2023-01-15T00:00:00.000000000",
          "2023-01-16T00:00:00.000000000",
          "2023-01-17T00:00:00.000000000",
          "2023-01-18T00:00:00.000000000",
          "2023-01-19T00:00:00.000000000",
          "2023-01-20T00:00:00.000000000",
          "2023-01-21T00:00:00.000000000",
          "2023-01-22T00:00:00.000000000",
          "2023-01-23T00:00:00.000000000",
          "2023-01-24T00:00:00.000000000",
          "2023-01-25T00:00:00.000000000",
          "2023-01-26T00:00:00.000000000",
          "2023-01-27T00:00:00.000000000",
          "2023-01-28T00:00:00.000000000",
          "2023-01-29T00:00:00.000000000",
          "2023-01-30T00:00:00.000000000",
          "2023-01-31T00:00:00.000000000",
          "2023-02-01T00:00:00.000000000",
          "2023-02-02T00:00:00.000000000",
          "2023-02-03T00:00:00.000000000",
          "2023-02-04T00:00:00.000000000",
          "2023-02-05T00:00:00.000000000",
          "2023-02-06T00:00:00.000000000",
          "2023-02-07T00:00:00.000000000",
          "2023-02-08T00:00:00.000000000",
          "2023-02-09T00:00:00.000000000",
          "2023-02-10T00:00:00.000000000",
          "2023-02-11T00:00:00.000000000",
          "2023-02-12T00:00:00.000000000",
          "2023-02-13T00:00:00.000000000",
          "2023-02-14T00:00:00.000000000",
          "2023-02-15T00:00:00.000000000",
          "2023-02-16T00:00:00.000000000",
          "2023-02-17T00:00:00.000000000",
          "2023-02-18T00:00:00.000000000",
          "2023-02-19T00:00:00.000000000",
          "2023-02-20T00:00:00.000000000",
          "2023-02-21T00:00:00.000000000",
          "2023-02-22T00:00:00.000000000",
          "2023-02-23T00:00:00.000000000",
          "2023-02-24T00:00:00.000000000",
          "2023-02-25T00:00:00.000000000",
          "2023-02-26T00:00:00.000000000",
          "2023-02-27T00:00:00.000000000",
          "2023-02-28T00:00:00.000000000",
          "2023-03-01T00:00:00.000000000",
          "2023-03-02T00:00:00.000000000",
          "2023-03-03T00:00:00.000000000",
          "2023-03-04T00:00:00.000000000",
          "2023-03-05T00:00:00.000000000",
          "2023-03-06T00:00:00.000000000",
          "2023-03-07T00:00:00.000000000",
          "2023-03-08T00:00:00.000000000",
          "2023-03-09T00:00:00.000000000",
          "2023-03-10T00:00:00.000000000",
          "2023-03-11T00:00:00.000000000",
          "2023-03-12T00:00:00.000000000",
          "2023-03-13T00:00:00.000000000",
          "2023-03-14T00:00:00.000000000",
          "2023-03-15T00:00:00.000000000",
          "2023-03-16T00:00:00.000000000",
          "2023-03-17T00:00:00.000000000",
          "2023-03-18T00:00:00.000000000",
          "2023-03-19T00:00:00.000000000",
          "2023-03-20T00:00:00.000000000",
          "2023-03-21T00:00:00.000000000",
          "2023-03-22T00:00:00.000000000",
          "2023-03-23T00:00:00.000000000",
          "2023-03-24T00:00:00.000000000",
          "2023-03-25T00:00:00.000000000",
          "2023-03-26T00:00:00.000000000",
          "2023-03-27T00:00:00.000000000",
          "2023-03-28T00:00:00.000000000",
          "2023-03-29T00:00:00.000000000",
          "2023-03-30T00:00:00.000000000",
          "2023-03-31T00:00:00.000000000",
          "2023-04-01T00:00:00.000000000",
          "2023-04-02T00:00:00.000000000",
          "2023-04-03T00:00:00.000000000",
          "2023-04-04T00:00:00.000000000",
          "2023-04-05T00:00:00.000000000",
          "2023-04-06T00:00:00.000000000",
          "2023-04-07T00:00:00.000000000",
          "2023-04-08T00:00:00.000000000",
          "2023-04-09T00:00:00.000000000",
          "2023-04-10T00:00:00.000000000",
          "2023-04-11T00:00:00.000000000",
          "2023-04-12T00:00:00.000000000",
          "2023-04-13T00:00:00.000000000",
          "2023-04-14T00:00:00.000000000",
          "2023-04-15T00:00:00.000000000",
          "2023-04-16T00:00:00.000000000",
          "2023-04-17T00:00:00.000000000",
          "2023-04-18T00:00:00.000000000",
          "2023-04-19T00:00:00.000000000",
          "2023-04-20T00:00:00.000000000",
          "2023-04-21T00:00:00.000000000",
          "2023-04-22T00:00:00.000000000",
          "2023-04-23T00:00:00.000000000",
          "2023-04-24T00:00:00.000000000",
          "2023-04-25T00:00:00.000000000",
          "2023-04-26T00:00:00.000000000",
          "2023-04-27T00:00:00.000000000",
          "2023-04-28T00:00:00.000000000",
          "2023-04-29T00:00:00.000000000",
          "2023-04-30T00:00:00.000000000",
          "2023-05-01T00:00:00.000000000",
          "2023-05-02T00:00:00.000000000",
          "2023-05-03T00:00:00.000000000",
          "2023-05-04T00:00:00.000000000",
          "2023-05-05T00:00:00.000000000",
          "2023-05-06T00:00:00.000000000",
          "2023-05-07T00:00:00.000000000",
          "2023-05-08T00:00:00.000000000",
          "2023-05-09T00:00:00.000000000",
          "2023-05-10T00:00:00.000000000",
          "2023-05-11T00:00:00.000000000",
          "2023-05-12T00:00:00.000000000",
          "2023-05-13T00:00:00.000000000",
          "2023-05-14T00:00:00.000000000",
          "2023-05-15T00:00:00.000000000",
          "2023-05-16T00:00:00.000000000",
          "2023-05-17T00:00:00.000000000",
          "2023-05-18T00:00:00.000000000",
          "2023-05-19T00:00:00.000000000",
          "2023-05-20T00:00:00.000000000",
          "2023-05-21T00:00:00.000000000",
          "2023-05-22T00:00:00.000000000",
          "2023-05-23T00:00:00.000000000",
          "2023-05-24T00:00:00.000000000",
          "2023-05-25T00:00:00.000000000",
          "2023-05-26T00:00:00.000000000",
          "2023-05-27T00:00:00.000000000",
          "2023-05-28T00:00:00.000000000",
          "2023-05-29T00:00:00.000000000",
          "2023-05-30T00:00:00.000000000",
          "2023-05-31T00:00:00.000000000",
          "2023-06-01T00:00:00.000000000",
          "2023-06-02T00:00:00.000000000",
          "2023-06-03T00:00:00.000000000",
          "2023-06-04T00:00:00.000000000",
          "2023-06-05T00:00:00.000000000",
          "2023-06-06T00:00:00.000000000",
          "2023-06-07T00:00:00.000000000",
          "2023-06-08T00:00:00.000000000",
          "2023-06-09T00:00:00.000000000",
          "2023-06-10T00:00:00.000000000",
          "2023-06-11T00:00:00.000000000",
          "2023-06-12T00:00:00.000000000",
          "2023-06-13T00:00:00.000000000",
          "2023-06-14T00:00:00.000000000",
          "2023-06-15T00:00:00.000000000",
          "2023-06-16T00:00:00.000000000",
          "2023-06-17T00:00:00.000000000",
          "2023-06-18T00:00:00.000000000",
          "2023-06-19T00:00:00.000000000",
          "2023-06-20T00:00:00.000000000",
          "2023-06-21T00:00:00.000000000",
          "2023-06-22T00:00:00.000000000",
          "2023-06-23T00:00:00.000000000",
          "2023-06-24T00:00:00.000000000",
          "2023-06-25T00:00:00.000000000",
          "2023-06-26T00:00:00.000000000",
          "2023-06-27T00:00:00.000000000",
          "2023-06-28T00:00:00.000000000",
          "2023-06-29T00:00:00.000000000",
          "2023-06-30T00:00:00.000000000",
          "2023-07-01T00:00:00.000000000",
          "2023-07-02T00:00:00.000000000",
          "2023-07-03T00:00:00.000000000",
          "2023-07-04T00:00:00.000000000",
          "2023-07-05T00:00:00.000000000",
          "2023-07-06T00:00:00.000000000",
          "2023-07-07T00:00:00.000000000",
          "2023-07-08T00:00:00.000000000",
          "2023-07-09T00:00:00.000000000",
          "2023-07-10T00:00:00.000000000",
          "2023-07-11T00:00:00.000000000",
          "2023-07-12T00:00:00.000000000",
          "2023-07-13T00:00:00.000000000",
          "2023-07-14T00:00:00.000000000",
          "2023-07-15T00:00:00.000000000",
          "2023-07-16T00:00:00.000000000",
          "2023-07-17T00:00:00.000000000",
          "2023-07-18T00:00:00.000000000",
          "2023-07-19T00:00:00.000000000",
          "2023-07-20T00:00:00.000000000",
          "2023-07-21T00:00:00.000000000",
          "2023-07-22T00:00:00.000000000",
          "2023-07-23T00:00:00.000000000",
          "2023-07-24T00:00:00.000000000",
          "2023-07-25T00:00:00.000000000",
          "2023-07-26T00:00:00.000000000",
          "2023-07-27T00:00:00.000000000",
          "2023-07-28T00:00:00.000000000",
          "2023-07-29T00:00:00.000000000",
          "2023-07-30T00:00:00.000000000",
          "2023-07-31T00:00:00.000000000",
          "2023-08-01T00:00:00.000000000",
          "2023-08-02T00:00:00.000000000",
          "2023-08-03T00:00:00.000000000",
          "2023-08-04T00:00:00.000000000",
          "2023-08-05T00:00:00.000000000",
          "2023-08-06T00:00:00.000000000",
          "2023-08-07T00:00:00.000000000",
          "2023-08-08T00:00:00.000000000",
          "2023-08-09T00:00:00.000000000",
          "2023-08-10T00:00:00.000000000",
          "2023-08-11T00:00:00.000000000",
          "2023-08-12T00:00:00.000000000",
          "2023-08-13T00:00:00.000000000",
          "2023-08-14T00:00:00.000000000",
          "2023-08-15T00:00:00.000000000",
          "2023-08-16T00:00:00.000000000",
          "2023-08-17T00:00:00.000000000",
          "2023-08-18T00:00:00.000000000",
          "2023-08-19T00:00:00.000000000",
          "2023-08-20T00:00:00.000000000",
          "2023-08-21T00:00:00.000000000",
          "2023-08-22T00:00:00.000000000",
          "2023-08-23T00:00:00.000000000",
          "2023-08-24T00:00:00.000000000",
          "2023-08-25T00:00:00.000000000",
          "2023-08-26T00:00:00.000000000",
          "2023-08-27T00:00:00.000000000",
          "2023-08-28T00:00:00.000000000",
          "2023-08-29T00:00:00.000000000",
          "2023-08-30T00:00:00.000000000",
          "2023-08-31T00:00:00.000000000",
          "2023-09-01T00:00:00.000000000",
          "2023-09-02T00:00:00.000000000",
          "2023-09-03T00:00:00.000000000",
          "2023-09-04T00:00:00.000000000",
          "2023-09-05T00:00:00.000000000",
          "2023-09-06T00:00:00.000000000",
          "2023-09-07T00:00:00.000000000",
          "2023-09-08T00:00:00.000000000",
          "2023-09-09T00:00:00.000000000",
          "2023-09-10T00:00:00.000000000",
          "2023-09-11T00:00:00.000000000",
          "2023-09-12T00:00:00.000000000",
          "2023-09-13T00:00:00.000000000",
          "2023-09-14T00:00:00.000000000",
          "2023-09-15T00:00:00.000000000",
          "2023-09-16T00:00:00.000000000",
          "2023-09-17T00:00:00.000000000",
          "2023-09-18T00:00:00.000000000",
          "2023-09-19T00:00:00.000000000",
          "2023-09-20T00:00:00.000000000",
          "2023-09-21T00:00:00.000000000",
          "2023-09-22T00:00:00.000000000",
          "2023-09-23T00:00:00.000000000",
          "2023-09-24T00:00:00.000000000",
          "2023-09-25T00:00:00.000000000",
          "2023-09-26T00:00:00.000000000",
          "2023-09-27T00:00:00.000000000",
          "2023-09-28T00:00:00.000000000",
          "2023-09-29T00:00:00.000000000",
          "2023-09-30T00:00:00.000000000",
          "2023-10-01T00:00:00.000000000",
          "2023-10-02T00:00:00.000000000",
          "2023-10-03T00:00:00.000000000",
          "2023-10-04T00:00:00.000000000",
          "2023-10-05T00:00:00.000000000",
          "2023-10-06T00:00:00.000000000",
          "2023-10-07T00:00:00.000000000",
          "2023-10-08T00:00:00.000000000",
          "2023-10-09T00:00:00.000000000",
          "2023-10-10T00:00:00.000000000",
          "2023-10-11T00:00:00.000000000",
          "2023-10-12T00:00:00.000000000",
          "2023-10-13T00:00:00.000000000",
          "2023-10-14T00:00:00.000000000",
          "2023-10-15T00:00:00.000000000",
          "2023-10-16T00:00:00.000000000",
          "2023-10-17T00:00:00.000000000",
          "2023-10-18T00:00:00.000000000",
          "2023-10-19T00:00:00.000000000",
          "2023-10-20T00:00:00.000000000",
          "2023-10-21T00:00:00.000000000",
          "2023-10-22T00:00:00.000000000",
          "2023-10-23T00:00:00.000000000",
          "2023-10-24T00:00:00.000000000",
          "2023-10-25T00:00:00.000000000",
          "2023-10-26T00:00:00.000000000",
          "2023-10-27T00:00:00.000000000",
          "2023-10-28T00:00:00.000000000",
          "2023-10-29T00:00:00.000000000",
          "2023-10-30T00:00:00.000000000",
          "2023-10-31T00:00:00.000000000",
          "2023-11-01T00:00:00.000000000",
          "2023-11-02T00:00:00.000000000",
          "2023-11-03T00:00:00.000000000",
          "2023-11-04T00:00:00.000000000",
          "2023-11-05T00:00:00.000000000",
          "2023-11-06T00:00:00.000000000",
          "2023-11-07T00:00:00.000000000",
          "2023-11-08T00:00:00.000000000",
          "2023-11-09T00:00:00.000000000",
          "2023-11-10T00:00:00.000000000",
          "2023-11-11T00:00:00.000000000",
          "2023-11-12T00:00:00.000000000",
          "2023-11-13T00:00:00.000000000",
          "2023-11-14T00:00:00.000000000",
          "2023-11-15T00:00:00.000000000",
          "2023-11-16T00:00:00.000000000",
          "2023-11-17T00:00:00.000000000",
          "2023-11-18T00:00:00.000000000",
          "2023-11-19T00:00:00.000000000",
          "2023-11-20T00:00:00.000000000",
          "2023-11-21T00:00:00.000000000",
          "2023-11-22T00:00:00.000000000",
          "2023-11-23T00:00:00.000000000",
          "2023-11-24T00:00:00.000000000",
          "2023-11-25T00:00:00.000000000",
          "2023-11-26T00:00:00.000000000",
          "2023-11-27T00:00:00.000000000",
          "2023-11-28T00:00:00.000000000",
          "2023-11-29T00:00:00.000000000",
          "2023-11-30T00:00:00.000000000",
          "2023-12-01T00:00:00.000000000",
          "2023-12-02T00:00:00.000000000",
          "2023-12-03T00:00:00.000000000",
          "2023-12-04T00:00:00.000000000",
          "2023-12-05T00:00:00.000000000",
          "2023-12-06T00:00:00.000000000",
          "2023-12-07T00:00:00.000000000",
          "2023-12-08T00:00:00.000000000",
          "2023-12-09T00:00:00.000000000",
          "2023-12-10T00:00:00.000000000",
          "2023-12-11T00:00:00.000000000",
          "2023-12-12T00:00:00.000000000",
          "2023-12-13T00:00:00.000000000",
          "2023-12-14T00:00:00.000000000",
          "2023-12-15T00:00:00.000000000",
          "2023-12-16T00:00:00.000000000",
          "2023-12-17T00:00:00.000000000",
          "2023-12-18T00:00:00.000000000",
          "2023-12-19T00:00:00.000000000",
          "2023-12-20T00:00:00.000000000",
          "2023-12-21T00:00:00.000000000",
          "2023-12-22T00:00:00.000000000",
          "2023-12-23T00:00:00.000000000",
          "2023-12-24T00:00:00.000000000",
          "2023-12-25T00:00:00.000000000",
          "2023-12-26T00:00:00.000000000"
         ],
         "xaxis": "x",
         "y": {
          "bdata": "AAAAAAAAAAAAAAAAAAAAAMumbzGWIxVBCoDeGN8jFUFT7tkZ3yMVQbbx2RnfIxVBtvHZGd8jFUG28dkZ3yMVQbbx2RnfIxVBtvHZGd8jFUG28dkZ3yMVQbbx2RnfIxVBtvHZGd8jFUG28dkZ3yMVQbbx2RnfIxVBtvHZGd8jFUG28dkZ3yMVQbbx2RnfIxVBtvHZGd8jFUG28dkZ3yMVQbbx2RnfIxVBtvHZGd8jFUG28dkZ3yMVQbbx2RnfIxVBtvHZGd8jFUG28dkZ3yMVQbbx2RnfIxVBtvHZGd8jFUG28dkZ3yMVQbbx2RnfIxVBtvHZGd8jFUG28dkZ3yMVQbbx2RnfIxVBtvHZGd8jFUG28dkZ3yMVQbbx2RnfIxVBtvHZGd8jFUG28dkZ3yMVQbbx2RnfIxVBtvHZGd8jFUG28dkZ3yMVQbbx2RnfIxVBtvHZGd8jFUG28dkZ3yMVQbbx2RnfIxVBtvHZGd8jFUG28dkZ3yMVQbbx2RnfIxVBtvHZGd8jFUG28dkZ3yMVQbbx2RnfIxVBtvHZGd8jFUG28dkZ3yMVQbbx2RnfIxVBtvHZGd8jFUG28dkZ3yMVQbbx2RnfIxVBtvHZGd8jFUG28dkZ3yMVQbbx2RnfIxVBtvHZGd8jFUG28dkZ3yMVQbbx2RnfIxVBtvHZGd8jFUG28dkZ3yMVQbbx2RnfIxVBtvHZGd8jFUG28dkZ3yMVQbbx2RnfIxVBtvHZGd8jFUG28dkZ3yMVQbbx2RnfIxVBtvHZGd8jFUG28dkZ3yMVQbbx2RnfIxVBtvHZGd8jFUG28dkZ3yMVQbbx2RnfIxVBtvHZGd8jFUG28dkZ3yMVQbbx2RnfIxVBtvHZGd8jFUG28dkZ3yMVQbbx2RnfIxVBtvHZGd8jFUG28dkZ3yMVQbbx2RnfIxVBtvHZGd8jFUG28dkZ3yMVQbbx2RnfIxVBtvHZGd8jFUG28dkZ3yMVQbbx2RnfIxVBtvHZGd8jFUG28dkZ3yMVQbbx2RnfIxVBtvHZGd8jFUG28dkZ3yMVQbbx2RnfIxVBtvHZGd8jFUG28dkZ3yMVQbbx2RnfIxVBtvHZGd8jFUG28dkZ3yMVQbbx2RnfIxVBtvHZGd8jFUG28dkZ3yMVQbbx2RnfIxVBtvHZGd8jFUG28dkZ3yMVQbbx2RnfIxVBtvHZGd8jFUG28dkZ3yMVQbbx2RnfIxVBtvHZGd8jFUG28dkZ3yMVQbbx2RnfIxVBtvHZGd8jFUG28dkZ3yMVQbbx2RnfIxVBtvHZGd8jFUG28dkZ3yMVQbbx2RnfIxVBtvHZGd8jFUG28dkZ3yMVQbbx2RnfIxVBtvHZGd8jFUG28dkZ3yMVQbbx2RnfIxVBtvHZGd8jFUG28dkZ3yMVQbbx2RnfIxVBtvHZGd8jFUG28dkZ3yMVQbbx2RnfIxVBtvHZGd8jFUG28dkZ3yMVQbbx2RnfIxVBtvHZGd8jFUG28dkZ3yMVQbbx2RnfIxVBtvHZGd8jFUG28dkZ3yMVQbbx2RnfIxVBtvHZGd8jFUG28dkZ3yMVQbbx2RnfIxVBtvHZGd8jFUG28dkZ3yMVQbbx2RnfIxVBtvHZGd8jFUG28dkZ3yMVQbbx2RnfIxVBtvHZGd8jFUG28dkZ3yMVQbbx2RnfIxVBtvHZGd8jFUG28dkZ3yMVQbbx2RnfIxVBtvHZGd8jFUG28dkZ3yMVQbbx2RnfIxVBtvHZGd8jFUG28dkZ3yMVQbbx2RnfIxVBtvHZGd8jFUG28dkZ3yMVQbbx2RnfIxVBtvHZGd8jFUG28dkZ3yMVQbbx2RnfIxVBtvHZGd8jFUG28dkZ3yMVQbbx2RnfIxVBtvHZGd8jFUG28dkZ3yMVQbbx2RnfIxVBtvHZGd8jFUG28dkZ3yMVQbbx2RnfIxVBtvHZGd8jFUG28dkZ3yMVQbbx2RnfIxVBtvHZGd8jFUG28dkZ3yMVQbbx2RnfIxVBtvHZGd8jFUG28dkZ3yMVQbbx2RnfIxVBtvHZGd8jFUG28dkZ3yMVQbbx2RnfIxVBtvHZGd8jFUG28dkZ3yMVQbbx2RnfIxVBtvHZGd8jFUG28dkZ3yMVQbbx2RnfIxVBtvHZGd8jFUG28dkZ3yMVQbbx2RnfIxVBtvHZGd8jFUG28dkZ3yMVQbbx2RnfIxVBtvHZGd8jFUG28dkZ3yMVQbbx2RnfIxVBtvHZGd8jFUG28dkZ3yMVQbbx2RnfIxVBtvHZGd8jFUG28dkZ3yMVQbbx2RnfIxVBtvHZGd8jFUG28dkZ3yMVQbbx2RnfIxVBtvHZGd8jFUG28dkZ3yMVQbbx2RnfIxVBtvHZGd8jFUG28dkZ3yMVQbbx2RnfIxVBtvHZGd8jFUG28dkZ3yMVQbbx2RnfIxVBtvHZGd8jFUG28dkZ3yMVQbbx2RnfIxVBtvHZGd8jFUG28dkZ3yMVQbbx2RnfIxVBtvHZGd8jFUG28dkZ3yMVQbbx2RnfIxVBtvHZGd8jFUG28dkZ3yMVQbbx2RnfIxVBtvHZGd8jFUG28dkZ3yMVQbbx2RnfIxVBtvHZGd8jFUG28dkZ3yMVQbbx2RnfIxVBtvHZGd8jFUG28dkZ3yMVQbbx2RnfIxVBtvHZGd8jFUG28dkZ3yMVQbbx2RnfIxVBtvHZGd8jFUG28dkZ3yMVQbbx2RnfIxVBtvHZGd8jFUG28dkZ3yMVQbbx2RnfIxVBtvHZGd8jFUG28dkZ3yMVQbbx2RnfIxVBtvHZGd8jFUG28dkZ3yMVQbbx2RnfIxVBtvHZGd8jFUG28dkZ3yMVQbbx2RnfIxVBtvHZGd8jFUG28dkZ3yMVQbbx2RnfIxVBtvHZGd8jFUG28dkZ3yMVQbbx2RnfIxVBtvHZGd8jFUG28dkZ3yMVQbbx2RnfIxVBtvHZGd8jFUG28dkZ3yMVQbbx2RnfIxVBtvHZGd8jFUG28dkZ3yMVQbbx2RnfIxVBtvHZGd8jFUG28dkZ3yMVQbbx2RnfIxVBtvHZGd8jFUG28dkZ3yMVQbbx2RnfIxVBtvHZGd8jFUG28dkZ3yMVQbbx2RnfIxVBtvHZGd8jFUG28dkZ3yMVQbbx2RnfIxVBtvHZGd8jFUG28dkZ3yMVQbbx2RnfIxVBtvHZGd8jFUG28dkZ3yMVQbbx2RnfIxVBtvHZGd8jFUG28dkZ3yMVQbbx2RnfIxVBtvHZGd8jFUG28dkZ3yMVQbbx2RnfIxVBtvHZGd8jFUG28dkZ3yMVQbbx2RnfIxVBtvHZGd8jFUG28dkZ3yMVQbbx2RnfIxVBtvHZGd8jFUG28dkZ3yMVQbbx2RnfIxVBtvHZGd8jFUG28dkZ3yMVQbbx2RnfIxVBtvHZGd8jFUG28dkZ3yMVQbbx2RnfIxVBtvHZGd8jFUG28dkZ3yMVQbbx2RnfIxVBtvHZGd8jFUG28dkZ3yMVQbbx2RnfIxVBtvHZGd8jFUG28dkZ3yMVQbbx2RnfIxVBtvHZGd8jFUG28dkZ3yMVQbbx2RnfIxVBtvHZGd8jFUG28dkZ3yMVQbbx2RnfIxVBtvHZGd8jFUG28dkZ3yMVQbbx2RnfIxVBtvHZGd8jFUG28dkZ3yMVQbbx2RnfIxVBtvHZGd8jFUG28dkZ3yMVQbbx2RnfIxVBtvHZGd8jFUG28dkZ3yMVQbbx2RnfIxVBtvHZGd8jFUG28dkZ3yMVQbbx2RnfIxVBtvHZGd8jFUG28dkZ3yMVQbbx2RnfIxVBtvHZGd8jFUG28dkZ3yMVQbbx2RnfIxVBtvHZGd8jFUG28dkZ3yMVQbbx2RnfIxVBtvHZGd8jFUG28dkZ3yMVQbbx2RnfIxVB",
          "dtype": "f8"
         },
         "yaxis": "y"
        },
        {
         "fill": "toself",
         "fillcolor": "rgba(174,30,36,0.3)",
         "line": {
          "color": "rgba(0,0,0,0)"
         },
         "name": "day layer 0 : 10 best individuals",
         "type": "scatter",
         "x": [
          "2023-01-01T00:00:00.000000000",
          "2023-01-02T00:00:00.000000000",
          "2023-01-03T00:00:00.000000000",
          "2023-01-04T00:00:00.000000000",
          "2023-01-05T00:00:00.000000000",
          "2023-01-06T00:00:00.000000000",
          "2023-01-07T00:00:00.000000000",
          "2023-01-08T00:00:00.000000000",
          "2023-01-09T00:00:00.000000000",
          "2023-01-10T00:00:00.000000000",
          "2023-01-11T00:00:00.000000000",
          "2023-01-12T00:00:00.000000000",
          "2023-01-13T00:00:00.000000000",
          "2023-01-14T00:00:00.000000000",
          "2023-01-15T00:00:00.000000000",
          "2023-01-16T00:00:00.000000000",
          "2023-01-17T00:00:00.000000000",
          "2023-01-18T00:00:00.000000000",
          "2023-01-19T00:00:00.000000000",
          "2023-01-20T00:00:00.000000000",
          "2023-01-21T00:00:00.000000000",
          "2023-01-22T00:00:00.000000000",
          "2023-01-23T00:00:00.000000000",
          "2023-01-24T00:00:00.000000000",
          "2023-01-25T00:00:00.000000000",
          "2023-01-26T00:00:00.000000000",
          "2023-01-27T00:00:00.000000000",
          "2023-01-28T00:00:00.000000000",
          "2023-01-29T00:00:00.000000000",
          "2023-01-30T00:00:00.000000000",
          "2023-01-31T00:00:00.000000000",
          "2023-02-01T00:00:00.000000000",
          "2023-02-02T00:00:00.000000000",
          "2023-02-03T00:00:00.000000000",
          "2023-02-04T00:00:00.000000000",
          "2023-02-05T00:00:00.000000000",
          "2023-02-06T00:00:00.000000000",
          "2023-02-07T00:00:00.000000000",
          "2023-02-08T00:00:00.000000000",
          "2023-02-09T00:00:00.000000000",
          "2023-02-10T00:00:00.000000000",
          "2023-02-11T00:00:00.000000000",
          "2023-02-12T00:00:00.000000000",
          "2023-02-13T00:00:00.000000000",
          "2023-02-14T00:00:00.000000000",
          "2023-02-15T00:00:00.000000000",
          "2023-02-16T00:00:00.000000000",
          "2023-02-17T00:00:00.000000000",
          "2023-02-18T00:00:00.000000000",
          "2023-02-19T00:00:00.000000000",
          "2023-02-20T00:00:00.000000000",
          "2023-02-21T00:00:00.000000000",
          "2023-02-22T00:00:00.000000000",
          "2023-02-23T00:00:00.000000000",
          "2023-02-24T00:00:00.000000000",
          "2023-02-25T00:00:00.000000000",
          "2023-02-26T00:00:00.000000000",
          "2023-02-27T00:00:00.000000000",
          "2023-02-28T00:00:00.000000000",
          "2023-03-01T00:00:00.000000000",
          "2023-03-02T00:00:00.000000000",
          "2023-03-03T00:00:00.000000000",
          "2023-03-04T00:00:00.000000000",
          "2023-03-05T00:00:00.000000000",
          "2023-03-06T00:00:00.000000000",
          "2023-03-07T00:00:00.000000000",
          "2023-03-08T00:00:00.000000000",
          "2023-03-09T00:00:00.000000000",
          "2023-03-10T00:00:00.000000000",
          "2023-03-11T00:00:00.000000000",
          "2023-03-12T00:00:00.000000000",
          "2023-03-13T00:00:00.000000000",
          "2023-03-14T00:00:00.000000000",
          "2023-03-15T00:00:00.000000000",
          "2023-03-16T00:00:00.000000000",
          "2023-03-17T00:00:00.000000000",
          "2023-03-18T00:00:00.000000000",
          "2023-03-19T00:00:00.000000000",
          "2023-03-20T00:00:00.000000000",
          "2023-03-21T00:00:00.000000000",
          "2023-03-22T00:00:00.000000000",
          "2023-03-23T00:00:00.000000000",
          "2023-03-24T00:00:00.000000000",
          "2023-03-25T00:00:00.000000000",
          "2023-03-26T00:00:00.000000000",
          "2023-03-27T00:00:00.000000000",
          "2023-03-28T00:00:00.000000000",
          "2023-03-29T00:00:00.000000000",
          "2023-03-30T00:00:00.000000000",
          "2023-03-31T00:00:00.000000000",
          "2023-04-01T00:00:00.000000000",
          "2023-04-02T00:00:00.000000000",
          "2023-04-03T00:00:00.000000000",
          "2023-04-04T00:00:00.000000000",
          "2023-04-05T00:00:00.000000000",
          "2023-04-06T00:00:00.000000000",
          "2023-04-07T00:00:00.000000000",
          "2023-04-08T00:00:00.000000000",
          "2023-04-09T00:00:00.000000000",
          "2023-04-10T00:00:00.000000000",
          "2023-04-11T00:00:00.000000000",
          "2023-04-12T00:00:00.000000000",
          "2023-04-13T00:00:00.000000000",
          "2023-04-14T00:00:00.000000000",
          "2023-04-15T00:00:00.000000000",
          "2023-04-16T00:00:00.000000000",
          "2023-04-17T00:00:00.000000000",
          "2023-04-18T00:00:00.000000000",
          "2023-04-19T00:00:00.000000000",
          "2023-04-20T00:00:00.000000000",
          "2023-04-21T00:00:00.000000000",
          "2023-04-22T00:00:00.000000000",
          "2023-04-23T00:00:00.000000000",
          "2023-04-24T00:00:00.000000000",
          "2023-04-25T00:00:00.000000000",
          "2023-04-26T00:00:00.000000000",
          "2023-04-27T00:00:00.000000000",
          "2023-04-28T00:00:00.000000000",
          "2023-04-29T00:00:00.000000000",
          "2023-04-30T00:00:00.000000000",
          "2023-05-01T00:00:00.000000000",
          "2023-05-02T00:00:00.000000000",
          "2023-05-03T00:00:00.000000000",
          "2023-05-04T00:00:00.000000000",
          "2023-05-05T00:00:00.000000000",
          "2023-05-06T00:00:00.000000000",
          "2023-05-07T00:00:00.000000000",
          "2023-05-08T00:00:00.000000000",
          "2023-05-09T00:00:00.000000000",
          "2023-05-10T00:00:00.000000000",
          "2023-05-11T00:00:00.000000000",
          "2023-05-12T00:00:00.000000000",
          "2023-05-13T00:00:00.000000000",
          "2023-05-14T00:00:00.000000000",
          "2023-05-15T00:00:00.000000000",
          "2023-05-16T00:00:00.000000000",
          "2023-05-17T00:00:00.000000000",
          "2023-05-18T00:00:00.000000000",
          "2023-05-19T00:00:00.000000000",
          "2023-05-20T00:00:00.000000000",
          "2023-05-21T00:00:00.000000000",
          "2023-05-22T00:00:00.000000000",
          "2023-05-23T00:00:00.000000000",
          "2023-05-24T00:00:00.000000000",
          "2023-05-25T00:00:00.000000000",
          "2023-05-26T00:00:00.000000000",
          "2023-05-27T00:00:00.000000000",
          "2023-05-28T00:00:00.000000000",
          "2023-05-29T00:00:00.000000000",
          "2023-05-30T00:00:00.000000000",
          "2023-05-31T00:00:00.000000000",
          "2023-06-01T00:00:00.000000000",
          "2023-06-02T00:00:00.000000000",
          "2023-06-03T00:00:00.000000000",
          "2023-06-04T00:00:00.000000000",
          "2023-06-05T00:00:00.000000000",
          "2023-06-06T00:00:00.000000000",
          "2023-06-07T00:00:00.000000000",
          "2023-06-08T00:00:00.000000000",
          "2023-06-09T00:00:00.000000000",
          "2023-06-10T00:00:00.000000000",
          "2023-06-11T00:00:00.000000000",
          "2023-06-12T00:00:00.000000000",
          "2023-06-13T00:00:00.000000000",
          "2023-06-14T00:00:00.000000000",
          "2023-06-15T00:00:00.000000000",
          "2023-06-16T00:00:00.000000000",
          "2023-06-17T00:00:00.000000000",
          "2023-06-18T00:00:00.000000000",
          "2023-06-19T00:00:00.000000000",
          "2023-06-20T00:00:00.000000000",
          "2023-06-21T00:00:00.000000000",
          "2023-06-22T00:00:00.000000000",
          "2023-06-23T00:00:00.000000000",
          "2023-06-24T00:00:00.000000000",
          "2023-06-25T00:00:00.000000000",
          "2023-06-26T00:00:00.000000000",
          "2023-06-27T00:00:00.000000000",
          "2023-06-28T00:00:00.000000000",
          "2023-06-29T00:00:00.000000000",
          "2023-06-30T00:00:00.000000000",
          "2023-07-01T00:00:00.000000000",
          "2023-07-02T00:00:00.000000000",
          "2023-07-03T00:00:00.000000000",
          "2023-07-04T00:00:00.000000000",
          "2023-07-05T00:00:00.000000000",
          "2023-07-06T00:00:00.000000000",
          "2023-07-07T00:00:00.000000000",
          "2023-07-08T00:00:00.000000000",
          "2023-07-09T00:00:00.000000000",
          "2023-07-10T00:00:00.000000000",
          "2023-07-11T00:00:00.000000000",
          "2023-07-12T00:00:00.000000000",
          "2023-07-13T00:00:00.000000000",
          "2023-07-14T00:00:00.000000000",
          "2023-07-15T00:00:00.000000000",
          "2023-07-16T00:00:00.000000000",
          "2023-07-17T00:00:00.000000000",
          "2023-07-18T00:00:00.000000000",
          "2023-07-19T00:00:00.000000000",
          "2023-07-20T00:00:00.000000000",
          "2023-07-21T00:00:00.000000000",
          "2023-07-22T00:00:00.000000000",
          "2023-07-23T00:00:00.000000000",
          "2023-07-24T00:00:00.000000000",
          "2023-07-25T00:00:00.000000000",
          "2023-07-26T00:00:00.000000000",
          "2023-07-27T00:00:00.000000000",
          "2023-07-28T00:00:00.000000000",
          "2023-07-29T00:00:00.000000000",
          "2023-07-30T00:00:00.000000000",
          "2023-07-31T00:00:00.000000000",
          "2023-08-01T00:00:00.000000000",
          "2023-08-02T00:00:00.000000000",
          "2023-08-03T00:00:00.000000000",
          "2023-08-04T00:00:00.000000000",
          "2023-08-05T00:00:00.000000000",
          "2023-08-06T00:00:00.000000000",
          "2023-08-07T00:00:00.000000000",
          "2023-08-08T00:00:00.000000000",
          "2023-08-09T00:00:00.000000000",
          "2023-08-10T00:00:00.000000000",
          "2023-08-11T00:00:00.000000000",
          "2023-08-12T00:00:00.000000000",
          "2023-08-13T00:00:00.000000000",
          "2023-08-14T00:00:00.000000000",
          "2023-08-15T00:00:00.000000000",
          "2023-08-16T00:00:00.000000000",
          "2023-08-17T00:00:00.000000000",
          "2023-08-18T00:00:00.000000000",
          "2023-08-19T00:00:00.000000000",
          "2023-08-20T00:00:00.000000000",
          "2023-08-21T00:00:00.000000000",
          "2023-08-22T00:00:00.000000000",
          "2023-08-23T00:00:00.000000000",
          "2023-08-24T00:00:00.000000000",
          "2023-08-25T00:00:00.000000000",
          "2023-08-26T00:00:00.000000000",
          "2023-08-27T00:00:00.000000000",
          "2023-08-28T00:00:00.000000000",
          "2023-08-29T00:00:00.000000000",
          "2023-08-30T00:00:00.000000000",
          "2023-08-31T00:00:00.000000000",
          "2023-09-01T00:00:00.000000000",
          "2023-09-02T00:00:00.000000000",
          "2023-09-03T00:00:00.000000000",
          "2023-09-04T00:00:00.000000000",
          "2023-09-05T00:00:00.000000000",
          "2023-09-06T00:00:00.000000000",
          "2023-09-07T00:00:00.000000000",
          "2023-09-08T00:00:00.000000000",
          "2023-09-09T00:00:00.000000000",
          "2023-09-10T00:00:00.000000000",
          "2023-09-11T00:00:00.000000000",
          "2023-09-12T00:00:00.000000000",
          "2023-09-13T00:00:00.000000000",
          "2023-09-14T00:00:00.000000000",
          "2023-09-15T00:00:00.000000000",
          "2023-09-16T00:00:00.000000000",
          "2023-09-17T00:00:00.000000000",
          "2023-09-18T00:00:00.000000000",
          "2023-09-19T00:00:00.000000000",
          "2023-09-20T00:00:00.000000000",
          "2023-09-21T00:00:00.000000000",
          "2023-09-22T00:00:00.000000000",
          "2023-09-23T00:00:00.000000000",
          "2023-09-24T00:00:00.000000000",
          "2023-09-25T00:00:00.000000000",
          "2023-09-26T00:00:00.000000000",
          "2023-09-27T00:00:00.000000000",
          "2023-09-28T00:00:00.000000000",
          "2023-09-29T00:00:00.000000000",
          "2023-09-30T00:00:00.000000000",
          "2023-10-01T00:00:00.000000000",
          "2023-10-02T00:00:00.000000000",
          "2023-10-03T00:00:00.000000000",
          "2023-10-04T00:00:00.000000000",
          "2023-10-05T00:00:00.000000000",
          "2023-10-06T00:00:00.000000000",
          "2023-10-07T00:00:00.000000000",
          "2023-10-08T00:00:00.000000000",
          "2023-10-09T00:00:00.000000000",
          "2023-10-10T00:00:00.000000000",
          "2023-10-11T00:00:00.000000000",
          "2023-10-12T00:00:00.000000000",
          "2023-10-13T00:00:00.000000000",
          "2023-10-14T00:00:00.000000000",
          "2023-10-15T00:00:00.000000000",
          "2023-10-16T00:00:00.000000000",
          "2023-10-17T00:00:00.000000000",
          "2023-10-18T00:00:00.000000000",
          "2023-10-19T00:00:00.000000000",
          "2023-10-20T00:00:00.000000000",
          "2023-10-21T00:00:00.000000000",
          "2023-10-22T00:00:00.000000000",
          "2023-10-23T00:00:00.000000000",
          "2023-10-24T00:00:00.000000000",
          "2023-10-25T00:00:00.000000000",
          "2023-10-26T00:00:00.000000000",
          "2023-10-27T00:00:00.000000000",
          "2023-10-28T00:00:00.000000000",
          "2023-10-29T00:00:00.000000000",
          "2023-10-30T00:00:00.000000000",
          "2023-10-31T00:00:00.000000000",
          "2023-11-01T00:00:00.000000000",
          "2023-11-02T00:00:00.000000000",
          "2023-11-03T00:00:00.000000000",
          "2023-11-04T00:00:00.000000000",
          "2023-11-05T00:00:00.000000000",
          "2023-11-06T00:00:00.000000000",
          "2023-11-07T00:00:00.000000000",
          "2023-11-08T00:00:00.000000000",
          "2023-11-09T00:00:00.000000000",
          "2023-11-10T00:00:00.000000000",
          "2023-11-11T00:00:00.000000000",
          "2023-11-12T00:00:00.000000000",
          "2023-11-13T00:00:00.000000000",
          "2023-11-14T00:00:00.000000000",
          "2023-11-15T00:00:00.000000000",
          "2023-11-16T00:00:00.000000000",
          "2023-11-17T00:00:00.000000000",
          "2023-11-18T00:00:00.000000000",
          "2023-11-19T00:00:00.000000000",
          "2023-11-20T00:00:00.000000000",
          "2023-11-21T00:00:00.000000000",
          "2023-11-22T00:00:00.000000000",
          "2023-11-23T00:00:00.000000000",
          "2023-11-24T00:00:00.000000000",
          "2023-11-25T00:00:00.000000000",
          "2023-11-26T00:00:00.000000000",
          "2023-11-27T00:00:00.000000000",
          "2023-11-28T00:00:00.000000000",
          "2023-11-29T00:00:00.000000000",
          "2023-11-30T00:00:00.000000000",
          "2023-12-01T00:00:00.000000000",
          "2023-12-02T00:00:00.000000000",
          "2023-12-03T00:00:00.000000000",
          "2023-12-04T00:00:00.000000000",
          "2023-12-05T00:00:00.000000000",
          "2023-12-06T00:00:00.000000000",
          "2023-12-07T00:00:00.000000000",
          "2023-12-08T00:00:00.000000000",
          "2023-12-09T00:00:00.000000000",
          "2023-12-10T00:00:00.000000000",
          "2023-12-11T00:00:00.000000000",
          "2023-12-12T00:00:00.000000000",
          "2023-12-13T00:00:00.000000000",
          "2023-12-14T00:00:00.000000000",
          "2023-12-15T00:00:00.000000000",
          "2023-12-16T00:00:00.000000000",
          "2023-12-17T00:00:00.000000000",
          "2023-12-18T00:00:00.000000000",
          "2023-12-19T00:00:00.000000000",
          "2023-12-20T00:00:00.000000000",
          "2023-12-21T00:00:00.000000000",
          "2023-12-22T00:00:00.000000000",
          "2023-12-23T00:00:00.000000000",
          "2023-12-24T00:00:00.000000000",
          "2023-12-25T00:00:00.000000000",
          "2023-12-26T00:00:00.000000000",
          "2023-12-26T00:00:00.000000000",
          "2023-12-25T00:00:00.000000000",
          "2023-12-24T00:00:00.000000000",
          "2023-12-23T00:00:00.000000000",
          "2023-12-22T00:00:00.000000000",
          "2023-12-21T00:00:00.000000000",
          "2023-12-20T00:00:00.000000000",
          "2023-12-19T00:00:00.000000000",
          "2023-12-18T00:00:00.000000000",
          "2023-12-17T00:00:00.000000000",
          "2023-12-16T00:00:00.000000000",
          "2023-12-15T00:00:00.000000000",
          "2023-12-14T00:00:00.000000000",
          "2023-12-13T00:00:00.000000000",
          "2023-12-12T00:00:00.000000000",
          "2023-12-11T00:00:00.000000000",
          "2023-12-10T00:00:00.000000000",
          "2023-12-09T00:00:00.000000000",
          "2023-12-08T00:00:00.000000000",
          "2023-12-07T00:00:00.000000000",
          "2023-12-06T00:00:00.000000000",
          "2023-12-05T00:00:00.000000000",
          "2023-12-04T00:00:00.000000000",
          "2023-12-03T00:00:00.000000000",
          "2023-12-02T00:00:00.000000000",
          "2023-12-01T00:00:00.000000000",
          "2023-11-30T00:00:00.000000000",
          "2023-11-29T00:00:00.000000000",
          "2023-11-28T00:00:00.000000000",
          "2023-11-27T00:00:00.000000000",
          "2023-11-26T00:00:00.000000000",
          "2023-11-25T00:00:00.000000000",
          "2023-11-24T00:00:00.000000000",
          "2023-11-23T00:00:00.000000000",
          "2023-11-22T00:00:00.000000000",
          "2023-11-21T00:00:00.000000000",
          "2023-11-20T00:00:00.000000000",
          "2023-11-19T00:00:00.000000000",
          "2023-11-18T00:00:00.000000000",
          "2023-11-17T00:00:00.000000000",
          "2023-11-16T00:00:00.000000000",
          "2023-11-15T00:00:00.000000000",
          "2023-11-14T00:00:00.000000000",
          "2023-11-13T00:00:00.000000000",
          "2023-11-12T00:00:00.000000000",
          "2023-11-11T00:00:00.000000000",
          "2023-11-10T00:00:00.000000000",
          "2023-11-09T00:00:00.000000000",
          "2023-11-08T00:00:00.000000000",
          "2023-11-07T00:00:00.000000000",
          "2023-11-06T00:00:00.000000000",
          "2023-11-05T00:00:00.000000000",
          "2023-11-04T00:00:00.000000000",
          "2023-11-03T00:00:00.000000000",
          "2023-11-02T00:00:00.000000000",
          "2023-11-01T00:00:00.000000000",
          "2023-10-31T00:00:00.000000000",
          "2023-10-30T00:00:00.000000000",
          "2023-10-29T00:00:00.000000000",
          "2023-10-28T00:00:00.000000000",
          "2023-10-27T00:00:00.000000000",
          "2023-10-26T00:00:00.000000000",
          "2023-10-25T00:00:00.000000000",
          "2023-10-24T00:00:00.000000000",
          "2023-10-23T00:00:00.000000000",
          "2023-10-22T00:00:00.000000000",
          "2023-10-21T00:00:00.000000000",
          "2023-10-20T00:00:00.000000000",
          "2023-10-19T00:00:00.000000000",
          "2023-10-18T00:00:00.000000000",
          "2023-10-17T00:00:00.000000000",
          "2023-10-16T00:00:00.000000000",
          "2023-10-15T00:00:00.000000000",
          "2023-10-14T00:00:00.000000000",
          "2023-10-13T00:00:00.000000000",
          "2023-10-12T00:00:00.000000000",
          "2023-10-11T00:00:00.000000000",
          "2023-10-10T00:00:00.000000000",
          "2023-10-09T00:00:00.000000000",
          "2023-10-08T00:00:00.000000000",
          "2023-10-07T00:00:00.000000000",
          "2023-10-06T00:00:00.000000000",
          "2023-10-05T00:00:00.000000000",
          "2023-10-04T00:00:00.000000000",
          "2023-10-03T00:00:00.000000000",
          "2023-10-02T00:00:00.000000000",
          "2023-10-01T00:00:00.000000000",
          "2023-09-30T00:00:00.000000000",
          "2023-09-29T00:00:00.000000000",
          "2023-09-28T00:00:00.000000000",
          "2023-09-27T00:00:00.000000000",
          "2023-09-26T00:00:00.000000000",
          "2023-09-25T00:00:00.000000000",
          "2023-09-24T00:00:00.000000000",
          "2023-09-23T00:00:00.000000000",
          "2023-09-22T00:00:00.000000000",
          "2023-09-21T00:00:00.000000000",
          "2023-09-20T00:00:00.000000000",
          "2023-09-19T00:00:00.000000000",
          "2023-09-18T00:00:00.000000000",
          "2023-09-17T00:00:00.000000000",
          "2023-09-16T00:00:00.000000000",
          "2023-09-15T00:00:00.000000000",
          "2023-09-14T00:00:00.000000000",
          "2023-09-13T00:00:00.000000000",
          "2023-09-12T00:00:00.000000000",
          "2023-09-11T00:00:00.000000000",
          "2023-09-10T00:00:00.000000000",
          "2023-09-09T00:00:00.000000000",
          "2023-09-08T00:00:00.000000000",
          "2023-09-07T00:00:00.000000000",
          "2023-09-06T00:00:00.000000000",
          "2023-09-05T00:00:00.000000000",
          "2023-09-04T00:00:00.000000000",
          "2023-09-03T00:00:00.000000000",
          "2023-09-02T00:00:00.000000000",
          "2023-09-01T00:00:00.000000000",
          "2023-08-31T00:00:00.000000000",
          "2023-08-30T00:00:00.000000000",
          "2023-08-29T00:00:00.000000000",
          "2023-08-28T00:00:00.000000000",
          "2023-08-27T00:00:00.000000000",
          "2023-08-26T00:00:00.000000000",
          "2023-08-25T00:00:00.000000000",
          "2023-08-24T00:00:00.000000000",
          "2023-08-23T00:00:00.000000000",
          "2023-08-22T00:00:00.000000000",
          "2023-08-21T00:00:00.000000000",
          "2023-08-20T00:00:00.000000000",
          "2023-08-19T00:00:00.000000000",
          "2023-08-18T00:00:00.000000000",
          "2023-08-17T00:00:00.000000000",
          "2023-08-16T00:00:00.000000000",
          "2023-08-15T00:00:00.000000000",
          "2023-08-14T00:00:00.000000000",
          "2023-08-13T00:00:00.000000000",
          "2023-08-12T00:00:00.000000000",
          "2023-08-11T00:00:00.000000000",
          "2023-08-10T00:00:00.000000000",
          "2023-08-09T00:00:00.000000000",
          "2023-08-08T00:00:00.000000000",
          "2023-08-07T00:00:00.000000000",
          "2023-08-06T00:00:00.000000000",
          "2023-08-05T00:00:00.000000000",
          "2023-08-04T00:00:00.000000000",
          "2023-08-03T00:00:00.000000000",
          "2023-08-02T00:00:00.000000000",
          "2023-08-01T00:00:00.000000000",
          "2023-07-31T00:00:00.000000000",
          "2023-07-30T00:00:00.000000000",
          "2023-07-29T00:00:00.000000000",
          "2023-07-28T00:00:00.000000000",
          "2023-07-27T00:00:00.000000000",
          "2023-07-26T00:00:00.000000000",
          "2023-07-25T00:00:00.000000000",
          "2023-07-24T00:00:00.000000000",
          "2023-07-23T00:00:00.000000000",
          "2023-07-22T00:00:00.000000000",
          "2023-07-21T00:00:00.000000000",
          "2023-07-20T00:00:00.000000000",
          "2023-07-19T00:00:00.000000000",
          "2023-07-18T00:00:00.000000000",
          "2023-07-17T00:00:00.000000000",
          "2023-07-16T00:00:00.000000000",
          "2023-07-15T00:00:00.000000000",
          "2023-07-14T00:00:00.000000000",
          "2023-07-13T00:00:00.000000000",
          "2023-07-12T00:00:00.000000000",
          "2023-07-11T00:00:00.000000000",
          "2023-07-10T00:00:00.000000000",
          "2023-07-09T00:00:00.000000000",
          "2023-07-08T00:00:00.000000000",
          "2023-07-07T00:00:00.000000000",
          "2023-07-06T00:00:00.000000000",
          "2023-07-05T00:00:00.000000000",
          "2023-07-04T00:00:00.000000000",
          "2023-07-03T00:00:00.000000000",
          "2023-07-02T00:00:00.000000000",
          "2023-07-01T00:00:00.000000000",
          "2023-06-30T00:00:00.000000000",
          "2023-06-29T00:00:00.000000000",
          "2023-06-28T00:00:00.000000000",
          "2023-06-27T00:00:00.000000000",
          "2023-06-26T00:00:00.000000000",
          "2023-06-25T00:00:00.000000000",
          "2023-06-24T00:00:00.000000000",
          "2023-06-23T00:00:00.000000000",
          "2023-06-22T00:00:00.000000000",
          "2023-06-21T00:00:00.000000000",
          "2023-06-20T00:00:00.000000000",
          "2023-06-19T00:00:00.000000000",
          "2023-06-18T00:00:00.000000000",
          "2023-06-17T00:00:00.000000000",
          "2023-06-16T00:00:00.000000000",
          "2023-06-15T00:00:00.000000000",
          "2023-06-14T00:00:00.000000000",
          "2023-06-13T00:00:00.000000000",
          "2023-06-12T00:00:00.000000000",
          "2023-06-11T00:00:00.000000000",
          "2023-06-10T00:00:00.000000000",
          "2023-06-09T00:00:00.000000000",
          "2023-06-08T00:00:00.000000000",
          "2023-06-07T00:00:00.000000000",
          "2023-06-06T00:00:00.000000000",
          "2023-06-05T00:00:00.000000000",
          "2023-06-04T00:00:00.000000000",
          "2023-06-03T00:00:00.000000000",
          "2023-06-02T00:00:00.000000000",
          "2023-06-01T00:00:00.000000000",
          "2023-05-31T00:00:00.000000000",
          "2023-05-30T00:00:00.000000000",
          "2023-05-29T00:00:00.000000000",
          "2023-05-28T00:00:00.000000000",
          "2023-05-27T00:00:00.000000000",
          "2023-05-26T00:00:00.000000000",
          "2023-05-25T00:00:00.000000000",
          "2023-05-24T00:00:00.000000000",
          "2023-05-23T00:00:00.000000000",
          "2023-05-22T00:00:00.000000000",
          "2023-05-21T00:00:00.000000000",
          "2023-05-20T00:00:00.000000000",
          "2023-05-19T00:00:00.000000000",
          "2023-05-18T00:00:00.000000000",
          "2023-05-17T00:00:00.000000000",
          "2023-05-16T00:00:00.000000000",
          "2023-05-15T00:00:00.000000000",
          "2023-05-14T00:00:00.000000000",
          "2023-05-13T00:00:00.000000000",
          "2023-05-12T00:00:00.000000000",
          "2023-05-11T00:00:00.000000000",
          "2023-05-10T00:00:00.000000000",
          "2023-05-09T00:00:00.000000000",
          "2023-05-08T00:00:00.000000000",
          "2023-05-07T00:00:00.000000000",
          "2023-05-06T00:00:00.000000000",
          "2023-05-05T00:00:00.000000000",
          "2023-05-04T00:00:00.000000000",
          "2023-05-03T00:00:00.000000000",
          "2023-05-02T00:00:00.000000000",
          "2023-05-01T00:00:00.000000000",
          "2023-04-30T00:00:00.000000000",
          "2023-04-29T00:00:00.000000000",
          "2023-04-28T00:00:00.000000000",
          "2023-04-27T00:00:00.000000000",
          "2023-04-26T00:00:00.000000000",
          "2023-04-25T00:00:00.000000000",
          "2023-04-24T00:00:00.000000000",
          "2023-04-23T00:00:00.000000000",
          "2023-04-22T00:00:00.000000000",
          "2023-04-21T00:00:00.000000000",
          "2023-04-20T00:00:00.000000000",
          "2023-04-19T00:00:00.000000000",
          "2023-04-18T00:00:00.000000000",
          "2023-04-17T00:00:00.000000000",
          "2023-04-16T00:00:00.000000000",
          "2023-04-15T00:00:00.000000000",
          "2023-04-14T00:00:00.000000000",
          "2023-04-13T00:00:00.000000000",
          "2023-04-12T00:00:00.000000000",
          "2023-04-11T00:00:00.000000000",
          "2023-04-10T00:00:00.000000000",
          "2023-04-09T00:00:00.000000000",
          "2023-04-08T00:00:00.000000000",
          "2023-04-07T00:00:00.000000000",
          "2023-04-06T00:00:00.000000000",
          "2023-04-05T00:00:00.000000000",
          "2023-04-04T00:00:00.000000000",
          "2023-04-03T00:00:00.000000000",
          "2023-04-02T00:00:00.000000000",
          "2023-04-01T00:00:00.000000000",
          "2023-03-31T00:00:00.000000000",
          "2023-03-30T00:00:00.000000000",
          "2023-03-29T00:00:00.000000000",
          "2023-03-28T00:00:00.000000000",
          "2023-03-27T00:00:00.000000000",
          "2023-03-26T00:00:00.000000000",
          "2023-03-25T00:00:00.000000000",
          "2023-03-24T00:00:00.000000000",
          "2023-03-23T00:00:00.000000000",
          "2023-03-22T00:00:00.000000000",
          "2023-03-21T00:00:00.000000000",
          "2023-03-20T00:00:00.000000000",
          "2023-03-19T00:00:00.000000000",
          "2023-03-18T00:00:00.000000000",
          "2023-03-17T00:00:00.000000000",
          "2023-03-16T00:00:00.000000000",
          "2023-03-15T00:00:00.000000000",
          "2023-03-14T00:00:00.000000000",
          "2023-03-13T00:00:00.000000000",
          "2023-03-12T00:00:00.000000000",
          "2023-03-11T00:00:00.000000000",
          "2023-03-10T00:00:00.000000000",
          "2023-03-09T00:00:00.000000000",
          "2023-03-08T00:00:00.000000000",
          "2023-03-07T00:00:00.000000000",
          "2023-03-06T00:00:00.000000000",
          "2023-03-05T00:00:00.000000000",
          "2023-03-04T00:00:00.000000000",
          "2023-03-03T00:00:00.000000000",
          "2023-03-02T00:00:00.000000000",
          "2023-03-01T00:00:00.000000000",
          "2023-02-28T00:00:00.000000000",
          "2023-02-27T00:00:00.000000000",
          "2023-02-26T00:00:00.000000000",
          "2023-02-25T00:00:00.000000000",
          "2023-02-24T00:00:00.000000000",
          "2023-02-23T00:00:00.000000000",
          "2023-02-22T00:00:00.000000000",
          "2023-02-21T00:00:00.000000000",
          "2023-02-20T00:00:00.000000000",
          "2023-02-19T00:00:00.000000000",
          "2023-02-18T00:00:00.000000000",
          "2023-02-17T00:00:00.000000000",
          "2023-02-16T00:00:00.000000000",
          "2023-02-15T00:00:00.000000000",
          "2023-02-14T00:00:00.000000000",
          "2023-02-13T00:00:00.000000000",
          "2023-02-12T00:00:00.000000000",
          "2023-02-11T00:00:00.000000000",
          "2023-02-10T00:00:00.000000000",
          "2023-02-09T00:00:00.000000000",
          "2023-02-08T00:00:00.000000000",
          "2023-02-07T00:00:00.000000000",
          "2023-02-06T00:00:00.000000000",
          "2023-02-05T00:00:00.000000000",
          "2023-02-04T00:00:00.000000000",
          "2023-02-03T00:00:00.000000000",
          "2023-02-02T00:00:00.000000000",
          "2023-02-01T00:00:00.000000000",
          "2023-01-31T00:00:00.000000000",
          "2023-01-30T00:00:00.000000000",
          "2023-01-29T00:00:00.000000000",
          "2023-01-28T00:00:00.000000000",
          "2023-01-27T00:00:00.000000000",
          "2023-01-26T00:00:00.000000000",
          "2023-01-25T00:00:00.000000000",
          "2023-01-24T00:00:00.000000000",
          "2023-01-23T00:00:00.000000000",
          "2023-01-22T00:00:00.000000000",
          "2023-01-21T00:00:00.000000000",
          "2023-01-20T00:00:00.000000000",
          "2023-01-19T00:00:00.000000000",
          "2023-01-18T00:00:00.000000000",
          "2023-01-17T00:00:00.000000000",
          "2023-01-16T00:00:00.000000000",
          "2023-01-15T00:00:00.000000000",
          "2023-01-14T00:00:00.000000000",
          "2023-01-13T00:00:00.000000000",
          "2023-01-12T00:00:00.000000000",
          "2023-01-11T00:00:00.000000000",
          "2023-01-10T00:00:00.000000000",
          "2023-01-09T00:00:00.000000000",
          "2023-01-08T00:00:00.000000000",
          "2023-01-07T00:00:00.000000000",
          "2023-01-06T00:00:00.000000000",
          "2023-01-05T00:00:00.000000000",
          "2023-01-04T00:00:00.000000000",
          "2023-01-03T00:00:00.000000000",
          "2023-01-02T00:00:00.000000000",
          "2023-01-01T00:00:00.000000000"
         ],
         "xaxis": "x",
         "y": {
          "bdata": "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",
          "dtype": "f8"
         },
         "yaxis": "y"
        },
        {
         "line": {
          "color": "firebrick",
          "dash": "solid",
          "width": 2
         },
         "mode": "lines",
         "name": "Predicted day layer 1",
         "type": "scatter",
         "x": [
          "2023-01-01T00:00:00.000000000",
          "2023-01-02T00:00:00.000000000",
          "2023-01-03T00:00:00.000000000",
          "2023-01-04T00:00:00.000000000",
          "2023-01-05T00:00:00.000000000",
          "2023-01-06T00:00:00.000000000",
          "2023-01-07T00:00:00.000000000",
          "2023-01-08T00:00:00.000000000",
          "2023-01-09T00:00:00.000000000",
          "2023-01-10T00:00:00.000000000",
          "2023-01-11T00:00:00.000000000",
          "2023-01-12T00:00:00.000000000",
          "2023-01-13T00:00:00.000000000",
          "2023-01-14T00:00:00.000000000",
          "2023-01-15T00:00:00.000000000",
          "2023-01-16T00:00:00.000000000",
          "2023-01-17T00:00:00.000000000",
          "2023-01-18T00:00:00.000000000",
          "2023-01-19T00:00:00.000000000",
          "2023-01-20T00:00:00.000000000",
          "2023-01-21T00:00:00.000000000",
          "2023-01-22T00:00:00.000000000",
          "2023-01-23T00:00:00.000000000",
          "2023-01-24T00:00:00.000000000",
          "2023-01-25T00:00:00.000000000",
          "2023-01-26T00:00:00.000000000",
          "2023-01-27T00:00:00.000000000",
          "2023-01-28T00:00:00.000000000",
          "2023-01-29T00:00:00.000000000",
          "2023-01-30T00:00:00.000000000",
          "2023-01-31T00:00:00.000000000",
          "2023-02-01T00:00:00.000000000",
          "2023-02-02T00:00:00.000000000",
          "2023-02-03T00:00:00.000000000",
          "2023-02-04T00:00:00.000000000",
          "2023-02-05T00:00:00.000000000",
          "2023-02-06T00:00:00.000000000",
          "2023-02-07T00:00:00.000000000",
          "2023-02-08T00:00:00.000000000",
          "2023-02-09T00:00:00.000000000",
          "2023-02-10T00:00:00.000000000",
          "2023-02-11T00:00:00.000000000",
          "2023-02-12T00:00:00.000000000",
          "2023-02-13T00:00:00.000000000",
          "2023-02-14T00:00:00.000000000",
          "2023-02-15T00:00:00.000000000",
          "2023-02-16T00:00:00.000000000",
          "2023-02-17T00:00:00.000000000",
          "2023-02-18T00:00:00.000000000",
          "2023-02-19T00:00:00.000000000",
          "2023-02-20T00:00:00.000000000",
          "2023-02-21T00:00:00.000000000",
          "2023-02-22T00:00:00.000000000",
          "2023-02-23T00:00:00.000000000",
          "2023-02-24T00:00:00.000000000",
          "2023-02-25T00:00:00.000000000",
          "2023-02-26T00:00:00.000000000",
          "2023-02-27T00:00:00.000000000",
          "2023-02-28T00:00:00.000000000",
          "2023-03-01T00:00:00.000000000",
          "2023-03-02T00:00:00.000000000",
          "2023-03-03T00:00:00.000000000",
          "2023-03-04T00:00:00.000000000",
          "2023-03-05T00:00:00.000000000",
          "2023-03-06T00:00:00.000000000",
          "2023-03-07T00:00:00.000000000",
          "2023-03-08T00:00:00.000000000",
          "2023-03-09T00:00:00.000000000",
          "2023-03-10T00:00:00.000000000",
          "2023-03-11T00:00:00.000000000",
          "2023-03-12T00:00:00.000000000",
          "2023-03-13T00:00:00.000000000",
          "2023-03-14T00:00:00.000000000",
          "2023-03-15T00:00:00.000000000",
          "2023-03-16T00:00:00.000000000",
          "2023-03-17T00:00:00.000000000",
          "2023-03-18T00:00:00.000000000",
          "2023-03-19T00:00:00.000000000",
          "2023-03-20T00:00:00.000000000",
          "2023-03-21T00:00:00.000000000",
          "2023-03-22T00:00:00.000000000",
          "2023-03-23T00:00:00.000000000",
          "2023-03-24T00:00:00.000000000",
          "2023-03-25T00:00:00.000000000",
          "2023-03-26T00:00:00.000000000",
          "2023-03-27T00:00:00.000000000",
          "2023-03-28T00:00:00.000000000",
          "2023-03-29T00:00:00.000000000",
          "2023-03-30T00:00:00.000000000",
          "2023-03-31T00:00:00.000000000",
          "2023-04-01T00:00:00.000000000",
          "2023-04-02T00:00:00.000000000",
          "2023-04-03T00:00:00.000000000",
          "2023-04-04T00:00:00.000000000",
          "2023-04-05T00:00:00.000000000",
          "2023-04-06T00:00:00.000000000",
          "2023-04-07T00:00:00.000000000",
          "2023-04-08T00:00:00.000000000",
          "2023-04-09T00:00:00.000000000",
          "2023-04-10T00:00:00.000000000",
          "2023-04-11T00:00:00.000000000",
          "2023-04-12T00:00:00.000000000",
          "2023-04-13T00:00:00.000000000",
          "2023-04-14T00:00:00.000000000",
          "2023-04-15T00:00:00.000000000",
          "2023-04-16T00:00:00.000000000",
          "2023-04-17T00:00:00.000000000",
          "2023-04-18T00:00:00.000000000",
          "2023-04-19T00:00:00.000000000",
          "2023-04-20T00:00:00.000000000",
          "2023-04-21T00:00:00.000000000",
          "2023-04-22T00:00:00.000000000",
          "2023-04-23T00:00:00.000000000",
          "2023-04-24T00:00:00.000000000",
          "2023-04-25T00:00:00.000000000",
          "2023-04-26T00:00:00.000000000",
          "2023-04-27T00:00:00.000000000",
          "2023-04-28T00:00:00.000000000",
          "2023-04-29T00:00:00.000000000",
          "2023-04-30T00:00:00.000000000",
          "2023-05-01T00:00:00.000000000",
          "2023-05-02T00:00:00.000000000",
          "2023-05-03T00:00:00.000000000",
          "2023-05-04T00:00:00.000000000",
          "2023-05-05T00:00:00.000000000",
          "2023-05-06T00:00:00.000000000",
          "2023-05-07T00:00:00.000000000",
          "2023-05-08T00:00:00.000000000",
          "2023-05-09T00:00:00.000000000",
          "2023-05-10T00:00:00.000000000",
          "2023-05-11T00:00:00.000000000",
          "2023-05-12T00:00:00.000000000",
          "2023-05-13T00:00:00.000000000",
          "2023-05-14T00:00:00.000000000",
          "2023-05-15T00:00:00.000000000",
          "2023-05-16T00:00:00.000000000",
          "2023-05-17T00:00:00.000000000",
          "2023-05-18T00:00:00.000000000",
          "2023-05-19T00:00:00.000000000",
          "2023-05-20T00:00:00.000000000",
          "2023-05-21T00:00:00.000000000",
          "2023-05-22T00:00:00.000000000",
          "2023-05-23T00:00:00.000000000",
          "2023-05-24T00:00:00.000000000",
          "2023-05-25T00:00:00.000000000",
          "2023-05-26T00:00:00.000000000",
          "2023-05-27T00:00:00.000000000",
          "2023-05-28T00:00:00.000000000",
          "2023-05-29T00:00:00.000000000",
          "2023-05-30T00:00:00.000000000",
          "2023-05-31T00:00:00.000000000",
          "2023-06-01T00:00:00.000000000",
          "2023-06-02T00:00:00.000000000",
          "2023-06-03T00:00:00.000000000",
          "2023-06-04T00:00:00.000000000",
          "2023-06-05T00:00:00.000000000",
          "2023-06-06T00:00:00.000000000",
          "2023-06-07T00:00:00.000000000",
          "2023-06-08T00:00:00.000000000",
          "2023-06-09T00:00:00.000000000",
          "2023-06-10T00:00:00.000000000",
          "2023-06-11T00:00:00.000000000",
          "2023-06-12T00:00:00.000000000",
          "2023-06-13T00:00:00.000000000",
          "2023-06-14T00:00:00.000000000",
          "2023-06-15T00:00:00.000000000",
          "2023-06-16T00:00:00.000000000",
          "2023-06-17T00:00:00.000000000",
          "2023-06-18T00:00:00.000000000",
          "2023-06-19T00:00:00.000000000",
          "2023-06-20T00:00:00.000000000",
          "2023-06-21T00:00:00.000000000",
          "2023-06-22T00:00:00.000000000",
          "2023-06-23T00:00:00.000000000",
          "2023-06-24T00:00:00.000000000",
          "2023-06-25T00:00:00.000000000",
          "2023-06-26T00:00:00.000000000",
          "2023-06-27T00:00:00.000000000",
          "2023-06-28T00:00:00.000000000",
          "2023-06-29T00:00:00.000000000",
          "2023-06-30T00:00:00.000000000",
          "2023-07-01T00:00:00.000000000",
          "2023-07-02T00:00:00.000000000",
          "2023-07-03T00:00:00.000000000",
          "2023-07-04T00:00:00.000000000",
          "2023-07-05T00:00:00.000000000",
          "2023-07-06T00:00:00.000000000",
          "2023-07-07T00:00:00.000000000",
          "2023-07-08T00:00:00.000000000",
          "2023-07-09T00:00:00.000000000",
          "2023-07-10T00:00:00.000000000",
          "2023-07-11T00:00:00.000000000",
          "2023-07-12T00:00:00.000000000",
          "2023-07-13T00:00:00.000000000",
          "2023-07-14T00:00:00.000000000",
          "2023-07-15T00:00:00.000000000",
          "2023-07-16T00:00:00.000000000",
          "2023-07-17T00:00:00.000000000",
          "2023-07-18T00:00:00.000000000",
          "2023-07-19T00:00:00.000000000",
          "2023-07-20T00:00:00.000000000",
          "2023-07-21T00:00:00.000000000",
          "2023-07-22T00:00:00.000000000",
          "2023-07-23T00:00:00.000000000",
          "2023-07-24T00:00:00.000000000",
          "2023-07-25T00:00:00.000000000",
          "2023-07-26T00:00:00.000000000",
          "2023-07-27T00:00:00.000000000",
          "2023-07-28T00:00:00.000000000",
          "2023-07-29T00:00:00.000000000",
          "2023-07-30T00:00:00.000000000",
          "2023-07-31T00:00:00.000000000",
          "2023-08-01T00:00:00.000000000",
          "2023-08-02T00:00:00.000000000",
          "2023-08-03T00:00:00.000000000",
          "2023-08-04T00:00:00.000000000",
          "2023-08-05T00:00:00.000000000",
          "2023-08-06T00:00:00.000000000",
          "2023-08-07T00:00:00.000000000",
          "2023-08-08T00:00:00.000000000",
          "2023-08-09T00:00:00.000000000",
          "2023-08-10T00:00:00.000000000",
          "2023-08-11T00:00:00.000000000",
          "2023-08-12T00:00:00.000000000",
          "2023-08-13T00:00:00.000000000",
          "2023-08-14T00:00:00.000000000",
          "2023-08-15T00:00:00.000000000",
          "2023-08-16T00:00:00.000000000",
          "2023-08-17T00:00:00.000000000",
          "2023-08-18T00:00:00.000000000",
          "2023-08-19T00:00:00.000000000",
          "2023-08-20T00:00:00.000000000",
          "2023-08-21T00:00:00.000000000",
          "2023-08-22T00:00:00.000000000",
          "2023-08-23T00:00:00.000000000",
          "2023-08-24T00:00:00.000000000",
          "2023-08-25T00:00:00.000000000",
          "2023-08-26T00:00:00.000000000",
          "2023-08-27T00:00:00.000000000",
          "2023-08-28T00:00:00.000000000",
          "2023-08-29T00:00:00.000000000",
          "2023-08-30T00:00:00.000000000",
          "2023-08-31T00:00:00.000000000",
          "2023-09-01T00:00:00.000000000",
          "2023-09-02T00:00:00.000000000",
          "2023-09-03T00:00:00.000000000",
          "2023-09-04T00:00:00.000000000",
          "2023-09-05T00:00:00.000000000",
          "2023-09-06T00:00:00.000000000",
          "2023-09-07T00:00:00.000000000",
          "2023-09-08T00:00:00.000000000",
          "2023-09-09T00:00:00.000000000",
          "2023-09-10T00:00:00.000000000",
          "2023-09-11T00:00:00.000000000",
          "2023-09-12T00:00:00.000000000",
          "2023-09-13T00:00:00.000000000",
          "2023-09-14T00:00:00.000000000",
          "2023-09-15T00:00:00.000000000",
          "2023-09-16T00:00:00.000000000",
          "2023-09-17T00:00:00.000000000",
          "2023-09-18T00:00:00.000000000",
          "2023-09-19T00:00:00.000000000",
          "2023-09-20T00:00:00.000000000",
          "2023-09-21T00:00:00.000000000",
          "2023-09-22T00:00:00.000000000",
          "2023-09-23T00:00:00.000000000",
          "2023-09-24T00:00:00.000000000",
          "2023-09-25T00:00:00.000000000",
          "2023-09-26T00:00:00.000000000",
          "2023-09-27T00:00:00.000000000",
          "2023-09-28T00:00:00.000000000",
          "2023-09-29T00:00:00.000000000",
          "2023-09-30T00:00:00.000000000",
          "2023-10-01T00:00:00.000000000",
          "2023-10-02T00:00:00.000000000",
          "2023-10-03T00:00:00.000000000",
          "2023-10-04T00:00:00.000000000",
          "2023-10-05T00:00:00.000000000",
          "2023-10-06T00:00:00.000000000",
          "2023-10-07T00:00:00.000000000",
          "2023-10-08T00:00:00.000000000",
          "2023-10-09T00:00:00.000000000",
          "2023-10-10T00:00:00.000000000",
          "2023-10-11T00:00:00.000000000",
          "2023-10-12T00:00:00.000000000",
          "2023-10-13T00:00:00.000000000",
          "2023-10-14T00:00:00.000000000",
          "2023-10-15T00:00:00.000000000",
          "2023-10-16T00:00:00.000000000",
          "2023-10-17T00:00:00.000000000",
          "2023-10-18T00:00:00.000000000",
          "2023-10-19T00:00:00.000000000",
          "2023-10-20T00:00:00.000000000",
          "2023-10-21T00:00:00.000000000",
          "2023-10-22T00:00:00.000000000",
          "2023-10-23T00:00:00.000000000",
          "2023-10-24T00:00:00.000000000",
          "2023-10-25T00:00:00.000000000",
          "2023-10-26T00:00:00.000000000",
          "2023-10-27T00:00:00.000000000",
          "2023-10-28T00:00:00.000000000",
          "2023-10-29T00:00:00.000000000",
          "2023-10-30T00:00:00.000000000",
          "2023-10-31T00:00:00.000000000",
          "2023-11-01T00:00:00.000000000",
          "2023-11-02T00:00:00.000000000",
          "2023-11-03T00:00:00.000000000",
          "2023-11-04T00:00:00.000000000",
          "2023-11-05T00:00:00.000000000",
          "2023-11-06T00:00:00.000000000",
          "2023-11-07T00:00:00.000000000",
          "2023-11-08T00:00:00.000000000",
          "2023-11-09T00:00:00.000000000",
          "2023-11-10T00:00:00.000000000",
          "2023-11-11T00:00:00.000000000",
          "2023-11-12T00:00:00.000000000",
          "2023-11-13T00:00:00.000000000",
          "2023-11-14T00:00:00.000000000",
          "2023-11-15T00:00:00.000000000",
          "2023-11-16T00:00:00.000000000",
          "2023-11-17T00:00:00.000000000",
          "2023-11-18T00:00:00.000000000",
          "2023-11-19T00:00:00.000000000",
          "2023-11-20T00:00:00.000000000",
          "2023-11-21T00:00:00.000000000",
          "2023-11-22T00:00:00.000000000",
          "2023-11-23T00:00:00.000000000",
          "2023-11-24T00:00:00.000000000",
          "2023-11-25T00:00:00.000000000",
          "2023-11-26T00:00:00.000000000",
          "2023-11-27T00:00:00.000000000",
          "2023-11-28T00:00:00.000000000",
          "2023-11-29T00:00:00.000000000",
          "2023-11-30T00:00:00.000000000",
          "2023-12-01T00:00:00.000000000",
          "2023-12-02T00:00:00.000000000",
          "2023-12-03T00:00:00.000000000",
          "2023-12-04T00:00:00.000000000",
          "2023-12-05T00:00:00.000000000",
          "2023-12-06T00:00:00.000000000",
          "2023-12-07T00:00:00.000000000",
          "2023-12-08T00:00:00.000000000",
          "2023-12-09T00:00:00.000000000",
          "2023-12-10T00:00:00.000000000",
          "2023-12-11T00:00:00.000000000",
          "2023-12-12T00:00:00.000000000",
          "2023-12-13T00:00:00.000000000",
          "2023-12-14T00:00:00.000000000",
          "2023-12-15T00:00:00.000000000",
          "2023-12-16T00:00:00.000000000",
          "2023-12-17T00:00:00.000000000",
          "2023-12-18T00:00:00.000000000",
          "2023-12-19T00:00:00.000000000",
          "2023-12-20T00:00:00.000000000",
          "2023-12-21T00:00:00.000000000",
          "2023-12-22T00:00:00.000000000",
          "2023-12-23T00:00:00.000000000",
          "2023-12-24T00:00:00.000000000",
          "2023-12-25T00:00:00.000000000",
          "2023-12-26T00:00:00.000000000"
         ],
         "xaxis": "x3",
         "y": {
          "bdata": "AAAAAAAAAAAAAAAAAAAAAGnRM/oczRZBNAAwnWvNFkHFMz+ea80WQWw3P55rzRZBbDc/nmvNFkFsNz+ea80WQWw3P55rzRZBbDc/nmvNFkFsNz+ea80WQWw3P55rzRZBbDc/nmvNFkFsNz+ea80WQWw3P55rzRZBbDc/nmvNFkFsNz+ea80WQWw3P55rzRZBbDc/nmvNFkFsNz+ea80WQWw3P55rzRZBbDc/nmvNFkFsNz+ea80WQWw3P55rzRZBbDc/nmvNFkFsNz+ea80WQWw3P55rzRZBbDc/nmvNFkFsNz+ea80WQWw3P55rzRZBbDc/nmvNFkFsNz+ea80WQWw3P55rzRZBbDc/nmvNFkFsNz+ea80WQWw3P55rzRZBbDc/nmvNFkFsNz+ea80WQWw3P55rzRZBbDc/nmvNFkFsNz+ea80WQWw3P55rzRZBbDc/nmvNFkFsNz+ea80WQWw3P55rzRZBbDc/nmvNFkFsNz+ea80WQWw3P55rzRZBbDc/nmvNFkFsNz+ea80WQWw3P55rzRZBbDc/nmvNFkFsNz+ea80WQWw3P55rzRZBbDc/nmvNFkFsNz+ea80WQWw3P55rzRZBbDc/nmvNFkFsNz+ea80WQWw3P55rzRZBbDc/nmvNFkFsNz+ea80WQWw3P55rzRZBbDc/nmvNFkFsNz+ea80WQWw3P55rzRZBbDc/nmvNFkFsNz+ea80WQWw3P55rzRZBbDc/nmvNFkFsNz+ea80WQWw3P55rzRZBbDc/nmvNFkFsNz+ea80WQWw3P55rzRZBbDc/nmvNFkFsNz+ea80WQWw3P55rzRZBbDc/nmvNFkFsNz+ea80WQWw3P55rzRZBbDc/nmvNFkFsNz+ea80WQWw3P55rzRZBbDc/nmvNFkFsNz+ea80WQWw3P55rzRZBbDc/nmvNFkFsNz+ea80WQWw3P55rzRZBbDc/nmvNFkFsNz+ea80WQWw3P55rzRZBbDc/nmvNFkFsNz+ea80WQWw3P55rzRZBbDc/nmvNFkFsNz+ea80WQWw3P55rzRZBbDc/nmvNFkFsNz+ea80WQWw3P55rzRZBbDc/nmvNFkFsNz+ea80WQWw3P55rzRZBbDc/nmvNFkFsNz+ea80WQWw3P55rzRZBbDc/nmvNFkFsNz+ea80WQWw3P55rzRZBbDc/nmvNFkFsNz+ea80WQWw3P55rzRZBbDc/nmvNFkFsNz+ea80WQWw3P55rzRZBbDc/nmvNFkFsNz+ea80WQWw3P55rzRZBbDc/nmvNFkFsNz+ea80WQWw3P55rzRZBbDc/nmvNFkFsNz+ea80WQWw3P55rzRZBbDc/nmvNFkFsNz+ea80WQWw3P55rzRZBbDc/nmvNFkFsNz+ea80WQWw3P55rzRZBbDc/nmvNFkFsNz+ea80WQWw3P55rzRZBbDc/nmvNFkFsNz+ea80WQWw3P55rzRZBbDc/nmvNFkFsNz+ea80WQWw3P55rzRZBbDc/nmvNFkFsNz+ea80WQWw3P55rzRZBbDc/nmvNFkFsNz+ea80WQWw3P55rzRZBbDc/nmvNFkFsNz+ea80WQWw3P55rzRZBbDc/nmvNFkFsNz+ea80WQWw3P55rzRZBbDc/nmvNFkFsNz+ea80WQWw3P55rzRZBbDc/nmvNFkFsNz+ea80WQWw3P55rzRZBbDc/nmvNFkFsNz+ea80WQWw3P55rzRZBbDc/nmvNFkFsNz+ea80WQWw3P55rzRZBbDc/nmvNFkFsNz+ea80WQWw3P55rzRZBbDc/nmvNFkFsNz+ea80WQWw3P55rzRZBbDc/nmvNFkFsNz+ea80WQWw3P55rzRZBbDc/nmvNFkFsNz+ea80WQWw3P55rzRZBbDc/nmvNFkFsNz+ea80WQWw3P55rzRZBbDc/nmvNFkFsNz+ea80WQWw3P55rzRZBbDc/nmvNFkFsNz+ea80WQWw3P55rzRZBbDc/nmvNFkFsNz+ea80WQWw3P55rzRZBbDc/nmvNFkFsNz+ea80WQWw3P55rzRZBbDc/nmvNFkFsNz+ea80WQWw3P55rzRZBbDc/nmvNFkFsNz+ea80WQWw3P55rzRZBbDc/nmvNFkFsNz+ea80WQWw3P55rzRZBbDc/nmvNFkFsNz+ea80WQWw3P55rzRZBbDc/nmvNFkFsNz+ea80WQWw3P55rzRZBbDc/nmvNFkFsNz+ea80WQWw3P55rzRZBbDc/nmvNFkFsNz+ea80WQWw3P55rzRZBbDc/nmvNFkFsNz+ea80WQWw3P55rzRZBbDc/nmvNFkFsNz+ea80WQWw3P55rzRZBbDc/nmvNFkFsNz+ea80WQWw3P55rzRZBbDc/nmvNFkFsNz+ea80WQWw3P55rzRZBbDc/nmvNFkFsNz+ea80WQWw3P55rzRZBbDc/nmvNFkFsNz+ea80WQWw3P55rzRZBbDc/nmvNFkFsNz+ea80WQWw3P55rzRZBbDc/nmvNFkFsNz+ea80WQWw3P55rzRZBbDc/nmvNFkFsNz+ea80WQWw3P55rzRZBbDc/nmvNFkFsNz+ea80WQWw3P55rzRZBbDc/nmvNFkFsNz+ea80WQWw3P55rzRZBbDc/nmvNFkFsNz+ea80WQWw3P55rzRZBbDc/nmvNFkFsNz+ea80WQWw3P55rzRZBbDc/nmvNFkFsNz+ea80WQWw3P55rzRZBbDc/nmvNFkFsNz+ea80WQWw3P55rzRZBbDc/nmvNFkFsNz+ea80WQWw3P55rzRZBbDc/nmvNFkFsNz+ea80WQWw3P55rzRZBbDc/nmvNFkFsNz+ea80WQWw3P55rzRZBbDc/nmvNFkFsNz+ea80WQWw3P55rzRZBbDc/nmvNFkFsNz+ea80WQWw3P55rzRZBbDc/nmvNFkFsNz+ea80WQWw3P55rzRZBbDc/nmvNFkFsNz+ea80WQWw3P55rzRZBbDc/nmvNFkFsNz+ea80WQWw3P55rzRZBbDc/nmvNFkFsNz+ea80WQWw3P55rzRZBbDc/nmvNFkFsNz+ea80WQWw3P55rzRZBbDc/nmvNFkFsNz+ea80WQWw3P55rzRZBbDc/nmvNFkFsNz+ea80WQWw3P55rzRZBbDc/nmvNFkFsNz+ea80WQWw3P55rzRZBbDc/nmvNFkFsNz+ea80WQWw3P55rzRZBbDc/nmvNFkFsNz+ea80WQWw3P55rzRZBbDc/nmvNFkFsNz+ea80WQWw3P55rzRZBbDc/nmvNFkFsNz+ea80WQWw3P55rzRZBbDc/nmvNFkFsNz+ea80WQWw3P55rzRZBbDc/nmvNFkFsNz+ea80WQWw3P55rzRZBbDc/nmvNFkFsNz+ea80WQWw3P55rzRZBbDc/nmvNFkFsNz+ea80WQWw3P55rzRZBbDc/nmvNFkFsNz+ea80WQWw3P55rzRZBbDc/nmvNFkFsNz+ea80WQWw3P55rzRZBbDc/nmvNFkFsNz+ea80WQWw3P55rzRZBbDc/nmvNFkFsNz+ea80WQWw3P55rzRZBbDc/nmvNFkFsNz+ea80WQWw3P55rzRZBbDc/nmvNFkFsNz+ea80WQWw3P55rzRZBbDc/nmvNFkFsNz+ea80WQWw3P55rzRZBbDc/nmvNFkFsNz+ea80WQWw3P55rzRZBbDc/nmvNFkFsNz+ea80WQWw3P55rzRZBbDc/nmvNFkFsNz+ea80WQWw3P55rzRZBbDc/nmvNFkFsNz+ea80WQWw3P55rzRZBbDc/nmvNFkFsNz+ea80WQWw3P55rzRZBbDc/nmvNFkFsNz+ea80WQWw3P55rzRZB",
          "dtype": "f8"
         },
         "yaxis": "y3"
        },
        {
         "fill": "toself",
         "fillcolor": "rgba(174,30,36,0.3)",
         "line": {
          "color": "rgba(0,0,0,0)"
         },
         "name": "day layer 1 : 10 best individuals",
         "type": "scatter",
         "x": [
          "2023-01-01T00:00:00.000000000",
          "2023-01-02T00:00:00.000000000",
          "2023-01-03T00:00:00.000000000",
          "2023-01-04T00:00:00.000000000",
          "2023-01-05T00:00:00.000000000",
          "2023-01-06T00:00:00.000000000",
          "2023-01-07T00:00:00.000000000",
          "2023-01-08T00:00:00.000000000",
          "2023-01-09T00:00:00.000000000",
          "2023-01-10T00:00:00.000000000",
          "2023-01-11T00:00:00.000000000",
          "2023-01-12T00:00:00.000000000",
          "2023-01-13T00:00:00.000000000",
          "2023-01-14T00:00:00.000000000",
          "2023-01-15T00:00:00.000000000",
          "2023-01-16T00:00:00.000000000",
          "2023-01-17T00:00:00.000000000",
          "2023-01-18T00:00:00.000000000",
          "2023-01-19T00:00:00.000000000",
          "2023-01-20T00:00:00.000000000",
          "2023-01-21T00:00:00.000000000",
          "2023-01-22T00:00:00.000000000",
          "2023-01-23T00:00:00.000000000",
          "2023-01-24T00:00:00.000000000",
          "2023-01-25T00:00:00.000000000",
          "2023-01-26T00:00:00.000000000",
          "2023-01-27T00:00:00.000000000",
          "2023-01-28T00:00:00.000000000",
          "2023-01-29T00:00:00.000000000",
          "2023-01-30T00:00:00.000000000",
          "2023-01-31T00:00:00.000000000",
          "2023-02-01T00:00:00.000000000",
          "2023-02-02T00:00:00.000000000",
          "2023-02-03T00:00:00.000000000",
          "2023-02-04T00:00:00.000000000",
          "2023-02-05T00:00:00.000000000",
          "2023-02-06T00:00:00.000000000",
          "2023-02-07T00:00:00.000000000",
          "2023-02-08T00:00:00.000000000",
          "2023-02-09T00:00:00.000000000",
          "2023-02-10T00:00:00.000000000",
          "2023-02-11T00:00:00.000000000",
          "2023-02-12T00:00:00.000000000",
          "2023-02-13T00:00:00.000000000",
          "2023-02-14T00:00:00.000000000",
          "2023-02-15T00:00:00.000000000",
          "2023-02-16T00:00:00.000000000",
          "2023-02-17T00:00:00.000000000",
          "2023-02-18T00:00:00.000000000",
          "2023-02-19T00:00:00.000000000",
          "2023-02-20T00:00:00.000000000",
          "2023-02-21T00:00:00.000000000",
          "2023-02-22T00:00:00.000000000",
          "2023-02-23T00:00:00.000000000",
          "2023-02-24T00:00:00.000000000",
          "2023-02-25T00:00:00.000000000",
          "2023-02-26T00:00:00.000000000",
          "2023-02-27T00:00:00.000000000",
          "2023-02-28T00:00:00.000000000",
          "2023-03-01T00:00:00.000000000",
          "2023-03-02T00:00:00.000000000",
          "2023-03-03T00:00:00.000000000",
          "2023-03-04T00:00:00.000000000",
          "2023-03-05T00:00:00.000000000",
          "2023-03-06T00:00:00.000000000",
          "2023-03-07T00:00:00.000000000",
          "2023-03-08T00:00:00.000000000",
          "2023-03-09T00:00:00.000000000",
          "2023-03-10T00:00:00.000000000",
          "2023-03-11T00:00:00.000000000",
          "2023-03-12T00:00:00.000000000",
          "2023-03-13T00:00:00.000000000",
          "2023-03-14T00:00:00.000000000",
          "2023-03-15T00:00:00.000000000",
          "2023-03-16T00:00:00.000000000",
          "2023-03-17T00:00:00.000000000",
          "2023-03-18T00:00:00.000000000",
          "2023-03-19T00:00:00.000000000",
          "2023-03-20T00:00:00.000000000",
          "2023-03-21T00:00:00.000000000",
          "2023-03-22T00:00:00.000000000",
          "2023-03-23T00:00:00.000000000",
          "2023-03-24T00:00:00.000000000",
          "2023-03-25T00:00:00.000000000",
          "2023-03-26T00:00:00.000000000",
          "2023-03-27T00:00:00.000000000",
          "2023-03-28T00:00:00.000000000",
          "2023-03-29T00:00:00.000000000",
          "2023-03-30T00:00:00.000000000",
          "2023-03-31T00:00:00.000000000",
          "2023-04-01T00:00:00.000000000",
          "2023-04-02T00:00:00.000000000",
          "2023-04-03T00:00:00.000000000",
          "2023-04-04T00:00:00.000000000",
          "2023-04-05T00:00:00.000000000",
          "2023-04-06T00:00:00.000000000",
          "2023-04-07T00:00:00.000000000",
          "2023-04-08T00:00:00.000000000",
          "2023-04-09T00:00:00.000000000",
          "2023-04-10T00:00:00.000000000",
          "2023-04-11T00:00:00.000000000",
          "2023-04-12T00:00:00.000000000",
          "2023-04-13T00:00:00.000000000",
          "2023-04-14T00:00:00.000000000",
          "2023-04-15T00:00:00.000000000",
          "2023-04-16T00:00:00.000000000",
          "2023-04-17T00:00:00.000000000",
          "2023-04-18T00:00:00.000000000",
          "2023-04-19T00:00:00.000000000",
          "2023-04-20T00:00:00.000000000",
          "2023-04-21T00:00:00.000000000",
          "2023-04-22T00:00:00.000000000",
          "2023-04-23T00:00:00.000000000",
          "2023-04-24T00:00:00.000000000",
          "2023-04-25T00:00:00.000000000",
          "2023-04-26T00:00:00.000000000",
          "2023-04-27T00:00:00.000000000",
          "2023-04-28T00:00:00.000000000",
          "2023-04-29T00:00:00.000000000",
          "2023-04-30T00:00:00.000000000",
          "2023-05-01T00:00:00.000000000",
          "2023-05-02T00:00:00.000000000",
          "2023-05-03T00:00:00.000000000",
          "2023-05-04T00:00:00.000000000",
          "2023-05-05T00:00:00.000000000",
          "2023-05-06T00:00:00.000000000",
          "2023-05-07T00:00:00.000000000",
          "2023-05-08T00:00:00.000000000",
          "2023-05-09T00:00:00.000000000",
          "2023-05-10T00:00:00.000000000",
          "2023-05-11T00:00:00.000000000",
          "2023-05-12T00:00:00.000000000",
          "2023-05-13T00:00:00.000000000",
          "2023-05-14T00:00:00.000000000",
          "2023-05-15T00:00:00.000000000",
          "2023-05-16T00:00:00.000000000",
          "2023-05-17T00:00:00.000000000",
          "2023-05-18T00:00:00.000000000",
          "2023-05-19T00:00:00.000000000",
          "2023-05-20T00:00:00.000000000",
          "2023-05-21T00:00:00.000000000",
          "2023-05-22T00:00:00.000000000",
          "2023-05-23T00:00:00.000000000",
          "2023-05-24T00:00:00.000000000",
          "2023-05-25T00:00:00.000000000",
          "2023-05-26T00:00:00.000000000",
          "2023-05-27T00:00:00.000000000",
          "2023-05-28T00:00:00.000000000",
          "2023-05-29T00:00:00.000000000",
          "2023-05-30T00:00:00.000000000",
          "2023-05-31T00:00:00.000000000",
          "2023-06-01T00:00:00.000000000",
          "2023-06-02T00:00:00.000000000",
          "2023-06-03T00:00:00.000000000",
          "2023-06-04T00:00:00.000000000",
          "2023-06-05T00:00:00.000000000",
          "2023-06-06T00:00:00.000000000",
          "2023-06-07T00:00:00.000000000",
          "2023-06-08T00:00:00.000000000",
          "2023-06-09T00:00:00.000000000",
          "2023-06-10T00:00:00.000000000",
          "2023-06-11T00:00:00.000000000",
          "2023-06-12T00:00:00.000000000",
          "2023-06-13T00:00:00.000000000",
          "2023-06-14T00:00:00.000000000",
          "2023-06-15T00:00:00.000000000",
          "2023-06-16T00:00:00.000000000",
          "2023-06-17T00:00:00.000000000",
          "2023-06-18T00:00:00.000000000",
          "2023-06-19T00:00:00.000000000",
          "2023-06-20T00:00:00.000000000",
          "2023-06-21T00:00:00.000000000",
          "2023-06-22T00:00:00.000000000",
          "2023-06-23T00:00:00.000000000",
          "2023-06-24T00:00:00.000000000",
          "2023-06-25T00:00:00.000000000",
          "2023-06-26T00:00:00.000000000",
          "2023-06-27T00:00:00.000000000",
          "2023-06-28T00:00:00.000000000",
          "2023-06-29T00:00:00.000000000",
          "2023-06-30T00:00:00.000000000",
          "2023-07-01T00:00:00.000000000",
          "2023-07-02T00:00:00.000000000",
          "2023-07-03T00:00:00.000000000",
          "2023-07-04T00:00:00.000000000",
          "2023-07-05T00:00:00.000000000",
          "2023-07-06T00:00:00.000000000",
          "2023-07-07T00:00:00.000000000",
          "2023-07-08T00:00:00.000000000",
          "2023-07-09T00:00:00.000000000",
          "2023-07-10T00:00:00.000000000",
          "2023-07-11T00:00:00.000000000",
          "2023-07-12T00:00:00.000000000",
          "2023-07-13T00:00:00.000000000",
          "2023-07-14T00:00:00.000000000",
          "2023-07-15T00:00:00.000000000",
          "2023-07-16T00:00:00.000000000",
          "2023-07-17T00:00:00.000000000",
          "2023-07-18T00:00:00.000000000",
          "2023-07-19T00:00:00.000000000",
          "2023-07-20T00:00:00.000000000",
          "2023-07-21T00:00:00.000000000",
          "2023-07-22T00:00:00.000000000",
          "2023-07-23T00:00:00.000000000",
          "2023-07-24T00:00:00.000000000",
          "2023-07-25T00:00:00.000000000",
          "2023-07-26T00:00:00.000000000",
          "2023-07-27T00:00:00.000000000",
          "2023-07-28T00:00:00.000000000",
          "2023-07-29T00:00:00.000000000",
          "2023-07-30T00:00:00.000000000",
          "2023-07-31T00:00:00.000000000",
          "2023-08-01T00:00:00.000000000",
          "2023-08-02T00:00:00.000000000",
          "2023-08-03T00:00:00.000000000",
          "2023-08-04T00:00:00.000000000",
          "2023-08-05T00:00:00.000000000",
          "2023-08-06T00:00:00.000000000",
          "2023-08-07T00:00:00.000000000",
          "2023-08-08T00:00:00.000000000",
          "2023-08-09T00:00:00.000000000",
          "2023-08-10T00:00:00.000000000",
          "2023-08-11T00:00:00.000000000",
          "2023-08-12T00:00:00.000000000",
          "2023-08-13T00:00:00.000000000",
          "2023-08-14T00:00:00.000000000",
          "2023-08-15T00:00:00.000000000",
          "2023-08-16T00:00:00.000000000",
          "2023-08-17T00:00:00.000000000",
          "2023-08-18T00:00:00.000000000",
          "2023-08-19T00:00:00.000000000",
          "2023-08-20T00:00:00.000000000",
          "2023-08-21T00:00:00.000000000",
          "2023-08-22T00:00:00.000000000",
          "2023-08-23T00:00:00.000000000",
          "2023-08-24T00:00:00.000000000",
          "2023-08-25T00:00:00.000000000",
          "2023-08-26T00:00:00.000000000",
          "2023-08-27T00:00:00.000000000",
          "2023-08-28T00:00:00.000000000",
          "2023-08-29T00:00:00.000000000",
          "2023-08-30T00:00:00.000000000",
          "2023-08-31T00:00:00.000000000",
          "2023-09-01T00:00:00.000000000",
          "2023-09-02T00:00:00.000000000",
          "2023-09-03T00:00:00.000000000",
          "2023-09-04T00:00:00.000000000",
          "2023-09-05T00:00:00.000000000",
          "2023-09-06T00:00:00.000000000",
          "2023-09-07T00:00:00.000000000",
          "2023-09-08T00:00:00.000000000",
          "2023-09-09T00:00:00.000000000",
          "2023-09-10T00:00:00.000000000",
          "2023-09-11T00:00:00.000000000",
          "2023-09-12T00:00:00.000000000",
          "2023-09-13T00:00:00.000000000",
          "2023-09-14T00:00:00.000000000",
          "2023-09-15T00:00:00.000000000",
          "2023-09-16T00:00:00.000000000",
          "2023-09-17T00:00:00.000000000",
          "2023-09-18T00:00:00.000000000",
          "2023-09-19T00:00:00.000000000",
          "2023-09-20T00:00:00.000000000",
          "2023-09-21T00:00:00.000000000",
          "2023-09-22T00:00:00.000000000",
          "2023-09-23T00:00:00.000000000",
          "2023-09-24T00:00:00.000000000",
          "2023-09-25T00:00:00.000000000",
          "2023-09-26T00:00:00.000000000",
          "2023-09-27T00:00:00.000000000",
          "2023-09-28T00:00:00.000000000",
          "2023-09-29T00:00:00.000000000",
          "2023-09-30T00:00:00.000000000",
          "2023-10-01T00:00:00.000000000",
          "2023-10-02T00:00:00.000000000",
          "2023-10-03T00:00:00.000000000",
          "2023-10-04T00:00:00.000000000",
          "2023-10-05T00:00:00.000000000",
          "2023-10-06T00:00:00.000000000",
          "2023-10-07T00:00:00.000000000",
          "2023-10-08T00:00:00.000000000",
          "2023-10-09T00:00:00.000000000",
          "2023-10-10T00:00:00.000000000",
          "2023-10-11T00:00:00.000000000",
          "2023-10-12T00:00:00.000000000",
          "2023-10-13T00:00:00.000000000",
          "2023-10-14T00:00:00.000000000",
          "2023-10-15T00:00:00.000000000",
          "2023-10-16T00:00:00.000000000",
          "2023-10-17T00:00:00.000000000",
          "2023-10-18T00:00:00.000000000",
          "2023-10-19T00:00:00.000000000",
          "2023-10-20T00:00:00.000000000",
          "2023-10-21T00:00:00.000000000",
          "2023-10-22T00:00:00.000000000",
          "2023-10-23T00:00:00.000000000",
          "2023-10-24T00:00:00.000000000",
          "2023-10-25T00:00:00.000000000",
          "2023-10-26T00:00:00.000000000",
          "2023-10-27T00:00:00.000000000",
          "2023-10-28T00:00:00.000000000",
          "2023-10-29T00:00:00.000000000",
          "2023-10-30T00:00:00.000000000",
          "2023-10-31T00:00:00.000000000",
          "2023-11-01T00:00:00.000000000",
          "2023-11-02T00:00:00.000000000",
          "2023-11-03T00:00:00.000000000",
          "2023-11-04T00:00:00.000000000",
          "2023-11-05T00:00:00.000000000",
          "2023-11-06T00:00:00.000000000",
          "2023-11-07T00:00:00.000000000",
          "2023-11-08T00:00:00.000000000",
          "2023-11-09T00:00:00.000000000",
          "2023-11-10T00:00:00.000000000",
          "2023-11-11T00:00:00.000000000",
          "2023-11-12T00:00:00.000000000",
          "2023-11-13T00:00:00.000000000",
          "2023-11-14T00:00:00.000000000",
          "2023-11-15T00:00:00.000000000",
          "2023-11-16T00:00:00.000000000",
          "2023-11-17T00:00:00.000000000",
          "2023-11-18T00:00:00.000000000",
          "2023-11-19T00:00:00.000000000",
          "2023-11-20T00:00:00.000000000",
          "2023-11-21T00:00:00.000000000",
          "2023-11-22T00:00:00.000000000",
          "2023-11-23T00:00:00.000000000",
          "2023-11-24T00:00:00.000000000",
          "2023-11-25T00:00:00.000000000",
          "2023-11-26T00:00:00.000000000",
          "2023-11-27T00:00:00.000000000",
          "2023-11-28T00:00:00.000000000",
          "2023-11-29T00:00:00.000000000",
          "2023-11-30T00:00:00.000000000",
          "2023-12-01T00:00:00.000000000",
          "2023-12-02T00:00:00.000000000",
          "2023-12-03T00:00:00.000000000",
          "2023-12-04T00:00:00.000000000",
          "2023-12-05T00:00:00.000000000",
          "2023-12-06T00:00:00.000000000",
          "2023-12-07T00:00:00.000000000",
          "2023-12-08T00:00:00.000000000",
          "2023-12-09T00:00:00.000000000",
          "2023-12-10T00:00:00.000000000",
          "2023-12-11T00:00:00.000000000",
          "2023-12-12T00:00:00.000000000",
          "2023-12-13T00:00:00.000000000",
          "2023-12-14T00:00:00.000000000",
          "2023-12-15T00:00:00.000000000",
          "2023-12-16T00:00:00.000000000",
          "2023-12-17T00:00:00.000000000",
          "2023-12-18T00:00:00.000000000",
          "2023-12-19T00:00:00.000000000",
          "2023-12-20T00:00:00.000000000",
          "2023-12-21T00:00:00.000000000",
          "2023-12-22T00:00:00.000000000",
          "2023-12-23T00:00:00.000000000",
          "2023-12-24T00:00:00.000000000",
          "2023-12-25T00:00:00.000000000",
          "2023-12-26T00:00:00.000000000",
          "2023-12-26T00:00:00.000000000",
          "2023-12-25T00:00:00.000000000",
          "2023-12-24T00:00:00.000000000",
          "2023-12-23T00:00:00.000000000",
          "2023-12-22T00:00:00.000000000",
          "2023-12-21T00:00:00.000000000",
          "2023-12-20T00:00:00.000000000",
          "2023-12-19T00:00:00.000000000",
          "2023-12-18T00:00:00.000000000",
          "2023-12-17T00:00:00.000000000",
          "2023-12-16T00:00:00.000000000",
          "2023-12-15T00:00:00.000000000",
          "2023-12-14T00:00:00.000000000",
          "2023-12-13T00:00:00.000000000",
          "2023-12-12T00:00:00.000000000",
          "2023-12-11T00:00:00.000000000",
          "2023-12-10T00:00:00.000000000",
          "2023-12-09T00:00:00.000000000",
          "2023-12-08T00:00:00.000000000",
          "2023-12-07T00:00:00.000000000",
          "2023-12-06T00:00:00.000000000",
          "2023-12-05T00:00:00.000000000",
          "2023-12-04T00:00:00.000000000",
          "2023-12-03T00:00:00.000000000",
          "2023-12-02T00:00:00.000000000",
          "2023-12-01T00:00:00.000000000",
          "2023-11-30T00:00:00.000000000",
          "2023-11-29T00:00:00.000000000",
          "2023-11-28T00:00:00.000000000",
          "2023-11-27T00:00:00.000000000",
          "2023-11-26T00:00:00.000000000",
          "2023-11-25T00:00:00.000000000",
          "2023-11-24T00:00:00.000000000",
          "2023-11-23T00:00:00.000000000",
          "2023-11-22T00:00:00.000000000",
          "2023-11-21T00:00:00.000000000",
          "2023-11-20T00:00:00.000000000",
          "2023-11-19T00:00:00.000000000",
          "2023-11-18T00:00:00.000000000",
          "2023-11-17T00:00:00.000000000",
          "2023-11-16T00:00:00.000000000",
          "2023-11-15T00:00:00.000000000",
          "2023-11-14T00:00:00.000000000",
          "2023-11-13T00:00:00.000000000",
          "2023-11-12T00:00:00.000000000",
          "2023-11-11T00:00:00.000000000",
          "2023-11-10T00:00:00.000000000",
          "2023-11-09T00:00:00.000000000",
          "2023-11-08T00:00:00.000000000",
          "2023-11-07T00:00:00.000000000",
          "2023-11-06T00:00:00.000000000",
          "2023-11-05T00:00:00.000000000",
          "2023-11-04T00:00:00.000000000",
          "2023-11-03T00:00:00.000000000",
          "2023-11-02T00:00:00.000000000",
          "2023-11-01T00:00:00.000000000",
          "2023-10-31T00:00:00.000000000",
          "2023-10-30T00:00:00.000000000",
          "2023-10-29T00:00:00.000000000",
          "2023-10-28T00:00:00.000000000",
          "2023-10-27T00:00:00.000000000",
          "2023-10-26T00:00:00.000000000",
          "2023-10-25T00:00:00.000000000",
          "2023-10-24T00:00:00.000000000",
          "2023-10-23T00:00:00.000000000",
          "2023-10-22T00:00:00.000000000",
          "2023-10-21T00:00:00.000000000",
          "2023-10-20T00:00:00.000000000",
          "2023-10-19T00:00:00.000000000",
          "2023-10-18T00:00:00.000000000",
          "2023-10-17T00:00:00.000000000",
          "2023-10-16T00:00:00.000000000",
          "2023-10-15T00:00:00.000000000",
          "2023-10-14T00:00:00.000000000",
          "2023-10-13T00:00:00.000000000",
          "2023-10-12T00:00:00.000000000",
          "2023-10-11T00:00:00.000000000",
          "2023-10-10T00:00:00.000000000",
          "2023-10-09T00:00:00.000000000",
          "2023-10-08T00:00:00.000000000",
          "2023-10-07T00:00:00.000000000",
          "2023-10-06T00:00:00.000000000",
          "2023-10-05T00:00:00.000000000",
          "2023-10-04T00:00:00.000000000",
          "2023-10-03T00:00:00.000000000",
          "2023-10-02T00:00:00.000000000",
          "2023-10-01T00:00:00.000000000",
          "2023-09-30T00:00:00.000000000",
          "2023-09-29T00:00:00.000000000",
          "2023-09-28T00:00:00.000000000",
          "2023-09-27T00:00:00.000000000",
          "2023-09-26T00:00:00.000000000",
          "2023-09-25T00:00:00.000000000",
          "2023-09-24T00:00:00.000000000",
          "2023-09-23T00:00:00.000000000",
          "2023-09-22T00:00:00.000000000",
          "2023-09-21T00:00:00.000000000",
          "2023-09-20T00:00:00.000000000",
          "2023-09-19T00:00:00.000000000",
          "2023-09-18T00:00:00.000000000",
          "2023-09-17T00:00:00.000000000",
          "2023-09-16T00:00:00.000000000",
          "2023-09-15T00:00:00.000000000",
          "2023-09-14T00:00:00.000000000",
          "2023-09-13T00:00:00.000000000",
          "2023-09-12T00:00:00.000000000",
          "2023-09-11T00:00:00.000000000",
          "2023-09-10T00:00:00.000000000",
          "2023-09-09T00:00:00.000000000",
          "2023-09-08T00:00:00.000000000",
          "2023-09-07T00:00:00.000000000",
          "2023-09-06T00:00:00.000000000",
          "2023-09-05T00:00:00.000000000",
          "2023-09-04T00:00:00.000000000",
          "2023-09-03T00:00:00.000000000",
          "2023-09-02T00:00:00.000000000",
          "2023-09-01T00:00:00.000000000",
          "2023-08-31T00:00:00.000000000",
          "2023-08-30T00:00:00.000000000",
          "2023-08-29T00:00:00.000000000",
          "2023-08-28T00:00:00.000000000",
          "2023-08-27T00:00:00.000000000",
          "2023-08-26T00:00:00.000000000",
          "2023-08-25T00:00:00.000000000",
          "2023-08-24T00:00:00.000000000",
          "2023-08-23T00:00:00.000000000",
          "2023-08-22T00:00:00.000000000",
          "2023-08-21T00:00:00.000000000",
          "2023-08-20T00:00:00.000000000",
          "2023-08-19T00:00:00.000000000",
          "2023-08-18T00:00:00.000000000",
          "2023-08-17T00:00:00.000000000",
          "2023-08-16T00:00:00.000000000",
          "2023-08-15T00:00:00.000000000",
          "2023-08-14T00:00:00.000000000",
          "2023-08-13T00:00:00.000000000",
          "2023-08-12T00:00:00.000000000",
          "2023-08-11T00:00:00.000000000",
          "2023-08-10T00:00:00.000000000",
          "2023-08-09T00:00:00.000000000",
          "2023-08-08T00:00:00.000000000",
          "2023-08-07T00:00:00.000000000",
          "2023-08-06T00:00:00.000000000",
          "2023-08-05T00:00:00.000000000",
          "2023-08-04T00:00:00.000000000",
          "2023-08-03T00:00:00.000000000",
          "2023-08-02T00:00:00.000000000",
          "2023-08-01T00:00:00.000000000",
          "2023-07-31T00:00:00.000000000",
          "2023-07-30T00:00:00.000000000",
          "2023-07-29T00:00:00.000000000",
          "2023-07-28T00:00:00.000000000",
          "2023-07-27T00:00:00.000000000",
          "2023-07-26T00:00:00.000000000",
          "2023-07-25T00:00:00.000000000",
          "2023-07-24T00:00:00.000000000",
          "2023-07-23T00:00:00.000000000",
          "2023-07-22T00:00:00.000000000",
          "2023-07-21T00:00:00.000000000",
          "2023-07-20T00:00:00.000000000",
          "2023-07-19T00:00:00.000000000",
          "2023-07-18T00:00:00.000000000",
          "2023-07-17T00:00:00.000000000",
          "2023-07-16T00:00:00.000000000",
          "2023-07-15T00:00:00.000000000",
          "2023-07-14T00:00:00.000000000",
          "2023-07-13T00:00:00.000000000",
          "2023-07-12T00:00:00.000000000",
          "2023-07-11T00:00:00.000000000",
          "2023-07-10T00:00:00.000000000",
          "2023-07-09T00:00:00.000000000",
          "2023-07-08T00:00:00.000000000",
          "2023-07-07T00:00:00.000000000",
          "2023-07-06T00:00:00.000000000",
          "2023-07-05T00:00:00.000000000",
          "2023-07-04T00:00:00.000000000",
          "2023-07-03T00:00:00.000000000",
          "2023-07-02T00:00:00.000000000",
          "2023-07-01T00:00:00.000000000",
          "2023-06-30T00:00:00.000000000",
          "2023-06-29T00:00:00.000000000",
          "2023-06-28T00:00:00.000000000",
          "2023-06-27T00:00:00.000000000",
          "2023-06-26T00:00:00.000000000",
          "2023-06-25T00:00:00.000000000",
          "2023-06-24T00:00:00.000000000",
          "2023-06-23T00:00:00.000000000",
          "2023-06-22T00:00:00.000000000",
          "2023-06-21T00:00:00.000000000",
          "2023-06-20T00:00:00.000000000",
          "2023-06-19T00:00:00.000000000",
          "2023-06-18T00:00:00.000000000",
          "2023-06-17T00:00:00.000000000",
          "2023-06-16T00:00:00.000000000",
          "2023-06-15T00:00:00.000000000",
          "2023-06-14T00:00:00.000000000",
          "2023-06-13T00:00:00.000000000",
          "2023-06-12T00:00:00.000000000",
          "2023-06-11T00:00:00.000000000",
          "2023-06-10T00:00:00.000000000",
          "2023-06-09T00:00:00.000000000",
          "2023-06-08T00:00:00.000000000",
          "2023-06-07T00:00:00.000000000",
          "2023-06-06T00:00:00.000000000",
          "2023-06-05T00:00:00.000000000",
          "2023-06-04T00:00:00.000000000",
          "2023-06-03T00:00:00.000000000",
          "2023-06-02T00:00:00.000000000",
          "2023-06-01T00:00:00.000000000",
          "2023-05-31T00:00:00.000000000",
          "2023-05-30T00:00:00.000000000",
          "2023-05-29T00:00:00.000000000",
          "2023-05-28T00:00:00.000000000",
          "2023-05-27T00:00:00.000000000",
          "2023-05-26T00:00:00.000000000",
          "2023-05-25T00:00:00.000000000",
          "2023-05-24T00:00:00.000000000",
          "2023-05-23T00:00:00.000000000",
          "2023-05-22T00:00:00.000000000",
          "2023-05-21T00:00:00.000000000",
          "2023-05-20T00:00:00.000000000",
          "2023-05-19T00:00:00.000000000",
          "2023-05-18T00:00:00.000000000",
          "2023-05-17T00:00:00.000000000",
          "2023-05-16T00:00:00.000000000",
          "2023-05-15T00:00:00.000000000",
          "2023-05-14T00:00:00.000000000",
          "2023-05-13T00:00:00.000000000",
          "2023-05-12T00:00:00.000000000",
          "2023-05-11T00:00:00.000000000",
          "2023-05-10T00:00:00.000000000",
          "2023-05-09T00:00:00.000000000",
          "2023-05-08T00:00:00.000000000",
          "2023-05-07T00:00:00.000000000",
          "2023-05-06T00:00:00.000000000",
          "2023-05-05T00:00:00.000000000",
          "2023-05-04T00:00:00.000000000",
          "2023-05-03T00:00:00.000000000",
          "2023-05-02T00:00:00.000000000",
          "2023-05-01T00:00:00.000000000",
          "2023-04-30T00:00:00.000000000",
          "2023-04-29T00:00:00.000000000",
          "2023-04-28T00:00:00.000000000",
          "2023-04-27T00:00:00.000000000",
          "2023-04-26T00:00:00.000000000",
          "2023-04-25T00:00:00.000000000",
          "2023-04-24T00:00:00.000000000",
          "2023-04-23T00:00:00.000000000",
          "2023-04-22T00:00:00.000000000",
          "2023-04-21T00:00:00.000000000",
          "2023-04-20T00:00:00.000000000",
          "2023-04-19T00:00:00.000000000",
          "2023-04-18T00:00:00.000000000",
          "2023-04-17T00:00:00.000000000",
          "2023-04-16T00:00:00.000000000",
          "2023-04-15T00:00:00.000000000",
          "2023-04-14T00:00:00.000000000",
          "2023-04-13T00:00:00.000000000",
          "2023-04-12T00:00:00.000000000",
          "2023-04-11T00:00:00.000000000",
          "2023-04-10T00:00:00.000000000",
          "2023-04-09T00:00:00.000000000",
          "2023-04-08T00:00:00.000000000",
          "2023-04-07T00:00:00.000000000",
          "2023-04-06T00:00:00.000000000",
          "2023-04-05T00:00:00.000000000",
          "2023-04-04T00:00:00.000000000",
          "2023-04-03T00:00:00.000000000",
          "2023-04-02T00:00:00.000000000",
          "2023-04-01T00:00:00.000000000",
          "2023-03-31T00:00:00.000000000",
          "2023-03-30T00:00:00.000000000",
          "2023-03-29T00:00:00.000000000",
          "2023-03-28T00:00:00.000000000",
          "2023-03-27T00:00:00.000000000",
          "2023-03-26T00:00:00.000000000",
          "2023-03-25T00:00:00.000000000",
          "2023-03-24T00:00:00.000000000",
          "2023-03-23T00:00:00.000000000",
          "2023-03-22T00:00:00.000000000",
          "2023-03-21T00:00:00.000000000",
          "2023-03-20T00:00:00.000000000",
          "2023-03-19T00:00:00.000000000",
          "2023-03-18T00:00:00.000000000",
          "2023-03-17T00:00:00.000000000",
          "2023-03-16T00:00:00.000000000",
          "2023-03-15T00:00:00.000000000",
          "2023-03-14T00:00:00.000000000",
          "2023-03-13T00:00:00.000000000",
          "2023-03-12T00:00:00.000000000",
          "2023-03-11T00:00:00.000000000",
          "2023-03-10T00:00:00.000000000",
          "2023-03-09T00:00:00.000000000",
          "2023-03-08T00:00:00.000000000",
          "2023-03-07T00:00:00.000000000",
          "2023-03-06T00:00:00.000000000",
          "2023-03-05T00:00:00.000000000",
          "2023-03-04T00:00:00.000000000",
          "2023-03-03T00:00:00.000000000",
          "2023-03-02T00:00:00.000000000",
          "2023-03-01T00:00:00.000000000",
          "2023-02-28T00:00:00.000000000",
          "2023-02-27T00:00:00.000000000",
          "2023-02-26T00:00:00.000000000",
          "2023-02-25T00:00:00.000000000",
          "2023-02-24T00:00:00.000000000",
          "2023-02-23T00:00:00.000000000",
          "2023-02-22T00:00:00.000000000",
          "2023-02-21T00:00:00.000000000",
          "2023-02-20T00:00:00.000000000",
          "2023-02-19T00:00:00.000000000",
          "2023-02-18T00:00:00.000000000",
          "2023-02-17T00:00:00.000000000",
          "2023-02-16T00:00:00.000000000",
          "2023-02-15T00:00:00.000000000",
          "2023-02-14T00:00:00.000000000",
          "2023-02-13T00:00:00.000000000",
          "2023-02-12T00:00:00.000000000",
          "2023-02-11T00:00:00.000000000",
          "2023-02-10T00:00:00.000000000",
          "2023-02-09T00:00:00.000000000",
          "2023-02-08T00:00:00.000000000",
          "2023-02-07T00:00:00.000000000",
          "2023-02-06T00:00:00.000000000",
          "2023-02-05T00:00:00.000000000",
          "2023-02-04T00:00:00.000000000",
          "2023-02-03T00:00:00.000000000",
          "2023-02-02T00:00:00.000000000",
          "2023-02-01T00:00:00.000000000",
          "2023-01-31T00:00:00.000000000",
          "2023-01-30T00:00:00.000000000",
          "2023-01-29T00:00:00.000000000",
          "2023-01-28T00:00:00.000000000",
          "2023-01-27T00:00:00.000000000",
          "2023-01-26T00:00:00.000000000",
          "2023-01-25T00:00:00.000000000",
          "2023-01-24T00:00:00.000000000",
          "2023-01-23T00:00:00.000000000",
          "2023-01-22T00:00:00.000000000",
          "2023-01-21T00:00:00.000000000",
          "2023-01-20T00:00:00.000000000",
          "2023-01-19T00:00:00.000000000",
          "2023-01-18T00:00:00.000000000",
          "2023-01-17T00:00:00.000000000",
          "2023-01-16T00:00:00.000000000",
          "2023-01-15T00:00:00.000000000",
          "2023-01-14T00:00:00.000000000",
          "2023-01-13T00:00:00.000000000",
          "2023-01-12T00:00:00.000000000",
          "2023-01-11T00:00:00.000000000",
          "2023-01-10T00:00:00.000000000",
          "2023-01-09T00:00:00.000000000",
          "2023-01-08T00:00:00.000000000",
          "2023-01-07T00:00:00.000000000",
          "2023-01-06T00:00:00.000000000",
          "2023-01-05T00:00:00.000000000",
          "2023-01-04T00:00:00.000000000",
          "2023-01-03T00:00:00.000000000",
          "2023-01-02T00:00:00.000000000",
          "2023-01-01T00:00:00.000000000"
         ],
         "xaxis": "x3",
         "y": {
          "bdata": "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",
          "dtype": "f8"
         },
         "yaxis": "y3"
        },
        {
         "line": {
          "color": "black",
          "dash": "dash",
          "width": 1
         },
         "marker": {
          "color": "black",
          "size": 4,
          "symbol": "x"
         },
         "mode": "lines+markers",
         "name": "Observed day layer 1",
         "type": "scatter",
         "x": [
          "2023-01-01T00:00:00.000000000",
          "2023-01-02T00:00:00.000000000",
          "2023-01-03T00:00:00.000000000",
          "2023-01-04T00:00:00.000000000",
          "2023-01-05T00:00:00.000000000",
          "2023-01-06T00:00:00.000000000",
          "2023-01-07T00:00:00.000000000",
          "2023-01-08T00:00:00.000000000",
          "2023-01-09T00:00:00.000000000",
          "2023-01-10T00:00:00.000000000",
          "2023-01-11T00:00:00.000000000",
          "2023-01-12T00:00:00.000000000",
          "2023-01-13T00:00:00.000000000",
          "2023-01-14T00:00:00.000000000",
          "2023-01-15T00:00:00.000000000",
          "2023-01-16T00:00:00.000000000",
          "2023-01-17T00:00:00.000000000",
          "2023-01-18T00:00:00.000000000",
          "2023-01-19T00:00:00.000000000",
          "2023-01-20T00:00:00.000000000",
          "2023-01-21T00:00:00.000000000",
          "2023-01-22T00:00:00.000000000",
          "2023-01-23T00:00:00.000000000",
          "2023-01-24T00:00:00.000000000",
          "2023-01-25T00:00:00.000000000",
          "2023-01-26T00:00:00.000000000",
          "2023-01-27T00:00:00.000000000",
          "2023-01-28T00:00:00.000000000",
          "2023-01-29T00:00:00.000000000",
          "2023-01-30T00:00:00.000000000",
          "2023-01-31T00:00:00.000000000",
          "2023-02-01T00:00:00.000000000",
          "2023-02-02T00:00:00.000000000",
          "2023-02-03T00:00:00.000000000",
          "2023-02-04T00:00:00.000000000",
          "2023-02-05T00:00:00.000000000",
          "2023-02-06T00:00:00.000000000",
          "2023-02-07T00:00:00.000000000",
          "2023-02-08T00:00:00.000000000",
          "2023-02-09T00:00:00.000000000",
          "2023-02-10T00:00:00.000000000",
          "2023-02-11T00:00:00.000000000",
          "2023-02-12T00:00:00.000000000",
          "2023-02-13T00:00:00.000000000",
          "2023-02-14T00:00:00.000000000",
          "2023-02-15T00:00:00.000000000",
          "2023-02-16T00:00:00.000000000",
          "2023-02-17T00:00:00.000000000",
          "2023-02-18T00:00:00.000000000",
          "2023-02-19T00:00:00.000000000",
          "2023-02-20T00:00:00.000000000",
          "2023-02-21T00:00:00.000000000",
          "2023-02-22T00:00:00.000000000",
          "2023-02-23T00:00:00.000000000",
          "2023-02-24T00:00:00.000000000",
          "2023-02-25T00:00:00.000000000",
          "2023-02-26T00:00:00.000000000",
          "2023-02-27T00:00:00.000000000",
          "2023-02-28T00:00:00.000000000",
          "2023-03-01T00:00:00.000000000",
          "2023-03-02T00:00:00.000000000",
          "2023-03-03T00:00:00.000000000",
          "2023-03-04T00:00:00.000000000",
          "2023-03-05T00:00:00.000000000",
          "2023-03-06T00:00:00.000000000",
          "2023-03-07T00:00:00.000000000",
          "2023-03-08T00:00:00.000000000",
          "2023-03-09T00:00:00.000000000",
          "2023-03-10T00:00:00.000000000",
          "2023-03-11T00:00:00.000000000",
          "2023-03-12T00:00:00.000000000",
          "2023-03-13T00:00:00.000000000",
          "2023-03-14T00:00:00.000000000",
          "2023-03-15T00:00:00.000000000",
          "2023-03-16T00:00:00.000000000",
          "2023-03-17T00:00:00.000000000",
          "2023-03-18T00:00:00.000000000",
          "2023-03-19T00:00:00.000000000",
          "2023-03-20T00:00:00.000000000",
          "2023-03-21T00:00:00.000000000",
          "2023-03-22T00:00:00.000000000",
          "2023-03-23T00:00:00.000000000",
          "2023-03-24T00:00:00.000000000",
          "2023-03-25T00:00:00.000000000",
          "2023-03-26T00:00:00.000000000",
          "2023-03-27T00:00:00.000000000",
          "2023-03-28T00:00:00.000000000",
          "2023-03-29T00:00:00.000000000",
          "2023-03-30T00:00:00.000000000",
          "2023-03-31T00:00:00.000000000",
          "2023-04-01T00:00:00.000000000",
          "2023-04-02T00:00:00.000000000",
          "2023-04-03T00:00:00.000000000",
          "2023-04-04T00:00:00.000000000",
          "2023-04-05T00:00:00.000000000",
          "2023-04-06T00:00:00.000000000",
          "2023-04-07T00:00:00.000000000",
          "2023-04-08T00:00:00.000000000",
          "2023-04-09T00:00:00.000000000",
          "2023-04-10T00:00:00.000000000",
          "2023-04-11T00:00:00.000000000",
          "2023-04-12T00:00:00.000000000",
          "2023-04-13T00:00:00.000000000",
          "2023-04-14T00:00:00.000000000",
          "2023-04-15T00:00:00.000000000",
          "2023-04-16T00:00:00.000000000",
          "2023-04-17T00:00:00.000000000",
          "2023-04-18T00:00:00.000000000",
          "2023-04-19T00:00:00.000000000",
          "2023-04-20T00:00:00.000000000",
          "2023-04-21T00:00:00.000000000",
          "2023-04-22T00:00:00.000000000",
          "2023-04-23T00:00:00.000000000",
          "2023-04-24T00:00:00.000000000",
          "2023-04-25T00:00:00.000000000",
          "2023-04-26T00:00:00.000000000",
          "2023-04-27T00:00:00.000000000",
          "2023-04-28T00:00:00.000000000",
          "2023-04-29T00:00:00.000000000",
          "2023-04-30T00:00:00.000000000",
          "2023-05-01T00:00:00.000000000",
          "2023-05-02T00:00:00.000000000",
          "2023-05-03T00:00:00.000000000",
          "2023-05-04T00:00:00.000000000",
          "2023-05-05T00:00:00.000000000",
          "2023-05-06T00:00:00.000000000",
          "2023-05-07T00:00:00.000000000",
          "2023-05-08T00:00:00.000000000",
          "2023-05-09T00:00:00.000000000",
          "2023-05-10T00:00:00.000000000",
          "2023-05-11T00:00:00.000000000",
          "2023-05-12T00:00:00.000000000",
          "2023-05-13T00:00:00.000000000",
          "2023-05-14T00:00:00.000000000",
          "2023-05-15T00:00:00.000000000",
          "2023-05-16T00:00:00.000000000",
          "2023-05-17T00:00:00.000000000",
          "2023-05-18T00:00:00.000000000",
          "2023-05-19T00:00:00.000000000",
          "2023-05-20T00:00:00.000000000",
          "2023-05-21T00:00:00.000000000",
          "2023-05-22T00:00:00.000000000",
          "2023-05-23T00:00:00.000000000",
          "2023-05-24T00:00:00.000000000",
          "2023-05-25T00:00:00.000000000",
          "2023-05-26T00:00:00.000000000",
          "2023-05-27T00:00:00.000000000",
          "2023-05-28T00:00:00.000000000",
          "2023-05-29T00:00:00.000000000",
          "2023-05-30T00:00:00.000000000",
          "2023-05-31T00:00:00.000000000",
          "2023-06-01T00:00:00.000000000",
          "2023-06-02T00:00:00.000000000",
          "2023-06-03T00:00:00.000000000",
          "2023-06-04T00:00:00.000000000",
          "2023-06-05T00:00:00.000000000",
          "2023-06-06T00:00:00.000000000",
          "2023-06-07T00:00:00.000000000",
          "2023-06-08T00:00:00.000000000",
          "2023-06-09T00:00:00.000000000",
          "2023-06-10T00:00:00.000000000",
          "2023-06-11T00:00:00.000000000",
          "2023-06-12T00:00:00.000000000",
          "2023-06-13T00:00:00.000000000",
          "2023-06-14T00:00:00.000000000",
          "2023-06-15T00:00:00.000000000",
          "2023-06-16T00:00:00.000000000",
          "2023-06-17T00:00:00.000000000",
          "2023-06-18T00:00:00.000000000",
          "2023-06-19T00:00:00.000000000",
          "2023-06-20T00:00:00.000000000",
          "2023-06-21T00:00:00.000000000",
          "2023-06-22T00:00:00.000000000",
          "2023-06-23T00:00:00.000000000",
          "2023-06-24T00:00:00.000000000",
          "2023-06-25T00:00:00.000000000",
          "2023-06-26T00:00:00.000000000",
          "2023-06-27T00:00:00.000000000",
          "2023-06-28T00:00:00.000000000",
          "2023-06-29T00:00:00.000000000",
          "2023-06-30T00:00:00.000000000",
          "2023-07-01T00:00:00.000000000",
          "2023-07-02T00:00:00.000000000",
          "2023-07-03T00:00:00.000000000",
          "2023-07-04T00:00:00.000000000",
          "2023-07-05T00:00:00.000000000",
          "2023-07-06T00:00:00.000000000",
          "2023-07-07T00:00:00.000000000",
          "2023-07-08T00:00:00.000000000",
          "2023-07-09T00:00:00.000000000",
          "2023-07-10T00:00:00.000000000",
          "2023-07-11T00:00:00.000000000",
          "2023-07-12T00:00:00.000000000",
          "2023-07-13T00:00:00.000000000",
          "2023-07-14T00:00:00.000000000",
          "2023-07-15T00:00:00.000000000",
          "2023-07-16T00:00:00.000000000",
          "2023-07-17T00:00:00.000000000",
          "2023-07-18T00:00:00.000000000",
          "2023-07-19T00:00:00.000000000",
          "2023-07-20T00:00:00.000000000",
          "2023-07-21T00:00:00.000000000",
          "2023-07-22T00:00:00.000000000",
          "2023-07-23T00:00:00.000000000",
          "2023-07-24T00:00:00.000000000",
          "2023-07-25T00:00:00.000000000",
          "2023-07-26T00:00:00.000000000",
          "2023-07-27T00:00:00.000000000",
          "2023-07-28T00:00:00.000000000",
          "2023-07-29T00:00:00.000000000",
          "2023-07-30T00:00:00.000000000",
          "2023-07-31T00:00:00.000000000",
          "2023-08-01T00:00:00.000000000",
          "2023-08-02T00:00:00.000000000",
          "2023-08-03T00:00:00.000000000",
          "2023-08-04T00:00:00.000000000",
          "2023-08-05T00:00:00.000000000",
          "2023-08-06T00:00:00.000000000",
          "2023-08-07T00:00:00.000000000",
          "2023-08-08T00:00:00.000000000",
          "2023-08-09T00:00:00.000000000",
          "2023-08-10T00:00:00.000000000",
          "2023-08-11T00:00:00.000000000",
          "2023-08-12T00:00:00.000000000",
          "2023-08-13T00:00:00.000000000",
          "2023-08-14T00:00:00.000000000",
          "2023-08-15T00:00:00.000000000",
          "2023-08-16T00:00:00.000000000",
          "2023-08-17T00:00:00.000000000",
          "2023-08-18T00:00:00.000000000",
          "2023-08-19T00:00:00.000000000",
          "2023-08-20T00:00:00.000000000",
          "2023-08-21T00:00:00.000000000",
          "2023-08-22T00:00:00.000000000",
          "2023-08-23T00:00:00.000000000",
          "2023-08-24T00:00:00.000000000",
          "2023-08-25T00:00:00.000000000",
          "2023-08-26T00:00:00.000000000",
          "2023-08-27T00:00:00.000000000",
          "2023-08-28T00:00:00.000000000",
          "2023-08-29T00:00:00.000000000",
          "2023-08-30T00:00:00.000000000",
          "2023-08-31T00:00:00.000000000",
          "2023-09-01T00:00:00.000000000",
          "2023-09-02T00:00:00.000000000",
          "2023-09-03T00:00:00.000000000",
          "2023-09-04T00:00:00.000000000",
          "2023-09-05T00:00:00.000000000",
          "2023-09-06T00:00:00.000000000",
          "2023-09-07T00:00:00.000000000",
          "2023-09-08T00:00:00.000000000",
          "2023-09-09T00:00:00.000000000",
          "2023-09-10T00:00:00.000000000",
          "2023-09-11T00:00:00.000000000",
          "2023-09-12T00:00:00.000000000",
          "2023-09-13T00:00:00.000000000",
          "2023-09-14T00:00:00.000000000",
          "2023-09-15T00:00:00.000000000",
          "2023-09-16T00:00:00.000000000",
          "2023-09-17T00:00:00.000000000",
          "2023-09-18T00:00:00.000000000",
          "2023-09-19T00:00:00.000000000",
          "2023-09-20T00:00:00.000000000",
          "2023-09-21T00:00:00.000000000",
          "2023-09-22T00:00:00.000000000",
          "2023-09-23T00:00:00.000000000",
          "2023-09-24T00:00:00.000000000",
          "2023-09-25T00:00:00.000000000",
          "2023-09-26T00:00:00.000000000",
          "2023-09-27T00:00:00.000000000",
          "2023-09-28T00:00:00.000000000",
          "2023-09-29T00:00:00.000000000",
          "2023-09-30T00:00:00.000000000",
          "2023-10-01T00:00:00.000000000",
          "2023-10-02T00:00:00.000000000",
          "2023-10-03T00:00:00.000000000",
          "2023-10-04T00:00:00.000000000",
          "2023-10-05T00:00:00.000000000",
          "2023-10-06T00:00:00.000000000",
          "2023-10-07T00:00:00.000000000",
          "2023-10-08T00:00:00.000000000",
          "2023-10-09T00:00:00.000000000",
          "2023-10-10T00:00:00.000000000",
          "2023-10-11T00:00:00.000000000",
          "2023-10-12T00:00:00.000000000",
          "2023-10-13T00:00:00.000000000",
          "2023-10-14T00:00:00.000000000",
          "2023-10-15T00:00:00.000000000",
          "2023-10-16T00:00:00.000000000",
          "2023-10-17T00:00:00.000000000",
          "2023-10-18T00:00:00.000000000",
          "2023-10-19T00:00:00.000000000",
          "2023-10-20T00:00:00.000000000",
          "2023-10-21T00:00:00.000000000",
          "2023-10-22T00:00:00.000000000",
          "2023-10-23T00:00:00.000000000",
          "2023-10-24T00:00:00.000000000",
          "2023-10-25T00:00:00.000000000",
          "2023-10-26T00:00:00.000000000",
          "2023-10-27T00:00:00.000000000",
          "2023-10-28T00:00:00.000000000",
          "2023-10-29T00:00:00.000000000",
          "2023-10-30T00:00:00.000000000",
          "2023-10-31T00:00:00.000000000",
          "2023-11-01T00:00:00.000000000",
          "2023-11-02T00:00:00.000000000",
          "2023-11-03T00:00:00.000000000",
          "2023-11-04T00:00:00.000000000",
          "2023-11-05T00:00:00.000000000",
          "2023-11-06T00:00:00.000000000",
          "2023-11-07T00:00:00.000000000",
          "2023-11-08T00:00:00.000000000",
          "2023-11-09T00:00:00.000000000",
          "2023-11-10T00:00:00.000000000",
          "2023-11-11T00:00:00.000000000",
          "2023-11-12T00:00:00.000000000",
          "2023-11-13T00:00:00.000000000",
          "2023-11-14T00:00:00.000000000",
          "2023-11-15T00:00:00.000000000",
          "2023-11-16T00:00:00.000000000",
          "2023-11-17T00:00:00.000000000",
          "2023-11-18T00:00:00.000000000",
          "2023-11-19T00:00:00.000000000",
          "2023-11-20T00:00:00.000000000",
          "2023-11-21T00:00:00.000000000",
          "2023-11-22T00:00:00.000000000",
          "2023-11-23T00:00:00.000000000",
          "2023-11-24T00:00:00.000000000",
          "2023-11-25T00:00:00.000000000",
          "2023-11-26T00:00:00.000000000",
          "2023-11-27T00:00:00.000000000",
          "2023-11-28T00:00:00.000000000",
          "2023-11-29T00:00:00.000000000",
          "2023-11-30T00:00:00.000000000",
          "2023-12-01T00:00:00.000000000",
          "2023-12-02T00:00:00.000000000",
          "2023-12-03T00:00:00.000000000",
          "2023-12-04T00:00:00.000000000",
          "2023-12-05T00:00:00.000000000",
          "2023-12-06T00:00:00.000000000",
          "2023-12-07T00:00:00.000000000",
          "2023-12-08T00:00:00.000000000",
          "2023-12-09T00:00:00.000000000",
          "2023-12-10T00:00:00.000000000",
          "2023-12-11T00:00:00.000000000",
          "2023-12-12T00:00:00.000000000",
          "2023-12-13T00:00:00.000000000",
          "2023-12-14T00:00:00.000000000",
          "2023-12-15T00:00:00.000000000",
          "2023-12-16T00:00:00.000000000",
          "2023-12-17T00:00:00.000000000",
          "2023-12-18T00:00:00.000000000",
          "2023-12-19T00:00:00.000000000",
          "2023-12-20T00:00:00.000000000",
          "2023-12-21T00:00:00.000000000",
          "2023-12-22T00:00:00.000000000",
          "2023-12-23T00:00:00.000000000",
          "2023-12-24T00:00:00.000000000",
          "2023-12-25T00:00:00.000000000",
          "2023-12-26T00:00:00.000000000"
         ],
         "xaxis": "x3",
         "y": {
          "bdata": "AAAAAICEHkEAAAAAgIQeQQAAAACAhB5BAAAAAICEHkEAAAAAgIQeQQAAAACAhB5BAAAAAICEHkEAAAAAgIQeQQAAAACAhB5BAAAAAICEHkEAAAAAgIQeQQAAAACAhB5BAAAAAICEHkEAAAAAgIQeQQAAAACAhB5BAAAAAICEHkEAAAAAgIQeQQAAAACAhB5BAAAAAICEHkEAAAAAgIQeQQAAAACAhB5BAAAAAICEHkEAAAAAgIQeQQAAAACAhB5BAAAAAICEHkEAAAAAgIQeQQAAAACAhB5BAAAAAICEHkEAAAAAgIQeQQAAAACAhB5BAAAAAICEHkEAAAAAgIQeQQAAAACAhB5BAAAAAICEHkEAAAAAgIQeQQAAAACAhB5BAAAAAICEHkEAAAAAgIQeQQAAAACAhB5BAAAAAICEHkEAAAAAgIQeQQAAAACAhB5BAAAAAICEHkEAAAAAgIQeQQAAAACAhB5BAAAAAICEHkEAAAAAgIQeQQAAAACAhB5BAAAAAICEHkEAAAAAgIQeQQAAAACAhB5BAAAAAICEHkEAAAAAgIQeQQAAAACAhB5BAAAAAICEHkEAAAAAgIQeQQAAAACAhB5BAAAAAICEHkEAAAAAgIQeQQAAAACAhB5BAAAAAICEHkEAAAAAgIQeQQAAAACAhB5BAAAAAICEHkEAAAAAgIQeQQAAAACAhB5BAAAAAICEHkEAAAAAgIQeQQAAAACAhB5BAAAAAICEHkEAAAAAgIQeQQAAAACAhB5BAAAAAICEHkEAAAAAgIQeQQAAAACAhB5BAAAAAICEHkEAAAAAgIQeQQAAAACAhB5BAAAAAICEHkEAAAAAgIQeQQAAAACAhB5BAAAAAICEHkEAAAAAgIQeQQAAAACAhB5BAAAAAICEHkEAAAAAgIQeQQAAAACAhB5BAAAAAICEHkEAAAAAgIQeQQAAAACAhB5BAAAAAICEHkEAAAAAgIQeQQAAAACAhB5BAAAAAICEHkEAAAAAgIQeQQAAAACAhB5BAAAAAICEHkEAAAAAgIQeQQAAAACAhB5BAAAAAICEHkEAAAAAgIQeQQAAAACAhB5BAAAAAICEHkEAAAAAgIQeQQAAAACAhB5BAAAAAICEHkEAAAAAgIQeQQAAAACAhB5BAAAAAICEHkEAAAAAgIQeQQAAAACAhB5BAAAAAICEHkEAAAAAgIQeQQAAAACAhB5BAAAAAICEHkEAAAAAgIQeQQAAAACAhB5BAAAAAICEHkEAAAAAgIQeQQAAAACAhB5BAAAAAICEHkEAAAAAgIQeQQAAAACAhB5BAAAAAICEHkEAAAAAgIQeQQAAAACAhB5BAAAAAICEHkEAAAAAgIQeQQAAAACAhB5BAAAAAICEHkEAAAAAgIQeQQAAAACAhB5BAAAAAICEHkEAAAAAgIQeQQAAAACAhB5BAAAAAICEHkEAAAAAgIQeQQAAAACAhB5BAAAAAICEHkEAAAAAgIQeQQAAAACAhB5BAAAAAICEHkEAAAAAgIQeQQAAAACAhB5BAAAAAICEHkEAAAAAgIQeQQAAAACAhB5BAAAAAICEHkEAAAAAgIQeQQAAAACAhB5BAAAAAICEHkEAAAAAgIQeQQAAAACAhB5BAAAAAICEHkEAAAAAgIQeQQAAAACAhB5BAAAAAICEHkEAAAAAgIQeQQAAAACAhB5BAAAAAICEHkEAAAAAgIQeQQAAAACAhB5BAAAAAICEHkEAAAAAgIQeQQAAAACAhB5BAAAAAICEHkEAAAAAgIQeQQAAAACAhB5BAAAAAICEHkEAAAAAgIQeQQAAAACAhB5BAAAAAICEHkEAAAAAgIQeQQAAAACAhB5BAAAAAICEHkEAAAAAgIQeQQAAAACAhB5BAAAAAICEHkEAAAAAgIQeQQAAAACAhB5BAAAAAICEHkEAAAAAgIQeQQAAAACAhB5BAAAAAICEHkEAAAAAgIQeQQAAAACAhB5BAAAAAICEHkEAAAAAgIQeQQAAAACAhB5BAAAAAICEHkEAAAAAgIQeQQAAAACAhB5BAAAAAICEHkEAAAAAgIQeQQAAAACAhB5BAAAAAICEHkEAAAAAgIQeQQAAAACAhB5BAAAAAICEHkEAAAAAgIQeQQAAAACAhB5BAAAAAICEHkEAAAAAgIQeQQAAAACAhB5BAAAAAICEHkEAAAAAgIQeQQAAAACAhB5BAAAAAICEHkEAAAAAgIQeQQAAAACAhB5BAAAAAICEHkEAAAAAgIQeQQAAAACAhB5BAAAAAICEHkEAAAAAgIQeQQAAAACAhB5BAAAAAICEHkEAAAAAgIQeQQAAAACAhB5BAAAAAICEHkEAAAAAgIQeQQAAAACAhB5BAAAAAICEHkEAAAAAgIQeQQAAAACAhB5BAAAAAICEHkEAAAAAgIQeQQAAAACAhB5BAAAAAICEHkEAAAAAgIQeQQAAAACAhB5BAAAAAICEHkEAAAAAgIQeQQAAAACAhB5BAAAAAICEHkEAAAAAgIQeQQAAAACAhB5BAAAAAICEHkEAAAAAgIQeQQAAAACAhB5BAAAAAICEHkEAAAAAgIQeQQAAAACAhB5BAAAAAICEHkEAAAAAgIQeQQAAAACAhB5BAAAAAICEHkEAAAAAgIQeQQAAAACAhB5BAAAAAICEHkEAAAAAgIQeQQAAAACAhB5BAAAAAICEHkEAAAAAgIQeQQAAAACAhB5BAAAAAICEHkEAAAAAgIQeQQAAAACAhB5BAAAAAICEHkEAAAAAgIQeQQAAAACAhB5BAAAAAICEHkEAAAAAgIQeQQAAAACAhB5BAAAAAICEHkEAAAAAgIQeQQAAAACAhB5BAAAAAICEHkEAAAAAgIQeQQAAAACAhB5BAAAAAICEHkEAAAAAgIQeQQAAAACAhB5BAAAAAICEHkEAAAAAgIQeQQAAAACAhB5BAAAAAICEHkEAAAAAgIQeQQAAAACAhB5BAAAAAICEHkEAAAAAgIQeQQAAAACAhB5BAAAAAICEHkEAAAAAgIQeQQAAAACAhB5BAAAAAICEHkEAAAAAgIQeQQAAAACAhB5BAAAAAICEHkEAAAAAgIQeQQAAAACAhB5BAAAAAICEHkEAAAAAgIQeQQAAAACAhB5BAAAAAICEHkEAAAAAgIQeQQAAAACAhB5BAAAAAICEHkEAAAAAgIQeQQAAAACAhB5BAAAAAICEHkEAAAAAgIQeQQAAAACAhB5BAAAAAICEHkEAAAAAgIQeQQAAAACAhB5BAAAAAICEHkEAAAAAgIQeQQAAAACAhB5BAAAAAICEHkEAAAAAgIQeQQAAAACAhB5BAAAAAICEHkEAAAAAgIQeQQAAAACAhB5BAAAAAICEHkEAAAAAgIQeQQAAAACAhB5BAAAAAICEHkEAAAAAgIQeQQAAAACAhB5BAAAAAICEHkEAAAAAgIQeQQAAAACAhB5BAAAAAICEHkEAAAAAgIQeQQAAAACAhB5BAAAAAICEHkEAAAAAgIQeQQAAAACAhB5BAAAAAICEHkEAAAAAgIQeQQAAAACAhB5BAAAAAICEHkEAAAAAgIQeQQAAAACAhB5BAAAAAICEHkEAAAAAgIQeQQAAAACAhB5BAAAAAICEHkEAAAAAgIQeQQAAAACAhB5BAAAAAICEHkEAAAAAgIQeQQAAAACAhB5BAAAAAICEHkEAAAAAgIQeQQAAAACAhB5BAAAAAICEHkEAAAAAgIQeQQAAAACAhB5BAAAAAICEHkEAAAAAgIQeQQAAAACAhB5BAAAAAICEHkEAAAAAgIQeQQAAAACAhB5BAAAAAICEHkEAAAAAgIQeQQAAAACAhB5B",
          "dtype": "f8"
         },
         "yaxis": "y3"
        }
       ],
       "layout": {
        "annotations": [
         {
          "font": {
           "size": 16
          },
          "showarrow": false,
          "text": "Day",
          "x": 0.22,
          "xanchor": "center",
          "xref": "paper",
          "y": 1,
          "yanchor": "bottom",
          "yref": "paper"
         },
         {
          "font": {
           "size": 16
          },
          "showarrow": false,
          "text": "Night",
          "x": 0.76,
          "xanchor": "center",
          "xref": "paper",
          "y": 1,
          "yanchor": "bottom",
          "yref": "paper"
         },
         {
          "font": {
           "size": 16
          },
          "showarrow": false,
          "text": "Layer 0",
          "textangle": 90,
          "x": 0.98,
          "xanchor": "left",
          "xref": "paper",
          "y": 0.775,
          "yanchor": "middle",
          "yref": "paper"
         },
         {
          "font": {
           "size": 16
          },
          "showarrow": false,
          "text": "Layer 1",
          "textangle": 90,
          "x": 0.98,
          "xanchor": "left",
          "xref": "paper",
          "y": 0.225,
          "yanchor": "middle",
          "yref": "paper"
         },
         {
          "font": {
           "size": 16
          },
          "showarrow": false,
          "text": "Time",
          "x": 0.49,
          "xanchor": "center",
          "xref": "paper",
          "y": 0,
          "yanchor": "top",
          "yref": "paper",
          "yshift": -30
         },
         {
          "font": {
           "size": 16
          },
          "showarrow": false,
          "text": "Biomass (mg/m2)",
          "textangle": -90,
          "x": 0,
          "xanchor": "right",
          "xref": "paper",
          "xshift": -40,
          "y": 0.5,
          "yanchor": "middle",
          "yref": "paper"
         }
        ],
        "template": {
         "data": {
          "bar": [
           {
            "error_x": {
             "color": "#2a3f5f"
            },
            "error_y": {
             "color": "#2a3f5f"
            },
            "marker": {
             "line": {
              "color": "#E5ECF6",
              "width": 0.5
             },
             "pattern": {
              "fillmode": "overlay",
              "size": 10,
              "solidity": 0.2
             }
            },
            "type": "bar"
           }
          ],
          "barpolar": [
           {
            "marker": {
             "line": {
              "color": "#E5ECF6",
              "width": 0.5
             },
             "pattern": {
              "fillmode": "overlay",
              "size": 10,
              "solidity": 0.2
             }
            },
            "type": "barpolar"
           }
          ],
          "carpet": [
           {
            "aaxis": {
             "endlinecolor": "#2a3f5f",
             "gridcolor": "white",
             "linecolor": "white",
             "minorgridcolor": "white",
             "startlinecolor": "#2a3f5f"
            },
            "baxis": {
             "endlinecolor": "#2a3f5f",
             "gridcolor": "white",
             "linecolor": "white",
             "minorgridcolor": "white",
             "startlinecolor": "#2a3f5f"
            },
            "type": "carpet"
           }
          ],
          "choropleth": [
           {
            "colorbar": {
             "outlinewidth": 0,
             "ticks": ""
            },
            "type": "choropleth"
           }
          ],
          "contour": [
           {
            "colorbar": {
             "outlinewidth": 0,
             "ticks": ""
            },
            "colorscale": [
             [
              0,
              "#0d0887"
             ],
             [
              0.1111111111111111,
              "#46039f"
             ],
             [
              0.2222222222222222,
              "#7201a8"
             ],
             [
              0.3333333333333333,
              "#9c179e"
             ],
             [
              0.4444444444444444,
              "#bd3786"
             ],
             [
              0.5555555555555556,
              "#d8576b"
             ],
             [
              0.6666666666666666,
              "#ed7953"
             ],
             [
              0.7777777777777778,
              "#fb9f3a"
             ],
             [
              0.8888888888888888,
              "#fdca26"
             ],
             [
              1,
              "#f0f921"
             ]
            ],
            "type": "contour"
           }
          ],
          "contourcarpet": [
           {
            "colorbar": {
             "outlinewidth": 0,
             "ticks": ""
            },
            "type": "contourcarpet"
           }
          ],
          "heatmap": [
           {
            "colorbar": {
             "outlinewidth": 0,
             "ticks": ""
            },
            "colorscale": [
             [
              0,
              "#0d0887"
             ],
             [
              0.1111111111111111,
              "#46039f"
             ],
             [
              0.2222222222222222,
              "#7201a8"
             ],
             [
              0.3333333333333333,
              "#9c179e"
             ],
             [
              0.4444444444444444,
              "#bd3786"
             ],
             [
              0.5555555555555556,
              "#d8576b"
             ],
             [
              0.6666666666666666,
              "#ed7953"
             ],
             [
              0.7777777777777778,
              "#fb9f3a"
             ],
             [
              0.8888888888888888,
              "#fdca26"
             ],
             [
              1,
              "#f0f921"
             ]
            ],
            "type": "heatmap"
           }
          ],
          "histogram": [
           {
            "marker": {
             "pattern": {
              "fillmode": "overlay",
              "size": 10,
              "solidity": 0.2
             }
            },
            "type": "histogram"
           }
          ],
          "histogram2d": [
           {
            "colorbar": {
             "outlinewidth": 0,
             "ticks": ""
            },
            "colorscale": [
             [
              0,
              "#0d0887"
             ],
             [
              0.1111111111111111,
              "#46039f"
             ],
             [
              0.2222222222222222,
              "#7201a8"
             ],
             [
              0.3333333333333333,
              "#9c179e"
             ],
             [
              0.4444444444444444,
              "#bd3786"
             ],
             [
              0.5555555555555556,
              "#d8576b"
             ],
             [
              0.6666666666666666,
              "#ed7953"
             ],
             [
              0.7777777777777778,
              "#fb9f3a"
             ],
             [
              0.8888888888888888,
              "#fdca26"
             ],
             [
              1,
              "#f0f921"
             ]
            ],
            "type": "histogram2d"
           }
          ],
          "histogram2dcontour": [
           {
            "colorbar": {
             "outlinewidth": 0,
             "ticks": ""
            },
            "colorscale": [
             [
              0,
              "#0d0887"
             ],
             [
              0.1111111111111111,
              "#46039f"
             ],
             [
              0.2222222222222222,
              "#7201a8"
             ],
             [
              0.3333333333333333,
              "#9c179e"
             ],
             [
              0.4444444444444444,
              "#bd3786"
             ],
             [
              0.5555555555555556,
              "#d8576b"
             ],
             [
              0.6666666666666666,
              "#ed7953"
             ],
             [
              0.7777777777777778,
              "#fb9f3a"
             ],
             [
              0.8888888888888888,
              "#fdca26"
             ],
             [
              1,
              "#f0f921"
             ]
            ],
            "type": "histogram2dcontour"
           }
          ],
          "mesh3d": [
           {
            "colorbar": {
             "outlinewidth": 0,
             "ticks": ""
            },
            "type": "mesh3d"
           }
          ],
          "parcoords": [
           {
            "line": {
             "colorbar": {
              "outlinewidth": 0,
              "ticks": ""
             }
            },
            "type": "parcoords"
           }
          ],
          "pie": [
           {
            "automargin": true,
            "type": "pie"
           }
          ],
          "scatter": [
           {
            "fillpattern": {
             "fillmode": "overlay",
             "size": 10,
             "solidity": 0.2
            },
            "type": "scatter"
           }
          ],
          "scatter3d": [
           {
            "line": {
             "colorbar": {
              "outlinewidth": 0,
              "ticks": ""
             }
            },
            "marker": {
             "colorbar": {
              "outlinewidth": 0,
              "ticks": ""
             }
            },
            "type": "scatter3d"
           }
          ],
          "scattercarpet": [
           {
            "marker": {
             "colorbar": {
              "outlinewidth": 0,
              "ticks": ""
             }
            },
            "type": "scattercarpet"
           }
          ],
          "scattergeo": [
           {
            "marker": {
             "colorbar": {
              "outlinewidth": 0,
              "ticks": ""
             }
            },
            "type": "scattergeo"
           }
          ],
          "scattergl": [
           {
            "marker": {
             "colorbar": {
              "outlinewidth": 0,
              "ticks": ""
             }
            },
            "type": "scattergl"
           }
          ],
          "scattermap": [
           {
            "marker": {
             "colorbar": {
              "outlinewidth": 0,
              "ticks": ""
             }
            },
            "type": "scattermap"
           }
          ],
          "scattermapbox": [
           {
            "marker": {
             "colorbar": {
              "outlinewidth": 0,
              "ticks": ""
             }
            },
            "type": "scattermapbox"
           }
          ],
          "scatterpolar": [
           {
            "marker": {
             "colorbar": {
              "outlinewidth": 0,
              "ticks": ""
             }
            },
            "type": "scatterpolar"
           }
          ],
          "scatterpolargl": [
           {
            "marker": {
             "colorbar": {
              "outlinewidth": 0,
              "ticks": ""
             }
            },
            "type": "scatterpolargl"
           }
          ],
          "scatterternary": [
           {
            "marker": {
             "colorbar": {
              "outlinewidth": 0,
              "ticks": ""
             }
            },
            "type": "scatterternary"
           }
          ],
          "surface": [
           {
            "colorbar": {
             "outlinewidth": 0,
             "ticks": ""
            },
            "colorscale": [
             [
              0,
              "#0d0887"
             ],
             [
              0.1111111111111111,
              "#46039f"
             ],
             [
              0.2222222222222222,
              "#7201a8"
             ],
             [
              0.3333333333333333,
              "#9c179e"
             ],
             [
              0.4444444444444444,
              "#bd3786"
             ],
             [
              0.5555555555555556,
              "#d8576b"
             ],
             [
              0.6666666666666666,
              "#ed7953"
             ],
             [
              0.7777777777777778,
              "#fb9f3a"
             ],
             [
              0.8888888888888888,
              "#fdca26"
             ],
             [
              1,
              "#f0f921"
             ]
            ],
            "type": "surface"
           }
          ],
          "table": [
           {
            "cells": {
             "fill": {
              "color": "#EBF0F8"
             },
             "line": {
              "color": "white"
             }
            },
            "header": {
             "fill": {
              "color": "#C8D4E3"
             },
             "line": {
              "color": "white"
             }
            },
            "type": "table"
           }
          ]
         },
         "layout": {
          "annotationdefaults": {
           "arrowcolor": "#2a3f5f",
           "arrowhead": 0,
           "arrowwidth": 1
          },
          "autotypenumbers": "strict",
          "coloraxis": {
           "colorbar": {
            "outlinewidth": 0,
            "ticks": ""
           }
          },
          "colorscale": {
           "diverging": [
            [
             0,
             "#8e0152"
            ],
            [
             0.1,
             "#c51b7d"
            ],
            [
             0.2,
             "#de77ae"
            ],
            [
             0.3,
             "#f1b6da"
            ],
            [
             0.4,
             "#fde0ef"
            ],
            [
             0.5,
             "#f7f7f7"
            ],
            [
             0.6,
             "#e6f5d0"
            ],
            [
             0.7,
             "#b8e186"
            ],
            [
             0.8,
             "#7fbc41"
            ],
            [
             0.9,
             "#4d9221"
            ],
            [
             1,
             "#276419"
            ]
           ],
           "sequential": [
            [
             0,
             "#0d0887"
            ],
            [
             0.1111111111111111,
             "#46039f"
            ],
            [
             0.2222222222222222,
             "#7201a8"
            ],
            [
             0.3333333333333333,
             "#9c179e"
            ],
            [
             0.4444444444444444,
             "#bd3786"
            ],
            [
             0.5555555555555556,
             "#d8576b"
            ],
            [
             0.6666666666666666,
             "#ed7953"
            ],
            [
             0.7777777777777778,
             "#fb9f3a"
            ],
            [
             0.8888888888888888,
             "#fdca26"
            ],
            [
             1,
             "#f0f921"
            ]
           ],
           "sequentialminus": [
            [
             0,
             "#0d0887"
            ],
            [
             0.1111111111111111,
             "#46039f"
            ],
            [
             0.2222222222222222,
             "#7201a8"
            ],
            [
             0.3333333333333333,
             "#9c179e"
            ],
            [
             0.4444444444444444,
             "#bd3786"
            ],
            [
             0.5555555555555556,
             "#d8576b"
            ],
            [
             0.6666666666666666,
             "#ed7953"
            ],
            [
             0.7777777777777778,
             "#fb9f3a"
            ],
            [
             0.8888888888888888,
             "#fdca26"
            ],
            [
             1,
             "#f0f921"
            ]
           ]
          },
          "colorway": [
           "#636efa",
           "#EF553B",
           "#00cc96",
           "#ab63fa",
           "#FFA15A",
           "#19d3f3",
           "#FF6692",
           "#B6E880",
           "#FF97FF",
           "#FECB52"
          ],
          "font": {
           "color": "#2a3f5f"
          },
          "geo": {
           "bgcolor": "white",
           "lakecolor": "white",
           "landcolor": "#E5ECF6",
           "showlakes": true,
           "showland": true,
           "subunitcolor": "white"
          },
          "hoverlabel": {
           "align": "left"
          },
          "hovermode": "closest",
          "mapbox": {
           "style": "light"
          },
          "paper_bgcolor": "white",
          "plot_bgcolor": "#E5ECF6",
          "polar": {
           "angularaxis": {
            "gridcolor": "white",
            "linecolor": "white",
            "ticks": ""
           },
           "bgcolor": "#E5ECF6",
           "radialaxis": {
            "gridcolor": "white",
            "linecolor": "white",
            "ticks": ""
           }
          },
          "scene": {
           "xaxis": {
            "backgroundcolor": "#E5ECF6",
            "gridcolor": "white",
            "gridwidth": 2,
            "linecolor": "white",
            "showbackground": true,
            "ticks": "",
            "zerolinecolor": "white"
           },
           "yaxis": {
            "backgroundcolor": "#E5ECF6",
            "gridcolor": "white",
            "gridwidth": 2,
            "linecolor": "white",
            "showbackground": true,
            "ticks": "",
            "zerolinecolor": "white"
           },
           "zaxis": {
            "backgroundcolor": "#E5ECF6",
            "gridcolor": "white",
            "gridwidth": 2,
            "linecolor": "white",
            "showbackground": true,
            "ticks": "",
            "zerolinecolor": "white"
           }
          },
          "shapedefaults": {
           "line": {
            "color": "#2a3f5f"
           }
          },
          "ternary": {
           "aaxis": {
            "gridcolor": "white",
            "linecolor": "white",
            "ticks": ""
           },
           "baxis": {
            "gridcolor": "white",
            "linecolor": "white",
            "ticks": ""
           },
           "bgcolor": "#E5ECF6",
           "caxis": {
            "gridcolor": "white",
            "linecolor": "white",
            "ticks": ""
           }
          },
          "title": {
           "x": 0.05
          },
          "xaxis": {
           "automargin": true,
           "gridcolor": "white",
           "linecolor": "white",
           "ticks": "",
           "title": {
            "standoff": 15
           },
           "zerolinecolor": "white",
           "zerolinewidth": 2
          },
          "yaxis": {
           "automargin": true,
           "gridcolor": "white",
           "linecolor": "white",
           "ticks": "",
           "title": {
            "standoff": 15
           },
           "zerolinecolor": "white",
           "zerolinewidth": 2
          }
         }
        },
        "title": {
         "text": "Observation_meso"
        },
        "xaxis": {
         "anchor": "y",
         "domain": [
          0,
          0.44
         ]
        },
        "xaxis2": {
         "anchor": "y2",
         "domain": [
          0.54,
          0.98
         ]
        },
        "xaxis3": {
         "anchor": "y3",
         "domain": [
          0,
          0.44
         ]
        },
        "xaxis4": {
         "anchor": "y4",
         "domain": [
          0.54,
          0.98
         ]
        },
        "yaxis": {
         "anchor": "x",
         "domain": [
          0.55,
          1
         ]
        },
        "yaxis2": {
         "anchor": "x2",
         "domain": [
          0.55,
          1
         ]
        },
        "yaxis3": {
         "anchor": "x3",
         "domain": [
          0,
          0.45
         ]
        },
        "yaxis4": {
         "anchor": "x4",
         "domain": [
          0,
          0.45
         ]
        }
       }
      }
     },
     "metadata": {},
     "output_type": "display_data"
    }
   ],
   "source": [
    "for fig in viewer.time_series(10):\n",
    "    fig.show()"
   ]
  },
  {
   "cell_type": "code",
   "execution_count": null,
   "id": "7bf606b0",
   "metadata": {},
   "outputs": [],
   "source": []
  }
 ],
 "metadata": {
  "kernelspec": {
   "display_name": ".venv",
   "language": "python",
   "name": "python3"
  },
  "language_info": {
   "codemirror_mode": {
    "name": "ipython",
    "version": 3
   },
   "file_extension": ".py",
   "mimetype": "text/x-python",
   "name": "python",
   "nbconvert_exporter": "python",
   "pygments_lexer": "ipython3",
   "version": "3.13.3"
  }
 },
 "nbformat": 4,
 "nbformat_minor": 5
}
