{
 "cells": [
  {
   "cell_type": "code",
   "execution_count": null,
   "id": "64226a7a",
   "metadata": {},
   "outputs": [],
   "source": [
    "import pandas as pd\n",
    "import xarray as xr\n",
    "from seapopym.configuration.no_transport import ForcingParameter, ForcingUnit\n",
    "\n",
    "from seapopym_optimization.constraint.energy_transfert_constraint import EnergyCoefficientConstraint\n",
    "from seapopym_optimization.functional_group import NoTransportFunctionalGroup, Parameter\n",
    "from seapopym_optimization.functional_group.base_functional_group import FunctionalGroupSet\n",
    "from seapopym_optimization.model_generator import NoTransportModelGenerator\n"
   ]
  },
  {
   "cell_type": "code",
   "execution_count": null,
   "id": "ae902720",
   "metadata": {},
   "outputs": [],
   "source": [
    "fg1 = NoTransportFunctionalGroup(\n",
    "    name=\"FG1\",\n",
    "    day_layer=0,\n",
    "    night_layer=0,\n",
    "    energy_transfert=Parameter(name=\"FG1_energy_transfert\", lower_bound=0, upper_bound=1),\n",
    "    lambda_temperature_0=Parameter(name=\"lambda_temperature_0\", lower_bound=0, upper_bound=100),\n",
    "    gamma_lambda_temperature=Parameter(name=\"gamma_lambda_temperature\", lower_bound=0, upper_bound=1),\n",
    "    tr_0=Parameter(name=\"tr_0\", lower_bound=0, upper_bound=10),\n",
    "    gamma_tr=Parameter(name=\"gamma_tr\", lower_bound=-1, upper_bound=0),\n",
    ")\n",
    "\n",
    "fg2 = NoTransportFunctionalGroup(\n",
    "    name=\"FG2\",\n",
    "    day_layer=0,\n",
    "    night_layer=1,\n",
    "    energy_transfert=Parameter(name=\"FG2_energy_transfert\", lower_bound=0, upper_bound=1),\n",
    "    lambda_temperature_0=Parameter(name=\"lambda_temperature_0\", lower_bound=0, upper_bound=100),\n",
    "    gamma_lambda_temperature=Parameter(name=\"gamma_lambda_temperature\", lower_bound=0, upper_bound=1),\n",
    "    tr_0=Parameter(name=\"tr_0\", lower_bound=0, upper_bound=10),\n",
    "    gamma_tr=Parameter(name=\"gamma_tr\", lower_bound=-1, upper_bound=0),\n",
    ")"
   ]
  },
  {
   "cell_type": "code",
   "execution_count": null,
   "id": "b70b6061",
   "metadata": {},
   "outputs": [],
   "source": [
    "constraint = EnergyCoefficientConstraint(\n",
    "    parameters_name=[\"FG1_energy_coefficient\", \"FG2_energy_coefficient\"],\n",
    "    min_energy_coef_value=0,\n",
    "    max_energy_coef_value=1,\n",
    ")"
   ]
  },
  {
   "cell_type": "code",
   "execution_count": null,
   "id": "c9aac46b",
   "metadata": {},
   "outputs": [],
   "source": [
    "fg_set = FunctionalGroupSet(\n",
    "    functional_groups=[fg1, fg2],\n",
    ")\n",
    "functional_group_parameters = fg_set.generate([1, 1, 1, 1, -0.5, 1])"
   ]
  },
  {
   "cell_type": "code",
   "execution_count": null,
   "id": "85a21944",
   "metadata": {},
   "outputs": [],
   "source": [
    "temperature = xr.DataArray(\n",
    "    data=[[[1]], [[2]], [[3]], [[4]], [[5]]],\n",
    "    dims=[\"time\", \"latitude\", \"longitude\"],\n",
    "    coords={\n",
    "        \"time\": pd.date_range(\"2023-01-01\", periods=5, freq=\"D\"),\n",
    "        \"latitude\": [0],\n",
    "        \"longitude\": [0],\n",
    "    },\n",
    "    name=\"temperature\",\n",
    "    attrs={\n",
    "        \"units\": \"Celsius\",\n",
    "        \"long_name\": \"Sea surface temperature\",\n",
    "        \"standard_name\": \"sea_surface_temperature\",\n",
    "    },\n",
    ")\n",
    "primary_production = xr.DataArray(\n",
    "    data=[[[1]], [[2]], [[3]], [[4]], [[5]]],\n",
    "    dims=[\"time\", \"latitude\", \"longitude\"],\n",
    "    coords={\n",
    "        \"time\": pd.date_range(\"2023-01-01\", periods=5, freq=\"D\"),\n",
    "        \"latitude\": [0],\n",
    "        \"longitude\": [0],\n",
    "    },\n",
    "    name=\"primary_production\",\n",
    "    attrs={\n",
    "        \"units\": \"g/m^2/day\",\n",
    "        \"long_name\": \"Primary production\",\n",
    "        \"standard_name\": \"primary_production\",\n",
    "    },\n",
    ")\n",
    "temperature.time.attrs = {\"axis\": \"T\"}\n",
    "primary_production.time.attrs = {\"axis\": \"T\"}\n",
    "temperature.latitude.attrs = {\"axis\": \"Y\"}\n",
    "primary_production.latitude.attrs = {\"axis\": \"Y\"}\n",
    "temperature.longitude.attrs = {\"axis\": \"X\"}\n",
    "primary_production.longitude.attrs = {\"axis\": \"X\"}\n",
    "\n",
    "forcing_parameter = ForcingParameter(\n",
    "    temperature=ForcingUnit(forcing=temperature),\n",
    "    primary_production=ForcingUnit(forcing=primary_production),\n",
    ")"
   ]
  },
  {
   "cell_type": "code",
   "execution_count": null,
   "id": "e3afd22a",
   "metadata": {},
   "outputs": [],
   "source": [
    "model_generator = NoTransportModelGenerator(forcing_parameters=forcing_parameter)"
   ]
  },
  {
   "cell_type": "code",
   "execution_count": null,
   "id": "613d9827",
   "metadata": {},
   "outputs": [],
   "source": [
    "model = model_generator.generate(functional_group_parameters=functional_group_parameters)"
   ]
  }
 ],
 "metadata": {
  "kernelspec": {
   "display_name": ".venv",
   "language": "python",
   "name": "python3"
  },
  "language_info": {
   "codemirror_mode": {
    "name": "ipython",
    "version": 3
   },
   "file_extension": ".py",
   "mimetype": "text/x-python",
   "name": "python",
   "nbconvert_exporter": "python",
   "pygments_lexer": "ipython3",
   "version": "3.13.3"
  }
 },
 "nbformat": 4,
 "nbformat_minor": 5
}
