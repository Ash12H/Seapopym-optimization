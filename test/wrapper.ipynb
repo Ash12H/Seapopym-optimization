{
 "cells": [
  {
   "cell_type": "markdown",
   "metadata": {},
   "source": [
    "# Test du wrapper\n"
   ]
  },
  {
   "cell_type": "code",
   "execution_count": 1,
   "metadata": {},
   "outputs": [],
   "source": [
    "\n",
    "import numpy as np\n",
    "from seapopym_optimization.wrapper import FunctionalGroupGeneratorNoTransport"
   ]
  },
  {
   "cell_type": "markdown",
   "metadata": {},
   "source": [
    "## Single\n"
   ]
  },
  {
   "cell_type": "code",
   "execution_count": 2,
   "metadata": {},
   "outputs": [
    {
     "name": "stderr",
     "output_type": "stream",
     "text": [
      "\u001b[38;5;226m2024-09-20 11:35:56,883 :: Seapodym ::  WARNING ::\n",
      "|\tParameter temperature_recruitment_rate : 1.0 has a positive value. It means that the recruitment time is increasing with temperature. Do you mean to use a negative value?\n",
      "\u001b[0m\n"
     ]
    },
    {
     "data": {
      "text/plain": [
       "FunctionalGroups(functional_groups=[FunctionalGroupUnit(name='coucou', energy_transfert=1.0, functional_type=FunctionalGroupUnitRelationParameters(inv_lambda_max=1.0, inv_lambda_rate=1.0, temperature_recruitment_rate=1.0, temperature_recruitment_max=1.0, cohorts_timesteps=[1]), migratory_type=FunctionalGroupUnitMigratoryParameters(day_layer=1, night_layer=1))])"
      ]
     },
     "execution_count": 2,
     "metadata": {},
     "output_type": "execute_result"
    }
   ],
   "source": [
    "FunctionalGroupGeneratorNoTransport(parameters=[[1,1,1,1,1,1,1]], groups_name=[\"coucou\"]).generate()"
   ]
  },
  {
   "cell_type": "markdown",
   "metadata": {},
   "source": [
    "## Multiple\n"
   ]
  },
  {
   "cell_type": "code",
   "execution_count": 8,
   "metadata": {},
   "outputs": [
    {
     "name": "stderr",
     "output_type": "stream",
     "text": [
      "\u001b[38;5;226m2024-09-20 11:38:35,854 :: Seapodym ::  WARNING ::\n",
      "|\tParameter temperature_recruitment_rate : 0.2 has a positive value. It means that the recruitment time is increasing with temperature. Do you mean to use a negative value?\n",
      "\u001b[0m\n",
      "\u001b[38;5;226m2024-09-20 11:38:35,855 :: Seapodym ::  WARNING ::\n",
      "|\tParameter temperature_recruitment_rate : 0.2 has a positive value. It means that the recruitment time is increasing with temperature. Do you mean to use a negative value?\n",
      "\u001b[0m\n",
      "\u001b[38;5;226m2024-09-20 11:38:35,856 :: Seapodym ::  WARNING ::\n",
      "|\tParameter temperature_recruitment_rate : 0.2 has a positive value. It means that the recruitment time is increasing with temperature. Do you mean to use a negative value?\n",
      "\u001b[0m\n",
      "\u001b[38;5;226m2024-09-20 11:38:35,856 :: Seapodym ::  WARNING ::\n",
      "|\tParameter temperature_recruitment_rate : 0.2 has a positive value. It means that the recruitment time is increasing with temperature. Do you mean to use a negative value?\n",
      "\u001b[0m\n",
      "\u001b[38;5;226m2024-09-20 11:38:35,893 :: Seapodym ::  WARNING ::\n",
      "|\tParameter temperature_recruitment_rate : 0.2 has a positive value. It means that the recruitment time is increasing with temperature. Do you mean to use a negative value?\n",
      "\u001b[0m\n",
      "\u001b[38;5;226m2024-09-20 11:38:35,894 :: Seapodym ::  WARNING ::\n",
      "|\tParameter temperature_recruitment_rate : 0.2 has a positive value. It means that the recruitment time is increasing with temperature. Do you mean to use a negative value?\n",
      "\u001b[0m\n"
     ]
    },
    {
     "data": {
      "text/plain": [
       "FunctionalGroups(functional_groups=[FunctionalGroupUnit(name='D0.5N0.6', energy_transfert=0.7000000000000001, functional_type=FunctionalGroupUnitRelationParameters(inv_lambda_max=0.30000000000000004, inv_lambda_rate=0.4, temperature_recruitment_rate=0.2, temperature_recruitment_max=0.1, cohorts_timesteps=[1]), migratory_type=FunctionalGroupUnitMigratoryParameters(day_layer=0, night_layer=0)), FunctionalGroupUnit(name='D0.5N0.6', energy_transfert=0.7000000000000001, functional_type=FunctionalGroupUnitRelationParameters(inv_lambda_max=0.30000000000000004, inv_lambda_rate=0.4, temperature_recruitment_rate=0.2, temperature_recruitment_max=0.1, cohorts_timesteps=[1]), migratory_type=FunctionalGroupUnitMigratoryParameters(day_layer=0, night_layer=0)), FunctionalGroupUnit(name='D0.5N0.6', energy_transfert=0.7000000000000001, functional_type=FunctionalGroupUnitRelationParameters(inv_lambda_max=0.30000000000000004, inv_lambda_rate=0.4, temperature_recruitment_rate=0.2, temperature_recruitment_max=0.1, cohorts_timesteps=[1]), migratory_type=FunctionalGroupUnitMigratoryParameters(day_layer=0, night_layer=0)), FunctionalGroupUnit(name='D0.5N0.6', energy_transfert=0.7000000000000001, functional_type=FunctionalGroupUnitRelationParameters(inv_lambda_max=0.30000000000000004, inv_lambda_rate=0.4, temperature_recruitment_rate=0.2, temperature_recruitment_max=0.1, cohorts_timesteps=[1]), migratory_type=FunctionalGroupUnitMigratoryParameters(day_layer=0, night_layer=0)), FunctionalGroupUnit(name='D0.5N0.6', energy_transfert=0.7000000000000001, functional_type=FunctionalGroupUnitRelationParameters(inv_lambda_max=0.30000000000000004, inv_lambda_rate=0.4, temperature_recruitment_rate=0.2, temperature_recruitment_max=0.1, cohorts_timesteps=[1]), migratory_type=FunctionalGroupUnitMigratoryParameters(day_layer=0, night_layer=0)), FunctionalGroupUnit(name='D0.5N0.6', energy_transfert=0.7000000000000001, functional_type=FunctionalGroupUnitRelationParameters(inv_lambda_max=0.30000000000000004, inv_lambda_rate=0.4, temperature_recruitment_rate=0.2, temperature_recruitment_max=0.1, cohorts_timesteps=[1]), migratory_type=FunctionalGroupUnitMigratoryParameters(day_layer=0, night_layer=0))])"
      ]
     },
     "execution_count": 8,
     "metadata": {},
     "output_type": "execute_result"
    }
   ],
   "source": [
    "FunctionalGroupGeneratorNoTransport(np.tile(np.arange(0.1, 0.8, 0.1), (6, 1))).generate()"
   ]
  }
 ],
 "metadata": {
  "kernelspec": {
   "display_name": ".venv",
   "language": "python",
   "name": "python3"
  },
  "language_info": {
   "codemirror_mode": {
    "name": "ipython",
    "version": 3
   },
   "file_extension": ".py",
   "mimetype": "text/x-python",
   "name": "python",
   "nbconvert_exporter": "python",
   "pygments_lexer": "ipython3",
   "version": "3.12.5"
  }
 },
 "nbformat": 4,
 "nbformat_minor": 2
}
