{
 "cells": [
  {
   "cell_type": "markdown",
   "metadata": {},
   "source": [
    "# Test du wrapper\n"
   ]
  },
  {
   "cell_type": "code",
   "execution_count": 1,
   "metadata": {},
   "outputs": [],
   "source": [
    "from seapopym_optimization.wrapper import FunctionalGroupGenerator"
   ]
  },
  {
   "cell_type": "markdown",
   "metadata": {},
   "source": [
    "## Simple\n"
   ]
  },
  {
   "cell_type": "code",
   "execution_count": 2,
   "metadata": {},
   "outputs": [
    {
     "data": {
      "text/plain": [
       "FunctionalGroups(functional_groups=[FunctionalGroupUnit(name='D1N1', energy_transfert=0.1668, functional_type=FunctionalGroupUnitRelationParameters(inv_lambda_max=150.0, inv_lambda_rate=0.15, temperature_recruitment_rate=-0.11, temperature_recruitment_max=10.38, cohorts_timesteps=[1, 1, 1, 1, 1, 1, 1, 1, 1, 1, 1]), migratory_type=FunctionalGroupUnitMigratoryParameters(day_layer=1, night_layer=1))])"
      ]
     },
     "execution_count": 2,
     "metadata": {},
     "output_type": "execute_result"
    }
   ],
   "source": [
    "FunctionalGroupGenerator().generate()"
   ]
  },
  {
   "cell_type": "markdown",
   "metadata": {},
   "source": [
    "## Multiple\n"
   ]
  },
  {
   "cell_type": "code",
   "execution_count": 6,
   "metadata": {},
   "outputs": [
    {
     "data": {
      "text/plain": [
       "FunctionalGroups(functional_groups=[FunctionalGroupUnit(name='D1N1', energy_transfert=0.1, functional_type=FunctionalGroupUnitRelationParameters(inv_lambda_max=0.1, inv_lambda_rate=0.1, temperature_recruitment_rate=-0.1, temperature_recruitment_max=0.1, cohorts_timesteps=[1]), migratory_type=FunctionalGroupUnitMigratoryParameters(day_layer=1, night_layer=1)), FunctionalGroupUnit(name='D2N2', energy_transfert=0.2, functional_type=FunctionalGroupUnitRelationParameters(inv_lambda_max=0.2, inv_lambda_rate=0.2, temperature_recruitment_rate=-0.2, temperature_recruitment_max=0.2, cohorts_timesteps=[1]), migratory_type=FunctionalGroupUnitMigratoryParameters(day_layer=2, night_layer=2)), FunctionalGroupUnit(name='D1N2', energy_transfert=0.3, functional_type=FunctionalGroupUnitRelationParameters(inv_lambda_max=0.3, inv_lambda_rate=0.3, temperature_recruitment_rate=-0.3, temperature_recruitment_max=0.3, cohorts_timesteps=[1]), migratory_type=FunctionalGroupUnitMigratoryParameters(day_layer=1, night_layer=2)), FunctionalGroupUnit(name='D3N3', energy_transfert=0.4, functional_type=FunctionalGroupUnitRelationParameters(inv_lambda_max=0.4, inv_lambda_rate=0.4, temperature_recruitment_rate=-0.4, temperature_recruitment_max=0.4, cohorts_timesteps=[1]), migratory_type=FunctionalGroupUnitMigratoryParameters(day_layer=3, night_layer=3)), FunctionalGroupUnit(name='D2N3', energy_transfert=0.5, functional_type=FunctionalGroupUnitRelationParameters(inv_lambda_max=0.5, inv_lambda_rate=0.5, temperature_recruitment_rate=-0.5, temperature_recruitment_max=0.5, cohorts_timesteps=[1]), migratory_type=FunctionalGroupUnitMigratoryParameters(day_layer=2, night_layer=3))])"
      ]
     },
     "execution_count": 6,
     "metadata": {},
     "output_type": "execute_result"
    }
   ],
   "source": [
    "FunctionalGroupGenerator(\n",
    "    tr_max=[0.1, 0.2, 0.3, 0.4, 0.5],\n",
    "    tr_rate=[-0.1, -0.2, -0.3, -0.4, -0.5],\n",
    "    inv_lambda_max=[0.1, 0.2, 0.3, 0.4, 0.5],\n",
    "    inv_lambda_rate=[0.1, 0.2, 0.3, 0.4, 0.5],\n",
    "    day_layer=[1,2,1,3,2],\n",
    "    night_layer=[1,2,2,3,3],\n",
    "    energy_transfert=[0.1, 0.2, 0.3, 0.4, 0.5],\n",
    ").generate()"
   ]
  }
 ],
 "metadata": {
  "kernelspec": {
   "display_name": ".venv",
   "language": "python",
   "name": "python3"
  },
  "language_info": {
   "codemirror_mode": {
    "name": "ipython",
    "version": 3
   },
   "file_extension": ".py",
   "mimetype": "text/x-python",
   "name": "python",
   "nbconvert_exporter": "python",
   "pygments_lexer": "ipython3",
   "version": "3.12.5"
  }
 },
 "nbformat": 4,
 "nbformat_minor": 2
}
