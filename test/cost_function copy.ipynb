{
 "cells": [
  {
   "cell_type": "code",
   "execution_count": 15,
   "metadata": {},
   "outputs": [],
   "source": [
    "import xarray as xr\n",
    "from seapopym_optimization import NoTransportCostFunction, Observation, FunctionalGroupOptimizeNoTransport, Parameter\n",
    "import pint\n",
    "\n",
    "from seapopym.configuration.no_transport.parameter import ForcingParameters\n",
    "\n",
    "from seapopym.configuration.parameters.parameter_forcing import ForcingUnit\n",
    "\n",
    "from seapopym.standard.units import StandardUnitsLabels\n",
    "import pandas as pd\n",
    "import numpy as np"
   ]
  },
  {
   "cell_type": "code",
   "execution_count": 27,
   "metadata": {},
   "outputs": [],
   "source": [
    "# Create an xarray Dataset with dimensions time, latitude, longitude\n",
    "observation_1 = xr.Dataset(\n",
    "    {\n",
    "        \"day\": ([\"time\", \"latitude\", \"longitude\", \"layer\"], np.ones((2, 1, 1, 1))),\n",
    "        \"night\": ([\"time\", \"latitude\", \"longitude\", \"layer\"], np.ones((2, 1, 1, 1))),\n",
    "    },\n",
    "    coords={\n",
    "        \"time\": pd.date_range(\"2000-01-01\", periods=2),\n",
    "        \"latitude\": np.arange(1),\n",
    "        \"longitude\": np.arange(1),\n",
    "        \"layer\": np.arange(1),\n",
    "    },\n",
    ")\n",
    "observation_1[\"day\"].attrs[\"units\"] = \"mg.m-2\"\n",
    "observation_1[\"night\"].attrs[\"units\"] = \"mg.m-2\"\n",
    "observation_1[\"time\"].attrs[\"axis\"] = \"T\"\n",
    "observation_1[\"latitude\"].attrs[\"axis\"] = \"Y\"\n",
    "observation_1[\"longitude\"].attrs[\"axis\"] = \"X\"\n",
    "observation_1[\"layer\"].attrs[\"axis\"] = \"Z\""
   ]
  },
  {
   "cell_type": "code",
   "execution_count": 28,
   "metadata": {},
   "outputs": [
    {
     "data": {
      "text/plain": [
       "Observation(name='test_layer_1', observation=<xarray.Dataset> Size: 72B\n",
       "Dimensions:    (time: 2, latitude: 1, longitude: 1, layer: 1)\n",
       "Coordinates:\n",
       "  * latitude   (latitude) int64 8B 0\n",
       "  * longitude  (longitude) int64 8B 0\n",
       "  * layer      (layer) int64 8B 0\n",
       "  * time       (time) datetime64[ns] 16B 2000-01-01 2000-01-02\n",
       "Data variables:\n",
       "    day        (time, latitude, longitude, layer) float64 16B 0.001 0.001\n",
       "    night      (time, latitude, longitude, layer) float64 16B 0.001 0.001, observation_type='daily')"
      ]
     },
     "execution_count": 28,
     "metadata": {},
     "output_type": "execute_result"
    }
   ],
   "source": [
    "obs_1 = Observation(\n",
    "    name=\"test_layer_1\",\n",
    "    observation_type=\"daily\",\n",
    "    observation=observation_1,\n",
    ")\n",
    "obs_1"
   ]
  },
  {
   "cell_type": "code",
   "execution_count": 29,
   "metadata": {},
   "outputs": [],
   "source": [
    "# Create an xarray Dataset with dimensions time, latitude, longitude\n",
    "prediction_1 = xr.DataArray(\n",
    "    np.ones((2, 1, 1, 1)),\n",
    "    coords={\n",
    "        \"time\": pd.date_range(\"2000-01-01\", periods=2),\n",
    "        \"latitude\": np.arange(1),\n",
    "        \"longitude\": np.arange(1),\n",
    "        \"functional_group\": np.arange(1),\n",
    "    },\n",
    "    attrs={\"units\": \"mg.m-2\"},\n",
    ")\n",
    "prediction_1[\"time\"].attrs[\"axis\"] = \"T\"\n",
    "prediction_1[\"latitude\"].attrs[\"axis\"] = \"Y\"\n",
    "prediction_1[\"longitude\"].attrs[\"axis\"] = \"X\""
   ]
  },
  {
   "cell_type": "code",
   "execution_count": 32,
   "metadata": {},
   "outputs": [
    {
     "data": {
      "text/plain": [
       "(0.0, 0.0)"
      ]
     },
     "execution_count": 32,
     "metadata": {},
     "output_type": "execute_result"
    }
   ],
   "source": [
    "obs_1.mean_square_error(predicted=prediction_1, day_layer=[0], night_layer=[0])"
   ]
  },
  {
   "cell_type": "markdown",
   "metadata": {},
   "source": [
    "# With 2 groups\n"
   ]
  },
  {
   "cell_type": "code",
   "execution_count": 33,
   "metadata": {},
   "outputs": [],
   "source": [
    "# Create an xarray Dataset with dimensions time, latitude, longitude\n",
    "prediction_2 = xr.DataArray(\n",
    "    np.ones((2, 1, 1, 2)),\n",
    "    coords={\n",
    "        \"time\": pd.date_range(\"2000-01-01\", periods=2),\n",
    "        \"latitude\": np.arange(1),\n",
    "        \"longitude\": np.arange(1),\n",
    "        \"functional_group\": np.arange(2),\n",
    "    },\n",
    "    attrs={\"units\": \"mg.m-2\"},\n",
    ")\n",
    "prediction_2[\"time\"].attrs[\"axis\"] = \"T\"\n",
    "prediction_2[\"latitude\"].attrs[\"axis\"] = \"Y\"\n",
    "prediction_2[\"longitude\"].attrs[\"axis\"] = \"X\""
   ]
  },
  {
   "cell_type": "code",
   "execution_count": 37,
   "metadata": {},
   "outputs": [],
   "source": [
    "# Create an xarray Dataset with dimensions time, latitude, longitude\n",
    "observation_2 = xr.Dataset(\n",
    "    {\n",
    "        \"day\": ([\"time\", \"latitude\", \"longitude\", \"layer\"], np.ones((2, 1, 1, 1))),\n",
    "        \"night\": ([\"time\", \"latitude\", \"longitude\", \"layer\"], np.ones((2, 1, 1, 1)) * 2),\n",
    "    },\n",
    "    coords={\n",
    "        \"time\": pd.date_range(\"2000-01-01\", periods=2),\n",
    "        \"latitude\": np.arange(1),\n",
    "        \"longitude\": np.arange(1),\n",
    "        \"layer\": np.arange(1),\n",
    "    },\n",
    ")\n",
    "observation_2[\"day\"].attrs[\"units\"] = \"mg.m-2\"\n",
    "observation_2[\"night\"].attrs[\"units\"] = \"mg.m-2\"\n",
    "observation_2[\"time\"].attrs[\"axis\"] = \"T\"\n",
    "observation_2[\"latitude\"].attrs[\"axis\"] = \"Y\"\n",
    "observation_2[\"longitude\"].attrs[\"axis\"] = \"X\"\n",
    "observation_2[\"layer\"].attrs[\"axis\"] = \"Z\""
   ]
  },
  {
   "cell_type": "code",
   "execution_count": 38,
   "metadata": {},
   "outputs": [
    {
     "data": {
      "text/plain": [
       "Observation(name='test_layer_2', observation=<xarray.Dataset> Size: 72B\n",
       "Dimensions:    (time: 2, latitude: 1, longitude: 1, layer: 1)\n",
       "Coordinates:\n",
       "  * latitude   (latitude) int64 8B 0\n",
       "  * longitude  (longitude) int64 8B 0\n",
       "  * layer      (layer) int64 8B 0\n",
       "  * time       (time) datetime64[ns] 16B 2000-01-01 2000-01-02\n",
       "Data variables:\n",
       "    day        (time, latitude, longitude, layer) float64 16B 0.001 0.001\n",
       "    night      (time, latitude, longitude, layer) float64 16B 0.002 0.002, observation_type='daily')"
      ]
     },
     "execution_count": 38,
     "metadata": {},
     "output_type": "execute_result"
    }
   ],
   "source": [
    "obs_2 = Observation(\n",
    "    name=\"test_layer_2\",\n",
    "    observation_type=\"daily\",\n",
    "    observation=observation_2,\n",
    ")\n",
    "obs_2"
   ]
  },
  {
   "cell_type": "code",
   "execution_count": 39,
   "metadata": {},
   "outputs": [
    {
     "data": {
      "text/plain": [
       "(0.0, 0.0)"
      ]
     },
     "execution_count": 39,
     "metadata": {},
     "output_type": "execute_result"
    }
   ],
   "source": [
    "obs_2.mean_square_error(predicted=prediction_2, day_layer=[0, 1], night_layer=[0, 0])"
   ]
  },
  {
   "cell_type": "code",
   "execution_count": null,
   "metadata": {},
   "outputs": [],
   "source": []
  }
 ],
 "metadata": {
  "kernelspec": {
   "display_name": ".venv",
   "language": "python",
   "name": "python3"
  },
  "language_info": {
   "codemirror_mode": {
    "name": "ipython",
    "version": 3
   },
   "file_extension": ".py",
   "mimetype": "text/x-python",
   "name": "python",
   "nbconvert_exporter": "python",
   "pygments_lexer": "ipython3",
   "version": "3.12.8"
  }
 },
 "nbformat": 4,
 "nbformat_minor": 2
}
