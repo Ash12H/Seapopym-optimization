{
 "cells": [
  {
   "cell_type": "code",
   "execution_count": 2,
   "id": "64226a7a",
   "metadata": {},
   "outputs": [],
   "source": [
    "import numpy as np\n",
    "import pandas as pd\n",
    "import xarray as xr\n",
    "from seapopym.configuration.acidity import ForcingParameter\n",
    "from seapopym.configuration.no_transport import ForcingUnit\n",
    "\n",
    "from seapopym_optimization.constraint.energy_transfert_constraint import EnergyCoefficientConstraint\n",
    "from seapopym_optimization.cost_function import SimpleRootMeanSquareErrorCostFunction, TimeSeriesObservation\n",
    "from seapopym_optimization.functional_group import AcidityFunctionalGroup, Parameter\n",
    "from seapopym_optimization.functional_group.base_functional_group import FunctionalGroupSet\n",
    "from seapopym_optimization.genetic_algorithm.simple_genetic_algorithm import (\n",
    "    SimpleGeneticAlgorithm,\n",
    "    SimpleGeneticAlgorithmParameters,\n",
    ")\n",
    "from seapopym_optimization.model_generator import AcidityModelGenerator\n"
   ]
  },
  {
   "cell_type": "code",
   "execution_count": 3,
   "id": "13b82093",
   "metadata": {},
   "outputs": [],
   "source": [
    "import logging\n",
    "\n",
    "logging.basicConfig(level=logging.WARNING, format=\"\\n%(asctime)s - %(name)s - %(levelname)s - %(message)s\")\n",
    "logger = logging.getLogger(\"seapopym_optimization\")\n",
    "logger.setLevel(logging.DEBUG)"
   ]
  },
  {
   "cell_type": "code",
   "execution_count": 4,
   "id": "ae902720",
   "metadata": {},
   "outputs": [],
   "source": [
    "fg1 = AcidityFunctionalGroup(\n",
    "    name=\"FG1\",\n",
    "    day_layer=0,\n",
    "    night_layer=0,\n",
    "    energy_transfert=Parameter(name=\"FG1_energy_transfert\", lower_bound=0, upper_bound=1),\n",
    "    tr_0=Parameter(name=\"tr_0\", lower_bound=0, upper_bound=10),\n",
    "    gamma_tr=Parameter(name=\"gamma_tr\", lower_bound=-1, upper_bound=0),\n",
    "    lambda_temperature_0=Parameter(name=\"lambda_temperature_0\", lower_bound=0, upper_bound=1),\n",
    "    lambda_acidity_0=Parameter(name=\"lambda_acidity_0\", lower_bound=0, upper_bound=1),\n",
    "    gamma_lambda_temperature=Parameter(name=\"gamma_lambda_temperature\", lower_bound=0, upper_bound=1),\n",
    "    gamma_lambda_acidity=Parameter(name=\"gamma_lambda_acidity\", lower_bound=0, upper_bound=1),\n",
    ")\n",
    "\n",
    "fg2 = AcidityFunctionalGroup(\n",
    "    name=\"FG2\",\n",
    "    day_layer=1,\n",
    "    night_layer=1,\n",
    "    energy_transfert=Parameter(name=\"FG2_energy_transfert\", lower_bound=0, upper_bound=1),\n",
    "    tr_0=Parameter(name=\"tr_0\", lower_bound=0, upper_bound=10),\n",
    "    gamma_tr=Parameter(name=\"gamma_tr\", lower_bound=-1, upper_bound=0),\n",
    "    lambda_temperature_0=Parameter(name=\"lambda_temperature_0\", lower_bound=0, upper_bound=1),\n",
    "    lambda_acidity_0=Parameter(name=\"lambda_acidity_0\", lower_bound=0, upper_bound=1),\n",
    "    gamma_lambda_temperature=Parameter(name=\"gamma_lambda_temperature\", lower_bound=0, upper_bound=1),\n",
    "    gamma_lambda_acidity=Parameter(name=\"gamma_lambda_acidity\", lower_bound=0, upper_bound=1),\n",
    ")"
   ]
  },
  {
   "cell_type": "code",
   "execution_count": 5,
   "id": "b70b6061",
   "metadata": {},
   "outputs": [],
   "source": [
    "constraint = EnergyCoefficientConstraint(\n",
    "    parameters_name=[\"FG1_energy_transfert\", \"FG2_energy_transfert\"],\n",
    "    min_energy_coef_value=0,\n",
    "    max_energy_coef_value=1,\n",
    ")"
   ]
  },
  {
   "cell_type": "code",
   "execution_count": 6,
   "id": "c9aac46b",
   "metadata": {},
   "outputs": [],
   "source": [
    "fg_set = FunctionalGroupSet(\n",
    "    functional_groups=[fg1, fg2],\n",
    ")"
   ]
  },
  {
   "cell_type": "code",
   "execution_count": 7,
   "id": "d409fe4a",
   "metadata": {},
   "outputs": [
    {
     "data": {
      "text/plain": [
       "dict_keys(['FG1_energy_transfert', 'lambda_temperature_0', 'gamma_lambda_temperature', 'tr_0', 'gamma_tr', 'lambda_acidity_0', 'gamma_lambda_acidity', 'FG2_energy_transfert'])"
      ]
     },
     "execution_count": 7,
     "metadata": {},
     "output_type": "execute_result"
    }
   ],
   "source": [
    "fg_set.unique_functional_groups_parameters_ordered().keys()"
   ]
  },
  {
   "cell_type": "code",
   "execution_count": 9,
   "id": "7bb5d4fc",
   "metadata": {},
   "outputs": [
    {
     "data": {
      "text/plain": [
       "[{'day_layer': 0,\n",
       "  'night_layer': 0,\n",
       "  'energy_transfert': 1,\n",
       "  'lambda_temperature_0': inf,\n",
       "  'gamma_lambda_temperature': 1,\n",
       "  'tr_0': 1,\n",
       "  'gamma_tr': -1,\n",
       "  'lambda_acidity_0': 1,\n",
       "  'gamma_lambda_acidity': 1},\n",
       " {'day_layer': 1,\n",
       "  'night_layer': 1,\n",
       "  'energy_transfert': 1,\n",
       "  'lambda_temperature_0': inf,\n",
       "  'gamma_lambda_temperature': 1,\n",
       "  'tr_0': 1,\n",
       "  'gamma_tr': -1,\n",
       "  'lambda_acidity_0': 1,\n",
       "  'gamma_lambda_acidity': 1}]"
      ]
     },
     "execution_count": 9,
     "metadata": {},
     "output_type": "execute_result"
    }
   ],
   "source": [
    "parameters_set = [1, np.inf, 1, 1, -1, 1, 1, 1]\n",
    "functional_group_parameters = fg_set.generate(parameters_set)\n",
    "functional_group_parameters"
   ]
  },
  {
   "cell_type": "code",
   "execution_count": 12,
   "id": "85a21944",
   "metadata": {},
   "outputs": [],
   "source": [
    "nb_days = 360\n",
    "temperature = xr.DataArray(\n",
    "    data=np.zeros((nb_days, 1, 1, 2)),\n",
    "    dims=[\"time\", \"latitude\", \"longitude\", \"depth\"],\n",
    "    coords={\n",
    "        \"time\": pd.date_range(\"2023-01-01\", periods=nb_days, freq=\"D\"),\n",
    "        \"latitude\": [0],\n",
    "        \"longitude\": [0],\n",
    "        \"depth\": [0, 1],\n",
    "    },\n",
    "    name=\"temperature\",\n",
    "    attrs={\n",
    "        \"units\": \"Celsius\",\n",
    "        \"long_name\": \"Sea surface temperature\",\n",
    "        \"standard_name\": \"sea_surface_temperature\",\n",
    "    },\n",
    ")\n",
    "acidity = xr.DataArray(\n",
    "    data=np.zeros((nb_days, 1, 1, 2)) * 8,\n",
    "    dims=[\"time\", \"latitude\", \"longitude\", \"depth\"],\n",
    "    coords={\n",
    "        \"time\": pd.date_range(\"2023-01-01\", periods=nb_days, freq=\"D\"),\n",
    "        \"latitude\": [0],\n",
    "        \"longitude\": [0],\n",
    "        \"depth\": [0, 1],\n",
    "    },\n",
    "    name=\"acidity\",\n",
    "    attrs={\n",
    "        \"units\": \"Celsius\",\n",
    "        \"long_name\": \"Sea surface temperature\",\n",
    "        \"standard_name\": \"sea_surface_temperature\",\n",
    "    },\n",
    ")\n",
    "primary_production = xr.DataArray(\n",
    "    data=np.ones((nb_days, 1, 1)),\n",
    "    dims=[\"time\", \"latitude\", \"longitude\"],\n",
    "    coords={\n",
    "        \"time\": pd.date_range(\"2023-01-01\", periods=nb_days, freq=\"D\"),\n",
    "        \"latitude\": [0],\n",
    "        \"longitude\": [0],\n",
    "    },\n",
    "    name=\"primary_production\",\n",
    "    attrs={\n",
    "        \"units\": \"kg/m^2/day\",\n",
    "        \"long_name\": \"Primary production\",\n",
    "        \"standard_name\": \"primary_production\",\n",
    "    },\n",
    ")\n",
    "observation = xr.DataArray(\n",
    "    data=np.ones((nb_days, 1, 1, 2)),\n",
    "    dims=[\"time\", \"latitude\", \"longitude\", \"layer\"],\n",
    "    coords={\n",
    "        \"time\": pd.date_range(\"2023-01-01\", periods=nb_days, freq=\"D\"),\n",
    "        \"latitude\": [0],\n",
    "        \"longitude\": [0],\n",
    "        \"layer\": [0, 1],\n",
    "    },\n",
    "    attrs={\n",
    "        \"units\": \"kg/m^2\",\n",
    "    },\n",
    ")\n",
    "observation.time.attrs = {\"axis\": \"T\"}\n",
    "temperature.time.attrs = {\"axis\": \"T\"}\n",
    "acidity.time.attrs = {\"axis\": \"T\"}\n",
    "primary_production.time.attrs = {\"axis\": \"T\"}\n",
    "\n",
    "observation.latitude.attrs = {\"axis\": \"Y\"}\n",
    "temperature.latitude.attrs = {\"axis\": \"Y\"}\n",
    "acidity.latitude.attrs = {\"axis\": \"Y\"}\n",
    "primary_production.latitude.attrs = {\"axis\": \"Y\"}\n",
    "\n",
    "observation.longitude.attrs = {\"axis\": \"X\"}\n",
    "temperature.longitude.attrs = {\"axis\": \"X\"}\n",
    "acidity.longitude.attrs = {\"axis\": \"X\"}\n",
    "primary_production.longitude.attrs = {\"axis\": \"X\"}\n",
    "\n",
    "observation.layer.attrs = {\"axis\": \"Z\"}\n",
    "temperature.depth.attrs = {\"axis\": \"Z\"}\n",
    "acidity.depth.attrs = {\"axis\": \"Z\"}\n",
    "\n",
    "forcing_parameter = ForcingParameter(\n",
    "    temperature=ForcingUnit(forcing=temperature),\n",
    "    primary_production=ForcingUnit(forcing=primary_production),\n",
    "    acidity=ForcingUnit(forcing=acidity),\n",
    ")\n",
    "with xr.set_options(keep_attrs=True):\n",
    "    observation_2 = observation.sel(layer=[1]) / 2"
   ]
  },
  {
   "cell_type": "code",
   "execution_count": 13,
   "id": "94bce703",
   "metadata": {},
   "outputs": [],
   "source": [
    "observation_1 = TimeSeriesObservation(\n",
    "    name=\"Observation_all\",\n",
    "    observation=observation,\n",
    ")\n",
    "observation_2 = TimeSeriesObservation(\n",
    "    name=\"Observation_meso\",\n",
    "    observation=observation_2,\n",
    ")"
   ]
  },
  {
   "cell_type": "code",
   "execution_count": 14,
   "id": "e3afd22a",
   "metadata": {},
   "outputs": [],
   "source": [
    "model_generator = AcidityModelGenerator(forcing_parameters=forcing_parameter)"
   ]
  },
  {
   "cell_type": "code",
   "execution_count": 15,
   "id": "613d9827",
   "metadata": {},
   "outputs": [],
   "source": [
    "model = model_generator.generate(functional_group_parameters=functional_group_parameters)"
   ]
  },
  {
   "cell_type": "code",
   "execution_count": 16,
   "id": "72c38289",
   "metadata": {},
   "outputs": [
    {
     "data": {
      "text/html": [
       "<div><svg style=\"position: absolute; width: 0; height: 0; overflow: hidden\">\n",
       "<defs>\n",
       "<symbol id=\"icon-database\" viewBox=\"0 0 32 32\">\n",
       "<path d=\"M16 0c-8.837 0-16 2.239-16 5v4c0 2.761 7.163 5 16 5s16-2.239 16-5v-4c0-2.761-7.163-5-16-5z\"></path>\n",
       "<path d=\"M16 17c-8.837 0-16-2.239-16-5v6c0 2.761 7.163 5 16 5s16-2.239 16-5v-6c0 2.761-7.163 5-16 5z\"></path>\n",
       "<path d=\"M16 26c-8.837 0-16-2.239-16-5v6c0 2.761 7.163 5 16 5s16-2.239 16-5v-6c0 2.761-7.163 5-16 5z\"></path>\n",
       "</symbol>\n",
       "<symbol id=\"icon-file-text2\" viewBox=\"0 0 32 32\">\n",
       "<path d=\"M28.681 7.159c-0.694-0.947-1.662-2.053-2.724-3.116s-2.169-2.030-3.116-2.724c-1.612-1.182-2.393-1.319-2.841-1.319h-15.5c-1.378 0-2.5 1.121-2.5 2.5v27c0 1.378 1.122 2.5 2.5 2.5h23c1.378 0 2.5-1.122 2.5-2.5v-19.5c0-0.448-0.137-1.23-1.319-2.841zM24.543 5.457c0.959 0.959 1.712 1.825 2.268 2.543h-4.811v-4.811c0.718 0.556 1.584 1.309 2.543 2.268zM28 29.5c0 0.271-0.229 0.5-0.5 0.5h-23c-0.271 0-0.5-0.229-0.5-0.5v-27c0-0.271 0.229-0.5 0.5-0.5 0 0 15.499-0 15.5 0v7c0 0.552 0.448 1 1 1h7v19.5z\"></path>\n",
       "<path d=\"M23 26h-14c-0.552 0-1-0.448-1-1s0.448-1 1-1h14c0.552 0 1 0.448 1 1s-0.448 1-1 1z\"></path>\n",
       "<path d=\"M23 22h-14c-0.552 0-1-0.448-1-1s0.448-1 1-1h14c0.552 0 1 0.448 1 1s-0.448 1-1 1z\"></path>\n",
       "<path d=\"M23 18h-14c-0.552 0-1-0.448-1-1s0.448-1 1-1h14c0.552 0 1 0.448 1 1s-0.448 1-1 1z\"></path>\n",
       "</symbol>\n",
       "</defs>\n",
       "</svg>\n",
       "<style>/* CSS stylesheet for displaying xarray objects in jupyterlab.\n",
       " *\n",
       " */\n",
       "\n",
       ":root {\n",
       "  --xr-font-color0: var(--jp-content-font-color0, rgba(0, 0, 0, 1));\n",
       "  --xr-font-color2: var(--jp-content-font-color2, rgba(0, 0, 0, 0.54));\n",
       "  --xr-font-color3: var(--jp-content-font-color3, rgba(0, 0, 0, 0.38));\n",
       "  --xr-border-color: var(--jp-border-color2, #e0e0e0);\n",
       "  --xr-disabled-color: var(--jp-layout-color3, #bdbdbd);\n",
       "  --xr-background-color: var(--jp-layout-color0, white);\n",
       "  --xr-background-color-row-even: var(--jp-layout-color1, white);\n",
       "  --xr-background-color-row-odd: var(--jp-layout-color2, #eeeeee);\n",
       "}\n",
       "\n",
       "html[theme=\"dark\"],\n",
       "html[data-theme=\"dark\"],\n",
       "body[data-theme=\"dark\"],\n",
       "body.vscode-dark {\n",
       "  --xr-font-color0: rgba(255, 255, 255, 1);\n",
       "  --xr-font-color2: rgba(255, 255, 255, 0.54);\n",
       "  --xr-font-color3: rgba(255, 255, 255, 0.38);\n",
       "  --xr-border-color: #1f1f1f;\n",
       "  --xr-disabled-color: #515151;\n",
       "  --xr-background-color: #111111;\n",
       "  --xr-background-color-row-even: #111111;\n",
       "  --xr-background-color-row-odd: #313131;\n",
       "}\n",
       "\n",
       ".xr-wrap {\n",
       "  display: block !important;\n",
       "  min-width: 300px;\n",
       "  max-width: 700px;\n",
       "}\n",
       "\n",
       ".xr-text-repr-fallback {\n",
       "  /* fallback to plain text repr when CSS is not injected (untrusted notebook) */\n",
       "  display: none;\n",
       "}\n",
       "\n",
       ".xr-header {\n",
       "  padding-top: 6px;\n",
       "  padding-bottom: 6px;\n",
       "  margin-bottom: 4px;\n",
       "  border-bottom: solid 1px var(--xr-border-color);\n",
       "}\n",
       "\n",
       ".xr-header > div,\n",
       ".xr-header > ul {\n",
       "  display: inline;\n",
       "  margin-top: 0;\n",
       "  margin-bottom: 0;\n",
       "}\n",
       "\n",
       ".xr-obj-type,\n",
       ".xr-array-name {\n",
       "  margin-left: 2px;\n",
       "  margin-right: 10px;\n",
       "}\n",
       "\n",
       ".xr-obj-type {\n",
       "  color: var(--xr-font-color2);\n",
       "}\n",
       "\n",
       ".xr-sections {\n",
       "  padding-left: 0 !important;\n",
       "  display: grid;\n",
       "  grid-template-columns: 150px auto auto 1fr 0 20px 0 20px;\n",
       "}\n",
       "\n",
       ".xr-section-item {\n",
       "  display: contents;\n",
       "}\n",
       "\n",
       ".xr-section-item input {\n",
       "  display: inline-block;\n",
       "  opacity: 0;\n",
       "  height: 0;\n",
       "}\n",
       "\n",
       ".xr-section-item input + label {\n",
       "  color: var(--xr-disabled-color);\n",
       "}\n",
       "\n",
       ".xr-section-item input:enabled + label {\n",
       "  cursor: pointer;\n",
       "  color: var(--xr-font-color2);\n",
       "}\n",
       "\n",
       ".xr-section-item input:focus + label {\n",
       "  border: 2px solid var(--xr-font-color0);\n",
       "}\n",
       "\n",
       ".xr-section-item input:enabled + label:hover {\n",
       "  color: var(--xr-font-color0);\n",
       "}\n",
       "\n",
       ".xr-section-summary {\n",
       "  grid-column: 1;\n",
       "  color: var(--xr-font-color2);\n",
       "  font-weight: 500;\n",
       "}\n",
       "\n",
       ".xr-section-summary > span {\n",
       "  display: inline-block;\n",
       "  padding-left: 0.5em;\n",
       "}\n",
       "\n",
       ".xr-section-summary-in:disabled + label {\n",
       "  color: var(--xr-font-color2);\n",
       "}\n",
       "\n",
       ".xr-section-summary-in + label:before {\n",
       "  display: inline-block;\n",
       "  content: \"►\";\n",
       "  font-size: 11px;\n",
       "  width: 15px;\n",
       "  text-align: center;\n",
       "}\n",
       "\n",
       ".xr-section-summary-in:disabled + label:before {\n",
       "  color: var(--xr-disabled-color);\n",
       "}\n",
       "\n",
       ".xr-section-summary-in:checked + label:before {\n",
       "  content: \"▼\";\n",
       "}\n",
       "\n",
       ".xr-section-summary-in:checked + label > span {\n",
       "  display: none;\n",
       "}\n",
       "\n",
       ".xr-section-summary,\n",
       ".xr-section-inline-details {\n",
       "  padding-top: 4px;\n",
       "  padding-bottom: 4px;\n",
       "}\n",
       "\n",
       ".xr-section-inline-details {\n",
       "  grid-column: 2 / -1;\n",
       "}\n",
       "\n",
       ".xr-section-details {\n",
       "  display: none;\n",
       "  grid-column: 1 / -1;\n",
       "  margin-bottom: 5px;\n",
       "}\n",
       "\n",
       ".xr-section-summary-in:checked ~ .xr-section-details {\n",
       "  display: contents;\n",
       "}\n",
       "\n",
       ".xr-array-wrap {\n",
       "  grid-column: 1 / -1;\n",
       "  display: grid;\n",
       "  grid-template-columns: 20px auto;\n",
       "}\n",
       "\n",
       ".xr-array-wrap > label {\n",
       "  grid-column: 1;\n",
       "  vertical-align: top;\n",
       "}\n",
       "\n",
       ".xr-preview {\n",
       "  color: var(--xr-font-color3);\n",
       "}\n",
       "\n",
       ".xr-array-preview,\n",
       ".xr-array-data {\n",
       "  padding: 0 5px !important;\n",
       "  grid-column: 2;\n",
       "}\n",
       "\n",
       ".xr-array-data,\n",
       ".xr-array-in:checked ~ .xr-array-preview {\n",
       "  display: none;\n",
       "}\n",
       "\n",
       ".xr-array-in:checked ~ .xr-array-data,\n",
       ".xr-array-preview {\n",
       "  display: inline-block;\n",
       "}\n",
       "\n",
       ".xr-dim-list {\n",
       "  display: inline-block !important;\n",
       "  list-style: none;\n",
       "  padding: 0 !important;\n",
       "  margin: 0;\n",
       "}\n",
       "\n",
       ".xr-dim-list li {\n",
       "  display: inline-block;\n",
       "  padding: 0;\n",
       "  margin: 0;\n",
       "}\n",
       "\n",
       ".xr-dim-list:before {\n",
       "  content: \"(\";\n",
       "}\n",
       "\n",
       ".xr-dim-list:after {\n",
       "  content: \")\";\n",
       "}\n",
       "\n",
       ".xr-dim-list li:not(:last-child):after {\n",
       "  content: \",\";\n",
       "  padding-right: 5px;\n",
       "}\n",
       "\n",
       ".xr-has-index {\n",
       "  font-weight: bold;\n",
       "}\n",
       "\n",
       ".xr-var-list,\n",
       ".xr-var-item {\n",
       "  display: contents;\n",
       "}\n",
       "\n",
       ".xr-var-item > div,\n",
       ".xr-var-item label,\n",
       ".xr-var-item > .xr-var-name span {\n",
       "  background-color: var(--xr-background-color-row-even);\n",
       "  margin-bottom: 0;\n",
       "}\n",
       "\n",
       ".xr-var-item > .xr-var-name:hover span {\n",
       "  padding-right: 5px;\n",
       "}\n",
       "\n",
       ".xr-var-list > li:nth-child(odd) > div,\n",
       ".xr-var-list > li:nth-child(odd) > label,\n",
       ".xr-var-list > li:nth-child(odd) > .xr-var-name span {\n",
       "  background-color: var(--xr-background-color-row-odd);\n",
       "}\n",
       "\n",
       ".xr-var-name {\n",
       "  grid-column: 1;\n",
       "}\n",
       "\n",
       ".xr-var-dims {\n",
       "  grid-column: 2;\n",
       "}\n",
       "\n",
       ".xr-var-dtype {\n",
       "  grid-column: 3;\n",
       "  text-align: right;\n",
       "  color: var(--xr-font-color2);\n",
       "}\n",
       "\n",
       ".xr-var-preview {\n",
       "  grid-column: 4;\n",
       "}\n",
       "\n",
       ".xr-index-preview {\n",
       "  grid-column: 2 / 5;\n",
       "  color: var(--xr-font-color2);\n",
       "}\n",
       "\n",
       ".xr-var-name,\n",
       ".xr-var-dims,\n",
       ".xr-var-dtype,\n",
       ".xr-preview,\n",
       ".xr-attrs dt {\n",
       "  white-space: nowrap;\n",
       "  overflow: hidden;\n",
       "  text-overflow: ellipsis;\n",
       "  padding-right: 10px;\n",
       "}\n",
       "\n",
       ".xr-var-name:hover,\n",
       ".xr-var-dims:hover,\n",
       ".xr-var-dtype:hover,\n",
       ".xr-attrs dt:hover {\n",
       "  overflow: visible;\n",
       "  width: auto;\n",
       "  z-index: 1;\n",
       "}\n",
       "\n",
       ".xr-var-attrs,\n",
       ".xr-var-data,\n",
       ".xr-index-data {\n",
       "  display: none;\n",
       "  background-color: var(--xr-background-color) !important;\n",
       "  padding-bottom: 5px !important;\n",
       "}\n",
       "\n",
       ".xr-var-attrs-in:checked ~ .xr-var-attrs,\n",
       ".xr-var-data-in:checked ~ .xr-var-data,\n",
       ".xr-index-data-in:checked ~ .xr-index-data {\n",
       "  display: block;\n",
       "}\n",
       "\n",
       ".xr-var-data > table {\n",
       "  float: right;\n",
       "}\n",
       "\n",
       ".xr-var-name span,\n",
       ".xr-var-data,\n",
       ".xr-index-name div,\n",
       ".xr-index-data,\n",
       ".xr-attrs {\n",
       "  padding-left: 25px !important;\n",
       "}\n",
       "\n",
       ".xr-attrs,\n",
       ".xr-var-attrs,\n",
       ".xr-var-data,\n",
       ".xr-index-data {\n",
       "  grid-column: 1 / -1;\n",
       "}\n",
       "\n",
       "dl.xr-attrs {\n",
       "  padding: 0;\n",
       "  margin: 0;\n",
       "  display: grid;\n",
       "  grid-template-columns: 125px auto;\n",
       "}\n",
       "\n",
       ".xr-attrs dt,\n",
       ".xr-attrs dd {\n",
       "  padding: 0;\n",
       "  margin: 0;\n",
       "  float: left;\n",
       "  padding-right: 10px;\n",
       "  width: auto;\n",
       "}\n",
       "\n",
       ".xr-attrs dt {\n",
       "  font-weight: normal;\n",
       "  grid-column: 1;\n",
       "}\n",
       "\n",
       ".xr-attrs dt:hover span {\n",
       "  display: inline-block;\n",
       "  background: var(--xr-background-color);\n",
       "  padding-right: 10px;\n",
       "}\n",
       "\n",
       ".xr-attrs dd {\n",
       "  grid-column: 2;\n",
       "  white-space: pre-wrap;\n",
       "  word-break: break-all;\n",
       "}\n",
       "\n",
       ".xr-icon-database,\n",
       ".xr-icon-file-text2,\n",
       ".xr-no-icon {\n",
       "  display: inline-block;\n",
       "  vertical-align: middle;\n",
       "  width: 1em;\n",
       "  height: 1.5em !important;\n",
       "  stroke-width: 0;\n",
       "  stroke: currentColor;\n",
       "  fill: currentColor;\n",
       "}\n",
       "</style><pre class='xr-text-repr-fallback'>&lt;xarray.Dataset&gt; Size: 18kB\n",
       "Dimensions:                     (time: 360, latitude: 1, longitude: 1,\n",
       "                                 depth: 2, functional_group: 2, cohort: 1)\n",
       "Coordinates:\n",
       "  * latitude                    (latitude) int64 8B 0\n",
       "  * longitude                   (longitude) int64 8B 0\n",
       "  * depth                       (depth) int64 16B 0 1\n",
       "  * time                        (time) datetime64[ns] 3kB 2023-01-01 ... 2023...\n",
       "  * cohort                      (cohort) int64 8B 0\n",
       "  * functional_group            (functional_group) int64 16B 0 1\n",
       "Data variables: (12/21)\n",
       "    temperature                 (time, latitude, longitude, depth) float64 6kB ...\n",
       "    primary_production          (time, latitude, longitude) float64 3kB 1.0 ....\n",
       "    acidity                     (time, latitude, longitude, depth) float64 6kB ...\n",
       "    name                        (functional_group) &lt;U7 56B &#x27;Group_0&#x27; &#x27;Group_1&#x27;\n",
       "    energy_transfert            (functional_group) int64 16B 1 1\n",
       "    lambda_temperature_0        (functional_group) float64 16B inf inf\n",
       "    ...                          ...\n",
       "    max_timestep                (functional_group, cohort) int64 16B 1 1\n",
       "    mean_timestep               (functional_group, cohort) float64 16B 1.0 1.0\n",
       "    timestep                    int64 8B 1\n",
       "    angle_horizon_sun           float64 8B 0.0\n",
       "    compute_initial_conditions  bool 1B False\n",
       "    compute_preproduction       bool 1B False</pre><div class='xr-wrap' style='display:none'><div class='xr-header'><div class='xr-obj-type'>xarray.Dataset</div></div><ul class='xr-sections'><li class='xr-section-item'><input id='section-7dfa0d2d-60b8-4e84-9e4b-b29fcc09f5ef' class='xr-section-summary-in' type='checkbox' disabled ><label for='section-7dfa0d2d-60b8-4e84-9e4b-b29fcc09f5ef' class='xr-section-summary'  title='Expand/collapse section'>Dimensions:</label><div class='xr-section-inline-details'><ul class='xr-dim-list'><li><span class='xr-has-index'>time</span>: 360</li><li><span class='xr-has-index'>latitude</span>: 1</li><li><span class='xr-has-index'>longitude</span>: 1</li><li><span class='xr-has-index'>depth</span>: 2</li><li><span class='xr-has-index'>functional_group</span>: 2</li><li><span class='xr-has-index'>cohort</span>: 1</li></ul></div><div class='xr-section-details'></div></li><li class='xr-section-item'><input id='section-392e31ee-08aa-4665-9845-b53e5f27c353' class='xr-section-summary-in' type='checkbox'  checked><label for='section-392e31ee-08aa-4665-9845-b53e5f27c353' class='xr-section-summary' >Coordinates: <span>(6)</span></label><div class='xr-section-inline-details'></div><div class='xr-section-details'><ul class='xr-var-list'><li class='xr-var-item'><div class='xr-var-name'><span class='xr-has-index'>latitude</span></div><div class='xr-var-dims'>(latitude)</div><div class='xr-var-dtype'>int64</div><div class='xr-var-preview xr-preview'>0</div><input id='attrs-29c8ed61-f91d-419c-a745-06cd04c3f4d0' class='xr-var-attrs-in' type='checkbox' ><label for='attrs-29c8ed61-f91d-419c-a745-06cd04c3f4d0' title='Show/Hide attributes'><svg class='icon xr-icon-file-text2'><use xlink:href='#icon-file-text2'></use></svg></label><input id='data-8d7863c0-1247-4637-b47c-41fe6072c657' class='xr-var-data-in' type='checkbox'><label for='data-8d7863c0-1247-4637-b47c-41fe6072c657' title='Show/Hide data repr'><svg class='icon xr-icon-database'><use xlink:href='#icon-database'></use></svg></label><div class='xr-var-attrs'><dl class='xr-attrs'><dt><span>axis :</span></dt><dd>Y</dd></dl></div><div class='xr-var-data'><pre>array([0])</pre></div></li><li class='xr-var-item'><div class='xr-var-name'><span class='xr-has-index'>longitude</span></div><div class='xr-var-dims'>(longitude)</div><div class='xr-var-dtype'>int64</div><div class='xr-var-preview xr-preview'>0</div><input id='attrs-d2ddcdcc-826d-41ee-95d3-9ad6ca90d9f1' class='xr-var-attrs-in' type='checkbox' ><label for='attrs-d2ddcdcc-826d-41ee-95d3-9ad6ca90d9f1' title='Show/Hide attributes'><svg class='icon xr-icon-file-text2'><use xlink:href='#icon-file-text2'></use></svg></label><input id='data-877fea1b-e2a8-44c8-b2ab-c191c57dd8c2' class='xr-var-data-in' type='checkbox'><label for='data-877fea1b-e2a8-44c8-b2ab-c191c57dd8c2' title='Show/Hide data repr'><svg class='icon xr-icon-database'><use xlink:href='#icon-database'></use></svg></label><div class='xr-var-attrs'><dl class='xr-attrs'><dt><span>axis :</span></dt><dd>X</dd></dl></div><div class='xr-var-data'><pre>array([0])</pre></div></li><li class='xr-var-item'><div class='xr-var-name'><span class='xr-has-index'>depth</span></div><div class='xr-var-dims'>(depth)</div><div class='xr-var-dtype'>int64</div><div class='xr-var-preview xr-preview'>0 1</div><input id='attrs-e0eb5186-3fde-45a9-91d1-7786d17ca056' class='xr-var-attrs-in' type='checkbox' ><label for='attrs-e0eb5186-3fde-45a9-91d1-7786d17ca056' title='Show/Hide attributes'><svg class='icon xr-icon-file-text2'><use xlink:href='#icon-file-text2'></use></svg></label><input id='data-80c79b8e-7b88-489e-a2cc-bb9352a5995e' class='xr-var-data-in' type='checkbox'><label for='data-80c79b8e-7b88-489e-a2cc-bb9352a5995e' title='Show/Hide data repr'><svg class='icon xr-icon-database'><use xlink:href='#icon-database'></use></svg></label><div class='xr-var-attrs'><dl class='xr-attrs'><dt><span>axis :</span></dt><dd>Z</dd></dl></div><div class='xr-var-data'><pre>array([0, 1])</pre></div></li><li class='xr-var-item'><div class='xr-var-name'><span class='xr-has-index'>time</span></div><div class='xr-var-dims'>(time)</div><div class='xr-var-dtype'>datetime64[ns]</div><div class='xr-var-preview xr-preview'>2023-01-01 ... 2023-12-26</div><input id='attrs-c8dcc768-0bdf-42a6-83b9-b169b196d804' class='xr-var-attrs-in' type='checkbox' ><label for='attrs-c8dcc768-0bdf-42a6-83b9-b169b196d804' title='Show/Hide attributes'><svg class='icon xr-icon-file-text2'><use xlink:href='#icon-file-text2'></use></svg></label><input id='data-e429968f-34cc-4001-8515-320eb168b416' class='xr-var-data-in' type='checkbox'><label for='data-e429968f-34cc-4001-8515-320eb168b416' title='Show/Hide data repr'><svg class='icon xr-icon-database'><use xlink:href='#icon-database'></use></svg></label><div class='xr-var-attrs'><dl class='xr-attrs'><dt><span>axis :</span></dt><dd>T</dd></dl></div><div class='xr-var-data'><pre>array([&#x27;2023-01-01T00:00:00.000000000&#x27;, &#x27;2023-01-02T00:00:00.000000000&#x27;,\n",
       "       &#x27;2023-01-03T00:00:00.000000000&#x27;, ..., &#x27;2023-12-24T00:00:00.000000000&#x27;,\n",
       "       &#x27;2023-12-25T00:00:00.000000000&#x27;, &#x27;2023-12-26T00:00:00.000000000&#x27;],\n",
       "      shape=(360,), dtype=&#x27;datetime64[ns]&#x27;)</pre></div></li><li class='xr-var-item'><div class='xr-var-name'><span class='xr-has-index'>cohort</span></div><div class='xr-var-dims'>(cohort)</div><div class='xr-var-dtype'>int64</div><div class='xr-var-preview xr-preview'>0</div><input id='attrs-4e7f97a1-077e-4b95-a0b5-144d81ec8738' class='xr-var-attrs-in' type='checkbox' ><label for='attrs-4e7f97a1-077e-4b95-a0b5-144d81ec8738' title='Show/Hide attributes'><svg class='icon xr-icon-file-text2'><use xlink:href='#icon-file-text2'></use></svg></label><input id='data-293a6f44-83e1-4114-ba12-f4a119f63da3' class='xr-var-data-in' type='checkbox'><label for='data-293a6f44-83e1-4114-ba12-f4a119f63da3' title='Show/Hide data repr'><svg class='icon xr-icon-database'><use xlink:href='#icon-database'></use></svg></label><div class='xr-var-attrs'><dl class='xr-attrs'><dt><span>long_name :</span></dt><dd>cohort</dd><dt><span>standard_name :</span></dt><dd>cohort</dd></dl></div><div class='xr-var-data'><pre>array([0])</pre></div></li><li class='xr-var-item'><div class='xr-var-name'><span class='xr-has-index'>functional_group</span></div><div class='xr-var-dims'>(functional_group)</div><div class='xr-var-dtype'>int64</div><div class='xr-var-preview xr-preview'>0 1</div><input id='attrs-ea5ec1ac-8035-4be3-9e4d-e1dcc68e0947' class='xr-var-attrs-in' type='checkbox' ><label for='attrs-ea5ec1ac-8035-4be3-9e4d-e1dcc68e0947' title='Show/Hide attributes'><svg class='icon xr-icon-file-text2'><use xlink:href='#icon-file-text2'></use></svg></label><input id='data-f0f52c45-1785-4847-b489-6b732b551700' class='xr-var-data-in' type='checkbox'><label for='data-f0f52c45-1785-4847-b489-6b732b551700' title='Show/Hide data repr'><svg class='icon xr-icon-database'><use xlink:href='#icon-database'></use></svg></label><div class='xr-var-attrs'><dl class='xr-attrs'><dt><span>flag_values :</span></dt><dd>range(0, 2)</dd><dt><span>flag_meanings :</span></dt><dd>Group_0 Group_1</dd><dt><span>standard_name :</span></dt><dd>functional_group</dd><dt><span>long_name :</span></dt><dd>functional group</dd></dl></div><div class='xr-var-data'><pre>array([0, 1])</pre></div></li></ul></div></li><li class='xr-section-item'><input id='section-328bae61-484a-40a4-a039-9587e6b0f232' class='xr-section-summary-in' type='checkbox'  ><label for='section-328bae61-484a-40a4-a039-9587e6b0f232' class='xr-section-summary' >Data variables: <span>(21)</span></label><div class='xr-section-inline-details'></div><div class='xr-section-details'><ul class='xr-var-list'><li class='xr-var-item'><div class='xr-var-name'><span>temperature</span></div><div class='xr-var-dims'>(time, latitude, longitude, depth)</div><div class='xr-var-dtype'>float64</div><div class='xr-var-preview xr-preview'>0.0 0.0 0.0 0.0 ... 0.0 0.0 0.0 0.0</div><input id='attrs-bf90f48b-8065-4cf9-90c9-4e8cfc80b8ab' class='xr-var-attrs-in' type='checkbox' ><label for='attrs-bf90f48b-8065-4cf9-90c9-4e8cfc80b8ab' title='Show/Hide attributes'><svg class='icon xr-icon-file-text2'><use xlink:href='#icon-file-text2'></use></svg></label><input id='data-db0adc59-8e61-4d01-af9e-2b5a88a39641' class='xr-var-data-in' type='checkbox'><label for='data-db0adc59-8e61-4d01-af9e-2b5a88a39641' title='Show/Hide data repr'><svg class='icon xr-icon-database'><use xlink:href='#icon-database'></use></svg></label><div class='xr-var-attrs'><dl class='xr-attrs'><dt><span>long_name :</span></dt><dd>Sea surface temperature</dd><dt><span>standard_name :</span></dt><dd>sea_surface_temperature</dd><dt><span>units :</span></dt><dd>degree_Celsius</dd></dl></div><div class='xr-var-data'><pre>array([[[[0., 0.]]],\n",
       "\n",
       "\n",
       "       [[[0., 0.]]],\n",
       "\n",
       "\n",
       "       [[[0., 0.]]],\n",
       "\n",
       "\n",
       "       [[[0., 0.]]],\n",
       "\n",
       "\n",
       "       [[[0., 0.]]],\n",
       "\n",
       "\n",
       "       [[[0., 0.]]],\n",
       "\n",
       "\n",
       "       [[[0., 0.]]],\n",
       "\n",
       "...\n",
       "\n",
       "       [[[0., 0.]]],\n",
       "\n",
       "\n",
       "       [[[0., 0.]]],\n",
       "\n",
       "\n",
       "       [[[0., 0.]]],\n",
       "\n",
       "\n",
       "       [[[0., 0.]]],\n",
       "\n",
       "\n",
       "       [[[0., 0.]]],\n",
       "\n",
       "\n",
       "       [[[0., 0.]]],\n",
       "\n",
       "\n",
       "       [[[0., 0.]]]])</pre></div></li><li class='xr-var-item'><div class='xr-var-name'><span>primary_production</span></div><div class='xr-var-dims'>(time, latitude, longitude)</div><div class='xr-var-dtype'>float64</div><div class='xr-var-preview xr-preview'>1.0 1.0 1.0 1.0 ... 1.0 1.0 1.0 1.0</div><input id='attrs-d827ea15-3209-4b77-9e5e-9dd866e7a1a4' class='xr-var-attrs-in' type='checkbox' ><label for='attrs-d827ea15-3209-4b77-9e5e-9dd866e7a1a4' title='Show/Hide attributes'><svg class='icon xr-icon-file-text2'><use xlink:href='#icon-file-text2'></use></svg></label><input id='data-894d1f22-9aad-4bfb-a3d2-8210775ca53d' class='xr-var-data-in' type='checkbox'><label for='data-894d1f22-9aad-4bfb-a3d2-8210775ca53d' title='Show/Hide data repr'><svg class='icon xr-icon-database'><use xlink:href='#icon-database'></use></svg></label><div class='xr-var-attrs'><dl class='xr-attrs'><dt><span>long_name :</span></dt><dd>Primary production</dd><dt><span>standard_name :</span></dt><dd>primary_production</dd><dt><span>units :</span></dt><dd>kilogram / day / meter ** 2</dd></dl></div><div class='xr-var-data'><pre>array([[[1.]],\n",
       "\n",
       "       [[1.]],\n",
       "\n",
       "       [[1.]],\n",
       "\n",
       "       [[1.]],\n",
       "\n",
       "       [[1.]],\n",
       "\n",
       "       [[1.]],\n",
       "\n",
       "       [[1.]],\n",
       "\n",
       "       [[1.]],\n",
       "\n",
       "       [[1.]],\n",
       "\n",
       "       [[1.]],\n",
       "\n",
       "...\n",
       "\n",
       "       [[1.]],\n",
       "\n",
       "       [[1.]],\n",
       "\n",
       "       [[1.]],\n",
       "\n",
       "       [[1.]],\n",
       "\n",
       "       [[1.]],\n",
       "\n",
       "       [[1.]],\n",
       "\n",
       "       [[1.]],\n",
       "\n",
       "       [[1.]],\n",
       "\n",
       "       [[1.]],\n",
       "\n",
       "       [[1.]]])</pre></div></li><li class='xr-var-item'><div class='xr-var-name'><span>acidity</span></div><div class='xr-var-dims'>(time, latitude, longitude, depth)</div><div class='xr-var-dtype'>float64</div><div class='xr-var-preview xr-preview'>0.0 0.0 0.0 0.0 ... 0.0 0.0 0.0 0.0</div><input id='attrs-53811c46-7369-454b-98e5-e428854f943d' class='xr-var-attrs-in' type='checkbox' ><label for='attrs-53811c46-7369-454b-98e5-e428854f943d' title='Show/Hide attributes'><svg class='icon xr-icon-file-text2'><use xlink:href='#icon-file-text2'></use></svg></label><input id='data-18a6408a-e3be-4aa4-b348-6b381b1d46b5' class='xr-var-data-in' type='checkbox'><label for='data-18a6408a-e3be-4aa4-b348-6b381b1d46b5' title='Show/Hide data repr'><svg class='icon xr-icon-database'><use xlink:href='#icon-database'></use></svg></label><div class='xr-var-attrs'><dl class='xr-attrs'><dt><span>long_name :</span></dt><dd>Sea surface temperature</dd><dt><span>standard_name :</span></dt><dd>sea_surface_temperature</dd><dt><span>units :</span></dt><dd>Celsius</dd></dl></div><div class='xr-var-data'><pre>array([[[[0., 0.]]],\n",
       "\n",
       "\n",
       "       [[[0., 0.]]],\n",
       "\n",
       "\n",
       "       [[[0., 0.]]],\n",
       "\n",
       "\n",
       "       [[[0., 0.]]],\n",
       "\n",
       "\n",
       "       [[[0., 0.]]],\n",
       "\n",
       "\n",
       "       [[[0., 0.]]],\n",
       "\n",
       "\n",
       "       [[[0., 0.]]],\n",
       "\n",
       "...\n",
       "\n",
       "       [[[0., 0.]]],\n",
       "\n",
       "\n",
       "       [[[0., 0.]]],\n",
       "\n",
       "\n",
       "       [[[0., 0.]]],\n",
       "\n",
       "\n",
       "       [[[0., 0.]]],\n",
       "\n",
       "\n",
       "       [[[0., 0.]]],\n",
       "\n",
       "\n",
       "       [[[0., 0.]]],\n",
       "\n",
       "\n",
       "       [[[0., 0.]]]])</pre></div></li><li class='xr-var-item'><div class='xr-var-name'><span>name</span></div><div class='xr-var-dims'>(functional_group)</div><div class='xr-var-dtype'>&lt;U7</div><div class='xr-var-preview xr-preview'>&#x27;Group_0&#x27; &#x27;Group_1&#x27;</div><input id='attrs-c45a6146-2344-4a60-8a55-1ca6b2024548' class='xr-var-attrs-in' type='checkbox' disabled><label for='attrs-c45a6146-2344-4a60-8a55-1ca6b2024548' title='Show/Hide attributes'><svg class='icon xr-icon-file-text2'><use xlink:href='#icon-file-text2'></use></svg></label><input id='data-64a1eb9c-e58f-4771-a2e7-0c4b37d6ac64' class='xr-var-data-in' type='checkbox'><label for='data-64a1eb9c-e58f-4771-a2e7-0c4b37d6ac64' title='Show/Hide data repr'><svg class='icon xr-icon-database'><use xlink:href='#icon-database'></use></svg></label><div class='xr-var-attrs'><dl class='xr-attrs'></dl></div><div class='xr-var-data'><pre>array([&#x27;Group_0&#x27;, &#x27;Group_1&#x27;], dtype=&#x27;&lt;U7&#x27;)</pre></div></li><li class='xr-var-item'><div class='xr-var-name'><span>energy_transfert</span></div><div class='xr-var-dims'>(functional_group)</div><div class='xr-var-dtype'>int64</div><div class='xr-var-preview xr-preview'>1 1</div><input id='attrs-853c6bc9-cd0d-420d-92b7-5d288f8f4f07' class='xr-var-attrs-in' type='checkbox' ><label for='attrs-853c6bc9-cd0d-420d-92b7-5d288f8f4f07' title='Show/Hide attributes'><svg class='icon xr-icon-file-text2'><use xlink:href='#icon-file-text2'></use></svg></label><input id='data-5cc5eb49-5620-4630-beb0-158dc6bb7f2e' class='xr-var-data-in' type='checkbox'><label for='data-5cc5eb49-5620-4630-beb0-158dc6bb7f2e' title='Show/Hide data repr'><svg class='icon xr-icon-database'><use xlink:href='#icon-database'></use></svg></label><div class='xr-var-attrs'><dl class='xr-attrs'><dt><span>units :</span></dt><dd>dimensionless</dd></dl></div><div class='xr-var-data'><pre>array([1, 1])</pre></div></li><li class='xr-var-item'><div class='xr-var-name'><span>lambda_temperature_0</span></div><div class='xr-var-dims'>(functional_group)</div><div class='xr-var-dtype'>float64</div><div class='xr-var-preview xr-preview'>inf inf</div><input id='attrs-8f88db02-6020-46db-af61-5ec722049e2d' class='xr-var-attrs-in' type='checkbox' ><label for='attrs-8f88db02-6020-46db-af61-5ec722049e2d' title='Show/Hide attributes'><svg class='icon xr-icon-file-text2'><use xlink:href='#icon-file-text2'></use></svg></label><input id='data-314fd397-9774-4edc-811f-b238ded21388' class='xr-var-data-in' type='checkbox'><label for='data-314fd397-9774-4edc-811f-b238ded21388' title='Show/Hide data repr'><svg class='icon xr-icon-database'><use xlink:href='#icon-database'></use></svg></label><div class='xr-var-attrs'><dl class='xr-attrs'><dt><span>units :</span></dt><dd>1 / day</dd></dl></div><div class='xr-var-data'><pre>array([inf, inf])</pre></div></li><li class='xr-var-item'><div class='xr-var-name'><span>gamma_lambda_temperature</span></div><div class='xr-var-dims'>(functional_group)</div><div class='xr-var-dtype'>int64</div><div class='xr-var-preview xr-preview'>1 1</div><input id='attrs-0d4c88b7-4800-4c67-b0bd-362663d35c44' class='xr-var-attrs-in' type='checkbox' ><label for='attrs-0d4c88b7-4800-4c67-b0bd-362663d35c44' title='Show/Hide attributes'><svg class='icon xr-icon-file-text2'><use xlink:href='#icon-file-text2'></use></svg></label><input id='data-8c51066a-a0b3-49a7-ae84-158705bdfab4' class='xr-var-data-in' type='checkbox'><label for='data-8c51066a-a0b3-49a7-ae84-158705bdfab4' title='Show/Hide data repr'><svg class='icon xr-icon-database'><use xlink:href='#icon-database'></use></svg></label><div class='xr-var-attrs'><dl class='xr-attrs'><dt><span>units :</span></dt><dd>1 / delta_degree_Celsius</dd></dl></div><div class='xr-var-data'><pre>array([1, 1])</pre></div></li><li class='xr-var-item'><div class='xr-var-name'><span>tr_0</span></div><div class='xr-var-dims'>(functional_group)</div><div class='xr-var-dtype'>int64</div><div class='xr-var-preview xr-preview'>1 1</div><input id='attrs-ff1c9e38-cd18-45f3-813e-7094e539a4aa' class='xr-var-attrs-in' type='checkbox' ><label for='attrs-ff1c9e38-cd18-45f3-813e-7094e539a4aa' title='Show/Hide attributes'><svg class='icon xr-icon-file-text2'><use xlink:href='#icon-file-text2'></use></svg></label><input id='data-34b8a770-dd5c-4ec5-a1cf-6644dbb6764a' class='xr-var-data-in' type='checkbox'><label for='data-34b8a770-dd5c-4ec5-a1cf-6644dbb6764a' title='Show/Hide data repr'><svg class='icon xr-icon-database'><use xlink:href='#icon-database'></use></svg></label><div class='xr-var-attrs'><dl class='xr-attrs'><dt><span>units :</span></dt><dd>day</dd></dl></div><div class='xr-var-data'><pre>array([1, 1])</pre></div></li><li class='xr-var-item'><div class='xr-var-name'><span>gamma_tr</span></div><div class='xr-var-dims'>(functional_group)</div><div class='xr-var-dtype'>int64</div><div class='xr-var-preview xr-preview'>-1 -1</div><input id='attrs-05790d9c-f06d-4a0e-8d76-8a92f74a90ec' class='xr-var-attrs-in' type='checkbox' ><label for='attrs-05790d9c-f06d-4a0e-8d76-8a92f74a90ec' title='Show/Hide attributes'><svg class='icon xr-icon-file-text2'><use xlink:href='#icon-file-text2'></use></svg></label><input id='data-a10e0cb4-a602-409a-8267-b97bd0517c60' class='xr-var-data-in' type='checkbox'><label for='data-a10e0cb4-a602-409a-8267-b97bd0517c60' title='Show/Hide data repr'><svg class='icon xr-icon-database'><use xlink:href='#icon-database'></use></svg></label><div class='xr-var-attrs'><dl class='xr-attrs'><dt><span>units :</span></dt><dd>1 / delta_degree_Celsius</dd></dl></div><div class='xr-var-data'><pre>array([-1, -1])</pre></div></li><li class='xr-var-item'><div class='xr-var-name'><span>lambda_acidity_0</span></div><div class='xr-var-dims'>(functional_group)</div><div class='xr-var-dtype'>float64</div><div class='xr-var-preview xr-preview'>1.0 1.0</div><input id='attrs-3c30e4bf-df45-4e3b-a64a-da943b700641' class='xr-var-attrs-in' type='checkbox' disabled><label for='attrs-3c30e4bf-df45-4e3b-a64a-da943b700641' title='Show/Hide attributes'><svg class='icon xr-icon-file-text2'><use xlink:href='#icon-file-text2'></use></svg></label><input id='data-4103a2d8-5076-4636-b708-5975497018e7' class='xr-var-data-in' type='checkbox'><label for='data-4103a2d8-5076-4636-b708-5975497018e7' title='Show/Hide data repr'><svg class='icon xr-icon-database'><use xlink:href='#icon-database'></use></svg></label><div class='xr-var-attrs'><dl class='xr-attrs'></dl></div><div class='xr-var-data'><pre>array([1., 1.])</pre></div></li><li class='xr-var-item'><div class='xr-var-name'><span>gamma_lambda_acidity</span></div><div class='xr-var-dims'>(functional_group)</div><div class='xr-var-dtype'>float64</div><div class='xr-var-preview xr-preview'>1.0 1.0</div><input id='attrs-11f344c8-a88c-44dd-a06d-69963c5cb10e' class='xr-var-attrs-in' type='checkbox' disabled><label for='attrs-11f344c8-a88c-44dd-a06d-69963c5cb10e' title='Show/Hide attributes'><svg class='icon xr-icon-file-text2'><use xlink:href='#icon-file-text2'></use></svg></label><input id='data-99b8ce84-4836-40fa-8ab9-11968e19d064' class='xr-var-data-in' type='checkbox'><label for='data-99b8ce84-4836-40fa-8ab9-11968e19d064' title='Show/Hide data repr'><svg class='icon xr-icon-database'><use xlink:href='#icon-database'></use></svg></label><div class='xr-var-attrs'><dl class='xr-attrs'></dl></div><div class='xr-var-data'><pre>array([1., 1.])</pre></div></li><li class='xr-var-item'><div class='xr-var-name'><span>day_layer</span></div><div class='xr-var-dims'>(functional_group)</div><div class='xr-var-dtype'>int64</div><div class='xr-var-preview xr-preview'>0 1</div><input id='attrs-2e69e5da-1322-48aa-b008-1c1df6f11546' class='xr-var-attrs-in' type='checkbox' disabled><label for='attrs-2e69e5da-1322-48aa-b008-1c1df6f11546' title='Show/Hide attributes'><svg class='icon xr-icon-file-text2'><use xlink:href='#icon-file-text2'></use></svg></label><input id='data-780e704a-95d1-4137-9833-b566046a4a3b' class='xr-var-data-in' type='checkbox'><label for='data-780e704a-95d1-4137-9833-b566046a4a3b' title='Show/Hide data repr'><svg class='icon xr-icon-database'><use xlink:href='#icon-database'></use></svg></label><div class='xr-var-attrs'><dl class='xr-attrs'></dl></div><div class='xr-var-data'><pre>array([0, 1])</pre></div></li><li class='xr-var-item'><div class='xr-var-name'><span>night_layer</span></div><div class='xr-var-dims'>(functional_group)</div><div class='xr-var-dtype'>int64</div><div class='xr-var-preview xr-preview'>0 1</div><input id='attrs-2cab767b-6a33-4f37-bcc8-ac345ec041a8' class='xr-var-attrs-in' type='checkbox' disabled><label for='attrs-2cab767b-6a33-4f37-bcc8-ac345ec041a8' title='Show/Hide attributes'><svg class='icon xr-icon-file-text2'><use xlink:href='#icon-file-text2'></use></svg></label><input id='data-17ae6fbe-7e4f-4ed1-a992-041904333eb2' class='xr-var-data-in' type='checkbox'><label for='data-17ae6fbe-7e4f-4ed1-a992-041904333eb2' title='Show/Hide data repr'><svg class='icon xr-icon-database'><use xlink:href='#icon-database'></use></svg></label><div class='xr-var-attrs'><dl class='xr-attrs'></dl></div><div class='xr-var-data'><pre>array([0, 1])</pre></div></li><li class='xr-var-item'><div class='xr-var-name'><span>timesteps_number</span></div><div class='xr-var-dims'>(functional_group, cohort)</div><div class='xr-var-dtype'>int64</div><div class='xr-var-preview xr-preview'>1 1</div><input id='attrs-149b97b5-67b7-410b-8286-e18e610d21ac' class='xr-var-attrs-in' type='checkbox' ><label for='attrs-149b97b5-67b7-410b-8286-e18e610d21ac' title='Show/Hide attributes'><svg class='icon xr-icon-file-text2'><use xlink:href='#icon-file-text2'></use></svg></label><input id='data-786c8eaa-33f3-409b-a168-488f18cc4c00' class='xr-var-data-in' type='checkbox'><label for='data-786c8eaa-33f3-409b-a168-488f18cc4c00' title='Show/Hide data repr'><svg class='icon xr-icon-database'><use xlink:href='#icon-database'></use></svg></label><div class='xr-var-attrs'><dl class='xr-attrs'><dt><span>description :</span></dt><dd>The number of timesteps represented in the cohort. If there is no aggregation, all values are equal to 1.</dd><dt><span>units :</span></dt><dd>day</dd></dl></div><div class='xr-var-data'><pre>array([[1],\n",
       "       [1]])</pre></div></li><li class='xr-var-item'><div class='xr-var-name'><span>min_timestep</span></div><div class='xr-var-dims'>(functional_group, cohort)</div><div class='xr-var-dtype'>int64</div><div class='xr-var-preview xr-preview'>1 1</div><input id='attrs-4ae917a8-4079-4bcd-825b-d2417d433e23' class='xr-var-attrs-in' type='checkbox' ><label for='attrs-4ae917a8-4079-4bcd-825b-d2417d433e23' title='Show/Hide attributes'><svg class='icon xr-icon-file-text2'><use xlink:href='#icon-file-text2'></use></svg></label><input id='data-7be71203-6ef5-4d47-9040-1b9efa6420ad' class='xr-var-data-in' type='checkbox'><label for='data-7be71203-6ef5-4d47-9040-1b9efa6420ad' title='Show/Hide data repr'><svg class='icon xr-icon-database'><use xlink:href='#icon-database'></use></svg></label><div class='xr-var-attrs'><dl class='xr-attrs'><dt><span>description :</span></dt><dd>The minimum timestep index.</dd><dt><span>units :</span></dt><dd>day</dd></dl></div><div class='xr-var-data'><pre>array([[1],\n",
       "       [1]])</pre></div></li><li class='xr-var-item'><div class='xr-var-name'><span>max_timestep</span></div><div class='xr-var-dims'>(functional_group, cohort)</div><div class='xr-var-dtype'>int64</div><div class='xr-var-preview xr-preview'>1 1</div><input id='attrs-755ab770-d4a5-4b56-ba44-afb9ed7264ce' class='xr-var-attrs-in' type='checkbox' ><label for='attrs-755ab770-d4a5-4b56-ba44-afb9ed7264ce' title='Show/Hide attributes'><svg class='icon xr-icon-file-text2'><use xlink:href='#icon-file-text2'></use></svg></label><input id='data-38d23a17-9bab-4fce-865b-6a90c97d7efd' class='xr-var-data-in' type='checkbox'><label for='data-38d23a17-9bab-4fce-865b-6a90c97d7efd' title='Show/Hide data repr'><svg class='icon xr-icon-database'><use xlink:href='#icon-database'></use></svg></label><div class='xr-var-attrs'><dl class='xr-attrs'><dt><span>description :</span></dt><dd>The maximum timestep index.</dd><dt><span>units :</span></dt><dd>day</dd></dl></div><div class='xr-var-data'><pre>array([[1],\n",
       "       [1]])</pre></div></li><li class='xr-var-item'><div class='xr-var-name'><span>mean_timestep</span></div><div class='xr-var-dims'>(functional_group, cohort)</div><div class='xr-var-dtype'>float64</div><div class='xr-var-preview xr-preview'>1.0 1.0</div><input id='attrs-dc20fca4-92e4-4cbe-8d1f-9dc66dc97ef5' class='xr-var-attrs-in' type='checkbox' ><label for='attrs-dc20fca4-92e4-4cbe-8d1f-9dc66dc97ef5' title='Show/Hide attributes'><svg class='icon xr-icon-file-text2'><use xlink:href='#icon-file-text2'></use></svg></label><input id='data-8f1b73f1-873d-4296-a22e-d2654773e13d' class='xr-var-data-in' type='checkbox'><label for='data-8f1b73f1-873d-4296-a22e-d2654773e13d' title='Show/Hide data repr'><svg class='icon xr-icon-database'><use xlink:href='#icon-database'></use></svg></label><div class='xr-var-attrs'><dl class='xr-attrs'><dt><span>description :</span></dt><dd>The mean timestep index.</dd><dt><span>units :</span></dt><dd>day</dd></dl></div><div class='xr-var-data'><pre>array([[1.],\n",
       "       [1.]])</pre></div></li><li class='xr-var-item'><div class='xr-var-name'><span>timestep</span></div><div class='xr-var-dims'>()</div><div class='xr-var-dtype'>int64</div><div class='xr-var-preview xr-preview'>1</div><input id='attrs-4ceaf37b-31b2-454c-8029-4d84ece13bac' class='xr-var-attrs-in' type='checkbox' ><label for='attrs-4ceaf37b-31b2-454c-8029-4d84ece13bac' title='Show/Hide attributes'><svg class='icon xr-icon-file-text2'><use xlink:href='#icon-file-text2'></use></svg></label><input id='data-bcea3217-44f3-4ebb-8674-aab763333f37' class='xr-var-data-in' type='checkbox'><label for='data-bcea3217-44f3-4ebb-8674-aab763333f37' title='Show/Hide data repr'><svg class='icon xr-icon-database'><use xlink:href='#icon-database'></use></svg></label><div class='xr-var-attrs'><dl class='xr-attrs'><dt><span>units :</span></dt><dd>day</dd></dl></div><div class='xr-var-data'><pre>array(1)</pre></div></li><li class='xr-var-item'><div class='xr-var-name'><span>angle_horizon_sun</span></div><div class='xr-var-dims'>()</div><div class='xr-var-dtype'>float64</div><div class='xr-var-preview xr-preview'>0.0</div><input id='attrs-e38fd277-939b-4b81-8eea-d336053837c8' class='xr-var-attrs-in' type='checkbox' disabled><label for='attrs-e38fd277-939b-4b81-8eea-d336053837c8' title='Show/Hide attributes'><svg class='icon xr-icon-file-text2'><use xlink:href='#icon-file-text2'></use></svg></label><input id='data-b4eea629-e216-4e63-b0cc-aff8eaeccff3' class='xr-var-data-in' type='checkbox'><label for='data-b4eea629-e216-4e63-b0cc-aff8eaeccff3' title='Show/Hide data repr'><svg class='icon xr-icon-database'><use xlink:href='#icon-database'></use></svg></label><div class='xr-var-attrs'><dl class='xr-attrs'></dl></div><div class='xr-var-data'><pre>array(0.)</pre></div></li><li class='xr-var-item'><div class='xr-var-name'><span>compute_initial_conditions</span></div><div class='xr-var-dims'>()</div><div class='xr-var-dtype'>bool</div><div class='xr-var-preview xr-preview'>False</div><input id='attrs-2acbb4f1-c963-4847-ac38-fdcfd968f8ff' class='xr-var-attrs-in' type='checkbox' disabled><label for='attrs-2acbb4f1-c963-4847-ac38-fdcfd968f8ff' title='Show/Hide attributes'><svg class='icon xr-icon-file-text2'><use xlink:href='#icon-file-text2'></use></svg></label><input id='data-c576b038-43bc-462a-a140-bc1e5485a4d6' class='xr-var-data-in' type='checkbox'><label for='data-c576b038-43bc-462a-a140-bc1e5485a4d6' title='Show/Hide data repr'><svg class='icon xr-icon-database'><use xlink:href='#icon-database'></use></svg></label><div class='xr-var-attrs'><dl class='xr-attrs'></dl></div><div class='xr-var-data'><pre>array(False)</pre></div></li><li class='xr-var-item'><div class='xr-var-name'><span>compute_preproduction</span></div><div class='xr-var-dims'>()</div><div class='xr-var-dtype'>bool</div><div class='xr-var-preview xr-preview'>False</div><input id='attrs-e4dd874d-e56a-4b13-a355-7098f82c8333' class='xr-var-attrs-in' type='checkbox' disabled><label for='attrs-e4dd874d-e56a-4b13-a355-7098f82c8333' title='Show/Hide attributes'><svg class='icon xr-icon-file-text2'><use xlink:href='#icon-file-text2'></use></svg></label><input id='data-bc1fc61b-0dbe-4052-9af8-5990ae012819' class='xr-var-data-in' type='checkbox'><label for='data-bc1fc61b-0dbe-4052-9af8-5990ae012819' title='Show/Hide data repr'><svg class='icon xr-icon-database'><use xlink:href='#icon-database'></use></svg></label><div class='xr-var-attrs'><dl class='xr-attrs'></dl></div><div class='xr-var-data'><pre>array(False)</pre></div></li></ul></div></li><li class='xr-section-item'><input id='section-0a720aa2-35b2-48d8-b9f8-c20528ecba1d' class='xr-section-summary-in' type='checkbox'  ><label for='section-0a720aa2-35b2-48d8-b9f8-c20528ecba1d' class='xr-section-summary' >Indexes: <span>(6)</span></label><div class='xr-section-inline-details'></div><div class='xr-section-details'><ul class='xr-var-list'><li class='xr-var-item'><div class='xr-index-name'><div>latitude</div></div><div class='xr-index-preview'>PandasIndex</div><input type='checkbox' disabled/><label></label><input id='index-73ef499d-2705-4e5c-aace-a97423444535' class='xr-index-data-in' type='checkbox'/><label for='index-73ef499d-2705-4e5c-aace-a97423444535' title='Show/Hide index repr'><svg class='icon xr-icon-database'><use xlink:href='#icon-database'></use></svg></label><div class='xr-index-data'><pre>PandasIndex(Index([0], dtype=&#x27;int64&#x27;, name=&#x27;latitude&#x27;))</pre></div></li><li class='xr-var-item'><div class='xr-index-name'><div>longitude</div></div><div class='xr-index-preview'>PandasIndex</div><input type='checkbox' disabled/><label></label><input id='index-7188eb5b-fa74-4a9e-a95f-4845308326b5' class='xr-index-data-in' type='checkbox'/><label for='index-7188eb5b-fa74-4a9e-a95f-4845308326b5' title='Show/Hide index repr'><svg class='icon xr-icon-database'><use xlink:href='#icon-database'></use></svg></label><div class='xr-index-data'><pre>PandasIndex(Index([0], dtype=&#x27;int64&#x27;, name=&#x27;longitude&#x27;))</pre></div></li><li class='xr-var-item'><div class='xr-index-name'><div>depth</div></div><div class='xr-index-preview'>PandasIndex</div><input type='checkbox' disabled/><label></label><input id='index-83dec11f-7da3-419d-86b0-1a739c8ba526' class='xr-index-data-in' type='checkbox'/><label for='index-83dec11f-7da3-419d-86b0-1a739c8ba526' title='Show/Hide index repr'><svg class='icon xr-icon-database'><use xlink:href='#icon-database'></use></svg></label><div class='xr-index-data'><pre>PandasIndex(Index([0, 1], dtype=&#x27;int64&#x27;, name=&#x27;depth&#x27;))</pre></div></li><li class='xr-var-item'><div class='xr-index-name'><div>time</div></div><div class='xr-index-preview'>PandasIndex</div><input type='checkbox' disabled/><label></label><input id='index-8349c785-9baa-4bdd-9b81-7dfb0682afa9' class='xr-index-data-in' type='checkbox'/><label for='index-8349c785-9baa-4bdd-9b81-7dfb0682afa9' title='Show/Hide index repr'><svg class='icon xr-icon-database'><use xlink:href='#icon-database'></use></svg></label><div class='xr-index-data'><pre>PandasIndex(DatetimeIndex([&#x27;2023-01-01&#x27;, &#x27;2023-01-02&#x27;, &#x27;2023-01-03&#x27;, &#x27;2023-01-04&#x27;,\n",
       "               &#x27;2023-01-05&#x27;, &#x27;2023-01-06&#x27;, &#x27;2023-01-07&#x27;, &#x27;2023-01-08&#x27;,\n",
       "               &#x27;2023-01-09&#x27;, &#x27;2023-01-10&#x27;,\n",
       "               ...\n",
       "               &#x27;2023-12-17&#x27;, &#x27;2023-12-18&#x27;, &#x27;2023-12-19&#x27;, &#x27;2023-12-20&#x27;,\n",
       "               &#x27;2023-12-21&#x27;, &#x27;2023-12-22&#x27;, &#x27;2023-12-23&#x27;, &#x27;2023-12-24&#x27;,\n",
       "               &#x27;2023-12-25&#x27;, &#x27;2023-12-26&#x27;],\n",
       "              dtype=&#x27;datetime64[ns]&#x27;, name=&#x27;time&#x27;, length=360, freq=&#x27;D&#x27;))</pre></div></li><li class='xr-var-item'><div class='xr-index-name'><div>cohort</div></div><div class='xr-index-preview'>PandasIndex</div><input type='checkbox' disabled/><label></label><input id='index-a5daf05a-435b-485b-9895-1c8dcbe321e9' class='xr-index-data-in' type='checkbox'/><label for='index-a5daf05a-435b-485b-9895-1c8dcbe321e9' title='Show/Hide index repr'><svg class='icon xr-icon-database'><use xlink:href='#icon-database'></use></svg></label><div class='xr-index-data'><pre>PandasIndex(Index([0], dtype=&#x27;int64&#x27;, name=&#x27;cohort&#x27;))</pre></div></li><li class='xr-var-item'><div class='xr-index-name'><div>functional_group</div></div><div class='xr-index-preview'>PandasIndex</div><input type='checkbox' disabled/><label></label><input id='index-63fc5dc6-43d8-45df-9ead-5f30ef1b317e' class='xr-index-data-in' type='checkbox'/><label for='index-63fc5dc6-43d8-45df-9ead-5f30ef1b317e' title='Show/Hide index repr'><svg class='icon xr-icon-database'><use xlink:href='#icon-database'></use></svg></label><div class='xr-index-data'><pre>PandasIndex(Index([0, 1], dtype=&#x27;int64&#x27;, name=&#x27;functional_group&#x27;))</pre></div></li></ul></div></li><li class='xr-section-item'><input id='section-6442666e-3899-45a5-8dbc-740390081bf5' class='xr-section-summary-in' type='checkbox' disabled ><label for='section-6442666e-3899-45a5-8dbc-740390081bf5' class='xr-section-summary'  title='Expand/collapse section'>Attributes: <span>(0)</span></label><div class='xr-section-inline-details'></div><div class='xr-section-details'><dl class='xr-attrs'></dl></div></li></ul></div></div>"
      ],
      "text/plain": [
       "<xarray.Dataset> Size: 18kB\n",
       "Dimensions:                     (time: 360, latitude: 1, longitude: 1,\n",
       "                                 depth: 2, functional_group: 2, cohort: 1)\n",
       "Coordinates:\n",
       "  * latitude                    (latitude) int64 8B 0\n",
       "  * longitude                   (longitude) int64 8B 0\n",
       "  * depth                       (depth) int64 16B 0 1\n",
       "  * time                        (time) datetime64[ns] 3kB 2023-01-01 ... 2023...\n",
       "  * cohort                      (cohort) int64 8B 0\n",
       "  * functional_group            (functional_group) int64 16B 0 1\n",
       "Data variables: (12/21)\n",
       "    temperature                 (time, latitude, longitude, depth) float64 6kB ...\n",
       "    primary_production          (time, latitude, longitude) float64 3kB 1.0 ....\n",
       "    acidity                     (time, latitude, longitude, depth) float64 6kB ...\n",
       "    name                        (functional_group) <U7 56B 'Group_0' 'Group_1'\n",
       "    energy_transfert            (functional_group) int64 16B 1 1\n",
       "    lambda_temperature_0        (functional_group) float64 16B inf inf\n",
       "    ...                          ...\n",
       "    max_timestep                (functional_group, cohort) int64 16B 1 1\n",
       "    mean_timestep               (functional_group, cohort) float64 16B 1.0 1.0\n",
       "    timestep                    int64 8B 1\n",
       "    angle_horizon_sun           float64 8B 0.0\n",
       "    compute_initial_conditions  bool 1B False\n",
       "    compute_preproduction       bool 1B False"
      ]
     },
     "execution_count": 16,
     "metadata": {},
     "output_type": "execute_result"
    }
   ],
   "source": [
    "model.state"
   ]
  },
  {
   "cell_type": "code",
   "execution_count": null,
   "id": "74ccb95e",
   "metadata": {},
   "outputs": [
    {
     "data": {
      "text/plain": [
       "(np.float64(0.0), np.float64(0.5))"
      ]
     },
     "execution_count": 17,
     "metadata": {},
     "output_type": "execute_result"
    }
   ],
   "source": [
    "cost_function = SimpleRootMeanSquareErrorCostFunction(\n",
    "    model_generator=model_generator,\n",
    "    observations=[observation_1, observation_2],\n",
    "    functional_groups=[fg1, fg2],\n",
    "    root_mse=True,\n",
    "    centered_mse=False,\n",
    "    normalized_mse=False,\n",
    ")\n",
    "partial_cost_function = cost_function.generate()\n",
    "partial_cost_function(parameters_set)"
   ]
  },
  {
   "cell_type": "code",
   "execution_count": 18,
   "id": "1b535269",
   "metadata": {},
   "outputs": [],
   "source": [
    "metaparam = SimpleGeneticAlgorithmParameters(\n",
    "    ETA=4, INDPB=0.2, CXPB=0.5, MUTPB=0.2, NGEN=3, POP_SIZE=10, cost_function_weight=(-1, -1)\n",
    ")\n",
    "genetic_algorithm = SimpleGeneticAlgorithm(\n",
    "    meta_parameter=metaparam, cost_function=cost_function, constraint=[constraint]\n",
    ")"
   ]
  },
  {
   "cell_type": "code",
   "execution_count": 19,
   "id": "90a64c6b",
   "metadata": {},
   "outputs": [],
   "source": [
    "viewer = genetic_algorithm.optimize()"
   ]
  },
  {
   "cell_type": "code",
   "execution_count": 20,
   "id": "527682e7",
   "metadata": {},
   "outputs": [
    {
     "data": {
      "text/html": [
       "<div>\n",
       "<style scoped>\n",
       "    .dataframe tbody tr th:only-of-type {\n",
       "        vertical-align: middle;\n",
       "    }\n",
       "\n",
       "    .dataframe tbody tr th {\n",
       "        vertical-align: top;\n",
       "    }\n",
       "\n",
       "    .dataframe thead tr th {\n",
       "        text-align: left;\n",
       "    }\n",
       "\n",
       "    .dataframe thead tr:last-of-type th {\n",
       "        text-align: right;\n",
       "    }\n",
       "</style>\n",
       "<table border=\"1\" class=\"dataframe\">\n",
       "  <thead>\n",
       "    <tr>\n",
       "      <th></th>\n",
       "      <th></th>\n",
       "      <th>category</th>\n",
       "      <th colspan=\"8\" halign=\"left\">Parametre</th>\n",
       "      <th colspan=\"2\" halign=\"left\">Fitness</th>\n",
       "      <th>Weighted_fitness</th>\n",
       "    </tr>\n",
       "    <tr>\n",
       "      <th></th>\n",
       "      <th></th>\n",
       "      <th>name</th>\n",
       "      <th>FG1_energy_transfert</th>\n",
       "      <th>lambda_temperature_0</th>\n",
       "      <th>gamma_lambda_temperature</th>\n",
       "      <th>tr_0</th>\n",
       "      <th>gamma_tr</th>\n",
       "      <th>lambda_acidity_0</th>\n",
       "      <th>gamma_lambda_acidity</th>\n",
       "      <th>FG2_energy_transfert</th>\n",
       "      <th>Observation_all</th>\n",
       "      <th>Observation_meso</th>\n",
       "      <th>Weighted_fitness</th>\n",
       "    </tr>\n",
       "    <tr>\n",
       "      <th>Generation</th>\n",
       "      <th>Is_From_Previous_Generation</th>\n",
       "      <th>Individual</th>\n",
       "      <th></th>\n",
       "      <th></th>\n",
       "      <th></th>\n",
       "      <th></th>\n",
       "      <th></th>\n",
       "      <th></th>\n",
       "      <th></th>\n",
       "      <th></th>\n",
       "      <th></th>\n",
       "      <th></th>\n",
       "      <th></th>\n",
       "    </tr>\n",
       "  </thead>\n",
       "  <tbody>\n",
       "    <tr>\n",
       "      <th rowspan=\"10\" valign=\"top\">0</th>\n",
       "      <th rowspan=\"10\" valign=\"top\">False</th>\n",
       "      <th>0</th>\n",
       "      <td>0.786146</td>\n",
       "      <td>0.876023</td>\n",
       "      <td>0.805319</td>\n",
       "      <td>7.143927</td>\n",
       "      <td>-0.238342</td>\n",
       "      <td>0.124677</td>\n",
       "      <td>0.158086</td>\n",
       "      <td>0.779062</td>\n",
       "      <td>inf</td>\n",
       "      <td>inf</td>\n",
       "      <td>-inf</td>\n",
       "    </tr>\n",
       "    <tr>\n",
       "      <th>1</th>\n",
       "      <td>0.000284</td>\n",
       "      <td>0.399106</td>\n",
       "      <td>0.517218</td>\n",
       "      <td>4.021467</td>\n",
       "      <td>-0.249904</td>\n",
       "      <td>0.344565</td>\n",
       "      <td>0.977414</td>\n",
       "      <td>0.894172</td>\n",
       "      <td>0.865154</td>\n",
       "      <td>1.195490</td>\n",
       "      <td>-1.030322</td>\n",
       "    </tr>\n",
       "    <tr>\n",
       "      <th>2</th>\n",
       "      <td>0.582955</td>\n",
       "      <td>0.071437</td>\n",
       "      <td>0.299954</td>\n",
       "      <td>9.461591</td>\n",
       "      <td>-0.448306</td>\n",
       "      <td>0.392981</td>\n",
       "      <td>0.557609</td>\n",
       "      <td>0.287431</td>\n",
       "      <td>0.455311</td>\n",
       "      <td>0.279976</td>\n",
       "      <td>-0.367644</td>\n",
       "    </tr>\n",
       "    <tr>\n",
       "      <th>3</th>\n",
       "      <td>0.626718</td>\n",
       "      <td>0.045400</td>\n",
       "      <td>0.975150</td>\n",
       "      <td>3.966263</td>\n",
       "      <td>-0.771807</td>\n",
       "      <td>0.343289</td>\n",
       "      <td>0.243944</td>\n",
       "      <td>0.632683</td>\n",
       "      <td>inf</td>\n",
       "      <td>inf</td>\n",
       "      <td>-inf</td>\n",
       "    </tr>\n",
       "    <tr>\n",
       "      <th>4</th>\n",
       "      <td>0.119551</td>\n",
       "      <td>0.489295</td>\n",
       "      <td>0.037271</td>\n",
       "      <td>9.552544</td>\n",
       "      <td>-0.814631</td>\n",
       "      <td>0.937721</td>\n",
       "      <td>0.292654</td>\n",
       "      <td>0.315962</td>\n",
       "      <td>0.733443</td>\n",
       "      <td>0.115156</td>\n",
       "      <td>-0.424300</td>\n",
       "    </tr>\n",
       "    <tr>\n",
       "      <th>5</th>\n",
       "      <td>0.574111</td>\n",
       "      <td>0.441515</td>\n",
       "      <td>0.401801</td>\n",
       "      <td>9.230558</td>\n",
       "      <td>-0.348796</td>\n",
       "      <td>0.252428</td>\n",
       "      <td>0.365294</td>\n",
       "      <td>0.232943</td>\n",
       "      <td>0.419255</td>\n",
       "      <td>0.087742</td>\n",
       "      <td>-0.253498</td>\n",
       "    </tr>\n",
       "    <tr>\n",
       "      <th>6</th>\n",
       "      <td>0.034144</td>\n",
       "      <td>0.757793</td>\n",
       "      <td>0.607417</td>\n",
       "      <td>3.884936</td>\n",
       "      <td>-0.786184</td>\n",
       "      <td>0.945083</td>\n",
       "      <td>0.378396</td>\n",
       "      <td>0.580250</td>\n",
       "      <td>0.711093</td>\n",
       "      <td>0.213231</td>\n",
       "      <td>-0.462162</td>\n",
       "    </tr>\n",
       "    <tr>\n",
       "      <th>7</th>\n",
       "      <td>0.635785</td>\n",
       "      <td>0.070075</td>\n",
       "      <td>0.126621</td>\n",
       "      <td>6.752374</td>\n",
       "      <td>-0.465892</td>\n",
       "      <td>0.995583</td>\n",
       "      <td>0.867272</td>\n",
       "      <td>0.190609</td>\n",
       "      <td>0.514732</td>\n",
       "      <td>0.217756</td>\n",
       "      <td>-0.366244</td>\n",
       "    </tr>\n",
       "    <tr>\n",
       "      <th>8</th>\n",
       "      <td>0.245183</td>\n",
       "      <td>0.322185</td>\n",
       "      <td>0.330291</td>\n",
       "      <td>1.628416</td>\n",
       "      <td>-0.675659</td>\n",
       "      <td>0.689873</td>\n",
       "      <td>0.820443</td>\n",
       "      <td>0.810636</td>\n",
       "      <td>inf</td>\n",
       "      <td>inf</td>\n",
       "      <td>-inf</td>\n",
       "    </tr>\n",
       "    <tr>\n",
       "      <th>9</th>\n",
       "      <td>0.801596</td>\n",
       "      <td>0.979059</td>\n",
       "      <td>0.264739</td>\n",
       "      <td>9.221153</td>\n",
       "      <td>-0.768898</td>\n",
       "      <td>0.128530</td>\n",
       "      <td>0.643500</td>\n",
       "      <td>0.926564</td>\n",
       "      <td>inf</td>\n",
       "      <td>inf</td>\n",
       "      <td>-inf</td>\n",
       "    </tr>\n",
       "    <tr>\n",
       "      <th rowspan=\"10\" valign=\"top\">1</th>\n",
       "      <th rowspan=\"2\" valign=\"top\">False</th>\n",
       "      <th>0</th>\n",
       "      <td>0.000284</td>\n",
       "      <td>0.399106</td>\n",
       "      <td>0.517218</td>\n",
       "      <td>9.552544</td>\n",
       "      <td>-0.249904</td>\n",
       "      <td>0.344565</td>\n",
       "      <td>0.977414</td>\n",
       "      <td>0.894172</td>\n",
       "      <td>0.867179</td>\n",
       "      <td>1.188496</td>\n",
       "      <td>-1.027837</td>\n",
       "    </tr>\n",
       "    <tr>\n",
       "      <th>1</th>\n",
       "      <td>0.119551</td>\n",
       "      <td>0.489295</td>\n",
       "      <td>0.037271</td>\n",
       "      <td>4.021467</td>\n",
       "      <td>-0.814631</td>\n",
       "      <td>0.937721</td>\n",
       "      <td>0.292654</td>\n",
       "      <td>0.315962</td>\n",
       "      <td>0.728939</td>\n",
       "      <td>0.099435</td>\n",
       "      <td>-0.414187</td>\n",
       "    </tr>\n",
       "    <tr>\n",
       "      <th rowspan=\"2\" valign=\"top\">True</th>\n",
       "      <th>2</th>\n",
       "      <td>0.574111</td>\n",
       "      <td>0.441515</td>\n",
       "      <td>0.401801</td>\n",
       "      <td>9.230558</td>\n",
       "      <td>-0.348796</td>\n",
       "      <td>0.252428</td>\n",
       "      <td>0.365294</td>\n",
       "      <td>0.232943</td>\n",
       "      <td>0.419255</td>\n",
       "      <td>0.087742</td>\n",
       "      <td>-0.253498</td>\n",
       "    </tr>\n",
       "    <tr>\n",
       "      <th>3</th>\n",
       "      <td>0.034144</td>\n",
       "      <td>0.757793</td>\n",
       "      <td>0.607417</td>\n",
       "      <td>3.884936</td>\n",
       "      <td>-0.786184</td>\n",
       "      <td>0.945083</td>\n",
       "      <td>0.378396</td>\n",
       "      <td>0.580250</td>\n",
       "      <td>0.711093</td>\n",
       "      <td>0.213231</td>\n",
       "      <td>-0.462162</td>\n",
       "    </tr>\n",
       "    <tr>\n",
       "      <th rowspan=\"2\" valign=\"top\">False</th>\n",
       "      <th>4</th>\n",
       "      <td>0.582955</td>\n",
       "      <td>0.441515</td>\n",
       "      <td>0.994440</td>\n",
       "      <td>9.709629</td>\n",
       "      <td>-0.348796</td>\n",
       "      <td>0.252428</td>\n",
       "      <td>0.557609</td>\n",
       "      <td>0.287431</td>\n",
       "      <td>0.357065</td>\n",
       "      <td>0.108238</td>\n",
       "      <td>-0.232651</td>\n",
       "    </tr>\n",
       "    <tr>\n",
       "      <th>5</th>\n",
       "      <td>0.574111</td>\n",
       "      <td>0.071437</td>\n",
       "      <td>0.299954</td>\n",
       "      <td>9.461591</td>\n",
       "      <td>-0.448306</td>\n",
       "      <td>0.392981</td>\n",
       "      <td>0.365294</td>\n",
       "      <td>0.232943</td>\n",
       "      <td>0.487320</td>\n",
       "      <td>0.148151</td>\n",
       "      <td>-0.317735</td>\n",
       "    </tr>\n",
       "    <tr>\n",
       "      <th rowspan=\"4\" valign=\"top\">True</th>\n",
       "      <th>6</th>\n",
       "      <td>0.582955</td>\n",
       "      <td>0.071437</td>\n",
       "      <td>0.299954</td>\n",
       "      <td>9.461591</td>\n",
       "      <td>-0.448306</td>\n",
       "      <td>0.392981</td>\n",
       "      <td>0.557609</td>\n",
       "      <td>0.287431</td>\n",
       "      <td>0.455311</td>\n",
       "      <td>0.279976</td>\n",
       "      <td>-0.367644</td>\n",
       "    </tr>\n",
       "    <tr>\n",
       "      <th>7</th>\n",
       "      <td>0.582955</td>\n",
       "      <td>0.071437</td>\n",
       "      <td>0.299954</td>\n",
       "      <td>9.461591</td>\n",
       "      <td>-0.448306</td>\n",
       "      <td>0.392981</td>\n",
       "      <td>0.557609</td>\n",
       "      <td>0.287431</td>\n",
       "      <td>0.455311</td>\n",
       "      <td>0.279976</td>\n",
       "      <td>-0.367644</td>\n",
       "    </tr>\n",
       "    <tr>\n",
       "      <th>8</th>\n",
       "      <td>0.034144</td>\n",
       "      <td>0.757793</td>\n",
       "      <td>0.607417</td>\n",
       "      <td>3.884936</td>\n",
       "      <td>-0.786184</td>\n",
       "      <td>0.945083</td>\n",
       "      <td>0.378396</td>\n",
       "      <td>0.580250</td>\n",
       "      <td>0.711093</td>\n",
       "      <td>0.213231</td>\n",
       "      <td>-0.462162</td>\n",
       "    </tr>\n",
       "    <tr>\n",
       "      <th>9</th>\n",
       "      <td>0.582955</td>\n",
       "      <td>0.071437</td>\n",
       "      <td>0.299954</td>\n",
       "      <td>9.461591</td>\n",
       "      <td>-0.448306</td>\n",
       "      <td>0.392981</td>\n",
       "      <td>0.557609</td>\n",
       "      <td>0.287431</td>\n",
       "      <td>0.455311</td>\n",
       "      <td>0.279976</td>\n",
       "      <td>-0.367644</td>\n",
       "    </tr>\n",
       "    <tr>\n",
       "      <th rowspan=\"10\" valign=\"top\">2</th>\n",
       "      <th rowspan=\"2\" valign=\"top\">False</th>\n",
       "      <th>0</th>\n",
       "      <td>0.582955</td>\n",
       "      <td>0.071437</td>\n",
       "      <td>0.299954</td>\n",
       "      <td>9.461591</td>\n",
       "      <td>-0.448306</td>\n",
       "      <td>0.392981</td>\n",
       "      <td>0.557609</td>\n",
       "      <td>0.232943</td>\n",
       "      <td>0.500246</td>\n",
       "      <td>0.148151</td>\n",
       "      <td>-0.324199</td>\n",
       "    </tr>\n",
       "    <tr>\n",
       "      <th>1</th>\n",
       "      <td>0.574111</td>\n",
       "      <td>0.441515</td>\n",
       "      <td>0.401801</td>\n",
       "      <td>9.230558</td>\n",
       "      <td>-0.348796</td>\n",
       "      <td>0.252428</td>\n",
       "      <td>0.365294</td>\n",
       "      <td>0.287431</td>\n",
       "      <td>0.353342</td>\n",
       "      <td>0.108238</td>\n",
       "      <td>-0.230790</td>\n",
       "    </tr>\n",
       "    <tr>\n",
       "      <th rowspan=\"7\" valign=\"top\">True</th>\n",
       "      <th>2</th>\n",
       "      <td>0.574111</td>\n",
       "      <td>0.071437</td>\n",
       "      <td>0.299954</td>\n",
       "      <td>9.461591</td>\n",
       "      <td>-0.448306</td>\n",
       "      <td>0.392981</td>\n",
       "      <td>0.365294</td>\n",
       "      <td>0.232943</td>\n",
       "      <td>0.487320</td>\n",
       "      <td>0.148151</td>\n",
       "      <td>-0.317735</td>\n",
       "    </tr>\n",
       "    <tr>\n",
       "      <th>3</th>\n",
       "      <td>0.582955</td>\n",
       "      <td>0.071437</td>\n",
       "      <td>0.299954</td>\n",
       "      <td>9.461591</td>\n",
       "      <td>-0.448306</td>\n",
       "      <td>0.392981</td>\n",
       "      <td>0.557609</td>\n",
       "      <td>0.287431</td>\n",
       "      <td>0.455311</td>\n",
       "      <td>0.279976</td>\n",
       "      <td>-0.367644</td>\n",
       "    </tr>\n",
       "    <tr>\n",
       "      <th>4</th>\n",
       "      <td>0.582955</td>\n",
       "      <td>0.071437</td>\n",
       "      <td>0.299954</td>\n",
       "      <td>9.461591</td>\n",
       "      <td>-0.448306</td>\n",
       "      <td>0.392981</td>\n",
       "      <td>0.557609</td>\n",
       "      <td>0.287431</td>\n",
       "      <td>0.455311</td>\n",
       "      <td>0.279976</td>\n",
       "      <td>-0.367644</td>\n",
       "    </tr>\n",
       "    <tr>\n",
       "      <th>5</th>\n",
       "      <td>0.574111</td>\n",
       "      <td>0.441515</td>\n",
       "      <td>0.401801</td>\n",
       "      <td>9.230558</td>\n",
       "      <td>-0.348796</td>\n",
       "      <td>0.252428</td>\n",
       "      <td>0.365294</td>\n",
       "      <td>0.232943</td>\n",
       "      <td>0.419255</td>\n",
       "      <td>0.087742</td>\n",
       "      <td>-0.253498</td>\n",
       "    </tr>\n",
       "    <tr>\n",
       "      <th>6</th>\n",
       "      <td>0.574111</td>\n",
       "      <td>0.441515</td>\n",
       "      <td>0.401801</td>\n",
       "      <td>9.230558</td>\n",
       "      <td>-0.348796</td>\n",
       "      <td>0.252428</td>\n",
       "      <td>0.365294</td>\n",
       "      <td>0.232943</td>\n",
       "      <td>0.419255</td>\n",
       "      <td>0.087742</td>\n",
       "      <td>-0.253498</td>\n",
       "    </tr>\n",
       "    <tr>\n",
       "      <th>7</th>\n",
       "      <td>0.582955</td>\n",
       "      <td>0.441515</td>\n",
       "      <td>0.994440</td>\n",
       "      <td>9.709629</td>\n",
       "      <td>-0.348796</td>\n",
       "      <td>0.252428</td>\n",
       "      <td>0.557609</td>\n",
       "      <td>0.287431</td>\n",
       "      <td>0.357065</td>\n",
       "      <td>0.108238</td>\n",
       "      <td>-0.232651</td>\n",
       "    </tr>\n",
       "    <tr>\n",
       "      <th>8</th>\n",
       "      <td>0.582955</td>\n",
       "      <td>0.071437</td>\n",
       "      <td>0.299954</td>\n",
       "      <td>9.461591</td>\n",
       "      <td>-0.448306</td>\n",
       "      <td>0.392981</td>\n",
       "      <td>0.557609</td>\n",
       "      <td>0.287431</td>\n",
       "      <td>0.455311</td>\n",
       "      <td>0.279976</td>\n",
       "      <td>-0.367644</td>\n",
       "    </tr>\n",
       "    <tr>\n",
       "      <th>False</th>\n",
       "      <th>9</th>\n",
       "      <td>0.034144</td>\n",
       "      <td>0.941732</td>\n",
       "      <td>0.607417</td>\n",
       "      <td>3.365698</td>\n",
       "      <td>-0.786184</td>\n",
       "      <td>0.909164</td>\n",
       "      <td>0.378396</td>\n",
       "      <td>0.580250</td>\n",
       "      <td>0.716312</td>\n",
       "      <td>0.192818</td>\n",
       "      <td>-0.454565</td>\n",
       "    </tr>\n",
       "  </tbody>\n",
       "</table>\n",
       "</div>"
      ],
      "text/plain": [
       "category                                                     Parametre  \\\n",
       "name                                              FG1_energy_transfert   \n",
       "Generation Is_From_Previous_Generation Individual                        \n",
       "0          False                       0                      0.786146   \n",
       "                                       1                      0.000284   \n",
       "                                       2                      0.582955   \n",
       "                                       3                      0.626718   \n",
       "                                       4                      0.119551   \n",
       "                                       5                      0.574111   \n",
       "                                       6                      0.034144   \n",
       "                                       7                      0.635785   \n",
       "                                       8                      0.245183   \n",
       "                                       9                      0.801596   \n",
       "1          False                       0                      0.000284   \n",
       "                                       1                      0.119551   \n",
       "           True                        2                      0.574111   \n",
       "                                       3                      0.034144   \n",
       "           False                       4                      0.582955   \n",
       "                                       5                      0.574111   \n",
       "           True                        6                      0.582955   \n",
       "                                       7                      0.582955   \n",
       "                                       8                      0.034144   \n",
       "                                       9                      0.582955   \n",
       "2          False                       0                      0.582955   \n",
       "                                       1                      0.574111   \n",
       "           True                        2                      0.574111   \n",
       "                                       3                      0.582955   \n",
       "                                       4                      0.582955   \n",
       "                                       5                      0.574111   \n",
       "                                       6                      0.574111   \n",
       "                                       7                      0.582955   \n",
       "                                       8                      0.582955   \n",
       "           False                       9                      0.034144   \n",
       "\n",
       "category                                                                \\\n",
       "name                                              lambda_temperature_0   \n",
       "Generation Is_From_Previous_Generation Individual                        \n",
       "0          False                       0                      0.876023   \n",
       "                                       1                      0.399106   \n",
       "                                       2                      0.071437   \n",
       "                                       3                      0.045400   \n",
       "                                       4                      0.489295   \n",
       "                                       5                      0.441515   \n",
       "                                       6                      0.757793   \n",
       "                                       7                      0.070075   \n",
       "                                       8                      0.322185   \n",
       "                                       9                      0.979059   \n",
       "1          False                       0                      0.399106   \n",
       "                                       1                      0.489295   \n",
       "           True                        2                      0.441515   \n",
       "                                       3                      0.757793   \n",
       "           False                       4                      0.441515   \n",
       "                                       5                      0.071437   \n",
       "           True                        6                      0.071437   \n",
       "                                       7                      0.071437   \n",
       "                                       8                      0.757793   \n",
       "                                       9                      0.071437   \n",
       "2          False                       0                      0.071437   \n",
       "                                       1                      0.441515   \n",
       "           True                        2                      0.071437   \n",
       "                                       3                      0.071437   \n",
       "                                       4                      0.071437   \n",
       "                                       5                      0.441515   \n",
       "                                       6                      0.441515   \n",
       "                                       7                      0.441515   \n",
       "                                       8                      0.071437   \n",
       "           False                       9                      0.941732   \n",
       "\n",
       "category                                                                    \\\n",
       "name                                              gamma_lambda_temperature   \n",
       "Generation Is_From_Previous_Generation Individual                            \n",
       "0          False                       0                          0.805319   \n",
       "                                       1                          0.517218   \n",
       "                                       2                          0.299954   \n",
       "                                       3                          0.975150   \n",
       "                                       4                          0.037271   \n",
       "                                       5                          0.401801   \n",
       "                                       6                          0.607417   \n",
       "                                       7                          0.126621   \n",
       "                                       8                          0.330291   \n",
       "                                       9                          0.264739   \n",
       "1          False                       0                          0.517218   \n",
       "                                       1                          0.037271   \n",
       "           True                        2                          0.401801   \n",
       "                                       3                          0.607417   \n",
       "           False                       4                          0.994440   \n",
       "                                       5                          0.299954   \n",
       "           True                        6                          0.299954   \n",
       "                                       7                          0.299954   \n",
       "                                       8                          0.607417   \n",
       "                                       9                          0.299954   \n",
       "2          False                       0                          0.299954   \n",
       "                                       1                          0.401801   \n",
       "           True                        2                          0.299954   \n",
       "                                       3                          0.299954   \n",
       "                                       4                          0.299954   \n",
       "                                       5                          0.401801   \n",
       "                                       6                          0.401801   \n",
       "                                       7                          0.994440   \n",
       "                                       8                          0.299954   \n",
       "           False                       9                          0.607417   \n",
       "\n",
       "category                                                               \\\n",
       "name                                                   tr_0  gamma_tr   \n",
       "Generation Is_From_Previous_Generation Individual                       \n",
       "0          False                       0           7.143927 -0.238342   \n",
       "                                       1           4.021467 -0.249904   \n",
       "                                       2           9.461591 -0.448306   \n",
       "                                       3           3.966263 -0.771807   \n",
       "                                       4           9.552544 -0.814631   \n",
       "                                       5           9.230558 -0.348796   \n",
       "                                       6           3.884936 -0.786184   \n",
       "                                       7           6.752374 -0.465892   \n",
       "                                       8           1.628416 -0.675659   \n",
       "                                       9           9.221153 -0.768898   \n",
       "1          False                       0           9.552544 -0.249904   \n",
       "                                       1           4.021467 -0.814631   \n",
       "           True                        2           9.230558 -0.348796   \n",
       "                                       3           3.884936 -0.786184   \n",
       "           False                       4           9.709629 -0.348796   \n",
       "                                       5           9.461591 -0.448306   \n",
       "           True                        6           9.461591 -0.448306   \n",
       "                                       7           9.461591 -0.448306   \n",
       "                                       8           3.884936 -0.786184   \n",
       "                                       9           9.461591 -0.448306   \n",
       "2          False                       0           9.461591 -0.448306   \n",
       "                                       1           9.230558 -0.348796   \n",
       "           True                        2           9.461591 -0.448306   \n",
       "                                       3           9.461591 -0.448306   \n",
       "                                       4           9.461591 -0.448306   \n",
       "                                       5           9.230558 -0.348796   \n",
       "                                       6           9.230558 -0.348796   \n",
       "                                       7           9.709629 -0.348796   \n",
       "                                       8           9.461591 -0.448306   \n",
       "           False                       9           3.365698 -0.786184   \n",
       "\n",
       "category                                                            \\\n",
       "name                                              lambda_acidity_0   \n",
       "Generation Is_From_Previous_Generation Individual                    \n",
       "0          False                       0                  0.124677   \n",
       "                                       1                  0.344565   \n",
       "                                       2                  0.392981   \n",
       "                                       3                  0.343289   \n",
       "                                       4                  0.937721   \n",
       "                                       5                  0.252428   \n",
       "                                       6                  0.945083   \n",
       "                                       7                  0.995583   \n",
       "                                       8                  0.689873   \n",
       "                                       9                  0.128530   \n",
       "1          False                       0                  0.344565   \n",
       "                                       1                  0.937721   \n",
       "           True                        2                  0.252428   \n",
       "                                       3                  0.945083   \n",
       "           False                       4                  0.252428   \n",
       "                                       5                  0.392981   \n",
       "           True                        6                  0.392981   \n",
       "                                       7                  0.392981   \n",
       "                                       8                  0.945083   \n",
       "                                       9                  0.392981   \n",
       "2          False                       0                  0.392981   \n",
       "                                       1                  0.252428   \n",
       "           True                        2                  0.392981   \n",
       "                                       3                  0.392981   \n",
       "                                       4                  0.392981   \n",
       "                                       5                  0.252428   \n",
       "                                       6                  0.252428   \n",
       "                                       7                  0.252428   \n",
       "                                       8                  0.392981   \n",
       "           False                       9                  0.909164   \n",
       "\n",
       "category                                                                \\\n",
       "name                                              gamma_lambda_acidity   \n",
       "Generation Is_From_Previous_Generation Individual                        \n",
       "0          False                       0                      0.158086   \n",
       "                                       1                      0.977414   \n",
       "                                       2                      0.557609   \n",
       "                                       3                      0.243944   \n",
       "                                       4                      0.292654   \n",
       "                                       5                      0.365294   \n",
       "                                       6                      0.378396   \n",
       "                                       7                      0.867272   \n",
       "                                       8                      0.820443   \n",
       "                                       9                      0.643500   \n",
       "1          False                       0                      0.977414   \n",
       "                                       1                      0.292654   \n",
       "           True                        2                      0.365294   \n",
       "                                       3                      0.378396   \n",
       "           False                       4                      0.557609   \n",
       "                                       5                      0.365294   \n",
       "           True                        6                      0.557609   \n",
       "                                       7                      0.557609   \n",
       "                                       8                      0.378396   \n",
       "                                       9                      0.557609   \n",
       "2          False                       0                      0.557609   \n",
       "                                       1                      0.365294   \n",
       "           True                        2                      0.365294   \n",
       "                                       3                      0.557609   \n",
       "                                       4                      0.557609   \n",
       "                                       5                      0.365294   \n",
       "                                       6                      0.365294   \n",
       "                                       7                      0.557609   \n",
       "                                       8                      0.557609   \n",
       "           False                       9                      0.378396   \n",
       "\n",
       "category                                                                \\\n",
       "name                                              FG2_energy_transfert   \n",
       "Generation Is_From_Previous_Generation Individual                        \n",
       "0          False                       0                      0.779062   \n",
       "                                       1                      0.894172   \n",
       "                                       2                      0.287431   \n",
       "                                       3                      0.632683   \n",
       "                                       4                      0.315962   \n",
       "                                       5                      0.232943   \n",
       "                                       6                      0.580250   \n",
       "                                       7                      0.190609   \n",
       "                                       8                      0.810636   \n",
       "                                       9                      0.926564   \n",
       "1          False                       0                      0.894172   \n",
       "                                       1                      0.315962   \n",
       "           True                        2                      0.232943   \n",
       "                                       3                      0.580250   \n",
       "           False                       4                      0.287431   \n",
       "                                       5                      0.232943   \n",
       "           True                        6                      0.287431   \n",
       "                                       7                      0.287431   \n",
       "                                       8                      0.580250   \n",
       "                                       9                      0.287431   \n",
       "2          False                       0                      0.232943   \n",
       "                                       1                      0.287431   \n",
       "           True                        2                      0.232943   \n",
       "                                       3                      0.287431   \n",
       "                                       4                      0.287431   \n",
       "                                       5                      0.232943   \n",
       "                                       6                      0.232943   \n",
       "                                       7                      0.287431   \n",
       "                                       8                      0.287431   \n",
       "           False                       9                      0.580250   \n",
       "\n",
       "category                                                  Fitness  \\\n",
       "name                                              Observation_all   \n",
       "Generation Is_From_Previous_Generation Individual                   \n",
       "0          False                       0                      inf   \n",
       "                                       1                 0.865154   \n",
       "                                       2                 0.455311   \n",
       "                                       3                      inf   \n",
       "                                       4                 0.733443   \n",
       "                                       5                 0.419255   \n",
       "                                       6                 0.711093   \n",
       "                                       7                 0.514732   \n",
       "                                       8                      inf   \n",
       "                                       9                      inf   \n",
       "1          False                       0                 0.867179   \n",
       "                                       1                 0.728939   \n",
       "           True                        2                 0.419255   \n",
       "                                       3                 0.711093   \n",
       "           False                       4                 0.357065   \n",
       "                                       5                 0.487320   \n",
       "           True                        6                 0.455311   \n",
       "                                       7                 0.455311   \n",
       "                                       8                 0.711093   \n",
       "                                       9                 0.455311   \n",
       "2          False                       0                 0.500246   \n",
       "                                       1                 0.353342   \n",
       "           True                        2                 0.487320   \n",
       "                                       3                 0.455311   \n",
       "                                       4                 0.455311   \n",
       "                                       5                 0.419255   \n",
       "                                       6                 0.419255   \n",
       "                                       7                 0.357065   \n",
       "                                       8                 0.455311   \n",
       "           False                       9                 0.716312   \n",
       "\n",
       "category                                                            \\\n",
       "name                                              Observation_meso   \n",
       "Generation Is_From_Previous_Generation Individual                    \n",
       "0          False                       0                       inf   \n",
       "                                       1                  1.195490   \n",
       "                                       2                  0.279976   \n",
       "                                       3                       inf   \n",
       "                                       4                  0.115156   \n",
       "                                       5                  0.087742   \n",
       "                                       6                  0.213231   \n",
       "                                       7                  0.217756   \n",
       "                                       8                       inf   \n",
       "                                       9                       inf   \n",
       "1          False                       0                  1.188496   \n",
       "                                       1                  0.099435   \n",
       "           True                        2                  0.087742   \n",
       "                                       3                  0.213231   \n",
       "           False                       4                  0.108238   \n",
       "                                       5                  0.148151   \n",
       "           True                        6                  0.279976   \n",
       "                                       7                  0.279976   \n",
       "                                       8                  0.213231   \n",
       "                                       9                  0.279976   \n",
       "2          False                       0                  0.148151   \n",
       "                                       1                  0.108238   \n",
       "           True                        2                  0.148151   \n",
       "                                       3                  0.279976   \n",
       "                                       4                  0.279976   \n",
       "                                       5                  0.087742   \n",
       "                                       6                  0.087742   \n",
       "                                       7                  0.108238   \n",
       "                                       8                  0.279976   \n",
       "           False                       9                  0.192818   \n",
       "\n",
       "category                                          Weighted_fitness  \n",
       "name                                              Weighted_fitness  \n",
       "Generation Is_From_Previous_Generation Individual                   \n",
       "0          False                       0                      -inf  \n",
       "                                       1                 -1.030322  \n",
       "                                       2                 -0.367644  \n",
       "                                       3                      -inf  \n",
       "                                       4                 -0.424300  \n",
       "                                       5                 -0.253498  \n",
       "                                       6                 -0.462162  \n",
       "                                       7                 -0.366244  \n",
       "                                       8                      -inf  \n",
       "                                       9                      -inf  \n",
       "1          False                       0                 -1.027837  \n",
       "                                       1                 -0.414187  \n",
       "           True                        2                 -0.253498  \n",
       "                                       3                 -0.462162  \n",
       "           False                       4                 -0.232651  \n",
       "                                       5                 -0.317735  \n",
       "           True                        6                 -0.367644  \n",
       "                                       7                 -0.367644  \n",
       "                                       8                 -0.462162  \n",
       "                                       9                 -0.367644  \n",
       "2          False                       0                 -0.324199  \n",
       "                                       1                 -0.230790  \n",
       "           True                        2                 -0.317735  \n",
       "                                       3                 -0.367644  \n",
       "                                       4                 -0.367644  \n",
       "                                       5                 -0.253498  \n",
       "                                       6                 -0.253498  \n",
       "                                       7                 -0.232651  \n",
       "                                       8                 -0.367644  \n",
       "           False                       9                 -0.454565  "
      ]
     },
     "execution_count": 20,
     "metadata": {},
     "output_type": "execute_result"
    }
   ],
   "source": [
    "genetic_algorithm.logbook"
   ]
  },
  {
   "cell_type": "code",
   "execution_count": 21,
   "id": "b2f688c6",
   "metadata": {},
   "outputs": [
    {
     "data": {
      "text/html": [
       "<div>\n",
       "<style scoped>\n",
       "    .dataframe tbody tr th:only-of-type {\n",
       "        vertical-align: middle;\n",
       "    }\n",
       "\n",
       "    .dataframe tbody tr th {\n",
       "        vertical-align: top;\n",
       "    }\n",
       "\n",
       "    .dataframe thead tr th {\n",
       "        text-align: left;\n",
       "    }\n",
       "\n",
       "    .dataframe thead tr:last-of-type th {\n",
       "        text-align: right;\n",
       "    }\n",
       "</style>\n",
       "<table border=\"1\" class=\"dataframe\">\n",
       "  <thead>\n",
       "    <tr>\n",
       "      <th></th>\n",
       "      <th></th>\n",
       "      <th>category</th>\n",
       "      <th colspan=\"8\" halign=\"left\">Parametre</th>\n",
       "      <th colspan=\"2\" halign=\"left\">Fitness</th>\n",
       "      <th>Weighted_fitness</th>\n",
       "    </tr>\n",
       "    <tr>\n",
       "      <th></th>\n",
       "      <th></th>\n",
       "      <th>name</th>\n",
       "      <th>FG1_energy_transfert</th>\n",
       "      <th>lambda_temperature_0</th>\n",
       "      <th>gamma_lambda_temperature</th>\n",
       "      <th>tr_0</th>\n",
       "      <th>gamma_tr</th>\n",
       "      <th>lambda_acidity_0</th>\n",
       "      <th>gamma_lambda_acidity</th>\n",
       "      <th>FG2_energy_transfert</th>\n",
       "      <th>Observation_all</th>\n",
       "      <th>Observation_meso</th>\n",
       "      <th>Weighted_fitness</th>\n",
       "    </tr>\n",
       "    <tr>\n",
       "      <th>Generation</th>\n",
       "      <th>Is_From_Previous_Generation</th>\n",
       "      <th>Individual</th>\n",
       "      <th></th>\n",
       "      <th></th>\n",
       "      <th></th>\n",
       "      <th></th>\n",
       "      <th></th>\n",
       "      <th></th>\n",
       "      <th></th>\n",
       "      <th></th>\n",
       "      <th></th>\n",
       "      <th></th>\n",
       "      <th></th>\n",
       "    </tr>\n",
       "  </thead>\n",
       "  <tbody>\n",
       "    <tr>\n",
       "      <th rowspan=\"10\" valign=\"top\">0</th>\n",
       "      <th rowspan=\"10\" valign=\"top\">False</th>\n",
       "      <th>0</th>\n",
       "      <td>0.786146</td>\n",
       "      <td>0.876023</td>\n",
       "      <td>0.805319</td>\n",
       "      <td>7.143927</td>\n",
       "      <td>-0.238342</td>\n",
       "      <td>0.124677</td>\n",
       "      <td>0.158086</td>\n",
       "      <td>0.779062</td>\n",
       "      <td>inf</td>\n",
       "      <td>inf</td>\n",
       "      <td>-inf</td>\n",
       "    </tr>\n",
       "    <tr>\n",
       "      <th>1</th>\n",
       "      <td>0.000284</td>\n",
       "      <td>0.399106</td>\n",
       "      <td>0.517218</td>\n",
       "      <td>4.021467</td>\n",
       "      <td>-0.249904</td>\n",
       "      <td>0.344565</td>\n",
       "      <td>0.977414</td>\n",
       "      <td>0.894172</td>\n",
       "      <td>0.865154</td>\n",
       "      <td>1.195490</td>\n",
       "      <td>-1.030322</td>\n",
       "    </tr>\n",
       "    <tr>\n",
       "      <th>2</th>\n",
       "      <td>0.582955</td>\n",
       "      <td>0.071437</td>\n",
       "      <td>0.299954</td>\n",
       "      <td>9.461591</td>\n",
       "      <td>-0.448306</td>\n",
       "      <td>0.392981</td>\n",
       "      <td>0.557609</td>\n",
       "      <td>0.287431</td>\n",
       "      <td>0.455311</td>\n",
       "      <td>0.279976</td>\n",
       "      <td>-0.367644</td>\n",
       "    </tr>\n",
       "    <tr>\n",
       "      <th>3</th>\n",
       "      <td>0.626718</td>\n",
       "      <td>0.045400</td>\n",
       "      <td>0.975150</td>\n",
       "      <td>3.966263</td>\n",
       "      <td>-0.771807</td>\n",
       "      <td>0.343289</td>\n",
       "      <td>0.243944</td>\n",
       "      <td>0.632683</td>\n",
       "      <td>inf</td>\n",
       "      <td>inf</td>\n",
       "      <td>-inf</td>\n",
       "    </tr>\n",
       "    <tr>\n",
       "      <th>4</th>\n",
       "      <td>0.119551</td>\n",
       "      <td>0.489295</td>\n",
       "      <td>0.037271</td>\n",
       "      <td>9.552544</td>\n",
       "      <td>-0.814631</td>\n",
       "      <td>0.937721</td>\n",
       "      <td>0.292654</td>\n",
       "      <td>0.315962</td>\n",
       "      <td>0.733443</td>\n",
       "      <td>0.115156</td>\n",
       "      <td>-0.424300</td>\n",
       "    </tr>\n",
       "    <tr>\n",
       "      <th>5</th>\n",
       "      <td>0.574111</td>\n",
       "      <td>0.441515</td>\n",
       "      <td>0.401801</td>\n",
       "      <td>9.230558</td>\n",
       "      <td>-0.348796</td>\n",
       "      <td>0.252428</td>\n",
       "      <td>0.365294</td>\n",
       "      <td>0.232943</td>\n",
       "      <td>0.419255</td>\n",
       "      <td>0.087742</td>\n",
       "      <td>-0.253498</td>\n",
       "    </tr>\n",
       "    <tr>\n",
       "      <th>6</th>\n",
       "      <td>0.034144</td>\n",
       "      <td>0.757793</td>\n",
       "      <td>0.607417</td>\n",
       "      <td>3.884936</td>\n",
       "      <td>-0.786184</td>\n",
       "      <td>0.945083</td>\n",
       "      <td>0.378396</td>\n",
       "      <td>0.580250</td>\n",
       "      <td>0.711093</td>\n",
       "      <td>0.213231</td>\n",
       "      <td>-0.462162</td>\n",
       "    </tr>\n",
       "    <tr>\n",
       "      <th>7</th>\n",
       "      <td>0.635785</td>\n",
       "      <td>0.070075</td>\n",
       "      <td>0.126621</td>\n",
       "      <td>6.752374</td>\n",
       "      <td>-0.465892</td>\n",
       "      <td>0.995583</td>\n",
       "      <td>0.867272</td>\n",
       "      <td>0.190609</td>\n",
       "      <td>0.514732</td>\n",
       "      <td>0.217756</td>\n",
       "      <td>-0.366244</td>\n",
       "    </tr>\n",
       "    <tr>\n",
       "      <th>8</th>\n",
       "      <td>0.245183</td>\n",
       "      <td>0.322185</td>\n",
       "      <td>0.330291</td>\n",
       "      <td>1.628416</td>\n",
       "      <td>-0.675659</td>\n",
       "      <td>0.689873</td>\n",
       "      <td>0.820443</td>\n",
       "      <td>0.810636</td>\n",
       "      <td>inf</td>\n",
       "      <td>inf</td>\n",
       "      <td>-inf</td>\n",
       "    </tr>\n",
       "    <tr>\n",
       "      <th>9</th>\n",
       "      <td>0.801596</td>\n",
       "      <td>0.979059</td>\n",
       "      <td>0.264739</td>\n",
       "      <td>9.221153</td>\n",
       "      <td>-0.768898</td>\n",
       "      <td>0.128530</td>\n",
       "      <td>0.643500</td>\n",
       "      <td>0.926564</td>\n",
       "      <td>inf</td>\n",
       "      <td>inf</td>\n",
       "      <td>-inf</td>\n",
       "    </tr>\n",
       "  </tbody>\n",
       "</table>\n",
       "</div>"
      ],
      "text/plain": [
       "category                                                     Parametre  \\\n",
       "name                                              FG1_energy_transfert   \n",
       "Generation Is_From_Previous_Generation Individual                        \n",
       "0          False                       0                      0.786146   \n",
       "                                       1                      0.000284   \n",
       "                                       2                      0.582955   \n",
       "                                       3                      0.626718   \n",
       "                                       4                      0.119551   \n",
       "                                       5                      0.574111   \n",
       "                                       6                      0.034144   \n",
       "                                       7                      0.635785   \n",
       "                                       8                      0.245183   \n",
       "                                       9                      0.801596   \n",
       "\n",
       "category                                                                \\\n",
       "name                                              lambda_temperature_0   \n",
       "Generation Is_From_Previous_Generation Individual                        \n",
       "0          False                       0                      0.876023   \n",
       "                                       1                      0.399106   \n",
       "                                       2                      0.071437   \n",
       "                                       3                      0.045400   \n",
       "                                       4                      0.489295   \n",
       "                                       5                      0.441515   \n",
       "                                       6                      0.757793   \n",
       "                                       7                      0.070075   \n",
       "                                       8                      0.322185   \n",
       "                                       9                      0.979059   \n",
       "\n",
       "category                                                                    \\\n",
       "name                                              gamma_lambda_temperature   \n",
       "Generation Is_From_Previous_Generation Individual                            \n",
       "0          False                       0                          0.805319   \n",
       "                                       1                          0.517218   \n",
       "                                       2                          0.299954   \n",
       "                                       3                          0.975150   \n",
       "                                       4                          0.037271   \n",
       "                                       5                          0.401801   \n",
       "                                       6                          0.607417   \n",
       "                                       7                          0.126621   \n",
       "                                       8                          0.330291   \n",
       "                                       9                          0.264739   \n",
       "\n",
       "category                                                               \\\n",
       "name                                                   tr_0  gamma_tr   \n",
       "Generation Is_From_Previous_Generation Individual                       \n",
       "0          False                       0           7.143927 -0.238342   \n",
       "                                       1           4.021467 -0.249904   \n",
       "                                       2           9.461591 -0.448306   \n",
       "                                       3           3.966263 -0.771807   \n",
       "                                       4           9.552544 -0.814631   \n",
       "                                       5           9.230558 -0.348796   \n",
       "                                       6           3.884936 -0.786184   \n",
       "                                       7           6.752374 -0.465892   \n",
       "                                       8           1.628416 -0.675659   \n",
       "                                       9           9.221153 -0.768898   \n",
       "\n",
       "category                                                            \\\n",
       "name                                              lambda_acidity_0   \n",
       "Generation Is_From_Previous_Generation Individual                    \n",
       "0          False                       0                  0.124677   \n",
       "                                       1                  0.344565   \n",
       "                                       2                  0.392981   \n",
       "                                       3                  0.343289   \n",
       "                                       4                  0.937721   \n",
       "                                       5                  0.252428   \n",
       "                                       6                  0.945083   \n",
       "                                       7                  0.995583   \n",
       "                                       8                  0.689873   \n",
       "                                       9                  0.128530   \n",
       "\n",
       "category                                                                \\\n",
       "name                                              gamma_lambda_acidity   \n",
       "Generation Is_From_Previous_Generation Individual                        \n",
       "0          False                       0                      0.158086   \n",
       "                                       1                      0.977414   \n",
       "                                       2                      0.557609   \n",
       "                                       3                      0.243944   \n",
       "                                       4                      0.292654   \n",
       "                                       5                      0.365294   \n",
       "                                       6                      0.378396   \n",
       "                                       7                      0.867272   \n",
       "                                       8                      0.820443   \n",
       "                                       9                      0.643500   \n",
       "\n",
       "category                                                                \\\n",
       "name                                              FG2_energy_transfert   \n",
       "Generation Is_From_Previous_Generation Individual                        \n",
       "0          False                       0                      0.779062   \n",
       "                                       1                      0.894172   \n",
       "                                       2                      0.287431   \n",
       "                                       3                      0.632683   \n",
       "                                       4                      0.315962   \n",
       "                                       5                      0.232943   \n",
       "                                       6                      0.580250   \n",
       "                                       7                      0.190609   \n",
       "                                       8                      0.810636   \n",
       "                                       9                      0.926564   \n",
       "\n",
       "category                                                  Fitness  \\\n",
       "name                                              Observation_all   \n",
       "Generation Is_From_Previous_Generation Individual                   \n",
       "0          False                       0                      inf   \n",
       "                                       1                 0.865154   \n",
       "                                       2                 0.455311   \n",
       "                                       3                      inf   \n",
       "                                       4                 0.733443   \n",
       "                                       5                 0.419255   \n",
       "                                       6                 0.711093   \n",
       "                                       7                 0.514732   \n",
       "                                       8                      inf   \n",
       "                                       9                      inf   \n",
       "\n",
       "category                                                            \\\n",
       "name                                              Observation_meso   \n",
       "Generation Is_From_Previous_Generation Individual                    \n",
       "0          False                       0                       inf   \n",
       "                                       1                  1.195490   \n",
       "                                       2                  0.279976   \n",
       "                                       3                       inf   \n",
       "                                       4                  0.115156   \n",
       "                                       5                  0.087742   \n",
       "                                       6                  0.213231   \n",
       "                                       7                  0.217756   \n",
       "                                       8                       inf   \n",
       "                                       9                       inf   \n",
       "\n",
       "category                                          Weighted_fitness  \n",
       "name                                              Weighted_fitness  \n",
       "Generation Is_From_Previous_Generation Individual                   \n",
       "0          False                       0                      -inf  \n",
       "                                       1                 -1.030322  \n",
       "                                       2                 -0.367644  \n",
       "                                       3                      -inf  \n",
       "                                       4                 -0.424300  \n",
       "                                       5                 -0.253498  \n",
       "                                       6                 -0.462162  \n",
       "                                       7                 -0.366244  \n",
       "                                       8                      -inf  \n",
       "                                       9                      -inf  "
      ]
     },
     "execution_count": 21,
     "metadata": {},
     "output_type": "execute_result"
    }
   ],
   "source": [
    "unevaluated_logbook = genetic_algorithm.logbook.loc[[0]].copy()\n",
    "unevaluated_logbook"
   ]
  },
  {
   "cell_type": "code",
   "execution_count": 22,
   "id": "c539e8f0",
   "metadata": {},
   "outputs": [
    {
     "data": {
      "text/html": [
       "<div>\n",
       "<style scoped>\n",
       "    .dataframe tbody tr th:only-of-type {\n",
       "        vertical-align: middle;\n",
       "    }\n",
       "\n",
       "    .dataframe tbody tr th {\n",
       "        vertical-align: top;\n",
       "    }\n",
       "\n",
       "    .dataframe thead tr th {\n",
       "        text-align: left;\n",
       "    }\n",
       "\n",
       "    .dataframe thead tr:last-of-type th {\n",
       "        text-align: right;\n",
       "    }\n",
       "</style>\n",
       "<table border=\"1\" class=\"dataframe\">\n",
       "  <thead>\n",
       "    <tr>\n",
       "      <th></th>\n",
       "      <th></th>\n",
       "      <th>category</th>\n",
       "      <th colspan=\"8\" halign=\"left\">Parametre</th>\n",
       "      <th colspan=\"2\" halign=\"left\">Fitness</th>\n",
       "      <th>Weighted_fitness</th>\n",
       "    </tr>\n",
       "    <tr>\n",
       "      <th></th>\n",
       "      <th></th>\n",
       "      <th>name</th>\n",
       "      <th>FG1_energy_transfert</th>\n",
       "      <th>lambda_temperature_0</th>\n",
       "      <th>gamma_lambda_temperature</th>\n",
       "      <th>tr_0</th>\n",
       "      <th>gamma_tr</th>\n",
       "      <th>lambda_acidity_0</th>\n",
       "      <th>gamma_lambda_acidity</th>\n",
       "      <th>FG2_energy_transfert</th>\n",
       "      <th>Observation_all</th>\n",
       "      <th>Observation_meso</th>\n",
       "      <th>Weighted_fitness</th>\n",
       "    </tr>\n",
       "    <tr>\n",
       "      <th>Generation</th>\n",
       "      <th>Is_From_Previous_Generation</th>\n",
       "      <th>Individual</th>\n",
       "      <th></th>\n",
       "      <th></th>\n",
       "      <th></th>\n",
       "      <th></th>\n",
       "      <th></th>\n",
       "      <th></th>\n",
       "      <th></th>\n",
       "      <th></th>\n",
       "      <th></th>\n",
       "      <th></th>\n",
       "      <th></th>\n",
       "    </tr>\n",
       "  </thead>\n",
       "  <tbody>\n",
       "    <tr>\n",
       "      <th rowspan=\"10\" valign=\"top\">0</th>\n",
       "      <th rowspan=\"10\" valign=\"top\">False</th>\n",
       "      <th>0</th>\n",
       "      <td>0.786146</td>\n",
       "      <td>0.876023</td>\n",
       "      <td>0.805319</td>\n",
       "      <td>7.143927</td>\n",
       "      <td>-0.238342</td>\n",
       "      <td>0.124677</td>\n",
       "      <td>0.158086</td>\n",
       "      <td>0.779062</td>\n",
       "      <td>NaN</td>\n",
       "      <td>NaN</td>\n",
       "      <td>NaN</td>\n",
       "    </tr>\n",
       "    <tr>\n",
       "      <th>1</th>\n",
       "      <td>0.000284</td>\n",
       "      <td>0.399106</td>\n",
       "      <td>0.517218</td>\n",
       "      <td>4.021467</td>\n",
       "      <td>-0.249904</td>\n",
       "      <td>0.344565</td>\n",
       "      <td>0.977414</td>\n",
       "      <td>0.894172</td>\n",
       "      <td>NaN</td>\n",
       "      <td>NaN</td>\n",
       "      <td>NaN</td>\n",
       "    </tr>\n",
       "    <tr>\n",
       "      <th>2</th>\n",
       "      <td>0.582955</td>\n",
       "      <td>0.071437</td>\n",
       "      <td>0.299954</td>\n",
       "      <td>9.461591</td>\n",
       "      <td>-0.448306</td>\n",
       "      <td>0.392981</td>\n",
       "      <td>0.557609</td>\n",
       "      <td>0.287431</td>\n",
       "      <td>NaN</td>\n",
       "      <td>NaN</td>\n",
       "      <td>NaN</td>\n",
       "    </tr>\n",
       "    <tr>\n",
       "      <th>3</th>\n",
       "      <td>0.626718</td>\n",
       "      <td>0.045400</td>\n",
       "      <td>0.975150</td>\n",
       "      <td>3.966263</td>\n",
       "      <td>-0.771807</td>\n",
       "      <td>0.343289</td>\n",
       "      <td>0.243944</td>\n",
       "      <td>0.632683</td>\n",
       "      <td>NaN</td>\n",
       "      <td>NaN</td>\n",
       "      <td>NaN</td>\n",
       "    </tr>\n",
       "    <tr>\n",
       "      <th>4</th>\n",
       "      <td>0.119551</td>\n",
       "      <td>0.489295</td>\n",
       "      <td>0.037271</td>\n",
       "      <td>9.552544</td>\n",
       "      <td>-0.814631</td>\n",
       "      <td>0.937721</td>\n",
       "      <td>0.292654</td>\n",
       "      <td>0.315962</td>\n",
       "      <td>NaN</td>\n",
       "      <td>NaN</td>\n",
       "      <td>NaN</td>\n",
       "    </tr>\n",
       "    <tr>\n",
       "      <th>5</th>\n",
       "      <td>0.574111</td>\n",
       "      <td>0.441515</td>\n",
       "      <td>0.401801</td>\n",
       "      <td>9.230558</td>\n",
       "      <td>-0.348796</td>\n",
       "      <td>0.252428</td>\n",
       "      <td>0.365294</td>\n",
       "      <td>0.232943</td>\n",
       "      <td>0.419255</td>\n",
       "      <td>0.087742</td>\n",
       "      <td>-0.253498</td>\n",
       "    </tr>\n",
       "    <tr>\n",
       "      <th>6</th>\n",
       "      <td>0.034144</td>\n",
       "      <td>0.757793</td>\n",
       "      <td>0.607417</td>\n",
       "      <td>3.884936</td>\n",
       "      <td>-0.786184</td>\n",
       "      <td>0.945083</td>\n",
       "      <td>0.378396</td>\n",
       "      <td>0.580250</td>\n",
       "      <td>0.711093</td>\n",
       "      <td>0.213231</td>\n",
       "      <td>-0.462162</td>\n",
       "    </tr>\n",
       "    <tr>\n",
       "      <th>7</th>\n",
       "      <td>0.635785</td>\n",
       "      <td>0.070075</td>\n",
       "      <td>0.126621</td>\n",
       "      <td>6.752374</td>\n",
       "      <td>-0.465892</td>\n",
       "      <td>0.995583</td>\n",
       "      <td>0.867272</td>\n",
       "      <td>0.190609</td>\n",
       "      <td>0.514732</td>\n",
       "      <td>0.217756</td>\n",
       "      <td>-0.366244</td>\n",
       "    </tr>\n",
       "    <tr>\n",
       "      <th>8</th>\n",
       "      <td>0.245183</td>\n",
       "      <td>0.322185</td>\n",
       "      <td>0.330291</td>\n",
       "      <td>1.628416</td>\n",
       "      <td>-0.675659</td>\n",
       "      <td>0.689873</td>\n",
       "      <td>0.820443</td>\n",
       "      <td>0.810636</td>\n",
       "      <td>inf</td>\n",
       "      <td>inf</td>\n",
       "      <td>-inf</td>\n",
       "    </tr>\n",
       "    <tr>\n",
       "      <th>9</th>\n",
       "      <td>0.801596</td>\n",
       "      <td>0.979059</td>\n",
       "      <td>0.264739</td>\n",
       "      <td>9.221153</td>\n",
       "      <td>-0.768898</td>\n",
       "      <td>0.128530</td>\n",
       "      <td>0.643500</td>\n",
       "      <td>0.926564</td>\n",
       "      <td>inf</td>\n",
       "      <td>inf</td>\n",
       "      <td>-inf</td>\n",
       "    </tr>\n",
       "  </tbody>\n",
       "</table>\n",
       "</div>"
      ],
      "text/plain": [
       "category                                                     Parametre  \\\n",
       "name                                              FG1_energy_transfert   \n",
       "Generation Is_From_Previous_Generation Individual                        \n",
       "0          False                       0                      0.786146   \n",
       "                                       1                      0.000284   \n",
       "                                       2                      0.582955   \n",
       "                                       3                      0.626718   \n",
       "                                       4                      0.119551   \n",
       "                                       5                      0.574111   \n",
       "                                       6                      0.034144   \n",
       "                                       7                      0.635785   \n",
       "                                       8                      0.245183   \n",
       "                                       9                      0.801596   \n",
       "\n",
       "category                                                                \\\n",
       "name                                              lambda_temperature_0   \n",
       "Generation Is_From_Previous_Generation Individual                        \n",
       "0          False                       0                      0.876023   \n",
       "                                       1                      0.399106   \n",
       "                                       2                      0.071437   \n",
       "                                       3                      0.045400   \n",
       "                                       4                      0.489295   \n",
       "                                       5                      0.441515   \n",
       "                                       6                      0.757793   \n",
       "                                       7                      0.070075   \n",
       "                                       8                      0.322185   \n",
       "                                       9                      0.979059   \n",
       "\n",
       "category                                                                    \\\n",
       "name                                              gamma_lambda_temperature   \n",
       "Generation Is_From_Previous_Generation Individual                            \n",
       "0          False                       0                          0.805319   \n",
       "                                       1                          0.517218   \n",
       "                                       2                          0.299954   \n",
       "                                       3                          0.975150   \n",
       "                                       4                          0.037271   \n",
       "                                       5                          0.401801   \n",
       "                                       6                          0.607417   \n",
       "                                       7                          0.126621   \n",
       "                                       8                          0.330291   \n",
       "                                       9                          0.264739   \n",
       "\n",
       "category                                                               \\\n",
       "name                                                   tr_0  gamma_tr   \n",
       "Generation Is_From_Previous_Generation Individual                       \n",
       "0          False                       0           7.143927 -0.238342   \n",
       "                                       1           4.021467 -0.249904   \n",
       "                                       2           9.461591 -0.448306   \n",
       "                                       3           3.966263 -0.771807   \n",
       "                                       4           9.552544 -0.814631   \n",
       "                                       5           9.230558 -0.348796   \n",
       "                                       6           3.884936 -0.786184   \n",
       "                                       7           6.752374 -0.465892   \n",
       "                                       8           1.628416 -0.675659   \n",
       "                                       9           9.221153 -0.768898   \n",
       "\n",
       "category                                                            \\\n",
       "name                                              lambda_acidity_0   \n",
       "Generation Is_From_Previous_Generation Individual                    \n",
       "0          False                       0                  0.124677   \n",
       "                                       1                  0.344565   \n",
       "                                       2                  0.392981   \n",
       "                                       3                  0.343289   \n",
       "                                       4                  0.937721   \n",
       "                                       5                  0.252428   \n",
       "                                       6                  0.945083   \n",
       "                                       7                  0.995583   \n",
       "                                       8                  0.689873   \n",
       "                                       9                  0.128530   \n",
       "\n",
       "category                                                                \\\n",
       "name                                              gamma_lambda_acidity   \n",
       "Generation Is_From_Previous_Generation Individual                        \n",
       "0          False                       0                      0.158086   \n",
       "                                       1                      0.977414   \n",
       "                                       2                      0.557609   \n",
       "                                       3                      0.243944   \n",
       "                                       4                      0.292654   \n",
       "                                       5                      0.365294   \n",
       "                                       6                      0.378396   \n",
       "                                       7                      0.867272   \n",
       "                                       8                      0.820443   \n",
       "                                       9                      0.643500   \n",
       "\n",
       "category                                                                \\\n",
       "name                                              FG2_energy_transfert   \n",
       "Generation Is_From_Previous_Generation Individual                        \n",
       "0          False                       0                      0.779062   \n",
       "                                       1                      0.894172   \n",
       "                                       2                      0.287431   \n",
       "                                       3                      0.632683   \n",
       "                                       4                      0.315962   \n",
       "                                       5                      0.232943   \n",
       "                                       6                      0.580250   \n",
       "                                       7                      0.190609   \n",
       "                                       8                      0.810636   \n",
       "                                       9                      0.926564   \n",
       "\n",
       "category                                                  Fitness  \\\n",
       "name                                              Observation_all   \n",
       "Generation Is_From_Previous_Generation Individual                   \n",
       "0          False                       0                      NaN   \n",
       "                                       1                      NaN   \n",
       "                                       2                      NaN   \n",
       "                                       3                      NaN   \n",
       "                                       4                      NaN   \n",
       "                                       5                 0.419255   \n",
       "                                       6                 0.711093   \n",
       "                                       7                 0.514732   \n",
       "                                       8                      inf   \n",
       "                                       9                      inf   \n",
       "\n",
       "category                                                            \\\n",
       "name                                              Observation_meso   \n",
       "Generation Is_From_Previous_Generation Individual                    \n",
       "0          False                       0                       NaN   \n",
       "                                       1                       NaN   \n",
       "                                       2                       NaN   \n",
       "                                       3                       NaN   \n",
       "                                       4                       NaN   \n",
       "                                       5                  0.087742   \n",
       "                                       6                  0.213231   \n",
       "                                       7                  0.217756   \n",
       "                                       8                       inf   \n",
       "                                       9                       inf   \n",
       "\n",
       "category                                          Weighted_fitness  \n",
       "name                                              Weighted_fitness  \n",
       "Generation Is_From_Previous_Generation Individual                   \n",
       "0          False                       0                       NaN  \n",
       "                                       1                       NaN  \n",
       "                                       2                       NaN  \n",
       "                                       3                       NaN  \n",
       "                                       4                       NaN  \n",
       "                                       5                 -0.253498  \n",
       "                                       6                 -0.462162  \n",
       "                                       7                 -0.366244  \n",
       "                                       8                      -inf  \n",
       "                                       9                      -inf  "
      ]
     },
     "execution_count": 22,
     "metadata": {},
     "output_type": "execute_result"
    }
   ],
   "source": [
    "from seapopym_optimization.genetic_algorithm.simple_logbook import Logbook\n",
    "\n",
    "\n",
    "unevaluated_logbook.iloc[:5, -3:] = np.nan\n",
    "unevaluated_logbook = Logbook(unevaluated_logbook)\n",
    "unevaluated_logbook"
   ]
  },
  {
   "cell_type": "code",
   "execution_count": 23,
   "id": "2f0b1f56",
   "metadata": {},
   "outputs": [],
   "source": [
    "new_genetic_algorithm = SimpleGeneticAlgorithm(\n",
    "    meta_parameter=metaparam,\n",
    "    cost_function=cost_function,\n",
    "    constraint=[constraint],\n",
    "    logbook=unevaluated_logbook,\n",
    ")\n"
   ]
  },
  {
   "cell_type": "code",
   "execution_count": 24,
   "id": "15603372",
   "metadata": {},
   "outputs": [
    {
     "name": "stderr",
     "output_type": "stream",
     "text": [
      "\n",
      "2025-06-10 14:01:32,844 - seapopym_optimization.genetic_algorithm.simple_genetic_algorithm - INFO - Logbook found. Loading last generation.\n",
      "\n",
      "2025-06-10 14:01:32,846 - seapopym_optimization.genetic_algorithm.simple_genetic_algorithm - WARNING - Some individuals in the logbook have no fitness values. Re-evaluating the population.\n"
     ]
    }
   ],
   "source": [
    "viewer = new_genetic_algorithm.optimize()"
   ]
  },
  {
   "cell_type": "code",
   "execution_count": 25,
   "id": "b74f0038",
   "metadata": {},
   "outputs": [
    {
     "data": {
      "text/html": [
       "<div>\n",
       "<style scoped>\n",
       "    .dataframe tbody tr th:only-of-type {\n",
       "        vertical-align: middle;\n",
       "    }\n",
       "\n",
       "    .dataframe tbody tr th {\n",
       "        vertical-align: top;\n",
       "    }\n",
       "\n",
       "    .dataframe thead tr th {\n",
       "        text-align: left;\n",
       "    }\n",
       "\n",
       "    .dataframe thead tr:last-of-type th {\n",
       "        text-align: right;\n",
       "    }\n",
       "</style>\n",
       "<table border=\"1\" class=\"dataframe\">\n",
       "  <thead>\n",
       "    <tr>\n",
       "      <th></th>\n",
       "      <th></th>\n",
       "      <th>category</th>\n",
       "      <th colspan=\"8\" halign=\"left\">Parametre</th>\n",
       "      <th colspan=\"2\" halign=\"left\">Fitness</th>\n",
       "      <th>Weighted_fitness</th>\n",
       "    </tr>\n",
       "    <tr>\n",
       "      <th></th>\n",
       "      <th></th>\n",
       "      <th>name</th>\n",
       "      <th>FG1_energy_transfert</th>\n",
       "      <th>lambda_temperature_0</th>\n",
       "      <th>gamma_lambda_temperature</th>\n",
       "      <th>tr_0</th>\n",
       "      <th>gamma_tr</th>\n",
       "      <th>lambda_acidity_0</th>\n",
       "      <th>gamma_lambda_acidity</th>\n",
       "      <th>FG2_energy_transfert</th>\n",
       "      <th>Observation_all</th>\n",
       "      <th>Observation_meso</th>\n",
       "      <th>Weighted_fitness</th>\n",
       "    </tr>\n",
       "    <tr>\n",
       "      <th>Generation</th>\n",
       "      <th>Is_From_Previous_Generation</th>\n",
       "      <th>Individual</th>\n",
       "      <th></th>\n",
       "      <th></th>\n",
       "      <th></th>\n",
       "      <th></th>\n",
       "      <th></th>\n",
       "      <th></th>\n",
       "      <th></th>\n",
       "      <th></th>\n",
       "      <th></th>\n",
       "      <th></th>\n",
       "      <th></th>\n",
       "    </tr>\n",
       "  </thead>\n",
       "  <tbody>\n",
       "    <tr>\n",
       "      <th rowspan=\"10\" valign=\"top\">0</th>\n",
       "      <th rowspan=\"5\" valign=\"top\">False</th>\n",
       "      <th>0</th>\n",
       "      <td>0.786146</td>\n",
       "      <td>0.876023</td>\n",
       "      <td>0.805319</td>\n",
       "      <td>7.143927</td>\n",
       "      <td>-0.238342</td>\n",
       "      <td>0.124677</td>\n",
       "      <td>0.158086</td>\n",
       "      <td>0.779062</td>\n",
       "      <td>inf</td>\n",
       "      <td>inf</td>\n",
       "      <td>-inf</td>\n",
       "    </tr>\n",
       "    <tr>\n",
       "      <th>1</th>\n",
       "      <td>0.000284</td>\n",
       "      <td>0.399106</td>\n",
       "      <td>0.517218</td>\n",
       "      <td>4.021467</td>\n",
       "      <td>-0.249904</td>\n",
       "      <td>0.344565</td>\n",
       "      <td>0.977414</td>\n",
       "      <td>0.894172</td>\n",
       "      <td>0.865154</td>\n",
       "      <td>1.195490</td>\n",
       "      <td>-1.030322</td>\n",
       "    </tr>\n",
       "    <tr>\n",
       "      <th>2</th>\n",
       "      <td>0.582955</td>\n",
       "      <td>0.071437</td>\n",
       "      <td>0.299954</td>\n",
       "      <td>9.461591</td>\n",
       "      <td>-0.448306</td>\n",
       "      <td>0.392981</td>\n",
       "      <td>0.557609</td>\n",
       "      <td>0.287431</td>\n",
       "      <td>0.455311</td>\n",
       "      <td>0.279976</td>\n",
       "      <td>-0.367644</td>\n",
       "    </tr>\n",
       "    <tr>\n",
       "      <th>3</th>\n",
       "      <td>0.626718</td>\n",
       "      <td>0.045400</td>\n",
       "      <td>0.975150</td>\n",
       "      <td>3.966263</td>\n",
       "      <td>-0.771807</td>\n",
       "      <td>0.343289</td>\n",
       "      <td>0.243944</td>\n",
       "      <td>0.632683</td>\n",
       "      <td>inf</td>\n",
       "      <td>inf</td>\n",
       "      <td>-inf</td>\n",
       "    </tr>\n",
       "    <tr>\n",
       "      <th>4</th>\n",
       "      <td>0.119551</td>\n",
       "      <td>0.489295</td>\n",
       "      <td>0.037271</td>\n",
       "      <td>9.552544</td>\n",
       "      <td>-0.814631</td>\n",
       "      <td>0.937721</td>\n",
       "      <td>0.292654</td>\n",
       "      <td>0.315962</td>\n",
       "      <td>0.733443</td>\n",
       "      <td>0.115156</td>\n",
       "      <td>-0.424300</td>\n",
       "    </tr>\n",
       "    <tr>\n",
       "      <th rowspan=\"5\" valign=\"top\">True</th>\n",
       "      <th>5</th>\n",
       "      <td>0.574111</td>\n",
       "      <td>0.441515</td>\n",
       "      <td>0.401801</td>\n",
       "      <td>9.230558</td>\n",
       "      <td>-0.348796</td>\n",
       "      <td>0.252428</td>\n",
       "      <td>0.365294</td>\n",
       "      <td>0.232943</td>\n",
       "      <td>0.419255</td>\n",
       "      <td>0.087742</td>\n",
       "      <td>-0.253498</td>\n",
       "    </tr>\n",
       "    <tr>\n",
       "      <th>6</th>\n",
       "      <td>0.034144</td>\n",
       "      <td>0.757793</td>\n",
       "      <td>0.607417</td>\n",
       "      <td>3.884936</td>\n",
       "      <td>-0.786184</td>\n",
       "      <td>0.945083</td>\n",
       "      <td>0.378396</td>\n",
       "      <td>0.580250</td>\n",
       "      <td>0.711093</td>\n",
       "      <td>0.213231</td>\n",
       "      <td>-0.462162</td>\n",
       "    </tr>\n",
       "    <tr>\n",
       "      <th>7</th>\n",
       "      <td>0.635785</td>\n",
       "      <td>0.070075</td>\n",
       "      <td>0.126621</td>\n",
       "      <td>6.752374</td>\n",
       "      <td>-0.465892</td>\n",
       "      <td>0.995583</td>\n",
       "      <td>0.867272</td>\n",
       "      <td>0.190609</td>\n",
       "      <td>0.514732</td>\n",
       "      <td>0.217756</td>\n",
       "      <td>-0.366244</td>\n",
       "    </tr>\n",
       "    <tr>\n",
       "      <th>8</th>\n",
       "      <td>0.245183</td>\n",
       "      <td>0.322185</td>\n",
       "      <td>0.330291</td>\n",
       "      <td>1.628416</td>\n",
       "      <td>-0.675659</td>\n",
       "      <td>0.689873</td>\n",
       "      <td>0.820443</td>\n",
       "      <td>0.810636</td>\n",
       "      <td>inf</td>\n",
       "      <td>inf</td>\n",
       "      <td>-inf</td>\n",
       "    </tr>\n",
       "    <tr>\n",
       "      <th>9</th>\n",
       "      <td>0.801596</td>\n",
       "      <td>0.979059</td>\n",
       "      <td>0.264739</td>\n",
       "      <td>9.221153</td>\n",
       "      <td>-0.768898</td>\n",
       "      <td>0.128530</td>\n",
       "      <td>0.643500</td>\n",
       "      <td>0.926564</td>\n",
       "      <td>inf</td>\n",
       "      <td>inf</td>\n",
       "      <td>-inf</td>\n",
       "    </tr>\n",
       "    <tr>\n",
       "      <th rowspan=\"10\" valign=\"top\">1</th>\n",
       "      <th rowspan=\"2\" valign=\"top\">False</th>\n",
       "      <th>0</th>\n",
       "      <td>0.635785</td>\n",
       "      <td>0.070075</td>\n",
       "      <td>0.126621</td>\n",
       "      <td>6.752374</td>\n",
       "      <td>-0.448306</td>\n",
       "      <td>0.392981</td>\n",
       "      <td>0.557609</td>\n",
       "      <td>0.287431</td>\n",
       "      <td>0.539735</td>\n",
       "      <td>0.279066</td>\n",
       "      <td>-0.409401</td>\n",
       "    </tr>\n",
       "    <tr>\n",
       "      <th>1</th>\n",
       "      <td>0.679555</td>\n",
       "      <td>0.071437</td>\n",
       "      <td>0.199499</td>\n",
       "      <td>9.798196</td>\n",
       "      <td>-0.525142</td>\n",
       "      <td>0.995583</td>\n",
       "      <td>0.867272</td>\n",
       "      <td>0.190609</td>\n",
       "      <td>0.521001</td>\n",
       "      <td>0.221857</td>\n",
       "      <td>-0.371429</td>\n",
       "    </tr>\n",
       "    <tr>\n",
       "      <th rowspan=\"3\" valign=\"top\">True</th>\n",
       "      <th>2</th>\n",
       "      <td>0.574111</td>\n",
       "      <td>0.441515</td>\n",
       "      <td>0.401801</td>\n",
       "      <td>9.230558</td>\n",
       "      <td>-0.348796</td>\n",
       "      <td>0.252428</td>\n",
       "      <td>0.365294</td>\n",
       "      <td>0.232943</td>\n",
       "      <td>0.419255</td>\n",
       "      <td>0.087742</td>\n",
       "      <td>-0.253498</td>\n",
       "    </tr>\n",
       "    <tr>\n",
       "      <th>3</th>\n",
       "      <td>0.574111</td>\n",
       "      <td>0.441515</td>\n",
       "      <td>0.401801</td>\n",
       "      <td>9.230558</td>\n",
       "      <td>-0.348796</td>\n",
       "      <td>0.252428</td>\n",
       "      <td>0.365294</td>\n",
       "      <td>0.232943</td>\n",
       "      <td>0.419255</td>\n",
       "      <td>0.087742</td>\n",
       "      <td>-0.253498</td>\n",
       "    </tr>\n",
       "    <tr>\n",
       "      <th>4</th>\n",
       "      <td>0.034144</td>\n",
       "      <td>0.757793</td>\n",
       "      <td>0.607417</td>\n",
       "      <td>3.884936</td>\n",
       "      <td>-0.786184</td>\n",
       "      <td>0.945083</td>\n",
       "      <td>0.378396</td>\n",
       "      <td>0.580250</td>\n",
       "      <td>0.711093</td>\n",
       "      <td>0.213231</td>\n",
       "      <td>-0.462162</td>\n",
       "    </tr>\n",
       "    <tr>\n",
       "      <th>False</th>\n",
       "      <th>5</th>\n",
       "      <td>0.574111</td>\n",
       "      <td>0.441515</td>\n",
       "      <td>0.401801</td>\n",
       "      <td>9.230558</td>\n",
       "      <td>-0.348796</td>\n",
       "      <td>0.252428</td>\n",
       "      <td>0.385426</td>\n",
       "      <td>0.232943</td>\n",
       "      <td>0.419255</td>\n",
       "      <td>0.087742</td>\n",
       "      <td>-0.253498</td>\n",
       "    </tr>\n",
       "    <tr>\n",
       "      <th rowspan=\"4\" valign=\"top\">True</th>\n",
       "      <th>6</th>\n",
       "      <td>0.582955</td>\n",
       "      <td>0.071437</td>\n",
       "      <td>0.299954</td>\n",
       "      <td>9.461591</td>\n",
       "      <td>-0.448306</td>\n",
       "      <td>0.392981</td>\n",
       "      <td>0.557609</td>\n",
       "      <td>0.287431</td>\n",
       "      <td>0.455311</td>\n",
       "      <td>0.279976</td>\n",
       "      <td>-0.367644</td>\n",
       "    </tr>\n",
       "    <tr>\n",
       "      <th>7</th>\n",
       "      <td>0.034144</td>\n",
       "      <td>0.757793</td>\n",
       "      <td>0.607417</td>\n",
       "      <td>3.884936</td>\n",
       "      <td>-0.786184</td>\n",
       "      <td>0.945083</td>\n",
       "      <td>0.378396</td>\n",
       "      <td>0.580250</td>\n",
       "      <td>0.711093</td>\n",
       "      <td>0.213231</td>\n",
       "      <td>-0.462162</td>\n",
       "    </tr>\n",
       "    <tr>\n",
       "      <th>8</th>\n",
       "      <td>0.582955</td>\n",
       "      <td>0.071437</td>\n",
       "      <td>0.299954</td>\n",
       "      <td>9.461591</td>\n",
       "      <td>-0.448306</td>\n",
       "      <td>0.392981</td>\n",
       "      <td>0.557609</td>\n",
       "      <td>0.287431</td>\n",
       "      <td>0.455311</td>\n",
       "      <td>0.279976</td>\n",
       "      <td>-0.367644</td>\n",
       "    </tr>\n",
       "    <tr>\n",
       "      <th>9</th>\n",
       "      <td>0.574111</td>\n",
       "      <td>0.441515</td>\n",
       "      <td>0.401801</td>\n",
       "      <td>9.230558</td>\n",
       "      <td>-0.348796</td>\n",
       "      <td>0.252428</td>\n",
       "      <td>0.365294</td>\n",
       "      <td>0.232943</td>\n",
       "      <td>0.419255</td>\n",
       "      <td>0.087742</td>\n",
       "      <td>-0.253498</td>\n",
       "    </tr>\n",
       "    <tr>\n",
       "      <th rowspan=\"10\" valign=\"top\">2</th>\n",
       "      <th rowspan=\"6\" valign=\"top\">False</th>\n",
       "      <th>0</th>\n",
       "      <td>0.574111</td>\n",
       "      <td>0.441515</td>\n",
       "      <td>0.401801</td>\n",
       "      <td>9.230558</td>\n",
       "      <td>-0.348796</td>\n",
       "      <td>0.252428</td>\n",
       "      <td>0.365294</td>\n",
       "      <td>0.232943</td>\n",
       "      <td>0.419255</td>\n",
       "      <td>0.087742</td>\n",
       "      <td>-0.253498</td>\n",
       "    </tr>\n",
       "    <tr>\n",
       "      <th>1</th>\n",
       "      <td>0.574111</td>\n",
       "      <td>0.441515</td>\n",
       "      <td>0.401801</td>\n",
       "      <td>9.230558</td>\n",
       "      <td>-0.348796</td>\n",
       "      <td>0.252428</td>\n",
       "      <td>0.385426</td>\n",
       "      <td>0.232943</td>\n",
       "      <td>0.419255</td>\n",
       "      <td>0.087742</td>\n",
       "      <td>-0.253498</td>\n",
       "    </tr>\n",
       "    <tr>\n",
       "      <th>2</th>\n",
       "      <td>0.574111</td>\n",
       "      <td>0.441515</td>\n",
       "      <td>0.401801</td>\n",
       "      <td>9.230558</td>\n",
       "      <td>-0.348796</td>\n",
       "      <td>0.252428</td>\n",
       "      <td>0.385426</td>\n",
       "      <td>0.232943</td>\n",
       "      <td>0.419255</td>\n",
       "      <td>0.087742</td>\n",
       "      <td>-0.253498</td>\n",
       "    </tr>\n",
       "    <tr>\n",
       "      <th>3</th>\n",
       "      <td>0.574111</td>\n",
       "      <td>0.441515</td>\n",
       "      <td>0.401801</td>\n",
       "      <td>9.230558</td>\n",
       "      <td>-0.348796</td>\n",
       "      <td>0.252428</td>\n",
       "      <td>0.365294</td>\n",
       "      <td>0.232943</td>\n",
       "      <td>0.419255</td>\n",
       "      <td>0.087742</td>\n",
       "      <td>-0.253498</td>\n",
       "    </tr>\n",
       "    <tr>\n",
       "      <th>4</th>\n",
       "      <td>0.574111</td>\n",
       "      <td>0.316656</td>\n",
       "      <td>0.401801</td>\n",
       "      <td>9.230558</td>\n",
       "      <td>-0.348796</td>\n",
       "      <td>0.252428</td>\n",
       "      <td>0.365294</td>\n",
       "      <td>0.232943</td>\n",
       "      <td>0.425604</td>\n",
       "      <td>0.088339</td>\n",
       "      <td>-0.256972</td>\n",
       "    </tr>\n",
       "    <tr>\n",
       "      <th>5</th>\n",
       "      <td>0.574111</td>\n",
       "      <td>0.441515</td>\n",
       "      <td>0.401801</td>\n",
       "      <td>9.230558</td>\n",
       "      <td>-0.348796</td>\n",
       "      <td>0.252428</td>\n",
       "      <td>0.365294</td>\n",
       "      <td>0.232943</td>\n",
       "      <td>0.419255</td>\n",
       "      <td>0.087742</td>\n",
       "      <td>-0.253498</td>\n",
       "    </tr>\n",
       "    <tr>\n",
       "      <th rowspan=\"4\" valign=\"top\">True</th>\n",
       "      <th>6</th>\n",
       "      <td>0.574111</td>\n",
       "      <td>0.441515</td>\n",
       "      <td>0.401801</td>\n",
       "      <td>9.230558</td>\n",
       "      <td>-0.348796</td>\n",
       "      <td>0.252428</td>\n",
       "      <td>0.365294</td>\n",
       "      <td>0.232943</td>\n",
       "      <td>0.419255</td>\n",
       "      <td>0.087742</td>\n",
       "      <td>-0.253498</td>\n",
       "    </tr>\n",
       "    <tr>\n",
       "      <th>7</th>\n",
       "      <td>0.574111</td>\n",
       "      <td>0.441515</td>\n",
       "      <td>0.401801</td>\n",
       "      <td>9.230558</td>\n",
       "      <td>-0.348796</td>\n",
       "      <td>0.252428</td>\n",
       "      <td>0.365294</td>\n",
       "      <td>0.232943</td>\n",
       "      <td>0.419255</td>\n",
       "      <td>0.087742</td>\n",
       "      <td>-0.253498</td>\n",
       "    </tr>\n",
       "    <tr>\n",
       "      <th>8</th>\n",
       "      <td>0.574111</td>\n",
       "      <td>0.441515</td>\n",
       "      <td>0.401801</td>\n",
       "      <td>9.230558</td>\n",
       "      <td>-0.348796</td>\n",
       "      <td>0.252428</td>\n",
       "      <td>0.365294</td>\n",
       "      <td>0.232943</td>\n",
       "      <td>0.419255</td>\n",
       "      <td>0.087742</td>\n",
       "      <td>-0.253498</td>\n",
       "    </tr>\n",
       "    <tr>\n",
       "      <th>9</th>\n",
       "      <td>0.574111</td>\n",
       "      <td>0.441515</td>\n",
       "      <td>0.401801</td>\n",
       "      <td>9.230558</td>\n",
       "      <td>-0.348796</td>\n",
       "      <td>0.252428</td>\n",
       "      <td>0.365294</td>\n",
       "      <td>0.232943</td>\n",
       "      <td>0.419255</td>\n",
       "      <td>0.087742</td>\n",
       "      <td>-0.253498</td>\n",
       "    </tr>\n",
       "  </tbody>\n",
       "</table>\n",
       "</div>"
      ],
      "text/plain": [
       "category                                                     Parametre  \\\n",
       "name                                              FG1_energy_transfert   \n",
       "Generation Is_From_Previous_Generation Individual                        \n",
       "0          False                       0                      0.786146   \n",
       "                                       1                      0.000284   \n",
       "                                       2                      0.582955   \n",
       "                                       3                      0.626718   \n",
       "                                       4                      0.119551   \n",
       "           True                        5                      0.574111   \n",
       "                                       6                      0.034144   \n",
       "                                       7                      0.635785   \n",
       "                                       8                      0.245183   \n",
       "                                       9                      0.801596   \n",
       "1          False                       0                      0.635785   \n",
       "                                       1                      0.679555   \n",
       "           True                        2                      0.574111   \n",
       "                                       3                      0.574111   \n",
       "                                       4                      0.034144   \n",
       "           False                       5                      0.574111   \n",
       "           True                        6                      0.582955   \n",
       "                                       7                      0.034144   \n",
       "                                       8                      0.582955   \n",
       "                                       9                      0.574111   \n",
       "2          False                       0                      0.574111   \n",
       "                                       1                      0.574111   \n",
       "                                       2                      0.574111   \n",
       "                                       3                      0.574111   \n",
       "                                       4                      0.574111   \n",
       "                                       5                      0.574111   \n",
       "           True                        6                      0.574111   \n",
       "                                       7                      0.574111   \n",
       "                                       8                      0.574111   \n",
       "                                       9                      0.574111   \n",
       "\n",
       "category                                                                \\\n",
       "name                                              lambda_temperature_0   \n",
       "Generation Is_From_Previous_Generation Individual                        \n",
       "0          False                       0                      0.876023   \n",
       "                                       1                      0.399106   \n",
       "                                       2                      0.071437   \n",
       "                                       3                      0.045400   \n",
       "                                       4                      0.489295   \n",
       "           True                        5                      0.441515   \n",
       "                                       6                      0.757793   \n",
       "                                       7                      0.070075   \n",
       "                                       8                      0.322185   \n",
       "                                       9                      0.979059   \n",
       "1          False                       0                      0.070075   \n",
       "                                       1                      0.071437   \n",
       "           True                        2                      0.441515   \n",
       "                                       3                      0.441515   \n",
       "                                       4                      0.757793   \n",
       "           False                       5                      0.441515   \n",
       "           True                        6                      0.071437   \n",
       "                                       7                      0.757793   \n",
       "                                       8                      0.071437   \n",
       "                                       9                      0.441515   \n",
       "2          False                       0                      0.441515   \n",
       "                                       1                      0.441515   \n",
       "                                       2                      0.441515   \n",
       "                                       3                      0.441515   \n",
       "                                       4                      0.316656   \n",
       "                                       5                      0.441515   \n",
       "           True                        6                      0.441515   \n",
       "                                       7                      0.441515   \n",
       "                                       8                      0.441515   \n",
       "                                       9                      0.441515   \n",
       "\n",
       "category                                                                    \\\n",
       "name                                              gamma_lambda_temperature   \n",
       "Generation Is_From_Previous_Generation Individual                            \n",
       "0          False                       0                          0.805319   \n",
       "                                       1                          0.517218   \n",
       "                                       2                          0.299954   \n",
       "                                       3                          0.975150   \n",
       "                                       4                          0.037271   \n",
       "           True                        5                          0.401801   \n",
       "                                       6                          0.607417   \n",
       "                                       7                          0.126621   \n",
       "                                       8                          0.330291   \n",
       "                                       9                          0.264739   \n",
       "1          False                       0                          0.126621   \n",
       "                                       1                          0.199499   \n",
       "           True                        2                          0.401801   \n",
       "                                       3                          0.401801   \n",
       "                                       4                          0.607417   \n",
       "           False                       5                          0.401801   \n",
       "           True                        6                          0.299954   \n",
       "                                       7                          0.607417   \n",
       "                                       8                          0.299954   \n",
       "                                       9                          0.401801   \n",
       "2          False                       0                          0.401801   \n",
       "                                       1                          0.401801   \n",
       "                                       2                          0.401801   \n",
       "                                       3                          0.401801   \n",
       "                                       4                          0.401801   \n",
       "                                       5                          0.401801   \n",
       "           True                        6                          0.401801   \n",
       "                                       7                          0.401801   \n",
       "                                       8                          0.401801   \n",
       "                                       9                          0.401801   \n",
       "\n",
       "category                                                               \\\n",
       "name                                                   tr_0  gamma_tr   \n",
       "Generation Is_From_Previous_Generation Individual                       \n",
       "0          False                       0           7.143927 -0.238342   \n",
       "                                       1           4.021467 -0.249904   \n",
       "                                       2           9.461591 -0.448306   \n",
       "                                       3           3.966263 -0.771807   \n",
       "                                       4           9.552544 -0.814631   \n",
       "           True                        5           9.230558 -0.348796   \n",
       "                                       6           3.884936 -0.786184   \n",
       "                                       7           6.752374 -0.465892   \n",
       "                                       8           1.628416 -0.675659   \n",
       "                                       9           9.221153 -0.768898   \n",
       "1          False                       0           6.752374 -0.448306   \n",
       "                                       1           9.798196 -0.525142   \n",
       "           True                        2           9.230558 -0.348796   \n",
       "                                       3           9.230558 -0.348796   \n",
       "                                       4           3.884936 -0.786184   \n",
       "           False                       5           9.230558 -0.348796   \n",
       "           True                        6           9.461591 -0.448306   \n",
       "                                       7           3.884936 -0.786184   \n",
       "                                       8           9.461591 -0.448306   \n",
       "                                       9           9.230558 -0.348796   \n",
       "2          False                       0           9.230558 -0.348796   \n",
       "                                       1           9.230558 -0.348796   \n",
       "                                       2           9.230558 -0.348796   \n",
       "                                       3           9.230558 -0.348796   \n",
       "                                       4           9.230558 -0.348796   \n",
       "                                       5           9.230558 -0.348796   \n",
       "           True                        6           9.230558 -0.348796   \n",
       "                                       7           9.230558 -0.348796   \n",
       "                                       8           9.230558 -0.348796   \n",
       "                                       9           9.230558 -0.348796   \n",
       "\n",
       "category                                                            \\\n",
       "name                                              lambda_acidity_0   \n",
       "Generation Is_From_Previous_Generation Individual                    \n",
       "0          False                       0                  0.124677   \n",
       "                                       1                  0.344565   \n",
       "                                       2                  0.392981   \n",
       "                                       3                  0.343289   \n",
       "                                       4                  0.937721   \n",
       "           True                        5                  0.252428   \n",
       "                                       6                  0.945083   \n",
       "                                       7                  0.995583   \n",
       "                                       8                  0.689873   \n",
       "                                       9                  0.128530   \n",
       "1          False                       0                  0.392981   \n",
       "                                       1                  0.995583   \n",
       "           True                        2                  0.252428   \n",
       "                                       3                  0.252428   \n",
       "                                       4                  0.945083   \n",
       "           False                       5                  0.252428   \n",
       "           True                        6                  0.392981   \n",
       "                                       7                  0.945083   \n",
       "                                       8                  0.392981   \n",
       "                                       9                  0.252428   \n",
       "2          False                       0                  0.252428   \n",
       "                                       1                  0.252428   \n",
       "                                       2                  0.252428   \n",
       "                                       3                  0.252428   \n",
       "                                       4                  0.252428   \n",
       "                                       5                  0.252428   \n",
       "           True                        6                  0.252428   \n",
       "                                       7                  0.252428   \n",
       "                                       8                  0.252428   \n",
       "                                       9                  0.252428   \n",
       "\n",
       "category                                                                \\\n",
       "name                                              gamma_lambda_acidity   \n",
       "Generation Is_From_Previous_Generation Individual                        \n",
       "0          False                       0                      0.158086   \n",
       "                                       1                      0.977414   \n",
       "                                       2                      0.557609   \n",
       "                                       3                      0.243944   \n",
       "                                       4                      0.292654   \n",
       "           True                        5                      0.365294   \n",
       "                                       6                      0.378396   \n",
       "                                       7                      0.867272   \n",
       "                                       8                      0.820443   \n",
       "                                       9                      0.643500   \n",
       "1          False                       0                      0.557609   \n",
       "                                       1                      0.867272   \n",
       "           True                        2                      0.365294   \n",
       "                                       3                      0.365294   \n",
       "                                       4                      0.378396   \n",
       "           False                       5                      0.385426   \n",
       "           True                        6                      0.557609   \n",
       "                                       7                      0.378396   \n",
       "                                       8                      0.557609   \n",
       "                                       9                      0.365294   \n",
       "2          False                       0                      0.365294   \n",
       "                                       1                      0.385426   \n",
       "                                       2                      0.385426   \n",
       "                                       3                      0.365294   \n",
       "                                       4                      0.365294   \n",
       "                                       5                      0.365294   \n",
       "           True                        6                      0.365294   \n",
       "                                       7                      0.365294   \n",
       "                                       8                      0.365294   \n",
       "                                       9                      0.365294   \n",
       "\n",
       "category                                                                \\\n",
       "name                                              FG2_energy_transfert   \n",
       "Generation Is_From_Previous_Generation Individual                        \n",
       "0          False                       0                      0.779062   \n",
       "                                       1                      0.894172   \n",
       "                                       2                      0.287431   \n",
       "                                       3                      0.632683   \n",
       "                                       4                      0.315962   \n",
       "           True                        5                      0.232943   \n",
       "                                       6                      0.580250   \n",
       "                                       7                      0.190609   \n",
       "                                       8                      0.810636   \n",
       "                                       9                      0.926564   \n",
       "1          False                       0                      0.287431   \n",
       "                                       1                      0.190609   \n",
       "           True                        2                      0.232943   \n",
       "                                       3                      0.232943   \n",
       "                                       4                      0.580250   \n",
       "           False                       5                      0.232943   \n",
       "           True                        6                      0.287431   \n",
       "                                       7                      0.580250   \n",
       "                                       8                      0.287431   \n",
       "                                       9                      0.232943   \n",
       "2          False                       0                      0.232943   \n",
       "                                       1                      0.232943   \n",
       "                                       2                      0.232943   \n",
       "                                       3                      0.232943   \n",
       "                                       4                      0.232943   \n",
       "                                       5                      0.232943   \n",
       "           True                        6                      0.232943   \n",
       "                                       7                      0.232943   \n",
       "                                       8                      0.232943   \n",
       "                                       9                      0.232943   \n",
       "\n",
       "category                                                  Fitness  \\\n",
       "name                                              Observation_all   \n",
       "Generation Is_From_Previous_Generation Individual                   \n",
       "0          False                       0                      inf   \n",
       "                                       1                 0.865154   \n",
       "                                       2                 0.455311   \n",
       "                                       3                      inf   \n",
       "                                       4                 0.733443   \n",
       "           True                        5                 0.419255   \n",
       "                                       6                 0.711093   \n",
       "                                       7                 0.514732   \n",
       "                                       8                      inf   \n",
       "                                       9                      inf   \n",
       "1          False                       0                 0.539735   \n",
       "                                       1                 0.521001   \n",
       "           True                        2                 0.419255   \n",
       "                                       3                 0.419255   \n",
       "                                       4                 0.711093   \n",
       "           False                       5                 0.419255   \n",
       "           True                        6                 0.455311   \n",
       "                                       7                 0.711093   \n",
       "                                       8                 0.455311   \n",
       "                                       9                 0.419255   \n",
       "2          False                       0                 0.419255   \n",
       "                                       1                 0.419255   \n",
       "                                       2                 0.419255   \n",
       "                                       3                 0.419255   \n",
       "                                       4                 0.425604   \n",
       "                                       5                 0.419255   \n",
       "           True                        6                 0.419255   \n",
       "                                       7                 0.419255   \n",
       "                                       8                 0.419255   \n",
       "                                       9                 0.419255   \n",
       "\n",
       "category                                                            \\\n",
       "name                                              Observation_meso   \n",
       "Generation Is_From_Previous_Generation Individual                    \n",
       "0          False                       0                       inf   \n",
       "                                       1                  1.195490   \n",
       "                                       2                  0.279976   \n",
       "                                       3                       inf   \n",
       "                                       4                  0.115156   \n",
       "           True                        5                  0.087742   \n",
       "                                       6                  0.213231   \n",
       "                                       7                  0.217756   \n",
       "                                       8                       inf   \n",
       "                                       9                       inf   \n",
       "1          False                       0                  0.279066   \n",
       "                                       1                  0.221857   \n",
       "           True                        2                  0.087742   \n",
       "                                       3                  0.087742   \n",
       "                                       4                  0.213231   \n",
       "           False                       5                  0.087742   \n",
       "           True                        6                  0.279976   \n",
       "                                       7                  0.213231   \n",
       "                                       8                  0.279976   \n",
       "                                       9                  0.087742   \n",
       "2          False                       0                  0.087742   \n",
       "                                       1                  0.087742   \n",
       "                                       2                  0.087742   \n",
       "                                       3                  0.087742   \n",
       "                                       4                  0.088339   \n",
       "                                       5                  0.087742   \n",
       "           True                        6                  0.087742   \n",
       "                                       7                  0.087742   \n",
       "                                       8                  0.087742   \n",
       "                                       9                  0.087742   \n",
       "\n",
       "category                                          Weighted_fitness  \n",
       "name                                              Weighted_fitness  \n",
       "Generation Is_From_Previous_Generation Individual                   \n",
       "0          False                       0                      -inf  \n",
       "                                       1                 -1.030322  \n",
       "                                       2                 -0.367644  \n",
       "                                       3                      -inf  \n",
       "                                       4                 -0.424300  \n",
       "           True                        5                 -0.253498  \n",
       "                                       6                 -0.462162  \n",
       "                                       7                 -0.366244  \n",
       "                                       8                      -inf  \n",
       "                                       9                      -inf  \n",
       "1          False                       0                 -0.409401  \n",
       "                                       1                 -0.371429  \n",
       "           True                        2                 -0.253498  \n",
       "                                       3                 -0.253498  \n",
       "                                       4                 -0.462162  \n",
       "           False                       5                 -0.253498  \n",
       "           True                        6                 -0.367644  \n",
       "                                       7                 -0.462162  \n",
       "                                       8                 -0.367644  \n",
       "                                       9                 -0.253498  \n",
       "2          False                       0                 -0.253498  \n",
       "                                       1                 -0.253498  \n",
       "                                       2                 -0.253498  \n",
       "                                       3                 -0.253498  \n",
       "                                       4                 -0.256972  \n",
       "                                       5                 -0.253498  \n",
       "           True                        6                 -0.253498  \n",
       "                                       7                 -0.253498  \n",
       "                                       8                 -0.253498  \n",
       "                                       9                 -0.253498  "
      ]
     },
     "execution_count": 25,
     "metadata": {},
     "output_type": "execute_result"
    }
   ],
   "source": [
    "viewer.logbook"
   ]
  },
  {
   "cell_type": "code",
   "execution_count": 26,
   "id": "95ab95ff",
   "metadata": {},
   "outputs": [
    {
     "data": {
      "text/html": [
       "<div>\n",
       "<style scoped>\n",
       "    .dataframe tbody tr th:only-of-type {\n",
       "        vertical-align: middle;\n",
       "    }\n",
       "\n",
       "    .dataframe tbody tr th {\n",
       "        vertical-align: top;\n",
       "    }\n",
       "\n",
       "    .dataframe thead th {\n",
       "        text-align: right;\n",
       "    }\n",
       "</style>\n",
       "<table border=\"1\" class=\"dataframe\">\n",
       "  <thead>\n",
       "    <tr style=\"text-align: right;\">\n",
       "      <th></th>\n",
       "      <th>mean</th>\n",
       "      <th>std</th>\n",
       "      <th>min</th>\n",
       "      <th>max</th>\n",
       "      <th>valid</th>\n",
       "      <th>from_previous_generation</th>\n",
       "    </tr>\n",
       "    <tr>\n",
       "      <th>Generation</th>\n",
       "      <th></th>\n",
       "      <th></th>\n",
       "      <th></th>\n",
       "      <th></th>\n",
       "      <th></th>\n",
       "      <th></th>\n",
       "    </tr>\n",
       "  </thead>\n",
       "  <tbody>\n",
       "    <tr>\n",
       "      <th>0</th>\n",
       "      <td>-0.484028</td>\n",
       "      <td>0.276783</td>\n",
       "      <td>-1.030322</td>\n",
       "      <td>-0.253498</td>\n",
       "      <td>6</td>\n",
       "      <td>0.5</td>\n",
       "    </tr>\n",
       "    <tr>\n",
       "      <th>1</th>\n",
       "      <td>-0.345444</td>\n",
       "      <td>0.086161</td>\n",
       "      <td>-0.462162</td>\n",
       "      <td>-0.253498</td>\n",
       "      <td>10</td>\n",
       "      <td>0.7</td>\n",
       "    </tr>\n",
       "    <tr>\n",
       "      <th>2</th>\n",
       "      <td>-0.253846</td>\n",
       "      <td>0.001098</td>\n",
       "      <td>-0.256972</td>\n",
       "      <td>-0.253498</td>\n",
       "      <td>10</td>\n",
       "      <td>0.4</td>\n",
       "    </tr>\n",
       "  </tbody>\n",
       "</table>\n",
       "</div>"
      ],
      "text/plain": [
       "                mean       std       min       max  valid  \\\n",
       "Generation                                                  \n",
       "0          -0.484028  0.276783 -1.030322 -0.253498      6   \n",
       "1          -0.345444  0.086161 -0.462162 -0.253498     10   \n",
       "2          -0.253846  0.001098 -0.256972 -0.253498     10   \n",
       "\n",
       "            from_previous_generation  \n",
       "Generation                            \n",
       "0                                0.5  \n",
       "1                                0.7  \n",
       "2                                0.4  "
      ]
     },
     "execution_count": 26,
     "metadata": {},
     "output_type": "execute_result"
    }
   ],
   "source": [
    "viewer.stats()"
   ]
  },
  {
   "cell_type": "code",
   "execution_count": 27,
   "id": "4128f4c4",
   "metadata": {},
   "outputs": [
    {
     "data": {
      "text/html": [
       "<div>\n",
       "<style scoped>\n",
       "    .dataframe tbody tr th:only-of-type {\n",
       "        vertical-align: middle;\n",
       "    }\n",
       "\n",
       "    .dataframe tbody tr th {\n",
       "        vertical-align: top;\n",
       "    }\n",
       "\n",
       "    .dataframe thead tr th {\n",
       "        text-align: left;\n",
       "    }\n",
       "\n",
       "    .dataframe thead tr:last-of-type th {\n",
       "        text-align: right;\n",
       "    }\n",
       "</style>\n",
       "<table border=\"1\" class=\"dataframe\">\n",
       "  <thead>\n",
       "    <tr>\n",
       "      <th></th>\n",
       "      <th></th>\n",
       "      <th>category</th>\n",
       "      <th colspan=\"8\" halign=\"left\">Parametre</th>\n",
       "      <th colspan=\"2\" halign=\"left\">Fitness</th>\n",
       "      <th>Weighted_fitness</th>\n",
       "    </tr>\n",
       "    <tr>\n",
       "      <th></th>\n",
       "      <th></th>\n",
       "      <th>name</th>\n",
       "      <th>FG1_energy_transfert</th>\n",
       "      <th>lambda_temperature_0</th>\n",
       "      <th>gamma_lambda_temperature</th>\n",
       "      <th>tr_0</th>\n",
       "      <th>gamma_tr</th>\n",
       "      <th>lambda_acidity_0</th>\n",
       "      <th>gamma_lambda_acidity</th>\n",
       "      <th>FG2_energy_transfert</th>\n",
       "      <th>Observation_all</th>\n",
       "      <th>Observation_meso</th>\n",
       "      <th>Weighted_fitness</th>\n",
       "    </tr>\n",
       "    <tr>\n",
       "      <th>Generation</th>\n",
       "      <th>Is_From_Previous_Generation</th>\n",
       "      <th>Individual</th>\n",
       "      <th></th>\n",
       "      <th></th>\n",
       "      <th></th>\n",
       "      <th></th>\n",
       "      <th></th>\n",
       "      <th></th>\n",
       "      <th></th>\n",
       "      <th></th>\n",
       "      <th></th>\n",
       "      <th></th>\n",
       "      <th></th>\n",
       "    </tr>\n",
       "  </thead>\n",
       "  <tbody>\n",
       "    <tr>\n",
       "      <th>0</th>\n",
       "      <th>True</th>\n",
       "      <th>5</th>\n",
       "      <td>0.574111</td>\n",
       "      <td>0.441515</td>\n",
       "      <td>0.401801</td>\n",
       "      <td>9.230558</td>\n",
       "      <td>-0.348796</td>\n",
       "      <td>0.252428</td>\n",
       "      <td>0.365294</td>\n",
       "      <td>0.232943</td>\n",
       "      <td>0.419255</td>\n",
       "      <td>0.087742</td>\n",
       "      <td>-0.253498</td>\n",
       "    </tr>\n",
       "    <tr>\n",
       "      <th>1</th>\n",
       "      <th>False</th>\n",
       "      <th>5</th>\n",
       "      <td>0.574111</td>\n",
       "      <td>0.441515</td>\n",
       "      <td>0.401801</td>\n",
       "      <td>9.230558</td>\n",
       "      <td>-0.348796</td>\n",
       "      <td>0.252428</td>\n",
       "      <td>0.385426</td>\n",
       "      <td>0.232943</td>\n",
       "      <td>0.419255</td>\n",
       "      <td>0.087742</td>\n",
       "      <td>-0.253498</td>\n",
       "    </tr>\n",
       "    <tr>\n",
       "      <th>2</th>\n",
       "      <th>False</th>\n",
       "      <th>4</th>\n",
       "      <td>0.574111</td>\n",
       "      <td>0.316656</td>\n",
       "      <td>0.401801</td>\n",
       "      <td>9.230558</td>\n",
       "      <td>-0.348796</td>\n",
       "      <td>0.252428</td>\n",
       "      <td>0.365294</td>\n",
       "      <td>0.232943</td>\n",
       "      <td>0.425604</td>\n",
       "      <td>0.088339</td>\n",
       "      <td>-0.256972</td>\n",
       "    </tr>\n",
       "    <tr>\n",
       "      <th rowspan=\"2\" valign=\"top\">0</th>\n",
       "      <th>True</th>\n",
       "      <th>7</th>\n",
       "      <td>0.635785</td>\n",
       "      <td>0.070075</td>\n",
       "      <td>0.126621</td>\n",
       "      <td>6.752374</td>\n",
       "      <td>-0.465892</td>\n",
       "      <td>0.995583</td>\n",
       "      <td>0.867272</td>\n",
       "      <td>0.190609</td>\n",
       "      <td>0.514732</td>\n",
       "      <td>0.217756</td>\n",
       "      <td>-0.366244</td>\n",
       "    </tr>\n",
       "    <tr>\n",
       "      <th>False</th>\n",
       "      <th>2</th>\n",
       "      <td>0.582955</td>\n",
       "      <td>0.071437</td>\n",
       "      <td>0.299954</td>\n",
       "      <td>9.461591</td>\n",
       "      <td>-0.448306</td>\n",
       "      <td>0.392981</td>\n",
       "      <td>0.557609</td>\n",
       "      <td>0.287431</td>\n",
       "      <td>0.455311</td>\n",
       "      <td>0.279976</td>\n",
       "      <td>-0.367644</td>\n",
       "    </tr>\n",
       "    <tr>\n",
       "      <th rowspan=\"2\" valign=\"top\">1</th>\n",
       "      <th rowspan=\"2\" valign=\"top\">False</th>\n",
       "      <th>1</th>\n",
       "      <td>0.679555</td>\n",
       "      <td>0.071437</td>\n",
       "      <td>0.199499</td>\n",
       "      <td>9.798196</td>\n",
       "      <td>-0.525142</td>\n",
       "      <td>0.995583</td>\n",
       "      <td>0.867272</td>\n",
       "      <td>0.190609</td>\n",
       "      <td>0.521001</td>\n",
       "      <td>0.221857</td>\n",
       "      <td>-0.371429</td>\n",
       "    </tr>\n",
       "    <tr>\n",
       "      <th>0</th>\n",
       "      <td>0.635785</td>\n",
       "      <td>0.070075</td>\n",
       "      <td>0.126621</td>\n",
       "      <td>6.752374</td>\n",
       "      <td>-0.448306</td>\n",
       "      <td>0.392981</td>\n",
       "      <td>0.557609</td>\n",
       "      <td>0.287431</td>\n",
       "      <td>0.539735</td>\n",
       "      <td>0.279066</td>\n",
       "      <td>-0.409401</td>\n",
       "    </tr>\n",
       "    <tr>\n",
       "      <th rowspan=\"3\" valign=\"top\">0</th>\n",
       "      <th>False</th>\n",
       "      <th>4</th>\n",
       "      <td>0.119551</td>\n",
       "      <td>0.489295</td>\n",
       "      <td>0.037271</td>\n",
       "      <td>9.552544</td>\n",
       "      <td>-0.814631</td>\n",
       "      <td>0.937721</td>\n",
       "      <td>0.292654</td>\n",
       "      <td>0.315962</td>\n",
       "      <td>0.733443</td>\n",
       "      <td>0.115156</td>\n",
       "      <td>-0.424300</td>\n",
       "    </tr>\n",
       "    <tr>\n",
       "      <th>True</th>\n",
       "      <th>6</th>\n",
       "      <td>0.034144</td>\n",
       "      <td>0.757793</td>\n",
       "      <td>0.607417</td>\n",
       "      <td>3.884936</td>\n",
       "      <td>-0.786184</td>\n",
       "      <td>0.945083</td>\n",
       "      <td>0.378396</td>\n",
       "      <td>0.580250</td>\n",
       "      <td>0.711093</td>\n",
       "      <td>0.213231</td>\n",
       "      <td>-0.462162</td>\n",
       "    </tr>\n",
       "    <tr>\n",
       "      <th>False</th>\n",
       "      <th>1</th>\n",
       "      <td>0.000284</td>\n",
       "      <td>0.399106</td>\n",
       "      <td>0.517218</td>\n",
       "      <td>4.021467</td>\n",
       "      <td>-0.249904</td>\n",
       "      <td>0.344565</td>\n",
       "      <td>0.977414</td>\n",
       "      <td>0.894172</td>\n",
       "      <td>0.865154</td>\n",
       "      <td>1.195490</td>\n",
       "      <td>-1.030322</td>\n",
       "    </tr>\n",
       "  </tbody>\n",
       "</table>\n",
       "</div>"
      ],
      "text/plain": [
       "category                                                     Parametre  \\\n",
       "name                                              FG1_energy_transfert   \n",
       "Generation Is_From_Previous_Generation Individual                        \n",
       "0          True                        5                      0.574111   \n",
       "1          False                       5                      0.574111   \n",
       "2          False                       4                      0.574111   \n",
       "0          True                        7                      0.635785   \n",
       "           False                       2                      0.582955   \n",
       "1          False                       1                      0.679555   \n",
       "                                       0                      0.635785   \n",
       "0          False                       4                      0.119551   \n",
       "           True                        6                      0.034144   \n",
       "           False                       1                      0.000284   \n",
       "\n",
       "category                                                                \\\n",
       "name                                              lambda_temperature_0   \n",
       "Generation Is_From_Previous_Generation Individual                        \n",
       "0          True                        5                      0.441515   \n",
       "1          False                       5                      0.441515   \n",
       "2          False                       4                      0.316656   \n",
       "0          True                        7                      0.070075   \n",
       "           False                       2                      0.071437   \n",
       "1          False                       1                      0.071437   \n",
       "                                       0                      0.070075   \n",
       "0          False                       4                      0.489295   \n",
       "           True                        6                      0.757793   \n",
       "           False                       1                      0.399106   \n",
       "\n",
       "category                                                                    \\\n",
       "name                                              gamma_lambda_temperature   \n",
       "Generation Is_From_Previous_Generation Individual                            \n",
       "0          True                        5                          0.401801   \n",
       "1          False                       5                          0.401801   \n",
       "2          False                       4                          0.401801   \n",
       "0          True                        7                          0.126621   \n",
       "           False                       2                          0.299954   \n",
       "1          False                       1                          0.199499   \n",
       "                                       0                          0.126621   \n",
       "0          False                       4                          0.037271   \n",
       "           True                        6                          0.607417   \n",
       "           False                       1                          0.517218   \n",
       "\n",
       "category                                                               \\\n",
       "name                                                   tr_0  gamma_tr   \n",
       "Generation Is_From_Previous_Generation Individual                       \n",
       "0          True                        5           9.230558 -0.348796   \n",
       "1          False                       5           9.230558 -0.348796   \n",
       "2          False                       4           9.230558 -0.348796   \n",
       "0          True                        7           6.752374 -0.465892   \n",
       "           False                       2           9.461591 -0.448306   \n",
       "1          False                       1           9.798196 -0.525142   \n",
       "                                       0           6.752374 -0.448306   \n",
       "0          False                       4           9.552544 -0.814631   \n",
       "           True                        6           3.884936 -0.786184   \n",
       "           False                       1           4.021467 -0.249904   \n",
       "\n",
       "category                                                            \\\n",
       "name                                              lambda_acidity_0   \n",
       "Generation Is_From_Previous_Generation Individual                    \n",
       "0          True                        5                  0.252428   \n",
       "1          False                       5                  0.252428   \n",
       "2          False                       4                  0.252428   \n",
       "0          True                        7                  0.995583   \n",
       "           False                       2                  0.392981   \n",
       "1          False                       1                  0.995583   \n",
       "                                       0                  0.392981   \n",
       "0          False                       4                  0.937721   \n",
       "           True                        6                  0.945083   \n",
       "           False                       1                  0.344565   \n",
       "\n",
       "category                                                                \\\n",
       "name                                              gamma_lambda_acidity   \n",
       "Generation Is_From_Previous_Generation Individual                        \n",
       "0          True                        5                      0.365294   \n",
       "1          False                       5                      0.385426   \n",
       "2          False                       4                      0.365294   \n",
       "0          True                        7                      0.867272   \n",
       "           False                       2                      0.557609   \n",
       "1          False                       1                      0.867272   \n",
       "                                       0                      0.557609   \n",
       "0          False                       4                      0.292654   \n",
       "           True                        6                      0.378396   \n",
       "           False                       1                      0.977414   \n",
       "\n",
       "category                                                                \\\n",
       "name                                              FG2_energy_transfert   \n",
       "Generation Is_From_Previous_Generation Individual                        \n",
       "0          True                        5                      0.232943   \n",
       "1          False                       5                      0.232943   \n",
       "2          False                       4                      0.232943   \n",
       "0          True                        7                      0.190609   \n",
       "           False                       2                      0.287431   \n",
       "1          False                       1                      0.190609   \n",
       "                                       0                      0.287431   \n",
       "0          False                       4                      0.315962   \n",
       "           True                        6                      0.580250   \n",
       "           False                       1                      0.894172   \n",
       "\n",
       "category                                                  Fitness  \\\n",
       "name                                              Observation_all   \n",
       "Generation Is_From_Previous_Generation Individual                   \n",
       "0          True                        5                 0.419255   \n",
       "1          False                       5                 0.419255   \n",
       "2          False                       4                 0.425604   \n",
       "0          True                        7                 0.514732   \n",
       "           False                       2                 0.455311   \n",
       "1          False                       1                 0.521001   \n",
       "                                       0                 0.539735   \n",
       "0          False                       4                 0.733443   \n",
       "           True                        6                 0.711093   \n",
       "           False                       1                 0.865154   \n",
       "\n",
       "category                                                            \\\n",
       "name                                              Observation_meso   \n",
       "Generation Is_From_Previous_Generation Individual                    \n",
       "0          True                        5                  0.087742   \n",
       "1          False                       5                  0.087742   \n",
       "2          False                       4                  0.088339   \n",
       "0          True                        7                  0.217756   \n",
       "           False                       2                  0.279976   \n",
       "1          False                       1                  0.221857   \n",
       "                                       0                  0.279066   \n",
       "0          False                       4                  0.115156   \n",
       "           True                        6                  0.213231   \n",
       "           False                       1                  1.195490   \n",
       "\n",
       "category                                          Weighted_fitness  \n",
       "name                                              Weighted_fitness  \n",
       "Generation Is_From_Previous_Generation Individual                   \n",
       "0          True                        5                 -0.253498  \n",
       "1          False                       5                 -0.253498  \n",
       "2          False                       4                 -0.256972  \n",
       "0          True                        7                 -0.366244  \n",
       "           False                       2                 -0.367644  \n",
       "1          False                       1                 -0.371429  \n",
       "                                       0                 -0.409401  \n",
       "0          False                       4                 -0.424300  \n",
       "           True                        6                 -0.462162  \n",
       "           False                       1                 -1.030322  "
      ]
     },
     "execution_count": 27,
     "metadata": {},
     "output_type": "execute_result"
    }
   ],
   "source": [
    "viewer.hall_of_fame()"
   ]
  },
  {
   "cell_type": "code",
   "execution_count": 28,
   "id": "4476227b",
   "metadata": {},
   "outputs": [
    {
     "data": {
      "application/vnd.plotly.v1+json": {
       "config": {
        "plotlyServerURL": "https://plot.ly"
       },
       "data": [
        {
         "alignmentgroup": "True",
         "box": {
          "visible": true
         },
         "hovertemplate": "Generation=%{x}<br>Weighted_fitness=%{y}<extra></extra>",
         "legendgroup": "",
         "marker": {
          "color": "#636efa"
         },
         "name": "",
         "offsetgroup": "",
         "orientation": "v",
         "points": "all",
         "scalegroup": "True",
         "showlegend": false,
         "type": "violin",
         "x": {
          "bdata": "AAAAAAAAAQEBAQEBAQEBAQICAgICAgICAgI=",
          "dtype": "i1"
         },
         "x0": " ",
         "xaxis": "x",
         "y": {
          "bdata": "5UtQIDN88L/I8gJaeYfXv8rmCT65J9u/jAGlq1E50L/ReGATEJTdvxwIhp2JcNe/9JHe7J8z2r/5ePdWfsXXv4wBpatROdC/jAGlq1E50L/ReGATEJTdv4wBpatROdC/yPICWnmH17/ReGATEJTdv8jyAlp5h9e/jAGlq1E50L+MAaWrUTnQv4wBpatROdC/jAGlq1E50L+MAaWrUTnQv1KGONQ4ctC/jAGlq1E50L+MAaWrUTnQv4wBpatROdC/jAGlq1E50L+MAaWrUTnQvw==",
          "dtype": "f8"
         },
         "y0": " ",
         "yaxis": "y"
        },
        {
         "line": {
          "color": "rgba(0,0,0,0.5)",
          "dash": "dash",
          "width": 2
         },
         "mode": "lines",
         "name": "Median",
         "type": "scatter",
         "x": {
          "bdata": "AAEC",
          "dtype": "i1"
         },
         "y": {
          "bdata": "yWwGTJlX2b/I8gJaeYfXv4wBpatROdC/",
          "dtype": "f8"
         }
        }
       ],
       "layout": {
        "legend": {
         "tracegroupgap": 0
        },
        "margin": {
         "t": 60
        },
        "template": {
         "data": {
          "bar": [
           {
            "error_x": {
             "color": "#2a3f5f"
            },
            "error_y": {
             "color": "#2a3f5f"
            },
            "marker": {
             "line": {
              "color": "#E5ECF6",
              "width": 0.5
             },
             "pattern": {
              "fillmode": "overlay",
              "size": 10,
              "solidity": 0.2
             }
            },
            "type": "bar"
           }
          ],
          "barpolar": [
           {
            "marker": {
             "line": {
              "color": "#E5ECF6",
              "width": 0.5
             },
             "pattern": {
              "fillmode": "overlay",
              "size": 10,
              "solidity": 0.2
             }
            },
            "type": "barpolar"
           }
          ],
          "carpet": [
           {
            "aaxis": {
             "endlinecolor": "#2a3f5f",
             "gridcolor": "white",
             "linecolor": "white",
             "minorgridcolor": "white",
             "startlinecolor": "#2a3f5f"
            },
            "baxis": {
             "endlinecolor": "#2a3f5f",
             "gridcolor": "white",
             "linecolor": "white",
             "minorgridcolor": "white",
             "startlinecolor": "#2a3f5f"
            },
            "type": "carpet"
           }
          ],
          "choropleth": [
           {
            "colorbar": {
             "outlinewidth": 0,
             "ticks": ""
            },
            "type": "choropleth"
           }
          ],
          "contour": [
           {
            "colorbar": {
             "outlinewidth": 0,
             "ticks": ""
            },
            "colorscale": [
             [
              0,
              "#0d0887"
             ],
             [
              0.1111111111111111,
              "#46039f"
             ],
             [
              0.2222222222222222,
              "#7201a8"
             ],
             [
              0.3333333333333333,
              "#9c179e"
             ],
             [
              0.4444444444444444,
              "#bd3786"
             ],
             [
              0.5555555555555556,
              "#d8576b"
             ],
             [
              0.6666666666666666,
              "#ed7953"
             ],
             [
              0.7777777777777778,
              "#fb9f3a"
             ],
             [
              0.8888888888888888,
              "#fdca26"
             ],
             [
              1,
              "#f0f921"
             ]
            ],
            "type": "contour"
           }
          ],
          "contourcarpet": [
           {
            "colorbar": {
             "outlinewidth": 0,
             "ticks": ""
            },
            "type": "contourcarpet"
           }
          ],
          "heatmap": [
           {
            "colorbar": {
             "outlinewidth": 0,
             "ticks": ""
            },
            "colorscale": [
             [
              0,
              "#0d0887"
             ],
             [
              0.1111111111111111,
              "#46039f"
             ],
             [
              0.2222222222222222,
              "#7201a8"
             ],
             [
              0.3333333333333333,
              "#9c179e"
             ],
             [
              0.4444444444444444,
              "#bd3786"
             ],
             [
              0.5555555555555556,
              "#d8576b"
             ],
             [
              0.6666666666666666,
              "#ed7953"
             ],
             [
              0.7777777777777778,
              "#fb9f3a"
             ],
             [
              0.8888888888888888,
              "#fdca26"
             ],
             [
              1,
              "#f0f921"
             ]
            ],
            "type": "heatmap"
           }
          ],
          "histogram": [
           {
            "marker": {
             "pattern": {
              "fillmode": "overlay",
              "size": 10,
              "solidity": 0.2
             }
            },
            "type": "histogram"
           }
          ],
          "histogram2d": [
           {
            "colorbar": {
             "outlinewidth": 0,
             "ticks": ""
            },
            "colorscale": [
             [
              0,
              "#0d0887"
             ],
             [
              0.1111111111111111,
              "#46039f"
             ],
             [
              0.2222222222222222,
              "#7201a8"
             ],
             [
              0.3333333333333333,
              "#9c179e"
             ],
             [
              0.4444444444444444,
              "#bd3786"
             ],
             [
              0.5555555555555556,
              "#d8576b"
             ],
             [
              0.6666666666666666,
              "#ed7953"
             ],
             [
              0.7777777777777778,
              "#fb9f3a"
             ],
             [
              0.8888888888888888,
              "#fdca26"
             ],
             [
              1,
              "#f0f921"
             ]
            ],
            "type": "histogram2d"
           }
          ],
          "histogram2dcontour": [
           {
            "colorbar": {
             "outlinewidth": 0,
             "ticks": ""
            },
            "colorscale": [
             [
              0,
              "#0d0887"
             ],
             [
              0.1111111111111111,
              "#46039f"
             ],
             [
              0.2222222222222222,
              "#7201a8"
             ],
             [
              0.3333333333333333,
              "#9c179e"
             ],
             [
              0.4444444444444444,
              "#bd3786"
             ],
             [
              0.5555555555555556,
              "#d8576b"
             ],
             [
              0.6666666666666666,
              "#ed7953"
             ],
             [
              0.7777777777777778,
              "#fb9f3a"
             ],
             [
              0.8888888888888888,
              "#fdca26"
             ],
             [
              1,
              "#f0f921"
             ]
            ],
            "type": "histogram2dcontour"
           }
          ],
          "mesh3d": [
           {
            "colorbar": {
             "outlinewidth": 0,
             "ticks": ""
            },
            "type": "mesh3d"
           }
          ],
          "parcoords": [
           {
            "line": {
             "colorbar": {
              "outlinewidth": 0,
              "ticks": ""
             }
            },
            "type": "parcoords"
           }
          ],
          "pie": [
           {
            "automargin": true,
            "type": "pie"
           }
          ],
          "scatter": [
           {
            "fillpattern": {
             "fillmode": "overlay",
             "size": 10,
             "solidity": 0.2
            },
            "type": "scatter"
           }
          ],
          "scatter3d": [
           {
            "line": {
             "colorbar": {
              "outlinewidth": 0,
              "ticks": ""
             }
            },
            "marker": {
             "colorbar": {
              "outlinewidth": 0,
              "ticks": ""
             }
            },
            "type": "scatter3d"
           }
          ],
          "scattercarpet": [
           {
            "marker": {
             "colorbar": {
              "outlinewidth": 0,
              "ticks": ""
             }
            },
            "type": "scattercarpet"
           }
          ],
          "scattergeo": [
           {
            "marker": {
             "colorbar": {
              "outlinewidth": 0,
              "ticks": ""
             }
            },
            "type": "scattergeo"
           }
          ],
          "scattergl": [
           {
            "marker": {
             "colorbar": {
              "outlinewidth": 0,
              "ticks": ""
             }
            },
            "type": "scattergl"
           }
          ],
          "scattermap": [
           {
            "marker": {
             "colorbar": {
              "outlinewidth": 0,
              "ticks": ""
             }
            },
            "type": "scattermap"
           }
          ],
          "scattermapbox": [
           {
            "marker": {
             "colorbar": {
              "outlinewidth": 0,
              "ticks": ""
             }
            },
            "type": "scattermapbox"
           }
          ],
          "scatterpolar": [
           {
            "marker": {
             "colorbar": {
              "outlinewidth": 0,
              "ticks": ""
             }
            },
            "type": "scatterpolar"
           }
          ],
          "scatterpolargl": [
           {
            "marker": {
             "colorbar": {
              "outlinewidth": 0,
              "ticks": ""
             }
            },
            "type": "scatterpolargl"
           }
          ],
          "scatterternary": [
           {
            "marker": {
             "colorbar": {
              "outlinewidth": 0,
              "ticks": ""
             }
            },
            "type": "scatterternary"
           }
          ],
          "surface": [
           {
            "colorbar": {
             "outlinewidth": 0,
             "ticks": ""
            },
            "colorscale": [
             [
              0,
              "#0d0887"
             ],
             [
              0.1111111111111111,
              "#46039f"
             ],
             [
              0.2222222222222222,
              "#7201a8"
             ],
             [
              0.3333333333333333,
              "#9c179e"
             ],
             [
              0.4444444444444444,
              "#bd3786"
             ],
             [
              0.5555555555555556,
              "#d8576b"
             ],
             [
              0.6666666666666666,
              "#ed7953"
             ],
             [
              0.7777777777777778,
              "#fb9f3a"
             ],
             [
              0.8888888888888888,
              "#fdca26"
             ],
             [
              1,
              "#f0f921"
             ]
            ],
            "type": "surface"
           }
          ],
          "table": [
           {
            "cells": {
             "fill": {
              "color": "#EBF0F8"
             },
             "line": {
              "color": "white"
             }
            },
            "header": {
             "fill": {
              "color": "#C8D4E3"
             },
             "line": {
              "color": "white"
             }
            },
            "type": "table"
           }
          ]
         },
         "layout": {
          "annotationdefaults": {
           "arrowcolor": "#2a3f5f",
           "arrowhead": 0,
           "arrowwidth": 1
          },
          "autotypenumbers": "strict",
          "coloraxis": {
           "colorbar": {
            "outlinewidth": 0,
            "ticks": ""
           }
          },
          "colorscale": {
           "diverging": [
            [
             0,
             "#8e0152"
            ],
            [
             0.1,
             "#c51b7d"
            ],
            [
             0.2,
             "#de77ae"
            ],
            [
             0.3,
             "#f1b6da"
            ],
            [
             0.4,
             "#fde0ef"
            ],
            [
             0.5,
             "#f7f7f7"
            ],
            [
             0.6,
             "#e6f5d0"
            ],
            [
             0.7,
             "#b8e186"
            ],
            [
             0.8,
             "#7fbc41"
            ],
            [
             0.9,
             "#4d9221"
            ],
            [
             1,
             "#276419"
            ]
           ],
           "sequential": [
            [
             0,
             "#0d0887"
            ],
            [
             0.1111111111111111,
             "#46039f"
            ],
            [
             0.2222222222222222,
             "#7201a8"
            ],
            [
             0.3333333333333333,
             "#9c179e"
            ],
            [
             0.4444444444444444,
             "#bd3786"
            ],
            [
             0.5555555555555556,
             "#d8576b"
            ],
            [
             0.6666666666666666,
             "#ed7953"
            ],
            [
             0.7777777777777778,
             "#fb9f3a"
            ],
            [
             0.8888888888888888,
             "#fdca26"
            ],
            [
             1,
             "#f0f921"
            ]
           ],
           "sequentialminus": [
            [
             0,
             "#0d0887"
            ],
            [
             0.1111111111111111,
             "#46039f"
            ],
            [
             0.2222222222222222,
             "#7201a8"
            ],
            [
             0.3333333333333333,
             "#9c179e"
            ],
            [
             0.4444444444444444,
             "#bd3786"
            ],
            [
             0.5555555555555556,
             "#d8576b"
            ],
            [
             0.6666666666666666,
             "#ed7953"
            ],
            [
             0.7777777777777778,
             "#fb9f3a"
            ],
            [
             0.8888888888888888,
             "#fdca26"
            ],
            [
             1,
             "#f0f921"
            ]
           ]
          },
          "colorway": [
           "#636efa",
           "#EF553B",
           "#00cc96",
           "#ab63fa",
           "#FFA15A",
           "#19d3f3",
           "#FF6692",
           "#B6E880",
           "#FF97FF",
           "#FECB52"
          ],
          "font": {
           "color": "#2a3f5f"
          },
          "geo": {
           "bgcolor": "white",
           "lakecolor": "white",
           "landcolor": "#E5ECF6",
           "showlakes": true,
           "showland": true,
           "subunitcolor": "white"
          },
          "hoverlabel": {
           "align": "left"
          },
          "hovermode": "closest",
          "mapbox": {
           "style": "light"
          },
          "paper_bgcolor": "white",
          "plot_bgcolor": "#E5ECF6",
          "polar": {
           "angularaxis": {
            "gridcolor": "white",
            "linecolor": "white",
            "ticks": ""
           },
           "bgcolor": "#E5ECF6",
           "radialaxis": {
            "gridcolor": "white",
            "linecolor": "white",
            "ticks": ""
           }
          },
          "scene": {
           "xaxis": {
            "backgroundcolor": "#E5ECF6",
            "gridcolor": "white",
            "gridwidth": 2,
            "linecolor": "white",
            "showbackground": true,
            "ticks": "",
            "zerolinecolor": "white"
           },
           "yaxis": {
            "backgroundcolor": "#E5ECF6",
            "gridcolor": "white",
            "gridwidth": 2,
            "linecolor": "white",
            "showbackground": true,
            "ticks": "",
            "zerolinecolor": "white"
           },
           "zaxis": {
            "backgroundcolor": "#E5ECF6",
            "gridcolor": "white",
            "gridwidth": 2,
            "linecolor": "white",
            "showbackground": true,
            "ticks": "",
            "zerolinecolor": "white"
           }
          },
          "shapedefaults": {
           "line": {
            "color": "#2a3f5f"
           }
          },
          "ternary": {
           "aaxis": {
            "gridcolor": "white",
            "linecolor": "white",
            "ticks": ""
           },
           "baxis": {
            "gridcolor": "white",
            "linecolor": "white",
            "ticks": ""
           },
           "bgcolor": "#E5ECF6",
           "caxis": {
            "gridcolor": "white",
            "linecolor": "white",
            "ticks": ""
           }
          },
          "title": {
           "x": 0.05
          },
          "xaxis": {
           "automargin": true,
           "gridcolor": "white",
           "linecolor": "white",
           "ticks": "",
           "title": {
            "standoff": 15
           },
           "zerolinecolor": "white",
           "zerolinewidth": 2
          },
          "yaxis": {
           "automargin": true,
           "gridcolor": "white",
           "linecolor": "white",
           "ticks": "",
           "title": {
            "standoff": 15
           },
           "zerolinecolor": "white",
           "zerolinewidth": 2
          }
         }
        },
        "title": {
         "text": "Fitness evolution"
        },
        "violinmode": "group",
        "xaxis": {
         "anchor": "y",
         "domain": [
          0,
          1
         ],
         "title": {
          "text": "Generation"
         }
        },
        "yaxis": {
         "anchor": "x",
         "domain": [
          0,
          1
         ],
         "title": {
          "text": "Weighted_fitness"
         }
        }
       }
      }
     },
     "metadata": {},
     "output_type": "display_data"
    }
   ],
   "source": [
    "viewer.fitness_evolution(points=\"all\")"
   ]
  },
  {
   "cell_type": "code",
   "execution_count": 29,
   "id": "a94c064e",
   "metadata": {},
   "outputs": [
    {
     "data": {
      "application/vnd.plotly.v1+json": {
       "config": {
        "plotlyServerURL": "https://plot.ly"
       },
       "data": [
        {
         "alignmentgroup": "True",
         "hovertemplate": "FG1_energy_transfert=%{y}<extra></extra>",
         "legendgroup": "",
         "marker": {
          "color": "#636efa"
         },
         "name": "",
         "notched": false,
         "offsetgroup": "",
         "orientation": "v",
         "showlegend": false,
         "type": "box",
         "x0": " ",
         "xaxis": "x",
         "y": {
          "bdata": "L3fAwx5f4j8vd8DDHl/iPy93wMMeX+I/L3fAwx5f4j8vd8DDHl/iPy93wMMeX+I/L3fAwx5f4j8vd8DDHl/iPy93wMMeX+I/L3fAwx5f4j8vd8DDHl/iPy93wMMeX+I/L3fAwx5f4j8vd8DDHl/iPy93wMMeX+I/3rDW/FlY5D/KkvgckqfiP8qS+BySp+I/ypL4HJKn4j+s/TvB6r7lP96w1vxZWOQ/4IIv+Ouavj9ALyTpRXuhP0AvJOlFe6E/QC8k6UV7oT8AoPxrUZoyPw==",
          "dtype": "f8"
         },
         "y0": " ",
         "yaxis": "y"
        },
        {
         "alignmentgroup": "True",
         "hovertemplate": "lambda_temperature_0=%{y}<extra></extra>",
         "legendgroup": "",
         "marker": {
          "color": "#636efa"
         },
         "name": "",
         "notched": false,
         "offsetgroup": "",
         "orientation": "v",
         "showlegend": false,
         "type": "box",
         "x0": " ",
         "xaxis": "x2",
         "y": {
          "bdata": "1l0E2chB3D/WXQTZyEHcP9ZdBNnIQdw/1l0E2chB3D/WXQTZyEHcP9ZdBNnIQdw/1l0E2chB3D/WXQTZyEHcP9ZdBNnIQdw/1l0E2chB3D/WXQTZyEHcP9ZdBNnIQdw/1l0E2chB3D/WXQTZyEHcPz5Nd4wZRNQ/UD5yEHbwsT/IAYYcuEmyP8gBhhy4SbI/yAGGHLhJsj/IAYYcuEmyP1A+chB28LE/St69zJtQ3z/AOli81j/oP8A6WLzWP+g/wDpYvNY/6D+coYno8YrZPw==",
          "dtype": "f8"
         },
         "y0": " ",
         "yaxis": "y2"
        },
        {
         "alignmentgroup": "True",
         "hovertemplate": "gamma_lambda_temperature=%{y}<extra></extra>",
         "legendgroup": "",
         "marker": {
          "color": "#636efa"
         },
         "name": "",
         "notched": false,
         "offsetgroup": "",
         "orientation": "v",
         "showlegend": false,
         "type": "box",
         "x0": " ",
         "xaxis": "x3",
         "y": {
          "bdata": "5Jeihhu32T/kl6KGG7fZP+SXooYbt9k/5Jeihhu32T/kl6KGG7fZP+SXooYbt9k/5Jeihhu32T/kl6KGG7fZP+SXooYbt9k/5Jeihhu32T/kl6KGG7fZP+SXooYbt9k/5Jeihhu32T/kl6KGG7fZP+SXooYbt9k/BN5MIBo1wD/EHZTBcjLTP8QdlMFyMtM/xB2UwXIy0z90HPCvLYnJPwTeTCAaNcA/EJDNbCgVoz+ovFem9W/jP6i8V6b1b+M/qLxXpvVv4z//E0rDC43gPw==",
          "dtype": "f8"
         },
         "y0": " ",
         "yaxis": "y3"
        },
        {
         "alignmentgroup": "True",
         "hovertemplate": "tr_0=%{y}<extra></extra>",
         "legendgroup": "",
         "marker": {
          "color": "#636efa"
         },
         "name": "",
         "notched": false,
         "offsetgroup": "",
         "orientation": "v",
         "showlegend": false,
         "type": "box",
         "x0": " ",
         "xaxis": "x4",
         "y": {
          "bdata": "RPTJswt2IkBE9MmzC3YiQET0ybMLdiJARPTJswt2IkBE9MmzC3YiQET0ybMLdiJARPTJswt2IkBE9MmzC3YiQET0ybMLdiJARPTJswt2IkBE9MmzC3YiQET0ybMLdiJARPTJswt2IkBE9MmzC3YiQET0ybMLdiJAHpVJVW4CG0BgDteuVewiQGAO165V7CJAYA7XrlXsIkAj/MgdrZgjQB6VSVVuAhtA4z7sGecaI0DESqknWRQPQMRKqSdZFA9AxEqpJ1kUD0BodQxb+xUQQA==",
          "dtype": "f8"
         },
         "y0": " ",
         "yaxis": "y4"
        },
        {
         "alignmentgroup": "True",
         "hovertemplate": "gamma_tr=%{y}<extra></extra>",
         "legendgroup": "",
         "marker": {
          "color": "#636efa"
         },
         "name": "",
         "notched": false,
         "offsetgroup": "",
         "orientation": "v",
         "showlegend": false,
         "type": "box",
         "x0": " ",
         "xaxis": "x5",
         "y": {
          "bdata": "gjS7RK1S1r+CNLtErVLWv4I0u0StUta/gjS7RK1S1r+CNLtErVLWv4I0u0StUta/gjS7RK1S1r+CNLtErVLWv4I0u0StUta/gjS7RK1S1r+CNLtErVLWv4I0u0StUta/gjS7RK1S1r+CNLtErVLWv4I0u0StUta/KveZ1S3R3b/AuiLQCrHcv8C6ItAKsdy/wLoi0Aqx3L98lWRY983gv8C6ItAKsdy/JjciOHQR6r8z53ktbCjpvzPneS1sKOm/M+d5LWwo6b8o7C452fzPvw==",
          "dtype": "f8"
         },
         "y0": " ",
         "yaxis": "y5"
        },
        {
         "alignmentgroup": "True",
         "hovertemplate": "lambda_acidity_0=%{y}<extra></extra>",
         "legendgroup": "",
         "marker": {
          "color": "#636efa"
         },
         "name": "",
         "notched": false,
         "offsetgroup": "",
         "orientation": "v",
         "showlegend": false,
         "type": "box",
         "x0": " ",
         "xaxis": "x6",
         "y": {
          "bdata": "aAi1Gcgn0D9oCLUZyCfQP2gItRnIJ9A/aAi1Gcgn0D9oCLUZyCfQP2gItRnIJ9A/aAi1Gcgn0D9oCLUZyCfQP2gItRnIJ9A/aAi1Gcgn0D9oCLUZyCfQP2gItRnIJ9A/aAi1Gcgn0D9oCLUZyCfQP2gItRnIJ9A/khoQFtHb7z+woC0EmSbZP7CgLQSZJtk/sKAtBJkm2T+SGhAW0dvvP7CgLQSZJtk/WKzG684B7j+JxWn7Hj7uP4nFafsePu4/icVp+x4+7j/wYRQjXA3WPw==",
          "dtype": "f8"
         },
         "y0": " ",
         "yaxis": "y6"
        },
        {
         "alignmentgroup": "True",
         "hovertemplate": "gamma_lambda_acidity=%{y}<extra></extra>",
         "legendgroup": "",
         "marker": {
          "color": "#636efa"
         },
         "name": "",
         "notched": false,
         "offsetgroup": "",
         "orientation": "v",
         "showlegend": false,
         "type": "box",
         "x0": " ",
         "xaxis": "x7",
         "y": {
          "bdata": "hh4Hevhg1z+GHgd6+GDXP4YeB3r4YNc/avx+J9Gq2D9q/H4n0arYP4YeB3r4YNc/hh4Hevhg1z+GHgd6+GDXP4YeB3r4YNc/avx+J9Gq2D+GHgd6+GDXP4YeB3r4YNc/hh4Hevhg1z+GHgd6+GDXP4YeB3r4YNc/aGBzPbHA6z/zwdJ47tfhP/PB0nju1+E/88HSeO7X4T9oYHM9scDrP/PB0nju1+E/YkqVPde60j+kr4gjozfYP6SviCOjN9g/pK+II6M32D9mlDsb+kbvPw==",
          "dtype": "f8"
         },
         "y0": " ",
         "yaxis": "y7"
        },
        {
         "alignmentgroup": "True",
         "hovertemplate": "FG2_energy_transfert=%{y}<extra></extra>",
         "legendgroup": "",
         "marker": {
          "color": "#636efa"
         },
         "name": "",
         "notched": false,
         "offsetgroup": "",
         "orientation": "v",
         "showlegend": false,
         "type": "box",
         "x0": " ",
         "xaxis": "x8",
         "y": {
          "bdata": "1L0qmhLRzT/UvSqaEtHNP9S9KpoS0c0/1L0qmhLRzT/UvSqaEtHNP9S9KpoS0c0/1L0qmhLRzT/UvSqaEtHNP9S9KpoS0c0/1L0qmhLRzT/UvSqaEtHNP9S9KpoS0c0/1L0qmhLRzT/UvSqaEtHNP9S9KpoS0c0/iN6c7d5lyD+qADaEQ2XSP6oANoRDZdI/qgA2hENl0j+I3pzt3mXIP6oANoRDZdI/krKE4bk41D91jySiZ5HiP3WPJKJnkeI/dY8komeR4j+GmAkOD53sPw==",
          "dtype": "f8"
         },
         "y0": " ",
         "yaxis": "y8"
        }
       ],
       "layout": {
        "annotations": [
         {
          "font": {
           "size": 16
          },
          "showarrow": false,
          "text": "FG1_energy_transfert",
          "x": 0.13333333333333333,
          "xanchor": "center",
          "xref": "paper",
          "y": 1,
          "yanchor": "bottom",
          "yref": "paper"
         },
         {
          "font": {
           "size": 16
          },
          "showarrow": false,
          "text": "lambda_temperature_0",
          "x": 0.5,
          "xanchor": "center",
          "xref": "paper",
          "y": 1,
          "yanchor": "bottom",
          "yref": "paper"
         },
         {
          "font": {
           "size": 16
          },
          "showarrow": false,
          "text": "gamma_lambda_temperature",
          "x": 0.8666666666666667,
          "xanchor": "center",
          "xref": "paper",
          "y": 1,
          "yanchor": "bottom",
          "yref": "paper"
         },
         {
          "font": {
           "size": 16
          },
          "showarrow": false,
          "text": "tr_0",
          "x": 0.13333333333333333,
          "xanchor": "center",
          "xref": "paper",
          "y": 0.6333333333333333,
          "yanchor": "bottom",
          "yref": "paper"
         },
         {
          "font": {
           "size": 16
          },
          "showarrow": false,
          "text": "gamma_tr",
          "x": 0.5,
          "xanchor": "center",
          "xref": "paper",
          "y": 0.6333333333333333,
          "yanchor": "bottom",
          "yref": "paper"
         },
         {
          "font": {
           "size": 16
          },
          "showarrow": false,
          "text": "lambda_acidity_0",
          "x": 0.8666666666666667,
          "xanchor": "center",
          "xref": "paper",
          "y": 0.6333333333333333,
          "yanchor": "bottom",
          "yref": "paper"
         },
         {
          "font": {
           "size": 16
          },
          "showarrow": false,
          "text": "gamma_lambda_acidity",
          "x": 0.13333333333333333,
          "xanchor": "center",
          "xref": "paper",
          "y": 0.26666666666666666,
          "yanchor": "bottom",
          "yref": "paper"
         },
         {
          "font": {
           "size": 16
          },
          "showarrow": false,
          "text": "FG2_energy_transfert",
          "x": 0.5,
          "xanchor": "center",
          "xref": "paper",
          "y": 0.26666666666666666,
          "yanchor": "bottom",
          "yref": "paper"
         }
        ],
        "height": 900,
        "template": {
         "data": {
          "bar": [
           {
            "error_x": {
             "color": "#2a3f5f"
            },
            "error_y": {
             "color": "#2a3f5f"
            },
            "marker": {
             "line": {
              "color": "#E5ECF6",
              "width": 0.5
             },
             "pattern": {
              "fillmode": "overlay",
              "size": 10,
              "solidity": 0.2
             }
            },
            "type": "bar"
           }
          ],
          "barpolar": [
           {
            "marker": {
             "line": {
              "color": "#E5ECF6",
              "width": 0.5
             },
             "pattern": {
              "fillmode": "overlay",
              "size": 10,
              "solidity": 0.2
             }
            },
            "type": "barpolar"
           }
          ],
          "carpet": [
           {
            "aaxis": {
             "endlinecolor": "#2a3f5f",
             "gridcolor": "white",
             "linecolor": "white",
             "minorgridcolor": "white",
             "startlinecolor": "#2a3f5f"
            },
            "baxis": {
             "endlinecolor": "#2a3f5f",
             "gridcolor": "white",
             "linecolor": "white",
             "minorgridcolor": "white",
             "startlinecolor": "#2a3f5f"
            },
            "type": "carpet"
           }
          ],
          "choropleth": [
           {
            "colorbar": {
             "outlinewidth": 0,
             "ticks": ""
            },
            "type": "choropleth"
           }
          ],
          "contour": [
           {
            "colorbar": {
             "outlinewidth": 0,
             "ticks": ""
            },
            "colorscale": [
             [
              0,
              "#0d0887"
             ],
             [
              0.1111111111111111,
              "#46039f"
             ],
             [
              0.2222222222222222,
              "#7201a8"
             ],
             [
              0.3333333333333333,
              "#9c179e"
             ],
             [
              0.4444444444444444,
              "#bd3786"
             ],
             [
              0.5555555555555556,
              "#d8576b"
             ],
             [
              0.6666666666666666,
              "#ed7953"
             ],
             [
              0.7777777777777778,
              "#fb9f3a"
             ],
             [
              0.8888888888888888,
              "#fdca26"
             ],
             [
              1,
              "#f0f921"
             ]
            ],
            "type": "contour"
           }
          ],
          "contourcarpet": [
           {
            "colorbar": {
             "outlinewidth": 0,
             "ticks": ""
            },
            "type": "contourcarpet"
           }
          ],
          "heatmap": [
           {
            "colorbar": {
             "outlinewidth": 0,
             "ticks": ""
            },
            "colorscale": [
             [
              0,
              "#0d0887"
             ],
             [
              0.1111111111111111,
              "#46039f"
             ],
             [
              0.2222222222222222,
              "#7201a8"
             ],
             [
              0.3333333333333333,
              "#9c179e"
             ],
             [
              0.4444444444444444,
              "#bd3786"
             ],
             [
              0.5555555555555556,
              "#d8576b"
             ],
             [
              0.6666666666666666,
              "#ed7953"
             ],
             [
              0.7777777777777778,
              "#fb9f3a"
             ],
             [
              0.8888888888888888,
              "#fdca26"
             ],
             [
              1,
              "#f0f921"
             ]
            ],
            "type": "heatmap"
           }
          ],
          "histogram": [
           {
            "marker": {
             "pattern": {
              "fillmode": "overlay",
              "size": 10,
              "solidity": 0.2
             }
            },
            "type": "histogram"
           }
          ],
          "histogram2d": [
           {
            "colorbar": {
             "outlinewidth": 0,
             "ticks": ""
            },
            "colorscale": [
             [
              0,
              "#0d0887"
             ],
             [
              0.1111111111111111,
              "#46039f"
             ],
             [
              0.2222222222222222,
              "#7201a8"
             ],
             [
              0.3333333333333333,
              "#9c179e"
             ],
             [
              0.4444444444444444,
              "#bd3786"
             ],
             [
              0.5555555555555556,
              "#d8576b"
             ],
             [
              0.6666666666666666,
              "#ed7953"
             ],
             [
              0.7777777777777778,
              "#fb9f3a"
             ],
             [
              0.8888888888888888,
              "#fdca26"
             ],
             [
              1,
              "#f0f921"
             ]
            ],
            "type": "histogram2d"
           }
          ],
          "histogram2dcontour": [
           {
            "colorbar": {
             "outlinewidth": 0,
             "ticks": ""
            },
            "colorscale": [
             [
              0,
              "#0d0887"
             ],
             [
              0.1111111111111111,
              "#46039f"
             ],
             [
              0.2222222222222222,
              "#7201a8"
             ],
             [
              0.3333333333333333,
              "#9c179e"
             ],
             [
              0.4444444444444444,
              "#bd3786"
             ],
             [
              0.5555555555555556,
              "#d8576b"
             ],
             [
              0.6666666666666666,
              "#ed7953"
             ],
             [
              0.7777777777777778,
              "#fb9f3a"
             ],
             [
              0.8888888888888888,
              "#fdca26"
             ],
             [
              1,
              "#f0f921"
             ]
            ],
            "type": "histogram2dcontour"
           }
          ],
          "mesh3d": [
           {
            "colorbar": {
             "outlinewidth": 0,
             "ticks": ""
            },
            "type": "mesh3d"
           }
          ],
          "parcoords": [
           {
            "line": {
             "colorbar": {
              "outlinewidth": 0,
              "ticks": ""
             }
            },
            "type": "parcoords"
           }
          ],
          "pie": [
           {
            "automargin": true,
            "type": "pie"
           }
          ],
          "scatter": [
           {
            "fillpattern": {
             "fillmode": "overlay",
             "size": 10,
             "solidity": 0.2
            },
            "type": "scatter"
           }
          ],
          "scatter3d": [
           {
            "line": {
             "colorbar": {
              "outlinewidth": 0,
              "ticks": ""
             }
            },
            "marker": {
             "colorbar": {
              "outlinewidth": 0,
              "ticks": ""
             }
            },
            "type": "scatter3d"
           }
          ],
          "scattercarpet": [
           {
            "marker": {
             "colorbar": {
              "outlinewidth": 0,
              "ticks": ""
             }
            },
            "type": "scattercarpet"
           }
          ],
          "scattergeo": [
           {
            "marker": {
             "colorbar": {
              "outlinewidth": 0,
              "ticks": ""
             }
            },
            "type": "scattergeo"
           }
          ],
          "scattergl": [
           {
            "marker": {
             "colorbar": {
              "outlinewidth": 0,
              "ticks": ""
             }
            },
            "type": "scattergl"
           }
          ],
          "scattermap": [
           {
            "marker": {
             "colorbar": {
              "outlinewidth": 0,
              "ticks": ""
             }
            },
            "type": "scattermap"
           }
          ],
          "scattermapbox": [
           {
            "marker": {
             "colorbar": {
              "outlinewidth": 0,
              "ticks": ""
             }
            },
            "type": "scattermapbox"
           }
          ],
          "scatterpolar": [
           {
            "marker": {
             "colorbar": {
              "outlinewidth": 0,
              "ticks": ""
             }
            },
            "type": "scatterpolar"
           }
          ],
          "scatterpolargl": [
           {
            "marker": {
             "colorbar": {
              "outlinewidth": 0,
              "ticks": ""
             }
            },
            "type": "scatterpolargl"
           }
          ],
          "scatterternary": [
           {
            "marker": {
             "colorbar": {
              "outlinewidth": 0,
              "ticks": ""
             }
            },
            "type": "scatterternary"
           }
          ],
          "surface": [
           {
            "colorbar": {
             "outlinewidth": 0,
             "ticks": ""
            },
            "colorscale": [
             [
              0,
              "#0d0887"
             ],
             [
              0.1111111111111111,
              "#46039f"
             ],
             [
              0.2222222222222222,
              "#7201a8"
             ],
             [
              0.3333333333333333,
              "#9c179e"
             ],
             [
              0.4444444444444444,
              "#bd3786"
             ],
             [
              0.5555555555555556,
              "#d8576b"
             ],
             [
              0.6666666666666666,
              "#ed7953"
             ],
             [
              0.7777777777777778,
              "#fb9f3a"
             ],
             [
              0.8888888888888888,
              "#fdca26"
             ],
             [
              1,
              "#f0f921"
             ]
            ],
            "type": "surface"
           }
          ],
          "table": [
           {
            "cells": {
             "fill": {
              "color": "#EBF0F8"
             },
             "line": {
              "color": "white"
             }
            },
            "header": {
             "fill": {
              "color": "#C8D4E3"
             },
             "line": {
              "color": "white"
             }
            },
            "type": "table"
           }
          ]
         },
         "layout": {
          "annotationdefaults": {
           "arrowcolor": "#2a3f5f",
           "arrowhead": 0,
           "arrowwidth": 1
          },
          "autotypenumbers": "strict",
          "coloraxis": {
           "colorbar": {
            "outlinewidth": 0,
            "ticks": ""
           }
          },
          "colorscale": {
           "diverging": [
            [
             0,
             "#8e0152"
            ],
            [
             0.1,
             "#c51b7d"
            ],
            [
             0.2,
             "#de77ae"
            ],
            [
             0.3,
             "#f1b6da"
            ],
            [
             0.4,
             "#fde0ef"
            ],
            [
             0.5,
             "#f7f7f7"
            ],
            [
             0.6,
             "#e6f5d0"
            ],
            [
             0.7,
             "#b8e186"
            ],
            [
             0.8,
             "#7fbc41"
            ],
            [
             0.9,
             "#4d9221"
            ],
            [
             1,
             "#276419"
            ]
           ],
           "sequential": [
            [
             0,
             "#0d0887"
            ],
            [
             0.1111111111111111,
             "#46039f"
            ],
            [
             0.2222222222222222,
             "#7201a8"
            ],
            [
             0.3333333333333333,
             "#9c179e"
            ],
            [
             0.4444444444444444,
             "#bd3786"
            ],
            [
             0.5555555555555556,
             "#d8576b"
            ],
            [
             0.6666666666666666,
             "#ed7953"
            ],
            [
             0.7777777777777778,
             "#fb9f3a"
            ],
            [
             0.8888888888888888,
             "#fdca26"
            ],
            [
             1,
             "#f0f921"
            ]
           ],
           "sequentialminus": [
            [
             0,
             "#0d0887"
            ],
            [
             0.1111111111111111,
             "#46039f"
            ],
            [
             0.2222222222222222,
             "#7201a8"
            ],
            [
             0.3333333333333333,
             "#9c179e"
            ],
            [
             0.4444444444444444,
             "#bd3786"
            ],
            [
             0.5555555555555556,
             "#d8576b"
            ],
            [
             0.6666666666666666,
             "#ed7953"
            ],
            [
             0.7777777777777778,
             "#fb9f3a"
            ],
            [
             0.8888888888888888,
             "#fdca26"
            ],
            [
             1,
             "#f0f921"
            ]
           ]
          },
          "colorway": [
           "#636efa",
           "#EF553B",
           "#00cc96",
           "#ab63fa",
           "#FFA15A",
           "#19d3f3",
           "#FF6692",
           "#B6E880",
           "#FF97FF",
           "#FECB52"
          ],
          "font": {
           "color": "#2a3f5f"
          },
          "geo": {
           "bgcolor": "white",
           "lakecolor": "white",
           "landcolor": "#E5ECF6",
           "showlakes": true,
           "showland": true,
           "subunitcolor": "white"
          },
          "hoverlabel": {
           "align": "left"
          },
          "hovermode": "closest",
          "mapbox": {
           "style": "light"
          },
          "paper_bgcolor": "white",
          "plot_bgcolor": "#E5ECF6",
          "polar": {
           "angularaxis": {
            "gridcolor": "white",
            "linecolor": "white",
            "ticks": ""
           },
           "bgcolor": "#E5ECF6",
           "radialaxis": {
            "gridcolor": "white",
            "linecolor": "white",
            "ticks": ""
           }
          },
          "scene": {
           "xaxis": {
            "backgroundcolor": "#E5ECF6",
            "gridcolor": "white",
            "gridwidth": 2,
            "linecolor": "white",
            "showbackground": true,
            "ticks": "",
            "zerolinecolor": "white"
           },
           "yaxis": {
            "backgroundcolor": "#E5ECF6",
            "gridcolor": "white",
            "gridwidth": 2,
            "linecolor": "white",
            "showbackground": true,
            "ticks": "",
            "zerolinecolor": "white"
           },
           "zaxis": {
            "backgroundcolor": "#E5ECF6",
            "gridcolor": "white",
            "gridwidth": 2,
            "linecolor": "white",
            "showbackground": true,
            "ticks": "",
            "zerolinecolor": "white"
           }
          },
          "shapedefaults": {
           "line": {
            "color": "#2a3f5f"
           }
          },
          "ternary": {
           "aaxis": {
            "gridcolor": "white",
            "linecolor": "white",
            "ticks": ""
           },
           "baxis": {
            "gridcolor": "white",
            "linecolor": "white",
            "ticks": ""
           },
           "bgcolor": "#E5ECF6",
           "caxis": {
            "gridcolor": "white",
            "linecolor": "white",
            "ticks": ""
           }
          },
          "title": {
           "x": 0.05
          },
          "xaxis": {
           "automargin": true,
           "gridcolor": "white",
           "linecolor": "white",
           "ticks": "",
           "title": {
            "standoff": 15
           },
           "zerolinecolor": "white",
           "zerolinewidth": 2
          },
          "yaxis": {
           "automargin": true,
           "gridcolor": "white",
           "linecolor": "white",
           "ticks": "",
           "title": {
            "standoff": 15
           },
           "zerolinecolor": "white",
           "zerolinewidth": 2
          }
         }
        },
        "title": {
         "text": "Parameters distribution"
        },
        "width": 900,
        "xaxis": {
         "anchor": "y",
         "domain": [
          0,
          0.26666666666666666
         ]
        },
        "xaxis2": {
         "anchor": "y2",
         "domain": [
          0.3666666666666667,
          0.6333333333333333
         ]
        },
        "xaxis3": {
         "anchor": "y3",
         "domain": [
          0.7333333333333334,
          1
         ]
        },
        "xaxis4": {
         "anchor": "y4",
         "domain": [
          0,
          0.26666666666666666
         ]
        },
        "xaxis5": {
         "anchor": "y5",
         "domain": [
          0.3666666666666667,
          0.6333333333333333
         ]
        },
        "xaxis6": {
         "anchor": "y6",
         "domain": [
          0.7333333333333334,
          1
         ]
        },
        "xaxis7": {
         "anchor": "y7",
         "domain": [
          0,
          0.26666666666666666
         ]
        },
        "xaxis8": {
         "anchor": "y8",
         "domain": [
          0.3666666666666667,
          0.6333333333333333
         ]
        },
        "xaxis9": {
         "anchor": "y9",
         "domain": [
          0.7333333333333334,
          1
         ]
        },
        "yaxis": {
         "anchor": "x",
         "domain": [
          0.7333333333333334,
          1
         ]
        },
        "yaxis2": {
         "anchor": "x2",
         "domain": [
          0.7333333333333334,
          1
         ]
        },
        "yaxis3": {
         "anchor": "x3",
         "domain": [
          0.7333333333333334,
          1
         ]
        },
        "yaxis4": {
         "anchor": "x4",
         "domain": [
          0.3666666666666667,
          0.6333333333333333
         ]
        },
        "yaxis5": {
         "anchor": "x5",
         "domain": [
          0.3666666666666667,
          0.6333333333333333
         ]
        },
        "yaxis6": {
         "anchor": "x6",
         "domain": [
          0.3666666666666667,
          0.6333333333333333
         ]
        },
        "yaxis7": {
         "anchor": "x7",
         "domain": [
          0,
          0.26666666666666666
         ]
        },
        "yaxis8": {
         "anchor": "x8",
         "domain": [
          0,
          0.26666666666666666
         ]
        },
        "yaxis9": {
         "anchor": "x9",
         "domain": [
          0,
          0.26666666666666666
         ]
        }
       }
      }
     },
     "metadata": {},
     "output_type": "display_data"
    }
   ],
   "source": [
    "viewer.box_plot(3)"
   ]
  },
  {
   "cell_type": "code",
   "execution_count": 30,
   "id": "c87e9849",
   "metadata": {},
   "outputs": [
    {
     "data": {
      "application/vnd.plotly.v1+json": {
       "config": {
        "plotlyServerURL": "https://plot.ly"
       },
       "data": [
        {
         "dimensions": [
          {
           "label": "FG1_energy_transfert",
           "range": [
            0,
            1
           ],
           "values": {
            "bdata": "L3fAwx5f4j8vd8DDHl/iPy93wMMeX+I/3rDW/FlY5D/KkvgckqfiP6z9O8HqvuU/3rDW/FlY5D/ggi/465q+P0AvJOlFe6E/AKD8a1GaMj8=",
            "dtype": "f8"
           }
          },
          {
           "label": "lambda_temperature_0",
           "range": [
            0,
            1
           ],
           "values": {
            "bdata": "1l0E2chB3D/WXQTZyEHcPz5Nd4wZRNQ/UD5yEHbwsT/IAYYcuEmyP8gBhhy4SbI/UD5yEHbwsT9K3r3Mm1DfP8A6WLzWP+g/nKGJ6PGK2T8=",
            "dtype": "f8"
           }
          },
          {
           "label": "gamma_lambda_temperature",
           "range": [
            0,
            1
           ],
           "values": {
            "bdata": "5Jeihhu32T/kl6KGG7fZP+SXooYbt9k/BN5MIBo1wD/EHZTBcjLTP3Qc8K8tick/BN5MIBo1wD8QkM1sKBWjP6i8V6b1b+M//xNKwwuN4D8=",
            "dtype": "f8"
           }
          },
          {
           "label": "tr_0",
           "range": [
            0,
            10
           ],
           "values": {
            "bdata": "RPTJswt2IkBE9MmzC3YiQET0ybMLdiJAHpVJVW4CG0BgDteuVewiQCP8yB2tmCNAHpVJVW4CG0DjPuwZ5xojQMRKqSdZFA9AaHUMW/sVEEA=",
            "dtype": "f8"
           }
          },
          {
           "label": "gamma_tr",
           "range": [
            -1,
            0
           ],
           "values": {
            "bdata": "gjS7RK1S1r+CNLtErVLWv4I0u0StUta/KveZ1S3R3b/AuiLQCrHcv3yVZFj3zeC/wLoi0Aqx3L8mNyI4dBHqvzPneS1sKOm/KOwuOdn8z78=",
            "dtype": "f8"
           }
          },
          {
           "label": "lambda_acidity_0",
           "range": [
            0,
            1
           ],
           "values": {
            "bdata": "aAi1Gcgn0D9oCLUZyCfQP2gItRnIJ9A/khoQFtHb7z+woC0EmSbZP5IaEBbR2+8/sKAtBJkm2T9YrMbrzgHuP4nFafsePu4/8GEUI1wN1j8=",
            "dtype": "f8"
           }
          },
          {
           "label": "gamma_lambda_acidity",
           "range": [
            0,
            1
           ],
           "values": {
            "bdata": "hh4Hevhg1z9q/H4n0arYP4YeB3r4YNc/aGBzPbHA6z/zwdJ47tfhP2hgcz2xwOs/88HSeO7X4T9iSpU917rSP6SviCOjN9g/ZpQ7G/pG7z8=",
            "dtype": "f8"
           }
          },
          {
           "label": "FG2_energy_transfert",
           "range": [
            0,
            1
           ],
           "values": {
            "bdata": "1L0qmhLRzT/UvSqaEtHNP9S9KpoS0c0/iN6c7d5lyD+qADaEQ2XSP4jenO3eZcg/qgA2hENl0j+SsoThuTjUP3WPJKJnkeI/hpgJDg+d7D8=",
            "dtype": "f8"
           }
          }
         ],
         "line": {
          "color": {
           "bdata": "jAGlq1E50D+MAaWrUTnQP1KGONQ4ctA/HAiGnYlw1z/I8gJaeYfXP/l491Z+xdc/9JHe7J8z2j/K5gk+uSfbP9F4YBMQlN0/5UtQIDN88D8=",
           "dtype": "f8",
           "shape": "10, 1"
          },
          "colorbar": {
           "tickmode": "array",
           "ticktext": [
            [
             -1.0303221952678936
            ],
            [
             -0.25349847566760597
            ]
           ],
           "tickvals": [
            [
             1.0303221952678936
            ],
            [
             0.25349847566760597
            ]
           ],
           "title": {
            "text": "Cost function score"
           }
          },
          "colorscale": [
           [
            0,
            "rgb(12,51,131)"
           ],
           [
            0.25,
            "rgb(10,136,186)"
           ],
           [
            0.5,
            "rgb(242,211,56)"
           ],
           [
            0.75,
            "rgb(242,143,56)"
           ],
           [
            1,
            "rgb(217,30,30)"
           ]
          ],
          "reversescale": true,
          "showscale": true
         },
         "type": "parcoords",
         "unselected": {
          "line": {
           "opacity": 0.2
          }
         }
        }
       ],
       "layout": {
        "coloraxis": {
         "colorbar": {
          "title": {
           "text": "Cost function score"
          }
         }
        },
        "template": {
         "data": {
          "bar": [
           {
            "error_x": {
             "color": "#2a3f5f"
            },
            "error_y": {
             "color": "#2a3f5f"
            },
            "marker": {
             "line": {
              "color": "#E5ECF6",
              "width": 0.5
             },
             "pattern": {
              "fillmode": "overlay",
              "size": 10,
              "solidity": 0.2
             }
            },
            "type": "bar"
           }
          ],
          "barpolar": [
           {
            "marker": {
             "line": {
              "color": "#E5ECF6",
              "width": 0.5
             },
             "pattern": {
              "fillmode": "overlay",
              "size": 10,
              "solidity": 0.2
             }
            },
            "type": "barpolar"
           }
          ],
          "carpet": [
           {
            "aaxis": {
             "endlinecolor": "#2a3f5f",
             "gridcolor": "white",
             "linecolor": "white",
             "minorgridcolor": "white",
             "startlinecolor": "#2a3f5f"
            },
            "baxis": {
             "endlinecolor": "#2a3f5f",
             "gridcolor": "white",
             "linecolor": "white",
             "minorgridcolor": "white",
             "startlinecolor": "#2a3f5f"
            },
            "type": "carpet"
           }
          ],
          "choropleth": [
           {
            "colorbar": {
             "outlinewidth": 0,
             "ticks": ""
            },
            "type": "choropleth"
           }
          ],
          "contour": [
           {
            "colorbar": {
             "outlinewidth": 0,
             "ticks": ""
            },
            "colorscale": [
             [
              0,
              "#0d0887"
             ],
             [
              0.1111111111111111,
              "#46039f"
             ],
             [
              0.2222222222222222,
              "#7201a8"
             ],
             [
              0.3333333333333333,
              "#9c179e"
             ],
             [
              0.4444444444444444,
              "#bd3786"
             ],
             [
              0.5555555555555556,
              "#d8576b"
             ],
             [
              0.6666666666666666,
              "#ed7953"
             ],
             [
              0.7777777777777778,
              "#fb9f3a"
             ],
             [
              0.8888888888888888,
              "#fdca26"
             ],
             [
              1,
              "#f0f921"
             ]
            ],
            "type": "contour"
           }
          ],
          "contourcarpet": [
           {
            "colorbar": {
             "outlinewidth": 0,
             "ticks": ""
            },
            "type": "contourcarpet"
           }
          ],
          "heatmap": [
           {
            "colorbar": {
             "outlinewidth": 0,
             "ticks": ""
            },
            "colorscale": [
             [
              0,
              "#0d0887"
             ],
             [
              0.1111111111111111,
              "#46039f"
             ],
             [
              0.2222222222222222,
              "#7201a8"
             ],
             [
              0.3333333333333333,
              "#9c179e"
             ],
             [
              0.4444444444444444,
              "#bd3786"
             ],
             [
              0.5555555555555556,
              "#d8576b"
             ],
             [
              0.6666666666666666,
              "#ed7953"
             ],
             [
              0.7777777777777778,
              "#fb9f3a"
             ],
             [
              0.8888888888888888,
              "#fdca26"
             ],
             [
              1,
              "#f0f921"
             ]
            ],
            "type": "heatmap"
           }
          ],
          "histogram": [
           {
            "marker": {
             "pattern": {
              "fillmode": "overlay",
              "size": 10,
              "solidity": 0.2
             }
            },
            "type": "histogram"
           }
          ],
          "histogram2d": [
           {
            "colorbar": {
             "outlinewidth": 0,
             "ticks": ""
            },
            "colorscale": [
             [
              0,
              "#0d0887"
             ],
             [
              0.1111111111111111,
              "#46039f"
             ],
             [
              0.2222222222222222,
              "#7201a8"
             ],
             [
              0.3333333333333333,
              "#9c179e"
             ],
             [
              0.4444444444444444,
              "#bd3786"
             ],
             [
              0.5555555555555556,
              "#d8576b"
             ],
             [
              0.6666666666666666,
              "#ed7953"
             ],
             [
              0.7777777777777778,
              "#fb9f3a"
             ],
             [
              0.8888888888888888,
              "#fdca26"
             ],
             [
              1,
              "#f0f921"
             ]
            ],
            "type": "histogram2d"
           }
          ],
          "histogram2dcontour": [
           {
            "colorbar": {
             "outlinewidth": 0,
             "ticks": ""
            },
            "colorscale": [
             [
              0,
              "#0d0887"
             ],
             [
              0.1111111111111111,
              "#46039f"
             ],
             [
              0.2222222222222222,
              "#7201a8"
             ],
             [
              0.3333333333333333,
              "#9c179e"
             ],
             [
              0.4444444444444444,
              "#bd3786"
             ],
             [
              0.5555555555555556,
              "#d8576b"
             ],
             [
              0.6666666666666666,
              "#ed7953"
             ],
             [
              0.7777777777777778,
              "#fb9f3a"
             ],
             [
              0.8888888888888888,
              "#fdca26"
             ],
             [
              1,
              "#f0f921"
             ]
            ],
            "type": "histogram2dcontour"
           }
          ],
          "mesh3d": [
           {
            "colorbar": {
             "outlinewidth": 0,
             "ticks": ""
            },
            "type": "mesh3d"
           }
          ],
          "parcoords": [
           {
            "line": {
             "colorbar": {
              "outlinewidth": 0,
              "ticks": ""
             }
            },
            "type": "parcoords"
           }
          ],
          "pie": [
           {
            "automargin": true,
            "type": "pie"
           }
          ],
          "scatter": [
           {
            "fillpattern": {
             "fillmode": "overlay",
             "size": 10,
             "solidity": 0.2
            },
            "type": "scatter"
           }
          ],
          "scatter3d": [
           {
            "line": {
             "colorbar": {
              "outlinewidth": 0,
              "ticks": ""
             }
            },
            "marker": {
             "colorbar": {
              "outlinewidth": 0,
              "ticks": ""
             }
            },
            "type": "scatter3d"
           }
          ],
          "scattercarpet": [
           {
            "marker": {
             "colorbar": {
              "outlinewidth": 0,
              "ticks": ""
             }
            },
            "type": "scattercarpet"
           }
          ],
          "scattergeo": [
           {
            "marker": {
             "colorbar": {
              "outlinewidth": 0,
              "ticks": ""
             }
            },
            "type": "scattergeo"
           }
          ],
          "scattergl": [
           {
            "marker": {
             "colorbar": {
              "outlinewidth": 0,
              "ticks": ""
             }
            },
            "type": "scattergl"
           }
          ],
          "scattermap": [
           {
            "marker": {
             "colorbar": {
              "outlinewidth": 0,
              "ticks": ""
             }
            },
            "type": "scattermap"
           }
          ],
          "scattermapbox": [
           {
            "marker": {
             "colorbar": {
              "outlinewidth": 0,
              "ticks": ""
             }
            },
            "type": "scattermapbox"
           }
          ],
          "scatterpolar": [
           {
            "marker": {
             "colorbar": {
              "outlinewidth": 0,
              "ticks": ""
             }
            },
            "type": "scatterpolar"
           }
          ],
          "scatterpolargl": [
           {
            "marker": {
             "colorbar": {
              "outlinewidth": 0,
              "ticks": ""
             }
            },
            "type": "scatterpolargl"
           }
          ],
          "scatterternary": [
           {
            "marker": {
             "colorbar": {
              "outlinewidth": 0,
              "ticks": ""
             }
            },
            "type": "scatterternary"
           }
          ],
          "surface": [
           {
            "colorbar": {
             "outlinewidth": 0,
             "ticks": ""
            },
            "colorscale": [
             [
              0,
              "#0d0887"
             ],
             [
              0.1111111111111111,
              "#46039f"
             ],
             [
              0.2222222222222222,
              "#7201a8"
             ],
             [
              0.3333333333333333,
              "#9c179e"
             ],
             [
              0.4444444444444444,
              "#bd3786"
             ],
             [
              0.5555555555555556,
              "#d8576b"
             ],
             [
              0.6666666666666666,
              "#ed7953"
             ],
             [
              0.7777777777777778,
              "#fb9f3a"
             ],
             [
              0.8888888888888888,
              "#fdca26"
             ],
             [
              1,
              "#f0f921"
             ]
            ],
            "type": "surface"
           }
          ],
          "table": [
           {
            "cells": {
             "fill": {
              "color": "#EBF0F8"
             },
             "line": {
              "color": "white"
             }
            },
            "header": {
             "fill": {
              "color": "#C8D4E3"
             },
             "line": {
              "color": "white"
             }
            },
            "type": "table"
           }
          ]
         },
         "layout": {
          "annotationdefaults": {
           "arrowcolor": "#2a3f5f",
           "arrowhead": 0,
           "arrowwidth": 1
          },
          "autotypenumbers": "strict",
          "coloraxis": {
           "colorbar": {
            "outlinewidth": 0,
            "ticks": ""
           }
          },
          "colorscale": {
           "diverging": [
            [
             0,
             "#8e0152"
            ],
            [
             0.1,
             "#c51b7d"
            ],
            [
             0.2,
             "#de77ae"
            ],
            [
             0.3,
             "#f1b6da"
            ],
            [
             0.4,
             "#fde0ef"
            ],
            [
             0.5,
             "#f7f7f7"
            ],
            [
             0.6,
             "#e6f5d0"
            ],
            [
             0.7,
             "#b8e186"
            ],
            [
             0.8,
             "#7fbc41"
            ],
            [
             0.9,
             "#4d9221"
            ],
            [
             1,
             "#276419"
            ]
           ],
           "sequential": [
            [
             0,
             "#0d0887"
            ],
            [
             0.1111111111111111,
             "#46039f"
            ],
            [
             0.2222222222222222,
             "#7201a8"
            ],
            [
             0.3333333333333333,
             "#9c179e"
            ],
            [
             0.4444444444444444,
             "#bd3786"
            ],
            [
             0.5555555555555556,
             "#d8576b"
            ],
            [
             0.6666666666666666,
             "#ed7953"
            ],
            [
             0.7777777777777778,
             "#fb9f3a"
            ],
            [
             0.8888888888888888,
             "#fdca26"
            ],
            [
             1,
             "#f0f921"
            ]
           ],
           "sequentialminus": [
            [
             0,
             "#0d0887"
            ],
            [
             0.1111111111111111,
             "#46039f"
            ],
            [
             0.2222222222222222,
             "#7201a8"
            ],
            [
             0.3333333333333333,
             "#9c179e"
            ],
            [
             0.4444444444444444,
             "#bd3786"
            ],
            [
             0.5555555555555556,
             "#d8576b"
            ],
            [
             0.6666666666666666,
             "#ed7953"
            ],
            [
             0.7777777777777778,
             "#fb9f3a"
            ],
            [
             0.8888888888888888,
             "#fdca26"
            ],
            [
             1,
             "#f0f921"
            ]
           ]
          },
          "colorway": [
           "#636efa",
           "#EF553B",
           "#00cc96",
           "#ab63fa",
           "#FFA15A",
           "#19d3f3",
           "#FF6692",
           "#B6E880",
           "#FF97FF",
           "#FECB52"
          ],
          "font": {
           "color": "#2a3f5f"
          },
          "geo": {
           "bgcolor": "white",
           "lakecolor": "white",
           "landcolor": "#E5ECF6",
           "showlakes": true,
           "showland": true,
           "subunitcolor": "white"
          },
          "hoverlabel": {
           "align": "left"
          },
          "hovermode": "closest",
          "mapbox": {
           "style": "light"
          },
          "paper_bgcolor": "white",
          "plot_bgcolor": "#E5ECF6",
          "polar": {
           "angularaxis": {
            "gridcolor": "white",
            "linecolor": "white",
            "ticks": ""
           },
           "bgcolor": "#E5ECF6",
           "radialaxis": {
            "gridcolor": "white",
            "linecolor": "white",
            "ticks": ""
           }
          },
          "scene": {
           "xaxis": {
            "backgroundcolor": "#E5ECF6",
            "gridcolor": "white",
            "gridwidth": 2,
            "linecolor": "white",
            "showbackground": true,
            "ticks": "",
            "zerolinecolor": "white"
           },
           "yaxis": {
            "backgroundcolor": "#E5ECF6",
            "gridcolor": "white",
            "gridwidth": 2,
            "linecolor": "white",
            "showbackground": true,
            "ticks": "",
            "zerolinecolor": "white"
           },
           "zaxis": {
            "backgroundcolor": "#E5ECF6",
            "gridcolor": "white",
            "gridwidth": 2,
            "linecolor": "white",
            "showbackground": true,
            "ticks": "",
            "zerolinecolor": "white"
           }
          },
          "shapedefaults": {
           "line": {
            "color": "#2a3f5f"
           }
          },
          "ternary": {
           "aaxis": {
            "gridcolor": "white",
            "linecolor": "white",
            "ticks": ""
           },
           "baxis": {
            "gridcolor": "white",
            "linecolor": "white",
            "ticks": ""
           },
           "bgcolor": "#E5ECF6",
           "caxis": {
            "gridcolor": "white",
            "linecolor": "white",
            "ticks": ""
           }
          },
          "title": {
           "x": 0.05
          },
          "xaxis": {
           "automargin": true,
           "gridcolor": "white",
           "linecolor": "white",
           "ticks": "",
           "title": {
            "standoff": 15
           },
           "zerolinecolor": "white",
           "zerolinewidth": 2
          },
          "yaxis": {
           "automargin": true,
           "gridcolor": "white",
           "linecolor": "white",
           "ticks": "",
           "title": {
            "standoff": 15
           },
           "zerolinecolor": "white",
           "zerolinewidth": 2
          }
         }
        },
        "title": {
         "text": "Parameters optimization : minimization of the cost function for group 1"
        }
       }
      }
     },
     "metadata": {},
     "output_type": "display_data"
    }
   ],
   "source": [
    "viewer.parallel_coordinates()[0]"
   ]
  },
  {
   "cell_type": "code",
   "execution_count": 31,
   "id": "99ff5081",
   "metadata": {},
   "outputs": [
    {
     "data": {
      "application/vnd.plotly.v1+json": {
       "config": {
        "plotlyServerURL": "https://plot.ly"
       },
       "data": [
        {
         "orientation": "h",
         "type": "bar",
         "x": {
          "bdata": "+txpAkPL0z90J7pwuqDVP1LY+v7x0NI/ZmDUiJaq0j+VsqK1s6nNP4cs5xtYD9Y/2Q3x2lRV0j/4nI5Ol1jSPw==",
          "dtype": "f8"
         },
         "xaxis": "x",
         "y": [
          "FG1_energy_transfert",
          "lambda_temperature_0",
          "gamma_lambda_temperature",
          "tr_0",
          "gamma_tr",
          "lambda_acidity_0",
          "gamma_lambda_acidity",
          "FG2_energy_transfert"
         ],
         "yaxis": "y"
        },
        {
         "orientation": "h",
         "type": "bar",
         "x": {
          "bdata": "i4k9duq1zj9j2BC87ozRP25Dg92uxMM/Wq8PzKbczT9JBV+3Bs/FP8R9THuHeNQ/09Q/uCzGxD+SMwY6FV/CPw==",
          "dtype": "f8"
         },
         "xaxis": "x2",
         "y": [
          "FG1_energy_transfert",
          "lambda_temperature_0",
          "gamma_lambda_temperature",
          "tr_0",
          "gamma_tr",
          "lambda_acidity_0",
          "gamma_lambda_acidity",
          "FG2_energy_transfert"
         ],
         "yaxis": "y2"
        },
        {
         "orientation": "h",
         "type": "bar",
         "x": {
          "bdata": "AAAAAAAAAAB4irT0NzekPwAAAAAAAAAAAAAAAAAAAAAAAAAAAAAAAAAAAAAAAAAArDzxGmpigT8AAAAAAAAAAA==",
          "dtype": "f8"
         },
         "xaxis": "x3",
         "y": [
          "FG1_energy_transfert",
          "lambda_temperature_0",
          "gamma_lambda_temperature",
          "tr_0",
          "gamma_tr",
          "lambda_acidity_0",
          "gamma_lambda_acidity",
          "FG2_energy_transfert"
         ],
         "yaxis": "y3"
        }
       ],
       "layout": {
        "annotations": [
         {
          "font": {
           "size": 16
          },
          "showarrow": false,
          "text": "Gen=0",
          "x": 0.14444444444444446,
          "xanchor": "center",
          "xref": "paper",
          "y": 1,
          "yanchor": "bottom",
          "yref": "paper"
         },
         {
          "font": {
           "size": 16
          },
          "showarrow": false,
          "text": "Gen=1",
          "x": 0.5,
          "xanchor": "center",
          "xref": "paper",
          "y": 1,
          "yanchor": "bottom",
          "yref": "paper"
         },
         {
          "font": {
           "size": 16
          },
          "showarrow": false,
          "text": "Gen=2",
          "x": 0.8555555555555556,
          "xanchor": "center",
          "xref": "paper",
          "y": 1,
          "yanchor": "bottom",
          "yref": "paper"
         }
        ],
        "showlegend": false,
        "template": {
         "data": {
          "bar": [
           {
            "error_x": {
             "color": "#2a3f5f"
            },
            "error_y": {
             "color": "#2a3f5f"
            },
            "marker": {
             "line": {
              "color": "#E5ECF6",
              "width": 0.5
             },
             "pattern": {
              "fillmode": "overlay",
              "size": 10,
              "solidity": 0.2
             }
            },
            "type": "bar"
           }
          ],
          "barpolar": [
           {
            "marker": {
             "line": {
              "color": "#E5ECF6",
              "width": 0.5
             },
             "pattern": {
              "fillmode": "overlay",
              "size": 10,
              "solidity": 0.2
             }
            },
            "type": "barpolar"
           }
          ],
          "carpet": [
           {
            "aaxis": {
             "endlinecolor": "#2a3f5f",
             "gridcolor": "white",
             "linecolor": "white",
             "minorgridcolor": "white",
             "startlinecolor": "#2a3f5f"
            },
            "baxis": {
             "endlinecolor": "#2a3f5f",
             "gridcolor": "white",
             "linecolor": "white",
             "minorgridcolor": "white",
             "startlinecolor": "#2a3f5f"
            },
            "type": "carpet"
           }
          ],
          "choropleth": [
           {
            "colorbar": {
             "outlinewidth": 0,
             "ticks": ""
            },
            "type": "choropleth"
           }
          ],
          "contour": [
           {
            "colorbar": {
             "outlinewidth": 0,
             "ticks": ""
            },
            "colorscale": [
             [
              0,
              "#0d0887"
             ],
             [
              0.1111111111111111,
              "#46039f"
             ],
             [
              0.2222222222222222,
              "#7201a8"
             ],
             [
              0.3333333333333333,
              "#9c179e"
             ],
             [
              0.4444444444444444,
              "#bd3786"
             ],
             [
              0.5555555555555556,
              "#d8576b"
             ],
             [
              0.6666666666666666,
              "#ed7953"
             ],
             [
              0.7777777777777778,
              "#fb9f3a"
             ],
             [
              0.8888888888888888,
              "#fdca26"
             ],
             [
              1,
              "#f0f921"
             ]
            ],
            "type": "contour"
           }
          ],
          "contourcarpet": [
           {
            "colorbar": {
             "outlinewidth": 0,
             "ticks": ""
            },
            "type": "contourcarpet"
           }
          ],
          "heatmap": [
           {
            "colorbar": {
             "outlinewidth": 0,
             "ticks": ""
            },
            "colorscale": [
             [
              0,
              "#0d0887"
             ],
             [
              0.1111111111111111,
              "#46039f"
             ],
             [
              0.2222222222222222,
              "#7201a8"
             ],
             [
              0.3333333333333333,
              "#9c179e"
             ],
             [
              0.4444444444444444,
              "#bd3786"
             ],
             [
              0.5555555555555556,
              "#d8576b"
             ],
             [
              0.6666666666666666,
              "#ed7953"
             ],
             [
              0.7777777777777778,
              "#fb9f3a"
             ],
             [
              0.8888888888888888,
              "#fdca26"
             ],
             [
              1,
              "#f0f921"
             ]
            ],
            "type": "heatmap"
           }
          ],
          "histogram": [
           {
            "marker": {
             "pattern": {
              "fillmode": "overlay",
              "size": 10,
              "solidity": 0.2
             }
            },
            "type": "histogram"
           }
          ],
          "histogram2d": [
           {
            "colorbar": {
             "outlinewidth": 0,
             "ticks": ""
            },
            "colorscale": [
             [
              0,
              "#0d0887"
             ],
             [
              0.1111111111111111,
              "#46039f"
             ],
             [
              0.2222222222222222,
              "#7201a8"
             ],
             [
              0.3333333333333333,
              "#9c179e"
             ],
             [
              0.4444444444444444,
              "#bd3786"
             ],
             [
              0.5555555555555556,
              "#d8576b"
             ],
             [
              0.6666666666666666,
              "#ed7953"
             ],
             [
              0.7777777777777778,
              "#fb9f3a"
             ],
             [
              0.8888888888888888,
              "#fdca26"
             ],
             [
              1,
              "#f0f921"
             ]
            ],
            "type": "histogram2d"
           }
          ],
          "histogram2dcontour": [
           {
            "colorbar": {
             "outlinewidth": 0,
             "ticks": ""
            },
            "colorscale": [
             [
              0,
              "#0d0887"
             ],
             [
              0.1111111111111111,
              "#46039f"
             ],
             [
              0.2222222222222222,
              "#7201a8"
             ],
             [
              0.3333333333333333,
              "#9c179e"
             ],
             [
              0.4444444444444444,
              "#bd3786"
             ],
             [
              0.5555555555555556,
              "#d8576b"
             ],
             [
              0.6666666666666666,
              "#ed7953"
             ],
             [
              0.7777777777777778,
              "#fb9f3a"
             ],
             [
              0.8888888888888888,
              "#fdca26"
             ],
             [
              1,
              "#f0f921"
             ]
            ],
            "type": "histogram2dcontour"
           }
          ],
          "mesh3d": [
           {
            "colorbar": {
             "outlinewidth": 0,
             "ticks": ""
            },
            "type": "mesh3d"
           }
          ],
          "parcoords": [
           {
            "line": {
             "colorbar": {
              "outlinewidth": 0,
              "ticks": ""
             }
            },
            "type": "parcoords"
           }
          ],
          "pie": [
           {
            "automargin": true,
            "type": "pie"
           }
          ],
          "scatter": [
           {
            "fillpattern": {
             "fillmode": "overlay",
             "size": 10,
             "solidity": 0.2
            },
            "type": "scatter"
           }
          ],
          "scatter3d": [
           {
            "line": {
             "colorbar": {
              "outlinewidth": 0,
              "ticks": ""
             }
            },
            "marker": {
             "colorbar": {
              "outlinewidth": 0,
              "ticks": ""
             }
            },
            "type": "scatter3d"
           }
          ],
          "scattercarpet": [
           {
            "marker": {
             "colorbar": {
              "outlinewidth": 0,
              "ticks": ""
             }
            },
            "type": "scattercarpet"
           }
          ],
          "scattergeo": [
           {
            "marker": {
             "colorbar": {
              "outlinewidth": 0,
              "ticks": ""
             }
            },
            "type": "scattergeo"
           }
          ],
          "scattergl": [
           {
            "marker": {
             "colorbar": {
              "outlinewidth": 0,
              "ticks": ""
             }
            },
            "type": "scattergl"
           }
          ],
          "scattermap": [
           {
            "marker": {
             "colorbar": {
              "outlinewidth": 0,
              "ticks": ""
             }
            },
            "type": "scattermap"
           }
          ],
          "scattermapbox": [
           {
            "marker": {
             "colorbar": {
              "outlinewidth": 0,
              "ticks": ""
             }
            },
            "type": "scattermapbox"
           }
          ],
          "scatterpolar": [
           {
            "marker": {
             "colorbar": {
              "outlinewidth": 0,
              "ticks": ""
             }
            },
            "type": "scatterpolar"
           }
          ],
          "scatterpolargl": [
           {
            "marker": {
             "colorbar": {
              "outlinewidth": 0,
              "ticks": ""
             }
            },
            "type": "scatterpolargl"
           }
          ],
          "scatterternary": [
           {
            "marker": {
             "colorbar": {
              "outlinewidth": 0,
              "ticks": ""
             }
            },
            "type": "scatterternary"
           }
          ],
          "surface": [
           {
            "colorbar": {
             "outlinewidth": 0,
             "ticks": ""
            },
            "colorscale": [
             [
              0,
              "#0d0887"
             ],
             [
              0.1111111111111111,
              "#46039f"
             ],
             [
              0.2222222222222222,
              "#7201a8"
             ],
             [
              0.3333333333333333,
              "#9c179e"
             ],
             [
              0.4444444444444444,
              "#bd3786"
             ],
             [
              0.5555555555555556,
              "#d8576b"
             ],
             [
              0.6666666666666666,
              "#ed7953"
             ],
             [
              0.7777777777777778,
              "#fb9f3a"
             ],
             [
              0.8888888888888888,
              "#fdca26"
             ],
             [
              1,
              "#f0f921"
             ]
            ],
            "type": "surface"
           }
          ],
          "table": [
           {
            "cells": {
             "fill": {
              "color": "#EBF0F8"
             },
             "line": {
              "color": "white"
             }
            },
            "header": {
             "fill": {
              "color": "#C8D4E3"
             },
             "line": {
              "color": "white"
             }
            },
            "type": "table"
           }
          ]
         },
         "layout": {
          "annotationdefaults": {
           "arrowcolor": "#2a3f5f",
           "arrowhead": 0,
           "arrowwidth": 1
          },
          "autotypenumbers": "strict",
          "coloraxis": {
           "colorbar": {
            "outlinewidth": 0,
            "ticks": ""
           }
          },
          "colorscale": {
           "diverging": [
            [
             0,
             "#8e0152"
            ],
            [
             0.1,
             "#c51b7d"
            ],
            [
             0.2,
             "#de77ae"
            ],
            [
             0.3,
             "#f1b6da"
            ],
            [
             0.4,
             "#fde0ef"
            ],
            [
             0.5,
             "#f7f7f7"
            ],
            [
             0.6,
             "#e6f5d0"
            ],
            [
             0.7,
             "#b8e186"
            ],
            [
             0.8,
             "#7fbc41"
            ],
            [
             0.9,
             "#4d9221"
            ],
            [
             1,
             "#276419"
            ]
           ],
           "sequential": [
            [
             0,
             "#0d0887"
            ],
            [
             0.1111111111111111,
             "#46039f"
            ],
            [
             0.2222222222222222,
             "#7201a8"
            ],
            [
             0.3333333333333333,
             "#9c179e"
            ],
            [
             0.4444444444444444,
             "#bd3786"
            ],
            [
             0.5555555555555556,
             "#d8576b"
            ],
            [
             0.6666666666666666,
             "#ed7953"
            ],
            [
             0.7777777777777778,
             "#fb9f3a"
            ],
            [
             0.8888888888888888,
             "#fdca26"
            ],
            [
             1,
             "#f0f921"
            ]
           ],
           "sequentialminus": [
            [
             0,
             "#0d0887"
            ],
            [
             0.1111111111111111,
             "#46039f"
            ],
            [
             0.2222222222222222,
             "#7201a8"
            ],
            [
             0.3333333333333333,
             "#9c179e"
            ],
            [
             0.4444444444444444,
             "#bd3786"
            ],
            [
             0.5555555555555556,
             "#d8576b"
            ],
            [
             0.6666666666666666,
             "#ed7953"
            ],
            [
             0.7777777777777778,
             "#fb9f3a"
            ],
            [
             0.8888888888888888,
             "#fdca26"
            ],
            [
             1,
             "#f0f921"
            ]
           ]
          },
          "colorway": [
           "#636efa",
           "#EF553B",
           "#00cc96",
           "#ab63fa",
           "#FFA15A",
           "#19d3f3",
           "#FF6692",
           "#B6E880",
           "#FF97FF",
           "#FECB52"
          ],
          "font": {
           "color": "#2a3f5f"
          },
          "geo": {
           "bgcolor": "white",
           "lakecolor": "white",
           "landcolor": "#E5ECF6",
           "showlakes": true,
           "showland": true,
           "subunitcolor": "white"
          },
          "hoverlabel": {
           "align": "left"
          },
          "hovermode": "closest",
          "mapbox": {
           "style": "light"
          },
          "paper_bgcolor": "white",
          "plot_bgcolor": "#E5ECF6",
          "polar": {
           "angularaxis": {
            "gridcolor": "white",
            "linecolor": "white",
            "ticks": ""
           },
           "bgcolor": "#E5ECF6",
           "radialaxis": {
            "gridcolor": "white",
            "linecolor": "white",
            "ticks": ""
           }
          },
          "scene": {
           "xaxis": {
            "backgroundcolor": "#E5ECF6",
            "gridcolor": "white",
            "gridwidth": 2,
            "linecolor": "white",
            "showbackground": true,
            "ticks": "",
            "zerolinecolor": "white"
           },
           "yaxis": {
            "backgroundcolor": "#E5ECF6",
            "gridcolor": "white",
            "gridwidth": 2,
            "linecolor": "white",
            "showbackground": true,
            "ticks": "",
            "zerolinecolor": "white"
           },
           "zaxis": {
            "backgroundcolor": "#E5ECF6",
            "gridcolor": "white",
            "gridwidth": 2,
            "linecolor": "white",
            "showbackground": true,
            "ticks": "",
            "zerolinecolor": "white"
           }
          },
          "shapedefaults": {
           "line": {
            "color": "#2a3f5f"
           }
          },
          "ternary": {
           "aaxis": {
            "gridcolor": "white",
            "linecolor": "white",
            "ticks": ""
           },
           "baxis": {
            "gridcolor": "white",
            "linecolor": "white",
            "ticks": ""
           },
           "bgcolor": "#E5ECF6",
           "caxis": {
            "gridcolor": "white",
            "linecolor": "white",
            "ticks": ""
           }
          },
          "title": {
           "x": 0.05
          },
          "xaxis": {
           "automargin": true,
           "gridcolor": "white",
           "linecolor": "white",
           "ticks": "",
           "title": {
            "standoff": 15
           },
           "zerolinecolor": "white",
           "zerolinewidth": 2
          },
          "yaxis": {
           "automargin": true,
           "gridcolor": "white",
           "linecolor": "white",
           "ticks": "",
           "title": {
            "standoff": 15
           },
           "zerolinecolor": "white",
           "zerolinewidth": 2
          }
         }
        },
        "title": {
         "text": "Standardized std of parameters by generation"
        },
        "xaxis": {
         "anchor": "y",
         "domain": [
          0,
          0.2888888888888889
         ]
        },
        "xaxis2": {
         "anchor": "y2",
         "domain": [
          0.35555555555555557,
          0.6444444444444445
         ]
        },
        "xaxis3": {
         "anchor": "y3",
         "domain": [
          0.7111111111111111,
          1
         ]
        },
        "yaxis": {
         "anchor": "x",
         "domain": [
          0,
          1
         ]
        },
        "yaxis2": {
         "anchor": "x2",
         "domain": [
          0,
          1
         ],
         "matches": "y",
         "showticklabels": false
        },
        "yaxis3": {
         "anchor": "x3",
         "domain": [
          0,
          1
         ],
         "matches": "y",
         "showticklabels": false
        }
       }
      }
     },
     "metadata": {},
     "output_type": "display_data"
    }
   ],
   "source": [
    "viewer.parameters_standardized_deviation()"
   ]
  },
  {
   "cell_type": "code",
   "execution_count": 32,
   "id": "7ab48b5a",
   "metadata": {},
   "outputs": [
    {
     "data": {
      "application/vnd.plotly.v1+json": {
       "config": {
        "plotlyServerURL": "https://plot.ly"
       },
       "data": [
        {
         "fillpattern": {
          "shape": ""
         },
         "hovertemplate": "Variable=FG1_energy_transfert<br>Generation=%{x}<br>Entropy=%{y}<extra></extra>",
         "legendgroup": "FG1_energy_transfert",
         "line": {
          "color": "#636efa"
         },
         "marker": {
          "symbol": "circle"
         },
         "mode": "lines+markers",
         "name": "FG1_energy_transfert",
         "orientation": "v",
         "showlegend": true,
         "stackgroup": "1",
         "type": "scatter",
         "x": {
          "bdata": "AAEC",
          "dtype": "i1"
         },
         "xaxis": "x",
         "y": {
          "bdata": "HnERvLFrAkBlxaB4boj3P8WD/y/7hi4+",
          "dtype": "f8"
         },
         "yaxis": "y"
        },
        {
         "fillpattern": {
          "shape": ""
         },
         "hovertemplate": "Variable=lambda_temperature_0<br>Generation=%{x}<br>Entropy=%{y}<extra></extra>",
         "legendgroup": "lambda_temperature_0",
         "line": {
          "color": "#EF553B"
         },
         "marker": {
          "symbol": "circle"
         },
         "mode": "lines+markers",
         "name": "lambda_temperature_0",
         "orientation": "v",
         "showlegend": true,
         "stackgroup": "1",
         "type": "scatter",
         "x": {
          "bdata": "AAEC",
          "dtype": "i1"
         },
         "xaxis": "x",
         "y": {
          "bdata": "ICogvLFrAkD6UV1tSHr0P9n3TNEoztQ/",
          "dtype": "f8"
         },
         "yaxis": "y"
        },
        {
         "fillpattern": {
          "shape": ""
         },
         "hovertemplate": "Variable=gamma_lambda_temperature<br>Generation=%{x}<br>Entropy=%{y}<extra></extra>",
         "legendgroup": "gamma_lambda_temperature",
         "line": {
          "color": "#00cc96"
         },
         "marker": {
          "symbol": "circle"
         },
         "mode": "lines+markers",
         "name": "gamma_lambda_temperature",
         "orientation": "v",
         "showlegend": true,
         "stackgroup": "1",
         "type": "scatter",
         "x": {
          "bdata": "AAEC",
          "dtype": "i1"
         },
         "xaxis": "x",
         "y": {
          "bdata": "BqIgvLFrAkCZnXp4boj3P8WD/y/7hi4+",
          "dtype": "f8"
         },
         "yaxis": "y"
        },
        {
         "fillpattern": {
          "shape": ""
         },
         "hovertemplate": "Variable=tr_0<br>Generation=%{x}<br>Entropy=%{y}<extra></extra>",
         "legendgroup": "tr_0",
         "line": {
          "color": "#ab63fa"
         },
         "marker": {
          "symbol": "circle"
         },
         "mode": "lines+markers",
         "name": "tr_0",
         "orientation": "v",
         "showlegend": true,
         "stackgroup": "1",
         "type": "scatter",
         "x": {
          "bdata": "AAEC",
          "dtype": "i1"
         },
         "xaxis": "x",
         "y": {
          "bdata": "nNAFv7FrAkAABSh9boj3PxIF+i/7hi4+",
          "dtype": "f8"
         },
         "yaxis": "y"
        },
        {
         "fillpattern": {
          "shape": ""
         },
         "hovertemplate": "Variable=gamma_tr<br>Generation=%{x}<br>Entropy=%{y}<extra></extra>",
         "legendgroup": "gamma_tr",
         "line": {
          "color": "#FFA15A"
         },
         "marker": {
          "symbol": "circle"
         },
         "mode": "lines+markers",
         "name": "gamma_tr",
         "orientation": "v",
         "showlegend": true,
         "stackgroup": "1",
         "type": "scatter",
         "x": {
          "bdata": "AAEC",
          "dtype": "i1"
         },
         "xaxis": "x",
         "y": {
          "bdata": "fTr4u7FrAkBd7CJtSHr0P8WD/y/7hi4+",
          "dtype": "f8"
         },
         "yaxis": "y"
        },
        {
         "fillpattern": {
          "shape": ""
         },
         "hovertemplate": "Variable=lambda_acidity_0<br>Generation=%{x}<br>Entropy=%{y}<extra></extra>",
         "legendgroup": "lambda_acidity_0",
         "line": {
          "color": "#19d3f3"
         },
         "marker": {
          "symbol": "circle"
         },
         "mode": "lines+markers",
         "name": "lambda_acidity_0",
         "orientation": "v",
         "showlegend": true,
         "stackgroup": "1",
         "type": "scatter",
         "x": {
          "bdata": "AAEC",
          "dtype": "i1"
         },
         "xaxis": "x",
         "y": {
          "bdata": "PDEZvLFrAkByMGptSHr0P8WD/y/7hi4+",
          "dtype": "f8"
         },
         "yaxis": "y"
        },
        {
         "fillpattern": {
          "shape": ""
         },
         "hovertemplate": "Variable=gamma_lambda_acidity<br>Generation=%{x}<br>Entropy=%{y}<extra></extra>",
         "legendgroup": "gamma_lambda_acidity",
         "line": {
          "color": "#FF6692"
         },
         "marker": {
          "symbol": "circle"
         },
         "mode": "lines+markers",
         "name": "gamma_lambda_acidity",
         "orientation": "v",
         "showlegend": true,
         "stackgroup": "1",
         "type": "scatter",
         "x": {
          "bdata": "AAEC",
          "dtype": "i1"
         },
         "xaxis": "x",
         "y": {
          "bdata": "N3MTvLFrAkAkz5ThnBP4P2K3iPFLA+A/",
          "dtype": "f8"
         },
         "yaxis": "y"
        },
        {
         "fillpattern": {
          "shape": ""
         },
         "hovertemplate": "Variable=FG2_energy_transfert<br>Generation=%{x}<br>Entropy=%{y}<extra></extra>",
         "legendgroup": "FG2_energy_transfert",
         "line": {
          "color": "#B6E880"
         },
         "marker": {
          "symbol": "circle"
         },
         "mode": "lines+markers",
         "name": "FG2_energy_transfert",
         "orientation": "v",
         "showlegend": true,
         "stackgroup": "1",
         "type": "scatter",
         "x": {
          "bdata": "AAEC",
          "dtype": "i1"
         },
         "xaxis": "x",
         "y": {
          "bdata": "7CQKvLFrAkDT4BdtSHr0P8WD/y/7hi4+",
          "dtype": "f8"
         },
         "yaxis": "y"
        }
       ],
       "layout": {
        "legend": {
         "title": {
          "text": "Variable"
         },
         "tracegroupgap": 0
        },
        "plot_bgcolor": "rgba(0, 0, 0, 0)",
        "template": {
         "data": {
          "bar": [
           {
            "error_x": {
             "color": "#2a3f5f"
            },
            "error_y": {
             "color": "#2a3f5f"
            },
            "marker": {
             "line": {
              "color": "#E5ECF6",
              "width": 0.5
             },
             "pattern": {
              "fillmode": "overlay",
              "size": 10,
              "solidity": 0.2
             }
            },
            "type": "bar"
           }
          ],
          "barpolar": [
           {
            "marker": {
             "line": {
              "color": "#E5ECF6",
              "width": 0.5
             },
             "pattern": {
              "fillmode": "overlay",
              "size": 10,
              "solidity": 0.2
             }
            },
            "type": "barpolar"
           }
          ],
          "carpet": [
           {
            "aaxis": {
             "endlinecolor": "#2a3f5f",
             "gridcolor": "white",
             "linecolor": "white",
             "minorgridcolor": "white",
             "startlinecolor": "#2a3f5f"
            },
            "baxis": {
             "endlinecolor": "#2a3f5f",
             "gridcolor": "white",
             "linecolor": "white",
             "minorgridcolor": "white",
             "startlinecolor": "#2a3f5f"
            },
            "type": "carpet"
           }
          ],
          "choropleth": [
           {
            "colorbar": {
             "outlinewidth": 0,
             "ticks": ""
            },
            "type": "choropleth"
           }
          ],
          "contour": [
           {
            "colorbar": {
             "outlinewidth": 0,
             "ticks": ""
            },
            "colorscale": [
             [
              0,
              "#0d0887"
             ],
             [
              0.1111111111111111,
              "#46039f"
             ],
             [
              0.2222222222222222,
              "#7201a8"
             ],
             [
              0.3333333333333333,
              "#9c179e"
             ],
             [
              0.4444444444444444,
              "#bd3786"
             ],
             [
              0.5555555555555556,
              "#d8576b"
             ],
             [
              0.6666666666666666,
              "#ed7953"
             ],
             [
              0.7777777777777778,
              "#fb9f3a"
             ],
             [
              0.8888888888888888,
              "#fdca26"
             ],
             [
              1,
              "#f0f921"
             ]
            ],
            "type": "contour"
           }
          ],
          "contourcarpet": [
           {
            "colorbar": {
             "outlinewidth": 0,
             "ticks": ""
            },
            "type": "contourcarpet"
           }
          ],
          "heatmap": [
           {
            "colorbar": {
             "outlinewidth": 0,
             "ticks": ""
            },
            "colorscale": [
             [
              0,
              "#0d0887"
             ],
             [
              0.1111111111111111,
              "#46039f"
             ],
             [
              0.2222222222222222,
              "#7201a8"
             ],
             [
              0.3333333333333333,
              "#9c179e"
             ],
             [
              0.4444444444444444,
              "#bd3786"
             ],
             [
              0.5555555555555556,
              "#d8576b"
             ],
             [
              0.6666666666666666,
              "#ed7953"
             ],
             [
              0.7777777777777778,
              "#fb9f3a"
             ],
             [
              0.8888888888888888,
              "#fdca26"
             ],
             [
              1,
              "#f0f921"
             ]
            ],
            "type": "heatmap"
           }
          ],
          "histogram": [
           {
            "marker": {
             "pattern": {
              "fillmode": "overlay",
              "size": 10,
              "solidity": 0.2
             }
            },
            "type": "histogram"
           }
          ],
          "histogram2d": [
           {
            "colorbar": {
             "outlinewidth": 0,
             "ticks": ""
            },
            "colorscale": [
             [
              0,
              "#0d0887"
             ],
             [
              0.1111111111111111,
              "#46039f"
             ],
             [
              0.2222222222222222,
              "#7201a8"
             ],
             [
              0.3333333333333333,
              "#9c179e"
             ],
             [
              0.4444444444444444,
              "#bd3786"
             ],
             [
              0.5555555555555556,
              "#d8576b"
             ],
             [
              0.6666666666666666,
              "#ed7953"
             ],
             [
              0.7777777777777778,
              "#fb9f3a"
             ],
             [
              0.8888888888888888,
              "#fdca26"
             ],
             [
              1,
              "#f0f921"
             ]
            ],
            "type": "histogram2d"
           }
          ],
          "histogram2dcontour": [
           {
            "colorbar": {
             "outlinewidth": 0,
             "ticks": ""
            },
            "colorscale": [
             [
              0,
              "#0d0887"
             ],
             [
              0.1111111111111111,
              "#46039f"
             ],
             [
              0.2222222222222222,
              "#7201a8"
             ],
             [
              0.3333333333333333,
              "#9c179e"
             ],
             [
              0.4444444444444444,
              "#bd3786"
             ],
             [
              0.5555555555555556,
              "#d8576b"
             ],
             [
              0.6666666666666666,
              "#ed7953"
             ],
             [
              0.7777777777777778,
              "#fb9f3a"
             ],
             [
              0.8888888888888888,
              "#fdca26"
             ],
             [
              1,
              "#f0f921"
             ]
            ],
            "type": "histogram2dcontour"
           }
          ],
          "mesh3d": [
           {
            "colorbar": {
             "outlinewidth": 0,
             "ticks": ""
            },
            "type": "mesh3d"
           }
          ],
          "parcoords": [
           {
            "line": {
             "colorbar": {
              "outlinewidth": 0,
              "ticks": ""
             }
            },
            "type": "parcoords"
           }
          ],
          "pie": [
           {
            "automargin": true,
            "type": "pie"
           }
          ],
          "scatter": [
           {
            "fillpattern": {
             "fillmode": "overlay",
             "size": 10,
             "solidity": 0.2
            },
            "type": "scatter"
           }
          ],
          "scatter3d": [
           {
            "line": {
             "colorbar": {
              "outlinewidth": 0,
              "ticks": ""
             }
            },
            "marker": {
             "colorbar": {
              "outlinewidth": 0,
              "ticks": ""
             }
            },
            "type": "scatter3d"
           }
          ],
          "scattercarpet": [
           {
            "marker": {
             "colorbar": {
              "outlinewidth": 0,
              "ticks": ""
             }
            },
            "type": "scattercarpet"
           }
          ],
          "scattergeo": [
           {
            "marker": {
             "colorbar": {
              "outlinewidth": 0,
              "ticks": ""
             }
            },
            "type": "scattergeo"
           }
          ],
          "scattergl": [
           {
            "marker": {
             "colorbar": {
              "outlinewidth": 0,
              "ticks": ""
             }
            },
            "type": "scattergl"
           }
          ],
          "scattermap": [
           {
            "marker": {
             "colorbar": {
              "outlinewidth": 0,
              "ticks": ""
             }
            },
            "type": "scattermap"
           }
          ],
          "scattermapbox": [
           {
            "marker": {
             "colorbar": {
              "outlinewidth": 0,
              "ticks": ""
             }
            },
            "type": "scattermapbox"
           }
          ],
          "scatterpolar": [
           {
            "marker": {
             "colorbar": {
              "outlinewidth": 0,
              "ticks": ""
             }
            },
            "type": "scatterpolar"
           }
          ],
          "scatterpolargl": [
           {
            "marker": {
             "colorbar": {
              "outlinewidth": 0,
              "ticks": ""
             }
            },
            "type": "scatterpolargl"
           }
          ],
          "scatterternary": [
           {
            "marker": {
             "colorbar": {
              "outlinewidth": 0,
              "ticks": ""
             }
            },
            "type": "scatterternary"
           }
          ],
          "surface": [
           {
            "colorbar": {
             "outlinewidth": 0,
             "ticks": ""
            },
            "colorscale": [
             [
              0,
              "#0d0887"
             ],
             [
              0.1111111111111111,
              "#46039f"
             ],
             [
              0.2222222222222222,
              "#7201a8"
             ],
             [
              0.3333333333333333,
              "#9c179e"
             ],
             [
              0.4444444444444444,
              "#bd3786"
             ],
             [
              0.5555555555555556,
              "#d8576b"
             ],
             [
              0.6666666666666666,
              "#ed7953"
             ],
             [
              0.7777777777777778,
              "#fb9f3a"
             ],
             [
              0.8888888888888888,
              "#fdca26"
             ],
             [
              1,
              "#f0f921"
             ]
            ],
            "type": "surface"
           }
          ],
          "table": [
           {
            "cells": {
             "fill": {
              "color": "#EBF0F8"
             },
             "line": {
              "color": "white"
             }
            },
            "header": {
             "fill": {
              "color": "#C8D4E3"
             },
             "line": {
              "color": "white"
             }
            },
            "type": "table"
           }
          ]
         },
         "layout": {
          "annotationdefaults": {
           "arrowcolor": "#2a3f5f",
           "arrowhead": 0,
           "arrowwidth": 1
          },
          "autotypenumbers": "strict",
          "coloraxis": {
           "colorbar": {
            "outlinewidth": 0,
            "ticks": ""
           }
          },
          "colorscale": {
           "diverging": [
            [
             0,
             "#8e0152"
            ],
            [
             0.1,
             "#c51b7d"
            ],
            [
             0.2,
             "#de77ae"
            ],
            [
             0.3,
             "#f1b6da"
            ],
            [
             0.4,
             "#fde0ef"
            ],
            [
             0.5,
             "#f7f7f7"
            ],
            [
             0.6,
             "#e6f5d0"
            ],
            [
             0.7,
             "#b8e186"
            ],
            [
             0.8,
             "#7fbc41"
            ],
            [
             0.9,
             "#4d9221"
            ],
            [
             1,
             "#276419"
            ]
           ],
           "sequential": [
            [
             0,
             "#0d0887"
            ],
            [
             0.1111111111111111,
             "#46039f"
            ],
            [
             0.2222222222222222,
             "#7201a8"
            ],
            [
             0.3333333333333333,
             "#9c179e"
            ],
            [
             0.4444444444444444,
             "#bd3786"
            ],
            [
             0.5555555555555556,
             "#d8576b"
            ],
            [
             0.6666666666666666,
             "#ed7953"
            ],
            [
             0.7777777777777778,
             "#fb9f3a"
            ],
            [
             0.8888888888888888,
             "#fdca26"
            ],
            [
             1,
             "#f0f921"
            ]
           ],
           "sequentialminus": [
            [
             0,
             "#0d0887"
            ],
            [
             0.1111111111111111,
             "#46039f"
            ],
            [
             0.2222222222222222,
             "#7201a8"
            ],
            [
             0.3333333333333333,
             "#9c179e"
            ],
            [
             0.4444444444444444,
             "#bd3786"
            ],
            [
             0.5555555555555556,
             "#d8576b"
            ],
            [
             0.6666666666666666,
             "#ed7953"
            ],
            [
             0.7777777777777778,
             "#fb9f3a"
            ],
            [
             0.8888888888888888,
             "#fdca26"
            ],
            [
             1,
             "#f0f921"
            ]
           ]
          },
          "colorway": [
           "#636efa",
           "#EF553B",
           "#00cc96",
           "#ab63fa",
           "#FFA15A",
           "#19d3f3",
           "#FF6692",
           "#B6E880",
           "#FF97FF",
           "#FECB52"
          ],
          "font": {
           "color": "#2a3f5f"
          },
          "geo": {
           "bgcolor": "white",
           "lakecolor": "white",
           "landcolor": "#E5ECF6",
           "showlakes": true,
           "showland": true,
           "subunitcolor": "white"
          },
          "hoverlabel": {
           "align": "left"
          },
          "hovermode": "closest",
          "mapbox": {
           "style": "light"
          },
          "paper_bgcolor": "white",
          "plot_bgcolor": "#E5ECF6",
          "polar": {
           "angularaxis": {
            "gridcolor": "white",
            "linecolor": "white",
            "ticks": ""
           },
           "bgcolor": "#E5ECF6",
           "radialaxis": {
            "gridcolor": "white",
            "linecolor": "white",
            "ticks": ""
           }
          },
          "scene": {
           "xaxis": {
            "backgroundcolor": "#E5ECF6",
            "gridcolor": "white",
            "gridwidth": 2,
            "linecolor": "white",
            "showbackground": true,
            "ticks": "",
            "zerolinecolor": "white"
           },
           "yaxis": {
            "backgroundcolor": "#E5ECF6",
            "gridcolor": "white",
            "gridwidth": 2,
            "linecolor": "white",
            "showbackground": true,
            "ticks": "",
            "zerolinecolor": "white"
           },
           "zaxis": {
            "backgroundcolor": "#E5ECF6",
            "gridcolor": "white",
            "gridwidth": 2,
            "linecolor": "white",
            "showbackground": true,
            "ticks": "",
            "zerolinecolor": "white"
           }
          },
          "shapedefaults": {
           "line": {
            "color": "#2a3f5f"
           }
          },
          "ternary": {
           "aaxis": {
            "gridcolor": "white",
            "linecolor": "white",
            "ticks": ""
           },
           "baxis": {
            "gridcolor": "white",
            "linecolor": "white",
            "ticks": ""
           },
           "bgcolor": "#E5ECF6",
           "caxis": {
            "gridcolor": "white",
            "linecolor": "white",
            "ticks": ""
           }
          },
          "title": {
           "x": 0.05
          },
          "xaxis": {
           "automargin": true,
           "gridcolor": "white",
           "linecolor": "white",
           "ticks": "",
           "title": {
            "standoff": 15
           },
           "zerolinecolor": "white",
           "zerolinewidth": 2
          },
          "yaxis": {
           "automargin": true,
           "gridcolor": "white",
           "linecolor": "white",
           "ticks": "",
           "title": {
            "standoff": 15
           },
           "zerolinecolor": "white",
           "zerolinewidth": 2
          }
         }
        },
        "title": {
         "text": "Shannon entropy of parameter distributions"
        },
        "xaxis": {
         "anchor": "y",
         "domain": [
          0,
          1
         ],
         "showgrid": false,
         "title": {
          "text": "Generation"
         }
        },
        "yaxis": {
         "anchor": "x",
         "domain": [
          0,
          1
         ],
         "showgrid": false,
         "title": {
          "text": "Entropy"
         }
        }
       }
      }
     },
     "metadata": {},
     "output_type": "display_data"
    }
   ],
   "source": [
    "viewer.shannon_entropy(bins=100_000)"
   ]
  },
  {
   "cell_type": "code",
   "execution_count": 33,
   "id": "f9a77e23",
   "metadata": {},
   "outputs": [
    {
     "data": {
      "application/vnd.plotly.v1+json": {
       "config": {
        "plotlyServerURL": "https://plot.ly"
       },
       "data": [
        {
         "line": {
          "color": "firebrick",
          "dash": "solid",
          "width": 2
         },
         "mode": "lines",
         "name": "Predicted day layer 0",
         "type": "scatter",
         "x": [
          "2023-01-01T00:00:00.000000000",
          "2023-01-02T00:00:00.000000000",
          "2023-01-03T00:00:00.000000000",
          "2023-01-04T00:00:00.000000000",
          "2023-01-05T00:00:00.000000000",
          "2023-01-06T00:00:00.000000000",
          "2023-01-07T00:00:00.000000000",
          "2023-01-08T00:00:00.000000000",
          "2023-01-09T00:00:00.000000000",
          "2023-01-10T00:00:00.000000000",
          "2023-01-11T00:00:00.000000000",
          "2023-01-12T00:00:00.000000000",
          "2023-01-13T00:00:00.000000000",
          "2023-01-14T00:00:00.000000000",
          "2023-01-15T00:00:00.000000000",
          "2023-01-16T00:00:00.000000000",
          "2023-01-17T00:00:00.000000000",
          "2023-01-18T00:00:00.000000000",
          "2023-01-19T00:00:00.000000000",
          "2023-01-20T00:00:00.000000000",
          "2023-01-21T00:00:00.000000000",
          "2023-01-22T00:00:00.000000000",
          "2023-01-23T00:00:00.000000000",
          "2023-01-24T00:00:00.000000000",
          "2023-01-25T00:00:00.000000000",
          "2023-01-26T00:00:00.000000000",
          "2023-01-27T00:00:00.000000000",
          "2023-01-28T00:00:00.000000000",
          "2023-01-29T00:00:00.000000000",
          "2023-01-30T00:00:00.000000000",
          "2023-01-31T00:00:00.000000000",
          "2023-02-01T00:00:00.000000000",
          "2023-02-02T00:00:00.000000000",
          "2023-02-03T00:00:00.000000000",
          "2023-02-04T00:00:00.000000000",
          "2023-02-05T00:00:00.000000000",
          "2023-02-06T00:00:00.000000000",
          "2023-02-07T00:00:00.000000000",
          "2023-02-08T00:00:00.000000000",
          "2023-02-09T00:00:00.000000000",
          "2023-02-10T00:00:00.000000000",
          "2023-02-11T00:00:00.000000000",
          "2023-02-12T00:00:00.000000000",
          "2023-02-13T00:00:00.000000000",
          "2023-02-14T00:00:00.000000000",
          "2023-02-15T00:00:00.000000000",
          "2023-02-16T00:00:00.000000000",
          "2023-02-17T00:00:00.000000000",
          "2023-02-18T00:00:00.000000000",
          "2023-02-19T00:00:00.000000000",
          "2023-02-20T00:00:00.000000000",
          "2023-02-21T00:00:00.000000000",
          "2023-02-22T00:00:00.000000000",
          "2023-02-23T00:00:00.000000000",
          "2023-02-24T00:00:00.000000000",
          "2023-02-25T00:00:00.000000000",
          "2023-02-26T00:00:00.000000000",
          "2023-02-27T00:00:00.000000000",
          "2023-02-28T00:00:00.000000000",
          "2023-03-01T00:00:00.000000000",
          "2023-03-02T00:00:00.000000000",
          "2023-03-03T00:00:00.000000000",
          "2023-03-04T00:00:00.000000000",
          "2023-03-05T00:00:00.000000000",
          "2023-03-06T00:00:00.000000000",
          "2023-03-07T00:00:00.000000000",
          "2023-03-08T00:00:00.000000000",
          "2023-03-09T00:00:00.000000000",
          "2023-03-10T00:00:00.000000000",
          "2023-03-11T00:00:00.000000000",
          "2023-03-12T00:00:00.000000000",
          "2023-03-13T00:00:00.000000000",
          "2023-03-14T00:00:00.000000000",
          "2023-03-15T00:00:00.000000000",
          "2023-03-16T00:00:00.000000000",
          "2023-03-17T00:00:00.000000000",
          "2023-03-18T00:00:00.000000000",
          "2023-03-19T00:00:00.000000000",
          "2023-03-20T00:00:00.000000000",
          "2023-03-21T00:00:00.000000000",
          "2023-03-22T00:00:00.000000000",
          "2023-03-23T00:00:00.000000000",
          "2023-03-24T00:00:00.000000000",
          "2023-03-25T00:00:00.000000000",
          "2023-03-26T00:00:00.000000000",
          "2023-03-27T00:00:00.000000000",
          "2023-03-28T00:00:00.000000000",
          "2023-03-29T00:00:00.000000000",
          "2023-03-30T00:00:00.000000000",
          "2023-03-31T00:00:00.000000000",
          "2023-04-01T00:00:00.000000000",
          "2023-04-02T00:00:00.000000000",
          "2023-04-03T00:00:00.000000000",
          "2023-04-04T00:00:00.000000000",
          "2023-04-05T00:00:00.000000000",
          "2023-04-06T00:00:00.000000000",
          "2023-04-07T00:00:00.000000000",
          "2023-04-08T00:00:00.000000000",
          "2023-04-09T00:00:00.000000000",
          "2023-04-10T00:00:00.000000000",
          "2023-04-11T00:00:00.000000000",
          "2023-04-12T00:00:00.000000000",
          "2023-04-13T00:00:00.000000000",
          "2023-04-14T00:00:00.000000000",
          "2023-04-15T00:00:00.000000000",
          "2023-04-16T00:00:00.000000000",
          "2023-04-17T00:00:00.000000000",
          "2023-04-18T00:00:00.000000000",
          "2023-04-19T00:00:00.000000000",
          "2023-04-20T00:00:00.000000000",
          "2023-04-21T00:00:00.000000000",
          "2023-04-22T00:00:00.000000000",
          "2023-04-23T00:00:00.000000000",
          "2023-04-24T00:00:00.000000000",
          "2023-04-25T00:00:00.000000000",
          "2023-04-26T00:00:00.000000000",
          "2023-04-27T00:00:00.000000000",
          "2023-04-28T00:00:00.000000000",
          "2023-04-29T00:00:00.000000000",
          "2023-04-30T00:00:00.000000000",
          "2023-05-01T00:00:00.000000000",
          "2023-05-02T00:00:00.000000000",
          "2023-05-03T00:00:00.000000000",
          "2023-05-04T00:00:00.000000000",
          "2023-05-05T00:00:00.000000000",
          "2023-05-06T00:00:00.000000000",
          "2023-05-07T00:00:00.000000000",
          "2023-05-08T00:00:00.000000000",
          "2023-05-09T00:00:00.000000000",
          "2023-05-10T00:00:00.000000000",
          "2023-05-11T00:00:00.000000000",
          "2023-05-12T00:00:00.000000000",
          "2023-05-13T00:00:00.000000000",
          "2023-05-14T00:00:00.000000000",
          "2023-05-15T00:00:00.000000000",
          "2023-05-16T00:00:00.000000000",
          "2023-05-17T00:00:00.000000000",
          "2023-05-18T00:00:00.000000000",
          "2023-05-19T00:00:00.000000000",
          "2023-05-20T00:00:00.000000000",
          "2023-05-21T00:00:00.000000000",
          "2023-05-22T00:00:00.000000000",
          "2023-05-23T00:00:00.000000000",
          "2023-05-24T00:00:00.000000000",
          "2023-05-25T00:00:00.000000000",
          "2023-05-26T00:00:00.000000000",
          "2023-05-27T00:00:00.000000000",
          "2023-05-28T00:00:00.000000000",
          "2023-05-29T00:00:00.000000000",
          "2023-05-30T00:00:00.000000000",
          "2023-05-31T00:00:00.000000000",
          "2023-06-01T00:00:00.000000000",
          "2023-06-02T00:00:00.000000000",
          "2023-06-03T00:00:00.000000000",
          "2023-06-04T00:00:00.000000000",
          "2023-06-05T00:00:00.000000000",
          "2023-06-06T00:00:00.000000000",
          "2023-06-07T00:00:00.000000000",
          "2023-06-08T00:00:00.000000000",
          "2023-06-09T00:00:00.000000000",
          "2023-06-10T00:00:00.000000000",
          "2023-06-11T00:00:00.000000000",
          "2023-06-12T00:00:00.000000000",
          "2023-06-13T00:00:00.000000000",
          "2023-06-14T00:00:00.000000000",
          "2023-06-15T00:00:00.000000000",
          "2023-06-16T00:00:00.000000000",
          "2023-06-17T00:00:00.000000000",
          "2023-06-18T00:00:00.000000000",
          "2023-06-19T00:00:00.000000000",
          "2023-06-20T00:00:00.000000000",
          "2023-06-21T00:00:00.000000000",
          "2023-06-22T00:00:00.000000000",
          "2023-06-23T00:00:00.000000000",
          "2023-06-24T00:00:00.000000000",
          "2023-06-25T00:00:00.000000000",
          "2023-06-26T00:00:00.000000000",
          "2023-06-27T00:00:00.000000000",
          "2023-06-28T00:00:00.000000000",
          "2023-06-29T00:00:00.000000000",
          "2023-06-30T00:00:00.000000000",
          "2023-07-01T00:00:00.000000000",
          "2023-07-02T00:00:00.000000000",
          "2023-07-03T00:00:00.000000000",
          "2023-07-04T00:00:00.000000000",
          "2023-07-05T00:00:00.000000000",
          "2023-07-06T00:00:00.000000000",
          "2023-07-07T00:00:00.000000000",
          "2023-07-08T00:00:00.000000000",
          "2023-07-09T00:00:00.000000000",
          "2023-07-10T00:00:00.000000000",
          "2023-07-11T00:00:00.000000000",
          "2023-07-12T00:00:00.000000000",
          "2023-07-13T00:00:00.000000000",
          "2023-07-14T00:00:00.000000000",
          "2023-07-15T00:00:00.000000000",
          "2023-07-16T00:00:00.000000000",
          "2023-07-17T00:00:00.000000000",
          "2023-07-18T00:00:00.000000000",
          "2023-07-19T00:00:00.000000000",
          "2023-07-20T00:00:00.000000000",
          "2023-07-21T00:00:00.000000000",
          "2023-07-22T00:00:00.000000000",
          "2023-07-23T00:00:00.000000000",
          "2023-07-24T00:00:00.000000000",
          "2023-07-25T00:00:00.000000000",
          "2023-07-26T00:00:00.000000000",
          "2023-07-27T00:00:00.000000000",
          "2023-07-28T00:00:00.000000000",
          "2023-07-29T00:00:00.000000000",
          "2023-07-30T00:00:00.000000000",
          "2023-07-31T00:00:00.000000000",
          "2023-08-01T00:00:00.000000000",
          "2023-08-02T00:00:00.000000000",
          "2023-08-03T00:00:00.000000000",
          "2023-08-04T00:00:00.000000000",
          "2023-08-05T00:00:00.000000000",
          "2023-08-06T00:00:00.000000000",
          "2023-08-07T00:00:00.000000000",
          "2023-08-08T00:00:00.000000000",
          "2023-08-09T00:00:00.000000000",
          "2023-08-10T00:00:00.000000000",
          "2023-08-11T00:00:00.000000000",
          "2023-08-12T00:00:00.000000000",
          "2023-08-13T00:00:00.000000000",
          "2023-08-14T00:00:00.000000000",
          "2023-08-15T00:00:00.000000000",
          "2023-08-16T00:00:00.000000000",
          "2023-08-17T00:00:00.000000000",
          "2023-08-18T00:00:00.000000000",
          "2023-08-19T00:00:00.000000000",
          "2023-08-20T00:00:00.000000000",
          "2023-08-21T00:00:00.000000000",
          "2023-08-22T00:00:00.000000000",
          "2023-08-23T00:00:00.000000000",
          "2023-08-24T00:00:00.000000000",
          "2023-08-25T00:00:00.000000000",
          "2023-08-26T00:00:00.000000000",
          "2023-08-27T00:00:00.000000000",
          "2023-08-28T00:00:00.000000000",
          "2023-08-29T00:00:00.000000000",
          "2023-08-30T00:00:00.000000000",
          "2023-08-31T00:00:00.000000000",
          "2023-09-01T00:00:00.000000000",
          "2023-09-02T00:00:00.000000000",
          "2023-09-03T00:00:00.000000000",
          "2023-09-04T00:00:00.000000000",
          "2023-09-05T00:00:00.000000000",
          "2023-09-06T00:00:00.000000000",
          "2023-09-07T00:00:00.000000000",
          "2023-09-08T00:00:00.000000000",
          "2023-09-09T00:00:00.000000000",
          "2023-09-10T00:00:00.000000000",
          "2023-09-11T00:00:00.000000000",
          "2023-09-12T00:00:00.000000000",
          "2023-09-13T00:00:00.000000000",
          "2023-09-14T00:00:00.000000000",
          "2023-09-15T00:00:00.000000000",
          "2023-09-16T00:00:00.000000000",
          "2023-09-17T00:00:00.000000000",
          "2023-09-18T00:00:00.000000000",
          "2023-09-19T00:00:00.000000000",
          "2023-09-20T00:00:00.000000000",
          "2023-09-21T00:00:00.000000000",
          "2023-09-22T00:00:00.000000000",
          "2023-09-23T00:00:00.000000000",
          "2023-09-24T00:00:00.000000000",
          "2023-09-25T00:00:00.000000000",
          "2023-09-26T00:00:00.000000000",
          "2023-09-27T00:00:00.000000000",
          "2023-09-28T00:00:00.000000000",
          "2023-09-29T00:00:00.000000000",
          "2023-09-30T00:00:00.000000000",
          "2023-10-01T00:00:00.000000000",
          "2023-10-02T00:00:00.000000000",
          "2023-10-03T00:00:00.000000000",
          "2023-10-04T00:00:00.000000000",
          "2023-10-05T00:00:00.000000000",
          "2023-10-06T00:00:00.000000000",
          "2023-10-07T00:00:00.000000000",
          "2023-10-08T00:00:00.000000000",
          "2023-10-09T00:00:00.000000000",
          "2023-10-10T00:00:00.000000000",
          "2023-10-11T00:00:00.000000000",
          "2023-10-12T00:00:00.000000000",
          "2023-10-13T00:00:00.000000000",
          "2023-10-14T00:00:00.000000000",
          "2023-10-15T00:00:00.000000000",
          "2023-10-16T00:00:00.000000000",
          "2023-10-17T00:00:00.000000000",
          "2023-10-18T00:00:00.000000000",
          "2023-10-19T00:00:00.000000000",
          "2023-10-20T00:00:00.000000000",
          "2023-10-21T00:00:00.000000000",
          "2023-10-22T00:00:00.000000000",
          "2023-10-23T00:00:00.000000000",
          "2023-10-24T00:00:00.000000000",
          "2023-10-25T00:00:00.000000000",
          "2023-10-26T00:00:00.000000000",
          "2023-10-27T00:00:00.000000000",
          "2023-10-28T00:00:00.000000000",
          "2023-10-29T00:00:00.000000000",
          "2023-10-30T00:00:00.000000000",
          "2023-10-31T00:00:00.000000000",
          "2023-11-01T00:00:00.000000000",
          "2023-11-02T00:00:00.000000000",
          "2023-11-03T00:00:00.000000000",
          "2023-11-04T00:00:00.000000000",
          "2023-11-05T00:00:00.000000000",
          "2023-11-06T00:00:00.000000000",
          "2023-11-07T00:00:00.000000000",
          "2023-11-08T00:00:00.000000000",
          "2023-11-09T00:00:00.000000000",
          "2023-11-10T00:00:00.000000000",
          "2023-11-11T00:00:00.000000000",
          "2023-11-12T00:00:00.000000000",
          "2023-11-13T00:00:00.000000000",
          "2023-11-14T00:00:00.000000000",
          "2023-11-15T00:00:00.000000000",
          "2023-11-16T00:00:00.000000000",
          "2023-11-17T00:00:00.000000000",
          "2023-11-18T00:00:00.000000000",
          "2023-11-19T00:00:00.000000000",
          "2023-11-20T00:00:00.000000000",
          "2023-11-21T00:00:00.000000000",
          "2023-11-22T00:00:00.000000000",
          "2023-11-23T00:00:00.000000000",
          "2023-11-24T00:00:00.000000000",
          "2023-11-25T00:00:00.000000000",
          "2023-11-26T00:00:00.000000000",
          "2023-11-27T00:00:00.000000000",
          "2023-11-28T00:00:00.000000000",
          "2023-11-29T00:00:00.000000000",
          "2023-11-30T00:00:00.000000000",
          "2023-12-01T00:00:00.000000000",
          "2023-12-02T00:00:00.000000000",
          "2023-12-03T00:00:00.000000000",
          "2023-12-04T00:00:00.000000000",
          "2023-12-05T00:00:00.000000000",
          "2023-12-06T00:00:00.000000000",
          "2023-12-07T00:00:00.000000000",
          "2023-12-08T00:00:00.000000000",
          "2023-12-09T00:00:00.000000000",
          "2023-12-10T00:00:00.000000000",
          "2023-12-11T00:00:00.000000000",
          "2023-12-12T00:00:00.000000000",
          "2023-12-13T00:00:00.000000000",
          "2023-12-14T00:00:00.000000000",
          "2023-12-15T00:00:00.000000000",
          "2023-12-16T00:00:00.000000000",
          "2023-12-17T00:00:00.000000000",
          "2023-12-18T00:00:00.000000000",
          "2023-12-19T00:00:00.000000000",
          "2023-12-20T00:00:00.000000000",
          "2023-12-21T00:00:00.000000000",
          "2023-12-22T00:00:00.000000000",
          "2023-12-23T00:00:00.000000000",
          "2023-12-24T00:00:00.000000000",
          "2023-12-25T00:00:00.000000000",
          "2023-12-26T00:00:00.000000000"
         ],
         "xaxis": "x",
         "y": {
          "bdata": "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",
          "dtype": "f8"
         },
         "yaxis": "y"
        },
        {
         "fill": "toself",
         "fillcolor": "rgba(174,30,36,0.3)",
         "line": {
          "color": "rgba(0,0,0,0)"
         },
         "name": "day layer 0 : 10 best individuals",
         "type": "scatter",
         "x": [
          "2023-01-01T00:00:00.000000000",
          "2023-01-02T00:00:00.000000000",
          "2023-01-03T00:00:00.000000000",
          "2023-01-04T00:00:00.000000000",
          "2023-01-05T00:00:00.000000000",
          "2023-01-06T00:00:00.000000000",
          "2023-01-07T00:00:00.000000000",
          "2023-01-08T00:00:00.000000000",
          "2023-01-09T00:00:00.000000000",
          "2023-01-10T00:00:00.000000000",
          "2023-01-11T00:00:00.000000000",
          "2023-01-12T00:00:00.000000000",
          "2023-01-13T00:00:00.000000000",
          "2023-01-14T00:00:00.000000000",
          "2023-01-15T00:00:00.000000000",
          "2023-01-16T00:00:00.000000000",
          "2023-01-17T00:00:00.000000000",
          "2023-01-18T00:00:00.000000000",
          "2023-01-19T00:00:00.000000000",
          "2023-01-20T00:00:00.000000000",
          "2023-01-21T00:00:00.000000000",
          "2023-01-22T00:00:00.000000000",
          "2023-01-23T00:00:00.000000000",
          "2023-01-24T00:00:00.000000000",
          "2023-01-25T00:00:00.000000000",
          "2023-01-26T00:00:00.000000000",
          "2023-01-27T00:00:00.000000000",
          "2023-01-28T00:00:00.000000000",
          "2023-01-29T00:00:00.000000000",
          "2023-01-30T00:00:00.000000000",
          "2023-01-31T00:00:00.000000000",
          "2023-02-01T00:00:00.000000000",
          "2023-02-02T00:00:00.000000000",
          "2023-02-03T00:00:00.000000000",
          "2023-02-04T00:00:00.000000000",
          "2023-02-05T00:00:00.000000000",
          "2023-02-06T00:00:00.000000000",
          "2023-02-07T00:00:00.000000000",
          "2023-02-08T00:00:00.000000000",
          "2023-02-09T00:00:00.000000000",
          "2023-02-10T00:00:00.000000000",
          "2023-02-11T00:00:00.000000000",
          "2023-02-12T00:00:00.000000000",
          "2023-02-13T00:00:00.000000000",
          "2023-02-14T00:00:00.000000000",
          "2023-02-15T00:00:00.000000000",
          "2023-02-16T00:00:00.000000000",
          "2023-02-17T00:00:00.000000000",
          "2023-02-18T00:00:00.000000000",
          "2023-02-19T00:00:00.000000000",
          "2023-02-20T00:00:00.000000000",
          "2023-02-21T00:00:00.000000000",
          "2023-02-22T00:00:00.000000000",
          "2023-02-23T00:00:00.000000000",
          "2023-02-24T00:00:00.000000000",
          "2023-02-25T00:00:00.000000000",
          "2023-02-26T00:00:00.000000000",
          "2023-02-27T00:00:00.000000000",
          "2023-02-28T00:00:00.000000000",
          "2023-03-01T00:00:00.000000000",
          "2023-03-02T00:00:00.000000000",
          "2023-03-03T00:00:00.000000000",
          "2023-03-04T00:00:00.000000000",
          "2023-03-05T00:00:00.000000000",
          "2023-03-06T00:00:00.000000000",
          "2023-03-07T00:00:00.000000000",
          "2023-03-08T00:00:00.000000000",
          "2023-03-09T00:00:00.000000000",
          "2023-03-10T00:00:00.000000000",
          "2023-03-11T00:00:00.000000000",
          "2023-03-12T00:00:00.000000000",
          "2023-03-13T00:00:00.000000000",
          "2023-03-14T00:00:00.000000000",
          "2023-03-15T00:00:00.000000000",
          "2023-03-16T00:00:00.000000000",
          "2023-03-17T00:00:00.000000000",
          "2023-03-18T00:00:00.000000000",
          "2023-03-19T00:00:00.000000000",
          "2023-03-20T00:00:00.000000000",
          "2023-03-21T00:00:00.000000000",
          "2023-03-22T00:00:00.000000000",
          "2023-03-23T00:00:00.000000000",
          "2023-03-24T00:00:00.000000000",
          "2023-03-25T00:00:00.000000000",
          "2023-03-26T00:00:00.000000000",
          "2023-03-27T00:00:00.000000000",
          "2023-03-28T00:00:00.000000000",
          "2023-03-29T00:00:00.000000000",
          "2023-03-30T00:00:00.000000000",
          "2023-03-31T00:00:00.000000000",
          "2023-04-01T00:00:00.000000000",
          "2023-04-02T00:00:00.000000000",
          "2023-04-03T00:00:00.000000000",
          "2023-04-04T00:00:00.000000000",
          "2023-04-05T00:00:00.000000000",
          "2023-04-06T00:00:00.000000000",
          "2023-04-07T00:00:00.000000000",
          "2023-04-08T00:00:00.000000000",
          "2023-04-09T00:00:00.000000000",
          "2023-04-10T00:00:00.000000000",
          "2023-04-11T00:00:00.000000000",
          "2023-04-12T00:00:00.000000000",
          "2023-04-13T00:00:00.000000000",
          "2023-04-14T00:00:00.000000000",
          "2023-04-15T00:00:00.000000000",
          "2023-04-16T00:00:00.000000000",
          "2023-04-17T00:00:00.000000000",
          "2023-04-18T00:00:00.000000000",
          "2023-04-19T00:00:00.000000000",
          "2023-04-20T00:00:00.000000000",
          "2023-04-21T00:00:00.000000000",
          "2023-04-22T00:00:00.000000000",
          "2023-04-23T00:00:00.000000000",
          "2023-04-24T00:00:00.000000000",
          "2023-04-25T00:00:00.000000000",
          "2023-04-26T00:00:00.000000000",
          "2023-04-27T00:00:00.000000000",
          "2023-04-28T00:00:00.000000000",
          "2023-04-29T00:00:00.000000000",
          "2023-04-30T00:00:00.000000000",
          "2023-05-01T00:00:00.000000000",
          "2023-05-02T00:00:00.000000000",
          "2023-05-03T00:00:00.000000000",
          "2023-05-04T00:00:00.000000000",
          "2023-05-05T00:00:00.000000000",
          "2023-05-06T00:00:00.000000000",
          "2023-05-07T00:00:00.000000000",
          "2023-05-08T00:00:00.000000000",
          "2023-05-09T00:00:00.000000000",
          "2023-05-10T00:00:00.000000000",
          "2023-05-11T00:00:00.000000000",
          "2023-05-12T00:00:00.000000000",
          "2023-05-13T00:00:00.000000000",
          "2023-05-14T00:00:00.000000000",
          "2023-05-15T00:00:00.000000000",
          "2023-05-16T00:00:00.000000000",
          "2023-05-17T00:00:00.000000000",
          "2023-05-18T00:00:00.000000000",
          "2023-05-19T00:00:00.000000000",
          "2023-05-20T00:00:00.000000000",
          "2023-05-21T00:00:00.000000000",
          "2023-05-22T00:00:00.000000000",
          "2023-05-23T00:00:00.000000000",
          "2023-05-24T00:00:00.000000000",
          "2023-05-25T00:00:00.000000000",
          "2023-05-26T00:00:00.000000000",
          "2023-05-27T00:00:00.000000000",
          "2023-05-28T00:00:00.000000000",
          "2023-05-29T00:00:00.000000000",
          "2023-05-30T00:00:00.000000000",
          "2023-05-31T00:00:00.000000000",
          "2023-06-01T00:00:00.000000000",
          "2023-06-02T00:00:00.000000000",
          "2023-06-03T00:00:00.000000000",
          "2023-06-04T00:00:00.000000000",
          "2023-06-05T00:00:00.000000000",
          "2023-06-06T00:00:00.000000000",
          "2023-06-07T00:00:00.000000000",
          "2023-06-08T00:00:00.000000000",
          "2023-06-09T00:00:00.000000000",
          "2023-06-10T00:00:00.000000000",
          "2023-06-11T00:00:00.000000000",
          "2023-06-12T00:00:00.000000000",
          "2023-06-13T00:00:00.000000000",
          "2023-06-14T00:00:00.000000000",
          "2023-06-15T00:00:00.000000000",
          "2023-06-16T00:00:00.000000000",
          "2023-06-17T00:00:00.000000000",
          "2023-06-18T00:00:00.000000000",
          "2023-06-19T00:00:00.000000000",
          "2023-06-20T00:00:00.000000000",
          "2023-06-21T00:00:00.000000000",
          "2023-06-22T00:00:00.000000000",
          "2023-06-23T00:00:00.000000000",
          "2023-06-24T00:00:00.000000000",
          "2023-06-25T00:00:00.000000000",
          "2023-06-26T00:00:00.000000000",
          "2023-06-27T00:00:00.000000000",
          "2023-06-28T00:00:00.000000000",
          "2023-06-29T00:00:00.000000000",
          "2023-06-30T00:00:00.000000000",
          "2023-07-01T00:00:00.000000000",
          "2023-07-02T00:00:00.000000000",
          "2023-07-03T00:00:00.000000000",
          "2023-07-04T00:00:00.000000000",
          "2023-07-05T00:00:00.000000000",
          "2023-07-06T00:00:00.000000000",
          "2023-07-07T00:00:00.000000000",
          "2023-07-08T00:00:00.000000000",
          "2023-07-09T00:00:00.000000000",
          "2023-07-10T00:00:00.000000000",
          "2023-07-11T00:00:00.000000000",
          "2023-07-12T00:00:00.000000000",
          "2023-07-13T00:00:00.000000000",
          "2023-07-14T00:00:00.000000000",
          "2023-07-15T00:00:00.000000000",
          "2023-07-16T00:00:00.000000000",
          "2023-07-17T00:00:00.000000000",
          "2023-07-18T00:00:00.000000000",
          "2023-07-19T00:00:00.000000000",
          "2023-07-20T00:00:00.000000000",
          "2023-07-21T00:00:00.000000000",
          "2023-07-22T00:00:00.000000000",
          "2023-07-23T00:00:00.000000000",
          "2023-07-24T00:00:00.000000000",
          "2023-07-25T00:00:00.000000000",
          "2023-07-26T00:00:00.000000000",
          "2023-07-27T00:00:00.000000000",
          "2023-07-28T00:00:00.000000000",
          "2023-07-29T00:00:00.000000000",
          "2023-07-30T00:00:00.000000000",
          "2023-07-31T00:00:00.000000000",
          "2023-08-01T00:00:00.000000000",
          "2023-08-02T00:00:00.000000000",
          "2023-08-03T00:00:00.000000000",
          "2023-08-04T00:00:00.000000000",
          "2023-08-05T00:00:00.000000000",
          "2023-08-06T00:00:00.000000000",
          "2023-08-07T00:00:00.000000000",
          "2023-08-08T00:00:00.000000000",
          "2023-08-09T00:00:00.000000000",
          "2023-08-10T00:00:00.000000000",
          "2023-08-11T00:00:00.000000000",
          "2023-08-12T00:00:00.000000000",
          "2023-08-13T00:00:00.000000000",
          "2023-08-14T00:00:00.000000000",
          "2023-08-15T00:00:00.000000000",
          "2023-08-16T00:00:00.000000000",
          "2023-08-17T00:00:00.000000000",
          "2023-08-18T00:00:00.000000000",
          "2023-08-19T00:00:00.000000000",
          "2023-08-20T00:00:00.000000000",
          "2023-08-21T00:00:00.000000000",
          "2023-08-22T00:00:00.000000000",
          "2023-08-23T00:00:00.000000000",
          "2023-08-24T00:00:00.000000000",
          "2023-08-25T00:00:00.000000000",
          "2023-08-26T00:00:00.000000000",
          "2023-08-27T00:00:00.000000000",
          "2023-08-28T00:00:00.000000000",
          "2023-08-29T00:00:00.000000000",
          "2023-08-30T00:00:00.000000000",
          "2023-08-31T00:00:00.000000000",
          "2023-09-01T00:00:00.000000000",
          "2023-09-02T00:00:00.000000000",
          "2023-09-03T00:00:00.000000000",
          "2023-09-04T00:00:00.000000000",
          "2023-09-05T00:00:00.000000000",
          "2023-09-06T00:00:00.000000000",
          "2023-09-07T00:00:00.000000000",
          "2023-09-08T00:00:00.000000000",
          "2023-09-09T00:00:00.000000000",
          "2023-09-10T00:00:00.000000000",
          "2023-09-11T00:00:00.000000000",
          "2023-09-12T00:00:00.000000000",
          "2023-09-13T00:00:00.000000000",
          "2023-09-14T00:00:00.000000000",
          "2023-09-15T00:00:00.000000000",
          "2023-09-16T00:00:00.000000000",
          "2023-09-17T00:00:00.000000000",
          "2023-09-18T00:00:00.000000000",
          "2023-09-19T00:00:00.000000000",
          "2023-09-20T00:00:00.000000000",
          "2023-09-21T00:00:00.000000000",
          "2023-09-22T00:00:00.000000000",
          "2023-09-23T00:00:00.000000000",
          "2023-09-24T00:00:00.000000000",
          "2023-09-25T00:00:00.000000000",
          "2023-09-26T00:00:00.000000000",
          "2023-09-27T00:00:00.000000000",
          "2023-09-28T00:00:00.000000000",
          "2023-09-29T00:00:00.000000000",
          "2023-09-30T00:00:00.000000000",
          "2023-10-01T00:00:00.000000000",
          "2023-10-02T00:00:00.000000000",
          "2023-10-03T00:00:00.000000000",
          "2023-10-04T00:00:00.000000000",
          "2023-10-05T00:00:00.000000000",
          "2023-10-06T00:00:00.000000000",
          "2023-10-07T00:00:00.000000000",
          "2023-10-08T00:00:00.000000000",
          "2023-10-09T00:00:00.000000000",
          "2023-10-10T00:00:00.000000000",
          "2023-10-11T00:00:00.000000000",
          "2023-10-12T00:00:00.000000000",
          "2023-10-13T00:00:00.000000000",
          "2023-10-14T00:00:00.000000000",
          "2023-10-15T00:00:00.000000000",
          "2023-10-16T00:00:00.000000000",
          "2023-10-17T00:00:00.000000000",
          "2023-10-18T00:00:00.000000000",
          "2023-10-19T00:00:00.000000000",
          "2023-10-20T00:00:00.000000000",
          "2023-10-21T00:00:00.000000000",
          "2023-10-22T00:00:00.000000000",
          "2023-10-23T00:00:00.000000000",
          "2023-10-24T00:00:00.000000000",
          "2023-10-25T00:00:00.000000000",
          "2023-10-26T00:00:00.000000000",
          "2023-10-27T00:00:00.000000000",
          "2023-10-28T00:00:00.000000000",
          "2023-10-29T00:00:00.000000000",
          "2023-10-30T00:00:00.000000000",
          "2023-10-31T00:00:00.000000000",
          "2023-11-01T00:00:00.000000000",
          "2023-11-02T00:00:00.000000000",
          "2023-11-03T00:00:00.000000000",
          "2023-11-04T00:00:00.000000000",
          "2023-11-05T00:00:00.000000000",
          "2023-11-06T00:00:00.000000000",
          "2023-11-07T00:00:00.000000000",
          "2023-11-08T00:00:00.000000000",
          "2023-11-09T00:00:00.000000000",
          "2023-11-10T00:00:00.000000000",
          "2023-11-11T00:00:00.000000000",
          "2023-11-12T00:00:00.000000000",
          "2023-11-13T00:00:00.000000000",
          "2023-11-14T00:00:00.000000000",
          "2023-11-15T00:00:00.000000000",
          "2023-11-16T00:00:00.000000000",
          "2023-11-17T00:00:00.000000000",
          "2023-11-18T00:00:00.000000000",
          "2023-11-19T00:00:00.000000000",
          "2023-11-20T00:00:00.000000000",
          "2023-11-21T00:00:00.000000000",
          "2023-11-22T00:00:00.000000000",
          "2023-11-23T00:00:00.000000000",
          "2023-11-24T00:00:00.000000000",
          "2023-11-25T00:00:00.000000000",
          "2023-11-26T00:00:00.000000000",
          "2023-11-27T00:00:00.000000000",
          "2023-11-28T00:00:00.000000000",
          "2023-11-29T00:00:00.000000000",
          "2023-11-30T00:00:00.000000000",
          "2023-12-01T00:00:00.000000000",
          "2023-12-02T00:00:00.000000000",
          "2023-12-03T00:00:00.000000000",
          "2023-12-04T00:00:00.000000000",
          "2023-12-05T00:00:00.000000000",
          "2023-12-06T00:00:00.000000000",
          "2023-12-07T00:00:00.000000000",
          "2023-12-08T00:00:00.000000000",
          "2023-12-09T00:00:00.000000000",
          "2023-12-10T00:00:00.000000000",
          "2023-12-11T00:00:00.000000000",
          "2023-12-12T00:00:00.000000000",
          "2023-12-13T00:00:00.000000000",
          "2023-12-14T00:00:00.000000000",
          "2023-12-15T00:00:00.000000000",
          "2023-12-16T00:00:00.000000000",
          "2023-12-17T00:00:00.000000000",
          "2023-12-18T00:00:00.000000000",
          "2023-12-19T00:00:00.000000000",
          "2023-12-20T00:00:00.000000000",
          "2023-12-21T00:00:00.000000000",
          "2023-12-22T00:00:00.000000000",
          "2023-12-23T00:00:00.000000000",
          "2023-12-24T00:00:00.000000000",
          "2023-12-25T00:00:00.000000000",
          "2023-12-26T00:00:00.000000000",
          "2023-12-26T00:00:00.000000000",
          "2023-12-25T00:00:00.000000000",
          "2023-12-24T00:00:00.000000000",
          "2023-12-23T00:00:00.000000000",
          "2023-12-22T00:00:00.000000000",
          "2023-12-21T00:00:00.000000000",
          "2023-12-20T00:00:00.000000000",
          "2023-12-19T00:00:00.000000000",
          "2023-12-18T00:00:00.000000000",
          "2023-12-17T00:00:00.000000000",
          "2023-12-16T00:00:00.000000000",
          "2023-12-15T00:00:00.000000000",
          "2023-12-14T00:00:00.000000000",
          "2023-12-13T00:00:00.000000000",
          "2023-12-12T00:00:00.000000000",
          "2023-12-11T00:00:00.000000000",
          "2023-12-10T00:00:00.000000000",
          "2023-12-09T00:00:00.000000000",
          "2023-12-08T00:00:00.000000000",
          "2023-12-07T00:00:00.000000000",
          "2023-12-06T00:00:00.000000000",
          "2023-12-05T00:00:00.000000000",
          "2023-12-04T00:00:00.000000000",
          "2023-12-03T00:00:00.000000000",
          "2023-12-02T00:00:00.000000000",
          "2023-12-01T00:00:00.000000000",
          "2023-11-30T00:00:00.000000000",
          "2023-11-29T00:00:00.000000000",
          "2023-11-28T00:00:00.000000000",
          "2023-11-27T00:00:00.000000000",
          "2023-11-26T00:00:00.000000000",
          "2023-11-25T00:00:00.000000000",
          "2023-11-24T00:00:00.000000000",
          "2023-11-23T00:00:00.000000000",
          "2023-11-22T00:00:00.000000000",
          "2023-11-21T00:00:00.000000000",
          "2023-11-20T00:00:00.000000000",
          "2023-11-19T00:00:00.000000000",
          "2023-11-18T00:00:00.000000000",
          "2023-11-17T00:00:00.000000000",
          "2023-11-16T00:00:00.000000000",
          "2023-11-15T00:00:00.000000000",
          "2023-11-14T00:00:00.000000000",
          "2023-11-13T00:00:00.000000000",
          "2023-11-12T00:00:00.000000000",
          "2023-11-11T00:00:00.000000000",
          "2023-11-10T00:00:00.000000000",
          "2023-11-09T00:00:00.000000000",
          "2023-11-08T00:00:00.000000000",
          "2023-11-07T00:00:00.000000000",
          "2023-11-06T00:00:00.000000000",
          "2023-11-05T00:00:00.000000000",
          "2023-11-04T00:00:00.000000000",
          "2023-11-03T00:00:00.000000000",
          "2023-11-02T00:00:00.000000000",
          "2023-11-01T00:00:00.000000000",
          "2023-10-31T00:00:00.000000000",
          "2023-10-30T00:00:00.000000000",
          "2023-10-29T00:00:00.000000000",
          "2023-10-28T00:00:00.000000000",
          "2023-10-27T00:00:00.000000000",
          "2023-10-26T00:00:00.000000000",
          "2023-10-25T00:00:00.000000000",
          "2023-10-24T00:00:00.000000000",
          "2023-10-23T00:00:00.000000000",
          "2023-10-22T00:00:00.000000000",
          "2023-10-21T00:00:00.000000000",
          "2023-10-20T00:00:00.000000000",
          "2023-10-19T00:00:00.000000000",
          "2023-10-18T00:00:00.000000000",
          "2023-10-17T00:00:00.000000000",
          "2023-10-16T00:00:00.000000000",
          "2023-10-15T00:00:00.000000000",
          "2023-10-14T00:00:00.000000000",
          "2023-10-13T00:00:00.000000000",
          "2023-10-12T00:00:00.000000000",
          "2023-10-11T00:00:00.000000000",
          "2023-10-10T00:00:00.000000000",
          "2023-10-09T00:00:00.000000000",
          "2023-10-08T00:00:00.000000000",
          "2023-10-07T00:00:00.000000000",
          "2023-10-06T00:00:00.000000000",
          "2023-10-05T00:00:00.000000000",
          "2023-10-04T00:00:00.000000000",
          "2023-10-03T00:00:00.000000000",
          "2023-10-02T00:00:00.000000000",
          "2023-10-01T00:00:00.000000000",
          "2023-09-30T00:00:00.000000000",
          "2023-09-29T00:00:00.000000000",
          "2023-09-28T00:00:00.000000000",
          "2023-09-27T00:00:00.000000000",
          "2023-09-26T00:00:00.000000000",
          "2023-09-25T00:00:00.000000000",
          "2023-09-24T00:00:00.000000000",
          "2023-09-23T00:00:00.000000000",
          "2023-09-22T00:00:00.000000000",
          "2023-09-21T00:00:00.000000000",
          "2023-09-20T00:00:00.000000000",
          "2023-09-19T00:00:00.000000000",
          "2023-09-18T00:00:00.000000000",
          "2023-09-17T00:00:00.000000000",
          "2023-09-16T00:00:00.000000000",
          "2023-09-15T00:00:00.000000000",
          "2023-09-14T00:00:00.000000000",
          "2023-09-13T00:00:00.000000000",
          "2023-09-12T00:00:00.000000000",
          "2023-09-11T00:00:00.000000000",
          "2023-09-10T00:00:00.000000000",
          "2023-09-09T00:00:00.000000000",
          "2023-09-08T00:00:00.000000000",
          "2023-09-07T00:00:00.000000000",
          "2023-09-06T00:00:00.000000000",
          "2023-09-05T00:00:00.000000000",
          "2023-09-04T00:00:00.000000000",
          "2023-09-03T00:00:00.000000000",
          "2023-09-02T00:00:00.000000000",
          "2023-09-01T00:00:00.000000000",
          "2023-08-31T00:00:00.000000000",
          "2023-08-30T00:00:00.000000000",
          "2023-08-29T00:00:00.000000000",
          "2023-08-28T00:00:00.000000000",
          "2023-08-27T00:00:00.000000000",
          "2023-08-26T00:00:00.000000000",
          "2023-08-25T00:00:00.000000000",
          "2023-08-24T00:00:00.000000000",
          "2023-08-23T00:00:00.000000000",
          "2023-08-22T00:00:00.000000000",
          "2023-08-21T00:00:00.000000000",
          "2023-08-20T00:00:00.000000000",
          "2023-08-19T00:00:00.000000000",
          "2023-08-18T00:00:00.000000000",
          "2023-08-17T00:00:00.000000000",
          "2023-08-16T00:00:00.000000000",
          "2023-08-15T00:00:00.000000000",
          "2023-08-14T00:00:00.000000000",
          "2023-08-13T00:00:00.000000000",
          "2023-08-12T00:00:00.000000000",
          "2023-08-11T00:00:00.000000000",
          "2023-08-10T00:00:00.000000000",
          "2023-08-09T00:00:00.000000000",
          "2023-08-08T00:00:00.000000000",
          "2023-08-07T00:00:00.000000000",
          "2023-08-06T00:00:00.000000000",
          "2023-08-05T00:00:00.000000000",
          "2023-08-04T00:00:00.000000000",
          "2023-08-03T00:00:00.000000000",
          "2023-08-02T00:00:00.000000000",
          "2023-08-01T00:00:00.000000000",
          "2023-07-31T00:00:00.000000000",
          "2023-07-30T00:00:00.000000000",
          "2023-07-29T00:00:00.000000000",
          "2023-07-28T00:00:00.000000000",
          "2023-07-27T00:00:00.000000000",
          "2023-07-26T00:00:00.000000000",
          "2023-07-25T00:00:00.000000000",
          "2023-07-24T00:00:00.000000000",
          "2023-07-23T00:00:00.000000000",
          "2023-07-22T00:00:00.000000000",
          "2023-07-21T00:00:00.000000000",
          "2023-07-20T00:00:00.000000000",
          "2023-07-19T00:00:00.000000000",
          "2023-07-18T00:00:00.000000000",
          "2023-07-17T00:00:00.000000000",
          "2023-07-16T00:00:00.000000000",
          "2023-07-15T00:00:00.000000000",
          "2023-07-14T00:00:00.000000000",
          "2023-07-13T00:00:00.000000000",
          "2023-07-12T00:00:00.000000000",
          "2023-07-11T00:00:00.000000000",
          "2023-07-10T00:00:00.000000000",
          "2023-07-09T00:00:00.000000000",
          "2023-07-08T00:00:00.000000000",
          "2023-07-07T00:00:00.000000000",
          "2023-07-06T00:00:00.000000000",
          "2023-07-05T00:00:00.000000000",
          "2023-07-04T00:00:00.000000000",
          "2023-07-03T00:00:00.000000000",
          "2023-07-02T00:00:00.000000000",
          "2023-07-01T00:00:00.000000000",
          "2023-06-30T00:00:00.000000000",
          "2023-06-29T00:00:00.000000000",
          "2023-06-28T00:00:00.000000000",
          "2023-06-27T00:00:00.000000000",
          "2023-06-26T00:00:00.000000000",
          "2023-06-25T00:00:00.000000000",
          "2023-06-24T00:00:00.000000000",
          "2023-06-23T00:00:00.000000000",
          "2023-06-22T00:00:00.000000000",
          "2023-06-21T00:00:00.000000000",
          "2023-06-20T00:00:00.000000000",
          "2023-06-19T00:00:00.000000000",
          "2023-06-18T00:00:00.000000000",
          "2023-06-17T00:00:00.000000000",
          "2023-06-16T00:00:00.000000000",
          "2023-06-15T00:00:00.000000000",
          "2023-06-14T00:00:00.000000000",
          "2023-06-13T00:00:00.000000000",
          "2023-06-12T00:00:00.000000000",
          "2023-06-11T00:00:00.000000000",
          "2023-06-10T00:00:00.000000000",
          "2023-06-09T00:00:00.000000000",
          "2023-06-08T00:00:00.000000000",
          "2023-06-07T00:00:00.000000000",
          "2023-06-06T00:00:00.000000000",
          "2023-06-05T00:00:00.000000000",
          "2023-06-04T00:00:00.000000000",
          "2023-06-03T00:00:00.000000000",
          "2023-06-02T00:00:00.000000000",
          "2023-06-01T00:00:00.000000000",
          "2023-05-31T00:00:00.000000000",
          "2023-05-30T00:00:00.000000000",
          "2023-05-29T00:00:00.000000000",
          "2023-05-28T00:00:00.000000000",
          "2023-05-27T00:00:00.000000000",
          "2023-05-26T00:00:00.000000000",
          "2023-05-25T00:00:00.000000000",
          "2023-05-24T00:00:00.000000000",
          "2023-05-23T00:00:00.000000000",
          "2023-05-22T00:00:00.000000000",
          "2023-05-21T00:00:00.000000000",
          "2023-05-20T00:00:00.000000000",
          "2023-05-19T00:00:00.000000000",
          "2023-05-18T00:00:00.000000000",
          "2023-05-17T00:00:00.000000000",
          "2023-05-16T00:00:00.000000000",
          "2023-05-15T00:00:00.000000000",
          "2023-05-14T00:00:00.000000000",
          "2023-05-13T00:00:00.000000000",
          "2023-05-12T00:00:00.000000000",
          "2023-05-11T00:00:00.000000000",
          "2023-05-10T00:00:00.000000000",
          "2023-05-09T00:00:00.000000000",
          "2023-05-08T00:00:00.000000000",
          "2023-05-07T00:00:00.000000000",
          "2023-05-06T00:00:00.000000000",
          "2023-05-05T00:00:00.000000000",
          "2023-05-04T00:00:00.000000000",
          "2023-05-03T00:00:00.000000000",
          "2023-05-02T00:00:00.000000000",
          "2023-05-01T00:00:00.000000000",
          "2023-04-30T00:00:00.000000000",
          "2023-04-29T00:00:00.000000000",
          "2023-04-28T00:00:00.000000000",
          "2023-04-27T00:00:00.000000000",
          "2023-04-26T00:00:00.000000000",
          "2023-04-25T00:00:00.000000000",
          "2023-04-24T00:00:00.000000000",
          "2023-04-23T00:00:00.000000000",
          "2023-04-22T00:00:00.000000000",
          "2023-04-21T00:00:00.000000000",
          "2023-04-20T00:00:00.000000000",
          "2023-04-19T00:00:00.000000000",
          "2023-04-18T00:00:00.000000000",
          "2023-04-17T00:00:00.000000000",
          "2023-04-16T00:00:00.000000000",
          "2023-04-15T00:00:00.000000000",
          "2023-04-14T00:00:00.000000000",
          "2023-04-13T00:00:00.000000000",
          "2023-04-12T00:00:00.000000000",
          "2023-04-11T00:00:00.000000000",
          "2023-04-10T00:00:00.000000000",
          "2023-04-09T00:00:00.000000000",
          "2023-04-08T00:00:00.000000000",
          "2023-04-07T00:00:00.000000000",
          "2023-04-06T00:00:00.000000000",
          "2023-04-05T00:00:00.000000000",
          "2023-04-04T00:00:00.000000000",
          "2023-04-03T00:00:00.000000000",
          "2023-04-02T00:00:00.000000000",
          "2023-04-01T00:00:00.000000000",
          "2023-03-31T00:00:00.000000000",
          "2023-03-30T00:00:00.000000000",
          "2023-03-29T00:00:00.000000000",
          "2023-03-28T00:00:00.000000000",
          "2023-03-27T00:00:00.000000000",
          "2023-03-26T00:00:00.000000000",
          "2023-03-25T00:00:00.000000000",
          "2023-03-24T00:00:00.000000000",
          "2023-03-23T00:00:00.000000000",
          "2023-03-22T00:00:00.000000000",
          "2023-03-21T00:00:00.000000000",
          "2023-03-20T00:00:00.000000000",
          "2023-03-19T00:00:00.000000000",
          "2023-03-18T00:00:00.000000000",
          "2023-03-17T00:00:00.000000000",
          "2023-03-16T00:00:00.000000000",
          "2023-03-15T00:00:00.000000000",
          "2023-03-14T00:00:00.000000000",
          "2023-03-13T00:00:00.000000000",
          "2023-03-12T00:00:00.000000000",
          "2023-03-11T00:00:00.000000000",
          "2023-03-10T00:00:00.000000000",
          "2023-03-09T00:00:00.000000000",
          "2023-03-08T00:00:00.000000000",
          "2023-03-07T00:00:00.000000000",
          "2023-03-06T00:00:00.000000000",
          "2023-03-05T00:00:00.000000000",
          "2023-03-04T00:00:00.000000000",
          "2023-03-03T00:00:00.000000000",
          "2023-03-02T00:00:00.000000000",
          "2023-03-01T00:00:00.000000000",
          "2023-02-28T00:00:00.000000000",
          "2023-02-27T00:00:00.000000000",
          "2023-02-26T00:00:00.000000000",
          "2023-02-25T00:00:00.000000000",
          "2023-02-24T00:00:00.000000000",
          "2023-02-23T00:00:00.000000000",
          "2023-02-22T00:00:00.000000000",
          "2023-02-21T00:00:00.000000000",
          "2023-02-20T00:00:00.000000000",
          "2023-02-19T00:00:00.000000000",
          "2023-02-18T00:00:00.000000000",
          "2023-02-17T00:00:00.000000000",
          "2023-02-16T00:00:00.000000000",
          "2023-02-15T00:00:00.000000000",
          "2023-02-14T00:00:00.000000000",
          "2023-02-13T00:00:00.000000000",
          "2023-02-12T00:00:00.000000000",
          "2023-02-11T00:00:00.000000000",
          "2023-02-10T00:00:00.000000000",
          "2023-02-09T00:00:00.000000000",
          "2023-02-08T00:00:00.000000000",
          "2023-02-07T00:00:00.000000000",
          "2023-02-06T00:00:00.000000000",
          "2023-02-05T00:00:00.000000000",
          "2023-02-04T00:00:00.000000000",
          "2023-02-03T00:00:00.000000000",
          "2023-02-02T00:00:00.000000000",
          "2023-02-01T00:00:00.000000000",
          "2023-01-31T00:00:00.000000000",
          "2023-01-30T00:00:00.000000000",
          "2023-01-29T00:00:00.000000000",
          "2023-01-28T00:00:00.000000000",
          "2023-01-27T00:00:00.000000000",
          "2023-01-26T00:00:00.000000000",
          "2023-01-25T00:00:00.000000000",
          "2023-01-24T00:00:00.000000000",
          "2023-01-23T00:00:00.000000000",
          "2023-01-22T00:00:00.000000000",
          "2023-01-21T00:00:00.000000000",
          "2023-01-20T00:00:00.000000000",
          "2023-01-19T00:00:00.000000000",
          "2023-01-18T00:00:00.000000000",
          "2023-01-17T00:00:00.000000000",
          "2023-01-16T00:00:00.000000000",
          "2023-01-15T00:00:00.000000000",
          "2023-01-14T00:00:00.000000000",
          "2023-01-13T00:00:00.000000000",
          "2023-01-12T00:00:00.000000000",
          "2023-01-11T00:00:00.000000000",
          "2023-01-10T00:00:00.000000000",
          "2023-01-09T00:00:00.000000000",
          "2023-01-08T00:00:00.000000000",
          "2023-01-07T00:00:00.000000000",
          "2023-01-06T00:00:00.000000000",
          "2023-01-05T00:00:00.000000000",
          "2023-01-04T00:00:00.000000000",
          "2023-01-03T00:00:00.000000000",
          "2023-01-02T00:00:00.000000000",
          "2023-01-01T00:00:00.000000000"
         ],
         "xaxis": "x",
         "y": {
          "bdata": "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",
          "dtype": "f8"
         },
         "yaxis": "y"
        },
        {
         "line": {
          "color": "black",
          "dash": "dash",
          "width": 1
         },
         "marker": {
          "color": "black",
          "size": 4,
          "symbol": "x"
         },
         "mode": "lines+markers",
         "name": "Observed day layer 0",
         "type": "scatter",
         "x": [
          "2023-01-01T00:00:00.000000000",
          "2023-01-02T00:00:00.000000000",
          "2023-01-03T00:00:00.000000000",
          "2023-01-04T00:00:00.000000000",
          "2023-01-05T00:00:00.000000000",
          "2023-01-06T00:00:00.000000000",
          "2023-01-07T00:00:00.000000000",
          "2023-01-08T00:00:00.000000000",
          "2023-01-09T00:00:00.000000000",
          "2023-01-10T00:00:00.000000000",
          "2023-01-11T00:00:00.000000000",
          "2023-01-12T00:00:00.000000000",
          "2023-01-13T00:00:00.000000000",
          "2023-01-14T00:00:00.000000000",
          "2023-01-15T00:00:00.000000000",
          "2023-01-16T00:00:00.000000000",
          "2023-01-17T00:00:00.000000000",
          "2023-01-18T00:00:00.000000000",
          "2023-01-19T00:00:00.000000000",
          "2023-01-20T00:00:00.000000000",
          "2023-01-21T00:00:00.000000000",
          "2023-01-22T00:00:00.000000000",
          "2023-01-23T00:00:00.000000000",
          "2023-01-24T00:00:00.000000000",
          "2023-01-25T00:00:00.000000000",
          "2023-01-26T00:00:00.000000000",
          "2023-01-27T00:00:00.000000000",
          "2023-01-28T00:00:00.000000000",
          "2023-01-29T00:00:00.000000000",
          "2023-01-30T00:00:00.000000000",
          "2023-01-31T00:00:00.000000000",
          "2023-02-01T00:00:00.000000000",
          "2023-02-02T00:00:00.000000000",
          "2023-02-03T00:00:00.000000000",
          "2023-02-04T00:00:00.000000000",
          "2023-02-05T00:00:00.000000000",
          "2023-02-06T00:00:00.000000000",
          "2023-02-07T00:00:00.000000000",
          "2023-02-08T00:00:00.000000000",
          "2023-02-09T00:00:00.000000000",
          "2023-02-10T00:00:00.000000000",
          "2023-02-11T00:00:00.000000000",
          "2023-02-12T00:00:00.000000000",
          "2023-02-13T00:00:00.000000000",
          "2023-02-14T00:00:00.000000000",
          "2023-02-15T00:00:00.000000000",
          "2023-02-16T00:00:00.000000000",
          "2023-02-17T00:00:00.000000000",
          "2023-02-18T00:00:00.000000000",
          "2023-02-19T00:00:00.000000000",
          "2023-02-20T00:00:00.000000000",
          "2023-02-21T00:00:00.000000000",
          "2023-02-22T00:00:00.000000000",
          "2023-02-23T00:00:00.000000000",
          "2023-02-24T00:00:00.000000000",
          "2023-02-25T00:00:00.000000000",
          "2023-02-26T00:00:00.000000000",
          "2023-02-27T00:00:00.000000000",
          "2023-02-28T00:00:00.000000000",
          "2023-03-01T00:00:00.000000000",
          "2023-03-02T00:00:00.000000000",
          "2023-03-03T00:00:00.000000000",
          "2023-03-04T00:00:00.000000000",
          "2023-03-05T00:00:00.000000000",
          "2023-03-06T00:00:00.000000000",
          "2023-03-07T00:00:00.000000000",
          "2023-03-08T00:00:00.000000000",
          "2023-03-09T00:00:00.000000000",
          "2023-03-10T00:00:00.000000000",
          "2023-03-11T00:00:00.000000000",
          "2023-03-12T00:00:00.000000000",
          "2023-03-13T00:00:00.000000000",
          "2023-03-14T00:00:00.000000000",
          "2023-03-15T00:00:00.000000000",
          "2023-03-16T00:00:00.000000000",
          "2023-03-17T00:00:00.000000000",
          "2023-03-18T00:00:00.000000000",
          "2023-03-19T00:00:00.000000000",
          "2023-03-20T00:00:00.000000000",
          "2023-03-21T00:00:00.000000000",
          "2023-03-22T00:00:00.000000000",
          "2023-03-23T00:00:00.000000000",
          "2023-03-24T00:00:00.000000000",
          "2023-03-25T00:00:00.000000000",
          "2023-03-26T00:00:00.000000000",
          "2023-03-27T00:00:00.000000000",
          "2023-03-28T00:00:00.000000000",
          "2023-03-29T00:00:00.000000000",
          "2023-03-30T00:00:00.000000000",
          "2023-03-31T00:00:00.000000000",
          "2023-04-01T00:00:00.000000000",
          "2023-04-02T00:00:00.000000000",
          "2023-04-03T00:00:00.000000000",
          "2023-04-04T00:00:00.000000000",
          "2023-04-05T00:00:00.000000000",
          "2023-04-06T00:00:00.000000000",
          "2023-04-07T00:00:00.000000000",
          "2023-04-08T00:00:00.000000000",
          "2023-04-09T00:00:00.000000000",
          "2023-04-10T00:00:00.000000000",
          "2023-04-11T00:00:00.000000000",
          "2023-04-12T00:00:00.000000000",
          "2023-04-13T00:00:00.000000000",
          "2023-04-14T00:00:00.000000000",
          "2023-04-15T00:00:00.000000000",
          "2023-04-16T00:00:00.000000000",
          "2023-04-17T00:00:00.000000000",
          "2023-04-18T00:00:00.000000000",
          "2023-04-19T00:00:00.000000000",
          "2023-04-20T00:00:00.000000000",
          "2023-04-21T00:00:00.000000000",
          "2023-04-22T00:00:00.000000000",
          "2023-04-23T00:00:00.000000000",
          "2023-04-24T00:00:00.000000000",
          "2023-04-25T00:00:00.000000000",
          "2023-04-26T00:00:00.000000000",
          "2023-04-27T00:00:00.000000000",
          "2023-04-28T00:00:00.000000000",
          "2023-04-29T00:00:00.000000000",
          "2023-04-30T00:00:00.000000000",
          "2023-05-01T00:00:00.000000000",
          "2023-05-02T00:00:00.000000000",
          "2023-05-03T00:00:00.000000000",
          "2023-05-04T00:00:00.000000000",
          "2023-05-05T00:00:00.000000000",
          "2023-05-06T00:00:00.000000000",
          "2023-05-07T00:00:00.000000000",
          "2023-05-08T00:00:00.000000000",
          "2023-05-09T00:00:00.000000000",
          "2023-05-10T00:00:00.000000000",
          "2023-05-11T00:00:00.000000000",
          "2023-05-12T00:00:00.000000000",
          "2023-05-13T00:00:00.000000000",
          "2023-05-14T00:00:00.000000000",
          "2023-05-15T00:00:00.000000000",
          "2023-05-16T00:00:00.000000000",
          "2023-05-17T00:00:00.000000000",
          "2023-05-18T00:00:00.000000000",
          "2023-05-19T00:00:00.000000000",
          "2023-05-20T00:00:00.000000000",
          "2023-05-21T00:00:00.000000000",
          "2023-05-22T00:00:00.000000000",
          "2023-05-23T00:00:00.000000000",
          "2023-05-24T00:00:00.000000000",
          "2023-05-25T00:00:00.000000000",
          "2023-05-26T00:00:00.000000000",
          "2023-05-27T00:00:00.000000000",
          "2023-05-28T00:00:00.000000000",
          "2023-05-29T00:00:00.000000000",
          "2023-05-30T00:00:00.000000000",
          "2023-05-31T00:00:00.000000000",
          "2023-06-01T00:00:00.000000000",
          "2023-06-02T00:00:00.000000000",
          "2023-06-03T00:00:00.000000000",
          "2023-06-04T00:00:00.000000000",
          "2023-06-05T00:00:00.000000000",
          "2023-06-06T00:00:00.000000000",
          "2023-06-07T00:00:00.000000000",
          "2023-06-08T00:00:00.000000000",
          "2023-06-09T00:00:00.000000000",
          "2023-06-10T00:00:00.000000000",
          "2023-06-11T00:00:00.000000000",
          "2023-06-12T00:00:00.000000000",
          "2023-06-13T00:00:00.000000000",
          "2023-06-14T00:00:00.000000000",
          "2023-06-15T00:00:00.000000000",
          "2023-06-16T00:00:00.000000000",
          "2023-06-17T00:00:00.000000000",
          "2023-06-18T00:00:00.000000000",
          "2023-06-19T00:00:00.000000000",
          "2023-06-20T00:00:00.000000000",
          "2023-06-21T00:00:00.000000000",
          "2023-06-22T00:00:00.000000000",
          "2023-06-23T00:00:00.000000000",
          "2023-06-24T00:00:00.000000000",
          "2023-06-25T00:00:00.000000000",
          "2023-06-26T00:00:00.000000000",
          "2023-06-27T00:00:00.000000000",
          "2023-06-28T00:00:00.000000000",
          "2023-06-29T00:00:00.000000000",
          "2023-06-30T00:00:00.000000000",
          "2023-07-01T00:00:00.000000000",
          "2023-07-02T00:00:00.000000000",
          "2023-07-03T00:00:00.000000000",
          "2023-07-04T00:00:00.000000000",
          "2023-07-05T00:00:00.000000000",
          "2023-07-06T00:00:00.000000000",
          "2023-07-07T00:00:00.000000000",
          "2023-07-08T00:00:00.000000000",
          "2023-07-09T00:00:00.000000000",
          "2023-07-10T00:00:00.000000000",
          "2023-07-11T00:00:00.000000000",
          "2023-07-12T00:00:00.000000000",
          "2023-07-13T00:00:00.000000000",
          "2023-07-14T00:00:00.000000000",
          "2023-07-15T00:00:00.000000000",
          "2023-07-16T00:00:00.000000000",
          "2023-07-17T00:00:00.000000000",
          "2023-07-18T00:00:00.000000000",
          "2023-07-19T00:00:00.000000000",
          "2023-07-20T00:00:00.000000000",
          "2023-07-21T00:00:00.000000000",
          "2023-07-22T00:00:00.000000000",
          "2023-07-23T00:00:00.000000000",
          "2023-07-24T00:00:00.000000000",
          "2023-07-25T00:00:00.000000000",
          "2023-07-26T00:00:00.000000000",
          "2023-07-27T00:00:00.000000000",
          "2023-07-28T00:00:00.000000000",
          "2023-07-29T00:00:00.000000000",
          "2023-07-30T00:00:00.000000000",
          "2023-07-31T00:00:00.000000000",
          "2023-08-01T00:00:00.000000000",
          "2023-08-02T00:00:00.000000000",
          "2023-08-03T00:00:00.000000000",
          "2023-08-04T00:00:00.000000000",
          "2023-08-05T00:00:00.000000000",
          "2023-08-06T00:00:00.000000000",
          "2023-08-07T00:00:00.000000000",
          "2023-08-08T00:00:00.000000000",
          "2023-08-09T00:00:00.000000000",
          "2023-08-10T00:00:00.000000000",
          "2023-08-11T00:00:00.000000000",
          "2023-08-12T00:00:00.000000000",
          "2023-08-13T00:00:00.000000000",
          "2023-08-14T00:00:00.000000000",
          "2023-08-15T00:00:00.000000000",
          "2023-08-16T00:00:00.000000000",
          "2023-08-17T00:00:00.000000000",
          "2023-08-18T00:00:00.000000000",
          "2023-08-19T00:00:00.000000000",
          "2023-08-20T00:00:00.000000000",
          "2023-08-21T00:00:00.000000000",
          "2023-08-22T00:00:00.000000000",
          "2023-08-23T00:00:00.000000000",
          "2023-08-24T00:00:00.000000000",
          "2023-08-25T00:00:00.000000000",
          "2023-08-26T00:00:00.000000000",
          "2023-08-27T00:00:00.000000000",
          "2023-08-28T00:00:00.000000000",
          "2023-08-29T00:00:00.000000000",
          "2023-08-30T00:00:00.000000000",
          "2023-08-31T00:00:00.000000000",
          "2023-09-01T00:00:00.000000000",
          "2023-09-02T00:00:00.000000000",
          "2023-09-03T00:00:00.000000000",
          "2023-09-04T00:00:00.000000000",
          "2023-09-05T00:00:00.000000000",
          "2023-09-06T00:00:00.000000000",
          "2023-09-07T00:00:00.000000000",
          "2023-09-08T00:00:00.000000000",
          "2023-09-09T00:00:00.000000000",
          "2023-09-10T00:00:00.000000000",
          "2023-09-11T00:00:00.000000000",
          "2023-09-12T00:00:00.000000000",
          "2023-09-13T00:00:00.000000000",
          "2023-09-14T00:00:00.000000000",
          "2023-09-15T00:00:00.000000000",
          "2023-09-16T00:00:00.000000000",
          "2023-09-17T00:00:00.000000000",
          "2023-09-18T00:00:00.000000000",
          "2023-09-19T00:00:00.000000000",
          "2023-09-20T00:00:00.000000000",
          "2023-09-21T00:00:00.000000000",
          "2023-09-22T00:00:00.000000000",
          "2023-09-23T00:00:00.000000000",
          "2023-09-24T00:00:00.000000000",
          "2023-09-25T00:00:00.000000000",
          "2023-09-26T00:00:00.000000000",
          "2023-09-27T00:00:00.000000000",
          "2023-09-28T00:00:00.000000000",
          "2023-09-29T00:00:00.000000000",
          "2023-09-30T00:00:00.000000000",
          "2023-10-01T00:00:00.000000000",
          "2023-10-02T00:00:00.000000000",
          "2023-10-03T00:00:00.000000000",
          "2023-10-04T00:00:00.000000000",
          "2023-10-05T00:00:00.000000000",
          "2023-10-06T00:00:00.000000000",
          "2023-10-07T00:00:00.000000000",
          "2023-10-08T00:00:00.000000000",
          "2023-10-09T00:00:00.000000000",
          "2023-10-10T00:00:00.000000000",
          "2023-10-11T00:00:00.000000000",
          "2023-10-12T00:00:00.000000000",
          "2023-10-13T00:00:00.000000000",
          "2023-10-14T00:00:00.000000000",
          "2023-10-15T00:00:00.000000000",
          "2023-10-16T00:00:00.000000000",
          "2023-10-17T00:00:00.000000000",
          "2023-10-18T00:00:00.000000000",
          "2023-10-19T00:00:00.000000000",
          "2023-10-20T00:00:00.000000000",
          "2023-10-21T00:00:00.000000000",
          "2023-10-22T00:00:00.000000000",
          "2023-10-23T00:00:00.000000000",
          "2023-10-24T00:00:00.000000000",
          "2023-10-25T00:00:00.000000000",
          "2023-10-26T00:00:00.000000000",
          "2023-10-27T00:00:00.000000000",
          "2023-10-28T00:00:00.000000000",
          "2023-10-29T00:00:00.000000000",
          "2023-10-30T00:00:00.000000000",
          "2023-10-31T00:00:00.000000000",
          "2023-11-01T00:00:00.000000000",
          "2023-11-02T00:00:00.000000000",
          "2023-11-03T00:00:00.000000000",
          "2023-11-04T00:00:00.000000000",
          "2023-11-05T00:00:00.000000000",
          "2023-11-06T00:00:00.000000000",
          "2023-11-07T00:00:00.000000000",
          "2023-11-08T00:00:00.000000000",
          "2023-11-09T00:00:00.000000000",
          "2023-11-10T00:00:00.000000000",
          "2023-11-11T00:00:00.000000000",
          "2023-11-12T00:00:00.000000000",
          "2023-11-13T00:00:00.000000000",
          "2023-11-14T00:00:00.000000000",
          "2023-11-15T00:00:00.000000000",
          "2023-11-16T00:00:00.000000000",
          "2023-11-17T00:00:00.000000000",
          "2023-11-18T00:00:00.000000000",
          "2023-11-19T00:00:00.000000000",
          "2023-11-20T00:00:00.000000000",
          "2023-11-21T00:00:00.000000000",
          "2023-11-22T00:00:00.000000000",
          "2023-11-23T00:00:00.000000000",
          "2023-11-24T00:00:00.000000000",
          "2023-11-25T00:00:00.000000000",
          "2023-11-26T00:00:00.000000000",
          "2023-11-27T00:00:00.000000000",
          "2023-11-28T00:00:00.000000000",
          "2023-11-29T00:00:00.000000000",
          "2023-11-30T00:00:00.000000000",
          "2023-12-01T00:00:00.000000000",
          "2023-12-02T00:00:00.000000000",
          "2023-12-03T00:00:00.000000000",
          "2023-12-04T00:00:00.000000000",
          "2023-12-05T00:00:00.000000000",
          "2023-12-06T00:00:00.000000000",
          "2023-12-07T00:00:00.000000000",
          "2023-12-08T00:00:00.000000000",
          "2023-12-09T00:00:00.000000000",
          "2023-12-10T00:00:00.000000000",
          "2023-12-11T00:00:00.000000000",
          "2023-12-12T00:00:00.000000000",
          "2023-12-13T00:00:00.000000000",
          "2023-12-14T00:00:00.000000000",
          "2023-12-15T00:00:00.000000000",
          "2023-12-16T00:00:00.000000000",
          "2023-12-17T00:00:00.000000000",
          "2023-12-18T00:00:00.000000000",
          "2023-12-19T00:00:00.000000000",
          "2023-12-20T00:00:00.000000000",
          "2023-12-21T00:00:00.000000000",
          "2023-12-22T00:00:00.000000000",
          "2023-12-23T00:00:00.000000000",
          "2023-12-24T00:00:00.000000000",
          "2023-12-25T00:00:00.000000000",
          "2023-12-26T00:00:00.000000000"
         ],
         "xaxis": "x",
         "y": {
          "bdata": "AAAAAICELkEAAAAAgIQuQQAAAACAhC5BAAAAAICELkEAAAAAgIQuQQAAAACAhC5BAAAAAICELkEAAAAAgIQuQQAAAACAhC5BAAAAAICELkEAAAAAgIQuQQAAAACAhC5BAAAAAICELkEAAAAAgIQuQQAAAACAhC5BAAAAAICELkEAAAAAgIQuQQAAAACAhC5BAAAAAICELkEAAAAAgIQuQQAAAACAhC5BAAAAAICELkEAAAAAgIQuQQAAAACAhC5BAAAAAICELkEAAAAAgIQuQQAAAACAhC5BAAAAAICELkEAAAAAgIQuQQAAAACAhC5BAAAAAICELkEAAAAAgIQuQQAAAACAhC5BAAAAAICELkEAAAAAgIQuQQAAAACAhC5BAAAAAICELkEAAAAAgIQuQQAAAACAhC5BAAAAAICELkEAAAAAgIQuQQAAAACAhC5BAAAAAICELkEAAAAAgIQuQQAAAACAhC5BAAAAAICELkEAAAAAgIQuQQAAAACAhC5BAAAAAICELkEAAAAAgIQuQQAAAACAhC5BAAAAAICELkEAAAAAgIQuQQAAAACAhC5BAAAAAICELkEAAAAAgIQuQQAAAACAhC5BAAAAAICELkEAAAAAgIQuQQAAAACAhC5BAAAAAICELkEAAAAAgIQuQQAAAACAhC5BAAAAAICELkEAAAAAgIQuQQAAAACAhC5BAAAAAICELkEAAAAAgIQuQQAAAACAhC5BAAAAAICELkEAAAAAgIQuQQAAAACAhC5BAAAAAICELkEAAAAAgIQuQQAAAACAhC5BAAAAAICELkEAAAAAgIQuQQAAAACAhC5BAAAAAICELkEAAAAAgIQuQQAAAACAhC5BAAAAAICELkEAAAAAgIQuQQAAAACAhC5BAAAAAICELkEAAAAAgIQuQQAAAACAhC5BAAAAAICELkEAAAAAgIQuQQAAAACAhC5BAAAAAICELkEAAAAAgIQuQQAAAACAhC5BAAAAAICELkEAAAAAgIQuQQAAAACAhC5BAAAAAICELkEAAAAAgIQuQQAAAACAhC5BAAAAAICELkEAAAAAgIQuQQAAAACAhC5BAAAAAICELkEAAAAAgIQuQQAAAACAhC5BAAAAAICELkEAAAAAgIQuQQAAAACAhC5BAAAAAICELkEAAAAAgIQuQQAAAACAhC5BAAAAAICELkEAAAAAgIQuQQAAAACAhC5BAAAAAICELkEAAAAAgIQuQQAAAACAhC5BAAAAAICELkEAAAAAgIQuQQAAAACAhC5BAAAAAICELkEAAAAAgIQuQQAAAACAhC5BAAAAAICELkEAAAAAgIQuQQAAAACAhC5BAAAAAICELkEAAAAAgIQuQQAAAACAhC5BAAAAAICELkEAAAAAgIQuQQAAAACAhC5BAAAAAICELkEAAAAAgIQuQQAAAACAhC5BAAAAAICELkEAAAAAgIQuQQAAAACAhC5BAAAAAICELkEAAAAAgIQuQQAAAACAhC5BAAAAAICELkEAAAAAgIQuQQAAAACAhC5BAAAAAICELkEAAAAAgIQuQQAAAACAhC5BAAAAAICELkEAAAAAgIQuQQAAAACAhC5BAAAAAICELkEAAAAAgIQuQQAAAACAhC5BAAAAAICELkEAAAAAgIQuQQAAAACAhC5BAAAAAICELkEAAAAAgIQuQQAAAACAhC5BAAAAAICELkEAAAAAgIQuQQAAAACAhC5BAAAAAICELkEAAAAAgIQuQQAAAACAhC5BAAAAAICELkEAAAAAgIQuQQAAAACAhC5BAAAAAICELkEAAAAAgIQuQQAAAACAhC5BAAAAAICELkEAAAAAgIQuQQAAAACAhC5BAAAAAICELkEAAAAAgIQuQQAAAACAhC5BAAAAAICELkEAAAAAgIQuQQAAAACAhC5BAAAAAICELkEAAAAAgIQuQQAAAACAhC5BAAAAAICELkEAAAAAgIQuQQAAAACAhC5BAAAAAICELkEAAAAAgIQuQQAAAACAhC5BAAAAAICELkEAAAAAgIQuQQAAAACAhC5BAAAAAICELkEAAAAAgIQuQQAAAACAhC5BAAAAAICELkEAAAAAgIQuQQAAAACAhC5BAAAAAICELkEAAAAAgIQuQQAAAACAhC5BAAAAAICELkEAAAAAgIQuQQAAAACAhC5BAAAAAICELkEAAAAAgIQuQQAAAACAhC5BAAAAAICELkEAAAAAgIQuQQAAAACAhC5BAAAAAICELkEAAAAAgIQuQQAAAACAhC5BAAAAAICELkEAAAAAgIQuQQAAAACAhC5BAAAAAICELkEAAAAAgIQuQQAAAACAhC5BAAAAAICELkEAAAAAgIQuQQAAAACAhC5BAAAAAICELkEAAAAAgIQuQQAAAACAhC5BAAAAAICELkEAAAAAgIQuQQAAAACAhC5BAAAAAICELkEAAAAAgIQuQQAAAACAhC5BAAAAAICELkEAAAAAgIQuQQAAAACAhC5BAAAAAICELkEAAAAAgIQuQQAAAACAhC5BAAAAAICELkEAAAAAgIQuQQAAAACAhC5BAAAAAICELkEAAAAAgIQuQQAAAACAhC5BAAAAAICELkEAAAAAgIQuQQAAAACAhC5BAAAAAICELkEAAAAAgIQuQQAAAACAhC5BAAAAAICELkEAAAAAgIQuQQAAAACAhC5BAAAAAICELkEAAAAAgIQuQQAAAACAhC5BAAAAAICELkEAAAAAgIQuQQAAAACAhC5BAAAAAICELkEAAAAAgIQuQQAAAACAhC5BAAAAAICELkEAAAAAgIQuQQAAAACAhC5BAAAAAICELkEAAAAAgIQuQQAAAACAhC5BAAAAAICELkEAAAAAgIQuQQAAAACAhC5BAAAAAICELkEAAAAAgIQuQQAAAACAhC5BAAAAAICELkEAAAAAgIQuQQAAAACAhC5BAAAAAICELkEAAAAAgIQuQQAAAACAhC5BAAAAAICELkEAAAAAgIQuQQAAAACAhC5BAAAAAICELkEAAAAAgIQuQQAAAACAhC5BAAAAAICELkEAAAAAgIQuQQAAAACAhC5BAAAAAICELkEAAAAAgIQuQQAAAACAhC5BAAAAAICELkEAAAAAgIQuQQAAAACAhC5BAAAAAICELkEAAAAAgIQuQQAAAACAhC5BAAAAAICELkEAAAAAgIQuQQAAAACAhC5BAAAAAICELkEAAAAAgIQuQQAAAACAhC5BAAAAAICELkEAAAAAgIQuQQAAAACAhC5BAAAAAICELkEAAAAAgIQuQQAAAACAhC5BAAAAAICELkEAAAAAgIQuQQAAAACAhC5BAAAAAICELkEAAAAAgIQuQQAAAACAhC5BAAAAAICELkEAAAAAgIQuQQAAAACAhC5BAAAAAICELkEAAAAAgIQuQQAAAACAhC5BAAAAAICELkEAAAAAgIQuQQAAAACAhC5BAAAAAICELkEAAAAAgIQuQQAAAACAhC5BAAAAAICELkEAAAAAgIQuQQAAAACAhC5BAAAAAICELkEAAAAAgIQuQQAAAACAhC5BAAAAAICELkEAAAAAgIQuQQAAAACAhC5BAAAAAICELkEAAAAAgIQuQQAAAACAhC5BAAAAAICELkEAAAAAgIQuQQAAAACAhC5BAAAAAICELkEAAAAAgIQuQQAAAACAhC5BAAAAAICELkEAAAAAgIQuQQAAAACAhC5BAAAAAICELkEAAAAAgIQuQQAAAACAhC5BAAAAAICELkEAAAAAgIQuQQAAAACAhC5BAAAAAICELkEAAAAAgIQuQQAAAACAhC5BAAAAAICELkEAAAAAgIQuQQAAAACAhC5B",
          "dtype": "f8"
         },
         "yaxis": "y"
        },
        {
         "line": {
          "color": "firebrick",
          "dash": "solid",
          "width": 2
         },
         "mode": "lines",
         "name": "Predicted day layer 1",
         "type": "scatter",
         "x": [
          "2023-01-01T00:00:00.000000000",
          "2023-01-02T00:00:00.000000000",
          "2023-01-03T00:00:00.000000000",
          "2023-01-04T00:00:00.000000000",
          "2023-01-05T00:00:00.000000000",
          "2023-01-06T00:00:00.000000000",
          "2023-01-07T00:00:00.000000000",
          "2023-01-08T00:00:00.000000000",
          "2023-01-09T00:00:00.000000000",
          "2023-01-10T00:00:00.000000000",
          "2023-01-11T00:00:00.000000000",
          "2023-01-12T00:00:00.000000000",
          "2023-01-13T00:00:00.000000000",
          "2023-01-14T00:00:00.000000000",
          "2023-01-15T00:00:00.000000000",
          "2023-01-16T00:00:00.000000000",
          "2023-01-17T00:00:00.000000000",
          "2023-01-18T00:00:00.000000000",
          "2023-01-19T00:00:00.000000000",
          "2023-01-20T00:00:00.000000000",
          "2023-01-21T00:00:00.000000000",
          "2023-01-22T00:00:00.000000000",
          "2023-01-23T00:00:00.000000000",
          "2023-01-24T00:00:00.000000000",
          "2023-01-25T00:00:00.000000000",
          "2023-01-26T00:00:00.000000000",
          "2023-01-27T00:00:00.000000000",
          "2023-01-28T00:00:00.000000000",
          "2023-01-29T00:00:00.000000000",
          "2023-01-30T00:00:00.000000000",
          "2023-01-31T00:00:00.000000000",
          "2023-02-01T00:00:00.000000000",
          "2023-02-02T00:00:00.000000000",
          "2023-02-03T00:00:00.000000000",
          "2023-02-04T00:00:00.000000000",
          "2023-02-05T00:00:00.000000000",
          "2023-02-06T00:00:00.000000000",
          "2023-02-07T00:00:00.000000000",
          "2023-02-08T00:00:00.000000000",
          "2023-02-09T00:00:00.000000000",
          "2023-02-10T00:00:00.000000000",
          "2023-02-11T00:00:00.000000000",
          "2023-02-12T00:00:00.000000000",
          "2023-02-13T00:00:00.000000000",
          "2023-02-14T00:00:00.000000000",
          "2023-02-15T00:00:00.000000000",
          "2023-02-16T00:00:00.000000000",
          "2023-02-17T00:00:00.000000000",
          "2023-02-18T00:00:00.000000000",
          "2023-02-19T00:00:00.000000000",
          "2023-02-20T00:00:00.000000000",
          "2023-02-21T00:00:00.000000000",
          "2023-02-22T00:00:00.000000000",
          "2023-02-23T00:00:00.000000000",
          "2023-02-24T00:00:00.000000000",
          "2023-02-25T00:00:00.000000000",
          "2023-02-26T00:00:00.000000000",
          "2023-02-27T00:00:00.000000000",
          "2023-02-28T00:00:00.000000000",
          "2023-03-01T00:00:00.000000000",
          "2023-03-02T00:00:00.000000000",
          "2023-03-03T00:00:00.000000000",
          "2023-03-04T00:00:00.000000000",
          "2023-03-05T00:00:00.000000000",
          "2023-03-06T00:00:00.000000000",
          "2023-03-07T00:00:00.000000000",
          "2023-03-08T00:00:00.000000000",
          "2023-03-09T00:00:00.000000000",
          "2023-03-10T00:00:00.000000000",
          "2023-03-11T00:00:00.000000000",
          "2023-03-12T00:00:00.000000000",
          "2023-03-13T00:00:00.000000000",
          "2023-03-14T00:00:00.000000000",
          "2023-03-15T00:00:00.000000000",
          "2023-03-16T00:00:00.000000000",
          "2023-03-17T00:00:00.000000000",
          "2023-03-18T00:00:00.000000000",
          "2023-03-19T00:00:00.000000000",
          "2023-03-20T00:00:00.000000000",
          "2023-03-21T00:00:00.000000000",
          "2023-03-22T00:00:00.000000000",
          "2023-03-23T00:00:00.000000000",
          "2023-03-24T00:00:00.000000000",
          "2023-03-25T00:00:00.000000000",
          "2023-03-26T00:00:00.000000000",
          "2023-03-27T00:00:00.000000000",
          "2023-03-28T00:00:00.000000000",
          "2023-03-29T00:00:00.000000000",
          "2023-03-30T00:00:00.000000000",
          "2023-03-31T00:00:00.000000000",
          "2023-04-01T00:00:00.000000000",
          "2023-04-02T00:00:00.000000000",
          "2023-04-03T00:00:00.000000000",
          "2023-04-04T00:00:00.000000000",
          "2023-04-05T00:00:00.000000000",
          "2023-04-06T00:00:00.000000000",
          "2023-04-07T00:00:00.000000000",
          "2023-04-08T00:00:00.000000000",
          "2023-04-09T00:00:00.000000000",
          "2023-04-10T00:00:00.000000000",
          "2023-04-11T00:00:00.000000000",
          "2023-04-12T00:00:00.000000000",
          "2023-04-13T00:00:00.000000000",
          "2023-04-14T00:00:00.000000000",
          "2023-04-15T00:00:00.000000000",
          "2023-04-16T00:00:00.000000000",
          "2023-04-17T00:00:00.000000000",
          "2023-04-18T00:00:00.000000000",
          "2023-04-19T00:00:00.000000000",
          "2023-04-20T00:00:00.000000000",
          "2023-04-21T00:00:00.000000000",
          "2023-04-22T00:00:00.000000000",
          "2023-04-23T00:00:00.000000000",
          "2023-04-24T00:00:00.000000000",
          "2023-04-25T00:00:00.000000000",
          "2023-04-26T00:00:00.000000000",
          "2023-04-27T00:00:00.000000000",
          "2023-04-28T00:00:00.000000000",
          "2023-04-29T00:00:00.000000000",
          "2023-04-30T00:00:00.000000000",
          "2023-05-01T00:00:00.000000000",
          "2023-05-02T00:00:00.000000000",
          "2023-05-03T00:00:00.000000000",
          "2023-05-04T00:00:00.000000000",
          "2023-05-05T00:00:00.000000000",
          "2023-05-06T00:00:00.000000000",
          "2023-05-07T00:00:00.000000000",
          "2023-05-08T00:00:00.000000000",
          "2023-05-09T00:00:00.000000000",
          "2023-05-10T00:00:00.000000000",
          "2023-05-11T00:00:00.000000000",
          "2023-05-12T00:00:00.000000000",
          "2023-05-13T00:00:00.000000000",
          "2023-05-14T00:00:00.000000000",
          "2023-05-15T00:00:00.000000000",
          "2023-05-16T00:00:00.000000000",
          "2023-05-17T00:00:00.000000000",
          "2023-05-18T00:00:00.000000000",
          "2023-05-19T00:00:00.000000000",
          "2023-05-20T00:00:00.000000000",
          "2023-05-21T00:00:00.000000000",
          "2023-05-22T00:00:00.000000000",
          "2023-05-23T00:00:00.000000000",
          "2023-05-24T00:00:00.000000000",
          "2023-05-25T00:00:00.000000000",
          "2023-05-26T00:00:00.000000000",
          "2023-05-27T00:00:00.000000000",
          "2023-05-28T00:00:00.000000000",
          "2023-05-29T00:00:00.000000000",
          "2023-05-30T00:00:00.000000000",
          "2023-05-31T00:00:00.000000000",
          "2023-06-01T00:00:00.000000000",
          "2023-06-02T00:00:00.000000000",
          "2023-06-03T00:00:00.000000000",
          "2023-06-04T00:00:00.000000000",
          "2023-06-05T00:00:00.000000000",
          "2023-06-06T00:00:00.000000000",
          "2023-06-07T00:00:00.000000000",
          "2023-06-08T00:00:00.000000000",
          "2023-06-09T00:00:00.000000000",
          "2023-06-10T00:00:00.000000000",
          "2023-06-11T00:00:00.000000000",
          "2023-06-12T00:00:00.000000000",
          "2023-06-13T00:00:00.000000000",
          "2023-06-14T00:00:00.000000000",
          "2023-06-15T00:00:00.000000000",
          "2023-06-16T00:00:00.000000000",
          "2023-06-17T00:00:00.000000000",
          "2023-06-18T00:00:00.000000000",
          "2023-06-19T00:00:00.000000000",
          "2023-06-20T00:00:00.000000000",
          "2023-06-21T00:00:00.000000000",
          "2023-06-22T00:00:00.000000000",
          "2023-06-23T00:00:00.000000000",
          "2023-06-24T00:00:00.000000000",
          "2023-06-25T00:00:00.000000000",
          "2023-06-26T00:00:00.000000000",
          "2023-06-27T00:00:00.000000000",
          "2023-06-28T00:00:00.000000000",
          "2023-06-29T00:00:00.000000000",
          "2023-06-30T00:00:00.000000000",
          "2023-07-01T00:00:00.000000000",
          "2023-07-02T00:00:00.000000000",
          "2023-07-03T00:00:00.000000000",
          "2023-07-04T00:00:00.000000000",
          "2023-07-05T00:00:00.000000000",
          "2023-07-06T00:00:00.000000000",
          "2023-07-07T00:00:00.000000000",
          "2023-07-08T00:00:00.000000000",
          "2023-07-09T00:00:00.000000000",
          "2023-07-10T00:00:00.000000000",
          "2023-07-11T00:00:00.000000000",
          "2023-07-12T00:00:00.000000000",
          "2023-07-13T00:00:00.000000000",
          "2023-07-14T00:00:00.000000000",
          "2023-07-15T00:00:00.000000000",
          "2023-07-16T00:00:00.000000000",
          "2023-07-17T00:00:00.000000000",
          "2023-07-18T00:00:00.000000000",
          "2023-07-19T00:00:00.000000000",
          "2023-07-20T00:00:00.000000000",
          "2023-07-21T00:00:00.000000000",
          "2023-07-22T00:00:00.000000000",
          "2023-07-23T00:00:00.000000000",
          "2023-07-24T00:00:00.000000000",
          "2023-07-25T00:00:00.000000000",
          "2023-07-26T00:00:00.000000000",
          "2023-07-27T00:00:00.000000000",
          "2023-07-28T00:00:00.000000000",
          "2023-07-29T00:00:00.000000000",
          "2023-07-30T00:00:00.000000000",
          "2023-07-31T00:00:00.000000000",
          "2023-08-01T00:00:00.000000000",
          "2023-08-02T00:00:00.000000000",
          "2023-08-03T00:00:00.000000000",
          "2023-08-04T00:00:00.000000000",
          "2023-08-05T00:00:00.000000000",
          "2023-08-06T00:00:00.000000000",
          "2023-08-07T00:00:00.000000000",
          "2023-08-08T00:00:00.000000000",
          "2023-08-09T00:00:00.000000000",
          "2023-08-10T00:00:00.000000000",
          "2023-08-11T00:00:00.000000000",
          "2023-08-12T00:00:00.000000000",
          "2023-08-13T00:00:00.000000000",
          "2023-08-14T00:00:00.000000000",
          "2023-08-15T00:00:00.000000000",
          "2023-08-16T00:00:00.000000000",
          "2023-08-17T00:00:00.000000000",
          "2023-08-18T00:00:00.000000000",
          "2023-08-19T00:00:00.000000000",
          "2023-08-20T00:00:00.000000000",
          "2023-08-21T00:00:00.000000000",
          "2023-08-22T00:00:00.000000000",
          "2023-08-23T00:00:00.000000000",
          "2023-08-24T00:00:00.000000000",
          "2023-08-25T00:00:00.000000000",
          "2023-08-26T00:00:00.000000000",
          "2023-08-27T00:00:00.000000000",
          "2023-08-28T00:00:00.000000000",
          "2023-08-29T00:00:00.000000000",
          "2023-08-30T00:00:00.000000000",
          "2023-08-31T00:00:00.000000000",
          "2023-09-01T00:00:00.000000000",
          "2023-09-02T00:00:00.000000000",
          "2023-09-03T00:00:00.000000000",
          "2023-09-04T00:00:00.000000000",
          "2023-09-05T00:00:00.000000000",
          "2023-09-06T00:00:00.000000000",
          "2023-09-07T00:00:00.000000000",
          "2023-09-08T00:00:00.000000000",
          "2023-09-09T00:00:00.000000000",
          "2023-09-10T00:00:00.000000000",
          "2023-09-11T00:00:00.000000000",
          "2023-09-12T00:00:00.000000000",
          "2023-09-13T00:00:00.000000000",
          "2023-09-14T00:00:00.000000000",
          "2023-09-15T00:00:00.000000000",
          "2023-09-16T00:00:00.000000000",
          "2023-09-17T00:00:00.000000000",
          "2023-09-18T00:00:00.000000000",
          "2023-09-19T00:00:00.000000000",
          "2023-09-20T00:00:00.000000000",
          "2023-09-21T00:00:00.000000000",
          "2023-09-22T00:00:00.000000000",
          "2023-09-23T00:00:00.000000000",
          "2023-09-24T00:00:00.000000000",
          "2023-09-25T00:00:00.000000000",
          "2023-09-26T00:00:00.000000000",
          "2023-09-27T00:00:00.000000000",
          "2023-09-28T00:00:00.000000000",
          "2023-09-29T00:00:00.000000000",
          "2023-09-30T00:00:00.000000000",
          "2023-10-01T00:00:00.000000000",
          "2023-10-02T00:00:00.000000000",
          "2023-10-03T00:00:00.000000000",
          "2023-10-04T00:00:00.000000000",
          "2023-10-05T00:00:00.000000000",
          "2023-10-06T00:00:00.000000000",
          "2023-10-07T00:00:00.000000000",
          "2023-10-08T00:00:00.000000000",
          "2023-10-09T00:00:00.000000000",
          "2023-10-10T00:00:00.000000000",
          "2023-10-11T00:00:00.000000000",
          "2023-10-12T00:00:00.000000000",
          "2023-10-13T00:00:00.000000000",
          "2023-10-14T00:00:00.000000000",
          "2023-10-15T00:00:00.000000000",
          "2023-10-16T00:00:00.000000000",
          "2023-10-17T00:00:00.000000000",
          "2023-10-18T00:00:00.000000000",
          "2023-10-19T00:00:00.000000000",
          "2023-10-20T00:00:00.000000000",
          "2023-10-21T00:00:00.000000000",
          "2023-10-22T00:00:00.000000000",
          "2023-10-23T00:00:00.000000000",
          "2023-10-24T00:00:00.000000000",
          "2023-10-25T00:00:00.000000000",
          "2023-10-26T00:00:00.000000000",
          "2023-10-27T00:00:00.000000000",
          "2023-10-28T00:00:00.000000000",
          "2023-10-29T00:00:00.000000000",
          "2023-10-30T00:00:00.000000000",
          "2023-10-31T00:00:00.000000000",
          "2023-11-01T00:00:00.000000000",
          "2023-11-02T00:00:00.000000000",
          "2023-11-03T00:00:00.000000000",
          "2023-11-04T00:00:00.000000000",
          "2023-11-05T00:00:00.000000000",
          "2023-11-06T00:00:00.000000000",
          "2023-11-07T00:00:00.000000000",
          "2023-11-08T00:00:00.000000000",
          "2023-11-09T00:00:00.000000000",
          "2023-11-10T00:00:00.000000000",
          "2023-11-11T00:00:00.000000000",
          "2023-11-12T00:00:00.000000000",
          "2023-11-13T00:00:00.000000000",
          "2023-11-14T00:00:00.000000000",
          "2023-11-15T00:00:00.000000000",
          "2023-11-16T00:00:00.000000000",
          "2023-11-17T00:00:00.000000000",
          "2023-11-18T00:00:00.000000000",
          "2023-11-19T00:00:00.000000000",
          "2023-11-20T00:00:00.000000000",
          "2023-11-21T00:00:00.000000000",
          "2023-11-22T00:00:00.000000000",
          "2023-11-23T00:00:00.000000000",
          "2023-11-24T00:00:00.000000000",
          "2023-11-25T00:00:00.000000000",
          "2023-11-26T00:00:00.000000000",
          "2023-11-27T00:00:00.000000000",
          "2023-11-28T00:00:00.000000000",
          "2023-11-29T00:00:00.000000000",
          "2023-11-30T00:00:00.000000000",
          "2023-12-01T00:00:00.000000000",
          "2023-12-02T00:00:00.000000000",
          "2023-12-03T00:00:00.000000000",
          "2023-12-04T00:00:00.000000000",
          "2023-12-05T00:00:00.000000000",
          "2023-12-06T00:00:00.000000000",
          "2023-12-07T00:00:00.000000000",
          "2023-12-08T00:00:00.000000000",
          "2023-12-09T00:00:00.000000000",
          "2023-12-10T00:00:00.000000000",
          "2023-12-11T00:00:00.000000000",
          "2023-12-12T00:00:00.000000000",
          "2023-12-13T00:00:00.000000000",
          "2023-12-14T00:00:00.000000000",
          "2023-12-15T00:00:00.000000000",
          "2023-12-16T00:00:00.000000000",
          "2023-12-17T00:00:00.000000000",
          "2023-12-18T00:00:00.000000000",
          "2023-12-19T00:00:00.000000000",
          "2023-12-20T00:00:00.000000000",
          "2023-12-21T00:00:00.000000000",
          "2023-12-22T00:00:00.000000000",
          "2023-12-23T00:00:00.000000000",
          "2023-12-24T00:00:00.000000000",
          "2023-12-25T00:00:00.000000000",
          "2023-12-26T00:00:00.000000000"
         ],
         "xaxis": "x3",
         "y": {
          "bdata": "AAAAAAAAAAAAAAAAAAAAAAAAAAAAAAAAAAAAAAAAAAAAAAAAAAAAAAAAAAAAAAAAAAAAAAAAAAAAAAAAAAAAAAAAAAAAAAAA8WqOIXdvDEHsU1ueJlIVQXWAgO2i3hhBdzoejISkGkH4h18gR4cbQYLgrlGR+BtBqidI4CoxHEFWfLrjcU0cQWXSHISSWxxBkK3tY6FiHEG2eMsbKGYcQfzLxxvrZxxBBgrWbcxoHEER4en/PGkcQQh/fD11aRxBOFKLVpFpHEFIEzZgn2kcQS5qnWOmaRxBFjaa5KlpHEHnPr2kq2kcQQseoYSsaRxBoj989KxpHEHCa14srWkcQaXQSUitaRxBFas8Vq1pHEGXrDRdrWkcQaH3r2CtaRxBXUJtYq1pHEFguktjrWkcQbrfumOtaRxBE2fyY61pHEEYJQ5krWkcQUcBHGStaRxB9e0iZK1pHEGYYyZkrWkcQRAeKGStaRxBH/soZK1pHEGPaSlkrWkcQbygKWStaRxBTLwpZK1pHEETyilkrWkcQfTQKWStaRxBZdQpZK1pHEEb1ilkrWkcQffWKWStaRxBZdcpZK1pHEGd1ylkrWkcQbfXKWStaRxBxdcpZK1pHEHM1ylkrWkcQdDXKWStaRxB0tcpZK1pHEHS1ylkrWkcQdLXKWStaRxB0tcpZK1pHEHS1ylkrWkcQdLXKWStaRxB0tcpZK1pHEHS1ylkrWkcQdLXKWStaRxB0tcpZK1pHEHS1ylkrWkcQdLXKWStaRxB0tcpZK1pHEHS1ylkrWkcQdLXKWStaRxB0tcpZK1pHEHS1ylkrWkcQdLXKWStaRxB0tcpZK1pHEHS1ylkrWkcQdLXKWStaRxB0tcpZK1pHEHS1ylkrWkcQdLXKWStaRxB0tcpZK1pHEHS1ylkrWkcQdLXKWStaRxB0tcpZK1pHEHS1ylkrWkcQdLXKWStaRxB0tcpZK1pHEHS1ylkrWkcQdLXKWStaRxB0tcpZK1pHEHS1ylkrWkcQdLXKWStaRxB0tcpZK1pHEHS1ylkrWkcQdLXKWStaRxB0tcpZK1pHEHS1ylkrWkcQdLXKWStaRxB0tcpZK1pHEHS1ylkrWkcQdLXKWStaRxB0tcpZK1pHEHS1ylkrWkcQdLXKWStaRxB0tcpZK1pHEHS1ylkrWkcQdLXKWStaRxB0tcpZK1pHEHS1ylkrWkcQdLXKWStaRxB0tcpZK1pHEHS1ylkrWkcQdLXKWStaRxB0tcpZK1pHEHS1ylkrWkcQdLXKWStaRxB0tcpZK1pHEHS1ylkrWkcQdLXKWStaRxB0tcpZK1pHEHS1ylkrWkcQdLXKWStaRxB0tcpZK1pHEHS1ylkrWkcQdLXKWStaRxB0tcpZK1pHEHS1ylkrWkcQdLXKWStaRxB0tcpZK1pHEHS1ylkrWkcQdLXKWStaRxB0tcpZK1pHEHS1ylkrWkcQdLXKWStaRxB0tcpZK1pHEHS1ylkrWkcQdLXKWStaRxB0tcpZK1pHEHS1ylkrWkcQdLXKWStaRxB0tcpZK1pHEHS1ylkrWkcQdLXKWStaRxB0tcpZK1pHEHS1ylkrWkcQdLXKWStaRxB0tcpZK1pHEHS1ylkrWkcQdLXKWStaRxB0tcpZK1pHEHS1ylkrWkcQdLXKWStaRxB0tcpZK1pHEHS1ylkrWkcQdLXKWStaRxB0tcpZK1pHEHS1ylkrWkcQdLXKWStaRxB0tcpZK1pHEHS1ylkrWkcQdLXKWStaRxB0tcpZK1pHEHS1ylkrWkcQdLXKWStaRxB0tcpZK1pHEHS1ylkrWkcQdLXKWStaRxB0tcpZK1pHEHS1ylkrWkcQdLXKWStaRxB0tcpZK1pHEHS1ylkrWkcQdLXKWStaRxB0tcpZK1pHEHS1ylkrWkcQdLXKWStaRxB0tcpZK1pHEHS1ylkrWkcQdLXKWStaRxB0tcpZK1pHEHS1ylkrWkcQdLXKWStaRxB0tcpZK1pHEHS1ylkrWkcQdLXKWStaRxB0tcpZK1pHEHS1ylkrWkcQdLXKWStaRxB0tcpZK1pHEHS1ylkrWkcQdLXKWStaRxB0tcpZK1pHEHS1ylkrWkcQdLXKWStaRxB0tcpZK1pHEHS1ylkrWkcQdLXKWStaRxB0tcpZK1pHEHS1ylkrWkcQdLXKWStaRxB0tcpZK1pHEHS1ylkrWkcQdLXKWStaRxB0tcpZK1pHEHS1ylkrWkcQdLXKWStaRxB0tcpZK1pHEHS1ylkrWkcQdLXKWStaRxB0tcpZK1pHEHS1ylkrWkcQdLXKWStaRxB0tcpZK1pHEHS1ylkrWkcQdLXKWStaRxB0tcpZK1pHEHS1ylkrWkcQdLXKWStaRxB0tcpZK1pHEHS1ylkrWkcQdLXKWStaRxB0tcpZK1pHEHS1ylkrWkcQdLXKWStaRxB0tcpZK1pHEHS1ylkrWkcQdLXKWStaRxB0tcpZK1pHEHS1ylkrWkcQdLXKWStaRxB0tcpZK1pHEHS1ylkrWkcQdLXKWStaRxB0tcpZK1pHEHS1ylkrWkcQdLXKWStaRxB0tcpZK1pHEHS1ylkrWkcQdLXKWStaRxB0tcpZK1pHEHS1ylkrWkcQdLXKWStaRxB0tcpZK1pHEHS1ylkrWkcQdLXKWStaRxB0tcpZK1pHEHS1ylkrWkcQdLXKWStaRxB0tcpZK1pHEHS1ylkrWkcQdLXKWStaRxB0tcpZK1pHEHS1ylkrWkcQdLXKWStaRxB0tcpZK1pHEHS1ylkrWkcQdLXKWStaRxB0tcpZK1pHEHS1ylkrWkcQdLXKWStaRxB0tcpZK1pHEHS1ylkrWkcQdLXKWStaRxB0tcpZK1pHEHS1ylkrWkcQdLXKWStaRxB0tcpZK1pHEHS1ylkrWkcQdLXKWStaRxB0tcpZK1pHEHS1ylkrWkcQdLXKWStaRxB0tcpZK1pHEHS1ylkrWkcQdLXKWStaRxB0tcpZK1pHEHS1ylkrWkcQdLXKWStaRxB0tcpZK1pHEHS1ylkrWkcQdLXKWStaRxB0tcpZK1pHEHS1ylkrWkcQdLXKWStaRxB0tcpZK1pHEHS1ylkrWkcQdLXKWStaRxB0tcpZK1pHEHS1ylkrWkcQdLXKWStaRxB0tcpZK1pHEHS1ylkrWkcQdLXKWStaRxB0tcpZK1pHEHS1ylkrWkcQdLXKWStaRxB0tcpZK1pHEHS1ylkrWkcQdLXKWStaRxB0tcpZK1pHEHS1ylkrWkcQdLXKWStaRxB0tcpZK1pHEHS1ylkrWkcQdLXKWStaRxB0tcpZK1pHEHS1ylkrWkcQdLXKWStaRxB0tcpZK1pHEHS1ylkrWkcQdLXKWStaRxB0tcpZK1pHEHS1ylkrWkcQdLXKWStaRxB0tcpZK1pHEHS1ylkrWkcQdLXKWStaRxB0tcpZK1pHEHS1ylkrWkcQdLXKWStaRxB0tcpZK1pHEHS1ylkrWkcQdLXKWStaRxB0tcpZK1pHEHS1ylkrWkcQdLXKWStaRxB0tcpZK1pHEHS1ylkrWkcQdLXKWStaRxB0tcpZK1pHEHS1ylkrWkcQdLXKWStaRxB0tcpZK1pHEHS1ylkrWkcQdLXKWStaRxB0tcpZK1pHEHS1ylkrWkcQdLXKWStaRxB0tcpZK1pHEHS1ylkrWkcQdLXKWStaRxB0tcpZK1pHEHS1ylkrWkcQdLXKWStaRxB0tcpZK1pHEHS1ylkrWkcQdLXKWStaRxB0tcpZK1pHEHS1ylkrWkcQdLXKWStaRxB0tcpZK1pHEHS1ylkrWkcQdLXKWStaRxB0tcpZK1pHEHS1ylkrWkcQdLXKWStaRxB",
          "dtype": "f8"
         },
         "yaxis": "y3"
        },
        {
         "fill": "toself",
         "fillcolor": "rgba(174,30,36,0.3)",
         "line": {
          "color": "rgba(0,0,0,0)"
         },
         "name": "day layer 1 : 10 best individuals",
         "type": "scatter",
         "x": [
          "2023-01-01T00:00:00.000000000",
          "2023-01-02T00:00:00.000000000",
          "2023-01-03T00:00:00.000000000",
          "2023-01-04T00:00:00.000000000",
          "2023-01-05T00:00:00.000000000",
          "2023-01-06T00:00:00.000000000",
          "2023-01-07T00:00:00.000000000",
          "2023-01-08T00:00:00.000000000",
          "2023-01-09T00:00:00.000000000",
          "2023-01-10T00:00:00.000000000",
          "2023-01-11T00:00:00.000000000",
          "2023-01-12T00:00:00.000000000",
          "2023-01-13T00:00:00.000000000",
          "2023-01-14T00:00:00.000000000",
          "2023-01-15T00:00:00.000000000",
          "2023-01-16T00:00:00.000000000",
          "2023-01-17T00:00:00.000000000",
          "2023-01-18T00:00:00.000000000",
          "2023-01-19T00:00:00.000000000",
          "2023-01-20T00:00:00.000000000",
          "2023-01-21T00:00:00.000000000",
          "2023-01-22T00:00:00.000000000",
          "2023-01-23T00:00:00.000000000",
          "2023-01-24T00:00:00.000000000",
          "2023-01-25T00:00:00.000000000",
          "2023-01-26T00:00:00.000000000",
          "2023-01-27T00:00:00.000000000",
          "2023-01-28T00:00:00.000000000",
          "2023-01-29T00:00:00.000000000",
          "2023-01-30T00:00:00.000000000",
          "2023-01-31T00:00:00.000000000",
          "2023-02-01T00:00:00.000000000",
          "2023-02-02T00:00:00.000000000",
          "2023-02-03T00:00:00.000000000",
          "2023-02-04T00:00:00.000000000",
          "2023-02-05T00:00:00.000000000",
          "2023-02-06T00:00:00.000000000",
          "2023-02-07T00:00:00.000000000",
          "2023-02-08T00:00:00.000000000",
          "2023-02-09T00:00:00.000000000",
          "2023-02-10T00:00:00.000000000",
          "2023-02-11T00:00:00.000000000",
          "2023-02-12T00:00:00.000000000",
          "2023-02-13T00:00:00.000000000",
          "2023-02-14T00:00:00.000000000",
          "2023-02-15T00:00:00.000000000",
          "2023-02-16T00:00:00.000000000",
          "2023-02-17T00:00:00.000000000",
          "2023-02-18T00:00:00.000000000",
          "2023-02-19T00:00:00.000000000",
          "2023-02-20T00:00:00.000000000",
          "2023-02-21T00:00:00.000000000",
          "2023-02-22T00:00:00.000000000",
          "2023-02-23T00:00:00.000000000",
          "2023-02-24T00:00:00.000000000",
          "2023-02-25T00:00:00.000000000",
          "2023-02-26T00:00:00.000000000",
          "2023-02-27T00:00:00.000000000",
          "2023-02-28T00:00:00.000000000",
          "2023-03-01T00:00:00.000000000",
          "2023-03-02T00:00:00.000000000",
          "2023-03-03T00:00:00.000000000",
          "2023-03-04T00:00:00.000000000",
          "2023-03-05T00:00:00.000000000",
          "2023-03-06T00:00:00.000000000",
          "2023-03-07T00:00:00.000000000",
          "2023-03-08T00:00:00.000000000",
          "2023-03-09T00:00:00.000000000",
          "2023-03-10T00:00:00.000000000",
          "2023-03-11T00:00:00.000000000",
          "2023-03-12T00:00:00.000000000",
          "2023-03-13T00:00:00.000000000",
          "2023-03-14T00:00:00.000000000",
          "2023-03-15T00:00:00.000000000",
          "2023-03-16T00:00:00.000000000",
          "2023-03-17T00:00:00.000000000",
          "2023-03-18T00:00:00.000000000",
          "2023-03-19T00:00:00.000000000",
          "2023-03-20T00:00:00.000000000",
          "2023-03-21T00:00:00.000000000",
          "2023-03-22T00:00:00.000000000",
          "2023-03-23T00:00:00.000000000",
          "2023-03-24T00:00:00.000000000",
          "2023-03-25T00:00:00.000000000",
          "2023-03-26T00:00:00.000000000",
          "2023-03-27T00:00:00.000000000",
          "2023-03-28T00:00:00.000000000",
          "2023-03-29T00:00:00.000000000",
          "2023-03-30T00:00:00.000000000",
          "2023-03-31T00:00:00.000000000",
          "2023-04-01T00:00:00.000000000",
          "2023-04-02T00:00:00.000000000",
          "2023-04-03T00:00:00.000000000",
          "2023-04-04T00:00:00.000000000",
          "2023-04-05T00:00:00.000000000",
          "2023-04-06T00:00:00.000000000",
          "2023-04-07T00:00:00.000000000",
          "2023-04-08T00:00:00.000000000",
          "2023-04-09T00:00:00.000000000",
          "2023-04-10T00:00:00.000000000",
          "2023-04-11T00:00:00.000000000",
          "2023-04-12T00:00:00.000000000",
          "2023-04-13T00:00:00.000000000",
          "2023-04-14T00:00:00.000000000",
          "2023-04-15T00:00:00.000000000",
          "2023-04-16T00:00:00.000000000",
          "2023-04-17T00:00:00.000000000",
          "2023-04-18T00:00:00.000000000",
          "2023-04-19T00:00:00.000000000",
          "2023-04-20T00:00:00.000000000",
          "2023-04-21T00:00:00.000000000",
          "2023-04-22T00:00:00.000000000",
          "2023-04-23T00:00:00.000000000",
          "2023-04-24T00:00:00.000000000",
          "2023-04-25T00:00:00.000000000",
          "2023-04-26T00:00:00.000000000",
          "2023-04-27T00:00:00.000000000",
          "2023-04-28T00:00:00.000000000",
          "2023-04-29T00:00:00.000000000",
          "2023-04-30T00:00:00.000000000",
          "2023-05-01T00:00:00.000000000",
          "2023-05-02T00:00:00.000000000",
          "2023-05-03T00:00:00.000000000",
          "2023-05-04T00:00:00.000000000",
          "2023-05-05T00:00:00.000000000",
          "2023-05-06T00:00:00.000000000",
          "2023-05-07T00:00:00.000000000",
          "2023-05-08T00:00:00.000000000",
          "2023-05-09T00:00:00.000000000",
          "2023-05-10T00:00:00.000000000",
          "2023-05-11T00:00:00.000000000",
          "2023-05-12T00:00:00.000000000",
          "2023-05-13T00:00:00.000000000",
          "2023-05-14T00:00:00.000000000",
          "2023-05-15T00:00:00.000000000",
          "2023-05-16T00:00:00.000000000",
          "2023-05-17T00:00:00.000000000",
          "2023-05-18T00:00:00.000000000",
          "2023-05-19T00:00:00.000000000",
          "2023-05-20T00:00:00.000000000",
          "2023-05-21T00:00:00.000000000",
          "2023-05-22T00:00:00.000000000",
          "2023-05-23T00:00:00.000000000",
          "2023-05-24T00:00:00.000000000",
          "2023-05-25T00:00:00.000000000",
          "2023-05-26T00:00:00.000000000",
          "2023-05-27T00:00:00.000000000",
          "2023-05-28T00:00:00.000000000",
          "2023-05-29T00:00:00.000000000",
          "2023-05-30T00:00:00.000000000",
          "2023-05-31T00:00:00.000000000",
          "2023-06-01T00:00:00.000000000",
          "2023-06-02T00:00:00.000000000",
          "2023-06-03T00:00:00.000000000",
          "2023-06-04T00:00:00.000000000",
          "2023-06-05T00:00:00.000000000",
          "2023-06-06T00:00:00.000000000",
          "2023-06-07T00:00:00.000000000",
          "2023-06-08T00:00:00.000000000",
          "2023-06-09T00:00:00.000000000",
          "2023-06-10T00:00:00.000000000",
          "2023-06-11T00:00:00.000000000",
          "2023-06-12T00:00:00.000000000",
          "2023-06-13T00:00:00.000000000",
          "2023-06-14T00:00:00.000000000",
          "2023-06-15T00:00:00.000000000",
          "2023-06-16T00:00:00.000000000",
          "2023-06-17T00:00:00.000000000",
          "2023-06-18T00:00:00.000000000",
          "2023-06-19T00:00:00.000000000",
          "2023-06-20T00:00:00.000000000",
          "2023-06-21T00:00:00.000000000",
          "2023-06-22T00:00:00.000000000",
          "2023-06-23T00:00:00.000000000",
          "2023-06-24T00:00:00.000000000",
          "2023-06-25T00:00:00.000000000",
          "2023-06-26T00:00:00.000000000",
          "2023-06-27T00:00:00.000000000",
          "2023-06-28T00:00:00.000000000",
          "2023-06-29T00:00:00.000000000",
          "2023-06-30T00:00:00.000000000",
          "2023-07-01T00:00:00.000000000",
          "2023-07-02T00:00:00.000000000",
          "2023-07-03T00:00:00.000000000",
          "2023-07-04T00:00:00.000000000",
          "2023-07-05T00:00:00.000000000",
          "2023-07-06T00:00:00.000000000",
          "2023-07-07T00:00:00.000000000",
          "2023-07-08T00:00:00.000000000",
          "2023-07-09T00:00:00.000000000",
          "2023-07-10T00:00:00.000000000",
          "2023-07-11T00:00:00.000000000",
          "2023-07-12T00:00:00.000000000",
          "2023-07-13T00:00:00.000000000",
          "2023-07-14T00:00:00.000000000",
          "2023-07-15T00:00:00.000000000",
          "2023-07-16T00:00:00.000000000",
          "2023-07-17T00:00:00.000000000",
          "2023-07-18T00:00:00.000000000",
          "2023-07-19T00:00:00.000000000",
          "2023-07-20T00:00:00.000000000",
          "2023-07-21T00:00:00.000000000",
          "2023-07-22T00:00:00.000000000",
          "2023-07-23T00:00:00.000000000",
          "2023-07-24T00:00:00.000000000",
          "2023-07-25T00:00:00.000000000",
          "2023-07-26T00:00:00.000000000",
          "2023-07-27T00:00:00.000000000",
          "2023-07-28T00:00:00.000000000",
          "2023-07-29T00:00:00.000000000",
          "2023-07-30T00:00:00.000000000",
          "2023-07-31T00:00:00.000000000",
          "2023-08-01T00:00:00.000000000",
          "2023-08-02T00:00:00.000000000",
          "2023-08-03T00:00:00.000000000",
          "2023-08-04T00:00:00.000000000",
          "2023-08-05T00:00:00.000000000",
          "2023-08-06T00:00:00.000000000",
          "2023-08-07T00:00:00.000000000",
          "2023-08-08T00:00:00.000000000",
          "2023-08-09T00:00:00.000000000",
          "2023-08-10T00:00:00.000000000",
          "2023-08-11T00:00:00.000000000",
          "2023-08-12T00:00:00.000000000",
          "2023-08-13T00:00:00.000000000",
          "2023-08-14T00:00:00.000000000",
          "2023-08-15T00:00:00.000000000",
          "2023-08-16T00:00:00.000000000",
          "2023-08-17T00:00:00.000000000",
          "2023-08-18T00:00:00.000000000",
          "2023-08-19T00:00:00.000000000",
          "2023-08-20T00:00:00.000000000",
          "2023-08-21T00:00:00.000000000",
          "2023-08-22T00:00:00.000000000",
          "2023-08-23T00:00:00.000000000",
          "2023-08-24T00:00:00.000000000",
          "2023-08-25T00:00:00.000000000",
          "2023-08-26T00:00:00.000000000",
          "2023-08-27T00:00:00.000000000",
          "2023-08-28T00:00:00.000000000",
          "2023-08-29T00:00:00.000000000",
          "2023-08-30T00:00:00.000000000",
          "2023-08-31T00:00:00.000000000",
          "2023-09-01T00:00:00.000000000",
          "2023-09-02T00:00:00.000000000",
          "2023-09-03T00:00:00.000000000",
          "2023-09-04T00:00:00.000000000",
          "2023-09-05T00:00:00.000000000",
          "2023-09-06T00:00:00.000000000",
          "2023-09-07T00:00:00.000000000",
          "2023-09-08T00:00:00.000000000",
          "2023-09-09T00:00:00.000000000",
          "2023-09-10T00:00:00.000000000",
          "2023-09-11T00:00:00.000000000",
          "2023-09-12T00:00:00.000000000",
          "2023-09-13T00:00:00.000000000",
          "2023-09-14T00:00:00.000000000",
          "2023-09-15T00:00:00.000000000",
          "2023-09-16T00:00:00.000000000",
          "2023-09-17T00:00:00.000000000",
          "2023-09-18T00:00:00.000000000",
          "2023-09-19T00:00:00.000000000",
          "2023-09-20T00:00:00.000000000",
          "2023-09-21T00:00:00.000000000",
          "2023-09-22T00:00:00.000000000",
          "2023-09-23T00:00:00.000000000",
          "2023-09-24T00:00:00.000000000",
          "2023-09-25T00:00:00.000000000",
          "2023-09-26T00:00:00.000000000",
          "2023-09-27T00:00:00.000000000",
          "2023-09-28T00:00:00.000000000",
          "2023-09-29T00:00:00.000000000",
          "2023-09-30T00:00:00.000000000",
          "2023-10-01T00:00:00.000000000",
          "2023-10-02T00:00:00.000000000",
          "2023-10-03T00:00:00.000000000",
          "2023-10-04T00:00:00.000000000",
          "2023-10-05T00:00:00.000000000",
          "2023-10-06T00:00:00.000000000",
          "2023-10-07T00:00:00.000000000",
          "2023-10-08T00:00:00.000000000",
          "2023-10-09T00:00:00.000000000",
          "2023-10-10T00:00:00.000000000",
          "2023-10-11T00:00:00.000000000",
          "2023-10-12T00:00:00.000000000",
          "2023-10-13T00:00:00.000000000",
          "2023-10-14T00:00:00.000000000",
          "2023-10-15T00:00:00.000000000",
          "2023-10-16T00:00:00.000000000",
          "2023-10-17T00:00:00.000000000",
          "2023-10-18T00:00:00.000000000",
          "2023-10-19T00:00:00.000000000",
          "2023-10-20T00:00:00.000000000",
          "2023-10-21T00:00:00.000000000",
          "2023-10-22T00:00:00.000000000",
          "2023-10-23T00:00:00.000000000",
          "2023-10-24T00:00:00.000000000",
          "2023-10-25T00:00:00.000000000",
          "2023-10-26T00:00:00.000000000",
          "2023-10-27T00:00:00.000000000",
          "2023-10-28T00:00:00.000000000",
          "2023-10-29T00:00:00.000000000",
          "2023-10-30T00:00:00.000000000",
          "2023-10-31T00:00:00.000000000",
          "2023-11-01T00:00:00.000000000",
          "2023-11-02T00:00:00.000000000",
          "2023-11-03T00:00:00.000000000",
          "2023-11-04T00:00:00.000000000",
          "2023-11-05T00:00:00.000000000",
          "2023-11-06T00:00:00.000000000",
          "2023-11-07T00:00:00.000000000",
          "2023-11-08T00:00:00.000000000",
          "2023-11-09T00:00:00.000000000",
          "2023-11-10T00:00:00.000000000",
          "2023-11-11T00:00:00.000000000",
          "2023-11-12T00:00:00.000000000",
          "2023-11-13T00:00:00.000000000",
          "2023-11-14T00:00:00.000000000",
          "2023-11-15T00:00:00.000000000",
          "2023-11-16T00:00:00.000000000",
          "2023-11-17T00:00:00.000000000",
          "2023-11-18T00:00:00.000000000",
          "2023-11-19T00:00:00.000000000",
          "2023-11-20T00:00:00.000000000",
          "2023-11-21T00:00:00.000000000",
          "2023-11-22T00:00:00.000000000",
          "2023-11-23T00:00:00.000000000",
          "2023-11-24T00:00:00.000000000",
          "2023-11-25T00:00:00.000000000",
          "2023-11-26T00:00:00.000000000",
          "2023-11-27T00:00:00.000000000",
          "2023-11-28T00:00:00.000000000",
          "2023-11-29T00:00:00.000000000",
          "2023-11-30T00:00:00.000000000",
          "2023-12-01T00:00:00.000000000",
          "2023-12-02T00:00:00.000000000",
          "2023-12-03T00:00:00.000000000",
          "2023-12-04T00:00:00.000000000",
          "2023-12-05T00:00:00.000000000",
          "2023-12-06T00:00:00.000000000",
          "2023-12-07T00:00:00.000000000",
          "2023-12-08T00:00:00.000000000",
          "2023-12-09T00:00:00.000000000",
          "2023-12-10T00:00:00.000000000",
          "2023-12-11T00:00:00.000000000",
          "2023-12-12T00:00:00.000000000",
          "2023-12-13T00:00:00.000000000",
          "2023-12-14T00:00:00.000000000",
          "2023-12-15T00:00:00.000000000",
          "2023-12-16T00:00:00.000000000",
          "2023-12-17T00:00:00.000000000",
          "2023-12-18T00:00:00.000000000",
          "2023-12-19T00:00:00.000000000",
          "2023-12-20T00:00:00.000000000",
          "2023-12-21T00:00:00.000000000",
          "2023-12-22T00:00:00.000000000",
          "2023-12-23T00:00:00.000000000",
          "2023-12-24T00:00:00.000000000",
          "2023-12-25T00:00:00.000000000",
          "2023-12-26T00:00:00.000000000",
          "2023-12-26T00:00:00.000000000",
          "2023-12-25T00:00:00.000000000",
          "2023-12-24T00:00:00.000000000",
          "2023-12-23T00:00:00.000000000",
          "2023-12-22T00:00:00.000000000",
          "2023-12-21T00:00:00.000000000",
          "2023-12-20T00:00:00.000000000",
          "2023-12-19T00:00:00.000000000",
          "2023-12-18T00:00:00.000000000",
          "2023-12-17T00:00:00.000000000",
          "2023-12-16T00:00:00.000000000",
          "2023-12-15T00:00:00.000000000",
          "2023-12-14T00:00:00.000000000",
          "2023-12-13T00:00:00.000000000",
          "2023-12-12T00:00:00.000000000",
          "2023-12-11T00:00:00.000000000",
          "2023-12-10T00:00:00.000000000",
          "2023-12-09T00:00:00.000000000",
          "2023-12-08T00:00:00.000000000",
          "2023-12-07T00:00:00.000000000",
          "2023-12-06T00:00:00.000000000",
          "2023-12-05T00:00:00.000000000",
          "2023-12-04T00:00:00.000000000",
          "2023-12-03T00:00:00.000000000",
          "2023-12-02T00:00:00.000000000",
          "2023-12-01T00:00:00.000000000",
          "2023-11-30T00:00:00.000000000",
          "2023-11-29T00:00:00.000000000",
          "2023-11-28T00:00:00.000000000",
          "2023-11-27T00:00:00.000000000",
          "2023-11-26T00:00:00.000000000",
          "2023-11-25T00:00:00.000000000",
          "2023-11-24T00:00:00.000000000",
          "2023-11-23T00:00:00.000000000",
          "2023-11-22T00:00:00.000000000",
          "2023-11-21T00:00:00.000000000",
          "2023-11-20T00:00:00.000000000",
          "2023-11-19T00:00:00.000000000",
          "2023-11-18T00:00:00.000000000",
          "2023-11-17T00:00:00.000000000",
          "2023-11-16T00:00:00.000000000",
          "2023-11-15T00:00:00.000000000",
          "2023-11-14T00:00:00.000000000",
          "2023-11-13T00:00:00.000000000",
          "2023-11-12T00:00:00.000000000",
          "2023-11-11T00:00:00.000000000",
          "2023-11-10T00:00:00.000000000",
          "2023-11-09T00:00:00.000000000",
          "2023-11-08T00:00:00.000000000",
          "2023-11-07T00:00:00.000000000",
          "2023-11-06T00:00:00.000000000",
          "2023-11-05T00:00:00.000000000",
          "2023-11-04T00:00:00.000000000",
          "2023-11-03T00:00:00.000000000",
          "2023-11-02T00:00:00.000000000",
          "2023-11-01T00:00:00.000000000",
          "2023-10-31T00:00:00.000000000",
          "2023-10-30T00:00:00.000000000",
          "2023-10-29T00:00:00.000000000",
          "2023-10-28T00:00:00.000000000",
          "2023-10-27T00:00:00.000000000",
          "2023-10-26T00:00:00.000000000",
          "2023-10-25T00:00:00.000000000",
          "2023-10-24T00:00:00.000000000",
          "2023-10-23T00:00:00.000000000",
          "2023-10-22T00:00:00.000000000",
          "2023-10-21T00:00:00.000000000",
          "2023-10-20T00:00:00.000000000",
          "2023-10-19T00:00:00.000000000",
          "2023-10-18T00:00:00.000000000",
          "2023-10-17T00:00:00.000000000",
          "2023-10-16T00:00:00.000000000",
          "2023-10-15T00:00:00.000000000",
          "2023-10-14T00:00:00.000000000",
          "2023-10-13T00:00:00.000000000",
          "2023-10-12T00:00:00.000000000",
          "2023-10-11T00:00:00.000000000",
          "2023-10-10T00:00:00.000000000",
          "2023-10-09T00:00:00.000000000",
          "2023-10-08T00:00:00.000000000",
          "2023-10-07T00:00:00.000000000",
          "2023-10-06T00:00:00.000000000",
          "2023-10-05T00:00:00.000000000",
          "2023-10-04T00:00:00.000000000",
          "2023-10-03T00:00:00.000000000",
          "2023-10-02T00:00:00.000000000",
          "2023-10-01T00:00:00.000000000",
          "2023-09-30T00:00:00.000000000",
          "2023-09-29T00:00:00.000000000",
          "2023-09-28T00:00:00.000000000",
          "2023-09-27T00:00:00.000000000",
          "2023-09-26T00:00:00.000000000",
          "2023-09-25T00:00:00.000000000",
          "2023-09-24T00:00:00.000000000",
          "2023-09-23T00:00:00.000000000",
          "2023-09-22T00:00:00.000000000",
          "2023-09-21T00:00:00.000000000",
          "2023-09-20T00:00:00.000000000",
          "2023-09-19T00:00:00.000000000",
          "2023-09-18T00:00:00.000000000",
          "2023-09-17T00:00:00.000000000",
          "2023-09-16T00:00:00.000000000",
          "2023-09-15T00:00:00.000000000",
          "2023-09-14T00:00:00.000000000",
          "2023-09-13T00:00:00.000000000",
          "2023-09-12T00:00:00.000000000",
          "2023-09-11T00:00:00.000000000",
          "2023-09-10T00:00:00.000000000",
          "2023-09-09T00:00:00.000000000",
          "2023-09-08T00:00:00.000000000",
          "2023-09-07T00:00:00.000000000",
          "2023-09-06T00:00:00.000000000",
          "2023-09-05T00:00:00.000000000",
          "2023-09-04T00:00:00.000000000",
          "2023-09-03T00:00:00.000000000",
          "2023-09-02T00:00:00.000000000",
          "2023-09-01T00:00:00.000000000",
          "2023-08-31T00:00:00.000000000",
          "2023-08-30T00:00:00.000000000",
          "2023-08-29T00:00:00.000000000",
          "2023-08-28T00:00:00.000000000",
          "2023-08-27T00:00:00.000000000",
          "2023-08-26T00:00:00.000000000",
          "2023-08-25T00:00:00.000000000",
          "2023-08-24T00:00:00.000000000",
          "2023-08-23T00:00:00.000000000",
          "2023-08-22T00:00:00.000000000",
          "2023-08-21T00:00:00.000000000",
          "2023-08-20T00:00:00.000000000",
          "2023-08-19T00:00:00.000000000",
          "2023-08-18T00:00:00.000000000",
          "2023-08-17T00:00:00.000000000",
          "2023-08-16T00:00:00.000000000",
          "2023-08-15T00:00:00.000000000",
          "2023-08-14T00:00:00.000000000",
          "2023-08-13T00:00:00.000000000",
          "2023-08-12T00:00:00.000000000",
          "2023-08-11T00:00:00.000000000",
          "2023-08-10T00:00:00.000000000",
          "2023-08-09T00:00:00.000000000",
          "2023-08-08T00:00:00.000000000",
          "2023-08-07T00:00:00.000000000",
          "2023-08-06T00:00:00.000000000",
          "2023-08-05T00:00:00.000000000",
          "2023-08-04T00:00:00.000000000",
          "2023-08-03T00:00:00.000000000",
          "2023-08-02T00:00:00.000000000",
          "2023-08-01T00:00:00.000000000",
          "2023-07-31T00:00:00.000000000",
          "2023-07-30T00:00:00.000000000",
          "2023-07-29T00:00:00.000000000",
          "2023-07-28T00:00:00.000000000",
          "2023-07-27T00:00:00.000000000",
          "2023-07-26T00:00:00.000000000",
          "2023-07-25T00:00:00.000000000",
          "2023-07-24T00:00:00.000000000",
          "2023-07-23T00:00:00.000000000",
          "2023-07-22T00:00:00.000000000",
          "2023-07-21T00:00:00.000000000",
          "2023-07-20T00:00:00.000000000",
          "2023-07-19T00:00:00.000000000",
          "2023-07-18T00:00:00.000000000",
          "2023-07-17T00:00:00.000000000",
          "2023-07-16T00:00:00.000000000",
          "2023-07-15T00:00:00.000000000",
          "2023-07-14T00:00:00.000000000",
          "2023-07-13T00:00:00.000000000",
          "2023-07-12T00:00:00.000000000",
          "2023-07-11T00:00:00.000000000",
          "2023-07-10T00:00:00.000000000",
          "2023-07-09T00:00:00.000000000",
          "2023-07-08T00:00:00.000000000",
          "2023-07-07T00:00:00.000000000",
          "2023-07-06T00:00:00.000000000",
          "2023-07-05T00:00:00.000000000",
          "2023-07-04T00:00:00.000000000",
          "2023-07-03T00:00:00.000000000",
          "2023-07-02T00:00:00.000000000",
          "2023-07-01T00:00:00.000000000",
          "2023-06-30T00:00:00.000000000",
          "2023-06-29T00:00:00.000000000",
          "2023-06-28T00:00:00.000000000",
          "2023-06-27T00:00:00.000000000",
          "2023-06-26T00:00:00.000000000",
          "2023-06-25T00:00:00.000000000",
          "2023-06-24T00:00:00.000000000",
          "2023-06-23T00:00:00.000000000",
          "2023-06-22T00:00:00.000000000",
          "2023-06-21T00:00:00.000000000",
          "2023-06-20T00:00:00.000000000",
          "2023-06-19T00:00:00.000000000",
          "2023-06-18T00:00:00.000000000",
          "2023-06-17T00:00:00.000000000",
          "2023-06-16T00:00:00.000000000",
          "2023-06-15T00:00:00.000000000",
          "2023-06-14T00:00:00.000000000",
          "2023-06-13T00:00:00.000000000",
          "2023-06-12T00:00:00.000000000",
          "2023-06-11T00:00:00.000000000",
          "2023-06-10T00:00:00.000000000",
          "2023-06-09T00:00:00.000000000",
          "2023-06-08T00:00:00.000000000",
          "2023-06-07T00:00:00.000000000",
          "2023-06-06T00:00:00.000000000",
          "2023-06-05T00:00:00.000000000",
          "2023-06-04T00:00:00.000000000",
          "2023-06-03T00:00:00.000000000",
          "2023-06-02T00:00:00.000000000",
          "2023-06-01T00:00:00.000000000",
          "2023-05-31T00:00:00.000000000",
          "2023-05-30T00:00:00.000000000",
          "2023-05-29T00:00:00.000000000",
          "2023-05-28T00:00:00.000000000",
          "2023-05-27T00:00:00.000000000",
          "2023-05-26T00:00:00.000000000",
          "2023-05-25T00:00:00.000000000",
          "2023-05-24T00:00:00.000000000",
          "2023-05-23T00:00:00.000000000",
          "2023-05-22T00:00:00.000000000",
          "2023-05-21T00:00:00.000000000",
          "2023-05-20T00:00:00.000000000",
          "2023-05-19T00:00:00.000000000",
          "2023-05-18T00:00:00.000000000",
          "2023-05-17T00:00:00.000000000",
          "2023-05-16T00:00:00.000000000",
          "2023-05-15T00:00:00.000000000",
          "2023-05-14T00:00:00.000000000",
          "2023-05-13T00:00:00.000000000",
          "2023-05-12T00:00:00.000000000",
          "2023-05-11T00:00:00.000000000",
          "2023-05-10T00:00:00.000000000",
          "2023-05-09T00:00:00.000000000",
          "2023-05-08T00:00:00.000000000",
          "2023-05-07T00:00:00.000000000",
          "2023-05-06T00:00:00.000000000",
          "2023-05-05T00:00:00.000000000",
          "2023-05-04T00:00:00.000000000",
          "2023-05-03T00:00:00.000000000",
          "2023-05-02T00:00:00.000000000",
          "2023-05-01T00:00:00.000000000",
          "2023-04-30T00:00:00.000000000",
          "2023-04-29T00:00:00.000000000",
          "2023-04-28T00:00:00.000000000",
          "2023-04-27T00:00:00.000000000",
          "2023-04-26T00:00:00.000000000",
          "2023-04-25T00:00:00.000000000",
          "2023-04-24T00:00:00.000000000",
          "2023-04-23T00:00:00.000000000",
          "2023-04-22T00:00:00.000000000",
          "2023-04-21T00:00:00.000000000",
          "2023-04-20T00:00:00.000000000",
          "2023-04-19T00:00:00.000000000",
          "2023-04-18T00:00:00.000000000",
          "2023-04-17T00:00:00.000000000",
          "2023-04-16T00:00:00.000000000",
          "2023-04-15T00:00:00.000000000",
          "2023-04-14T00:00:00.000000000",
          "2023-04-13T00:00:00.000000000",
          "2023-04-12T00:00:00.000000000",
          "2023-04-11T00:00:00.000000000",
          "2023-04-10T00:00:00.000000000",
          "2023-04-09T00:00:00.000000000",
          "2023-04-08T00:00:00.000000000",
          "2023-04-07T00:00:00.000000000",
          "2023-04-06T00:00:00.000000000",
          "2023-04-05T00:00:00.000000000",
          "2023-04-04T00:00:00.000000000",
          "2023-04-03T00:00:00.000000000",
          "2023-04-02T00:00:00.000000000",
          "2023-04-01T00:00:00.000000000",
          "2023-03-31T00:00:00.000000000",
          "2023-03-30T00:00:00.000000000",
          "2023-03-29T00:00:00.000000000",
          "2023-03-28T00:00:00.000000000",
          "2023-03-27T00:00:00.000000000",
          "2023-03-26T00:00:00.000000000",
          "2023-03-25T00:00:00.000000000",
          "2023-03-24T00:00:00.000000000",
          "2023-03-23T00:00:00.000000000",
          "2023-03-22T00:00:00.000000000",
          "2023-03-21T00:00:00.000000000",
          "2023-03-20T00:00:00.000000000",
          "2023-03-19T00:00:00.000000000",
          "2023-03-18T00:00:00.000000000",
          "2023-03-17T00:00:00.000000000",
          "2023-03-16T00:00:00.000000000",
          "2023-03-15T00:00:00.000000000",
          "2023-03-14T00:00:00.000000000",
          "2023-03-13T00:00:00.000000000",
          "2023-03-12T00:00:00.000000000",
          "2023-03-11T00:00:00.000000000",
          "2023-03-10T00:00:00.000000000",
          "2023-03-09T00:00:00.000000000",
          "2023-03-08T00:00:00.000000000",
          "2023-03-07T00:00:00.000000000",
          "2023-03-06T00:00:00.000000000",
          "2023-03-05T00:00:00.000000000",
          "2023-03-04T00:00:00.000000000",
          "2023-03-03T00:00:00.000000000",
          "2023-03-02T00:00:00.000000000",
          "2023-03-01T00:00:00.000000000",
          "2023-02-28T00:00:00.000000000",
          "2023-02-27T00:00:00.000000000",
          "2023-02-26T00:00:00.000000000",
          "2023-02-25T00:00:00.000000000",
          "2023-02-24T00:00:00.000000000",
          "2023-02-23T00:00:00.000000000",
          "2023-02-22T00:00:00.000000000",
          "2023-02-21T00:00:00.000000000",
          "2023-02-20T00:00:00.000000000",
          "2023-02-19T00:00:00.000000000",
          "2023-02-18T00:00:00.000000000",
          "2023-02-17T00:00:00.000000000",
          "2023-02-16T00:00:00.000000000",
          "2023-02-15T00:00:00.000000000",
          "2023-02-14T00:00:00.000000000",
          "2023-02-13T00:00:00.000000000",
          "2023-02-12T00:00:00.000000000",
          "2023-02-11T00:00:00.000000000",
          "2023-02-10T00:00:00.000000000",
          "2023-02-09T00:00:00.000000000",
          "2023-02-08T00:00:00.000000000",
          "2023-02-07T00:00:00.000000000",
          "2023-02-06T00:00:00.000000000",
          "2023-02-05T00:00:00.000000000",
          "2023-02-04T00:00:00.000000000",
          "2023-02-03T00:00:00.000000000",
          "2023-02-02T00:00:00.000000000",
          "2023-02-01T00:00:00.000000000",
          "2023-01-31T00:00:00.000000000",
          "2023-01-30T00:00:00.000000000",
          "2023-01-29T00:00:00.000000000",
          "2023-01-28T00:00:00.000000000",
          "2023-01-27T00:00:00.000000000",
          "2023-01-26T00:00:00.000000000",
          "2023-01-25T00:00:00.000000000",
          "2023-01-24T00:00:00.000000000",
          "2023-01-23T00:00:00.000000000",
          "2023-01-22T00:00:00.000000000",
          "2023-01-21T00:00:00.000000000",
          "2023-01-20T00:00:00.000000000",
          "2023-01-19T00:00:00.000000000",
          "2023-01-18T00:00:00.000000000",
          "2023-01-17T00:00:00.000000000",
          "2023-01-16T00:00:00.000000000",
          "2023-01-15T00:00:00.000000000",
          "2023-01-14T00:00:00.000000000",
          "2023-01-13T00:00:00.000000000",
          "2023-01-12T00:00:00.000000000",
          "2023-01-11T00:00:00.000000000",
          "2023-01-10T00:00:00.000000000",
          "2023-01-09T00:00:00.000000000",
          "2023-01-08T00:00:00.000000000",
          "2023-01-07T00:00:00.000000000",
          "2023-01-06T00:00:00.000000000",
          "2023-01-05T00:00:00.000000000",
          "2023-01-04T00:00:00.000000000",
          "2023-01-03T00:00:00.000000000",
          "2023-01-02T00:00:00.000000000",
          "2023-01-01T00:00:00.000000000"
         ],
         "xaxis": "x3",
         "y": {
          "bdata": "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",
          "dtype": "f8"
         },
         "yaxis": "y3"
        },
        {
         "line": {
          "color": "black",
          "dash": "dash",
          "width": 1
         },
         "marker": {
          "color": "black",
          "size": 4,
          "symbol": "x"
         },
         "mode": "lines+markers",
         "name": "Observed day layer 1",
         "type": "scatter",
         "x": [
          "2023-01-01T00:00:00.000000000",
          "2023-01-02T00:00:00.000000000",
          "2023-01-03T00:00:00.000000000",
          "2023-01-04T00:00:00.000000000",
          "2023-01-05T00:00:00.000000000",
          "2023-01-06T00:00:00.000000000",
          "2023-01-07T00:00:00.000000000",
          "2023-01-08T00:00:00.000000000",
          "2023-01-09T00:00:00.000000000",
          "2023-01-10T00:00:00.000000000",
          "2023-01-11T00:00:00.000000000",
          "2023-01-12T00:00:00.000000000",
          "2023-01-13T00:00:00.000000000",
          "2023-01-14T00:00:00.000000000",
          "2023-01-15T00:00:00.000000000",
          "2023-01-16T00:00:00.000000000",
          "2023-01-17T00:00:00.000000000",
          "2023-01-18T00:00:00.000000000",
          "2023-01-19T00:00:00.000000000",
          "2023-01-20T00:00:00.000000000",
          "2023-01-21T00:00:00.000000000",
          "2023-01-22T00:00:00.000000000",
          "2023-01-23T00:00:00.000000000",
          "2023-01-24T00:00:00.000000000",
          "2023-01-25T00:00:00.000000000",
          "2023-01-26T00:00:00.000000000",
          "2023-01-27T00:00:00.000000000",
          "2023-01-28T00:00:00.000000000",
          "2023-01-29T00:00:00.000000000",
          "2023-01-30T00:00:00.000000000",
          "2023-01-31T00:00:00.000000000",
          "2023-02-01T00:00:00.000000000",
          "2023-02-02T00:00:00.000000000",
          "2023-02-03T00:00:00.000000000",
          "2023-02-04T00:00:00.000000000",
          "2023-02-05T00:00:00.000000000",
          "2023-02-06T00:00:00.000000000",
          "2023-02-07T00:00:00.000000000",
          "2023-02-08T00:00:00.000000000",
          "2023-02-09T00:00:00.000000000",
          "2023-02-10T00:00:00.000000000",
          "2023-02-11T00:00:00.000000000",
          "2023-02-12T00:00:00.000000000",
          "2023-02-13T00:00:00.000000000",
          "2023-02-14T00:00:00.000000000",
          "2023-02-15T00:00:00.000000000",
          "2023-02-16T00:00:00.000000000",
          "2023-02-17T00:00:00.000000000",
          "2023-02-18T00:00:00.000000000",
          "2023-02-19T00:00:00.000000000",
          "2023-02-20T00:00:00.000000000",
          "2023-02-21T00:00:00.000000000",
          "2023-02-22T00:00:00.000000000",
          "2023-02-23T00:00:00.000000000",
          "2023-02-24T00:00:00.000000000",
          "2023-02-25T00:00:00.000000000",
          "2023-02-26T00:00:00.000000000",
          "2023-02-27T00:00:00.000000000",
          "2023-02-28T00:00:00.000000000",
          "2023-03-01T00:00:00.000000000",
          "2023-03-02T00:00:00.000000000",
          "2023-03-03T00:00:00.000000000",
          "2023-03-04T00:00:00.000000000",
          "2023-03-05T00:00:00.000000000",
          "2023-03-06T00:00:00.000000000",
          "2023-03-07T00:00:00.000000000",
          "2023-03-08T00:00:00.000000000",
          "2023-03-09T00:00:00.000000000",
          "2023-03-10T00:00:00.000000000",
          "2023-03-11T00:00:00.000000000",
          "2023-03-12T00:00:00.000000000",
          "2023-03-13T00:00:00.000000000",
          "2023-03-14T00:00:00.000000000",
          "2023-03-15T00:00:00.000000000",
          "2023-03-16T00:00:00.000000000",
          "2023-03-17T00:00:00.000000000",
          "2023-03-18T00:00:00.000000000",
          "2023-03-19T00:00:00.000000000",
          "2023-03-20T00:00:00.000000000",
          "2023-03-21T00:00:00.000000000",
          "2023-03-22T00:00:00.000000000",
          "2023-03-23T00:00:00.000000000",
          "2023-03-24T00:00:00.000000000",
          "2023-03-25T00:00:00.000000000",
          "2023-03-26T00:00:00.000000000",
          "2023-03-27T00:00:00.000000000",
          "2023-03-28T00:00:00.000000000",
          "2023-03-29T00:00:00.000000000",
          "2023-03-30T00:00:00.000000000",
          "2023-03-31T00:00:00.000000000",
          "2023-04-01T00:00:00.000000000",
          "2023-04-02T00:00:00.000000000",
          "2023-04-03T00:00:00.000000000",
          "2023-04-04T00:00:00.000000000",
          "2023-04-05T00:00:00.000000000",
          "2023-04-06T00:00:00.000000000",
          "2023-04-07T00:00:00.000000000",
          "2023-04-08T00:00:00.000000000",
          "2023-04-09T00:00:00.000000000",
          "2023-04-10T00:00:00.000000000",
          "2023-04-11T00:00:00.000000000",
          "2023-04-12T00:00:00.000000000",
          "2023-04-13T00:00:00.000000000",
          "2023-04-14T00:00:00.000000000",
          "2023-04-15T00:00:00.000000000",
          "2023-04-16T00:00:00.000000000",
          "2023-04-17T00:00:00.000000000",
          "2023-04-18T00:00:00.000000000",
          "2023-04-19T00:00:00.000000000",
          "2023-04-20T00:00:00.000000000",
          "2023-04-21T00:00:00.000000000",
          "2023-04-22T00:00:00.000000000",
          "2023-04-23T00:00:00.000000000",
          "2023-04-24T00:00:00.000000000",
          "2023-04-25T00:00:00.000000000",
          "2023-04-26T00:00:00.000000000",
          "2023-04-27T00:00:00.000000000",
          "2023-04-28T00:00:00.000000000",
          "2023-04-29T00:00:00.000000000",
          "2023-04-30T00:00:00.000000000",
          "2023-05-01T00:00:00.000000000",
          "2023-05-02T00:00:00.000000000",
          "2023-05-03T00:00:00.000000000",
          "2023-05-04T00:00:00.000000000",
          "2023-05-05T00:00:00.000000000",
          "2023-05-06T00:00:00.000000000",
          "2023-05-07T00:00:00.000000000",
          "2023-05-08T00:00:00.000000000",
          "2023-05-09T00:00:00.000000000",
          "2023-05-10T00:00:00.000000000",
          "2023-05-11T00:00:00.000000000",
          "2023-05-12T00:00:00.000000000",
          "2023-05-13T00:00:00.000000000",
          "2023-05-14T00:00:00.000000000",
          "2023-05-15T00:00:00.000000000",
          "2023-05-16T00:00:00.000000000",
          "2023-05-17T00:00:00.000000000",
          "2023-05-18T00:00:00.000000000",
          "2023-05-19T00:00:00.000000000",
          "2023-05-20T00:00:00.000000000",
          "2023-05-21T00:00:00.000000000",
          "2023-05-22T00:00:00.000000000",
          "2023-05-23T00:00:00.000000000",
          "2023-05-24T00:00:00.000000000",
          "2023-05-25T00:00:00.000000000",
          "2023-05-26T00:00:00.000000000",
          "2023-05-27T00:00:00.000000000",
          "2023-05-28T00:00:00.000000000",
          "2023-05-29T00:00:00.000000000",
          "2023-05-30T00:00:00.000000000",
          "2023-05-31T00:00:00.000000000",
          "2023-06-01T00:00:00.000000000",
          "2023-06-02T00:00:00.000000000",
          "2023-06-03T00:00:00.000000000",
          "2023-06-04T00:00:00.000000000",
          "2023-06-05T00:00:00.000000000",
          "2023-06-06T00:00:00.000000000",
          "2023-06-07T00:00:00.000000000",
          "2023-06-08T00:00:00.000000000",
          "2023-06-09T00:00:00.000000000",
          "2023-06-10T00:00:00.000000000",
          "2023-06-11T00:00:00.000000000",
          "2023-06-12T00:00:00.000000000",
          "2023-06-13T00:00:00.000000000",
          "2023-06-14T00:00:00.000000000",
          "2023-06-15T00:00:00.000000000",
          "2023-06-16T00:00:00.000000000",
          "2023-06-17T00:00:00.000000000",
          "2023-06-18T00:00:00.000000000",
          "2023-06-19T00:00:00.000000000",
          "2023-06-20T00:00:00.000000000",
          "2023-06-21T00:00:00.000000000",
          "2023-06-22T00:00:00.000000000",
          "2023-06-23T00:00:00.000000000",
          "2023-06-24T00:00:00.000000000",
          "2023-06-25T00:00:00.000000000",
          "2023-06-26T00:00:00.000000000",
          "2023-06-27T00:00:00.000000000",
          "2023-06-28T00:00:00.000000000",
          "2023-06-29T00:00:00.000000000",
          "2023-06-30T00:00:00.000000000",
          "2023-07-01T00:00:00.000000000",
          "2023-07-02T00:00:00.000000000",
          "2023-07-03T00:00:00.000000000",
          "2023-07-04T00:00:00.000000000",
          "2023-07-05T00:00:00.000000000",
          "2023-07-06T00:00:00.000000000",
          "2023-07-07T00:00:00.000000000",
          "2023-07-08T00:00:00.000000000",
          "2023-07-09T00:00:00.000000000",
          "2023-07-10T00:00:00.000000000",
          "2023-07-11T00:00:00.000000000",
          "2023-07-12T00:00:00.000000000",
          "2023-07-13T00:00:00.000000000",
          "2023-07-14T00:00:00.000000000",
          "2023-07-15T00:00:00.000000000",
          "2023-07-16T00:00:00.000000000",
          "2023-07-17T00:00:00.000000000",
          "2023-07-18T00:00:00.000000000",
          "2023-07-19T00:00:00.000000000",
          "2023-07-20T00:00:00.000000000",
          "2023-07-21T00:00:00.000000000",
          "2023-07-22T00:00:00.000000000",
          "2023-07-23T00:00:00.000000000",
          "2023-07-24T00:00:00.000000000",
          "2023-07-25T00:00:00.000000000",
          "2023-07-26T00:00:00.000000000",
          "2023-07-27T00:00:00.000000000",
          "2023-07-28T00:00:00.000000000",
          "2023-07-29T00:00:00.000000000",
          "2023-07-30T00:00:00.000000000",
          "2023-07-31T00:00:00.000000000",
          "2023-08-01T00:00:00.000000000",
          "2023-08-02T00:00:00.000000000",
          "2023-08-03T00:00:00.000000000",
          "2023-08-04T00:00:00.000000000",
          "2023-08-05T00:00:00.000000000",
          "2023-08-06T00:00:00.000000000",
          "2023-08-07T00:00:00.000000000",
          "2023-08-08T00:00:00.000000000",
          "2023-08-09T00:00:00.000000000",
          "2023-08-10T00:00:00.000000000",
          "2023-08-11T00:00:00.000000000",
          "2023-08-12T00:00:00.000000000",
          "2023-08-13T00:00:00.000000000",
          "2023-08-14T00:00:00.000000000",
          "2023-08-15T00:00:00.000000000",
          "2023-08-16T00:00:00.000000000",
          "2023-08-17T00:00:00.000000000",
          "2023-08-18T00:00:00.000000000",
          "2023-08-19T00:00:00.000000000",
          "2023-08-20T00:00:00.000000000",
          "2023-08-21T00:00:00.000000000",
          "2023-08-22T00:00:00.000000000",
          "2023-08-23T00:00:00.000000000",
          "2023-08-24T00:00:00.000000000",
          "2023-08-25T00:00:00.000000000",
          "2023-08-26T00:00:00.000000000",
          "2023-08-27T00:00:00.000000000",
          "2023-08-28T00:00:00.000000000",
          "2023-08-29T00:00:00.000000000",
          "2023-08-30T00:00:00.000000000",
          "2023-08-31T00:00:00.000000000",
          "2023-09-01T00:00:00.000000000",
          "2023-09-02T00:00:00.000000000",
          "2023-09-03T00:00:00.000000000",
          "2023-09-04T00:00:00.000000000",
          "2023-09-05T00:00:00.000000000",
          "2023-09-06T00:00:00.000000000",
          "2023-09-07T00:00:00.000000000",
          "2023-09-08T00:00:00.000000000",
          "2023-09-09T00:00:00.000000000",
          "2023-09-10T00:00:00.000000000",
          "2023-09-11T00:00:00.000000000",
          "2023-09-12T00:00:00.000000000",
          "2023-09-13T00:00:00.000000000",
          "2023-09-14T00:00:00.000000000",
          "2023-09-15T00:00:00.000000000",
          "2023-09-16T00:00:00.000000000",
          "2023-09-17T00:00:00.000000000",
          "2023-09-18T00:00:00.000000000",
          "2023-09-19T00:00:00.000000000",
          "2023-09-20T00:00:00.000000000",
          "2023-09-21T00:00:00.000000000",
          "2023-09-22T00:00:00.000000000",
          "2023-09-23T00:00:00.000000000",
          "2023-09-24T00:00:00.000000000",
          "2023-09-25T00:00:00.000000000",
          "2023-09-26T00:00:00.000000000",
          "2023-09-27T00:00:00.000000000",
          "2023-09-28T00:00:00.000000000",
          "2023-09-29T00:00:00.000000000",
          "2023-09-30T00:00:00.000000000",
          "2023-10-01T00:00:00.000000000",
          "2023-10-02T00:00:00.000000000",
          "2023-10-03T00:00:00.000000000",
          "2023-10-04T00:00:00.000000000",
          "2023-10-05T00:00:00.000000000",
          "2023-10-06T00:00:00.000000000",
          "2023-10-07T00:00:00.000000000",
          "2023-10-08T00:00:00.000000000",
          "2023-10-09T00:00:00.000000000",
          "2023-10-10T00:00:00.000000000",
          "2023-10-11T00:00:00.000000000",
          "2023-10-12T00:00:00.000000000",
          "2023-10-13T00:00:00.000000000",
          "2023-10-14T00:00:00.000000000",
          "2023-10-15T00:00:00.000000000",
          "2023-10-16T00:00:00.000000000",
          "2023-10-17T00:00:00.000000000",
          "2023-10-18T00:00:00.000000000",
          "2023-10-19T00:00:00.000000000",
          "2023-10-20T00:00:00.000000000",
          "2023-10-21T00:00:00.000000000",
          "2023-10-22T00:00:00.000000000",
          "2023-10-23T00:00:00.000000000",
          "2023-10-24T00:00:00.000000000",
          "2023-10-25T00:00:00.000000000",
          "2023-10-26T00:00:00.000000000",
          "2023-10-27T00:00:00.000000000",
          "2023-10-28T00:00:00.000000000",
          "2023-10-29T00:00:00.000000000",
          "2023-10-30T00:00:00.000000000",
          "2023-10-31T00:00:00.000000000",
          "2023-11-01T00:00:00.000000000",
          "2023-11-02T00:00:00.000000000",
          "2023-11-03T00:00:00.000000000",
          "2023-11-04T00:00:00.000000000",
          "2023-11-05T00:00:00.000000000",
          "2023-11-06T00:00:00.000000000",
          "2023-11-07T00:00:00.000000000",
          "2023-11-08T00:00:00.000000000",
          "2023-11-09T00:00:00.000000000",
          "2023-11-10T00:00:00.000000000",
          "2023-11-11T00:00:00.000000000",
          "2023-11-12T00:00:00.000000000",
          "2023-11-13T00:00:00.000000000",
          "2023-11-14T00:00:00.000000000",
          "2023-11-15T00:00:00.000000000",
          "2023-11-16T00:00:00.000000000",
          "2023-11-17T00:00:00.000000000",
          "2023-11-18T00:00:00.000000000",
          "2023-11-19T00:00:00.000000000",
          "2023-11-20T00:00:00.000000000",
          "2023-11-21T00:00:00.000000000",
          "2023-11-22T00:00:00.000000000",
          "2023-11-23T00:00:00.000000000",
          "2023-11-24T00:00:00.000000000",
          "2023-11-25T00:00:00.000000000",
          "2023-11-26T00:00:00.000000000",
          "2023-11-27T00:00:00.000000000",
          "2023-11-28T00:00:00.000000000",
          "2023-11-29T00:00:00.000000000",
          "2023-11-30T00:00:00.000000000",
          "2023-12-01T00:00:00.000000000",
          "2023-12-02T00:00:00.000000000",
          "2023-12-03T00:00:00.000000000",
          "2023-12-04T00:00:00.000000000",
          "2023-12-05T00:00:00.000000000",
          "2023-12-06T00:00:00.000000000",
          "2023-12-07T00:00:00.000000000",
          "2023-12-08T00:00:00.000000000",
          "2023-12-09T00:00:00.000000000",
          "2023-12-10T00:00:00.000000000",
          "2023-12-11T00:00:00.000000000",
          "2023-12-12T00:00:00.000000000",
          "2023-12-13T00:00:00.000000000",
          "2023-12-14T00:00:00.000000000",
          "2023-12-15T00:00:00.000000000",
          "2023-12-16T00:00:00.000000000",
          "2023-12-17T00:00:00.000000000",
          "2023-12-18T00:00:00.000000000",
          "2023-12-19T00:00:00.000000000",
          "2023-12-20T00:00:00.000000000",
          "2023-12-21T00:00:00.000000000",
          "2023-12-22T00:00:00.000000000",
          "2023-12-23T00:00:00.000000000",
          "2023-12-24T00:00:00.000000000",
          "2023-12-25T00:00:00.000000000",
          "2023-12-26T00:00:00.000000000"
         ],
         "xaxis": "x3",
         "y": {
          "bdata": "AAAAAICELkEAAAAAgIQuQQAAAACAhC5BAAAAAICELkEAAAAAgIQuQQAAAACAhC5BAAAAAICELkEAAAAAgIQuQQAAAACAhC5BAAAAAICELkEAAAAAgIQuQQAAAACAhC5BAAAAAICELkEAAAAAgIQuQQAAAACAhC5BAAAAAICELkEAAAAAgIQuQQAAAACAhC5BAAAAAICELkEAAAAAgIQuQQAAAACAhC5BAAAAAICELkEAAAAAgIQuQQAAAACAhC5BAAAAAICELkEAAAAAgIQuQQAAAACAhC5BAAAAAICELkEAAAAAgIQuQQAAAACAhC5BAAAAAICELkEAAAAAgIQuQQAAAACAhC5BAAAAAICELkEAAAAAgIQuQQAAAACAhC5BAAAAAICELkEAAAAAgIQuQQAAAACAhC5BAAAAAICELkEAAAAAgIQuQQAAAACAhC5BAAAAAICELkEAAAAAgIQuQQAAAACAhC5BAAAAAICELkEAAAAAgIQuQQAAAACAhC5BAAAAAICELkEAAAAAgIQuQQAAAACAhC5BAAAAAICELkEAAAAAgIQuQQAAAACAhC5BAAAAAICELkEAAAAAgIQuQQAAAACAhC5BAAAAAICELkEAAAAAgIQuQQAAAACAhC5BAAAAAICELkEAAAAAgIQuQQAAAACAhC5BAAAAAICELkEAAAAAgIQuQQAAAACAhC5BAAAAAICELkEAAAAAgIQuQQAAAACAhC5BAAAAAICELkEAAAAAgIQuQQAAAACAhC5BAAAAAICELkEAAAAAgIQuQQAAAACAhC5BAAAAAICELkEAAAAAgIQuQQAAAACAhC5BAAAAAICELkEAAAAAgIQuQQAAAACAhC5BAAAAAICELkEAAAAAgIQuQQAAAACAhC5BAAAAAICELkEAAAAAgIQuQQAAAACAhC5BAAAAAICELkEAAAAAgIQuQQAAAACAhC5BAAAAAICELkEAAAAAgIQuQQAAAACAhC5BAAAAAICELkEAAAAAgIQuQQAAAACAhC5BAAAAAICELkEAAAAAgIQuQQAAAACAhC5BAAAAAICELkEAAAAAgIQuQQAAAACAhC5BAAAAAICELkEAAAAAgIQuQQAAAACAhC5BAAAAAICELkEAAAAAgIQuQQAAAACAhC5BAAAAAICELkEAAAAAgIQuQQAAAACAhC5BAAAAAICELkEAAAAAgIQuQQAAAACAhC5BAAAAAICELkEAAAAAgIQuQQAAAACAhC5BAAAAAICELkEAAAAAgIQuQQAAAACAhC5BAAAAAICELkEAAAAAgIQuQQAAAACAhC5BAAAAAICELkEAAAAAgIQuQQAAAACAhC5BAAAAAICELkEAAAAAgIQuQQAAAACAhC5BAAAAAICELkEAAAAAgIQuQQAAAACAhC5BAAAAAICELkEAAAAAgIQuQQAAAACAhC5BAAAAAICELkEAAAAAgIQuQQAAAACAhC5BAAAAAICELkEAAAAAgIQuQQAAAACAhC5BAAAAAICELkEAAAAAgIQuQQAAAACAhC5BAAAAAICELkEAAAAAgIQuQQAAAACAhC5BAAAAAICELkEAAAAAgIQuQQAAAACAhC5BAAAAAICELkEAAAAAgIQuQQAAAACAhC5BAAAAAICELkEAAAAAgIQuQQAAAACAhC5BAAAAAICELkEAAAAAgIQuQQAAAACAhC5BAAAAAICELkEAAAAAgIQuQQAAAACAhC5BAAAAAICELkEAAAAAgIQuQQAAAACAhC5BAAAAAICELkEAAAAAgIQuQQAAAACAhC5BAAAAAICELkEAAAAAgIQuQQAAAACAhC5BAAAAAICELkEAAAAAgIQuQQAAAACAhC5BAAAAAICELkEAAAAAgIQuQQAAAACAhC5BAAAAAICELkEAAAAAgIQuQQAAAACAhC5BAAAAAICELkEAAAAAgIQuQQAAAACAhC5BAAAAAICELkEAAAAAgIQuQQAAAACAhC5BAAAAAICELkEAAAAAgIQuQQAAAACAhC5BAAAAAICELkEAAAAAgIQuQQAAAACAhC5BAAAAAICELkEAAAAAgIQuQQAAAACAhC5BAAAAAICELkEAAAAAgIQuQQAAAACAhC5BAAAAAICELkEAAAAAgIQuQQAAAACAhC5BAAAAAICELkEAAAAAgIQuQQAAAACAhC5BAAAAAICELkEAAAAAgIQuQQAAAACAhC5BAAAAAICELkEAAAAAgIQuQQAAAACAhC5BAAAAAICELkEAAAAAgIQuQQAAAACAhC5BAAAAAICELkEAAAAAgIQuQQAAAACAhC5BAAAAAICELkEAAAAAgIQuQQAAAACAhC5BAAAAAICELkEAAAAAgIQuQQAAAACAhC5BAAAAAICELkEAAAAAgIQuQQAAAACAhC5BAAAAAICELkEAAAAAgIQuQQAAAACAhC5BAAAAAICELkEAAAAAgIQuQQAAAACAhC5BAAAAAICELkEAAAAAgIQuQQAAAACAhC5BAAAAAICELkEAAAAAgIQuQQAAAACAhC5BAAAAAICELkEAAAAAgIQuQQAAAACAhC5BAAAAAICELkEAAAAAgIQuQQAAAACAhC5BAAAAAICELkEAAAAAgIQuQQAAAACAhC5BAAAAAICELkEAAAAAgIQuQQAAAACAhC5BAAAAAICELkEAAAAAgIQuQQAAAACAhC5BAAAAAICELkEAAAAAgIQuQQAAAACAhC5BAAAAAICELkEAAAAAgIQuQQAAAACAhC5BAAAAAICELkEAAAAAgIQuQQAAAACAhC5BAAAAAICELkEAAAAAgIQuQQAAAACAhC5BAAAAAICELkEAAAAAgIQuQQAAAACAhC5BAAAAAICELkEAAAAAgIQuQQAAAACAhC5BAAAAAICELkEAAAAAgIQuQQAAAACAhC5BAAAAAICELkEAAAAAgIQuQQAAAACAhC5BAAAAAICELkEAAAAAgIQuQQAAAACAhC5BAAAAAICELkEAAAAAgIQuQQAAAACAhC5BAAAAAICELkEAAAAAgIQuQQAAAACAhC5BAAAAAICELkEAAAAAgIQuQQAAAACAhC5BAAAAAICELkEAAAAAgIQuQQAAAACAhC5BAAAAAICELkEAAAAAgIQuQQAAAACAhC5BAAAAAICELkEAAAAAgIQuQQAAAACAhC5BAAAAAICELkEAAAAAgIQuQQAAAACAhC5BAAAAAICELkEAAAAAgIQuQQAAAACAhC5BAAAAAICELkEAAAAAgIQuQQAAAACAhC5BAAAAAICELkEAAAAAgIQuQQAAAACAhC5BAAAAAICELkEAAAAAgIQuQQAAAACAhC5BAAAAAICELkEAAAAAgIQuQQAAAACAhC5BAAAAAICELkEAAAAAgIQuQQAAAACAhC5BAAAAAICELkEAAAAAgIQuQQAAAACAhC5BAAAAAICELkEAAAAAgIQuQQAAAACAhC5BAAAAAICELkEAAAAAgIQuQQAAAACAhC5BAAAAAICELkEAAAAAgIQuQQAAAACAhC5BAAAAAICELkEAAAAAgIQuQQAAAACAhC5BAAAAAICELkEAAAAAgIQuQQAAAACAhC5BAAAAAICELkEAAAAAgIQuQQAAAACAhC5BAAAAAICELkEAAAAAgIQuQQAAAACAhC5BAAAAAICELkEAAAAAgIQuQQAAAACAhC5BAAAAAICELkEAAAAAgIQuQQAAAACAhC5BAAAAAICELkEAAAAAgIQuQQAAAACAhC5BAAAAAICELkEAAAAAgIQuQQAAAACAhC5BAAAAAICELkEAAAAAgIQuQQAAAACAhC5BAAAAAICELkEAAAAAgIQuQQAAAACAhC5B",
          "dtype": "f8"
         },
         "yaxis": "y3"
        }
       ],
       "layout": {
        "annotations": [
         {
          "font": {
           "size": 16
          },
          "showarrow": false,
          "text": "Day",
          "x": 0.22,
          "xanchor": "center",
          "xref": "paper",
          "y": 1,
          "yanchor": "bottom",
          "yref": "paper"
         },
         {
          "font": {
           "size": 16
          },
          "showarrow": false,
          "text": "Night",
          "x": 0.76,
          "xanchor": "center",
          "xref": "paper",
          "y": 1,
          "yanchor": "bottom",
          "yref": "paper"
         },
         {
          "font": {
           "size": 16
          },
          "showarrow": false,
          "text": "Layer 0",
          "textangle": 90,
          "x": 0.98,
          "xanchor": "left",
          "xref": "paper",
          "y": 0.775,
          "yanchor": "middle",
          "yref": "paper"
         },
         {
          "font": {
           "size": 16
          },
          "showarrow": false,
          "text": "Layer 1",
          "textangle": 90,
          "x": 0.98,
          "xanchor": "left",
          "xref": "paper",
          "y": 0.225,
          "yanchor": "middle",
          "yref": "paper"
         },
         {
          "font": {
           "size": 16
          },
          "showarrow": false,
          "text": "Time",
          "x": 0.49,
          "xanchor": "center",
          "xref": "paper",
          "y": 0,
          "yanchor": "top",
          "yref": "paper",
          "yshift": -30
         },
         {
          "font": {
           "size": 16
          },
          "showarrow": false,
          "text": "Biomass (mg/m2)",
          "textangle": -90,
          "x": 0,
          "xanchor": "right",
          "xref": "paper",
          "xshift": -40,
          "y": 0.5,
          "yanchor": "middle",
          "yref": "paper"
         }
        ],
        "template": {
         "data": {
          "bar": [
           {
            "error_x": {
             "color": "#2a3f5f"
            },
            "error_y": {
             "color": "#2a3f5f"
            },
            "marker": {
             "line": {
              "color": "#E5ECF6",
              "width": 0.5
             },
             "pattern": {
              "fillmode": "overlay",
              "size": 10,
              "solidity": 0.2
             }
            },
            "type": "bar"
           }
          ],
          "barpolar": [
           {
            "marker": {
             "line": {
              "color": "#E5ECF6",
              "width": 0.5
             },
             "pattern": {
              "fillmode": "overlay",
              "size": 10,
              "solidity": 0.2
             }
            },
            "type": "barpolar"
           }
          ],
          "carpet": [
           {
            "aaxis": {
             "endlinecolor": "#2a3f5f",
             "gridcolor": "white",
             "linecolor": "white",
             "minorgridcolor": "white",
             "startlinecolor": "#2a3f5f"
            },
            "baxis": {
             "endlinecolor": "#2a3f5f",
             "gridcolor": "white",
             "linecolor": "white",
             "minorgridcolor": "white",
             "startlinecolor": "#2a3f5f"
            },
            "type": "carpet"
           }
          ],
          "choropleth": [
           {
            "colorbar": {
             "outlinewidth": 0,
             "ticks": ""
            },
            "type": "choropleth"
           }
          ],
          "contour": [
           {
            "colorbar": {
             "outlinewidth": 0,
             "ticks": ""
            },
            "colorscale": [
             [
              0,
              "#0d0887"
             ],
             [
              0.1111111111111111,
              "#46039f"
             ],
             [
              0.2222222222222222,
              "#7201a8"
             ],
             [
              0.3333333333333333,
              "#9c179e"
             ],
             [
              0.4444444444444444,
              "#bd3786"
             ],
             [
              0.5555555555555556,
              "#d8576b"
             ],
             [
              0.6666666666666666,
              "#ed7953"
             ],
             [
              0.7777777777777778,
              "#fb9f3a"
             ],
             [
              0.8888888888888888,
              "#fdca26"
             ],
             [
              1,
              "#f0f921"
             ]
            ],
            "type": "contour"
           }
          ],
          "contourcarpet": [
           {
            "colorbar": {
             "outlinewidth": 0,
             "ticks": ""
            },
            "type": "contourcarpet"
           }
          ],
          "heatmap": [
           {
            "colorbar": {
             "outlinewidth": 0,
             "ticks": ""
            },
            "colorscale": [
             [
              0,
              "#0d0887"
             ],
             [
              0.1111111111111111,
              "#46039f"
             ],
             [
              0.2222222222222222,
              "#7201a8"
             ],
             [
              0.3333333333333333,
              "#9c179e"
             ],
             [
              0.4444444444444444,
              "#bd3786"
             ],
             [
              0.5555555555555556,
              "#d8576b"
             ],
             [
              0.6666666666666666,
              "#ed7953"
             ],
             [
              0.7777777777777778,
              "#fb9f3a"
             ],
             [
              0.8888888888888888,
              "#fdca26"
             ],
             [
              1,
              "#f0f921"
             ]
            ],
            "type": "heatmap"
           }
          ],
          "histogram": [
           {
            "marker": {
             "pattern": {
              "fillmode": "overlay",
              "size": 10,
              "solidity": 0.2
             }
            },
            "type": "histogram"
           }
          ],
          "histogram2d": [
           {
            "colorbar": {
             "outlinewidth": 0,
             "ticks": ""
            },
            "colorscale": [
             [
              0,
              "#0d0887"
             ],
             [
              0.1111111111111111,
              "#46039f"
             ],
             [
              0.2222222222222222,
              "#7201a8"
             ],
             [
              0.3333333333333333,
              "#9c179e"
             ],
             [
              0.4444444444444444,
              "#bd3786"
             ],
             [
              0.5555555555555556,
              "#d8576b"
             ],
             [
              0.6666666666666666,
              "#ed7953"
             ],
             [
              0.7777777777777778,
              "#fb9f3a"
             ],
             [
              0.8888888888888888,
              "#fdca26"
             ],
             [
              1,
              "#f0f921"
             ]
            ],
            "type": "histogram2d"
           }
          ],
          "histogram2dcontour": [
           {
            "colorbar": {
             "outlinewidth": 0,
             "ticks": ""
            },
            "colorscale": [
             [
              0,
              "#0d0887"
             ],
             [
              0.1111111111111111,
              "#46039f"
             ],
             [
              0.2222222222222222,
              "#7201a8"
             ],
             [
              0.3333333333333333,
              "#9c179e"
             ],
             [
              0.4444444444444444,
              "#bd3786"
             ],
             [
              0.5555555555555556,
              "#d8576b"
             ],
             [
              0.6666666666666666,
              "#ed7953"
             ],
             [
              0.7777777777777778,
              "#fb9f3a"
             ],
             [
              0.8888888888888888,
              "#fdca26"
             ],
             [
              1,
              "#f0f921"
             ]
            ],
            "type": "histogram2dcontour"
           }
          ],
          "mesh3d": [
           {
            "colorbar": {
             "outlinewidth": 0,
             "ticks": ""
            },
            "type": "mesh3d"
           }
          ],
          "parcoords": [
           {
            "line": {
             "colorbar": {
              "outlinewidth": 0,
              "ticks": ""
             }
            },
            "type": "parcoords"
           }
          ],
          "pie": [
           {
            "automargin": true,
            "type": "pie"
           }
          ],
          "scatter": [
           {
            "fillpattern": {
             "fillmode": "overlay",
             "size": 10,
             "solidity": 0.2
            },
            "type": "scatter"
           }
          ],
          "scatter3d": [
           {
            "line": {
             "colorbar": {
              "outlinewidth": 0,
              "ticks": ""
             }
            },
            "marker": {
             "colorbar": {
              "outlinewidth": 0,
              "ticks": ""
             }
            },
            "type": "scatter3d"
           }
          ],
          "scattercarpet": [
           {
            "marker": {
             "colorbar": {
              "outlinewidth": 0,
              "ticks": ""
             }
            },
            "type": "scattercarpet"
           }
          ],
          "scattergeo": [
           {
            "marker": {
             "colorbar": {
              "outlinewidth": 0,
              "ticks": ""
             }
            },
            "type": "scattergeo"
           }
          ],
          "scattergl": [
           {
            "marker": {
             "colorbar": {
              "outlinewidth": 0,
              "ticks": ""
             }
            },
            "type": "scattergl"
           }
          ],
          "scattermap": [
           {
            "marker": {
             "colorbar": {
              "outlinewidth": 0,
              "ticks": ""
             }
            },
            "type": "scattermap"
           }
          ],
          "scattermapbox": [
           {
            "marker": {
             "colorbar": {
              "outlinewidth": 0,
              "ticks": ""
             }
            },
            "type": "scattermapbox"
           }
          ],
          "scatterpolar": [
           {
            "marker": {
             "colorbar": {
              "outlinewidth": 0,
              "ticks": ""
             }
            },
            "type": "scatterpolar"
           }
          ],
          "scatterpolargl": [
           {
            "marker": {
             "colorbar": {
              "outlinewidth": 0,
              "ticks": ""
             }
            },
            "type": "scatterpolargl"
           }
          ],
          "scatterternary": [
           {
            "marker": {
             "colorbar": {
              "outlinewidth": 0,
              "ticks": ""
             }
            },
            "type": "scatterternary"
           }
          ],
          "surface": [
           {
            "colorbar": {
             "outlinewidth": 0,
             "ticks": ""
            },
            "colorscale": [
             [
              0,
              "#0d0887"
             ],
             [
              0.1111111111111111,
              "#46039f"
             ],
             [
              0.2222222222222222,
              "#7201a8"
             ],
             [
              0.3333333333333333,
              "#9c179e"
             ],
             [
              0.4444444444444444,
              "#bd3786"
             ],
             [
              0.5555555555555556,
              "#d8576b"
             ],
             [
              0.6666666666666666,
              "#ed7953"
             ],
             [
              0.7777777777777778,
              "#fb9f3a"
             ],
             [
              0.8888888888888888,
              "#fdca26"
             ],
             [
              1,
              "#f0f921"
             ]
            ],
            "type": "surface"
           }
          ],
          "table": [
           {
            "cells": {
             "fill": {
              "color": "#EBF0F8"
             },
             "line": {
              "color": "white"
             }
            },
            "header": {
             "fill": {
              "color": "#C8D4E3"
             },
             "line": {
              "color": "white"
             }
            },
            "type": "table"
           }
          ]
         },
         "layout": {
          "annotationdefaults": {
           "arrowcolor": "#2a3f5f",
           "arrowhead": 0,
           "arrowwidth": 1
          },
          "autotypenumbers": "strict",
          "coloraxis": {
           "colorbar": {
            "outlinewidth": 0,
            "ticks": ""
           }
          },
          "colorscale": {
           "diverging": [
            [
             0,
             "#8e0152"
            ],
            [
             0.1,
             "#c51b7d"
            ],
            [
             0.2,
             "#de77ae"
            ],
            [
             0.3,
             "#f1b6da"
            ],
            [
             0.4,
             "#fde0ef"
            ],
            [
             0.5,
             "#f7f7f7"
            ],
            [
             0.6,
             "#e6f5d0"
            ],
            [
             0.7,
             "#b8e186"
            ],
            [
             0.8,
             "#7fbc41"
            ],
            [
             0.9,
             "#4d9221"
            ],
            [
             1,
             "#276419"
            ]
           ],
           "sequential": [
            [
             0,
             "#0d0887"
            ],
            [
             0.1111111111111111,
             "#46039f"
            ],
            [
             0.2222222222222222,
             "#7201a8"
            ],
            [
             0.3333333333333333,
             "#9c179e"
            ],
            [
             0.4444444444444444,
             "#bd3786"
            ],
            [
             0.5555555555555556,
             "#d8576b"
            ],
            [
             0.6666666666666666,
             "#ed7953"
            ],
            [
             0.7777777777777778,
             "#fb9f3a"
            ],
            [
             0.8888888888888888,
             "#fdca26"
            ],
            [
             1,
             "#f0f921"
            ]
           ],
           "sequentialminus": [
            [
             0,
             "#0d0887"
            ],
            [
             0.1111111111111111,
             "#46039f"
            ],
            [
             0.2222222222222222,
             "#7201a8"
            ],
            [
             0.3333333333333333,
             "#9c179e"
            ],
            [
             0.4444444444444444,
             "#bd3786"
            ],
            [
             0.5555555555555556,
             "#d8576b"
            ],
            [
             0.6666666666666666,
             "#ed7953"
            ],
            [
             0.7777777777777778,
             "#fb9f3a"
            ],
            [
             0.8888888888888888,
             "#fdca26"
            ],
            [
             1,
             "#f0f921"
            ]
           ]
          },
          "colorway": [
           "#636efa",
           "#EF553B",
           "#00cc96",
           "#ab63fa",
           "#FFA15A",
           "#19d3f3",
           "#FF6692",
           "#B6E880",
           "#FF97FF",
           "#FECB52"
          ],
          "font": {
           "color": "#2a3f5f"
          },
          "geo": {
           "bgcolor": "white",
           "lakecolor": "white",
           "landcolor": "#E5ECF6",
           "showlakes": true,
           "showland": true,
           "subunitcolor": "white"
          },
          "hoverlabel": {
           "align": "left"
          },
          "hovermode": "closest",
          "mapbox": {
           "style": "light"
          },
          "paper_bgcolor": "white",
          "plot_bgcolor": "#E5ECF6",
          "polar": {
           "angularaxis": {
            "gridcolor": "white",
            "linecolor": "white",
            "ticks": ""
           },
           "bgcolor": "#E5ECF6",
           "radialaxis": {
            "gridcolor": "white",
            "linecolor": "white",
            "ticks": ""
           }
          },
          "scene": {
           "xaxis": {
            "backgroundcolor": "#E5ECF6",
            "gridcolor": "white",
            "gridwidth": 2,
            "linecolor": "white",
            "showbackground": true,
            "ticks": "",
            "zerolinecolor": "white"
           },
           "yaxis": {
            "backgroundcolor": "#E5ECF6",
            "gridcolor": "white",
            "gridwidth": 2,
            "linecolor": "white",
            "showbackground": true,
            "ticks": "",
            "zerolinecolor": "white"
           },
           "zaxis": {
            "backgroundcolor": "#E5ECF6",
            "gridcolor": "white",
            "gridwidth": 2,
            "linecolor": "white",
            "showbackground": true,
            "ticks": "",
            "zerolinecolor": "white"
           }
          },
          "shapedefaults": {
           "line": {
            "color": "#2a3f5f"
           }
          },
          "ternary": {
           "aaxis": {
            "gridcolor": "white",
            "linecolor": "white",
            "ticks": ""
           },
           "baxis": {
            "gridcolor": "white",
            "linecolor": "white",
            "ticks": ""
           },
           "bgcolor": "#E5ECF6",
           "caxis": {
            "gridcolor": "white",
            "linecolor": "white",
            "ticks": ""
           }
          },
          "title": {
           "x": 0.05
          },
          "xaxis": {
           "automargin": true,
           "gridcolor": "white",
           "linecolor": "white",
           "ticks": "",
           "title": {
            "standoff": 15
           },
           "zerolinecolor": "white",
           "zerolinewidth": 2
          },
          "yaxis": {
           "automargin": true,
           "gridcolor": "white",
           "linecolor": "white",
           "ticks": "",
           "title": {
            "standoff": 15
           },
           "zerolinecolor": "white",
           "zerolinewidth": 2
          }
         }
        },
        "title": {
         "text": "Observation_all"
        },
        "xaxis": {
         "anchor": "y",
         "domain": [
          0,
          0.44
         ]
        },
        "xaxis2": {
         "anchor": "y2",
         "domain": [
          0.54,
          0.98
         ]
        },
        "xaxis3": {
         "anchor": "y3",
         "domain": [
          0,
          0.44
         ]
        },
        "xaxis4": {
         "anchor": "y4",
         "domain": [
          0.54,
          0.98
         ]
        },
        "yaxis": {
         "anchor": "x",
         "domain": [
          0.55,
          1
         ]
        },
        "yaxis2": {
         "anchor": "x2",
         "domain": [
          0.55,
          1
         ]
        },
        "yaxis3": {
         "anchor": "x3",
         "domain": [
          0,
          0.45
         ]
        },
        "yaxis4": {
         "anchor": "x4",
         "domain": [
          0,
          0.45
         ]
        }
       }
      }
     },
     "metadata": {},
     "output_type": "display_data"
    },
    {
     "data": {
      "application/vnd.plotly.v1+json": {
       "config": {
        "plotlyServerURL": "https://plot.ly"
       },
       "data": [
        {
         "line": {
          "color": "firebrick",
          "dash": "solid",
          "width": 2
         },
         "mode": "lines",
         "name": "Predicted day layer 0",
         "type": "scatter",
         "x": [
          "2023-01-01T00:00:00.000000000",
          "2023-01-02T00:00:00.000000000",
          "2023-01-03T00:00:00.000000000",
          "2023-01-04T00:00:00.000000000",
          "2023-01-05T00:00:00.000000000",
          "2023-01-06T00:00:00.000000000",
          "2023-01-07T00:00:00.000000000",
          "2023-01-08T00:00:00.000000000",
          "2023-01-09T00:00:00.000000000",
          "2023-01-10T00:00:00.000000000",
          "2023-01-11T00:00:00.000000000",
          "2023-01-12T00:00:00.000000000",
          "2023-01-13T00:00:00.000000000",
          "2023-01-14T00:00:00.000000000",
          "2023-01-15T00:00:00.000000000",
          "2023-01-16T00:00:00.000000000",
          "2023-01-17T00:00:00.000000000",
          "2023-01-18T00:00:00.000000000",
          "2023-01-19T00:00:00.000000000",
          "2023-01-20T00:00:00.000000000",
          "2023-01-21T00:00:00.000000000",
          "2023-01-22T00:00:00.000000000",
          "2023-01-23T00:00:00.000000000",
          "2023-01-24T00:00:00.000000000",
          "2023-01-25T00:00:00.000000000",
          "2023-01-26T00:00:00.000000000",
          "2023-01-27T00:00:00.000000000",
          "2023-01-28T00:00:00.000000000",
          "2023-01-29T00:00:00.000000000",
          "2023-01-30T00:00:00.000000000",
          "2023-01-31T00:00:00.000000000",
          "2023-02-01T00:00:00.000000000",
          "2023-02-02T00:00:00.000000000",
          "2023-02-03T00:00:00.000000000",
          "2023-02-04T00:00:00.000000000",
          "2023-02-05T00:00:00.000000000",
          "2023-02-06T00:00:00.000000000",
          "2023-02-07T00:00:00.000000000",
          "2023-02-08T00:00:00.000000000",
          "2023-02-09T00:00:00.000000000",
          "2023-02-10T00:00:00.000000000",
          "2023-02-11T00:00:00.000000000",
          "2023-02-12T00:00:00.000000000",
          "2023-02-13T00:00:00.000000000",
          "2023-02-14T00:00:00.000000000",
          "2023-02-15T00:00:00.000000000",
          "2023-02-16T00:00:00.000000000",
          "2023-02-17T00:00:00.000000000",
          "2023-02-18T00:00:00.000000000",
          "2023-02-19T00:00:00.000000000",
          "2023-02-20T00:00:00.000000000",
          "2023-02-21T00:00:00.000000000",
          "2023-02-22T00:00:00.000000000",
          "2023-02-23T00:00:00.000000000",
          "2023-02-24T00:00:00.000000000",
          "2023-02-25T00:00:00.000000000",
          "2023-02-26T00:00:00.000000000",
          "2023-02-27T00:00:00.000000000",
          "2023-02-28T00:00:00.000000000",
          "2023-03-01T00:00:00.000000000",
          "2023-03-02T00:00:00.000000000",
          "2023-03-03T00:00:00.000000000",
          "2023-03-04T00:00:00.000000000",
          "2023-03-05T00:00:00.000000000",
          "2023-03-06T00:00:00.000000000",
          "2023-03-07T00:00:00.000000000",
          "2023-03-08T00:00:00.000000000",
          "2023-03-09T00:00:00.000000000",
          "2023-03-10T00:00:00.000000000",
          "2023-03-11T00:00:00.000000000",
          "2023-03-12T00:00:00.000000000",
          "2023-03-13T00:00:00.000000000",
          "2023-03-14T00:00:00.000000000",
          "2023-03-15T00:00:00.000000000",
          "2023-03-16T00:00:00.000000000",
          "2023-03-17T00:00:00.000000000",
          "2023-03-18T00:00:00.000000000",
          "2023-03-19T00:00:00.000000000",
          "2023-03-20T00:00:00.000000000",
          "2023-03-21T00:00:00.000000000",
          "2023-03-22T00:00:00.000000000",
          "2023-03-23T00:00:00.000000000",
          "2023-03-24T00:00:00.000000000",
          "2023-03-25T00:00:00.000000000",
          "2023-03-26T00:00:00.000000000",
          "2023-03-27T00:00:00.000000000",
          "2023-03-28T00:00:00.000000000",
          "2023-03-29T00:00:00.000000000",
          "2023-03-30T00:00:00.000000000",
          "2023-03-31T00:00:00.000000000",
          "2023-04-01T00:00:00.000000000",
          "2023-04-02T00:00:00.000000000",
          "2023-04-03T00:00:00.000000000",
          "2023-04-04T00:00:00.000000000",
          "2023-04-05T00:00:00.000000000",
          "2023-04-06T00:00:00.000000000",
          "2023-04-07T00:00:00.000000000",
          "2023-04-08T00:00:00.000000000",
          "2023-04-09T00:00:00.000000000",
          "2023-04-10T00:00:00.000000000",
          "2023-04-11T00:00:00.000000000",
          "2023-04-12T00:00:00.000000000",
          "2023-04-13T00:00:00.000000000",
          "2023-04-14T00:00:00.000000000",
          "2023-04-15T00:00:00.000000000",
          "2023-04-16T00:00:00.000000000",
          "2023-04-17T00:00:00.000000000",
          "2023-04-18T00:00:00.000000000",
          "2023-04-19T00:00:00.000000000",
          "2023-04-20T00:00:00.000000000",
          "2023-04-21T00:00:00.000000000",
          "2023-04-22T00:00:00.000000000",
          "2023-04-23T00:00:00.000000000",
          "2023-04-24T00:00:00.000000000",
          "2023-04-25T00:00:00.000000000",
          "2023-04-26T00:00:00.000000000",
          "2023-04-27T00:00:00.000000000",
          "2023-04-28T00:00:00.000000000",
          "2023-04-29T00:00:00.000000000",
          "2023-04-30T00:00:00.000000000",
          "2023-05-01T00:00:00.000000000",
          "2023-05-02T00:00:00.000000000",
          "2023-05-03T00:00:00.000000000",
          "2023-05-04T00:00:00.000000000",
          "2023-05-05T00:00:00.000000000",
          "2023-05-06T00:00:00.000000000",
          "2023-05-07T00:00:00.000000000",
          "2023-05-08T00:00:00.000000000",
          "2023-05-09T00:00:00.000000000",
          "2023-05-10T00:00:00.000000000",
          "2023-05-11T00:00:00.000000000",
          "2023-05-12T00:00:00.000000000",
          "2023-05-13T00:00:00.000000000",
          "2023-05-14T00:00:00.000000000",
          "2023-05-15T00:00:00.000000000",
          "2023-05-16T00:00:00.000000000",
          "2023-05-17T00:00:00.000000000",
          "2023-05-18T00:00:00.000000000",
          "2023-05-19T00:00:00.000000000",
          "2023-05-20T00:00:00.000000000",
          "2023-05-21T00:00:00.000000000",
          "2023-05-22T00:00:00.000000000",
          "2023-05-23T00:00:00.000000000",
          "2023-05-24T00:00:00.000000000",
          "2023-05-25T00:00:00.000000000",
          "2023-05-26T00:00:00.000000000",
          "2023-05-27T00:00:00.000000000",
          "2023-05-28T00:00:00.000000000",
          "2023-05-29T00:00:00.000000000",
          "2023-05-30T00:00:00.000000000",
          "2023-05-31T00:00:00.000000000",
          "2023-06-01T00:00:00.000000000",
          "2023-06-02T00:00:00.000000000",
          "2023-06-03T00:00:00.000000000",
          "2023-06-04T00:00:00.000000000",
          "2023-06-05T00:00:00.000000000",
          "2023-06-06T00:00:00.000000000",
          "2023-06-07T00:00:00.000000000",
          "2023-06-08T00:00:00.000000000",
          "2023-06-09T00:00:00.000000000",
          "2023-06-10T00:00:00.000000000",
          "2023-06-11T00:00:00.000000000",
          "2023-06-12T00:00:00.000000000",
          "2023-06-13T00:00:00.000000000",
          "2023-06-14T00:00:00.000000000",
          "2023-06-15T00:00:00.000000000",
          "2023-06-16T00:00:00.000000000",
          "2023-06-17T00:00:00.000000000",
          "2023-06-18T00:00:00.000000000",
          "2023-06-19T00:00:00.000000000",
          "2023-06-20T00:00:00.000000000",
          "2023-06-21T00:00:00.000000000",
          "2023-06-22T00:00:00.000000000",
          "2023-06-23T00:00:00.000000000",
          "2023-06-24T00:00:00.000000000",
          "2023-06-25T00:00:00.000000000",
          "2023-06-26T00:00:00.000000000",
          "2023-06-27T00:00:00.000000000",
          "2023-06-28T00:00:00.000000000",
          "2023-06-29T00:00:00.000000000",
          "2023-06-30T00:00:00.000000000",
          "2023-07-01T00:00:00.000000000",
          "2023-07-02T00:00:00.000000000",
          "2023-07-03T00:00:00.000000000",
          "2023-07-04T00:00:00.000000000",
          "2023-07-05T00:00:00.000000000",
          "2023-07-06T00:00:00.000000000",
          "2023-07-07T00:00:00.000000000",
          "2023-07-08T00:00:00.000000000",
          "2023-07-09T00:00:00.000000000",
          "2023-07-10T00:00:00.000000000",
          "2023-07-11T00:00:00.000000000",
          "2023-07-12T00:00:00.000000000",
          "2023-07-13T00:00:00.000000000",
          "2023-07-14T00:00:00.000000000",
          "2023-07-15T00:00:00.000000000",
          "2023-07-16T00:00:00.000000000",
          "2023-07-17T00:00:00.000000000",
          "2023-07-18T00:00:00.000000000",
          "2023-07-19T00:00:00.000000000",
          "2023-07-20T00:00:00.000000000",
          "2023-07-21T00:00:00.000000000",
          "2023-07-22T00:00:00.000000000",
          "2023-07-23T00:00:00.000000000",
          "2023-07-24T00:00:00.000000000",
          "2023-07-25T00:00:00.000000000",
          "2023-07-26T00:00:00.000000000",
          "2023-07-27T00:00:00.000000000",
          "2023-07-28T00:00:00.000000000",
          "2023-07-29T00:00:00.000000000",
          "2023-07-30T00:00:00.000000000",
          "2023-07-31T00:00:00.000000000",
          "2023-08-01T00:00:00.000000000",
          "2023-08-02T00:00:00.000000000",
          "2023-08-03T00:00:00.000000000",
          "2023-08-04T00:00:00.000000000",
          "2023-08-05T00:00:00.000000000",
          "2023-08-06T00:00:00.000000000",
          "2023-08-07T00:00:00.000000000",
          "2023-08-08T00:00:00.000000000",
          "2023-08-09T00:00:00.000000000",
          "2023-08-10T00:00:00.000000000",
          "2023-08-11T00:00:00.000000000",
          "2023-08-12T00:00:00.000000000",
          "2023-08-13T00:00:00.000000000",
          "2023-08-14T00:00:00.000000000",
          "2023-08-15T00:00:00.000000000",
          "2023-08-16T00:00:00.000000000",
          "2023-08-17T00:00:00.000000000",
          "2023-08-18T00:00:00.000000000",
          "2023-08-19T00:00:00.000000000",
          "2023-08-20T00:00:00.000000000",
          "2023-08-21T00:00:00.000000000",
          "2023-08-22T00:00:00.000000000",
          "2023-08-23T00:00:00.000000000",
          "2023-08-24T00:00:00.000000000",
          "2023-08-25T00:00:00.000000000",
          "2023-08-26T00:00:00.000000000",
          "2023-08-27T00:00:00.000000000",
          "2023-08-28T00:00:00.000000000",
          "2023-08-29T00:00:00.000000000",
          "2023-08-30T00:00:00.000000000",
          "2023-08-31T00:00:00.000000000",
          "2023-09-01T00:00:00.000000000",
          "2023-09-02T00:00:00.000000000",
          "2023-09-03T00:00:00.000000000",
          "2023-09-04T00:00:00.000000000",
          "2023-09-05T00:00:00.000000000",
          "2023-09-06T00:00:00.000000000",
          "2023-09-07T00:00:00.000000000",
          "2023-09-08T00:00:00.000000000",
          "2023-09-09T00:00:00.000000000",
          "2023-09-10T00:00:00.000000000",
          "2023-09-11T00:00:00.000000000",
          "2023-09-12T00:00:00.000000000",
          "2023-09-13T00:00:00.000000000",
          "2023-09-14T00:00:00.000000000",
          "2023-09-15T00:00:00.000000000",
          "2023-09-16T00:00:00.000000000",
          "2023-09-17T00:00:00.000000000",
          "2023-09-18T00:00:00.000000000",
          "2023-09-19T00:00:00.000000000",
          "2023-09-20T00:00:00.000000000",
          "2023-09-21T00:00:00.000000000",
          "2023-09-22T00:00:00.000000000",
          "2023-09-23T00:00:00.000000000",
          "2023-09-24T00:00:00.000000000",
          "2023-09-25T00:00:00.000000000",
          "2023-09-26T00:00:00.000000000",
          "2023-09-27T00:00:00.000000000",
          "2023-09-28T00:00:00.000000000",
          "2023-09-29T00:00:00.000000000",
          "2023-09-30T00:00:00.000000000",
          "2023-10-01T00:00:00.000000000",
          "2023-10-02T00:00:00.000000000",
          "2023-10-03T00:00:00.000000000",
          "2023-10-04T00:00:00.000000000",
          "2023-10-05T00:00:00.000000000",
          "2023-10-06T00:00:00.000000000",
          "2023-10-07T00:00:00.000000000",
          "2023-10-08T00:00:00.000000000",
          "2023-10-09T00:00:00.000000000",
          "2023-10-10T00:00:00.000000000",
          "2023-10-11T00:00:00.000000000",
          "2023-10-12T00:00:00.000000000",
          "2023-10-13T00:00:00.000000000",
          "2023-10-14T00:00:00.000000000",
          "2023-10-15T00:00:00.000000000",
          "2023-10-16T00:00:00.000000000",
          "2023-10-17T00:00:00.000000000",
          "2023-10-18T00:00:00.000000000",
          "2023-10-19T00:00:00.000000000",
          "2023-10-20T00:00:00.000000000",
          "2023-10-21T00:00:00.000000000",
          "2023-10-22T00:00:00.000000000",
          "2023-10-23T00:00:00.000000000",
          "2023-10-24T00:00:00.000000000",
          "2023-10-25T00:00:00.000000000",
          "2023-10-26T00:00:00.000000000",
          "2023-10-27T00:00:00.000000000",
          "2023-10-28T00:00:00.000000000",
          "2023-10-29T00:00:00.000000000",
          "2023-10-30T00:00:00.000000000",
          "2023-10-31T00:00:00.000000000",
          "2023-11-01T00:00:00.000000000",
          "2023-11-02T00:00:00.000000000",
          "2023-11-03T00:00:00.000000000",
          "2023-11-04T00:00:00.000000000",
          "2023-11-05T00:00:00.000000000",
          "2023-11-06T00:00:00.000000000",
          "2023-11-07T00:00:00.000000000",
          "2023-11-08T00:00:00.000000000",
          "2023-11-09T00:00:00.000000000",
          "2023-11-10T00:00:00.000000000",
          "2023-11-11T00:00:00.000000000",
          "2023-11-12T00:00:00.000000000",
          "2023-11-13T00:00:00.000000000",
          "2023-11-14T00:00:00.000000000",
          "2023-11-15T00:00:00.000000000",
          "2023-11-16T00:00:00.000000000",
          "2023-11-17T00:00:00.000000000",
          "2023-11-18T00:00:00.000000000",
          "2023-11-19T00:00:00.000000000",
          "2023-11-20T00:00:00.000000000",
          "2023-11-21T00:00:00.000000000",
          "2023-11-22T00:00:00.000000000",
          "2023-11-23T00:00:00.000000000",
          "2023-11-24T00:00:00.000000000",
          "2023-11-25T00:00:00.000000000",
          "2023-11-26T00:00:00.000000000",
          "2023-11-27T00:00:00.000000000",
          "2023-11-28T00:00:00.000000000",
          "2023-11-29T00:00:00.000000000",
          "2023-11-30T00:00:00.000000000",
          "2023-12-01T00:00:00.000000000",
          "2023-12-02T00:00:00.000000000",
          "2023-12-03T00:00:00.000000000",
          "2023-12-04T00:00:00.000000000",
          "2023-12-05T00:00:00.000000000",
          "2023-12-06T00:00:00.000000000",
          "2023-12-07T00:00:00.000000000",
          "2023-12-08T00:00:00.000000000",
          "2023-12-09T00:00:00.000000000",
          "2023-12-10T00:00:00.000000000",
          "2023-12-11T00:00:00.000000000",
          "2023-12-12T00:00:00.000000000",
          "2023-12-13T00:00:00.000000000",
          "2023-12-14T00:00:00.000000000",
          "2023-12-15T00:00:00.000000000",
          "2023-12-16T00:00:00.000000000",
          "2023-12-17T00:00:00.000000000",
          "2023-12-18T00:00:00.000000000",
          "2023-12-19T00:00:00.000000000",
          "2023-12-20T00:00:00.000000000",
          "2023-12-21T00:00:00.000000000",
          "2023-12-22T00:00:00.000000000",
          "2023-12-23T00:00:00.000000000",
          "2023-12-24T00:00:00.000000000",
          "2023-12-25T00:00:00.000000000",
          "2023-12-26T00:00:00.000000000"
         ],
         "xaxis": "x",
         "y": {
          "bdata": "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",
          "dtype": "f8"
         },
         "yaxis": "y"
        },
        {
         "fill": "toself",
         "fillcolor": "rgba(174,30,36,0.3)",
         "line": {
          "color": "rgba(0,0,0,0)"
         },
         "name": "day layer 0 : 10 best individuals",
         "type": "scatter",
         "x": [
          "2023-01-01T00:00:00.000000000",
          "2023-01-02T00:00:00.000000000",
          "2023-01-03T00:00:00.000000000",
          "2023-01-04T00:00:00.000000000",
          "2023-01-05T00:00:00.000000000",
          "2023-01-06T00:00:00.000000000",
          "2023-01-07T00:00:00.000000000",
          "2023-01-08T00:00:00.000000000",
          "2023-01-09T00:00:00.000000000",
          "2023-01-10T00:00:00.000000000",
          "2023-01-11T00:00:00.000000000",
          "2023-01-12T00:00:00.000000000",
          "2023-01-13T00:00:00.000000000",
          "2023-01-14T00:00:00.000000000",
          "2023-01-15T00:00:00.000000000",
          "2023-01-16T00:00:00.000000000",
          "2023-01-17T00:00:00.000000000",
          "2023-01-18T00:00:00.000000000",
          "2023-01-19T00:00:00.000000000",
          "2023-01-20T00:00:00.000000000",
          "2023-01-21T00:00:00.000000000",
          "2023-01-22T00:00:00.000000000",
          "2023-01-23T00:00:00.000000000",
          "2023-01-24T00:00:00.000000000",
          "2023-01-25T00:00:00.000000000",
          "2023-01-26T00:00:00.000000000",
          "2023-01-27T00:00:00.000000000",
          "2023-01-28T00:00:00.000000000",
          "2023-01-29T00:00:00.000000000",
          "2023-01-30T00:00:00.000000000",
          "2023-01-31T00:00:00.000000000",
          "2023-02-01T00:00:00.000000000",
          "2023-02-02T00:00:00.000000000",
          "2023-02-03T00:00:00.000000000",
          "2023-02-04T00:00:00.000000000",
          "2023-02-05T00:00:00.000000000",
          "2023-02-06T00:00:00.000000000",
          "2023-02-07T00:00:00.000000000",
          "2023-02-08T00:00:00.000000000",
          "2023-02-09T00:00:00.000000000",
          "2023-02-10T00:00:00.000000000",
          "2023-02-11T00:00:00.000000000",
          "2023-02-12T00:00:00.000000000",
          "2023-02-13T00:00:00.000000000",
          "2023-02-14T00:00:00.000000000",
          "2023-02-15T00:00:00.000000000",
          "2023-02-16T00:00:00.000000000",
          "2023-02-17T00:00:00.000000000",
          "2023-02-18T00:00:00.000000000",
          "2023-02-19T00:00:00.000000000",
          "2023-02-20T00:00:00.000000000",
          "2023-02-21T00:00:00.000000000",
          "2023-02-22T00:00:00.000000000",
          "2023-02-23T00:00:00.000000000",
          "2023-02-24T00:00:00.000000000",
          "2023-02-25T00:00:00.000000000",
          "2023-02-26T00:00:00.000000000",
          "2023-02-27T00:00:00.000000000",
          "2023-02-28T00:00:00.000000000",
          "2023-03-01T00:00:00.000000000",
          "2023-03-02T00:00:00.000000000",
          "2023-03-03T00:00:00.000000000",
          "2023-03-04T00:00:00.000000000",
          "2023-03-05T00:00:00.000000000",
          "2023-03-06T00:00:00.000000000",
          "2023-03-07T00:00:00.000000000",
          "2023-03-08T00:00:00.000000000",
          "2023-03-09T00:00:00.000000000",
          "2023-03-10T00:00:00.000000000",
          "2023-03-11T00:00:00.000000000",
          "2023-03-12T00:00:00.000000000",
          "2023-03-13T00:00:00.000000000",
          "2023-03-14T00:00:00.000000000",
          "2023-03-15T00:00:00.000000000",
          "2023-03-16T00:00:00.000000000",
          "2023-03-17T00:00:00.000000000",
          "2023-03-18T00:00:00.000000000",
          "2023-03-19T00:00:00.000000000",
          "2023-03-20T00:00:00.000000000",
          "2023-03-21T00:00:00.000000000",
          "2023-03-22T00:00:00.000000000",
          "2023-03-23T00:00:00.000000000",
          "2023-03-24T00:00:00.000000000",
          "2023-03-25T00:00:00.000000000",
          "2023-03-26T00:00:00.000000000",
          "2023-03-27T00:00:00.000000000",
          "2023-03-28T00:00:00.000000000",
          "2023-03-29T00:00:00.000000000",
          "2023-03-30T00:00:00.000000000",
          "2023-03-31T00:00:00.000000000",
          "2023-04-01T00:00:00.000000000",
          "2023-04-02T00:00:00.000000000",
          "2023-04-03T00:00:00.000000000",
          "2023-04-04T00:00:00.000000000",
          "2023-04-05T00:00:00.000000000",
          "2023-04-06T00:00:00.000000000",
          "2023-04-07T00:00:00.000000000",
          "2023-04-08T00:00:00.000000000",
          "2023-04-09T00:00:00.000000000",
          "2023-04-10T00:00:00.000000000",
          "2023-04-11T00:00:00.000000000",
          "2023-04-12T00:00:00.000000000",
          "2023-04-13T00:00:00.000000000",
          "2023-04-14T00:00:00.000000000",
          "2023-04-15T00:00:00.000000000",
          "2023-04-16T00:00:00.000000000",
          "2023-04-17T00:00:00.000000000",
          "2023-04-18T00:00:00.000000000",
          "2023-04-19T00:00:00.000000000",
          "2023-04-20T00:00:00.000000000",
          "2023-04-21T00:00:00.000000000",
          "2023-04-22T00:00:00.000000000",
          "2023-04-23T00:00:00.000000000",
          "2023-04-24T00:00:00.000000000",
          "2023-04-25T00:00:00.000000000",
          "2023-04-26T00:00:00.000000000",
          "2023-04-27T00:00:00.000000000",
          "2023-04-28T00:00:00.000000000",
          "2023-04-29T00:00:00.000000000",
          "2023-04-30T00:00:00.000000000",
          "2023-05-01T00:00:00.000000000",
          "2023-05-02T00:00:00.000000000",
          "2023-05-03T00:00:00.000000000",
          "2023-05-04T00:00:00.000000000",
          "2023-05-05T00:00:00.000000000",
          "2023-05-06T00:00:00.000000000",
          "2023-05-07T00:00:00.000000000",
          "2023-05-08T00:00:00.000000000",
          "2023-05-09T00:00:00.000000000",
          "2023-05-10T00:00:00.000000000",
          "2023-05-11T00:00:00.000000000",
          "2023-05-12T00:00:00.000000000",
          "2023-05-13T00:00:00.000000000",
          "2023-05-14T00:00:00.000000000",
          "2023-05-15T00:00:00.000000000",
          "2023-05-16T00:00:00.000000000",
          "2023-05-17T00:00:00.000000000",
          "2023-05-18T00:00:00.000000000",
          "2023-05-19T00:00:00.000000000",
          "2023-05-20T00:00:00.000000000",
          "2023-05-21T00:00:00.000000000",
          "2023-05-22T00:00:00.000000000",
          "2023-05-23T00:00:00.000000000",
          "2023-05-24T00:00:00.000000000",
          "2023-05-25T00:00:00.000000000",
          "2023-05-26T00:00:00.000000000",
          "2023-05-27T00:00:00.000000000",
          "2023-05-28T00:00:00.000000000",
          "2023-05-29T00:00:00.000000000",
          "2023-05-30T00:00:00.000000000",
          "2023-05-31T00:00:00.000000000",
          "2023-06-01T00:00:00.000000000",
          "2023-06-02T00:00:00.000000000",
          "2023-06-03T00:00:00.000000000",
          "2023-06-04T00:00:00.000000000",
          "2023-06-05T00:00:00.000000000",
          "2023-06-06T00:00:00.000000000",
          "2023-06-07T00:00:00.000000000",
          "2023-06-08T00:00:00.000000000",
          "2023-06-09T00:00:00.000000000",
          "2023-06-10T00:00:00.000000000",
          "2023-06-11T00:00:00.000000000",
          "2023-06-12T00:00:00.000000000",
          "2023-06-13T00:00:00.000000000",
          "2023-06-14T00:00:00.000000000",
          "2023-06-15T00:00:00.000000000",
          "2023-06-16T00:00:00.000000000",
          "2023-06-17T00:00:00.000000000",
          "2023-06-18T00:00:00.000000000",
          "2023-06-19T00:00:00.000000000",
          "2023-06-20T00:00:00.000000000",
          "2023-06-21T00:00:00.000000000",
          "2023-06-22T00:00:00.000000000",
          "2023-06-23T00:00:00.000000000",
          "2023-06-24T00:00:00.000000000",
          "2023-06-25T00:00:00.000000000",
          "2023-06-26T00:00:00.000000000",
          "2023-06-27T00:00:00.000000000",
          "2023-06-28T00:00:00.000000000",
          "2023-06-29T00:00:00.000000000",
          "2023-06-30T00:00:00.000000000",
          "2023-07-01T00:00:00.000000000",
          "2023-07-02T00:00:00.000000000",
          "2023-07-03T00:00:00.000000000",
          "2023-07-04T00:00:00.000000000",
          "2023-07-05T00:00:00.000000000",
          "2023-07-06T00:00:00.000000000",
          "2023-07-07T00:00:00.000000000",
          "2023-07-08T00:00:00.000000000",
          "2023-07-09T00:00:00.000000000",
          "2023-07-10T00:00:00.000000000",
          "2023-07-11T00:00:00.000000000",
          "2023-07-12T00:00:00.000000000",
          "2023-07-13T00:00:00.000000000",
          "2023-07-14T00:00:00.000000000",
          "2023-07-15T00:00:00.000000000",
          "2023-07-16T00:00:00.000000000",
          "2023-07-17T00:00:00.000000000",
          "2023-07-18T00:00:00.000000000",
          "2023-07-19T00:00:00.000000000",
          "2023-07-20T00:00:00.000000000",
          "2023-07-21T00:00:00.000000000",
          "2023-07-22T00:00:00.000000000",
          "2023-07-23T00:00:00.000000000",
          "2023-07-24T00:00:00.000000000",
          "2023-07-25T00:00:00.000000000",
          "2023-07-26T00:00:00.000000000",
          "2023-07-27T00:00:00.000000000",
          "2023-07-28T00:00:00.000000000",
          "2023-07-29T00:00:00.000000000",
          "2023-07-30T00:00:00.000000000",
          "2023-07-31T00:00:00.000000000",
          "2023-08-01T00:00:00.000000000",
          "2023-08-02T00:00:00.000000000",
          "2023-08-03T00:00:00.000000000",
          "2023-08-04T00:00:00.000000000",
          "2023-08-05T00:00:00.000000000",
          "2023-08-06T00:00:00.000000000",
          "2023-08-07T00:00:00.000000000",
          "2023-08-08T00:00:00.000000000",
          "2023-08-09T00:00:00.000000000",
          "2023-08-10T00:00:00.000000000",
          "2023-08-11T00:00:00.000000000",
          "2023-08-12T00:00:00.000000000",
          "2023-08-13T00:00:00.000000000",
          "2023-08-14T00:00:00.000000000",
          "2023-08-15T00:00:00.000000000",
          "2023-08-16T00:00:00.000000000",
          "2023-08-17T00:00:00.000000000",
          "2023-08-18T00:00:00.000000000",
          "2023-08-19T00:00:00.000000000",
          "2023-08-20T00:00:00.000000000",
          "2023-08-21T00:00:00.000000000",
          "2023-08-22T00:00:00.000000000",
          "2023-08-23T00:00:00.000000000",
          "2023-08-24T00:00:00.000000000",
          "2023-08-25T00:00:00.000000000",
          "2023-08-26T00:00:00.000000000",
          "2023-08-27T00:00:00.000000000",
          "2023-08-28T00:00:00.000000000",
          "2023-08-29T00:00:00.000000000",
          "2023-08-30T00:00:00.000000000",
          "2023-08-31T00:00:00.000000000",
          "2023-09-01T00:00:00.000000000",
          "2023-09-02T00:00:00.000000000",
          "2023-09-03T00:00:00.000000000",
          "2023-09-04T00:00:00.000000000",
          "2023-09-05T00:00:00.000000000",
          "2023-09-06T00:00:00.000000000",
          "2023-09-07T00:00:00.000000000",
          "2023-09-08T00:00:00.000000000",
          "2023-09-09T00:00:00.000000000",
          "2023-09-10T00:00:00.000000000",
          "2023-09-11T00:00:00.000000000",
          "2023-09-12T00:00:00.000000000",
          "2023-09-13T00:00:00.000000000",
          "2023-09-14T00:00:00.000000000",
          "2023-09-15T00:00:00.000000000",
          "2023-09-16T00:00:00.000000000",
          "2023-09-17T00:00:00.000000000",
          "2023-09-18T00:00:00.000000000",
          "2023-09-19T00:00:00.000000000",
          "2023-09-20T00:00:00.000000000",
          "2023-09-21T00:00:00.000000000",
          "2023-09-22T00:00:00.000000000",
          "2023-09-23T00:00:00.000000000",
          "2023-09-24T00:00:00.000000000",
          "2023-09-25T00:00:00.000000000",
          "2023-09-26T00:00:00.000000000",
          "2023-09-27T00:00:00.000000000",
          "2023-09-28T00:00:00.000000000",
          "2023-09-29T00:00:00.000000000",
          "2023-09-30T00:00:00.000000000",
          "2023-10-01T00:00:00.000000000",
          "2023-10-02T00:00:00.000000000",
          "2023-10-03T00:00:00.000000000",
          "2023-10-04T00:00:00.000000000",
          "2023-10-05T00:00:00.000000000",
          "2023-10-06T00:00:00.000000000",
          "2023-10-07T00:00:00.000000000",
          "2023-10-08T00:00:00.000000000",
          "2023-10-09T00:00:00.000000000",
          "2023-10-10T00:00:00.000000000",
          "2023-10-11T00:00:00.000000000",
          "2023-10-12T00:00:00.000000000",
          "2023-10-13T00:00:00.000000000",
          "2023-10-14T00:00:00.000000000",
          "2023-10-15T00:00:00.000000000",
          "2023-10-16T00:00:00.000000000",
          "2023-10-17T00:00:00.000000000",
          "2023-10-18T00:00:00.000000000",
          "2023-10-19T00:00:00.000000000",
          "2023-10-20T00:00:00.000000000",
          "2023-10-21T00:00:00.000000000",
          "2023-10-22T00:00:00.000000000",
          "2023-10-23T00:00:00.000000000",
          "2023-10-24T00:00:00.000000000",
          "2023-10-25T00:00:00.000000000",
          "2023-10-26T00:00:00.000000000",
          "2023-10-27T00:00:00.000000000",
          "2023-10-28T00:00:00.000000000",
          "2023-10-29T00:00:00.000000000",
          "2023-10-30T00:00:00.000000000",
          "2023-10-31T00:00:00.000000000",
          "2023-11-01T00:00:00.000000000",
          "2023-11-02T00:00:00.000000000",
          "2023-11-03T00:00:00.000000000",
          "2023-11-04T00:00:00.000000000",
          "2023-11-05T00:00:00.000000000",
          "2023-11-06T00:00:00.000000000",
          "2023-11-07T00:00:00.000000000",
          "2023-11-08T00:00:00.000000000",
          "2023-11-09T00:00:00.000000000",
          "2023-11-10T00:00:00.000000000",
          "2023-11-11T00:00:00.000000000",
          "2023-11-12T00:00:00.000000000",
          "2023-11-13T00:00:00.000000000",
          "2023-11-14T00:00:00.000000000",
          "2023-11-15T00:00:00.000000000",
          "2023-11-16T00:00:00.000000000",
          "2023-11-17T00:00:00.000000000",
          "2023-11-18T00:00:00.000000000",
          "2023-11-19T00:00:00.000000000",
          "2023-11-20T00:00:00.000000000",
          "2023-11-21T00:00:00.000000000",
          "2023-11-22T00:00:00.000000000",
          "2023-11-23T00:00:00.000000000",
          "2023-11-24T00:00:00.000000000",
          "2023-11-25T00:00:00.000000000",
          "2023-11-26T00:00:00.000000000",
          "2023-11-27T00:00:00.000000000",
          "2023-11-28T00:00:00.000000000",
          "2023-11-29T00:00:00.000000000",
          "2023-11-30T00:00:00.000000000",
          "2023-12-01T00:00:00.000000000",
          "2023-12-02T00:00:00.000000000",
          "2023-12-03T00:00:00.000000000",
          "2023-12-04T00:00:00.000000000",
          "2023-12-05T00:00:00.000000000",
          "2023-12-06T00:00:00.000000000",
          "2023-12-07T00:00:00.000000000",
          "2023-12-08T00:00:00.000000000",
          "2023-12-09T00:00:00.000000000",
          "2023-12-10T00:00:00.000000000",
          "2023-12-11T00:00:00.000000000",
          "2023-12-12T00:00:00.000000000",
          "2023-12-13T00:00:00.000000000",
          "2023-12-14T00:00:00.000000000",
          "2023-12-15T00:00:00.000000000",
          "2023-12-16T00:00:00.000000000",
          "2023-12-17T00:00:00.000000000",
          "2023-12-18T00:00:00.000000000",
          "2023-12-19T00:00:00.000000000",
          "2023-12-20T00:00:00.000000000",
          "2023-12-21T00:00:00.000000000",
          "2023-12-22T00:00:00.000000000",
          "2023-12-23T00:00:00.000000000",
          "2023-12-24T00:00:00.000000000",
          "2023-12-25T00:00:00.000000000",
          "2023-12-26T00:00:00.000000000",
          "2023-12-26T00:00:00.000000000",
          "2023-12-25T00:00:00.000000000",
          "2023-12-24T00:00:00.000000000",
          "2023-12-23T00:00:00.000000000",
          "2023-12-22T00:00:00.000000000",
          "2023-12-21T00:00:00.000000000",
          "2023-12-20T00:00:00.000000000",
          "2023-12-19T00:00:00.000000000",
          "2023-12-18T00:00:00.000000000",
          "2023-12-17T00:00:00.000000000",
          "2023-12-16T00:00:00.000000000",
          "2023-12-15T00:00:00.000000000",
          "2023-12-14T00:00:00.000000000",
          "2023-12-13T00:00:00.000000000",
          "2023-12-12T00:00:00.000000000",
          "2023-12-11T00:00:00.000000000",
          "2023-12-10T00:00:00.000000000",
          "2023-12-09T00:00:00.000000000",
          "2023-12-08T00:00:00.000000000",
          "2023-12-07T00:00:00.000000000",
          "2023-12-06T00:00:00.000000000",
          "2023-12-05T00:00:00.000000000",
          "2023-12-04T00:00:00.000000000",
          "2023-12-03T00:00:00.000000000",
          "2023-12-02T00:00:00.000000000",
          "2023-12-01T00:00:00.000000000",
          "2023-11-30T00:00:00.000000000",
          "2023-11-29T00:00:00.000000000",
          "2023-11-28T00:00:00.000000000",
          "2023-11-27T00:00:00.000000000",
          "2023-11-26T00:00:00.000000000",
          "2023-11-25T00:00:00.000000000",
          "2023-11-24T00:00:00.000000000",
          "2023-11-23T00:00:00.000000000",
          "2023-11-22T00:00:00.000000000",
          "2023-11-21T00:00:00.000000000",
          "2023-11-20T00:00:00.000000000",
          "2023-11-19T00:00:00.000000000",
          "2023-11-18T00:00:00.000000000",
          "2023-11-17T00:00:00.000000000",
          "2023-11-16T00:00:00.000000000",
          "2023-11-15T00:00:00.000000000",
          "2023-11-14T00:00:00.000000000",
          "2023-11-13T00:00:00.000000000",
          "2023-11-12T00:00:00.000000000",
          "2023-11-11T00:00:00.000000000",
          "2023-11-10T00:00:00.000000000",
          "2023-11-09T00:00:00.000000000",
          "2023-11-08T00:00:00.000000000",
          "2023-11-07T00:00:00.000000000",
          "2023-11-06T00:00:00.000000000",
          "2023-11-05T00:00:00.000000000",
          "2023-11-04T00:00:00.000000000",
          "2023-11-03T00:00:00.000000000",
          "2023-11-02T00:00:00.000000000",
          "2023-11-01T00:00:00.000000000",
          "2023-10-31T00:00:00.000000000",
          "2023-10-30T00:00:00.000000000",
          "2023-10-29T00:00:00.000000000",
          "2023-10-28T00:00:00.000000000",
          "2023-10-27T00:00:00.000000000",
          "2023-10-26T00:00:00.000000000",
          "2023-10-25T00:00:00.000000000",
          "2023-10-24T00:00:00.000000000",
          "2023-10-23T00:00:00.000000000",
          "2023-10-22T00:00:00.000000000",
          "2023-10-21T00:00:00.000000000",
          "2023-10-20T00:00:00.000000000",
          "2023-10-19T00:00:00.000000000",
          "2023-10-18T00:00:00.000000000",
          "2023-10-17T00:00:00.000000000",
          "2023-10-16T00:00:00.000000000",
          "2023-10-15T00:00:00.000000000",
          "2023-10-14T00:00:00.000000000",
          "2023-10-13T00:00:00.000000000",
          "2023-10-12T00:00:00.000000000",
          "2023-10-11T00:00:00.000000000",
          "2023-10-10T00:00:00.000000000",
          "2023-10-09T00:00:00.000000000",
          "2023-10-08T00:00:00.000000000",
          "2023-10-07T00:00:00.000000000",
          "2023-10-06T00:00:00.000000000",
          "2023-10-05T00:00:00.000000000",
          "2023-10-04T00:00:00.000000000",
          "2023-10-03T00:00:00.000000000",
          "2023-10-02T00:00:00.000000000",
          "2023-10-01T00:00:00.000000000",
          "2023-09-30T00:00:00.000000000",
          "2023-09-29T00:00:00.000000000",
          "2023-09-28T00:00:00.000000000",
          "2023-09-27T00:00:00.000000000",
          "2023-09-26T00:00:00.000000000",
          "2023-09-25T00:00:00.000000000",
          "2023-09-24T00:00:00.000000000",
          "2023-09-23T00:00:00.000000000",
          "2023-09-22T00:00:00.000000000",
          "2023-09-21T00:00:00.000000000",
          "2023-09-20T00:00:00.000000000",
          "2023-09-19T00:00:00.000000000",
          "2023-09-18T00:00:00.000000000",
          "2023-09-17T00:00:00.000000000",
          "2023-09-16T00:00:00.000000000",
          "2023-09-15T00:00:00.000000000",
          "2023-09-14T00:00:00.000000000",
          "2023-09-13T00:00:00.000000000",
          "2023-09-12T00:00:00.000000000",
          "2023-09-11T00:00:00.000000000",
          "2023-09-10T00:00:00.000000000",
          "2023-09-09T00:00:00.000000000",
          "2023-09-08T00:00:00.000000000",
          "2023-09-07T00:00:00.000000000",
          "2023-09-06T00:00:00.000000000",
          "2023-09-05T00:00:00.000000000",
          "2023-09-04T00:00:00.000000000",
          "2023-09-03T00:00:00.000000000",
          "2023-09-02T00:00:00.000000000",
          "2023-09-01T00:00:00.000000000",
          "2023-08-31T00:00:00.000000000",
          "2023-08-30T00:00:00.000000000",
          "2023-08-29T00:00:00.000000000",
          "2023-08-28T00:00:00.000000000",
          "2023-08-27T00:00:00.000000000",
          "2023-08-26T00:00:00.000000000",
          "2023-08-25T00:00:00.000000000",
          "2023-08-24T00:00:00.000000000",
          "2023-08-23T00:00:00.000000000",
          "2023-08-22T00:00:00.000000000",
          "2023-08-21T00:00:00.000000000",
          "2023-08-20T00:00:00.000000000",
          "2023-08-19T00:00:00.000000000",
          "2023-08-18T00:00:00.000000000",
          "2023-08-17T00:00:00.000000000",
          "2023-08-16T00:00:00.000000000",
          "2023-08-15T00:00:00.000000000",
          "2023-08-14T00:00:00.000000000",
          "2023-08-13T00:00:00.000000000",
          "2023-08-12T00:00:00.000000000",
          "2023-08-11T00:00:00.000000000",
          "2023-08-10T00:00:00.000000000",
          "2023-08-09T00:00:00.000000000",
          "2023-08-08T00:00:00.000000000",
          "2023-08-07T00:00:00.000000000",
          "2023-08-06T00:00:00.000000000",
          "2023-08-05T00:00:00.000000000",
          "2023-08-04T00:00:00.000000000",
          "2023-08-03T00:00:00.000000000",
          "2023-08-02T00:00:00.000000000",
          "2023-08-01T00:00:00.000000000",
          "2023-07-31T00:00:00.000000000",
          "2023-07-30T00:00:00.000000000",
          "2023-07-29T00:00:00.000000000",
          "2023-07-28T00:00:00.000000000",
          "2023-07-27T00:00:00.000000000",
          "2023-07-26T00:00:00.000000000",
          "2023-07-25T00:00:00.000000000",
          "2023-07-24T00:00:00.000000000",
          "2023-07-23T00:00:00.000000000",
          "2023-07-22T00:00:00.000000000",
          "2023-07-21T00:00:00.000000000",
          "2023-07-20T00:00:00.000000000",
          "2023-07-19T00:00:00.000000000",
          "2023-07-18T00:00:00.000000000",
          "2023-07-17T00:00:00.000000000",
          "2023-07-16T00:00:00.000000000",
          "2023-07-15T00:00:00.000000000",
          "2023-07-14T00:00:00.000000000",
          "2023-07-13T00:00:00.000000000",
          "2023-07-12T00:00:00.000000000",
          "2023-07-11T00:00:00.000000000",
          "2023-07-10T00:00:00.000000000",
          "2023-07-09T00:00:00.000000000",
          "2023-07-08T00:00:00.000000000",
          "2023-07-07T00:00:00.000000000",
          "2023-07-06T00:00:00.000000000",
          "2023-07-05T00:00:00.000000000",
          "2023-07-04T00:00:00.000000000",
          "2023-07-03T00:00:00.000000000",
          "2023-07-02T00:00:00.000000000",
          "2023-07-01T00:00:00.000000000",
          "2023-06-30T00:00:00.000000000",
          "2023-06-29T00:00:00.000000000",
          "2023-06-28T00:00:00.000000000",
          "2023-06-27T00:00:00.000000000",
          "2023-06-26T00:00:00.000000000",
          "2023-06-25T00:00:00.000000000",
          "2023-06-24T00:00:00.000000000",
          "2023-06-23T00:00:00.000000000",
          "2023-06-22T00:00:00.000000000",
          "2023-06-21T00:00:00.000000000",
          "2023-06-20T00:00:00.000000000",
          "2023-06-19T00:00:00.000000000",
          "2023-06-18T00:00:00.000000000",
          "2023-06-17T00:00:00.000000000",
          "2023-06-16T00:00:00.000000000",
          "2023-06-15T00:00:00.000000000",
          "2023-06-14T00:00:00.000000000",
          "2023-06-13T00:00:00.000000000",
          "2023-06-12T00:00:00.000000000",
          "2023-06-11T00:00:00.000000000",
          "2023-06-10T00:00:00.000000000",
          "2023-06-09T00:00:00.000000000",
          "2023-06-08T00:00:00.000000000",
          "2023-06-07T00:00:00.000000000",
          "2023-06-06T00:00:00.000000000",
          "2023-06-05T00:00:00.000000000",
          "2023-06-04T00:00:00.000000000",
          "2023-06-03T00:00:00.000000000",
          "2023-06-02T00:00:00.000000000",
          "2023-06-01T00:00:00.000000000",
          "2023-05-31T00:00:00.000000000",
          "2023-05-30T00:00:00.000000000",
          "2023-05-29T00:00:00.000000000",
          "2023-05-28T00:00:00.000000000",
          "2023-05-27T00:00:00.000000000",
          "2023-05-26T00:00:00.000000000",
          "2023-05-25T00:00:00.000000000",
          "2023-05-24T00:00:00.000000000",
          "2023-05-23T00:00:00.000000000",
          "2023-05-22T00:00:00.000000000",
          "2023-05-21T00:00:00.000000000",
          "2023-05-20T00:00:00.000000000",
          "2023-05-19T00:00:00.000000000",
          "2023-05-18T00:00:00.000000000",
          "2023-05-17T00:00:00.000000000",
          "2023-05-16T00:00:00.000000000",
          "2023-05-15T00:00:00.000000000",
          "2023-05-14T00:00:00.000000000",
          "2023-05-13T00:00:00.000000000",
          "2023-05-12T00:00:00.000000000",
          "2023-05-11T00:00:00.000000000",
          "2023-05-10T00:00:00.000000000",
          "2023-05-09T00:00:00.000000000",
          "2023-05-08T00:00:00.000000000",
          "2023-05-07T00:00:00.000000000",
          "2023-05-06T00:00:00.000000000",
          "2023-05-05T00:00:00.000000000",
          "2023-05-04T00:00:00.000000000",
          "2023-05-03T00:00:00.000000000",
          "2023-05-02T00:00:00.000000000",
          "2023-05-01T00:00:00.000000000",
          "2023-04-30T00:00:00.000000000",
          "2023-04-29T00:00:00.000000000",
          "2023-04-28T00:00:00.000000000",
          "2023-04-27T00:00:00.000000000",
          "2023-04-26T00:00:00.000000000",
          "2023-04-25T00:00:00.000000000",
          "2023-04-24T00:00:00.000000000",
          "2023-04-23T00:00:00.000000000",
          "2023-04-22T00:00:00.000000000",
          "2023-04-21T00:00:00.000000000",
          "2023-04-20T00:00:00.000000000",
          "2023-04-19T00:00:00.000000000",
          "2023-04-18T00:00:00.000000000",
          "2023-04-17T00:00:00.000000000",
          "2023-04-16T00:00:00.000000000",
          "2023-04-15T00:00:00.000000000",
          "2023-04-14T00:00:00.000000000",
          "2023-04-13T00:00:00.000000000",
          "2023-04-12T00:00:00.000000000",
          "2023-04-11T00:00:00.000000000",
          "2023-04-10T00:00:00.000000000",
          "2023-04-09T00:00:00.000000000",
          "2023-04-08T00:00:00.000000000",
          "2023-04-07T00:00:00.000000000",
          "2023-04-06T00:00:00.000000000",
          "2023-04-05T00:00:00.000000000",
          "2023-04-04T00:00:00.000000000",
          "2023-04-03T00:00:00.000000000",
          "2023-04-02T00:00:00.000000000",
          "2023-04-01T00:00:00.000000000",
          "2023-03-31T00:00:00.000000000",
          "2023-03-30T00:00:00.000000000",
          "2023-03-29T00:00:00.000000000",
          "2023-03-28T00:00:00.000000000",
          "2023-03-27T00:00:00.000000000",
          "2023-03-26T00:00:00.000000000",
          "2023-03-25T00:00:00.000000000",
          "2023-03-24T00:00:00.000000000",
          "2023-03-23T00:00:00.000000000",
          "2023-03-22T00:00:00.000000000",
          "2023-03-21T00:00:00.000000000",
          "2023-03-20T00:00:00.000000000",
          "2023-03-19T00:00:00.000000000",
          "2023-03-18T00:00:00.000000000",
          "2023-03-17T00:00:00.000000000",
          "2023-03-16T00:00:00.000000000",
          "2023-03-15T00:00:00.000000000",
          "2023-03-14T00:00:00.000000000",
          "2023-03-13T00:00:00.000000000",
          "2023-03-12T00:00:00.000000000",
          "2023-03-11T00:00:00.000000000",
          "2023-03-10T00:00:00.000000000",
          "2023-03-09T00:00:00.000000000",
          "2023-03-08T00:00:00.000000000",
          "2023-03-07T00:00:00.000000000",
          "2023-03-06T00:00:00.000000000",
          "2023-03-05T00:00:00.000000000",
          "2023-03-04T00:00:00.000000000",
          "2023-03-03T00:00:00.000000000",
          "2023-03-02T00:00:00.000000000",
          "2023-03-01T00:00:00.000000000",
          "2023-02-28T00:00:00.000000000",
          "2023-02-27T00:00:00.000000000",
          "2023-02-26T00:00:00.000000000",
          "2023-02-25T00:00:00.000000000",
          "2023-02-24T00:00:00.000000000",
          "2023-02-23T00:00:00.000000000",
          "2023-02-22T00:00:00.000000000",
          "2023-02-21T00:00:00.000000000",
          "2023-02-20T00:00:00.000000000",
          "2023-02-19T00:00:00.000000000",
          "2023-02-18T00:00:00.000000000",
          "2023-02-17T00:00:00.000000000",
          "2023-02-16T00:00:00.000000000",
          "2023-02-15T00:00:00.000000000",
          "2023-02-14T00:00:00.000000000",
          "2023-02-13T00:00:00.000000000",
          "2023-02-12T00:00:00.000000000",
          "2023-02-11T00:00:00.000000000",
          "2023-02-10T00:00:00.000000000",
          "2023-02-09T00:00:00.000000000",
          "2023-02-08T00:00:00.000000000",
          "2023-02-07T00:00:00.000000000",
          "2023-02-06T00:00:00.000000000",
          "2023-02-05T00:00:00.000000000",
          "2023-02-04T00:00:00.000000000",
          "2023-02-03T00:00:00.000000000",
          "2023-02-02T00:00:00.000000000",
          "2023-02-01T00:00:00.000000000",
          "2023-01-31T00:00:00.000000000",
          "2023-01-30T00:00:00.000000000",
          "2023-01-29T00:00:00.000000000",
          "2023-01-28T00:00:00.000000000",
          "2023-01-27T00:00:00.000000000",
          "2023-01-26T00:00:00.000000000",
          "2023-01-25T00:00:00.000000000",
          "2023-01-24T00:00:00.000000000",
          "2023-01-23T00:00:00.000000000",
          "2023-01-22T00:00:00.000000000",
          "2023-01-21T00:00:00.000000000",
          "2023-01-20T00:00:00.000000000",
          "2023-01-19T00:00:00.000000000",
          "2023-01-18T00:00:00.000000000",
          "2023-01-17T00:00:00.000000000",
          "2023-01-16T00:00:00.000000000",
          "2023-01-15T00:00:00.000000000",
          "2023-01-14T00:00:00.000000000",
          "2023-01-13T00:00:00.000000000",
          "2023-01-12T00:00:00.000000000",
          "2023-01-11T00:00:00.000000000",
          "2023-01-10T00:00:00.000000000",
          "2023-01-09T00:00:00.000000000",
          "2023-01-08T00:00:00.000000000",
          "2023-01-07T00:00:00.000000000",
          "2023-01-06T00:00:00.000000000",
          "2023-01-05T00:00:00.000000000",
          "2023-01-04T00:00:00.000000000",
          "2023-01-03T00:00:00.000000000",
          "2023-01-02T00:00:00.000000000",
          "2023-01-01T00:00:00.000000000"
         ],
         "xaxis": "x",
         "y": {
          "bdata": "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",
          "dtype": "f8"
         },
         "yaxis": "y"
        },
        {
         "line": {
          "color": "firebrick",
          "dash": "solid",
          "width": 2
         },
         "mode": "lines",
         "name": "Predicted day layer 1",
         "type": "scatter",
         "x": [
          "2023-01-01T00:00:00.000000000",
          "2023-01-02T00:00:00.000000000",
          "2023-01-03T00:00:00.000000000",
          "2023-01-04T00:00:00.000000000",
          "2023-01-05T00:00:00.000000000",
          "2023-01-06T00:00:00.000000000",
          "2023-01-07T00:00:00.000000000",
          "2023-01-08T00:00:00.000000000",
          "2023-01-09T00:00:00.000000000",
          "2023-01-10T00:00:00.000000000",
          "2023-01-11T00:00:00.000000000",
          "2023-01-12T00:00:00.000000000",
          "2023-01-13T00:00:00.000000000",
          "2023-01-14T00:00:00.000000000",
          "2023-01-15T00:00:00.000000000",
          "2023-01-16T00:00:00.000000000",
          "2023-01-17T00:00:00.000000000",
          "2023-01-18T00:00:00.000000000",
          "2023-01-19T00:00:00.000000000",
          "2023-01-20T00:00:00.000000000",
          "2023-01-21T00:00:00.000000000",
          "2023-01-22T00:00:00.000000000",
          "2023-01-23T00:00:00.000000000",
          "2023-01-24T00:00:00.000000000",
          "2023-01-25T00:00:00.000000000",
          "2023-01-26T00:00:00.000000000",
          "2023-01-27T00:00:00.000000000",
          "2023-01-28T00:00:00.000000000",
          "2023-01-29T00:00:00.000000000",
          "2023-01-30T00:00:00.000000000",
          "2023-01-31T00:00:00.000000000",
          "2023-02-01T00:00:00.000000000",
          "2023-02-02T00:00:00.000000000",
          "2023-02-03T00:00:00.000000000",
          "2023-02-04T00:00:00.000000000",
          "2023-02-05T00:00:00.000000000",
          "2023-02-06T00:00:00.000000000",
          "2023-02-07T00:00:00.000000000",
          "2023-02-08T00:00:00.000000000",
          "2023-02-09T00:00:00.000000000",
          "2023-02-10T00:00:00.000000000",
          "2023-02-11T00:00:00.000000000",
          "2023-02-12T00:00:00.000000000",
          "2023-02-13T00:00:00.000000000",
          "2023-02-14T00:00:00.000000000",
          "2023-02-15T00:00:00.000000000",
          "2023-02-16T00:00:00.000000000",
          "2023-02-17T00:00:00.000000000",
          "2023-02-18T00:00:00.000000000",
          "2023-02-19T00:00:00.000000000",
          "2023-02-20T00:00:00.000000000",
          "2023-02-21T00:00:00.000000000",
          "2023-02-22T00:00:00.000000000",
          "2023-02-23T00:00:00.000000000",
          "2023-02-24T00:00:00.000000000",
          "2023-02-25T00:00:00.000000000",
          "2023-02-26T00:00:00.000000000",
          "2023-02-27T00:00:00.000000000",
          "2023-02-28T00:00:00.000000000",
          "2023-03-01T00:00:00.000000000",
          "2023-03-02T00:00:00.000000000",
          "2023-03-03T00:00:00.000000000",
          "2023-03-04T00:00:00.000000000",
          "2023-03-05T00:00:00.000000000",
          "2023-03-06T00:00:00.000000000",
          "2023-03-07T00:00:00.000000000",
          "2023-03-08T00:00:00.000000000",
          "2023-03-09T00:00:00.000000000",
          "2023-03-10T00:00:00.000000000",
          "2023-03-11T00:00:00.000000000",
          "2023-03-12T00:00:00.000000000",
          "2023-03-13T00:00:00.000000000",
          "2023-03-14T00:00:00.000000000",
          "2023-03-15T00:00:00.000000000",
          "2023-03-16T00:00:00.000000000",
          "2023-03-17T00:00:00.000000000",
          "2023-03-18T00:00:00.000000000",
          "2023-03-19T00:00:00.000000000",
          "2023-03-20T00:00:00.000000000",
          "2023-03-21T00:00:00.000000000",
          "2023-03-22T00:00:00.000000000",
          "2023-03-23T00:00:00.000000000",
          "2023-03-24T00:00:00.000000000",
          "2023-03-25T00:00:00.000000000",
          "2023-03-26T00:00:00.000000000",
          "2023-03-27T00:00:00.000000000",
          "2023-03-28T00:00:00.000000000",
          "2023-03-29T00:00:00.000000000",
          "2023-03-30T00:00:00.000000000",
          "2023-03-31T00:00:00.000000000",
          "2023-04-01T00:00:00.000000000",
          "2023-04-02T00:00:00.000000000",
          "2023-04-03T00:00:00.000000000",
          "2023-04-04T00:00:00.000000000",
          "2023-04-05T00:00:00.000000000",
          "2023-04-06T00:00:00.000000000",
          "2023-04-07T00:00:00.000000000",
          "2023-04-08T00:00:00.000000000",
          "2023-04-09T00:00:00.000000000",
          "2023-04-10T00:00:00.000000000",
          "2023-04-11T00:00:00.000000000",
          "2023-04-12T00:00:00.000000000",
          "2023-04-13T00:00:00.000000000",
          "2023-04-14T00:00:00.000000000",
          "2023-04-15T00:00:00.000000000",
          "2023-04-16T00:00:00.000000000",
          "2023-04-17T00:00:00.000000000",
          "2023-04-18T00:00:00.000000000",
          "2023-04-19T00:00:00.000000000",
          "2023-04-20T00:00:00.000000000",
          "2023-04-21T00:00:00.000000000",
          "2023-04-22T00:00:00.000000000",
          "2023-04-23T00:00:00.000000000",
          "2023-04-24T00:00:00.000000000",
          "2023-04-25T00:00:00.000000000",
          "2023-04-26T00:00:00.000000000",
          "2023-04-27T00:00:00.000000000",
          "2023-04-28T00:00:00.000000000",
          "2023-04-29T00:00:00.000000000",
          "2023-04-30T00:00:00.000000000",
          "2023-05-01T00:00:00.000000000",
          "2023-05-02T00:00:00.000000000",
          "2023-05-03T00:00:00.000000000",
          "2023-05-04T00:00:00.000000000",
          "2023-05-05T00:00:00.000000000",
          "2023-05-06T00:00:00.000000000",
          "2023-05-07T00:00:00.000000000",
          "2023-05-08T00:00:00.000000000",
          "2023-05-09T00:00:00.000000000",
          "2023-05-10T00:00:00.000000000",
          "2023-05-11T00:00:00.000000000",
          "2023-05-12T00:00:00.000000000",
          "2023-05-13T00:00:00.000000000",
          "2023-05-14T00:00:00.000000000",
          "2023-05-15T00:00:00.000000000",
          "2023-05-16T00:00:00.000000000",
          "2023-05-17T00:00:00.000000000",
          "2023-05-18T00:00:00.000000000",
          "2023-05-19T00:00:00.000000000",
          "2023-05-20T00:00:00.000000000",
          "2023-05-21T00:00:00.000000000",
          "2023-05-22T00:00:00.000000000",
          "2023-05-23T00:00:00.000000000",
          "2023-05-24T00:00:00.000000000",
          "2023-05-25T00:00:00.000000000",
          "2023-05-26T00:00:00.000000000",
          "2023-05-27T00:00:00.000000000",
          "2023-05-28T00:00:00.000000000",
          "2023-05-29T00:00:00.000000000",
          "2023-05-30T00:00:00.000000000",
          "2023-05-31T00:00:00.000000000",
          "2023-06-01T00:00:00.000000000",
          "2023-06-02T00:00:00.000000000",
          "2023-06-03T00:00:00.000000000",
          "2023-06-04T00:00:00.000000000",
          "2023-06-05T00:00:00.000000000",
          "2023-06-06T00:00:00.000000000",
          "2023-06-07T00:00:00.000000000",
          "2023-06-08T00:00:00.000000000",
          "2023-06-09T00:00:00.000000000",
          "2023-06-10T00:00:00.000000000",
          "2023-06-11T00:00:00.000000000",
          "2023-06-12T00:00:00.000000000",
          "2023-06-13T00:00:00.000000000",
          "2023-06-14T00:00:00.000000000",
          "2023-06-15T00:00:00.000000000",
          "2023-06-16T00:00:00.000000000",
          "2023-06-17T00:00:00.000000000",
          "2023-06-18T00:00:00.000000000",
          "2023-06-19T00:00:00.000000000",
          "2023-06-20T00:00:00.000000000",
          "2023-06-21T00:00:00.000000000",
          "2023-06-22T00:00:00.000000000",
          "2023-06-23T00:00:00.000000000",
          "2023-06-24T00:00:00.000000000",
          "2023-06-25T00:00:00.000000000",
          "2023-06-26T00:00:00.000000000",
          "2023-06-27T00:00:00.000000000",
          "2023-06-28T00:00:00.000000000",
          "2023-06-29T00:00:00.000000000",
          "2023-06-30T00:00:00.000000000",
          "2023-07-01T00:00:00.000000000",
          "2023-07-02T00:00:00.000000000",
          "2023-07-03T00:00:00.000000000",
          "2023-07-04T00:00:00.000000000",
          "2023-07-05T00:00:00.000000000",
          "2023-07-06T00:00:00.000000000",
          "2023-07-07T00:00:00.000000000",
          "2023-07-08T00:00:00.000000000",
          "2023-07-09T00:00:00.000000000",
          "2023-07-10T00:00:00.000000000",
          "2023-07-11T00:00:00.000000000",
          "2023-07-12T00:00:00.000000000",
          "2023-07-13T00:00:00.000000000",
          "2023-07-14T00:00:00.000000000",
          "2023-07-15T00:00:00.000000000",
          "2023-07-16T00:00:00.000000000",
          "2023-07-17T00:00:00.000000000",
          "2023-07-18T00:00:00.000000000",
          "2023-07-19T00:00:00.000000000",
          "2023-07-20T00:00:00.000000000",
          "2023-07-21T00:00:00.000000000",
          "2023-07-22T00:00:00.000000000",
          "2023-07-23T00:00:00.000000000",
          "2023-07-24T00:00:00.000000000",
          "2023-07-25T00:00:00.000000000",
          "2023-07-26T00:00:00.000000000",
          "2023-07-27T00:00:00.000000000",
          "2023-07-28T00:00:00.000000000",
          "2023-07-29T00:00:00.000000000",
          "2023-07-30T00:00:00.000000000",
          "2023-07-31T00:00:00.000000000",
          "2023-08-01T00:00:00.000000000",
          "2023-08-02T00:00:00.000000000",
          "2023-08-03T00:00:00.000000000",
          "2023-08-04T00:00:00.000000000",
          "2023-08-05T00:00:00.000000000",
          "2023-08-06T00:00:00.000000000",
          "2023-08-07T00:00:00.000000000",
          "2023-08-08T00:00:00.000000000",
          "2023-08-09T00:00:00.000000000",
          "2023-08-10T00:00:00.000000000",
          "2023-08-11T00:00:00.000000000",
          "2023-08-12T00:00:00.000000000",
          "2023-08-13T00:00:00.000000000",
          "2023-08-14T00:00:00.000000000",
          "2023-08-15T00:00:00.000000000",
          "2023-08-16T00:00:00.000000000",
          "2023-08-17T00:00:00.000000000",
          "2023-08-18T00:00:00.000000000",
          "2023-08-19T00:00:00.000000000",
          "2023-08-20T00:00:00.000000000",
          "2023-08-21T00:00:00.000000000",
          "2023-08-22T00:00:00.000000000",
          "2023-08-23T00:00:00.000000000",
          "2023-08-24T00:00:00.000000000",
          "2023-08-25T00:00:00.000000000",
          "2023-08-26T00:00:00.000000000",
          "2023-08-27T00:00:00.000000000",
          "2023-08-28T00:00:00.000000000",
          "2023-08-29T00:00:00.000000000",
          "2023-08-30T00:00:00.000000000",
          "2023-08-31T00:00:00.000000000",
          "2023-09-01T00:00:00.000000000",
          "2023-09-02T00:00:00.000000000",
          "2023-09-03T00:00:00.000000000",
          "2023-09-04T00:00:00.000000000",
          "2023-09-05T00:00:00.000000000",
          "2023-09-06T00:00:00.000000000",
          "2023-09-07T00:00:00.000000000",
          "2023-09-08T00:00:00.000000000",
          "2023-09-09T00:00:00.000000000",
          "2023-09-10T00:00:00.000000000",
          "2023-09-11T00:00:00.000000000",
          "2023-09-12T00:00:00.000000000",
          "2023-09-13T00:00:00.000000000",
          "2023-09-14T00:00:00.000000000",
          "2023-09-15T00:00:00.000000000",
          "2023-09-16T00:00:00.000000000",
          "2023-09-17T00:00:00.000000000",
          "2023-09-18T00:00:00.000000000",
          "2023-09-19T00:00:00.000000000",
          "2023-09-20T00:00:00.000000000",
          "2023-09-21T00:00:00.000000000",
          "2023-09-22T00:00:00.000000000",
          "2023-09-23T00:00:00.000000000",
          "2023-09-24T00:00:00.000000000",
          "2023-09-25T00:00:00.000000000",
          "2023-09-26T00:00:00.000000000",
          "2023-09-27T00:00:00.000000000",
          "2023-09-28T00:00:00.000000000",
          "2023-09-29T00:00:00.000000000",
          "2023-09-30T00:00:00.000000000",
          "2023-10-01T00:00:00.000000000",
          "2023-10-02T00:00:00.000000000",
          "2023-10-03T00:00:00.000000000",
          "2023-10-04T00:00:00.000000000",
          "2023-10-05T00:00:00.000000000",
          "2023-10-06T00:00:00.000000000",
          "2023-10-07T00:00:00.000000000",
          "2023-10-08T00:00:00.000000000",
          "2023-10-09T00:00:00.000000000",
          "2023-10-10T00:00:00.000000000",
          "2023-10-11T00:00:00.000000000",
          "2023-10-12T00:00:00.000000000",
          "2023-10-13T00:00:00.000000000",
          "2023-10-14T00:00:00.000000000",
          "2023-10-15T00:00:00.000000000",
          "2023-10-16T00:00:00.000000000",
          "2023-10-17T00:00:00.000000000",
          "2023-10-18T00:00:00.000000000",
          "2023-10-19T00:00:00.000000000",
          "2023-10-20T00:00:00.000000000",
          "2023-10-21T00:00:00.000000000",
          "2023-10-22T00:00:00.000000000",
          "2023-10-23T00:00:00.000000000",
          "2023-10-24T00:00:00.000000000",
          "2023-10-25T00:00:00.000000000",
          "2023-10-26T00:00:00.000000000",
          "2023-10-27T00:00:00.000000000",
          "2023-10-28T00:00:00.000000000",
          "2023-10-29T00:00:00.000000000",
          "2023-10-30T00:00:00.000000000",
          "2023-10-31T00:00:00.000000000",
          "2023-11-01T00:00:00.000000000",
          "2023-11-02T00:00:00.000000000",
          "2023-11-03T00:00:00.000000000",
          "2023-11-04T00:00:00.000000000",
          "2023-11-05T00:00:00.000000000",
          "2023-11-06T00:00:00.000000000",
          "2023-11-07T00:00:00.000000000",
          "2023-11-08T00:00:00.000000000",
          "2023-11-09T00:00:00.000000000",
          "2023-11-10T00:00:00.000000000",
          "2023-11-11T00:00:00.000000000",
          "2023-11-12T00:00:00.000000000",
          "2023-11-13T00:00:00.000000000",
          "2023-11-14T00:00:00.000000000",
          "2023-11-15T00:00:00.000000000",
          "2023-11-16T00:00:00.000000000",
          "2023-11-17T00:00:00.000000000",
          "2023-11-18T00:00:00.000000000",
          "2023-11-19T00:00:00.000000000",
          "2023-11-20T00:00:00.000000000",
          "2023-11-21T00:00:00.000000000",
          "2023-11-22T00:00:00.000000000",
          "2023-11-23T00:00:00.000000000",
          "2023-11-24T00:00:00.000000000",
          "2023-11-25T00:00:00.000000000",
          "2023-11-26T00:00:00.000000000",
          "2023-11-27T00:00:00.000000000",
          "2023-11-28T00:00:00.000000000",
          "2023-11-29T00:00:00.000000000",
          "2023-11-30T00:00:00.000000000",
          "2023-12-01T00:00:00.000000000",
          "2023-12-02T00:00:00.000000000",
          "2023-12-03T00:00:00.000000000",
          "2023-12-04T00:00:00.000000000",
          "2023-12-05T00:00:00.000000000",
          "2023-12-06T00:00:00.000000000",
          "2023-12-07T00:00:00.000000000",
          "2023-12-08T00:00:00.000000000",
          "2023-12-09T00:00:00.000000000",
          "2023-12-10T00:00:00.000000000",
          "2023-12-11T00:00:00.000000000",
          "2023-12-12T00:00:00.000000000",
          "2023-12-13T00:00:00.000000000",
          "2023-12-14T00:00:00.000000000",
          "2023-12-15T00:00:00.000000000",
          "2023-12-16T00:00:00.000000000",
          "2023-12-17T00:00:00.000000000",
          "2023-12-18T00:00:00.000000000",
          "2023-12-19T00:00:00.000000000",
          "2023-12-20T00:00:00.000000000",
          "2023-12-21T00:00:00.000000000",
          "2023-12-22T00:00:00.000000000",
          "2023-12-23T00:00:00.000000000",
          "2023-12-24T00:00:00.000000000",
          "2023-12-25T00:00:00.000000000",
          "2023-12-26T00:00:00.000000000"
         ],
         "xaxis": "x3",
         "y": {
          "bdata": "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",
          "dtype": "f8"
         },
         "yaxis": "y3"
        },
        {
         "fill": "toself",
         "fillcolor": "rgba(174,30,36,0.3)",
         "line": {
          "color": "rgba(0,0,0,0)"
         },
         "name": "day layer 1 : 10 best individuals",
         "type": "scatter",
         "x": [
          "2023-01-01T00:00:00.000000000",
          "2023-01-02T00:00:00.000000000",
          "2023-01-03T00:00:00.000000000",
          "2023-01-04T00:00:00.000000000",
          "2023-01-05T00:00:00.000000000",
          "2023-01-06T00:00:00.000000000",
          "2023-01-07T00:00:00.000000000",
          "2023-01-08T00:00:00.000000000",
          "2023-01-09T00:00:00.000000000",
          "2023-01-10T00:00:00.000000000",
          "2023-01-11T00:00:00.000000000",
          "2023-01-12T00:00:00.000000000",
          "2023-01-13T00:00:00.000000000",
          "2023-01-14T00:00:00.000000000",
          "2023-01-15T00:00:00.000000000",
          "2023-01-16T00:00:00.000000000",
          "2023-01-17T00:00:00.000000000",
          "2023-01-18T00:00:00.000000000",
          "2023-01-19T00:00:00.000000000",
          "2023-01-20T00:00:00.000000000",
          "2023-01-21T00:00:00.000000000",
          "2023-01-22T00:00:00.000000000",
          "2023-01-23T00:00:00.000000000",
          "2023-01-24T00:00:00.000000000",
          "2023-01-25T00:00:00.000000000",
          "2023-01-26T00:00:00.000000000",
          "2023-01-27T00:00:00.000000000",
          "2023-01-28T00:00:00.000000000",
          "2023-01-29T00:00:00.000000000",
          "2023-01-30T00:00:00.000000000",
          "2023-01-31T00:00:00.000000000",
          "2023-02-01T00:00:00.000000000",
          "2023-02-02T00:00:00.000000000",
          "2023-02-03T00:00:00.000000000",
          "2023-02-04T00:00:00.000000000",
          "2023-02-05T00:00:00.000000000",
          "2023-02-06T00:00:00.000000000",
          "2023-02-07T00:00:00.000000000",
          "2023-02-08T00:00:00.000000000",
          "2023-02-09T00:00:00.000000000",
          "2023-02-10T00:00:00.000000000",
          "2023-02-11T00:00:00.000000000",
          "2023-02-12T00:00:00.000000000",
          "2023-02-13T00:00:00.000000000",
          "2023-02-14T00:00:00.000000000",
          "2023-02-15T00:00:00.000000000",
          "2023-02-16T00:00:00.000000000",
          "2023-02-17T00:00:00.000000000",
          "2023-02-18T00:00:00.000000000",
          "2023-02-19T00:00:00.000000000",
          "2023-02-20T00:00:00.000000000",
          "2023-02-21T00:00:00.000000000",
          "2023-02-22T00:00:00.000000000",
          "2023-02-23T00:00:00.000000000",
          "2023-02-24T00:00:00.000000000",
          "2023-02-25T00:00:00.000000000",
          "2023-02-26T00:00:00.000000000",
          "2023-02-27T00:00:00.000000000",
          "2023-02-28T00:00:00.000000000",
          "2023-03-01T00:00:00.000000000",
          "2023-03-02T00:00:00.000000000",
          "2023-03-03T00:00:00.000000000",
          "2023-03-04T00:00:00.000000000",
          "2023-03-05T00:00:00.000000000",
          "2023-03-06T00:00:00.000000000",
          "2023-03-07T00:00:00.000000000",
          "2023-03-08T00:00:00.000000000",
          "2023-03-09T00:00:00.000000000",
          "2023-03-10T00:00:00.000000000",
          "2023-03-11T00:00:00.000000000",
          "2023-03-12T00:00:00.000000000",
          "2023-03-13T00:00:00.000000000",
          "2023-03-14T00:00:00.000000000",
          "2023-03-15T00:00:00.000000000",
          "2023-03-16T00:00:00.000000000",
          "2023-03-17T00:00:00.000000000",
          "2023-03-18T00:00:00.000000000",
          "2023-03-19T00:00:00.000000000",
          "2023-03-20T00:00:00.000000000",
          "2023-03-21T00:00:00.000000000",
          "2023-03-22T00:00:00.000000000",
          "2023-03-23T00:00:00.000000000",
          "2023-03-24T00:00:00.000000000",
          "2023-03-25T00:00:00.000000000",
          "2023-03-26T00:00:00.000000000",
          "2023-03-27T00:00:00.000000000",
          "2023-03-28T00:00:00.000000000",
          "2023-03-29T00:00:00.000000000",
          "2023-03-30T00:00:00.000000000",
          "2023-03-31T00:00:00.000000000",
          "2023-04-01T00:00:00.000000000",
          "2023-04-02T00:00:00.000000000",
          "2023-04-03T00:00:00.000000000",
          "2023-04-04T00:00:00.000000000",
          "2023-04-05T00:00:00.000000000",
          "2023-04-06T00:00:00.000000000",
          "2023-04-07T00:00:00.000000000",
          "2023-04-08T00:00:00.000000000",
          "2023-04-09T00:00:00.000000000",
          "2023-04-10T00:00:00.000000000",
          "2023-04-11T00:00:00.000000000",
          "2023-04-12T00:00:00.000000000",
          "2023-04-13T00:00:00.000000000",
          "2023-04-14T00:00:00.000000000",
          "2023-04-15T00:00:00.000000000",
          "2023-04-16T00:00:00.000000000",
          "2023-04-17T00:00:00.000000000",
          "2023-04-18T00:00:00.000000000",
          "2023-04-19T00:00:00.000000000",
          "2023-04-20T00:00:00.000000000",
          "2023-04-21T00:00:00.000000000",
          "2023-04-22T00:00:00.000000000",
          "2023-04-23T00:00:00.000000000",
          "2023-04-24T00:00:00.000000000",
          "2023-04-25T00:00:00.000000000",
          "2023-04-26T00:00:00.000000000",
          "2023-04-27T00:00:00.000000000",
          "2023-04-28T00:00:00.000000000",
          "2023-04-29T00:00:00.000000000",
          "2023-04-30T00:00:00.000000000",
          "2023-05-01T00:00:00.000000000",
          "2023-05-02T00:00:00.000000000",
          "2023-05-03T00:00:00.000000000",
          "2023-05-04T00:00:00.000000000",
          "2023-05-05T00:00:00.000000000",
          "2023-05-06T00:00:00.000000000",
          "2023-05-07T00:00:00.000000000",
          "2023-05-08T00:00:00.000000000",
          "2023-05-09T00:00:00.000000000",
          "2023-05-10T00:00:00.000000000",
          "2023-05-11T00:00:00.000000000",
          "2023-05-12T00:00:00.000000000",
          "2023-05-13T00:00:00.000000000",
          "2023-05-14T00:00:00.000000000",
          "2023-05-15T00:00:00.000000000",
          "2023-05-16T00:00:00.000000000",
          "2023-05-17T00:00:00.000000000",
          "2023-05-18T00:00:00.000000000",
          "2023-05-19T00:00:00.000000000",
          "2023-05-20T00:00:00.000000000",
          "2023-05-21T00:00:00.000000000",
          "2023-05-22T00:00:00.000000000",
          "2023-05-23T00:00:00.000000000",
          "2023-05-24T00:00:00.000000000",
          "2023-05-25T00:00:00.000000000",
          "2023-05-26T00:00:00.000000000",
          "2023-05-27T00:00:00.000000000",
          "2023-05-28T00:00:00.000000000",
          "2023-05-29T00:00:00.000000000",
          "2023-05-30T00:00:00.000000000",
          "2023-05-31T00:00:00.000000000",
          "2023-06-01T00:00:00.000000000",
          "2023-06-02T00:00:00.000000000",
          "2023-06-03T00:00:00.000000000",
          "2023-06-04T00:00:00.000000000",
          "2023-06-05T00:00:00.000000000",
          "2023-06-06T00:00:00.000000000",
          "2023-06-07T00:00:00.000000000",
          "2023-06-08T00:00:00.000000000",
          "2023-06-09T00:00:00.000000000",
          "2023-06-10T00:00:00.000000000",
          "2023-06-11T00:00:00.000000000",
          "2023-06-12T00:00:00.000000000",
          "2023-06-13T00:00:00.000000000",
          "2023-06-14T00:00:00.000000000",
          "2023-06-15T00:00:00.000000000",
          "2023-06-16T00:00:00.000000000",
          "2023-06-17T00:00:00.000000000",
          "2023-06-18T00:00:00.000000000",
          "2023-06-19T00:00:00.000000000",
          "2023-06-20T00:00:00.000000000",
          "2023-06-21T00:00:00.000000000",
          "2023-06-22T00:00:00.000000000",
          "2023-06-23T00:00:00.000000000",
          "2023-06-24T00:00:00.000000000",
          "2023-06-25T00:00:00.000000000",
          "2023-06-26T00:00:00.000000000",
          "2023-06-27T00:00:00.000000000",
          "2023-06-28T00:00:00.000000000",
          "2023-06-29T00:00:00.000000000",
          "2023-06-30T00:00:00.000000000",
          "2023-07-01T00:00:00.000000000",
          "2023-07-02T00:00:00.000000000",
          "2023-07-03T00:00:00.000000000",
          "2023-07-04T00:00:00.000000000",
          "2023-07-05T00:00:00.000000000",
          "2023-07-06T00:00:00.000000000",
          "2023-07-07T00:00:00.000000000",
          "2023-07-08T00:00:00.000000000",
          "2023-07-09T00:00:00.000000000",
          "2023-07-10T00:00:00.000000000",
          "2023-07-11T00:00:00.000000000",
          "2023-07-12T00:00:00.000000000",
          "2023-07-13T00:00:00.000000000",
          "2023-07-14T00:00:00.000000000",
          "2023-07-15T00:00:00.000000000",
          "2023-07-16T00:00:00.000000000",
          "2023-07-17T00:00:00.000000000",
          "2023-07-18T00:00:00.000000000",
          "2023-07-19T00:00:00.000000000",
          "2023-07-20T00:00:00.000000000",
          "2023-07-21T00:00:00.000000000",
          "2023-07-22T00:00:00.000000000",
          "2023-07-23T00:00:00.000000000",
          "2023-07-24T00:00:00.000000000",
          "2023-07-25T00:00:00.000000000",
          "2023-07-26T00:00:00.000000000",
          "2023-07-27T00:00:00.000000000",
          "2023-07-28T00:00:00.000000000",
          "2023-07-29T00:00:00.000000000",
          "2023-07-30T00:00:00.000000000",
          "2023-07-31T00:00:00.000000000",
          "2023-08-01T00:00:00.000000000",
          "2023-08-02T00:00:00.000000000",
          "2023-08-03T00:00:00.000000000",
          "2023-08-04T00:00:00.000000000",
          "2023-08-05T00:00:00.000000000",
          "2023-08-06T00:00:00.000000000",
          "2023-08-07T00:00:00.000000000",
          "2023-08-08T00:00:00.000000000",
          "2023-08-09T00:00:00.000000000",
          "2023-08-10T00:00:00.000000000",
          "2023-08-11T00:00:00.000000000",
          "2023-08-12T00:00:00.000000000",
          "2023-08-13T00:00:00.000000000",
          "2023-08-14T00:00:00.000000000",
          "2023-08-15T00:00:00.000000000",
          "2023-08-16T00:00:00.000000000",
          "2023-08-17T00:00:00.000000000",
          "2023-08-18T00:00:00.000000000",
          "2023-08-19T00:00:00.000000000",
          "2023-08-20T00:00:00.000000000",
          "2023-08-21T00:00:00.000000000",
          "2023-08-22T00:00:00.000000000",
          "2023-08-23T00:00:00.000000000",
          "2023-08-24T00:00:00.000000000",
          "2023-08-25T00:00:00.000000000",
          "2023-08-26T00:00:00.000000000",
          "2023-08-27T00:00:00.000000000",
          "2023-08-28T00:00:00.000000000",
          "2023-08-29T00:00:00.000000000",
          "2023-08-30T00:00:00.000000000",
          "2023-08-31T00:00:00.000000000",
          "2023-09-01T00:00:00.000000000",
          "2023-09-02T00:00:00.000000000",
          "2023-09-03T00:00:00.000000000",
          "2023-09-04T00:00:00.000000000",
          "2023-09-05T00:00:00.000000000",
          "2023-09-06T00:00:00.000000000",
          "2023-09-07T00:00:00.000000000",
          "2023-09-08T00:00:00.000000000",
          "2023-09-09T00:00:00.000000000",
          "2023-09-10T00:00:00.000000000",
          "2023-09-11T00:00:00.000000000",
          "2023-09-12T00:00:00.000000000",
          "2023-09-13T00:00:00.000000000",
          "2023-09-14T00:00:00.000000000",
          "2023-09-15T00:00:00.000000000",
          "2023-09-16T00:00:00.000000000",
          "2023-09-17T00:00:00.000000000",
          "2023-09-18T00:00:00.000000000",
          "2023-09-19T00:00:00.000000000",
          "2023-09-20T00:00:00.000000000",
          "2023-09-21T00:00:00.000000000",
          "2023-09-22T00:00:00.000000000",
          "2023-09-23T00:00:00.000000000",
          "2023-09-24T00:00:00.000000000",
          "2023-09-25T00:00:00.000000000",
          "2023-09-26T00:00:00.000000000",
          "2023-09-27T00:00:00.000000000",
          "2023-09-28T00:00:00.000000000",
          "2023-09-29T00:00:00.000000000",
          "2023-09-30T00:00:00.000000000",
          "2023-10-01T00:00:00.000000000",
          "2023-10-02T00:00:00.000000000",
          "2023-10-03T00:00:00.000000000",
          "2023-10-04T00:00:00.000000000",
          "2023-10-05T00:00:00.000000000",
          "2023-10-06T00:00:00.000000000",
          "2023-10-07T00:00:00.000000000",
          "2023-10-08T00:00:00.000000000",
          "2023-10-09T00:00:00.000000000",
          "2023-10-10T00:00:00.000000000",
          "2023-10-11T00:00:00.000000000",
          "2023-10-12T00:00:00.000000000",
          "2023-10-13T00:00:00.000000000",
          "2023-10-14T00:00:00.000000000",
          "2023-10-15T00:00:00.000000000",
          "2023-10-16T00:00:00.000000000",
          "2023-10-17T00:00:00.000000000",
          "2023-10-18T00:00:00.000000000",
          "2023-10-19T00:00:00.000000000",
          "2023-10-20T00:00:00.000000000",
          "2023-10-21T00:00:00.000000000",
          "2023-10-22T00:00:00.000000000",
          "2023-10-23T00:00:00.000000000",
          "2023-10-24T00:00:00.000000000",
          "2023-10-25T00:00:00.000000000",
          "2023-10-26T00:00:00.000000000",
          "2023-10-27T00:00:00.000000000",
          "2023-10-28T00:00:00.000000000",
          "2023-10-29T00:00:00.000000000",
          "2023-10-30T00:00:00.000000000",
          "2023-10-31T00:00:00.000000000",
          "2023-11-01T00:00:00.000000000",
          "2023-11-02T00:00:00.000000000",
          "2023-11-03T00:00:00.000000000",
          "2023-11-04T00:00:00.000000000",
          "2023-11-05T00:00:00.000000000",
          "2023-11-06T00:00:00.000000000",
          "2023-11-07T00:00:00.000000000",
          "2023-11-08T00:00:00.000000000",
          "2023-11-09T00:00:00.000000000",
          "2023-11-10T00:00:00.000000000",
          "2023-11-11T00:00:00.000000000",
          "2023-11-12T00:00:00.000000000",
          "2023-11-13T00:00:00.000000000",
          "2023-11-14T00:00:00.000000000",
          "2023-11-15T00:00:00.000000000",
          "2023-11-16T00:00:00.000000000",
          "2023-11-17T00:00:00.000000000",
          "2023-11-18T00:00:00.000000000",
          "2023-11-19T00:00:00.000000000",
          "2023-11-20T00:00:00.000000000",
          "2023-11-21T00:00:00.000000000",
          "2023-11-22T00:00:00.000000000",
          "2023-11-23T00:00:00.000000000",
          "2023-11-24T00:00:00.000000000",
          "2023-11-25T00:00:00.000000000",
          "2023-11-26T00:00:00.000000000",
          "2023-11-27T00:00:00.000000000",
          "2023-11-28T00:00:00.000000000",
          "2023-11-29T00:00:00.000000000",
          "2023-11-30T00:00:00.000000000",
          "2023-12-01T00:00:00.000000000",
          "2023-12-02T00:00:00.000000000",
          "2023-12-03T00:00:00.000000000",
          "2023-12-04T00:00:00.000000000",
          "2023-12-05T00:00:00.000000000",
          "2023-12-06T00:00:00.000000000",
          "2023-12-07T00:00:00.000000000",
          "2023-12-08T00:00:00.000000000",
          "2023-12-09T00:00:00.000000000",
          "2023-12-10T00:00:00.000000000",
          "2023-12-11T00:00:00.000000000",
          "2023-12-12T00:00:00.000000000",
          "2023-12-13T00:00:00.000000000",
          "2023-12-14T00:00:00.000000000",
          "2023-12-15T00:00:00.000000000",
          "2023-12-16T00:00:00.000000000",
          "2023-12-17T00:00:00.000000000",
          "2023-12-18T00:00:00.000000000",
          "2023-12-19T00:00:00.000000000",
          "2023-12-20T00:00:00.000000000",
          "2023-12-21T00:00:00.000000000",
          "2023-12-22T00:00:00.000000000",
          "2023-12-23T00:00:00.000000000",
          "2023-12-24T00:00:00.000000000",
          "2023-12-25T00:00:00.000000000",
          "2023-12-26T00:00:00.000000000",
          "2023-12-26T00:00:00.000000000",
          "2023-12-25T00:00:00.000000000",
          "2023-12-24T00:00:00.000000000",
          "2023-12-23T00:00:00.000000000",
          "2023-12-22T00:00:00.000000000",
          "2023-12-21T00:00:00.000000000",
          "2023-12-20T00:00:00.000000000",
          "2023-12-19T00:00:00.000000000",
          "2023-12-18T00:00:00.000000000",
          "2023-12-17T00:00:00.000000000",
          "2023-12-16T00:00:00.000000000",
          "2023-12-15T00:00:00.000000000",
          "2023-12-14T00:00:00.000000000",
          "2023-12-13T00:00:00.000000000",
          "2023-12-12T00:00:00.000000000",
          "2023-12-11T00:00:00.000000000",
          "2023-12-10T00:00:00.000000000",
          "2023-12-09T00:00:00.000000000",
          "2023-12-08T00:00:00.000000000",
          "2023-12-07T00:00:00.000000000",
          "2023-12-06T00:00:00.000000000",
          "2023-12-05T00:00:00.000000000",
          "2023-12-04T00:00:00.000000000",
          "2023-12-03T00:00:00.000000000",
          "2023-12-02T00:00:00.000000000",
          "2023-12-01T00:00:00.000000000",
          "2023-11-30T00:00:00.000000000",
          "2023-11-29T00:00:00.000000000",
          "2023-11-28T00:00:00.000000000",
          "2023-11-27T00:00:00.000000000",
          "2023-11-26T00:00:00.000000000",
          "2023-11-25T00:00:00.000000000",
          "2023-11-24T00:00:00.000000000",
          "2023-11-23T00:00:00.000000000",
          "2023-11-22T00:00:00.000000000",
          "2023-11-21T00:00:00.000000000",
          "2023-11-20T00:00:00.000000000",
          "2023-11-19T00:00:00.000000000",
          "2023-11-18T00:00:00.000000000",
          "2023-11-17T00:00:00.000000000",
          "2023-11-16T00:00:00.000000000",
          "2023-11-15T00:00:00.000000000",
          "2023-11-14T00:00:00.000000000",
          "2023-11-13T00:00:00.000000000",
          "2023-11-12T00:00:00.000000000",
          "2023-11-11T00:00:00.000000000",
          "2023-11-10T00:00:00.000000000",
          "2023-11-09T00:00:00.000000000",
          "2023-11-08T00:00:00.000000000",
          "2023-11-07T00:00:00.000000000",
          "2023-11-06T00:00:00.000000000",
          "2023-11-05T00:00:00.000000000",
          "2023-11-04T00:00:00.000000000",
          "2023-11-03T00:00:00.000000000",
          "2023-11-02T00:00:00.000000000",
          "2023-11-01T00:00:00.000000000",
          "2023-10-31T00:00:00.000000000",
          "2023-10-30T00:00:00.000000000",
          "2023-10-29T00:00:00.000000000",
          "2023-10-28T00:00:00.000000000",
          "2023-10-27T00:00:00.000000000",
          "2023-10-26T00:00:00.000000000",
          "2023-10-25T00:00:00.000000000",
          "2023-10-24T00:00:00.000000000",
          "2023-10-23T00:00:00.000000000",
          "2023-10-22T00:00:00.000000000",
          "2023-10-21T00:00:00.000000000",
          "2023-10-20T00:00:00.000000000",
          "2023-10-19T00:00:00.000000000",
          "2023-10-18T00:00:00.000000000",
          "2023-10-17T00:00:00.000000000",
          "2023-10-16T00:00:00.000000000",
          "2023-10-15T00:00:00.000000000",
          "2023-10-14T00:00:00.000000000",
          "2023-10-13T00:00:00.000000000",
          "2023-10-12T00:00:00.000000000",
          "2023-10-11T00:00:00.000000000",
          "2023-10-10T00:00:00.000000000",
          "2023-10-09T00:00:00.000000000",
          "2023-10-08T00:00:00.000000000",
          "2023-10-07T00:00:00.000000000",
          "2023-10-06T00:00:00.000000000",
          "2023-10-05T00:00:00.000000000",
          "2023-10-04T00:00:00.000000000",
          "2023-10-03T00:00:00.000000000",
          "2023-10-02T00:00:00.000000000",
          "2023-10-01T00:00:00.000000000",
          "2023-09-30T00:00:00.000000000",
          "2023-09-29T00:00:00.000000000",
          "2023-09-28T00:00:00.000000000",
          "2023-09-27T00:00:00.000000000",
          "2023-09-26T00:00:00.000000000",
          "2023-09-25T00:00:00.000000000",
          "2023-09-24T00:00:00.000000000",
          "2023-09-23T00:00:00.000000000",
          "2023-09-22T00:00:00.000000000",
          "2023-09-21T00:00:00.000000000",
          "2023-09-20T00:00:00.000000000",
          "2023-09-19T00:00:00.000000000",
          "2023-09-18T00:00:00.000000000",
          "2023-09-17T00:00:00.000000000",
          "2023-09-16T00:00:00.000000000",
          "2023-09-15T00:00:00.000000000",
          "2023-09-14T00:00:00.000000000",
          "2023-09-13T00:00:00.000000000",
          "2023-09-12T00:00:00.000000000",
          "2023-09-11T00:00:00.000000000",
          "2023-09-10T00:00:00.000000000",
          "2023-09-09T00:00:00.000000000",
          "2023-09-08T00:00:00.000000000",
          "2023-09-07T00:00:00.000000000",
          "2023-09-06T00:00:00.000000000",
          "2023-09-05T00:00:00.000000000",
          "2023-09-04T00:00:00.000000000",
          "2023-09-03T00:00:00.000000000",
          "2023-09-02T00:00:00.000000000",
          "2023-09-01T00:00:00.000000000",
          "2023-08-31T00:00:00.000000000",
          "2023-08-30T00:00:00.000000000",
          "2023-08-29T00:00:00.000000000",
          "2023-08-28T00:00:00.000000000",
          "2023-08-27T00:00:00.000000000",
          "2023-08-26T00:00:00.000000000",
          "2023-08-25T00:00:00.000000000",
          "2023-08-24T00:00:00.000000000",
          "2023-08-23T00:00:00.000000000",
          "2023-08-22T00:00:00.000000000",
          "2023-08-21T00:00:00.000000000",
          "2023-08-20T00:00:00.000000000",
          "2023-08-19T00:00:00.000000000",
          "2023-08-18T00:00:00.000000000",
          "2023-08-17T00:00:00.000000000",
          "2023-08-16T00:00:00.000000000",
          "2023-08-15T00:00:00.000000000",
          "2023-08-14T00:00:00.000000000",
          "2023-08-13T00:00:00.000000000",
          "2023-08-12T00:00:00.000000000",
          "2023-08-11T00:00:00.000000000",
          "2023-08-10T00:00:00.000000000",
          "2023-08-09T00:00:00.000000000",
          "2023-08-08T00:00:00.000000000",
          "2023-08-07T00:00:00.000000000",
          "2023-08-06T00:00:00.000000000",
          "2023-08-05T00:00:00.000000000",
          "2023-08-04T00:00:00.000000000",
          "2023-08-03T00:00:00.000000000",
          "2023-08-02T00:00:00.000000000",
          "2023-08-01T00:00:00.000000000",
          "2023-07-31T00:00:00.000000000",
          "2023-07-30T00:00:00.000000000",
          "2023-07-29T00:00:00.000000000",
          "2023-07-28T00:00:00.000000000",
          "2023-07-27T00:00:00.000000000",
          "2023-07-26T00:00:00.000000000",
          "2023-07-25T00:00:00.000000000",
          "2023-07-24T00:00:00.000000000",
          "2023-07-23T00:00:00.000000000",
          "2023-07-22T00:00:00.000000000",
          "2023-07-21T00:00:00.000000000",
          "2023-07-20T00:00:00.000000000",
          "2023-07-19T00:00:00.000000000",
          "2023-07-18T00:00:00.000000000",
          "2023-07-17T00:00:00.000000000",
          "2023-07-16T00:00:00.000000000",
          "2023-07-15T00:00:00.000000000",
          "2023-07-14T00:00:00.000000000",
          "2023-07-13T00:00:00.000000000",
          "2023-07-12T00:00:00.000000000",
          "2023-07-11T00:00:00.000000000",
          "2023-07-10T00:00:00.000000000",
          "2023-07-09T00:00:00.000000000",
          "2023-07-08T00:00:00.000000000",
          "2023-07-07T00:00:00.000000000",
          "2023-07-06T00:00:00.000000000",
          "2023-07-05T00:00:00.000000000",
          "2023-07-04T00:00:00.000000000",
          "2023-07-03T00:00:00.000000000",
          "2023-07-02T00:00:00.000000000",
          "2023-07-01T00:00:00.000000000",
          "2023-06-30T00:00:00.000000000",
          "2023-06-29T00:00:00.000000000",
          "2023-06-28T00:00:00.000000000",
          "2023-06-27T00:00:00.000000000",
          "2023-06-26T00:00:00.000000000",
          "2023-06-25T00:00:00.000000000",
          "2023-06-24T00:00:00.000000000",
          "2023-06-23T00:00:00.000000000",
          "2023-06-22T00:00:00.000000000",
          "2023-06-21T00:00:00.000000000",
          "2023-06-20T00:00:00.000000000",
          "2023-06-19T00:00:00.000000000",
          "2023-06-18T00:00:00.000000000",
          "2023-06-17T00:00:00.000000000",
          "2023-06-16T00:00:00.000000000",
          "2023-06-15T00:00:00.000000000",
          "2023-06-14T00:00:00.000000000",
          "2023-06-13T00:00:00.000000000",
          "2023-06-12T00:00:00.000000000",
          "2023-06-11T00:00:00.000000000",
          "2023-06-10T00:00:00.000000000",
          "2023-06-09T00:00:00.000000000",
          "2023-06-08T00:00:00.000000000",
          "2023-06-07T00:00:00.000000000",
          "2023-06-06T00:00:00.000000000",
          "2023-06-05T00:00:00.000000000",
          "2023-06-04T00:00:00.000000000",
          "2023-06-03T00:00:00.000000000",
          "2023-06-02T00:00:00.000000000",
          "2023-06-01T00:00:00.000000000",
          "2023-05-31T00:00:00.000000000",
          "2023-05-30T00:00:00.000000000",
          "2023-05-29T00:00:00.000000000",
          "2023-05-28T00:00:00.000000000",
          "2023-05-27T00:00:00.000000000",
          "2023-05-26T00:00:00.000000000",
          "2023-05-25T00:00:00.000000000",
          "2023-05-24T00:00:00.000000000",
          "2023-05-23T00:00:00.000000000",
          "2023-05-22T00:00:00.000000000",
          "2023-05-21T00:00:00.000000000",
          "2023-05-20T00:00:00.000000000",
          "2023-05-19T00:00:00.000000000",
          "2023-05-18T00:00:00.000000000",
          "2023-05-17T00:00:00.000000000",
          "2023-05-16T00:00:00.000000000",
          "2023-05-15T00:00:00.000000000",
          "2023-05-14T00:00:00.000000000",
          "2023-05-13T00:00:00.000000000",
          "2023-05-12T00:00:00.000000000",
          "2023-05-11T00:00:00.000000000",
          "2023-05-10T00:00:00.000000000",
          "2023-05-09T00:00:00.000000000",
          "2023-05-08T00:00:00.000000000",
          "2023-05-07T00:00:00.000000000",
          "2023-05-06T00:00:00.000000000",
          "2023-05-05T00:00:00.000000000",
          "2023-05-04T00:00:00.000000000",
          "2023-05-03T00:00:00.000000000",
          "2023-05-02T00:00:00.000000000",
          "2023-05-01T00:00:00.000000000",
          "2023-04-30T00:00:00.000000000",
          "2023-04-29T00:00:00.000000000",
          "2023-04-28T00:00:00.000000000",
          "2023-04-27T00:00:00.000000000",
          "2023-04-26T00:00:00.000000000",
          "2023-04-25T00:00:00.000000000",
          "2023-04-24T00:00:00.000000000",
          "2023-04-23T00:00:00.000000000",
          "2023-04-22T00:00:00.000000000",
          "2023-04-21T00:00:00.000000000",
          "2023-04-20T00:00:00.000000000",
          "2023-04-19T00:00:00.000000000",
          "2023-04-18T00:00:00.000000000",
          "2023-04-17T00:00:00.000000000",
          "2023-04-16T00:00:00.000000000",
          "2023-04-15T00:00:00.000000000",
          "2023-04-14T00:00:00.000000000",
          "2023-04-13T00:00:00.000000000",
          "2023-04-12T00:00:00.000000000",
          "2023-04-11T00:00:00.000000000",
          "2023-04-10T00:00:00.000000000",
          "2023-04-09T00:00:00.000000000",
          "2023-04-08T00:00:00.000000000",
          "2023-04-07T00:00:00.000000000",
          "2023-04-06T00:00:00.000000000",
          "2023-04-05T00:00:00.000000000",
          "2023-04-04T00:00:00.000000000",
          "2023-04-03T00:00:00.000000000",
          "2023-04-02T00:00:00.000000000",
          "2023-04-01T00:00:00.000000000",
          "2023-03-31T00:00:00.000000000",
          "2023-03-30T00:00:00.000000000",
          "2023-03-29T00:00:00.000000000",
          "2023-03-28T00:00:00.000000000",
          "2023-03-27T00:00:00.000000000",
          "2023-03-26T00:00:00.000000000",
          "2023-03-25T00:00:00.000000000",
          "2023-03-24T00:00:00.000000000",
          "2023-03-23T00:00:00.000000000",
          "2023-03-22T00:00:00.000000000",
          "2023-03-21T00:00:00.000000000",
          "2023-03-20T00:00:00.000000000",
          "2023-03-19T00:00:00.000000000",
          "2023-03-18T00:00:00.000000000",
          "2023-03-17T00:00:00.000000000",
          "2023-03-16T00:00:00.000000000",
          "2023-03-15T00:00:00.000000000",
          "2023-03-14T00:00:00.000000000",
          "2023-03-13T00:00:00.000000000",
          "2023-03-12T00:00:00.000000000",
          "2023-03-11T00:00:00.000000000",
          "2023-03-10T00:00:00.000000000",
          "2023-03-09T00:00:00.000000000",
          "2023-03-08T00:00:00.000000000",
          "2023-03-07T00:00:00.000000000",
          "2023-03-06T00:00:00.000000000",
          "2023-03-05T00:00:00.000000000",
          "2023-03-04T00:00:00.000000000",
          "2023-03-03T00:00:00.000000000",
          "2023-03-02T00:00:00.000000000",
          "2023-03-01T00:00:00.000000000",
          "2023-02-28T00:00:00.000000000",
          "2023-02-27T00:00:00.000000000",
          "2023-02-26T00:00:00.000000000",
          "2023-02-25T00:00:00.000000000",
          "2023-02-24T00:00:00.000000000",
          "2023-02-23T00:00:00.000000000",
          "2023-02-22T00:00:00.000000000",
          "2023-02-21T00:00:00.000000000",
          "2023-02-20T00:00:00.000000000",
          "2023-02-19T00:00:00.000000000",
          "2023-02-18T00:00:00.000000000",
          "2023-02-17T00:00:00.000000000",
          "2023-02-16T00:00:00.000000000",
          "2023-02-15T00:00:00.000000000",
          "2023-02-14T00:00:00.000000000",
          "2023-02-13T00:00:00.000000000",
          "2023-02-12T00:00:00.000000000",
          "2023-02-11T00:00:00.000000000",
          "2023-02-10T00:00:00.000000000",
          "2023-02-09T00:00:00.000000000",
          "2023-02-08T00:00:00.000000000",
          "2023-02-07T00:00:00.000000000",
          "2023-02-06T00:00:00.000000000",
          "2023-02-05T00:00:00.000000000",
          "2023-02-04T00:00:00.000000000",
          "2023-02-03T00:00:00.000000000",
          "2023-02-02T00:00:00.000000000",
          "2023-02-01T00:00:00.000000000",
          "2023-01-31T00:00:00.000000000",
          "2023-01-30T00:00:00.000000000",
          "2023-01-29T00:00:00.000000000",
          "2023-01-28T00:00:00.000000000",
          "2023-01-27T00:00:00.000000000",
          "2023-01-26T00:00:00.000000000",
          "2023-01-25T00:00:00.000000000",
          "2023-01-24T00:00:00.000000000",
          "2023-01-23T00:00:00.000000000",
          "2023-01-22T00:00:00.000000000",
          "2023-01-21T00:00:00.000000000",
          "2023-01-20T00:00:00.000000000",
          "2023-01-19T00:00:00.000000000",
          "2023-01-18T00:00:00.000000000",
          "2023-01-17T00:00:00.000000000",
          "2023-01-16T00:00:00.000000000",
          "2023-01-15T00:00:00.000000000",
          "2023-01-14T00:00:00.000000000",
          "2023-01-13T00:00:00.000000000",
          "2023-01-12T00:00:00.000000000",
          "2023-01-11T00:00:00.000000000",
          "2023-01-10T00:00:00.000000000",
          "2023-01-09T00:00:00.000000000",
          "2023-01-08T00:00:00.000000000",
          "2023-01-07T00:00:00.000000000",
          "2023-01-06T00:00:00.000000000",
          "2023-01-05T00:00:00.000000000",
          "2023-01-04T00:00:00.000000000",
          "2023-01-03T00:00:00.000000000",
          "2023-01-02T00:00:00.000000000",
          "2023-01-01T00:00:00.000000000"
         ],
         "xaxis": "x3",
         "y": {
          "bdata": "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",
          "dtype": "f8"
         },
         "yaxis": "y3"
        },
        {
         "line": {
          "color": "black",
          "dash": "dash",
          "width": 1
         },
         "marker": {
          "color": "black",
          "size": 4,
          "symbol": "x"
         },
         "mode": "lines+markers",
         "name": "Observed day layer 1",
         "type": "scatter",
         "x": [
          "2023-01-01T00:00:00.000000000",
          "2023-01-02T00:00:00.000000000",
          "2023-01-03T00:00:00.000000000",
          "2023-01-04T00:00:00.000000000",
          "2023-01-05T00:00:00.000000000",
          "2023-01-06T00:00:00.000000000",
          "2023-01-07T00:00:00.000000000",
          "2023-01-08T00:00:00.000000000",
          "2023-01-09T00:00:00.000000000",
          "2023-01-10T00:00:00.000000000",
          "2023-01-11T00:00:00.000000000",
          "2023-01-12T00:00:00.000000000",
          "2023-01-13T00:00:00.000000000",
          "2023-01-14T00:00:00.000000000",
          "2023-01-15T00:00:00.000000000",
          "2023-01-16T00:00:00.000000000",
          "2023-01-17T00:00:00.000000000",
          "2023-01-18T00:00:00.000000000",
          "2023-01-19T00:00:00.000000000",
          "2023-01-20T00:00:00.000000000",
          "2023-01-21T00:00:00.000000000",
          "2023-01-22T00:00:00.000000000",
          "2023-01-23T00:00:00.000000000",
          "2023-01-24T00:00:00.000000000",
          "2023-01-25T00:00:00.000000000",
          "2023-01-26T00:00:00.000000000",
          "2023-01-27T00:00:00.000000000",
          "2023-01-28T00:00:00.000000000",
          "2023-01-29T00:00:00.000000000",
          "2023-01-30T00:00:00.000000000",
          "2023-01-31T00:00:00.000000000",
          "2023-02-01T00:00:00.000000000",
          "2023-02-02T00:00:00.000000000",
          "2023-02-03T00:00:00.000000000",
          "2023-02-04T00:00:00.000000000",
          "2023-02-05T00:00:00.000000000",
          "2023-02-06T00:00:00.000000000",
          "2023-02-07T00:00:00.000000000",
          "2023-02-08T00:00:00.000000000",
          "2023-02-09T00:00:00.000000000",
          "2023-02-10T00:00:00.000000000",
          "2023-02-11T00:00:00.000000000",
          "2023-02-12T00:00:00.000000000",
          "2023-02-13T00:00:00.000000000",
          "2023-02-14T00:00:00.000000000",
          "2023-02-15T00:00:00.000000000",
          "2023-02-16T00:00:00.000000000",
          "2023-02-17T00:00:00.000000000",
          "2023-02-18T00:00:00.000000000",
          "2023-02-19T00:00:00.000000000",
          "2023-02-20T00:00:00.000000000",
          "2023-02-21T00:00:00.000000000",
          "2023-02-22T00:00:00.000000000",
          "2023-02-23T00:00:00.000000000",
          "2023-02-24T00:00:00.000000000",
          "2023-02-25T00:00:00.000000000",
          "2023-02-26T00:00:00.000000000",
          "2023-02-27T00:00:00.000000000",
          "2023-02-28T00:00:00.000000000",
          "2023-03-01T00:00:00.000000000",
          "2023-03-02T00:00:00.000000000",
          "2023-03-03T00:00:00.000000000",
          "2023-03-04T00:00:00.000000000",
          "2023-03-05T00:00:00.000000000",
          "2023-03-06T00:00:00.000000000",
          "2023-03-07T00:00:00.000000000",
          "2023-03-08T00:00:00.000000000",
          "2023-03-09T00:00:00.000000000",
          "2023-03-10T00:00:00.000000000",
          "2023-03-11T00:00:00.000000000",
          "2023-03-12T00:00:00.000000000",
          "2023-03-13T00:00:00.000000000",
          "2023-03-14T00:00:00.000000000",
          "2023-03-15T00:00:00.000000000",
          "2023-03-16T00:00:00.000000000",
          "2023-03-17T00:00:00.000000000",
          "2023-03-18T00:00:00.000000000",
          "2023-03-19T00:00:00.000000000",
          "2023-03-20T00:00:00.000000000",
          "2023-03-21T00:00:00.000000000",
          "2023-03-22T00:00:00.000000000",
          "2023-03-23T00:00:00.000000000",
          "2023-03-24T00:00:00.000000000",
          "2023-03-25T00:00:00.000000000",
          "2023-03-26T00:00:00.000000000",
          "2023-03-27T00:00:00.000000000",
          "2023-03-28T00:00:00.000000000",
          "2023-03-29T00:00:00.000000000",
          "2023-03-30T00:00:00.000000000",
          "2023-03-31T00:00:00.000000000",
          "2023-04-01T00:00:00.000000000",
          "2023-04-02T00:00:00.000000000",
          "2023-04-03T00:00:00.000000000",
          "2023-04-04T00:00:00.000000000",
          "2023-04-05T00:00:00.000000000",
          "2023-04-06T00:00:00.000000000",
          "2023-04-07T00:00:00.000000000",
          "2023-04-08T00:00:00.000000000",
          "2023-04-09T00:00:00.000000000",
          "2023-04-10T00:00:00.000000000",
          "2023-04-11T00:00:00.000000000",
          "2023-04-12T00:00:00.000000000",
          "2023-04-13T00:00:00.000000000",
          "2023-04-14T00:00:00.000000000",
          "2023-04-15T00:00:00.000000000",
          "2023-04-16T00:00:00.000000000",
          "2023-04-17T00:00:00.000000000",
          "2023-04-18T00:00:00.000000000",
          "2023-04-19T00:00:00.000000000",
          "2023-04-20T00:00:00.000000000",
          "2023-04-21T00:00:00.000000000",
          "2023-04-22T00:00:00.000000000",
          "2023-04-23T00:00:00.000000000",
          "2023-04-24T00:00:00.000000000",
          "2023-04-25T00:00:00.000000000",
          "2023-04-26T00:00:00.000000000",
          "2023-04-27T00:00:00.000000000",
          "2023-04-28T00:00:00.000000000",
          "2023-04-29T00:00:00.000000000",
          "2023-04-30T00:00:00.000000000",
          "2023-05-01T00:00:00.000000000",
          "2023-05-02T00:00:00.000000000",
          "2023-05-03T00:00:00.000000000",
          "2023-05-04T00:00:00.000000000",
          "2023-05-05T00:00:00.000000000",
          "2023-05-06T00:00:00.000000000",
          "2023-05-07T00:00:00.000000000",
          "2023-05-08T00:00:00.000000000",
          "2023-05-09T00:00:00.000000000",
          "2023-05-10T00:00:00.000000000",
          "2023-05-11T00:00:00.000000000",
          "2023-05-12T00:00:00.000000000",
          "2023-05-13T00:00:00.000000000",
          "2023-05-14T00:00:00.000000000",
          "2023-05-15T00:00:00.000000000",
          "2023-05-16T00:00:00.000000000",
          "2023-05-17T00:00:00.000000000",
          "2023-05-18T00:00:00.000000000",
          "2023-05-19T00:00:00.000000000",
          "2023-05-20T00:00:00.000000000",
          "2023-05-21T00:00:00.000000000",
          "2023-05-22T00:00:00.000000000",
          "2023-05-23T00:00:00.000000000",
          "2023-05-24T00:00:00.000000000",
          "2023-05-25T00:00:00.000000000",
          "2023-05-26T00:00:00.000000000",
          "2023-05-27T00:00:00.000000000",
          "2023-05-28T00:00:00.000000000",
          "2023-05-29T00:00:00.000000000",
          "2023-05-30T00:00:00.000000000",
          "2023-05-31T00:00:00.000000000",
          "2023-06-01T00:00:00.000000000",
          "2023-06-02T00:00:00.000000000",
          "2023-06-03T00:00:00.000000000",
          "2023-06-04T00:00:00.000000000",
          "2023-06-05T00:00:00.000000000",
          "2023-06-06T00:00:00.000000000",
          "2023-06-07T00:00:00.000000000",
          "2023-06-08T00:00:00.000000000",
          "2023-06-09T00:00:00.000000000",
          "2023-06-10T00:00:00.000000000",
          "2023-06-11T00:00:00.000000000",
          "2023-06-12T00:00:00.000000000",
          "2023-06-13T00:00:00.000000000",
          "2023-06-14T00:00:00.000000000",
          "2023-06-15T00:00:00.000000000",
          "2023-06-16T00:00:00.000000000",
          "2023-06-17T00:00:00.000000000",
          "2023-06-18T00:00:00.000000000",
          "2023-06-19T00:00:00.000000000",
          "2023-06-20T00:00:00.000000000",
          "2023-06-21T00:00:00.000000000",
          "2023-06-22T00:00:00.000000000",
          "2023-06-23T00:00:00.000000000",
          "2023-06-24T00:00:00.000000000",
          "2023-06-25T00:00:00.000000000",
          "2023-06-26T00:00:00.000000000",
          "2023-06-27T00:00:00.000000000",
          "2023-06-28T00:00:00.000000000",
          "2023-06-29T00:00:00.000000000",
          "2023-06-30T00:00:00.000000000",
          "2023-07-01T00:00:00.000000000",
          "2023-07-02T00:00:00.000000000",
          "2023-07-03T00:00:00.000000000",
          "2023-07-04T00:00:00.000000000",
          "2023-07-05T00:00:00.000000000",
          "2023-07-06T00:00:00.000000000",
          "2023-07-07T00:00:00.000000000",
          "2023-07-08T00:00:00.000000000",
          "2023-07-09T00:00:00.000000000",
          "2023-07-10T00:00:00.000000000",
          "2023-07-11T00:00:00.000000000",
          "2023-07-12T00:00:00.000000000",
          "2023-07-13T00:00:00.000000000",
          "2023-07-14T00:00:00.000000000",
          "2023-07-15T00:00:00.000000000",
          "2023-07-16T00:00:00.000000000",
          "2023-07-17T00:00:00.000000000",
          "2023-07-18T00:00:00.000000000",
          "2023-07-19T00:00:00.000000000",
          "2023-07-20T00:00:00.000000000",
          "2023-07-21T00:00:00.000000000",
          "2023-07-22T00:00:00.000000000",
          "2023-07-23T00:00:00.000000000",
          "2023-07-24T00:00:00.000000000",
          "2023-07-25T00:00:00.000000000",
          "2023-07-26T00:00:00.000000000",
          "2023-07-27T00:00:00.000000000",
          "2023-07-28T00:00:00.000000000",
          "2023-07-29T00:00:00.000000000",
          "2023-07-30T00:00:00.000000000",
          "2023-07-31T00:00:00.000000000",
          "2023-08-01T00:00:00.000000000",
          "2023-08-02T00:00:00.000000000",
          "2023-08-03T00:00:00.000000000",
          "2023-08-04T00:00:00.000000000",
          "2023-08-05T00:00:00.000000000",
          "2023-08-06T00:00:00.000000000",
          "2023-08-07T00:00:00.000000000",
          "2023-08-08T00:00:00.000000000",
          "2023-08-09T00:00:00.000000000",
          "2023-08-10T00:00:00.000000000",
          "2023-08-11T00:00:00.000000000",
          "2023-08-12T00:00:00.000000000",
          "2023-08-13T00:00:00.000000000",
          "2023-08-14T00:00:00.000000000",
          "2023-08-15T00:00:00.000000000",
          "2023-08-16T00:00:00.000000000",
          "2023-08-17T00:00:00.000000000",
          "2023-08-18T00:00:00.000000000",
          "2023-08-19T00:00:00.000000000",
          "2023-08-20T00:00:00.000000000",
          "2023-08-21T00:00:00.000000000",
          "2023-08-22T00:00:00.000000000",
          "2023-08-23T00:00:00.000000000",
          "2023-08-24T00:00:00.000000000",
          "2023-08-25T00:00:00.000000000",
          "2023-08-26T00:00:00.000000000",
          "2023-08-27T00:00:00.000000000",
          "2023-08-28T00:00:00.000000000",
          "2023-08-29T00:00:00.000000000",
          "2023-08-30T00:00:00.000000000",
          "2023-08-31T00:00:00.000000000",
          "2023-09-01T00:00:00.000000000",
          "2023-09-02T00:00:00.000000000",
          "2023-09-03T00:00:00.000000000",
          "2023-09-04T00:00:00.000000000",
          "2023-09-05T00:00:00.000000000",
          "2023-09-06T00:00:00.000000000",
          "2023-09-07T00:00:00.000000000",
          "2023-09-08T00:00:00.000000000",
          "2023-09-09T00:00:00.000000000",
          "2023-09-10T00:00:00.000000000",
          "2023-09-11T00:00:00.000000000",
          "2023-09-12T00:00:00.000000000",
          "2023-09-13T00:00:00.000000000",
          "2023-09-14T00:00:00.000000000",
          "2023-09-15T00:00:00.000000000",
          "2023-09-16T00:00:00.000000000",
          "2023-09-17T00:00:00.000000000",
          "2023-09-18T00:00:00.000000000",
          "2023-09-19T00:00:00.000000000",
          "2023-09-20T00:00:00.000000000",
          "2023-09-21T00:00:00.000000000",
          "2023-09-22T00:00:00.000000000",
          "2023-09-23T00:00:00.000000000",
          "2023-09-24T00:00:00.000000000",
          "2023-09-25T00:00:00.000000000",
          "2023-09-26T00:00:00.000000000",
          "2023-09-27T00:00:00.000000000",
          "2023-09-28T00:00:00.000000000",
          "2023-09-29T00:00:00.000000000",
          "2023-09-30T00:00:00.000000000",
          "2023-10-01T00:00:00.000000000",
          "2023-10-02T00:00:00.000000000",
          "2023-10-03T00:00:00.000000000",
          "2023-10-04T00:00:00.000000000",
          "2023-10-05T00:00:00.000000000",
          "2023-10-06T00:00:00.000000000",
          "2023-10-07T00:00:00.000000000",
          "2023-10-08T00:00:00.000000000",
          "2023-10-09T00:00:00.000000000",
          "2023-10-10T00:00:00.000000000",
          "2023-10-11T00:00:00.000000000",
          "2023-10-12T00:00:00.000000000",
          "2023-10-13T00:00:00.000000000",
          "2023-10-14T00:00:00.000000000",
          "2023-10-15T00:00:00.000000000",
          "2023-10-16T00:00:00.000000000",
          "2023-10-17T00:00:00.000000000",
          "2023-10-18T00:00:00.000000000",
          "2023-10-19T00:00:00.000000000",
          "2023-10-20T00:00:00.000000000",
          "2023-10-21T00:00:00.000000000",
          "2023-10-22T00:00:00.000000000",
          "2023-10-23T00:00:00.000000000",
          "2023-10-24T00:00:00.000000000",
          "2023-10-25T00:00:00.000000000",
          "2023-10-26T00:00:00.000000000",
          "2023-10-27T00:00:00.000000000",
          "2023-10-28T00:00:00.000000000",
          "2023-10-29T00:00:00.000000000",
          "2023-10-30T00:00:00.000000000",
          "2023-10-31T00:00:00.000000000",
          "2023-11-01T00:00:00.000000000",
          "2023-11-02T00:00:00.000000000",
          "2023-11-03T00:00:00.000000000",
          "2023-11-04T00:00:00.000000000",
          "2023-11-05T00:00:00.000000000",
          "2023-11-06T00:00:00.000000000",
          "2023-11-07T00:00:00.000000000",
          "2023-11-08T00:00:00.000000000",
          "2023-11-09T00:00:00.000000000",
          "2023-11-10T00:00:00.000000000",
          "2023-11-11T00:00:00.000000000",
          "2023-11-12T00:00:00.000000000",
          "2023-11-13T00:00:00.000000000",
          "2023-11-14T00:00:00.000000000",
          "2023-11-15T00:00:00.000000000",
          "2023-11-16T00:00:00.000000000",
          "2023-11-17T00:00:00.000000000",
          "2023-11-18T00:00:00.000000000",
          "2023-11-19T00:00:00.000000000",
          "2023-11-20T00:00:00.000000000",
          "2023-11-21T00:00:00.000000000",
          "2023-11-22T00:00:00.000000000",
          "2023-11-23T00:00:00.000000000",
          "2023-11-24T00:00:00.000000000",
          "2023-11-25T00:00:00.000000000",
          "2023-11-26T00:00:00.000000000",
          "2023-11-27T00:00:00.000000000",
          "2023-11-28T00:00:00.000000000",
          "2023-11-29T00:00:00.000000000",
          "2023-11-30T00:00:00.000000000",
          "2023-12-01T00:00:00.000000000",
          "2023-12-02T00:00:00.000000000",
          "2023-12-03T00:00:00.000000000",
          "2023-12-04T00:00:00.000000000",
          "2023-12-05T00:00:00.000000000",
          "2023-12-06T00:00:00.000000000",
          "2023-12-07T00:00:00.000000000",
          "2023-12-08T00:00:00.000000000",
          "2023-12-09T00:00:00.000000000",
          "2023-12-10T00:00:00.000000000",
          "2023-12-11T00:00:00.000000000",
          "2023-12-12T00:00:00.000000000",
          "2023-12-13T00:00:00.000000000",
          "2023-12-14T00:00:00.000000000",
          "2023-12-15T00:00:00.000000000",
          "2023-12-16T00:00:00.000000000",
          "2023-12-17T00:00:00.000000000",
          "2023-12-18T00:00:00.000000000",
          "2023-12-19T00:00:00.000000000",
          "2023-12-20T00:00:00.000000000",
          "2023-12-21T00:00:00.000000000",
          "2023-12-22T00:00:00.000000000",
          "2023-12-23T00:00:00.000000000",
          "2023-12-24T00:00:00.000000000",
          "2023-12-25T00:00:00.000000000",
          "2023-12-26T00:00:00.000000000"
         ],
         "xaxis": "x3",
         "y": {
          "bdata": "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",
          "dtype": "f8"
         },
         "yaxis": "y3"
        }
       ],
       "layout": {
        "annotations": [
         {
          "font": {
           "size": 16
          },
          "showarrow": false,
          "text": "Day",
          "x": 0.22,
          "xanchor": "center",
          "xref": "paper",
          "y": 1,
          "yanchor": "bottom",
          "yref": "paper"
         },
         {
          "font": {
           "size": 16
          },
          "showarrow": false,
          "text": "Night",
          "x": 0.76,
          "xanchor": "center",
          "xref": "paper",
          "y": 1,
          "yanchor": "bottom",
          "yref": "paper"
         },
         {
          "font": {
           "size": 16
          },
          "showarrow": false,
          "text": "Layer 0",
          "textangle": 90,
          "x": 0.98,
          "xanchor": "left",
          "xref": "paper",
          "y": 0.775,
          "yanchor": "middle",
          "yref": "paper"
         },
         {
          "font": {
           "size": 16
          },
          "showarrow": false,
          "text": "Layer 1",
          "textangle": 90,
          "x": 0.98,
          "xanchor": "left",
          "xref": "paper",
          "y": 0.225,
          "yanchor": "middle",
          "yref": "paper"
         },
         {
          "font": {
           "size": 16
          },
          "showarrow": false,
          "text": "Time",
          "x": 0.49,
          "xanchor": "center",
          "xref": "paper",
          "y": 0,
          "yanchor": "top",
          "yref": "paper",
          "yshift": -30
         },
         {
          "font": {
           "size": 16
          },
          "showarrow": false,
          "text": "Biomass (mg/m2)",
          "textangle": -90,
          "x": 0,
          "xanchor": "right",
          "xref": "paper",
          "xshift": -40,
          "y": 0.5,
          "yanchor": "middle",
          "yref": "paper"
         }
        ],
        "template": {
         "data": {
          "bar": [
           {
            "error_x": {
             "color": "#2a3f5f"
            },
            "error_y": {
             "color": "#2a3f5f"
            },
            "marker": {
             "line": {
              "color": "#E5ECF6",
              "width": 0.5
             },
             "pattern": {
              "fillmode": "overlay",
              "size": 10,
              "solidity": 0.2
             }
            },
            "type": "bar"
           }
          ],
          "barpolar": [
           {
            "marker": {
             "line": {
              "color": "#E5ECF6",
              "width": 0.5
             },
             "pattern": {
              "fillmode": "overlay",
              "size": 10,
              "solidity": 0.2
             }
            },
            "type": "barpolar"
           }
          ],
          "carpet": [
           {
            "aaxis": {
             "endlinecolor": "#2a3f5f",
             "gridcolor": "white",
             "linecolor": "white",
             "minorgridcolor": "white",
             "startlinecolor": "#2a3f5f"
            },
            "baxis": {
             "endlinecolor": "#2a3f5f",
             "gridcolor": "white",
             "linecolor": "white",
             "minorgridcolor": "white",
             "startlinecolor": "#2a3f5f"
            },
            "type": "carpet"
           }
          ],
          "choropleth": [
           {
            "colorbar": {
             "outlinewidth": 0,
             "ticks": ""
            },
            "type": "choropleth"
           }
          ],
          "contour": [
           {
            "colorbar": {
             "outlinewidth": 0,
             "ticks": ""
            },
            "colorscale": [
             [
              0,
              "#0d0887"
             ],
             [
              0.1111111111111111,
              "#46039f"
             ],
             [
              0.2222222222222222,
              "#7201a8"
             ],
             [
              0.3333333333333333,
              "#9c179e"
             ],
             [
              0.4444444444444444,
              "#bd3786"
             ],
             [
              0.5555555555555556,
              "#d8576b"
             ],
             [
              0.6666666666666666,
              "#ed7953"
             ],
             [
              0.7777777777777778,
              "#fb9f3a"
             ],
             [
              0.8888888888888888,
              "#fdca26"
             ],
             [
              1,
              "#f0f921"
             ]
            ],
            "type": "contour"
           }
          ],
          "contourcarpet": [
           {
            "colorbar": {
             "outlinewidth": 0,
             "ticks": ""
            },
            "type": "contourcarpet"
           }
          ],
          "heatmap": [
           {
            "colorbar": {
             "outlinewidth": 0,
             "ticks": ""
            },
            "colorscale": [
             [
              0,
              "#0d0887"
             ],
             [
              0.1111111111111111,
              "#46039f"
             ],
             [
              0.2222222222222222,
              "#7201a8"
             ],
             [
              0.3333333333333333,
              "#9c179e"
             ],
             [
              0.4444444444444444,
              "#bd3786"
             ],
             [
              0.5555555555555556,
              "#d8576b"
             ],
             [
              0.6666666666666666,
              "#ed7953"
             ],
             [
              0.7777777777777778,
              "#fb9f3a"
             ],
             [
              0.8888888888888888,
              "#fdca26"
             ],
             [
              1,
              "#f0f921"
             ]
            ],
            "type": "heatmap"
           }
          ],
          "histogram": [
           {
            "marker": {
             "pattern": {
              "fillmode": "overlay",
              "size": 10,
              "solidity": 0.2
             }
            },
            "type": "histogram"
           }
          ],
          "histogram2d": [
           {
            "colorbar": {
             "outlinewidth": 0,
             "ticks": ""
            },
            "colorscale": [
             [
              0,
              "#0d0887"
             ],
             [
              0.1111111111111111,
              "#46039f"
             ],
             [
              0.2222222222222222,
              "#7201a8"
             ],
             [
              0.3333333333333333,
              "#9c179e"
             ],
             [
              0.4444444444444444,
              "#bd3786"
             ],
             [
              0.5555555555555556,
              "#d8576b"
             ],
             [
              0.6666666666666666,
              "#ed7953"
             ],
             [
              0.7777777777777778,
              "#fb9f3a"
             ],
             [
              0.8888888888888888,
              "#fdca26"
             ],
             [
              1,
              "#f0f921"
             ]
            ],
            "type": "histogram2d"
           }
          ],
          "histogram2dcontour": [
           {
            "colorbar": {
             "outlinewidth": 0,
             "ticks": ""
            },
            "colorscale": [
             [
              0,
              "#0d0887"
             ],
             [
              0.1111111111111111,
              "#46039f"
             ],
             [
              0.2222222222222222,
              "#7201a8"
             ],
             [
              0.3333333333333333,
              "#9c179e"
             ],
             [
              0.4444444444444444,
              "#bd3786"
             ],
             [
              0.5555555555555556,
              "#d8576b"
             ],
             [
              0.6666666666666666,
              "#ed7953"
             ],
             [
              0.7777777777777778,
              "#fb9f3a"
             ],
             [
              0.8888888888888888,
              "#fdca26"
             ],
             [
              1,
              "#f0f921"
             ]
            ],
            "type": "histogram2dcontour"
           }
          ],
          "mesh3d": [
           {
            "colorbar": {
             "outlinewidth": 0,
             "ticks": ""
            },
            "type": "mesh3d"
           }
          ],
          "parcoords": [
           {
            "line": {
             "colorbar": {
              "outlinewidth": 0,
              "ticks": ""
             }
            },
            "type": "parcoords"
           }
          ],
          "pie": [
           {
            "automargin": true,
            "type": "pie"
           }
          ],
          "scatter": [
           {
            "fillpattern": {
             "fillmode": "overlay",
             "size": 10,
             "solidity": 0.2
            },
            "type": "scatter"
           }
          ],
          "scatter3d": [
           {
            "line": {
             "colorbar": {
              "outlinewidth": 0,
              "ticks": ""
             }
            },
            "marker": {
             "colorbar": {
              "outlinewidth": 0,
              "ticks": ""
             }
            },
            "type": "scatter3d"
           }
          ],
          "scattercarpet": [
           {
            "marker": {
             "colorbar": {
              "outlinewidth": 0,
              "ticks": ""
             }
            },
            "type": "scattercarpet"
           }
          ],
          "scattergeo": [
           {
            "marker": {
             "colorbar": {
              "outlinewidth": 0,
              "ticks": ""
             }
            },
            "type": "scattergeo"
           }
          ],
          "scattergl": [
           {
            "marker": {
             "colorbar": {
              "outlinewidth": 0,
              "ticks": ""
             }
            },
            "type": "scattergl"
           }
          ],
          "scattermap": [
           {
            "marker": {
             "colorbar": {
              "outlinewidth": 0,
              "ticks": ""
             }
            },
            "type": "scattermap"
           }
          ],
          "scattermapbox": [
           {
            "marker": {
             "colorbar": {
              "outlinewidth": 0,
              "ticks": ""
             }
            },
            "type": "scattermapbox"
           }
          ],
          "scatterpolar": [
           {
            "marker": {
             "colorbar": {
              "outlinewidth": 0,
              "ticks": ""
             }
            },
            "type": "scatterpolar"
           }
          ],
          "scatterpolargl": [
           {
            "marker": {
             "colorbar": {
              "outlinewidth": 0,
              "ticks": ""
             }
            },
            "type": "scatterpolargl"
           }
          ],
          "scatterternary": [
           {
            "marker": {
             "colorbar": {
              "outlinewidth": 0,
              "ticks": ""
             }
            },
            "type": "scatterternary"
           }
          ],
          "surface": [
           {
            "colorbar": {
             "outlinewidth": 0,
             "ticks": ""
            },
            "colorscale": [
             [
              0,
              "#0d0887"
             ],
             [
              0.1111111111111111,
              "#46039f"
             ],
             [
              0.2222222222222222,
              "#7201a8"
             ],
             [
              0.3333333333333333,
              "#9c179e"
             ],
             [
              0.4444444444444444,
              "#bd3786"
             ],
             [
              0.5555555555555556,
              "#d8576b"
             ],
             [
              0.6666666666666666,
              "#ed7953"
             ],
             [
              0.7777777777777778,
              "#fb9f3a"
             ],
             [
              0.8888888888888888,
              "#fdca26"
             ],
             [
              1,
              "#f0f921"
             ]
            ],
            "type": "surface"
           }
          ],
          "table": [
           {
            "cells": {
             "fill": {
              "color": "#EBF0F8"
             },
             "line": {
              "color": "white"
             }
            },
            "header": {
             "fill": {
              "color": "#C8D4E3"
             },
             "line": {
              "color": "white"
             }
            },
            "type": "table"
           }
          ]
         },
         "layout": {
          "annotationdefaults": {
           "arrowcolor": "#2a3f5f",
           "arrowhead": 0,
           "arrowwidth": 1
          },
          "autotypenumbers": "strict",
          "coloraxis": {
           "colorbar": {
            "outlinewidth": 0,
            "ticks": ""
           }
          },
          "colorscale": {
           "diverging": [
            [
             0,
             "#8e0152"
            ],
            [
             0.1,
             "#c51b7d"
            ],
            [
             0.2,
             "#de77ae"
            ],
            [
             0.3,
             "#f1b6da"
            ],
            [
             0.4,
             "#fde0ef"
            ],
            [
             0.5,
             "#f7f7f7"
            ],
            [
             0.6,
             "#e6f5d0"
            ],
            [
             0.7,
             "#b8e186"
            ],
            [
             0.8,
             "#7fbc41"
            ],
            [
             0.9,
             "#4d9221"
            ],
            [
             1,
             "#276419"
            ]
           ],
           "sequential": [
            [
             0,
             "#0d0887"
            ],
            [
             0.1111111111111111,
             "#46039f"
            ],
            [
             0.2222222222222222,
             "#7201a8"
            ],
            [
             0.3333333333333333,
             "#9c179e"
            ],
            [
             0.4444444444444444,
             "#bd3786"
            ],
            [
             0.5555555555555556,
             "#d8576b"
            ],
            [
             0.6666666666666666,
             "#ed7953"
            ],
            [
             0.7777777777777778,
             "#fb9f3a"
            ],
            [
             0.8888888888888888,
             "#fdca26"
            ],
            [
             1,
             "#f0f921"
            ]
           ],
           "sequentialminus": [
            [
             0,
             "#0d0887"
            ],
            [
             0.1111111111111111,
             "#46039f"
            ],
            [
             0.2222222222222222,
             "#7201a8"
            ],
            [
             0.3333333333333333,
             "#9c179e"
            ],
            [
             0.4444444444444444,
             "#bd3786"
            ],
            [
             0.5555555555555556,
             "#d8576b"
            ],
            [
             0.6666666666666666,
             "#ed7953"
            ],
            [
             0.7777777777777778,
             "#fb9f3a"
            ],
            [
             0.8888888888888888,
             "#fdca26"
            ],
            [
             1,
             "#f0f921"
            ]
           ]
          },
          "colorway": [
           "#636efa",
           "#EF553B",
           "#00cc96",
           "#ab63fa",
           "#FFA15A",
           "#19d3f3",
           "#FF6692",
           "#B6E880",
           "#FF97FF",
           "#FECB52"
          ],
          "font": {
           "color": "#2a3f5f"
          },
          "geo": {
           "bgcolor": "white",
           "lakecolor": "white",
           "landcolor": "#E5ECF6",
           "showlakes": true,
           "showland": true,
           "subunitcolor": "white"
          },
          "hoverlabel": {
           "align": "left"
          },
          "hovermode": "closest",
          "mapbox": {
           "style": "light"
          },
          "paper_bgcolor": "white",
          "plot_bgcolor": "#E5ECF6",
          "polar": {
           "angularaxis": {
            "gridcolor": "white",
            "linecolor": "white",
            "ticks": ""
           },
           "bgcolor": "#E5ECF6",
           "radialaxis": {
            "gridcolor": "white",
            "linecolor": "white",
            "ticks": ""
           }
          },
          "scene": {
           "xaxis": {
            "backgroundcolor": "#E5ECF6",
            "gridcolor": "white",
            "gridwidth": 2,
            "linecolor": "white",
            "showbackground": true,
            "ticks": "",
            "zerolinecolor": "white"
           },
           "yaxis": {
            "backgroundcolor": "#E5ECF6",
            "gridcolor": "white",
            "gridwidth": 2,
            "linecolor": "white",
            "showbackground": true,
            "ticks": "",
            "zerolinecolor": "white"
           },
           "zaxis": {
            "backgroundcolor": "#E5ECF6",
            "gridcolor": "white",
            "gridwidth": 2,
            "linecolor": "white",
            "showbackground": true,
            "ticks": "",
            "zerolinecolor": "white"
           }
          },
          "shapedefaults": {
           "line": {
            "color": "#2a3f5f"
           }
          },
          "ternary": {
           "aaxis": {
            "gridcolor": "white",
            "linecolor": "white",
            "ticks": ""
           },
           "baxis": {
            "gridcolor": "white",
            "linecolor": "white",
            "ticks": ""
           },
           "bgcolor": "#E5ECF6",
           "caxis": {
            "gridcolor": "white",
            "linecolor": "white",
            "ticks": ""
           }
          },
          "title": {
           "x": 0.05
          },
          "xaxis": {
           "automargin": true,
           "gridcolor": "white",
           "linecolor": "white",
           "ticks": "",
           "title": {
            "standoff": 15
           },
           "zerolinecolor": "white",
           "zerolinewidth": 2
          },
          "yaxis": {
           "automargin": true,
           "gridcolor": "white",
           "linecolor": "white",
           "ticks": "",
           "title": {
            "standoff": 15
           },
           "zerolinecolor": "white",
           "zerolinewidth": 2
          }
         }
        },
        "title": {
         "text": "Observation_meso"
        },
        "xaxis": {
         "anchor": "y",
         "domain": [
          0,
          0.44
         ]
        },
        "xaxis2": {
         "anchor": "y2",
         "domain": [
          0.54,
          0.98
         ]
        },
        "xaxis3": {
         "anchor": "y3",
         "domain": [
          0,
          0.44
         ]
        },
        "xaxis4": {
         "anchor": "y4",
         "domain": [
          0.54,
          0.98
         ]
        },
        "yaxis": {
         "anchor": "x",
         "domain": [
          0.55,
          1
         ]
        },
        "yaxis2": {
         "anchor": "x2",
         "domain": [
          0.55,
          1
         ]
        },
        "yaxis3": {
         "anchor": "x3",
         "domain": [
          0,
          0.45
         ]
        },
        "yaxis4": {
         "anchor": "x4",
         "domain": [
          0,
          0.45
         ]
        }
       }
      }
     },
     "metadata": {},
     "output_type": "display_data"
    }
   ],
   "source": [
    "for fig in viewer.time_series(10):\n",
    "    fig.show()"
   ]
  }
 ],
 "metadata": {
  "kernelspec": {
   "display_name": ".venv",
   "language": "python",
   "name": "python3"
  },
  "language_info": {
   "codemirror_mode": {
    "name": "ipython",
    "version": 3
   },
   "file_extension": ".py",
   "mimetype": "text/x-python",
   "name": "python",
   "nbconvert_exporter": "python",
   "pygments_lexer": "ipython3",
   "version": "3.13.3"
  }
 },
 "nbformat": 4,
 "nbformat_minor": 5
}
