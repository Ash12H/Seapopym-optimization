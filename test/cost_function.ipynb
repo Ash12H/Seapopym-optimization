{
 "cells": [
  {
   "cell_type": "code",
   "execution_count": 1,
   "metadata": {},
   "outputs": [],
   "source": [
    "import numpy as np\n",
    "import xarray as xr\n",
    "from seapopym_optimization.cost_function import NoTransportCostFunction"
   ]
  },
  {
   "cell_type": "code",
   "execution_count": 2,
   "metadata": {},
   "outputs": [],
   "source": [
    "from seapopym.model.no_transport_model import NoTransportModel\n",
    "\n",
    "from seapopym.configuration.no_transport.configuration import NoTransportConfiguration\n",
    "\n",
    "from seapopym.configuration.no_transport.parameter import (\n",
    "    ForcingParameters,\n",
    "    FunctionalGroups,\n",
    "    KernelParameters,\n",
    "    NoTransportParameters,\n",
    ")\n",
    "\n",
    "from seapopym.configuration.parameters.parameter_forcing import ForcingUnit\n",
    "\n",
    "from seapopym.configuration.parameters.parameter_functional_group import (\n",
    "    FunctionalGroupUnit,\n",
    "    FunctionalGroupUnitMigratoryParameters,\n",
    "    FunctionalGroupUnitRelationParameters,\n",
    ")\n",
    "\n",
    "from seapopym.standard.units import StandardUnitsLabels"
   ]
  },
  {
   "cell_type": "markdown",
   "metadata": {},
   "source": [
    "Load forcing.\n"
   ]
  },
  {
   "cell_type": "code",
   "execution_count": 3,
   "metadata": {},
   "outputs": [],
   "source": [
    "time_start, time_end = \"1998-01-01\", \"2022-01-01\"\n",
    "\n",
    "hot_data = xr.open_dataset(\"../notebooks/1_data_processing/1_1_Forcing/bats_cmems.zarr\", engine=\"zarr\")\n",
    "hot_data[\"T\"].attrs[\"units\"] = StandardUnitsLabels.temperature.units\n",
    "hot_data = hot_data.sel(time=slice(time_start, time_end))\n",
    "_ = hot_data.load()\n",
    "\n",
    "cafe_npp = xr.open_dataset(\"../notebooks/1_data_processing/1_1_Forcing/bats_cafe.zarr\", engine=\"zarr\")\n",
    "cafe_npp = cafe_npp.sel(time=slice(time_start, time_end))\n",
    "cafe_npp = cafe_npp.dropna(\"time\")\n",
    "cafe_npp = cafe_npp.resample(time=\"D\").interpolate(\"linear\")\n",
    "cafe_npp.lat.attrs = {\"units\": \"degrees_north\", \"long_name\": \"latitude\", \"axis\": \"Y\"}\n",
    "cafe_npp.lon.attrs = {\"units\": \"degrees_east\", \"long_name\": \"longitude\", \"axis\": \"X\"}\n",
    "cafe_npp = cafe_npp.rename({\"lat\": \"latitude\", \"lon\": \"longitude\"})\n",
    "_ = cafe_npp.load()\n",
    "\n",
    "hot_obs = xr.open_dataset(\"../notebooks/1_data_processing/1_1_Forcing/bats_obs.zarr\", engine=\"zarr\")\n",
    "hot_obs = hot_obs.sel(time=slice(time_start, time_end))\n",
    "_ = hot_obs.load()"
   ]
  },
  {
   "cell_type": "markdown",
   "metadata": {},
   "source": [
    "Create structure for SeapoPym simulation.\n"
   ]
  },
  {
   "cell_type": "code",
   "execution_count": 4,
   "metadata": {},
   "outputs": [
    {
     "name": "stderr",
     "output_type": "stream",
     "text": [
      "\u001b[38;5;226m2024-09-25 15:13:46,072 :: Seapodym ::  WARNING ::\n",
      "|\tCAFE unit is milligram / day / meter ** 2, it will be converted to kilogram / day / meter ** 2.\n",
      "\u001b[0m\n"
     ]
    }
   ],
   "source": [
    "forcing_parameters = ForcingParameters(\n",
    "    temperature=ForcingUnit(forcing=hot_data[\"T\"], resolution=1/12),\n",
    "    primary_production=ForcingUnit(forcing=cafe_npp[\"CAFE\"], resolution=1/12),\n",
    ")"
   ]
  },
  {
   "cell_type": "markdown",
   "metadata": {},
   "source": [
    "Cost function\n"
   ]
  },
  {
   "cell_type": "code",
   "execution_count": 5,
   "metadata": {},
   "outputs": [],
   "source": [
    "fixed_parameters = [\n",
    "    [None, None, None, None, 1, 1, None],\n",
    "]\n",
    "cost_function = NoTransportCostFunction(\n",
    "    nb_parameters=7,\n",
    "    nb_functional_groups=1,\n",
    "    fixed_parameters=fixed_parameters,\n",
    "    forcing_parameters=forcing_parameters,\n",
    "    observations=hot_obs,\n",
    "    groups_name=[\"D1N1\"]\n",
    ").generate()"
   ]
  },
  {
   "cell_type": "code",
   "execution_count": 7,
   "metadata": {},
   "outputs": [
    {
     "name": "stderr",
     "output_type": "stream",
     "text": [
      "\u001b[38;5;226m2024-09-25 15:14:19,483 :: Seapodym ::  WARNING ::\n",
      "|\tParameter inv_lambda_rate : -0.1 has a negative value. It means that the mortality is decreasing when temperature increase. Do you mean to use a positive value?\n",
      "\u001b[0m\n",
      "\u001b[38;5;226m2024-09-25 15:14:19,490 :: Seapodym ::  WARNING ::\n",
      "|\tParameter temperature_recruitment_rate : 0.1 has a positive value. It means that the recruitment time is increasing with temperature. Do you mean to use a negative value?\n",
      "\u001b[0m\n",
      "\u001b[38;21m2024-09-25 15:14:19,536 :: Seapodym ::  DEBUG ::\n",
      "|\tDirect computation for global_mask_from_nan.\n",
      "\u001b[0m\n",
      "\u001b[38;21m2024-09-25 15:14:19,545 :: Seapodym ::  DEBUG ::\n",
      "|\tDirect computation for mask_by_fgroup.\n",
      "\u001b[0m\n",
      "\u001b[38;21m2024-09-25 15:14:19,552 :: Seapodym ::  DEBUG ::\n",
      "|\tDirect computation for _wrapper_mesh_day_lengths.\n",
      "\u001b[0m\n",
      "\u001b[38;21m2024-09-25 15:14:19,587 :: Seapodym ::  DEBUG ::\n",
      "|\tDirect computation for _average_temperature.\n",
      "\u001b[0m\n",
      "\u001b[38;21m2024-09-25 15:14:19,602 :: Seapodym ::  DEBUG ::\n",
      "|\tDirect computation for _apply_coefficient_to_primary_production_helper.\n",
      "\u001b[0m\n",
      "\u001b[38;21m2024-09-25 15:14:19,607 :: Seapodym ::  DEBUG ::\n",
      "|\tDirect computation for _min_temperature_by_cohort_helper.\n",
      "\u001b[0m\n",
      "\u001b[38;21m2024-09-25 15:14:19,609 :: Seapodym ::  DEBUG ::\n",
      "|\tDirect computation for _mask_temperature_helper.\n",
      "\u001b[0m\n",
      "\u001b[38;21m2024-09-25 15:14:19,616 :: Seapodym ::  DEBUG ::\n",
      "|\tDirect computation for _cell_area_helper.\n",
      "\u001b[0m\n",
      "\u001b[38;21m2024-09-25 15:14:19,643 :: Seapodym ::  DEBUG ::\n",
      "|\tDirect computation for _mortality_field_helper.\n",
      "\u001b[0m\n",
      "\u001b[38;21m2024-09-25 15:14:19,648 :: Seapodym ::  DEBUG ::\n",
      "|\tDirect computation for _production_helper.\n",
      "\u001b[0m\n",
      "\u001b[38;21m2024-09-25 15:14:19,746 :: Seapodym ::  DEBUG ::\n",
      "|\tDirect computation for _biomass_helper.\n",
      "\u001b[0m\n"
     ]
    }
   ],
   "source": [
    "cost = cost_function([11, 0.1, 100, -0.1, 0.2])"
   ]
  },
  {
   "cell_type": "code",
   "execution_count": 8,
   "metadata": {},
   "outputs": [
    {
     "data": {
      "text/plain": [
       "(<xarray.DataArray <ForcingLabels.biomass: 'biomass'> (functional_group: 1,\n",
       "                                                       time: 8767, latitude: 1,\n",
       "                                                       longitude: 1)> Size: 70kB\n",
       " array([[[[5.24929626e-05]],\n",
       " \n",
       "         [[1.03853422e-04]],\n",
       " \n",
       "         [[1.54081029e-04]],\n",
       " \n",
       "         ...,\n",
       " \n",
       "         [[4.30035359e-02]],\n",
       " \n",
       "         [[4.30006742e-02]],\n",
       " \n",
       "         [[4.29981499e-02]]]])\n",
       " Coordinates:\n",
       "   * functional_group  (functional_group) int64 8B 0\n",
       "   * latitude          (latitude) float64 8B 31.6\n",
       "   * longitude         (longitude) float64 8B -64.2\n",
       "   * time              (time) datetime64[ns] 70kB 1998-01-01 ... 2022-01-01\n",
       " Attributes:\n",
       "     long_name:    biomass\n",
       "     units:        kilogram / meter ** 2\n",
       "     description:  The biomass of the recruited individuals.,)"
      ]
     },
     "execution_count": 8,
     "metadata": {},
     "output_type": "execute_result"
    }
   ],
   "source": [
    "cost"
   ]
  }
 ],
 "metadata": {
  "kernelspec": {
   "display_name": ".venv",
   "language": "python",
   "name": "python3"
  },
  "language_info": {
   "codemirror_mode": {
    "name": "ipython",
    "version": 3
   },
   "file_extension": ".py",
   "mimetype": "text/x-python",
   "name": "python",
   "nbconvert_exporter": "python",
   "pygments_lexer": "ipython3",
   "version": "3.12.5"
  }
 },
 "nbformat": 4,
 "nbformat_minor": 2
}
