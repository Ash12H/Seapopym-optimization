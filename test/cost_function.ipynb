{
 "cells": [
  {
   "cell_type": "code",
   "execution_count": 1,
   "metadata": {},
   "outputs": [],
   "source": [
    "import numpy as np\n",
    "import xarray as xr\n",
    "from seapopym_optimization.cost_function import cost_function,GenericCostFunction"
   ]
  },
  {
   "cell_type": "code",
   "execution_count": 2,
   "metadata": {},
   "outputs": [],
   "source": [
    "from seapopym.model.no_transport_model import NoTransportModel\n",
    "\n",
    "from seapopym.configuration.no_transport.configuration import NoTransportConfiguration\n",
    "\n",
    "from seapopym.configuration.no_transport.parameter import (\n",
    "    ForcingParameters,\n",
    "    FunctionalGroups,\n",
    "    KernelParameters,\n",
    "    NoTransportParameters,\n",
    ")\n",
    "\n",
    "from seapopym.configuration.parameters.parameter_forcing import ForcingUnit\n",
    "\n",
    "from seapopym.configuration.parameters.parameter_functional_group import (\n",
    "    FunctionalGroupUnit,\n",
    "    FunctionalGroupUnitMigratoryParameters,\n",
    "    FunctionalGroupUnitRelationParameters,\n",
    ")\n",
    "\n",
    "from seapopym.standard.units import StandardUnitsLabels"
   ]
  },
  {
   "cell_type": "markdown",
   "metadata": {},
   "source": [
    "Load forcing.\n"
   ]
  },
  {
   "cell_type": "code",
   "execution_count": 3,
   "metadata": {},
   "outputs": [],
   "source": [
    "time_start, time_end = \"1998-01-01\", \"2022-01-01\"\n",
    "\n",
    "hot_data = xr.open_dataset(\"../notebooks/1_data_processing/1_1_Forcing/bats_cmems.zarr\", engine=\"zarr\")\n",
    "hot_data[\"T\"].attrs[\"units\"] = StandardUnitsLabels.temperature.units\n",
    "hot_data = hot_data.sel(time=slice(time_start, time_end))\n",
    "_ = hot_data.load()\n",
    "\n",
    "cafe_npp = xr.open_dataset(\"../notebooks/1_data_processing/1_1_Forcing/bats_cafe.zarr\", engine=\"zarr\")\n",
    "cafe_npp = cafe_npp.sel(time=slice(time_start, time_end))\n",
    "cafe_npp = cafe_npp.dropna(\"time\")\n",
    "cafe_npp = cafe_npp.resample(time=\"D\").interpolate(\"linear\")\n",
    "cafe_npp.lat.attrs = {\"units\": \"degrees_north\", \"long_name\": \"latitude\", \"axis\": \"Y\"}\n",
    "cafe_npp.lon.attrs = {\"units\": \"degrees_east\", \"long_name\": \"longitude\", \"axis\": \"X\"}\n",
    "cafe_npp = cafe_npp.rename({\"lat\": \"latitude\", \"lon\": \"longitude\"})\n",
    "_ = cafe_npp.load()\n",
    "\n",
    "hot_obs = xr.open_dataset(\"../notebooks/1_data_processing/1_1_Forcing/bats_obs.zarr\", engine=\"zarr\")\n",
    "hot_obs = hot_obs.sel(time=slice(time_start, time_end))\n",
    "_ = hot_obs.load()"
   ]
  },
  {
   "cell_type": "markdown",
   "metadata": {},
   "source": [
    "Create structure for SeapoPym simulation.\n"
   ]
  },
  {
   "cell_type": "code",
   "execution_count": 4,
   "metadata": {},
   "outputs": [
    {
     "name": "stderr",
     "output_type": "stream",
     "text": [
      "\u001b[38;5;226m2024-09-25 10:47:34,902 :: Seapodym ::  WARNING ::\n",
      "|\tCAFE unit is milligram / day / meter ** 2, it will be converted to kilogram / day / meter ** 2.\n",
      "\u001b[0m\n"
     ]
    }
   ],
   "source": [
    "forcing_parameters = ForcingParameters(\n",
    "    temperature=ForcingUnit(forcing=hot_data[\"T\"], resolution=1/12),\n",
    "    primary_production=ForcingUnit(forcing=cafe_npp[\"CAFE\"], resolution=1/12),\n",
    ")"
   ]
  },
  {
   "cell_type": "markdown",
   "metadata": {},
   "source": [
    "Cost function\n"
   ]
  },
  {
   "cell_type": "code",
   "execution_count": 5,
   "metadata": {},
   "outputs": [],
   "source": [
    "# cost_function(\n",
    "#     args=np.array([[0.1,0.1,0.1,0.4,0.5,0.6, 0.7]]),\n",
    "#     groups_name=[\"D1N1\"],\n",
    "#     nb_parameters=7,\n",
    "#     forcing_parameters=forcing_parameters,\n",
    "#     observations=...,\n",
    "# )"
   ]
  },
  {
   "cell_type": "code",
   "execution_count": 6,
   "metadata": {},
   "outputs": [
    {
     "data": {
      "text/plain": [
       "array([0., 1., 2., 3.])"
      ]
     },
     "execution_count": 6,
     "metadata": {},
     "output_type": "execute_result"
    }
   ],
   "source": [
    "GenericCostFunction(2,2, None, None, fixed_parameters=[[None, 1], [2, None]]).fill_args([0,3])"
   ]
  }
 ],
 "metadata": {
  "kernelspec": {
   "display_name": ".venv",
   "language": "python",
   "name": "python3"
  },
  "language_info": {
   "codemirror_mode": {
    "name": "ipython",
    "version": 3
   },
   "file_extension": ".py",
   "mimetype": "text/x-python",
   "name": "python",
   "nbconvert_exporter": "python",
   "pygments_lexer": "ipython3",
   "version": "3.12.5"
  }
 },
 "nbformat": 4,
 "nbformat_minor": 2
}
