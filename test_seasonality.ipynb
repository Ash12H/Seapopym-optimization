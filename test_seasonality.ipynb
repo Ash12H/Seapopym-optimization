{
 "cells": [
  {
   "cell_type": "code",
   "execution_count": null,
   "id": "3a4319d5",
   "metadata": {},
   "outputs": [],
   "source": [
    "import matplotlib.pyplot as plt\n",
    "import numpy as np\n",
    "import pandas as pd\n",
    "from pygam import LinearGAM, l, s\n",
    "from statsmodels.tsa import seasonal\n",
    "\n",
    "np.int = int\n",
    "import scipy.sparse\n",
    "\n",
    "scipy.sparse.csr_matrix.A = property(lambda self: self.toarray())"
   ]
  },
  {
   "cell_type": "code",
   "execution_count": null,
   "id": "a35215e5",
   "metadata": {},
   "outputs": [],
   "source": [
    "# Création d'une série temporelle sinusoïdale bruitée\n",
    "np.random.seed(42)\n",
    "n_points = 365 * 4\n",
    "time = pd.date_range(start=\"2020-01-01\", periods=n_points, freq=\"D\")\n",
    "season_in = np.sin(2 * np.pi * time.dayofyear / 365)\n",
    "trend_in = np.ones_like(time, dtype=int) / 100\n",
    "trend_in[-int(n_points / 2) :] = -1 / 100\n",
    "trend_in = np.cumsum(trend_in) + 10  # tendance linéaire\n",
    "noise = np.random.normal(0, 1, n_points)\n",
    "biomass = season_in + noise + trend_in\n",
    "\n",
    "data = pd.DataFrame({\"time\": time, \"biomass\": biomass}).set_index(\"time\")\n",
    "\n",
    "data.plot()"
   ]
  },
  {
   "cell_type": "markdown",
   "id": "9a45f223",
   "metadata": {},
   "source": [
    "# Seasonal_decompose\n",
    "\n",
    "---\n"
   ]
  },
  {
   "cell_type": "code",
   "execution_count": null,
   "id": "956540da",
   "metadata": {},
   "outputs": [],
   "source": [
    "result_seasonal_decompose = seasonal.seasonal_decompose(data, model=\"additive\", period=365)\n",
    "_ = result_seasonal_decompose.plot(weights=True)"
   ]
  },
  {
   "cell_type": "code",
   "execution_count": null,
   "id": "5e0c60da",
   "metadata": {},
   "outputs": [],
   "source": [
    "result_stl = seasonal.STL(data[\"biomass\"], period=365).fit()\n",
    "_ = result_stl.plot()"
   ]
  },
  {
   "cell_type": "code",
   "execution_count": null,
   "id": "f39b4c3c",
   "metadata": {},
   "outputs": [],
   "source": [
    "result_stl.trend"
   ]
  },
  {
   "cell_type": "code",
   "execution_count": null,
   "id": "313ae8e4",
   "metadata": {},
   "outputs": [],
   "source": [
    "# result_mstl = seasonal.MSTL(data[\"biomass\"], periods=(int(365.25 / 4), int(365.25))).fit()\n",
    "result_mstl = seasonal.MSTL(data[\"biomass\"], periods=(int(365.25),)).fit()\n",
    "_ = result_mstl.plot()"
   ]
  },
  {
   "cell_type": "markdown",
   "id": "4ff6abf7",
   "metadata": {},
   "source": [
    "# MANUEL\n",
    "\n",
    "---\n"
   ]
  },
  {
   "cell_type": "code",
   "execution_count": null,
   "id": "ca1f842c",
   "metadata": {},
   "outputs": [],
   "source": [
    "data_gam = data.reset_index().copy()\n",
    "data_gam[\"time\"] = pd.to_datetime(data_gam[\"time\"])\n",
    "data_gam[\"day_since_start\"] = np.cumsum(np.ones_like(data_gam[\"time\"], dtype=int))\n",
    "data_gam[\"sin_doy\"] = np.sin(2 * np.pi * data_gam[\"day_since_start\"] / 365.25)\n",
    "data_gam[\"cos_doy\"] = np.cos(2 * np.pi * data_gam[\"day_since_start\"] / 365.25)\n",
    "data_gam"
   ]
  },
  {
   "cell_type": "code",
   "execution_count": null,
   "id": "aec2339c",
   "metadata": {},
   "outputs": [],
   "source": [
    "for degree in [10, 20, 40, 80]:\n",
    "    variable = \"biomass\"\n",
    "    X = data_gam[[\"day_since_start\", \"sin_doy\", \"cos_doy\"]].to_numpy()\n",
    "    y = data_gam[variable].to_numpy()\n",
    "    gam = LinearGAM(s(0, n_splines=degree) + l(1) + l(2), fit_intercept=False).fit(X, y)\n",
    "    trend = gam.partial_dependence(term=0, X=X)\n",
    "    season = gam.partial_dependence(term=1, X=X) + gam.partial_dependence(term=2, X=X)\n",
    "    residuals = y - trend - season\n",
    "\n",
    "    fig, (ax1, ax2, ax3) = plt.subplots(nrows=3, figsize=(12, 6))\n",
    "    plt.suptitle(f\"Degree {degree}\")\n",
    "    ax1.plot(season, label=\"GAM\")\n",
    "    ax1.plot(season_in, label=\"Real\")\n",
    "    ax1.plot(result_stl.seasonal.to_numpy(), label=\"STL trend\", alpha=0.2)\n",
    "    ax2.plot(trend, label=\"GAM\")\n",
    "    ax2.plot(trend_in, label=\"Real\")\n",
    "    ax2.plot(result_stl.trend.to_numpy(), label=\"STL trend\")\n",
    "    ax3.plot(residuals)\n",
    "    ax1.legend()\n",
    "    ax2.legend()\n",
    "    plt.show()"
   ]
  },
  {
   "cell_type": "markdown",
   "id": "6c91fc61",
   "metadata": {},
   "source": [
    "# Real data\n",
    "\n",
    "---\n"
   ]
  },
  {
   "cell_type": "code",
   "execution_count": null,
   "id": "0674c926",
   "metadata": {},
   "outputs": [],
   "source": [
    "import xarray as xr\n",
    "\n",
    "data = xr.open_dataset(\n",
    "    \"/Users/adm-lehodey/Documents/Workspace/Projects/Seapopym-optimisation/notebooks/1_data_processing/1_1_Forcing/data/1_products/Bats_obs.zarr\",\n",
    "    engine=\"zarr\",\n",
    ")\n",
    "data = (\n",
    "    data.day.mean([\"latitude\", \"longitude\", \"layer\"])\n",
    "    .to_dataframe()\n",
    "    .reset_index()\n",
    "    .dropna()\n",
    "    .set_index(\"time\")\n",
    "    .resample(\"D\")\n",
    "    .mean()\n",
    "    .interpolate(\"linear\")\n",
    "    .rename(columns={\"day\": \"biomass\"})\n",
    ")\n",
    "data.plot()"
   ]
  },
  {
   "cell_type": "code",
   "execution_count": null,
   "id": "6fcf758d",
   "metadata": {},
   "outputs": [],
   "source": [
    "result_stl = seasonal.STL(data[\"biomass\"], period=int(365.25)).fit()\n",
    "_ = result_stl.plot()"
   ]
  },
  {
   "cell_type": "code",
   "execution_count": null,
   "id": "5e28b378",
   "metadata": {},
   "outputs": [],
   "source": [
    "result_stl\n"
   ]
  },
  {
   "cell_type": "code",
   "execution_count": null,
   "id": "21a49fe0",
   "metadata": {},
   "outputs": [],
   "source": [
    "pd.DataFrame([result_stl.trend, result_stl.seasonal, result_stl.resid]).T"
   ]
  },
  {
   "cell_type": "code",
   "execution_count": null,
   "id": "35cf3596",
   "metadata": {},
   "outputs": [],
   "source": [
    "pd.DataFrame([result_mstl.trend, result_mstl.resid]).T.merge(result_mstl.seasonal, on=\"time\")\n"
   ]
  },
  {
   "cell_type": "code",
   "execution_count": null,
   "id": "83e5767f",
   "metadata": {},
   "outputs": [],
   "source": [
    "data_gam = data.reset_index().copy()\n",
    "data_gam[\"time\"] = pd.to_datetime(data_gam[\"time\"])\n",
    "data_gam[\"day_since_start\"] = np.cumsum(np.ones_like(data_gam[\"time\"], dtype=int))\n",
    "data_gam[\"sin_doy\"] = np.sin(2 * np.pi * data_gam[\"day_since_start\"] / 365.25)\n",
    "data_gam[\"cos_doy\"] = np.cos(2 * np.pi * data_gam[\"day_since_start\"] / 365.25)\n",
    "for degree in [10, 20, 40, 80]:\n",
    "    variable = \"biomass\"\n",
    "    X = data_gam[[\"day_since_start\", \"sin_doy\", \"cos_doy\"]].to_numpy()\n",
    "    y = data_gam[variable].to_numpy()\n",
    "    gam = LinearGAM(s(0, n_splines=degree) + l(1) + l(2), fit_intercept=False).fit(X, y)\n",
    "    trend = gam.partial_dependence(term=0, X=X)\n",
    "    season = gam.partial_dependence(term=1, X=X) + gam.partial_dependence(term=2, X=X)\n",
    "\n",
    "    fig, (ax1, ax2, ax3) = plt.subplots(nrows=3, figsize=(12, 6))\n",
    "    plt.suptitle(f\"Degree {degree}\")\n",
    "    ax1.plot(season, label=\"GAM\")\n",
    "    ax1.plot(result_stl.seasonal.to_numpy(), label=\"STL trend\")\n",
    "    ax1.legend()\n",
    "    ax1.set_title(\"Seasonal component\")\n",
    "\n",
    "    ax2.plot(trend, label=\"GAM\")\n",
    "    ax2.plot(result_stl.trend.to_numpy(), label=\"STL trend\")\n",
    "    ax2.legend()\n",
    "    ax2.set_title(\"Trend component\")\n",
    "\n",
    "    ax3.plot(trend + season, label=\"GAM\")\n",
    "    ax3.plot(data[\"biomass\"].to_numpy(), label=\"Real\")\n",
    "    ax3.plot((result_stl.trend + result_stl.seasonal).to_numpy(), label=\"STL trend\")\n",
    "    ax3.legend()\n",
    "    ax3.set_ylim(0, 3)\n",
    "    ax3.set_xlim(2000, 8000)\n",
    "    ax3.set_title(\"Reconstructed series\")\n",
    "    plt.tight_layout()\n",
    "    plt.show()\n"
   ]
  }
 ],
 "metadata": {
  "kernelspec": {
   "display_name": ".venv",
   "language": "python",
   "name": "python3"
  },
  "language_info": {
   "codemirror_mode": {
    "name": "ipython",
    "version": 3
   },
   "file_extension": ".py",
   "mimetype": "text/x-python",
   "name": "python",
   "nbconvert_exporter": "python",
   "pygments_lexer": "ipython3",
   "version": "3.13.3"
  }
 },
 "nbformat": 4,
 "nbformat_minor": 5
}
