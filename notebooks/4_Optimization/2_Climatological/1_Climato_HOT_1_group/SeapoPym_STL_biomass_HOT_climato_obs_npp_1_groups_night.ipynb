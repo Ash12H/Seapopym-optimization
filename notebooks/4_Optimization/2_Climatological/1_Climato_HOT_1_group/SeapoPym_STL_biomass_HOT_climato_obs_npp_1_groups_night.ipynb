{
 "cells": [
  {
   "cell_type": "code",
   "execution_count": 1,
   "metadata": {},
   "outputs": [],
   "source": [
    "from pathlib import Path\n",
    "\n",
    "import pandas as pd\n",
    "import xarray as xr\n",
    "from dask.distributed import Client\n",
    "from seapopym.configuration.no_transport import ForcingParameter, ForcingUnit\n",
    "from seapopym.standard.units import StandardUnitsLabels\n",
    "\n",
    "from seapopym_optimization.cost_function.seasonality_cost_function import (\n",
    "    STLSeasonalObservation,\n",
    "    STLSeasonalityCostFunction,\n",
    ")\n",
    "from seapopym_optimization.cost_function.simple_rmse_cost_function import DayCycle, TimeSeriesObservation\n",
    "from seapopym_optimization.functional_group import NoTransportFunctionalGroup, Parameter\n",
    "from seapopym_optimization.genetic_algorithm import SimpleGeneticAlgorithm, SimpleGeneticAlgorithmParameters\n",
    "from seapopym_optimization.genetic_algorithm.simple_logbook import generate_logbook_with_sobol_sampling\n",
    "from seapopym_optimization.model_generator import NoTransportModelGenerator\n"
   ]
  },
  {
   "cell_type": "code",
   "execution_count": 2,
   "metadata": {},
   "outputs": [],
   "source": [
    "path_to_forcing = \"../../../1_data_processing/1_1_Forcing/data/1_products/Hot_cmems_climato.zarr\"\n",
    "path_to_npp = \"../../../1_data_processing/1_1_Forcing/data/1_products/Hot_observed_npp_climato.zarr\"\n",
    "path_to_obs = \"../../../1_data_processing/1_1_Forcing/data/1_products/Hot_obs_zoo_climato_monthly_2002_2015.zarr\"\n",
    "export_file_name = \"SeapoPym_STL_HOT_climato_obs_npp_opti_all_parameters_1_group_night\""
   ]
  },
  {
   "cell_type": "code",
   "execution_count": 3,
   "metadata": {},
   "outputs": [],
   "source": [
    "LATITUDE = 22.75\n",
    "LONGITUDE = -158\n",
    "TIME_START = \"2005-01-02\"\n",
    "TIME_END = \"2009-12-27\"\n",
    "STABILIZATION_TIME = 5\n",
    "SAVE = True"
   ]
  },
  {
   "cell_type": "markdown",
   "metadata": {},
   "source": [
    "## Loading\n"
   ]
  },
  {
   "cell_type": "markdown",
   "metadata": {},
   "source": [
    "### Forcing\n"
   ]
  },
  {
   "cell_type": "code",
   "execution_count": 4,
   "metadata": {},
   "outputs": [
    {
     "data": {
      "text/html": [
       "<div><svg style=\"position: absolute; width: 0; height: 0; overflow: hidden\">\n",
       "<defs>\n",
       "<symbol id=\"icon-database\" viewBox=\"0 0 32 32\">\n",
       "<path d=\"M16 0c-8.837 0-16 2.239-16 5v4c0 2.761 7.163 5 16 5s16-2.239 16-5v-4c0-2.761-7.163-5-16-5z\"></path>\n",
       "<path d=\"M16 17c-8.837 0-16-2.239-16-5v6c0 2.761 7.163 5 16 5s16-2.239 16-5v-6c0 2.761-7.163 5-16 5z\"></path>\n",
       "<path d=\"M16 26c-8.837 0-16-2.239-16-5v6c0 2.761 7.163 5 16 5s16-2.239 16-5v-6c0 2.761-7.163 5-16 5z\"></path>\n",
       "</symbol>\n",
       "<symbol id=\"icon-file-text2\" viewBox=\"0 0 32 32\">\n",
       "<path d=\"M28.681 7.159c-0.694-0.947-1.662-2.053-2.724-3.116s-2.169-2.030-3.116-2.724c-1.612-1.182-2.393-1.319-2.841-1.319h-15.5c-1.378 0-2.5 1.121-2.5 2.5v27c0 1.378 1.122 2.5 2.5 2.5h23c1.378 0 2.5-1.122 2.5-2.5v-19.5c0-0.448-0.137-1.23-1.319-2.841zM24.543 5.457c0.959 0.959 1.712 1.825 2.268 2.543h-4.811v-4.811c0.718 0.556 1.584 1.309 2.543 2.268zM28 29.5c0 0.271-0.229 0.5-0.5 0.5h-23c-0.271 0-0.5-0.229-0.5-0.5v-27c0-0.271 0.229-0.5 0.5-0.5 0 0 15.499-0 15.5 0v7c0 0.552 0.448 1 1 1h7v19.5z\"></path>\n",
       "<path d=\"M23 26h-14c-0.552 0-1-0.448-1-1s0.448-1 1-1h14c0.552 0 1 0.448 1 1s-0.448 1-1 1z\"></path>\n",
       "<path d=\"M23 22h-14c-0.552 0-1-0.448-1-1s0.448-1 1-1h14c0.552 0 1 0.448 1 1s-0.448 1-1 1z\"></path>\n",
       "<path d=\"M23 18h-14c-0.552 0-1-0.448-1-1s0.448-1 1-1h14c0.552 0 1 0.448 1 1s-0.448 1-1 1z\"></path>\n",
       "</symbol>\n",
       "</defs>\n",
       "</svg>\n",
       "<style>/* CSS stylesheet for displaying xarray objects in jupyterlab.\n",
       " *\n",
       " */\n",
       "\n",
       ":root {\n",
       "  --xr-font-color0: var(--jp-content-font-color0, rgba(0, 0, 0, 1));\n",
       "  --xr-font-color2: var(--jp-content-font-color2, rgba(0, 0, 0, 0.54));\n",
       "  --xr-font-color3: var(--jp-content-font-color3, rgba(0, 0, 0, 0.38));\n",
       "  --xr-border-color: var(--jp-border-color2, #e0e0e0);\n",
       "  --xr-disabled-color: var(--jp-layout-color3, #bdbdbd);\n",
       "  --xr-background-color: var(--jp-layout-color0, white);\n",
       "  --xr-background-color-row-even: var(--jp-layout-color1, white);\n",
       "  --xr-background-color-row-odd: var(--jp-layout-color2, #eeeeee);\n",
       "}\n",
       "\n",
       "html[theme=\"dark\"],\n",
       "html[data-theme=\"dark\"],\n",
       "body[data-theme=\"dark\"],\n",
       "body.vscode-dark {\n",
       "  --xr-font-color0: rgba(255, 255, 255, 1);\n",
       "  --xr-font-color2: rgba(255, 255, 255, 0.54);\n",
       "  --xr-font-color3: rgba(255, 255, 255, 0.38);\n",
       "  --xr-border-color: #1f1f1f;\n",
       "  --xr-disabled-color: #515151;\n",
       "  --xr-background-color: #111111;\n",
       "  --xr-background-color-row-even: #111111;\n",
       "  --xr-background-color-row-odd: #313131;\n",
       "}\n",
       "\n",
       ".xr-wrap {\n",
       "  display: block !important;\n",
       "  min-width: 300px;\n",
       "  max-width: 700px;\n",
       "}\n",
       "\n",
       ".xr-text-repr-fallback {\n",
       "  /* fallback to plain text repr when CSS is not injected (untrusted notebook) */\n",
       "  display: none;\n",
       "}\n",
       "\n",
       ".xr-header {\n",
       "  padding-top: 6px;\n",
       "  padding-bottom: 6px;\n",
       "  margin-bottom: 4px;\n",
       "  border-bottom: solid 1px var(--xr-border-color);\n",
       "}\n",
       "\n",
       ".xr-header > div,\n",
       ".xr-header > ul {\n",
       "  display: inline;\n",
       "  margin-top: 0;\n",
       "  margin-bottom: 0;\n",
       "}\n",
       "\n",
       ".xr-obj-type,\n",
       ".xr-array-name {\n",
       "  margin-left: 2px;\n",
       "  margin-right: 10px;\n",
       "}\n",
       "\n",
       ".xr-obj-type {\n",
       "  color: var(--xr-font-color2);\n",
       "}\n",
       "\n",
       ".xr-sections {\n",
       "  padding-left: 0 !important;\n",
       "  display: grid;\n",
       "  grid-template-columns: 150px auto auto 1fr 0 20px 0 20px;\n",
       "}\n",
       "\n",
       ".xr-section-item {\n",
       "  display: contents;\n",
       "}\n",
       "\n",
       ".xr-section-item input {\n",
       "  display: inline-block;\n",
       "  opacity: 0;\n",
       "  height: 0;\n",
       "}\n",
       "\n",
       ".xr-section-item input + label {\n",
       "  color: var(--xr-disabled-color);\n",
       "}\n",
       "\n",
       ".xr-section-item input:enabled + label {\n",
       "  cursor: pointer;\n",
       "  color: var(--xr-font-color2);\n",
       "}\n",
       "\n",
       ".xr-section-item input:focus + label {\n",
       "  border: 2px solid var(--xr-font-color0);\n",
       "}\n",
       "\n",
       ".xr-section-item input:enabled + label:hover {\n",
       "  color: var(--xr-font-color0);\n",
       "}\n",
       "\n",
       ".xr-section-summary {\n",
       "  grid-column: 1;\n",
       "  color: var(--xr-font-color2);\n",
       "  font-weight: 500;\n",
       "}\n",
       "\n",
       ".xr-section-summary > span {\n",
       "  display: inline-block;\n",
       "  padding-left: 0.5em;\n",
       "}\n",
       "\n",
       ".xr-section-summary-in:disabled + label {\n",
       "  color: var(--xr-font-color2);\n",
       "}\n",
       "\n",
       ".xr-section-summary-in + label:before {\n",
       "  display: inline-block;\n",
       "  content: \"►\";\n",
       "  font-size: 11px;\n",
       "  width: 15px;\n",
       "  text-align: center;\n",
       "}\n",
       "\n",
       ".xr-section-summary-in:disabled + label:before {\n",
       "  color: var(--xr-disabled-color);\n",
       "}\n",
       "\n",
       ".xr-section-summary-in:checked + label:before {\n",
       "  content: \"▼\";\n",
       "}\n",
       "\n",
       ".xr-section-summary-in:checked + label > span {\n",
       "  display: none;\n",
       "}\n",
       "\n",
       ".xr-section-summary,\n",
       ".xr-section-inline-details {\n",
       "  padding-top: 4px;\n",
       "  padding-bottom: 4px;\n",
       "}\n",
       "\n",
       ".xr-section-inline-details {\n",
       "  grid-column: 2 / -1;\n",
       "}\n",
       "\n",
       ".xr-section-details {\n",
       "  display: none;\n",
       "  grid-column: 1 / -1;\n",
       "  margin-bottom: 5px;\n",
       "}\n",
       "\n",
       ".xr-section-summary-in:checked ~ .xr-section-details {\n",
       "  display: contents;\n",
       "}\n",
       "\n",
       ".xr-array-wrap {\n",
       "  grid-column: 1 / -1;\n",
       "  display: grid;\n",
       "  grid-template-columns: 20px auto;\n",
       "}\n",
       "\n",
       ".xr-array-wrap > label {\n",
       "  grid-column: 1;\n",
       "  vertical-align: top;\n",
       "}\n",
       "\n",
       ".xr-preview {\n",
       "  color: var(--xr-font-color3);\n",
       "}\n",
       "\n",
       ".xr-array-preview,\n",
       ".xr-array-data {\n",
       "  padding: 0 5px !important;\n",
       "  grid-column: 2;\n",
       "}\n",
       "\n",
       ".xr-array-data,\n",
       ".xr-array-in:checked ~ .xr-array-preview {\n",
       "  display: none;\n",
       "}\n",
       "\n",
       ".xr-array-in:checked ~ .xr-array-data,\n",
       ".xr-array-preview {\n",
       "  display: inline-block;\n",
       "}\n",
       "\n",
       ".xr-dim-list {\n",
       "  display: inline-block !important;\n",
       "  list-style: none;\n",
       "  padding: 0 !important;\n",
       "  margin: 0;\n",
       "}\n",
       "\n",
       ".xr-dim-list li {\n",
       "  display: inline-block;\n",
       "  padding: 0;\n",
       "  margin: 0;\n",
       "}\n",
       "\n",
       ".xr-dim-list:before {\n",
       "  content: \"(\";\n",
       "}\n",
       "\n",
       ".xr-dim-list:after {\n",
       "  content: \")\";\n",
       "}\n",
       "\n",
       ".xr-dim-list li:not(:last-child):after {\n",
       "  content: \",\";\n",
       "  padding-right: 5px;\n",
       "}\n",
       "\n",
       ".xr-has-index {\n",
       "  font-weight: bold;\n",
       "}\n",
       "\n",
       ".xr-var-list,\n",
       ".xr-var-item {\n",
       "  display: contents;\n",
       "}\n",
       "\n",
       ".xr-var-item > div,\n",
       ".xr-var-item label,\n",
       ".xr-var-item > .xr-var-name span {\n",
       "  background-color: var(--xr-background-color-row-even);\n",
       "  margin-bottom: 0;\n",
       "}\n",
       "\n",
       ".xr-var-item > .xr-var-name:hover span {\n",
       "  padding-right: 5px;\n",
       "}\n",
       "\n",
       ".xr-var-list > li:nth-child(odd) > div,\n",
       ".xr-var-list > li:nth-child(odd) > label,\n",
       ".xr-var-list > li:nth-child(odd) > .xr-var-name span {\n",
       "  background-color: var(--xr-background-color-row-odd);\n",
       "}\n",
       "\n",
       ".xr-var-name {\n",
       "  grid-column: 1;\n",
       "}\n",
       "\n",
       ".xr-var-dims {\n",
       "  grid-column: 2;\n",
       "}\n",
       "\n",
       ".xr-var-dtype {\n",
       "  grid-column: 3;\n",
       "  text-align: right;\n",
       "  color: var(--xr-font-color2);\n",
       "}\n",
       "\n",
       ".xr-var-preview {\n",
       "  grid-column: 4;\n",
       "}\n",
       "\n",
       ".xr-index-preview {\n",
       "  grid-column: 2 / 5;\n",
       "  color: var(--xr-font-color2);\n",
       "}\n",
       "\n",
       ".xr-var-name,\n",
       ".xr-var-dims,\n",
       ".xr-var-dtype,\n",
       ".xr-preview,\n",
       ".xr-attrs dt {\n",
       "  white-space: nowrap;\n",
       "  overflow: hidden;\n",
       "  text-overflow: ellipsis;\n",
       "  padding-right: 10px;\n",
       "}\n",
       "\n",
       ".xr-var-name:hover,\n",
       ".xr-var-dims:hover,\n",
       ".xr-var-dtype:hover,\n",
       ".xr-attrs dt:hover {\n",
       "  overflow: visible;\n",
       "  width: auto;\n",
       "  z-index: 1;\n",
       "}\n",
       "\n",
       ".xr-var-attrs,\n",
       ".xr-var-data,\n",
       ".xr-index-data {\n",
       "  display: none;\n",
       "  background-color: var(--xr-background-color) !important;\n",
       "  padding-bottom: 5px !important;\n",
       "}\n",
       "\n",
       ".xr-var-attrs-in:checked ~ .xr-var-attrs,\n",
       ".xr-var-data-in:checked ~ .xr-var-data,\n",
       ".xr-index-data-in:checked ~ .xr-index-data {\n",
       "  display: block;\n",
       "}\n",
       "\n",
       ".xr-var-data > table {\n",
       "  float: right;\n",
       "}\n",
       "\n",
       ".xr-var-name span,\n",
       ".xr-var-data,\n",
       ".xr-index-name div,\n",
       ".xr-index-data,\n",
       ".xr-attrs {\n",
       "  padding-left: 25px !important;\n",
       "}\n",
       "\n",
       ".xr-attrs,\n",
       ".xr-var-attrs,\n",
       ".xr-var-data,\n",
       ".xr-index-data {\n",
       "  grid-column: 1 / -1;\n",
       "}\n",
       "\n",
       "dl.xr-attrs {\n",
       "  padding: 0;\n",
       "  margin: 0;\n",
       "  display: grid;\n",
       "  grid-template-columns: 125px auto;\n",
       "}\n",
       "\n",
       ".xr-attrs dt,\n",
       ".xr-attrs dd {\n",
       "  padding: 0;\n",
       "  margin: 0;\n",
       "  float: left;\n",
       "  padding-right: 10px;\n",
       "  width: auto;\n",
       "}\n",
       "\n",
       ".xr-attrs dt {\n",
       "  font-weight: normal;\n",
       "  grid-column: 1;\n",
       "}\n",
       "\n",
       ".xr-attrs dt:hover span {\n",
       "  display: inline-block;\n",
       "  background: var(--xr-background-color);\n",
       "  padding-right: 10px;\n",
       "}\n",
       "\n",
       ".xr-attrs dd {\n",
       "  grid-column: 2;\n",
       "  white-space: pre-wrap;\n",
       "  word-break: break-all;\n",
       "}\n",
       "\n",
       ".xr-icon-database,\n",
       ".xr-icon-file-text2,\n",
       ".xr-no-icon {\n",
       "  display: inline-block;\n",
       "  vertical-align: middle;\n",
       "  width: 1em;\n",
       "  height: 1.5em !important;\n",
       "  stroke-width: 0;\n",
       "  stroke: currentColor;\n",
       "  fill: currentColor;\n",
       "}\n",
       "</style><pre class='xr-text-repr-fallback'>&lt;xarray.Dataset&gt; Size: 321kB\n",
       "Dimensions:              (time: 1821, latitude: 1, longitude: 1, depth: 3)\n",
       "Coordinates:\n",
       "  * depth                (depth) int64 24B 0 1 2\n",
       "  * latitude             (latitude) float64 8B 22.75\n",
       "  * longitude            (longitude) int64 8B -158\n",
       "  * time                 (time) datetime64[ns] 15kB 2005-01-02 ... 2009-12-27\n",
       "Data variables: (12/13)\n",
       "    T                    (time, latitude, longitude, depth) float64 44kB 23.8...\n",
       "    U                    (time, latitude, longitude, depth) float64 44kB -0.0...\n",
       "    V                    (time, latitude, longitude, depth) float64 44kB -0.0...\n",
       "    mnkc_epi             (time, latitude, longitude) float64 15kB 0.2862 ... ...\n",
       "    mnkc_hmlmeso         (time, latitude, longitude) float64 15kB 0.8062 ... ...\n",
       "    mnkc_lmeso           (time, latitude, longitude) float64 15kB 2.113 ... 2...\n",
       "    ...                   ...\n",
       "    mnkc_mumeso          (time, latitude, longitude) float64 15kB 0.5676 ... ...\n",
       "    mnkc_umeso           (time, latitude, longitude) float64 15kB 0.4922 ... ...\n",
       "    npp                  (time, latitude, longitude) float64 15kB 322.7 ... 3...\n",
       "    pelagic_layer_depth  (time, latitude, longitude, depth) float64 44kB 113....\n",
       "    zeu                  (time, latitude, longitude) float64 15kB 75.51 ... 7...\n",
       "    zooc                 (time, latitude, longitude) float64 15kB 0.267 ... 0...\n",
       "Attributes:\n",
       "    Conventions:  CF-1.7\n",
       "    history:      Created on 2024-10-17\n",
       "    institution:  CLS\n",
       "    references:   http://www.cls.fr; http://www.seapodym.eu\n",
       "    source:       SEAPODYM-LMTL 3.0.0\n",
       "    title:        Global ocean low and mid trophic levels biomass content hin...</pre><div class='xr-wrap' style='display:none'><div class='xr-header'><div class='xr-obj-type'>xarray.Dataset</div></div><ul class='xr-sections'><li class='xr-section-item'><input id='section-6bc8b5ca-0133-407a-a2ba-9e95a3e75d3d' class='xr-section-summary-in' type='checkbox' disabled ><label for='section-6bc8b5ca-0133-407a-a2ba-9e95a3e75d3d' class='xr-section-summary'  title='Expand/collapse section'>Dimensions:</label><div class='xr-section-inline-details'><ul class='xr-dim-list'><li><span class='xr-has-index'>time</span>: 1821</li><li><span class='xr-has-index'>latitude</span>: 1</li><li><span class='xr-has-index'>longitude</span>: 1</li><li><span class='xr-has-index'>depth</span>: 3</li></ul></div><div class='xr-section-details'></div></li><li class='xr-section-item'><input id='section-3fff3492-3930-4cd5-b955-277e78016023' class='xr-section-summary-in' type='checkbox'  checked><label for='section-3fff3492-3930-4cd5-b955-277e78016023' class='xr-section-summary' >Coordinates: <span>(4)</span></label><div class='xr-section-inline-details'></div><div class='xr-section-details'><ul class='xr-var-list'><li class='xr-var-item'><div class='xr-var-name'><span class='xr-has-index'>depth</span></div><div class='xr-var-dims'>(depth)</div><div class='xr-var-dtype'>int64</div><div class='xr-var-preview xr-preview'>0 1 2</div><input id='attrs-c6845d09-d596-4585-b97c-96476fa39dc9' class='xr-var-attrs-in' type='checkbox' ><label for='attrs-c6845d09-d596-4585-b97c-96476fa39dc9' title='Show/Hide attributes'><svg class='icon xr-icon-file-text2'><use xlink:href='#icon-file-text2'></use></svg></label><input id='data-750ee587-d171-498b-824d-9801c076801d' class='xr-var-data-in' type='checkbox'><label for='data-750ee587-d171-498b-824d-9801c076801d' title='Show/Hide data repr'><svg class='icon xr-icon-database'><use xlink:href='#icon-database'></use></svg></label><div class='xr-var-attrs'><dl class='xr-attrs'><dt><span>axis :</span></dt><dd>Z</dd><dt><span>desc :</span></dt><dd>The layer depth according to Seapodym definition</dd><dt><span>flag_meanings :</span></dt><dd>epipelagic, upper-mesopelagic, lower-mesopelagic</dd><dt><span>flag_values :</span></dt><dd>[0 1 2]</dd><dt><span>long_name :</span></dt><dd>Layer depth</dd><dt><span>standard_name :</span></dt><dd>depth</dd></dl></div><div class='xr-var-data'><pre>array([0, 1, 2])</pre></div></li><li class='xr-var-item'><div class='xr-var-name'><span class='xr-has-index'>latitude</span></div><div class='xr-var-dims'>(latitude)</div><div class='xr-var-dtype'>float64</div><div class='xr-var-preview xr-preview'>22.75</div><input id='attrs-1803ca64-db05-4a53-8771-efaf6f6f279d' class='xr-var-attrs-in' type='checkbox' ><label for='attrs-1803ca64-db05-4a53-8771-efaf6f6f279d' title='Show/Hide attributes'><svg class='icon xr-icon-file-text2'><use xlink:href='#icon-file-text2'></use></svg></label><input id='data-a24aea24-0666-43f2-8de1-a6e98225bd4b' class='xr-var-data-in' type='checkbox'><label for='data-a24aea24-0666-43f2-8de1-a6e98225bd4b' title='Show/Hide data repr'><svg class='icon xr-icon-database'><use xlink:href='#icon-database'></use></svg></label><div class='xr-var-attrs'><dl class='xr-attrs'><dt><span>axis :</span></dt><dd>Y</dd><dt><span>standard_name :</span></dt><dd>latitude</dd><dt><span>units :</span></dt><dd>degrees_north</dd></dl></div><div class='xr-var-data'><pre>array([22.75])</pre></div></li><li class='xr-var-item'><div class='xr-var-name'><span class='xr-has-index'>longitude</span></div><div class='xr-var-dims'>(longitude)</div><div class='xr-var-dtype'>int64</div><div class='xr-var-preview xr-preview'>-158</div><input id='attrs-7ceb7333-a9ea-4845-ac32-a29ad35b6d44' class='xr-var-attrs-in' type='checkbox' ><label for='attrs-7ceb7333-a9ea-4845-ac32-a29ad35b6d44' title='Show/Hide attributes'><svg class='icon xr-icon-file-text2'><use xlink:href='#icon-file-text2'></use></svg></label><input id='data-29059447-a05c-4ed2-aefe-0e445c55d281' class='xr-var-data-in' type='checkbox'><label for='data-29059447-a05c-4ed2-aefe-0e445c55d281' title='Show/Hide data repr'><svg class='icon xr-icon-database'><use xlink:href='#icon-database'></use></svg></label><div class='xr-var-attrs'><dl class='xr-attrs'><dt><span>axis :</span></dt><dd>X</dd><dt><span>standard_name :</span></dt><dd>longitude</dd><dt><span>units :</span></dt><dd>degrees_east</dd></dl></div><div class='xr-var-data'><pre>array([-158])</pre></div></li><li class='xr-var-item'><div class='xr-var-name'><span class='xr-has-index'>time</span></div><div class='xr-var-dims'>(time)</div><div class='xr-var-dtype'>datetime64[ns]</div><div class='xr-var-preview xr-preview'>2005-01-02 ... 2009-12-27</div><input id='attrs-b073ed7f-4456-42e1-bb61-67a522921454' class='xr-var-attrs-in' type='checkbox' ><label for='attrs-b073ed7f-4456-42e1-bb61-67a522921454' title='Show/Hide attributes'><svg class='icon xr-icon-file-text2'><use xlink:href='#icon-file-text2'></use></svg></label><input id='data-d12e3288-92eb-42ef-9111-59ac1998cdb4' class='xr-var-data-in' type='checkbox'><label for='data-d12e3288-92eb-42ef-9111-59ac1998cdb4' title='Show/Hide data repr'><svg class='icon xr-icon-database'><use xlink:href='#icon-database'></use></svg></label><div class='xr-var-attrs'><dl class='xr-attrs'><dt><span>axis :</span></dt><dd>T</dd><dt><span>long_name :</span></dt><dd>Time</dd><dt><span>standard_name :</span></dt><dd>time</dd><dt><span>unit_long :</span></dt><dd>Seconds Since 1970-01-01</dd></dl></div><div class='xr-var-data'><pre>array([&#x27;2005-01-02T00:00:00.000000000&#x27;, &#x27;2005-01-03T00:00:00.000000000&#x27;,\n",
       "       &#x27;2005-01-04T00:00:00.000000000&#x27;, ..., &#x27;2009-12-25T00:00:00.000000000&#x27;,\n",
       "       &#x27;2009-12-26T00:00:00.000000000&#x27;, &#x27;2009-12-27T00:00:00.000000000&#x27;],\n",
       "      shape=(1821,), dtype=&#x27;datetime64[ns]&#x27;)</pre></div></li></ul></div></li><li class='xr-section-item'><input id='section-aa532677-667b-425f-a15a-bbd9fa4b8acd' class='xr-section-summary-in' type='checkbox'  checked><label for='section-aa532677-667b-425f-a15a-bbd9fa4b8acd' class='xr-section-summary' >Data variables: <span>(13)</span></label><div class='xr-section-inline-details'></div><div class='xr-section-details'><ul class='xr-var-list'><li class='xr-var-item'><div class='xr-var-name'><span>T</span></div><div class='xr-var-dims'>(time, latitude, longitude, depth)</div><div class='xr-var-dtype'>float64</div><div class='xr-var-preview xr-preview'>23.86 16.69 6.824 ... 16.77 6.935</div><input id='attrs-d2527a6c-cb76-4a45-b92c-0ef64804de75' class='xr-var-attrs-in' type='checkbox' ><label for='attrs-d2527a6c-cb76-4a45-b92c-0ef64804de75' title='Show/Hide attributes'><svg class='icon xr-icon-file-text2'><use xlink:href='#icon-file-text2'></use></svg></label><input id='data-f691e728-53f6-4778-820f-231a27f828e1' class='xr-var-data-in' type='checkbox'><label for='data-f691e728-53f6-4778-820f-231a27f828e1' title='Show/Hide data repr'><svg class='icon xr-icon-database'><use xlink:href='#icon-database'></use></svg></label><div class='xr-var-attrs'><dl class='xr-attrs'><dt><span>standard_name :</span></dt><dd>sea_water_potential_temperature_vertical_mean_over_pelagic_layer</dd><dt><span>units :</span></dt><dd>degree_Celsius</dd></dl></div><div class='xr-var-data'><pre>array([[[[23.85599605, 16.6903158 ,  6.82406215]]],\n",
       "\n",
       "\n",
       "       [[[23.82623876, 16.6691888 ,  6.79199569]]],\n",
       "\n",
       "\n",
       "       [[[23.79018946, 16.69249884,  6.81049333]]],\n",
       "\n",
       "\n",
       "       ...,\n",
       "\n",
       "\n",
       "       [[[24.05466258, 16.62024015,  6.89222643]]],\n",
       "\n",
       "\n",
       "       [[[24.02378952, 16.59820113,  6.85563379]]],\n",
       "\n",
       "\n",
       "       [[[24.03342401, 16.7654464 ,  6.93489277]]]], shape=(1821, 1, 1, 3))</pre></div></li><li class='xr-var-item'><div class='xr-var-name'><span>U</span></div><div class='xr-var-dims'>(time, latitude, longitude, depth)</div><div class='xr-var-dtype'>float64</div><div class='xr-var-preview xr-preview'>-0.03859 -0.07642 ... -0.04998</div><input id='attrs-80fd1292-428b-475f-8c31-94cca03ad3b9' class='xr-var-attrs-in' type='checkbox' ><label for='attrs-80fd1292-428b-475f-8c31-94cca03ad3b9' title='Show/Hide attributes'><svg class='icon xr-icon-file-text2'><use xlink:href='#icon-file-text2'></use></svg></label><input id='data-03b571a1-6a87-4c58-aba8-576318c3ea08' class='xr-var-data-in' type='checkbox'><label for='data-03b571a1-6a87-4c58-aba8-576318c3ea08' title='Show/Hide data repr'><svg class='icon xr-icon-database'><use xlink:href='#icon-database'></use></svg></label><div class='xr-var-attrs'><dl class='xr-attrs'><dt><span>standard_name :</span></dt><dd>eastward_sea_water_velocity_vertical_mean_over_pelagic_layer</dd><dt><span>units :</span></dt><dd>m/s</dd></dl></div><div class='xr-var-data'><pre>array([[[[-0.03859491, -0.0764185 , -0.05107602]]],\n",
       "\n",
       "\n",
       "       [[[-0.03775054, -0.07324144, -0.05091585]]],\n",
       "\n",
       "\n",
       "       [[[-0.04942942, -0.07181869, -0.05055478]]],\n",
       "\n",
       "\n",
       "       ...,\n",
       "\n",
       "\n",
       "       [[[-0.03866376, -0.06466844, -0.04851433]]],\n",
       "\n",
       "\n",
       "       [[[-0.04136032, -0.06608837, -0.04888851]]],\n",
       "\n",
       "\n",
       "       [[[-0.04635211, -0.06878869, -0.04997969]]]], shape=(1821, 1, 1, 3))</pre></div></li><li class='xr-var-item'><div class='xr-var-name'><span>V</span></div><div class='xr-var-dims'>(time, latitude, longitude, depth)</div><div class='xr-var-dtype'>float64</div><div class='xr-var-preview xr-preview'>-0.01033 -0.0008562 ... -0.01793</div><input id='attrs-8bf75a65-291e-4c09-a998-177722484748' class='xr-var-attrs-in' type='checkbox' ><label for='attrs-8bf75a65-291e-4c09-a998-177722484748' title='Show/Hide attributes'><svg class='icon xr-icon-file-text2'><use xlink:href='#icon-file-text2'></use></svg></label><input id='data-f7fabf8f-8117-4ec4-ab90-2911b1be8c13' class='xr-var-data-in' type='checkbox'><label for='data-f7fabf8f-8117-4ec4-ab90-2911b1be8c13' title='Show/Hide data repr'><svg class='icon xr-icon-database'><use xlink:href='#icon-database'></use></svg></label><div class='xr-var-attrs'><dl class='xr-attrs'><dt><span>standard_name :</span></dt><dd>northward_sea_water_velocity_vertical_mean_over_pelagic_layer</dd><dt><span>units :</span></dt><dd>m/s</dd></dl></div><div class='xr-var-data'><pre>array([[[[-0.0103296 , -0.00085623, -0.0076152 ]]],\n",
       "\n",
       "\n",
       "       [[[-0.0225967 , -0.00700535, -0.00887044]]],\n",
       "\n",
       "\n",
       "       [[[-0.02122028, -0.00957228, -0.0096482 ]]],\n",
       "\n",
       "\n",
       "       ...,\n",
       "\n",
       "\n",
       "       [[[-0.0167581 , -0.01770183, -0.01802793]]],\n",
       "\n",
       "\n",
       "       [[[-0.016011  , -0.01863292, -0.01772666]]],\n",
       "\n",
       "\n",
       "       [[[-0.00881884, -0.01768577, -0.01792572]]]], shape=(1821, 1, 1, 3))</pre></div></li><li class='xr-var-item'><div class='xr-var-name'><span>mnkc_epi</span></div><div class='xr-var-dims'>(time, latitude, longitude)</div><div class='xr-var-dtype'>float64</div><div class='xr-var-preview xr-preview'>0.2862 0.2936 ... 0.2652 0.2692</div><input id='attrs-07c11dbc-d30a-4c8f-b816-83d2ba6a39d8' class='xr-var-attrs-in' type='checkbox' ><label for='attrs-07c11dbc-d30a-4c8f-b816-83d2ba6a39d8' title='Show/Hide attributes'><svg class='icon xr-icon-file-text2'><use xlink:href='#icon-file-text2'></use></svg></label><input id='data-7e67de6f-ce64-49a1-abea-7c1180678cce' class='xr-var-data-in' type='checkbox'><label for='data-7e67de6f-ce64-49a1-abea-7c1180678cce' title='Show/Hide data repr'><svg class='icon xr-icon-database'><use xlink:href='#icon-database'></use></svg></label><div class='xr-var-attrs'><dl class='xr-attrs'><dt><span>carbon_to_wet_weight_conversion_factor :</span></dt><dd>11.9</dd><dt><span>day_layer :</span></dt><dd>epipelagic (1)</dd><dt><span>night_layer :</span></dt><dd>epipelagic (1)</dd><dt><span>standard_name :</span></dt><dd>mass_content_of_epipelagic_micronekton_expressed_as_wet_weight_in_sea_water</dd><dt><span>units :</span></dt><dd>g m-2</dd></dl></div><div class='xr-var-data'><pre>array([[[0.28618903]],\n",
       "\n",
       "       [[0.29356157]],\n",
       "\n",
       "       [[0.29937024]],\n",
       "\n",
       "       ...,\n",
       "\n",
       "       [[0.26273095]],\n",
       "\n",
       "       [[0.26518846]],\n",
       "\n",
       "       [[0.26920985]]], shape=(1821, 1, 1))</pre></div></li><li class='xr-var-item'><div class='xr-var-name'><span>mnkc_hmlmeso</span></div><div class='xr-var-dims'>(time, latitude, longitude)</div><div class='xr-var-dtype'>float64</div><div class='xr-var-preview xr-preview'>0.8062 0.8178 ... 0.7774 0.7919</div><input id='attrs-ff3b9e6e-872b-4464-8deb-ebdbdda8183f' class='xr-var-attrs-in' type='checkbox' ><label for='attrs-ff3b9e6e-872b-4464-8deb-ebdbdda8183f' title='Show/Hide attributes'><svg class='icon xr-icon-file-text2'><use xlink:href='#icon-file-text2'></use></svg></label><input id='data-0d42115a-7cf2-4e5c-b4ec-5d844990361e' class='xr-var-data-in' type='checkbox'><label for='data-0d42115a-7cf2-4e5c-b4ec-5d844990361e' title='Show/Hide data repr'><svg class='icon xr-icon-database'><use xlink:href='#icon-database'></use></svg></label><div class='xr-var-attrs'><dl class='xr-attrs'><dt><span>carbon_to_wet_weight_conversion_factor :</span></dt><dd>11.9</dd><dt><span>day_layer :</span></dt><dd>lower mesopelagic (3)</dd><dt><span>night_layer :</span></dt><dd>epipelagic (1)</dd><dt><span>standard_name :</span></dt><dd>mass_content_of_highly_migrant_lower_mesopelagic_micronekton_expressed_as_wet_weight_in_sea_water</dd><dt><span>units :</span></dt><dd>g m-2</dd></dl></div><div class='xr-var-data'><pre>array([[[0.80620081]],\n",
       "\n",
       "       [[0.81784154]],\n",
       "\n",
       "       [[0.83001625]],\n",
       "\n",
       "       ...,\n",
       "\n",
       "       [[0.77202619]],\n",
       "\n",
       "       [[0.77736598]],\n",
       "\n",
       "       [[0.79189019]]], shape=(1821, 1, 1))</pre></div></li><li class='xr-var-item'><div class='xr-var-name'><span>mnkc_lmeso</span></div><div class='xr-var-dims'>(time, latitude, longitude)</div><div class='xr-var-dtype'>float64</div><div class='xr-var-preview xr-preview'>2.113 2.114 2.113 ... 2.182 2.178</div><input id='attrs-4f90a9ef-7ce4-49c9-9e3a-c6a7befc6b8a' class='xr-var-attrs-in' type='checkbox' ><label for='attrs-4f90a9ef-7ce4-49c9-9e3a-c6a7befc6b8a' title='Show/Hide attributes'><svg class='icon xr-icon-file-text2'><use xlink:href='#icon-file-text2'></use></svg></label><input id='data-a070952d-4f69-4b06-be1d-ca2c077bb51c' class='xr-var-data-in' type='checkbox'><label for='data-a070952d-4f69-4b06-be1d-ca2c077bb51c' title='Show/Hide data repr'><svg class='icon xr-icon-database'><use xlink:href='#icon-database'></use></svg></label><div class='xr-var-attrs'><dl class='xr-attrs'><dt><span>carbon_to_wet_weight_conversion_factor :</span></dt><dd>11.9</dd><dt><span>day_layer :</span></dt><dd>lower mesopelagic (3)</dd><dt><span>night_layer :</span></dt><dd>lower mesopelagic (3)</dd><dt><span>standard_name :</span></dt><dd>mass_content_of_lower_mesopelagic_micronekton_expressed_as_wet_weight_in_sea_water</dd><dt><span>units :</span></dt><dd>g m-2</dd></dl></div><div class='xr-var-data'><pre>array([[[2.11295278]],\n",
       "\n",
       "       [[2.11440443]],\n",
       "\n",
       "       [[2.11316626]],\n",
       "\n",
       "       ...,\n",
       "\n",
       "       [[2.1852361 ]],\n",
       "\n",
       "       [[2.18194855]],\n",
       "\n",
       "       [[2.1777644 ]]], shape=(1821, 1, 1))</pre></div></li><li class='xr-var-item'><div class='xr-var-name'><span>mnkc_mlmeso</span></div><div class='xr-var-dims'>(time, latitude, longitude)</div><div class='xr-var-dtype'>float64</div><div class='xr-var-preview xr-preview'>0.9614 0.9648 ... 0.9238 0.924</div><input id='attrs-259b0670-b18f-470e-ab88-d63ca1d16cc0' class='xr-var-attrs-in' type='checkbox' ><label for='attrs-259b0670-b18f-470e-ab88-d63ca1d16cc0' title='Show/Hide attributes'><svg class='icon xr-icon-file-text2'><use xlink:href='#icon-file-text2'></use></svg></label><input id='data-f445fbb2-e181-4005-bbb5-4506e41db46b' class='xr-var-data-in' type='checkbox'><label for='data-f445fbb2-e181-4005-bbb5-4506e41db46b' title='Show/Hide data repr'><svg class='icon xr-icon-database'><use xlink:href='#icon-database'></use></svg></label><div class='xr-var-attrs'><dl class='xr-attrs'><dt><span>carbon_to_wet_weight_conversion_factor :</span></dt><dd>11.9</dd><dt><span>day_layer :</span></dt><dd>lower mesopelagic (3)</dd><dt><span>night_layer :</span></dt><dd>upper mesopelagic (2)</dd><dt><span>standard_name :</span></dt><dd>mass_content_of_migrant_lower_mesopelagic_micronekton_expressed_as_wet_weight_in_sea_water</dd><dt><span>units :</span></dt><dd>g m-2</dd></dl></div><div class='xr-var-data'><pre>array([[[0.96142721]],\n",
       "\n",
       "       [[0.96477503]],\n",
       "\n",
       "       [[0.96818981]],\n",
       "\n",
       "       ...,\n",
       "\n",
       "       [[0.92587336]],\n",
       "\n",
       "       [[0.92379771]],\n",
       "\n",
       "       [[0.92399858]]], shape=(1821, 1, 1))</pre></div></li><li class='xr-var-item'><div class='xr-var-name'><span>mnkc_mumeso</span></div><div class='xr-var-dims'>(time, latitude, longitude)</div><div class='xr-var-dtype'>float64</div><div class='xr-var-preview xr-preview'>0.5676 0.5756 ... 0.5281 0.5448</div><input id='attrs-07f09a04-1870-4862-ae04-18e1de3632ee' class='xr-var-attrs-in' type='checkbox' ><label for='attrs-07f09a04-1870-4862-ae04-18e1de3632ee' title='Show/Hide attributes'><svg class='icon xr-icon-file-text2'><use xlink:href='#icon-file-text2'></use></svg></label><input id='data-2909f2b2-ba37-44d9-92b4-498a1d478a6c' class='xr-var-data-in' type='checkbox'><label for='data-2909f2b2-ba37-44d9-92b4-498a1d478a6c' title='Show/Hide data repr'><svg class='icon xr-icon-database'><use xlink:href='#icon-database'></use></svg></label><div class='xr-var-attrs'><dl class='xr-attrs'><dt><span>carbon_to_wet_weight_conversion_factor :</span></dt><dd>11.9</dd><dt><span>day_layer :</span></dt><dd>upper mesopelagic (2)</dd><dt><span>night_layer :</span></dt><dd>epipelagic (1)</dd><dt><span>standard_name :</span></dt><dd>mass_content_of_migrant_upper_mesopelagic_micronekton_expressed_as_wet_weight_in_sea_water</dd><dt><span>units :</span></dt><dd>g m-2</dd></dl></div><div class='xr-var-data'><pre>array([[[0.56757045]],\n",
       "\n",
       "       [[0.57559264]],\n",
       "\n",
       "       [[0.579938  ]],\n",
       "\n",
       "       ...,\n",
       "\n",
       "       [[0.52411693]],\n",
       "\n",
       "       [[0.52812803]],\n",
       "\n",
       "       [[0.54484092]]], shape=(1821, 1, 1))</pre></div></li><li class='xr-var-item'><div class='xr-var-name'><span>mnkc_umeso</span></div><div class='xr-var-dims'>(time, latitude, longitude)</div><div class='xr-var-dtype'>float64</div><div class='xr-var-preview xr-preview'>0.4922 0.4899 ... 0.4698 0.474</div><input id='attrs-dc09ff59-e116-47c4-944e-b3241f562c88' class='xr-var-attrs-in' type='checkbox' ><label for='attrs-dc09ff59-e116-47c4-944e-b3241f562c88' title='Show/Hide attributes'><svg class='icon xr-icon-file-text2'><use xlink:href='#icon-file-text2'></use></svg></label><input id='data-707ba203-9557-4327-a98f-c1da155ce0f3' class='xr-var-data-in' type='checkbox'><label for='data-707ba203-9557-4327-a98f-c1da155ce0f3' title='Show/Hide data repr'><svg class='icon xr-icon-database'><use xlink:href='#icon-database'></use></svg></label><div class='xr-var-attrs'><dl class='xr-attrs'><dt><span>carbon_to_wet_weight_conversion_factor :</span></dt><dd>11.9</dd><dt><span>day_layer :</span></dt><dd>upper mesopelagic (2)</dd><dt><span>night_layer :</span></dt><dd>upper mesopelagic (2)</dd><dt><span>standard_name :</span></dt><dd>mass_content_of_upper_mesopelagic_micronekton_expressed_as_wet_weight_in_sea_water</dd><dt><span>units :</span></dt><dd>g m-2</dd></dl></div><div class='xr-var-data'><pre>array([[[0.49217136]],\n",
       "\n",
       "       [[0.48988137]],\n",
       "\n",
       "       [[0.49129059]],\n",
       "\n",
       "       ...,\n",
       "\n",
       "       [[0.46874303]],\n",
       "\n",
       "       [[0.46979995]],\n",
       "\n",
       "       [[0.47402762]]], shape=(1821, 1, 1))</pre></div></li><li class='xr-var-item'><div class='xr-var-name'><span>npp</span></div><div class='xr-var-dims'>(time, latitude, longitude)</div><div class='xr-var-dtype'>float64</div><div class='xr-var-preview xr-preview'>322.7 325.5 328.0 ... 324.8 331.9</div><input id='attrs-e2752203-2221-4f46-8bd4-d11d79029a3f' class='xr-var-attrs-in' type='checkbox' ><label for='attrs-e2752203-2221-4f46-8bd4-d11d79029a3f' title='Show/Hide attributes'><svg class='icon xr-icon-file-text2'><use xlink:href='#icon-file-text2'></use></svg></label><input id='data-75b15649-ef12-4ecb-9fb0-a66b8e9030ca' class='xr-var-data-in' type='checkbox'><label for='data-75b15649-ef12-4ecb-9fb0-a66b8e9030ca' title='Show/Hide data repr'><svg class='icon xr-icon-database'><use xlink:href='#icon-database'></use></svg></label><div class='xr-var-attrs'><dl class='xr-attrs'><dt><span>standard_name :</span></dt><dd>net_primary_productivity_of_biomass_expressed_as_carbon_in_sea_water</dd><dt><span>units :</span></dt><dd>mg m-2 day-1</dd></dl></div><div class='xr-var-data'><pre>array([[[322.66866924]],\n",
       "\n",
       "       [[325.47677962]],\n",
       "\n",
       "       [[327.97788084]],\n",
       "\n",
       "       ...,\n",
       "\n",
       "       [[328.35447874]],\n",
       "\n",
       "       [[324.7808922 ]],\n",
       "\n",
       "       [[331.90145781]]], shape=(1821, 1, 1))</pre></div></li><li class='xr-var-item'><div class='xr-var-name'><span>pelagic_layer_depth</span></div><div class='xr-var-dims'>(time, latitude, longitude, depth)</div><div class='xr-var-dtype'>float64</div><div class='xr-var-preview xr-preview'>113.3 339.8 792.8 ... 335.5 782.7</div><input id='attrs-4ccdf308-8e14-4374-84cf-e0294a69de50' class='xr-var-attrs-in' type='checkbox' ><label for='attrs-4ccdf308-8e14-4374-84cf-e0294a69de50' title='Show/Hide attributes'><svg class='icon xr-icon-file-text2'><use xlink:href='#icon-file-text2'></use></svg></label><input id='data-ade0e086-f487-40c0-89f5-5d3274e77967' class='xr-var-data-in' type='checkbox'><label for='data-ade0e086-f487-40c0-89f5-5d3274e77967' title='Show/Hide data repr'><svg class='icon xr-icon-database'><use xlink:href='#icon-database'></use></svg></label><div class='xr-var-attrs'><dl class='xr-attrs'><dt><span>standard_name :</span></dt><dd>sea_water_pelagic_layer_bottom_depth</dd><dt><span>units :</span></dt><dd>m</dd></dl></div><div class='xr-var-data'><pre>array([[[[113.25850446, 339.77593816, 792.81042002]]],\n",
       "\n",
       "\n",
       "       [[[113.67641789, 341.02608018, 795.7272039 ]]],\n",
       "\n",
       "\n",
       "       [[[113.37776143, 340.13293801, 793.64213458]]],\n",
       "\n",
       "\n",
       "       ...,\n",
       "\n",
       "\n",
       "       [[[112.86924868, 338.60829933, 790.08562958]]],\n",
       "\n",
       "\n",
       "       [[[113.44111669, 340.32107616, 794.08048105]]],\n",
       "\n",
       "\n",
       "       [[[111.81958173, 335.45737084, 782.73474819]]]],\n",
       "      shape=(1821, 1, 1, 3))</pre></div></li><li class='xr-var-item'><div class='xr-var-name'><span>zeu</span></div><div class='xr-var-dims'>(time, latitude, longitude)</div><div class='xr-var-dtype'>float64</div><div class='xr-var-preview xr-preview'>75.51 75.78 75.59 ... 75.63 74.55</div><input id='attrs-13245669-465c-4973-8365-2ba727124a9d' class='xr-var-attrs-in' type='checkbox' ><label for='attrs-13245669-465c-4973-8365-2ba727124a9d' title='Show/Hide attributes'><svg class='icon xr-icon-file-text2'><use xlink:href='#icon-file-text2'></use></svg></label><input id='data-d4f3b62e-ad76-4c33-ba6f-49edde2c4a91' class='xr-var-data-in' type='checkbox'><label for='data-d4f3b62e-ad76-4c33-ba6f-49edde2c4a91' title='Show/Hide data repr'><svg class='icon xr-icon-database'><use xlink:href='#icon-database'></use></svg></label><div class='xr-var-attrs'><dl class='xr-attrs'><dt><span>standard_name :</span></dt><dd>euphotic_zone_depth</dd><dt><span>units :</span></dt><dd>m</dd></dl></div><div class='xr-var-data'><pre>array([[[75.50578673]],\n",
       "\n",
       "       [[75.78359857]],\n",
       "\n",
       "       [[75.58513132]],\n",
       "\n",
       "       ...,\n",
       "\n",
       "       [[75.24643574]],\n",
       "\n",
       "       [[75.62680045]],\n",
       "\n",
       "       [[74.54618013]]], shape=(1821, 1, 1))</pre></div></li><li class='xr-var-item'><div class='xr-var-name'><span>zooc</span></div><div class='xr-var-dims'>(time, latitude, longitude)</div><div class='xr-var-dtype'>float64</div><div class='xr-var-preview xr-preview'>0.267 0.2761 ... 0.2528 0.2569</div><input id='attrs-f00c00b9-d8bd-492b-8bb7-ec9db594a737' class='xr-var-attrs-in' type='checkbox' ><label for='attrs-f00c00b9-d8bd-492b-8bb7-ec9db594a737' title='Show/Hide attributes'><svg class='icon xr-icon-file-text2'><use xlink:href='#icon-file-text2'></use></svg></label><input id='data-eb4e05fa-596a-428f-b174-161424dfb449' class='xr-var-data-in' type='checkbox'><label for='data-eb4e05fa-596a-428f-b174-161424dfb449' title='Show/Hide data repr'><svg class='icon xr-icon-database'><use xlink:href='#icon-database'></use></svg></label><div class='xr-var-attrs'><dl class='xr-attrs'><dt><span>standard_name :</span></dt><dd>mass_content_of_zooplankton_expressed_as_carbon_in_sea_water</dd><dt><span>units :</span></dt><dd>g m-2</dd></dl></div><div class='xr-var-data'><pre>array([[[0.26696391]],\n",
       "\n",
       "       [[0.27610917]],\n",
       "\n",
       "       [[0.27830793]],\n",
       "\n",
       "       ...,\n",
       "\n",
       "       [[0.25071647]],\n",
       "\n",
       "       [[0.25277902]],\n",
       "\n",
       "       [[0.25692358]]], shape=(1821, 1, 1))</pre></div></li></ul></div></li><li class='xr-section-item'><input id='section-2011ce32-de7f-4bab-8605-275fff879f55' class='xr-section-summary-in' type='checkbox'  ><label for='section-2011ce32-de7f-4bab-8605-275fff879f55' class='xr-section-summary' >Indexes: <span>(4)</span></label><div class='xr-section-inline-details'></div><div class='xr-section-details'><ul class='xr-var-list'><li class='xr-var-item'><div class='xr-index-name'><div>depth</div></div><div class='xr-index-preview'>PandasIndex</div><input type='checkbox' disabled/><label></label><input id='index-00d74b73-c289-42d9-9088-53ec8e2be1ee' class='xr-index-data-in' type='checkbox'/><label for='index-00d74b73-c289-42d9-9088-53ec8e2be1ee' title='Show/Hide index repr'><svg class='icon xr-icon-database'><use xlink:href='#icon-database'></use></svg></label><div class='xr-index-data'><pre>PandasIndex(Index([0, 1, 2], dtype=&#x27;int64&#x27;, name=&#x27;depth&#x27;))</pre></div></li><li class='xr-var-item'><div class='xr-index-name'><div>latitude</div></div><div class='xr-index-preview'>PandasIndex</div><input type='checkbox' disabled/><label></label><input id='index-39d371fd-896b-49ca-ae7e-9a6a114b5fa3' class='xr-index-data-in' type='checkbox'/><label for='index-39d371fd-896b-49ca-ae7e-9a6a114b5fa3' title='Show/Hide index repr'><svg class='icon xr-icon-database'><use xlink:href='#icon-database'></use></svg></label><div class='xr-index-data'><pre>PandasIndex(Index([22.75], dtype=&#x27;float64&#x27;, name=&#x27;latitude&#x27;))</pre></div></li><li class='xr-var-item'><div class='xr-index-name'><div>longitude</div></div><div class='xr-index-preview'>PandasIndex</div><input type='checkbox' disabled/><label></label><input id='index-8e5e7c86-be3d-4974-8069-04a168b072ea' class='xr-index-data-in' type='checkbox'/><label for='index-8e5e7c86-be3d-4974-8069-04a168b072ea' title='Show/Hide index repr'><svg class='icon xr-icon-database'><use xlink:href='#icon-database'></use></svg></label><div class='xr-index-data'><pre>PandasIndex(Index([-158], dtype=&#x27;int64&#x27;, name=&#x27;longitude&#x27;))</pre></div></li><li class='xr-var-item'><div class='xr-index-name'><div>time</div></div><div class='xr-index-preview'>PandasIndex</div><input type='checkbox' disabled/><label></label><input id='index-a2f09b66-d02a-4106-a050-9df825f99939' class='xr-index-data-in' type='checkbox'/><label for='index-a2f09b66-d02a-4106-a050-9df825f99939' title='Show/Hide index repr'><svg class='icon xr-icon-database'><use xlink:href='#icon-database'></use></svg></label><div class='xr-index-data'><pre>PandasIndex(DatetimeIndex([&#x27;2005-01-02&#x27;, &#x27;2005-01-03&#x27;, &#x27;2005-01-04&#x27;, &#x27;2005-01-05&#x27;,\n",
       "               &#x27;2005-01-06&#x27;, &#x27;2005-01-07&#x27;, &#x27;2005-01-08&#x27;, &#x27;2005-01-09&#x27;,\n",
       "               &#x27;2005-01-10&#x27;, &#x27;2005-01-11&#x27;,\n",
       "               ...\n",
       "               &#x27;2009-12-18&#x27;, &#x27;2009-12-19&#x27;, &#x27;2009-12-20&#x27;, &#x27;2009-12-21&#x27;,\n",
       "               &#x27;2009-12-22&#x27;, &#x27;2009-12-23&#x27;, &#x27;2009-12-24&#x27;, &#x27;2009-12-25&#x27;,\n",
       "               &#x27;2009-12-26&#x27;, &#x27;2009-12-27&#x27;],\n",
       "              dtype=&#x27;datetime64[ns]&#x27;, name=&#x27;time&#x27;, length=1821, freq=None))</pre></div></li></ul></div></li><li class='xr-section-item'><input id='section-080f9161-12a8-4a79-910c-31cd63f8456b' class='xr-section-summary-in' type='checkbox'  checked><label for='section-080f9161-12a8-4a79-910c-31cd63f8456b' class='xr-section-summary' >Attributes: <span>(6)</span></label><div class='xr-section-inline-details'></div><div class='xr-section-details'><dl class='xr-attrs'><dt><span>Conventions :</span></dt><dd>CF-1.7</dd><dt><span>history :</span></dt><dd>Created on 2024-10-17</dd><dt><span>institution :</span></dt><dd>CLS</dd><dt><span>references :</span></dt><dd>http://www.cls.fr; http://www.seapodym.eu</dd><dt><span>source :</span></dt><dd>SEAPODYM-LMTL 3.0.0</dd><dt><span>title :</span></dt><dd>Global ocean low and mid trophic levels biomass content hindcast</dd></dl></div></li></ul></div></div>"
      ],
      "text/plain": [
       "<xarray.Dataset> Size: 321kB\n",
       "Dimensions:              (time: 1821, latitude: 1, longitude: 1, depth: 3)\n",
       "Coordinates:\n",
       "  * depth                (depth) int64 24B 0 1 2\n",
       "  * latitude             (latitude) float64 8B 22.75\n",
       "  * longitude            (longitude) int64 8B -158\n",
       "  * time                 (time) datetime64[ns] 15kB 2005-01-02 ... 2009-12-27\n",
       "Data variables: (12/13)\n",
       "    T                    (time, latitude, longitude, depth) float64 44kB 23.8...\n",
       "    U                    (time, latitude, longitude, depth) float64 44kB -0.0...\n",
       "    V                    (time, latitude, longitude, depth) float64 44kB -0.0...\n",
       "    mnkc_epi             (time, latitude, longitude) float64 15kB 0.2862 ... ...\n",
       "    mnkc_hmlmeso         (time, latitude, longitude) float64 15kB 0.8062 ... ...\n",
       "    mnkc_lmeso           (time, latitude, longitude) float64 15kB 2.113 ... 2...\n",
       "    ...                   ...\n",
       "    mnkc_mumeso          (time, latitude, longitude) float64 15kB 0.5676 ... ...\n",
       "    mnkc_umeso           (time, latitude, longitude) float64 15kB 0.4922 ... ...\n",
       "    npp                  (time, latitude, longitude) float64 15kB 322.7 ... 3...\n",
       "    pelagic_layer_depth  (time, latitude, longitude, depth) float64 44kB 113....\n",
       "    zeu                  (time, latitude, longitude) float64 15kB 75.51 ... 7...\n",
       "    zooc                 (time, latitude, longitude) float64 15kB 0.267 ... 0...\n",
       "Attributes:\n",
       "    Conventions:  CF-1.7\n",
       "    history:      Created on 2024-10-17\n",
       "    institution:  CLS\n",
       "    references:   http://www.cls.fr; http://www.seapodym.eu\n",
       "    source:       SEAPODYM-LMTL 3.0.0\n",
       "    title:        Global ocean low and mid trophic levels biomass content hin..."
      ]
     },
     "execution_count": 4,
     "metadata": {},
     "output_type": "execute_result"
    }
   ],
   "source": [
    "forcing = xr.open_zarr(path_to_forcing)\n",
    "forcing = forcing.sel(time=slice(TIME_START, TIME_END))\n",
    "forcing[\"T\"].attrs[\"units\"] = StandardUnitsLabels.temperature.units\n",
    "forcing.load()"
   ]
  },
  {
   "cell_type": "markdown",
   "metadata": {},
   "source": [
    "### Epipelagic layer\n"
   ]
  },
  {
   "cell_type": "code",
   "execution_count": 5,
   "metadata": {},
   "outputs": [
    {
     "data": {
      "text/html": [
       "<div><svg style=\"position: absolute; width: 0; height: 0; overflow: hidden\">\n",
       "<defs>\n",
       "<symbol id=\"icon-database\" viewBox=\"0 0 32 32\">\n",
       "<path d=\"M16 0c-8.837 0-16 2.239-16 5v4c0 2.761 7.163 5 16 5s16-2.239 16-5v-4c0-2.761-7.163-5-16-5z\"></path>\n",
       "<path d=\"M16 17c-8.837 0-16-2.239-16-5v6c0 2.761 7.163 5 16 5s16-2.239 16-5v-6c0 2.761-7.163 5-16 5z\"></path>\n",
       "<path d=\"M16 26c-8.837 0-16-2.239-16-5v6c0 2.761 7.163 5 16 5s16-2.239 16-5v-6c0 2.761-7.163 5-16 5z\"></path>\n",
       "</symbol>\n",
       "<symbol id=\"icon-file-text2\" viewBox=\"0 0 32 32\">\n",
       "<path d=\"M28.681 7.159c-0.694-0.947-1.662-2.053-2.724-3.116s-2.169-2.030-3.116-2.724c-1.612-1.182-2.393-1.319-2.841-1.319h-15.5c-1.378 0-2.5 1.121-2.5 2.5v27c0 1.378 1.122 2.5 2.5 2.5h23c1.378 0 2.5-1.122 2.5-2.5v-19.5c0-0.448-0.137-1.23-1.319-2.841zM24.543 5.457c0.959 0.959 1.712 1.825 2.268 2.543h-4.811v-4.811c0.718 0.556 1.584 1.309 2.543 2.268zM28 29.5c0 0.271-0.229 0.5-0.5 0.5h-23c-0.271 0-0.5-0.229-0.5-0.5v-27c0-0.271 0.229-0.5 0.5-0.5 0 0 15.499-0 15.5 0v7c0 0.552 0.448 1 1 1h7v19.5z\"></path>\n",
       "<path d=\"M23 26h-14c-0.552 0-1-0.448-1-1s0.448-1 1-1h14c0.552 0 1 0.448 1 1s-0.448 1-1 1z\"></path>\n",
       "<path d=\"M23 22h-14c-0.552 0-1-0.448-1-1s0.448-1 1-1h14c0.552 0 1 0.448 1 1s-0.448 1-1 1z\"></path>\n",
       "<path d=\"M23 18h-14c-0.552 0-1-0.448-1-1s0.448-1 1-1h14c0.552 0 1 0.448 1 1s-0.448 1-1 1z\"></path>\n",
       "</symbol>\n",
       "</defs>\n",
       "</svg>\n",
       "<style>/* CSS stylesheet for displaying xarray objects in jupyterlab.\n",
       " *\n",
       " */\n",
       "\n",
       ":root {\n",
       "  --xr-font-color0: var(--jp-content-font-color0, rgba(0, 0, 0, 1));\n",
       "  --xr-font-color2: var(--jp-content-font-color2, rgba(0, 0, 0, 0.54));\n",
       "  --xr-font-color3: var(--jp-content-font-color3, rgba(0, 0, 0, 0.38));\n",
       "  --xr-border-color: var(--jp-border-color2, #e0e0e0);\n",
       "  --xr-disabled-color: var(--jp-layout-color3, #bdbdbd);\n",
       "  --xr-background-color: var(--jp-layout-color0, white);\n",
       "  --xr-background-color-row-even: var(--jp-layout-color1, white);\n",
       "  --xr-background-color-row-odd: var(--jp-layout-color2, #eeeeee);\n",
       "}\n",
       "\n",
       "html[theme=\"dark\"],\n",
       "html[data-theme=\"dark\"],\n",
       "body[data-theme=\"dark\"],\n",
       "body.vscode-dark {\n",
       "  --xr-font-color0: rgba(255, 255, 255, 1);\n",
       "  --xr-font-color2: rgba(255, 255, 255, 0.54);\n",
       "  --xr-font-color3: rgba(255, 255, 255, 0.38);\n",
       "  --xr-border-color: #1f1f1f;\n",
       "  --xr-disabled-color: #515151;\n",
       "  --xr-background-color: #111111;\n",
       "  --xr-background-color-row-even: #111111;\n",
       "  --xr-background-color-row-odd: #313131;\n",
       "}\n",
       "\n",
       ".xr-wrap {\n",
       "  display: block !important;\n",
       "  min-width: 300px;\n",
       "  max-width: 700px;\n",
       "}\n",
       "\n",
       ".xr-text-repr-fallback {\n",
       "  /* fallback to plain text repr when CSS is not injected (untrusted notebook) */\n",
       "  display: none;\n",
       "}\n",
       "\n",
       ".xr-header {\n",
       "  padding-top: 6px;\n",
       "  padding-bottom: 6px;\n",
       "  margin-bottom: 4px;\n",
       "  border-bottom: solid 1px var(--xr-border-color);\n",
       "}\n",
       "\n",
       ".xr-header > div,\n",
       ".xr-header > ul {\n",
       "  display: inline;\n",
       "  margin-top: 0;\n",
       "  margin-bottom: 0;\n",
       "}\n",
       "\n",
       ".xr-obj-type,\n",
       ".xr-array-name {\n",
       "  margin-left: 2px;\n",
       "  margin-right: 10px;\n",
       "}\n",
       "\n",
       ".xr-obj-type {\n",
       "  color: var(--xr-font-color2);\n",
       "}\n",
       "\n",
       ".xr-sections {\n",
       "  padding-left: 0 !important;\n",
       "  display: grid;\n",
       "  grid-template-columns: 150px auto auto 1fr 0 20px 0 20px;\n",
       "}\n",
       "\n",
       ".xr-section-item {\n",
       "  display: contents;\n",
       "}\n",
       "\n",
       ".xr-section-item input {\n",
       "  display: inline-block;\n",
       "  opacity: 0;\n",
       "  height: 0;\n",
       "}\n",
       "\n",
       ".xr-section-item input + label {\n",
       "  color: var(--xr-disabled-color);\n",
       "}\n",
       "\n",
       ".xr-section-item input:enabled + label {\n",
       "  cursor: pointer;\n",
       "  color: var(--xr-font-color2);\n",
       "}\n",
       "\n",
       ".xr-section-item input:focus + label {\n",
       "  border: 2px solid var(--xr-font-color0);\n",
       "}\n",
       "\n",
       ".xr-section-item input:enabled + label:hover {\n",
       "  color: var(--xr-font-color0);\n",
       "}\n",
       "\n",
       ".xr-section-summary {\n",
       "  grid-column: 1;\n",
       "  color: var(--xr-font-color2);\n",
       "  font-weight: 500;\n",
       "}\n",
       "\n",
       ".xr-section-summary > span {\n",
       "  display: inline-block;\n",
       "  padding-left: 0.5em;\n",
       "}\n",
       "\n",
       ".xr-section-summary-in:disabled + label {\n",
       "  color: var(--xr-font-color2);\n",
       "}\n",
       "\n",
       ".xr-section-summary-in + label:before {\n",
       "  display: inline-block;\n",
       "  content: \"►\";\n",
       "  font-size: 11px;\n",
       "  width: 15px;\n",
       "  text-align: center;\n",
       "}\n",
       "\n",
       ".xr-section-summary-in:disabled + label:before {\n",
       "  color: var(--xr-disabled-color);\n",
       "}\n",
       "\n",
       ".xr-section-summary-in:checked + label:before {\n",
       "  content: \"▼\";\n",
       "}\n",
       "\n",
       ".xr-section-summary-in:checked + label > span {\n",
       "  display: none;\n",
       "}\n",
       "\n",
       ".xr-section-summary,\n",
       ".xr-section-inline-details {\n",
       "  padding-top: 4px;\n",
       "  padding-bottom: 4px;\n",
       "}\n",
       "\n",
       ".xr-section-inline-details {\n",
       "  grid-column: 2 / -1;\n",
       "}\n",
       "\n",
       ".xr-section-details {\n",
       "  display: none;\n",
       "  grid-column: 1 / -1;\n",
       "  margin-bottom: 5px;\n",
       "}\n",
       "\n",
       ".xr-section-summary-in:checked ~ .xr-section-details {\n",
       "  display: contents;\n",
       "}\n",
       "\n",
       ".xr-array-wrap {\n",
       "  grid-column: 1 / -1;\n",
       "  display: grid;\n",
       "  grid-template-columns: 20px auto;\n",
       "}\n",
       "\n",
       ".xr-array-wrap > label {\n",
       "  grid-column: 1;\n",
       "  vertical-align: top;\n",
       "}\n",
       "\n",
       ".xr-preview {\n",
       "  color: var(--xr-font-color3);\n",
       "}\n",
       "\n",
       ".xr-array-preview,\n",
       ".xr-array-data {\n",
       "  padding: 0 5px !important;\n",
       "  grid-column: 2;\n",
       "}\n",
       "\n",
       ".xr-array-data,\n",
       ".xr-array-in:checked ~ .xr-array-preview {\n",
       "  display: none;\n",
       "}\n",
       "\n",
       ".xr-array-in:checked ~ .xr-array-data,\n",
       ".xr-array-preview {\n",
       "  display: inline-block;\n",
       "}\n",
       "\n",
       ".xr-dim-list {\n",
       "  display: inline-block !important;\n",
       "  list-style: none;\n",
       "  padding: 0 !important;\n",
       "  margin: 0;\n",
       "}\n",
       "\n",
       ".xr-dim-list li {\n",
       "  display: inline-block;\n",
       "  padding: 0;\n",
       "  margin: 0;\n",
       "}\n",
       "\n",
       ".xr-dim-list:before {\n",
       "  content: \"(\";\n",
       "}\n",
       "\n",
       ".xr-dim-list:after {\n",
       "  content: \")\";\n",
       "}\n",
       "\n",
       ".xr-dim-list li:not(:last-child):after {\n",
       "  content: \",\";\n",
       "  padding-right: 5px;\n",
       "}\n",
       "\n",
       ".xr-has-index {\n",
       "  font-weight: bold;\n",
       "}\n",
       "\n",
       ".xr-var-list,\n",
       ".xr-var-item {\n",
       "  display: contents;\n",
       "}\n",
       "\n",
       ".xr-var-item > div,\n",
       ".xr-var-item label,\n",
       ".xr-var-item > .xr-var-name span {\n",
       "  background-color: var(--xr-background-color-row-even);\n",
       "  margin-bottom: 0;\n",
       "}\n",
       "\n",
       ".xr-var-item > .xr-var-name:hover span {\n",
       "  padding-right: 5px;\n",
       "}\n",
       "\n",
       ".xr-var-list > li:nth-child(odd) > div,\n",
       ".xr-var-list > li:nth-child(odd) > label,\n",
       ".xr-var-list > li:nth-child(odd) > .xr-var-name span {\n",
       "  background-color: var(--xr-background-color-row-odd);\n",
       "}\n",
       "\n",
       ".xr-var-name {\n",
       "  grid-column: 1;\n",
       "}\n",
       "\n",
       ".xr-var-dims {\n",
       "  grid-column: 2;\n",
       "}\n",
       "\n",
       ".xr-var-dtype {\n",
       "  grid-column: 3;\n",
       "  text-align: right;\n",
       "  color: var(--xr-font-color2);\n",
       "}\n",
       "\n",
       ".xr-var-preview {\n",
       "  grid-column: 4;\n",
       "}\n",
       "\n",
       ".xr-index-preview {\n",
       "  grid-column: 2 / 5;\n",
       "  color: var(--xr-font-color2);\n",
       "}\n",
       "\n",
       ".xr-var-name,\n",
       ".xr-var-dims,\n",
       ".xr-var-dtype,\n",
       ".xr-preview,\n",
       ".xr-attrs dt {\n",
       "  white-space: nowrap;\n",
       "  overflow: hidden;\n",
       "  text-overflow: ellipsis;\n",
       "  padding-right: 10px;\n",
       "}\n",
       "\n",
       ".xr-var-name:hover,\n",
       ".xr-var-dims:hover,\n",
       ".xr-var-dtype:hover,\n",
       ".xr-attrs dt:hover {\n",
       "  overflow: visible;\n",
       "  width: auto;\n",
       "  z-index: 1;\n",
       "}\n",
       "\n",
       ".xr-var-attrs,\n",
       ".xr-var-data,\n",
       ".xr-index-data {\n",
       "  display: none;\n",
       "  background-color: var(--xr-background-color) !important;\n",
       "  padding-bottom: 5px !important;\n",
       "}\n",
       "\n",
       ".xr-var-attrs-in:checked ~ .xr-var-attrs,\n",
       ".xr-var-data-in:checked ~ .xr-var-data,\n",
       ".xr-index-data-in:checked ~ .xr-index-data {\n",
       "  display: block;\n",
       "}\n",
       "\n",
       ".xr-var-data > table {\n",
       "  float: right;\n",
       "}\n",
       "\n",
       ".xr-var-name span,\n",
       ".xr-var-data,\n",
       ".xr-index-name div,\n",
       ".xr-index-data,\n",
       ".xr-attrs {\n",
       "  padding-left: 25px !important;\n",
       "}\n",
       "\n",
       ".xr-attrs,\n",
       ".xr-var-attrs,\n",
       ".xr-var-data,\n",
       ".xr-index-data {\n",
       "  grid-column: 1 / -1;\n",
       "}\n",
       "\n",
       "dl.xr-attrs {\n",
       "  padding: 0;\n",
       "  margin: 0;\n",
       "  display: grid;\n",
       "  grid-template-columns: 125px auto;\n",
       "}\n",
       "\n",
       ".xr-attrs dt,\n",
       ".xr-attrs dd {\n",
       "  padding: 0;\n",
       "  margin: 0;\n",
       "  float: left;\n",
       "  padding-right: 10px;\n",
       "  width: auto;\n",
       "}\n",
       "\n",
       ".xr-attrs dt {\n",
       "  font-weight: normal;\n",
       "  grid-column: 1;\n",
       "}\n",
       "\n",
       ".xr-attrs dt:hover span {\n",
       "  display: inline-block;\n",
       "  background: var(--xr-background-color);\n",
       "  padding-right: 10px;\n",
       "}\n",
       "\n",
       ".xr-attrs dd {\n",
       "  grid-column: 2;\n",
       "  white-space: pre-wrap;\n",
       "  word-break: break-all;\n",
       "}\n",
       "\n",
       ".xr-icon-database,\n",
       ".xr-icon-file-text2,\n",
       ".xr-no-icon {\n",
       "  display: inline-block;\n",
       "  vertical-align: middle;\n",
       "  width: 1em;\n",
       "  height: 1.5em !important;\n",
       "  stroke-width: 0;\n",
       "  stroke: currentColor;\n",
       "  fill: currentColor;\n",
       "}\n",
       "</style><pre class='xr-text-repr-fallback'>&lt;xarray.DataArray &#x27;pelagic_layer_depth&#x27; (time: 1821, latitude: 1, longitude: 1)&gt; Size: 15kB\n",
       "&lt;Quantity([[[113.25850446]]\n",
       "\n",
       " [[113.67641789]]\n",
       "\n",
       " [[113.37776143]]\n",
       "\n",
       " ...\n",
       "\n",
       " [[112.86924868]]\n",
       "\n",
       " [[113.44111669]]\n",
       "\n",
       " [[111.81958173]]], &#x27;meter&#x27;)&gt;\n",
       "Coordinates:\n",
       "    depth      int64 8B 0\n",
       "  * latitude   (latitude) float64 8B 22.75\n",
       "  * longitude  (longitude) int64 8B -158\n",
       "  * time       (time) datetime64[ns] 15kB 2005-01-02 2005-01-03 ... 2009-12-27\n",
       "Attributes:\n",
       "    standard_name:  sea_water_pelagic_layer_bottom_depth</pre><div class='xr-wrap' style='display:none'><div class='xr-header'><div class='xr-obj-type'>xarray.DataArray</div><div class='xr-array-name'>'pelagic_layer_depth'</div><ul class='xr-dim-list'><li><span class='xr-has-index'>time</span>: 1821</li><li><span class='xr-has-index'>latitude</span>: 1</li><li><span class='xr-has-index'>longitude</span>: 1</li></ul></div><ul class='xr-sections'><li class='xr-section-item'><div class='xr-array-wrap'><input id='section-a665b9cb-c65c-415e-9220-861905ab8130' class='xr-array-in' type='checkbox' checked><label for='section-a665b9cb-c65c-415e-9220-861905ab8130' title='Show/hide data repr'><svg class='icon xr-icon-database'><use xlink:href='#icon-database'></use></svg></label><div class='xr-array-preview xr-preview'><span>[m] 113.3 113.7 113.4 114.1 114.1 ... 113.0 115.8 112.9 113.4 111.8</span></div><div class='xr-array-data'><table><tbody><tr><th>Magnitude</th><td style='text-align:left;'><pre>[[[113.25850445781492]] [[113.67641789059907]] [[113.3777614275639]] ... [[112.86924868047693]] [[113.44111669274305]] [[111.81958173122077]]]</pre></td></tr><tr><th>Units</th><td style='text-align:left;'>meter</td></tr></tbody></table></div></div></li><li class='xr-section-item'><input id='section-462fa66e-cbd7-4633-9b69-6084dad1effa' class='xr-section-summary-in' type='checkbox'  checked><label for='section-462fa66e-cbd7-4633-9b69-6084dad1effa' class='xr-section-summary' >Coordinates: <span>(4)</span></label><div class='xr-section-inline-details'></div><div class='xr-section-details'><ul class='xr-var-list'><li class='xr-var-item'><div class='xr-var-name'><span>depth</span></div><div class='xr-var-dims'>()</div><div class='xr-var-dtype'>int64</div><div class='xr-var-preview xr-preview'>0</div><input id='attrs-2f6e78bf-89c8-455a-a56e-37ccbbf3c778' class='xr-var-attrs-in' type='checkbox' ><label for='attrs-2f6e78bf-89c8-455a-a56e-37ccbbf3c778' title='Show/Hide attributes'><svg class='icon xr-icon-file-text2'><use xlink:href='#icon-file-text2'></use></svg></label><input id='data-70b59ea1-9963-497e-a3bb-ef4737fd4186' class='xr-var-data-in' type='checkbox'><label for='data-70b59ea1-9963-497e-a3bb-ef4737fd4186' title='Show/Hide data repr'><svg class='icon xr-icon-database'><use xlink:href='#icon-database'></use></svg></label><div class='xr-var-attrs'><dl class='xr-attrs'><dt><span>axis :</span></dt><dd>Z</dd><dt><span>desc :</span></dt><dd>The layer depth according to Seapodym definition</dd><dt><span>flag_meanings :</span></dt><dd>epipelagic, upper-mesopelagic, lower-mesopelagic</dd><dt><span>flag_values :</span></dt><dd>[0 1 2]</dd><dt><span>long_name :</span></dt><dd>Layer depth</dd><dt><span>standard_name :</span></dt><dd>depth</dd></dl></div><div class='xr-var-data'><pre>array(0)</pre></div></li><li class='xr-var-item'><div class='xr-var-name'><span class='xr-has-index'>latitude</span></div><div class='xr-var-dims'>(latitude)</div><div class='xr-var-dtype'>float64</div><div class='xr-var-preview xr-preview'>22.75</div><input id='attrs-15f7754e-6d25-4268-a3b9-1ac75ea7da86' class='xr-var-attrs-in' type='checkbox' ><label for='attrs-15f7754e-6d25-4268-a3b9-1ac75ea7da86' title='Show/Hide attributes'><svg class='icon xr-icon-file-text2'><use xlink:href='#icon-file-text2'></use></svg></label><input id='data-2de8c4c1-8226-4e0d-b770-57135d2d6d16' class='xr-var-data-in' type='checkbox'><label for='data-2de8c4c1-8226-4e0d-b770-57135d2d6d16' title='Show/Hide data repr'><svg class='icon xr-icon-database'><use xlink:href='#icon-database'></use></svg></label><div class='xr-var-attrs'><dl class='xr-attrs'><dt><span>axis :</span></dt><dd>Y</dd><dt><span>standard_name :</span></dt><dd>latitude</dd><dt><span>units :</span></dt><dd>degrees_north</dd></dl></div><div class='xr-var-data'><pre>array([22.75])</pre></div></li><li class='xr-var-item'><div class='xr-var-name'><span class='xr-has-index'>longitude</span></div><div class='xr-var-dims'>(longitude)</div><div class='xr-var-dtype'>int64</div><div class='xr-var-preview xr-preview'>-158</div><input id='attrs-28ef82f1-6d2f-452e-8a23-0c0ce794bbee' class='xr-var-attrs-in' type='checkbox' ><label for='attrs-28ef82f1-6d2f-452e-8a23-0c0ce794bbee' title='Show/Hide attributes'><svg class='icon xr-icon-file-text2'><use xlink:href='#icon-file-text2'></use></svg></label><input id='data-124f12fd-e400-4645-b3c0-91b952d711f2' class='xr-var-data-in' type='checkbox'><label for='data-124f12fd-e400-4645-b3c0-91b952d711f2' title='Show/Hide data repr'><svg class='icon xr-icon-database'><use xlink:href='#icon-database'></use></svg></label><div class='xr-var-attrs'><dl class='xr-attrs'><dt><span>axis :</span></dt><dd>X</dd><dt><span>standard_name :</span></dt><dd>longitude</dd><dt><span>units :</span></dt><dd>degrees_east</dd></dl></div><div class='xr-var-data'><pre>array([-158])</pre></div></li><li class='xr-var-item'><div class='xr-var-name'><span class='xr-has-index'>time</span></div><div class='xr-var-dims'>(time)</div><div class='xr-var-dtype'>datetime64[ns]</div><div class='xr-var-preview xr-preview'>2005-01-02 ... 2009-12-27</div><input id='attrs-527bf055-d544-4b6d-a5e0-f19401586285' class='xr-var-attrs-in' type='checkbox' ><label for='attrs-527bf055-d544-4b6d-a5e0-f19401586285' title='Show/Hide attributes'><svg class='icon xr-icon-file-text2'><use xlink:href='#icon-file-text2'></use></svg></label><input id='data-119667a8-4e9b-4eeb-9d44-ffee43f5f48b' class='xr-var-data-in' type='checkbox'><label for='data-119667a8-4e9b-4eeb-9d44-ffee43f5f48b' title='Show/Hide data repr'><svg class='icon xr-icon-database'><use xlink:href='#icon-database'></use></svg></label><div class='xr-var-attrs'><dl class='xr-attrs'><dt><span>axis :</span></dt><dd>T</dd><dt><span>long_name :</span></dt><dd>Time</dd><dt><span>standard_name :</span></dt><dd>time</dd><dt><span>unit_long :</span></dt><dd>Seconds Since 1970-01-01</dd></dl></div><div class='xr-var-data'><pre>array([&#x27;2005-01-02T00:00:00.000000000&#x27;, &#x27;2005-01-03T00:00:00.000000000&#x27;,\n",
       "       &#x27;2005-01-04T00:00:00.000000000&#x27;, ..., &#x27;2009-12-25T00:00:00.000000000&#x27;,\n",
       "       &#x27;2009-12-26T00:00:00.000000000&#x27;, &#x27;2009-12-27T00:00:00.000000000&#x27;],\n",
       "      shape=(1821,), dtype=&#x27;datetime64[ns]&#x27;)</pre></div></li></ul></div></li><li class='xr-section-item'><input id='section-8dadc8d9-7663-45d8-85e0-e3ebc3b4124d' class='xr-section-summary-in' type='checkbox'  ><label for='section-8dadc8d9-7663-45d8-85e0-e3ebc3b4124d' class='xr-section-summary' >Indexes: <span>(3)</span></label><div class='xr-section-inline-details'></div><div class='xr-section-details'><ul class='xr-var-list'><li class='xr-var-item'><div class='xr-index-name'><div>latitude</div></div><div class='xr-index-preview'>PandasIndex</div><input type='checkbox' disabled/><label></label><input id='index-438fe0d4-7fdb-492b-9168-b044ef1dde82' class='xr-index-data-in' type='checkbox'/><label for='index-438fe0d4-7fdb-492b-9168-b044ef1dde82' title='Show/Hide index repr'><svg class='icon xr-icon-database'><use xlink:href='#icon-database'></use></svg></label><div class='xr-index-data'><pre>PandasIndex(Index([22.75], dtype=&#x27;float64&#x27;, name=&#x27;latitude&#x27;))</pre></div></li><li class='xr-var-item'><div class='xr-index-name'><div>longitude</div></div><div class='xr-index-preview'>PandasIndex</div><input type='checkbox' disabled/><label></label><input id='index-772da4c2-d2b9-4719-a009-56e8993d74fd' class='xr-index-data-in' type='checkbox'/><label for='index-772da4c2-d2b9-4719-a009-56e8993d74fd' title='Show/Hide index repr'><svg class='icon xr-icon-database'><use xlink:href='#icon-database'></use></svg></label><div class='xr-index-data'><pre>PandasIndex(Index([-158], dtype=&#x27;int64&#x27;, name=&#x27;longitude&#x27;))</pre></div></li><li class='xr-var-item'><div class='xr-index-name'><div>time</div></div><div class='xr-index-preview'>PandasIndex</div><input type='checkbox' disabled/><label></label><input id='index-ce70ca13-b11e-4d23-b2e9-9eaa5a451818' class='xr-index-data-in' type='checkbox'/><label for='index-ce70ca13-b11e-4d23-b2e9-9eaa5a451818' title='Show/Hide index repr'><svg class='icon xr-icon-database'><use xlink:href='#icon-database'></use></svg></label><div class='xr-index-data'><pre>PandasIndex(DatetimeIndex([&#x27;2005-01-02&#x27;, &#x27;2005-01-03&#x27;, &#x27;2005-01-04&#x27;, &#x27;2005-01-05&#x27;,\n",
       "               &#x27;2005-01-06&#x27;, &#x27;2005-01-07&#x27;, &#x27;2005-01-08&#x27;, &#x27;2005-01-09&#x27;,\n",
       "               &#x27;2005-01-10&#x27;, &#x27;2005-01-11&#x27;,\n",
       "               ...\n",
       "               &#x27;2009-12-18&#x27;, &#x27;2009-12-19&#x27;, &#x27;2009-12-20&#x27;, &#x27;2009-12-21&#x27;,\n",
       "               &#x27;2009-12-22&#x27;, &#x27;2009-12-23&#x27;, &#x27;2009-12-24&#x27;, &#x27;2009-12-25&#x27;,\n",
       "               &#x27;2009-12-26&#x27;, &#x27;2009-12-27&#x27;],\n",
       "              dtype=&#x27;datetime64[ns]&#x27;, name=&#x27;time&#x27;, length=1821, freq=&#x27;D&#x27;))</pre></div></li></ul></div></li><li class='xr-section-item'><input id='section-076048c5-a356-4a08-944a-1b21af6b7134' class='xr-section-summary-in' type='checkbox'  checked><label for='section-076048c5-a356-4a08-944a-1b21af6b7134' class='xr-section-summary' >Attributes: <span>(1)</span></label><div class='xr-section-inline-details'></div><div class='xr-section-details'><dl class='xr-attrs'><dt><span>standard_name :</span></dt><dd>sea_water_pelagic_layer_bottom_depth</dd></dl></div></li></ul></div></div>"
      ],
      "text/plain": [
       "<xarray.DataArray 'pelagic_layer_depth' (time: 1821, latitude: 1, longitude: 1)> Size: 15kB\n",
       "<Quantity([[[113.25850446]]\n",
       "\n",
       " [[113.67641789]]\n",
       "\n",
       " [[113.37776143]]\n",
       "\n",
       " ...\n",
       "\n",
       " [[112.86924868]]\n",
       "\n",
       " [[113.44111669]]\n",
       "\n",
       " [[111.81958173]]], 'meter')>\n",
       "Coordinates:\n",
       "    depth      int64 8B 0\n",
       "  * latitude   (latitude) float64 8B 22.75\n",
       "  * longitude  (longitude) int64 8B -158\n",
       "  * time       (time) datetime64[ns] 15kB 2005-01-02 2005-01-03 ... 2009-12-27\n",
       "Attributes:\n",
       "    standard_name:  sea_water_pelagic_layer_bottom_depth"
      ]
     },
     "execution_count": 5,
     "metadata": {},
     "output_type": "execute_result"
    }
   ],
   "source": [
    "epi_layer_depth = forcing[\"pelagic_layer_depth\"].sel(depth=0).load()\n",
    "epi_layer_depth = epi_layer_depth.resample(time=\"1D\").mean()\n",
    "epi_layer_depth.attrs[\"units\"] = \"meter\"\n",
    "epi_layer_depth = epi_layer_depth.pint.quantify()\n",
    "epi_layer_depth"
   ]
  },
  {
   "cell_type": "markdown",
   "metadata": {},
   "source": [
    "<!-- ## Observed NPP -->\n"
   ]
  },
  {
   "cell_type": "code",
   "execution_count": 6,
   "metadata": {},
   "outputs": [
    {
     "data": {
      "text/html": [
       "<div><svg style=\"position: absolute; width: 0; height: 0; overflow: hidden\">\n",
       "<defs>\n",
       "<symbol id=\"icon-database\" viewBox=\"0 0 32 32\">\n",
       "<path d=\"M16 0c-8.837 0-16 2.239-16 5v4c0 2.761 7.163 5 16 5s16-2.239 16-5v-4c0-2.761-7.163-5-16-5z\"></path>\n",
       "<path d=\"M16 17c-8.837 0-16-2.239-16-5v6c0 2.761 7.163 5 16 5s16-2.239 16-5v-6c0 2.761-7.163 5-16 5z\"></path>\n",
       "<path d=\"M16 26c-8.837 0-16-2.239-16-5v6c0 2.761 7.163 5 16 5s16-2.239 16-5v-6c0 2.761-7.163 5-16 5z\"></path>\n",
       "</symbol>\n",
       "<symbol id=\"icon-file-text2\" viewBox=\"0 0 32 32\">\n",
       "<path d=\"M28.681 7.159c-0.694-0.947-1.662-2.053-2.724-3.116s-2.169-2.030-3.116-2.724c-1.612-1.182-2.393-1.319-2.841-1.319h-15.5c-1.378 0-2.5 1.121-2.5 2.5v27c0 1.378 1.122 2.5 2.5 2.5h23c1.378 0 2.5-1.122 2.5-2.5v-19.5c0-0.448-0.137-1.23-1.319-2.841zM24.543 5.457c0.959 0.959 1.712 1.825 2.268 2.543h-4.811v-4.811c0.718 0.556 1.584 1.309 2.543 2.268zM28 29.5c0 0.271-0.229 0.5-0.5 0.5h-23c-0.271 0-0.5-0.229-0.5-0.5v-27c0-0.271 0.229-0.5 0.5-0.5 0 0 15.499-0 15.5 0v7c0 0.552 0.448 1 1 1h7v19.5z\"></path>\n",
       "<path d=\"M23 26h-14c-0.552 0-1-0.448-1-1s0.448-1 1-1h14c0.552 0 1 0.448 1 1s-0.448 1-1 1z\"></path>\n",
       "<path d=\"M23 22h-14c-0.552 0-1-0.448-1-1s0.448-1 1-1h14c0.552 0 1 0.448 1 1s-0.448 1-1 1z\"></path>\n",
       "<path d=\"M23 18h-14c-0.552 0-1-0.448-1-1s0.448-1 1-1h14c0.552 0 1 0.448 1 1s-0.448 1-1 1z\"></path>\n",
       "</symbol>\n",
       "</defs>\n",
       "</svg>\n",
       "<style>/* CSS stylesheet for displaying xarray objects in jupyterlab.\n",
       " *\n",
       " */\n",
       "\n",
       ":root {\n",
       "  --xr-font-color0: var(--jp-content-font-color0, rgba(0, 0, 0, 1));\n",
       "  --xr-font-color2: var(--jp-content-font-color2, rgba(0, 0, 0, 0.54));\n",
       "  --xr-font-color3: var(--jp-content-font-color3, rgba(0, 0, 0, 0.38));\n",
       "  --xr-border-color: var(--jp-border-color2, #e0e0e0);\n",
       "  --xr-disabled-color: var(--jp-layout-color3, #bdbdbd);\n",
       "  --xr-background-color: var(--jp-layout-color0, white);\n",
       "  --xr-background-color-row-even: var(--jp-layout-color1, white);\n",
       "  --xr-background-color-row-odd: var(--jp-layout-color2, #eeeeee);\n",
       "}\n",
       "\n",
       "html[theme=\"dark\"],\n",
       "html[data-theme=\"dark\"],\n",
       "body[data-theme=\"dark\"],\n",
       "body.vscode-dark {\n",
       "  --xr-font-color0: rgba(255, 255, 255, 1);\n",
       "  --xr-font-color2: rgba(255, 255, 255, 0.54);\n",
       "  --xr-font-color3: rgba(255, 255, 255, 0.38);\n",
       "  --xr-border-color: #1f1f1f;\n",
       "  --xr-disabled-color: #515151;\n",
       "  --xr-background-color: #111111;\n",
       "  --xr-background-color-row-even: #111111;\n",
       "  --xr-background-color-row-odd: #313131;\n",
       "}\n",
       "\n",
       ".xr-wrap {\n",
       "  display: block !important;\n",
       "  min-width: 300px;\n",
       "  max-width: 700px;\n",
       "}\n",
       "\n",
       ".xr-text-repr-fallback {\n",
       "  /* fallback to plain text repr when CSS is not injected (untrusted notebook) */\n",
       "  display: none;\n",
       "}\n",
       "\n",
       ".xr-header {\n",
       "  padding-top: 6px;\n",
       "  padding-bottom: 6px;\n",
       "  margin-bottom: 4px;\n",
       "  border-bottom: solid 1px var(--xr-border-color);\n",
       "}\n",
       "\n",
       ".xr-header > div,\n",
       ".xr-header > ul {\n",
       "  display: inline;\n",
       "  margin-top: 0;\n",
       "  margin-bottom: 0;\n",
       "}\n",
       "\n",
       ".xr-obj-type,\n",
       ".xr-array-name {\n",
       "  margin-left: 2px;\n",
       "  margin-right: 10px;\n",
       "}\n",
       "\n",
       ".xr-obj-type {\n",
       "  color: var(--xr-font-color2);\n",
       "}\n",
       "\n",
       ".xr-sections {\n",
       "  padding-left: 0 !important;\n",
       "  display: grid;\n",
       "  grid-template-columns: 150px auto auto 1fr 0 20px 0 20px;\n",
       "}\n",
       "\n",
       ".xr-section-item {\n",
       "  display: contents;\n",
       "}\n",
       "\n",
       ".xr-section-item input {\n",
       "  display: inline-block;\n",
       "  opacity: 0;\n",
       "  height: 0;\n",
       "}\n",
       "\n",
       ".xr-section-item input + label {\n",
       "  color: var(--xr-disabled-color);\n",
       "}\n",
       "\n",
       ".xr-section-item input:enabled + label {\n",
       "  cursor: pointer;\n",
       "  color: var(--xr-font-color2);\n",
       "}\n",
       "\n",
       ".xr-section-item input:focus + label {\n",
       "  border: 2px solid var(--xr-font-color0);\n",
       "}\n",
       "\n",
       ".xr-section-item input:enabled + label:hover {\n",
       "  color: var(--xr-font-color0);\n",
       "}\n",
       "\n",
       ".xr-section-summary {\n",
       "  grid-column: 1;\n",
       "  color: var(--xr-font-color2);\n",
       "  font-weight: 500;\n",
       "}\n",
       "\n",
       ".xr-section-summary > span {\n",
       "  display: inline-block;\n",
       "  padding-left: 0.5em;\n",
       "}\n",
       "\n",
       ".xr-section-summary-in:disabled + label {\n",
       "  color: var(--xr-font-color2);\n",
       "}\n",
       "\n",
       ".xr-section-summary-in + label:before {\n",
       "  display: inline-block;\n",
       "  content: \"►\";\n",
       "  font-size: 11px;\n",
       "  width: 15px;\n",
       "  text-align: center;\n",
       "}\n",
       "\n",
       ".xr-section-summary-in:disabled + label:before {\n",
       "  color: var(--xr-disabled-color);\n",
       "}\n",
       "\n",
       ".xr-section-summary-in:checked + label:before {\n",
       "  content: \"▼\";\n",
       "}\n",
       "\n",
       ".xr-section-summary-in:checked + label > span {\n",
       "  display: none;\n",
       "}\n",
       "\n",
       ".xr-section-summary,\n",
       ".xr-section-inline-details {\n",
       "  padding-top: 4px;\n",
       "  padding-bottom: 4px;\n",
       "}\n",
       "\n",
       ".xr-section-inline-details {\n",
       "  grid-column: 2 / -1;\n",
       "}\n",
       "\n",
       ".xr-section-details {\n",
       "  display: none;\n",
       "  grid-column: 1 / -1;\n",
       "  margin-bottom: 5px;\n",
       "}\n",
       "\n",
       ".xr-section-summary-in:checked ~ .xr-section-details {\n",
       "  display: contents;\n",
       "}\n",
       "\n",
       ".xr-array-wrap {\n",
       "  grid-column: 1 / -1;\n",
       "  display: grid;\n",
       "  grid-template-columns: 20px auto;\n",
       "}\n",
       "\n",
       ".xr-array-wrap > label {\n",
       "  grid-column: 1;\n",
       "  vertical-align: top;\n",
       "}\n",
       "\n",
       ".xr-preview {\n",
       "  color: var(--xr-font-color3);\n",
       "}\n",
       "\n",
       ".xr-array-preview,\n",
       ".xr-array-data {\n",
       "  padding: 0 5px !important;\n",
       "  grid-column: 2;\n",
       "}\n",
       "\n",
       ".xr-array-data,\n",
       ".xr-array-in:checked ~ .xr-array-preview {\n",
       "  display: none;\n",
       "}\n",
       "\n",
       ".xr-array-in:checked ~ .xr-array-data,\n",
       ".xr-array-preview {\n",
       "  display: inline-block;\n",
       "}\n",
       "\n",
       ".xr-dim-list {\n",
       "  display: inline-block !important;\n",
       "  list-style: none;\n",
       "  padding: 0 !important;\n",
       "  margin: 0;\n",
       "}\n",
       "\n",
       ".xr-dim-list li {\n",
       "  display: inline-block;\n",
       "  padding: 0;\n",
       "  margin: 0;\n",
       "}\n",
       "\n",
       ".xr-dim-list:before {\n",
       "  content: \"(\";\n",
       "}\n",
       "\n",
       ".xr-dim-list:after {\n",
       "  content: \")\";\n",
       "}\n",
       "\n",
       ".xr-dim-list li:not(:last-child):after {\n",
       "  content: \",\";\n",
       "  padding-right: 5px;\n",
       "}\n",
       "\n",
       ".xr-has-index {\n",
       "  font-weight: bold;\n",
       "}\n",
       "\n",
       ".xr-var-list,\n",
       ".xr-var-item {\n",
       "  display: contents;\n",
       "}\n",
       "\n",
       ".xr-var-item > div,\n",
       ".xr-var-item label,\n",
       ".xr-var-item > .xr-var-name span {\n",
       "  background-color: var(--xr-background-color-row-even);\n",
       "  margin-bottom: 0;\n",
       "}\n",
       "\n",
       ".xr-var-item > .xr-var-name:hover span {\n",
       "  padding-right: 5px;\n",
       "}\n",
       "\n",
       ".xr-var-list > li:nth-child(odd) > div,\n",
       ".xr-var-list > li:nth-child(odd) > label,\n",
       ".xr-var-list > li:nth-child(odd) > .xr-var-name span {\n",
       "  background-color: var(--xr-background-color-row-odd);\n",
       "}\n",
       "\n",
       ".xr-var-name {\n",
       "  grid-column: 1;\n",
       "}\n",
       "\n",
       ".xr-var-dims {\n",
       "  grid-column: 2;\n",
       "}\n",
       "\n",
       ".xr-var-dtype {\n",
       "  grid-column: 3;\n",
       "  text-align: right;\n",
       "  color: var(--xr-font-color2);\n",
       "}\n",
       "\n",
       ".xr-var-preview {\n",
       "  grid-column: 4;\n",
       "}\n",
       "\n",
       ".xr-index-preview {\n",
       "  grid-column: 2 / 5;\n",
       "  color: var(--xr-font-color2);\n",
       "}\n",
       "\n",
       ".xr-var-name,\n",
       ".xr-var-dims,\n",
       ".xr-var-dtype,\n",
       ".xr-preview,\n",
       ".xr-attrs dt {\n",
       "  white-space: nowrap;\n",
       "  overflow: hidden;\n",
       "  text-overflow: ellipsis;\n",
       "  padding-right: 10px;\n",
       "}\n",
       "\n",
       ".xr-var-name:hover,\n",
       ".xr-var-dims:hover,\n",
       ".xr-var-dtype:hover,\n",
       ".xr-attrs dt:hover {\n",
       "  overflow: visible;\n",
       "  width: auto;\n",
       "  z-index: 1;\n",
       "}\n",
       "\n",
       ".xr-var-attrs,\n",
       ".xr-var-data,\n",
       ".xr-index-data {\n",
       "  display: none;\n",
       "  background-color: var(--xr-background-color) !important;\n",
       "  padding-bottom: 5px !important;\n",
       "}\n",
       "\n",
       ".xr-var-attrs-in:checked ~ .xr-var-attrs,\n",
       ".xr-var-data-in:checked ~ .xr-var-data,\n",
       ".xr-index-data-in:checked ~ .xr-index-data {\n",
       "  display: block;\n",
       "}\n",
       "\n",
       ".xr-var-data > table {\n",
       "  float: right;\n",
       "}\n",
       "\n",
       ".xr-var-name span,\n",
       ".xr-var-data,\n",
       ".xr-index-name div,\n",
       ".xr-index-data,\n",
       ".xr-attrs {\n",
       "  padding-left: 25px !important;\n",
       "}\n",
       "\n",
       ".xr-attrs,\n",
       ".xr-var-attrs,\n",
       ".xr-var-data,\n",
       ".xr-index-data {\n",
       "  grid-column: 1 / -1;\n",
       "}\n",
       "\n",
       "dl.xr-attrs {\n",
       "  padding: 0;\n",
       "  margin: 0;\n",
       "  display: grid;\n",
       "  grid-template-columns: 125px auto;\n",
       "}\n",
       "\n",
       ".xr-attrs dt,\n",
       ".xr-attrs dd {\n",
       "  padding: 0;\n",
       "  margin: 0;\n",
       "  float: left;\n",
       "  padding-right: 10px;\n",
       "  width: auto;\n",
       "}\n",
       "\n",
       ".xr-attrs dt {\n",
       "  font-weight: normal;\n",
       "  grid-column: 1;\n",
       "}\n",
       "\n",
       ".xr-attrs dt:hover span {\n",
       "  display: inline-block;\n",
       "  background: var(--xr-background-color);\n",
       "  padding-right: 10px;\n",
       "}\n",
       "\n",
       ".xr-attrs dd {\n",
       "  grid-column: 2;\n",
       "  white-space: pre-wrap;\n",
       "  word-break: break-all;\n",
       "}\n",
       "\n",
       ".xr-icon-database,\n",
       ".xr-icon-file-text2,\n",
       ".xr-no-icon {\n",
       "  display: inline-block;\n",
       "  vertical-align: middle;\n",
       "  width: 1em;\n",
       "  height: 1.5em !important;\n",
       "  stroke-width: 0;\n",
       "  stroke: currentColor;\n",
       "  fill: currentColor;\n",
       "}\n",
       "</style><pre class='xr-text-repr-fallback'>&lt;xarray.Dataset&gt; Size: 42kB\n",
       "Dimensions:          (time: 1765, latitude: 1, longitude: 1)\n",
       "Coordinates:\n",
       "  * latitude         (latitude) float64 8B 22.75\n",
       "  * longitude        (longitude) int64 8B -158\n",
       "  * time             (time) datetime64[ns] 14kB 2005-01-31 ... 2009-11-30\n",
       "Data variables:\n",
       "    l12              (time, latitude, longitude) float64 14kB 273.4 ... 275.3\n",
       "    l12_lowess_0.05  (time, latitude, longitude) float64 14kB 274.7 ... 277.4\n",
       "Attributes:\n",
       "    desc:     L12 multiplied by ZEU (from CMEMS).\n",
       "    type:     climatology</pre><div class='xr-wrap' style='display:none'><div class='xr-header'><div class='xr-obj-type'>xarray.Dataset</div></div><ul class='xr-sections'><li class='xr-section-item'><input id='section-012074a6-74b7-4501-a06f-991143764a5f' class='xr-section-summary-in' type='checkbox' disabled ><label for='section-012074a6-74b7-4501-a06f-991143764a5f' class='xr-section-summary'  title='Expand/collapse section'>Dimensions:</label><div class='xr-section-inline-details'><ul class='xr-dim-list'><li><span class='xr-has-index'>time</span>: 1765</li><li><span class='xr-has-index'>latitude</span>: 1</li><li><span class='xr-has-index'>longitude</span>: 1</li></ul></div><div class='xr-section-details'></div></li><li class='xr-section-item'><input id='section-0f58dc20-a62f-4b79-ad4a-070d06d1ef4f' class='xr-section-summary-in' type='checkbox'  checked><label for='section-0f58dc20-a62f-4b79-ad4a-070d06d1ef4f' class='xr-section-summary' >Coordinates: <span>(3)</span></label><div class='xr-section-inline-details'></div><div class='xr-section-details'><ul class='xr-var-list'><li class='xr-var-item'><div class='xr-var-name'><span class='xr-has-index'>latitude</span></div><div class='xr-var-dims'>(latitude)</div><div class='xr-var-dtype'>float64</div><div class='xr-var-preview xr-preview'>22.75</div><input id='attrs-fda3d43e-77dd-4b2b-b08c-8ac11b01f433' class='xr-var-attrs-in' type='checkbox' ><label for='attrs-fda3d43e-77dd-4b2b-b08c-8ac11b01f433' title='Show/Hide attributes'><svg class='icon xr-icon-file-text2'><use xlink:href='#icon-file-text2'></use></svg></label><input id='data-8cec9acd-1fdc-42eb-9d0e-30b6e259912e' class='xr-var-data-in' type='checkbox'><label for='data-8cec9acd-1fdc-42eb-9d0e-30b6e259912e' title='Show/Hide data repr'><svg class='icon xr-icon-database'><use xlink:href='#icon-database'></use></svg></label><div class='xr-var-attrs'><dl class='xr-attrs'><dt><span>axis :</span></dt><dd>Y</dd><dt><span>standard_name :</span></dt><dd>latitude</dd><dt><span>units :</span></dt><dd>degrees_north</dd></dl></div><div class='xr-var-data'><pre>array([22.75])</pre></div></li><li class='xr-var-item'><div class='xr-var-name'><span class='xr-has-index'>longitude</span></div><div class='xr-var-dims'>(longitude)</div><div class='xr-var-dtype'>int64</div><div class='xr-var-preview xr-preview'>-158</div><input id='attrs-0e0070b0-cacf-4494-8313-a5bc56805d15' class='xr-var-attrs-in' type='checkbox' ><label for='attrs-0e0070b0-cacf-4494-8313-a5bc56805d15' title='Show/Hide attributes'><svg class='icon xr-icon-file-text2'><use xlink:href='#icon-file-text2'></use></svg></label><input id='data-1961f4ff-6273-425f-83ed-c77865b3a6f5' class='xr-var-data-in' type='checkbox'><label for='data-1961f4ff-6273-425f-83ed-c77865b3a6f5' title='Show/Hide data repr'><svg class='icon xr-icon-database'><use xlink:href='#icon-database'></use></svg></label><div class='xr-var-attrs'><dl class='xr-attrs'><dt><span>axis :</span></dt><dd>X</dd><dt><span>standard_name :</span></dt><dd>longitude</dd><dt><span>units :</span></dt><dd>degrees_east</dd></dl></div><div class='xr-var-data'><pre>array([-158])</pre></div></li><li class='xr-var-item'><div class='xr-var-name'><span class='xr-has-index'>time</span></div><div class='xr-var-dims'>(time)</div><div class='xr-var-dtype'>datetime64[ns]</div><div class='xr-var-preview xr-preview'>2005-01-31 ... 2009-11-30</div><input id='attrs-108ddf4a-0dab-463c-933d-4ec4e07c18ef' class='xr-var-attrs-in' type='checkbox' ><label for='attrs-108ddf4a-0dab-463c-933d-4ec4e07c18ef' title='Show/Hide attributes'><svg class='icon xr-icon-file-text2'><use xlink:href='#icon-file-text2'></use></svg></label><input id='data-74ead7d7-5072-4458-b402-d93d391fa534' class='xr-var-data-in' type='checkbox'><label for='data-74ead7d7-5072-4458-b402-d93d391fa534' title='Show/Hide data repr'><svg class='icon xr-icon-database'><use xlink:href='#icon-database'></use></svg></label><div class='xr-var-attrs'><dl class='xr-attrs'><dt><span>axis :</span></dt><dd>T</dd></dl></div><div class='xr-var-data'><pre>array([&#x27;2005-01-31T00:00:00.000000000&#x27;, &#x27;2005-02-01T00:00:00.000000000&#x27;,\n",
       "       &#x27;2005-02-02T00:00:00.000000000&#x27;, ..., &#x27;2009-11-28T00:00:00.000000000&#x27;,\n",
       "       &#x27;2009-11-29T00:00:00.000000000&#x27;, &#x27;2009-11-30T00:00:00.000000000&#x27;],\n",
       "      shape=(1765,), dtype=&#x27;datetime64[ns]&#x27;)</pre></div></li></ul></div></li><li class='xr-section-item'><input id='section-06d6c575-4309-40a4-9a5f-be26b9e16f3b' class='xr-section-summary-in' type='checkbox'  checked><label for='section-06d6c575-4309-40a4-9a5f-be26b9e16f3b' class='xr-section-summary' >Data variables: <span>(2)</span></label><div class='xr-section-inline-details'></div><div class='xr-section-details'><ul class='xr-var-list'><li class='xr-var-item'><div class='xr-var-name'><span>l12</span></div><div class='xr-var-dims'>(time, latitude, longitude)</div><div class='xr-var-dtype'>float64</div><div class='xr-var-preview xr-preview'>273.4 274.8 276.2 ... 276.9 275.3</div><input id='attrs-29eaa0b1-343e-4c5f-81df-f8bac31db54e' class='xr-var-attrs-in' type='checkbox' ><label for='attrs-29eaa0b1-343e-4c5f-81df-f8bac31db54e' title='Show/Hide attributes'><svg class='icon xr-icon-file-text2'><use xlink:href='#icon-file-text2'></use></svg></label><input id='data-c9197077-1724-408e-8a86-df3510e0762b' class='xr-var-data-in' type='checkbox'><label for='data-c9197077-1724-408e-8a86-df3510e0762b' title='Show/Hide data repr'><svg class='icon xr-icon-database'><use xlink:href='#icon-database'></use></svg></label><div class='xr-var-attrs'><dl class='xr-attrs'><dt><span>desc :</span></dt><dd>L12 multiplied by ZEU (from CMEMS)</dd><dt><span>station :</span></dt><dd>hot</dd><dt><span>type :</span></dt><dd>in situ</dd><dt><span>units :</span></dt><dd>mg m-2 day-1</dd></dl></div><div class='xr-var-data'><pre>array([[[273.36574751]],\n",
       "\n",
       "       [[274.79807441]],\n",
       "\n",
       "       [[276.23040131]],\n",
       "\n",
       "       ...,\n",
       "\n",
       "       [[278.51690676]],\n",
       "\n",
       "       [[276.9015415 ]],\n",
       "\n",
       "       [[275.28617624]]], shape=(1765, 1, 1))</pre></div></li><li class='xr-var-item'><div class='xr-var-name'><span>l12_lowess_0.05</span></div><div class='xr-var-dims'>(time, latitude, longitude)</div><div class='xr-var-dtype'>float64</div><div class='xr-var-preview xr-preview'>274.7 276.0 277.3 ... 279.0 277.4</div><input id='attrs-f3bd1060-d731-44e2-b25d-5203c0554559' class='xr-var-attrs-in' type='checkbox' ><label for='attrs-f3bd1060-d731-44e2-b25d-5203c0554559' title='Show/Hide attributes'><svg class='icon xr-icon-file-text2'><use xlink:href='#icon-file-text2'></use></svg></label><input id='data-60a2611d-3ba8-4219-9a3e-ef630b969b18' class='xr-var-data-in' type='checkbox'><label for='data-60a2611d-3ba8-4219-9a3e-ef630b969b18' title='Show/Hide data repr'><svg class='icon xr-icon-database'><use xlink:href='#icon-database'></use></svg></label><div class='xr-var-attrs'><dl class='xr-attrs'><dt><span>desc :</span></dt><dd>L12 multiplied by ZEU (from CMEMS) smoothed with lowess filter with frac=0.05.</dd></dl></div><div class='xr-var-data'><pre>array([[[274.7242969 ]],\n",
       "\n",
       "       [[276.02959424]],\n",
       "\n",
       "       [[277.33489159]],\n",
       "\n",
       "       ...,\n",
       "\n",
       "       [[280.63818363]],\n",
       "\n",
       "       [[279.03679711]],\n",
       "\n",
       "       [[277.43541058]]], shape=(1765, 1, 1))</pre></div></li></ul></div></li><li class='xr-section-item'><input id='section-10a761e1-587f-47bc-8ee0-4a54b9977492' class='xr-section-summary-in' type='checkbox'  ><label for='section-10a761e1-587f-47bc-8ee0-4a54b9977492' class='xr-section-summary' >Indexes: <span>(3)</span></label><div class='xr-section-inline-details'></div><div class='xr-section-details'><ul class='xr-var-list'><li class='xr-var-item'><div class='xr-index-name'><div>latitude</div></div><div class='xr-index-preview'>PandasIndex</div><input type='checkbox' disabled/><label></label><input id='index-212dfc28-4499-4891-bdde-a92689bc6c43' class='xr-index-data-in' type='checkbox'/><label for='index-212dfc28-4499-4891-bdde-a92689bc6c43' title='Show/Hide index repr'><svg class='icon xr-icon-database'><use xlink:href='#icon-database'></use></svg></label><div class='xr-index-data'><pre>PandasIndex(Index([22.75], dtype=&#x27;float64&#x27;, name=&#x27;latitude&#x27;))</pre></div></li><li class='xr-var-item'><div class='xr-index-name'><div>longitude</div></div><div class='xr-index-preview'>PandasIndex</div><input type='checkbox' disabled/><label></label><input id='index-1bae4ef3-02d8-4006-8bc0-98f1aeb60f79' class='xr-index-data-in' type='checkbox'/><label for='index-1bae4ef3-02d8-4006-8bc0-98f1aeb60f79' title='Show/Hide index repr'><svg class='icon xr-icon-database'><use xlink:href='#icon-database'></use></svg></label><div class='xr-index-data'><pre>PandasIndex(Index([-158], dtype=&#x27;int64&#x27;, name=&#x27;longitude&#x27;))</pre></div></li><li class='xr-var-item'><div class='xr-index-name'><div>time</div></div><div class='xr-index-preview'>PandasIndex</div><input type='checkbox' disabled/><label></label><input id='index-f22462b4-4382-4d0a-bb9c-0f8976b1012c' class='xr-index-data-in' type='checkbox'/><label for='index-f22462b4-4382-4d0a-bb9c-0f8976b1012c' title='Show/Hide index repr'><svg class='icon xr-icon-database'><use xlink:href='#icon-database'></use></svg></label><div class='xr-index-data'><pre>PandasIndex(DatetimeIndex([&#x27;2005-01-31&#x27;, &#x27;2005-02-01&#x27;, &#x27;2005-02-02&#x27;, &#x27;2005-02-03&#x27;,\n",
       "               &#x27;2005-02-04&#x27;, &#x27;2005-02-05&#x27;, &#x27;2005-02-06&#x27;, &#x27;2005-02-07&#x27;,\n",
       "               &#x27;2005-02-08&#x27;, &#x27;2005-02-09&#x27;,\n",
       "               ...\n",
       "               &#x27;2009-11-21&#x27;, &#x27;2009-11-22&#x27;, &#x27;2009-11-23&#x27;, &#x27;2009-11-24&#x27;,\n",
       "               &#x27;2009-11-25&#x27;, &#x27;2009-11-26&#x27;, &#x27;2009-11-27&#x27;, &#x27;2009-11-28&#x27;,\n",
       "               &#x27;2009-11-29&#x27;, &#x27;2009-11-30&#x27;],\n",
       "              dtype=&#x27;datetime64[ns]&#x27;, name=&#x27;time&#x27;, length=1765, freq=None))</pre></div></li></ul></div></li><li class='xr-section-item'><input id='section-b4e7d6f2-21cb-48b9-b1ad-34552f0acea3' class='xr-section-summary-in' type='checkbox'  checked><label for='section-b4e7d6f2-21cb-48b9-b1ad-34552f0acea3' class='xr-section-summary' >Attributes: <span>(2)</span></label><div class='xr-section-inline-details'></div><div class='xr-section-details'><dl class='xr-attrs'><dt><span>desc :</span></dt><dd>L12 multiplied by ZEU (from CMEMS).</dd><dt><span>type :</span></dt><dd>climatology</dd></dl></div></li></ul></div></div>"
      ],
      "text/plain": [
       "<xarray.Dataset> Size: 42kB\n",
       "Dimensions:          (time: 1765, latitude: 1, longitude: 1)\n",
       "Coordinates:\n",
       "  * latitude         (latitude) float64 8B 22.75\n",
       "  * longitude        (longitude) int64 8B -158\n",
       "  * time             (time) datetime64[ns] 14kB 2005-01-31 ... 2009-11-30\n",
       "Data variables:\n",
       "    l12              (time, latitude, longitude) float64 14kB 273.4 ... 275.3\n",
       "    l12_lowess_0.05  (time, latitude, longitude) float64 14kB 274.7 ... 277.4\n",
       "Attributes:\n",
       "    desc:     L12 multiplied by ZEU (from CMEMS).\n",
       "    type:     climatology"
      ]
     },
     "execution_count": 6,
     "metadata": {},
     "output_type": "execute_result"
    }
   ],
   "source": [
    "observed_npp = xr.open_zarr(path_to_npp)\n",
    "observed_npp = observed_npp.sel(time=slice(TIME_START, TIME_END))\n",
    "observed_npp = observed_npp.dropna(\"time\", how=\"all\")\n",
    "observed_npp = observed_npp.resample(time=\"D\").interpolate(\"linear\")\n",
    "observed_npp.load()"
   ]
  },
  {
   "cell_type": "markdown",
   "metadata": {},
   "source": [
    "### Observations\n"
   ]
  },
  {
   "cell_type": "code",
   "execution_count": 7,
   "metadata": {},
   "outputs": [
    {
     "data": {
      "text/html": [
       "<div><svg style=\"position: absolute; width: 0; height: 0; overflow: hidden\">\n",
       "<defs>\n",
       "<symbol id=\"icon-database\" viewBox=\"0 0 32 32\">\n",
       "<path d=\"M16 0c-8.837 0-16 2.239-16 5v4c0 2.761 7.163 5 16 5s16-2.239 16-5v-4c0-2.761-7.163-5-16-5z\"></path>\n",
       "<path d=\"M16 17c-8.837 0-16-2.239-16-5v6c0 2.761 7.163 5 16 5s16-2.239 16-5v-6c0 2.761-7.163 5-16 5z\"></path>\n",
       "<path d=\"M16 26c-8.837 0-16-2.239-16-5v6c0 2.761 7.163 5 16 5s16-2.239 16-5v-6c0 2.761-7.163 5-16 5z\"></path>\n",
       "</symbol>\n",
       "<symbol id=\"icon-file-text2\" viewBox=\"0 0 32 32\">\n",
       "<path d=\"M28.681 7.159c-0.694-0.947-1.662-2.053-2.724-3.116s-2.169-2.030-3.116-2.724c-1.612-1.182-2.393-1.319-2.841-1.319h-15.5c-1.378 0-2.5 1.121-2.5 2.5v27c0 1.378 1.122 2.5 2.5 2.5h23c1.378 0 2.5-1.122 2.5-2.5v-19.5c0-0.448-0.137-1.23-1.319-2.841zM24.543 5.457c0.959 0.959 1.712 1.825 2.268 2.543h-4.811v-4.811c0.718 0.556 1.584 1.309 2.543 2.268zM28 29.5c0 0.271-0.229 0.5-0.5 0.5h-23c-0.271 0-0.5-0.229-0.5-0.5v-27c0-0.271 0.229-0.5 0.5-0.5 0 0 15.499-0 15.5 0v7c0 0.552 0.448 1 1 1h7v19.5z\"></path>\n",
       "<path d=\"M23 26h-14c-0.552 0-1-0.448-1-1s0.448-1 1-1h14c0.552 0 1 0.448 1 1s-0.448 1-1 1z\"></path>\n",
       "<path d=\"M23 22h-14c-0.552 0-1-0.448-1-1s0.448-1 1-1h14c0.552 0 1 0.448 1 1s-0.448 1-1 1z\"></path>\n",
       "<path d=\"M23 18h-14c-0.552 0-1-0.448-1-1s0.448-1 1-1h14c0.552 0 1 0.448 1 1s-0.448 1-1 1z\"></path>\n",
       "</symbol>\n",
       "</defs>\n",
       "</svg>\n",
       "<style>/* CSS stylesheet for displaying xarray objects in jupyterlab.\n",
       " *\n",
       " */\n",
       "\n",
       ":root {\n",
       "  --xr-font-color0: var(--jp-content-font-color0, rgba(0, 0, 0, 1));\n",
       "  --xr-font-color2: var(--jp-content-font-color2, rgba(0, 0, 0, 0.54));\n",
       "  --xr-font-color3: var(--jp-content-font-color3, rgba(0, 0, 0, 0.38));\n",
       "  --xr-border-color: var(--jp-border-color2, #e0e0e0);\n",
       "  --xr-disabled-color: var(--jp-layout-color3, #bdbdbd);\n",
       "  --xr-background-color: var(--jp-layout-color0, white);\n",
       "  --xr-background-color-row-even: var(--jp-layout-color1, white);\n",
       "  --xr-background-color-row-odd: var(--jp-layout-color2, #eeeeee);\n",
       "}\n",
       "\n",
       "html[theme=\"dark\"],\n",
       "html[data-theme=\"dark\"],\n",
       "body[data-theme=\"dark\"],\n",
       "body.vscode-dark {\n",
       "  --xr-font-color0: rgba(255, 255, 255, 1);\n",
       "  --xr-font-color2: rgba(255, 255, 255, 0.54);\n",
       "  --xr-font-color3: rgba(255, 255, 255, 0.38);\n",
       "  --xr-border-color: #1f1f1f;\n",
       "  --xr-disabled-color: #515151;\n",
       "  --xr-background-color: #111111;\n",
       "  --xr-background-color-row-even: #111111;\n",
       "  --xr-background-color-row-odd: #313131;\n",
       "}\n",
       "\n",
       ".xr-wrap {\n",
       "  display: block !important;\n",
       "  min-width: 300px;\n",
       "  max-width: 700px;\n",
       "}\n",
       "\n",
       ".xr-text-repr-fallback {\n",
       "  /* fallback to plain text repr when CSS is not injected (untrusted notebook) */\n",
       "  display: none;\n",
       "}\n",
       "\n",
       ".xr-header {\n",
       "  padding-top: 6px;\n",
       "  padding-bottom: 6px;\n",
       "  margin-bottom: 4px;\n",
       "  border-bottom: solid 1px var(--xr-border-color);\n",
       "}\n",
       "\n",
       ".xr-header > div,\n",
       ".xr-header > ul {\n",
       "  display: inline;\n",
       "  margin-top: 0;\n",
       "  margin-bottom: 0;\n",
       "}\n",
       "\n",
       ".xr-obj-type,\n",
       ".xr-array-name {\n",
       "  margin-left: 2px;\n",
       "  margin-right: 10px;\n",
       "}\n",
       "\n",
       ".xr-obj-type {\n",
       "  color: var(--xr-font-color2);\n",
       "}\n",
       "\n",
       ".xr-sections {\n",
       "  padding-left: 0 !important;\n",
       "  display: grid;\n",
       "  grid-template-columns: 150px auto auto 1fr 0 20px 0 20px;\n",
       "}\n",
       "\n",
       ".xr-section-item {\n",
       "  display: contents;\n",
       "}\n",
       "\n",
       ".xr-section-item input {\n",
       "  display: inline-block;\n",
       "  opacity: 0;\n",
       "  height: 0;\n",
       "}\n",
       "\n",
       ".xr-section-item input + label {\n",
       "  color: var(--xr-disabled-color);\n",
       "}\n",
       "\n",
       ".xr-section-item input:enabled + label {\n",
       "  cursor: pointer;\n",
       "  color: var(--xr-font-color2);\n",
       "}\n",
       "\n",
       ".xr-section-item input:focus + label {\n",
       "  border: 2px solid var(--xr-font-color0);\n",
       "}\n",
       "\n",
       ".xr-section-item input:enabled + label:hover {\n",
       "  color: var(--xr-font-color0);\n",
       "}\n",
       "\n",
       ".xr-section-summary {\n",
       "  grid-column: 1;\n",
       "  color: var(--xr-font-color2);\n",
       "  font-weight: 500;\n",
       "}\n",
       "\n",
       ".xr-section-summary > span {\n",
       "  display: inline-block;\n",
       "  padding-left: 0.5em;\n",
       "}\n",
       "\n",
       ".xr-section-summary-in:disabled + label {\n",
       "  color: var(--xr-font-color2);\n",
       "}\n",
       "\n",
       ".xr-section-summary-in + label:before {\n",
       "  display: inline-block;\n",
       "  content: \"►\";\n",
       "  font-size: 11px;\n",
       "  width: 15px;\n",
       "  text-align: center;\n",
       "}\n",
       "\n",
       ".xr-section-summary-in:disabled + label:before {\n",
       "  color: var(--xr-disabled-color);\n",
       "}\n",
       "\n",
       ".xr-section-summary-in:checked + label:before {\n",
       "  content: \"▼\";\n",
       "}\n",
       "\n",
       ".xr-section-summary-in:checked + label > span {\n",
       "  display: none;\n",
       "}\n",
       "\n",
       ".xr-section-summary,\n",
       ".xr-section-inline-details {\n",
       "  padding-top: 4px;\n",
       "  padding-bottom: 4px;\n",
       "}\n",
       "\n",
       ".xr-section-inline-details {\n",
       "  grid-column: 2 / -1;\n",
       "}\n",
       "\n",
       ".xr-section-details {\n",
       "  display: none;\n",
       "  grid-column: 1 / -1;\n",
       "  margin-bottom: 5px;\n",
       "}\n",
       "\n",
       ".xr-section-summary-in:checked ~ .xr-section-details {\n",
       "  display: contents;\n",
       "}\n",
       "\n",
       ".xr-array-wrap {\n",
       "  grid-column: 1 / -1;\n",
       "  display: grid;\n",
       "  grid-template-columns: 20px auto;\n",
       "}\n",
       "\n",
       ".xr-array-wrap > label {\n",
       "  grid-column: 1;\n",
       "  vertical-align: top;\n",
       "}\n",
       "\n",
       ".xr-preview {\n",
       "  color: var(--xr-font-color3);\n",
       "}\n",
       "\n",
       ".xr-array-preview,\n",
       ".xr-array-data {\n",
       "  padding: 0 5px !important;\n",
       "  grid-column: 2;\n",
       "}\n",
       "\n",
       ".xr-array-data,\n",
       ".xr-array-in:checked ~ .xr-array-preview {\n",
       "  display: none;\n",
       "}\n",
       "\n",
       ".xr-array-in:checked ~ .xr-array-data,\n",
       ".xr-array-preview {\n",
       "  display: inline-block;\n",
       "}\n",
       "\n",
       ".xr-dim-list {\n",
       "  display: inline-block !important;\n",
       "  list-style: none;\n",
       "  padding: 0 !important;\n",
       "  margin: 0;\n",
       "}\n",
       "\n",
       ".xr-dim-list li {\n",
       "  display: inline-block;\n",
       "  padding: 0;\n",
       "  margin: 0;\n",
       "}\n",
       "\n",
       ".xr-dim-list:before {\n",
       "  content: \"(\";\n",
       "}\n",
       "\n",
       ".xr-dim-list:after {\n",
       "  content: \")\";\n",
       "}\n",
       "\n",
       ".xr-dim-list li:not(:last-child):after {\n",
       "  content: \",\";\n",
       "  padding-right: 5px;\n",
       "}\n",
       "\n",
       ".xr-has-index {\n",
       "  font-weight: bold;\n",
       "}\n",
       "\n",
       ".xr-var-list,\n",
       ".xr-var-item {\n",
       "  display: contents;\n",
       "}\n",
       "\n",
       ".xr-var-item > div,\n",
       ".xr-var-item label,\n",
       ".xr-var-item > .xr-var-name span {\n",
       "  background-color: var(--xr-background-color-row-even);\n",
       "  margin-bottom: 0;\n",
       "}\n",
       "\n",
       ".xr-var-item > .xr-var-name:hover span {\n",
       "  padding-right: 5px;\n",
       "}\n",
       "\n",
       ".xr-var-list > li:nth-child(odd) > div,\n",
       ".xr-var-list > li:nth-child(odd) > label,\n",
       ".xr-var-list > li:nth-child(odd) > .xr-var-name span {\n",
       "  background-color: var(--xr-background-color-row-odd);\n",
       "}\n",
       "\n",
       ".xr-var-name {\n",
       "  grid-column: 1;\n",
       "}\n",
       "\n",
       ".xr-var-dims {\n",
       "  grid-column: 2;\n",
       "}\n",
       "\n",
       ".xr-var-dtype {\n",
       "  grid-column: 3;\n",
       "  text-align: right;\n",
       "  color: var(--xr-font-color2);\n",
       "}\n",
       "\n",
       ".xr-var-preview {\n",
       "  grid-column: 4;\n",
       "}\n",
       "\n",
       ".xr-index-preview {\n",
       "  grid-column: 2 / 5;\n",
       "  color: var(--xr-font-color2);\n",
       "}\n",
       "\n",
       ".xr-var-name,\n",
       ".xr-var-dims,\n",
       ".xr-var-dtype,\n",
       ".xr-preview,\n",
       ".xr-attrs dt {\n",
       "  white-space: nowrap;\n",
       "  overflow: hidden;\n",
       "  text-overflow: ellipsis;\n",
       "  padding-right: 10px;\n",
       "}\n",
       "\n",
       ".xr-var-name:hover,\n",
       ".xr-var-dims:hover,\n",
       ".xr-var-dtype:hover,\n",
       ".xr-attrs dt:hover {\n",
       "  overflow: visible;\n",
       "  width: auto;\n",
       "  z-index: 1;\n",
       "}\n",
       "\n",
       ".xr-var-attrs,\n",
       ".xr-var-data,\n",
       ".xr-index-data {\n",
       "  display: none;\n",
       "  background-color: var(--xr-background-color) !important;\n",
       "  padding-bottom: 5px !important;\n",
       "}\n",
       "\n",
       ".xr-var-attrs-in:checked ~ .xr-var-attrs,\n",
       ".xr-var-data-in:checked ~ .xr-var-data,\n",
       ".xr-index-data-in:checked ~ .xr-index-data {\n",
       "  display: block;\n",
       "}\n",
       "\n",
       ".xr-var-data > table {\n",
       "  float: right;\n",
       "}\n",
       "\n",
       ".xr-var-name span,\n",
       ".xr-var-data,\n",
       ".xr-index-name div,\n",
       ".xr-index-data,\n",
       ".xr-attrs {\n",
       "  padding-left: 25px !important;\n",
       "}\n",
       "\n",
       ".xr-attrs,\n",
       ".xr-var-attrs,\n",
       ".xr-var-data,\n",
       ".xr-index-data {\n",
       "  grid-column: 1 / -1;\n",
       "}\n",
       "\n",
       "dl.xr-attrs {\n",
       "  padding: 0;\n",
       "  margin: 0;\n",
       "  display: grid;\n",
       "  grid-template-columns: 125px auto;\n",
       "}\n",
       "\n",
       ".xr-attrs dt,\n",
       ".xr-attrs dd {\n",
       "  padding: 0;\n",
       "  margin: 0;\n",
       "  float: left;\n",
       "  padding-right: 10px;\n",
       "  width: auto;\n",
       "}\n",
       "\n",
       ".xr-attrs dt {\n",
       "  font-weight: normal;\n",
       "  grid-column: 1;\n",
       "}\n",
       "\n",
       ".xr-attrs dt:hover span {\n",
       "  display: inline-block;\n",
       "  background: var(--xr-background-color);\n",
       "  padding-right: 10px;\n",
       "}\n",
       "\n",
       ".xr-attrs dd {\n",
       "  grid-column: 2;\n",
       "  white-space: pre-wrap;\n",
       "  word-break: break-all;\n",
       "}\n",
       "\n",
       ".xr-icon-database,\n",
       ".xr-icon-file-text2,\n",
       ".xr-no-icon {\n",
       "  display: inline-block;\n",
       "  vertical-align: middle;\n",
       "  width: 1em;\n",
       "  height: 1.5em !important;\n",
       "  stroke-width: 0;\n",
       "  stroke: currentColor;\n",
       "  fill: currentColor;\n",
       "}\n",
       "</style><pre class='xr-text-repr-fallback'>&lt;xarray.Dataset&gt; Size: 1kB\n",
       "Dimensions:    (layer: 1, time: 59, latitude: 1, longitude: 1)\n",
       "Coordinates:\n",
       "  * layer      (layer) int64 8B 0\n",
       "  * time       (time) datetime64[ns] 472B 2005-01-31 2005-02-28 ... 2009-11-30\n",
       "  * latitude   (latitude) float64 8B 22.75\n",
       "  * longitude  (longitude) int64 8B -158\n",
       "Data variables:\n",
       "    day        (time, layer, latitude, longitude) float64 472B [mg/m²] 157.9 ...\n",
       "    night      (time, layer, latitude, longitude) float64 472B [mg/m²] 237.1 ...</pre><div class='xr-wrap' style='display:none'><div class='xr-header'><div class='xr-obj-type'>xarray.Dataset</div></div><ul class='xr-sections'><li class='xr-section-item'><input id='section-75bd13ec-7900-469d-a325-c487e5c8e4f3' class='xr-section-summary-in' type='checkbox' disabled ><label for='section-75bd13ec-7900-469d-a325-c487e5c8e4f3' class='xr-section-summary'  title='Expand/collapse section'>Dimensions:</label><div class='xr-section-inline-details'><ul class='xr-dim-list'><li><span class='xr-has-index'>layer</span>: 1</li><li><span class='xr-has-index'>time</span>: 59</li><li><span class='xr-has-index'>latitude</span>: 1</li><li><span class='xr-has-index'>longitude</span>: 1</li></ul></div><div class='xr-section-details'></div></li><li class='xr-section-item'><input id='section-f775c370-4c9f-437f-856d-9c663654f902' class='xr-section-summary-in' type='checkbox'  checked><label for='section-f775c370-4c9f-437f-856d-9c663654f902' class='xr-section-summary' >Coordinates: <span>(4)</span></label><div class='xr-section-inline-details'></div><div class='xr-section-details'><ul class='xr-var-list'><li class='xr-var-item'><div class='xr-var-name'><span class='xr-has-index'>layer</span></div><div class='xr-var-dims'>(layer)</div><div class='xr-var-dtype'>int64</div><div class='xr-var-preview xr-preview'>0</div><input id='attrs-b99c6738-5925-4493-8820-f3227a1a6c10' class='xr-var-attrs-in' type='checkbox' ><label for='attrs-b99c6738-5925-4493-8820-f3227a1a6c10' title='Show/Hide attributes'><svg class='icon xr-icon-file-text2'><use xlink:href='#icon-file-text2'></use></svg></label><input id='data-0bfa33ba-a15c-4bc3-a84b-28bf6859dd7c' class='xr-var-data-in' type='checkbox'><label for='data-0bfa33ba-a15c-4bc3-a84b-28bf6859dd7c' title='Show/Hide data repr'><svg class='icon xr-icon-database'><use xlink:href='#icon-database'></use></svg></label><div class='xr-var-attrs'><dl class='xr-attrs'><dt><span>axis :</span></dt><dd>Z</dd><dt><span>desc :</span></dt><dd>The layer depth according to Seapodym definition</dd><dt><span>flag_meanings :</span></dt><dd>epipelagic, upper-mesopelagic, lower-mesopelagic</dd><dt><span>flag_values :</span></dt><dd>[0, 1, 2]</dd><dt><span>long_name :</span></dt><dd>Layer depth</dd><dt><span>standard_name :</span></dt><dd>layer</dd></dl></div><div class='xr-var-data'><pre>array([0])</pre></div></li><li class='xr-var-item'><div class='xr-var-name'><span class='xr-has-index'>time</span></div><div class='xr-var-dims'>(time)</div><div class='xr-var-dtype'>datetime64[ns]</div><div class='xr-var-preview xr-preview'>2005-01-31 ... 2009-11-30</div><input id='attrs-9b64db40-cd0c-4fe4-82b7-5ca7c3964e51' class='xr-var-attrs-in' type='checkbox' ><label for='attrs-9b64db40-cd0c-4fe4-82b7-5ca7c3964e51' title='Show/Hide attributes'><svg class='icon xr-icon-file-text2'><use xlink:href='#icon-file-text2'></use></svg></label><input id='data-58af9d49-a9e6-4b67-be30-cf9633a61600' class='xr-var-data-in' type='checkbox'><label for='data-58af9d49-a9e6-4b67-be30-cf9633a61600' title='Show/Hide data repr'><svg class='icon xr-icon-database'><use xlink:href='#icon-database'></use></svg></label><div class='xr-var-attrs'><dl class='xr-attrs'><dt><span>axis :</span></dt><dd>T</dd><dt><span>long_name :</span></dt><dd>time</dd><dt><span>standard_name :</span></dt><dd>time</dd></dl></div><div class='xr-var-data'><pre>array([&#x27;2005-01-31T00:00:00.000000000&#x27;, &#x27;2005-02-28T00:00:00.000000000&#x27;,\n",
       "       &#x27;2005-03-31T00:00:00.000000000&#x27;, &#x27;2005-04-30T00:00:00.000000000&#x27;,\n",
       "       &#x27;2005-05-31T00:00:00.000000000&#x27;, &#x27;2005-06-30T00:00:00.000000000&#x27;,\n",
       "       &#x27;2005-07-31T00:00:00.000000000&#x27;, &#x27;2005-08-31T00:00:00.000000000&#x27;,\n",
       "       &#x27;2005-09-30T00:00:00.000000000&#x27;, &#x27;2005-10-31T00:00:00.000000000&#x27;,\n",
       "       &#x27;2005-11-30T00:00:00.000000000&#x27;, &#x27;2005-12-31T00:00:00.000000000&#x27;,\n",
       "       &#x27;2006-01-31T00:00:00.000000000&#x27;, &#x27;2006-02-28T00:00:00.000000000&#x27;,\n",
       "       &#x27;2006-03-31T00:00:00.000000000&#x27;, &#x27;2006-04-30T00:00:00.000000000&#x27;,\n",
       "       &#x27;2006-05-31T00:00:00.000000000&#x27;, &#x27;2006-06-30T00:00:00.000000000&#x27;,\n",
       "       &#x27;2006-07-31T00:00:00.000000000&#x27;, &#x27;2006-08-31T00:00:00.000000000&#x27;,\n",
       "       &#x27;2006-09-30T00:00:00.000000000&#x27;, &#x27;2006-10-31T00:00:00.000000000&#x27;,\n",
       "       &#x27;2006-11-30T00:00:00.000000000&#x27;, &#x27;2006-12-31T00:00:00.000000000&#x27;,\n",
       "       &#x27;2007-01-31T00:00:00.000000000&#x27;, &#x27;2007-02-28T00:00:00.000000000&#x27;,\n",
       "       &#x27;2007-03-31T00:00:00.000000000&#x27;, &#x27;2007-04-30T00:00:00.000000000&#x27;,\n",
       "       &#x27;2007-05-31T00:00:00.000000000&#x27;, &#x27;2007-06-30T00:00:00.000000000&#x27;,\n",
       "       &#x27;2007-07-31T00:00:00.000000000&#x27;, &#x27;2007-08-31T00:00:00.000000000&#x27;,\n",
       "       &#x27;2007-09-30T00:00:00.000000000&#x27;, &#x27;2007-10-31T00:00:00.000000000&#x27;,\n",
       "       &#x27;2007-11-30T00:00:00.000000000&#x27;, &#x27;2007-12-31T00:00:00.000000000&#x27;,\n",
       "       &#x27;2008-01-31T00:00:00.000000000&#x27;, &#x27;2008-02-29T00:00:00.000000000&#x27;,\n",
       "       &#x27;2008-03-31T00:00:00.000000000&#x27;, &#x27;2008-04-30T00:00:00.000000000&#x27;,\n",
       "       &#x27;2008-05-31T00:00:00.000000000&#x27;, &#x27;2008-06-30T00:00:00.000000000&#x27;,\n",
       "       &#x27;2008-07-31T00:00:00.000000000&#x27;, &#x27;2008-08-31T00:00:00.000000000&#x27;,\n",
       "       &#x27;2008-09-30T00:00:00.000000000&#x27;, &#x27;2008-10-31T00:00:00.000000000&#x27;,\n",
       "       &#x27;2008-11-30T00:00:00.000000000&#x27;, &#x27;2008-12-31T00:00:00.000000000&#x27;,\n",
       "       &#x27;2009-01-31T00:00:00.000000000&#x27;, &#x27;2009-02-28T00:00:00.000000000&#x27;,\n",
       "       &#x27;2009-03-31T00:00:00.000000000&#x27;, &#x27;2009-04-30T00:00:00.000000000&#x27;,\n",
       "       &#x27;2009-05-31T00:00:00.000000000&#x27;, &#x27;2009-06-30T00:00:00.000000000&#x27;,\n",
       "       &#x27;2009-07-31T00:00:00.000000000&#x27;, &#x27;2009-08-31T00:00:00.000000000&#x27;,\n",
       "       &#x27;2009-09-30T00:00:00.000000000&#x27;, &#x27;2009-10-31T00:00:00.000000000&#x27;,\n",
       "       &#x27;2009-11-30T00:00:00.000000000&#x27;], dtype=&#x27;datetime64[ns]&#x27;)</pre></div></li><li class='xr-var-item'><div class='xr-var-name'><span class='xr-has-index'>latitude</span></div><div class='xr-var-dims'>(latitude)</div><div class='xr-var-dtype'>float64</div><div class='xr-var-preview xr-preview'>22.75</div><input id='attrs-12c8dc5b-0911-4ef6-9900-e7bd59a602ba' class='xr-var-attrs-in' type='checkbox' ><label for='attrs-12c8dc5b-0911-4ef6-9900-e7bd59a602ba' title='Show/Hide attributes'><svg class='icon xr-icon-file-text2'><use xlink:href='#icon-file-text2'></use></svg></label><input id='data-d8df211d-e160-4acf-9703-b4899ff537a0' class='xr-var-data-in' type='checkbox'><label for='data-d8df211d-e160-4acf-9703-b4899ff537a0' title='Show/Hide data repr'><svg class='icon xr-icon-database'><use xlink:href='#icon-database'></use></svg></label><div class='xr-var-attrs'><dl class='xr-attrs'><dt><span>axis :</span></dt><dd>Y</dd><dt><span>standard_name :</span></dt><dd>latitude</dd><dt><span>units :</span></dt><dd>degrees_north</dd></dl></div><div class='xr-var-data'><pre>array([22.75])</pre></div></li><li class='xr-var-item'><div class='xr-var-name'><span class='xr-has-index'>longitude</span></div><div class='xr-var-dims'>(longitude)</div><div class='xr-var-dtype'>int64</div><div class='xr-var-preview xr-preview'>-158</div><input id='attrs-331ef127-511f-4e4d-89e0-3284cb66e91f' class='xr-var-attrs-in' type='checkbox' ><label for='attrs-331ef127-511f-4e4d-89e0-3284cb66e91f' title='Show/Hide attributes'><svg class='icon xr-icon-file-text2'><use xlink:href='#icon-file-text2'></use></svg></label><input id='data-691edc59-431e-41cd-a54d-3cba72baef51' class='xr-var-data-in' type='checkbox'><label for='data-691edc59-431e-41cd-a54d-3cba72baef51' title='Show/Hide data repr'><svg class='icon xr-icon-database'><use xlink:href='#icon-database'></use></svg></label><div class='xr-var-attrs'><dl class='xr-attrs'><dt><span>axis :</span></dt><dd>X</dd><dt><span>standard_name :</span></dt><dd>longitude</dd><dt><span>units :</span></dt><dd>degrees_east</dd></dl></div><div class='xr-var-data'><pre>array([-158])</pre></div></li></ul></div></li><li class='xr-section-item'><input id='section-ceec8262-5a35-4136-b22a-00a17ae7042a' class='xr-section-summary-in' type='checkbox'  checked><label for='section-ceec8262-5a35-4136-b22a-00a17ae7042a' class='xr-section-summary' >Data variables: <span>(2)</span></label><div class='xr-section-inline-details'></div><div class='xr-section-details'><ul class='xr-var-list'><li class='xr-var-item'><div class='xr-var-name'><span>day</span></div><div class='xr-var-dims'>(time, layer, latitude, longitude)</div><div class='xr-var-dtype'>float64</div><div class='xr-var-preview xr-preview'>[mg/m²] 157.9 179.5 ... 252.3 204.8</div><input id='attrs-06d466b1-ae23-481b-90ac-dbe43c0fbb22' class='xr-var-attrs-in' type='checkbox' disabled><label for='attrs-06d466b1-ae23-481b-90ac-dbe43c0fbb22' title='Show/Hide attributes'><svg class='icon xr-icon-file-text2'><use xlink:href='#icon-file-text2'></use></svg></label><input id='data-370932ae-f7eb-4448-bf0e-59a79d3c1c28' class='xr-var-data-in' type='checkbox'><label for='data-370932ae-f7eb-4448-bf0e-59a79d3c1c28' title='Show/Hide data repr'><svg class='icon xr-icon-database'><use xlink:href='#icon-database'></use></svg></label><div class='xr-var-attrs'><dl class='xr-attrs'></dl></div><div class='xr-var-data'><table><tbody><tr><th>Magnitude</th><td style='text-align:left;'><pre>[[[[157.92219924943342]]] [[[179.50290001191829]]] [[[206.9568833881889]]] [[[265.77390000839995]]] [[[281.78101853068074]]] [[[282.22919058899055]]] [[[295.88177275463875]]] [[[313.19485204421545]]] [[[314.33474301409973]]] [[[252.30876534149797]]] [[[204.84900876732033]]] [[[189.26359852904628]]] [[[157.92219924943342]]] [[[179.50290001191829]]] [[[206.9568833881889]]] [[[265.77390000839995]]] [[[281.78101853068074]]] [[[282.22919058899055]]] [[[295.88177275463875]]] [[[313.19485204421545]]] [[[314.33474301409973]]] [[[252.30876534149797]]] [[[204.84900876732033]]] [[[189.26359852904628]]] [[[157.92219924943342]]] [[[179.50290001191829]]] [[[206.9568833881889]]] [[[265.77390000839995]]] [[[281.78101853068074]]] [[[282.22919058899055]]] [[[295.88177275463875]]] [[[313.19485204421545]]] [[[314.33474301409973]]] [[[252.30876534149797]]] [[[204.84900876732033]]] [[[189.26359852904628]]] [[[157.92219924943342]]] [[[178.58649139474625]]] [[[207.78348092804256]]] [[[265.6684200378455]]] [[[283.3215285687847]]] [[[286.8754053335449]]] [[[298.4606291423159]]] [[[316.99822292914615]]] [[[307.4117305615572]]] [[[256.3939882358341]]] [[[206.1695339111292]]] [[[184.04306987771415]]] [[[157.92219924943342]]] [[[179.50290001191829]]] [[[206.9568833881889]]] [[[265.77390000839995]]] [[[281.78101853068074]]] [[[282.22919058899055]]] [[[295.88177275463875]]] [[[313.19485204421545]]] [[[314.33474301409973]]] [[[252.30876534149797]]] [[[204.84900876732033]]]]</pre></td></tr><tr><th>Units</th><td style='text-align:left;'>milligram/meter<sup>2</sup></td></tr></tbody></table></div></li><li class='xr-var-item'><div class='xr-var-name'><span>night</span></div><div class='xr-var-dims'>(time, layer, latitude, longitude)</div><div class='xr-var-dtype'>float64</div><div class='xr-var-preview xr-preview'>[mg/m²] 237.1 301.6 ... 374.8 334.0</div><input id='attrs-d30867c9-8d72-4217-81f5-9ad287414748' class='xr-var-attrs-in' type='checkbox' disabled><label for='attrs-d30867c9-8d72-4217-81f5-9ad287414748' title='Show/Hide attributes'><svg class='icon xr-icon-file-text2'><use xlink:href='#icon-file-text2'></use></svg></label><input id='data-9a6f5f83-9d5a-4c95-9df5-a241658a8b05' class='xr-var-data-in' type='checkbox'><label for='data-9a6f5f83-9d5a-4c95-9df5-a241658a8b05' title='Show/Hide data repr'><svg class='icon xr-icon-database'><use xlink:href='#icon-database'></use></svg></label><div class='xr-var-attrs'><dl class='xr-attrs'></dl></div><div class='xr-var-data'><table><tbody><tr><th>Magnitude</th><td style='text-align:left;'><pre>[[[[237.0516536022709]]] [[[301.6376319958857]]] [[[337.83226845879244]]] [[[414.48959622350367]]] [[[389.1909678368789]]] [[[421.89365674709336]]] [[[424.06609922351373]]] [[[426.77207432265106]]] [[[418.1004648101298]]] [[[374.8468152741032]]] [[[333.9713931237319]]] [[[290.2018113694168]]] [[[237.0516536022709]]] [[[301.6376319958857]]] [[[337.83226845879244]]] [[[414.48959622350367]]] [[[389.1909678368789]]] [[[421.89365674709336]]] [[[424.06609922351373]]] [[[426.77207432265106]]] [[[418.1004648101298]]] [[[374.8468152741032]]] [[[333.9713931237319]]] [[[290.2018113694168]]] [[[237.0516536022709]]] [[[301.6376319958857]]] [[[337.83226845879244]]] [[[414.48959622350367]]] [[[389.1909678368789]]] [[[421.89365674709336]]] [[[424.06609922351373]]] [[[426.77207432265106]]] [[[418.1004648101298]]] [[[374.8468152741032]]] [[[333.9713931237319]]] [[[290.2018113694168]]] [[[237.0516536022709]]] [[[300.09769406058746]]] [[[339.1815897155657]]] [[[414.32509417720263]]] [[[391.31869310318103]]] [[[428.83910602723876]]] [[[427.7621889102778]]] [[[431.9547025535618]]] [[[408.89208174518643]]] [[[380.916096258274]]] [[[336.1242842926303]]] [[[282.197066227207]]] [[[237.0516536022709]]] [[[301.6376319958857]]] [[[337.83226845879244]]] [[[414.48959622350367]]] [[[389.1909678368789]]] [[[421.89365674709336]]] [[[424.06609922351373]]] [[[426.77207432265106]]] [[[418.1004648101298]]] [[[374.8468152741032]]] [[[333.9713931237319]]]]</pre></td></tr><tr><th>Units</th><td style='text-align:left;'>milligram/meter<sup>2</sup></td></tr></tbody></table></div></li></ul></div></li><li class='xr-section-item'><input id='section-2c647dbc-52e7-4dbf-937a-0b324ba9fe81' class='xr-section-summary-in' type='checkbox'  ><label for='section-2c647dbc-52e7-4dbf-937a-0b324ba9fe81' class='xr-section-summary' >Indexes: <span>(4)</span></label><div class='xr-section-inline-details'></div><div class='xr-section-details'><ul class='xr-var-list'><li class='xr-var-item'><div class='xr-index-name'><div>layer</div></div><div class='xr-index-preview'>PandasIndex</div><input type='checkbox' disabled/><label></label><input id='index-ce33dab5-3bc1-4aa6-90ab-c4bdec6f61e0' class='xr-index-data-in' type='checkbox'/><label for='index-ce33dab5-3bc1-4aa6-90ab-c4bdec6f61e0' title='Show/Hide index repr'><svg class='icon xr-icon-database'><use xlink:href='#icon-database'></use></svg></label><div class='xr-index-data'><pre>PandasIndex(Index([0], dtype=&#x27;int64&#x27;, name=&#x27;layer&#x27;))</pre></div></li><li class='xr-var-item'><div class='xr-index-name'><div>time</div></div><div class='xr-index-preview'>PandasIndex</div><input type='checkbox' disabled/><label></label><input id='index-3674d821-56a1-4557-8dc7-5404701b9b92' class='xr-index-data-in' type='checkbox'/><label for='index-3674d821-56a1-4557-8dc7-5404701b9b92' title='Show/Hide index repr'><svg class='icon xr-icon-database'><use xlink:href='#icon-database'></use></svg></label><div class='xr-index-data'><pre>PandasIndex(DatetimeIndex([&#x27;2005-01-31&#x27;, &#x27;2005-02-28&#x27;, &#x27;2005-03-31&#x27;, &#x27;2005-04-30&#x27;,\n",
       "               &#x27;2005-05-31&#x27;, &#x27;2005-06-30&#x27;, &#x27;2005-07-31&#x27;, &#x27;2005-08-31&#x27;,\n",
       "               &#x27;2005-09-30&#x27;, &#x27;2005-10-31&#x27;, &#x27;2005-11-30&#x27;, &#x27;2005-12-31&#x27;,\n",
       "               &#x27;2006-01-31&#x27;, &#x27;2006-02-28&#x27;, &#x27;2006-03-31&#x27;, &#x27;2006-04-30&#x27;,\n",
       "               &#x27;2006-05-31&#x27;, &#x27;2006-06-30&#x27;, &#x27;2006-07-31&#x27;, &#x27;2006-08-31&#x27;,\n",
       "               &#x27;2006-09-30&#x27;, &#x27;2006-10-31&#x27;, &#x27;2006-11-30&#x27;, &#x27;2006-12-31&#x27;,\n",
       "               &#x27;2007-01-31&#x27;, &#x27;2007-02-28&#x27;, &#x27;2007-03-31&#x27;, &#x27;2007-04-30&#x27;,\n",
       "               &#x27;2007-05-31&#x27;, &#x27;2007-06-30&#x27;, &#x27;2007-07-31&#x27;, &#x27;2007-08-31&#x27;,\n",
       "               &#x27;2007-09-30&#x27;, &#x27;2007-10-31&#x27;, &#x27;2007-11-30&#x27;, &#x27;2007-12-31&#x27;,\n",
       "               &#x27;2008-01-31&#x27;, &#x27;2008-02-29&#x27;, &#x27;2008-03-31&#x27;, &#x27;2008-04-30&#x27;,\n",
       "               &#x27;2008-05-31&#x27;, &#x27;2008-06-30&#x27;, &#x27;2008-07-31&#x27;, &#x27;2008-08-31&#x27;,\n",
       "               &#x27;2008-09-30&#x27;, &#x27;2008-10-31&#x27;, &#x27;2008-11-30&#x27;, &#x27;2008-12-31&#x27;,\n",
       "               &#x27;2009-01-31&#x27;, &#x27;2009-02-28&#x27;, &#x27;2009-03-31&#x27;, &#x27;2009-04-30&#x27;,\n",
       "               &#x27;2009-05-31&#x27;, &#x27;2009-06-30&#x27;, &#x27;2009-07-31&#x27;, &#x27;2009-08-31&#x27;,\n",
       "               &#x27;2009-09-30&#x27;, &#x27;2009-10-31&#x27;, &#x27;2009-11-30&#x27;],\n",
       "              dtype=&#x27;datetime64[ns]&#x27;, name=&#x27;time&#x27;, freq=&#x27;ME&#x27;))</pre></div></li><li class='xr-var-item'><div class='xr-index-name'><div>latitude</div></div><div class='xr-index-preview'>PandasIndex</div><input type='checkbox' disabled/><label></label><input id='index-642da3a7-2749-4143-b1f2-fd0405e3b067' class='xr-index-data-in' type='checkbox'/><label for='index-642da3a7-2749-4143-b1f2-fd0405e3b067' title='Show/Hide index repr'><svg class='icon xr-icon-database'><use xlink:href='#icon-database'></use></svg></label><div class='xr-index-data'><pre>PandasIndex(Index([22.75], dtype=&#x27;float64&#x27;, name=&#x27;latitude&#x27;))</pre></div></li><li class='xr-var-item'><div class='xr-index-name'><div>longitude</div></div><div class='xr-index-preview'>PandasIndex</div><input type='checkbox' disabled/><label></label><input id='index-2f879ad8-4389-4b8e-b98c-8522ed0a3807' class='xr-index-data-in' type='checkbox'/><label for='index-2f879ad8-4389-4b8e-b98c-8522ed0a3807' title='Show/Hide index repr'><svg class='icon xr-icon-database'><use xlink:href='#icon-database'></use></svg></label><div class='xr-index-data'><pre>PandasIndex(Index([-158], dtype=&#x27;int64&#x27;, name=&#x27;longitude&#x27;))</pre></div></li></ul></div></li><li class='xr-section-item'><input id='section-c949c4a9-e517-4d05-9984-44339c7c5f69' class='xr-section-summary-in' type='checkbox' disabled ><label for='section-c949c4a9-e517-4d05-9984-44339c7c5f69' class='xr-section-summary'  title='Expand/collapse section'>Attributes: <span>(0)</span></label><div class='xr-section-inline-details'></div><div class='xr-section-details'><dl class='xr-attrs'></dl></div></li></ul></div></div>"
      ],
      "text/plain": [
       "<xarray.Dataset> Size: 1kB\n",
       "Dimensions:    (layer: 1, time: 59, latitude: 1, longitude: 1)\n",
       "Coordinates:\n",
       "  * layer      (layer) int64 8B 0\n",
       "  * time       (time) datetime64[ns] 472B 2005-01-31 2005-02-28 ... 2009-11-30\n",
       "  * latitude   (latitude) float64 8B 22.75\n",
       "  * longitude  (longitude) int64 8B -158\n",
       "Data variables:\n",
       "    day        (time, layer, latitude, longitude) float64 472B [mg/m²] 157.9 ...\n",
       "    night      (time, layer, latitude, longitude) float64 472B [mg/m²] 237.1 ..."
      ]
     },
     "execution_count": 7,
     "metadata": {},
     "output_type": "execute_result"
    }
   ],
   "source": [
    "observations = xr.open_zarr(path_to_obs).load()\n",
    "observations = observations.sel(latitude=LATITUDE, longitude=LONGITUDE, method=\"nearest\")\n",
    "observations = observations.resample(time=\"1D\").mean().dropna(\"time\")\n",
    "observations = observations.pint.quantify().pint.to(\"mg/m^3\")\n",
    "observations = observations * epi_layer_depth\n",
    "observations = observations.drop_vars(\"depth\")\n",
    "observations"
   ]
  },
  {
   "cell_type": "markdown",
   "metadata": {},
   "source": [
    "Remove the X first months to let the model reach the stationary state.\n"
   ]
  },
  {
   "cell_type": "code",
   "execution_count": 8,
   "metadata": {},
   "outputs": [
    {
     "data": {
      "text/html": [
       "<div><svg style=\"position: absolute; width: 0; height: 0; overflow: hidden\">\n",
       "<defs>\n",
       "<symbol id=\"icon-database\" viewBox=\"0 0 32 32\">\n",
       "<path d=\"M16 0c-8.837 0-16 2.239-16 5v4c0 2.761 7.163 5 16 5s16-2.239 16-5v-4c0-2.761-7.163-5-16-5z\"></path>\n",
       "<path d=\"M16 17c-8.837 0-16-2.239-16-5v6c0 2.761 7.163 5 16 5s16-2.239 16-5v-6c0 2.761-7.163 5-16 5z\"></path>\n",
       "<path d=\"M16 26c-8.837 0-16-2.239-16-5v6c0 2.761 7.163 5 16 5s16-2.239 16-5v-6c0 2.761-7.163 5-16 5z\"></path>\n",
       "</symbol>\n",
       "<symbol id=\"icon-file-text2\" viewBox=\"0 0 32 32\">\n",
       "<path d=\"M28.681 7.159c-0.694-0.947-1.662-2.053-2.724-3.116s-2.169-2.030-3.116-2.724c-1.612-1.182-2.393-1.319-2.841-1.319h-15.5c-1.378 0-2.5 1.121-2.5 2.5v27c0 1.378 1.122 2.5 2.5 2.5h23c1.378 0 2.5-1.122 2.5-2.5v-19.5c0-0.448-0.137-1.23-1.319-2.841zM24.543 5.457c0.959 0.959 1.712 1.825 2.268 2.543h-4.811v-4.811c0.718 0.556 1.584 1.309 2.543 2.268zM28 29.5c0 0.271-0.229 0.5-0.5 0.5h-23c-0.271 0-0.5-0.229-0.5-0.5v-27c0-0.271 0.229-0.5 0.5-0.5 0 0 15.499-0 15.5 0v7c0 0.552 0.448 1 1 1h7v19.5z\"></path>\n",
       "<path d=\"M23 26h-14c-0.552 0-1-0.448-1-1s0.448-1 1-1h14c0.552 0 1 0.448 1 1s-0.448 1-1 1z\"></path>\n",
       "<path d=\"M23 22h-14c-0.552 0-1-0.448-1-1s0.448-1 1-1h14c0.552 0 1 0.448 1 1s-0.448 1-1 1z\"></path>\n",
       "<path d=\"M23 18h-14c-0.552 0-1-0.448-1-1s0.448-1 1-1h14c0.552 0 1 0.448 1 1s-0.448 1-1 1z\"></path>\n",
       "</symbol>\n",
       "</defs>\n",
       "</svg>\n",
       "<style>/* CSS stylesheet for displaying xarray objects in jupyterlab.\n",
       " *\n",
       " */\n",
       "\n",
       ":root {\n",
       "  --xr-font-color0: var(--jp-content-font-color0, rgba(0, 0, 0, 1));\n",
       "  --xr-font-color2: var(--jp-content-font-color2, rgba(0, 0, 0, 0.54));\n",
       "  --xr-font-color3: var(--jp-content-font-color3, rgba(0, 0, 0, 0.38));\n",
       "  --xr-border-color: var(--jp-border-color2, #e0e0e0);\n",
       "  --xr-disabled-color: var(--jp-layout-color3, #bdbdbd);\n",
       "  --xr-background-color: var(--jp-layout-color0, white);\n",
       "  --xr-background-color-row-even: var(--jp-layout-color1, white);\n",
       "  --xr-background-color-row-odd: var(--jp-layout-color2, #eeeeee);\n",
       "}\n",
       "\n",
       "html[theme=\"dark\"],\n",
       "html[data-theme=\"dark\"],\n",
       "body[data-theme=\"dark\"],\n",
       "body.vscode-dark {\n",
       "  --xr-font-color0: rgba(255, 255, 255, 1);\n",
       "  --xr-font-color2: rgba(255, 255, 255, 0.54);\n",
       "  --xr-font-color3: rgba(255, 255, 255, 0.38);\n",
       "  --xr-border-color: #1f1f1f;\n",
       "  --xr-disabled-color: #515151;\n",
       "  --xr-background-color: #111111;\n",
       "  --xr-background-color-row-even: #111111;\n",
       "  --xr-background-color-row-odd: #313131;\n",
       "}\n",
       "\n",
       ".xr-wrap {\n",
       "  display: block !important;\n",
       "  min-width: 300px;\n",
       "  max-width: 700px;\n",
       "}\n",
       "\n",
       ".xr-text-repr-fallback {\n",
       "  /* fallback to plain text repr when CSS is not injected (untrusted notebook) */\n",
       "  display: none;\n",
       "}\n",
       "\n",
       ".xr-header {\n",
       "  padding-top: 6px;\n",
       "  padding-bottom: 6px;\n",
       "  margin-bottom: 4px;\n",
       "  border-bottom: solid 1px var(--xr-border-color);\n",
       "}\n",
       "\n",
       ".xr-header > div,\n",
       ".xr-header > ul {\n",
       "  display: inline;\n",
       "  margin-top: 0;\n",
       "  margin-bottom: 0;\n",
       "}\n",
       "\n",
       ".xr-obj-type,\n",
       ".xr-array-name {\n",
       "  margin-left: 2px;\n",
       "  margin-right: 10px;\n",
       "}\n",
       "\n",
       ".xr-obj-type {\n",
       "  color: var(--xr-font-color2);\n",
       "}\n",
       "\n",
       ".xr-sections {\n",
       "  padding-left: 0 !important;\n",
       "  display: grid;\n",
       "  grid-template-columns: 150px auto auto 1fr 0 20px 0 20px;\n",
       "}\n",
       "\n",
       ".xr-section-item {\n",
       "  display: contents;\n",
       "}\n",
       "\n",
       ".xr-section-item input {\n",
       "  display: inline-block;\n",
       "  opacity: 0;\n",
       "  height: 0;\n",
       "}\n",
       "\n",
       ".xr-section-item input + label {\n",
       "  color: var(--xr-disabled-color);\n",
       "}\n",
       "\n",
       ".xr-section-item input:enabled + label {\n",
       "  cursor: pointer;\n",
       "  color: var(--xr-font-color2);\n",
       "}\n",
       "\n",
       ".xr-section-item input:focus + label {\n",
       "  border: 2px solid var(--xr-font-color0);\n",
       "}\n",
       "\n",
       ".xr-section-item input:enabled + label:hover {\n",
       "  color: var(--xr-font-color0);\n",
       "}\n",
       "\n",
       ".xr-section-summary {\n",
       "  grid-column: 1;\n",
       "  color: var(--xr-font-color2);\n",
       "  font-weight: 500;\n",
       "}\n",
       "\n",
       ".xr-section-summary > span {\n",
       "  display: inline-block;\n",
       "  padding-left: 0.5em;\n",
       "}\n",
       "\n",
       ".xr-section-summary-in:disabled + label {\n",
       "  color: var(--xr-font-color2);\n",
       "}\n",
       "\n",
       ".xr-section-summary-in + label:before {\n",
       "  display: inline-block;\n",
       "  content: \"►\";\n",
       "  font-size: 11px;\n",
       "  width: 15px;\n",
       "  text-align: center;\n",
       "}\n",
       "\n",
       ".xr-section-summary-in:disabled + label:before {\n",
       "  color: var(--xr-disabled-color);\n",
       "}\n",
       "\n",
       ".xr-section-summary-in:checked + label:before {\n",
       "  content: \"▼\";\n",
       "}\n",
       "\n",
       ".xr-section-summary-in:checked + label > span {\n",
       "  display: none;\n",
       "}\n",
       "\n",
       ".xr-section-summary,\n",
       ".xr-section-inline-details {\n",
       "  padding-top: 4px;\n",
       "  padding-bottom: 4px;\n",
       "}\n",
       "\n",
       ".xr-section-inline-details {\n",
       "  grid-column: 2 / -1;\n",
       "}\n",
       "\n",
       ".xr-section-details {\n",
       "  display: none;\n",
       "  grid-column: 1 / -1;\n",
       "  margin-bottom: 5px;\n",
       "}\n",
       "\n",
       ".xr-section-summary-in:checked ~ .xr-section-details {\n",
       "  display: contents;\n",
       "}\n",
       "\n",
       ".xr-array-wrap {\n",
       "  grid-column: 1 / -1;\n",
       "  display: grid;\n",
       "  grid-template-columns: 20px auto;\n",
       "}\n",
       "\n",
       ".xr-array-wrap > label {\n",
       "  grid-column: 1;\n",
       "  vertical-align: top;\n",
       "}\n",
       "\n",
       ".xr-preview {\n",
       "  color: var(--xr-font-color3);\n",
       "}\n",
       "\n",
       ".xr-array-preview,\n",
       ".xr-array-data {\n",
       "  padding: 0 5px !important;\n",
       "  grid-column: 2;\n",
       "}\n",
       "\n",
       ".xr-array-data,\n",
       ".xr-array-in:checked ~ .xr-array-preview {\n",
       "  display: none;\n",
       "}\n",
       "\n",
       ".xr-array-in:checked ~ .xr-array-data,\n",
       ".xr-array-preview {\n",
       "  display: inline-block;\n",
       "}\n",
       "\n",
       ".xr-dim-list {\n",
       "  display: inline-block !important;\n",
       "  list-style: none;\n",
       "  padding: 0 !important;\n",
       "  margin: 0;\n",
       "}\n",
       "\n",
       ".xr-dim-list li {\n",
       "  display: inline-block;\n",
       "  padding: 0;\n",
       "  margin: 0;\n",
       "}\n",
       "\n",
       ".xr-dim-list:before {\n",
       "  content: \"(\";\n",
       "}\n",
       "\n",
       ".xr-dim-list:after {\n",
       "  content: \")\";\n",
       "}\n",
       "\n",
       ".xr-dim-list li:not(:last-child):after {\n",
       "  content: \",\";\n",
       "  padding-right: 5px;\n",
       "}\n",
       "\n",
       ".xr-has-index {\n",
       "  font-weight: bold;\n",
       "}\n",
       "\n",
       ".xr-var-list,\n",
       ".xr-var-item {\n",
       "  display: contents;\n",
       "}\n",
       "\n",
       ".xr-var-item > div,\n",
       ".xr-var-item label,\n",
       ".xr-var-item > .xr-var-name span {\n",
       "  background-color: var(--xr-background-color-row-even);\n",
       "  margin-bottom: 0;\n",
       "}\n",
       "\n",
       ".xr-var-item > .xr-var-name:hover span {\n",
       "  padding-right: 5px;\n",
       "}\n",
       "\n",
       ".xr-var-list > li:nth-child(odd) > div,\n",
       ".xr-var-list > li:nth-child(odd) > label,\n",
       ".xr-var-list > li:nth-child(odd) > .xr-var-name span {\n",
       "  background-color: var(--xr-background-color-row-odd);\n",
       "}\n",
       "\n",
       ".xr-var-name {\n",
       "  grid-column: 1;\n",
       "}\n",
       "\n",
       ".xr-var-dims {\n",
       "  grid-column: 2;\n",
       "}\n",
       "\n",
       ".xr-var-dtype {\n",
       "  grid-column: 3;\n",
       "  text-align: right;\n",
       "  color: var(--xr-font-color2);\n",
       "}\n",
       "\n",
       ".xr-var-preview {\n",
       "  grid-column: 4;\n",
       "}\n",
       "\n",
       ".xr-index-preview {\n",
       "  grid-column: 2 / 5;\n",
       "  color: var(--xr-font-color2);\n",
       "}\n",
       "\n",
       ".xr-var-name,\n",
       ".xr-var-dims,\n",
       ".xr-var-dtype,\n",
       ".xr-preview,\n",
       ".xr-attrs dt {\n",
       "  white-space: nowrap;\n",
       "  overflow: hidden;\n",
       "  text-overflow: ellipsis;\n",
       "  padding-right: 10px;\n",
       "}\n",
       "\n",
       ".xr-var-name:hover,\n",
       ".xr-var-dims:hover,\n",
       ".xr-var-dtype:hover,\n",
       ".xr-attrs dt:hover {\n",
       "  overflow: visible;\n",
       "  width: auto;\n",
       "  z-index: 1;\n",
       "}\n",
       "\n",
       ".xr-var-attrs,\n",
       ".xr-var-data,\n",
       ".xr-index-data {\n",
       "  display: none;\n",
       "  background-color: var(--xr-background-color) !important;\n",
       "  padding-bottom: 5px !important;\n",
       "}\n",
       "\n",
       ".xr-var-attrs-in:checked ~ .xr-var-attrs,\n",
       ".xr-var-data-in:checked ~ .xr-var-data,\n",
       ".xr-index-data-in:checked ~ .xr-index-data {\n",
       "  display: block;\n",
       "}\n",
       "\n",
       ".xr-var-data > table {\n",
       "  float: right;\n",
       "}\n",
       "\n",
       ".xr-var-name span,\n",
       ".xr-var-data,\n",
       ".xr-index-name div,\n",
       ".xr-index-data,\n",
       ".xr-attrs {\n",
       "  padding-left: 25px !important;\n",
       "}\n",
       "\n",
       ".xr-attrs,\n",
       ".xr-var-attrs,\n",
       ".xr-var-data,\n",
       ".xr-index-data {\n",
       "  grid-column: 1 / -1;\n",
       "}\n",
       "\n",
       "dl.xr-attrs {\n",
       "  padding: 0;\n",
       "  margin: 0;\n",
       "  display: grid;\n",
       "  grid-template-columns: 125px auto;\n",
       "}\n",
       "\n",
       ".xr-attrs dt,\n",
       ".xr-attrs dd {\n",
       "  padding: 0;\n",
       "  margin: 0;\n",
       "  float: left;\n",
       "  padding-right: 10px;\n",
       "  width: auto;\n",
       "}\n",
       "\n",
       ".xr-attrs dt {\n",
       "  font-weight: normal;\n",
       "  grid-column: 1;\n",
       "}\n",
       "\n",
       ".xr-attrs dt:hover span {\n",
       "  display: inline-block;\n",
       "  background: var(--xr-background-color);\n",
       "  padding-right: 10px;\n",
       "}\n",
       "\n",
       ".xr-attrs dd {\n",
       "  grid-column: 2;\n",
       "  white-space: pre-wrap;\n",
       "  word-break: break-all;\n",
       "}\n",
       "\n",
       ".xr-icon-database,\n",
       ".xr-icon-file-text2,\n",
       ".xr-no-icon {\n",
       "  display: inline-block;\n",
       "  vertical-align: middle;\n",
       "  width: 1em;\n",
       "  height: 1.5em !important;\n",
       "  stroke-width: 0;\n",
       "  stroke: currentColor;\n",
       "  fill: currentColor;\n",
       "}\n",
       "</style><pre class='xr-text-repr-fallback'>&lt;xarray.Dataset&gt; Size: 1kB\n",
       "Dimensions:    (layer: 1, time: 54, latitude: 1, longitude: 1)\n",
       "Coordinates:\n",
       "  * layer      (layer) int64 8B 0\n",
       "  * time       (time) datetime64[ns] 432B 2005-06-30 2005-07-31 ... 2009-11-30\n",
       "  * latitude   (latitude) float64 8B 22.75\n",
       "  * longitude  (longitude) int64 8B -158\n",
       "Data variables:\n",
       "    day        (time, layer, latitude, longitude) float64 432B [mg/m²] 282.2 ...\n",
       "    night      (time, layer, latitude, longitude) float64 432B [mg/m²] 421.9 ...</pre><div class='xr-wrap' style='display:none'><div class='xr-header'><div class='xr-obj-type'>xarray.Dataset</div></div><ul class='xr-sections'><li class='xr-section-item'><input id='section-2a70c583-80ab-45e5-8c6f-ae326166e5b1' class='xr-section-summary-in' type='checkbox' disabled ><label for='section-2a70c583-80ab-45e5-8c6f-ae326166e5b1' class='xr-section-summary'  title='Expand/collapse section'>Dimensions:</label><div class='xr-section-inline-details'><ul class='xr-dim-list'><li><span class='xr-has-index'>layer</span>: 1</li><li><span class='xr-has-index'>time</span>: 54</li><li><span class='xr-has-index'>latitude</span>: 1</li><li><span class='xr-has-index'>longitude</span>: 1</li></ul></div><div class='xr-section-details'></div></li><li class='xr-section-item'><input id='section-4a3e61e0-2bf2-4b71-8a7e-1deef931fea4' class='xr-section-summary-in' type='checkbox'  checked><label for='section-4a3e61e0-2bf2-4b71-8a7e-1deef931fea4' class='xr-section-summary' >Coordinates: <span>(4)</span></label><div class='xr-section-inline-details'></div><div class='xr-section-details'><ul class='xr-var-list'><li class='xr-var-item'><div class='xr-var-name'><span class='xr-has-index'>layer</span></div><div class='xr-var-dims'>(layer)</div><div class='xr-var-dtype'>int64</div><div class='xr-var-preview xr-preview'>0</div><input id='attrs-ba3565bc-90aa-4e5f-873a-998874ed703b' class='xr-var-attrs-in' type='checkbox' ><label for='attrs-ba3565bc-90aa-4e5f-873a-998874ed703b' title='Show/Hide attributes'><svg class='icon xr-icon-file-text2'><use xlink:href='#icon-file-text2'></use></svg></label><input id='data-17f30e03-47f2-4b7f-ab9e-67bc7aa59999' class='xr-var-data-in' type='checkbox'><label for='data-17f30e03-47f2-4b7f-ab9e-67bc7aa59999' title='Show/Hide data repr'><svg class='icon xr-icon-database'><use xlink:href='#icon-database'></use></svg></label><div class='xr-var-attrs'><dl class='xr-attrs'><dt><span>axis :</span></dt><dd>Z</dd><dt><span>desc :</span></dt><dd>The layer depth according to Seapodym definition</dd><dt><span>flag_meanings :</span></dt><dd>epipelagic, upper-mesopelagic, lower-mesopelagic</dd><dt><span>flag_values :</span></dt><dd>[0, 1, 2]</dd><dt><span>long_name :</span></dt><dd>Layer depth</dd><dt><span>standard_name :</span></dt><dd>layer</dd></dl></div><div class='xr-var-data'><pre>array([0])</pre></div></li><li class='xr-var-item'><div class='xr-var-name'><span class='xr-has-index'>time</span></div><div class='xr-var-dims'>(time)</div><div class='xr-var-dtype'>datetime64[ns]</div><div class='xr-var-preview xr-preview'>2005-06-30 ... 2009-11-30</div><input id='attrs-a0f7467c-53f1-46cb-b767-395e2f564249' class='xr-var-attrs-in' type='checkbox' ><label for='attrs-a0f7467c-53f1-46cb-b767-395e2f564249' title='Show/Hide attributes'><svg class='icon xr-icon-file-text2'><use xlink:href='#icon-file-text2'></use></svg></label><input id='data-3ac9cfdd-2f82-4fb4-91b7-0ba51bd1eec7' class='xr-var-data-in' type='checkbox'><label for='data-3ac9cfdd-2f82-4fb4-91b7-0ba51bd1eec7' title='Show/Hide data repr'><svg class='icon xr-icon-database'><use xlink:href='#icon-database'></use></svg></label><div class='xr-var-attrs'><dl class='xr-attrs'><dt><span>axis :</span></dt><dd>T</dd><dt><span>long_name :</span></dt><dd>time</dd><dt><span>standard_name :</span></dt><dd>time</dd></dl></div><div class='xr-var-data'><pre>array([&#x27;2005-06-30T00:00:00.000000000&#x27;, &#x27;2005-07-31T00:00:00.000000000&#x27;,\n",
       "       &#x27;2005-08-31T00:00:00.000000000&#x27;, &#x27;2005-09-30T00:00:00.000000000&#x27;,\n",
       "       &#x27;2005-10-31T00:00:00.000000000&#x27;, &#x27;2005-11-30T00:00:00.000000000&#x27;,\n",
       "       &#x27;2005-12-31T00:00:00.000000000&#x27;, &#x27;2006-01-31T00:00:00.000000000&#x27;,\n",
       "       &#x27;2006-02-28T00:00:00.000000000&#x27;, &#x27;2006-03-31T00:00:00.000000000&#x27;,\n",
       "       &#x27;2006-04-30T00:00:00.000000000&#x27;, &#x27;2006-05-31T00:00:00.000000000&#x27;,\n",
       "       &#x27;2006-06-30T00:00:00.000000000&#x27;, &#x27;2006-07-31T00:00:00.000000000&#x27;,\n",
       "       &#x27;2006-08-31T00:00:00.000000000&#x27;, &#x27;2006-09-30T00:00:00.000000000&#x27;,\n",
       "       &#x27;2006-10-31T00:00:00.000000000&#x27;, &#x27;2006-11-30T00:00:00.000000000&#x27;,\n",
       "       &#x27;2006-12-31T00:00:00.000000000&#x27;, &#x27;2007-01-31T00:00:00.000000000&#x27;,\n",
       "       &#x27;2007-02-28T00:00:00.000000000&#x27;, &#x27;2007-03-31T00:00:00.000000000&#x27;,\n",
       "       &#x27;2007-04-30T00:00:00.000000000&#x27;, &#x27;2007-05-31T00:00:00.000000000&#x27;,\n",
       "       &#x27;2007-06-30T00:00:00.000000000&#x27;, &#x27;2007-07-31T00:00:00.000000000&#x27;,\n",
       "       &#x27;2007-08-31T00:00:00.000000000&#x27;, &#x27;2007-09-30T00:00:00.000000000&#x27;,\n",
       "       &#x27;2007-10-31T00:00:00.000000000&#x27;, &#x27;2007-11-30T00:00:00.000000000&#x27;,\n",
       "       &#x27;2007-12-31T00:00:00.000000000&#x27;, &#x27;2008-01-31T00:00:00.000000000&#x27;,\n",
       "       &#x27;2008-02-29T00:00:00.000000000&#x27;, &#x27;2008-03-31T00:00:00.000000000&#x27;,\n",
       "       &#x27;2008-04-30T00:00:00.000000000&#x27;, &#x27;2008-05-31T00:00:00.000000000&#x27;,\n",
       "       &#x27;2008-06-30T00:00:00.000000000&#x27;, &#x27;2008-07-31T00:00:00.000000000&#x27;,\n",
       "       &#x27;2008-08-31T00:00:00.000000000&#x27;, &#x27;2008-09-30T00:00:00.000000000&#x27;,\n",
       "       &#x27;2008-10-31T00:00:00.000000000&#x27;, &#x27;2008-11-30T00:00:00.000000000&#x27;,\n",
       "       &#x27;2008-12-31T00:00:00.000000000&#x27;, &#x27;2009-01-31T00:00:00.000000000&#x27;,\n",
       "       &#x27;2009-02-28T00:00:00.000000000&#x27;, &#x27;2009-03-31T00:00:00.000000000&#x27;,\n",
       "       &#x27;2009-04-30T00:00:00.000000000&#x27;, &#x27;2009-05-31T00:00:00.000000000&#x27;,\n",
       "       &#x27;2009-06-30T00:00:00.000000000&#x27;, &#x27;2009-07-31T00:00:00.000000000&#x27;,\n",
       "       &#x27;2009-08-31T00:00:00.000000000&#x27;, &#x27;2009-09-30T00:00:00.000000000&#x27;,\n",
       "       &#x27;2009-10-31T00:00:00.000000000&#x27;, &#x27;2009-11-30T00:00:00.000000000&#x27;],\n",
       "      dtype=&#x27;datetime64[ns]&#x27;)</pre></div></li><li class='xr-var-item'><div class='xr-var-name'><span class='xr-has-index'>latitude</span></div><div class='xr-var-dims'>(latitude)</div><div class='xr-var-dtype'>float64</div><div class='xr-var-preview xr-preview'>22.75</div><input id='attrs-b2ca2581-4f6a-4ee8-bf89-e4d364f0fa25' class='xr-var-attrs-in' type='checkbox' ><label for='attrs-b2ca2581-4f6a-4ee8-bf89-e4d364f0fa25' title='Show/Hide attributes'><svg class='icon xr-icon-file-text2'><use xlink:href='#icon-file-text2'></use></svg></label><input id='data-98686f10-69fc-465b-86de-7758723a84ed' class='xr-var-data-in' type='checkbox'><label for='data-98686f10-69fc-465b-86de-7758723a84ed' title='Show/Hide data repr'><svg class='icon xr-icon-database'><use xlink:href='#icon-database'></use></svg></label><div class='xr-var-attrs'><dl class='xr-attrs'><dt><span>axis :</span></dt><dd>Y</dd><dt><span>standard_name :</span></dt><dd>latitude</dd><dt><span>units :</span></dt><dd>degrees_north</dd></dl></div><div class='xr-var-data'><pre>array([22.75])</pre></div></li><li class='xr-var-item'><div class='xr-var-name'><span class='xr-has-index'>longitude</span></div><div class='xr-var-dims'>(longitude)</div><div class='xr-var-dtype'>int64</div><div class='xr-var-preview xr-preview'>-158</div><input id='attrs-154ce646-b19e-4445-821f-006821d88218' class='xr-var-attrs-in' type='checkbox' ><label for='attrs-154ce646-b19e-4445-821f-006821d88218' title='Show/Hide attributes'><svg class='icon xr-icon-file-text2'><use xlink:href='#icon-file-text2'></use></svg></label><input id='data-5d3c22aa-b9d9-4bbf-9881-fb63af3686f4' class='xr-var-data-in' type='checkbox'><label for='data-5d3c22aa-b9d9-4bbf-9881-fb63af3686f4' title='Show/Hide data repr'><svg class='icon xr-icon-database'><use xlink:href='#icon-database'></use></svg></label><div class='xr-var-attrs'><dl class='xr-attrs'><dt><span>axis :</span></dt><dd>X</dd><dt><span>standard_name :</span></dt><dd>longitude</dd><dt><span>units :</span></dt><dd>degrees_east</dd></dl></div><div class='xr-var-data'><pre>array([-158])</pre></div></li></ul></div></li><li class='xr-section-item'><input id='section-bab8a55c-3ab4-407f-baa7-9da96be2a386' class='xr-section-summary-in' type='checkbox'  checked><label for='section-bab8a55c-3ab4-407f-baa7-9da96be2a386' class='xr-section-summary' >Data variables: <span>(2)</span></label><div class='xr-section-inline-details'></div><div class='xr-section-details'><ul class='xr-var-list'><li class='xr-var-item'><div class='xr-var-name'><span>day</span></div><div class='xr-var-dims'>(time, layer, latitude, longitude)</div><div class='xr-var-dtype'>float64</div><div class='xr-var-preview xr-preview'>[mg/m²] 282.2 295.9 ... 252.3 204.8</div><input id='attrs-cc0c6dfd-d913-4a15-9a14-3d62cecb68be' class='xr-var-attrs-in' type='checkbox' disabled><label for='attrs-cc0c6dfd-d913-4a15-9a14-3d62cecb68be' title='Show/Hide attributes'><svg class='icon xr-icon-file-text2'><use xlink:href='#icon-file-text2'></use></svg></label><input id='data-306156cf-6dcf-4b7c-8a71-f0c6772b6e84' class='xr-var-data-in' type='checkbox'><label for='data-306156cf-6dcf-4b7c-8a71-f0c6772b6e84' title='Show/Hide data repr'><svg class='icon xr-icon-database'><use xlink:href='#icon-database'></use></svg></label><div class='xr-var-attrs'><dl class='xr-attrs'></dl></div><div class='xr-var-data'><table><tbody><tr><th>Magnitude</th><td style='text-align:left;'><pre>[[[[282.22919058899055]]] [[[295.88177275463875]]] [[[313.19485204421545]]] [[[314.33474301409973]]] [[[252.30876534149797]]] [[[204.84900876732033]]] [[[189.26359852904628]]] [[[157.92219924943342]]] [[[179.50290001191829]]] [[[206.9568833881889]]] [[[265.77390000839995]]] [[[281.78101853068074]]] [[[282.22919058899055]]] [[[295.88177275463875]]] [[[313.19485204421545]]] [[[314.33474301409973]]] [[[252.30876534149797]]] [[[204.84900876732033]]] [[[189.26359852904628]]] [[[157.92219924943342]]] [[[179.50290001191829]]] [[[206.9568833881889]]] [[[265.77390000839995]]] [[[281.78101853068074]]] [[[282.22919058899055]]] [[[295.88177275463875]]] [[[313.19485204421545]]] [[[314.33474301409973]]] [[[252.30876534149797]]] [[[204.84900876732033]]] [[[189.26359852904628]]] [[[157.92219924943342]]] [[[178.58649139474625]]] [[[207.78348092804256]]] [[[265.6684200378455]]] [[[283.3215285687847]]] [[[286.8754053335449]]] [[[298.4606291423159]]] [[[316.99822292914615]]] [[[307.4117305615572]]] [[[256.3939882358341]]] [[[206.1695339111292]]] [[[184.04306987771415]]] [[[157.92219924943342]]] [[[179.50290001191829]]] [[[206.9568833881889]]] [[[265.77390000839995]]] [[[281.78101853068074]]] [[[282.22919058899055]]] [[[295.88177275463875]]] [[[313.19485204421545]]] [[[314.33474301409973]]] [[[252.30876534149797]]] [[[204.84900876732033]]]]</pre></td></tr><tr><th>Units</th><td style='text-align:left;'>milligram/meter<sup>2</sup></td></tr></tbody></table></div></li><li class='xr-var-item'><div class='xr-var-name'><span>night</span></div><div class='xr-var-dims'>(time, layer, latitude, longitude)</div><div class='xr-var-dtype'>float64</div><div class='xr-var-preview xr-preview'>[mg/m²] 421.9 424.1 ... 374.8 334.0</div><input id='attrs-51d44ac6-83ef-4eeb-bac8-3c454de401f1' class='xr-var-attrs-in' type='checkbox' disabled><label for='attrs-51d44ac6-83ef-4eeb-bac8-3c454de401f1' title='Show/Hide attributes'><svg class='icon xr-icon-file-text2'><use xlink:href='#icon-file-text2'></use></svg></label><input id='data-13115ff5-5f46-4b40-ba58-af744dbb424c' class='xr-var-data-in' type='checkbox'><label for='data-13115ff5-5f46-4b40-ba58-af744dbb424c' title='Show/Hide data repr'><svg class='icon xr-icon-database'><use xlink:href='#icon-database'></use></svg></label><div class='xr-var-attrs'><dl class='xr-attrs'></dl></div><div class='xr-var-data'><table><tbody><tr><th>Magnitude</th><td style='text-align:left;'><pre>[[[[421.89365674709336]]] [[[424.06609922351373]]] [[[426.77207432265106]]] [[[418.1004648101298]]] [[[374.8468152741032]]] [[[333.9713931237319]]] [[[290.2018113694168]]] [[[237.0516536022709]]] [[[301.6376319958857]]] [[[337.83226845879244]]] [[[414.48959622350367]]] [[[389.1909678368789]]] [[[421.89365674709336]]] [[[424.06609922351373]]] [[[426.77207432265106]]] [[[418.1004648101298]]] [[[374.8468152741032]]] [[[333.9713931237319]]] [[[290.2018113694168]]] [[[237.0516536022709]]] [[[301.6376319958857]]] [[[337.83226845879244]]] [[[414.48959622350367]]] [[[389.1909678368789]]] [[[421.89365674709336]]] [[[424.06609922351373]]] [[[426.77207432265106]]] [[[418.1004648101298]]] [[[374.8468152741032]]] [[[333.9713931237319]]] [[[290.2018113694168]]] [[[237.0516536022709]]] [[[300.09769406058746]]] [[[339.1815897155657]]] [[[414.32509417720263]]] [[[391.31869310318103]]] [[[428.83910602723876]]] [[[427.7621889102778]]] [[[431.9547025535618]]] [[[408.89208174518643]]] [[[380.916096258274]]] [[[336.1242842926303]]] [[[282.197066227207]]] [[[237.0516536022709]]] [[[301.6376319958857]]] [[[337.83226845879244]]] [[[414.48959622350367]]] [[[389.1909678368789]]] [[[421.89365674709336]]] [[[424.06609922351373]]] [[[426.77207432265106]]] [[[418.1004648101298]]] [[[374.8468152741032]]] [[[333.9713931237319]]]]</pre></td></tr><tr><th>Units</th><td style='text-align:left;'>milligram/meter<sup>2</sup></td></tr></tbody></table></div></li></ul></div></li><li class='xr-section-item'><input id='section-b41b1053-ee6a-490c-9510-4fbd7a62e96a' class='xr-section-summary-in' type='checkbox'  ><label for='section-b41b1053-ee6a-490c-9510-4fbd7a62e96a' class='xr-section-summary' >Indexes: <span>(4)</span></label><div class='xr-section-inline-details'></div><div class='xr-section-details'><ul class='xr-var-list'><li class='xr-var-item'><div class='xr-index-name'><div>layer</div></div><div class='xr-index-preview'>PandasIndex</div><input type='checkbox' disabled/><label></label><input id='index-c54af83c-1990-4f54-9028-24b6574e9875' class='xr-index-data-in' type='checkbox'/><label for='index-c54af83c-1990-4f54-9028-24b6574e9875' title='Show/Hide index repr'><svg class='icon xr-icon-database'><use xlink:href='#icon-database'></use></svg></label><div class='xr-index-data'><pre>PandasIndex(Index([0], dtype=&#x27;int64&#x27;, name=&#x27;layer&#x27;))</pre></div></li><li class='xr-var-item'><div class='xr-index-name'><div>time</div></div><div class='xr-index-preview'>PandasIndex</div><input type='checkbox' disabled/><label></label><input id='index-4cc0f81d-3f9b-4d69-b10d-2d54ab60d7eb' class='xr-index-data-in' type='checkbox'/><label for='index-4cc0f81d-3f9b-4d69-b10d-2d54ab60d7eb' title='Show/Hide index repr'><svg class='icon xr-icon-database'><use xlink:href='#icon-database'></use></svg></label><div class='xr-index-data'><pre>PandasIndex(DatetimeIndex([&#x27;2005-06-30&#x27;, &#x27;2005-07-31&#x27;, &#x27;2005-08-31&#x27;, &#x27;2005-09-30&#x27;,\n",
       "               &#x27;2005-10-31&#x27;, &#x27;2005-11-30&#x27;, &#x27;2005-12-31&#x27;, &#x27;2006-01-31&#x27;,\n",
       "               &#x27;2006-02-28&#x27;, &#x27;2006-03-31&#x27;, &#x27;2006-04-30&#x27;, &#x27;2006-05-31&#x27;,\n",
       "               &#x27;2006-06-30&#x27;, &#x27;2006-07-31&#x27;, &#x27;2006-08-31&#x27;, &#x27;2006-09-30&#x27;,\n",
       "               &#x27;2006-10-31&#x27;, &#x27;2006-11-30&#x27;, &#x27;2006-12-31&#x27;, &#x27;2007-01-31&#x27;,\n",
       "               &#x27;2007-02-28&#x27;, &#x27;2007-03-31&#x27;, &#x27;2007-04-30&#x27;, &#x27;2007-05-31&#x27;,\n",
       "               &#x27;2007-06-30&#x27;, &#x27;2007-07-31&#x27;, &#x27;2007-08-31&#x27;, &#x27;2007-09-30&#x27;,\n",
       "               &#x27;2007-10-31&#x27;, &#x27;2007-11-30&#x27;, &#x27;2007-12-31&#x27;, &#x27;2008-01-31&#x27;,\n",
       "               &#x27;2008-02-29&#x27;, &#x27;2008-03-31&#x27;, &#x27;2008-04-30&#x27;, &#x27;2008-05-31&#x27;,\n",
       "               &#x27;2008-06-30&#x27;, &#x27;2008-07-31&#x27;, &#x27;2008-08-31&#x27;, &#x27;2008-09-30&#x27;,\n",
       "               &#x27;2008-10-31&#x27;, &#x27;2008-11-30&#x27;, &#x27;2008-12-31&#x27;, &#x27;2009-01-31&#x27;,\n",
       "               &#x27;2009-02-28&#x27;, &#x27;2009-03-31&#x27;, &#x27;2009-04-30&#x27;, &#x27;2009-05-31&#x27;,\n",
       "               &#x27;2009-06-30&#x27;, &#x27;2009-07-31&#x27;, &#x27;2009-08-31&#x27;, &#x27;2009-09-30&#x27;,\n",
       "               &#x27;2009-10-31&#x27;, &#x27;2009-11-30&#x27;],\n",
       "              dtype=&#x27;datetime64[ns]&#x27;, name=&#x27;time&#x27;, freq=&#x27;ME&#x27;))</pre></div></li><li class='xr-var-item'><div class='xr-index-name'><div>latitude</div></div><div class='xr-index-preview'>PandasIndex</div><input type='checkbox' disabled/><label></label><input id='index-63292e08-443a-4463-96a2-ea1266d926c0' class='xr-index-data-in' type='checkbox'/><label for='index-63292e08-443a-4463-96a2-ea1266d926c0' title='Show/Hide index repr'><svg class='icon xr-icon-database'><use xlink:href='#icon-database'></use></svg></label><div class='xr-index-data'><pre>PandasIndex(Index([22.75], dtype=&#x27;float64&#x27;, name=&#x27;latitude&#x27;))</pre></div></li><li class='xr-var-item'><div class='xr-index-name'><div>longitude</div></div><div class='xr-index-preview'>PandasIndex</div><input type='checkbox' disabled/><label></label><input id='index-abd736a1-68d6-4e3b-b5ce-107d0ebc7a2d' class='xr-index-data-in' type='checkbox'/><label for='index-abd736a1-68d6-4e3b-b5ce-107d0ebc7a2d' title='Show/Hide index repr'><svg class='icon xr-icon-database'><use xlink:href='#icon-database'></use></svg></label><div class='xr-index-data'><pre>PandasIndex(Index([-158], dtype=&#x27;int64&#x27;, name=&#x27;longitude&#x27;))</pre></div></li></ul></div></li><li class='xr-section-item'><input id='section-83b1dc52-c990-4ca8-a153-be1e23535bd6' class='xr-section-summary-in' type='checkbox' disabled ><label for='section-83b1dc52-c990-4ca8-a153-be1e23535bd6' class='xr-section-summary'  title='Expand/collapse section'>Attributes: <span>(0)</span></label><div class='xr-section-inline-details'></div><div class='xr-section-details'><dl class='xr-attrs'></dl></div></li></ul></div></div>"
      ],
      "text/plain": [
       "<xarray.Dataset> Size: 1kB\n",
       "Dimensions:    (layer: 1, time: 54, latitude: 1, longitude: 1)\n",
       "Coordinates:\n",
       "  * layer      (layer) int64 8B 0\n",
       "  * time       (time) datetime64[ns] 432B 2005-06-30 2005-07-31 ... 2009-11-30\n",
       "  * latitude   (latitude) float64 8B 22.75\n",
       "  * longitude  (longitude) int64 8B -158\n",
       "Data variables:\n",
       "    day        (time, layer, latitude, longitude) float64 432B [mg/m²] 282.2 ...\n",
       "    night      (time, layer, latitude, longitude) float64 432B [mg/m²] 421.9 ..."
      ]
     },
     "execution_count": 8,
     "metadata": {},
     "output_type": "execute_result"
    }
   ],
   "source": [
    "observations = observations.isel(time=slice(STABILIZATION_TIME, None))\n",
    "observations"
   ]
  },
  {
   "cell_type": "markdown",
   "metadata": {},
   "source": [
    "Select the kind of observation you want to use.\n"
   ]
  },
  {
   "cell_type": "code",
   "execution_count": 9,
   "metadata": {},
   "outputs": [],
   "source": [
    "observations = [\n",
    "    STLSeasonalObservation.from_timeseries_observation(\n",
    "        TimeSeriesObservation(\n",
    "            name=\"Hot climato Day\",\n",
    "            observation=observations[\"day\"],\n",
    "            observation_type=DayCycle.DAY,\n",
    "            observation_interval=\"1MS\",\n",
    "        )\n",
    "    ),\n",
    "    # GAMSeasonalObservation.from_timeseries_observation(\n",
    "    #     TimeSeriesObservation(\n",
    "    #         name=\"Hot climato Night\",\n",
    "    #         observation=observations[\"night\"],\n",
    "    #         observation_type=DayCycle.NIGHT,\n",
    "    #         observation_interval=\"1MS\",\n",
    "    #     )\n",
    "    # ),\n",
    "]"
   ]
  },
  {
   "cell_type": "markdown",
   "metadata": {},
   "source": [
    "Create structure for SeapoPym simulation.\n"
   ]
  },
  {
   "cell_type": "code",
   "execution_count": 10,
   "metadata": {},
   "outputs": [
    {
     "name": "stderr",
     "output_type": "stream",
     "text": [
      "\u001b[38;5;226m2025-06-13 13:32:22,475 :: Seapodym ::  WARNING ::\n",
      "|\tl12 unit is milligram / day / meter ** 2, it will be converted to kilogram / day / meter ** 2.\n",
      "\u001b[0m\n",
      "\u001b[38;5;226m2025-06-13 13:32:22,476 :: Seapodym ::  WARNING ::\n",
      "|\tl12 unit is milligram / day / meter ** 2, it will be converted to kilogram / day / meter ** 2.\n",
      "\u001b[0m\n"
     ]
    }
   ],
   "source": [
    "forcing_parameters = ForcingParameter(\n",
    "    temperature=ForcingUnit(forcing=forcing[\"T\"]), primary_production=ForcingUnit(forcing=observed_npp[\"l12\"])\n",
    ")"
   ]
  },
  {
   "cell_type": "markdown",
   "metadata": {},
   "source": [
    "## Setup the parameters and the cost function\n"
   ]
  },
  {
   "cell_type": "code",
   "execution_count": 11,
   "metadata": {},
   "outputs": [],
   "source": [
    "functional_groups = [\n",
    "    NoTransportFunctionalGroup(\n",
    "        name=\"Zooplankton\",\n",
    "        day_layer=0,\n",
    "        night_layer=0,\n",
    "        energy_transfert=Parameter(\"D1N1_energy_transfert energy_transfert\", 0.001, 0.5),\n",
    "        gamma_tr=Parameter(\"D1N1_gamma_tr\", -0.5, -0.001),\n",
    "        tr_0=Parameter(\"D1N1_tr_0\", 0, 50),\n",
    "        gamma_lambda_temperature=Parameter(\"D1N1_gamma_lambda_temperature\", 0, 0.5),\n",
    "        lambda_temperature_0=Parameter(\"D1N1_lambda_temperature_0\", 0, 1),\n",
    "    ),\n",
    "]"
   ]
  },
  {
   "cell_type": "code",
   "execution_count": 12,
   "metadata": {},
   "outputs": [],
   "source": [
    "model_generator = NoTransportModelGenerator(forcing_parameters=forcing_parameters)"
   ]
  },
  {
   "cell_type": "code",
   "execution_count": 13,
   "metadata": {},
   "outputs": [],
   "source": [
    "cost_function = STLSeasonalityCostFunction(\n",
    "    model_generator=model_generator,\n",
    "    observations=observations,\n",
    "    seasonal_weights=(0.5, 0.5),\n",
    "    functional_groups=functional_groups,\n",
    "    root_mse=True,\n",
    "    normalized_mse=True,\n",
    "    centered_mse=False,\n",
    ")"
   ]
  },
  {
   "cell_type": "markdown",
   "metadata": {},
   "source": [
    "Set the genetic algorithm meta parameters.\n"
   ]
  },
  {
   "cell_type": "code",
   "execution_count": 14,
   "metadata": {},
   "outputs": [],
   "source": [
    "genetic_algo_parameters = SimpleGeneticAlgorithmParameters(\n",
    "    MUTPB=0.30,\n",
    "    INDPB=0.2,\n",
    "    ETA=5,\n",
    "    CXPB=0.7,\n",
    "    NGEN=2,\n",
    "    POP_SIZE=10,\n",
    "    # cost_function_weight=(-1, -1),\n",
    "    cost_function_weight=(-1,),\n",
    ")"
   ]
  },
  {
   "cell_type": "markdown",
   "metadata": {},
   "source": [
    "Import or create the parameters to be optimized.\n"
   ]
  },
  {
   "cell_type": "code",
   "execution_count": 15,
   "metadata": {},
   "outputs": [
    {
     "data": {
      "text/html": [
       "<div>\n",
       "<style scoped>\n",
       "    .dataframe tbody tr th:only-of-type {\n",
       "        vertical-align: middle;\n",
       "    }\n",
       "\n",
       "    .dataframe tbody tr th {\n",
       "        vertical-align: top;\n",
       "    }\n",
       "\n",
       "    .dataframe thead tr th {\n",
       "        text-align: left;\n",
       "    }\n",
       "\n",
       "    .dataframe thead tr:last-of-type th {\n",
       "        text-align: right;\n",
       "    }\n",
       "</style>\n",
       "<table border=\"1\" class=\"dataframe\">\n",
       "  <thead>\n",
       "    <tr>\n",
       "      <th></th>\n",
       "      <th></th>\n",
       "      <th>category</th>\n",
       "      <th colspan=\"5\" halign=\"left\">Parametre</th>\n",
       "      <th>Fitness</th>\n",
       "      <th>Weighted_fitness</th>\n",
       "    </tr>\n",
       "    <tr>\n",
       "      <th></th>\n",
       "      <th></th>\n",
       "      <th>name</th>\n",
       "      <th>D1N1_energy_transfert energy_transfert</th>\n",
       "      <th>D1N1_lambda_temperature_0</th>\n",
       "      <th>D1N1_gamma_lambda_temperature</th>\n",
       "      <th>D1N1_tr_0</th>\n",
       "      <th>D1N1_gamma_tr</th>\n",
       "      <th>Hot climato</th>\n",
       "      <th>Weighted_fitness</th>\n",
       "    </tr>\n",
       "    <tr>\n",
       "      <th>Generation</th>\n",
       "      <th>Is_From_Previous_Generation</th>\n",
       "      <th>Individual</th>\n",
       "      <th></th>\n",
       "      <th></th>\n",
       "      <th></th>\n",
       "      <th></th>\n",
       "      <th></th>\n",
       "      <th></th>\n",
       "      <th></th>\n",
       "    </tr>\n",
       "  </thead>\n",
       "  <tbody>\n",
       "    <tr>\n",
       "      <th rowspan=\"11\" valign=\"top\">0</th>\n",
       "      <th rowspan=\"11\" valign=\"top\">False</th>\n",
       "      <th>0</th>\n",
       "      <td>0.472536</td>\n",
       "      <td>0.580847</td>\n",
       "      <td>0.063824</td>\n",
       "      <td>8.128065</td>\n",
       "      <td>-0.122484</td>\n",
       "      <td>NaN</td>\n",
       "      <td>NaN</td>\n",
       "    </tr>\n",
       "    <tr>\n",
       "      <th>1</th>\n",
       "      <td>0.092398</td>\n",
       "      <td>0.580847</td>\n",
       "      <td>0.063824</td>\n",
       "      <td>8.128065</td>\n",
       "      <td>-0.122484</td>\n",
       "      <td>NaN</td>\n",
       "      <td>NaN</td>\n",
       "    </tr>\n",
       "    <tr>\n",
       "      <th>2</th>\n",
       "      <td>0.472536</td>\n",
       "      <td>0.862620</td>\n",
       "      <td>0.063824</td>\n",
       "      <td>8.128065</td>\n",
       "      <td>-0.122484</td>\n",
       "      <td>NaN</td>\n",
       "      <td>NaN</td>\n",
       "    </tr>\n",
       "    <tr>\n",
       "      <th>3</th>\n",
       "      <td>0.472536</td>\n",
       "      <td>0.580847</td>\n",
       "      <td>0.243309</td>\n",
       "      <td>8.128065</td>\n",
       "      <td>-0.122484</td>\n",
       "      <td>NaN</td>\n",
       "      <td>NaN</td>\n",
       "    </tr>\n",
       "    <tr>\n",
       "      <th>4</th>\n",
       "      <td>0.472536</td>\n",
       "      <td>0.580847</td>\n",
       "      <td>0.063824</td>\n",
       "      <td>28.724379</td>\n",
       "      <td>-0.122484</td>\n",
       "      <td>NaN</td>\n",
       "      <td>NaN</td>\n",
       "    </tr>\n",
       "    <tr>\n",
       "      <th>...</th>\n",
       "      <td>...</td>\n",
       "      <td>...</td>\n",
       "      <td>...</td>\n",
       "      <td>...</td>\n",
       "      <td>...</td>\n",
       "      <td>...</td>\n",
       "      <td>...</td>\n",
       "    </tr>\n",
       "    <tr>\n",
       "      <th>1787</th>\n",
       "      <td>0.468971</td>\n",
       "      <td>0.186509</td>\n",
       "      <td>0.345044</td>\n",
       "      <td>29.585831</td>\n",
       "      <td>-0.392907</td>\n",
       "      <td>NaN</td>\n",
       "      <td>NaN</td>\n",
       "    </tr>\n",
       "    <tr>\n",
       "      <th>1788</th>\n",
       "      <td>0.468971</td>\n",
       "      <td>0.105665</td>\n",
       "      <td>0.135944</td>\n",
       "      <td>29.585831</td>\n",
       "      <td>-0.392907</td>\n",
       "      <td>NaN</td>\n",
       "      <td>NaN</td>\n",
       "    </tr>\n",
       "    <tr>\n",
       "      <th>1789</th>\n",
       "      <td>0.468971</td>\n",
       "      <td>0.105665</td>\n",
       "      <td>0.345044</td>\n",
       "      <td>38.867252</td>\n",
       "      <td>-0.392907</td>\n",
       "      <td>NaN</td>\n",
       "      <td>NaN</td>\n",
       "    </tr>\n",
       "    <tr>\n",
       "      <th>1790</th>\n",
       "      <td>0.468971</td>\n",
       "      <td>0.105665</td>\n",
       "      <td>0.345044</td>\n",
       "      <td>29.585831</td>\n",
       "      <td>-0.181844</td>\n",
       "      <td>NaN</td>\n",
       "      <td>NaN</td>\n",
       "    </tr>\n",
       "    <tr>\n",
       "      <th>1791</th>\n",
       "      <td>0.464305</td>\n",
       "      <td>0.186509</td>\n",
       "      <td>0.135944</td>\n",
       "      <td>38.867252</td>\n",
       "      <td>-0.181844</td>\n",
       "      <td>NaN</td>\n",
       "      <td>NaN</td>\n",
       "    </tr>\n",
       "  </tbody>\n",
       "</table>\n",
       "<p>1792 rows × 7 columns</p>\n",
       "</div>"
      ],
      "text/plain": [
       "category                                                                       Parametre  \\\n",
       "name                                              D1N1_energy_transfert energy_transfert   \n",
       "Generation Is_From_Previous_Generation Individual                                          \n",
       "0          False                       0                                        0.472536   \n",
       "                                       1                                        0.092398   \n",
       "                                       2                                        0.472536   \n",
       "                                       3                                        0.472536   \n",
       "                                       4                                        0.472536   \n",
       "...                                                                                  ...   \n",
       "                                       1787                                     0.468971   \n",
       "                                       1788                                     0.468971   \n",
       "                                       1789                                     0.468971   \n",
       "                                       1790                                     0.468971   \n",
       "                                       1791                                     0.464305   \n",
       "\n",
       "category                                                                     \\\n",
       "name                                              D1N1_lambda_temperature_0   \n",
       "Generation Is_From_Previous_Generation Individual                             \n",
       "0          False                       0                           0.580847   \n",
       "                                       1                           0.580847   \n",
       "                                       2                           0.862620   \n",
       "                                       3                           0.580847   \n",
       "                                       4                           0.580847   \n",
       "...                                                                     ...   \n",
       "                                       1787                        0.186509   \n",
       "                                       1788                        0.105665   \n",
       "                                       1789                        0.105665   \n",
       "                                       1790                        0.105665   \n",
       "                                       1791                        0.186509   \n",
       "\n",
       "category                                                                         \\\n",
       "name                                              D1N1_gamma_lambda_temperature   \n",
       "Generation Is_From_Previous_Generation Individual                                 \n",
       "0          False                       0                               0.063824   \n",
       "                                       1                               0.063824   \n",
       "                                       2                               0.063824   \n",
       "                                       3                               0.243309   \n",
       "                                       4                               0.063824   \n",
       "...                                                                         ...   \n",
       "                                       1787                            0.345044   \n",
       "                                       1788                            0.135944   \n",
       "                                       1789                            0.345044   \n",
       "                                       1790                            0.345044   \n",
       "                                       1791                            0.135944   \n",
       "\n",
       "category                                                                    \\\n",
       "name                                               D1N1_tr_0 D1N1_gamma_tr   \n",
       "Generation Is_From_Previous_Generation Individual                            \n",
       "0          False                       0            8.128065     -0.122484   \n",
       "                                       1            8.128065     -0.122484   \n",
       "                                       2            8.128065     -0.122484   \n",
       "                                       3            8.128065     -0.122484   \n",
       "                                       4           28.724379     -0.122484   \n",
       "...                                                      ...           ...   \n",
       "                                       1787        29.585831     -0.392907   \n",
       "                                       1788        29.585831     -0.392907   \n",
       "                                       1789        38.867252     -0.392907   \n",
       "                                       1790        29.585831     -0.181844   \n",
       "                                       1791        38.867252     -0.181844   \n",
       "\n",
       "category                                              Fitness Weighted_fitness  \n",
       "name                                              Hot climato Weighted_fitness  \n",
       "Generation Is_From_Previous_Generation Individual                               \n",
       "0          False                       0                  NaN              NaN  \n",
       "                                       1                  NaN              NaN  \n",
       "                                       2                  NaN              NaN  \n",
       "                                       3                  NaN              NaN  \n",
       "                                       4                  NaN              NaN  \n",
       "...                                                       ...              ...  \n",
       "                                       1787               NaN              NaN  \n",
       "                                       1788               NaN              NaN  \n",
       "                                       1789               NaN              NaN  \n",
       "                                       1790               NaN              NaN  \n",
       "                                       1791               NaN              NaN  \n",
       "\n",
       "[1792 rows x 7 columns]"
      ]
     },
     "execution_count": 15,
     "metadata": {},
     "output_type": "execute_result"
    }
   ],
   "source": [
    "logbook_path = Path(f\"./{export_file_name}_logbook.parquet\")\n",
    "if logbook_path.exists():\n",
    "    logbook = pd.read_parquet(logbook_path)\n",
    "else:\n",
    "    logbook = generate_logbook_with_sobol_sampling(\n",
    "        functional_group_parameters=functional_groups,\n",
    "        sample_number=256,\n",
    "        # sample_number=1,\n",
    "        fitness_name=[\"Hot climato\"],\n",
    "        # fitness_name=[\"Hot climato Day\", \"Hot climato Night\"],\n",
    "    )\n",
    "logbook"
   ]
  },
  {
   "cell_type": "markdown",
   "metadata": {},
   "source": [
    "Finaly, create the Genetic Algorithm.\n"
   ]
  },
  {
   "cell_type": "code",
   "execution_count": 16,
   "metadata": {},
   "outputs": [
    {
     "name": "stderr",
     "output_type": "stream",
     "text": [
      "/Users/adm-lehodey/Documents/Workspace/Projects/Seapopym-optimisation/.venv/lib/python3.13/site-packages/distributed/node.py:187: UserWarning: Port 8787 is already in use.\n",
      "Perhaps you already have a cluster running?\n",
      "Hosting the HTTP server on port 57459 instead\n",
      "  warnings.warn(\n"
     ]
    }
   ],
   "source": [
    "client = Client()\n",
    "genetic_algo = SimpleGeneticAlgorithm(\n",
    "    meta_parameter=genetic_algo_parameters,\n",
    "    cost_function=cost_function,\n",
    "    client=client,\n",
    "    logbook=logbook,\n",
    "    save=logbook_path,\n",
    ")"
   ]
  },
  {
   "cell_type": "markdown",
   "metadata": {},
   "source": [
    "And watch the magic on the Dask dashboard :\n"
   ]
  },
  {
   "cell_type": "code",
   "execution_count": 17,
   "metadata": {},
   "outputs": [
    {
     "data": {
      "text/html": [
       "<div>\n",
       "    <div style=\"width: 24px; height: 24px; background-color: #e1e1e1; border: 3px solid #9D9D9D; border-radius: 5px; position: absolute;\"> </div>\n",
       "    <div style=\"margin-left: 48px;\">\n",
       "        <h3 style=\"margin-bottom: 0px;\">Client</h3>\n",
       "        <p style=\"color: #9D9D9D; margin-bottom: 0px;\">Client-12b0988e-484a-11f0-b9b4-36240d3e2cc4</p>\n",
       "        <table style=\"width: 100%; text-align: left;\">\n",
       "\n",
       "        <tr>\n",
       "        \n",
       "            <td style=\"text-align: left;\"><strong>Connection method:</strong> Cluster object</td>\n",
       "            <td style=\"text-align: left;\"><strong>Cluster type:</strong> distributed.LocalCluster</td>\n",
       "        \n",
       "        </tr>\n",
       "\n",
       "        \n",
       "            <tr>\n",
       "                <td style=\"text-align: left;\">\n",
       "                    <strong>Dashboard: </strong> <a href=\"http://127.0.0.1:57459/status\" target=\"_blank\">http://127.0.0.1:57459/status</a>\n",
       "                </td>\n",
       "                <td style=\"text-align: left;\"></td>\n",
       "            </tr>\n",
       "        \n",
       "\n",
       "        </table>\n",
       "\n",
       "        \n",
       "\n",
       "        \n",
       "            <details>\n",
       "            <summary style=\"margin-bottom: 20px;\"><h3 style=\"display: inline;\">Cluster Info</h3></summary>\n",
       "            <div class=\"jp-RenderedHTMLCommon jp-RenderedHTML jp-mod-trusted jp-OutputArea-output\">\n",
       "    <div style=\"width: 24px; height: 24px; background-color: #e1e1e1; border: 3px solid #9D9D9D; border-radius: 5px; position: absolute;\">\n",
       "    </div>\n",
       "    <div style=\"margin-left: 48px;\">\n",
       "        <h3 style=\"margin-bottom: 0px; margin-top: 0px;\">LocalCluster</h3>\n",
       "        <p style=\"color: #9D9D9D; margin-bottom: 0px;\">16d36918</p>\n",
       "        <table style=\"width: 100%; text-align: left;\">\n",
       "            <tr>\n",
       "                <td style=\"text-align: left;\">\n",
       "                    <strong>Dashboard:</strong> <a href=\"http://127.0.0.1:57459/status\" target=\"_blank\">http://127.0.0.1:57459/status</a>\n",
       "                </td>\n",
       "                <td style=\"text-align: left;\">\n",
       "                    <strong>Workers:</strong> 4\n",
       "                </td>\n",
       "            </tr>\n",
       "            <tr>\n",
       "                <td style=\"text-align: left;\">\n",
       "                    <strong>Total threads:</strong> 12\n",
       "                </td>\n",
       "                <td style=\"text-align: left;\">\n",
       "                    <strong>Total memory:</strong> 48.00 GiB\n",
       "                </td>\n",
       "            </tr>\n",
       "            \n",
       "            <tr>\n",
       "    <td style=\"text-align: left;\"><strong>Status:</strong> running</td>\n",
       "    <td style=\"text-align: left;\"><strong>Using processes:</strong> True</td>\n",
       "</tr>\n",
       "\n",
       "            \n",
       "        </table>\n",
       "\n",
       "        <details>\n",
       "            <summary style=\"margin-bottom: 20px;\">\n",
       "                <h3 style=\"display: inline;\">Scheduler Info</h3>\n",
       "            </summary>\n",
       "\n",
       "            <div style=\"\">\n",
       "    <div>\n",
       "        <div style=\"width: 24px; height: 24px; background-color: #FFF7E5; border: 3px solid #FF6132; border-radius: 5px; position: absolute;\"> </div>\n",
       "        <div style=\"margin-left: 48px;\">\n",
       "            <h3 style=\"margin-bottom: 0px;\">Scheduler</h3>\n",
       "            <p style=\"color: #9D9D9D; margin-bottom: 0px;\">Scheduler-ae2fc38b-dae5-4369-b360-2164c44902b1</p>\n",
       "            <table style=\"width: 100%; text-align: left;\">\n",
       "                <tr>\n",
       "                    <td style=\"text-align: left;\">\n",
       "                        <strong>Comm:</strong> tcp://127.0.0.1:57460\n",
       "                    </td>\n",
       "                    <td style=\"text-align: left;\">\n",
       "                        <strong>Workers:</strong> 0 \n",
       "                    </td>\n",
       "                </tr>\n",
       "                <tr>\n",
       "                    <td style=\"text-align: left;\">\n",
       "                        <strong>Dashboard:</strong> <a href=\"http://127.0.0.1:57459/status\" target=\"_blank\">http://127.0.0.1:57459/status</a>\n",
       "                    </td>\n",
       "                    <td style=\"text-align: left;\">\n",
       "                        <strong>Total threads:</strong> 0\n",
       "                    </td>\n",
       "                </tr>\n",
       "                <tr>\n",
       "                    <td style=\"text-align: left;\">\n",
       "                        <strong>Started:</strong> Just now\n",
       "                    </td>\n",
       "                    <td style=\"text-align: left;\">\n",
       "                        <strong>Total memory:</strong> 0 B\n",
       "                    </td>\n",
       "                </tr>\n",
       "            </table>\n",
       "        </div>\n",
       "    </div>\n",
       "\n",
       "    <details style=\"margin-left: 48px;\">\n",
       "        <summary style=\"margin-bottom: 20px;\">\n",
       "            <h3 style=\"display: inline;\">Workers</h3>\n",
       "        </summary>\n",
       "\n",
       "        \n",
       "        <div style=\"margin-bottom: 20px;\">\n",
       "            <div style=\"width: 24px; height: 24px; background-color: #DBF5FF; border: 3px solid #4CC9FF; border-radius: 5px; position: absolute;\"> </div>\n",
       "            <div style=\"margin-left: 48px;\">\n",
       "            <details>\n",
       "                <summary>\n",
       "                    <h4 style=\"margin-bottom: 0px; display: inline;\">Worker: 0</h4>\n",
       "                </summary>\n",
       "                <table style=\"width: 100%; text-align: left;\">\n",
       "                    <tr>\n",
       "                        <td style=\"text-align: left;\">\n",
       "                            <strong>Comm: </strong> tcp://127.0.0.1:57471\n",
       "                        </td>\n",
       "                        <td style=\"text-align: left;\">\n",
       "                            <strong>Total threads: </strong> 3\n",
       "                        </td>\n",
       "                    </tr>\n",
       "                    <tr>\n",
       "                        <td style=\"text-align: left;\">\n",
       "                            <strong>Dashboard: </strong> <a href=\"http://127.0.0.1:57475/status\" target=\"_blank\">http://127.0.0.1:57475/status</a>\n",
       "                        </td>\n",
       "                        <td style=\"text-align: left;\">\n",
       "                            <strong>Memory: </strong> 12.00 GiB\n",
       "                        </td>\n",
       "                    </tr>\n",
       "                    <tr>\n",
       "                        <td style=\"text-align: left;\">\n",
       "                            <strong>Nanny: </strong> tcp://127.0.0.1:57463\n",
       "                        </td>\n",
       "                        <td style=\"text-align: left;\"></td>\n",
       "                    </tr>\n",
       "                    <tr>\n",
       "                        <td colspan=\"2\" style=\"text-align: left;\">\n",
       "                            <strong>Local directory: </strong> /var/folders/z_/8j3qx1mn0299kkpjgz9g53780000gq/T/dask-scratch-space/worker-vp4i4dvi\n",
       "                        </td>\n",
       "                    </tr>\n",
       "\n",
       "                    \n",
       "\n",
       "                    \n",
       "\n",
       "                </table>\n",
       "            </details>\n",
       "            </div>\n",
       "        </div>\n",
       "        \n",
       "        <div style=\"margin-bottom: 20px;\">\n",
       "            <div style=\"width: 24px; height: 24px; background-color: #DBF5FF; border: 3px solid #4CC9FF; border-radius: 5px; position: absolute;\"> </div>\n",
       "            <div style=\"margin-left: 48px;\">\n",
       "            <details>\n",
       "                <summary>\n",
       "                    <h4 style=\"margin-bottom: 0px; display: inline;\">Worker: 1</h4>\n",
       "                </summary>\n",
       "                <table style=\"width: 100%; text-align: left;\">\n",
       "                    <tr>\n",
       "                        <td style=\"text-align: left;\">\n",
       "                            <strong>Comm: </strong> tcp://127.0.0.1:57472\n",
       "                        </td>\n",
       "                        <td style=\"text-align: left;\">\n",
       "                            <strong>Total threads: </strong> 3\n",
       "                        </td>\n",
       "                    </tr>\n",
       "                    <tr>\n",
       "                        <td style=\"text-align: left;\">\n",
       "                            <strong>Dashboard: </strong> <a href=\"http://127.0.0.1:57476/status\" target=\"_blank\">http://127.0.0.1:57476/status</a>\n",
       "                        </td>\n",
       "                        <td style=\"text-align: left;\">\n",
       "                            <strong>Memory: </strong> 12.00 GiB\n",
       "                        </td>\n",
       "                    </tr>\n",
       "                    <tr>\n",
       "                        <td style=\"text-align: left;\">\n",
       "                            <strong>Nanny: </strong> tcp://127.0.0.1:57465\n",
       "                        </td>\n",
       "                        <td style=\"text-align: left;\"></td>\n",
       "                    </tr>\n",
       "                    <tr>\n",
       "                        <td colspan=\"2\" style=\"text-align: left;\">\n",
       "                            <strong>Local directory: </strong> /var/folders/z_/8j3qx1mn0299kkpjgz9g53780000gq/T/dask-scratch-space/worker-txhtdv1e\n",
       "                        </td>\n",
       "                    </tr>\n",
       "\n",
       "                    \n",
       "\n",
       "                    \n",
       "\n",
       "                </table>\n",
       "            </details>\n",
       "            </div>\n",
       "        </div>\n",
       "        \n",
       "        <div style=\"margin-bottom: 20px;\">\n",
       "            <div style=\"width: 24px; height: 24px; background-color: #DBF5FF; border: 3px solid #4CC9FF; border-radius: 5px; position: absolute;\"> </div>\n",
       "            <div style=\"margin-left: 48px;\">\n",
       "            <details>\n",
       "                <summary>\n",
       "                    <h4 style=\"margin-bottom: 0px; display: inline;\">Worker: 2</h4>\n",
       "                </summary>\n",
       "                <table style=\"width: 100%; text-align: left;\">\n",
       "                    <tr>\n",
       "                        <td style=\"text-align: left;\">\n",
       "                            <strong>Comm: </strong> tcp://127.0.0.1:57473\n",
       "                        </td>\n",
       "                        <td style=\"text-align: left;\">\n",
       "                            <strong>Total threads: </strong> 3\n",
       "                        </td>\n",
       "                    </tr>\n",
       "                    <tr>\n",
       "                        <td style=\"text-align: left;\">\n",
       "                            <strong>Dashboard: </strong> <a href=\"http://127.0.0.1:57479/status\" target=\"_blank\">http://127.0.0.1:57479/status</a>\n",
       "                        </td>\n",
       "                        <td style=\"text-align: left;\">\n",
       "                            <strong>Memory: </strong> 12.00 GiB\n",
       "                        </td>\n",
       "                    </tr>\n",
       "                    <tr>\n",
       "                        <td style=\"text-align: left;\">\n",
       "                            <strong>Nanny: </strong> tcp://127.0.0.1:57467\n",
       "                        </td>\n",
       "                        <td style=\"text-align: left;\"></td>\n",
       "                    </tr>\n",
       "                    <tr>\n",
       "                        <td colspan=\"2\" style=\"text-align: left;\">\n",
       "                            <strong>Local directory: </strong> /var/folders/z_/8j3qx1mn0299kkpjgz9g53780000gq/T/dask-scratch-space/worker-2zju1_7q\n",
       "                        </td>\n",
       "                    </tr>\n",
       "\n",
       "                    \n",
       "\n",
       "                    \n",
       "\n",
       "                </table>\n",
       "            </details>\n",
       "            </div>\n",
       "        </div>\n",
       "        \n",
       "        <div style=\"margin-bottom: 20px;\">\n",
       "            <div style=\"width: 24px; height: 24px; background-color: #DBF5FF; border: 3px solid #4CC9FF; border-radius: 5px; position: absolute;\"> </div>\n",
       "            <div style=\"margin-left: 48px;\">\n",
       "            <details>\n",
       "                <summary>\n",
       "                    <h4 style=\"margin-bottom: 0px; display: inline;\">Worker: 3</h4>\n",
       "                </summary>\n",
       "                <table style=\"width: 100%; text-align: left;\">\n",
       "                    <tr>\n",
       "                        <td style=\"text-align: left;\">\n",
       "                            <strong>Comm: </strong> tcp://127.0.0.1:57474\n",
       "                        </td>\n",
       "                        <td style=\"text-align: left;\">\n",
       "                            <strong>Total threads: </strong> 3\n",
       "                        </td>\n",
       "                    </tr>\n",
       "                    <tr>\n",
       "                        <td style=\"text-align: left;\">\n",
       "                            <strong>Dashboard: </strong> <a href=\"http://127.0.0.1:57481/status\" target=\"_blank\">http://127.0.0.1:57481/status</a>\n",
       "                        </td>\n",
       "                        <td style=\"text-align: left;\">\n",
       "                            <strong>Memory: </strong> 12.00 GiB\n",
       "                        </td>\n",
       "                    </tr>\n",
       "                    <tr>\n",
       "                        <td style=\"text-align: left;\">\n",
       "                            <strong>Nanny: </strong> tcp://127.0.0.1:57469\n",
       "                        </td>\n",
       "                        <td style=\"text-align: left;\"></td>\n",
       "                    </tr>\n",
       "                    <tr>\n",
       "                        <td colspan=\"2\" style=\"text-align: left;\">\n",
       "                            <strong>Local directory: </strong> /var/folders/z_/8j3qx1mn0299kkpjgz9g53780000gq/T/dask-scratch-space/worker-nah7km40\n",
       "                        </td>\n",
       "                    </tr>\n",
       "\n",
       "                    \n",
       "\n",
       "                    \n",
       "\n",
       "                </table>\n",
       "            </details>\n",
       "            </div>\n",
       "        </div>\n",
       "        \n",
       "\n",
       "    </details>\n",
       "</div>\n",
       "\n",
       "        </details>\n",
       "    </div>\n",
       "</div>\n",
       "            </details>\n",
       "        \n",
       "\n",
       "    </div>\n",
       "</div>"
      ],
      "text/plain": [
       "<Client: 'tcp://127.0.0.1:57460' processes=4 threads=12, memory=48.00 GiB>"
      ]
     },
     "execution_count": 17,
     "metadata": {},
     "output_type": "execute_result"
    }
   ],
   "source": [
    "genetic_algo.client"
   ]
  },
  {
   "cell_type": "markdown",
   "metadata": {},
   "source": [
    "## Run the optimization\n"
   ]
  },
  {
   "cell_type": "code",
   "execution_count": 18,
   "metadata": {},
   "outputs": [
    {
     "name": "stderr",
     "output_type": "stream",
     "text": [
      "Some individuals in the logbook have no fitness values. Re-evaluating the population.\n"
     ]
    }
   ],
   "source": [
    "viewer = genetic_algo.optimize()"
   ]
  },
  {
   "cell_type": "markdown",
   "metadata": {},
   "source": [
    "## Optimization statistics\n"
   ]
  },
  {
   "cell_type": "code",
   "execution_count": 19,
   "metadata": {},
   "outputs": [
    {
     "data": {
      "text/html": [
       "<div>\n",
       "<style scoped>\n",
       "    .dataframe tbody tr th:only-of-type {\n",
       "        vertical-align: middle;\n",
       "    }\n",
       "\n",
       "    .dataframe tbody tr th {\n",
       "        vertical-align: top;\n",
       "    }\n",
       "\n",
       "    .dataframe thead tr th {\n",
       "        text-align: left;\n",
       "    }\n",
       "\n",
       "    .dataframe thead tr:last-of-type th {\n",
       "        text-align: right;\n",
       "    }\n",
       "</style>\n",
       "<table border=\"1\" class=\"dataframe\">\n",
       "  <thead>\n",
       "    <tr>\n",
       "      <th></th>\n",
       "      <th></th>\n",
       "      <th>category</th>\n",
       "      <th colspan=\"5\" halign=\"left\">Parametre</th>\n",
       "      <th>Fitness</th>\n",
       "      <th>Weighted_fitness</th>\n",
       "    </tr>\n",
       "    <tr>\n",
       "      <th></th>\n",
       "      <th></th>\n",
       "      <th>name</th>\n",
       "      <th>D1N1_energy_transfert energy_transfert</th>\n",
       "      <th>D1N1_lambda_temperature_0</th>\n",
       "      <th>D1N1_gamma_lambda_temperature</th>\n",
       "      <th>D1N1_tr_0</th>\n",
       "      <th>D1N1_gamma_tr</th>\n",
       "      <th>Hot climato Day</th>\n",
       "      <th>Weighted_fitness</th>\n",
       "    </tr>\n",
       "    <tr>\n",
       "      <th>Generation</th>\n",
       "      <th>Is_From_Previous_Generation</th>\n",
       "      <th>Individual</th>\n",
       "      <th></th>\n",
       "      <th></th>\n",
       "      <th></th>\n",
       "      <th></th>\n",
       "      <th></th>\n",
       "      <th></th>\n",
       "      <th></th>\n",
       "    </tr>\n",
       "  </thead>\n",
       "  <tbody>\n",
       "    <tr>\n",
       "      <th rowspan=\"50\" valign=\"top\">0</th>\n",
       "      <th rowspan=\"50\" valign=\"top\">False</th>\n",
       "      <th>1107</th>\n",
       "      <td>0.472222</td>\n",
       "      <td>0.950077</td>\n",
       "      <td>0.007854</td>\n",
       "      <td>21.931125</td>\n",
       "      <td>-0.395166</td>\n",
       "      <td>0.000011</td>\n",
       "      <td>-0.000011</td>\n",
       "    </tr>\n",
       "    <tr>\n",
       "      <th>379</th>\n",
       "      <td>0.449107</td>\n",
       "      <td>0.535131</td>\n",
       "      <td>0.028464</td>\n",
       "      <td>26.126123</td>\n",
       "      <td>-0.286738</td>\n",
       "      <td>0.000012</td>\n",
       "      <td>-0.000012</td>\n",
       "    </tr>\n",
       "    <tr>\n",
       "      <th>947</th>\n",
       "      <td>0.429798</td>\n",
       "      <td>0.621509</td>\n",
       "      <td>0.016096</td>\n",
       "      <td>11.971690</td>\n",
       "      <td>-0.302526</td>\n",
       "      <td>0.000013</td>\n",
       "      <td>-0.000013</td>\n",
       "    </tr>\n",
       "    <tr>\n",
       "      <th>1264</th>\n",
       "      <td>0.327150</td>\n",
       "      <td>0.614409</td>\n",
       "      <td>0.002700</td>\n",
       "      <td>39.269089</td>\n",
       "      <td>-0.347637</td>\n",
       "      <td>0.000013</td>\n",
       "      <td>-0.000013</td>\n",
       "    </tr>\n",
       "    <tr>\n",
       "      <th>1260</th>\n",
       "      <td>0.327150</td>\n",
       "      <td>0.614409</td>\n",
       "      <td>0.002700</td>\n",
       "      <td>48.516318</td>\n",
       "      <td>-0.347637</td>\n",
       "      <td>0.000013</td>\n",
       "      <td>-0.000013</td>\n",
       "    </tr>\n",
       "    <tr>\n",
       "      <th>1477</th>\n",
       "      <td>0.255693</td>\n",
       "      <td>0.318917</td>\n",
       "      <td>0.013300</td>\n",
       "      <td>26.600830</td>\n",
       "      <td>-0.229325</td>\n",
       "      <td>0.000013</td>\n",
       "      <td>-0.000013</td>\n",
       "    </tr>\n",
       "    <tr>\n",
       "      <th>1482</th>\n",
       "      <td>0.255693</td>\n",
       "      <td>0.318917</td>\n",
       "      <td>0.013300</td>\n",
       "      <td>26.600830</td>\n",
       "      <td>-0.496618</td>\n",
       "      <td>0.000013</td>\n",
       "      <td>-0.000013</td>\n",
       "    </tr>\n",
       "    <tr>\n",
       "      <th>1481</th>\n",
       "      <td>0.255693</td>\n",
       "      <td>0.318917</td>\n",
       "      <td>0.013300</td>\n",
       "      <td>12.871642</td>\n",
       "      <td>-0.229325</td>\n",
       "      <td>0.000013</td>\n",
       "      <td>-0.000013</td>\n",
       "    </tr>\n",
       "    <tr>\n",
       "      <th>339</th>\n",
       "      <td>0.458700</td>\n",
       "      <td>0.672479</td>\n",
       "      <td>0.021963</td>\n",
       "      <td>3.639478</td>\n",
       "      <td>-0.167358</td>\n",
       "      <td>0.000013</td>\n",
       "      <td>-0.000013</td>\n",
       "    </tr>\n",
       "    <tr>\n",
       "      <th>232</th>\n",
       "      <td>0.205728</td>\n",
       "      <td>0.140842</td>\n",
       "      <td>0.040075</td>\n",
       "      <td>6.924560</td>\n",
       "      <td>-0.495011</td>\n",
       "      <td>0.000014</td>\n",
       "      <td>-0.000014</td>\n",
       "    </tr>\n",
       "    <tr>\n",
       "      <th>509</th>\n",
       "      <td>0.377497</td>\n",
       "      <td>0.649607</td>\n",
       "      <td>0.009802</td>\n",
       "      <td>36.049948</td>\n",
       "      <td>-0.147258</td>\n",
       "      <td>0.000014</td>\n",
       "      <td>-0.000014</td>\n",
       "    </tr>\n",
       "    <tr>\n",
       "      <th>1450</th>\n",
       "      <td>0.495993</td>\n",
       "      <td>0.139055</td>\n",
       "      <td>0.089020</td>\n",
       "      <td>33.646744</td>\n",
       "      <td>-0.316815</td>\n",
       "      <td>0.000014</td>\n",
       "      <td>-0.000014</td>\n",
       "    </tr>\n",
       "    <tr>\n",
       "      <th>1449</th>\n",
       "      <td>0.459448</td>\n",
       "      <td>0.139055</td>\n",
       "      <td>0.089020</td>\n",
       "      <td>33.646744</td>\n",
       "      <td>-0.316815</td>\n",
       "      <td>0.000015</td>\n",
       "      <td>-0.000015</td>\n",
       "    </tr>\n",
       "    <tr>\n",
       "      <th>1454</th>\n",
       "      <td>0.459448</td>\n",
       "      <td>0.139055</td>\n",
       "      <td>0.089020</td>\n",
       "      <td>33.646744</td>\n",
       "      <td>-0.234309</td>\n",
       "      <td>0.000015</td>\n",
       "      <td>-0.000015</td>\n",
       "    </tr>\n",
       "    <tr>\n",
       "      <th>1453</th>\n",
       "      <td>0.459448</td>\n",
       "      <td>0.139055</td>\n",
       "      <td>0.089020</td>\n",
       "      <td>0.945783</td>\n",
       "      <td>-0.316815</td>\n",
       "      <td>0.000015</td>\n",
       "      <td>-0.000015</td>\n",
       "    </tr>\n",
       "    <tr>\n",
       "      <th>1261</th>\n",
       "      <td>0.320271</td>\n",
       "      <td>0.614409</td>\n",
       "      <td>0.002700</td>\n",
       "      <td>48.516318</td>\n",
       "      <td>-0.347637</td>\n",
       "      <td>0.000015</td>\n",
       "      <td>-0.000015</td>\n",
       "    </tr>\n",
       "    <tr>\n",
       "      <th>108</th>\n",
       "      <td>0.467477</td>\n",
       "      <td>0.080503</td>\n",
       "      <td>0.113629</td>\n",
       "      <td>20.874069</td>\n",
       "      <td>-0.443933</td>\n",
       "      <td>0.000015</td>\n",
       "      <td>-0.000015</td>\n",
       "    </tr>\n",
       "    <tr>\n",
       "      <th>727</th>\n",
       "      <td>0.456493</td>\n",
       "      <td>0.013879</td>\n",
       "      <td>0.184407</td>\n",
       "      <td>5.462860</td>\n",
       "      <td>-0.254667</td>\n",
       "      <td>0.000015</td>\n",
       "      <td>-0.000015</td>\n",
       "    </tr>\n",
       "    <tr>\n",
       "      <th>1265</th>\n",
       "      <td>0.327150</td>\n",
       "      <td>0.614409</td>\n",
       "      <td>0.002700</td>\n",
       "      <td>48.516318</td>\n",
       "      <td>-0.169162</td>\n",
       "      <td>0.000016</td>\n",
       "      <td>-0.000016</td>\n",
       "    </tr>\n",
       "    <tr>\n",
       "      <th>1551</th>\n",
       "      <td>0.151601</td>\n",
       "      <td>0.121269</td>\n",
       "      <td>0.032972</td>\n",
       "      <td>48.216505</td>\n",
       "      <td>-0.145760</td>\n",
       "      <td>0.000017</td>\n",
       "      <td>-0.000017</td>\n",
       "    </tr>\n",
       "    <tr>\n",
       "      <th>1552</th>\n",
       "      <td>0.151601</td>\n",
       "      <td>0.121269</td>\n",
       "      <td>0.032972</td>\n",
       "      <td>19.433610</td>\n",
       "      <td>-0.382740</td>\n",
       "      <td>0.000017</td>\n",
       "      <td>-0.000017</td>\n",
       "    </tr>\n",
       "    <tr>\n",
       "      <th>1547</th>\n",
       "      <td>0.151601</td>\n",
       "      <td>0.121269</td>\n",
       "      <td>0.032972</td>\n",
       "      <td>19.433610</td>\n",
       "      <td>-0.145760</td>\n",
       "      <td>0.000017</td>\n",
       "      <td>-0.000017</td>\n",
       "    </tr>\n",
       "    <tr>\n",
       "      <th>504</th>\n",
       "      <td>0.377497</td>\n",
       "      <td>0.649607</td>\n",
       "      <td>0.009802</td>\n",
       "      <td>36.049948</td>\n",
       "      <td>-0.014452</td>\n",
       "      <td>0.000018</td>\n",
       "      <td>-0.000018</td>\n",
       "    </tr>\n",
       "    <tr>\n",
       "      <th>77</th>\n",
       "      <td>0.313361</td>\n",
       "      <td>0.291009</td>\n",
       "      <td>0.034913</td>\n",
       "      <td>33.467837</td>\n",
       "      <td>-0.263314</td>\n",
       "      <td>0.000019</td>\n",
       "      <td>-0.000019</td>\n",
       "    </tr>\n",
       "    <tr>\n",
       "      <th>81</th>\n",
       "      <td>0.313361</td>\n",
       "      <td>0.291009</td>\n",
       "      <td>0.034913</td>\n",
       "      <td>20.372596</td>\n",
       "      <td>-0.263314</td>\n",
       "      <td>0.000019</td>\n",
       "      <td>-0.000019</td>\n",
       "    </tr>\n",
       "    <tr>\n",
       "      <th>82</th>\n",
       "      <td>0.313361</td>\n",
       "      <td>0.291009</td>\n",
       "      <td>0.034913</td>\n",
       "      <td>33.467837</td>\n",
       "      <td>-0.115909</td>\n",
       "      <td>0.000019</td>\n",
       "      <td>-0.000019</td>\n",
       "    </tr>\n",
       "    <tr>\n",
       "      <th>1686</th>\n",
       "      <td>0.409870</td>\n",
       "      <td>0.885976</td>\n",
       "      <td>0.006142</td>\n",
       "      <td>35.893389</td>\n",
       "      <td>-0.307553</td>\n",
       "      <td>0.000020</td>\n",
       "      <td>-0.000020</td>\n",
       "    </tr>\n",
       "    <tr>\n",
       "      <th>508</th>\n",
       "      <td>0.377497</td>\n",
       "      <td>0.649607</td>\n",
       "      <td>0.009802</td>\n",
       "      <td>47.811948</td>\n",
       "      <td>-0.014452</td>\n",
       "      <td>0.000021</td>\n",
       "      <td>-0.000021</td>\n",
       "    </tr>\n",
       "    <tr>\n",
       "      <th>757</th>\n",
       "      <td>0.492669</td>\n",
       "      <td>0.525680</td>\n",
       "      <td>0.043571</td>\n",
       "      <td>42.785280</td>\n",
       "      <td>-0.130413</td>\n",
       "      <td>0.000022</td>\n",
       "      <td>-0.000022</td>\n",
       "    </tr>\n",
       "    <tr>\n",
       "      <th>331</th>\n",
       "      <td>0.447100</td>\n",
       "      <td>0.756746</td>\n",
       "      <td>0.005205</td>\n",
       "      <td>39.213610</td>\n",
       "      <td>-0.379272</td>\n",
       "      <td>0.000022</td>\n",
       "      <td>-0.000022</td>\n",
       "    </tr>\n",
       "    <tr>\n",
       "      <th>1146</th>\n",
       "      <td>0.311166</td>\n",
       "      <td>0.194237</td>\n",
       "      <td>0.053647</td>\n",
       "      <td>18.523735</td>\n",
       "      <td>-0.405229</td>\n",
       "      <td>0.000023</td>\n",
       "      <td>-0.000023</td>\n",
       "    </tr>\n",
       "    <tr>\n",
       "      <th>1145</th>\n",
       "      <td>0.311166</td>\n",
       "      <td>0.194237</td>\n",
       "      <td>0.053647</td>\n",
       "      <td>23.316302</td>\n",
       "      <td>-0.434107</td>\n",
       "      <td>0.000023</td>\n",
       "      <td>-0.000023</td>\n",
       "    </tr>\n",
       "    <tr>\n",
       "      <th>1141</th>\n",
       "      <td>0.311166</td>\n",
       "      <td>0.194237</td>\n",
       "      <td>0.053647</td>\n",
       "      <td>18.523735</td>\n",
       "      <td>-0.434107</td>\n",
       "      <td>0.000023</td>\n",
       "      <td>-0.000023</td>\n",
       "    </tr>\n",
       "    <tr>\n",
       "      <th>79</th>\n",
       "      <td>0.313361</td>\n",
       "      <td>0.307392</td>\n",
       "      <td>0.034913</td>\n",
       "      <td>33.467837</td>\n",
       "      <td>-0.263314</td>\n",
       "      <td>0.000023</td>\n",
       "      <td>-0.000023</td>\n",
       "    </tr>\n",
       "    <tr>\n",
       "      <th>1452</th>\n",
       "      <td>0.459448</td>\n",
       "      <td>0.139055</td>\n",
       "      <td>0.098069</td>\n",
       "      <td>33.646744</td>\n",
       "      <td>-0.316815</td>\n",
       "      <td>0.000026</td>\n",
       "      <td>-0.000026</td>\n",
       "    </tr>\n",
       "    <tr>\n",
       "      <th>1568</th>\n",
       "      <td>0.496157</td>\n",
       "      <td>0.865398</td>\n",
       "      <td>0.030421</td>\n",
       "      <td>15.062701</td>\n",
       "      <td>-0.184762</td>\n",
       "      <td>0.000027</td>\n",
       "      <td>-0.000027</td>\n",
       "    </tr>\n",
       "    <tr>\n",
       "      <th>1572</th>\n",
       "      <td>0.496157</td>\n",
       "      <td>0.865398</td>\n",
       "      <td>0.030421</td>\n",
       "      <td>46.072352</td>\n",
       "      <td>-0.184762</td>\n",
       "      <td>0.000027</td>\n",
       "      <td>-0.000027</td>\n",
       "    </tr>\n",
       "    <tr>\n",
       "      <th>1573</th>\n",
       "      <td>0.496157</td>\n",
       "      <td>0.865398</td>\n",
       "      <td>0.030421</td>\n",
       "      <td>15.062701</td>\n",
       "      <td>-0.372524</td>\n",
       "      <td>0.000027</td>\n",
       "      <td>-0.000027</td>\n",
       "    </tr>\n",
       "    <tr>\n",
       "      <th>1087</th>\n",
       "      <td>0.348753</td>\n",
       "      <td>0.169966</td>\n",
       "      <td>0.069142</td>\n",
       "      <td>4.929164</td>\n",
       "      <td>-0.152237</td>\n",
       "      <td>0.000028</td>\n",
       "      <td>-0.000028</td>\n",
       "    </tr>\n",
       "    <tr>\n",
       "      <th>1536</th>\n",
       "      <td>0.353743</td>\n",
       "      <td>0.233684</td>\n",
       "      <td>0.038189</td>\n",
       "      <td>47.831998</td>\n",
       "      <td>-0.276908</td>\n",
       "      <td>0.000028</td>\n",
       "      <td>-0.000028</td>\n",
       "    </tr>\n",
       "    <tr>\n",
       "      <th>667</th>\n",
       "      <td>0.487164</td>\n",
       "      <td>0.219230</td>\n",
       "      <td>0.060689</td>\n",
       "      <td>5.886279</td>\n",
       "      <td>-0.205677</td>\n",
       "      <td>0.000029</td>\n",
       "      <td>-0.000029</td>\n",
       "    </tr>\n",
       "    <tr>\n",
       "      <th>198</th>\n",
       "      <td>0.298157</td>\n",
       "      <td>0.407432</td>\n",
       "      <td>0.023363</td>\n",
       "      <td>2.718229</td>\n",
       "      <td>-0.456063</td>\n",
       "      <td>0.000029</td>\n",
       "      <td>-0.000029</td>\n",
       "    </tr>\n",
       "    <tr>\n",
       "      <th>820</th>\n",
       "      <td>0.426990</td>\n",
       "      <td>0.393760</td>\n",
       "      <td>0.051683</td>\n",
       "      <td>29.307263</td>\n",
       "      <td>-0.037815</td>\n",
       "      <td>0.000033</td>\n",
       "      <td>-0.000033</td>\n",
       "    </tr>\n",
       "    <tr>\n",
       "      <th>1731</th>\n",
       "      <td>0.387512</td>\n",
       "      <td>0.401342</td>\n",
       "      <td>0.042031</td>\n",
       "      <td>46.031842</td>\n",
       "      <td>-0.097744</td>\n",
       "      <td>0.000033</td>\n",
       "      <td>-0.000033</td>\n",
       "    </tr>\n",
       "    <tr>\n",
       "      <th>540</th>\n",
       "      <td>0.367159</td>\n",
       "      <td>0.211650</td>\n",
       "      <td>0.067194</td>\n",
       "      <td>40.995941</td>\n",
       "      <td>-0.252995</td>\n",
       "      <td>0.000033</td>\n",
       "      <td>-0.000033</td>\n",
       "    </tr>\n",
       "    <tr>\n",
       "      <th>472</th>\n",
       "      <td>0.283529</td>\n",
       "      <td>0.470724</td>\n",
       "      <td>0.016581</td>\n",
       "      <td>11.392247</td>\n",
       "      <td>-0.371651</td>\n",
       "      <td>0.000033</td>\n",
       "      <td>-0.000033</td>\n",
       "    </tr>\n",
       "    <tr>\n",
       "      <th>362</th>\n",
       "      <td>0.276386</td>\n",
       "      <td>0.096135</td>\n",
       "      <td>0.081917</td>\n",
       "      <td>46.229054</td>\n",
       "      <td>-0.209542</td>\n",
       "      <td>0.000034</td>\n",
       "      <td>-0.000034</td>\n",
       "    </tr>\n",
       "    <tr>\n",
       "      <th>357</th>\n",
       "      <td>0.276386</td>\n",
       "      <td>0.096135</td>\n",
       "      <td>0.081917</td>\n",
       "      <td>46.229054</td>\n",
       "      <td>-0.042347</td>\n",
       "      <td>0.000035</td>\n",
       "      <td>-0.000035</td>\n",
       "    </tr>\n",
       "    <tr>\n",
       "      <th>1478</th>\n",
       "      <td>0.196935</td>\n",
       "      <td>0.318917</td>\n",
       "      <td>0.013300</td>\n",
       "      <td>26.600830</td>\n",
       "      <td>-0.229325</td>\n",
       "      <td>0.000035</td>\n",
       "      <td>-0.000035</td>\n",
       "    </tr>\n",
       "    <tr>\n",
       "      <th>24</th>\n",
       "      <td>0.294125</td>\n",
       "      <td>0.125147</td>\n",
       "      <td>0.075356</td>\n",
       "      <td>42.100954</td>\n",
       "      <td>-0.247072</td>\n",
       "      <td>0.000035</td>\n",
       "      <td>-0.000035</td>\n",
       "    </tr>\n",
       "  </tbody>\n",
       "</table>\n",
       "</div>"
      ],
      "text/plain": [
       "category                                                                       Parametre  \\\n",
       "name                                              D1N1_energy_transfert energy_transfert   \n",
       "Generation Is_From_Previous_Generation Individual                                          \n",
       "0          False                       1107                                     0.472222   \n",
       "                                       379                                      0.449107   \n",
       "                                       947                                      0.429798   \n",
       "                                       1264                                     0.327150   \n",
       "                                       1260                                     0.327150   \n",
       "                                       1477                                     0.255693   \n",
       "                                       1482                                     0.255693   \n",
       "                                       1481                                     0.255693   \n",
       "                                       339                                      0.458700   \n",
       "                                       232                                      0.205728   \n",
       "                                       509                                      0.377497   \n",
       "                                       1450                                     0.495993   \n",
       "                                       1449                                     0.459448   \n",
       "                                       1454                                     0.459448   \n",
       "                                       1453                                     0.459448   \n",
       "                                       1261                                     0.320271   \n",
       "                                       108                                      0.467477   \n",
       "                                       727                                      0.456493   \n",
       "                                       1265                                     0.327150   \n",
       "                                       1551                                     0.151601   \n",
       "                                       1552                                     0.151601   \n",
       "                                       1547                                     0.151601   \n",
       "                                       504                                      0.377497   \n",
       "                                       77                                       0.313361   \n",
       "                                       81                                       0.313361   \n",
       "                                       82                                       0.313361   \n",
       "                                       1686                                     0.409870   \n",
       "                                       508                                      0.377497   \n",
       "                                       757                                      0.492669   \n",
       "                                       331                                      0.447100   \n",
       "                                       1146                                     0.311166   \n",
       "                                       1145                                     0.311166   \n",
       "                                       1141                                     0.311166   \n",
       "                                       79                                       0.313361   \n",
       "                                       1452                                     0.459448   \n",
       "                                       1568                                     0.496157   \n",
       "                                       1572                                     0.496157   \n",
       "                                       1573                                     0.496157   \n",
       "                                       1087                                     0.348753   \n",
       "                                       1536                                     0.353743   \n",
       "                                       667                                      0.487164   \n",
       "                                       198                                      0.298157   \n",
       "                                       820                                      0.426990   \n",
       "                                       1731                                     0.387512   \n",
       "                                       540                                      0.367159   \n",
       "                                       472                                      0.283529   \n",
       "                                       362                                      0.276386   \n",
       "                                       357                                      0.276386   \n",
       "                                       1478                                     0.196935   \n",
       "                                       24                                       0.294125   \n",
       "\n",
       "category                                                                     \\\n",
       "name                                              D1N1_lambda_temperature_0   \n",
       "Generation Is_From_Previous_Generation Individual                             \n",
       "0          False                       1107                        0.950077   \n",
       "                                       379                         0.535131   \n",
       "                                       947                         0.621509   \n",
       "                                       1264                        0.614409   \n",
       "                                       1260                        0.614409   \n",
       "                                       1477                        0.318917   \n",
       "                                       1482                        0.318917   \n",
       "                                       1481                        0.318917   \n",
       "                                       339                         0.672479   \n",
       "                                       232                         0.140842   \n",
       "                                       509                         0.649607   \n",
       "                                       1450                        0.139055   \n",
       "                                       1449                        0.139055   \n",
       "                                       1454                        0.139055   \n",
       "                                       1453                        0.139055   \n",
       "                                       1261                        0.614409   \n",
       "                                       108                         0.080503   \n",
       "                                       727                         0.013879   \n",
       "                                       1265                        0.614409   \n",
       "                                       1551                        0.121269   \n",
       "                                       1552                        0.121269   \n",
       "                                       1547                        0.121269   \n",
       "                                       504                         0.649607   \n",
       "                                       77                          0.291009   \n",
       "                                       81                          0.291009   \n",
       "                                       82                          0.291009   \n",
       "                                       1686                        0.885976   \n",
       "                                       508                         0.649607   \n",
       "                                       757                         0.525680   \n",
       "                                       331                         0.756746   \n",
       "                                       1146                        0.194237   \n",
       "                                       1145                        0.194237   \n",
       "                                       1141                        0.194237   \n",
       "                                       79                          0.307392   \n",
       "                                       1452                        0.139055   \n",
       "                                       1568                        0.865398   \n",
       "                                       1572                        0.865398   \n",
       "                                       1573                        0.865398   \n",
       "                                       1087                        0.169966   \n",
       "                                       1536                        0.233684   \n",
       "                                       667                         0.219230   \n",
       "                                       198                         0.407432   \n",
       "                                       820                         0.393760   \n",
       "                                       1731                        0.401342   \n",
       "                                       540                         0.211650   \n",
       "                                       472                         0.470724   \n",
       "                                       362                         0.096135   \n",
       "                                       357                         0.096135   \n",
       "                                       1478                        0.318917   \n",
       "                                       24                          0.125147   \n",
       "\n",
       "category                                                                         \\\n",
       "name                                              D1N1_gamma_lambda_temperature   \n",
       "Generation Is_From_Previous_Generation Individual                                 \n",
       "0          False                       1107                            0.007854   \n",
       "                                       379                             0.028464   \n",
       "                                       947                             0.016096   \n",
       "                                       1264                            0.002700   \n",
       "                                       1260                            0.002700   \n",
       "                                       1477                            0.013300   \n",
       "                                       1482                            0.013300   \n",
       "                                       1481                            0.013300   \n",
       "                                       339                             0.021963   \n",
       "                                       232                             0.040075   \n",
       "                                       509                             0.009802   \n",
       "                                       1450                            0.089020   \n",
       "                                       1449                            0.089020   \n",
       "                                       1454                            0.089020   \n",
       "                                       1453                            0.089020   \n",
       "                                       1261                            0.002700   \n",
       "                                       108                             0.113629   \n",
       "                                       727                             0.184407   \n",
       "                                       1265                            0.002700   \n",
       "                                       1551                            0.032972   \n",
       "                                       1552                            0.032972   \n",
       "                                       1547                            0.032972   \n",
       "                                       504                             0.009802   \n",
       "                                       77                              0.034913   \n",
       "                                       81                              0.034913   \n",
       "                                       82                              0.034913   \n",
       "                                       1686                            0.006142   \n",
       "                                       508                             0.009802   \n",
       "                                       757                             0.043571   \n",
       "                                       331                             0.005205   \n",
       "                                       1146                            0.053647   \n",
       "                                       1145                            0.053647   \n",
       "                                       1141                            0.053647   \n",
       "                                       79                              0.034913   \n",
       "                                       1452                            0.098069   \n",
       "                                       1568                            0.030421   \n",
       "                                       1572                            0.030421   \n",
       "                                       1573                            0.030421   \n",
       "                                       1087                            0.069142   \n",
       "                                       1536                            0.038189   \n",
       "                                       667                             0.060689   \n",
       "                                       198                             0.023363   \n",
       "                                       820                             0.051683   \n",
       "                                       1731                            0.042031   \n",
       "                                       540                             0.067194   \n",
       "                                       472                             0.016581   \n",
       "                                       362                             0.081917   \n",
       "                                       357                             0.081917   \n",
       "                                       1478                            0.013300   \n",
       "                                       24                              0.075356   \n",
       "\n",
       "category                                                                    \\\n",
       "name                                               D1N1_tr_0 D1N1_gamma_tr   \n",
       "Generation Is_From_Previous_Generation Individual                            \n",
       "0          False                       1107        21.931125     -0.395166   \n",
       "                                       379         26.126123     -0.286738   \n",
       "                                       947         11.971690     -0.302526   \n",
       "                                       1264        39.269089     -0.347637   \n",
       "                                       1260        48.516318     -0.347637   \n",
       "                                       1477        26.600830     -0.229325   \n",
       "                                       1482        26.600830     -0.496618   \n",
       "                                       1481        12.871642     -0.229325   \n",
       "                                       339          3.639478     -0.167358   \n",
       "                                       232          6.924560     -0.495011   \n",
       "                                       509         36.049948     -0.147258   \n",
       "                                       1450        33.646744     -0.316815   \n",
       "                                       1449        33.646744     -0.316815   \n",
       "                                       1454        33.646744     -0.234309   \n",
       "                                       1453         0.945783     -0.316815   \n",
       "                                       1261        48.516318     -0.347637   \n",
       "                                       108         20.874069     -0.443933   \n",
       "                                       727          5.462860     -0.254667   \n",
       "                                       1265        48.516318     -0.169162   \n",
       "                                       1551        48.216505     -0.145760   \n",
       "                                       1552        19.433610     -0.382740   \n",
       "                                       1547        19.433610     -0.145760   \n",
       "                                       504         36.049948     -0.014452   \n",
       "                                       77          33.467837     -0.263314   \n",
       "                                       81          20.372596     -0.263314   \n",
       "                                       82          33.467837     -0.115909   \n",
       "                                       1686        35.893389     -0.307553   \n",
       "                                       508         47.811948     -0.014452   \n",
       "                                       757         42.785280     -0.130413   \n",
       "                                       331         39.213610     -0.379272   \n",
       "                                       1146        18.523735     -0.405229   \n",
       "                                       1145        23.316302     -0.434107   \n",
       "                                       1141        18.523735     -0.434107   \n",
       "                                       79          33.467837     -0.263314   \n",
       "                                       1452        33.646744     -0.316815   \n",
       "                                       1568        15.062701     -0.184762   \n",
       "                                       1572        46.072352     -0.184762   \n",
       "                                       1573        15.062701     -0.372524   \n",
       "                                       1087         4.929164     -0.152237   \n",
       "                                       1536        47.831998     -0.276908   \n",
       "                                       667          5.886279     -0.205677   \n",
       "                                       198          2.718229     -0.456063   \n",
       "                                       820         29.307263     -0.037815   \n",
       "                                       1731        46.031842     -0.097744   \n",
       "                                       540         40.995941     -0.252995   \n",
       "                                       472         11.392247     -0.371651   \n",
       "                                       362         46.229054     -0.209542   \n",
       "                                       357         46.229054     -0.042347   \n",
       "                                       1478        26.600830     -0.229325   \n",
       "                                       24          42.100954     -0.247072   \n",
       "\n",
       "category                                                  Fitness  \\\n",
       "name                                              Hot climato Day   \n",
       "Generation Is_From_Previous_Generation Individual                   \n",
       "0          False                       1107              0.000011   \n",
       "                                       379               0.000012   \n",
       "                                       947               0.000013   \n",
       "                                       1264              0.000013   \n",
       "                                       1260              0.000013   \n",
       "                                       1477              0.000013   \n",
       "                                       1482              0.000013   \n",
       "                                       1481              0.000013   \n",
       "                                       339               0.000013   \n",
       "                                       232               0.000014   \n",
       "                                       509               0.000014   \n",
       "                                       1450              0.000014   \n",
       "                                       1449              0.000015   \n",
       "                                       1454              0.000015   \n",
       "                                       1453              0.000015   \n",
       "                                       1261              0.000015   \n",
       "                                       108               0.000015   \n",
       "                                       727               0.000015   \n",
       "                                       1265              0.000016   \n",
       "                                       1551              0.000017   \n",
       "                                       1552              0.000017   \n",
       "                                       1547              0.000017   \n",
       "                                       504               0.000018   \n",
       "                                       77                0.000019   \n",
       "                                       81                0.000019   \n",
       "                                       82                0.000019   \n",
       "                                       1686              0.000020   \n",
       "                                       508               0.000021   \n",
       "                                       757               0.000022   \n",
       "                                       331               0.000022   \n",
       "                                       1146              0.000023   \n",
       "                                       1145              0.000023   \n",
       "                                       1141              0.000023   \n",
       "                                       79                0.000023   \n",
       "                                       1452              0.000026   \n",
       "                                       1568              0.000027   \n",
       "                                       1572              0.000027   \n",
       "                                       1573              0.000027   \n",
       "                                       1087              0.000028   \n",
       "                                       1536              0.000028   \n",
       "                                       667               0.000029   \n",
       "                                       198               0.000029   \n",
       "                                       820               0.000033   \n",
       "                                       1731              0.000033   \n",
       "                                       540               0.000033   \n",
       "                                       472               0.000033   \n",
       "                                       362               0.000034   \n",
       "                                       357               0.000035   \n",
       "                                       1478              0.000035   \n",
       "                                       24                0.000035   \n",
       "\n",
       "category                                          Weighted_fitness  \n",
       "name                                              Weighted_fitness  \n",
       "Generation Is_From_Previous_Generation Individual                   \n",
       "0          False                       1107              -0.000011  \n",
       "                                       379               -0.000012  \n",
       "                                       947               -0.000013  \n",
       "                                       1264              -0.000013  \n",
       "                                       1260              -0.000013  \n",
       "                                       1477              -0.000013  \n",
       "                                       1482              -0.000013  \n",
       "                                       1481              -0.000013  \n",
       "                                       339               -0.000013  \n",
       "                                       232               -0.000014  \n",
       "                                       509               -0.000014  \n",
       "                                       1450              -0.000014  \n",
       "                                       1449              -0.000015  \n",
       "                                       1454              -0.000015  \n",
       "                                       1453              -0.000015  \n",
       "                                       1261              -0.000015  \n",
       "                                       108               -0.000015  \n",
       "                                       727               -0.000015  \n",
       "                                       1265              -0.000016  \n",
       "                                       1551              -0.000017  \n",
       "                                       1552              -0.000017  \n",
       "                                       1547              -0.000017  \n",
       "                                       504               -0.000018  \n",
       "                                       77                -0.000019  \n",
       "                                       81                -0.000019  \n",
       "                                       82                -0.000019  \n",
       "                                       1686              -0.000020  \n",
       "                                       508               -0.000021  \n",
       "                                       757               -0.000022  \n",
       "                                       331               -0.000022  \n",
       "                                       1146              -0.000023  \n",
       "                                       1145              -0.000023  \n",
       "                                       1141              -0.000023  \n",
       "                                       79                -0.000023  \n",
       "                                       1452              -0.000026  \n",
       "                                       1568              -0.000027  \n",
       "                                       1572              -0.000027  \n",
       "                                       1573              -0.000027  \n",
       "                                       1087              -0.000028  \n",
       "                                       1536              -0.000028  \n",
       "                                       667               -0.000029  \n",
       "                                       198               -0.000029  \n",
       "                                       820               -0.000033  \n",
       "                                       1731              -0.000033  \n",
       "                                       540               -0.000033  \n",
       "                                       472               -0.000033  \n",
       "                                       362               -0.000034  \n",
       "                                       357               -0.000035  \n",
       "                                       1478              -0.000035  \n",
       "                                       24                -0.000035  "
      ]
     },
     "execution_count": 19,
     "metadata": {},
     "output_type": "execute_result"
    }
   ],
   "source": [
    "viewer.hall_of_fame().iloc[:50]"
   ]
  },
  {
   "cell_type": "code",
   "execution_count": 20,
   "metadata": {},
   "outputs": [
    {
     "data": {
      "application/vnd.plotly.v1+json": {
       "config": {
        "plotlyServerURL": "https://plot.ly"
       },
       "data": [
        {
         "alignmentgroup": "True",
         "boxpoints": "all",
         "hovertemplate": "Generation=%{x}<br>Weighted_fitness=%{y}<extra></extra>",
         "legendgroup": "",
         "marker": {
          "color": "#636efa"
         },
         "name": "",
         "notched": false,
         "offsetgroup": "",
         "orientation": "v",
         "showlegend": false,
         "type": "box",
         "x": {
          "bdata": "AAAAAAAAAAAAAAAAAAAAAAAAAAAAAAAAAAAAAAAAAAAAAAAAAAAAAAAAAAAAAAAAAAAAAAAAAAAAAAAAAAAAAAAAAAAAAAAAAAAAAAAAAAAAAAAAAAAAAAAAAAAAAAAAAAAAAAAAAAAAAAAAAAAAAAAAAAAAAAAAAAAAAAAAAAAAAAAAAAAAAAAAAAAAAAAAAAAAAAAAAAAAAAAAAAAAAAAAAAAAAAAAAAAAAAAAAAAAAAAAAAAAAAAAAAAAAAAAAAAAAAAAAAAAAAAAAAAAAAAAAAAAAAAAAAAAAAAAAAAAAAAAAAAAAAAAAAAAAAAAAAAAAAAAAAAAAAAAAAAAAAAAAAAAAAAAAAAAAAAAAAAAAAAAAAAAAAAAAAAAAAAAAAAAAAAAAAAAAAAAAAAAAAAAAAAAAAAAAAAAAAAAAAAAAAAAAAAAAAAAAAAAAAAAAAAAAAAAAAAAAAAAAAAAAAAAAAAAAAAAAAAAAAAAAAAAAAAAAAAAAAAAAAAAAAAAAAAAAAAAAAAAAAAAAAAAAAAAAAAAAAAAAAAAAAAAAAAAAAAAAAAAAAAAAAAAAAAAAAAAAAAAAAAAAAAAAAAAAAAAAAAAAAAAAAAAAAAAAAAAAAAAAAAAAAAAAAAAAAAAAAAAAAAAAAAAAAAAAAAAAAAAAAAAAAAAAAAAAAAAAAAAAAAAAAAAAAAAAAAAAAAAAAAAAAAAAAAAAAAAAAAAAAAAAAAAAAAAAAAAAAAAAAAAAAAAAAAAAAAAAAAAAAAAAAAAAAAAAAAAAAAAAAAAAAAAAAAAAAAAAAAAAAAAAAAAAAAAAAAAAAAAAAAAAAAAAAAAAAAAAAAAAAAAAAAAAAAAAAAAAAAAAAAAAAAAAAAAAAAAAAAAAAAAAAAAAAAAAAAAAAAAAAAAAAAAAAAAAAAAAAAAAAAAAAAAAAAAAAAAAAAAAAAAAAAAAAAAAAAAAAAAAAAAAAAAAAAAAAAAAAAAAAAAAAAAAAAAAAAAAAAAAAAAAAAAAAAAAAAAAAAAAAAAAAAAAAAAAAAAAAAAAAAAAAAAAAAAAAAAAAAAAAAAAAAAAAAAAAAAAAAAAAAAAAAAAAAAAAAAAAAAAAAAAAAAAAAAAAAAAAAAAAAAAAAAAAAAAAAAAAAAAAAAAAAAAAAAAAAAAAAAAAAAAAAAAAAAAAAAAAAAAAAAAAAAAAAAAAAAAAAAAAAAAAAAAAAAAAAAAAAAAAAAAAAAAAAAAAAAAAAAAAAAAAAAAAAAAAAAAAAAAAAAAAAAAAAAAAAAAAAAAAAAAAAAAAAAAAAAAAAAAAAAAAAAAAAAAAAAAAAAAAAAAAAAAAAAAAAAAAAAAAAAAAAAAAAAAAAAAAAAAAAAAAAAAAAAAAAAAAAAAAAAAAAAAAAAAAAAAAAAAAAAAAAAAAAAAAAAAAAAAAAAAAAAAAAAAAAAAAAAAAAAAAAAAAAAAAAAAAAAAAAAAAAAAAAAAAAAAAAAAAAAAAAAAAAAAAAAAAAAAAAAAAAAAAAAAAAAAAAAAAAAAAAAAAAAAAAAAAAAAAAAAAAAAAAAAAAAAAAAAAAAAAAAAAAAAAAAAAAAAAAAAAAAAAAAAAAAAAAAAAAAAAAAAAAAAAAAAAAAAAAAAAAAAAAAAAAAAAAAAAAAAAAAAAAAAAAAAAAAAAAAAAAAAAAAAAAAAAAAAAAAAAAAAAAAAAAAAAAAAAAAAAAAAAAAAAAAAAAAAAAAAAAAAAAAAAAAAAAAAAAAAAAAAAAAAAAAAAAAAAAAAAAAAAAAAAAAAAAAAAAAAAAAAAAAAAAAAAAAAAAAAAAAAAAAAAAAAAAAAAAAAAAAAAAAAAAAAAAAAAAAAAAAAAAAAAAAAAAAAAAAAAAAAAAAAAAAAAAAAAAAAAAAAAAAAAAAAAAAAAAAAAAAAAAAAAAAAAAAAAAAAAAAAAAAAAAAAAAAAAAAAAAAAAAAAAAAAAAAAAAAAAAAAAAAAAAAAAAAAAAAAAAAAAAAAAAAAAAAAAAAAAAAAAAAAAAAAAAAAAAAAAAAAAAAAAAAAAAAAAAAAAAAAAAAAAAAAAAAAAAAAAAAAAAAAAAAAAAAAAAAAAAAAAAAAAAAAAAAAAAAAAAAAAAAAAAAAAAAAAAAAAAAAAAAAAAAAAAAAAAAAAAAAAAAAAAAAAAAAAAAAAAAAAAAAAAAAAAAAAAAAAAAAAAAAAAAAAAAAAAAAAAAAAAAAAAAAAAAAAAAAAAAAAAAAAAAAAAAAAAAAAAAAAAAAAAAAAAAAAAAAAAAAAAAAAAAAAAAAAAAAAAAAAAAAAAAAAAAAAAAAAAAAAAAAAAAAAAAAAAAAAAAAAAAAAAAAAAAAAAAAAAAAAAAAAAAAAAAAAAAAAAAAAAAAAAAAAAAAAAAAAEBAQEBAQEBAQE=",
          "dtype": "i1"
         },
         "x0": " ",
         "xaxis": "x",
         "y": {
          "bdata": "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",
          "dtype": "f8"
         },
         "y0": " ",
         "yaxis": "y"
        },
        {
         "line": {
          "color": "rgba(0,0,0,0.5)",
          "dash": "dash",
          "width": 2
         },
         "mode": "lines",
         "name": "Median",
         "type": "scatter",
         "x": {
          "bdata": "AAE=",
          "dtype": "i1"
         },
         "y": {
          "bdata": "YsDhOB7dGL+0vjt9DtkOvw==",
          "dtype": "f8"
         }
        }
       ],
       "layout": {
        "boxmode": "group",
        "legend": {
         "tracegroupgap": 0
        },
        "margin": {
         "t": 60
        },
        "template": {
         "data": {
          "bar": [
           {
            "error_x": {
             "color": "#2a3f5f"
            },
            "error_y": {
             "color": "#2a3f5f"
            },
            "marker": {
             "line": {
              "color": "#E5ECF6",
              "width": 0.5
             },
             "pattern": {
              "fillmode": "overlay",
              "size": 10,
              "solidity": 0.2
             }
            },
            "type": "bar"
           }
          ],
          "barpolar": [
           {
            "marker": {
             "line": {
              "color": "#E5ECF6",
              "width": 0.5
             },
             "pattern": {
              "fillmode": "overlay",
              "size": 10,
              "solidity": 0.2
             }
            },
            "type": "barpolar"
           }
          ],
          "carpet": [
           {
            "aaxis": {
             "endlinecolor": "#2a3f5f",
             "gridcolor": "white",
             "linecolor": "white",
             "minorgridcolor": "white",
             "startlinecolor": "#2a3f5f"
            },
            "baxis": {
             "endlinecolor": "#2a3f5f",
             "gridcolor": "white",
             "linecolor": "white",
             "minorgridcolor": "white",
             "startlinecolor": "#2a3f5f"
            },
            "type": "carpet"
           }
          ],
          "choropleth": [
           {
            "colorbar": {
             "outlinewidth": 0,
             "ticks": ""
            },
            "type": "choropleth"
           }
          ],
          "contour": [
           {
            "colorbar": {
             "outlinewidth": 0,
             "ticks": ""
            },
            "colorscale": [
             [
              0,
              "#0d0887"
             ],
             [
              0.1111111111111111,
              "#46039f"
             ],
             [
              0.2222222222222222,
              "#7201a8"
             ],
             [
              0.3333333333333333,
              "#9c179e"
             ],
             [
              0.4444444444444444,
              "#bd3786"
             ],
             [
              0.5555555555555556,
              "#d8576b"
             ],
             [
              0.6666666666666666,
              "#ed7953"
             ],
             [
              0.7777777777777778,
              "#fb9f3a"
             ],
             [
              0.8888888888888888,
              "#fdca26"
             ],
             [
              1,
              "#f0f921"
             ]
            ],
            "type": "contour"
           }
          ],
          "contourcarpet": [
           {
            "colorbar": {
             "outlinewidth": 0,
             "ticks": ""
            },
            "type": "contourcarpet"
           }
          ],
          "heatmap": [
           {
            "colorbar": {
             "outlinewidth": 0,
             "ticks": ""
            },
            "colorscale": [
             [
              0,
              "#0d0887"
             ],
             [
              0.1111111111111111,
              "#46039f"
             ],
             [
              0.2222222222222222,
              "#7201a8"
             ],
             [
              0.3333333333333333,
              "#9c179e"
             ],
             [
              0.4444444444444444,
              "#bd3786"
             ],
             [
              0.5555555555555556,
              "#d8576b"
             ],
             [
              0.6666666666666666,
              "#ed7953"
             ],
             [
              0.7777777777777778,
              "#fb9f3a"
             ],
             [
              0.8888888888888888,
              "#fdca26"
             ],
             [
              1,
              "#f0f921"
             ]
            ],
            "type": "heatmap"
           }
          ],
          "histogram": [
           {
            "marker": {
             "pattern": {
              "fillmode": "overlay",
              "size": 10,
              "solidity": 0.2
             }
            },
            "type": "histogram"
           }
          ],
          "histogram2d": [
           {
            "colorbar": {
             "outlinewidth": 0,
             "ticks": ""
            },
            "colorscale": [
             [
              0,
              "#0d0887"
             ],
             [
              0.1111111111111111,
              "#46039f"
             ],
             [
              0.2222222222222222,
              "#7201a8"
             ],
             [
              0.3333333333333333,
              "#9c179e"
             ],
             [
              0.4444444444444444,
              "#bd3786"
             ],
             [
              0.5555555555555556,
              "#d8576b"
             ],
             [
              0.6666666666666666,
              "#ed7953"
             ],
             [
              0.7777777777777778,
              "#fb9f3a"
             ],
             [
              0.8888888888888888,
              "#fdca26"
             ],
             [
              1,
              "#f0f921"
             ]
            ],
            "type": "histogram2d"
           }
          ],
          "histogram2dcontour": [
           {
            "colorbar": {
             "outlinewidth": 0,
             "ticks": ""
            },
            "colorscale": [
             [
              0,
              "#0d0887"
             ],
             [
              0.1111111111111111,
              "#46039f"
             ],
             [
              0.2222222222222222,
              "#7201a8"
             ],
             [
              0.3333333333333333,
              "#9c179e"
             ],
             [
              0.4444444444444444,
              "#bd3786"
             ],
             [
              0.5555555555555556,
              "#d8576b"
             ],
             [
              0.6666666666666666,
              "#ed7953"
             ],
             [
              0.7777777777777778,
              "#fb9f3a"
             ],
             [
              0.8888888888888888,
              "#fdca26"
             ],
             [
              1,
              "#f0f921"
             ]
            ],
            "type": "histogram2dcontour"
           }
          ],
          "mesh3d": [
           {
            "colorbar": {
             "outlinewidth": 0,
             "ticks": ""
            },
            "type": "mesh3d"
           }
          ],
          "parcoords": [
           {
            "line": {
             "colorbar": {
              "outlinewidth": 0,
              "ticks": ""
             }
            },
            "type": "parcoords"
           }
          ],
          "pie": [
           {
            "automargin": true,
            "type": "pie"
           }
          ],
          "scatter": [
           {
            "fillpattern": {
             "fillmode": "overlay",
             "size": 10,
             "solidity": 0.2
            },
            "type": "scatter"
           }
          ],
          "scatter3d": [
           {
            "line": {
             "colorbar": {
              "outlinewidth": 0,
              "ticks": ""
             }
            },
            "marker": {
             "colorbar": {
              "outlinewidth": 0,
              "ticks": ""
             }
            },
            "type": "scatter3d"
           }
          ],
          "scattercarpet": [
           {
            "marker": {
             "colorbar": {
              "outlinewidth": 0,
              "ticks": ""
             }
            },
            "type": "scattercarpet"
           }
          ],
          "scattergeo": [
           {
            "marker": {
             "colorbar": {
              "outlinewidth": 0,
              "ticks": ""
             }
            },
            "type": "scattergeo"
           }
          ],
          "scattergl": [
           {
            "marker": {
             "colorbar": {
              "outlinewidth": 0,
              "ticks": ""
             }
            },
            "type": "scattergl"
           }
          ],
          "scattermap": [
           {
            "marker": {
             "colorbar": {
              "outlinewidth": 0,
              "ticks": ""
             }
            },
            "type": "scattermap"
           }
          ],
          "scattermapbox": [
           {
            "marker": {
             "colorbar": {
              "outlinewidth": 0,
              "ticks": ""
             }
            },
            "type": "scattermapbox"
           }
          ],
          "scatterpolar": [
           {
            "marker": {
             "colorbar": {
              "outlinewidth": 0,
              "ticks": ""
             }
            },
            "type": "scatterpolar"
           }
          ],
          "scatterpolargl": [
           {
            "marker": {
             "colorbar": {
              "outlinewidth": 0,
              "ticks": ""
             }
            },
            "type": "scatterpolargl"
           }
          ],
          "scatterternary": [
           {
            "marker": {
             "colorbar": {
              "outlinewidth": 0,
              "ticks": ""
             }
            },
            "type": "scatterternary"
           }
          ],
          "surface": [
           {
            "colorbar": {
             "outlinewidth": 0,
             "ticks": ""
            },
            "colorscale": [
             [
              0,
              "#0d0887"
             ],
             [
              0.1111111111111111,
              "#46039f"
             ],
             [
              0.2222222222222222,
              "#7201a8"
             ],
             [
              0.3333333333333333,
              "#9c179e"
             ],
             [
              0.4444444444444444,
              "#bd3786"
             ],
             [
              0.5555555555555556,
              "#d8576b"
             ],
             [
              0.6666666666666666,
              "#ed7953"
             ],
             [
              0.7777777777777778,
              "#fb9f3a"
             ],
             [
              0.8888888888888888,
              "#fdca26"
             ],
             [
              1,
              "#f0f921"
             ]
            ],
            "type": "surface"
           }
          ],
          "table": [
           {
            "cells": {
             "fill": {
              "color": "#EBF0F8"
             },
             "line": {
              "color": "white"
             }
            },
            "header": {
             "fill": {
              "color": "#C8D4E3"
             },
             "line": {
              "color": "white"
             }
            },
            "type": "table"
           }
          ]
         },
         "layout": {
          "annotationdefaults": {
           "arrowcolor": "#2a3f5f",
           "arrowhead": 0,
           "arrowwidth": 1
          },
          "autotypenumbers": "strict",
          "coloraxis": {
           "colorbar": {
            "outlinewidth": 0,
            "ticks": ""
           }
          },
          "colorscale": {
           "diverging": [
            [
             0,
             "#8e0152"
            ],
            [
             0.1,
             "#c51b7d"
            ],
            [
             0.2,
             "#de77ae"
            ],
            [
             0.3,
             "#f1b6da"
            ],
            [
             0.4,
             "#fde0ef"
            ],
            [
             0.5,
             "#f7f7f7"
            ],
            [
             0.6,
             "#e6f5d0"
            ],
            [
             0.7,
             "#b8e186"
            ],
            [
             0.8,
             "#7fbc41"
            ],
            [
             0.9,
             "#4d9221"
            ],
            [
             1,
             "#276419"
            ]
           ],
           "sequential": [
            [
             0,
             "#0d0887"
            ],
            [
             0.1111111111111111,
             "#46039f"
            ],
            [
             0.2222222222222222,
             "#7201a8"
            ],
            [
             0.3333333333333333,
             "#9c179e"
            ],
            [
             0.4444444444444444,
             "#bd3786"
            ],
            [
             0.5555555555555556,
             "#d8576b"
            ],
            [
             0.6666666666666666,
             "#ed7953"
            ],
            [
             0.7777777777777778,
             "#fb9f3a"
            ],
            [
             0.8888888888888888,
             "#fdca26"
            ],
            [
             1,
             "#f0f921"
            ]
           ],
           "sequentialminus": [
            [
             0,
             "#0d0887"
            ],
            [
             0.1111111111111111,
             "#46039f"
            ],
            [
             0.2222222222222222,
             "#7201a8"
            ],
            [
             0.3333333333333333,
             "#9c179e"
            ],
            [
             0.4444444444444444,
             "#bd3786"
            ],
            [
             0.5555555555555556,
             "#d8576b"
            ],
            [
             0.6666666666666666,
             "#ed7953"
            ],
            [
             0.7777777777777778,
             "#fb9f3a"
            ],
            [
             0.8888888888888888,
             "#fdca26"
            ],
            [
             1,
             "#f0f921"
            ]
           ]
          },
          "colorway": [
           "#636efa",
           "#EF553B",
           "#00cc96",
           "#ab63fa",
           "#FFA15A",
           "#19d3f3",
           "#FF6692",
           "#B6E880",
           "#FF97FF",
           "#FECB52"
          ],
          "font": {
           "color": "#2a3f5f"
          },
          "geo": {
           "bgcolor": "white",
           "lakecolor": "white",
           "landcolor": "#E5ECF6",
           "showlakes": true,
           "showland": true,
           "subunitcolor": "white"
          },
          "hoverlabel": {
           "align": "left"
          },
          "hovermode": "closest",
          "mapbox": {
           "style": "light"
          },
          "paper_bgcolor": "white",
          "plot_bgcolor": "#E5ECF6",
          "polar": {
           "angularaxis": {
            "gridcolor": "white",
            "linecolor": "white",
            "ticks": ""
           },
           "bgcolor": "#E5ECF6",
           "radialaxis": {
            "gridcolor": "white",
            "linecolor": "white",
            "ticks": ""
           }
          },
          "scene": {
           "xaxis": {
            "backgroundcolor": "#E5ECF6",
            "gridcolor": "white",
            "gridwidth": 2,
            "linecolor": "white",
            "showbackground": true,
            "ticks": "",
            "zerolinecolor": "white"
           },
           "yaxis": {
            "backgroundcolor": "#E5ECF6",
            "gridcolor": "white",
            "gridwidth": 2,
            "linecolor": "white",
            "showbackground": true,
            "ticks": "",
            "zerolinecolor": "white"
           },
           "zaxis": {
            "backgroundcolor": "#E5ECF6",
            "gridcolor": "white",
            "gridwidth": 2,
            "linecolor": "white",
            "showbackground": true,
            "ticks": "",
            "zerolinecolor": "white"
           }
          },
          "shapedefaults": {
           "line": {
            "color": "#2a3f5f"
           }
          },
          "ternary": {
           "aaxis": {
            "gridcolor": "white",
            "linecolor": "white",
            "ticks": ""
           },
           "baxis": {
            "gridcolor": "white",
            "linecolor": "white",
            "ticks": ""
           },
           "bgcolor": "#E5ECF6",
           "caxis": {
            "gridcolor": "white",
            "linecolor": "white",
            "ticks": ""
           }
          },
          "title": {
           "x": 0.05
          },
          "xaxis": {
           "automargin": true,
           "gridcolor": "white",
           "linecolor": "white",
           "ticks": "",
           "title": {
            "standoff": 15
           },
           "zerolinecolor": "white",
           "zerolinewidth": 2
          },
          "yaxis": {
           "automargin": true,
           "gridcolor": "white",
           "linecolor": "white",
           "ticks": "",
           "title": {
            "standoff": 15
           },
           "zerolinecolor": "white",
           "zerolinewidth": 2
          }
         }
        },
        "title": {
         "text": "Fitness evolution"
        },
        "xaxis": {
         "anchor": "y",
         "domain": [
          0,
          1
         ],
         "title": {
          "text": "Generation"
         }
        },
        "yaxis": {
         "anchor": "x",
         "domain": [
          0,
          1
         ],
         "title": {
          "text": "Weighted_fitness"
         }
        }
       }
      }
     },
     "metadata": {},
     "output_type": "display_data"
    }
   ],
   "source": [
    "viewer.fitness_evolution(points=\"all\")"
   ]
  },
  {
   "cell_type": "code",
   "execution_count": 21,
   "metadata": {},
   "outputs": [
    {
     "data": {
      "application/vnd.plotly.v1+json": {
       "config": {
        "plotlyServerURL": "https://plot.ly"
       },
       "data": [
        {
         "orientation": "h",
         "type": "bar",
         "x": {
          "bdata": "GU7yOPl60j/4CN0++XrSPwZ38jb5etI/LYdyP/l60j/tFsrv+HrSPw==",
          "dtype": "f8"
         },
         "xaxis": "x",
         "y": [
          "D1N1_energy_transfert energy_transfert",
          "D1N1_lambda_temperature_0",
          "D1N1_gamma_lambda_temperature",
          "D1N1_tr_0",
          "D1N1_gamma_tr"
         ],
         "yaxis": "y"
        },
        {
         "orientation": "h",
         "type": "bar",
         "x": {
          "bdata": "nu6V9EuKxj8598iMvknOPz7NMvFUd80/7yy+UROO0D82bAp4a2XJPw==",
          "dtype": "f8"
         },
         "xaxis": "x2",
         "y": [
          "D1N1_energy_transfert energy_transfert",
          "D1N1_lambda_temperature_0",
          "D1N1_gamma_lambda_temperature",
          "D1N1_tr_0",
          "D1N1_gamma_tr"
         ],
         "yaxis": "y2"
        }
       ],
       "layout": {
        "annotations": [
         {
          "font": {
           "size": 16
          },
          "showarrow": false,
          "text": "Gen=0",
          "x": 0.225,
          "xanchor": "center",
          "xref": "paper",
          "y": 1,
          "yanchor": "bottom",
          "yref": "paper"
         },
         {
          "font": {
           "size": 16
          },
          "showarrow": false,
          "text": "Gen=1",
          "x": 0.775,
          "xanchor": "center",
          "xref": "paper",
          "y": 1,
          "yanchor": "bottom",
          "yref": "paper"
         }
        ],
        "showlegend": false,
        "template": {
         "data": {
          "bar": [
           {
            "error_x": {
             "color": "#2a3f5f"
            },
            "error_y": {
             "color": "#2a3f5f"
            },
            "marker": {
             "line": {
              "color": "#E5ECF6",
              "width": 0.5
             },
             "pattern": {
              "fillmode": "overlay",
              "size": 10,
              "solidity": 0.2
             }
            },
            "type": "bar"
           }
          ],
          "barpolar": [
           {
            "marker": {
             "line": {
              "color": "#E5ECF6",
              "width": 0.5
             },
             "pattern": {
              "fillmode": "overlay",
              "size": 10,
              "solidity": 0.2
             }
            },
            "type": "barpolar"
           }
          ],
          "carpet": [
           {
            "aaxis": {
             "endlinecolor": "#2a3f5f",
             "gridcolor": "white",
             "linecolor": "white",
             "minorgridcolor": "white",
             "startlinecolor": "#2a3f5f"
            },
            "baxis": {
             "endlinecolor": "#2a3f5f",
             "gridcolor": "white",
             "linecolor": "white",
             "minorgridcolor": "white",
             "startlinecolor": "#2a3f5f"
            },
            "type": "carpet"
           }
          ],
          "choropleth": [
           {
            "colorbar": {
             "outlinewidth": 0,
             "ticks": ""
            },
            "type": "choropleth"
           }
          ],
          "contour": [
           {
            "colorbar": {
             "outlinewidth": 0,
             "ticks": ""
            },
            "colorscale": [
             [
              0,
              "#0d0887"
             ],
             [
              0.1111111111111111,
              "#46039f"
             ],
             [
              0.2222222222222222,
              "#7201a8"
             ],
             [
              0.3333333333333333,
              "#9c179e"
             ],
             [
              0.4444444444444444,
              "#bd3786"
             ],
             [
              0.5555555555555556,
              "#d8576b"
             ],
             [
              0.6666666666666666,
              "#ed7953"
             ],
             [
              0.7777777777777778,
              "#fb9f3a"
             ],
             [
              0.8888888888888888,
              "#fdca26"
             ],
             [
              1,
              "#f0f921"
             ]
            ],
            "type": "contour"
           }
          ],
          "contourcarpet": [
           {
            "colorbar": {
             "outlinewidth": 0,
             "ticks": ""
            },
            "type": "contourcarpet"
           }
          ],
          "heatmap": [
           {
            "colorbar": {
             "outlinewidth": 0,
             "ticks": ""
            },
            "colorscale": [
             [
              0,
              "#0d0887"
             ],
             [
              0.1111111111111111,
              "#46039f"
             ],
             [
              0.2222222222222222,
              "#7201a8"
             ],
             [
              0.3333333333333333,
              "#9c179e"
             ],
             [
              0.4444444444444444,
              "#bd3786"
             ],
             [
              0.5555555555555556,
              "#d8576b"
             ],
             [
              0.6666666666666666,
              "#ed7953"
             ],
             [
              0.7777777777777778,
              "#fb9f3a"
             ],
             [
              0.8888888888888888,
              "#fdca26"
             ],
             [
              1,
              "#f0f921"
             ]
            ],
            "type": "heatmap"
           }
          ],
          "histogram": [
           {
            "marker": {
             "pattern": {
              "fillmode": "overlay",
              "size": 10,
              "solidity": 0.2
             }
            },
            "type": "histogram"
           }
          ],
          "histogram2d": [
           {
            "colorbar": {
             "outlinewidth": 0,
             "ticks": ""
            },
            "colorscale": [
             [
              0,
              "#0d0887"
             ],
             [
              0.1111111111111111,
              "#46039f"
             ],
             [
              0.2222222222222222,
              "#7201a8"
             ],
             [
              0.3333333333333333,
              "#9c179e"
             ],
             [
              0.4444444444444444,
              "#bd3786"
             ],
             [
              0.5555555555555556,
              "#d8576b"
             ],
             [
              0.6666666666666666,
              "#ed7953"
             ],
             [
              0.7777777777777778,
              "#fb9f3a"
             ],
             [
              0.8888888888888888,
              "#fdca26"
             ],
             [
              1,
              "#f0f921"
             ]
            ],
            "type": "histogram2d"
           }
          ],
          "histogram2dcontour": [
           {
            "colorbar": {
             "outlinewidth": 0,
             "ticks": ""
            },
            "colorscale": [
             [
              0,
              "#0d0887"
             ],
             [
              0.1111111111111111,
              "#46039f"
             ],
             [
              0.2222222222222222,
              "#7201a8"
             ],
             [
              0.3333333333333333,
              "#9c179e"
             ],
             [
              0.4444444444444444,
              "#bd3786"
             ],
             [
              0.5555555555555556,
              "#d8576b"
             ],
             [
              0.6666666666666666,
              "#ed7953"
             ],
             [
              0.7777777777777778,
              "#fb9f3a"
             ],
             [
              0.8888888888888888,
              "#fdca26"
             ],
             [
              1,
              "#f0f921"
             ]
            ],
            "type": "histogram2dcontour"
           }
          ],
          "mesh3d": [
           {
            "colorbar": {
             "outlinewidth": 0,
             "ticks": ""
            },
            "type": "mesh3d"
           }
          ],
          "parcoords": [
           {
            "line": {
             "colorbar": {
              "outlinewidth": 0,
              "ticks": ""
             }
            },
            "type": "parcoords"
           }
          ],
          "pie": [
           {
            "automargin": true,
            "type": "pie"
           }
          ],
          "scatter": [
           {
            "fillpattern": {
             "fillmode": "overlay",
             "size": 10,
             "solidity": 0.2
            },
            "type": "scatter"
           }
          ],
          "scatter3d": [
           {
            "line": {
             "colorbar": {
              "outlinewidth": 0,
              "ticks": ""
             }
            },
            "marker": {
             "colorbar": {
              "outlinewidth": 0,
              "ticks": ""
             }
            },
            "type": "scatter3d"
           }
          ],
          "scattercarpet": [
           {
            "marker": {
             "colorbar": {
              "outlinewidth": 0,
              "ticks": ""
             }
            },
            "type": "scattercarpet"
           }
          ],
          "scattergeo": [
           {
            "marker": {
             "colorbar": {
              "outlinewidth": 0,
              "ticks": ""
             }
            },
            "type": "scattergeo"
           }
          ],
          "scattergl": [
           {
            "marker": {
             "colorbar": {
              "outlinewidth": 0,
              "ticks": ""
             }
            },
            "type": "scattergl"
           }
          ],
          "scattermap": [
           {
            "marker": {
             "colorbar": {
              "outlinewidth": 0,
              "ticks": ""
             }
            },
            "type": "scattermap"
           }
          ],
          "scattermapbox": [
           {
            "marker": {
             "colorbar": {
              "outlinewidth": 0,
              "ticks": ""
             }
            },
            "type": "scattermapbox"
           }
          ],
          "scatterpolar": [
           {
            "marker": {
             "colorbar": {
              "outlinewidth": 0,
              "ticks": ""
             }
            },
            "type": "scatterpolar"
           }
          ],
          "scatterpolargl": [
           {
            "marker": {
             "colorbar": {
              "outlinewidth": 0,
              "ticks": ""
             }
            },
            "type": "scatterpolargl"
           }
          ],
          "scatterternary": [
           {
            "marker": {
             "colorbar": {
              "outlinewidth": 0,
              "ticks": ""
             }
            },
            "type": "scatterternary"
           }
          ],
          "surface": [
           {
            "colorbar": {
             "outlinewidth": 0,
             "ticks": ""
            },
            "colorscale": [
             [
              0,
              "#0d0887"
             ],
             [
              0.1111111111111111,
              "#46039f"
             ],
             [
              0.2222222222222222,
              "#7201a8"
             ],
             [
              0.3333333333333333,
              "#9c179e"
             ],
             [
              0.4444444444444444,
              "#bd3786"
             ],
             [
              0.5555555555555556,
              "#d8576b"
             ],
             [
              0.6666666666666666,
              "#ed7953"
             ],
             [
              0.7777777777777778,
              "#fb9f3a"
             ],
             [
              0.8888888888888888,
              "#fdca26"
             ],
             [
              1,
              "#f0f921"
             ]
            ],
            "type": "surface"
           }
          ],
          "table": [
           {
            "cells": {
             "fill": {
              "color": "#EBF0F8"
             },
             "line": {
              "color": "white"
             }
            },
            "header": {
             "fill": {
              "color": "#C8D4E3"
             },
             "line": {
              "color": "white"
             }
            },
            "type": "table"
           }
          ]
         },
         "layout": {
          "annotationdefaults": {
           "arrowcolor": "#2a3f5f",
           "arrowhead": 0,
           "arrowwidth": 1
          },
          "autotypenumbers": "strict",
          "coloraxis": {
           "colorbar": {
            "outlinewidth": 0,
            "ticks": ""
           }
          },
          "colorscale": {
           "diverging": [
            [
             0,
             "#8e0152"
            ],
            [
             0.1,
             "#c51b7d"
            ],
            [
             0.2,
             "#de77ae"
            ],
            [
             0.3,
             "#f1b6da"
            ],
            [
             0.4,
             "#fde0ef"
            ],
            [
             0.5,
             "#f7f7f7"
            ],
            [
             0.6,
             "#e6f5d0"
            ],
            [
             0.7,
             "#b8e186"
            ],
            [
             0.8,
             "#7fbc41"
            ],
            [
             0.9,
             "#4d9221"
            ],
            [
             1,
             "#276419"
            ]
           ],
           "sequential": [
            [
             0,
             "#0d0887"
            ],
            [
             0.1111111111111111,
             "#46039f"
            ],
            [
             0.2222222222222222,
             "#7201a8"
            ],
            [
             0.3333333333333333,
             "#9c179e"
            ],
            [
             0.4444444444444444,
             "#bd3786"
            ],
            [
             0.5555555555555556,
             "#d8576b"
            ],
            [
             0.6666666666666666,
             "#ed7953"
            ],
            [
             0.7777777777777778,
             "#fb9f3a"
            ],
            [
             0.8888888888888888,
             "#fdca26"
            ],
            [
             1,
             "#f0f921"
            ]
           ],
           "sequentialminus": [
            [
             0,
             "#0d0887"
            ],
            [
             0.1111111111111111,
             "#46039f"
            ],
            [
             0.2222222222222222,
             "#7201a8"
            ],
            [
             0.3333333333333333,
             "#9c179e"
            ],
            [
             0.4444444444444444,
             "#bd3786"
            ],
            [
             0.5555555555555556,
             "#d8576b"
            ],
            [
             0.6666666666666666,
             "#ed7953"
            ],
            [
             0.7777777777777778,
             "#fb9f3a"
            ],
            [
             0.8888888888888888,
             "#fdca26"
            ],
            [
             1,
             "#f0f921"
            ]
           ]
          },
          "colorway": [
           "#636efa",
           "#EF553B",
           "#00cc96",
           "#ab63fa",
           "#FFA15A",
           "#19d3f3",
           "#FF6692",
           "#B6E880",
           "#FF97FF",
           "#FECB52"
          ],
          "font": {
           "color": "#2a3f5f"
          },
          "geo": {
           "bgcolor": "white",
           "lakecolor": "white",
           "landcolor": "#E5ECF6",
           "showlakes": true,
           "showland": true,
           "subunitcolor": "white"
          },
          "hoverlabel": {
           "align": "left"
          },
          "hovermode": "closest",
          "mapbox": {
           "style": "light"
          },
          "paper_bgcolor": "white",
          "plot_bgcolor": "#E5ECF6",
          "polar": {
           "angularaxis": {
            "gridcolor": "white",
            "linecolor": "white",
            "ticks": ""
           },
           "bgcolor": "#E5ECF6",
           "radialaxis": {
            "gridcolor": "white",
            "linecolor": "white",
            "ticks": ""
           }
          },
          "scene": {
           "xaxis": {
            "backgroundcolor": "#E5ECF6",
            "gridcolor": "white",
            "gridwidth": 2,
            "linecolor": "white",
            "showbackground": true,
            "ticks": "",
            "zerolinecolor": "white"
           },
           "yaxis": {
            "backgroundcolor": "#E5ECF6",
            "gridcolor": "white",
            "gridwidth": 2,
            "linecolor": "white",
            "showbackground": true,
            "ticks": "",
            "zerolinecolor": "white"
           },
           "zaxis": {
            "backgroundcolor": "#E5ECF6",
            "gridcolor": "white",
            "gridwidth": 2,
            "linecolor": "white",
            "showbackground": true,
            "ticks": "",
            "zerolinecolor": "white"
           }
          },
          "shapedefaults": {
           "line": {
            "color": "#2a3f5f"
           }
          },
          "ternary": {
           "aaxis": {
            "gridcolor": "white",
            "linecolor": "white",
            "ticks": ""
           },
           "baxis": {
            "gridcolor": "white",
            "linecolor": "white",
            "ticks": ""
           },
           "bgcolor": "#E5ECF6",
           "caxis": {
            "gridcolor": "white",
            "linecolor": "white",
            "ticks": ""
           }
          },
          "title": {
           "x": 0.05
          },
          "xaxis": {
           "automargin": true,
           "gridcolor": "white",
           "linecolor": "white",
           "ticks": "",
           "title": {
            "standoff": 15
           },
           "zerolinecolor": "white",
           "zerolinewidth": 2
          },
          "yaxis": {
           "automargin": true,
           "gridcolor": "white",
           "linecolor": "white",
           "ticks": "",
           "title": {
            "standoff": 15
           },
           "zerolinecolor": "white",
           "zerolinewidth": 2
          }
         }
        },
        "title": {
         "text": "Standardized std of parameters by generation"
        },
        "xaxis": {
         "anchor": "y",
         "domain": [
          0,
          0.45
         ]
        },
        "xaxis2": {
         "anchor": "y2",
         "domain": [
          0.55,
          1
         ]
        },
        "yaxis": {
         "anchor": "x",
         "domain": [
          0,
          1
         ]
        },
        "yaxis2": {
         "anchor": "x2",
         "domain": [
          0,
          1
         ],
         "matches": "y",
         "showticklabels": false
        }
       }
      }
     },
     "metadata": {},
     "output_type": "display_data"
    }
   ],
   "source": [
    "viewer.parameters_standardized_deviation()"
   ]
  },
  {
   "cell_type": "code",
   "execution_count": 22,
   "metadata": {},
   "outputs": [
    {
     "data": {
      "application/vnd.plotly.v1+json": {
       "config": {
        "plotlyServerURL": "https://plot.ly"
       },
       "data": [
        {
         "fillpattern": {
          "shape": ""
         },
         "hovertemplate": "Variable=D1N1_energy_transfert energy_transfert<br>Generation=%{x}<br>Entropy=%{y}<extra></extra>",
         "legendgroup": "D1N1_energy_transfert energy_transfert",
         "line": {
          "color": "#636efa"
         },
         "marker": {
          "symbol": "circle"
         },
         "mode": "lines+markers",
         "name": "D1N1_energy_transfert energy_transfert",
         "orientation": "v",
         "showlegend": true,
         "stackgroup": "1",
         "type": "scatter",
         "x": {
          "bdata": "AAE=",
          "dtype": "i1"
         },
         "xaxis": "x",
         "y": {
          "bdata": "IIqIx+OSGEAZus27sWsCQA==",
          "dtype": "f8"
         },
         "yaxis": "y"
        },
        {
         "fillpattern": {
          "shape": ""
         },
         "hovertemplate": "Variable=D1N1_lambda_temperature_0<br>Generation=%{x}<br>Entropy=%{y}<extra></extra>",
         "legendgroup": "D1N1_lambda_temperature_0",
         "line": {
          "color": "#EF553B"
         },
         "marker": {
          "symbol": "circle"
         },
         "mode": "lines+markers",
         "name": "D1N1_lambda_temperature_0",
         "orientation": "v",
         "showlegend": true,
         "stackgroup": "1",
         "type": "scatter",
         "x": {
          "bdata": "AAE=",
          "dtype": "i1"
         },
         "xaxis": "x",
         "y": {
          "bdata": "cg8QhhqOGEAnIAT8x08BQA==",
          "dtype": "f8"
         },
         "yaxis": "y"
        },
        {
         "fillpattern": {
          "shape": ""
         },
         "hovertemplate": "Variable=D1N1_gamma_lambda_temperature<br>Generation=%{x}<br>Entropy=%{y}<extra></extra>",
         "legendgroup": "D1N1_gamma_lambda_temperature",
         "line": {
          "color": "#00cc96"
         },
         "marker": {
          "symbol": "circle"
         },
         "mode": "lines+markers",
         "name": "D1N1_gamma_lambda_temperature",
         "orientation": "v",
         "showlegend": true,
         "stackgroup": "1",
         "type": "scatter",
         "x": {
          "bdata": "AAE=",
          "dtype": "i1"
         },
         "xaxis": "x",
         "y": {
          "bdata": "CKb3hRqOGECdy/D7x08BQA==",
          "dtype": "f8"
         },
         "yaxis": "y"
        },
        {
         "fillpattern": {
          "shape": ""
         },
         "hovertemplate": "Variable=D1N1_tr_0<br>Generation=%{x}<br>Entropy=%{y}<extra></extra>",
         "legendgroup": "D1N1_tr_0",
         "line": {
          "color": "#ab63fa"
         },
         "marker": {
          "symbol": "circle"
         },
         "mode": "lines+markers",
         "name": "D1N1_tr_0",
         "orientation": "v",
         "showlegend": true,
         "stackgroup": "1",
         "type": "scatter",
         "x": {
          "bdata": "AAE=",
          "dtype": "i1"
         },
         "xaxis": "x",
         "y": {
          "bdata": "gQrsz+OSGED4JJgLyE8BQA==",
          "dtype": "f8"
         },
         "yaxis": "y"
        },
        {
         "fillpattern": {
          "shape": ""
         },
         "hovertemplate": "Variable=D1N1_gamma_tr<br>Generation=%{x}<br>Entropy=%{y}<extra></extra>",
         "legendgroup": "D1N1_gamma_tr",
         "line": {
          "color": "#FFA15A"
         },
         "marker": {
          "symbol": "circle"
         },
         "mode": "lines+markers",
         "name": "D1N1_gamma_tr",
         "orientation": "v",
         "showlegend": true,
         "stackgroup": "1",
         "type": "scatter",
         "x": {
          "bdata": "AAE=",
          "dtype": "i1"
         },
         "xaxis": "x",
         "y": {
          "bdata": "MnWIx+OSGEDSj967sWsCQA==",
          "dtype": "f8"
         },
         "yaxis": "y"
        }
       ],
       "layout": {
        "legend": {
         "title": {
          "text": "Variable"
         },
         "tracegroupgap": 0
        },
        "plot_bgcolor": "rgba(0, 0, 0, 0)",
        "template": {
         "data": {
          "bar": [
           {
            "error_x": {
             "color": "#2a3f5f"
            },
            "error_y": {
             "color": "#2a3f5f"
            },
            "marker": {
             "line": {
              "color": "#E5ECF6",
              "width": 0.5
             },
             "pattern": {
              "fillmode": "overlay",
              "size": 10,
              "solidity": 0.2
             }
            },
            "type": "bar"
           }
          ],
          "barpolar": [
           {
            "marker": {
             "line": {
              "color": "#E5ECF6",
              "width": 0.5
             },
             "pattern": {
              "fillmode": "overlay",
              "size": 10,
              "solidity": 0.2
             }
            },
            "type": "barpolar"
           }
          ],
          "carpet": [
           {
            "aaxis": {
             "endlinecolor": "#2a3f5f",
             "gridcolor": "white",
             "linecolor": "white",
             "minorgridcolor": "white",
             "startlinecolor": "#2a3f5f"
            },
            "baxis": {
             "endlinecolor": "#2a3f5f",
             "gridcolor": "white",
             "linecolor": "white",
             "minorgridcolor": "white",
             "startlinecolor": "#2a3f5f"
            },
            "type": "carpet"
           }
          ],
          "choropleth": [
           {
            "colorbar": {
             "outlinewidth": 0,
             "ticks": ""
            },
            "type": "choropleth"
           }
          ],
          "contour": [
           {
            "colorbar": {
             "outlinewidth": 0,
             "ticks": ""
            },
            "colorscale": [
             [
              0,
              "#0d0887"
             ],
             [
              0.1111111111111111,
              "#46039f"
             ],
             [
              0.2222222222222222,
              "#7201a8"
             ],
             [
              0.3333333333333333,
              "#9c179e"
             ],
             [
              0.4444444444444444,
              "#bd3786"
             ],
             [
              0.5555555555555556,
              "#d8576b"
             ],
             [
              0.6666666666666666,
              "#ed7953"
             ],
             [
              0.7777777777777778,
              "#fb9f3a"
             ],
             [
              0.8888888888888888,
              "#fdca26"
             ],
             [
              1,
              "#f0f921"
             ]
            ],
            "type": "contour"
           }
          ],
          "contourcarpet": [
           {
            "colorbar": {
             "outlinewidth": 0,
             "ticks": ""
            },
            "type": "contourcarpet"
           }
          ],
          "heatmap": [
           {
            "colorbar": {
             "outlinewidth": 0,
             "ticks": ""
            },
            "colorscale": [
             [
              0,
              "#0d0887"
             ],
             [
              0.1111111111111111,
              "#46039f"
             ],
             [
              0.2222222222222222,
              "#7201a8"
             ],
             [
              0.3333333333333333,
              "#9c179e"
             ],
             [
              0.4444444444444444,
              "#bd3786"
             ],
             [
              0.5555555555555556,
              "#d8576b"
             ],
             [
              0.6666666666666666,
              "#ed7953"
             ],
             [
              0.7777777777777778,
              "#fb9f3a"
             ],
             [
              0.8888888888888888,
              "#fdca26"
             ],
             [
              1,
              "#f0f921"
             ]
            ],
            "type": "heatmap"
           }
          ],
          "histogram": [
           {
            "marker": {
             "pattern": {
              "fillmode": "overlay",
              "size": 10,
              "solidity": 0.2
             }
            },
            "type": "histogram"
           }
          ],
          "histogram2d": [
           {
            "colorbar": {
             "outlinewidth": 0,
             "ticks": ""
            },
            "colorscale": [
             [
              0,
              "#0d0887"
             ],
             [
              0.1111111111111111,
              "#46039f"
             ],
             [
              0.2222222222222222,
              "#7201a8"
             ],
             [
              0.3333333333333333,
              "#9c179e"
             ],
             [
              0.4444444444444444,
              "#bd3786"
             ],
             [
              0.5555555555555556,
              "#d8576b"
             ],
             [
              0.6666666666666666,
              "#ed7953"
             ],
             [
              0.7777777777777778,
              "#fb9f3a"
             ],
             [
              0.8888888888888888,
              "#fdca26"
             ],
             [
              1,
              "#f0f921"
             ]
            ],
            "type": "histogram2d"
           }
          ],
          "histogram2dcontour": [
           {
            "colorbar": {
             "outlinewidth": 0,
             "ticks": ""
            },
            "colorscale": [
             [
              0,
              "#0d0887"
             ],
             [
              0.1111111111111111,
              "#46039f"
             ],
             [
              0.2222222222222222,
              "#7201a8"
             ],
             [
              0.3333333333333333,
              "#9c179e"
             ],
             [
              0.4444444444444444,
              "#bd3786"
             ],
             [
              0.5555555555555556,
              "#d8576b"
             ],
             [
              0.6666666666666666,
              "#ed7953"
             ],
             [
              0.7777777777777778,
              "#fb9f3a"
             ],
             [
              0.8888888888888888,
              "#fdca26"
             ],
             [
              1,
              "#f0f921"
             ]
            ],
            "type": "histogram2dcontour"
           }
          ],
          "mesh3d": [
           {
            "colorbar": {
             "outlinewidth": 0,
             "ticks": ""
            },
            "type": "mesh3d"
           }
          ],
          "parcoords": [
           {
            "line": {
             "colorbar": {
              "outlinewidth": 0,
              "ticks": ""
             }
            },
            "type": "parcoords"
           }
          ],
          "pie": [
           {
            "automargin": true,
            "type": "pie"
           }
          ],
          "scatter": [
           {
            "fillpattern": {
             "fillmode": "overlay",
             "size": 10,
             "solidity": 0.2
            },
            "type": "scatter"
           }
          ],
          "scatter3d": [
           {
            "line": {
             "colorbar": {
              "outlinewidth": 0,
              "ticks": ""
             }
            },
            "marker": {
             "colorbar": {
              "outlinewidth": 0,
              "ticks": ""
             }
            },
            "type": "scatter3d"
           }
          ],
          "scattercarpet": [
           {
            "marker": {
             "colorbar": {
              "outlinewidth": 0,
              "ticks": ""
             }
            },
            "type": "scattercarpet"
           }
          ],
          "scattergeo": [
           {
            "marker": {
             "colorbar": {
              "outlinewidth": 0,
              "ticks": ""
             }
            },
            "type": "scattergeo"
           }
          ],
          "scattergl": [
           {
            "marker": {
             "colorbar": {
              "outlinewidth": 0,
              "ticks": ""
             }
            },
            "type": "scattergl"
           }
          ],
          "scattermap": [
           {
            "marker": {
             "colorbar": {
              "outlinewidth": 0,
              "ticks": ""
             }
            },
            "type": "scattermap"
           }
          ],
          "scattermapbox": [
           {
            "marker": {
             "colorbar": {
              "outlinewidth": 0,
              "ticks": ""
             }
            },
            "type": "scattermapbox"
           }
          ],
          "scatterpolar": [
           {
            "marker": {
             "colorbar": {
              "outlinewidth": 0,
              "ticks": ""
             }
            },
            "type": "scatterpolar"
           }
          ],
          "scatterpolargl": [
           {
            "marker": {
             "colorbar": {
              "outlinewidth": 0,
              "ticks": ""
             }
            },
            "type": "scatterpolargl"
           }
          ],
          "scatterternary": [
           {
            "marker": {
             "colorbar": {
              "outlinewidth": 0,
              "ticks": ""
             }
            },
            "type": "scatterternary"
           }
          ],
          "surface": [
           {
            "colorbar": {
             "outlinewidth": 0,
             "ticks": ""
            },
            "colorscale": [
             [
              0,
              "#0d0887"
             ],
             [
              0.1111111111111111,
              "#46039f"
             ],
             [
              0.2222222222222222,
              "#7201a8"
             ],
             [
              0.3333333333333333,
              "#9c179e"
             ],
             [
              0.4444444444444444,
              "#bd3786"
             ],
             [
              0.5555555555555556,
              "#d8576b"
             ],
             [
              0.6666666666666666,
              "#ed7953"
             ],
             [
              0.7777777777777778,
              "#fb9f3a"
             ],
             [
              0.8888888888888888,
              "#fdca26"
             ],
             [
              1,
              "#f0f921"
             ]
            ],
            "type": "surface"
           }
          ],
          "table": [
           {
            "cells": {
             "fill": {
              "color": "#EBF0F8"
             },
             "line": {
              "color": "white"
             }
            },
            "header": {
             "fill": {
              "color": "#C8D4E3"
             },
             "line": {
              "color": "white"
             }
            },
            "type": "table"
           }
          ]
         },
         "layout": {
          "annotationdefaults": {
           "arrowcolor": "#2a3f5f",
           "arrowhead": 0,
           "arrowwidth": 1
          },
          "autotypenumbers": "strict",
          "coloraxis": {
           "colorbar": {
            "outlinewidth": 0,
            "ticks": ""
           }
          },
          "colorscale": {
           "diverging": [
            [
             0,
             "#8e0152"
            ],
            [
             0.1,
             "#c51b7d"
            ],
            [
             0.2,
             "#de77ae"
            ],
            [
             0.3,
             "#f1b6da"
            ],
            [
             0.4,
             "#fde0ef"
            ],
            [
             0.5,
             "#f7f7f7"
            ],
            [
             0.6,
             "#e6f5d0"
            ],
            [
             0.7,
             "#b8e186"
            ],
            [
             0.8,
             "#7fbc41"
            ],
            [
             0.9,
             "#4d9221"
            ],
            [
             1,
             "#276419"
            ]
           ],
           "sequential": [
            [
             0,
             "#0d0887"
            ],
            [
             0.1111111111111111,
             "#46039f"
            ],
            [
             0.2222222222222222,
             "#7201a8"
            ],
            [
             0.3333333333333333,
             "#9c179e"
            ],
            [
             0.4444444444444444,
             "#bd3786"
            ],
            [
             0.5555555555555556,
             "#d8576b"
            ],
            [
             0.6666666666666666,
             "#ed7953"
            ],
            [
             0.7777777777777778,
             "#fb9f3a"
            ],
            [
             0.8888888888888888,
             "#fdca26"
            ],
            [
             1,
             "#f0f921"
            ]
           ],
           "sequentialminus": [
            [
             0,
             "#0d0887"
            ],
            [
             0.1111111111111111,
             "#46039f"
            ],
            [
             0.2222222222222222,
             "#7201a8"
            ],
            [
             0.3333333333333333,
             "#9c179e"
            ],
            [
             0.4444444444444444,
             "#bd3786"
            ],
            [
             0.5555555555555556,
             "#d8576b"
            ],
            [
             0.6666666666666666,
             "#ed7953"
            ],
            [
             0.7777777777777778,
             "#fb9f3a"
            ],
            [
             0.8888888888888888,
             "#fdca26"
            ],
            [
             1,
             "#f0f921"
            ]
           ]
          },
          "colorway": [
           "#636efa",
           "#EF553B",
           "#00cc96",
           "#ab63fa",
           "#FFA15A",
           "#19d3f3",
           "#FF6692",
           "#B6E880",
           "#FF97FF",
           "#FECB52"
          ],
          "font": {
           "color": "#2a3f5f"
          },
          "geo": {
           "bgcolor": "white",
           "lakecolor": "white",
           "landcolor": "#E5ECF6",
           "showlakes": true,
           "showland": true,
           "subunitcolor": "white"
          },
          "hoverlabel": {
           "align": "left"
          },
          "hovermode": "closest",
          "mapbox": {
           "style": "light"
          },
          "paper_bgcolor": "white",
          "plot_bgcolor": "#E5ECF6",
          "polar": {
           "angularaxis": {
            "gridcolor": "white",
            "linecolor": "white",
            "ticks": ""
           },
           "bgcolor": "#E5ECF6",
           "radialaxis": {
            "gridcolor": "white",
            "linecolor": "white",
            "ticks": ""
           }
          },
          "scene": {
           "xaxis": {
            "backgroundcolor": "#E5ECF6",
            "gridcolor": "white",
            "gridwidth": 2,
            "linecolor": "white",
            "showbackground": true,
            "ticks": "",
            "zerolinecolor": "white"
           },
           "yaxis": {
            "backgroundcolor": "#E5ECF6",
            "gridcolor": "white",
            "gridwidth": 2,
            "linecolor": "white",
            "showbackground": true,
            "ticks": "",
            "zerolinecolor": "white"
           },
           "zaxis": {
            "backgroundcolor": "#E5ECF6",
            "gridcolor": "white",
            "gridwidth": 2,
            "linecolor": "white",
            "showbackground": true,
            "ticks": "",
            "zerolinecolor": "white"
           }
          },
          "shapedefaults": {
           "line": {
            "color": "#2a3f5f"
           }
          },
          "ternary": {
           "aaxis": {
            "gridcolor": "white",
            "linecolor": "white",
            "ticks": ""
           },
           "baxis": {
            "gridcolor": "white",
            "linecolor": "white",
            "ticks": ""
           },
           "bgcolor": "#E5ECF6",
           "caxis": {
            "gridcolor": "white",
            "linecolor": "white",
            "ticks": ""
           }
          },
          "title": {
           "x": 0.05
          },
          "xaxis": {
           "automargin": true,
           "gridcolor": "white",
           "linecolor": "white",
           "ticks": "",
           "title": {
            "standoff": 15
           },
           "zerolinecolor": "white",
           "zerolinewidth": 2
          },
          "yaxis": {
           "automargin": true,
           "gridcolor": "white",
           "linecolor": "white",
           "ticks": "",
           "title": {
            "standoff": 15
           },
           "zerolinecolor": "white",
           "zerolinewidth": 2
          }
         }
        },
        "title": {
         "text": "Shannon entropy of parameter distributions"
        },
        "xaxis": {
         "anchor": "y",
         "domain": [
          0,
          1
         ],
         "showgrid": false,
         "title": {
          "text": "Generation"
         }
        },
        "yaxis": {
         "anchor": "x",
         "domain": [
          0,
          1
         ],
         "showgrid": false,
         "title": {
          "text": "Entropy"
         }
        }
       }
      }
     },
     "metadata": {},
     "output_type": "display_data"
    }
   ],
   "source": [
    "viewer.shannon_entropy(bins=100_000)"
   ]
  },
  {
   "cell_type": "code",
   "execution_count": 23,
   "metadata": {},
   "outputs": [
    {
     "data": {
      "application/vnd.plotly.v1+json": {
       "config": {
        "plotlyServerURL": "https://plot.ly"
       },
       "data": [
        {
         "alignmentgroup": "True",
         "hovertemplate": "D1N1_energy_transfert energy_transfert=%{y}<extra></extra>",
         "legendgroup": "",
         "marker": {
          "color": "#636efa"
         },
         "name": "",
         "notched": false,
         "offsetgroup": "",
         "orientation": "v",
         "showlegend": false,
         "type": "box",
         "x0": " ",
         "xaxis": "x",
         "y": {
          "bdata": "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",
          "dtype": "f8"
         },
         "y0": " ",
         "yaxis": "y"
        },
        {
         "alignmentgroup": "True",
         "hovertemplate": "D1N1_lambda_temperature_0=%{y}<extra></extra>",
         "legendgroup": "",
         "marker": {
          "color": "#636efa"
         },
         "name": "",
         "notched": false,
         "offsetgroup": "",
         "orientation": "v",
         "showlegend": false,
         "type": "box",
         "x0": " ",
         "xaxis": "x2",
         "y": {
          "bdata": "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",
          "dtype": "f8"
         },
         "y0": " ",
         "yaxis": "y2"
        },
        {
         "alignmentgroup": "True",
         "hovertemplate": "D1N1_gamma_lambda_temperature=%{y}<extra></extra>",
         "legendgroup": "",
         "marker": {
          "color": "#636efa"
         },
         "name": "",
         "notched": false,
         "offsetgroup": "",
         "orientation": "v",
         "showlegend": false,
         "type": "box",
         "x0": " ",
         "xaxis": "x3",
         "y": {
          "bdata": "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",
          "dtype": "f8"
         },
         "y0": " ",
         "yaxis": "y3"
        },
        {
         "alignmentgroup": "True",
         "hovertemplate": "D1N1_tr_0=%{y}<extra></extra>",
         "legendgroup": "",
         "marker": {
          "color": "#636efa"
         },
         "name": "",
         "notched": false,
         "offsetgroup": "",
         "orientation": "v",
         "showlegend": false,
         "type": "box",
         "x0": " ",
         "xaxis": "x4",
         "y": {
          "bdata": "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",
          "dtype": "f8"
         },
         "y0": " ",
         "yaxis": "y4"
        },
        {
         "alignmentgroup": "True",
         "hovertemplate": "D1N1_gamma_tr=%{y}<extra></extra>",
         "legendgroup": "",
         "marker": {
          "color": "#636efa"
         },
         "name": "",
         "notched": false,
         "offsetgroup": "",
         "orientation": "v",
         "showlegend": false,
         "type": "box",
         "x0": " ",
         "xaxis": "x5",
         "y": {
          "bdata": "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",
          "dtype": "f8"
         },
         "y0": " ",
         "yaxis": "y5"
        }
       ],
       "layout": {
        "annotations": [
         {
          "font": {
           "size": 16
          },
          "showarrow": false,
          "text": "D1N1_energy_transfert energy_transfert",
          "x": 0.13333333333333333,
          "xanchor": "center",
          "xref": "paper",
          "y": 1,
          "yanchor": "bottom",
          "yref": "paper"
         },
         {
          "font": {
           "size": 16
          },
          "showarrow": false,
          "text": "D1N1_lambda_temperature_0",
          "x": 0.5,
          "xanchor": "center",
          "xref": "paper",
          "y": 1,
          "yanchor": "bottom",
          "yref": "paper"
         },
         {
          "font": {
           "size": 16
          },
          "showarrow": false,
          "text": "D1N1_gamma_lambda_temperature",
          "x": 0.8666666666666667,
          "xanchor": "center",
          "xref": "paper",
          "y": 1,
          "yanchor": "bottom",
          "yref": "paper"
         },
         {
          "font": {
           "size": 16
          },
          "showarrow": false,
          "text": "D1N1_tr_0",
          "x": 0.13333333333333333,
          "xanchor": "center",
          "xref": "paper",
          "y": 0.45,
          "yanchor": "bottom",
          "yref": "paper"
         },
         {
          "font": {
           "size": 16
          },
          "showarrow": false,
          "text": "D1N1_gamma_tr",
          "x": 0.5,
          "xanchor": "center",
          "xref": "paper",
          "y": 0.45,
          "yanchor": "bottom",
          "yref": "paper"
         }
        ],
        "height": 600,
        "template": {
         "data": {
          "bar": [
           {
            "error_x": {
             "color": "#2a3f5f"
            },
            "error_y": {
             "color": "#2a3f5f"
            },
            "marker": {
             "line": {
              "color": "#E5ECF6",
              "width": 0.5
             },
             "pattern": {
              "fillmode": "overlay",
              "size": 10,
              "solidity": 0.2
             }
            },
            "type": "bar"
           }
          ],
          "barpolar": [
           {
            "marker": {
             "line": {
              "color": "#E5ECF6",
              "width": 0.5
             },
             "pattern": {
              "fillmode": "overlay",
              "size": 10,
              "solidity": 0.2
             }
            },
            "type": "barpolar"
           }
          ],
          "carpet": [
           {
            "aaxis": {
             "endlinecolor": "#2a3f5f",
             "gridcolor": "white",
             "linecolor": "white",
             "minorgridcolor": "white",
             "startlinecolor": "#2a3f5f"
            },
            "baxis": {
             "endlinecolor": "#2a3f5f",
             "gridcolor": "white",
             "linecolor": "white",
             "minorgridcolor": "white",
             "startlinecolor": "#2a3f5f"
            },
            "type": "carpet"
           }
          ],
          "choropleth": [
           {
            "colorbar": {
             "outlinewidth": 0,
             "ticks": ""
            },
            "type": "choropleth"
           }
          ],
          "contour": [
           {
            "colorbar": {
             "outlinewidth": 0,
             "ticks": ""
            },
            "colorscale": [
             [
              0,
              "#0d0887"
             ],
             [
              0.1111111111111111,
              "#46039f"
             ],
             [
              0.2222222222222222,
              "#7201a8"
             ],
             [
              0.3333333333333333,
              "#9c179e"
             ],
             [
              0.4444444444444444,
              "#bd3786"
             ],
             [
              0.5555555555555556,
              "#d8576b"
             ],
             [
              0.6666666666666666,
              "#ed7953"
             ],
             [
              0.7777777777777778,
              "#fb9f3a"
             ],
             [
              0.8888888888888888,
              "#fdca26"
             ],
             [
              1,
              "#f0f921"
             ]
            ],
            "type": "contour"
           }
          ],
          "contourcarpet": [
           {
            "colorbar": {
             "outlinewidth": 0,
             "ticks": ""
            },
            "type": "contourcarpet"
           }
          ],
          "heatmap": [
           {
            "colorbar": {
             "outlinewidth": 0,
             "ticks": ""
            },
            "colorscale": [
             [
              0,
              "#0d0887"
             ],
             [
              0.1111111111111111,
              "#46039f"
             ],
             [
              0.2222222222222222,
              "#7201a8"
             ],
             [
              0.3333333333333333,
              "#9c179e"
             ],
             [
              0.4444444444444444,
              "#bd3786"
             ],
             [
              0.5555555555555556,
              "#d8576b"
             ],
             [
              0.6666666666666666,
              "#ed7953"
             ],
             [
              0.7777777777777778,
              "#fb9f3a"
             ],
             [
              0.8888888888888888,
              "#fdca26"
             ],
             [
              1,
              "#f0f921"
             ]
            ],
            "type": "heatmap"
           }
          ],
          "histogram": [
           {
            "marker": {
             "pattern": {
              "fillmode": "overlay",
              "size": 10,
              "solidity": 0.2
             }
            },
            "type": "histogram"
           }
          ],
          "histogram2d": [
           {
            "colorbar": {
             "outlinewidth": 0,
             "ticks": ""
            },
            "colorscale": [
             [
              0,
              "#0d0887"
             ],
             [
              0.1111111111111111,
              "#46039f"
             ],
             [
              0.2222222222222222,
              "#7201a8"
             ],
             [
              0.3333333333333333,
              "#9c179e"
             ],
             [
              0.4444444444444444,
              "#bd3786"
             ],
             [
              0.5555555555555556,
              "#d8576b"
             ],
             [
              0.6666666666666666,
              "#ed7953"
             ],
             [
              0.7777777777777778,
              "#fb9f3a"
             ],
             [
              0.8888888888888888,
              "#fdca26"
             ],
             [
              1,
              "#f0f921"
             ]
            ],
            "type": "histogram2d"
           }
          ],
          "histogram2dcontour": [
           {
            "colorbar": {
             "outlinewidth": 0,
             "ticks": ""
            },
            "colorscale": [
             [
              0,
              "#0d0887"
             ],
             [
              0.1111111111111111,
              "#46039f"
             ],
             [
              0.2222222222222222,
              "#7201a8"
             ],
             [
              0.3333333333333333,
              "#9c179e"
             ],
             [
              0.4444444444444444,
              "#bd3786"
             ],
             [
              0.5555555555555556,
              "#d8576b"
             ],
             [
              0.6666666666666666,
              "#ed7953"
             ],
             [
              0.7777777777777778,
              "#fb9f3a"
             ],
             [
              0.8888888888888888,
              "#fdca26"
             ],
             [
              1,
              "#f0f921"
             ]
            ],
            "type": "histogram2dcontour"
           }
          ],
          "mesh3d": [
           {
            "colorbar": {
             "outlinewidth": 0,
             "ticks": ""
            },
            "type": "mesh3d"
           }
          ],
          "parcoords": [
           {
            "line": {
             "colorbar": {
              "outlinewidth": 0,
              "ticks": ""
             }
            },
            "type": "parcoords"
           }
          ],
          "pie": [
           {
            "automargin": true,
            "type": "pie"
           }
          ],
          "scatter": [
           {
            "fillpattern": {
             "fillmode": "overlay",
             "size": 10,
             "solidity": 0.2
            },
            "type": "scatter"
           }
          ],
          "scatter3d": [
           {
            "line": {
             "colorbar": {
              "outlinewidth": 0,
              "ticks": ""
             }
            },
            "marker": {
             "colorbar": {
              "outlinewidth": 0,
              "ticks": ""
             }
            },
            "type": "scatter3d"
           }
          ],
          "scattercarpet": [
           {
            "marker": {
             "colorbar": {
              "outlinewidth": 0,
              "ticks": ""
             }
            },
            "type": "scattercarpet"
           }
          ],
          "scattergeo": [
           {
            "marker": {
             "colorbar": {
              "outlinewidth": 0,
              "ticks": ""
             }
            },
            "type": "scattergeo"
           }
          ],
          "scattergl": [
           {
            "marker": {
             "colorbar": {
              "outlinewidth": 0,
              "ticks": ""
             }
            },
            "type": "scattergl"
           }
          ],
          "scattermap": [
           {
            "marker": {
             "colorbar": {
              "outlinewidth": 0,
              "ticks": ""
             }
            },
            "type": "scattermap"
           }
          ],
          "scattermapbox": [
           {
            "marker": {
             "colorbar": {
              "outlinewidth": 0,
              "ticks": ""
             }
            },
            "type": "scattermapbox"
           }
          ],
          "scatterpolar": [
           {
            "marker": {
             "colorbar": {
              "outlinewidth": 0,
              "ticks": ""
             }
            },
            "type": "scatterpolar"
           }
          ],
          "scatterpolargl": [
           {
            "marker": {
             "colorbar": {
              "outlinewidth": 0,
              "ticks": ""
             }
            },
            "type": "scatterpolargl"
           }
          ],
          "scatterternary": [
           {
            "marker": {
             "colorbar": {
              "outlinewidth": 0,
              "ticks": ""
             }
            },
            "type": "scatterternary"
           }
          ],
          "surface": [
           {
            "colorbar": {
             "outlinewidth": 0,
             "ticks": ""
            },
            "colorscale": [
             [
              0,
              "#0d0887"
             ],
             [
              0.1111111111111111,
              "#46039f"
             ],
             [
              0.2222222222222222,
              "#7201a8"
             ],
             [
              0.3333333333333333,
              "#9c179e"
             ],
             [
              0.4444444444444444,
              "#bd3786"
             ],
             [
              0.5555555555555556,
              "#d8576b"
             ],
             [
              0.6666666666666666,
              "#ed7953"
             ],
             [
              0.7777777777777778,
              "#fb9f3a"
             ],
             [
              0.8888888888888888,
              "#fdca26"
             ],
             [
              1,
              "#f0f921"
             ]
            ],
            "type": "surface"
           }
          ],
          "table": [
           {
            "cells": {
             "fill": {
              "color": "#EBF0F8"
             },
             "line": {
              "color": "white"
             }
            },
            "header": {
             "fill": {
              "color": "#C8D4E3"
             },
             "line": {
              "color": "white"
             }
            },
            "type": "table"
           }
          ]
         },
         "layout": {
          "annotationdefaults": {
           "arrowcolor": "#2a3f5f",
           "arrowhead": 0,
           "arrowwidth": 1
          },
          "autotypenumbers": "strict",
          "coloraxis": {
           "colorbar": {
            "outlinewidth": 0,
            "ticks": ""
           }
          },
          "colorscale": {
           "diverging": [
            [
             0,
             "#8e0152"
            ],
            [
             0.1,
             "#c51b7d"
            ],
            [
             0.2,
             "#de77ae"
            ],
            [
             0.3,
             "#f1b6da"
            ],
            [
             0.4,
             "#fde0ef"
            ],
            [
             0.5,
             "#f7f7f7"
            ],
            [
             0.6,
             "#e6f5d0"
            ],
            [
             0.7,
             "#b8e186"
            ],
            [
             0.8,
             "#7fbc41"
            ],
            [
             0.9,
             "#4d9221"
            ],
            [
             1,
             "#276419"
            ]
           ],
           "sequential": [
            [
             0,
             "#0d0887"
            ],
            [
             0.1111111111111111,
             "#46039f"
            ],
            [
             0.2222222222222222,
             "#7201a8"
            ],
            [
             0.3333333333333333,
             "#9c179e"
            ],
            [
             0.4444444444444444,
             "#bd3786"
            ],
            [
             0.5555555555555556,
             "#d8576b"
            ],
            [
             0.6666666666666666,
             "#ed7953"
            ],
            [
             0.7777777777777778,
             "#fb9f3a"
            ],
            [
             0.8888888888888888,
             "#fdca26"
            ],
            [
             1,
             "#f0f921"
            ]
           ],
           "sequentialminus": [
            [
             0,
             "#0d0887"
            ],
            [
             0.1111111111111111,
             "#46039f"
            ],
            [
             0.2222222222222222,
             "#7201a8"
            ],
            [
             0.3333333333333333,
             "#9c179e"
            ],
            [
             0.4444444444444444,
             "#bd3786"
            ],
            [
             0.5555555555555556,
             "#d8576b"
            ],
            [
             0.6666666666666666,
             "#ed7953"
            ],
            [
             0.7777777777777778,
             "#fb9f3a"
            ],
            [
             0.8888888888888888,
             "#fdca26"
            ],
            [
             1,
             "#f0f921"
            ]
           ]
          },
          "colorway": [
           "#636efa",
           "#EF553B",
           "#00cc96",
           "#ab63fa",
           "#FFA15A",
           "#19d3f3",
           "#FF6692",
           "#B6E880",
           "#FF97FF",
           "#FECB52"
          ],
          "font": {
           "color": "#2a3f5f"
          },
          "geo": {
           "bgcolor": "white",
           "lakecolor": "white",
           "landcolor": "#E5ECF6",
           "showlakes": true,
           "showland": true,
           "subunitcolor": "white"
          },
          "hoverlabel": {
           "align": "left"
          },
          "hovermode": "closest",
          "mapbox": {
           "style": "light"
          },
          "paper_bgcolor": "white",
          "plot_bgcolor": "#E5ECF6",
          "polar": {
           "angularaxis": {
            "gridcolor": "white",
            "linecolor": "white",
            "ticks": ""
           },
           "bgcolor": "#E5ECF6",
           "radialaxis": {
            "gridcolor": "white",
            "linecolor": "white",
            "ticks": ""
           }
          },
          "scene": {
           "xaxis": {
            "backgroundcolor": "#E5ECF6",
            "gridcolor": "white",
            "gridwidth": 2,
            "linecolor": "white",
            "showbackground": true,
            "ticks": "",
            "zerolinecolor": "white"
           },
           "yaxis": {
            "backgroundcolor": "#E5ECF6",
            "gridcolor": "white",
            "gridwidth": 2,
            "linecolor": "white",
            "showbackground": true,
            "ticks": "",
            "zerolinecolor": "white"
           },
           "zaxis": {
            "backgroundcolor": "#E5ECF6",
            "gridcolor": "white",
            "gridwidth": 2,
            "linecolor": "white",
            "showbackground": true,
            "ticks": "",
            "zerolinecolor": "white"
           }
          },
          "shapedefaults": {
           "line": {
            "color": "#2a3f5f"
           }
          },
          "ternary": {
           "aaxis": {
            "gridcolor": "white",
            "linecolor": "white",
            "ticks": ""
           },
           "baxis": {
            "gridcolor": "white",
            "linecolor": "white",
            "ticks": ""
           },
           "bgcolor": "#E5ECF6",
           "caxis": {
            "gridcolor": "white",
            "linecolor": "white",
            "ticks": ""
           }
          },
          "title": {
           "x": 0.05
          },
          "xaxis": {
           "automargin": true,
           "gridcolor": "white",
           "linecolor": "white",
           "ticks": "",
           "title": {
            "standoff": 15
           },
           "zerolinecolor": "white",
           "zerolinewidth": 2
          },
          "yaxis": {
           "automargin": true,
           "gridcolor": "white",
           "linecolor": "white",
           "ticks": "",
           "title": {
            "standoff": 15
           },
           "zerolinecolor": "white",
           "zerolinewidth": 2
          }
         }
        },
        "title": {
         "text": "Parameters distribution"
        },
        "width": 900,
        "xaxis": {
         "anchor": "y",
         "domain": [
          0,
          0.26666666666666666
         ]
        },
        "xaxis2": {
         "anchor": "y2",
         "domain": [
          0.3666666666666667,
          0.6333333333333333
         ]
        },
        "xaxis3": {
         "anchor": "y3",
         "domain": [
          0.7333333333333334,
          1
         ]
        },
        "xaxis4": {
         "anchor": "y4",
         "domain": [
          0,
          0.26666666666666666
         ]
        },
        "xaxis5": {
         "anchor": "y5",
         "domain": [
          0.3666666666666667,
          0.6333333333333333
         ]
        },
        "xaxis6": {
         "anchor": "y6",
         "domain": [
          0.7333333333333334,
          1
         ]
        },
        "yaxis": {
         "anchor": "x",
         "domain": [
          0.55,
          1
         ]
        },
        "yaxis2": {
         "anchor": "x2",
         "domain": [
          0.55,
          1
         ]
        },
        "yaxis3": {
         "anchor": "x3",
         "domain": [
          0.55,
          1
         ]
        },
        "yaxis4": {
         "anchor": "x4",
         "domain": [
          0,
          0.45
         ]
        },
        "yaxis5": {
         "anchor": "x5",
         "domain": [
          0,
          0.45
         ]
        },
        "yaxis6": {
         "anchor": "x6",
         "domain": [
          0,
          0.45
         ]
        }
       }
      }
     },
     "metadata": {},
     "output_type": "display_data"
    }
   ],
   "source": [
    "fig = viewer.box_plot(3, nbest=500)\n",
    "fig.show()"
   ]
  },
  {
   "cell_type": "code",
   "execution_count": 24,
   "metadata": {},
   "outputs": [
    {
     "name": "stderr",
     "output_type": "stream",
     "text": [
      "/Users/adm-lehodey/Documents/Workspace/Projects/Seapopym-optimisation/.venv/lib/python3.13/site-packages/sklearn/preprocessing/_data.py:2829: UserWarning:\n",
      "\n",
      "n_quantiles (1000) is greater than the total number of samples (500). n_quantiles is set to n_samples.\n",
      "\n"
     ]
    },
    {
     "data": {
      "application/vnd.plotly.v1+json": {
       "config": {
        "plotlyServerURL": "https://plot.ly"
       },
       "data": [
        {
         "dimensions": [
          {
           "label": "D1N1_energy_transfert energy_transfert",
           "range": [
            0.001,
            0.5
           ],
           "values": {
            "bdata": "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",
            "dtype": "f8"
           }
          },
          {
           "label": "D1N1_lambda_temperature_0",
           "range": [
            0,
            1
           ],
           "values": {
            "bdata": "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",
            "dtype": "f8"
           }
          },
          {
           "label": "D1N1_gamma_lambda_temperature",
           "range": [
            0,
            0.5
           ],
           "values": {
            "bdata": "AAAAgOEVgD8AAABQySWdPwAAAPBke5A/AAAAAKQdZj8AAAAApB1mPwAAAPDvPIs/AAAA8O88iz8AAADw7zyLPwAAAKhofZY/AAAAELGEpD8AAAAwPBOEPwAAAFoDyrY/AAAAWgPKtj8AAABaA8q2PwAAAFoDyrY/AAAAAKQdZj8AAABcyBa9PwAAAMipmsc/AAAAAKQdZj8AAABcpOGgPwAAAFyk4aA/AAAAXKThoD8AAAAwPBOEPwAAADAT4KE/AAAAMBPgoT8AAAAwE+ChPwAAAMAbKHk/AAAAMDwThD8AAACM8k6mPwAAAIB1UXU/AAAA+I93qz8AAAD4j3erPwAAAPiPd6s/AAAAMBPgoT8AAADKExu5PwAAAIinJp8/AAAAiKcmnz8AAACIpyafPwAAAJhHs7E/AAAAwI+Noz8AAAC0mhKvPwAAABCN7Jc/AAAAlDh2qj8AAAB8BoWlPwAAAC6cM7E/AAAAIIT6kD8AAAD8ifi0PwAAAPyJ+LQ/AAAA8O88iz8AAABuh0qzPwAAAPyJ+LQ/AAAAfAaFpT8AAABYa96sPwAAAHwGhaU/AAAAwOcroj8AAAB03MWkPwAAAMDnK6I/AAAAwOcroj8AAADA5yuiPwAAAHwGhaU/AAAAQFe8aT8AAACIv3CiPwAAAFhZFrg/AAAA+FxHtz8AAABYWRa4PwAAAOF3s8I/AAAAPs2Bsz8AAABoTrGYPwAAADBDtYE/AAAA4M5cfT8AAAAideO0PwAAAOC9VrA/AAAA4L1WsD8AAADgvVawPwAAAMoTG7k/AAAAbodKsz8AAABICKS6PwAAAFhZFrg/AAAAvJpmwT8AAADi54q+PwAAAERtuLw/AAAAXfDy0z8AAABd8PLTPwAAAOtLFtY/AAAAXfDy0z8AAABd8PLTPwAAgHYvNNA/AACA0mmV3z8AAACTWTfRPwAAAOw4lqs/AAAAaE6xmD8AAAC8KP3BPwAAALwo/cE/AAAAvCj9wT8AAADvJunVPwAAALwo/cE/AAAACFr3zD8AAIAjNX7WPwAAAC1ntsE/AAAAtK7usD8AAADgWt3FPwAAAOBa3cU/AAAA4FrdxT8AAADgWt3FPwAAgA49Fdc/AAAAgV/Ayj8AAIDMNkrTPwAAAI/iNsQ/AACAew7+2j8AAIBVN+7YPwAAgMTGR9c/AACAew7+2j8AAIByQsvTPwAAAHPJ4tE/AAAAc8ni0T8AAABzyeLRPwAAAHPJ4tE/AACAClDq1D8AAADhd7PCPwAAgJksANU/AACAQ5g80D8AAAB/rZ7EPwAAgHMMBdQ/AACAcwwF1D8AAIBzDAXUPwAAADq9Us4/AAAAvaIyyj8AAABaA8q2PwAAgIgCfN8/AAAA4L1WsD8AAAA0AKTAPwAAAGVmMNk/AAAAs+aJzj8AAIBVN+7YPwAAABnSHcI/AAAAHul10j8AAABV8gndPwAAAFXyCd0/AAAAVfIJ3T8AAABV8gndPwAAAIdTIs0/AAAAd3dgwz8AAABYWRa4PwAAAOHQEs4/AAAA4dASzj8AAADh0BLOPwAAAOHQEs4/AACA3Rg22T8AAACPidzKPwAAgDIbAtw/AAAAjxjc3T8AAAC9ojLKPwAAAL2iMso/AAAAvaIyyj8AAAA6vVLOPwAAAL2iMso/AAAAtECYxj8AAABEZNrIPwAAAHvLGd8/AAAAe8sZ3z8AAAB7yxnfPwAAAHvLGd8/AAAACEan2j8AAIBVN+7YPwAAgFU37tg/AACAdi800D8AAABMviTPPwAAAG3h4cQ/AAAACHu8qD8AAAAIe7yoPwAAAAh7vKg/AAAAPs2Bsz8AAAA+zYGzPwAAAD7NgbM/AAAALMbvvz8AAIBzDAXUPwAAgGcBSNo/AAAAAE+9ST8AAIBdNRXWPwAAgF01FdY/AACAXTUV1j8AAIBdNRXWPwAAALyaZsE/AACAew7+2j8AAIB7Dv7aPwAAAJc0yNI/AAAAvQWTxj8AAID73a7cPwAAgPvdrtw/AACA+92u3D8AAID73a7cPwAAALyPXM0/AAAAs7hlyD8AAAAWrvLNPwAAgFU37tg/AAAARG7ZrD8AAACEec6gPwAAgF01FdY/AAAA3SOi1T8AAADdI6LVPwAAAN0jotU/AAAA3SOi1T8AAAAAjkK1PwAAAEx867I/AAAAqXAIyT8AAACPvIvYPwAAAOLnir4/AAAA4ueKvj8AAABgv7/dPwAAALyPXM0/AAAAwM/tmD8AAADzGrLXPwAAAPMastc/AAAA8xqy1z8AAADzGrLXPwAAgEuax94/AAAACHu8qD8AAAC8j1zNPwAAALyPXM0/AAAA4P18yT8AAADg/XzJPwAAAGjkFbI/AAAA2qfmtj8AAAA1pfXbPwAAgNXkvt4/AACA1eS+3j8AAIDV5L7ePwAAgNXkvt4/AAAAEI3slz8AAADVIVnbPwAAANUhWds/AACAQ68c2z8AAADVIVnbPwAAANqmwd4/AAAAwBsoeT8AAADg/XzJPwAAAOD9fMk/AAAAFuuO3D8AAACRtfXbPwAAgNprbtE/AAAAgILtvz8AAADVIVnbPwAAAOLnir4/AACA899V0j8AAIDz31XSPwAAAGKdDss/AACAR8Lj2D8AAAAki4nRPwAAAHGRw9c/AACAO7093D8AAIDMxLzZPwAAAKbZH9o/AAAAnpL30j8AAAAG5wHCPwAAgN3mRdA/AAAA3ss+3T8AAIDd5kXQPwAAgN3mRdA/AAAAhxon0z8AAACoztWoPwAAAJm3DtU/AAAAVmbWsD8AAAC9BZPGPwAAANqmwd4/AAAAvQWTxj8AAAC9BZPGPwAAAMfVdcg/AAAA+xhJ2T8AAAD7GEnZPwAAAPsYSdk/AAAAorTg2T8AAAD7GEnZPwAAgPPfVdI/AACAP9DC3z8AAIDz31XSPwAAAABEXNQ/AAAAy4i91D8AAACIFgGzPwAAAPu6IMw/AAAAYusb2D8AAABi6xvYPwAAAGLrG9g/AAAAYusb2D8AAIC0JGvUPwAAACJ147Q/AAAAj+I2xD8AAICH38DWPwAAAIgWAbM/AAAAiBYBsz8AAAD8HDHEPwAAgACBu9E/AAAAj+I2xD8AAIDMNkrTPwAAAI/iNsQ/AAAAsCCymj8AAIDd5kXQPwAAAAnQOMc/AAAAViilyD8AAIBEFRfRPwAAgEQVF9E/AACAyFu10D8AAIBEFRfRPwAAAOF3s8I/AAAA3KcvxT8AAACP4jbEPwAAgLBJlNc/AAAAfAaFpT8AAAD6ZWrcPwAAAAdtzsk/AAAAUVJo1T8AAAAVZl7ZPwAAAGTMvak/AAAAMEO1gT8AAACvfyDaPwAAgGosB9M/AACAaiwH0z8AAIBqLAfTPwAAgGosB9M/AAAAKUBJ0j8AAAAgmrqMPwAAAKjO1ag/AAAAIhtZzj8AAADTkBbAPwAAANOQFsA/AAAA05AWwD8AAAAtLbbRPwAAAOF3s8I/AAAATNIL2j8AAABM0gvaPwAAAFU/l9Y/AAAATNIL2j8AAABM0gvaPwAAAICZwXY/AAAApAhrqj8AAACw5ACTPwAAgJFwEt4/AAAAQHwU3z8AAADgzlx9PwAAgEQVF9E/AACAFi5p2T8AAABAMjqPPwAAAABbTos/AAAAwHNkwD8AAIBMF+zfPwAAgEwX7N8/AACATBfs3z8AAIBMF+zfPwAAANIa2cs/AAAA0hrZyz8AAAAwVybOPwAAANIa2cs/AAAAIKPzuT8AAABRUmjVPwAAAEoftLM/AAAAiC/Nwj8AAABq6eDWPwAAAMwBW9w/AAAAvQWTxj8AAADhd7PCPwAAAIRzHbU/AAAA05AWwD8AAABAV7xpPwAAAMipmsc/AAAABEgi0z8AAABLXyDbPwAAAIYpwbs/AAAAhinBuz8AAACGKcG7PwAAAIYpwbs/AAAAC55iwj8AAADrSxbWPwAAAF3w8tM/AAAA2q6J1D8AAABE0PDUPwAAAFGOtMA/AAAAjmj5zz8AAACOaPnPPwAAAPNg3ss/AAAAjmj5zz8AAABE0PDUPwAAAGrp4NY/AAAAPJddvT8AAAA8l129PwAAADyXXb0/AAAAA0ScxT8AAIBiLvzdPwAAgGIu/N0/AACAYi783T8AAAAyqJ21PwAAALIyqsM/AAAAvlFc0D8AAIDExkfXPwAAgMTGR9c/AACAxMZH1z8AAIDExkfXPwAAgAP21dQ/AAAAhHMdtT8AAACEcx21PwAAAIRzHbU/AAAAvI9czT8AAACOaPnPPwAAAJhHs7E/AAAAmEezsT8AAACYR7OxPwAAANIa2cs/AAAACXeZyz8AAICP3TvYPwAAAOI4S94/AAAA4jhL3j8AAADiOEvePwAAAOjourg/AAAAeBp7pj8AAAAywR67PwAAgGIu/N0/AAAAj0WXyD8AAACPRZfIPwAAAI9Fl8g/AAAAj0WXyD8AAIBW7J/SPwAAgAiDQN8/AAAApBoTvz8AAABq6eDWPwAAAGrp4NY/AAAAOI3YyT8AAADTN7fMPwAAANM3t8w/AAAA0ze3zD8AAADTN7fMPwAAgLnvq9c/AACAHiyS1z8AAABLXyDbPwAAgJly6dA/AAAAzAFb3D8AAADMAVvcPwAAAMwBW9w/AAAASlJ4tD8AAACieUy+PwAAADyXXb0/AAAApBoTvz8AAIDq/1fVPwAAgOr/V9U/AACA6v9X1T8AAIDq/1fVPwAAAOI4S94/AACA7PXh0T8AAAA1imvLPwAAADs3ncU/AAAARNDw1D8AAADqOrDQPwAAABzAYdk/AAAA6jqw0D8AAADqOrDQPwAAAOo6sNA/AAAARNDw1D8AAADMAVvcPwAAALLNsbE/AACA/dud2z8AAADEA6DSPwAAACjZ2K0/AAAAWVRKxz8AAABYWRa4PwAAAENd29U/AAAAjmj5zz8AAADzYN7LPwAAAIB1UXU/AACAzMS82T8AAIDMxLzZPwAAANK9eMc/AAAA0r14xz8AAADSvXjHPwAAABitnto/AAAA0r14xz8AAACA1Q/BPwAAgKjB190/AAAARG7ZrD8AAACOz1jDPwAAAI7PWMM/AAAAjs9Ywz8AAACOz1jDPwAAgPm2Ytg/AACAR8Lj2D8AAIDi/azbPwAAgOL9rNs/AACAgaRD3z8AAIDi/azbPwAAgOL9rNs/AAAAh1MizT8AAABV8gndPwAAAGTSQN4/AAAAxAOg0j8AAADEA6DSPwAAAMQDoNI/AACA/dud2z8AAADEA6DSPwAAABCN7Jc/AAAAEI3slz8AAAAQjeyXPwAAgMzEvNk/AACAzMS82T8AAABgv7/dPw==",
            "dtype": "f8"
           }
          },
          {
           "label": "D1N1_tr_0",
           "range": [
            0,
            50
           ],
           "values": {
            "bdata": "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",
            "dtype": "f8"
           }
          },
          {
           "label": "D1N1_gamma_tr",
           "range": [
            -0.5,
            -0.001
           ],
           "values": {
            "bdata": "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",
            "dtype": "f8"
           }
          }
         ],
         "line": {
          "color": {
           "bdata": "AAAAAAAA8D/whmNKle/vP9kNx5Qq3+8/xpQq37/O7z/GlCrfv87vPxZmIxm1pe8/FmYjGbWl7z8WZiMZtaXvP2o3HFOqfO8/Vb5/nT9s7z9BRePn1FvvPzHMRjJqS+8/CNoNx5Qq7z8I2g3HlCrvPwjaDceUKu8/4+fUW78J7z/QbjimVPnuP731m/Dp6O4/qnz/On/Y7j+XA2OFFMjuP/pN+HR0r+4/+k34dHSv7j9hmI1k1JbuPzimVPn+de4/OKZU+f517j8lLbhDlGXuPxK0G44pVe4//zp/2L5E7j/sweIiVDTuP9lIRm3pI+4/PJPbXEkL7j88k9tcSQvuPzyT21xJC+4/q2TUlj7i7T966zfh09HtP941zdAzue0/3jXN0DO57T/eNc3QM7ntPy4HxgopkO0/Io4pVb5/7T8JFY2fU2/tP/+b8OnoXu0/4iJUNH5O7T/yqbd+Ez7tP7wwG8moLe0/rbd+Ez4d7T+XPuJd0wztP4TFRaho/Ow/cEyp8v3r7D9h0ww9k9vsP0pacIcoy+w/OuHT0b267D8naDccU6rsPxHvmmbomew//nX+sH2J7D/r/GH7EnnsP05H9+pyYOw/Tkf36nJg7D9OR/fqcmDsP6EY8CRoN+w/jZ9Tb/0m7D95Jre5khbsP2atGgQoBuw/VTR+Tr316z9Bu+GYUuXrPy5CRePn1Os/G8moLX3E6z8IUAx4ErTrP/rWb8Kno+s/313TDD2T6z/P5DZX0oLrPzIvzEYyaus/Mi/MRjJq6z+WeWE2klHrP4MAxYAnQes/bYcoy7ww6z9dDowVUiDrP0qV71/nD+s/NxxTqnz/6j8ko7b0Ee/qPxEqGj+n3uo/YvsSeZy16j9i+xJ5nLXqP2L7Enmcteo/YvsSeZy16j9i+xJ5nLXqP59Tb/0mfOo/kNrSR7xr6j95YTaSUVvqP2fomdzmSuo/VW/9Jnw66j9A9mBxESrqP6RA9mBxEeo/pED2YHER6j8Hi4tQ0fjpPzUY75pm6Ok/5ZhS5fvX6T/PH7YvkcfpP7umGXomt+k/qC19xLum6T+CO0RZ5oXpP4I7RFnmhek/gjtEWeaF6T9cSQvuEGXpP1xJC+4QZek/NlfSgjtE6T8j3jXN0DPpPwxkmxdmI+k//uv8YfsS6T/rcmCskALpP9f5w/Yl8ug/A4EnQbvh6D+zB4uLUNHoP3ictWoQoOg/eJy1ahCg6D94nLVqEKDoP3ictWoQoOg/eJy1ahCg6D9AMeBJ0G7oP6R7dTkwVug/pHt1OTBW6D8HxgopkD3oP+HT0b26HOg/4dPRvboc6D/h09G9uhzoP7vhmFLl++c/qGj8nHrr5z+V71/nD9vnP4J2wzGlyuc/b/0mfDq65z9chIrGz6nnP8DOH7Yvkec/wM4fti+R5z8jGbWlj3jnPxCgGPAkaOc//SZ8OrpX5z9O+HR0ry7nP074dHSvLuc/Tvh0dK8u5z9O+HR0ry7nP074dHSvLuc/i1DR+Dn15j951zRDz+TmP1Ll+9f5w+Y/UuX71/nD5j9S5fvX+cPmPyzzwmwko+Y/GXomt7mS5j8IAYoBT4LmP/OH7UvkceY/84ftS+Rx5j/NlbTgDlHmPx5nrRoEKOY/HmetGgQo5j8eZ60aBCjmPx5nrRoEKOY/HmetGgQo5j9bvwmfju7lPzXN0DO5zeU/Nc3QM7nN5T81zdAzuc3lP2/cl8jjrOU//mH7Enmc5T9grJAC2YPlP2CskALZg+U/YKyQAtmD5T+wfYk8zlrlP54E7YZjSuU/eBK0G44p5T94ErQbjinlP3gStBuOKeU/P6fe+k345D8/p976TfjkPz+n3vpN+OQ/E7Wlj3jX5D8GPAnaDcfkP/PCbCSjtuQ/4EnQbjim5D8wG8moLX3kPzAbyagtfeQ/MBvJqC195D8wG8moLX3kP4HsweIiVOQ/W/qId00z5D9b+oh3TTPkP1v6iHdNM+Q/NQhQDHgS5D+G2UhGbenjP4bZSEZt6eM/htlIRm3p4z+G2UhGbenjP9aqQYBiwOM/wzGlyvev4z+wuAgVjZ/jP50/bF8ij+M/isbPqbd+4z93TTP0TG7jP2TUlj7iXeM/PuJd0ww94z8+4l3TDD3jPz7iXdMMPeM/PuJd0ww94z8Fd4iyzAvjP/L96/xh++I/74RPR/fq4j/MC7ORjNriP7mSFtwhyuI/uZIW3CHK4j+ToN1wTKniP4MnQbvhmOI/ba6kBXeI4j9HvGuaoWfiP0e8a5qhZ+I/R7xrmqFn4j8hyjIvzEbiPxFRlnlhNuI//Nf5w/Yl4j9fIo+zVg3iP18ij7NWDeI/OjBWSIHs4T86MFZIgezhP5166zfh0+E/igFPgnbD4T93iLLMC7PhP8hZqwYBiuE/yFmrBgGK4T/IWasGAYrhP8hZqwYBiuE/GCukQPZg4T9o/Jx66zfhP2j8nHrrN+E/aPyceus34T9o/Jx66zfhP7nNlbTgDuE/plT5/nX+4D+T21xJC+7gP4BiwJOg3eA/bekj3jXN4D9acIcoy7zgP0f36nJgrOA/NH5OvfWb4D8hBbIHi4vgPw6MFVIge+A/ctaqQYBi4D9y1qpBgGLgP9UgQDHgSeA/x6eje3U54D+vLgfGCingP5y1ahCgGOA/iTzOWjUI4D/shmNKle/fP8yUKt+/zt8/oKLxc+qt3z98sLgIFY3fP1S+f50/bN8/CNoNx5Qq3z8I2g3HlCrfPwjaDceUKt8/vfWb8Ono3j+XA2OFFMjeP3ERKho/p94/Sx/xrmmG3j8lLbhDlGXeP+zB4iJUNN4/7MHiIlQ03j/sweIiVDTeP41k1JY+4t0/G44pVb5/3T8bjilVvn/dPxuOKVW+f90/G44pVb5/3T8bjilVvn/dP4PFRaho/Nw/g8VFqGj83D+DxUWoaPzcPyRoNxxTqtw/JGg3HFOq3D/r/GH7EnncP8UKKZA9WNw/VDR+Tr312z9UNH5OvfXbP1Q0fk699ds/VDR+Tr312z9UNH5OvfXbP+Jd0ww9k9s/vGuaoWdy2z+WeWE2klHbP2iHKMu8MNs/SpXvX+cP2z8ko7b0Ee/aP/6wfYk8zto/2L5EHmet2j+yzAuzkYzaP2Pb0ke8a9o/aOiZ3OZK2j9A9mBxESraPxoEKAY8Cdo/9BHvmmbo2T/OH7YvkcfZP4I7RFnmhdk/gjtEWeaF2T+CO0RZ5oXZPzZX0oI7RNk/E2WZF2Yj2T/qcmCskALZP8SAJ0G74dg/no7u1eXA2D9mIxm1pY/YP2YjGbWlj9g/LbhDlGVe2D8HxgopkD3YP+HT0b26HNg/u+GYUuX71z+V71/nD9vXPyMZtaWPeNc/Ixm1pY941z8jGbWlj3jXPyMZtaWPeNc/Ixm1pY941z+xQgpkDxbXP4tQ0fg59dY/ZV6YjWTU1j8/bF8ij7PWPxl6Jre5ktY/84ftS+Rx1j/NlbTgDlHWP6eje3U5MNY/Nc3QM7nN1T81zdAzuc3VPzXN0DO5zdU/Nc3QM7nN1T81zdAzuc3VP8P2JfI4a9U/ngTthmNK1T94ErQbjinVPz+n3vpN+NQ/P6fe+k341D8GPAnaDcfUP+BJ0G44ptQ/uleXA2OF1D+UZV6YjWTUP25zJS24Q9Q/SIHsweIi1D/pI941zdDTP+kj3jXN0NM/6SPeNc3Q0z/pI941zdDTP3dNM/RMbtM/d00z9Exu0z8racEdoizTPytpwR2iLNM/8v3r/GH70j/MC7ORjNrSP6YZeia3udI/gCdBu+GY0j9aNQhQDHjSPzRDz+Q2V9I/DlGWeWE20j/oXl0OjBXSP8NsJKO29NE/nXrrN+HT0T93iLLMC7PRP1GWeWE2ktE/K6RA9mBx0T8FsgeLi1DRP9+/zh+2L9E/k9tcSQvu0D+T21xJC+7QP5PbXEkL7tA/R/fqcmCs0D8OjBVSIHvQPw6MFVIge9A/1SBAMeBJ0D+vLgfGCinQP4k8zlo1CNA/VL5/nT9szz9Uvn+dP2zPP1S+f50/bM8/VL5/nT9szz+XA2OFFMjOP0sf8a5phs4/2UhGbekjzj/ZSEZt6SPOP9lIRm3pI84/G44pVb5/zT+DxUWoaPzMP4PFRaho/Mw/g8VFqGj8zD/r/GH7EnnMP58Y8CRoN8w/UzR+Tr31yz+WeWE2klHLP5Z5YTaSUcs/lnlhNpJRyz+WeWE2klHLP9i+RB5nrco/QPZgcREqyj9A9mBxESrKP0D2YHERKso/qC19xLumyT9cSQvuEGXJP8SAJ0G74cg/xIAnQbvhyD/EgCdBu+HIPy24Q5RlXsg/4dPRvbocyD+V71/nD9vHP0kL7hBlmcc/1zRDz+Q2xz/XNEPP5DbHP2VemI1k1MY/GXomt7mSxj/NlbTgDlHGP4GxQgpkD8Y/Nc3QM7nNxT+eBO2GY0rFP54E7YZjSsU/ngTthmNKxT/gSdBuOKbEP+BJ0G44psQ/bnMlLbhDxD/WqkGAYsDDP9aqQYBiwMM/1qpBgGLAwz/y/ev8YfvCP/L96/xh+8I/8v3r/GH7wj9aNQhQDHjCP8JsJKO29ME/wmwko7b0wT/CbCSjtvTBPyukQPZgccE/k9tcSQvuwD+T21xJC+7AP5PbXEkL7sA/+xJ5nLVqwD+vLgfGCinAP8aUKt+/zr8/LsxGMmpLvz+zVg0CFAO+P7NWDQIUA74/s1YNAhQDvj+zVg0CFAO+Pzfh09G9urw/VDR+Tr31uz9UNH5OvfW7P3CHKMu8MLs/2L5EHmetuj8QZZkXZiO5PxBlmRdmI7k/EGWZF2YjuT8QZZkXZiO5PxBlmRdmI7k/SQvuEGWZtz+xQgpkDxa3Pxl6Jre5krY/gbFCCmQPtj/p6F5dDoy1P1Ige7C4CLU/uleXA2OFtD8ij7NWDQK0P4rGz6m3frM/phl6Jre5sj+mGXomt7myP8NsJKO29LE/37/OH7YvsT/fv84fti+xP8aUKt+/zq8/xpQq37/Orz/GlCrfv86vP8+pt34TPq0/z6m3fhM+rT8IUAx4ErSrP9i+RB5nrao/qC19xLumqT9IC+4QZZmnP0gL7hBlmac/SAvuEGWZpz/p6F5dDoylP7pXlwNjhaQ/isbPqbd+oz/7EnmctWqgP/sSeZy1aqA/+xJ5nLVqoD/7EnmctWqgP/sSeZy1aqA/qC19xLummT+oLX3Eu6aZPxl6Jre5kpY/+xJ5nLVqkD/7EnmctWqQP/sSeZy1apA/+xJ5nLVqkD/7EnmctWqQP/sSeZy1aoA/+xJ5nLVqgD/7EnmctWqAPwAAAAAAAAAAAAAAAAAAAAAAAAAAAAAAAA==",
           "dtype": "f8",
           "shape": "500, 1"
          },
          "colorbar": {
           "title": {
            "text": "Cost function score"
           }
          },
          "colorscale": [
           [
            0,
            "rgb(12,51,131)"
           ],
           [
            0.25,
            "rgb(10,136,186)"
           ],
           [
            0.5,
            "rgb(242,211,56)"
           ],
           [
            0.75,
            "rgb(242,143,56)"
           ],
           [
            1,
            "rgb(217,30,30)"
           ]
          ],
          "reversescale": true,
          "showscale": true
         },
         "type": "parcoords",
         "unselected": {
          "line": {
           "opacity": 0.05
          }
         }
        }
       ],
       "layout": {
        "coloraxis": {
         "colorbar": {
          "title": {
           "text": "Fitness (uniforme distribution)"
          }
         }
        },
        "template": {
         "data": {
          "bar": [
           {
            "error_x": {
             "color": "#2a3f5f"
            },
            "error_y": {
             "color": "#2a3f5f"
            },
            "marker": {
             "line": {
              "color": "#E5ECF6",
              "width": 0.5
             },
             "pattern": {
              "fillmode": "overlay",
              "size": 10,
              "solidity": 0.2
             }
            },
            "type": "bar"
           }
          ],
          "barpolar": [
           {
            "marker": {
             "line": {
              "color": "#E5ECF6",
              "width": 0.5
             },
             "pattern": {
              "fillmode": "overlay",
              "size": 10,
              "solidity": 0.2
             }
            },
            "type": "barpolar"
           }
          ],
          "carpet": [
           {
            "aaxis": {
             "endlinecolor": "#2a3f5f",
             "gridcolor": "white",
             "linecolor": "white",
             "minorgridcolor": "white",
             "startlinecolor": "#2a3f5f"
            },
            "baxis": {
             "endlinecolor": "#2a3f5f",
             "gridcolor": "white",
             "linecolor": "white",
             "minorgridcolor": "white",
             "startlinecolor": "#2a3f5f"
            },
            "type": "carpet"
           }
          ],
          "choropleth": [
           {
            "colorbar": {
             "outlinewidth": 0,
             "ticks": ""
            },
            "type": "choropleth"
           }
          ],
          "contour": [
           {
            "colorbar": {
             "outlinewidth": 0,
             "ticks": ""
            },
            "colorscale": [
             [
              0,
              "#0d0887"
             ],
             [
              0.1111111111111111,
              "#46039f"
             ],
             [
              0.2222222222222222,
              "#7201a8"
             ],
             [
              0.3333333333333333,
              "#9c179e"
             ],
             [
              0.4444444444444444,
              "#bd3786"
             ],
             [
              0.5555555555555556,
              "#d8576b"
             ],
             [
              0.6666666666666666,
              "#ed7953"
             ],
             [
              0.7777777777777778,
              "#fb9f3a"
             ],
             [
              0.8888888888888888,
              "#fdca26"
             ],
             [
              1,
              "#f0f921"
             ]
            ],
            "type": "contour"
           }
          ],
          "contourcarpet": [
           {
            "colorbar": {
             "outlinewidth": 0,
             "ticks": ""
            },
            "type": "contourcarpet"
           }
          ],
          "heatmap": [
           {
            "colorbar": {
             "outlinewidth": 0,
             "ticks": ""
            },
            "colorscale": [
             [
              0,
              "#0d0887"
             ],
             [
              0.1111111111111111,
              "#46039f"
             ],
             [
              0.2222222222222222,
              "#7201a8"
             ],
             [
              0.3333333333333333,
              "#9c179e"
             ],
             [
              0.4444444444444444,
              "#bd3786"
             ],
             [
              0.5555555555555556,
              "#d8576b"
             ],
             [
              0.6666666666666666,
              "#ed7953"
             ],
             [
              0.7777777777777778,
              "#fb9f3a"
             ],
             [
              0.8888888888888888,
              "#fdca26"
             ],
             [
              1,
              "#f0f921"
             ]
            ],
            "type": "heatmap"
           }
          ],
          "histogram": [
           {
            "marker": {
             "pattern": {
              "fillmode": "overlay",
              "size": 10,
              "solidity": 0.2
             }
            },
            "type": "histogram"
           }
          ],
          "histogram2d": [
           {
            "colorbar": {
             "outlinewidth": 0,
             "ticks": ""
            },
            "colorscale": [
             [
              0,
              "#0d0887"
             ],
             [
              0.1111111111111111,
              "#46039f"
             ],
             [
              0.2222222222222222,
              "#7201a8"
             ],
             [
              0.3333333333333333,
              "#9c179e"
             ],
             [
              0.4444444444444444,
              "#bd3786"
             ],
             [
              0.5555555555555556,
              "#d8576b"
             ],
             [
              0.6666666666666666,
              "#ed7953"
             ],
             [
              0.7777777777777778,
              "#fb9f3a"
             ],
             [
              0.8888888888888888,
              "#fdca26"
             ],
             [
              1,
              "#f0f921"
             ]
            ],
            "type": "histogram2d"
           }
          ],
          "histogram2dcontour": [
           {
            "colorbar": {
             "outlinewidth": 0,
             "ticks": ""
            },
            "colorscale": [
             [
              0,
              "#0d0887"
             ],
             [
              0.1111111111111111,
              "#46039f"
             ],
             [
              0.2222222222222222,
              "#7201a8"
             ],
             [
              0.3333333333333333,
              "#9c179e"
             ],
             [
              0.4444444444444444,
              "#bd3786"
             ],
             [
              0.5555555555555556,
              "#d8576b"
             ],
             [
              0.6666666666666666,
              "#ed7953"
             ],
             [
              0.7777777777777778,
              "#fb9f3a"
             ],
             [
              0.8888888888888888,
              "#fdca26"
             ],
             [
              1,
              "#f0f921"
             ]
            ],
            "type": "histogram2dcontour"
           }
          ],
          "mesh3d": [
           {
            "colorbar": {
             "outlinewidth": 0,
             "ticks": ""
            },
            "type": "mesh3d"
           }
          ],
          "parcoords": [
           {
            "line": {
             "colorbar": {
              "outlinewidth": 0,
              "ticks": ""
             }
            },
            "type": "parcoords"
           }
          ],
          "pie": [
           {
            "automargin": true,
            "type": "pie"
           }
          ],
          "scatter": [
           {
            "fillpattern": {
             "fillmode": "overlay",
             "size": 10,
             "solidity": 0.2
            },
            "type": "scatter"
           }
          ],
          "scatter3d": [
           {
            "line": {
             "colorbar": {
              "outlinewidth": 0,
              "ticks": ""
             }
            },
            "marker": {
             "colorbar": {
              "outlinewidth": 0,
              "ticks": ""
             }
            },
            "type": "scatter3d"
           }
          ],
          "scattercarpet": [
           {
            "marker": {
             "colorbar": {
              "outlinewidth": 0,
              "ticks": ""
             }
            },
            "type": "scattercarpet"
           }
          ],
          "scattergeo": [
           {
            "marker": {
             "colorbar": {
              "outlinewidth": 0,
              "ticks": ""
             }
            },
            "type": "scattergeo"
           }
          ],
          "scattergl": [
           {
            "marker": {
             "colorbar": {
              "outlinewidth": 0,
              "ticks": ""
             }
            },
            "type": "scattergl"
           }
          ],
          "scattermap": [
           {
            "marker": {
             "colorbar": {
              "outlinewidth": 0,
              "ticks": ""
             }
            },
            "type": "scattermap"
           }
          ],
          "scattermapbox": [
           {
            "marker": {
             "colorbar": {
              "outlinewidth": 0,
              "ticks": ""
             }
            },
            "type": "scattermapbox"
           }
          ],
          "scatterpolar": [
           {
            "marker": {
             "colorbar": {
              "outlinewidth": 0,
              "ticks": ""
             }
            },
            "type": "scatterpolar"
           }
          ],
          "scatterpolargl": [
           {
            "marker": {
             "colorbar": {
              "outlinewidth": 0,
              "ticks": ""
             }
            },
            "type": "scatterpolargl"
           }
          ],
          "scatterternary": [
           {
            "marker": {
             "colorbar": {
              "outlinewidth": 0,
              "ticks": ""
             }
            },
            "type": "scatterternary"
           }
          ],
          "surface": [
           {
            "colorbar": {
             "outlinewidth": 0,
             "ticks": ""
            },
            "colorscale": [
             [
              0,
              "#0d0887"
             ],
             [
              0.1111111111111111,
              "#46039f"
             ],
             [
              0.2222222222222222,
              "#7201a8"
             ],
             [
              0.3333333333333333,
              "#9c179e"
             ],
             [
              0.4444444444444444,
              "#bd3786"
             ],
             [
              0.5555555555555556,
              "#d8576b"
             ],
             [
              0.6666666666666666,
              "#ed7953"
             ],
             [
              0.7777777777777778,
              "#fb9f3a"
             ],
             [
              0.8888888888888888,
              "#fdca26"
             ],
             [
              1,
              "#f0f921"
             ]
            ],
            "type": "surface"
           }
          ],
          "table": [
           {
            "cells": {
             "fill": {
              "color": "#EBF0F8"
             },
             "line": {
              "color": "white"
             }
            },
            "header": {
             "fill": {
              "color": "#C8D4E3"
             },
             "line": {
              "color": "white"
             }
            },
            "type": "table"
           }
          ]
         },
         "layout": {
          "annotationdefaults": {
           "arrowcolor": "#2a3f5f",
           "arrowhead": 0,
           "arrowwidth": 1
          },
          "autotypenumbers": "strict",
          "coloraxis": {
           "colorbar": {
            "outlinewidth": 0,
            "ticks": ""
           }
          },
          "colorscale": {
           "diverging": [
            [
             0,
             "#8e0152"
            ],
            [
             0.1,
             "#c51b7d"
            ],
            [
             0.2,
             "#de77ae"
            ],
            [
             0.3,
             "#f1b6da"
            ],
            [
             0.4,
             "#fde0ef"
            ],
            [
             0.5,
             "#f7f7f7"
            ],
            [
             0.6,
             "#e6f5d0"
            ],
            [
             0.7,
             "#b8e186"
            ],
            [
             0.8,
             "#7fbc41"
            ],
            [
             0.9,
             "#4d9221"
            ],
            [
             1,
             "#276419"
            ]
           ],
           "sequential": [
            [
             0,
             "#0d0887"
            ],
            [
             0.1111111111111111,
             "#46039f"
            ],
            [
             0.2222222222222222,
             "#7201a8"
            ],
            [
             0.3333333333333333,
             "#9c179e"
            ],
            [
             0.4444444444444444,
             "#bd3786"
            ],
            [
             0.5555555555555556,
             "#d8576b"
            ],
            [
             0.6666666666666666,
             "#ed7953"
            ],
            [
             0.7777777777777778,
             "#fb9f3a"
            ],
            [
             0.8888888888888888,
             "#fdca26"
            ],
            [
             1,
             "#f0f921"
            ]
           ],
           "sequentialminus": [
            [
             0,
             "#0d0887"
            ],
            [
             0.1111111111111111,
             "#46039f"
            ],
            [
             0.2222222222222222,
             "#7201a8"
            ],
            [
             0.3333333333333333,
             "#9c179e"
            ],
            [
             0.4444444444444444,
             "#bd3786"
            ],
            [
             0.5555555555555556,
             "#d8576b"
            ],
            [
             0.6666666666666666,
             "#ed7953"
            ],
            [
             0.7777777777777778,
             "#fb9f3a"
            ],
            [
             0.8888888888888888,
             "#fdca26"
            ],
            [
             1,
             "#f0f921"
            ]
           ]
          },
          "colorway": [
           "#636efa",
           "#EF553B",
           "#00cc96",
           "#ab63fa",
           "#FFA15A",
           "#19d3f3",
           "#FF6692",
           "#B6E880",
           "#FF97FF",
           "#FECB52"
          ],
          "font": {
           "color": "#2a3f5f"
          },
          "geo": {
           "bgcolor": "white",
           "lakecolor": "white",
           "landcolor": "#E5ECF6",
           "showlakes": true,
           "showland": true,
           "subunitcolor": "white"
          },
          "hoverlabel": {
           "align": "left"
          },
          "hovermode": "closest",
          "mapbox": {
           "style": "light"
          },
          "paper_bgcolor": "white",
          "plot_bgcolor": "#E5ECF6",
          "polar": {
           "angularaxis": {
            "gridcolor": "white",
            "linecolor": "white",
            "ticks": ""
           },
           "bgcolor": "#E5ECF6",
           "radialaxis": {
            "gridcolor": "white",
            "linecolor": "white",
            "ticks": ""
           }
          },
          "scene": {
           "xaxis": {
            "backgroundcolor": "#E5ECF6",
            "gridcolor": "white",
            "gridwidth": 2,
            "linecolor": "white",
            "showbackground": true,
            "ticks": "",
            "zerolinecolor": "white"
           },
           "yaxis": {
            "backgroundcolor": "#E5ECF6",
            "gridcolor": "white",
            "gridwidth": 2,
            "linecolor": "white",
            "showbackground": true,
            "ticks": "",
            "zerolinecolor": "white"
           },
           "zaxis": {
            "backgroundcolor": "#E5ECF6",
            "gridcolor": "white",
            "gridwidth": 2,
            "linecolor": "white",
            "showbackground": true,
            "ticks": "",
            "zerolinecolor": "white"
           }
          },
          "shapedefaults": {
           "line": {
            "color": "#2a3f5f"
           }
          },
          "ternary": {
           "aaxis": {
            "gridcolor": "white",
            "linecolor": "white",
            "ticks": ""
           },
           "baxis": {
            "gridcolor": "white",
            "linecolor": "white",
            "ticks": ""
           },
           "bgcolor": "#E5ECF6",
           "caxis": {
            "gridcolor": "white",
            "linecolor": "white",
            "ticks": ""
           }
          },
          "title": {
           "x": 0.05
          },
          "xaxis": {
           "automargin": true,
           "gridcolor": "white",
           "linecolor": "white",
           "ticks": "",
           "title": {
            "standoff": 15
           },
           "zerolinecolor": "white",
           "zerolinewidth": 2
          },
          "yaxis": {
           "automargin": true,
           "gridcolor": "white",
           "linecolor": "white",
           "ticks": "",
           "title": {
            "standoff": 15
           },
           "zerolinecolor": "white",
           "zerolinewidth": 2
          }
         }
        },
        "title": {
         "text": "Parameters optimization : minimization of the cost function for group 1"
        }
       }
      }
     },
     "metadata": {},
     "output_type": "display_data"
    }
   ],
   "source": [
    "fig = viewer.parallel_coordinates(nbest=500, reversescale=True, unselected_opacity=0.05, uniformed=True)\n",
    "\n",
    "for group in fig:\n",
    "    display(group)"
   ]
  },
  {
   "cell_type": "code",
   "execution_count": 27,
   "metadata": {},
   "outputs": [],
   "source": [
    "best_simulations = viewer.simulation_manager.run_first(3)"
   ]
  },
  {
   "cell_type": "code",
   "execution_count": 28,
   "metadata": {},
   "outputs": [
    {
     "data": {
      "text/plain": [
       "[<matplotlib.lines.Line2D at 0x32ebdc910>]"
      ]
     },
     "execution_count": 28,
     "metadata": {},
     "output_type": "execute_result"
    },
    {
     "data": {
      "image/png": "[encoded data removed]",
      "text/plain": [
       "<Figure size 640x480 with 1 Axes>"
      ]
     },
     "metadata": {},
     "output_type": "display_data"
    }
   ],
   "source": [
    "best_simulations.squeeze().plot.line(x=\"time\")\n",
    "observations[0].observation.squeeze().plot.line(label=\"Day observation\")"
   ]
  }
 ],
 "metadata": {
  "kernelspec": {
   "display_name": ".venv",
   "language": "python",
   "name": "python3"
  },
  "language_info": {
   "codemirror_mode": {
    "name": "ipython",
    "version": 3
   },
   "file_extension": ".py",
   "mimetype": "text/x-python",
   "name": "python",
   "nbconvert_exporter": "python",
   "pygments_lexer": "ipython3",
   "version": "3.13.3"
  }
 },
 "nbformat": 4,
 "nbformat_minor": 2
}
