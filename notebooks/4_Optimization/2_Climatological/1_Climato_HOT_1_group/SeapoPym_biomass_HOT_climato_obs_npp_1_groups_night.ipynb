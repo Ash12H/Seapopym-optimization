{
 "cells": [
  {
   "cell_type": "code",
   "execution_count": null,
   "metadata": {},
   "outputs": [],
   "source": [
    "from pathlib import Path\n",
    "\n",
    "import pandas as pd\n",
    "import xarray as xr\n",
    "from dask.distributed import Client\n",
    "from seapopym.configuration.no_transport import ForcingParameter, ForcingUnit\n",
    "from seapopym.standard.units import StandardUnitsLabels\n",
    "\n",
    "from seapopym_optimization.cost_function import DayCycle, SimpleRootMeanSquareErrorCostFunction, TimeSeriesObservation\n",
    "from seapopym_optimization.functional_group import NoTransportFunctionalGroup, Parameter\n",
    "from seapopym_optimization.genetic_algorithm import SimpleGeneticAlgorithm, SimpleGeneticAlgorithmParameters\n",
    "from seapopym_optimization.genetic_algorithm.simple_logbook import generate_logbook_with_sobol_sampling\n",
    "from seapopym_optimization.model_generator import NoTransportModelGenerator\n"
   ]
  },
  {
   "cell_type": "code",
   "execution_count": 2,
   "metadata": {},
   "outputs": [],
   "source": [
    "path_to_forcing = \"../../../1_data_processing/1_1_Forcing/data/1_products/Hot_cmems_climato.zarr\"\n",
    "path_to_npp = \"../../../1_data_processing/1_1_Forcing/data/1_products/Hot_observed_npp_climato.zarr\"\n",
    "path_to_obs = \"../../../1_data_processing/1_1_Forcing/data/1_products/Hot_obs_zoo_climato_monthly_2002_2015.zarr\"\n",
    "export_file_name = \"SeapoPym_HOT_climato_obs_npp_opti_all_parameters_1_group_night\""
   ]
  },
  {
   "cell_type": "code",
   "execution_count": 3,
   "metadata": {},
   "outputs": [],
   "source": [
    "LATITUDE = 22.75\n",
    "LONGITUDE = -158\n",
    "TIME_START = \"2005-01-02\"\n",
    "TIME_END = \"2009-12-27\"\n",
    "STABILIZATION_TIME = 5\n",
    "SAVE = True"
   ]
  },
  {
   "cell_type": "markdown",
   "metadata": {},
   "source": [
    "## Loading\n"
   ]
  },
  {
   "cell_type": "markdown",
   "metadata": {},
   "source": [
    "### Forcing\n"
   ]
  },
  {
   "cell_type": "code",
   "execution_count": 4,
   "metadata": {},
   "outputs": [
    {
     "data": {
      "text/html": [
       "<div><svg style=\"position: absolute; width: 0; height: 0; overflow: hidden\">\n",
       "<defs>\n",
       "<symbol id=\"icon-database\" viewBox=\"0 0 32 32\">\n",
       "<path d=\"M16 0c-8.837 0-16 2.239-16 5v4c0 2.761 7.163 5 16 5s16-2.239 16-5v-4c0-2.761-7.163-5-16-5z\"></path>\n",
       "<path d=\"M16 17c-8.837 0-16-2.239-16-5v6c0 2.761 7.163 5 16 5s16-2.239 16-5v-6c0 2.761-7.163 5-16 5z\"></path>\n",
       "<path d=\"M16 26c-8.837 0-16-2.239-16-5v6c0 2.761 7.163 5 16 5s16-2.239 16-5v-6c0 2.761-7.163 5-16 5z\"></path>\n",
       "</symbol>\n",
       "<symbol id=\"icon-file-text2\" viewBox=\"0 0 32 32\">\n",
       "<path d=\"M28.681 7.159c-0.694-0.947-1.662-2.053-2.724-3.116s-2.169-2.030-3.116-2.724c-1.612-1.182-2.393-1.319-2.841-1.319h-15.5c-1.378 0-2.5 1.121-2.5 2.5v27c0 1.378 1.122 2.5 2.5 2.5h23c1.378 0 2.5-1.122 2.5-2.5v-19.5c0-0.448-0.137-1.23-1.319-2.841zM24.543 5.457c0.959 0.959 1.712 1.825 2.268 2.543h-4.811v-4.811c0.718 0.556 1.584 1.309 2.543 2.268zM28 29.5c0 0.271-0.229 0.5-0.5 0.5h-23c-0.271 0-0.5-0.229-0.5-0.5v-27c0-0.271 0.229-0.5 0.5-0.5 0 0 15.499-0 15.5 0v7c0 0.552 0.448 1 1 1h7v19.5z\"></path>\n",
       "<path d=\"M23 26h-14c-0.552 0-1-0.448-1-1s0.448-1 1-1h14c0.552 0 1 0.448 1 1s-0.448 1-1 1z\"></path>\n",
       "<path d=\"M23 22h-14c-0.552 0-1-0.448-1-1s0.448-1 1-1h14c0.552 0 1 0.448 1 1s-0.448 1-1 1z\"></path>\n",
       "<path d=\"M23 18h-14c-0.552 0-1-0.448-1-1s0.448-1 1-1h14c0.552 0 1 0.448 1 1s-0.448 1-1 1z\"></path>\n",
       "</symbol>\n",
       "</defs>\n",
       "</svg>\n",
       "<style>/* CSS stylesheet for displaying xarray objects in jupyterlab.\n",
       " *\n",
       " */\n",
       "\n",
       ":root {\n",
       "  --xr-font-color0: var(--jp-content-font-color0, rgba(0, 0, 0, 1));\n",
       "  --xr-font-color2: var(--jp-content-font-color2, rgba(0, 0, 0, 0.54));\n",
       "  --xr-font-color3: var(--jp-content-font-color3, rgba(0, 0, 0, 0.38));\n",
       "  --xr-border-color: var(--jp-border-color2, #e0e0e0);\n",
       "  --xr-disabled-color: var(--jp-layout-color3, #bdbdbd);\n",
       "  --xr-background-color: var(--jp-layout-color0, white);\n",
       "  --xr-background-color-row-even: var(--jp-layout-color1, white);\n",
       "  --xr-background-color-row-odd: var(--jp-layout-color2, #eeeeee);\n",
       "}\n",
       "\n",
       "html[theme=\"dark\"],\n",
       "html[data-theme=\"dark\"],\n",
       "body[data-theme=\"dark\"],\n",
       "body.vscode-dark {\n",
       "  --xr-font-color0: rgba(255, 255, 255, 1);\n",
       "  --xr-font-color2: rgba(255, 255, 255, 0.54);\n",
       "  --xr-font-color3: rgba(255, 255, 255, 0.38);\n",
       "  --xr-border-color: #1f1f1f;\n",
       "  --xr-disabled-color: #515151;\n",
       "  --xr-background-color: #111111;\n",
       "  --xr-background-color-row-even: #111111;\n",
       "  --xr-background-color-row-odd: #313131;\n",
       "}\n",
       "\n",
       ".xr-wrap {\n",
       "  display: block !important;\n",
       "  min-width: 300px;\n",
       "  max-width: 700px;\n",
       "}\n",
       "\n",
       ".xr-text-repr-fallback {\n",
       "  /* fallback to plain text repr when CSS is not injected (untrusted notebook) */\n",
       "  display: none;\n",
       "}\n",
       "\n",
       ".xr-header {\n",
       "  padding-top: 6px;\n",
       "  padding-bottom: 6px;\n",
       "  margin-bottom: 4px;\n",
       "  border-bottom: solid 1px var(--xr-border-color);\n",
       "}\n",
       "\n",
       ".xr-header > div,\n",
       ".xr-header > ul {\n",
       "  display: inline;\n",
       "  margin-top: 0;\n",
       "  margin-bottom: 0;\n",
       "}\n",
       "\n",
       ".xr-obj-type,\n",
       ".xr-array-name {\n",
       "  margin-left: 2px;\n",
       "  margin-right: 10px;\n",
       "}\n",
       "\n",
       ".xr-obj-type {\n",
       "  color: var(--xr-font-color2);\n",
       "}\n",
       "\n",
       ".xr-sections {\n",
       "  padding-left: 0 !important;\n",
       "  display: grid;\n",
       "  grid-template-columns: 150px auto auto 1fr 0 20px 0 20px;\n",
       "}\n",
       "\n",
       ".xr-section-item {\n",
       "  display: contents;\n",
       "}\n",
       "\n",
       ".xr-section-item input {\n",
       "  display: inline-block;\n",
       "  opacity: 0;\n",
       "  height: 0;\n",
       "}\n",
       "\n",
       ".xr-section-item input + label {\n",
       "  color: var(--xr-disabled-color);\n",
       "}\n",
       "\n",
       ".xr-section-item input:enabled + label {\n",
       "  cursor: pointer;\n",
       "  color: var(--xr-font-color2);\n",
       "}\n",
       "\n",
       ".xr-section-item input:focus + label {\n",
       "  border: 2px solid var(--xr-font-color0);\n",
       "}\n",
       "\n",
       ".xr-section-item input:enabled + label:hover {\n",
       "  color: var(--xr-font-color0);\n",
       "}\n",
       "\n",
       ".xr-section-summary {\n",
       "  grid-column: 1;\n",
       "  color: var(--xr-font-color2);\n",
       "  font-weight: 500;\n",
       "}\n",
       "\n",
       ".xr-section-summary > span {\n",
       "  display: inline-block;\n",
       "  padding-left: 0.5em;\n",
       "}\n",
       "\n",
       ".xr-section-summary-in:disabled + label {\n",
       "  color: var(--xr-font-color2);\n",
       "}\n",
       "\n",
       ".xr-section-summary-in + label:before {\n",
       "  display: inline-block;\n",
       "  content: \"►\";\n",
       "  font-size: 11px;\n",
       "  width: 15px;\n",
       "  text-align: center;\n",
       "}\n",
       "\n",
       ".xr-section-summary-in:disabled + label:before {\n",
       "  color: var(--xr-disabled-color);\n",
       "}\n",
       "\n",
       ".xr-section-summary-in:checked + label:before {\n",
       "  content: \"▼\";\n",
       "}\n",
       "\n",
       ".xr-section-summary-in:checked + label > span {\n",
       "  display: none;\n",
       "}\n",
       "\n",
       ".xr-section-summary,\n",
       ".xr-section-inline-details {\n",
       "  padding-top: 4px;\n",
       "  padding-bottom: 4px;\n",
       "}\n",
       "\n",
       ".xr-section-inline-details {\n",
       "  grid-column: 2 / -1;\n",
       "}\n",
       "\n",
       ".xr-section-details {\n",
       "  display: none;\n",
       "  grid-column: 1 / -1;\n",
       "  margin-bottom: 5px;\n",
       "}\n",
       "\n",
       ".xr-section-summary-in:checked ~ .xr-section-details {\n",
       "  display: contents;\n",
       "}\n",
       "\n",
       ".xr-array-wrap {\n",
       "  grid-column: 1 / -1;\n",
       "  display: grid;\n",
       "  grid-template-columns: 20px auto;\n",
       "}\n",
       "\n",
       ".xr-array-wrap > label {\n",
       "  grid-column: 1;\n",
       "  vertical-align: top;\n",
       "}\n",
       "\n",
       ".xr-preview {\n",
       "  color: var(--xr-font-color3);\n",
       "}\n",
       "\n",
       ".xr-array-preview,\n",
       ".xr-array-data {\n",
       "  padding: 0 5px !important;\n",
       "  grid-column: 2;\n",
       "}\n",
       "\n",
       ".xr-array-data,\n",
       ".xr-array-in:checked ~ .xr-array-preview {\n",
       "  display: none;\n",
       "}\n",
       "\n",
       ".xr-array-in:checked ~ .xr-array-data,\n",
       ".xr-array-preview {\n",
       "  display: inline-block;\n",
       "}\n",
       "\n",
       ".xr-dim-list {\n",
       "  display: inline-block !important;\n",
       "  list-style: none;\n",
       "  padding: 0 !important;\n",
       "  margin: 0;\n",
       "}\n",
       "\n",
       ".xr-dim-list li {\n",
       "  display: inline-block;\n",
       "  padding: 0;\n",
       "  margin: 0;\n",
       "}\n",
       "\n",
       ".xr-dim-list:before {\n",
       "  content: \"(\";\n",
       "}\n",
       "\n",
       ".xr-dim-list:after {\n",
       "  content: \")\";\n",
       "}\n",
       "\n",
       ".xr-dim-list li:not(:last-child):after {\n",
       "  content: \",\";\n",
       "  padding-right: 5px;\n",
       "}\n",
       "\n",
       ".xr-has-index {\n",
       "  font-weight: bold;\n",
       "}\n",
       "\n",
       ".xr-var-list,\n",
       ".xr-var-item {\n",
       "  display: contents;\n",
       "}\n",
       "\n",
       ".xr-var-item > div,\n",
       ".xr-var-item label,\n",
       ".xr-var-item > .xr-var-name span {\n",
       "  background-color: var(--xr-background-color-row-even);\n",
       "  margin-bottom: 0;\n",
       "}\n",
       "\n",
       ".xr-var-item > .xr-var-name:hover span {\n",
       "  padding-right: 5px;\n",
       "}\n",
       "\n",
       ".xr-var-list > li:nth-child(odd) > div,\n",
       ".xr-var-list > li:nth-child(odd) > label,\n",
       ".xr-var-list > li:nth-child(odd) > .xr-var-name span {\n",
       "  background-color: var(--xr-background-color-row-odd);\n",
       "}\n",
       "\n",
       ".xr-var-name {\n",
       "  grid-column: 1;\n",
       "}\n",
       "\n",
       ".xr-var-dims {\n",
       "  grid-column: 2;\n",
       "}\n",
       "\n",
       ".xr-var-dtype {\n",
       "  grid-column: 3;\n",
       "  text-align: right;\n",
       "  color: var(--xr-font-color2);\n",
       "}\n",
       "\n",
       ".xr-var-preview {\n",
       "  grid-column: 4;\n",
       "}\n",
       "\n",
       ".xr-index-preview {\n",
       "  grid-column: 2 / 5;\n",
       "  color: var(--xr-font-color2);\n",
       "}\n",
       "\n",
       ".xr-var-name,\n",
       ".xr-var-dims,\n",
       ".xr-var-dtype,\n",
       ".xr-preview,\n",
       ".xr-attrs dt {\n",
       "  white-space: nowrap;\n",
       "  overflow: hidden;\n",
       "  text-overflow: ellipsis;\n",
       "  padding-right: 10px;\n",
       "}\n",
       "\n",
       ".xr-var-name:hover,\n",
       ".xr-var-dims:hover,\n",
       ".xr-var-dtype:hover,\n",
       ".xr-attrs dt:hover {\n",
       "  overflow: visible;\n",
       "  width: auto;\n",
       "  z-index: 1;\n",
       "}\n",
       "\n",
       ".xr-var-attrs,\n",
       ".xr-var-data,\n",
       ".xr-index-data {\n",
       "  display: none;\n",
       "  background-color: var(--xr-background-color) !important;\n",
       "  padding-bottom: 5px !important;\n",
       "}\n",
       "\n",
       ".xr-var-attrs-in:checked ~ .xr-var-attrs,\n",
       ".xr-var-data-in:checked ~ .xr-var-data,\n",
       ".xr-index-data-in:checked ~ .xr-index-data {\n",
       "  display: block;\n",
       "}\n",
       "\n",
       ".xr-var-data > table {\n",
       "  float: right;\n",
       "}\n",
       "\n",
       ".xr-var-name span,\n",
       ".xr-var-data,\n",
       ".xr-index-name div,\n",
       ".xr-index-data,\n",
       ".xr-attrs {\n",
       "  padding-left: 25px !important;\n",
       "}\n",
       "\n",
       ".xr-attrs,\n",
       ".xr-var-attrs,\n",
       ".xr-var-data,\n",
       ".xr-index-data {\n",
       "  grid-column: 1 / -1;\n",
       "}\n",
       "\n",
       "dl.xr-attrs {\n",
       "  padding: 0;\n",
       "  margin: 0;\n",
       "  display: grid;\n",
       "  grid-template-columns: 125px auto;\n",
       "}\n",
       "\n",
       ".xr-attrs dt,\n",
       ".xr-attrs dd {\n",
       "  padding: 0;\n",
       "  margin: 0;\n",
       "  float: left;\n",
       "  padding-right: 10px;\n",
       "  width: auto;\n",
       "}\n",
       "\n",
       ".xr-attrs dt {\n",
       "  font-weight: normal;\n",
       "  grid-column: 1;\n",
       "}\n",
       "\n",
       ".xr-attrs dt:hover span {\n",
       "  display: inline-block;\n",
       "  background: var(--xr-background-color);\n",
       "  padding-right: 10px;\n",
       "}\n",
       "\n",
       ".xr-attrs dd {\n",
       "  grid-column: 2;\n",
       "  white-space: pre-wrap;\n",
       "  word-break: break-all;\n",
       "}\n",
       "\n",
       ".xr-icon-database,\n",
       ".xr-icon-file-text2,\n",
       ".xr-no-icon {\n",
       "  display: inline-block;\n",
       "  vertical-align: middle;\n",
       "  width: 1em;\n",
       "  height: 1.5em !important;\n",
       "  stroke-width: 0;\n",
       "  stroke: currentColor;\n",
       "  fill: currentColor;\n",
       "}\n",
       "</style><pre class='xr-text-repr-fallback'>&lt;xarray.Dataset&gt; Size: 321kB\n",
       "Dimensions:              (time: 1821, latitude: 1, longitude: 1, depth: 3)\n",
       "Coordinates:\n",
       "  * depth                (depth) int64 24B 0 1 2\n",
       "  * latitude             (latitude) float64 8B 22.75\n",
       "  * longitude            (longitude) int64 8B -158\n",
       "  * time                 (time) datetime64[ns] 15kB 2005-01-02 ... 2009-12-27\n",
       "Data variables: (12/13)\n",
       "    T                    (time, latitude, longitude, depth) float64 44kB 23.8...\n",
       "    U                    (time, latitude, longitude, depth) float64 44kB -0.0...\n",
       "    V                    (time, latitude, longitude, depth) float64 44kB -0.0...\n",
       "    mnkc_epi             (time, latitude, longitude) float64 15kB 0.2862 ... ...\n",
       "    mnkc_hmlmeso         (time, latitude, longitude) float64 15kB 0.8062 ... ...\n",
       "    mnkc_lmeso           (time, latitude, longitude) float64 15kB 2.113 ... 2...\n",
       "    ...                   ...\n",
       "    mnkc_mumeso          (time, latitude, longitude) float64 15kB 0.5676 ... ...\n",
       "    mnkc_umeso           (time, latitude, longitude) float64 15kB 0.4922 ... ...\n",
       "    npp                  (time, latitude, longitude) float64 15kB 322.7 ... 3...\n",
       "    pelagic_layer_depth  (time, latitude, longitude, depth) float64 44kB 113....\n",
       "    zeu                  (time, latitude, longitude) float64 15kB 75.51 ... 7...\n",
       "    zooc                 (time, latitude, longitude) float64 15kB 0.267 ... 0...\n",
       "Attributes:\n",
       "    Conventions:  CF-1.7\n",
       "    history:      Created on 2024-10-17\n",
       "    institution:  CLS\n",
       "    references:   http://www.cls.fr; http://www.seapodym.eu\n",
       "    source:       SEAPODYM-LMTL 3.0.0\n",
       "    title:        Global ocean low and mid trophic levels biomass content hin...</pre><div class='xr-wrap' style='display:none'><div class='xr-header'><div class='xr-obj-type'>xarray.Dataset</div></div><ul class='xr-sections'><li class='xr-section-item'><input id='section-ef42c1be-561a-4dd1-b0eb-46a368eca5a7' class='xr-section-summary-in' type='checkbox' disabled ><label for='section-ef42c1be-561a-4dd1-b0eb-46a368eca5a7' class='xr-section-summary'  title='Expand/collapse section'>Dimensions:</label><div class='xr-section-inline-details'><ul class='xr-dim-list'><li><span class='xr-has-index'>time</span>: 1821</li><li><span class='xr-has-index'>latitude</span>: 1</li><li><span class='xr-has-index'>longitude</span>: 1</li><li><span class='xr-has-index'>depth</span>: 3</li></ul></div><div class='xr-section-details'></div></li><li class='xr-section-item'><input id='section-61b47700-dc24-42cf-b9fd-7049b6ed17d2' class='xr-section-summary-in' type='checkbox'  checked><label for='section-61b47700-dc24-42cf-b9fd-7049b6ed17d2' class='xr-section-summary' >Coordinates: <span>(4)</span></label><div class='xr-section-inline-details'></div><div class='xr-section-details'><ul class='xr-var-list'><li class='xr-var-item'><div class='xr-var-name'><span class='xr-has-index'>depth</span></div><div class='xr-var-dims'>(depth)</div><div class='xr-var-dtype'>int64</div><div class='xr-var-preview xr-preview'>0 1 2</div><input id='attrs-13b70e1e-6f4b-467f-b165-543fa2261533' class='xr-var-attrs-in' type='checkbox' ><label for='attrs-13b70e1e-6f4b-467f-b165-543fa2261533' title='Show/Hide attributes'><svg class='icon xr-icon-file-text2'><use xlink:href='#icon-file-text2'></use></svg></label><input id='data-2045d38a-57b1-4a98-9b7f-86305d278d25' class='xr-var-data-in' type='checkbox'><label for='data-2045d38a-57b1-4a98-9b7f-86305d278d25' title='Show/Hide data repr'><svg class='icon xr-icon-database'><use xlink:href='#icon-database'></use></svg></label><div class='xr-var-attrs'><dl class='xr-attrs'><dt><span>axis :</span></dt><dd>Z</dd><dt><span>desc :</span></dt><dd>The layer depth according to Seapodym definition</dd><dt><span>flag_meanings :</span></dt><dd>epipelagic, upper-mesopelagic, lower-mesopelagic</dd><dt><span>flag_values :</span></dt><dd>[0 1 2]</dd><dt><span>long_name :</span></dt><dd>Layer depth</dd><dt><span>standard_name :</span></dt><dd>depth</dd></dl></div><div class='xr-var-data'><pre>array([0, 1, 2])</pre></div></li><li class='xr-var-item'><div class='xr-var-name'><span class='xr-has-index'>latitude</span></div><div class='xr-var-dims'>(latitude)</div><div class='xr-var-dtype'>float64</div><div class='xr-var-preview xr-preview'>22.75</div><input id='attrs-c0ab5c64-1c9f-4788-8524-8b073c3c66bb' class='xr-var-attrs-in' type='checkbox' ><label for='attrs-c0ab5c64-1c9f-4788-8524-8b073c3c66bb' title='Show/Hide attributes'><svg class='icon xr-icon-file-text2'><use xlink:href='#icon-file-text2'></use></svg></label><input id='data-78f919e6-edbf-40d0-9090-2be43de2da5d' class='xr-var-data-in' type='checkbox'><label for='data-78f919e6-edbf-40d0-9090-2be43de2da5d' title='Show/Hide data repr'><svg class='icon xr-icon-database'><use xlink:href='#icon-database'></use></svg></label><div class='xr-var-attrs'><dl class='xr-attrs'><dt><span>axis :</span></dt><dd>Y</dd><dt><span>standard_name :</span></dt><dd>latitude</dd><dt><span>units :</span></dt><dd>degrees_north</dd></dl></div><div class='xr-var-data'><pre>array([22.75])</pre></div></li><li class='xr-var-item'><div class='xr-var-name'><span class='xr-has-index'>longitude</span></div><div class='xr-var-dims'>(longitude)</div><div class='xr-var-dtype'>int64</div><div class='xr-var-preview xr-preview'>-158</div><input id='attrs-2767a919-8598-413f-b3f3-9a229f3c4ccd' class='xr-var-attrs-in' type='checkbox' ><label for='attrs-2767a919-8598-413f-b3f3-9a229f3c4ccd' title='Show/Hide attributes'><svg class='icon xr-icon-file-text2'><use xlink:href='#icon-file-text2'></use></svg></label><input id='data-03f1cf4b-a725-44cf-95fd-857fc08ff0aa' class='xr-var-data-in' type='checkbox'><label for='data-03f1cf4b-a725-44cf-95fd-857fc08ff0aa' title='Show/Hide data repr'><svg class='icon xr-icon-database'><use xlink:href='#icon-database'></use></svg></label><div class='xr-var-attrs'><dl class='xr-attrs'><dt><span>axis :</span></dt><dd>X</dd><dt><span>standard_name :</span></dt><dd>longitude</dd><dt><span>units :</span></dt><dd>degrees_east</dd></dl></div><div class='xr-var-data'><pre>array([-158])</pre></div></li><li class='xr-var-item'><div class='xr-var-name'><span class='xr-has-index'>time</span></div><div class='xr-var-dims'>(time)</div><div class='xr-var-dtype'>datetime64[ns]</div><div class='xr-var-preview xr-preview'>2005-01-02 ... 2009-12-27</div><input id='attrs-89d26866-e9bf-4569-a7a3-ac1ebf3cc6e8' class='xr-var-attrs-in' type='checkbox' ><label for='attrs-89d26866-e9bf-4569-a7a3-ac1ebf3cc6e8' title='Show/Hide attributes'><svg class='icon xr-icon-file-text2'><use xlink:href='#icon-file-text2'></use></svg></label><input id='data-305bc9fd-0ff0-4194-a009-54ce688bcc0a' class='xr-var-data-in' type='checkbox'><label for='data-305bc9fd-0ff0-4194-a009-54ce688bcc0a' title='Show/Hide data repr'><svg class='icon xr-icon-database'><use xlink:href='#icon-database'></use></svg></label><div class='xr-var-attrs'><dl class='xr-attrs'><dt><span>axis :</span></dt><dd>T</dd><dt><span>long_name :</span></dt><dd>Time</dd><dt><span>standard_name :</span></dt><dd>time</dd><dt><span>unit_long :</span></dt><dd>Seconds Since 1970-01-01</dd></dl></div><div class='xr-var-data'><pre>array([&#x27;2005-01-02T00:00:00.000000000&#x27;, &#x27;2005-01-03T00:00:00.000000000&#x27;,\n",
       "       &#x27;2005-01-04T00:00:00.000000000&#x27;, ..., &#x27;2009-12-25T00:00:00.000000000&#x27;,\n",
       "       &#x27;2009-12-26T00:00:00.000000000&#x27;, &#x27;2009-12-27T00:00:00.000000000&#x27;],\n",
       "      shape=(1821,), dtype=&#x27;datetime64[ns]&#x27;)</pre></div></li></ul></div></li><li class='xr-section-item'><input id='section-2d1cdf1a-3a9e-47d4-9d3e-d9567d0f2f6a' class='xr-section-summary-in' type='checkbox'  checked><label for='section-2d1cdf1a-3a9e-47d4-9d3e-d9567d0f2f6a' class='xr-section-summary' >Data variables: <span>(13)</span></label><div class='xr-section-inline-details'></div><div class='xr-section-details'><ul class='xr-var-list'><li class='xr-var-item'><div class='xr-var-name'><span>T</span></div><div class='xr-var-dims'>(time, latitude, longitude, depth)</div><div class='xr-var-dtype'>float64</div><div class='xr-var-preview xr-preview'>23.86 16.69 6.824 ... 16.77 6.935</div><input id='attrs-00d6f371-41e0-4ea5-b96d-cd9620356bef' class='xr-var-attrs-in' type='checkbox' ><label for='attrs-00d6f371-41e0-4ea5-b96d-cd9620356bef' title='Show/Hide attributes'><svg class='icon xr-icon-file-text2'><use xlink:href='#icon-file-text2'></use></svg></label><input id='data-05258f75-ca30-492c-a9a3-007bb036ef26' class='xr-var-data-in' type='checkbox'><label for='data-05258f75-ca30-492c-a9a3-007bb036ef26' title='Show/Hide data repr'><svg class='icon xr-icon-database'><use xlink:href='#icon-database'></use></svg></label><div class='xr-var-attrs'><dl class='xr-attrs'><dt><span>standard_name :</span></dt><dd>sea_water_potential_temperature_vertical_mean_over_pelagic_layer</dd><dt><span>units :</span></dt><dd>degree_Celsius</dd></dl></div><div class='xr-var-data'><pre>array([[[[23.85599605, 16.6903158 ,  6.82406215]]],\n",
       "\n",
       "\n",
       "       [[[23.82623876, 16.6691888 ,  6.79199569]]],\n",
       "\n",
       "\n",
       "       [[[23.79018946, 16.69249884,  6.81049333]]],\n",
       "\n",
       "\n",
       "       ...,\n",
       "\n",
       "\n",
       "       [[[24.05466258, 16.62024015,  6.89222643]]],\n",
       "\n",
       "\n",
       "       [[[24.02378952, 16.59820113,  6.85563379]]],\n",
       "\n",
       "\n",
       "       [[[24.03342401, 16.7654464 ,  6.93489277]]]], shape=(1821, 1, 1, 3))</pre></div></li><li class='xr-var-item'><div class='xr-var-name'><span>U</span></div><div class='xr-var-dims'>(time, latitude, longitude, depth)</div><div class='xr-var-dtype'>float64</div><div class='xr-var-preview xr-preview'>-0.03859 -0.07642 ... -0.04998</div><input id='attrs-16314835-7dd8-40ec-ad3a-5b4cde39aa15' class='xr-var-attrs-in' type='checkbox' ><label for='attrs-16314835-7dd8-40ec-ad3a-5b4cde39aa15' title='Show/Hide attributes'><svg class='icon xr-icon-file-text2'><use xlink:href='#icon-file-text2'></use></svg></label><input id='data-3266a5de-f8ee-40d7-a27e-5002a0dac901' class='xr-var-data-in' type='checkbox'><label for='data-3266a5de-f8ee-40d7-a27e-5002a0dac901' title='Show/Hide data repr'><svg class='icon xr-icon-database'><use xlink:href='#icon-database'></use></svg></label><div class='xr-var-attrs'><dl class='xr-attrs'><dt><span>standard_name :</span></dt><dd>eastward_sea_water_velocity_vertical_mean_over_pelagic_layer</dd><dt><span>units :</span></dt><dd>m/s</dd></dl></div><div class='xr-var-data'><pre>array([[[[-0.03859491, -0.0764185 , -0.05107602]]],\n",
       "\n",
       "\n",
       "       [[[-0.03775054, -0.07324144, -0.05091585]]],\n",
       "\n",
       "\n",
       "       [[[-0.04942942, -0.07181869, -0.05055478]]],\n",
       "\n",
       "\n",
       "       ...,\n",
       "\n",
       "\n",
       "       [[[-0.03866376, -0.06466844, -0.04851433]]],\n",
       "\n",
       "\n",
       "       [[[-0.04136032, -0.06608837, -0.04888851]]],\n",
       "\n",
       "\n",
       "       [[[-0.04635211, -0.06878869, -0.04997969]]]], shape=(1821, 1, 1, 3))</pre></div></li><li class='xr-var-item'><div class='xr-var-name'><span>V</span></div><div class='xr-var-dims'>(time, latitude, longitude, depth)</div><div class='xr-var-dtype'>float64</div><div class='xr-var-preview xr-preview'>-0.01033 -0.0008562 ... -0.01793</div><input id='attrs-6a1342f7-9977-4f06-9311-80b4a42af00d' class='xr-var-attrs-in' type='checkbox' ><label for='attrs-6a1342f7-9977-4f06-9311-80b4a42af00d' title='Show/Hide attributes'><svg class='icon xr-icon-file-text2'><use xlink:href='#icon-file-text2'></use></svg></label><input id='data-da5950bd-95d9-49c2-93a4-41c07923cd98' class='xr-var-data-in' type='checkbox'><label for='data-da5950bd-95d9-49c2-93a4-41c07923cd98' title='Show/Hide data repr'><svg class='icon xr-icon-database'><use xlink:href='#icon-database'></use></svg></label><div class='xr-var-attrs'><dl class='xr-attrs'><dt><span>standard_name :</span></dt><dd>northward_sea_water_velocity_vertical_mean_over_pelagic_layer</dd><dt><span>units :</span></dt><dd>m/s</dd></dl></div><div class='xr-var-data'><pre>array([[[[-0.0103296 , -0.00085623, -0.0076152 ]]],\n",
       "\n",
       "\n",
       "       [[[-0.0225967 , -0.00700535, -0.00887044]]],\n",
       "\n",
       "\n",
       "       [[[-0.02122028, -0.00957228, -0.0096482 ]]],\n",
       "\n",
       "\n",
       "       ...,\n",
       "\n",
       "\n",
       "       [[[-0.0167581 , -0.01770183, -0.01802793]]],\n",
       "\n",
       "\n",
       "       [[[-0.016011  , -0.01863292, -0.01772666]]],\n",
       "\n",
       "\n",
       "       [[[-0.00881884, -0.01768577, -0.01792572]]]], shape=(1821, 1, 1, 3))</pre></div></li><li class='xr-var-item'><div class='xr-var-name'><span>mnkc_epi</span></div><div class='xr-var-dims'>(time, latitude, longitude)</div><div class='xr-var-dtype'>float64</div><div class='xr-var-preview xr-preview'>0.2862 0.2936 ... 0.2652 0.2692</div><input id='attrs-9c2967ee-b97d-4da5-8e57-60e7b659f24e' class='xr-var-attrs-in' type='checkbox' ><label for='attrs-9c2967ee-b97d-4da5-8e57-60e7b659f24e' title='Show/Hide attributes'><svg class='icon xr-icon-file-text2'><use xlink:href='#icon-file-text2'></use></svg></label><input id='data-19709215-e446-4284-80e6-4dfcf7f8d5c2' class='xr-var-data-in' type='checkbox'><label for='data-19709215-e446-4284-80e6-4dfcf7f8d5c2' title='Show/Hide data repr'><svg class='icon xr-icon-database'><use xlink:href='#icon-database'></use></svg></label><div class='xr-var-attrs'><dl class='xr-attrs'><dt><span>carbon_to_wet_weight_conversion_factor :</span></dt><dd>11.9</dd><dt><span>day_layer :</span></dt><dd>epipelagic (1)</dd><dt><span>night_layer :</span></dt><dd>epipelagic (1)</dd><dt><span>standard_name :</span></dt><dd>mass_content_of_epipelagic_micronekton_expressed_as_wet_weight_in_sea_water</dd><dt><span>units :</span></dt><dd>g m-2</dd></dl></div><div class='xr-var-data'><pre>array([[[0.28618903]],\n",
       "\n",
       "       [[0.29356157]],\n",
       "\n",
       "       [[0.29937024]],\n",
       "\n",
       "       ...,\n",
       "\n",
       "       [[0.26273095]],\n",
       "\n",
       "       [[0.26518846]],\n",
       "\n",
       "       [[0.26920985]]], shape=(1821, 1, 1))</pre></div></li><li class='xr-var-item'><div class='xr-var-name'><span>mnkc_hmlmeso</span></div><div class='xr-var-dims'>(time, latitude, longitude)</div><div class='xr-var-dtype'>float64</div><div class='xr-var-preview xr-preview'>0.8062 0.8178 ... 0.7774 0.7919</div><input id='attrs-c5338d5f-e3bb-4a34-b75c-70e6c9232bc8' class='xr-var-attrs-in' type='checkbox' ><label for='attrs-c5338d5f-e3bb-4a34-b75c-70e6c9232bc8' title='Show/Hide attributes'><svg class='icon xr-icon-file-text2'><use xlink:href='#icon-file-text2'></use></svg></label><input id='data-6947f609-5e04-41c2-9dd3-769a3426de07' class='xr-var-data-in' type='checkbox'><label for='data-6947f609-5e04-41c2-9dd3-769a3426de07' title='Show/Hide data repr'><svg class='icon xr-icon-database'><use xlink:href='#icon-database'></use></svg></label><div class='xr-var-attrs'><dl class='xr-attrs'><dt><span>carbon_to_wet_weight_conversion_factor :</span></dt><dd>11.9</dd><dt><span>day_layer :</span></dt><dd>lower mesopelagic (3)</dd><dt><span>night_layer :</span></dt><dd>epipelagic (1)</dd><dt><span>standard_name :</span></dt><dd>mass_content_of_highly_migrant_lower_mesopelagic_micronekton_expressed_as_wet_weight_in_sea_water</dd><dt><span>units :</span></dt><dd>g m-2</dd></dl></div><div class='xr-var-data'><pre>array([[[0.80620081]],\n",
       "\n",
       "       [[0.81784154]],\n",
       "\n",
       "       [[0.83001625]],\n",
       "\n",
       "       ...,\n",
       "\n",
       "       [[0.77202619]],\n",
       "\n",
       "       [[0.77736598]],\n",
       "\n",
       "       [[0.79189019]]], shape=(1821, 1, 1))</pre></div></li><li class='xr-var-item'><div class='xr-var-name'><span>mnkc_lmeso</span></div><div class='xr-var-dims'>(time, latitude, longitude)</div><div class='xr-var-dtype'>float64</div><div class='xr-var-preview xr-preview'>2.113 2.114 2.113 ... 2.182 2.178</div><input id='attrs-696a845e-9b6a-476f-9caf-9309ece6dc32' class='xr-var-attrs-in' type='checkbox' ><label for='attrs-696a845e-9b6a-476f-9caf-9309ece6dc32' title='Show/Hide attributes'><svg class='icon xr-icon-file-text2'><use xlink:href='#icon-file-text2'></use></svg></label><input id='data-a83436c6-a913-4ceb-8f65-edc8dd64e252' class='xr-var-data-in' type='checkbox'><label for='data-a83436c6-a913-4ceb-8f65-edc8dd64e252' title='Show/Hide data repr'><svg class='icon xr-icon-database'><use xlink:href='#icon-database'></use></svg></label><div class='xr-var-attrs'><dl class='xr-attrs'><dt><span>carbon_to_wet_weight_conversion_factor :</span></dt><dd>11.9</dd><dt><span>day_layer :</span></dt><dd>lower mesopelagic (3)</dd><dt><span>night_layer :</span></dt><dd>lower mesopelagic (3)</dd><dt><span>standard_name :</span></dt><dd>mass_content_of_lower_mesopelagic_micronekton_expressed_as_wet_weight_in_sea_water</dd><dt><span>units :</span></dt><dd>g m-2</dd></dl></div><div class='xr-var-data'><pre>array([[[2.11295278]],\n",
       "\n",
       "       [[2.11440443]],\n",
       "\n",
       "       [[2.11316626]],\n",
       "\n",
       "       ...,\n",
       "\n",
       "       [[2.1852361 ]],\n",
       "\n",
       "       [[2.18194855]],\n",
       "\n",
       "       [[2.1777644 ]]], shape=(1821, 1, 1))</pre></div></li><li class='xr-var-item'><div class='xr-var-name'><span>mnkc_mlmeso</span></div><div class='xr-var-dims'>(time, latitude, longitude)</div><div class='xr-var-dtype'>float64</div><div class='xr-var-preview xr-preview'>0.9614 0.9648 ... 0.9238 0.924</div><input id='attrs-b63cb1aa-56eb-4412-bd65-d86cf2f0c3b1' class='xr-var-attrs-in' type='checkbox' ><label for='attrs-b63cb1aa-56eb-4412-bd65-d86cf2f0c3b1' title='Show/Hide attributes'><svg class='icon xr-icon-file-text2'><use xlink:href='#icon-file-text2'></use></svg></label><input id='data-eab4b509-c9c9-4949-975e-89826d3eef1f' class='xr-var-data-in' type='checkbox'><label for='data-eab4b509-c9c9-4949-975e-89826d3eef1f' title='Show/Hide data repr'><svg class='icon xr-icon-database'><use xlink:href='#icon-database'></use></svg></label><div class='xr-var-attrs'><dl class='xr-attrs'><dt><span>carbon_to_wet_weight_conversion_factor :</span></dt><dd>11.9</dd><dt><span>day_layer :</span></dt><dd>lower mesopelagic (3)</dd><dt><span>night_layer :</span></dt><dd>upper mesopelagic (2)</dd><dt><span>standard_name :</span></dt><dd>mass_content_of_migrant_lower_mesopelagic_micronekton_expressed_as_wet_weight_in_sea_water</dd><dt><span>units :</span></dt><dd>g m-2</dd></dl></div><div class='xr-var-data'><pre>array([[[0.96142721]],\n",
       "\n",
       "       [[0.96477503]],\n",
       "\n",
       "       [[0.96818981]],\n",
       "\n",
       "       ...,\n",
       "\n",
       "       [[0.92587336]],\n",
       "\n",
       "       [[0.92379771]],\n",
       "\n",
       "       [[0.92399858]]], shape=(1821, 1, 1))</pre></div></li><li class='xr-var-item'><div class='xr-var-name'><span>mnkc_mumeso</span></div><div class='xr-var-dims'>(time, latitude, longitude)</div><div class='xr-var-dtype'>float64</div><div class='xr-var-preview xr-preview'>0.5676 0.5756 ... 0.5281 0.5448</div><input id='attrs-3503465c-0251-42db-87d6-8bd0d4e91f34' class='xr-var-attrs-in' type='checkbox' ><label for='attrs-3503465c-0251-42db-87d6-8bd0d4e91f34' title='Show/Hide attributes'><svg class='icon xr-icon-file-text2'><use xlink:href='#icon-file-text2'></use></svg></label><input id='data-38e51da6-45bf-42b8-9b72-a04c9d835d32' class='xr-var-data-in' type='checkbox'><label for='data-38e51da6-45bf-42b8-9b72-a04c9d835d32' title='Show/Hide data repr'><svg class='icon xr-icon-database'><use xlink:href='#icon-database'></use></svg></label><div class='xr-var-attrs'><dl class='xr-attrs'><dt><span>carbon_to_wet_weight_conversion_factor :</span></dt><dd>11.9</dd><dt><span>day_layer :</span></dt><dd>upper mesopelagic (2)</dd><dt><span>night_layer :</span></dt><dd>epipelagic (1)</dd><dt><span>standard_name :</span></dt><dd>mass_content_of_migrant_upper_mesopelagic_micronekton_expressed_as_wet_weight_in_sea_water</dd><dt><span>units :</span></dt><dd>g m-2</dd></dl></div><div class='xr-var-data'><pre>array([[[0.56757045]],\n",
       "\n",
       "       [[0.57559264]],\n",
       "\n",
       "       [[0.579938  ]],\n",
       "\n",
       "       ...,\n",
       "\n",
       "       [[0.52411693]],\n",
       "\n",
       "       [[0.52812803]],\n",
       "\n",
       "       [[0.54484092]]], shape=(1821, 1, 1))</pre></div></li><li class='xr-var-item'><div class='xr-var-name'><span>mnkc_umeso</span></div><div class='xr-var-dims'>(time, latitude, longitude)</div><div class='xr-var-dtype'>float64</div><div class='xr-var-preview xr-preview'>0.4922 0.4899 ... 0.4698 0.474</div><input id='attrs-2a83edad-3fe5-45cd-ba11-e0c2111e6526' class='xr-var-attrs-in' type='checkbox' ><label for='attrs-2a83edad-3fe5-45cd-ba11-e0c2111e6526' title='Show/Hide attributes'><svg class='icon xr-icon-file-text2'><use xlink:href='#icon-file-text2'></use></svg></label><input id='data-a798a3c2-a1f8-454f-ab08-949c39c8425f' class='xr-var-data-in' type='checkbox'><label for='data-a798a3c2-a1f8-454f-ab08-949c39c8425f' title='Show/Hide data repr'><svg class='icon xr-icon-database'><use xlink:href='#icon-database'></use></svg></label><div class='xr-var-attrs'><dl class='xr-attrs'><dt><span>carbon_to_wet_weight_conversion_factor :</span></dt><dd>11.9</dd><dt><span>day_layer :</span></dt><dd>upper mesopelagic (2)</dd><dt><span>night_layer :</span></dt><dd>upper mesopelagic (2)</dd><dt><span>standard_name :</span></dt><dd>mass_content_of_upper_mesopelagic_micronekton_expressed_as_wet_weight_in_sea_water</dd><dt><span>units :</span></dt><dd>g m-2</dd></dl></div><div class='xr-var-data'><pre>array([[[0.49217136]],\n",
       "\n",
       "       [[0.48988137]],\n",
       "\n",
       "       [[0.49129059]],\n",
       "\n",
       "       ...,\n",
       "\n",
       "       [[0.46874303]],\n",
       "\n",
       "       [[0.46979995]],\n",
       "\n",
       "       [[0.47402762]]], shape=(1821, 1, 1))</pre></div></li><li class='xr-var-item'><div class='xr-var-name'><span>npp</span></div><div class='xr-var-dims'>(time, latitude, longitude)</div><div class='xr-var-dtype'>float64</div><div class='xr-var-preview xr-preview'>322.7 325.5 328.0 ... 324.8 331.9</div><input id='attrs-b95ba988-c3ff-49bc-8705-50278ff542fb' class='xr-var-attrs-in' type='checkbox' ><label for='attrs-b95ba988-c3ff-49bc-8705-50278ff542fb' title='Show/Hide attributes'><svg class='icon xr-icon-file-text2'><use xlink:href='#icon-file-text2'></use></svg></label><input id='data-32e05fba-f536-4a4f-bebb-cb8e454ba15c' class='xr-var-data-in' type='checkbox'><label for='data-32e05fba-f536-4a4f-bebb-cb8e454ba15c' title='Show/Hide data repr'><svg class='icon xr-icon-database'><use xlink:href='#icon-database'></use></svg></label><div class='xr-var-attrs'><dl class='xr-attrs'><dt><span>standard_name :</span></dt><dd>net_primary_productivity_of_biomass_expressed_as_carbon_in_sea_water</dd><dt><span>units :</span></dt><dd>mg m-2 day-1</dd></dl></div><div class='xr-var-data'><pre>array([[[322.66866924]],\n",
       "\n",
       "       [[325.47677962]],\n",
       "\n",
       "       [[327.97788084]],\n",
       "\n",
       "       ...,\n",
       "\n",
       "       [[328.35447874]],\n",
       "\n",
       "       [[324.7808922 ]],\n",
       "\n",
       "       [[331.90145781]]], shape=(1821, 1, 1))</pre></div></li><li class='xr-var-item'><div class='xr-var-name'><span>pelagic_layer_depth</span></div><div class='xr-var-dims'>(time, latitude, longitude, depth)</div><div class='xr-var-dtype'>float64</div><div class='xr-var-preview xr-preview'>113.3 339.8 792.8 ... 335.5 782.7</div><input id='attrs-2841bcef-cfe4-4939-946a-1a9a07b0a224' class='xr-var-attrs-in' type='checkbox' ><label for='attrs-2841bcef-cfe4-4939-946a-1a9a07b0a224' title='Show/Hide attributes'><svg class='icon xr-icon-file-text2'><use xlink:href='#icon-file-text2'></use></svg></label><input id='data-b09d4626-e58b-4d01-9367-21e5cf72283e' class='xr-var-data-in' type='checkbox'><label for='data-b09d4626-e58b-4d01-9367-21e5cf72283e' title='Show/Hide data repr'><svg class='icon xr-icon-database'><use xlink:href='#icon-database'></use></svg></label><div class='xr-var-attrs'><dl class='xr-attrs'><dt><span>standard_name :</span></dt><dd>sea_water_pelagic_layer_bottom_depth</dd><dt><span>units :</span></dt><dd>m</dd></dl></div><div class='xr-var-data'><pre>array([[[[113.25850446, 339.77593816, 792.81042002]]],\n",
       "\n",
       "\n",
       "       [[[113.67641789, 341.02608018, 795.7272039 ]]],\n",
       "\n",
       "\n",
       "       [[[113.37776143, 340.13293801, 793.64213458]]],\n",
       "\n",
       "\n",
       "       ...,\n",
       "\n",
       "\n",
       "       [[[112.86924868, 338.60829933, 790.08562958]]],\n",
       "\n",
       "\n",
       "       [[[113.44111669, 340.32107616, 794.08048105]]],\n",
       "\n",
       "\n",
       "       [[[111.81958173, 335.45737084, 782.73474819]]]],\n",
       "      shape=(1821, 1, 1, 3))</pre></div></li><li class='xr-var-item'><div class='xr-var-name'><span>zeu</span></div><div class='xr-var-dims'>(time, latitude, longitude)</div><div class='xr-var-dtype'>float64</div><div class='xr-var-preview xr-preview'>75.51 75.78 75.59 ... 75.63 74.55</div><input id='attrs-68c9c24e-d0ac-4af3-9fa6-c4f329877bb9' class='xr-var-attrs-in' type='checkbox' ><label for='attrs-68c9c24e-d0ac-4af3-9fa6-c4f329877bb9' title='Show/Hide attributes'><svg class='icon xr-icon-file-text2'><use xlink:href='#icon-file-text2'></use></svg></label><input id='data-173a631e-0bf7-4021-9bc0-e2aa3bc14843' class='xr-var-data-in' type='checkbox'><label for='data-173a631e-0bf7-4021-9bc0-e2aa3bc14843' title='Show/Hide data repr'><svg class='icon xr-icon-database'><use xlink:href='#icon-database'></use></svg></label><div class='xr-var-attrs'><dl class='xr-attrs'><dt><span>standard_name :</span></dt><dd>euphotic_zone_depth</dd><dt><span>units :</span></dt><dd>m</dd></dl></div><div class='xr-var-data'><pre>array([[[75.50578673]],\n",
       "\n",
       "       [[75.78359857]],\n",
       "\n",
       "       [[75.58513132]],\n",
       "\n",
       "       ...,\n",
       "\n",
       "       [[75.24643574]],\n",
       "\n",
       "       [[75.62680045]],\n",
       "\n",
       "       [[74.54618013]]], shape=(1821, 1, 1))</pre></div></li><li class='xr-var-item'><div class='xr-var-name'><span>zooc</span></div><div class='xr-var-dims'>(time, latitude, longitude)</div><div class='xr-var-dtype'>float64</div><div class='xr-var-preview xr-preview'>0.267 0.2761 ... 0.2528 0.2569</div><input id='attrs-540c28ed-d769-4ba6-bc46-661531e639bd' class='xr-var-attrs-in' type='checkbox' ><label for='attrs-540c28ed-d769-4ba6-bc46-661531e639bd' title='Show/Hide attributes'><svg class='icon xr-icon-file-text2'><use xlink:href='#icon-file-text2'></use></svg></label><input id='data-b209cb04-5a6e-4e16-a8cf-df6a7aea203f' class='xr-var-data-in' type='checkbox'><label for='data-b209cb04-5a6e-4e16-a8cf-df6a7aea203f' title='Show/Hide data repr'><svg class='icon xr-icon-database'><use xlink:href='#icon-database'></use></svg></label><div class='xr-var-attrs'><dl class='xr-attrs'><dt><span>standard_name :</span></dt><dd>mass_content_of_zooplankton_expressed_as_carbon_in_sea_water</dd><dt><span>units :</span></dt><dd>g m-2</dd></dl></div><div class='xr-var-data'><pre>array([[[0.26696391]],\n",
       "\n",
       "       [[0.27610917]],\n",
       "\n",
       "       [[0.27830793]],\n",
       "\n",
       "       ...,\n",
       "\n",
       "       [[0.25071647]],\n",
       "\n",
       "       [[0.25277902]],\n",
       "\n",
       "       [[0.25692358]]], shape=(1821, 1, 1))</pre></div></li></ul></div></li><li class='xr-section-item'><input id='section-427abd2d-0251-46d4-af5e-096df4e0440a' class='xr-section-summary-in' type='checkbox'  ><label for='section-427abd2d-0251-46d4-af5e-096df4e0440a' class='xr-section-summary' >Indexes: <span>(4)</span></label><div class='xr-section-inline-details'></div><div class='xr-section-details'><ul class='xr-var-list'><li class='xr-var-item'><div class='xr-index-name'><div>depth</div></div><div class='xr-index-preview'>PandasIndex</div><input type='checkbox' disabled/><label></label><input id='index-8da1d5f7-647c-48e0-a04c-3a69258cde2c' class='xr-index-data-in' type='checkbox'/><label for='index-8da1d5f7-647c-48e0-a04c-3a69258cde2c' title='Show/Hide index repr'><svg class='icon xr-icon-database'><use xlink:href='#icon-database'></use></svg></label><div class='xr-index-data'><pre>PandasIndex(Index([0, 1, 2], dtype=&#x27;int64&#x27;, name=&#x27;depth&#x27;))</pre></div></li><li class='xr-var-item'><div class='xr-index-name'><div>latitude</div></div><div class='xr-index-preview'>PandasIndex</div><input type='checkbox' disabled/><label></label><input id='index-b173c4e9-96ee-45bd-8e78-089690f8a1d6' class='xr-index-data-in' type='checkbox'/><label for='index-b173c4e9-96ee-45bd-8e78-089690f8a1d6' title='Show/Hide index repr'><svg class='icon xr-icon-database'><use xlink:href='#icon-database'></use></svg></label><div class='xr-index-data'><pre>PandasIndex(Index([22.75], dtype=&#x27;float64&#x27;, name=&#x27;latitude&#x27;))</pre></div></li><li class='xr-var-item'><div class='xr-index-name'><div>longitude</div></div><div class='xr-index-preview'>PandasIndex</div><input type='checkbox' disabled/><label></label><input id='index-3499f15b-6816-42cf-810e-25b57912abd3' class='xr-index-data-in' type='checkbox'/><label for='index-3499f15b-6816-42cf-810e-25b57912abd3' title='Show/Hide index repr'><svg class='icon xr-icon-database'><use xlink:href='#icon-database'></use></svg></label><div class='xr-index-data'><pre>PandasIndex(Index([-158], dtype=&#x27;int64&#x27;, name=&#x27;longitude&#x27;))</pre></div></li><li class='xr-var-item'><div class='xr-index-name'><div>time</div></div><div class='xr-index-preview'>PandasIndex</div><input type='checkbox' disabled/><label></label><input id='index-200a3e60-0d19-4799-9cb8-355ece868782' class='xr-index-data-in' type='checkbox'/><label for='index-200a3e60-0d19-4799-9cb8-355ece868782' title='Show/Hide index repr'><svg class='icon xr-icon-database'><use xlink:href='#icon-database'></use></svg></label><div class='xr-index-data'><pre>PandasIndex(DatetimeIndex([&#x27;2005-01-02&#x27;, &#x27;2005-01-03&#x27;, &#x27;2005-01-04&#x27;, &#x27;2005-01-05&#x27;,\n",
       "               &#x27;2005-01-06&#x27;, &#x27;2005-01-07&#x27;, &#x27;2005-01-08&#x27;, &#x27;2005-01-09&#x27;,\n",
       "               &#x27;2005-01-10&#x27;, &#x27;2005-01-11&#x27;,\n",
       "               ...\n",
       "               &#x27;2009-12-18&#x27;, &#x27;2009-12-19&#x27;, &#x27;2009-12-20&#x27;, &#x27;2009-12-21&#x27;,\n",
       "               &#x27;2009-12-22&#x27;, &#x27;2009-12-23&#x27;, &#x27;2009-12-24&#x27;, &#x27;2009-12-25&#x27;,\n",
       "               &#x27;2009-12-26&#x27;, &#x27;2009-12-27&#x27;],\n",
       "              dtype=&#x27;datetime64[ns]&#x27;, name=&#x27;time&#x27;, length=1821, freq=None))</pre></div></li></ul></div></li><li class='xr-section-item'><input id='section-f192cd81-b5c6-4c56-98eb-815a5f24a949' class='xr-section-summary-in' type='checkbox'  checked><label for='section-f192cd81-b5c6-4c56-98eb-815a5f24a949' class='xr-section-summary' >Attributes: <span>(6)</span></label><div class='xr-section-inline-details'></div><div class='xr-section-details'><dl class='xr-attrs'><dt><span>Conventions :</span></dt><dd>CF-1.7</dd><dt><span>history :</span></dt><dd>Created on 2024-10-17</dd><dt><span>institution :</span></dt><dd>CLS</dd><dt><span>references :</span></dt><dd>http://www.cls.fr; http://www.seapodym.eu</dd><dt><span>source :</span></dt><dd>SEAPODYM-LMTL 3.0.0</dd><dt><span>title :</span></dt><dd>Global ocean low and mid trophic levels biomass content hindcast</dd></dl></div></li></ul></div></div>"
      ],
      "text/plain": [
       "<xarray.Dataset> Size: 321kB\n",
       "Dimensions:              (time: 1821, latitude: 1, longitude: 1, depth: 3)\n",
       "Coordinates:\n",
       "  * depth                (depth) int64 24B 0 1 2\n",
       "  * latitude             (latitude) float64 8B 22.75\n",
       "  * longitude            (longitude) int64 8B -158\n",
       "  * time                 (time) datetime64[ns] 15kB 2005-01-02 ... 2009-12-27\n",
       "Data variables: (12/13)\n",
       "    T                    (time, latitude, longitude, depth) float64 44kB 23.8...\n",
       "    U                    (time, latitude, longitude, depth) float64 44kB -0.0...\n",
       "    V                    (time, latitude, longitude, depth) float64 44kB -0.0...\n",
       "    mnkc_epi             (time, latitude, longitude) float64 15kB 0.2862 ... ...\n",
       "    mnkc_hmlmeso         (time, latitude, longitude) float64 15kB 0.8062 ... ...\n",
       "    mnkc_lmeso           (time, latitude, longitude) float64 15kB 2.113 ... 2...\n",
       "    ...                   ...\n",
       "    mnkc_mumeso          (time, latitude, longitude) float64 15kB 0.5676 ... ...\n",
       "    mnkc_umeso           (time, latitude, longitude) float64 15kB 0.4922 ... ...\n",
       "    npp                  (time, latitude, longitude) float64 15kB 322.7 ... 3...\n",
       "    pelagic_layer_depth  (time, latitude, longitude, depth) float64 44kB 113....\n",
       "    zeu                  (time, latitude, longitude) float64 15kB 75.51 ... 7...\n",
       "    zooc                 (time, latitude, longitude) float64 15kB 0.267 ... 0...\n",
       "Attributes:\n",
       "    Conventions:  CF-1.7\n",
       "    history:      Created on 2024-10-17\n",
       "    institution:  CLS\n",
       "    references:   http://www.cls.fr; http://www.seapodym.eu\n",
       "    source:       SEAPODYM-LMTL 3.0.0\n",
       "    title:        Global ocean low and mid trophic levels biomass content hin..."
      ]
     },
     "execution_count": 4,
     "metadata": {},
     "output_type": "execute_result"
    }
   ],
   "source": [
    "forcing = xr.open_zarr(path_to_forcing)\n",
    "forcing = forcing.sel(time=slice(TIME_START, TIME_END))\n",
    "forcing[\"T\"].attrs[\"units\"] = StandardUnitsLabels.temperature.units\n",
    "forcing.load()"
   ]
  },
  {
   "cell_type": "markdown",
   "metadata": {},
   "source": [
    "### Epipelagic layer\n"
   ]
  },
  {
   "cell_type": "code",
   "execution_count": 5,
   "metadata": {},
   "outputs": [
    {
     "data": {
      "text/html": [
       "<div><svg style=\"position: absolute; width: 0; height: 0; overflow: hidden\">\n",
       "<defs>\n",
       "<symbol id=\"icon-database\" viewBox=\"0 0 32 32\">\n",
       "<path d=\"M16 0c-8.837 0-16 2.239-16 5v4c0 2.761 7.163 5 16 5s16-2.239 16-5v-4c0-2.761-7.163-5-16-5z\"></path>\n",
       "<path d=\"M16 17c-8.837 0-16-2.239-16-5v6c0 2.761 7.163 5 16 5s16-2.239 16-5v-6c0 2.761-7.163 5-16 5z\"></path>\n",
       "<path d=\"M16 26c-8.837 0-16-2.239-16-5v6c0 2.761 7.163 5 16 5s16-2.239 16-5v-6c0 2.761-7.163 5-16 5z\"></path>\n",
       "</symbol>\n",
       "<symbol id=\"icon-file-text2\" viewBox=\"0 0 32 32\">\n",
       "<path d=\"M28.681 7.159c-0.694-0.947-1.662-2.053-2.724-3.116s-2.169-2.030-3.116-2.724c-1.612-1.182-2.393-1.319-2.841-1.319h-15.5c-1.378 0-2.5 1.121-2.5 2.5v27c0 1.378 1.122 2.5 2.5 2.5h23c1.378 0 2.5-1.122 2.5-2.5v-19.5c0-0.448-0.137-1.23-1.319-2.841zM24.543 5.457c0.959 0.959 1.712 1.825 2.268 2.543h-4.811v-4.811c0.718 0.556 1.584 1.309 2.543 2.268zM28 29.5c0 0.271-0.229 0.5-0.5 0.5h-23c-0.271 0-0.5-0.229-0.5-0.5v-27c0-0.271 0.229-0.5 0.5-0.5 0 0 15.499-0 15.5 0v7c0 0.552 0.448 1 1 1h7v19.5z\"></path>\n",
       "<path d=\"M23 26h-14c-0.552 0-1-0.448-1-1s0.448-1 1-1h14c0.552 0 1 0.448 1 1s-0.448 1-1 1z\"></path>\n",
       "<path d=\"M23 22h-14c-0.552 0-1-0.448-1-1s0.448-1 1-1h14c0.552 0 1 0.448 1 1s-0.448 1-1 1z\"></path>\n",
       "<path d=\"M23 18h-14c-0.552 0-1-0.448-1-1s0.448-1 1-1h14c0.552 0 1 0.448 1 1s-0.448 1-1 1z\"></path>\n",
       "</symbol>\n",
       "</defs>\n",
       "</svg>\n",
       "<style>/* CSS stylesheet for displaying xarray objects in jupyterlab.\n",
       " *\n",
       " */\n",
       "\n",
       ":root {\n",
       "  --xr-font-color0: var(--jp-content-font-color0, rgba(0, 0, 0, 1));\n",
       "  --xr-font-color2: var(--jp-content-font-color2, rgba(0, 0, 0, 0.54));\n",
       "  --xr-font-color3: var(--jp-content-font-color3, rgba(0, 0, 0, 0.38));\n",
       "  --xr-border-color: var(--jp-border-color2, #e0e0e0);\n",
       "  --xr-disabled-color: var(--jp-layout-color3, #bdbdbd);\n",
       "  --xr-background-color: var(--jp-layout-color0, white);\n",
       "  --xr-background-color-row-even: var(--jp-layout-color1, white);\n",
       "  --xr-background-color-row-odd: var(--jp-layout-color2, #eeeeee);\n",
       "}\n",
       "\n",
       "html[theme=\"dark\"],\n",
       "html[data-theme=\"dark\"],\n",
       "body[data-theme=\"dark\"],\n",
       "body.vscode-dark {\n",
       "  --xr-font-color0: rgba(255, 255, 255, 1);\n",
       "  --xr-font-color2: rgba(255, 255, 255, 0.54);\n",
       "  --xr-font-color3: rgba(255, 255, 255, 0.38);\n",
       "  --xr-border-color: #1f1f1f;\n",
       "  --xr-disabled-color: #515151;\n",
       "  --xr-background-color: #111111;\n",
       "  --xr-background-color-row-even: #111111;\n",
       "  --xr-background-color-row-odd: #313131;\n",
       "}\n",
       "\n",
       ".xr-wrap {\n",
       "  display: block !important;\n",
       "  min-width: 300px;\n",
       "  max-width: 700px;\n",
       "}\n",
       "\n",
       ".xr-text-repr-fallback {\n",
       "  /* fallback to plain text repr when CSS is not injected (untrusted notebook) */\n",
       "  display: none;\n",
       "}\n",
       "\n",
       ".xr-header {\n",
       "  padding-top: 6px;\n",
       "  padding-bottom: 6px;\n",
       "  margin-bottom: 4px;\n",
       "  border-bottom: solid 1px var(--xr-border-color);\n",
       "}\n",
       "\n",
       ".xr-header > div,\n",
       ".xr-header > ul {\n",
       "  display: inline;\n",
       "  margin-top: 0;\n",
       "  margin-bottom: 0;\n",
       "}\n",
       "\n",
       ".xr-obj-type,\n",
       ".xr-array-name {\n",
       "  margin-left: 2px;\n",
       "  margin-right: 10px;\n",
       "}\n",
       "\n",
       ".xr-obj-type {\n",
       "  color: var(--xr-font-color2);\n",
       "}\n",
       "\n",
       ".xr-sections {\n",
       "  padding-left: 0 !important;\n",
       "  display: grid;\n",
       "  grid-template-columns: 150px auto auto 1fr 0 20px 0 20px;\n",
       "}\n",
       "\n",
       ".xr-section-item {\n",
       "  display: contents;\n",
       "}\n",
       "\n",
       ".xr-section-item input {\n",
       "  display: inline-block;\n",
       "  opacity: 0;\n",
       "  height: 0;\n",
       "}\n",
       "\n",
       ".xr-section-item input + label {\n",
       "  color: var(--xr-disabled-color);\n",
       "}\n",
       "\n",
       ".xr-section-item input:enabled + label {\n",
       "  cursor: pointer;\n",
       "  color: var(--xr-font-color2);\n",
       "}\n",
       "\n",
       ".xr-section-item input:focus + label {\n",
       "  border: 2px solid var(--xr-font-color0);\n",
       "}\n",
       "\n",
       ".xr-section-item input:enabled + label:hover {\n",
       "  color: var(--xr-font-color0);\n",
       "}\n",
       "\n",
       ".xr-section-summary {\n",
       "  grid-column: 1;\n",
       "  color: var(--xr-font-color2);\n",
       "  font-weight: 500;\n",
       "}\n",
       "\n",
       ".xr-section-summary > span {\n",
       "  display: inline-block;\n",
       "  padding-left: 0.5em;\n",
       "}\n",
       "\n",
       ".xr-section-summary-in:disabled + label {\n",
       "  color: var(--xr-font-color2);\n",
       "}\n",
       "\n",
       ".xr-section-summary-in + label:before {\n",
       "  display: inline-block;\n",
       "  content: \"►\";\n",
       "  font-size: 11px;\n",
       "  width: 15px;\n",
       "  text-align: center;\n",
       "}\n",
       "\n",
       ".xr-section-summary-in:disabled + label:before {\n",
       "  color: var(--xr-disabled-color);\n",
       "}\n",
       "\n",
       ".xr-section-summary-in:checked + label:before {\n",
       "  content: \"▼\";\n",
       "}\n",
       "\n",
       ".xr-section-summary-in:checked + label > span {\n",
       "  display: none;\n",
       "}\n",
       "\n",
       ".xr-section-summary,\n",
       ".xr-section-inline-details {\n",
       "  padding-top: 4px;\n",
       "  padding-bottom: 4px;\n",
       "}\n",
       "\n",
       ".xr-section-inline-details {\n",
       "  grid-column: 2 / -1;\n",
       "}\n",
       "\n",
       ".xr-section-details {\n",
       "  display: none;\n",
       "  grid-column: 1 / -1;\n",
       "  margin-bottom: 5px;\n",
       "}\n",
       "\n",
       ".xr-section-summary-in:checked ~ .xr-section-details {\n",
       "  display: contents;\n",
       "}\n",
       "\n",
       ".xr-array-wrap {\n",
       "  grid-column: 1 / -1;\n",
       "  display: grid;\n",
       "  grid-template-columns: 20px auto;\n",
       "}\n",
       "\n",
       ".xr-array-wrap > label {\n",
       "  grid-column: 1;\n",
       "  vertical-align: top;\n",
       "}\n",
       "\n",
       ".xr-preview {\n",
       "  color: var(--xr-font-color3);\n",
       "}\n",
       "\n",
       ".xr-array-preview,\n",
       ".xr-array-data {\n",
       "  padding: 0 5px !important;\n",
       "  grid-column: 2;\n",
       "}\n",
       "\n",
       ".xr-array-data,\n",
       ".xr-array-in:checked ~ .xr-array-preview {\n",
       "  display: none;\n",
       "}\n",
       "\n",
       ".xr-array-in:checked ~ .xr-array-data,\n",
       ".xr-array-preview {\n",
       "  display: inline-block;\n",
       "}\n",
       "\n",
       ".xr-dim-list {\n",
       "  display: inline-block !important;\n",
       "  list-style: none;\n",
       "  padding: 0 !important;\n",
       "  margin: 0;\n",
       "}\n",
       "\n",
       ".xr-dim-list li {\n",
       "  display: inline-block;\n",
       "  padding: 0;\n",
       "  margin: 0;\n",
       "}\n",
       "\n",
       ".xr-dim-list:before {\n",
       "  content: \"(\";\n",
       "}\n",
       "\n",
       ".xr-dim-list:after {\n",
       "  content: \")\";\n",
       "}\n",
       "\n",
       ".xr-dim-list li:not(:last-child):after {\n",
       "  content: \",\";\n",
       "  padding-right: 5px;\n",
       "}\n",
       "\n",
       ".xr-has-index {\n",
       "  font-weight: bold;\n",
       "}\n",
       "\n",
       ".xr-var-list,\n",
       ".xr-var-item {\n",
       "  display: contents;\n",
       "}\n",
       "\n",
       ".xr-var-item > div,\n",
       ".xr-var-item label,\n",
       ".xr-var-item > .xr-var-name span {\n",
       "  background-color: var(--xr-background-color-row-even);\n",
       "  margin-bottom: 0;\n",
       "}\n",
       "\n",
       ".xr-var-item > .xr-var-name:hover span {\n",
       "  padding-right: 5px;\n",
       "}\n",
       "\n",
       ".xr-var-list > li:nth-child(odd) > div,\n",
       ".xr-var-list > li:nth-child(odd) > label,\n",
       ".xr-var-list > li:nth-child(odd) > .xr-var-name span {\n",
       "  background-color: var(--xr-background-color-row-odd);\n",
       "}\n",
       "\n",
       ".xr-var-name {\n",
       "  grid-column: 1;\n",
       "}\n",
       "\n",
       ".xr-var-dims {\n",
       "  grid-column: 2;\n",
       "}\n",
       "\n",
       ".xr-var-dtype {\n",
       "  grid-column: 3;\n",
       "  text-align: right;\n",
       "  color: var(--xr-font-color2);\n",
       "}\n",
       "\n",
       ".xr-var-preview {\n",
       "  grid-column: 4;\n",
       "}\n",
       "\n",
       ".xr-index-preview {\n",
       "  grid-column: 2 / 5;\n",
       "  color: var(--xr-font-color2);\n",
       "}\n",
       "\n",
       ".xr-var-name,\n",
       ".xr-var-dims,\n",
       ".xr-var-dtype,\n",
       ".xr-preview,\n",
       ".xr-attrs dt {\n",
       "  white-space: nowrap;\n",
       "  overflow: hidden;\n",
       "  text-overflow: ellipsis;\n",
       "  padding-right: 10px;\n",
       "}\n",
       "\n",
       ".xr-var-name:hover,\n",
       ".xr-var-dims:hover,\n",
       ".xr-var-dtype:hover,\n",
       ".xr-attrs dt:hover {\n",
       "  overflow: visible;\n",
       "  width: auto;\n",
       "  z-index: 1;\n",
       "}\n",
       "\n",
       ".xr-var-attrs,\n",
       ".xr-var-data,\n",
       ".xr-index-data {\n",
       "  display: none;\n",
       "  background-color: var(--xr-background-color) !important;\n",
       "  padding-bottom: 5px !important;\n",
       "}\n",
       "\n",
       ".xr-var-attrs-in:checked ~ .xr-var-attrs,\n",
       ".xr-var-data-in:checked ~ .xr-var-data,\n",
       ".xr-index-data-in:checked ~ .xr-index-data {\n",
       "  display: block;\n",
       "}\n",
       "\n",
       ".xr-var-data > table {\n",
       "  float: right;\n",
       "}\n",
       "\n",
       ".xr-var-name span,\n",
       ".xr-var-data,\n",
       ".xr-index-name div,\n",
       ".xr-index-data,\n",
       ".xr-attrs {\n",
       "  padding-left: 25px !important;\n",
       "}\n",
       "\n",
       ".xr-attrs,\n",
       ".xr-var-attrs,\n",
       ".xr-var-data,\n",
       ".xr-index-data {\n",
       "  grid-column: 1 / -1;\n",
       "}\n",
       "\n",
       "dl.xr-attrs {\n",
       "  padding: 0;\n",
       "  margin: 0;\n",
       "  display: grid;\n",
       "  grid-template-columns: 125px auto;\n",
       "}\n",
       "\n",
       ".xr-attrs dt,\n",
       ".xr-attrs dd {\n",
       "  padding: 0;\n",
       "  margin: 0;\n",
       "  float: left;\n",
       "  padding-right: 10px;\n",
       "  width: auto;\n",
       "}\n",
       "\n",
       ".xr-attrs dt {\n",
       "  font-weight: normal;\n",
       "  grid-column: 1;\n",
       "}\n",
       "\n",
       ".xr-attrs dt:hover span {\n",
       "  display: inline-block;\n",
       "  background: var(--xr-background-color);\n",
       "  padding-right: 10px;\n",
       "}\n",
       "\n",
       ".xr-attrs dd {\n",
       "  grid-column: 2;\n",
       "  white-space: pre-wrap;\n",
       "  word-break: break-all;\n",
       "}\n",
       "\n",
       ".xr-icon-database,\n",
       ".xr-icon-file-text2,\n",
       ".xr-no-icon {\n",
       "  display: inline-block;\n",
       "  vertical-align: middle;\n",
       "  width: 1em;\n",
       "  height: 1.5em !important;\n",
       "  stroke-width: 0;\n",
       "  stroke: currentColor;\n",
       "  fill: currentColor;\n",
       "}\n",
       "</style><pre class='xr-text-repr-fallback'>&lt;xarray.DataArray &#x27;pelagic_layer_depth&#x27; (time: 1821, latitude: 1, longitude: 1)&gt; Size: 15kB\n",
       "&lt;Quantity([[[113.25850446]]\n",
       "\n",
       " [[113.67641789]]\n",
       "\n",
       " [[113.37776143]]\n",
       "\n",
       " ...\n",
       "\n",
       " [[112.86924868]]\n",
       "\n",
       " [[113.44111669]]\n",
       "\n",
       " [[111.81958173]]], &#x27;meter&#x27;)&gt;\n",
       "Coordinates:\n",
       "    depth      int64 8B 0\n",
       "  * latitude   (latitude) float64 8B 22.75\n",
       "  * longitude  (longitude) int64 8B -158\n",
       "  * time       (time) datetime64[ns] 15kB 2005-01-02 2005-01-03 ... 2009-12-27\n",
       "Attributes:\n",
       "    standard_name:  sea_water_pelagic_layer_bottom_depth</pre><div class='xr-wrap' style='display:none'><div class='xr-header'><div class='xr-obj-type'>xarray.DataArray</div><div class='xr-array-name'>'pelagic_layer_depth'</div><ul class='xr-dim-list'><li><span class='xr-has-index'>time</span>: 1821</li><li><span class='xr-has-index'>latitude</span>: 1</li><li><span class='xr-has-index'>longitude</span>: 1</li></ul></div><ul class='xr-sections'><li class='xr-section-item'><div class='xr-array-wrap'><input id='section-92894ebe-f566-4456-af42-ae3d5610fc9c' class='xr-array-in' type='checkbox' checked><label for='section-92894ebe-f566-4456-af42-ae3d5610fc9c' title='Show/hide data repr'><svg class='icon xr-icon-database'><use xlink:href='#icon-database'></use></svg></label><div class='xr-array-preview xr-preview'><span>[m] 113.3 113.7 113.4 114.1 114.1 ... 113.0 115.8 112.9 113.4 111.8</span></div><div class='xr-array-data'><table><tbody><tr><th>Magnitude</th><td style='text-align:left;'><pre>[[[113.25850445781492]] [[113.67641789059907]] [[113.3777614275639]] ... [[112.86924868047693]] [[113.44111669274305]] [[111.81958173122077]]]</pre></td></tr><tr><th>Units</th><td style='text-align:left;'>meter</td></tr></tbody></table></div></div></li><li class='xr-section-item'><input id='section-a0aba087-73f1-4fa4-9086-4dc5b58354e7' class='xr-section-summary-in' type='checkbox'  checked><label for='section-a0aba087-73f1-4fa4-9086-4dc5b58354e7' class='xr-section-summary' >Coordinates: <span>(4)</span></label><div class='xr-section-inline-details'></div><div class='xr-section-details'><ul class='xr-var-list'><li class='xr-var-item'><div class='xr-var-name'><span>depth</span></div><div class='xr-var-dims'>()</div><div class='xr-var-dtype'>int64</div><div class='xr-var-preview xr-preview'>0</div><input id='attrs-c7ec459a-ddb9-484d-a342-dfeea5192a16' class='xr-var-attrs-in' type='checkbox' ><label for='attrs-c7ec459a-ddb9-484d-a342-dfeea5192a16' title='Show/Hide attributes'><svg class='icon xr-icon-file-text2'><use xlink:href='#icon-file-text2'></use></svg></label><input id='data-35966323-f82e-40db-a80d-c6ef4e54dbfe' class='xr-var-data-in' type='checkbox'><label for='data-35966323-f82e-40db-a80d-c6ef4e54dbfe' title='Show/Hide data repr'><svg class='icon xr-icon-database'><use xlink:href='#icon-database'></use></svg></label><div class='xr-var-attrs'><dl class='xr-attrs'><dt><span>axis :</span></dt><dd>Z</dd><dt><span>desc :</span></dt><dd>The layer depth according to Seapodym definition</dd><dt><span>flag_meanings :</span></dt><dd>epipelagic, upper-mesopelagic, lower-mesopelagic</dd><dt><span>flag_values :</span></dt><dd>[0 1 2]</dd><dt><span>long_name :</span></dt><dd>Layer depth</dd><dt><span>standard_name :</span></dt><dd>depth</dd></dl></div><div class='xr-var-data'><pre>array(0)</pre></div></li><li class='xr-var-item'><div class='xr-var-name'><span class='xr-has-index'>latitude</span></div><div class='xr-var-dims'>(latitude)</div><div class='xr-var-dtype'>float64</div><div class='xr-var-preview xr-preview'>22.75</div><input id='attrs-1140534b-25ca-4e2a-9e94-750646085efc' class='xr-var-attrs-in' type='checkbox' ><label for='attrs-1140534b-25ca-4e2a-9e94-750646085efc' title='Show/Hide attributes'><svg class='icon xr-icon-file-text2'><use xlink:href='#icon-file-text2'></use></svg></label><input id='data-c300f5f8-6c07-4c4f-b828-b7659b22e871' class='xr-var-data-in' type='checkbox'><label for='data-c300f5f8-6c07-4c4f-b828-b7659b22e871' title='Show/Hide data repr'><svg class='icon xr-icon-database'><use xlink:href='#icon-database'></use></svg></label><div class='xr-var-attrs'><dl class='xr-attrs'><dt><span>axis :</span></dt><dd>Y</dd><dt><span>standard_name :</span></dt><dd>latitude</dd><dt><span>units :</span></dt><dd>degrees_north</dd></dl></div><div class='xr-var-data'><pre>array([22.75])</pre></div></li><li class='xr-var-item'><div class='xr-var-name'><span class='xr-has-index'>longitude</span></div><div class='xr-var-dims'>(longitude)</div><div class='xr-var-dtype'>int64</div><div class='xr-var-preview xr-preview'>-158</div><input id='attrs-6dc72654-77ae-47b6-bfbe-64f973a49024' class='xr-var-attrs-in' type='checkbox' ><label for='attrs-6dc72654-77ae-47b6-bfbe-64f973a49024' title='Show/Hide attributes'><svg class='icon xr-icon-file-text2'><use xlink:href='#icon-file-text2'></use></svg></label><input id='data-8bd4d705-ef95-40f4-a81a-45217601d38a' class='xr-var-data-in' type='checkbox'><label for='data-8bd4d705-ef95-40f4-a81a-45217601d38a' title='Show/Hide data repr'><svg class='icon xr-icon-database'><use xlink:href='#icon-database'></use></svg></label><div class='xr-var-attrs'><dl class='xr-attrs'><dt><span>axis :</span></dt><dd>X</dd><dt><span>standard_name :</span></dt><dd>longitude</dd><dt><span>units :</span></dt><dd>degrees_east</dd></dl></div><div class='xr-var-data'><pre>array([-158])</pre></div></li><li class='xr-var-item'><div class='xr-var-name'><span class='xr-has-index'>time</span></div><div class='xr-var-dims'>(time)</div><div class='xr-var-dtype'>datetime64[ns]</div><div class='xr-var-preview xr-preview'>2005-01-02 ... 2009-12-27</div><input id='attrs-2b29d666-c9b5-44e3-bd81-492a0e36937d' class='xr-var-attrs-in' type='checkbox' ><label for='attrs-2b29d666-c9b5-44e3-bd81-492a0e36937d' title='Show/Hide attributes'><svg class='icon xr-icon-file-text2'><use xlink:href='#icon-file-text2'></use></svg></label><input id='data-a9230a03-17db-4389-a214-7eb414f760dc' class='xr-var-data-in' type='checkbox'><label for='data-a9230a03-17db-4389-a214-7eb414f760dc' title='Show/Hide data repr'><svg class='icon xr-icon-database'><use xlink:href='#icon-database'></use></svg></label><div class='xr-var-attrs'><dl class='xr-attrs'><dt><span>axis :</span></dt><dd>T</dd><dt><span>long_name :</span></dt><dd>Time</dd><dt><span>standard_name :</span></dt><dd>time</dd><dt><span>unit_long :</span></dt><dd>Seconds Since 1970-01-01</dd></dl></div><div class='xr-var-data'><pre>array([&#x27;2005-01-02T00:00:00.000000000&#x27;, &#x27;2005-01-03T00:00:00.000000000&#x27;,\n",
       "       &#x27;2005-01-04T00:00:00.000000000&#x27;, ..., &#x27;2009-12-25T00:00:00.000000000&#x27;,\n",
       "       &#x27;2009-12-26T00:00:00.000000000&#x27;, &#x27;2009-12-27T00:00:00.000000000&#x27;],\n",
       "      shape=(1821,), dtype=&#x27;datetime64[ns]&#x27;)</pre></div></li></ul></div></li><li class='xr-section-item'><input id='section-b489cfcf-6806-41a9-aa73-43bfd71753ae' class='xr-section-summary-in' type='checkbox'  ><label for='section-b489cfcf-6806-41a9-aa73-43bfd71753ae' class='xr-section-summary' >Indexes: <span>(3)</span></label><div class='xr-section-inline-details'></div><div class='xr-section-details'><ul class='xr-var-list'><li class='xr-var-item'><div class='xr-index-name'><div>latitude</div></div><div class='xr-index-preview'>PandasIndex</div><input type='checkbox' disabled/><label></label><input id='index-6c97829a-e789-4c26-be83-299659a3fac7' class='xr-index-data-in' type='checkbox'/><label for='index-6c97829a-e789-4c26-be83-299659a3fac7' title='Show/Hide index repr'><svg class='icon xr-icon-database'><use xlink:href='#icon-database'></use></svg></label><div class='xr-index-data'><pre>PandasIndex(Index([22.75], dtype=&#x27;float64&#x27;, name=&#x27;latitude&#x27;))</pre></div></li><li class='xr-var-item'><div class='xr-index-name'><div>longitude</div></div><div class='xr-index-preview'>PandasIndex</div><input type='checkbox' disabled/><label></label><input id='index-2027f798-b03c-47bb-b427-767b1f9a45ce' class='xr-index-data-in' type='checkbox'/><label for='index-2027f798-b03c-47bb-b427-767b1f9a45ce' title='Show/Hide index repr'><svg class='icon xr-icon-database'><use xlink:href='#icon-database'></use></svg></label><div class='xr-index-data'><pre>PandasIndex(Index([-158], dtype=&#x27;int64&#x27;, name=&#x27;longitude&#x27;))</pre></div></li><li class='xr-var-item'><div class='xr-index-name'><div>time</div></div><div class='xr-index-preview'>PandasIndex</div><input type='checkbox' disabled/><label></label><input id='index-b3716883-ecc4-457f-8037-a01b570cb43e' class='xr-index-data-in' type='checkbox'/><label for='index-b3716883-ecc4-457f-8037-a01b570cb43e' title='Show/Hide index repr'><svg class='icon xr-icon-database'><use xlink:href='#icon-database'></use></svg></label><div class='xr-index-data'><pre>PandasIndex(DatetimeIndex([&#x27;2005-01-02&#x27;, &#x27;2005-01-03&#x27;, &#x27;2005-01-04&#x27;, &#x27;2005-01-05&#x27;,\n",
       "               &#x27;2005-01-06&#x27;, &#x27;2005-01-07&#x27;, &#x27;2005-01-08&#x27;, &#x27;2005-01-09&#x27;,\n",
       "               &#x27;2005-01-10&#x27;, &#x27;2005-01-11&#x27;,\n",
       "               ...\n",
       "               &#x27;2009-12-18&#x27;, &#x27;2009-12-19&#x27;, &#x27;2009-12-20&#x27;, &#x27;2009-12-21&#x27;,\n",
       "               &#x27;2009-12-22&#x27;, &#x27;2009-12-23&#x27;, &#x27;2009-12-24&#x27;, &#x27;2009-12-25&#x27;,\n",
       "               &#x27;2009-12-26&#x27;, &#x27;2009-12-27&#x27;],\n",
       "              dtype=&#x27;datetime64[ns]&#x27;, name=&#x27;time&#x27;, length=1821, freq=&#x27;D&#x27;))</pre></div></li></ul></div></li><li class='xr-section-item'><input id='section-4b8b163e-7b5c-464b-b5cd-43c0daf5ad86' class='xr-section-summary-in' type='checkbox'  checked><label for='section-4b8b163e-7b5c-464b-b5cd-43c0daf5ad86' class='xr-section-summary' >Attributes: <span>(1)</span></label><div class='xr-section-inline-details'></div><div class='xr-section-details'><dl class='xr-attrs'><dt><span>standard_name :</span></dt><dd>sea_water_pelagic_layer_bottom_depth</dd></dl></div></li></ul></div></div>"
      ],
      "text/plain": [
       "<xarray.DataArray 'pelagic_layer_depth' (time: 1821, latitude: 1, longitude: 1)> Size: 15kB\n",
       "<Quantity([[[113.25850446]]\n",
       "\n",
       " [[113.67641789]]\n",
       "\n",
       " [[113.37776143]]\n",
       "\n",
       " ...\n",
       "\n",
       " [[112.86924868]]\n",
       "\n",
       " [[113.44111669]]\n",
       "\n",
       " [[111.81958173]]], 'meter')>\n",
       "Coordinates:\n",
       "    depth      int64 8B 0\n",
       "  * latitude   (latitude) float64 8B 22.75\n",
       "  * longitude  (longitude) int64 8B -158\n",
       "  * time       (time) datetime64[ns] 15kB 2005-01-02 2005-01-03 ... 2009-12-27\n",
       "Attributes:\n",
       "    standard_name:  sea_water_pelagic_layer_bottom_depth"
      ]
     },
     "execution_count": 5,
     "metadata": {},
     "output_type": "execute_result"
    }
   ],
   "source": [
    "epi_layer_depth = forcing[\"pelagic_layer_depth\"].sel(depth=0).load()\n",
    "epi_layer_depth = epi_layer_depth.resample(time=\"1D\").mean()\n",
    "epi_layer_depth.attrs[\"units\"] = \"meter\"\n",
    "epi_layer_depth = epi_layer_depth.pint.quantify()\n",
    "epi_layer_depth"
   ]
  },
  {
   "cell_type": "markdown",
   "metadata": {},
   "source": [
    "<!-- ## Observed NPP -->\n"
   ]
  },
  {
   "cell_type": "code",
   "execution_count": 6,
   "metadata": {},
   "outputs": [
    {
     "data": {
      "text/html": [
       "<div><svg style=\"position: absolute; width: 0; height: 0; overflow: hidden\">\n",
       "<defs>\n",
       "<symbol id=\"icon-database\" viewBox=\"0 0 32 32\">\n",
       "<path d=\"M16 0c-8.837 0-16 2.239-16 5v4c0 2.761 7.163 5 16 5s16-2.239 16-5v-4c0-2.761-7.163-5-16-5z\"></path>\n",
       "<path d=\"M16 17c-8.837 0-16-2.239-16-5v6c0 2.761 7.163 5 16 5s16-2.239 16-5v-6c0 2.761-7.163 5-16 5z\"></path>\n",
       "<path d=\"M16 26c-8.837 0-16-2.239-16-5v6c0 2.761 7.163 5 16 5s16-2.239 16-5v-6c0 2.761-7.163 5-16 5z\"></path>\n",
       "</symbol>\n",
       "<symbol id=\"icon-file-text2\" viewBox=\"0 0 32 32\">\n",
       "<path d=\"M28.681 7.159c-0.694-0.947-1.662-2.053-2.724-3.116s-2.169-2.030-3.116-2.724c-1.612-1.182-2.393-1.319-2.841-1.319h-15.5c-1.378 0-2.5 1.121-2.5 2.5v27c0 1.378 1.122 2.5 2.5 2.5h23c1.378 0 2.5-1.122 2.5-2.5v-19.5c0-0.448-0.137-1.23-1.319-2.841zM24.543 5.457c0.959 0.959 1.712 1.825 2.268 2.543h-4.811v-4.811c0.718 0.556 1.584 1.309 2.543 2.268zM28 29.5c0 0.271-0.229 0.5-0.5 0.5h-23c-0.271 0-0.5-0.229-0.5-0.5v-27c0-0.271 0.229-0.5 0.5-0.5 0 0 15.499-0 15.5 0v7c0 0.552 0.448 1 1 1h7v19.5z\"></path>\n",
       "<path d=\"M23 26h-14c-0.552 0-1-0.448-1-1s0.448-1 1-1h14c0.552 0 1 0.448 1 1s-0.448 1-1 1z\"></path>\n",
       "<path d=\"M23 22h-14c-0.552 0-1-0.448-1-1s0.448-1 1-1h14c0.552 0 1 0.448 1 1s-0.448 1-1 1z\"></path>\n",
       "<path d=\"M23 18h-14c-0.552 0-1-0.448-1-1s0.448-1 1-1h14c0.552 0 1 0.448 1 1s-0.448 1-1 1z\"></path>\n",
       "</symbol>\n",
       "</defs>\n",
       "</svg>\n",
       "<style>/* CSS stylesheet for displaying xarray objects in jupyterlab.\n",
       " *\n",
       " */\n",
       "\n",
       ":root {\n",
       "  --xr-font-color0: var(--jp-content-font-color0, rgba(0, 0, 0, 1));\n",
       "  --xr-font-color2: var(--jp-content-font-color2, rgba(0, 0, 0, 0.54));\n",
       "  --xr-font-color3: var(--jp-content-font-color3, rgba(0, 0, 0, 0.38));\n",
       "  --xr-border-color: var(--jp-border-color2, #e0e0e0);\n",
       "  --xr-disabled-color: var(--jp-layout-color3, #bdbdbd);\n",
       "  --xr-background-color: var(--jp-layout-color0, white);\n",
       "  --xr-background-color-row-even: var(--jp-layout-color1, white);\n",
       "  --xr-background-color-row-odd: var(--jp-layout-color2, #eeeeee);\n",
       "}\n",
       "\n",
       "html[theme=\"dark\"],\n",
       "html[data-theme=\"dark\"],\n",
       "body[data-theme=\"dark\"],\n",
       "body.vscode-dark {\n",
       "  --xr-font-color0: rgba(255, 255, 255, 1);\n",
       "  --xr-font-color2: rgba(255, 255, 255, 0.54);\n",
       "  --xr-font-color3: rgba(255, 255, 255, 0.38);\n",
       "  --xr-border-color: #1f1f1f;\n",
       "  --xr-disabled-color: #515151;\n",
       "  --xr-background-color: #111111;\n",
       "  --xr-background-color-row-even: #111111;\n",
       "  --xr-background-color-row-odd: #313131;\n",
       "}\n",
       "\n",
       ".xr-wrap {\n",
       "  display: block !important;\n",
       "  min-width: 300px;\n",
       "  max-width: 700px;\n",
       "}\n",
       "\n",
       ".xr-text-repr-fallback {\n",
       "  /* fallback to plain text repr when CSS is not injected (untrusted notebook) */\n",
       "  display: none;\n",
       "}\n",
       "\n",
       ".xr-header {\n",
       "  padding-top: 6px;\n",
       "  padding-bottom: 6px;\n",
       "  margin-bottom: 4px;\n",
       "  border-bottom: solid 1px var(--xr-border-color);\n",
       "}\n",
       "\n",
       ".xr-header > div,\n",
       ".xr-header > ul {\n",
       "  display: inline;\n",
       "  margin-top: 0;\n",
       "  margin-bottom: 0;\n",
       "}\n",
       "\n",
       ".xr-obj-type,\n",
       ".xr-array-name {\n",
       "  margin-left: 2px;\n",
       "  margin-right: 10px;\n",
       "}\n",
       "\n",
       ".xr-obj-type {\n",
       "  color: var(--xr-font-color2);\n",
       "}\n",
       "\n",
       ".xr-sections {\n",
       "  padding-left: 0 !important;\n",
       "  display: grid;\n",
       "  grid-template-columns: 150px auto auto 1fr 0 20px 0 20px;\n",
       "}\n",
       "\n",
       ".xr-section-item {\n",
       "  display: contents;\n",
       "}\n",
       "\n",
       ".xr-section-item input {\n",
       "  display: inline-block;\n",
       "  opacity: 0;\n",
       "  height: 0;\n",
       "}\n",
       "\n",
       ".xr-section-item input + label {\n",
       "  color: var(--xr-disabled-color);\n",
       "}\n",
       "\n",
       ".xr-section-item input:enabled + label {\n",
       "  cursor: pointer;\n",
       "  color: var(--xr-font-color2);\n",
       "}\n",
       "\n",
       ".xr-section-item input:focus + label {\n",
       "  border: 2px solid var(--xr-font-color0);\n",
       "}\n",
       "\n",
       ".xr-section-item input:enabled + label:hover {\n",
       "  color: var(--xr-font-color0);\n",
       "}\n",
       "\n",
       ".xr-section-summary {\n",
       "  grid-column: 1;\n",
       "  color: var(--xr-font-color2);\n",
       "  font-weight: 500;\n",
       "}\n",
       "\n",
       ".xr-section-summary > span {\n",
       "  display: inline-block;\n",
       "  padding-left: 0.5em;\n",
       "}\n",
       "\n",
       ".xr-section-summary-in:disabled + label {\n",
       "  color: var(--xr-font-color2);\n",
       "}\n",
       "\n",
       ".xr-section-summary-in + label:before {\n",
       "  display: inline-block;\n",
       "  content: \"►\";\n",
       "  font-size: 11px;\n",
       "  width: 15px;\n",
       "  text-align: center;\n",
       "}\n",
       "\n",
       ".xr-section-summary-in:disabled + label:before {\n",
       "  color: var(--xr-disabled-color);\n",
       "}\n",
       "\n",
       ".xr-section-summary-in:checked + label:before {\n",
       "  content: \"▼\";\n",
       "}\n",
       "\n",
       ".xr-section-summary-in:checked + label > span {\n",
       "  display: none;\n",
       "}\n",
       "\n",
       ".xr-section-summary,\n",
       ".xr-section-inline-details {\n",
       "  padding-top: 4px;\n",
       "  padding-bottom: 4px;\n",
       "}\n",
       "\n",
       ".xr-section-inline-details {\n",
       "  grid-column: 2 / -1;\n",
       "}\n",
       "\n",
       ".xr-section-details {\n",
       "  display: none;\n",
       "  grid-column: 1 / -1;\n",
       "  margin-bottom: 5px;\n",
       "}\n",
       "\n",
       ".xr-section-summary-in:checked ~ .xr-section-details {\n",
       "  display: contents;\n",
       "}\n",
       "\n",
       ".xr-array-wrap {\n",
       "  grid-column: 1 / -1;\n",
       "  display: grid;\n",
       "  grid-template-columns: 20px auto;\n",
       "}\n",
       "\n",
       ".xr-array-wrap > label {\n",
       "  grid-column: 1;\n",
       "  vertical-align: top;\n",
       "}\n",
       "\n",
       ".xr-preview {\n",
       "  color: var(--xr-font-color3);\n",
       "}\n",
       "\n",
       ".xr-array-preview,\n",
       ".xr-array-data {\n",
       "  padding: 0 5px !important;\n",
       "  grid-column: 2;\n",
       "}\n",
       "\n",
       ".xr-array-data,\n",
       ".xr-array-in:checked ~ .xr-array-preview {\n",
       "  display: none;\n",
       "}\n",
       "\n",
       ".xr-array-in:checked ~ .xr-array-data,\n",
       ".xr-array-preview {\n",
       "  display: inline-block;\n",
       "}\n",
       "\n",
       ".xr-dim-list {\n",
       "  display: inline-block !important;\n",
       "  list-style: none;\n",
       "  padding: 0 !important;\n",
       "  margin: 0;\n",
       "}\n",
       "\n",
       ".xr-dim-list li {\n",
       "  display: inline-block;\n",
       "  padding: 0;\n",
       "  margin: 0;\n",
       "}\n",
       "\n",
       ".xr-dim-list:before {\n",
       "  content: \"(\";\n",
       "}\n",
       "\n",
       ".xr-dim-list:after {\n",
       "  content: \")\";\n",
       "}\n",
       "\n",
       ".xr-dim-list li:not(:last-child):after {\n",
       "  content: \",\";\n",
       "  padding-right: 5px;\n",
       "}\n",
       "\n",
       ".xr-has-index {\n",
       "  font-weight: bold;\n",
       "}\n",
       "\n",
       ".xr-var-list,\n",
       ".xr-var-item {\n",
       "  display: contents;\n",
       "}\n",
       "\n",
       ".xr-var-item > div,\n",
       ".xr-var-item label,\n",
       ".xr-var-item > .xr-var-name span {\n",
       "  background-color: var(--xr-background-color-row-even);\n",
       "  margin-bottom: 0;\n",
       "}\n",
       "\n",
       ".xr-var-item > .xr-var-name:hover span {\n",
       "  padding-right: 5px;\n",
       "}\n",
       "\n",
       ".xr-var-list > li:nth-child(odd) > div,\n",
       ".xr-var-list > li:nth-child(odd) > label,\n",
       ".xr-var-list > li:nth-child(odd) > .xr-var-name span {\n",
       "  background-color: var(--xr-background-color-row-odd);\n",
       "}\n",
       "\n",
       ".xr-var-name {\n",
       "  grid-column: 1;\n",
       "}\n",
       "\n",
       ".xr-var-dims {\n",
       "  grid-column: 2;\n",
       "}\n",
       "\n",
       ".xr-var-dtype {\n",
       "  grid-column: 3;\n",
       "  text-align: right;\n",
       "  color: var(--xr-font-color2);\n",
       "}\n",
       "\n",
       ".xr-var-preview {\n",
       "  grid-column: 4;\n",
       "}\n",
       "\n",
       ".xr-index-preview {\n",
       "  grid-column: 2 / 5;\n",
       "  color: var(--xr-font-color2);\n",
       "}\n",
       "\n",
       ".xr-var-name,\n",
       ".xr-var-dims,\n",
       ".xr-var-dtype,\n",
       ".xr-preview,\n",
       ".xr-attrs dt {\n",
       "  white-space: nowrap;\n",
       "  overflow: hidden;\n",
       "  text-overflow: ellipsis;\n",
       "  padding-right: 10px;\n",
       "}\n",
       "\n",
       ".xr-var-name:hover,\n",
       ".xr-var-dims:hover,\n",
       ".xr-var-dtype:hover,\n",
       ".xr-attrs dt:hover {\n",
       "  overflow: visible;\n",
       "  width: auto;\n",
       "  z-index: 1;\n",
       "}\n",
       "\n",
       ".xr-var-attrs,\n",
       ".xr-var-data,\n",
       ".xr-index-data {\n",
       "  display: none;\n",
       "  background-color: var(--xr-background-color) !important;\n",
       "  padding-bottom: 5px !important;\n",
       "}\n",
       "\n",
       ".xr-var-attrs-in:checked ~ .xr-var-attrs,\n",
       ".xr-var-data-in:checked ~ .xr-var-data,\n",
       ".xr-index-data-in:checked ~ .xr-index-data {\n",
       "  display: block;\n",
       "}\n",
       "\n",
       ".xr-var-data > table {\n",
       "  float: right;\n",
       "}\n",
       "\n",
       ".xr-var-name span,\n",
       ".xr-var-data,\n",
       ".xr-index-name div,\n",
       ".xr-index-data,\n",
       ".xr-attrs {\n",
       "  padding-left: 25px !important;\n",
       "}\n",
       "\n",
       ".xr-attrs,\n",
       ".xr-var-attrs,\n",
       ".xr-var-data,\n",
       ".xr-index-data {\n",
       "  grid-column: 1 / -1;\n",
       "}\n",
       "\n",
       "dl.xr-attrs {\n",
       "  padding: 0;\n",
       "  margin: 0;\n",
       "  display: grid;\n",
       "  grid-template-columns: 125px auto;\n",
       "}\n",
       "\n",
       ".xr-attrs dt,\n",
       ".xr-attrs dd {\n",
       "  padding: 0;\n",
       "  margin: 0;\n",
       "  float: left;\n",
       "  padding-right: 10px;\n",
       "  width: auto;\n",
       "}\n",
       "\n",
       ".xr-attrs dt {\n",
       "  font-weight: normal;\n",
       "  grid-column: 1;\n",
       "}\n",
       "\n",
       ".xr-attrs dt:hover span {\n",
       "  display: inline-block;\n",
       "  background: var(--xr-background-color);\n",
       "  padding-right: 10px;\n",
       "}\n",
       "\n",
       ".xr-attrs dd {\n",
       "  grid-column: 2;\n",
       "  white-space: pre-wrap;\n",
       "  word-break: break-all;\n",
       "}\n",
       "\n",
       ".xr-icon-database,\n",
       ".xr-icon-file-text2,\n",
       ".xr-no-icon {\n",
       "  display: inline-block;\n",
       "  vertical-align: middle;\n",
       "  width: 1em;\n",
       "  height: 1.5em !important;\n",
       "  stroke-width: 0;\n",
       "  stroke: currentColor;\n",
       "  fill: currentColor;\n",
       "}\n",
       "</style><pre class='xr-text-repr-fallback'>&lt;xarray.Dataset&gt; Size: 42kB\n",
       "Dimensions:          (time: 1765, latitude: 1, longitude: 1)\n",
       "Coordinates:\n",
       "  * latitude         (latitude) float64 8B 22.75\n",
       "  * longitude        (longitude) int64 8B -158\n",
       "  * time             (time) datetime64[ns] 14kB 2005-01-31 ... 2009-11-30\n",
       "Data variables:\n",
       "    l12              (time, latitude, longitude) float64 14kB 273.4 ... 275.3\n",
       "    l12_lowess_0.05  (time, latitude, longitude) float64 14kB 274.7 ... 277.4\n",
       "Attributes:\n",
       "    desc:     L12 multiplied by ZEU (from CMEMS).\n",
       "    type:     climatology</pre><div class='xr-wrap' style='display:none'><div class='xr-header'><div class='xr-obj-type'>xarray.Dataset</div></div><ul class='xr-sections'><li class='xr-section-item'><input id='section-1e1ce315-c9db-4c82-8180-8ad9284e2a91' class='xr-section-summary-in' type='checkbox' disabled ><label for='section-1e1ce315-c9db-4c82-8180-8ad9284e2a91' class='xr-section-summary'  title='Expand/collapse section'>Dimensions:</label><div class='xr-section-inline-details'><ul class='xr-dim-list'><li><span class='xr-has-index'>time</span>: 1765</li><li><span class='xr-has-index'>latitude</span>: 1</li><li><span class='xr-has-index'>longitude</span>: 1</li></ul></div><div class='xr-section-details'></div></li><li class='xr-section-item'><input id='section-18fee833-11e8-4501-9cf9-bc5c445b8775' class='xr-section-summary-in' type='checkbox'  checked><label for='section-18fee833-11e8-4501-9cf9-bc5c445b8775' class='xr-section-summary' >Coordinates: <span>(3)</span></label><div class='xr-section-inline-details'></div><div class='xr-section-details'><ul class='xr-var-list'><li class='xr-var-item'><div class='xr-var-name'><span class='xr-has-index'>latitude</span></div><div class='xr-var-dims'>(latitude)</div><div class='xr-var-dtype'>float64</div><div class='xr-var-preview xr-preview'>22.75</div><input id='attrs-24402009-769e-4bcc-b468-482d59bd2fd3' class='xr-var-attrs-in' type='checkbox' ><label for='attrs-24402009-769e-4bcc-b468-482d59bd2fd3' title='Show/Hide attributes'><svg class='icon xr-icon-file-text2'><use xlink:href='#icon-file-text2'></use></svg></label><input id='data-7e9af3e5-b6ac-4ea3-bb81-290e2a3c6baf' class='xr-var-data-in' type='checkbox'><label for='data-7e9af3e5-b6ac-4ea3-bb81-290e2a3c6baf' title='Show/Hide data repr'><svg class='icon xr-icon-database'><use xlink:href='#icon-database'></use></svg></label><div class='xr-var-attrs'><dl class='xr-attrs'><dt><span>axis :</span></dt><dd>Y</dd><dt><span>standard_name :</span></dt><dd>latitude</dd><dt><span>units :</span></dt><dd>degrees_north</dd></dl></div><div class='xr-var-data'><pre>array([22.75])</pre></div></li><li class='xr-var-item'><div class='xr-var-name'><span class='xr-has-index'>longitude</span></div><div class='xr-var-dims'>(longitude)</div><div class='xr-var-dtype'>int64</div><div class='xr-var-preview xr-preview'>-158</div><input id='attrs-7037f002-dafa-4116-aeae-2941facae6a0' class='xr-var-attrs-in' type='checkbox' ><label for='attrs-7037f002-dafa-4116-aeae-2941facae6a0' title='Show/Hide attributes'><svg class='icon xr-icon-file-text2'><use xlink:href='#icon-file-text2'></use></svg></label><input id='data-b88daa7c-ef04-4dc0-ada1-afbcdb2050d8' class='xr-var-data-in' type='checkbox'><label for='data-b88daa7c-ef04-4dc0-ada1-afbcdb2050d8' title='Show/Hide data repr'><svg class='icon xr-icon-database'><use xlink:href='#icon-database'></use></svg></label><div class='xr-var-attrs'><dl class='xr-attrs'><dt><span>axis :</span></dt><dd>X</dd><dt><span>standard_name :</span></dt><dd>longitude</dd><dt><span>units :</span></dt><dd>degrees_east</dd></dl></div><div class='xr-var-data'><pre>array([-158])</pre></div></li><li class='xr-var-item'><div class='xr-var-name'><span class='xr-has-index'>time</span></div><div class='xr-var-dims'>(time)</div><div class='xr-var-dtype'>datetime64[ns]</div><div class='xr-var-preview xr-preview'>2005-01-31 ... 2009-11-30</div><input id='attrs-155c0431-ffe1-45cd-bb8d-39aa65958b0c' class='xr-var-attrs-in' type='checkbox' ><label for='attrs-155c0431-ffe1-45cd-bb8d-39aa65958b0c' title='Show/Hide attributes'><svg class='icon xr-icon-file-text2'><use xlink:href='#icon-file-text2'></use></svg></label><input id='data-9b54712c-4140-462e-921a-171e372efd5f' class='xr-var-data-in' type='checkbox'><label for='data-9b54712c-4140-462e-921a-171e372efd5f' title='Show/Hide data repr'><svg class='icon xr-icon-database'><use xlink:href='#icon-database'></use></svg></label><div class='xr-var-attrs'><dl class='xr-attrs'><dt><span>axis :</span></dt><dd>T</dd></dl></div><div class='xr-var-data'><pre>array([&#x27;2005-01-31T00:00:00.000000000&#x27;, &#x27;2005-02-01T00:00:00.000000000&#x27;,\n",
       "       &#x27;2005-02-02T00:00:00.000000000&#x27;, ..., &#x27;2009-11-28T00:00:00.000000000&#x27;,\n",
       "       &#x27;2009-11-29T00:00:00.000000000&#x27;, &#x27;2009-11-30T00:00:00.000000000&#x27;],\n",
       "      shape=(1765,), dtype=&#x27;datetime64[ns]&#x27;)</pre></div></li></ul></div></li><li class='xr-section-item'><input id='section-c9cce7a4-49f5-413e-9288-27685817136e' class='xr-section-summary-in' type='checkbox'  checked><label for='section-c9cce7a4-49f5-413e-9288-27685817136e' class='xr-section-summary' >Data variables: <span>(2)</span></label><div class='xr-section-inline-details'></div><div class='xr-section-details'><ul class='xr-var-list'><li class='xr-var-item'><div class='xr-var-name'><span>l12</span></div><div class='xr-var-dims'>(time, latitude, longitude)</div><div class='xr-var-dtype'>float64</div><div class='xr-var-preview xr-preview'>273.4 274.8 276.2 ... 276.9 275.3</div><input id='attrs-c533c7e7-af82-4f70-b67e-99142bcbf65e' class='xr-var-attrs-in' type='checkbox' ><label for='attrs-c533c7e7-af82-4f70-b67e-99142bcbf65e' title='Show/Hide attributes'><svg class='icon xr-icon-file-text2'><use xlink:href='#icon-file-text2'></use></svg></label><input id='data-66e250a8-acc6-4a65-8eb4-cc089fdd7470' class='xr-var-data-in' type='checkbox'><label for='data-66e250a8-acc6-4a65-8eb4-cc089fdd7470' title='Show/Hide data repr'><svg class='icon xr-icon-database'><use xlink:href='#icon-database'></use></svg></label><div class='xr-var-attrs'><dl class='xr-attrs'><dt><span>desc :</span></dt><dd>L12 multiplied by ZEU (from CMEMS)</dd><dt><span>station :</span></dt><dd>hot</dd><dt><span>type :</span></dt><dd>in situ</dd><dt><span>units :</span></dt><dd>mg m-2 day-1</dd></dl></div><div class='xr-var-data'><pre>array([[[273.36574751]],\n",
       "\n",
       "       [[274.79807441]],\n",
       "\n",
       "       [[276.23040131]],\n",
       "\n",
       "       ...,\n",
       "\n",
       "       [[278.51690676]],\n",
       "\n",
       "       [[276.9015415 ]],\n",
       "\n",
       "       [[275.28617624]]], shape=(1765, 1, 1))</pre></div></li><li class='xr-var-item'><div class='xr-var-name'><span>l12_lowess_0.05</span></div><div class='xr-var-dims'>(time, latitude, longitude)</div><div class='xr-var-dtype'>float64</div><div class='xr-var-preview xr-preview'>274.7 276.0 277.3 ... 279.0 277.4</div><input id='attrs-e7e622ba-2c36-4bcb-9c42-60a06fabbcb6' class='xr-var-attrs-in' type='checkbox' ><label for='attrs-e7e622ba-2c36-4bcb-9c42-60a06fabbcb6' title='Show/Hide attributes'><svg class='icon xr-icon-file-text2'><use xlink:href='#icon-file-text2'></use></svg></label><input id='data-cbd5debe-8588-4015-a320-54d2e68d0f4f' class='xr-var-data-in' type='checkbox'><label for='data-cbd5debe-8588-4015-a320-54d2e68d0f4f' title='Show/Hide data repr'><svg class='icon xr-icon-database'><use xlink:href='#icon-database'></use></svg></label><div class='xr-var-attrs'><dl class='xr-attrs'><dt><span>desc :</span></dt><dd>L12 multiplied by ZEU (from CMEMS) smoothed with lowess filter with frac=0.05.</dd></dl></div><div class='xr-var-data'><pre>array([[[274.7242969 ]],\n",
       "\n",
       "       [[276.02959424]],\n",
       "\n",
       "       [[277.33489159]],\n",
       "\n",
       "       ...,\n",
       "\n",
       "       [[280.63818363]],\n",
       "\n",
       "       [[279.03679711]],\n",
       "\n",
       "       [[277.43541058]]], shape=(1765, 1, 1))</pre></div></li></ul></div></li><li class='xr-section-item'><input id='section-ab5616a9-3f70-454c-a162-758921cf081b' class='xr-section-summary-in' type='checkbox'  ><label for='section-ab5616a9-3f70-454c-a162-758921cf081b' class='xr-section-summary' >Indexes: <span>(3)</span></label><div class='xr-section-inline-details'></div><div class='xr-section-details'><ul class='xr-var-list'><li class='xr-var-item'><div class='xr-index-name'><div>latitude</div></div><div class='xr-index-preview'>PandasIndex</div><input type='checkbox' disabled/><label></label><input id='index-5ad36dbc-70dc-4d2b-b6e1-263d9fc89107' class='xr-index-data-in' type='checkbox'/><label for='index-5ad36dbc-70dc-4d2b-b6e1-263d9fc89107' title='Show/Hide index repr'><svg class='icon xr-icon-database'><use xlink:href='#icon-database'></use></svg></label><div class='xr-index-data'><pre>PandasIndex(Index([22.75], dtype=&#x27;float64&#x27;, name=&#x27;latitude&#x27;))</pre></div></li><li class='xr-var-item'><div class='xr-index-name'><div>longitude</div></div><div class='xr-index-preview'>PandasIndex</div><input type='checkbox' disabled/><label></label><input id='index-0c6b0901-9718-4147-82b6-bb156e3abcc9' class='xr-index-data-in' type='checkbox'/><label for='index-0c6b0901-9718-4147-82b6-bb156e3abcc9' title='Show/Hide index repr'><svg class='icon xr-icon-database'><use xlink:href='#icon-database'></use></svg></label><div class='xr-index-data'><pre>PandasIndex(Index([-158], dtype=&#x27;int64&#x27;, name=&#x27;longitude&#x27;))</pre></div></li><li class='xr-var-item'><div class='xr-index-name'><div>time</div></div><div class='xr-index-preview'>PandasIndex</div><input type='checkbox' disabled/><label></label><input id='index-869ed56c-9da5-4625-b505-7522d0081fd1' class='xr-index-data-in' type='checkbox'/><label for='index-869ed56c-9da5-4625-b505-7522d0081fd1' title='Show/Hide index repr'><svg class='icon xr-icon-database'><use xlink:href='#icon-database'></use></svg></label><div class='xr-index-data'><pre>PandasIndex(DatetimeIndex([&#x27;2005-01-31&#x27;, &#x27;2005-02-01&#x27;, &#x27;2005-02-02&#x27;, &#x27;2005-02-03&#x27;,\n",
       "               &#x27;2005-02-04&#x27;, &#x27;2005-02-05&#x27;, &#x27;2005-02-06&#x27;, &#x27;2005-02-07&#x27;,\n",
       "               &#x27;2005-02-08&#x27;, &#x27;2005-02-09&#x27;,\n",
       "               ...\n",
       "               &#x27;2009-11-21&#x27;, &#x27;2009-11-22&#x27;, &#x27;2009-11-23&#x27;, &#x27;2009-11-24&#x27;,\n",
       "               &#x27;2009-11-25&#x27;, &#x27;2009-11-26&#x27;, &#x27;2009-11-27&#x27;, &#x27;2009-11-28&#x27;,\n",
       "               &#x27;2009-11-29&#x27;, &#x27;2009-11-30&#x27;],\n",
       "              dtype=&#x27;datetime64[ns]&#x27;, name=&#x27;time&#x27;, length=1765, freq=None))</pre></div></li></ul></div></li><li class='xr-section-item'><input id='section-8cbfc3a3-5ee1-45b4-a927-b57991be63d4' class='xr-section-summary-in' type='checkbox'  checked><label for='section-8cbfc3a3-5ee1-45b4-a927-b57991be63d4' class='xr-section-summary' >Attributes: <span>(2)</span></label><div class='xr-section-inline-details'></div><div class='xr-section-details'><dl class='xr-attrs'><dt><span>desc :</span></dt><dd>L12 multiplied by ZEU (from CMEMS).</dd><dt><span>type :</span></dt><dd>climatology</dd></dl></div></li></ul></div></div>"
      ],
      "text/plain": [
       "<xarray.Dataset> Size: 42kB\n",
       "Dimensions:          (time: 1765, latitude: 1, longitude: 1)\n",
       "Coordinates:\n",
       "  * latitude         (latitude) float64 8B 22.75\n",
       "  * longitude        (longitude) int64 8B -158\n",
       "  * time             (time) datetime64[ns] 14kB 2005-01-31 ... 2009-11-30\n",
       "Data variables:\n",
       "    l12              (time, latitude, longitude) float64 14kB 273.4 ... 275.3\n",
       "    l12_lowess_0.05  (time, latitude, longitude) float64 14kB 274.7 ... 277.4\n",
       "Attributes:\n",
       "    desc:     L12 multiplied by ZEU (from CMEMS).\n",
       "    type:     climatology"
      ]
     },
     "execution_count": 6,
     "metadata": {},
     "output_type": "execute_result"
    }
   ],
   "source": [
    "observed_npp = xr.open_zarr(path_to_npp)\n",
    "observed_npp = observed_npp.sel(time=slice(TIME_START, TIME_END))\n",
    "observed_npp = observed_npp.dropna(\"time\", how=\"all\")\n",
    "observed_npp = observed_npp.resample(time=\"D\").interpolate(\"linear\")\n",
    "observed_npp.load()"
   ]
  },
  {
   "cell_type": "markdown",
   "metadata": {},
   "source": [
    "### Observations\n"
   ]
  },
  {
   "cell_type": "code",
   "execution_count": 7,
   "metadata": {},
   "outputs": [
    {
     "data": {
      "text/html": [
       "<div><svg style=\"position: absolute; width: 0; height: 0; overflow: hidden\">\n",
       "<defs>\n",
       "<symbol id=\"icon-database\" viewBox=\"0 0 32 32\">\n",
       "<path d=\"M16 0c-8.837 0-16 2.239-16 5v4c0 2.761 7.163 5 16 5s16-2.239 16-5v-4c0-2.761-7.163-5-16-5z\"></path>\n",
       "<path d=\"M16 17c-8.837 0-16-2.239-16-5v6c0 2.761 7.163 5 16 5s16-2.239 16-5v-6c0 2.761-7.163 5-16 5z\"></path>\n",
       "<path d=\"M16 26c-8.837 0-16-2.239-16-5v6c0 2.761 7.163 5 16 5s16-2.239 16-5v-6c0 2.761-7.163 5-16 5z\"></path>\n",
       "</symbol>\n",
       "<symbol id=\"icon-file-text2\" viewBox=\"0 0 32 32\">\n",
       "<path d=\"M28.681 7.159c-0.694-0.947-1.662-2.053-2.724-3.116s-2.169-2.030-3.116-2.724c-1.612-1.182-2.393-1.319-2.841-1.319h-15.5c-1.378 0-2.5 1.121-2.5 2.5v27c0 1.378 1.122 2.5 2.5 2.5h23c1.378 0 2.5-1.122 2.5-2.5v-19.5c0-0.448-0.137-1.23-1.319-2.841zM24.543 5.457c0.959 0.959 1.712 1.825 2.268 2.543h-4.811v-4.811c0.718 0.556 1.584 1.309 2.543 2.268zM28 29.5c0 0.271-0.229 0.5-0.5 0.5h-23c-0.271 0-0.5-0.229-0.5-0.5v-27c0-0.271 0.229-0.5 0.5-0.5 0 0 15.499-0 15.5 0v7c0 0.552 0.448 1 1 1h7v19.5z\"></path>\n",
       "<path d=\"M23 26h-14c-0.552 0-1-0.448-1-1s0.448-1 1-1h14c0.552 0 1 0.448 1 1s-0.448 1-1 1z\"></path>\n",
       "<path d=\"M23 22h-14c-0.552 0-1-0.448-1-1s0.448-1 1-1h14c0.552 0 1 0.448 1 1s-0.448 1-1 1z\"></path>\n",
       "<path d=\"M23 18h-14c-0.552 0-1-0.448-1-1s0.448-1 1-1h14c0.552 0 1 0.448 1 1s-0.448 1-1 1z\"></path>\n",
       "</symbol>\n",
       "</defs>\n",
       "</svg>\n",
       "<style>/* CSS stylesheet for displaying xarray objects in jupyterlab.\n",
       " *\n",
       " */\n",
       "\n",
       ":root {\n",
       "  --xr-font-color0: var(--jp-content-font-color0, rgba(0, 0, 0, 1));\n",
       "  --xr-font-color2: var(--jp-content-font-color2, rgba(0, 0, 0, 0.54));\n",
       "  --xr-font-color3: var(--jp-content-font-color3, rgba(0, 0, 0, 0.38));\n",
       "  --xr-border-color: var(--jp-border-color2, #e0e0e0);\n",
       "  --xr-disabled-color: var(--jp-layout-color3, #bdbdbd);\n",
       "  --xr-background-color: var(--jp-layout-color0, white);\n",
       "  --xr-background-color-row-even: var(--jp-layout-color1, white);\n",
       "  --xr-background-color-row-odd: var(--jp-layout-color2, #eeeeee);\n",
       "}\n",
       "\n",
       "html[theme=\"dark\"],\n",
       "html[data-theme=\"dark\"],\n",
       "body[data-theme=\"dark\"],\n",
       "body.vscode-dark {\n",
       "  --xr-font-color0: rgba(255, 255, 255, 1);\n",
       "  --xr-font-color2: rgba(255, 255, 255, 0.54);\n",
       "  --xr-font-color3: rgba(255, 255, 255, 0.38);\n",
       "  --xr-border-color: #1f1f1f;\n",
       "  --xr-disabled-color: #515151;\n",
       "  --xr-background-color: #111111;\n",
       "  --xr-background-color-row-even: #111111;\n",
       "  --xr-background-color-row-odd: #313131;\n",
       "}\n",
       "\n",
       ".xr-wrap {\n",
       "  display: block !important;\n",
       "  min-width: 300px;\n",
       "  max-width: 700px;\n",
       "}\n",
       "\n",
       ".xr-text-repr-fallback {\n",
       "  /* fallback to plain text repr when CSS is not injected (untrusted notebook) */\n",
       "  display: none;\n",
       "}\n",
       "\n",
       ".xr-header {\n",
       "  padding-top: 6px;\n",
       "  padding-bottom: 6px;\n",
       "  margin-bottom: 4px;\n",
       "  border-bottom: solid 1px var(--xr-border-color);\n",
       "}\n",
       "\n",
       ".xr-header > div,\n",
       ".xr-header > ul {\n",
       "  display: inline;\n",
       "  margin-top: 0;\n",
       "  margin-bottom: 0;\n",
       "}\n",
       "\n",
       ".xr-obj-type,\n",
       ".xr-array-name {\n",
       "  margin-left: 2px;\n",
       "  margin-right: 10px;\n",
       "}\n",
       "\n",
       ".xr-obj-type {\n",
       "  color: var(--xr-font-color2);\n",
       "}\n",
       "\n",
       ".xr-sections {\n",
       "  padding-left: 0 !important;\n",
       "  display: grid;\n",
       "  grid-template-columns: 150px auto auto 1fr 0 20px 0 20px;\n",
       "}\n",
       "\n",
       ".xr-section-item {\n",
       "  display: contents;\n",
       "}\n",
       "\n",
       ".xr-section-item input {\n",
       "  display: inline-block;\n",
       "  opacity: 0;\n",
       "  height: 0;\n",
       "}\n",
       "\n",
       ".xr-section-item input + label {\n",
       "  color: var(--xr-disabled-color);\n",
       "}\n",
       "\n",
       ".xr-section-item input:enabled + label {\n",
       "  cursor: pointer;\n",
       "  color: var(--xr-font-color2);\n",
       "}\n",
       "\n",
       ".xr-section-item input:focus + label {\n",
       "  border: 2px solid var(--xr-font-color0);\n",
       "}\n",
       "\n",
       ".xr-section-item input:enabled + label:hover {\n",
       "  color: var(--xr-font-color0);\n",
       "}\n",
       "\n",
       ".xr-section-summary {\n",
       "  grid-column: 1;\n",
       "  color: var(--xr-font-color2);\n",
       "  font-weight: 500;\n",
       "}\n",
       "\n",
       ".xr-section-summary > span {\n",
       "  display: inline-block;\n",
       "  padding-left: 0.5em;\n",
       "}\n",
       "\n",
       ".xr-section-summary-in:disabled + label {\n",
       "  color: var(--xr-font-color2);\n",
       "}\n",
       "\n",
       ".xr-section-summary-in + label:before {\n",
       "  display: inline-block;\n",
       "  content: \"►\";\n",
       "  font-size: 11px;\n",
       "  width: 15px;\n",
       "  text-align: center;\n",
       "}\n",
       "\n",
       ".xr-section-summary-in:disabled + label:before {\n",
       "  color: var(--xr-disabled-color);\n",
       "}\n",
       "\n",
       ".xr-section-summary-in:checked + label:before {\n",
       "  content: \"▼\";\n",
       "}\n",
       "\n",
       ".xr-section-summary-in:checked + label > span {\n",
       "  display: none;\n",
       "}\n",
       "\n",
       ".xr-section-summary,\n",
       ".xr-section-inline-details {\n",
       "  padding-top: 4px;\n",
       "  padding-bottom: 4px;\n",
       "}\n",
       "\n",
       ".xr-section-inline-details {\n",
       "  grid-column: 2 / -1;\n",
       "}\n",
       "\n",
       ".xr-section-details {\n",
       "  display: none;\n",
       "  grid-column: 1 / -1;\n",
       "  margin-bottom: 5px;\n",
       "}\n",
       "\n",
       ".xr-section-summary-in:checked ~ .xr-section-details {\n",
       "  display: contents;\n",
       "}\n",
       "\n",
       ".xr-array-wrap {\n",
       "  grid-column: 1 / -1;\n",
       "  display: grid;\n",
       "  grid-template-columns: 20px auto;\n",
       "}\n",
       "\n",
       ".xr-array-wrap > label {\n",
       "  grid-column: 1;\n",
       "  vertical-align: top;\n",
       "}\n",
       "\n",
       ".xr-preview {\n",
       "  color: var(--xr-font-color3);\n",
       "}\n",
       "\n",
       ".xr-array-preview,\n",
       ".xr-array-data {\n",
       "  padding: 0 5px !important;\n",
       "  grid-column: 2;\n",
       "}\n",
       "\n",
       ".xr-array-data,\n",
       ".xr-array-in:checked ~ .xr-array-preview {\n",
       "  display: none;\n",
       "}\n",
       "\n",
       ".xr-array-in:checked ~ .xr-array-data,\n",
       ".xr-array-preview {\n",
       "  display: inline-block;\n",
       "}\n",
       "\n",
       ".xr-dim-list {\n",
       "  display: inline-block !important;\n",
       "  list-style: none;\n",
       "  padding: 0 !important;\n",
       "  margin: 0;\n",
       "}\n",
       "\n",
       ".xr-dim-list li {\n",
       "  display: inline-block;\n",
       "  padding: 0;\n",
       "  margin: 0;\n",
       "}\n",
       "\n",
       ".xr-dim-list:before {\n",
       "  content: \"(\";\n",
       "}\n",
       "\n",
       ".xr-dim-list:after {\n",
       "  content: \")\";\n",
       "}\n",
       "\n",
       ".xr-dim-list li:not(:last-child):after {\n",
       "  content: \",\";\n",
       "  padding-right: 5px;\n",
       "}\n",
       "\n",
       ".xr-has-index {\n",
       "  font-weight: bold;\n",
       "}\n",
       "\n",
       ".xr-var-list,\n",
       ".xr-var-item {\n",
       "  display: contents;\n",
       "}\n",
       "\n",
       ".xr-var-item > div,\n",
       ".xr-var-item label,\n",
       ".xr-var-item > .xr-var-name span {\n",
       "  background-color: var(--xr-background-color-row-even);\n",
       "  margin-bottom: 0;\n",
       "}\n",
       "\n",
       ".xr-var-item > .xr-var-name:hover span {\n",
       "  padding-right: 5px;\n",
       "}\n",
       "\n",
       ".xr-var-list > li:nth-child(odd) > div,\n",
       ".xr-var-list > li:nth-child(odd) > label,\n",
       ".xr-var-list > li:nth-child(odd) > .xr-var-name span {\n",
       "  background-color: var(--xr-background-color-row-odd);\n",
       "}\n",
       "\n",
       ".xr-var-name {\n",
       "  grid-column: 1;\n",
       "}\n",
       "\n",
       ".xr-var-dims {\n",
       "  grid-column: 2;\n",
       "}\n",
       "\n",
       ".xr-var-dtype {\n",
       "  grid-column: 3;\n",
       "  text-align: right;\n",
       "  color: var(--xr-font-color2);\n",
       "}\n",
       "\n",
       ".xr-var-preview {\n",
       "  grid-column: 4;\n",
       "}\n",
       "\n",
       ".xr-index-preview {\n",
       "  grid-column: 2 / 5;\n",
       "  color: var(--xr-font-color2);\n",
       "}\n",
       "\n",
       ".xr-var-name,\n",
       ".xr-var-dims,\n",
       ".xr-var-dtype,\n",
       ".xr-preview,\n",
       ".xr-attrs dt {\n",
       "  white-space: nowrap;\n",
       "  overflow: hidden;\n",
       "  text-overflow: ellipsis;\n",
       "  padding-right: 10px;\n",
       "}\n",
       "\n",
       ".xr-var-name:hover,\n",
       ".xr-var-dims:hover,\n",
       ".xr-var-dtype:hover,\n",
       ".xr-attrs dt:hover {\n",
       "  overflow: visible;\n",
       "  width: auto;\n",
       "  z-index: 1;\n",
       "}\n",
       "\n",
       ".xr-var-attrs,\n",
       ".xr-var-data,\n",
       ".xr-index-data {\n",
       "  display: none;\n",
       "  background-color: var(--xr-background-color) !important;\n",
       "  padding-bottom: 5px !important;\n",
       "}\n",
       "\n",
       ".xr-var-attrs-in:checked ~ .xr-var-attrs,\n",
       ".xr-var-data-in:checked ~ .xr-var-data,\n",
       ".xr-index-data-in:checked ~ .xr-index-data {\n",
       "  display: block;\n",
       "}\n",
       "\n",
       ".xr-var-data > table {\n",
       "  float: right;\n",
       "}\n",
       "\n",
       ".xr-var-name span,\n",
       ".xr-var-data,\n",
       ".xr-index-name div,\n",
       ".xr-index-data,\n",
       ".xr-attrs {\n",
       "  padding-left: 25px !important;\n",
       "}\n",
       "\n",
       ".xr-attrs,\n",
       ".xr-var-attrs,\n",
       ".xr-var-data,\n",
       ".xr-index-data {\n",
       "  grid-column: 1 / -1;\n",
       "}\n",
       "\n",
       "dl.xr-attrs {\n",
       "  padding: 0;\n",
       "  margin: 0;\n",
       "  display: grid;\n",
       "  grid-template-columns: 125px auto;\n",
       "}\n",
       "\n",
       ".xr-attrs dt,\n",
       ".xr-attrs dd {\n",
       "  padding: 0;\n",
       "  margin: 0;\n",
       "  float: left;\n",
       "  padding-right: 10px;\n",
       "  width: auto;\n",
       "}\n",
       "\n",
       ".xr-attrs dt {\n",
       "  font-weight: normal;\n",
       "  grid-column: 1;\n",
       "}\n",
       "\n",
       ".xr-attrs dt:hover span {\n",
       "  display: inline-block;\n",
       "  background: var(--xr-background-color);\n",
       "  padding-right: 10px;\n",
       "}\n",
       "\n",
       ".xr-attrs dd {\n",
       "  grid-column: 2;\n",
       "  white-space: pre-wrap;\n",
       "  word-break: break-all;\n",
       "}\n",
       "\n",
       ".xr-icon-database,\n",
       ".xr-icon-file-text2,\n",
       ".xr-no-icon {\n",
       "  display: inline-block;\n",
       "  vertical-align: middle;\n",
       "  width: 1em;\n",
       "  height: 1.5em !important;\n",
       "  stroke-width: 0;\n",
       "  stroke: currentColor;\n",
       "  fill: currentColor;\n",
       "}\n",
       "</style><pre class='xr-text-repr-fallback'>&lt;xarray.Dataset&gt; Size: 1kB\n",
       "Dimensions:    (layer: 1, time: 59, latitude: 1, longitude: 1)\n",
       "Coordinates:\n",
       "  * layer      (layer) int64 8B 0\n",
       "  * time       (time) datetime64[ns] 472B 2005-01-31 2005-02-28 ... 2009-11-30\n",
       "  * latitude   (latitude) float64 8B 22.75\n",
       "  * longitude  (longitude) int64 8B -158\n",
       "Data variables:\n",
       "    day        (time, layer, latitude, longitude) float64 472B [mg/m²] 157.9 ...\n",
       "    night      (time, layer, latitude, longitude) float64 472B [mg/m²] 237.1 ...</pre><div class='xr-wrap' style='display:none'><div class='xr-header'><div class='xr-obj-type'>xarray.Dataset</div></div><ul class='xr-sections'><li class='xr-section-item'><input id='section-94829d24-f221-46e2-ab6b-670c71a1ce28' class='xr-section-summary-in' type='checkbox' disabled ><label for='section-94829d24-f221-46e2-ab6b-670c71a1ce28' class='xr-section-summary'  title='Expand/collapse section'>Dimensions:</label><div class='xr-section-inline-details'><ul class='xr-dim-list'><li><span class='xr-has-index'>layer</span>: 1</li><li><span class='xr-has-index'>time</span>: 59</li><li><span class='xr-has-index'>latitude</span>: 1</li><li><span class='xr-has-index'>longitude</span>: 1</li></ul></div><div class='xr-section-details'></div></li><li class='xr-section-item'><input id='section-6fc0a4b4-f3ae-435a-b0af-6f605b768eb2' class='xr-section-summary-in' type='checkbox'  checked><label for='section-6fc0a4b4-f3ae-435a-b0af-6f605b768eb2' class='xr-section-summary' >Coordinates: <span>(4)</span></label><div class='xr-section-inline-details'></div><div class='xr-section-details'><ul class='xr-var-list'><li class='xr-var-item'><div class='xr-var-name'><span class='xr-has-index'>layer</span></div><div class='xr-var-dims'>(layer)</div><div class='xr-var-dtype'>int64</div><div class='xr-var-preview xr-preview'>0</div><input id='attrs-d9914f2d-c613-40e7-aba7-044521e91c84' class='xr-var-attrs-in' type='checkbox' ><label for='attrs-d9914f2d-c613-40e7-aba7-044521e91c84' title='Show/Hide attributes'><svg class='icon xr-icon-file-text2'><use xlink:href='#icon-file-text2'></use></svg></label><input id='data-0c76e9f6-5872-44a0-a238-fed97aab3934' class='xr-var-data-in' type='checkbox'><label for='data-0c76e9f6-5872-44a0-a238-fed97aab3934' title='Show/Hide data repr'><svg class='icon xr-icon-database'><use xlink:href='#icon-database'></use></svg></label><div class='xr-var-attrs'><dl class='xr-attrs'><dt><span>axis :</span></dt><dd>Z</dd><dt><span>desc :</span></dt><dd>The layer depth according to Seapodym definition</dd><dt><span>flag_meanings :</span></dt><dd>epipelagic, upper-mesopelagic, lower-mesopelagic</dd><dt><span>flag_values :</span></dt><dd>[0, 1, 2]</dd><dt><span>long_name :</span></dt><dd>Layer depth</dd><dt><span>standard_name :</span></dt><dd>layer</dd></dl></div><div class='xr-var-data'><pre>array([0])</pre></div></li><li class='xr-var-item'><div class='xr-var-name'><span class='xr-has-index'>time</span></div><div class='xr-var-dims'>(time)</div><div class='xr-var-dtype'>datetime64[ns]</div><div class='xr-var-preview xr-preview'>2005-01-31 ... 2009-11-30</div><input id='attrs-e797cd62-3add-419a-9829-996a28315f07' class='xr-var-attrs-in' type='checkbox' ><label for='attrs-e797cd62-3add-419a-9829-996a28315f07' title='Show/Hide attributes'><svg class='icon xr-icon-file-text2'><use xlink:href='#icon-file-text2'></use></svg></label><input id='data-69bd60b5-d2f7-45bd-a87a-442b8c7cb4c4' class='xr-var-data-in' type='checkbox'><label for='data-69bd60b5-d2f7-45bd-a87a-442b8c7cb4c4' title='Show/Hide data repr'><svg class='icon xr-icon-database'><use xlink:href='#icon-database'></use></svg></label><div class='xr-var-attrs'><dl class='xr-attrs'><dt><span>axis :</span></dt><dd>T</dd><dt><span>long_name :</span></dt><dd>time</dd><dt><span>standard_name :</span></dt><dd>time</dd></dl></div><div class='xr-var-data'><pre>array([&#x27;2005-01-31T00:00:00.000000000&#x27;, &#x27;2005-02-28T00:00:00.000000000&#x27;,\n",
       "       &#x27;2005-03-31T00:00:00.000000000&#x27;, &#x27;2005-04-30T00:00:00.000000000&#x27;,\n",
       "       &#x27;2005-05-31T00:00:00.000000000&#x27;, &#x27;2005-06-30T00:00:00.000000000&#x27;,\n",
       "       &#x27;2005-07-31T00:00:00.000000000&#x27;, &#x27;2005-08-31T00:00:00.000000000&#x27;,\n",
       "       &#x27;2005-09-30T00:00:00.000000000&#x27;, &#x27;2005-10-31T00:00:00.000000000&#x27;,\n",
       "       &#x27;2005-11-30T00:00:00.000000000&#x27;, &#x27;2005-12-31T00:00:00.000000000&#x27;,\n",
       "       &#x27;2006-01-31T00:00:00.000000000&#x27;, &#x27;2006-02-28T00:00:00.000000000&#x27;,\n",
       "       &#x27;2006-03-31T00:00:00.000000000&#x27;, &#x27;2006-04-30T00:00:00.000000000&#x27;,\n",
       "       &#x27;2006-05-31T00:00:00.000000000&#x27;, &#x27;2006-06-30T00:00:00.000000000&#x27;,\n",
       "       &#x27;2006-07-31T00:00:00.000000000&#x27;, &#x27;2006-08-31T00:00:00.000000000&#x27;,\n",
       "       &#x27;2006-09-30T00:00:00.000000000&#x27;, &#x27;2006-10-31T00:00:00.000000000&#x27;,\n",
       "       &#x27;2006-11-30T00:00:00.000000000&#x27;, &#x27;2006-12-31T00:00:00.000000000&#x27;,\n",
       "       &#x27;2007-01-31T00:00:00.000000000&#x27;, &#x27;2007-02-28T00:00:00.000000000&#x27;,\n",
       "       &#x27;2007-03-31T00:00:00.000000000&#x27;, &#x27;2007-04-30T00:00:00.000000000&#x27;,\n",
       "       &#x27;2007-05-31T00:00:00.000000000&#x27;, &#x27;2007-06-30T00:00:00.000000000&#x27;,\n",
       "       &#x27;2007-07-31T00:00:00.000000000&#x27;, &#x27;2007-08-31T00:00:00.000000000&#x27;,\n",
       "       &#x27;2007-09-30T00:00:00.000000000&#x27;, &#x27;2007-10-31T00:00:00.000000000&#x27;,\n",
       "       &#x27;2007-11-30T00:00:00.000000000&#x27;, &#x27;2007-12-31T00:00:00.000000000&#x27;,\n",
       "       &#x27;2008-01-31T00:00:00.000000000&#x27;, &#x27;2008-02-29T00:00:00.000000000&#x27;,\n",
       "       &#x27;2008-03-31T00:00:00.000000000&#x27;, &#x27;2008-04-30T00:00:00.000000000&#x27;,\n",
       "       &#x27;2008-05-31T00:00:00.000000000&#x27;, &#x27;2008-06-30T00:00:00.000000000&#x27;,\n",
       "       &#x27;2008-07-31T00:00:00.000000000&#x27;, &#x27;2008-08-31T00:00:00.000000000&#x27;,\n",
       "       &#x27;2008-09-30T00:00:00.000000000&#x27;, &#x27;2008-10-31T00:00:00.000000000&#x27;,\n",
       "       &#x27;2008-11-30T00:00:00.000000000&#x27;, &#x27;2008-12-31T00:00:00.000000000&#x27;,\n",
       "       &#x27;2009-01-31T00:00:00.000000000&#x27;, &#x27;2009-02-28T00:00:00.000000000&#x27;,\n",
       "       &#x27;2009-03-31T00:00:00.000000000&#x27;, &#x27;2009-04-30T00:00:00.000000000&#x27;,\n",
       "       &#x27;2009-05-31T00:00:00.000000000&#x27;, &#x27;2009-06-30T00:00:00.000000000&#x27;,\n",
       "       &#x27;2009-07-31T00:00:00.000000000&#x27;, &#x27;2009-08-31T00:00:00.000000000&#x27;,\n",
       "       &#x27;2009-09-30T00:00:00.000000000&#x27;, &#x27;2009-10-31T00:00:00.000000000&#x27;,\n",
       "       &#x27;2009-11-30T00:00:00.000000000&#x27;], dtype=&#x27;datetime64[ns]&#x27;)</pre></div></li><li class='xr-var-item'><div class='xr-var-name'><span class='xr-has-index'>latitude</span></div><div class='xr-var-dims'>(latitude)</div><div class='xr-var-dtype'>float64</div><div class='xr-var-preview xr-preview'>22.75</div><input id='attrs-bd2b9577-de14-4d8a-b7d3-ed934c8bfb42' class='xr-var-attrs-in' type='checkbox' ><label for='attrs-bd2b9577-de14-4d8a-b7d3-ed934c8bfb42' title='Show/Hide attributes'><svg class='icon xr-icon-file-text2'><use xlink:href='#icon-file-text2'></use></svg></label><input id='data-783815eb-d6ed-4c5c-aab6-0ce27ae7b812' class='xr-var-data-in' type='checkbox'><label for='data-783815eb-d6ed-4c5c-aab6-0ce27ae7b812' title='Show/Hide data repr'><svg class='icon xr-icon-database'><use xlink:href='#icon-database'></use></svg></label><div class='xr-var-attrs'><dl class='xr-attrs'><dt><span>axis :</span></dt><dd>Y</dd><dt><span>standard_name :</span></dt><dd>latitude</dd><dt><span>units :</span></dt><dd>degrees_north</dd></dl></div><div class='xr-var-data'><pre>array([22.75])</pre></div></li><li class='xr-var-item'><div class='xr-var-name'><span class='xr-has-index'>longitude</span></div><div class='xr-var-dims'>(longitude)</div><div class='xr-var-dtype'>int64</div><div class='xr-var-preview xr-preview'>-158</div><input id='attrs-651bb365-713c-42ef-bc91-fdd5aa7ca5ea' class='xr-var-attrs-in' type='checkbox' ><label for='attrs-651bb365-713c-42ef-bc91-fdd5aa7ca5ea' title='Show/Hide attributes'><svg class='icon xr-icon-file-text2'><use xlink:href='#icon-file-text2'></use></svg></label><input id='data-f5ba3332-f07c-4f15-8b86-a12d8ef9f6d4' class='xr-var-data-in' type='checkbox'><label for='data-f5ba3332-f07c-4f15-8b86-a12d8ef9f6d4' title='Show/Hide data repr'><svg class='icon xr-icon-database'><use xlink:href='#icon-database'></use></svg></label><div class='xr-var-attrs'><dl class='xr-attrs'><dt><span>axis :</span></dt><dd>X</dd><dt><span>standard_name :</span></dt><dd>longitude</dd><dt><span>units :</span></dt><dd>degrees_east</dd></dl></div><div class='xr-var-data'><pre>array([-158])</pre></div></li></ul></div></li><li class='xr-section-item'><input id='section-d1e6c47c-d7b3-4e5b-a9aa-5a30f00c94a4' class='xr-section-summary-in' type='checkbox'  checked><label for='section-d1e6c47c-d7b3-4e5b-a9aa-5a30f00c94a4' class='xr-section-summary' >Data variables: <span>(2)</span></label><div class='xr-section-inline-details'></div><div class='xr-section-details'><ul class='xr-var-list'><li class='xr-var-item'><div class='xr-var-name'><span>day</span></div><div class='xr-var-dims'>(time, layer, latitude, longitude)</div><div class='xr-var-dtype'>float64</div><div class='xr-var-preview xr-preview'>[mg/m²] 157.9 179.5 ... 252.3 204.8</div><input id='attrs-944ce0ed-829e-44b0-ae12-123c64113c01' class='xr-var-attrs-in' type='checkbox' disabled><label for='attrs-944ce0ed-829e-44b0-ae12-123c64113c01' title='Show/Hide attributes'><svg class='icon xr-icon-file-text2'><use xlink:href='#icon-file-text2'></use></svg></label><input id='data-738ff372-9ea2-4a46-ac04-b01802202092' class='xr-var-data-in' type='checkbox'><label for='data-738ff372-9ea2-4a46-ac04-b01802202092' title='Show/Hide data repr'><svg class='icon xr-icon-database'><use xlink:href='#icon-database'></use></svg></label><div class='xr-var-attrs'><dl class='xr-attrs'></dl></div><div class='xr-var-data'><table><tbody><tr><th>Magnitude</th><td style='text-align:left;'><pre>[[[[157.92219924943342]]] [[[179.50290001191829]]] [[[206.9568833881889]]] [[[265.77390000839995]]] [[[281.78101853068074]]] [[[282.22919058899055]]] [[[295.88177275463875]]] [[[313.19485204421545]]] [[[314.33474301409973]]] [[[252.30876534149797]]] [[[204.84900876732033]]] [[[189.26359852904628]]] [[[157.92219924943342]]] [[[179.50290001191829]]] [[[206.9568833881889]]] [[[265.77390000839995]]] [[[281.78101853068074]]] [[[282.22919058899055]]] [[[295.88177275463875]]] [[[313.19485204421545]]] [[[314.33474301409973]]] [[[252.30876534149797]]] [[[204.84900876732033]]] [[[189.26359852904628]]] [[[157.92219924943342]]] [[[179.50290001191829]]] [[[206.9568833881889]]] [[[265.77390000839995]]] [[[281.78101853068074]]] [[[282.22919058899055]]] [[[295.88177275463875]]] [[[313.19485204421545]]] [[[314.33474301409973]]] [[[252.30876534149797]]] [[[204.84900876732033]]] [[[189.26359852904628]]] [[[157.92219924943342]]] [[[178.58649139474625]]] [[[207.78348092804256]]] [[[265.6684200378455]]] [[[283.3215285687847]]] [[[286.8754053335449]]] [[[298.4606291423159]]] [[[316.99822292914615]]] [[[307.4117305615572]]] [[[256.3939882358341]]] [[[206.1695339111292]]] [[[184.04306987771415]]] [[[157.92219924943342]]] [[[179.50290001191829]]] [[[206.9568833881889]]] [[[265.77390000839995]]] [[[281.78101853068074]]] [[[282.22919058899055]]] [[[295.88177275463875]]] [[[313.19485204421545]]] [[[314.33474301409973]]] [[[252.30876534149797]]] [[[204.84900876732033]]]]</pre></td></tr><tr><th>Units</th><td style='text-align:left;'>milligram/meter<sup>2</sup></td></tr></tbody></table></div></li><li class='xr-var-item'><div class='xr-var-name'><span>night</span></div><div class='xr-var-dims'>(time, layer, latitude, longitude)</div><div class='xr-var-dtype'>float64</div><div class='xr-var-preview xr-preview'>[mg/m²] 237.1 301.6 ... 374.8 334.0</div><input id='attrs-9ffc1daa-e40e-4640-b758-d1f446ffd4ce' class='xr-var-attrs-in' type='checkbox' disabled><label for='attrs-9ffc1daa-e40e-4640-b758-d1f446ffd4ce' title='Show/Hide attributes'><svg class='icon xr-icon-file-text2'><use xlink:href='#icon-file-text2'></use></svg></label><input id='data-41eb3b2a-e18e-4e86-b256-332726b20be5' class='xr-var-data-in' type='checkbox'><label for='data-41eb3b2a-e18e-4e86-b256-332726b20be5' title='Show/Hide data repr'><svg class='icon xr-icon-database'><use xlink:href='#icon-database'></use></svg></label><div class='xr-var-attrs'><dl class='xr-attrs'></dl></div><div class='xr-var-data'><table><tbody><tr><th>Magnitude</th><td style='text-align:left;'><pre>[[[[237.0516536022709]]] [[[301.6376319958857]]] [[[337.83226845879244]]] [[[414.48959622350367]]] [[[389.1909678368789]]] [[[421.89365674709336]]] [[[424.06609922351373]]] [[[426.77207432265106]]] [[[418.1004648101298]]] [[[374.8468152741032]]] [[[333.9713931237319]]] [[[290.2018113694168]]] [[[237.0516536022709]]] [[[301.6376319958857]]] [[[337.83226845879244]]] [[[414.48959622350367]]] [[[389.1909678368789]]] [[[421.89365674709336]]] [[[424.06609922351373]]] [[[426.77207432265106]]] [[[418.1004648101298]]] [[[374.8468152741032]]] [[[333.9713931237319]]] [[[290.2018113694168]]] [[[237.0516536022709]]] [[[301.6376319958857]]] [[[337.83226845879244]]] [[[414.48959622350367]]] [[[389.1909678368789]]] [[[421.89365674709336]]] [[[424.06609922351373]]] [[[426.77207432265106]]] [[[418.1004648101298]]] [[[374.8468152741032]]] [[[333.9713931237319]]] [[[290.2018113694168]]] [[[237.0516536022709]]] [[[300.09769406058746]]] [[[339.1815897155657]]] [[[414.32509417720263]]] [[[391.31869310318103]]] [[[428.83910602723876]]] [[[427.7621889102778]]] [[[431.9547025535618]]] [[[408.89208174518643]]] [[[380.916096258274]]] [[[336.1242842926303]]] [[[282.197066227207]]] [[[237.0516536022709]]] [[[301.6376319958857]]] [[[337.83226845879244]]] [[[414.48959622350367]]] [[[389.1909678368789]]] [[[421.89365674709336]]] [[[424.06609922351373]]] [[[426.77207432265106]]] [[[418.1004648101298]]] [[[374.8468152741032]]] [[[333.9713931237319]]]]</pre></td></tr><tr><th>Units</th><td style='text-align:left;'>milligram/meter<sup>2</sup></td></tr></tbody></table></div></li></ul></div></li><li class='xr-section-item'><input id='section-7fc961ec-d2db-46a2-9fc2-64a5cd43ae1d' class='xr-section-summary-in' type='checkbox'  ><label for='section-7fc961ec-d2db-46a2-9fc2-64a5cd43ae1d' class='xr-section-summary' >Indexes: <span>(4)</span></label><div class='xr-section-inline-details'></div><div class='xr-section-details'><ul class='xr-var-list'><li class='xr-var-item'><div class='xr-index-name'><div>layer</div></div><div class='xr-index-preview'>PandasIndex</div><input type='checkbox' disabled/><label></label><input id='index-51df5e73-8550-4dd5-af6c-060891e4312d' class='xr-index-data-in' type='checkbox'/><label for='index-51df5e73-8550-4dd5-af6c-060891e4312d' title='Show/Hide index repr'><svg class='icon xr-icon-database'><use xlink:href='#icon-database'></use></svg></label><div class='xr-index-data'><pre>PandasIndex(Index([0], dtype=&#x27;int64&#x27;, name=&#x27;layer&#x27;))</pre></div></li><li class='xr-var-item'><div class='xr-index-name'><div>time</div></div><div class='xr-index-preview'>PandasIndex</div><input type='checkbox' disabled/><label></label><input id='index-5a334154-62fa-4dc5-a329-113249830187' class='xr-index-data-in' type='checkbox'/><label for='index-5a334154-62fa-4dc5-a329-113249830187' title='Show/Hide index repr'><svg class='icon xr-icon-database'><use xlink:href='#icon-database'></use></svg></label><div class='xr-index-data'><pre>PandasIndex(DatetimeIndex([&#x27;2005-01-31&#x27;, &#x27;2005-02-28&#x27;, &#x27;2005-03-31&#x27;, &#x27;2005-04-30&#x27;,\n",
       "               &#x27;2005-05-31&#x27;, &#x27;2005-06-30&#x27;, &#x27;2005-07-31&#x27;, &#x27;2005-08-31&#x27;,\n",
       "               &#x27;2005-09-30&#x27;, &#x27;2005-10-31&#x27;, &#x27;2005-11-30&#x27;, &#x27;2005-12-31&#x27;,\n",
       "               &#x27;2006-01-31&#x27;, &#x27;2006-02-28&#x27;, &#x27;2006-03-31&#x27;, &#x27;2006-04-30&#x27;,\n",
       "               &#x27;2006-05-31&#x27;, &#x27;2006-06-30&#x27;, &#x27;2006-07-31&#x27;, &#x27;2006-08-31&#x27;,\n",
       "               &#x27;2006-09-30&#x27;, &#x27;2006-10-31&#x27;, &#x27;2006-11-30&#x27;, &#x27;2006-12-31&#x27;,\n",
       "               &#x27;2007-01-31&#x27;, &#x27;2007-02-28&#x27;, &#x27;2007-03-31&#x27;, &#x27;2007-04-30&#x27;,\n",
       "               &#x27;2007-05-31&#x27;, &#x27;2007-06-30&#x27;, &#x27;2007-07-31&#x27;, &#x27;2007-08-31&#x27;,\n",
       "               &#x27;2007-09-30&#x27;, &#x27;2007-10-31&#x27;, &#x27;2007-11-30&#x27;, &#x27;2007-12-31&#x27;,\n",
       "               &#x27;2008-01-31&#x27;, &#x27;2008-02-29&#x27;, &#x27;2008-03-31&#x27;, &#x27;2008-04-30&#x27;,\n",
       "               &#x27;2008-05-31&#x27;, &#x27;2008-06-30&#x27;, &#x27;2008-07-31&#x27;, &#x27;2008-08-31&#x27;,\n",
       "               &#x27;2008-09-30&#x27;, &#x27;2008-10-31&#x27;, &#x27;2008-11-30&#x27;, &#x27;2008-12-31&#x27;,\n",
       "               &#x27;2009-01-31&#x27;, &#x27;2009-02-28&#x27;, &#x27;2009-03-31&#x27;, &#x27;2009-04-30&#x27;,\n",
       "               &#x27;2009-05-31&#x27;, &#x27;2009-06-30&#x27;, &#x27;2009-07-31&#x27;, &#x27;2009-08-31&#x27;,\n",
       "               &#x27;2009-09-30&#x27;, &#x27;2009-10-31&#x27;, &#x27;2009-11-30&#x27;],\n",
       "              dtype=&#x27;datetime64[ns]&#x27;, name=&#x27;time&#x27;, freq=&#x27;ME&#x27;))</pre></div></li><li class='xr-var-item'><div class='xr-index-name'><div>latitude</div></div><div class='xr-index-preview'>PandasIndex</div><input type='checkbox' disabled/><label></label><input id='index-2cfc36c7-21a0-4039-bce9-6a9bf4b8ecbf' class='xr-index-data-in' type='checkbox'/><label for='index-2cfc36c7-21a0-4039-bce9-6a9bf4b8ecbf' title='Show/Hide index repr'><svg class='icon xr-icon-database'><use xlink:href='#icon-database'></use></svg></label><div class='xr-index-data'><pre>PandasIndex(Index([22.75], dtype=&#x27;float64&#x27;, name=&#x27;latitude&#x27;))</pre></div></li><li class='xr-var-item'><div class='xr-index-name'><div>longitude</div></div><div class='xr-index-preview'>PandasIndex</div><input type='checkbox' disabled/><label></label><input id='index-402bbe85-1af2-4a56-955d-7e1c0a7b4aa7' class='xr-index-data-in' type='checkbox'/><label for='index-402bbe85-1af2-4a56-955d-7e1c0a7b4aa7' title='Show/Hide index repr'><svg class='icon xr-icon-database'><use xlink:href='#icon-database'></use></svg></label><div class='xr-index-data'><pre>PandasIndex(Index([-158], dtype=&#x27;int64&#x27;, name=&#x27;longitude&#x27;))</pre></div></li></ul></div></li><li class='xr-section-item'><input id='section-e4cc7d45-2a40-4e06-b75c-7b586a43bc85' class='xr-section-summary-in' type='checkbox' disabled ><label for='section-e4cc7d45-2a40-4e06-b75c-7b586a43bc85' class='xr-section-summary'  title='Expand/collapse section'>Attributes: <span>(0)</span></label><div class='xr-section-inline-details'></div><div class='xr-section-details'><dl class='xr-attrs'></dl></div></li></ul></div></div>"
      ],
      "text/plain": [
       "<xarray.Dataset> Size: 1kB\n",
       "Dimensions:    (layer: 1, time: 59, latitude: 1, longitude: 1)\n",
       "Coordinates:\n",
       "  * layer      (layer) int64 8B 0\n",
       "  * time       (time) datetime64[ns] 472B 2005-01-31 2005-02-28 ... 2009-11-30\n",
       "  * latitude   (latitude) float64 8B 22.75\n",
       "  * longitude  (longitude) int64 8B -158\n",
       "Data variables:\n",
       "    day        (time, layer, latitude, longitude) float64 472B [mg/m²] 157.9 ...\n",
       "    night      (time, layer, latitude, longitude) float64 472B [mg/m²] 237.1 ..."
      ]
     },
     "execution_count": 7,
     "metadata": {},
     "output_type": "execute_result"
    }
   ],
   "source": [
    "observations = xr.open_zarr(path_to_obs).load()\n",
    "observations = observations.sel(latitude=LATITUDE, longitude=LONGITUDE, method=\"nearest\")\n",
    "observations = observations.resample(time=\"1D\").mean().dropna(\"time\")\n",
    "observations = observations.pint.quantify().pint.to(\"mg/m^3\")\n",
    "observations = observations * epi_layer_depth\n",
    "observations = observations.drop_vars(\"depth\")\n",
    "observations"
   ]
  },
  {
   "cell_type": "markdown",
   "metadata": {},
   "source": [
    "observations\n"
   ]
  },
  {
   "cell_type": "markdown",
   "metadata": {},
   "source": [
    "Select the kind of observation you want to use.\n"
   ]
  },
  {
   "cell_type": "code",
   "execution_count": 8,
   "metadata": {},
   "outputs": [],
   "source": [
    "# observations_selected = observations[[\"day_lowess_0.2\", \"night_lowess_0.2\"]].rename(\n",
    "#     {\"day_lowess_0.2\": \"day\", \"night_lowess_0.2\": \"night\"}\n",
    "# )\n",
    "\n",
    "observations_selected = observations[\"night\"]"
   ]
  },
  {
   "cell_type": "markdown",
   "metadata": {},
   "source": [
    "Remove the X first months to let the model reach the stationary state.\n"
   ]
  },
  {
   "cell_type": "code",
   "execution_count": 9,
   "metadata": {},
   "outputs": [
    {
     "data": {
      "text/html": [
       "<div><svg style=\"position: absolute; width: 0; height: 0; overflow: hidden\">\n",
       "<defs>\n",
       "<symbol id=\"icon-database\" viewBox=\"0 0 32 32\">\n",
       "<path d=\"M16 0c-8.837 0-16 2.239-16 5v4c0 2.761 7.163 5 16 5s16-2.239 16-5v-4c0-2.761-7.163-5-16-5z\"></path>\n",
       "<path d=\"M16 17c-8.837 0-16-2.239-16-5v6c0 2.761 7.163 5 16 5s16-2.239 16-5v-6c0 2.761-7.163 5-16 5z\"></path>\n",
       "<path d=\"M16 26c-8.837 0-16-2.239-16-5v6c0 2.761 7.163 5 16 5s16-2.239 16-5v-6c0 2.761-7.163 5-16 5z\"></path>\n",
       "</symbol>\n",
       "<symbol id=\"icon-file-text2\" viewBox=\"0 0 32 32\">\n",
       "<path d=\"M28.681 7.159c-0.694-0.947-1.662-2.053-2.724-3.116s-2.169-2.030-3.116-2.724c-1.612-1.182-2.393-1.319-2.841-1.319h-15.5c-1.378 0-2.5 1.121-2.5 2.5v27c0 1.378 1.122 2.5 2.5 2.5h23c1.378 0 2.5-1.122 2.5-2.5v-19.5c0-0.448-0.137-1.23-1.319-2.841zM24.543 5.457c0.959 0.959 1.712 1.825 2.268 2.543h-4.811v-4.811c0.718 0.556 1.584 1.309 2.543 2.268zM28 29.5c0 0.271-0.229 0.5-0.5 0.5h-23c-0.271 0-0.5-0.229-0.5-0.5v-27c0-0.271 0.229-0.5 0.5-0.5 0 0 15.499-0 15.5 0v7c0 0.552 0.448 1 1 1h7v19.5z\"></path>\n",
       "<path d=\"M23 26h-14c-0.552 0-1-0.448-1-1s0.448-1 1-1h14c0.552 0 1 0.448 1 1s-0.448 1-1 1z\"></path>\n",
       "<path d=\"M23 22h-14c-0.552 0-1-0.448-1-1s0.448-1 1-1h14c0.552 0 1 0.448 1 1s-0.448 1-1 1z\"></path>\n",
       "<path d=\"M23 18h-14c-0.552 0-1-0.448-1-1s0.448-1 1-1h14c0.552 0 1 0.448 1 1s-0.448 1-1 1z\"></path>\n",
       "</symbol>\n",
       "</defs>\n",
       "</svg>\n",
       "<style>/* CSS stylesheet for displaying xarray objects in jupyterlab.\n",
       " *\n",
       " */\n",
       "\n",
       ":root {\n",
       "  --xr-font-color0: var(--jp-content-font-color0, rgba(0, 0, 0, 1));\n",
       "  --xr-font-color2: var(--jp-content-font-color2, rgba(0, 0, 0, 0.54));\n",
       "  --xr-font-color3: var(--jp-content-font-color3, rgba(0, 0, 0, 0.38));\n",
       "  --xr-border-color: var(--jp-border-color2, #e0e0e0);\n",
       "  --xr-disabled-color: var(--jp-layout-color3, #bdbdbd);\n",
       "  --xr-background-color: var(--jp-layout-color0, white);\n",
       "  --xr-background-color-row-even: var(--jp-layout-color1, white);\n",
       "  --xr-background-color-row-odd: var(--jp-layout-color2, #eeeeee);\n",
       "}\n",
       "\n",
       "html[theme=\"dark\"],\n",
       "html[data-theme=\"dark\"],\n",
       "body[data-theme=\"dark\"],\n",
       "body.vscode-dark {\n",
       "  --xr-font-color0: rgba(255, 255, 255, 1);\n",
       "  --xr-font-color2: rgba(255, 255, 255, 0.54);\n",
       "  --xr-font-color3: rgba(255, 255, 255, 0.38);\n",
       "  --xr-border-color: #1f1f1f;\n",
       "  --xr-disabled-color: #515151;\n",
       "  --xr-background-color: #111111;\n",
       "  --xr-background-color-row-even: #111111;\n",
       "  --xr-background-color-row-odd: #313131;\n",
       "}\n",
       "\n",
       ".xr-wrap {\n",
       "  display: block !important;\n",
       "  min-width: 300px;\n",
       "  max-width: 700px;\n",
       "}\n",
       "\n",
       ".xr-text-repr-fallback {\n",
       "  /* fallback to plain text repr when CSS is not injected (untrusted notebook) */\n",
       "  display: none;\n",
       "}\n",
       "\n",
       ".xr-header {\n",
       "  padding-top: 6px;\n",
       "  padding-bottom: 6px;\n",
       "  margin-bottom: 4px;\n",
       "  border-bottom: solid 1px var(--xr-border-color);\n",
       "}\n",
       "\n",
       ".xr-header > div,\n",
       ".xr-header > ul {\n",
       "  display: inline;\n",
       "  margin-top: 0;\n",
       "  margin-bottom: 0;\n",
       "}\n",
       "\n",
       ".xr-obj-type,\n",
       ".xr-array-name {\n",
       "  margin-left: 2px;\n",
       "  margin-right: 10px;\n",
       "}\n",
       "\n",
       ".xr-obj-type {\n",
       "  color: var(--xr-font-color2);\n",
       "}\n",
       "\n",
       ".xr-sections {\n",
       "  padding-left: 0 !important;\n",
       "  display: grid;\n",
       "  grid-template-columns: 150px auto auto 1fr 0 20px 0 20px;\n",
       "}\n",
       "\n",
       ".xr-section-item {\n",
       "  display: contents;\n",
       "}\n",
       "\n",
       ".xr-section-item input {\n",
       "  display: inline-block;\n",
       "  opacity: 0;\n",
       "  height: 0;\n",
       "}\n",
       "\n",
       ".xr-section-item input + label {\n",
       "  color: var(--xr-disabled-color);\n",
       "}\n",
       "\n",
       ".xr-section-item input:enabled + label {\n",
       "  cursor: pointer;\n",
       "  color: var(--xr-font-color2);\n",
       "}\n",
       "\n",
       ".xr-section-item input:focus + label {\n",
       "  border: 2px solid var(--xr-font-color0);\n",
       "}\n",
       "\n",
       ".xr-section-item input:enabled + label:hover {\n",
       "  color: var(--xr-font-color0);\n",
       "}\n",
       "\n",
       ".xr-section-summary {\n",
       "  grid-column: 1;\n",
       "  color: var(--xr-font-color2);\n",
       "  font-weight: 500;\n",
       "}\n",
       "\n",
       ".xr-section-summary > span {\n",
       "  display: inline-block;\n",
       "  padding-left: 0.5em;\n",
       "}\n",
       "\n",
       ".xr-section-summary-in:disabled + label {\n",
       "  color: var(--xr-font-color2);\n",
       "}\n",
       "\n",
       ".xr-section-summary-in + label:before {\n",
       "  display: inline-block;\n",
       "  content: \"►\";\n",
       "  font-size: 11px;\n",
       "  width: 15px;\n",
       "  text-align: center;\n",
       "}\n",
       "\n",
       ".xr-section-summary-in:disabled + label:before {\n",
       "  color: var(--xr-disabled-color);\n",
       "}\n",
       "\n",
       ".xr-section-summary-in:checked + label:before {\n",
       "  content: \"▼\";\n",
       "}\n",
       "\n",
       ".xr-section-summary-in:checked + label > span {\n",
       "  display: none;\n",
       "}\n",
       "\n",
       ".xr-section-summary,\n",
       ".xr-section-inline-details {\n",
       "  padding-top: 4px;\n",
       "  padding-bottom: 4px;\n",
       "}\n",
       "\n",
       ".xr-section-inline-details {\n",
       "  grid-column: 2 / -1;\n",
       "}\n",
       "\n",
       ".xr-section-details {\n",
       "  display: none;\n",
       "  grid-column: 1 / -1;\n",
       "  margin-bottom: 5px;\n",
       "}\n",
       "\n",
       ".xr-section-summary-in:checked ~ .xr-section-details {\n",
       "  display: contents;\n",
       "}\n",
       "\n",
       ".xr-array-wrap {\n",
       "  grid-column: 1 / -1;\n",
       "  display: grid;\n",
       "  grid-template-columns: 20px auto;\n",
       "}\n",
       "\n",
       ".xr-array-wrap > label {\n",
       "  grid-column: 1;\n",
       "  vertical-align: top;\n",
       "}\n",
       "\n",
       ".xr-preview {\n",
       "  color: var(--xr-font-color3);\n",
       "}\n",
       "\n",
       ".xr-array-preview,\n",
       ".xr-array-data {\n",
       "  padding: 0 5px !important;\n",
       "  grid-column: 2;\n",
       "}\n",
       "\n",
       ".xr-array-data,\n",
       ".xr-array-in:checked ~ .xr-array-preview {\n",
       "  display: none;\n",
       "}\n",
       "\n",
       ".xr-array-in:checked ~ .xr-array-data,\n",
       ".xr-array-preview {\n",
       "  display: inline-block;\n",
       "}\n",
       "\n",
       ".xr-dim-list {\n",
       "  display: inline-block !important;\n",
       "  list-style: none;\n",
       "  padding: 0 !important;\n",
       "  margin: 0;\n",
       "}\n",
       "\n",
       ".xr-dim-list li {\n",
       "  display: inline-block;\n",
       "  padding: 0;\n",
       "  margin: 0;\n",
       "}\n",
       "\n",
       ".xr-dim-list:before {\n",
       "  content: \"(\";\n",
       "}\n",
       "\n",
       ".xr-dim-list:after {\n",
       "  content: \")\";\n",
       "}\n",
       "\n",
       ".xr-dim-list li:not(:last-child):after {\n",
       "  content: \",\";\n",
       "  padding-right: 5px;\n",
       "}\n",
       "\n",
       ".xr-has-index {\n",
       "  font-weight: bold;\n",
       "}\n",
       "\n",
       ".xr-var-list,\n",
       ".xr-var-item {\n",
       "  display: contents;\n",
       "}\n",
       "\n",
       ".xr-var-item > div,\n",
       ".xr-var-item label,\n",
       ".xr-var-item > .xr-var-name span {\n",
       "  background-color: var(--xr-background-color-row-even);\n",
       "  margin-bottom: 0;\n",
       "}\n",
       "\n",
       ".xr-var-item > .xr-var-name:hover span {\n",
       "  padding-right: 5px;\n",
       "}\n",
       "\n",
       ".xr-var-list > li:nth-child(odd) > div,\n",
       ".xr-var-list > li:nth-child(odd) > label,\n",
       ".xr-var-list > li:nth-child(odd) > .xr-var-name span {\n",
       "  background-color: var(--xr-background-color-row-odd);\n",
       "}\n",
       "\n",
       ".xr-var-name {\n",
       "  grid-column: 1;\n",
       "}\n",
       "\n",
       ".xr-var-dims {\n",
       "  grid-column: 2;\n",
       "}\n",
       "\n",
       ".xr-var-dtype {\n",
       "  grid-column: 3;\n",
       "  text-align: right;\n",
       "  color: var(--xr-font-color2);\n",
       "}\n",
       "\n",
       ".xr-var-preview {\n",
       "  grid-column: 4;\n",
       "}\n",
       "\n",
       ".xr-index-preview {\n",
       "  grid-column: 2 / 5;\n",
       "  color: var(--xr-font-color2);\n",
       "}\n",
       "\n",
       ".xr-var-name,\n",
       ".xr-var-dims,\n",
       ".xr-var-dtype,\n",
       ".xr-preview,\n",
       ".xr-attrs dt {\n",
       "  white-space: nowrap;\n",
       "  overflow: hidden;\n",
       "  text-overflow: ellipsis;\n",
       "  padding-right: 10px;\n",
       "}\n",
       "\n",
       ".xr-var-name:hover,\n",
       ".xr-var-dims:hover,\n",
       ".xr-var-dtype:hover,\n",
       ".xr-attrs dt:hover {\n",
       "  overflow: visible;\n",
       "  width: auto;\n",
       "  z-index: 1;\n",
       "}\n",
       "\n",
       ".xr-var-attrs,\n",
       ".xr-var-data,\n",
       ".xr-index-data {\n",
       "  display: none;\n",
       "  background-color: var(--xr-background-color) !important;\n",
       "  padding-bottom: 5px !important;\n",
       "}\n",
       "\n",
       ".xr-var-attrs-in:checked ~ .xr-var-attrs,\n",
       ".xr-var-data-in:checked ~ .xr-var-data,\n",
       ".xr-index-data-in:checked ~ .xr-index-data {\n",
       "  display: block;\n",
       "}\n",
       "\n",
       ".xr-var-data > table {\n",
       "  float: right;\n",
       "}\n",
       "\n",
       ".xr-var-name span,\n",
       ".xr-var-data,\n",
       ".xr-index-name div,\n",
       ".xr-index-data,\n",
       ".xr-attrs {\n",
       "  padding-left: 25px !important;\n",
       "}\n",
       "\n",
       ".xr-attrs,\n",
       ".xr-var-attrs,\n",
       ".xr-var-data,\n",
       ".xr-index-data {\n",
       "  grid-column: 1 / -1;\n",
       "}\n",
       "\n",
       "dl.xr-attrs {\n",
       "  padding: 0;\n",
       "  margin: 0;\n",
       "  display: grid;\n",
       "  grid-template-columns: 125px auto;\n",
       "}\n",
       "\n",
       ".xr-attrs dt,\n",
       ".xr-attrs dd {\n",
       "  padding: 0;\n",
       "  margin: 0;\n",
       "  float: left;\n",
       "  padding-right: 10px;\n",
       "  width: auto;\n",
       "}\n",
       "\n",
       ".xr-attrs dt {\n",
       "  font-weight: normal;\n",
       "  grid-column: 1;\n",
       "}\n",
       "\n",
       ".xr-attrs dt:hover span {\n",
       "  display: inline-block;\n",
       "  background: var(--xr-background-color);\n",
       "  padding-right: 10px;\n",
       "}\n",
       "\n",
       ".xr-attrs dd {\n",
       "  grid-column: 2;\n",
       "  white-space: pre-wrap;\n",
       "  word-break: break-all;\n",
       "}\n",
       "\n",
       ".xr-icon-database,\n",
       ".xr-icon-file-text2,\n",
       ".xr-no-icon {\n",
       "  display: inline-block;\n",
       "  vertical-align: middle;\n",
       "  width: 1em;\n",
       "  height: 1.5em !important;\n",
       "  stroke-width: 0;\n",
       "  stroke: currentColor;\n",
       "  fill: currentColor;\n",
       "}\n",
       "</style><pre class='xr-text-repr-fallback'>&lt;xarray.DataArray &#x27;night&#x27; (time: 54, layer: 1, latitude: 1, longitude: 1)&gt; Size: 432B\n",
       "&lt;Quantity([[[[421.89365675]]]\n",
       "\n",
       "\n",
       " [[[424.06609922]]]\n",
       "\n",
       "\n",
       " [[[426.77207432]]]\n",
       "\n",
       "\n",
       " [[[418.10046481]]]\n",
       "\n",
       "\n",
       " [[[374.84681527]]]\n",
       "\n",
       "\n",
       " [[[333.97139312]]]\n",
       "\n",
       "\n",
       " [[[290.20181137]]]\n",
       "\n",
       "...\n",
       "\n",
       " [[[389.19096784]]]\n",
       "\n",
       "\n",
       " [[[421.89365675]]]\n",
       "\n",
       "\n",
       " [[[424.06609922]]]\n",
       "\n",
       "\n",
       " [[[426.77207432]]]\n",
       "\n",
       "\n",
       " [[[418.10046481]]]\n",
       "\n",
       "\n",
       " [[[374.84681527]]]\n",
       "\n",
       "\n",
       " [[[333.97139312]]]], &#x27;milligram / meter ** 2&#x27;)&gt;\n",
       "Coordinates:\n",
       "  * layer      (layer) int64 8B 0\n",
       "  * time       (time) datetime64[ns] 432B 2005-06-30 2005-07-31 ... 2009-11-30\n",
       "  * latitude   (latitude) float64 8B 22.75\n",
       "  * longitude  (longitude) int64 8B -158</pre><div class='xr-wrap' style='display:none'><div class='xr-header'><div class='xr-obj-type'>xarray.DataArray</div><div class='xr-array-name'>'night'</div><ul class='xr-dim-list'><li><span class='xr-has-index'>time</span>: 54</li><li><span class='xr-has-index'>layer</span>: 1</li><li><span class='xr-has-index'>latitude</span>: 1</li><li><span class='xr-has-index'>longitude</span>: 1</li></ul></div><ul class='xr-sections'><li class='xr-section-item'><div class='xr-array-wrap'><input id='section-ef6fe5dd-fd78-48c2-af77-1ae043edd0b9' class='xr-array-in' type='checkbox' checked><label for='section-ef6fe5dd-fd78-48c2-af77-1ae043edd0b9' title='Show/hide data repr'><svg class='icon xr-icon-database'><use xlink:href='#icon-database'></use></svg></label><div class='xr-array-preview xr-preview'><span>[mg/m²] 421.9 424.1 426.8 418.1 374.8 ... 426.8 418.1 374.8 334.0</span></div><div class='xr-array-data'><table><tbody><tr><th>Magnitude</th><td style='text-align:left;'><pre>[[[[421.89365674709336]]] [[[424.06609922351373]]] [[[426.77207432265106]]] [[[418.1004648101298]]] [[[374.8468152741032]]] [[[333.9713931237319]]] [[[290.2018113694168]]] [[[237.0516536022709]]] [[[301.6376319958857]]] [[[337.83226845879244]]] [[[414.48959622350367]]] [[[389.1909678368789]]] [[[421.89365674709336]]] [[[424.06609922351373]]] [[[426.77207432265106]]] [[[418.1004648101298]]] [[[374.8468152741032]]] [[[333.9713931237319]]] [[[290.2018113694168]]] [[[237.0516536022709]]] [[[301.6376319958857]]] [[[337.83226845879244]]] [[[414.48959622350367]]] [[[389.1909678368789]]] [[[421.89365674709336]]] [[[424.06609922351373]]] [[[426.77207432265106]]] [[[418.1004648101298]]] [[[374.8468152741032]]] [[[333.9713931237319]]] [[[290.2018113694168]]] [[[237.0516536022709]]] [[[300.09769406058746]]] [[[339.1815897155657]]] [[[414.32509417720263]]] [[[391.31869310318103]]] [[[428.83910602723876]]] [[[427.7621889102778]]] [[[431.9547025535618]]] [[[408.89208174518643]]] [[[380.916096258274]]] [[[336.1242842926303]]] [[[282.197066227207]]] [[[237.0516536022709]]] [[[301.6376319958857]]] [[[337.83226845879244]]] [[[414.48959622350367]]] [[[389.1909678368789]]] [[[421.89365674709336]]] [[[424.06609922351373]]] [[[426.77207432265106]]] [[[418.1004648101298]]] [[[374.8468152741032]]] [[[333.9713931237319]]]]</pre></td></tr><tr><th>Units</th><td style='text-align:left;'>milligram/meter<sup>2</sup></td></tr></tbody></table></div></div></li><li class='xr-section-item'><input id='section-8dc13294-854f-4243-83a3-6de8c51720ef' class='xr-section-summary-in' type='checkbox'  checked><label for='section-8dc13294-854f-4243-83a3-6de8c51720ef' class='xr-section-summary' >Coordinates: <span>(4)</span></label><div class='xr-section-inline-details'></div><div class='xr-section-details'><ul class='xr-var-list'><li class='xr-var-item'><div class='xr-var-name'><span class='xr-has-index'>layer</span></div><div class='xr-var-dims'>(layer)</div><div class='xr-var-dtype'>int64</div><div class='xr-var-preview xr-preview'>0</div><input id='attrs-28d95f78-b0c8-4011-a7e2-63b9362f4f8c' class='xr-var-attrs-in' type='checkbox' ><label for='attrs-28d95f78-b0c8-4011-a7e2-63b9362f4f8c' title='Show/Hide attributes'><svg class='icon xr-icon-file-text2'><use xlink:href='#icon-file-text2'></use></svg></label><input id='data-9d92cf63-3c51-47ae-af3a-91232973bc8f' class='xr-var-data-in' type='checkbox'><label for='data-9d92cf63-3c51-47ae-af3a-91232973bc8f' title='Show/Hide data repr'><svg class='icon xr-icon-database'><use xlink:href='#icon-database'></use></svg></label><div class='xr-var-attrs'><dl class='xr-attrs'><dt><span>axis :</span></dt><dd>Z</dd><dt><span>desc :</span></dt><dd>The layer depth according to Seapodym definition</dd><dt><span>flag_meanings :</span></dt><dd>epipelagic, upper-mesopelagic, lower-mesopelagic</dd><dt><span>flag_values :</span></dt><dd>[0, 1, 2]</dd><dt><span>long_name :</span></dt><dd>Layer depth</dd><dt><span>standard_name :</span></dt><dd>layer</dd></dl></div><div class='xr-var-data'><pre>array([0])</pre></div></li><li class='xr-var-item'><div class='xr-var-name'><span class='xr-has-index'>time</span></div><div class='xr-var-dims'>(time)</div><div class='xr-var-dtype'>datetime64[ns]</div><div class='xr-var-preview xr-preview'>2005-06-30 ... 2009-11-30</div><input id='attrs-dde61ea6-9720-42d7-80bd-91c9ee412a37' class='xr-var-attrs-in' type='checkbox' ><label for='attrs-dde61ea6-9720-42d7-80bd-91c9ee412a37' title='Show/Hide attributes'><svg class='icon xr-icon-file-text2'><use xlink:href='#icon-file-text2'></use></svg></label><input id='data-bbc64586-6783-40c0-b8bd-c9fd937bf93d' class='xr-var-data-in' type='checkbox'><label for='data-bbc64586-6783-40c0-b8bd-c9fd937bf93d' title='Show/Hide data repr'><svg class='icon xr-icon-database'><use xlink:href='#icon-database'></use></svg></label><div class='xr-var-attrs'><dl class='xr-attrs'><dt><span>axis :</span></dt><dd>T</dd><dt><span>long_name :</span></dt><dd>time</dd><dt><span>standard_name :</span></dt><dd>time</dd></dl></div><div class='xr-var-data'><pre>array([&#x27;2005-06-30T00:00:00.000000000&#x27;, &#x27;2005-07-31T00:00:00.000000000&#x27;,\n",
       "       &#x27;2005-08-31T00:00:00.000000000&#x27;, &#x27;2005-09-30T00:00:00.000000000&#x27;,\n",
       "       &#x27;2005-10-31T00:00:00.000000000&#x27;, &#x27;2005-11-30T00:00:00.000000000&#x27;,\n",
       "       &#x27;2005-12-31T00:00:00.000000000&#x27;, &#x27;2006-01-31T00:00:00.000000000&#x27;,\n",
       "       &#x27;2006-02-28T00:00:00.000000000&#x27;, &#x27;2006-03-31T00:00:00.000000000&#x27;,\n",
       "       &#x27;2006-04-30T00:00:00.000000000&#x27;, &#x27;2006-05-31T00:00:00.000000000&#x27;,\n",
       "       &#x27;2006-06-30T00:00:00.000000000&#x27;, &#x27;2006-07-31T00:00:00.000000000&#x27;,\n",
       "       &#x27;2006-08-31T00:00:00.000000000&#x27;, &#x27;2006-09-30T00:00:00.000000000&#x27;,\n",
       "       &#x27;2006-10-31T00:00:00.000000000&#x27;, &#x27;2006-11-30T00:00:00.000000000&#x27;,\n",
       "       &#x27;2006-12-31T00:00:00.000000000&#x27;, &#x27;2007-01-31T00:00:00.000000000&#x27;,\n",
       "       &#x27;2007-02-28T00:00:00.000000000&#x27;, &#x27;2007-03-31T00:00:00.000000000&#x27;,\n",
       "       &#x27;2007-04-30T00:00:00.000000000&#x27;, &#x27;2007-05-31T00:00:00.000000000&#x27;,\n",
       "       &#x27;2007-06-30T00:00:00.000000000&#x27;, &#x27;2007-07-31T00:00:00.000000000&#x27;,\n",
       "       &#x27;2007-08-31T00:00:00.000000000&#x27;, &#x27;2007-09-30T00:00:00.000000000&#x27;,\n",
       "       &#x27;2007-10-31T00:00:00.000000000&#x27;, &#x27;2007-11-30T00:00:00.000000000&#x27;,\n",
       "       &#x27;2007-12-31T00:00:00.000000000&#x27;, &#x27;2008-01-31T00:00:00.000000000&#x27;,\n",
       "       &#x27;2008-02-29T00:00:00.000000000&#x27;, &#x27;2008-03-31T00:00:00.000000000&#x27;,\n",
       "       &#x27;2008-04-30T00:00:00.000000000&#x27;, &#x27;2008-05-31T00:00:00.000000000&#x27;,\n",
       "       &#x27;2008-06-30T00:00:00.000000000&#x27;, &#x27;2008-07-31T00:00:00.000000000&#x27;,\n",
       "       &#x27;2008-08-31T00:00:00.000000000&#x27;, &#x27;2008-09-30T00:00:00.000000000&#x27;,\n",
       "       &#x27;2008-10-31T00:00:00.000000000&#x27;, &#x27;2008-11-30T00:00:00.000000000&#x27;,\n",
       "       &#x27;2008-12-31T00:00:00.000000000&#x27;, &#x27;2009-01-31T00:00:00.000000000&#x27;,\n",
       "       &#x27;2009-02-28T00:00:00.000000000&#x27;, &#x27;2009-03-31T00:00:00.000000000&#x27;,\n",
       "       &#x27;2009-04-30T00:00:00.000000000&#x27;, &#x27;2009-05-31T00:00:00.000000000&#x27;,\n",
       "       &#x27;2009-06-30T00:00:00.000000000&#x27;, &#x27;2009-07-31T00:00:00.000000000&#x27;,\n",
       "       &#x27;2009-08-31T00:00:00.000000000&#x27;, &#x27;2009-09-30T00:00:00.000000000&#x27;,\n",
       "       &#x27;2009-10-31T00:00:00.000000000&#x27;, &#x27;2009-11-30T00:00:00.000000000&#x27;],\n",
       "      dtype=&#x27;datetime64[ns]&#x27;)</pre></div></li><li class='xr-var-item'><div class='xr-var-name'><span class='xr-has-index'>latitude</span></div><div class='xr-var-dims'>(latitude)</div><div class='xr-var-dtype'>float64</div><div class='xr-var-preview xr-preview'>22.75</div><input id='attrs-a55ba33f-83df-4c1d-b689-29ba5ce2d62a' class='xr-var-attrs-in' type='checkbox' ><label for='attrs-a55ba33f-83df-4c1d-b689-29ba5ce2d62a' title='Show/Hide attributes'><svg class='icon xr-icon-file-text2'><use xlink:href='#icon-file-text2'></use></svg></label><input id='data-b6d49ffd-60a3-409b-a75b-9e597f8620e2' class='xr-var-data-in' type='checkbox'><label for='data-b6d49ffd-60a3-409b-a75b-9e597f8620e2' title='Show/Hide data repr'><svg class='icon xr-icon-database'><use xlink:href='#icon-database'></use></svg></label><div class='xr-var-attrs'><dl class='xr-attrs'><dt><span>axis :</span></dt><dd>Y</dd><dt><span>standard_name :</span></dt><dd>latitude</dd><dt><span>units :</span></dt><dd>degrees_north</dd></dl></div><div class='xr-var-data'><pre>array([22.75])</pre></div></li><li class='xr-var-item'><div class='xr-var-name'><span class='xr-has-index'>longitude</span></div><div class='xr-var-dims'>(longitude)</div><div class='xr-var-dtype'>int64</div><div class='xr-var-preview xr-preview'>-158</div><input id='attrs-c4a2e865-3669-4f8b-a0fd-7673372b9912' class='xr-var-attrs-in' type='checkbox' ><label for='attrs-c4a2e865-3669-4f8b-a0fd-7673372b9912' title='Show/Hide attributes'><svg class='icon xr-icon-file-text2'><use xlink:href='#icon-file-text2'></use></svg></label><input id='data-f997a581-da73-4e36-974d-9ea20b8ff8e5' class='xr-var-data-in' type='checkbox'><label for='data-f997a581-da73-4e36-974d-9ea20b8ff8e5' title='Show/Hide data repr'><svg class='icon xr-icon-database'><use xlink:href='#icon-database'></use></svg></label><div class='xr-var-attrs'><dl class='xr-attrs'><dt><span>axis :</span></dt><dd>X</dd><dt><span>standard_name :</span></dt><dd>longitude</dd><dt><span>units :</span></dt><dd>degrees_east</dd></dl></div><div class='xr-var-data'><pre>array([-158])</pre></div></li></ul></div></li><li class='xr-section-item'><input id='section-fafa8311-52a5-4fae-b066-a470f2855773' class='xr-section-summary-in' type='checkbox'  ><label for='section-fafa8311-52a5-4fae-b066-a470f2855773' class='xr-section-summary' >Indexes: <span>(4)</span></label><div class='xr-section-inline-details'></div><div class='xr-section-details'><ul class='xr-var-list'><li class='xr-var-item'><div class='xr-index-name'><div>layer</div></div><div class='xr-index-preview'>PandasIndex</div><input type='checkbox' disabled/><label></label><input id='index-4b6ee3a9-c21e-4519-a878-3f87fa2a6af2' class='xr-index-data-in' type='checkbox'/><label for='index-4b6ee3a9-c21e-4519-a878-3f87fa2a6af2' title='Show/Hide index repr'><svg class='icon xr-icon-database'><use xlink:href='#icon-database'></use></svg></label><div class='xr-index-data'><pre>PandasIndex(Index([0], dtype=&#x27;int64&#x27;, name=&#x27;layer&#x27;))</pre></div></li><li class='xr-var-item'><div class='xr-index-name'><div>time</div></div><div class='xr-index-preview'>PandasIndex</div><input type='checkbox' disabled/><label></label><input id='index-d01e933f-dbcb-4861-90a0-979c5cf3b648' class='xr-index-data-in' type='checkbox'/><label for='index-d01e933f-dbcb-4861-90a0-979c5cf3b648' title='Show/Hide index repr'><svg class='icon xr-icon-database'><use xlink:href='#icon-database'></use></svg></label><div class='xr-index-data'><pre>PandasIndex(DatetimeIndex([&#x27;2005-06-30&#x27;, &#x27;2005-07-31&#x27;, &#x27;2005-08-31&#x27;, &#x27;2005-09-30&#x27;,\n",
       "               &#x27;2005-10-31&#x27;, &#x27;2005-11-30&#x27;, &#x27;2005-12-31&#x27;, &#x27;2006-01-31&#x27;,\n",
       "               &#x27;2006-02-28&#x27;, &#x27;2006-03-31&#x27;, &#x27;2006-04-30&#x27;, &#x27;2006-05-31&#x27;,\n",
       "               &#x27;2006-06-30&#x27;, &#x27;2006-07-31&#x27;, &#x27;2006-08-31&#x27;, &#x27;2006-09-30&#x27;,\n",
       "               &#x27;2006-10-31&#x27;, &#x27;2006-11-30&#x27;, &#x27;2006-12-31&#x27;, &#x27;2007-01-31&#x27;,\n",
       "               &#x27;2007-02-28&#x27;, &#x27;2007-03-31&#x27;, &#x27;2007-04-30&#x27;, &#x27;2007-05-31&#x27;,\n",
       "               &#x27;2007-06-30&#x27;, &#x27;2007-07-31&#x27;, &#x27;2007-08-31&#x27;, &#x27;2007-09-30&#x27;,\n",
       "               &#x27;2007-10-31&#x27;, &#x27;2007-11-30&#x27;, &#x27;2007-12-31&#x27;, &#x27;2008-01-31&#x27;,\n",
       "               &#x27;2008-02-29&#x27;, &#x27;2008-03-31&#x27;, &#x27;2008-04-30&#x27;, &#x27;2008-05-31&#x27;,\n",
       "               &#x27;2008-06-30&#x27;, &#x27;2008-07-31&#x27;, &#x27;2008-08-31&#x27;, &#x27;2008-09-30&#x27;,\n",
       "               &#x27;2008-10-31&#x27;, &#x27;2008-11-30&#x27;, &#x27;2008-12-31&#x27;, &#x27;2009-01-31&#x27;,\n",
       "               &#x27;2009-02-28&#x27;, &#x27;2009-03-31&#x27;, &#x27;2009-04-30&#x27;, &#x27;2009-05-31&#x27;,\n",
       "               &#x27;2009-06-30&#x27;, &#x27;2009-07-31&#x27;, &#x27;2009-08-31&#x27;, &#x27;2009-09-30&#x27;,\n",
       "               &#x27;2009-10-31&#x27;, &#x27;2009-11-30&#x27;],\n",
       "              dtype=&#x27;datetime64[ns]&#x27;, name=&#x27;time&#x27;, freq=&#x27;ME&#x27;))</pre></div></li><li class='xr-var-item'><div class='xr-index-name'><div>latitude</div></div><div class='xr-index-preview'>PandasIndex</div><input type='checkbox' disabled/><label></label><input id='index-2ec7335b-2652-44c4-93e3-254fa9f9a32d' class='xr-index-data-in' type='checkbox'/><label for='index-2ec7335b-2652-44c4-93e3-254fa9f9a32d' title='Show/Hide index repr'><svg class='icon xr-icon-database'><use xlink:href='#icon-database'></use></svg></label><div class='xr-index-data'><pre>PandasIndex(Index([22.75], dtype=&#x27;float64&#x27;, name=&#x27;latitude&#x27;))</pre></div></li><li class='xr-var-item'><div class='xr-index-name'><div>longitude</div></div><div class='xr-index-preview'>PandasIndex</div><input type='checkbox' disabled/><label></label><input id='index-5b1ba63f-c757-4d1d-a095-84081e240229' class='xr-index-data-in' type='checkbox'/><label for='index-5b1ba63f-c757-4d1d-a095-84081e240229' title='Show/Hide index repr'><svg class='icon xr-icon-database'><use xlink:href='#icon-database'></use></svg></label><div class='xr-index-data'><pre>PandasIndex(Index([-158], dtype=&#x27;int64&#x27;, name=&#x27;longitude&#x27;))</pre></div></li></ul></div></li><li class='xr-section-item'><input id='section-44230dec-8601-47a5-825a-76c6240c662e' class='xr-section-summary-in' type='checkbox' disabled ><label for='section-44230dec-8601-47a5-825a-76c6240c662e' class='xr-section-summary'  title='Expand/collapse section'>Attributes: <span>(0)</span></label><div class='xr-section-inline-details'></div><div class='xr-section-details'><dl class='xr-attrs'></dl></div></li></ul></div></div>"
      ],
      "text/plain": [
       "<xarray.DataArray 'night' (time: 54, layer: 1, latitude: 1, longitude: 1)> Size: 432B\n",
       "<Quantity([[[[421.89365675]]]\n",
       "\n",
       "\n",
       " [[[424.06609922]]]\n",
       "\n",
       "\n",
       " [[[426.77207432]]]\n",
       "\n",
       "\n",
       " [[[418.10046481]]]\n",
       "\n",
       "\n",
       " [[[374.84681527]]]\n",
       "\n",
       "\n",
       " [[[333.97139312]]]\n",
       "\n",
       "\n",
       " [[[290.20181137]]]\n",
       "\n",
       "...\n",
       "\n",
       " [[[389.19096784]]]\n",
       "\n",
       "\n",
       " [[[421.89365675]]]\n",
       "\n",
       "\n",
       " [[[424.06609922]]]\n",
       "\n",
       "\n",
       " [[[426.77207432]]]\n",
       "\n",
       "\n",
       " [[[418.10046481]]]\n",
       "\n",
       "\n",
       " [[[374.84681527]]]\n",
       "\n",
       "\n",
       " [[[333.97139312]]]], 'milligram / meter ** 2')>\n",
       "Coordinates:\n",
       "  * layer      (layer) int64 8B 0\n",
       "  * time       (time) datetime64[ns] 432B 2005-06-30 2005-07-31 ... 2009-11-30\n",
       "  * latitude   (latitude) float64 8B 22.75\n",
       "  * longitude  (longitude) int64 8B -158"
      ]
     },
     "execution_count": 9,
     "metadata": {},
     "output_type": "execute_result"
    }
   ],
   "source": [
    "observations_selected_without_init = observations_selected.isel(time=slice(STABILIZATION_TIME, None))\n",
    "observations_selected_without_init"
   ]
  },
  {
   "cell_type": "markdown",
   "metadata": {},
   "source": [
    "Create structure for SeapoPym simulation.\n"
   ]
  },
  {
   "cell_type": "code",
   "execution_count": 10,
   "metadata": {},
   "outputs": [
    {
     "name": "stderr",
     "output_type": "stream",
     "text": [
      "\u001b[38;5;226m2025-06-11 11:24:24,440 :: Seapodym ::  WARNING ::\n",
      "|\tl12 unit is milligram / day / meter ** 2, it will be converted to kilogram / day / meter ** 2.\n",
      "\u001b[0m\n",
      "\u001b[38;5;226m2025-06-11 11:24:24,442 :: Seapodym ::  WARNING ::\n",
      "|\tl12 unit is milligram / day / meter ** 2, it will be converted to kilogram / day / meter ** 2.\n",
      "\u001b[0m\n"
     ]
    }
   ],
   "source": [
    "forcing_parameters = ForcingParameter(\n",
    "    temperature=ForcingUnit(forcing=forcing[\"T\"]), primary_production=ForcingUnit(forcing=observed_npp[\"l12\"])\n",
    ")"
   ]
  },
  {
   "cell_type": "markdown",
   "metadata": {},
   "source": [
    "## Setup the parameters and the cost function\n"
   ]
  },
  {
   "cell_type": "code",
   "execution_count": 11,
   "metadata": {},
   "outputs": [],
   "source": [
    "functional_groups = [\n",
    "    NoTransportFunctionalGroup(\n",
    "        name=\"Zooplankton\",\n",
    "        day_layer=0,\n",
    "        night_layer=0,\n",
    "        energy_transfert=Parameter(\"D1N1_energy_transfert energy_transfert\", 0.001, 0.5),\n",
    "        gamma_tr=Parameter(\"D1N1_gamma_tr\", -0.05, -0.001),\n",
    "        tr_0=Parameter(\"D1N1_tr_0\", 0, 50),\n",
    "        gamma_lambda_temperature=Parameter(\"D1N1_gamma_lambda_temperature\", 0, 0.5),\n",
    "        lambda_temperature_0=Parameter(\"D1N1_lambda_temperature_0\", 0, 1),\n",
    "    ),\n",
    "]"
   ]
  },
  {
   "cell_type": "code",
   "execution_count": 12,
   "metadata": {},
   "outputs": [],
   "source": [
    "model_generator = NoTransportModelGenerator(forcing_parameters=forcing_parameters)"
   ]
  },
  {
   "cell_type": "code",
   "execution_count": 13,
   "metadata": {},
   "outputs": [],
   "source": [
    "cost_function = SimpleRootMeanSquareErrorCostFunction(\n",
    "    model_generator=model_generator,\n",
    "    observations=[\n",
    "        TimeSeriesObservation(\n",
    "            name=\"Hot climato\",\n",
    "            observation=observations_selected_without_init,\n",
    "            observation_type=DayCycle.NIGHT,\n",
    "            observation_interval=\"1MS\",\n",
    "        )\n",
    "    ],\n",
    "    functional_groups=functional_groups,\n",
    "    root_mse=True,\n",
    "    normalized_mse=True,\n",
    "    centered_mse=False,\n",
    ")"
   ]
  },
  {
   "cell_type": "markdown",
   "metadata": {},
   "source": [
    "Set the genetic algorithm meta parameters.\n"
   ]
  },
  {
   "cell_type": "code",
   "execution_count": 14,
   "metadata": {},
   "outputs": [],
   "source": [
    "genetic_algo_parameters = SimpleGeneticAlgorithmParameters(\n",
    "    MUTPB=0.30,\n",
    "    INDPB=0.2,\n",
    "    ETA=5,\n",
    "    CXPB=0.7,\n",
    "    NGEN=5,\n",
    "    POP_SIZE=200,\n",
    "    cost_function_weight=(-1,),\n",
    ")"
   ]
  },
  {
   "cell_type": "markdown",
   "metadata": {},
   "source": [
    "Import or create the parameters to be optimized.\n"
   ]
  },
  {
   "cell_type": "code",
   "execution_count": 19,
   "metadata": {},
   "outputs": [
    {
     "data": {
      "text/html": [
       "<div>\n",
       "<style scoped>\n",
       "    .dataframe tbody tr th:only-of-type {\n",
       "        vertical-align: middle;\n",
       "    }\n",
       "\n",
       "    .dataframe tbody tr th {\n",
       "        vertical-align: top;\n",
       "    }\n",
       "\n",
       "    .dataframe thead tr th {\n",
       "        text-align: left;\n",
       "    }\n",
       "\n",
       "    .dataframe thead tr:last-of-type th {\n",
       "        text-align: right;\n",
       "    }\n",
       "</style>\n",
       "<table border=\"1\" class=\"dataframe\">\n",
       "  <thead>\n",
       "    <tr>\n",
       "      <th></th>\n",
       "      <th></th>\n",
       "      <th>category</th>\n",
       "      <th colspan=\"5\" halign=\"left\">Parametre</th>\n",
       "      <th>Fitness</th>\n",
       "      <th>Weighted_fitness</th>\n",
       "    </tr>\n",
       "    <tr>\n",
       "      <th></th>\n",
       "      <th></th>\n",
       "      <th>name</th>\n",
       "      <th>D1N1_energy_transfert energy_transfert</th>\n",
       "      <th>D1N1_lambda_temperature_0</th>\n",
       "      <th>D1N1_gamma_lambda_temperature</th>\n",
       "      <th>D1N1_tr_0</th>\n",
       "      <th>D1N1_gamma_tr</th>\n",
       "      <th>Hot climato</th>\n",
       "      <th>Weighted_fitness</th>\n",
       "    </tr>\n",
       "    <tr>\n",
       "      <th>Generation</th>\n",
       "      <th>Is_From_Previous_Generation</th>\n",
       "      <th>Individual</th>\n",
       "      <th></th>\n",
       "      <th></th>\n",
       "      <th></th>\n",
       "      <th></th>\n",
       "      <th></th>\n",
       "      <th></th>\n",
       "      <th></th>\n",
       "    </tr>\n",
       "  </thead>\n",
       "  <tbody>\n",
       "    <tr>\n",
       "      <th rowspan=\"11\" valign=\"top\">0</th>\n",
       "      <th rowspan=\"11\" valign=\"top\">False</th>\n",
       "      <th>0</th>\n",
       "      <td>0.149333</td>\n",
       "      <td>0.466081</td>\n",
       "      <td>0.447059</td>\n",
       "      <td>39.022492</td>\n",
       "      <td>-0.002422</td>\n",
       "      <td>NaN</td>\n",
       "      <td>NaN</td>\n",
       "    </tr>\n",
       "    <tr>\n",
       "      <th>1</th>\n",
       "      <td>0.143150</td>\n",
       "      <td>0.466081</td>\n",
       "      <td>0.447059</td>\n",
       "      <td>39.022492</td>\n",
       "      <td>-0.002422</td>\n",
       "      <td>NaN</td>\n",
       "      <td>NaN</td>\n",
       "    </tr>\n",
       "    <tr>\n",
       "      <th>2</th>\n",
       "      <td>0.149333</td>\n",
       "      <td>0.007661</td>\n",
       "      <td>0.447059</td>\n",
       "      <td>39.022492</td>\n",
       "      <td>-0.002422</td>\n",
       "      <td>NaN</td>\n",
       "      <td>NaN</td>\n",
       "    </tr>\n",
       "    <tr>\n",
       "      <th>3</th>\n",
       "      <td>0.149333</td>\n",
       "      <td>0.466081</td>\n",
       "      <td>0.066224</td>\n",
       "      <td>39.022492</td>\n",
       "      <td>-0.002422</td>\n",
       "      <td>NaN</td>\n",
       "      <td>NaN</td>\n",
       "    </tr>\n",
       "    <tr>\n",
       "      <th>4</th>\n",
       "      <td>0.149333</td>\n",
       "      <td>0.466081</td>\n",
       "      <td>0.447059</td>\n",
       "      <td>21.147236</td>\n",
       "      <td>-0.002422</td>\n",
       "      <td>NaN</td>\n",
       "      <td>NaN</td>\n",
       "    </tr>\n",
       "    <tr>\n",
       "      <th>...</th>\n",
       "      <td>...</td>\n",
       "      <td>...</td>\n",
       "      <td>...</td>\n",
       "      <td>...</td>\n",
       "      <td>...</td>\n",
       "      <td>...</td>\n",
       "      <td>...</td>\n",
       "    </tr>\n",
       "    <tr>\n",
       "      <th>1787</th>\n",
       "      <td>0.151812</td>\n",
       "      <td>0.795846</td>\n",
       "      <td>0.215392</td>\n",
       "      <td>3.298654</td>\n",
       "      <td>-0.036930</td>\n",
       "      <td>NaN</td>\n",
       "      <td>NaN</td>\n",
       "    </tr>\n",
       "    <tr>\n",
       "      <th>1788</th>\n",
       "      <td>0.151812</td>\n",
       "      <td>0.747287</td>\n",
       "      <td>0.010063</td>\n",
       "      <td>3.298654</td>\n",
       "      <td>-0.036930</td>\n",
       "      <td>NaN</td>\n",
       "      <td>NaN</td>\n",
       "    </tr>\n",
       "    <tr>\n",
       "      <th>1789</th>\n",
       "      <td>0.151812</td>\n",
       "      <td>0.747287</td>\n",
       "      <td>0.215392</td>\n",
       "      <td>10.275077</td>\n",
       "      <td>-0.036930</td>\n",
       "      <td>NaN</td>\n",
       "      <td>NaN</td>\n",
       "    </tr>\n",
       "    <tr>\n",
       "      <th>1790</th>\n",
       "      <td>0.151812</td>\n",
       "      <td>0.747287</td>\n",
       "      <td>0.215392</td>\n",
       "      <td>3.298654</td>\n",
       "      <td>-0.040865</td>\n",
       "      <td>NaN</td>\n",
       "      <td>NaN</td>\n",
       "    </tr>\n",
       "    <tr>\n",
       "      <th>1791</th>\n",
       "      <td>0.265975</td>\n",
       "      <td>0.795846</td>\n",
       "      <td>0.010063</td>\n",
       "      <td>10.275077</td>\n",
       "      <td>-0.040865</td>\n",
       "      <td>NaN</td>\n",
       "      <td>NaN</td>\n",
       "    </tr>\n",
       "  </tbody>\n",
       "</table>\n",
       "<p>1792 rows × 7 columns</p>\n",
       "</div>"
      ],
      "text/plain": [
       "category                                                                       Parametre  ... Weighted_fitness\n",
       "name                                              D1N1_energy_transfert energy_transfert  ... Weighted_fitness\n",
       "Generation Is_From_Previous_Generation Individual                                         ...                 \n",
       "0          False                       0                                        0.149333  ...              NaN\n",
       "                                       1                                        0.143150  ...              NaN\n",
       "                                       2                                        0.149333  ...              NaN\n",
       "                                       3                                        0.149333  ...              NaN\n",
       "                                       4                                        0.149333  ...              NaN\n",
       "...                                                                                  ...  ...              ...\n",
       "                                       1787                                     0.151812  ...              NaN\n",
       "                                       1788                                     0.151812  ...              NaN\n",
       "                                       1789                                     0.151812  ...              NaN\n",
       "                                       1790                                     0.151812  ...              NaN\n",
       "                                       1791                                     0.265975  ...              NaN\n",
       "\n",
       "[1792 rows x 7 columns]"
      ]
     },
     "execution_count": 19,
     "metadata": {},
     "output_type": "execute_result"
    }
   ],
   "source": [
    "logbook_path = Path(f\"./{export_file_name}_logbook.parquet\")\n",
    "if logbook_path.exists():\n",
    "    logbook = pd.read_parquet(logbook_path)\n",
    "else:\n",
    "    logbook = generate_logbook_with_sobol_sampling(\n",
    "        functional_group_parameters=functional_groups, sample_number=256, fitness_name=[\"Hot climato\"]\n",
    "    )\n",
    "logbook"
   ]
  },
  {
   "cell_type": "markdown",
   "metadata": {},
   "source": [
    "Finaly, create the Genetic Algorithm.\n"
   ]
  },
  {
   "cell_type": "code",
   "execution_count": 20,
   "metadata": {},
   "outputs": [],
   "source": [
    "client = Client()\n",
    "genetic_algo = SimpleGeneticAlgorithm(\n",
    "    meta_parameter=genetic_algo_parameters,\n",
    "    cost_function=cost_function,\n",
    "    client=client,\n",
    "    logbook=logbook,\n",
    "    save=logbook_path,\n",
    ")"
   ]
  },
  {
   "cell_type": "markdown",
   "metadata": {},
   "source": [
    "And watch the magic on the Dask dashboard :\n"
   ]
  },
  {
   "cell_type": "code",
   "execution_count": 21,
   "metadata": {},
   "outputs": [
    {
     "data": {
      "text/html": [
       "<div>\n",
       "    <div style=\"width: 24px; height: 24px; background-color: #e1e1e1; border: 3px solid #9D9D9D; border-radius: 5px; position: absolute;\"> </div>\n",
       "    <div style=\"margin-left: 48px;\">\n",
       "        <h3 style=\"margin-bottom: 0px;\">Client</h3>\n",
       "        <p style=\"color: #9D9D9D; margin-bottom: 0px;\">Client-1cfa3eee-46a6-11f0-8c82-36240d3e2cc4</p>\n",
       "        <table style=\"width: 100%; text-align: left;\">\n",
       "\n",
       "        <tr>\n",
       "        \n",
       "            <td style=\"text-align: left;\"><strong>Connection method:</strong> Cluster object</td>\n",
       "            <td style=\"text-align: left;\"><strong>Cluster type:</strong> distributed.LocalCluster</td>\n",
       "        \n",
       "        </tr>\n",
       "\n",
       "        \n",
       "            <tr>\n",
       "                <td style=\"text-align: left;\">\n",
       "                    <strong>Dashboard: </strong> <a href=\"http://127.0.0.1:8787/status\" target=\"_blank\">http://127.0.0.1:8787/status</a>\n",
       "                </td>\n",
       "                <td style=\"text-align: left;\"></td>\n",
       "            </tr>\n",
       "        \n",
       "\n",
       "        </table>\n",
       "\n",
       "        \n",
       "\n",
       "        \n",
       "            <details>\n",
       "            <summary style=\"margin-bottom: 20px;\"><h3 style=\"display: inline;\">Cluster Info</h3></summary>\n",
       "            <div class=\"jp-RenderedHTMLCommon jp-RenderedHTML jp-mod-trusted jp-OutputArea-output\">\n",
       "    <div style=\"width: 24px; height: 24px; background-color: #e1e1e1; border: 3px solid #9D9D9D; border-radius: 5px; position: absolute;\">\n",
       "    </div>\n",
       "    <div style=\"margin-left: 48px;\">\n",
       "        <h3 style=\"margin-bottom: 0px; margin-top: 0px;\">LocalCluster</h3>\n",
       "        <p style=\"color: #9D9D9D; margin-bottom: 0px;\">5fe99009</p>\n",
       "        <table style=\"width: 100%; text-align: left;\">\n",
       "            <tr>\n",
       "                <td style=\"text-align: left;\">\n",
       "                    <strong>Dashboard:</strong> <a href=\"http://127.0.0.1:8787/status\" target=\"_blank\">http://127.0.0.1:8787/status</a>\n",
       "                </td>\n",
       "                <td style=\"text-align: left;\">\n",
       "                    <strong>Workers:</strong> 4\n",
       "                </td>\n",
       "            </tr>\n",
       "            <tr>\n",
       "                <td style=\"text-align: left;\">\n",
       "                    <strong>Total threads:</strong> 12\n",
       "                </td>\n",
       "                <td style=\"text-align: left;\">\n",
       "                    <strong>Total memory:</strong> 48.00 GiB\n",
       "                </td>\n",
       "            </tr>\n",
       "            \n",
       "            <tr>\n",
       "    <td style=\"text-align: left;\"><strong>Status:</strong> running</td>\n",
       "    <td style=\"text-align: left;\"><strong>Using processes:</strong> True</td>\n",
       "</tr>\n",
       "\n",
       "            \n",
       "        </table>\n",
       "\n",
       "        <details>\n",
       "            <summary style=\"margin-bottom: 20px;\">\n",
       "                <h3 style=\"display: inline;\">Scheduler Info</h3>\n",
       "            </summary>\n",
       "\n",
       "            <div style=\"\">\n",
       "    <div>\n",
       "        <div style=\"width: 24px; height: 24px; background-color: #FFF7E5; border: 3px solid #FF6132; border-radius: 5px; position: absolute;\"> </div>\n",
       "        <div style=\"margin-left: 48px;\">\n",
       "            <h3 style=\"margin-bottom: 0px;\">Scheduler</h3>\n",
       "            <p style=\"color: #9D9D9D; margin-bottom: 0px;\">Scheduler-72e3d6ae-9b02-431e-8025-de3c48b7f3ca</p>\n",
       "            <table style=\"width: 100%; text-align: left;\">\n",
       "                <tr>\n",
       "                    <td style=\"text-align: left;\">\n",
       "                        <strong>Comm:</strong> tcp://127.0.0.1:62541\n",
       "                    </td>\n",
       "                    <td style=\"text-align: left;\">\n",
       "                        <strong>Workers:</strong> 0 \n",
       "                    </td>\n",
       "                </tr>\n",
       "                <tr>\n",
       "                    <td style=\"text-align: left;\">\n",
       "                        <strong>Dashboard:</strong> <a href=\"http://127.0.0.1:8787/status\" target=\"_blank\">http://127.0.0.1:8787/status</a>\n",
       "                    </td>\n",
       "                    <td style=\"text-align: left;\">\n",
       "                        <strong>Total threads:</strong> 0\n",
       "                    </td>\n",
       "                </tr>\n",
       "                <tr>\n",
       "                    <td style=\"text-align: left;\">\n",
       "                        <strong>Started:</strong> Just now\n",
       "                    </td>\n",
       "                    <td style=\"text-align: left;\">\n",
       "                        <strong>Total memory:</strong> 0 B\n",
       "                    </td>\n",
       "                </tr>\n",
       "            </table>\n",
       "        </div>\n",
       "    </div>\n",
       "\n",
       "    <details style=\"margin-left: 48px;\">\n",
       "        <summary style=\"margin-bottom: 20px;\">\n",
       "            <h3 style=\"display: inline;\">Workers</h3>\n",
       "        </summary>\n",
       "\n",
       "        \n",
       "        <div style=\"margin-bottom: 20px;\">\n",
       "            <div style=\"width: 24px; height: 24px; background-color: #DBF5FF; border: 3px solid #4CC9FF; border-radius: 5px; position: absolute;\"> </div>\n",
       "            <div style=\"margin-left: 48px;\">\n",
       "            <details>\n",
       "                <summary>\n",
       "                    <h4 style=\"margin-bottom: 0px; display: inline;\">Worker: 0</h4>\n",
       "                </summary>\n",
       "                <table style=\"width: 100%; text-align: left;\">\n",
       "                    <tr>\n",
       "                        <td style=\"text-align: left;\">\n",
       "                            <strong>Comm: </strong> tcp://127.0.0.1:62553\n",
       "                        </td>\n",
       "                        <td style=\"text-align: left;\">\n",
       "                            <strong>Total threads: </strong> 3\n",
       "                        </td>\n",
       "                    </tr>\n",
       "                    <tr>\n",
       "                        <td style=\"text-align: left;\">\n",
       "                            <strong>Dashboard: </strong> <a href=\"http://127.0.0.1:62557/status\" target=\"_blank\">http://127.0.0.1:62557/status</a>\n",
       "                        </td>\n",
       "                        <td style=\"text-align: left;\">\n",
       "                            <strong>Memory: </strong> 12.00 GiB\n",
       "                        </td>\n",
       "                    </tr>\n",
       "                    <tr>\n",
       "                        <td style=\"text-align: left;\">\n",
       "                            <strong>Nanny: </strong> tcp://127.0.0.1:62544\n",
       "                        </td>\n",
       "                        <td style=\"text-align: left;\"></td>\n",
       "                    </tr>\n",
       "                    <tr>\n",
       "                        <td colspan=\"2\" style=\"text-align: left;\">\n",
       "                            <strong>Local directory: </strong> /var/folders/z_/8j3qx1mn0299kkpjgz9g53780000gq/T/dask-scratch-space/worker-4eimty84\n",
       "                        </td>\n",
       "                    </tr>\n",
       "\n",
       "                    \n",
       "\n",
       "                    \n",
       "\n",
       "                </table>\n",
       "            </details>\n",
       "            </div>\n",
       "        </div>\n",
       "        \n",
       "        <div style=\"margin-bottom: 20px;\">\n",
       "            <div style=\"width: 24px; height: 24px; background-color: #DBF5FF; border: 3px solid #4CC9FF; border-radius: 5px; position: absolute;\"> </div>\n",
       "            <div style=\"margin-left: 48px;\">\n",
       "            <details>\n",
       "                <summary>\n",
       "                    <h4 style=\"margin-bottom: 0px; display: inline;\">Worker: 1</h4>\n",
       "                </summary>\n",
       "                <table style=\"width: 100%; text-align: left;\">\n",
       "                    <tr>\n",
       "                        <td style=\"text-align: left;\">\n",
       "                            <strong>Comm: </strong> tcp://127.0.0.1:62552\n",
       "                        </td>\n",
       "                        <td style=\"text-align: left;\">\n",
       "                            <strong>Total threads: </strong> 3\n",
       "                        </td>\n",
       "                    </tr>\n",
       "                    <tr>\n",
       "                        <td style=\"text-align: left;\">\n",
       "                            <strong>Dashboard: </strong> <a href=\"http://127.0.0.1:62558/status\" target=\"_blank\">http://127.0.0.1:62558/status</a>\n",
       "                        </td>\n",
       "                        <td style=\"text-align: left;\">\n",
       "                            <strong>Memory: </strong> 12.00 GiB\n",
       "                        </td>\n",
       "                    </tr>\n",
       "                    <tr>\n",
       "                        <td style=\"text-align: left;\">\n",
       "                            <strong>Nanny: </strong> tcp://127.0.0.1:62546\n",
       "                        </td>\n",
       "                        <td style=\"text-align: left;\"></td>\n",
       "                    </tr>\n",
       "                    <tr>\n",
       "                        <td colspan=\"2\" style=\"text-align: left;\">\n",
       "                            <strong>Local directory: </strong> /var/folders/z_/8j3qx1mn0299kkpjgz9g53780000gq/T/dask-scratch-space/worker-ujft009w\n",
       "                        </td>\n",
       "                    </tr>\n",
       "\n",
       "                    \n",
       "\n",
       "                    \n",
       "\n",
       "                </table>\n",
       "            </details>\n",
       "            </div>\n",
       "        </div>\n",
       "        \n",
       "        <div style=\"margin-bottom: 20px;\">\n",
       "            <div style=\"width: 24px; height: 24px; background-color: #DBF5FF; border: 3px solid #4CC9FF; border-radius: 5px; position: absolute;\"> </div>\n",
       "            <div style=\"margin-left: 48px;\">\n",
       "            <details>\n",
       "                <summary>\n",
       "                    <h4 style=\"margin-bottom: 0px; display: inline;\">Worker: 2</h4>\n",
       "                </summary>\n",
       "                <table style=\"width: 100%; text-align: left;\">\n",
       "                    <tr>\n",
       "                        <td style=\"text-align: left;\">\n",
       "                            <strong>Comm: </strong> tcp://127.0.0.1:62554\n",
       "                        </td>\n",
       "                        <td style=\"text-align: left;\">\n",
       "                            <strong>Total threads: </strong> 3\n",
       "                        </td>\n",
       "                    </tr>\n",
       "                    <tr>\n",
       "                        <td style=\"text-align: left;\">\n",
       "                            <strong>Dashboard: </strong> <a href=\"http://127.0.0.1:62556/status\" target=\"_blank\">http://127.0.0.1:62556/status</a>\n",
       "                        </td>\n",
       "                        <td style=\"text-align: left;\">\n",
       "                            <strong>Memory: </strong> 12.00 GiB\n",
       "                        </td>\n",
       "                    </tr>\n",
       "                    <tr>\n",
       "                        <td style=\"text-align: left;\">\n",
       "                            <strong>Nanny: </strong> tcp://127.0.0.1:62548\n",
       "                        </td>\n",
       "                        <td style=\"text-align: left;\"></td>\n",
       "                    </tr>\n",
       "                    <tr>\n",
       "                        <td colspan=\"2\" style=\"text-align: left;\">\n",
       "                            <strong>Local directory: </strong> /var/folders/z_/8j3qx1mn0299kkpjgz9g53780000gq/T/dask-scratch-space/worker-orzufbpj\n",
       "                        </td>\n",
       "                    </tr>\n",
       "\n",
       "                    \n",
       "\n",
       "                    \n",
       "\n",
       "                </table>\n",
       "            </details>\n",
       "            </div>\n",
       "        </div>\n",
       "        \n",
       "        <div style=\"margin-bottom: 20px;\">\n",
       "            <div style=\"width: 24px; height: 24px; background-color: #DBF5FF; border: 3px solid #4CC9FF; border-radius: 5px; position: absolute;\"> </div>\n",
       "            <div style=\"margin-left: 48px;\">\n",
       "            <details>\n",
       "                <summary>\n",
       "                    <h4 style=\"margin-bottom: 0px; display: inline;\">Worker: 3</h4>\n",
       "                </summary>\n",
       "                <table style=\"width: 100%; text-align: left;\">\n",
       "                    <tr>\n",
       "                        <td style=\"text-align: left;\">\n",
       "                            <strong>Comm: </strong> tcp://127.0.0.1:62555\n",
       "                        </td>\n",
       "                        <td style=\"text-align: left;\">\n",
       "                            <strong>Total threads: </strong> 3\n",
       "                        </td>\n",
       "                    </tr>\n",
       "                    <tr>\n",
       "                        <td style=\"text-align: left;\">\n",
       "                            <strong>Dashboard: </strong> <a href=\"http://127.0.0.1:62562/status\" target=\"_blank\">http://127.0.0.1:62562/status</a>\n",
       "                        </td>\n",
       "                        <td style=\"text-align: left;\">\n",
       "                            <strong>Memory: </strong> 12.00 GiB\n",
       "                        </td>\n",
       "                    </tr>\n",
       "                    <tr>\n",
       "                        <td style=\"text-align: left;\">\n",
       "                            <strong>Nanny: </strong> tcp://127.0.0.1:62550\n",
       "                        </td>\n",
       "                        <td style=\"text-align: left;\"></td>\n",
       "                    </tr>\n",
       "                    <tr>\n",
       "                        <td colspan=\"2\" style=\"text-align: left;\">\n",
       "                            <strong>Local directory: </strong> /var/folders/z_/8j3qx1mn0299kkpjgz9g53780000gq/T/dask-scratch-space/worker-gpfyt3ln\n",
       "                        </td>\n",
       "                    </tr>\n",
       "\n",
       "                    \n",
       "\n",
       "                    \n",
       "\n",
       "                </table>\n",
       "            </details>\n",
       "            </div>\n",
       "        </div>\n",
       "        \n",
       "\n",
       "    </details>\n",
       "</div>\n",
       "\n",
       "        </details>\n",
       "    </div>\n",
       "</div>\n",
       "            </details>\n",
       "        \n",
       "\n",
       "    </div>\n",
       "</div>"
      ],
      "text/plain": [
       "<Client: 'tcp://127.0.0.1:62541' processes=4 threads=12, memory=48.00 GiB>"
      ]
     },
     "execution_count": 21,
     "metadata": {},
     "output_type": "execute_result"
    }
   ],
   "source": [
    "genetic_algo.client"
   ]
  },
  {
   "cell_type": "markdown",
   "metadata": {},
   "source": [
    "## Run the optimization\n"
   ]
  },
  {
   "cell_type": "code",
   "execution_count": 22,
   "metadata": {},
   "outputs": [
    {
     "name": "stderr",
     "output_type": "stream",
     "text": [
      "Some individuals in the logbook have no fitness values. Re-evaluating the population.\n"
     ]
    }
   ],
   "source": [
    "viewer = genetic_algo.optimize()"
   ]
  },
  {
   "cell_type": "markdown",
   "metadata": {},
   "source": [
    "## Optimization statistics\n"
   ]
  },
  {
   "cell_type": "code",
   "execution_count": 26,
   "metadata": {},
   "outputs": [
    {
     "data": {
      "text/html": [
       "<div>\n",
       "<style scoped>\n",
       "    .dataframe tbody tr th:only-of-type {\n",
       "        vertical-align: middle;\n",
       "    }\n",
       "\n",
       "    .dataframe tbody tr th {\n",
       "        vertical-align: top;\n",
       "    }\n",
       "\n",
       "    .dataframe thead tr th {\n",
       "        text-align: left;\n",
       "    }\n",
       "\n",
       "    .dataframe thead tr:last-of-type th {\n",
       "        text-align: right;\n",
       "    }\n",
       "</style>\n",
       "<table border=\"1\" class=\"dataframe\">\n",
       "  <thead>\n",
       "    <tr>\n",
       "      <th></th>\n",
       "      <th></th>\n",
       "      <th>category</th>\n",
       "      <th colspan=\"5\" halign=\"left\">Parametre</th>\n",
       "      <th>Fitness</th>\n",
       "      <th>Weighted_fitness</th>\n",
       "    </tr>\n",
       "    <tr>\n",
       "      <th></th>\n",
       "      <th></th>\n",
       "      <th>name</th>\n",
       "      <th>D1N1_energy_transfert energy_transfert</th>\n",
       "      <th>D1N1_lambda_temperature_0</th>\n",
       "      <th>D1N1_gamma_lambda_temperature</th>\n",
       "      <th>D1N1_tr_0</th>\n",
       "      <th>D1N1_gamma_tr</th>\n",
       "      <th>Hot climato</th>\n",
       "      <th>Weighted_fitness</th>\n",
       "    </tr>\n",
       "    <tr>\n",
       "      <th>Generation</th>\n",
       "      <th>Is_From_Previous_Generation</th>\n",
       "      <th>Individual</th>\n",
       "      <th></th>\n",
       "      <th></th>\n",
       "      <th></th>\n",
       "      <th></th>\n",
       "      <th></th>\n",
       "      <th></th>\n",
       "      <th></th>\n",
       "    </tr>\n",
       "  </thead>\n",
       "  <tbody>\n",
       "    <tr>\n",
       "      <th>4</th>\n",
       "      <th>False</th>\n",
       "      <th>149</th>\n",
       "      <td>0.464474</td>\n",
       "      <td>0.283288</td>\n",
       "      <td>0.031723</td>\n",
       "      <td>6.318307</td>\n",
       "      <td>-0.019716</td>\n",
       "      <td>0.356171</td>\n",
       "      <td>-0.356171</td>\n",
       "    </tr>\n",
       "    <tr>\n",
       "      <th>0</th>\n",
       "      <th>False</th>\n",
       "      <th>1642</th>\n",
       "      <td>0.389118</td>\n",
       "      <td>0.144285</td>\n",
       "      <td>0.051539</td>\n",
       "      <td>7.978618</td>\n",
       "      <td>-0.012547</td>\n",
       "      <td>0.375671</td>\n",
       "      <td>-0.375671</td>\n",
       "    </tr>\n",
       "    <tr>\n",
       "      <th>3</th>\n",
       "      <th>False</th>\n",
       "      <th>26</th>\n",
       "      <td>0.416938</td>\n",
       "      <td>0.502832</td>\n",
       "      <td>0.000769</td>\n",
       "      <td>12.953527</td>\n",
       "      <td>-0.046265</td>\n",
       "      <td>0.401781</td>\n",
       "      <td>-0.401781</td>\n",
       "    </tr>\n",
       "    <tr>\n",
       "      <th rowspan=\"2\" valign=\"top\">0</th>\n",
       "      <th rowspan=\"2\" valign=\"top\">False</th>\n",
       "      <th>1643</th>\n",
       "      <td>0.389118</td>\n",
       "      <td>0.144285</td>\n",
       "      <td>0.051539</td>\n",
       "      <td>36.334218</td>\n",
       "      <td>-0.043457</td>\n",
       "      <td>0.402009</td>\n",
       "      <td>-0.402009</td>\n",
       "    </tr>\n",
       "    <tr>\n",
       "      <th>76</th>\n",
       "      <td>0.486999</td>\n",
       "      <td>0.164928</td>\n",
       "      <td>0.055847</td>\n",
       "      <td>13.917515</td>\n",
       "      <td>-0.001401</td>\n",
       "      <td>0.410396</td>\n",
       "      <td>-0.410396</td>\n",
       "    </tr>\n",
       "    <tr>\n",
       "      <th>4</th>\n",
       "      <th>False</th>\n",
       "      <th>152</th>\n",
       "      <td>0.416938</td>\n",
       "      <td>0.502832</td>\n",
       "      <td>0.000769</td>\n",
       "      <td>17.175419</td>\n",
       "      <td>-0.046265</td>\n",
       "      <td>0.412185</td>\n",
       "      <td>-0.412185</td>\n",
       "    </tr>\n",
       "    <tr>\n",
       "      <th>3</th>\n",
       "      <th>False</th>\n",
       "      <th>101</th>\n",
       "      <td>0.433758</td>\n",
       "      <td>0.331474</td>\n",
       "      <td>0.021977</td>\n",
       "      <td>16.273591</td>\n",
       "      <td>-0.015666</td>\n",
       "      <td>0.412382</td>\n",
       "      <td>-0.412382</td>\n",
       "    </tr>\n",
       "    <tr>\n",
       "      <th rowspan=\"5\" valign=\"top\">4</th>\n",
       "      <th rowspan=\"5\" valign=\"top\">False</th>\n",
       "      <th>114</th>\n",
       "      <td>0.263351</td>\n",
       "      <td>0.283288</td>\n",
       "      <td>0.002905</td>\n",
       "      <td>17.046388</td>\n",
       "      <td>-0.040030</td>\n",
       "      <td>0.420332</td>\n",
       "      <td>-0.420332</td>\n",
       "    </tr>\n",
       "    <tr>\n",
       "      <th>190</th>\n",
       "      <td>0.433758</td>\n",
       "      <td>0.331474</td>\n",
       "      <td>0.021977</td>\n",
       "      <td>20.929046</td>\n",
       "      <td>-0.015666</td>\n",
       "      <td>0.441438</td>\n",
       "      <td>-0.441438</td>\n",
       "    </tr>\n",
       "    <tr>\n",
       "      <th>86</th>\n",
       "      <td>0.437408</td>\n",
       "      <td>0.331474</td>\n",
       "      <td>0.021977</td>\n",
       "      <td>16.273591</td>\n",
       "      <td>-0.001608</td>\n",
       "      <td>0.448674</td>\n",
       "      <td>-0.448674</td>\n",
       "    </tr>\n",
       "    <tr>\n",
       "      <th>66</th>\n",
       "      <td>0.437408</td>\n",
       "      <td>0.577683</td>\n",
       "      <td>0.000769</td>\n",
       "      <td>12.953527</td>\n",
       "      <td>-0.046555</td>\n",
       "      <td>0.452810</td>\n",
       "      <td>-0.452810</td>\n",
       "    </tr>\n",
       "    <tr>\n",
       "      <th>119</th>\n",
       "      <td>0.433758</td>\n",
       "      <td>0.331474</td>\n",
       "      <td>0.023495</td>\n",
       "      <td>16.273591</td>\n",
       "      <td>-0.015666</td>\n",
       "      <td>0.462675</td>\n",
       "      <td>-0.462675</td>\n",
       "    </tr>\n",
       "    <tr>\n",
       "      <th>2</th>\n",
       "      <th>False</th>\n",
       "      <th>110</th>\n",
       "      <td>0.381553</td>\n",
       "      <td>0.283288</td>\n",
       "      <td>0.023495</td>\n",
       "      <td>11.942732</td>\n",
       "      <td>-0.019716</td>\n",
       "      <td>0.469915</td>\n",
       "      <td>-0.469915</td>\n",
       "    </tr>\n",
       "    <tr>\n",
       "      <th>0</th>\n",
       "      <th>False</th>\n",
       "      <th>1389</th>\n",
       "      <td>0.357045</td>\n",
       "      <td>0.394307</td>\n",
       "      <td>0.001819</td>\n",
       "      <td>31.354486</td>\n",
       "      <td>-0.043484</td>\n",
       "      <td>0.478403</td>\n",
       "      <td>-0.478403</td>\n",
       "    </tr>\n",
       "    <tr>\n",
       "      <th>3</th>\n",
       "      <th>False</th>\n",
       "      <th>85</th>\n",
       "      <td>0.437408</td>\n",
       "      <td>0.577683</td>\n",
       "      <td>0.000480</td>\n",
       "      <td>11.129289</td>\n",
       "      <td>-0.001608</td>\n",
       "      <td>0.481060</td>\n",
       "      <td>-0.481060</td>\n",
       "    </tr>\n",
       "    <tr>\n",
       "      <th rowspan=\"2\" valign=\"top\">4</th>\n",
       "      <th rowspan=\"2\" valign=\"top\">False</th>\n",
       "      <th>85</th>\n",
       "      <td>0.499872</td>\n",
       "      <td>0.042440</td>\n",
       "      <td>0.119432</td>\n",
       "      <td>11.966798</td>\n",
       "      <td>-0.009820</td>\n",
       "      <td>0.484349</td>\n",
       "      <td>-0.484349</td>\n",
       "    </tr>\n",
       "    <tr>\n",
       "      <th>55</th>\n",
       "      <td>0.461408</td>\n",
       "      <td>0.577683</td>\n",
       "      <td>0.000769</td>\n",
       "      <td>12.953527</td>\n",
       "      <td>-0.020519</td>\n",
       "      <td>0.485613</td>\n",
       "      <td>-0.485613</td>\n",
       "    </tr>\n",
       "    <tr>\n",
       "      <th rowspan=\"2\" valign=\"top\">0</th>\n",
       "      <th rowspan=\"2\" valign=\"top\">False</th>\n",
       "      <th>158</th>\n",
       "      <td>0.315724</td>\n",
       "      <td>0.095076</td>\n",
       "      <td>0.059938</td>\n",
       "      <td>0.452504</td>\n",
       "      <td>-0.041495</td>\n",
       "      <td>0.497578</td>\n",
       "      <td>-0.497578</td>\n",
       "    </tr>\n",
       "    <tr>\n",
       "      <th>1184</th>\n",
       "      <td>0.484801</td>\n",
       "      <td>0.511184</td>\n",
       "      <td>0.011333</td>\n",
       "      <td>33.489453</td>\n",
       "      <td>-0.043951</td>\n",
       "      <td>0.498722</td>\n",
       "      <td>-0.498722</td>\n",
       "    </tr>\n",
       "    <tr>\n",
       "      <th>1</th>\n",
       "      <th>False</th>\n",
       "      <th>130</th>\n",
       "      <td>0.437408</td>\n",
       "      <td>0.577683</td>\n",
       "      <td>0.000769</td>\n",
       "      <td>12.953527</td>\n",
       "      <td>-0.001608</td>\n",
       "      <td>0.511920</td>\n",
       "      <td>-0.511920</td>\n",
       "    </tr>\n",
       "    <tr>\n",
       "      <th>3</th>\n",
       "      <th>False</th>\n",
       "      <th>93</th>\n",
       "      <td>0.349232</td>\n",
       "      <td>0.251695</td>\n",
       "      <td>0.021977</td>\n",
       "      <td>35.012695</td>\n",
       "      <td>-0.023576</td>\n",
       "      <td>0.513585</td>\n",
       "      <td>-0.513585</td>\n",
       "    </tr>\n",
       "    <tr>\n",
       "      <th rowspan=\"3\" valign=\"top\">0</th>\n",
       "      <th rowspan=\"3\" valign=\"top\">False</th>\n",
       "      <th>154</th>\n",
       "      <td>0.315724</td>\n",
       "      <td>0.095076</td>\n",
       "      <td>0.059938</td>\n",
       "      <td>40.553962</td>\n",
       "      <td>-0.041495</td>\n",
       "      <td>0.515831</td>\n",
       "      <td>-0.515831</td>\n",
       "    </tr>\n",
       "    <tr>\n",
       "      <th>462</th>\n",
       "      <td>0.485486</td>\n",
       "      <td>0.331474</td>\n",
       "      <td>0.031723</td>\n",
       "      <td>4.008732</td>\n",
       "      <td>-0.025357</td>\n",
       "      <td>0.521548</td>\n",
       "      <td>-0.521548</td>\n",
       "    </tr>\n",
       "    <tr>\n",
       "      <th>467</th>\n",
       "      <td>0.485486</td>\n",
       "      <td>0.331474</td>\n",
       "      <td>0.031723</td>\n",
       "      <td>4.008732</td>\n",
       "      <td>-0.023733</td>\n",
       "      <td>0.521548</td>\n",
       "      <td>-0.521548</td>\n",
       "    </tr>\n",
       "    <tr>\n",
       "      <th>4</th>\n",
       "      <th>False</th>\n",
       "      <th>71</th>\n",
       "      <td>0.446372</td>\n",
       "      <td>0.502832</td>\n",
       "      <td>0.008839</td>\n",
       "      <td>11.942732</td>\n",
       "      <td>-0.020519</td>\n",
       "      <td>0.525663</td>\n",
       "      <td>-0.525663</td>\n",
       "    </tr>\n",
       "    <tr>\n",
       "      <th rowspan=\"2\" valign=\"top\">0</th>\n",
       "      <th rowspan=\"2\" valign=\"top\">False</th>\n",
       "      <th>716</th>\n",
       "      <td>0.363787</td>\n",
       "      <td>0.311949</td>\n",
       "      <td>0.017249</td>\n",
       "      <td>14.160576</td>\n",
       "      <td>-0.008993</td>\n",
       "      <td>0.526668</td>\n",
       "      <td>-0.526668</td>\n",
       "    </tr>\n",
       "    <tr>\n",
       "      <th>466</th>\n",
       "      <td>0.485486</td>\n",
       "      <td>0.331474</td>\n",
       "      <td>0.031723</td>\n",
       "      <td>11.966798</td>\n",
       "      <td>-0.025357</td>\n",
       "      <td>0.528808</td>\n",
       "      <td>-0.528808</td>\n",
       "    </tr>\n",
       "    <tr>\n",
       "      <th rowspan=\"3\" valign=\"top\">4</th>\n",
       "      <th rowspan=\"3\" valign=\"top\">False</th>\n",
       "      <th>177</th>\n",
       "      <td>0.384474</td>\n",
       "      <td>0.283288</td>\n",
       "      <td>0.023495</td>\n",
       "      <td>37.365311</td>\n",
       "      <td>-0.038901</td>\n",
       "      <td>0.530774</td>\n",
       "      <td>-0.530774</td>\n",
       "    </tr>\n",
       "    <tr>\n",
       "      <th>169</th>\n",
       "      <td>0.496741</td>\n",
       "      <td>0.360361</td>\n",
       "      <td>0.022034</td>\n",
       "      <td>5.812435</td>\n",
       "      <td>-0.046265</td>\n",
       "      <td>0.536888</td>\n",
       "      <td>-0.536888</td>\n",
       "    </tr>\n",
       "    <tr>\n",
       "      <th>148</th>\n",
       "      <td>0.467030</td>\n",
       "      <td>0.320910</td>\n",
       "      <td>0.023495</td>\n",
       "      <td>19.773145</td>\n",
       "      <td>-0.040030</td>\n",
       "      <td>0.543342</td>\n",
       "      <td>-0.543342</td>\n",
       "    </tr>\n",
       "    <tr>\n",
       "      <th>0</th>\n",
       "      <th>False</th>\n",
       "      <th>1638</th>\n",
       "      <td>0.389118</td>\n",
       "      <td>0.144285</td>\n",
       "      <td>0.051539</td>\n",
       "      <td>36.334218</td>\n",
       "      <td>-0.012547</td>\n",
       "      <td>0.543662</td>\n",
       "      <td>-0.543662</td>\n",
       "    </tr>\n",
       "    <tr>\n",
       "      <th rowspan=\"2\" valign=\"top\">4</th>\n",
       "      <th rowspan=\"2\" valign=\"top\">False</th>\n",
       "      <th>112</th>\n",
       "      <td>0.263351</td>\n",
       "      <td>0.283288</td>\n",
       "      <td>0.004961</td>\n",
       "      <td>11.942732</td>\n",
       "      <td>-0.015900</td>\n",
       "      <td>0.546907</td>\n",
       "      <td>-0.546907</td>\n",
       "    </tr>\n",
       "    <tr>\n",
       "      <th>75</th>\n",
       "      <td>0.496741</td>\n",
       "      <td>0.360361</td>\n",
       "      <td>0.022034</td>\n",
       "      <td>11.648801</td>\n",
       "      <td>-0.037197</td>\n",
       "      <td>0.547970</td>\n",
       "      <td>-0.547970</td>\n",
       "    </tr>\n",
       "    <tr>\n",
       "      <th>2</th>\n",
       "      <th>False</th>\n",
       "      <th>135</th>\n",
       "      <td>0.475908</td>\n",
       "      <td>0.320910</td>\n",
       "      <td>0.031723</td>\n",
       "      <td>15.517878</td>\n",
       "      <td>-0.001832</td>\n",
       "      <td>0.558491</td>\n",
       "      <td>-0.558491</td>\n",
       "    </tr>\n",
       "    <tr>\n",
       "      <th>4</th>\n",
       "      <th>False</th>\n",
       "      <th>100</th>\n",
       "      <td>0.475908</td>\n",
       "      <td>0.360361</td>\n",
       "      <td>0.022034</td>\n",
       "      <td>24.540108</td>\n",
       "      <td>-0.001449</td>\n",
       "      <td>0.568221</td>\n",
       "      <td>-0.568221</td>\n",
       "    </tr>\n",
       "    <tr>\n",
       "      <th>3</th>\n",
       "      <th>False</th>\n",
       "      <th>110</th>\n",
       "      <td>0.475908</td>\n",
       "      <td>0.360361</td>\n",
       "      <td>0.022034</td>\n",
       "      <td>24.540108</td>\n",
       "      <td>-0.001832</td>\n",
       "      <td>0.568221</td>\n",
       "      <td>-0.568221</td>\n",
       "    </tr>\n",
       "    <tr>\n",
       "      <th>2</th>\n",
       "      <th>False</th>\n",
       "      <th>101</th>\n",
       "      <td>0.438503</td>\n",
       "      <td>0.360361</td>\n",
       "      <td>0.022034</td>\n",
       "      <td>24.540108</td>\n",
       "      <td>-0.016184</td>\n",
       "      <td>0.586361</td>\n",
       "      <td>-0.586361</td>\n",
       "    </tr>\n",
       "    <tr>\n",
       "      <th>4</th>\n",
       "      <th>False</th>\n",
       "      <th>65</th>\n",
       "      <td>0.387925</td>\n",
       "      <td>0.360361</td>\n",
       "      <td>0.015804</td>\n",
       "      <td>8.451600</td>\n",
       "      <td>-0.001832</td>\n",
       "      <td>0.591961</td>\n",
       "      <td>-0.591961</td>\n",
       "    </tr>\n",
       "    <tr>\n",
       "      <th>3</th>\n",
       "      <th>False</th>\n",
       "      <th>189</th>\n",
       "      <td>0.467030</td>\n",
       "      <td>0.320910</td>\n",
       "      <td>0.031723</td>\n",
       "      <td>6.318307</td>\n",
       "      <td>-0.040030</td>\n",
       "      <td>0.594760</td>\n",
       "      <td>-0.594760</td>\n",
       "    </tr>\n",
       "    <tr>\n",
       "      <th rowspan=\"3\" valign=\"top\">0</th>\n",
       "      <th rowspan=\"3\" valign=\"top\">False</th>\n",
       "      <th>1082</th>\n",
       "      <td>0.430725</td>\n",
       "      <td>0.283288</td>\n",
       "      <td>0.023495</td>\n",
       "      <td>2.515980</td>\n",
       "      <td>-0.038901</td>\n",
       "      <td>0.595295</td>\n",
       "      <td>-0.595295</td>\n",
       "    </tr>\n",
       "    <tr>\n",
       "      <th>1639</th>\n",
       "      <td>0.415867</td>\n",
       "      <td>0.144285</td>\n",
       "      <td>0.051539</td>\n",
       "      <td>36.334218</td>\n",
       "      <td>-0.012547</td>\n",
       "      <td>0.603786</td>\n",
       "      <td>-0.603786</td>\n",
       "    </tr>\n",
       "    <tr>\n",
       "      <th>1078</th>\n",
       "      <td>0.430725</td>\n",
       "      <td>0.283288</td>\n",
       "      <td>0.023495</td>\n",
       "      <td>11.942732</td>\n",
       "      <td>-0.038901</td>\n",
       "      <td>0.604263</td>\n",
       "      <td>-0.604263</td>\n",
       "    </tr>\n",
       "    <tr>\n",
       "      <th>3</th>\n",
       "      <th>False</th>\n",
       "      <th>105</th>\n",
       "      <td>0.430725</td>\n",
       "      <td>0.283288</td>\n",
       "      <td>0.023495</td>\n",
       "      <td>17.175419</td>\n",
       "      <td>-0.046555</td>\n",
       "      <td>0.606640</td>\n",
       "      <td>-0.606640</td>\n",
       "    </tr>\n",
       "    <tr>\n",
       "      <th>0</th>\n",
       "      <th>False</th>\n",
       "      <th>1752</th>\n",
       "      <td>0.415801</td>\n",
       "      <td>0.009707</td>\n",
       "      <td>0.171556</td>\n",
       "      <td>12.845345</td>\n",
       "      <td>-0.019447</td>\n",
       "      <td>0.607764</td>\n",
       "      <td>-0.607764</td>\n",
       "    </tr>\n",
       "    <tr>\n",
       "      <th>3</th>\n",
       "      <th>False</th>\n",
       "      <th>62</th>\n",
       "      <td>0.490464</td>\n",
       "      <td>0.217841</td>\n",
       "      <td>0.051299</td>\n",
       "      <td>3.800416</td>\n",
       "      <td>-0.021446</td>\n",
       "      <td>0.614577</td>\n",
       "      <td>-0.614577</td>\n",
       "    </tr>\n",
       "    <tr>\n",
       "      <th>4</th>\n",
       "      <th>False</th>\n",
       "      <th>125</th>\n",
       "      <td>0.490464</td>\n",
       "      <td>0.217841</td>\n",
       "      <td>0.051299</td>\n",
       "      <td>11.942732</td>\n",
       "      <td>-0.021446</td>\n",
       "      <td>0.617925</td>\n",
       "      <td>-0.617925</td>\n",
       "    </tr>\n",
       "    <tr>\n",
       "      <th>3</th>\n",
       "      <th>False</th>\n",
       "      <th>100</th>\n",
       "      <td>0.485486</td>\n",
       "      <td>0.042440</td>\n",
       "      <td>0.119432</td>\n",
       "      <td>11.966798</td>\n",
       "      <td>-0.025357</td>\n",
       "      <td>0.619346</td>\n",
       "      <td>-0.619346</td>\n",
       "    </tr>\n",
       "    <tr>\n",
       "      <th>2</th>\n",
       "      <th>False</th>\n",
       "      <th>11</th>\n",
       "      <td>0.485486</td>\n",
       "      <td>0.188154</td>\n",
       "      <td>0.056919</td>\n",
       "      <td>11.491802</td>\n",
       "      <td>-0.036007</td>\n",
       "      <td>0.626117</td>\n",
       "      <td>-0.626117</td>\n",
       "    </tr>\n",
       "    <tr>\n",
       "      <th>4</th>\n",
       "      <th>False</th>\n",
       "      <th>160</th>\n",
       "      <td>0.467030</td>\n",
       "      <td>0.320910</td>\n",
       "      <td>0.023495</td>\n",
       "      <td>31.571737</td>\n",
       "      <td>-0.022383</td>\n",
       "      <td>0.628182</td>\n",
       "      <td>-0.628182</td>\n",
       "    </tr>\n",
       "    <tr>\n",
       "      <th>3</th>\n",
       "      <th>False</th>\n",
       "      <th>169</th>\n",
       "      <td>0.363787</td>\n",
       "      <td>0.340085</td>\n",
       "      <td>0.011333</td>\n",
       "      <td>37.365311</td>\n",
       "      <td>-0.012919</td>\n",
       "      <td>0.638328</td>\n",
       "      <td>-0.638328</td>\n",
       "    </tr>\n",
       "  </tbody>\n",
       "</table>\n",
       "</div>"
      ],
      "text/plain": [
       "category                                                                       Parametre  ... Weighted_fitness\n",
       "name                                              D1N1_energy_transfert energy_transfert  ... Weighted_fitness\n",
       "Generation Is_From_Previous_Generation Individual                                         ...                 \n",
       "4          False                       149                                      0.464474  ...        -0.356171\n",
       "0          False                       1642                                     0.389118  ...        -0.375671\n",
       "3          False                       26                                       0.416938  ...        -0.401781\n",
       "0          False                       1643                                     0.389118  ...        -0.402009\n",
       "                                       76                                       0.486999  ...        -0.410396\n",
       "4          False                       152                                      0.416938  ...        -0.412185\n",
       "3          False                       101                                      0.433758  ...        -0.412382\n",
       "4          False                       114                                      0.263351  ...        -0.420332\n",
       "                                       190                                      0.433758  ...        -0.441438\n",
       "                                       86                                       0.437408  ...        -0.448674\n",
       "                                       66                                       0.437408  ...        -0.452810\n",
       "                                       119                                      0.433758  ...        -0.462675\n",
       "2          False                       110                                      0.381553  ...        -0.469915\n",
       "0          False                       1389                                     0.357045  ...        -0.478403\n",
       "3          False                       85                                       0.437408  ...        -0.481060\n",
       "4          False                       85                                       0.499872  ...        -0.484349\n",
       "                                       55                                       0.461408  ...        -0.485613\n",
       "0          False                       158                                      0.315724  ...        -0.497578\n",
       "                                       1184                                     0.484801  ...        -0.498722\n",
       "1          False                       130                                      0.437408  ...        -0.511920\n",
       "3          False                       93                                       0.349232  ...        -0.513585\n",
       "0          False                       154                                      0.315724  ...        -0.515831\n",
       "                                       462                                      0.485486  ...        -0.521548\n",
       "                                       467                                      0.485486  ...        -0.521548\n",
       "4          False                       71                                       0.446372  ...        -0.525663\n",
       "0          False                       716                                      0.363787  ...        -0.526668\n",
       "                                       466                                      0.485486  ...        -0.528808\n",
       "4          False                       177                                      0.384474  ...        -0.530774\n",
       "                                       169                                      0.496741  ...        -0.536888\n",
       "                                       148                                      0.467030  ...        -0.543342\n",
       "0          False                       1638                                     0.389118  ...        -0.543662\n",
       "4          False                       112                                      0.263351  ...        -0.546907\n",
       "                                       75                                       0.496741  ...        -0.547970\n",
       "2          False                       135                                      0.475908  ...        -0.558491\n",
       "4          False                       100                                      0.475908  ...        -0.568221\n",
       "3          False                       110                                      0.475908  ...        -0.568221\n",
       "2          False                       101                                      0.438503  ...        -0.586361\n",
       "4          False                       65                                       0.387925  ...        -0.591961\n",
       "3          False                       189                                      0.467030  ...        -0.594760\n",
       "0          False                       1082                                     0.430725  ...        -0.595295\n",
       "                                       1639                                     0.415867  ...        -0.603786\n",
       "                                       1078                                     0.430725  ...        -0.604263\n",
       "3          False                       105                                      0.430725  ...        -0.606640\n",
       "0          False                       1752                                     0.415801  ...        -0.607764\n",
       "3          False                       62                                       0.490464  ...        -0.614577\n",
       "4          False                       125                                      0.490464  ...        -0.617925\n",
       "3          False                       100                                      0.485486  ...        -0.619346\n",
       "2          False                       11                                       0.485486  ...        -0.626117\n",
       "4          False                       160                                      0.467030  ...        -0.628182\n",
       "3          False                       169                                      0.363787  ...        -0.638328\n",
       "\n",
       "[50 rows x 7 columns]"
      ]
     },
     "execution_count": 26,
     "metadata": {},
     "output_type": "execute_result"
    }
   ],
   "source": [
    "viewer.hall_of_fame().iloc[:50]"
   ]
  },
  {
   "cell_type": "code",
   "execution_count": 20,
   "metadata": {},
   "outputs": [
    {
     "data": {
      "application/vnd.plotly.v1+json": {
       "config": {
        "plotlyServerURL": "https://plot.ly"
       },
       "data": [
        {
         "alignmentgroup": "True",
         "boxpoints": "all",
         "hovertemplate": "Generation=%{x}<br>Weighted_fitness=%{y}<extra></extra>",
         "legendgroup": "",
         "marker": {
          "color": "#636efa"
         },
         "name": "",
         "notched": false,
         "offsetgroup": "",
         "orientation": "v",
         "showlegend": false,
         "type": "box",
         "x": {
          "bdata": "AAAAAAAAAAAAAAAAAAAAAAAAAAAAAAAAAAAAAAAAAAAAAAAAAAAAAAAAAAAAAAAAAAAAAAAAAAAAAAAAAAAAAAAAAAAAAAAAAAAAAAAAAAAAAAAAAAAAAAAAAAAAAAAAAAAAAAAAAAAAAAAAAAAAAAAAAAAAAAAAAAAAAAAAAAAAAAAAAAAAAAAAAAAAAAAAAAAAAAAAAAAAAAAAAAAAAAAAAAAAAAAAAAAAAAAAAAAAAAAAAAAAAAAAAAAAAAAAAAAAAAAAAAABAQEBAQEBAQEBAQEBAQEBAQEBAQEBAQEBAQEBAQEBAQEBAQEBAQEBAQEBAQEBAQEBAQEBAQEBAQEBAQEBAQEBAQEBAQEBAQEBAQEBAQEBAQEBAQEBAQEBAQEBAQEBAQEBAQEBAQEBAQEBAQEBAQEBAQEBAQEBAQEBAQEBAQEBAQEBAQEBAQEBAQEBAQEBAQEBAQEBAQEBAQEBAQEBAQEBAQEBAQEBAQEBAQEBAQEBAQEBAQEBAQEBAQEBAQEBAQEBAQEBAQEBAQICAgICAgICAgICAgICAgICAgICAgICAgICAgICAgICAgICAgICAgICAgICAgICAgICAgICAgICAgICAgICAgICAgICAgICAgICAgICAgICAgICAgICAgICAgICAgICAgICAgICAgICAgICAgICAgICAgICAgICAgICAgICAgICAgICAgICAgICAgICAgICAgICAgICAgICAgICAgICAgICAgICAgICAgICAgICAgICAgICAgICAgICAgICAgICAgICAgICAgICAwMDAwMDAwMDAwMDAwMDAwMDAwMDAwMDAwMDAwMDAwMDAwMDAwMDAwMDAwMDAwMDAwMDAwMDAwMDAwMDAwMDAwMDAwMDAwMDAwMDAwMDAwMDAwMDAwMDAwMDAwMDAwMDAwMDAwMDAwMDAwMDAwMDAwMDAwMDAwMDAwMDAwMDAwMDAwMDAwMDAwMDAwMDAwMDAwMDAwMDAwMDAwMDAwMDAwMDAwMDAwMDAwMDAwMDAwMDAwMDAwMDAwMDAwMDAwMDAwMDAwMDAwMEBAQEBAQEBAQEBAQEBAQEBAQEBAQEBAQEBAQEBAQEBAQEBAQEBAQEBAQEBAQEBAQEBAQEBAQEBAQEBAQEBAQEBAQEBAQEBAQEBAQEBAQEBAQEBAQEBAQEBAQEBAQEBAQEBAQEBAQEBAQEBAQEBAQEBAQEBAQEBAQEBAQEBAQEBAQEBAQEBAQEBAQEBAQEBAQEBAQEBAQEBAQEBAQEBAQEBAQEBAQEBAQEBAQEBAQEBAQEBAQEBAQEBAQEBAQEBAQEBAQEBAQEBA==",
          "dtype": "i1"
         },
         "x0": " ",
         "xaxis": "x",
         "y": {
          "bdata": "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",
          "dtype": "f8"
         },
         "y0": " ",
         "yaxis": "y"
        },
        {
         "line": {
          "color": "rgba(0,0,0,0.5)",
          "dash": "dash",
          "width": 2
         },
         "mode": "lines",
         "name": "Median",
         "type": "scatter",
         "x": {
          "bdata": "AAECAwQ=",
          "dtype": "i1"
         },
         "y": {
          "bdata": "Ip0gr46mEsC+QEe6eGgNwDB8jOkECArAaB00qdkfAMBMeTbhVbPxvw==",
          "dtype": "f8"
         }
        }
       ],
       "layout": {
        "boxmode": "group",
        "legend": {
         "tracegroupgap": 0
        },
        "margin": {
         "t": 60
        },
        "template": {
         "data": {
          "bar": [
           {
            "error_x": {
             "color": "#2a3f5f"
            },
            "error_y": {
             "color": "#2a3f5f"
            },
            "marker": {
             "line": {
              "color": "#E5ECF6",
              "width": 0.5
             },
             "pattern": {
              "fillmode": "overlay",
              "size": 10,
              "solidity": 0.2
             }
            },
            "type": "bar"
           }
          ],
          "barpolar": [
           {
            "marker": {
             "line": {
              "color": "#E5ECF6",
              "width": 0.5
             },
             "pattern": {
              "fillmode": "overlay",
              "size": 10,
              "solidity": 0.2
             }
            },
            "type": "barpolar"
           }
          ],
          "carpet": [
           {
            "aaxis": {
             "endlinecolor": "#2a3f5f",
             "gridcolor": "white",
             "linecolor": "white",
             "minorgridcolor": "white",
             "startlinecolor": "#2a3f5f"
            },
            "baxis": {
             "endlinecolor": "#2a3f5f",
             "gridcolor": "white",
             "linecolor": "white",
             "minorgridcolor": "white",
             "startlinecolor": "#2a3f5f"
            },
            "type": "carpet"
           }
          ],
          "choropleth": [
           {
            "colorbar": {
             "outlinewidth": 0,
             "ticks": ""
            },
            "type": "choropleth"
           }
          ],
          "contour": [
           {
            "colorbar": {
             "outlinewidth": 0,
             "ticks": ""
            },
            "colorscale": [
             [
              0,
              "#0d0887"
             ],
             [
              0.1111111111111111,
              "#46039f"
             ],
             [
              0.2222222222222222,
              "#7201a8"
             ],
             [
              0.3333333333333333,
              "#9c179e"
             ],
             [
              0.4444444444444444,
              "#bd3786"
             ],
             [
              0.5555555555555556,
              "#d8576b"
             ],
             [
              0.6666666666666666,
              "#ed7953"
             ],
             [
              0.7777777777777778,
              "#fb9f3a"
             ],
             [
              0.8888888888888888,
              "#fdca26"
             ],
             [
              1,
              "#f0f921"
             ]
            ],
            "type": "contour"
           }
          ],
          "contourcarpet": [
           {
            "colorbar": {
             "outlinewidth": 0,
             "ticks": ""
            },
            "type": "contourcarpet"
           }
          ],
          "heatmap": [
           {
            "colorbar": {
             "outlinewidth": 0,
             "ticks": ""
            },
            "colorscale": [
             [
              0,
              "#0d0887"
             ],
             [
              0.1111111111111111,
              "#46039f"
             ],
             [
              0.2222222222222222,
              "#7201a8"
             ],
             [
              0.3333333333333333,
              "#9c179e"
             ],
             [
              0.4444444444444444,
              "#bd3786"
             ],
             [
              0.5555555555555556,
              "#d8576b"
             ],
             [
              0.6666666666666666,
              "#ed7953"
             ],
             [
              0.7777777777777778,
              "#fb9f3a"
             ],
             [
              0.8888888888888888,
              "#fdca26"
             ],
             [
              1,
              "#f0f921"
             ]
            ],
            "type": "heatmap"
           }
          ],
          "histogram": [
           {
            "marker": {
             "pattern": {
              "fillmode": "overlay",
              "size": 10,
              "solidity": 0.2
             }
            },
            "type": "histogram"
           }
          ],
          "histogram2d": [
           {
            "colorbar": {
             "outlinewidth": 0,
             "ticks": ""
            },
            "colorscale": [
             [
              0,
              "#0d0887"
             ],
             [
              0.1111111111111111,
              "#46039f"
             ],
             [
              0.2222222222222222,
              "#7201a8"
             ],
             [
              0.3333333333333333,
              "#9c179e"
             ],
             [
              0.4444444444444444,
              "#bd3786"
             ],
             [
              0.5555555555555556,
              "#d8576b"
             ],
             [
              0.6666666666666666,
              "#ed7953"
             ],
             [
              0.7777777777777778,
              "#fb9f3a"
             ],
             [
              0.8888888888888888,
              "#fdca26"
             ],
             [
              1,
              "#f0f921"
             ]
            ],
            "type": "histogram2d"
           }
          ],
          "histogram2dcontour": [
           {
            "colorbar": {
             "outlinewidth": 0,
             "ticks": ""
            },
            "colorscale": [
             [
              0,
              "#0d0887"
             ],
             [
              0.1111111111111111,
              "#46039f"
             ],
             [
              0.2222222222222222,
              "#7201a8"
             ],
             [
              0.3333333333333333,
              "#9c179e"
             ],
             [
              0.4444444444444444,
              "#bd3786"
             ],
             [
              0.5555555555555556,
              "#d8576b"
             ],
             [
              0.6666666666666666,
              "#ed7953"
             ],
             [
              0.7777777777777778,
              "#fb9f3a"
             ],
             [
              0.8888888888888888,
              "#fdca26"
             ],
             [
              1,
              "#f0f921"
             ]
            ],
            "type": "histogram2dcontour"
           }
          ],
          "mesh3d": [
           {
            "colorbar": {
             "outlinewidth": 0,
             "ticks": ""
            },
            "type": "mesh3d"
           }
          ],
          "parcoords": [
           {
            "line": {
             "colorbar": {
              "outlinewidth": 0,
              "ticks": ""
             }
            },
            "type": "parcoords"
           }
          ],
          "pie": [
           {
            "automargin": true,
            "type": "pie"
           }
          ],
          "scatter": [
           {
            "fillpattern": {
             "fillmode": "overlay",
             "size": 10,
             "solidity": 0.2
            },
            "type": "scatter"
           }
          ],
          "scatter3d": [
           {
            "line": {
             "colorbar": {
              "outlinewidth": 0,
              "ticks": ""
             }
            },
            "marker": {
             "colorbar": {
              "outlinewidth": 0,
              "ticks": ""
             }
            },
            "type": "scatter3d"
           }
          ],
          "scattercarpet": [
           {
            "marker": {
             "colorbar": {
              "outlinewidth": 0,
              "ticks": ""
             }
            },
            "type": "scattercarpet"
           }
          ],
          "scattergeo": [
           {
            "marker": {
             "colorbar": {
              "outlinewidth": 0,
              "ticks": ""
             }
            },
            "type": "scattergeo"
           }
          ],
          "scattergl": [
           {
            "marker": {
             "colorbar": {
              "outlinewidth": 0,
              "ticks": ""
             }
            },
            "type": "scattergl"
           }
          ],
          "scattermap": [
           {
            "marker": {
             "colorbar": {
              "outlinewidth": 0,
              "ticks": ""
             }
            },
            "type": "scattermap"
           }
          ],
          "scattermapbox": [
           {
            "marker": {
             "colorbar": {
              "outlinewidth": 0,
              "ticks": ""
             }
            },
            "type": "scattermapbox"
           }
          ],
          "scatterpolar": [
           {
            "marker": {
             "colorbar": {
              "outlinewidth": 0,
              "ticks": ""
             }
            },
            "type": "scatterpolar"
           }
          ],
          "scatterpolargl": [
           {
            "marker": {
             "colorbar": {
              "outlinewidth": 0,
              "ticks": ""
             }
            },
            "type": "scatterpolargl"
           }
          ],
          "scatterternary": [
           {
            "marker": {
             "colorbar": {
              "outlinewidth": 0,
              "ticks": ""
             }
            },
            "type": "scatterternary"
           }
          ],
          "surface": [
           {
            "colorbar": {
             "outlinewidth": 0,
             "ticks": ""
            },
            "colorscale": [
             [
              0,
              "#0d0887"
             ],
             [
              0.1111111111111111,
              "#46039f"
             ],
             [
              0.2222222222222222,
              "#7201a8"
             ],
             [
              0.3333333333333333,
              "#9c179e"
             ],
             [
              0.4444444444444444,
              "#bd3786"
             ],
             [
              0.5555555555555556,
              "#d8576b"
             ],
             [
              0.6666666666666666,
              "#ed7953"
             ],
             [
              0.7777777777777778,
              "#fb9f3a"
             ],
             [
              0.8888888888888888,
              "#fdca26"
             ],
             [
              1,
              "#f0f921"
             ]
            ],
            "type": "surface"
           }
          ],
          "table": [
           {
            "cells": {
             "fill": {
              "color": "#EBF0F8"
             },
             "line": {
              "color": "white"
             }
            },
            "header": {
             "fill": {
              "color": "#C8D4E3"
             },
             "line": {
              "color": "white"
             }
            },
            "type": "table"
           }
          ]
         },
         "layout": {
          "annotationdefaults": {
           "arrowcolor": "#2a3f5f",
           "arrowhead": 0,
           "arrowwidth": 1
          },
          "autotypenumbers": "strict",
          "coloraxis": {
           "colorbar": {
            "outlinewidth": 0,
            "ticks": ""
           }
          },
          "colorscale": {
           "diverging": [
            [
             0,
             "#8e0152"
            ],
            [
             0.1,
             "#c51b7d"
            ],
            [
             0.2,
             "#de77ae"
            ],
            [
             0.3,
             "#f1b6da"
            ],
            [
             0.4,
             "#fde0ef"
            ],
            [
             0.5,
             "#f7f7f7"
            ],
            [
             0.6,
             "#e6f5d0"
            ],
            [
             0.7,
             "#b8e186"
            ],
            [
             0.8,
             "#7fbc41"
            ],
            [
             0.9,
             "#4d9221"
            ],
            [
             1,
             "#276419"
            ]
           ],
           "sequential": [
            [
             0,
             "#0d0887"
            ],
            [
             0.1111111111111111,
             "#46039f"
            ],
            [
             0.2222222222222222,
             "#7201a8"
            ],
            [
             0.3333333333333333,
             "#9c179e"
            ],
            [
             0.4444444444444444,
             "#bd3786"
            ],
            [
             0.5555555555555556,
             "#d8576b"
            ],
            [
             0.6666666666666666,
             "#ed7953"
            ],
            [
             0.7777777777777778,
             "#fb9f3a"
            ],
            [
             0.8888888888888888,
             "#fdca26"
            ],
            [
             1,
             "#f0f921"
            ]
           ],
           "sequentialminus": [
            [
             0,
             "#0d0887"
            ],
            [
             0.1111111111111111,
             "#46039f"
            ],
            [
             0.2222222222222222,
             "#7201a8"
            ],
            [
             0.3333333333333333,
             "#9c179e"
            ],
            [
             0.4444444444444444,
             "#bd3786"
            ],
            [
             0.5555555555555556,
             "#d8576b"
            ],
            [
             0.6666666666666666,
             "#ed7953"
            ],
            [
             0.7777777777777778,
             "#fb9f3a"
            ],
            [
             0.8888888888888888,
             "#fdca26"
            ],
            [
             1,
             "#f0f921"
            ]
           ]
          },
          "colorway": [
           "#636efa",
           "#EF553B",
           "#00cc96",
           "#ab63fa",
           "#FFA15A",
           "#19d3f3",
           "#FF6692",
           "#B6E880",
           "#FF97FF",
           "#FECB52"
          ],
          "font": {
           "color": "#2a3f5f"
          },
          "geo": {
           "bgcolor": "white",
           "lakecolor": "white",
           "landcolor": "#E5ECF6",
           "showlakes": true,
           "showland": true,
           "subunitcolor": "white"
          },
          "hoverlabel": {
           "align": "left"
          },
          "hovermode": "closest",
          "mapbox": {
           "style": "light"
          },
          "paper_bgcolor": "white",
          "plot_bgcolor": "#E5ECF6",
          "polar": {
           "angularaxis": {
            "gridcolor": "white",
            "linecolor": "white",
            "ticks": ""
           },
           "bgcolor": "#E5ECF6",
           "radialaxis": {
            "gridcolor": "white",
            "linecolor": "white",
            "ticks": ""
           }
          },
          "scene": {
           "xaxis": {
            "backgroundcolor": "#E5ECF6",
            "gridcolor": "white",
            "gridwidth": 2,
            "linecolor": "white",
            "showbackground": true,
            "ticks": "",
            "zerolinecolor": "white"
           },
           "yaxis": {
            "backgroundcolor": "#E5ECF6",
            "gridcolor": "white",
            "gridwidth": 2,
            "linecolor": "white",
            "showbackground": true,
            "ticks": "",
            "zerolinecolor": "white"
           },
           "zaxis": {
            "backgroundcolor": "#E5ECF6",
            "gridcolor": "white",
            "gridwidth": 2,
            "linecolor": "white",
            "showbackground": true,
            "ticks": "",
            "zerolinecolor": "white"
           }
          },
          "shapedefaults": {
           "line": {
            "color": "#2a3f5f"
           }
          },
          "ternary": {
           "aaxis": {
            "gridcolor": "white",
            "linecolor": "white",
            "ticks": ""
           },
           "baxis": {
            "gridcolor": "white",
            "linecolor": "white",
            "ticks": ""
           },
           "bgcolor": "#E5ECF6",
           "caxis": {
            "gridcolor": "white",
            "linecolor": "white",
            "ticks": ""
           }
          },
          "title": {
           "x": 0.05
          },
          "xaxis": {
           "automargin": true,
           "gridcolor": "white",
           "linecolor": "white",
           "ticks": "",
           "title": {
            "standoff": 15
           },
           "zerolinecolor": "white",
           "zerolinewidth": 2
          },
          "yaxis": {
           "automargin": true,
           "gridcolor": "white",
           "linecolor": "white",
           "ticks": "",
           "title": {
            "standoff": 15
           },
           "zerolinecolor": "white",
           "zerolinewidth": 2
          }
         }
        },
        "title": {
         "text": "Fitness evolution"
        },
        "xaxis": {
         "anchor": "y",
         "domain": [
          0,
          1
         ],
         "title": {
          "text": "Generation"
         }
        },
        "yaxis": {
         "anchor": "x",
         "domain": [
          0,
          1
         ],
         "title": {
          "text": "Weighted_fitness"
         }
        }
       }
      }
     },
     "metadata": {},
     "output_type": "display_data"
    }
   ],
   "source": [
    "viewer.fitness_evolution(points=\"all\")"
   ]
  },
  {
   "cell_type": "code",
   "execution_count": 21,
   "metadata": {},
   "outputs": [
    {
     "data": {
      "application/vnd.plotly.v1+json": {
       "config": {
        "plotlyServerURL": "https://plot.ly"
       },
       "data": [
        {
         "orientation": "h",
         "type": "bar",
         "x": {
          "bdata": "C+ogv9Fr0z8xUJoMeRjSP104VNcRB9M/kzU1ecgK0z/s01ZHD+vRPw==",
          "dtype": "f8"
         },
         "xaxis": "x",
         "y": [
          "D1N1_energy_transfert energy_transfert",
          "D1N1_lambda_temperature_0",
          "D1N1_gamma_lambda_temperature",
          "D1N1_tr_0",
          "D1N1_gamma_tr"
         ],
         "yaxis": "y"
        },
        {
         "orientation": "h",
         "type": "bar",
         "x": {
          "bdata": "NnB0/bJbzD+FCrRwdaPSP9tx/UdzxtI/une9Jv730j+zgJlkpDDQPw==",
          "dtype": "f8"
         },
         "xaxis": "x2",
         "y": [
          "D1N1_energy_transfert energy_transfert",
          "D1N1_lambda_temperature_0",
          "D1N1_gamma_lambda_temperature",
          "D1N1_tr_0",
          "D1N1_gamma_tr"
         ],
         "yaxis": "y2"
        },
        {
         "orientation": "h",
         "type": "bar",
         "x": {
          "bdata": "UXvfexzKwz9WFy8u0FbSP8UdLkxdltE/45bViGeK0z8N59/vODjQPw==",
          "dtype": "f8"
         },
         "xaxis": "x3",
         "y": [
          "D1N1_energy_transfert energy_transfert",
          "D1N1_lambda_temperature_0",
          "D1N1_gamma_lambda_temperature",
          "D1N1_tr_0",
          "D1N1_gamma_tr"
         ],
         "yaxis": "y3"
        },
        {
         "orientation": "h",
         "type": "bar",
         "x": {
          "bdata": "Fs0YPCF4xD+HfWS0raTOP+S8NOs+Zcg/F4V0NuKU0z80HDqKZovRPw==",
          "dtype": "f8"
         },
         "xaxis": "x4",
         "y": [
          "D1N1_energy_transfert energy_transfert",
          "D1N1_lambda_temperature_0",
          "D1N1_gamma_lambda_temperature",
          "D1N1_tr_0",
          "D1N1_gamma_tr"
         ],
         "yaxis": "y4"
        },
        {
         "orientation": "h",
         "type": "bar",
         "x": {
          "bdata": "aXEGi4Exwz9MNV+ntGDKP364PLu9Qb0/dIyiEdNS0j98z6d8derRPw==",
          "dtype": "f8"
         },
         "xaxis": "x5",
         "y": [
          "D1N1_energy_transfert energy_transfert",
          "D1N1_lambda_temperature_0",
          "D1N1_gamma_lambda_temperature",
          "D1N1_tr_0",
          "D1N1_gamma_tr"
         ],
         "yaxis": "y5"
        }
       ],
       "layout": {
        "annotations": [
         {
          "font": {
           "size": 16
          },
          "showarrow": false,
          "text": "Gen=0",
          "x": 0.08399999999999999,
          "xanchor": "center",
          "xref": "paper",
          "y": 1,
          "yanchor": "bottom",
          "yref": "paper"
         },
         {
          "font": {
           "size": 16
          },
          "showarrow": false,
          "text": "Gen=1",
          "x": 0.292,
          "xanchor": "center",
          "xref": "paper",
          "y": 1,
          "yanchor": "bottom",
          "yref": "paper"
         },
         {
          "font": {
           "size": 16
          },
          "showarrow": false,
          "text": "Gen=2",
          "x": 0.5,
          "xanchor": "center",
          "xref": "paper",
          "y": 1,
          "yanchor": "bottom",
          "yref": "paper"
         },
         {
          "font": {
           "size": 16
          },
          "showarrow": false,
          "text": "Gen=3",
          "x": 0.708,
          "xanchor": "center",
          "xref": "paper",
          "y": 1,
          "yanchor": "bottom",
          "yref": "paper"
         },
         {
          "font": {
           "size": 16
          },
          "showarrow": false,
          "text": "Gen=4",
          "x": 0.9159999999999999,
          "xanchor": "center",
          "xref": "paper",
          "y": 1,
          "yanchor": "bottom",
          "yref": "paper"
         }
        ],
        "showlegend": false,
        "template": {
         "data": {
          "bar": [
           {
            "error_x": {
             "color": "#2a3f5f"
            },
            "error_y": {
             "color": "#2a3f5f"
            },
            "marker": {
             "line": {
              "color": "#E5ECF6",
              "width": 0.5
             },
             "pattern": {
              "fillmode": "overlay",
              "size": 10,
              "solidity": 0.2
             }
            },
            "type": "bar"
           }
          ],
          "barpolar": [
           {
            "marker": {
             "line": {
              "color": "#E5ECF6",
              "width": 0.5
             },
             "pattern": {
              "fillmode": "overlay",
              "size": 10,
              "solidity": 0.2
             }
            },
            "type": "barpolar"
           }
          ],
          "carpet": [
           {
            "aaxis": {
             "endlinecolor": "#2a3f5f",
             "gridcolor": "white",
             "linecolor": "white",
             "minorgridcolor": "white",
             "startlinecolor": "#2a3f5f"
            },
            "baxis": {
             "endlinecolor": "#2a3f5f",
             "gridcolor": "white",
             "linecolor": "white",
             "minorgridcolor": "white",
             "startlinecolor": "#2a3f5f"
            },
            "type": "carpet"
           }
          ],
          "choropleth": [
           {
            "colorbar": {
             "outlinewidth": 0,
             "ticks": ""
            },
            "type": "choropleth"
           }
          ],
          "contour": [
           {
            "colorbar": {
             "outlinewidth": 0,
             "ticks": ""
            },
            "colorscale": [
             [
              0,
              "#0d0887"
             ],
             [
              0.1111111111111111,
              "#46039f"
             ],
             [
              0.2222222222222222,
              "#7201a8"
             ],
             [
              0.3333333333333333,
              "#9c179e"
             ],
             [
              0.4444444444444444,
              "#bd3786"
             ],
             [
              0.5555555555555556,
              "#d8576b"
             ],
             [
              0.6666666666666666,
              "#ed7953"
             ],
             [
              0.7777777777777778,
              "#fb9f3a"
             ],
             [
              0.8888888888888888,
              "#fdca26"
             ],
             [
              1,
              "#f0f921"
             ]
            ],
            "type": "contour"
           }
          ],
          "contourcarpet": [
           {
            "colorbar": {
             "outlinewidth": 0,
             "ticks": ""
            },
            "type": "contourcarpet"
           }
          ],
          "heatmap": [
           {
            "colorbar": {
             "outlinewidth": 0,
             "ticks": ""
            },
            "colorscale": [
             [
              0,
              "#0d0887"
             ],
             [
              0.1111111111111111,
              "#46039f"
             ],
             [
              0.2222222222222222,
              "#7201a8"
             ],
             [
              0.3333333333333333,
              "#9c179e"
             ],
             [
              0.4444444444444444,
              "#bd3786"
             ],
             [
              0.5555555555555556,
              "#d8576b"
             ],
             [
              0.6666666666666666,
              "#ed7953"
             ],
             [
              0.7777777777777778,
              "#fb9f3a"
             ],
             [
              0.8888888888888888,
              "#fdca26"
             ],
             [
              1,
              "#f0f921"
             ]
            ],
            "type": "heatmap"
           }
          ],
          "histogram": [
           {
            "marker": {
             "pattern": {
              "fillmode": "overlay",
              "size": 10,
              "solidity": 0.2
             }
            },
            "type": "histogram"
           }
          ],
          "histogram2d": [
           {
            "colorbar": {
             "outlinewidth": 0,
             "ticks": ""
            },
            "colorscale": [
             [
              0,
              "#0d0887"
             ],
             [
              0.1111111111111111,
              "#46039f"
             ],
             [
              0.2222222222222222,
              "#7201a8"
             ],
             [
              0.3333333333333333,
              "#9c179e"
             ],
             [
              0.4444444444444444,
              "#bd3786"
             ],
             [
              0.5555555555555556,
              "#d8576b"
             ],
             [
              0.6666666666666666,
              "#ed7953"
             ],
             [
              0.7777777777777778,
              "#fb9f3a"
             ],
             [
              0.8888888888888888,
              "#fdca26"
             ],
             [
              1,
              "#f0f921"
             ]
            ],
            "type": "histogram2d"
           }
          ],
          "histogram2dcontour": [
           {
            "colorbar": {
             "outlinewidth": 0,
             "ticks": ""
            },
            "colorscale": [
             [
              0,
              "#0d0887"
             ],
             [
              0.1111111111111111,
              "#46039f"
             ],
             [
              0.2222222222222222,
              "#7201a8"
             ],
             [
              0.3333333333333333,
              "#9c179e"
             ],
             [
              0.4444444444444444,
              "#bd3786"
             ],
             [
              0.5555555555555556,
              "#d8576b"
             ],
             [
              0.6666666666666666,
              "#ed7953"
             ],
             [
              0.7777777777777778,
              "#fb9f3a"
             ],
             [
              0.8888888888888888,
              "#fdca26"
             ],
             [
              1,
              "#f0f921"
             ]
            ],
            "type": "histogram2dcontour"
           }
          ],
          "mesh3d": [
           {
            "colorbar": {
             "outlinewidth": 0,
             "ticks": ""
            },
            "type": "mesh3d"
           }
          ],
          "parcoords": [
           {
            "line": {
             "colorbar": {
              "outlinewidth": 0,
              "ticks": ""
             }
            },
            "type": "parcoords"
           }
          ],
          "pie": [
           {
            "automargin": true,
            "type": "pie"
           }
          ],
          "scatter": [
           {
            "fillpattern": {
             "fillmode": "overlay",
             "size": 10,
             "solidity": 0.2
            },
            "type": "scatter"
           }
          ],
          "scatter3d": [
           {
            "line": {
             "colorbar": {
              "outlinewidth": 0,
              "ticks": ""
             }
            },
            "marker": {
             "colorbar": {
              "outlinewidth": 0,
              "ticks": ""
             }
            },
            "type": "scatter3d"
           }
          ],
          "scattercarpet": [
           {
            "marker": {
             "colorbar": {
              "outlinewidth": 0,
              "ticks": ""
             }
            },
            "type": "scattercarpet"
           }
          ],
          "scattergeo": [
           {
            "marker": {
             "colorbar": {
              "outlinewidth": 0,
              "ticks": ""
             }
            },
            "type": "scattergeo"
           }
          ],
          "scattergl": [
           {
            "marker": {
             "colorbar": {
              "outlinewidth": 0,
              "ticks": ""
             }
            },
            "type": "scattergl"
           }
          ],
          "scattermap": [
           {
            "marker": {
             "colorbar": {
              "outlinewidth": 0,
              "ticks": ""
             }
            },
            "type": "scattermap"
           }
          ],
          "scattermapbox": [
           {
            "marker": {
             "colorbar": {
              "outlinewidth": 0,
              "ticks": ""
             }
            },
            "type": "scattermapbox"
           }
          ],
          "scatterpolar": [
           {
            "marker": {
             "colorbar": {
              "outlinewidth": 0,
              "ticks": ""
             }
            },
            "type": "scatterpolar"
           }
          ],
          "scatterpolargl": [
           {
            "marker": {
             "colorbar": {
              "outlinewidth": 0,
              "ticks": ""
             }
            },
            "type": "scatterpolargl"
           }
          ],
          "scatterternary": [
           {
            "marker": {
             "colorbar": {
              "outlinewidth": 0,
              "ticks": ""
             }
            },
            "type": "scatterternary"
           }
          ],
          "surface": [
           {
            "colorbar": {
             "outlinewidth": 0,
             "ticks": ""
            },
            "colorscale": [
             [
              0,
              "#0d0887"
             ],
             [
              0.1111111111111111,
              "#46039f"
             ],
             [
              0.2222222222222222,
              "#7201a8"
             ],
             [
              0.3333333333333333,
              "#9c179e"
             ],
             [
              0.4444444444444444,
              "#bd3786"
             ],
             [
              0.5555555555555556,
              "#d8576b"
             ],
             [
              0.6666666666666666,
              "#ed7953"
             ],
             [
              0.7777777777777778,
              "#fb9f3a"
             ],
             [
              0.8888888888888888,
              "#fdca26"
             ],
             [
              1,
              "#f0f921"
             ]
            ],
            "type": "surface"
           }
          ],
          "table": [
           {
            "cells": {
             "fill": {
              "color": "#EBF0F8"
             },
             "line": {
              "color": "white"
             }
            },
            "header": {
             "fill": {
              "color": "#C8D4E3"
             },
             "line": {
              "color": "white"
             }
            },
            "type": "table"
           }
          ]
         },
         "layout": {
          "annotationdefaults": {
           "arrowcolor": "#2a3f5f",
           "arrowhead": 0,
           "arrowwidth": 1
          },
          "autotypenumbers": "strict",
          "coloraxis": {
           "colorbar": {
            "outlinewidth": 0,
            "ticks": ""
           }
          },
          "colorscale": {
           "diverging": [
            [
             0,
             "#8e0152"
            ],
            [
             0.1,
             "#c51b7d"
            ],
            [
             0.2,
             "#de77ae"
            ],
            [
             0.3,
             "#f1b6da"
            ],
            [
             0.4,
             "#fde0ef"
            ],
            [
             0.5,
             "#f7f7f7"
            ],
            [
             0.6,
             "#e6f5d0"
            ],
            [
             0.7,
             "#b8e186"
            ],
            [
             0.8,
             "#7fbc41"
            ],
            [
             0.9,
             "#4d9221"
            ],
            [
             1,
             "#276419"
            ]
           ],
           "sequential": [
            [
             0,
             "#0d0887"
            ],
            [
             0.1111111111111111,
             "#46039f"
            ],
            [
             0.2222222222222222,
             "#7201a8"
            ],
            [
             0.3333333333333333,
             "#9c179e"
            ],
            [
             0.4444444444444444,
             "#bd3786"
            ],
            [
             0.5555555555555556,
             "#d8576b"
            ],
            [
             0.6666666666666666,
             "#ed7953"
            ],
            [
             0.7777777777777778,
             "#fb9f3a"
            ],
            [
             0.8888888888888888,
             "#fdca26"
            ],
            [
             1,
             "#f0f921"
            ]
           ],
           "sequentialminus": [
            [
             0,
             "#0d0887"
            ],
            [
             0.1111111111111111,
             "#46039f"
            ],
            [
             0.2222222222222222,
             "#7201a8"
            ],
            [
             0.3333333333333333,
             "#9c179e"
            ],
            [
             0.4444444444444444,
             "#bd3786"
            ],
            [
             0.5555555555555556,
             "#d8576b"
            ],
            [
             0.6666666666666666,
             "#ed7953"
            ],
            [
             0.7777777777777778,
             "#fb9f3a"
            ],
            [
             0.8888888888888888,
             "#fdca26"
            ],
            [
             1,
             "#f0f921"
            ]
           ]
          },
          "colorway": [
           "#636efa",
           "#EF553B",
           "#00cc96",
           "#ab63fa",
           "#FFA15A",
           "#19d3f3",
           "#FF6692",
           "#B6E880",
           "#FF97FF",
           "#FECB52"
          ],
          "font": {
           "color": "#2a3f5f"
          },
          "geo": {
           "bgcolor": "white",
           "lakecolor": "white",
           "landcolor": "#E5ECF6",
           "showlakes": true,
           "showland": true,
           "subunitcolor": "white"
          },
          "hoverlabel": {
           "align": "left"
          },
          "hovermode": "closest",
          "mapbox": {
           "style": "light"
          },
          "paper_bgcolor": "white",
          "plot_bgcolor": "#E5ECF6",
          "polar": {
           "angularaxis": {
            "gridcolor": "white",
            "linecolor": "white",
            "ticks": ""
           },
           "bgcolor": "#E5ECF6",
           "radialaxis": {
            "gridcolor": "white",
            "linecolor": "white",
            "ticks": ""
           }
          },
          "scene": {
           "xaxis": {
            "backgroundcolor": "#E5ECF6",
            "gridcolor": "white",
            "gridwidth": 2,
            "linecolor": "white",
            "showbackground": true,
            "ticks": "",
            "zerolinecolor": "white"
           },
           "yaxis": {
            "backgroundcolor": "#E5ECF6",
            "gridcolor": "white",
            "gridwidth": 2,
            "linecolor": "white",
            "showbackground": true,
            "ticks": "",
            "zerolinecolor": "white"
           },
           "zaxis": {
            "backgroundcolor": "#E5ECF6",
            "gridcolor": "white",
            "gridwidth": 2,
            "linecolor": "white",
            "showbackground": true,
            "ticks": "",
            "zerolinecolor": "white"
           }
          },
          "shapedefaults": {
           "line": {
            "color": "#2a3f5f"
           }
          },
          "ternary": {
           "aaxis": {
            "gridcolor": "white",
            "linecolor": "white",
            "ticks": ""
           },
           "baxis": {
            "gridcolor": "white",
            "linecolor": "white",
            "ticks": ""
           },
           "bgcolor": "#E5ECF6",
           "caxis": {
            "gridcolor": "white",
            "linecolor": "white",
            "ticks": ""
           }
          },
          "title": {
           "x": 0.05
          },
          "xaxis": {
           "automargin": true,
           "gridcolor": "white",
           "linecolor": "white",
           "ticks": "",
           "title": {
            "standoff": 15
           },
           "zerolinecolor": "white",
           "zerolinewidth": 2
          },
          "yaxis": {
           "automargin": true,
           "gridcolor": "white",
           "linecolor": "white",
           "ticks": "",
           "title": {
            "standoff": 15
           },
           "zerolinecolor": "white",
           "zerolinewidth": 2
          }
         }
        },
        "title": {
         "text": "Standardized std of parameters by generation"
        },
        "xaxis": {
         "anchor": "y",
         "domain": [
          0,
          0.16799999999999998
         ]
        },
        "xaxis2": {
         "anchor": "y2",
         "domain": [
          0.208,
          0.376
         ]
        },
        "xaxis3": {
         "anchor": "y3",
         "domain": [
          0.416,
          0.584
         ]
        },
        "xaxis4": {
         "anchor": "y4",
         "domain": [
          0.624,
          0.792
         ]
        },
        "xaxis5": {
         "anchor": "y5",
         "domain": [
          0.832,
          1
         ]
        },
        "yaxis": {
         "anchor": "x",
         "domain": [
          0,
          1
         ]
        },
        "yaxis2": {
         "anchor": "x2",
         "domain": [
          0,
          1
         ],
         "matches": "y",
         "showticklabels": false
        },
        "yaxis3": {
         "anchor": "x3",
         "domain": [
          0,
          1
         ],
         "matches": "y",
         "showticklabels": false
        },
        "yaxis4": {
         "anchor": "x4",
         "domain": [
          0,
          1
         ],
         "matches": "y",
         "showticklabels": false
        },
        "yaxis5": {
         "anchor": "x5",
         "domain": [
          0,
          1
         ],
         "matches": "y",
         "showticklabels": false
        }
       }
      }
     },
     "metadata": {},
     "output_type": "display_data"
    }
   ],
   "source": [
    "viewer.parameters_standardized_deviation()"
   ]
  },
  {
   "cell_type": "code",
   "execution_count": 22,
   "metadata": {},
   "outputs": [
    {
     "data": {
      "application/vnd.plotly.v1+json": {
       "config": {
        "plotlyServerURL": "https://plot.ly"
       },
       "data": [
        {
         "fillpattern": {
          "shape": ""
         },
         "hovertemplate": "Variable=D1N1_energy_transfert energy_transfert<br>Generation=%{x}<br>Entropy=%{y}<extra></extra>",
         "legendgroup": "D1N1_energy_transfert energy_transfert",
         "line": {
          "color": "#636efa"
         },
         "marker": {
          "symbol": "circle"
         },
         "mode": "lines+markers",
         "name": "D1N1_energy_transfert energy_transfert",
         "orientation": "v",
         "showlegend": true,
         "stackgroup": "1",
         "type": "scatter",
         "x": {
          "bdata": "AAECAwQ=",
          "dtype": "i1"
         },
         "xaxis": "x",
         "y": {
          "bdata": "NB58EGEqFUAO0YvEqvQRQBD/FfaRTw9AMiSFVkrUDED2Setkr1QLQA==",
          "dtype": "f8"
         },
         "yaxis": "y"
        },
        {
         "fillpattern": {
          "shape": ""
         },
         "hovertemplate": "Variable=D1N1_lambda_temperature_0<br>Generation=%{x}<br>Entropy=%{y}<extra></extra>",
         "legendgroup": "D1N1_lambda_temperature_0",
         "line": {
          "color": "#EF553B"
         },
         "marker": {
          "symbol": "circle"
         },
         "mode": "lines+markers",
         "name": "D1N1_lambda_temperature_0",
         "orientation": "v",
         "showlegend": true,
         "stackgroup": "1",
         "type": "scatter",
         "x": {
          "bdata": "AAECAwQ=",
          "dtype": "i1"
         },
         "xaxis": "x",
         "y": {
          "bdata": "ptHHG3oxFUDzL94yaOIRQNjIlA/7Yw9AdU10ANCbC0BBN7IiRzMJQA==",
          "dtype": "f8"
         },
         "yaxis": "y"
        },
        {
         "fillpattern": {
          "shape": ""
         },
         "hovertemplate": "Variable=D1N1_gamma_lambda_temperature<br>Generation=%{x}<br>Entropy=%{y}<extra></extra>",
         "legendgroup": "D1N1_gamma_lambda_temperature",
         "line": {
          "color": "#00cc96"
         },
         "marker": {
          "symbol": "circle"
         },
         "mode": "lines+markers",
         "name": "D1N1_gamma_lambda_temperature",
         "orientation": "v",
         "showlegend": true,
         "stackgroup": "1",
         "type": "scatter",
         "x": {
          "bdata": "AAECAwQ=",
          "dtype": "i1"
         },
         "xaxis": "x",
         "y": {
          "bdata": "4+t7EGEqFUByj4YCC8IRQMt2sv4PfA9AUp5+juLGCkB4b0DHAQ4JQA==",
          "dtype": "f8"
         },
         "yaxis": "y"
        },
        {
         "fillpattern": {
          "shape": ""
         },
         "hovertemplate": "Variable=D1N1_tr_0<br>Generation=%{x}<br>Entropy=%{y}<extra></extra>",
         "legendgroup": "D1N1_tr_0",
         "line": {
          "color": "#ab63fa"
         },
         "marker": {
          "symbol": "circle"
         },
         "mode": "lines+markers",
         "name": "D1N1_tr_0",
         "orientation": "v",
         "showlegend": true,
         "stackgroup": "1",
         "type": "scatter",
         "x": {
          "bdata": "AAECAwQ=",
          "dtype": "i1"
         },
         "xaxis": "x",
         "y": {
          "bdata": "3f1eJHoxFUB8bbSeNwMSQPEvh6gAHhBAsCyEzE0IDkDK6tfktGELQA==",
          "dtype": "f8"
         },
         "yaxis": "y"
        },
        {
         "fillpattern": {
          "shape": ""
         },
         "hovertemplate": "Variable=D1N1_gamma_tr<br>Generation=%{x}<br>Entropy=%{y}<extra></extra>",
         "legendgroup": "D1N1_gamma_tr",
         "line": {
          "color": "#FFA15A"
         },
         "marker": {
          "symbol": "circle"
         },
         "mode": "lines+markers",
         "name": "D1N1_gamma_tr",
         "orientation": "v",
         "showlegend": true,
         "stackgroup": "1",
         "type": "scatter",
         "x": {
          "bdata": "AAECAwQ=",
          "dtype": "i1"
         },
         "xaxis": "x",
         "y": {
          "bdata": "uH5kEGEqFUBRs7qBGdYRQI0BP/pzvQ9AV2BSxuLuDUBLklr7mjMMQA==",
          "dtype": "f8"
         },
         "yaxis": "y"
        }
       ],
       "layout": {
        "legend": {
         "title": {
          "text": "Variable"
         },
         "tracegroupgap": 0
        },
        "plot_bgcolor": "rgba(0, 0, 0, 0)",
        "template": {
         "data": {
          "bar": [
           {
            "error_x": {
             "color": "#2a3f5f"
            },
            "error_y": {
             "color": "#2a3f5f"
            },
            "marker": {
             "line": {
              "color": "#E5ECF6",
              "width": 0.5
             },
             "pattern": {
              "fillmode": "overlay",
              "size": 10,
              "solidity": 0.2
             }
            },
            "type": "bar"
           }
          ],
          "barpolar": [
           {
            "marker": {
             "line": {
              "color": "#E5ECF6",
              "width": 0.5
             },
             "pattern": {
              "fillmode": "overlay",
              "size": 10,
              "solidity": 0.2
             }
            },
            "type": "barpolar"
           }
          ],
          "carpet": [
           {
            "aaxis": {
             "endlinecolor": "#2a3f5f",
             "gridcolor": "white",
             "linecolor": "white",
             "minorgridcolor": "white",
             "startlinecolor": "#2a3f5f"
            },
            "baxis": {
             "endlinecolor": "#2a3f5f",
             "gridcolor": "white",
             "linecolor": "white",
             "minorgridcolor": "white",
             "startlinecolor": "#2a3f5f"
            },
            "type": "carpet"
           }
          ],
          "choropleth": [
           {
            "colorbar": {
             "outlinewidth": 0,
             "ticks": ""
            },
            "type": "choropleth"
           }
          ],
          "contour": [
           {
            "colorbar": {
             "outlinewidth": 0,
             "ticks": ""
            },
            "colorscale": [
             [
              0,
              "#0d0887"
             ],
             [
              0.1111111111111111,
              "#46039f"
             ],
             [
              0.2222222222222222,
              "#7201a8"
             ],
             [
              0.3333333333333333,
              "#9c179e"
             ],
             [
              0.4444444444444444,
              "#bd3786"
             ],
             [
              0.5555555555555556,
              "#d8576b"
             ],
             [
              0.6666666666666666,
              "#ed7953"
             ],
             [
              0.7777777777777778,
              "#fb9f3a"
             ],
             [
              0.8888888888888888,
              "#fdca26"
             ],
             [
              1,
              "#f0f921"
             ]
            ],
            "type": "contour"
           }
          ],
          "contourcarpet": [
           {
            "colorbar": {
             "outlinewidth": 0,
             "ticks": ""
            },
            "type": "contourcarpet"
           }
          ],
          "heatmap": [
           {
            "colorbar": {
             "outlinewidth": 0,
             "ticks": ""
            },
            "colorscale": [
             [
              0,
              "#0d0887"
             ],
             [
              0.1111111111111111,
              "#46039f"
             ],
             [
              0.2222222222222222,
              "#7201a8"
             ],
             [
              0.3333333333333333,
              "#9c179e"
             ],
             [
              0.4444444444444444,
              "#bd3786"
             ],
             [
              0.5555555555555556,
              "#d8576b"
             ],
             [
              0.6666666666666666,
              "#ed7953"
             ],
             [
              0.7777777777777778,
              "#fb9f3a"
             ],
             [
              0.8888888888888888,
              "#fdca26"
             ],
             [
              1,
              "#f0f921"
             ]
            ],
            "type": "heatmap"
           }
          ],
          "histogram": [
           {
            "marker": {
             "pattern": {
              "fillmode": "overlay",
              "size": 10,
              "solidity": 0.2
             }
            },
            "type": "histogram"
           }
          ],
          "histogram2d": [
           {
            "colorbar": {
             "outlinewidth": 0,
             "ticks": ""
            },
            "colorscale": [
             [
              0,
              "#0d0887"
             ],
             [
              0.1111111111111111,
              "#46039f"
             ],
             [
              0.2222222222222222,
              "#7201a8"
             ],
             [
              0.3333333333333333,
              "#9c179e"
             ],
             [
              0.4444444444444444,
              "#bd3786"
             ],
             [
              0.5555555555555556,
              "#d8576b"
             ],
             [
              0.6666666666666666,
              "#ed7953"
             ],
             [
              0.7777777777777778,
              "#fb9f3a"
             ],
             [
              0.8888888888888888,
              "#fdca26"
             ],
             [
              1,
              "#f0f921"
             ]
            ],
            "type": "histogram2d"
           }
          ],
          "histogram2dcontour": [
           {
            "colorbar": {
             "outlinewidth": 0,
             "ticks": ""
            },
            "colorscale": [
             [
              0,
              "#0d0887"
             ],
             [
              0.1111111111111111,
              "#46039f"
             ],
             [
              0.2222222222222222,
              "#7201a8"
             ],
             [
              0.3333333333333333,
              "#9c179e"
             ],
             [
              0.4444444444444444,
              "#bd3786"
             ],
             [
              0.5555555555555556,
              "#d8576b"
             ],
             [
              0.6666666666666666,
              "#ed7953"
             ],
             [
              0.7777777777777778,
              "#fb9f3a"
             ],
             [
              0.8888888888888888,
              "#fdca26"
             ],
             [
              1,
              "#f0f921"
             ]
            ],
            "type": "histogram2dcontour"
           }
          ],
          "mesh3d": [
           {
            "colorbar": {
             "outlinewidth": 0,
             "ticks": ""
            },
            "type": "mesh3d"
           }
          ],
          "parcoords": [
           {
            "line": {
             "colorbar": {
              "outlinewidth": 0,
              "ticks": ""
             }
            },
            "type": "parcoords"
           }
          ],
          "pie": [
           {
            "automargin": true,
            "type": "pie"
           }
          ],
          "scatter": [
           {
            "fillpattern": {
             "fillmode": "overlay",
             "size": 10,
             "solidity": 0.2
            },
            "type": "scatter"
           }
          ],
          "scatter3d": [
           {
            "line": {
             "colorbar": {
              "outlinewidth": 0,
              "ticks": ""
             }
            },
            "marker": {
             "colorbar": {
              "outlinewidth": 0,
              "ticks": ""
             }
            },
            "type": "scatter3d"
           }
          ],
          "scattercarpet": [
           {
            "marker": {
             "colorbar": {
              "outlinewidth": 0,
              "ticks": ""
             }
            },
            "type": "scattercarpet"
           }
          ],
          "scattergeo": [
           {
            "marker": {
             "colorbar": {
              "outlinewidth": 0,
              "ticks": ""
             }
            },
            "type": "scattergeo"
           }
          ],
          "scattergl": [
           {
            "marker": {
             "colorbar": {
              "outlinewidth": 0,
              "ticks": ""
             }
            },
            "type": "scattergl"
           }
          ],
          "scattermap": [
           {
            "marker": {
             "colorbar": {
              "outlinewidth": 0,
              "ticks": ""
             }
            },
            "type": "scattermap"
           }
          ],
          "scattermapbox": [
           {
            "marker": {
             "colorbar": {
              "outlinewidth": 0,
              "ticks": ""
             }
            },
            "type": "scattermapbox"
           }
          ],
          "scatterpolar": [
           {
            "marker": {
             "colorbar": {
              "outlinewidth": 0,
              "ticks": ""
             }
            },
            "type": "scatterpolar"
           }
          ],
          "scatterpolargl": [
           {
            "marker": {
             "colorbar": {
              "outlinewidth": 0,
              "ticks": ""
             }
            },
            "type": "scatterpolargl"
           }
          ],
          "scatterternary": [
           {
            "marker": {
             "colorbar": {
              "outlinewidth": 0,
              "ticks": ""
             }
            },
            "type": "scatterternary"
           }
          ],
          "surface": [
           {
            "colorbar": {
             "outlinewidth": 0,
             "ticks": ""
            },
            "colorscale": [
             [
              0,
              "#0d0887"
             ],
             [
              0.1111111111111111,
              "#46039f"
             ],
             [
              0.2222222222222222,
              "#7201a8"
             ],
             [
              0.3333333333333333,
              "#9c179e"
             ],
             [
              0.4444444444444444,
              "#bd3786"
             ],
             [
              0.5555555555555556,
              "#d8576b"
             ],
             [
              0.6666666666666666,
              "#ed7953"
             ],
             [
              0.7777777777777778,
              "#fb9f3a"
             ],
             [
              0.8888888888888888,
              "#fdca26"
             ],
             [
              1,
              "#f0f921"
             ]
            ],
            "type": "surface"
           }
          ],
          "table": [
           {
            "cells": {
             "fill": {
              "color": "#EBF0F8"
             },
             "line": {
              "color": "white"
             }
            },
            "header": {
             "fill": {
              "color": "#C8D4E3"
             },
             "line": {
              "color": "white"
             }
            },
            "type": "table"
           }
          ]
         },
         "layout": {
          "annotationdefaults": {
           "arrowcolor": "#2a3f5f",
           "arrowhead": 0,
           "arrowwidth": 1
          },
          "autotypenumbers": "strict",
          "coloraxis": {
           "colorbar": {
            "outlinewidth": 0,
            "ticks": ""
           }
          },
          "colorscale": {
           "diverging": [
            [
             0,
             "#8e0152"
            ],
            [
             0.1,
             "#c51b7d"
            ],
            [
             0.2,
             "#de77ae"
            ],
            [
             0.3,
             "#f1b6da"
            ],
            [
             0.4,
             "#fde0ef"
            ],
            [
             0.5,
             "#f7f7f7"
            ],
            [
             0.6,
             "#e6f5d0"
            ],
            [
             0.7,
             "#b8e186"
            ],
            [
             0.8,
             "#7fbc41"
            ],
            [
             0.9,
             "#4d9221"
            ],
            [
             1,
             "#276419"
            ]
           ],
           "sequential": [
            [
             0,
             "#0d0887"
            ],
            [
             0.1111111111111111,
             "#46039f"
            ],
            [
             0.2222222222222222,
             "#7201a8"
            ],
            [
             0.3333333333333333,
             "#9c179e"
            ],
            [
             0.4444444444444444,
             "#bd3786"
            ],
            [
             0.5555555555555556,
             "#d8576b"
            ],
            [
             0.6666666666666666,
             "#ed7953"
            ],
            [
             0.7777777777777778,
             "#fb9f3a"
            ],
            [
             0.8888888888888888,
             "#fdca26"
            ],
            [
             1,
             "#f0f921"
            ]
           ],
           "sequentialminus": [
            [
             0,
             "#0d0887"
            ],
            [
             0.1111111111111111,
             "#46039f"
            ],
            [
             0.2222222222222222,
             "#7201a8"
            ],
            [
             0.3333333333333333,
             "#9c179e"
            ],
            [
             0.4444444444444444,
             "#bd3786"
            ],
            [
             0.5555555555555556,
             "#d8576b"
            ],
            [
             0.6666666666666666,
             "#ed7953"
            ],
            [
             0.7777777777777778,
             "#fb9f3a"
            ],
            [
             0.8888888888888888,
             "#fdca26"
            ],
            [
             1,
             "#f0f921"
            ]
           ]
          },
          "colorway": [
           "#636efa",
           "#EF553B",
           "#00cc96",
           "#ab63fa",
           "#FFA15A",
           "#19d3f3",
           "#FF6692",
           "#B6E880",
           "#FF97FF",
           "#FECB52"
          ],
          "font": {
           "color": "#2a3f5f"
          },
          "geo": {
           "bgcolor": "white",
           "lakecolor": "white",
           "landcolor": "#E5ECF6",
           "showlakes": true,
           "showland": true,
           "subunitcolor": "white"
          },
          "hoverlabel": {
           "align": "left"
          },
          "hovermode": "closest",
          "mapbox": {
           "style": "light"
          },
          "paper_bgcolor": "white",
          "plot_bgcolor": "#E5ECF6",
          "polar": {
           "angularaxis": {
            "gridcolor": "white",
            "linecolor": "white",
            "ticks": ""
           },
           "bgcolor": "#E5ECF6",
           "radialaxis": {
            "gridcolor": "white",
            "linecolor": "white",
            "ticks": ""
           }
          },
          "scene": {
           "xaxis": {
            "backgroundcolor": "#E5ECF6",
            "gridcolor": "white",
            "gridwidth": 2,
            "linecolor": "white",
            "showbackground": true,
            "ticks": "",
            "zerolinecolor": "white"
           },
           "yaxis": {
            "backgroundcolor": "#E5ECF6",
            "gridcolor": "white",
            "gridwidth": 2,
            "linecolor": "white",
            "showbackground": true,
            "ticks": "",
            "zerolinecolor": "white"
           },
           "zaxis": {
            "backgroundcolor": "#E5ECF6",
            "gridcolor": "white",
            "gridwidth": 2,
            "linecolor": "white",
            "showbackground": true,
            "ticks": "",
            "zerolinecolor": "white"
           }
          },
          "shapedefaults": {
           "line": {
            "color": "#2a3f5f"
           }
          },
          "ternary": {
           "aaxis": {
            "gridcolor": "white",
            "linecolor": "white",
            "ticks": ""
           },
           "baxis": {
            "gridcolor": "white",
            "linecolor": "white",
            "ticks": ""
           },
           "bgcolor": "#E5ECF6",
           "caxis": {
            "gridcolor": "white",
            "linecolor": "white",
            "ticks": ""
           }
          },
          "title": {
           "x": 0.05
          },
          "xaxis": {
           "automargin": true,
           "gridcolor": "white",
           "linecolor": "white",
           "ticks": "",
           "title": {
            "standoff": 15
           },
           "zerolinecolor": "white",
           "zerolinewidth": 2
          },
          "yaxis": {
           "automargin": true,
           "gridcolor": "white",
           "linecolor": "white",
           "ticks": "",
           "title": {
            "standoff": 15
           },
           "zerolinecolor": "white",
           "zerolinewidth": 2
          }
         }
        },
        "title": {
         "text": "Shannon entropy of parameter distributions"
        },
        "xaxis": {
         "anchor": "y",
         "domain": [
          0,
          1
         ],
         "showgrid": false,
         "title": {
          "text": "Generation"
         }
        },
        "yaxis": {
         "anchor": "x",
         "domain": [
          0,
          1
         ],
         "showgrid": false,
         "title": {
          "text": "Entropy"
         }
        }
       }
      }
     },
     "metadata": {},
     "output_type": "display_data"
    }
   ],
   "source": [
    "viewer.shannon_entropy(bins=100_000)"
   ]
  },
  {
   "cell_type": "code",
   "execution_count": 24,
   "metadata": {},
   "outputs": [
    {
     "data": {
      "application/vnd.plotly.v1+json": {
       "config": {
        "plotlyServerURL": "https://plot.ly"
       },
       "data": [
        {
         "alignmentgroup": "True",
         "hovertemplate": "D1N1_energy_transfert energy_transfert=%{y}<extra></extra>",
         "legendgroup": "",
         "marker": {
          "color": "#636efa"
         },
         "name": "",
         "notched": false,
         "offsetgroup": "",
         "orientation": "v",
         "showlegend": false,
         "type": "box",
         "x0": " ",
         "xaxis": "x",
         "y": {
          "bdata": "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",
          "dtype": "f8"
         },
         "y0": " ",
         "yaxis": "y"
        },
        {
         "alignmentgroup": "True",
         "hovertemplate": "D1N1_lambda_temperature_0=%{y}<extra></extra>",
         "legendgroup": "",
         "marker": {
          "color": "#636efa"
         },
         "name": "",
         "notched": false,
         "offsetgroup": "",
         "orientation": "v",
         "showlegend": false,
         "type": "box",
         "x0": " ",
         "xaxis": "x2",
         "y": {
          "bdata": "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",
          "dtype": "f8"
         },
         "y0": " ",
         "yaxis": "y2"
        },
        {
         "alignmentgroup": "True",
         "hovertemplate": "D1N1_gamma_lambda_temperature=%{y}<extra></extra>",
         "legendgroup": "",
         "marker": {
          "color": "#636efa"
         },
         "name": "",
         "notched": false,
         "offsetgroup": "",
         "orientation": "v",
         "showlegend": false,
         "type": "box",
         "x0": " ",
         "xaxis": "x3",
         "y": {
          "bdata": "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",
          "dtype": "f8"
         },
         "y0": " ",
         "yaxis": "y3"
        },
        {
         "alignmentgroup": "True",
         "hovertemplate": "D1N1_tr_0=%{y}<extra></extra>",
         "legendgroup": "",
         "marker": {
          "color": "#636efa"
         },
         "name": "",
         "notched": false,
         "offsetgroup": "",
         "orientation": "v",
         "showlegend": false,
         "type": "box",
         "x0": " ",
         "xaxis": "x4",
         "y": {
          "bdata": "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",
          "dtype": "f8"
         },
         "y0": " ",
         "yaxis": "y4"
        },
        {
         "alignmentgroup": "True",
         "hovertemplate": "D1N1_gamma_tr=%{y}<extra></extra>",
         "legendgroup": "",
         "marker": {
          "color": "#636efa"
         },
         "name": "",
         "notched": false,
         "offsetgroup": "",
         "orientation": "v",
         "showlegend": false,
         "type": "box",
         "x0": " ",
         "xaxis": "x5",
         "y": {
          "bdata": "7MFBsKHbor/swUGwoduiv+zBQbCh26K/EayXBP6Cp7+jrqLbbTacv+zBQbCh26K/CxlTTxDxnb8NIH0zLj+hv0o260Cp4qe/SjbrQKnip7/swUGwoduiv+zBQbCh26K/7MFBsKHbor/eH5EmtRajv8Ctq5HXIJC/IK2Iz/7LW794UIPYKlONvyCtiM/+y1u/IK2Iz/7LW7/zsS2oDwGnv/OxLagPAae/Vl3oMGraqL9EFBJzOxWQv4BkY3/DAKC/wK2rkdcgkL/ArauR1yCQv0QUEnM7FZC/zDP4NBixpL8AI5ZBEvSev8VMnNGzq5q/pEedFgLAo78AI5ZBEvSev+zBQbCh26K/7MFBsKHbor/swUGwoduiv+zBQbCh26K/7MFBsKHbor8AI5ZBEvSevwAjlkES9J6/ACOWQRL0nr8AI5ZBEvSevwAjlkES9J6/tASZZaL3kr+0BJlloveSvwsZU08Q8Z2/jLJgbZJaiL+MsmBtklqIvyCtiM/+y1u/RBQSczsVkL82C0P5W9Oov1Zd6DBq2qi/Vl3oMGraqL9WXegwatqov0QUEnM7FZC/1G85nRoYo7/3jnnyLSuIv6RSCZQ1rYK/rsri1xStor+uyuLXFK2iv8Ctq5HXIJC/wK2rkdcgkL/ArauR1yCQv+zBQbCh26K/7MFBsKHbor/swUGwoduiv+zBQbCh26K/7MFBsKHbor/swUGwoduiv89IPFU8pJu/HNsU3umUmb8c2xTe6ZSZvxzbFN7plJm/HNsU3umUmb/ArauR1yCQvxzbFN7plJm/HNsU3umUmb8c2xTe6ZSZv6OuotttNpy/87EtqA8Bp7+jrqLbbTacv6OuotttNpy/o66i2202nL+jrqLbbTacv0Iy9yEQzpm/QjL3IRDOmb8c2xTe6ZSZv7QEmWWi95K/HNsU3umUmb8c2xTe6ZSZvw0gfTMuP6G/PiZ1AaSOor+0BJlloveSvxzbFN7plJm/HNsU3umUmb+6rolRrxmYvxzbFN7plJm/tASZZaL3kr/swUGwoduiv8Ctq5HXIJC/KukXK9ACm7/3jnnyLSuIvwsZU08Q8Z2/xUyc0bOrmr+jrqLbbTacv1hB6SOuoZa/CHBYIw6Ipb8G+9cy0Iqbvwb71zLQipu/odILks2mor+Ym1jsrcZ1v5ibWOytxnW/mJtY7K3Gdb+Ym1jsrcZ1v5ibWOytxnW/CxlTTxDxnb8LGVNPEPGdvwsZU08Q8Z2/CxlTTxDxnb/FTJzRs6uav8sp6Ev9fIK/yynoS/18gr/LKehL/XyCvwsZU08Q8Z2/CxlTTxDxnb945kaY0JepvwsZU08Q8Z2/CxlTTxDxnb+0BJlloveSv89IPFU8pJu/7MFBsKHbor/swUGwoduivwsZU08Q8Z2/RBQSczsVkL9EFBJzOxWQv0QUEnM7FZC/RBQSczsVkL/swUGwoduiv5ibWOytxnW/mJtY7K3Gdb8c2xTe6ZSZv8Ctq5HXIJC/RBQSczsVkL9KNutAqeKnv0QUEnM7FZC/z0g8VTykm79EFBJzOxWQv39S7qta8qK/f1Luq1ryor9/Uu6rWvKiv+zBQbCh26K/tqISozWLkr+2ohKjNYuSv9OCc9Y7XoO/CxlTTxDxnb8UcxRnehmAvyCtiM/+y1u/+MN4OkG9cb8c2xTe6ZSZvxzbFN7plJm/MBNFNRb8ib/swUGwoduiv0o260Cp4qe/rsri1xStor8+JnUBpI6ivz4mdQGkjqK/rsri1xStor9/Uu6rWvKiv0Iy9yEQzpm/z0g8VTykm7/swUGwoduiv89IPFU8pJu/z0g8VTykm7+uyuLXFK2iv67K4tcUraK/rsri1xStor8NIH0zLj+hvw0gfTMuP6G/Vl3oMGraqL8LGVNPEPGdvwsZU08Q8Z2/HNsU3umUmb8+JnUBpI6ivxzbFN7plJm/wK2rkdcgkL/ArauR1yCQv8sp6Ev9fIK/yynoS/18gr/LKehL/XyCv/jDeDpBvXG/SjbrQKnip79KNutAqeKnvwsZU08Q8Z2/Vl3oMGraqL8UcxRnehmAvz4mdQGkjqK/PiZ1AaSOor8+JnUBpI6ivxCD5jZVKYm/EIPmNlUpib9EFBJzOxWQv0QUEnM7FZC/RBQSczsVkL9EFBJzOxWQv0QUEnM7FZC/RBQSczsVkL9EFBJzOxWQv5ibWOytxnW/PiZ1AaSOor8+JnUBpI6ivz4mdQGkjqK/PiZ1AaSOor+AZGN/wwCgv4BkY3/DAKC/RBQSczsVkL9EFBJzOxWQvxRzFGd6GYC/SjbrQKnip783RwuwTvWmv67K4tcUraK/xUyc0bOrmr8NIH0zLj+hvwsZU08Q8Z2/KaDt/7hOor8poO3/uE6ivwsZU08Q8Z2/CxlTTxDxnb8Qg+Y2VSmJv5ibWOytxnW/87EtqA8Bp7/eH5EmtRajv94fkSa1FqO/3h+RJrUWo7/eH5EmtRajv94fkSa1FqO/Vl3oMGraqL/swUGwoduiv4yyYG2SWoi/jLJgbZJaiL+MsmBtklqIv4yyYG2SWoi/jLJgbZJaiL+MsmBtklqIvxzbFN7plJm/z0g8VTykm78EW14oqLORv39S7qta8qK/f1Luq1ryor9KNutAqeKnv0o260Cp4qe/SjbrQKnip79KNutAqeKnv0o260Cp4qe/SjbrQKnip78NIH0zLj+hvwb71zLQipu/zDP4NBixpL9EFBJzOxWQv89IPFU8pJu/z0g8VTykm78efBGTjSGTvx58EZONIZO/HNsU3umUmb8udFNF7hCUvxRzFGd6GYC/FHMUZ3oZgL8UcxRnehmAv3jmRpjQl6m/eOZGmNCXqb8Qg+Y2VSmJvxCD5jZVKYm/RBQSczsVkL9EFBJzOxWQv0QUEnM7FZC/xUyc0bOrmr/FTJzRs6uav+zBQbCh26K/rsri1xStor9EFBJzOxWQv5wYvQodmYm/jLJgbZJaiL/LKehL/XyCv5ibWOytxnW/rsri1xStor/FTJzRs6uav7QEmWWi95K/WEHpI66hlr+kUgmUNa2CvzATRTUW/Im/MBNFNRb8ib8wE0U1FvyJvzATRTUW/Im/7MFBsKHbor/swUGwoduiv+zBQbCh26K/7MFBsKHbor8c2xTe6ZSZv5ibWOytxnW/f1Luq1ryor+uyuLXFK2ivz4mdQGkjqK/9AWEsf1lnb8+JnUBpI6ivz4mdQGkjqK/PiZ1AaSOor8+JnUBpI6ivz4mdQGkjqK/PiZ1AaSOor+6rolRrxmYv39S7qta8qK/PiZ1AaSOor+uk0ETCZWkvz4mdQGkjqK/QjL3IRDOmb9CMvchEM6ZvxCD5jZVKYm/rsri1xStor/zsS2oDwGnv5wYvQodmYm/FHMUZ3oZgL/oEQwMCbhXv8wz+DQYsaS/zDP4NBixpL+2ohKjNYuSv+zBQbCh26K/7MFBsKHbor/LKehL/XyCvxRzFGd6GYC/FHMUZ3oZgL8UcxRnehmAv1tfmpHcmKS/RBQSczsVkL/ArauR1yCQv8Ctq5HXIJC/gGRjf8MAoL+AZGN/wwCgv4BkY3/DAKC/mJtY7K3Gdb/zsS2oDwGnv0QUEnM7FZC/1CCNHn64ob8Qg+Y2VSmJvxCD5jZVKYm/ACOWQRL0nr8AI5ZBEvSevwAjlkES9J6/SjbrQKnip7+2ohKjNYuSv7aiEqM1i5K/PiZ1AaSOor9EFBJzOxWQvzdHC7BO9aa/z0g8VTykm7/PSDxVPKSbv2i3OGf58lS/7MFBsKHbor9CSGi7Rvufv0JIaLtG+5+/wK2rkdcgkL/ArauR1yCQv1yNadgEFY+/rC03dQo4g79WXegwatqov1Zd6DBq2qi/3jkvYOgypr/eOS9g6DKmv945L2DoMqa/eOZGmNCXqb+kUgmUNa2Cv/QFhLH9ZZ2/9AWEsf1lnb/0BYSx/WWdv/QFhLH9ZZ2/9AWEsf1lnb/0BYSx/WWdv7QEmWWi95K/Vl3oMGraqL8LGVNPEPGdv1Zd6DBq2qi/Vl3oMGraqL9WXegwatqov67K4tcUraK/3jkvYOgypr8Qg+Y2VSmJvxCD5jZVKYm/SjbrQKnip7+sSopcfyOivxCD5jZVKYm/Vl3oMGraqL8m92qxjQSgv0QUEnM7FZC/CBLfVtI+f79WXegwatqov1Zd6DBq2qi/c3ZZA+xrp78wE0U1FvyJv67K4tcUraK/PiZ1AaSOor8G+9cy0Iqbv1Zd6DBq2qi/tASZZaL3kr+kUgmUNa2Cv6RSCZQ1rYK/PiZ1AaSOor8+JnUBpI6ivxCD5jZVKYm/EIPmNlUpib9WXegwatqov1Zd6DBq2qi/rsri1xStor94UIPYKlONvwhGzSOCeYy/Vl3oMGraqL9eNa8SdfaXvz4mdQGkjqK/9AWEsf1lnb+0BJlloveSv5ibWOytxnW/mJtY7K3Gdb9KNutAqeKnv7aiEqM1i5K/jLJgbZJaiL/3ifIxxZynv+zBQbCh26K/7MFBsKHbor9KNutAqeKnvwRbXiios5G/BFteKKizkb9KNutAqeKnvz4mdQGkjqK/PiZ1AaSOor/PSDxVPKSbv89IPFU8pJu/MBNFNRb8ib8wE0U1FvyJvw0gfTMuP6G/7MFBsKHbor/swUGwoduiv1Zd6DBq2qi/lgaLV9xakr+WBotX3FqSv4yyYG2SWoi/WEHpI66hlr+6rolRrxmYv1Zd6DBq2qi/Vl3oMGraqL+kUgmUNa2Cv0QUEnM7FZC/pFIJlDWtgr9EFBJzOxWQvwAjlkES9J6/pFIJlDWtgr+kUgmUNa2Cv1hB6SOuoZa/WEHpI66hlr8AI5ZBEvSevwAjlkES9J6/ACOWQRL0nr9pgTS18gacvxzbFN7plJm/HNsU3umUmb86E+Ok51KpvzoT46TnUqm/OhPjpOdSqb+MzlqyBEeMv+zBQbCh26K/CEbNI4J5jL9WXegwatqov1Zd6DBq2qi/Vl3oMGraqL+Ym1jsrcZ1v1Zd6DBq2qi/KaDt/7hOor/eOS9g6DKmvwRbXiios5G/W1+akdyYpL+uyuLXFK2iv6RHnRYCwKO/WEHpI66hlr9YQekjrqGWv1hB6SOuoZa/WEHpI66hlr9YQekjrqGWvwsZU08Q8Z2/KaDt/7hOor8udFNF7hCUvwAjlkES9J6/nBi9Ch2Zib9CVkogP7uRv0JWSiA/u5G/W1+akdyYpL+AtRxnLFaevwAjlkES9J6/ACOWQRL0nr+MzlqyBEeMv0Iy9yEQzpm/QjL3IRDOmb8grYjP/stbv7QEmWWi95K//QcnYzLnlr/3jnnyLSuIvw==",
          "dtype": "f8"
         },
         "y0": " ",
         "yaxis": "y5"
        }
       ],
       "layout": {
        "annotations": [
         {
          "font": {
           "size": 16
          },
          "showarrow": false,
          "text": "D1N1_energy_transfert energy_transfert",
          "x": 0.13333333333333333,
          "xanchor": "center",
          "xref": "paper",
          "y": 1,
          "yanchor": "bottom",
          "yref": "paper"
         },
         {
          "font": {
           "size": 16
          },
          "showarrow": false,
          "text": "D1N1_lambda_temperature_0",
          "x": 0.5,
          "xanchor": "center",
          "xref": "paper",
          "y": 1,
          "yanchor": "bottom",
          "yref": "paper"
         },
         {
          "font": {
           "size": 16
          },
          "showarrow": false,
          "text": "D1N1_gamma_lambda_temperature",
          "x": 0.8666666666666667,
          "xanchor": "center",
          "xref": "paper",
          "y": 1,
          "yanchor": "bottom",
          "yref": "paper"
         },
         {
          "font": {
           "size": 16
          },
          "showarrow": false,
          "text": "D1N1_tr_0",
          "x": 0.13333333333333333,
          "xanchor": "center",
          "xref": "paper",
          "y": 0.45,
          "yanchor": "bottom",
          "yref": "paper"
         },
         {
          "font": {
           "size": 16
          },
          "showarrow": false,
          "text": "D1N1_gamma_tr",
          "x": 0.5,
          "xanchor": "center",
          "xref": "paper",
          "y": 0.45,
          "yanchor": "bottom",
          "yref": "paper"
         }
        ],
        "height": 600,
        "template": {
         "data": {
          "bar": [
           {
            "error_x": {
             "color": "#2a3f5f"
            },
            "error_y": {
             "color": "#2a3f5f"
            },
            "marker": {
             "line": {
              "color": "#E5ECF6",
              "width": 0.5
             },
             "pattern": {
              "fillmode": "overlay",
              "size": 10,
              "solidity": 0.2
             }
            },
            "type": "bar"
           }
          ],
          "barpolar": [
           {
            "marker": {
             "line": {
              "color": "#E5ECF6",
              "width": 0.5
             },
             "pattern": {
              "fillmode": "overlay",
              "size": 10,
              "solidity": 0.2
             }
            },
            "type": "barpolar"
           }
          ],
          "carpet": [
           {
            "aaxis": {
             "endlinecolor": "#2a3f5f",
             "gridcolor": "white",
             "linecolor": "white",
             "minorgridcolor": "white",
             "startlinecolor": "#2a3f5f"
            },
            "baxis": {
             "endlinecolor": "#2a3f5f",
             "gridcolor": "white",
             "linecolor": "white",
             "minorgridcolor": "white",
             "startlinecolor": "#2a3f5f"
            },
            "type": "carpet"
           }
          ],
          "choropleth": [
           {
            "colorbar": {
             "outlinewidth": 0,
             "ticks": ""
            },
            "type": "choropleth"
           }
          ],
          "contour": [
           {
            "colorbar": {
             "outlinewidth": 0,
             "ticks": ""
            },
            "colorscale": [
             [
              0,
              "#0d0887"
             ],
             [
              0.1111111111111111,
              "#46039f"
             ],
             [
              0.2222222222222222,
              "#7201a8"
             ],
             [
              0.3333333333333333,
              "#9c179e"
             ],
             [
              0.4444444444444444,
              "#bd3786"
             ],
             [
              0.5555555555555556,
              "#d8576b"
             ],
             [
              0.6666666666666666,
              "#ed7953"
             ],
             [
              0.7777777777777778,
              "#fb9f3a"
             ],
             [
              0.8888888888888888,
              "#fdca26"
             ],
             [
              1,
              "#f0f921"
             ]
            ],
            "type": "contour"
           }
          ],
          "contourcarpet": [
           {
            "colorbar": {
             "outlinewidth": 0,
             "ticks": ""
            },
            "type": "contourcarpet"
           }
          ],
          "heatmap": [
           {
            "colorbar": {
             "outlinewidth": 0,
             "ticks": ""
            },
            "colorscale": [
             [
              0,
              "#0d0887"
             ],
             [
              0.1111111111111111,
              "#46039f"
             ],
             [
              0.2222222222222222,
              "#7201a8"
             ],
             [
              0.3333333333333333,
              "#9c179e"
             ],
             [
              0.4444444444444444,
              "#bd3786"
             ],
             [
              0.5555555555555556,
              "#d8576b"
             ],
             [
              0.6666666666666666,
              "#ed7953"
             ],
             [
              0.7777777777777778,
              "#fb9f3a"
             ],
             [
              0.8888888888888888,
              "#fdca26"
             ],
             [
              1,
              "#f0f921"
             ]
            ],
            "type": "heatmap"
           }
          ],
          "histogram": [
           {
            "marker": {
             "pattern": {
              "fillmode": "overlay",
              "size": 10,
              "solidity": 0.2
             }
            },
            "type": "histogram"
           }
          ],
          "histogram2d": [
           {
            "colorbar": {
             "outlinewidth": 0,
             "ticks": ""
            },
            "colorscale": [
             [
              0,
              "#0d0887"
             ],
             [
              0.1111111111111111,
              "#46039f"
             ],
             [
              0.2222222222222222,
              "#7201a8"
             ],
             [
              0.3333333333333333,
              "#9c179e"
             ],
             [
              0.4444444444444444,
              "#bd3786"
             ],
             [
              0.5555555555555556,
              "#d8576b"
             ],
             [
              0.6666666666666666,
              "#ed7953"
             ],
             [
              0.7777777777777778,
              "#fb9f3a"
             ],
             [
              0.8888888888888888,
              "#fdca26"
             ],
             [
              1,
              "#f0f921"
             ]
            ],
            "type": "histogram2d"
           }
          ],
          "histogram2dcontour": [
           {
            "colorbar": {
             "outlinewidth": 0,
             "ticks": ""
            },
            "colorscale": [
             [
              0,
              "#0d0887"
             ],
             [
              0.1111111111111111,
              "#46039f"
             ],
             [
              0.2222222222222222,
              "#7201a8"
             ],
             [
              0.3333333333333333,
              "#9c179e"
             ],
             [
              0.4444444444444444,
              "#bd3786"
             ],
             [
              0.5555555555555556,
              "#d8576b"
             ],
             [
              0.6666666666666666,
              "#ed7953"
             ],
             [
              0.7777777777777778,
              "#fb9f3a"
             ],
             [
              0.8888888888888888,
              "#fdca26"
             ],
             [
              1,
              "#f0f921"
             ]
            ],
            "type": "histogram2dcontour"
           }
          ],
          "mesh3d": [
           {
            "colorbar": {
             "outlinewidth": 0,
             "ticks": ""
            },
            "type": "mesh3d"
           }
          ],
          "parcoords": [
           {
            "line": {
             "colorbar": {
              "outlinewidth": 0,
              "ticks": ""
             }
            },
            "type": "parcoords"
           }
          ],
          "pie": [
           {
            "automargin": true,
            "type": "pie"
           }
          ],
          "scatter": [
           {
            "fillpattern": {
             "fillmode": "overlay",
             "size": 10,
             "solidity": 0.2
            },
            "type": "scatter"
           }
          ],
          "scatter3d": [
           {
            "line": {
             "colorbar": {
              "outlinewidth": 0,
              "ticks": ""
             }
            },
            "marker": {
             "colorbar": {
              "outlinewidth": 0,
              "ticks": ""
             }
            },
            "type": "scatter3d"
           }
          ],
          "scattercarpet": [
           {
            "marker": {
             "colorbar": {
              "outlinewidth": 0,
              "ticks": ""
             }
            },
            "type": "scattercarpet"
           }
          ],
          "scattergeo": [
           {
            "marker": {
             "colorbar": {
              "outlinewidth": 0,
              "ticks": ""
             }
            },
            "type": "scattergeo"
           }
          ],
          "scattergl": [
           {
            "marker": {
             "colorbar": {
              "outlinewidth": 0,
              "ticks": ""
             }
            },
            "type": "scattergl"
           }
          ],
          "scattermap": [
           {
            "marker": {
             "colorbar": {
              "outlinewidth": 0,
              "ticks": ""
             }
            },
            "type": "scattermap"
           }
          ],
          "scattermapbox": [
           {
            "marker": {
             "colorbar": {
              "outlinewidth": 0,
              "ticks": ""
             }
            },
            "type": "scattermapbox"
           }
          ],
          "scatterpolar": [
           {
            "marker": {
             "colorbar": {
              "outlinewidth": 0,
              "ticks": ""
             }
            },
            "type": "scatterpolar"
           }
          ],
          "scatterpolargl": [
           {
            "marker": {
             "colorbar": {
              "outlinewidth": 0,
              "ticks": ""
             }
            },
            "type": "scatterpolargl"
           }
          ],
          "scatterternary": [
           {
            "marker": {
             "colorbar": {
              "outlinewidth": 0,
              "ticks": ""
             }
            },
            "type": "scatterternary"
           }
          ],
          "surface": [
           {
            "colorbar": {
             "outlinewidth": 0,
             "ticks": ""
            },
            "colorscale": [
             [
              0,
              "#0d0887"
             ],
             [
              0.1111111111111111,
              "#46039f"
             ],
             [
              0.2222222222222222,
              "#7201a8"
             ],
             [
              0.3333333333333333,
              "#9c179e"
             ],
             [
              0.4444444444444444,
              "#bd3786"
             ],
             [
              0.5555555555555556,
              "#d8576b"
             ],
             [
              0.6666666666666666,
              "#ed7953"
             ],
             [
              0.7777777777777778,
              "#fb9f3a"
             ],
             [
              0.8888888888888888,
              "#fdca26"
             ],
             [
              1,
              "#f0f921"
             ]
            ],
            "type": "surface"
           }
          ],
          "table": [
           {
            "cells": {
             "fill": {
              "color": "#EBF0F8"
             },
             "line": {
              "color": "white"
             }
            },
            "header": {
             "fill": {
              "color": "#C8D4E3"
             },
             "line": {
              "color": "white"
             }
            },
            "type": "table"
           }
          ]
         },
         "layout": {
          "annotationdefaults": {
           "arrowcolor": "#2a3f5f",
           "arrowhead": 0,
           "arrowwidth": 1
          },
          "autotypenumbers": "strict",
          "coloraxis": {
           "colorbar": {
            "outlinewidth": 0,
            "ticks": ""
           }
          },
          "colorscale": {
           "diverging": [
            [
             0,
             "#8e0152"
            ],
            [
             0.1,
             "#c51b7d"
            ],
            [
             0.2,
             "#de77ae"
            ],
            [
             0.3,
             "#f1b6da"
            ],
            [
             0.4,
             "#fde0ef"
            ],
            [
             0.5,
             "#f7f7f7"
            ],
            [
             0.6,
             "#e6f5d0"
            ],
            [
             0.7,
             "#b8e186"
            ],
            [
             0.8,
             "#7fbc41"
            ],
            [
             0.9,
             "#4d9221"
            ],
            [
             1,
             "#276419"
            ]
           ],
           "sequential": [
            [
             0,
             "#0d0887"
            ],
            [
             0.1111111111111111,
             "#46039f"
            ],
            [
             0.2222222222222222,
             "#7201a8"
            ],
            [
             0.3333333333333333,
             "#9c179e"
            ],
            [
             0.4444444444444444,
             "#bd3786"
            ],
            [
             0.5555555555555556,
             "#d8576b"
            ],
            [
             0.6666666666666666,
             "#ed7953"
            ],
            [
             0.7777777777777778,
             "#fb9f3a"
            ],
            [
             0.8888888888888888,
             "#fdca26"
            ],
            [
             1,
             "#f0f921"
            ]
           ],
           "sequentialminus": [
            [
             0,
             "#0d0887"
            ],
            [
             0.1111111111111111,
             "#46039f"
            ],
            [
             0.2222222222222222,
             "#7201a8"
            ],
            [
             0.3333333333333333,
             "#9c179e"
            ],
            [
             0.4444444444444444,
             "#bd3786"
            ],
            [
             0.5555555555555556,
             "#d8576b"
            ],
            [
             0.6666666666666666,
             "#ed7953"
            ],
            [
             0.7777777777777778,
             "#fb9f3a"
            ],
            [
             0.8888888888888888,
             "#fdca26"
            ],
            [
             1,
             "#f0f921"
            ]
           ]
          },
          "colorway": [
           "#636efa",
           "#EF553B",
           "#00cc96",
           "#ab63fa",
           "#FFA15A",
           "#19d3f3",
           "#FF6692",
           "#B6E880",
           "#FF97FF",
           "#FECB52"
          ],
          "font": {
           "color": "#2a3f5f"
          },
          "geo": {
           "bgcolor": "white",
           "lakecolor": "white",
           "landcolor": "#E5ECF6",
           "showlakes": true,
           "showland": true,
           "subunitcolor": "white"
          },
          "hoverlabel": {
           "align": "left"
          },
          "hovermode": "closest",
          "mapbox": {
           "style": "light"
          },
          "paper_bgcolor": "white",
          "plot_bgcolor": "#E5ECF6",
          "polar": {
           "angularaxis": {
            "gridcolor": "white",
            "linecolor": "white",
            "ticks": ""
           },
           "bgcolor": "#E5ECF6",
           "radialaxis": {
            "gridcolor": "white",
            "linecolor": "white",
            "ticks": ""
           }
          },
          "scene": {
           "xaxis": {
            "backgroundcolor": "#E5ECF6",
            "gridcolor": "white",
            "gridwidth": 2,
            "linecolor": "white",
            "showbackground": true,
            "ticks": "",
            "zerolinecolor": "white"
           },
           "yaxis": {
            "backgroundcolor": "#E5ECF6",
            "gridcolor": "white",
            "gridwidth": 2,
            "linecolor": "white",
            "showbackground": true,
            "ticks": "",
            "zerolinecolor": "white"
           },
           "zaxis": {
            "backgroundcolor": "#E5ECF6",
            "gridcolor": "white",
            "gridwidth": 2,
            "linecolor": "white",
            "showbackground": true,
            "ticks": "",
            "zerolinecolor": "white"
           }
          },
          "shapedefaults": {
           "line": {
            "color": "#2a3f5f"
           }
          },
          "ternary": {
           "aaxis": {
            "gridcolor": "white",
            "linecolor": "white",
            "ticks": ""
           },
           "baxis": {
            "gridcolor": "white",
            "linecolor": "white",
            "ticks": ""
           },
           "bgcolor": "#E5ECF6",
           "caxis": {
            "gridcolor": "white",
            "linecolor": "white",
            "ticks": ""
           }
          },
          "title": {
           "x": 0.05
          },
          "xaxis": {
           "automargin": true,
           "gridcolor": "white",
           "linecolor": "white",
           "ticks": "",
           "title": {
            "standoff": 15
           },
           "zerolinecolor": "white",
           "zerolinewidth": 2
          },
          "yaxis": {
           "automargin": true,
           "gridcolor": "white",
           "linecolor": "white",
           "ticks": "",
           "title": {
            "standoff": 15
           },
           "zerolinecolor": "white",
           "zerolinewidth": 2
          }
         }
        },
        "title": {
         "text": "Parameters distribution"
        },
        "width": 900,
        "xaxis": {
         "anchor": "y",
         "domain": [
          0,
          0.26666666666666666
         ]
        },
        "xaxis2": {
         "anchor": "y2",
         "domain": [
          0.3666666666666667,
          0.6333333333333333
         ]
        },
        "xaxis3": {
         "anchor": "y3",
         "domain": [
          0.7333333333333334,
          1
         ]
        },
        "xaxis4": {
         "anchor": "y4",
         "domain": [
          0,
          0.26666666666666666
         ]
        },
        "xaxis5": {
         "anchor": "y5",
         "domain": [
          0.3666666666666667,
          0.6333333333333333
         ]
        },
        "xaxis6": {
         "anchor": "y6",
         "domain": [
          0.7333333333333334,
          1
         ]
        },
        "yaxis": {
         "anchor": "x",
         "domain": [
          0.55,
          1
         ]
        },
        "yaxis2": {
         "anchor": "x2",
         "domain": [
          0.55,
          1
         ]
        },
        "yaxis3": {
         "anchor": "x3",
         "domain": [
          0.55,
          1
         ]
        },
        "yaxis4": {
         "anchor": "x4",
         "domain": [
          0,
          0.45
         ]
        },
        "yaxis5": {
         "anchor": "x5",
         "domain": [
          0,
          0.45
         ]
        },
        "yaxis6": {
         "anchor": "x6",
         "domain": [
          0,
          0.45
         ]
        }
       }
      }
     },
     "metadata": {},
     "output_type": "display_data"
    }
   ],
   "source": [
    "fig = viewer.box_plot(3, nbest=500)\n",
    "fig.show()"
   ]
  },
  {
   "cell_type": "code",
   "execution_count": 23,
   "metadata": {},
   "outputs": [
    {
     "name": "stderr",
     "output_type": "stream",
     "text": [
      "/Users/adm-lehodey/Documents/Workspace/Projects/Seapopym-optimisation/.venv/lib/python3.13/site-packages/sklearn/preprocessing/_data.py:2829: UserWarning: n_quantiles (1000) is greater than the total number of samples (500). n_quantiles is set to n_samples.\n",
      "  warnings.warn(\n"
     ]
    },
    {
     "data": {
      "application/vnd.plotly.v1+json": {
       "config": {
        "plotlyServerURL": "https://plot.ly"
       },
       "data": [
        {
         "dimensions": [
          {
           "label": "D1N1_energy_transfert energy_transfert",
           "range": [
            0.001,
            0.5
           ],
           "values": {
            "bdata": "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",
            "dtype": "f8"
           }
          },
          {
           "label": "D1N1_lambda_temperature_0",
           "range": [
            0,
            1
           ],
           "values": {
            "bdata": "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",
            "dtype": "f8"
           }
          },
          {
           "label": "D1N1_gamma_lambda_temperature",
           "range": [
            0,
            0.5
           ],
           "values": {
            "bdata": "AAAAZP09oD8AAADIUGOqPwAAAACtL0k/AAAAyFBjqj8AAAAY75esPwAAAACtL0k/AAAAAEGBlj+A//3hx8tnPwAAAABBgZY/AAAAAEGBlj8AAAAArS9JPwAAAJAGD5g/AAAAkAYPmD8AAAAAhs9dPwDUHjoQdz8/AAAAaB6Tvj8AAAAArS9JPwAAAHA2sK4/AAAAUK41hz8AAAAArS9JPwAAAABBgZY/AAAAcDawrj8AAABk/T2gPwAAAGT9PaA/wLd/VmQagj8AAADgy6mRPwAAAGT9PaA/AAAAkAYPmD8g8sB8LZCWPwAAAJAGD5g/AAAAyFBjqj8AAADgQlJ0PyDywHwtkJY/AAAAZP09oD8g8sB8LZCWPyDywHwtkJY/IPLAfC2Qlj/AC+uGCy+QPwAAAGT9PaA/AAAAkAYPmD8AAADIUGOqPwAAAJAGD5g/AAAAkAYPmD8AAAAljvXFP7Ci91bbQ6o/sKL3VttDqj8AAABoHpO+PwAAAABzJK0/AAAAkAYPmD8AAABQrjWHPwAAAJiGcJM/AAAA4MupkT8AAADgy6mRPwAAAFCuNYc/AAAA4MupkT8AAABwNrCuPwAAAGgek74/AAAAAEGBlj8AAACQBg+YPwAAAODLqZE/IPLAfC2Qlj8g8sB8LZCWPwAAAABzJK0/AAAAAK0vST9AxInXQTV3P8C3f1ZkGoI/AAAAAEGBlj8AAACQBg+YPyDywHwtkJY/AAAAkAYPmD8AAABoHpO+PwAAADBg34I/AAAAAEGBlj8AAAAArS9JPwAAAODLqZE/AAAAAEGBlj8g8sB8LZCWPwAAAJAGD5g/wLd/VmQagj8AAAAArS9JPwAAAGT9PaA/AAAAMJxtnz8AAABk/T2gPwAAAABBgZY/AAAAAIbPXT8AAACQBg+YPwAAAODLqZE/AAAAAK0vST8AAAAAQYGWPwAAAABBgZY/AAAAnC1xqz8AAAAAQYGWPwAAAABBgZY/AAAAAEGBlj8AAAAAQYGWPwAAAABBgZY/AAAAIN6Hfz8AAAAAQYGWPwAAAABBgZY/AAAAAK0vST8AAAAwnG2fPwAAAABBgZY/AAAAMJxtnz8AAAA4nXW3PwAAADiddbc/AAAAAEGBlj8AAAAAhs9dPwAAAABBgZY/AAAAAEGBlj8AAAAAQYGWPwAAAABBgZY/AAAAkAYPmD8AAACgYfqaPwAAADiddbc/AAAAkAYPmD8AAAA0bQCmP4D//eHHy2c/gP/94cfLZz8AAAAAQYGWPwAAAGgek74/AAAAaB6Tvj8AAACs3nqnPwAAAGgek74/AAAAoGH6mj8AAACgYfqaPwAAAKBh+po/AAAAoGH6mj8AAABEKJSlPwAAAABBgZY/AAAAAEGBlj8AAADgQlJ0PwAAAOBCUnQ/AAAAAEGBlj8AAADgQlJ0PwAAAOBCUnQ/AAAANG0Apj8AAAB+IY6wPwAAADRtAKY/AAAAoGH6mj8AAAAg3od/PwAAAACGz10/AAAANG0Apj8AAAC0nymkPwAAADRtAKY/AAAAxbpswD8g8sB8LZCWPwAAAACtL0k/AAAAkAYPmD8AAADgQlJ0PwAAAACGz10/AAAA4EJSdD+A//3hx8tnPwAAAOBCUnQ/gP/94cfLZz8AAAA0bQCmPwAAAGTQwaU/AAAANG0Apj8AAABEKJSlPwAAAOBCUnQ/AAAAAEGBlj8AAABoHpO+PwAAAGgek74/AAAAoGH6mj8AAABQrjWHPwAAAGgek74/AAAAAEGBlj8AAACQBg+YPwAAAEQolKU/AAAAAK0vST8AAAAAQYGWPwAAAJAGD5g/AAAAZP09oD8AAABk/T2gPwAAAGT9PaA/AAAAAK0vST8AAAAAhs9dPwAAAH4hjrA/UNakueqFkz8AgJQ2ej1bPwAAAGgek74/AAAAAIbPXT8AAADgQlJ0PwCAlDZ6PVs/AAAAkAYPmD8AAACQBg+YPwAAAABBgZY/AAAAAEGBlj8AAAAAQYGWPwAAADCcbZ8/AAAAaB6Tvj8AAADcDNa0PwAAAGT9PaA/AAAAkAYPmD8AAABoHpO+PwAAAABBgZY/AAAAAEGBlj8AAAAAQYGWPwAAAOBCUnQ/AAAAjI8wvT8AAABk/T2gPwAAAABBgZY/AAAAAEGBlj8AAACQBg+YPwAAAABBgZY/AAAAAEGBlj+g3LvddzOlPwAAACDeh38/AAAA4MupkT8AAADgy6mRPwAAAODLqZE/AAAAAEGBlj8AAAAAPmNgPwAAAPxOR6E/AAAAAEGBlj8AAAAwnG2fPwAAADCcbZ8/wLd/VmQagj8AAAAwnG2fP/gD7Q1Xk6E/AAAAZP09oD8AAAAwXc+jPwAAADCcbZ8/4GZUuz+blT+wovdW20OqP7Ci91bbQ6o/sKL3VttDqj8AAABg71GvP7Ci91bbQ6o/AAAAwNLgYT8AAAAAQYGWPwAAAFCuNYc/AAAAUK41hz8AAADAnAF2PyDywHwtkJY/AAAAwNLgYT8AAADA0uBhPwAAAC6iaLk/AAAA0Kxckz8AAACQBg+YPwAAAACGz10/AAAAfiGOsD8AAAAAhs9dPwAAAC6iaLk/AAAAkAYPmD8AAABQrjWHPwAAAC6iaLk/AAAAAEGBlj8AAABQrjWHPwAAANCsXJM/AAAAAD5jYD8AAAAAcyStPwAAAODLqZE/AAAAUK41hz8AAABk/T2gPwAAAABBgZY/AAAAAEGBlj8AAAAAcyStPwAAAABBgZY/AAAA0Kxckz8AAABQrjWHPwAAABS4qaM/AAAAAEGBlj8AAAAAQYGWP4BXZxn/vmE/gFdnGf++YT/At39WZBqCPwAAAJAGD5g/AAAALqJouT+AV2cZ/75hP/C863BtyJg/AAAAoGH6mj8AAACgYfqaPwAAADCcbZ8/AAAAfiGOsD/QcEFGNSKfP9BwQUY1Ip8/AAAAfiGOsD8AAAB+IY6wPwAAAH4hjrA/AAAAfiGOsD8AAAB+IY6wPwAAAJC7ZIk/0HBBRjUinz8AAACgYfqaPwAAAOQtt6g/AAAA4r47vT8AAAB+IY6wPwAAADD7OoM/8LzrcG3ImD+wovdW20OqPwAAAGT9PaA/sKL3VttDqj8AAABk/T2gPwAAAGT9PaA/AAAAZP09oD8AgJQ2ej1bPwAAAJAGD5g/AAAAIN6Hfz8AAAAg3od/PwAAACDeh38/AAAAIN6Hfz8AAAAg3od/PwAAACDeh38/AAAAkAYPmD8AAAAg3od/P/C863BtyJg/8LzrcG3ImD8AAAAg3od/P/C863BtyJg/AAAAQOJDeT/QcEFGNSKfPwAAACDeh38/AAAAMJxtnz8AAABk/T2gPwAAAMDS4GE/AAAAFLipoz8AAAAAhs9dPyDywHwtkJY/AAAAMJxtnz8AAAAUuKmjPwAAABS4qaM/AAAA5C23qD/gZlS7P5uVPwAAAGT9PaA/AAAARCiUpT8AAABEKJSlPwAAAKBh+po/AAAAAEGBlj8AAABEKJSlPwAAADRtAKY/AAAAAEGBlj8AAABk/T2gPwAAAFCuNYc/WMDr0P1ipz8AAABEKJSlPwAAADCcbZ8/AAAARCiUpT8AAACod6G1PwAAAFCuNYc/AAAA6IXKrz8AAAAUuKmjPwAAABS4qaM/AAAAFLipoz8AAAAUuKmjPwAAABS4qaM/AAAAfiGOsD8AAAAUuKmjP/gD7Q1Xk6E/AAAAnlDzsz8AAAA0bQCmPwAAANwxALA/AAAAAIbPXT8AAABk/T2gPwAAAGT9PaA/AAAAZP09oD+wovdW20OqPwAAAACGz10/AAAAwJzhmD/QqHBa6Z6gPwAAAJmricA/AAAAcIwnnz8AgJQ2ej1bPwAAAH4hjrA/0HBBRjUinz8AAAD0xMi3PwAAABS4qaM/AAAAjQO/wT8AAAAAQYGWPwAAAMrndLs/AAAAzJ/vpz8AAAAAQYGWPwAAAGgek74/AAAAfiGOsD8AAABQrjWHPwAAAGIuq7Q/AAAAYi6rtD8AAABQrjWHPwAAAGT9PaA/AAAAaB6Tvj8AAABoHpO+PwAAABjvl6w/AAAAkMWDiz8AAACod6G1PwAAAJDFg4s/sKL3VttDqj8AAAAAyM/DPwAAAHEEdck/SmAZQ1ny0j/QIeY6UsfBPwAAAGgek74/SmAZQ1ny0j8AAADnpafXPwAAAHk4Ytk/AACAC3E80D8AAIALcTzQPwAAAAkw/Ns/AACAC3E80D8AAAAxKWzIPwAAAHEEdck/AAAAcEZG2z8OdE2GIQXOPwAAAGgek74/WLYjhWzRwT8AAIB76/DSP0pgGUNZ8tI/AAAAMSlsyD8AAAC32lPTPwAAALfaU9M/bh1275Xywj8AAAAxKWzIPwAAACbU4Nk/AAAAMSlsyD/wdjdvevLCPwAAABqewtE/AAAAt9pT0z8AAACDcWLdP/B2N2968sI/AAAAGp7C0T8AAACTge3VP0pgGUNZ8tI/AAAAcEZG2z8AAAAQLAXRPwAAgMLZ6tw/AAAAncFu3D8AAAAc0AemPwAAAC6iaLk/AAAAg3Fi3T8AAICID3ndPwAAAINxYt0/AAAAg3Fi3T8AAIDya7DWPwAAABqewtE/AAAABy9pwj8AAIDya7DWPwAAAGTvPsw/AAAAZO8+zD8eaomRD9jGPzyWg+Ssecc/AAAASH6zzj8AAABIfrPOPwAAAEwmF9o/AAAATCYX2j8AAABIfrPOPwAAAEh+s84/AAAASH6zzj8AAABIfrPOPwAAgMLZ6tw/AAAAJtTg2T8AAAAAcyStPwAAAPPrrt8/8HY3b3rywj8AAICn62XfPwAAAB7AY7o/8HY3b3rywj8AAAAuomi5PwAAAGgek74/AACAVih42z8AAIBWKHjbPwAAAAaTHso/AAAARO131T8AAICI3NTUPwAAgD/aDd4/AAAAt9pT0z8AAAC32lPTPwAAAGPCC9g/AAAAt9pT0z8AAABoHpO+PwAAAABzJK0/AACAzRmS3D8AAAAAyM/DPwAAAHEEdck/AAAAig9G3z8AAAAxKWzIPwAAALfaU9M/AAAAsiVy3j8AAABwRkbbPwAAgD/aDd4/AACA4v2O3j8AAIA/2g3ePwAAAC6iaLk/AAAA8+uu3z8AAADz667fPwAAALIlct4/4nKJ4KoExD8AAABwRkbbPwAAANdGJMQ/AAAA10YkxD8AAADXRiTEPwAAAFqYWss/AAAA8sMIzj8AAADDIqvFPwAAAEh+s84/AAAA8sMIzj8AAACYwF6sPziiwIExzbw/AAAAaB6Tvj8AAAD6lYrdPwAAANdGJMQ/AAAAcEZG2z8AAABwRkbbPw==",
            "dtype": "f8"
           }
          },
          {
           "label": "D1N1_tr_0",
           "range": [
            0,
            50
           ],
           "values": {
            "bdata": "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",
            "dtype": "f8"
           }
          },
          {
           "label": "D1N1_gamma_tr",
           "range": [
            -0.05,
            -0.001
           ],
           "values": {
            "bdata": "3iQGbXcwlL+wR+GyJ7KJv5DC9d78r6e/+n5qM/M/pr8gXI8ip/VWv5DC9d78r6e/DCqOysIKkL+q8dK3zH6kvwwqjsrCCpC/gOf7iS5ZWr/0/dTtFNanvwwqjsrCCpC/3iQGbXcwlL+oxkuzgkOmv4Dn+4kuWVq/Rus/s2wchL9h5dAE8AKVv+bQIo7dPqW/IbByTraApr+A5/uJLllav710kzhKJJi/5tAijt0+pb+cxCA+DveZv9Z46QR+TZi/YeXQBPAClb9wEoM8v2qCv5zEID4O95m/YxBYc9Lqo7+QwvXe/K+nv6rx0rfMfqS/sEfhsieyib86S1QzKUiQv7tJDGNsC6O/oBgEVpMEXr9A26yn17tXv6AYBFaTBF6/frRQGaaSkL+gGARWkwRev6rx0rfMfqS/YxBYc9Lqo7+wR+GyJ7KJv2MQWHPS6qO/9P3U7RTWp78rhxbzB+qTv1k5tLQL9pW/WTm0tAv2lb+cxCA+DveZv1pkOx1/b6K/9NojX5nrlr8mpQspaXWKv8hLN3HDZYu/YeXQBPAClb95JoQhDNyFvyalCylpdYq/nMQgPg73mb8GgZU+vTqkv9Ai22kPP2i/YxBYc9Lqo79jEFhz0uqjv2Hl0ATwApW/frRQGaaSkL+QwvXe/K+nvyvBYQD3ZZO/gOf7iS5ZWr+QwvXe/K+nvyQGgSG6s4e/nMQgPg73mb/0/dTtFNanvyUGgZFEmp2/9P3U7RTWp79aZDsdf2+iv46Xbl4+LJW/9P3U7RTWp7+QwvXe/K+nvxEfauBsa5i/DCqOysIKkL+7SQxjbAujv/TaI1+Z65a/OktUMylIkL9XDi3IFuObv+AkBh0A3o6/cT0KnTF+pr9+tFAZppKQv/T91Jypf42/8Lt80dPkmb8w3SQ397qnv/T91Jypf42/DCqOysIKkL+QwvXe/K+nv2Hl0ATwApW/Fa5Hmmy4or+cxCA+DveZv4Dn+4kuWVq/kML13vyvp7/0/dScqX+NvxkEVvzwope/nMQgPg73mb+QwvXe/K+nv/T91Jypf42/gOf7iS5ZWr9xPQqdMX6mv7gehT/jDpC/QDVeOIpzmb9UuB51KyGEvwIrhwN5BKK/u0kMY2wLo7+w8dKdkJ1rv2Hl0ATwApW/kML13vyvp7/0/dScqX+Nv1k5tLQL9pW/3iQGbXcwlL9fukl8JQqdv1S4HnUrIYS/YeXQBPAClb/o4slA4RJdv5zEID4O95m/qvHSt8x+pL+q8dK3zH6kv6rx0rfMfqS/0CLbaQ8/aL8w3SS9252ov9Ai22kPP2i/yEs3ccNli788tMiiC4uOv94kBm13MJS/yEs3ccNli7+APzVu63l1v2Hl0ATwApW/YeXQBPAClb9ZObS0C/aVvyQGgSG6s4e/PfXmNRYppb/iW5z+QkeRv35Flch0CoW/GQRW/PCil7+cxCA+DveZv0brP7NsHIS/yEs3ccNli7+QwvXe/K+nvyQGgSG6s4e/u0kMY2wLo7/sUbjX4Jmnv0brP7NsHIS/F9nOObQ+n7+9dJM4SiSYv4Dn+4kuWVq/YxBYc9Lqo78kBoEhurOHv1k5tLQL9pW/sPHSnZCda7/QIttpDz9ov1k5tLQL9pW/WTm0tAv2lb9rUh6M9SeSvzQzM9JZ4qW/GQRW/PCil79G6z+zbByEv1k5tLQL9pW/9P3UnKl/jb/AyqG5EhiGv7tJDGNsC6O/3iQGbXcwlL/QIttpDz9ov5DC9d78r6e/oBovlYWJer9ZObS0C/aVv4A/NW7reXW/gOf7iS5ZWr+7SQxjbAujv2MQWHPS6qO/fkWVyHQKhb9+RZXIdAqFv35Flch0CoW/gOf7iS5ZWr8AAAAk0zqGvxkEVvzwope/AAAAcXIcor9h5dAE8AKVv7tJDGNsC6O/AAAAJNM6hr9iQgy3+k+pv3kmhCEM3IW/qvHSt8x+pL9jEFhz0uqjv3npJn0gP56/WTm0tAv2lb9h5dAE8AKVv0A1XjiKc5m/1qC0ywORnr+yne+zWaSgv5zEID4O95m/YeXQBPAClb+7SQxjbAujvyUGgZFEmp2/kML13vyvp79+tFAZppKQvwAAACTTOoa/0CLbvVDfh7+QwvXe/K+nvyvBYQD3ZZO/YeXQBPAClb9jEFhz0uqjv5DC9d78r6e/nMQgPg73mb8MKo7KwgqQv7gehT/jDpC/ku187M7RqL9wEoM8v2qCv3ASgzy/aoK/oBovXaHlVb+38/0zxb6ovy2ynXbfAKm/YeXQBPAClb+9dJM4SiSYv9Ei2/EdLZ2/poyui/4Hmb+9dJM4SiSYv0brP7NsHIS/sPHSnZCda7+wR+Hi0qZ0v710kzhKJJi/9P3U8XOSpL+q8dK3zH6kvz315jUWKaW/PfXmNRYppb+q8dJ//juQvz315jUWKaW/y6FFo3rsoL+A5/uJLllav5zEID4O95m/qvHSt8x+pL/4U+Nimp6ivzpLVDMpSJC/mJmZ8ctecL+YmZnxy15wvzQzM9JZ4qW/UI2XTbSzob/0/dTtFNanvyQGgSG6s4e/oBgEVpMEXr8kBoEhurOHv9nBQQ/uepm/3iQGbXcwlL8hsHJOtoCmv9nBQQ/uepm/4CQGHQDejr8AAABxchyiv1CNl020s6G/kML13vyvp7+9dJO9rMmhv3ASgzy/aoK/IbByTraApr80MzPSWeKlv7gehT/jDpC/sPHSnZCda79aZDsdf2+iv7gehT/jDpC/cj0KJbsek78hsHJOtoCmvyUGgZFEmp2/kML13vyvp79h5dAE8AKVv07XCh8jJKi/kML13vyvp7+7SQxjbAujv7Dx0p2QnWu/KlyPjCSynr+w8dKdkJ1rv6AaL5WFiXq/3iQGbXcwlL/ISzdxw2WLv6rx0rfMfqS/BoGVxigUob9G6z+zbByEvxkEVvzwope/oBgEVpMEXr+gGARWkwRev+JbnP5CR5G/EC2y1UWei78kBoEhurOHv8/3U5nYGpu/YeXQBPAClb9OYhDzI2mgv3jpJsGxl4C/GQRWTHs/mb+gGARWkwRev23n+2mMHZy/YeXQBPAClb+9dJM4SiSYv5DC9d78r6e/2r7f/W0xoL+cxCA+DveZv5zEID4O95m/sPHSnZCda795JoQhDNyFv/TaI1+Z65a/t/P9M8W+qL+cxCA+DveZv7gehT/jDpC/uB6FP+MOkL+QwvXe/K+nv5DC9d78r6e/3iQGbXcwlL+4HoU/4w6Qv6rx0rfMfqS/AAAAcXIcor+4HoU/4w6Qv7ByaAGB0WG/TmIQoP/nl78ZBFb88KKXv2MQWHPS6qO/X7pJfCUKnb9fukl8JQqdv5iZmfHLXnC/JQaBkUSanb8hsHJOtoCmv360UBmmkpC/X7pJfCUKnb+w8dKdkJ1rv7tJDBI27KS/mJmZIccNcb/0/dTxc5Kkv5zEID4O95m/E5+RDeLTnr+APzVu63l1v8hLN3HDZYu/WTm0tAv2lb+APzVu63l1vxkEVvzwope/kML13vyvp7+w8dKdkJ1rvyQGgSG6s4e/E5+RDeLTnr8CK4fhkECpv0A1XjiKc5m/I9v5d7P2o7+E61Hs1f6NvyGwck62gKa/+n5qoje6kb9fukl8JQqdv3npJn0gP56/YeXQBPAClb8Tn5EN4tOev8hLN3HDZYu/6OLJQOESXb9G6z+zbByEvz62+pwycqG/WDm06bwmpL9G6z+zbByEv5DC9XBaA5m/mG4Sp+nVlr+QwvXe/K+nv7gehT/jDpC/nMQgPg73mb+7SQyWOGipv42/TUQhbIS/YLpJnDZNgb8mpQspaXWKv5zEINBYh6m/3iQGkA+IoL8Q9hseDiWSv6AYBFaTBF6/oBovXaHlVb+/nxprWwehvwIrh+GQQKm/oBgEVpMEXr+cxCA+DveZv7fz/VgF+pm/aJHtQK49jL+cxCA+DveZv0brP7NsHIS/sPHSnZCda78hsHJOtoCmv9Ai22kPP2i/wJ8a7zl1Yb/sUbjX4Jmnv6rx0rfMfqS/nMQgPg73mb9aZDsdf2+iv4TrUezV/o2/WGQ7rwP7cr+E61Hs1f6Nvy6ynQ2nK6C/WTm0tAv2lb/00k32f4+Hv1+6SXwlCp2/Rus/s2wchL9G6z+zbByEv7tJDGNsC6O/qMZLs4JDpr9gukmcNk2Bv2C6SZw2TYG/nMQgS/MSqL+cxCBL8xKov5zEIEvzEqi/nMQgS/MSqL8lBoGRRJqdv0brP7NsHIS/WmQ7HX9vor+QwvXe/K+nv2Hl0ATwApW/kML13vyvp7+q8dK3zH6kvyUGgZFEmp2/qvHSt8x+pL+q8dK3zH6kvz315jUWKaW/JQaBkUSanb8lBoGRRJqdvyUGgZFEmp2/JQaBkUSanb80MzPSWeKlvzQzM9JZ4qW/EC2y1UWei7+E61HU/biDv2Hl0ATwApW/YeXQBPAClb8lBoGRRJqdv360UBmmkpC/K8FhAPdlk7+iRbbCEH2lvzheun0BgIi/Gy/divl1mr9MN4lF366Fv9nBQQ/uepm/uB6F/bJboL+E61HU/biDv4TrUdT9uIO/hOtR1P24g78AAABxchyiv7Dx0p2QnWu/iBbZHhzkkb+q8dK3zH6kv05iEPMjaaC/TmIQ8yNpoL8pXI9aPtiav05iEPMjaaC/TmIQ8yNpoL9OYhDzI2mgv05iEPMjaaC/TmIQ8yNpoL/gT42LXOOhv05iEPMjaaC/8NJNsqVPfL8pXI9aPtiavzheun0BgIi/qvHSt8x+pL9aZDsdf2+iv5ZDi6x3Wp2/EC2y1UWei7+4HoU/4w6Qv4xs56MhGqi/2cFBD+56mb+QwvXe/K+nv05iEPMjaaC/EC2y1UWei78QLbLVRZ6Lv2iR7ZoG1JC/2cFBD+56mb/VeOn2dzOXv/DSTbKlT3y/NDMzsUmuo780MzOxSa6jvzQzM7FJrqO/NDMzsUmuo7/QIttpDz9ov7BH4UaGGIq/nMQgPg73mb+cxCA+DveZv5zEID4O95m/hutR6SPcob+gGi+VhYl6v6AaL5WFiXq/hOtR7NX+jb+38/0gWdCZv/DSTbKlT3y/8NJNsqVPfL/w0k2ypU98v6AaL5WFiXq/lkOLrHdanb+WQ4usd1qdvwAAAHFyHKK/8NJNsqVPfL+IFtkeHOSRv2C6SfxN4XO/v58aTM+Gp7+/nxpMz4anv7+fGkzPhqe/5tAi6bdakr/kpZsRDyGnv7tJDBI27KS/u0kMEjbspL88tMhucvuEv7gehT/jDpC/8NJNsqVPfL+amZlQnvCgv8UgsDtk26W/K8FhAPdlk7+IFtkeHOSRvw==",
            "dtype": "f8"
           }
          }
         ],
         "line": {
          "color": {
           "bdata": "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",
           "dtype": "f8",
           "shape": "500, 1"
          },
          "colorbar": {
           "title": {
            "text": "Cost function score"
           }
          },
          "colorscale": [
           [
            0,
            "rgb(12,51,131)"
           ],
           [
            0.25,
            "rgb(10,136,186)"
           ],
           [
            0.5,
            "rgb(242,211,56)"
           ],
           [
            0.75,
            "rgb(242,143,56)"
           ],
           [
            1,
            "rgb(217,30,30)"
           ]
          ],
          "reversescale": true,
          "showscale": true
         },
         "type": "parcoords",
         "unselected": {
          "line": {
           "opacity": 0.05
          }
         }
        }
       ],
       "layout": {
        "coloraxis": {
         "colorbar": {
          "title": {
           "text": "Fitness (uniforme distribution)"
          }
         }
        },
        "template": {
         "data": {
          "bar": [
           {
            "error_x": {
             "color": "#2a3f5f"
            },
            "error_y": {
             "color": "#2a3f5f"
            },
            "marker": {
             "line": {
              "color": "#E5ECF6",
              "width": 0.5
             },
             "pattern": {
              "fillmode": "overlay",
              "size": 10,
              "solidity": 0.2
             }
            },
            "type": "bar"
           }
          ],
          "barpolar": [
           {
            "marker": {
             "line": {
              "color": "#E5ECF6",
              "width": 0.5
             },
             "pattern": {
              "fillmode": "overlay",
              "size": 10,
              "solidity": 0.2
             }
            },
            "type": "barpolar"
           }
          ],
          "carpet": [
           {
            "aaxis": {
             "endlinecolor": "#2a3f5f",
             "gridcolor": "white",
             "linecolor": "white",
             "minorgridcolor": "white",
             "startlinecolor": "#2a3f5f"
            },
            "baxis": {
             "endlinecolor": "#2a3f5f",
             "gridcolor": "white",
             "linecolor": "white",
             "minorgridcolor": "white",
             "startlinecolor": "#2a3f5f"
            },
            "type": "carpet"
           }
          ],
          "choropleth": [
           {
            "colorbar": {
             "outlinewidth": 0,
             "ticks": ""
            },
            "type": "choropleth"
           }
          ],
          "contour": [
           {
            "colorbar": {
             "outlinewidth": 0,
             "ticks": ""
            },
            "colorscale": [
             [
              0,
              "#0d0887"
             ],
             [
              0.1111111111111111,
              "#46039f"
             ],
             [
              0.2222222222222222,
              "#7201a8"
             ],
             [
              0.3333333333333333,
              "#9c179e"
             ],
             [
              0.4444444444444444,
              "#bd3786"
             ],
             [
              0.5555555555555556,
              "#d8576b"
             ],
             [
              0.6666666666666666,
              "#ed7953"
             ],
             [
              0.7777777777777778,
              "#fb9f3a"
             ],
             [
              0.8888888888888888,
              "#fdca26"
             ],
             [
              1,
              "#f0f921"
             ]
            ],
            "type": "contour"
           }
          ],
          "contourcarpet": [
           {
            "colorbar": {
             "outlinewidth": 0,
             "ticks": ""
            },
            "type": "contourcarpet"
           }
          ],
          "heatmap": [
           {
            "colorbar": {
             "outlinewidth": 0,
             "ticks": ""
            },
            "colorscale": [
             [
              0,
              "#0d0887"
             ],
             [
              0.1111111111111111,
              "#46039f"
             ],
             [
              0.2222222222222222,
              "#7201a8"
             ],
             [
              0.3333333333333333,
              "#9c179e"
             ],
             [
              0.4444444444444444,
              "#bd3786"
             ],
             [
              0.5555555555555556,
              "#d8576b"
             ],
             [
              0.6666666666666666,
              "#ed7953"
             ],
             [
              0.7777777777777778,
              "#fb9f3a"
             ],
             [
              0.8888888888888888,
              "#fdca26"
             ],
             [
              1,
              "#f0f921"
             ]
            ],
            "type": "heatmap"
           }
          ],
          "histogram": [
           {
            "marker": {
             "pattern": {
              "fillmode": "overlay",
              "size": 10,
              "solidity": 0.2
             }
            },
            "type": "histogram"
           }
          ],
          "histogram2d": [
           {
            "colorbar": {
             "outlinewidth": 0,
             "ticks": ""
            },
            "colorscale": [
             [
              0,
              "#0d0887"
             ],
             [
              0.1111111111111111,
              "#46039f"
             ],
             [
              0.2222222222222222,
              "#7201a8"
             ],
             [
              0.3333333333333333,
              "#9c179e"
             ],
             [
              0.4444444444444444,
              "#bd3786"
             ],
             [
              0.5555555555555556,
              "#d8576b"
             ],
             [
              0.6666666666666666,
              "#ed7953"
             ],
             [
              0.7777777777777778,
              "#fb9f3a"
             ],
             [
              0.8888888888888888,
              "#fdca26"
             ],
             [
              1,
              "#f0f921"
             ]
            ],
            "type": "histogram2d"
           }
          ],
          "histogram2dcontour": [
           {
            "colorbar": {
             "outlinewidth": 0,
             "ticks": ""
            },
            "colorscale": [
             [
              0,
              "#0d0887"
             ],
             [
              0.1111111111111111,
              "#46039f"
             ],
             [
              0.2222222222222222,
              "#7201a8"
             ],
             [
              0.3333333333333333,
              "#9c179e"
             ],
             [
              0.4444444444444444,
              "#bd3786"
             ],
             [
              0.5555555555555556,
              "#d8576b"
             ],
             [
              0.6666666666666666,
              "#ed7953"
             ],
             [
              0.7777777777777778,
              "#fb9f3a"
             ],
             [
              0.8888888888888888,
              "#fdca26"
             ],
             [
              1,
              "#f0f921"
             ]
            ],
            "type": "histogram2dcontour"
           }
          ],
          "mesh3d": [
           {
            "colorbar": {
             "outlinewidth": 0,
             "ticks": ""
            },
            "type": "mesh3d"
           }
          ],
          "parcoords": [
           {
            "line": {
             "colorbar": {
              "outlinewidth": 0,
              "ticks": ""
             }
            },
            "type": "parcoords"
           }
          ],
          "pie": [
           {
            "automargin": true,
            "type": "pie"
           }
          ],
          "scatter": [
           {
            "fillpattern": {
             "fillmode": "overlay",
             "size": 10,
             "solidity": 0.2
            },
            "type": "scatter"
           }
          ],
          "scatter3d": [
           {
            "line": {
             "colorbar": {
              "outlinewidth": 0,
              "ticks": ""
             }
            },
            "marker": {
             "colorbar": {
              "outlinewidth": 0,
              "ticks": ""
             }
            },
            "type": "scatter3d"
           }
          ],
          "scattercarpet": [
           {
            "marker": {
             "colorbar": {
              "outlinewidth": 0,
              "ticks": ""
             }
            },
            "type": "scattercarpet"
           }
          ],
          "scattergeo": [
           {
            "marker": {
             "colorbar": {
              "outlinewidth": 0,
              "ticks": ""
             }
            },
            "type": "scattergeo"
           }
          ],
          "scattergl": [
           {
            "marker": {
             "colorbar": {
              "outlinewidth": 0,
              "ticks": ""
             }
            },
            "type": "scattergl"
           }
          ],
          "scattermap": [
           {
            "marker": {
             "colorbar": {
              "outlinewidth": 0,
              "ticks": ""
             }
            },
            "type": "scattermap"
           }
          ],
          "scattermapbox": [
           {
            "marker": {
             "colorbar": {
              "outlinewidth": 0,
              "ticks": ""
             }
            },
            "type": "scattermapbox"
           }
          ],
          "scatterpolar": [
           {
            "marker": {
             "colorbar": {
              "outlinewidth": 0,
              "ticks": ""
             }
            },
            "type": "scatterpolar"
           }
          ],
          "scatterpolargl": [
           {
            "marker": {
             "colorbar": {
              "outlinewidth": 0,
              "ticks": ""
             }
            },
            "type": "scatterpolargl"
           }
          ],
          "scatterternary": [
           {
            "marker": {
             "colorbar": {
              "outlinewidth": 0,
              "ticks": ""
             }
            },
            "type": "scatterternary"
           }
          ],
          "surface": [
           {
            "colorbar": {
             "outlinewidth": 0,
             "ticks": ""
            },
            "colorscale": [
             [
              0,
              "#0d0887"
             ],
             [
              0.1111111111111111,
              "#46039f"
             ],
             [
              0.2222222222222222,
              "#7201a8"
             ],
             [
              0.3333333333333333,
              "#9c179e"
             ],
             [
              0.4444444444444444,
              "#bd3786"
             ],
             [
              0.5555555555555556,
              "#d8576b"
             ],
             [
              0.6666666666666666,
              "#ed7953"
             ],
             [
              0.7777777777777778,
              "#fb9f3a"
             ],
             [
              0.8888888888888888,
              "#fdca26"
             ],
             [
              1,
              "#f0f921"
             ]
            ],
            "type": "surface"
           }
          ],
          "table": [
           {
            "cells": {
             "fill": {
              "color": "#EBF0F8"
             },
             "line": {
              "color": "white"
             }
            },
            "header": {
             "fill": {
              "color": "#C8D4E3"
             },
             "line": {
              "color": "white"
             }
            },
            "type": "table"
           }
          ]
         },
         "layout": {
          "annotationdefaults": {
           "arrowcolor": "#2a3f5f",
           "arrowhead": 0,
           "arrowwidth": 1
          },
          "autotypenumbers": "strict",
          "coloraxis": {
           "colorbar": {
            "outlinewidth": 0,
            "ticks": ""
           }
          },
          "colorscale": {
           "diverging": [
            [
             0,
             "#8e0152"
            ],
            [
             0.1,
             "#c51b7d"
            ],
            [
             0.2,
             "#de77ae"
            ],
            [
             0.3,
             "#f1b6da"
            ],
            [
             0.4,
             "#fde0ef"
            ],
            [
             0.5,
             "#f7f7f7"
            ],
            [
             0.6,
             "#e6f5d0"
            ],
            [
             0.7,
             "#b8e186"
            ],
            [
             0.8,
             "#7fbc41"
            ],
            [
             0.9,
             "#4d9221"
            ],
            [
             1,
             "#276419"
            ]
           ],
           "sequential": [
            [
             0,
             "#0d0887"
            ],
            [
             0.1111111111111111,
             "#46039f"
            ],
            [
             0.2222222222222222,
             "#7201a8"
            ],
            [
             0.3333333333333333,
             "#9c179e"
            ],
            [
             0.4444444444444444,
             "#bd3786"
            ],
            [
             0.5555555555555556,
             "#d8576b"
            ],
            [
             0.6666666666666666,
             "#ed7953"
            ],
            [
             0.7777777777777778,
             "#fb9f3a"
            ],
            [
             0.8888888888888888,
             "#fdca26"
            ],
            [
             1,
             "#f0f921"
            ]
           ],
           "sequentialminus": [
            [
             0,
             "#0d0887"
            ],
            [
             0.1111111111111111,
             "#46039f"
            ],
            [
             0.2222222222222222,
             "#7201a8"
            ],
            [
             0.3333333333333333,
             "#9c179e"
            ],
            [
             0.4444444444444444,
             "#bd3786"
            ],
            [
             0.5555555555555556,
             "#d8576b"
            ],
            [
             0.6666666666666666,
             "#ed7953"
            ],
            [
             0.7777777777777778,
             "#fb9f3a"
            ],
            [
             0.8888888888888888,
             "#fdca26"
            ],
            [
             1,
             "#f0f921"
            ]
           ]
          },
          "colorway": [
           "#636efa",
           "#EF553B",
           "#00cc96",
           "#ab63fa",
           "#FFA15A",
           "#19d3f3",
           "#FF6692",
           "#B6E880",
           "#FF97FF",
           "#FECB52"
          ],
          "font": {
           "color": "#2a3f5f"
          },
          "geo": {
           "bgcolor": "white",
           "lakecolor": "white",
           "landcolor": "#E5ECF6",
           "showlakes": true,
           "showland": true,
           "subunitcolor": "white"
          },
          "hoverlabel": {
           "align": "left"
          },
          "hovermode": "closest",
          "mapbox": {
           "style": "light"
          },
          "paper_bgcolor": "white",
          "plot_bgcolor": "#E5ECF6",
          "polar": {
           "angularaxis": {
            "gridcolor": "white",
            "linecolor": "white",
            "ticks": ""
           },
           "bgcolor": "#E5ECF6",
           "radialaxis": {
            "gridcolor": "white",
            "linecolor": "white",
            "ticks": ""
           }
          },
          "scene": {
           "xaxis": {
            "backgroundcolor": "#E5ECF6",
            "gridcolor": "white",
            "gridwidth": 2,
            "linecolor": "white",
            "showbackground": true,
            "ticks": "",
            "zerolinecolor": "white"
           },
           "yaxis": {
            "backgroundcolor": "#E5ECF6",
            "gridcolor": "white",
            "gridwidth": 2,
            "linecolor": "white",
            "showbackground": true,
            "ticks": "",
            "zerolinecolor": "white"
           },
           "zaxis": {
            "backgroundcolor": "#E5ECF6",
            "gridcolor": "white",
            "gridwidth": 2,
            "linecolor": "white",
            "showbackground": true,
            "ticks": "",
            "zerolinecolor": "white"
           }
          },
          "shapedefaults": {
           "line": {
            "color": "#2a3f5f"
           }
          },
          "ternary": {
           "aaxis": {
            "gridcolor": "white",
            "linecolor": "white",
            "ticks": ""
           },
           "baxis": {
            "gridcolor": "white",
            "linecolor": "white",
            "ticks": ""
           },
           "bgcolor": "#E5ECF6",
           "caxis": {
            "gridcolor": "white",
            "linecolor": "white",
            "ticks": ""
           }
          },
          "title": {
           "x": 0.05
          },
          "xaxis": {
           "automargin": true,
           "gridcolor": "white",
           "linecolor": "white",
           "ticks": "",
           "title": {
            "standoff": 15
           },
           "zerolinecolor": "white",
           "zerolinewidth": 2
          },
          "yaxis": {
           "automargin": true,
           "gridcolor": "white",
           "linecolor": "white",
           "ticks": "",
           "title": {
            "standoff": 15
           },
           "zerolinecolor": "white",
           "zerolinewidth": 2
          }
         }
        },
        "title": {
         "text": "Parameters optimization : minimization of the cost function for group 1"
        }
       }
      }
     },
     "metadata": {},
     "output_type": "display_data"
    }
   ],
   "source": [
    "fig = viewer.parallel_coordinates(nbest=500, reversescale=True, unselected_opacity=0.05, uniformed=True)\n",
    "\n",
    "for group in fig:\n",
    "    display(group)"
   ]
  },
  {
   "cell_type": "code",
   "execution_count": null,
   "metadata": {},
   "outputs": [],
   "source": []
  }
 ],
 "metadata": {
  "kernelspec": {
   "display_name": ".venv",
   "language": "python",
   "name": "python3"
  },
  "language_info": {
   "codemirror_mode": {
    "name": "ipython",
    "version": 3
   },
   "file_extension": ".py",
   "mimetype": "text/x-python",
   "name": "python",
   "nbconvert_exporter": "python",
   "pygments_lexer": "ipython3",
   "version": "3.13.3"
  }
 },
 "nbformat": 4,
 "nbformat_minor": 2
}
