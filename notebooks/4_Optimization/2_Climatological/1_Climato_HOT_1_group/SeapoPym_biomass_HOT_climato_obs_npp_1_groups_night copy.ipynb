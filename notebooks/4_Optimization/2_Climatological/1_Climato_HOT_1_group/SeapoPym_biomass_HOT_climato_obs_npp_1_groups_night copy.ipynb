{
 "cells": [
  {
   "cell_type": "code",
   "execution_count": 1,
   "metadata": {},
   "outputs": [],
   "source": [
    "from pathlib import Path\n",
    "\n",
    "import pandas as pd\n",
    "import xarray as xr\n",
    "from dask.distributed import Client\n",
    "from seapopym.configuration.no_transport import ForcingParameter, ForcingUnit\n",
    "from seapopym.standard.units import StandardUnitsLabels\n",
    "\n",
    "from seapopym_optimization.cost_function.simple_rmse_cost_function import (\n",
    "    DayCycle,\n",
    "    SimpleRootMeanSquareErrorCostFunction,\n",
    "    TimeSeriesObservation,\n",
    ")\n",
    "from seapopym_optimization.functional_group import NoTransportFunctionalGroup, Parameter\n",
    "from seapopym_optimization.genetic_algorithm import SimpleGeneticAlgorithm, SimpleGeneticAlgorithmParameters\n",
    "from seapopym_optimization.genetic_algorithm.simple_logbook import generate_logbook_with_sobol_sampling\n",
    "from seapopym_optimization.model_generator import NoTransportModelGenerator\n"
   ]
  },
  {
   "cell_type": "code",
   "execution_count": null,
   "metadata": {},
   "outputs": [],
   "source": [
    "path_to_forcing = \"../../../1_data_processing/1_1_Forcing/data/1_products/Hot_cmems_climato.zarr\"\n",
    "path_to_npp = \"../../../1_data_processing/1_1_Forcing/data/1_products/Hot_observed_npp_climato.zarr\"\n",
    "path_to_obs = \"../../../1_data_processing/1_1_Forcing/data/1_products/Hot_obs_zoo_climato_monthly_2002_2015.zarr\"\n",
    "export_file_name = \"SeapoPym_HOT_climato_obs_npp_opti_all_parameters_1_group_night\""
   ]
  },
  {
   "cell_type": "code",
   "execution_count": null,
   "metadata": {},
   "outputs": [],
   "source": [
    "LATITUDE = 22.75\n",
    "LONGITUDE = -158\n",
    "TIME_START = \"2005-01-02\"\n",
    "TIME_END = \"2009-12-27\"\n",
    "STABILIZATION_TIME = 5\n",
    "SAVE = True"
   ]
  },
  {
   "cell_type": "markdown",
   "metadata": {},
   "source": [
    "## Loading\n"
   ]
  },
  {
   "cell_type": "markdown",
   "metadata": {},
   "source": [
    "### Forcing\n"
   ]
  },
  {
   "cell_type": "code",
   "execution_count": null,
   "metadata": {},
   "outputs": [],
   "source": [
    "forcing = xr.open_zarr(path_to_forcing)\n",
    "forcing = forcing.sel(time=slice(TIME_START, TIME_END))\n",
    "forcing[\"T\"].attrs[\"units\"] = StandardUnitsLabels.temperature.units\n",
    "forcing.load()"
   ]
  },
  {
   "cell_type": "markdown",
   "metadata": {},
   "source": [
    "### Epipelagic layer\n"
   ]
  },
  {
   "cell_type": "code",
   "execution_count": null,
   "metadata": {},
   "outputs": [],
   "source": [
    "epi_layer_depth = forcing[\"pelagic_layer_depth\"].sel(depth=0).load()\n",
    "epi_layer_depth = epi_layer_depth.resample(time=\"1D\").mean()\n",
    "epi_layer_depth.attrs[\"units\"] = \"meter\"\n",
    "epi_layer_depth = epi_layer_depth.pint.quantify()\n",
    "epi_layer_depth"
   ]
  },
  {
   "cell_type": "markdown",
   "metadata": {},
   "source": [
    "<!-- ## Observed NPP -->\n"
   ]
  },
  {
   "cell_type": "code",
   "execution_count": null,
   "metadata": {},
   "outputs": [],
   "source": [
    "observed_npp = xr.open_zarr(path_to_npp)\n",
    "observed_npp = observed_npp.sel(time=slice(TIME_START, TIME_END))\n",
    "observed_npp = observed_npp.dropna(\"time\", how=\"all\")\n",
    "observed_npp = observed_npp.resample(time=\"D\").interpolate(\"linear\")\n",
    "observed_npp.load()"
   ]
  },
  {
   "cell_type": "markdown",
   "metadata": {},
   "source": [
    "### Observations\n"
   ]
  },
  {
   "cell_type": "code",
   "execution_count": null,
   "metadata": {},
   "outputs": [],
   "source": [
    "observations = xr.open_zarr(path_to_obs).load()\n",
    "observations = observations.sel(latitude=LATITUDE, longitude=LONGITUDE, method=\"nearest\")\n",
    "observations = observations.resample(time=\"1D\").mean().dropna(\"time\")\n",
    "observations = observations.pint.quantify().pint.to(\"mg/m^3\")\n",
    "observations = observations * epi_layer_depth\n",
    "observations = observations.drop_vars(\"depth\")\n",
    "observations"
   ]
  },
  {
   "cell_type": "markdown",
   "metadata": {},
   "source": [
    "observations\n"
   ]
  },
  {
   "cell_type": "markdown",
   "metadata": {},
   "source": [
    "Select the kind of observation you want to use.\n"
   ]
  },
  {
   "cell_type": "code",
   "execution_count": null,
   "metadata": {},
   "outputs": [],
   "source": [
    "# observations_selected = observations[[\"day_lowess_0.2\", \"night_lowess_0.2\"]].rename(\n",
    "#     {\"day_lowess_0.2\": \"day\", \"night_lowess_0.2\": \"night\"}\n",
    "# )\n",
    "\n",
    "observations_selected = observations[\"night\"]"
   ]
  },
  {
   "cell_type": "markdown",
   "metadata": {},
   "source": [
    "Remove the X first months to let the model reach the stationary state.\n"
   ]
  },
  {
   "cell_type": "code",
   "execution_count": null,
   "metadata": {},
   "outputs": [],
   "source": [
    "observations_selected_without_init = observations_selected.isel(time=slice(STABILIZATION_TIME, None))\n",
    "observations_selected_without_init"
   ]
  },
  {
   "cell_type": "markdown",
   "metadata": {},
   "source": [
    "Create structure for SeapoPym simulation.\n"
   ]
  },
  {
   "cell_type": "code",
   "execution_count": null,
   "metadata": {},
   "outputs": [],
   "source": [
    "forcing_parameters = ForcingParameter(\n",
    "    temperature=ForcingUnit(forcing=forcing[\"T\"]), primary_production=ForcingUnit(forcing=observed_npp[\"l12\"])\n",
    ")"
   ]
  },
  {
   "cell_type": "markdown",
   "metadata": {},
   "source": [
    "## Setup the parameters and the cost function\n"
   ]
  },
  {
   "cell_type": "code",
   "execution_count": null,
   "metadata": {},
   "outputs": [],
   "source": [
    "functional_groups = [\n",
    "    NoTransportFunctionalGroup(\n",
    "        name=\"Zooplankton\",\n",
    "        day_layer=0,\n",
    "        night_layer=0,\n",
    "        energy_transfert=Parameter(\"D1N1_energy_transfert energy_transfert\", 0.001, 0.5),\n",
    "        gamma_tr=Parameter(\"D1N1_gamma_tr\", -0.5, -0.001),\n",
    "        tr_0=Parameter(\"D1N1_tr_0\", 0, 50),\n",
    "        gamma_lambda_temperature=Parameter(\"D1N1_gamma_lambda_temperature\", 0, 0.5),\n",
    "        lambda_temperature_0=Parameter(\"D1N1_lambda_temperature_0\", 0, 1),\n",
    "    ),\n",
    "]"
   ]
  },
  {
   "cell_type": "code",
   "execution_count": null,
   "metadata": {},
   "outputs": [],
   "source": [
    "model_generator = NoTransportModelGenerator(forcing_parameters=forcing_parameters)"
   ]
  },
  {
   "cell_type": "code",
   "execution_count": null,
   "metadata": {},
   "outputs": [],
   "source": [
    "cost_function = SimpleRootMeanSquareErrorCostFunction(\n",
    "    model_generator=model_generator,\n",
    "    observations=[\n",
    "        TimeSeriesObservation(\n",
    "            name=\"Hot climato\",\n",
    "            observation=observations_selected_without_init,\n",
    "            observation_type=DayCycle.NIGHT,\n",
    "            observation_interval=\"1MS\",\n",
    "        )\n",
    "    ],\n",
    "    functional_groups=functional_groups,\n",
    "    root_mse=True,\n",
    "    normalized_mse=True,\n",
    "    centered_mse=False,\n",
    ")"
   ]
  },
  {
   "cell_type": "markdown",
   "metadata": {},
   "source": [
    "Set the genetic algorithm meta parameters.\n"
   ]
  },
  {
   "cell_type": "code",
   "execution_count": null,
   "metadata": {},
   "outputs": [],
   "source": [
    "genetic_algo_parameters = SimpleGeneticAlgorithmParameters(\n",
    "    MUTPB=0.30,\n",
    "    INDPB=0.2,\n",
    "    ETA=5,\n",
    "    CXPB=0.7,\n",
    "    NGEN=5,\n",
    "    POP_SIZE=200,\n",
    "    cost_function_weight=(-1,),\n",
    ")"
   ]
  },
  {
   "cell_type": "markdown",
   "metadata": {},
   "source": [
    "Import or create the parameters to be optimized.\n"
   ]
  },
  {
   "cell_type": "code",
   "execution_count": null,
   "metadata": {},
   "outputs": [],
   "source": [
    "logbook_path = Path(f\"./{export_file_name}_logbook.parquet\")\n",
    "if logbook_path.exists():\n",
    "    logbook = pd.read_parquet(logbook_path)\n",
    "else:\n",
    "    logbook = generate_logbook_with_sobol_sampling(\n",
    "        functional_group_parameters=functional_groups, sample_number=256, fitness_name=[\"Hot climato\"]\n",
    "    )\n",
    "logbook"
   ]
  },
  {
   "cell_type": "markdown",
   "metadata": {},
   "source": [
    "Finaly, create the Genetic Algorithm.\n"
   ]
  },
  {
   "cell_type": "code",
   "execution_count": null,
   "metadata": {},
   "outputs": [],
   "source": [
    "client = Client()\n",
    "genetic_algo = SimpleGeneticAlgorithm(\n",
    "    meta_parameter=genetic_algo_parameters,\n",
    "    cost_function=cost_function,\n",
    "    client=client,\n",
    "    logbook=logbook,\n",
    "    save=logbook_path,\n",
    ")"
   ]
  },
  {
   "cell_type": "markdown",
   "metadata": {},
   "source": [
    "And watch the magic on the Dask dashboard :\n"
   ]
  },
  {
   "cell_type": "code",
   "execution_count": null,
   "metadata": {},
   "outputs": [],
   "source": [
    "genetic_algo.client"
   ]
  },
  {
   "cell_type": "markdown",
   "metadata": {},
   "source": [
    "## Run the optimization\n"
   ]
  },
  {
   "cell_type": "code",
   "execution_count": null,
   "metadata": {},
   "outputs": [],
   "source": [
    "viewer = genetic_algo.optimize()"
   ]
  },
  {
   "cell_type": "markdown",
   "metadata": {},
   "source": [
    "## Optimization statistics\n"
   ]
  },
  {
   "cell_type": "code",
   "execution_count": null,
   "metadata": {},
   "outputs": [],
   "source": [
    "viewer.hall_of_fame().iloc[:50]"
   ]
  },
  {
   "cell_type": "code",
   "execution_count": null,
   "metadata": {},
   "outputs": [],
   "source": [
    "viewer.fitness_evolution(points=\"all\")"
   ]
  },
  {
   "cell_type": "code",
   "execution_count": null,
   "metadata": {},
   "outputs": [],
   "source": [
    "viewer.parameters_standardized_deviation()"
   ]
  },
  {
   "cell_type": "code",
   "execution_count": null,
   "metadata": {},
   "outputs": [],
   "source": [
    "viewer.shannon_entropy(bins=100_000)"
   ]
  },
  {
   "cell_type": "code",
   "execution_count": null,
   "metadata": {},
   "outputs": [],
   "source": [
    "fig = viewer.box_plot(3, nbest=500)\n",
    "fig.show()"
   ]
  },
  {
   "cell_type": "code",
   "execution_count": null,
   "metadata": {},
   "outputs": [],
   "source": [
    "fig = viewer.parallel_coordinates(nbest=500, reversescale=True, unselected_opacity=0.05, uniformed=True)\n",
    "\n",
    "for group in fig:\n",
    "    display(group)"
   ]
  }
 ],
 "metadata": {
  "kernelspec": {
   "display_name": ".venv",
   "language": "python",
   "name": "python3"
  },
  "language_info": {
   "codemirror_mode": {
    "name": "ipython",
    "version": 3
   },
   "file_extension": ".py",
   "mimetype": "text/x-python",
   "name": "python",
   "nbconvert_exporter": "python",
   "pygments_lexer": "ipython3",
   "version": "3.13.3"
  }
 },
 "nbformat": 4,
 "nbformat_minor": 2
}
