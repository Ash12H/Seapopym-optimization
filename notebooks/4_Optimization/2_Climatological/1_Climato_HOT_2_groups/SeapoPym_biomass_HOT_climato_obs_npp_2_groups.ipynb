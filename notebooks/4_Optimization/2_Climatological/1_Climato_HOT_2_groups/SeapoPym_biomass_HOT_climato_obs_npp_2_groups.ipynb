{
 "cells": [
  {
   "cell_type": "code",
   "execution_count": 1,
   "metadata": {},
   "outputs": [],
   "source": [
    "from pathlib import Path\n",
    "\n",
    "import pandas as pd\n",
    "import xarray as xr\n",
    "from dask.distributed import Client\n",
    "from seapopym.configuration.no_transport import ForcingParameter, ForcingUnit\n",
    "from seapopym.standard.units import StandardUnitsLabels\n",
    "\n",
    "from seapopym_optimization.cost_function import DayCycle, SimpleRootMeanSquareErrorCostFunction, TimeSeriesObservation\n",
    "from seapopym_optimization.functional_group import NoTransportFunctionalGroup, Parameter\n",
    "from seapopym_optimization.genetic_algorithm import SimpleGeneticAlgorithm, SimpleGeneticAlgorithmParameters\n",
    "from seapopym_optimization.model_generator import NoTransportModelGenerator\n"
   ]
  },
  {
   "cell_type": "code",
   "execution_count": 2,
   "metadata": {},
   "outputs": [],
   "source": [
    "path_to_forcing = \"../../../1_data_processing/1_1_Forcing/data/1_products/Hot_cmems_climato.zarr\"\n",
    "path_to_npp = \"../../../1_data_processing/1_1_Forcing/data/1_products/Hot_observed_npp_climato.zarr\"\n",
    "path_to_obs = \"../../../1_data_processing/1_1_Forcing/data/1_products/Hot_obs_zoo_climato_monthly_2002_2015.zarr\"\n",
    "export_file_name = \"SeapoPym_biomass_HOT_climato_obs_npp_2_groups\""
   ]
  },
  {
   "cell_type": "code",
   "execution_count": 3,
   "metadata": {},
   "outputs": [],
   "source": [
    "LATITUDE = 22.75\n",
    "LONGITUDE = -158\n",
    "TIME_START = \"2005-01-02\"\n",
    "TIME_END = \"2008-01-01\"\n",
    "STABILIZATION_TIME = 12\n",
    "SAVE = True"
   ]
  },
  {
   "cell_type": "markdown",
   "metadata": {},
   "source": [
    "## Loading\n"
   ]
  },
  {
   "cell_type": "markdown",
   "metadata": {},
   "source": [
    "### Forcing\n"
   ]
  },
  {
   "cell_type": "code",
   "execution_count": 4,
   "metadata": {},
   "outputs": [
    {
     "data": {
      "text/html": [
       "<div><svg style=\"position: absolute; width: 0; height: 0; overflow: hidden\">\n",
       "<defs>\n",
       "<symbol id=\"icon-database\" viewBox=\"0 0 32 32\">\n",
       "<path d=\"M16 0c-8.837 0-16 2.239-16 5v4c0 2.761 7.163 5 16 5s16-2.239 16-5v-4c0-2.761-7.163-5-16-5z\"></path>\n",
       "<path d=\"M16 17c-8.837 0-16-2.239-16-5v6c0 2.761 7.163 5 16 5s16-2.239 16-5v-6c0 2.761-7.163 5-16 5z\"></path>\n",
       "<path d=\"M16 26c-8.837 0-16-2.239-16-5v6c0 2.761 7.163 5 16 5s16-2.239 16-5v-6c0 2.761-7.163 5-16 5z\"></path>\n",
       "</symbol>\n",
       "<symbol id=\"icon-file-text2\" viewBox=\"0 0 32 32\">\n",
       "<path d=\"M28.681 7.159c-0.694-0.947-1.662-2.053-2.724-3.116s-2.169-2.030-3.116-2.724c-1.612-1.182-2.393-1.319-2.841-1.319h-15.5c-1.378 0-2.5 1.121-2.5 2.5v27c0 1.378 1.122 2.5 2.5 2.5h23c1.378 0 2.5-1.122 2.5-2.5v-19.5c0-0.448-0.137-1.23-1.319-2.841zM24.543 5.457c0.959 0.959 1.712 1.825 2.268 2.543h-4.811v-4.811c0.718 0.556 1.584 1.309 2.543 2.268zM28 29.5c0 0.271-0.229 0.5-0.5 0.5h-23c-0.271 0-0.5-0.229-0.5-0.5v-27c0-0.271 0.229-0.5 0.5-0.5 0 0 15.499-0 15.5 0v7c0 0.552 0.448 1 1 1h7v19.5z\"></path>\n",
       "<path d=\"M23 26h-14c-0.552 0-1-0.448-1-1s0.448-1 1-1h14c0.552 0 1 0.448 1 1s-0.448 1-1 1z\"></path>\n",
       "<path d=\"M23 22h-14c-0.552 0-1-0.448-1-1s0.448-1 1-1h14c0.552 0 1 0.448 1 1s-0.448 1-1 1z\"></path>\n",
       "<path d=\"M23 18h-14c-0.552 0-1-0.448-1-1s0.448-1 1-1h14c0.552 0 1 0.448 1 1s-0.448 1-1 1z\"></path>\n",
       "</symbol>\n",
       "</defs>\n",
       "</svg>\n",
       "<style>/* CSS stylesheet for displaying xarray objects in jupyterlab.\n",
       " *\n",
       " */\n",
       "\n",
       ":root {\n",
       "  --xr-font-color0: var(--jp-content-font-color0, rgba(0, 0, 0, 1));\n",
       "  --xr-font-color2: var(--jp-content-font-color2, rgba(0, 0, 0, 0.54));\n",
       "  --xr-font-color3: var(--jp-content-font-color3, rgba(0, 0, 0, 0.38));\n",
       "  --xr-border-color: var(--jp-border-color2, #e0e0e0);\n",
       "  --xr-disabled-color: var(--jp-layout-color3, #bdbdbd);\n",
       "  --xr-background-color: var(--jp-layout-color0, white);\n",
       "  --xr-background-color-row-even: var(--jp-layout-color1, white);\n",
       "  --xr-background-color-row-odd: var(--jp-layout-color2, #eeeeee);\n",
       "}\n",
       "\n",
       "html[theme=\"dark\"],\n",
       "html[data-theme=\"dark\"],\n",
       "body[data-theme=\"dark\"],\n",
       "body.vscode-dark {\n",
       "  --xr-font-color0: rgba(255, 255, 255, 1);\n",
       "  --xr-font-color2: rgba(255, 255, 255, 0.54);\n",
       "  --xr-font-color3: rgba(255, 255, 255, 0.38);\n",
       "  --xr-border-color: #1f1f1f;\n",
       "  --xr-disabled-color: #515151;\n",
       "  --xr-background-color: #111111;\n",
       "  --xr-background-color-row-even: #111111;\n",
       "  --xr-background-color-row-odd: #313131;\n",
       "}\n",
       "\n",
       ".xr-wrap {\n",
       "  display: block !important;\n",
       "  min-width: 300px;\n",
       "  max-width: 700px;\n",
       "}\n",
       "\n",
       ".xr-text-repr-fallback {\n",
       "  /* fallback to plain text repr when CSS is not injected (untrusted notebook) */\n",
       "  display: none;\n",
       "}\n",
       "\n",
       ".xr-header {\n",
       "  padding-top: 6px;\n",
       "  padding-bottom: 6px;\n",
       "  margin-bottom: 4px;\n",
       "  border-bottom: solid 1px var(--xr-border-color);\n",
       "}\n",
       "\n",
       ".xr-header > div,\n",
       ".xr-header > ul {\n",
       "  display: inline;\n",
       "  margin-top: 0;\n",
       "  margin-bottom: 0;\n",
       "}\n",
       "\n",
       ".xr-obj-type,\n",
       ".xr-array-name {\n",
       "  margin-left: 2px;\n",
       "  margin-right: 10px;\n",
       "}\n",
       "\n",
       ".xr-obj-type {\n",
       "  color: var(--xr-font-color2);\n",
       "}\n",
       "\n",
       ".xr-sections {\n",
       "  padding-left: 0 !important;\n",
       "  display: grid;\n",
       "  grid-template-columns: 150px auto auto 1fr 0 20px 0 20px;\n",
       "}\n",
       "\n",
       ".xr-section-item {\n",
       "  display: contents;\n",
       "}\n",
       "\n",
       ".xr-section-item input {\n",
       "  display: inline-block;\n",
       "  opacity: 0;\n",
       "  height: 0;\n",
       "}\n",
       "\n",
       ".xr-section-item input + label {\n",
       "  color: var(--xr-disabled-color);\n",
       "}\n",
       "\n",
       ".xr-section-item input:enabled + label {\n",
       "  cursor: pointer;\n",
       "  color: var(--xr-font-color2);\n",
       "}\n",
       "\n",
       ".xr-section-item input:focus + label {\n",
       "  border: 2px solid var(--xr-font-color0);\n",
       "}\n",
       "\n",
       ".xr-section-item input:enabled + label:hover {\n",
       "  color: var(--xr-font-color0);\n",
       "}\n",
       "\n",
       ".xr-section-summary {\n",
       "  grid-column: 1;\n",
       "  color: var(--xr-font-color2);\n",
       "  font-weight: 500;\n",
       "}\n",
       "\n",
       ".xr-section-summary > span {\n",
       "  display: inline-block;\n",
       "  padding-left: 0.5em;\n",
       "}\n",
       "\n",
       ".xr-section-summary-in:disabled + label {\n",
       "  color: var(--xr-font-color2);\n",
       "}\n",
       "\n",
       ".xr-section-summary-in + label:before {\n",
       "  display: inline-block;\n",
       "  content: \"►\";\n",
       "  font-size: 11px;\n",
       "  width: 15px;\n",
       "  text-align: center;\n",
       "}\n",
       "\n",
       ".xr-section-summary-in:disabled + label:before {\n",
       "  color: var(--xr-disabled-color);\n",
       "}\n",
       "\n",
       ".xr-section-summary-in:checked + label:before {\n",
       "  content: \"▼\";\n",
       "}\n",
       "\n",
       ".xr-section-summary-in:checked + label > span {\n",
       "  display: none;\n",
       "}\n",
       "\n",
       ".xr-section-summary,\n",
       ".xr-section-inline-details {\n",
       "  padding-top: 4px;\n",
       "  padding-bottom: 4px;\n",
       "}\n",
       "\n",
       ".xr-section-inline-details {\n",
       "  grid-column: 2 / -1;\n",
       "}\n",
       "\n",
       ".xr-section-details {\n",
       "  display: none;\n",
       "  grid-column: 1 / -1;\n",
       "  margin-bottom: 5px;\n",
       "}\n",
       "\n",
       ".xr-section-summary-in:checked ~ .xr-section-details {\n",
       "  display: contents;\n",
       "}\n",
       "\n",
       ".xr-array-wrap {\n",
       "  grid-column: 1 / -1;\n",
       "  display: grid;\n",
       "  grid-template-columns: 20px auto;\n",
       "}\n",
       "\n",
       ".xr-array-wrap > label {\n",
       "  grid-column: 1;\n",
       "  vertical-align: top;\n",
       "}\n",
       "\n",
       ".xr-preview {\n",
       "  color: var(--xr-font-color3);\n",
       "}\n",
       "\n",
       ".xr-array-preview,\n",
       ".xr-array-data {\n",
       "  padding: 0 5px !important;\n",
       "  grid-column: 2;\n",
       "}\n",
       "\n",
       ".xr-array-data,\n",
       ".xr-array-in:checked ~ .xr-array-preview {\n",
       "  display: none;\n",
       "}\n",
       "\n",
       ".xr-array-in:checked ~ .xr-array-data,\n",
       ".xr-array-preview {\n",
       "  display: inline-block;\n",
       "}\n",
       "\n",
       ".xr-dim-list {\n",
       "  display: inline-block !important;\n",
       "  list-style: none;\n",
       "  padding: 0 !important;\n",
       "  margin: 0;\n",
       "}\n",
       "\n",
       ".xr-dim-list li {\n",
       "  display: inline-block;\n",
       "  padding: 0;\n",
       "  margin: 0;\n",
       "}\n",
       "\n",
       ".xr-dim-list:before {\n",
       "  content: \"(\";\n",
       "}\n",
       "\n",
       ".xr-dim-list:after {\n",
       "  content: \")\";\n",
       "}\n",
       "\n",
       ".xr-dim-list li:not(:last-child):after {\n",
       "  content: \",\";\n",
       "  padding-right: 5px;\n",
       "}\n",
       "\n",
       ".xr-has-index {\n",
       "  font-weight: bold;\n",
       "}\n",
       "\n",
       ".xr-var-list,\n",
       ".xr-var-item {\n",
       "  display: contents;\n",
       "}\n",
       "\n",
       ".xr-var-item > div,\n",
       ".xr-var-item label,\n",
       ".xr-var-item > .xr-var-name span {\n",
       "  background-color: var(--xr-background-color-row-even);\n",
       "  margin-bottom: 0;\n",
       "}\n",
       "\n",
       ".xr-var-item > .xr-var-name:hover span {\n",
       "  padding-right: 5px;\n",
       "}\n",
       "\n",
       ".xr-var-list > li:nth-child(odd) > div,\n",
       ".xr-var-list > li:nth-child(odd) > label,\n",
       ".xr-var-list > li:nth-child(odd) > .xr-var-name span {\n",
       "  background-color: var(--xr-background-color-row-odd);\n",
       "}\n",
       "\n",
       ".xr-var-name {\n",
       "  grid-column: 1;\n",
       "}\n",
       "\n",
       ".xr-var-dims {\n",
       "  grid-column: 2;\n",
       "}\n",
       "\n",
       ".xr-var-dtype {\n",
       "  grid-column: 3;\n",
       "  text-align: right;\n",
       "  color: var(--xr-font-color2);\n",
       "}\n",
       "\n",
       ".xr-var-preview {\n",
       "  grid-column: 4;\n",
       "}\n",
       "\n",
       ".xr-index-preview {\n",
       "  grid-column: 2 / 5;\n",
       "  color: var(--xr-font-color2);\n",
       "}\n",
       "\n",
       ".xr-var-name,\n",
       ".xr-var-dims,\n",
       ".xr-var-dtype,\n",
       ".xr-preview,\n",
       ".xr-attrs dt {\n",
       "  white-space: nowrap;\n",
       "  overflow: hidden;\n",
       "  text-overflow: ellipsis;\n",
       "  padding-right: 10px;\n",
       "}\n",
       "\n",
       ".xr-var-name:hover,\n",
       ".xr-var-dims:hover,\n",
       ".xr-var-dtype:hover,\n",
       ".xr-attrs dt:hover {\n",
       "  overflow: visible;\n",
       "  width: auto;\n",
       "  z-index: 1;\n",
       "}\n",
       "\n",
       ".xr-var-attrs,\n",
       ".xr-var-data,\n",
       ".xr-index-data {\n",
       "  display: none;\n",
       "  background-color: var(--xr-background-color) !important;\n",
       "  padding-bottom: 5px !important;\n",
       "}\n",
       "\n",
       ".xr-var-attrs-in:checked ~ .xr-var-attrs,\n",
       ".xr-var-data-in:checked ~ .xr-var-data,\n",
       ".xr-index-data-in:checked ~ .xr-index-data {\n",
       "  display: block;\n",
       "}\n",
       "\n",
       ".xr-var-data > table {\n",
       "  float: right;\n",
       "}\n",
       "\n",
       ".xr-var-name span,\n",
       ".xr-var-data,\n",
       ".xr-index-name div,\n",
       ".xr-index-data,\n",
       ".xr-attrs {\n",
       "  padding-left: 25px !important;\n",
       "}\n",
       "\n",
       ".xr-attrs,\n",
       ".xr-var-attrs,\n",
       ".xr-var-data,\n",
       ".xr-index-data {\n",
       "  grid-column: 1 / -1;\n",
       "}\n",
       "\n",
       "dl.xr-attrs {\n",
       "  padding: 0;\n",
       "  margin: 0;\n",
       "  display: grid;\n",
       "  grid-template-columns: 125px auto;\n",
       "}\n",
       "\n",
       ".xr-attrs dt,\n",
       ".xr-attrs dd {\n",
       "  padding: 0;\n",
       "  margin: 0;\n",
       "  float: left;\n",
       "  padding-right: 10px;\n",
       "  width: auto;\n",
       "}\n",
       "\n",
       ".xr-attrs dt {\n",
       "  font-weight: normal;\n",
       "  grid-column: 1;\n",
       "}\n",
       "\n",
       ".xr-attrs dt:hover span {\n",
       "  display: inline-block;\n",
       "  background: var(--xr-background-color);\n",
       "  padding-right: 10px;\n",
       "}\n",
       "\n",
       ".xr-attrs dd {\n",
       "  grid-column: 2;\n",
       "  white-space: pre-wrap;\n",
       "  word-break: break-all;\n",
       "}\n",
       "\n",
       ".xr-icon-database,\n",
       ".xr-icon-file-text2,\n",
       ".xr-no-icon {\n",
       "  display: inline-block;\n",
       "  vertical-align: middle;\n",
       "  width: 1em;\n",
       "  height: 1.5em !important;\n",
       "  stroke-width: 0;\n",
       "  stroke: currentColor;\n",
       "  fill: currentColor;\n",
       "}\n",
       "</style><pre class='xr-text-repr-fallback'>&lt;xarray.Dataset&gt; Size: 193kB\n",
       "Dimensions:              (time: 1095, latitude: 1, longitude: 1, depth: 3)\n",
       "Coordinates:\n",
       "  * depth                (depth) int64 24B 0 1 2\n",
       "  * latitude             (latitude) float64 8B 22.75\n",
       "  * longitude            (longitude) int64 8B -158\n",
       "  * time                 (time) datetime64[ns] 9kB 2005-01-02 ... 2008-01-01\n",
       "Data variables: (12/13)\n",
       "    T                    (time, latitude, longitude, depth) float64 26kB 23.8...\n",
       "    U                    (time, latitude, longitude, depth) float64 26kB -0.0...\n",
       "    V                    (time, latitude, longitude, depth) float64 26kB -0.0...\n",
       "    mnkc_epi             (time, latitude, longitude) float64 9kB 0.2862 ... 0...\n",
       "    mnkc_hmlmeso         (time, latitude, longitude) float64 9kB 0.8062 ... 0...\n",
       "    mnkc_lmeso           (time, latitude, longitude) float64 9kB 2.113 ... 2.116\n",
       "    ...                   ...\n",
       "    mnkc_mumeso          (time, latitude, longitude) float64 9kB 0.5676 ... 0...\n",
       "    mnkc_umeso           (time, latitude, longitude) float64 9kB 0.4922 ... 0...\n",
       "    npp                  (time, latitude, longitude) float64 9kB 322.7 ... 302.2\n",
       "    pelagic_layer_depth  (time, latitude, longitude, depth) float64 26kB 113....\n",
       "    zeu                  (time, latitude, longitude) float64 9kB 75.51 ... 76.5\n",
       "    zooc                 (time, latitude, longitude) float64 9kB 0.267 ... 0.261\n",
       "Attributes:\n",
       "    Conventions:  CF-1.7\n",
       "    history:      Created on 2024-10-17\n",
       "    institution:  CLS\n",
       "    references:   http://www.cls.fr; http://www.seapodym.eu\n",
       "    source:       SEAPODYM-LMTL 3.0.0\n",
       "    title:        Global ocean low and mid trophic levels biomass content hin...</pre><div class='xr-wrap' style='display:none'><div class='xr-header'><div class='xr-obj-type'>xarray.Dataset</div></div><ul class='xr-sections'><li class='xr-section-item'><input id='section-fcd91471-6d49-4b35-9e8d-0c02bdbc1fd6' class='xr-section-summary-in' type='checkbox' disabled ><label for='section-fcd91471-6d49-4b35-9e8d-0c02bdbc1fd6' class='xr-section-summary'  title='Expand/collapse section'>Dimensions:</label><div class='xr-section-inline-details'><ul class='xr-dim-list'><li><span class='xr-has-index'>time</span>: 1095</li><li><span class='xr-has-index'>latitude</span>: 1</li><li><span class='xr-has-index'>longitude</span>: 1</li><li><span class='xr-has-index'>depth</span>: 3</li></ul></div><div class='xr-section-details'></div></li><li class='xr-section-item'><input id='section-e6fafdcc-3a8b-483e-8537-fc76725616a8' class='xr-section-summary-in' type='checkbox'  checked><label for='section-e6fafdcc-3a8b-483e-8537-fc76725616a8' class='xr-section-summary' >Coordinates: <span>(4)</span></label><div class='xr-section-inline-details'></div><div class='xr-section-details'><ul class='xr-var-list'><li class='xr-var-item'><div class='xr-var-name'><span class='xr-has-index'>depth</span></div><div class='xr-var-dims'>(depth)</div><div class='xr-var-dtype'>int64</div><div class='xr-var-preview xr-preview'>0 1 2</div><input id='attrs-f6403b38-c8fd-401c-924d-1eac8e6527e8' class='xr-var-attrs-in' type='checkbox' ><label for='attrs-f6403b38-c8fd-401c-924d-1eac8e6527e8' title='Show/Hide attributes'><svg class='icon xr-icon-file-text2'><use xlink:href='#icon-file-text2'></use></svg></label><input id='data-0706661b-4829-4523-ac40-da3462c04d5c' class='xr-var-data-in' type='checkbox'><label for='data-0706661b-4829-4523-ac40-da3462c04d5c' title='Show/Hide data repr'><svg class='icon xr-icon-database'><use xlink:href='#icon-database'></use></svg></label><div class='xr-var-attrs'><dl class='xr-attrs'><dt><span>axis :</span></dt><dd>Z</dd><dt><span>desc :</span></dt><dd>The layer depth according to Seapodym definition</dd><dt><span>flag_meanings :</span></dt><dd>epipelagic, upper-mesopelagic, lower-mesopelagic</dd><dt><span>flag_values :</span></dt><dd>[0 1 2]</dd><dt><span>long_name :</span></dt><dd>Layer depth</dd><dt><span>standard_name :</span></dt><dd>depth</dd></dl></div><div class='xr-var-data'><pre>array([0, 1, 2])</pre></div></li><li class='xr-var-item'><div class='xr-var-name'><span class='xr-has-index'>latitude</span></div><div class='xr-var-dims'>(latitude)</div><div class='xr-var-dtype'>float64</div><div class='xr-var-preview xr-preview'>22.75</div><input id='attrs-0ca247c3-cefd-4ccb-b3c3-0033b018af77' class='xr-var-attrs-in' type='checkbox' ><label for='attrs-0ca247c3-cefd-4ccb-b3c3-0033b018af77' title='Show/Hide attributes'><svg class='icon xr-icon-file-text2'><use xlink:href='#icon-file-text2'></use></svg></label><input id='data-be19932b-bcd8-4a6e-b07d-3bc2b63b6dbb' class='xr-var-data-in' type='checkbox'><label for='data-be19932b-bcd8-4a6e-b07d-3bc2b63b6dbb' title='Show/Hide data repr'><svg class='icon xr-icon-database'><use xlink:href='#icon-database'></use></svg></label><div class='xr-var-attrs'><dl class='xr-attrs'><dt><span>axis :</span></dt><dd>Y</dd><dt><span>standard_name :</span></dt><dd>latitude</dd><dt><span>units :</span></dt><dd>degrees_north</dd></dl></div><div class='xr-var-data'><pre>array([22.75])</pre></div></li><li class='xr-var-item'><div class='xr-var-name'><span class='xr-has-index'>longitude</span></div><div class='xr-var-dims'>(longitude)</div><div class='xr-var-dtype'>int64</div><div class='xr-var-preview xr-preview'>-158</div><input id='attrs-3e18bbe3-d9f5-486a-8a86-1082abf0db1d' class='xr-var-attrs-in' type='checkbox' ><label for='attrs-3e18bbe3-d9f5-486a-8a86-1082abf0db1d' title='Show/Hide attributes'><svg class='icon xr-icon-file-text2'><use xlink:href='#icon-file-text2'></use></svg></label><input id='data-f3758d90-fd4e-4a24-b737-f3d02118884a' class='xr-var-data-in' type='checkbox'><label for='data-f3758d90-fd4e-4a24-b737-f3d02118884a' title='Show/Hide data repr'><svg class='icon xr-icon-database'><use xlink:href='#icon-database'></use></svg></label><div class='xr-var-attrs'><dl class='xr-attrs'><dt><span>axis :</span></dt><dd>X</dd><dt><span>standard_name :</span></dt><dd>longitude</dd><dt><span>units :</span></dt><dd>degrees_east</dd></dl></div><div class='xr-var-data'><pre>array([-158])</pre></div></li><li class='xr-var-item'><div class='xr-var-name'><span class='xr-has-index'>time</span></div><div class='xr-var-dims'>(time)</div><div class='xr-var-dtype'>datetime64[ns]</div><div class='xr-var-preview xr-preview'>2005-01-02 ... 2008-01-01</div><input id='attrs-9d1b0f7f-b687-417c-b8de-27f6c9d770f9' class='xr-var-attrs-in' type='checkbox' ><label for='attrs-9d1b0f7f-b687-417c-b8de-27f6c9d770f9' title='Show/Hide attributes'><svg class='icon xr-icon-file-text2'><use xlink:href='#icon-file-text2'></use></svg></label><input id='data-7744fe78-5697-41e1-b2f0-a9c324ba2eb2' class='xr-var-data-in' type='checkbox'><label for='data-7744fe78-5697-41e1-b2f0-a9c324ba2eb2' title='Show/Hide data repr'><svg class='icon xr-icon-database'><use xlink:href='#icon-database'></use></svg></label><div class='xr-var-attrs'><dl class='xr-attrs'><dt><span>axis :</span></dt><dd>T</dd><dt><span>long_name :</span></dt><dd>Time</dd><dt><span>standard_name :</span></dt><dd>time</dd><dt><span>unit_long :</span></dt><dd>Seconds Since 1970-01-01</dd></dl></div><div class='xr-var-data'><pre>array([&#x27;2005-01-02T00:00:00.000000000&#x27;, &#x27;2005-01-03T00:00:00.000000000&#x27;,\n",
       "       &#x27;2005-01-04T00:00:00.000000000&#x27;, ..., &#x27;2007-12-30T00:00:00.000000000&#x27;,\n",
       "       &#x27;2007-12-31T00:00:00.000000000&#x27;, &#x27;2008-01-01T00:00:00.000000000&#x27;],\n",
       "      shape=(1095,), dtype=&#x27;datetime64[ns]&#x27;)</pre></div></li></ul></div></li><li class='xr-section-item'><input id='section-65320660-c7e2-44c9-92d3-279d3b0d4a30' class='xr-section-summary-in' type='checkbox'  checked><label for='section-65320660-c7e2-44c9-92d3-279d3b0d4a30' class='xr-section-summary' >Data variables: <span>(13)</span></label><div class='xr-section-inline-details'></div><div class='xr-section-details'><ul class='xr-var-list'><li class='xr-var-item'><div class='xr-var-name'><span>T</span></div><div class='xr-var-dims'>(time, latitude, longitude, depth)</div><div class='xr-var-dtype'>float64</div><div class='xr-var-preview xr-preview'>23.86 16.69 6.824 ... 16.53 6.715</div><input id='attrs-1457e193-5f2e-43b3-9e13-57c170ba1d1d' class='xr-var-attrs-in' type='checkbox' ><label for='attrs-1457e193-5f2e-43b3-9e13-57c170ba1d1d' title='Show/Hide attributes'><svg class='icon xr-icon-file-text2'><use xlink:href='#icon-file-text2'></use></svg></label><input id='data-f369393e-5590-4f93-980b-4f345d1ae608' class='xr-var-data-in' type='checkbox'><label for='data-f369393e-5590-4f93-980b-4f345d1ae608' title='Show/Hide data repr'><svg class='icon xr-icon-database'><use xlink:href='#icon-database'></use></svg></label><div class='xr-var-attrs'><dl class='xr-attrs'><dt><span>standard_name :</span></dt><dd>sea_water_potential_temperature_vertical_mean_over_pelagic_layer</dd><dt><span>units :</span></dt><dd>degree_Celsius</dd></dl></div><div class='xr-var-data'><pre>array([[[[23.85599605, 16.6903158 ,  6.82406215]]],\n",
       "\n",
       "\n",
       "       [[[23.82623876, 16.6691888 ,  6.79199569]]],\n",
       "\n",
       "\n",
       "       [[[23.79018946, 16.69249884,  6.81049333]]],\n",
       "\n",
       "\n",
       "       ...,\n",
       "\n",
       "\n",
       "       [[[23.95310747, 16.56651306,  6.78098831]]],\n",
       "\n",
       "\n",
       "       [[[23.93232005, 16.69801466,  6.84669787]]],\n",
       "\n",
       "\n",
       "       [[[23.87575016, 16.53383049,  6.71492945]]]], shape=(1095, 1, 1, 3))</pre></div></li><li class='xr-var-item'><div class='xr-var-name'><span>U</span></div><div class='xr-var-dims'>(time, latitude, longitude, depth)</div><div class='xr-var-dtype'>float64</div><div class='xr-var-preview xr-preview'>-0.03859 -0.07642 ... -0.05221</div><input id='attrs-bf1b673b-c874-4ae1-a64f-e3c4ecc6685f' class='xr-var-attrs-in' type='checkbox' ><label for='attrs-bf1b673b-c874-4ae1-a64f-e3c4ecc6685f' title='Show/Hide attributes'><svg class='icon xr-icon-file-text2'><use xlink:href='#icon-file-text2'></use></svg></label><input id='data-29e65150-1926-4ffb-8dcc-f5b22d2a2379' class='xr-var-data-in' type='checkbox'><label for='data-29e65150-1926-4ffb-8dcc-f5b22d2a2379' title='Show/Hide data repr'><svg class='icon xr-icon-database'><use xlink:href='#icon-database'></use></svg></label><div class='xr-var-attrs'><dl class='xr-attrs'><dt><span>standard_name :</span></dt><dd>eastward_sea_water_velocity_vertical_mean_over_pelagic_layer</dd><dt><span>units :</span></dt><dd>m/s</dd></dl></div><div class='xr-var-data'><pre>array([[[[-0.03859491, -0.0764185 , -0.05107602]]],\n",
       "\n",
       "\n",
       "       [[[-0.03775054, -0.07324144, -0.05091585]]],\n",
       "\n",
       "\n",
       "       [[[-0.04942942, -0.07181869, -0.05055478]]],\n",
       "\n",
       "\n",
       "       ...,\n",
       "\n",
       "\n",
       "       [[[-0.05396413, -0.07599373, -0.04936994]]],\n",
       "\n",
       "\n",
       "       [[[-0.05449473, -0.07566123, -0.04809471]]],\n",
       "\n",
       "\n",
       "       [[[-0.04782075, -0.07742351, -0.0522056 ]]]], shape=(1095, 1, 1, 3))</pre></div></li><li class='xr-var-item'><div class='xr-var-name'><span>V</span></div><div class='xr-var-dims'>(time, latitude, longitude, depth)</div><div class='xr-var-dtype'>float64</div><div class='xr-var-preview xr-preview'>-0.01033 -0.0008562 ... -0.008531</div><input id='attrs-e0ff4ea9-39a5-4043-ac4c-1e8a0e6fedd9' class='xr-var-attrs-in' type='checkbox' ><label for='attrs-e0ff4ea9-39a5-4043-ac4c-1e8a0e6fedd9' title='Show/Hide attributes'><svg class='icon xr-icon-file-text2'><use xlink:href='#icon-file-text2'></use></svg></label><input id='data-83194ae1-f21a-4984-8e24-33521801d139' class='xr-var-data-in' type='checkbox'><label for='data-83194ae1-f21a-4984-8e24-33521801d139' title='Show/Hide data repr'><svg class='icon xr-icon-database'><use xlink:href='#icon-database'></use></svg></label><div class='xr-var-attrs'><dl class='xr-attrs'><dt><span>standard_name :</span></dt><dd>northward_sea_water_velocity_vertical_mean_over_pelagic_layer</dd><dt><span>units :</span></dt><dd>m/s</dd></dl></div><div class='xr-var-data'><pre>array([[[[-0.0103296 , -0.00085623, -0.0076152 ]]],\n",
       "\n",
       "\n",
       "       [[[-0.0225967 , -0.00700535, -0.00887044]]],\n",
       "\n",
       "\n",
       "       [[[-0.02122028, -0.00957228, -0.0096482 ]]],\n",
       "\n",
       "\n",
       "       ...,\n",
       "\n",
       "\n",
       "       [[[-0.00623586, -0.01394295, -0.01677416]]],\n",
       "\n",
       "\n",
       "       [[[-0.01238547, -0.01663739, -0.01764878]]],\n",
       "\n",
       "\n",
       "       [[[-0.00869911,  0.00041263, -0.00853071]]]], shape=(1095, 1, 1, 3))</pre></div></li><li class='xr-var-item'><div class='xr-var-name'><span>mnkc_epi</span></div><div class='xr-var-dims'>(time, latitude, longitude)</div><div class='xr-var-dtype'>float64</div><div class='xr-var-preview xr-preview'>0.2862 0.2936 ... 0.277 0.2813</div><input id='attrs-b0333768-2dde-46aa-98ab-d05e947488e2' class='xr-var-attrs-in' type='checkbox' ><label for='attrs-b0333768-2dde-46aa-98ab-d05e947488e2' title='Show/Hide attributes'><svg class='icon xr-icon-file-text2'><use xlink:href='#icon-file-text2'></use></svg></label><input id='data-352aa29d-eff8-4350-bb22-a27979dff8e8' class='xr-var-data-in' type='checkbox'><label for='data-352aa29d-eff8-4350-bb22-a27979dff8e8' title='Show/Hide data repr'><svg class='icon xr-icon-database'><use xlink:href='#icon-database'></use></svg></label><div class='xr-var-attrs'><dl class='xr-attrs'><dt><span>carbon_to_wet_weight_conversion_factor :</span></dt><dd>11.9</dd><dt><span>day_layer :</span></dt><dd>epipelagic (1)</dd><dt><span>night_layer :</span></dt><dd>epipelagic (1)</dd><dt><span>standard_name :</span></dt><dd>mass_content_of_epipelagic_micronekton_expressed_as_wet_weight_in_sea_water</dd><dt><span>units :</span></dt><dd>g m-2</dd></dl></div><div class='xr-var-data'><pre>array([[[0.28618903]],\n",
       "\n",
       "       [[0.29356157]],\n",
       "\n",
       "       [[0.29937024]],\n",
       "\n",
       "       ...,\n",
       "\n",
       "       [[0.27635898]],\n",
       "\n",
       "       [[0.27702921]],\n",
       "\n",
       "       [[0.281274  ]]], shape=(1095, 1, 1))</pre></div></li><li class='xr-var-item'><div class='xr-var-name'><span>mnkc_hmlmeso</span></div><div class='xr-var-dims'>(time, latitude, longitude)</div><div class='xr-var-dtype'>float64</div><div class='xr-var-preview xr-preview'>0.8062 0.8178 ... 0.8119 0.8012</div><input id='attrs-fd3d0b90-fd13-488a-8c22-47be217f6da1' class='xr-var-attrs-in' type='checkbox' ><label for='attrs-fd3d0b90-fd13-488a-8c22-47be217f6da1' title='Show/Hide attributes'><svg class='icon xr-icon-file-text2'><use xlink:href='#icon-file-text2'></use></svg></label><input id='data-20e739e7-fe10-4e7c-9285-721fc0d1f1c7' class='xr-var-data-in' type='checkbox'><label for='data-20e739e7-fe10-4e7c-9285-721fc0d1f1c7' title='Show/Hide data repr'><svg class='icon xr-icon-database'><use xlink:href='#icon-database'></use></svg></label><div class='xr-var-attrs'><dl class='xr-attrs'><dt><span>carbon_to_wet_weight_conversion_factor :</span></dt><dd>11.9</dd><dt><span>day_layer :</span></dt><dd>lower mesopelagic (3)</dd><dt><span>night_layer :</span></dt><dd>epipelagic (1)</dd><dt><span>standard_name :</span></dt><dd>mass_content_of_highly_migrant_lower_mesopelagic_micronekton_expressed_as_wet_weight_in_sea_water</dd><dt><span>units :</span></dt><dd>g m-2</dd></dl></div><div class='xr-var-data'><pre>array([[[0.80620081]],\n",
       "\n",
       "       [[0.81784154]],\n",
       "\n",
       "       [[0.83001625]],\n",
       "\n",
       "       ...,\n",
       "\n",
       "       [[0.81410369]],\n",
       "\n",
       "       [[0.81186098]],\n",
       "\n",
       "       [[0.80118141]]], shape=(1095, 1, 1))</pre></div></li><li class='xr-var-item'><div class='xr-var-name'><span>mnkc_lmeso</span></div><div class='xr-var-dims'>(time, latitude, longitude)</div><div class='xr-var-dtype'>float64</div><div class='xr-var-preview xr-preview'>2.113 2.114 2.113 ... 2.141 2.116</div><input id='attrs-80ad4444-b2eb-4361-b647-39940e966d26' class='xr-var-attrs-in' type='checkbox' ><label for='attrs-80ad4444-b2eb-4361-b647-39940e966d26' title='Show/Hide attributes'><svg class='icon xr-icon-file-text2'><use xlink:href='#icon-file-text2'></use></svg></label><input id='data-1676e513-a64c-44a4-b745-ca6f629d21d1' class='xr-var-data-in' type='checkbox'><label for='data-1676e513-a64c-44a4-b745-ca6f629d21d1' title='Show/Hide data repr'><svg class='icon xr-icon-database'><use xlink:href='#icon-database'></use></svg></label><div class='xr-var-attrs'><dl class='xr-attrs'><dt><span>carbon_to_wet_weight_conversion_factor :</span></dt><dd>11.9</dd><dt><span>day_layer :</span></dt><dd>lower mesopelagic (3)</dd><dt><span>night_layer :</span></dt><dd>lower mesopelagic (3)</dd><dt><span>standard_name :</span></dt><dd>mass_content_of_lower_mesopelagic_micronekton_expressed_as_wet_weight_in_sea_water</dd><dt><span>units :</span></dt><dd>g m-2</dd></dl></div><div class='xr-var-data'><pre>array([[[2.11295278]],\n",
       "\n",
       "       [[2.11440443]],\n",
       "\n",
       "       [[2.11316626]],\n",
       "\n",
       "       ...,\n",
       "\n",
       "       [[2.14463277]],\n",
       "\n",
       "       [[2.14134522]],\n",
       "\n",
       "       [[2.11632572]]], shape=(1095, 1, 1))</pre></div></li><li class='xr-var-item'><div class='xr-var-name'><span>mnkc_mlmeso</span></div><div class='xr-var-dims'>(time, latitude, longitude)</div><div class='xr-var-dtype'>float64</div><div class='xr-var-preview xr-preview'>0.9614 0.9648 ... 0.9592 0.9545</div><input id='attrs-e153984b-0aaf-4dfd-9d14-d22063111f7b' class='xr-var-attrs-in' type='checkbox' ><label for='attrs-e153984b-0aaf-4dfd-9d14-d22063111f7b' title='Show/Hide attributes'><svg class='icon xr-icon-file-text2'><use xlink:href='#icon-file-text2'></use></svg></label><input id='data-5567d72e-56d4-489a-bbd1-846a6705db7f' class='xr-var-data-in' type='checkbox'><label for='data-5567d72e-56d4-489a-bbd1-846a6705db7f' title='Show/Hide data repr'><svg class='icon xr-icon-database'><use xlink:href='#icon-database'></use></svg></label><div class='xr-var-attrs'><dl class='xr-attrs'><dt><span>carbon_to_wet_weight_conversion_factor :</span></dt><dd>11.9</dd><dt><span>day_layer :</span></dt><dd>lower mesopelagic (3)</dd><dt><span>night_layer :</span></dt><dd>upper mesopelagic (2)</dd><dt><span>standard_name :</span></dt><dd>mass_content_of_migrant_lower_mesopelagic_micronekton_expressed_as_wet_weight_in_sea_water</dd><dt><span>units :</span></dt><dd>g m-2</dd></dl></div><div class='xr-var-data'><pre>array([[[0.96142721]],\n",
       "\n",
       "       [[0.96477503]],\n",
       "\n",
       "       [[0.96818981]],\n",
       "\n",
       "       ...,\n",
       "\n",
       "       [[0.94904028]],\n",
       "\n",
       "       [[0.95921765]],\n",
       "\n",
       "       [[0.9545307 ]]], shape=(1095, 1, 1))</pre></div></li><li class='xr-var-item'><div class='xr-var-name'><span>mnkc_mumeso</span></div><div class='xr-var-dims'>(time, latitude, longitude)</div><div class='xr-var-dtype'>float64</div><div class='xr-var-preview xr-preview'>0.5676 0.5756 ... 0.5632 0.5679</div><input id='attrs-f9abc5b1-ec6d-4a29-a2b0-b407a411bbb3' class='xr-var-attrs-in' type='checkbox' ><label for='attrs-f9abc5b1-ec6d-4a29-a2b0-b407a411bbb3' title='Show/Hide attributes'><svg class='icon xr-icon-file-text2'><use xlink:href='#icon-file-text2'></use></svg></label><input id='data-a311c7d6-ced3-40fe-a36e-450be5734e25' class='xr-var-data-in' type='checkbox'><label for='data-a311c7d6-ced3-40fe-a36e-450be5734e25' title='Show/Hide data repr'><svg class='icon xr-icon-database'><use xlink:href='#icon-database'></use></svg></label><div class='xr-var-attrs'><dl class='xr-attrs'><dt><span>carbon_to_wet_weight_conversion_factor :</span></dt><dd>11.9</dd><dt><span>day_layer :</span></dt><dd>upper mesopelagic (2)</dd><dt><span>night_layer :</span></dt><dd>epipelagic (1)</dd><dt><span>standard_name :</span></dt><dd>mass_content_of_migrant_upper_mesopelagic_micronekton_expressed_as_wet_weight_in_sea_water</dd><dt><span>units :</span></dt><dd>g m-2</dd></dl></div><div class='xr-var-data'><pre>array([[[0.56757045]],\n",
       "\n",
       "       [[0.57559264]],\n",
       "\n",
       "       [[0.579938  ]],\n",
       "\n",
       "       ...,\n",
       "\n",
       "       [[0.55988252]],\n",
       "\n",
       "       [[0.5632251 ]],\n",
       "\n",
       "       [[0.56790471]]], shape=(1095, 1, 1))</pre></div></li><li class='xr-var-item'><div class='xr-var-name'><span>mnkc_umeso</span></div><div class='xr-var-dims'>(time, latitude, longitude)</div><div class='xr-var-dtype'>float64</div><div class='xr-var-preview xr-preview'>0.4922 0.4899 ... 0.4999 0.4899</div><input id='attrs-3def29d4-3f25-4103-8644-069be342e6b4' class='xr-var-attrs-in' type='checkbox' ><label for='attrs-3def29d4-3f25-4103-8644-069be342e6b4' title='Show/Hide attributes'><svg class='icon xr-icon-file-text2'><use xlink:href='#icon-file-text2'></use></svg></label><input id='data-17ddeddd-7007-4183-8cbf-e22a0e85c7ef' class='xr-var-data-in' type='checkbox'><label for='data-17ddeddd-7007-4183-8cbf-e22a0e85c7ef' title='Show/Hide data repr'><svg class='icon xr-icon-database'><use xlink:href='#icon-database'></use></svg></label><div class='xr-var-attrs'><dl class='xr-attrs'><dt><span>carbon_to_wet_weight_conversion_factor :</span></dt><dd>11.9</dd><dt><span>day_layer :</span></dt><dd>upper mesopelagic (2)</dd><dt><span>night_layer :</span></dt><dd>upper mesopelagic (2)</dd><dt><span>standard_name :</span></dt><dd>mass_content_of_upper_mesopelagic_micronekton_expressed_as_wet_weight_in_sea_water</dd><dt><span>units :</span></dt><dd>g m-2</dd></dl></div><div class='xr-var-data'><pre>array([[[0.49217136]],\n",
       "\n",
       "       [[0.48988137]],\n",
       "\n",
       "       [[0.49129059]],\n",
       "\n",
       "       ...,\n",
       "\n",
       "       [[0.49340443]],\n",
       "\n",
       "       [[0.49992208]],\n",
       "\n",
       "       [[0.48988137]]], shape=(1095, 1, 1))</pre></div></li><li class='xr-var-item'><div class='xr-var-name'><span>npp</span></div><div class='xr-var-dims'>(time, latitude, longitude)</div><div class='xr-var-dtype'>float64</div><div class='xr-var-preview xr-preview'>322.7 325.5 328.0 ... 322.8 302.2</div><input id='attrs-f2c53373-98d0-41e4-9c90-e77dde3a7577' class='xr-var-attrs-in' type='checkbox' ><label for='attrs-f2c53373-98d0-41e4-9c90-e77dde3a7577' title='Show/Hide attributes'><svg class='icon xr-icon-file-text2'><use xlink:href='#icon-file-text2'></use></svg></label><input id='data-316bc55b-e553-45c0-93a4-f86e3ccefe15' class='xr-var-data-in' type='checkbox'><label for='data-316bc55b-e553-45c0-93a4-f86e3ccefe15' title='Show/Hide data repr'><svg class='icon xr-icon-database'><use xlink:href='#icon-database'></use></svg></label><div class='xr-var-attrs'><dl class='xr-attrs'><dt><span>standard_name :</span></dt><dd>net_primary_productivity_of_biomass_expressed_as_carbon_in_sea_water</dd><dt><span>units :</span></dt><dd>mg m-2 day-1</dd></dl></div><div class='xr-var-data'><pre>array([[[322.66866924]],\n",
       "\n",
       "       [[325.47677962]],\n",
       "\n",
       "       [[327.97788084]],\n",
       "\n",
       "       ...,\n",
       "\n",
       "       [[317.48430802]],\n",
       "\n",
       "       [[322.82012709]],\n",
       "\n",
       "       [[302.20957934]]], shape=(1095, 1, 1))</pre></div></li><li class='xr-var-item'><div class='xr-var-name'><span>pelagic_layer_depth</span></div><div class='xr-var-dims'>(time, latitude, longitude, depth)</div><div class='xr-var-dtype'>float64</div><div class='xr-var-preview xr-preview'>113.3 339.8 792.8 ... 344.2 803.2</div><input id='attrs-1a387746-833c-442b-b6ac-0a099edb954f' class='xr-var-attrs-in' type='checkbox' ><label for='attrs-1a387746-833c-442b-b6ac-0a099edb954f' title='Show/Hide attributes'><svg class='icon xr-icon-file-text2'><use xlink:href='#icon-file-text2'></use></svg></label><input id='data-9dbed783-b02b-477f-9390-a55f9f9d9e59' class='xr-var-data-in' type='checkbox'><label for='data-9dbed783-b02b-477f-9390-a55f9f9d9e59' title='Show/Hide data repr'><svg class='icon xr-icon-database'><use xlink:href='#icon-database'></use></svg></label><div class='xr-var-attrs'><dl class='xr-attrs'><dt><span>standard_name :</span></dt><dd>sea_water_pelagic_layer_bottom_depth</dd><dt><span>units :</span></dt><dd>m</dd></dl></div><div class='xr-var-data'><pre>array([[[[113.25850446, 339.77593816, 792.81042002]]],\n",
       "\n",
       "\n",
       "       [[[113.67641789, 341.02608018, 795.7272039 ]]],\n",
       "\n",
       "\n",
       "       [[[113.37776143, 340.13293801, 793.64213458]]],\n",
       "\n",
       "\n",
       "       ...,\n",
       "\n",
       "\n",
       "       [[[114.06464559, 342.19204838, 798.44775352]]],\n",
       "\n",
       "\n",
       "       [[[112.9625467 , 338.88767935, 790.73550296]]],\n",
       "\n",
       "\n",
       "       [[[114.74266259, 344.22931211, 803.20261116]]]],\n",
       "      shape=(1095, 1, 1, 3))</pre></div></li><li class='xr-var-item'><div class='xr-var-name'><span>zeu</span></div><div class='xr-var-dims'>(time, latitude, longitude)</div><div class='xr-var-dtype'>float64</div><div class='xr-var-preview xr-preview'>75.51 75.78 75.59 ... 75.31 76.5</div><input id='attrs-7c3532af-1511-4bc1-8549-8770e68d26c5' class='xr-var-attrs-in' type='checkbox' ><label for='attrs-7c3532af-1511-4bc1-8549-8770e68d26c5' title='Show/Hide attributes'><svg class='icon xr-icon-file-text2'><use xlink:href='#icon-file-text2'></use></svg></label><input id='data-f76072da-ad21-42f0-b1e1-02bf38b58ba7' class='xr-var-data-in' type='checkbox'><label for='data-f76072da-ad21-42f0-b1e1-02bf38b58ba7' title='Show/Hide data repr'><svg class='icon xr-icon-database'><use xlink:href='#icon-database'></use></svg></label><div class='xr-var-attrs'><dl class='xr-attrs'><dt><span>standard_name :</span></dt><dd>euphotic_zone_depth</dd><dt><span>units :</span></dt><dd>m</dd></dl></div><div class='xr-var-data'><pre>array([[[75.50578673]],\n",
       "\n",
       "       [[75.78359857]],\n",
       "\n",
       "       [[75.58513132]],\n",
       "\n",
       "       ...,\n",
       "\n",
       "       [[76.04263218]],\n",
       "\n",
       "       [[75.30824517]],\n",
       "\n",
       "       [[76.49555751]]], shape=(1095, 1, 1))</pre></div></li><li class='xr-var-item'><div class='xr-var-name'><span>zooc</span></div><div class='xr-var-dims'>(time, latitude, longitude)</div><div class='xr-var-dtype'>float64</div><div class='xr-var-preview xr-preview'>0.267 0.2761 ... 0.2627 0.261</div><input id='attrs-bdae43d8-4e29-447f-8715-b7f6f096b7e0' class='xr-var-attrs-in' type='checkbox' ><label for='attrs-bdae43d8-4e29-447f-8715-b7f6f096b7e0' title='Show/Hide attributes'><svg class='icon xr-icon-file-text2'><use xlink:href='#icon-file-text2'></use></svg></label><input id='data-58f2f391-d15e-4e27-958b-cc5e4f617583' class='xr-var-data-in' type='checkbox'><label for='data-58f2f391-d15e-4e27-958b-cc5e4f617583' title='Show/Hide data repr'><svg class='icon xr-icon-database'><use xlink:href='#icon-database'></use></svg></label><div class='xr-var-attrs'><dl class='xr-attrs'><dt><span>standard_name :</span></dt><dd>mass_content_of_zooplankton_expressed_as_carbon_in_sea_water</dd><dt><span>units :</span></dt><dd>g m-2</dd></dl></div><div class='xr-var-data'><pre>array([[[0.26696391]],\n",
       "\n",
       "       [[0.27610917]],\n",
       "\n",
       "       [[0.27830793]],\n",
       "\n",
       "       ...,\n",
       "\n",
       "       [[0.26015361]],\n",
       "\n",
       "       [[0.26266369]],\n",
       "\n",
       "       [[0.26095138]]], shape=(1095, 1, 1))</pre></div></li></ul></div></li><li class='xr-section-item'><input id='section-47b30264-de80-4a95-a0e0-13e1fc74e38f' class='xr-section-summary-in' type='checkbox'  ><label for='section-47b30264-de80-4a95-a0e0-13e1fc74e38f' class='xr-section-summary' >Indexes: <span>(4)</span></label><div class='xr-section-inline-details'></div><div class='xr-section-details'><ul class='xr-var-list'><li class='xr-var-item'><div class='xr-index-name'><div>depth</div></div><div class='xr-index-preview'>PandasIndex</div><input type='checkbox' disabled/><label></label><input id='index-e0dee2c2-7e70-477b-9316-043612e5d371' class='xr-index-data-in' type='checkbox'/><label for='index-e0dee2c2-7e70-477b-9316-043612e5d371' title='Show/Hide index repr'><svg class='icon xr-icon-database'><use xlink:href='#icon-database'></use></svg></label><div class='xr-index-data'><pre>PandasIndex(Index([0, 1, 2], dtype=&#x27;int64&#x27;, name=&#x27;depth&#x27;))</pre></div></li><li class='xr-var-item'><div class='xr-index-name'><div>latitude</div></div><div class='xr-index-preview'>PandasIndex</div><input type='checkbox' disabled/><label></label><input id='index-314757cd-b94f-4d32-b8c9-73eda86ee4bd' class='xr-index-data-in' type='checkbox'/><label for='index-314757cd-b94f-4d32-b8c9-73eda86ee4bd' title='Show/Hide index repr'><svg class='icon xr-icon-database'><use xlink:href='#icon-database'></use></svg></label><div class='xr-index-data'><pre>PandasIndex(Index([22.75], dtype=&#x27;float64&#x27;, name=&#x27;latitude&#x27;))</pre></div></li><li class='xr-var-item'><div class='xr-index-name'><div>longitude</div></div><div class='xr-index-preview'>PandasIndex</div><input type='checkbox' disabled/><label></label><input id='index-5e29762b-416e-4cd4-823d-5d3b7f6f71ce' class='xr-index-data-in' type='checkbox'/><label for='index-5e29762b-416e-4cd4-823d-5d3b7f6f71ce' title='Show/Hide index repr'><svg class='icon xr-icon-database'><use xlink:href='#icon-database'></use></svg></label><div class='xr-index-data'><pre>PandasIndex(Index([-158], dtype=&#x27;int64&#x27;, name=&#x27;longitude&#x27;))</pre></div></li><li class='xr-var-item'><div class='xr-index-name'><div>time</div></div><div class='xr-index-preview'>PandasIndex</div><input type='checkbox' disabled/><label></label><input id='index-0cfef719-0096-4d7d-be7a-06f58daa98ef' class='xr-index-data-in' type='checkbox'/><label for='index-0cfef719-0096-4d7d-be7a-06f58daa98ef' title='Show/Hide index repr'><svg class='icon xr-icon-database'><use xlink:href='#icon-database'></use></svg></label><div class='xr-index-data'><pre>PandasIndex(DatetimeIndex([&#x27;2005-01-02&#x27;, &#x27;2005-01-03&#x27;, &#x27;2005-01-04&#x27;, &#x27;2005-01-05&#x27;,\n",
       "               &#x27;2005-01-06&#x27;, &#x27;2005-01-07&#x27;, &#x27;2005-01-08&#x27;, &#x27;2005-01-09&#x27;,\n",
       "               &#x27;2005-01-10&#x27;, &#x27;2005-01-11&#x27;,\n",
       "               ...\n",
       "               &#x27;2007-12-23&#x27;, &#x27;2007-12-24&#x27;, &#x27;2007-12-25&#x27;, &#x27;2007-12-26&#x27;,\n",
       "               &#x27;2007-12-27&#x27;, &#x27;2007-12-28&#x27;, &#x27;2007-12-29&#x27;, &#x27;2007-12-30&#x27;,\n",
       "               &#x27;2007-12-31&#x27;, &#x27;2008-01-01&#x27;],\n",
       "              dtype=&#x27;datetime64[ns]&#x27;, name=&#x27;time&#x27;, length=1095, freq=None))</pre></div></li></ul></div></li><li class='xr-section-item'><input id='section-21c87e46-72cc-452a-82db-bf9992ad099b' class='xr-section-summary-in' type='checkbox'  checked><label for='section-21c87e46-72cc-452a-82db-bf9992ad099b' class='xr-section-summary' >Attributes: <span>(6)</span></label><div class='xr-section-inline-details'></div><div class='xr-section-details'><dl class='xr-attrs'><dt><span>Conventions :</span></dt><dd>CF-1.7</dd><dt><span>history :</span></dt><dd>Created on 2024-10-17</dd><dt><span>institution :</span></dt><dd>CLS</dd><dt><span>references :</span></dt><dd>http://www.cls.fr; http://www.seapodym.eu</dd><dt><span>source :</span></dt><dd>SEAPODYM-LMTL 3.0.0</dd><dt><span>title :</span></dt><dd>Global ocean low and mid trophic levels biomass content hindcast</dd></dl></div></li></ul></div></div>"
      ],
      "text/plain": [
       "<xarray.Dataset> Size: 193kB\n",
       "Dimensions:              (time: 1095, latitude: 1, longitude: 1, depth: 3)\n",
       "Coordinates:\n",
       "  * depth                (depth) int64 24B 0 1 2\n",
       "  * latitude             (latitude) float64 8B 22.75\n",
       "  * longitude            (longitude) int64 8B -158\n",
       "  * time                 (time) datetime64[ns] 9kB 2005-01-02 ... 2008-01-01\n",
       "Data variables: (12/13)\n",
       "    T                    (time, latitude, longitude, depth) float64 26kB 23.8...\n",
       "    U                    (time, latitude, longitude, depth) float64 26kB -0.0...\n",
       "    V                    (time, latitude, longitude, depth) float64 26kB -0.0...\n",
       "    mnkc_epi             (time, latitude, longitude) float64 9kB 0.2862 ... 0...\n",
       "    mnkc_hmlmeso         (time, latitude, longitude) float64 9kB 0.8062 ... 0...\n",
       "    mnkc_lmeso           (time, latitude, longitude) float64 9kB 2.113 ... 2.116\n",
       "    ...                   ...\n",
       "    mnkc_mumeso          (time, latitude, longitude) float64 9kB 0.5676 ... 0...\n",
       "    mnkc_umeso           (time, latitude, longitude) float64 9kB 0.4922 ... 0...\n",
       "    npp                  (time, latitude, longitude) float64 9kB 322.7 ... 302.2\n",
       "    pelagic_layer_depth  (time, latitude, longitude, depth) float64 26kB 113....\n",
       "    zeu                  (time, latitude, longitude) float64 9kB 75.51 ... 76.5\n",
       "    zooc                 (time, latitude, longitude) float64 9kB 0.267 ... 0.261\n",
       "Attributes:\n",
       "    Conventions:  CF-1.7\n",
       "    history:      Created on 2024-10-17\n",
       "    institution:  CLS\n",
       "    references:   http://www.cls.fr; http://www.seapodym.eu\n",
       "    source:       SEAPODYM-LMTL 3.0.0\n",
       "    title:        Global ocean low and mid trophic levels biomass content hin..."
      ]
     },
     "execution_count": 4,
     "metadata": {},
     "output_type": "execute_result"
    }
   ],
   "source": [
    "forcing = xr.open_zarr(path_to_forcing)\n",
    "forcing = forcing.sel(time=slice(TIME_START, TIME_END))\n",
    "forcing[\"T\"].attrs[\"units\"] = StandardUnitsLabels.temperature.units\n",
    "forcing.load()"
   ]
  },
  {
   "cell_type": "markdown",
   "metadata": {},
   "source": [
    "### Epipelagic layer\n"
   ]
  },
  {
   "cell_type": "code",
   "execution_count": 5,
   "metadata": {},
   "outputs": [
    {
     "data": {
      "text/html": [
       "<div><svg style=\"position: absolute; width: 0; height: 0; overflow: hidden\">\n",
       "<defs>\n",
       "<symbol id=\"icon-database\" viewBox=\"0 0 32 32\">\n",
       "<path d=\"M16 0c-8.837 0-16 2.239-16 5v4c0 2.761 7.163 5 16 5s16-2.239 16-5v-4c0-2.761-7.163-5-16-5z\"></path>\n",
       "<path d=\"M16 17c-8.837 0-16-2.239-16-5v6c0 2.761 7.163 5 16 5s16-2.239 16-5v-6c0 2.761-7.163 5-16 5z\"></path>\n",
       "<path d=\"M16 26c-8.837 0-16-2.239-16-5v6c0 2.761 7.163 5 16 5s16-2.239 16-5v-6c0 2.761-7.163 5-16 5z\"></path>\n",
       "</symbol>\n",
       "<symbol id=\"icon-file-text2\" viewBox=\"0 0 32 32\">\n",
       "<path d=\"M28.681 7.159c-0.694-0.947-1.662-2.053-2.724-3.116s-2.169-2.030-3.116-2.724c-1.612-1.182-2.393-1.319-2.841-1.319h-15.5c-1.378 0-2.5 1.121-2.5 2.5v27c0 1.378 1.122 2.5 2.5 2.5h23c1.378 0 2.5-1.122 2.5-2.5v-19.5c0-0.448-0.137-1.23-1.319-2.841zM24.543 5.457c0.959 0.959 1.712 1.825 2.268 2.543h-4.811v-4.811c0.718 0.556 1.584 1.309 2.543 2.268zM28 29.5c0 0.271-0.229 0.5-0.5 0.5h-23c-0.271 0-0.5-0.229-0.5-0.5v-27c0-0.271 0.229-0.5 0.5-0.5 0 0 15.499-0 15.5 0v7c0 0.552 0.448 1 1 1h7v19.5z\"></path>\n",
       "<path d=\"M23 26h-14c-0.552 0-1-0.448-1-1s0.448-1 1-1h14c0.552 0 1 0.448 1 1s-0.448 1-1 1z\"></path>\n",
       "<path d=\"M23 22h-14c-0.552 0-1-0.448-1-1s0.448-1 1-1h14c0.552 0 1 0.448 1 1s-0.448 1-1 1z\"></path>\n",
       "<path d=\"M23 18h-14c-0.552 0-1-0.448-1-1s0.448-1 1-1h14c0.552 0 1 0.448 1 1s-0.448 1-1 1z\"></path>\n",
       "</symbol>\n",
       "</defs>\n",
       "</svg>\n",
       "<style>/* CSS stylesheet for displaying xarray objects in jupyterlab.\n",
       " *\n",
       " */\n",
       "\n",
       ":root {\n",
       "  --xr-font-color0: var(--jp-content-font-color0, rgba(0, 0, 0, 1));\n",
       "  --xr-font-color2: var(--jp-content-font-color2, rgba(0, 0, 0, 0.54));\n",
       "  --xr-font-color3: var(--jp-content-font-color3, rgba(0, 0, 0, 0.38));\n",
       "  --xr-border-color: var(--jp-border-color2, #e0e0e0);\n",
       "  --xr-disabled-color: var(--jp-layout-color3, #bdbdbd);\n",
       "  --xr-background-color: var(--jp-layout-color0, white);\n",
       "  --xr-background-color-row-even: var(--jp-layout-color1, white);\n",
       "  --xr-background-color-row-odd: var(--jp-layout-color2, #eeeeee);\n",
       "}\n",
       "\n",
       "html[theme=\"dark\"],\n",
       "html[data-theme=\"dark\"],\n",
       "body[data-theme=\"dark\"],\n",
       "body.vscode-dark {\n",
       "  --xr-font-color0: rgba(255, 255, 255, 1);\n",
       "  --xr-font-color2: rgba(255, 255, 255, 0.54);\n",
       "  --xr-font-color3: rgba(255, 255, 255, 0.38);\n",
       "  --xr-border-color: #1f1f1f;\n",
       "  --xr-disabled-color: #515151;\n",
       "  --xr-background-color: #111111;\n",
       "  --xr-background-color-row-even: #111111;\n",
       "  --xr-background-color-row-odd: #313131;\n",
       "}\n",
       "\n",
       ".xr-wrap {\n",
       "  display: block !important;\n",
       "  min-width: 300px;\n",
       "  max-width: 700px;\n",
       "}\n",
       "\n",
       ".xr-text-repr-fallback {\n",
       "  /* fallback to plain text repr when CSS is not injected (untrusted notebook) */\n",
       "  display: none;\n",
       "}\n",
       "\n",
       ".xr-header {\n",
       "  padding-top: 6px;\n",
       "  padding-bottom: 6px;\n",
       "  margin-bottom: 4px;\n",
       "  border-bottom: solid 1px var(--xr-border-color);\n",
       "}\n",
       "\n",
       ".xr-header > div,\n",
       ".xr-header > ul {\n",
       "  display: inline;\n",
       "  margin-top: 0;\n",
       "  margin-bottom: 0;\n",
       "}\n",
       "\n",
       ".xr-obj-type,\n",
       ".xr-array-name {\n",
       "  margin-left: 2px;\n",
       "  margin-right: 10px;\n",
       "}\n",
       "\n",
       ".xr-obj-type {\n",
       "  color: var(--xr-font-color2);\n",
       "}\n",
       "\n",
       ".xr-sections {\n",
       "  padding-left: 0 !important;\n",
       "  display: grid;\n",
       "  grid-template-columns: 150px auto auto 1fr 0 20px 0 20px;\n",
       "}\n",
       "\n",
       ".xr-section-item {\n",
       "  display: contents;\n",
       "}\n",
       "\n",
       ".xr-section-item input {\n",
       "  display: inline-block;\n",
       "  opacity: 0;\n",
       "  height: 0;\n",
       "}\n",
       "\n",
       ".xr-section-item input + label {\n",
       "  color: var(--xr-disabled-color);\n",
       "}\n",
       "\n",
       ".xr-section-item input:enabled + label {\n",
       "  cursor: pointer;\n",
       "  color: var(--xr-font-color2);\n",
       "}\n",
       "\n",
       ".xr-section-item input:focus + label {\n",
       "  border: 2px solid var(--xr-font-color0);\n",
       "}\n",
       "\n",
       ".xr-section-item input:enabled + label:hover {\n",
       "  color: var(--xr-font-color0);\n",
       "}\n",
       "\n",
       ".xr-section-summary {\n",
       "  grid-column: 1;\n",
       "  color: var(--xr-font-color2);\n",
       "  font-weight: 500;\n",
       "}\n",
       "\n",
       ".xr-section-summary > span {\n",
       "  display: inline-block;\n",
       "  padding-left: 0.5em;\n",
       "}\n",
       "\n",
       ".xr-section-summary-in:disabled + label {\n",
       "  color: var(--xr-font-color2);\n",
       "}\n",
       "\n",
       ".xr-section-summary-in + label:before {\n",
       "  display: inline-block;\n",
       "  content: \"►\";\n",
       "  font-size: 11px;\n",
       "  width: 15px;\n",
       "  text-align: center;\n",
       "}\n",
       "\n",
       ".xr-section-summary-in:disabled + label:before {\n",
       "  color: var(--xr-disabled-color);\n",
       "}\n",
       "\n",
       ".xr-section-summary-in:checked + label:before {\n",
       "  content: \"▼\";\n",
       "}\n",
       "\n",
       ".xr-section-summary-in:checked + label > span {\n",
       "  display: none;\n",
       "}\n",
       "\n",
       ".xr-section-summary,\n",
       ".xr-section-inline-details {\n",
       "  padding-top: 4px;\n",
       "  padding-bottom: 4px;\n",
       "}\n",
       "\n",
       ".xr-section-inline-details {\n",
       "  grid-column: 2 / -1;\n",
       "}\n",
       "\n",
       ".xr-section-details {\n",
       "  display: none;\n",
       "  grid-column: 1 / -1;\n",
       "  margin-bottom: 5px;\n",
       "}\n",
       "\n",
       ".xr-section-summary-in:checked ~ .xr-section-details {\n",
       "  display: contents;\n",
       "}\n",
       "\n",
       ".xr-array-wrap {\n",
       "  grid-column: 1 / -1;\n",
       "  display: grid;\n",
       "  grid-template-columns: 20px auto;\n",
       "}\n",
       "\n",
       ".xr-array-wrap > label {\n",
       "  grid-column: 1;\n",
       "  vertical-align: top;\n",
       "}\n",
       "\n",
       ".xr-preview {\n",
       "  color: var(--xr-font-color3);\n",
       "}\n",
       "\n",
       ".xr-array-preview,\n",
       ".xr-array-data {\n",
       "  padding: 0 5px !important;\n",
       "  grid-column: 2;\n",
       "}\n",
       "\n",
       ".xr-array-data,\n",
       ".xr-array-in:checked ~ .xr-array-preview {\n",
       "  display: none;\n",
       "}\n",
       "\n",
       ".xr-array-in:checked ~ .xr-array-data,\n",
       ".xr-array-preview {\n",
       "  display: inline-block;\n",
       "}\n",
       "\n",
       ".xr-dim-list {\n",
       "  display: inline-block !important;\n",
       "  list-style: none;\n",
       "  padding: 0 !important;\n",
       "  margin: 0;\n",
       "}\n",
       "\n",
       ".xr-dim-list li {\n",
       "  display: inline-block;\n",
       "  padding: 0;\n",
       "  margin: 0;\n",
       "}\n",
       "\n",
       ".xr-dim-list:before {\n",
       "  content: \"(\";\n",
       "}\n",
       "\n",
       ".xr-dim-list:after {\n",
       "  content: \")\";\n",
       "}\n",
       "\n",
       ".xr-dim-list li:not(:last-child):after {\n",
       "  content: \",\";\n",
       "  padding-right: 5px;\n",
       "}\n",
       "\n",
       ".xr-has-index {\n",
       "  font-weight: bold;\n",
       "}\n",
       "\n",
       ".xr-var-list,\n",
       ".xr-var-item {\n",
       "  display: contents;\n",
       "}\n",
       "\n",
       ".xr-var-item > div,\n",
       ".xr-var-item label,\n",
       ".xr-var-item > .xr-var-name span {\n",
       "  background-color: var(--xr-background-color-row-even);\n",
       "  margin-bottom: 0;\n",
       "}\n",
       "\n",
       ".xr-var-item > .xr-var-name:hover span {\n",
       "  padding-right: 5px;\n",
       "}\n",
       "\n",
       ".xr-var-list > li:nth-child(odd) > div,\n",
       ".xr-var-list > li:nth-child(odd) > label,\n",
       ".xr-var-list > li:nth-child(odd) > .xr-var-name span {\n",
       "  background-color: var(--xr-background-color-row-odd);\n",
       "}\n",
       "\n",
       ".xr-var-name {\n",
       "  grid-column: 1;\n",
       "}\n",
       "\n",
       ".xr-var-dims {\n",
       "  grid-column: 2;\n",
       "}\n",
       "\n",
       ".xr-var-dtype {\n",
       "  grid-column: 3;\n",
       "  text-align: right;\n",
       "  color: var(--xr-font-color2);\n",
       "}\n",
       "\n",
       ".xr-var-preview {\n",
       "  grid-column: 4;\n",
       "}\n",
       "\n",
       ".xr-index-preview {\n",
       "  grid-column: 2 / 5;\n",
       "  color: var(--xr-font-color2);\n",
       "}\n",
       "\n",
       ".xr-var-name,\n",
       ".xr-var-dims,\n",
       ".xr-var-dtype,\n",
       ".xr-preview,\n",
       ".xr-attrs dt {\n",
       "  white-space: nowrap;\n",
       "  overflow: hidden;\n",
       "  text-overflow: ellipsis;\n",
       "  padding-right: 10px;\n",
       "}\n",
       "\n",
       ".xr-var-name:hover,\n",
       ".xr-var-dims:hover,\n",
       ".xr-var-dtype:hover,\n",
       ".xr-attrs dt:hover {\n",
       "  overflow: visible;\n",
       "  width: auto;\n",
       "  z-index: 1;\n",
       "}\n",
       "\n",
       ".xr-var-attrs,\n",
       ".xr-var-data,\n",
       ".xr-index-data {\n",
       "  display: none;\n",
       "  background-color: var(--xr-background-color) !important;\n",
       "  padding-bottom: 5px !important;\n",
       "}\n",
       "\n",
       ".xr-var-attrs-in:checked ~ .xr-var-attrs,\n",
       ".xr-var-data-in:checked ~ .xr-var-data,\n",
       ".xr-index-data-in:checked ~ .xr-index-data {\n",
       "  display: block;\n",
       "}\n",
       "\n",
       ".xr-var-data > table {\n",
       "  float: right;\n",
       "}\n",
       "\n",
       ".xr-var-name span,\n",
       ".xr-var-data,\n",
       ".xr-index-name div,\n",
       ".xr-index-data,\n",
       ".xr-attrs {\n",
       "  padding-left: 25px !important;\n",
       "}\n",
       "\n",
       ".xr-attrs,\n",
       ".xr-var-attrs,\n",
       ".xr-var-data,\n",
       ".xr-index-data {\n",
       "  grid-column: 1 / -1;\n",
       "}\n",
       "\n",
       "dl.xr-attrs {\n",
       "  padding: 0;\n",
       "  margin: 0;\n",
       "  display: grid;\n",
       "  grid-template-columns: 125px auto;\n",
       "}\n",
       "\n",
       ".xr-attrs dt,\n",
       ".xr-attrs dd {\n",
       "  padding: 0;\n",
       "  margin: 0;\n",
       "  float: left;\n",
       "  padding-right: 10px;\n",
       "  width: auto;\n",
       "}\n",
       "\n",
       ".xr-attrs dt {\n",
       "  font-weight: normal;\n",
       "  grid-column: 1;\n",
       "}\n",
       "\n",
       ".xr-attrs dt:hover span {\n",
       "  display: inline-block;\n",
       "  background: var(--xr-background-color);\n",
       "  padding-right: 10px;\n",
       "}\n",
       "\n",
       ".xr-attrs dd {\n",
       "  grid-column: 2;\n",
       "  white-space: pre-wrap;\n",
       "  word-break: break-all;\n",
       "}\n",
       "\n",
       ".xr-icon-database,\n",
       ".xr-icon-file-text2,\n",
       ".xr-no-icon {\n",
       "  display: inline-block;\n",
       "  vertical-align: middle;\n",
       "  width: 1em;\n",
       "  height: 1.5em !important;\n",
       "  stroke-width: 0;\n",
       "  stroke: currentColor;\n",
       "  fill: currentColor;\n",
       "}\n",
       "</style><pre class='xr-text-repr-fallback'>&lt;xarray.DataArray &#x27;pelagic_layer_depth&#x27; (time: 1095, latitude: 1, longitude: 1)&gt; Size: 9kB\n",
       "&lt;Quantity([[[113.25850446]]\n",
       "\n",
       " [[113.67641789]]\n",
       "\n",
       " [[113.37776143]]\n",
       "\n",
       " ...\n",
       "\n",
       " [[114.06464559]]\n",
       "\n",
       " [[112.9625467 ]]\n",
       "\n",
       " [[114.74266259]]], &#x27;meter&#x27;)&gt;\n",
       "Coordinates:\n",
       "    depth      int64 8B 0\n",
       "  * latitude   (latitude) float64 8B 22.75\n",
       "  * longitude  (longitude) int64 8B -158\n",
       "  * time       (time) datetime64[ns] 9kB 2005-01-02 2005-01-03 ... 2008-01-01\n",
       "Attributes:\n",
       "    standard_name:  sea_water_pelagic_layer_bottom_depth</pre><div class='xr-wrap' style='display:none'><div class='xr-header'><div class='xr-obj-type'>xarray.DataArray</div><div class='xr-array-name'>'pelagic_layer_depth'</div><ul class='xr-dim-list'><li><span class='xr-has-index'>time</span>: 1095</li><li><span class='xr-has-index'>latitude</span>: 1</li><li><span class='xr-has-index'>longitude</span>: 1</li></ul></div><ul class='xr-sections'><li class='xr-section-item'><div class='xr-array-wrap'><input id='section-a8c56fd6-4de8-483e-bf23-7bb85efdf9fb' class='xr-array-in' type='checkbox' checked><label for='section-a8c56fd6-4de8-483e-bf23-7bb85efdf9fb' title='Show/hide data repr'><svg class='icon xr-icon-database'><use xlink:href='#icon-database'></use></svg></label><div class='xr-array-preview xr-preview'><span>[m] 113.3 113.7 113.4 114.1 114.1 ... 111.4 111.3 114.1 113.0 114.7</span></div><div class='xr-array-data'><table><tbody><tr><th>Magnitude</th><td style='text-align:left;'><pre>[[[113.25850445781492]] [[113.67641789059907]] [[113.3777614275639]] ... [[114.06464559061169]] [[112.96254669775898]] [[114.74266258672766]]]</pre></td></tr><tr><th>Units</th><td style='text-align:left;'>meter</td></tr></tbody></table></div></div></li><li class='xr-section-item'><input id='section-02808bd5-544a-4b27-ac54-ecf7924925a1' class='xr-section-summary-in' type='checkbox'  checked><label for='section-02808bd5-544a-4b27-ac54-ecf7924925a1' class='xr-section-summary' >Coordinates: <span>(4)</span></label><div class='xr-section-inline-details'></div><div class='xr-section-details'><ul class='xr-var-list'><li class='xr-var-item'><div class='xr-var-name'><span>depth</span></div><div class='xr-var-dims'>()</div><div class='xr-var-dtype'>int64</div><div class='xr-var-preview xr-preview'>0</div><input id='attrs-def5e592-c130-4a47-84b7-04e26e7e0d2d' class='xr-var-attrs-in' type='checkbox' ><label for='attrs-def5e592-c130-4a47-84b7-04e26e7e0d2d' title='Show/Hide attributes'><svg class='icon xr-icon-file-text2'><use xlink:href='#icon-file-text2'></use></svg></label><input id='data-7951de39-1a22-40e4-802b-6669a46ceb8b' class='xr-var-data-in' type='checkbox'><label for='data-7951de39-1a22-40e4-802b-6669a46ceb8b' title='Show/Hide data repr'><svg class='icon xr-icon-database'><use xlink:href='#icon-database'></use></svg></label><div class='xr-var-attrs'><dl class='xr-attrs'><dt><span>axis :</span></dt><dd>Z</dd><dt><span>desc :</span></dt><dd>The layer depth according to Seapodym definition</dd><dt><span>flag_meanings :</span></dt><dd>epipelagic, upper-mesopelagic, lower-mesopelagic</dd><dt><span>flag_values :</span></dt><dd>[0 1 2]</dd><dt><span>long_name :</span></dt><dd>Layer depth</dd><dt><span>standard_name :</span></dt><dd>depth</dd></dl></div><div class='xr-var-data'><pre>array(0)</pre></div></li><li class='xr-var-item'><div class='xr-var-name'><span class='xr-has-index'>latitude</span></div><div class='xr-var-dims'>(latitude)</div><div class='xr-var-dtype'>float64</div><div class='xr-var-preview xr-preview'>22.75</div><input id='attrs-5ae6cc26-8fd4-42b7-8a4d-3c5d807feb9f' class='xr-var-attrs-in' type='checkbox' ><label for='attrs-5ae6cc26-8fd4-42b7-8a4d-3c5d807feb9f' title='Show/Hide attributes'><svg class='icon xr-icon-file-text2'><use xlink:href='#icon-file-text2'></use></svg></label><input id='data-ac0ea2f3-f5cc-4cc5-b437-e27f5fc6757f' class='xr-var-data-in' type='checkbox'><label for='data-ac0ea2f3-f5cc-4cc5-b437-e27f5fc6757f' title='Show/Hide data repr'><svg class='icon xr-icon-database'><use xlink:href='#icon-database'></use></svg></label><div class='xr-var-attrs'><dl class='xr-attrs'><dt><span>axis :</span></dt><dd>Y</dd><dt><span>standard_name :</span></dt><dd>latitude</dd><dt><span>units :</span></dt><dd>degrees_north</dd></dl></div><div class='xr-var-data'><pre>array([22.75])</pre></div></li><li class='xr-var-item'><div class='xr-var-name'><span class='xr-has-index'>longitude</span></div><div class='xr-var-dims'>(longitude)</div><div class='xr-var-dtype'>int64</div><div class='xr-var-preview xr-preview'>-158</div><input id='attrs-8d2c9c36-e210-4100-84b4-1cbdb807b4c4' class='xr-var-attrs-in' type='checkbox' ><label for='attrs-8d2c9c36-e210-4100-84b4-1cbdb807b4c4' title='Show/Hide attributes'><svg class='icon xr-icon-file-text2'><use xlink:href='#icon-file-text2'></use></svg></label><input id='data-30966b4f-19c1-4e80-853f-474422a8c4aa' class='xr-var-data-in' type='checkbox'><label for='data-30966b4f-19c1-4e80-853f-474422a8c4aa' title='Show/Hide data repr'><svg class='icon xr-icon-database'><use xlink:href='#icon-database'></use></svg></label><div class='xr-var-attrs'><dl class='xr-attrs'><dt><span>axis :</span></dt><dd>X</dd><dt><span>standard_name :</span></dt><dd>longitude</dd><dt><span>units :</span></dt><dd>degrees_east</dd></dl></div><div class='xr-var-data'><pre>array([-158])</pre></div></li><li class='xr-var-item'><div class='xr-var-name'><span class='xr-has-index'>time</span></div><div class='xr-var-dims'>(time)</div><div class='xr-var-dtype'>datetime64[ns]</div><div class='xr-var-preview xr-preview'>2005-01-02 ... 2008-01-01</div><input id='attrs-2d049436-9d18-4c33-aa35-2974d186db30' class='xr-var-attrs-in' type='checkbox' ><label for='attrs-2d049436-9d18-4c33-aa35-2974d186db30' title='Show/Hide attributes'><svg class='icon xr-icon-file-text2'><use xlink:href='#icon-file-text2'></use></svg></label><input id='data-0b9d98ff-3a47-4a7b-a51e-8ee7c1253f44' class='xr-var-data-in' type='checkbox'><label for='data-0b9d98ff-3a47-4a7b-a51e-8ee7c1253f44' title='Show/Hide data repr'><svg class='icon xr-icon-database'><use xlink:href='#icon-database'></use></svg></label><div class='xr-var-attrs'><dl class='xr-attrs'><dt><span>axis :</span></dt><dd>T</dd><dt><span>long_name :</span></dt><dd>Time</dd><dt><span>standard_name :</span></dt><dd>time</dd><dt><span>unit_long :</span></dt><dd>Seconds Since 1970-01-01</dd></dl></div><div class='xr-var-data'><pre>array([&#x27;2005-01-02T00:00:00.000000000&#x27;, &#x27;2005-01-03T00:00:00.000000000&#x27;,\n",
       "       &#x27;2005-01-04T00:00:00.000000000&#x27;, ..., &#x27;2007-12-30T00:00:00.000000000&#x27;,\n",
       "       &#x27;2007-12-31T00:00:00.000000000&#x27;, &#x27;2008-01-01T00:00:00.000000000&#x27;],\n",
       "      shape=(1095,), dtype=&#x27;datetime64[ns]&#x27;)</pre></div></li></ul></div></li><li class='xr-section-item'><input id='section-9db9f204-806c-4c6c-a98b-aed3dd56fc68' class='xr-section-summary-in' type='checkbox'  ><label for='section-9db9f204-806c-4c6c-a98b-aed3dd56fc68' class='xr-section-summary' >Indexes: <span>(3)</span></label><div class='xr-section-inline-details'></div><div class='xr-section-details'><ul class='xr-var-list'><li class='xr-var-item'><div class='xr-index-name'><div>latitude</div></div><div class='xr-index-preview'>PandasIndex</div><input type='checkbox' disabled/><label></label><input id='index-7d5ff6e1-d470-4980-86be-3af21c016955' class='xr-index-data-in' type='checkbox'/><label for='index-7d5ff6e1-d470-4980-86be-3af21c016955' title='Show/Hide index repr'><svg class='icon xr-icon-database'><use xlink:href='#icon-database'></use></svg></label><div class='xr-index-data'><pre>PandasIndex(Index([22.75], dtype=&#x27;float64&#x27;, name=&#x27;latitude&#x27;))</pre></div></li><li class='xr-var-item'><div class='xr-index-name'><div>longitude</div></div><div class='xr-index-preview'>PandasIndex</div><input type='checkbox' disabled/><label></label><input id='index-42d66cde-3a3a-47d1-a956-330523442f66' class='xr-index-data-in' type='checkbox'/><label for='index-42d66cde-3a3a-47d1-a956-330523442f66' title='Show/Hide index repr'><svg class='icon xr-icon-database'><use xlink:href='#icon-database'></use></svg></label><div class='xr-index-data'><pre>PandasIndex(Index([-158], dtype=&#x27;int64&#x27;, name=&#x27;longitude&#x27;))</pre></div></li><li class='xr-var-item'><div class='xr-index-name'><div>time</div></div><div class='xr-index-preview'>PandasIndex</div><input type='checkbox' disabled/><label></label><input id='index-39c1222a-270a-4554-bd75-c5038049de65' class='xr-index-data-in' type='checkbox'/><label for='index-39c1222a-270a-4554-bd75-c5038049de65' title='Show/Hide index repr'><svg class='icon xr-icon-database'><use xlink:href='#icon-database'></use></svg></label><div class='xr-index-data'><pre>PandasIndex(DatetimeIndex([&#x27;2005-01-02&#x27;, &#x27;2005-01-03&#x27;, &#x27;2005-01-04&#x27;, &#x27;2005-01-05&#x27;,\n",
       "               &#x27;2005-01-06&#x27;, &#x27;2005-01-07&#x27;, &#x27;2005-01-08&#x27;, &#x27;2005-01-09&#x27;,\n",
       "               &#x27;2005-01-10&#x27;, &#x27;2005-01-11&#x27;,\n",
       "               ...\n",
       "               &#x27;2007-12-23&#x27;, &#x27;2007-12-24&#x27;, &#x27;2007-12-25&#x27;, &#x27;2007-12-26&#x27;,\n",
       "               &#x27;2007-12-27&#x27;, &#x27;2007-12-28&#x27;, &#x27;2007-12-29&#x27;, &#x27;2007-12-30&#x27;,\n",
       "               &#x27;2007-12-31&#x27;, &#x27;2008-01-01&#x27;],\n",
       "              dtype=&#x27;datetime64[ns]&#x27;, name=&#x27;time&#x27;, length=1095, freq=&#x27;D&#x27;))</pre></div></li></ul></div></li><li class='xr-section-item'><input id='section-017fce4d-1e42-4f90-8755-93ccae914106' class='xr-section-summary-in' type='checkbox'  checked><label for='section-017fce4d-1e42-4f90-8755-93ccae914106' class='xr-section-summary' >Attributes: <span>(1)</span></label><div class='xr-section-inline-details'></div><div class='xr-section-details'><dl class='xr-attrs'><dt><span>standard_name :</span></dt><dd>sea_water_pelagic_layer_bottom_depth</dd></dl></div></li></ul></div></div>"
      ],
      "text/plain": [
       "<xarray.DataArray 'pelagic_layer_depth' (time: 1095, latitude: 1, longitude: 1)> Size: 9kB\n",
       "<Quantity([[[113.25850446]]\n",
       "\n",
       " [[113.67641789]]\n",
       "\n",
       " [[113.37776143]]\n",
       "\n",
       " ...\n",
       "\n",
       " [[114.06464559]]\n",
       "\n",
       " [[112.9625467 ]]\n",
       "\n",
       " [[114.74266259]]], 'meter')>\n",
       "Coordinates:\n",
       "    depth      int64 8B 0\n",
       "  * latitude   (latitude) float64 8B 22.75\n",
       "  * longitude  (longitude) int64 8B -158\n",
       "  * time       (time) datetime64[ns] 9kB 2005-01-02 2005-01-03 ... 2008-01-01\n",
       "Attributes:\n",
       "    standard_name:  sea_water_pelagic_layer_bottom_depth"
      ]
     },
     "execution_count": 5,
     "metadata": {},
     "output_type": "execute_result"
    }
   ],
   "source": [
    "epi_layer_depth = forcing[\"pelagic_layer_depth\"].sel(depth=0).load()\n",
    "epi_layer_depth = epi_layer_depth.resample(time=\"1D\").mean()\n",
    "epi_layer_depth.attrs[\"units\"] = \"meter\"\n",
    "epi_layer_depth = epi_layer_depth.pint.quantify()\n",
    "epi_layer_depth"
   ]
  },
  {
   "cell_type": "markdown",
   "metadata": {},
   "source": [
    "<!-- ## Observed NPP -->\n"
   ]
  },
  {
   "cell_type": "code",
   "execution_count": 6,
   "metadata": {},
   "outputs": [
    {
     "data": {
      "text/html": [
       "<div><svg style=\"position: absolute; width: 0; height: 0; overflow: hidden\">\n",
       "<defs>\n",
       "<symbol id=\"icon-database\" viewBox=\"0 0 32 32\">\n",
       "<path d=\"M16 0c-8.837 0-16 2.239-16 5v4c0 2.761 7.163 5 16 5s16-2.239 16-5v-4c0-2.761-7.163-5-16-5z\"></path>\n",
       "<path d=\"M16 17c-8.837 0-16-2.239-16-5v6c0 2.761 7.163 5 16 5s16-2.239 16-5v-6c0 2.761-7.163 5-16 5z\"></path>\n",
       "<path d=\"M16 26c-8.837 0-16-2.239-16-5v6c0 2.761 7.163 5 16 5s16-2.239 16-5v-6c0 2.761-7.163 5-16 5z\"></path>\n",
       "</symbol>\n",
       "<symbol id=\"icon-file-text2\" viewBox=\"0 0 32 32\">\n",
       "<path d=\"M28.681 7.159c-0.694-0.947-1.662-2.053-2.724-3.116s-2.169-2.030-3.116-2.724c-1.612-1.182-2.393-1.319-2.841-1.319h-15.5c-1.378 0-2.5 1.121-2.5 2.5v27c0 1.378 1.122 2.5 2.5 2.5h23c1.378 0 2.5-1.122 2.5-2.5v-19.5c0-0.448-0.137-1.23-1.319-2.841zM24.543 5.457c0.959 0.959 1.712 1.825 2.268 2.543h-4.811v-4.811c0.718 0.556 1.584 1.309 2.543 2.268zM28 29.5c0 0.271-0.229 0.5-0.5 0.5h-23c-0.271 0-0.5-0.229-0.5-0.5v-27c0-0.271 0.229-0.5 0.5-0.5 0 0 15.499-0 15.5 0v7c0 0.552 0.448 1 1 1h7v19.5z\"></path>\n",
       "<path d=\"M23 26h-14c-0.552 0-1-0.448-1-1s0.448-1 1-1h14c0.552 0 1 0.448 1 1s-0.448 1-1 1z\"></path>\n",
       "<path d=\"M23 22h-14c-0.552 0-1-0.448-1-1s0.448-1 1-1h14c0.552 0 1 0.448 1 1s-0.448 1-1 1z\"></path>\n",
       "<path d=\"M23 18h-14c-0.552 0-1-0.448-1-1s0.448-1 1-1h14c0.552 0 1 0.448 1 1s-0.448 1-1 1z\"></path>\n",
       "</symbol>\n",
       "</defs>\n",
       "</svg>\n",
       "<style>/* CSS stylesheet for displaying xarray objects in jupyterlab.\n",
       " *\n",
       " */\n",
       "\n",
       ":root {\n",
       "  --xr-font-color0: var(--jp-content-font-color0, rgba(0, 0, 0, 1));\n",
       "  --xr-font-color2: var(--jp-content-font-color2, rgba(0, 0, 0, 0.54));\n",
       "  --xr-font-color3: var(--jp-content-font-color3, rgba(0, 0, 0, 0.38));\n",
       "  --xr-border-color: var(--jp-border-color2, #e0e0e0);\n",
       "  --xr-disabled-color: var(--jp-layout-color3, #bdbdbd);\n",
       "  --xr-background-color: var(--jp-layout-color0, white);\n",
       "  --xr-background-color-row-even: var(--jp-layout-color1, white);\n",
       "  --xr-background-color-row-odd: var(--jp-layout-color2, #eeeeee);\n",
       "}\n",
       "\n",
       "html[theme=\"dark\"],\n",
       "html[data-theme=\"dark\"],\n",
       "body[data-theme=\"dark\"],\n",
       "body.vscode-dark {\n",
       "  --xr-font-color0: rgba(255, 255, 255, 1);\n",
       "  --xr-font-color2: rgba(255, 255, 255, 0.54);\n",
       "  --xr-font-color3: rgba(255, 255, 255, 0.38);\n",
       "  --xr-border-color: #1f1f1f;\n",
       "  --xr-disabled-color: #515151;\n",
       "  --xr-background-color: #111111;\n",
       "  --xr-background-color-row-even: #111111;\n",
       "  --xr-background-color-row-odd: #313131;\n",
       "}\n",
       "\n",
       ".xr-wrap {\n",
       "  display: block !important;\n",
       "  min-width: 300px;\n",
       "  max-width: 700px;\n",
       "}\n",
       "\n",
       ".xr-text-repr-fallback {\n",
       "  /* fallback to plain text repr when CSS is not injected (untrusted notebook) */\n",
       "  display: none;\n",
       "}\n",
       "\n",
       ".xr-header {\n",
       "  padding-top: 6px;\n",
       "  padding-bottom: 6px;\n",
       "  margin-bottom: 4px;\n",
       "  border-bottom: solid 1px var(--xr-border-color);\n",
       "}\n",
       "\n",
       ".xr-header > div,\n",
       ".xr-header > ul {\n",
       "  display: inline;\n",
       "  margin-top: 0;\n",
       "  margin-bottom: 0;\n",
       "}\n",
       "\n",
       ".xr-obj-type,\n",
       ".xr-array-name {\n",
       "  margin-left: 2px;\n",
       "  margin-right: 10px;\n",
       "}\n",
       "\n",
       ".xr-obj-type {\n",
       "  color: var(--xr-font-color2);\n",
       "}\n",
       "\n",
       ".xr-sections {\n",
       "  padding-left: 0 !important;\n",
       "  display: grid;\n",
       "  grid-template-columns: 150px auto auto 1fr 0 20px 0 20px;\n",
       "}\n",
       "\n",
       ".xr-section-item {\n",
       "  display: contents;\n",
       "}\n",
       "\n",
       ".xr-section-item input {\n",
       "  display: inline-block;\n",
       "  opacity: 0;\n",
       "  height: 0;\n",
       "}\n",
       "\n",
       ".xr-section-item input + label {\n",
       "  color: var(--xr-disabled-color);\n",
       "}\n",
       "\n",
       ".xr-section-item input:enabled + label {\n",
       "  cursor: pointer;\n",
       "  color: var(--xr-font-color2);\n",
       "}\n",
       "\n",
       ".xr-section-item input:focus + label {\n",
       "  border: 2px solid var(--xr-font-color0);\n",
       "}\n",
       "\n",
       ".xr-section-item input:enabled + label:hover {\n",
       "  color: var(--xr-font-color0);\n",
       "}\n",
       "\n",
       ".xr-section-summary {\n",
       "  grid-column: 1;\n",
       "  color: var(--xr-font-color2);\n",
       "  font-weight: 500;\n",
       "}\n",
       "\n",
       ".xr-section-summary > span {\n",
       "  display: inline-block;\n",
       "  padding-left: 0.5em;\n",
       "}\n",
       "\n",
       ".xr-section-summary-in:disabled + label {\n",
       "  color: var(--xr-font-color2);\n",
       "}\n",
       "\n",
       ".xr-section-summary-in + label:before {\n",
       "  display: inline-block;\n",
       "  content: \"►\";\n",
       "  font-size: 11px;\n",
       "  width: 15px;\n",
       "  text-align: center;\n",
       "}\n",
       "\n",
       ".xr-section-summary-in:disabled + label:before {\n",
       "  color: var(--xr-disabled-color);\n",
       "}\n",
       "\n",
       ".xr-section-summary-in:checked + label:before {\n",
       "  content: \"▼\";\n",
       "}\n",
       "\n",
       ".xr-section-summary-in:checked + label > span {\n",
       "  display: none;\n",
       "}\n",
       "\n",
       ".xr-section-summary,\n",
       ".xr-section-inline-details {\n",
       "  padding-top: 4px;\n",
       "  padding-bottom: 4px;\n",
       "}\n",
       "\n",
       ".xr-section-inline-details {\n",
       "  grid-column: 2 / -1;\n",
       "}\n",
       "\n",
       ".xr-section-details {\n",
       "  display: none;\n",
       "  grid-column: 1 / -1;\n",
       "  margin-bottom: 5px;\n",
       "}\n",
       "\n",
       ".xr-section-summary-in:checked ~ .xr-section-details {\n",
       "  display: contents;\n",
       "}\n",
       "\n",
       ".xr-array-wrap {\n",
       "  grid-column: 1 / -1;\n",
       "  display: grid;\n",
       "  grid-template-columns: 20px auto;\n",
       "}\n",
       "\n",
       ".xr-array-wrap > label {\n",
       "  grid-column: 1;\n",
       "  vertical-align: top;\n",
       "}\n",
       "\n",
       ".xr-preview {\n",
       "  color: var(--xr-font-color3);\n",
       "}\n",
       "\n",
       ".xr-array-preview,\n",
       ".xr-array-data {\n",
       "  padding: 0 5px !important;\n",
       "  grid-column: 2;\n",
       "}\n",
       "\n",
       ".xr-array-data,\n",
       ".xr-array-in:checked ~ .xr-array-preview {\n",
       "  display: none;\n",
       "}\n",
       "\n",
       ".xr-array-in:checked ~ .xr-array-data,\n",
       ".xr-array-preview {\n",
       "  display: inline-block;\n",
       "}\n",
       "\n",
       ".xr-dim-list {\n",
       "  display: inline-block !important;\n",
       "  list-style: none;\n",
       "  padding: 0 !important;\n",
       "  margin: 0;\n",
       "}\n",
       "\n",
       ".xr-dim-list li {\n",
       "  display: inline-block;\n",
       "  padding: 0;\n",
       "  margin: 0;\n",
       "}\n",
       "\n",
       ".xr-dim-list:before {\n",
       "  content: \"(\";\n",
       "}\n",
       "\n",
       ".xr-dim-list:after {\n",
       "  content: \")\";\n",
       "}\n",
       "\n",
       ".xr-dim-list li:not(:last-child):after {\n",
       "  content: \",\";\n",
       "  padding-right: 5px;\n",
       "}\n",
       "\n",
       ".xr-has-index {\n",
       "  font-weight: bold;\n",
       "}\n",
       "\n",
       ".xr-var-list,\n",
       ".xr-var-item {\n",
       "  display: contents;\n",
       "}\n",
       "\n",
       ".xr-var-item > div,\n",
       ".xr-var-item label,\n",
       ".xr-var-item > .xr-var-name span {\n",
       "  background-color: var(--xr-background-color-row-even);\n",
       "  margin-bottom: 0;\n",
       "}\n",
       "\n",
       ".xr-var-item > .xr-var-name:hover span {\n",
       "  padding-right: 5px;\n",
       "}\n",
       "\n",
       ".xr-var-list > li:nth-child(odd) > div,\n",
       ".xr-var-list > li:nth-child(odd) > label,\n",
       ".xr-var-list > li:nth-child(odd) > .xr-var-name span {\n",
       "  background-color: var(--xr-background-color-row-odd);\n",
       "}\n",
       "\n",
       ".xr-var-name {\n",
       "  grid-column: 1;\n",
       "}\n",
       "\n",
       ".xr-var-dims {\n",
       "  grid-column: 2;\n",
       "}\n",
       "\n",
       ".xr-var-dtype {\n",
       "  grid-column: 3;\n",
       "  text-align: right;\n",
       "  color: var(--xr-font-color2);\n",
       "}\n",
       "\n",
       ".xr-var-preview {\n",
       "  grid-column: 4;\n",
       "}\n",
       "\n",
       ".xr-index-preview {\n",
       "  grid-column: 2 / 5;\n",
       "  color: var(--xr-font-color2);\n",
       "}\n",
       "\n",
       ".xr-var-name,\n",
       ".xr-var-dims,\n",
       ".xr-var-dtype,\n",
       ".xr-preview,\n",
       ".xr-attrs dt {\n",
       "  white-space: nowrap;\n",
       "  overflow: hidden;\n",
       "  text-overflow: ellipsis;\n",
       "  padding-right: 10px;\n",
       "}\n",
       "\n",
       ".xr-var-name:hover,\n",
       ".xr-var-dims:hover,\n",
       ".xr-var-dtype:hover,\n",
       ".xr-attrs dt:hover {\n",
       "  overflow: visible;\n",
       "  width: auto;\n",
       "  z-index: 1;\n",
       "}\n",
       "\n",
       ".xr-var-attrs,\n",
       ".xr-var-data,\n",
       ".xr-index-data {\n",
       "  display: none;\n",
       "  background-color: var(--xr-background-color) !important;\n",
       "  padding-bottom: 5px !important;\n",
       "}\n",
       "\n",
       ".xr-var-attrs-in:checked ~ .xr-var-attrs,\n",
       ".xr-var-data-in:checked ~ .xr-var-data,\n",
       ".xr-index-data-in:checked ~ .xr-index-data {\n",
       "  display: block;\n",
       "}\n",
       "\n",
       ".xr-var-data > table {\n",
       "  float: right;\n",
       "}\n",
       "\n",
       ".xr-var-name span,\n",
       ".xr-var-data,\n",
       ".xr-index-name div,\n",
       ".xr-index-data,\n",
       ".xr-attrs {\n",
       "  padding-left: 25px !important;\n",
       "}\n",
       "\n",
       ".xr-attrs,\n",
       ".xr-var-attrs,\n",
       ".xr-var-data,\n",
       ".xr-index-data {\n",
       "  grid-column: 1 / -1;\n",
       "}\n",
       "\n",
       "dl.xr-attrs {\n",
       "  padding: 0;\n",
       "  margin: 0;\n",
       "  display: grid;\n",
       "  grid-template-columns: 125px auto;\n",
       "}\n",
       "\n",
       ".xr-attrs dt,\n",
       ".xr-attrs dd {\n",
       "  padding: 0;\n",
       "  margin: 0;\n",
       "  float: left;\n",
       "  padding-right: 10px;\n",
       "  width: auto;\n",
       "}\n",
       "\n",
       ".xr-attrs dt {\n",
       "  font-weight: normal;\n",
       "  grid-column: 1;\n",
       "}\n",
       "\n",
       ".xr-attrs dt:hover span {\n",
       "  display: inline-block;\n",
       "  background: var(--xr-background-color);\n",
       "  padding-right: 10px;\n",
       "}\n",
       "\n",
       ".xr-attrs dd {\n",
       "  grid-column: 2;\n",
       "  white-space: pre-wrap;\n",
       "  word-break: break-all;\n",
       "}\n",
       "\n",
       ".xr-icon-database,\n",
       ".xr-icon-file-text2,\n",
       ".xr-no-icon {\n",
       "  display: inline-block;\n",
       "  vertical-align: middle;\n",
       "  width: 1em;\n",
       "  height: 1.5em !important;\n",
       "  stroke-width: 0;\n",
       "  stroke: currentColor;\n",
       "  fill: currentColor;\n",
       "}\n",
       "</style><pre class='xr-text-repr-fallback'>&lt;xarray.Dataset&gt; Size: 26kB\n",
       "Dimensions:          (time: 1065, latitude: 1, longitude: 1)\n",
       "Coordinates:\n",
       "  * latitude         (latitude) float64 8B 22.75\n",
       "  * longitude        (longitude) int64 8B -158\n",
       "  * time             (time) datetime64[ns] 9kB 2005-01-31 ... 2007-12-31\n",
       "Data variables:\n",
       "    l12              (time, latitude, longitude) float64 9kB 273.4 ... 259.7\n",
       "    l12_lowess_0.05  (time, latitude, longitude) float64 9kB 274.7 ... 258.9\n",
       "Attributes:\n",
       "    desc:     L12 multiplied by ZEU (from CMEMS).\n",
       "    type:     climatology</pre><div class='xr-wrap' style='display:none'><div class='xr-header'><div class='xr-obj-type'>xarray.Dataset</div></div><ul class='xr-sections'><li class='xr-section-item'><input id='section-b19e5757-90f1-4b96-a644-4ee4bcd25882' class='xr-section-summary-in' type='checkbox' disabled ><label for='section-b19e5757-90f1-4b96-a644-4ee4bcd25882' class='xr-section-summary'  title='Expand/collapse section'>Dimensions:</label><div class='xr-section-inline-details'><ul class='xr-dim-list'><li><span class='xr-has-index'>time</span>: 1065</li><li><span class='xr-has-index'>latitude</span>: 1</li><li><span class='xr-has-index'>longitude</span>: 1</li></ul></div><div class='xr-section-details'></div></li><li class='xr-section-item'><input id='section-764839c8-5615-4eba-839e-002215c94bb2' class='xr-section-summary-in' type='checkbox'  checked><label for='section-764839c8-5615-4eba-839e-002215c94bb2' class='xr-section-summary' >Coordinates: <span>(3)</span></label><div class='xr-section-inline-details'></div><div class='xr-section-details'><ul class='xr-var-list'><li class='xr-var-item'><div class='xr-var-name'><span class='xr-has-index'>latitude</span></div><div class='xr-var-dims'>(latitude)</div><div class='xr-var-dtype'>float64</div><div class='xr-var-preview xr-preview'>22.75</div><input id='attrs-73136b0d-fa49-496f-b265-2cbf25252e5b' class='xr-var-attrs-in' type='checkbox' ><label for='attrs-73136b0d-fa49-496f-b265-2cbf25252e5b' title='Show/Hide attributes'><svg class='icon xr-icon-file-text2'><use xlink:href='#icon-file-text2'></use></svg></label><input id='data-7b4bee5b-1266-4fc7-a01e-5b8787217df9' class='xr-var-data-in' type='checkbox'><label for='data-7b4bee5b-1266-4fc7-a01e-5b8787217df9' title='Show/Hide data repr'><svg class='icon xr-icon-database'><use xlink:href='#icon-database'></use></svg></label><div class='xr-var-attrs'><dl class='xr-attrs'><dt><span>axis :</span></dt><dd>Y</dd><dt><span>standard_name :</span></dt><dd>latitude</dd><dt><span>units :</span></dt><dd>degrees_north</dd></dl></div><div class='xr-var-data'><pre>array([22.75])</pre></div></li><li class='xr-var-item'><div class='xr-var-name'><span class='xr-has-index'>longitude</span></div><div class='xr-var-dims'>(longitude)</div><div class='xr-var-dtype'>int64</div><div class='xr-var-preview xr-preview'>-158</div><input id='attrs-bb9e094d-9423-4398-a418-82e70a182ee8' class='xr-var-attrs-in' type='checkbox' ><label for='attrs-bb9e094d-9423-4398-a418-82e70a182ee8' title='Show/Hide attributes'><svg class='icon xr-icon-file-text2'><use xlink:href='#icon-file-text2'></use></svg></label><input id='data-a91da082-d3c1-4ec1-8506-9a5583708dd4' class='xr-var-data-in' type='checkbox'><label for='data-a91da082-d3c1-4ec1-8506-9a5583708dd4' title='Show/Hide data repr'><svg class='icon xr-icon-database'><use xlink:href='#icon-database'></use></svg></label><div class='xr-var-attrs'><dl class='xr-attrs'><dt><span>axis :</span></dt><dd>X</dd><dt><span>standard_name :</span></dt><dd>longitude</dd><dt><span>units :</span></dt><dd>degrees_east</dd></dl></div><div class='xr-var-data'><pre>array([-158])</pre></div></li><li class='xr-var-item'><div class='xr-var-name'><span class='xr-has-index'>time</span></div><div class='xr-var-dims'>(time)</div><div class='xr-var-dtype'>datetime64[ns]</div><div class='xr-var-preview xr-preview'>2005-01-31 ... 2007-12-31</div><input id='attrs-418cbdf9-85fc-453b-a376-43029a9a82c7' class='xr-var-attrs-in' type='checkbox' ><label for='attrs-418cbdf9-85fc-453b-a376-43029a9a82c7' title='Show/Hide attributes'><svg class='icon xr-icon-file-text2'><use xlink:href='#icon-file-text2'></use></svg></label><input id='data-96cf6d4d-5b9b-488b-856d-f7b8cc5e45f5' class='xr-var-data-in' type='checkbox'><label for='data-96cf6d4d-5b9b-488b-856d-f7b8cc5e45f5' title='Show/Hide data repr'><svg class='icon xr-icon-database'><use xlink:href='#icon-database'></use></svg></label><div class='xr-var-attrs'><dl class='xr-attrs'><dt><span>axis :</span></dt><dd>T</dd></dl></div><div class='xr-var-data'><pre>array([&#x27;2005-01-31T00:00:00.000000000&#x27;, &#x27;2005-02-01T00:00:00.000000000&#x27;,\n",
       "       &#x27;2005-02-02T00:00:00.000000000&#x27;, ..., &#x27;2007-12-29T00:00:00.000000000&#x27;,\n",
       "       &#x27;2007-12-30T00:00:00.000000000&#x27;, &#x27;2007-12-31T00:00:00.000000000&#x27;],\n",
       "      shape=(1065,), dtype=&#x27;datetime64[ns]&#x27;)</pre></div></li></ul></div></li><li class='xr-section-item'><input id='section-d923ca89-1ac4-455d-b735-db0c15a1ee81' class='xr-section-summary-in' type='checkbox'  checked><label for='section-d923ca89-1ac4-455d-b735-db0c15a1ee81' class='xr-section-summary' >Data variables: <span>(2)</span></label><div class='xr-section-inline-details'></div><div class='xr-section-details'><ul class='xr-var-list'><li class='xr-var-item'><div class='xr-var-name'><span>l12</span></div><div class='xr-var-dims'>(time, latitude, longitude)</div><div class='xr-var-dtype'>float64</div><div class='xr-var-preview xr-preview'>273.4 274.8 276.2 ... 260.2 259.7</div><input id='attrs-6655602d-2cdd-40f5-97c2-e87da16235a8' class='xr-var-attrs-in' type='checkbox' ><label for='attrs-6655602d-2cdd-40f5-97c2-e87da16235a8' title='Show/Hide attributes'><svg class='icon xr-icon-file-text2'><use xlink:href='#icon-file-text2'></use></svg></label><input id='data-5812bd17-42ec-41d6-ba6b-3a5db3dc9b4e' class='xr-var-data-in' type='checkbox'><label for='data-5812bd17-42ec-41d6-ba6b-3a5db3dc9b4e' title='Show/Hide data repr'><svg class='icon xr-icon-database'><use xlink:href='#icon-database'></use></svg></label><div class='xr-var-attrs'><dl class='xr-attrs'><dt><span>desc :</span></dt><dd>L12 multiplied by ZEU (from CMEMS)</dd><dt><span>station :</span></dt><dd>hot</dd><dt><span>type :</span></dt><dd>in situ</dd><dt><span>units :</span></dt><dd>mg m-2 day-1</dd></dl></div><div class='xr-var-data'><pre>array([[[273.36574751]],\n",
       "\n",
       "       [[274.79807441]],\n",
       "\n",
       "       [[276.23040131]],\n",
       "\n",
       "       ...,\n",
       "\n",
       "       [[260.73320425]],\n",
       "\n",
       "       [[260.23137763]],\n",
       "\n",
       "       [[259.72955101]]], shape=(1065, 1, 1))</pre></div></li><li class='xr-var-item'><div class='xr-var-name'><span>l12_lowess_0.05</span></div><div class='xr-var-dims'>(time, latitude, longitude)</div><div class='xr-var-dtype'>float64</div><div class='xr-var-preview xr-preview'>274.7 276.0 277.3 ... 259.5 258.9</div><input id='attrs-05df2717-ca42-4550-9747-50163d75e545' class='xr-var-attrs-in' type='checkbox' ><label for='attrs-05df2717-ca42-4550-9747-50163d75e545' title='Show/Hide attributes'><svg class='icon xr-icon-file-text2'><use xlink:href='#icon-file-text2'></use></svg></label><input id='data-94c75960-6c39-4e29-88ba-fafd7193d3bb' class='xr-var-data-in' type='checkbox'><label for='data-94c75960-6c39-4e29-88ba-fafd7193d3bb' title='Show/Hide data repr'><svg class='icon xr-icon-database'><use xlink:href='#icon-database'></use></svg></label><div class='xr-var-attrs'><dl class='xr-attrs'><dt><span>desc :</span></dt><dd>L12 multiplied by ZEU (from CMEMS) smoothed with lowess filter with frac=0.05.</dd></dl></div><div class='xr-var-data'><pre>array([[[274.7242969 ]],\n",
       "\n",
       "       [[276.02959424]],\n",
       "\n",
       "       [[277.33489159]],\n",
       "\n",
       "       ...,\n",
       "\n",
       "       [[260.12855956]],\n",
       "\n",
       "       [[259.53177159]],\n",
       "\n",
       "       [[258.93498363]]], shape=(1065, 1, 1))</pre></div></li></ul></div></li><li class='xr-section-item'><input id='section-55b9c752-3f6d-4588-a3ec-222eaea6398a' class='xr-section-summary-in' type='checkbox'  ><label for='section-55b9c752-3f6d-4588-a3ec-222eaea6398a' class='xr-section-summary' >Indexes: <span>(3)</span></label><div class='xr-section-inline-details'></div><div class='xr-section-details'><ul class='xr-var-list'><li class='xr-var-item'><div class='xr-index-name'><div>latitude</div></div><div class='xr-index-preview'>PandasIndex</div><input type='checkbox' disabled/><label></label><input id='index-c3f8bc08-58dc-4488-9e71-bc355916df41' class='xr-index-data-in' type='checkbox'/><label for='index-c3f8bc08-58dc-4488-9e71-bc355916df41' title='Show/Hide index repr'><svg class='icon xr-icon-database'><use xlink:href='#icon-database'></use></svg></label><div class='xr-index-data'><pre>PandasIndex(Index([22.75], dtype=&#x27;float64&#x27;, name=&#x27;latitude&#x27;))</pre></div></li><li class='xr-var-item'><div class='xr-index-name'><div>longitude</div></div><div class='xr-index-preview'>PandasIndex</div><input type='checkbox' disabled/><label></label><input id='index-df27653b-b4d4-48b7-8e69-23dd9d1689b5' class='xr-index-data-in' type='checkbox'/><label for='index-df27653b-b4d4-48b7-8e69-23dd9d1689b5' title='Show/Hide index repr'><svg class='icon xr-icon-database'><use xlink:href='#icon-database'></use></svg></label><div class='xr-index-data'><pre>PandasIndex(Index([-158], dtype=&#x27;int64&#x27;, name=&#x27;longitude&#x27;))</pre></div></li><li class='xr-var-item'><div class='xr-index-name'><div>time</div></div><div class='xr-index-preview'>PandasIndex</div><input type='checkbox' disabled/><label></label><input id='index-e8e57dcd-139d-48ca-82e3-a2ad1978457d' class='xr-index-data-in' type='checkbox'/><label for='index-e8e57dcd-139d-48ca-82e3-a2ad1978457d' title='Show/Hide index repr'><svg class='icon xr-icon-database'><use xlink:href='#icon-database'></use></svg></label><div class='xr-index-data'><pre>PandasIndex(DatetimeIndex([&#x27;2005-01-31&#x27;, &#x27;2005-02-01&#x27;, &#x27;2005-02-02&#x27;, &#x27;2005-02-03&#x27;,\n",
       "               &#x27;2005-02-04&#x27;, &#x27;2005-02-05&#x27;, &#x27;2005-02-06&#x27;, &#x27;2005-02-07&#x27;,\n",
       "               &#x27;2005-02-08&#x27;, &#x27;2005-02-09&#x27;,\n",
       "               ...\n",
       "               &#x27;2007-12-22&#x27;, &#x27;2007-12-23&#x27;, &#x27;2007-12-24&#x27;, &#x27;2007-12-25&#x27;,\n",
       "               &#x27;2007-12-26&#x27;, &#x27;2007-12-27&#x27;, &#x27;2007-12-28&#x27;, &#x27;2007-12-29&#x27;,\n",
       "               &#x27;2007-12-30&#x27;, &#x27;2007-12-31&#x27;],\n",
       "              dtype=&#x27;datetime64[ns]&#x27;, name=&#x27;time&#x27;, length=1065, freq=None))</pre></div></li></ul></div></li><li class='xr-section-item'><input id='section-537b4e5f-bec4-4d73-95b6-b152c7d2ec8d' class='xr-section-summary-in' type='checkbox'  checked><label for='section-537b4e5f-bec4-4d73-95b6-b152c7d2ec8d' class='xr-section-summary' >Attributes: <span>(2)</span></label><div class='xr-section-inline-details'></div><div class='xr-section-details'><dl class='xr-attrs'><dt><span>desc :</span></dt><dd>L12 multiplied by ZEU (from CMEMS).</dd><dt><span>type :</span></dt><dd>climatology</dd></dl></div></li></ul></div></div>"
      ],
      "text/plain": [
       "<xarray.Dataset> Size: 26kB\n",
       "Dimensions:          (time: 1065, latitude: 1, longitude: 1)\n",
       "Coordinates:\n",
       "  * latitude         (latitude) float64 8B 22.75\n",
       "  * longitude        (longitude) int64 8B -158\n",
       "  * time             (time) datetime64[ns] 9kB 2005-01-31 ... 2007-12-31\n",
       "Data variables:\n",
       "    l12              (time, latitude, longitude) float64 9kB 273.4 ... 259.7\n",
       "    l12_lowess_0.05  (time, latitude, longitude) float64 9kB 274.7 ... 258.9\n",
       "Attributes:\n",
       "    desc:     L12 multiplied by ZEU (from CMEMS).\n",
       "    type:     climatology"
      ]
     },
     "execution_count": 6,
     "metadata": {},
     "output_type": "execute_result"
    }
   ],
   "source": [
    "observed_npp = xr.open_zarr(path_to_npp)\n",
    "observed_npp = observed_npp.sel(time=slice(TIME_START, TIME_END))\n",
    "observed_npp = observed_npp.dropna(\"time\", how=\"all\")\n",
    "observed_npp = observed_npp.resample(time=\"D\").interpolate(\"linear\")\n",
    "observed_npp.load()"
   ]
  },
  {
   "cell_type": "markdown",
   "metadata": {},
   "source": [
    "### Observations\n"
   ]
  },
  {
   "cell_type": "code",
   "execution_count": 7,
   "metadata": {},
   "outputs": [
    {
     "data": {
      "text/html": [
       "<div><svg style=\"position: absolute; width: 0; height: 0; overflow: hidden\">\n",
       "<defs>\n",
       "<symbol id=\"icon-database\" viewBox=\"0 0 32 32\">\n",
       "<path d=\"M16 0c-8.837 0-16 2.239-16 5v4c0 2.761 7.163 5 16 5s16-2.239 16-5v-4c0-2.761-7.163-5-16-5z\"></path>\n",
       "<path d=\"M16 17c-8.837 0-16-2.239-16-5v6c0 2.761 7.163 5 16 5s16-2.239 16-5v-6c0 2.761-7.163 5-16 5z\"></path>\n",
       "<path d=\"M16 26c-8.837 0-16-2.239-16-5v6c0 2.761 7.163 5 16 5s16-2.239 16-5v-6c0 2.761-7.163 5-16 5z\"></path>\n",
       "</symbol>\n",
       "<symbol id=\"icon-file-text2\" viewBox=\"0 0 32 32\">\n",
       "<path d=\"M28.681 7.159c-0.694-0.947-1.662-2.053-2.724-3.116s-2.169-2.030-3.116-2.724c-1.612-1.182-2.393-1.319-2.841-1.319h-15.5c-1.378 0-2.5 1.121-2.5 2.5v27c0 1.378 1.122 2.5 2.5 2.5h23c1.378 0 2.5-1.122 2.5-2.5v-19.5c0-0.448-0.137-1.23-1.319-2.841zM24.543 5.457c0.959 0.959 1.712 1.825 2.268 2.543h-4.811v-4.811c0.718 0.556 1.584 1.309 2.543 2.268zM28 29.5c0 0.271-0.229 0.5-0.5 0.5h-23c-0.271 0-0.5-0.229-0.5-0.5v-27c0-0.271 0.229-0.5 0.5-0.5 0 0 15.499-0 15.5 0v7c0 0.552 0.448 1 1 1h7v19.5z\"></path>\n",
       "<path d=\"M23 26h-14c-0.552 0-1-0.448-1-1s0.448-1 1-1h14c0.552 0 1 0.448 1 1s-0.448 1-1 1z\"></path>\n",
       "<path d=\"M23 22h-14c-0.552 0-1-0.448-1-1s0.448-1 1-1h14c0.552 0 1 0.448 1 1s-0.448 1-1 1z\"></path>\n",
       "<path d=\"M23 18h-14c-0.552 0-1-0.448-1-1s0.448-1 1-1h14c0.552 0 1 0.448 1 1s-0.448 1-1 1z\"></path>\n",
       "</symbol>\n",
       "</defs>\n",
       "</svg>\n",
       "<style>/* CSS stylesheet for displaying xarray objects in jupyterlab.\n",
       " *\n",
       " */\n",
       "\n",
       ":root {\n",
       "  --xr-font-color0: var(--jp-content-font-color0, rgba(0, 0, 0, 1));\n",
       "  --xr-font-color2: var(--jp-content-font-color2, rgba(0, 0, 0, 0.54));\n",
       "  --xr-font-color3: var(--jp-content-font-color3, rgba(0, 0, 0, 0.38));\n",
       "  --xr-border-color: var(--jp-border-color2, #e0e0e0);\n",
       "  --xr-disabled-color: var(--jp-layout-color3, #bdbdbd);\n",
       "  --xr-background-color: var(--jp-layout-color0, white);\n",
       "  --xr-background-color-row-even: var(--jp-layout-color1, white);\n",
       "  --xr-background-color-row-odd: var(--jp-layout-color2, #eeeeee);\n",
       "}\n",
       "\n",
       "html[theme=\"dark\"],\n",
       "html[data-theme=\"dark\"],\n",
       "body[data-theme=\"dark\"],\n",
       "body.vscode-dark {\n",
       "  --xr-font-color0: rgba(255, 255, 255, 1);\n",
       "  --xr-font-color2: rgba(255, 255, 255, 0.54);\n",
       "  --xr-font-color3: rgba(255, 255, 255, 0.38);\n",
       "  --xr-border-color: #1f1f1f;\n",
       "  --xr-disabled-color: #515151;\n",
       "  --xr-background-color: #111111;\n",
       "  --xr-background-color-row-even: #111111;\n",
       "  --xr-background-color-row-odd: #313131;\n",
       "}\n",
       "\n",
       ".xr-wrap {\n",
       "  display: block !important;\n",
       "  min-width: 300px;\n",
       "  max-width: 700px;\n",
       "}\n",
       "\n",
       ".xr-text-repr-fallback {\n",
       "  /* fallback to plain text repr when CSS is not injected (untrusted notebook) */\n",
       "  display: none;\n",
       "}\n",
       "\n",
       ".xr-header {\n",
       "  padding-top: 6px;\n",
       "  padding-bottom: 6px;\n",
       "  margin-bottom: 4px;\n",
       "  border-bottom: solid 1px var(--xr-border-color);\n",
       "}\n",
       "\n",
       ".xr-header > div,\n",
       ".xr-header > ul {\n",
       "  display: inline;\n",
       "  margin-top: 0;\n",
       "  margin-bottom: 0;\n",
       "}\n",
       "\n",
       ".xr-obj-type,\n",
       ".xr-array-name {\n",
       "  margin-left: 2px;\n",
       "  margin-right: 10px;\n",
       "}\n",
       "\n",
       ".xr-obj-type {\n",
       "  color: var(--xr-font-color2);\n",
       "}\n",
       "\n",
       ".xr-sections {\n",
       "  padding-left: 0 !important;\n",
       "  display: grid;\n",
       "  grid-template-columns: 150px auto auto 1fr 0 20px 0 20px;\n",
       "}\n",
       "\n",
       ".xr-section-item {\n",
       "  display: contents;\n",
       "}\n",
       "\n",
       ".xr-section-item input {\n",
       "  display: inline-block;\n",
       "  opacity: 0;\n",
       "  height: 0;\n",
       "}\n",
       "\n",
       ".xr-section-item input + label {\n",
       "  color: var(--xr-disabled-color);\n",
       "}\n",
       "\n",
       ".xr-section-item input:enabled + label {\n",
       "  cursor: pointer;\n",
       "  color: var(--xr-font-color2);\n",
       "}\n",
       "\n",
       ".xr-section-item input:focus + label {\n",
       "  border: 2px solid var(--xr-font-color0);\n",
       "}\n",
       "\n",
       ".xr-section-item input:enabled + label:hover {\n",
       "  color: var(--xr-font-color0);\n",
       "}\n",
       "\n",
       ".xr-section-summary {\n",
       "  grid-column: 1;\n",
       "  color: var(--xr-font-color2);\n",
       "  font-weight: 500;\n",
       "}\n",
       "\n",
       ".xr-section-summary > span {\n",
       "  display: inline-block;\n",
       "  padding-left: 0.5em;\n",
       "}\n",
       "\n",
       ".xr-section-summary-in:disabled + label {\n",
       "  color: var(--xr-font-color2);\n",
       "}\n",
       "\n",
       ".xr-section-summary-in + label:before {\n",
       "  display: inline-block;\n",
       "  content: \"►\";\n",
       "  font-size: 11px;\n",
       "  width: 15px;\n",
       "  text-align: center;\n",
       "}\n",
       "\n",
       ".xr-section-summary-in:disabled + label:before {\n",
       "  color: var(--xr-disabled-color);\n",
       "}\n",
       "\n",
       ".xr-section-summary-in:checked + label:before {\n",
       "  content: \"▼\";\n",
       "}\n",
       "\n",
       ".xr-section-summary-in:checked + label > span {\n",
       "  display: none;\n",
       "}\n",
       "\n",
       ".xr-section-summary,\n",
       ".xr-section-inline-details {\n",
       "  padding-top: 4px;\n",
       "  padding-bottom: 4px;\n",
       "}\n",
       "\n",
       ".xr-section-inline-details {\n",
       "  grid-column: 2 / -1;\n",
       "}\n",
       "\n",
       ".xr-section-details {\n",
       "  display: none;\n",
       "  grid-column: 1 / -1;\n",
       "  margin-bottom: 5px;\n",
       "}\n",
       "\n",
       ".xr-section-summary-in:checked ~ .xr-section-details {\n",
       "  display: contents;\n",
       "}\n",
       "\n",
       ".xr-array-wrap {\n",
       "  grid-column: 1 / -1;\n",
       "  display: grid;\n",
       "  grid-template-columns: 20px auto;\n",
       "}\n",
       "\n",
       ".xr-array-wrap > label {\n",
       "  grid-column: 1;\n",
       "  vertical-align: top;\n",
       "}\n",
       "\n",
       ".xr-preview {\n",
       "  color: var(--xr-font-color3);\n",
       "}\n",
       "\n",
       ".xr-array-preview,\n",
       ".xr-array-data {\n",
       "  padding: 0 5px !important;\n",
       "  grid-column: 2;\n",
       "}\n",
       "\n",
       ".xr-array-data,\n",
       ".xr-array-in:checked ~ .xr-array-preview {\n",
       "  display: none;\n",
       "}\n",
       "\n",
       ".xr-array-in:checked ~ .xr-array-data,\n",
       ".xr-array-preview {\n",
       "  display: inline-block;\n",
       "}\n",
       "\n",
       ".xr-dim-list {\n",
       "  display: inline-block !important;\n",
       "  list-style: none;\n",
       "  padding: 0 !important;\n",
       "  margin: 0;\n",
       "}\n",
       "\n",
       ".xr-dim-list li {\n",
       "  display: inline-block;\n",
       "  padding: 0;\n",
       "  margin: 0;\n",
       "}\n",
       "\n",
       ".xr-dim-list:before {\n",
       "  content: \"(\";\n",
       "}\n",
       "\n",
       ".xr-dim-list:after {\n",
       "  content: \")\";\n",
       "}\n",
       "\n",
       ".xr-dim-list li:not(:last-child):after {\n",
       "  content: \",\";\n",
       "  padding-right: 5px;\n",
       "}\n",
       "\n",
       ".xr-has-index {\n",
       "  font-weight: bold;\n",
       "}\n",
       "\n",
       ".xr-var-list,\n",
       ".xr-var-item {\n",
       "  display: contents;\n",
       "}\n",
       "\n",
       ".xr-var-item > div,\n",
       ".xr-var-item label,\n",
       ".xr-var-item > .xr-var-name span {\n",
       "  background-color: var(--xr-background-color-row-even);\n",
       "  margin-bottom: 0;\n",
       "}\n",
       "\n",
       ".xr-var-item > .xr-var-name:hover span {\n",
       "  padding-right: 5px;\n",
       "}\n",
       "\n",
       ".xr-var-list > li:nth-child(odd) > div,\n",
       ".xr-var-list > li:nth-child(odd) > label,\n",
       ".xr-var-list > li:nth-child(odd) > .xr-var-name span {\n",
       "  background-color: var(--xr-background-color-row-odd);\n",
       "}\n",
       "\n",
       ".xr-var-name {\n",
       "  grid-column: 1;\n",
       "}\n",
       "\n",
       ".xr-var-dims {\n",
       "  grid-column: 2;\n",
       "}\n",
       "\n",
       ".xr-var-dtype {\n",
       "  grid-column: 3;\n",
       "  text-align: right;\n",
       "  color: var(--xr-font-color2);\n",
       "}\n",
       "\n",
       ".xr-var-preview {\n",
       "  grid-column: 4;\n",
       "}\n",
       "\n",
       ".xr-index-preview {\n",
       "  grid-column: 2 / 5;\n",
       "  color: var(--xr-font-color2);\n",
       "}\n",
       "\n",
       ".xr-var-name,\n",
       ".xr-var-dims,\n",
       ".xr-var-dtype,\n",
       ".xr-preview,\n",
       ".xr-attrs dt {\n",
       "  white-space: nowrap;\n",
       "  overflow: hidden;\n",
       "  text-overflow: ellipsis;\n",
       "  padding-right: 10px;\n",
       "}\n",
       "\n",
       ".xr-var-name:hover,\n",
       ".xr-var-dims:hover,\n",
       ".xr-var-dtype:hover,\n",
       ".xr-attrs dt:hover {\n",
       "  overflow: visible;\n",
       "  width: auto;\n",
       "  z-index: 1;\n",
       "}\n",
       "\n",
       ".xr-var-attrs,\n",
       ".xr-var-data,\n",
       ".xr-index-data {\n",
       "  display: none;\n",
       "  background-color: var(--xr-background-color) !important;\n",
       "  padding-bottom: 5px !important;\n",
       "}\n",
       "\n",
       ".xr-var-attrs-in:checked ~ .xr-var-attrs,\n",
       ".xr-var-data-in:checked ~ .xr-var-data,\n",
       ".xr-index-data-in:checked ~ .xr-index-data {\n",
       "  display: block;\n",
       "}\n",
       "\n",
       ".xr-var-data > table {\n",
       "  float: right;\n",
       "}\n",
       "\n",
       ".xr-var-name span,\n",
       ".xr-var-data,\n",
       ".xr-index-name div,\n",
       ".xr-index-data,\n",
       ".xr-attrs {\n",
       "  padding-left: 25px !important;\n",
       "}\n",
       "\n",
       ".xr-attrs,\n",
       ".xr-var-attrs,\n",
       ".xr-var-data,\n",
       ".xr-index-data {\n",
       "  grid-column: 1 / -1;\n",
       "}\n",
       "\n",
       "dl.xr-attrs {\n",
       "  padding: 0;\n",
       "  margin: 0;\n",
       "  display: grid;\n",
       "  grid-template-columns: 125px auto;\n",
       "}\n",
       "\n",
       ".xr-attrs dt,\n",
       ".xr-attrs dd {\n",
       "  padding: 0;\n",
       "  margin: 0;\n",
       "  float: left;\n",
       "  padding-right: 10px;\n",
       "  width: auto;\n",
       "}\n",
       "\n",
       ".xr-attrs dt {\n",
       "  font-weight: normal;\n",
       "  grid-column: 1;\n",
       "}\n",
       "\n",
       ".xr-attrs dt:hover span {\n",
       "  display: inline-block;\n",
       "  background: var(--xr-background-color);\n",
       "  padding-right: 10px;\n",
       "}\n",
       "\n",
       ".xr-attrs dd {\n",
       "  grid-column: 2;\n",
       "  white-space: pre-wrap;\n",
       "  word-break: break-all;\n",
       "}\n",
       "\n",
       ".xr-icon-database,\n",
       ".xr-icon-file-text2,\n",
       ".xr-no-icon {\n",
       "  display: inline-block;\n",
       "  vertical-align: middle;\n",
       "  width: 1em;\n",
       "  height: 1.5em !important;\n",
       "  stroke-width: 0;\n",
       "  stroke: currentColor;\n",
       "  fill: currentColor;\n",
       "}\n",
       "</style><pre class='xr-text-repr-fallback'>&lt;xarray.Dataset&gt; Size: 888B\n",
       "Dimensions:    (layer: 1, time: 36, latitude: 1, longitude: 1)\n",
       "Coordinates:\n",
       "  * layer      (layer) int64 8B 0\n",
       "  * time       (time) datetime64[ns] 288B 2005-01-31 2005-02-28 ... 2007-12-31\n",
       "  * latitude   (latitude) float64 8B 22.75\n",
       "  * longitude  (longitude) int64 8B -158\n",
       "Data variables:\n",
       "    day        (time, layer, latitude, longitude) float64 288B [mg/m²] 157.9 ...\n",
       "    night      (time, layer, latitude, longitude) float64 288B [mg/m²] 237.1 ...</pre><div class='xr-wrap' style='display:none'><div class='xr-header'><div class='xr-obj-type'>xarray.Dataset</div></div><ul class='xr-sections'><li class='xr-section-item'><input id='section-3f6561f1-8d9c-4699-b5b0-7c1c97caf043' class='xr-section-summary-in' type='checkbox' disabled ><label for='section-3f6561f1-8d9c-4699-b5b0-7c1c97caf043' class='xr-section-summary'  title='Expand/collapse section'>Dimensions:</label><div class='xr-section-inline-details'><ul class='xr-dim-list'><li><span class='xr-has-index'>layer</span>: 1</li><li><span class='xr-has-index'>time</span>: 36</li><li><span class='xr-has-index'>latitude</span>: 1</li><li><span class='xr-has-index'>longitude</span>: 1</li></ul></div><div class='xr-section-details'></div></li><li class='xr-section-item'><input id='section-031eaa43-3316-408a-afb5-9990b1ec507d' class='xr-section-summary-in' type='checkbox'  checked><label for='section-031eaa43-3316-408a-afb5-9990b1ec507d' class='xr-section-summary' >Coordinates: <span>(4)</span></label><div class='xr-section-inline-details'></div><div class='xr-section-details'><ul class='xr-var-list'><li class='xr-var-item'><div class='xr-var-name'><span class='xr-has-index'>layer</span></div><div class='xr-var-dims'>(layer)</div><div class='xr-var-dtype'>int64</div><div class='xr-var-preview xr-preview'>0</div><input id='attrs-62e9da8d-8ff7-45a6-ae22-c3a7410a76b6' class='xr-var-attrs-in' type='checkbox' ><label for='attrs-62e9da8d-8ff7-45a6-ae22-c3a7410a76b6' title='Show/Hide attributes'><svg class='icon xr-icon-file-text2'><use xlink:href='#icon-file-text2'></use></svg></label><input id='data-c6a9c2af-61bd-4f12-a8be-1dd8078dd75c' class='xr-var-data-in' type='checkbox'><label for='data-c6a9c2af-61bd-4f12-a8be-1dd8078dd75c' title='Show/Hide data repr'><svg class='icon xr-icon-database'><use xlink:href='#icon-database'></use></svg></label><div class='xr-var-attrs'><dl class='xr-attrs'><dt><span>axis :</span></dt><dd>Z</dd><dt><span>desc :</span></dt><dd>The layer depth according to Seapodym definition</dd><dt><span>flag_meanings :</span></dt><dd>epipelagic, upper-mesopelagic, lower-mesopelagic</dd><dt><span>flag_values :</span></dt><dd>[0, 1, 2]</dd><dt><span>long_name :</span></dt><dd>Layer depth</dd><dt><span>standard_name :</span></dt><dd>layer</dd></dl></div><div class='xr-var-data'><pre>array([0])</pre></div></li><li class='xr-var-item'><div class='xr-var-name'><span class='xr-has-index'>time</span></div><div class='xr-var-dims'>(time)</div><div class='xr-var-dtype'>datetime64[ns]</div><div class='xr-var-preview xr-preview'>2005-01-31 ... 2007-12-31</div><input id='attrs-8ece7400-1ac2-4b50-a177-9d3a8c035c89' class='xr-var-attrs-in' type='checkbox' ><label for='attrs-8ece7400-1ac2-4b50-a177-9d3a8c035c89' title='Show/Hide attributes'><svg class='icon xr-icon-file-text2'><use xlink:href='#icon-file-text2'></use></svg></label><input id='data-e2a97d86-a685-40a8-b351-8cb5487de346' class='xr-var-data-in' type='checkbox'><label for='data-e2a97d86-a685-40a8-b351-8cb5487de346' title='Show/Hide data repr'><svg class='icon xr-icon-database'><use xlink:href='#icon-database'></use></svg></label><div class='xr-var-attrs'><dl class='xr-attrs'><dt><span>axis :</span></dt><dd>T</dd><dt><span>long_name :</span></dt><dd>time</dd><dt><span>standard_name :</span></dt><dd>time</dd></dl></div><div class='xr-var-data'><pre>array([&#x27;2005-01-31T00:00:00.000000000&#x27;, &#x27;2005-02-28T00:00:00.000000000&#x27;,\n",
       "       &#x27;2005-03-31T00:00:00.000000000&#x27;, &#x27;2005-04-30T00:00:00.000000000&#x27;,\n",
       "       &#x27;2005-05-31T00:00:00.000000000&#x27;, &#x27;2005-06-30T00:00:00.000000000&#x27;,\n",
       "       &#x27;2005-07-31T00:00:00.000000000&#x27;, &#x27;2005-08-31T00:00:00.000000000&#x27;,\n",
       "       &#x27;2005-09-30T00:00:00.000000000&#x27;, &#x27;2005-10-31T00:00:00.000000000&#x27;,\n",
       "       &#x27;2005-11-30T00:00:00.000000000&#x27;, &#x27;2005-12-31T00:00:00.000000000&#x27;,\n",
       "       &#x27;2006-01-31T00:00:00.000000000&#x27;, &#x27;2006-02-28T00:00:00.000000000&#x27;,\n",
       "       &#x27;2006-03-31T00:00:00.000000000&#x27;, &#x27;2006-04-30T00:00:00.000000000&#x27;,\n",
       "       &#x27;2006-05-31T00:00:00.000000000&#x27;, &#x27;2006-06-30T00:00:00.000000000&#x27;,\n",
       "       &#x27;2006-07-31T00:00:00.000000000&#x27;, &#x27;2006-08-31T00:00:00.000000000&#x27;,\n",
       "       &#x27;2006-09-30T00:00:00.000000000&#x27;, &#x27;2006-10-31T00:00:00.000000000&#x27;,\n",
       "       &#x27;2006-11-30T00:00:00.000000000&#x27;, &#x27;2006-12-31T00:00:00.000000000&#x27;,\n",
       "       &#x27;2007-01-31T00:00:00.000000000&#x27;, &#x27;2007-02-28T00:00:00.000000000&#x27;,\n",
       "       &#x27;2007-03-31T00:00:00.000000000&#x27;, &#x27;2007-04-30T00:00:00.000000000&#x27;,\n",
       "       &#x27;2007-05-31T00:00:00.000000000&#x27;, &#x27;2007-06-30T00:00:00.000000000&#x27;,\n",
       "       &#x27;2007-07-31T00:00:00.000000000&#x27;, &#x27;2007-08-31T00:00:00.000000000&#x27;,\n",
       "       &#x27;2007-09-30T00:00:00.000000000&#x27;, &#x27;2007-10-31T00:00:00.000000000&#x27;,\n",
       "       &#x27;2007-11-30T00:00:00.000000000&#x27;, &#x27;2007-12-31T00:00:00.000000000&#x27;],\n",
       "      dtype=&#x27;datetime64[ns]&#x27;)</pre></div></li><li class='xr-var-item'><div class='xr-var-name'><span class='xr-has-index'>latitude</span></div><div class='xr-var-dims'>(latitude)</div><div class='xr-var-dtype'>float64</div><div class='xr-var-preview xr-preview'>22.75</div><input id='attrs-f93a54a9-ac90-4daa-a2ba-b7d271d51e47' class='xr-var-attrs-in' type='checkbox' ><label for='attrs-f93a54a9-ac90-4daa-a2ba-b7d271d51e47' title='Show/Hide attributes'><svg class='icon xr-icon-file-text2'><use xlink:href='#icon-file-text2'></use></svg></label><input id='data-002f3243-0b7f-4f34-84cc-18bd6e3552d4' class='xr-var-data-in' type='checkbox'><label for='data-002f3243-0b7f-4f34-84cc-18bd6e3552d4' title='Show/Hide data repr'><svg class='icon xr-icon-database'><use xlink:href='#icon-database'></use></svg></label><div class='xr-var-attrs'><dl class='xr-attrs'><dt><span>axis :</span></dt><dd>Y</dd><dt><span>standard_name :</span></dt><dd>latitude</dd><dt><span>units :</span></dt><dd>degrees_north</dd></dl></div><div class='xr-var-data'><pre>array([22.75])</pre></div></li><li class='xr-var-item'><div class='xr-var-name'><span class='xr-has-index'>longitude</span></div><div class='xr-var-dims'>(longitude)</div><div class='xr-var-dtype'>int64</div><div class='xr-var-preview xr-preview'>-158</div><input id='attrs-de5820d6-b2e7-4c5e-a1d7-08eec4745367' class='xr-var-attrs-in' type='checkbox' ><label for='attrs-de5820d6-b2e7-4c5e-a1d7-08eec4745367' title='Show/Hide attributes'><svg class='icon xr-icon-file-text2'><use xlink:href='#icon-file-text2'></use></svg></label><input id='data-4b1a02a5-2ae9-4bad-9dba-2baf839bfe04' class='xr-var-data-in' type='checkbox'><label for='data-4b1a02a5-2ae9-4bad-9dba-2baf839bfe04' title='Show/Hide data repr'><svg class='icon xr-icon-database'><use xlink:href='#icon-database'></use></svg></label><div class='xr-var-attrs'><dl class='xr-attrs'><dt><span>axis :</span></dt><dd>X</dd><dt><span>standard_name :</span></dt><dd>longitude</dd><dt><span>units :</span></dt><dd>degrees_east</dd></dl></div><div class='xr-var-data'><pre>array([-158])</pre></div></li></ul></div></li><li class='xr-section-item'><input id='section-618ab752-0d15-4445-8daa-5472bbf98285' class='xr-section-summary-in' type='checkbox'  checked><label for='section-618ab752-0d15-4445-8daa-5472bbf98285' class='xr-section-summary' >Data variables: <span>(2)</span></label><div class='xr-section-inline-details'></div><div class='xr-section-details'><ul class='xr-var-list'><li class='xr-var-item'><div class='xr-var-name'><span>day</span></div><div class='xr-var-dims'>(time, layer, latitude, longitude)</div><div class='xr-var-dtype'>float64</div><div class='xr-var-preview xr-preview'>[mg/m²] 157.9 179.5 ... 204.8 189.3</div><input id='attrs-70f40b13-f500-471f-a5eb-0799b9c381ca' class='xr-var-attrs-in' type='checkbox' disabled><label for='attrs-70f40b13-f500-471f-a5eb-0799b9c381ca' title='Show/Hide attributes'><svg class='icon xr-icon-file-text2'><use xlink:href='#icon-file-text2'></use></svg></label><input id='data-ba1a8868-0d15-4ee9-9f73-18ecb74480b4' class='xr-var-data-in' type='checkbox'><label for='data-ba1a8868-0d15-4ee9-9f73-18ecb74480b4' title='Show/Hide data repr'><svg class='icon xr-icon-database'><use xlink:href='#icon-database'></use></svg></label><div class='xr-var-attrs'><dl class='xr-attrs'></dl></div><div class='xr-var-data'><table><tbody><tr><th>Magnitude</th><td style='text-align:left;'><pre>[[[[157.92219924943342]]] [[[179.50290001191829]]] [[[206.9568833881889]]] [[[265.77390000839995]]] [[[281.78101853068074]]] [[[282.22919058899055]]] [[[295.88177275463875]]] [[[313.19485204421545]]] [[[314.33474301409973]]] [[[252.30876534149797]]] [[[204.84900876732033]]] [[[189.26359852904628]]] [[[157.92219924943342]]] [[[179.50290001191829]]] [[[206.9568833881889]]] [[[265.77390000839995]]] [[[281.78101853068074]]] [[[282.22919058899055]]] [[[295.88177275463875]]] [[[313.19485204421545]]] [[[314.33474301409973]]] [[[252.30876534149797]]] [[[204.84900876732033]]] [[[189.26359852904628]]] [[[157.92219924943342]]] [[[179.50290001191829]]] [[[206.9568833881889]]] [[[265.77390000839995]]] [[[281.78101853068074]]] [[[282.22919058899055]]] [[[295.88177275463875]]] [[[313.19485204421545]]] [[[314.33474301409973]]] [[[252.30876534149797]]] [[[204.84900876732033]]] [[[189.26359852904628]]]]</pre></td></tr><tr><th>Units</th><td style='text-align:left;'>milligram/meter<sup>2</sup></td></tr></tbody></table></div></li><li class='xr-var-item'><div class='xr-var-name'><span>night</span></div><div class='xr-var-dims'>(time, layer, latitude, longitude)</div><div class='xr-var-dtype'>float64</div><div class='xr-var-preview xr-preview'>[mg/m²] 237.1 301.6 ... 334.0 290.2</div><input id='attrs-11ffa22a-787d-40e1-8714-a250d6ee1102' class='xr-var-attrs-in' type='checkbox' disabled><label for='attrs-11ffa22a-787d-40e1-8714-a250d6ee1102' title='Show/Hide attributes'><svg class='icon xr-icon-file-text2'><use xlink:href='#icon-file-text2'></use></svg></label><input id='data-3936fe84-a971-4b9e-ba8a-04f53fa811a2' class='xr-var-data-in' type='checkbox'><label for='data-3936fe84-a971-4b9e-ba8a-04f53fa811a2' title='Show/Hide data repr'><svg class='icon xr-icon-database'><use xlink:href='#icon-database'></use></svg></label><div class='xr-var-attrs'><dl class='xr-attrs'></dl></div><div class='xr-var-data'><table><tbody><tr><th>Magnitude</th><td style='text-align:left;'><pre>[[[[237.0516536022709]]] [[[301.6376319958857]]] [[[337.83226845879244]]] [[[414.48959622350367]]] [[[389.1909678368789]]] [[[421.89365674709336]]] [[[424.06609922351373]]] [[[426.77207432265106]]] [[[418.1004648101298]]] [[[374.8468152741032]]] [[[333.9713931237319]]] [[[290.2018113694168]]] [[[237.0516536022709]]] [[[301.6376319958857]]] [[[337.83226845879244]]] [[[414.48959622350367]]] [[[389.1909678368789]]] [[[421.89365674709336]]] [[[424.06609922351373]]] [[[426.77207432265106]]] [[[418.1004648101298]]] [[[374.8468152741032]]] [[[333.9713931237319]]] [[[290.2018113694168]]] [[[237.0516536022709]]] [[[301.6376319958857]]] [[[337.83226845879244]]] [[[414.48959622350367]]] [[[389.1909678368789]]] [[[421.89365674709336]]] [[[424.06609922351373]]] [[[426.77207432265106]]] [[[418.1004648101298]]] [[[374.8468152741032]]] [[[333.9713931237319]]] [[[290.2018113694168]]]]</pre></td></tr><tr><th>Units</th><td style='text-align:left;'>milligram/meter<sup>2</sup></td></tr></tbody></table></div></li></ul></div></li><li class='xr-section-item'><input id='section-4e5110b2-a0d2-4687-b26f-5c72a8cafbeb' class='xr-section-summary-in' type='checkbox'  ><label for='section-4e5110b2-a0d2-4687-b26f-5c72a8cafbeb' class='xr-section-summary' >Indexes: <span>(4)</span></label><div class='xr-section-inline-details'></div><div class='xr-section-details'><ul class='xr-var-list'><li class='xr-var-item'><div class='xr-index-name'><div>layer</div></div><div class='xr-index-preview'>PandasIndex</div><input type='checkbox' disabled/><label></label><input id='index-4f53d6ed-9c90-46e7-bc35-6d4832707b9f' class='xr-index-data-in' type='checkbox'/><label for='index-4f53d6ed-9c90-46e7-bc35-6d4832707b9f' title='Show/Hide index repr'><svg class='icon xr-icon-database'><use xlink:href='#icon-database'></use></svg></label><div class='xr-index-data'><pre>PandasIndex(Index([0], dtype=&#x27;int64&#x27;, name=&#x27;layer&#x27;))</pre></div></li><li class='xr-var-item'><div class='xr-index-name'><div>time</div></div><div class='xr-index-preview'>PandasIndex</div><input type='checkbox' disabled/><label></label><input id='index-e4892588-1a68-4cd5-94fd-1e582bc40034' class='xr-index-data-in' type='checkbox'/><label for='index-e4892588-1a68-4cd5-94fd-1e582bc40034' title='Show/Hide index repr'><svg class='icon xr-icon-database'><use xlink:href='#icon-database'></use></svg></label><div class='xr-index-data'><pre>PandasIndex(DatetimeIndex([&#x27;2005-01-31&#x27;, &#x27;2005-02-28&#x27;, &#x27;2005-03-31&#x27;, &#x27;2005-04-30&#x27;,\n",
       "               &#x27;2005-05-31&#x27;, &#x27;2005-06-30&#x27;, &#x27;2005-07-31&#x27;, &#x27;2005-08-31&#x27;,\n",
       "               &#x27;2005-09-30&#x27;, &#x27;2005-10-31&#x27;, &#x27;2005-11-30&#x27;, &#x27;2005-12-31&#x27;,\n",
       "               &#x27;2006-01-31&#x27;, &#x27;2006-02-28&#x27;, &#x27;2006-03-31&#x27;, &#x27;2006-04-30&#x27;,\n",
       "               &#x27;2006-05-31&#x27;, &#x27;2006-06-30&#x27;, &#x27;2006-07-31&#x27;, &#x27;2006-08-31&#x27;,\n",
       "               &#x27;2006-09-30&#x27;, &#x27;2006-10-31&#x27;, &#x27;2006-11-30&#x27;, &#x27;2006-12-31&#x27;,\n",
       "               &#x27;2007-01-31&#x27;, &#x27;2007-02-28&#x27;, &#x27;2007-03-31&#x27;, &#x27;2007-04-30&#x27;,\n",
       "               &#x27;2007-05-31&#x27;, &#x27;2007-06-30&#x27;, &#x27;2007-07-31&#x27;, &#x27;2007-08-31&#x27;,\n",
       "               &#x27;2007-09-30&#x27;, &#x27;2007-10-31&#x27;, &#x27;2007-11-30&#x27;, &#x27;2007-12-31&#x27;],\n",
       "              dtype=&#x27;datetime64[ns]&#x27;, name=&#x27;time&#x27;, freq=&#x27;ME&#x27;))</pre></div></li><li class='xr-var-item'><div class='xr-index-name'><div>latitude</div></div><div class='xr-index-preview'>PandasIndex</div><input type='checkbox' disabled/><label></label><input id='index-98d5a5f5-7f03-4cb3-8d07-df2fa726dd21' class='xr-index-data-in' type='checkbox'/><label for='index-98d5a5f5-7f03-4cb3-8d07-df2fa726dd21' title='Show/Hide index repr'><svg class='icon xr-icon-database'><use xlink:href='#icon-database'></use></svg></label><div class='xr-index-data'><pre>PandasIndex(Index([22.75], dtype=&#x27;float64&#x27;, name=&#x27;latitude&#x27;))</pre></div></li><li class='xr-var-item'><div class='xr-index-name'><div>longitude</div></div><div class='xr-index-preview'>PandasIndex</div><input type='checkbox' disabled/><label></label><input id='index-1fd9caf9-1637-45a9-89e9-790587343b27' class='xr-index-data-in' type='checkbox'/><label for='index-1fd9caf9-1637-45a9-89e9-790587343b27' title='Show/Hide index repr'><svg class='icon xr-icon-database'><use xlink:href='#icon-database'></use></svg></label><div class='xr-index-data'><pre>PandasIndex(Index([-158], dtype=&#x27;int64&#x27;, name=&#x27;longitude&#x27;))</pre></div></li></ul></div></li><li class='xr-section-item'><input id='section-2c8eae99-5714-4e7a-a00b-45c7b9d59e3c' class='xr-section-summary-in' type='checkbox' disabled ><label for='section-2c8eae99-5714-4e7a-a00b-45c7b9d59e3c' class='xr-section-summary'  title='Expand/collapse section'>Attributes: <span>(0)</span></label><div class='xr-section-inline-details'></div><div class='xr-section-details'><dl class='xr-attrs'></dl></div></li></ul></div></div>"
      ],
      "text/plain": [
       "<xarray.Dataset> Size: 888B\n",
       "Dimensions:    (layer: 1, time: 36, latitude: 1, longitude: 1)\n",
       "Coordinates:\n",
       "  * layer      (layer) int64 8B 0\n",
       "  * time       (time) datetime64[ns] 288B 2005-01-31 2005-02-28 ... 2007-12-31\n",
       "  * latitude   (latitude) float64 8B 22.75\n",
       "  * longitude  (longitude) int64 8B -158\n",
       "Data variables:\n",
       "    day        (time, layer, latitude, longitude) float64 288B [mg/m²] 157.9 ...\n",
       "    night      (time, layer, latitude, longitude) float64 288B [mg/m²] 237.1 ..."
      ]
     },
     "execution_count": 7,
     "metadata": {},
     "output_type": "execute_result"
    }
   ],
   "source": [
    "observations = xr.open_zarr(path_to_obs).load()\n",
    "observations = observations.sel(latitude=LATITUDE, longitude=LONGITUDE, method=\"nearest\")\n",
    "observations = observations.resample(time=\"1D\").mean().dropna(\"time\")\n",
    "observations = observations.pint.quantify().pint.to(\"mg/m^3\")\n",
    "observations = observations * epi_layer_depth\n",
    "observations = observations.drop_vars(\"depth\")\n",
    "observations"
   ]
  },
  {
   "cell_type": "markdown",
   "metadata": {},
   "source": [
    "observations\n"
   ]
  },
  {
   "cell_type": "markdown",
   "metadata": {},
   "source": [
    "Select the kind of observation you want to use.\n"
   ]
  },
  {
   "cell_type": "code",
   "execution_count": 8,
   "metadata": {},
   "outputs": [
    {
     "data": {
      "text/html": [
       "<div><svg style=\"position: absolute; width: 0; height: 0; overflow: hidden\">\n",
       "<defs>\n",
       "<symbol id=\"icon-database\" viewBox=\"0 0 32 32\">\n",
       "<path d=\"M16 0c-8.837 0-16 2.239-16 5v4c0 2.761 7.163 5 16 5s16-2.239 16-5v-4c0-2.761-7.163-5-16-5z\"></path>\n",
       "<path d=\"M16 17c-8.837 0-16-2.239-16-5v6c0 2.761 7.163 5 16 5s16-2.239 16-5v-6c0 2.761-7.163 5-16 5z\"></path>\n",
       "<path d=\"M16 26c-8.837 0-16-2.239-16-5v6c0 2.761 7.163 5 16 5s16-2.239 16-5v-6c0 2.761-7.163 5-16 5z\"></path>\n",
       "</symbol>\n",
       "<symbol id=\"icon-file-text2\" viewBox=\"0 0 32 32\">\n",
       "<path d=\"M28.681 7.159c-0.694-0.947-1.662-2.053-2.724-3.116s-2.169-2.030-3.116-2.724c-1.612-1.182-2.393-1.319-2.841-1.319h-15.5c-1.378 0-2.5 1.121-2.5 2.5v27c0 1.378 1.122 2.5 2.5 2.5h23c1.378 0 2.5-1.122 2.5-2.5v-19.5c0-0.448-0.137-1.23-1.319-2.841zM24.543 5.457c0.959 0.959 1.712 1.825 2.268 2.543h-4.811v-4.811c0.718 0.556 1.584 1.309 2.543 2.268zM28 29.5c0 0.271-0.229 0.5-0.5 0.5h-23c-0.271 0-0.5-0.229-0.5-0.5v-27c0-0.271 0.229-0.5 0.5-0.5 0 0 15.499-0 15.5 0v7c0 0.552 0.448 1 1 1h7v19.5z\"></path>\n",
       "<path d=\"M23 26h-14c-0.552 0-1-0.448-1-1s0.448-1 1-1h14c0.552 0 1 0.448 1 1s-0.448 1-1 1z\"></path>\n",
       "<path d=\"M23 22h-14c-0.552 0-1-0.448-1-1s0.448-1 1-1h14c0.552 0 1 0.448 1 1s-0.448 1-1 1z\"></path>\n",
       "<path d=\"M23 18h-14c-0.552 0-1-0.448-1-1s0.448-1 1-1h14c0.552 0 1 0.448 1 1s-0.448 1-1 1z\"></path>\n",
       "</symbol>\n",
       "</defs>\n",
       "</svg>\n",
       "<style>/* CSS stylesheet for displaying xarray objects in jupyterlab.\n",
       " *\n",
       " */\n",
       "\n",
       ":root {\n",
       "  --xr-font-color0: var(--jp-content-font-color0, rgba(0, 0, 0, 1));\n",
       "  --xr-font-color2: var(--jp-content-font-color2, rgba(0, 0, 0, 0.54));\n",
       "  --xr-font-color3: var(--jp-content-font-color3, rgba(0, 0, 0, 0.38));\n",
       "  --xr-border-color: var(--jp-border-color2, #e0e0e0);\n",
       "  --xr-disabled-color: var(--jp-layout-color3, #bdbdbd);\n",
       "  --xr-background-color: var(--jp-layout-color0, white);\n",
       "  --xr-background-color-row-even: var(--jp-layout-color1, white);\n",
       "  --xr-background-color-row-odd: var(--jp-layout-color2, #eeeeee);\n",
       "}\n",
       "\n",
       "html[theme=\"dark\"],\n",
       "html[data-theme=\"dark\"],\n",
       "body[data-theme=\"dark\"],\n",
       "body.vscode-dark {\n",
       "  --xr-font-color0: rgba(255, 255, 255, 1);\n",
       "  --xr-font-color2: rgba(255, 255, 255, 0.54);\n",
       "  --xr-font-color3: rgba(255, 255, 255, 0.38);\n",
       "  --xr-border-color: #1f1f1f;\n",
       "  --xr-disabled-color: #515151;\n",
       "  --xr-background-color: #111111;\n",
       "  --xr-background-color-row-even: #111111;\n",
       "  --xr-background-color-row-odd: #313131;\n",
       "}\n",
       "\n",
       ".xr-wrap {\n",
       "  display: block !important;\n",
       "  min-width: 300px;\n",
       "  max-width: 700px;\n",
       "}\n",
       "\n",
       ".xr-text-repr-fallback {\n",
       "  /* fallback to plain text repr when CSS is not injected (untrusted notebook) */\n",
       "  display: none;\n",
       "}\n",
       "\n",
       ".xr-header {\n",
       "  padding-top: 6px;\n",
       "  padding-bottom: 6px;\n",
       "  margin-bottom: 4px;\n",
       "  border-bottom: solid 1px var(--xr-border-color);\n",
       "}\n",
       "\n",
       ".xr-header > div,\n",
       ".xr-header > ul {\n",
       "  display: inline;\n",
       "  margin-top: 0;\n",
       "  margin-bottom: 0;\n",
       "}\n",
       "\n",
       ".xr-obj-type,\n",
       ".xr-array-name {\n",
       "  margin-left: 2px;\n",
       "  margin-right: 10px;\n",
       "}\n",
       "\n",
       ".xr-obj-type {\n",
       "  color: var(--xr-font-color2);\n",
       "}\n",
       "\n",
       ".xr-sections {\n",
       "  padding-left: 0 !important;\n",
       "  display: grid;\n",
       "  grid-template-columns: 150px auto auto 1fr 0 20px 0 20px;\n",
       "}\n",
       "\n",
       ".xr-section-item {\n",
       "  display: contents;\n",
       "}\n",
       "\n",
       ".xr-section-item input {\n",
       "  display: inline-block;\n",
       "  opacity: 0;\n",
       "  height: 0;\n",
       "}\n",
       "\n",
       ".xr-section-item input + label {\n",
       "  color: var(--xr-disabled-color);\n",
       "}\n",
       "\n",
       ".xr-section-item input:enabled + label {\n",
       "  cursor: pointer;\n",
       "  color: var(--xr-font-color2);\n",
       "}\n",
       "\n",
       ".xr-section-item input:focus + label {\n",
       "  border: 2px solid var(--xr-font-color0);\n",
       "}\n",
       "\n",
       ".xr-section-item input:enabled + label:hover {\n",
       "  color: var(--xr-font-color0);\n",
       "}\n",
       "\n",
       ".xr-section-summary {\n",
       "  grid-column: 1;\n",
       "  color: var(--xr-font-color2);\n",
       "  font-weight: 500;\n",
       "}\n",
       "\n",
       ".xr-section-summary > span {\n",
       "  display: inline-block;\n",
       "  padding-left: 0.5em;\n",
       "}\n",
       "\n",
       ".xr-section-summary-in:disabled + label {\n",
       "  color: var(--xr-font-color2);\n",
       "}\n",
       "\n",
       ".xr-section-summary-in + label:before {\n",
       "  display: inline-block;\n",
       "  content: \"►\";\n",
       "  font-size: 11px;\n",
       "  width: 15px;\n",
       "  text-align: center;\n",
       "}\n",
       "\n",
       ".xr-section-summary-in:disabled + label:before {\n",
       "  color: var(--xr-disabled-color);\n",
       "}\n",
       "\n",
       ".xr-section-summary-in:checked + label:before {\n",
       "  content: \"▼\";\n",
       "}\n",
       "\n",
       ".xr-section-summary-in:checked + label > span {\n",
       "  display: none;\n",
       "}\n",
       "\n",
       ".xr-section-summary,\n",
       ".xr-section-inline-details {\n",
       "  padding-top: 4px;\n",
       "  padding-bottom: 4px;\n",
       "}\n",
       "\n",
       ".xr-section-inline-details {\n",
       "  grid-column: 2 / -1;\n",
       "}\n",
       "\n",
       ".xr-section-details {\n",
       "  display: none;\n",
       "  grid-column: 1 / -1;\n",
       "  margin-bottom: 5px;\n",
       "}\n",
       "\n",
       ".xr-section-summary-in:checked ~ .xr-section-details {\n",
       "  display: contents;\n",
       "}\n",
       "\n",
       ".xr-array-wrap {\n",
       "  grid-column: 1 / -1;\n",
       "  display: grid;\n",
       "  grid-template-columns: 20px auto;\n",
       "}\n",
       "\n",
       ".xr-array-wrap > label {\n",
       "  grid-column: 1;\n",
       "  vertical-align: top;\n",
       "}\n",
       "\n",
       ".xr-preview {\n",
       "  color: var(--xr-font-color3);\n",
       "}\n",
       "\n",
       ".xr-array-preview,\n",
       ".xr-array-data {\n",
       "  padding: 0 5px !important;\n",
       "  grid-column: 2;\n",
       "}\n",
       "\n",
       ".xr-array-data,\n",
       ".xr-array-in:checked ~ .xr-array-preview {\n",
       "  display: none;\n",
       "}\n",
       "\n",
       ".xr-array-in:checked ~ .xr-array-data,\n",
       ".xr-array-preview {\n",
       "  display: inline-block;\n",
       "}\n",
       "\n",
       ".xr-dim-list {\n",
       "  display: inline-block !important;\n",
       "  list-style: none;\n",
       "  padding: 0 !important;\n",
       "  margin: 0;\n",
       "}\n",
       "\n",
       ".xr-dim-list li {\n",
       "  display: inline-block;\n",
       "  padding: 0;\n",
       "  margin: 0;\n",
       "}\n",
       "\n",
       ".xr-dim-list:before {\n",
       "  content: \"(\";\n",
       "}\n",
       "\n",
       ".xr-dim-list:after {\n",
       "  content: \")\";\n",
       "}\n",
       "\n",
       ".xr-dim-list li:not(:last-child):after {\n",
       "  content: \",\";\n",
       "  padding-right: 5px;\n",
       "}\n",
       "\n",
       ".xr-has-index {\n",
       "  font-weight: bold;\n",
       "}\n",
       "\n",
       ".xr-var-list,\n",
       ".xr-var-item {\n",
       "  display: contents;\n",
       "}\n",
       "\n",
       ".xr-var-item > div,\n",
       ".xr-var-item label,\n",
       ".xr-var-item > .xr-var-name span {\n",
       "  background-color: var(--xr-background-color-row-even);\n",
       "  margin-bottom: 0;\n",
       "}\n",
       "\n",
       ".xr-var-item > .xr-var-name:hover span {\n",
       "  padding-right: 5px;\n",
       "}\n",
       "\n",
       ".xr-var-list > li:nth-child(odd) > div,\n",
       ".xr-var-list > li:nth-child(odd) > label,\n",
       ".xr-var-list > li:nth-child(odd) > .xr-var-name span {\n",
       "  background-color: var(--xr-background-color-row-odd);\n",
       "}\n",
       "\n",
       ".xr-var-name {\n",
       "  grid-column: 1;\n",
       "}\n",
       "\n",
       ".xr-var-dims {\n",
       "  grid-column: 2;\n",
       "}\n",
       "\n",
       ".xr-var-dtype {\n",
       "  grid-column: 3;\n",
       "  text-align: right;\n",
       "  color: var(--xr-font-color2);\n",
       "}\n",
       "\n",
       ".xr-var-preview {\n",
       "  grid-column: 4;\n",
       "}\n",
       "\n",
       ".xr-index-preview {\n",
       "  grid-column: 2 / 5;\n",
       "  color: var(--xr-font-color2);\n",
       "}\n",
       "\n",
       ".xr-var-name,\n",
       ".xr-var-dims,\n",
       ".xr-var-dtype,\n",
       ".xr-preview,\n",
       ".xr-attrs dt {\n",
       "  white-space: nowrap;\n",
       "  overflow: hidden;\n",
       "  text-overflow: ellipsis;\n",
       "  padding-right: 10px;\n",
       "}\n",
       "\n",
       ".xr-var-name:hover,\n",
       ".xr-var-dims:hover,\n",
       ".xr-var-dtype:hover,\n",
       ".xr-attrs dt:hover {\n",
       "  overflow: visible;\n",
       "  width: auto;\n",
       "  z-index: 1;\n",
       "}\n",
       "\n",
       ".xr-var-attrs,\n",
       ".xr-var-data,\n",
       ".xr-index-data {\n",
       "  display: none;\n",
       "  background-color: var(--xr-background-color) !important;\n",
       "  padding-bottom: 5px !important;\n",
       "}\n",
       "\n",
       ".xr-var-attrs-in:checked ~ .xr-var-attrs,\n",
       ".xr-var-data-in:checked ~ .xr-var-data,\n",
       ".xr-index-data-in:checked ~ .xr-index-data {\n",
       "  display: block;\n",
       "}\n",
       "\n",
       ".xr-var-data > table {\n",
       "  float: right;\n",
       "}\n",
       "\n",
       ".xr-var-name span,\n",
       ".xr-var-data,\n",
       ".xr-index-name div,\n",
       ".xr-index-data,\n",
       ".xr-attrs {\n",
       "  padding-left: 25px !important;\n",
       "}\n",
       "\n",
       ".xr-attrs,\n",
       ".xr-var-attrs,\n",
       ".xr-var-data,\n",
       ".xr-index-data {\n",
       "  grid-column: 1 / -1;\n",
       "}\n",
       "\n",
       "dl.xr-attrs {\n",
       "  padding: 0;\n",
       "  margin: 0;\n",
       "  display: grid;\n",
       "  grid-template-columns: 125px auto;\n",
       "}\n",
       "\n",
       ".xr-attrs dt,\n",
       ".xr-attrs dd {\n",
       "  padding: 0;\n",
       "  margin: 0;\n",
       "  float: left;\n",
       "  padding-right: 10px;\n",
       "  width: auto;\n",
       "}\n",
       "\n",
       ".xr-attrs dt {\n",
       "  font-weight: normal;\n",
       "  grid-column: 1;\n",
       "}\n",
       "\n",
       ".xr-attrs dt:hover span {\n",
       "  display: inline-block;\n",
       "  background: var(--xr-background-color);\n",
       "  padding-right: 10px;\n",
       "}\n",
       "\n",
       ".xr-attrs dd {\n",
       "  grid-column: 2;\n",
       "  white-space: pre-wrap;\n",
       "  word-break: break-all;\n",
       "}\n",
       "\n",
       ".xr-icon-database,\n",
       ".xr-icon-file-text2,\n",
       ".xr-no-icon {\n",
       "  display: inline-block;\n",
       "  vertical-align: middle;\n",
       "  width: 1em;\n",
       "  height: 1.5em !important;\n",
       "  stroke-width: 0;\n",
       "  stroke: currentColor;\n",
       "  fill: currentColor;\n",
       "}\n",
       "</style><pre class='xr-text-repr-fallback'>&lt;xarray.Dataset&gt; Size: 600B\n",
       "Dimensions:    (layer: 1, time: 24, latitude: 1, longitude: 1)\n",
       "Coordinates:\n",
       "  * layer      (layer) int64 8B 0\n",
       "  * time       (time) datetime64[ns] 192B 2006-01-31 2006-02-28 ... 2007-12-31\n",
       "  * latitude   (latitude) float64 8B 22.75\n",
       "  * longitude  (longitude) int64 8B -158\n",
       "Data variables:\n",
       "    day        (time, layer, latitude, longitude) float64 192B [mg/m²] 157.9 ...\n",
       "    night      (time, layer, latitude, longitude) float64 192B [mg/m²] 237.1 ...</pre><div class='xr-wrap' style='display:none'><div class='xr-header'><div class='xr-obj-type'>xarray.Dataset</div></div><ul class='xr-sections'><li class='xr-section-item'><input id='section-5900493c-cbc7-4def-9541-84efeb1d0e26' class='xr-section-summary-in' type='checkbox' disabled ><label for='section-5900493c-cbc7-4def-9541-84efeb1d0e26' class='xr-section-summary'  title='Expand/collapse section'>Dimensions:</label><div class='xr-section-inline-details'><ul class='xr-dim-list'><li><span class='xr-has-index'>layer</span>: 1</li><li><span class='xr-has-index'>time</span>: 24</li><li><span class='xr-has-index'>latitude</span>: 1</li><li><span class='xr-has-index'>longitude</span>: 1</li></ul></div><div class='xr-section-details'></div></li><li class='xr-section-item'><input id='section-33883d8f-4bec-4ab7-b200-2be480779314' class='xr-section-summary-in' type='checkbox'  checked><label for='section-33883d8f-4bec-4ab7-b200-2be480779314' class='xr-section-summary' >Coordinates: <span>(4)</span></label><div class='xr-section-inline-details'></div><div class='xr-section-details'><ul class='xr-var-list'><li class='xr-var-item'><div class='xr-var-name'><span class='xr-has-index'>layer</span></div><div class='xr-var-dims'>(layer)</div><div class='xr-var-dtype'>int64</div><div class='xr-var-preview xr-preview'>0</div><input id='attrs-e1350e6d-cd87-44c1-b362-88551a180827' class='xr-var-attrs-in' type='checkbox' ><label for='attrs-e1350e6d-cd87-44c1-b362-88551a180827' title='Show/Hide attributes'><svg class='icon xr-icon-file-text2'><use xlink:href='#icon-file-text2'></use></svg></label><input id='data-58a9540f-3af0-4c7e-a7b8-2bb3d048609e' class='xr-var-data-in' type='checkbox'><label for='data-58a9540f-3af0-4c7e-a7b8-2bb3d048609e' title='Show/Hide data repr'><svg class='icon xr-icon-database'><use xlink:href='#icon-database'></use></svg></label><div class='xr-var-attrs'><dl class='xr-attrs'><dt><span>axis :</span></dt><dd>Z</dd><dt><span>desc :</span></dt><dd>The layer depth according to Seapodym definition</dd><dt><span>flag_meanings :</span></dt><dd>epipelagic, upper-mesopelagic, lower-mesopelagic</dd><dt><span>flag_values :</span></dt><dd>[0, 1, 2]</dd><dt><span>long_name :</span></dt><dd>Layer depth</dd><dt><span>standard_name :</span></dt><dd>layer</dd></dl></div><div class='xr-var-data'><pre>array([0])</pre></div></li><li class='xr-var-item'><div class='xr-var-name'><span class='xr-has-index'>time</span></div><div class='xr-var-dims'>(time)</div><div class='xr-var-dtype'>datetime64[ns]</div><div class='xr-var-preview xr-preview'>2006-01-31 ... 2007-12-31</div><input id='attrs-3777f41e-e9ba-492c-bf7c-9664901a6d27' class='xr-var-attrs-in' type='checkbox' ><label for='attrs-3777f41e-e9ba-492c-bf7c-9664901a6d27' title='Show/Hide attributes'><svg class='icon xr-icon-file-text2'><use xlink:href='#icon-file-text2'></use></svg></label><input id='data-eaed4657-7723-4917-ab1d-62753c34994d' class='xr-var-data-in' type='checkbox'><label for='data-eaed4657-7723-4917-ab1d-62753c34994d' title='Show/Hide data repr'><svg class='icon xr-icon-database'><use xlink:href='#icon-database'></use></svg></label><div class='xr-var-attrs'><dl class='xr-attrs'><dt><span>axis :</span></dt><dd>T</dd><dt><span>long_name :</span></dt><dd>time</dd><dt><span>standard_name :</span></dt><dd>time</dd></dl></div><div class='xr-var-data'><pre>array([&#x27;2006-01-31T00:00:00.000000000&#x27;, &#x27;2006-02-28T00:00:00.000000000&#x27;,\n",
       "       &#x27;2006-03-31T00:00:00.000000000&#x27;, &#x27;2006-04-30T00:00:00.000000000&#x27;,\n",
       "       &#x27;2006-05-31T00:00:00.000000000&#x27;, &#x27;2006-06-30T00:00:00.000000000&#x27;,\n",
       "       &#x27;2006-07-31T00:00:00.000000000&#x27;, &#x27;2006-08-31T00:00:00.000000000&#x27;,\n",
       "       &#x27;2006-09-30T00:00:00.000000000&#x27;, &#x27;2006-10-31T00:00:00.000000000&#x27;,\n",
       "       &#x27;2006-11-30T00:00:00.000000000&#x27;, &#x27;2006-12-31T00:00:00.000000000&#x27;,\n",
       "       &#x27;2007-01-31T00:00:00.000000000&#x27;, &#x27;2007-02-28T00:00:00.000000000&#x27;,\n",
       "       &#x27;2007-03-31T00:00:00.000000000&#x27;, &#x27;2007-04-30T00:00:00.000000000&#x27;,\n",
       "       &#x27;2007-05-31T00:00:00.000000000&#x27;, &#x27;2007-06-30T00:00:00.000000000&#x27;,\n",
       "       &#x27;2007-07-31T00:00:00.000000000&#x27;, &#x27;2007-08-31T00:00:00.000000000&#x27;,\n",
       "       &#x27;2007-09-30T00:00:00.000000000&#x27;, &#x27;2007-10-31T00:00:00.000000000&#x27;,\n",
       "       &#x27;2007-11-30T00:00:00.000000000&#x27;, &#x27;2007-12-31T00:00:00.000000000&#x27;],\n",
       "      dtype=&#x27;datetime64[ns]&#x27;)</pre></div></li><li class='xr-var-item'><div class='xr-var-name'><span class='xr-has-index'>latitude</span></div><div class='xr-var-dims'>(latitude)</div><div class='xr-var-dtype'>float64</div><div class='xr-var-preview xr-preview'>22.75</div><input id='attrs-33103df2-3e09-42f6-83b1-b69322cf0ec8' class='xr-var-attrs-in' type='checkbox' ><label for='attrs-33103df2-3e09-42f6-83b1-b69322cf0ec8' title='Show/Hide attributes'><svg class='icon xr-icon-file-text2'><use xlink:href='#icon-file-text2'></use></svg></label><input id='data-a61aef6a-84cd-4d90-86df-660d2bb50095' class='xr-var-data-in' type='checkbox'><label for='data-a61aef6a-84cd-4d90-86df-660d2bb50095' title='Show/Hide data repr'><svg class='icon xr-icon-database'><use xlink:href='#icon-database'></use></svg></label><div class='xr-var-attrs'><dl class='xr-attrs'><dt><span>axis :</span></dt><dd>Y</dd><dt><span>standard_name :</span></dt><dd>latitude</dd><dt><span>units :</span></dt><dd>degrees_north</dd></dl></div><div class='xr-var-data'><pre>array([22.75])</pre></div></li><li class='xr-var-item'><div class='xr-var-name'><span class='xr-has-index'>longitude</span></div><div class='xr-var-dims'>(longitude)</div><div class='xr-var-dtype'>int64</div><div class='xr-var-preview xr-preview'>-158</div><input id='attrs-f4e714e2-348a-4ece-b8c2-9f2bedd7aaad' class='xr-var-attrs-in' type='checkbox' ><label for='attrs-f4e714e2-348a-4ece-b8c2-9f2bedd7aaad' title='Show/Hide attributes'><svg class='icon xr-icon-file-text2'><use xlink:href='#icon-file-text2'></use></svg></label><input id='data-05baf749-ac2f-4c96-8d19-725557cf3bb1' class='xr-var-data-in' type='checkbox'><label for='data-05baf749-ac2f-4c96-8d19-725557cf3bb1' title='Show/Hide data repr'><svg class='icon xr-icon-database'><use xlink:href='#icon-database'></use></svg></label><div class='xr-var-attrs'><dl class='xr-attrs'><dt><span>axis :</span></dt><dd>X</dd><dt><span>standard_name :</span></dt><dd>longitude</dd><dt><span>units :</span></dt><dd>degrees_east</dd></dl></div><div class='xr-var-data'><pre>array([-158])</pre></div></li></ul></div></li><li class='xr-section-item'><input id='section-bc00b551-ee92-4cac-a9ff-0ac4c30ece67' class='xr-section-summary-in' type='checkbox'  checked><label for='section-bc00b551-ee92-4cac-a9ff-0ac4c30ece67' class='xr-section-summary' >Data variables: <span>(2)</span></label><div class='xr-section-inline-details'></div><div class='xr-section-details'><ul class='xr-var-list'><li class='xr-var-item'><div class='xr-var-name'><span>day</span></div><div class='xr-var-dims'>(time, layer, latitude, longitude)</div><div class='xr-var-dtype'>float64</div><div class='xr-var-preview xr-preview'>[mg/m²] 157.9 179.5 ... 204.8 189.3</div><input id='attrs-378ec4f1-2c7c-4379-b665-2705d17c2168' class='xr-var-attrs-in' type='checkbox' disabled><label for='attrs-378ec4f1-2c7c-4379-b665-2705d17c2168' title='Show/Hide attributes'><svg class='icon xr-icon-file-text2'><use xlink:href='#icon-file-text2'></use></svg></label><input id='data-b38695f0-308c-4f89-850a-67ce5317a967' class='xr-var-data-in' type='checkbox'><label for='data-b38695f0-308c-4f89-850a-67ce5317a967' title='Show/Hide data repr'><svg class='icon xr-icon-database'><use xlink:href='#icon-database'></use></svg></label><div class='xr-var-attrs'><dl class='xr-attrs'></dl></div><div class='xr-var-data'><table><tbody><tr><th>Magnitude</th><td style='text-align:left;'><pre>[[[[157.92219924943342]]] [[[179.50290001191829]]] [[[206.9568833881889]]] [[[265.77390000839995]]] [[[281.78101853068074]]] [[[282.22919058899055]]] [[[295.88177275463875]]] [[[313.19485204421545]]] [[[314.33474301409973]]] [[[252.30876534149797]]] [[[204.84900876732033]]] [[[189.26359852904628]]] [[[157.92219924943342]]] [[[179.50290001191829]]] [[[206.9568833881889]]] [[[265.77390000839995]]] [[[281.78101853068074]]] [[[282.22919058899055]]] [[[295.88177275463875]]] [[[313.19485204421545]]] [[[314.33474301409973]]] [[[252.30876534149797]]] [[[204.84900876732033]]] [[[189.26359852904628]]]]</pre></td></tr><tr><th>Units</th><td style='text-align:left;'>milligram/meter<sup>2</sup></td></tr></tbody></table></div></li><li class='xr-var-item'><div class='xr-var-name'><span>night</span></div><div class='xr-var-dims'>(time, layer, latitude, longitude)</div><div class='xr-var-dtype'>float64</div><div class='xr-var-preview xr-preview'>[mg/m²] 237.1 301.6 ... 334.0 290.2</div><input id='attrs-6a0b6762-d3a3-426b-b1a8-ca0cf0eadbd3' class='xr-var-attrs-in' type='checkbox' disabled><label for='attrs-6a0b6762-d3a3-426b-b1a8-ca0cf0eadbd3' title='Show/Hide attributes'><svg class='icon xr-icon-file-text2'><use xlink:href='#icon-file-text2'></use></svg></label><input id='data-8bb48527-38df-42f6-a6e4-40d63802f48e' class='xr-var-data-in' type='checkbox'><label for='data-8bb48527-38df-42f6-a6e4-40d63802f48e' title='Show/Hide data repr'><svg class='icon xr-icon-database'><use xlink:href='#icon-database'></use></svg></label><div class='xr-var-attrs'><dl class='xr-attrs'></dl></div><div class='xr-var-data'><table><tbody><tr><th>Magnitude</th><td style='text-align:left;'><pre>[[[[237.0516536022709]]] [[[301.6376319958857]]] [[[337.83226845879244]]] [[[414.48959622350367]]] [[[389.1909678368789]]] [[[421.89365674709336]]] [[[424.06609922351373]]] [[[426.77207432265106]]] [[[418.1004648101298]]] [[[374.8468152741032]]] [[[333.9713931237319]]] [[[290.2018113694168]]] [[[237.0516536022709]]] [[[301.6376319958857]]] [[[337.83226845879244]]] [[[414.48959622350367]]] [[[389.1909678368789]]] [[[421.89365674709336]]] [[[424.06609922351373]]] [[[426.77207432265106]]] [[[418.1004648101298]]] [[[374.8468152741032]]] [[[333.9713931237319]]] [[[290.2018113694168]]]]</pre></td></tr><tr><th>Units</th><td style='text-align:left;'>milligram/meter<sup>2</sup></td></tr></tbody></table></div></li></ul></div></li><li class='xr-section-item'><input id='section-758d4bce-80f0-472e-9a07-697237c53e01' class='xr-section-summary-in' type='checkbox'  ><label for='section-758d4bce-80f0-472e-9a07-697237c53e01' class='xr-section-summary' >Indexes: <span>(4)</span></label><div class='xr-section-inline-details'></div><div class='xr-section-details'><ul class='xr-var-list'><li class='xr-var-item'><div class='xr-index-name'><div>layer</div></div><div class='xr-index-preview'>PandasIndex</div><input type='checkbox' disabled/><label></label><input id='index-bef51427-32e9-4d26-91ae-6cf7d36169d8' class='xr-index-data-in' type='checkbox'/><label for='index-bef51427-32e9-4d26-91ae-6cf7d36169d8' title='Show/Hide index repr'><svg class='icon xr-icon-database'><use xlink:href='#icon-database'></use></svg></label><div class='xr-index-data'><pre>PandasIndex(Index([0], dtype=&#x27;int64&#x27;, name=&#x27;layer&#x27;))</pre></div></li><li class='xr-var-item'><div class='xr-index-name'><div>time</div></div><div class='xr-index-preview'>PandasIndex</div><input type='checkbox' disabled/><label></label><input id='index-0c3cae10-b313-4444-b745-9c4fdb26c26a' class='xr-index-data-in' type='checkbox'/><label for='index-0c3cae10-b313-4444-b745-9c4fdb26c26a' title='Show/Hide index repr'><svg class='icon xr-icon-database'><use xlink:href='#icon-database'></use></svg></label><div class='xr-index-data'><pre>PandasIndex(DatetimeIndex([&#x27;2006-01-31&#x27;, &#x27;2006-02-28&#x27;, &#x27;2006-03-31&#x27;, &#x27;2006-04-30&#x27;,\n",
       "               &#x27;2006-05-31&#x27;, &#x27;2006-06-30&#x27;, &#x27;2006-07-31&#x27;, &#x27;2006-08-31&#x27;,\n",
       "               &#x27;2006-09-30&#x27;, &#x27;2006-10-31&#x27;, &#x27;2006-11-30&#x27;, &#x27;2006-12-31&#x27;,\n",
       "               &#x27;2007-01-31&#x27;, &#x27;2007-02-28&#x27;, &#x27;2007-03-31&#x27;, &#x27;2007-04-30&#x27;,\n",
       "               &#x27;2007-05-31&#x27;, &#x27;2007-06-30&#x27;, &#x27;2007-07-31&#x27;, &#x27;2007-08-31&#x27;,\n",
       "               &#x27;2007-09-30&#x27;, &#x27;2007-10-31&#x27;, &#x27;2007-11-30&#x27;, &#x27;2007-12-31&#x27;],\n",
       "              dtype=&#x27;datetime64[ns]&#x27;, name=&#x27;time&#x27;, freq=&#x27;ME&#x27;))</pre></div></li><li class='xr-var-item'><div class='xr-index-name'><div>latitude</div></div><div class='xr-index-preview'>PandasIndex</div><input type='checkbox' disabled/><label></label><input id='index-ded85d56-8e00-4a3c-a1c5-bbb5953d5600' class='xr-index-data-in' type='checkbox'/><label for='index-ded85d56-8e00-4a3c-a1c5-bbb5953d5600' title='Show/Hide index repr'><svg class='icon xr-icon-database'><use xlink:href='#icon-database'></use></svg></label><div class='xr-index-data'><pre>PandasIndex(Index([22.75], dtype=&#x27;float64&#x27;, name=&#x27;latitude&#x27;))</pre></div></li><li class='xr-var-item'><div class='xr-index-name'><div>longitude</div></div><div class='xr-index-preview'>PandasIndex</div><input type='checkbox' disabled/><label></label><input id='index-4ba7ffa3-c173-43bc-a74a-71eaadc1f845' class='xr-index-data-in' type='checkbox'/><label for='index-4ba7ffa3-c173-43bc-a74a-71eaadc1f845' title='Show/Hide index repr'><svg class='icon xr-icon-database'><use xlink:href='#icon-database'></use></svg></label><div class='xr-index-data'><pre>PandasIndex(Index([-158], dtype=&#x27;int64&#x27;, name=&#x27;longitude&#x27;))</pre></div></li></ul></div></li><li class='xr-section-item'><input id='section-c482c1e6-2520-4e8e-9137-809da0540652' class='xr-section-summary-in' type='checkbox' disabled ><label for='section-c482c1e6-2520-4e8e-9137-809da0540652' class='xr-section-summary'  title='Expand/collapse section'>Attributes: <span>(0)</span></label><div class='xr-section-inline-details'></div><div class='xr-section-details'><dl class='xr-attrs'></dl></div></li></ul></div></div>"
      ],
      "text/plain": [
       "<xarray.Dataset> Size: 600B\n",
       "Dimensions:    (layer: 1, time: 24, latitude: 1, longitude: 1)\n",
       "Coordinates:\n",
       "  * layer      (layer) int64 8B 0\n",
       "  * time       (time) datetime64[ns] 192B 2006-01-31 2006-02-28 ... 2007-12-31\n",
       "  * latitude   (latitude) float64 8B 22.75\n",
       "  * longitude  (longitude) int64 8B -158\n",
       "Data variables:\n",
       "    day        (time, layer, latitude, longitude) float64 192B [mg/m²] 157.9 ...\n",
       "    night      (time, layer, latitude, longitude) float64 192B [mg/m²] 237.1 ..."
      ]
     },
     "execution_count": 8,
     "metadata": {},
     "output_type": "execute_result"
    }
   ],
   "source": [
    "observations = observations.isel(time=slice(STABILIZATION_TIME, None))\n",
    "observations"
   ]
  },
  {
   "cell_type": "code",
   "execution_count": 9,
   "metadata": {},
   "outputs": [],
   "source": [
    "# observations_selected = observations[[\"day_lowess_0.2\", \"night_lowess_0.2\"]].rename(\n",
    "#     {\"day_lowess_0.2\": \"day\", \"night_lowess_0.2\": \"night\"}\n",
    "# )\n",
    "\n",
    "obs_night = observations[\"night\"]\n",
    "obs_day = observations[\"day\"]"
   ]
  },
  {
   "cell_type": "markdown",
   "metadata": {},
   "source": [
    "Remove the X first months to let the model reach the stationary state.\n"
   ]
  },
  {
   "cell_type": "markdown",
   "metadata": {},
   "source": [
    "Create structure for SeapoPym simulation.\n"
   ]
  },
  {
   "cell_type": "code",
   "execution_count": 10,
   "metadata": {},
   "outputs": [
    {
     "name": "stderr",
     "output_type": "stream",
     "text": [
      "\u001b[38;5;226m2025-06-11 11:42:56,307 :: Seapodym ::  WARNING ::\n",
      "|\tl12 unit is milligram / day / meter ** 2, it will be converted to kilogram / day / meter ** 2.\n",
      "\u001b[0m\n",
      "\u001b[38;5;226m2025-06-11 11:42:56,308 :: Seapodym ::  WARNING ::\n",
      "|\tl12 unit is milligram / day / meter ** 2, it will be converted to kilogram / day / meter ** 2.\n",
      "\u001b[0m\n"
     ]
    }
   ],
   "source": [
    "forcing_parameters = ForcingParameter(\n",
    "    temperature=ForcingUnit(forcing=forcing[\"T\"]), primary_production=ForcingUnit(forcing=observed_npp[\"l12\"])\n",
    ")"
   ]
  },
  {
   "cell_type": "markdown",
   "metadata": {},
   "source": [
    "## Setup the parameters and the cost function\n"
   ]
  },
  {
   "cell_type": "code",
   "execution_count": null,
   "metadata": {},
   "outputs": [],
   "source": [
    "functional_groups = [\n",
    "    NoTransportFunctionalGroup(\n",
    "        name=\"D1N1\",\n",
    "        day_layer=0,\n",
    "        night_layer=0,\n",
    "        energy_transfert=Parameter(\"D1N1_energy_transfert\", 0.0001, 0.5),\n",
    "        gamma_tr=Parameter(\"D1N1_gamma_tr\", -0.5, -0.0001),\n",
    "        tr_0=Parameter(\"D1N1_tr_0\", 0, 50),\n",
    "        gamma_lambda_temperature=Parameter(\"D1N1_gamma_lambda_temperature\", 0, 0.5),\n",
    "        lambda_temperature_0=Parameter(\"D1N1_lambda_temperature_0\", 1 / 500, 1),\n",
    "    ),\n",
    "    NoTransportFunctionalGroup(\n",
    "        name=\"D2N1\",\n",
    "        day_layer=1,\n",
    "        night_layer=0,\n",
    "        energy_transfert=Parameter(\"D2N1_energy_transfert\", 0.0001, 0.5),\n",
    "        gamma_tr=Parameter(\"D2N1_gamma_tr\", -0.5, -0.0001),\n",
    "        tr_0=Parameter(\"D2N1_tr_0\", 0, 50),\n",
    "        gamma_lambda_temperature=Parameter(\"D2N1_gamma_lambda_temperature\", 0, 0.5),\n",
    "        lambda_temperature_0=Parameter(\"D2N1_lambda_temperature_0\", 1 / 500, 1),\n",
    "    ),\n",
    "]"
   ]
  },
  {
   "cell_type": "code",
   "execution_count": 12,
   "metadata": {},
   "outputs": [],
   "source": [
    "model_generator = NoTransportModelGenerator(forcing_parameters=forcing_parameters)"
   ]
  },
  {
   "cell_type": "code",
   "execution_count": 13,
   "metadata": {},
   "outputs": [],
   "source": [
    "cost_function = SimpleRootMeanSquareErrorCostFunction(\n",
    "    model_generator=model_generator,\n",
    "    observations=[\n",
    "        TimeSeriesObservation(\n",
    "            name=\"Hot climato day\",\n",
    "            observation=obs_day,\n",
    "            observation_type=DayCycle.DAY,\n",
    "            observation_interval=\"1MS\",\n",
    "        ),\n",
    "        TimeSeriesObservation(\n",
    "            name=\"Hot climato night\",\n",
    "            observation=obs_night,\n",
    "            observation_type=DayCycle.NIGHT,\n",
    "            observation_interval=\"1MS\",\n",
    "        ),\n",
    "    ],\n",
    "    functional_groups=functional_groups,\n",
    "    root_mse=True,\n",
    "    normalized_mse=True,\n",
    "    centered_mse=False,\n",
    ")"
   ]
  },
  {
   "cell_type": "markdown",
   "metadata": {},
   "source": [
    "Set the genetic algorithm meta parameters.\n"
   ]
  },
  {
   "cell_type": "code",
   "execution_count": 14,
   "metadata": {},
   "outputs": [],
   "source": [
    "genetic_algo_parameters = SimpleGeneticAlgorithmParameters(\n",
    "    MUTPB=0.30,\n",
    "    INDPB=0.2,\n",
    "    ETA=5,\n",
    "    CXPB=0.7,\n",
    "    NGEN=5,\n",
    "    POP_SIZE=500,\n",
    "    cost_function_weight=(-1, -1),\n",
    ")"
   ]
  },
  {
   "cell_type": "markdown",
   "metadata": {},
   "source": [
    "Import or create the parameters to be optimized.\n"
   ]
  },
  {
   "cell_type": "code",
   "execution_count": 15,
   "metadata": {},
   "outputs": [
    {
     "data": {
      "text/html": [
       "<div>\n",
       "<style scoped>\n",
       "    .dataframe tbody tr th:only-of-type {\n",
       "        vertical-align: middle;\n",
       "    }\n",
       "\n",
       "    .dataframe tbody tr th {\n",
       "        vertical-align: top;\n",
       "    }\n",
       "\n",
       "    .dataframe thead tr th {\n",
       "        text-align: left;\n",
       "    }\n",
       "\n",
       "    .dataframe thead tr:last-of-type th {\n",
       "        text-align: right;\n",
       "    }\n",
       "</style>\n",
       "<table border=\"1\" class=\"dataframe\">\n",
       "  <thead>\n",
       "    <tr>\n",
       "      <th></th>\n",
       "      <th></th>\n",
       "      <th>category</th>\n",
       "      <th colspan=\"10\" halign=\"left\">Parametre</th>\n",
       "      <th>Fitness</th>\n",
       "      <th>Weighted_fitness</th>\n",
       "    </tr>\n",
       "    <tr>\n",
       "      <th></th>\n",
       "      <th></th>\n",
       "      <th>name</th>\n",
       "      <th>D1N1_energy_transfert</th>\n",
       "      <th>D1N1_lambda_temperature_0</th>\n",
       "      <th>D1N1_gamma_lambda_temperature</th>\n",
       "      <th>D1N1_tr_0</th>\n",
       "      <th>D1N1_gamma_tr</th>\n",
       "      <th>D2N1_energy_transfert</th>\n",
       "      <th>D2N1_lambda_temperature_0</th>\n",
       "      <th>D2N1_gamma_lambda_temperature</th>\n",
       "      <th>D2N1_tr_0</th>\n",
       "      <th>D2N1_gamma_tr</th>\n",
       "      <th>Hot climato</th>\n",
       "      <th>Weighted_fitness</th>\n",
       "    </tr>\n",
       "    <tr>\n",
       "      <th>Generation</th>\n",
       "      <th>Is_From_Previous_Generation</th>\n",
       "      <th>Individual</th>\n",
       "      <th></th>\n",
       "      <th></th>\n",
       "      <th></th>\n",
       "      <th></th>\n",
       "      <th></th>\n",
       "      <th></th>\n",
       "      <th></th>\n",
       "      <th></th>\n",
       "      <th></th>\n",
       "      <th></th>\n",
       "      <th></th>\n",
       "      <th></th>\n",
       "    </tr>\n",
       "  </thead>\n",
       "  <tbody>\n",
       "    <tr>\n",
       "      <th rowspan=\"11\" valign=\"top\">0</th>\n",
       "      <th rowspan=\"11\" valign=\"top\">False</th>\n",
       "      <th>0</th>\n",
       "      <td>0.464522</td>\n",
       "      <td>0.458520</td>\n",
       "      <td>0.441978</td>\n",
       "      <td>34.167544</td>\n",
       "      <td>-0.450900</td>\n",
       "      <td>0.263915</td>\n",
       "      <td>0.072253</td>\n",
       "      <td>0.460628</td>\n",
       "      <td>27.800891</td>\n",
       "      <td>-0.337027</td>\n",
       "      <td>NaN</td>\n",
       "      <td>NaN</td>\n",
       "    </tr>\n",
       "    <tr>\n",
       "      <th>1</th>\n",
       "      <td>0.262625</td>\n",
       "      <td>0.458520</td>\n",
       "      <td>0.441978</td>\n",
       "      <td>34.167544</td>\n",
       "      <td>-0.450900</td>\n",
       "      <td>0.263915</td>\n",
       "      <td>0.072253</td>\n",
       "      <td>0.460628</td>\n",
       "      <td>27.800891</td>\n",
       "      <td>-0.337027</td>\n",
       "      <td>NaN</td>\n",
       "      <td>NaN</td>\n",
       "    </tr>\n",
       "    <tr>\n",
       "      <th>2</th>\n",
       "      <td>0.464522</td>\n",
       "      <td>0.503978</td>\n",
       "      <td>0.441978</td>\n",
       "      <td>34.167544</td>\n",
       "      <td>-0.450900</td>\n",
       "      <td>0.263915</td>\n",
       "      <td>0.072253</td>\n",
       "      <td>0.460628</td>\n",
       "      <td>27.800891</td>\n",
       "      <td>-0.337027</td>\n",
       "      <td>NaN</td>\n",
       "      <td>NaN</td>\n",
       "    </tr>\n",
       "    <tr>\n",
       "      <th>3</th>\n",
       "      <td>0.464522</td>\n",
       "      <td>0.458520</td>\n",
       "      <td>0.236121</td>\n",
       "      <td>34.167544</td>\n",
       "      <td>-0.450900</td>\n",
       "      <td>0.263915</td>\n",
       "      <td>0.072253</td>\n",
       "      <td>0.460628</td>\n",
       "      <td>27.800891</td>\n",
       "      <td>-0.337027</td>\n",
       "      <td>NaN</td>\n",
       "      <td>NaN</td>\n",
       "    </tr>\n",
       "    <tr>\n",
       "      <th>4</th>\n",
       "      <td>0.464522</td>\n",
       "      <td>0.458520</td>\n",
       "      <td>0.441978</td>\n",
       "      <td>0.797080</td>\n",
       "      <td>-0.450900</td>\n",
       "      <td>0.263915</td>\n",
       "      <td>0.072253</td>\n",
       "      <td>0.460628</td>\n",
       "      <td>27.800891</td>\n",
       "      <td>-0.337027</td>\n",
       "      <td>NaN</td>\n",
       "      <td>NaN</td>\n",
       "    </tr>\n",
       "    <tr>\n",
       "      <th>...</th>\n",
       "      <td>...</td>\n",
       "      <td>...</td>\n",
       "      <td>...</td>\n",
       "      <td>...</td>\n",
       "      <td>...</td>\n",
       "      <td>...</td>\n",
       "      <td>...</td>\n",
       "      <td>...</td>\n",
       "      <td>...</td>\n",
       "      <td>...</td>\n",
       "      <td>...</td>\n",
       "      <td>...</td>\n",
       "    </tr>\n",
       "    <tr>\n",
       "      <th>3067</th>\n",
       "      <td>0.461432</td>\n",
       "      <td>0.572998</td>\n",
       "      <td>0.220145</td>\n",
       "      <td>7.565630</td>\n",
       "      <td>-0.025719</td>\n",
       "      <td>0.213456</td>\n",
       "      <td>0.481368</td>\n",
       "      <td>0.433854</td>\n",
       "      <td>43.398306</td>\n",
       "      <td>-0.391393</td>\n",
       "      <td>NaN</td>\n",
       "      <td>NaN</td>\n",
       "    </tr>\n",
       "    <tr>\n",
       "      <th>3068</th>\n",
       "      <td>0.461432</td>\n",
       "      <td>0.572998</td>\n",
       "      <td>0.220145</td>\n",
       "      <td>7.565630</td>\n",
       "      <td>-0.025719</td>\n",
       "      <td>0.213456</td>\n",
       "      <td>0.588029</td>\n",
       "      <td>0.293856</td>\n",
       "      <td>43.398306</td>\n",
       "      <td>-0.391393</td>\n",
       "      <td>NaN</td>\n",
       "      <td>NaN</td>\n",
       "    </tr>\n",
       "    <tr>\n",
       "      <th>3069</th>\n",
       "      <td>0.461432</td>\n",
       "      <td>0.572998</td>\n",
       "      <td>0.220145</td>\n",
       "      <td>7.565630</td>\n",
       "      <td>-0.025719</td>\n",
       "      <td>0.213456</td>\n",
       "      <td>0.588029</td>\n",
       "      <td>0.433854</td>\n",
       "      <td>34.198776</td>\n",
       "      <td>-0.391393</td>\n",
       "      <td>NaN</td>\n",
       "      <td>NaN</td>\n",
       "    </tr>\n",
       "    <tr>\n",
       "      <th>3070</th>\n",
       "      <td>0.461432</td>\n",
       "      <td>0.572998</td>\n",
       "      <td>0.220145</td>\n",
       "      <td>7.565630</td>\n",
       "      <td>-0.025719</td>\n",
       "      <td>0.213456</td>\n",
       "      <td>0.588029</td>\n",
       "      <td>0.433854</td>\n",
       "      <td>43.398306</td>\n",
       "      <td>-0.148357</td>\n",
       "      <td>NaN</td>\n",
       "      <td>NaN</td>\n",
       "    </tr>\n",
       "    <tr>\n",
       "      <th>3071</th>\n",
       "      <td>0.321242</td>\n",
       "      <td>0.744901</td>\n",
       "      <td>0.150302</td>\n",
       "      <td>26.137570</td>\n",
       "      <td>-0.447052</td>\n",
       "      <td>0.285665</td>\n",
       "      <td>0.481368</td>\n",
       "      <td>0.293856</td>\n",
       "      <td>34.198776</td>\n",
       "      <td>-0.148357</td>\n",
       "      <td>NaN</td>\n",
       "      <td>NaN</td>\n",
       "    </tr>\n",
       "  </tbody>\n",
       "</table>\n",
       "<p>3072 rows × 12 columns</p>\n",
       "</div>"
      ],
      "text/plain": [
       "category                                                      Parametre  \\\n",
       "name                                              D1N1_energy_transfert   \n",
       "Generation Is_From_Previous_Generation Individual                         \n",
       "0          False                       0                       0.464522   \n",
       "                                       1                       0.262625   \n",
       "                                       2                       0.464522   \n",
       "                                       3                       0.464522   \n",
       "                                       4                       0.464522   \n",
       "...                                                                 ...   \n",
       "                                       3067                    0.461432   \n",
       "                                       3068                    0.461432   \n",
       "                                       3069                    0.461432   \n",
       "                                       3070                    0.461432   \n",
       "                                       3071                    0.321242   \n",
       "\n",
       "category                                                                     \\\n",
       "name                                              D1N1_lambda_temperature_0   \n",
       "Generation Is_From_Previous_Generation Individual                             \n",
       "0          False                       0                           0.458520   \n",
       "                                       1                           0.458520   \n",
       "                                       2                           0.503978   \n",
       "                                       3                           0.458520   \n",
       "                                       4                           0.458520   \n",
       "...                                                                     ...   \n",
       "                                       3067                        0.572998   \n",
       "                                       3068                        0.572998   \n",
       "                                       3069                        0.572998   \n",
       "                                       3070                        0.572998   \n",
       "                                       3071                        0.744901   \n",
       "\n",
       "category                                                                         \\\n",
       "name                                              D1N1_gamma_lambda_temperature   \n",
       "Generation Is_From_Previous_Generation Individual                                 \n",
       "0          False                       0                               0.441978   \n",
       "                                       1                               0.441978   \n",
       "                                       2                               0.441978   \n",
       "                                       3                               0.236121   \n",
       "                                       4                               0.441978   \n",
       "...                                                                         ...   \n",
       "                                       3067                            0.220145   \n",
       "                                       3068                            0.220145   \n",
       "                                       3069                            0.220145   \n",
       "                                       3070                            0.220145   \n",
       "                                       3071                            0.150302   \n",
       "\n",
       "category                                                                    \\\n",
       "name                                               D1N1_tr_0 D1N1_gamma_tr   \n",
       "Generation Is_From_Previous_Generation Individual                            \n",
       "0          False                       0           34.167544     -0.450900   \n",
       "                                       1           34.167544     -0.450900   \n",
       "                                       2           34.167544     -0.450900   \n",
       "                                       3           34.167544     -0.450900   \n",
       "                                       4            0.797080     -0.450900   \n",
       "...                                                      ...           ...   \n",
       "                                       3067         7.565630     -0.025719   \n",
       "                                       3068         7.565630     -0.025719   \n",
       "                                       3069         7.565630     -0.025719   \n",
       "                                       3070         7.565630     -0.025719   \n",
       "                                       3071        26.137570     -0.447052   \n",
       "\n",
       "category                                                                 \\\n",
       "name                                              D2N1_energy_transfert   \n",
       "Generation Is_From_Previous_Generation Individual                         \n",
       "0          False                       0                       0.263915   \n",
       "                                       1                       0.263915   \n",
       "                                       2                       0.263915   \n",
       "                                       3                       0.263915   \n",
       "                                       4                       0.263915   \n",
       "...                                                                 ...   \n",
       "                                       3067                    0.213456   \n",
       "                                       3068                    0.213456   \n",
       "                                       3069                    0.213456   \n",
       "                                       3070                    0.213456   \n",
       "                                       3071                    0.285665   \n",
       "\n",
       "category                                                                     \\\n",
       "name                                              D2N1_lambda_temperature_0   \n",
       "Generation Is_From_Previous_Generation Individual                             \n",
       "0          False                       0                           0.072253   \n",
       "                                       1                           0.072253   \n",
       "                                       2                           0.072253   \n",
       "                                       3                           0.072253   \n",
       "                                       4                           0.072253   \n",
       "...                                                                     ...   \n",
       "                                       3067                        0.481368   \n",
       "                                       3068                        0.588029   \n",
       "                                       3069                        0.588029   \n",
       "                                       3070                        0.588029   \n",
       "                                       3071                        0.481368   \n",
       "\n",
       "category                                                                         \\\n",
       "name                                              D2N1_gamma_lambda_temperature   \n",
       "Generation Is_From_Previous_Generation Individual                                 \n",
       "0          False                       0                               0.460628   \n",
       "                                       1                               0.460628   \n",
       "                                       2                               0.460628   \n",
       "                                       3                               0.460628   \n",
       "                                       4                               0.460628   \n",
       "...                                                                         ...   \n",
       "                                       3067                            0.433854   \n",
       "                                       3068                            0.293856   \n",
       "                                       3069                            0.433854   \n",
       "                                       3070                            0.433854   \n",
       "                                       3071                            0.293856   \n",
       "\n",
       "category                                                                    \\\n",
       "name                                               D2N1_tr_0 D2N1_gamma_tr   \n",
       "Generation Is_From_Previous_Generation Individual                            \n",
       "0          False                       0           27.800891     -0.337027   \n",
       "                                       1           27.800891     -0.337027   \n",
       "                                       2           27.800891     -0.337027   \n",
       "                                       3           27.800891     -0.337027   \n",
       "                                       4           27.800891     -0.337027   \n",
       "...                                                      ...           ...   \n",
       "                                       3067        43.398306     -0.391393   \n",
       "                                       3068        43.398306     -0.391393   \n",
       "                                       3069        34.198776     -0.391393   \n",
       "                                       3070        43.398306     -0.148357   \n",
       "                                       3071        34.198776     -0.148357   \n",
       "\n",
       "category                                              Fitness Weighted_fitness  \n",
       "name                                              Hot climato Weighted_fitness  \n",
       "Generation Is_From_Previous_Generation Individual                               \n",
       "0          False                       0                  NaN              NaN  \n",
       "                                       1                  NaN              NaN  \n",
       "                                       2                  NaN              NaN  \n",
       "                                       3                  NaN              NaN  \n",
       "                                       4                  NaN              NaN  \n",
       "...                                                       ...              ...  \n",
       "                                       3067               NaN              NaN  \n",
       "                                       3068               NaN              NaN  \n",
       "                                       3069               NaN              NaN  \n",
       "                                       3070               NaN              NaN  \n",
       "                                       3071               NaN              NaN  \n",
       "\n",
       "[3072 rows x 12 columns]"
      ]
     },
     "execution_count": 15,
     "metadata": {},
     "output_type": "execute_result"
    }
   ],
   "source": [
    "from seapopym_optimization.genetic_algorithm.simple_logbook import generate_logbook_with_sobol_sampling\n",
    "\n",
    "\n",
    "logbook_path = Path(f\"./{export_file_name}_logbook.parquet\")\n",
    "if logbook_path.exists():\n",
    "    logbook = pd.read_parquet(logbook_path)\n",
    "else:\n",
    "    logbook = generate_logbook_with_sobol_sampling(\n",
    "        functional_group_parameters=functional_groups, sample_number=256, fitness_name=[\"Hot climato\"]\n",
    "    )\n",
    "logbook"
   ]
  },
  {
   "cell_type": "markdown",
   "metadata": {},
   "source": [
    "Finaly, create the Genetic Algorithm.\n"
   ]
  },
  {
   "cell_type": "code",
   "execution_count": 16,
   "metadata": {},
   "outputs": [
    {
     "name": "stderr",
     "output_type": "stream",
     "text": [
      "/Users/adm-lehodey/Documents/Workspace/Projects/Seapopym-optimisation/.venv/lib/python3.13/site-packages/distributed/node.py:187: UserWarning: Port 8787 is already in use.\n",
      "Perhaps you already have a cluster running?\n",
      "Hosting the HTTP server on port 63223 instead\n",
      "  warnings.warn(\n"
     ]
    }
   ],
   "source": [
    "client = Client()\n",
    "genetic_algo = SimpleGeneticAlgorithm(\n",
    "    meta_parameter=genetic_algo_parameters,\n",
    "    cost_function=cost_function,\n",
    "    client=client,\n",
    "    logbook=logbook,\n",
    "    save=logbook_path,\n",
    ")"
   ]
  },
  {
   "cell_type": "markdown",
   "metadata": {},
   "source": [
    "And watch the magic on the Dask dashboard :\n"
   ]
  },
  {
   "cell_type": "code",
   "execution_count": 17,
   "metadata": {},
   "outputs": [
    {
     "data": {
      "text/html": [
       "<div>\n",
       "    <div style=\"width: 24px; height: 24px; background-color: #e1e1e1; border: 3px solid #9D9D9D; border-radius: 5px; position: absolute;\"> </div>\n",
       "    <div style=\"margin-left: 48px;\">\n",
       "        <h3 style=\"margin-bottom: 0px;\">Client</h3>\n",
       "        <p style=\"color: #9D9D9D; margin-bottom: 0px;\">Client-74277036-46a8-11f0-8f50-36240d3e2cc4</p>\n",
       "        <table style=\"width: 100%; text-align: left;\">\n",
       "\n",
       "        <tr>\n",
       "        \n",
       "            <td style=\"text-align: left;\"><strong>Connection method:</strong> Cluster object</td>\n",
       "            <td style=\"text-align: left;\"><strong>Cluster type:</strong> distributed.LocalCluster</td>\n",
       "        \n",
       "        </tr>\n",
       "\n",
       "        \n",
       "            <tr>\n",
       "                <td style=\"text-align: left;\">\n",
       "                    <strong>Dashboard: </strong> <a href=\"http://127.0.0.1:63223/status\" target=\"_blank\">http://127.0.0.1:63223/status</a>\n",
       "                </td>\n",
       "                <td style=\"text-align: left;\"></td>\n",
       "            </tr>\n",
       "        \n",
       "\n",
       "        </table>\n",
       "\n",
       "        \n",
       "\n",
       "        \n",
       "            <details>\n",
       "            <summary style=\"margin-bottom: 20px;\"><h3 style=\"display: inline;\">Cluster Info</h3></summary>\n",
       "            <div class=\"jp-RenderedHTMLCommon jp-RenderedHTML jp-mod-trusted jp-OutputArea-output\">\n",
       "    <div style=\"width: 24px; height: 24px; background-color: #e1e1e1; border: 3px solid #9D9D9D; border-radius: 5px; position: absolute;\">\n",
       "    </div>\n",
       "    <div style=\"margin-left: 48px;\">\n",
       "        <h3 style=\"margin-bottom: 0px; margin-top: 0px;\">LocalCluster</h3>\n",
       "        <p style=\"color: #9D9D9D; margin-bottom: 0px;\">c4d281da</p>\n",
       "        <table style=\"width: 100%; text-align: left;\">\n",
       "            <tr>\n",
       "                <td style=\"text-align: left;\">\n",
       "                    <strong>Dashboard:</strong> <a href=\"http://127.0.0.1:63223/status\" target=\"_blank\">http://127.0.0.1:63223/status</a>\n",
       "                </td>\n",
       "                <td style=\"text-align: left;\">\n",
       "                    <strong>Workers:</strong> 4\n",
       "                </td>\n",
       "            </tr>\n",
       "            <tr>\n",
       "                <td style=\"text-align: left;\">\n",
       "                    <strong>Total threads:</strong> 12\n",
       "                </td>\n",
       "                <td style=\"text-align: left;\">\n",
       "                    <strong>Total memory:</strong> 48.00 GiB\n",
       "                </td>\n",
       "            </tr>\n",
       "            \n",
       "            <tr>\n",
       "    <td style=\"text-align: left;\"><strong>Status:</strong> running</td>\n",
       "    <td style=\"text-align: left;\"><strong>Using processes:</strong> True</td>\n",
       "</tr>\n",
       "\n",
       "            \n",
       "        </table>\n",
       "\n",
       "        <details>\n",
       "            <summary style=\"margin-bottom: 20px;\">\n",
       "                <h3 style=\"display: inline;\">Scheduler Info</h3>\n",
       "            </summary>\n",
       "\n",
       "            <div style=\"\">\n",
       "    <div>\n",
       "        <div style=\"width: 24px; height: 24px; background-color: #FFF7E5; border: 3px solid #FF6132; border-radius: 5px; position: absolute;\"> </div>\n",
       "        <div style=\"margin-left: 48px;\">\n",
       "            <h3 style=\"margin-bottom: 0px;\">Scheduler</h3>\n",
       "            <p style=\"color: #9D9D9D; margin-bottom: 0px;\">Scheduler-904f5b7f-6d64-499a-8378-09f84a6f5c7c</p>\n",
       "            <table style=\"width: 100%; text-align: left;\">\n",
       "                <tr>\n",
       "                    <td style=\"text-align: left;\">\n",
       "                        <strong>Comm:</strong> tcp://127.0.0.1:63224\n",
       "                    </td>\n",
       "                    <td style=\"text-align: left;\">\n",
       "                        <strong>Workers:</strong> 0 \n",
       "                    </td>\n",
       "                </tr>\n",
       "                <tr>\n",
       "                    <td style=\"text-align: left;\">\n",
       "                        <strong>Dashboard:</strong> <a href=\"http://127.0.0.1:63223/status\" target=\"_blank\">http://127.0.0.1:63223/status</a>\n",
       "                    </td>\n",
       "                    <td style=\"text-align: left;\">\n",
       "                        <strong>Total threads:</strong> 0\n",
       "                    </td>\n",
       "                </tr>\n",
       "                <tr>\n",
       "                    <td style=\"text-align: left;\">\n",
       "                        <strong>Started:</strong> Just now\n",
       "                    </td>\n",
       "                    <td style=\"text-align: left;\">\n",
       "                        <strong>Total memory:</strong> 0 B\n",
       "                    </td>\n",
       "                </tr>\n",
       "            </table>\n",
       "        </div>\n",
       "    </div>\n",
       "\n",
       "    <details style=\"margin-left: 48px;\">\n",
       "        <summary style=\"margin-bottom: 20px;\">\n",
       "            <h3 style=\"display: inline;\">Workers</h3>\n",
       "        </summary>\n",
       "\n",
       "        \n",
       "        <div style=\"margin-bottom: 20px;\">\n",
       "            <div style=\"width: 24px; height: 24px; background-color: #DBF5FF; border: 3px solid #4CC9FF; border-radius: 5px; position: absolute;\"> </div>\n",
       "            <div style=\"margin-left: 48px;\">\n",
       "            <details>\n",
       "                <summary>\n",
       "                    <h4 style=\"margin-bottom: 0px; display: inline;\">Worker: 0</h4>\n",
       "                </summary>\n",
       "                <table style=\"width: 100%; text-align: left;\">\n",
       "                    <tr>\n",
       "                        <td style=\"text-align: left;\">\n",
       "                            <strong>Comm: </strong> tcp://127.0.0.1:63238\n",
       "                        </td>\n",
       "                        <td style=\"text-align: left;\">\n",
       "                            <strong>Total threads: </strong> 3\n",
       "                        </td>\n",
       "                    </tr>\n",
       "                    <tr>\n",
       "                        <td style=\"text-align: left;\">\n",
       "                            <strong>Dashboard: </strong> <a href=\"http://127.0.0.1:63242/status\" target=\"_blank\">http://127.0.0.1:63242/status</a>\n",
       "                        </td>\n",
       "                        <td style=\"text-align: left;\">\n",
       "                            <strong>Memory: </strong> 12.00 GiB\n",
       "                        </td>\n",
       "                    </tr>\n",
       "                    <tr>\n",
       "                        <td style=\"text-align: left;\">\n",
       "                            <strong>Nanny: </strong> tcp://127.0.0.1:63227\n",
       "                        </td>\n",
       "                        <td style=\"text-align: left;\"></td>\n",
       "                    </tr>\n",
       "                    <tr>\n",
       "                        <td colspan=\"2\" style=\"text-align: left;\">\n",
       "                            <strong>Local directory: </strong> /var/folders/z_/8j3qx1mn0299kkpjgz9g53780000gq/T/dask-scratch-space/worker-uc_uht50\n",
       "                        </td>\n",
       "                    </tr>\n",
       "\n",
       "                    \n",
       "\n",
       "                    \n",
       "\n",
       "                </table>\n",
       "            </details>\n",
       "            </div>\n",
       "        </div>\n",
       "        \n",
       "        <div style=\"margin-bottom: 20px;\">\n",
       "            <div style=\"width: 24px; height: 24px; background-color: #DBF5FF; border: 3px solid #4CC9FF; border-radius: 5px; position: absolute;\"> </div>\n",
       "            <div style=\"margin-left: 48px;\">\n",
       "            <details>\n",
       "                <summary>\n",
       "                    <h4 style=\"margin-bottom: 0px; display: inline;\">Worker: 1</h4>\n",
       "                </summary>\n",
       "                <table style=\"width: 100%; text-align: left;\">\n",
       "                    <tr>\n",
       "                        <td style=\"text-align: left;\">\n",
       "                            <strong>Comm: </strong> tcp://127.0.0.1:63237\n",
       "                        </td>\n",
       "                        <td style=\"text-align: left;\">\n",
       "                            <strong>Total threads: </strong> 3\n",
       "                        </td>\n",
       "                    </tr>\n",
       "                    <tr>\n",
       "                        <td style=\"text-align: left;\">\n",
       "                            <strong>Dashboard: </strong> <a href=\"http://127.0.0.1:63241/status\" target=\"_blank\">http://127.0.0.1:63241/status</a>\n",
       "                        </td>\n",
       "                        <td style=\"text-align: left;\">\n",
       "                            <strong>Memory: </strong> 12.00 GiB\n",
       "                        </td>\n",
       "                    </tr>\n",
       "                    <tr>\n",
       "                        <td style=\"text-align: left;\">\n",
       "                            <strong>Nanny: </strong> tcp://127.0.0.1:63229\n",
       "                        </td>\n",
       "                        <td style=\"text-align: left;\"></td>\n",
       "                    </tr>\n",
       "                    <tr>\n",
       "                        <td colspan=\"2\" style=\"text-align: left;\">\n",
       "                            <strong>Local directory: </strong> /var/folders/z_/8j3qx1mn0299kkpjgz9g53780000gq/T/dask-scratch-space/worker-njy2yu77\n",
       "                        </td>\n",
       "                    </tr>\n",
       "\n",
       "                    \n",
       "\n",
       "                    \n",
       "\n",
       "                </table>\n",
       "            </details>\n",
       "            </div>\n",
       "        </div>\n",
       "        \n",
       "        <div style=\"margin-bottom: 20px;\">\n",
       "            <div style=\"width: 24px; height: 24px; background-color: #DBF5FF; border: 3px solid #4CC9FF; border-radius: 5px; position: absolute;\"> </div>\n",
       "            <div style=\"margin-left: 48px;\">\n",
       "            <details>\n",
       "                <summary>\n",
       "                    <h4 style=\"margin-bottom: 0px; display: inline;\">Worker: 2</h4>\n",
       "                </summary>\n",
       "                <table style=\"width: 100%; text-align: left;\">\n",
       "                    <tr>\n",
       "                        <td style=\"text-align: left;\">\n",
       "                            <strong>Comm: </strong> tcp://127.0.0.1:63235\n",
       "                        </td>\n",
       "                        <td style=\"text-align: left;\">\n",
       "                            <strong>Total threads: </strong> 3\n",
       "                        </td>\n",
       "                    </tr>\n",
       "                    <tr>\n",
       "                        <td style=\"text-align: left;\">\n",
       "                            <strong>Dashboard: </strong> <a href=\"http://127.0.0.1:63240/status\" target=\"_blank\">http://127.0.0.1:63240/status</a>\n",
       "                        </td>\n",
       "                        <td style=\"text-align: left;\">\n",
       "                            <strong>Memory: </strong> 12.00 GiB\n",
       "                        </td>\n",
       "                    </tr>\n",
       "                    <tr>\n",
       "                        <td style=\"text-align: left;\">\n",
       "                            <strong>Nanny: </strong> tcp://127.0.0.1:63231\n",
       "                        </td>\n",
       "                        <td style=\"text-align: left;\"></td>\n",
       "                    </tr>\n",
       "                    <tr>\n",
       "                        <td colspan=\"2\" style=\"text-align: left;\">\n",
       "                            <strong>Local directory: </strong> /var/folders/z_/8j3qx1mn0299kkpjgz9g53780000gq/T/dask-scratch-space/worker-7vpf7kxk\n",
       "                        </td>\n",
       "                    </tr>\n",
       "\n",
       "                    \n",
       "\n",
       "                    \n",
       "\n",
       "                </table>\n",
       "            </details>\n",
       "            </div>\n",
       "        </div>\n",
       "        \n",
       "        <div style=\"margin-bottom: 20px;\">\n",
       "            <div style=\"width: 24px; height: 24px; background-color: #DBF5FF; border: 3px solid #4CC9FF; border-radius: 5px; position: absolute;\"> </div>\n",
       "            <div style=\"margin-left: 48px;\">\n",
       "            <details>\n",
       "                <summary>\n",
       "                    <h4 style=\"margin-bottom: 0px; display: inline;\">Worker: 3</h4>\n",
       "                </summary>\n",
       "                <table style=\"width: 100%; text-align: left;\">\n",
       "                    <tr>\n",
       "                        <td style=\"text-align: left;\">\n",
       "                            <strong>Comm: </strong> tcp://127.0.0.1:63236\n",
       "                        </td>\n",
       "                        <td style=\"text-align: left;\">\n",
       "                            <strong>Total threads: </strong> 3\n",
       "                        </td>\n",
       "                    </tr>\n",
       "                    <tr>\n",
       "                        <td style=\"text-align: left;\">\n",
       "                            <strong>Dashboard: </strong> <a href=\"http://127.0.0.1:63239/status\" target=\"_blank\">http://127.0.0.1:63239/status</a>\n",
       "                        </td>\n",
       "                        <td style=\"text-align: left;\">\n",
       "                            <strong>Memory: </strong> 12.00 GiB\n",
       "                        </td>\n",
       "                    </tr>\n",
       "                    <tr>\n",
       "                        <td style=\"text-align: left;\">\n",
       "                            <strong>Nanny: </strong> tcp://127.0.0.1:63233\n",
       "                        </td>\n",
       "                        <td style=\"text-align: left;\"></td>\n",
       "                    </tr>\n",
       "                    <tr>\n",
       "                        <td colspan=\"2\" style=\"text-align: left;\">\n",
       "                            <strong>Local directory: </strong> /var/folders/z_/8j3qx1mn0299kkpjgz9g53780000gq/T/dask-scratch-space/worker-v860u3rg\n",
       "                        </td>\n",
       "                    </tr>\n",
       "\n",
       "                    \n",
       "\n",
       "                    \n",
       "\n",
       "                </table>\n",
       "            </details>\n",
       "            </div>\n",
       "        </div>\n",
       "        \n",
       "\n",
       "    </details>\n",
       "</div>\n",
       "\n",
       "        </details>\n",
       "    </div>\n",
       "</div>\n",
       "            </details>\n",
       "        \n",
       "\n",
       "    </div>\n",
       "</div>"
      ],
      "text/plain": [
       "<Client: 'tcp://127.0.0.1:63224' processes=4 threads=12, memory=48.00 GiB>"
      ]
     },
     "execution_count": 17,
     "metadata": {},
     "output_type": "execute_result"
    }
   ],
   "source": [
    "genetic_algo.client"
   ]
  },
  {
   "cell_type": "markdown",
   "metadata": {},
   "source": [
    "## Run the optimization\n"
   ]
  },
  {
   "cell_type": "code",
   "execution_count": 18,
   "metadata": {},
   "outputs": [
    {
     "name": "stderr",
     "output_type": "stream",
     "text": [
      "Some individuals in the logbook have no fitness values. Re-evaluating the population.\n"
     ]
    }
   ],
   "source": [
    "viewer = genetic_algo.optimize()"
   ]
  },
  {
   "cell_type": "markdown",
   "metadata": {},
   "source": [
    "## Optimization statistics\n"
   ]
  },
  {
   "cell_type": "code",
   "execution_count": 19,
   "metadata": {},
   "outputs": [
    {
     "data": {
      "text/html": [
       "<div>\n",
       "<style scoped>\n",
       "    .dataframe tbody tr th:only-of-type {\n",
       "        vertical-align: middle;\n",
       "    }\n",
       "\n",
       "    .dataframe tbody tr th {\n",
       "        vertical-align: top;\n",
       "    }\n",
       "\n",
       "    .dataframe thead tr th {\n",
       "        text-align: left;\n",
       "    }\n",
       "\n",
       "    .dataframe thead tr:last-of-type th {\n",
       "        text-align: right;\n",
       "    }\n",
       "</style>\n",
       "<table border=\"1\" class=\"dataframe\">\n",
       "  <thead>\n",
       "    <tr>\n",
       "      <th></th>\n",
       "      <th></th>\n",
       "      <th>category</th>\n",
       "      <th colspan=\"10\" halign=\"left\">Parametre</th>\n",
       "      <th colspan=\"2\" halign=\"left\">Fitness</th>\n",
       "      <th>Weighted_fitness</th>\n",
       "    </tr>\n",
       "    <tr>\n",
       "      <th></th>\n",
       "      <th></th>\n",
       "      <th>name</th>\n",
       "      <th>D1N1_energy_transfert</th>\n",
       "      <th>D1N1_lambda_temperature_0</th>\n",
       "      <th>D1N1_gamma_lambda_temperature</th>\n",
       "      <th>D1N1_tr_0</th>\n",
       "      <th>D1N1_gamma_tr</th>\n",
       "      <th>D2N1_energy_transfert</th>\n",
       "      <th>D2N1_lambda_temperature_0</th>\n",
       "      <th>D2N1_gamma_lambda_temperature</th>\n",
       "      <th>D2N1_tr_0</th>\n",
       "      <th>D2N1_gamma_tr</th>\n",
       "      <th>Hot climato day</th>\n",
       "      <th>Hot climato night</th>\n",
       "      <th>Weighted_fitness</th>\n",
       "    </tr>\n",
       "    <tr>\n",
       "      <th>Generation</th>\n",
       "      <th>Is_From_Previous_Generation</th>\n",
       "      <th>Individual</th>\n",
       "      <th></th>\n",
       "      <th></th>\n",
       "      <th></th>\n",
       "      <th></th>\n",
       "      <th></th>\n",
       "      <th></th>\n",
       "      <th></th>\n",
       "      <th></th>\n",
       "      <th></th>\n",
       "      <th></th>\n",
       "      <th></th>\n",
       "      <th></th>\n",
       "      <th></th>\n",
       "    </tr>\n",
       "  </thead>\n",
       "  <tbody>\n",
       "    <tr>\n",
       "      <th>4</th>\n",
       "      <th>False</th>\n",
       "      <th>93</th>\n",
       "      <td>0.378239</td>\n",
       "      <td>0.709242</td>\n",
       "      <td>0.003501</td>\n",
       "      <td>22.470146</td>\n",
       "      <td>-0.364428</td>\n",
       "      <td>0.313748</td>\n",
       "      <td>0.124886</td>\n",
       "      <td>0.167923</td>\n",
       "      <td>29.260547</td>\n",
       "      <td>-0.395122</td>\n",
       "      <td>0.316570</td>\n",
       "      <td>0.379973</td>\n",
       "      <td>-0.348272</td>\n",
       "    </tr>\n",
       "    <tr>\n",
       "      <th>3</th>\n",
       "      <th>False</th>\n",
       "      <th>91</th>\n",
       "      <td>0.378239</td>\n",
       "      <td>0.709242</td>\n",
       "      <td>0.003501</td>\n",
       "      <td>22.470146</td>\n",
       "      <td>-0.364428</td>\n",
       "      <td>0.313748</td>\n",
       "      <td>0.124886</td>\n",
       "      <td>0.167923</td>\n",
       "      <td>30.613227</td>\n",
       "      <td>-0.108095</td>\n",
       "      <td>0.316570</td>\n",
       "      <td>0.382350</td>\n",
       "      <td>-0.349460</td>\n",
       "    </tr>\n",
       "    <tr>\n",
       "      <th rowspan=\"2\" valign=\"top\">4</th>\n",
       "      <th rowspan=\"2\" valign=\"top\">False</th>\n",
       "      <th>80</th>\n",
       "      <td>0.378239</td>\n",
       "      <td>0.709242</td>\n",
       "      <td>0.005433</td>\n",
       "      <td>22.470146</td>\n",
       "      <td>-0.310022</td>\n",
       "      <td>0.330944</td>\n",
       "      <td>0.124886</td>\n",
       "      <td>0.167923</td>\n",
       "      <td>0.141589</td>\n",
       "      <td>-0.024453</td>\n",
       "      <td>0.328459</td>\n",
       "      <td>0.378779</td>\n",
       "      <td>-0.353619</td>\n",
       "    </tr>\n",
       "    <tr>\n",
       "      <th>251</th>\n",
       "      <td>0.499739</td>\n",
       "      <td>0.766008</td>\n",
       "      <td>0.023094</td>\n",
       "      <td>22.470146</td>\n",
       "      <td>-0.310022</td>\n",
       "      <td>0.330944</td>\n",
       "      <td>0.124886</td>\n",
       "      <td>0.167923</td>\n",
       "      <td>9.226638</td>\n",
       "      <td>-0.156818</td>\n",
       "      <td>0.334629</td>\n",
       "      <td>0.374370</td>\n",
       "      <td>-0.354499</td>\n",
       "    </tr>\n",
       "    <tr>\n",
       "      <th>1</th>\n",
       "      <th>False</th>\n",
       "      <th>139</th>\n",
       "      <td>0.378239</td>\n",
       "      <td>0.709242</td>\n",
       "      <td>0.005433</td>\n",
       "      <td>22.470146</td>\n",
       "      <td>-0.310022</td>\n",
       "      <td>0.330944</td>\n",
       "      <td>0.124886</td>\n",
       "      <td>0.167923</td>\n",
       "      <td>30.613227</td>\n",
       "      <td>-0.108095</td>\n",
       "      <td>0.328459</td>\n",
       "      <td>0.381166</td>\n",
       "      <td>-0.354812</td>\n",
       "    </tr>\n",
       "    <tr>\n",
       "      <th>...</th>\n",
       "      <th>...</th>\n",
       "      <th>...</th>\n",
       "      <td>...</td>\n",
       "      <td>...</td>\n",
       "      <td>...</td>\n",
       "      <td>...</td>\n",
       "      <td>...</td>\n",
       "      <td>...</td>\n",
       "      <td>...</td>\n",
       "      <td>...</td>\n",
       "      <td>...</td>\n",
       "      <td>...</td>\n",
       "      <td>...</td>\n",
       "      <td>...</td>\n",
       "      <td>...</td>\n",
       "    </tr>\n",
       "    <tr>\n",
       "      <th rowspan=\"5\" valign=\"top\">0</th>\n",
       "      <th rowspan=\"5\" valign=\"top\">False</th>\n",
       "      <th>392</th>\n",
       "      <td>0.443741</td>\n",
       "      <td>0.006096</td>\n",
       "      <td>0.008756</td>\n",
       "      <td>12.364654</td>\n",
       "      <td>-0.396981</td>\n",
       "      <td>0.241801</td>\n",
       "      <td>0.651330</td>\n",
       "      <td>0.410329</td>\n",
       "      <td>15.563723</td>\n",
       "      <td>-0.314617</td>\n",
       "      <td>388.953336</td>\n",
       "      <td>337.240207</td>\n",
       "      <td>-363.096771</td>\n",
       "    </tr>\n",
       "    <tr>\n",
       "      <th>393</th>\n",
       "      <td>0.443741</td>\n",
       "      <td>0.006096</td>\n",
       "      <td>0.008756</td>\n",
       "      <td>12.364654</td>\n",
       "      <td>-0.396981</td>\n",
       "      <td>0.241801</td>\n",
       "      <td>0.651330</td>\n",
       "      <td>0.236012</td>\n",
       "      <td>19.359678</td>\n",
       "      <td>-0.314617</td>\n",
       "      <td>388.953336</td>\n",
       "      <td>337.240207</td>\n",
       "      <td>-363.096771</td>\n",
       "    </tr>\n",
       "    <tr>\n",
       "      <th>394</th>\n",
       "      <td>0.443741</td>\n",
       "      <td>0.006096</td>\n",
       "      <td>0.008756</td>\n",
       "      <td>12.364654</td>\n",
       "      <td>-0.396981</td>\n",
       "      <td>0.241801</td>\n",
       "      <td>0.651330</td>\n",
       "      <td>0.236012</td>\n",
       "      <td>15.563723</td>\n",
       "      <td>-0.396347</td>\n",
       "      <td>388.953336</td>\n",
       "      <td>337.240207</td>\n",
       "      <td>-363.096771</td>\n",
       "    </tr>\n",
       "    <tr>\n",
       "      <th>391</th>\n",
       "      <td>0.443741</td>\n",
       "      <td>0.006096</td>\n",
       "      <td>0.008756</td>\n",
       "      <td>12.364654</td>\n",
       "      <td>-0.396981</td>\n",
       "      <td>0.241801</td>\n",
       "      <td>0.011378</td>\n",
       "      <td>0.236012</td>\n",
       "      <td>15.563723</td>\n",
       "      <td>-0.314617</td>\n",
       "      <td>388.953336</td>\n",
       "      <td>337.926311</td>\n",
       "      <td>-363.439823</td>\n",
       "    </tr>\n",
       "    <tr>\n",
       "      <th>1659</th>\n",
       "      <td>0.177529</td>\n",
       "      <td>0.000530</td>\n",
       "      <td>0.060604</td>\n",
       "      <td>34.283684</td>\n",
       "      <td>-0.083181</td>\n",
       "      <td>0.314969</td>\n",
       "      <td>0.619787</td>\n",
       "      <td>0.448176</td>\n",
       "      <td>34.964227</td>\n",
       "      <td>-0.410891</td>\n",
       "      <td>406.219861</td>\n",
       "      <td>352.660736</td>\n",
       "      <td>-379.440299</td>\n",
       "    </tr>\n",
       "  </tbody>\n",
       "</table>\n",
       "<p>4630 rows × 13 columns</p>\n",
       "</div>"
      ],
      "text/plain": [
       "category                                                      Parametre  \\\n",
       "name                                              D1N1_energy_transfert   \n",
       "Generation Is_From_Previous_Generation Individual                         \n",
       "4          False                       93                      0.378239   \n",
       "3          False                       91                      0.378239   \n",
       "4          False                       80                      0.378239   \n",
       "                                       251                     0.499739   \n",
       "1          False                       139                     0.378239   \n",
       "...                                                                 ...   \n",
       "0          False                       392                     0.443741   \n",
       "                                       393                     0.443741   \n",
       "                                       394                     0.443741   \n",
       "                                       391                     0.443741   \n",
       "                                       1659                    0.177529   \n",
       "\n",
       "category                                                                     \\\n",
       "name                                              D1N1_lambda_temperature_0   \n",
       "Generation Is_From_Previous_Generation Individual                             \n",
       "4          False                       93                          0.709242   \n",
       "3          False                       91                          0.709242   \n",
       "4          False                       80                          0.709242   \n",
       "                                       251                         0.766008   \n",
       "1          False                       139                         0.709242   \n",
       "...                                                                     ...   \n",
       "0          False                       392                         0.006096   \n",
       "                                       393                         0.006096   \n",
       "                                       394                         0.006096   \n",
       "                                       391                         0.006096   \n",
       "                                       1659                        0.000530   \n",
       "\n",
       "category                                                                         \\\n",
       "name                                              D1N1_gamma_lambda_temperature   \n",
       "Generation Is_From_Previous_Generation Individual                                 \n",
       "4          False                       93                              0.003501   \n",
       "3          False                       91                              0.003501   \n",
       "4          False                       80                              0.005433   \n",
       "                                       251                             0.023094   \n",
       "1          False                       139                             0.005433   \n",
       "...                                                                         ...   \n",
       "0          False                       392                             0.008756   \n",
       "                                       393                             0.008756   \n",
       "                                       394                             0.008756   \n",
       "                                       391                             0.008756   \n",
       "                                       1659                            0.060604   \n",
       "\n",
       "category                                                                    \\\n",
       "name                                               D1N1_tr_0 D1N1_gamma_tr   \n",
       "Generation Is_From_Previous_Generation Individual                            \n",
       "4          False                       93          22.470146     -0.364428   \n",
       "3          False                       91          22.470146     -0.364428   \n",
       "4          False                       80          22.470146     -0.310022   \n",
       "                                       251         22.470146     -0.310022   \n",
       "1          False                       139         22.470146     -0.310022   \n",
       "...                                                      ...           ...   \n",
       "0          False                       392         12.364654     -0.396981   \n",
       "                                       393         12.364654     -0.396981   \n",
       "                                       394         12.364654     -0.396981   \n",
       "                                       391         12.364654     -0.396981   \n",
       "                                       1659        34.283684     -0.083181   \n",
       "\n",
       "category                                                                 \\\n",
       "name                                              D2N1_energy_transfert   \n",
       "Generation Is_From_Previous_Generation Individual                         \n",
       "4          False                       93                      0.313748   \n",
       "3          False                       91                      0.313748   \n",
       "4          False                       80                      0.330944   \n",
       "                                       251                     0.330944   \n",
       "1          False                       139                     0.330944   \n",
       "...                                                                 ...   \n",
       "0          False                       392                     0.241801   \n",
       "                                       393                     0.241801   \n",
       "                                       394                     0.241801   \n",
       "                                       391                     0.241801   \n",
       "                                       1659                    0.314969   \n",
       "\n",
       "category                                                                     \\\n",
       "name                                              D2N1_lambda_temperature_0   \n",
       "Generation Is_From_Previous_Generation Individual                             \n",
       "4          False                       93                          0.124886   \n",
       "3          False                       91                          0.124886   \n",
       "4          False                       80                          0.124886   \n",
       "                                       251                         0.124886   \n",
       "1          False                       139                         0.124886   \n",
       "...                                                                     ...   \n",
       "0          False                       392                         0.651330   \n",
       "                                       393                         0.651330   \n",
       "                                       394                         0.651330   \n",
       "                                       391                         0.011378   \n",
       "                                       1659                        0.619787   \n",
       "\n",
       "category                                                                         \\\n",
       "name                                              D2N1_gamma_lambda_temperature   \n",
       "Generation Is_From_Previous_Generation Individual                                 \n",
       "4          False                       93                              0.167923   \n",
       "3          False                       91                              0.167923   \n",
       "4          False                       80                              0.167923   \n",
       "                                       251                             0.167923   \n",
       "1          False                       139                             0.167923   \n",
       "...                                                                         ...   \n",
       "0          False                       392                             0.410329   \n",
       "                                       393                             0.236012   \n",
       "                                       394                             0.236012   \n",
       "                                       391                             0.236012   \n",
       "                                       1659                            0.448176   \n",
       "\n",
       "category                                                                    \\\n",
       "name                                               D2N1_tr_0 D2N1_gamma_tr   \n",
       "Generation Is_From_Previous_Generation Individual                            \n",
       "4          False                       93          29.260547     -0.395122   \n",
       "3          False                       91          30.613227     -0.108095   \n",
       "4          False                       80           0.141589     -0.024453   \n",
       "                                       251          9.226638     -0.156818   \n",
       "1          False                       139         30.613227     -0.108095   \n",
       "...                                                      ...           ...   \n",
       "0          False                       392         15.563723     -0.314617   \n",
       "                                       393         19.359678     -0.314617   \n",
       "                                       394         15.563723     -0.396347   \n",
       "                                       391         15.563723     -0.314617   \n",
       "                                       1659        34.964227     -0.410891   \n",
       "\n",
       "category                                                  Fitness  \\\n",
       "name                                              Hot climato day   \n",
       "Generation Is_From_Previous_Generation Individual                   \n",
       "4          False                       93                0.316570   \n",
       "3          False                       91                0.316570   \n",
       "4          False                       80                0.328459   \n",
       "                                       251               0.334629   \n",
       "1          False                       139               0.328459   \n",
       "...                                                           ...   \n",
       "0          False                       392             388.953336   \n",
       "                                       393             388.953336   \n",
       "                                       394             388.953336   \n",
       "                                       391             388.953336   \n",
       "                                       1659            406.219861   \n",
       "\n",
       "category                                                             \\\n",
       "name                                              Hot climato night   \n",
       "Generation Is_From_Previous_Generation Individual                     \n",
       "4          False                       93                  0.379973   \n",
       "3          False                       91                  0.382350   \n",
       "4          False                       80                  0.378779   \n",
       "                                       251                 0.374370   \n",
       "1          False                       139                 0.381166   \n",
       "...                                                             ...   \n",
       "0          False                       392               337.240207   \n",
       "                                       393               337.240207   \n",
       "                                       394               337.240207   \n",
       "                                       391               337.926311   \n",
       "                                       1659              352.660736   \n",
       "\n",
       "category                                          Weighted_fitness  \n",
       "name                                              Weighted_fitness  \n",
       "Generation Is_From_Previous_Generation Individual                   \n",
       "4          False                       93                -0.348272  \n",
       "3          False                       91                -0.349460  \n",
       "4          False                       80                -0.353619  \n",
       "                                       251               -0.354499  \n",
       "1          False                       139               -0.354812  \n",
       "...                                                            ...  \n",
       "0          False                       392             -363.096771  \n",
       "                                       393             -363.096771  \n",
       "                                       394             -363.096771  \n",
       "                                       391             -363.439823  \n",
       "                                       1659            -379.440299  \n",
       "\n",
       "[4630 rows x 13 columns]"
      ]
     },
     "execution_count": 19,
     "metadata": {},
     "output_type": "execute_result"
    }
   ],
   "source": [
    "viewer.hall_of_fame()"
   ]
  },
  {
   "cell_type": "code",
   "execution_count": 20,
   "metadata": {},
   "outputs": [
    {
     "data": {
      "application/vnd.plotly.v1+json": {
       "config": {
        "plotlyServerURL": "https://plot.ly"
       },
       "data": [
        {
         "alignmentgroup": "True",
         "boxpoints": "all",
         "hovertemplate": "Generation=%{x}<br>Weighted_fitness=%{y}<extra></extra>",
         "legendgroup": "",
         "marker": {
          "color": "#636efa"
         },
         "name": "",
         "notched": false,
         "offsetgroup": "",
         "orientation": "v",
         "showlegend": false,
         "type": "box",
         "x": {
          "bdata": "AAAAAAAAAAAAAAAAAAAAAAAAAAAAAAAAAAAAAAAAAAAAAAAAAAAAAAAAAAAAAAAAAAAAAAAAAAAAAAAAAAAAAAAAAAAAAAAAAAAAAAAAAAAAAAAAAAAAAAAAAAAAAAAAAAAAAAAAAAAAAAAAAAAAAAAAAAAAAAAAAAAAAAAAAAAAAAAAAAAAAAAAAAAAAAAAAAAAAAAAAAAAAAAAAAAAAAAAAAAAAAAAAAAAAAAAAAAAAAAAAAAAAAAAAAAAAAAAAAAAAAAAAAAAAAAAAAAAAAAAAAAAAAAAAAAAAAAAAAAAAAAAAAAAAAAAAAAAAAAAAAAAAAAAAAAAAAAAAAAAAAAAAAAAAAAAAAAAAAAAAAAAAAAAAAAAAAAAAAAAAAAAAAAAAAAAAAAAAAAAAAAAAAAAAAAAAAAAAAAAAAAAAAAAAAAAAAAAAAAAAAAAAAAAAAAAAAAAAAAAAAAAAAAAAAAAAAAAAAAAAAAAAAAAAAAAAAAAAAAAAAAAAAAAAAAAAAAAAAAAAAAAAAAAAAAAAAAAAAAAAAAAAAAAAAAAAAAAAAAAAAAAAAAAAAAAAAAAAAAAAAAAAAAAAAAAAAAAAAAAAAAAAAAAAAAAAAAAAAAAAAAAAAAAAAAAAAAAAAAAAAAAAAAAAAAAAAAAAAAAAAAAAAAAAAAAAAAAAAAAAAAAAAAAAAAAAAAAAAAAAAAAAAAAAAAAAAAAAAAAAAAAAAAAAAAAAAAAAAAAAAAAAAAAAAAAAAAAAAAAAAAAAAAAAAAAAAAAAAAAAAAAAAAAAAAAAAAAAAAAAAAAAAAAAAAAAAAAAAAAAAAAAAAAAAAAAAAAAAAAAAAAAAAAAAAAAAAAAAAAAAAAAAAAAAAAAAAAAAAAAAAAAAAAAAAAAAAAAAAAAAAAAAAAAAAAAAAAAAAAAAAAAAAAAAAAAAAAAAAAAAAAAAAAAAAAAAAAAAAAAAAAAAAAAAAAAAAAAAAAAAAAAAAAAAAAAAAAAAAAAAAAAAAAAAAAAAAAAAAAAAAAAAAAAAAAAAAAAAAAAAAAAAAAAAAAAAAAAAAAAAAAAAAAAAAAAAAAAAAAAAAAAAAAAAAAAAAAAAAAAAAAAAAAAAAAAAAAAAAAAAAAAAAAAAAAAAAAAAAAAAAAAAAAAAAAAAAAAAAAAAAAAAAAAAAAAAAAAAAAAAAAAAAAAAAAAAAAAAAAAAAAAAAAAAAAAAAAAAAAAAAAAAAAAAAAAAAAAAAAAAAAAAAAAAAAAAAAAAAAAAAAAAAAAAAAAAAAAAAAAAAAAAAAAAAAAAAAAAAAAAAAAAAAAAAAAAAAAAAAAAAAAAAAAAAAAAAAAAAAAAAAAAAAAAAAAAAAAAAAAAAAAAAAAAAAAAAAAAAAAAAAAAAAAAAAAAAAAAAAAAAAAAAAAAAAAAAAAAAAAAAAAAAAAAAAAAAAAAAAAAAAAAAAAAAAAAAAAAAAAAAAAAAAAAAAAAAAAAAAAAAAAAAAAAAAAAAAAAAAAAAAAAAAAAAAAAAAAAAAAAAAAAAAAAAAAAAAAAAAAAAAAAAAAAAAAAAAAAAAAAAAAAAAAAAAAAAAAAAAAAAAAAAAAAAAAAAAAAAAAAAAAAAAAAAAAAAAAAAAAAAAAAAAAAAAAAAAAAAAAAAAAAAAAAAAAAAAAAAAAAAAAAAAAAAAAAAAAAAAAAAAAAAAAAAAAAAAAAAAAAAAAAAAAAAAAAAAAAAAAAAAAAAAAAAAAAAAAAAAAAAAAAAAAAAAAAAAAAAAAAAAAAAAAAAAAAAAAAAAAAAAAAAAAAAAAAAAAAAAAAAAAAAAAAAAAAAAAAAAAAAAAAAAAAAAAAAAAAAAAAAAAAAAAAAAAAAAAAAAAAAAAAAAAAAAAAAAAAAAAAAAAAAAAAAAAAAAAAAAAAAAAAAAAAAAAAAAAAAAAAAAAAAAAAAAAAAAAAAAAAAAAAAAAAAAAAAAAAAAAAAAAAAAAAAAAAAAAAAAAAAAAAAAAAAAAAAAAAAAAAAAAAAAAAAAAAAAAAAAAAAAAAAAAAAAAAAAAAAAAAAAAAAAAAAAAAAAAAAAAAAAAAAAAAAAAAAAAAAAAAAAAAAAAAAAAAAAAAAAAAAAAAAAAAAAAAAAAAAAAAAAAAAAAAAAAAAAAAAAAAAAAAAAAAAAAAAAAAAAAAAAAAAAAAAAAAAAAAAAAAAAAAAAAAAAAAAAAAAAAAAAAAAAAAAAAAAAAAAAAAAAAAAAAAAAAAAAAAAAAAAAAAAAAAAAAAAAAAAAAAAAAAAAAAAAAAAAAAAAAAAAAAAAAAAAAAAAAAAAAAAAAAAAAAAAAAAAAAAAAAAAAAAAAAAAAAAAAAAAAAAAAAAAAAAAAAAAAAAAAAAAAAAAAAAAAAAAAAAAAAAAAAAAAAAAAAAAAAAAAAAAAAAAAAAAAAAAAAAAAAAAAAAAAAAAAAAAAAAAAAAAAAAAAAAAAAAAAAAAAAAAAAAAAAAAAAAAAAAAAAAAAAAAAAAAAAAAAAAAAAAAAAAAAAAAAAAAAAAAAAAAAAAAAAAAAAAAAAAAAAAAAAAAAAAAAAAAAAAAAAAAAAAAAAAAAAAAAAAAAAAAAAAAAAAAAAAAAAAAAAAAAAAAAAAAAAAAAAAAAAAAAAAAAAAAAAAAAAAAAAAAAAAAAAAAAAAAAAAAAAAAAAAAAAAAAAAAAAAAAAAAAAAAAAAAAAAAAAAAAAAAAAAAAAAAAAAAAAAAAAAAAAAAAAAAAAAAAAAAAAAAAAAAAAAAAAAAAAAAAAAAAAAAAAAAAAAAAAAAAAAAAAAAAAAAAAAAAAAAAAAAAAAAAAAAAAAAAAAAAAAAAAAAAAAAAAAAAAAAAAAAAAAAAAAAAAAAAAAAAAAAAAAAAAAAAAAAAAAAAAAAAAAAAAAAAAAAAAAAAAAAAAAAAAAAAAAAAAAAAAAAAAAAAAAAAAAAAAAAAAAAAAAAAAAAAAAAAAAAAAAAAAAAAAAAAAAAAAAAAAAAAAAAAAAAAAAAAAAAAAAAAAAAAAAAAAAAAAAAAAAAAAAAAAAAAAAAAAAAAAAAAAAAAAAAAAAAAAAAAAAAAAAAAAAAAAAAAAAAAAAAAAAAAAAAAAAAAAAAAAAAAAAAAAAAAAAAAAAAAAAAAAAAAAAAAAAAAAAAAAAAAAAAAAAAAAAAAAAAAAAAAAAAAAAAAAAAAAAAAAAAAAAAAAAAAAAAAAAAAAAAAAAAAAAAAAAAAAAAAAAAAAAAAAAAAAAAAAAAAAAAAAAAAAAAAAAAAAAAAAAAAAAAAAAAAAAAAAAAAAAAAAAAAAAAAAAAAAAAAAAAAAAAAAAAAAAAAAAAAAAAAAAAAAAAAAAAAAAAAAAAAAAAAAAAAAAAAAAAAAAAAAAAAAAAAAAAAAAAAAAAAAAAAAAAAAAAAAAAAAAAAAAAAAAAAAAAAAAAAAAAAAAAAAAAAAAAAAAAAAAAAAAAAAAAAAAAAAAAAAAAAAAAAAAAAAAAAAAAAAAAAAAAAAAAAAAAAAAAAAAAAAAAAAAAAAAAAAAAAAAAAAAAAAAAAAAAAAAAAAAAAAAAAAAAAAAAAAAAAAAAAAAAAAAAAAAAAAAAAAAAAAAAAAAAAAAAAAAAAAAAAAAAAAAAAAAAAAAAAAAAAAAAAAAAAAAAAAAAAAAAAAAAAAAAAAAAAAAAAAAAAAAAAAAAAAAAAAAAAAAAAAAAAAAAAAAAAAAAAAAAAAAAAAAAAAAAAAAAAAAAAAAAAAAAAAAAAAAAAAAAAAAAAAAAAAAAAAAAAAAAAAAAAAAAAAAAAAAAAAAAAAAAAAAAAAAAAAAAAAAAAAAAAAAAAAAAAAAAAAAAAAAAAAAAAAAAAAAAAAAAAAAAAAAAAAAAAAAAAAAAAAAAAAAAAAAAAAAAAAAAAAAAAAAAAAAAAAAAAAAAAAAAAAAAAAAAAAAAAAAAAAAAAAAAAAAAAAAAAAAAAAAAAAAAAAAAAAAAAAAAAAAAAAAAAAAAAAAAAAAAAAAAAAAAAAAAAAAAAAAAAAAAAAAAAAAAAAAAAAAAAAAAAAAAAAAAAAAAAAAAAAAAAAAAAAAAAAAAAAAAAAAAAAAAAAAAAAAAAAAAAAAAAAAAAAAAAQEBAQEBAQEBAQEBAQEBAQEBAQEBAQEBAQEBAQEBAQEBAQEBAQEBAQEBAQEBAQEBAQEBAQEBAQEBAQEBAQEBAQEBAQEBAQEBAQEBAQEBAQEBAQEBAQEBAQEBAQEBAQEBAQEBAQEBAQEBAQEBAQEBAQEBAQEBAQEBAQEBAQEBAQEBAQEBAQEBAQEBAQEBAQEBAQEBAQEBAQEBAQEBAQEBAQEBAQEBAQEBAQEBAQEBAQEBAQEBAQEBAQEBAQEBAQEBAQEBAQEBAQEBAQEBAQEBAQEBAQEBAQEBAQEBAQEBAQEBAQEBAQEBAQEBAQEBAQEBAQEBAQEBAQEBAQEBAQEBAQEBAQEBAQEBAQEBAQEBAQEBAQEBAQEBAQEBAQEBAQEBAQEBAQEBAQEBAQEBAQEBAQEBAQEBAQEBAQEBAQEBAQEBAQEBAQEBAQEBAQEBAQEBAQEBAQEBAQEBAQEBAQEBAQEBAQEBAQEBAQEBAQEBAQEBAQEBAQEBAQEBAQEBAQEBAQEBAQEBAQEBAQEBAQEBAQEBAQEBAQEBAQEBAQEBAQEBAQEBAQEBAQEBAQEBAQEBAQEBAQEBAQEBAQEBAQEBAQEBAQEBAQEBAQEBAQEBAQEBAQEBAQEBAQEBAQEBAQEBAQEBAQEBAQEBAQEBAQEBAQEBAQECAgICAgICAgICAgICAgICAgICAgICAgICAgICAgICAgICAgICAgICAgICAgICAgICAgICAgICAgICAgICAgICAgICAgICAgICAgICAgICAgICAgICAgICAgICAgICAgICAgICAgICAgICAgICAgICAgICAgICAgICAgICAgICAgICAgICAgICAgICAgICAgICAgICAgICAgICAgICAgICAgICAgICAgICAgICAgICAgICAgICAgICAgICAgICAgICAgICAgICAgICAgICAgICAgICAgICAgICAgICAgICAgICAgICAgICAgICAgICAgICAgICAgICAgICAgICAgICAgICAgICAgICAgICAgICAgICAgICAgICAgICAgICAgICAgICAgICAgICAgICAgICAgICAgICAgICAgICAgICAgICAgICAgICAgICAgICAgICAgICAgICAgICAgICAgICAgICAgICAgICAgICAgICAgICAgICAgICAgICAgICAgICAgICAgICAgICAgICAgICAgICAgICAgICAgICAgICAgICAgICAgICAgICAgICAgICAgICAgICAgICAgICAgICAgICAgICAgICAgICAgICAgICAgICAgICAgICAgICAgICAgICAgICAgICAgICAgICAgICAgMDAwMDAwMDAwMDAwMDAwMDAwMDAwMDAwMDAwMDAwMDAwMDAwMDAwMDAwMDAwMDAwMDAwMDAwMDAwMDAwMDAwMDAwMDAwMDAwMDAwMDAwMDAwMDAwMDAwMDAwMDAwMDAwMDAwMDAwMDAwMDAwMDAwMDAwMDAwMDAwMDAwMDAwMDAwMDAwMDAwMDAwMDAwMDAwMDAwMDAwMDAwMDAwMDAwMDAwMDAwMDAwMDAwMDAwMDAwMDAwMDAwMDAwMDAwMDAwMDAwMDAwMDAwMDAwMDAwMDAwMDAwMDAwMDAwMDAwMDAwMDAwMDAwMDAwMDAwMDAwMDAwMDAwMDAwMDAwMDAwMDAwMDAwMDAwMDAwMDAwMDAwMDAwMDAwMDAwMDAwMDAwMDAwMDAwMDAwMDAwMDAwMDAwMDAwMDAwMDAwMDAwMDAwMDAwMDAwMDAwMDAwMDAwMDAwMDAwMDAwMDAwMDAwMDAwMDAwMDAwMDAwMDAwMDAwMDAwMDAwMDAwMDAwMDAwMDAwMDAwMDAwMDAwMDAwMDAwMDAwMDAwMDAwMDAwMDAwMDAwMDAwMDAwMDAwMDAwMDAwMDAwMDAwMDAwMDAwMDAwMDAwMDAwMDAwMDAwMDAwMDAwMDAwMDAwMDAwMDAwMDAwMDAwMDAwMDAwMDAwMDAwMDBAQEBAQEBAQEBAQEBAQEBAQEBAQEBAQEBAQEBAQEBAQEBAQEBAQEBAQEBAQEBAQEBAQEBAQEBAQEBAQEBAQEBAQEBAQEBAQEBAQEBAQEBAQEBAQEBAQEBAQEBAQEBAQEBAQEBAQEBAQEBAQEBAQEBAQEBAQEBAQEBAQEBAQEBAQEBAQEBAQEBAQEBAQEBAQEBAQEBAQEBAQEBAQEBAQEBAQEBAQEBAQEBAQEBAQEBAQEBAQEBAQEBAQEBAQEBAQEBAQEBAQEBAQEBAQEBAQEBAQEBAQEBAQEBAQEBAQEBAQEBAQEBAQEBAQEBAQEBAQEBAQEBAQEBAQEBAQEBAQEBAQEBAQEBAQEBAQEBAQEBAQEBAQEBAQEBAQEBAQEBAQEBAQEBAQEBAQEBAQEBAQEBAQEBAQEBAQEBAQEBAQEBAQEBAQEBAQEBAQEBAQEBAQEBAQEBAQEBAQEBAQEBAQEBAQEBAQEBAQEBAQEBAQEBAQEBAQEBAQEBAQEBAQEBAQEBAQEBAQEBAQEBAQEBAQEBAQEBAQEBAQEBAQEBAQEBAQEBAQEBAQEBAQEBAQEBAQEBAQEBAQEBAQEBAQEBAQEBAQEBAQEBAQEBAQEBAQEBAQEBAQEBAQEBAQEBAQEBAQEBAQEBAQEBAQEBAQEBAQEBAQEBAQ=",
          "dtype": "i1"
         },
         "x0": " ",
         "xaxis": "x",
         "y": {
          "bdata": "8rDuxxdc+7+MBipVFdgHwPKw7scXXPu/8rDuxxdc+7/ysO7HF1z7v5TJSzff2Pu/Rq3RP5GR/r/ysO7HF1z7v/Kw7scXXPu/8rDuxxdc+7/y281K8XD7v+IqwKXSdwnAkaQ0NvmnFMCjBGFbg4AVwLXQ7g+GVALAe4/KqGqoFMBuJUj+oagUwEBWqnzjpxTAyCcX3dVHEcCE3P01+acUwG3YPnD4pxTAkaQ0NvmnFMCRpDQ2+acUwOgKDMMFIBLA9aeuojIBC8C3QtfsKuAKwPWnrqIyAQvAxiSQhfOA+L/1p66iMgELwPWnrqIyAQvA9Br1O6JcEMBQa34pFGoMwBiXHBBMNw3ASjUvlDHsCsCyIkJh0/wKwH/x6LuFCxDAUSp5btpgA8AMZbyW/HX2v1EqeW7aYAPAUSp5btpgA8BRKnlu2mADwFEqeW7aYAPAVKyt9DxVAcBRKnlu2mADwD5/vDrXYAPAUSp5btpgA8BRKnlu2mADwJmcjVuqjfK/G4rbYOFbBcCUTgaIFlv1v39uBdZbWvW/wGi7tDty478bittg4VsFwBuK22DhWwXAr7ip72gTBsArbmQ81XUEwDSCUVc7sgLAsHAR2dVYBcCMt2KFvEsFwPjLsF5qNwrAOqOvyI4aEcD4sv7LVacEwDqjr8iOGhHAOqOvyI4aEcA6o6/IjhoRwDqjr8iOGhHA1uRzasASEcA6o6/IjhoRwDqjr8iOGhHAOqOvyI4aEcA6o6/IjhoRwPbnfJzJlwTAot9m9mYxEMCk+u6kmmcFwCQjY1kfLxDAP7C3rb8xEMDKuD22HvIPwKLfZvZmMRDAepyZqi0BDsCi32b2ZjEQwOU0CrnFfATAot9m9mYxEMCi32b2ZjEQwJSi3xGW1f+/0gSOmvWx+b+V8I41T9wMwNIEjpr1sfm/0gSOmvWx+b/SBI6a9bH5vzYgvuhKs/m/FvX/e75hA8DUD0nRoov5v9IEjpr1sfm/H49ZOYqu/L9cRgJf16/5v5VTWdUowxHAbWhLmuyo97/kOkauluYLwNTpXiqiyve/v+peKqLK979Isa7jrnr3v/bHPyvuyfa/1hKT22kS+L/AytoBy8b3v+pFmSCTyPe/bWhLmuyo979taEua7Kj3v4LroP70KwzAC+508XX6EcC+lEIxI3kFwAvudPF1+hHAxguDCH+ZEMAL7nTxdfoRwAvudPF1+hHADodBP5xOE8AL7nTxdfoRwAvudPF1+hHAIDKASQr4EcDuZD3uOvURwALgNeITJDTAHnoYKQRjAsD9YwGyeRgCwOPQXkqp6/u/gioG1SHgEMAeehgpBGMCwLN7pSswIALADMXRm6bK9b8eehgpBGMCwNvV+peF4QHAHnoYKQRjAsDock9r8nsCwMagJ38jOfq//hgTqN7dA8D/IEyX5qYLwP4YE6je3QPAchgTqN7dA8D+GBOo3t0DwP4YE6je3QPAkgAF/PDOB8D+GBOo3t0DwP4YE6je3QPA/hgTqN7dA8D+GBOo3t0DwKgCDXuamw/AGW2j1sEQA8DYrUJn3aPwvxlto9bBEAPAGW2j1sEQA8AZbaPWwRADwBlto9bBEAPAjuotSXecB8AZbaPWwRADwBlto9bBEAPATJrFMAsNA8BMmsUwCw0DwETAw3eLOfm/D7HLVYtPC8CLcgKNtbIKwA+xy1WLTwvAD7HLVYtPC8APsctVi08LwKUs0HwsVwvAYBbL1jqLCcAu3WkA0AgLwK9T4TLiggrAD7HLVYtPC8APsctVi08LwBKkxKDF0gbAIoCIjzEHEsDKsNjLOnIRwCKAiI8xBxLAIoCIjzEHEsAigIiPMQcSwCKAiI8xBxLA8YWrisDqEsB8J3aG8MgSwN3aEXfRGRTAIoCIjzEHEsCqFc4hWwcSwE6/KO1QzxPAvVHXBW5v9r/jtb6XJsIEwPTuPnDKb/a/UOPo8Jea9b9kxExy/AP8v0YavjtSUfa//frdTtCa8b+9UdcFbm/2v15F1wVub/a/dTeTx7Jo9r+/5g0WYGj2vwvMUOBZ6AHAd8MvwWTS97+wVlBTGNsFwHfDL8Fk0ve/d8MvwWTS9793wy/BZNL3v3fDL8Fk0ve/6h7HTt0R+L/DdKeBIGT1v5yaEEIhJfq/d8MvwWTS97/QWNeEVBD5vxTlPxbVDAfAENxGXhIxEMAI4keFZZUNwBrbRl4SMRDAFNxGXhIxEMAQ3EZeEjEQwBDcRl4SMRDAgRgRvb0OEsAQ3EZeEjEQwBDcRl4SMRDAENxGXhIxEMAQ3EZeEjEQwJ3RD3jppxDAQjpxrnW5B8DuOidmD1YIwEI6ca51uQfAQjpxrnW5B8A68bixRr8HwAg/NaeqsgfAahD4IXufDsBCOnGudbkHwER/AK11uQfAIMrClCO5B8AkYSwlw7gHwJIRQDI+Ng/A4xoc5ubjCcD6+is3qtP5v6vdU9sHpgjA/k+k3eQrCsDjGhzm5uMJwPK70Xyp9AnA+mE7Y4vx/79rNGae7+MJwOnpZp7v4wnA4xoc5ubjCcDjGhzm5uMJwNNwRDbl/+O/9KzVrC9MBsCIox/BlzoPwPSs1awvTAbA9KzVrC9MBsD0rNWsL0wGwH/8F3B3UAbAIIne8mA/AcD0rNWsL0wGwPSs1awvTAbA9KzVrC9MBsD0rNWsL0wGwLBJECV6JQrALi7fkt+HCcCEU4DTZjH5vy4u35LfhwnAzjT4q92HCcDvX0Ge8YoJwCNUEPvohwnAiuNHMkNwEMDK0iDdfBICwBnjbKPfhwnALi7fkt+HCcAuLt+S34cJwMKnvJcIqua/cObcIza8DMC6lTpb58DjvzbwVLm+sA/AwgFG17HmD8Bw5twjNrwMwHDm3CM2vAzAZ4EEnDFKDMCQ9CAU1JAMwN8NY6dMvgzAcObcIza8DMBw5twjNrwMwL68C7eydAHAG0vHTYwpBcB4+NfUuRgSwBtLx02MKQXAG0vHTYwpBcAbS8dNjCkFwBtLx02MKQXAsG0LHm2dAsAgTMdNjCkFwPDFU+P9PgPAxxkd2kopBcBwuqW+3CgFwGVdEJvXhBDAlKBYqpZj/7+0baIQCwISwGLI7DPfqwTA4Fvd14xkAcCUoFiqlmP/v5SgWKqWY/+/0F1ai61E8L+UoFiqlmP/v5SgWKqWY/+/lKBYqpZj/7+UoFiqlmP/vx4lseNdNA3A24R6+5gHDsB8S9fd3vEBwNuEevuYBw7A24R6+5gHDsDbhHr7mAcOwCwlGdyFDw7AgiJAR34fEsDbhHr7mAcOwBcPw9IZ/g3A5gFMM5IJDsDi5IfEigYOwBYMrPziTQjA0oa0GG0MCsAWEr2TqjD9v9KGtBhtDArAaIa0GG0MCsDShrQYbQwKwNKGtBhtDArA5kDfLSuEDMD25vKz7+oJwAoThqryXwrAyrF5KFT/CcBzo+Zqz0YIwAVvqG8jM/+/X+cGlhTdA8BOOaYHIXcOwF/nBpYU3QPAX+cGlhTdA8DxyC78Bt8DwE7ZHbPDuQPAhJjPZyMWBsBf5waWFN0DwPbgAtjGFALAX+cGlhTdA8Bf5waWFN0DwMydzUrEIhDAZlMdwkEWC8D18VnC3HoEwGZTHcJBFgvAJHHvqsN4/L/+2gOl82UMwH7tRdlpDQvAIvVHExxrBcDwmGOS88QKwJ670cTb+ArAjLMhAJcNC8D639CePhMLwCtIO4zJKfG/x7RFXRq/CsAZXFLpZz8KwLBrFSQuzPO/DEhCky45C8DHtEVdGr8KwMe0RV0avwrAS85vDYEcC8DHtEVdGr8KwMe0RV0avwrAx7RFXRq/CsDHtEVdGr8KwG/onUnaHAvAHOFjRQr2D8AzRXbaY80QwBzhY0UK9g/AeL9PWxYfDsAc4WNFCvYPwDptF+tH9g/AYmIjRv8NFMAc4WNFCvYPwBzhY0UK9g/AHOFjRQr2D8DMLu1OE3EPwEo6FTpIZxTAIP79pSMdAcAq79XT6g4KwLDGLaYjHQHAZfhKpiMdAcDmnxZp6hUBwOafFmnqFQHAPMsHVVWf87+knBNK2Fz/v4LnRd2CNwHAIP79pSMdAcAg/v2lIx0BwAjtSYjX2ALAKKH5X4yxdsAU0OD+TX90wMVV4MD60gXAFKdFqSi1dcAooflfjLF2wCih+V+MsXbApkwbaemwdsB5uEmECbd2wCih+V+MsXbAKKH5X4yxdsAooflfjLF2wDjeWLsJJvy/RuMNDIDGDMBGeoMYtm0IwEbjDQyAxgzARuMNDIDGDMD6HOL0jMUMwPoc4vSMxQzAVHi95mQ7EcBG4w0MgMYMwCbVInQ4uAvAJvA9aG3IDMBQ7Z3YZaMOwJQd86+hfg/AuCMttGg2CcBMaOpQw1sPwFwkLbRoNgnATiWyKmY2CcC4Iy20aDYJwHyxzjQkNwnAS+80xLIdEMC4Iy20aDYJwLgjLbRoNgnARlmlbgY3CcDU8sW1+y0JwN4Nz5rNMRPAwvtAI6nzBcCWttNm6C8FwML7QCOp8wXAwvtAI6nzBcDC+0AjqfMFwML7QCOp8wXA3yVWfLhMA8CWpoxNlzsJwARAQwkUmgjAwvtAI6nzBcDC+0AjqfMFwNZr12IO0wDAUuXuaDbXBsBMM5pR69ETwFLl7mg21wbAOjHtaDbXBsBS5e5oNtcGwFLl7mg21wbA3fi7IAGU/79S5e5oNtcGwFLl7mg21wbAeE06FvjWBsDk+Dsc0dYGwF/1nQ4iQRDA7M56tT8TDcBDywQRPLMMwFScBNEyEw3Agk/TzT8TDcDsznq1PxMNwF4Nb6O3Lg3ABXC6bU0CDMDUYfZwMcMHwPiDOoA3dArA7M56tT8TDcDsznq1PxMNwAOToTc5Rg3Ae1UeSJTuD8DsrBcZk8j/v3tVHkiU7g/AIKypTF7yDsDOA7oJV5wPwJijEfwbnA/AjoXwX/54DcDJhkqih+8PwESWUanAzgjAe1UeSJTuD8B7VR5IlO4PwNokH5jPRfK/TlrPearfBsAwElK4pjYQwNjozXmq3wbATlrPearfBsBOWs95qt8GwE5az3mq3wbAtmcVAAj3A8BOWs95qt8GwE5az3mq3wbAloUK883sBsBTM6BEZ+wGwPj2/1Vgvw3AcY1KcyD+BMC4xPFD3jANwHGNSnMg/gTAcY1KcyD+BMCEFMYYpvsEwM7YICfK/ATA+TH9DYWU+79xjUpzIP4EwLhxSnMg/gTAcY1KcyD+BMBxjUpzIP4EwNxYqoof7AXA8XJAJvtTBsCiWbUawNUEwPFyQCb7UwbA8XJAJvtTBsDxckAm+1MGwPFyQCb7UwbAGuZ3DgyrDcDW7RU2aLwGwNpWlkN9YQ/Ax47r12ZUBsDHjuvXZlQGwEYdxrhGPwDAV6xIw33YB8Dutj67/HoBwFesSMN92AfAV6xIw33YB8BXrEjDfdgHwFesSMN92AfAEgttRWBwC8DwkV+LbywHwA7ujTP6aQfAV6xIw33YB8BXrEjDfdgHwIBHbAv8KP2/WrOIcweVBcC2ROU++EISwKwe+S//iv+/PGA65AXKBcDgYYb+9pQFwFqziHMHlQXAfHuuGUSCBsBas4hzB5UFwFqziHMHlQXAWrOIcweVBcB6aSrWIJ4FwNhenSuQnhLAmBo6Ykz/DMBL4ITdd/YHwJaEVxxJQwXAwCIwyIAJDcCYGjpiTP8MwJgaOmJM/wzAOrWUHeVqCcCuGjpiTP8MwLAaOmJM/wzAEgmc/l//DMAWM+fO/f4MwJC9FN/JcATAv4oGJiPXB8CfhSL+f0wPwL+KBiYj1wfALht5E+7nBcC/igYmI9cHwL+KBiYj1wfAdu4wxeS2B8C/igYmI9cHwMJOTrk1wgHAv4oGJiPXB8C/igYmI9cHwDO17V+4TQPARjE9KcdREMDYQhh9J6cCwGQE7yZqcBDA7zhH1rx5EMBGMT0px1EQwEYxPSnHURDAaGB7VywPFcBGMT0px1EQwEYxPSnHURDARjE9KcdREMBGMT0px1EQwHo30EhT3hDAPqxPM5if77+FisMxbCfzvz6sTzOYn++/PqxPM5if779f/uO8lPLvv03uXI/elO+/s2Dv+krFEcDd7Jp938L9v/L7myyvQv2/PqxPM5if77/PWCIc5A7vv9tdYHM3ePW/InBoAymP+b+UbQ/3v57/vyBwaAMpj/m/InBoAymP+b8icGgDKY/5vyJwaAMpj/m/NoJ7/nWr+78icGgDKY/5v47Qi9GVNvW/InBoAymP+b8icGgDKY/5v+6b55a8KgDASq4gmGpgFMBtd39B4NkQwEquIJhqYBTAXiWQl4pcFMCuZ/uWpmAUwEquIJhqYBTAlkCqj1KmEcAJg0X62F4UwOaPzXzFYBTAa1odDF5gFMDFFZFJCWEUwDq7eVhntgvAKJajcAM9BMCiWkz3zIUOwIhiyTyr6wvADC7yglv8C8COto1jqTQEwJ523pAKRwTASHRVkZ7OBsDOj+4rc80DwGR8iuGgsAPA8Docs8a2A8CYdj+UK7UDwPBF/JCK5RHAiz6QAL+qA8CKu9/Tb0f9v4s+kAC/qgPAiz6QAL+qA8CLPpAAv6oDwIs+kAC/qgPAdkEkIuXeAsCLPpAAv6oDwIs+kAC/qgPAiz6QAL+qA8BJk3ZsJasDwER2bkldW/y//sIbx4RXA8AB5XmegHYQwP7CG8eEVwPA/sIbx4RXA8D+whvHhFcDwP7CG8eEVwPA3ha0FFGPAcAYEJyF3WUDwDO+iIXdZQPA/sIbx4RXA8D+whvHhFcDwKIp6iD8MA/AAM1JscUJEMCg5e2lM70JwCobPiHGCRDAGrDOHMYJEMDkX6gWQgcQwHhcgQ1ABhDAeSbDlGtFEMAAzUmxxQkQwP/MSbHFCRDAAM1JscUJEMCCCS+I+AkQwATwK6VHWArAQS5RyIeuEcCyfokTarX9v0EuUciHrhHAQS5RyIeuEcBBLlHIh64RwIjk8EbirhHAuDUgKMWjD8BBLlHIh64RwEEuUciHrhHAQS5RyIeuEcBBLlHIh64RwIr71ZCBr/a/nadYL9jWAMCkUi4xh38CwI4ayFbr/QjAJCH6LIFGAMCdp1gv2NYAwJ2nWC/Y1gDAzlXeSqvN+7+hKtzBIR79v0DIE+S2Mfe/ja4zv2Es/78nhEX7Qiz/v/z88ku7OOy/G/t2OhBT/b8axu0DRRgIwBv7djoQU/2/ENL2JA9T/b8iW5BjzUj9vyJbkGPNSP2/p3rlE/VQ/b/Iyi6dApD5v6Bx5FfLsP2/G/t2OhBT/b8b+3Y6EFP9v158+hD/FAfAStXUoTcFDsBqIrX/+Hjlv/Cz6XeY5Q3A/b8C2Q/+EMBK1dShNwUOwErV1KE3BQ7AKDi3gcmzDsBK1dShNwUOwI+fTKw2BQ7Abq+tiy4GDsCndNf0NAUOwEsb5bBR6gHA3uaUllshEsCaxvgPp4ENwN7mlJZbIRLAlt17D5NuD8De5pSWWyESwN7mlJZbIRLAuyRoX7p3DcDe5pSWWyESwN7mlJZbIRLAkPMW8ikdEsC6xTHBJx0SwBUHAS77UATAglRdKK1VAcA6R9CvmEQRwEX2RYupVQHAglRdKK1VAcCvxyP2x1sBwIJUXSitVQHAONWhtT61A8CKYZasTJQAwAwFAhxT0ALAglRdKK1VAcA0y28CIkMBwImoEg4wJhPABdlATlW3AcBG+4FlQrL+vy8pSshGtgHA6h/o+ii8AcBfI4x8IrcBwF8jjHwitwHA7JAmPv9DCMAI2UBOVbcBwNsfmciRXQjANhxTs1DeAcCqVx/Ar7YBwAQmXvqLRP+/CgG6bKHgCsCM/89w1a4QwAoBumyh4ArACgG6bKHgCsAKAbpsoeAKwAoBumyh4ArAIis15wcvCcC6U4YfdOYKwIgIe36FLQvACgG6bKHgCsAKAbpsoeAKwECHjaXtBxDA7JYmcVyDEsCUNEk+FVoQwP+6KY17gxLA/9tvzHCDEsDsliZxXIMSwOyWJnFcgxLAQDAbW0xPFMCAwBxXzQ4TwCDvJTtN1BLA7JYmcVyDEsDsliZxXIMSwP1wbjPcMxLAKDsc6EJ9979yfnLZuSb+vyg7HOhCffe/KDsc6EJ9978oOxzoQn33vyg7HOhCffe/wOV1o4v28r8oOxzoQn33vyg7HOhCffe/KDsc6EJ997/IkbaL74j3v8y+H3z2NgDAMnqW6asI9L9f8Q0OAgkIwKG1F+qrCPS/uIXUoMVKBsCe5MN4gwz0v/6ekLVtBvS/znXxd9Gt+r8yepbpqwj0vzJ6lumrCPS/MnqW6asI9L8yepbpqwj0v1JhoKpCognAOag00FNKEsBQ3zdod6IAwDmoNNBTShLAOag00FNKEsA5qDTQU0oSwDmoNNBTShLAkF63dxNzEsBUqlcxbkoSwExbpIIVOxLAOag00FNKEsA5qDTQU0oSwG4gKQpl8wDAGwgU98HJDsCzlqM2uAQIwIxO+F5i2A7AfTNmoVrZDsAbCBT3wckOwJh9fj5xzA7AvuVz6L/0BsA4BQrEJKkLwFVFG8MYzQ7AiyblVM+bDsB7/oxgfZkOwOpWtc+3DP6/D2EXAzLrBMBEkxdoAzYOwA9hFwMy6wTAD2EXAzLrBMAPYRcDMusEwA9hFwMy6wTAAiKX8earDMAPYRcDMusEwCSCg7GQFwPAD2EXAzLrBMBe1zzl5usEwLpSMkC0/RLA+KQAt66u/L8kpJKLHnj9v/ikALeurvy/+KQAt66u/L/4pAC3rq78v/ikALeurvy/zPcsV9sJA8Dh3R2sdTP2v1cVe+XQZ/a/NSah2ISz/L9MJcFFTKn8v5rS5zSoTAnA1Yc/wkfzD8C334TUb24SwLYfL8JH8w/A1Yc/wkfzD8DVhz/CR/MPwNWHP8JH8w/A0mzod3EQC8DVhz/CR/MPwNWHP8JH8w/A1Yc/wkfzD8AV+tJ+9DwQwII/4YZH+A/AuupjZzEjEsDYpxeeW2QOwLrqY2cxIxLAOG7/dEHA/7+66mNnMSMSwLrqY2cxIxLAFJBJE8VmEMC66mNnMSMSwLrqY2cxIxLAuupjZzEjEsC66mNnMSMSwAbH+SAshAjAjlYJGQ9Y27+Kg5kUOnT0vw2wOm/jt+C/WHZsuXAhAcD4yCvRfzzgv0bfrHQUydi/GnN5d7VV2b+eikQSwqrcv9oe8TbCqty/5KqL/hld4b+IFxbkOTTcv9TJawV+H/W/LE2SIC6f+L+O7lONKGr1vyxNkiAun/i/LE2SIC6f+L8sTZIgLp/4v2hDqm8noPi/TlipNOMjBMCrEQ0JyCEFwHHqn3rYZvq/LE2SIC6f+L8sTZIgLp/4vzbtWOOzDgLAfsWjCNE2EsA66H0rzqYMwIvJ6q5sABDA0KDEg95rEsB2LSWcojcSwIYnv+ySNhLAq+aEDVslDcB+xaMI0TYSwH7FowjRNhLAA81FTok2EsAZ70AYOzYSwN/YxI7i+gfAEOd6EWRuDMDgU+8Ut+wSwBDnehFkbgzAEOd6EWRuDMAQ53oRZG4MwBDnehFkbgzA1ddLYOfXDsAQ53oRZG4MwBZqaBBkbgzAEOd6EWRuDMAQ53oRZG4MwEznhIf/IRTA1c221/aF+7/DY7H7X+b8v8VqVNn2hfu/D+PUZXJJ+7/VzbbX9oX7v9XNttf2hfu/s4jY8FVb+78wvPMco1MAwIoUubBnVQDA1c221/aF+7/VzbbX9oX7v+IXolV05AXA6/H/jbtnAMCwyLUJLR0QwFV8/+qGfAfA6nhpZNR/B8Dr8f+Nu2cAwEOoUfYKIALAVAhMly5GAMDr8f+Nu2cAwOvx/427ZwDAuQK0PnZoAMC6PodCdmcAwJYkRLBx5xDA6Ox9Ik/KD8BaaQ/FRQELwOjsfSJPyg/ATOoRLdAcCcDo7H0iT8oPwOjsfSJPyg/AO0vnJD7+CcAkGZsiT8oPwADpmiJPyg/A6Ox9Ik/KD8AwMuGC+ckPwAKOGfALgOy/wt3tg8INE8CUjWOZ8fICwAg6bnnCDRPAwt3tg8INE8CpGK6BChwTwIa1TSUtGxPA/EJw1EMfDsB09Zxj6S0TwKbVIV+APRPAwt3tg8INE8DC3e2Dwg0TwL8nbH1Y/Pi/iK/Lq/Jk9L/Jwt+4OBMKwIivy6vyZPS/hIPcp/Jk9L+Ir8ur8mT0v+AMc5S7ZvS/fySVc8sMAsBKf2ae8mT0vy6dT/t8QPe/iK/Lq/Jk9L8wHEx4wmj0v4KlsxPraQzAszH84XCm9r8IXnAN2NcQwNrr/IcI+wDAZLZu5sv7AcCRIyrutZb2v5EjKu61lva//wYTogSu47/OmxIwpCXyv1a2CpuVHfe/szH84XCm9r+zMfzhcKb2v1DnDEyCVwLApwCA59oSEsBFN+kFC6ABwKcAgOfaEhLAMY0ud9MSEsCnAIDn2hISwHZ68ONzGhLABcYIG/rNEsCnAIDn2hISwKcAgOfaEhLAhPjypeUREsDMCn2NEBISwG+0sdFxZALAti5NSLyyA8D4vg9n2Ab8vxRtHeuOPwTAnqsY77sGBsC2Lk1IvLIDwLYuTUi8sgPA/L63bGwVAcC2Lk1IvLIDwIhTZ0OUEwPALj4BIOOwA8D81IotvrADwOSz0/Gr6vy/k/9xIX1+C8CXtbEP6vMRwJP/cSF9fgvAk/9xIX1+C8DyiVSArYALwJP/cSF9fgvAHYzOBL0XDsCT/3EhfX4LwJP/cSF9fgvAk/9xIX1+C8CT/3EhfX4LwB2G2ZgEShPA/lwVpL4TCMA4I2kjbvYKwP5cFaS+EwjA/lwVpL4TCMBZJXlysvgIwCr8WsflEgjAkH3/BlQuCMD+XBWkvhMIwP5cFaS+EwjA/lwVpL4TCMD+XBWkvhMIwLBoCF1kEAvAeJ9QXVq4CcA2sPgtM+cQwI8GYt00TgHA6DSv/tBqCsB4n1BdWrgJwEjdiyb0ugnAH/pPb34JCcCub4Co/7cJwJbYc/9/IgTAeJ9QXVq4CcB4n1BdWrgJwDxx1hPdYgrAbG/X2d47IsDQtF3EbiMiwGxv19neOyLAbG/X2d47IsBsb9fZ3jsiwGgnRDnpOyLAHbOncjgrBcB/rEXEFakJwD4pPWWGawvAbG/X2d47IsBsb9fZ3jsiwEp3Havukw3AtsiMq3fXAMDuJmb4eRz/v7bIjKt31wDAo71+MuC7/7+2yIyrd9cAwLbIjKt31wDANpHLYaUH/r+2yIyrd9cAwLbIjKt31wDAgotKs4zIAMDgV8BgTJMBwAXVtfKSTvm/6vtv9opUA8B/qrqPJ2X+v+r7b/aKVAPAi6P1RyNj/7/q+2/2ilQDwOr7b/aKVAPAus3FyjIcBcDq+2/2ilQDwOr7b/aKVAPA6vtv9opUA8Dq+2/2ilQDwGm8sgW0+ADADDeGVqZ/DMCQ+jvssZcGwFQ1hlamfwzADDeGVqZ/DMAMN4ZWpn8MwAw3hlamfwzAOSX5BV0hDMAwan32pH8MwHx2tUS5OgzAapGmwWPhDcAuvIaCQQAMwN6rjwSHjwTAzXn3obLoQ8BKtXSw1u1DwM1596Gy6EPAXXjs4RDgQ8DIykcOrehDwCNoaI6P6EPAf4c9BwIMM8DCIkPTSsAbwIKGcSQybAzAY9toLMrsQ8DNefehsuhDwExIoYYsKVHANv/K/EBDCMBnUQTXY6sKwHKiEVy/JwjAcFUWt2RFCMA2/8r8QEMIwNCpUrp0TgjAvjmClFn0AMA2/8r8QEMIwInVyvxAQwjANv/K/EBDCMA2/8r8QEMIwIK2tIunXAPAd6yytk/bBcChMhoWLrMOwGR4CmZQ2wXA1kgy1182BMB3rLK2T9sFwDn+b3NV2wXAxLKK/h1PBMDGa0SAMj8HwAV7vjm/SQfAgG4VRgQgBsCgrGSnnb8FwNXdW9RV4Q7A7ChDTLpFB8Dmtl4qdDMBwOwoQ0y6RQfA7ChDTLpFB8Cwyw2Ur5oGwJiUqXqriwbAkH8ZZUWhDMDsKENMukUHwOwoQ0y6RQfA7ChDTLpFB8B6N1bfMKkHwK+n/OgnpQPAhpBUFchYCsBcni6a58QMwC68VU+3Dw7A6Psxhq5NEMCGkFQVyFgKwIaQVBXIWArAewSFJn+KB8CGkFQVyFgKwH4AdRul6gfAhpBUFchYCsCGkFQVyFgKwHT3azpQKfS/rWbpUleMA8BnePq6d+oQwK1m6VJXjAPArWbpUleMA8CtZulSV4wDwK1m6VJXjAPAMOY5Cv9NBMBgGu9SV4wDwHwc71JXjAPArWbpUleMA8CtZulSV4wDwKrxmPvOSxHAJdjjhs51A8ALs6xYZiMUwCXY44bOdQPAqs/jhs51A8CegcEO5mYDwLEaFhTPZgPA4VUPHKPm/b/0BZex0XUDwGEmRrLRdQPAJdjjhs51A8CQF4yg1nUDwLj7U7ZC2xHAkZ7iL+bLEMASXV2jPnQFwBWe4i/myxDAkZ7iL+bLEMCRnuIv5ssQwJGe4i/myxDA5hJU/mOdEcCRnuIv5ssQwI4snS7myxDAkZ7iL+bLEMCRnuIv5ssQwMmlKFQJFQfAc+VNh6zVB8DOTdvJGtPxv3PlTYes1QfA+YoU0sHYAsBz5U2HrNUHwHPlTYes1QfADgdmujw5B8Bz5U2HrNUHwHPlTYes1QfALIEJscz1B8DgrTMZLtQHwMvzp6/F8uy/GO18kH2SAsAiAhVSIiYGwFzfoHd2tijA6PkvkJMFB8AY7XyQfZICwBjtfJB9kgLAOocnk4Q8BsAnbi3nH4ECwJKaIwKetgPAGO18kH2SAsAY7XyQfZICwIq7Mf/zww3AKMVHgW1MB8AeUFVF/NUDwKpaf/jdXAfAUy1852N5QcAoxUeBbUwHwCjFR4FtTAfAClSk8hdAB8AiBoSBbUwHwAr4eALRFgDAQExset1MB8AoxUeBbUwHwCKYAjkP9wLAuFptJ0yXDMDAB9thAYkKwLhabSdMlwzAuFptJ0yXDMC4Wm0nTJcMwLhabSdMlwzAlBhB2ErUCcCcBh7RaXcxwJuNN31EmQzAuFptJ0yXDMC4Wm0nTJcMwH8JuauqyQfAAAzbmct6C8Codt8qsY8LwKyqWY3NoQvAZmolKJ2iC8AADNuZy3oLwAAM25nLegvArcAupGJzEcAsVxIQzXoLwCWLNhfNegvAAAzbmct6C8Ba8tjyVTgNwHSSrQDWkRHAWTY1LYwHAsDca8Mdkq4EwFk2NS2MBwLAWTY1LYwHAsByqTz0OwYCwAac1PpQKQLAFHCv+Ytw/L9ZNjUtjAcCwFk2NS2MBwLAqlkNsNMHAsD8CT9LMAYCwAs00O7P3ADARJ8vlLCCAcBodR09TTIHwO71hAygAwPA0G8fVm0cA8BEny+UsIIBwESfL5SwggHA/AkOoD76AcBEOZBynIcBwFNpyMjP/vO/RJ8vlLCCAcAQjoCfOoMBwJ5wEcXRIwjAVtHXLlZ2D8DvPWWxY9YPwFbR1y5Wdg/AP8BCpbY6DsCH6sf/23UPwIQ2saDpdQ/AH1D5PjCoD8CirMvjaFoPwJt9DB19iA/AEqcdt0YhDsCMBDfOCxwOwLNfHjhgQg7AP2R11NLaDMDOy6JtMXwNwE5kddTS2gzATmR11NLaDMA/ZHXU0toMwPJRgHMB3gzAPpeS8GZSD8CCZHXU0toMwBCGrZN5wgzAP2R11NLaDMA/ZHXU0toMwL0mOlya9g/ADlXNULNJCcBTUeTJTzAGwA5VzVCzSQnADlXNULNJCcAOVc1Qs0kJwA5VzVCzSQnAMDwhIrx2AsAOVc1Qs0kJwA5VzVCzSQnADlXNULNJCcAOVc1Qs0kJwLD0OBMPwv6/ZmOc2VysCMDSB+ZOwEYLwGZjnNlcrAjAZmOc2VysCMBmY5zZXKwIwGZjnNlcrAjA8IH8XHLtBsAg8jVKP6gIwNQFCy+mrgjA6BeMcKKnCMAkI5/irbMIwAugerywhQnAlFsmuoxG/b/Eyrf+Tejjv3itw1F6N/i/1cMth4SxA8B++RAAQkX9v38jrq3XqP2/inA6Gv5PBcCUWya6jEb9v45bJrqMRv2/lFsmuoxG/b+UWya6jEb9v3FsrtwNSP6/cMybf2FtEcCe72cw12IGwHDMm39hbRHAcMybf2FtEcDkPcLIb20RwDgxIvRhbRHA+yO3lbR3D8BwzJt/YW0RwHDMm39hbRHAcMybf2FtEcBwzJt/YW0RwAJmZntkGAXAeSnJKeuM/r+mU4P/Nd8TwI4mySnrjP6/1Jf5d9CL/r95Kckp64z+v3kpySnrjP6/JY/3KbzIAcBuW1zFjrb6v6OOm4zGVfy/HXNsGdiL/r8dc2wZ2Iv+v9u7Gzm59RHAxXbtBmM78L8kMtrBtH0OwMV27QZjO/C/xXbtBmM78L/Fdu0GYzvwv8V27QZjO/C/iU0Y8rAQ+b/Fdu0GYzvwv4wgEo02O/C/xXbtBmM78L/Fdu0GYzvwv3JXuo1nkBHAFNwKAkB9EcBA4qLsZg4GwBTtPhtMfRHAW6+OKlR9EcAU3AoCQH0RwBTcCgJAfRHAQ2h2MqVJEcDo8WNZm10SwLmNp4zeoxLAuQhBo819EcAU3AoCQH0RwODvXuNUEwjAeGUxrWxuDcCvpGmFSAcCwHhlMa1sbg3AeGUxrWxuDcB4ZTGtbG4NwHhlMa1sbg3AQEcLq6NTBcBGDmsZbG4NwJLg5+gDbg3AK6Mk0sVtDcDhDxNEkm4NwDz5XXjgyfi/iOnkWzS9BMC8kBzPmVcJwIjp5Fs0vQTAFhWS6rDW9L9jqKpZ9bEEwPoAt+TPsgTAz+sxAST5C8CI6eRbNL0EwIjp5Fs0vQTAiOnkWzS9BMCI6eRbNL0EwFJXP5LDeQHA7mAYvwil8L9Dhsk2gx4AwLZXbafWRvy/5ppcmguLAcBCwmvgDEbuv02fqsW8yvG/QL3bDaD967/uYBi/CKXwv+5gGL8IpfC/7mAYvwil8L/uYBi/CKXwvyJo+d5MHwbAUU/PuWXdDsBX11gnKrcQwFFPz7ll3Q7ApHlgzEvaDsBRT8+5Zd0OwFFPz7ll3Q7AY9nz86ayCMBRT8+5Zd0OwMfBafY6tv+/UU/PuWXdDsBRT8+5Zd0OwDQiGwP9+wXAWVNWkObHE8AefcsgEDQTwHGUAso0yhPA8+QSyjTKE8BZU1aQ5scTwFlTVpDmxxPA8PZb0fpPEsBZU1aQ5scTwFlTVpDmxxPAWVNWkObHE8AoFBNa+8cTwFbFTP7bwBHAvB4iYFDK+r/QSZL9p00CwCQNImBQyvq/vB4iYFDK+r+8HiJgUMr6v7weImBQyvq/Kbd6e5Hz9L/Ee3IKStsMwLB9oGcUFP+/2Ig2aJPV+r+8HiJgUMr6v+q8shMlsQDAmotqDowJAMBSbkWR0MYAwBj5VaInyPy/zrOGQBf+/7+ai2oOjAkAwJqLag6MCQDANFPKOn8hBcCYi2oOjAkAwJqLag6MCQDAmotqDowJAMBUH0BmGIj/v0WXEE9wNAHA58wVBWq2EcCEaIAPA8cRwOfMFQVqthHA58wVBWq2EcDnzBUFarYRwI6Ht/uqtxHAlhlnNk76C8DnzBUFarYRwHPKaj+06wXAepdYXPq1EcAnNkF8YbURwHTnzUtS2QfAQtrCkLe39L/qrSTj8IcGwLKaPA+YvA/AC/FfTBwWEMCsYQasAdD0v6pYUwUKxPS/wAL3QwMG9L9C2sKQt7f0v0LawpC3t/S/JBpd1Jfm9L9C2sKQt7f0v9xcYtiK2w7AXxsbwVbt+r+tEXaiwTX3v18bG8FW7fq/XxsbwVbt+r9fGxvBVu36v18bG8FW7fq/Cl99jH88AMAqZi5ZNTr8v/x6PMCYKPy/XxsbwVbt+r9fGxvBVu36vw+sj1KLrP2/RbJI2mDdBcBQWVOFRBUJwEWySNpg3QXAwxZ6qS7dBcBFskjaYN0FwEWySNpg3QXATW5NnKPZBcBFskjaYN0FwJIFRdpg3QXAaOfGqFd+BcDe8uY3TOcFwFGBhOgb+AnADFguZt+2DsDfZb02CTcBwAxYLmbftg7ADFguZt+2DsAkBQdufLIOwCQFB258sg7Arp69AzpDBsCGoYY3qZkIwG73XFsSABDADFguZt+2DsAMWC5m37YOwDTGBugkf/2/jKETIcLJEsCRQTWsTWoHwIyhEyHCyRLAYQJuB5psEsD+LvEzgckSwKZYoz62yRLAJp1L8J+UDsC2NEC5pckSwO5GAOfeUxLAjKETIcLJEsCmGN309MkSwFa7lAKB2fi/mmfvPhCN97+GyRKGKuQPwG7P9oH0GxHALAF1mcex97+aZ+8+EI33v5pn7z4Qjfe/Jp7ITA+BA8CaZ+8+EI33v5pn7z4Qjfe/YF8F0j9s87/slJiZlGfzv/UnhvyROBTAcDUL07pKAcDv4/k50KgRwHA1C9O6SgHAcDUL07pKAcBwNQvTukoBwEy35XqRcQHAw5jvAnwS8r9wNQvTukoBwHA1C9O6SgHAKj5OULdGAcAYqZvThkYBwPI/oHhqfArAi7sxWhS1EMBaL1gZuX8AwIu7MVoUtRDA74tGK1qyEMCLuzFaFLUQwIu7MVoUtRDAU3mkKdy/FMCWEhJ3N7IQwBiF8/+0tBDAi7sxWhS1EMCLuzFaFLUQwMPGwffgVAjAdZNvWkk0BcDdaILSQ8P1v3WTb1pJNAXAdZNvWkk0BcB1k29aSTQFwHWTb1pJNAXAWouoTi37CcCmjQxkaJkDwOJ4VhX1OQXAdZNvWkk0BcB1k29aSTQFwGpaa55++f6/8lCm5n52BsB4WcsodNwMwLdS99/jawTAWaR0p9++BsCA78VIjHYGwIDvxUiMdgbA0qhKp2KbB8Df/vMhhXYGwMzoQBERIgjA8lCm5n52BsBQXCPvRHgGwKf7gESQBw7A8cb0hS/BB8CnW90SJoACwJjM6Nd7wQfA8IE2bQbCB8DdDwXm278HwKa68snoswfAxfVkI7oVAsA0OeT0fIQHwNjoPiXuAwjA8cb0hS/BB8DxxvSFL8EHwCAlHHjl4/u/E2yZ5VfgDsBcd+oze78JwBNsmeVX4A7A/WuZ5VfgDsATbJnlV+AOwBNsmeVX4A7Anpp3ho5iDcATbJnlV+AOwBNsmeVX4A7AX6wNoXJ8DsB0d6wUK30OwMYNhQuDuQfAPrSbuc2sBcDBtnfMHAANwFj9GnvtywvAOdOeImRyDMA+tJu5zawFwD60m7nNrAXA/k8hC+7oC8A+tJu5zawFwH6ym7nNrAXAZLn16X6qBcBkufXpfqoFwDwp/AwBChPAVJ43RhTeBMBKWdkr8M0IwFSeN0YU3gTAxkpEIm+S5r9UnjdGFN4EwARmGzQt5ATADyOclXSi/b+AmQ9UFN4EwCebD1QU3gTAVJ43RhTeBMBUnjdGFN4EwL7CO2XIDSXAThQXdRQ037+lxt0D6Hz6v//GqpCJRQrAosLQbga3/79OFBd1FDTfv04UF3UUNN+/je0Uf/Cs5L+dq7KrCajuvwUM+BKQ2eC/quJb23cx379OFBd1FDTfv+wy/XJd/QnA089TiaP9DMDlVORBFAUPwNPPU4mj/QzA089TiaP9DMDgExmusP4MwNPPU4mj/QzAhute0/eqD8DTz1OJo/0MwNPPU4mj/QzA089TiaP9DMCoAjbYG/8MwAfSUnt/2RDAsAaRNqjmQsAsH3dYl95EwELKhMy49wrAsIGPdgu3d8B7dcEiIO5CwCpqY3xsz0LAjgVJIV+HQsCwBpE2qOZCwC3SvTu05kLAsAaRNqjmQsCwBpE2qOZCwMqKQiY8KRDADK7Fv2ZgCcDEE6jx9MkCwAyuxb9mYAnADK7Fv2ZgCcAMrsW/ZmAJwAyuxb9mYAnATULzut8vAcDerpOaqTUJwHMhiKb4YgnAvAkfraKTCcDwB/pCTmAJwJiQxfa7oPW/BUL6KbBXCcCyN4wfFXsQwAVC+imwVwnAtAlhmMINCMAFQvopsFcJwAVC+imwVwnA/08Gc8t4AsAFQvopsFcJwAVC+imwVwnABUL6KbBXCcAFQvopsFcJwAjyJae+ywnAxfYKpi9IBsCg0pVOVv77v1TGuaFQYAbAChGyfxpiBsANQrWk4TsGwArJwNwjOAbA47qhuu7LDsB+9wqmL0gGwDi1CqYvSAbAuBRrgbRJBsDF9gqmL0gGwDayKPWHdwbA9UattCKxEcC8L+UT8p4DwPVGrbQisRHA9UattCKxEcD1Rq20IrERwPVGrbQisRHAU1+W2i4IEsCGZujKt5kRwDU2QlzTtBHANTCfBmkkEsAUoPvJGLARwG5J+DA0UATAdDG2pA+GAcBylLWcPsgSwOuk2QyLSAHAdDG2pA+GAcB0MbakD4YBwHQxtqQPhgHAhBQQRFMf+r+c5QCsD4YBwMA85CNI/O+/dDG2pA+GAcBmxTO8cocBwLMO5tNJdArAnA2eNNae8b9Z/W6xpUcKwJwNnjTWnvG/LEZ2GNqyD8BRm5fF3qDxv5wNnjTWnvG/0qCMhW4K9L/CbYOd4ivxv4ixUZH/UfO/7IJ0g26M9L+wn1Mk1cbvvxBEevN5FAfAwLPiozJtE8Ba+ZEXxxEAwJpxZL8rZxPALgbM4uN+E8DAs+KjMm0TwMCz4qMybRPAkE+yDlYoFcDAs+KjMm0TwMCz4qMybRPAwLPiozJtE8B6kQz0TW4TwG9W8tqbnArAXwFg+yIRDsBOQiicEB8GwF8BYPsiEQ7A76yAVlTtDcBfAWD7IhEOwF8BYPsiEQ7AWmwdK60WCMBfAWD7IhEOwObbospnUArAXwFg+yIRDsBfAWD7IhEOwPZ2BL41KwDAZVlsw1xkB8Aktdjif3UNwLRvVyWpMAfAkVlsw1xkB8CcJdJHYmEHwJIg7xxMbQfADpzj3mcUCcC8iyAHWmQHwGVZbMNcZAfA0rI9Cr1iB8BlWWzDXGQHwCIxB7XnKA/Ak6XQFScL5b/v2cJdcVjuv7b8lrWCnfy/+Jgz+pFl/7+TpdAVJwvlv/bu4PvY+uS/P7V92J/W9b+TpdAVJwvlv5Ol0BUnC+W/k6XQFScL5b+TpdAVJwvlv/SZKyMfiATArHeMsbLtDsATET1fJHMMwKx3jLGy7Q7ArHeMsbLtDsCsd4yxsu0OwKx3jLGy7Q7Akk1cdAjmC8DKAAmBs+0OwCKyNUERCQ3AZfVGVpkkD8Dxzsb9weoOwILKmK2xOAfAMOXBtDY3EsBNpLS4K9oTwDDlwbQ2NxLALIIy8tgaEsAw5cG0NjcSwDDlwbQ2NxLAXsTxpI0oEsCXEszfRFoSwNJ1o/UflhLAMOXBtDY3EsAw5cG0NjcSwHrWZ/yyLRTAFA3LVHml/L+8yD96roMGwBQNy1R5pfy/FA3LVHml/L8aRTxay7T8vxQNy1R5pfy/mlQkzCYB+r8UDctUeaX8vxQNy1R5pfy/FA3LVHml/L8UDctUeaX8vzDyJXaYKgXAhpeDnYzgAMCwxzHFsm0GwJaYg52M4ADAlpiDnYzgAMCGl4OdjOAAwIaXg52M4ADAdrf0G5FpA8CGl4OdjOAAwIaXg52M4ADAhpeDnYzgAMCGl4OdjOAAwNSDIZBu+QjAwiuIJIIgE8B5F3CqyqUUwMIriCSCIBPAwiuIJIIgE8DQfJLnhh8TwMArh4YjJhPAlJ49o7PtDcDDpbLcVyATwP0S+VmCHxPAwiuIJIIgE8B4yqq5Wh0TwBreShBDuAvARs6NEqOdCcAV03TSgjIEwDYJ3t405QnAJED7EKn1CcCGqPC8EXgKwEbOjRKjnQnAKCa4q54dDcDNyw+4yrwGwHLMKdmpRRDARs6NEqOdCcBGzo0So50JwA9tFklh1gzA2DEuFhDe/7+mbtOpIx3zv9gxLhYQ3v+/L2hZ7wre/7/YMS4WEN7/v9gxLhYQ3v+/Mo2Wd1TV/r/YMS4WEN7/v0EqNYgO3v+/rySXRa/a/79oxJdS6Kv/v0JGC9lU/xXAajeDv0fDAsDoU1nashEJwGo3g79HwwLAajeDv0fDAsBqN4O/R8MCwGo3g79HwwLAYKaW0t63AMA04LEpYSIDwHwRPxq8LQPAajeDv0fDAsBqN4O/R8MCwNbh7jNdgwfArlVjM9CTDsBx9bcfb+YCwFcXUjPQkw7AhHEElt64DMCuVWMz0JMOwK5VYzPQkw7AsHKqQD5NEMCuVWMz0JMOwK5VYzPQkw7ArlVjM9CTDsCuVWMz0JMOwAKK7UPzl/6/Lo6Risu7EcDwn7wHBC8EwC6OkYrLuxHADI6Risu7EcDOyzVOu7oRwH6MHdFnuhHAOzXuGdZAEcAsjpGKy7sRwKYsbUbFfwzAunqYWsG6EcA8YGg9vroRwIjsFXvLojLAJ4b4Se065b+x9uhg/rMJwPd8QiZi7uK/qRgWgqVz878nhvhJ7TrlvyeG+EntOuW/jZfUo3RW878nhvhJ7TrlvyeG+EntOuW/J4b4Se065b+W81h6Gk/uv8vxYTlGkBDAgQ9rD6KzJcDn8B9jceQlwBioHhCisyXAHKgeEKKzJcCBD2sPorMlwIEPaw+isyXAZOpdSE3RKMDeHaGCZP73v3+pEuDpyPe/sVq66s6/JcC1UZ+dZJ0lwBwCBqxYrgXAPlabfshgEsDED1WyxQD/vz5Wm37IYBLAPlabfshgEsA+Vpt+yGASwMO9n8jCYBLAAQjjKvSoE8A+Vpt+yGASwN34f37IYBLAPlabfshgEsA+Vpt+yGASwPl6XCrTzQHAyZ18jMN0EcD0WHxUE+chwKQ+xOgXeSnAhioGAQp3EMDJnXyMw3QRwEoVQh28ahHAjoVsbrdSFMDJnXyMw3QRwMmdfIzDdBHAyZ18jMN0EcAhn1rpv3QRwNh5RK0oJgjAzz2sMqntAcDJH3uYDCUOwM89rDKp7QHACAci8I/5/78440nZRu0BwC5ivY1s1gHAXqlaI7glA8D8fd308lr/v6Ce6xkFlgXAzz2sMqntAcDPPawyqe0BwJb8yYh9xhDALGlYFo9y/b/rS1Pl7v37vyxpWBaPcv2/LGlYFo9y/b+iCdVRknn9vzrfK21Zb/2/Fp2WJclSBsAsaVgWj3L9v0tZDuMg9fe/LGlYFo9y/b+MYEK1lnn9v/CGswfRngTARbo86UpuDsB28ziRlOMPwDG6POlKbg7ASH7JjbxqDsBFujzpSm4OwAawQaVybw7A1trJ3HgSC8CUNpFMUk4OwELd2lU6dg7ARbo86UpuDsBFujzpSm4OwM0uKsgPHAzAfE+ICL6+EcDgSRdibzkQwHxPiAi+vhHAfE+ICL6+EcB8T4gIvr4RwHxPiAi+vhHAHBpXLnEfEsBC/G06sb4RwIoDbQa5vhHAQ8ZTtZ2+EcBDxlO1nb4RwFEd/BXhmRDAYvtMTKMT/b8MMWUq1qL6v3bHIz3EE/2/6njzttkT/b9i+0xMoxP9v2L7TEyjE/2/rhLDattM+r9i+0xMoxP9v2L7TEyjE/2/YvtMTKMT/b9i+0xMoxP9v7r02zgD4/e/o8vW+itI/79PP2ynzzoBwKPL1vorSP+/Xuh9I4hoKMCjy9b6K0j/v0WFm/5UUP+/BEizkdmhAsCjy9b6K0j/vyhAzghD9f6/o8vW+itI/7+4OZr/zkj/vyVnYJTUKgTA1biQ2FnmEsBRQsAANpkRwDHPjJ/GlRLAasNkthHzEsDVuJDYWeYSwNW4kNhZ5hLAlJmSFoFcDsDkldpQ7ucSwA0Z+8oY9hLA1biQ2FnmEsDVuJDYWeYSwD77rXrw6wzAxyVQXiW4DsDihCT4jIcRwMclUF4luA7AxyVQXiW4DsAY/tzuE8AOwP6E48b0tA7APKIP+Ck/EMB92gHQJbgOwME/7J51ew7AxyVQXiW4DsBLSjQ8yLoOwBQKi9PekRLAmoBUrlc8AsCkO1Jnyw4CwJqAVK5XPALAmoBUrlc8AsCagFSuVzwCwJqAVK5XPALACAKUZ5/1AsBYgFSuVzwCwJqAVK5XPALAT8IGxLHLAcB59yiOTpwAwOlzDsU2bAHARdx8jK409r8zBOpgDJEPwFN0B78+wALABMtTVRxNBMBF3HyMrjT2v0XcfIyuNPa/rtlYf+dd8r+/b2bEAxz6vynuHtmDQPq/Rdx8jK409r9F3HyMrjT2v2BtCufn0Q7AyjAdWGO/DMCZ0px3OGoLwMowHVhjvwzAyjAdWGO/DMBYvphjccUMwMowHVhjvwzAUx80qz8yDsDKMB1YY78MwMowHVhjvwzAyjAdWGO/DMCGTytMYb8MwHK6lNz43AzAdd4smMr/EsDE/9VV7Wv/v47oxcjuARPA3E/3NsSsEcBiOfQ9y/8SwGI59D3L/xLAl9oOG4KpEcB13iyYyv8SwHXeLJjK/xLAJCg5juv/EsDYiDD110YTwKIP6M3GnwTAhGXDNAD37b/1kRBhB/IEwIRlwzQA9+2/hGXDNAD37b+EZcM0APftv0Drb4HS/e6/zXWjekRL+r9IDjQ/fDX3v00O583vbfG/hGXDNAD37b+EZcM0APftv/lIwL4NPQXA7+i29I/0+L848Z6ljG8MwMF/90mdpwHAAG1xNgLYAcDV6Hquy4/5vx2Y9O9sXvm/Qw8zbsMP5b/v6Lb0j/T4vznTfsqP9Pi/92AbxXT1+L9wdlTAsfT4v37R0EzV5wbAEsW9MIE2HcDEAc/vHXkcwBLFvTCBNh3AEsW9MIE2HcASxb0wgTYdwBLFvTCBNh3ASkTSrOPAD8CoUmEL9lgOwJZq5h2qNhHAEsW9MIE2HcASxb0wgTYdwIM3BxVBAwPAnM5z3WcGBcCmjbJcfUADwJzOc91nBgXAnO8lufj0BMCcznPdZwYFwJzOc91nBgXAjHACYbUnCcB8I+8zigYFwFyF5HRO/QTAnM5z3WcGBcAUf2btSwkFwDZGPT3DXAfAkzwHpm1rCMCyb9ZrgfUSwJM8B6ZtawjAkzwHpm1rCMCTPAembWsIwJM8B6ZtawjA4qdm+Oz7B8CTPAembWsIwJM8B6ZtawjAdOKRycxrCMDYrcUM5mkIwFQdkaO9vBLAgKMhx8tKCsB6WBMYG8AJwICjIcfLSgrA8Urx8+XJBMCAoyHHy0oKwICjIcfLSgrAqZS3HLo7CMBcZEfFy0oKwICjIcfLSgrAgKMhx8tKCsDqCV+qdksKwKXNR9bJ+wXAmu/R+IvYCcDi4appYzYQwMLDQIjpugLALoO7GBTKCsCa79H4i9gJwJrv0fiL2AnASZs6CVnWCMCa79H4i9gJwBzIy+x5DQDAhPUrIpvpCcB0M4ay6dIJwH0hIIhyBgrAXTfuKvbWDcCE37oxtBIKwJT2Mwaxzg3AXAPHqNpjDcBdN+4q9tYNwJy9Ey/u1g3AKwqb1xznEsBdN+4q9tYNwF037ir21g3AXTfuKvbWDcBdN+4q9tYNwI3c+SpgowzAIPJtX//t/78AMJ+tKYABwKaE/VP/7f+/p7NuX//t/78CrLfzX/P/v7aB41Ap3f+/4eVehIak8r9LDR/wHiUBwDd25kanCALAIPJtX//t/78g8m1f/+3/v2AB94ej+/u/rrmdxAuCAsCscXQgUlX/v665ncQLggLArrmdxAuCAsCuuZ3EC4ICwMUasrsLggLAbN6lJCEkBMB7dL/EC4ICwCx2v8QLggLAHT8x3+OBAsByaEbv51ADwNNdteZESwHASpBjAkS0CcBefquMJQgHwNC9MDFBtAnAS83quiXmB8CaIvqyT7sJwH8zdl3/rgnAdcO/A807DcBKkGMCRLQJwDR7I3EefwjASpBjAkS0CcBKkGMCRLQJwOA491eC8RHA+uGYZkQNDMCAuneVQY0NwPrhmGZEDQzA+uGYZkQNDMD64ZhmRA0MwPrhmGZEDQzAfq1t1DfgEMD64ZhmRA0MwPrhmGZEDQzA+uGYZkQNDMBn+AP/3Q4MwKg2RWynoRHAdKCU8fkH7L93lYh8G/vuvwyt31plMPy/RuCHIUrjBcB0oJTx+Qfsv4mIdeZCJ+y/rtSLf1cs67++LHYY9Vbwv2tQfLLqY/C/aBgIgxbs67/kzHLjMCXrv1UIONJIIgHAXOP4WmCRCcAwhZtyFu8SwEy7CNK7kwnATLsI0ruTCcBc4/haYJEJwBn9NF7RkwnAuWzYD/uwAcBc4/haYJEJwFzj+FpgkQnAXOP4WmCRCcBc4/haYJEJwIxcB/M7CA7AxJLud5dqF8DtmmLA60kXwMSS7neXahfAxJLud5dqF8DuWAmfimoXwO5YCZ+KahfA+puJts5XD8Cgf1Op5coCwLoWfK1GjAfAxJLud5dqF8DEku53l2oXwASHmOOhngzABbnaX2pgEcD7ew0bvwD4v8D2FTy8/BDA1Dnlhg9hEcA2O8be52ARwApM5ddZYBHAjGVMokZNEcDWeIZKUl4RwCuJOt8vhhDAM/ZhPHRcEcD8o7GdoVwRwJrNEKQ0xfK/Hg1E5HasA8Cinle9IhcPwB4NROR2rAPATE0SzrIkA8AeDUTkdqwDwB4NROR2rAPAGGN0R2Oc/r8eDUTkdqwDwB4NROR2rAPAHg1E5HasA8AeDUTkdqwDwMLpHz023QnASWG9dUcxAMCWtsD+RnsAwM2VSlPZ5iTAmFjtfnOoAMBJYb11RzEAwElhvXVHMQDA1kvvlN/bA8BJYb11RzEAwElhvXVHMQDAwGm7xQ8zAMDGdQva+zAAwJLyIX3mmwTALQp6VrNmD8CgDOoY+O8HwC0KelazZg/ANQJ0VrNmD8AtCnpWs2YPwC0KelazZg/A0q/kRGjHDcASJJqINGcPwMKO4GV89Q7ALQp6VrNmD8AtCnpWs2YPwFLuCG4w3QXAeI2Uioyc/b+OsDy6oD0HwHjes4qMnP2/eN6zioyc/b+7M2sXb539v2tg62PYo/2/p0oR6iSHBMBZavSwcfIHwKoFMpgLRQnAeI2Uioyc/b+kBzCv2gL+vwN0r4nheBLAGInMKWCfC8AjNQMDuBsMwBiJzClgnwvATjo1MoDgAcAYicwpYJ8LwBiJzClgnwvA94pKbE0+BsAYicwpYJ8LwNDDwC5UnwvAGInMKWCfC8AYicwpYJ8LwHtM0IQRPfC/vUjz86OFD8CalJXarkMQwL1I8/OjhQ/AvUjz86OFD8C9SPPzo4UPwL1I8/OjhQ/AQtJ2C8OAG8AKVW+uKYv9v066RUTMogPAvUjz86OFD8B4VsUwInkPwCilcWgY9Q7A/MYjFBcPB8A+tRtd0SDzvwjygDjeWAjAHP6MbfdfCcAQSq2vNBoHwPzGIxQXDwfALqZcEPagDcD8xiMUFw8HwPzGIxQXDwfARPVc6fUMB8DUawf7BAoHwFrEDKFfAAbA4PSx2Xi+DcBaRFKGInoAwOD0sdl4vg3A4PSx2Xi+DcDg9LHZeL4NwOD0sdl4vg3A3I3DFd3uC8Dg9LHZeL4NwMKbwQjkeQPA4PSx2Xi+DcBk6NpZjL4NwCy60/8aQve/DxyupWc6BsBkvJeGh6ERwIwTssheOgbADxyupWc6BsAPHK6lZzoGwA8crqVnOgbAbpTHVNAoBcDoG66lZzoGwA8crqVnOgbADxyupWc6BsAPHK6lZzoGwPq3/yJBGBHAhvWSmN0cBMDJj7qn1KwQwHr1kpjdHATAZuGgFgR0A8CG9ZKY3RwEwHBBqiu2HATA5g4ySZ7q9r8EahSvGOkEwGAK22rk2ATAhvWSmN0cBMCf9XJ+ch4EwNYl2VUxjwfA/KaRE9igEMB7Il0dV0cAwKDlUjzYoBDAeO0NUtigEMD8ppET2KAQwPymkRPYoBDAbizKQWZSEsCK62/X1KAQwPymkRPYoBDA/KaRE9igEMD8ppET2KAQwLHaTK+howPASX0gReYaCcAS+BuRSfL+v0l9IEXmGgnASX0gReYaCcBJfSBF5hoJwEl9IEXmGgnAvy9wndNNCMBJfSBF5hoJwIh5TwIRHgfASX0gReYaCcBJfSBF5hoJwEYA65fEe/u/7qhxOLlLCMB9KJLG3VcRwNqP/4wRRgPAvrlb3/yQCMAAnNmmvakJwOxfkqoxJwjAnMSVwK2RCcDcIWo4uUsIwE4kcji5SwjAWKUvoeIVCMAIDxznrQwIwDpWjKnf8hHA3Q2tKYlTC8C1fT705TUJwN0NrSmJUwvAmsesKYlTC8Cmx7Do8EsLwOeE1DVCUAvA05Xqo3dhDMDdDa0piVMLwN0NrSmJUwvA3Q2tKYlTC8AslstNoFQLwKZd+c7BOwrAqGPnzM9yCMBuGSfQi7sQwKhj58zPcgjAqGPnzM9yCMCoY+fMz3IIwKhj58zPcgjAcBM1rsuKBsC90MWqB3IIwFRq4+aszwbAPFk0AXJfB8CuLD+Bal4HwO5tDkLdjwbAku3R5WRQEsBA5ngsa2MnwFpZ7GiQrBLA9NWLEHD9EcCS7dHlZFASwJLt0eVkUBLAkCWl07bw/r9tc2qKiyMQwLjkgWtnIATAL8frxkKEEsBlYawlDUsSwBTQdm3CGQjAaESs5SQz/L+Jkvt2zRX8v2hErOUkM/y/aESs5SQz/L9ZHdYodDP8v2hErOUkM/y/Etzqs0aT+r9oRKzlJDP8v2hErOUkM/y/aESs5SQz/L9oRKzlJDP8v1lLEBlWgfq/3WLYUdjq9b/LInUi8Ov1v+v4B2uHefO/SUL1s75N87/dYthR2Or1v91i2FHY6vW/fXDG2QZF77/aGQTFJsTpv4ls67ksYOG/SlfvWAZq9r9B9N6JrPv1vx8liCLr6AHAE7KkZmAFFMDmtwJGiPoLwBOypGZgBRTAE7KkZmAFFMCgtvJGdAUUwOFSIR97BRTAaEQA0Bx2D8AIsqRmYAUUwBOypGZgBRTAE7KkZmAFFMATsqRmYAUUwFRiUU+segPAM9C7ytiOA8AXHdUm8cwRwPr/6y7Q7QbAUlh7mcGBCcAz0LvK2I4DwDPQu8rYjgPAoK8baKHWA8Az0LvK2I4DwBSZssnYjgPAM9C7ytiOA8BMEZF000cEwHrx9YGNWhLALtotaisHA8C1P61MgkUBwC7aLWorBwPALtotaisHA8Au2i1qKwcDwC7aLWorBwPAYmqVxkMzB8BqYq1eICkDwEbiztIjKQPAQZrsKhkIA8Au2i1qKwcDwDn3eortgwXAuqZTOgmaBMDU4VJs+UUQwLqmUzoJmgTADPzgXLxD+7+6plM6CZoEwLqmUzoJmgTAOIs9HSrjAsC6plM6CZoEwLqmUzoJmgTAuqZTOgmaBMAAH2bMKpoEwLY+oP+f7hbAoj7iNc04EcAphWdI1DMJwKI+4jXNOBHAoj7iNc04EcCiPuI1zTgRwKI+4jXNOBHAgmi9FAdSDsB4/E3YOT0RwNh3hlOuNRHA7D+LFqs6EcC2b0gZvTgRwOrJG/RktgXA0/GLdB+eEcD85kq/+DgCwNPxi3QfnhHA1BVp0MedEcAs2tRPV50RwI6Pn83WnRHAwyaaxJKdDcDK405fzTcRwBu9t4ZqnhHA0/GLdB+eEcDoRyxQl54RwKQ1ewUNg/m/HEEFDbPp+b8hp0qIdDwIwL/2OewdMva/UpuieG51+r8cQQUNs+n5vxxBBQ2z6fm//tGBlPUTBMAcQQUNs+n5v5znR1J23f6/HEEFDbPp+b8cQQUNs+n5v/a8+E3y/Q7Agu+FQvdL+r+ysHtIpn0JwILvhUL3S/q/gu+FQvdL+r+64tYNIBr6v/17H4rl9fm/9CeZrOk3/r+C74VC90v6v4LvhUL3S/q/udm4pDhI+r8oGNo69VX6v/MhLMPYfwvA7O9DRm+qEMA/d3KdN2oCwCTuM2xvqhDAilwLKtR8EMDs70NGb6oQwOzvQ0ZvqhDAFO5da2YhEcDe5LQUnqoQwGKZcnX+RBDA7O9DRm+qEMDs70NGb6oQwDiN/2vhcALAEAKZDFqQEMBmCRplLRoJwBACmQxakBDABgKZDFqQEMAQApkMWpAQwBACmQxakBDA+ZPTVWsvCMAMLaX4O6YQwJicgGIeshDAEAKZDFqQEMAQApkMWpAQwMVC0YrKdQHAqsdCw04PAsCaULJOS/YPwOhQG7ZODwLAaMdCw04PAsCqx0LDTg8CwHwUYZtgIwLAxzeLUaC9B8COHGAbHO8BwJFOkqfkxAHAwnrRdQUOAsARCkTCuAwCwGoJCHjF+A7AEu4D3KyGJ8Csr0SP/Z4iwMScgme52CrATkK6JQib/r9YfOVGTYYnwFh85UZNhifAutGO73yDJMAa0QapCyQqwLYqnMhYqijAEu4D3KyGJ8AvMal/z4UnwDISAjK7NQ3AEGt9dsZHDcCcJYVAM1UTwBBrfXbGRw3AEGt9dsZHDcAQa312xkcNwBBrfXbGRw3AjggnBHbUBsAQa312xkcNwBBrfXbGRw3AEGt9dsZHDcAQa312xkcNwAC1Y8N8GBDAEAlPd8XOE8BgIoOw2soPwApDsHfFzhPACkOwd8XOE8AQCU93xc4TwBAJT3fFzhPAU4SdIISgEcAQCU93xc4TwBAJT3fFzhPAnZJS1XLOE8C6SrqFLs4TwFP6mloCaAvAakhNCkiP+7/iDZNkHR75v2pITQpIj/u//jY7YjqN+788rqVlmID7vwsaQoPhbvu/fgmXBMrF/L9cDE4SZJz8v8WWo3yGrvy/akhNCkiP+79qSE0KSI/7vyiwvs+z0fm/YuKFmINr+b9t0ybQWDICwGLihZiDa/m/YuKFmINr+b9i4oWYg2v5vybpHu9uxf6/KYSj6D+HA8AWt4KYg2v5v2LihZiDa/m/iAPHDRNL+b/oKx0Co0f5v9rgUcwMGgnAkuDuQKlcE8COnyQdJGASwLcu5OxdGxPAdJat5d+GE8CS4O5AqVwTwJLg7kCpXBPAGJ2A+8w6DsCS4O5AqVwTwJIxL/g1KhPAkuDuQKlcE8CS4O5AqVwTwACLXMawxgzAWZKCowMhDsCRCd7N6EUQwFmSgqMDIQ7AWZKCowMhDsDpe+52yScNwL6eM/5TJA3ATuEV+1drDcBZkoKjAyEOwFmSgqMDIQ7AWZKCowMhDsBZkoKjAyEOwJMYId7pKA/AMso2UtER/78o28fZmIT4v8qdA5TPEf+/uQ7IU9ER/78yyjZS0RH/vzLKNlLREf+/Dvpbrj+jBMBhEt+5kkr8v1ScUAJTPgHAMso2UtER/796CHxGNl3/vzJlQWzj6wHAjKK8dclOAcCOs4k2i78JwCX0FIOxEALAHtYcnLiGAsCMorx1yU4BwIyivHXJTgHAOJfkkzy3/r+Morx1yU4BwIyivHXJTgHAjKK8dclOAcCMorx1yU4BwGfBKXAadQjAy7nyACJ9EcASSbiuotoFwMu58gAifRHAy7nyACJ9EcDD+q4PUTURwGjdEtEPMxHAKhU1TcEhDsDvr0w1n88RwCtnTzjY1RHA7qPk/ul8EcCLGOgryHwRwC07dUF+pQHA4qVqe77xEMAG/j2K29EIwOKlanu+8RDA4qVqe77xEMDipWp7vvEQwOKlanu+8RDA2DFL3xInDMAf/DpukPEQwAgd6APqbBDAFKLgOL3xEMAUouA4vfEQwPuI8HbIFfq/kK7dFgw6+r96ZPbFqhsQwJCu3RYMOvq/INujhpu08L+Qrt0WDDr6v5Cw1XcVfPq/q3dly0QcBcCQrt0WDDr6v5Cu3RYMOvq/kK7dFgw6+r/6rT6+ukL6v4v5HmViFhTAIPPnxnyb9r8Wb2K+UCQNwCDz58Z8m/a/YMG3PNN99r8ymjcXrYz2vzKaNxetjPa/OFKqLxHZ/b8g8+fGfJv2v41Thep6m/a/IPPnxnyb9r8g8+fGfJv2vyhCMLBVdBDAQlRKIDjkBMBP5PvFo7n5v0JUSiA45ATAQlRKIDjkBMBCVEogOOQEwEJUSiA45ATAciWAmbuVCcDGRN+Kv3YCwDT/OnGx0RDAQlRKIDjkBMATRQnI2ewEwPqY9gMKCAjADdxzIcDND8BENCXYwYr9vy5EsBbGtg/AJ5C9l5vGAMAN3HMhwM0PwPTdSBYaLg/AYehjCtNzCcDsO2nYfM0PwJP54v7JtQ/ADdxzIcDND8AN3HMhwM0PwJz7j0LMhBXACC9n1jCOAcB2pv6aApkHwAgvZ9YwjgHACC9n1jCOAcAcpfWuWpUBwKtGT1KLjAHAZiJH7bPKB8AIL2fWMI4BwAgvZ9YwjgHACAeT0MaaAcA/x1Bvo4UBwKdI7jOJ2w3AvIW97NniBMCL+I3Mbnz6v/vKrdXx4gTAj64Esyu/QMDO6kVZwQwFwIhwP3CWzATAcrLPI8jEDcC6hb3s2eIEwLyFvezZ4gTAvIW97NniBMC8hb3s2eIEwFI3EFZOdwTAqWtjwEzKC8DZprnq1qMPwB9LKtSTFvO/0m9jwEzKC8Cpa2PATMoLwPyhewOMFA3AHm+o4+bOA8Cpa2PATMoLwD5M6xCY4APA2IXt3T04DMAUAiiAiYQLwOmjHIgdDwXAyu9w+o6eFcAI2pdcl3wSwMrvcPqOnhXAyu9w+o6eFcDK73D6jp4VwMrvcPqOnhXAPomE2scvE8AGQAhV75YVwMrvcPqOnhXAtGYeIu+fFcDK73D6jp4VwJpXUb58uATAmlGEs5wA37+s76bQNfH3v0JOzmtmxd6/NiwKwf8c+L+aUYSznADfv5pRhLOcAN+/Pb9xX5Vk2L/6FTQ6DL7fv8YSdZsOwN+/mlGEs5wA3790hOH5zQHkvzzY8dY1kAHAfAbdZqYSAMBYSwAjK54GwHwG3WamEgDATHuHC4Yl+L98Bt1mphIAwHwG3WamEgDAuWr4rGsMAsB8Bt1mphIAwCKjZieVAP6/+MjpRmmx/7+TLdg33g8AwD9GW1EexwbA7giqc4jBEMBfpgR+V4ENwJTApESAwRDA7giqc4jBEMB9mesz9LgQwNdwSNruuBDAcYboFOVhD8B0AZvk/oAMwCK72iuexhDA7giqc4jBEMDuCKpziMEQwGLOiIb+DAvApGP52JFpCcAILPFOdbkLwKRj+diRaQnAQbEkNIZKCMCkY/nYkWkJwKRj+diRaQnARFGyIQpeCsBWQ861kWkJwFia0LqRaQnApGP52JFpCcCkY/nYkWkJwExWnukjrgzAH/4pA1v0DMBWhOxG88UEwC5tPsiL9AzAP7yiipb0DMAf/ikDW/QMwIJvdTXD9QzALvO1EWT6BsAf/ikDW/QMwB/+KQNb9AzA+Fli/130DMDwM9osmfQMwL5yY5Zsxv2/exD81U8QBcDcwAjdPYAJwC5u2TVQEAXALm7ZNVAQBcB7EPzVTxAFwHMCknX/LgXAqiRK1SrDAsAGPc/DXhAFwA4+PcteEAXAexD81U8QBcB7EPzVTxAFwHxJghxSTwfAezBnoLcvB8Ce1iQIPmTuv3swZ6C3LwfAezBnoLcvB8B7MGegty8HwHswZ6C3LwfA9NFDeX1ID8B7MGegty8HwHowZ6C3LwfAZiuKt4AlB8AKlLZcXNcGwNMBXds2DP6/xOOwiLkYCMCymy1Ch6D5v/0AouWBFgLAteiZDjmTD8DyKKkBiDIIwJ/rxOQCDQjATe/QQBW7BsD4APDS2hkIwPgA8NLaGQjAMLAkuBEaCMDE47CIuRgIwLlpAUewWgHAtWxh/4AKAsB2D9w0EhATwLVsYf+ACgLAtWxh/4AKAsC1bGH/gAoCwLVsYf+ACgLAUHxTgBrxAsDEBBUpSQwCwEcSWRtaqwLAtWxh/4AKAsAoo8mlYAsCwDq0xYApzhPAFDRyJroHI8Bb6PJkrsEUwB2s4KaLFQDAQMUUlFBgBsCh6S+UmeoiwBQ0cia6ByPA2KL+BRvGJMAvMLMLPgojwA7W7HhpBiPAdEDf1b4HI8B0QN/VvgcjwDycmjgynBHAFkb/KLFHDsDoGO+9KtwGwBZG/yixRw7AFkb/KLFHDsAWRv8osUcOwFuwGo6TSA7AiLoyYnjIEMAWRv8osUcOwEbIOidpRw7AFkb/KLFHDsDAy1M2FUwOwKhcAjg7HwrAlQommipDC8B0A2Gpxxn1v0o8brUiQwvAVnYjYytDC8CVCiaaKkMLwJUKJpoqQwvAa2vB1SZ9C8CVCiaaKkMLwJUKJpoqQwvAlQommipDC8CVCiaaKkMLwALsuKpLiPW/SPEFWHfpA8C3MX9Ei8MLwEjxBVh36QPAavQufUfcA8DyQJ6WeuMDwPJAnpZ64wPAkjs2p+04BcBetVLJ0gb8v3Dqn+G+kwTAHK/JlUgmBMBI8QVYd+kDwHCoriq0xgzAwqPvSGsCC8CAPM89YLMFwMKj70hrAgvAwqPvSGsCC8DCo+9IawILwMKj70hrAgvAJDr3MhdIDMAEgpDmJQILwMgNJxnYggLAwqPvSGsCC8DCo+9IawILwJhEUcw1nf+/Yq5WFRQICcCdIDVvKs8LwAIQdreyqAjA4vJ93jFhAsBirlYVFAgJwGKuVhUUCAnA/lHso7+TBcDfyIQFFwsJwC6V34H0GQnAYq5WFRQICcB0SL3+aA0JwM7W7fiKgfq/Nijm7iFlDsBsAQOdTgMNwDYo5u4hZQ7ANijm7iFlDsA2KObuIWUOwESV+E/4ZQ7A80pV81NUEsBQKObuIWUOwDBM5e4hZQ7A/XIRfQTeDsDqORKsbNcOwO3yZoZewxHAHN7FOf96AcBc+jNlO3gHwBzexTn/egHA1aiwN/96AcDvwRvmJ0b+v8x/XWiWA/6/I2IELDvG/78c3sU5/3oBwBzexTn/egHAHN7FOf96AcDwLarRxjsCwNqwS+l9YATAK2JXBKJe+7+MXN7Jp5P1v7ZF5NKLSve/tKQ7ukxo9L8yVMvnCHHmv5CZ/D5CuPy/GGN0R2Oc/r90MbakD4YBwC48QUi98fe/qNSFRaV4C8DpXX+tFRrwv+u2rHP93QLA0hnKpCUoBMBm3qmy8z0KwDD9G9j8HQXA2VOKWvUUA8BC1SUhHJDkv8Y1hUkWlQLAC4xPGz/jEMDvQyJGTJUiwGpITQpIj/u/Bu4koB6OB8A7BBUtpicAwIssBby6++2/uO83UbDa+L88Grmo0ukGwAK0HAtqUeS/a4HiDJDzB8AagkU3YUb+vyg3yG+V8/m/ZMdhPPCCA8CKe+XBm9oKwOp487bZE/2/vB4iYFDK+r9g+g9v3asHwGLRDBI8jAvAdkMJZ3EQCsAApgXaEkDwv7bIjKt31wDA0gSOmvWx+b8wbBmjTZ//vwIUvjQe+P6/HlCK0+wcBsBGUceHYL8EwGLzw3jZxf+/TVoPdVqKAsCUyQ5SL+b2vxKMQfGSBQfAfMik+JYRCcBGTVq4nPQDwFxQ5wPcO/y/60dxUX979L8P49Rlckn7v96rjwSHjwTApDtSZ8sOAsDm5m6KPkEJwFa7lAKB2fi/94pKbE0+BsAPHK6lZzoGwJzOc91nBgXARsQmwLeSAsAX73CJIcgCwN3mHcfLSgrAOnXKJYgZCMB0MbakD4YBwHJoRu/nUAPA9M4aSDJbCcAyzf0oBUgBwDzVTTfp1/i/INoGvSLTAcC8JF0L9bH0v5aYg52M4ADAOTQE1GEhB8DJgl0kPqHXvwomf1tmlQnAGFApPAyOAcAqya3KqNMHwM4DzNFHDO+/6hTZAxNw+7+rxjLPDgkMwICjIcfLSgrASZs6CVnWCMDMTqq+1ocQwMq2QpDAkQPAYuKFmINr+b++cmOWbMb9v55wEcXRIwjAGIW4E3YsA8CWHC4QbicAwDf49JWZ2vC/UU/PuWXdDsCai2oOjAkAwLiF1KDFSgbAf6q6jydl/r+O8HHIicsLwMN0p4EgZPW/lKt4tEBZ/79cJC20aDYJwCv36monFgDAUVzr9J0FB8B65ODMoW3+v7wmZx6sVQ7AxCSUobLp+b+Qrt0WDDr6v2C72HYZtg7AhuIdVf6fOcAoOxzoQn33v/Kw7scXXPu/MLzzHKNTAMBOWs95qt8GwBjtfJB9kgLAqxENCcghBcCyZOliaXEFwMyhH0Y/GEDApJwTSthc/7/iijrGgGgBwAxFAZR1SPy/GmyT54ZBEcCIOGJmhG7/v7piwzQA9+2/w6p4qotX/L8LGkKD4W77vxM2jCcDzPy/rDnboXsh/L8yEPcj3J39vxoa5ZoJzgnAquJb23cx3790gpv+VFD/v3YZqLBYawrAvV0JqZLD8r/ShrQYbQwKwKfGsOQ7EN+/KBRKiWA3BMC0EgjsDhb4vxgQnIXdZQPARbo86UpuDsBseXh4HYUAwAzBr+v20u+/kftGNy20/L/W9IDmPrXWvxzaVyX4eATAm14YzUUV/r+uuZ3EC4ICwHMhiKb4YgnAI2IELDvG/7/q+2/2ilQDwPHG9IUvwQfAtsiMq3fXAMAuB/oMiIICwDLKNlLREf+/HIWSBSO++b9O+1TdWc3zvw5esqr03QPAZbu3CjuY/79A62+B0v3uv0YdxrhGPwDATCXBRUyp/L/Ee3IKStsMwKPwSltSVgLAHEEFDbPp+b/ogw3/+M4EwB/+KQNb9AzAfgmXBMrF/L9yfnLZuSb+v+drvFUaigPA6vguMNH2CsDSJG/qNb/zv4CklvdZLvK/KVO/R8tS+b/wv2l9nlL4v+yLCHXcKgTAkx4AkoOvBcAUDctUeaX8v7gjLbRoNgnA5Pg7HNHWBsDf/vMhhXYGwBiJzClgnwvA1cMth4SxA8DPz8j/EbEFwB598i9bNfe/QmxSv43V8L9Es9awVSf/v9XNttf2hfu/NXOhP+yMCcDysO7HF1z7v1pEUoYiegDASPEFWHfpA8AsTZIgLp/4v+raSzMJAfy/iQfa+Uhl/7+SLetD5UYAwMgaYW02RfS/2hkExSbE6b8icGgDKY/5v51JYXMPoui/kvr0rl4QBcCEwvEICW4MwBp3V3MAaSrAsYHPy8uIAcBuudaeba7jvxtpRrRxgAHAGlpLrK3xAcC93GRuJ0sQwBZmGDndd/K/XOP4WmCRCcB0hOH5zQHkv7IGzfj6C/y/sCyioN81+r/KYMBEvKYBwFiJaAUo0SjA2k7tjsfz+L+cJdJHYmEHwBhgrYaOlty/9oUA+wQKB8CFo7OrRUv5vyhAzghD9f6/iDSWDRIDJcCMIBKNNjvwvyzfXz7uhfy/4vB3kAllAcDKMB1YY78MwNgxLhYQ3v+/L8cftGAHA8AApsUVrOv6vzDLXQdEJQLAnnbekApHBMCMorx1yU4BwDqP3RQUlwLATZ+qxbzK8b+pGBaCpXPzvwCG8xA79RTA3eyafd/C/b9JYb11RzEAwLQO6tkyu/+/MjfL1wb4CsAodWqBWs7/vzA4a1jkD+W/LxRsqZzI978MrsW/ZmAJwCg7HOhCffe/MbKU6cn5+r9XgW6d3hkDwGA0gtpsrvy/8C2q0cY7AsD1+fHTFdn4vwMRvAwC3w7Avpzyer7SDcDmOnaNrOL8v45GMHimo/y/wXweYuq0/b9OSTo9eBIFwIf6My7rLQDAgsQxZ5qdAsDwfalNMLz0vxQNy1R5pfy/YBrvUleMA8ARIZ8uGin8vy5APBpQyQLAhO5ZZp1O+7+ECJHJ5/n2v9RO+Plq/fe/2WBvnVDOA8BUWOCKijj3v3WovtiLdQLAwnDt8jvi4L+OV0AVIBAAwOT4OxzR1gbAMHPuINXD/r/0rNWsL0wGwEjxBVh36QPArhLDattM+r8oOxzoQn33vxCrFsssIwjAGZStUHq/8r8mzQDvDFYMwDIIcs4vMgbAemLnaIZH/r+eNyrxWXn+v1xR3Vsiffm/Ivv8L9209b+gXTjfibkDwI09Dt7we/W/PFk0AXJfB8Du9YQMoAMDwBjH+efdVfe/WfEc6tp1AcBBuQkLxor2v99diJg7xgfAyhHoEMzG47/Emi0aGovvv/B8lBIzSALAiIugfN+gDMCwfaBnFBT/v9itQmfdo/C/oj7iNc04EcA2IL7oSrP5v9qlnOap/wXAvO6lyYDTA8DEhyFERHX/v5bVO2D9SxHACwo7Y+oF8b+WT+IKe+0AwDKaNxetjPa/6lj3StvZ+78iHKLe51L7v3Tfgh0+2v6/8rDuxxdc+7+x9uhg/rMJwOvx/427ZwDAmH1+PnHMDsDQ0o7hua36vwwtOs/LJ/q/KDsc6EJ997/3YBvFdPX4v3SglPH5B+y//DLPRH91BcAhYepCUeUNwEiT2uxrPgHAhGXDNAD37b9qSE0KSI/7vytcoACXWQfA9uSKKIV0AMBi8JxzSiMNwLZZY+t6XAfAhpeDnYzgAMBYSwAjK54GwKCZQYZve+C/tkZtrdJX+L8YicwpYJ8LwLCDpEzoARHABGoUrxjpBMA2/8r8QEMIwH6dfpJtOAHAbN6lJCEkBMDxjRfLixgLwO5/bGJy3u2/Fcx5oYG+CsBwoJ3lhV0LwDJ6lumrCPS/iz6QAL+qA8BCpcpVi08LwJLI7zNHugPASrLNwzBqAsC5rqCVqtEQwGIS2I+GKfu/yzGhMlBUAMBoRKzlJDP8vyJwaAMpj/m/au/5jX+6DMAYqur0p8sHwJCftU7ncfG/8rEn4nK+/78eZ7BInM3tv86uiu7NUfW/hvsUTnbnAsBkVxBGRGYIwNMLUXvy2QnAA7NxAsWl97+AoyHHy0oKwFKsYsl6cwDAeizb7UpR9r+3GAaNHrMFwLZyhKWDHAfAsXHzhporCcCsHvkv/4r/v71I8/OjhQ/AxMq3/k3o47+ai2oOjAkAwBa3gpiDa/m/FreCmINr+b8Idu0GYzvwv9bWf9LCXwfA8nFBXYwTBMBgG32pCAX8v6utcUmTCwLAfmF2PjFk/79wPsxDi/IAwBRgVIgkegHAXCQttGg2CcAbS8dNjCkFwFyfxll4HwLAHLKveKcDA8DlQZzBKAz6v+xCkgz/5g/ArWbpUleMA8CXEZm2pNkDwEXcfIyuNPa/3WiC0kPD9b/uVB1I0+cQwGoqoy38LPe/SlfvWAZq9r9xjUpzIP4EwFbHx90VBvK/GLwjj/SE+L8jeyCpzs0IwKtHlA264f6/bkfLLnkOAMBASIJgjiHnv9MqV76cZwTAakR6JkESCcDn5NgSd98BwLdJwT/lLdm/jMmeofMR57+gipTKyckBwIrIOihcy/2/poG4TKHZA8AsHX7KxzUMwDLA1DgFcwvA6DopkwVU/7/wCf2cxI8AwMV27QZjO/C/cLqlvtwoBcAVbcZvlzcBwLjeF1eYnve/VFCaQWw5AMAFb6hvIzP/vx5Por4X8QfA5mzg8O7v9r8eehgpBGMCwAxYLmbftg7AHLF0QCL7CMCG8vt7PeTvvw5VzVCzSQnAOFKqLxHZ/b9YZY9hZoj/vxoHYg9y0fm/3sJjcIWz9L8zZ3qlGDIFwHYITgiIawvApxi+w0kHAsDVqLA3/3oBwEU4qFF5RgHAalprnn75/r8cQQUNs+n5v/bv1F2rEQzAzoAYYmnqA8AQPtRt1SQEwKEECDrcWgPAMK8H1T4B7L/839Iq9r4OwNnV5Bs8JgXASOjUTGrQ/b/aGJulEfb9v9BkF0VBDv2/qlp/+N1cB8CMV/WIAPbvvw5jtDsp7QTA3yCjNe6K/L9M8KQTUOv5v5zElcCtkQnAmlGEs5wA379qSE0KSI/7v6sOHi/0uAfAIO5UtP7+DMBjmQXrqSQBwJwWyWMz4QHAGvG69QxlBcAEaxCr9oP6v9SaFp7lSQLARLHw8iwYAsA+Wmh+hS0LwHwc71JXjAPASDhsigeDAsCeY7QHS9cHwDAW9LeH3fa/0BMYmhpyAcBoRKzlJDP8vyIHeI6oKPu/xi2u12Wr/L+HYOvNn2MGwMZ8sh00EP2/FmDhBqDeA8C1ioebmrTwv4ls67ksYOG/AYgBxZIeA8A2Dv5nCu0cwBN3MT+qYQDAkSMq7rWW9r/EE6jx9MkCwIlNGPKwEPm/dgKUlbznAcB1jL4wWUkLwFbbeBtveP2/3CvmlmfcCMAbittg4VsFwLri1g0gGvq/+6dbBWALIsBYJxav1tYCwHwG3WamEgDA3WLYUdjq9b9x6p962Gb6vyxNkiAun/i/ZLn16X6qBcBJYb11RzEAwKplK3M1NgXAdmYNQSCCCMDqeGlk1H8HwIZSKEAl1Oa/OEELH9ZAAMCqnwE6+EABwCFzCC4m5fu/sJIS8ytI/79Bsww8hYsKwBJXeF9YRPC/Ms39KAVIAcBi4798tzQEwCD1Cf95zuu/UGhvdT5U+b/KEegQzMbjv6csbtmlxxHALPnmCcfsAcD4jEojISD/v3SE4fnNAeS/xXbtBmM78L++yR49atD9vyLg8N6QfeW/ocYQuiP1AcDTALWMfmD1v9b0gOY+tda/Rdx8jK409r9I6NRMatD9v9TyN1Gw2vi/5gW6KTTKA8DCkx5lGfD0v8TIKiFIHwHAmP7lRg2GAcCCN1uuYcv+v0tuuseRIPC/bgDGb/cs97+8BPP472v8v6LQ17IDY/W/T1IhvY+88r+6MAlpPrESwIRtZhA+Lfa/vCb0Zq2V978c70GRQrICwB/VZ/OZBPu/6sKKWpOM/7+0V4NByFL5v9itQmfdo/C/MihGRpgC67+aIEALXxLxv4wgEo02O/C/iU0Y8rAQ+b8S45jxM5P1v2rPD4xVPAbApIrBDLvZ+r9R2MK/dSD5v+s9c2sbEwrAHrMT3FIaFsDSF+W+Nhn2v6NA5FjmBwXAGGCtho6W3L/SBI6a9bH5v/Kw7scXXPu/KDsc6EJ997/i8HeQCWUBwMZ8sh00EP2/Ms39KAVIAcDysO7HF1z7v4UNSm49MALAVFjgioo497+gmUGGb3vgvygDYQS3Vfa/CuRXYEDE+r/0hV+OmDn6v9DSjuG5rfq/GLlBL/9s478yepbpqwj0v7QO6tkyu/+/DxyupWc6BsALCjtj6gXxvyJwaAMpj/m/7vWEDKADA8ALCjtj6gXxvytcoACXWQfAyqyJz5GO+L/uLG4iOS8CwHos2+1KUfa/YkYirXtq7r+gipTKyckBwICklvdZLvK/mAQ4DjC86L+Qn7VO53Hxv+YAZJxO9AzA4JkyvS31/r9w7w5QVN38vwxQWYMFIPq/mlGEs5wA37+aUYSznADfv0G5CQvGiva/7up7A+1+4r9itc8/J1D4v4jBTQ6nsv6/ECJwERhD6b+wbk+bzoYFwFyfxll4HwLABGsQq/aD+r/sYfe2nTcAwE9SF3WEkO2/WAGRqaKw/L8lhY1T4PEAwOTsLgacbg3AYqSHrzA18L9K+fIzh6L0v3Ar7BHh8fu/IfhFwV/9A8ANHCyFYdYBwJ1JYXMPoui/3sJjcIWz9L+kqWkJkFcbwHgrbYpxZ+y/KB0pzzzV/b8akwUyvyzqv031wqb/kgPAaA/R7Qi29r/Eyrf+Tejjv4wgEo02O/C/OM65jydl/r/bDXJJkwsCwPzWMIai4vy/0BZc6CyQAMAMRQGUdUj8v51JYXMPoui/LcI4vx6iAMCnR6BJ5cMBwK1m6VJXjAPAvCZnHqxVDsA4UqovEdn9v5teGM1FFf6/nBbJYzPhAcDdaILSQ8P1v8TuItDKbQjAPgxavLMm/r8yBCDxX9Dwv64qby+jmt2/tA7q2TK7/7+hBAg63FoDwFJQWK9Bs96/0iRv6jW/87+oKDRMqs4BwA1qowLvDAXAbnsF2T4i+b96eZbpqwj0v9CiapjMNvC/F1npmHqq+L/eRzTMKykAwKzkYr+3EOe/awI8RcNy8L9cUd1bIn35vxa3gpiDa/m/GLwjj/SE+L/N5nbGC6Lbv65j4Ep8p9e/FA3LVHml/L8yzf0oBUgBwAPjeJCKCC7AP9v+Ul4MCsAcQQUNs+n5v+UtMkT/7fS/NrvzdhKkAcBKZMypllX1v0iCHJk+TAbAqoEHImE+AcA3rX+cstvqv4PopOQD9fa/cY1KcyD+BMBA62+B0v3uv0B1+4S20QTADp1hUjMCA8BMkNF+FzoJwK5CY2dSmP+/Hk+ivhfxB8CECJHJ5/n2v9zA4JrXguq/26ufyiKN+r8ARebCRFTkv+y+5ah8z/K/SlfvWAZq9r98HO9SV4wDwOL4ETKGTvS/JGgZdGrd9L+hQTWwjET4v2jOTypTaOK/GwdeN2NT+b8SVeQspmEDwC1MsSnHave/kcZ7WtHg879zYVzEEkwMwNi4UatPSPO/uVWdX14i8L/6NUBPep7fvwTwW95M7gHAjU/45Okf/b+gXTjfibkDwPKw7scXXPu/oO1QQ7uY+L8+nKeBaa8AwD68r2pVq/u/8H2pTTC89L+Ew2QzYYX0v5a1CmT4v/O/CxpCg+Fu+7+T0AqBsyThv/Txm2ck/Pm/5/G7eSEf8r+2Xq57Xmr5vy/HH7RgBwPA3OdwnQ7A378RF4ru2A3+vwzBr+v20u+/7N83RSUI978X73CJIcgCwK65ncQLggLACCoOpQnw/r8XlxpE+V/wv7xv8HF+Ufi/0Mvq7qnk/b+3nMVMNOsCwJDRMJN85wDABGsQq/aD+r8Mwa/r9tLvv8mCXSQ+ode/dKCU8fkH7L9Ba3mdF6kAwBpVNufMmgHAwKvPv9KZ/L9+CZcEysX8v6HFkqzqpO2/XaNLEK21AMBLi+IyiRTyvwItgWpah+i/alprnn75/r+2ReTSi0r3vxwlF3onoADAIPir4lT35b/GLa7XZav8v3z2UeQT9QfAyYJdJD6h178Idu0GYzvwv61m6VJXjAPAyBphbTZF9L+0pDu6TGj0v7WKh5uatPC/kIuzUhCu3b9YN+Uxt432v7B9oGcUFP+/MAJPuw/UB8CFx6D1+PHvv13paT7Cwf+/xMYvb3Gi+b8fvsPVuXwAwPcR+NyocfG/jUVVapEWBsD3n35jG/T7vyTFqgzY8fm/Uadiv50TA8AwFvS3h932v9jkaBifIvy/2jmvFISuAMAHzhqAkCH4v+2sEp2Z0+2/3eyafd/C/b8SjEHxkgUHwM5wt4o3xPS/VpKNDn2C9b+G3mBp6hUBwNlWYK1BGAbAFFKftF+s9b/21Snl+zr6v5JmW0mVQ92/jTbeZWXv4L9UWOCKijj3v4s6zNEJOPW/9orrWekjB8BMFWvuE28BwIqhymFXofq/5nPKFTrpAMBllKmb2h3zv5hPt/E5I9q/QSQiOWMWBMCWjW4pvCnvvygTHYwnevu/fosF+nh5PcBMQL9+6g8CwAzJZQLI3wHAHnoYKQRjAsBIk9rsaz4BwMV27QZjO/C/PjvyvwN8+L/unKaEc6r/v58dAwMjvvm/q0eUDbrh/r9Es9awVSf/v6tsyoIhAwLADZm3aQA65b8eZ7BInM3tvx++nvdYYADAiPvk+AT49L8ewed6HrnwvzZJ5vMmFRPA6lMIeu3+8L/85goy4c8BwKyjgl3uSRTANg7+ZwrtHMCApJb3WS7yvxi8I4/0hPi/jFzeyaeT9b8/OCPXIx/+v3gPQjH94uK/nnbekApHBMBCbFK/jdXwv6iMmDR3cdy/uku85tnc+L8a8cHPCUD3vxLOW83F5PG/eSnJKeuM/r+GvATwcpoMwMQTqPH0yQLAzLMNT9+7+b/b0nAhx8f3v8BRJktw3vO/AYgBxZIeA8D1UWURWPD0v+hmO6xvvgLApC/QOMYGN8D+EAfb8IwEwFw3l8VIFgLARTioUXlGAcA2NI1AY4r3v8N0p4EgZPW/w3SngSBk9b9xN3iGm7Twv9r/tjRXjAPA+nnCfmkXBsDZU4pa9RQDwMbDYbuvZ/W/f0vpINax/L+8vzYbxgMDwICklvdZLvK/A7NxAsWl97/+wP9Dvr4AwHzYVrwxRPm/TivCioBB8L9C59zWECb9v5g/nZchfvK/KDsc6EJ9978odWqBWs7/v77SK62WHADAGyl8o5qx8r+kcOWjUb70vwkDwnQdu/S/h+/Itbrz+b8QL7kAKQAEwBQNy1R5pfy/sCyioN81+r/mSIcVWe/3v9jiCcGG7vu/4i3zQ8YYBMDIrOHEXIfwv6jrjpAE/wDAsmTpYmlxBcA3MF2JXqP5v55WzYRWfve/Xril/9/G+r9WtLrVUP/nv5R7g0hnXgnADpgguBRK6b/MwULe/4P8v/0AhjCWzwDA6V1/rRUa8L/Q0o7hua36v0Dgv3SSdv6/g5lgAEHp+r/Jgl0kPqHXvyLuK0Tcmv6/FTqpKoFcBMCuX+oqx97jv6CZQYZve+C/GMf5591V97+sHvkv/4r/vwsKO2PqBfG/jFV8JAfjAMDURozBHj4AwGwKT4aSCwXAOo/dFBSXAsCGYvtK1UD5vy8E/gYg3PC/cKmRqKXS8b80V636cov7v0T/QQfO2gPAxkMeLArVKMCWyjoGT58xwFpMQ4UF6w/A0pbLynaEAcDM7TVTlCgAwDGylOnJ+fq/InBoAymP+b96LNvtSlH2v9Lcv7/tZAHAlk3Uhf8Q+b9WZugwX4/2v9b0gOY+tda/VFjgioo4979zFcNNT771v6kYFoKlc/O/+rAfb8B99b/SXwJcubv2v9LhXhRRwPu/QzPG7Db6/b90gpv+VFD/vx56GCkEYwLAK2JXBKJe+7/Emi0aGovvvzAW9LeH3fa/2hibpRH2/b8wtXRvybD9v/ybAXle4Pa/HvVEvtt1B8CQGr76Cvf9v8b5ZiIt5vW/LIa6fc7w8b/DdKeBIGT1v+drvFUaigPAdai+2It1AsDOA8zRRwzvv+7VgQ0zTfO/jeb5t+d/5r9JYb11RzEAwCg7HOhCffe/wnDt8jvi4L/GfLIdNBD9v8ZXhqWCmv2/E0w2CihFAMAZlK1Qer/yv2651p5truO/uO83UbDa+L9BuQkLxor2v1ddL/NSlvq/rtKJcjQa/L++uQxFDU70v6nAg5jRMvi/2lSnPaFgH8DqGYXDi5nivzLN/SgFSAHAVFjgioo497/cz0ics6X2v9KHdSrScQDAWB/9OAQT9b/UkB+X7vP5v72WqdLKwwTACLk6KuAu978wvPMco1MAwMmCXSQ+ode/LZ6P9a65+7+6m75MhiD1vyJFdbiPRALAvWUKMtNRAMBu4ueISKb/vx/gLqQPVvG/MHPuINXD/r9gG32pCAX8vwypADu/AwPASOjUTGrQ/b+RIyrutZb2v5cRmbak2QPA6Yhk+eZ09r9WW6dBGhbjvxyyr3inAwPAnUlhcw+i6L9yYIdkYlH2vyDbo4abtPC/AAd1d0QXAcDQkhZkvcvzv/qXLrTtjPi/QtUlIRyQ5L84r6c66gH6v5tx7hiScv6/2k7tjsfz+L/LOcKd9XAMwBp3V3MAaSrA8H2pTTC89L+NPQ7e8Hv1vw/j1GVySfu/anRDsZJ1/r8QvlVMkoVUwDg9du87pPy/dxaYKz7X97/MK+SfMOT6vz43c7F9PuK/pa+IeNy76L8MiWjeQE70v4b1kpjdHATA4wKpF7Jc9r8yzf0oBUgBwPX58dMV2fi/mFE986kv+78T04AvsI4HwNCy8rhcYwrAVjJGIL3D+7/Jgl0kPqHXv5EjKu61lva/qIyYNHdx3L+aUYSznADfv31i2Luo4fG/xWWD4lvc4L/SF+W+Nhn2v2Yyt8EHjQTASIF3UyRu6r9SloXeP8/9vz43c7F9PuK/OhztOFEz978PcRV98/Hgv6FBNbCMRPi/9qrv5UEhAcB6LNvtSlH2vxIxsrr3vu+/HRG6+dZ3779L+g/2UDDlv32+mlyZs/m/pQLhp/8P8b+ml2Y2SST4v3SCm/5UUP+/qoEHImE+AcDKEegQzMbjv6a6JZePUey/mFiUchEw6b9dUfxtbDcEwHD8PTsZYPm/AmMIpgtq779wLk8EB/fov7Rr6lziMPO/EL5VTJKFVMC8b/BxflH4vzpHdckrwfy/yCp3XLGm9r8QInARGEPpv8Jw7fI74uC/sP4h0wWh67/5no73D5Xyv5OeMhM/VPm/fmUqAS70878bjrA0zTUCwKR/1AO2Kui/X3Eg7sC08b+vcFQI7nn2v9vScCHHx/e/1vSA5j611r8zFKDFehrpv7K0045QFOa/QOtvgdL97r9I6NRMatD9v/mGIqVRJ/K/qp/bvNFR+L/ndiJV56fwv8LHp1X4thLA2qu5u8p0BMAkYDS4a5/nvwyyDS8b/hDAgucPYnRw778MBbG2LnDhv9DSFcSIR/K/cBoRDGD//b88u0WTH2z1v7SE/4rWROS/54/I349X479i4798tzQEwAsKO2PqBfG/3JxDkVFF6b+SIaTdobL7v2yjtR0bbPG/RrPAI7D++L93aaVSJtj5v6hjEUPPQ/u/NzBdiV6j+b+H78i1uvP5vxSqOkWE9Ou/Pkj9Uek38b8caClBnL8FwFaGo6VhWATAsWO7cjAv/79MaOx40MLhv8N0p4EgZPW/pHDlo1G+9L9ZgT1gqXAAwPTm7inlfAzA/mVbtJMs8L/yEHhTSV3jv7wm9Gatlfe/8rDuxxdc+79xN3iGm7Twv2pkuNeNXda/yhHoEMzG47/GfLIdNBD9vzYsCsH/HPi/com61kl94L8kYmgy2JHgvyuz0DTj+fi/ad+DzyUtBsDllKRa+ZcAwG2ZfHnDLfS/HkzcF9i/AMBI6NRMatD9v5AavvoK9/2/VaDaCYv46b/WIXrX0foDwMvzPYi5WfG/jjzqEUFS8792/OfpejsGwET/ugKw6vC/XnUYNIgu+b9fkPkkWXLzv+UIN272ePG/nPkoXsJw/L/2DCf8dOQAwKjKmTZtXRLABTEMmK29JMAKALRih5IMwBcsU0+vAfO/KE+46HAD9r8ujFxuya79v0r58jOHovS/8mFkzGVk+78YojOEgPBmwMoY82aBUy7AXHZfhZFG87/WZyJfKPDwvzqn7wm2R++/w0Zh4bbq8L8u1ROnThjwv765DEUNTvS/qCg0TKrOAcBWW6dBGhbjv1Zbp0EaFuO/S4viMokU8r/bq5/KIo36v0pkzKmWVfW/Hg2bKUbUGsArc+oycTE1wDS0atUBmv6/xaWeoxC8AsAefckHc93hv1C5CLtXhty/uVWdX14i8L+WjW4pvCnvv5gEOA4wvOi/fpH3Thiv9798SUfJHHH+v9b0gOY+tda//HZ/pUAm8L/ID4d+J9rzv2q6WK/1lvK/+KpDLm8487+k+TBMbiHzv0pX71gGava/QC8EA1c67b/u3nolkq3mv4/vuKjzZ/a/Q8ng3OYeAMAi4PDekH3lv85TL2lBBQDASP88jkSs9b+iRe45YKPov1yMLhBel/O/NmY/lTVq7L/5k14PkFP2v0LVJSEckOS/Ms39KAVIAcAdUF9M7cbjv94jbwd+r/q/Po7AbjCR87+kKlUzPzb2v6zkYr+3EOe/xMYvb3Gi+b9JxamEhgP2v0eBcoZzHuG/SzcPOjFl8b+CR1BF39/3v1/X0lh54AXAUPkkIKn6QMDwwRAGUjn6v41Le/dgrd6/NO22fLfH778eehgpBGMCwN99zLx5vOi/9T8P13Sg6L/i+BEyhk70v/1I7VHD5PS/2LhRq09I87+I++T4BPj0v8V27QZjO/C/yYJdJD6h17+0cA4T0vDmv05apz4e+++/H9Vn85kE+782NI1AY4r3v5hPt/E5I9q/cTd4hpu08L8m4vxJY6AEwGFoq6LgKB3AyhVEfw7B47+twqCnejPvv6FBNbCMRPi/uMFFGAgU8r/oJoQym3fkv0ZaPV/hufK/pN3lffgD9r+6IQHwbF3jv/o1QE96nt+/lrUKZPi/87+MIBKNNjvwv4wgEo02O/C/iPvk+AT49L8i7itE3Jr+v2JlrmpPseu/moH0rBa59L/08ZtnJPz5v0wVa+4TbwHACLk6KuAu979zFcNNT771v9pO7Y7H8/i/sh9XE0x04L9SYUgYRoVUwLgGEjDUwfy/H77D1bl8AMA4PXbvO6T8v9KYkx1e1vq/PIPa0e7x+78qbATh/GLzv/UNtoedGQfAmLSUY02Y9r9W1cy4L9Xbv27i54hIpv+/GLlBL/9s478Q06tLTtEBwKy5i8uhO+G/jmPcfEtWDsDu+LbLp477vxlXyXkH1QLAyNNiSTgW/79+N5PBp/Lyv8Y8zGcTaf6/SOjUTGrQ/b++0iutlhwAwLAsoqDfNfq/959+Yxv0+79wOMa1wEPxvzy14SvvQgnAX6o27X2W4L82LArB/xz4vwzcTvRVfQPAzlYFiVRrBsCqBfEDmRQ0wEvZ85pWZPu/ZH9KkHsYOsDk4uB3t579v0XcfIyuNPa/S4viMokU8r9Aiqhsudf3v5LxWpM+AOO/XLAkOe40/b8GxJJ/ek/0vw7zzmZJIvC/Us2UX2AwAcASzlvNxeTxv5hPt/E5I9q/1vSA5j611r/W9IDmPrXWvx/gLqQPVvG/pa+IeNy76L8Ot/Ulr7QHwOxHhNa9Kf2/HSiybaaQ7r8kyrWRmFXgv0GW471++Oi/hCmmnD52A8AaGtDBPer/v/ZEoBXlIwPAh+/Itbrz+b+Rxnta0eDzv2jZOpW2yOe/49F8Xnc29r929NWJJTX3vwFHBS2C5+O/26ufyiKN+r/Aq8+/0pn8vwiWXOnwF/C/1sEfYTsZ+r+LNApkTdP3vw9N96DwVgXAEFJDaE1X8L+YPD9Hr2ICwCD4q+JU9+W/EgYUPXhbAcDSdvxDl4zjv9IgNk/7k/2/1HvNMIqT/b8NvbY9jI/tvxeXGkT5X/C/buLniEim/79ZdnHag2nxvxwCS1FvZwTAdjCouyGz379Fw9Be/2D9vwTehtwD0v2/qbL5vtcE4b9SxqkCFhIDwPjI20pXTPG/vkhWbycQ/7/el+HeqakHwILcNc9slQDAfMi8lHfX9L/qN4dfpBcSwEg8XMJts/i/BFHWHAVIAcDkbmuNZ/77vxQrvaARhfK/JWFecm4H87/4nSFs2bfzv8yPTvVjOv2/7up7A+1+4r/QkhZkvcvzv5g0xVTDMem/0VFcFRFCAMDEvNAQn0T2v8SohIWV/fi/KDsc6EJ9978YvCOP9IT4v4KtlkMZbvm/cdT5fp9UAcB6rzuVdZ/8v5IVdet+1PW/dITh+c0B5L/c53CdDsDfv4ovQOQoI/2/EuOY8TOT9b8CcG2zUQv2v3J9wD0iwvy/iGQG6Krw478IKg6lCfD+v5wWyWMz4QHAmHMrYgWt/b+uKm8vo5rdv/o1QE96nt+/RTioUXlGAcC47zdRsNr4vybnnyPHx/e/xFmJRL+OAMDJgl0kPqHXvzY0jUBjive/ocWSrOqk7b+Fx6D1+PHvv5g/nZchfvK/brnWnm2u478+vK9qVav7v6zkYr+3EOe/vMjLhenK2r8lDxPhBmL0v97CY3CFs/S/DZm3aQA65b8M/93HM/j1v8jTYXUbn/a/QOtvgdL97r8shrp9zvDxv8TKt/5N6OO/tXpw+0ar6b8IKg6lCfD+vw2Zt2kAOuW/Es5bzcXk8b82JQvrsSsCwDoVB5hpkADABN6G3APS/b+hV6oy+GD0vzJPn05KjNu/gXOx1wvf3b9LZvi17sz3v4sYptyJW/W/upu+TIYg9b+kETNcPXj+v02CZ/OfEwLALqnVjBNvAcDGXqCxJ7X7v8V27QZjO/C//hAH2/CMBMCSiOvxkIcBwCD2xQnxsPy/f1O3GLbK5794A5erkQ/dvwBxM0CDMvq/40UzGz+S+L9sYFjFuPPsv41J7dZVew7AoQuVFd81BsDNx4vNGBIBwACYiIFoIvq/trE8YKBTAcAg/8fV1DnyvypWDgHTrfy/3fOgySnpA8C0nJ0nZWbtvz56uw+GlvW/X4xcrL1p8r+aUYSznADfv5hPt/E5I9q/6g4EsJuD/L/lsClvQcnwvyRy8XBKmeG/y/x5ZJpx37+dSWFzD6Lov1RY4IqKOPe/slWErQX13r99N1wEqAHzv3p5lumrCPS/3FkyB8Ho8b8/2xMjvTr2v3S4u+fMfOO/JGgZdGrd9L9cn8ZZeB8CwABF5sJEVOS/eCttinFn7L/qUwh67f7wv8KTHmUZ8PS/LxHKPI2d6b/su8Y60sPjvzIEIPFf0PC/L1QBeiyS4L+DMwZLkff2v5ubglHVfvW/xjOYQRNE3L8MEQt+IpPlv0BCmclaFgjA/ubG/mK2B8AtOmso22Tyv4D23pPfQTnA1MW/WlESBcDl/GGmXMnkvxiTKa2qbfC/fSg2pGUIAMBYVGdS1Q74v0HCfy8C8y7AaCuEZzGh+78WaLLK03Dkv+MCqReyXPa/58eJLsAkBsAg26OGm7Twv0ZyXljwm92/K45nBsQZ7r8MUFmDBSD6v16SMGDd4u+/Tiu9SX78+L9H4qKjT6bzv/q1MHKqQgLAK2JXBKJe+78XWemYeqr4v+xvcrlAePa/Tphslmw8GcCAef6Cd2n2v0LQ5OmzPve/B6KBvOfS479CAeayPe/nv8ZXhqWCmv2/VmboMF+P9r96LNvtSlH2vy5XWRveG/e/F1npmHqq+L/1+fHTFdn4v9b0gOY+tda/lo1uKbwp77+Ioi2kPizdv4jBTQ6nsv6/hAiRyef59r8qtgHOOBkBwHCX+4fBAPe/LNeifDcoB8CWtvQYkIJBwM4AXaHA0gPAUa+2euaK5L+qPbiZVdL8v6GvUvxj8OO/fcgRUexf4L/Jgl0kPqHXv9zncJ0OwN+/33Y8hbGc8r8yEjNF/h/mvzY0jUBjive/OWNd5eR04r9Aw4fKcwHzv5n4B+bq5ALAeizb7UpR9r8Idu0GYzvwvxDdgqMOAgPAq2zKgiEDAsDxMnHdjir2v0r58jOHovS/JIQz2uCT8L8V/cJ8oj/lv1iI/VEVDuS/mzM7r7lk/L8yBCDxX9Dwvx5nsEicze2/Ti6blbiy6r8+2mae15Dfv7QN+XH+QBDAtBVTVkxF47/k6BSXrdXyv3YwqLshs9+/MJajic6N8b/kZoHe7dLwvxIxsrr3vu+/+DNhZIB87L8qYMFpWE/zv9nwr1tiqte/3CrM+ObU678AcTNAgzL6vxATtdQr8vq/BpJuF+o26b9N8Jibuizlv0Js60gvyNe/5CbFVSZW7b9joYGiUtYDwBNahPR2MOS/K4qZjKJR4L8yO6Bh08byv+T1kBKxnOa/eCttinFn7L8+SP1R6Tfxv9zncJ0OwN+/jCASjTY78L+AgTKVvKHXv4InzbZn0+q/IuDw3pB95b8OFWCwb8/9v64qby+jmt2/HmewSJzN7b+63nnwId0FwG651p5truO/7//wD8OK3L85EerVV7zdv3niKwxJvgDAuiEB8Gxd479nr84JZ+nxv/E32InUcuC/GaKupLRA+L8qtgHOOBkBwH0nm2snhum/O625sE3N47+YtJRjTZj2vz68r2pVq/u/JJlmtjP0AcDalRAo7KTxv1iI/VEVDuS/R+Kio0+m879tmXx5wy30v22ZfHnDLfS/RnJeWPCb3b9+N5PBp/Lyv/DBEAZSOfq/IoZKe9tTA8BiQp6c80X6v2PPevmEaOm/VqyFToJXEMBQvIMyKSLzvyUPE+EGYvS/lo1uKbwp778kwDAz1Bz2vyYhdjsn7hbAvg8f49BG5b+Cx2Wd7RLiv0r58jOHovS/vMjLhenK2r+vZ4ws1tbuvxy+riwpYgDA+J3mr/+I/r9uWXJd5+/sv1+Q+SRZcvO/yhHoEMzG47+oUFNo+8Pgv1tWdMQNxAnAb6IO9LlX/r9AiLEb68vov318k0Kyoda/U3gUqynF479oDbE53c7fv42LbudbD/K/kPikUZoN57+GqKEf+2Thv1umME4JGum/Qsoe8EVB9L/gIJBwIZLzv6zkYr+3EOe/pn6j8FBy5L+kXppbFUn2vzOIue6ftPS/3rWyjBVK1r/Ckx5lGfD0v9ZnIl8o8PC/SlH3xtQPAMCG2MoFsZ8+wOQ3wRGxz96/Trp9yasU8r9aZpoAxNTjv003DzoxZfG/QgHmsj3v57+Ioi2kPizdv4TOAD4bvwTAGIiOc4KbAcC9pRmHSkfkv2PCSoEGUOC/fb6aXJmz+b9gUKOeenkEwMT9EUvURem/H+3fWKRh4L/jyHHvKi7Xvw/+BuraneC/ew2EDhwD9r+kETNcPXj+v0uL4jKJFPK/yYJdJD6h17/Gz0EtMrvwv+E+Cb1lVuC/cB55UWX64b+prdwUEOD5vyDw92GcUfK/ZOS3jwCf+r9yibrWSX3gv3b85+l6OwbA3OdwnQ7A378NmbdpADrlvx38VStvzRrAHwJAO7Rj9r+JOSNvu2fjv1In0ye1IQDAxNoWiIqu47+IZAboqvDjv5pRhLOcAN+/S4viMokU8r/uirp9JpMjwAbEkn96T/S/a+1iB9EF878wAXEWJZ7avxzkskWwCeG/a4JSjQRY57+jVovnOjb0vz68r2pVq/u/vvibdVM0578eZEIsfx/jv1Il1OPz3Pu/TEoZxR9E5b8ME06EAVzpv/IFZLUiWvW/wAtqScAYAcBII88Wpf3tvxYPVikEC/i/xqBfjohp/r8w3JMqYc72v+SXKApA2ue/mNRjki7HS8A491dVvKYGwKHVjC8b7vC/EALILu788L/u3nolkq3mvzISM0X+H+a/w89JRRWu9L+0io8Dm0/kv3SQgshjWui/6pCkTUFc6L/GgAX5bEfzv0m5dRlow9u/jKYWJ1497L/kiYIyKxPyv4TjxxgXKfO/3OdwnQ7A378sa7C+2Erov4hZO5ZG7di/eizb7UpR9r9fqjbtfZbgv+ePyN+PV+O/+Z6O9w+V8r/2aaN/P1o8wChEM2SB6f6/lFPk+KK99L8vcSfpXLviv7OMWBUr3uC/no6YqdQr978BxLHdFhryvz68r2pVq/u/sjTaDN+L8L9NhBerllHov1bVzLgv1du/yYJdJD6h17/03YwHAL3pvzJvMYquGOy/rORiv7cQ57+psvm+1wThvx1ArDkS6+e/4xqv4IZw67+0cA4T0vDmv5EjKu61lva/bzqGwBd+779ZI89kBYr4v7Z6ZIQ4SADAHYQrUTRKEMCyH1cTTHTgv5a1CmT4v/O/GximwE3VBMCI8hgflGw3wGtUGnp9YfS/8sxMLSxAAMCpsvm+1wThv0jo1Exq0P2/ukdG12kT5L/0wGTD0+jwv+iDNSQ/mfS//BahtW3Z+r9Li+IyiRTyvy8RyjyNnem/aDYFYmPR9b+VylK+ELfqv0J64ETeHui/QQ9MPs1a7r8AP3EvN93yv2GCOIPzzAzAmlGEs5wA378cRWHhturwv+uTh7bNbPO/DCaplDyIAsD8dn+lQCbwv64qby+jmt2/8b3cJ10Q5b+DSh4gA2bxvz6OwG4wkfO/JWFecm4H879qji2F7hrvvxJPozH7Lvi/UmGyXtSZ9L/YEbSAEWT2v34sDDMN4t2/djCouyGz379fqjbtfZbgv3YwqLshs9+/R4FyhnMe4b8ARebCRFTkvwvGuEdC0Ou/z0xythcu+r+HmgTmeCn4v5IhpN2hsvu/SvnyM4ei9L+0hP+K1kTkv7RwDhPS8Oa/jjzqEUFS87+ATbQSQaLdvzDQjYUesNa/7+LOK8Bx8r/YsCiyguXWv9PpqQaNz/2/Mk+fTkqM27/pI0lxih9YwDIEIPFf0PC/sP4h0wWh67+IwU0Op7L+v6P/8ZIvR+C/2ewJvSmZ4L/14wp1hdQRwJs2YbdXuwLAUw6gz+1HAcBY2VmZrAXzv+Sulduu8fG/kgEntSXw4b+rPHD/fBL7vzqv8k+CpArAkhMH2fbQAsAIuToq4C73v/rlH0eu4wDAnjXA8mq08r8M/93HM/j1v3YwqLshs9+/efgHKONC5b8CJkGgy0n5v0MYkhlRCjvA/vnyEyTjAMD5no73D5XyvyRiaDLYkeC/F3WNw0sU4r94WOAJel3iv0jo1Exq0P2/gXOx1wvf3b8SvilzU5UAwFiQwgB52vS/uVWdX14i8L/W9IDmPrXWv8mCXSQ+ode/gdO9YAC+6L+WjW4pvCnvv3nz08Z8vuC/NSbksphc8r/u6nsD7X7iv5aBNxYRnP+/GmffZacu9b/gpef1JSP4v9DSFcSIR/K/Rcld1bSY6r+L8ogp7VryvyRiaDLYkeC/MxSgxXoa6b8KLh3X4OrmvzvK7PGADwDAD3EVffPx4L/su8Y60sPjvx59yQdz3eG/rLmLy6E74b8Ny/iNq4/7v6WviHjcu+i/VCmzrW+Z4r9fqRBv0an/vx6EbZrN7wHAstPH1PEcHsBGcl5Y8Jvdv0pX71gGava/XGDU93bdJ8CcJhzHWlzwv6JBZRYuct2/8bzKTGtQ2b/Jgl0kPqHXv15Sphqp3Pa/WAE/1r/kQ8BfjFysvWnyv4mqjceZGFDAXbWo2mKi+L9UomeSybD7v7VeHTbFUSXA9pJ0PAS95b9ZWlBvHWzrvypfjevaAuK/o79jgyip5b/USX8UGdnmvxWktmVjStq/OM7qAvhU/r8YJ5iYHfLkv3rfE24wRP6/1h7Ea545UMCSN56oNLTtv0khiag3VOG/gJyshglxLMAejH8HGLzyvxC+VUyShVTAbNmzTK+y87/W9IDmPrXWv8oR6BDMxuO/CHbtBmM78L9ZdnHag2nxv1hP0trbSd2/bN2JUA9k778IIp9Nw1bgv7MHlFXk0PC/IX4mnDc09L8NmbdpADrlv5hPt/E5I9q/hAiRyef59r9qYePEXLoBwJ8qTbLN6OW/+jVAT3qe379KV+9YBmr2vy5HHWcb8vS/dESKAttQ9r9FSEFk41jwv+Zdbw0C+fC/I8LdmGhPQ8AhWJjJwR8BwEQSAkk7uvO/ImWFHzpF578efckHc93hv6zsuVIZh9e/eSHG0pgd+7/u23Sg21sAwDwKxcTmDwPA32wYz0XAHsBL+g/2UDDlv4xAFHaItvC/26ufyiKN+r8vEco8jZ3pv4a/OveXLPm/wnDt8jvi4L8qVg4B0638v6SRj1lgZPK/OtFiX04/3b8Y476Sw0/evx59yQdz3eG/yhHoEMzG478eoSDlwmTwvxOppOTCkti/rYFuCzKV+L8X7fs0Wzjrv+y7xjrSw+O/1gUokeEI27+wLKKg3zX6v8jTYkk4Fv+/FaCI4n3/5b+ZYWMPuhnyv/wl/fwbW/u/g2hQD5E6AsDRdLk+ewv3v3Xoy46wcPK/Ja6qKXMB479sNxKhh5Hkv9qscrxsFfm/kqY0HqgX9r9YiP1RFQ7kv51JYXMPoui/mOv0qi3z5r9quliv9ZbyvwrkXab109+/DnEP10Rm878GWooqhn/kvyPIyN9CPNu/m7MH2h0D8r9U9xANGMxAwD68r2pVq/u/BqtGB2Hg47/su8Y60sPjvwbEkn96T/S/Kzr7fIqA5L+4L/zYcKfwv8mCXSQ+ode/YpZxPeMa5L/OAC4Cc8Pjv3niliEePui/7TdqL9Fx778Y0AL+U5Tiv8v8eWSacd+/y/x5ZJpx37+c19a256j4v3xc5dw6M/S/6anqIDoE/r96LNvtSlH2v9hfmoBUU/O/34YKCvm387+smI/HjFwBwBCpMNO89um/g0mYEsua+r8dFKp0edwDwF/g8/7ytPu/wpMeZRnw9L+4SmZeAS3bv1TBIhdidty/tJydJ2Vm7b9fqjbtfZbgv/IQeFNJXeO/mFiUchEw6b8QvlVMkoVUwL7SK62WHADA2WIim8Zg9r9w/D07GWD5v3TISGe4+9a/2p9q/kE88r8zFKDFehrpv7V6cPtGq+m/mE+38Tkj2r8IKg6lCfD+v9WZQl4pCQHAm5LLEbiR+b/G2cIYPNTjvxdZ6Zh6qvi/OD127zuk/L+YWJRyETDpv8X0JWA9ZuG/aQVfXoFo8r93EnkXNxUAwIoS5kNqtOK/Psnckz7K+79Q+k6XTDjzv9dRC6ZUoOW/eLQq3XHh8b/aLjGIPwf6vwze3S6bbt6/flbqNFHPAsDoIJH3L1/dvxD0RTjVoPq/kBsVfVmO8r+QAJVgSCztvxa2tN7/6+2/iuUQBr7S8r+Qi7NSEK7dvyRiaDLYkeC/ymcgL74+5r8PDbvw5sDzv7wm9Gatlfe/MSDBVrzi9L+aUYSznADfv5hPt/E5I9q/Hn3JB3Pd4b8sSx+pF2jkv5BRoAq2zOq/CfgnuKge/7/iWsKzK0Huv9b0gOY+tda/htgy+hvC8r/ZiYU5ILn7vybCVKpoefS/mH104uSy879Dl5COphkCwA==",
          "dtype": "f8"
         },
         "y0": " ",
         "yaxis": "y"
        },
        {
         "line": {
          "color": "rgba(0,0,0,0.5)",
          "dash": "dash",
          "width": 2
         },
         "mode": "lines",
         "name": "Median",
         "type": "scatter",
         "x": {
          "bdata": "AAECAwQ=",
          "dtype": "i1"
         },
         "y": {
          "bdata": "OpmFF3kXCMAOmIOdjOAAwF6+/ZHyKvq/qC6qAN2U9b8pCKtR3bjwvw==",
          "dtype": "f8"
         }
        }
       ],
       "layout": {
        "boxmode": "group",
        "legend": {
         "tracegroupgap": 0
        },
        "margin": {
         "t": 60
        },
        "template": {
         "data": {
          "bar": [
           {
            "error_x": {
             "color": "#2a3f5f"
            },
            "error_y": {
             "color": "#2a3f5f"
            },
            "marker": {
             "line": {
              "color": "#E5ECF6",
              "width": 0.5
             },
             "pattern": {
              "fillmode": "overlay",
              "size": 10,
              "solidity": 0.2
             }
            },
            "type": "bar"
           }
          ],
          "barpolar": [
           {
            "marker": {
             "line": {
              "color": "#E5ECF6",
              "width": 0.5
             },
             "pattern": {
              "fillmode": "overlay",
              "size": 10,
              "solidity": 0.2
             }
            },
            "type": "barpolar"
           }
          ],
          "carpet": [
           {
            "aaxis": {
             "endlinecolor": "#2a3f5f",
             "gridcolor": "white",
             "linecolor": "white",
             "minorgridcolor": "white",
             "startlinecolor": "#2a3f5f"
            },
            "baxis": {
             "endlinecolor": "#2a3f5f",
             "gridcolor": "white",
             "linecolor": "white",
             "minorgridcolor": "white",
             "startlinecolor": "#2a3f5f"
            },
            "type": "carpet"
           }
          ],
          "choropleth": [
           {
            "colorbar": {
             "outlinewidth": 0,
             "ticks": ""
            },
            "type": "choropleth"
           }
          ],
          "contour": [
           {
            "colorbar": {
             "outlinewidth": 0,
             "ticks": ""
            },
            "colorscale": [
             [
              0,
              "#0d0887"
             ],
             [
              0.1111111111111111,
              "#46039f"
             ],
             [
              0.2222222222222222,
              "#7201a8"
             ],
             [
              0.3333333333333333,
              "#9c179e"
             ],
             [
              0.4444444444444444,
              "#bd3786"
             ],
             [
              0.5555555555555556,
              "#d8576b"
             ],
             [
              0.6666666666666666,
              "#ed7953"
             ],
             [
              0.7777777777777778,
              "#fb9f3a"
             ],
             [
              0.8888888888888888,
              "#fdca26"
             ],
             [
              1,
              "#f0f921"
             ]
            ],
            "type": "contour"
           }
          ],
          "contourcarpet": [
           {
            "colorbar": {
             "outlinewidth": 0,
             "ticks": ""
            },
            "type": "contourcarpet"
           }
          ],
          "heatmap": [
           {
            "colorbar": {
             "outlinewidth": 0,
             "ticks": ""
            },
            "colorscale": [
             [
              0,
              "#0d0887"
             ],
             [
              0.1111111111111111,
              "#46039f"
             ],
             [
              0.2222222222222222,
              "#7201a8"
             ],
             [
              0.3333333333333333,
              "#9c179e"
             ],
             [
              0.4444444444444444,
              "#bd3786"
             ],
             [
              0.5555555555555556,
              "#d8576b"
             ],
             [
              0.6666666666666666,
              "#ed7953"
             ],
             [
              0.7777777777777778,
              "#fb9f3a"
             ],
             [
              0.8888888888888888,
              "#fdca26"
             ],
             [
              1,
              "#f0f921"
             ]
            ],
            "type": "heatmap"
           }
          ],
          "histogram": [
           {
            "marker": {
             "pattern": {
              "fillmode": "overlay",
              "size": 10,
              "solidity": 0.2
             }
            },
            "type": "histogram"
           }
          ],
          "histogram2d": [
           {
            "colorbar": {
             "outlinewidth": 0,
             "ticks": ""
            },
            "colorscale": [
             [
              0,
              "#0d0887"
             ],
             [
              0.1111111111111111,
              "#46039f"
             ],
             [
              0.2222222222222222,
              "#7201a8"
             ],
             [
              0.3333333333333333,
              "#9c179e"
             ],
             [
              0.4444444444444444,
              "#bd3786"
             ],
             [
              0.5555555555555556,
              "#d8576b"
             ],
             [
              0.6666666666666666,
              "#ed7953"
             ],
             [
              0.7777777777777778,
              "#fb9f3a"
             ],
             [
              0.8888888888888888,
              "#fdca26"
             ],
             [
              1,
              "#f0f921"
             ]
            ],
            "type": "histogram2d"
           }
          ],
          "histogram2dcontour": [
           {
            "colorbar": {
             "outlinewidth": 0,
             "ticks": ""
            },
            "colorscale": [
             [
              0,
              "#0d0887"
             ],
             [
              0.1111111111111111,
              "#46039f"
             ],
             [
              0.2222222222222222,
              "#7201a8"
             ],
             [
              0.3333333333333333,
              "#9c179e"
             ],
             [
              0.4444444444444444,
              "#bd3786"
             ],
             [
              0.5555555555555556,
              "#d8576b"
             ],
             [
              0.6666666666666666,
              "#ed7953"
             ],
             [
              0.7777777777777778,
              "#fb9f3a"
             ],
             [
              0.8888888888888888,
              "#fdca26"
             ],
             [
              1,
              "#f0f921"
             ]
            ],
            "type": "histogram2dcontour"
           }
          ],
          "mesh3d": [
           {
            "colorbar": {
             "outlinewidth": 0,
             "ticks": ""
            },
            "type": "mesh3d"
           }
          ],
          "parcoords": [
           {
            "line": {
             "colorbar": {
              "outlinewidth": 0,
              "ticks": ""
             }
            },
            "type": "parcoords"
           }
          ],
          "pie": [
           {
            "automargin": true,
            "type": "pie"
           }
          ],
          "scatter": [
           {
            "fillpattern": {
             "fillmode": "overlay",
             "size": 10,
             "solidity": 0.2
            },
            "type": "scatter"
           }
          ],
          "scatter3d": [
           {
            "line": {
             "colorbar": {
              "outlinewidth": 0,
              "ticks": ""
             }
            },
            "marker": {
             "colorbar": {
              "outlinewidth": 0,
              "ticks": ""
             }
            },
            "type": "scatter3d"
           }
          ],
          "scattercarpet": [
           {
            "marker": {
             "colorbar": {
              "outlinewidth": 0,
              "ticks": ""
             }
            },
            "type": "scattercarpet"
           }
          ],
          "scattergeo": [
           {
            "marker": {
             "colorbar": {
              "outlinewidth": 0,
              "ticks": ""
             }
            },
            "type": "scattergeo"
           }
          ],
          "scattergl": [
           {
            "marker": {
             "colorbar": {
              "outlinewidth": 0,
              "ticks": ""
             }
            },
            "type": "scattergl"
           }
          ],
          "scattermap": [
           {
            "marker": {
             "colorbar": {
              "outlinewidth": 0,
              "ticks": ""
             }
            },
            "type": "scattermap"
           }
          ],
          "scattermapbox": [
           {
            "marker": {
             "colorbar": {
              "outlinewidth": 0,
              "ticks": ""
             }
            },
            "type": "scattermapbox"
           }
          ],
          "scatterpolar": [
           {
            "marker": {
             "colorbar": {
              "outlinewidth": 0,
              "ticks": ""
             }
            },
            "type": "scatterpolar"
           }
          ],
          "scatterpolargl": [
           {
            "marker": {
             "colorbar": {
              "outlinewidth": 0,
              "ticks": ""
             }
            },
            "type": "scatterpolargl"
           }
          ],
          "scatterternary": [
           {
            "marker": {
             "colorbar": {
              "outlinewidth": 0,
              "ticks": ""
             }
            },
            "type": "scatterternary"
           }
          ],
          "surface": [
           {
            "colorbar": {
             "outlinewidth": 0,
             "ticks": ""
            },
            "colorscale": [
             [
              0,
              "#0d0887"
             ],
             [
              0.1111111111111111,
              "#46039f"
             ],
             [
              0.2222222222222222,
              "#7201a8"
             ],
             [
              0.3333333333333333,
              "#9c179e"
             ],
             [
              0.4444444444444444,
              "#bd3786"
             ],
             [
              0.5555555555555556,
              "#d8576b"
             ],
             [
              0.6666666666666666,
              "#ed7953"
             ],
             [
              0.7777777777777778,
              "#fb9f3a"
             ],
             [
              0.8888888888888888,
              "#fdca26"
             ],
             [
              1,
              "#f0f921"
             ]
            ],
            "type": "surface"
           }
          ],
          "table": [
           {
            "cells": {
             "fill": {
              "color": "#EBF0F8"
             },
             "line": {
              "color": "white"
             }
            },
            "header": {
             "fill": {
              "color": "#C8D4E3"
             },
             "line": {
              "color": "white"
             }
            },
            "type": "table"
           }
          ]
         },
         "layout": {
          "annotationdefaults": {
           "arrowcolor": "#2a3f5f",
           "arrowhead": 0,
           "arrowwidth": 1
          },
          "autotypenumbers": "strict",
          "coloraxis": {
           "colorbar": {
            "outlinewidth": 0,
            "ticks": ""
           }
          },
          "colorscale": {
           "diverging": [
            [
             0,
             "#8e0152"
            ],
            [
             0.1,
             "#c51b7d"
            ],
            [
             0.2,
             "#de77ae"
            ],
            [
             0.3,
             "#f1b6da"
            ],
            [
             0.4,
             "#fde0ef"
            ],
            [
             0.5,
             "#f7f7f7"
            ],
            [
             0.6,
             "#e6f5d0"
            ],
            [
             0.7,
             "#b8e186"
            ],
            [
             0.8,
             "#7fbc41"
            ],
            [
             0.9,
             "#4d9221"
            ],
            [
             1,
             "#276419"
            ]
           ],
           "sequential": [
            [
             0,
             "#0d0887"
            ],
            [
             0.1111111111111111,
             "#46039f"
            ],
            [
             0.2222222222222222,
             "#7201a8"
            ],
            [
             0.3333333333333333,
             "#9c179e"
            ],
            [
             0.4444444444444444,
             "#bd3786"
            ],
            [
             0.5555555555555556,
             "#d8576b"
            ],
            [
             0.6666666666666666,
             "#ed7953"
            ],
            [
             0.7777777777777778,
             "#fb9f3a"
            ],
            [
             0.8888888888888888,
             "#fdca26"
            ],
            [
             1,
             "#f0f921"
            ]
           ],
           "sequentialminus": [
            [
             0,
             "#0d0887"
            ],
            [
             0.1111111111111111,
             "#46039f"
            ],
            [
             0.2222222222222222,
             "#7201a8"
            ],
            [
             0.3333333333333333,
             "#9c179e"
            ],
            [
             0.4444444444444444,
             "#bd3786"
            ],
            [
             0.5555555555555556,
             "#d8576b"
            ],
            [
             0.6666666666666666,
             "#ed7953"
            ],
            [
             0.7777777777777778,
             "#fb9f3a"
            ],
            [
             0.8888888888888888,
             "#fdca26"
            ],
            [
             1,
             "#f0f921"
            ]
           ]
          },
          "colorway": [
           "#636efa",
           "#EF553B",
           "#00cc96",
           "#ab63fa",
           "#FFA15A",
           "#19d3f3",
           "#FF6692",
           "#B6E880",
           "#FF97FF",
           "#FECB52"
          ],
          "font": {
           "color": "#2a3f5f"
          },
          "geo": {
           "bgcolor": "white",
           "lakecolor": "white",
           "landcolor": "#E5ECF6",
           "showlakes": true,
           "showland": true,
           "subunitcolor": "white"
          },
          "hoverlabel": {
           "align": "left"
          },
          "hovermode": "closest",
          "mapbox": {
           "style": "light"
          },
          "paper_bgcolor": "white",
          "plot_bgcolor": "#E5ECF6",
          "polar": {
           "angularaxis": {
            "gridcolor": "white",
            "linecolor": "white",
            "ticks": ""
           },
           "bgcolor": "#E5ECF6",
           "radialaxis": {
            "gridcolor": "white",
            "linecolor": "white",
            "ticks": ""
           }
          },
          "scene": {
           "xaxis": {
            "backgroundcolor": "#E5ECF6",
            "gridcolor": "white",
            "gridwidth": 2,
            "linecolor": "white",
            "showbackground": true,
            "ticks": "",
            "zerolinecolor": "white"
           },
           "yaxis": {
            "backgroundcolor": "#E5ECF6",
            "gridcolor": "white",
            "gridwidth": 2,
            "linecolor": "white",
            "showbackground": true,
            "ticks": "",
            "zerolinecolor": "white"
           },
           "zaxis": {
            "backgroundcolor": "#E5ECF6",
            "gridcolor": "white",
            "gridwidth": 2,
            "linecolor": "white",
            "showbackground": true,
            "ticks": "",
            "zerolinecolor": "white"
           }
          },
          "shapedefaults": {
           "line": {
            "color": "#2a3f5f"
           }
          },
          "ternary": {
           "aaxis": {
            "gridcolor": "white",
            "linecolor": "white",
            "ticks": ""
           },
           "baxis": {
            "gridcolor": "white",
            "linecolor": "white",
            "ticks": ""
           },
           "bgcolor": "#E5ECF6",
           "caxis": {
            "gridcolor": "white",
            "linecolor": "white",
            "ticks": ""
           }
          },
          "title": {
           "x": 0.05
          },
          "xaxis": {
           "automargin": true,
           "gridcolor": "white",
           "linecolor": "white",
           "ticks": "",
           "title": {
            "standoff": 15
           },
           "zerolinecolor": "white",
           "zerolinewidth": 2
          },
          "yaxis": {
           "automargin": true,
           "gridcolor": "white",
           "linecolor": "white",
           "ticks": "",
           "title": {
            "standoff": 15
           },
           "zerolinecolor": "white",
           "zerolinewidth": 2
          }
         }
        },
        "title": {
         "text": "Fitness evolution"
        },
        "xaxis": {
         "anchor": "y",
         "domain": [
          0,
          1
         ],
         "title": {
          "text": "Generation"
         }
        },
        "yaxis": {
         "anchor": "x",
         "domain": [
          0,
          1
         ],
         "title": {
          "text": "Weighted_fitness"
         }
        }
       }
      }
     },
     "metadata": {},
     "output_type": "display_data"
    }
   ],
   "source": [
    "viewer.fitness_evolution(points=\"all\")"
   ]
  },
  {
   "cell_type": "code",
   "execution_count": 21,
   "metadata": {},
   "outputs": [
    {
     "data": {
      "application/vnd.plotly.v1+json": {
       "config": {
        "plotlyServerURL": "https://plot.ly"
       },
       "data": [
        {
         "orientation": "h",
         "type": "bar",
         "x": {
          "bdata": "Vw6FY2x60j9ccuFjbHrSP4Fg6cRnetI/sVZpY2x60j8JFIVjbHrSPzpJxXtpetI/KUP5V2x60j+2aoVjbHrSP7HfhhZtetI/eYfzXGx60j8=",
          "dtype": "f8"
         },
         "xaxis": "x",
         "y": [
          "D1N1_energy_transfert",
          "D1N1_lambda_temperature_0",
          "D1N1_gamma_lambda_temperature",
          "D1N1_tr_0",
          "D1N1_gamma_tr",
          "D2N1_energy_transfert",
          "D2N1_lambda_temperature_0",
          "D2N1_gamma_lambda_temperature",
          "D2N1_tr_0",
          "D2N1_gamma_tr"
         ],
         "yaxis": "y"
        },
        {
         "orientation": "h",
         "type": "bar",
         "x": {
          "bdata": "imdPjPgMyj9u2xdv1XzSP6iLo4yGSdI/fPhmQ1Jg0j+VWXk1HIzSP5/+sW4n/9E/lT0CQRqo0j/uvSxFlkTSPxQseY+zxNI/ftBVzB3A0j8=",
          "dtype": "f8"
         },
         "xaxis": "x2",
         "y": [
          "D1N1_energy_transfert",
          "D1N1_lambda_temperature_0",
          "D1N1_gamma_lambda_temperature",
          "D1N1_tr_0",
          "D1N1_gamma_tr",
          "D2N1_energy_transfert",
          "D2N1_lambda_temperature_0",
          "D2N1_gamma_lambda_temperature",
          "D2N1_tr_0",
          "D2N1_gamma_tr"
         ],
         "yaxis": "y2"
        },
        {
         "orientation": "h",
         "type": "bar",
         "x": {
          "bdata": "NmArVqIGwz9/eFJawmrSPxemRZ0cz9I/jI3h+tp50T/n0mg2OBDSPx2phbS5kdE/zvgrqRgJ0z+Xo0cY7KfSP8PjVEcBBNM/Cb4UYk+I0T8=",
          "dtype": "f8"
         },
         "xaxis": "x3",
         "y": [
          "D1N1_energy_transfert",
          "D1N1_lambda_temperature_0",
          "D1N1_gamma_lambda_temperature",
          "D1N1_tr_0",
          "D1N1_gamma_tr",
          "D2N1_energy_transfert",
          "D2N1_lambda_temperature_0",
          "D2N1_gamma_lambda_temperature",
          "D2N1_tr_0",
          "D2N1_gamma_tr"
         ],
         "yaxis": "y3"
        },
        {
         "orientation": "h",
         "type": "bar",
         "x": {
          "bdata": "cxha9N+Lwj+lEqwz0YXSP4jBC+yKwNE/swoLUgsz0D9rCgp7IRLSPz2aIduyO9E/kYwWgpFj0j+3gJCM2/HSP5p71fiDBNI/v9rhnmBR0j8=",
          "dtype": "f8"
         },
         "xaxis": "x4",
         "y": [
          "D1N1_energy_transfert",
          "D1N1_lambda_temperature_0",
          "D1N1_gamma_lambda_temperature",
          "D1N1_tr_0",
          "D1N1_gamma_tr",
          "D2N1_energy_transfert",
          "D2N1_lambda_temperature_0",
          "D2N1_gamma_lambda_temperature",
          "D2N1_tr_0",
          "D2N1_gamma_tr"
         ],
         "yaxis": "y4"
        },
        {
         "orientation": "h",
         "type": "bar",
         "x": {
          "bdata": "oo3Xp9f7wT+Rxb23DnPSP5xOb69MiMs/anW9nkER0D9pvnqRYvTRP55ptnF4TtA/CjXhb8ew0T/Vab5iKvnSP82Yg23BUdE/ImIwARDu0j8=",
          "dtype": "f8"
         },
         "xaxis": "x5",
         "y": [
          "D1N1_energy_transfert",
          "D1N1_lambda_temperature_0",
          "D1N1_gamma_lambda_temperature",
          "D1N1_tr_0",
          "D1N1_gamma_tr",
          "D2N1_energy_transfert",
          "D2N1_lambda_temperature_0",
          "D2N1_gamma_lambda_temperature",
          "D2N1_tr_0",
          "D2N1_gamma_tr"
         ],
         "yaxis": "y5"
        }
       ],
       "layout": {
        "annotations": [
         {
          "font": {
           "size": 16
          },
          "showarrow": false,
          "text": "Gen=0",
          "x": 0.08399999999999999,
          "xanchor": "center",
          "xref": "paper",
          "y": 1,
          "yanchor": "bottom",
          "yref": "paper"
         },
         {
          "font": {
           "size": 16
          },
          "showarrow": false,
          "text": "Gen=1",
          "x": 0.292,
          "xanchor": "center",
          "xref": "paper",
          "y": 1,
          "yanchor": "bottom",
          "yref": "paper"
         },
         {
          "font": {
           "size": 16
          },
          "showarrow": false,
          "text": "Gen=2",
          "x": 0.5,
          "xanchor": "center",
          "xref": "paper",
          "y": 1,
          "yanchor": "bottom",
          "yref": "paper"
         },
         {
          "font": {
           "size": 16
          },
          "showarrow": false,
          "text": "Gen=3",
          "x": 0.708,
          "xanchor": "center",
          "xref": "paper",
          "y": 1,
          "yanchor": "bottom",
          "yref": "paper"
         },
         {
          "font": {
           "size": 16
          },
          "showarrow": false,
          "text": "Gen=4",
          "x": 0.9159999999999999,
          "xanchor": "center",
          "xref": "paper",
          "y": 1,
          "yanchor": "bottom",
          "yref": "paper"
         }
        ],
        "showlegend": false,
        "template": {
         "data": {
          "bar": [
           {
            "error_x": {
             "color": "#2a3f5f"
            },
            "error_y": {
             "color": "#2a3f5f"
            },
            "marker": {
             "line": {
              "color": "#E5ECF6",
              "width": 0.5
             },
             "pattern": {
              "fillmode": "overlay",
              "size": 10,
              "solidity": 0.2
             }
            },
            "type": "bar"
           }
          ],
          "barpolar": [
           {
            "marker": {
             "line": {
              "color": "#E5ECF6",
              "width": 0.5
             },
             "pattern": {
              "fillmode": "overlay",
              "size": 10,
              "solidity": 0.2
             }
            },
            "type": "barpolar"
           }
          ],
          "carpet": [
           {
            "aaxis": {
             "endlinecolor": "#2a3f5f",
             "gridcolor": "white",
             "linecolor": "white",
             "minorgridcolor": "white",
             "startlinecolor": "#2a3f5f"
            },
            "baxis": {
             "endlinecolor": "#2a3f5f",
             "gridcolor": "white",
             "linecolor": "white",
             "minorgridcolor": "white",
             "startlinecolor": "#2a3f5f"
            },
            "type": "carpet"
           }
          ],
          "choropleth": [
           {
            "colorbar": {
             "outlinewidth": 0,
             "ticks": ""
            },
            "type": "choropleth"
           }
          ],
          "contour": [
           {
            "colorbar": {
             "outlinewidth": 0,
             "ticks": ""
            },
            "colorscale": [
             [
              0,
              "#0d0887"
             ],
             [
              0.1111111111111111,
              "#46039f"
             ],
             [
              0.2222222222222222,
              "#7201a8"
             ],
             [
              0.3333333333333333,
              "#9c179e"
             ],
             [
              0.4444444444444444,
              "#bd3786"
             ],
             [
              0.5555555555555556,
              "#d8576b"
             ],
             [
              0.6666666666666666,
              "#ed7953"
             ],
             [
              0.7777777777777778,
              "#fb9f3a"
             ],
             [
              0.8888888888888888,
              "#fdca26"
             ],
             [
              1,
              "#f0f921"
             ]
            ],
            "type": "contour"
           }
          ],
          "contourcarpet": [
           {
            "colorbar": {
             "outlinewidth": 0,
             "ticks": ""
            },
            "type": "contourcarpet"
           }
          ],
          "heatmap": [
           {
            "colorbar": {
             "outlinewidth": 0,
             "ticks": ""
            },
            "colorscale": [
             [
              0,
              "#0d0887"
             ],
             [
              0.1111111111111111,
              "#46039f"
             ],
             [
              0.2222222222222222,
              "#7201a8"
             ],
             [
              0.3333333333333333,
              "#9c179e"
             ],
             [
              0.4444444444444444,
              "#bd3786"
             ],
             [
              0.5555555555555556,
              "#d8576b"
             ],
             [
              0.6666666666666666,
              "#ed7953"
             ],
             [
              0.7777777777777778,
              "#fb9f3a"
             ],
             [
              0.8888888888888888,
              "#fdca26"
             ],
             [
              1,
              "#f0f921"
             ]
            ],
            "type": "heatmap"
           }
          ],
          "histogram": [
           {
            "marker": {
             "pattern": {
              "fillmode": "overlay",
              "size": 10,
              "solidity": 0.2
             }
            },
            "type": "histogram"
           }
          ],
          "histogram2d": [
           {
            "colorbar": {
             "outlinewidth": 0,
             "ticks": ""
            },
            "colorscale": [
             [
              0,
              "#0d0887"
             ],
             [
              0.1111111111111111,
              "#46039f"
             ],
             [
              0.2222222222222222,
              "#7201a8"
             ],
             [
              0.3333333333333333,
              "#9c179e"
             ],
             [
              0.4444444444444444,
              "#bd3786"
             ],
             [
              0.5555555555555556,
              "#d8576b"
             ],
             [
              0.6666666666666666,
              "#ed7953"
             ],
             [
              0.7777777777777778,
              "#fb9f3a"
             ],
             [
              0.8888888888888888,
              "#fdca26"
             ],
             [
              1,
              "#f0f921"
             ]
            ],
            "type": "histogram2d"
           }
          ],
          "histogram2dcontour": [
           {
            "colorbar": {
             "outlinewidth": 0,
             "ticks": ""
            },
            "colorscale": [
             [
              0,
              "#0d0887"
             ],
             [
              0.1111111111111111,
              "#46039f"
             ],
             [
              0.2222222222222222,
              "#7201a8"
             ],
             [
              0.3333333333333333,
              "#9c179e"
             ],
             [
              0.4444444444444444,
              "#bd3786"
             ],
             [
              0.5555555555555556,
              "#d8576b"
             ],
             [
              0.6666666666666666,
              "#ed7953"
             ],
             [
              0.7777777777777778,
              "#fb9f3a"
             ],
             [
              0.8888888888888888,
              "#fdca26"
             ],
             [
              1,
              "#f0f921"
             ]
            ],
            "type": "histogram2dcontour"
           }
          ],
          "mesh3d": [
           {
            "colorbar": {
             "outlinewidth": 0,
             "ticks": ""
            },
            "type": "mesh3d"
           }
          ],
          "parcoords": [
           {
            "line": {
             "colorbar": {
              "outlinewidth": 0,
              "ticks": ""
             }
            },
            "type": "parcoords"
           }
          ],
          "pie": [
           {
            "automargin": true,
            "type": "pie"
           }
          ],
          "scatter": [
           {
            "fillpattern": {
             "fillmode": "overlay",
             "size": 10,
             "solidity": 0.2
            },
            "type": "scatter"
           }
          ],
          "scatter3d": [
           {
            "line": {
             "colorbar": {
              "outlinewidth": 0,
              "ticks": ""
             }
            },
            "marker": {
             "colorbar": {
              "outlinewidth": 0,
              "ticks": ""
             }
            },
            "type": "scatter3d"
           }
          ],
          "scattercarpet": [
           {
            "marker": {
             "colorbar": {
              "outlinewidth": 0,
              "ticks": ""
             }
            },
            "type": "scattercarpet"
           }
          ],
          "scattergeo": [
           {
            "marker": {
             "colorbar": {
              "outlinewidth": 0,
              "ticks": ""
             }
            },
            "type": "scattergeo"
           }
          ],
          "scattergl": [
           {
            "marker": {
             "colorbar": {
              "outlinewidth": 0,
              "ticks": ""
             }
            },
            "type": "scattergl"
           }
          ],
          "scattermap": [
           {
            "marker": {
             "colorbar": {
              "outlinewidth": 0,
              "ticks": ""
             }
            },
            "type": "scattermap"
           }
          ],
          "scattermapbox": [
           {
            "marker": {
             "colorbar": {
              "outlinewidth": 0,
              "ticks": ""
             }
            },
            "type": "scattermapbox"
           }
          ],
          "scatterpolar": [
           {
            "marker": {
             "colorbar": {
              "outlinewidth": 0,
              "ticks": ""
             }
            },
            "type": "scatterpolar"
           }
          ],
          "scatterpolargl": [
           {
            "marker": {
             "colorbar": {
              "outlinewidth": 0,
              "ticks": ""
             }
            },
            "type": "scatterpolargl"
           }
          ],
          "scatterternary": [
           {
            "marker": {
             "colorbar": {
              "outlinewidth": 0,
              "ticks": ""
             }
            },
            "type": "scatterternary"
           }
          ],
          "surface": [
           {
            "colorbar": {
             "outlinewidth": 0,
             "ticks": ""
            },
            "colorscale": [
             [
              0,
              "#0d0887"
             ],
             [
              0.1111111111111111,
              "#46039f"
             ],
             [
              0.2222222222222222,
              "#7201a8"
             ],
             [
              0.3333333333333333,
              "#9c179e"
             ],
             [
              0.4444444444444444,
              "#bd3786"
             ],
             [
              0.5555555555555556,
              "#d8576b"
             ],
             [
              0.6666666666666666,
              "#ed7953"
             ],
             [
              0.7777777777777778,
              "#fb9f3a"
             ],
             [
              0.8888888888888888,
              "#fdca26"
             ],
             [
              1,
              "#f0f921"
             ]
            ],
            "type": "surface"
           }
          ],
          "table": [
           {
            "cells": {
             "fill": {
              "color": "#EBF0F8"
             },
             "line": {
              "color": "white"
             }
            },
            "header": {
             "fill": {
              "color": "#C8D4E3"
             },
             "line": {
              "color": "white"
             }
            },
            "type": "table"
           }
          ]
         },
         "layout": {
          "annotationdefaults": {
           "arrowcolor": "#2a3f5f",
           "arrowhead": 0,
           "arrowwidth": 1
          },
          "autotypenumbers": "strict",
          "coloraxis": {
           "colorbar": {
            "outlinewidth": 0,
            "ticks": ""
           }
          },
          "colorscale": {
           "diverging": [
            [
             0,
             "#8e0152"
            ],
            [
             0.1,
             "#c51b7d"
            ],
            [
             0.2,
             "#de77ae"
            ],
            [
             0.3,
             "#f1b6da"
            ],
            [
             0.4,
             "#fde0ef"
            ],
            [
             0.5,
             "#f7f7f7"
            ],
            [
             0.6,
             "#e6f5d0"
            ],
            [
             0.7,
             "#b8e186"
            ],
            [
             0.8,
             "#7fbc41"
            ],
            [
             0.9,
             "#4d9221"
            ],
            [
             1,
             "#276419"
            ]
           ],
           "sequential": [
            [
             0,
             "#0d0887"
            ],
            [
             0.1111111111111111,
             "#46039f"
            ],
            [
             0.2222222222222222,
             "#7201a8"
            ],
            [
             0.3333333333333333,
             "#9c179e"
            ],
            [
             0.4444444444444444,
             "#bd3786"
            ],
            [
             0.5555555555555556,
             "#d8576b"
            ],
            [
             0.6666666666666666,
             "#ed7953"
            ],
            [
             0.7777777777777778,
             "#fb9f3a"
            ],
            [
             0.8888888888888888,
             "#fdca26"
            ],
            [
             1,
             "#f0f921"
            ]
           ],
           "sequentialminus": [
            [
             0,
             "#0d0887"
            ],
            [
             0.1111111111111111,
             "#46039f"
            ],
            [
             0.2222222222222222,
             "#7201a8"
            ],
            [
             0.3333333333333333,
             "#9c179e"
            ],
            [
             0.4444444444444444,
             "#bd3786"
            ],
            [
             0.5555555555555556,
             "#d8576b"
            ],
            [
             0.6666666666666666,
             "#ed7953"
            ],
            [
             0.7777777777777778,
             "#fb9f3a"
            ],
            [
             0.8888888888888888,
             "#fdca26"
            ],
            [
             1,
             "#f0f921"
            ]
           ]
          },
          "colorway": [
           "#636efa",
           "#EF553B",
           "#00cc96",
           "#ab63fa",
           "#FFA15A",
           "#19d3f3",
           "#FF6692",
           "#B6E880",
           "#FF97FF",
           "#FECB52"
          ],
          "font": {
           "color": "#2a3f5f"
          },
          "geo": {
           "bgcolor": "white",
           "lakecolor": "white",
           "landcolor": "#E5ECF6",
           "showlakes": true,
           "showland": true,
           "subunitcolor": "white"
          },
          "hoverlabel": {
           "align": "left"
          },
          "hovermode": "closest",
          "mapbox": {
           "style": "light"
          },
          "paper_bgcolor": "white",
          "plot_bgcolor": "#E5ECF6",
          "polar": {
           "angularaxis": {
            "gridcolor": "white",
            "linecolor": "white",
            "ticks": ""
           },
           "bgcolor": "#E5ECF6",
           "radialaxis": {
            "gridcolor": "white",
            "linecolor": "white",
            "ticks": ""
           }
          },
          "scene": {
           "xaxis": {
            "backgroundcolor": "#E5ECF6",
            "gridcolor": "white",
            "gridwidth": 2,
            "linecolor": "white",
            "showbackground": true,
            "ticks": "",
            "zerolinecolor": "white"
           },
           "yaxis": {
            "backgroundcolor": "#E5ECF6",
            "gridcolor": "white",
            "gridwidth": 2,
            "linecolor": "white",
            "showbackground": true,
            "ticks": "",
            "zerolinecolor": "white"
           },
           "zaxis": {
            "backgroundcolor": "#E5ECF6",
            "gridcolor": "white",
            "gridwidth": 2,
            "linecolor": "white",
            "showbackground": true,
            "ticks": "",
            "zerolinecolor": "white"
           }
          },
          "shapedefaults": {
           "line": {
            "color": "#2a3f5f"
           }
          },
          "ternary": {
           "aaxis": {
            "gridcolor": "white",
            "linecolor": "white",
            "ticks": ""
           },
           "baxis": {
            "gridcolor": "white",
            "linecolor": "white",
            "ticks": ""
           },
           "bgcolor": "#E5ECF6",
           "caxis": {
            "gridcolor": "white",
            "linecolor": "white",
            "ticks": ""
           }
          },
          "title": {
           "x": 0.05
          },
          "xaxis": {
           "automargin": true,
           "gridcolor": "white",
           "linecolor": "white",
           "ticks": "",
           "title": {
            "standoff": 15
           },
           "zerolinecolor": "white",
           "zerolinewidth": 2
          },
          "yaxis": {
           "automargin": true,
           "gridcolor": "white",
           "linecolor": "white",
           "ticks": "",
           "title": {
            "standoff": 15
           },
           "zerolinecolor": "white",
           "zerolinewidth": 2
          }
         }
        },
        "title": {
         "text": "Standardized std of parameters by generation"
        },
        "xaxis": {
         "anchor": "y",
         "domain": [
          0,
          0.16799999999999998
         ]
        },
        "xaxis2": {
         "anchor": "y2",
         "domain": [
          0.208,
          0.376
         ]
        },
        "xaxis3": {
         "anchor": "y3",
         "domain": [
          0.416,
          0.584
         ]
        },
        "xaxis4": {
         "anchor": "y4",
         "domain": [
          0.624,
          0.792
         ]
        },
        "xaxis5": {
         "anchor": "y5",
         "domain": [
          0.832,
          1
         ]
        },
        "yaxis": {
         "anchor": "x",
         "domain": [
          0,
          1
         ]
        },
        "yaxis2": {
         "anchor": "x2",
         "domain": [
          0,
          1
         ],
         "matches": "y",
         "showticklabels": false
        },
        "yaxis3": {
         "anchor": "x3",
         "domain": [
          0,
          1
         ],
         "matches": "y",
         "showticklabels": false
        },
        "yaxis4": {
         "anchor": "x4",
         "domain": [
          0,
          1
         ],
         "matches": "y",
         "showticklabels": false
        },
        "yaxis5": {
         "anchor": "x5",
         "domain": [
          0,
          1
         ],
         "matches": "y",
         "showticklabels": false
        }
       }
      }
     },
     "metadata": {},
     "output_type": "display_data"
    }
   ],
   "source": [
    "viewer.parameters_standardized_deviation()"
   ]
  },
  {
   "cell_type": "code",
   "execution_count": 22,
   "metadata": {},
   "outputs": [
    {
     "data": {
      "application/vnd.plotly.v1+json": {
       "config": {
        "plotlyServerURL": "https://plot.ly"
       },
       "data": [
        {
         "fillpattern": {
          "shape": ""
         },
         "hovertemplate": "Variable=D1N1_energy_transfert<br>Generation=%{x}<br>Entropy=%{y}<extra></extra>",
         "legendgroup": "D1N1_energy_transfert",
         "line": {
          "color": "#636efa"
         },
         "marker": {
          "symbol": "circle"
         },
         "mode": "lines+markers",
         "name": "D1N1_energy_transfert",
         "orientation": "v",
         "showlegend": true,
         "stackgroup": "1",
         "type": "scatter",
         "x": {
          "bdata": "AAECAwQ=",
          "dtype": "i1"
         },
         "xaxis": "x",
         "y": {
          "bdata": "z8cMitX5F0Dho1rna9sUQJGZYV7nuhJA9Tw7m7bqEEBURqq7pgUPQA==",
          "dtype": "f8"
         },
         "yaxis": "y"
        },
        {
         "fillpattern": {
          "shape": ""
         },
         "hovertemplate": "Variable=D1N1_lambda_temperature_0<br>Generation=%{x}<br>Entropy=%{y}<extra></extra>",
         "legendgroup": "D1N1_lambda_temperature_0",
         "line": {
          "color": "#EF553B"
         },
         "marker": {
          "symbol": "circle"
         },
         "mode": "lines+markers",
         "name": "D1N1_lambda_temperature_0",
         "orientation": "v",
         "showlegend": true,
         "stackgroup": "1",
         "type": "scatter",
         "x": {
          "bdata": "AAECAwQ=",
          "dtype": "i1"
         },
         "xaxis": "x",
         "y": {
          "bdata": "1n8litX5F0Atn8t9YRUVQB4yBB+C1RJArBZTboyJEECm/75Kq5wMQA==",
          "dtype": "f8"
         },
         "yaxis": "y"
        },
        {
         "fillpattern": {
          "shape": ""
         },
         "hovertemplate": "Variable=D1N1_gamma_lambda_temperature<br>Generation=%{x}<br>Entropy=%{y}<extra></extra>",
         "legendgroup": "D1N1_gamma_lambda_temperature",
         "line": {
          "color": "#00cc96"
         },
         "marker": {
          "symbol": "circle"
         },
         "mode": "lines+markers",
         "name": "D1N1_gamma_lambda_temperature",
         "orientation": "v",
         "showlegend": true,
         "stackgroup": "1",
         "type": "scatter",
         "x": {
          "bdata": "AAECAwQ=",
          "dtype": "i1"
         },
         "xaxis": "x",
         "y": {
          "bdata": "GckMitX5F0AEwtKgaP0UQFdYfEAlkRJAHUx0kLxSEEAGOX0kZmsMQA==",
          "dtype": "f8"
         },
         "yaxis": "y"
        },
        {
         "fillpattern": {
          "shape": ""
         },
         "hovertemplate": "Variable=D1N1_tr_0<br>Generation=%{x}<br>Entropy=%{y}<extra></extra>",
         "legendgroup": "D1N1_tr_0",
         "line": {
          "color": "#ab63fa"
         },
         "marker": {
          "symbol": "circle"
         },
         "mode": "lines+markers",
         "name": "D1N1_tr_0",
         "orientation": "v",
         "showlegend": true,
         "stackgroup": "1",
         "type": "scatter",
         "x": {
          "bdata": "AAECAwQ=",
          "dtype": "i1"
         },
         "xaxis": "x",
         "y": {
          "bdata": "jfp6ktX5F0AsmTFKc+MUQDak7080vhJA6YVEOgpLEUBsx1YL6JwQQA==",
          "dtype": "f8"
         },
         "yaxis": "y"
        },
        {
         "fillpattern": {
          "shape": ""
         },
         "hovertemplate": "Variable=D1N1_gamma_tr<br>Generation=%{x}<br>Entropy=%{y}<extra></extra>",
         "legendgroup": "D1N1_gamma_tr",
         "line": {
          "color": "#FFA15A"
         },
         "marker": {
          "symbol": "circle"
         },
         "mode": "lines+markers",
         "name": "D1N1_gamma_tr",
         "orientation": "v",
         "showlegend": true,
         "stackgroup": "1",
         "type": "scatter",
         "x": {
          "bdata": "AAECAwQ=",
          "dtype": "i1"
         },
         "xaxis": "x",
         "y": {
          "bdata": "ntIMitX5F0CxQHYq1B0VQBTaW4poNRNAaIFRW8EGEkC2sWPoCDcRQA==",
          "dtype": "f8"
         },
         "yaxis": "y"
        },
        {
         "fillpattern": {
          "shape": ""
         },
         "hovertemplate": "Variable=D2N1_energy_transfert<br>Generation=%{x}<br>Entropy=%{y}<extra></extra>",
         "legendgroup": "D2N1_energy_transfert",
         "line": {
          "color": "#19d3f3"
         },
         "marker": {
          "symbol": "circle"
         },
         "mode": "lines+markers",
         "name": "D2N1_energy_transfert",
         "orientation": "v",
         "showlegend": true,
         "stackgroup": "1",
         "type": "scatter",
         "x": {
          "bdata": "AAECAwQ=",
          "dtype": "i1"
         },
         "xaxis": "x",
         "y": {
          "bdata": "Su4hKgj4F0AcXuSyAEEVQMhYlCIcQhNARSFcbDCNEUChKEXtl4IQQA==",
          "dtype": "f8"
         },
         "yaxis": "y"
        },
        {
         "fillpattern": {
          "shape": ""
         },
         "hovertemplate": "Variable=D2N1_lambda_temperature_0<br>Generation=%{x}<br>Entropy=%{y}<extra></extra>",
         "legendgroup": "D2N1_lambda_temperature_0",
         "line": {
          "color": "#FF6692"
         },
         "marker": {
          "symbol": "circle"
         },
         "mode": "lines+markers",
         "name": "D2N1_lambda_temperature_0",
         "orientation": "v",
         "showlegend": true,
         "stackgroup": "1",
         "type": "scatter",
         "x": {
          "bdata": "AAECAwQ=",
          "dtype": "i1"
         },
         "xaxis": "x",
         "y": {
          "bdata": "gk8Q6qL7F0AstU+8DSEVQHhKcfeCbRNAHzn1Q//KEUC1mKM+Z/QQQA==",
          "dtype": "f8"
         },
         "yaxis": "y"
        },
        {
         "fillpattern": {
          "shape": ""
         },
         "hovertemplate": "Variable=D2N1_gamma_lambda_temperature<br>Generation=%{x}<br>Entropy=%{y}<extra></extra>",
         "legendgroup": "D2N1_gamma_lambda_temperature",
         "line": {
          "color": "#B6E880"
         },
         "marker": {
          "symbol": "circle"
         },
         "mode": "lines+markers",
         "name": "D2N1_gamma_lambda_temperature",
         "orientation": "v",
         "showlegend": true,
         "stackgroup": "1",
         "type": "scatter",
         "x": {
          "bdata": "AAECAwQ=",
          "dtype": "i1"
         },
         "xaxis": "x",
         "y": {
          "bdata": "avshKgj4F0DtTNlL6xEVQNZMbnVlgBNAEAMVq5lWEkAMbk1mtYgRQA==",
          "dtype": "f8"
         },
         "yaxis": "y"
        },
        {
         "fillpattern": {
          "shape": ""
         },
         "hovertemplate": "Variable=D2N1_tr_0<br>Generation=%{x}<br>Entropy=%{y}<extra></extra>",
         "legendgroup": "D2N1_tr_0",
         "line": {
          "color": "#FF97FF"
         },
         "marker": {
          "symbol": "circle"
         },
         "mode": "lines+markers",
         "name": "D2N1_tr_0",
         "orientation": "v",
         "showlegend": true,
         "stackgroup": "1",
         "type": "scatter",
         "x": {
          "bdata": "AAECAwQ=",
          "dtype": "i1"
         },
         "xaxis": "x",
         "y": {
          "bdata": "4oOTMgj4F0C0athEDwgVQK1bHPkJXxNANw7geLHrEUCMgGpzMBkRQA==",
          "dtype": "f8"
         },
         "yaxis": "y"
        },
        {
         "fillpattern": {
          "shape": ""
         },
         "hovertemplate": "Variable=D2N1_gamma_tr<br>Generation=%{x}<br>Entropy=%{y}<extra></extra>",
         "legendgroup": "D2N1_gamma_tr",
         "line": {
          "color": "#FECB52"
         },
         "marker": {
          "symbol": "circle"
         },
         "mode": "lines+markers",
         "name": "D2N1_gamma_tr",
         "orientation": "v",
         "showlegend": true,
         "stackgroup": "1",
         "type": "scatter",
         "x": {
          "bdata": "AAECAwQ=",
          "dtype": "i1"
         },
         "xaxis": "x",
         "y": {
          "bdata": "QNIMitX5F0CymJmFxiIVQHkd5ar/MBNAgY+IBI/dEUDjaQxQdtcQQA==",
          "dtype": "f8"
         },
         "yaxis": "y"
        }
       ],
       "layout": {
        "legend": {
         "title": {
          "text": "Variable"
         },
         "tracegroupgap": 0
        },
        "plot_bgcolor": "rgba(0, 0, 0, 0)",
        "template": {
         "data": {
          "bar": [
           {
            "error_x": {
             "color": "#2a3f5f"
            },
            "error_y": {
             "color": "#2a3f5f"
            },
            "marker": {
             "line": {
              "color": "#E5ECF6",
              "width": 0.5
             },
             "pattern": {
              "fillmode": "overlay",
              "size": 10,
              "solidity": 0.2
             }
            },
            "type": "bar"
           }
          ],
          "barpolar": [
           {
            "marker": {
             "line": {
              "color": "#E5ECF6",
              "width": 0.5
             },
             "pattern": {
              "fillmode": "overlay",
              "size": 10,
              "solidity": 0.2
             }
            },
            "type": "barpolar"
           }
          ],
          "carpet": [
           {
            "aaxis": {
             "endlinecolor": "#2a3f5f",
             "gridcolor": "white",
             "linecolor": "white",
             "minorgridcolor": "white",
             "startlinecolor": "#2a3f5f"
            },
            "baxis": {
             "endlinecolor": "#2a3f5f",
             "gridcolor": "white",
             "linecolor": "white",
             "minorgridcolor": "white",
             "startlinecolor": "#2a3f5f"
            },
            "type": "carpet"
           }
          ],
          "choropleth": [
           {
            "colorbar": {
             "outlinewidth": 0,
             "ticks": ""
            },
            "type": "choropleth"
           }
          ],
          "contour": [
           {
            "colorbar": {
             "outlinewidth": 0,
             "ticks": ""
            },
            "colorscale": [
             [
              0,
              "#0d0887"
             ],
             [
              0.1111111111111111,
              "#46039f"
             ],
             [
              0.2222222222222222,
              "#7201a8"
             ],
             [
              0.3333333333333333,
              "#9c179e"
             ],
             [
              0.4444444444444444,
              "#bd3786"
             ],
             [
              0.5555555555555556,
              "#d8576b"
             ],
             [
              0.6666666666666666,
              "#ed7953"
             ],
             [
              0.7777777777777778,
              "#fb9f3a"
             ],
             [
              0.8888888888888888,
              "#fdca26"
             ],
             [
              1,
              "#f0f921"
             ]
            ],
            "type": "contour"
           }
          ],
          "contourcarpet": [
           {
            "colorbar": {
             "outlinewidth": 0,
             "ticks": ""
            },
            "type": "contourcarpet"
           }
          ],
          "heatmap": [
           {
            "colorbar": {
             "outlinewidth": 0,
             "ticks": ""
            },
            "colorscale": [
             [
              0,
              "#0d0887"
             ],
             [
              0.1111111111111111,
              "#46039f"
             ],
             [
              0.2222222222222222,
              "#7201a8"
             ],
             [
              0.3333333333333333,
              "#9c179e"
             ],
             [
              0.4444444444444444,
              "#bd3786"
             ],
             [
              0.5555555555555556,
              "#d8576b"
             ],
             [
              0.6666666666666666,
              "#ed7953"
             ],
             [
              0.7777777777777778,
              "#fb9f3a"
             ],
             [
              0.8888888888888888,
              "#fdca26"
             ],
             [
              1,
              "#f0f921"
             ]
            ],
            "type": "heatmap"
           }
          ],
          "histogram": [
           {
            "marker": {
             "pattern": {
              "fillmode": "overlay",
              "size": 10,
              "solidity": 0.2
             }
            },
            "type": "histogram"
           }
          ],
          "histogram2d": [
           {
            "colorbar": {
             "outlinewidth": 0,
             "ticks": ""
            },
            "colorscale": [
             [
              0,
              "#0d0887"
             ],
             [
              0.1111111111111111,
              "#46039f"
             ],
             [
              0.2222222222222222,
              "#7201a8"
             ],
             [
              0.3333333333333333,
              "#9c179e"
             ],
             [
              0.4444444444444444,
              "#bd3786"
             ],
             [
              0.5555555555555556,
              "#d8576b"
             ],
             [
              0.6666666666666666,
              "#ed7953"
             ],
             [
              0.7777777777777778,
              "#fb9f3a"
             ],
             [
              0.8888888888888888,
              "#fdca26"
             ],
             [
              1,
              "#f0f921"
             ]
            ],
            "type": "histogram2d"
           }
          ],
          "histogram2dcontour": [
           {
            "colorbar": {
             "outlinewidth": 0,
             "ticks": ""
            },
            "colorscale": [
             [
              0,
              "#0d0887"
             ],
             [
              0.1111111111111111,
              "#46039f"
             ],
             [
              0.2222222222222222,
              "#7201a8"
             ],
             [
              0.3333333333333333,
              "#9c179e"
             ],
             [
              0.4444444444444444,
              "#bd3786"
             ],
             [
              0.5555555555555556,
              "#d8576b"
             ],
             [
              0.6666666666666666,
              "#ed7953"
             ],
             [
              0.7777777777777778,
              "#fb9f3a"
             ],
             [
              0.8888888888888888,
              "#fdca26"
             ],
             [
              1,
              "#f0f921"
             ]
            ],
            "type": "histogram2dcontour"
           }
          ],
          "mesh3d": [
           {
            "colorbar": {
             "outlinewidth": 0,
             "ticks": ""
            },
            "type": "mesh3d"
           }
          ],
          "parcoords": [
           {
            "line": {
             "colorbar": {
              "outlinewidth": 0,
              "ticks": ""
             }
            },
            "type": "parcoords"
           }
          ],
          "pie": [
           {
            "automargin": true,
            "type": "pie"
           }
          ],
          "scatter": [
           {
            "fillpattern": {
             "fillmode": "overlay",
             "size": 10,
             "solidity": 0.2
            },
            "type": "scatter"
           }
          ],
          "scatter3d": [
           {
            "line": {
             "colorbar": {
              "outlinewidth": 0,
              "ticks": ""
             }
            },
            "marker": {
             "colorbar": {
              "outlinewidth": 0,
              "ticks": ""
             }
            },
            "type": "scatter3d"
           }
          ],
          "scattercarpet": [
           {
            "marker": {
             "colorbar": {
              "outlinewidth": 0,
              "ticks": ""
             }
            },
            "type": "scattercarpet"
           }
          ],
          "scattergeo": [
           {
            "marker": {
             "colorbar": {
              "outlinewidth": 0,
              "ticks": ""
             }
            },
            "type": "scattergeo"
           }
          ],
          "scattergl": [
           {
            "marker": {
             "colorbar": {
              "outlinewidth": 0,
              "ticks": ""
             }
            },
            "type": "scattergl"
           }
          ],
          "scattermap": [
           {
            "marker": {
             "colorbar": {
              "outlinewidth": 0,
              "ticks": ""
             }
            },
            "type": "scattermap"
           }
          ],
          "scattermapbox": [
           {
            "marker": {
             "colorbar": {
              "outlinewidth": 0,
              "ticks": ""
             }
            },
            "type": "scattermapbox"
           }
          ],
          "scatterpolar": [
           {
            "marker": {
             "colorbar": {
              "outlinewidth": 0,
              "ticks": ""
             }
            },
            "type": "scatterpolar"
           }
          ],
          "scatterpolargl": [
           {
            "marker": {
             "colorbar": {
              "outlinewidth": 0,
              "ticks": ""
             }
            },
            "type": "scatterpolargl"
           }
          ],
          "scatterternary": [
           {
            "marker": {
             "colorbar": {
              "outlinewidth": 0,
              "ticks": ""
             }
            },
            "type": "scatterternary"
           }
          ],
          "surface": [
           {
            "colorbar": {
             "outlinewidth": 0,
             "ticks": ""
            },
            "colorscale": [
             [
              0,
              "#0d0887"
             ],
             [
              0.1111111111111111,
              "#46039f"
             ],
             [
              0.2222222222222222,
              "#7201a8"
             ],
             [
              0.3333333333333333,
              "#9c179e"
             ],
             [
              0.4444444444444444,
              "#bd3786"
             ],
             [
              0.5555555555555556,
              "#d8576b"
             ],
             [
              0.6666666666666666,
              "#ed7953"
             ],
             [
              0.7777777777777778,
              "#fb9f3a"
             ],
             [
              0.8888888888888888,
              "#fdca26"
             ],
             [
              1,
              "#f0f921"
             ]
            ],
            "type": "surface"
           }
          ],
          "table": [
           {
            "cells": {
             "fill": {
              "color": "#EBF0F8"
             },
             "line": {
              "color": "white"
             }
            },
            "header": {
             "fill": {
              "color": "#C8D4E3"
             },
             "line": {
              "color": "white"
             }
            },
            "type": "table"
           }
          ]
         },
         "layout": {
          "annotationdefaults": {
           "arrowcolor": "#2a3f5f",
           "arrowhead": 0,
           "arrowwidth": 1
          },
          "autotypenumbers": "strict",
          "coloraxis": {
           "colorbar": {
            "outlinewidth": 0,
            "ticks": ""
           }
          },
          "colorscale": {
           "diverging": [
            [
             0,
             "#8e0152"
            ],
            [
             0.1,
             "#c51b7d"
            ],
            [
             0.2,
             "#de77ae"
            ],
            [
             0.3,
             "#f1b6da"
            ],
            [
             0.4,
             "#fde0ef"
            ],
            [
             0.5,
             "#f7f7f7"
            ],
            [
             0.6,
             "#e6f5d0"
            ],
            [
             0.7,
             "#b8e186"
            ],
            [
             0.8,
             "#7fbc41"
            ],
            [
             0.9,
             "#4d9221"
            ],
            [
             1,
             "#276419"
            ]
           ],
           "sequential": [
            [
             0,
             "#0d0887"
            ],
            [
             0.1111111111111111,
             "#46039f"
            ],
            [
             0.2222222222222222,
             "#7201a8"
            ],
            [
             0.3333333333333333,
             "#9c179e"
            ],
            [
             0.4444444444444444,
             "#bd3786"
            ],
            [
             0.5555555555555556,
             "#d8576b"
            ],
            [
             0.6666666666666666,
             "#ed7953"
            ],
            [
             0.7777777777777778,
             "#fb9f3a"
            ],
            [
             0.8888888888888888,
             "#fdca26"
            ],
            [
             1,
             "#f0f921"
            ]
           ],
           "sequentialminus": [
            [
             0,
             "#0d0887"
            ],
            [
             0.1111111111111111,
             "#46039f"
            ],
            [
             0.2222222222222222,
             "#7201a8"
            ],
            [
             0.3333333333333333,
             "#9c179e"
            ],
            [
             0.4444444444444444,
             "#bd3786"
            ],
            [
             0.5555555555555556,
             "#d8576b"
            ],
            [
             0.6666666666666666,
             "#ed7953"
            ],
            [
             0.7777777777777778,
             "#fb9f3a"
            ],
            [
             0.8888888888888888,
             "#fdca26"
            ],
            [
             1,
             "#f0f921"
            ]
           ]
          },
          "colorway": [
           "#636efa",
           "#EF553B",
           "#00cc96",
           "#ab63fa",
           "#FFA15A",
           "#19d3f3",
           "#FF6692",
           "#B6E880",
           "#FF97FF",
           "#FECB52"
          ],
          "font": {
           "color": "#2a3f5f"
          },
          "geo": {
           "bgcolor": "white",
           "lakecolor": "white",
           "landcolor": "#E5ECF6",
           "showlakes": true,
           "showland": true,
           "subunitcolor": "white"
          },
          "hoverlabel": {
           "align": "left"
          },
          "hovermode": "closest",
          "mapbox": {
           "style": "light"
          },
          "paper_bgcolor": "white",
          "plot_bgcolor": "#E5ECF6",
          "polar": {
           "angularaxis": {
            "gridcolor": "white",
            "linecolor": "white",
            "ticks": ""
           },
           "bgcolor": "#E5ECF6",
           "radialaxis": {
            "gridcolor": "white",
            "linecolor": "white",
            "ticks": ""
           }
          },
          "scene": {
           "xaxis": {
            "backgroundcolor": "#E5ECF6",
            "gridcolor": "white",
            "gridwidth": 2,
            "linecolor": "white",
            "showbackground": true,
            "ticks": "",
            "zerolinecolor": "white"
           },
           "yaxis": {
            "backgroundcolor": "#E5ECF6",
            "gridcolor": "white",
            "gridwidth": 2,
            "linecolor": "white",
            "showbackground": true,
            "ticks": "",
            "zerolinecolor": "white"
           },
           "zaxis": {
            "backgroundcolor": "#E5ECF6",
            "gridcolor": "white",
            "gridwidth": 2,
            "linecolor": "white",
            "showbackground": true,
            "ticks": "",
            "zerolinecolor": "white"
           }
          },
          "shapedefaults": {
           "line": {
            "color": "#2a3f5f"
           }
          },
          "ternary": {
           "aaxis": {
            "gridcolor": "white",
            "linecolor": "white",
            "ticks": ""
           },
           "baxis": {
            "gridcolor": "white",
            "linecolor": "white",
            "ticks": ""
           },
           "bgcolor": "#E5ECF6",
           "caxis": {
            "gridcolor": "white",
            "linecolor": "white",
            "ticks": ""
           }
          },
          "title": {
           "x": 0.05
          },
          "xaxis": {
           "automargin": true,
           "gridcolor": "white",
           "linecolor": "white",
           "ticks": "",
           "title": {
            "standoff": 15
           },
           "zerolinecolor": "white",
           "zerolinewidth": 2
          },
          "yaxis": {
           "automargin": true,
           "gridcolor": "white",
           "linecolor": "white",
           "ticks": "",
           "title": {
            "standoff": 15
           },
           "zerolinecolor": "white",
           "zerolinewidth": 2
          }
         }
        },
        "title": {
         "text": "Shannon entropy of parameter distributions"
        },
        "xaxis": {
         "anchor": "y",
         "domain": [
          0,
          1
         ],
         "showgrid": false,
         "title": {
          "text": "Generation"
         }
        },
        "yaxis": {
         "anchor": "x",
         "domain": [
          0,
          1
         ],
         "showgrid": false,
         "title": {
          "text": "Entropy"
         }
        }
       }
      }
     },
     "metadata": {},
     "output_type": "display_data"
    }
   ],
   "source": [
    "viewer.shannon_entropy(bins=100_000)"
   ]
  },
  {
   "cell_type": "code",
   "execution_count": 23,
   "metadata": {},
   "outputs": [
    {
     "data": {
      "application/vnd.plotly.v1+json": {
       "config": {
        "plotlyServerURL": "https://plot.ly"
       },
       "data": [
        {
         "alignmentgroup": "True",
         "hovertemplate": "D1N1_energy_transfert=%{y}<extra></extra>",
         "legendgroup": "",
         "marker": {
          "color": "#636efa"
         },
         "name": "",
         "notched": false,
         "offsetgroup": "",
         "orientation": "v",
         "showlegend": false,
         "type": "box",
         "x0": " ",
         "xaxis": "x",
         "y": {
          "bdata": "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",
          "dtype": "f8"
         },
         "y0": " ",
         "yaxis": "y"
        },
        {
         "alignmentgroup": "True",
         "hovertemplate": "D1N1_lambda_temperature_0=%{y}<extra></extra>",
         "legendgroup": "",
         "marker": {
          "color": "#636efa"
         },
         "name": "",
         "notched": false,
         "offsetgroup": "",
         "orientation": "v",
         "showlegend": false,
         "type": "box",
         "x0": " ",
         "xaxis": "x2",
         "y": {
          "bdata": "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",
          "dtype": "f8"
         },
         "y0": " ",
         "yaxis": "y2"
        },
        {
         "alignmentgroup": "True",
         "hovertemplate": "D1N1_gamma_lambda_temperature=%{y}<extra></extra>",
         "legendgroup": "",
         "marker": {
          "color": "#636efa"
         },
         "name": "",
         "notched": false,
         "offsetgroup": "",
         "orientation": "v",
         "showlegend": false,
         "type": "box",
         "x0": " ",
         "xaxis": "x3",
         "y": {
          "bdata": "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",
          "dtype": "f8"
         },
         "y0": " ",
         "yaxis": "y3"
        },
        {
         "alignmentgroup": "True",
         "hovertemplate": "D1N1_tr_0=%{y}<extra></extra>",
         "legendgroup": "",
         "marker": {
          "color": "#636efa"
         },
         "name": "",
         "notched": false,
         "offsetgroup": "",
         "orientation": "v",
         "showlegend": false,
         "type": "box",
         "x0": " ",
         "xaxis": "x4",
         "y": {
          "bdata": "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",
          "dtype": "f8"
         },
         "y0": " ",
         "yaxis": "y4"
        },
        {
         "alignmentgroup": "True",
         "hovertemplate": "D1N1_gamma_tr=%{y}<extra></extra>",
         "legendgroup": "",
         "marker": {
          "color": "#636efa"
         },
         "name": "",
         "notched": false,
         "offsetgroup": "",
         "orientation": "v",
         "showlegend": false,
         "type": "box",
         "x0": " ",
         "xaxis": "x5",
         "y": {
          "bdata": "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",
          "dtype": "f8"
         },
         "y0": " ",
         "yaxis": "y5"
        },
        {
         "alignmentgroup": "True",
         "hovertemplate": "D2N1_energy_transfert=%{y}<extra></extra>",
         "legendgroup": "",
         "marker": {
          "color": "#636efa"
         },
         "name": "",
         "notched": false,
         "offsetgroup": "",
         "orientation": "v",
         "showlegend": false,
         "type": "box",
         "x0": " ",
         "xaxis": "x6",
         "y": {
          "bdata": "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",
          "dtype": "f8"
         },
         "y0": " ",
         "yaxis": "y6"
        },
        {
         "alignmentgroup": "True",
         "hovertemplate": "D2N1_lambda_temperature_0=%{y}<extra></extra>",
         "legendgroup": "",
         "marker": {
          "color": "#636efa"
         },
         "name": "",
         "notched": false,
         "offsetgroup": "",
         "orientation": "v",
         "showlegend": false,
         "type": "box",
         "x0": " ",
         "xaxis": "x7",
         "y": {
          "bdata": "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",
          "dtype": "f8"
         },
         "y0": " ",
         "yaxis": "y7"
        },
        {
         "alignmentgroup": "True",
         "hovertemplate": "D2N1_gamma_lambda_temperature=%{y}<extra></extra>",
         "legendgroup": "",
         "marker": {
          "color": "#636efa"
         },
         "name": "",
         "notched": false,
         "offsetgroup": "",
         "orientation": "v",
         "showlegend": false,
         "type": "box",
         "x0": " ",
         "xaxis": "x8",
         "y": {
          "bdata": "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",
          "dtype": "f8"
         },
         "y0": " ",
         "yaxis": "y8"
        },
        {
         "alignmentgroup": "True",
         "hovertemplate": "D2N1_tr_0=%{y}<extra></extra>",
         "legendgroup": "",
         "marker": {
          "color": "#636efa"
         },
         "name": "",
         "notched": false,
         "offsetgroup": "",
         "orientation": "v",
         "showlegend": false,
         "type": "box",
         "x0": " ",
         "xaxis": "x9",
         "y": {
          "bdata": "AABQOLNCPUAAADh0/Jw+QFAEGraaH8I/uH8G8gl0IkAAADh0/Jw+QAAAOHT8nD5AAAA4dPycPkAAADh0/Jw+QAAAOHT8nD5AAAA4dPycPkAAADh0/Jw+QAAAOHT8nD5AAAA4dPycPkAAADh0/Jw+QAAAOHT8nD5AAABQNTiALEAAADh0/Jw+QAAAsOgZbSxAAAA4dPycPkAAAPR8TZBAQAAANPfhIEhAAAC4AZJjNEAAAACB/ZvsPwAAuAGSYzRAAABIkCPISEAAALgBkmM0QAAAAIH9m+w/AAAAgf2b7D8AAACB/ZvsPwAANPfhIEhAAAC4AZJjNEAAALgBkmM0QF51mASTaUFAAAColNKyQEAAAACB/ZvsPwAAvPETB0RAAAAAroA5IEAAAACVccE5QAAAmJ0cCDRAAAA4dPycPkBH/F3wqaYTQAAAmJ0cCDRAAACw6BltLEAAADh0/Jw+QAAAoNgJjxFAAACg2AmPEUAAAKDYCY8RQAAAoNgJjxFAAACg2AmPEUAAAKDYCY8RQAAAoNgJjxFAAAAAgf2b7D8AAKgDkEU/QAAAAFqn6SRAAAAAWqfpJEAAADT34SBIQAAARDxVE0dAAACA3HjFHkAAADh0/Jw+QAAARDxVE0dAAABEPFUTR0AAAOiyrNo0QAAASJAjyEhAAAAAlXHBOUAAAACVccE5QAAAOHT8nD5AAAAAlXHBOUAAAOiyrNo0QAAA6LKs2jRAAAAAgf2b7D8AAFA1OIAsQAAAAJVxwTlAAADosqzaNEAAAOiyrNo0QAAAOHT8nD5AAAA4dPycPkAAAACVccE5QAAASJAjyEhAAABIkCPISEAAAACVccE5QAAAAP2Gr+c/AAB4UyOUOEAAAEBDdmE9QAAASJAjyEhAAABobKU3MkAAAGhspTcyQAAAaGylNzJAAABobKU3MkAAAFA1OIAsQAAAUDU4gCxAAABQNTiALEAAADh0/Jw+QAAAAP2Gr+c/AAAA/Yav5z8AAGhspTcyQLw6uIbVUzRAvDq4htVTNEAAAFA1OIAsQAAAoNgJjxFAAACYnRwINEBQBBq2mh/CPwAAAJVxwTlAAAAAlXHBOUAAAACVccE5QAAASLz8VzBAAAAAlXHBOUAAAACVccE5QAAAAJVxwTlAAAAAlXHBOUAAAACVccE5QAAAAJVxwTlAAAAAlXHBOUAAAACVccE5QAAAeGRF1DhAAAAAlXHBOUAAAACVccE5QAAAmJ0cCDRAAAAAlXHBOUAAAMjWpt1IQAAAyNam3UhAAADgze2PL0AAAODN7Y8vQAAA4M3tjy9AAADgze2PL0AAAACVccE5QAAAAJVxwTlAAAAAlXHBOUAAAPAfVdM8QAAAsOgZbSxAAACw6BltLEAAALDoGW0sQAAAsOgZbSxAAAAAlXHBOUAAAACVccE5QAAAAJVxwTlAAAAAlXHBOUAAAACVccE5QAAAAJVxwTlAAAAAlXHBOUAAADT34SBIQAAAAJVxwTlAAAAAgf2b7D8AAACB/ZvsPwAANPfhIEhAAAA09+EgSEAAAACB/ZvsPwAAsOgZbSxAAAA4dPycPkBH/F3wqaYTQAAAOHT8nD5AAAA4dPycPkAAAKiU0rJAQERRDMSydf0/AACg2AmPEUBBiwaKVBU6QAAAOHT8nD5AAAC4AZJjNEAAAACB/ZvsPwAAAIH9m+w/AACw6BltLEAAALDoGW0sQAAAsOgZbSxAAADg443yNUAAAODjjfI1QCHVB+t+5khAAACw6BltLEAAALDoGW0sQAAAsOgZbSxAAAA4dPycPkAAAFi4675HQAAAWLjrvkdAAABYuOu+R0BH/F3wqaYTQAAAaGylNzJAAACg2AmPEUAAADh0/Jw+QAAAwNrszTNAAADAz2C/OEAAAODN7Y8vQJIbcyjhKTZAvDq4htVTNEAAAEi8/FcwQAAASLz8VzBAAABIvPxXMEAAAEi8/FcwQAAAIJhwMhNAAADosqzaNEAAAOiyrNo0QAAAsOcm2iFAAACw5ybaIUAAALDnJtohQAAAuAGSYzRAlKyjRTGeRECUrKNFMZ5EQAAAAJVxwTlAAAC4AZJjNEAAALgBkmM0QAAA6LKs2jRAAAAcTI0hRkAAAHhTI5Q4QAAAeFMjlDhAAACo4fPeQUAAAMAxGtc8QAAAqJTSskBAAAAgmHAyE0AAADT34SBIQAAAAFqn6SRAAAAAWqfpJEAAAABap+kkQAAAAFqn6SRAAAAAWqfpJEAAAMDPYL84QAAAeFMjlDhAAAC4AZJjNEBQrbdI6NZAQAAAAJVxwTlAAACA3HjFHkAAAIDceMUeQAAAoNgJjxFA4tqtaJALPkAIEa7QpBA5QAAAwNrszTNAAADA2uzNM0AAAMDa7M0zQAAAgNx4xR5Aa9yKUkUPREAAALgBkmM0QAAAwNrszTNAAAC88RMHREAAAEi8/FcwQAAAuMYkBkBAAAAkHUdpSEAAAEBDdmE9QAAAcJiRwyBAAABwmJHDIEAAAHCYkcMgQAAASHP6C0ZAAAAA/Yav5z8AALjGJAZAQAAAuMYkBkBAAACoA5BFP0AAAKgDkEU/QBpH7mQJNkRAGkfuZAk2REAAAIDceMUeQAAA6LKs2jRAAADosqzaNEAAANA2q2MyQAAAAP2Gr+c/AAAA/Yav5z8AALgBkmM0QAAAAP2Gr+c/AAAA/Yav5z8AAAD9hq/nPwAAAP2Gr+c/AADA2uzNM0AAAHyYSuBFQAAAgNx4xR5AAAAkHUdpSEAAAPTvV7xBQAAA9O9XvEFAAAD071e8QUAAAPTvV7xBQAAAOHT8nD5AUAQatpofwj9QBBq2mh/CPwAAIJhwMhNAAAAEx0QRQUBQBBq2mh/CP1AEGraaH8I/UAQatpofwj8AAKjh895BQAAASJAjyEhAAAAAcwvS+D8AAFAKRPo2QLw6uIbVUzRAAACo4fPeQUBQBBq2mh/CPwAAuAGSYzRAAABQCkT6NkAAAFAKRPo2QAAAUApE+jZAAABQCkT6NkAAAHyYSuBFQAAAcDXomDBAAABwNeiYMEAAACAOZ4g5QAAAAJVxwTlAAAAAlXHBOUAAAACVccE5QAAAAJVxwTlAAAAAlXHBOUAAAACVccE5QAAAAJVxwTlAAACQRKAgL0DOga1Alhg/QEf8XfCpphNAAACw6BltLEAAALDoGW0sQAAAAJVxwTlAAACoA5BFP0AAALCBB0ZCQAAAAK33LRlAAAAArfctGUAAAACt9y0ZQJSso0UxnkRAAAAkHUdpSEAAAACVccE5QAAAoNgJjxFAAAA4dPycPkAAALzxEwdEQJIbcyjhKTZAAAC4xiQGQEAAALjGJAZAQAAAuMYkBkBAAAAArfctGUAAAODN7Y8vQAAAkESgIC9AAABEPFUTR0AAAKDYCY8RQAAAoNgJjxFAAACg2AmPEUAAAKDpLicmQAAAoNgJjxFAAACg2AmPEUAAAKDYCY8RQAAAAHML0vg/AABgEaMlK0AAAJidHAg0QAAANPfhIEhAAADA2uzNM0AAAMDa7M0zQAAAAK6AOSBAAAAAroA5IEAAAACugDkgQAAAAK6AOSBAAAAAroA5IEAAALjGJAZAQAAAsHQt7jlAAAC4xiQGQEAAALjGJAZAQAAAuMYkBkBAAAC4xiQGQEAAAICrV4gMQO5a1SgKKD5AAACg4pXXPkAAADh0/Jw+QAAAcI7yhSpAAADA2uzNM0AP3uw0B00jQAAAwNrszTNAQYsGilQVOkAAABgqB807QAAA9O9XvEFACBGu0KQQOUAAAEi8/FcwQAAAUDizQj1AAABQOLNCPUAAAACVccE5QAAAsOgZbSxAAACw6BltLEAAALDoGW0sQKwDFzRAshBAAAB4UyOUOEAAAICrV4gMQAAAwOqA2SNAAABIvPxXMEAAALCBB0ZCQAAAAJVxwTlAAAAAlXHBOUAAAEBDdmE9QAAAfJhK4EVAjX2Tp/E8SEAAAACugDkgQAAAAK6AOSBAAAAAroA5IEAAALgBkmM0QAAAAK6AOSBAkhtzKOEpNkCSG3Mo4Sk2QJIbcyjhKTZAkhtzKOEpNkCSG3Mo4Sk2QAAAuAGSYzRAAAAAlXHBOUAAADh0/Jw+QAAAAJVxwTlAAAAAlXHBOUAAAKiU0rJAQAAARDxVE0dAUAQatpofwj8AAFAKRPo2QAAAgNx4xR5AtOr9JnexRUC06v0md7FFQLTq/SZ3sUVAAAAwhArgJUAAALgBkmM0QAAAOHT8nD5AAAAIzzSxOkAAAACVccE5QF51mASTaUFAAAAAcwvS+D8AALDoGW0sQAAAAJVxwTlAAAAAlXHBOUAAAACVccE5QAAAAJVxwTlAAAAAlXHBOUAAAACVccE5QAAAAJVxwTlAAADA2uzNM0AAAHhTI5Q4QAAAeFMjlDhAAAB4UyOUOEAAAACVccE5QAAAAJVxwTlAAAAAlXHBOUAAAACB/ZvsPwAAoNgJjxFAAAB8mErgRUAAAIDceMUeQAAASJAjyEhAjhMP+71yHECOEw/7vXIcQI4TD/u9chxAIdUH637mSEAh1QfrfuZIQCHVB+t+5khAAACYnRwINEAAAABgJdiwPwAAYBGjJStAAABgEaMlK0AAAACVccE5QAAAYBGjJStAAABQNTiALEAAAHyYSuBFQAAAJB1HaUhAAAB4UyOUOEAAAERZTHdHQAAARFlMd0dAAABEWUx3R0AAAGhspTcyQAAAaGylNzJAAABAQ3ZhPUAAAHhTI5Q4QAAAeFMjlDhACBGu0KQQOUAAAEBDdmE9QAAAwM9gvzhAAAAAlXHBOUAAADCECuAlQAAA5BeZTkJAAAA4dPycPkAAAAjPNLE6QCHVB+t+5khAAAD0fE2QQEBBiwaKVBU6QAAAMIQK4CVAAAD071e8QUAAAPTvV7xBQHTvboNSMihAAAC4AZJjNECOEw/7vXIcQAAAuAGSYzRAAAC4AZJjNEAAAKDYCY8RQAAASHP6C0ZAAAD4mMLcMEAAAATHRBFBQAAAgKcVPBhAAABQNTiALEAAAKBrQ9A3QAAAMJhgdTZAAAD071e8QUAAAPTvV7xBQAAA9O9XvEFAAAD071e8QUAAALgBkmM0QAAA9O9XvEFAAADAGfzoE0AAAMDa7M0zQJIbcyjhKTZAAABEWUx3R0AAAERZTHdHQAAARFlMd0dAR/xd8KmmE0AAAFA1OIAsQAAAvPETB0RAAAD4mMLcMEAAACQCPepGQAAAIJKohx1AAAAA/Yav5z8AAMDPYL84QAAAOHT8nD5AAAAwhArgJUAAADCECuAlQAAABMdEEUFAAADIdq54N0AAAPR8TZBAQA==",
          "dtype": "f8"
         },
         "y0": " ",
         "yaxis": "y9"
        },
        {
         "alignmentgroup": "True",
         "hovertemplate": "D2N1_gamma_tr=%{y}<extra></extra>",
         "legendgroup": "",
         "marker": {
          "color": "#636efa"
         },
         "name": "",
         "notched": false,
         "offsetgroup": "",
         "orientation": "v",
         "showlegend": false,
         "type": "box",
         "x0": " ",
         "xaxis": "x10",
         "y": {
          "bdata": "rK34FaxJ2b/M7smuJKy7vxBR2qxJCpm/KAiHwqASxL/M7smuJKy7v8zuya4krLu/zO7JriSsu7/M7smuJKy7v8zuya4krLu/zO7JriSsu7/M7smuJKy7v8zuya4krLu/zO7JriSsu7/M7smuJKy7v8zuya4krLu/zO7JriSsu7/M7smuJKy7v3Cs65zKO8+/zO7JriSsu79z11IPIGvRvx2tCuVsFNu/c9dSDyBr0b88vdKaxWXEv3PXUg8ga9G/tFkFzldK1r9z11IPIGvRvzy90prFZcS/PL3SmsVlxL88vdKaxWXEvx2tCuVsFNu/c9dSDyBr0b9z11IPIGvRv3PXUg8ga9G/846j+R+h3L88vdKaxWXEvzy90prFZcS/CNcj41q+p78kuQyKqtnfv+m3L1bAW9e/zO7JriSsu79ovLSESvK/v+m3L1bAW9e/ifkXtZW91L/M7smuJKy7v6yt+BWsSdm/rK34FaxJ2b+srfgVrEnZv6yt+BWsSdm/rK34FaxJ2b+srfgVrEnZv6yt+BWsSdm/PL3SmsVlxL8klw9zaEXTv+ELM3DZkdW/4QszcNmR1b8drQrlbBTbvziJAeUR+sG/sUbAVIpIsb/M7smuJKy7vziJAeUR+sG/OIkB5RH6wb/M7smuJKy7v5QYBGI2Xbe/JLkMiqrZ378kuQyKqtnfv3jQM3hw3aK/JLkMiqrZ37+mCqZ+4K3Wv6YKpn7grda/PL3SmsVlxL/M7smuJKy7vyS5DIqq2d+/zO7JriSsu7/M7smuJKy7v8zuya4krLu/zO7JriSsu78kuQyKqtnfv5QYBGI2Xbe/lBgEYjZdt78kuQyKqtnfv0Bjf3S3yNm/lBgEYjZdt7/y6GL6/BXRv5QYBGI2Xbe/BHiLGh9vvb8EeIsaH2+9vwR4ixofb72/BHiLGh9vvb+UGARiNl23v5QYBGI2Xbe/lBgEYjZdt7/M7smuJKy7v5QYBGI2Xbe/lBgEYjZdt78EeIsaH2+9v8zuya4krLu/zO7JriSsu7+z17Rprquov6yt+BWsSdm/6bcvVsBb178QUdqsSQqZvyS5DIqq2d+/JLkMiqrZ37/pty9WwFvXv7BymD7CVtO/JLkMiqrZ378kuQyKqtnfvyS5DIqq2d+/JLkMiqrZ378kuQyKqtnfvyS5DIqq2d+/JLkMiqrZ378kuQyKqtnfvyS5DIqq2d+/JLkMiqrZ378kuQyKqtnfv+m3L1bAW9e/JLkMiqrZ379Q/Dhl6SbKv1D8OGXpJsq/UPw4Zekmyr+wcpg+wlbTv1D8OGXpJsq/UPw4Zekmyr8kuQyKqtnfvyS5DIqq2d+/JLkMiqrZ37/qlXKOP2nLv4n5F7WVvdS/ifkXtZW91L+J+Re1lb3Uv4n5F7WVvdS/JLkMiqrZ378kuQyKqtnfvyS5DIqq2d+/JLkMiqrZ378kuQyKqtnfvyS5DIqq2d+/JLkMiqrZ378drQrlbBTbvyS5DIqq2d+/PL3SmsVlxL88vdKaxWXEvx2tCuVsFNu/Ha0K5WwU27/pty9WwFvXvyyBixQVCNS/zO7JriSsu79Q/Dhl6SbKv8zuya4krLu/zO7JriSsu7/zjqP5H6Hcv4n5F7WVvdS/rK34FaxJ2b+UGARiNl23v8zuya4krLu/6bcvVsBb1788vdKaxWXEvzy90prFZcS/ifkXtZW91L+J+Re1lb3Uv4n5F7WVvdS/cKzrnMo7z79wrOucyjvPv3Cs65zKO8+/iTtfBwyR0b9wrOucyjvPv3Cs65zKO8+/zO7JriSsu78AbzG8bczRvwBvMbxtzNG/AG8xvG3M0b9ovLSESvK/vwR4ixofb72/rK34FaxJ2b/M7smuJKy7v36uFoohodO/Mz6eMQwnub9Q/Dhl6SbKv4j0+5/q2dC/zO7JriSsu7+wcpg+wlbTv7BymD7CVtO/sHKYPsJW07+wcpg+wlbTvxNhM7eEHNu/zO7JriSsu7/M7smuJKy7v5LtHOiDm86/ku0c6IObzr+S7Rzog5vOv4j0+5/q2dC/sHKYPsJW07+wcpg+wlbTvyS5DIqq2d+/iPT7n+rZ0L+I9Puf6tnQv8D6RxZ9Mr+/zO7JriSsu7+UGARiNl23v5QYBGI2Xbe/uK8jTHy2wL/0Bl8G1ke2v/OOo/kfody/E2Ezt4Qc278drQrlbBTbv/OOo/kfody/846j+R+h3L/zjqP5H6Hcv/OOo/kfody/846j+R+h3L++nzoFPUHAv5QYBGI2Xbe/c9dSDyBr0b84iQHlEfrBv+oEdO8RpcC/nDNi/AbWtb+cM2L8Bta1v6yt+BWsSdm/JLkMiqrZ37/BqORD2Izdv6YKpn7grda/pgqmfuCt1r9+rhaKIaHTv8zuya4krLu/846j+R+h3L+I9Puf6tnQv1ZbkaPc1MO/iPRbhhulpb8QUdqsSQqZvzvfP4jYItu/mSpYkiT33b9gtRXbJxeGv8Go5EPYjN2/wajkQ9iM3b/BqORD2Izdv4j0W4YbpaW//qUFFSYExL8NpEx418vdvw2kTHjXy92/JJcPc2hF078klw9zaEXTv1D8OGXpJsq/UPw4Zekmyr+cM2L8Bta1v8D6RxZ9Mr+/wPpHFn0yv7+GODYjYSLFv0Bjf3S3yNm/nKIjmxKNyL+I9Puf6tnQv5yiI5sSjci/nKIjmxKNyL+coiObEo3Iv5yiI5sSjci/fq4WiiGh078TYTO3hBzbv5wzYvwG1rW/mSpYkiT33b/0Bl8G1ke2v/QGXwbWR7a/9AZfBtZHtr/0Bl8G1ke2v8zuya4krLu/EFHarEkKmb8QUdqsSQqZvxNhM7eEHNu/6KYkGakD0r8QUdqsSQqZvxBR2qxJCpm/EFHarEkKmb+4ryNMfLbAv7RZBc5XSta/aLy0hEryv7/BqORD2Izdv8zuya4krLu/uK8jTHy2wL8QUdqsSQqZv7ivI0x8tsC/wajkQ9iM3b/BqORD2Izdv8Go5EPYjN2/wajkQ9iM3b/4wuTqTsvevxBR2qxJCpm/EFHarEkKmb8Sg9BXi97Qv+oEdO8RpcC/6gR07xGlwL/qBHTvEaXAv+oEdO8RpcC/6gR07xGlwL/qBHTvEaXAv+oEdO8RpcC/dk9+qFci0b/0Bl8G1ke2v1D8OGXpJsq/ifkXtZW91L+J+Re1lb3UvyR2J9RtGMm/hc5BbdlM0L/wp2aiSFvfv0Aca+gcD6i/QBxr6BwPqL9AHGvoHA+ov7BymD7CVtO/mSpYkiT33b/qBHTvEaXAv6yt+BWsSdm/zO7JriSsu7+I9FuGG6Wlv4j0+5/q2dC/376YiPpJ3b873z+I2CLbv9++mIj6Sd2/QBxr6BwPqL9Q/Dhl6SbKv3ZPfqhXItG/I7EHF0cY1r+srfgVrEnZv6yt+BWsSdm/rK34FaxJ2b+srfgVrEnZv42XftZpkN6/rK34FaxJ2b+srfgVrEnZv2i8tIRK8r+/jZd+1mmQ3r/pty9WwFvXvx2tCuVsFNu/fq4WiiGh079+rhaKIaHTvwjXI+Navqe/CNcj41q+p78I1yPjWr6nvwjXI+Navqe/CNcj41q+p7873z+I2CLbvzvfP4jYItu/O98/iNgi27873z+I2CLbvzvfP4jYItu/O98/iNgi27/Y8GREMPjSvwDzHwro+G6/XyTeB8ZGgL/M7smuJKy7v2znOxklG7+/fq4WiiGh079+rhaKIaHTv36uFoohodO/lBgEYjZdt7+IY93UEh/Lv/QGXwbWR7a/7Z7c0pQM2b+wcpg+wlbTv6yt+BWsSdm/9hIhNVPE3b/qBHTvEaXAv4n5F7WVvdS/ifkXtZW91L+J+Re1lb3Uv12bMmfDc9q/lBgEYjZdt7/Y8GREMPjSvxIUD/PCedC/sHKYPsJW07/wp2aiSFvfv+oEdO8RpcC/6gR07xGlwL/YElJAH63Fv/jC5OpOy96/UPw4Zekmyr8I1yPjWr6nvwjXI+Navqe/CNcj41q+p7+I9Puf6tnQvwjXI+Navqe/iPT7n+rZ0L+I9Puf6tnQv4j0+5/q2dC/iPT7n+rZ0L+I9Puf6tnQv4j0+5/q2dC/7Z7c0pQM2b/M7smuJKy7v+oEdO8RpcC/JLkMiqrZ37/4wuTqTsvevziJAeUR+sG/EFHarEkKmb/BqORD2Izdv3Z3xXUNq6y/lBgEYjZdt7+UGARiNl23v5QYBGI2Xbe/HhaK9X1E3L+I9Puf6tnQv8zuya4krLu/lBgEYjZdt78kuQyKqtnfv3PXUg8ga9G/Utkp3njfzr+J+Re1lb3Uv+oEdO8RpcC/6gR07xGlwL/qBHTvEaXAv+oEdO8RpcC/6gR07xGlwL/qBHTvEaXAv+oEdO8RpcC/fq4WiiGh07+UGARiNl23v5QYBGI2Xbe/lBgEYjZdt7/qBHTvEaXAv+oEdO8RpcC/6gR07xGlwL88vdKaxWXEvySXD3NoRdO/C2thdn7kvr92d8V1Dausv5QYBGI2Xbe/EFHarEkKmb8QUdqsSQqZvxBR2qxJCpm/XZsyZ8Nz2r9dmzJnw3Pav12bMmfDc9q/6bcvVsBb179Q/Pha+krFv42XftZpkN6/jZd+1mmQ3r8kuQyKqtnfv42XftZpkN6/KqmTMAlX0r/4wuTqTsvev5kqWJIk992/lBgEYjZdt79Q/Dhl6SbKv1D8OGXpJsq/UPw4Zekmyr8EeIsaH2+9vwR4ixofb72/iPT7n+rZ0L+UGARiNl23v5QYBGI2Xbe/kbzABzAq1L9gtRXbJxeGv76fOgU9QcC/hc5BbdlM0L9iBUsOL3HRv0jh6i0Ba96/zO7JriSsu7+UGARiNl23v12bMmfDc9q/c9dSDyBr0b+UGARiNl23vx4WivV9RNy/TmLwpgLX2r/0Bl8G1ke2v5LtHOiDm86/c9dSDyBr0b8QUdqsSQqZv4j0+5/q2dC/iPT7n+rZ0L/mruUlyvHRv0ixrTSnHdC/ZH8ZCn7ss79JLv8blx7Xv/QGXwbWR7a/KqmTMAlX0r+qgvFlHNjMvxbZzjkv+du/9AZfBtZHtr/0Bl8G1ke2v/QGXwbWR7a/9AZfBtZHtr9gtRXbJxeGv/QGXwbWR7a/ku0c6IObzr9+rhaKIaHTv4j0+5/q2dC/UPw4Zekmyr9Q/Dhl6SbKv1D8OGXpJsq/UPw4Zekmyr8qqZMwCVfSv+C3rzx3fJO/ZH8ZCn7ss7/MO84K4Mi1v4j0W4YbpaW/lBgEYjZdt78zPp4xDCe5v8zuya4krLu/YgVLDi9x0b9iBUsOL3HRv0ku/xuXHte/OIkB5RH6wb+0ptmtj+fIvw==",
          "dtype": "f8"
         },
         "y0": " ",
         "yaxis": "y10"
        }
       ],
       "layout": {
        "annotations": [
         {
          "font": {
           "size": 16
          },
          "showarrow": false,
          "text": "D1N1_energy_transfert",
          "x": 0.13333333333333333,
          "xanchor": "center",
          "xref": "paper",
          "y": 1,
          "yanchor": "bottom",
          "yref": "paper"
         },
         {
          "font": {
           "size": 16
          },
          "showarrow": false,
          "text": "D1N1_lambda_temperature_0",
          "x": 0.5,
          "xanchor": "center",
          "xref": "paper",
          "y": 1,
          "yanchor": "bottom",
          "yref": "paper"
         },
         {
          "font": {
           "size": 16
          },
          "showarrow": false,
          "text": "D1N1_gamma_lambda_temperature",
          "x": 0.8666666666666667,
          "xanchor": "center",
          "xref": "paper",
          "y": 1,
          "yanchor": "bottom",
          "yref": "paper"
         },
         {
          "font": {
           "size": 16
          },
          "showarrow": false,
          "text": "D1N1_tr_0",
          "x": 0.13333333333333333,
          "xanchor": "center",
          "xref": "paper",
          "y": 0.7250000000000001,
          "yanchor": "bottom",
          "yref": "paper"
         },
         {
          "font": {
           "size": 16
          },
          "showarrow": false,
          "text": "D1N1_gamma_tr",
          "x": 0.5,
          "xanchor": "center",
          "xref": "paper",
          "y": 0.7250000000000001,
          "yanchor": "bottom",
          "yref": "paper"
         },
         {
          "font": {
           "size": 16
          },
          "showarrow": false,
          "text": "D2N1_energy_transfert",
          "x": 0.8666666666666667,
          "xanchor": "center",
          "xref": "paper",
          "y": 0.7250000000000001,
          "yanchor": "bottom",
          "yref": "paper"
         },
         {
          "font": {
           "size": 16
          },
          "showarrow": false,
          "text": "D2N1_lambda_temperature_0",
          "x": 0.13333333333333333,
          "xanchor": "center",
          "xref": "paper",
          "y": 0.45,
          "yanchor": "bottom",
          "yref": "paper"
         },
         {
          "font": {
           "size": 16
          },
          "showarrow": false,
          "text": "D2N1_gamma_lambda_temperature",
          "x": 0.5,
          "xanchor": "center",
          "xref": "paper",
          "y": 0.45,
          "yanchor": "bottom",
          "yref": "paper"
         },
         {
          "font": {
           "size": 16
          },
          "showarrow": false,
          "text": "D2N1_tr_0",
          "x": 0.8666666666666667,
          "xanchor": "center",
          "xref": "paper",
          "y": 0.45,
          "yanchor": "bottom",
          "yref": "paper"
         },
         {
          "font": {
           "size": 16
          },
          "showarrow": false,
          "text": "D2N1_gamma_tr",
          "x": 0.13333333333333333,
          "xanchor": "center",
          "xref": "paper",
          "y": 0.175,
          "yanchor": "bottom",
          "yref": "paper"
         }
        ],
        "height": 1200,
        "template": {
         "data": {
          "bar": [
           {
            "error_x": {
             "color": "#2a3f5f"
            },
            "error_y": {
             "color": "#2a3f5f"
            },
            "marker": {
             "line": {
              "color": "#E5ECF6",
              "width": 0.5
             },
             "pattern": {
              "fillmode": "overlay",
              "size": 10,
              "solidity": 0.2
             }
            },
            "type": "bar"
           }
          ],
          "barpolar": [
           {
            "marker": {
             "line": {
              "color": "#E5ECF6",
              "width": 0.5
             },
             "pattern": {
              "fillmode": "overlay",
              "size": 10,
              "solidity": 0.2
             }
            },
            "type": "barpolar"
           }
          ],
          "carpet": [
           {
            "aaxis": {
             "endlinecolor": "#2a3f5f",
             "gridcolor": "white",
             "linecolor": "white",
             "minorgridcolor": "white",
             "startlinecolor": "#2a3f5f"
            },
            "baxis": {
             "endlinecolor": "#2a3f5f",
             "gridcolor": "white",
             "linecolor": "white",
             "minorgridcolor": "white",
             "startlinecolor": "#2a3f5f"
            },
            "type": "carpet"
           }
          ],
          "choropleth": [
           {
            "colorbar": {
             "outlinewidth": 0,
             "ticks": ""
            },
            "type": "choropleth"
           }
          ],
          "contour": [
           {
            "colorbar": {
             "outlinewidth": 0,
             "ticks": ""
            },
            "colorscale": [
             [
              0,
              "#0d0887"
             ],
             [
              0.1111111111111111,
              "#46039f"
             ],
             [
              0.2222222222222222,
              "#7201a8"
             ],
             [
              0.3333333333333333,
              "#9c179e"
             ],
             [
              0.4444444444444444,
              "#bd3786"
             ],
             [
              0.5555555555555556,
              "#d8576b"
             ],
             [
              0.6666666666666666,
              "#ed7953"
             ],
             [
              0.7777777777777778,
              "#fb9f3a"
             ],
             [
              0.8888888888888888,
              "#fdca26"
             ],
             [
              1,
              "#f0f921"
             ]
            ],
            "type": "contour"
           }
          ],
          "contourcarpet": [
           {
            "colorbar": {
             "outlinewidth": 0,
             "ticks": ""
            },
            "type": "contourcarpet"
           }
          ],
          "heatmap": [
           {
            "colorbar": {
             "outlinewidth": 0,
             "ticks": ""
            },
            "colorscale": [
             [
              0,
              "#0d0887"
             ],
             [
              0.1111111111111111,
              "#46039f"
             ],
             [
              0.2222222222222222,
              "#7201a8"
             ],
             [
              0.3333333333333333,
              "#9c179e"
             ],
             [
              0.4444444444444444,
              "#bd3786"
             ],
             [
              0.5555555555555556,
              "#d8576b"
             ],
             [
              0.6666666666666666,
              "#ed7953"
             ],
             [
              0.7777777777777778,
              "#fb9f3a"
             ],
             [
              0.8888888888888888,
              "#fdca26"
             ],
             [
              1,
              "#f0f921"
             ]
            ],
            "type": "heatmap"
           }
          ],
          "histogram": [
           {
            "marker": {
             "pattern": {
              "fillmode": "overlay",
              "size": 10,
              "solidity": 0.2
             }
            },
            "type": "histogram"
           }
          ],
          "histogram2d": [
           {
            "colorbar": {
             "outlinewidth": 0,
             "ticks": ""
            },
            "colorscale": [
             [
              0,
              "#0d0887"
             ],
             [
              0.1111111111111111,
              "#46039f"
             ],
             [
              0.2222222222222222,
              "#7201a8"
             ],
             [
              0.3333333333333333,
              "#9c179e"
             ],
             [
              0.4444444444444444,
              "#bd3786"
             ],
             [
              0.5555555555555556,
              "#d8576b"
             ],
             [
              0.6666666666666666,
              "#ed7953"
             ],
             [
              0.7777777777777778,
              "#fb9f3a"
             ],
             [
              0.8888888888888888,
              "#fdca26"
             ],
             [
              1,
              "#f0f921"
             ]
            ],
            "type": "histogram2d"
           }
          ],
          "histogram2dcontour": [
           {
            "colorbar": {
             "outlinewidth": 0,
             "ticks": ""
            },
            "colorscale": [
             [
              0,
              "#0d0887"
             ],
             [
              0.1111111111111111,
              "#46039f"
             ],
             [
              0.2222222222222222,
              "#7201a8"
             ],
             [
              0.3333333333333333,
              "#9c179e"
             ],
             [
              0.4444444444444444,
              "#bd3786"
             ],
             [
              0.5555555555555556,
              "#d8576b"
             ],
             [
              0.6666666666666666,
              "#ed7953"
             ],
             [
              0.7777777777777778,
              "#fb9f3a"
             ],
             [
              0.8888888888888888,
              "#fdca26"
             ],
             [
              1,
              "#f0f921"
             ]
            ],
            "type": "histogram2dcontour"
           }
          ],
          "mesh3d": [
           {
            "colorbar": {
             "outlinewidth": 0,
             "ticks": ""
            },
            "type": "mesh3d"
           }
          ],
          "parcoords": [
           {
            "line": {
             "colorbar": {
              "outlinewidth": 0,
              "ticks": ""
             }
            },
            "type": "parcoords"
           }
          ],
          "pie": [
           {
            "automargin": true,
            "type": "pie"
           }
          ],
          "scatter": [
           {
            "fillpattern": {
             "fillmode": "overlay",
             "size": 10,
             "solidity": 0.2
            },
            "type": "scatter"
           }
          ],
          "scatter3d": [
           {
            "line": {
             "colorbar": {
              "outlinewidth": 0,
              "ticks": ""
             }
            },
            "marker": {
             "colorbar": {
              "outlinewidth": 0,
              "ticks": ""
             }
            },
            "type": "scatter3d"
           }
          ],
          "scattercarpet": [
           {
            "marker": {
             "colorbar": {
              "outlinewidth": 0,
              "ticks": ""
             }
            },
            "type": "scattercarpet"
           }
          ],
          "scattergeo": [
           {
            "marker": {
             "colorbar": {
              "outlinewidth": 0,
              "ticks": ""
             }
            },
            "type": "scattergeo"
           }
          ],
          "scattergl": [
           {
            "marker": {
             "colorbar": {
              "outlinewidth": 0,
              "ticks": ""
             }
            },
            "type": "scattergl"
           }
          ],
          "scattermap": [
           {
            "marker": {
             "colorbar": {
              "outlinewidth": 0,
              "ticks": ""
             }
            },
            "type": "scattermap"
           }
          ],
          "scattermapbox": [
           {
            "marker": {
             "colorbar": {
              "outlinewidth": 0,
              "ticks": ""
             }
            },
            "type": "scattermapbox"
           }
          ],
          "scatterpolar": [
           {
            "marker": {
             "colorbar": {
              "outlinewidth": 0,
              "ticks": ""
             }
            },
            "type": "scatterpolar"
           }
          ],
          "scatterpolargl": [
           {
            "marker": {
             "colorbar": {
              "outlinewidth": 0,
              "ticks": ""
             }
            },
            "type": "scatterpolargl"
           }
          ],
          "scatterternary": [
           {
            "marker": {
             "colorbar": {
              "outlinewidth": 0,
              "ticks": ""
             }
            },
            "type": "scatterternary"
           }
          ],
          "surface": [
           {
            "colorbar": {
             "outlinewidth": 0,
             "ticks": ""
            },
            "colorscale": [
             [
              0,
              "#0d0887"
             ],
             [
              0.1111111111111111,
              "#46039f"
             ],
             [
              0.2222222222222222,
              "#7201a8"
             ],
             [
              0.3333333333333333,
              "#9c179e"
             ],
             [
              0.4444444444444444,
              "#bd3786"
             ],
             [
              0.5555555555555556,
              "#d8576b"
             ],
             [
              0.6666666666666666,
              "#ed7953"
             ],
             [
              0.7777777777777778,
              "#fb9f3a"
             ],
             [
              0.8888888888888888,
              "#fdca26"
             ],
             [
              1,
              "#f0f921"
             ]
            ],
            "type": "surface"
           }
          ],
          "table": [
           {
            "cells": {
             "fill": {
              "color": "#EBF0F8"
             },
             "line": {
              "color": "white"
             }
            },
            "header": {
             "fill": {
              "color": "#C8D4E3"
             },
             "line": {
              "color": "white"
             }
            },
            "type": "table"
           }
          ]
         },
         "layout": {
          "annotationdefaults": {
           "arrowcolor": "#2a3f5f",
           "arrowhead": 0,
           "arrowwidth": 1
          },
          "autotypenumbers": "strict",
          "coloraxis": {
           "colorbar": {
            "outlinewidth": 0,
            "ticks": ""
           }
          },
          "colorscale": {
           "diverging": [
            [
             0,
             "#8e0152"
            ],
            [
             0.1,
             "#c51b7d"
            ],
            [
             0.2,
             "#de77ae"
            ],
            [
             0.3,
             "#f1b6da"
            ],
            [
             0.4,
             "#fde0ef"
            ],
            [
             0.5,
             "#f7f7f7"
            ],
            [
             0.6,
             "#e6f5d0"
            ],
            [
             0.7,
             "#b8e186"
            ],
            [
             0.8,
             "#7fbc41"
            ],
            [
             0.9,
             "#4d9221"
            ],
            [
             1,
             "#276419"
            ]
           ],
           "sequential": [
            [
             0,
             "#0d0887"
            ],
            [
             0.1111111111111111,
             "#46039f"
            ],
            [
             0.2222222222222222,
             "#7201a8"
            ],
            [
             0.3333333333333333,
             "#9c179e"
            ],
            [
             0.4444444444444444,
             "#bd3786"
            ],
            [
             0.5555555555555556,
             "#d8576b"
            ],
            [
             0.6666666666666666,
             "#ed7953"
            ],
            [
             0.7777777777777778,
             "#fb9f3a"
            ],
            [
             0.8888888888888888,
             "#fdca26"
            ],
            [
             1,
             "#f0f921"
            ]
           ],
           "sequentialminus": [
            [
             0,
             "#0d0887"
            ],
            [
             0.1111111111111111,
             "#46039f"
            ],
            [
             0.2222222222222222,
             "#7201a8"
            ],
            [
             0.3333333333333333,
             "#9c179e"
            ],
            [
             0.4444444444444444,
             "#bd3786"
            ],
            [
             0.5555555555555556,
             "#d8576b"
            ],
            [
             0.6666666666666666,
             "#ed7953"
            ],
            [
             0.7777777777777778,
             "#fb9f3a"
            ],
            [
             0.8888888888888888,
             "#fdca26"
            ],
            [
             1,
             "#f0f921"
            ]
           ]
          },
          "colorway": [
           "#636efa",
           "#EF553B",
           "#00cc96",
           "#ab63fa",
           "#FFA15A",
           "#19d3f3",
           "#FF6692",
           "#B6E880",
           "#FF97FF",
           "#FECB52"
          ],
          "font": {
           "color": "#2a3f5f"
          },
          "geo": {
           "bgcolor": "white",
           "lakecolor": "white",
           "landcolor": "#E5ECF6",
           "showlakes": true,
           "showland": true,
           "subunitcolor": "white"
          },
          "hoverlabel": {
           "align": "left"
          },
          "hovermode": "closest",
          "mapbox": {
           "style": "light"
          },
          "paper_bgcolor": "white",
          "plot_bgcolor": "#E5ECF6",
          "polar": {
           "angularaxis": {
            "gridcolor": "white",
            "linecolor": "white",
            "ticks": ""
           },
           "bgcolor": "#E5ECF6",
           "radialaxis": {
            "gridcolor": "white",
            "linecolor": "white",
            "ticks": ""
           }
          },
          "scene": {
           "xaxis": {
            "backgroundcolor": "#E5ECF6",
            "gridcolor": "white",
            "gridwidth": 2,
            "linecolor": "white",
            "showbackground": true,
            "ticks": "",
            "zerolinecolor": "white"
           },
           "yaxis": {
            "backgroundcolor": "#E5ECF6",
            "gridcolor": "white",
            "gridwidth": 2,
            "linecolor": "white",
            "showbackground": true,
            "ticks": "",
            "zerolinecolor": "white"
           },
           "zaxis": {
            "backgroundcolor": "#E5ECF6",
            "gridcolor": "white",
            "gridwidth": 2,
            "linecolor": "white",
            "showbackground": true,
            "ticks": "",
            "zerolinecolor": "white"
           }
          },
          "shapedefaults": {
           "line": {
            "color": "#2a3f5f"
           }
          },
          "ternary": {
           "aaxis": {
            "gridcolor": "white",
            "linecolor": "white",
            "ticks": ""
           },
           "baxis": {
            "gridcolor": "white",
            "linecolor": "white",
            "ticks": ""
           },
           "bgcolor": "#E5ECF6",
           "caxis": {
            "gridcolor": "white",
            "linecolor": "white",
            "ticks": ""
           }
          },
          "title": {
           "x": 0.05
          },
          "xaxis": {
           "automargin": true,
           "gridcolor": "white",
           "linecolor": "white",
           "ticks": "",
           "title": {
            "standoff": 15
           },
           "zerolinecolor": "white",
           "zerolinewidth": 2
          },
          "yaxis": {
           "automargin": true,
           "gridcolor": "white",
           "linecolor": "white",
           "ticks": "",
           "title": {
            "standoff": 15
           },
           "zerolinecolor": "white",
           "zerolinewidth": 2
          }
         }
        },
        "title": {
         "text": "Parameters distribution"
        },
        "width": 900,
        "xaxis": {
         "anchor": "y",
         "domain": [
          0,
          0.26666666666666666
         ]
        },
        "xaxis10": {
         "anchor": "y10",
         "domain": [
          0,
          0.26666666666666666
         ]
        },
        "xaxis11": {
         "anchor": "y11",
         "domain": [
          0.3666666666666667,
          0.6333333333333333
         ]
        },
        "xaxis12": {
         "anchor": "y12",
         "domain": [
          0.7333333333333334,
          1
         ]
        },
        "xaxis2": {
         "anchor": "y2",
         "domain": [
          0.3666666666666667,
          0.6333333333333333
         ]
        },
        "xaxis3": {
         "anchor": "y3",
         "domain": [
          0.7333333333333334,
          1
         ]
        },
        "xaxis4": {
         "anchor": "y4",
         "domain": [
          0,
          0.26666666666666666
         ]
        },
        "xaxis5": {
         "anchor": "y5",
         "domain": [
          0.3666666666666667,
          0.6333333333333333
         ]
        },
        "xaxis6": {
         "anchor": "y6",
         "domain": [
          0.7333333333333334,
          1
         ]
        },
        "xaxis7": {
         "anchor": "y7",
         "domain": [
          0,
          0.26666666666666666
         ]
        },
        "xaxis8": {
         "anchor": "y8",
         "domain": [
          0.3666666666666667,
          0.6333333333333333
         ]
        },
        "xaxis9": {
         "anchor": "y9",
         "domain": [
          0.7333333333333334,
          1
         ]
        },
        "yaxis": {
         "anchor": "x",
         "domain": [
          0.825,
          1
         ]
        },
        "yaxis10": {
         "anchor": "x10",
         "domain": [
          0,
          0.175
         ]
        },
        "yaxis11": {
         "anchor": "x11",
         "domain": [
          0,
          0.175
         ]
        },
        "yaxis12": {
         "anchor": "x12",
         "domain": [
          0,
          0.175
         ]
        },
        "yaxis2": {
         "anchor": "x2",
         "domain": [
          0.825,
          1
         ]
        },
        "yaxis3": {
         "anchor": "x3",
         "domain": [
          0.825,
          1
         ]
        },
        "yaxis4": {
         "anchor": "x4",
         "domain": [
          0.55,
          0.7250000000000001
         ]
        },
        "yaxis5": {
         "anchor": "x5",
         "domain": [
          0.55,
          0.7250000000000001
         ]
        },
        "yaxis6": {
         "anchor": "x6",
         "domain": [
          0.55,
          0.7250000000000001
         ]
        },
        "yaxis7": {
         "anchor": "x7",
         "domain": [
          0.275,
          0.45
         ]
        },
        "yaxis8": {
         "anchor": "x8",
         "domain": [
          0.275,
          0.45
         ]
        },
        "yaxis9": {
         "anchor": "x9",
         "domain": [
          0.275,
          0.45
         ]
        }
       }
      }
     },
     "metadata": {},
     "output_type": "display_data"
    }
   ],
   "source": [
    "fig = viewer.box_plot(3, nbest=500)\n",
    "fig.show()"
   ]
  },
  {
   "cell_type": "code",
   "execution_count": 34,
   "metadata": {},
   "outputs": [],
   "source": [
    "parameter_groups = [\n",
    "    [\n",
    "        \"D1N1_energy_transfert\",\n",
    "        \"D1N1_lambda_temperature_0\",\n",
    "        \"D1N1_gamma_lambda_temperature\",\n",
    "        \"D1N1_tr_0\",\n",
    "        \"D1N1_gamma_tr\",\n",
    "    ],\n",
    "    [\n",
    "        \"D2N1_energy_transfert\",\n",
    "        \"D2N1_lambda_temperature_0\",\n",
    "        \"D2N1_gamma_lambda_temperature\",\n",
    "        \"D2N1_tr_0\",\n",
    "        \"D2N1_gamma_tr\",\n",
    "    ],\n",
    "]"
   ]
  },
  {
   "cell_type": "code",
   "execution_count": 35,
   "metadata": {},
   "outputs": [
    {
     "data": {
      "application/vnd.plotly.v1+json": {
       "config": {
        "plotlyServerURL": "https://plot.ly"
       },
       "data": [
        {
         "dimensions": [
          {
           "label": "D1N1_energy_transfert",
           "range": [
            0.0001,
            0.5
           ],
           "values": {
            "bdata": "HhYqKxI12D8eFiorEjXYPx4WKisSNdg/spFfsrj73z8eFiorEjXYPx4WKisSNdg/7Q0ep8jY3z+Hj3uagfbfPx4WKisSNdg/O3AeoX9P0D8=",
            "dtype": "f8"
           }
          },
          {
           "label": "D1N1_lambda_temperature_0",
           "range": [
            0,
            1
           ],
           "values": {
            "bdata": "AACAhxuy5j8AAICHG7LmPwAAgIcbsuY/AACAZSOD6D8AAICHG7LmPwAAgIcbsuY/AACAZSOD6D8AAIBlI4PoP2G7Qo0eROg/AAAAn1Zm2j8=",
            "dtype": "f8"
           }
          },
          {
           "label": "D1N1_gamma_lambda_temperature",
           "range": [
            0,
            0.5
           ],
           "values": {
            "bdata": "gK6cUD6tbD+ArpxQPq1sPwAAAIDlQHY/AAAAIBOmlz8AAACA5UB2PwAAAIDlQHY/AAAAIBOmlz8AAAAgE6aXP4CunFA+rWw/AAAAQKoXbz8=",
            "dtype": "f8"
           }
          },
          {
           "label": "D1N1_tr_0",
           "range": [
            0,
            50
           ],
           "values": {
            "bdata": "AADwdVt4NkAAAPB1W3g2QAAA8HVbeDZAAADwdVt4NkAAAPB1W3g2QIDdO2I/E0BAj4QpRyG3MUB+dXH1qLEmQAAA8HVbeDZAxaC5RsHiOUA=",
            "dtype": "f8"
           }
          },
          {
           "label": "D1N1_gamma_tr",
           "range": [
            -0.5,
            -0.0001
           ],
           "values": {
            "bdata": "tUDoHshS17+1QOgeyFLXv5jdswRl19O/mN2zBGXX07+Y3bMEZdfTvxKDUOESNdK/mN2zBGXX07/V+kQFf4HEv7VA6B7IUte/24IHDevfzr8=",
            "dtype": "f8"
           }
          }
         ],
         "line": {
          "color": {
           "bdata": "3rWyjBVK1r9qZLjXjV3Wv318k0Kyoda/MNCNhR6w1r/W9IDmPrXWv9iwKLKC5da/dMhIZ7j71r/jyHHvKi7Xv6zsuVIZh9e/yYJdJD6h178=",
           "dtype": "f8",
           "shape": "10, 1"
          },
          "colorbar": {
           "title": {
            "text": "Cost function score"
           }
          },
          "colorscale": [
           [
            0,
            "rgb(12,51,131)"
           ],
           [
            0.25,
            "rgb(10,136,186)"
           ],
           [
            0.5,
            "rgb(242,211,56)"
           ],
           [
            0.75,
            "rgb(242,143,56)"
           ],
           [
            1,
            "rgb(217,30,30)"
           ]
          ],
          "reversescale": true,
          "showscale": true
         },
         "type": "parcoords",
         "unselected": {
          "line": {
           "opacity": 0.05
          }
         }
        }
       ],
       "layout": {
        "coloraxis": {
         "colorbar": {
          "title": {
           "text": "Cost function score"
          }
         }
        },
        "template": {
         "data": {
          "bar": [
           {
            "error_x": {
             "color": "#2a3f5f"
            },
            "error_y": {
             "color": "#2a3f5f"
            },
            "marker": {
             "line": {
              "color": "#E5ECF6",
              "width": 0.5
             },
             "pattern": {
              "fillmode": "overlay",
              "size": 10,
              "solidity": 0.2
             }
            },
            "type": "bar"
           }
          ],
          "barpolar": [
           {
            "marker": {
             "line": {
              "color": "#E5ECF6",
              "width": 0.5
             },
             "pattern": {
              "fillmode": "overlay",
              "size": 10,
              "solidity": 0.2
             }
            },
            "type": "barpolar"
           }
          ],
          "carpet": [
           {
            "aaxis": {
             "endlinecolor": "#2a3f5f",
             "gridcolor": "white",
             "linecolor": "white",
             "minorgridcolor": "white",
             "startlinecolor": "#2a3f5f"
            },
            "baxis": {
             "endlinecolor": "#2a3f5f",
             "gridcolor": "white",
             "linecolor": "white",
             "minorgridcolor": "white",
             "startlinecolor": "#2a3f5f"
            },
            "type": "carpet"
           }
          ],
          "choropleth": [
           {
            "colorbar": {
             "outlinewidth": 0,
             "ticks": ""
            },
            "type": "choropleth"
           }
          ],
          "contour": [
           {
            "colorbar": {
             "outlinewidth": 0,
             "ticks": ""
            },
            "colorscale": [
             [
              0,
              "#0d0887"
             ],
             [
              0.1111111111111111,
              "#46039f"
             ],
             [
              0.2222222222222222,
              "#7201a8"
             ],
             [
              0.3333333333333333,
              "#9c179e"
             ],
             [
              0.4444444444444444,
              "#bd3786"
             ],
             [
              0.5555555555555556,
              "#d8576b"
             ],
             [
              0.6666666666666666,
              "#ed7953"
             ],
             [
              0.7777777777777778,
              "#fb9f3a"
             ],
             [
              0.8888888888888888,
              "#fdca26"
             ],
             [
              1,
              "#f0f921"
             ]
            ],
            "type": "contour"
           }
          ],
          "contourcarpet": [
           {
            "colorbar": {
             "outlinewidth": 0,
             "ticks": ""
            },
            "type": "contourcarpet"
           }
          ],
          "heatmap": [
           {
            "colorbar": {
             "outlinewidth": 0,
             "ticks": ""
            },
            "colorscale": [
             [
              0,
              "#0d0887"
             ],
             [
              0.1111111111111111,
              "#46039f"
             ],
             [
              0.2222222222222222,
              "#7201a8"
             ],
             [
              0.3333333333333333,
              "#9c179e"
             ],
             [
              0.4444444444444444,
              "#bd3786"
             ],
             [
              0.5555555555555556,
              "#d8576b"
             ],
             [
              0.6666666666666666,
              "#ed7953"
             ],
             [
              0.7777777777777778,
              "#fb9f3a"
             ],
             [
              0.8888888888888888,
              "#fdca26"
             ],
             [
              1,
              "#f0f921"
             ]
            ],
            "type": "heatmap"
           }
          ],
          "histogram": [
           {
            "marker": {
             "pattern": {
              "fillmode": "overlay",
              "size": 10,
              "solidity": 0.2
             }
            },
            "type": "histogram"
           }
          ],
          "histogram2d": [
           {
            "colorbar": {
             "outlinewidth": 0,
             "ticks": ""
            },
            "colorscale": [
             [
              0,
              "#0d0887"
             ],
             [
              0.1111111111111111,
              "#46039f"
             ],
             [
              0.2222222222222222,
              "#7201a8"
             ],
             [
              0.3333333333333333,
              "#9c179e"
             ],
             [
              0.4444444444444444,
              "#bd3786"
             ],
             [
              0.5555555555555556,
              "#d8576b"
             ],
             [
              0.6666666666666666,
              "#ed7953"
             ],
             [
              0.7777777777777778,
              "#fb9f3a"
             ],
             [
              0.8888888888888888,
              "#fdca26"
             ],
             [
              1,
              "#f0f921"
             ]
            ],
            "type": "histogram2d"
           }
          ],
          "histogram2dcontour": [
           {
            "colorbar": {
             "outlinewidth": 0,
             "ticks": ""
            },
            "colorscale": [
             [
              0,
              "#0d0887"
             ],
             [
              0.1111111111111111,
              "#46039f"
             ],
             [
              0.2222222222222222,
              "#7201a8"
             ],
             [
              0.3333333333333333,
              "#9c179e"
             ],
             [
              0.4444444444444444,
              "#bd3786"
             ],
             [
              0.5555555555555556,
              "#d8576b"
             ],
             [
              0.6666666666666666,
              "#ed7953"
             ],
             [
              0.7777777777777778,
              "#fb9f3a"
             ],
             [
              0.8888888888888888,
              "#fdca26"
             ],
             [
              1,
              "#f0f921"
             ]
            ],
            "type": "histogram2dcontour"
           }
          ],
          "mesh3d": [
           {
            "colorbar": {
             "outlinewidth": 0,
             "ticks": ""
            },
            "type": "mesh3d"
           }
          ],
          "parcoords": [
           {
            "line": {
             "colorbar": {
              "outlinewidth": 0,
              "ticks": ""
             }
            },
            "type": "parcoords"
           }
          ],
          "pie": [
           {
            "automargin": true,
            "type": "pie"
           }
          ],
          "scatter": [
           {
            "fillpattern": {
             "fillmode": "overlay",
             "size": 10,
             "solidity": 0.2
            },
            "type": "scatter"
           }
          ],
          "scatter3d": [
           {
            "line": {
             "colorbar": {
              "outlinewidth": 0,
              "ticks": ""
             }
            },
            "marker": {
             "colorbar": {
              "outlinewidth": 0,
              "ticks": ""
             }
            },
            "type": "scatter3d"
           }
          ],
          "scattercarpet": [
           {
            "marker": {
             "colorbar": {
              "outlinewidth": 0,
              "ticks": ""
             }
            },
            "type": "scattercarpet"
           }
          ],
          "scattergeo": [
           {
            "marker": {
             "colorbar": {
              "outlinewidth": 0,
              "ticks": ""
             }
            },
            "type": "scattergeo"
           }
          ],
          "scattergl": [
           {
            "marker": {
             "colorbar": {
              "outlinewidth": 0,
              "ticks": ""
             }
            },
            "type": "scattergl"
           }
          ],
          "scattermap": [
           {
            "marker": {
             "colorbar": {
              "outlinewidth": 0,
              "ticks": ""
             }
            },
            "type": "scattermap"
           }
          ],
          "scattermapbox": [
           {
            "marker": {
             "colorbar": {
              "outlinewidth": 0,
              "ticks": ""
             }
            },
            "type": "scattermapbox"
           }
          ],
          "scatterpolar": [
           {
            "marker": {
             "colorbar": {
              "outlinewidth": 0,
              "ticks": ""
             }
            },
            "type": "scatterpolar"
           }
          ],
          "scatterpolargl": [
           {
            "marker": {
             "colorbar": {
              "outlinewidth": 0,
              "ticks": ""
             }
            },
            "type": "scatterpolargl"
           }
          ],
          "scatterternary": [
           {
            "marker": {
             "colorbar": {
              "outlinewidth": 0,
              "ticks": ""
             }
            },
            "type": "scatterternary"
           }
          ],
          "surface": [
           {
            "colorbar": {
             "outlinewidth": 0,
             "ticks": ""
            },
            "colorscale": [
             [
              0,
              "#0d0887"
             ],
             [
              0.1111111111111111,
              "#46039f"
             ],
             [
              0.2222222222222222,
              "#7201a8"
             ],
             [
              0.3333333333333333,
              "#9c179e"
             ],
             [
              0.4444444444444444,
              "#bd3786"
             ],
             [
              0.5555555555555556,
              "#d8576b"
             ],
             [
              0.6666666666666666,
              "#ed7953"
             ],
             [
              0.7777777777777778,
              "#fb9f3a"
             ],
             [
              0.8888888888888888,
              "#fdca26"
             ],
             [
              1,
              "#f0f921"
             ]
            ],
            "type": "surface"
           }
          ],
          "table": [
           {
            "cells": {
             "fill": {
              "color": "#EBF0F8"
             },
             "line": {
              "color": "white"
             }
            },
            "header": {
             "fill": {
              "color": "#C8D4E3"
             },
             "line": {
              "color": "white"
             }
            },
            "type": "table"
           }
          ]
         },
         "layout": {
          "annotationdefaults": {
           "arrowcolor": "#2a3f5f",
           "arrowhead": 0,
           "arrowwidth": 1
          },
          "autotypenumbers": "strict",
          "coloraxis": {
           "colorbar": {
            "outlinewidth": 0,
            "ticks": ""
           }
          },
          "colorscale": {
           "diverging": [
            [
             0,
             "#8e0152"
            ],
            [
             0.1,
             "#c51b7d"
            ],
            [
             0.2,
             "#de77ae"
            ],
            [
             0.3,
             "#f1b6da"
            ],
            [
             0.4,
             "#fde0ef"
            ],
            [
             0.5,
             "#f7f7f7"
            ],
            [
             0.6,
             "#e6f5d0"
            ],
            [
             0.7,
             "#b8e186"
            ],
            [
             0.8,
             "#7fbc41"
            ],
            [
             0.9,
             "#4d9221"
            ],
            [
             1,
             "#276419"
            ]
           ],
           "sequential": [
            [
             0,
             "#0d0887"
            ],
            [
             0.1111111111111111,
             "#46039f"
            ],
            [
             0.2222222222222222,
             "#7201a8"
            ],
            [
             0.3333333333333333,
             "#9c179e"
            ],
            [
             0.4444444444444444,
             "#bd3786"
            ],
            [
             0.5555555555555556,
             "#d8576b"
            ],
            [
             0.6666666666666666,
             "#ed7953"
            ],
            [
             0.7777777777777778,
             "#fb9f3a"
            ],
            [
             0.8888888888888888,
             "#fdca26"
            ],
            [
             1,
             "#f0f921"
            ]
           ],
           "sequentialminus": [
            [
             0,
             "#0d0887"
            ],
            [
             0.1111111111111111,
             "#46039f"
            ],
            [
             0.2222222222222222,
             "#7201a8"
            ],
            [
             0.3333333333333333,
             "#9c179e"
            ],
            [
             0.4444444444444444,
             "#bd3786"
            ],
            [
             0.5555555555555556,
             "#d8576b"
            ],
            [
             0.6666666666666666,
             "#ed7953"
            ],
            [
             0.7777777777777778,
             "#fb9f3a"
            ],
            [
             0.8888888888888888,
             "#fdca26"
            ],
            [
             1,
             "#f0f921"
            ]
           ]
          },
          "colorway": [
           "#636efa",
           "#EF553B",
           "#00cc96",
           "#ab63fa",
           "#FFA15A",
           "#19d3f3",
           "#FF6692",
           "#B6E880",
           "#FF97FF",
           "#FECB52"
          ],
          "font": {
           "color": "#2a3f5f"
          },
          "geo": {
           "bgcolor": "white",
           "lakecolor": "white",
           "landcolor": "#E5ECF6",
           "showlakes": true,
           "showland": true,
           "subunitcolor": "white"
          },
          "hoverlabel": {
           "align": "left"
          },
          "hovermode": "closest",
          "mapbox": {
           "style": "light"
          },
          "paper_bgcolor": "white",
          "plot_bgcolor": "#E5ECF6",
          "polar": {
           "angularaxis": {
            "gridcolor": "white",
            "linecolor": "white",
            "ticks": ""
           },
           "bgcolor": "#E5ECF6",
           "radialaxis": {
            "gridcolor": "white",
            "linecolor": "white",
            "ticks": ""
           }
          },
          "scene": {
           "xaxis": {
            "backgroundcolor": "#E5ECF6",
            "gridcolor": "white",
            "gridwidth": 2,
            "linecolor": "white",
            "showbackground": true,
            "ticks": "",
            "zerolinecolor": "white"
           },
           "yaxis": {
            "backgroundcolor": "#E5ECF6",
            "gridcolor": "white",
            "gridwidth": 2,
            "linecolor": "white",
            "showbackground": true,
            "ticks": "",
            "zerolinecolor": "white"
           },
           "zaxis": {
            "backgroundcolor": "#E5ECF6",
            "gridcolor": "white",
            "gridwidth": 2,
            "linecolor": "white",
            "showbackground": true,
            "ticks": "",
            "zerolinecolor": "white"
           }
          },
          "shapedefaults": {
           "line": {
            "color": "#2a3f5f"
           }
          },
          "ternary": {
           "aaxis": {
            "gridcolor": "white",
            "linecolor": "white",
            "ticks": ""
           },
           "baxis": {
            "gridcolor": "white",
            "linecolor": "white",
            "ticks": ""
           },
           "bgcolor": "#E5ECF6",
           "caxis": {
            "gridcolor": "white",
            "linecolor": "white",
            "ticks": ""
           }
          },
          "title": {
           "x": 0.05
          },
          "xaxis": {
           "automargin": true,
           "gridcolor": "white",
           "linecolor": "white",
           "ticks": "",
           "title": {
            "standoff": 15
           },
           "zerolinecolor": "white",
           "zerolinewidth": 2
          },
          "yaxis": {
           "automargin": true,
           "gridcolor": "white",
           "linecolor": "white",
           "ticks": "",
           "title": {
            "standoff": 15
           },
           "zerolinecolor": "white",
           "zerolinewidth": 2
          }
         }
        },
        "title": {
         "text": "Parameters optimization : minimization of the cost function for group 1"
        }
       }
      }
     },
     "metadata": {},
     "output_type": "display_data"
    },
    {
     "data": {
      "application/vnd.plotly.v1+json": {
       "config": {
        "plotlyServerURL": "https://plot.ly"
       },
       "data": [
        {
         "dimensions": [
          {
           "label": "D2N1_energy_transfert",
           "range": [
            0.0001,
            0.5
           ],
           "values": {
            "bdata": "KBEklHQU1D8oESSUdBTUP65HMRkxLtU/rkcxGTEu1T+uRzEZMS7VP5KRnlw84NQ/rkcxGTEu1T9fKfsBeZ7XP8ywHWSVY9U/P1f7f0Hr1j8=",
            "dtype": "f8"
           }
          },
          {
           "label": "D2N1_lambda_temperature_0",
           "range": [
            0.002,
            1
           ],
           "values": {
            "bdata": "sHJokIf4vz+wcmiQh/i/P7ByaJCH+L8/sHJokIf4vz+wcmiQh/i/P5QYBMVBU8w/sHJokIf4vz8GgbVGQoPqP7ByaJCH+L8/gIgjE+Iawj8=",
            "dtype": "f8"
           }
          },
          {
           "label": "D2N1_gamma_lambda_temperature",
           "range": [
            0,
            0.5
           ],
           "values": {
            "bdata": "AAAAKIR+xT8AAAAohH7FPwAAACiEfsU/AAAAKIR+xT8AAAAohH7FP9HDbe/8aN0/AAAAKIR+xT/oVhaUcznTPwAAACiEfsU/AAAA0lOY2T8=",
            "dtype": "f8"
           }
          },
          {
           "label": "D2N1_tr_0",
           "range": [
            0,
            50
           ],
           "values": {
            "bdata": "AABQOLNCPUAAADh0/Jw+QFAEGraaH8I/uH8G8gl0IkAAADh0/Jw+QAAAUDU4gCxAAAA4dPycPkAAALDoGW0sQAAAOHT8nD5AAAAAgf2b7D8=",
            "dtype": "f8"
           }
          },
          {
           "label": "D2N1_gamma_tr",
           "range": [
            -0.5,
            -0.0001
           ],
           "values": {
            "bdata": "rK34FaxJ2b/M7smuJKy7vxBR2qxJCpm/KAiHwqASxL/M7smuJKy7v8zuya4krLu/zO7JriSsu79wrOucyjvPv8zuya4krLu/PL3SmsVlxL8=",
            "dtype": "f8"
           }
          }
         ],
         "line": {
          "color": {
           "bdata": "3rWyjBVK1r9qZLjXjV3Wv318k0Kyoda/MNCNhR6w1r/W9IDmPrXWv9iwKLKC5da/dMhIZ7j71r/jyHHvKi7Xv6zsuVIZh9e/yYJdJD6h178=",
           "dtype": "f8",
           "shape": "10, 1"
          },
          "colorbar": {
           "title": {
            "text": "Cost function score"
           }
          },
          "colorscale": [
           [
            0,
            "rgb(12,51,131)"
           ],
           [
            0.25,
            "rgb(10,136,186)"
           ],
           [
            0.5,
            "rgb(242,211,56)"
           ],
           [
            0.75,
            "rgb(242,143,56)"
           ],
           [
            1,
            "rgb(217,30,30)"
           ]
          ],
          "reversescale": true,
          "showscale": true
         },
         "type": "parcoords",
         "unselected": {
          "line": {
           "opacity": 0.05
          }
         }
        }
       ],
       "layout": {
        "coloraxis": {
         "colorbar": {
          "title": {
           "text": "Cost function score"
          }
         }
        },
        "template": {
         "data": {
          "bar": [
           {
            "error_x": {
             "color": "#2a3f5f"
            },
            "error_y": {
             "color": "#2a3f5f"
            },
            "marker": {
             "line": {
              "color": "#E5ECF6",
              "width": 0.5
             },
             "pattern": {
              "fillmode": "overlay",
              "size": 10,
              "solidity": 0.2
             }
            },
            "type": "bar"
           }
          ],
          "barpolar": [
           {
            "marker": {
             "line": {
              "color": "#E5ECF6",
              "width": 0.5
             },
             "pattern": {
              "fillmode": "overlay",
              "size": 10,
              "solidity": 0.2
             }
            },
            "type": "barpolar"
           }
          ],
          "carpet": [
           {
            "aaxis": {
             "endlinecolor": "#2a3f5f",
             "gridcolor": "white",
             "linecolor": "white",
             "minorgridcolor": "white",
             "startlinecolor": "#2a3f5f"
            },
            "baxis": {
             "endlinecolor": "#2a3f5f",
             "gridcolor": "white",
             "linecolor": "white",
             "minorgridcolor": "white",
             "startlinecolor": "#2a3f5f"
            },
            "type": "carpet"
           }
          ],
          "choropleth": [
           {
            "colorbar": {
             "outlinewidth": 0,
             "ticks": ""
            },
            "type": "choropleth"
           }
          ],
          "contour": [
           {
            "colorbar": {
             "outlinewidth": 0,
             "ticks": ""
            },
            "colorscale": [
             [
              0,
              "#0d0887"
             ],
             [
              0.1111111111111111,
              "#46039f"
             ],
             [
              0.2222222222222222,
              "#7201a8"
             ],
             [
              0.3333333333333333,
              "#9c179e"
             ],
             [
              0.4444444444444444,
              "#bd3786"
             ],
             [
              0.5555555555555556,
              "#d8576b"
             ],
             [
              0.6666666666666666,
              "#ed7953"
             ],
             [
              0.7777777777777778,
              "#fb9f3a"
             ],
             [
              0.8888888888888888,
              "#fdca26"
             ],
             [
              1,
              "#f0f921"
             ]
            ],
            "type": "contour"
           }
          ],
          "contourcarpet": [
           {
            "colorbar": {
             "outlinewidth": 0,
             "ticks": ""
            },
            "type": "contourcarpet"
           }
          ],
          "heatmap": [
           {
            "colorbar": {
             "outlinewidth": 0,
             "ticks": ""
            },
            "colorscale": [
             [
              0,
              "#0d0887"
             ],
             [
              0.1111111111111111,
              "#46039f"
             ],
             [
              0.2222222222222222,
              "#7201a8"
             ],
             [
              0.3333333333333333,
              "#9c179e"
             ],
             [
              0.4444444444444444,
              "#bd3786"
             ],
             [
              0.5555555555555556,
              "#d8576b"
             ],
             [
              0.6666666666666666,
              "#ed7953"
             ],
             [
              0.7777777777777778,
              "#fb9f3a"
             ],
             [
              0.8888888888888888,
              "#fdca26"
             ],
             [
              1,
              "#f0f921"
             ]
            ],
            "type": "heatmap"
           }
          ],
          "histogram": [
           {
            "marker": {
             "pattern": {
              "fillmode": "overlay",
              "size": 10,
              "solidity": 0.2
             }
            },
            "type": "histogram"
           }
          ],
          "histogram2d": [
           {
            "colorbar": {
             "outlinewidth": 0,
             "ticks": ""
            },
            "colorscale": [
             [
              0,
              "#0d0887"
             ],
             [
              0.1111111111111111,
              "#46039f"
             ],
             [
              0.2222222222222222,
              "#7201a8"
             ],
             [
              0.3333333333333333,
              "#9c179e"
             ],
             [
              0.4444444444444444,
              "#bd3786"
             ],
             [
              0.5555555555555556,
              "#d8576b"
             ],
             [
              0.6666666666666666,
              "#ed7953"
             ],
             [
              0.7777777777777778,
              "#fb9f3a"
             ],
             [
              0.8888888888888888,
              "#fdca26"
             ],
             [
              1,
              "#f0f921"
             ]
            ],
            "type": "histogram2d"
           }
          ],
          "histogram2dcontour": [
           {
            "colorbar": {
             "outlinewidth": 0,
             "ticks": ""
            },
            "colorscale": [
             [
              0,
              "#0d0887"
             ],
             [
              0.1111111111111111,
              "#46039f"
             ],
             [
              0.2222222222222222,
              "#7201a8"
             ],
             [
              0.3333333333333333,
              "#9c179e"
             ],
             [
              0.4444444444444444,
              "#bd3786"
             ],
             [
              0.5555555555555556,
              "#d8576b"
             ],
             [
              0.6666666666666666,
              "#ed7953"
             ],
             [
              0.7777777777777778,
              "#fb9f3a"
             ],
             [
              0.8888888888888888,
              "#fdca26"
             ],
             [
              1,
              "#f0f921"
             ]
            ],
            "type": "histogram2dcontour"
           }
          ],
          "mesh3d": [
           {
            "colorbar": {
             "outlinewidth": 0,
             "ticks": ""
            },
            "type": "mesh3d"
           }
          ],
          "parcoords": [
           {
            "line": {
             "colorbar": {
              "outlinewidth": 0,
              "ticks": ""
             }
            },
            "type": "parcoords"
           }
          ],
          "pie": [
           {
            "automargin": true,
            "type": "pie"
           }
          ],
          "scatter": [
           {
            "fillpattern": {
             "fillmode": "overlay",
             "size": 10,
             "solidity": 0.2
            },
            "type": "scatter"
           }
          ],
          "scatter3d": [
           {
            "line": {
             "colorbar": {
              "outlinewidth": 0,
              "ticks": ""
             }
            },
            "marker": {
             "colorbar": {
              "outlinewidth": 0,
              "ticks": ""
             }
            },
            "type": "scatter3d"
           }
          ],
          "scattercarpet": [
           {
            "marker": {
             "colorbar": {
              "outlinewidth": 0,
              "ticks": ""
             }
            },
            "type": "scattercarpet"
           }
          ],
          "scattergeo": [
           {
            "marker": {
             "colorbar": {
              "outlinewidth": 0,
              "ticks": ""
             }
            },
            "type": "scattergeo"
           }
          ],
          "scattergl": [
           {
            "marker": {
             "colorbar": {
              "outlinewidth": 0,
              "ticks": ""
             }
            },
            "type": "scattergl"
           }
          ],
          "scattermap": [
           {
            "marker": {
             "colorbar": {
              "outlinewidth": 0,
              "ticks": ""
             }
            },
            "type": "scattermap"
           }
          ],
          "scattermapbox": [
           {
            "marker": {
             "colorbar": {
              "outlinewidth": 0,
              "ticks": ""
             }
            },
            "type": "scattermapbox"
           }
          ],
          "scatterpolar": [
           {
            "marker": {
             "colorbar": {
              "outlinewidth": 0,
              "ticks": ""
             }
            },
            "type": "scatterpolar"
           }
          ],
          "scatterpolargl": [
           {
            "marker": {
             "colorbar": {
              "outlinewidth": 0,
              "ticks": ""
             }
            },
            "type": "scatterpolargl"
           }
          ],
          "scatterternary": [
           {
            "marker": {
             "colorbar": {
              "outlinewidth": 0,
              "ticks": ""
             }
            },
            "type": "scatterternary"
           }
          ],
          "surface": [
           {
            "colorbar": {
             "outlinewidth": 0,
             "ticks": ""
            },
            "colorscale": [
             [
              0,
              "#0d0887"
             ],
             [
              0.1111111111111111,
              "#46039f"
             ],
             [
              0.2222222222222222,
              "#7201a8"
             ],
             [
              0.3333333333333333,
              "#9c179e"
             ],
             [
              0.4444444444444444,
              "#bd3786"
             ],
             [
              0.5555555555555556,
              "#d8576b"
             ],
             [
              0.6666666666666666,
              "#ed7953"
             ],
             [
              0.7777777777777778,
              "#fb9f3a"
             ],
             [
              0.8888888888888888,
              "#fdca26"
             ],
             [
              1,
              "#f0f921"
             ]
            ],
            "type": "surface"
           }
          ],
          "table": [
           {
            "cells": {
             "fill": {
              "color": "#EBF0F8"
             },
             "line": {
              "color": "white"
             }
            },
            "header": {
             "fill": {
              "color": "#C8D4E3"
             },
             "line": {
              "color": "white"
             }
            },
            "type": "table"
           }
          ]
         },
         "layout": {
          "annotationdefaults": {
           "arrowcolor": "#2a3f5f",
           "arrowhead": 0,
           "arrowwidth": 1
          },
          "autotypenumbers": "strict",
          "coloraxis": {
           "colorbar": {
            "outlinewidth": 0,
            "ticks": ""
           }
          },
          "colorscale": {
           "diverging": [
            [
             0,
             "#8e0152"
            ],
            [
             0.1,
             "#c51b7d"
            ],
            [
             0.2,
             "#de77ae"
            ],
            [
             0.3,
             "#f1b6da"
            ],
            [
             0.4,
             "#fde0ef"
            ],
            [
             0.5,
             "#f7f7f7"
            ],
            [
             0.6,
             "#e6f5d0"
            ],
            [
             0.7,
             "#b8e186"
            ],
            [
             0.8,
             "#7fbc41"
            ],
            [
             0.9,
             "#4d9221"
            ],
            [
             1,
             "#276419"
            ]
           ],
           "sequential": [
            [
             0,
             "#0d0887"
            ],
            [
             0.1111111111111111,
             "#46039f"
            ],
            [
             0.2222222222222222,
             "#7201a8"
            ],
            [
             0.3333333333333333,
             "#9c179e"
            ],
            [
             0.4444444444444444,
             "#bd3786"
            ],
            [
             0.5555555555555556,
             "#d8576b"
            ],
            [
             0.6666666666666666,
             "#ed7953"
            ],
            [
             0.7777777777777778,
             "#fb9f3a"
            ],
            [
             0.8888888888888888,
             "#fdca26"
            ],
            [
             1,
             "#f0f921"
            ]
           ],
           "sequentialminus": [
            [
             0,
             "#0d0887"
            ],
            [
             0.1111111111111111,
             "#46039f"
            ],
            [
             0.2222222222222222,
             "#7201a8"
            ],
            [
             0.3333333333333333,
             "#9c179e"
            ],
            [
             0.4444444444444444,
             "#bd3786"
            ],
            [
             0.5555555555555556,
             "#d8576b"
            ],
            [
             0.6666666666666666,
             "#ed7953"
            ],
            [
             0.7777777777777778,
             "#fb9f3a"
            ],
            [
             0.8888888888888888,
             "#fdca26"
            ],
            [
             1,
             "#f0f921"
            ]
           ]
          },
          "colorway": [
           "#636efa",
           "#EF553B",
           "#00cc96",
           "#ab63fa",
           "#FFA15A",
           "#19d3f3",
           "#FF6692",
           "#B6E880",
           "#FF97FF",
           "#FECB52"
          ],
          "font": {
           "color": "#2a3f5f"
          },
          "geo": {
           "bgcolor": "white",
           "lakecolor": "white",
           "landcolor": "#E5ECF6",
           "showlakes": true,
           "showland": true,
           "subunitcolor": "white"
          },
          "hoverlabel": {
           "align": "left"
          },
          "hovermode": "closest",
          "mapbox": {
           "style": "light"
          },
          "paper_bgcolor": "white",
          "plot_bgcolor": "#E5ECF6",
          "polar": {
           "angularaxis": {
            "gridcolor": "white",
            "linecolor": "white",
            "ticks": ""
           },
           "bgcolor": "#E5ECF6",
           "radialaxis": {
            "gridcolor": "white",
            "linecolor": "white",
            "ticks": ""
           }
          },
          "scene": {
           "xaxis": {
            "backgroundcolor": "#E5ECF6",
            "gridcolor": "white",
            "gridwidth": 2,
            "linecolor": "white",
            "showbackground": true,
            "ticks": "",
            "zerolinecolor": "white"
           },
           "yaxis": {
            "backgroundcolor": "#E5ECF6",
            "gridcolor": "white",
            "gridwidth": 2,
            "linecolor": "white",
            "showbackground": true,
            "ticks": "",
            "zerolinecolor": "white"
           },
           "zaxis": {
            "backgroundcolor": "#E5ECF6",
            "gridcolor": "white",
            "gridwidth": 2,
            "linecolor": "white",
            "showbackground": true,
            "ticks": "",
            "zerolinecolor": "white"
           }
          },
          "shapedefaults": {
           "line": {
            "color": "#2a3f5f"
           }
          },
          "ternary": {
           "aaxis": {
            "gridcolor": "white",
            "linecolor": "white",
            "ticks": ""
           },
           "baxis": {
            "gridcolor": "white",
            "linecolor": "white",
            "ticks": ""
           },
           "bgcolor": "#E5ECF6",
           "caxis": {
            "gridcolor": "white",
            "linecolor": "white",
            "ticks": ""
           }
          },
          "title": {
           "x": 0.05
          },
          "xaxis": {
           "automargin": true,
           "gridcolor": "white",
           "linecolor": "white",
           "ticks": "",
           "title": {
            "standoff": 15
           },
           "zerolinecolor": "white",
           "zerolinewidth": 2
          },
          "yaxis": {
           "automargin": true,
           "gridcolor": "white",
           "linecolor": "white",
           "ticks": "",
           "title": {
            "standoff": 15
           },
           "zerolinecolor": "white",
           "zerolinewidth": 2
          }
         }
        },
        "title": {
         "text": "Parameters optimization : minimization of the cost function for group 2"
        }
       }
      }
     },
     "metadata": {},
     "output_type": "display_data"
    }
   ],
   "source": [
    "fig = viewer.parallel_coordinates(\n",
    "    nbest=10, reversescale=True, unselected_opacity=0.05, parameter_groups=parameter_groups, uniformed=False\n",
    ")\n",
    "\n",
    "for group in fig:\n",
    "    display(group)"
   ]
  }
 ],
 "metadata": {
  "kernelspec": {
   "display_name": ".venv",
   "language": "python",
   "name": "python3"
  },
  "language_info": {
   "codemirror_mode": {
    "name": "ipython",
    "version": 3
   },
   "file_extension": ".py",
   "mimetype": "text/x-python",
   "name": "python",
   "nbconvert_exporter": "python",
   "pygments_lexer": "ipython3",
   "version": "3.13.3"
  }
 },
 "nbformat": 4,
 "nbformat_minor": 2
}
