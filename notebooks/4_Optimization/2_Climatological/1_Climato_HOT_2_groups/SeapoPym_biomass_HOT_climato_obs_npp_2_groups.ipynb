{
 "cells": [
  {
   "cell_type": "code",
   "execution_count": 1,
   "metadata": {},
   "outputs": [],
   "source": [
    "from pathlib import Path\n",
    "\n",
    "import pandas as pd\n",
    "import xarray as xr\n",
    "from dask.distributed import Client\n",
    "from seapopym.configuration.no_transport import ForcingParameter, ForcingUnit\n",
    "from seapopym.standard.units import StandardUnitsLabels\n",
    "\n",
    "from seapopym_optimization.cost_function import DayCycle, SimpleRootMeanSquareErrorCostFunction, TimeSeriesObservation\n",
    "from seapopym_optimization.functional_group import NoTransportFunctionalGroup, Parameter\n",
    "from seapopym_optimization.genetic_algorithm import SimpleGeneticAlgorithm, SimpleGeneticAlgorithmParameters\n",
    "from seapopym_optimization.model_generator import NoTransportModelGenerator\n"
   ]
  },
  {
   "cell_type": "code",
   "execution_count": 2,
   "metadata": {},
   "outputs": [],
   "source": [
    "path_to_forcing = \"../../../1_data_processing/1_1_Forcing/data/1_products/Hot_cmems_climato.zarr\"\n",
    "path_to_npp = \"../../../1_data_processing/1_1_Forcing/data/1_products/Hot_observed_npp_climato.zarr\"\n",
    "path_to_obs = \"../../../1_data_processing/1_1_Forcing/data/1_products/Hot_obs_zoo_climato_monthly_2002_2015.zarr\"\n",
    "export_file_name = \"SeapoPym_biomass_HOT_climato_obs_npp_2_groups\""
   ]
  },
  {
   "cell_type": "code",
   "execution_count": 3,
   "metadata": {},
   "outputs": [],
   "source": [
    "LATITUDE = 22.75\n",
    "LONGITUDE = -158\n",
    "TIME_START = \"2005-01-02\"\n",
    "TIME_END = \"2008-01-01\"\n",
    "STABILIZATION_TIME = 12\n",
    "SAVE = True"
   ]
  },
  {
   "cell_type": "markdown",
   "metadata": {},
   "source": [
    "## Loading\n"
   ]
  },
  {
   "cell_type": "markdown",
   "metadata": {},
   "source": [
    "### Forcing\n"
   ]
  },
  {
   "cell_type": "code",
   "execution_count": 4,
   "metadata": {},
   "outputs": [
    {
     "data": {
      "text/html": [
       "<div><svg style=\"position: absolute; width: 0; height: 0; overflow: hidden\">\n",
       "<defs>\n",
       "<symbol id=\"icon-database\" viewBox=\"0 0 32 32\">\n",
       "<path d=\"M16 0c-8.837 0-16 2.239-16 5v4c0 2.761 7.163 5 16 5s16-2.239 16-5v-4c0-2.761-7.163-5-16-5z\"></path>\n",
       "<path d=\"M16 17c-8.837 0-16-2.239-16-5v6c0 2.761 7.163 5 16 5s16-2.239 16-5v-6c0 2.761-7.163 5-16 5z\"></path>\n",
       "<path d=\"M16 26c-8.837 0-16-2.239-16-5v6c0 2.761 7.163 5 16 5s16-2.239 16-5v-6c0 2.761-7.163 5-16 5z\"></path>\n",
       "</symbol>\n",
       "<symbol id=\"icon-file-text2\" viewBox=\"0 0 32 32\">\n",
       "<path d=\"M28.681 7.159c-0.694-0.947-1.662-2.053-2.724-3.116s-2.169-2.030-3.116-2.724c-1.612-1.182-2.393-1.319-2.841-1.319h-15.5c-1.378 0-2.5 1.121-2.5 2.5v27c0 1.378 1.122 2.5 2.5 2.5h23c1.378 0 2.5-1.122 2.5-2.5v-19.5c0-0.448-0.137-1.23-1.319-2.841zM24.543 5.457c0.959 0.959 1.712 1.825 2.268 2.543h-4.811v-4.811c0.718 0.556 1.584 1.309 2.543 2.268zM28 29.5c0 0.271-0.229 0.5-0.5 0.5h-23c-0.271 0-0.5-0.229-0.5-0.5v-27c0-0.271 0.229-0.5 0.5-0.5 0 0 15.499-0 15.5 0v7c0 0.552 0.448 1 1 1h7v19.5z\"></path>\n",
       "<path d=\"M23 26h-14c-0.552 0-1-0.448-1-1s0.448-1 1-1h14c0.552 0 1 0.448 1 1s-0.448 1-1 1z\"></path>\n",
       "<path d=\"M23 22h-14c-0.552 0-1-0.448-1-1s0.448-1 1-1h14c0.552 0 1 0.448 1 1s-0.448 1-1 1z\"></path>\n",
       "<path d=\"M23 18h-14c-0.552 0-1-0.448-1-1s0.448-1 1-1h14c0.552 0 1 0.448 1 1s-0.448 1-1 1z\"></path>\n",
       "</symbol>\n",
       "</defs>\n",
       "</svg>\n",
       "<style>/* CSS stylesheet for displaying xarray objects in jupyterlab.\n",
       " *\n",
       " */\n",
       "\n",
       ":root {\n",
       "  --xr-font-color0: var(--jp-content-font-color0, rgba(0, 0, 0, 1));\n",
       "  --xr-font-color2: var(--jp-content-font-color2, rgba(0, 0, 0, 0.54));\n",
       "  --xr-font-color3: var(--jp-content-font-color3, rgba(0, 0, 0, 0.38));\n",
       "  --xr-border-color: var(--jp-border-color2, #e0e0e0);\n",
       "  --xr-disabled-color: var(--jp-layout-color3, #bdbdbd);\n",
       "  --xr-background-color: var(--jp-layout-color0, white);\n",
       "  --xr-background-color-row-even: var(--jp-layout-color1, white);\n",
       "  --xr-background-color-row-odd: var(--jp-layout-color2, #eeeeee);\n",
       "}\n",
       "\n",
       "html[theme=\"dark\"],\n",
       "html[data-theme=\"dark\"],\n",
       "body[data-theme=\"dark\"],\n",
       "body.vscode-dark {\n",
       "  --xr-font-color0: rgba(255, 255, 255, 1);\n",
       "  --xr-font-color2: rgba(255, 255, 255, 0.54);\n",
       "  --xr-font-color3: rgba(255, 255, 255, 0.38);\n",
       "  --xr-border-color: #1f1f1f;\n",
       "  --xr-disabled-color: #515151;\n",
       "  --xr-background-color: #111111;\n",
       "  --xr-background-color-row-even: #111111;\n",
       "  --xr-background-color-row-odd: #313131;\n",
       "}\n",
       "\n",
       ".xr-wrap {\n",
       "  display: block !important;\n",
       "  min-width: 300px;\n",
       "  max-width: 700px;\n",
       "}\n",
       "\n",
       ".xr-text-repr-fallback {\n",
       "  /* fallback to plain text repr when CSS is not injected (untrusted notebook) */\n",
       "  display: none;\n",
       "}\n",
       "\n",
       ".xr-header {\n",
       "  padding-top: 6px;\n",
       "  padding-bottom: 6px;\n",
       "  margin-bottom: 4px;\n",
       "  border-bottom: solid 1px var(--xr-border-color);\n",
       "}\n",
       "\n",
       ".xr-header > div,\n",
       ".xr-header > ul {\n",
       "  display: inline;\n",
       "  margin-top: 0;\n",
       "  margin-bottom: 0;\n",
       "}\n",
       "\n",
       ".xr-obj-type,\n",
       ".xr-array-name {\n",
       "  margin-left: 2px;\n",
       "  margin-right: 10px;\n",
       "}\n",
       "\n",
       ".xr-obj-type {\n",
       "  color: var(--xr-font-color2);\n",
       "}\n",
       "\n",
       ".xr-sections {\n",
       "  padding-left: 0 !important;\n",
       "  display: grid;\n",
       "  grid-template-columns: 150px auto auto 1fr 0 20px 0 20px;\n",
       "}\n",
       "\n",
       ".xr-section-item {\n",
       "  display: contents;\n",
       "}\n",
       "\n",
       ".xr-section-item input {\n",
       "  display: inline-block;\n",
       "  opacity: 0;\n",
       "  height: 0;\n",
       "}\n",
       "\n",
       ".xr-section-item input + label {\n",
       "  color: var(--xr-disabled-color);\n",
       "}\n",
       "\n",
       ".xr-section-item input:enabled + label {\n",
       "  cursor: pointer;\n",
       "  color: var(--xr-font-color2);\n",
       "}\n",
       "\n",
       ".xr-section-item input:focus + label {\n",
       "  border: 2px solid var(--xr-font-color0);\n",
       "}\n",
       "\n",
       ".xr-section-item input:enabled + label:hover {\n",
       "  color: var(--xr-font-color0);\n",
       "}\n",
       "\n",
       ".xr-section-summary {\n",
       "  grid-column: 1;\n",
       "  color: var(--xr-font-color2);\n",
       "  font-weight: 500;\n",
       "}\n",
       "\n",
       ".xr-section-summary > span {\n",
       "  display: inline-block;\n",
       "  padding-left: 0.5em;\n",
       "}\n",
       "\n",
       ".xr-section-summary-in:disabled + label {\n",
       "  color: var(--xr-font-color2);\n",
       "}\n",
       "\n",
       ".xr-section-summary-in + label:before {\n",
       "  display: inline-block;\n",
       "  content: \"►\";\n",
       "  font-size: 11px;\n",
       "  width: 15px;\n",
       "  text-align: center;\n",
       "}\n",
       "\n",
       ".xr-section-summary-in:disabled + label:before {\n",
       "  color: var(--xr-disabled-color);\n",
       "}\n",
       "\n",
       ".xr-section-summary-in:checked + label:before {\n",
       "  content: \"▼\";\n",
       "}\n",
       "\n",
       ".xr-section-summary-in:checked + label > span {\n",
       "  display: none;\n",
       "}\n",
       "\n",
       ".xr-section-summary,\n",
       ".xr-section-inline-details {\n",
       "  padding-top: 4px;\n",
       "  padding-bottom: 4px;\n",
       "}\n",
       "\n",
       ".xr-section-inline-details {\n",
       "  grid-column: 2 / -1;\n",
       "}\n",
       "\n",
       ".xr-section-details {\n",
       "  display: none;\n",
       "  grid-column: 1 / -1;\n",
       "  margin-bottom: 5px;\n",
       "}\n",
       "\n",
       ".xr-section-summary-in:checked ~ .xr-section-details {\n",
       "  display: contents;\n",
       "}\n",
       "\n",
       ".xr-array-wrap {\n",
       "  grid-column: 1 / -1;\n",
       "  display: grid;\n",
       "  grid-template-columns: 20px auto;\n",
       "}\n",
       "\n",
       ".xr-array-wrap > label {\n",
       "  grid-column: 1;\n",
       "  vertical-align: top;\n",
       "}\n",
       "\n",
       ".xr-preview {\n",
       "  color: var(--xr-font-color3);\n",
       "}\n",
       "\n",
       ".xr-array-preview,\n",
       ".xr-array-data {\n",
       "  padding: 0 5px !important;\n",
       "  grid-column: 2;\n",
       "}\n",
       "\n",
       ".xr-array-data,\n",
       ".xr-array-in:checked ~ .xr-array-preview {\n",
       "  display: none;\n",
       "}\n",
       "\n",
       ".xr-array-in:checked ~ .xr-array-data,\n",
       ".xr-array-preview {\n",
       "  display: inline-block;\n",
       "}\n",
       "\n",
       ".xr-dim-list {\n",
       "  display: inline-block !important;\n",
       "  list-style: none;\n",
       "  padding: 0 !important;\n",
       "  margin: 0;\n",
       "}\n",
       "\n",
       ".xr-dim-list li {\n",
       "  display: inline-block;\n",
       "  padding: 0;\n",
       "  margin: 0;\n",
       "}\n",
       "\n",
       ".xr-dim-list:before {\n",
       "  content: \"(\";\n",
       "}\n",
       "\n",
       ".xr-dim-list:after {\n",
       "  content: \")\";\n",
       "}\n",
       "\n",
       ".xr-dim-list li:not(:last-child):after {\n",
       "  content: \",\";\n",
       "  padding-right: 5px;\n",
       "}\n",
       "\n",
       ".xr-has-index {\n",
       "  font-weight: bold;\n",
       "}\n",
       "\n",
       ".xr-var-list,\n",
       ".xr-var-item {\n",
       "  display: contents;\n",
       "}\n",
       "\n",
       ".xr-var-item > div,\n",
       ".xr-var-item label,\n",
       ".xr-var-item > .xr-var-name span {\n",
       "  background-color: var(--xr-background-color-row-even);\n",
       "  margin-bottom: 0;\n",
       "}\n",
       "\n",
       ".xr-var-item > .xr-var-name:hover span {\n",
       "  padding-right: 5px;\n",
       "}\n",
       "\n",
       ".xr-var-list > li:nth-child(odd) > div,\n",
       ".xr-var-list > li:nth-child(odd) > label,\n",
       ".xr-var-list > li:nth-child(odd) > .xr-var-name span {\n",
       "  background-color: var(--xr-background-color-row-odd);\n",
       "}\n",
       "\n",
       ".xr-var-name {\n",
       "  grid-column: 1;\n",
       "}\n",
       "\n",
       ".xr-var-dims {\n",
       "  grid-column: 2;\n",
       "}\n",
       "\n",
       ".xr-var-dtype {\n",
       "  grid-column: 3;\n",
       "  text-align: right;\n",
       "  color: var(--xr-font-color2);\n",
       "}\n",
       "\n",
       ".xr-var-preview {\n",
       "  grid-column: 4;\n",
       "}\n",
       "\n",
       ".xr-index-preview {\n",
       "  grid-column: 2 / 5;\n",
       "  color: var(--xr-font-color2);\n",
       "}\n",
       "\n",
       ".xr-var-name,\n",
       ".xr-var-dims,\n",
       ".xr-var-dtype,\n",
       ".xr-preview,\n",
       ".xr-attrs dt {\n",
       "  white-space: nowrap;\n",
       "  overflow: hidden;\n",
       "  text-overflow: ellipsis;\n",
       "  padding-right: 10px;\n",
       "}\n",
       "\n",
       ".xr-var-name:hover,\n",
       ".xr-var-dims:hover,\n",
       ".xr-var-dtype:hover,\n",
       ".xr-attrs dt:hover {\n",
       "  overflow: visible;\n",
       "  width: auto;\n",
       "  z-index: 1;\n",
       "}\n",
       "\n",
       ".xr-var-attrs,\n",
       ".xr-var-data,\n",
       ".xr-index-data {\n",
       "  display: none;\n",
       "  background-color: var(--xr-background-color) !important;\n",
       "  padding-bottom: 5px !important;\n",
       "}\n",
       "\n",
       ".xr-var-attrs-in:checked ~ .xr-var-attrs,\n",
       ".xr-var-data-in:checked ~ .xr-var-data,\n",
       ".xr-index-data-in:checked ~ .xr-index-data {\n",
       "  display: block;\n",
       "}\n",
       "\n",
       ".xr-var-data > table {\n",
       "  float: right;\n",
       "}\n",
       "\n",
       ".xr-var-name span,\n",
       ".xr-var-data,\n",
       ".xr-index-name div,\n",
       ".xr-index-data,\n",
       ".xr-attrs {\n",
       "  padding-left: 25px !important;\n",
       "}\n",
       "\n",
       ".xr-attrs,\n",
       ".xr-var-attrs,\n",
       ".xr-var-data,\n",
       ".xr-index-data {\n",
       "  grid-column: 1 / -1;\n",
       "}\n",
       "\n",
       "dl.xr-attrs {\n",
       "  padding: 0;\n",
       "  margin: 0;\n",
       "  display: grid;\n",
       "  grid-template-columns: 125px auto;\n",
       "}\n",
       "\n",
       ".xr-attrs dt,\n",
       ".xr-attrs dd {\n",
       "  padding: 0;\n",
       "  margin: 0;\n",
       "  float: left;\n",
       "  padding-right: 10px;\n",
       "  width: auto;\n",
       "}\n",
       "\n",
       ".xr-attrs dt {\n",
       "  font-weight: normal;\n",
       "  grid-column: 1;\n",
       "}\n",
       "\n",
       ".xr-attrs dt:hover span {\n",
       "  display: inline-block;\n",
       "  background: var(--xr-background-color);\n",
       "  padding-right: 10px;\n",
       "}\n",
       "\n",
       ".xr-attrs dd {\n",
       "  grid-column: 2;\n",
       "  white-space: pre-wrap;\n",
       "  word-break: break-all;\n",
       "}\n",
       "\n",
       ".xr-icon-database,\n",
       ".xr-icon-file-text2,\n",
       ".xr-no-icon {\n",
       "  display: inline-block;\n",
       "  vertical-align: middle;\n",
       "  width: 1em;\n",
       "  height: 1.5em !important;\n",
       "  stroke-width: 0;\n",
       "  stroke: currentColor;\n",
       "  fill: currentColor;\n",
       "}\n",
       "</style><pre class='xr-text-repr-fallback'>&lt;xarray.Dataset&gt; Size: 193kB\n",
       "Dimensions:              (time: 1095, latitude: 1, longitude: 1, depth: 3)\n",
       "Coordinates:\n",
       "  * depth                (depth) int64 24B 0 1 2\n",
       "  * latitude             (latitude) float64 8B 22.75\n",
       "  * longitude            (longitude) int64 8B -158\n",
       "  * time                 (time) datetime64[ns] 9kB 2005-01-02 ... 2008-01-01\n",
       "Data variables: (12/13)\n",
       "    T                    (time, latitude, longitude, depth) float64 26kB 23.8...\n",
       "    U                    (time, latitude, longitude, depth) float64 26kB -0.0...\n",
       "    V                    (time, latitude, longitude, depth) float64 26kB -0.0...\n",
       "    mnkc_epi             (time, latitude, longitude) float64 9kB 0.2862 ... 0...\n",
       "    mnkc_hmlmeso         (time, latitude, longitude) float64 9kB 0.8062 ... 0...\n",
       "    mnkc_lmeso           (time, latitude, longitude) float64 9kB 2.113 ... 2.116\n",
       "    ...                   ...\n",
       "    mnkc_mumeso          (time, latitude, longitude) float64 9kB 0.5676 ... 0...\n",
       "    mnkc_umeso           (time, latitude, longitude) float64 9kB 0.4922 ... 0...\n",
       "    npp                  (time, latitude, longitude) float64 9kB 322.7 ... 302.2\n",
       "    pelagic_layer_depth  (time, latitude, longitude, depth) float64 26kB 113....\n",
       "    zeu                  (time, latitude, longitude) float64 9kB 75.51 ... 76.5\n",
       "    zooc                 (time, latitude, longitude) float64 9kB 0.267 ... 0.261\n",
       "Attributes:\n",
       "    Conventions:  CF-1.7\n",
       "    history:      Created on 2024-10-17\n",
       "    institution:  CLS\n",
       "    references:   http://www.cls.fr; http://www.seapodym.eu\n",
       "    source:       SEAPODYM-LMTL 3.0.0\n",
       "    title:        Global ocean low and mid trophic levels biomass content hin...</pre><div class='xr-wrap' style='display:none'><div class='xr-header'><div class='xr-obj-type'>xarray.Dataset</div></div><ul class='xr-sections'><li class='xr-section-item'><input id='section-76bd7f9a-c222-4c4e-b5af-6eacb46e2154' class='xr-section-summary-in' type='checkbox' disabled ><label for='section-76bd7f9a-c222-4c4e-b5af-6eacb46e2154' class='xr-section-summary'  title='Expand/collapse section'>Dimensions:</label><div class='xr-section-inline-details'><ul class='xr-dim-list'><li><span class='xr-has-index'>time</span>: 1095</li><li><span class='xr-has-index'>latitude</span>: 1</li><li><span class='xr-has-index'>longitude</span>: 1</li><li><span class='xr-has-index'>depth</span>: 3</li></ul></div><div class='xr-section-details'></div></li><li class='xr-section-item'><input id='section-53b60fa0-073f-454b-854c-bf7696547a69' class='xr-section-summary-in' type='checkbox'  checked><label for='section-53b60fa0-073f-454b-854c-bf7696547a69' class='xr-section-summary' >Coordinates: <span>(4)</span></label><div class='xr-section-inline-details'></div><div class='xr-section-details'><ul class='xr-var-list'><li class='xr-var-item'><div class='xr-var-name'><span class='xr-has-index'>depth</span></div><div class='xr-var-dims'>(depth)</div><div class='xr-var-dtype'>int64</div><div class='xr-var-preview xr-preview'>0 1 2</div><input id='attrs-cf91ed82-e4b3-4a13-9bc9-2a308534928c' class='xr-var-attrs-in' type='checkbox' ><label for='attrs-cf91ed82-e4b3-4a13-9bc9-2a308534928c' title='Show/Hide attributes'><svg class='icon xr-icon-file-text2'><use xlink:href='#icon-file-text2'></use></svg></label><input id='data-65914c86-98e6-4b99-b393-be4e0f7660be' class='xr-var-data-in' type='checkbox'><label for='data-65914c86-98e6-4b99-b393-be4e0f7660be' title='Show/Hide data repr'><svg class='icon xr-icon-database'><use xlink:href='#icon-database'></use></svg></label><div class='xr-var-attrs'><dl class='xr-attrs'><dt><span>axis :</span></dt><dd>Z</dd><dt><span>desc :</span></dt><dd>The layer depth according to Seapodym definition</dd><dt><span>flag_meanings :</span></dt><dd>epipelagic, upper-mesopelagic, lower-mesopelagic</dd><dt><span>flag_values :</span></dt><dd>[0 1 2]</dd><dt><span>long_name :</span></dt><dd>Layer depth</dd><dt><span>standard_name :</span></dt><dd>depth</dd></dl></div><div class='xr-var-data'><pre>array([0, 1, 2])</pre></div></li><li class='xr-var-item'><div class='xr-var-name'><span class='xr-has-index'>latitude</span></div><div class='xr-var-dims'>(latitude)</div><div class='xr-var-dtype'>float64</div><div class='xr-var-preview xr-preview'>22.75</div><input id='attrs-bdbf8828-fe21-47da-8004-29619cad9a6a' class='xr-var-attrs-in' type='checkbox' ><label for='attrs-bdbf8828-fe21-47da-8004-29619cad9a6a' title='Show/Hide attributes'><svg class='icon xr-icon-file-text2'><use xlink:href='#icon-file-text2'></use></svg></label><input id='data-636670d2-dc3f-4562-bc5d-47560078f488' class='xr-var-data-in' type='checkbox'><label for='data-636670d2-dc3f-4562-bc5d-47560078f488' title='Show/Hide data repr'><svg class='icon xr-icon-database'><use xlink:href='#icon-database'></use></svg></label><div class='xr-var-attrs'><dl class='xr-attrs'><dt><span>axis :</span></dt><dd>Y</dd><dt><span>standard_name :</span></dt><dd>latitude</dd><dt><span>units :</span></dt><dd>degrees_north</dd></dl></div><div class='xr-var-data'><pre>array([22.75])</pre></div></li><li class='xr-var-item'><div class='xr-var-name'><span class='xr-has-index'>longitude</span></div><div class='xr-var-dims'>(longitude)</div><div class='xr-var-dtype'>int64</div><div class='xr-var-preview xr-preview'>-158</div><input id='attrs-f6fb000d-cd77-438f-b85c-bfd04e336154' class='xr-var-attrs-in' type='checkbox' ><label for='attrs-f6fb000d-cd77-438f-b85c-bfd04e336154' title='Show/Hide attributes'><svg class='icon xr-icon-file-text2'><use xlink:href='#icon-file-text2'></use></svg></label><input id='data-f975bd9e-88c7-4433-988c-b3d15aad0aea' class='xr-var-data-in' type='checkbox'><label for='data-f975bd9e-88c7-4433-988c-b3d15aad0aea' title='Show/Hide data repr'><svg class='icon xr-icon-database'><use xlink:href='#icon-database'></use></svg></label><div class='xr-var-attrs'><dl class='xr-attrs'><dt><span>axis :</span></dt><dd>X</dd><dt><span>standard_name :</span></dt><dd>longitude</dd><dt><span>units :</span></dt><dd>degrees_east</dd></dl></div><div class='xr-var-data'><pre>array([-158])</pre></div></li><li class='xr-var-item'><div class='xr-var-name'><span class='xr-has-index'>time</span></div><div class='xr-var-dims'>(time)</div><div class='xr-var-dtype'>datetime64[ns]</div><div class='xr-var-preview xr-preview'>2005-01-02 ... 2008-01-01</div><input id='attrs-2aead8f9-6937-40b8-85a5-e7b1541c24df' class='xr-var-attrs-in' type='checkbox' ><label for='attrs-2aead8f9-6937-40b8-85a5-e7b1541c24df' title='Show/Hide attributes'><svg class='icon xr-icon-file-text2'><use xlink:href='#icon-file-text2'></use></svg></label><input id='data-c1127f50-6e08-459a-90b3-d7123f57a682' class='xr-var-data-in' type='checkbox'><label for='data-c1127f50-6e08-459a-90b3-d7123f57a682' title='Show/Hide data repr'><svg class='icon xr-icon-database'><use xlink:href='#icon-database'></use></svg></label><div class='xr-var-attrs'><dl class='xr-attrs'><dt><span>axis :</span></dt><dd>T</dd><dt><span>long_name :</span></dt><dd>Time</dd><dt><span>standard_name :</span></dt><dd>time</dd><dt><span>unit_long :</span></dt><dd>Seconds Since 1970-01-01</dd></dl></div><div class='xr-var-data'><pre>array([&#x27;2005-01-02T00:00:00.000000000&#x27;, &#x27;2005-01-03T00:00:00.000000000&#x27;,\n",
       "       &#x27;2005-01-04T00:00:00.000000000&#x27;, ..., &#x27;2007-12-30T00:00:00.000000000&#x27;,\n",
       "       &#x27;2007-12-31T00:00:00.000000000&#x27;, &#x27;2008-01-01T00:00:00.000000000&#x27;],\n",
       "      shape=(1095,), dtype=&#x27;datetime64[ns]&#x27;)</pre></div></li></ul></div></li><li class='xr-section-item'><input id='section-8c8baf00-61f0-429e-ab16-a38614602c25' class='xr-section-summary-in' type='checkbox'  checked><label for='section-8c8baf00-61f0-429e-ab16-a38614602c25' class='xr-section-summary' >Data variables: <span>(13)</span></label><div class='xr-section-inline-details'></div><div class='xr-section-details'><ul class='xr-var-list'><li class='xr-var-item'><div class='xr-var-name'><span>T</span></div><div class='xr-var-dims'>(time, latitude, longitude, depth)</div><div class='xr-var-dtype'>float64</div><div class='xr-var-preview xr-preview'>23.86 16.69 6.824 ... 16.53 6.715</div><input id='attrs-9a1c2bce-f4e5-4cfe-a006-2ea11a0a366d' class='xr-var-attrs-in' type='checkbox' ><label for='attrs-9a1c2bce-f4e5-4cfe-a006-2ea11a0a366d' title='Show/Hide attributes'><svg class='icon xr-icon-file-text2'><use xlink:href='#icon-file-text2'></use></svg></label><input id='data-c254b996-055e-4fb3-a379-38aa02778f8e' class='xr-var-data-in' type='checkbox'><label for='data-c254b996-055e-4fb3-a379-38aa02778f8e' title='Show/Hide data repr'><svg class='icon xr-icon-database'><use xlink:href='#icon-database'></use></svg></label><div class='xr-var-attrs'><dl class='xr-attrs'><dt><span>standard_name :</span></dt><dd>sea_water_potential_temperature_vertical_mean_over_pelagic_layer</dd><dt><span>units :</span></dt><dd>degree_Celsius</dd></dl></div><div class='xr-var-data'><pre>array([[[[23.85599605, 16.6903158 ,  6.82406215]]],\n",
       "\n",
       "\n",
       "       [[[23.82623876, 16.6691888 ,  6.79199569]]],\n",
       "\n",
       "\n",
       "       [[[23.79018946, 16.69249884,  6.81049333]]],\n",
       "\n",
       "\n",
       "       ...,\n",
       "\n",
       "\n",
       "       [[[23.95310747, 16.56651306,  6.78098831]]],\n",
       "\n",
       "\n",
       "       [[[23.93232005, 16.69801466,  6.84669787]]],\n",
       "\n",
       "\n",
       "       [[[23.87575016, 16.53383049,  6.71492945]]]], shape=(1095, 1, 1, 3))</pre></div></li><li class='xr-var-item'><div class='xr-var-name'><span>U</span></div><div class='xr-var-dims'>(time, latitude, longitude, depth)</div><div class='xr-var-dtype'>float64</div><div class='xr-var-preview xr-preview'>-0.03859 -0.07642 ... -0.05221</div><input id='attrs-36d26855-24a7-4190-a847-6d7e8b70895f' class='xr-var-attrs-in' type='checkbox' ><label for='attrs-36d26855-24a7-4190-a847-6d7e8b70895f' title='Show/Hide attributes'><svg class='icon xr-icon-file-text2'><use xlink:href='#icon-file-text2'></use></svg></label><input id='data-d3483db3-a224-48d3-b356-6ed189e91754' class='xr-var-data-in' type='checkbox'><label for='data-d3483db3-a224-48d3-b356-6ed189e91754' title='Show/Hide data repr'><svg class='icon xr-icon-database'><use xlink:href='#icon-database'></use></svg></label><div class='xr-var-attrs'><dl class='xr-attrs'><dt><span>standard_name :</span></dt><dd>eastward_sea_water_velocity_vertical_mean_over_pelagic_layer</dd><dt><span>units :</span></dt><dd>m/s</dd></dl></div><div class='xr-var-data'><pre>array([[[[-0.03859491, -0.0764185 , -0.05107602]]],\n",
       "\n",
       "\n",
       "       [[[-0.03775054, -0.07324144, -0.05091585]]],\n",
       "\n",
       "\n",
       "       [[[-0.04942942, -0.07181869, -0.05055478]]],\n",
       "\n",
       "\n",
       "       ...,\n",
       "\n",
       "\n",
       "       [[[-0.05396413, -0.07599373, -0.04936994]]],\n",
       "\n",
       "\n",
       "       [[[-0.05449473, -0.07566123, -0.04809471]]],\n",
       "\n",
       "\n",
       "       [[[-0.04782075, -0.07742351, -0.0522056 ]]]], shape=(1095, 1, 1, 3))</pre></div></li><li class='xr-var-item'><div class='xr-var-name'><span>V</span></div><div class='xr-var-dims'>(time, latitude, longitude, depth)</div><div class='xr-var-dtype'>float64</div><div class='xr-var-preview xr-preview'>-0.01033 -0.0008562 ... -0.008531</div><input id='attrs-ed22fd32-0545-45b8-8d61-6b466879dcfb' class='xr-var-attrs-in' type='checkbox' ><label for='attrs-ed22fd32-0545-45b8-8d61-6b466879dcfb' title='Show/Hide attributes'><svg class='icon xr-icon-file-text2'><use xlink:href='#icon-file-text2'></use></svg></label><input id='data-c82cb483-26b0-4430-b895-547d16bb0916' class='xr-var-data-in' type='checkbox'><label for='data-c82cb483-26b0-4430-b895-547d16bb0916' title='Show/Hide data repr'><svg class='icon xr-icon-database'><use xlink:href='#icon-database'></use></svg></label><div class='xr-var-attrs'><dl class='xr-attrs'><dt><span>standard_name :</span></dt><dd>northward_sea_water_velocity_vertical_mean_over_pelagic_layer</dd><dt><span>units :</span></dt><dd>m/s</dd></dl></div><div class='xr-var-data'><pre>array([[[[-0.0103296 , -0.00085623, -0.0076152 ]]],\n",
       "\n",
       "\n",
       "       [[[-0.0225967 , -0.00700535, -0.00887044]]],\n",
       "\n",
       "\n",
       "       [[[-0.02122028, -0.00957228, -0.0096482 ]]],\n",
       "\n",
       "\n",
       "       ...,\n",
       "\n",
       "\n",
       "       [[[-0.00623586, -0.01394295, -0.01677416]]],\n",
       "\n",
       "\n",
       "       [[[-0.01238547, -0.01663739, -0.01764878]]],\n",
       "\n",
       "\n",
       "       [[[-0.00869911,  0.00041263, -0.00853071]]]], shape=(1095, 1, 1, 3))</pre></div></li><li class='xr-var-item'><div class='xr-var-name'><span>mnkc_epi</span></div><div class='xr-var-dims'>(time, latitude, longitude)</div><div class='xr-var-dtype'>float64</div><div class='xr-var-preview xr-preview'>0.2862 0.2936 ... 0.277 0.2813</div><input id='attrs-44232120-8597-44c3-a5e4-ab399f16260c' class='xr-var-attrs-in' type='checkbox' ><label for='attrs-44232120-8597-44c3-a5e4-ab399f16260c' title='Show/Hide attributes'><svg class='icon xr-icon-file-text2'><use xlink:href='#icon-file-text2'></use></svg></label><input id='data-71808a3d-34e9-4e2d-8d06-286a56a0823d' class='xr-var-data-in' type='checkbox'><label for='data-71808a3d-34e9-4e2d-8d06-286a56a0823d' title='Show/Hide data repr'><svg class='icon xr-icon-database'><use xlink:href='#icon-database'></use></svg></label><div class='xr-var-attrs'><dl class='xr-attrs'><dt><span>carbon_to_wet_weight_conversion_factor :</span></dt><dd>11.9</dd><dt><span>day_layer :</span></dt><dd>epipelagic (1)</dd><dt><span>night_layer :</span></dt><dd>epipelagic (1)</dd><dt><span>standard_name :</span></dt><dd>mass_content_of_epipelagic_micronekton_expressed_as_wet_weight_in_sea_water</dd><dt><span>units :</span></dt><dd>g m-2</dd></dl></div><div class='xr-var-data'><pre>array([[[0.28618903]],\n",
       "\n",
       "       [[0.29356157]],\n",
       "\n",
       "       [[0.29937024]],\n",
       "\n",
       "       ...,\n",
       "\n",
       "       [[0.27635898]],\n",
       "\n",
       "       [[0.27702921]],\n",
       "\n",
       "       [[0.281274  ]]], shape=(1095, 1, 1))</pre></div></li><li class='xr-var-item'><div class='xr-var-name'><span>mnkc_hmlmeso</span></div><div class='xr-var-dims'>(time, latitude, longitude)</div><div class='xr-var-dtype'>float64</div><div class='xr-var-preview xr-preview'>0.8062 0.8178 ... 0.8119 0.8012</div><input id='attrs-e66ea1ab-9a42-4b0c-a31e-683a5a905575' class='xr-var-attrs-in' type='checkbox' ><label for='attrs-e66ea1ab-9a42-4b0c-a31e-683a5a905575' title='Show/Hide attributes'><svg class='icon xr-icon-file-text2'><use xlink:href='#icon-file-text2'></use></svg></label><input id='data-b8f103c9-e763-4446-8460-8255368f7e21' class='xr-var-data-in' type='checkbox'><label for='data-b8f103c9-e763-4446-8460-8255368f7e21' title='Show/Hide data repr'><svg class='icon xr-icon-database'><use xlink:href='#icon-database'></use></svg></label><div class='xr-var-attrs'><dl class='xr-attrs'><dt><span>carbon_to_wet_weight_conversion_factor :</span></dt><dd>11.9</dd><dt><span>day_layer :</span></dt><dd>lower mesopelagic (3)</dd><dt><span>night_layer :</span></dt><dd>epipelagic (1)</dd><dt><span>standard_name :</span></dt><dd>mass_content_of_highly_migrant_lower_mesopelagic_micronekton_expressed_as_wet_weight_in_sea_water</dd><dt><span>units :</span></dt><dd>g m-2</dd></dl></div><div class='xr-var-data'><pre>array([[[0.80620081]],\n",
       "\n",
       "       [[0.81784154]],\n",
       "\n",
       "       [[0.83001625]],\n",
       "\n",
       "       ...,\n",
       "\n",
       "       [[0.81410369]],\n",
       "\n",
       "       [[0.81186098]],\n",
       "\n",
       "       [[0.80118141]]], shape=(1095, 1, 1))</pre></div></li><li class='xr-var-item'><div class='xr-var-name'><span>mnkc_lmeso</span></div><div class='xr-var-dims'>(time, latitude, longitude)</div><div class='xr-var-dtype'>float64</div><div class='xr-var-preview xr-preview'>2.113 2.114 2.113 ... 2.141 2.116</div><input id='attrs-92982e2f-42b5-4475-b767-ef20d0e630be' class='xr-var-attrs-in' type='checkbox' ><label for='attrs-92982e2f-42b5-4475-b767-ef20d0e630be' title='Show/Hide attributes'><svg class='icon xr-icon-file-text2'><use xlink:href='#icon-file-text2'></use></svg></label><input id='data-52549de5-888e-4585-9bf6-fc0fe3411fd4' class='xr-var-data-in' type='checkbox'><label for='data-52549de5-888e-4585-9bf6-fc0fe3411fd4' title='Show/Hide data repr'><svg class='icon xr-icon-database'><use xlink:href='#icon-database'></use></svg></label><div class='xr-var-attrs'><dl class='xr-attrs'><dt><span>carbon_to_wet_weight_conversion_factor :</span></dt><dd>11.9</dd><dt><span>day_layer :</span></dt><dd>lower mesopelagic (3)</dd><dt><span>night_layer :</span></dt><dd>lower mesopelagic (3)</dd><dt><span>standard_name :</span></dt><dd>mass_content_of_lower_mesopelagic_micronekton_expressed_as_wet_weight_in_sea_water</dd><dt><span>units :</span></dt><dd>g m-2</dd></dl></div><div class='xr-var-data'><pre>array([[[2.11295278]],\n",
       "\n",
       "       [[2.11440443]],\n",
       "\n",
       "       [[2.11316626]],\n",
       "\n",
       "       ...,\n",
       "\n",
       "       [[2.14463277]],\n",
       "\n",
       "       [[2.14134522]],\n",
       "\n",
       "       [[2.11632572]]], shape=(1095, 1, 1))</pre></div></li><li class='xr-var-item'><div class='xr-var-name'><span>mnkc_mlmeso</span></div><div class='xr-var-dims'>(time, latitude, longitude)</div><div class='xr-var-dtype'>float64</div><div class='xr-var-preview xr-preview'>0.9614 0.9648 ... 0.9592 0.9545</div><input id='attrs-fb5f81d1-186f-4bbd-b2cc-73a2189b175d' class='xr-var-attrs-in' type='checkbox' ><label for='attrs-fb5f81d1-186f-4bbd-b2cc-73a2189b175d' title='Show/Hide attributes'><svg class='icon xr-icon-file-text2'><use xlink:href='#icon-file-text2'></use></svg></label><input id='data-8465441c-4e98-4ebf-a03d-b7418b567377' class='xr-var-data-in' type='checkbox'><label for='data-8465441c-4e98-4ebf-a03d-b7418b567377' title='Show/Hide data repr'><svg class='icon xr-icon-database'><use xlink:href='#icon-database'></use></svg></label><div class='xr-var-attrs'><dl class='xr-attrs'><dt><span>carbon_to_wet_weight_conversion_factor :</span></dt><dd>11.9</dd><dt><span>day_layer :</span></dt><dd>lower mesopelagic (3)</dd><dt><span>night_layer :</span></dt><dd>upper mesopelagic (2)</dd><dt><span>standard_name :</span></dt><dd>mass_content_of_migrant_lower_mesopelagic_micronekton_expressed_as_wet_weight_in_sea_water</dd><dt><span>units :</span></dt><dd>g m-2</dd></dl></div><div class='xr-var-data'><pre>array([[[0.96142721]],\n",
       "\n",
       "       [[0.96477503]],\n",
       "\n",
       "       [[0.96818981]],\n",
       "\n",
       "       ...,\n",
       "\n",
       "       [[0.94904028]],\n",
       "\n",
       "       [[0.95921765]],\n",
       "\n",
       "       [[0.9545307 ]]], shape=(1095, 1, 1))</pre></div></li><li class='xr-var-item'><div class='xr-var-name'><span>mnkc_mumeso</span></div><div class='xr-var-dims'>(time, latitude, longitude)</div><div class='xr-var-dtype'>float64</div><div class='xr-var-preview xr-preview'>0.5676 0.5756 ... 0.5632 0.5679</div><input id='attrs-c43f763f-7cb2-4f19-9d69-61bff9f8b715' class='xr-var-attrs-in' type='checkbox' ><label for='attrs-c43f763f-7cb2-4f19-9d69-61bff9f8b715' title='Show/Hide attributes'><svg class='icon xr-icon-file-text2'><use xlink:href='#icon-file-text2'></use></svg></label><input id='data-ab000467-991b-4187-8187-ff911bd024c5' class='xr-var-data-in' type='checkbox'><label for='data-ab000467-991b-4187-8187-ff911bd024c5' title='Show/Hide data repr'><svg class='icon xr-icon-database'><use xlink:href='#icon-database'></use></svg></label><div class='xr-var-attrs'><dl class='xr-attrs'><dt><span>carbon_to_wet_weight_conversion_factor :</span></dt><dd>11.9</dd><dt><span>day_layer :</span></dt><dd>upper mesopelagic (2)</dd><dt><span>night_layer :</span></dt><dd>epipelagic (1)</dd><dt><span>standard_name :</span></dt><dd>mass_content_of_migrant_upper_mesopelagic_micronekton_expressed_as_wet_weight_in_sea_water</dd><dt><span>units :</span></dt><dd>g m-2</dd></dl></div><div class='xr-var-data'><pre>array([[[0.56757045]],\n",
       "\n",
       "       [[0.57559264]],\n",
       "\n",
       "       [[0.579938  ]],\n",
       "\n",
       "       ...,\n",
       "\n",
       "       [[0.55988252]],\n",
       "\n",
       "       [[0.5632251 ]],\n",
       "\n",
       "       [[0.56790471]]], shape=(1095, 1, 1))</pre></div></li><li class='xr-var-item'><div class='xr-var-name'><span>mnkc_umeso</span></div><div class='xr-var-dims'>(time, latitude, longitude)</div><div class='xr-var-dtype'>float64</div><div class='xr-var-preview xr-preview'>0.4922 0.4899 ... 0.4999 0.4899</div><input id='attrs-b59b109b-f03c-42b3-83a8-b99a34dba8af' class='xr-var-attrs-in' type='checkbox' ><label for='attrs-b59b109b-f03c-42b3-83a8-b99a34dba8af' title='Show/Hide attributes'><svg class='icon xr-icon-file-text2'><use xlink:href='#icon-file-text2'></use></svg></label><input id='data-7e362348-7971-4803-b8cb-9cb677ffaa6f' class='xr-var-data-in' type='checkbox'><label for='data-7e362348-7971-4803-b8cb-9cb677ffaa6f' title='Show/Hide data repr'><svg class='icon xr-icon-database'><use xlink:href='#icon-database'></use></svg></label><div class='xr-var-attrs'><dl class='xr-attrs'><dt><span>carbon_to_wet_weight_conversion_factor :</span></dt><dd>11.9</dd><dt><span>day_layer :</span></dt><dd>upper mesopelagic (2)</dd><dt><span>night_layer :</span></dt><dd>upper mesopelagic (2)</dd><dt><span>standard_name :</span></dt><dd>mass_content_of_upper_mesopelagic_micronekton_expressed_as_wet_weight_in_sea_water</dd><dt><span>units :</span></dt><dd>g m-2</dd></dl></div><div class='xr-var-data'><pre>array([[[0.49217136]],\n",
       "\n",
       "       [[0.48988137]],\n",
       "\n",
       "       [[0.49129059]],\n",
       "\n",
       "       ...,\n",
       "\n",
       "       [[0.49340443]],\n",
       "\n",
       "       [[0.49992208]],\n",
       "\n",
       "       [[0.48988137]]], shape=(1095, 1, 1))</pre></div></li><li class='xr-var-item'><div class='xr-var-name'><span>npp</span></div><div class='xr-var-dims'>(time, latitude, longitude)</div><div class='xr-var-dtype'>float64</div><div class='xr-var-preview xr-preview'>322.7 325.5 328.0 ... 322.8 302.2</div><input id='attrs-e072848a-71db-4ba6-b37e-a738fb4f0df4' class='xr-var-attrs-in' type='checkbox' ><label for='attrs-e072848a-71db-4ba6-b37e-a738fb4f0df4' title='Show/Hide attributes'><svg class='icon xr-icon-file-text2'><use xlink:href='#icon-file-text2'></use></svg></label><input id='data-a2bd393d-3b1c-4092-8620-71d409017c0d' class='xr-var-data-in' type='checkbox'><label for='data-a2bd393d-3b1c-4092-8620-71d409017c0d' title='Show/Hide data repr'><svg class='icon xr-icon-database'><use xlink:href='#icon-database'></use></svg></label><div class='xr-var-attrs'><dl class='xr-attrs'><dt><span>standard_name :</span></dt><dd>net_primary_productivity_of_biomass_expressed_as_carbon_in_sea_water</dd><dt><span>units :</span></dt><dd>mg m-2 day-1</dd></dl></div><div class='xr-var-data'><pre>array([[[322.66866924]],\n",
       "\n",
       "       [[325.47677962]],\n",
       "\n",
       "       [[327.97788084]],\n",
       "\n",
       "       ...,\n",
       "\n",
       "       [[317.48430802]],\n",
       "\n",
       "       [[322.82012709]],\n",
       "\n",
       "       [[302.20957934]]], shape=(1095, 1, 1))</pre></div></li><li class='xr-var-item'><div class='xr-var-name'><span>pelagic_layer_depth</span></div><div class='xr-var-dims'>(time, latitude, longitude, depth)</div><div class='xr-var-dtype'>float64</div><div class='xr-var-preview xr-preview'>113.3 339.8 792.8 ... 344.2 803.2</div><input id='attrs-77931455-9c27-40a2-8901-28d18dfcb6d3' class='xr-var-attrs-in' type='checkbox' ><label for='attrs-77931455-9c27-40a2-8901-28d18dfcb6d3' title='Show/Hide attributes'><svg class='icon xr-icon-file-text2'><use xlink:href='#icon-file-text2'></use></svg></label><input id='data-f2c08bb4-cf3a-4b35-976a-b1740496e9e0' class='xr-var-data-in' type='checkbox'><label for='data-f2c08bb4-cf3a-4b35-976a-b1740496e9e0' title='Show/Hide data repr'><svg class='icon xr-icon-database'><use xlink:href='#icon-database'></use></svg></label><div class='xr-var-attrs'><dl class='xr-attrs'><dt><span>standard_name :</span></dt><dd>sea_water_pelagic_layer_bottom_depth</dd><dt><span>units :</span></dt><dd>m</dd></dl></div><div class='xr-var-data'><pre>array([[[[113.25850446, 339.77593816, 792.81042002]]],\n",
       "\n",
       "\n",
       "       [[[113.67641789, 341.02608018, 795.7272039 ]]],\n",
       "\n",
       "\n",
       "       [[[113.37776143, 340.13293801, 793.64213458]]],\n",
       "\n",
       "\n",
       "       ...,\n",
       "\n",
       "\n",
       "       [[[114.06464559, 342.19204838, 798.44775352]]],\n",
       "\n",
       "\n",
       "       [[[112.9625467 , 338.88767935, 790.73550296]]],\n",
       "\n",
       "\n",
       "       [[[114.74266259, 344.22931211, 803.20261116]]]],\n",
       "      shape=(1095, 1, 1, 3))</pre></div></li><li class='xr-var-item'><div class='xr-var-name'><span>zeu</span></div><div class='xr-var-dims'>(time, latitude, longitude)</div><div class='xr-var-dtype'>float64</div><div class='xr-var-preview xr-preview'>75.51 75.78 75.59 ... 75.31 76.5</div><input id='attrs-f30a776f-e094-46a5-a96d-5ba59eeb26b4' class='xr-var-attrs-in' type='checkbox' ><label for='attrs-f30a776f-e094-46a5-a96d-5ba59eeb26b4' title='Show/Hide attributes'><svg class='icon xr-icon-file-text2'><use xlink:href='#icon-file-text2'></use></svg></label><input id='data-9e6a1f48-938a-4949-ad37-96926d03a6f9' class='xr-var-data-in' type='checkbox'><label for='data-9e6a1f48-938a-4949-ad37-96926d03a6f9' title='Show/Hide data repr'><svg class='icon xr-icon-database'><use xlink:href='#icon-database'></use></svg></label><div class='xr-var-attrs'><dl class='xr-attrs'><dt><span>standard_name :</span></dt><dd>euphotic_zone_depth</dd><dt><span>units :</span></dt><dd>m</dd></dl></div><div class='xr-var-data'><pre>array([[[75.50578673]],\n",
       "\n",
       "       [[75.78359857]],\n",
       "\n",
       "       [[75.58513132]],\n",
       "\n",
       "       ...,\n",
       "\n",
       "       [[76.04263218]],\n",
       "\n",
       "       [[75.30824517]],\n",
       "\n",
       "       [[76.49555751]]], shape=(1095, 1, 1))</pre></div></li><li class='xr-var-item'><div class='xr-var-name'><span>zooc</span></div><div class='xr-var-dims'>(time, latitude, longitude)</div><div class='xr-var-dtype'>float64</div><div class='xr-var-preview xr-preview'>0.267 0.2761 ... 0.2627 0.261</div><input id='attrs-ac2d4d5a-5ad6-494f-88c9-bf0083756c41' class='xr-var-attrs-in' type='checkbox' ><label for='attrs-ac2d4d5a-5ad6-494f-88c9-bf0083756c41' title='Show/Hide attributes'><svg class='icon xr-icon-file-text2'><use xlink:href='#icon-file-text2'></use></svg></label><input id='data-1675957e-4dc8-41d4-8843-2447ad1d7bae' class='xr-var-data-in' type='checkbox'><label for='data-1675957e-4dc8-41d4-8843-2447ad1d7bae' title='Show/Hide data repr'><svg class='icon xr-icon-database'><use xlink:href='#icon-database'></use></svg></label><div class='xr-var-attrs'><dl class='xr-attrs'><dt><span>standard_name :</span></dt><dd>mass_content_of_zooplankton_expressed_as_carbon_in_sea_water</dd><dt><span>units :</span></dt><dd>g m-2</dd></dl></div><div class='xr-var-data'><pre>array([[[0.26696391]],\n",
       "\n",
       "       [[0.27610917]],\n",
       "\n",
       "       [[0.27830793]],\n",
       "\n",
       "       ...,\n",
       "\n",
       "       [[0.26015361]],\n",
       "\n",
       "       [[0.26266369]],\n",
       "\n",
       "       [[0.26095138]]], shape=(1095, 1, 1))</pre></div></li></ul></div></li><li class='xr-section-item'><input id='section-b0113173-0b3d-46a1-ace6-93e2bbd40388' class='xr-section-summary-in' type='checkbox'  ><label for='section-b0113173-0b3d-46a1-ace6-93e2bbd40388' class='xr-section-summary' >Indexes: <span>(4)</span></label><div class='xr-section-inline-details'></div><div class='xr-section-details'><ul class='xr-var-list'><li class='xr-var-item'><div class='xr-index-name'><div>depth</div></div><div class='xr-index-preview'>PandasIndex</div><input type='checkbox' disabled/><label></label><input id='index-cc4de823-00a4-41bf-9bff-ad64be21285d' class='xr-index-data-in' type='checkbox'/><label for='index-cc4de823-00a4-41bf-9bff-ad64be21285d' title='Show/Hide index repr'><svg class='icon xr-icon-database'><use xlink:href='#icon-database'></use></svg></label><div class='xr-index-data'><pre>PandasIndex(Index([0, 1, 2], dtype=&#x27;int64&#x27;, name=&#x27;depth&#x27;))</pre></div></li><li class='xr-var-item'><div class='xr-index-name'><div>latitude</div></div><div class='xr-index-preview'>PandasIndex</div><input type='checkbox' disabled/><label></label><input id='index-81eb8315-6c09-4467-a51a-39794231e788' class='xr-index-data-in' type='checkbox'/><label for='index-81eb8315-6c09-4467-a51a-39794231e788' title='Show/Hide index repr'><svg class='icon xr-icon-database'><use xlink:href='#icon-database'></use></svg></label><div class='xr-index-data'><pre>PandasIndex(Index([22.75], dtype=&#x27;float64&#x27;, name=&#x27;latitude&#x27;))</pre></div></li><li class='xr-var-item'><div class='xr-index-name'><div>longitude</div></div><div class='xr-index-preview'>PandasIndex</div><input type='checkbox' disabled/><label></label><input id='index-6a5bbd97-8656-462e-a637-b7938c8322cd' class='xr-index-data-in' type='checkbox'/><label for='index-6a5bbd97-8656-462e-a637-b7938c8322cd' title='Show/Hide index repr'><svg class='icon xr-icon-database'><use xlink:href='#icon-database'></use></svg></label><div class='xr-index-data'><pre>PandasIndex(Index([-158], dtype=&#x27;int64&#x27;, name=&#x27;longitude&#x27;))</pre></div></li><li class='xr-var-item'><div class='xr-index-name'><div>time</div></div><div class='xr-index-preview'>PandasIndex</div><input type='checkbox' disabled/><label></label><input id='index-df098ee3-f318-4713-9483-7fac11851a0e' class='xr-index-data-in' type='checkbox'/><label for='index-df098ee3-f318-4713-9483-7fac11851a0e' title='Show/Hide index repr'><svg class='icon xr-icon-database'><use xlink:href='#icon-database'></use></svg></label><div class='xr-index-data'><pre>PandasIndex(DatetimeIndex([&#x27;2005-01-02&#x27;, &#x27;2005-01-03&#x27;, &#x27;2005-01-04&#x27;, &#x27;2005-01-05&#x27;,\n",
       "               &#x27;2005-01-06&#x27;, &#x27;2005-01-07&#x27;, &#x27;2005-01-08&#x27;, &#x27;2005-01-09&#x27;,\n",
       "               &#x27;2005-01-10&#x27;, &#x27;2005-01-11&#x27;,\n",
       "               ...\n",
       "               &#x27;2007-12-23&#x27;, &#x27;2007-12-24&#x27;, &#x27;2007-12-25&#x27;, &#x27;2007-12-26&#x27;,\n",
       "               &#x27;2007-12-27&#x27;, &#x27;2007-12-28&#x27;, &#x27;2007-12-29&#x27;, &#x27;2007-12-30&#x27;,\n",
       "               &#x27;2007-12-31&#x27;, &#x27;2008-01-01&#x27;],\n",
       "              dtype=&#x27;datetime64[ns]&#x27;, name=&#x27;time&#x27;, length=1095, freq=None))</pre></div></li></ul></div></li><li class='xr-section-item'><input id='section-96d66301-7b7b-4ab3-94e0-80bd0aff2904' class='xr-section-summary-in' type='checkbox'  checked><label for='section-96d66301-7b7b-4ab3-94e0-80bd0aff2904' class='xr-section-summary' >Attributes: <span>(6)</span></label><div class='xr-section-inline-details'></div><div class='xr-section-details'><dl class='xr-attrs'><dt><span>Conventions :</span></dt><dd>CF-1.7</dd><dt><span>history :</span></dt><dd>Created on 2024-10-17</dd><dt><span>institution :</span></dt><dd>CLS</dd><dt><span>references :</span></dt><dd>http://www.cls.fr; http://www.seapodym.eu</dd><dt><span>source :</span></dt><dd>SEAPODYM-LMTL 3.0.0</dd><dt><span>title :</span></dt><dd>Global ocean low and mid trophic levels biomass content hindcast</dd></dl></div></li></ul></div></div>"
      ],
      "text/plain": [
       "<xarray.Dataset> Size: 193kB\n",
       "Dimensions:              (time: 1095, latitude: 1, longitude: 1, depth: 3)\n",
       "Coordinates:\n",
       "  * depth                (depth) int64 24B 0 1 2\n",
       "  * latitude             (latitude) float64 8B 22.75\n",
       "  * longitude            (longitude) int64 8B -158\n",
       "  * time                 (time) datetime64[ns] 9kB 2005-01-02 ... 2008-01-01\n",
       "Data variables: (12/13)\n",
       "    T                    (time, latitude, longitude, depth) float64 26kB 23.8...\n",
       "    U                    (time, latitude, longitude, depth) float64 26kB -0.0...\n",
       "    V                    (time, latitude, longitude, depth) float64 26kB -0.0...\n",
       "    mnkc_epi             (time, latitude, longitude) float64 9kB 0.2862 ... 0...\n",
       "    mnkc_hmlmeso         (time, latitude, longitude) float64 9kB 0.8062 ... 0...\n",
       "    mnkc_lmeso           (time, latitude, longitude) float64 9kB 2.113 ... 2.116\n",
       "    ...                   ...\n",
       "    mnkc_mumeso          (time, latitude, longitude) float64 9kB 0.5676 ... 0...\n",
       "    mnkc_umeso           (time, latitude, longitude) float64 9kB 0.4922 ... 0...\n",
       "    npp                  (time, latitude, longitude) float64 9kB 322.7 ... 302.2\n",
       "    pelagic_layer_depth  (time, latitude, longitude, depth) float64 26kB 113....\n",
       "    zeu                  (time, latitude, longitude) float64 9kB 75.51 ... 76.5\n",
       "    zooc                 (time, latitude, longitude) float64 9kB 0.267 ... 0.261\n",
       "Attributes:\n",
       "    Conventions:  CF-1.7\n",
       "    history:      Created on 2024-10-17\n",
       "    institution:  CLS\n",
       "    references:   http://www.cls.fr; http://www.seapodym.eu\n",
       "    source:       SEAPODYM-LMTL 3.0.0\n",
       "    title:        Global ocean low and mid trophic levels biomass content hin..."
      ]
     },
     "execution_count": 4,
     "metadata": {},
     "output_type": "execute_result"
    }
   ],
   "source": [
    "forcing = xr.open_zarr(path_to_forcing)\n",
    "forcing = forcing.sel(time=slice(TIME_START, TIME_END))\n",
    "forcing[\"T\"].attrs[\"units\"] = StandardUnitsLabels.temperature.units\n",
    "forcing.load()"
   ]
  },
  {
   "cell_type": "markdown",
   "metadata": {},
   "source": [
    "### Epipelagic layer\n"
   ]
  },
  {
   "cell_type": "code",
   "execution_count": 5,
   "metadata": {},
   "outputs": [
    {
     "data": {
      "text/html": [
       "<div><svg style=\"position: absolute; width: 0; height: 0; overflow: hidden\">\n",
       "<defs>\n",
       "<symbol id=\"icon-database\" viewBox=\"0 0 32 32\">\n",
       "<path d=\"M16 0c-8.837 0-16 2.239-16 5v4c0 2.761 7.163 5 16 5s16-2.239 16-5v-4c0-2.761-7.163-5-16-5z\"></path>\n",
       "<path d=\"M16 17c-8.837 0-16-2.239-16-5v6c0 2.761 7.163 5 16 5s16-2.239 16-5v-6c0 2.761-7.163 5-16 5z\"></path>\n",
       "<path d=\"M16 26c-8.837 0-16-2.239-16-5v6c0 2.761 7.163 5 16 5s16-2.239 16-5v-6c0 2.761-7.163 5-16 5z\"></path>\n",
       "</symbol>\n",
       "<symbol id=\"icon-file-text2\" viewBox=\"0 0 32 32\">\n",
       "<path d=\"M28.681 7.159c-0.694-0.947-1.662-2.053-2.724-3.116s-2.169-2.030-3.116-2.724c-1.612-1.182-2.393-1.319-2.841-1.319h-15.5c-1.378 0-2.5 1.121-2.5 2.5v27c0 1.378 1.122 2.5 2.5 2.5h23c1.378 0 2.5-1.122 2.5-2.5v-19.5c0-0.448-0.137-1.23-1.319-2.841zM24.543 5.457c0.959 0.959 1.712 1.825 2.268 2.543h-4.811v-4.811c0.718 0.556 1.584 1.309 2.543 2.268zM28 29.5c0 0.271-0.229 0.5-0.5 0.5h-23c-0.271 0-0.5-0.229-0.5-0.5v-27c0-0.271 0.229-0.5 0.5-0.5 0 0 15.499-0 15.5 0v7c0 0.552 0.448 1 1 1h7v19.5z\"></path>\n",
       "<path d=\"M23 26h-14c-0.552 0-1-0.448-1-1s0.448-1 1-1h14c0.552 0 1 0.448 1 1s-0.448 1-1 1z\"></path>\n",
       "<path d=\"M23 22h-14c-0.552 0-1-0.448-1-1s0.448-1 1-1h14c0.552 0 1 0.448 1 1s-0.448 1-1 1z\"></path>\n",
       "<path d=\"M23 18h-14c-0.552 0-1-0.448-1-1s0.448-1 1-1h14c0.552 0 1 0.448 1 1s-0.448 1-1 1z\"></path>\n",
       "</symbol>\n",
       "</defs>\n",
       "</svg>\n",
       "<style>/* CSS stylesheet for displaying xarray objects in jupyterlab.\n",
       " *\n",
       " */\n",
       "\n",
       ":root {\n",
       "  --xr-font-color0: var(--jp-content-font-color0, rgba(0, 0, 0, 1));\n",
       "  --xr-font-color2: var(--jp-content-font-color2, rgba(0, 0, 0, 0.54));\n",
       "  --xr-font-color3: var(--jp-content-font-color3, rgba(0, 0, 0, 0.38));\n",
       "  --xr-border-color: var(--jp-border-color2, #e0e0e0);\n",
       "  --xr-disabled-color: var(--jp-layout-color3, #bdbdbd);\n",
       "  --xr-background-color: var(--jp-layout-color0, white);\n",
       "  --xr-background-color-row-even: var(--jp-layout-color1, white);\n",
       "  --xr-background-color-row-odd: var(--jp-layout-color2, #eeeeee);\n",
       "}\n",
       "\n",
       "html[theme=\"dark\"],\n",
       "html[data-theme=\"dark\"],\n",
       "body[data-theme=\"dark\"],\n",
       "body.vscode-dark {\n",
       "  --xr-font-color0: rgba(255, 255, 255, 1);\n",
       "  --xr-font-color2: rgba(255, 255, 255, 0.54);\n",
       "  --xr-font-color3: rgba(255, 255, 255, 0.38);\n",
       "  --xr-border-color: #1f1f1f;\n",
       "  --xr-disabled-color: #515151;\n",
       "  --xr-background-color: #111111;\n",
       "  --xr-background-color-row-even: #111111;\n",
       "  --xr-background-color-row-odd: #313131;\n",
       "}\n",
       "\n",
       ".xr-wrap {\n",
       "  display: block !important;\n",
       "  min-width: 300px;\n",
       "  max-width: 700px;\n",
       "}\n",
       "\n",
       ".xr-text-repr-fallback {\n",
       "  /* fallback to plain text repr when CSS is not injected (untrusted notebook) */\n",
       "  display: none;\n",
       "}\n",
       "\n",
       ".xr-header {\n",
       "  padding-top: 6px;\n",
       "  padding-bottom: 6px;\n",
       "  margin-bottom: 4px;\n",
       "  border-bottom: solid 1px var(--xr-border-color);\n",
       "}\n",
       "\n",
       ".xr-header > div,\n",
       ".xr-header > ul {\n",
       "  display: inline;\n",
       "  margin-top: 0;\n",
       "  margin-bottom: 0;\n",
       "}\n",
       "\n",
       ".xr-obj-type,\n",
       ".xr-array-name {\n",
       "  margin-left: 2px;\n",
       "  margin-right: 10px;\n",
       "}\n",
       "\n",
       ".xr-obj-type {\n",
       "  color: var(--xr-font-color2);\n",
       "}\n",
       "\n",
       ".xr-sections {\n",
       "  padding-left: 0 !important;\n",
       "  display: grid;\n",
       "  grid-template-columns: 150px auto auto 1fr 0 20px 0 20px;\n",
       "}\n",
       "\n",
       ".xr-section-item {\n",
       "  display: contents;\n",
       "}\n",
       "\n",
       ".xr-section-item input {\n",
       "  display: inline-block;\n",
       "  opacity: 0;\n",
       "  height: 0;\n",
       "}\n",
       "\n",
       ".xr-section-item input + label {\n",
       "  color: var(--xr-disabled-color);\n",
       "}\n",
       "\n",
       ".xr-section-item input:enabled + label {\n",
       "  cursor: pointer;\n",
       "  color: var(--xr-font-color2);\n",
       "}\n",
       "\n",
       ".xr-section-item input:focus + label {\n",
       "  border: 2px solid var(--xr-font-color0);\n",
       "}\n",
       "\n",
       ".xr-section-item input:enabled + label:hover {\n",
       "  color: var(--xr-font-color0);\n",
       "}\n",
       "\n",
       ".xr-section-summary {\n",
       "  grid-column: 1;\n",
       "  color: var(--xr-font-color2);\n",
       "  font-weight: 500;\n",
       "}\n",
       "\n",
       ".xr-section-summary > span {\n",
       "  display: inline-block;\n",
       "  padding-left: 0.5em;\n",
       "}\n",
       "\n",
       ".xr-section-summary-in:disabled + label {\n",
       "  color: var(--xr-font-color2);\n",
       "}\n",
       "\n",
       ".xr-section-summary-in + label:before {\n",
       "  display: inline-block;\n",
       "  content: \"►\";\n",
       "  font-size: 11px;\n",
       "  width: 15px;\n",
       "  text-align: center;\n",
       "}\n",
       "\n",
       ".xr-section-summary-in:disabled + label:before {\n",
       "  color: var(--xr-disabled-color);\n",
       "}\n",
       "\n",
       ".xr-section-summary-in:checked + label:before {\n",
       "  content: \"▼\";\n",
       "}\n",
       "\n",
       ".xr-section-summary-in:checked + label > span {\n",
       "  display: none;\n",
       "}\n",
       "\n",
       ".xr-section-summary,\n",
       ".xr-section-inline-details {\n",
       "  padding-top: 4px;\n",
       "  padding-bottom: 4px;\n",
       "}\n",
       "\n",
       ".xr-section-inline-details {\n",
       "  grid-column: 2 / -1;\n",
       "}\n",
       "\n",
       ".xr-section-details {\n",
       "  display: none;\n",
       "  grid-column: 1 / -1;\n",
       "  margin-bottom: 5px;\n",
       "}\n",
       "\n",
       ".xr-section-summary-in:checked ~ .xr-section-details {\n",
       "  display: contents;\n",
       "}\n",
       "\n",
       ".xr-array-wrap {\n",
       "  grid-column: 1 / -1;\n",
       "  display: grid;\n",
       "  grid-template-columns: 20px auto;\n",
       "}\n",
       "\n",
       ".xr-array-wrap > label {\n",
       "  grid-column: 1;\n",
       "  vertical-align: top;\n",
       "}\n",
       "\n",
       ".xr-preview {\n",
       "  color: var(--xr-font-color3);\n",
       "}\n",
       "\n",
       ".xr-array-preview,\n",
       ".xr-array-data {\n",
       "  padding: 0 5px !important;\n",
       "  grid-column: 2;\n",
       "}\n",
       "\n",
       ".xr-array-data,\n",
       ".xr-array-in:checked ~ .xr-array-preview {\n",
       "  display: none;\n",
       "}\n",
       "\n",
       ".xr-array-in:checked ~ .xr-array-data,\n",
       ".xr-array-preview {\n",
       "  display: inline-block;\n",
       "}\n",
       "\n",
       ".xr-dim-list {\n",
       "  display: inline-block !important;\n",
       "  list-style: none;\n",
       "  padding: 0 !important;\n",
       "  margin: 0;\n",
       "}\n",
       "\n",
       ".xr-dim-list li {\n",
       "  display: inline-block;\n",
       "  padding: 0;\n",
       "  margin: 0;\n",
       "}\n",
       "\n",
       ".xr-dim-list:before {\n",
       "  content: \"(\";\n",
       "}\n",
       "\n",
       ".xr-dim-list:after {\n",
       "  content: \")\";\n",
       "}\n",
       "\n",
       ".xr-dim-list li:not(:last-child):after {\n",
       "  content: \",\";\n",
       "  padding-right: 5px;\n",
       "}\n",
       "\n",
       ".xr-has-index {\n",
       "  font-weight: bold;\n",
       "}\n",
       "\n",
       ".xr-var-list,\n",
       ".xr-var-item {\n",
       "  display: contents;\n",
       "}\n",
       "\n",
       ".xr-var-item > div,\n",
       ".xr-var-item label,\n",
       ".xr-var-item > .xr-var-name span {\n",
       "  background-color: var(--xr-background-color-row-even);\n",
       "  margin-bottom: 0;\n",
       "}\n",
       "\n",
       ".xr-var-item > .xr-var-name:hover span {\n",
       "  padding-right: 5px;\n",
       "}\n",
       "\n",
       ".xr-var-list > li:nth-child(odd) > div,\n",
       ".xr-var-list > li:nth-child(odd) > label,\n",
       ".xr-var-list > li:nth-child(odd) > .xr-var-name span {\n",
       "  background-color: var(--xr-background-color-row-odd);\n",
       "}\n",
       "\n",
       ".xr-var-name {\n",
       "  grid-column: 1;\n",
       "}\n",
       "\n",
       ".xr-var-dims {\n",
       "  grid-column: 2;\n",
       "}\n",
       "\n",
       ".xr-var-dtype {\n",
       "  grid-column: 3;\n",
       "  text-align: right;\n",
       "  color: var(--xr-font-color2);\n",
       "}\n",
       "\n",
       ".xr-var-preview {\n",
       "  grid-column: 4;\n",
       "}\n",
       "\n",
       ".xr-index-preview {\n",
       "  grid-column: 2 / 5;\n",
       "  color: var(--xr-font-color2);\n",
       "}\n",
       "\n",
       ".xr-var-name,\n",
       ".xr-var-dims,\n",
       ".xr-var-dtype,\n",
       ".xr-preview,\n",
       ".xr-attrs dt {\n",
       "  white-space: nowrap;\n",
       "  overflow: hidden;\n",
       "  text-overflow: ellipsis;\n",
       "  padding-right: 10px;\n",
       "}\n",
       "\n",
       ".xr-var-name:hover,\n",
       ".xr-var-dims:hover,\n",
       ".xr-var-dtype:hover,\n",
       ".xr-attrs dt:hover {\n",
       "  overflow: visible;\n",
       "  width: auto;\n",
       "  z-index: 1;\n",
       "}\n",
       "\n",
       ".xr-var-attrs,\n",
       ".xr-var-data,\n",
       ".xr-index-data {\n",
       "  display: none;\n",
       "  background-color: var(--xr-background-color) !important;\n",
       "  padding-bottom: 5px !important;\n",
       "}\n",
       "\n",
       ".xr-var-attrs-in:checked ~ .xr-var-attrs,\n",
       ".xr-var-data-in:checked ~ .xr-var-data,\n",
       ".xr-index-data-in:checked ~ .xr-index-data {\n",
       "  display: block;\n",
       "}\n",
       "\n",
       ".xr-var-data > table {\n",
       "  float: right;\n",
       "}\n",
       "\n",
       ".xr-var-name span,\n",
       ".xr-var-data,\n",
       ".xr-index-name div,\n",
       ".xr-index-data,\n",
       ".xr-attrs {\n",
       "  padding-left: 25px !important;\n",
       "}\n",
       "\n",
       ".xr-attrs,\n",
       ".xr-var-attrs,\n",
       ".xr-var-data,\n",
       ".xr-index-data {\n",
       "  grid-column: 1 / -1;\n",
       "}\n",
       "\n",
       "dl.xr-attrs {\n",
       "  padding: 0;\n",
       "  margin: 0;\n",
       "  display: grid;\n",
       "  grid-template-columns: 125px auto;\n",
       "}\n",
       "\n",
       ".xr-attrs dt,\n",
       ".xr-attrs dd {\n",
       "  padding: 0;\n",
       "  margin: 0;\n",
       "  float: left;\n",
       "  padding-right: 10px;\n",
       "  width: auto;\n",
       "}\n",
       "\n",
       ".xr-attrs dt {\n",
       "  font-weight: normal;\n",
       "  grid-column: 1;\n",
       "}\n",
       "\n",
       ".xr-attrs dt:hover span {\n",
       "  display: inline-block;\n",
       "  background: var(--xr-background-color);\n",
       "  padding-right: 10px;\n",
       "}\n",
       "\n",
       ".xr-attrs dd {\n",
       "  grid-column: 2;\n",
       "  white-space: pre-wrap;\n",
       "  word-break: break-all;\n",
       "}\n",
       "\n",
       ".xr-icon-database,\n",
       ".xr-icon-file-text2,\n",
       ".xr-no-icon {\n",
       "  display: inline-block;\n",
       "  vertical-align: middle;\n",
       "  width: 1em;\n",
       "  height: 1.5em !important;\n",
       "  stroke-width: 0;\n",
       "  stroke: currentColor;\n",
       "  fill: currentColor;\n",
       "}\n",
       "</style><pre class='xr-text-repr-fallback'>&lt;xarray.DataArray &#x27;pelagic_layer_depth&#x27; (time: 1095, latitude: 1, longitude: 1)&gt; Size: 9kB\n",
       "&lt;Quantity([[[113.25850446]]\n",
       "\n",
       " [[113.67641789]]\n",
       "\n",
       " [[113.37776143]]\n",
       "\n",
       " ...\n",
       "\n",
       " [[114.06464559]]\n",
       "\n",
       " [[112.9625467 ]]\n",
       "\n",
       " [[114.74266259]]], &#x27;meter&#x27;)&gt;\n",
       "Coordinates:\n",
       "    depth      int64 8B 0\n",
       "  * latitude   (latitude) float64 8B 22.75\n",
       "  * longitude  (longitude) int64 8B -158\n",
       "  * time       (time) datetime64[ns] 9kB 2005-01-02 2005-01-03 ... 2008-01-01\n",
       "Attributes:\n",
       "    standard_name:  sea_water_pelagic_layer_bottom_depth</pre><div class='xr-wrap' style='display:none'><div class='xr-header'><div class='xr-obj-type'>xarray.DataArray</div><div class='xr-array-name'>'pelagic_layer_depth'</div><ul class='xr-dim-list'><li><span class='xr-has-index'>time</span>: 1095</li><li><span class='xr-has-index'>latitude</span>: 1</li><li><span class='xr-has-index'>longitude</span>: 1</li></ul></div><ul class='xr-sections'><li class='xr-section-item'><div class='xr-array-wrap'><input id='section-ae891d8e-29e6-4527-9d2e-dfd7c4b9391c' class='xr-array-in' type='checkbox' checked><label for='section-ae891d8e-29e6-4527-9d2e-dfd7c4b9391c' title='Show/hide data repr'><svg class='icon xr-icon-database'><use xlink:href='#icon-database'></use></svg></label><div class='xr-array-preview xr-preview'><span>[m] 113.3 113.7 113.4 114.1 114.1 ... 111.4 111.3 114.1 113.0 114.7</span></div><div class='xr-array-data'><table><tbody><tr><th>Magnitude</th><td style='text-align:left;'><pre>[[[113.25850445781492]] [[113.67641789059907]] [[113.3777614275639]] ... [[114.06464559061169]] [[112.96254669775898]] [[114.74266258672766]]]</pre></td></tr><tr><th>Units</th><td style='text-align:left;'>meter</td></tr></tbody></table></div></div></li><li class='xr-section-item'><input id='section-fb4fde3b-29d7-45e9-a5e1-60a85c4997f2' class='xr-section-summary-in' type='checkbox'  checked><label for='section-fb4fde3b-29d7-45e9-a5e1-60a85c4997f2' class='xr-section-summary' >Coordinates: <span>(4)</span></label><div class='xr-section-inline-details'></div><div class='xr-section-details'><ul class='xr-var-list'><li class='xr-var-item'><div class='xr-var-name'><span>depth</span></div><div class='xr-var-dims'>()</div><div class='xr-var-dtype'>int64</div><div class='xr-var-preview xr-preview'>0</div><input id='attrs-e53b983f-ec09-49f5-925a-b7547baf87b6' class='xr-var-attrs-in' type='checkbox' ><label for='attrs-e53b983f-ec09-49f5-925a-b7547baf87b6' title='Show/Hide attributes'><svg class='icon xr-icon-file-text2'><use xlink:href='#icon-file-text2'></use></svg></label><input id='data-ec036171-c725-4460-b436-089715cc8430' class='xr-var-data-in' type='checkbox'><label for='data-ec036171-c725-4460-b436-089715cc8430' title='Show/Hide data repr'><svg class='icon xr-icon-database'><use xlink:href='#icon-database'></use></svg></label><div class='xr-var-attrs'><dl class='xr-attrs'><dt><span>axis :</span></dt><dd>Z</dd><dt><span>desc :</span></dt><dd>The layer depth according to Seapodym definition</dd><dt><span>flag_meanings :</span></dt><dd>epipelagic, upper-mesopelagic, lower-mesopelagic</dd><dt><span>flag_values :</span></dt><dd>[0 1 2]</dd><dt><span>long_name :</span></dt><dd>Layer depth</dd><dt><span>standard_name :</span></dt><dd>depth</dd></dl></div><div class='xr-var-data'><pre>array(0)</pre></div></li><li class='xr-var-item'><div class='xr-var-name'><span class='xr-has-index'>latitude</span></div><div class='xr-var-dims'>(latitude)</div><div class='xr-var-dtype'>float64</div><div class='xr-var-preview xr-preview'>22.75</div><input id='attrs-22a85b63-22b6-4cde-a7d4-b87f89ba889c' class='xr-var-attrs-in' type='checkbox' ><label for='attrs-22a85b63-22b6-4cde-a7d4-b87f89ba889c' title='Show/Hide attributes'><svg class='icon xr-icon-file-text2'><use xlink:href='#icon-file-text2'></use></svg></label><input id='data-0ff0e821-21e9-4d46-bbe1-79ec1fbc0204' class='xr-var-data-in' type='checkbox'><label for='data-0ff0e821-21e9-4d46-bbe1-79ec1fbc0204' title='Show/Hide data repr'><svg class='icon xr-icon-database'><use xlink:href='#icon-database'></use></svg></label><div class='xr-var-attrs'><dl class='xr-attrs'><dt><span>axis :</span></dt><dd>Y</dd><dt><span>standard_name :</span></dt><dd>latitude</dd><dt><span>units :</span></dt><dd>degrees_north</dd></dl></div><div class='xr-var-data'><pre>array([22.75])</pre></div></li><li class='xr-var-item'><div class='xr-var-name'><span class='xr-has-index'>longitude</span></div><div class='xr-var-dims'>(longitude)</div><div class='xr-var-dtype'>int64</div><div class='xr-var-preview xr-preview'>-158</div><input id='attrs-d9d7fbf6-c623-4e58-add3-0381a11f1c68' class='xr-var-attrs-in' type='checkbox' ><label for='attrs-d9d7fbf6-c623-4e58-add3-0381a11f1c68' title='Show/Hide attributes'><svg class='icon xr-icon-file-text2'><use xlink:href='#icon-file-text2'></use></svg></label><input id='data-cdee6fb1-0444-40bc-b7de-54fc578976e6' class='xr-var-data-in' type='checkbox'><label for='data-cdee6fb1-0444-40bc-b7de-54fc578976e6' title='Show/Hide data repr'><svg class='icon xr-icon-database'><use xlink:href='#icon-database'></use></svg></label><div class='xr-var-attrs'><dl class='xr-attrs'><dt><span>axis :</span></dt><dd>X</dd><dt><span>standard_name :</span></dt><dd>longitude</dd><dt><span>units :</span></dt><dd>degrees_east</dd></dl></div><div class='xr-var-data'><pre>array([-158])</pre></div></li><li class='xr-var-item'><div class='xr-var-name'><span class='xr-has-index'>time</span></div><div class='xr-var-dims'>(time)</div><div class='xr-var-dtype'>datetime64[ns]</div><div class='xr-var-preview xr-preview'>2005-01-02 ... 2008-01-01</div><input id='attrs-0d4ea1cb-cb67-43c4-8400-99a54a687ac6' class='xr-var-attrs-in' type='checkbox' ><label for='attrs-0d4ea1cb-cb67-43c4-8400-99a54a687ac6' title='Show/Hide attributes'><svg class='icon xr-icon-file-text2'><use xlink:href='#icon-file-text2'></use></svg></label><input id='data-0797758c-4171-4aa8-87e4-06adc03efac1' class='xr-var-data-in' type='checkbox'><label for='data-0797758c-4171-4aa8-87e4-06adc03efac1' title='Show/Hide data repr'><svg class='icon xr-icon-database'><use xlink:href='#icon-database'></use></svg></label><div class='xr-var-attrs'><dl class='xr-attrs'><dt><span>axis :</span></dt><dd>T</dd><dt><span>long_name :</span></dt><dd>Time</dd><dt><span>standard_name :</span></dt><dd>time</dd><dt><span>unit_long :</span></dt><dd>Seconds Since 1970-01-01</dd></dl></div><div class='xr-var-data'><pre>array([&#x27;2005-01-02T00:00:00.000000000&#x27;, &#x27;2005-01-03T00:00:00.000000000&#x27;,\n",
       "       &#x27;2005-01-04T00:00:00.000000000&#x27;, ..., &#x27;2007-12-30T00:00:00.000000000&#x27;,\n",
       "       &#x27;2007-12-31T00:00:00.000000000&#x27;, &#x27;2008-01-01T00:00:00.000000000&#x27;],\n",
       "      shape=(1095,), dtype=&#x27;datetime64[ns]&#x27;)</pre></div></li></ul></div></li><li class='xr-section-item'><input id='section-79a3cca5-3659-46a8-bc01-1ebcfab60da0' class='xr-section-summary-in' type='checkbox'  ><label for='section-79a3cca5-3659-46a8-bc01-1ebcfab60da0' class='xr-section-summary' >Indexes: <span>(3)</span></label><div class='xr-section-inline-details'></div><div class='xr-section-details'><ul class='xr-var-list'><li class='xr-var-item'><div class='xr-index-name'><div>latitude</div></div><div class='xr-index-preview'>PandasIndex</div><input type='checkbox' disabled/><label></label><input id='index-21c392c8-b2e3-4e70-aa1f-7c3201d45de7' class='xr-index-data-in' type='checkbox'/><label for='index-21c392c8-b2e3-4e70-aa1f-7c3201d45de7' title='Show/Hide index repr'><svg class='icon xr-icon-database'><use xlink:href='#icon-database'></use></svg></label><div class='xr-index-data'><pre>PandasIndex(Index([22.75], dtype=&#x27;float64&#x27;, name=&#x27;latitude&#x27;))</pre></div></li><li class='xr-var-item'><div class='xr-index-name'><div>longitude</div></div><div class='xr-index-preview'>PandasIndex</div><input type='checkbox' disabled/><label></label><input id='index-f6a01d99-93de-4978-bbf3-102cc8dc04c2' class='xr-index-data-in' type='checkbox'/><label for='index-f6a01d99-93de-4978-bbf3-102cc8dc04c2' title='Show/Hide index repr'><svg class='icon xr-icon-database'><use xlink:href='#icon-database'></use></svg></label><div class='xr-index-data'><pre>PandasIndex(Index([-158], dtype=&#x27;int64&#x27;, name=&#x27;longitude&#x27;))</pre></div></li><li class='xr-var-item'><div class='xr-index-name'><div>time</div></div><div class='xr-index-preview'>PandasIndex</div><input type='checkbox' disabled/><label></label><input id='index-30f42723-2986-41f1-87dc-e522a8dde86e' class='xr-index-data-in' type='checkbox'/><label for='index-30f42723-2986-41f1-87dc-e522a8dde86e' title='Show/Hide index repr'><svg class='icon xr-icon-database'><use xlink:href='#icon-database'></use></svg></label><div class='xr-index-data'><pre>PandasIndex(DatetimeIndex([&#x27;2005-01-02&#x27;, &#x27;2005-01-03&#x27;, &#x27;2005-01-04&#x27;, &#x27;2005-01-05&#x27;,\n",
       "               &#x27;2005-01-06&#x27;, &#x27;2005-01-07&#x27;, &#x27;2005-01-08&#x27;, &#x27;2005-01-09&#x27;,\n",
       "               &#x27;2005-01-10&#x27;, &#x27;2005-01-11&#x27;,\n",
       "               ...\n",
       "               &#x27;2007-12-23&#x27;, &#x27;2007-12-24&#x27;, &#x27;2007-12-25&#x27;, &#x27;2007-12-26&#x27;,\n",
       "               &#x27;2007-12-27&#x27;, &#x27;2007-12-28&#x27;, &#x27;2007-12-29&#x27;, &#x27;2007-12-30&#x27;,\n",
       "               &#x27;2007-12-31&#x27;, &#x27;2008-01-01&#x27;],\n",
       "              dtype=&#x27;datetime64[ns]&#x27;, name=&#x27;time&#x27;, length=1095, freq=&#x27;D&#x27;))</pre></div></li></ul></div></li><li class='xr-section-item'><input id='section-f6de91eb-668f-4a94-938e-bb144ad00c0c' class='xr-section-summary-in' type='checkbox'  checked><label for='section-f6de91eb-668f-4a94-938e-bb144ad00c0c' class='xr-section-summary' >Attributes: <span>(1)</span></label><div class='xr-section-inline-details'></div><div class='xr-section-details'><dl class='xr-attrs'><dt><span>standard_name :</span></dt><dd>sea_water_pelagic_layer_bottom_depth</dd></dl></div></li></ul></div></div>"
      ],
      "text/plain": [
       "<xarray.DataArray 'pelagic_layer_depth' (time: 1095, latitude: 1, longitude: 1)> Size: 9kB\n",
       "<Quantity([[[113.25850446]]\n",
       "\n",
       " [[113.67641789]]\n",
       "\n",
       " [[113.37776143]]\n",
       "\n",
       " ...\n",
       "\n",
       " [[114.06464559]]\n",
       "\n",
       " [[112.9625467 ]]\n",
       "\n",
       " [[114.74266259]]], 'meter')>\n",
       "Coordinates:\n",
       "    depth      int64 8B 0\n",
       "  * latitude   (latitude) float64 8B 22.75\n",
       "  * longitude  (longitude) int64 8B -158\n",
       "  * time       (time) datetime64[ns] 9kB 2005-01-02 2005-01-03 ... 2008-01-01\n",
       "Attributes:\n",
       "    standard_name:  sea_water_pelagic_layer_bottom_depth"
      ]
     },
     "execution_count": 5,
     "metadata": {},
     "output_type": "execute_result"
    }
   ],
   "source": [
    "epi_layer_depth = forcing[\"pelagic_layer_depth\"].sel(depth=0).load()\n",
    "epi_layer_depth = epi_layer_depth.resample(time=\"1D\").mean()\n",
    "epi_layer_depth.attrs[\"units\"] = \"meter\"\n",
    "epi_layer_depth = epi_layer_depth.pint.quantify()\n",
    "epi_layer_depth"
   ]
  },
  {
   "cell_type": "markdown",
   "metadata": {},
   "source": [
    "<!-- ## Observed NPP -->\n"
   ]
  },
  {
   "cell_type": "code",
   "execution_count": 6,
   "metadata": {},
   "outputs": [
    {
     "data": {
      "text/html": [
       "<div><svg style=\"position: absolute; width: 0; height: 0; overflow: hidden\">\n",
       "<defs>\n",
       "<symbol id=\"icon-database\" viewBox=\"0 0 32 32\">\n",
       "<path d=\"M16 0c-8.837 0-16 2.239-16 5v4c0 2.761 7.163 5 16 5s16-2.239 16-5v-4c0-2.761-7.163-5-16-5z\"></path>\n",
       "<path d=\"M16 17c-8.837 0-16-2.239-16-5v6c0 2.761 7.163 5 16 5s16-2.239 16-5v-6c0 2.761-7.163 5-16 5z\"></path>\n",
       "<path d=\"M16 26c-8.837 0-16-2.239-16-5v6c0 2.761 7.163 5 16 5s16-2.239 16-5v-6c0 2.761-7.163 5-16 5z\"></path>\n",
       "</symbol>\n",
       "<symbol id=\"icon-file-text2\" viewBox=\"0 0 32 32\">\n",
       "<path d=\"M28.681 7.159c-0.694-0.947-1.662-2.053-2.724-3.116s-2.169-2.030-3.116-2.724c-1.612-1.182-2.393-1.319-2.841-1.319h-15.5c-1.378 0-2.5 1.121-2.5 2.5v27c0 1.378 1.122 2.5 2.5 2.5h23c1.378 0 2.5-1.122 2.5-2.5v-19.5c0-0.448-0.137-1.23-1.319-2.841zM24.543 5.457c0.959 0.959 1.712 1.825 2.268 2.543h-4.811v-4.811c0.718 0.556 1.584 1.309 2.543 2.268zM28 29.5c0 0.271-0.229 0.5-0.5 0.5h-23c-0.271 0-0.5-0.229-0.5-0.5v-27c0-0.271 0.229-0.5 0.5-0.5 0 0 15.499-0 15.5 0v7c0 0.552 0.448 1 1 1h7v19.5z\"></path>\n",
       "<path d=\"M23 26h-14c-0.552 0-1-0.448-1-1s0.448-1 1-1h14c0.552 0 1 0.448 1 1s-0.448 1-1 1z\"></path>\n",
       "<path d=\"M23 22h-14c-0.552 0-1-0.448-1-1s0.448-1 1-1h14c0.552 0 1 0.448 1 1s-0.448 1-1 1z\"></path>\n",
       "<path d=\"M23 18h-14c-0.552 0-1-0.448-1-1s0.448-1 1-1h14c0.552 0 1 0.448 1 1s-0.448 1-1 1z\"></path>\n",
       "</symbol>\n",
       "</defs>\n",
       "</svg>\n",
       "<style>/* CSS stylesheet for displaying xarray objects in jupyterlab.\n",
       " *\n",
       " */\n",
       "\n",
       ":root {\n",
       "  --xr-font-color0: var(--jp-content-font-color0, rgba(0, 0, 0, 1));\n",
       "  --xr-font-color2: var(--jp-content-font-color2, rgba(0, 0, 0, 0.54));\n",
       "  --xr-font-color3: var(--jp-content-font-color3, rgba(0, 0, 0, 0.38));\n",
       "  --xr-border-color: var(--jp-border-color2, #e0e0e0);\n",
       "  --xr-disabled-color: var(--jp-layout-color3, #bdbdbd);\n",
       "  --xr-background-color: var(--jp-layout-color0, white);\n",
       "  --xr-background-color-row-even: var(--jp-layout-color1, white);\n",
       "  --xr-background-color-row-odd: var(--jp-layout-color2, #eeeeee);\n",
       "}\n",
       "\n",
       "html[theme=\"dark\"],\n",
       "html[data-theme=\"dark\"],\n",
       "body[data-theme=\"dark\"],\n",
       "body.vscode-dark {\n",
       "  --xr-font-color0: rgba(255, 255, 255, 1);\n",
       "  --xr-font-color2: rgba(255, 255, 255, 0.54);\n",
       "  --xr-font-color3: rgba(255, 255, 255, 0.38);\n",
       "  --xr-border-color: #1f1f1f;\n",
       "  --xr-disabled-color: #515151;\n",
       "  --xr-background-color: #111111;\n",
       "  --xr-background-color-row-even: #111111;\n",
       "  --xr-background-color-row-odd: #313131;\n",
       "}\n",
       "\n",
       ".xr-wrap {\n",
       "  display: block !important;\n",
       "  min-width: 300px;\n",
       "  max-width: 700px;\n",
       "}\n",
       "\n",
       ".xr-text-repr-fallback {\n",
       "  /* fallback to plain text repr when CSS is not injected (untrusted notebook) */\n",
       "  display: none;\n",
       "}\n",
       "\n",
       ".xr-header {\n",
       "  padding-top: 6px;\n",
       "  padding-bottom: 6px;\n",
       "  margin-bottom: 4px;\n",
       "  border-bottom: solid 1px var(--xr-border-color);\n",
       "}\n",
       "\n",
       ".xr-header > div,\n",
       ".xr-header > ul {\n",
       "  display: inline;\n",
       "  margin-top: 0;\n",
       "  margin-bottom: 0;\n",
       "}\n",
       "\n",
       ".xr-obj-type,\n",
       ".xr-array-name {\n",
       "  margin-left: 2px;\n",
       "  margin-right: 10px;\n",
       "}\n",
       "\n",
       ".xr-obj-type {\n",
       "  color: var(--xr-font-color2);\n",
       "}\n",
       "\n",
       ".xr-sections {\n",
       "  padding-left: 0 !important;\n",
       "  display: grid;\n",
       "  grid-template-columns: 150px auto auto 1fr 0 20px 0 20px;\n",
       "}\n",
       "\n",
       ".xr-section-item {\n",
       "  display: contents;\n",
       "}\n",
       "\n",
       ".xr-section-item input {\n",
       "  display: inline-block;\n",
       "  opacity: 0;\n",
       "  height: 0;\n",
       "}\n",
       "\n",
       ".xr-section-item input + label {\n",
       "  color: var(--xr-disabled-color);\n",
       "}\n",
       "\n",
       ".xr-section-item input:enabled + label {\n",
       "  cursor: pointer;\n",
       "  color: var(--xr-font-color2);\n",
       "}\n",
       "\n",
       ".xr-section-item input:focus + label {\n",
       "  border: 2px solid var(--xr-font-color0);\n",
       "}\n",
       "\n",
       ".xr-section-item input:enabled + label:hover {\n",
       "  color: var(--xr-font-color0);\n",
       "}\n",
       "\n",
       ".xr-section-summary {\n",
       "  grid-column: 1;\n",
       "  color: var(--xr-font-color2);\n",
       "  font-weight: 500;\n",
       "}\n",
       "\n",
       ".xr-section-summary > span {\n",
       "  display: inline-block;\n",
       "  padding-left: 0.5em;\n",
       "}\n",
       "\n",
       ".xr-section-summary-in:disabled + label {\n",
       "  color: var(--xr-font-color2);\n",
       "}\n",
       "\n",
       ".xr-section-summary-in + label:before {\n",
       "  display: inline-block;\n",
       "  content: \"►\";\n",
       "  font-size: 11px;\n",
       "  width: 15px;\n",
       "  text-align: center;\n",
       "}\n",
       "\n",
       ".xr-section-summary-in:disabled + label:before {\n",
       "  color: var(--xr-disabled-color);\n",
       "}\n",
       "\n",
       ".xr-section-summary-in:checked + label:before {\n",
       "  content: \"▼\";\n",
       "}\n",
       "\n",
       ".xr-section-summary-in:checked + label > span {\n",
       "  display: none;\n",
       "}\n",
       "\n",
       ".xr-section-summary,\n",
       ".xr-section-inline-details {\n",
       "  padding-top: 4px;\n",
       "  padding-bottom: 4px;\n",
       "}\n",
       "\n",
       ".xr-section-inline-details {\n",
       "  grid-column: 2 / -1;\n",
       "}\n",
       "\n",
       ".xr-section-details {\n",
       "  display: none;\n",
       "  grid-column: 1 / -1;\n",
       "  margin-bottom: 5px;\n",
       "}\n",
       "\n",
       ".xr-section-summary-in:checked ~ .xr-section-details {\n",
       "  display: contents;\n",
       "}\n",
       "\n",
       ".xr-array-wrap {\n",
       "  grid-column: 1 / -1;\n",
       "  display: grid;\n",
       "  grid-template-columns: 20px auto;\n",
       "}\n",
       "\n",
       ".xr-array-wrap > label {\n",
       "  grid-column: 1;\n",
       "  vertical-align: top;\n",
       "}\n",
       "\n",
       ".xr-preview {\n",
       "  color: var(--xr-font-color3);\n",
       "}\n",
       "\n",
       ".xr-array-preview,\n",
       ".xr-array-data {\n",
       "  padding: 0 5px !important;\n",
       "  grid-column: 2;\n",
       "}\n",
       "\n",
       ".xr-array-data,\n",
       ".xr-array-in:checked ~ .xr-array-preview {\n",
       "  display: none;\n",
       "}\n",
       "\n",
       ".xr-array-in:checked ~ .xr-array-data,\n",
       ".xr-array-preview {\n",
       "  display: inline-block;\n",
       "}\n",
       "\n",
       ".xr-dim-list {\n",
       "  display: inline-block !important;\n",
       "  list-style: none;\n",
       "  padding: 0 !important;\n",
       "  margin: 0;\n",
       "}\n",
       "\n",
       ".xr-dim-list li {\n",
       "  display: inline-block;\n",
       "  padding: 0;\n",
       "  margin: 0;\n",
       "}\n",
       "\n",
       ".xr-dim-list:before {\n",
       "  content: \"(\";\n",
       "}\n",
       "\n",
       ".xr-dim-list:after {\n",
       "  content: \")\";\n",
       "}\n",
       "\n",
       ".xr-dim-list li:not(:last-child):after {\n",
       "  content: \",\";\n",
       "  padding-right: 5px;\n",
       "}\n",
       "\n",
       ".xr-has-index {\n",
       "  font-weight: bold;\n",
       "}\n",
       "\n",
       ".xr-var-list,\n",
       ".xr-var-item {\n",
       "  display: contents;\n",
       "}\n",
       "\n",
       ".xr-var-item > div,\n",
       ".xr-var-item label,\n",
       ".xr-var-item > .xr-var-name span {\n",
       "  background-color: var(--xr-background-color-row-even);\n",
       "  margin-bottom: 0;\n",
       "}\n",
       "\n",
       ".xr-var-item > .xr-var-name:hover span {\n",
       "  padding-right: 5px;\n",
       "}\n",
       "\n",
       ".xr-var-list > li:nth-child(odd) > div,\n",
       ".xr-var-list > li:nth-child(odd) > label,\n",
       ".xr-var-list > li:nth-child(odd) > .xr-var-name span {\n",
       "  background-color: var(--xr-background-color-row-odd);\n",
       "}\n",
       "\n",
       ".xr-var-name {\n",
       "  grid-column: 1;\n",
       "}\n",
       "\n",
       ".xr-var-dims {\n",
       "  grid-column: 2;\n",
       "}\n",
       "\n",
       ".xr-var-dtype {\n",
       "  grid-column: 3;\n",
       "  text-align: right;\n",
       "  color: var(--xr-font-color2);\n",
       "}\n",
       "\n",
       ".xr-var-preview {\n",
       "  grid-column: 4;\n",
       "}\n",
       "\n",
       ".xr-index-preview {\n",
       "  grid-column: 2 / 5;\n",
       "  color: var(--xr-font-color2);\n",
       "}\n",
       "\n",
       ".xr-var-name,\n",
       ".xr-var-dims,\n",
       ".xr-var-dtype,\n",
       ".xr-preview,\n",
       ".xr-attrs dt {\n",
       "  white-space: nowrap;\n",
       "  overflow: hidden;\n",
       "  text-overflow: ellipsis;\n",
       "  padding-right: 10px;\n",
       "}\n",
       "\n",
       ".xr-var-name:hover,\n",
       ".xr-var-dims:hover,\n",
       ".xr-var-dtype:hover,\n",
       ".xr-attrs dt:hover {\n",
       "  overflow: visible;\n",
       "  width: auto;\n",
       "  z-index: 1;\n",
       "}\n",
       "\n",
       ".xr-var-attrs,\n",
       ".xr-var-data,\n",
       ".xr-index-data {\n",
       "  display: none;\n",
       "  background-color: var(--xr-background-color) !important;\n",
       "  padding-bottom: 5px !important;\n",
       "}\n",
       "\n",
       ".xr-var-attrs-in:checked ~ .xr-var-attrs,\n",
       ".xr-var-data-in:checked ~ .xr-var-data,\n",
       ".xr-index-data-in:checked ~ .xr-index-data {\n",
       "  display: block;\n",
       "}\n",
       "\n",
       ".xr-var-data > table {\n",
       "  float: right;\n",
       "}\n",
       "\n",
       ".xr-var-name span,\n",
       ".xr-var-data,\n",
       ".xr-index-name div,\n",
       ".xr-index-data,\n",
       ".xr-attrs {\n",
       "  padding-left: 25px !important;\n",
       "}\n",
       "\n",
       ".xr-attrs,\n",
       ".xr-var-attrs,\n",
       ".xr-var-data,\n",
       ".xr-index-data {\n",
       "  grid-column: 1 / -1;\n",
       "}\n",
       "\n",
       "dl.xr-attrs {\n",
       "  padding: 0;\n",
       "  margin: 0;\n",
       "  display: grid;\n",
       "  grid-template-columns: 125px auto;\n",
       "}\n",
       "\n",
       ".xr-attrs dt,\n",
       ".xr-attrs dd {\n",
       "  padding: 0;\n",
       "  margin: 0;\n",
       "  float: left;\n",
       "  padding-right: 10px;\n",
       "  width: auto;\n",
       "}\n",
       "\n",
       ".xr-attrs dt {\n",
       "  font-weight: normal;\n",
       "  grid-column: 1;\n",
       "}\n",
       "\n",
       ".xr-attrs dt:hover span {\n",
       "  display: inline-block;\n",
       "  background: var(--xr-background-color);\n",
       "  padding-right: 10px;\n",
       "}\n",
       "\n",
       ".xr-attrs dd {\n",
       "  grid-column: 2;\n",
       "  white-space: pre-wrap;\n",
       "  word-break: break-all;\n",
       "}\n",
       "\n",
       ".xr-icon-database,\n",
       ".xr-icon-file-text2,\n",
       ".xr-no-icon {\n",
       "  display: inline-block;\n",
       "  vertical-align: middle;\n",
       "  width: 1em;\n",
       "  height: 1.5em !important;\n",
       "  stroke-width: 0;\n",
       "  stroke: currentColor;\n",
       "  fill: currentColor;\n",
       "}\n",
       "</style><pre class='xr-text-repr-fallback'>&lt;xarray.Dataset&gt; Size: 26kB\n",
       "Dimensions:          (time: 1065, latitude: 1, longitude: 1)\n",
       "Coordinates:\n",
       "  * latitude         (latitude) float64 8B 22.75\n",
       "  * longitude        (longitude) int64 8B -158\n",
       "  * time             (time) datetime64[ns] 9kB 2005-01-31 ... 2007-12-31\n",
       "Data variables:\n",
       "    l12              (time, latitude, longitude) float64 9kB 273.4 ... 259.7\n",
       "    l12_lowess_0.05  (time, latitude, longitude) float64 9kB 274.7 ... 258.9\n",
       "Attributes:\n",
       "    desc:     L12 multiplied by ZEU (from CMEMS).\n",
       "    type:     climatology</pre><div class='xr-wrap' style='display:none'><div class='xr-header'><div class='xr-obj-type'>xarray.Dataset</div></div><ul class='xr-sections'><li class='xr-section-item'><input id='section-e84ee32f-ae9c-48ac-8983-3c79f23b2ce9' class='xr-section-summary-in' type='checkbox' disabled ><label for='section-e84ee32f-ae9c-48ac-8983-3c79f23b2ce9' class='xr-section-summary'  title='Expand/collapse section'>Dimensions:</label><div class='xr-section-inline-details'><ul class='xr-dim-list'><li><span class='xr-has-index'>time</span>: 1065</li><li><span class='xr-has-index'>latitude</span>: 1</li><li><span class='xr-has-index'>longitude</span>: 1</li></ul></div><div class='xr-section-details'></div></li><li class='xr-section-item'><input id='section-da064993-5cb5-4cc2-9a7b-e025a32ebfb6' class='xr-section-summary-in' type='checkbox'  checked><label for='section-da064993-5cb5-4cc2-9a7b-e025a32ebfb6' class='xr-section-summary' >Coordinates: <span>(3)</span></label><div class='xr-section-inline-details'></div><div class='xr-section-details'><ul class='xr-var-list'><li class='xr-var-item'><div class='xr-var-name'><span class='xr-has-index'>latitude</span></div><div class='xr-var-dims'>(latitude)</div><div class='xr-var-dtype'>float64</div><div class='xr-var-preview xr-preview'>22.75</div><input id='attrs-e04da660-ad9b-4e72-9b8e-820f8613da62' class='xr-var-attrs-in' type='checkbox' ><label for='attrs-e04da660-ad9b-4e72-9b8e-820f8613da62' title='Show/Hide attributes'><svg class='icon xr-icon-file-text2'><use xlink:href='#icon-file-text2'></use></svg></label><input id='data-e7a09ad7-88a3-4170-8bb3-f219bb1daf46' class='xr-var-data-in' type='checkbox'><label for='data-e7a09ad7-88a3-4170-8bb3-f219bb1daf46' title='Show/Hide data repr'><svg class='icon xr-icon-database'><use xlink:href='#icon-database'></use></svg></label><div class='xr-var-attrs'><dl class='xr-attrs'><dt><span>axis :</span></dt><dd>Y</dd><dt><span>standard_name :</span></dt><dd>latitude</dd><dt><span>units :</span></dt><dd>degrees_north</dd></dl></div><div class='xr-var-data'><pre>array([22.75])</pre></div></li><li class='xr-var-item'><div class='xr-var-name'><span class='xr-has-index'>longitude</span></div><div class='xr-var-dims'>(longitude)</div><div class='xr-var-dtype'>int64</div><div class='xr-var-preview xr-preview'>-158</div><input id='attrs-a6aa924b-2da4-4ec4-9a31-c609beb32506' class='xr-var-attrs-in' type='checkbox' ><label for='attrs-a6aa924b-2da4-4ec4-9a31-c609beb32506' title='Show/Hide attributes'><svg class='icon xr-icon-file-text2'><use xlink:href='#icon-file-text2'></use></svg></label><input id='data-96c877ed-0017-4ce3-ab6a-34b120f6b75e' class='xr-var-data-in' type='checkbox'><label for='data-96c877ed-0017-4ce3-ab6a-34b120f6b75e' title='Show/Hide data repr'><svg class='icon xr-icon-database'><use xlink:href='#icon-database'></use></svg></label><div class='xr-var-attrs'><dl class='xr-attrs'><dt><span>axis :</span></dt><dd>X</dd><dt><span>standard_name :</span></dt><dd>longitude</dd><dt><span>units :</span></dt><dd>degrees_east</dd></dl></div><div class='xr-var-data'><pre>array([-158])</pre></div></li><li class='xr-var-item'><div class='xr-var-name'><span class='xr-has-index'>time</span></div><div class='xr-var-dims'>(time)</div><div class='xr-var-dtype'>datetime64[ns]</div><div class='xr-var-preview xr-preview'>2005-01-31 ... 2007-12-31</div><input id='attrs-1aa2612c-b295-47e2-a7a3-0ac43d31e52f' class='xr-var-attrs-in' type='checkbox' ><label for='attrs-1aa2612c-b295-47e2-a7a3-0ac43d31e52f' title='Show/Hide attributes'><svg class='icon xr-icon-file-text2'><use xlink:href='#icon-file-text2'></use></svg></label><input id='data-a5291bf9-623e-4479-be22-9ebba296efac' class='xr-var-data-in' type='checkbox'><label for='data-a5291bf9-623e-4479-be22-9ebba296efac' title='Show/Hide data repr'><svg class='icon xr-icon-database'><use xlink:href='#icon-database'></use></svg></label><div class='xr-var-attrs'><dl class='xr-attrs'><dt><span>axis :</span></dt><dd>T</dd></dl></div><div class='xr-var-data'><pre>array([&#x27;2005-01-31T00:00:00.000000000&#x27;, &#x27;2005-02-01T00:00:00.000000000&#x27;,\n",
       "       &#x27;2005-02-02T00:00:00.000000000&#x27;, ..., &#x27;2007-12-29T00:00:00.000000000&#x27;,\n",
       "       &#x27;2007-12-30T00:00:00.000000000&#x27;, &#x27;2007-12-31T00:00:00.000000000&#x27;],\n",
       "      shape=(1065,), dtype=&#x27;datetime64[ns]&#x27;)</pre></div></li></ul></div></li><li class='xr-section-item'><input id='section-eca78258-3838-4c87-81a8-3880e26712ce' class='xr-section-summary-in' type='checkbox'  checked><label for='section-eca78258-3838-4c87-81a8-3880e26712ce' class='xr-section-summary' >Data variables: <span>(2)</span></label><div class='xr-section-inline-details'></div><div class='xr-section-details'><ul class='xr-var-list'><li class='xr-var-item'><div class='xr-var-name'><span>l12</span></div><div class='xr-var-dims'>(time, latitude, longitude)</div><div class='xr-var-dtype'>float64</div><div class='xr-var-preview xr-preview'>273.4 274.8 276.2 ... 260.2 259.7</div><input id='attrs-6450af48-14f2-4875-9291-ecce3b98e3f2' class='xr-var-attrs-in' type='checkbox' ><label for='attrs-6450af48-14f2-4875-9291-ecce3b98e3f2' title='Show/Hide attributes'><svg class='icon xr-icon-file-text2'><use xlink:href='#icon-file-text2'></use></svg></label><input id='data-d998b668-be2f-4f07-8a32-c103875f0ee1' class='xr-var-data-in' type='checkbox'><label for='data-d998b668-be2f-4f07-8a32-c103875f0ee1' title='Show/Hide data repr'><svg class='icon xr-icon-database'><use xlink:href='#icon-database'></use></svg></label><div class='xr-var-attrs'><dl class='xr-attrs'><dt><span>desc :</span></dt><dd>L12 multiplied by ZEU (from CMEMS)</dd><dt><span>station :</span></dt><dd>hot</dd><dt><span>type :</span></dt><dd>in situ</dd><dt><span>units :</span></dt><dd>mg m-2 day-1</dd></dl></div><div class='xr-var-data'><pre>array([[[273.36574751]],\n",
       "\n",
       "       [[274.79807441]],\n",
       "\n",
       "       [[276.23040131]],\n",
       "\n",
       "       ...,\n",
       "\n",
       "       [[260.73320425]],\n",
       "\n",
       "       [[260.23137763]],\n",
       "\n",
       "       [[259.72955101]]], shape=(1065, 1, 1))</pre></div></li><li class='xr-var-item'><div class='xr-var-name'><span>l12_lowess_0.05</span></div><div class='xr-var-dims'>(time, latitude, longitude)</div><div class='xr-var-dtype'>float64</div><div class='xr-var-preview xr-preview'>274.7 276.0 277.3 ... 259.5 258.9</div><input id='attrs-209a66b0-d609-4547-975c-1149e31d9d8b' class='xr-var-attrs-in' type='checkbox' ><label for='attrs-209a66b0-d609-4547-975c-1149e31d9d8b' title='Show/Hide attributes'><svg class='icon xr-icon-file-text2'><use xlink:href='#icon-file-text2'></use></svg></label><input id='data-d841952c-c6ce-461a-9073-79536b517425' class='xr-var-data-in' type='checkbox'><label for='data-d841952c-c6ce-461a-9073-79536b517425' title='Show/Hide data repr'><svg class='icon xr-icon-database'><use xlink:href='#icon-database'></use></svg></label><div class='xr-var-attrs'><dl class='xr-attrs'><dt><span>desc :</span></dt><dd>L12 multiplied by ZEU (from CMEMS) smoothed with lowess filter with frac=0.05.</dd></dl></div><div class='xr-var-data'><pre>array([[[274.7242969 ]],\n",
       "\n",
       "       [[276.02959424]],\n",
       "\n",
       "       [[277.33489159]],\n",
       "\n",
       "       ...,\n",
       "\n",
       "       [[260.12855956]],\n",
       "\n",
       "       [[259.53177159]],\n",
       "\n",
       "       [[258.93498363]]], shape=(1065, 1, 1))</pre></div></li></ul></div></li><li class='xr-section-item'><input id='section-8f386314-9930-4037-9c84-694fe02bbb16' class='xr-section-summary-in' type='checkbox'  ><label for='section-8f386314-9930-4037-9c84-694fe02bbb16' class='xr-section-summary' >Indexes: <span>(3)</span></label><div class='xr-section-inline-details'></div><div class='xr-section-details'><ul class='xr-var-list'><li class='xr-var-item'><div class='xr-index-name'><div>latitude</div></div><div class='xr-index-preview'>PandasIndex</div><input type='checkbox' disabled/><label></label><input id='index-2bdc3e2a-3bb4-4b0a-b2ce-ceef0cab902c' class='xr-index-data-in' type='checkbox'/><label for='index-2bdc3e2a-3bb4-4b0a-b2ce-ceef0cab902c' title='Show/Hide index repr'><svg class='icon xr-icon-database'><use xlink:href='#icon-database'></use></svg></label><div class='xr-index-data'><pre>PandasIndex(Index([22.75], dtype=&#x27;float64&#x27;, name=&#x27;latitude&#x27;))</pre></div></li><li class='xr-var-item'><div class='xr-index-name'><div>longitude</div></div><div class='xr-index-preview'>PandasIndex</div><input type='checkbox' disabled/><label></label><input id='index-d33e98c5-bd2c-4e71-bd74-589f1e37e0fc' class='xr-index-data-in' type='checkbox'/><label for='index-d33e98c5-bd2c-4e71-bd74-589f1e37e0fc' title='Show/Hide index repr'><svg class='icon xr-icon-database'><use xlink:href='#icon-database'></use></svg></label><div class='xr-index-data'><pre>PandasIndex(Index([-158], dtype=&#x27;int64&#x27;, name=&#x27;longitude&#x27;))</pre></div></li><li class='xr-var-item'><div class='xr-index-name'><div>time</div></div><div class='xr-index-preview'>PandasIndex</div><input type='checkbox' disabled/><label></label><input id='index-0b3ae544-c483-4a47-b1a6-50dd0a03d764' class='xr-index-data-in' type='checkbox'/><label for='index-0b3ae544-c483-4a47-b1a6-50dd0a03d764' title='Show/Hide index repr'><svg class='icon xr-icon-database'><use xlink:href='#icon-database'></use></svg></label><div class='xr-index-data'><pre>PandasIndex(DatetimeIndex([&#x27;2005-01-31&#x27;, &#x27;2005-02-01&#x27;, &#x27;2005-02-02&#x27;, &#x27;2005-02-03&#x27;,\n",
       "               &#x27;2005-02-04&#x27;, &#x27;2005-02-05&#x27;, &#x27;2005-02-06&#x27;, &#x27;2005-02-07&#x27;,\n",
       "               &#x27;2005-02-08&#x27;, &#x27;2005-02-09&#x27;,\n",
       "               ...\n",
       "               &#x27;2007-12-22&#x27;, &#x27;2007-12-23&#x27;, &#x27;2007-12-24&#x27;, &#x27;2007-12-25&#x27;,\n",
       "               &#x27;2007-12-26&#x27;, &#x27;2007-12-27&#x27;, &#x27;2007-12-28&#x27;, &#x27;2007-12-29&#x27;,\n",
       "               &#x27;2007-12-30&#x27;, &#x27;2007-12-31&#x27;],\n",
       "              dtype=&#x27;datetime64[ns]&#x27;, name=&#x27;time&#x27;, length=1065, freq=None))</pre></div></li></ul></div></li><li class='xr-section-item'><input id='section-a52d0de1-a7df-4de8-a078-b1e81590159e' class='xr-section-summary-in' type='checkbox'  checked><label for='section-a52d0de1-a7df-4de8-a078-b1e81590159e' class='xr-section-summary' >Attributes: <span>(2)</span></label><div class='xr-section-inline-details'></div><div class='xr-section-details'><dl class='xr-attrs'><dt><span>desc :</span></dt><dd>L12 multiplied by ZEU (from CMEMS).</dd><dt><span>type :</span></dt><dd>climatology</dd></dl></div></li></ul></div></div>"
      ],
      "text/plain": [
       "<xarray.Dataset> Size: 26kB\n",
       "Dimensions:          (time: 1065, latitude: 1, longitude: 1)\n",
       "Coordinates:\n",
       "  * latitude         (latitude) float64 8B 22.75\n",
       "  * longitude        (longitude) int64 8B -158\n",
       "  * time             (time) datetime64[ns] 9kB 2005-01-31 ... 2007-12-31\n",
       "Data variables:\n",
       "    l12              (time, latitude, longitude) float64 9kB 273.4 ... 259.7\n",
       "    l12_lowess_0.05  (time, latitude, longitude) float64 9kB 274.7 ... 258.9\n",
       "Attributes:\n",
       "    desc:     L12 multiplied by ZEU (from CMEMS).\n",
       "    type:     climatology"
      ]
     },
     "execution_count": 6,
     "metadata": {},
     "output_type": "execute_result"
    }
   ],
   "source": [
    "observed_npp = xr.open_zarr(path_to_npp)\n",
    "observed_npp = observed_npp.sel(time=slice(TIME_START, TIME_END))\n",
    "observed_npp = observed_npp.dropna(\"time\", how=\"all\")\n",
    "observed_npp = observed_npp.resample(time=\"D\").interpolate(\"linear\")\n",
    "observed_npp.load()"
   ]
  },
  {
   "cell_type": "markdown",
   "metadata": {},
   "source": [
    "### Observations\n"
   ]
  },
  {
   "cell_type": "code",
   "execution_count": 7,
   "metadata": {},
   "outputs": [
    {
     "data": {
      "text/html": [
       "<div><svg style=\"position: absolute; width: 0; height: 0; overflow: hidden\">\n",
       "<defs>\n",
       "<symbol id=\"icon-database\" viewBox=\"0 0 32 32\">\n",
       "<path d=\"M16 0c-8.837 0-16 2.239-16 5v4c0 2.761 7.163 5 16 5s16-2.239 16-5v-4c0-2.761-7.163-5-16-5z\"></path>\n",
       "<path d=\"M16 17c-8.837 0-16-2.239-16-5v6c0 2.761 7.163 5 16 5s16-2.239 16-5v-6c0 2.761-7.163 5-16 5z\"></path>\n",
       "<path d=\"M16 26c-8.837 0-16-2.239-16-5v6c0 2.761 7.163 5 16 5s16-2.239 16-5v-6c0 2.761-7.163 5-16 5z\"></path>\n",
       "</symbol>\n",
       "<symbol id=\"icon-file-text2\" viewBox=\"0 0 32 32\">\n",
       "<path d=\"M28.681 7.159c-0.694-0.947-1.662-2.053-2.724-3.116s-2.169-2.030-3.116-2.724c-1.612-1.182-2.393-1.319-2.841-1.319h-15.5c-1.378 0-2.5 1.121-2.5 2.5v27c0 1.378 1.122 2.5 2.5 2.5h23c1.378 0 2.5-1.122 2.5-2.5v-19.5c0-0.448-0.137-1.23-1.319-2.841zM24.543 5.457c0.959 0.959 1.712 1.825 2.268 2.543h-4.811v-4.811c0.718 0.556 1.584 1.309 2.543 2.268zM28 29.5c0 0.271-0.229 0.5-0.5 0.5h-23c-0.271 0-0.5-0.229-0.5-0.5v-27c0-0.271 0.229-0.5 0.5-0.5 0 0 15.499-0 15.5 0v7c0 0.552 0.448 1 1 1h7v19.5z\"></path>\n",
       "<path d=\"M23 26h-14c-0.552 0-1-0.448-1-1s0.448-1 1-1h14c0.552 0 1 0.448 1 1s-0.448 1-1 1z\"></path>\n",
       "<path d=\"M23 22h-14c-0.552 0-1-0.448-1-1s0.448-1 1-1h14c0.552 0 1 0.448 1 1s-0.448 1-1 1z\"></path>\n",
       "<path d=\"M23 18h-14c-0.552 0-1-0.448-1-1s0.448-1 1-1h14c0.552 0 1 0.448 1 1s-0.448 1-1 1z\"></path>\n",
       "</symbol>\n",
       "</defs>\n",
       "</svg>\n",
       "<style>/* CSS stylesheet for displaying xarray objects in jupyterlab.\n",
       " *\n",
       " */\n",
       "\n",
       ":root {\n",
       "  --xr-font-color0: var(--jp-content-font-color0, rgba(0, 0, 0, 1));\n",
       "  --xr-font-color2: var(--jp-content-font-color2, rgba(0, 0, 0, 0.54));\n",
       "  --xr-font-color3: var(--jp-content-font-color3, rgba(0, 0, 0, 0.38));\n",
       "  --xr-border-color: var(--jp-border-color2, #e0e0e0);\n",
       "  --xr-disabled-color: var(--jp-layout-color3, #bdbdbd);\n",
       "  --xr-background-color: var(--jp-layout-color0, white);\n",
       "  --xr-background-color-row-even: var(--jp-layout-color1, white);\n",
       "  --xr-background-color-row-odd: var(--jp-layout-color2, #eeeeee);\n",
       "}\n",
       "\n",
       "html[theme=\"dark\"],\n",
       "html[data-theme=\"dark\"],\n",
       "body[data-theme=\"dark\"],\n",
       "body.vscode-dark {\n",
       "  --xr-font-color0: rgba(255, 255, 255, 1);\n",
       "  --xr-font-color2: rgba(255, 255, 255, 0.54);\n",
       "  --xr-font-color3: rgba(255, 255, 255, 0.38);\n",
       "  --xr-border-color: #1f1f1f;\n",
       "  --xr-disabled-color: #515151;\n",
       "  --xr-background-color: #111111;\n",
       "  --xr-background-color-row-even: #111111;\n",
       "  --xr-background-color-row-odd: #313131;\n",
       "}\n",
       "\n",
       ".xr-wrap {\n",
       "  display: block !important;\n",
       "  min-width: 300px;\n",
       "  max-width: 700px;\n",
       "}\n",
       "\n",
       ".xr-text-repr-fallback {\n",
       "  /* fallback to plain text repr when CSS is not injected (untrusted notebook) */\n",
       "  display: none;\n",
       "}\n",
       "\n",
       ".xr-header {\n",
       "  padding-top: 6px;\n",
       "  padding-bottom: 6px;\n",
       "  margin-bottom: 4px;\n",
       "  border-bottom: solid 1px var(--xr-border-color);\n",
       "}\n",
       "\n",
       ".xr-header > div,\n",
       ".xr-header > ul {\n",
       "  display: inline;\n",
       "  margin-top: 0;\n",
       "  margin-bottom: 0;\n",
       "}\n",
       "\n",
       ".xr-obj-type,\n",
       ".xr-array-name {\n",
       "  margin-left: 2px;\n",
       "  margin-right: 10px;\n",
       "}\n",
       "\n",
       ".xr-obj-type {\n",
       "  color: var(--xr-font-color2);\n",
       "}\n",
       "\n",
       ".xr-sections {\n",
       "  padding-left: 0 !important;\n",
       "  display: grid;\n",
       "  grid-template-columns: 150px auto auto 1fr 0 20px 0 20px;\n",
       "}\n",
       "\n",
       ".xr-section-item {\n",
       "  display: contents;\n",
       "}\n",
       "\n",
       ".xr-section-item input {\n",
       "  display: inline-block;\n",
       "  opacity: 0;\n",
       "  height: 0;\n",
       "}\n",
       "\n",
       ".xr-section-item input + label {\n",
       "  color: var(--xr-disabled-color);\n",
       "}\n",
       "\n",
       ".xr-section-item input:enabled + label {\n",
       "  cursor: pointer;\n",
       "  color: var(--xr-font-color2);\n",
       "}\n",
       "\n",
       ".xr-section-item input:focus + label {\n",
       "  border: 2px solid var(--xr-font-color0);\n",
       "}\n",
       "\n",
       ".xr-section-item input:enabled + label:hover {\n",
       "  color: var(--xr-font-color0);\n",
       "}\n",
       "\n",
       ".xr-section-summary {\n",
       "  grid-column: 1;\n",
       "  color: var(--xr-font-color2);\n",
       "  font-weight: 500;\n",
       "}\n",
       "\n",
       ".xr-section-summary > span {\n",
       "  display: inline-block;\n",
       "  padding-left: 0.5em;\n",
       "}\n",
       "\n",
       ".xr-section-summary-in:disabled + label {\n",
       "  color: var(--xr-font-color2);\n",
       "}\n",
       "\n",
       ".xr-section-summary-in + label:before {\n",
       "  display: inline-block;\n",
       "  content: \"►\";\n",
       "  font-size: 11px;\n",
       "  width: 15px;\n",
       "  text-align: center;\n",
       "}\n",
       "\n",
       ".xr-section-summary-in:disabled + label:before {\n",
       "  color: var(--xr-disabled-color);\n",
       "}\n",
       "\n",
       ".xr-section-summary-in:checked + label:before {\n",
       "  content: \"▼\";\n",
       "}\n",
       "\n",
       ".xr-section-summary-in:checked + label > span {\n",
       "  display: none;\n",
       "}\n",
       "\n",
       ".xr-section-summary,\n",
       ".xr-section-inline-details {\n",
       "  padding-top: 4px;\n",
       "  padding-bottom: 4px;\n",
       "}\n",
       "\n",
       ".xr-section-inline-details {\n",
       "  grid-column: 2 / -1;\n",
       "}\n",
       "\n",
       ".xr-section-details {\n",
       "  display: none;\n",
       "  grid-column: 1 / -1;\n",
       "  margin-bottom: 5px;\n",
       "}\n",
       "\n",
       ".xr-section-summary-in:checked ~ .xr-section-details {\n",
       "  display: contents;\n",
       "}\n",
       "\n",
       ".xr-array-wrap {\n",
       "  grid-column: 1 / -1;\n",
       "  display: grid;\n",
       "  grid-template-columns: 20px auto;\n",
       "}\n",
       "\n",
       ".xr-array-wrap > label {\n",
       "  grid-column: 1;\n",
       "  vertical-align: top;\n",
       "}\n",
       "\n",
       ".xr-preview {\n",
       "  color: var(--xr-font-color3);\n",
       "}\n",
       "\n",
       ".xr-array-preview,\n",
       ".xr-array-data {\n",
       "  padding: 0 5px !important;\n",
       "  grid-column: 2;\n",
       "}\n",
       "\n",
       ".xr-array-data,\n",
       ".xr-array-in:checked ~ .xr-array-preview {\n",
       "  display: none;\n",
       "}\n",
       "\n",
       ".xr-array-in:checked ~ .xr-array-data,\n",
       ".xr-array-preview {\n",
       "  display: inline-block;\n",
       "}\n",
       "\n",
       ".xr-dim-list {\n",
       "  display: inline-block !important;\n",
       "  list-style: none;\n",
       "  padding: 0 !important;\n",
       "  margin: 0;\n",
       "}\n",
       "\n",
       ".xr-dim-list li {\n",
       "  display: inline-block;\n",
       "  padding: 0;\n",
       "  margin: 0;\n",
       "}\n",
       "\n",
       ".xr-dim-list:before {\n",
       "  content: \"(\";\n",
       "}\n",
       "\n",
       ".xr-dim-list:after {\n",
       "  content: \")\";\n",
       "}\n",
       "\n",
       ".xr-dim-list li:not(:last-child):after {\n",
       "  content: \",\";\n",
       "  padding-right: 5px;\n",
       "}\n",
       "\n",
       ".xr-has-index {\n",
       "  font-weight: bold;\n",
       "}\n",
       "\n",
       ".xr-var-list,\n",
       ".xr-var-item {\n",
       "  display: contents;\n",
       "}\n",
       "\n",
       ".xr-var-item > div,\n",
       ".xr-var-item label,\n",
       ".xr-var-item > .xr-var-name span {\n",
       "  background-color: var(--xr-background-color-row-even);\n",
       "  margin-bottom: 0;\n",
       "}\n",
       "\n",
       ".xr-var-item > .xr-var-name:hover span {\n",
       "  padding-right: 5px;\n",
       "}\n",
       "\n",
       ".xr-var-list > li:nth-child(odd) > div,\n",
       ".xr-var-list > li:nth-child(odd) > label,\n",
       ".xr-var-list > li:nth-child(odd) > .xr-var-name span {\n",
       "  background-color: var(--xr-background-color-row-odd);\n",
       "}\n",
       "\n",
       ".xr-var-name {\n",
       "  grid-column: 1;\n",
       "}\n",
       "\n",
       ".xr-var-dims {\n",
       "  grid-column: 2;\n",
       "}\n",
       "\n",
       ".xr-var-dtype {\n",
       "  grid-column: 3;\n",
       "  text-align: right;\n",
       "  color: var(--xr-font-color2);\n",
       "}\n",
       "\n",
       ".xr-var-preview {\n",
       "  grid-column: 4;\n",
       "}\n",
       "\n",
       ".xr-index-preview {\n",
       "  grid-column: 2 / 5;\n",
       "  color: var(--xr-font-color2);\n",
       "}\n",
       "\n",
       ".xr-var-name,\n",
       ".xr-var-dims,\n",
       ".xr-var-dtype,\n",
       ".xr-preview,\n",
       ".xr-attrs dt {\n",
       "  white-space: nowrap;\n",
       "  overflow: hidden;\n",
       "  text-overflow: ellipsis;\n",
       "  padding-right: 10px;\n",
       "}\n",
       "\n",
       ".xr-var-name:hover,\n",
       ".xr-var-dims:hover,\n",
       ".xr-var-dtype:hover,\n",
       ".xr-attrs dt:hover {\n",
       "  overflow: visible;\n",
       "  width: auto;\n",
       "  z-index: 1;\n",
       "}\n",
       "\n",
       ".xr-var-attrs,\n",
       ".xr-var-data,\n",
       ".xr-index-data {\n",
       "  display: none;\n",
       "  background-color: var(--xr-background-color) !important;\n",
       "  padding-bottom: 5px !important;\n",
       "}\n",
       "\n",
       ".xr-var-attrs-in:checked ~ .xr-var-attrs,\n",
       ".xr-var-data-in:checked ~ .xr-var-data,\n",
       ".xr-index-data-in:checked ~ .xr-index-data {\n",
       "  display: block;\n",
       "}\n",
       "\n",
       ".xr-var-data > table {\n",
       "  float: right;\n",
       "}\n",
       "\n",
       ".xr-var-name span,\n",
       ".xr-var-data,\n",
       ".xr-index-name div,\n",
       ".xr-index-data,\n",
       ".xr-attrs {\n",
       "  padding-left: 25px !important;\n",
       "}\n",
       "\n",
       ".xr-attrs,\n",
       ".xr-var-attrs,\n",
       ".xr-var-data,\n",
       ".xr-index-data {\n",
       "  grid-column: 1 / -1;\n",
       "}\n",
       "\n",
       "dl.xr-attrs {\n",
       "  padding: 0;\n",
       "  margin: 0;\n",
       "  display: grid;\n",
       "  grid-template-columns: 125px auto;\n",
       "}\n",
       "\n",
       ".xr-attrs dt,\n",
       ".xr-attrs dd {\n",
       "  padding: 0;\n",
       "  margin: 0;\n",
       "  float: left;\n",
       "  padding-right: 10px;\n",
       "  width: auto;\n",
       "}\n",
       "\n",
       ".xr-attrs dt {\n",
       "  font-weight: normal;\n",
       "  grid-column: 1;\n",
       "}\n",
       "\n",
       ".xr-attrs dt:hover span {\n",
       "  display: inline-block;\n",
       "  background: var(--xr-background-color);\n",
       "  padding-right: 10px;\n",
       "}\n",
       "\n",
       ".xr-attrs dd {\n",
       "  grid-column: 2;\n",
       "  white-space: pre-wrap;\n",
       "  word-break: break-all;\n",
       "}\n",
       "\n",
       ".xr-icon-database,\n",
       ".xr-icon-file-text2,\n",
       ".xr-no-icon {\n",
       "  display: inline-block;\n",
       "  vertical-align: middle;\n",
       "  width: 1em;\n",
       "  height: 1.5em !important;\n",
       "  stroke-width: 0;\n",
       "  stroke: currentColor;\n",
       "  fill: currentColor;\n",
       "}\n",
       "</style><pre class='xr-text-repr-fallback'>&lt;xarray.Dataset&gt; Size: 888B\n",
       "Dimensions:    (layer: 1, time: 36, latitude: 1, longitude: 1)\n",
       "Coordinates:\n",
       "  * layer      (layer) int64 8B 0\n",
       "  * time       (time) datetime64[ns] 288B 2005-01-31 2005-02-28 ... 2007-12-31\n",
       "  * latitude   (latitude) float64 8B 22.75\n",
       "  * longitude  (longitude) int64 8B -158\n",
       "Data variables:\n",
       "    day        (time, layer, latitude, longitude) float64 288B [mg/m²] 157.9 ...\n",
       "    night      (time, layer, latitude, longitude) float64 288B [mg/m²] 237.1 ...</pre><div class='xr-wrap' style='display:none'><div class='xr-header'><div class='xr-obj-type'>xarray.Dataset</div></div><ul class='xr-sections'><li class='xr-section-item'><input id='section-61d52020-b2cd-4c47-ab8c-dc00b1137522' class='xr-section-summary-in' type='checkbox' disabled ><label for='section-61d52020-b2cd-4c47-ab8c-dc00b1137522' class='xr-section-summary'  title='Expand/collapse section'>Dimensions:</label><div class='xr-section-inline-details'><ul class='xr-dim-list'><li><span class='xr-has-index'>layer</span>: 1</li><li><span class='xr-has-index'>time</span>: 36</li><li><span class='xr-has-index'>latitude</span>: 1</li><li><span class='xr-has-index'>longitude</span>: 1</li></ul></div><div class='xr-section-details'></div></li><li class='xr-section-item'><input id='section-f108958e-842f-4a5f-a308-521bd409ec12' class='xr-section-summary-in' type='checkbox'  checked><label for='section-f108958e-842f-4a5f-a308-521bd409ec12' class='xr-section-summary' >Coordinates: <span>(4)</span></label><div class='xr-section-inline-details'></div><div class='xr-section-details'><ul class='xr-var-list'><li class='xr-var-item'><div class='xr-var-name'><span class='xr-has-index'>layer</span></div><div class='xr-var-dims'>(layer)</div><div class='xr-var-dtype'>int64</div><div class='xr-var-preview xr-preview'>0</div><input id='attrs-b9debdd1-4291-41ae-9888-69295ed2748b' class='xr-var-attrs-in' type='checkbox' ><label for='attrs-b9debdd1-4291-41ae-9888-69295ed2748b' title='Show/Hide attributes'><svg class='icon xr-icon-file-text2'><use xlink:href='#icon-file-text2'></use></svg></label><input id='data-a8aa43c3-e0fb-4bff-b777-7b45edcef7f9' class='xr-var-data-in' type='checkbox'><label for='data-a8aa43c3-e0fb-4bff-b777-7b45edcef7f9' title='Show/Hide data repr'><svg class='icon xr-icon-database'><use xlink:href='#icon-database'></use></svg></label><div class='xr-var-attrs'><dl class='xr-attrs'><dt><span>axis :</span></dt><dd>Z</dd><dt><span>desc :</span></dt><dd>The layer depth according to Seapodym definition</dd><dt><span>flag_meanings :</span></dt><dd>epipelagic, upper-mesopelagic, lower-mesopelagic</dd><dt><span>flag_values :</span></dt><dd>[0, 1, 2]</dd><dt><span>long_name :</span></dt><dd>Layer depth</dd><dt><span>standard_name :</span></dt><dd>layer</dd></dl></div><div class='xr-var-data'><pre>array([0])</pre></div></li><li class='xr-var-item'><div class='xr-var-name'><span class='xr-has-index'>time</span></div><div class='xr-var-dims'>(time)</div><div class='xr-var-dtype'>datetime64[ns]</div><div class='xr-var-preview xr-preview'>2005-01-31 ... 2007-12-31</div><input id='attrs-ca27d62b-ef54-4d21-9c52-0e8989b5a08a' class='xr-var-attrs-in' type='checkbox' ><label for='attrs-ca27d62b-ef54-4d21-9c52-0e8989b5a08a' title='Show/Hide attributes'><svg class='icon xr-icon-file-text2'><use xlink:href='#icon-file-text2'></use></svg></label><input id='data-6e4dfb45-7dda-4a2c-88f8-fe66a71ca648' class='xr-var-data-in' type='checkbox'><label for='data-6e4dfb45-7dda-4a2c-88f8-fe66a71ca648' title='Show/Hide data repr'><svg class='icon xr-icon-database'><use xlink:href='#icon-database'></use></svg></label><div class='xr-var-attrs'><dl class='xr-attrs'><dt><span>axis :</span></dt><dd>T</dd><dt><span>long_name :</span></dt><dd>time</dd><dt><span>standard_name :</span></dt><dd>time</dd></dl></div><div class='xr-var-data'><pre>array([&#x27;2005-01-31T00:00:00.000000000&#x27;, &#x27;2005-02-28T00:00:00.000000000&#x27;,\n",
       "       &#x27;2005-03-31T00:00:00.000000000&#x27;, &#x27;2005-04-30T00:00:00.000000000&#x27;,\n",
       "       &#x27;2005-05-31T00:00:00.000000000&#x27;, &#x27;2005-06-30T00:00:00.000000000&#x27;,\n",
       "       &#x27;2005-07-31T00:00:00.000000000&#x27;, &#x27;2005-08-31T00:00:00.000000000&#x27;,\n",
       "       &#x27;2005-09-30T00:00:00.000000000&#x27;, &#x27;2005-10-31T00:00:00.000000000&#x27;,\n",
       "       &#x27;2005-11-30T00:00:00.000000000&#x27;, &#x27;2005-12-31T00:00:00.000000000&#x27;,\n",
       "       &#x27;2006-01-31T00:00:00.000000000&#x27;, &#x27;2006-02-28T00:00:00.000000000&#x27;,\n",
       "       &#x27;2006-03-31T00:00:00.000000000&#x27;, &#x27;2006-04-30T00:00:00.000000000&#x27;,\n",
       "       &#x27;2006-05-31T00:00:00.000000000&#x27;, &#x27;2006-06-30T00:00:00.000000000&#x27;,\n",
       "       &#x27;2006-07-31T00:00:00.000000000&#x27;, &#x27;2006-08-31T00:00:00.000000000&#x27;,\n",
       "       &#x27;2006-09-30T00:00:00.000000000&#x27;, &#x27;2006-10-31T00:00:00.000000000&#x27;,\n",
       "       &#x27;2006-11-30T00:00:00.000000000&#x27;, &#x27;2006-12-31T00:00:00.000000000&#x27;,\n",
       "       &#x27;2007-01-31T00:00:00.000000000&#x27;, &#x27;2007-02-28T00:00:00.000000000&#x27;,\n",
       "       &#x27;2007-03-31T00:00:00.000000000&#x27;, &#x27;2007-04-30T00:00:00.000000000&#x27;,\n",
       "       &#x27;2007-05-31T00:00:00.000000000&#x27;, &#x27;2007-06-30T00:00:00.000000000&#x27;,\n",
       "       &#x27;2007-07-31T00:00:00.000000000&#x27;, &#x27;2007-08-31T00:00:00.000000000&#x27;,\n",
       "       &#x27;2007-09-30T00:00:00.000000000&#x27;, &#x27;2007-10-31T00:00:00.000000000&#x27;,\n",
       "       &#x27;2007-11-30T00:00:00.000000000&#x27;, &#x27;2007-12-31T00:00:00.000000000&#x27;],\n",
       "      dtype=&#x27;datetime64[ns]&#x27;)</pre></div></li><li class='xr-var-item'><div class='xr-var-name'><span class='xr-has-index'>latitude</span></div><div class='xr-var-dims'>(latitude)</div><div class='xr-var-dtype'>float64</div><div class='xr-var-preview xr-preview'>22.75</div><input id='attrs-12bf397b-e625-4089-924d-a4c2c068384d' class='xr-var-attrs-in' type='checkbox' ><label for='attrs-12bf397b-e625-4089-924d-a4c2c068384d' title='Show/Hide attributes'><svg class='icon xr-icon-file-text2'><use xlink:href='#icon-file-text2'></use></svg></label><input id='data-3e05bacb-52c4-47be-b077-885ee72a8483' class='xr-var-data-in' type='checkbox'><label for='data-3e05bacb-52c4-47be-b077-885ee72a8483' title='Show/Hide data repr'><svg class='icon xr-icon-database'><use xlink:href='#icon-database'></use></svg></label><div class='xr-var-attrs'><dl class='xr-attrs'><dt><span>axis :</span></dt><dd>Y</dd><dt><span>standard_name :</span></dt><dd>latitude</dd><dt><span>units :</span></dt><dd>degrees_north</dd></dl></div><div class='xr-var-data'><pre>array([22.75])</pre></div></li><li class='xr-var-item'><div class='xr-var-name'><span class='xr-has-index'>longitude</span></div><div class='xr-var-dims'>(longitude)</div><div class='xr-var-dtype'>int64</div><div class='xr-var-preview xr-preview'>-158</div><input id='attrs-6fae544a-2470-465e-9914-e51cd00b89a7' class='xr-var-attrs-in' type='checkbox' ><label for='attrs-6fae544a-2470-465e-9914-e51cd00b89a7' title='Show/Hide attributes'><svg class='icon xr-icon-file-text2'><use xlink:href='#icon-file-text2'></use></svg></label><input id='data-368b5976-01b7-4df2-a641-1c57cd9e7cb1' class='xr-var-data-in' type='checkbox'><label for='data-368b5976-01b7-4df2-a641-1c57cd9e7cb1' title='Show/Hide data repr'><svg class='icon xr-icon-database'><use xlink:href='#icon-database'></use></svg></label><div class='xr-var-attrs'><dl class='xr-attrs'><dt><span>axis :</span></dt><dd>X</dd><dt><span>standard_name :</span></dt><dd>longitude</dd><dt><span>units :</span></dt><dd>degrees_east</dd></dl></div><div class='xr-var-data'><pre>array([-158])</pre></div></li></ul></div></li><li class='xr-section-item'><input id='section-69689932-6b87-4d1e-ba80-56e88ed37a78' class='xr-section-summary-in' type='checkbox'  checked><label for='section-69689932-6b87-4d1e-ba80-56e88ed37a78' class='xr-section-summary' >Data variables: <span>(2)</span></label><div class='xr-section-inline-details'></div><div class='xr-section-details'><ul class='xr-var-list'><li class='xr-var-item'><div class='xr-var-name'><span>day</span></div><div class='xr-var-dims'>(time, layer, latitude, longitude)</div><div class='xr-var-dtype'>float64</div><div class='xr-var-preview xr-preview'>[mg/m²] 157.9 179.5 ... 204.8 189.3</div><input id='attrs-66ed7ce7-a481-4f2a-a416-c953c57671a8' class='xr-var-attrs-in' type='checkbox' disabled><label for='attrs-66ed7ce7-a481-4f2a-a416-c953c57671a8' title='Show/Hide attributes'><svg class='icon xr-icon-file-text2'><use xlink:href='#icon-file-text2'></use></svg></label><input id='data-64f1af82-0daf-4992-90e3-97d0aaf72053' class='xr-var-data-in' type='checkbox'><label for='data-64f1af82-0daf-4992-90e3-97d0aaf72053' title='Show/Hide data repr'><svg class='icon xr-icon-database'><use xlink:href='#icon-database'></use></svg></label><div class='xr-var-attrs'><dl class='xr-attrs'></dl></div><div class='xr-var-data'><table><tbody><tr><th>Magnitude</th><td style='text-align:left;'><pre>[[[[157.92219924943342]]] [[[179.50290001191829]]] [[[206.9568833881889]]] [[[265.77390000839995]]] [[[281.78101853068074]]] [[[282.22919058899055]]] [[[295.88177275463875]]] [[[313.19485204421545]]] [[[314.33474301409973]]] [[[252.30876534149797]]] [[[204.84900876732033]]] [[[189.26359852904628]]] [[[157.92219924943342]]] [[[179.50290001191829]]] [[[206.9568833881889]]] [[[265.77390000839995]]] [[[281.78101853068074]]] [[[282.22919058899055]]] [[[295.88177275463875]]] [[[313.19485204421545]]] [[[314.33474301409973]]] [[[252.30876534149797]]] [[[204.84900876732033]]] [[[189.26359852904628]]] [[[157.92219924943342]]] [[[179.50290001191829]]] [[[206.9568833881889]]] [[[265.77390000839995]]] [[[281.78101853068074]]] [[[282.22919058899055]]] [[[295.88177275463875]]] [[[313.19485204421545]]] [[[314.33474301409973]]] [[[252.30876534149797]]] [[[204.84900876732033]]] [[[189.26359852904628]]]]</pre></td></tr><tr><th>Units</th><td style='text-align:left;'>milligram/meter<sup>2</sup></td></tr></tbody></table></div></li><li class='xr-var-item'><div class='xr-var-name'><span>night</span></div><div class='xr-var-dims'>(time, layer, latitude, longitude)</div><div class='xr-var-dtype'>float64</div><div class='xr-var-preview xr-preview'>[mg/m²] 237.1 301.6 ... 334.0 290.2</div><input id='attrs-8241d406-c902-4ce0-a1dc-e82d7077f3b5' class='xr-var-attrs-in' type='checkbox' disabled><label for='attrs-8241d406-c902-4ce0-a1dc-e82d7077f3b5' title='Show/Hide attributes'><svg class='icon xr-icon-file-text2'><use xlink:href='#icon-file-text2'></use></svg></label><input id='data-454ecb57-d4d3-4b38-b2f0-3cd6546b9cce' class='xr-var-data-in' type='checkbox'><label for='data-454ecb57-d4d3-4b38-b2f0-3cd6546b9cce' title='Show/Hide data repr'><svg class='icon xr-icon-database'><use xlink:href='#icon-database'></use></svg></label><div class='xr-var-attrs'><dl class='xr-attrs'></dl></div><div class='xr-var-data'><table><tbody><tr><th>Magnitude</th><td style='text-align:left;'><pre>[[[[237.0516536022709]]] [[[301.6376319958857]]] [[[337.83226845879244]]] [[[414.48959622350367]]] [[[389.1909678368789]]] [[[421.89365674709336]]] [[[424.06609922351373]]] [[[426.77207432265106]]] [[[418.1004648101298]]] [[[374.8468152741032]]] [[[333.9713931237319]]] [[[290.2018113694168]]] [[[237.0516536022709]]] [[[301.6376319958857]]] [[[337.83226845879244]]] [[[414.48959622350367]]] [[[389.1909678368789]]] [[[421.89365674709336]]] [[[424.06609922351373]]] [[[426.77207432265106]]] [[[418.1004648101298]]] [[[374.8468152741032]]] [[[333.9713931237319]]] [[[290.2018113694168]]] [[[237.0516536022709]]] [[[301.6376319958857]]] [[[337.83226845879244]]] [[[414.48959622350367]]] [[[389.1909678368789]]] [[[421.89365674709336]]] [[[424.06609922351373]]] [[[426.77207432265106]]] [[[418.1004648101298]]] [[[374.8468152741032]]] [[[333.9713931237319]]] [[[290.2018113694168]]]]</pre></td></tr><tr><th>Units</th><td style='text-align:left;'>milligram/meter<sup>2</sup></td></tr></tbody></table></div></li></ul></div></li><li class='xr-section-item'><input id='section-868db3f1-86f5-4154-8b41-b5271af99da3' class='xr-section-summary-in' type='checkbox'  ><label for='section-868db3f1-86f5-4154-8b41-b5271af99da3' class='xr-section-summary' >Indexes: <span>(4)</span></label><div class='xr-section-inline-details'></div><div class='xr-section-details'><ul class='xr-var-list'><li class='xr-var-item'><div class='xr-index-name'><div>layer</div></div><div class='xr-index-preview'>PandasIndex</div><input type='checkbox' disabled/><label></label><input id='index-2253c531-a796-47b4-b504-a2d100067f35' class='xr-index-data-in' type='checkbox'/><label for='index-2253c531-a796-47b4-b504-a2d100067f35' title='Show/Hide index repr'><svg class='icon xr-icon-database'><use xlink:href='#icon-database'></use></svg></label><div class='xr-index-data'><pre>PandasIndex(Index([0], dtype=&#x27;int64&#x27;, name=&#x27;layer&#x27;))</pre></div></li><li class='xr-var-item'><div class='xr-index-name'><div>time</div></div><div class='xr-index-preview'>PandasIndex</div><input type='checkbox' disabled/><label></label><input id='index-84a3cb42-7f03-4c8f-abf0-00c5d3cec968' class='xr-index-data-in' type='checkbox'/><label for='index-84a3cb42-7f03-4c8f-abf0-00c5d3cec968' title='Show/Hide index repr'><svg class='icon xr-icon-database'><use xlink:href='#icon-database'></use></svg></label><div class='xr-index-data'><pre>PandasIndex(DatetimeIndex([&#x27;2005-01-31&#x27;, &#x27;2005-02-28&#x27;, &#x27;2005-03-31&#x27;, &#x27;2005-04-30&#x27;,\n",
       "               &#x27;2005-05-31&#x27;, &#x27;2005-06-30&#x27;, &#x27;2005-07-31&#x27;, &#x27;2005-08-31&#x27;,\n",
       "               &#x27;2005-09-30&#x27;, &#x27;2005-10-31&#x27;, &#x27;2005-11-30&#x27;, &#x27;2005-12-31&#x27;,\n",
       "               &#x27;2006-01-31&#x27;, &#x27;2006-02-28&#x27;, &#x27;2006-03-31&#x27;, &#x27;2006-04-30&#x27;,\n",
       "               &#x27;2006-05-31&#x27;, &#x27;2006-06-30&#x27;, &#x27;2006-07-31&#x27;, &#x27;2006-08-31&#x27;,\n",
       "               &#x27;2006-09-30&#x27;, &#x27;2006-10-31&#x27;, &#x27;2006-11-30&#x27;, &#x27;2006-12-31&#x27;,\n",
       "               &#x27;2007-01-31&#x27;, &#x27;2007-02-28&#x27;, &#x27;2007-03-31&#x27;, &#x27;2007-04-30&#x27;,\n",
       "               &#x27;2007-05-31&#x27;, &#x27;2007-06-30&#x27;, &#x27;2007-07-31&#x27;, &#x27;2007-08-31&#x27;,\n",
       "               &#x27;2007-09-30&#x27;, &#x27;2007-10-31&#x27;, &#x27;2007-11-30&#x27;, &#x27;2007-12-31&#x27;],\n",
       "              dtype=&#x27;datetime64[ns]&#x27;, name=&#x27;time&#x27;, freq=&#x27;ME&#x27;))</pre></div></li><li class='xr-var-item'><div class='xr-index-name'><div>latitude</div></div><div class='xr-index-preview'>PandasIndex</div><input type='checkbox' disabled/><label></label><input id='index-ec161263-8abc-41e0-a37e-3b15d0c539fb' class='xr-index-data-in' type='checkbox'/><label for='index-ec161263-8abc-41e0-a37e-3b15d0c539fb' title='Show/Hide index repr'><svg class='icon xr-icon-database'><use xlink:href='#icon-database'></use></svg></label><div class='xr-index-data'><pre>PandasIndex(Index([22.75], dtype=&#x27;float64&#x27;, name=&#x27;latitude&#x27;))</pre></div></li><li class='xr-var-item'><div class='xr-index-name'><div>longitude</div></div><div class='xr-index-preview'>PandasIndex</div><input type='checkbox' disabled/><label></label><input id='index-59cfc2d9-69e5-4186-8e98-180b1ffbba35' class='xr-index-data-in' type='checkbox'/><label for='index-59cfc2d9-69e5-4186-8e98-180b1ffbba35' title='Show/Hide index repr'><svg class='icon xr-icon-database'><use xlink:href='#icon-database'></use></svg></label><div class='xr-index-data'><pre>PandasIndex(Index([-158], dtype=&#x27;int64&#x27;, name=&#x27;longitude&#x27;))</pre></div></li></ul></div></li><li class='xr-section-item'><input id='section-68aebde1-118c-469c-b851-005cb709619e' class='xr-section-summary-in' type='checkbox' disabled ><label for='section-68aebde1-118c-469c-b851-005cb709619e' class='xr-section-summary'  title='Expand/collapse section'>Attributes: <span>(0)</span></label><div class='xr-section-inline-details'></div><div class='xr-section-details'><dl class='xr-attrs'></dl></div></li></ul></div></div>"
      ],
      "text/plain": [
       "<xarray.Dataset> Size: 888B\n",
       "Dimensions:    (layer: 1, time: 36, latitude: 1, longitude: 1)\n",
       "Coordinates:\n",
       "  * layer      (layer) int64 8B 0\n",
       "  * time       (time) datetime64[ns] 288B 2005-01-31 2005-02-28 ... 2007-12-31\n",
       "  * latitude   (latitude) float64 8B 22.75\n",
       "  * longitude  (longitude) int64 8B -158\n",
       "Data variables:\n",
       "    day        (time, layer, latitude, longitude) float64 288B [mg/m²] 157.9 ...\n",
       "    night      (time, layer, latitude, longitude) float64 288B [mg/m²] 237.1 ..."
      ]
     },
     "execution_count": 7,
     "metadata": {},
     "output_type": "execute_result"
    }
   ],
   "source": [
    "observations = xr.open_zarr(path_to_obs).load()\n",
    "observations = observations.sel(latitude=LATITUDE, longitude=LONGITUDE, method=\"nearest\")\n",
    "observations = observations.resample(time=\"1D\").mean().dropna(\"time\")\n",
    "observations = observations.pint.quantify().pint.to(\"mg/m^3\")\n",
    "observations = observations * epi_layer_depth\n",
    "observations = observations.drop_vars(\"depth\")\n",
    "observations"
   ]
  },
  {
   "cell_type": "markdown",
   "metadata": {},
   "source": [
    "observations\n"
   ]
  },
  {
   "cell_type": "markdown",
   "metadata": {},
   "source": [
    "Select the kind of observation you want to use.\n"
   ]
  },
  {
   "cell_type": "code",
   "execution_count": 8,
   "metadata": {},
   "outputs": [
    {
     "data": {
      "text/html": [
       "<div><svg style=\"position: absolute; width: 0; height: 0; overflow: hidden\">\n",
       "<defs>\n",
       "<symbol id=\"icon-database\" viewBox=\"0 0 32 32\">\n",
       "<path d=\"M16 0c-8.837 0-16 2.239-16 5v4c0 2.761 7.163 5 16 5s16-2.239 16-5v-4c0-2.761-7.163-5-16-5z\"></path>\n",
       "<path d=\"M16 17c-8.837 0-16-2.239-16-5v6c0 2.761 7.163 5 16 5s16-2.239 16-5v-6c0 2.761-7.163 5-16 5z\"></path>\n",
       "<path d=\"M16 26c-8.837 0-16-2.239-16-5v6c0 2.761 7.163 5 16 5s16-2.239 16-5v-6c0 2.761-7.163 5-16 5z\"></path>\n",
       "</symbol>\n",
       "<symbol id=\"icon-file-text2\" viewBox=\"0 0 32 32\">\n",
       "<path d=\"M28.681 7.159c-0.694-0.947-1.662-2.053-2.724-3.116s-2.169-2.030-3.116-2.724c-1.612-1.182-2.393-1.319-2.841-1.319h-15.5c-1.378 0-2.5 1.121-2.5 2.5v27c0 1.378 1.122 2.5 2.5 2.5h23c1.378 0 2.5-1.122 2.5-2.5v-19.5c0-0.448-0.137-1.23-1.319-2.841zM24.543 5.457c0.959 0.959 1.712 1.825 2.268 2.543h-4.811v-4.811c0.718 0.556 1.584 1.309 2.543 2.268zM28 29.5c0 0.271-0.229 0.5-0.5 0.5h-23c-0.271 0-0.5-0.229-0.5-0.5v-27c0-0.271 0.229-0.5 0.5-0.5 0 0 15.499-0 15.5 0v7c0 0.552 0.448 1 1 1h7v19.5z\"></path>\n",
       "<path d=\"M23 26h-14c-0.552 0-1-0.448-1-1s0.448-1 1-1h14c0.552 0 1 0.448 1 1s-0.448 1-1 1z\"></path>\n",
       "<path d=\"M23 22h-14c-0.552 0-1-0.448-1-1s0.448-1 1-1h14c0.552 0 1 0.448 1 1s-0.448 1-1 1z\"></path>\n",
       "<path d=\"M23 18h-14c-0.552 0-1-0.448-1-1s0.448-1 1-1h14c0.552 0 1 0.448 1 1s-0.448 1-1 1z\"></path>\n",
       "</symbol>\n",
       "</defs>\n",
       "</svg>\n",
       "<style>/* CSS stylesheet for displaying xarray objects in jupyterlab.\n",
       " *\n",
       " */\n",
       "\n",
       ":root {\n",
       "  --xr-font-color0: var(--jp-content-font-color0, rgba(0, 0, 0, 1));\n",
       "  --xr-font-color2: var(--jp-content-font-color2, rgba(0, 0, 0, 0.54));\n",
       "  --xr-font-color3: var(--jp-content-font-color3, rgba(0, 0, 0, 0.38));\n",
       "  --xr-border-color: var(--jp-border-color2, #e0e0e0);\n",
       "  --xr-disabled-color: var(--jp-layout-color3, #bdbdbd);\n",
       "  --xr-background-color: var(--jp-layout-color0, white);\n",
       "  --xr-background-color-row-even: var(--jp-layout-color1, white);\n",
       "  --xr-background-color-row-odd: var(--jp-layout-color2, #eeeeee);\n",
       "}\n",
       "\n",
       "html[theme=\"dark\"],\n",
       "html[data-theme=\"dark\"],\n",
       "body[data-theme=\"dark\"],\n",
       "body.vscode-dark {\n",
       "  --xr-font-color0: rgba(255, 255, 255, 1);\n",
       "  --xr-font-color2: rgba(255, 255, 255, 0.54);\n",
       "  --xr-font-color3: rgba(255, 255, 255, 0.38);\n",
       "  --xr-border-color: #1f1f1f;\n",
       "  --xr-disabled-color: #515151;\n",
       "  --xr-background-color: #111111;\n",
       "  --xr-background-color-row-even: #111111;\n",
       "  --xr-background-color-row-odd: #313131;\n",
       "}\n",
       "\n",
       ".xr-wrap {\n",
       "  display: block !important;\n",
       "  min-width: 300px;\n",
       "  max-width: 700px;\n",
       "}\n",
       "\n",
       ".xr-text-repr-fallback {\n",
       "  /* fallback to plain text repr when CSS is not injected (untrusted notebook) */\n",
       "  display: none;\n",
       "}\n",
       "\n",
       ".xr-header {\n",
       "  padding-top: 6px;\n",
       "  padding-bottom: 6px;\n",
       "  margin-bottom: 4px;\n",
       "  border-bottom: solid 1px var(--xr-border-color);\n",
       "}\n",
       "\n",
       ".xr-header > div,\n",
       ".xr-header > ul {\n",
       "  display: inline;\n",
       "  margin-top: 0;\n",
       "  margin-bottom: 0;\n",
       "}\n",
       "\n",
       ".xr-obj-type,\n",
       ".xr-array-name {\n",
       "  margin-left: 2px;\n",
       "  margin-right: 10px;\n",
       "}\n",
       "\n",
       ".xr-obj-type {\n",
       "  color: var(--xr-font-color2);\n",
       "}\n",
       "\n",
       ".xr-sections {\n",
       "  padding-left: 0 !important;\n",
       "  display: grid;\n",
       "  grid-template-columns: 150px auto auto 1fr 0 20px 0 20px;\n",
       "}\n",
       "\n",
       ".xr-section-item {\n",
       "  display: contents;\n",
       "}\n",
       "\n",
       ".xr-section-item input {\n",
       "  display: inline-block;\n",
       "  opacity: 0;\n",
       "  height: 0;\n",
       "}\n",
       "\n",
       ".xr-section-item input + label {\n",
       "  color: var(--xr-disabled-color);\n",
       "}\n",
       "\n",
       ".xr-section-item input:enabled + label {\n",
       "  cursor: pointer;\n",
       "  color: var(--xr-font-color2);\n",
       "}\n",
       "\n",
       ".xr-section-item input:focus + label {\n",
       "  border: 2px solid var(--xr-font-color0);\n",
       "}\n",
       "\n",
       ".xr-section-item input:enabled + label:hover {\n",
       "  color: var(--xr-font-color0);\n",
       "}\n",
       "\n",
       ".xr-section-summary {\n",
       "  grid-column: 1;\n",
       "  color: var(--xr-font-color2);\n",
       "  font-weight: 500;\n",
       "}\n",
       "\n",
       ".xr-section-summary > span {\n",
       "  display: inline-block;\n",
       "  padding-left: 0.5em;\n",
       "}\n",
       "\n",
       ".xr-section-summary-in:disabled + label {\n",
       "  color: var(--xr-font-color2);\n",
       "}\n",
       "\n",
       ".xr-section-summary-in + label:before {\n",
       "  display: inline-block;\n",
       "  content: \"►\";\n",
       "  font-size: 11px;\n",
       "  width: 15px;\n",
       "  text-align: center;\n",
       "}\n",
       "\n",
       ".xr-section-summary-in:disabled + label:before {\n",
       "  color: var(--xr-disabled-color);\n",
       "}\n",
       "\n",
       ".xr-section-summary-in:checked + label:before {\n",
       "  content: \"▼\";\n",
       "}\n",
       "\n",
       ".xr-section-summary-in:checked + label > span {\n",
       "  display: none;\n",
       "}\n",
       "\n",
       ".xr-section-summary,\n",
       ".xr-section-inline-details {\n",
       "  padding-top: 4px;\n",
       "  padding-bottom: 4px;\n",
       "}\n",
       "\n",
       ".xr-section-inline-details {\n",
       "  grid-column: 2 / -1;\n",
       "}\n",
       "\n",
       ".xr-section-details {\n",
       "  display: none;\n",
       "  grid-column: 1 / -1;\n",
       "  margin-bottom: 5px;\n",
       "}\n",
       "\n",
       ".xr-section-summary-in:checked ~ .xr-section-details {\n",
       "  display: contents;\n",
       "}\n",
       "\n",
       ".xr-array-wrap {\n",
       "  grid-column: 1 / -1;\n",
       "  display: grid;\n",
       "  grid-template-columns: 20px auto;\n",
       "}\n",
       "\n",
       ".xr-array-wrap > label {\n",
       "  grid-column: 1;\n",
       "  vertical-align: top;\n",
       "}\n",
       "\n",
       ".xr-preview {\n",
       "  color: var(--xr-font-color3);\n",
       "}\n",
       "\n",
       ".xr-array-preview,\n",
       ".xr-array-data {\n",
       "  padding: 0 5px !important;\n",
       "  grid-column: 2;\n",
       "}\n",
       "\n",
       ".xr-array-data,\n",
       ".xr-array-in:checked ~ .xr-array-preview {\n",
       "  display: none;\n",
       "}\n",
       "\n",
       ".xr-array-in:checked ~ .xr-array-data,\n",
       ".xr-array-preview {\n",
       "  display: inline-block;\n",
       "}\n",
       "\n",
       ".xr-dim-list {\n",
       "  display: inline-block !important;\n",
       "  list-style: none;\n",
       "  padding: 0 !important;\n",
       "  margin: 0;\n",
       "}\n",
       "\n",
       ".xr-dim-list li {\n",
       "  display: inline-block;\n",
       "  padding: 0;\n",
       "  margin: 0;\n",
       "}\n",
       "\n",
       ".xr-dim-list:before {\n",
       "  content: \"(\";\n",
       "}\n",
       "\n",
       ".xr-dim-list:after {\n",
       "  content: \")\";\n",
       "}\n",
       "\n",
       ".xr-dim-list li:not(:last-child):after {\n",
       "  content: \",\";\n",
       "  padding-right: 5px;\n",
       "}\n",
       "\n",
       ".xr-has-index {\n",
       "  font-weight: bold;\n",
       "}\n",
       "\n",
       ".xr-var-list,\n",
       ".xr-var-item {\n",
       "  display: contents;\n",
       "}\n",
       "\n",
       ".xr-var-item > div,\n",
       ".xr-var-item label,\n",
       ".xr-var-item > .xr-var-name span {\n",
       "  background-color: var(--xr-background-color-row-even);\n",
       "  margin-bottom: 0;\n",
       "}\n",
       "\n",
       ".xr-var-item > .xr-var-name:hover span {\n",
       "  padding-right: 5px;\n",
       "}\n",
       "\n",
       ".xr-var-list > li:nth-child(odd) > div,\n",
       ".xr-var-list > li:nth-child(odd) > label,\n",
       ".xr-var-list > li:nth-child(odd) > .xr-var-name span {\n",
       "  background-color: var(--xr-background-color-row-odd);\n",
       "}\n",
       "\n",
       ".xr-var-name {\n",
       "  grid-column: 1;\n",
       "}\n",
       "\n",
       ".xr-var-dims {\n",
       "  grid-column: 2;\n",
       "}\n",
       "\n",
       ".xr-var-dtype {\n",
       "  grid-column: 3;\n",
       "  text-align: right;\n",
       "  color: var(--xr-font-color2);\n",
       "}\n",
       "\n",
       ".xr-var-preview {\n",
       "  grid-column: 4;\n",
       "}\n",
       "\n",
       ".xr-index-preview {\n",
       "  grid-column: 2 / 5;\n",
       "  color: var(--xr-font-color2);\n",
       "}\n",
       "\n",
       ".xr-var-name,\n",
       ".xr-var-dims,\n",
       ".xr-var-dtype,\n",
       ".xr-preview,\n",
       ".xr-attrs dt {\n",
       "  white-space: nowrap;\n",
       "  overflow: hidden;\n",
       "  text-overflow: ellipsis;\n",
       "  padding-right: 10px;\n",
       "}\n",
       "\n",
       ".xr-var-name:hover,\n",
       ".xr-var-dims:hover,\n",
       ".xr-var-dtype:hover,\n",
       ".xr-attrs dt:hover {\n",
       "  overflow: visible;\n",
       "  width: auto;\n",
       "  z-index: 1;\n",
       "}\n",
       "\n",
       ".xr-var-attrs,\n",
       ".xr-var-data,\n",
       ".xr-index-data {\n",
       "  display: none;\n",
       "  background-color: var(--xr-background-color) !important;\n",
       "  padding-bottom: 5px !important;\n",
       "}\n",
       "\n",
       ".xr-var-attrs-in:checked ~ .xr-var-attrs,\n",
       ".xr-var-data-in:checked ~ .xr-var-data,\n",
       ".xr-index-data-in:checked ~ .xr-index-data {\n",
       "  display: block;\n",
       "}\n",
       "\n",
       ".xr-var-data > table {\n",
       "  float: right;\n",
       "}\n",
       "\n",
       ".xr-var-name span,\n",
       ".xr-var-data,\n",
       ".xr-index-name div,\n",
       ".xr-index-data,\n",
       ".xr-attrs {\n",
       "  padding-left: 25px !important;\n",
       "}\n",
       "\n",
       ".xr-attrs,\n",
       ".xr-var-attrs,\n",
       ".xr-var-data,\n",
       ".xr-index-data {\n",
       "  grid-column: 1 / -1;\n",
       "}\n",
       "\n",
       "dl.xr-attrs {\n",
       "  padding: 0;\n",
       "  margin: 0;\n",
       "  display: grid;\n",
       "  grid-template-columns: 125px auto;\n",
       "}\n",
       "\n",
       ".xr-attrs dt,\n",
       ".xr-attrs dd {\n",
       "  padding: 0;\n",
       "  margin: 0;\n",
       "  float: left;\n",
       "  padding-right: 10px;\n",
       "  width: auto;\n",
       "}\n",
       "\n",
       ".xr-attrs dt {\n",
       "  font-weight: normal;\n",
       "  grid-column: 1;\n",
       "}\n",
       "\n",
       ".xr-attrs dt:hover span {\n",
       "  display: inline-block;\n",
       "  background: var(--xr-background-color);\n",
       "  padding-right: 10px;\n",
       "}\n",
       "\n",
       ".xr-attrs dd {\n",
       "  grid-column: 2;\n",
       "  white-space: pre-wrap;\n",
       "  word-break: break-all;\n",
       "}\n",
       "\n",
       ".xr-icon-database,\n",
       ".xr-icon-file-text2,\n",
       ".xr-no-icon {\n",
       "  display: inline-block;\n",
       "  vertical-align: middle;\n",
       "  width: 1em;\n",
       "  height: 1.5em !important;\n",
       "  stroke-width: 0;\n",
       "  stroke: currentColor;\n",
       "  fill: currentColor;\n",
       "}\n",
       "</style><pre class='xr-text-repr-fallback'>&lt;xarray.Dataset&gt; Size: 600B\n",
       "Dimensions:    (layer: 1, time: 24, latitude: 1, longitude: 1)\n",
       "Coordinates:\n",
       "  * layer      (layer) int64 8B 0\n",
       "  * time       (time) datetime64[ns] 192B 2006-01-31 2006-02-28 ... 2007-12-31\n",
       "  * latitude   (latitude) float64 8B 22.75\n",
       "  * longitude  (longitude) int64 8B -158\n",
       "Data variables:\n",
       "    day        (time, layer, latitude, longitude) float64 192B [mg/m²] 157.9 ...\n",
       "    night      (time, layer, latitude, longitude) float64 192B [mg/m²] 237.1 ...</pre><div class='xr-wrap' style='display:none'><div class='xr-header'><div class='xr-obj-type'>xarray.Dataset</div></div><ul class='xr-sections'><li class='xr-section-item'><input id='section-0b9cacd4-3c44-4fbe-a985-d19671d9e9ab' class='xr-section-summary-in' type='checkbox' disabled ><label for='section-0b9cacd4-3c44-4fbe-a985-d19671d9e9ab' class='xr-section-summary'  title='Expand/collapse section'>Dimensions:</label><div class='xr-section-inline-details'><ul class='xr-dim-list'><li><span class='xr-has-index'>layer</span>: 1</li><li><span class='xr-has-index'>time</span>: 24</li><li><span class='xr-has-index'>latitude</span>: 1</li><li><span class='xr-has-index'>longitude</span>: 1</li></ul></div><div class='xr-section-details'></div></li><li class='xr-section-item'><input id='section-80fc5b4a-c75e-4235-94ce-432e24148145' class='xr-section-summary-in' type='checkbox'  checked><label for='section-80fc5b4a-c75e-4235-94ce-432e24148145' class='xr-section-summary' >Coordinates: <span>(4)</span></label><div class='xr-section-inline-details'></div><div class='xr-section-details'><ul class='xr-var-list'><li class='xr-var-item'><div class='xr-var-name'><span class='xr-has-index'>layer</span></div><div class='xr-var-dims'>(layer)</div><div class='xr-var-dtype'>int64</div><div class='xr-var-preview xr-preview'>0</div><input id='attrs-5d71c014-9d15-456f-8ea9-ed3f6025b383' class='xr-var-attrs-in' type='checkbox' ><label for='attrs-5d71c014-9d15-456f-8ea9-ed3f6025b383' title='Show/Hide attributes'><svg class='icon xr-icon-file-text2'><use xlink:href='#icon-file-text2'></use></svg></label><input id='data-0f6c14e0-78fc-4354-a0ba-9e320a1b37e9' class='xr-var-data-in' type='checkbox'><label for='data-0f6c14e0-78fc-4354-a0ba-9e320a1b37e9' title='Show/Hide data repr'><svg class='icon xr-icon-database'><use xlink:href='#icon-database'></use></svg></label><div class='xr-var-attrs'><dl class='xr-attrs'><dt><span>axis :</span></dt><dd>Z</dd><dt><span>desc :</span></dt><dd>The layer depth according to Seapodym definition</dd><dt><span>flag_meanings :</span></dt><dd>epipelagic, upper-mesopelagic, lower-mesopelagic</dd><dt><span>flag_values :</span></dt><dd>[0, 1, 2]</dd><dt><span>long_name :</span></dt><dd>Layer depth</dd><dt><span>standard_name :</span></dt><dd>layer</dd></dl></div><div class='xr-var-data'><pre>array([0])</pre></div></li><li class='xr-var-item'><div class='xr-var-name'><span class='xr-has-index'>time</span></div><div class='xr-var-dims'>(time)</div><div class='xr-var-dtype'>datetime64[ns]</div><div class='xr-var-preview xr-preview'>2006-01-31 ... 2007-12-31</div><input id='attrs-d7fe187d-c0e3-4b17-bf30-8cf6ac77f08f' class='xr-var-attrs-in' type='checkbox' ><label for='attrs-d7fe187d-c0e3-4b17-bf30-8cf6ac77f08f' title='Show/Hide attributes'><svg class='icon xr-icon-file-text2'><use xlink:href='#icon-file-text2'></use></svg></label><input id='data-5d52b97d-e836-4b23-9e14-f014039b1e86' class='xr-var-data-in' type='checkbox'><label for='data-5d52b97d-e836-4b23-9e14-f014039b1e86' title='Show/Hide data repr'><svg class='icon xr-icon-database'><use xlink:href='#icon-database'></use></svg></label><div class='xr-var-attrs'><dl class='xr-attrs'><dt><span>axis :</span></dt><dd>T</dd><dt><span>long_name :</span></dt><dd>time</dd><dt><span>standard_name :</span></dt><dd>time</dd></dl></div><div class='xr-var-data'><pre>array([&#x27;2006-01-31T00:00:00.000000000&#x27;, &#x27;2006-02-28T00:00:00.000000000&#x27;,\n",
       "       &#x27;2006-03-31T00:00:00.000000000&#x27;, &#x27;2006-04-30T00:00:00.000000000&#x27;,\n",
       "       &#x27;2006-05-31T00:00:00.000000000&#x27;, &#x27;2006-06-30T00:00:00.000000000&#x27;,\n",
       "       &#x27;2006-07-31T00:00:00.000000000&#x27;, &#x27;2006-08-31T00:00:00.000000000&#x27;,\n",
       "       &#x27;2006-09-30T00:00:00.000000000&#x27;, &#x27;2006-10-31T00:00:00.000000000&#x27;,\n",
       "       &#x27;2006-11-30T00:00:00.000000000&#x27;, &#x27;2006-12-31T00:00:00.000000000&#x27;,\n",
       "       &#x27;2007-01-31T00:00:00.000000000&#x27;, &#x27;2007-02-28T00:00:00.000000000&#x27;,\n",
       "       &#x27;2007-03-31T00:00:00.000000000&#x27;, &#x27;2007-04-30T00:00:00.000000000&#x27;,\n",
       "       &#x27;2007-05-31T00:00:00.000000000&#x27;, &#x27;2007-06-30T00:00:00.000000000&#x27;,\n",
       "       &#x27;2007-07-31T00:00:00.000000000&#x27;, &#x27;2007-08-31T00:00:00.000000000&#x27;,\n",
       "       &#x27;2007-09-30T00:00:00.000000000&#x27;, &#x27;2007-10-31T00:00:00.000000000&#x27;,\n",
       "       &#x27;2007-11-30T00:00:00.000000000&#x27;, &#x27;2007-12-31T00:00:00.000000000&#x27;],\n",
       "      dtype=&#x27;datetime64[ns]&#x27;)</pre></div></li><li class='xr-var-item'><div class='xr-var-name'><span class='xr-has-index'>latitude</span></div><div class='xr-var-dims'>(latitude)</div><div class='xr-var-dtype'>float64</div><div class='xr-var-preview xr-preview'>22.75</div><input id='attrs-8bc8b000-5487-495e-85bf-103c22c14087' class='xr-var-attrs-in' type='checkbox' ><label for='attrs-8bc8b000-5487-495e-85bf-103c22c14087' title='Show/Hide attributes'><svg class='icon xr-icon-file-text2'><use xlink:href='#icon-file-text2'></use></svg></label><input id='data-c36bdf4f-4189-422e-9ec7-6f75da8715f4' class='xr-var-data-in' type='checkbox'><label for='data-c36bdf4f-4189-422e-9ec7-6f75da8715f4' title='Show/Hide data repr'><svg class='icon xr-icon-database'><use xlink:href='#icon-database'></use></svg></label><div class='xr-var-attrs'><dl class='xr-attrs'><dt><span>axis :</span></dt><dd>Y</dd><dt><span>standard_name :</span></dt><dd>latitude</dd><dt><span>units :</span></dt><dd>degrees_north</dd></dl></div><div class='xr-var-data'><pre>array([22.75])</pre></div></li><li class='xr-var-item'><div class='xr-var-name'><span class='xr-has-index'>longitude</span></div><div class='xr-var-dims'>(longitude)</div><div class='xr-var-dtype'>int64</div><div class='xr-var-preview xr-preview'>-158</div><input id='attrs-a4fdcb23-4269-4950-b882-b513c4f9c0b8' class='xr-var-attrs-in' type='checkbox' ><label for='attrs-a4fdcb23-4269-4950-b882-b513c4f9c0b8' title='Show/Hide attributes'><svg class='icon xr-icon-file-text2'><use xlink:href='#icon-file-text2'></use></svg></label><input id='data-2cbe1fcc-e06f-4ac7-82a2-f5975508cdd3' class='xr-var-data-in' type='checkbox'><label for='data-2cbe1fcc-e06f-4ac7-82a2-f5975508cdd3' title='Show/Hide data repr'><svg class='icon xr-icon-database'><use xlink:href='#icon-database'></use></svg></label><div class='xr-var-attrs'><dl class='xr-attrs'><dt><span>axis :</span></dt><dd>X</dd><dt><span>standard_name :</span></dt><dd>longitude</dd><dt><span>units :</span></dt><dd>degrees_east</dd></dl></div><div class='xr-var-data'><pre>array([-158])</pre></div></li></ul></div></li><li class='xr-section-item'><input id='section-53abff77-9d20-4c58-9582-d451d2b1d5bd' class='xr-section-summary-in' type='checkbox'  checked><label for='section-53abff77-9d20-4c58-9582-d451d2b1d5bd' class='xr-section-summary' >Data variables: <span>(2)</span></label><div class='xr-section-inline-details'></div><div class='xr-section-details'><ul class='xr-var-list'><li class='xr-var-item'><div class='xr-var-name'><span>day</span></div><div class='xr-var-dims'>(time, layer, latitude, longitude)</div><div class='xr-var-dtype'>float64</div><div class='xr-var-preview xr-preview'>[mg/m²] 157.9 179.5 ... 204.8 189.3</div><input id='attrs-664461c4-489f-40f8-ba2d-8cb12d2d90e1' class='xr-var-attrs-in' type='checkbox' disabled><label for='attrs-664461c4-489f-40f8-ba2d-8cb12d2d90e1' title='Show/Hide attributes'><svg class='icon xr-icon-file-text2'><use xlink:href='#icon-file-text2'></use></svg></label><input id='data-99c6ecb1-d3c2-459b-8965-706d98d52f9b' class='xr-var-data-in' type='checkbox'><label for='data-99c6ecb1-d3c2-459b-8965-706d98d52f9b' title='Show/Hide data repr'><svg class='icon xr-icon-database'><use xlink:href='#icon-database'></use></svg></label><div class='xr-var-attrs'><dl class='xr-attrs'></dl></div><div class='xr-var-data'><table><tbody><tr><th>Magnitude</th><td style='text-align:left;'><pre>[[[[157.92219924943342]]] [[[179.50290001191829]]] [[[206.9568833881889]]] [[[265.77390000839995]]] [[[281.78101853068074]]] [[[282.22919058899055]]] [[[295.88177275463875]]] [[[313.19485204421545]]] [[[314.33474301409973]]] [[[252.30876534149797]]] [[[204.84900876732033]]] [[[189.26359852904628]]] [[[157.92219924943342]]] [[[179.50290001191829]]] [[[206.9568833881889]]] [[[265.77390000839995]]] [[[281.78101853068074]]] [[[282.22919058899055]]] [[[295.88177275463875]]] [[[313.19485204421545]]] [[[314.33474301409973]]] [[[252.30876534149797]]] [[[204.84900876732033]]] [[[189.26359852904628]]]]</pre></td></tr><tr><th>Units</th><td style='text-align:left;'>milligram/meter<sup>2</sup></td></tr></tbody></table></div></li><li class='xr-var-item'><div class='xr-var-name'><span>night</span></div><div class='xr-var-dims'>(time, layer, latitude, longitude)</div><div class='xr-var-dtype'>float64</div><div class='xr-var-preview xr-preview'>[mg/m²] 237.1 301.6 ... 334.0 290.2</div><input id='attrs-2f39788a-cde6-4b61-9c9b-76afa0ad307a' class='xr-var-attrs-in' type='checkbox' disabled><label for='attrs-2f39788a-cde6-4b61-9c9b-76afa0ad307a' title='Show/Hide attributes'><svg class='icon xr-icon-file-text2'><use xlink:href='#icon-file-text2'></use></svg></label><input id='data-34f7369b-d212-41f8-8917-9231c9203ebd' class='xr-var-data-in' type='checkbox'><label for='data-34f7369b-d212-41f8-8917-9231c9203ebd' title='Show/Hide data repr'><svg class='icon xr-icon-database'><use xlink:href='#icon-database'></use></svg></label><div class='xr-var-attrs'><dl class='xr-attrs'></dl></div><div class='xr-var-data'><table><tbody><tr><th>Magnitude</th><td style='text-align:left;'><pre>[[[[237.0516536022709]]] [[[301.6376319958857]]] [[[337.83226845879244]]] [[[414.48959622350367]]] [[[389.1909678368789]]] [[[421.89365674709336]]] [[[424.06609922351373]]] [[[426.77207432265106]]] [[[418.1004648101298]]] [[[374.8468152741032]]] [[[333.9713931237319]]] [[[290.2018113694168]]] [[[237.0516536022709]]] [[[301.6376319958857]]] [[[337.83226845879244]]] [[[414.48959622350367]]] [[[389.1909678368789]]] [[[421.89365674709336]]] [[[424.06609922351373]]] [[[426.77207432265106]]] [[[418.1004648101298]]] [[[374.8468152741032]]] [[[333.9713931237319]]] [[[290.2018113694168]]]]</pre></td></tr><tr><th>Units</th><td style='text-align:left;'>milligram/meter<sup>2</sup></td></tr></tbody></table></div></li></ul></div></li><li class='xr-section-item'><input id='section-9333f72b-e9da-4b38-a958-14d3af58fc7d' class='xr-section-summary-in' type='checkbox'  ><label for='section-9333f72b-e9da-4b38-a958-14d3af58fc7d' class='xr-section-summary' >Indexes: <span>(4)</span></label><div class='xr-section-inline-details'></div><div class='xr-section-details'><ul class='xr-var-list'><li class='xr-var-item'><div class='xr-index-name'><div>layer</div></div><div class='xr-index-preview'>PandasIndex</div><input type='checkbox' disabled/><label></label><input id='index-e6ccc295-2c62-4e85-a93f-dc43c959c04a' class='xr-index-data-in' type='checkbox'/><label for='index-e6ccc295-2c62-4e85-a93f-dc43c959c04a' title='Show/Hide index repr'><svg class='icon xr-icon-database'><use xlink:href='#icon-database'></use></svg></label><div class='xr-index-data'><pre>PandasIndex(Index([0], dtype=&#x27;int64&#x27;, name=&#x27;layer&#x27;))</pre></div></li><li class='xr-var-item'><div class='xr-index-name'><div>time</div></div><div class='xr-index-preview'>PandasIndex</div><input type='checkbox' disabled/><label></label><input id='index-a98f8113-eb94-4b3b-9131-124a5a5e71f0' class='xr-index-data-in' type='checkbox'/><label for='index-a98f8113-eb94-4b3b-9131-124a5a5e71f0' title='Show/Hide index repr'><svg class='icon xr-icon-database'><use xlink:href='#icon-database'></use></svg></label><div class='xr-index-data'><pre>PandasIndex(DatetimeIndex([&#x27;2006-01-31&#x27;, &#x27;2006-02-28&#x27;, &#x27;2006-03-31&#x27;, &#x27;2006-04-30&#x27;,\n",
       "               &#x27;2006-05-31&#x27;, &#x27;2006-06-30&#x27;, &#x27;2006-07-31&#x27;, &#x27;2006-08-31&#x27;,\n",
       "               &#x27;2006-09-30&#x27;, &#x27;2006-10-31&#x27;, &#x27;2006-11-30&#x27;, &#x27;2006-12-31&#x27;,\n",
       "               &#x27;2007-01-31&#x27;, &#x27;2007-02-28&#x27;, &#x27;2007-03-31&#x27;, &#x27;2007-04-30&#x27;,\n",
       "               &#x27;2007-05-31&#x27;, &#x27;2007-06-30&#x27;, &#x27;2007-07-31&#x27;, &#x27;2007-08-31&#x27;,\n",
       "               &#x27;2007-09-30&#x27;, &#x27;2007-10-31&#x27;, &#x27;2007-11-30&#x27;, &#x27;2007-12-31&#x27;],\n",
       "              dtype=&#x27;datetime64[ns]&#x27;, name=&#x27;time&#x27;, freq=&#x27;ME&#x27;))</pre></div></li><li class='xr-var-item'><div class='xr-index-name'><div>latitude</div></div><div class='xr-index-preview'>PandasIndex</div><input type='checkbox' disabled/><label></label><input id='index-4ee0a16e-378f-4033-8b2b-f49e0949a350' class='xr-index-data-in' type='checkbox'/><label for='index-4ee0a16e-378f-4033-8b2b-f49e0949a350' title='Show/Hide index repr'><svg class='icon xr-icon-database'><use xlink:href='#icon-database'></use></svg></label><div class='xr-index-data'><pre>PandasIndex(Index([22.75], dtype=&#x27;float64&#x27;, name=&#x27;latitude&#x27;))</pre></div></li><li class='xr-var-item'><div class='xr-index-name'><div>longitude</div></div><div class='xr-index-preview'>PandasIndex</div><input type='checkbox' disabled/><label></label><input id='index-f2bc0fba-6eb4-4d3b-883c-292ef4be2a32' class='xr-index-data-in' type='checkbox'/><label for='index-f2bc0fba-6eb4-4d3b-883c-292ef4be2a32' title='Show/Hide index repr'><svg class='icon xr-icon-database'><use xlink:href='#icon-database'></use></svg></label><div class='xr-index-data'><pre>PandasIndex(Index([-158], dtype=&#x27;int64&#x27;, name=&#x27;longitude&#x27;))</pre></div></li></ul></div></li><li class='xr-section-item'><input id='section-629b86c9-f280-4e03-9fe7-5eff129e71d0' class='xr-section-summary-in' type='checkbox' disabled ><label for='section-629b86c9-f280-4e03-9fe7-5eff129e71d0' class='xr-section-summary'  title='Expand/collapse section'>Attributes: <span>(0)</span></label><div class='xr-section-inline-details'></div><div class='xr-section-details'><dl class='xr-attrs'></dl></div></li></ul></div></div>"
      ],
      "text/plain": [
       "<xarray.Dataset> Size: 600B\n",
       "Dimensions:    (layer: 1, time: 24, latitude: 1, longitude: 1)\n",
       "Coordinates:\n",
       "  * layer      (layer) int64 8B 0\n",
       "  * time       (time) datetime64[ns] 192B 2006-01-31 2006-02-28 ... 2007-12-31\n",
       "  * latitude   (latitude) float64 8B 22.75\n",
       "  * longitude  (longitude) int64 8B -158\n",
       "Data variables:\n",
       "    day        (time, layer, latitude, longitude) float64 192B [mg/m²] 157.9 ...\n",
       "    night      (time, layer, latitude, longitude) float64 192B [mg/m²] 237.1 ..."
      ]
     },
     "execution_count": 8,
     "metadata": {},
     "output_type": "execute_result"
    }
   ],
   "source": [
    "observations = observations.isel(time=slice(STABILIZATION_TIME, None))\n",
    "observations"
   ]
  },
  {
   "cell_type": "code",
   "execution_count": 9,
   "metadata": {},
   "outputs": [],
   "source": [
    "# observations_selected = observations[[\"day_lowess_0.2\", \"night_lowess_0.2\"]].rename(\n",
    "#     {\"day_lowess_0.2\": \"day\", \"night_lowess_0.2\": \"night\"}\n",
    "# )\n",
    "\n",
    "obs_night = observations[\"night\"]\n",
    "obs_day = observations[\"day\"]"
   ]
  },
  {
   "cell_type": "markdown",
   "metadata": {},
   "source": [
    "Remove the X first months to let the model reach the stationary state.\n"
   ]
  },
  {
   "cell_type": "markdown",
   "metadata": {},
   "source": [
    "Create structure for SeapoPym simulation.\n"
   ]
  },
  {
   "cell_type": "code",
   "execution_count": 10,
   "metadata": {},
   "outputs": [
    {
     "name": "stderr",
     "output_type": "stream",
     "text": [
      "\u001b[38;5;226m2025-06-10 16:02:02,736 :: Seapodym ::  WARNING ::\n",
      "|\tl12 unit is milligram / day / meter ** 2, it will be converted to kilogram / day / meter ** 2.\n",
      "\u001b[0m\n",
      "\u001b[38;5;226m2025-06-10 16:02:02,738 :: Seapodym ::  WARNING ::\n",
      "|\tl12 unit is milligram / day / meter ** 2, it will be converted to kilogram / day / meter ** 2.\n",
      "\u001b[0m\n"
     ]
    }
   ],
   "source": [
    "forcing_parameters = ForcingParameter(\n",
    "    temperature=ForcingUnit(forcing=forcing[\"T\"]), primary_production=ForcingUnit(forcing=observed_npp[\"l12\"])\n",
    ")"
   ]
  },
  {
   "cell_type": "markdown",
   "metadata": {},
   "source": [
    "## Setup the parameters and the cost function\n"
   ]
  },
  {
   "cell_type": "code",
   "execution_count": 11,
   "metadata": {},
   "outputs": [],
   "source": [
    "functional_groups = [\n",
    "    NoTransportFunctionalGroup(\n",
    "        name=\"D1N1\",\n",
    "        day_layer=0,\n",
    "        night_layer=0,\n",
    "        energy_transfert=Parameter(\"D1N1_energy_transfert\", 0.0001, 0.5),\n",
    "        gamma_tr=Parameter(\"D1N1_gamma_tr\", -0.5, -0.0001),\n",
    "        tr_0=Parameter(\"D1N1_tr_0\", 0, 50),\n",
    "        gamma_lambda_temperature=Parameter(\"D1N1_gamma_lambda_temperature\", 0, 0.5),\n",
    "        lambda_temperature_0=Parameter(\"D1N1_lambda_temperature_0\", 0, 1),\n",
    "    ),\n",
    "    NoTransportFunctionalGroup(\n",
    "        name=\"D2N1\",\n",
    "        day_layer=1,\n",
    "        night_layer=0,\n",
    "        energy_transfert=Parameter(\"D2N1_energy_transfert\", 0.0001, 0.5),\n",
    "        gamma_tr=Parameter(\"D2N1_gamma_tr\", -0.5, -0.0001),\n",
    "        tr_0=Parameter(\"D2N1_tr_0\", 0, 50),\n",
    "        gamma_lambda_temperature=Parameter(\"D2N1_gamma_lambda_temperature\", 0, 0.5),\n",
    "        lambda_temperature_0=Parameter(\"D2N1_lambda_temperature_0\", 1 / 500, 1),\n",
    "    ),\n",
    "]"
   ]
  },
  {
   "cell_type": "code",
   "execution_count": 12,
   "metadata": {},
   "outputs": [],
   "source": [
    "model_generator = NoTransportModelGenerator(forcing_parameters=forcing_parameters)"
   ]
  },
  {
   "cell_type": "code",
   "execution_count": 13,
   "metadata": {},
   "outputs": [],
   "source": [
    "cost_function = SimpleRootMeanSquareErrorCostFunction(\n",
    "    model_generator=model_generator,\n",
    "    observations=[\n",
    "        TimeSeriesObservation(\n",
    "            name=\"Hot climato day\",\n",
    "            observation=obs_day,\n",
    "            observation_type=DayCycle.DAY,\n",
    "            observation_interval=\"1MS\",\n",
    "        ),\n",
    "        TimeSeriesObservation(\n",
    "            name=\"Hot climato night\",\n",
    "            observation=obs_night,\n",
    "            observation_type=DayCycle.NIGHT,\n",
    "            observation_interval=\"1MS\",\n",
    "        ),\n",
    "    ],\n",
    "    functional_groups=functional_groups,\n",
    "    root_mse=True,\n",
    "    normalized_mse=True,\n",
    "    centered_mse=False,\n",
    ")"
   ]
  },
  {
   "cell_type": "markdown",
   "metadata": {},
   "source": [
    "Set the genetic algorithm meta parameters.\n"
   ]
  },
  {
   "cell_type": "code",
   "execution_count": 14,
   "metadata": {},
   "outputs": [],
   "source": [
    "genetic_algo_parameters = SimpleGeneticAlgorithmParameters(\n",
    "    MUTPB=0.30,\n",
    "    INDPB=0.2,\n",
    "    ETA=5,\n",
    "    CXPB=0.7,\n",
    "    NGEN=2,\n",
    "    POP_SIZE=1000,\n",
    "    cost_function_weight=(-1, -1),\n",
    ")"
   ]
  },
  {
   "cell_type": "markdown",
   "metadata": {},
   "source": [
    "Finaly, create the Genetic Algorithm.\n"
   ]
  },
  {
   "cell_type": "code",
   "execution_count": 15,
   "metadata": {},
   "outputs": [],
   "source": [
    "logbook_path = Path(f\"./{export_file_name}_logbook.parquet\")\n",
    "logbook = pd.read_parquet(logbook_path) if logbook_path.exists() else None"
   ]
  },
  {
   "cell_type": "code",
   "execution_count": 16,
   "metadata": {},
   "outputs": [
    {
     "name": "stderr",
     "output_type": "stream",
     "text": [
      "/Users/adm-lehodey/Documents/Workspace/Projects/Seapopym-optimisation/.venv/lib/python3.13/site-packages/distributed/node.py:187: UserWarning: Port 8787 is already in use.\n",
      "Perhaps you already have a cluster running?\n",
      "Hosting the HTTP server on port 61745 instead\n",
      "  warnings.warn(\n",
      "Logbook file SeapoPym_biomass_HOT_climato_obs_npp_2_groups_logbook.parquet already exists. Please choose a different path.\n"
     ]
    }
   ],
   "source": [
    "client = Client()\n",
    "genetic_algo = SimpleGeneticAlgorithm(\n",
    "    meta_parameter=genetic_algo_parameters,\n",
    "    cost_function=cost_function,\n",
    "    client=client,\n",
    "    logbook=logbook,\n",
    "    save=logbook_path,\n",
    ")"
   ]
  },
  {
   "cell_type": "markdown",
   "metadata": {},
   "source": [
    "And watch the magic on the Dask dashboard :\n"
   ]
  },
  {
   "cell_type": "code",
   "execution_count": 17,
   "metadata": {},
   "outputs": [
    {
     "data": {
      "text/html": [
       "<div>\n",
       "    <div style=\"width: 24px; height: 24px; background-color: #e1e1e1; border: 3px solid #9D9D9D; border-radius: 5px; position: absolute;\"> </div>\n",
       "    <div style=\"margin-left: 48px;\">\n",
       "        <h3 style=\"margin-bottom: 0px;\">Client</h3>\n",
       "        <p style=\"color: #9D9D9D; margin-bottom: 0px;\">Client-7c12cc8c-4603-11f0-8fb1-36240d3e2cc4</p>\n",
       "        <table style=\"width: 100%; text-align: left;\">\n",
       "\n",
       "        <tr>\n",
       "        \n",
       "            <td style=\"text-align: left;\"><strong>Connection method:</strong> Cluster object</td>\n",
       "            <td style=\"text-align: left;\"><strong>Cluster type:</strong> distributed.LocalCluster</td>\n",
       "        \n",
       "        </tr>\n",
       "\n",
       "        \n",
       "            <tr>\n",
       "                <td style=\"text-align: left;\">\n",
       "                    <strong>Dashboard: </strong> <a href=\"http://127.0.0.1:61745/status\" target=\"_blank\">http://127.0.0.1:61745/status</a>\n",
       "                </td>\n",
       "                <td style=\"text-align: left;\"></td>\n",
       "            </tr>\n",
       "        \n",
       "\n",
       "        </table>\n",
       "\n",
       "        \n",
       "\n",
       "        \n",
       "            <details>\n",
       "            <summary style=\"margin-bottom: 20px;\"><h3 style=\"display: inline;\">Cluster Info</h3></summary>\n",
       "            <div class=\"jp-RenderedHTMLCommon jp-RenderedHTML jp-mod-trusted jp-OutputArea-output\">\n",
       "    <div style=\"width: 24px; height: 24px; background-color: #e1e1e1; border: 3px solid #9D9D9D; border-radius: 5px; position: absolute;\">\n",
       "    </div>\n",
       "    <div style=\"margin-left: 48px;\">\n",
       "        <h3 style=\"margin-bottom: 0px; margin-top: 0px;\">LocalCluster</h3>\n",
       "        <p style=\"color: #9D9D9D; margin-bottom: 0px;\">d33ffd11</p>\n",
       "        <table style=\"width: 100%; text-align: left;\">\n",
       "            <tr>\n",
       "                <td style=\"text-align: left;\">\n",
       "                    <strong>Dashboard:</strong> <a href=\"http://127.0.0.1:61745/status\" target=\"_blank\">http://127.0.0.1:61745/status</a>\n",
       "                </td>\n",
       "                <td style=\"text-align: left;\">\n",
       "                    <strong>Workers:</strong> 4\n",
       "                </td>\n",
       "            </tr>\n",
       "            <tr>\n",
       "                <td style=\"text-align: left;\">\n",
       "                    <strong>Total threads:</strong> 12\n",
       "                </td>\n",
       "                <td style=\"text-align: left;\">\n",
       "                    <strong>Total memory:</strong> 48.00 GiB\n",
       "                </td>\n",
       "            </tr>\n",
       "            \n",
       "            <tr>\n",
       "    <td style=\"text-align: left;\"><strong>Status:</strong> running</td>\n",
       "    <td style=\"text-align: left;\"><strong>Using processes:</strong> True</td>\n",
       "</tr>\n",
       "\n",
       "            \n",
       "        </table>\n",
       "\n",
       "        <details>\n",
       "            <summary style=\"margin-bottom: 20px;\">\n",
       "                <h3 style=\"display: inline;\">Scheduler Info</h3>\n",
       "            </summary>\n",
       "\n",
       "            <div style=\"\">\n",
       "    <div>\n",
       "        <div style=\"width: 24px; height: 24px; background-color: #FFF7E5; border: 3px solid #FF6132; border-radius: 5px; position: absolute;\"> </div>\n",
       "        <div style=\"margin-left: 48px;\">\n",
       "            <h3 style=\"margin-bottom: 0px;\">Scheduler</h3>\n",
       "            <p style=\"color: #9D9D9D; margin-bottom: 0px;\">Scheduler-d0585710-5c90-4336-90ce-bf14f03008b7</p>\n",
       "            <table style=\"width: 100%; text-align: left;\">\n",
       "                <tr>\n",
       "                    <td style=\"text-align: left;\">\n",
       "                        <strong>Comm:</strong> tcp://127.0.0.1:61746\n",
       "                    </td>\n",
       "                    <td style=\"text-align: left;\">\n",
       "                        <strong>Workers:</strong> 0 \n",
       "                    </td>\n",
       "                </tr>\n",
       "                <tr>\n",
       "                    <td style=\"text-align: left;\">\n",
       "                        <strong>Dashboard:</strong> <a href=\"http://127.0.0.1:61745/status\" target=\"_blank\">http://127.0.0.1:61745/status</a>\n",
       "                    </td>\n",
       "                    <td style=\"text-align: left;\">\n",
       "                        <strong>Total threads:</strong> 0\n",
       "                    </td>\n",
       "                </tr>\n",
       "                <tr>\n",
       "                    <td style=\"text-align: left;\">\n",
       "                        <strong>Started:</strong> Just now\n",
       "                    </td>\n",
       "                    <td style=\"text-align: left;\">\n",
       "                        <strong>Total memory:</strong> 0 B\n",
       "                    </td>\n",
       "                </tr>\n",
       "            </table>\n",
       "        </div>\n",
       "    </div>\n",
       "\n",
       "    <details style=\"margin-left: 48px;\">\n",
       "        <summary style=\"margin-bottom: 20px;\">\n",
       "            <h3 style=\"display: inline;\">Workers</h3>\n",
       "        </summary>\n",
       "\n",
       "        \n",
       "        <div style=\"margin-bottom: 20px;\">\n",
       "            <div style=\"width: 24px; height: 24px; background-color: #DBF5FF; border: 3px solid #4CC9FF; border-radius: 5px; position: absolute;\"> </div>\n",
       "            <div style=\"margin-left: 48px;\">\n",
       "            <details>\n",
       "                <summary>\n",
       "                    <h4 style=\"margin-bottom: 0px; display: inline;\">Worker: 0</h4>\n",
       "                </summary>\n",
       "                <table style=\"width: 100%; text-align: left;\">\n",
       "                    <tr>\n",
       "                        <td style=\"text-align: left;\">\n",
       "                            <strong>Comm: </strong> tcp://127.0.0.1:61758\n",
       "                        </td>\n",
       "                        <td style=\"text-align: left;\">\n",
       "                            <strong>Total threads: </strong> 3\n",
       "                        </td>\n",
       "                    </tr>\n",
       "                    <tr>\n",
       "                        <td style=\"text-align: left;\">\n",
       "                            <strong>Dashboard: </strong> <a href=\"http://127.0.0.1:61762/status\" target=\"_blank\">http://127.0.0.1:61762/status</a>\n",
       "                        </td>\n",
       "                        <td style=\"text-align: left;\">\n",
       "                            <strong>Memory: </strong> 12.00 GiB\n",
       "                        </td>\n",
       "                    </tr>\n",
       "                    <tr>\n",
       "                        <td style=\"text-align: left;\">\n",
       "                            <strong>Nanny: </strong> tcp://127.0.0.1:61749\n",
       "                        </td>\n",
       "                        <td style=\"text-align: left;\"></td>\n",
       "                    </tr>\n",
       "                    <tr>\n",
       "                        <td colspan=\"2\" style=\"text-align: left;\">\n",
       "                            <strong>Local directory: </strong> /var/folders/z_/8j3qx1mn0299kkpjgz9g53780000gq/T/dask-scratch-space/worker-kwb7ka9q\n",
       "                        </td>\n",
       "                    </tr>\n",
       "\n",
       "                    \n",
       "\n",
       "                    \n",
       "\n",
       "                </table>\n",
       "            </details>\n",
       "            </div>\n",
       "        </div>\n",
       "        \n",
       "        <div style=\"margin-bottom: 20px;\">\n",
       "            <div style=\"width: 24px; height: 24px; background-color: #DBF5FF; border: 3px solid #4CC9FF; border-radius: 5px; position: absolute;\"> </div>\n",
       "            <div style=\"margin-left: 48px;\">\n",
       "            <details>\n",
       "                <summary>\n",
       "                    <h4 style=\"margin-bottom: 0px; display: inline;\">Worker: 1</h4>\n",
       "                </summary>\n",
       "                <table style=\"width: 100%; text-align: left;\">\n",
       "                    <tr>\n",
       "                        <td style=\"text-align: left;\">\n",
       "                            <strong>Comm: </strong> tcp://127.0.0.1:61759\n",
       "                        </td>\n",
       "                        <td style=\"text-align: left;\">\n",
       "                            <strong>Total threads: </strong> 3\n",
       "                        </td>\n",
       "                    </tr>\n",
       "                    <tr>\n",
       "                        <td style=\"text-align: left;\">\n",
       "                            <strong>Dashboard: </strong> <a href=\"http://127.0.0.1:61761/status\" target=\"_blank\">http://127.0.0.1:61761/status</a>\n",
       "                        </td>\n",
       "                        <td style=\"text-align: left;\">\n",
       "                            <strong>Memory: </strong> 12.00 GiB\n",
       "                        </td>\n",
       "                    </tr>\n",
       "                    <tr>\n",
       "                        <td style=\"text-align: left;\">\n",
       "                            <strong>Nanny: </strong> tcp://127.0.0.1:61751\n",
       "                        </td>\n",
       "                        <td style=\"text-align: left;\"></td>\n",
       "                    </tr>\n",
       "                    <tr>\n",
       "                        <td colspan=\"2\" style=\"text-align: left;\">\n",
       "                            <strong>Local directory: </strong> /var/folders/z_/8j3qx1mn0299kkpjgz9g53780000gq/T/dask-scratch-space/worker-kz5c5fze\n",
       "                        </td>\n",
       "                    </tr>\n",
       "\n",
       "                    \n",
       "\n",
       "                    \n",
       "\n",
       "                </table>\n",
       "            </details>\n",
       "            </div>\n",
       "        </div>\n",
       "        \n",
       "        <div style=\"margin-bottom: 20px;\">\n",
       "            <div style=\"width: 24px; height: 24px; background-color: #DBF5FF; border: 3px solid #4CC9FF; border-radius: 5px; position: absolute;\"> </div>\n",
       "            <div style=\"margin-left: 48px;\">\n",
       "            <details>\n",
       "                <summary>\n",
       "                    <h4 style=\"margin-bottom: 0px; display: inline;\">Worker: 2</h4>\n",
       "                </summary>\n",
       "                <table style=\"width: 100%; text-align: left;\">\n",
       "                    <tr>\n",
       "                        <td style=\"text-align: left;\">\n",
       "                            <strong>Comm: </strong> tcp://127.0.0.1:61757\n",
       "                        </td>\n",
       "                        <td style=\"text-align: left;\">\n",
       "                            <strong>Total threads: </strong> 3\n",
       "                        </td>\n",
       "                    </tr>\n",
       "                    <tr>\n",
       "                        <td style=\"text-align: left;\">\n",
       "                            <strong>Dashboard: </strong> <a href=\"http://127.0.0.1:61763/status\" target=\"_blank\">http://127.0.0.1:61763/status</a>\n",
       "                        </td>\n",
       "                        <td style=\"text-align: left;\">\n",
       "                            <strong>Memory: </strong> 12.00 GiB\n",
       "                        </td>\n",
       "                    </tr>\n",
       "                    <tr>\n",
       "                        <td style=\"text-align: left;\">\n",
       "                            <strong>Nanny: </strong> tcp://127.0.0.1:61753\n",
       "                        </td>\n",
       "                        <td style=\"text-align: left;\"></td>\n",
       "                    </tr>\n",
       "                    <tr>\n",
       "                        <td colspan=\"2\" style=\"text-align: left;\">\n",
       "                            <strong>Local directory: </strong> /var/folders/z_/8j3qx1mn0299kkpjgz9g53780000gq/T/dask-scratch-space/worker-rxx9hwyd\n",
       "                        </td>\n",
       "                    </tr>\n",
       "\n",
       "                    \n",
       "\n",
       "                    \n",
       "\n",
       "                </table>\n",
       "            </details>\n",
       "            </div>\n",
       "        </div>\n",
       "        \n",
       "        <div style=\"margin-bottom: 20px;\">\n",
       "            <div style=\"width: 24px; height: 24px; background-color: #DBF5FF; border: 3px solid #4CC9FF; border-radius: 5px; position: absolute;\"> </div>\n",
       "            <div style=\"margin-left: 48px;\">\n",
       "            <details>\n",
       "                <summary>\n",
       "                    <h4 style=\"margin-bottom: 0px; display: inline;\">Worker: 3</h4>\n",
       "                </summary>\n",
       "                <table style=\"width: 100%; text-align: left;\">\n",
       "                    <tr>\n",
       "                        <td style=\"text-align: left;\">\n",
       "                            <strong>Comm: </strong> tcp://127.0.0.1:61760\n",
       "                        </td>\n",
       "                        <td style=\"text-align: left;\">\n",
       "                            <strong>Total threads: </strong> 3\n",
       "                        </td>\n",
       "                    </tr>\n",
       "                    <tr>\n",
       "                        <td style=\"text-align: left;\">\n",
       "                            <strong>Dashboard: </strong> <a href=\"http://127.0.0.1:61767/status\" target=\"_blank\">http://127.0.0.1:61767/status</a>\n",
       "                        </td>\n",
       "                        <td style=\"text-align: left;\">\n",
       "                            <strong>Memory: </strong> 12.00 GiB\n",
       "                        </td>\n",
       "                    </tr>\n",
       "                    <tr>\n",
       "                        <td style=\"text-align: left;\">\n",
       "                            <strong>Nanny: </strong> tcp://127.0.0.1:61755\n",
       "                        </td>\n",
       "                        <td style=\"text-align: left;\"></td>\n",
       "                    </tr>\n",
       "                    <tr>\n",
       "                        <td colspan=\"2\" style=\"text-align: left;\">\n",
       "                            <strong>Local directory: </strong> /var/folders/z_/8j3qx1mn0299kkpjgz9g53780000gq/T/dask-scratch-space/worker-ikmfa4xr\n",
       "                        </td>\n",
       "                    </tr>\n",
       "\n",
       "                    \n",
       "\n",
       "                    \n",
       "\n",
       "                </table>\n",
       "            </details>\n",
       "            </div>\n",
       "        </div>\n",
       "        \n",
       "\n",
       "    </details>\n",
       "</div>\n",
       "\n",
       "        </details>\n",
       "    </div>\n",
       "</div>\n",
       "            </details>\n",
       "        \n",
       "\n",
       "    </div>\n",
       "</div>"
      ],
      "text/plain": [
       "<Client: 'tcp://127.0.0.1:61746' processes=4 threads=12, memory=48.00 GiB>"
      ]
     },
     "execution_count": 17,
     "metadata": {},
     "output_type": "execute_result"
    }
   ],
   "source": [
    "genetic_algo.client"
   ]
  },
  {
   "cell_type": "markdown",
   "metadata": {},
   "source": [
    "## Run the optimization\n"
   ]
  },
  {
   "cell_type": "code",
   "execution_count": 18,
   "metadata": {},
   "outputs": [],
   "source": [
    "viewer = genetic_algo.optimize()"
   ]
  },
  {
   "cell_type": "markdown",
   "metadata": {},
   "source": [
    "## Optimization statistics\n"
   ]
  },
  {
   "cell_type": "code",
   "execution_count": 19,
   "metadata": {},
   "outputs": [
    {
     "data": {
      "text/html": [
       "<div>\n",
       "<style scoped>\n",
       "    .dataframe tbody tr th:only-of-type {\n",
       "        vertical-align: middle;\n",
       "    }\n",
       "\n",
       "    .dataframe tbody tr th {\n",
       "        vertical-align: top;\n",
       "    }\n",
       "\n",
       "    .dataframe thead tr th {\n",
       "        text-align: left;\n",
       "    }\n",
       "\n",
       "    .dataframe thead tr:last-of-type th {\n",
       "        text-align: right;\n",
       "    }\n",
       "</style>\n",
       "<table border=\"1\" class=\"dataframe\">\n",
       "  <thead>\n",
       "    <tr>\n",
       "      <th></th>\n",
       "      <th></th>\n",
       "      <th>category</th>\n",
       "      <th colspan=\"10\" halign=\"left\">Parametre</th>\n",
       "      <th colspan=\"2\" halign=\"left\">Fitness</th>\n",
       "      <th>Weighted_fitness</th>\n",
       "    </tr>\n",
       "    <tr>\n",
       "      <th></th>\n",
       "      <th></th>\n",
       "      <th>name</th>\n",
       "      <th>D1N1_energy_transfert</th>\n",
       "      <th>D1N1_lambda_temperature_0</th>\n",
       "      <th>D1N1_gamma_lambda_temperature</th>\n",
       "      <th>D1N1_tr_0</th>\n",
       "      <th>D1N1_gamma_tr</th>\n",
       "      <th>D2N1_energy_transfert</th>\n",
       "      <th>D2N1_lambda_temperature_0</th>\n",
       "      <th>D2N1_gamma_lambda_temperature</th>\n",
       "      <th>D2N1_tr_0</th>\n",
       "      <th>D2N1_gamma_tr</th>\n",
       "      <th>Hot climato day</th>\n",
       "      <th>Hot climato night</th>\n",
       "      <th>Weighted_fitness</th>\n",
       "    </tr>\n",
       "    <tr>\n",
       "      <th>Generation</th>\n",
       "      <th>Is_From_Previous_Generation</th>\n",
       "      <th>Individual</th>\n",
       "      <th></th>\n",
       "      <th></th>\n",
       "      <th></th>\n",
       "      <th></th>\n",
       "      <th></th>\n",
       "      <th></th>\n",
       "      <th></th>\n",
       "      <th></th>\n",
       "      <th></th>\n",
       "      <th></th>\n",
       "      <th></th>\n",
       "      <th></th>\n",
       "      <th></th>\n",
       "    </tr>\n",
       "  </thead>\n",
       "  <tbody>\n",
       "    <tr>\n",
       "      <th rowspan=\"3\" valign=\"top\">1</th>\n",
       "      <th rowspan=\"3\" valign=\"top\">False</th>\n",
       "      <th>552</th>\n",
       "      <td>0.268390</td>\n",
       "      <td>0.453940</td>\n",
       "      <td>0.001554</td>\n",
       "      <td>31.382466</td>\n",
       "      <td>-0.096522</td>\n",
       "      <td>0.215932</td>\n",
       "      <td>0.654755</td>\n",
       "      <td>0.046300</td>\n",
       "      <td>43.373309</td>\n",
       "      <td>-0.240793</td>\n",
       "      <td>0.334031</td>\n",
       "      <td>0.460549</td>\n",
       "      <td>-0.397290</td>\n",
       "    </tr>\n",
       "    <tr>\n",
       "      <th>983</th>\n",
       "      <td>0.439603</td>\n",
       "      <td>0.112436</td>\n",
       "      <td>0.091921</td>\n",
       "      <td>5.931684</td>\n",
       "      <td>-0.414373</td>\n",
       "      <td>0.373778</td>\n",
       "      <td>0.680173</td>\n",
       "      <td>0.237975</td>\n",
       "      <td>34.825846</td>\n",
       "      <td>-0.140412</td>\n",
       "      <td>0.353480</td>\n",
       "      <td>0.446470</td>\n",
       "      <td>-0.399975</td>\n",
       "    </tr>\n",
       "    <tr>\n",
       "      <th>267</th>\n",
       "      <td>0.102506</td>\n",
       "      <td>0.075521</td>\n",
       "      <td>0.033986</td>\n",
       "      <td>47.199822</td>\n",
       "      <td>-0.405060</td>\n",
       "      <td>0.310838</td>\n",
       "      <td>0.514112</td>\n",
       "      <td>0.062564</td>\n",
       "      <td>36.332265</td>\n",
       "      <td>-0.170049</td>\n",
       "      <td>0.418159</td>\n",
       "      <td>0.383302</td>\n",
       "      <td>-0.400731</td>\n",
       "    </tr>\n",
       "    <tr>\n",
       "      <th>0</th>\n",
       "      <th>False</th>\n",
       "      <th>143</th>\n",
       "      <td>0.439603</td>\n",
       "      <td>0.112436</td>\n",
       "      <td>0.091921</td>\n",
       "      <td>23.543651</td>\n",
       "      <td>-0.158064</td>\n",
       "      <td>0.272507</td>\n",
       "      <td>0.624187</td>\n",
       "      <td>0.273048</td>\n",
       "      <td>23.602726</td>\n",
       "      <td>-0.140412</td>\n",
       "      <td>0.353480</td>\n",
       "      <td>0.493200</td>\n",
       "      <td>-0.423340</td>\n",
       "    </tr>\n",
       "    <tr>\n",
       "      <th>1</th>\n",
       "      <th>False</th>\n",
       "      <th>210</th>\n",
       "      <td>0.345955</td>\n",
       "      <td>0.203560</td>\n",
       "      <td>0.046925</td>\n",
       "      <td>47.648353</td>\n",
       "      <td>-0.150680</td>\n",
       "      <td>0.252819</td>\n",
       "      <td>0.794460</td>\n",
       "      <td>0.265386</td>\n",
       "      <td>46.901821</td>\n",
       "      <td>-0.403068</td>\n",
       "      <td>0.476845</td>\n",
       "      <td>0.390776</td>\n",
       "      <td>-0.433810</td>\n",
       "    </tr>\n",
       "    <tr>\n",
       "      <th>...</th>\n",
       "      <th>...</th>\n",
       "      <th>...</th>\n",
       "      <td>...</td>\n",
       "      <td>...</td>\n",
       "      <td>...</td>\n",
       "      <td>...</td>\n",
       "      <td>...</td>\n",
       "      <td>...</td>\n",
       "      <td>...</td>\n",
       "      <td>...</td>\n",
       "      <td>...</td>\n",
       "      <td>...</td>\n",
       "      <td>...</td>\n",
       "      <td>...</td>\n",
       "      <td>...</td>\n",
       "    </tr>\n",
       "    <tr>\n",
       "      <th>0</th>\n",
       "      <th>False</th>\n",
       "      <th>504</th>\n",
       "      <td>0.410737</td>\n",
       "      <td>0.010483</td>\n",
       "      <td>0.046786</td>\n",
       "      <td>45.698724</td>\n",
       "      <td>-0.175230</td>\n",
       "      <td>0.482446</td>\n",
       "      <td>0.104989</td>\n",
       "      <td>0.284354</td>\n",
       "      <td>5.394721</td>\n",
       "      <td>-0.230007</td>\n",
       "      <td>84.032915</td>\n",
       "      <td>73.881555</td>\n",
       "      <td>-78.957235</td>\n",
       "    </tr>\n",
       "    <tr>\n",
       "      <th rowspan=\"2\" valign=\"top\">1</th>\n",
       "      <th rowspan=\"2\" valign=\"top\">False</th>\n",
       "      <th>926</th>\n",
       "      <td>0.447778</td>\n",
       "      <td>0.468523</td>\n",
       "      <td>0.216547</td>\n",
       "      <td>42.170569</td>\n",
       "      <td>-0.135169</td>\n",
       "      <td>0.304928</td>\n",
       "      <td>0.007996</td>\n",
       "      <td>0.011636</td>\n",
       "      <td>11.510034</td>\n",
       "      <td>-0.444039</td>\n",
       "      <td>1.729581</td>\n",
       "      <td>174.379170</td>\n",
       "      <td>-88.054375</td>\n",
       "    </tr>\n",
       "    <tr>\n",
       "      <th>987</th>\n",
       "      <td>0.357464</td>\n",
       "      <td>0.428457</td>\n",
       "      <td>0.161482</td>\n",
       "      <td>22.761703</td>\n",
       "      <td>-0.021170</td>\n",
       "      <td>0.304928</td>\n",
       "      <td>0.007996</td>\n",
       "      <td>0.011636</td>\n",
       "      <td>10.077266</td>\n",
       "      <td>-0.112593</td>\n",
       "      <td>2.348707</td>\n",
       "      <td>173.865180</td>\n",
       "      <td>-88.106944</td>\n",
       "    </tr>\n",
       "    <tr>\n",
       "      <th rowspan=\"2\" valign=\"top\">0</th>\n",
       "      <th rowspan=\"2\" valign=\"top\">False</th>\n",
       "      <th>819</th>\n",
       "      <td>0.357464</td>\n",
       "      <td>0.445612</td>\n",
       "      <td>0.161482</td>\n",
       "      <td>22.761703</td>\n",
       "      <td>-0.021170</td>\n",
       "      <td>0.304928</td>\n",
       "      <td>0.007996</td>\n",
       "      <td>0.011636</td>\n",
       "      <td>10.077266</td>\n",
       "      <td>-0.112593</td>\n",
       "      <td>2.348707</td>\n",
       "      <td>173.865180</td>\n",
       "      <td>-88.106944</td>\n",
       "    </tr>\n",
       "    <tr>\n",
       "      <th>966</th>\n",
       "      <td>0.231790</td>\n",
       "      <td>0.002733</td>\n",
       "      <td>0.024206</td>\n",
       "      <td>19.041981</td>\n",
       "      <td>-0.235665</td>\n",
       "      <td>0.235592</td>\n",
       "      <td>0.114009</td>\n",
       "      <td>0.239952</td>\n",
       "      <td>31.009180</td>\n",
       "      <td>-0.300797</td>\n",
       "      <td>299.798952</td>\n",
       "      <td>259.778414</td>\n",
       "      <td>-279.788683</td>\n",
       "    </tr>\n",
       "  </tbody>\n",
       "</table>\n",
       "<p>1766 rows × 13 columns</p>\n",
       "</div>"
      ],
      "text/plain": [
       "category                                                      Parametre  \\\n",
       "name                                              D1N1_energy_transfert   \n",
       "Generation Is_From_Previous_Generation Individual                         \n",
       "1          False                       552                     0.268390   \n",
       "                                       983                     0.439603   \n",
       "                                       267                     0.102506   \n",
       "0          False                       143                     0.439603   \n",
       "1          False                       210                     0.345955   \n",
       "...                                                                 ...   \n",
       "0          False                       504                     0.410737   \n",
       "1          False                       926                     0.447778   \n",
       "                                       987                     0.357464   \n",
       "0          False                       819                     0.357464   \n",
       "                                       966                     0.231790   \n",
       "\n",
       "category                                                                     \\\n",
       "name                                              D1N1_lambda_temperature_0   \n",
       "Generation Is_From_Previous_Generation Individual                             \n",
       "1          False                       552                         0.453940   \n",
       "                                       983                         0.112436   \n",
       "                                       267                         0.075521   \n",
       "0          False                       143                         0.112436   \n",
       "1          False                       210                         0.203560   \n",
       "...                                                                     ...   \n",
       "0          False                       504                         0.010483   \n",
       "1          False                       926                         0.468523   \n",
       "                                       987                         0.428457   \n",
       "0          False                       819                         0.445612   \n",
       "                                       966                         0.002733   \n",
       "\n",
       "category                                                                         \\\n",
       "name                                              D1N1_gamma_lambda_temperature   \n",
       "Generation Is_From_Previous_Generation Individual                                 \n",
       "1          False                       552                             0.001554   \n",
       "                                       983                             0.091921   \n",
       "                                       267                             0.033986   \n",
       "0          False                       143                             0.091921   \n",
       "1          False                       210                             0.046925   \n",
       "...                                                                         ...   \n",
       "0          False                       504                             0.046786   \n",
       "1          False                       926                             0.216547   \n",
       "                                       987                             0.161482   \n",
       "0          False                       819                             0.161482   \n",
       "                                       966                             0.024206   \n",
       "\n",
       "category                                                                    \\\n",
       "name                                               D1N1_tr_0 D1N1_gamma_tr   \n",
       "Generation Is_From_Previous_Generation Individual                            \n",
       "1          False                       552         31.382466     -0.096522   \n",
       "                                       983          5.931684     -0.414373   \n",
       "                                       267         47.199822     -0.405060   \n",
       "0          False                       143         23.543651     -0.158064   \n",
       "1          False                       210         47.648353     -0.150680   \n",
       "...                                                      ...           ...   \n",
       "0          False                       504         45.698724     -0.175230   \n",
       "1          False                       926         42.170569     -0.135169   \n",
       "                                       987         22.761703     -0.021170   \n",
       "0          False                       819         22.761703     -0.021170   \n",
       "                                       966         19.041981     -0.235665   \n",
       "\n",
       "category                                                                 \\\n",
       "name                                              D2N1_energy_transfert   \n",
       "Generation Is_From_Previous_Generation Individual                         \n",
       "1          False                       552                     0.215932   \n",
       "                                       983                     0.373778   \n",
       "                                       267                     0.310838   \n",
       "0          False                       143                     0.272507   \n",
       "1          False                       210                     0.252819   \n",
       "...                                                                 ...   \n",
       "0          False                       504                     0.482446   \n",
       "1          False                       926                     0.304928   \n",
       "                                       987                     0.304928   \n",
       "0          False                       819                     0.304928   \n",
       "                                       966                     0.235592   \n",
       "\n",
       "category                                                                     \\\n",
       "name                                              D2N1_lambda_temperature_0   \n",
       "Generation Is_From_Previous_Generation Individual                             \n",
       "1          False                       552                         0.654755   \n",
       "                                       983                         0.680173   \n",
       "                                       267                         0.514112   \n",
       "0          False                       143                         0.624187   \n",
       "1          False                       210                         0.794460   \n",
       "...                                                                     ...   \n",
       "0          False                       504                         0.104989   \n",
       "1          False                       926                         0.007996   \n",
       "                                       987                         0.007996   \n",
       "0          False                       819                         0.007996   \n",
       "                                       966                         0.114009   \n",
       "\n",
       "category                                                                         \\\n",
       "name                                              D2N1_gamma_lambda_temperature   \n",
       "Generation Is_From_Previous_Generation Individual                                 \n",
       "1          False                       552                             0.046300   \n",
       "                                       983                             0.237975   \n",
       "                                       267                             0.062564   \n",
       "0          False                       143                             0.273048   \n",
       "1          False                       210                             0.265386   \n",
       "...                                                                         ...   \n",
       "0          False                       504                             0.284354   \n",
       "1          False                       926                             0.011636   \n",
       "                                       987                             0.011636   \n",
       "0          False                       819                             0.011636   \n",
       "                                       966                             0.239952   \n",
       "\n",
       "category                                                                    \\\n",
       "name                                               D2N1_tr_0 D2N1_gamma_tr   \n",
       "Generation Is_From_Previous_Generation Individual                            \n",
       "1          False                       552         43.373309     -0.240793   \n",
       "                                       983         34.825846     -0.140412   \n",
       "                                       267         36.332265     -0.170049   \n",
       "0          False                       143         23.602726     -0.140412   \n",
       "1          False                       210         46.901821     -0.403068   \n",
       "...                                                      ...           ...   \n",
       "0          False                       504          5.394721     -0.230007   \n",
       "1          False                       926         11.510034     -0.444039   \n",
       "                                       987         10.077266     -0.112593   \n",
       "0          False                       819         10.077266     -0.112593   \n",
       "                                       966         31.009180     -0.300797   \n",
       "\n",
       "category                                                  Fitness  \\\n",
       "name                                              Hot climato day   \n",
       "Generation Is_From_Previous_Generation Individual                   \n",
       "1          False                       552               0.334031   \n",
       "                                       983               0.353480   \n",
       "                                       267               0.418159   \n",
       "0          False                       143               0.353480   \n",
       "1          False                       210               0.476845   \n",
       "...                                                           ...   \n",
       "0          False                       504              84.032915   \n",
       "1          False                       926               1.729581   \n",
       "                                       987               2.348707   \n",
       "0          False                       819               2.348707   \n",
       "                                       966             299.798952   \n",
       "\n",
       "category                                                             \\\n",
       "name                                              Hot climato night   \n",
       "Generation Is_From_Previous_Generation Individual                     \n",
       "1          False                       552                 0.460549   \n",
       "                                       983                 0.446470   \n",
       "                                       267                 0.383302   \n",
       "0          False                       143                 0.493200   \n",
       "1          False                       210                 0.390776   \n",
       "...                                                             ...   \n",
       "0          False                       504                73.881555   \n",
       "1          False                       926               174.379170   \n",
       "                                       987               173.865180   \n",
       "0          False                       819               173.865180   \n",
       "                                       966               259.778414   \n",
       "\n",
       "category                                          Weighted_fitness  \n",
       "name                                              Weighted_fitness  \n",
       "Generation Is_From_Previous_Generation Individual                   \n",
       "1          False                       552               -0.397290  \n",
       "                                       983               -0.399975  \n",
       "                                       267               -0.400731  \n",
       "0          False                       143               -0.423340  \n",
       "1          False                       210               -0.433810  \n",
       "...                                                            ...  \n",
       "0          False                       504              -78.957235  \n",
       "1          False                       926              -88.054375  \n",
       "                                       987              -88.106944  \n",
       "0          False                       819              -88.106944  \n",
       "                                       966             -279.788683  \n",
       "\n",
       "[1766 rows x 13 columns]"
      ]
     },
     "execution_count": 19,
     "metadata": {},
     "output_type": "execute_result"
    }
   ],
   "source": [
    "viewer.hall_of_fame()"
   ]
  },
  {
   "cell_type": "code",
   "execution_count": 26,
   "metadata": {},
   "outputs": [
    {
     "data": {
      "application/vnd.plotly.v1+json": {
       "config": {
        "plotlyServerURL": "https://plot.ly"
       },
       "data": [
        {
         "alignmentgroup": "True",
         "boxpoints": "all",
         "hovertemplate": "Generation=%{x}<br>Weighted_fitness=%{y}<extra></extra>",
         "legendgroup": "",
         "marker": {
          "color": "#636efa"
         },
         "name": "",
         "notched": false,
         "offsetgroup": "",
         "orientation": "v",
         "showlegend": false,
         "type": "box",
         "x": {
          "bdata": "AAAAAAAAAAAAAAAAAAAAAAAAAAAAAAAAAAAAAAAAAAAAAAAAAAAAAAAAAAAAAAAAAAAAAAAAAAAAAAAAAAAAAAAAAAAAAAAAAAAAAAAAAAAAAAAAAAAAAAAAAAAAAAAAAAAAAAAAAAAAAAAAAAAAAAAAAAAAAAAAAAAAAAAAAAAAAAAAAAAAAAAAAAAAAAAAAAAAAAAAAAAAAAAAAAAAAAAAAAAAAAAAAAAAAAAAAAAAAAAAAAAAAAAAAAAAAAAAAAAAAAAAAAAAAAAAAAAAAAAAAAAAAAAAAAAAAAAAAAAAAAAAAAAAAAAAAAAAAAAAAAAAAAAAAAAAAAAAAAAAAAAAAAAAAAAAAAAAAAAAAAAAAAAAAAAAAAAAAAAAAAAAAAAAAAAAAAAAAAAAAAAAAAAAAAAAAAAAAAAAAAAAAAAAAAAAAAAAAAAAAAAAAAAAAAAAAAAAAAAAAAAAAAAAAAAAAAAAAAAAAAAAAAAAAAAAAAAAAAAAAAAAAAAAAAAAAAAAAAAAAAAAAAAAAAAAAAAAAAAAAAAAAAAAAAAAAAAAAAAAAAAAAAAAAAAAAAAAAAAAAAAAAAAAAAAAAAAAAAAAAAAAAAAAAAAAAAAAAAAAAAAAAAAAAAAAAAAAAAAAAAAAAAAAAAAAAAAAAAAAAAAAAAAAAAAAAAAAAAAAAAAAAAAAAAAAAAAAAAAAAAAAAAAAAAAAAAAAAAAAAAAAAAAAAAAAAAAAAAAAAAAAAAAAAAAAAAAAAAAAAAAAAAAAAAAAAAAAAAAAAAAAAAAAAAAAAAAAAAAAAAAAAAAAAAAAAAAAAAAAAAAAAAAAAAAAAAAAAAAAAAAAAAAAAAAAAAAAAAAAAAAAAAAAAAAAAAAAAAAAAAAAAAAAAAAAAAAAAAAAAAAAAAAAAAAAAAAAAAAAAAAAAAAAAAAAAAAAAAAAAAAAAAAAAAAAAAAAAAAAAAAAAAAAAAAAAAAAAAAAAAAAAAAAAAAAAAAAAAAAAAAAAAAAAAAAAAAAAAAAAAAAAAAAAAAAAAAAAAAAAAAAAAAAAAAAAAAAAAAAAAAAAAAAAAAAAAAAAAAAAAAAAAAAAAAAAAAAAAAAAAAAAAAAAAAAAAAAAAAAAAAAAAAAAAAAAAAAAAAAAAAAAAAAAAAAAAAAAAAAAAAAAAAAAAAAAAAAAAAAAAAAAAAAAAAAAAAAAAAAAAAAAAAAAAAAAAAAAAAAAAAAAAAAAAAAAAAAAAAAAAAAAAAAAAAAAAAAAAAAAAAAAAAAAAAAAAAAAAAAAAAAAAAAAAAAAAAAAAAAAAAAAAAAAAAAAAAAAAAAAAAAAAAAAAAAAAEBAQEBAQEBAQEBAQEBAQEBAQEBAQEBAQEBAQEBAQEBAQEBAQEBAQEBAQEBAQEBAQEBAQEBAQEBAQEBAQEBAQEBAQEBAQEBAQEBAQEBAQEBAQEBAQEBAQEBAQEBAQEBAQEBAQEBAQEBAQEBAQEBAQEBAQEBAQEBAQEBAQEBAQEBAQEBAQEBAQEBAQEBAQEBAQEBAQEBAQEBAQEBAQEBAQEBAQEBAQEBAQEBAQEBAQEBAQEBAQEBAQEBAQEBAQEBAQEBAQEBAQEBAQEBAQEBAQEBAQEBAQEBAQEBAQEBAQEBAQEBAQEBAQEBAQEBAQEBAQEBAQEBAQEBAQEBAQEBAQEBAQEBAQEBAQEBAQEBAQEBAQEBAQEBAQEBAQEBAQEBAQEBAQEBAQEBAQEBAQEBAQEBAQEBAQEBAQEBAQEBAQEBAQEBAQEBAQEBAQEBAQEBAQEBAQEBAQEBAQEBAQEBAQEBAQEBAQEBAQEBAQEBAQEBAQEBAQEBAQEBAQEBAQEBAQEBAQEBAQEBAQEBAQEBAQEBAQEBAQEBAQEBAQEBAQEBAQEBAQEBAQEBAQEBAQEBAQEBAQEBAQEBAQEBAQEBAQEBAQEBAQEBAQEBAQEBAQEBAQEBAQEBAQEBAQEBAQEBAQEBAQEBAQEBAQEBAQEBAQEBAQEBAQEBAQEBAQEBAQEBAQEBAQEBAQEBAQEBAQEBAQEBAQEBAQEBAQEBAQEBAQEBAQEBAQEBAQEBAQEBAQEBAQEBAQEBAQEBAQEBAQEBAQEBAQEBAQEBAQEBAQEBAQEBAQEBAQEBAQEBAQEBAQEBAQEBAQEBAQEBAQEBAQEBAQEBAQEBAQEBAQEBAQEBAQEBAQEBAQEBAQEBAQEBAQEBAQEBAQEBAQEBAQEBAQEBAQEBAQEBAQEBAQEBAQEBAQEBAQEBAQEBAQEBAQEBAQEBAQEBAQEBAQEBAQEBAQEBAQEBAQEBAQEBAQEBAQEBAQEBAQEBAQEBAQEBAQEBAQEBAQEBAQEBAQEBAQEBAQEBAQEBAQEBAQEBAQEBAQEBAQEBAQEBAQEBAQEBAQEBAQEBAQEBAQEBAQEBAQEBAQEBAQEBAQEBAQEBAQEBAQEBAQEBAQEBAQEBAQEBAQEBAQEBAQEBAQEBAQEBAQEBAQEBAQEBAQEBAQEBAQEBAQEBAQEBAQEBAQEBAQEBAQEBAQEBAQEBAQEBAQEBAQEBAQEBAQEBAQEBAQEBAQEBAQEBAQEBAQEBAQEBAQEBAQEBAQEBAQEBAQEBAQEBAQEBAQEBAQEBAQEBAQEBAQEBAQEBAQEBAQEBAQEBAQEBAQEBAQEBAQEBAQEBAQE=",
          "dtype": "i1"
         },
         "x0": " ",
         "xaxis": "x",
         "y": {
          "bdata": "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",
          "dtype": "f8"
         },
         "y0": " ",
         "yaxis": "y"
        },
        {
         "line": {
          "color": "rgba(0,0,0,0.5)",
          "dash": "dash",
          "width": 2
         },
         "mode": "lines",
         "name": "Median",
         "type": "scatter",
         "x": {
          "bdata": "AAE=",
          "dtype": "i1"
         },
         "y": {
          "bdata": "gnwAnNLBCMDscZXFJOwBwA==",
          "dtype": "f8"
         }
        }
       ],
       "layout": {
        "boxmode": "group",
        "legend": {
         "tracegroupgap": 0
        },
        "margin": {
         "t": 60
        },
        "template": {
         "data": {
          "bar": [
           {
            "error_x": {
             "color": "#2a3f5f"
            },
            "error_y": {
             "color": "#2a3f5f"
            },
            "marker": {
             "line": {
              "color": "#E5ECF6",
              "width": 0.5
             },
             "pattern": {
              "fillmode": "overlay",
              "size": 10,
              "solidity": 0.2
             }
            },
            "type": "bar"
           }
          ],
          "barpolar": [
           {
            "marker": {
             "line": {
              "color": "#E5ECF6",
              "width": 0.5
             },
             "pattern": {
              "fillmode": "overlay",
              "size": 10,
              "solidity": 0.2
             }
            },
            "type": "barpolar"
           }
          ],
          "carpet": [
           {
            "aaxis": {
             "endlinecolor": "#2a3f5f",
             "gridcolor": "white",
             "linecolor": "white",
             "minorgridcolor": "white",
             "startlinecolor": "#2a3f5f"
            },
            "baxis": {
             "endlinecolor": "#2a3f5f",
             "gridcolor": "white",
             "linecolor": "white",
             "minorgridcolor": "white",
             "startlinecolor": "#2a3f5f"
            },
            "type": "carpet"
           }
          ],
          "choropleth": [
           {
            "colorbar": {
             "outlinewidth": 0,
             "ticks": ""
            },
            "type": "choropleth"
           }
          ],
          "contour": [
           {
            "colorbar": {
             "outlinewidth": 0,
             "ticks": ""
            },
            "colorscale": [
             [
              0,
              "#0d0887"
             ],
             [
              0.1111111111111111,
              "#46039f"
             ],
             [
              0.2222222222222222,
              "#7201a8"
             ],
             [
              0.3333333333333333,
              "#9c179e"
             ],
             [
              0.4444444444444444,
              "#bd3786"
             ],
             [
              0.5555555555555556,
              "#d8576b"
             ],
             [
              0.6666666666666666,
              "#ed7953"
             ],
             [
              0.7777777777777778,
              "#fb9f3a"
             ],
             [
              0.8888888888888888,
              "#fdca26"
             ],
             [
              1,
              "#f0f921"
             ]
            ],
            "type": "contour"
           }
          ],
          "contourcarpet": [
           {
            "colorbar": {
             "outlinewidth": 0,
             "ticks": ""
            },
            "type": "contourcarpet"
           }
          ],
          "heatmap": [
           {
            "colorbar": {
             "outlinewidth": 0,
             "ticks": ""
            },
            "colorscale": [
             [
              0,
              "#0d0887"
             ],
             [
              0.1111111111111111,
              "#46039f"
             ],
             [
              0.2222222222222222,
              "#7201a8"
             ],
             [
              0.3333333333333333,
              "#9c179e"
             ],
             [
              0.4444444444444444,
              "#bd3786"
             ],
             [
              0.5555555555555556,
              "#d8576b"
             ],
             [
              0.6666666666666666,
              "#ed7953"
             ],
             [
              0.7777777777777778,
              "#fb9f3a"
             ],
             [
              0.8888888888888888,
              "#fdca26"
             ],
             [
              1,
              "#f0f921"
             ]
            ],
            "type": "heatmap"
           }
          ],
          "histogram": [
           {
            "marker": {
             "pattern": {
              "fillmode": "overlay",
              "size": 10,
              "solidity": 0.2
             }
            },
            "type": "histogram"
           }
          ],
          "histogram2d": [
           {
            "colorbar": {
             "outlinewidth": 0,
             "ticks": ""
            },
            "colorscale": [
             [
              0,
              "#0d0887"
             ],
             [
              0.1111111111111111,
              "#46039f"
             ],
             [
              0.2222222222222222,
              "#7201a8"
             ],
             [
              0.3333333333333333,
              "#9c179e"
             ],
             [
              0.4444444444444444,
              "#bd3786"
             ],
             [
              0.5555555555555556,
              "#d8576b"
             ],
             [
              0.6666666666666666,
              "#ed7953"
             ],
             [
              0.7777777777777778,
              "#fb9f3a"
             ],
             [
              0.8888888888888888,
              "#fdca26"
             ],
             [
              1,
              "#f0f921"
             ]
            ],
            "type": "histogram2d"
           }
          ],
          "histogram2dcontour": [
           {
            "colorbar": {
             "outlinewidth": 0,
             "ticks": ""
            },
            "colorscale": [
             [
              0,
              "#0d0887"
             ],
             [
              0.1111111111111111,
              "#46039f"
             ],
             [
              0.2222222222222222,
              "#7201a8"
             ],
             [
              0.3333333333333333,
              "#9c179e"
             ],
             [
              0.4444444444444444,
              "#bd3786"
             ],
             [
              0.5555555555555556,
              "#d8576b"
             ],
             [
              0.6666666666666666,
              "#ed7953"
             ],
             [
              0.7777777777777778,
              "#fb9f3a"
             ],
             [
              0.8888888888888888,
              "#fdca26"
             ],
             [
              1,
              "#f0f921"
             ]
            ],
            "type": "histogram2dcontour"
           }
          ],
          "mesh3d": [
           {
            "colorbar": {
             "outlinewidth": 0,
             "ticks": ""
            },
            "type": "mesh3d"
           }
          ],
          "parcoords": [
           {
            "line": {
             "colorbar": {
              "outlinewidth": 0,
              "ticks": ""
             }
            },
            "type": "parcoords"
           }
          ],
          "pie": [
           {
            "automargin": true,
            "type": "pie"
           }
          ],
          "scatter": [
           {
            "fillpattern": {
             "fillmode": "overlay",
             "size": 10,
             "solidity": 0.2
            },
            "type": "scatter"
           }
          ],
          "scatter3d": [
           {
            "line": {
             "colorbar": {
              "outlinewidth": 0,
              "ticks": ""
             }
            },
            "marker": {
             "colorbar": {
              "outlinewidth": 0,
              "ticks": ""
             }
            },
            "type": "scatter3d"
           }
          ],
          "scattercarpet": [
           {
            "marker": {
             "colorbar": {
              "outlinewidth": 0,
              "ticks": ""
             }
            },
            "type": "scattercarpet"
           }
          ],
          "scattergeo": [
           {
            "marker": {
             "colorbar": {
              "outlinewidth": 0,
              "ticks": ""
             }
            },
            "type": "scattergeo"
           }
          ],
          "scattergl": [
           {
            "marker": {
             "colorbar": {
              "outlinewidth": 0,
              "ticks": ""
             }
            },
            "type": "scattergl"
           }
          ],
          "scattermap": [
           {
            "marker": {
             "colorbar": {
              "outlinewidth": 0,
              "ticks": ""
             }
            },
            "type": "scattermap"
           }
          ],
          "scattermapbox": [
           {
            "marker": {
             "colorbar": {
              "outlinewidth": 0,
              "ticks": ""
             }
            },
            "type": "scattermapbox"
           }
          ],
          "scatterpolar": [
           {
            "marker": {
             "colorbar": {
              "outlinewidth": 0,
              "ticks": ""
             }
            },
            "type": "scatterpolar"
           }
          ],
          "scatterpolargl": [
           {
            "marker": {
             "colorbar": {
              "outlinewidth": 0,
              "ticks": ""
             }
            },
            "type": "scatterpolargl"
           }
          ],
          "scatterternary": [
           {
            "marker": {
             "colorbar": {
              "outlinewidth": 0,
              "ticks": ""
             }
            },
            "type": "scatterternary"
           }
          ],
          "surface": [
           {
            "colorbar": {
             "outlinewidth": 0,
             "ticks": ""
            },
            "colorscale": [
             [
              0,
              "#0d0887"
             ],
             [
              0.1111111111111111,
              "#46039f"
             ],
             [
              0.2222222222222222,
              "#7201a8"
             ],
             [
              0.3333333333333333,
              "#9c179e"
             ],
             [
              0.4444444444444444,
              "#bd3786"
             ],
             [
              0.5555555555555556,
              "#d8576b"
             ],
             [
              0.6666666666666666,
              "#ed7953"
             ],
             [
              0.7777777777777778,
              "#fb9f3a"
             ],
             [
              0.8888888888888888,
              "#fdca26"
             ],
             [
              1,
              "#f0f921"
             ]
            ],
            "type": "surface"
           }
          ],
          "table": [
           {
            "cells": {
             "fill": {
              "color": "#EBF0F8"
             },
             "line": {
              "color": "white"
             }
            },
            "header": {
             "fill": {
              "color": "#C8D4E3"
             },
             "line": {
              "color": "white"
             }
            },
            "type": "table"
           }
          ]
         },
         "layout": {
          "annotationdefaults": {
           "arrowcolor": "#2a3f5f",
           "arrowhead": 0,
           "arrowwidth": 1
          },
          "autotypenumbers": "strict",
          "coloraxis": {
           "colorbar": {
            "outlinewidth": 0,
            "ticks": ""
           }
          },
          "colorscale": {
           "diverging": [
            [
             0,
             "#8e0152"
            ],
            [
             0.1,
             "#c51b7d"
            ],
            [
             0.2,
             "#de77ae"
            ],
            [
             0.3,
             "#f1b6da"
            ],
            [
             0.4,
             "#fde0ef"
            ],
            [
             0.5,
             "#f7f7f7"
            ],
            [
             0.6,
             "#e6f5d0"
            ],
            [
             0.7,
             "#b8e186"
            ],
            [
             0.8,
             "#7fbc41"
            ],
            [
             0.9,
             "#4d9221"
            ],
            [
             1,
             "#276419"
            ]
           ],
           "sequential": [
            [
             0,
             "#0d0887"
            ],
            [
             0.1111111111111111,
             "#46039f"
            ],
            [
             0.2222222222222222,
             "#7201a8"
            ],
            [
             0.3333333333333333,
             "#9c179e"
            ],
            [
             0.4444444444444444,
             "#bd3786"
            ],
            [
             0.5555555555555556,
             "#d8576b"
            ],
            [
             0.6666666666666666,
             "#ed7953"
            ],
            [
             0.7777777777777778,
             "#fb9f3a"
            ],
            [
             0.8888888888888888,
             "#fdca26"
            ],
            [
             1,
             "#f0f921"
            ]
           ],
           "sequentialminus": [
            [
             0,
             "#0d0887"
            ],
            [
             0.1111111111111111,
             "#46039f"
            ],
            [
             0.2222222222222222,
             "#7201a8"
            ],
            [
             0.3333333333333333,
             "#9c179e"
            ],
            [
             0.4444444444444444,
             "#bd3786"
            ],
            [
             0.5555555555555556,
             "#d8576b"
            ],
            [
             0.6666666666666666,
             "#ed7953"
            ],
            [
             0.7777777777777778,
             "#fb9f3a"
            ],
            [
             0.8888888888888888,
             "#fdca26"
            ],
            [
             1,
             "#f0f921"
            ]
           ]
          },
          "colorway": [
           "#636efa",
           "#EF553B",
           "#00cc96",
           "#ab63fa",
           "#FFA15A",
           "#19d3f3",
           "#FF6692",
           "#B6E880",
           "#FF97FF",
           "#FECB52"
          ],
          "font": {
           "color": "#2a3f5f"
          },
          "geo": {
           "bgcolor": "white",
           "lakecolor": "white",
           "landcolor": "#E5ECF6",
           "showlakes": true,
           "showland": true,
           "subunitcolor": "white"
          },
          "hoverlabel": {
           "align": "left"
          },
          "hovermode": "closest",
          "mapbox": {
           "style": "light"
          },
          "paper_bgcolor": "white",
          "plot_bgcolor": "#E5ECF6",
          "polar": {
           "angularaxis": {
            "gridcolor": "white",
            "linecolor": "white",
            "ticks": ""
           },
           "bgcolor": "#E5ECF6",
           "radialaxis": {
            "gridcolor": "white",
            "linecolor": "white",
            "ticks": ""
           }
          },
          "scene": {
           "xaxis": {
            "backgroundcolor": "#E5ECF6",
            "gridcolor": "white",
            "gridwidth": 2,
            "linecolor": "white",
            "showbackground": true,
            "ticks": "",
            "zerolinecolor": "white"
           },
           "yaxis": {
            "backgroundcolor": "#E5ECF6",
            "gridcolor": "white",
            "gridwidth": 2,
            "linecolor": "white",
            "showbackground": true,
            "ticks": "",
            "zerolinecolor": "white"
           },
           "zaxis": {
            "backgroundcolor": "#E5ECF6",
            "gridcolor": "white",
            "gridwidth": 2,
            "linecolor": "white",
            "showbackground": true,
            "ticks": "",
            "zerolinecolor": "white"
           }
          },
          "shapedefaults": {
           "line": {
            "color": "#2a3f5f"
           }
          },
          "ternary": {
           "aaxis": {
            "gridcolor": "white",
            "linecolor": "white",
            "ticks": ""
           },
           "baxis": {
            "gridcolor": "white",
            "linecolor": "white",
            "ticks": ""
           },
           "bgcolor": "#E5ECF6",
           "caxis": {
            "gridcolor": "white",
            "linecolor": "white",
            "ticks": ""
           }
          },
          "title": {
           "x": 0.05
          },
          "xaxis": {
           "automargin": true,
           "gridcolor": "white",
           "linecolor": "white",
           "ticks": "",
           "title": {
            "standoff": 15
           },
           "zerolinecolor": "white",
           "zerolinewidth": 2
          },
          "yaxis": {
           "automargin": true,
           "gridcolor": "white",
           "linecolor": "white",
           "ticks": "",
           "title": {
            "standoff": 15
           },
           "zerolinecolor": "white",
           "zerolinewidth": 2
          }
         }
        },
        "title": {
         "text": "Fitness evolution"
        },
        "xaxis": {
         "anchor": "y",
         "domain": [
          0,
          1
         ],
         "title": {
          "text": "Generation"
         }
        },
        "yaxis": {
         "anchor": "x",
         "domain": [
          0,
          1
         ],
         "title": {
          "text": "Weighted_fitness"
         }
        }
       }
      }
     },
     "metadata": {},
     "output_type": "display_data"
    }
   ],
   "source": [
    "viewer.fitness_evolution(points=\"all\")"
   ]
  },
  {
   "cell_type": "code",
   "execution_count": 27,
   "metadata": {},
   "outputs": [
    {
     "data": {
      "application/vnd.plotly.v1+json": {
       "config": {
        "plotlyServerURL": "https://plot.ly"
       },
       "data": [
        {
         "orientation": "h",
         "type": "bar",
         "x": {
          "bdata": "LHf3L4u30j8a4ANwSSnSPzkC8kwrK9I/ckESqoxf0j/W2PJ4n67SP7BPswqCZdI/HOHSi/Cm0j/VmA65VNPSP4qZHVB3UdI/LGr2uUYr0j8=",
          "dtype": "f8"
         },
         "xaxis": "x",
         "y": [
          "D1N1_energy_transfert",
          "D1N1_lambda_temperature_0",
          "D1N1_gamma_lambda_temperature",
          "D1N1_tr_0",
          "D1N1_gamma_tr",
          "D2N1_energy_transfert",
          "D2N1_lambda_temperature_0",
          "D2N1_gamma_lambda_temperature",
          "D2N1_tr_0",
          "D2N1_gamma_tr"
         ],
         "yaxis": "y"
        },
        {
         "orientation": "h",
         "type": "bar",
         "x": {
          "bdata": "elt6ftHkyj+ZXhriMd7RPx2eDmCY2tI/G8ajmHlZ0j9jicMq5NDSP+Iv31YTitI/St/uvDc20z/o/1qb50fTP9oyRtZ3b9I/OAir/qwX0j8=",
          "dtype": "f8"
         },
         "xaxis": "x2",
         "y": [
          "D1N1_energy_transfert",
          "D1N1_lambda_temperature_0",
          "D1N1_gamma_lambda_temperature",
          "D1N1_tr_0",
          "D1N1_gamma_tr",
          "D2N1_energy_transfert",
          "D2N1_lambda_temperature_0",
          "D2N1_gamma_lambda_temperature",
          "D2N1_tr_0",
          "D2N1_gamma_tr"
         ],
         "yaxis": "y2"
        }
       ],
       "layout": {
        "annotations": [
         {
          "font": {
           "size": 16
          },
          "showarrow": false,
          "text": "Gen=0",
          "x": 0.225,
          "xanchor": "center",
          "xref": "paper",
          "y": 1,
          "yanchor": "bottom",
          "yref": "paper"
         },
         {
          "font": {
           "size": 16
          },
          "showarrow": false,
          "text": "Gen=1",
          "x": 0.775,
          "xanchor": "center",
          "xref": "paper",
          "y": 1,
          "yanchor": "bottom",
          "yref": "paper"
         }
        ],
        "showlegend": false,
        "template": {
         "data": {
          "bar": [
           {
            "error_x": {
             "color": "#2a3f5f"
            },
            "error_y": {
             "color": "#2a3f5f"
            },
            "marker": {
             "line": {
              "color": "#E5ECF6",
              "width": 0.5
             },
             "pattern": {
              "fillmode": "overlay",
              "size": 10,
              "solidity": 0.2
             }
            },
            "type": "bar"
           }
          ],
          "barpolar": [
           {
            "marker": {
             "line": {
              "color": "#E5ECF6",
              "width": 0.5
             },
             "pattern": {
              "fillmode": "overlay",
              "size": 10,
              "solidity": 0.2
             }
            },
            "type": "barpolar"
           }
          ],
          "carpet": [
           {
            "aaxis": {
             "endlinecolor": "#2a3f5f",
             "gridcolor": "white",
             "linecolor": "white",
             "minorgridcolor": "white",
             "startlinecolor": "#2a3f5f"
            },
            "baxis": {
             "endlinecolor": "#2a3f5f",
             "gridcolor": "white",
             "linecolor": "white",
             "minorgridcolor": "white",
             "startlinecolor": "#2a3f5f"
            },
            "type": "carpet"
           }
          ],
          "choropleth": [
           {
            "colorbar": {
             "outlinewidth": 0,
             "ticks": ""
            },
            "type": "choropleth"
           }
          ],
          "contour": [
           {
            "colorbar": {
             "outlinewidth": 0,
             "ticks": ""
            },
            "colorscale": [
             [
              0,
              "#0d0887"
             ],
             [
              0.1111111111111111,
              "#46039f"
             ],
             [
              0.2222222222222222,
              "#7201a8"
             ],
             [
              0.3333333333333333,
              "#9c179e"
             ],
             [
              0.4444444444444444,
              "#bd3786"
             ],
             [
              0.5555555555555556,
              "#d8576b"
             ],
             [
              0.6666666666666666,
              "#ed7953"
             ],
             [
              0.7777777777777778,
              "#fb9f3a"
             ],
             [
              0.8888888888888888,
              "#fdca26"
             ],
             [
              1,
              "#f0f921"
             ]
            ],
            "type": "contour"
           }
          ],
          "contourcarpet": [
           {
            "colorbar": {
             "outlinewidth": 0,
             "ticks": ""
            },
            "type": "contourcarpet"
           }
          ],
          "heatmap": [
           {
            "colorbar": {
             "outlinewidth": 0,
             "ticks": ""
            },
            "colorscale": [
             [
              0,
              "#0d0887"
             ],
             [
              0.1111111111111111,
              "#46039f"
             ],
             [
              0.2222222222222222,
              "#7201a8"
             ],
             [
              0.3333333333333333,
              "#9c179e"
             ],
             [
              0.4444444444444444,
              "#bd3786"
             ],
             [
              0.5555555555555556,
              "#d8576b"
             ],
             [
              0.6666666666666666,
              "#ed7953"
             ],
             [
              0.7777777777777778,
              "#fb9f3a"
             ],
             [
              0.8888888888888888,
              "#fdca26"
             ],
             [
              1,
              "#f0f921"
             ]
            ],
            "type": "heatmap"
           }
          ],
          "histogram": [
           {
            "marker": {
             "pattern": {
              "fillmode": "overlay",
              "size": 10,
              "solidity": 0.2
             }
            },
            "type": "histogram"
           }
          ],
          "histogram2d": [
           {
            "colorbar": {
             "outlinewidth": 0,
             "ticks": ""
            },
            "colorscale": [
             [
              0,
              "#0d0887"
             ],
             [
              0.1111111111111111,
              "#46039f"
             ],
             [
              0.2222222222222222,
              "#7201a8"
             ],
             [
              0.3333333333333333,
              "#9c179e"
             ],
             [
              0.4444444444444444,
              "#bd3786"
             ],
             [
              0.5555555555555556,
              "#d8576b"
             ],
             [
              0.6666666666666666,
              "#ed7953"
             ],
             [
              0.7777777777777778,
              "#fb9f3a"
             ],
             [
              0.8888888888888888,
              "#fdca26"
             ],
             [
              1,
              "#f0f921"
             ]
            ],
            "type": "histogram2d"
           }
          ],
          "histogram2dcontour": [
           {
            "colorbar": {
             "outlinewidth": 0,
             "ticks": ""
            },
            "colorscale": [
             [
              0,
              "#0d0887"
             ],
             [
              0.1111111111111111,
              "#46039f"
             ],
             [
              0.2222222222222222,
              "#7201a8"
             ],
             [
              0.3333333333333333,
              "#9c179e"
             ],
             [
              0.4444444444444444,
              "#bd3786"
             ],
             [
              0.5555555555555556,
              "#d8576b"
             ],
             [
              0.6666666666666666,
              "#ed7953"
             ],
             [
              0.7777777777777778,
              "#fb9f3a"
             ],
             [
              0.8888888888888888,
              "#fdca26"
             ],
             [
              1,
              "#f0f921"
             ]
            ],
            "type": "histogram2dcontour"
           }
          ],
          "mesh3d": [
           {
            "colorbar": {
             "outlinewidth": 0,
             "ticks": ""
            },
            "type": "mesh3d"
           }
          ],
          "parcoords": [
           {
            "line": {
             "colorbar": {
              "outlinewidth": 0,
              "ticks": ""
             }
            },
            "type": "parcoords"
           }
          ],
          "pie": [
           {
            "automargin": true,
            "type": "pie"
           }
          ],
          "scatter": [
           {
            "fillpattern": {
             "fillmode": "overlay",
             "size": 10,
             "solidity": 0.2
            },
            "type": "scatter"
           }
          ],
          "scatter3d": [
           {
            "line": {
             "colorbar": {
              "outlinewidth": 0,
              "ticks": ""
             }
            },
            "marker": {
             "colorbar": {
              "outlinewidth": 0,
              "ticks": ""
             }
            },
            "type": "scatter3d"
           }
          ],
          "scattercarpet": [
           {
            "marker": {
             "colorbar": {
              "outlinewidth": 0,
              "ticks": ""
             }
            },
            "type": "scattercarpet"
           }
          ],
          "scattergeo": [
           {
            "marker": {
             "colorbar": {
              "outlinewidth": 0,
              "ticks": ""
             }
            },
            "type": "scattergeo"
           }
          ],
          "scattergl": [
           {
            "marker": {
             "colorbar": {
              "outlinewidth": 0,
              "ticks": ""
             }
            },
            "type": "scattergl"
           }
          ],
          "scattermap": [
           {
            "marker": {
             "colorbar": {
              "outlinewidth": 0,
              "ticks": ""
             }
            },
            "type": "scattermap"
           }
          ],
          "scattermapbox": [
           {
            "marker": {
             "colorbar": {
              "outlinewidth": 0,
              "ticks": ""
             }
            },
            "type": "scattermapbox"
           }
          ],
          "scatterpolar": [
           {
            "marker": {
             "colorbar": {
              "outlinewidth": 0,
              "ticks": ""
             }
            },
            "type": "scatterpolar"
           }
          ],
          "scatterpolargl": [
           {
            "marker": {
             "colorbar": {
              "outlinewidth": 0,
              "ticks": ""
             }
            },
            "type": "scatterpolargl"
           }
          ],
          "scatterternary": [
           {
            "marker": {
             "colorbar": {
              "outlinewidth": 0,
              "ticks": ""
             }
            },
            "type": "scatterternary"
           }
          ],
          "surface": [
           {
            "colorbar": {
             "outlinewidth": 0,
             "ticks": ""
            },
            "colorscale": [
             [
              0,
              "#0d0887"
             ],
             [
              0.1111111111111111,
              "#46039f"
             ],
             [
              0.2222222222222222,
              "#7201a8"
             ],
             [
              0.3333333333333333,
              "#9c179e"
             ],
             [
              0.4444444444444444,
              "#bd3786"
             ],
             [
              0.5555555555555556,
              "#d8576b"
             ],
             [
              0.6666666666666666,
              "#ed7953"
             ],
             [
              0.7777777777777778,
              "#fb9f3a"
             ],
             [
              0.8888888888888888,
              "#fdca26"
             ],
             [
              1,
              "#f0f921"
             ]
            ],
            "type": "surface"
           }
          ],
          "table": [
           {
            "cells": {
             "fill": {
              "color": "#EBF0F8"
             },
             "line": {
              "color": "white"
             }
            },
            "header": {
             "fill": {
              "color": "#C8D4E3"
             },
             "line": {
              "color": "white"
             }
            },
            "type": "table"
           }
          ]
         },
         "layout": {
          "annotationdefaults": {
           "arrowcolor": "#2a3f5f",
           "arrowhead": 0,
           "arrowwidth": 1
          },
          "autotypenumbers": "strict",
          "coloraxis": {
           "colorbar": {
            "outlinewidth": 0,
            "ticks": ""
           }
          },
          "colorscale": {
           "diverging": [
            [
             0,
             "#8e0152"
            ],
            [
             0.1,
             "#c51b7d"
            ],
            [
             0.2,
             "#de77ae"
            ],
            [
             0.3,
             "#f1b6da"
            ],
            [
             0.4,
             "#fde0ef"
            ],
            [
             0.5,
             "#f7f7f7"
            ],
            [
             0.6,
             "#e6f5d0"
            ],
            [
             0.7,
             "#b8e186"
            ],
            [
             0.8,
             "#7fbc41"
            ],
            [
             0.9,
             "#4d9221"
            ],
            [
             1,
             "#276419"
            ]
           ],
           "sequential": [
            [
             0,
             "#0d0887"
            ],
            [
             0.1111111111111111,
             "#46039f"
            ],
            [
             0.2222222222222222,
             "#7201a8"
            ],
            [
             0.3333333333333333,
             "#9c179e"
            ],
            [
             0.4444444444444444,
             "#bd3786"
            ],
            [
             0.5555555555555556,
             "#d8576b"
            ],
            [
             0.6666666666666666,
             "#ed7953"
            ],
            [
             0.7777777777777778,
             "#fb9f3a"
            ],
            [
             0.8888888888888888,
             "#fdca26"
            ],
            [
             1,
             "#f0f921"
            ]
           ],
           "sequentialminus": [
            [
             0,
             "#0d0887"
            ],
            [
             0.1111111111111111,
             "#46039f"
            ],
            [
             0.2222222222222222,
             "#7201a8"
            ],
            [
             0.3333333333333333,
             "#9c179e"
            ],
            [
             0.4444444444444444,
             "#bd3786"
            ],
            [
             0.5555555555555556,
             "#d8576b"
            ],
            [
             0.6666666666666666,
             "#ed7953"
            ],
            [
             0.7777777777777778,
             "#fb9f3a"
            ],
            [
             0.8888888888888888,
             "#fdca26"
            ],
            [
             1,
             "#f0f921"
            ]
           ]
          },
          "colorway": [
           "#636efa",
           "#EF553B",
           "#00cc96",
           "#ab63fa",
           "#FFA15A",
           "#19d3f3",
           "#FF6692",
           "#B6E880",
           "#FF97FF",
           "#FECB52"
          ],
          "font": {
           "color": "#2a3f5f"
          },
          "geo": {
           "bgcolor": "white",
           "lakecolor": "white",
           "landcolor": "#E5ECF6",
           "showlakes": true,
           "showland": true,
           "subunitcolor": "white"
          },
          "hoverlabel": {
           "align": "left"
          },
          "hovermode": "closest",
          "mapbox": {
           "style": "light"
          },
          "paper_bgcolor": "white",
          "plot_bgcolor": "#E5ECF6",
          "polar": {
           "angularaxis": {
            "gridcolor": "white",
            "linecolor": "white",
            "ticks": ""
           },
           "bgcolor": "#E5ECF6",
           "radialaxis": {
            "gridcolor": "white",
            "linecolor": "white",
            "ticks": ""
           }
          },
          "scene": {
           "xaxis": {
            "backgroundcolor": "#E5ECF6",
            "gridcolor": "white",
            "gridwidth": 2,
            "linecolor": "white",
            "showbackground": true,
            "ticks": "",
            "zerolinecolor": "white"
           },
           "yaxis": {
            "backgroundcolor": "#E5ECF6",
            "gridcolor": "white",
            "gridwidth": 2,
            "linecolor": "white",
            "showbackground": true,
            "ticks": "",
            "zerolinecolor": "white"
           },
           "zaxis": {
            "backgroundcolor": "#E5ECF6",
            "gridcolor": "white",
            "gridwidth": 2,
            "linecolor": "white",
            "showbackground": true,
            "ticks": "",
            "zerolinecolor": "white"
           }
          },
          "shapedefaults": {
           "line": {
            "color": "#2a3f5f"
           }
          },
          "ternary": {
           "aaxis": {
            "gridcolor": "white",
            "linecolor": "white",
            "ticks": ""
           },
           "baxis": {
            "gridcolor": "white",
            "linecolor": "white",
            "ticks": ""
           },
           "bgcolor": "#E5ECF6",
           "caxis": {
            "gridcolor": "white",
            "linecolor": "white",
            "ticks": ""
           }
          },
          "title": {
           "x": 0.05
          },
          "xaxis": {
           "automargin": true,
           "gridcolor": "white",
           "linecolor": "white",
           "ticks": "",
           "title": {
            "standoff": 15
           },
           "zerolinecolor": "white",
           "zerolinewidth": 2
          },
          "yaxis": {
           "automargin": true,
           "gridcolor": "white",
           "linecolor": "white",
           "ticks": "",
           "title": {
            "standoff": 15
           },
           "zerolinecolor": "white",
           "zerolinewidth": 2
          }
         }
        },
        "title": {
         "text": "Standardized std of parameters by generation"
        },
        "xaxis": {
         "anchor": "y",
         "domain": [
          0,
          0.45
         ]
        },
        "xaxis2": {
         "anchor": "y2",
         "domain": [
          0.55,
          1
         ]
        },
        "yaxis": {
         "anchor": "x",
         "domain": [
          0,
          1
         ]
        },
        "yaxis2": {
         "anchor": "x2",
         "domain": [
          0,
          1
         ],
         "matches": "y",
         "showticklabels": false
        }
       }
      }
     },
     "metadata": {},
     "output_type": "display_data"
    }
   ],
   "source": [
    "viewer.parameters_standardized_deviation()"
   ]
  },
  {
   "cell_type": "code",
   "execution_count": 28,
   "metadata": {},
   "outputs": [
    {
     "data": {
      "application/vnd.plotly.v1+json": {
       "config": {
        "plotlyServerURL": "https://plot.ly"
       },
       "data": [
        {
         "fillpattern": {
          "shape": ""
         },
         "hovertemplate": "Variable=D1N1_energy_transfert<br>Generation=%{x}<br>Entropy=%{y}<extra></extra>",
         "legendgroup": "D1N1_energy_transfert",
         "line": {
          "color": "#636efa"
         },
         "marker": {
          "symbol": "circle"
         },
         "mode": "lines+markers",
         "name": "D1N1_energy_transfert",
         "orientation": "v",
         "showlegend": true,
         "stackgroup": "1",
         "type": "scatter",
         "x": {
          "bdata": "AAE=",
          "dtype": "i1"
         },
         "xaxis": "x",
         "y": {
          "bdata": "8dQZ99ybG0AFvqBxfmgYQA==",
          "dtype": "f8"
         },
         "yaxis": "y"
        },
        {
         "fillpattern": {
          "shape": ""
         },
         "hovertemplate": "Variable=D1N1_lambda_temperature_0<br>Generation=%{x}<br>Entropy=%{y}<extra></extra>",
         "legendgroup": "D1N1_lambda_temperature_0",
         "line": {
          "color": "#EF553B"
         },
         "marker": {
          "symbol": "circle"
         },
         "mode": "lines+markers",
         "name": "D1N1_lambda_temperature_0",
         "orientation": "v",
         "showlegend": true,
         "stackgroup": "1",
         "type": "scatter",
         "x": {
          "bdata": "AAE=",
          "dtype": "i1"
         },
         "xaxis": "x",
         "y": {
          "bdata": "Ie/pJQaZG0DXQhfrJW8YQA==",
          "dtype": "f8"
         },
         "yaxis": "y"
        },
        {
         "fillpattern": {
          "shape": ""
         },
         "hovertemplate": "Variable=D1N1_gamma_lambda_temperature<br>Generation=%{x}<br>Entropy=%{y}<extra></extra>",
         "legendgroup": "D1N1_gamma_lambda_temperature",
         "line": {
          "color": "#00cc96"
         },
         "marker": {
          "symbol": "circle"
         },
         "mode": "lines+markers",
         "name": "D1N1_gamma_lambda_temperature",
         "orientation": "v",
         "showlegend": true,
         "stackgroup": "1",
         "type": "scatter",
         "x": {
          "bdata": "AAE=",
          "dtype": "i1"
         },
         "xaxis": "x",
         "y": {
          "bdata": "XLwZ99ybG0DhtwmjlXIYQA==",
          "dtype": "f8"
         },
         "yaxis": "y"
        },
        {
         "fillpattern": {
          "shape": ""
         },
         "hovertemplate": "Variable=D1N1_tr_0<br>Generation=%{x}<br>Entropy=%{y}<extra></extra>",
         "legendgroup": "D1N1_tr_0",
         "line": {
          "color": "#ab63fa"
         },
         "marker": {
          "symbol": "circle"
         },
         "mode": "lines+markers",
         "name": "D1N1_tr_0",
         "orientation": "v",
         "showlegend": true,
         "stackgroup": "1",
         "type": "scatter",
         "x": {
          "bdata": "AAE=",
          "dtype": "i1"
         },
         "xaxis": "x",
         "y": {
          "bdata": "QzHYZ0idG0AHilKs+lcYQA==",
          "dtype": "f8"
         },
         "yaxis": "y"
        },
        {
         "fillpattern": {
          "shape": ""
         },
         "hovertemplate": "Variable=D1N1_gamma_tr<br>Generation=%{x}<br>Entropy=%{y}<extra></extra>",
         "legendgroup": "D1N1_gamma_tr",
         "line": {
          "color": "#FFA15A"
         },
         "marker": {
          "symbol": "circle"
         },
         "mode": "lines+markers",
         "name": "D1N1_gamma_tr",
         "orientation": "v",
         "showlegend": true,
         "stackgroup": "1",
         "type": "scatter",
         "x": {
          "bdata": "AAE=",
          "dtype": "i1"
         },
         "xaxis": "x",
         "y": {
          "bdata": "FEbSJQaZG0A2R6cQj00YQA==",
          "dtype": "f8"
         },
         "yaxis": "y"
        },
        {
         "fillpattern": {
          "shape": ""
         },
         "hovertemplate": "Variable=D2N1_energy_transfert<br>Generation=%{x}<br>Entropy=%{y}<extra></extra>",
         "legendgroup": "D2N1_energy_transfert",
         "line": {
          "color": "#19d3f3"
         },
         "marker": {
          "symbol": "circle"
         },
         "mode": "lines+markers",
         "name": "D2N1_energy_transfert",
         "orientation": "v",
         "showlegend": true,
         "stackgroup": "1",
         "type": "scatter",
         "x": {
          "bdata": "AAE=",
          "dtype": "i1"
         },
         "xaxis": "x",
         "y": {
          "bdata": "ZzvSJQaZG0DNK421sWIYQA==",
          "dtype": "f8"
         },
         "yaxis": "y"
        },
        {
         "fillpattern": {
          "shape": ""
         },
         "hovertemplate": "Variable=D2N1_lambda_temperature_0<br>Generation=%{x}<br>Entropy=%{y}<extra></extra>",
         "legendgroup": "D2N1_lambda_temperature_0",
         "line": {
          "color": "#FF6692"
         },
         "marker": {
          "symbol": "circle"
         },
         "mode": "lines+markers",
         "name": "D2N1_lambda_temperature_0",
         "orientation": "v",
         "showlegend": true,
         "stackgroup": "1",
         "type": "scatter",
         "x": {
          "bdata": "AAE=",
          "dtype": "i1"
         },
         "xaxis": "x",
         "y": {
          "bdata": "bXAx99ybG0AV1/tpfnQYQA==",
          "dtype": "f8"
         },
         "yaxis": "y"
        },
        {
         "fillpattern": {
          "shape": ""
         },
         "hovertemplate": "Variable=D2N1_gamma_lambda_temperature<br>Generation=%{x}<br>Entropy=%{y}<extra></extra>",
         "legendgroup": "D2N1_gamma_lambda_temperature",
         "line": {
          "color": "#B6E880"
         },
         "marker": {
          "symbol": "circle"
         },
         "mode": "lines+markers",
         "name": "D2N1_gamma_lambda_temperature",
         "orientation": "v",
         "showlegend": true,
         "stackgroup": "1",
         "type": "scatter",
         "x": {
          "bdata": "AAE=",
          "dtype": "i1"
         },
         "xaxis": "x",
         "y": {
          "bdata": "0ZW9X0idG0DJ9GhJ12IYQA==",
          "dtype": "f8"
         },
         "yaxis": "y"
        },
        {
         "fillpattern": {
          "shape": ""
         },
         "hovertemplate": "Variable=D2N1_tr_0<br>Generation=%{x}<br>Entropy=%{y}<extra></extra>",
         "legendgroup": "D2N1_tr_0",
         "line": {
          "color": "#FF97FF"
         },
         "marker": {
          "symbol": "circle"
         },
         "mode": "lines+markers",
         "name": "D2N1_tr_0",
         "orientation": "v",
         "showlegend": true,
         "stackgroup": "1",
         "type": "scatter",
         "x": {
          "bdata": "AAE=",
          "dtype": "i1"
         },
         "xaxis": "x",
         "y": {
          "bdata": "cE2GlnGaG0BXqTBEU2kYQA==",
          "dtype": "f8"
         },
         "yaxis": "y"
        },
        {
         "fillpattern": {
          "shape": ""
         },
         "hovertemplate": "Variable=D2N1_gamma_tr<br>Generation=%{x}<br>Entropy=%{y}<extra></extra>",
         "legendgroup": "D2N1_gamma_tr",
         "line": {
          "color": "#FECB52"
         },
         "marker": {
          "symbol": "circle"
         },
         "mode": "lines+markers",
         "name": "D2N1_gamma_tr",
         "orientation": "v",
         "showlegend": true,
         "stackgroup": "1",
         "type": "scatter",
         "x": {
          "bdata": "AAE=",
          "dtype": "i1"
         },
         "xaxis": "x",
         "y": {
          "bdata": "7bkZ99ybG0C0Xku0E1cYQA==",
          "dtype": "f8"
         },
         "yaxis": "y"
        }
       ],
       "layout": {
        "legend": {
         "title": {
          "text": "Variable"
         },
         "tracegroupgap": 0
        },
        "plot_bgcolor": "rgba(0, 0, 0, 0)",
        "template": {
         "data": {
          "bar": [
           {
            "error_x": {
             "color": "#2a3f5f"
            },
            "error_y": {
             "color": "#2a3f5f"
            },
            "marker": {
             "line": {
              "color": "#E5ECF6",
              "width": 0.5
             },
             "pattern": {
              "fillmode": "overlay",
              "size": 10,
              "solidity": 0.2
             }
            },
            "type": "bar"
           }
          ],
          "barpolar": [
           {
            "marker": {
             "line": {
              "color": "#E5ECF6",
              "width": 0.5
             },
             "pattern": {
              "fillmode": "overlay",
              "size": 10,
              "solidity": 0.2
             }
            },
            "type": "barpolar"
           }
          ],
          "carpet": [
           {
            "aaxis": {
             "endlinecolor": "#2a3f5f",
             "gridcolor": "white",
             "linecolor": "white",
             "minorgridcolor": "white",
             "startlinecolor": "#2a3f5f"
            },
            "baxis": {
             "endlinecolor": "#2a3f5f",
             "gridcolor": "white",
             "linecolor": "white",
             "minorgridcolor": "white",
             "startlinecolor": "#2a3f5f"
            },
            "type": "carpet"
           }
          ],
          "choropleth": [
           {
            "colorbar": {
             "outlinewidth": 0,
             "ticks": ""
            },
            "type": "choropleth"
           }
          ],
          "contour": [
           {
            "colorbar": {
             "outlinewidth": 0,
             "ticks": ""
            },
            "colorscale": [
             [
              0,
              "#0d0887"
             ],
             [
              0.1111111111111111,
              "#46039f"
             ],
             [
              0.2222222222222222,
              "#7201a8"
             ],
             [
              0.3333333333333333,
              "#9c179e"
             ],
             [
              0.4444444444444444,
              "#bd3786"
             ],
             [
              0.5555555555555556,
              "#d8576b"
             ],
             [
              0.6666666666666666,
              "#ed7953"
             ],
             [
              0.7777777777777778,
              "#fb9f3a"
             ],
             [
              0.8888888888888888,
              "#fdca26"
             ],
             [
              1,
              "#f0f921"
             ]
            ],
            "type": "contour"
           }
          ],
          "contourcarpet": [
           {
            "colorbar": {
             "outlinewidth": 0,
             "ticks": ""
            },
            "type": "contourcarpet"
           }
          ],
          "heatmap": [
           {
            "colorbar": {
             "outlinewidth": 0,
             "ticks": ""
            },
            "colorscale": [
             [
              0,
              "#0d0887"
             ],
             [
              0.1111111111111111,
              "#46039f"
             ],
             [
              0.2222222222222222,
              "#7201a8"
             ],
             [
              0.3333333333333333,
              "#9c179e"
             ],
             [
              0.4444444444444444,
              "#bd3786"
             ],
             [
              0.5555555555555556,
              "#d8576b"
             ],
             [
              0.6666666666666666,
              "#ed7953"
             ],
             [
              0.7777777777777778,
              "#fb9f3a"
             ],
             [
              0.8888888888888888,
              "#fdca26"
             ],
             [
              1,
              "#f0f921"
             ]
            ],
            "type": "heatmap"
           }
          ],
          "histogram": [
           {
            "marker": {
             "pattern": {
              "fillmode": "overlay",
              "size": 10,
              "solidity": 0.2
             }
            },
            "type": "histogram"
           }
          ],
          "histogram2d": [
           {
            "colorbar": {
             "outlinewidth": 0,
             "ticks": ""
            },
            "colorscale": [
             [
              0,
              "#0d0887"
             ],
             [
              0.1111111111111111,
              "#46039f"
             ],
             [
              0.2222222222222222,
              "#7201a8"
             ],
             [
              0.3333333333333333,
              "#9c179e"
             ],
             [
              0.4444444444444444,
              "#bd3786"
             ],
             [
              0.5555555555555556,
              "#d8576b"
             ],
             [
              0.6666666666666666,
              "#ed7953"
             ],
             [
              0.7777777777777778,
              "#fb9f3a"
             ],
             [
              0.8888888888888888,
              "#fdca26"
             ],
             [
              1,
              "#f0f921"
             ]
            ],
            "type": "histogram2d"
           }
          ],
          "histogram2dcontour": [
           {
            "colorbar": {
             "outlinewidth": 0,
             "ticks": ""
            },
            "colorscale": [
             [
              0,
              "#0d0887"
             ],
             [
              0.1111111111111111,
              "#46039f"
             ],
             [
              0.2222222222222222,
              "#7201a8"
             ],
             [
              0.3333333333333333,
              "#9c179e"
             ],
             [
              0.4444444444444444,
              "#bd3786"
             ],
             [
              0.5555555555555556,
              "#d8576b"
             ],
             [
              0.6666666666666666,
              "#ed7953"
             ],
             [
              0.7777777777777778,
              "#fb9f3a"
             ],
             [
              0.8888888888888888,
              "#fdca26"
             ],
             [
              1,
              "#f0f921"
             ]
            ],
            "type": "histogram2dcontour"
           }
          ],
          "mesh3d": [
           {
            "colorbar": {
             "outlinewidth": 0,
             "ticks": ""
            },
            "type": "mesh3d"
           }
          ],
          "parcoords": [
           {
            "line": {
             "colorbar": {
              "outlinewidth": 0,
              "ticks": ""
             }
            },
            "type": "parcoords"
           }
          ],
          "pie": [
           {
            "automargin": true,
            "type": "pie"
           }
          ],
          "scatter": [
           {
            "fillpattern": {
             "fillmode": "overlay",
             "size": 10,
             "solidity": 0.2
            },
            "type": "scatter"
           }
          ],
          "scatter3d": [
           {
            "line": {
             "colorbar": {
              "outlinewidth": 0,
              "ticks": ""
             }
            },
            "marker": {
             "colorbar": {
              "outlinewidth": 0,
              "ticks": ""
             }
            },
            "type": "scatter3d"
           }
          ],
          "scattercarpet": [
           {
            "marker": {
             "colorbar": {
              "outlinewidth": 0,
              "ticks": ""
             }
            },
            "type": "scattercarpet"
           }
          ],
          "scattergeo": [
           {
            "marker": {
             "colorbar": {
              "outlinewidth": 0,
              "ticks": ""
             }
            },
            "type": "scattergeo"
           }
          ],
          "scattergl": [
           {
            "marker": {
             "colorbar": {
              "outlinewidth": 0,
              "ticks": ""
             }
            },
            "type": "scattergl"
           }
          ],
          "scattermap": [
           {
            "marker": {
             "colorbar": {
              "outlinewidth": 0,
              "ticks": ""
             }
            },
            "type": "scattermap"
           }
          ],
          "scattermapbox": [
           {
            "marker": {
             "colorbar": {
              "outlinewidth": 0,
              "ticks": ""
             }
            },
            "type": "scattermapbox"
           }
          ],
          "scatterpolar": [
           {
            "marker": {
             "colorbar": {
              "outlinewidth": 0,
              "ticks": ""
             }
            },
            "type": "scatterpolar"
           }
          ],
          "scatterpolargl": [
           {
            "marker": {
             "colorbar": {
              "outlinewidth": 0,
              "ticks": ""
             }
            },
            "type": "scatterpolargl"
           }
          ],
          "scatterternary": [
           {
            "marker": {
             "colorbar": {
              "outlinewidth": 0,
              "ticks": ""
             }
            },
            "type": "scatterternary"
           }
          ],
          "surface": [
           {
            "colorbar": {
             "outlinewidth": 0,
             "ticks": ""
            },
            "colorscale": [
             [
              0,
              "#0d0887"
             ],
             [
              0.1111111111111111,
              "#46039f"
             ],
             [
              0.2222222222222222,
              "#7201a8"
             ],
             [
              0.3333333333333333,
              "#9c179e"
             ],
             [
              0.4444444444444444,
              "#bd3786"
             ],
             [
              0.5555555555555556,
              "#d8576b"
             ],
             [
              0.6666666666666666,
              "#ed7953"
             ],
             [
              0.7777777777777778,
              "#fb9f3a"
             ],
             [
              0.8888888888888888,
              "#fdca26"
             ],
             [
              1,
              "#f0f921"
             ]
            ],
            "type": "surface"
           }
          ],
          "table": [
           {
            "cells": {
             "fill": {
              "color": "#EBF0F8"
             },
             "line": {
              "color": "white"
             }
            },
            "header": {
             "fill": {
              "color": "#C8D4E3"
             },
             "line": {
              "color": "white"
             }
            },
            "type": "table"
           }
          ]
         },
         "layout": {
          "annotationdefaults": {
           "arrowcolor": "#2a3f5f",
           "arrowhead": 0,
           "arrowwidth": 1
          },
          "autotypenumbers": "strict",
          "coloraxis": {
           "colorbar": {
            "outlinewidth": 0,
            "ticks": ""
           }
          },
          "colorscale": {
           "diverging": [
            [
             0,
             "#8e0152"
            ],
            [
             0.1,
             "#c51b7d"
            ],
            [
             0.2,
             "#de77ae"
            ],
            [
             0.3,
             "#f1b6da"
            ],
            [
             0.4,
             "#fde0ef"
            ],
            [
             0.5,
             "#f7f7f7"
            ],
            [
             0.6,
             "#e6f5d0"
            ],
            [
             0.7,
             "#b8e186"
            ],
            [
             0.8,
             "#7fbc41"
            ],
            [
             0.9,
             "#4d9221"
            ],
            [
             1,
             "#276419"
            ]
           ],
           "sequential": [
            [
             0,
             "#0d0887"
            ],
            [
             0.1111111111111111,
             "#46039f"
            ],
            [
             0.2222222222222222,
             "#7201a8"
            ],
            [
             0.3333333333333333,
             "#9c179e"
            ],
            [
             0.4444444444444444,
             "#bd3786"
            ],
            [
             0.5555555555555556,
             "#d8576b"
            ],
            [
             0.6666666666666666,
             "#ed7953"
            ],
            [
             0.7777777777777778,
             "#fb9f3a"
            ],
            [
             0.8888888888888888,
             "#fdca26"
            ],
            [
             1,
             "#f0f921"
            ]
           ],
           "sequentialminus": [
            [
             0,
             "#0d0887"
            ],
            [
             0.1111111111111111,
             "#46039f"
            ],
            [
             0.2222222222222222,
             "#7201a8"
            ],
            [
             0.3333333333333333,
             "#9c179e"
            ],
            [
             0.4444444444444444,
             "#bd3786"
            ],
            [
             0.5555555555555556,
             "#d8576b"
            ],
            [
             0.6666666666666666,
             "#ed7953"
            ],
            [
             0.7777777777777778,
             "#fb9f3a"
            ],
            [
             0.8888888888888888,
             "#fdca26"
            ],
            [
             1,
             "#f0f921"
            ]
           ]
          },
          "colorway": [
           "#636efa",
           "#EF553B",
           "#00cc96",
           "#ab63fa",
           "#FFA15A",
           "#19d3f3",
           "#FF6692",
           "#B6E880",
           "#FF97FF",
           "#FECB52"
          ],
          "font": {
           "color": "#2a3f5f"
          },
          "geo": {
           "bgcolor": "white",
           "lakecolor": "white",
           "landcolor": "#E5ECF6",
           "showlakes": true,
           "showland": true,
           "subunitcolor": "white"
          },
          "hoverlabel": {
           "align": "left"
          },
          "hovermode": "closest",
          "mapbox": {
           "style": "light"
          },
          "paper_bgcolor": "white",
          "plot_bgcolor": "#E5ECF6",
          "polar": {
           "angularaxis": {
            "gridcolor": "white",
            "linecolor": "white",
            "ticks": ""
           },
           "bgcolor": "#E5ECF6",
           "radialaxis": {
            "gridcolor": "white",
            "linecolor": "white",
            "ticks": ""
           }
          },
          "scene": {
           "xaxis": {
            "backgroundcolor": "#E5ECF6",
            "gridcolor": "white",
            "gridwidth": 2,
            "linecolor": "white",
            "showbackground": true,
            "ticks": "",
            "zerolinecolor": "white"
           },
           "yaxis": {
            "backgroundcolor": "#E5ECF6",
            "gridcolor": "white",
            "gridwidth": 2,
            "linecolor": "white",
            "showbackground": true,
            "ticks": "",
            "zerolinecolor": "white"
           },
           "zaxis": {
            "backgroundcolor": "#E5ECF6",
            "gridcolor": "white",
            "gridwidth": 2,
            "linecolor": "white",
            "showbackground": true,
            "ticks": "",
            "zerolinecolor": "white"
           }
          },
          "shapedefaults": {
           "line": {
            "color": "#2a3f5f"
           }
          },
          "ternary": {
           "aaxis": {
            "gridcolor": "white",
            "linecolor": "white",
            "ticks": ""
           },
           "baxis": {
            "gridcolor": "white",
            "linecolor": "white",
            "ticks": ""
           },
           "bgcolor": "#E5ECF6",
           "caxis": {
            "gridcolor": "white",
            "linecolor": "white",
            "ticks": ""
           }
          },
          "title": {
           "x": 0.05
          },
          "xaxis": {
           "automargin": true,
           "gridcolor": "white",
           "linecolor": "white",
           "ticks": "",
           "title": {
            "standoff": 15
           },
           "zerolinecolor": "white",
           "zerolinewidth": 2
          },
          "yaxis": {
           "automargin": true,
           "gridcolor": "white",
           "linecolor": "white",
           "ticks": "",
           "title": {
            "standoff": 15
           },
           "zerolinecolor": "white",
           "zerolinewidth": 2
          }
         }
        },
        "title": {
         "text": "Shannon entropy of parameter distributions"
        },
        "xaxis": {
         "anchor": "y",
         "domain": [
          0,
          1
         ],
         "showgrid": false,
         "title": {
          "text": "Generation"
         }
        },
        "yaxis": {
         "anchor": "x",
         "domain": [
          0,
          1
         ],
         "showgrid": false,
         "title": {
          "text": "Entropy"
         }
        }
       }
      }
     },
     "metadata": {},
     "output_type": "display_data"
    }
   ],
   "source": [
    "viewer.shannon_entropy(bins=100_000)"
   ]
  },
  {
   "cell_type": "code",
   "execution_count": 29,
   "metadata": {},
   "outputs": [
    {
     "data": {
      "application/vnd.plotly.v1+json": {
       "config": {
        "plotlyServerURL": "https://plot.ly"
       },
       "data": [
        {
         "alignmentgroup": "True",
         "hovertemplate": "D1N1_energy_transfert=%{y}<extra></extra>",
         "legendgroup": "",
         "marker": {
          "color": "#636efa"
         },
         "name": "",
         "notched": false,
         "offsetgroup": "",
         "orientation": "v",
         "showlegend": false,
         "type": "box",
         "x0": " ",
         "xaxis": "x",
         "y": {
          "bdata": "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",
          "dtype": "f8"
         },
         "y0": " ",
         "yaxis": "y"
        },
        {
         "alignmentgroup": "True",
         "hovertemplate": "D1N1_lambda_temperature_0=%{y}<extra></extra>",
         "legendgroup": "",
         "marker": {
          "color": "#636efa"
         },
         "name": "",
         "notched": false,
         "offsetgroup": "",
         "orientation": "v",
         "showlegend": false,
         "type": "box",
         "x0": " ",
         "xaxis": "x2",
         "y": {
          "bdata": "dEo1s1oN3T8AYSbJlMi8P1AFNZ9TVbM/AGEmyZTIvD8AYSbJlMi8P2DjWyhFDso/HDveeSfs1D9QBTWfU1WzPxw73nkn7NQ/FqDUMGyk0j+WFSQpfMzQP2B4C17p98U/+PARdE26wz8cO955J+zUP7JFZakOutk/HDveeSfs1D/48BF0TbrDP/jwEXRNusM/+PARdE26wz/48BF0TbrDP/7B8uw4F9o//sHy7DgX2j/+wfLsOBfaP2QDnsnIGtE/zEfXhU1n7T8I6KqrYdvWPwjoqqth29Y/COiqq2Hb1j/gq67ilGigP8imipKIAcc/yKaKkogBxz89sDhwf8DnP8D+Yaz7ZI4/wP5hrPtkjj8MAe0+S/PCPz2wOHB/wOc/PbA4cH/A5z/LjQHKEojnP8uNAcoSiOc/y40ByhKI5z8MAe0+S/PCPwwB7T5L88I/FpqXAZV21D8WmpcBlXbUP+CrruKUaKA/4Kuu4pRooD/gq67ilGigP+CrruKUaKA/4Kuu4pRooD8DexwbQJbjP2DjWyhFDso/SNxYB8+h5D/+paRcORrVP/A05G187OM//qWkXDka1T/+paRcORrVP/6lpFw5GtU//qWkXDka1T9g41soRQ7KP7Tgffiqy8M/0jt82I2Z5D/SO3zYjZnkPxhWz82W48k/HDveeSfs1D9oFhq0kufPPwN7HBtAluM/juQmO5Xp1T+AtNkaS4KBP8C1nMU7goc/8DTkbXzs4z8EhWuO/k3pP2ZPU3lbYNA/8DTkbXzs4z89sDhwf8DnP/7B8uw4F9o/0AGvXVTi3z/AtZzFO4KHPw8FXUVPPeA/aBYatJLnzz9EWwHHCC3ZP0RbAccILdk/kCsoinW9oT+E4QmLa3rcP9TPd2BDA+M/1M93YEMD4z/Uz3dgQwPjP7Jj6qd9XOg/wLWcxTuChz8EhWuO/k3pPzBR72aMwL0/zEfXhU1n7T9kA57JyBrRP2QDnsnIGtE/ZAOeycga0T/mNDnfMOnfP4V/bRdGreg/CEqWnc2azT8ISpadzZrNPwhKlp3Nms0/CCxvjDrJtT8uhSB5GHDsPxwlQE06LcA/CspURTN43D8KylRFM3jcPwrKVEUzeNw/CspURTN43D+SgmrTEfXWP5KCatMR9dY/koJq0xH11j+SgmrTEfXWP6gTSHI2a8w/7MM+mEQ+3T+2ccljVj7UP9EU4soAEeE/Dt+qQnpA1z9WTRiGbzvWP/oGhJtSreE/xDU43nwh0D/ENTjefCHQP7Jj6qd9XOg/smPqp31c6D9WsGbFO6LmP1awZsU7ouY/7MM+mEQ+3T/swz6YRD7dP4V/bRdGreg/aA9BgCXc0z/wktEtZx/gP/j7U3Z4xdE/+PtTdnjF0T/4+1N2eMXRP2gWGrSS588/Af0kGtks7j9+6qDrdY3RP8BMHOXHkLM/FpqXAZV21D8EABrcCsbGPwQAGtwKxsY/gLTZGkuCgT8YgTDHFBnqPxiBMMcUGeo/mvCNAKjh7D/ATBzlx5CzPxaalwGVdtQ/2HBPD6ZbyT/wktEtZx/gP/CS0S1nH+A/plTWIJ++0j+SgmrTEfXWPw8FXUVPPeA/DwVdRU894D8PBV1FTz3gPw8FXUVPPeA/lDT+2dIt7T+UNP7Z0i3tP4C02RpLgoE/Vk0Yhm871j/gq67ilGigP8DW9PctHuo/wNb09y0e6j8b4jmfQJnuP6CiEHoeZ6A/QNMOcScFuz9A0w5xJwW7P01KEKLHceo/vvkrl6BE1D/gA2sXfemcP+y4AjZH/N0/9Or9j3wH1T/06v2PfAfVP37qoOt1jdE/7LgCNkf83T/suAI2R/zdP6Si14K5LtE/pKLXgrku0T98uG7QsjrSP3y4btCyOtI/RFsBxwgt2T8hpONzbC7mP7MNy2H2ruI/jQ1XDbUc4j+YSJl+NAnJP7AoaYxCJa8/sChpjEIlrz+wKGmMQiWvPxY7zZJSrNo/xw++CbKb5T/HD74JspvlP8cPvgmym+U/xw++CbKb5T/oX2LcNM/iPz81mhFDCOE/sHndsUWwwj+gohB6HmegP6CiEHoeZ6A/uiwpGbFn3D8PBV1FTz3gPzAsw8UNM+M/nC185gOeyz+cLXzmA57LP5wtfOYDnss/nC185gOeyz94NhOUbczXPwjA+rYQKNw/Rim9tO3l1T9GKb207eXVP0YpvbTt5dU/hX9tF0at6D+Ff20XRq3oP3D1QHLykdo/9qMBtPbV5T/6BoSbUq3hP0jcWAfPoeQ/SNxYB8+h5D9I3FgHz6HkP4Nula6pwec/zEfXhU1n7T/gQfSqfkGXP7MNy2H2ruI/rKoG7aRK6D+sqgbtpEroP6yqBu2kSug/sw3LYfau4j+zDcth9q7iP9hwTw+mW8k/TE6F6idF6T9MToXqJ0XpP9ABr11U4t8/0AGvXVTi3z/QAa9dVOLfP9ABr11U4t8/sOGT3aD5pT8Pk2UbqZ/nP4l7IaLB0Oo/KHcXKdhW6j8odxcp2FbqP8IpoIOy6Oc/gLTZGkuCgT+AtNkaS4KBPwhEzmW1Orw/KQfhkWEE7z+U/F3cDHrTPzahUEPwhdE/NqFQQ/CF0T+uaNGai5zSP7YKZPRdHu4/hRdSUTcr6D/j3hWTX7PvP/jSaZZkHMo/essUCi7K1z96yxQKLsrXP3iIu2oeob4/6gwQpc4E1T/qDBClzgTVP7JsxNJeVew/smzE0l5V7D/AnbKOqLezPzCHvidC19M/4y4P9wku6D9oFhq0kufPP3vljD9Gd+c/FDtu7wDw1j8aNUXppl7uPxo1RemmXu4/mru/UPu67z9WTRiGbzvWP77z5gBbkuw/C9HPenb37j9g+6OG1TanP4x52W3rOeI/mDfwIPCc3j8Q5l/+4irePwtTlIoNv+w/C1OUig2/7D8LU5SKDb/sPw+mFeCAguI/RsNmE0TK6j9Gw2YTRMrqP2CyKIws+7c/wimgg7Lo5z/t4Mu+xyHuPxQ7bu8A8NY/po/GUFhV1z+FDB4tWx7iP4UMHi1bHuI/tgpk9F0e7j+a8I0AqOHsPwRl5n/m9cU/gPqgFo+llj9mT1N5W2DQP8JlfXZLTNc/kCsoinW9oT+QKyiKdb2hP5ArKIp1vaE/kCsoinW9oT8wsAfUJyWwPzCwB9QnJbA/MLAH1CclsD8wsAfUJyWwP8iY+Qe+H+M/nD6Cx2UyzD++Gk0ll4TgP7Jj6qd9XOg/L76VJwWu5j/0B/ItZivVP/QH8i1mK9U/mru/UPu67z+DbpWuqcHnP4Nula6pwec/4Kuu4pRooD+oE0hyNmvMPxiBMMcUGeo/MC+FUhkS1j+Medlt6zniP+DmAkkwkJE/MLAH1CclsD/gyLIyys3TP/ajAbT21eU/Ssbgcei92z9ZvEXkPRvrP4l7IaLB0Oo/aEilN3Wn3j+cLXzmA57LP12+IaN0UuA/Xb4ho3RS4D+KvAe7vnnlP8+f3VGt4eQ/0pCeZPOV0D8odxcp2FbqPwjA+rYQKNw/KOKWtAFX3z8SMo4wxU7gPwjA+rYQKNw/0RTiygAR4T9w4bFrrHXKPwjA+rYQKNw/cOGxa6x1yj9w4bFrrHXKPxWIMG2ILu4/sHndsUWwwj8o4pa0AVffPyjilrQBV98/KOKWtAFX3z8o4pa0AVffP16qywI2Kd0/KOKWtAFX3z8vvpUnBa7mP4UMHi1bHuI/smzE0l5V7D+o1akolWq4P6jVqSiVarg/qNWpKJVquD9gsiiMLPu3P1/VBjg1uug/iOOjD45fvD8f7rEenObmP5gYdeNHwbE/mBh140fBsT/zPKksB2zvPy6FIHkYcOw/Qncp54lT3D/rMetNW2TkP7osKRmxZ9w/7KaN3pbnxz9dviGjdFLgP2D7o4bVNqc/YLIojCz7tz8B/SQa2SzuP1BWAIepZ+o/UFYAh6ln6j9QVgCHqWfqP1BWAIepZ+o/mCt/ku6azT9WQ78mhZruP2hIpTd1p94/aEilN3Wn3j/wCm62+aq4P/AKbrb5qrg/ILI1CBYsqz8gsjUIFiyrP9mz8NqwDug/2bPw2rAO6D/Zs/DasA7oP7BoK3xhvN4/+9jCYOHL5j/Zs/DasA7oP9mz8NqwDug/8DTkbXzs4z/CZX12S0zXPw7fqkJ6QNc/H+6xHpzm5j9D3ni+FY/iPw7fqkJ6QNc/PzWaEUMI4T+2CmT0XR7uP7YKZPRdHu4/Xb4ho3RS4D+QHIYdZAijPykH4ZFhBO8/KQfhkWEE7z8pB+GRYQTvP2QJQEfvMtI/7IvE3zk53D/si8TfOTncP+yLxN85Odw/Zg4tEc+y4T9mDi0Rz7LhP2YOLRHPsuE/FjvNklKs2j/YvrdFUoriPxhWz82W48k/SnAv49VP7T/YvrdFUoriP6bgcowDiNQ/yKaKkogBxz8ATy8yRBjuP8c4FYe+K+w/6IDdLJJEwT9561X1o7vqP0KdQAbATNs/9AfyLWYr1T9CnUAGwEzbPwcexSjngu4/WiiVOMPA7T8HHsUo54LuP/ajAbT21eU/LrxbdbJq0z8lab+TZ9TvP5LSC1AN3O8/xNnq4EmZ6T/OIHFSJ3bbP84gcVIndts/JWm/k2fU7z+++SuXoETUP5Dd7zJ5Zs4/kN3vMnlmzj/AambryMqQPxiBMMcUGeo/XF/sc+G67j9KxuBx6L3bP0rG4HHovds/rHpaKP3R1j+seloo/dHWP6x6Wij90dY/rHpaKP3R1j9w4bFrrHXKP/vYwmDhy+Y/+9jCYOHL5j85V6XB2PPiPzlXpcHY8+I/XFZ/fHnI0D9cVn98ecjQP1xWf3x5yNA/sIeuruzzvT+wh66u7PO9P+ckbiMZWuE/GIEwxxQZ6j/AnbKOqLezP9h70NBzit4/g3Pwg08z7T9oPZpa7p7QP0jAsATqhNw/oFMXoLF+wT8EZeZ/5vXFP7JsxNJeVew/COmS40Bz4j+MqQ2n33jiPwSFa47+Tek/BIVrjv5N6T8EhWuO/k3pPxoNGMQ0SNM/Gg0YxDRI0z8CvbgRJJXdP5Q0/tnSLe0/qMIJBBYS1T/Ag7WVUHTLPyVpv5Nn1O8/veUsQYEc7T+95SxBgRztP8BMHOXHkLM/rEuks8gv7j+sS6SzyC/uPy6FIHkYcOw/D3LqtPSm5z+ybMTSXlXsP+AVB6BG/68/4BUHoEb/rz+Q3e8yeWbOP30UfddIDuk/P9I6GtzW7j8/0joa3NbuPz/SOhrc1u4/VCuPjpvG1j8PBV1FTz3gP8Cdso6ot7M/wJ2yjqi3sz/AnbKOqLezP8Cdso6ot7M/WbxF5D0b6z9ZvEXkPRvrPw==",
          "dtype": "f8"
         },
         "y0": " ",
         "yaxis": "y2"
        },
        {
         "alignmentgroup": "True",
         "hovertemplate": "D1N1_gamma_lambda_temperature=%{y}<extra></extra>",
         "legendgroup": "",
         "marker": {
          "color": "#636efa"
         },
         "name": "",
         "notched": false,
         "offsetgroup": "",
         "orientation": "v",
         "showlegend": false,
         "type": "box",
         "x0": " ",
         "xaxis": "x3",
         "y": {
          "bdata": "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",
          "dtype": "f8"
         },
         "y0": " ",
         "yaxis": "y3"
        },
        {
         "alignmentgroup": "True",
         "hovertemplate": "D1N1_tr_0=%{y}<extra></extra>",
         "legendgroup": "",
         "marker": {
          "color": "#636efa"
         },
         "name": "",
         "notched": false,
         "offsetgroup": "",
         "orientation": "v",
         "showlegend": false,
         "type": "box",
         "x0": " ",
         "xaxis": "x4",
         "y": {
          "bdata": "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",
          "dtype": "f8"
         },
         "y0": " ",
         "yaxis": "y4"
        },
        {
         "alignmentgroup": "True",
         "hovertemplate": "D1N1_gamma_tr=%{y}<extra></extra>",
         "legendgroup": "",
         "marker": {
          "color": "#636efa"
         },
         "name": "",
         "notched": false,
         "offsetgroup": "",
         "orientation": "v",
         "showlegend": false,
         "type": "box",
         "x0": " ",
         "xaxis": "x5",
         "y": {
          "bdata": "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",
          "dtype": "f8"
         },
         "y0": " ",
         "yaxis": "y5"
        },
        {
         "alignmentgroup": "True",
         "hovertemplate": "D2N1_energy_transfert=%{y}<extra></extra>",
         "legendgroup": "",
         "marker": {
          "color": "#636efa"
         },
         "name": "",
         "notched": false,
         "offsetgroup": "",
         "orientation": "v",
         "showlegend": false,
         "type": "box",
         "x0": " ",
         "xaxis": "x6",
         "y": {
          "bdata": "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",
          "dtype": "f8"
         },
         "y0": " ",
         "yaxis": "y6"
        },
        {
         "alignmentgroup": "True",
         "hovertemplate": "D2N1_lambda_temperature_0=%{y}<extra></extra>",
         "legendgroup": "",
         "marker": {
          "color": "#636efa"
         },
         "name": "",
         "notched": false,
         "offsetgroup": "",
         "orientation": "v",
         "showlegend": false,
         "type": "box",
         "x0": " ",
         "xaxis": "x7",
         "y": {
          "bdata": "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",
          "dtype": "f8"
         },
         "y0": " ",
         "yaxis": "y7"
        },
        {
         "alignmentgroup": "True",
         "hovertemplate": "D2N1_gamma_lambda_temperature=%{y}<extra></extra>",
         "legendgroup": "",
         "marker": {
          "color": "#636efa"
         },
         "name": "",
         "notched": false,
         "offsetgroup": "",
         "orientation": "v",
         "showlegend": false,
         "type": "box",
         "x0": " ",
         "xaxis": "x8",
         "y": {
          "bdata": "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",
          "dtype": "f8"
         },
         "y0": " ",
         "yaxis": "y8"
        },
        {
         "alignmentgroup": "True",
         "hovertemplate": "D2N1_tr_0=%{y}<extra></extra>",
         "legendgroup": "",
         "marker": {
          "color": "#636efa"
         },
         "name": "",
         "notched": false,
         "offsetgroup": "",
         "orientation": "v",
         "showlegend": false,
         "type": "box",
         "x0": " ",
         "xaxis": "x9",
         "y": {
          "bdata": "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",
          "dtype": "f8"
         },
         "y0": " ",
         "yaxis": "y9"
        },
        {
         "alignmentgroup": "True",
         "hovertemplate": "D2N1_gamma_tr=%{y}<extra></extra>",
         "legendgroup": "",
         "marker": {
          "color": "#636efa"
         },
         "name": "",
         "notched": false,
         "offsetgroup": "",
         "orientation": "v",
         "showlegend": false,
         "type": "box",
         "x0": " ",
         "xaxis": "x10",
         "y": {
          "bdata": "oPfQwEzSzr9622YZBfnBvyBU004sxMW/ettmGQX5wb9622YZBfnBv4mTerfey9m/hqmaXDUZ0L8gVNNOLMTFv4apmlw1GdC/lAqcEms9sL9cxGd02/XDv+iOBqHFAM6/OF8lWdt0pb+GqZpcNRnQv8CFJg00jZu/hqmaXDUZ0L/w1aQ06MLXv/DVpDTowte/8NWkNOjC17/w1aQ06MLXv3ykE4TeSc2/fKQThN5Jzb+u2rVxVszTvxAiYsoz0su/TaynaEBT2r9iR082gNfCv2JHTzaA18K/Ds/L3Pxz3L8gy227vGyMv+DT2IEgCd6/4NPYgSAJ3r8k8V9nQOzOv5JkWbE3BdG/ePSqUr/vyb8HfZ16HMDcvyTxX2dA7M6/JPFfZ0Dszr98vzC6+Z+3v3y/MLr5n7e/fL8wuvmft78HfZ16HMDcvwd9nXocwNy/F5TQk7Tt178XlNCTtO3Xvxjy8j+ZZaK/GPLyP5llor8Y8vI/mWWivxjy8j+ZZaK/GPLyP5llor/AhSYNNI2bv4mTerfey9m/ACAYUTb1kb/KZ0m0lZDJv8Can4TF982/nJ9iR8KJ0r+cn2JHwonSv5yfYkfCidK/nJ9iR8KJ0r+Jk3q33svZv2KtTPwTsNK/TuqIlz6Pw79O6oiXPo/DvyDLbbu8bIy/hqmaXDUZ0L/cR2qVMX+5v8CFJg00jZu/GD+ipJcR279+W6odq3Pdv88V7PbnJdm/sK9QCUgnl7+EXppbFMq5v/TwbIpYrsm/sK9QCUgnl78k8V9nQOzOv3ykE4TeSc2/Wv/Kxmt6yL/PFez25yXZv5IkfE+ZtMi/3EdqlTF/ub99ofYvA2jfv9EEnUbKdd2/SpRAAirA07/SfOVc33/Yv935Htp1BNi/3fke2nUE2L/d+R7adQTYv7I7sTtVjc2/zxXs9ucl2b+EXppbFMq5v4OJuMN00ta/TaynaEBT2r8QImLKM9LLvxAiYsoz0su/ECJiyjPSy78Cu4uNJVTSv+QvG93WP8e/g4m4w3TS1r+DibjDdNLWv4OJuMN00ta/Uha4EoJay7/QbcYTteipvw4X6pp7jdu/YnLl1YcUxL9icuXVhxTEv2Jy5dWHFMS/YnLl1YcUxL8tslNAIUvWvy2yU0AhS9a/LbJTQCFL1r8tslNAIUvWvzRyvGPGOsy/oPfQwEzSzr/zBegYD13Tv7TsOmhe28S/2p8B9dP+1r9sMz/HtlHfvyDLbbu8bIy/JL+1c6lYvb8kv7VzqVi9v+QvG93WP8e/5C8b3dY/x7+8JQ/z6Nzbv7wlD/Po3Nu/oPfQwEzSzr+g99DATNLOv1aUBlIyqMm/+Hc3nBGetL84U4ZHOXrav9qFx9l53dm/2oXH2Xnd2b/ahcfZed3Zv9xHapUxf7m/vvdtRH+R1b8EWgat+xPCv2YIFRl2JNm/F5TQk7Tt178ghYQP+rKBvyCFhA/6soG/+Hc3nBGetL/anwH10/7Wv9qfAfXT/ta/iOMvsgfNtr9mCBUZdiTZvxeU0JO07de/UOKaDW8Dl784U4ZHOXravzhThkc5etq/RCaxkTL80L8tslNAIUvWv1zEZ3Tb9cO/XMRndNv1w79cxGd02/XDv1zEZ3Tb9cO/ivcx3QxC2b+K9zHdDELZv35bqh2rc92/bDM/x7ZR378Y8vI/mWWivyqEt1/szdi/0KOlxYSt1r9AT6RGK6NyvxCNkW1hw5e/EP6pbi5ryL8Q/qluLmvIvw4X6pp7jdu/WN2dn1ky2b+o55udJduqv3pi8fkha9y/0VB5NTP32b/RUHk1M/fZvwRaBq37E8K/SL7AeyE10b96YvH5IWvcv3gH9xftYs2/eAf3F+1izb9g4d8zG8Cov2Dh3zMbwKi/0QSdRsp13b8EmH+vhPDRv5w2hCjbr9+/fhl3+1xHwb+jZBWsPCbXv5mNmZxIptW/mY2ZnEim1b+ZjZmcSKbVv5sR20tDe9q/ALcljaKcv78AtyWNopy/vwC3JY2inL+/ALcljaKcv7/YRmRIUzqqv8AUoMP8Zpe/lJ/rcunZu7+I4y+yB822v4jjL7IHzba/gPCYygTQ0L9cxGd02/XDv+CfLSPODta/VoImL/jf2r9WgiYv+N/av1aCJi/439q/VoImL/jf2r962cvD6mDSv2wzP8e2Ud+/XpS6vomT379elLq+iZPfv16Uur6Jk9+/VpQGUjKoyb9WlAZSMqjJvwDXN0VY/XS/ZEnaKHFKw78Y8vI/mWWivwAgGFE29ZG/ACAYUTb1kb8AIBhRNvWRv7MVGZys0tq/TaynaEBT2r9Byf9QacHXv36HMpXAYci/0MI57fg6zr/Qwjnt+DrOv9DCOe34Os6/focylcBhyL9+hzKVwGHIv1Dimg1vA5e/LXrJIq3H0b8teskircfRv1r/ysZresi/Wv/Kxmt6yL9a/8rGa3rIv1r/ysZresi/1meVYI69w7/P5Fa9pyaTvzYGMBXEpMq/Y2R2dKLA1b9jZHZ0osDVv6KsWSnXSdW/fluqHatz3b9+W6odq3Pdv7WHzxfmQtu/tO1lPoCHyr+okVKOTNKjv257+mi2iMS/bnv6aLaIxL8OnJgK7h/Tv5L1y+MLVde/jhx0VrTx279+W6odq3Pdv7t1UM1c4N2//jP5kaAgx7/+M/mRoCDHv0xk0JAAGtS/8s5Omjyg2r/yzk6aPKDav1vdOQsBXdK/W905CwFd0r+OKJyx2RjDv7WHzxfmQtu/XMRndNv1w7+pPW3oJY/avwFtM8MmHd6/MmsCttug17/w9JzJmcnNv/D0nMmZyc2/Wg8M0g2pzr8r19ksLqTcv2whvjt5DdW/Yb1yfPTU1L/As7dMWmyTv6refP/GkNS/TGz42D4bzL8wPflo2FzHv1hRKvJnj7W/WFEq8mePtb9YUSryZ4+1v/D5mx131N6/mn/2nN+z2L+af/ac37PYv8Czt0xabJO/oqxZKddJ1b+IWP7I3qvKvxY3qliY/M2/B9o+OWam2b/gny0jzg7Wv+CfLSPODta/kvXL4wtV178QjZFtYcOXv7wN+ri3R72/n8qrM3OI3r/08GyKWK7JvxRNiBDsAd6/SpRAAirA079KlEACKsDTv0qUQAIqwNO/SpRAAirA07/Amp+ExffNv8Can4TF982/wJqfhMX3zb+8wjF2cqy1v5hRjrw53qC/Ij/ncXqU37+cscpQEMXVv0qKQCzhW8u/nDaEKNuv379Ub0LQ2vDSv1RvQtDa8NK/Wg8M0g2pzr+zFRmcrNLav7MVGZys0tq/GPLyP5llor80crxjxjrMv9qfAfXT/ta/gKBzRKPif790bNlvksbJv9AQGoYAM6u/+IO4MIrX07/anwH10/7Wv2RJ2ihxSsO/8P2XDNGPor+8Dfq4t0e9vzYGMBXEpMq//y1Bli6m179WgiYv+N/av4iV+yFdpt2/iO2rT8uX1r8497HUA+22v8ziKdvP+NO/Cmoe+AQI0b9jZHZ0osDVvze+b/ppvt6/XheEbmzixb/pKOA7V13ZvyvX2SwupNy/tOw6aF7bxL85cDz3UmPUvyvX2SwupNy/OXA891Jj1L85cDz3UmPUv0BPpEYro3K/lJ/rcunZu79eF4RubOLFv14XhG5s4sW/XheEbmzixb9eF4RubOLFv14XhG5s4sW/XheEbmzixb9+hzKVwGHIv+CfLSPODta/W905CwFd0r+uHdYgz/fBv64d1iDP98G/rh3WIM/3wb9Y4JlmqubQvzgBxd9/abq/K+xueYDY3r+jZBWsPCbXvxLdkgfv4c+/Et2SB+/hz796YvH5IWvcv9BtxhO16Km/4PTKcno1or+MkyKpF7zZv4DwmMoE0NC/qgVyijf62b+IlfshXabdv1jgmWaq5tC/WOCZZqrm0L++921Ef5HVvzhfJVnbdKW/OF8lWdt0pb84XyVZ23SlvzhfJVnbdKW/kvb3P+ym3L8oLXahnOTVv3Sgq7eQvc+//y1Bli6m17/Sy5wjeCXIv9LLnCN4Jci/v1/9FwHe0r+/X/0XAd7Sv9INLkJO19C/0g0uQk7X0L/SDS5CTtfQv34Zd/tcR8G/QICvvyqBoL8gTG4sf6rYv9INLkJO19C/sK9QCUgnl78UTYgQ7AHev/bLAqI3c8+/o2QVrDwm179Q3hRMA6e/v6B4fWo2t6C/wBSgw/xml7+S9cvjC1XXv5L1y+MLVde/iJX7IV2m3b+qcL4WiITJv7TtZT6Ah8q/tO1lPoCHyr+07WU+gIfKv1IxBhP5Isi/UjEGE/kiyL9SMQYT+SLIv1IxBhP5Isi/Yq1M/BOw0r/4ULtfvZjPv2KtTPwTsNK/auqEaMh7yL+UyszkPenHv5k2L/mNv9q/lKTswZHN0L+UyszkPenHv+z1nuUgtdW/4NPYgSAJ3r8gUvHXuDybv/v7Tu9v2tO/gMiVISpHab9gyLy+Rw6xv2r38/FvSNa/VG9C0Nrw0r9q9/Pxb0jWv1xURSq5W8y/XFRFKrlbzL9cVEUquVvMv2RJ2ihxSsO/zBrHzQ8syr+h4szNOgfSv9wCInvPOtW/+tDCg3eaw79gevMDFFuyv2B68wMUW7K/oeLMzToH0r+22En4Cf/Yv7biQHUTpsK/Yq1M/BOw0r+Un+ty6dm7v9qfAfXT/ta/vAmV+s6i2r/w/ZcM0Y+iv/D9lwzRj6K/wJqfhMX3zb+8wjF2cqy1v7zCMXZyrLW/vMIxdnKstb8QIYEWlc/Dv0CAr78qgaC/QICvvyqBoL9mvcjvIpvQv+YOiVLTANa/3665Vshc2L/frrlWyFzYv9+uuVbIXNi/rCQdeVCg3b+sJB15UKDdv0CFUGeR0da/oHh9aja3oL+OKJyx2RjDvyyK7WlMAdC/PJmVjgR+u78ccf0tMeLCv0B/mt3i0ry/3OIMIOZb3r/chL3n05q9v1vdOQsBXdK/y1Pg2N1K2L+22En4Cf/Yv4RemlsUyrm/hF6aWxTKub+EXppbFMq5vziG3Jq2hqO/OIbcmraGo7/Onj03i7TTv64cZUAU/9+/K9fZLC6k3L8oVqBo5mmnv/PQBUR8eNG/FAFVIeDts78UAVUh4O2zv2YIFRl2JNm/VOb1Jd0ZtL9U5vUl3Rm0v9BtxhO16Km/eFVrMzoHrb8g2AIZsF2FvyhWoGjmaae/KFagaOZpp7+24kB1E6bCv1RvQtDa8NK/Pgkc43cg378+CRzjdyDfvz4JHON3IN+/rCtbB/D9xb+qTzU3HxzIv44onLHZGMO/jiicsdkYw7+OKJyx2RjDv44onLHZGMO/3IS959Oavb/chL3n05q9vw==",
          "dtype": "f8"
         },
         "y0": " ",
         "yaxis": "y10"
        }
       ],
       "layout": {
        "annotations": [
         {
          "font": {
           "size": 16
          },
          "showarrow": false,
          "text": "D1N1_energy_transfert",
          "x": 0.13333333333333333,
          "xanchor": "center",
          "xref": "paper",
          "y": 1,
          "yanchor": "bottom",
          "yref": "paper"
         },
         {
          "font": {
           "size": 16
          },
          "showarrow": false,
          "text": "D1N1_lambda_temperature_0",
          "x": 0.5,
          "xanchor": "center",
          "xref": "paper",
          "y": 1,
          "yanchor": "bottom",
          "yref": "paper"
         },
         {
          "font": {
           "size": 16
          },
          "showarrow": false,
          "text": "D1N1_gamma_lambda_temperature",
          "x": 0.8666666666666667,
          "xanchor": "center",
          "xref": "paper",
          "y": 1,
          "yanchor": "bottom",
          "yref": "paper"
         },
         {
          "font": {
           "size": 16
          },
          "showarrow": false,
          "text": "D1N1_tr_0",
          "x": 0.13333333333333333,
          "xanchor": "center",
          "xref": "paper",
          "y": 0.7250000000000001,
          "yanchor": "bottom",
          "yref": "paper"
         },
         {
          "font": {
           "size": 16
          },
          "showarrow": false,
          "text": "D1N1_gamma_tr",
          "x": 0.5,
          "xanchor": "center",
          "xref": "paper",
          "y": 0.7250000000000001,
          "yanchor": "bottom",
          "yref": "paper"
         },
         {
          "font": {
           "size": 16
          },
          "showarrow": false,
          "text": "D2N1_energy_transfert",
          "x": 0.8666666666666667,
          "xanchor": "center",
          "xref": "paper",
          "y": 0.7250000000000001,
          "yanchor": "bottom",
          "yref": "paper"
         },
         {
          "font": {
           "size": 16
          },
          "showarrow": false,
          "text": "D2N1_lambda_temperature_0",
          "x": 0.13333333333333333,
          "xanchor": "center",
          "xref": "paper",
          "y": 0.45,
          "yanchor": "bottom",
          "yref": "paper"
         },
         {
          "font": {
           "size": 16
          },
          "showarrow": false,
          "text": "D2N1_gamma_lambda_temperature",
          "x": 0.5,
          "xanchor": "center",
          "xref": "paper",
          "y": 0.45,
          "yanchor": "bottom",
          "yref": "paper"
         },
         {
          "font": {
           "size": 16
          },
          "showarrow": false,
          "text": "D2N1_tr_0",
          "x": 0.8666666666666667,
          "xanchor": "center",
          "xref": "paper",
          "y": 0.45,
          "yanchor": "bottom",
          "yref": "paper"
         },
         {
          "font": {
           "size": 16
          },
          "showarrow": false,
          "text": "D2N1_gamma_tr",
          "x": 0.13333333333333333,
          "xanchor": "center",
          "xref": "paper",
          "y": 0.175,
          "yanchor": "bottom",
          "yref": "paper"
         }
        ],
        "height": 1200,
        "template": {
         "data": {
          "bar": [
           {
            "error_x": {
             "color": "#2a3f5f"
            },
            "error_y": {
             "color": "#2a3f5f"
            },
            "marker": {
             "line": {
              "color": "#E5ECF6",
              "width": 0.5
             },
             "pattern": {
              "fillmode": "overlay",
              "size": 10,
              "solidity": 0.2
             }
            },
            "type": "bar"
           }
          ],
          "barpolar": [
           {
            "marker": {
             "line": {
              "color": "#E5ECF6",
              "width": 0.5
             },
             "pattern": {
              "fillmode": "overlay",
              "size": 10,
              "solidity": 0.2
             }
            },
            "type": "barpolar"
           }
          ],
          "carpet": [
           {
            "aaxis": {
             "endlinecolor": "#2a3f5f",
             "gridcolor": "white",
             "linecolor": "white",
             "minorgridcolor": "white",
             "startlinecolor": "#2a3f5f"
            },
            "baxis": {
             "endlinecolor": "#2a3f5f",
             "gridcolor": "white",
             "linecolor": "white",
             "minorgridcolor": "white",
             "startlinecolor": "#2a3f5f"
            },
            "type": "carpet"
           }
          ],
          "choropleth": [
           {
            "colorbar": {
             "outlinewidth": 0,
             "ticks": ""
            },
            "type": "choropleth"
           }
          ],
          "contour": [
           {
            "colorbar": {
             "outlinewidth": 0,
             "ticks": ""
            },
            "colorscale": [
             [
              0,
              "#0d0887"
             ],
             [
              0.1111111111111111,
              "#46039f"
             ],
             [
              0.2222222222222222,
              "#7201a8"
             ],
             [
              0.3333333333333333,
              "#9c179e"
             ],
             [
              0.4444444444444444,
              "#bd3786"
             ],
             [
              0.5555555555555556,
              "#d8576b"
             ],
             [
              0.6666666666666666,
              "#ed7953"
             ],
             [
              0.7777777777777778,
              "#fb9f3a"
             ],
             [
              0.8888888888888888,
              "#fdca26"
             ],
             [
              1,
              "#f0f921"
             ]
            ],
            "type": "contour"
           }
          ],
          "contourcarpet": [
           {
            "colorbar": {
             "outlinewidth": 0,
             "ticks": ""
            },
            "type": "contourcarpet"
           }
          ],
          "heatmap": [
           {
            "colorbar": {
             "outlinewidth": 0,
             "ticks": ""
            },
            "colorscale": [
             [
              0,
              "#0d0887"
             ],
             [
              0.1111111111111111,
              "#46039f"
             ],
             [
              0.2222222222222222,
              "#7201a8"
             ],
             [
              0.3333333333333333,
              "#9c179e"
             ],
             [
              0.4444444444444444,
              "#bd3786"
             ],
             [
              0.5555555555555556,
              "#d8576b"
             ],
             [
              0.6666666666666666,
              "#ed7953"
             ],
             [
              0.7777777777777778,
              "#fb9f3a"
             ],
             [
              0.8888888888888888,
              "#fdca26"
             ],
             [
              1,
              "#f0f921"
             ]
            ],
            "type": "heatmap"
           }
          ],
          "histogram": [
           {
            "marker": {
             "pattern": {
              "fillmode": "overlay",
              "size": 10,
              "solidity": 0.2
             }
            },
            "type": "histogram"
           }
          ],
          "histogram2d": [
           {
            "colorbar": {
             "outlinewidth": 0,
             "ticks": ""
            },
            "colorscale": [
             [
              0,
              "#0d0887"
             ],
             [
              0.1111111111111111,
              "#46039f"
             ],
             [
              0.2222222222222222,
              "#7201a8"
             ],
             [
              0.3333333333333333,
              "#9c179e"
             ],
             [
              0.4444444444444444,
              "#bd3786"
             ],
             [
              0.5555555555555556,
              "#d8576b"
             ],
             [
              0.6666666666666666,
              "#ed7953"
             ],
             [
              0.7777777777777778,
              "#fb9f3a"
             ],
             [
              0.8888888888888888,
              "#fdca26"
             ],
             [
              1,
              "#f0f921"
             ]
            ],
            "type": "histogram2d"
           }
          ],
          "histogram2dcontour": [
           {
            "colorbar": {
             "outlinewidth": 0,
             "ticks": ""
            },
            "colorscale": [
             [
              0,
              "#0d0887"
             ],
             [
              0.1111111111111111,
              "#46039f"
             ],
             [
              0.2222222222222222,
              "#7201a8"
             ],
             [
              0.3333333333333333,
              "#9c179e"
             ],
             [
              0.4444444444444444,
              "#bd3786"
             ],
             [
              0.5555555555555556,
              "#d8576b"
             ],
             [
              0.6666666666666666,
              "#ed7953"
             ],
             [
              0.7777777777777778,
              "#fb9f3a"
             ],
             [
              0.8888888888888888,
              "#fdca26"
             ],
             [
              1,
              "#f0f921"
             ]
            ],
            "type": "histogram2dcontour"
           }
          ],
          "mesh3d": [
           {
            "colorbar": {
             "outlinewidth": 0,
             "ticks": ""
            },
            "type": "mesh3d"
           }
          ],
          "parcoords": [
           {
            "line": {
             "colorbar": {
              "outlinewidth": 0,
              "ticks": ""
             }
            },
            "type": "parcoords"
           }
          ],
          "pie": [
           {
            "automargin": true,
            "type": "pie"
           }
          ],
          "scatter": [
           {
            "fillpattern": {
             "fillmode": "overlay",
             "size": 10,
             "solidity": 0.2
            },
            "type": "scatter"
           }
          ],
          "scatter3d": [
           {
            "line": {
             "colorbar": {
              "outlinewidth": 0,
              "ticks": ""
             }
            },
            "marker": {
             "colorbar": {
              "outlinewidth": 0,
              "ticks": ""
             }
            },
            "type": "scatter3d"
           }
          ],
          "scattercarpet": [
           {
            "marker": {
             "colorbar": {
              "outlinewidth": 0,
              "ticks": ""
             }
            },
            "type": "scattercarpet"
           }
          ],
          "scattergeo": [
           {
            "marker": {
             "colorbar": {
              "outlinewidth": 0,
              "ticks": ""
             }
            },
            "type": "scattergeo"
           }
          ],
          "scattergl": [
           {
            "marker": {
             "colorbar": {
              "outlinewidth": 0,
              "ticks": ""
             }
            },
            "type": "scattergl"
           }
          ],
          "scattermap": [
           {
            "marker": {
             "colorbar": {
              "outlinewidth": 0,
              "ticks": ""
             }
            },
            "type": "scattermap"
           }
          ],
          "scattermapbox": [
           {
            "marker": {
             "colorbar": {
              "outlinewidth": 0,
              "ticks": ""
             }
            },
            "type": "scattermapbox"
           }
          ],
          "scatterpolar": [
           {
            "marker": {
             "colorbar": {
              "outlinewidth": 0,
              "ticks": ""
             }
            },
            "type": "scatterpolar"
           }
          ],
          "scatterpolargl": [
           {
            "marker": {
             "colorbar": {
              "outlinewidth": 0,
              "ticks": ""
             }
            },
            "type": "scatterpolargl"
           }
          ],
          "scatterternary": [
           {
            "marker": {
             "colorbar": {
              "outlinewidth": 0,
              "ticks": ""
             }
            },
            "type": "scatterternary"
           }
          ],
          "surface": [
           {
            "colorbar": {
             "outlinewidth": 0,
             "ticks": ""
            },
            "colorscale": [
             [
              0,
              "#0d0887"
             ],
             [
              0.1111111111111111,
              "#46039f"
             ],
             [
              0.2222222222222222,
              "#7201a8"
             ],
             [
              0.3333333333333333,
              "#9c179e"
             ],
             [
              0.4444444444444444,
              "#bd3786"
             ],
             [
              0.5555555555555556,
              "#d8576b"
             ],
             [
              0.6666666666666666,
              "#ed7953"
             ],
             [
              0.7777777777777778,
              "#fb9f3a"
             ],
             [
              0.8888888888888888,
              "#fdca26"
             ],
             [
              1,
              "#f0f921"
             ]
            ],
            "type": "surface"
           }
          ],
          "table": [
           {
            "cells": {
             "fill": {
              "color": "#EBF0F8"
             },
             "line": {
              "color": "white"
             }
            },
            "header": {
             "fill": {
              "color": "#C8D4E3"
             },
             "line": {
              "color": "white"
             }
            },
            "type": "table"
           }
          ]
         },
         "layout": {
          "annotationdefaults": {
           "arrowcolor": "#2a3f5f",
           "arrowhead": 0,
           "arrowwidth": 1
          },
          "autotypenumbers": "strict",
          "coloraxis": {
           "colorbar": {
            "outlinewidth": 0,
            "ticks": ""
           }
          },
          "colorscale": {
           "diverging": [
            [
             0,
             "#8e0152"
            ],
            [
             0.1,
             "#c51b7d"
            ],
            [
             0.2,
             "#de77ae"
            ],
            [
             0.3,
             "#f1b6da"
            ],
            [
             0.4,
             "#fde0ef"
            ],
            [
             0.5,
             "#f7f7f7"
            ],
            [
             0.6,
             "#e6f5d0"
            ],
            [
             0.7,
             "#b8e186"
            ],
            [
             0.8,
             "#7fbc41"
            ],
            [
             0.9,
             "#4d9221"
            ],
            [
             1,
             "#276419"
            ]
           ],
           "sequential": [
            [
             0,
             "#0d0887"
            ],
            [
             0.1111111111111111,
             "#46039f"
            ],
            [
             0.2222222222222222,
             "#7201a8"
            ],
            [
             0.3333333333333333,
             "#9c179e"
            ],
            [
             0.4444444444444444,
             "#bd3786"
            ],
            [
             0.5555555555555556,
             "#d8576b"
            ],
            [
             0.6666666666666666,
             "#ed7953"
            ],
            [
             0.7777777777777778,
             "#fb9f3a"
            ],
            [
             0.8888888888888888,
             "#fdca26"
            ],
            [
             1,
             "#f0f921"
            ]
           ],
           "sequentialminus": [
            [
             0,
             "#0d0887"
            ],
            [
             0.1111111111111111,
             "#46039f"
            ],
            [
             0.2222222222222222,
             "#7201a8"
            ],
            [
             0.3333333333333333,
             "#9c179e"
            ],
            [
             0.4444444444444444,
             "#bd3786"
            ],
            [
             0.5555555555555556,
             "#d8576b"
            ],
            [
             0.6666666666666666,
             "#ed7953"
            ],
            [
             0.7777777777777778,
             "#fb9f3a"
            ],
            [
             0.8888888888888888,
             "#fdca26"
            ],
            [
             1,
             "#f0f921"
            ]
           ]
          },
          "colorway": [
           "#636efa",
           "#EF553B",
           "#00cc96",
           "#ab63fa",
           "#FFA15A",
           "#19d3f3",
           "#FF6692",
           "#B6E880",
           "#FF97FF",
           "#FECB52"
          ],
          "font": {
           "color": "#2a3f5f"
          },
          "geo": {
           "bgcolor": "white",
           "lakecolor": "white",
           "landcolor": "#E5ECF6",
           "showlakes": true,
           "showland": true,
           "subunitcolor": "white"
          },
          "hoverlabel": {
           "align": "left"
          },
          "hovermode": "closest",
          "mapbox": {
           "style": "light"
          },
          "paper_bgcolor": "white",
          "plot_bgcolor": "#E5ECF6",
          "polar": {
           "angularaxis": {
            "gridcolor": "white",
            "linecolor": "white",
            "ticks": ""
           },
           "bgcolor": "#E5ECF6",
           "radialaxis": {
            "gridcolor": "white",
            "linecolor": "white",
            "ticks": ""
           }
          },
          "scene": {
           "xaxis": {
            "backgroundcolor": "#E5ECF6",
            "gridcolor": "white",
            "gridwidth": 2,
            "linecolor": "white",
            "showbackground": true,
            "ticks": "",
            "zerolinecolor": "white"
           },
           "yaxis": {
            "backgroundcolor": "#E5ECF6",
            "gridcolor": "white",
            "gridwidth": 2,
            "linecolor": "white",
            "showbackground": true,
            "ticks": "",
            "zerolinecolor": "white"
           },
           "zaxis": {
            "backgroundcolor": "#E5ECF6",
            "gridcolor": "white",
            "gridwidth": 2,
            "linecolor": "white",
            "showbackground": true,
            "ticks": "",
            "zerolinecolor": "white"
           }
          },
          "shapedefaults": {
           "line": {
            "color": "#2a3f5f"
           }
          },
          "ternary": {
           "aaxis": {
            "gridcolor": "white",
            "linecolor": "white",
            "ticks": ""
           },
           "baxis": {
            "gridcolor": "white",
            "linecolor": "white",
            "ticks": ""
           },
           "bgcolor": "#E5ECF6",
           "caxis": {
            "gridcolor": "white",
            "linecolor": "white",
            "ticks": ""
           }
          },
          "title": {
           "x": 0.05
          },
          "xaxis": {
           "automargin": true,
           "gridcolor": "white",
           "linecolor": "white",
           "ticks": "",
           "title": {
            "standoff": 15
           },
           "zerolinecolor": "white",
           "zerolinewidth": 2
          },
          "yaxis": {
           "automargin": true,
           "gridcolor": "white",
           "linecolor": "white",
           "ticks": "",
           "title": {
            "standoff": 15
           },
           "zerolinecolor": "white",
           "zerolinewidth": 2
          }
         }
        },
        "title": {
         "text": "Parameters distribution"
        },
        "width": 900,
        "xaxis": {
         "anchor": "y",
         "domain": [
          0,
          0.26666666666666666
         ]
        },
        "xaxis10": {
         "anchor": "y10",
         "domain": [
          0,
          0.26666666666666666
         ]
        },
        "xaxis11": {
         "anchor": "y11",
         "domain": [
          0.3666666666666667,
          0.6333333333333333
         ]
        },
        "xaxis12": {
         "anchor": "y12",
         "domain": [
          0.7333333333333334,
          1
         ]
        },
        "xaxis2": {
         "anchor": "y2",
         "domain": [
          0.3666666666666667,
          0.6333333333333333
         ]
        },
        "xaxis3": {
         "anchor": "y3",
         "domain": [
          0.7333333333333334,
          1
         ]
        },
        "xaxis4": {
         "anchor": "y4",
         "domain": [
          0,
          0.26666666666666666
         ]
        },
        "xaxis5": {
         "anchor": "y5",
         "domain": [
          0.3666666666666667,
          0.6333333333333333
         ]
        },
        "xaxis6": {
         "anchor": "y6",
         "domain": [
          0.7333333333333334,
          1
         ]
        },
        "xaxis7": {
         "anchor": "y7",
         "domain": [
          0,
          0.26666666666666666
         ]
        },
        "xaxis8": {
         "anchor": "y8",
         "domain": [
          0.3666666666666667,
          0.6333333333333333
         ]
        },
        "xaxis9": {
         "anchor": "y9",
         "domain": [
          0.7333333333333334,
          1
         ]
        },
        "yaxis": {
         "anchor": "x",
         "domain": [
          0.825,
          1
         ]
        },
        "yaxis10": {
         "anchor": "x10",
         "domain": [
          0,
          0.175
         ]
        },
        "yaxis11": {
         "anchor": "x11",
         "domain": [
          0,
          0.175
         ]
        },
        "yaxis12": {
         "anchor": "x12",
         "domain": [
          0,
          0.175
         ]
        },
        "yaxis2": {
         "anchor": "x2",
         "domain": [
          0.825,
          1
         ]
        },
        "yaxis3": {
         "anchor": "x3",
         "domain": [
          0.825,
          1
         ]
        },
        "yaxis4": {
         "anchor": "x4",
         "domain": [
          0.55,
          0.7250000000000001
         ]
        },
        "yaxis5": {
         "anchor": "x5",
         "domain": [
          0.55,
          0.7250000000000001
         ]
        },
        "yaxis6": {
         "anchor": "x6",
         "domain": [
          0.55,
          0.7250000000000001
         ]
        },
        "yaxis7": {
         "anchor": "x7",
         "domain": [
          0.275,
          0.45
         ]
        },
        "yaxis8": {
         "anchor": "x8",
         "domain": [
          0.275,
          0.45
         ]
        },
        "yaxis9": {
         "anchor": "x9",
         "domain": [
          0.275,
          0.45
         ]
        }
       }
      }
     },
     "metadata": {},
     "output_type": "display_data"
    }
   ],
   "source": [
    "fig = viewer.box_plot(3, nbest=500)\n",
    "fig.show()"
   ]
  },
  {
   "cell_type": "code",
   "execution_count": 30,
   "metadata": {},
   "outputs": [],
   "source": [
    "parameter_groups = [\n",
    "    [\n",
    "        \"D1N1_energy_transfert\",\n",
    "        \"D1N1_lambda_temperature_0\",\n",
    "        \"D1N1_gamma_lambda_temperature\",\n",
    "        \"D1N1_tr_0\",\n",
    "        \"D1N1_gamma_tr\",\n",
    "    ],\n",
    "    [\n",
    "        \"D2N1_energy_transfert\",\n",
    "        \"D2N1_lambda_temperature_0\",\n",
    "        \"D2N1_gamma_lambda_temperature\",\n",
    "        \"D2N1_tr_0\",\n",
    "        \"D2N1_gamma_tr\",\n",
    "    ],\n",
    "]"
   ]
  },
  {
   "cell_type": "code",
   "execution_count": 33,
   "metadata": {},
   "outputs": [
    {
     "data": {
      "application/vnd.plotly.v1+json": {
       "config": {
        "plotlyServerURL": "https://plot.ly"
       },
       "data": [
        {
         "dimensions": [
          {
           "label": "D1N1_energy_transfert",
           "range": [
            0.0001,
            0.5
           ],
           "values": {
            "bdata": "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",
            "dtype": "f8"
           }
          },
          {
           "label": "D1N1_lambda_temperature_0",
           "range": [
            0,
            1
           ],
           "values": {
            "bdata": "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",
            "dtype": "f8"
           }
          },
          {
           "label": "D1N1_gamma_lambda_temperature",
           "range": [
            0,
            0.5
           ],
           "values": {
            "bdata": "ADqYMNF2WT8wdbYpKoi3P6jGCH+PZqE/MHW2KSqItz8w4YOokAaoPzBHbdtKuZk/qMYIf49moT8wR23bSrmZP4D6BIVKoIc/+AkRs7yesT+YVja0F/2zP0yCnLOawbU/MEdt20q5mT/AIS2jpzSYPzBHbdtKuZk/TIKcs5rBtT9MgpyzmsG1P0yCnLOawbU/TIKcs5rBtT9ocRFDSRelP2hxEUNJF6U/KB2HtR9ppD8AePvL7p5BPwA4IxZG14g/ADgjFkbXiD8ERYpjKrDCP0CHzjjYIKg/QIfOONggqD8gTZd1XBiCP2iHW5fYWMI/aIdbl9hYwj/wU+SjOE+QPyBNl3VcGII/IE2XdVwYgj+g8dCo5e6OP/BT5KM4T5A/8FPkozhPkD+oDTYT5bChP6gNNhPlsKE/BEWKYyqwwj8ERYpjKrDCPwRFimMqsMI/wCEto6c0mD8w4YOokAaoP+hN/bSJCaI/AJ81W7NXcD8gO5s/m4WfPwCfNVuzV3A/AJ81W7NXcD8w4YOokAaoP0jCqxvB0Lk/wFhOP2kTiT8g1/CTOse7PzBHbdtKuZk/6NYSW9oktT/AIS2jpzSYP0BuWhsxLYo/rPxW9xPyxz9SYY5PdSXGPyA7mz+bhZ8/pTGB9ZAK3D+AUbCt9HusPyA7mz+bhZ8/IE2XdVwYgj9ocRFDSRelPyKxVjSvtss/UmGOT3Ulxj8Iy9fb+vqmP+jWElvaJLU/ktLxMzEi1D/p+/WeyQHZP5hWNrQX/bM/wALqfMYxhT/A8L80aGF1P8DwvzRoYXU/wPC/NGhhdT+4NRpR9eqlP1Jhjk91JcY/pTGB9ZAK3D8U9dqmEszNPwB4+8vunkE/KB2HtR9ppD8oHYe1H2mkP/i0fnn4ksI/8yDVO6Ql0T8U9dqmEszNP6TSfY+Wjbc/ACeXRwRyhT88WcPDDp3cPwLM8pYNec0/Aszylg15zT8CzPKWDXnNP8CZjMOcLa8/crPZVbsRzT+JCG0fPUvRP8AC6nzGMYU/AzoBDeQ43z8Iak9XZN7XP4jeWaAXb7U/7HVG3rPU3z/QRgSmscukP7g1GlH16qU/uDUaUfXqpT/yk/FXMiTZP/KT8VcyJNk/iQhtHz1L0T/drvgT+9nYP37bn4SXBsk/+LR+efiSwj/gVMYiRwOKPzhOdky3cdI/6NYSW9oktT9hPFGRAfTdP6AFSc0g1pE/4OooLUuloz+oDTYT5bChP1CQTW3spKo/rPxW9xPyxz/YMt9wnfW8P6VOz42O7NM/mtFuLhAA3j/g6igtS6WjP6gNNhPlsKE/hEQStCsPsD/gVMYiRwOKP+BUxiJHA4o/totFcS+u0j/AmYzDnC2vP/gJEbO8nrE/pJj9jQrnzj+wZKiNHBzeP6z8VvcT8sc/WNO4/OTptz8ERYpjKrDCPxqc5Q+KpMw/GpzlD4qkzD9XFR6jh8ndP/txG8WjX9s/UIwDL/wVrj9QjAMv/BWuP7wdEKMW4sY/IJF/v6ZznT+yD2SkhCrAP2KinMXLt8s/8ELOk+7t3T+gBUnNINaRP2KinMXLt8s/YqKcxcu3yz8yJYjccG3KPzIliNxwbco/gGIjC8/5jj/CJaI4BcbXP4B25Y9VH9k/tmxIQPvlxT/oTf20iQmiP9KGakRUZco/h42irM+e1j+HjaKsz57WP2BoAtKvbJM/f67X44F53z9/rtfjgXnfP85j0I5cRN8/gHapat6Bdj8W3AZWzurDP/txG8WjX9s/vHKiBgMn0D+gny9eDlS1P41ZQqXpmNM/UHzrlgmXwD9QfOuWCZfAP1BsP9/2i6c/Su5v21+O2D9JjtpdGy3fP/Mg1TukJdE/8yDVO6Ql0T+Ykpn/F7ewP36iiVUSb9c/7HVG3rPU3z/oTf20iQmiPzjMci9jYMA/AHj7y+6eQT/K5AUTtrTPP7ZsSED75cU/oJsISQ/PlT+2bEhA++XFP4REErQrD7A/kANJ95hg3D8isVY0r7bLP2voiBzcUNM/wCEto6c0mD9GUMQd3DzEPyZFsrsXrNY/Aju28RYvyD+s/Fb3E/LHP+BkawPXAMI/WqX77mCazz8pL5FYh9bUP9CIWPhPSrM/0IhY+E9Ksz+o7mxlyx67P9MKKdAl5N8/+sl8OS/Vyz+s/Fb3E/LHP7pZNo7cxtw/BEe2Zv7Ywj/gA7m/LM/BPzZi53mxn9I/dKJx1zdxuj/B12sNvUHRP+WBrCZDfd8/4GRrA9cAwj9SpuwzJtPIP+jWElvaJLU/PIBmiuHTzz+G5AO8FM3cPx+X67Pekt8/ZzYCXwNZ0z9Y07j85Om3PxRTGMK7i8w/FqQ5H30Rzj9A9bG+qw7ZP7HdWDdDotU/4nQsSFOQ1j8ogWDJrBe1P/j0gjPySLY/+PSCM/JItj/GPHKAOeHRPwTJgZz1mtw/1pzI6m3h2j++SXc6ipTfPwI7tvEWL8g/KN50WwORsT+G5AO8FM3cP2zy2C5PFb0/jVlCpemY0z/TCinQJeTfP5rRbi4QAN4/AOSbQm1ewj/v+NORtO7eP2mYXYmv49Q/1v0k4rGwwj+YVja0F/2zP5hWNrQX/bM/mFY2tBf9sz9g2SOJRVvGP2DZI4lFW8Y/lIhh7iIixz/wn584jO3aP+AZlYog8MY/uDUaUfXqpT/mVVuW8jTGP2cAFuvJTtw/ZzYCXwNZ0z/KwvTbgU7FPwRFimMqsMI/crPZVbsRzT+lTs+NjuzTP9aut+ZccNc/sd1YN0Oi1T+jjHsd1ZjfP2Asa6rbDbo/vfpifSwX1T+e2i3aHIzTP+J0LEhTkNY/8U1DMNqb2j9GUMQd3DzEP+VeWgcy7dc/UHzrlgmXwD96xT+j23fCP1pE4Vu1Fs8/Asn3P0BE1j+Aoe+SUMHDP9hz+cw9ncs/JkWyuxes1j9K7m/bX47YP45VX+kU6NM/wltgLqIQzz9K7m/bX47YPwM6AQ3kON8/0u6R/uyayz9K7m/bX47YP9Lukf7smss/TA4GtBii3T8W3AZWzurDP45VX+kU6NM/jlVf6RTo0z9Yf6818o/TP45VX+kU6NM/5lVblvI0xj+NWUKl6ZjTP8HXaw29QdE/4GPZD089pj++SXc6ipTfP7QP1XLuL8E/4AO5vyzPwT++RpVs2ujQPyjpkZDEqM4/PsnTTD+uxj8I/dCHseW7P0KNo+OFPM0/zDvDeM7l3T/YMt9wnfW8P9CvtKtJb8g/esU/o9t3wj9A9bG+qw7ZP75JdzqKlN8/YTxRkQH03T9nXOEia2rfP+YRus6T08I/JJnQUks/0D/lXloHMu3XP+VeWgcy7dc/RF3XWG0FtD8aXUg9gWTWP0CwZRTpxJ4/QLBlFOnEnj9AsGUU6cSePyiBYMmsF7U/BH8VQrwmuT9AsGUU6cSeP0CwZRTpxJ4/IDubP5uFnz/W/STisbDCPwhqT1dk3tc/9kgVB7FTyT8OEIEICg/fPwhqT1dk3tc/gHapat6Bdj/TCinQJeTfP9MKKdAl5N8/esU/o9t3wj/1qxHLLW7RP1ql++5gms8/upJtmlOM1j+6km2aU4zWP8k9tPgn7t4/yT20+Cfu3j9gaALSr2yTP2aMseolcdw/INfwkzrHuz+wZKiNHBzeP2aMseolcdw/sglZRMD21D+o/2E/Y9CjPwh2my5APr4/1tuRUVYU0T8MWuzkJaqxPxgHAPIEMKY/uTHMLap61z9nABbryU7cP1gMRQDoQMI/VwfYFBp+3z/HupMeKDzfP57aLdocjNM/SPJvMXUstT/NCOZEmQ3YPx1ls9b3Pdc/Xj+79LCK0z9M+DvGqZvPP80I5kSZDdg/IJF/v6ZznT8oslWOlbWgPyiyVY6VtaA/6D/f+J7L0D+lTs+NjuzTP2xu6WE+ILE/4nQsSFOQ1j8eet0DiujWP8neuzBFGdM/HnrdA4ro1j/S7pH+7JrLPwR/FUK8Jrk/wFo45BLfuT/AWjjkEt+5P0Z9062EbsY/4Ty2DdK32T/oZKMv99m7P6VOz42O7NM/sZMqWyvd3z/AUwhep8KeP/BVWmzQfbs/SGFHLCLT1j9iIOnIcKvEP/AIB029xdY/AOSbQm1ewj/B12sNvUHRP6ABXnUNd8A/X0ANLlRa1j+lMYH1kArcP1tJDKmOTN4/zCvbkC9myT+wZKiNHBzeP0rub9tfjtg/lNIY4VHWvD/NCOZEmQ3YP6gXJUK/o84/4OooLUuloz+oPlHhs4TYP6g+UeGzhNg/oG4MTCO2tT+IX+B/GIzCP8HXaw29QdE/ducWhDtZxT8oslWOlbWgP3HB5mjV1do/pV0Fn8UJ0T+lXQWfxQnRP6VdBZ/FCdE/MEdt20q5mT+Exvpy1uHeP6jAo51SmMw/5YGsJkN93z/lgawmQ33fP/FNQzDam9o/8U1DMNqb2j/d8S8MnZzXPxrWFA5ZZcE/Y1Og1RDK3j8kTbAaLPPcPzg2tt/Ag98/tAdu7Ymp1D+Exvpy1uHeP6BuDEwjtrU/H7sLmTrV0T8fuwuZOtXRP1YD0ie2hsQ/NmWvsL3AxT/Qr7SrSW/IPySZ0FJLP9A/Gl1IPYFk1j9gyZxQMxPPP8fSTeHC0tw/8Megcat90z8OEIEICg/fPxSzqMxOKtY//EkGCtJT2j9s8tguTxW9PznFnAi8Cts/pU7PjY7s0z+9+mJ9LBfVP1yFxIXMWc8/XIXEhcxZzz/MmQOLgKzKPwbo87TM0dc/SN7zKwWK2D+cJw5EZofCP6gZ8RZgpKw/2pGsbfD0yT+eMz4HifLIP/eW/NU79NE/crPZVbsRzT/gA7m/LM/BP8gJMmepHb4/Jl1qdkFm0j+QA0n3mGDcP06wPyMGZt0/BHVEtwXIyT/wn584jO3aPxpdSD2BZNY/vfpifSwX1T9ERNrgWoDFP/kdHXpWa9E/aClJ9Dr70j8pL5FYh9bUP2uZ2ie8xdw/1v0k4rGwwj97OoEkfXnXP3s6gSR9edc/aJRRtVadrj84zHIvY2DAPyi2COQAeb4/KLYI5AB5vj8MejiTkCbTP+Bwi54WEJY/7HVG3rPU3z8Akh8h5eaKPwCSHyHl5oo/PLuXoAkNtz/ZS2PGcGLdPzBjo93C86Q/REeBs1WFvj9chcSFzFnPP2zy2C5PFb0/1lkjy173zz/WWSPLXvfPPzigu1CbIsA/C1D6BwBe2T8guH6uRt20P0i95cVM+cE/Rn3TrYRuxj+QA0n3mGDcP0i95cVM+cE/SL3lxUz5wT/Vb3dk3zvQP9Vvd2TfO9A/qC/QIWMp1T96Cwy6h7rEP3oLDLqHusQ/xEQ7QFVswj/ERDtAVWzCPw==",
            "dtype": "f8"
           }
          },
          {
           "label": "D1N1_tr_0",
           "range": [
            0,
            50
           ],
           "values": {
            "bdata": "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",
            "dtype": "f8"
           }
          },
          {
           "label": "D1N1_gamma_tr",
           "range": [
            -0.5,
            -0.0001
           ],
           "values": {
            "bdata": "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",
            "dtype": "f8"
           }
          }
         ],
         "line": {
          "color": {
           "bdata": "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",
           "dtype": "f8",
           "shape": "500, 1"
          },
          "colorbar": {
           "title": {
            "text": "Cost function score"
           }
          },
          "colorscale": [
           [
            0,
            "rgb(12,51,131)"
           ],
           [
            0.25,
            "rgb(10,136,186)"
           ],
           [
            0.5,
            "rgb(242,211,56)"
           ],
           [
            0.75,
            "rgb(242,143,56)"
           ],
           [
            1,
            "rgb(217,30,30)"
           ]
          ],
          "reversescale": true,
          "showscale": true
         },
         "type": "parcoords",
         "unselected": {
          "line": {
           "opacity": 0.05
          }
         }
        }
       ],
       "layout": {
        "coloraxis": {
         "colorbar": {
          "title": {
           "text": "Cost function score"
          }
         }
        },
        "template": {
         "data": {
          "bar": [
           {
            "error_x": {
             "color": "#2a3f5f"
            },
            "error_y": {
             "color": "#2a3f5f"
            },
            "marker": {
             "line": {
              "color": "#E5ECF6",
              "width": 0.5
             },
             "pattern": {
              "fillmode": "overlay",
              "size": 10,
              "solidity": 0.2
             }
            },
            "type": "bar"
           }
          ],
          "barpolar": [
           {
            "marker": {
             "line": {
              "color": "#E5ECF6",
              "width": 0.5
             },
             "pattern": {
              "fillmode": "overlay",
              "size": 10,
              "solidity": 0.2
             }
            },
            "type": "barpolar"
           }
          ],
          "carpet": [
           {
            "aaxis": {
             "endlinecolor": "#2a3f5f",
             "gridcolor": "white",
             "linecolor": "white",
             "minorgridcolor": "white",
             "startlinecolor": "#2a3f5f"
            },
            "baxis": {
             "endlinecolor": "#2a3f5f",
             "gridcolor": "white",
             "linecolor": "white",
             "minorgridcolor": "white",
             "startlinecolor": "#2a3f5f"
            },
            "type": "carpet"
           }
          ],
          "choropleth": [
           {
            "colorbar": {
             "outlinewidth": 0,
             "ticks": ""
            },
            "type": "choropleth"
           }
          ],
          "contour": [
           {
            "colorbar": {
             "outlinewidth": 0,
             "ticks": ""
            },
            "colorscale": [
             [
              0,
              "#0d0887"
             ],
             [
              0.1111111111111111,
              "#46039f"
             ],
             [
              0.2222222222222222,
              "#7201a8"
             ],
             [
              0.3333333333333333,
              "#9c179e"
             ],
             [
              0.4444444444444444,
              "#bd3786"
             ],
             [
              0.5555555555555556,
              "#d8576b"
             ],
             [
              0.6666666666666666,
              "#ed7953"
             ],
             [
              0.7777777777777778,
              "#fb9f3a"
             ],
             [
              0.8888888888888888,
              "#fdca26"
             ],
             [
              1,
              "#f0f921"
             ]
            ],
            "type": "contour"
           }
          ],
          "contourcarpet": [
           {
            "colorbar": {
             "outlinewidth": 0,
             "ticks": ""
            },
            "type": "contourcarpet"
           }
          ],
          "heatmap": [
           {
            "colorbar": {
             "outlinewidth": 0,
             "ticks": ""
            },
            "colorscale": [
             [
              0,
              "#0d0887"
             ],
             [
              0.1111111111111111,
              "#46039f"
             ],
             [
              0.2222222222222222,
              "#7201a8"
             ],
             [
              0.3333333333333333,
              "#9c179e"
             ],
             [
              0.4444444444444444,
              "#bd3786"
             ],
             [
              0.5555555555555556,
              "#d8576b"
             ],
             [
              0.6666666666666666,
              "#ed7953"
             ],
             [
              0.7777777777777778,
              "#fb9f3a"
             ],
             [
              0.8888888888888888,
              "#fdca26"
             ],
             [
              1,
              "#f0f921"
             ]
            ],
            "type": "heatmap"
           }
          ],
          "histogram": [
           {
            "marker": {
             "pattern": {
              "fillmode": "overlay",
              "size": 10,
              "solidity": 0.2
             }
            },
            "type": "histogram"
           }
          ],
          "histogram2d": [
           {
            "colorbar": {
             "outlinewidth": 0,
             "ticks": ""
            },
            "colorscale": [
             [
              0,
              "#0d0887"
             ],
             [
              0.1111111111111111,
              "#46039f"
             ],
             [
              0.2222222222222222,
              "#7201a8"
             ],
             [
              0.3333333333333333,
              "#9c179e"
             ],
             [
              0.4444444444444444,
              "#bd3786"
             ],
             [
              0.5555555555555556,
              "#d8576b"
             ],
             [
              0.6666666666666666,
              "#ed7953"
             ],
             [
              0.7777777777777778,
              "#fb9f3a"
             ],
             [
              0.8888888888888888,
              "#fdca26"
             ],
             [
              1,
              "#f0f921"
             ]
            ],
            "type": "histogram2d"
           }
          ],
          "histogram2dcontour": [
           {
            "colorbar": {
             "outlinewidth": 0,
             "ticks": ""
            },
            "colorscale": [
             [
              0,
              "#0d0887"
             ],
             [
              0.1111111111111111,
              "#46039f"
             ],
             [
              0.2222222222222222,
              "#7201a8"
             ],
             [
              0.3333333333333333,
              "#9c179e"
             ],
             [
              0.4444444444444444,
              "#bd3786"
             ],
             [
              0.5555555555555556,
              "#d8576b"
             ],
             [
              0.6666666666666666,
              "#ed7953"
             ],
             [
              0.7777777777777778,
              "#fb9f3a"
             ],
             [
              0.8888888888888888,
              "#fdca26"
             ],
             [
              1,
              "#f0f921"
             ]
            ],
            "type": "histogram2dcontour"
           }
          ],
          "mesh3d": [
           {
            "colorbar": {
             "outlinewidth": 0,
             "ticks": ""
            },
            "type": "mesh3d"
           }
          ],
          "parcoords": [
           {
            "line": {
             "colorbar": {
              "outlinewidth": 0,
              "ticks": ""
             }
            },
            "type": "parcoords"
           }
          ],
          "pie": [
           {
            "automargin": true,
            "type": "pie"
           }
          ],
          "scatter": [
           {
            "fillpattern": {
             "fillmode": "overlay",
             "size": 10,
             "solidity": 0.2
            },
            "type": "scatter"
           }
          ],
          "scatter3d": [
           {
            "line": {
             "colorbar": {
              "outlinewidth": 0,
              "ticks": ""
             }
            },
            "marker": {
             "colorbar": {
              "outlinewidth": 0,
              "ticks": ""
             }
            },
            "type": "scatter3d"
           }
          ],
          "scattercarpet": [
           {
            "marker": {
             "colorbar": {
              "outlinewidth": 0,
              "ticks": ""
             }
            },
            "type": "scattercarpet"
           }
          ],
          "scattergeo": [
           {
            "marker": {
             "colorbar": {
              "outlinewidth": 0,
              "ticks": ""
             }
            },
            "type": "scattergeo"
           }
          ],
          "scattergl": [
           {
            "marker": {
             "colorbar": {
              "outlinewidth": 0,
              "ticks": ""
             }
            },
            "type": "scattergl"
           }
          ],
          "scattermap": [
           {
            "marker": {
             "colorbar": {
              "outlinewidth": 0,
              "ticks": ""
             }
            },
            "type": "scattermap"
           }
          ],
          "scattermapbox": [
           {
            "marker": {
             "colorbar": {
              "outlinewidth": 0,
              "ticks": ""
             }
            },
            "type": "scattermapbox"
           }
          ],
          "scatterpolar": [
           {
            "marker": {
             "colorbar": {
              "outlinewidth": 0,
              "ticks": ""
             }
            },
            "type": "scatterpolar"
           }
          ],
          "scatterpolargl": [
           {
            "marker": {
             "colorbar": {
              "outlinewidth": 0,
              "ticks": ""
             }
            },
            "type": "scatterpolargl"
           }
          ],
          "scatterternary": [
           {
            "marker": {
             "colorbar": {
              "outlinewidth": 0,
              "ticks": ""
             }
            },
            "type": "scatterternary"
           }
          ],
          "surface": [
           {
            "colorbar": {
             "outlinewidth": 0,
             "ticks": ""
            },
            "colorscale": [
             [
              0,
              "#0d0887"
             ],
             [
              0.1111111111111111,
              "#46039f"
             ],
             [
              0.2222222222222222,
              "#7201a8"
             ],
             [
              0.3333333333333333,
              "#9c179e"
             ],
             [
              0.4444444444444444,
              "#bd3786"
             ],
             [
              0.5555555555555556,
              "#d8576b"
             ],
             [
              0.6666666666666666,
              "#ed7953"
             ],
             [
              0.7777777777777778,
              "#fb9f3a"
             ],
             [
              0.8888888888888888,
              "#fdca26"
             ],
             [
              1,
              "#f0f921"
             ]
            ],
            "type": "surface"
           }
          ],
          "table": [
           {
            "cells": {
             "fill": {
              "color": "#EBF0F8"
             },
             "line": {
              "color": "white"
             }
            },
            "header": {
             "fill": {
              "color": "#C8D4E3"
             },
             "line": {
              "color": "white"
             }
            },
            "type": "table"
           }
          ]
         },
         "layout": {
          "annotationdefaults": {
           "arrowcolor": "#2a3f5f",
           "arrowhead": 0,
           "arrowwidth": 1
          },
          "autotypenumbers": "strict",
          "coloraxis": {
           "colorbar": {
            "outlinewidth": 0,
            "ticks": ""
           }
          },
          "colorscale": {
           "diverging": [
            [
             0,
             "#8e0152"
            ],
            [
             0.1,
             "#c51b7d"
            ],
            [
             0.2,
             "#de77ae"
            ],
            [
             0.3,
             "#f1b6da"
            ],
            [
             0.4,
             "#fde0ef"
            ],
            [
             0.5,
             "#f7f7f7"
            ],
            [
             0.6,
             "#e6f5d0"
            ],
            [
             0.7,
             "#b8e186"
            ],
            [
             0.8,
             "#7fbc41"
            ],
            [
             0.9,
             "#4d9221"
            ],
            [
             1,
             "#276419"
            ]
           ],
           "sequential": [
            [
             0,
             "#0d0887"
            ],
            [
             0.1111111111111111,
             "#46039f"
            ],
            [
             0.2222222222222222,
             "#7201a8"
            ],
            [
             0.3333333333333333,
             "#9c179e"
            ],
            [
             0.4444444444444444,
             "#bd3786"
            ],
            [
             0.5555555555555556,
             "#d8576b"
            ],
            [
             0.6666666666666666,
             "#ed7953"
            ],
            [
             0.7777777777777778,
             "#fb9f3a"
            ],
            [
             0.8888888888888888,
             "#fdca26"
            ],
            [
             1,
             "#f0f921"
            ]
           ],
           "sequentialminus": [
            [
             0,
             "#0d0887"
            ],
            [
             0.1111111111111111,
             "#46039f"
            ],
            [
             0.2222222222222222,
             "#7201a8"
            ],
            [
             0.3333333333333333,
             "#9c179e"
            ],
            [
             0.4444444444444444,
             "#bd3786"
            ],
            [
             0.5555555555555556,
             "#d8576b"
            ],
            [
             0.6666666666666666,
             "#ed7953"
            ],
            [
             0.7777777777777778,
             "#fb9f3a"
            ],
            [
             0.8888888888888888,
             "#fdca26"
            ],
            [
             1,
             "#f0f921"
            ]
           ]
          },
          "colorway": [
           "#636efa",
           "#EF553B",
           "#00cc96",
           "#ab63fa",
           "#FFA15A",
           "#19d3f3",
           "#FF6692",
           "#B6E880",
           "#FF97FF",
           "#FECB52"
          ],
          "font": {
           "color": "#2a3f5f"
          },
          "geo": {
           "bgcolor": "white",
           "lakecolor": "white",
           "landcolor": "#E5ECF6",
           "showlakes": true,
           "showland": true,
           "subunitcolor": "white"
          },
          "hoverlabel": {
           "align": "left"
          },
          "hovermode": "closest",
          "mapbox": {
           "style": "light"
          },
          "paper_bgcolor": "white",
          "plot_bgcolor": "#E5ECF6",
          "polar": {
           "angularaxis": {
            "gridcolor": "white",
            "linecolor": "white",
            "ticks": ""
           },
           "bgcolor": "#E5ECF6",
           "radialaxis": {
            "gridcolor": "white",
            "linecolor": "white",
            "ticks": ""
           }
          },
          "scene": {
           "xaxis": {
            "backgroundcolor": "#E5ECF6",
            "gridcolor": "white",
            "gridwidth": 2,
            "linecolor": "white",
            "showbackground": true,
            "ticks": "",
            "zerolinecolor": "white"
           },
           "yaxis": {
            "backgroundcolor": "#E5ECF6",
            "gridcolor": "white",
            "gridwidth": 2,
            "linecolor": "white",
            "showbackground": true,
            "ticks": "",
            "zerolinecolor": "white"
           },
           "zaxis": {
            "backgroundcolor": "#E5ECF6",
            "gridcolor": "white",
            "gridwidth": 2,
            "linecolor": "white",
            "showbackground": true,
            "ticks": "",
            "zerolinecolor": "white"
           }
          },
          "shapedefaults": {
           "line": {
            "color": "#2a3f5f"
           }
          },
          "ternary": {
           "aaxis": {
            "gridcolor": "white",
            "linecolor": "white",
            "ticks": ""
           },
           "baxis": {
            "gridcolor": "white",
            "linecolor": "white",
            "ticks": ""
           },
           "bgcolor": "#E5ECF6",
           "caxis": {
            "gridcolor": "white",
            "linecolor": "white",
            "ticks": ""
           }
          },
          "title": {
           "x": 0.05
          },
          "xaxis": {
           "automargin": true,
           "gridcolor": "white",
           "linecolor": "white",
           "ticks": "",
           "title": {
            "standoff": 15
           },
           "zerolinecolor": "white",
           "zerolinewidth": 2
          },
          "yaxis": {
           "automargin": true,
           "gridcolor": "white",
           "linecolor": "white",
           "ticks": "",
           "title": {
            "standoff": 15
           },
           "zerolinecolor": "white",
           "zerolinewidth": 2
          }
         }
        },
        "title": {
         "text": "Parameters optimization : minimization of the cost function for group 1"
        }
       }
      }
     },
     "metadata": {},
     "output_type": "display_data"
    },
    {
     "data": {
      "application/vnd.plotly.v1+json": {
       "config": {
        "plotlyServerURL": "https://plot.ly"
       },
       "data": [
        {
         "dimensions": [
          {
           "label": "D2N1_energy_transfert",
           "range": [
            0.0001,
            0.5
           ],
           "values": {
            "bdata": "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",
            "dtype": "f8"
           }
          },
          {
           "label": "D2N1_lambda_temperature_0",
           "range": [
            0.002,
            1
           ],
           "values": {
            "bdata": "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",
            "dtype": "f8"
           }
          },
          {
           "label": "D2N1_gamma_lambda_temperature",
           "range": [
            0,
            0.5
           ],
           "values": {
            "bdata": "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",
            "dtype": "f8"
           }
          },
          {
           "label": "D2N1_tr_0",
           "range": [
            0,
            50
           ],
           "values": {
            "bdata": "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",
            "dtype": "f8"
           }
          },
          {
           "label": "D2N1_gamma_tr",
           "range": [
            -0.5,
            -0.0001
           ],
           "values": {
            "bdata": "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",
            "dtype": "f8"
           }
          }
         ],
         "line": {
          "color": {
           "bdata": "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",
           "dtype": "f8",
           "shape": "500, 1"
          },
          "colorbar": {
           "title": {
            "text": "Cost function score"
           }
          },
          "colorscale": [
           [
            0,
            "rgb(12,51,131)"
           ],
           [
            0.25,
            "rgb(10,136,186)"
           ],
           [
            0.5,
            "rgb(242,211,56)"
           ],
           [
            0.75,
            "rgb(242,143,56)"
           ],
           [
            1,
            "rgb(217,30,30)"
           ]
          ],
          "reversescale": true,
          "showscale": true
         },
         "type": "parcoords",
         "unselected": {
          "line": {
           "opacity": 0.05
          }
         }
        }
       ],
       "layout": {
        "coloraxis": {
         "colorbar": {
          "title": {
           "text": "Cost function score"
          }
         }
        },
        "template": {
         "data": {
          "bar": [
           {
            "error_x": {
             "color": "#2a3f5f"
            },
            "error_y": {
             "color": "#2a3f5f"
            },
            "marker": {
             "line": {
              "color": "#E5ECF6",
              "width": 0.5
             },
             "pattern": {
              "fillmode": "overlay",
              "size": 10,
              "solidity": 0.2
             }
            },
            "type": "bar"
           }
          ],
          "barpolar": [
           {
            "marker": {
             "line": {
              "color": "#E5ECF6",
              "width": 0.5
             },
             "pattern": {
              "fillmode": "overlay",
              "size": 10,
              "solidity": 0.2
             }
            },
            "type": "barpolar"
           }
          ],
          "carpet": [
           {
            "aaxis": {
             "endlinecolor": "#2a3f5f",
             "gridcolor": "white",
             "linecolor": "white",
             "minorgridcolor": "white",
             "startlinecolor": "#2a3f5f"
            },
            "baxis": {
             "endlinecolor": "#2a3f5f",
             "gridcolor": "white",
             "linecolor": "white",
             "minorgridcolor": "white",
             "startlinecolor": "#2a3f5f"
            },
            "type": "carpet"
           }
          ],
          "choropleth": [
           {
            "colorbar": {
             "outlinewidth": 0,
             "ticks": ""
            },
            "type": "choropleth"
           }
          ],
          "contour": [
           {
            "colorbar": {
             "outlinewidth": 0,
             "ticks": ""
            },
            "colorscale": [
             [
              0,
              "#0d0887"
             ],
             [
              0.1111111111111111,
              "#46039f"
             ],
             [
              0.2222222222222222,
              "#7201a8"
             ],
             [
              0.3333333333333333,
              "#9c179e"
             ],
             [
              0.4444444444444444,
              "#bd3786"
             ],
             [
              0.5555555555555556,
              "#d8576b"
             ],
             [
              0.6666666666666666,
              "#ed7953"
             ],
             [
              0.7777777777777778,
              "#fb9f3a"
             ],
             [
              0.8888888888888888,
              "#fdca26"
             ],
             [
              1,
              "#f0f921"
             ]
            ],
            "type": "contour"
           }
          ],
          "contourcarpet": [
           {
            "colorbar": {
             "outlinewidth": 0,
             "ticks": ""
            },
            "type": "contourcarpet"
           }
          ],
          "heatmap": [
           {
            "colorbar": {
             "outlinewidth": 0,
             "ticks": ""
            },
            "colorscale": [
             [
              0,
              "#0d0887"
             ],
             [
              0.1111111111111111,
              "#46039f"
             ],
             [
              0.2222222222222222,
              "#7201a8"
             ],
             [
              0.3333333333333333,
              "#9c179e"
             ],
             [
              0.4444444444444444,
              "#bd3786"
             ],
             [
              0.5555555555555556,
              "#d8576b"
             ],
             [
              0.6666666666666666,
              "#ed7953"
             ],
             [
              0.7777777777777778,
              "#fb9f3a"
             ],
             [
              0.8888888888888888,
              "#fdca26"
             ],
             [
              1,
              "#f0f921"
             ]
            ],
            "type": "heatmap"
           }
          ],
          "histogram": [
           {
            "marker": {
             "pattern": {
              "fillmode": "overlay",
              "size": 10,
              "solidity": 0.2
             }
            },
            "type": "histogram"
           }
          ],
          "histogram2d": [
           {
            "colorbar": {
             "outlinewidth": 0,
             "ticks": ""
            },
            "colorscale": [
             [
              0,
              "#0d0887"
             ],
             [
              0.1111111111111111,
              "#46039f"
             ],
             [
              0.2222222222222222,
              "#7201a8"
             ],
             [
              0.3333333333333333,
              "#9c179e"
             ],
             [
              0.4444444444444444,
              "#bd3786"
             ],
             [
              0.5555555555555556,
              "#d8576b"
             ],
             [
              0.6666666666666666,
              "#ed7953"
             ],
             [
              0.7777777777777778,
              "#fb9f3a"
             ],
             [
              0.8888888888888888,
              "#fdca26"
             ],
             [
              1,
              "#f0f921"
             ]
            ],
            "type": "histogram2d"
           }
          ],
          "histogram2dcontour": [
           {
            "colorbar": {
             "outlinewidth": 0,
             "ticks": ""
            },
            "colorscale": [
             [
              0,
              "#0d0887"
             ],
             [
              0.1111111111111111,
              "#46039f"
             ],
             [
              0.2222222222222222,
              "#7201a8"
             ],
             [
              0.3333333333333333,
              "#9c179e"
             ],
             [
              0.4444444444444444,
              "#bd3786"
             ],
             [
              0.5555555555555556,
              "#d8576b"
             ],
             [
              0.6666666666666666,
              "#ed7953"
             ],
             [
              0.7777777777777778,
              "#fb9f3a"
             ],
             [
              0.8888888888888888,
              "#fdca26"
             ],
             [
              1,
              "#f0f921"
             ]
            ],
            "type": "histogram2dcontour"
           }
          ],
          "mesh3d": [
           {
            "colorbar": {
             "outlinewidth": 0,
             "ticks": ""
            },
            "type": "mesh3d"
           }
          ],
          "parcoords": [
           {
            "line": {
             "colorbar": {
              "outlinewidth": 0,
              "ticks": ""
             }
            },
            "type": "parcoords"
           }
          ],
          "pie": [
           {
            "automargin": true,
            "type": "pie"
           }
          ],
          "scatter": [
           {
            "fillpattern": {
             "fillmode": "overlay",
             "size": 10,
             "solidity": 0.2
            },
            "type": "scatter"
           }
          ],
          "scatter3d": [
           {
            "line": {
             "colorbar": {
              "outlinewidth": 0,
              "ticks": ""
             }
            },
            "marker": {
             "colorbar": {
              "outlinewidth": 0,
              "ticks": ""
             }
            },
            "type": "scatter3d"
           }
          ],
          "scattercarpet": [
           {
            "marker": {
             "colorbar": {
              "outlinewidth": 0,
              "ticks": ""
             }
            },
            "type": "scattercarpet"
           }
          ],
          "scattergeo": [
           {
            "marker": {
             "colorbar": {
              "outlinewidth": 0,
              "ticks": ""
             }
            },
            "type": "scattergeo"
           }
          ],
          "scattergl": [
           {
            "marker": {
             "colorbar": {
              "outlinewidth": 0,
              "ticks": ""
             }
            },
            "type": "scattergl"
           }
          ],
          "scattermap": [
           {
            "marker": {
             "colorbar": {
              "outlinewidth": 0,
              "ticks": ""
             }
            },
            "type": "scattermap"
           }
          ],
          "scattermapbox": [
           {
            "marker": {
             "colorbar": {
              "outlinewidth": 0,
              "ticks": ""
             }
            },
            "type": "scattermapbox"
           }
          ],
          "scatterpolar": [
           {
            "marker": {
             "colorbar": {
              "outlinewidth": 0,
              "ticks": ""
             }
            },
            "type": "scatterpolar"
           }
          ],
          "scatterpolargl": [
           {
            "marker": {
             "colorbar": {
              "outlinewidth": 0,
              "ticks": ""
             }
            },
            "type": "scatterpolargl"
           }
          ],
          "scatterternary": [
           {
            "marker": {
             "colorbar": {
              "outlinewidth": 0,
              "ticks": ""
             }
            },
            "type": "scatterternary"
           }
          ],
          "surface": [
           {
            "colorbar": {
             "outlinewidth": 0,
             "ticks": ""
            },
            "colorscale": [
             [
              0,
              "#0d0887"
             ],
             [
              0.1111111111111111,
              "#46039f"
             ],
             [
              0.2222222222222222,
              "#7201a8"
             ],
             [
              0.3333333333333333,
              "#9c179e"
             ],
             [
              0.4444444444444444,
              "#bd3786"
             ],
             [
              0.5555555555555556,
              "#d8576b"
             ],
             [
              0.6666666666666666,
              "#ed7953"
             ],
             [
              0.7777777777777778,
              "#fb9f3a"
             ],
             [
              0.8888888888888888,
              "#fdca26"
             ],
             [
              1,
              "#f0f921"
             ]
            ],
            "type": "surface"
           }
          ],
          "table": [
           {
            "cells": {
             "fill": {
              "color": "#EBF0F8"
             },
             "line": {
              "color": "white"
             }
            },
            "header": {
             "fill": {
              "color": "#C8D4E3"
             },
             "line": {
              "color": "white"
             }
            },
            "type": "table"
           }
          ]
         },
         "layout": {
          "annotationdefaults": {
           "arrowcolor": "#2a3f5f",
           "arrowhead": 0,
           "arrowwidth": 1
          },
          "autotypenumbers": "strict",
          "coloraxis": {
           "colorbar": {
            "outlinewidth": 0,
            "ticks": ""
           }
          },
          "colorscale": {
           "diverging": [
            [
             0,
             "#8e0152"
            ],
            [
             0.1,
             "#c51b7d"
            ],
            [
             0.2,
             "#de77ae"
            ],
            [
             0.3,
             "#f1b6da"
            ],
            [
             0.4,
             "#fde0ef"
            ],
            [
             0.5,
             "#f7f7f7"
            ],
            [
             0.6,
             "#e6f5d0"
            ],
            [
             0.7,
             "#b8e186"
            ],
            [
             0.8,
             "#7fbc41"
            ],
            [
             0.9,
             "#4d9221"
            ],
            [
             1,
             "#276419"
            ]
           ],
           "sequential": [
            [
             0,
             "#0d0887"
            ],
            [
             0.1111111111111111,
             "#46039f"
            ],
            [
             0.2222222222222222,
             "#7201a8"
            ],
            [
             0.3333333333333333,
             "#9c179e"
            ],
            [
             0.4444444444444444,
             "#bd3786"
            ],
            [
             0.5555555555555556,
             "#d8576b"
            ],
            [
             0.6666666666666666,
             "#ed7953"
            ],
            [
             0.7777777777777778,
             "#fb9f3a"
            ],
            [
             0.8888888888888888,
             "#fdca26"
            ],
            [
             1,
             "#f0f921"
            ]
           ],
           "sequentialminus": [
            [
             0,
             "#0d0887"
            ],
            [
             0.1111111111111111,
             "#46039f"
            ],
            [
             0.2222222222222222,
             "#7201a8"
            ],
            [
             0.3333333333333333,
             "#9c179e"
            ],
            [
             0.4444444444444444,
             "#bd3786"
            ],
            [
             0.5555555555555556,
             "#d8576b"
            ],
            [
             0.6666666666666666,
             "#ed7953"
            ],
            [
             0.7777777777777778,
             "#fb9f3a"
            ],
            [
             0.8888888888888888,
             "#fdca26"
            ],
            [
             1,
             "#f0f921"
            ]
           ]
          },
          "colorway": [
           "#636efa",
           "#EF553B",
           "#00cc96",
           "#ab63fa",
           "#FFA15A",
           "#19d3f3",
           "#FF6692",
           "#B6E880",
           "#FF97FF",
           "#FECB52"
          ],
          "font": {
           "color": "#2a3f5f"
          },
          "geo": {
           "bgcolor": "white",
           "lakecolor": "white",
           "landcolor": "#E5ECF6",
           "showlakes": true,
           "showland": true,
           "subunitcolor": "white"
          },
          "hoverlabel": {
           "align": "left"
          },
          "hovermode": "closest",
          "mapbox": {
           "style": "light"
          },
          "paper_bgcolor": "white",
          "plot_bgcolor": "#E5ECF6",
          "polar": {
           "angularaxis": {
            "gridcolor": "white",
            "linecolor": "white",
            "ticks": ""
           },
           "bgcolor": "#E5ECF6",
           "radialaxis": {
            "gridcolor": "white",
            "linecolor": "white",
            "ticks": ""
           }
          },
          "scene": {
           "xaxis": {
            "backgroundcolor": "#E5ECF6",
            "gridcolor": "white",
            "gridwidth": 2,
            "linecolor": "white",
            "showbackground": true,
            "ticks": "",
            "zerolinecolor": "white"
           },
           "yaxis": {
            "backgroundcolor": "#E5ECF6",
            "gridcolor": "white",
            "gridwidth": 2,
            "linecolor": "white",
            "showbackground": true,
            "ticks": "",
            "zerolinecolor": "white"
           },
           "zaxis": {
            "backgroundcolor": "#E5ECF6",
            "gridcolor": "white",
            "gridwidth": 2,
            "linecolor": "white",
            "showbackground": true,
            "ticks": "",
            "zerolinecolor": "white"
           }
          },
          "shapedefaults": {
           "line": {
            "color": "#2a3f5f"
           }
          },
          "ternary": {
           "aaxis": {
            "gridcolor": "white",
            "linecolor": "white",
            "ticks": ""
           },
           "baxis": {
            "gridcolor": "white",
            "linecolor": "white",
            "ticks": ""
           },
           "bgcolor": "#E5ECF6",
           "caxis": {
            "gridcolor": "white",
            "linecolor": "white",
            "ticks": ""
           }
          },
          "title": {
           "x": 0.05
          },
          "xaxis": {
           "automargin": true,
           "gridcolor": "white",
           "linecolor": "white",
           "ticks": "",
           "title": {
            "standoff": 15
           },
           "zerolinecolor": "white",
           "zerolinewidth": 2
          },
          "yaxis": {
           "automargin": true,
           "gridcolor": "white",
           "linecolor": "white",
           "ticks": "",
           "title": {
            "standoff": 15
           },
           "zerolinecolor": "white",
           "zerolinewidth": 2
          }
         }
        },
        "title": {
         "text": "Parameters optimization : minimization of the cost function for group 2"
        }
       }
      }
     },
     "metadata": {},
     "output_type": "display_data"
    }
   ],
   "source": [
    "fig = viewer.parallel_coordinates(\n",
    "    nbest=500, reversescale=True, unselected_opacity=0.05, parameter_groups=parameter_groups, uniformed=False\n",
    ")\n",
    "\n",
    "for group in fig:\n",
    "    display(group)"
   ]
  }
 ],
 "metadata": {
  "kernelspec": {
   "display_name": ".venv",
   "language": "python",
   "name": "python3"
  },
  "language_info": {
   "codemirror_mode": {
    "name": "ipython",
    "version": 3
   },
   "file_extension": ".py",
   "mimetype": "text/x-python",
   "name": "python",
   "nbconvert_exporter": "python",
   "pygments_lexer": "ipython3",
   "version": "3.13.3"
  }
 },
 "nbformat": 4,
 "nbformat_minor": 2
}
