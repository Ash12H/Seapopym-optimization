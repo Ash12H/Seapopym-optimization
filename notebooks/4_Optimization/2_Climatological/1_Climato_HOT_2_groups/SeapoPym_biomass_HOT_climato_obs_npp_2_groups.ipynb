{
 "cells": [
  {
   "cell_type": "code",
   "execution_count": 21,
   "metadata": {},
   "outputs": [
    {
     "data": {
      "text/plain": [
       "<xarray.core.options.set_options at 0x31aec8f50>"
      ]
     },
     "execution_count": 21,
     "metadata": {},
     "output_type": "execute_result"
    }
   ],
   "source": [
    "import warnings\n",
    "\n",
    "import matplotlib.pyplot as plt\n",
    "import numpy as np\n",
    "import pandas as pd\n",
    "import pint\n",
    "import plotly.express as px\n",
    "import plotly.graph_objects as go\n",
    "import xarray as xr\n",
    "from dask.distributed import Client\n",
    "from pint import UnitStrippedWarning\n",
    "from seapopym.configuration.no_transport.parameter import ForcingParameters\n",
    "from seapopym.configuration.parameters.parameter_forcing import ForcingUnit\n",
    "from seapopym.standard.units import StandardUnitsLabels\n",
    "\n",
    "from seapopym_optimization import Observation, constraint, wrapper\n",
    "from seapopym_optimization.cost_function import NoTransportCostFunction\n",
    "from seapopym_optimization.functional_groups import FunctionalGroupOptimizeNoTransport, Parameter\n",
    "from seapopym_optimization.genetic_algorithm import GeneticAlgorithm, GeneticAlgorithmParameters\n",
    "from seapopym_optimization.taylor_diagram import ModTaylorDiagram, generate_mod_taylor_diagram\n",
    "\n",
    "warnings.simplefilter(\"ignore\", category=UnitStrippedWarning)\n",
    "xr.set_options(\n",
    "    display_expand_attrs=False,\n",
    "    display_expand_data_vars=False,\n",
    "    display_expand_coords=False,\n",
    "    display_expand_data=False,\n",
    ")"
   ]
  },
  {
   "cell_type": "code",
   "execution_count": 22,
   "metadata": {},
   "outputs": [],
   "source": [
    "path_to_forcing = \"../../../1_data_processing/1_1_Forcing/products/Hot_cmems_climato_2002_2014.zarr\"\n",
    "path_to_npp = \"../../../1_data_processing/1_1_Forcing/products/Hot_observed_npp_climato.zarr\"\n",
    "path_to_obs = \"../../../1_data_processing/1_1_Forcing/products/Hot_obs_zoo_climato_monthly_2002_2015.zarr\"\n",
    "export_file_name = \"SeapoPym_HOT_climato_obs_npp_opti_all_parameters_2_groups\""
   ]
  },
  {
   "cell_type": "code",
   "execution_count": 23,
   "metadata": {},
   "outputs": [],
   "source": [
    "LATITUDE = 22.75\n",
    "LONGITUDE = -158\n",
    "TIME_START = \"2005-01-02\"\n",
    "TIME_END = \"2009-12-27\"\n",
    "STABILIZATION_TIME = 5\n",
    "SAVE = True"
   ]
  },
  {
   "cell_type": "markdown",
   "metadata": {},
   "source": [
    "## Loading\n"
   ]
  },
  {
   "cell_type": "markdown",
   "metadata": {},
   "source": [
    "### Forcing\n"
   ]
  },
  {
   "cell_type": "code",
   "execution_count": 24,
   "metadata": {},
   "outputs": [
    {
     "data": {
      "text/html": [
       "<div><svg style=\"position: absolute; width: 0; height: 0; overflow: hidden\">\n",
       "<defs>\n",
       "<symbol id=\"icon-database\" viewBox=\"0 0 32 32\">\n",
       "<path d=\"M16 0c-8.837 0-16 2.239-16 5v4c0 2.761 7.163 5 16 5s16-2.239 16-5v-4c0-2.761-7.163-5-16-5z\"></path>\n",
       "<path d=\"M16 17c-8.837 0-16-2.239-16-5v6c0 2.761 7.163 5 16 5s16-2.239 16-5v-6c0 2.761-7.163 5-16 5z\"></path>\n",
       "<path d=\"M16 26c-8.837 0-16-2.239-16-5v6c0 2.761 7.163 5 16 5s16-2.239 16-5v-6c0 2.761-7.163 5-16 5z\"></path>\n",
       "</symbol>\n",
       "<symbol id=\"icon-file-text2\" viewBox=\"0 0 32 32\">\n",
       "<path d=\"M28.681 7.159c-0.694-0.947-1.662-2.053-2.724-3.116s-2.169-2.030-3.116-2.724c-1.612-1.182-2.393-1.319-2.841-1.319h-15.5c-1.378 0-2.5 1.121-2.5 2.5v27c0 1.378 1.122 2.5 2.5 2.5h23c1.378 0 2.5-1.122 2.5-2.5v-19.5c0-0.448-0.137-1.23-1.319-2.841zM24.543 5.457c0.959 0.959 1.712 1.825 2.268 2.543h-4.811v-4.811c0.718 0.556 1.584 1.309 2.543 2.268zM28 29.5c0 0.271-0.229 0.5-0.5 0.5h-23c-0.271 0-0.5-0.229-0.5-0.5v-27c0-0.271 0.229-0.5 0.5-0.5 0 0 15.499-0 15.5 0v7c0 0.552 0.448 1 1 1h7v19.5z\"></path>\n",
       "<path d=\"M23 26h-14c-0.552 0-1-0.448-1-1s0.448-1 1-1h14c0.552 0 1 0.448 1 1s-0.448 1-1 1z\"></path>\n",
       "<path d=\"M23 22h-14c-0.552 0-1-0.448-1-1s0.448-1 1-1h14c0.552 0 1 0.448 1 1s-0.448 1-1 1z\"></path>\n",
       "<path d=\"M23 18h-14c-0.552 0-1-0.448-1-1s0.448-1 1-1h14c0.552 0 1 0.448 1 1s-0.448 1-1 1z\"></path>\n",
       "</symbol>\n",
       "</defs>\n",
       "</svg>\n",
       "<style>/* CSS stylesheet for displaying xarray objects in jupyterlab.\n",
       " *\n",
       " */\n",
       "\n",
       ":root {\n",
       "  --xr-font-color0: var(--jp-content-font-color0, rgba(0, 0, 0, 1));\n",
       "  --xr-font-color2: var(--jp-content-font-color2, rgba(0, 0, 0, 0.54));\n",
       "  --xr-font-color3: var(--jp-content-font-color3, rgba(0, 0, 0, 0.38));\n",
       "  --xr-border-color: var(--jp-border-color2, #e0e0e0);\n",
       "  --xr-disabled-color: var(--jp-layout-color3, #bdbdbd);\n",
       "  --xr-background-color: var(--jp-layout-color0, white);\n",
       "  --xr-background-color-row-even: var(--jp-layout-color1, white);\n",
       "  --xr-background-color-row-odd: var(--jp-layout-color2, #eeeeee);\n",
       "}\n",
       "\n",
       "html[theme=\"dark\"],\n",
       "html[data-theme=\"dark\"],\n",
       "body[data-theme=\"dark\"],\n",
       "body.vscode-dark {\n",
       "  --xr-font-color0: rgba(255, 255, 255, 1);\n",
       "  --xr-font-color2: rgba(255, 255, 255, 0.54);\n",
       "  --xr-font-color3: rgba(255, 255, 255, 0.38);\n",
       "  --xr-border-color: #1f1f1f;\n",
       "  --xr-disabled-color: #515151;\n",
       "  --xr-background-color: #111111;\n",
       "  --xr-background-color-row-even: #111111;\n",
       "  --xr-background-color-row-odd: #313131;\n",
       "}\n",
       "\n",
       ".xr-wrap {\n",
       "  display: block !important;\n",
       "  min-width: 300px;\n",
       "  max-width: 700px;\n",
       "}\n",
       "\n",
       ".xr-text-repr-fallback {\n",
       "  /* fallback to plain text repr when CSS is not injected (untrusted notebook) */\n",
       "  display: none;\n",
       "}\n",
       "\n",
       ".xr-header {\n",
       "  padding-top: 6px;\n",
       "  padding-bottom: 6px;\n",
       "  margin-bottom: 4px;\n",
       "  border-bottom: solid 1px var(--xr-border-color);\n",
       "}\n",
       "\n",
       ".xr-header > div,\n",
       ".xr-header > ul {\n",
       "  display: inline;\n",
       "  margin-top: 0;\n",
       "  margin-bottom: 0;\n",
       "}\n",
       "\n",
       ".xr-obj-type,\n",
       ".xr-array-name {\n",
       "  margin-left: 2px;\n",
       "  margin-right: 10px;\n",
       "}\n",
       "\n",
       ".xr-obj-type {\n",
       "  color: var(--xr-font-color2);\n",
       "}\n",
       "\n",
       ".xr-sections {\n",
       "  padding-left: 0 !important;\n",
       "  display: grid;\n",
       "  grid-template-columns: 150px auto auto 1fr 0 20px 0 20px;\n",
       "}\n",
       "\n",
       ".xr-section-item {\n",
       "  display: contents;\n",
       "}\n",
       "\n",
       ".xr-section-item input {\n",
       "  display: inline-block;\n",
       "  opacity: 0;\n",
       "  height: 0;\n",
       "}\n",
       "\n",
       ".xr-section-item input + label {\n",
       "  color: var(--xr-disabled-color);\n",
       "}\n",
       "\n",
       ".xr-section-item input:enabled + label {\n",
       "  cursor: pointer;\n",
       "  color: var(--xr-font-color2);\n",
       "}\n",
       "\n",
       ".xr-section-item input:focus + label {\n",
       "  border: 2px solid var(--xr-font-color0);\n",
       "}\n",
       "\n",
       ".xr-section-item input:enabled + label:hover {\n",
       "  color: var(--xr-font-color0);\n",
       "}\n",
       "\n",
       ".xr-section-summary {\n",
       "  grid-column: 1;\n",
       "  color: var(--xr-font-color2);\n",
       "  font-weight: 500;\n",
       "}\n",
       "\n",
       ".xr-section-summary > span {\n",
       "  display: inline-block;\n",
       "  padding-left: 0.5em;\n",
       "}\n",
       "\n",
       ".xr-section-summary-in:disabled + label {\n",
       "  color: var(--xr-font-color2);\n",
       "}\n",
       "\n",
       ".xr-section-summary-in + label:before {\n",
       "  display: inline-block;\n",
       "  content: \"►\";\n",
       "  font-size: 11px;\n",
       "  width: 15px;\n",
       "  text-align: center;\n",
       "}\n",
       "\n",
       ".xr-section-summary-in:disabled + label:before {\n",
       "  color: var(--xr-disabled-color);\n",
       "}\n",
       "\n",
       ".xr-section-summary-in:checked + label:before {\n",
       "  content: \"▼\";\n",
       "}\n",
       "\n",
       ".xr-section-summary-in:checked + label > span {\n",
       "  display: none;\n",
       "}\n",
       "\n",
       ".xr-section-summary,\n",
       ".xr-section-inline-details {\n",
       "  padding-top: 4px;\n",
       "  padding-bottom: 4px;\n",
       "}\n",
       "\n",
       ".xr-section-inline-details {\n",
       "  grid-column: 2 / -1;\n",
       "}\n",
       "\n",
       ".xr-section-details {\n",
       "  display: none;\n",
       "  grid-column: 1 / -1;\n",
       "  margin-bottom: 5px;\n",
       "}\n",
       "\n",
       ".xr-section-summary-in:checked ~ .xr-section-details {\n",
       "  display: contents;\n",
       "}\n",
       "\n",
       ".xr-array-wrap {\n",
       "  grid-column: 1 / -1;\n",
       "  display: grid;\n",
       "  grid-template-columns: 20px auto;\n",
       "}\n",
       "\n",
       ".xr-array-wrap > label {\n",
       "  grid-column: 1;\n",
       "  vertical-align: top;\n",
       "}\n",
       "\n",
       ".xr-preview {\n",
       "  color: var(--xr-font-color3);\n",
       "}\n",
       "\n",
       ".xr-array-preview,\n",
       ".xr-array-data {\n",
       "  padding: 0 5px !important;\n",
       "  grid-column: 2;\n",
       "}\n",
       "\n",
       ".xr-array-data,\n",
       ".xr-array-in:checked ~ .xr-array-preview {\n",
       "  display: none;\n",
       "}\n",
       "\n",
       ".xr-array-in:checked ~ .xr-array-data,\n",
       ".xr-array-preview {\n",
       "  display: inline-block;\n",
       "}\n",
       "\n",
       ".xr-dim-list {\n",
       "  display: inline-block !important;\n",
       "  list-style: none;\n",
       "  padding: 0 !important;\n",
       "  margin: 0;\n",
       "}\n",
       "\n",
       ".xr-dim-list li {\n",
       "  display: inline-block;\n",
       "  padding: 0;\n",
       "  margin: 0;\n",
       "}\n",
       "\n",
       ".xr-dim-list:before {\n",
       "  content: \"(\";\n",
       "}\n",
       "\n",
       ".xr-dim-list:after {\n",
       "  content: \")\";\n",
       "}\n",
       "\n",
       ".xr-dim-list li:not(:last-child):after {\n",
       "  content: \",\";\n",
       "  padding-right: 5px;\n",
       "}\n",
       "\n",
       ".xr-has-index {\n",
       "  font-weight: bold;\n",
       "}\n",
       "\n",
       ".xr-var-list,\n",
       ".xr-var-item {\n",
       "  display: contents;\n",
       "}\n",
       "\n",
       ".xr-var-item > div,\n",
       ".xr-var-item label,\n",
       ".xr-var-item > .xr-var-name span {\n",
       "  background-color: var(--xr-background-color-row-even);\n",
       "  margin-bottom: 0;\n",
       "}\n",
       "\n",
       ".xr-var-item > .xr-var-name:hover span {\n",
       "  padding-right: 5px;\n",
       "}\n",
       "\n",
       ".xr-var-list > li:nth-child(odd) > div,\n",
       ".xr-var-list > li:nth-child(odd) > label,\n",
       ".xr-var-list > li:nth-child(odd) > .xr-var-name span {\n",
       "  background-color: var(--xr-background-color-row-odd);\n",
       "}\n",
       "\n",
       ".xr-var-name {\n",
       "  grid-column: 1;\n",
       "}\n",
       "\n",
       ".xr-var-dims {\n",
       "  grid-column: 2;\n",
       "}\n",
       "\n",
       ".xr-var-dtype {\n",
       "  grid-column: 3;\n",
       "  text-align: right;\n",
       "  color: var(--xr-font-color2);\n",
       "}\n",
       "\n",
       ".xr-var-preview {\n",
       "  grid-column: 4;\n",
       "}\n",
       "\n",
       ".xr-index-preview {\n",
       "  grid-column: 2 / 5;\n",
       "  color: var(--xr-font-color2);\n",
       "}\n",
       "\n",
       ".xr-var-name,\n",
       ".xr-var-dims,\n",
       ".xr-var-dtype,\n",
       ".xr-preview,\n",
       ".xr-attrs dt {\n",
       "  white-space: nowrap;\n",
       "  overflow: hidden;\n",
       "  text-overflow: ellipsis;\n",
       "  padding-right: 10px;\n",
       "}\n",
       "\n",
       ".xr-var-name:hover,\n",
       ".xr-var-dims:hover,\n",
       ".xr-var-dtype:hover,\n",
       ".xr-attrs dt:hover {\n",
       "  overflow: visible;\n",
       "  width: auto;\n",
       "  z-index: 1;\n",
       "}\n",
       "\n",
       ".xr-var-attrs,\n",
       ".xr-var-data,\n",
       ".xr-index-data {\n",
       "  display: none;\n",
       "  background-color: var(--xr-background-color) !important;\n",
       "  padding-bottom: 5px !important;\n",
       "}\n",
       "\n",
       ".xr-var-attrs-in:checked ~ .xr-var-attrs,\n",
       ".xr-var-data-in:checked ~ .xr-var-data,\n",
       ".xr-index-data-in:checked ~ .xr-index-data {\n",
       "  display: block;\n",
       "}\n",
       "\n",
       ".xr-var-data > table {\n",
       "  float: right;\n",
       "}\n",
       "\n",
       ".xr-var-name span,\n",
       ".xr-var-data,\n",
       ".xr-index-name div,\n",
       ".xr-index-data,\n",
       ".xr-attrs {\n",
       "  padding-left: 25px !important;\n",
       "}\n",
       "\n",
       ".xr-attrs,\n",
       ".xr-var-attrs,\n",
       ".xr-var-data,\n",
       ".xr-index-data {\n",
       "  grid-column: 1 / -1;\n",
       "}\n",
       "\n",
       "dl.xr-attrs {\n",
       "  padding: 0;\n",
       "  margin: 0;\n",
       "  display: grid;\n",
       "  grid-template-columns: 125px auto;\n",
       "}\n",
       "\n",
       ".xr-attrs dt,\n",
       ".xr-attrs dd {\n",
       "  padding: 0;\n",
       "  margin: 0;\n",
       "  float: left;\n",
       "  padding-right: 10px;\n",
       "  width: auto;\n",
       "}\n",
       "\n",
       ".xr-attrs dt {\n",
       "  font-weight: normal;\n",
       "  grid-column: 1;\n",
       "}\n",
       "\n",
       ".xr-attrs dt:hover span {\n",
       "  display: inline-block;\n",
       "  background: var(--xr-background-color);\n",
       "  padding-right: 10px;\n",
       "}\n",
       "\n",
       ".xr-attrs dd {\n",
       "  grid-column: 2;\n",
       "  white-space: pre-wrap;\n",
       "  word-break: break-all;\n",
       "}\n",
       "\n",
       ".xr-icon-database,\n",
       ".xr-icon-file-text2,\n",
       ".xr-no-icon {\n",
       "  display: inline-block;\n",
       "  vertical-align: middle;\n",
       "  width: 1em;\n",
       "  height: 1.5em !important;\n",
       "  stroke-width: 0;\n",
       "  stroke: currentColor;\n",
       "  fill: currentColor;\n",
       "}\n",
       "</style><pre class='xr-text-repr-fallback'>&lt;xarray.Dataset&gt; Size: 321kB\n",
       "Dimensions:              (latitude: 1, longitude: 1, depth: 3, time: 1821)\n",
       "Coordinates: (4)\n",
       "Data variables: (13)</pre><div class='xr-wrap' style='display:none'><div class='xr-header'><div class='xr-obj-type'>xarray.Dataset</div></div><ul class='xr-sections'><li class='xr-section-item'><input id='section-eb59af99-6cbe-464b-9e20-688da428d384' class='xr-section-summary-in' type='checkbox' disabled ><label for='section-eb59af99-6cbe-464b-9e20-688da428d384' class='xr-section-summary'  title='Expand/collapse section'>Dimensions:</label><div class='xr-section-inline-details'><ul class='xr-dim-list'><li><span class='xr-has-index'>latitude</span>: 1</li><li><span class='xr-has-index'>longitude</span>: 1</li><li><span class='xr-has-index'>depth</span>: 3</li><li><span class='xr-has-index'>time</span>: 1821</li></ul></div><div class='xr-section-details'></div></li><li class='xr-section-item'><input id='section-30a7ffb6-c8ab-4efd-a61b-5101f82f09ee' class='xr-section-summary-in' type='checkbox'  ><label for='section-30a7ffb6-c8ab-4efd-a61b-5101f82f09ee' class='xr-section-summary' >Coordinates: <span>(4)</span></label><div class='xr-section-inline-details'></div><div class='xr-section-details'><ul class='xr-var-list'><li class='xr-var-item'><div class='xr-var-name'><span class='xr-has-index'>depth</span></div><div class='xr-var-dims'>(depth)</div><div class='xr-var-dtype'>int64</div><div class='xr-var-preview xr-preview'>0 1 2</div><input id='attrs-d79c8182-9ba5-42f1-bda1-86ae5d12698c' class='xr-var-attrs-in' type='checkbox' ><label for='attrs-d79c8182-9ba5-42f1-bda1-86ae5d12698c' title='Show/Hide attributes'><svg class='icon xr-icon-file-text2'><use xlink:href='#icon-file-text2'></use></svg></label><input id='data-f770d733-c2a3-4a76-9d21-e3083fb49cd6' class='xr-var-data-in' type='checkbox'><label for='data-f770d733-c2a3-4a76-9d21-e3083fb49cd6' title='Show/Hide data repr'><svg class='icon xr-icon-database'><use xlink:href='#icon-database'></use></svg></label><div class='xr-var-attrs'><dl class='xr-attrs'><dt><span>axis :</span></dt><dd>Z</dd><dt><span>desc :</span></dt><dd>The layer depth according to Seapodym definition</dd><dt><span>flag_meanings :</span></dt><dd>epipelagic, upper-mesopelagic, lower-mesopelagic</dd><dt><span>flag_values :</span></dt><dd>[0 1 2]</dd><dt><span>long_name :</span></dt><dd>Layer depth</dd><dt><span>standard_name :</span></dt><dd>depth</dd></dl></div><div class='xr-var-data'><pre>array([0, 1, 2])</pre></div></li><li class='xr-var-item'><div class='xr-var-name'><span class='xr-has-index'>latitude</span></div><div class='xr-var-dims'>(latitude)</div><div class='xr-var-dtype'>float64</div><div class='xr-var-preview xr-preview'>22.75</div><input id='attrs-bfcc440e-1a58-4f77-a3fd-4b11d6725bb1' class='xr-var-attrs-in' type='checkbox' ><label for='attrs-bfcc440e-1a58-4f77-a3fd-4b11d6725bb1' title='Show/Hide attributes'><svg class='icon xr-icon-file-text2'><use xlink:href='#icon-file-text2'></use></svg></label><input id='data-517e483d-3e53-4ad0-8caa-f8e3dd99360a' class='xr-var-data-in' type='checkbox'><label for='data-517e483d-3e53-4ad0-8caa-f8e3dd99360a' title='Show/Hide data repr'><svg class='icon xr-icon-database'><use xlink:href='#icon-database'></use></svg></label><div class='xr-var-attrs'><dl class='xr-attrs'><dt><span>axis :</span></dt><dd>Y</dd><dt><span>standard_name :</span></dt><dd>latitude</dd><dt><span>units :</span></dt><dd>degrees_north</dd></dl></div><div class='xr-var-data'><pre>array([22.75])</pre></div></li><li class='xr-var-item'><div class='xr-var-name'><span class='xr-has-index'>longitude</span></div><div class='xr-var-dims'>(longitude)</div><div class='xr-var-dtype'>int64</div><div class='xr-var-preview xr-preview'>-158</div><input id='attrs-674bee43-6ecb-45b7-8030-6529c798ef82' class='xr-var-attrs-in' type='checkbox' ><label for='attrs-674bee43-6ecb-45b7-8030-6529c798ef82' title='Show/Hide attributes'><svg class='icon xr-icon-file-text2'><use xlink:href='#icon-file-text2'></use></svg></label><input id='data-07fc5c29-40cc-4647-9000-535d003d9b11' class='xr-var-data-in' type='checkbox'><label for='data-07fc5c29-40cc-4647-9000-535d003d9b11' title='Show/Hide data repr'><svg class='icon xr-icon-database'><use xlink:href='#icon-database'></use></svg></label><div class='xr-var-attrs'><dl class='xr-attrs'><dt><span>axis :</span></dt><dd>X</dd><dt><span>standard_name :</span></dt><dd>longitude</dd><dt><span>units :</span></dt><dd>degrees_east</dd></dl></div><div class='xr-var-data'><pre>array([-158])</pre></div></li><li class='xr-var-item'><div class='xr-var-name'><span class='xr-has-index'>time</span></div><div class='xr-var-dims'>(time)</div><div class='xr-var-dtype'>datetime64[ns]</div><div class='xr-var-preview xr-preview'>2005-01-02 ... 2009-12-27</div><input id='attrs-1e715bbb-7511-4619-b1ac-140f45c96134' class='xr-var-attrs-in' type='checkbox' ><label for='attrs-1e715bbb-7511-4619-b1ac-140f45c96134' title='Show/Hide attributes'><svg class='icon xr-icon-file-text2'><use xlink:href='#icon-file-text2'></use></svg></label><input id='data-293f1348-f5a9-4ded-8112-bee595c1f4e5' class='xr-var-data-in' type='checkbox'><label for='data-293f1348-f5a9-4ded-8112-bee595c1f4e5' title='Show/Hide data repr'><svg class='icon xr-icon-database'><use xlink:href='#icon-database'></use></svg></label><div class='xr-var-attrs'><dl class='xr-attrs'><dt><span>axis :</span></dt><dd>T</dd><dt><span>long_name :</span></dt><dd>Time</dd><dt><span>standard_name :</span></dt><dd>time</dd><dt><span>unit_long :</span></dt><dd>Seconds Since 1970-01-01</dd></dl></div><div class='xr-var-data'><pre>array([&#x27;2005-01-02T00:00:00.000000000&#x27;, &#x27;2005-01-03T00:00:00.000000000&#x27;,\n",
       "       &#x27;2005-01-04T00:00:00.000000000&#x27;, ..., &#x27;2009-12-25T00:00:00.000000000&#x27;,\n",
       "       &#x27;2009-12-26T00:00:00.000000000&#x27;, &#x27;2009-12-27T00:00:00.000000000&#x27;],\n",
       "      dtype=&#x27;datetime64[ns]&#x27;)</pre></div></li></ul></div></li><li class='xr-section-item'><input id='section-cefca4cd-5be1-4186-b5f3-010749553ff2' class='xr-section-summary-in' type='checkbox'  ><label for='section-cefca4cd-5be1-4186-b5f3-010749553ff2' class='xr-section-summary' >Data variables: <span>(13)</span></label><div class='xr-section-inline-details'></div><div class='xr-section-details'><ul class='xr-var-list'><li class='xr-var-item'><div class='xr-var-name'><span>T</span></div><div class='xr-var-dims'>(latitude, longitude, depth, time)</div><div class='xr-var-dtype'>float64</div><div class='xr-var-preview xr-preview'>23.87 23.83 23.8 ... 6.838 6.845</div><input id='attrs-bfcfbf1e-3acc-4c60-ace6-27b3f428dead' class='xr-var-attrs-in' type='checkbox' ><label for='attrs-bfcfbf1e-3acc-4c60-ace6-27b3f428dead' title='Show/Hide attributes'><svg class='icon xr-icon-file-text2'><use xlink:href='#icon-file-text2'></use></svg></label><input id='data-3d93df96-ec51-4755-8ced-64fd4ece8f8b' class='xr-var-data-in' type='checkbox'><label for='data-3d93df96-ec51-4755-8ced-64fd4ece8f8b' title='Show/Hide data repr'><svg class='icon xr-icon-database'><use xlink:href='#icon-database'></use></svg></label><div class='xr-var-attrs'><dl class='xr-attrs'><dt><span>standard_name :</span></dt><dd>sea_water_potential_temperature_vertical_mean_over_pelagic_layer</dd><dt><span>units :</span></dt><dd>degree_Celsius</dd></dl></div><div class='xr-var-data'><pre>array([[[[23.86504436, 23.83319095, 23.80305082, ..., 24.02240894,\n",
       "          23.99937947, 24.00357859],\n",
       "         [16.66998319, 16.58043521, 16.61132687, ..., 16.48497482,\n",
       "          16.53637859, 16.60012746],\n",
       "         [ 6.84060112,  6.76111211,  6.78375794, ...,  6.81965281,\n",
       "           6.8383728 ,  6.84501572]]]])</pre></div></li><li class='xr-var-item'><div class='xr-var-name'><span>U</span></div><div class='xr-var-dims'>(latitude, longitude, depth, time)</div><div class='xr-var-dtype'>float64</div><div class='xr-var-preview xr-preview'>-0.03784 -0.03904 ... -0.04712</div><input id='attrs-14d14eec-4f98-459d-a782-6678c9da887a' class='xr-var-attrs-in' type='checkbox' ><label for='attrs-14d14eec-4f98-459d-a782-6678c9da887a' title='Show/Hide attributes'><svg class='icon xr-icon-file-text2'><use xlink:href='#icon-file-text2'></use></svg></label><input id='data-81481e63-7463-46ee-80a0-aa7fb9990b14' class='xr-var-data-in' type='checkbox'><label for='data-81481e63-7463-46ee-80a0-aa7fb9990b14' title='Show/Hide data repr'><svg class='icon xr-icon-database'><use xlink:href='#icon-database'></use></svg></label><div class='xr-var-attrs'><dl class='xr-attrs'><dt><span>standard_name :</span></dt><dd>eastward_sea_water_velocity_vertical_mean_over_pelagic_layer</dd><dt><span>units :</span></dt><dd>m/s</dd></dl></div><div class='xr-var-data'><pre>array([[[[-0.03784229, -0.03904063, -0.05429999, ..., -0.02922558,\n",
       "          -0.03219353, -0.03774184],\n",
       "         [-0.07049945, -0.06776537, -0.0663575 , ..., -0.0600492 ,\n",
       "          -0.06169806, -0.06509523],\n",
       "         [-0.04448595, -0.04409478, -0.04372392, ..., -0.04656605,\n",
       "          -0.0470876 , -0.04711601]]]])</pre></div></li><li class='xr-var-item'><div class='xr-var-name'><span>V</span></div><div class='xr-var-dims'>(latitude, longitude, depth, time)</div><div class='xr-var-dtype'>float64</div><div class='xr-var-preview xr-preview'>-0.01574 -0.02205 ... -0.02205</div><input id='attrs-d00abbf3-5ae9-4329-85a7-e010b996ade3' class='xr-var-attrs-in' type='checkbox' ><label for='attrs-d00abbf3-5ae9-4329-85a7-e010b996ade3' title='Show/Hide attributes'><svg class='icon xr-icon-file-text2'><use xlink:href='#icon-file-text2'></use></svg></label><input id='data-5941de63-d90f-41f9-a9ce-a8813ed4c155' class='xr-var-data-in' type='checkbox'><label for='data-5941de63-d90f-41f9-a9ce-a8813ed4c155' title='Show/Hide data repr'><svg class='icon xr-icon-database'><use xlink:href='#icon-database'></use></svg></label><div class='xr-var-attrs'><dl class='xr-attrs'><dt><span>standard_name :</span></dt><dd>northward_sea_water_velocity_vertical_mean_over_pelagic_layer</dd><dt><span>units :</span></dt><dd>m/s</dd></dl></div><div class='xr-var-data'><pre>array([[[[-0.01574188, -0.02204753, -0.02294442, ..., -0.02675923,\n",
       "          -0.02601578, -0.01836348],\n",
       "         [-0.01138451, -0.01739488, -0.01902415, ..., -0.02677241,\n",
       "          -0.02533032, -0.02150444],\n",
       "         [-0.01709065, -0.0188723 , -0.01945441, ..., -0.02269713,\n",
       "          -0.02211186, -0.02205122]]]])</pre></div></li><li class='xr-var-item'><div class='xr-var-name'><span>mnkc_epi</span></div><div class='xr-var-dims'>(latitude, longitude, time)</div><div class='xr-var-dtype'>float64</div><div class='xr-var-preview xr-preview'>0.2892 0.2914 ... 0.2711 0.2764</div><input id='attrs-dd71efd5-141c-450c-bb49-5b7064628cfa' class='xr-var-attrs-in' type='checkbox' ><label for='attrs-dd71efd5-141c-450c-bb49-5b7064628cfa' title='Show/Hide attributes'><svg class='icon xr-icon-file-text2'><use xlink:href='#icon-file-text2'></use></svg></label><input id='data-a1eaa1c2-aea1-4323-9033-a35291301e2e' class='xr-var-data-in' type='checkbox'><label for='data-a1eaa1c2-aea1-4323-9033-a35291301e2e' title='Show/Hide data repr'><svg class='icon xr-icon-database'><use xlink:href='#icon-database'></use></svg></label><div class='xr-var-attrs'><dl class='xr-attrs'><dt><span>carbon_to_wet_weight_conversion_factor :</span></dt><dd>11.9</dd><dt><span>day_layer :</span></dt><dd>epipelagic (1)</dd><dt><span>night_layer :</span></dt><dd>epipelagic (1)</dd><dt><span>standard_name :</span></dt><dd>mass_content_of_epipelagic_micronekton_expressed_as_wet_weight_in_sea_water</dd><dt><span>units :</span></dt><dd>g m-2</dd></dl></div><div class='xr-var-data'><pre>array([[[0.28922369, 0.29140194, 0.29600047, ..., 0.26695713,\n",
       "         0.2710716 , 0.27639621]]])</pre></div></li><li class='xr-var-item'><div class='xr-var-name'><span>mnkc_hmlmeso</span></div><div class='xr-var-dims'>(latitude, longitude, time)</div><div class='xr-var-dtype'>float64</div><div class='xr-var-preview xr-preview'>0.822 0.8258 ... 0.7827 0.8015</div><input id='attrs-394f390d-6d8d-4bc5-8036-57eb3dcc4bcf' class='xr-var-attrs-in' type='checkbox' ><label for='attrs-394f390d-6d8d-4bc5-8036-57eb3dcc4bcf' title='Show/Hide attributes'><svg class='icon xr-icon-file-text2'><use xlink:href='#icon-file-text2'></use></svg></label><input id='data-83526ea8-94a7-4d21-bce2-c233eed77baa' class='xr-var-data-in' type='checkbox'><label for='data-83526ea8-94a7-4d21-bce2-c233eed77baa' title='Show/Hide data repr'><svg class='icon xr-icon-database'><use xlink:href='#icon-database'></use></svg></label><div class='xr-var-attrs'><dl class='xr-attrs'><dt><span>carbon_to_wet_weight_conversion_factor :</span></dt><dd>11.9</dd><dt><span>day_layer :</span></dt><dd>lower mesopelagic (3)</dd><dt><span>night_layer :</span></dt><dd>epipelagic (1)</dd><dt><span>standard_name :</span></dt><dd>mass_content_of_highly_migrant_lower_mesopelagic_micronekton_expressed_as_wet_weight_in_sea_water</dd><dt><span>units :</span></dt><dd>g m-2</dd></dl></div><div class='xr-var-data'><pre>array([[[0.82201547, 0.82583342, 0.83300653, ..., 0.77053105,\n",
       "         0.78267906, 0.8015374 ]]])</pre></div></li><li class='xr-var-item'><div class='xr-var-name'><span>mnkc_lmeso</span></div><div class='xr-var-dims'>(latitude, longitude, time)</div><div class='xr-var-dtype'>float64</div><div class='xr-var-preview xr-preview'>2.139 2.14 2.136 ... 2.188 2.187</div><input id='attrs-f2d78f40-e3db-43f6-9478-b4e721d769a4' class='xr-var-attrs-in' type='checkbox' ><label for='attrs-f2d78f40-e3db-43f6-9478-b4e721d769a4' title='Show/Hide attributes'><svg class='icon xr-icon-file-text2'><use xlink:href='#icon-file-text2'></use></svg></label><input id='data-8a2fd837-d5f8-4f59-a7dd-b97144ad1e01' class='xr-var-data-in' type='checkbox'><label for='data-8a2fd837-d5f8-4f59-a7dd-b97144ad1e01' title='Show/Hide data repr'><svg class='icon xr-icon-database'><use xlink:href='#icon-database'></use></svg></label><div class='xr-var-attrs'><dl class='xr-attrs'><dt><span>carbon_to_wet_weight_conversion_factor :</span></dt><dd>11.9</dd><dt><span>day_layer :</span></dt><dd>lower mesopelagic (3)</dd><dt><span>night_layer :</span></dt><dd>lower mesopelagic (3)</dd><dt><span>standard_name :</span></dt><dd>mass_content_of_lower_mesopelagic_micronekton_expressed_as_wet_weight_in_sea_water</dd><dt><span>units :</span></dt><dd>g m-2</dd></dl></div><div class='xr-var-data'><pre>array([[[2.13880129, 2.14000388, 2.13579482, ..., 2.18718229,\n",
       "         2.18829238, 2.18681227]]])</pre></div></li><li class='xr-var-item'><div class='xr-var-name'><span>mnkc_mlmeso</span></div><div class='xr-var-dims'>(latitude, longitude, time)</div><div class='xr-var-dtype'>float64</div><div class='xr-var-preview xr-preview'>0.9789 0.9809 ... 0.9286 0.9285</div><input id='attrs-8c80ad32-5d23-4a89-8e3f-6c9baff14647' class='xr-var-attrs-in' type='checkbox' ><label for='attrs-8c80ad32-5d23-4a89-8e3f-6c9baff14647' title='Show/Hide attributes'><svg class='icon xr-icon-file-text2'><use xlink:href='#icon-file-text2'></use></svg></label><input id='data-724aecc3-bb53-4eda-9b15-886cc0fa49c6' class='xr-var-data-in' type='checkbox'><label for='data-724aecc3-bb53-4eda-9b15-886cc0fa49c6' title='Show/Hide data repr'><svg class='icon xr-icon-database'><use xlink:href='#icon-database'></use></svg></label><div class='xr-var-attrs'><dl class='xr-attrs'><dt><span>carbon_to_wet_weight_conversion_factor :</span></dt><dd>11.9</dd><dt><span>day_layer :</span></dt><dd>lower mesopelagic (3)</dd><dt><span>night_layer :</span></dt><dd>upper mesopelagic (2)</dd><dt><span>standard_name :</span></dt><dd>mass_content_of_migrant_lower_mesopelagic_micronekton_expressed_as_wet_weight_in_sea_water</dd><dt><span>units :</span></dt><dd>g m-2</dd></dl></div><div class='xr-var-data'><pre>array([[[0.97887494, 0.98090595, 0.98424261, ..., 0.92904263,\n",
       "         0.92860741, 0.92846234]]])</pre></div></li><li class='xr-var-item'><div class='xr-var-name'><span>mnkc_mumeso</span></div><div class='xr-var-dims'>(latitude, longitude, time)</div><div class='xr-var-dtype'>float64</div><div class='xr-var-preview xr-preview'>0.575 0.5776 ... 0.533 0.5511</div><input id='attrs-477f8eeb-8bdd-44c1-894b-d14f8e67cffa' class='xr-var-attrs-in' type='checkbox' ><label for='attrs-477f8eeb-8bdd-44c1-894b-d14f8e67cffa' title='Show/Hide attributes'><svg class='icon xr-icon-file-text2'><use xlink:href='#icon-file-text2'></use></svg></label><input id='data-7962a379-178a-4168-8cd7-d69e85cefd2f' class='xr-var-data-in' type='checkbox'><label for='data-7962a379-178a-4168-8cd7-d69e85cefd2f' title='Show/Hide data repr'><svg class='icon xr-icon-database'><use xlink:href='#icon-database'></use></svg></label><div class='xr-var-attrs'><dl class='xr-attrs'><dt><span>carbon_to_wet_weight_conversion_factor :</span></dt><dd>11.9</dd><dt><span>day_layer :</span></dt><dd>upper mesopelagic (2)</dd><dt><span>night_layer :</span></dt><dd>epipelagic (1)</dd><dt><span>standard_name :</span></dt><dd>mass_content_of_migrant_upper_mesopelagic_micronekton_expressed_as_wet_weight_in_sea_water</dd><dt><span>units :</span></dt><dd>g m-2</dd></dl></div><div class='xr-var-data'><pre>array([[[0.57503555, 0.57757034, 0.57829456, ..., 0.52470188,\n",
       "         0.53303048, 0.55113611]]])</pre></div></li><li class='xr-var-item'><div class='xr-var-name'><span>mnkc_umeso</span></div><div class='xr-var-dims'>(latitude, longitude, time)</div><div class='xr-var-dtype'>float64</div><div class='xr-var-preview xr-preview'>0.5002 0.4971 ... 0.4706 0.4742</div><input id='attrs-50963107-6dad-4882-88e8-1e8b82a7e784' class='xr-var-attrs-in' type='checkbox' ><label for='attrs-50963107-6dad-4882-88e8-1e8b82a7e784' title='Show/Hide attributes'><svg class='icon xr-icon-file-text2'><use xlink:href='#icon-file-text2'></use></svg></label><input id='data-d9b2a279-49bc-47ac-ab43-947353b86074' class='xr-var-data-in' type='checkbox'><label for='data-d9b2a279-49bc-47ac-ab43-947353b86074' title='Show/Hide data repr'><svg class='icon xr-icon-database'><use xlink:href='#icon-database'></use></svg></label><div class='xr-var-attrs'><dl class='xr-attrs'><dt><span>carbon_to_wet_weight_conversion_factor :</span></dt><dd>11.9</dd><dt><span>day_layer :</span></dt><dd>upper mesopelagic (2)</dd><dt><span>night_layer :</span></dt><dd>upper mesopelagic (2)</dd><dt><span>standard_name :</span></dt><dd>mass_content_of_upper_mesopelagic_micronekton_expressed_as_wet_weight_in_sea_water</dd><dt><span>units :</span></dt><dd>g m-2</dd></dl></div><div class='xr-var-data'><pre>array([[[0.50017163, 0.49711832, 0.49883581, ..., 0.4709743 ,\n",
       "         0.47059264, 0.47421845]]])</pre></div></li><li class='xr-var-item'><div class='xr-var-name'><span>npp</span></div><div class='xr-var-dims'>(latitude, longitude, time)</div><div class='xr-var-dtype'>float64</div><div class='xr-var-preview xr-preview'>323.3 321.7 324.9 ... 324.1 323.7</div><input id='attrs-83b1c9ef-0c2e-42c2-81b2-952fbb0bc04c' class='xr-var-attrs-in' type='checkbox' ><label for='attrs-83b1c9ef-0c2e-42c2-81b2-952fbb0bc04c' title='Show/Hide attributes'><svg class='icon xr-icon-file-text2'><use xlink:href='#icon-file-text2'></use></svg></label><input id='data-82158c18-d9c1-4516-a40b-943eb986394d' class='xr-var-data-in' type='checkbox'><label for='data-82158c18-d9c1-4516-a40b-943eb986394d' title='Show/Hide data repr'><svg class='icon xr-icon-database'><use xlink:href='#icon-database'></use></svg></label><div class='xr-var-attrs'><dl class='xr-attrs'><dt><span>standard_name :</span></dt><dd>net_primary_productivity_of_biomass_expressed_as_carbon_in_sea_water</dd><dt><span>units :</span></dt><dd>mg m-2 day-1</dd></dl></div><div class='xr-var-data'><pre>array([[[323.30059641, 321.69749695, 324.92808604, ..., 322.55115296,\n",
       "         324.08329919, 323.74405407]]])</pre></div></li><li class='xr-var-item'><div class='xr-var-name'><span>pelagic_layer_depth</span></div><div class='xr-var-dims'>(latitude, longitude, depth, time)</div><div class='xr-var-dtype'>float64</div><div class='xr-var-preview xr-preview'>113.1 114.2 113.8 ... 795.2 790.6</div><input id='attrs-09df98cb-06ab-4138-8f45-b2490b489b94' class='xr-var-attrs-in' type='checkbox' ><label for='attrs-09df98cb-06ab-4138-8f45-b2490b489b94' title='Show/Hide attributes'><svg class='icon xr-icon-file-text2'><use xlink:href='#icon-file-text2'></use></svg></label><input id='data-bf9c2dfc-acaf-4c0d-9c80-72d3df172dc2' class='xr-var-data-in' type='checkbox'><label for='data-bf9c2dfc-acaf-4c0d-9c80-72d3df172dc2' title='Show/Hide data repr'><svg class='icon xr-icon-database'><use xlink:href='#icon-database'></use></svg></label><div class='xr-var-attrs'><dl class='xr-attrs'><dt><span>standard_name :</span></dt><dd>sea_water_pelagic_layer_bottom_depth</dd><dt><span>units :</span></dt><dd>m</dd></dl></div><div class='xr-var-data'><pre>array([[[[113.10354322, 114.18750083, 113.81216693, ..., 113.72807878,\n",
       "          113.59442872, 112.940518  ],\n",
       "         [339.31043331, 342.55868646, 341.43560836, ..., 341.18445764,\n",
       "          340.78155842, 338.82093999],\n",
       "         [791.72463115, 799.30328521, 796.68179512, ..., 796.09665848,\n",
       "          795.15484327, 790.58303695]]]])</pre></div></li><li class='xr-var-item'><div class='xr-var-name'><span>zeu</span></div><div class='xr-var-dims'>(latitude, longitude, time)</div><div class='xr-var-dtype'>float64</div><div class='xr-var-preview xr-preview'>75.4 76.12 75.87 ... 75.73 75.29</div><input id='attrs-bfc4d038-3b3f-42e9-ab39-ac3b98c66c23' class='xr-var-attrs-in' type='checkbox' ><label for='attrs-bfc4d038-3b3f-42e9-ab39-ac3b98c66c23' title='Show/Hide attributes'><svg class='icon xr-icon-file-text2'><use xlink:href='#icon-file-text2'></use></svg></label><input id='data-14f39249-11dd-42f1-a054-10fb631600d4' class='xr-var-data-in' type='checkbox'><label for='data-14f39249-11dd-42f1-a054-10fb631600d4' title='Show/Hide data repr'><svg class='icon xr-icon-database'><use xlink:href='#icon-database'></use></svg></label><div class='xr-var-attrs'><dl class='xr-attrs'><dt><span>standard_name :</span></dt><dd>euphotic_zone_depth</dd><dt><span>units :</span></dt><dd>m</dd></dl></div><div class='xr-var-data'><pre>array([[[75.40235887, 76.124194  , 75.87461893, ..., 75.81893335,\n",
       "         75.72910867, 75.29362373]]])</pre></div></li><li class='xr-var-item'><div class='xr-var-name'><span>zooc</span></div><div class='xr-var-dims'>(latitude, longitude, time)</div><div class='xr-var-dtype'>float64</div><div class='xr-var-preview xr-preview'>0.2672 0.2722 ... 0.2535 0.2571</div><input id='attrs-36310002-69bd-430a-872b-94282e724f14' class='xr-var-attrs-in' type='checkbox' ><label for='attrs-36310002-69bd-430a-872b-94282e724f14' title='Show/Hide attributes'><svg class='icon xr-icon-file-text2'><use xlink:href='#icon-file-text2'></use></svg></label><input id='data-c5631330-b726-42e5-aad9-13e6d714b8f9' class='xr-var-data-in' type='checkbox'><label for='data-c5631330-b726-42e5-aad9-13e6d714b8f9' title='Show/Hide data repr'><svg class='icon xr-icon-database'><use xlink:href='#icon-database'></use></svg></label><div class='xr-var-attrs'><dl class='xr-attrs'><dt><span>standard_name :</span></dt><dd>mass_content_of_zooplankton_expressed_as_carbon_in_sea_water</dd><dt><span>units :</span></dt><dd>g m-2</dd></dl></div><div class='xr-var-data'><pre>array([[[0.26716173, 0.27222081, 0.27361206, ..., 0.25034028,\n",
       "         0.25348113, 0.25708573]]])</pre></div></li></ul></div></li><li class='xr-section-item'><input id='section-f461ece4-54f5-4a0b-937f-a3e85baf8364' class='xr-section-summary-in' type='checkbox'  ><label for='section-f461ece4-54f5-4a0b-937f-a3e85baf8364' class='xr-section-summary' >Indexes: <span>(4)</span></label><div class='xr-section-inline-details'></div><div class='xr-section-details'><ul class='xr-var-list'><li class='xr-var-item'><div class='xr-index-name'><div>depth</div></div><div class='xr-index-preview'>PandasIndex</div><input type='checkbox' disabled/><label></label><input id='index-26b972cb-ce34-416e-8492-16925a9c603e' class='xr-index-data-in' type='checkbox'/><label for='index-26b972cb-ce34-416e-8492-16925a9c603e' title='Show/Hide index repr'><svg class='icon xr-icon-database'><use xlink:href='#icon-database'></use></svg></label><div class='xr-index-data'><pre>PandasIndex(Index([0, 1, 2], dtype=&#x27;int64&#x27;, name=&#x27;depth&#x27;))</pre></div></li><li class='xr-var-item'><div class='xr-index-name'><div>latitude</div></div><div class='xr-index-preview'>PandasIndex</div><input type='checkbox' disabled/><label></label><input id='index-38f7856c-b569-4092-aadc-dd4f83415172' class='xr-index-data-in' type='checkbox'/><label for='index-38f7856c-b569-4092-aadc-dd4f83415172' title='Show/Hide index repr'><svg class='icon xr-icon-database'><use xlink:href='#icon-database'></use></svg></label><div class='xr-index-data'><pre>PandasIndex(Index([22.75], dtype=&#x27;float64&#x27;, name=&#x27;latitude&#x27;))</pre></div></li><li class='xr-var-item'><div class='xr-index-name'><div>longitude</div></div><div class='xr-index-preview'>PandasIndex</div><input type='checkbox' disabled/><label></label><input id='index-19bf0490-ede6-4b24-9f80-4e12fcf74a7c' class='xr-index-data-in' type='checkbox'/><label for='index-19bf0490-ede6-4b24-9f80-4e12fcf74a7c' title='Show/Hide index repr'><svg class='icon xr-icon-database'><use xlink:href='#icon-database'></use></svg></label><div class='xr-index-data'><pre>PandasIndex(Index([-158], dtype=&#x27;int64&#x27;, name=&#x27;longitude&#x27;))</pre></div></li><li class='xr-var-item'><div class='xr-index-name'><div>time</div></div><div class='xr-index-preview'>PandasIndex</div><input type='checkbox' disabled/><label></label><input id='index-9c8b5a0c-cf0a-4adb-b64d-04d262f80d73' class='xr-index-data-in' type='checkbox'/><label for='index-9c8b5a0c-cf0a-4adb-b64d-04d262f80d73' title='Show/Hide index repr'><svg class='icon xr-icon-database'><use xlink:href='#icon-database'></use></svg></label><div class='xr-index-data'><pre>PandasIndex(DatetimeIndex([&#x27;2005-01-02&#x27;, &#x27;2005-01-03&#x27;, &#x27;2005-01-04&#x27;, &#x27;2005-01-05&#x27;,\n",
       "               &#x27;2005-01-06&#x27;, &#x27;2005-01-07&#x27;, &#x27;2005-01-08&#x27;, &#x27;2005-01-09&#x27;,\n",
       "               &#x27;2005-01-10&#x27;, &#x27;2005-01-11&#x27;,\n",
       "               ...\n",
       "               &#x27;2009-12-18&#x27;, &#x27;2009-12-19&#x27;, &#x27;2009-12-20&#x27;, &#x27;2009-12-21&#x27;,\n",
       "               &#x27;2009-12-22&#x27;, &#x27;2009-12-23&#x27;, &#x27;2009-12-24&#x27;, &#x27;2009-12-25&#x27;,\n",
       "               &#x27;2009-12-26&#x27;, &#x27;2009-12-27&#x27;],\n",
       "              dtype=&#x27;datetime64[ns]&#x27;, name=&#x27;time&#x27;, length=1821, freq=None))</pre></div></li></ul></div></li><li class='xr-section-item'><input id='section-34f17f14-0c89-4db7-997e-8867ad88c43b' class='xr-section-summary-in' type='checkbox' disabled ><label for='section-34f17f14-0c89-4db7-997e-8867ad88c43b' class='xr-section-summary'  title='Expand/collapse section'>Attributes: <span>(0)</span></label><div class='xr-section-inline-details'></div><div class='xr-section-details'><dl class='xr-attrs'></dl></div></li></ul></div></div>"
      ],
      "text/plain": [
       "<xarray.Dataset> Size: 321kB\n",
       "Dimensions:              (latitude: 1, longitude: 1, depth: 3, time: 1821)\n",
       "Coordinates: (4)\n",
       "Data variables: (13)"
      ]
     },
     "execution_count": 24,
     "metadata": {},
     "output_type": "execute_result"
    }
   ],
   "source": [
    "forcing = xr.open_zarr(path_to_forcing)\n",
    "forcing = forcing.sel(time=slice(TIME_START, TIME_END))\n",
    "forcing[\"T\"].attrs[\"units\"] = StandardUnitsLabels.temperature.units\n",
    "forcing.load()"
   ]
  },
  {
   "cell_type": "markdown",
   "metadata": {},
   "source": [
    "### Epipelagic layer\n"
   ]
  },
  {
   "cell_type": "code",
   "execution_count": 25,
   "metadata": {},
   "outputs": [
    {
     "data": {
      "text/html": [
       "<div><svg style=\"position: absolute; width: 0; height: 0; overflow: hidden\">\n",
       "<defs>\n",
       "<symbol id=\"icon-database\" viewBox=\"0 0 32 32\">\n",
       "<path d=\"M16 0c-8.837 0-16 2.239-16 5v4c0 2.761 7.163 5 16 5s16-2.239 16-5v-4c0-2.761-7.163-5-16-5z\"></path>\n",
       "<path d=\"M16 17c-8.837 0-16-2.239-16-5v6c0 2.761 7.163 5 16 5s16-2.239 16-5v-6c0 2.761-7.163 5-16 5z\"></path>\n",
       "<path d=\"M16 26c-8.837 0-16-2.239-16-5v6c0 2.761 7.163 5 16 5s16-2.239 16-5v-6c0 2.761-7.163 5-16 5z\"></path>\n",
       "</symbol>\n",
       "<symbol id=\"icon-file-text2\" viewBox=\"0 0 32 32\">\n",
       "<path d=\"M28.681 7.159c-0.694-0.947-1.662-2.053-2.724-3.116s-2.169-2.030-3.116-2.724c-1.612-1.182-2.393-1.319-2.841-1.319h-15.5c-1.378 0-2.5 1.121-2.5 2.5v27c0 1.378 1.122 2.5 2.5 2.5h23c1.378 0 2.5-1.122 2.5-2.5v-19.5c0-0.448-0.137-1.23-1.319-2.841zM24.543 5.457c0.959 0.959 1.712 1.825 2.268 2.543h-4.811v-4.811c0.718 0.556 1.584 1.309 2.543 2.268zM28 29.5c0 0.271-0.229 0.5-0.5 0.5h-23c-0.271 0-0.5-0.229-0.5-0.5v-27c0-0.271 0.229-0.5 0.5-0.5 0 0 15.499-0 15.5 0v7c0 0.552 0.448 1 1 1h7v19.5z\"></path>\n",
       "<path d=\"M23 26h-14c-0.552 0-1-0.448-1-1s0.448-1 1-1h14c0.552 0 1 0.448 1 1s-0.448 1-1 1z\"></path>\n",
       "<path d=\"M23 22h-14c-0.552 0-1-0.448-1-1s0.448-1 1-1h14c0.552 0 1 0.448 1 1s-0.448 1-1 1z\"></path>\n",
       "<path d=\"M23 18h-14c-0.552 0-1-0.448-1-1s0.448-1 1-1h14c0.552 0 1 0.448 1 1s-0.448 1-1 1z\"></path>\n",
       "</symbol>\n",
       "</defs>\n",
       "</svg>\n",
       "<style>/* CSS stylesheet for displaying xarray objects in jupyterlab.\n",
       " *\n",
       " */\n",
       "\n",
       ":root {\n",
       "  --xr-font-color0: var(--jp-content-font-color0, rgba(0, 0, 0, 1));\n",
       "  --xr-font-color2: var(--jp-content-font-color2, rgba(0, 0, 0, 0.54));\n",
       "  --xr-font-color3: var(--jp-content-font-color3, rgba(0, 0, 0, 0.38));\n",
       "  --xr-border-color: var(--jp-border-color2, #e0e0e0);\n",
       "  --xr-disabled-color: var(--jp-layout-color3, #bdbdbd);\n",
       "  --xr-background-color: var(--jp-layout-color0, white);\n",
       "  --xr-background-color-row-even: var(--jp-layout-color1, white);\n",
       "  --xr-background-color-row-odd: var(--jp-layout-color2, #eeeeee);\n",
       "}\n",
       "\n",
       "html[theme=\"dark\"],\n",
       "html[data-theme=\"dark\"],\n",
       "body[data-theme=\"dark\"],\n",
       "body.vscode-dark {\n",
       "  --xr-font-color0: rgba(255, 255, 255, 1);\n",
       "  --xr-font-color2: rgba(255, 255, 255, 0.54);\n",
       "  --xr-font-color3: rgba(255, 255, 255, 0.38);\n",
       "  --xr-border-color: #1f1f1f;\n",
       "  --xr-disabled-color: #515151;\n",
       "  --xr-background-color: #111111;\n",
       "  --xr-background-color-row-even: #111111;\n",
       "  --xr-background-color-row-odd: #313131;\n",
       "}\n",
       "\n",
       ".xr-wrap {\n",
       "  display: block !important;\n",
       "  min-width: 300px;\n",
       "  max-width: 700px;\n",
       "}\n",
       "\n",
       ".xr-text-repr-fallback {\n",
       "  /* fallback to plain text repr when CSS is not injected (untrusted notebook) */\n",
       "  display: none;\n",
       "}\n",
       "\n",
       ".xr-header {\n",
       "  padding-top: 6px;\n",
       "  padding-bottom: 6px;\n",
       "  margin-bottom: 4px;\n",
       "  border-bottom: solid 1px var(--xr-border-color);\n",
       "}\n",
       "\n",
       ".xr-header > div,\n",
       ".xr-header > ul {\n",
       "  display: inline;\n",
       "  margin-top: 0;\n",
       "  margin-bottom: 0;\n",
       "}\n",
       "\n",
       ".xr-obj-type,\n",
       ".xr-array-name {\n",
       "  margin-left: 2px;\n",
       "  margin-right: 10px;\n",
       "}\n",
       "\n",
       ".xr-obj-type {\n",
       "  color: var(--xr-font-color2);\n",
       "}\n",
       "\n",
       ".xr-sections {\n",
       "  padding-left: 0 !important;\n",
       "  display: grid;\n",
       "  grid-template-columns: 150px auto auto 1fr 0 20px 0 20px;\n",
       "}\n",
       "\n",
       ".xr-section-item {\n",
       "  display: contents;\n",
       "}\n",
       "\n",
       ".xr-section-item input {\n",
       "  display: inline-block;\n",
       "  opacity: 0;\n",
       "  height: 0;\n",
       "}\n",
       "\n",
       ".xr-section-item input + label {\n",
       "  color: var(--xr-disabled-color);\n",
       "}\n",
       "\n",
       ".xr-section-item input:enabled + label {\n",
       "  cursor: pointer;\n",
       "  color: var(--xr-font-color2);\n",
       "}\n",
       "\n",
       ".xr-section-item input:focus + label {\n",
       "  border: 2px solid var(--xr-font-color0);\n",
       "}\n",
       "\n",
       ".xr-section-item input:enabled + label:hover {\n",
       "  color: var(--xr-font-color0);\n",
       "}\n",
       "\n",
       ".xr-section-summary {\n",
       "  grid-column: 1;\n",
       "  color: var(--xr-font-color2);\n",
       "  font-weight: 500;\n",
       "}\n",
       "\n",
       ".xr-section-summary > span {\n",
       "  display: inline-block;\n",
       "  padding-left: 0.5em;\n",
       "}\n",
       "\n",
       ".xr-section-summary-in:disabled + label {\n",
       "  color: var(--xr-font-color2);\n",
       "}\n",
       "\n",
       ".xr-section-summary-in + label:before {\n",
       "  display: inline-block;\n",
       "  content: \"►\";\n",
       "  font-size: 11px;\n",
       "  width: 15px;\n",
       "  text-align: center;\n",
       "}\n",
       "\n",
       ".xr-section-summary-in:disabled + label:before {\n",
       "  color: var(--xr-disabled-color);\n",
       "}\n",
       "\n",
       ".xr-section-summary-in:checked + label:before {\n",
       "  content: \"▼\";\n",
       "}\n",
       "\n",
       ".xr-section-summary-in:checked + label > span {\n",
       "  display: none;\n",
       "}\n",
       "\n",
       ".xr-section-summary,\n",
       ".xr-section-inline-details {\n",
       "  padding-top: 4px;\n",
       "  padding-bottom: 4px;\n",
       "}\n",
       "\n",
       ".xr-section-inline-details {\n",
       "  grid-column: 2 / -1;\n",
       "}\n",
       "\n",
       ".xr-section-details {\n",
       "  display: none;\n",
       "  grid-column: 1 / -1;\n",
       "  margin-bottom: 5px;\n",
       "}\n",
       "\n",
       ".xr-section-summary-in:checked ~ .xr-section-details {\n",
       "  display: contents;\n",
       "}\n",
       "\n",
       ".xr-array-wrap {\n",
       "  grid-column: 1 / -1;\n",
       "  display: grid;\n",
       "  grid-template-columns: 20px auto;\n",
       "}\n",
       "\n",
       ".xr-array-wrap > label {\n",
       "  grid-column: 1;\n",
       "  vertical-align: top;\n",
       "}\n",
       "\n",
       ".xr-preview {\n",
       "  color: var(--xr-font-color3);\n",
       "}\n",
       "\n",
       ".xr-array-preview,\n",
       ".xr-array-data {\n",
       "  padding: 0 5px !important;\n",
       "  grid-column: 2;\n",
       "}\n",
       "\n",
       ".xr-array-data,\n",
       ".xr-array-in:checked ~ .xr-array-preview {\n",
       "  display: none;\n",
       "}\n",
       "\n",
       ".xr-array-in:checked ~ .xr-array-data,\n",
       ".xr-array-preview {\n",
       "  display: inline-block;\n",
       "}\n",
       "\n",
       ".xr-dim-list {\n",
       "  display: inline-block !important;\n",
       "  list-style: none;\n",
       "  padding: 0 !important;\n",
       "  margin: 0;\n",
       "}\n",
       "\n",
       ".xr-dim-list li {\n",
       "  display: inline-block;\n",
       "  padding: 0;\n",
       "  margin: 0;\n",
       "}\n",
       "\n",
       ".xr-dim-list:before {\n",
       "  content: \"(\";\n",
       "}\n",
       "\n",
       ".xr-dim-list:after {\n",
       "  content: \")\";\n",
       "}\n",
       "\n",
       ".xr-dim-list li:not(:last-child):after {\n",
       "  content: \",\";\n",
       "  padding-right: 5px;\n",
       "}\n",
       "\n",
       ".xr-has-index {\n",
       "  font-weight: bold;\n",
       "}\n",
       "\n",
       ".xr-var-list,\n",
       ".xr-var-item {\n",
       "  display: contents;\n",
       "}\n",
       "\n",
       ".xr-var-item > div,\n",
       ".xr-var-item label,\n",
       ".xr-var-item > .xr-var-name span {\n",
       "  background-color: var(--xr-background-color-row-even);\n",
       "  margin-bottom: 0;\n",
       "}\n",
       "\n",
       ".xr-var-item > .xr-var-name:hover span {\n",
       "  padding-right: 5px;\n",
       "}\n",
       "\n",
       ".xr-var-list > li:nth-child(odd) > div,\n",
       ".xr-var-list > li:nth-child(odd) > label,\n",
       ".xr-var-list > li:nth-child(odd) > .xr-var-name span {\n",
       "  background-color: var(--xr-background-color-row-odd);\n",
       "}\n",
       "\n",
       ".xr-var-name {\n",
       "  grid-column: 1;\n",
       "}\n",
       "\n",
       ".xr-var-dims {\n",
       "  grid-column: 2;\n",
       "}\n",
       "\n",
       ".xr-var-dtype {\n",
       "  grid-column: 3;\n",
       "  text-align: right;\n",
       "  color: var(--xr-font-color2);\n",
       "}\n",
       "\n",
       ".xr-var-preview {\n",
       "  grid-column: 4;\n",
       "}\n",
       "\n",
       ".xr-index-preview {\n",
       "  grid-column: 2 / 5;\n",
       "  color: var(--xr-font-color2);\n",
       "}\n",
       "\n",
       ".xr-var-name,\n",
       ".xr-var-dims,\n",
       ".xr-var-dtype,\n",
       ".xr-preview,\n",
       ".xr-attrs dt {\n",
       "  white-space: nowrap;\n",
       "  overflow: hidden;\n",
       "  text-overflow: ellipsis;\n",
       "  padding-right: 10px;\n",
       "}\n",
       "\n",
       ".xr-var-name:hover,\n",
       ".xr-var-dims:hover,\n",
       ".xr-var-dtype:hover,\n",
       ".xr-attrs dt:hover {\n",
       "  overflow: visible;\n",
       "  width: auto;\n",
       "  z-index: 1;\n",
       "}\n",
       "\n",
       ".xr-var-attrs,\n",
       ".xr-var-data,\n",
       ".xr-index-data {\n",
       "  display: none;\n",
       "  background-color: var(--xr-background-color) !important;\n",
       "  padding-bottom: 5px !important;\n",
       "}\n",
       "\n",
       ".xr-var-attrs-in:checked ~ .xr-var-attrs,\n",
       ".xr-var-data-in:checked ~ .xr-var-data,\n",
       ".xr-index-data-in:checked ~ .xr-index-data {\n",
       "  display: block;\n",
       "}\n",
       "\n",
       ".xr-var-data > table {\n",
       "  float: right;\n",
       "}\n",
       "\n",
       ".xr-var-name span,\n",
       ".xr-var-data,\n",
       ".xr-index-name div,\n",
       ".xr-index-data,\n",
       ".xr-attrs {\n",
       "  padding-left: 25px !important;\n",
       "}\n",
       "\n",
       ".xr-attrs,\n",
       ".xr-var-attrs,\n",
       ".xr-var-data,\n",
       ".xr-index-data {\n",
       "  grid-column: 1 / -1;\n",
       "}\n",
       "\n",
       "dl.xr-attrs {\n",
       "  padding: 0;\n",
       "  margin: 0;\n",
       "  display: grid;\n",
       "  grid-template-columns: 125px auto;\n",
       "}\n",
       "\n",
       ".xr-attrs dt,\n",
       ".xr-attrs dd {\n",
       "  padding: 0;\n",
       "  margin: 0;\n",
       "  float: left;\n",
       "  padding-right: 10px;\n",
       "  width: auto;\n",
       "}\n",
       "\n",
       ".xr-attrs dt {\n",
       "  font-weight: normal;\n",
       "  grid-column: 1;\n",
       "}\n",
       "\n",
       ".xr-attrs dt:hover span {\n",
       "  display: inline-block;\n",
       "  background: var(--xr-background-color);\n",
       "  padding-right: 10px;\n",
       "}\n",
       "\n",
       ".xr-attrs dd {\n",
       "  grid-column: 2;\n",
       "  white-space: pre-wrap;\n",
       "  word-break: break-all;\n",
       "}\n",
       "\n",
       ".xr-icon-database,\n",
       ".xr-icon-file-text2,\n",
       ".xr-no-icon {\n",
       "  display: inline-block;\n",
       "  vertical-align: middle;\n",
       "  width: 1em;\n",
       "  height: 1.5em !important;\n",
       "  stroke-width: 0;\n",
       "  stroke: currentColor;\n",
       "  fill: currentColor;\n",
       "}\n",
       "</style><pre class='xr-text-repr-fallback'>&lt;xarray.DataArray &#x27;pelagic_layer_depth&#x27; (latitude: 1, longitude: 1, time: 1821)&gt; Size: 15kB\n",
       "[m] 113.1 114.2 113.8 114.4 114.4 111.8 ... 114.3 113.4 116.6 113.7 113.6 112.9\n",
       "Coordinates: (4)\n",
       "Attributes: (1)</pre><div class='xr-wrap' style='display:none'><div class='xr-header'><div class='xr-obj-type'>xarray.DataArray</div><div class='xr-array-name'>'pelagic_layer_depth'</div><ul class='xr-dim-list'><li><span class='xr-has-index'>latitude</span>: 1</li><li><span class='xr-has-index'>longitude</span>: 1</li><li><span class='xr-has-index'>time</span>: 1821</li></ul></div><ul class='xr-sections'><li class='xr-section-item'><div class='xr-array-wrap'><input id='section-61d07160-219c-4a77-8fcd-d96b817116ab' class='xr-array-in' type='checkbox' ><label for='section-61d07160-219c-4a77-8fcd-d96b817116ab' title='Show/hide data repr'><svg class='icon xr-icon-database'><use xlink:href='#icon-database'></use></svg></label><div class='xr-array-preview xr-preview'><span>[m] 113.1 114.2 113.8 114.4 114.4 ... 113.4 116.6 113.7 113.6 112.9</span></div><div class='xr-array-data'><table><tbody><tr><th>Magnitude</th><td style='text-align:left;'><pre>[[[113.10354321928514 114.18750083099961 113.81216693411004 ...<br>   113.72807877620157 113.59442872389666 112.94051799923405]]]</pre></td></tr><tr><th>Units</th><td style='text-align:left;'>meter</td></tr></tbody></table></div></div></li><li class='xr-section-item'><input id='section-a329d300-4679-4bba-91f7-4fd46add0f95' class='xr-section-summary-in' type='checkbox'  ><label for='section-a329d300-4679-4bba-91f7-4fd46add0f95' class='xr-section-summary' >Coordinates: <span>(4)</span></label><div class='xr-section-inline-details'></div><div class='xr-section-details'><ul class='xr-var-list'><li class='xr-var-item'><div class='xr-var-name'><span>depth</span></div><div class='xr-var-dims'>()</div><div class='xr-var-dtype'>int64</div><div class='xr-var-preview xr-preview'>0</div><input id='attrs-1a5b44ee-8e41-485b-a6d4-380108278d08' class='xr-var-attrs-in' type='checkbox' ><label for='attrs-1a5b44ee-8e41-485b-a6d4-380108278d08' title='Show/Hide attributes'><svg class='icon xr-icon-file-text2'><use xlink:href='#icon-file-text2'></use></svg></label><input id='data-534add90-fcde-4cc7-9619-84ab1527deca' class='xr-var-data-in' type='checkbox'><label for='data-534add90-fcde-4cc7-9619-84ab1527deca' title='Show/Hide data repr'><svg class='icon xr-icon-database'><use xlink:href='#icon-database'></use></svg></label><div class='xr-var-attrs'><dl class='xr-attrs'><dt><span>axis :</span></dt><dd>Z</dd><dt><span>desc :</span></dt><dd>The layer depth according to Seapodym definition</dd><dt><span>flag_meanings :</span></dt><dd>epipelagic, upper-mesopelagic, lower-mesopelagic</dd><dt><span>flag_values :</span></dt><dd>[0 1 2]</dd><dt><span>long_name :</span></dt><dd>Layer depth</dd><dt><span>standard_name :</span></dt><dd>depth</dd></dl></div><div class='xr-var-data'><pre>array(0)</pre></div></li><li class='xr-var-item'><div class='xr-var-name'><span class='xr-has-index'>latitude</span></div><div class='xr-var-dims'>(latitude)</div><div class='xr-var-dtype'>float64</div><div class='xr-var-preview xr-preview'>22.75</div><input id='attrs-00bab646-1e9f-411e-a72b-9ad66174d2f8' class='xr-var-attrs-in' type='checkbox' ><label for='attrs-00bab646-1e9f-411e-a72b-9ad66174d2f8' title='Show/Hide attributes'><svg class='icon xr-icon-file-text2'><use xlink:href='#icon-file-text2'></use></svg></label><input id='data-99f6d820-1319-4e39-bb7c-8d572c347a5e' class='xr-var-data-in' type='checkbox'><label for='data-99f6d820-1319-4e39-bb7c-8d572c347a5e' title='Show/Hide data repr'><svg class='icon xr-icon-database'><use xlink:href='#icon-database'></use></svg></label><div class='xr-var-attrs'><dl class='xr-attrs'><dt><span>axis :</span></dt><dd>Y</dd><dt><span>standard_name :</span></dt><dd>latitude</dd><dt><span>units :</span></dt><dd>degrees_north</dd></dl></div><div class='xr-var-data'><pre>array([22.75])</pre></div></li><li class='xr-var-item'><div class='xr-var-name'><span class='xr-has-index'>longitude</span></div><div class='xr-var-dims'>(longitude)</div><div class='xr-var-dtype'>int64</div><div class='xr-var-preview xr-preview'>-158</div><input id='attrs-89f1c834-7456-4fce-a89e-215b74cc9dcb' class='xr-var-attrs-in' type='checkbox' ><label for='attrs-89f1c834-7456-4fce-a89e-215b74cc9dcb' title='Show/Hide attributes'><svg class='icon xr-icon-file-text2'><use xlink:href='#icon-file-text2'></use></svg></label><input id='data-e891c4d2-3ac6-4bc5-ac0a-b2dd39e730bb' class='xr-var-data-in' type='checkbox'><label for='data-e891c4d2-3ac6-4bc5-ac0a-b2dd39e730bb' title='Show/Hide data repr'><svg class='icon xr-icon-database'><use xlink:href='#icon-database'></use></svg></label><div class='xr-var-attrs'><dl class='xr-attrs'><dt><span>axis :</span></dt><dd>X</dd><dt><span>standard_name :</span></dt><dd>longitude</dd><dt><span>units :</span></dt><dd>degrees_east</dd></dl></div><div class='xr-var-data'><pre>array([-158])</pre></div></li><li class='xr-var-item'><div class='xr-var-name'><span class='xr-has-index'>time</span></div><div class='xr-var-dims'>(time)</div><div class='xr-var-dtype'>datetime64[ns]</div><div class='xr-var-preview xr-preview'>2005-01-02 ... 2009-12-27</div><input id='attrs-cbff252d-4a62-4031-8af8-07bcb29fd055' class='xr-var-attrs-in' type='checkbox' ><label for='attrs-cbff252d-4a62-4031-8af8-07bcb29fd055' title='Show/Hide attributes'><svg class='icon xr-icon-file-text2'><use xlink:href='#icon-file-text2'></use></svg></label><input id='data-5f5edd69-c945-41ed-8d8f-f26b344747ae' class='xr-var-data-in' type='checkbox'><label for='data-5f5edd69-c945-41ed-8d8f-f26b344747ae' title='Show/Hide data repr'><svg class='icon xr-icon-database'><use xlink:href='#icon-database'></use></svg></label><div class='xr-var-attrs'><dl class='xr-attrs'><dt><span>axis :</span></dt><dd>T</dd><dt><span>long_name :</span></dt><dd>Time</dd><dt><span>standard_name :</span></dt><dd>time</dd><dt><span>unit_long :</span></dt><dd>Seconds Since 1970-01-01</dd></dl></div><div class='xr-var-data'><pre>array([&#x27;2005-01-02T00:00:00.000000000&#x27;, &#x27;2005-01-03T00:00:00.000000000&#x27;,\n",
       "       &#x27;2005-01-04T00:00:00.000000000&#x27;, ..., &#x27;2009-12-25T00:00:00.000000000&#x27;,\n",
       "       &#x27;2009-12-26T00:00:00.000000000&#x27;, &#x27;2009-12-27T00:00:00.000000000&#x27;],\n",
       "      dtype=&#x27;datetime64[ns]&#x27;)</pre></div></li></ul></div></li><li class='xr-section-item'><input id='section-235de597-28b9-4bda-a61a-d11e0c64c7d9' class='xr-section-summary-in' type='checkbox'  ><label for='section-235de597-28b9-4bda-a61a-d11e0c64c7d9' class='xr-section-summary' >Indexes: <span>(3)</span></label><div class='xr-section-inline-details'></div><div class='xr-section-details'><ul class='xr-var-list'><li class='xr-var-item'><div class='xr-index-name'><div>latitude</div></div><div class='xr-index-preview'>PandasIndex</div><input type='checkbox' disabled/><label></label><input id='index-c5d753c9-8958-4e2c-9937-50553fd7461a' class='xr-index-data-in' type='checkbox'/><label for='index-c5d753c9-8958-4e2c-9937-50553fd7461a' title='Show/Hide index repr'><svg class='icon xr-icon-database'><use xlink:href='#icon-database'></use></svg></label><div class='xr-index-data'><pre>PandasIndex(Index([22.75], dtype=&#x27;float64&#x27;, name=&#x27;latitude&#x27;))</pre></div></li><li class='xr-var-item'><div class='xr-index-name'><div>longitude</div></div><div class='xr-index-preview'>PandasIndex</div><input type='checkbox' disabled/><label></label><input id='index-6221b6ba-81a6-4b93-8f6d-08fb9850e2bc' class='xr-index-data-in' type='checkbox'/><label for='index-6221b6ba-81a6-4b93-8f6d-08fb9850e2bc' title='Show/Hide index repr'><svg class='icon xr-icon-database'><use xlink:href='#icon-database'></use></svg></label><div class='xr-index-data'><pre>PandasIndex(Index([-158], dtype=&#x27;int64&#x27;, name=&#x27;longitude&#x27;))</pre></div></li><li class='xr-var-item'><div class='xr-index-name'><div>time</div></div><div class='xr-index-preview'>PandasIndex</div><input type='checkbox' disabled/><label></label><input id='index-dc9ee0d3-aa10-454c-8e4e-753b273706eb' class='xr-index-data-in' type='checkbox'/><label for='index-dc9ee0d3-aa10-454c-8e4e-753b273706eb' title='Show/Hide index repr'><svg class='icon xr-icon-database'><use xlink:href='#icon-database'></use></svg></label><div class='xr-index-data'><pre>PandasIndex(DatetimeIndex([&#x27;2005-01-02&#x27;, &#x27;2005-01-03&#x27;, &#x27;2005-01-04&#x27;, &#x27;2005-01-05&#x27;,\n",
       "               &#x27;2005-01-06&#x27;, &#x27;2005-01-07&#x27;, &#x27;2005-01-08&#x27;, &#x27;2005-01-09&#x27;,\n",
       "               &#x27;2005-01-10&#x27;, &#x27;2005-01-11&#x27;,\n",
       "               ...\n",
       "               &#x27;2009-12-18&#x27;, &#x27;2009-12-19&#x27;, &#x27;2009-12-20&#x27;, &#x27;2009-12-21&#x27;,\n",
       "               &#x27;2009-12-22&#x27;, &#x27;2009-12-23&#x27;, &#x27;2009-12-24&#x27;, &#x27;2009-12-25&#x27;,\n",
       "               &#x27;2009-12-26&#x27;, &#x27;2009-12-27&#x27;],\n",
       "              dtype=&#x27;datetime64[ns]&#x27;, name=&#x27;time&#x27;, length=1821, freq=&#x27;D&#x27;))</pre></div></li></ul></div></li><li class='xr-section-item'><input id='section-689726e4-b00c-4131-b580-f7ab5931c8c9' class='xr-section-summary-in' type='checkbox'  ><label for='section-689726e4-b00c-4131-b580-f7ab5931c8c9' class='xr-section-summary' >Attributes: <span>(1)</span></label><div class='xr-section-inline-details'></div><div class='xr-section-details'><dl class='xr-attrs'><dt><span>standard_name :</span></dt><dd>sea_water_pelagic_layer_bottom_depth</dd></dl></div></li></ul></div></div>"
      ],
      "text/plain": [
       "<xarray.DataArray 'pelagic_layer_depth' (latitude: 1, longitude: 1, time: 1821)> Size: 15kB\n",
       "[m] 113.1 114.2 113.8 114.4 114.4 111.8 ... 114.3 113.4 116.6 113.7 113.6 112.9\n",
       "Coordinates: (4)\n",
       "Attributes: (1)"
      ]
     },
     "execution_count": 25,
     "metadata": {},
     "output_type": "execute_result"
    }
   ],
   "source": [
    "epi_layer_depth = forcing[\"pelagic_layer_depth\"].sel(depth=0).load()\n",
    "epi_layer_depth = epi_layer_depth.resample(time=\"1D\").mean()\n",
    "epi_layer_depth.attrs[\"units\"] = \"meter\"\n",
    "epi_layer_depth = epi_layer_depth.pint.quantify()\n",
    "epi_layer_depth"
   ]
  },
  {
   "cell_type": "markdown",
   "metadata": {},
   "source": [
    "<!-- ## Observed NPP -->\n"
   ]
  },
  {
   "cell_type": "code",
   "execution_count": 26,
   "metadata": {},
   "outputs": [
    {
     "data": {
      "text/html": [
       "<div><svg style=\"position: absolute; width: 0; height: 0; overflow: hidden\">\n",
       "<defs>\n",
       "<symbol id=\"icon-database\" viewBox=\"0 0 32 32\">\n",
       "<path d=\"M16 0c-8.837 0-16 2.239-16 5v4c0 2.761 7.163 5 16 5s16-2.239 16-5v-4c0-2.761-7.163-5-16-5z\"></path>\n",
       "<path d=\"M16 17c-8.837 0-16-2.239-16-5v6c0 2.761 7.163 5 16 5s16-2.239 16-5v-6c0 2.761-7.163 5-16 5z\"></path>\n",
       "<path d=\"M16 26c-8.837 0-16-2.239-16-5v6c0 2.761 7.163 5 16 5s16-2.239 16-5v-6c0 2.761-7.163 5-16 5z\"></path>\n",
       "</symbol>\n",
       "<symbol id=\"icon-file-text2\" viewBox=\"0 0 32 32\">\n",
       "<path d=\"M28.681 7.159c-0.694-0.947-1.662-2.053-2.724-3.116s-2.169-2.030-3.116-2.724c-1.612-1.182-2.393-1.319-2.841-1.319h-15.5c-1.378 0-2.5 1.121-2.5 2.5v27c0 1.378 1.122 2.5 2.5 2.5h23c1.378 0 2.5-1.122 2.5-2.5v-19.5c0-0.448-0.137-1.23-1.319-2.841zM24.543 5.457c0.959 0.959 1.712 1.825 2.268 2.543h-4.811v-4.811c0.718 0.556 1.584 1.309 2.543 2.268zM28 29.5c0 0.271-0.229 0.5-0.5 0.5h-23c-0.271 0-0.5-0.229-0.5-0.5v-27c0-0.271 0.229-0.5 0.5-0.5 0 0 15.499-0 15.5 0v7c0 0.552 0.448 1 1 1h7v19.5z\"></path>\n",
       "<path d=\"M23 26h-14c-0.552 0-1-0.448-1-1s0.448-1 1-1h14c0.552 0 1 0.448 1 1s-0.448 1-1 1z\"></path>\n",
       "<path d=\"M23 22h-14c-0.552 0-1-0.448-1-1s0.448-1 1-1h14c0.552 0 1 0.448 1 1s-0.448 1-1 1z\"></path>\n",
       "<path d=\"M23 18h-14c-0.552 0-1-0.448-1-1s0.448-1 1-1h14c0.552 0 1 0.448 1 1s-0.448 1-1 1z\"></path>\n",
       "</symbol>\n",
       "</defs>\n",
       "</svg>\n",
       "<style>/* CSS stylesheet for displaying xarray objects in jupyterlab.\n",
       " *\n",
       " */\n",
       "\n",
       ":root {\n",
       "  --xr-font-color0: var(--jp-content-font-color0, rgba(0, 0, 0, 1));\n",
       "  --xr-font-color2: var(--jp-content-font-color2, rgba(0, 0, 0, 0.54));\n",
       "  --xr-font-color3: var(--jp-content-font-color3, rgba(0, 0, 0, 0.38));\n",
       "  --xr-border-color: var(--jp-border-color2, #e0e0e0);\n",
       "  --xr-disabled-color: var(--jp-layout-color3, #bdbdbd);\n",
       "  --xr-background-color: var(--jp-layout-color0, white);\n",
       "  --xr-background-color-row-even: var(--jp-layout-color1, white);\n",
       "  --xr-background-color-row-odd: var(--jp-layout-color2, #eeeeee);\n",
       "}\n",
       "\n",
       "html[theme=\"dark\"],\n",
       "html[data-theme=\"dark\"],\n",
       "body[data-theme=\"dark\"],\n",
       "body.vscode-dark {\n",
       "  --xr-font-color0: rgba(255, 255, 255, 1);\n",
       "  --xr-font-color2: rgba(255, 255, 255, 0.54);\n",
       "  --xr-font-color3: rgba(255, 255, 255, 0.38);\n",
       "  --xr-border-color: #1f1f1f;\n",
       "  --xr-disabled-color: #515151;\n",
       "  --xr-background-color: #111111;\n",
       "  --xr-background-color-row-even: #111111;\n",
       "  --xr-background-color-row-odd: #313131;\n",
       "}\n",
       "\n",
       ".xr-wrap {\n",
       "  display: block !important;\n",
       "  min-width: 300px;\n",
       "  max-width: 700px;\n",
       "}\n",
       "\n",
       ".xr-text-repr-fallback {\n",
       "  /* fallback to plain text repr when CSS is not injected (untrusted notebook) */\n",
       "  display: none;\n",
       "}\n",
       "\n",
       ".xr-header {\n",
       "  padding-top: 6px;\n",
       "  padding-bottom: 6px;\n",
       "  margin-bottom: 4px;\n",
       "  border-bottom: solid 1px var(--xr-border-color);\n",
       "}\n",
       "\n",
       ".xr-header > div,\n",
       ".xr-header > ul {\n",
       "  display: inline;\n",
       "  margin-top: 0;\n",
       "  margin-bottom: 0;\n",
       "}\n",
       "\n",
       ".xr-obj-type,\n",
       ".xr-array-name {\n",
       "  margin-left: 2px;\n",
       "  margin-right: 10px;\n",
       "}\n",
       "\n",
       ".xr-obj-type {\n",
       "  color: var(--xr-font-color2);\n",
       "}\n",
       "\n",
       ".xr-sections {\n",
       "  padding-left: 0 !important;\n",
       "  display: grid;\n",
       "  grid-template-columns: 150px auto auto 1fr 0 20px 0 20px;\n",
       "}\n",
       "\n",
       ".xr-section-item {\n",
       "  display: contents;\n",
       "}\n",
       "\n",
       ".xr-section-item input {\n",
       "  display: inline-block;\n",
       "  opacity: 0;\n",
       "  height: 0;\n",
       "}\n",
       "\n",
       ".xr-section-item input + label {\n",
       "  color: var(--xr-disabled-color);\n",
       "}\n",
       "\n",
       ".xr-section-item input:enabled + label {\n",
       "  cursor: pointer;\n",
       "  color: var(--xr-font-color2);\n",
       "}\n",
       "\n",
       ".xr-section-item input:focus + label {\n",
       "  border: 2px solid var(--xr-font-color0);\n",
       "}\n",
       "\n",
       ".xr-section-item input:enabled + label:hover {\n",
       "  color: var(--xr-font-color0);\n",
       "}\n",
       "\n",
       ".xr-section-summary {\n",
       "  grid-column: 1;\n",
       "  color: var(--xr-font-color2);\n",
       "  font-weight: 500;\n",
       "}\n",
       "\n",
       ".xr-section-summary > span {\n",
       "  display: inline-block;\n",
       "  padding-left: 0.5em;\n",
       "}\n",
       "\n",
       ".xr-section-summary-in:disabled + label {\n",
       "  color: var(--xr-font-color2);\n",
       "}\n",
       "\n",
       ".xr-section-summary-in + label:before {\n",
       "  display: inline-block;\n",
       "  content: \"►\";\n",
       "  font-size: 11px;\n",
       "  width: 15px;\n",
       "  text-align: center;\n",
       "}\n",
       "\n",
       ".xr-section-summary-in:disabled + label:before {\n",
       "  color: var(--xr-disabled-color);\n",
       "}\n",
       "\n",
       ".xr-section-summary-in:checked + label:before {\n",
       "  content: \"▼\";\n",
       "}\n",
       "\n",
       ".xr-section-summary-in:checked + label > span {\n",
       "  display: none;\n",
       "}\n",
       "\n",
       ".xr-section-summary,\n",
       ".xr-section-inline-details {\n",
       "  padding-top: 4px;\n",
       "  padding-bottom: 4px;\n",
       "}\n",
       "\n",
       ".xr-section-inline-details {\n",
       "  grid-column: 2 / -1;\n",
       "}\n",
       "\n",
       ".xr-section-details {\n",
       "  display: none;\n",
       "  grid-column: 1 / -1;\n",
       "  margin-bottom: 5px;\n",
       "}\n",
       "\n",
       ".xr-section-summary-in:checked ~ .xr-section-details {\n",
       "  display: contents;\n",
       "}\n",
       "\n",
       ".xr-array-wrap {\n",
       "  grid-column: 1 / -1;\n",
       "  display: grid;\n",
       "  grid-template-columns: 20px auto;\n",
       "}\n",
       "\n",
       ".xr-array-wrap > label {\n",
       "  grid-column: 1;\n",
       "  vertical-align: top;\n",
       "}\n",
       "\n",
       ".xr-preview {\n",
       "  color: var(--xr-font-color3);\n",
       "}\n",
       "\n",
       ".xr-array-preview,\n",
       ".xr-array-data {\n",
       "  padding: 0 5px !important;\n",
       "  grid-column: 2;\n",
       "}\n",
       "\n",
       ".xr-array-data,\n",
       ".xr-array-in:checked ~ .xr-array-preview {\n",
       "  display: none;\n",
       "}\n",
       "\n",
       ".xr-array-in:checked ~ .xr-array-data,\n",
       ".xr-array-preview {\n",
       "  display: inline-block;\n",
       "}\n",
       "\n",
       ".xr-dim-list {\n",
       "  display: inline-block !important;\n",
       "  list-style: none;\n",
       "  padding: 0 !important;\n",
       "  margin: 0;\n",
       "}\n",
       "\n",
       ".xr-dim-list li {\n",
       "  display: inline-block;\n",
       "  padding: 0;\n",
       "  margin: 0;\n",
       "}\n",
       "\n",
       ".xr-dim-list:before {\n",
       "  content: \"(\";\n",
       "}\n",
       "\n",
       ".xr-dim-list:after {\n",
       "  content: \")\";\n",
       "}\n",
       "\n",
       ".xr-dim-list li:not(:last-child):after {\n",
       "  content: \",\";\n",
       "  padding-right: 5px;\n",
       "}\n",
       "\n",
       ".xr-has-index {\n",
       "  font-weight: bold;\n",
       "}\n",
       "\n",
       ".xr-var-list,\n",
       ".xr-var-item {\n",
       "  display: contents;\n",
       "}\n",
       "\n",
       ".xr-var-item > div,\n",
       ".xr-var-item label,\n",
       ".xr-var-item > .xr-var-name span {\n",
       "  background-color: var(--xr-background-color-row-even);\n",
       "  margin-bottom: 0;\n",
       "}\n",
       "\n",
       ".xr-var-item > .xr-var-name:hover span {\n",
       "  padding-right: 5px;\n",
       "}\n",
       "\n",
       ".xr-var-list > li:nth-child(odd) > div,\n",
       ".xr-var-list > li:nth-child(odd) > label,\n",
       ".xr-var-list > li:nth-child(odd) > .xr-var-name span {\n",
       "  background-color: var(--xr-background-color-row-odd);\n",
       "}\n",
       "\n",
       ".xr-var-name {\n",
       "  grid-column: 1;\n",
       "}\n",
       "\n",
       ".xr-var-dims {\n",
       "  grid-column: 2;\n",
       "}\n",
       "\n",
       ".xr-var-dtype {\n",
       "  grid-column: 3;\n",
       "  text-align: right;\n",
       "  color: var(--xr-font-color2);\n",
       "}\n",
       "\n",
       ".xr-var-preview {\n",
       "  grid-column: 4;\n",
       "}\n",
       "\n",
       ".xr-index-preview {\n",
       "  grid-column: 2 / 5;\n",
       "  color: var(--xr-font-color2);\n",
       "}\n",
       "\n",
       ".xr-var-name,\n",
       ".xr-var-dims,\n",
       ".xr-var-dtype,\n",
       ".xr-preview,\n",
       ".xr-attrs dt {\n",
       "  white-space: nowrap;\n",
       "  overflow: hidden;\n",
       "  text-overflow: ellipsis;\n",
       "  padding-right: 10px;\n",
       "}\n",
       "\n",
       ".xr-var-name:hover,\n",
       ".xr-var-dims:hover,\n",
       ".xr-var-dtype:hover,\n",
       ".xr-attrs dt:hover {\n",
       "  overflow: visible;\n",
       "  width: auto;\n",
       "  z-index: 1;\n",
       "}\n",
       "\n",
       ".xr-var-attrs,\n",
       ".xr-var-data,\n",
       ".xr-index-data {\n",
       "  display: none;\n",
       "  background-color: var(--xr-background-color) !important;\n",
       "  padding-bottom: 5px !important;\n",
       "}\n",
       "\n",
       ".xr-var-attrs-in:checked ~ .xr-var-attrs,\n",
       ".xr-var-data-in:checked ~ .xr-var-data,\n",
       ".xr-index-data-in:checked ~ .xr-index-data {\n",
       "  display: block;\n",
       "}\n",
       "\n",
       ".xr-var-data > table {\n",
       "  float: right;\n",
       "}\n",
       "\n",
       ".xr-var-name span,\n",
       ".xr-var-data,\n",
       ".xr-index-name div,\n",
       ".xr-index-data,\n",
       ".xr-attrs {\n",
       "  padding-left: 25px !important;\n",
       "}\n",
       "\n",
       ".xr-attrs,\n",
       ".xr-var-attrs,\n",
       ".xr-var-data,\n",
       ".xr-index-data {\n",
       "  grid-column: 1 / -1;\n",
       "}\n",
       "\n",
       "dl.xr-attrs {\n",
       "  padding: 0;\n",
       "  margin: 0;\n",
       "  display: grid;\n",
       "  grid-template-columns: 125px auto;\n",
       "}\n",
       "\n",
       ".xr-attrs dt,\n",
       ".xr-attrs dd {\n",
       "  padding: 0;\n",
       "  margin: 0;\n",
       "  float: left;\n",
       "  padding-right: 10px;\n",
       "  width: auto;\n",
       "}\n",
       "\n",
       ".xr-attrs dt {\n",
       "  font-weight: normal;\n",
       "  grid-column: 1;\n",
       "}\n",
       "\n",
       ".xr-attrs dt:hover span {\n",
       "  display: inline-block;\n",
       "  background: var(--xr-background-color);\n",
       "  padding-right: 10px;\n",
       "}\n",
       "\n",
       ".xr-attrs dd {\n",
       "  grid-column: 2;\n",
       "  white-space: pre-wrap;\n",
       "  word-break: break-all;\n",
       "}\n",
       "\n",
       ".xr-icon-database,\n",
       ".xr-icon-file-text2,\n",
       ".xr-no-icon {\n",
       "  display: inline-block;\n",
       "  vertical-align: middle;\n",
       "  width: 1em;\n",
       "  height: 1.5em !important;\n",
       "  stroke-width: 0;\n",
       "  stroke: currentColor;\n",
       "  fill: currentColor;\n",
       "}\n",
       "</style><pre class='xr-text-repr-fallback'>&lt;xarray.Dataset&gt; Size: 44kB\n",
       "Dimensions:          (time: 1821, latitude: 1, longitude: 1)\n",
       "Coordinates: (3)\n",
       "Data variables: (2)\n",
       "Attributes: (2)</pre><div class='xr-wrap' style='display:none'><div class='xr-header'><div class='xr-obj-type'>xarray.Dataset</div></div><ul class='xr-sections'><li class='xr-section-item'><input id='section-3b681d3e-3f13-46b8-8493-aed11366807b' class='xr-section-summary-in' type='checkbox' disabled ><label for='section-3b681d3e-3f13-46b8-8493-aed11366807b' class='xr-section-summary'  title='Expand/collapse section'>Dimensions:</label><div class='xr-section-inline-details'><ul class='xr-dim-list'><li><span class='xr-has-index'>time</span>: 1821</li><li><span class='xr-has-index'>latitude</span>: 1</li><li><span class='xr-has-index'>longitude</span>: 1</li></ul></div><div class='xr-section-details'></div></li><li class='xr-section-item'><input id='section-1659bd34-fccc-4358-97b6-a1e027c6168e' class='xr-section-summary-in' type='checkbox'  ><label for='section-1659bd34-fccc-4358-97b6-a1e027c6168e' class='xr-section-summary' >Coordinates: <span>(3)</span></label><div class='xr-section-inline-details'></div><div class='xr-section-details'><ul class='xr-var-list'><li class='xr-var-item'><div class='xr-var-name'><span class='xr-has-index'>latitude</span></div><div class='xr-var-dims'>(latitude)</div><div class='xr-var-dtype'>float64</div><div class='xr-var-preview xr-preview'>22.75</div><input id='attrs-8f7c2223-b8dc-482a-ba9d-8be34e0624c3' class='xr-var-attrs-in' type='checkbox' ><label for='attrs-8f7c2223-b8dc-482a-ba9d-8be34e0624c3' title='Show/Hide attributes'><svg class='icon xr-icon-file-text2'><use xlink:href='#icon-file-text2'></use></svg></label><input id='data-e1b79c33-e8f6-4c23-9b59-ba5f44cab88d' class='xr-var-data-in' type='checkbox'><label for='data-e1b79c33-e8f6-4c23-9b59-ba5f44cab88d' title='Show/Hide data repr'><svg class='icon xr-icon-database'><use xlink:href='#icon-database'></use></svg></label><div class='xr-var-attrs'><dl class='xr-attrs'><dt><span>axis :</span></dt><dd>Y</dd><dt><span>long_name :</span></dt><dd>latitude</dd><dt><span>units :</span></dt><dd>degrees_north</dd></dl></div><div class='xr-var-data'><pre>array([22.75])</pre></div></li><li class='xr-var-item'><div class='xr-var-name'><span class='xr-has-index'>longitude</span></div><div class='xr-var-dims'>(longitude)</div><div class='xr-var-dtype'>int64</div><div class='xr-var-preview xr-preview'>-158</div><input id='attrs-39c93ac6-030b-4fb5-9968-f20510588bf3' class='xr-var-attrs-in' type='checkbox' ><label for='attrs-39c93ac6-030b-4fb5-9968-f20510588bf3' title='Show/Hide attributes'><svg class='icon xr-icon-file-text2'><use xlink:href='#icon-file-text2'></use></svg></label><input id='data-de55925b-9648-4979-a550-60d405e44ace' class='xr-var-data-in' type='checkbox'><label for='data-de55925b-9648-4979-a550-60d405e44ace' title='Show/Hide data repr'><svg class='icon xr-icon-database'><use xlink:href='#icon-database'></use></svg></label><div class='xr-var-attrs'><dl class='xr-attrs'><dt><span>axis :</span></dt><dd>X</dd><dt><span>long_name :</span></dt><dd>longitude</dd><dt><span>units :</span></dt><dd>degrees_east</dd></dl></div><div class='xr-var-data'><pre>array([-158])</pre></div></li><li class='xr-var-item'><div class='xr-var-name'><span class='xr-has-index'>time</span></div><div class='xr-var-dims'>(time)</div><div class='xr-var-dtype'>datetime64[ns]</div><div class='xr-var-preview xr-preview'>2005-01-02 ... 2009-12-27</div><input id='attrs-300fccc2-14db-4e84-a492-af9c08244b6a' class='xr-var-attrs-in' type='checkbox' ><label for='attrs-300fccc2-14db-4e84-a492-af9c08244b6a' title='Show/Hide attributes'><svg class='icon xr-icon-file-text2'><use xlink:href='#icon-file-text2'></use></svg></label><input id='data-5a901e9a-7366-408e-83b6-8326d30ea2a7' class='xr-var-data-in' type='checkbox'><label for='data-5a901e9a-7366-408e-83b6-8326d30ea2a7' title='Show/Hide data repr'><svg class='icon xr-icon-database'><use xlink:href='#icon-database'></use></svg></label><div class='xr-var-attrs'><dl class='xr-attrs'><dt><span>axis :</span></dt><dd>T</dd></dl></div><div class='xr-var-data'><pre>array([&#x27;2005-01-02T00:00:00.000000000&#x27;, &#x27;2005-01-03T00:00:00.000000000&#x27;,\n",
       "       &#x27;2005-01-04T00:00:00.000000000&#x27;, ..., &#x27;2009-12-25T00:00:00.000000000&#x27;,\n",
       "       &#x27;2009-12-26T00:00:00.000000000&#x27;, &#x27;2009-12-27T00:00:00.000000000&#x27;],\n",
       "      dtype=&#x27;datetime64[ns]&#x27;)</pre></div></li></ul></div></li><li class='xr-section-item'><input id='section-159b33a1-6ac8-4c10-9e34-06533b6aca47' class='xr-section-summary-in' type='checkbox'  ><label for='section-159b33a1-6ac8-4c10-9e34-06533b6aca47' class='xr-section-summary' >Data variables: <span>(2)</span></label><div class='xr-section-inline-details'></div><div class='xr-section-details'><ul class='xr-var-list'><li class='xr-var-item'><div class='xr-var-name'><span>l12</span></div><div class='xr-var-dims'>(time, latitude, longitude)</div><div class='xr-var-dtype'>float64</div><div class='xr-var-preview xr-preview'>255.4 255.8 256.2 ... 256.9 257.5</div><input id='attrs-d7e06ec7-57de-4924-9433-251dc12eb24d' class='xr-var-attrs-in' type='checkbox' ><label for='attrs-d7e06ec7-57de-4924-9433-251dc12eb24d' title='Show/Hide attributes'><svg class='icon xr-icon-file-text2'><use xlink:href='#icon-file-text2'></use></svg></label><input id='data-1d578a2e-a32c-4c05-93c1-19888167ad21' class='xr-var-data-in' type='checkbox'><label for='data-1d578a2e-a32c-4c05-93c1-19888167ad21' title='Show/Hide data repr'><svg class='icon xr-icon-database'><use xlink:href='#icon-database'></use></svg></label><div class='xr-var-attrs'><dl class='xr-attrs'><dt><span>desc :</span></dt><dd>L12 multiplied by ZEU (from CMEMS)</dd><dt><span>station :</span></dt><dd>hot</dd><dt><span>type :</span></dt><dd>in situ</dd><dt><span>units :</span></dt><dd>mg m-2 day-1</dd></dl></div><div class='xr-var-data'><pre>array([[[255.35480631]],\n",
       "\n",
       "       [[255.78794669]],\n",
       "\n",
       "       [[256.22108707]],\n",
       "\n",
       "       ...,\n",
       "\n",
       "       [[256.4057946 ]],\n",
       "\n",
       "       [[256.9328992 ]],\n",
       "\n",
       "       [[257.46000379]]])</pre></div></li><li class='xr-var-item'><div class='xr-var-name'><span>l12_lowess_0.05</span></div><div class='xr-var-dims'>(time, latitude, longitude)</div><div class='xr-var-dtype'>float64</div><div class='xr-var-preview xr-preview'>259.5 259.9 260.3 ... 259.0 258.8</div><input id='attrs-e457d36d-b810-455e-99e1-c4263e9bd9cb' class='xr-var-attrs-in' type='checkbox' ><label for='attrs-e457d36d-b810-455e-99e1-c4263e9bd9cb' title='Show/Hide attributes'><svg class='icon xr-icon-file-text2'><use xlink:href='#icon-file-text2'></use></svg></label><input id='data-a263f5a7-c118-4a53-9eea-7425f17408e5' class='xr-var-data-in' type='checkbox'><label for='data-a263f5a7-c118-4a53-9eea-7425f17408e5' title='Show/Hide data repr'><svg class='icon xr-icon-database'><use xlink:href='#icon-database'></use></svg></label><div class='xr-var-attrs'><dl class='xr-attrs'><dt><span>desc :</span></dt><dd>L12 multiplied by ZEU (from CMEMS) smoothed with lowess filter with frac=0.05.</dd></dl></div><div class='xr-var-data'><pre>array([[[259.54858845]],\n",
       "\n",
       "       [[259.90660867]],\n",
       "\n",
       "       [[260.26462889]],\n",
       "\n",
       "       ...,\n",
       "\n",
       "       [[259.19844205]],\n",
       "\n",
       "       [[258.98262586]],\n",
       "\n",
       "       [[258.76680966]]])</pre></div></li></ul></div></li><li class='xr-section-item'><input id='section-c7b33796-09a0-4df0-a810-be75614c1791' class='xr-section-summary-in' type='checkbox'  ><label for='section-c7b33796-09a0-4df0-a810-be75614c1791' class='xr-section-summary' >Indexes: <span>(3)</span></label><div class='xr-section-inline-details'></div><div class='xr-section-details'><ul class='xr-var-list'><li class='xr-var-item'><div class='xr-index-name'><div>latitude</div></div><div class='xr-index-preview'>PandasIndex</div><input type='checkbox' disabled/><label></label><input id='index-c582bec7-7695-4503-8b48-921e545271cd' class='xr-index-data-in' type='checkbox'/><label for='index-c582bec7-7695-4503-8b48-921e545271cd' title='Show/Hide index repr'><svg class='icon xr-icon-database'><use xlink:href='#icon-database'></use></svg></label><div class='xr-index-data'><pre>PandasIndex(Index([22.75], dtype=&#x27;float64&#x27;, name=&#x27;latitude&#x27;))</pre></div></li><li class='xr-var-item'><div class='xr-index-name'><div>longitude</div></div><div class='xr-index-preview'>PandasIndex</div><input type='checkbox' disabled/><label></label><input id='index-307fc2ae-de8a-49ae-8408-372853172198' class='xr-index-data-in' type='checkbox'/><label for='index-307fc2ae-de8a-49ae-8408-372853172198' title='Show/Hide index repr'><svg class='icon xr-icon-database'><use xlink:href='#icon-database'></use></svg></label><div class='xr-index-data'><pre>PandasIndex(Index([-158], dtype=&#x27;int64&#x27;, name=&#x27;longitude&#x27;))</pre></div></li><li class='xr-var-item'><div class='xr-index-name'><div>time</div></div><div class='xr-index-preview'>PandasIndex</div><input type='checkbox' disabled/><label></label><input id='index-d4f8cdcb-4827-4866-aa15-630ecfe8c88b' class='xr-index-data-in' type='checkbox'/><label for='index-d4f8cdcb-4827-4866-aa15-630ecfe8c88b' title='Show/Hide index repr'><svg class='icon xr-icon-database'><use xlink:href='#icon-database'></use></svg></label><div class='xr-index-data'><pre>PandasIndex(DatetimeIndex([&#x27;2005-01-02&#x27;, &#x27;2005-01-03&#x27;, &#x27;2005-01-04&#x27;, &#x27;2005-01-05&#x27;,\n",
       "               &#x27;2005-01-06&#x27;, &#x27;2005-01-07&#x27;, &#x27;2005-01-08&#x27;, &#x27;2005-01-09&#x27;,\n",
       "               &#x27;2005-01-10&#x27;, &#x27;2005-01-11&#x27;,\n",
       "               ...\n",
       "               &#x27;2009-12-18&#x27;, &#x27;2009-12-19&#x27;, &#x27;2009-12-20&#x27;, &#x27;2009-12-21&#x27;,\n",
       "               &#x27;2009-12-22&#x27;, &#x27;2009-12-23&#x27;, &#x27;2009-12-24&#x27;, &#x27;2009-12-25&#x27;,\n",
       "               &#x27;2009-12-26&#x27;, &#x27;2009-12-27&#x27;],\n",
       "              dtype=&#x27;datetime64[ns]&#x27;, name=&#x27;time&#x27;, length=1821, freq=None))</pre></div></li></ul></div></li><li class='xr-section-item'><input id='section-0178f316-ea41-4163-a1db-ee67c3e55d8c' class='xr-section-summary-in' type='checkbox'  ><label for='section-0178f316-ea41-4163-a1db-ee67c3e55d8c' class='xr-section-summary' >Attributes: <span>(2)</span></label><div class='xr-section-inline-details'></div><div class='xr-section-details'><dl class='xr-attrs'><dt><span>desc :</span></dt><dd>L12 multiplied by ZEU (from CMEMS).</dd><dt><span>type :</span></dt><dd>climatology</dd></dl></div></li></ul></div></div>"
      ],
      "text/plain": [
       "<xarray.Dataset> Size: 44kB\n",
       "Dimensions:          (time: 1821, latitude: 1, longitude: 1)\n",
       "Coordinates: (3)\n",
       "Data variables: (2)\n",
       "Attributes: (2)"
      ]
     },
     "execution_count": 26,
     "metadata": {},
     "output_type": "execute_result"
    }
   ],
   "source": [
    "observed_npp = xr.open_zarr(path_to_npp)\n",
    "observed_npp = observed_npp.sel(time=slice(TIME_START, TIME_END))\n",
    "observed_npp = observed_npp.dropna(\"time\", how=\"all\")\n",
    "observed_npp = observed_npp.resample(time=\"D\").interpolate(\"linear\")\n",
    "observed_npp.load()"
   ]
  },
  {
   "cell_type": "markdown",
   "metadata": {},
   "source": [
    "### Observations\n"
   ]
  },
  {
   "cell_type": "code",
   "execution_count": 27,
   "metadata": {},
   "outputs": [
    {
     "data": {
      "text/html": [
       "<div><svg style=\"position: absolute; width: 0; height: 0; overflow: hidden\">\n",
       "<defs>\n",
       "<symbol id=\"icon-database\" viewBox=\"0 0 32 32\">\n",
       "<path d=\"M16 0c-8.837 0-16 2.239-16 5v4c0 2.761 7.163 5 16 5s16-2.239 16-5v-4c0-2.761-7.163-5-16-5z\"></path>\n",
       "<path d=\"M16 17c-8.837 0-16-2.239-16-5v6c0 2.761 7.163 5 16 5s16-2.239 16-5v-6c0 2.761-7.163 5-16 5z\"></path>\n",
       "<path d=\"M16 26c-8.837 0-16-2.239-16-5v6c0 2.761 7.163 5 16 5s16-2.239 16-5v-6c0 2.761-7.163 5-16 5z\"></path>\n",
       "</symbol>\n",
       "<symbol id=\"icon-file-text2\" viewBox=\"0 0 32 32\">\n",
       "<path d=\"M28.681 7.159c-0.694-0.947-1.662-2.053-2.724-3.116s-2.169-2.030-3.116-2.724c-1.612-1.182-2.393-1.319-2.841-1.319h-15.5c-1.378 0-2.5 1.121-2.5 2.5v27c0 1.378 1.122 2.5 2.5 2.5h23c1.378 0 2.5-1.122 2.5-2.5v-19.5c0-0.448-0.137-1.23-1.319-2.841zM24.543 5.457c0.959 0.959 1.712 1.825 2.268 2.543h-4.811v-4.811c0.718 0.556 1.584 1.309 2.543 2.268zM28 29.5c0 0.271-0.229 0.5-0.5 0.5h-23c-0.271 0-0.5-0.229-0.5-0.5v-27c0-0.271 0.229-0.5 0.5-0.5 0 0 15.499-0 15.5 0v7c0 0.552 0.448 1 1 1h7v19.5z\"></path>\n",
       "<path d=\"M23 26h-14c-0.552 0-1-0.448-1-1s0.448-1 1-1h14c0.552 0 1 0.448 1 1s-0.448 1-1 1z\"></path>\n",
       "<path d=\"M23 22h-14c-0.552 0-1-0.448-1-1s0.448-1 1-1h14c0.552 0 1 0.448 1 1s-0.448 1-1 1z\"></path>\n",
       "<path d=\"M23 18h-14c-0.552 0-1-0.448-1-1s0.448-1 1-1h14c0.552 0 1 0.448 1 1s-0.448 1-1 1z\"></path>\n",
       "</symbol>\n",
       "</defs>\n",
       "</svg>\n",
       "<style>/* CSS stylesheet for displaying xarray objects in jupyterlab.\n",
       " *\n",
       " */\n",
       "\n",
       ":root {\n",
       "  --xr-font-color0: var(--jp-content-font-color0, rgba(0, 0, 0, 1));\n",
       "  --xr-font-color2: var(--jp-content-font-color2, rgba(0, 0, 0, 0.54));\n",
       "  --xr-font-color3: var(--jp-content-font-color3, rgba(0, 0, 0, 0.38));\n",
       "  --xr-border-color: var(--jp-border-color2, #e0e0e0);\n",
       "  --xr-disabled-color: var(--jp-layout-color3, #bdbdbd);\n",
       "  --xr-background-color: var(--jp-layout-color0, white);\n",
       "  --xr-background-color-row-even: var(--jp-layout-color1, white);\n",
       "  --xr-background-color-row-odd: var(--jp-layout-color2, #eeeeee);\n",
       "}\n",
       "\n",
       "html[theme=\"dark\"],\n",
       "html[data-theme=\"dark\"],\n",
       "body[data-theme=\"dark\"],\n",
       "body.vscode-dark {\n",
       "  --xr-font-color0: rgba(255, 255, 255, 1);\n",
       "  --xr-font-color2: rgba(255, 255, 255, 0.54);\n",
       "  --xr-font-color3: rgba(255, 255, 255, 0.38);\n",
       "  --xr-border-color: #1f1f1f;\n",
       "  --xr-disabled-color: #515151;\n",
       "  --xr-background-color: #111111;\n",
       "  --xr-background-color-row-even: #111111;\n",
       "  --xr-background-color-row-odd: #313131;\n",
       "}\n",
       "\n",
       ".xr-wrap {\n",
       "  display: block !important;\n",
       "  min-width: 300px;\n",
       "  max-width: 700px;\n",
       "}\n",
       "\n",
       ".xr-text-repr-fallback {\n",
       "  /* fallback to plain text repr when CSS is not injected (untrusted notebook) */\n",
       "  display: none;\n",
       "}\n",
       "\n",
       ".xr-header {\n",
       "  padding-top: 6px;\n",
       "  padding-bottom: 6px;\n",
       "  margin-bottom: 4px;\n",
       "  border-bottom: solid 1px var(--xr-border-color);\n",
       "}\n",
       "\n",
       ".xr-header > div,\n",
       ".xr-header > ul {\n",
       "  display: inline;\n",
       "  margin-top: 0;\n",
       "  margin-bottom: 0;\n",
       "}\n",
       "\n",
       ".xr-obj-type,\n",
       ".xr-array-name {\n",
       "  margin-left: 2px;\n",
       "  margin-right: 10px;\n",
       "}\n",
       "\n",
       ".xr-obj-type {\n",
       "  color: var(--xr-font-color2);\n",
       "}\n",
       "\n",
       ".xr-sections {\n",
       "  padding-left: 0 !important;\n",
       "  display: grid;\n",
       "  grid-template-columns: 150px auto auto 1fr 0 20px 0 20px;\n",
       "}\n",
       "\n",
       ".xr-section-item {\n",
       "  display: contents;\n",
       "}\n",
       "\n",
       ".xr-section-item input {\n",
       "  display: inline-block;\n",
       "  opacity: 0;\n",
       "  height: 0;\n",
       "}\n",
       "\n",
       ".xr-section-item input + label {\n",
       "  color: var(--xr-disabled-color);\n",
       "}\n",
       "\n",
       ".xr-section-item input:enabled + label {\n",
       "  cursor: pointer;\n",
       "  color: var(--xr-font-color2);\n",
       "}\n",
       "\n",
       ".xr-section-item input:focus + label {\n",
       "  border: 2px solid var(--xr-font-color0);\n",
       "}\n",
       "\n",
       ".xr-section-item input:enabled + label:hover {\n",
       "  color: var(--xr-font-color0);\n",
       "}\n",
       "\n",
       ".xr-section-summary {\n",
       "  grid-column: 1;\n",
       "  color: var(--xr-font-color2);\n",
       "  font-weight: 500;\n",
       "}\n",
       "\n",
       ".xr-section-summary > span {\n",
       "  display: inline-block;\n",
       "  padding-left: 0.5em;\n",
       "}\n",
       "\n",
       ".xr-section-summary-in:disabled + label {\n",
       "  color: var(--xr-font-color2);\n",
       "}\n",
       "\n",
       ".xr-section-summary-in + label:before {\n",
       "  display: inline-block;\n",
       "  content: \"►\";\n",
       "  font-size: 11px;\n",
       "  width: 15px;\n",
       "  text-align: center;\n",
       "}\n",
       "\n",
       ".xr-section-summary-in:disabled + label:before {\n",
       "  color: var(--xr-disabled-color);\n",
       "}\n",
       "\n",
       ".xr-section-summary-in:checked + label:before {\n",
       "  content: \"▼\";\n",
       "}\n",
       "\n",
       ".xr-section-summary-in:checked + label > span {\n",
       "  display: none;\n",
       "}\n",
       "\n",
       ".xr-section-summary,\n",
       ".xr-section-inline-details {\n",
       "  padding-top: 4px;\n",
       "  padding-bottom: 4px;\n",
       "}\n",
       "\n",
       ".xr-section-inline-details {\n",
       "  grid-column: 2 / -1;\n",
       "}\n",
       "\n",
       ".xr-section-details {\n",
       "  display: none;\n",
       "  grid-column: 1 / -1;\n",
       "  margin-bottom: 5px;\n",
       "}\n",
       "\n",
       ".xr-section-summary-in:checked ~ .xr-section-details {\n",
       "  display: contents;\n",
       "}\n",
       "\n",
       ".xr-array-wrap {\n",
       "  grid-column: 1 / -1;\n",
       "  display: grid;\n",
       "  grid-template-columns: 20px auto;\n",
       "}\n",
       "\n",
       ".xr-array-wrap > label {\n",
       "  grid-column: 1;\n",
       "  vertical-align: top;\n",
       "}\n",
       "\n",
       ".xr-preview {\n",
       "  color: var(--xr-font-color3);\n",
       "}\n",
       "\n",
       ".xr-array-preview,\n",
       ".xr-array-data {\n",
       "  padding: 0 5px !important;\n",
       "  grid-column: 2;\n",
       "}\n",
       "\n",
       ".xr-array-data,\n",
       ".xr-array-in:checked ~ .xr-array-preview {\n",
       "  display: none;\n",
       "}\n",
       "\n",
       ".xr-array-in:checked ~ .xr-array-data,\n",
       ".xr-array-preview {\n",
       "  display: inline-block;\n",
       "}\n",
       "\n",
       ".xr-dim-list {\n",
       "  display: inline-block !important;\n",
       "  list-style: none;\n",
       "  padding: 0 !important;\n",
       "  margin: 0;\n",
       "}\n",
       "\n",
       ".xr-dim-list li {\n",
       "  display: inline-block;\n",
       "  padding: 0;\n",
       "  margin: 0;\n",
       "}\n",
       "\n",
       ".xr-dim-list:before {\n",
       "  content: \"(\";\n",
       "}\n",
       "\n",
       ".xr-dim-list:after {\n",
       "  content: \")\";\n",
       "}\n",
       "\n",
       ".xr-dim-list li:not(:last-child):after {\n",
       "  content: \",\";\n",
       "  padding-right: 5px;\n",
       "}\n",
       "\n",
       ".xr-has-index {\n",
       "  font-weight: bold;\n",
       "}\n",
       "\n",
       ".xr-var-list,\n",
       ".xr-var-item {\n",
       "  display: contents;\n",
       "}\n",
       "\n",
       ".xr-var-item > div,\n",
       ".xr-var-item label,\n",
       ".xr-var-item > .xr-var-name span {\n",
       "  background-color: var(--xr-background-color-row-even);\n",
       "  margin-bottom: 0;\n",
       "}\n",
       "\n",
       ".xr-var-item > .xr-var-name:hover span {\n",
       "  padding-right: 5px;\n",
       "}\n",
       "\n",
       ".xr-var-list > li:nth-child(odd) > div,\n",
       ".xr-var-list > li:nth-child(odd) > label,\n",
       ".xr-var-list > li:nth-child(odd) > .xr-var-name span {\n",
       "  background-color: var(--xr-background-color-row-odd);\n",
       "}\n",
       "\n",
       ".xr-var-name {\n",
       "  grid-column: 1;\n",
       "}\n",
       "\n",
       ".xr-var-dims {\n",
       "  grid-column: 2;\n",
       "}\n",
       "\n",
       ".xr-var-dtype {\n",
       "  grid-column: 3;\n",
       "  text-align: right;\n",
       "  color: var(--xr-font-color2);\n",
       "}\n",
       "\n",
       ".xr-var-preview {\n",
       "  grid-column: 4;\n",
       "}\n",
       "\n",
       ".xr-index-preview {\n",
       "  grid-column: 2 / 5;\n",
       "  color: var(--xr-font-color2);\n",
       "}\n",
       "\n",
       ".xr-var-name,\n",
       ".xr-var-dims,\n",
       ".xr-var-dtype,\n",
       ".xr-preview,\n",
       ".xr-attrs dt {\n",
       "  white-space: nowrap;\n",
       "  overflow: hidden;\n",
       "  text-overflow: ellipsis;\n",
       "  padding-right: 10px;\n",
       "}\n",
       "\n",
       ".xr-var-name:hover,\n",
       ".xr-var-dims:hover,\n",
       ".xr-var-dtype:hover,\n",
       ".xr-attrs dt:hover {\n",
       "  overflow: visible;\n",
       "  width: auto;\n",
       "  z-index: 1;\n",
       "}\n",
       "\n",
       ".xr-var-attrs,\n",
       ".xr-var-data,\n",
       ".xr-index-data {\n",
       "  display: none;\n",
       "  background-color: var(--xr-background-color) !important;\n",
       "  padding-bottom: 5px !important;\n",
       "}\n",
       "\n",
       ".xr-var-attrs-in:checked ~ .xr-var-attrs,\n",
       ".xr-var-data-in:checked ~ .xr-var-data,\n",
       ".xr-index-data-in:checked ~ .xr-index-data {\n",
       "  display: block;\n",
       "}\n",
       "\n",
       ".xr-var-data > table {\n",
       "  float: right;\n",
       "}\n",
       "\n",
       ".xr-var-name span,\n",
       ".xr-var-data,\n",
       ".xr-index-name div,\n",
       ".xr-index-data,\n",
       ".xr-attrs {\n",
       "  padding-left: 25px !important;\n",
       "}\n",
       "\n",
       ".xr-attrs,\n",
       ".xr-var-attrs,\n",
       ".xr-var-data,\n",
       ".xr-index-data {\n",
       "  grid-column: 1 / -1;\n",
       "}\n",
       "\n",
       "dl.xr-attrs {\n",
       "  padding: 0;\n",
       "  margin: 0;\n",
       "  display: grid;\n",
       "  grid-template-columns: 125px auto;\n",
       "}\n",
       "\n",
       ".xr-attrs dt,\n",
       ".xr-attrs dd {\n",
       "  padding: 0;\n",
       "  margin: 0;\n",
       "  float: left;\n",
       "  padding-right: 10px;\n",
       "  width: auto;\n",
       "}\n",
       "\n",
       ".xr-attrs dt {\n",
       "  font-weight: normal;\n",
       "  grid-column: 1;\n",
       "}\n",
       "\n",
       ".xr-attrs dt:hover span {\n",
       "  display: inline-block;\n",
       "  background: var(--xr-background-color);\n",
       "  padding-right: 10px;\n",
       "}\n",
       "\n",
       ".xr-attrs dd {\n",
       "  grid-column: 2;\n",
       "  white-space: pre-wrap;\n",
       "  word-break: break-all;\n",
       "}\n",
       "\n",
       ".xr-icon-database,\n",
       ".xr-icon-file-text2,\n",
       ".xr-no-icon {\n",
       "  display: inline-block;\n",
       "  vertical-align: middle;\n",
       "  width: 1em;\n",
       "  height: 1.5em !important;\n",
       "  stroke-width: 0;\n",
       "  stroke: currentColor;\n",
       "  fill: currentColor;\n",
       "}\n",
       "</style><pre class='xr-text-repr-fallback'>&lt;xarray.Dataset&gt; Size: 2kB\n",
       "Dimensions:            (layer: 1, time: 59, latitude: 1, longitude: 1)\n",
       "Coordinates: (4)\n",
       "Data variables: (4)</pre><div class='xr-wrap' style='display:none'><div class='xr-header'><div class='xr-obj-type'>xarray.Dataset</div></div><ul class='xr-sections'><li class='xr-section-item'><input id='section-63181bc8-0f74-47c4-959f-cb045a54d0e1' class='xr-section-summary-in' type='checkbox' disabled ><label for='section-63181bc8-0f74-47c4-959f-cb045a54d0e1' class='xr-section-summary'  title='Expand/collapse section'>Dimensions:</label><div class='xr-section-inline-details'><ul class='xr-dim-list'><li><span class='xr-has-index'>layer</span>: 1</li><li><span class='xr-has-index'>time</span>: 59</li><li><span class='xr-has-index'>latitude</span>: 1</li><li><span class='xr-has-index'>longitude</span>: 1</li></ul></div><div class='xr-section-details'></div></li><li class='xr-section-item'><input id='section-e32e717b-2223-497f-a806-14f71fd1459a' class='xr-section-summary-in' type='checkbox'  ><label for='section-e32e717b-2223-497f-a806-14f71fd1459a' class='xr-section-summary' >Coordinates: <span>(4)</span></label><div class='xr-section-inline-details'></div><div class='xr-section-details'><ul class='xr-var-list'><li class='xr-var-item'><div class='xr-var-name'><span class='xr-has-index'>layer</span></div><div class='xr-var-dims'>(layer)</div><div class='xr-var-dtype'>int64</div><div class='xr-var-preview xr-preview'>0</div><input id='attrs-b5e8831e-4e05-4945-a48b-aa81014d0753' class='xr-var-attrs-in' type='checkbox' ><label for='attrs-b5e8831e-4e05-4945-a48b-aa81014d0753' title='Show/Hide attributes'><svg class='icon xr-icon-file-text2'><use xlink:href='#icon-file-text2'></use></svg></label><input id='data-f9abf533-81ad-44d7-b3f3-b84f0d4dfc7e' class='xr-var-data-in' type='checkbox'><label for='data-f9abf533-81ad-44d7-b3f3-b84f0d4dfc7e' title='Show/Hide data repr'><svg class='icon xr-icon-database'><use xlink:href='#icon-database'></use></svg></label><div class='xr-var-attrs'><dl class='xr-attrs'><dt><span>axis :</span></dt><dd>Z</dd><dt><span>desc :</span></dt><dd>The layer depth according to Seapodym definition</dd><dt><span>flag_meanings :</span></dt><dd>epipelagic, upper-mesopelagic, lower-mesopelagic</dd><dt><span>flag_values :</span></dt><dd>[0, 1, 2]</dd><dt><span>long_name :</span></dt><dd>Layer depth</dd><dt><span>standard_name :</span></dt><dd>layer</dd></dl></div><div class='xr-var-data'><pre>array([0])</pre></div></li><li class='xr-var-item'><div class='xr-var-name'><span class='xr-has-index'>time</span></div><div class='xr-var-dims'>(time)</div><div class='xr-var-dtype'>datetime64[ns]</div><div class='xr-var-preview xr-preview'>2005-01-31 ... 2009-11-30</div><input id='attrs-13a71505-f211-4bfe-8062-c83779512798' class='xr-var-attrs-in' type='checkbox' ><label for='attrs-13a71505-f211-4bfe-8062-c83779512798' title='Show/Hide attributes'><svg class='icon xr-icon-file-text2'><use xlink:href='#icon-file-text2'></use></svg></label><input id='data-00d78527-05b9-40b0-9050-1160b14f74a2' class='xr-var-data-in' type='checkbox'><label for='data-00d78527-05b9-40b0-9050-1160b14f74a2' title='Show/Hide data repr'><svg class='icon xr-icon-database'><use xlink:href='#icon-database'></use></svg></label><div class='xr-var-attrs'><dl class='xr-attrs'><dt><span>axis :</span></dt><dd>T</dd><dt><span>long_name :</span></dt><dd>time</dd><dt><span>standard_name :</span></dt><dd>time</dd></dl></div><div class='xr-var-data'><pre>array([&#x27;2005-01-31T00:00:00.000000000&#x27;, &#x27;2005-02-28T00:00:00.000000000&#x27;,\n",
       "       &#x27;2005-03-31T00:00:00.000000000&#x27;, &#x27;2005-04-30T00:00:00.000000000&#x27;,\n",
       "       &#x27;2005-05-31T00:00:00.000000000&#x27;, &#x27;2005-06-30T00:00:00.000000000&#x27;,\n",
       "       &#x27;2005-07-31T00:00:00.000000000&#x27;, &#x27;2005-08-31T00:00:00.000000000&#x27;,\n",
       "       &#x27;2005-09-30T00:00:00.000000000&#x27;, &#x27;2005-10-31T00:00:00.000000000&#x27;,\n",
       "       &#x27;2005-11-30T00:00:00.000000000&#x27;, &#x27;2005-12-31T00:00:00.000000000&#x27;,\n",
       "       &#x27;2006-01-31T00:00:00.000000000&#x27;, &#x27;2006-02-28T00:00:00.000000000&#x27;,\n",
       "       &#x27;2006-03-31T00:00:00.000000000&#x27;, &#x27;2006-04-30T00:00:00.000000000&#x27;,\n",
       "       &#x27;2006-05-31T00:00:00.000000000&#x27;, &#x27;2006-06-30T00:00:00.000000000&#x27;,\n",
       "       &#x27;2006-07-31T00:00:00.000000000&#x27;, &#x27;2006-08-31T00:00:00.000000000&#x27;,\n",
       "       &#x27;2006-09-30T00:00:00.000000000&#x27;, &#x27;2006-10-31T00:00:00.000000000&#x27;,\n",
       "       &#x27;2006-11-30T00:00:00.000000000&#x27;, &#x27;2006-12-31T00:00:00.000000000&#x27;,\n",
       "       &#x27;2007-01-31T00:00:00.000000000&#x27;, &#x27;2007-02-28T00:00:00.000000000&#x27;,\n",
       "       &#x27;2007-03-31T00:00:00.000000000&#x27;, &#x27;2007-04-30T00:00:00.000000000&#x27;,\n",
       "       &#x27;2007-05-31T00:00:00.000000000&#x27;, &#x27;2007-06-30T00:00:00.000000000&#x27;,\n",
       "       &#x27;2007-07-31T00:00:00.000000000&#x27;, &#x27;2007-08-31T00:00:00.000000000&#x27;,\n",
       "       &#x27;2007-09-30T00:00:00.000000000&#x27;, &#x27;2007-10-31T00:00:00.000000000&#x27;,\n",
       "       &#x27;2007-11-30T00:00:00.000000000&#x27;, &#x27;2007-12-31T00:00:00.000000000&#x27;,\n",
       "       &#x27;2008-01-31T00:00:00.000000000&#x27;, &#x27;2008-02-29T00:00:00.000000000&#x27;,\n",
       "       &#x27;2008-03-31T00:00:00.000000000&#x27;, &#x27;2008-04-30T00:00:00.000000000&#x27;,\n",
       "       &#x27;2008-05-31T00:00:00.000000000&#x27;, &#x27;2008-06-30T00:00:00.000000000&#x27;,\n",
       "       &#x27;2008-07-31T00:00:00.000000000&#x27;, &#x27;2008-08-31T00:00:00.000000000&#x27;,\n",
       "       &#x27;2008-09-30T00:00:00.000000000&#x27;, &#x27;2008-10-31T00:00:00.000000000&#x27;,\n",
       "       &#x27;2008-11-30T00:00:00.000000000&#x27;, &#x27;2008-12-31T00:00:00.000000000&#x27;,\n",
       "       &#x27;2009-01-31T00:00:00.000000000&#x27;, &#x27;2009-02-28T00:00:00.000000000&#x27;,\n",
       "       &#x27;2009-03-31T00:00:00.000000000&#x27;, &#x27;2009-04-30T00:00:00.000000000&#x27;,\n",
       "       &#x27;2009-05-31T00:00:00.000000000&#x27;, &#x27;2009-06-30T00:00:00.000000000&#x27;,\n",
       "       &#x27;2009-07-31T00:00:00.000000000&#x27;, &#x27;2009-08-31T00:00:00.000000000&#x27;,\n",
       "       &#x27;2009-09-30T00:00:00.000000000&#x27;, &#x27;2009-10-31T00:00:00.000000000&#x27;,\n",
       "       &#x27;2009-11-30T00:00:00.000000000&#x27;], dtype=&#x27;datetime64[ns]&#x27;)</pre></div></li><li class='xr-var-item'><div class='xr-var-name'><span class='xr-has-index'>latitude</span></div><div class='xr-var-dims'>(latitude)</div><div class='xr-var-dtype'>float64</div><div class='xr-var-preview xr-preview'>22.75</div><input id='attrs-f50e3e22-74f3-4543-8151-93cfb9fbc5bc' class='xr-var-attrs-in' type='checkbox' ><label for='attrs-f50e3e22-74f3-4543-8151-93cfb9fbc5bc' title='Show/Hide attributes'><svg class='icon xr-icon-file-text2'><use xlink:href='#icon-file-text2'></use></svg></label><input id='data-018d9e4e-e678-4e3a-927f-041c7994a7cc' class='xr-var-data-in' type='checkbox'><label for='data-018d9e4e-e678-4e3a-927f-041c7994a7cc' title='Show/Hide data repr'><svg class='icon xr-icon-database'><use xlink:href='#icon-database'></use></svg></label><div class='xr-var-attrs'><dl class='xr-attrs'><dt><span>axis :</span></dt><dd>Y</dd><dt><span>standard_name :</span></dt><dd>latitude</dd><dt><span>units :</span></dt><dd>degrees_north</dd></dl></div><div class='xr-var-data'><pre>array([22.75])</pre></div></li><li class='xr-var-item'><div class='xr-var-name'><span class='xr-has-index'>longitude</span></div><div class='xr-var-dims'>(longitude)</div><div class='xr-var-dtype'>int64</div><div class='xr-var-preview xr-preview'>-158</div><input id='attrs-8f460581-d9e2-4d16-80c5-86471d1616c4' class='xr-var-attrs-in' type='checkbox' ><label for='attrs-8f460581-d9e2-4d16-80c5-86471d1616c4' title='Show/Hide attributes'><svg class='icon xr-icon-file-text2'><use xlink:href='#icon-file-text2'></use></svg></label><input id='data-3f29e29b-4066-4166-adfc-3718657d11b2' class='xr-var-data-in' type='checkbox'><label for='data-3f29e29b-4066-4166-adfc-3718657d11b2' title='Show/Hide data repr'><svg class='icon xr-icon-database'><use xlink:href='#icon-database'></use></svg></label><div class='xr-var-attrs'><dl class='xr-attrs'><dt><span>axis :</span></dt><dd>X</dd><dt><span>standard_name :</span></dt><dd>longitude</dd><dt><span>units :</span></dt><dd>degrees_east</dd></dl></div><div class='xr-var-data'><pre>array([-158])</pre></div></li></ul></div></li><li class='xr-section-item'><input id='section-12e90c25-0710-4847-aca3-65dd06f9127d' class='xr-section-summary-in' type='checkbox'  ><label for='section-12e90c25-0710-4847-aca3-65dd06f9127d' class='xr-section-summary' >Data variables: <span>(4)</span></label><div class='xr-section-inline-details'></div><div class='xr-section-details'><ul class='xr-var-list'><li class='xr-var-item'><div class='xr-var-name'><span>day</span></div><div class='xr-var-dims'>(time, layer, latitude, longitude)</div><div class='xr-var-dtype'>float64</div><div class='xr-var-preview xr-preview'>[mg/m²] 161.2 180.1 ... 248.0 199.5</div><input id='attrs-4a937905-4858-4fdd-908a-493c6b01fa08' class='xr-var-attrs-in' type='checkbox' disabled><label for='attrs-4a937905-4858-4fdd-908a-493c6b01fa08' title='Show/Hide attributes'><svg class='icon xr-icon-file-text2'><use xlink:href='#icon-file-text2'></use></svg></label><input id='data-2fd6d9c8-7f15-4322-ae94-9f2bbde36f41' class='xr-var-data-in' type='checkbox'><label for='data-2fd6d9c8-7f15-4322-ae94-9f2bbde36f41' title='Show/Hide data repr'><svg class='icon xr-icon-database'><use xlink:href='#icon-database'></use></svg></label><div class='xr-var-attrs'><dl class='xr-attrs'></dl></div><div class='xr-var-data'><table><tbody><tr><th>Magnitude</th><td style='text-align:left;'><pre>[[[[161.18085076616643]]]<br><br><br> [[[180.11886858075593]]]<br><br><br> [[[206.9568833881889]]]<br><br><br> [[[257.0734350236469]]]<br><br><br> [[[275.23242516474]]]<br><br><br> [[[282.22919058899055]]]<br><br><br> [[[286.98619921530604]]]<br><br><br> [[[311.5459297539875]]]<br><br><br> [[[303.8242714951801]]]<br><br><br> [[[248.03965495807626]]]<br><br><br> [[[199.45355494862133]]]<br><br><br> [[[173.55167845591396]]]<br><br><br> [[[161.18085076616643]]]<br><br><br> [[[180.11886858075593]]]<br><br><br> [[[206.9568833881889]]]<br><br><br> [[[257.0734350236469]]]<br><br><br> [[[275.23242516474]]]<br><br><br> [[[282.22919058899055]]]<br><br><br> [[[286.98619921530604]]]<br><br><br> [[[311.5459297539875]]]<br><br><br> [[[303.8242714951801]]]<br><br><br> [[[248.03965495807626]]]<br><br><br> [[[199.45355494862133]]]<br><br><br> [[[173.55167845591396]]]<br><br><br> [[[161.18085076616643]]]<br><br><br> [[[180.11886858075593]]]<br><br><br> [[[206.9568833881889]]]<br><br><br> [[[257.0734350236469]]]<br><br><br> [[[275.23242516474]]]<br><br><br> [[[282.22919058899055]]]<br><br><br> [[[286.98619921530604]]]<br><br><br> [[[311.5459297539875]]]<br><br><br> [[[303.8242714951801]]]<br><br><br> [[[248.03965495807626]]]<br><br><br> [[[199.45355494862133]]]<br><br><br> [[[173.55167845591396]]]<br><br><br> [[[161.18085076616643]]]<br><br><br> [[[179.1993152851171]]]<br><br><br> [[[207.78348092804256]]]<br><br><br> [[[256.97140808136334]]]<br><br><br> [[[276.73713373591653]]]<br><br><br> [[[286.8754053335449]]]<br><br><br> [[[289.4875232614997]]]<br><br><br> [[[315.3292764814672]]]<br><br><br> [[[297.1327451472592]]]<br><br><br> [[[252.05575513504192]]]<br><br><br> [[[201.0579558457]]]<br><br><br> [[[167.88955162294909]]]<br><br><br> [[[161.18085076616643]]]<br><br><br> [[[180.11886858075593]]]<br><br><br> [[[206.9568833881889]]]<br><br><br> [[[257.0734350236469]]]<br><br><br> [[[275.23242516474]]]<br><br><br> [[[282.22919058899055]]]<br><br><br> [[[286.98619921530604]]]<br><br><br> [[[311.5459297539875]]]<br><br><br> [[[303.8242714951801]]]<br><br><br> [[[248.03965495807626]]]<br><br><br> [[[199.45355494862133]]]]</pre></td></tr><tr><th>Units</th><td style='text-align:left;'>milligram/meter<sup>2</sup></td></tr></tbody></table></div></li><li class='xr-var-item'><div class='xr-var-name'><span>day_lowess_0.15</span></div><div class='xr-var-dims'>(time, layer, latitude, longitude)</div><div class='xr-var-dtype'>float64</div><div class='xr-var-preview xr-preview'>[mg/m²] 169.0 184.2 ... 246.8 204.2</div><input id='attrs-c3fb3d18-3c35-4c79-b1dc-4a62ce603d20' class='xr-var-attrs-in' type='checkbox' disabled><label for='attrs-c3fb3d18-3c35-4c79-b1dc-4a62ce603d20' title='Show/Hide attributes'><svg class='icon xr-icon-file-text2'><use xlink:href='#icon-file-text2'></use></svg></label><input id='data-2c041ca0-9ec1-41d9-ad1b-dfc0cd89dd0c' class='xr-var-data-in' type='checkbox'><label for='data-2c041ca0-9ec1-41d9-ad1b-dfc0cd89dd0c' title='Show/Hide data repr'><svg class='icon xr-icon-database'><use xlink:href='#icon-database'></use></svg></label><div class='xr-var-attrs'><dl class='xr-attrs'></dl></div><div class='xr-var-data'><table><tbody><tr><th>Magnitude</th><td style='text-align:left;'><pre>[[[[169.028807463174]]]<br><br><br> [[[184.16566200957695]]]<br><br><br> [[[208.84032451359002]]]<br><br><br> [[[249.77746034277746]]]<br><br><br> [[[274.8246466780064]]]<br><br><br> [[[283.74409762470765]]]<br><br><br> [[[288.36278273935625]]]<br><br><br> [[[306.0065955062098]]]<br><br><br> [[[291.278907182586]]]<br><br><br> [[[246.83881007292297]]]<br><br><br> [[[204.1907428435882]]]<br><br><br> [[[175.24749384551424]]]<br><br><br> [[[169.028807463174]]]<br><br><br> [[[184.16566200957695]]]<br><br><br> [[[208.84032451359002]]]<br><br><br> [[[249.77746034277746]]]<br><br><br> [[[274.8246466780064]]]<br><br><br> [[[283.74409762470765]]]<br><br><br> [[[288.36278273935625]]]<br><br><br> [[[306.0065955062098]]]<br><br><br> [[[291.278907182586]]]<br><br><br> [[[246.83881007292297]]]<br><br><br> [[[204.1907428435882]]]<br><br><br> [[[175.24749384551424]]]<br><br><br> [[[169.028807463174]]]<br><br><br> [[[184.16566200957695]]]<br><br><br> [[[208.84032451359002]]]<br><br><br> [[[249.77746034277746]]]<br><br><br> [[[274.8246466780064]]]<br><br><br> [[[283.74409762470765]]]<br><br><br> [[[288.36278273935625]]]<br><br><br> [[[306.0065955062098]]]<br><br><br> [[[291.278907182586]]]<br><br><br> [[[246.83881007292297]]]<br><br><br> [[[204.1907428435882]]]<br><br><br> [[[175.24749384551424]]]<br><br><br> [[[169.028807463174]]]<br><br><br> [[[183.22544878939186]]]<br><br><br> [[[209.67444462420926]]]<br><br><br> [[[249.67832901663408]]]<br><br><br> [[[276.32712590507947]]]<br><br><br> [[[288.4152516159477]]]<br><br><br> [[[290.87610485890576]]]<br><br><br> [[[309.7226737506274]]]<br><br><br> [[[284.86368409190277]]]<br><br><br> [[[250.8354669340342]]]<br><br><br> [[[205.83324959699155]]]<br><br><br> [[[169.5300410029905]]]<br><br><br> [[[169.028807463174]]]<br><br><br> [[[184.16566200957695]]]<br><br><br> [[[208.84032451359002]]]<br><br><br> [[[249.77746034277746]]]<br><br><br> [[[274.8246466780064]]]<br><br><br> [[[283.74409762470765]]]<br><br><br> [[[288.36278273935625]]]<br><br><br> [[[306.0065955062098]]]<br><br><br> [[[291.278907182586]]]<br><br><br> [[[246.83881007292297]]]<br><br><br> [[[204.1907428435882]]]]</pre></td></tr><tr><th>Units</th><td style='text-align:left;'>milligram/meter<sup>2</sup></td></tr></tbody></table></div></li><li class='xr-var-item'><div class='xr-var-name'><span>night</span></div><div class='xr-var-dims'>(time, layer, latitude, longitude)</div><div class='xr-var-dtype'>float64</div><div class='xr-var-preview xr-preview'>[mg/m²] 258.0 312.1 ... 397.5 351.8</div><input id='attrs-31eb149f-6af7-41f1-acb7-069b715ca563' class='xr-var-attrs-in' type='checkbox' disabled><label for='attrs-31eb149f-6af7-41f1-acb7-069b715ca563' title='Show/Hide attributes'><svg class='icon xr-icon-file-text2'><use xlink:href='#icon-file-text2'></use></svg></label><input id='data-d3029bd8-4f7f-4337-8d52-8c38f5d60ed2' class='xr-var-data-in' type='checkbox'><label for='data-d3029bd8-4f7f-4337-8d52-8c38f5d60ed2' title='Show/Hide data repr'><svg class='icon xr-icon-database'><use xlink:href='#icon-database'></use></svg></label><div class='xr-var-attrs'><dl class='xr-attrs'></dl></div><div class='xr-var-data'><table><tbody><tr><th>Magnitude</th><td style='text-align:left;'><pre>[[[[258.03481873118506]]]<br><br><br> [[[312.0971899578935]]]<br><br><br> [[[337.83226845879244]]]<br><br><br> [[[417.2221469934213]]]<br><br><br> [[[413.983132804948]]]<br><br><br> [[[421.89365674709336]]]<br><br><br> [[[446.4529220074815]]]<br><br><br> [[[446.9570956014589]]]<br><br><br> [[[420.36154798665865]]]<br><br><br> [[[397.4942208367208]]]<br><br><br> [[[351.7616224091976]]]<br><br><br> [[[294.6494292157888]]]<br><br><br> [[[258.03481873118506]]]<br><br><br> [[[312.0971899578935]]]<br><br><br> [[[337.83226845879244]]]<br><br><br> [[[417.2221469934213]]]<br><br><br> [[[413.983132804948]]]<br><br><br> [[[421.89365674709336]]]<br><br><br> [[[446.4529220074815]]]<br><br><br> [[[446.9570956014589]]]<br><br><br> [[[420.36154798665865]]]<br><br><br> [[[397.4942208367208]]]<br><br><br> [[[351.7616224091976]]]<br><br><br> [[[294.6494292157888]]]<br><br><br> [[[258.03481873118506]]]<br><br><br> [[[312.0971899578935]]]<br><br><br> [[[337.83226845879244]]]<br><br><br> [[[417.2221469934213]]]<br><br><br> [[[413.983132804948]]]<br><br><br> [[[421.89365674709336]]]<br><br><br> [[[446.4529220074815]]]<br><br><br> [[[446.9570956014589]]]<br><br><br> [[[420.36154798665865]]]<br><br><br> [[[397.4942208367208]]]<br><br><br> [[[351.7616224091976]]]<br><br><br> [[[294.6494292157888]]]<br><br><br> [[[258.03481873118506]]]<br><br><br> [[[310.5038532805829]]]<br><br><br> [[[339.1815897155657]]]<br><br><br> [[[417.05656045622504]]]<br><br><br> [[[416.24639799937876]]]<br><br><br> [[[428.83910602723876]]]<br><br><br> [[[450.3441315233542]]]<br><br><br> [[[452.38484638704267]]]<br><br><br> [[[411.10336607721837]]]<br><br><br> [[[403.9301941931383]]]<br><br><br> [[[354.5911867290542]]]<br><br><br> [[[285.0364859453825]]]<br><br><br> [[[258.03481873118506]]]<br><br><br> [[[312.0971899578935]]]<br><br><br> [[[337.83226845879244]]]<br><br><br> [[[417.2221469934213]]]<br><br><br> [[[413.983132804948]]]<br><br><br> [[[421.89365674709336]]]<br><br><br> [[[446.4529220074815]]]<br><br><br> [[[446.9570956014589]]]<br><br><br> [[[420.36154798665865]]]<br><br><br> [[[397.4942208367208]]]<br><br><br> [[[351.7616224091976]]]]</pre></td></tr><tr><th>Units</th><td style='text-align:left;'>milligram/meter<sup>2</sup></td></tr></tbody></table></div></li><li class='xr-var-item'><div class='xr-var-name'><span>night_lowess_0.15</span></div><div class='xr-var-dims'>(time, layer, latitude, longitude)</div><div class='xr-var-dtype'>float64</div><div class='xr-var-preview xr-preview'>[mg/m²] 292.7 309.8 ... 386.5 345.4</div><input id='attrs-3f98d343-9116-4fa8-9cb5-4d16a4c9c7e6' class='xr-var-attrs-in' type='checkbox' disabled><label for='attrs-3f98d343-9116-4fa8-9cb5-4d16a4c9c7e6' title='Show/Hide attributes'><svg class='icon xr-icon-file-text2'><use xlink:href='#icon-file-text2'></use></svg></label><input id='data-f7d91c9d-d87d-4d7d-9d38-a695d9648da7' class='xr-var-data-in' type='checkbox'><label for='data-f7d91c9d-d87d-4d7d-9d38-a695d9648da7' title='Show/Hide data repr'><svg class='icon xr-icon-database'><use xlink:href='#icon-database'></use></svg></label><div class='xr-var-attrs'><dl class='xr-attrs'></dl></div><div class='xr-var-data'><table><tbody><tr><th>Magnitude</th><td style='text-align:left;'><pre>[[[[292.6857109718174]]]<br><br><br> [[[309.8253583578534]]]<br><br><br> [[[344.94080584963706]]]<br><br><br> [[[394.4192673666516]]]<br><br><br> [[[420.66545995825976]]]<br><br><br> [[[429.8304782290394]]]<br><br><br> [[[432.4453203920931]]]<br><br><br> [[[443.3654699770805]]]<br><br><br> [[[428.2072779807913]]]<br><br><br> [[[386.5062119765258]]]<br><br><br> [[[345.4452100563779]]]<br><br><br> [[[295.84364078041136]]]<br><br><br> [[[292.6857109718174]]]<br><br><br> [[[309.8253583578534]]]<br><br><br> [[[344.94080584963706]]]<br><br><br> [[[394.4192673666516]]]<br><br><br> [[[420.66545995825976]]]<br><br><br> [[[429.8304782290394]]]<br><br><br> [[[432.4453203920931]]]<br><br><br> [[[443.3654699770805]]]<br><br><br> [[[428.2072779807913]]]<br><br><br> [[[386.5062119765258]]]<br><br><br> [[[345.4452100563779]]]<br><br><br> [[[295.84364078041136]]]<br><br><br> [[[292.6857109718174]]]<br><br><br> [[[309.8253583578534]]]<br><br><br> [[[344.94080584963706]]]<br><br><br> [[[394.4192673666516]]]<br><br><br> [[[420.66545995825976]]]<br><br><br> [[[429.8304782290394]]]<br><br><br> [[[432.4453203920931]]]<br><br><br> [[[443.3654699770805]]]<br><br><br> [[[428.2072779807913]]]<br><br><br> [[[386.5062119765258]]]<br><br><br> [[[345.4452100563779]]]<br><br><br> [[[295.84364078041136]]]<br><br><br> [[[292.6857109718174]]]<br><br><br> [[[308.2436199670046]]]<br><br><br> [[[346.3185190082549]]]<br><br><br> [[[394.2627308041575]]]<br><br><br> [[[422.96525774850284]]]<br><br><br> [[[436.9065879023119]]]<br><br><br> [[[436.2144419788393]]]<br><br><br> [[[448.74960483398553]]]<br><br><br> [[[418.7762991163347]]]<br><br><br> [[[392.76427448906884]]]<br><br><br> [[[348.2239652660745]]]<br><br><br> [[[286.19173633484127]]]<br><br><br> [[[292.6857109718174]]]<br><br><br> [[[309.8253583578534]]]<br><br><br> [[[344.94080584963706]]]<br><br><br> [[[394.4192673666516]]]<br><br><br> [[[420.66545995825976]]]<br><br><br> [[[429.8304782290394]]]<br><br><br> [[[432.4453203920931]]]<br><br><br> [[[443.3654699770805]]]<br><br><br> [[[428.2072779807913]]]<br><br><br> [[[386.5062119765258]]]<br><br><br> [[[345.4452100563779]]]]</pre></td></tr><tr><th>Units</th><td style='text-align:left;'>milligram/meter<sup>2</sup></td></tr></tbody></table></div></li></ul></div></li><li class='xr-section-item'><input id='section-1a918fc7-d1dd-4912-b022-663683f36ada' class='xr-section-summary-in' type='checkbox'  ><label for='section-1a918fc7-d1dd-4912-b022-663683f36ada' class='xr-section-summary' >Indexes: <span>(4)</span></label><div class='xr-section-inline-details'></div><div class='xr-section-details'><ul class='xr-var-list'><li class='xr-var-item'><div class='xr-index-name'><div>layer</div></div><div class='xr-index-preview'>PandasIndex</div><input type='checkbox' disabled/><label></label><input id='index-3b3eb88e-e8c6-4751-8717-3ccd202c27d4' class='xr-index-data-in' type='checkbox'/><label for='index-3b3eb88e-e8c6-4751-8717-3ccd202c27d4' title='Show/Hide index repr'><svg class='icon xr-icon-database'><use xlink:href='#icon-database'></use></svg></label><div class='xr-index-data'><pre>PandasIndex(Index([0], dtype=&#x27;int64&#x27;, name=&#x27;layer&#x27;))</pre></div></li><li class='xr-var-item'><div class='xr-index-name'><div>time</div></div><div class='xr-index-preview'>PandasIndex</div><input type='checkbox' disabled/><label></label><input id='index-d3991959-ce7b-4443-baa5-1fb245f6e764' class='xr-index-data-in' type='checkbox'/><label for='index-d3991959-ce7b-4443-baa5-1fb245f6e764' title='Show/Hide index repr'><svg class='icon xr-icon-database'><use xlink:href='#icon-database'></use></svg></label><div class='xr-index-data'><pre>PandasIndex(DatetimeIndex([&#x27;2005-01-31&#x27;, &#x27;2005-02-28&#x27;, &#x27;2005-03-31&#x27;, &#x27;2005-04-30&#x27;,\n",
       "               &#x27;2005-05-31&#x27;, &#x27;2005-06-30&#x27;, &#x27;2005-07-31&#x27;, &#x27;2005-08-31&#x27;,\n",
       "               &#x27;2005-09-30&#x27;, &#x27;2005-10-31&#x27;, &#x27;2005-11-30&#x27;, &#x27;2005-12-31&#x27;,\n",
       "               &#x27;2006-01-31&#x27;, &#x27;2006-02-28&#x27;, &#x27;2006-03-31&#x27;, &#x27;2006-04-30&#x27;,\n",
       "               &#x27;2006-05-31&#x27;, &#x27;2006-06-30&#x27;, &#x27;2006-07-31&#x27;, &#x27;2006-08-31&#x27;,\n",
       "               &#x27;2006-09-30&#x27;, &#x27;2006-10-31&#x27;, &#x27;2006-11-30&#x27;, &#x27;2006-12-31&#x27;,\n",
       "               &#x27;2007-01-31&#x27;, &#x27;2007-02-28&#x27;, &#x27;2007-03-31&#x27;, &#x27;2007-04-30&#x27;,\n",
       "               &#x27;2007-05-31&#x27;, &#x27;2007-06-30&#x27;, &#x27;2007-07-31&#x27;, &#x27;2007-08-31&#x27;,\n",
       "               &#x27;2007-09-30&#x27;, &#x27;2007-10-31&#x27;, &#x27;2007-11-30&#x27;, &#x27;2007-12-31&#x27;,\n",
       "               &#x27;2008-01-31&#x27;, &#x27;2008-02-29&#x27;, &#x27;2008-03-31&#x27;, &#x27;2008-04-30&#x27;,\n",
       "               &#x27;2008-05-31&#x27;, &#x27;2008-06-30&#x27;, &#x27;2008-07-31&#x27;, &#x27;2008-08-31&#x27;,\n",
       "               &#x27;2008-09-30&#x27;, &#x27;2008-10-31&#x27;, &#x27;2008-11-30&#x27;, &#x27;2008-12-31&#x27;,\n",
       "               &#x27;2009-01-31&#x27;, &#x27;2009-02-28&#x27;, &#x27;2009-03-31&#x27;, &#x27;2009-04-30&#x27;,\n",
       "               &#x27;2009-05-31&#x27;, &#x27;2009-06-30&#x27;, &#x27;2009-07-31&#x27;, &#x27;2009-08-31&#x27;,\n",
       "               &#x27;2009-09-30&#x27;, &#x27;2009-10-31&#x27;, &#x27;2009-11-30&#x27;],\n",
       "              dtype=&#x27;datetime64[ns]&#x27;, name=&#x27;time&#x27;, freq=&#x27;ME&#x27;))</pre></div></li><li class='xr-var-item'><div class='xr-index-name'><div>latitude</div></div><div class='xr-index-preview'>PandasIndex</div><input type='checkbox' disabled/><label></label><input id='index-265ee8f4-3cba-463e-80c4-8324c5c38c2e' class='xr-index-data-in' type='checkbox'/><label for='index-265ee8f4-3cba-463e-80c4-8324c5c38c2e' title='Show/Hide index repr'><svg class='icon xr-icon-database'><use xlink:href='#icon-database'></use></svg></label><div class='xr-index-data'><pre>PandasIndex(Index([22.75], dtype=&#x27;float64&#x27;, name=&#x27;latitude&#x27;))</pre></div></li><li class='xr-var-item'><div class='xr-index-name'><div>longitude</div></div><div class='xr-index-preview'>PandasIndex</div><input type='checkbox' disabled/><label></label><input id='index-33090194-374f-4bd1-abbc-9651732f5947' class='xr-index-data-in' type='checkbox'/><label for='index-33090194-374f-4bd1-abbc-9651732f5947' title='Show/Hide index repr'><svg class='icon xr-icon-database'><use xlink:href='#icon-database'></use></svg></label><div class='xr-index-data'><pre>PandasIndex(Index([-158], dtype=&#x27;int64&#x27;, name=&#x27;longitude&#x27;))</pre></div></li></ul></div></li><li class='xr-section-item'><input id='section-8fe01675-6c14-4315-998b-27d32793689e' class='xr-section-summary-in' type='checkbox' disabled ><label for='section-8fe01675-6c14-4315-998b-27d32793689e' class='xr-section-summary'  title='Expand/collapse section'>Attributes: <span>(0)</span></label><div class='xr-section-inline-details'></div><div class='xr-section-details'><dl class='xr-attrs'></dl></div></li></ul></div></div>"
      ],
      "text/plain": [
       "<xarray.Dataset> Size: 2kB\n",
       "Dimensions:            (layer: 1, time: 59, latitude: 1, longitude: 1)\n",
       "Coordinates: (4)\n",
       "Data variables: (4)"
      ]
     },
     "execution_count": 27,
     "metadata": {},
     "output_type": "execute_result"
    }
   ],
   "source": [
    "observations = xr.open_zarr(path_to_obs).load()\n",
    "observations = observations.sel(latitude=LATITUDE, longitude=LONGITUDE, method=\"nearest\")\n",
    "observations = observations.resample(time=\"1D\").mean().dropna(\"time\")\n",
    "observations = observations.pint.quantify().pint.to(\"mg/m^3\")\n",
    "observations = observations * epi_layer_depth\n",
    "observations = observations.drop_vars(\"depth\")\n",
    "observations"
   ]
  },
  {
   "cell_type": "markdown",
   "metadata": {},
   "source": [
    "Select the kind of observation you want to use.\n"
   ]
  },
  {
   "cell_type": "code",
   "execution_count": 28,
   "metadata": {},
   "outputs": [],
   "source": [
    "# observations_selected = observations[[\"day_lowess_0.2\", \"night_lowess_0.2\"]].rename(\n",
    "#     {\"day_lowess_0.2\": \"day\", \"night_lowess_0.2\": \"night\"}\n",
    "# )\n",
    "\n",
    "observations_selected = observations[[\"day\", \"night\"]]"
   ]
  },
  {
   "cell_type": "markdown",
   "metadata": {},
   "source": [
    "Remove the X first months to let the model reach the stationary state.\n"
   ]
  },
  {
   "cell_type": "code",
   "execution_count": 29,
   "metadata": {},
   "outputs": [
    {
     "data": {
      "text/html": [
       "<div><svg style=\"position: absolute; width: 0; height: 0; overflow: hidden\">\n",
       "<defs>\n",
       "<symbol id=\"icon-database\" viewBox=\"0 0 32 32\">\n",
       "<path d=\"M16 0c-8.837 0-16 2.239-16 5v4c0 2.761 7.163 5 16 5s16-2.239 16-5v-4c0-2.761-7.163-5-16-5z\"></path>\n",
       "<path d=\"M16 17c-8.837 0-16-2.239-16-5v6c0 2.761 7.163 5 16 5s16-2.239 16-5v-6c0 2.761-7.163 5-16 5z\"></path>\n",
       "<path d=\"M16 26c-8.837 0-16-2.239-16-5v6c0 2.761 7.163 5 16 5s16-2.239 16-5v-6c0 2.761-7.163 5-16 5z\"></path>\n",
       "</symbol>\n",
       "<symbol id=\"icon-file-text2\" viewBox=\"0 0 32 32\">\n",
       "<path d=\"M28.681 7.159c-0.694-0.947-1.662-2.053-2.724-3.116s-2.169-2.030-3.116-2.724c-1.612-1.182-2.393-1.319-2.841-1.319h-15.5c-1.378 0-2.5 1.121-2.5 2.5v27c0 1.378 1.122 2.5 2.5 2.5h23c1.378 0 2.5-1.122 2.5-2.5v-19.5c0-0.448-0.137-1.23-1.319-2.841zM24.543 5.457c0.959 0.959 1.712 1.825 2.268 2.543h-4.811v-4.811c0.718 0.556 1.584 1.309 2.543 2.268zM28 29.5c0 0.271-0.229 0.5-0.5 0.5h-23c-0.271 0-0.5-0.229-0.5-0.5v-27c0-0.271 0.229-0.5 0.5-0.5 0 0 15.499-0 15.5 0v7c0 0.552 0.448 1 1 1h7v19.5z\"></path>\n",
       "<path d=\"M23 26h-14c-0.552 0-1-0.448-1-1s0.448-1 1-1h14c0.552 0 1 0.448 1 1s-0.448 1-1 1z\"></path>\n",
       "<path d=\"M23 22h-14c-0.552 0-1-0.448-1-1s0.448-1 1-1h14c0.552 0 1 0.448 1 1s-0.448 1-1 1z\"></path>\n",
       "<path d=\"M23 18h-14c-0.552 0-1-0.448-1-1s0.448-1 1-1h14c0.552 0 1 0.448 1 1s-0.448 1-1 1z\"></path>\n",
       "</symbol>\n",
       "</defs>\n",
       "</svg>\n",
       "<style>/* CSS stylesheet for displaying xarray objects in jupyterlab.\n",
       " *\n",
       " */\n",
       "\n",
       ":root {\n",
       "  --xr-font-color0: var(--jp-content-font-color0, rgba(0, 0, 0, 1));\n",
       "  --xr-font-color2: var(--jp-content-font-color2, rgba(0, 0, 0, 0.54));\n",
       "  --xr-font-color3: var(--jp-content-font-color3, rgba(0, 0, 0, 0.38));\n",
       "  --xr-border-color: var(--jp-border-color2, #e0e0e0);\n",
       "  --xr-disabled-color: var(--jp-layout-color3, #bdbdbd);\n",
       "  --xr-background-color: var(--jp-layout-color0, white);\n",
       "  --xr-background-color-row-even: var(--jp-layout-color1, white);\n",
       "  --xr-background-color-row-odd: var(--jp-layout-color2, #eeeeee);\n",
       "}\n",
       "\n",
       "html[theme=\"dark\"],\n",
       "html[data-theme=\"dark\"],\n",
       "body[data-theme=\"dark\"],\n",
       "body.vscode-dark {\n",
       "  --xr-font-color0: rgba(255, 255, 255, 1);\n",
       "  --xr-font-color2: rgba(255, 255, 255, 0.54);\n",
       "  --xr-font-color3: rgba(255, 255, 255, 0.38);\n",
       "  --xr-border-color: #1f1f1f;\n",
       "  --xr-disabled-color: #515151;\n",
       "  --xr-background-color: #111111;\n",
       "  --xr-background-color-row-even: #111111;\n",
       "  --xr-background-color-row-odd: #313131;\n",
       "}\n",
       "\n",
       ".xr-wrap {\n",
       "  display: block !important;\n",
       "  min-width: 300px;\n",
       "  max-width: 700px;\n",
       "}\n",
       "\n",
       ".xr-text-repr-fallback {\n",
       "  /* fallback to plain text repr when CSS is not injected (untrusted notebook) */\n",
       "  display: none;\n",
       "}\n",
       "\n",
       ".xr-header {\n",
       "  padding-top: 6px;\n",
       "  padding-bottom: 6px;\n",
       "  margin-bottom: 4px;\n",
       "  border-bottom: solid 1px var(--xr-border-color);\n",
       "}\n",
       "\n",
       ".xr-header > div,\n",
       ".xr-header > ul {\n",
       "  display: inline;\n",
       "  margin-top: 0;\n",
       "  margin-bottom: 0;\n",
       "}\n",
       "\n",
       ".xr-obj-type,\n",
       ".xr-array-name {\n",
       "  margin-left: 2px;\n",
       "  margin-right: 10px;\n",
       "}\n",
       "\n",
       ".xr-obj-type {\n",
       "  color: var(--xr-font-color2);\n",
       "}\n",
       "\n",
       ".xr-sections {\n",
       "  padding-left: 0 !important;\n",
       "  display: grid;\n",
       "  grid-template-columns: 150px auto auto 1fr 0 20px 0 20px;\n",
       "}\n",
       "\n",
       ".xr-section-item {\n",
       "  display: contents;\n",
       "}\n",
       "\n",
       ".xr-section-item input {\n",
       "  display: inline-block;\n",
       "  opacity: 0;\n",
       "  height: 0;\n",
       "}\n",
       "\n",
       ".xr-section-item input + label {\n",
       "  color: var(--xr-disabled-color);\n",
       "}\n",
       "\n",
       ".xr-section-item input:enabled + label {\n",
       "  cursor: pointer;\n",
       "  color: var(--xr-font-color2);\n",
       "}\n",
       "\n",
       ".xr-section-item input:focus + label {\n",
       "  border: 2px solid var(--xr-font-color0);\n",
       "}\n",
       "\n",
       ".xr-section-item input:enabled + label:hover {\n",
       "  color: var(--xr-font-color0);\n",
       "}\n",
       "\n",
       ".xr-section-summary {\n",
       "  grid-column: 1;\n",
       "  color: var(--xr-font-color2);\n",
       "  font-weight: 500;\n",
       "}\n",
       "\n",
       ".xr-section-summary > span {\n",
       "  display: inline-block;\n",
       "  padding-left: 0.5em;\n",
       "}\n",
       "\n",
       ".xr-section-summary-in:disabled + label {\n",
       "  color: var(--xr-font-color2);\n",
       "}\n",
       "\n",
       ".xr-section-summary-in + label:before {\n",
       "  display: inline-block;\n",
       "  content: \"►\";\n",
       "  font-size: 11px;\n",
       "  width: 15px;\n",
       "  text-align: center;\n",
       "}\n",
       "\n",
       ".xr-section-summary-in:disabled + label:before {\n",
       "  color: var(--xr-disabled-color);\n",
       "}\n",
       "\n",
       ".xr-section-summary-in:checked + label:before {\n",
       "  content: \"▼\";\n",
       "}\n",
       "\n",
       ".xr-section-summary-in:checked + label > span {\n",
       "  display: none;\n",
       "}\n",
       "\n",
       ".xr-section-summary,\n",
       ".xr-section-inline-details {\n",
       "  padding-top: 4px;\n",
       "  padding-bottom: 4px;\n",
       "}\n",
       "\n",
       ".xr-section-inline-details {\n",
       "  grid-column: 2 / -1;\n",
       "}\n",
       "\n",
       ".xr-section-details {\n",
       "  display: none;\n",
       "  grid-column: 1 / -1;\n",
       "  margin-bottom: 5px;\n",
       "}\n",
       "\n",
       ".xr-section-summary-in:checked ~ .xr-section-details {\n",
       "  display: contents;\n",
       "}\n",
       "\n",
       ".xr-array-wrap {\n",
       "  grid-column: 1 / -1;\n",
       "  display: grid;\n",
       "  grid-template-columns: 20px auto;\n",
       "}\n",
       "\n",
       ".xr-array-wrap > label {\n",
       "  grid-column: 1;\n",
       "  vertical-align: top;\n",
       "}\n",
       "\n",
       ".xr-preview {\n",
       "  color: var(--xr-font-color3);\n",
       "}\n",
       "\n",
       ".xr-array-preview,\n",
       ".xr-array-data {\n",
       "  padding: 0 5px !important;\n",
       "  grid-column: 2;\n",
       "}\n",
       "\n",
       ".xr-array-data,\n",
       ".xr-array-in:checked ~ .xr-array-preview {\n",
       "  display: none;\n",
       "}\n",
       "\n",
       ".xr-array-in:checked ~ .xr-array-data,\n",
       ".xr-array-preview {\n",
       "  display: inline-block;\n",
       "}\n",
       "\n",
       ".xr-dim-list {\n",
       "  display: inline-block !important;\n",
       "  list-style: none;\n",
       "  padding: 0 !important;\n",
       "  margin: 0;\n",
       "}\n",
       "\n",
       ".xr-dim-list li {\n",
       "  display: inline-block;\n",
       "  padding: 0;\n",
       "  margin: 0;\n",
       "}\n",
       "\n",
       ".xr-dim-list:before {\n",
       "  content: \"(\";\n",
       "}\n",
       "\n",
       ".xr-dim-list:after {\n",
       "  content: \")\";\n",
       "}\n",
       "\n",
       ".xr-dim-list li:not(:last-child):after {\n",
       "  content: \",\";\n",
       "  padding-right: 5px;\n",
       "}\n",
       "\n",
       ".xr-has-index {\n",
       "  font-weight: bold;\n",
       "}\n",
       "\n",
       ".xr-var-list,\n",
       ".xr-var-item {\n",
       "  display: contents;\n",
       "}\n",
       "\n",
       ".xr-var-item > div,\n",
       ".xr-var-item label,\n",
       ".xr-var-item > .xr-var-name span {\n",
       "  background-color: var(--xr-background-color-row-even);\n",
       "  margin-bottom: 0;\n",
       "}\n",
       "\n",
       ".xr-var-item > .xr-var-name:hover span {\n",
       "  padding-right: 5px;\n",
       "}\n",
       "\n",
       ".xr-var-list > li:nth-child(odd) > div,\n",
       ".xr-var-list > li:nth-child(odd) > label,\n",
       ".xr-var-list > li:nth-child(odd) > .xr-var-name span {\n",
       "  background-color: var(--xr-background-color-row-odd);\n",
       "}\n",
       "\n",
       ".xr-var-name {\n",
       "  grid-column: 1;\n",
       "}\n",
       "\n",
       ".xr-var-dims {\n",
       "  grid-column: 2;\n",
       "}\n",
       "\n",
       ".xr-var-dtype {\n",
       "  grid-column: 3;\n",
       "  text-align: right;\n",
       "  color: var(--xr-font-color2);\n",
       "}\n",
       "\n",
       ".xr-var-preview {\n",
       "  grid-column: 4;\n",
       "}\n",
       "\n",
       ".xr-index-preview {\n",
       "  grid-column: 2 / 5;\n",
       "  color: var(--xr-font-color2);\n",
       "}\n",
       "\n",
       ".xr-var-name,\n",
       ".xr-var-dims,\n",
       ".xr-var-dtype,\n",
       ".xr-preview,\n",
       ".xr-attrs dt {\n",
       "  white-space: nowrap;\n",
       "  overflow: hidden;\n",
       "  text-overflow: ellipsis;\n",
       "  padding-right: 10px;\n",
       "}\n",
       "\n",
       ".xr-var-name:hover,\n",
       ".xr-var-dims:hover,\n",
       ".xr-var-dtype:hover,\n",
       ".xr-attrs dt:hover {\n",
       "  overflow: visible;\n",
       "  width: auto;\n",
       "  z-index: 1;\n",
       "}\n",
       "\n",
       ".xr-var-attrs,\n",
       ".xr-var-data,\n",
       ".xr-index-data {\n",
       "  display: none;\n",
       "  background-color: var(--xr-background-color) !important;\n",
       "  padding-bottom: 5px !important;\n",
       "}\n",
       "\n",
       ".xr-var-attrs-in:checked ~ .xr-var-attrs,\n",
       ".xr-var-data-in:checked ~ .xr-var-data,\n",
       ".xr-index-data-in:checked ~ .xr-index-data {\n",
       "  display: block;\n",
       "}\n",
       "\n",
       ".xr-var-data > table {\n",
       "  float: right;\n",
       "}\n",
       "\n",
       ".xr-var-name span,\n",
       ".xr-var-data,\n",
       ".xr-index-name div,\n",
       ".xr-index-data,\n",
       ".xr-attrs {\n",
       "  padding-left: 25px !important;\n",
       "}\n",
       "\n",
       ".xr-attrs,\n",
       ".xr-var-attrs,\n",
       ".xr-var-data,\n",
       ".xr-index-data {\n",
       "  grid-column: 1 / -1;\n",
       "}\n",
       "\n",
       "dl.xr-attrs {\n",
       "  padding: 0;\n",
       "  margin: 0;\n",
       "  display: grid;\n",
       "  grid-template-columns: 125px auto;\n",
       "}\n",
       "\n",
       ".xr-attrs dt,\n",
       ".xr-attrs dd {\n",
       "  padding: 0;\n",
       "  margin: 0;\n",
       "  float: left;\n",
       "  padding-right: 10px;\n",
       "  width: auto;\n",
       "}\n",
       "\n",
       ".xr-attrs dt {\n",
       "  font-weight: normal;\n",
       "  grid-column: 1;\n",
       "}\n",
       "\n",
       ".xr-attrs dt:hover span {\n",
       "  display: inline-block;\n",
       "  background: var(--xr-background-color);\n",
       "  padding-right: 10px;\n",
       "}\n",
       "\n",
       ".xr-attrs dd {\n",
       "  grid-column: 2;\n",
       "  white-space: pre-wrap;\n",
       "  word-break: break-all;\n",
       "}\n",
       "\n",
       ".xr-icon-database,\n",
       ".xr-icon-file-text2,\n",
       ".xr-no-icon {\n",
       "  display: inline-block;\n",
       "  vertical-align: middle;\n",
       "  width: 1em;\n",
       "  height: 1.5em !important;\n",
       "  stroke-width: 0;\n",
       "  stroke: currentColor;\n",
       "  fill: currentColor;\n",
       "}\n",
       "</style><pre class='xr-text-repr-fallback'>&lt;xarray.Dataset&gt; Size: 1kB\n",
       "Dimensions:    (time: 54, layer: 1, latitude: 1, longitude: 1)\n",
       "Coordinates: (4)\n",
       "Data variables: (2)</pre><div class='xr-wrap' style='display:none'><div class='xr-header'><div class='xr-obj-type'>xarray.Dataset</div></div><ul class='xr-sections'><li class='xr-section-item'><input id='section-0def598f-c3d0-4ac0-8d8e-2f8ba9394184' class='xr-section-summary-in' type='checkbox' disabled ><label for='section-0def598f-c3d0-4ac0-8d8e-2f8ba9394184' class='xr-section-summary'  title='Expand/collapse section'>Dimensions:</label><div class='xr-section-inline-details'><ul class='xr-dim-list'><li><span class='xr-has-index'>time</span>: 54</li><li><span class='xr-has-index'>layer</span>: 1</li><li><span class='xr-has-index'>latitude</span>: 1</li><li><span class='xr-has-index'>longitude</span>: 1</li></ul></div><div class='xr-section-details'></div></li><li class='xr-section-item'><input id='section-69af7891-7361-4053-8351-b0b1b39fcf9c' class='xr-section-summary-in' type='checkbox'  ><label for='section-69af7891-7361-4053-8351-b0b1b39fcf9c' class='xr-section-summary' >Coordinates: <span>(4)</span></label><div class='xr-section-inline-details'></div><div class='xr-section-details'><ul class='xr-var-list'><li class='xr-var-item'><div class='xr-var-name'><span class='xr-has-index'>layer</span></div><div class='xr-var-dims'>(layer)</div><div class='xr-var-dtype'>int64</div><div class='xr-var-preview xr-preview'>0</div><input id='attrs-fecdb9ea-6729-45d1-8394-dec09c1579d5' class='xr-var-attrs-in' type='checkbox' ><label for='attrs-fecdb9ea-6729-45d1-8394-dec09c1579d5' title='Show/Hide attributes'><svg class='icon xr-icon-file-text2'><use xlink:href='#icon-file-text2'></use></svg></label><input id='data-017373d7-4753-4443-bcf8-efd11b2b7d4f' class='xr-var-data-in' type='checkbox'><label for='data-017373d7-4753-4443-bcf8-efd11b2b7d4f' title='Show/Hide data repr'><svg class='icon xr-icon-database'><use xlink:href='#icon-database'></use></svg></label><div class='xr-var-attrs'><dl class='xr-attrs'><dt><span>axis :</span></dt><dd>Z</dd><dt><span>desc :</span></dt><dd>The layer depth according to Seapodym definition</dd><dt><span>flag_meanings :</span></dt><dd>epipelagic, upper-mesopelagic, lower-mesopelagic</dd><dt><span>flag_values :</span></dt><dd>[0, 1, 2]</dd><dt><span>long_name :</span></dt><dd>Layer depth</dd><dt><span>standard_name :</span></dt><dd>layer</dd></dl></div><div class='xr-var-data'><pre>array([0])</pre></div></li><li class='xr-var-item'><div class='xr-var-name'><span class='xr-has-index'>time</span></div><div class='xr-var-dims'>(time)</div><div class='xr-var-dtype'>datetime64[ns]</div><div class='xr-var-preview xr-preview'>2005-06-30 ... 2009-11-30</div><input id='attrs-b847772b-3c76-4273-b2f0-ad1c63ffd371' class='xr-var-attrs-in' type='checkbox' ><label for='attrs-b847772b-3c76-4273-b2f0-ad1c63ffd371' title='Show/Hide attributes'><svg class='icon xr-icon-file-text2'><use xlink:href='#icon-file-text2'></use></svg></label><input id='data-63a6852b-e97b-49ff-a0d4-507cb3d8117f' class='xr-var-data-in' type='checkbox'><label for='data-63a6852b-e97b-49ff-a0d4-507cb3d8117f' title='Show/Hide data repr'><svg class='icon xr-icon-database'><use xlink:href='#icon-database'></use></svg></label><div class='xr-var-attrs'><dl class='xr-attrs'><dt><span>axis :</span></dt><dd>T</dd><dt><span>long_name :</span></dt><dd>time</dd><dt><span>standard_name :</span></dt><dd>time</dd></dl></div><div class='xr-var-data'><pre>array([&#x27;2005-06-30T00:00:00.000000000&#x27;, &#x27;2005-07-31T00:00:00.000000000&#x27;,\n",
       "       &#x27;2005-08-31T00:00:00.000000000&#x27;, &#x27;2005-09-30T00:00:00.000000000&#x27;,\n",
       "       &#x27;2005-10-31T00:00:00.000000000&#x27;, &#x27;2005-11-30T00:00:00.000000000&#x27;,\n",
       "       &#x27;2005-12-31T00:00:00.000000000&#x27;, &#x27;2006-01-31T00:00:00.000000000&#x27;,\n",
       "       &#x27;2006-02-28T00:00:00.000000000&#x27;, &#x27;2006-03-31T00:00:00.000000000&#x27;,\n",
       "       &#x27;2006-04-30T00:00:00.000000000&#x27;, &#x27;2006-05-31T00:00:00.000000000&#x27;,\n",
       "       &#x27;2006-06-30T00:00:00.000000000&#x27;, &#x27;2006-07-31T00:00:00.000000000&#x27;,\n",
       "       &#x27;2006-08-31T00:00:00.000000000&#x27;, &#x27;2006-09-30T00:00:00.000000000&#x27;,\n",
       "       &#x27;2006-10-31T00:00:00.000000000&#x27;, &#x27;2006-11-30T00:00:00.000000000&#x27;,\n",
       "       &#x27;2006-12-31T00:00:00.000000000&#x27;, &#x27;2007-01-31T00:00:00.000000000&#x27;,\n",
       "       &#x27;2007-02-28T00:00:00.000000000&#x27;, &#x27;2007-03-31T00:00:00.000000000&#x27;,\n",
       "       &#x27;2007-04-30T00:00:00.000000000&#x27;, &#x27;2007-05-31T00:00:00.000000000&#x27;,\n",
       "       &#x27;2007-06-30T00:00:00.000000000&#x27;, &#x27;2007-07-31T00:00:00.000000000&#x27;,\n",
       "       &#x27;2007-08-31T00:00:00.000000000&#x27;, &#x27;2007-09-30T00:00:00.000000000&#x27;,\n",
       "       &#x27;2007-10-31T00:00:00.000000000&#x27;, &#x27;2007-11-30T00:00:00.000000000&#x27;,\n",
       "       &#x27;2007-12-31T00:00:00.000000000&#x27;, &#x27;2008-01-31T00:00:00.000000000&#x27;,\n",
       "       &#x27;2008-02-29T00:00:00.000000000&#x27;, &#x27;2008-03-31T00:00:00.000000000&#x27;,\n",
       "       &#x27;2008-04-30T00:00:00.000000000&#x27;, &#x27;2008-05-31T00:00:00.000000000&#x27;,\n",
       "       &#x27;2008-06-30T00:00:00.000000000&#x27;, &#x27;2008-07-31T00:00:00.000000000&#x27;,\n",
       "       &#x27;2008-08-31T00:00:00.000000000&#x27;, &#x27;2008-09-30T00:00:00.000000000&#x27;,\n",
       "       &#x27;2008-10-31T00:00:00.000000000&#x27;, &#x27;2008-11-30T00:00:00.000000000&#x27;,\n",
       "       &#x27;2008-12-31T00:00:00.000000000&#x27;, &#x27;2009-01-31T00:00:00.000000000&#x27;,\n",
       "       &#x27;2009-02-28T00:00:00.000000000&#x27;, &#x27;2009-03-31T00:00:00.000000000&#x27;,\n",
       "       &#x27;2009-04-30T00:00:00.000000000&#x27;, &#x27;2009-05-31T00:00:00.000000000&#x27;,\n",
       "       &#x27;2009-06-30T00:00:00.000000000&#x27;, &#x27;2009-07-31T00:00:00.000000000&#x27;,\n",
       "       &#x27;2009-08-31T00:00:00.000000000&#x27;, &#x27;2009-09-30T00:00:00.000000000&#x27;,\n",
       "       &#x27;2009-10-31T00:00:00.000000000&#x27;, &#x27;2009-11-30T00:00:00.000000000&#x27;],\n",
       "      dtype=&#x27;datetime64[ns]&#x27;)</pre></div></li><li class='xr-var-item'><div class='xr-var-name'><span class='xr-has-index'>latitude</span></div><div class='xr-var-dims'>(latitude)</div><div class='xr-var-dtype'>float64</div><div class='xr-var-preview xr-preview'>22.75</div><input id='attrs-fea6839a-6e8b-45cc-867d-7a76dd209244' class='xr-var-attrs-in' type='checkbox' ><label for='attrs-fea6839a-6e8b-45cc-867d-7a76dd209244' title='Show/Hide attributes'><svg class='icon xr-icon-file-text2'><use xlink:href='#icon-file-text2'></use></svg></label><input id='data-0f02c249-0b0c-4cd1-b80f-448eec569567' class='xr-var-data-in' type='checkbox'><label for='data-0f02c249-0b0c-4cd1-b80f-448eec569567' title='Show/Hide data repr'><svg class='icon xr-icon-database'><use xlink:href='#icon-database'></use></svg></label><div class='xr-var-attrs'><dl class='xr-attrs'><dt><span>axis :</span></dt><dd>Y</dd><dt><span>standard_name :</span></dt><dd>latitude</dd><dt><span>units :</span></dt><dd>degrees_north</dd></dl></div><div class='xr-var-data'><pre>array([22.75])</pre></div></li><li class='xr-var-item'><div class='xr-var-name'><span class='xr-has-index'>longitude</span></div><div class='xr-var-dims'>(longitude)</div><div class='xr-var-dtype'>int64</div><div class='xr-var-preview xr-preview'>-158</div><input id='attrs-41290088-ea79-495d-8097-da24228b281a' class='xr-var-attrs-in' type='checkbox' ><label for='attrs-41290088-ea79-495d-8097-da24228b281a' title='Show/Hide attributes'><svg class='icon xr-icon-file-text2'><use xlink:href='#icon-file-text2'></use></svg></label><input id='data-0a54473a-1c5a-4dd5-9320-bd43c05e2ba9' class='xr-var-data-in' type='checkbox'><label for='data-0a54473a-1c5a-4dd5-9320-bd43c05e2ba9' title='Show/Hide data repr'><svg class='icon xr-icon-database'><use xlink:href='#icon-database'></use></svg></label><div class='xr-var-attrs'><dl class='xr-attrs'><dt><span>axis :</span></dt><dd>X</dd><dt><span>standard_name :</span></dt><dd>longitude</dd><dt><span>units :</span></dt><dd>degrees_east</dd></dl></div><div class='xr-var-data'><pre>array([-158])</pre></div></li></ul></div></li><li class='xr-section-item'><input id='section-0e85b86c-0d65-406f-826e-b30a09b7a8a4' class='xr-section-summary-in' type='checkbox'  ><label for='section-0e85b86c-0d65-406f-826e-b30a09b7a8a4' class='xr-section-summary' >Data variables: <span>(2)</span></label><div class='xr-section-inline-details'></div><div class='xr-section-details'><ul class='xr-var-list'><li class='xr-var-item'><div class='xr-var-name'><span>day</span></div><div class='xr-var-dims'>(time, layer, latitude, longitude)</div><div class='xr-var-dtype'>float64</div><div class='xr-var-preview xr-preview'>[mg/m²] 282.2 287.0 ... 248.0 199.5</div><input id='attrs-b99f9b85-fccc-49c8-8e1a-4fec5c044136' class='xr-var-attrs-in' type='checkbox' disabled><label for='attrs-b99f9b85-fccc-49c8-8e1a-4fec5c044136' title='Show/Hide attributes'><svg class='icon xr-icon-file-text2'><use xlink:href='#icon-file-text2'></use></svg></label><input id='data-514c9259-9b94-4e04-9eea-9d69991f013d' class='xr-var-data-in' type='checkbox'><label for='data-514c9259-9b94-4e04-9eea-9d69991f013d' title='Show/Hide data repr'><svg class='icon xr-icon-database'><use xlink:href='#icon-database'></use></svg></label><div class='xr-var-attrs'><dl class='xr-attrs'></dl></div><div class='xr-var-data'><table><tbody><tr><th>Magnitude</th><td style='text-align:left;'><pre>[[[[282.22919058899055]]]<br><br><br> [[[286.98619921530604]]]<br><br><br> [[[311.5459297539875]]]<br><br><br> [[[303.8242714951801]]]<br><br><br> [[[248.03965495807626]]]<br><br><br> [[[199.45355494862133]]]<br><br><br> [[[173.55167845591396]]]<br><br><br> [[[161.18085076616643]]]<br><br><br> [[[180.11886858075593]]]<br><br><br> [[[206.9568833881889]]]<br><br><br> [[[257.0734350236469]]]<br><br><br> [[[275.23242516474]]]<br><br><br> [[[282.22919058899055]]]<br><br><br> [[[286.98619921530604]]]<br><br><br> [[[311.5459297539875]]]<br><br><br> [[[303.8242714951801]]]<br><br><br> [[[248.03965495807626]]]<br><br><br> [[[199.45355494862133]]]<br><br><br> [[[173.55167845591396]]]<br><br><br> [[[161.18085076616643]]]<br><br><br> [[[180.11886858075593]]]<br><br><br> [[[206.9568833881889]]]<br><br><br> [[[257.0734350236469]]]<br><br><br> [[[275.23242516474]]]<br><br><br> [[[282.22919058899055]]]<br><br><br> [[[286.98619921530604]]]<br><br><br> [[[311.5459297539875]]]<br><br><br> [[[303.8242714951801]]]<br><br><br> [[[248.03965495807626]]]<br><br><br> [[[199.45355494862133]]]<br><br><br> [[[173.55167845591396]]]<br><br><br> [[[161.18085076616643]]]<br><br><br> [[[179.1993152851171]]]<br><br><br> [[[207.78348092804256]]]<br><br><br> [[[256.97140808136334]]]<br><br><br> [[[276.73713373591653]]]<br><br><br> [[[286.8754053335449]]]<br><br><br> [[[289.4875232614997]]]<br><br><br> [[[315.3292764814672]]]<br><br><br> [[[297.1327451472592]]]<br><br><br> [[[252.05575513504192]]]<br><br><br> [[[201.0579558457]]]<br><br><br> [[[167.88955162294909]]]<br><br><br> [[[161.18085076616643]]]<br><br><br> [[[180.11886858075593]]]<br><br><br> [[[206.9568833881889]]]<br><br><br> [[[257.0734350236469]]]<br><br><br> [[[275.23242516474]]]<br><br><br> [[[282.22919058899055]]]<br><br><br> [[[286.98619921530604]]]<br><br><br> [[[311.5459297539875]]]<br><br><br> [[[303.8242714951801]]]<br><br><br> [[[248.03965495807626]]]<br><br><br> [[[199.45355494862133]]]]</pre></td></tr><tr><th>Units</th><td style='text-align:left;'>milligram/meter<sup>2</sup></td></tr></tbody></table></div></li><li class='xr-var-item'><div class='xr-var-name'><span>night</span></div><div class='xr-var-dims'>(time, layer, latitude, longitude)</div><div class='xr-var-dtype'>float64</div><div class='xr-var-preview xr-preview'>[mg/m²] 421.9 446.5 ... 397.5 351.8</div><input id='attrs-bb8cb345-c5cd-493d-9d01-a3f9926722c3' class='xr-var-attrs-in' type='checkbox' disabled><label for='attrs-bb8cb345-c5cd-493d-9d01-a3f9926722c3' title='Show/Hide attributes'><svg class='icon xr-icon-file-text2'><use xlink:href='#icon-file-text2'></use></svg></label><input id='data-b6e72750-5c1b-425f-8e71-3ecdc188348e' class='xr-var-data-in' type='checkbox'><label for='data-b6e72750-5c1b-425f-8e71-3ecdc188348e' title='Show/Hide data repr'><svg class='icon xr-icon-database'><use xlink:href='#icon-database'></use></svg></label><div class='xr-var-attrs'><dl class='xr-attrs'></dl></div><div class='xr-var-data'><table><tbody><tr><th>Magnitude</th><td style='text-align:left;'><pre>[[[[421.89365674709336]]]<br><br><br> [[[446.4529220074815]]]<br><br><br> [[[446.9570956014589]]]<br><br><br> [[[420.36154798665865]]]<br><br><br> [[[397.4942208367208]]]<br><br><br> [[[351.7616224091976]]]<br><br><br> [[[294.6494292157888]]]<br><br><br> [[[258.03481873118506]]]<br><br><br> [[[312.0971899578935]]]<br><br><br> [[[337.83226845879244]]]<br><br><br> [[[417.2221469934213]]]<br><br><br> [[[413.983132804948]]]<br><br><br> [[[421.89365674709336]]]<br><br><br> [[[446.4529220074815]]]<br><br><br> [[[446.9570956014589]]]<br><br><br> [[[420.36154798665865]]]<br><br><br> [[[397.4942208367208]]]<br><br><br> [[[351.7616224091976]]]<br><br><br> [[[294.6494292157888]]]<br><br><br> [[[258.03481873118506]]]<br><br><br> [[[312.0971899578935]]]<br><br><br> [[[337.83226845879244]]]<br><br><br> [[[417.2221469934213]]]<br><br><br> [[[413.983132804948]]]<br><br><br> [[[421.89365674709336]]]<br><br><br> [[[446.4529220074815]]]<br><br><br> [[[446.9570956014589]]]<br><br><br> [[[420.36154798665865]]]<br><br><br> [[[397.4942208367208]]]<br><br><br> [[[351.7616224091976]]]<br><br><br> [[[294.6494292157888]]]<br><br><br> [[[258.03481873118506]]]<br><br><br> [[[310.5038532805829]]]<br><br><br> [[[339.1815897155657]]]<br><br><br> [[[417.05656045622504]]]<br><br><br> [[[416.24639799937876]]]<br><br><br> [[[428.83910602723876]]]<br><br><br> [[[450.3441315233542]]]<br><br><br> [[[452.38484638704267]]]<br><br><br> [[[411.10336607721837]]]<br><br><br> [[[403.9301941931383]]]<br><br><br> [[[354.5911867290542]]]<br><br><br> [[[285.0364859453825]]]<br><br><br> [[[258.03481873118506]]]<br><br><br> [[[312.0971899578935]]]<br><br><br> [[[337.83226845879244]]]<br><br><br> [[[417.2221469934213]]]<br><br><br> [[[413.983132804948]]]<br><br><br> [[[421.89365674709336]]]<br><br><br> [[[446.4529220074815]]]<br><br><br> [[[446.9570956014589]]]<br><br><br> [[[420.36154798665865]]]<br><br><br> [[[397.4942208367208]]]<br><br><br> [[[351.7616224091976]]]]</pre></td></tr><tr><th>Units</th><td style='text-align:left;'>milligram/meter<sup>2</sup></td></tr></tbody></table></div></li></ul></div></li><li class='xr-section-item'><input id='section-4f741554-d5b2-4c30-a101-d23930d9afe4' class='xr-section-summary-in' type='checkbox'  ><label for='section-4f741554-d5b2-4c30-a101-d23930d9afe4' class='xr-section-summary' >Indexes: <span>(4)</span></label><div class='xr-section-inline-details'></div><div class='xr-section-details'><ul class='xr-var-list'><li class='xr-var-item'><div class='xr-index-name'><div>layer</div></div><div class='xr-index-preview'>PandasIndex</div><input type='checkbox' disabled/><label></label><input id='index-a514da15-d1a6-47da-badc-b9f0dc1c09ab' class='xr-index-data-in' type='checkbox'/><label for='index-a514da15-d1a6-47da-badc-b9f0dc1c09ab' title='Show/Hide index repr'><svg class='icon xr-icon-database'><use xlink:href='#icon-database'></use></svg></label><div class='xr-index-data'><pre>PandasIndex(Index([0], dtype=&#x27;int64&#x27;, name=&#x27;layer&#x27;))</pre></div></li><li class='xr-var-item'><div class='xr-index-name'><div>time</div></div><div class='xr-index-preview'>PandasIndex</div><input type='checkbox' disabled/><label></label><input id='index-74c71014-0592-401a-a36e-168bb9917845' class='xr-index-data-in' type='checkbox'/><label for='index-74c71014-0592-401a-a36e-168bb9917845' title='Show/Hide index repr'><svg class='icon xr-icon-database'><use xlink:href='#icon-database'></use></svg></label><div class='xr-index-data'><pre>PandasIndex(DatetimeIndex([&#x27;2005-06-30&#x27;, &#x27;2005-07-31&#x27;, &#x27;2005-08-31&#x27;, &#x27;2005-09-30&#x27;,\n",
       "               &#x27;2005-10-31&#x27;, &#x27;2005-11-30&#x27;, &#x27;2005-12-31&#x27;, &#x27;2006-01-31&#x27;,\n",
       "               &#x27;2006-02-28&#x27;, &#x27;2006-03-31&#x27;, &#x27;2006-04-30&#x27;, &#x27;2006-05-31&#x27;,\n",
       "               &#x27;2006-06-30&#x27;, &#x27;2006-07-31&#x27;, &#x27;2006-08-31&#x27;, &#x27;2006-09-30&#x27;,\n",
       "               &#x27;2006-10-31&#x27;, &#x27;2006-11-30&#x27;, &#x27;2006-12-31&#x27;, &#x27;2007-01-31&#x27;,\n",
       "               &#x27;2007-02-28&#x27;, &#x27;2007-03-31&#x27;, &#x27;2007-04-30&#x27;, &#x27;2007-05-31&#x27;,\n",
       "               &#x27;2007-06-30&#x27;, &#x27;2007-07-31&#x27;, &#x27;2007-08-31&#x27;, &#x27;2007-09-30&#x27;,\n",
       "               &#x27;2007-10-31&#x27;, &#x27;2007-11-30&#x27;, &#x27;2007-12-31&#x27;, &#x27;2008-01-31&#x27;,\n",
       "               &#x27;2008-02-29&#x27;, &#x27;2008-03-31&#x27;, &#x27;2008-04-30&#x27;, &#x27;2008-05-31&#x27;,\n",
       "               &#x27;2008-06-30&#x27;, &#x27;2008-07-31&#x27;, &#x27;2008-08-31&#x27;, &#x27;2008-09-30&#x27;,\n",
       "               &#x27;2008-10-31&#x27;, &#x27;2008-11-30&#x27;, &#x27;2008-12-31&#x27;, &#x27;2009-01-31&#x27;,\n",
       "               &#x27;2009-02-28&#x27;, &#x27;2009-03-31&#x27;, &#x27;2009-04-30&#x27;, &#x27;2009-05-31&#x27;,\n",
       "               &#x27;2009-06-30&#x27;, &#x27;2009-07-31&#x27;, &#x27;2009-08-31&#x27;, &#x27;2009-09-30&#x27;,\n",
       "               &#x27;2009-10-31&#x27;, &#x27;2009-11-30&#x27;],\n",
       "              dtype=&#x27;datetime64[ns]&#x27;, name=&#x27;time&#x27;, freq=&#x27;ME&#x27;))</pre></div></li><li class='xr-var-item'><div class='xr-index-name'><div>latitude</div></div><div class='xr-index-preview'>PandasIndex</div><input type='checkbox' disabled/><label></label><input id='index-65038385-6843-4b29-b4ab-8b5770ef33b8' class='xr-index-data-in' type='checkbox'/><label for='index-65038385-6843-4b29-b4ab-8b5770ef33b8' title='Show/Hide index repr'><svg class='icon xr-icon-database'><use xlink:href='#icon-database'></use></svg></label><div class='xr-index-data'><pre>PandasIndex(Index([22.75], dtype=&#x27;float64&#x27;, name=&#x27;latitude&#x27;))</pre></div></li><li class='xr-var-item'><div class='xr-index-name'><div>longitude</div></div><div class='xr-index-preview'>PandasIndex</div><input type='checkbox' disabled/><label></label><input id='index-aeea3dd4-510c-46b8-bca9-9ab112355740' class='xr-index-data-in' type='checkbox'/><label for='index-aeea3dd4-510c-46b8-bca9-9ab112355740' title='Show/Hide index repr'><svg class='icon xr-icon-database'><use xlink:href='#icon-database'></use></svg></label><div class='xr-index-data'><pre>PandasIndex(Index([-158], dtype=&#x27;int64&#x27;, name=&#x27;longitude&#x27;))</pre></div></li></ul></div></li><li class='xr-section-item'><input id='section-81cbc4fb-a7dc-4bdf-919a-42f3a4c148dd' class='xr-section-summary-in' type='checkbox' disabled ><label for='section-81cbc4fb-a7dc-4bdf-919a-42f3a4c148dd' class='xr-section-summary'  title='Expand/collapse section'>Attributes: <span>(0)</span></label><div class='xr-section-inline-details'></div><div class='xr-section-details'><dl class='xr-attrs'></dl></div></li></ul></div></div>"
      ],
      "text/plain": [
       "<xarray.Dataset> Size: 1kB\n",
       "Dimensions:    (time: 54, layer: 1, latitude: 1, longitude: 1)\n",
       "Coordinates: (4)\n",
       "Data variables: (2)"
      ]
     },
     "execution_count": 29,
     "metadata": {},
     "output_type": "execute_result"
    }
   ],
   "source": [
    "observations_selected_without_init = observations_selected.isel(time=slice(STABILIZATION_TIME, None))\n",
    "observations_selected_without_init"
   ]
  },
  {
   "cell_type": "markdown",
   "metadata": {},
   "source": [
    "Create structure for SeapoPym simulation.\n"
   ]
  },
  {
   "cell_type": "code",
   "execution_count": 30,
   "metadata": {},
   "outputs": [
    {
     "name": "stderr",
     "output_type": "stream",
     "text": [
      "\u001b[38;5;226m2025-02-03 13:55:33,751 :: Seapodym ::  WARNING ::\n",
      "|\tl12 unit is milligram / day / meter ** 2, it will be converted to kilogram / day / meter ** 2.\n",
      "\u001b[0m\n"
     ]
    }
   ],
   "source": [
    "forcing_parameters = ForcingParameters(\n",
    "    temperature=ForcingUnit(forcing=forcing[\"T\"], resolution=1 / 12, timestep=1),\n",
    "    primary_production=ForcingUnit(forcing=observed_npp[\"l12\"], resolution=1 / 12, timestep=1),\n",
    ")"
   ]
  },
  {
   "cell_type": "markdown",
   "metadata": {},
   "source": [
    "## Setup the parameters and the cost function\n"
   ]
  },
  {
   "cell_type": "code",
   "execution_count": 31,
   "metadata": {},
   "outputs": [],
   "source": [
    "functional_groups = [\n",
    "    FunctionalGroupOptimizeNoTransport(\n",
    "        name=\"D1N1\",\n",
    "        day_layer=0,\n",
    "        night_layer=0,\n",
    "        energy_coefficient=Parameter(\"D1N1_energy_coefficient\", 0.001, 0.4),\n",
    "        tr_rate=Parameter(\"D1N1_tr_rate\", -0.3, -0.001),\n",
    "        tr_max=Parameter(\"D1N1_tr_max\", 0, 50),\n",
    "        inv_lambda_rate=Parameter(\"D1N1_inv_lambda_rate\", -0.3, -0.001),\n",
    "        inv_lambda_max=Parameter(\"D1N1_inv_lambda_max\", 100, 200),\n",
    "    ),\n",
    "    FunctionalGroupOptimizeNoTransport(\n",
    "        name=\"D2N1\",\n",
    "        day_layer=1,\n",
    "        night_layer=0,\n",
    "        energy_coefficient=Parameter(\"D2N1_energy_coefficient\", 0.001, 0.4),\n",
    "        tr_rate=Parameter(\"D2N1_tr_rate\", -0.3, -0.001),\n",
    "        tr_max=Parameter(\"D2N1_tr_max\", 0, 50),\n",
    "        inv_lambda_rate=Parameter(\"D2N1_inv_lambda_rate\", -0.3, -0.001),\n",
    "        inv_lambda_max=Parameter(\"D2N1_inv_lambda_max\", 100, 200),\n",
    "    ),\n",
    "]"
   ]
  },
  {
   "cell_type": "code",
   "execution_count": 32,
   "metadata": {},
   "outputs": [],
   "source": [
    "cost_function = NoTransportCostFunction(\n",
    "    functional_groups=functional_groups,\n",
    "    forcing_parameters=forcing_parameters,\n",
    "    observations=[Observation(observations_selected_without_init)],\n",
    "    standardize_rmse=True,\n",
    ")"
   ]
  },
  {
   "cell_type": "markdown",
   "metadata": {},
   "source": [
    "Set the genetic algorithm meta parameters.\n"
   ]
  },
  {
   "cell_type": "code",
   "execution_count": 33,
   "metadata": {},
   "outputs": [],
   "source": [
    "genetic_algo_parameters = GeneticAlgorithmParameters(\n",
    "    MUTPB=0.15,\n",
    "    INDPB=0.1,\n",
    "    ETA=5,\n",
    "    CXPB=0.7,\n",
    "    NGEN=6,\n",
    "    POP_SIZE=10,\n",
    "    cost_function_weight=(-1,),\n",
    ")"
   ]
  },
  {
   "cell_type": "markdown",
   "metadata": {},
   "source": [
    "Add a constraint to limit the total of energy transfert coefficient to 100%.\n"
   ]
  },
  {
   "cell_type": "code",
   "execution_count": 34,
   "metadata": {},
   "outputs": [],
   "source": [
    "constraint_energy = constraint.ConstraintNoTransportEnergyCoefficient(\n",
    "    parameters_name=[\"D1N1_energy_coefficient\", \"D2N1_energy_coefficient\"],\n",
    "    min_energy_coef_value=0,\n",
    "    max_energy_coef_value=1,\n",
    ")"
   ]
  },
  {
   "cell_type": "markdown",
   "metadata": {},
   "source": [
    "Finaly, create the Genetic Algorithm.\n"
   ]
  },
  {
   "cell_type": "code",
   "execution_count": 35,
   "metadata": {},
   "outputs": [
    {
     "name": "stderr",
     "output_type": "stream",
     "text": [
      "/Users/adm-lehodey/Documents/Workspace/Projects/Seapopym-optimisation/.venv/lib/python3.12/site-packages/distributed/node.py:187: UserWarning:\n",
      "\n",
      "Port 8787 is already in use.\n",
      "Perhaps you already have a cluster running?\n",
      "Hosting the HTTP server on port 64768 instead\n",
      "\n"
     ]
    }
   ],
   "source": [
    "client = Client()\n",
    "genetic_algo = GeneticAlgorithm(\n",
    "    cost_function=cost_function,\n",
    "    parameter_genetic_algorithm=genetic_algo_parameters,\n",
    "    constraint=[constraint_energy],\n",
    "    client=client,\n",
    "    logbook_path=f\"{export_file_name}_logbook.json\",\n",
    ")"
   ]
  },
  {
   "cell_type": "markdown",
   "metadata": {},
   "source": [
    "And watch the magic on the Dask dashboard :\n"
   ]
  },
  {
   "cell_type": "code",
   "execution_count": 36,
   "metadata": {},
   "outputs": [
    {
     "data": {
      "text/html": [
       "<div>\n",
       "    <div style=\"width: 24px; height: 24px; background-color: #e1e1e1; border: 3px solid #9D9D9D; border-radius: 5px; position: absolute;\"> </div>\n",
       "    <div style=\"margin-left: 48px;\">\n",
       "        <h3 style=\"margin-bottom: 0px;\">Client</h3>\n",
       "        <p style=\"color: #9D9D9D; margin-bottom: 0px;\">Client-280c6b0e-e22e-11ef-a629-36240d3e2cc4</p>\n",
       "        <table style=\"width: 100%; text-align: left;\">\n",
       "\n",
       "        <tr>\n",
       "        \n",
       "            <td style=\"text-align: left;\"><strong>Connection method:</strong> Cluster object</td>\n",
       "            <td style=\"text-align: left;\"><strong>Cluster type:</strong> distributed.LocalCluster</td>\n",
       "        \n",
       "        </tr>\n",
       "\n",
       "        \n",
       "            <tr>\n",
       "                <td style=\"text-align: left;\">\n",
       "                    <strong>Dashboard: </strong> <a href=\"http://127.0.0.1:64768/status\" target=\"_blank\">http://127.0.0.1:64768/status</a>\n",
       "                </td>\n",
       "                <td style=\"text-align: left;\"></td>\n",
       "            </tr>\n",
       "        \n",
       "\n",
       "        </table>\n",
       "\n",
       "        \n",
       "\n",
       "        \n",
       "            <details>\n",
       "            <summary style=\"margin-bottom: 20px;\"><h3 style=\"display: inline;\">Cluster Info</h3></summary>\n",
       "            <div class=\"jp-RenderedHTMLCommon jp-RenderedHTML jp-mod-trusted jp-OutputArea-output\">\n",
       "    <div style=\"width: 24px; height: 24px; background-color: #e1e1e1; border: 3px solid #9D9D9D; border-radius: 5px; position: absolute;\">\n",
       "    </div>\n",
       "    <div style=\"margin-left: 48px;\">\n",
       "        <h3 style=\"margin-bottom: 0px; margin-top: 0px;\">LocalCluster</h3>\n",
       "        <p style=\"color: #9D9D9D; margin-bottom: 0px;\">65bf605a</p>\n",
       "        <table style=\"width: 100%; text-align: left;\">\n",
       "            <tr>\n",
       "                <td style=\"text-align: left;\">\n",
       "                    <strong>Dashboard:</strong> <a href=\"http://127.0.0.1:64768/status\" target=\"_blank\">http://127.0.0.1:64768/status</a>\n",
       "                </td>\n",
       "                <td style=\"text-align: left;\">\n",
       "                    <strong>Workers:</strong> 4\n",
       "                </td>\n",
       "            </tr>\n",
       "            <tr>\n",
       "                <td style=\"text-align: left;\">\n",
       "                    <strong>Total threads:</strong> 12\n",
       "                </td>\n",
       "                <td style=\"text-align: left;\">\n",
       "                    <strong>Total memory:</strong> 48.00 GiB\n",
       "                </td>\n",
       "            </tr>\n",
       "            \n",
       "            <tr>\n",
       "    <td style=\"text-align: left;\"><strong>Status:</strong> running</td>\n",
       "    <td style=\"text-align: left;\"><strong>Using processes:</strong> True</td>\n",
       "</tr>\n",
       "\n",
       "            \n",
       "        </table>\n",
       "\n",
       "        <details>\n",
       "            <summary style=\"margin-bottom: 20px;\">\n",
       "                <h3 style=\"display: inline;\">Scheduler Info</h3>\n",
       "            </summary>\n",
       "\n",
       "            <div style=\"\">\n",
       "    <div>\n",
       "        <div style=\"width: 24px; height: 24px; background-color: #FFF7E5; border: 3px solid #FF6132; border-radius: 5px; position: absolute;\"> </div>\n",
       "        <div style=\"margin-left: 48px;\">\n",
       "            <h3 style=\"margin-bottom: 0px;\">Scheduler</h3>\n",
       "            <p style=\"color: #9D9D9D; margin-bottom: 0px;\">Scheduler-307ccb01-328c-4868-a6b5-60441c7f7500</p>\n",
       "            <table style=\"width: 100%; text-align: left;\">\n",
       "                <tr>\n",
       "                    <td style=\"text-align: left;\">\n",
       "                        <strong>Comm:</strong> tcp://127.0.0.1:64769\n",
       "                    </td>\n",
       "                    <td style=\"text-align: left;\">\n",
       "                        <strong>Workers:</strong> 4\n",
       "                    </td>\n",
       "                </tr>\n",
       "                <tr>\n",
       "                    <td style=\"text-align: left;\">\n",
       "                        <strong>Dashboard:</strong> <a href=\"http://127.0.0.1:64768/status\" target=\"_blank\">http://127.0.0.1:64768/status</a>\n",
       "                    </td>\n",
       "                    <td style=\"text-align: left;\">\n",
       "                        <strong>Total threads:</strong> 12\n",
       "                    </td>\n",
       "                </tr>\n",
       "                <tr>\n",
       "                    <td style=\"text-align: left;\">\n",
       "                        <strong>Started:</strong> Just now\n",
       "                    </td>\n",
       "                    <td style=\"text-align: left;\">\n",
       "                        <strong>Total memory:</strong> 48.00 GiB\n",
       "                    </td>\n",
       "                </tr>\n",
       "            </table>\n",
       "        </div>\n",
       "    </div>\n",
       "\n",
       "    <details style=\"margin-left: 48px;\">\n",
       "        <summary style=\"margin-bottom: 20px;\">\n",
       "            <h3 style=\"display: inline;\">Workers</h3>\n",
       "        </summary>\n",
       "\n",
       "        \n",
       "        <div style=\"margin-bottom: 20px;\">\n",
       "            <div style=\"width: 24px; height: 24px; background-color: #DBF5FF; border: 3px solid #4CC9FF; border-radius: 5px; position: absolute;\"> </div>\n",
       "            <div style=\"margin-left: 48px;\">\n",
       "            <details>\n",
       "                <summary>\n",
       "                    <h4 style=\"margin-bottom: 0px; display: inline;\">Worker: 0</h4>\n",
       "                </summary>\n",
       "                <table style=\"width: 100%; text-align: left;\">\n",
       "                    <tr>\n",
       "                        <td style=\"text-align: left;\">\n",
       "                            <strong>Comm: </strong> tcp://127.0.0.1:64782\n",
       "                        </td>\n",
       "                        <td style=\"text-align: left;\">\n",
       "                            <strong>Total threads: </strong> 3\n",
       "                        </td>\n",
       "                    </tr>\n",
       "                    <tr>\n",
       "                        <td style=\"text-align: left;\">\n",
       "                            <strong>Dashboard: </strong> <a href=\"http://127.0.0.1:64787/status\" target=\"_blank\">http://127.0.0.1:64787/status</a>\n",
       "                        </td>\n",
       "                        <td style=\"text-align: left;\">\n",
       "                            <strong>Memory: </strong> 12.00 GiB\n",
       "                        </td>\n",
       "                    </tr>\n",
       "                    <tr>\n",
       "                        <td style=\"text-align: left;\">\n",
       "                            <strong>Nanny: </strong> tcp://127.0.0.1:64772\n",
       "                        </td>\n",
       "                        <td style=\"text-align: left;\"></td>\n",
       "                    </tr>\n",
       "                    <tr>\n",
       "                        <td colspan=\"2\" style=\"text-align: left;\">\n",
       "                            <strong>Local directory: </strong> /var/folders/z_/8j3qx1mn0299kkpjgz9g53780000gq/T/dask-scratch-space/worker-sg4m9wkq\n",
       "                        </td>\n",
       "                    </tr>\n",
       "\n",
       "                    \n",
       "\n",
       "                    \n",
       "\n",
       "                </table>\n",
       "            </details>\n",
       "            </div>\n",
       "        </div>\n",
       "        \n",
       "        <div style=\"margin-bottom: 20px;\">\n",
       "            <div style=\"width: 24px; height: 24px; background-color: #DBF5FF; border: 3px solid #4CC9FF; border-radius: 5px; position: absolute;\"> </div>\n",
       "            <div style=\"margin-left: 48px;\">\n",
       "            <details>\n",
       "                <summary>\n",
       "                    <h4 style=\"margin-bottom: 0px; display: inline;\">Worker: 1</h4>\n",
       "                </summary>\n",
       "                <table style=\"width: 100%; text-align: left;\">\n",
       "                    <tr>\n",
       "                        <td style=\"text-align: left;\">\n",
       "                            <strong>Comm: </strong> tcp://127.0.0.1:64783\n",
       "                        </td>\n",
       "                        <td style=\"text-align: left;\">\n",
       "                            <strong>Total threads: </strong> 3\n",
       "                        </td>\n",
       "                    </tr>\n",
       "                    <tr>\n",
       "                        <td style=\"text-align: left;\">\n",
       "                            <strong>Dashboard: </strong> <a href=\"http://127.0.0.1:64790/status\" target=\"_blank\">http://127.0.0.1:64790/status</a>\n",
       "                        </td>\n",
       "                        <td style=\"text-align: left;\">\n",
       "                            <strong>Memory: </strong> 12.00 GiB\n",
       "                        </td>\n",
       "                    </tr>\n",
       "                    <tr>\n",
       "                        <td style=\"text-align: left;\">\n",
       "                            <strong>Nanny: </strong> tcp://127.0.0.1:64774\n",
       "                        </td>\n",
       "                        <td style=\"text-align: left;\"></td>\n",
       "                    </tr>\n",
       "                    <tr>\n",
       "                        <td colspan=\"2\" style=\"text-align: left;\">\n",
       "                            <strong>Local directory: </strong> /var/folders/z_/8j3qx1mn0299kkpjgz9g53780000gq/T/dask-scratch-space/worker-b73cm5or\n",
       "                        </td>\n",
       "                    </tr>\n",
       "\n",
       "                    \n",
       "\n",
       "                    \n",
       "\n",
       "                </table>\n",
       "            </details>\n",
       "            </div>\n",
       "        </div>\n",
       "        \n",
       "        <div style=\"margin-bottom: 20px;\">\n",
       "            <div style=\"width: 24px; height: 24px; background-color: #DBF5FF; border: 3px solid #4CC9FF; border-radius: 5px; position: absolute;\"> </div>\n",
       "            <div style=\"margin-left: 48px;\">\n",
       "            <details>\n",
       "                <summary>\n",
       "                    <h4 style=\"margin-bottom: 0px; display: inline;\">Worker: 2</h4>\n",
       "                </summary>\n",
       "                <table style=\"width: 100%; text-align: left;\">\n",
       "                    <tr>\n",
       "                        <td style=\"text-align: left;\">\n",
       "                            <strong>Comm: </strong> tcp://127.0.0.1:64781\n",
       "                        </td>\n",
       "                        <td style=\"text-align: left;\">\n",
       "                            <strong>Total threads: </strong> 3\n",
       "                        </td>\n",
       "                    </tr>\n",
       "                    <tr>\n",
       "                        <td style=\"text-align: left;\">\n",
       "                            <strong>Dashboard: </strong> <a href=\"http://127.0.0.1:64786/status\" target=\"_blank\">http://127.0.0.1:64786/status</a>\n",
       "                        </td>\n",
       "                        <td style=\"text-align: left;\">\n",
       "                            <strong>Memory: </strong> 12.00 GiB\n",
       "                        </td>\n",
       "                    </tr>\n",
       "                    <tr>\n",
       "                        <td style=\"text-align: left;\">\n",
       "                            <strong>Nanny: </strong> tcp://127.0.0.1:64776\n",
       "                        </td>\n",
       "                        <td style=\"text-align: left;\"></td>\n",
       "                    </tr>\n",
       "                    <tr>\n",
       "                        <td colspan=\"2\" style=\"text-align: left;\">\n",
       "                            <strong>Local directory: </strong> /var/folders/z_/8j3qx1mn0299kkpjgz9g53780000gq/T/dask-scratch-space/worker-5usr42ri\n",
       "                        </td>\n",
       "                    </tr>\n",
       "\n",
       "                    \n",
       "\n",
       "                    \n",
       "\n",
       "                </table>\n",
       "            </details>\n",
       "            </div>\n",
       "        </div>\n",
       "        \n",
       "        <div style=\"margin-bottom: 20px;\">\n",
       "            <div style=\"width: 24px; height: 24px; background-color: #DBF5FF; border: 3px solid #4CC9FF; border-radius: 5px; position: absolute;\"> </div>\n",
       "            <div style=\"margin-left: 48px;\">\n",
       "            <details>\n",
       "                <summary>\n",
       "                    <h4 style=\"margin-bottom: 0px; display: inline;\">Worker: 3</h4>\n",
       "                </summary>\n",
       "                <table style=\"width: 100%; text-align: left;\">\n",
       "                    <tr>\n",
       "                        <td style=\"text-align: left;\">\n",
       "                            <strong>Comm: </strong> tcp://127.0.0.1:64780\n",
       "                        </td>\n",
       "                        <td style=\"text-align: left;\">\n",
       "                            <strong>Total threads: </strong> 3\n",
       "                        </td>\n",
       "                    </tr>\n",
       "                    <tr>\n",
       "                        <td style=\"text-align: left;\">\n",
       "                            <strong>Dashboard: </strong> <a href=\"http://127.0.0.1:64784/status\" target=\"_blank\">http://127.0.0.1:64784/status</a>\n",
       "                        </td>\n",
       "                        <td style=\"text-align: left;\">\n",
       "                            <strong>Memory: </strong> 12.00 GiB\n",
       "                        </td>\n",
       "                    </tr>\n",
       "                    <tr>\n",
       "                        <td style=\"text-align: left;\">\n",
       "                            <strong>Nanny: </strong> tcp://127.0.0.1:64778\n",
       "                        </td>\n",
       "                        <td style=\"text-align: left;\"></td>\n",
       "                    </tr>\n",
       "                    <tr>\n",
       "                        <td colspan=\"2\" style=\"text-align: left;\">\n",
       "                            <strong>Local directory: </strong> /var/folders/z_/8j3qx1mn0299kkpjgz9g53780000gq/T/dask-scratch-space/worker-_j8on6j4\n",
       "                        </td>\n",
       "                    </tr>\n",
       "\n",
       "                    \n",
       "\n",
       "                    \n",
       "\n",
       "                </table>\n",
       "            </details>\n",
       "            </div>\n",
       "        </div>\n",
       "        \n",
       "\n",
       "    </details>\n",
       "</div>\n",
       "\n",
       "        </details>\n",
       "    </div>\n",
       "</div>\n",
       "            </details>\n",
       "        \n",
       "\n",
       "    </div>\n",
       "</div>"
      ],
      "text/plain": [
       "<Client: 'tcp://127.0.0.1:64769' processes=4 threads=12, memory=48.00 GiB>"
      ]
     },
     "execution_count": 36,
     "metadata": {},
     "output_type": "execute_result"
    }
   ],
   "source": [
    "genetic_algo.client"
   ]
  },
  {
   "cell_type": "code",
   "execution_count": 39,
   "metadata": {},
   "outputs": [
    {
     "data": {
      "text/html": [
       "<div>\n",
       "<style scoped>\n",
       "    .dataframe tbody tr th:only-of-type {\n",
       "        vertical-align: middle;\n",
       "    }\n",
       "\n",
       "    .dataframe tbody tr th {\n",
       "        vertical-align: top;\n",
       "    }\n",
       "\n",
       "    .dataframe thead th {\n",
       "        text-align: right;\n",
       "    }\n",
       "</style>\n",
       "<table border=\"1\" class=\"dataframe\">\n",
       "  <thead>\n",
       "    <tr style=\"text-align: right;\">\n",
       "      <th></th>\n",
       "      <th></th>\n",
       "      <th></th>\n",
       "      <th>D1N1_energy_coefficient</th>\n",
       "      <th>D1N1_tr_max</th>\n",
       "      <th>D1N1_tr_rate</th>\n",
       "      <th>D1N1_inv_lambda_max</th>\n",
       "      <th>D1N1_inv_lambda_rate</th>\n",
       "      <th>D2N1_energy_coefficient</th>\n",
       "      <th>D2N1_tr_max</th>\n",
       "      <th>D2N1_tr_rate</th>\n",
       "      <th>D2N1_inv_lambda_max</th>\n",
       "      <th>D2N1_inv_lambda_rate</th>\n",
       "      <th>fitness</th>\n",
       "      <th>fitness_final</th>\n",
       "    </tr>\n",
       "    <tr>\n",
       "      <th>generation</th>\n",
       "      <th>previous_generation</th>\n",
       "      <th>individual</th>\n",
       "      <th></th>\n",
       "      <th></th>\n",
       "      <th></th>\n",
       "      <th></th>\n",
       "      <th></th>\n",
       "      <th></th>\n",
       "      <th></th>\n",
       "      <th></th>\n",
       "      <th></th>\n",
       "      <th></th>\n",
       "      <th></th>\n",
       "      <th></th>\n",
       "    </tr>\n",
       "  </thead>\n",
       "  <tbody>\n",
       "    <tr>\n",
       "      <th rowspan=\"10\" valign=\"top\">0</th>\n",
       "      <th rowspan=\"10\" valign=\"top\">False</th>\n",
       "      <th>0</th>\n",
       "      <td>0.053100</td>\n",
       "      <td>21.466043</td>\n",
       "      <td>-0.230568</td>\n",
       "      <td>181.486639</td>\n",
       "      <td>-0.087868</td>\n",
       "      <td>0.247850</td>\n",
       "      <td>15.531888</td>\n",
       "      <td>-0.090061</td>\n",
       "      <td>111.418525</td>\n",
       "      <td>-0.267854</td>\n",
       "      <td>(1.2381876819750972,)</td>\n",
       "      <td>-1.238188</td>\n",
       "    </tr>\n",
       "    <tr>\n",
       "      <th>1</th>\n",
       "      <td>0.101965</td>\n",
       "      <td>27.443872</td>\n",
       "      <td>-0.091086</td>\n",
       "      <td>189.555128</td>\n",
       "      <td>-0.296770</td>\n",
       "      <td>0.169737</td>\n",
       "      <td>22.503801</td>\n",
       "      <td>-0.069105</td>\n",
       "      <td>153.994558</td>\n",
       "      <td>-0.029561</td>\n",
       "      <td>(402.850266430689,)</td>\n",
       "      <td>-402.850266</td>\n",
       "    </tr>\n",
       "    <tr>\n",
       "      <th>2</th>\n",
       "      <td>0.230324</td>\n",
       "      <td>39.896419</td>\n",
       "      <td>-0.132126</td>\n",
       "      <td>121.733320</td>\n",
       "      <td>-0.212111</td>\n",
       "      <td>0.345928</td>\n",
       "      <td>7.017287</td>\n",
       "      <td>-0.279997</td>\n",
       "      <td>135.666190</td>\n",
       "      <td>-0.127127</td>\n",
       "      <td>(26.192797499798463,)</td>\n",
       "      <td>-26.192797</td>\n",
       "    </tr>\n",
       "    <tr>\n",
       "      <th>3</th>\n",
       "      <td>0.232497</td>\n",
       "      <td>6.961346</td>\n",
       "      <td>-0.045456</td>\n",
       "      <td>102.410560</td>\n",
       "      <td>-0.102842</td>\n",
       "      <td>0.290002</td>\n",
       "      <td>44.272271</td>\n",
       "      <td>-0.290416</td>\n",
       "      <td>135.017769</td>\n",
       "      <td>-0.063486</td>\n",
       "      <td>(352.7949100036306,)</td>\n",
       "      <td>-352.794910</td>\n",
       "    </tr>\n",
       "    <tr>\n",
       "      <th>4</th>\n",
       "      <td>0.278195</td>\n",
       "      <td>20.784287</td>\n",
       "      <td>-0.061159</td>\n",
       "      <td>174.038244</td>\n",
       "      <td>-0.147471</td>\n",
       "      <td>0.015765</td>\n",
       "      <td>8.360195</td>\n",
       "      <td>-0.006769</td>\n",
       "      <td>168.870619</td>\n",
       "      <td>-0.256821</td>\n",
       "      <td>(2.8083765666330107,)</td>\n",
       "      <td>-2.808377</td>\n",
       "    </tr>\n",
       "    <tr>\n",
       "      <th>5</th>\n",
       "      <td>0.089854</td>\n",
       "      <td>35.050079</td>\n",
       "      <td>-0.193839</td>\n",
       "      <td>166.710821</td>\n",
       "      <td>-0.133494</td>\n",
       "      <td>0.230879</td>\n",
       "      <td>24.187143</td>\n",
       "      <td>-0.224469</td>\n",
       "      <td>115.122249</td>\n",
       "      <td>-0.004375</td>\n",
       "      <td>(1212.1610086686767,)</td>\n",
       "      <td>-1212.161009</td>\n",
       "    </tr>\n",
       "    <tr>\n",
       "      <th>6</th>\n",
       "      <td>0.219160</td>\n",
       "      <td>11.594553</td>\n",
       "      <td>-0.227008</td>\n",
       "      <td>145.713102</td>\n",
       "      <td>-0.220305</td>\n",
       "      <td>0.222480</td>\n",
       "      <td>34.387527</td>\n",
       "      <td>-0.285378</td>\n",
       "      <td>118.806101</td>\n",
       "      <td>-0.195478</td>\n",
       "      <td>(0.47417910444180456,)</td>\n",
       "      <td>-0.474179</td>\n",
       "    </tr>\n",
       "    <tr>\n",
       "      <th>7</th>\n",
       "      <td>0.040227</td>\n",
       "      <td>47.974884</td>\n",
       "      <td>-0.125023</td>\n",
       "      <td>121.719677</td>\n",
       "      <td>-0.270878</td>\n",
       "      <td>0.167731</td>\n",
       "      <td>29.675283</td>\n",
       "      <td>-0.065405</td>\n",
       "      <td>191.040897</td>\n",
       "      <td>-0.010867</td>\n",
       "      <td>(1240.6431200949967,)</td>\n",
       "      <td>-1240.643120</td>\n",
       "    </tr>\n",
       "    <tr>\n",
       "      <th>8</th>\n",
       "      <td>0.030809</td>\n",
       "      <td>13.296763</td>\n",
       "      <td>-0.157644</td>\n",
       "      <td>173.172424</td>\n",
       "      <td>-0.112968</td>\n",
       "      <td>0.195217</td>\n",
       "      <td>13.985397</td>\n",
       "      <td>-0.044817</td>\n",
       "      <td>150.852160</td>\n",
       "      <td>-0.041405</td>\n",
       "      <td>(336.60292652333817,)</td>\n",
       "      <td>-336.602927</td>\n",
       "    </tr>\n",
       "    <tr>\n",
       "      <th>9</th>\n",
       "      <td>0.198243</td>\n",
       "      <td>1.253786</td>\n",
       "      <td>-0.138523</td>\n",
       "      <td>150.910525</td>\n",
       "      <td>-0.070955</td>\n",
       "      <td>0.241328</td>\n",
       "      <td>14.831593</td>\n",
       "      <td>-0.298861</td>\n",
       "      <td>190.965480</td>\n",
       "      <td>-0.108166</td>\n",
       "      <td>(295.0451099989962,)</td>\n",
       "      <td>-295.045110</td>\n",
       "    </tr>\n",
       "    <tr>\n",
       "      <th rowspan=\"10\" valign=\"top\">1</th>\n",
       "      <th rowspan=\"10\" valign=\"top\">False</th>\n",
       "      <th>0</th>\n",
       "      <td>0.219160</td>\n",
       "      <td>11.594553</td>\n",
       "      <td>-0.227008</td>\n",
       "      <td>145.713102</td>\n",
       "      <td>-0.220305</td>\n",
       "      <td>0.222480</td>\n",
       "      <td>34.387527</td>\n",
       "      <td>-0.090061</td>\n",
       "      <td>118.806101</td>\n",
       "      <td>-0.195478</td>\n",
       "      <td>(0.46857980733826166,)</td>\n",
       "      <td>-0.468580</td>\n",
       "    </tr>\n",
       "    <tr>\n",
       "      <th>1</th>\n",
       "      <td>0.053100</td>\n",
       "      <td>21.466043</td>\n",
       "      <td>-0.230568</td>\n",
       "      <td>181.486639</td>\n",
       "      <td>-0.087868</td>\n",
       "      <td>0.247850</td>\n",
       "      <td>15.531888</td>\n",
       "      <td>-0.285378</td>\n",
       "      <td>111.418525</td>\n",
       "      <td>-0.267854</td>\n",
       "      <td>(1.2391568251642147,)</td>\n",
       "      <td>-1.239157</td>\n",
       "    </tr>\n",
       "    <tr>\n",
       "      <th>2</th>\n",
       "      <td>0.278195</td>\n",
       "      <td>20.784287</td>\n",
       "      <td>-0.061159</td>\n",
       "      <td>174.038244</td>\n",
       "      <td>-0.147471</td>\n",
       "      <td>0.015765</td>\n",
       "      <td>8.360195</td>\n",
       "      <td>-0.006769</td>\n",
       "      <td>168.870619</td>\n",
       "      <td>-0.256821</td>\n",
       "      <td>(2.8083765666330107,)</td>\n",
       "      <td>-2.808377</td>\n",
       "    </tr>\n",
       "    <tr>\n",
       "      <th>3</th>\n",
       "      <td>0.278195</td>\n",
       "      <td>20.784287</td>\n",
       "      <td>-0.061159</td>\n",
       "      <td>174.038244</td>\n",
       "      <td>-0.147471</td>\n",
       "      <td>0.015765</td>\n",
       "      <td>8.360195</td>\n",
       "      <td>-0.006769</td>\n",
       "      <td>168.870619</td>\n",
       "      <td>-0.256821</td>\n",
       "      <td>(2.8083765666330107,)</td>\n",
       "      <td>-2.808377</td>\n",
       "    </tr>\n",
       "    <tr>\n",
       "      <th>4</th>\n",
       "      <td>0.219160</td>\n",
       "      <td>21.466043</td>\n",
       "      <td>-0.230568</td>\n",
       "      <td>181.486639</td>\n",
       "      <td>-0.087868</td>\n",
       "      <td>0.247850</td>\n",
       "      <td>15.531888</td>\n",
       "      <td>-0.285378</td>\n",
       "      <td>118.806101</td>\n",
       "      <td>-0.195478</td>\n",
       "      <td>(97.68600245130067,)</td>\n",
       "      <td>-97.686002</td>\n",
       "    </tr>\n",
       "    <tr>\n",
       "      <th>5</th>\n",
       "      <td>0.053100</td>\n",
       "      <td>11.594553</td>\n",
       "      <td>-0.227008</td>\n",
       "      <td>145.713102</td>\n",
       "      <td>-0.220305</td>\n",
       "      <td>0.222480</td>\n",
       "      <td>34.387527</td>\n",
       "      <td>-0.090061</td>\n",
       "      <td>111.418525</td>\n",
       "      <td>-0.267854</td>\n",
       "      <td>(2.098556876420844,)</td>\n",
       "      <td>-2.098557</td>\n",
       "    </tr>\n",
       "    <tr>\n",
       "      <th>6</th>\n",
       "      <td>0.219160</td>\n",
       "      <td>11.594553</td>\n",
       "      <td>-0.227008</td>\n",
       "      <td>145.713102</td>\n",
       "      <td>-0.220305</td>\n",
       "      <td>0.345928</td>\n",
       "      <td>34.387527</td>\n",
       "      <td>-0.285378</td>\n",
       "      <td>118.806101</td>\n",
       "      <td>-0.195478</td>\n",
       "      <td>(0.7791075644566238,)</td>\n",
       "      <td>-0.779108</td>\n",
       "    </tr>\n",
       "    <tr>\n",
       "      <th>7</th>\n",
       "      <td>0.230324</td>\n",
       "      <td>39.896419</td>\n",
       "      <td>-0.132126</td>\n",
       "      <td>121.733320</td>\n",
       "      <td>-0.212111</td>\n",
       "      <td>0.222480</td>\n",
       "      <td>7.017287</td>\n",
       "      <td>-0.279997</td>\n",
       "      <td>135.666190</td>\n",
       "      <td>-0.127127</td>\n",
       "      <td>(8.697199317618825,)</td>\n",
       "      <td>-8.697199</td>\n",
       "    </tr>\n",
       "    <tr>\n",
       "      <th>8</th>\n",
       "      <td>0.053100</td>\n",
       "      <td>11.594553</td>\n",
       "      <td>-0.227008</td>\n",
       "      <td>145.713102</td>\n",
       "      <td>-0.220305</td>\n",
       "      <td>0.247850</td>\n",
       "      <td>15.531888</td>\n",
       "      <td>-0.090061</td>\n",
       "      <td>111.418525</td>\n",
       "      <td>-0.267854</td>\n",
       "      <td>(2.0028769630326657,)</td>\n",
       "      <td>-2.002877</td>\n",
       "    </tr>\n",
       "    <tr>\n",
       "      <th>9</th>\n",
       "      <td>0.219160</td>\n",
       "      <td>21.466043</td>\n",
       "      <td>-0.230568</td>\n",
       "      <td>181.486639</td>\n",
       "      <td>-0.087868</td>\n",
       "      <td>0.222480</td>\n",
       "      <td>34.387527</td>\n",
       "      <td>-0.285378</td>\n",
       "      <td>118.806101</td>\n",
       "      <td>-0.195478</td>\n",
       "      <td>(96.00214080689909,)</td>\n",
       "      <td>-96.002141</td>\n",
       "    </tr>\n",
       "  </tbody>\n",
       "</table>\n",
       "</div>"
      ],
      "text/plain": [
       "                                           D1N1_energy_coefficient  \\\n",
       "generation previous_generation individual                            \n",
       "0          False               0                          0.053100   \n",
       "                               1                          0.101965   \n",
       "                               2                          0.230324   \n",
       "                               3                          0.232497   \n",
       "                               4                          0.278195   \n",
       "                               5                          0.089854   \n",
       "                               6                          0.219160   \n",
       "                               7                          0.040227   \n",
       "                               8                          0.030809   \n",
       "                               9                          0.198243   \n",
       "1          False               0                          0.219160   \n",
       "                               1                          0.053100   \n",
       "                               2                          0.278195   \n",
       "                               3                          0.278195   \n",
       "                               4                          0.219160   \n",
       "                               5                          0.053100   \n",
       "                               6                          0.219160   \n",
       "                               7                          0.230324   \n",
       "                               8                          0.053100   \n",
       "                               9                          0.219160   \n",
       "\n",
       "                                           D1N1_tr_max  D1N1_tr_rate  \\\n",
       "generation previous_generation individual                              \n",
       "0          False               0             21.466043     -0.230568   \n",
       "                               1             27.443872     -0.091086   \n",
       "                               2             39.896419     -0.132126   \n",
       "                               3              6.961346     -0.045456   \n",
       "                               4             20.784287     -0.061159   \n",
       "                               5             35.050079     -0.193839   \n",
       "                               6             11.594553     -0.227008   \n",
       "                               7             47.974884     -0.125023   \n",
       "                               8             13.296763     -0.157644   \n",
       "                               9              1.253786     -0.138523   \n",
       "1          False               0             11.594553     -0.227008   \n",
       "                               1             21.466043     -0.230568   \n",
       "                               2             20.784287     -0.061159   \n",
       "                               3             20.784287     -0.061159   \n",
       "                               4             21.466043     -0.230568   \n",
       "                               5             11.594553     -0.227008   \n",
       "                               6             11.594553     -0.227008   \n",
       "                               7             39.896419     -0.132126   \n",
       "                               8             11.594553     -0.227008   \n",
       "                               9             21.466043     -0.230568   \n",
       "\n",
       "                                           D1N1_inv_lambda_max  \\\n",
       "generation previous_generation individual                        \n",
       "0          False               0                    181.486639   \n",
       "                               1                    189.555128   \n",
       "                               2                    121.733320   \n",
       "                               3                    102.410560   \n",
       "                               4                    174.038244   \n",
       "                               5                    166.710821   \n",
       "                               6                    145.713102   \n",
       "                               7                    121.719677   \n",
       "                               8                    173.172424   \n",
       "                               9                    150.910525   \n",
       "1          False               0                    145.713102   \n",
       "                               1                    181.486639   \n",
       "                               2                    174.038244   \n",
       "                               3                    174.038244   \n",
       "                               4                    181.486639   \n",
       "                               5                    145.713102   \n",
       "                               6                    145.713102   \n",
       "                               7                    121.733320   \n",
       "                               8                    145.713102   \n",
       "                               9                    181.486639   \n",
       "\n",
       "                                           D1N1_inv_lambda_rate  \\\n",
       "generation previous_generation individual                         \n",
       "0          False               0                      -0.087868   \n",
       "                               1                      -0.296770   \n",
       "                               2                      -0.212111   \n",
       "                               3                      -0.102842   \n",
       "                               4                      -0.147471   \n",
       "                               5                      -0.133494   \n",
       "                               6                      -0.220305   \n",
       "                               7                      -0.270878   \n",
       "                               8                      -0.112968   \n",
       "                               9                      -0.070955   \n",
       "1          False               0                      -0.220305   \n",
       "                               1                      -0.087868   \n",
       "                               2                      -0.147471   \n",
       "                               3                      -0.147471   \n",
       "                               4                      -0.087868   \n",
       "                               5                      -0.220305   \n",
       "                               6                      -0.220305   \n",
       "                               7                      -0.212111   \n",
       "                               8                      -0.220305   \n",
       "                               9                      -0.087868   \n",
       "\n",
       "                                           D2N1_energy_coefficient  \\\n",
       "generation previous_generation individual                            \n",
       "0          False               0                          0.247850   \n",
       "                               1                          0.169737   \n",
       "                               2                          0.345928   \n",
       "                               3                          0.290002   \n",
       "                               4                          0.015765   \n",
       "                               5                          0.230879   \n",
       "                               6                          0.222480   \n",
       "                               7                          0.167731   \n",
       "                               8                          0.195217   \n",
       "                               9                          0.241328   \n",
       "1          False               0                          0.222480   \n",
       "                               1                          0.247850   \n",
       "                               2                          0.015765   \n",
       "                               3                          0.015765   \n",
       "                               4                          0.247850   \n",
       "                               5                          0.222480   \n",
       "                               6                          0.345928   \n",
       "                               7                          0.222480   \n",
       "                               8                          0.247850   \n",
       "                               9                          0.222480   \n",
       "\n",
       "                                           D2N1_tr_max  D2N1_tr_rate  \\\n",
       "generation previous_generation individual                              \n",
       "0          False               0             15.531888     -0.090061   \n",
       "                               1             22.503801     -0.069105   \n",
       "                               2              7.017287     -0.279997   \n",
       "                               3             44.272271     -0.290416   \n",
       "                               4              8.360195     -0.006769   \n",
       "                               5             24.187143     -0.224469   \n",
       "                               6             34.387527     -0.285378   \n",
       "                               7             29.675283     -0.065405   \n",
       "                               8             13.985397     -0.044817   \n",
       "                               9             14.831593     -0.298861   \n",
       "1          False               0             34.387527     -0.090061   \n",
       "                               1             15.531888     -0.285378   \n",
       "                               2              8.360195     -0.006769   \n",
       "                               3              8.360195     -0.006769   \n",
       "                               4             15.531888     -0.285378   \n",
       "                               5             34.387527     -0.090061   \n",
       "                               6             34.387527     -0.285378   \n",
       "                               7              7.017287     -0.279997   \n",
       "                               8             15.531888     -0.090061   \n",
       "                               9             34.387527     -0.285378   \n",
       "\n",
       "                                           D2N1_inv_lambda_max  \\\n",
       "generation previous_generation individual                        \n",
       "0          False               0                    111.418525   \n",
       "                               1                    153.994558   \n",
       "                               2                    135.666190   \n",
       "                               3                    135.017769   \n",
       "                               4                    168.870619   \n",
       "                               5                    115.122249   \n",
       "                               6                    118.806101   \n",
       "                               7                    191.040897   \n",
       "                               8                    150.852160   \n",
       "                               9                    190.965480   \n",
       "1          False               0                    118.806101   \n",
       "                               1                    111.418525   \n",
       "                               2                    168.870619   \n",
       "                               3                    168.870619   \n",
       "                               4                    118.806101   \n",
       "                               5                    111.418525   \n",
       "                               6                    118.806101   \n",
       "                               7                    135.666190   \n",
       "                               8                    111.418525   \n",
       "                               9                    118.806101   \n",
       "\n",
       "                                           D2N1_inv_lambda_rate  \\\n",
       "generation previous_generation individual                         \n",
       "0          False               0                      -0.267854   \n",
       "                               1                      -0.029561   \n",
       "                               2                      -0.127127   \n",
       "                               3                      -0.063486   \n",
       "                               4                      -0.256821   \n",
       "                               5                      -0.004375   \n",
       "                               6                      -0.195478   \n",
       "                               7                      -0.010867   \n",
       "                               8                      -0.041405   \n",
       "                               9                      -0.108166   \n",
       "1          False               0                      -0.195478   \n",
       "                               1                      -0.267854   \n",
       "                               2                      -0.256821   \n",
       "                               3                      -0.256821   \n",
       "                               4                      -0.195478   \n",
       "                               5                      -0.267854   \n",
       "                               6                      -0.195478   \n",
       "                               7                      -0.127127   \n",
       "                               8                      -0.267854   \n",
       "                               9                      -0.195478   \n",
       "\n",
       "                                                          fitness  \\\n",
       "generation previous_generation individual                           \n",
       "0          False               0            (1.2381876819750972,)   \n",
       "                               1              (402.850266430689,)   \n",
       "                               2            (26.192797499798463,)   \n",
       "                               3             (352.7949100036306,)   \n",
       "                               4            (2.8083765666330107,)   \n",
       "                               5            (1212.1610086686767,)   \n",
       "                               6           (0.47417910444180456,)   \n",
       "                               7            (1240.6431200949967,)   \n",
       "                               8            (336.60292652333817,)   \n",
       "                               9             (295.0451099989962,)   \n",
       "1          False               0           (0.46857980733826166,)   \n",
       "                               1            (1.2391568251642147,)   \n",
       "                               2            (2.8083765666330107,)   \n",
       "                               3            (2.8083765666330107,)   \n",
       "                               4             (97.68600245130067,)   \n",
       "                               5             (2.098556876420844,)   \n",
       "                               6            (0.7791075644566238,)   \n",
       "                               7             (8.697199317618825,)   \n",
       "                               8            (2.0028769630326657,)   \n",
       "                               9             (96.00214080689909,)   \n",
       "\n",
       "                                           fitness_final  \n",
       "generation previous_generation individual                 \n",
       "0          False               0               -1.238188  \n",
       "                               1             -402.850266  \n",
       "                               2              -26.192797  \n",
       "                               3             -352.794910  \n",
       "                               4               -2.808377  \n",
       "                               5            -1212.161009  \n",
       "                               6               -0.474179  \n",
       "                               7            -1240.643120  \n",
       "                               8             -336.602927  \n",
       "                               9             -295.045110  \n",
       "1          False               0               -0.468580  \n",
       "                               1               -1.239157  \n",
       "                               2               -2.808377  \n",
       "                               3               -2.808377  \n",
       "                               4              -97.686002  \n",
       "                               5               -2.098557  \n",
       "                               6               -0.779108  \n",
       "                               7               -8.697199  \n",
       "                               8               -2.002877  \n",
       "                               9              -96.002141  "
      ]
     },
     "execution_count": 39,
     "metadata": {},
     "output_type": "execute_result"
    }
   ],
   "source": [
    "genetic_algo.logbook"
   ]
  },
  {
   "cell_type": "markdown",
   "metadata": {},
   "source": [
    "## Run the optimization\n"
   ]
  },
  {
   "cell_type": "code",
   "execution_count": 40,
   "metadata": {},
   "outputs": [
    {
     "data": {
      "text/html": [
       "<div>\n",
       "<style scoped>\n",
       "    .dataframe tbody tr th:only-of-type {\n",
       "        vertical-align: middle;\n",
       "    }\n",
       "\n",
       "    .dataframe tbody tr th {\n",
       "        vertical-align: top;\n",
       "    }\n",
       "\n",
       "    .dataframe thead th {\n",
       "        text-align: right;\n",
       "    }\n",
       "</style>\n",
       "<table border=\"1\" class=\"dataframe\">\n",
       "  <thead>\n",
       "    <tr style=\"text-align: right;\">\n",
       "      <th></th>\n",
       "      <th>mean</th>\n",
       "      <th>std</th>\n",
       "      <th>min</th>\n",
       "      <th>max</th>\n",
       "      <th>valid</th>\n",
       "      <th>from_previous_generation</th>\n",
       "    </tr>\n",
       "    <tr>\n",
       "      <th>generation</th>\n",
       "      <th></th>\n",
       "      <th></th>\n",
       "      <th></th>\n",
       "      <th></th>\n",
       "      <th></th>\n",
       "      <th></th>\n",
       "    </tr>\n",
       "  </thead>\n",
       "  <tbody>\n",
       "    <tr>\n",
       "      <th>0</th>\n",
       "      <td>-387.081088</td>\n",
       "      <td>471.170341</td>\n",
       "      <td>-1240.643120</td>\n",
       "      <td>-0.474179</td>\n",
       "      <td>10</td>\n",
       "      <td>0.0</td>\n",
       "    </tr>\n",
       "    <tr>\n",
       "      <th>1</th>\n",
       "      <td>-21.459037</td>\n",
       "      <td>39.799855</td>\n",
       "      <td>-97.686002</td>\n",
       "      <td>-0.468580</td>\n",
       "      <td>10</td>\n",
       "      <td>0.0</td>\n",
       "    </tr>\n",
       "    <tr>\n",
       "      <th>2</th>\n",
       "      <td>-2.550459</td>\n",
       "      <td>3.261856</td>\n",
       "      <td>-8.684666</td>\n",
       "      <td>-0.392868</td>\n",
       "      <td>10</td>\n",
       "      <td>0.0</td>\n",
       "    </tr>\n",
       "    <tr>\n",
       "      <th>3</th>\n",
       "      <td>-0.706404</td>\n",
       "      <td>0.263344</td>\n",
       "      <td>-1.321665</td>\n",
       "      <td>-0.468580</td>\n",
       "      <td>10</td>\n",
       "      <td>0.0</td>\n",
       "    </tr>\n",
       "    <tr>\n",
       "      <th>4</th>\n",
       "      <td>-0.568707</td>\n",
       "      <td>0.140122</td>\n",
       "      <td>-0.763820</td>\n",
       "      <td>-0.443319</td>\n",
       "      <td>10</td>\n",
       "      <td>0.0</td>\n",
       "    </tr>\n",
       "    <tr>\n",
       "      <th>5</th>\n",
       "      <td>-0.478203</td>\n",
       "      <td>0.049313</td>\n",
       "      <td>-0.615332</td>\n",
       "      <td>-0.443319</td>\n",
       "      <td>10</td>\n",
       "      <td>0.4</td>\n",
       "    </tr>\n",
       "  </tbody>\n",
       "</table>\n",
       "</div>"
      ],
      "text/plain": [
       "                  mean         std          min       max  valid  \\\n",
       "generation                                                         \n",
       "0          -387.081088  471.170341 -1240.643120 -0.474179     10   \n",
       "1           -21.459037   39.799855   -97.686002 -0.468580     10   \n",
       "2            -2.550459    3.261856    -8.684666 -0.392868     10   \n",
       "3            -0.706404    0.263344    -1.321665 -0.468580     10   \n",
       "4            -0.568707    0.140122    -0.763820 -0.443319     10   \n",
       "5            -0.478203    0.049313    -0.615332 -0.443319     10   \n",
       "\n",
       "            from_previous_generation  \n",
       "generation                            \n",
       "0                                0.0  \n",
       "1                                0.0  \n",
       "2                                0.0  \n",
       "3                                0.0  \n",
       "4                                0.0  \n",
       "5                                0.4  "
      ]
     },
     "metadata": {},
     "output_type": "display_data"
    },
    {
     "name": "stderr",
     "output_type": "stream",
     "text": [
      "Generations: 100%|██████████| 4/4 [00:02<00:00,  1.84it/s]\n"
     ]
    }
   ],
   "source": [
    "viewer = genetic_algo.optimize()"
   ]
  },
  {
   "cell_type": "markdown",
   "metadata": {},
   "source": [
    "## Optimization statistics\n"
   ]
  },
  {
   "cell_type": "code",
   "execution_count": 18,
   "metadata": {},
   "outputs": [
    {
     "data": {
      "text/html": [
       "<div>\n",
       "<style scoped>\n",
       "    .dataframe tbody tr th:only-of-type {\n",
       "        vertical-align: middle;\n",
       "    }\n",
       "\n",
       "    .dataframe tbody tr th {\n",
       "        vertical-align: top;\n",
       "    }\n",
       "\n",
       "    .dataframe thead th {\n",
       "        text-align: right;\n",
       "    }\n",
       "</style>\n",
       "<table border=\"1\" class=\"dataframe\">\n",
       "  <thead>\n",
       "    <tr style=\"text-align: right;\">\n",
       "      <th></th>\n",
       "      <th></th>\n",
       "      <th>D1N1_energy_coefficient</th>\n",
       "      <th>D1N1_tr_max</th>\n",
       "      <th>D1N1_tr_rate</th>\n",
       "      <th>D1N1_inv_lambda_max</th>\n",
       "      <th>D1N1_inv_lambda_rate</th>\n",
       "      <th>D2N1_energy_coefficient</th>\n",
       "      <th>D2N1_tr_max</th>\n",
       "      <th>D2N1_tr_rate</th>\n",
       "      <th>D2N1_inv_lambda_max</th>\n",
       "      <th>D2N1_inv_lambda_rate</th>\n",
       "      <th>fitness</th>\n",
       "    </tr>\n",
       "    <tr>\n",
       "      <th>generation</th>\n",
       "      <th>individual</th>\n",
       "      <th></th>\n",
       "      <th></th>\n",
       "      <th></th>\n",
       "      <th></th>\n",
       "      <th></th>\n",
       "      <th></th>\n",
       "      <th></th>\n",
       "      <th></th>\n",
       "      <th></th>\n",
       "      <th></th>\n",
       "      <th></th>\n",
       "    </tr>\n",
       "  </thead>\n",
       "  <tbody>\n",
       "    <tr>\n",
       "      <th>5</th>\n",
       "      <th>3</th>\n",
       "      <td>0.396481</td>\n",
       "      <td>39.051262</td>\n",
       "      <td>-0.169024</td>\n",
       "      <td>191.722348</td>\n",
       "      <td>-0.245805</td>\n",
       "      <td>0.222251</td>\n",
       "      <td>7.301614</td>\n",
       "      <td>-0.053457</td>\n",
       "      <td>109.411507</td>\n",
       "      <td>-0.228663</td>\n",
       "      <td>0.250500</td>\n",
       "    </tr>\n",
       "    <tr>\n",
       "      <th>2</th>\n",
       "      <th>8</th>\n",
       "      <td>0.396481</td>\n",
       "      <td>39.051262</td>\n",
       "      <td>-0.169024</td>\n",
       "      <td>191.722348</td>\n",
       "      <td>-0.245805</td>\n",
       "      <td>0.222251</td>\n",
       "      <td>18.824812</td>\n",
       "      <td>-0.271319</td>\n",
       "      <td>122.171702</td>\n",
       "      <td>-0.275140</td>\n",
       "      <td>0.385725</td>\n",
       "    </tr>\n",
       "    <tr>\n",
       "      <th rowspan=\"2\" valign=\"top\">3</th>\n",
       "      <th>5</th>\n",
       "      <td>0.396481</td>\n",
       "      <td>39.051262</td>\n",
       "      <td>-0.169024</td>\n",
       "      <td>185.807735</td>\n",
       "      <td>-0.245805</td>\n",
       "      <td>0.222251</td>\n",
       "      <td>18.824812</td>\n",
       "      <td>-0.271319</td>\n",
       "      <td>122.171702</td>\n",
       "      <td>-0.275140</td>\n",
       "      <td>0.397218</td>\n",
       "    </tr>\n",
       "    <tr>\n",
       "      <th>0</th>\n",
       "      <td>0.396481</td>\n",
       "      <td>21.458337</td>\n",
       "      <td>-0.037849</td>\n",
       "      <td>185.807735</td>\n",
       "      <td>-0.245805</td>\n",
       "      <td>0.222251</td>\n",
       "      <td>18.824812</td>\n",
       "      <td>-0.271319</td>\n",
       "      <td>122.171702</td>\n",
       "      <td>-0.275140</td>\n",
       "      <td>0.445792</td>\n",
       "    </tr>\n",
       "    <tr>\n",
       "      <th rowspan=\"3\" valign=\"top\">5</th>\n",
       "      <th>8</th>\n",
       "      <td>0.264408</td>\n",
       "      <td>10.269524</td>\n",
       "      <td>-0.037849</td>\n",
       "      <td>191.722348</td>\n",
       "      <td>-0.245805</td>\n",
       "      <td>0.222251</td>\n",
       "      <td>2.370975</td>\n",
       "      <td>-0.037200</td>\n",
       "      <td>109.411507</td>\n",
       "      <td>-0.217748</td>\n",
       "      <td>0.568313</td>\n",
       "    </tr>\n",
       "    <tr>\n",
       "      <th>5</th>\n",
       "      <td>0.264408</td>\n",
       "      <td>21.458337</td>\n",
       "      <td>-0.037849</td>\n",
       "      <td>185.807735</td>\n",
       "      <td>-0.245805</td>\n",
       "      <td>0.228000</td>\n",
       "      <td>2.370975</td>\n",
       "      <td>-0.015601</td>\n",
       "      <td>109.411507</td>\n",
       "      <td>-0.217748</td>\n",
       "      <td>0.600219</td>\n",
       "    </tr>\n",
       "    <tr>\n",
       "      <th>1</th>\n",
       "      <td>0.264408</td>\n",
       "      <td>21.458337</td>\n",
       "      <td>-0.037849</td>\n",
       "      <td>191.722348</td>\n",
       "      <td>-0.245805</td>\n",
       "      <td>0.222251</td>\n",
       "      <td>2.370975</td>\n",
       "      <td>-0.053457</td>\n",
       "      <td>109.411507</td>\n",
       "      <td>-0.217748</td>\n",
       "      <td>0.604466</td>\n",
       "    </tr>\n",
       "    <tr>\n",
       "      <th rowspan=\"3\" valign=\"top\">4</th>\n",
       "      <th>2</th>\n",
       "      <td>0.264408</td>\n",
       "      <td>21.458337</td>\n",
       "      <td>-0.037849</td>\n",
       "      <td>191.722348</td>\n",
       "      <td>-0.245805</td>\n",
       "      <td>0.222251</td>\n",
       "      <td>2.370975</td>\n",
       "      <td>-0.053457</td>\n",
       "      <td>109.411507</td>\n",
       "      <td>-0.217748</td>\n",
       "      <td>0.604466</td>\n",
       "    </tr>\n",
       "    <tr>\n",
       "      <th>4</th>\n",
       "      <td>0.264408</td>\n",
       "      <td>21.458337</td>\n",
       "      <td>-0.037849</td>\n",
       "      <td>185.807735</td>\n",
       "      <td>-0.245805</td>\n",
       "      <td>0.222251</td>\n",
       "      <td>2.370975</td>\n",
       "      <td>-0.053457</td>\n",
       "      <td>109.411507</td>\n",
       "      <td>-0.217748</td>\n",
       "      <td>0.614532</td>\n",
       "    </tr>\n",
       "    <tr>\n",
       "      <th>5</th>\n",
       "      <td>0.264408</td>\n",
       "      <td>21.458337</td>\n",
       "      <td>-0.037849</td>\n",
       "      <td>185.807735</td>\n",
       "      <td>-0.245805</td>\n",
       "      <td>0.222251</td>\n",
       "      <td>2.370975</td>\n",
       "      <td>-0.053457</td>\n",
       "      <td>109.411507</td>\n",
       "      <td>-0.217748</td>\n",
       "      <td>0.614532</td>\n",
       "    </tr>\n",
       "    <tr>\n",
       "      <th>3</th>\n",
       "      <th>7</th>\n",
       "      <td>0.264408</td>\n",
       "      <td>21.458337</td>\n",
       "      <td>-0.037849</td>\n",
       "      <td>185.807735</td>\n",
       "      <td>-0.245805</td>\n",
       "      <td>0.222251</td>\n",
       "      <td>2.370975</td>\n",
       "      <td>-0.053457</td>\n",
       "      <td>109.411507</td>\n",
       "      <td>-0.217748</td>\n",
       "      <td>0.614532</td>\n",
       "    </tr>\n",
       "    <tr>\n",
       "      <th>5</th>\n",
       "      <th>0</th>\n",
       "      <td>0.264408</td>\n",
       "      <td>21.458337</td>\n",
       "      <td>-0.037849</td>\n",
       "      <td>185.807735</td>\n",
       "      <td>-0.245805</td>\n",
       "      <td>0.222251</td>\n",
       "      <td>2.370975</td>\n",
       "      <td>-0.053457</td>\n",
       "      <td>109.411507</td>\n",
       "      <td>-0.217748</td>\n",
       "      <td>0.614532</td>\n",
       "    </tr>\n",
       "    <tr>\n",
       "      <th rowspan=\"2\" valign=\"top\">4</th>\n",
       "      <th>8</th>\n",
       "      <td>0.264408</td>\n",
       "      <td>10.269524</td>\n",
       "      <td>-0.037849</td>\n",
       "      <td>191.722348</td>\n",
       "      <td>-0.245805</td>\n",
       "      <td>0.222251</td>\n",
       "      <td>2.370975</td>\n",
       "      <td>-0.053457</td>\n",
       "      <td>109.411507</td>\n",
       "      <td>-0.228663</td>\n",
       "      <td>0.647819</td>\n",
       "    </tr>\n",
       "    <tr>\n",
       "      <th>7</th>\n",
       "      <td>0.264408</td>\n",
       "      <td>39.051262</td>\n",
       "      <td>-0.169024</td>\n",
       "      <td>191.722348</td>\n",
       "      <td>-0.245805</td>\n",
       "      <td>0.222251</td>\n",
       "      <td>7.301614</td>\n",
       "      <td>-0.053457</td>\n",
       "      <td>109.411507</td>\n",
       "      <td>-0.228663</td>\n",
       "      <td>0.648925</td>\n",
       "    </tr>\n",
       "    <tr>\n",
       "      <th>5</th>\n",
       "      <th>6</th>\n",
       "      <td>0.264408</td>\n",
       "      <td>39.051262</td>\n",
       "      <td>-0.169024</td>\n",
       "      <td>191.722348</td>\n",
       "      <td>-0.245805</td>\n",
       "      <td>0.222251</td>\n",
       "      <td>7.301614</td>\n",
       "      <td>-0.053457</td>\n",
       "      <td>109.411507</td>\n",
       "      <td>-0.228663</td>\n",
       "      <td>0.648925</td>\n",
       "    </tr>\n",
       "    <tr>\n",
       "      <th>3</th>\n",
       "      <th>1</th>\n",
       "      <td>0.264408</td>\n",
       "      <td>39.051262</td>\n",
       "      <td>-0.169024</td>\n",
       "      <td>191.722348</td>\n",
       "      <td>-0.245805</td>\n",
       "      <td>0.222251</td>\n",
       "      <td>2.370975</td>\n",
       "      <td>-0.053457</td>\n",
       "      <td>109.411507</td>\n",
       "      <td>-0.228663</td>\n",
       "      <td>0.649667</td>\n",
       "    </tr>\n",
       "    <tr>\n",
       "      <th>2</th>\n",
       "      <th>2</th>\n",
       "      <td>0.264408</td>\n",
       "      <td>10.269524</td>\n",
       "      <td>-0.037849</td>\n",
       "      <td>185.807735</td>\n",
       "      <td>-0.245805</td>\n",
       "      <td>0.222251</td>\n",
       "      <td>7.301614</td>\n",
       "      <td>-0.053457</td>\n",
       "      <td>109.411507</td>\n",
       "      <td>-0.228663</td>\n",
       "      <td>0.657887</td>\n",
       "    </tr>\n",
       "    <tr>\n",
       "      <th>4</th>\n",
       "      <th>6</th>\n",
       "      <td>0.264408</td>\n",
       "      <td>10.269524</td>\n",
       "      <td>-0.037849</td>\n",
       "      <td>185.807735</td>\n",
       "      <td>-0.245805</td>\n",
       "      <td>0.222251</td>\n",
       "      <td>2.370975</td>\n",
       "      <td>-0.053457</td>\n",
       "      <td>109.411507</td>\n",
       "      <td>-0.228663</td>\n",
       "      <td>0.658572</td>\n",
       "    </tr>\n",
       "    <tr>\n",
       "      <th>3</th>\n",
       "      <th>9</th>\n",
       "      <td>0.264408</td>\n",
       "      <td>10.269524</td>\n",
       "      <td>-0.037849</td>\n",
       "      <td>185.807735</td>\n",
       "      <td>-0.245805</td>\n",
       "      <td>0.222251</td>\n",
       "      <td>2.370975</td>\n",
       "      <td>-0.053457</td>\n",
       "      <td>109.411507</td>\n",
       "      <td>-0.228663</td>\n",
       "      <td>0.658572</td>\n",
       "    </tr>\n",
       "    <tr>\n",
       "      <th>5</th>\n",
       "      <th>4</th>\n",
       "      <td>0.264408</td>\n",
       "      <td>10.269524</td>\n",
       "      <td>-0.037849</td>\n",
       "      <td>185.807735</td>\n",
       "      <td>-0.245805</td>\n",
       "      <td>0.222251</td>\n",
       "      <td>2.370975</td>\n",
       "      <td>-0.053457</td>\n",
       "      <td>109.411507</td>\n",
       "      <td>-0.228663</td>\n",
       "      <td>0.658572</td>\n",
       "    </tr>\n",
       "    <tr>\n",
       "      <th>4</th>\n",
       "      <th>9</th>\n",
       "      <td>0.264408</td>\n",
       "      <td>39.051262</td>\n",
       "      <td>-0.169024</td>\n",
       "      <td>185.807735</td>\n",
       "      <td>-0.245805</td>\n",
       "      <td>0.222251</td>\n",
       "      <td>2.370975</td>\n",
       "      <td>-0.053457</td>\n",
       "      <td>109.411507</td>\n",
       "      <td>-0.228663</td>\n",
       "      <td>0.660385</td>\n",
       "    </tr>\n",
       "    <tr>\n",
       "      <th rowspan=\"2\" valign=\"top\">3</th>\n",
       "      <th>4</th>\n",
       "      <td>0.264408</td>\n",
       "      <td>21.458337</td>\n",
       "      <td>-0.037849</td>\n",
       "      <td>191.722348</td>\n",
       "      <td>-0.245805</td>\n",
       "      <td>0.222251</td>\n",
       "      <td>2.515555</td>\n",
       "      <td>-0.053457</td>\n",
       "      <td>109.411507</td>\n",
       "      <td>-0.228663</td>\n",
       "      <td>0.686907</td>\n",
       "    </tr>\n",
       "    <tr>\n",
       "      <th>8</th>\n",
       "      <td>0.264408</td>\n",
       "      <td>21.458337</td>\n",
       "      <td>-0.037849</td>\n",
       "      <td>185.807735</td>\n",
       "      <td>-0.245805</td>\n",
       "      <td>0.222251</td>\n",
       "      <td>7.301614</td>\n",
       "      <td>-0.053457</td>\n",
       "      <td>109.411507</td>\n",
       "      <td>-0.228663</td>\n",
       "      <td>0.697520</td>\n",
       "    </tr>\n",
       "    <tr>\n",
       "      <th>4</th>\n",
       "      <th>3</th>\n",
       "      <td>0.264408</td>\n",
       "      <td>21.458337</td>\n",
       "      <td>-0.037849</td>\n",
       "      <td>185.807735</td>\n",
       "      <td>-0.245805</td>\n",
       "      <td>0.222251</td>\n",
       "      <td>2.515555</td>\n",
       "      <td>-0.053457</td>\n",
       "      <td>109.411507</td>\n",
       "      <td>-0.228663</td>\n",
       "      <td>0.697939</td>\n",
       "    </tr>\n",
       "    <tr>\n",
       "      <th>5</th>\n",
       "      <th>9</th>\n",
       "      <td>0.264408</td>\n",
       "      <td>21.458337</td>\n",
       "      <td>-0.037849</td>\n",
       "      <td>185.807735</td>\n",
       "      <td>-0.245805</td>\n",
       "      <td>0.222251</td>\n",
       "      <td>2.370975</td>\n",
       "      <td>-0.053457</td>\n",
       "      <td>109.411507</td>\n",
       "      <td>-0.228663</td>\n",
       "      <td>0.697939</td>\n",
       "    </tr>\n",
       "    <tr>\n",
       "      <th rowspan=\"2\" valign=\"top\">2</th>\n",
       "      <th>6</th>\n",
       "      <td>0.264408</td>\n",
       "      <td>21.458337</td>\n",
       "      <td>-0.037849</td>\n",
       "      <td>185.807735</td>\n",
       "      <td>-0.245805</td>\n",
       "      <td>0.222251</td>\n",
       "      <td>2.515555</td>\n",
       "      <td>-0.053457</td>\n",
       "      <td>109.411507</td>\n",
       "      <td>-0.228663</td>\n",
       "      <td>0.697939</td>\n",
       "    </tr>\n",
       "    <tr>\n",
       "      <th>4</th>\n",
       "      <td>0.264408</td>\n",
       "      <td>21.458337</td>\n",
       "      <td>-0.037849</td>\n",
       "      <td>185.807735</td>\n",
       "      <td>-0.245805</td>\n",
       "      <td>0.222251</td>\n",
       "      <td>2.370975</td>\n",
       "      <td>-0.053457</td>\n",
       "      <td>109.411507</td>\n",
       "      <td>-0.228663</td>\n",
       "      <td>0.697939</td>\n",
       "    </tr>\n",
       "    <tr>\n",
       "      <th rowspan=\"2\" valign=\"top\">1</th>\n",
       "      <th>1</th>\n",
       "      <td>0.264408</td>\n",
       "      <td>21.458337</td>\n",
       "      <td>-0.037849</td>\n",
       "      <td>185.807735</td>\n",
       "      <td>-0.245805</td>\n",
       "      <td>0.222251</td>\n",
       "      <td>2.370975</td>\n",
       "      <td>-0.053457</td>\n",
       "      <td>109.411507</td>\n",
       "      <td>-0.228663</td>\n",
       "      <td>0.697939</td>\n",
       "    </tr>\n",
       "    <tr>\n",
       "      <th>0</th>\n",
       "      <td>0.264408</td>\n",
       "      <td>21.458337</td>\n",
       "      <td>-0.037849</td>\n",
       "      <td>185.807735</td>\n",
       "      <td>-0.245805</td>\n",
       "      <td>0.222251</td>\n",
       "      <td>2.515555</td>\n",
       "      <td>-0.053457</td>\n",
       "      <td>109.411507</td>\n",
       "      <td>-0.228663</td>\n",
       "      <td>0.697939</td>\n",
       "    </tr>\n",
       "    <tr>\n",
       "      <th>0</th>\n",
       "      <th>1</th>\n",
       "      <td>0.264408</td>\n",
       "      <td>21.458337</td>\n",
       "      <td>-0.037849</td>\n",
       "      <td>185.807735</td>\n",
       "      <td>-0.245805</td>\n",
       "      <td>0.222251</td>\n",
       "      <td>2.370975</td>\n",
       "      <td>-0.053457</td>\n",
       "      <td>109.411507</td>\n",
       "      <td>-0.228663</td>\n",
       "      <td>0.697939</td>\n",
       "    </tr>\n",
       "    <tr>\n",
       "      <th rowspan=\"2\" valign=\"top\">2</th>\n",
       "      <th>7</th>\n",
       "      <td>0.264408</td>\n",
       "      <td>21.458337</td>\n",
       "      <td>-0.037849</td>\n",
       "      <td>185.807735</td>\n",
       "      <td>-0.245805</td>\n",
       "      <td>0.222251</td>\n",
       "      <td>2.370975</td>\n",
       "      <td>-0.053457</td>\n",
       "      <td>109.411507</td>\n",
       "      <td>-0.228663</td>\n",
       "      <td>0.697939</td>\n",
       "    </tr>\n",
       "    <tr>\n",
       "      <th>5</th>\n",
       "      <td>0.264408</td>\n",
       "      <td>21.458337</td>\n",
       "      <td>-0.037849</td>\n",
       "      <td>185.807735</td>\n",
       "      <td>-0.245805</td>\n",
       "      <td>0.222251</td>\n",
       "      <td>2.515555</td>\n",
       "      <td>-0.053457</td>\n",
       "      <td>109.411507</td>\n",
       "      <td>-0.228663</td>\n",
       "      <td>0.697939</td>\n",
       "    </tr>\n",
       "    <tr>\n",
       "      <th>3</th>\n",
       "      <th>2</th>\n",
       "      <td>0.264408</td>\n",
       "      <td>21.458337</td>\n",
       "      <td>-0.037849</td>\n",
       "      <td>185.807735</td>\n",
       "      <td>-0.245805</td>\n",
       "      <td>0.222251</td>\n",
       "      <td>2.370975</td>\n",
       "      <td>-0.053457</td>\n",
       "      <td>107.827967</td>\n",
       "      <td>-0.228663</td>\n",
       "      <td>0.703537</td>\n",
       "    </tr>\n",
       "    <tr>\n",
       "      <th>5</th>\n",
       "      <th>7</th>\n",
       "      <td>0.264408</td>\n",
       "      <td>10.269524</td>\n",
       "      <td>-0.037849</td>\n",
       "      <td>185.807735</td>\n",
       "      <td>-0.245805</td>\n",
       "      <td>0.200853</td>\n",
       "      <td>2.370975</td>\n",
       "      <td>-0.053457</td>\n",
       "      <td>109.411507</td>\n",
       "      <td>-0.228663</td>\n",
       "      <td>0.717596</td>\n",
       "    </tr>\n",
       "    <tr>\n",
       "      <th>0</th>\n",
       "      <th>7</th>\n",
       "      <td>0.396481</td>\n",
       "      <td>39.051262</td>\n",
       "      <td>-0.169024</td>\n",
       "      <td>191.722348</td>\n",
       "      <td>-0.257481</td>\n",
       "      <td>0.100484</td>\n",
       "      <td>18.824812</td>\n",
       "      <td>-0.271319</td>\n",
       "      <td>122.171702</td>\n",
       "      <td>-0.275140</td>\n",
       "      <td>0.748085</td>\n",
       "    </tr>\n",
       "    <tr>\n",
       "      <th>2</th>\n",
       "      <th>1</th>\n",
       "      <td>0.264408</td>\n",
       "      <td>21.458337</td>\n",
       "      <td>-0.037849</td>\n",
       "      <td>185.807735</td>\n",
       "      <td>-0.245805</td>\n",
       "      <td>0.222251</td>\n",
       "      <td>0.138575</td>\n",
       "      <td>-0.053457</td>\n",
       "      <td>109.411507</td>\n",
       "      <td>-0.253854</td>\n",
       "      <td>0.865850</td>\n",
       "    </tr>\n",
       "    <tr>\n",
       "      <th>5</th>\n",
       "      <th>2</th>\n",
       "      <td>0.264408</td>\n",
       "      <td>39.051262</td>\n",
       "      <td>-0.169024</td>\n",
       "      <td>185.807735</td>\n",
       "      <td>-0.245805</td>\n",
       "      <td>0.222251</td>\n",
       "      <td>18.824812</td>\n",
       "      <td>-0.271319</td>\n",
       "      <td>122.171702</td>\n",
       "      <td>-0.275140</td>\n",
       "      <td>0.894884</td>\n",
       "    </tr>\n",
       "    <tr>\n",
       "      <th>0</th>\n",
       "      <th>0</th>\n",
       "      <td>0.079152</td>\n",
       "      <td>27.499965</td>\n",
       "      <td>-0.290709</td>\n",
       "      <td>199.317657</td>\n",
       "      <td>-0.205400</td>\n",
       "      <td>0.153442</td>\n",
       "      <td>17.546988</td>\n",
       "      <td>-0.135267</td>\n",
       "      <td>114.723294</td>\n",
       "      <td>-0.136994</td>\n",
       "      <td>1.175672</td>\n",
       "    </tr>\n",
       "    <tr>\n",
       "      <th>2</th>\n",
       "      <th>9</th>\n",
       "      <td>0.264408</td>\n",
       "      <td>21.458337</td>\n",
       "      <td>-0.037849</td>\n",
       "      <td>185.807735</td>\n",
       "      <td>-0.257481</td>\n",
       "      <td>0.100484</td>\n",
       "      <td>2.370975</td>\n",
       "      <td>-0.053457</td>\n",
       "      <td>109.411507</td>\n",
       "      <td>-0.228663</td>\n",
       "      <td>1.241828</td>\n",
       "    </tr>\n",
       "    <tr>\n",
       "      <th rowspan=\"7\" valign=\"top\">0</th>\n",
       "      <th>3</th>\n",
       "      <td>0.203699</td>\n",
       "      <td>31.759621</td>\n",
       "      <td>-0.220527</td>\n",
       "      <td>109.173221</td>\n",
       "      <td>-0.298970</td>\n",
       "      <td>0.100077</td>\n",
       "      <td>4.454494</td>\n",
       "      <td>-0.138778</td>\n",
       "      <td>169.755434</td>\n",
       "      <td>-0.122447</td>\n",
       "      <td>1.973470</td>\n",
       "    </tr>\n",
       "    <tr>\n",
       "      <th>8</th>\n",
       "      <td>0.248752</td>\n",
       "      <td>18.115876</td>\n",
       "      <td>-0.118237</td>\n",
       "      <td>117.139851</td>\n",
       "      <td>-0.267619</td>\n",
       "      <td>0.082516</td>\n",
       "      <td>6.914076</td>\n",
       "      <td>-0.289940</td>\n",
       "      <td>110.191138</td>\n",
       "      <td>-0.086032</td>\n",
       "      <td>2.462293</td>\n",
       "    </tr>\n",
       "    <tr>\n",
       "      <th>6</th>\n",
       "      <td>0.062617</td>\n",
       "      <td>32.737532</td>\n",
       "      <td>-0.162030</td>\n",
       "      <td>185.299261</td>\n",
       "      <td>-0.067886</td>\n",
       "      <td>0.123856</td>\n",
       "      <td>17.733606</td>\n",
       "      <td>-0.031003</td>\n",
       "      <td>168.900062</td>\n",
       "      <td>-0.222910</td>\n",
       "      <td>12.688033</td>\n",
       "    </tr>\n",
       "    <tr>\n",
       "      <th>5</th>\n",
       "      <td>0.261752</td>\n",
       "      <td>14.411831</td>\n",
       "      <td>-0.226080</td>\n",
       "      <td>150.693835</td>\n",
       "      <td>-0.118206</td>\n",
       "      <td>0.099384</td>\n",
       "      <td>31.526464</td>\n",
       "      <td>-0.171482</td>\n",
       "      <td>177.783416</td>\n",
       "      <td>-0.210678</td>\n",
       "      <td>15.666924</td>\n",
       "    </tr>\n",
       "    <tr>\n",
       "      <th>4</th>\n",
       "      <td>0.140551</td>\n",
       "      <td>30.161747</td>\n",
       "      <td>-0.092026</td>\n",
       "      <td>164.910578</td>\n",
       "      <td>-0.211871</td>\n",
       "      <td>0.292069</td>\n",
       "      <td>33.613474</td>\n",
       "      <td>-0.149992</td>\n",
       "      <td>128.987169</td>\n",
       "      <td>-0.081152</td>\n",
       "      <td>110.648509</td>\n",
       "    </tr>\n",
       "    <tr>\n",
       "      <th>2</th>\n",
       "      <td>0.172536</td>\n",
       "      <td>25.197173</td>\n",
       "      <td>-0.114127</td>\n",
       "      <td>170.520224</td>\n",
       "      <td>-0.264361</td>\n",
       "      <td>0.195711</td>\n",
       "      <td>32.696060</td>\n",
       "      <td>-0.211271</td>\n",
       "      <td>178.973554</td>\n",
       "      <td>-0.048333</td>\n",
       "      <td>352.912052</td>\n",
       "    </tr>\n",
       "    <tr>\n",
       "      <th>9</th>\n",
       "      <td>0.352749</td>\n",
       "      <td>9.343446</td>\n",
       "      <td>-0.291927</td>\n",
       "      <td>109.043758</td>\n",
       "      <td>-0.026179</td>\n",
       "      <td>0.186155</td>\n",
       "      <td>37.118496</td>\n",
       "      <td>-0.011304</td>\n",
       "      <td>154.310555</td>\n",
       "      <td>-0.248853</td>\n",
       "      <td>1887.342722</td>\n",
       "    </tr>\n",
       "  </tbody>\n",
       "</table>\n",
       "</div>"
      ],
      "text/plain": [
       "                       D1N1_energy_coefficient  D1N1_tr_max  D1N1_tr_rate  \\\n",
       "generation individual                                                       \n",
       "5          3                          0.396481    39.051262     -0.169024   \n",
       "2          8                          0.396481    39.051262     -0.169024   \n",
       "3          5                          0.396481    39.051262     -0.169024   \n",
       "           0                          0.396481    21.458337     -0.037849   \n",
       "5          8                          0.264408    10.269524     -0.037849   \n",
       "           5                          0.264408    21.458337     -0.037849   \n",
       "           1                          0.264408    21.458337     -0.037849   \n",
       "4          2                          0.264408    21.458337     -0.037849   \n",
       "           4                          0.264408    21.458337     -0.037849   \n",
       "           5                          0.264408    21.458337     -0.037849   \n",
       "3          7                          0.264408    21.458337     -0.037849   \n",
       "5          0                          0.264408    21.458337     -0.037849   \n",
       "4          8                          0.264408    10.269524     -0.037849   \n",
       "           7                          0.264408    39.051262     -0.169024   \n",
       "5          6                          0.264408    39.051262     -0.169024   \n",
       "3          1                          0.264408    39.051262     -0.169024   \n",
       "2          2                          0.264408    10.269524     -0.037849   \n",
       "4          6                          0.264408    10.269524     -0.037849   \n",
       "3          9                          0.264408    10.269524     -0.037849   \n",
       "5          4                          0.264408    10.269524     -0.037849   \n",
       "4          9                          0.264408    39.051262     -0.169024   \n",
       "3          4                          0.264408    21.458337     -0.037849   \n",
       "           8                          0.264408    21.458337     -0.037849   \n",
       "4          3                          0.264408    21.458337     -0.037849   \n",
       "5          9                          0.264408    21.458337     -0.037849   \n",
       "2          6                          0.264408    21.458337     -0.037849   \n",
       "           4                          0.264408    21.458337     -0.037849   \n",
       "1          1                          0.264408    21.458337     -0.037849   \n",
       "           0                          0.264408    21.458337     -0.037849   \n",
       "0          1                          0.264408    21.458337     -0.037849   \n",
       "2          7                          0.264408    21.458337     -0.037849   \n",
       "           5                          0.264408    21.458337     -0.037849   \n",
       "3          2                          0.264408    21.458337     -0.037849   \n",
       "5          7                          0.264408    10.269524     -0.037849   \n",
       "0          7                          0.396481    39.051262     -0.169024   \n",
       "2          1                          0.264408    21.458337     -0.037849   \n",
       "5          2                          0.264408    39.051262     -0.169024   \n",
       "0          0                          0.079152    27.499965     -0.290709   \n",
       "2          9                          0.264408    21.458337     -0.037849   \n",
       "0          3                          0.203699    31.759621     -0.220527   \n",
       "           8                          0.248752    18.115876     -0.118237   \n",
       "           6                          0.062617    32.737532     -0.162030   \n",
       "           5                          0.261752    14.411831     -0.226080   \n",
       "           4                          0.140551    30.161747     -0.092026   \n",
       "           2                          0.172536    25.197173     -0.114127   \n",
       "           9                          0.352749     9.343446     -0.291927   \n",
       "\n",
       "                       D1N1_inv_lambda_max  D1N1_inv_lambda_rate  \\\n",
       "generation individual                                              \n",
       "5          3                    191.722348             -0.245805   \n",
       "2          8                    191.722348             -0.245805   \n",
       "3          5                    185.807735             -0.245805   \n",
       "           0                    185.807735             -0.245805   \n",
       "5          8                    191.722348             -0.245805   \n",
       "           5                    185.807735             -0.245805   \n",
       "           1                    191.722348             -0.245805   \n",
       "4          2                    191.722348             -0.245805   \n",
       "           4                    185.807735             -0.245805   \n",
       "           5                    185.807735             -0.245805   \n",
       "3          7                    185.807735             -0.245805   \n",
       "5          0                    185.807735             -0.245805   \n",
       "4          8                    191.722348             -0.245805   \n",
       "           7                    191.722348             -0.245805   \n",
       "5          6                    191.722348             -0.245805   \n",
       "3          1                    191.722348             -0.245805   \n",
       "2          2                    185.807735             -0.245805   \n",
       "4          6                    185.807735             -0.245805   \n",
       "3          9                    185.807735             -0.245805   \n",
       "5          4                    185.807735             -0.245805   \n",
       "4          9                    185.807735             -0.245805   \n",
       "3          4                    191.722348             -0.245805   \n",
       "           8                    185.807735             -0.245805   \n",
       "4          3                    185.807735             -0.245805   \n",
       "5          9                    185.807735             -0.245805   \n",
       "2          6                    185.807735             -0.245805   \n",
       "           4                    185.807735             -0.245805   \n",
       "1          1                    185.807735             -0.245805   \n",
       "           0                    185.807735             -0.245805   \n",
       "0          1                    185.807735             -0.245805   \n",
       "2          7                    185.807735             -0.245805   \n",
       "           5                    185.807735             -0.245805   \n",
       "3          2                    185.807735             -0.245805   \n",
       "5          7                    185.807735             -0.245805   \n",
       "0          7                    191.722348             -0.257481   \n",
       "2          1                    185.807735             -0.245805   \n",
       "5          2                    185.807735             -0.245805   \n",
       "0          0                    199.317657             -0.205400   \n",
       "2          9                    185.807735             -0.257481   \n",
       "0          3                    109.173221             -0.298970   \n",
       "           8                    117.139851             -0.267619   \n",
       "           6                    185.299261             -0.067886   \n",
       "           5                    150.693835             -0.118206   \n",
       "           4                    164.910578             -0.211871   \n",
       "           2                    170.520224             -0.264361   \n",
       "           9                    109.043758             -0.026179   \n",
       "\n",
       "                       D2N1_energy_coefficient  D2N1_tr_max  D2N1_tr_rate  \\\n",
       "generation individual                                                       \n",
       "5          3                          0.222251     7.301614     -0.053457   \n",
       "2          8                          0.222251    18.824812     -0.271319   \n",
       "3          5                          0.222251    18.824812     -0.271319   \n",
       "           0                          0.222251    18.824812     -0.271319   \n",
       "5          8                          0.222251     2.370975     -0.037200   \n",
       "           5                          0.228000     2.370975     -0.015601   \n",
       "           1                          0.222251     2.370975     -0.053457   \n",
       "4          2                          0.222251     2.370975     -0.053457   \n",
       "           4                          0.222251     2.370975     -0.053457   \n",
       "           5                          0.222251     2.370975     -0.053457   \n",
       "3          7                          0.222251     2.370975     -0.053457   \n",
       "5          0                          0.222251     2.370975     -0.053457   \n",
       "4          8                          0.222251     2.370975     -0.053457   \n",
       "           7                          0.222251     7.301614     -0.053457   \n",
       "5          6                          0.222251     7.301614     -0.053457   \n",
       "3          1                          0.222251     2.370975     -0.053457   \n",
       "2          2                          0.222251     7.301614     -0.053457   \n",
       "4          6                          0.222251     2.370975     -0.053457   \n",
       "3          9                          0.222251     2.370975     -0.053457   \n",
       "5          4                          0.222251     2.370975     -0.053457   \n",
       "4          9                          0.222251     2.370975     -0.053457   \n",
       "3          4                          0.222251     2.515555     -0.053457   \n",
       "           8                          0.222251     7.301614     -0.053457   \n",
       "4          3                          0.222251     2.515555     -0.053457   \n",
       "5          9                          0.222251     2.370975     -0.053457   \n",
       "2          6                          0.222251     2.515555     -0.053457   \n",
       "           4                          0.222251     2.370975     -0.053457   \n",
       "1          1                          0.222251     2.370975     -0.053457   \n",
       "           0                          0.222251     2.515555     -0.053457   \n",
       "0          1                          0.222251     2.370975     -0.053457   \n",
       "2          7                          0.222251     2.370975     -0.053457   \n",
       "           5                          0.222251     2.515555     -0.053457   \n",
       "3          2                          0.222251     2.370975     -0.053457   \n",
       "5          7                          0.200853     2.370975     -0.053457   \n",
       "0          7                          0.100484    18.824812     -0.271319   \n",
       "2          1                          0.222251     0.138575     -0.053457   \n",
       "5          2                          0.222251    18.824812     -0.271319   \n",
       "0          0                          0.153442    17.546988     -0.135267   \n",
       "2          9                          0.100484     2.370975     -0.053457   \n",
       "0          3                          0.100077     4.454494     -0.138778   \n",
       "           8                          0.082516     6.914076     -0.289940   \n",
       "           6                          0.123856    17.733606     -0.031003   \n",
       "           5                          0.099384    31.526464     -0.171482   \n",
       "           4                          0.292069    33.613474     -0.149992   \n",
       "           2                          0.195711    32.696060     -0.211271   \n",
       "           9                          0.186155    37.118496     -0.011304   \n",
       "\n",
       "                       D2N1_inv_lambda_max  D2N1_inv_lambda_rate      fitness  \n",
       "generation individual                                                          \n",
       "5          3                    109.411507             -0.228663     0.250500  \n",
       "2          8                    122.171702             -0.275140     0.385725  \n",
       "3          5                    122.171702             -0.275140     0.397218  \n",
       "           0                    122.171702             -0.275140     0.445792  \n",
       "5          8                    109.411507             -0.217748     0.568313  \n",
       "           5                    109.411507             -0.217748     0.600219  \n",
       "           1                    109.411507             -0.217748     0.604466  \n",
       "4          2                    109.411507             -0.217748     0.604466  \n",
       "           4                    109.411507             -0.217748     0.614532  \n",
       "           5                    109.411507             -0.217748     0.614532  \n",
       "3          7                    109.411507             -0.217748     0.614532  \n",
       "5          0                    109.411507             -0.217748     0.614532  \n",
       "4          8                    109.411507             -0.228663     0.647819  \n",
       "           7                    109.411507             -0.228663     0.648925  \n",
       "5          6                    109.411507             -0.228663     0.648925  \n",
       "3          1                    109.411507             -0.228663     0.649667  \n",
       "2          2                    109.411507             -0.228663     0.657887  \n",
       "4          6                    109.411507             -0.228663     0.658572  \n",
       "3          9                    109.411507             -0.228663     0.658572  \n",
       "5          4                    109.411507             -0.228663     0.658572  \n",
       "4          9                    109.411507             -0.228663     0.660385  \n",
       "3          4                    109.411507             -0.228663     0.686907  \n",
       "           8                    109.411507             -0.228663     0.697520  \n",
       "4          3                    109.411507             -0.228663     0.697939  \n",
       "5          9                    109.411507             -0.228663     0.697939  \n",
       "2          6                    109.411507             -0.228663     0.697939  \n",
       "           4                    109.411507             -0.228663     0.697939  \n",
       "1          1                    109.411507             -0.228663     0.697939  \n",
       "           0                    109.411507             -0.228663     0.697939  \n",
       "0          1                    109.411507             -0.228663     0.697939  \n",
       "2          7                    109.411507             -0.228663     0.697939  \n",
       "           5                    109.411507             -0.228663     0.697939  \n",
       "3          2                    107.827967             -0.228663     0.703537  \n",
       "5          7                    109.411507             -0.228663     0.717596  \n",
       "0          7                    122.171702             -0.275140     0.748085  \n",
       "2          1                    109.411507             -0.253854     0.865850  \n",
       "5          2                    122.171702             -0.275140     0.894884  \n",
       "0          0                    114.723294             -0.136994     1.175672  \n",
       "2          9                    109.411507             -0.228663     1.241828  \n",
       "0          3                    169.755434             -0.122447     1.973470  \n",
       "           8                    110.191138             -0.086032     2.462293  \n",
       "           6                    168.900062             -0.222910    12.688033  \n",
       "           5                    177.783416             -0.210678    15.666924  \n",
       "           4                    128.987169             -0.081152   110.648509  \n",
       "           2                    178.973554             -0.048333   352.912052  \n",
       "           9                    154.310555             -0.248853  1887.342722  "
      ]
     },
     "execution_count": 18,
     "metadata": {},
     "output_type": "execute_result"
    }
   ],
   "source": [
    "viewer.hall_of_fame"
   ]
  },
  {
   "cell_type": "code",
   "execution_count": 19,
   "metadata": {},
   "outputs": [
    {
     "data": {
      "application/vnd.plotly.v1+json": {
       "config": {
        "plotlyServerURL": "https://plot.ly"
       },
       "data": [
        {
         "alignmentgroup": "True",
         "boxpoints": false,
         "hovertemplate": "generation=%{x}<br>fitness=%{y}<extra></extra>",
         "legendgroup": "",
         "marker": {
          "color": "#636efa"
         },
         "name": "",
         "notched": false,
         "offsetgroup": "",
         "orientation": "v",
         "showlegend": false,
         "type": "box",
         "x": [
          0,
          0,
          0,
          0,
          0,
          0,
          0,
          0,
          0,
          0,
          1,
          1,
          1,
          1,
          1,
          1,
          1,
          1,
          1,
          1,
          2,
          2,
          2,
          2,
          2,
          2,
          2,
          2,
          2,
          2,
          3,
          3,
          3,
          3,
          3,
          3,
          3,
          3,
          3,
          3,
          4,
          4,
          4,
          4,
          4,
          4,
          4,
          4,
          4,
          4,
          5,
          5,
          5,
          5,
          5,
          5,
          5,
          5,
          5,
          5
         ],
         "x0": " ",
         "xaxis": "x",
         "y": [
          1.1756716939,
          0.6979387458,
          352.9120518205,
          1.9734697283,
          110.6485089713,
          15.6669239387,
          12.6880333385,
          0.7480847854,
          2.4622928855,
          1887.3427218229,
          0.6979387458,
          0.6979387458,
          0.6979387458,
          0.7480847854,
          1.9734697283,
          0.7480847854,
          0.7480847854,
          2.4622928855,
          0.7480847854,
          0.7480847854,
          0.8658495179,
          0.6578870519000001,
          0.6979387458,
          0.6979387458,
          0.6979387458,
          0.6979387458,
          0.3857245184,
          1.2418281354,
          0.6979387458,
          0.7480847854,
          0.4457915913,
          0.6496669197,
          0.7035365130000001,
          0.6869070692,
          0.3972177195,
          0.6145320991000001,
          0.6975196076,
          0.6585720643,
          0.6578870519000001,
          0.6578870519000001,
          0.6044662392,
          0.6979387458,
          0.6145320991000001,
          0.6145320991000001,
          0.6585720643,
          0.6489252918,
          0.6478193405,
          0.6603850787000001,
          0.3972177195,
          0.6145320991000001,
          0.6145320991000001,
          0.6044662392,
          0.8948835424,
          0.2504995951,
          0.6585720643,
          0.6002188471000001,
          0.6489252918,
          0.7175958931,
          0.5683128079,
          0.6979387458
         ],
         "y0": " ",
         "yaxis": "y"
        },
        {
         "line": {
          "color": "rgba(0,0,0,0.5)",
          "dash": "dash",
          "width": 2
         },
         "mode": "lines",
         "name": "Median",
         "type": "scatter",
         "x": [
          0,
          1,
          2,
          3,
          4,
          5
         ],
         "y": [
          7.575163112,
          0.7480847854,
          0.6979387458,
          0.6578870519000001,
          0.6311757198000001,
          0.6317286954500001
         ]
        },
        {
         "line": {
          "color": "rgba(0,0,0,0.5)",
          "dash": "dash",
          "width": 2
         },
         "mode": "lines",
         "name": "Minimum",
         "type": "scatter",
         "x": [
          0,
          1,
          2,
          3,
          4,
          5
         ],
         "y": [
          0.6979387458,
          0.6979387458,
          0.3857245184,
          0.3972177195,
          0.3972177195,
          0.2504995951
         ]
        }
       ],
       "layout": {
        "boxmode": "group",
        "legend": {
         "tracegroupgap": 0
        },
        "margin": {
         "t": 60
        },
        "template": {
         "data": {
          "bar": [
           {
            "error_x": {
             "color": "#2a3f5f"
            },
            "error_y": {
             "color": "#2a3f5f"
            },
            "marker": {
             "line": {
              "color": "#E5ECF6",
              "width": 0.5
             },
             "pattern": {
              "fillmode": "overlay",
              "size": 10,
              "solidity": 0.2
             }
            },
            "type": "bar"
           }
          ],
          "barpolar": [
           {
            "marker": {
             "line": {
              "color": "#E5ECF6",
              "width": 0.5
             },
             "pattern": {
              "fillmode": "overlay",
              "size": 10,
              "solidity": 0.2
             }
            },
            "type": "barpolar"
           }
          ],
          "carpet": [
           {
            "aaxis": {
             "endlinecolor": "#2a3f5f",
             "gridcolor": "white",
             "linecolor": "white",
             "minorgridcolor": "white",
             "startlinecolor": "#2a3f5f"
            },
            "baxis": {
             "endlinecolor": "#2a3f5f",
             "gridcolor": "white",
             "linecolor": "white",
             "minorgridcolor": "white",
             "startlinecolor": "#2a3f5f"
            },
            "type": "carpet"
           }
          ],
          "choropleth": [
           {
            "colorbar": {
             "outlinewidth": 0,
             "ticks": ""
            },
            "type": "choropleth"
           }
          ],
          "contour": [
           {
            "colorbar": {
             "outlinewidth": 0,
             "ticks": ""
            },
            "colorscale": [
             [
              0,
              "#0d0887"
             ],
             [
              0.1111111111111111,
              "#46039f"
             ],
             [
              0.2222222222222222,
              "#7201a8"
             ],
             [
              0.3333333333333333,
              "#9c179e"
             ],
             [
              0.4444444444444444,
              "#bd3786"
             ],
             [
              0.5555555555555556,
              "#d8576b"
             ],
             [
              0.6666666666666666,
              "#ed7953"
             ],
             [
              0.7777777777777778,
              "#fb9f3a"
             ],
             [
              0.8888888888888888,
              "#fdca26"
             ],
             [
              1,
              "#f0f921"
             ]
            ],
            "type": "contour"
           }
          ],
          "contourcarpet": [
           {
            "colorbar": {
             "outlinewidth": 0,
             "ticks": ""
            },
            "type": "contourcarpet"
           }
          ],
          "heatmap": [
           {
            "colorbar": {
             "outlinewidth": 0,
             "ticks": ""
            },
            "colorscale": [
             [
              0,
              "#0d0887"
             ],
             [
              0.1111111111111111,
              "#46039f"
             ],
             [
              0.2222222222222222,
              "#7201a8"
             ],
             [
              0.3333333333333333,
              "#9c179e"
             ],
             [
              0.4444444444444444,
              "#bd3786"
             ],
             [
              0.5555555555555556,
              "#d8576b"
             ],
             [
              0.6666666666666666,
              "#ed7953"
             ],
             [
              0.7777777777777778,
              "#fb9f3a"
             ],
             [
              0.8888888888888888,
              "#fdca26"
             ],
             [
              1,
              "#f0f921"
             ]
            ],
            "type": "heatmap"
           }
          ],
          "heatmapgl": [
           {
            "colorbar": {
             "outlinewidth": 0,
             "ticks": ""
            },
            "colorscale": [
             [
              0,
              "#0d0887"
             ],
             [
              0.1111111111111111,
              "#46039f"
             ],
             [
              0.2222222222222222,
              "#7201a8"
             ],
             [
              0.3333333333333333,
              "#9c179e"
             ],
             [
              0.4444444444444444,
              "#bd3786"
             ],
             [
              0.5555555555555556,
              "#d8576b"
             ],
             [
              0.6666666666666666,
              "#ed7953"
             ],
             [
              0.7777777777777778,
              "#fb9f3a"
             ],
             [
              0.8888888888888888,
              "#fdca26"
             ],
             [
              1,
              "#f0f921"
             ]
            ],
            "type": "heatmapgl"
           }
          ],
          "histogram": [
           {
            "marker": {
             "pattern": {
              "fillmode": "overlay",
              "size": 10,
              "solidity": 0.2
             }
            },
            "type": "histogram"
           }
          ],
          "histogram2d": [
           {
            "colorbar": {
             "outlinewidth": 0,
             "ticks": ""
            },
            "colorscale": [
             [
              0,
              "#0d0887"
             ],
             [
              0.1111111111111111,
              "#46039f"
             ],
             [
              0.2222222222222222,
              "#7201a8"
             ],
             [
              0.3333333333333333,
              "#9c179e"
             ],
             [
              0.4444444444444444,
              "#bd3786"
             ],
             [
              0.5555555555555556,
              "#d8576b"
             ],
             [
              0.6666666666666666,
              "#ed7953"
             ],
             [
              0.7777777777777778,
              "#fb9f3a"
             ],
             [
              0.8888888888888888,
              "#fdca26"
             ],
             [
              1,
              "#f0f921"
             ]
            ],
            "type": "histogram2d"
           }
          ],
          "histogram2dcontour": [
           {
            "colorbar": {
             "outlinewidth": 0,
             "ticks": ""
            },
            "colorscale": [
             [
              0,
              "#0d0887"
             ],
             [
              0.1111111111111111,
              "#46039f"
             ],
             [
              0.2222222222222222,
              "#7201a8"
             ],
             [
              0.3333333333333333,
              "#9c179e"
             ],
             [
              0.4444444444444444,
              "#bd3786"
             ],
             [
              0.5555555555555556,
              "#d8576b"
             ],
             [
              0.6666666666666666,
              "#ed7953"
             ],
             [
              0.7777777777777778,
              "#fb9f3a"
             ],
             [
              0.8888888888888888,
              "#fdca26"
             ],
             [
              1,
              "#f0f921"
             ]
            ],
            "type": "histogram2dcontour"
           }
          ],
          "mesh3d": [
           {
            "colorbar": {
             "outlinewidth": 0,
             "ticks": ""
            },
            "type": "mesh3d"
           }
          ],
          "parcoords": [
           {
            "line": {
             "colorbar": {
              "outlinewidth": 0,
              "ticks": ""
             }
            },
            "type": "parcoords"
           }
          ],
          "pie": [
           {
            "automargin": true,
            "type": "pie"
           }
          ],
          "scatter": [
           {
            "fillpattern": {
             "fillmode": "overlay",
             "size": 10,
             "solidity": 0.2
            },
            "type": "scatter"
           }
          ],
          "scatter3d": [
           {
            "line": {
             "colorbar": {
              "outlinewidth": 0,
              "ticks": ""
             }
            },
            "marker": {
             "colorbar": {
              "outlinewidth": 0,
              "ticks": ""
             }
            },
            "type": "scatter3d"
           }
          ],
          "scattercarpet": [
           {
            "marker": {
             "colorbar": {
              "outlinewidth": 0,
              "ticks": ""
             }
            },
            "type": "scattercarpet"
           }
          ],
          "scattergeo": [
           {
            "marker": {
             "colorbar": {
              "outlinewidth": 0,
              "ticks": ""
             }
            },
            "type": "scattergeo"
           }
          ],
          "scattergl": [
           {
            "marker": {
             "colorbar": {
              "outlinewidth": 0,
              "ticks": ""
             }
            },
            "type": "scattergl"
           }
          ],
          "scattermapbox": [
           {
            "marker": {
             "colorbar": {
              "outlinewidth": 0,
              "ticks": ""
             }
            },
            "type": "scattermapbox"
           }
          ],
          "scatterpolar": [
           {
            "marker": {
             "colorbar": {
              "outlinewidth": 0,
              "ticks": ""
             }
            },
            "type": "scatterpolar"
           }
          ],
          "scatterpolargl": [
           {
            "marker": {
             "colorbar": {
              "outlinewidth": 0,
              "ticks": ""
             }
            },
            "type": "scatterpolargl"
           }
          ],
          "scatterternary": [
           {
            "marker": {
             "colorbar": {
              "outlinewidth": 0,
              "ticks": ""
             }
            },
            "type": "scatterternary"
           }
          ],
          "surface": [
           {
            "colorbar": {
             "outlinewidth": 0,
             "ticks": ""
            },
            "colorscale": [
             [
              0,
              "#0d0887"
             ],
             [
              0.1111111111111111,
              "#46039f"
             ],
             [
              0.2222222222222222,
              "#7201a8"
             ],
             [
              0.3333333333333333,
              "#9c179e"
             ],
             [
              0.4444444444444444,
              "#bd3786"
             ],
             [
              0.5555555555555556,
              "#d8576b"
             ],
             [
              0.6666666666666666,
              "#ed7953"
             ],
             [
              0.7777777777777778,
              "#fb9f3a"
             ],
             [
              0.8888888888888888,
              "#fdca26"
             ],
             [
              1,
              "#f0f921"
             ]
            ],
            "type": "surface"
           }
          ],
          "table": [
           {
            "cells": {
             "fill": {
              "color": "#EBF0F8"
             },
             "line": {
              "color": "white"
             }
            },
            "header": {
             "fill": {
              "color": "#C8D4E3"
             },
             "line": {
              "color": "white"
             }
            },
            "type": "table"
           }
          ]
         },
         "layout": {
          "annotationdefaults": {
           "arrowcolor": "#2a3f5f",
           "arrowhead": 0,
           "arrowwidth": 1
          },
          "autotypenumbers": "strict",
          "coloraxis": {
           "colorbar": {
            "outlinewidth": 0,
            "ticks": ""
           }
          },
          "colorscale": {
           "diverging": [
            [
             0,
             "#8e0152"
            ],
            [
             0.1,
             "#c51b7d"
            ],
            [
             0.2,
             "#de77ae"
            ],
            [
             0.3,
             "#f1b6da"
            ],
            [
             0.4,
             "#fde0ef"
            ],
            [
             0.5,
             "#f7f7f7"
            ],
            [
             0.6,
             "#e6f5d0"
            ],
            [
             0.7,
             "#b8e186"
            ],
            [
             0.8,
             "#7fbc41"
            ],
            [
             0.9,
             "#4d9221"
            ],
            [
             1,
             "#276419"
            ]
           ],
           "sequential": [
            [
             0,
             "#0d0887"
            ],
            [
             0.1111111111111111,
             "#46039f"
            ],
            [
             0.2222222222222222,
             "#7201a8"
            ],
            [
             0.3333333333333333,
             "#9c179e"
            ],
            [
             0.4444444444444444,
             "#bd3786"
            ],
            [
             0.5555555555555556,
             "#d8576b"
            ],
            [
             0.6666666666666666,
             "#ed7953"
            ],
            [
             0.7777777777777778,
             "#fb9f3a"
            ],
            [
             0.8888888888888888,
             "#fdca26"
            ],
            [
             1,
             "#f0f921"
            ]
           ],
           "sequentialminus": [
            [
             0,
             "#0d0887"
            ],
            [
             0.1111111111111111,
             "#46039f"
            ],
            [
             0.2222222222222222,
             "#7201a8"
            ],
            [
             0.3333333333333333,
             "#9c179e"
            ],
            [
             0.4444444444444444,
             "#bd3786"
            ],
            [
             0.5555555555555556,
             "#d8576b"
            ],
            [
             0.6666666666666666,
             "#ed7953"
            ],
            [
             0.7777777777777778,
             "#fb9f3a"
            ],
            [
             0.8888888888888888,
             "#fdca26"
            ],
            [
             1,
             "#f0f921"
            ]
           ]
          },
          "colorway": [
           "#636efa",
           "#EF553B",
           "#00cc96",
           "#ab63fa",
           "#FFA15A",
           "#19d3f3",
           "#FF6692",
           "#B6E880",
           "#FF97FF",
           "#FECB52"
          ],
          "font": {
           "color": "#2a3f5f"
          },
          "geo": {
           "bgcolor": "white",
           "lakecolor": "white",
           "landcolor": "#E5ECF6",
           "showlakes": true,
           "showland": true,
           "subunitcolor": "white"
          },
          "hoverlabel": {
           "align": "left"
          },
          "hovermode": "closest",
          "mapbox": {
           "style": "light"
          },
          "paper_bgcolor": "white",
          "plot_bgcolor": "#E5ECF6",
          "polar": {
           "angularaxis": {
            "gridcolor": "white",
            "linecolor": "white",
            "ticks": ""
           },
           "bgcolor": "#E5ECF6",
           "radialaxis": {
            "gridcolor": "white",
            "linecolor": "white",
            "ticks": ""
           }
          },
          "scene": {
           "xaxis": {
            "backgroundcolor": "#E5ECF6",
            "gridcolor": "white",
            "gridwidth": 2,
            "linecolor": "white",
            "showbackground": true,
            "ticks": "",
            "zerolinecolor": "white"
           },
           "yaxis": {
            "backgroundcolor": "#E5ECF6",
            "gridcolor": "white",
            "gridwidth": 2,
            "linecolor": "white",
            "showbackground": true,
            "ticks": "",
            "zerolinecolor": "white"
           },
           "zaxis": {
            "backgroundcolor": "#E5ECF6",
            "gridcolor": "white",
            "gridwidth": 2,
            "linecolor": "white",
            "showbackground": true,
            "ticks": "",
            "zerolinecolor": "white"
           }
          },
          "shapedefaults": {
           "line": {
            "color": "#2a3f5f"
           }
          },
          "ternary": {
           "aaxis": {
            "gridcolor": "white",
            "linecolor": "white",
            "ticks": ""
           },
           "baxis": {
            "gridcolor": "white",
            "linecolor": "white",
            "ticks": ""
           },
           "bgcolor": "#E5ECF6",
           "caxis": {
            "gridcolor": "white",
            "linecolor": "white",
            "ticks": ""
           }
          },
          "title": {
           "x": 0.05
          },
          "xaxis": {
           "automargin": true,
           "gridcolor": "white",
           "linecolor": "white",
           "ticks": "",
           "title": {
            "standoff": 15
           },
           "zerolinecolor": "white",
           "zerolinewidth": 2
          },
          "yaxis": {
           "automargin": true,
           "gridcolor": "white",
           "linecolor": "white",
           "ticks": "",
           "title": {
            "standoff": 15
           },
           "zerolinecolor": "white",
           "zerolinewidth": 2
          }
         }
        },
        "title": {
         "text": "Fitness evolution"
        },
        "xaxis": {
         "anchor": "y",
         "domain": [
          0,
          1
         ],
         "title": {
          "text": "generation"
         }
        },
        "yaxis": {
         "anchor": "x",
         "domain": [
          0,
          1
         ],
         "title": {
          "text": "fitness"
         },
         "type": "log"
        }
       }
      }
     },
     "metadata": {},
     "output_type": "display_data"
    }
   ],
   "source": [
    "viewer.fitness_evolution()"
   ]
  },
  {
   "cell_type": "code",
   "execution_count": 20,
   "metadata": {},
   "outputs": [
    {
     "data": {
      "application/vnd.plotly.v1+json": {
       "config": {
        "plotlyServerURL": "https://plot.ly"
       },
       "data": [
        {
         "orientation": "h",
         "type": "bar",
         "x": [
          0.2729137621760829,
          0.1829507273129863,
          0.2831165461507577,
          0.35070976606096205,
          0.31197069331211735,
          0.16966072549321298,
          0.2588742085631097,
          0.3181588287729553,
          0.29155185239999803,
          0.2687525913011986
         ],
         "xaxis": "x",
         "y": [
          "D1N1_energy_coefficient",
          "D1N1_tr_max",
          "D1N1_tr_rate",
          "D1N1_inv_lambda_max",
          "D1N1_inv_lambda_rate",
          "D2N1_energy_coefficient",
          "D2N1_tr_max",
          "D2N1_tr_rate",
          "D2N1_inv_lambda_max",
          "D2N1_inv_lambda_rate"
         ],
         "yaxis": "y"
        },
        {
         "orientation": "h",
         "type": "bar",
         "x": [
          0.19952665887591922,
          0.18424590601475505,
          0.2268950725399133,
          0.3235860244865033,
          0.052356724124822514,
          0.15122905632558356,
          0.1613590111747738,
          0.35499617937613176,
          0.17936605517976226,
          0.22955353209364285
         ],
         "xaxis": "x2",
         "y": [
          "D1N1_energy_coefficient",
          "D1N1_tr_max",
          "D1N1_tr_rate",
          "D1N1_inv_lambda_max",
          "D1N1_inv_lambda_rate",
          "D2N1_energy_coefficient",
          "D2N1_tr_max",
          "D2N1_tr_rate",
          "D2N1_inv_lambda_max",
          "D2N1_inv_lambda_rate"
         ],
         "yaxis": "y2"
        },
        {
         "orientation": "h",
         "type": "bar",
         "x": [
          0.13956587282964722,
          0.17469030180881437,
          0.18497659720048168,
          0.024938200906263145,
          0.0164658397478806,
          0.12867489990801206,
          0.14015047057430896,
          0.3072192943386336,
          0.053801705634836904,
          0.06650744306904369
         ],
         "xaxis": "x3",
         "y": [
          "D1N1_energy_coefficient",
          "D1N1_tr_max",
          "D1N1_tr_rate",
          "D1N1_inv_lambda_max",
          "D1N1_inv_lambda_rate",
          "D2N1_energy_coefficient",
          "D2N1_tr_max",
          "D2N1_tr_rate",
          "D2N1_inv_lambda_max",
          "D2N1_inv_lambda_rate"
         ],
         "yaxis": "y3"
        },
        {
         "orientation": "h",
         "type": "bar",
         "x": [
          0.13956587282964725,
          0.21021982070255693,
          0.18497659720048168,
          0.024938200906263138,
          0,
          0,
          0.13089529601232744,
          0.3072192943386336,
          0.05485895689507137,
          0.06841731085395852
         ],
         "xaxis": "x4",
         "y": [
          "D1N1_energy_coefficient",
          "D1N1_tr_max",
          "D1N1_tr_rate",
          "D1N1_inv_lambda_max",
          "D1N1_inv_lambda_rate",
          "D2N1_energy_coefficient",
          "D2N1_tr_max",
          "D2N1_tr_rate",
          "D2N1_inv_lambda_max",
          "D2N1_inv_lambda_rate"
         ],
         "yaxis": "y4"
        },
        {
         "orientation": "h",
         "type": "bar",
         "x": [
          0.10467440462223541,
          0.2197462303108504,
          0.21191731461664096,
          0.028570298337241742,
          0,
          0,
          0.10513712013457958,
          0.23041447075397514,
          0.040351279226127704,
          0.057236004908405004
         ],
         "xaxis": "x5",
         "y": [
          "D1N1_energy_coefficient",
          "D1N1_tr_max",
          "D1N1_tr_rate",
          "D1N1_inv_lambda_max",
          "D1N1_inv_lambda_rate",
          "D2N1_energy_coefficient",
          "D2N1_tr_max",
          "D2N1_tr_rate",
          "D2N1_inv_lambda_max",
          "D2N1_inv_lambda_rate"
         ],
         "yaxis": "y5"
        },
        {
         "orientation": "h",
         "type": "bar",
         "x": [
          0.10467440462223541,
          0.23731744041725025,
          0.21191731461664096,
          0.03054293366167887,
          0,
          0.018042350305629052,
          0.10543088510022482,
          0.24034764991099522,
          0.04035127922612771,
          0.05723600490840499
         ],
         "xaxis": "x6",
         "y": [
          "D1N1_energy_coefficient",
          "D1N1_tr_max",
          "D1N1_tr_rate",
          "D1N1_inv_lambda_max",
          "D1N1_inv_lambda_rate",
          "D2N1_energy_coefficient",
          "D2N1_tr_max",
          "D2N1_tr_rate",
          "D2N1_inv_lambda_max",
          "D2N1_inv_lambda_rate"
         ],
         "yaxis": "y6"
        }
       ],
       "layout": {
        "annotations": [
         {
          "font": {
           "size": 16
          },
          "showarrow": false,
          "text": "Gen=0",
          "x": 0.06944444444444445,
          "xanchor": "center",
          "xref": "paper",
          "y": 1,
          "yanchor": "bottom",
          "yref": "paper"
         },
         {
          "font": {
           "size": 16
          },
          "showarrow": false,
          "text": "Gen=1",
          "x": 0.24166666666666667,
          "xanchor": "center",
          "xref": "paper",
          "y": 1,
          "yanchor": "bottom",
          "yref": "paper"
         },
         {
          "font": {
           "size": 16
          },
          "showarrow": false,
          "text": "Gen=2",
          "x": 0.41388888888888886,
          "xanchor": "center",
          "xref": "paper",
          "y": 1,
          "yanchor": "bottom",
          "yref": "paper"
         },
         {
          "font": {
           "size": 16
          },
          "showarrow": false,
          "text": "Gen=3",
          "x": 0.5861111111111112,
          "xanchor": "center",
          "xref": "paper",
          "y": 1,
          "yanchor": "bottom",
          "yref": "paper"
         },
         {
          "font": {
           "size": 16
          },
          "showarrow": false,
          "text": "Gen=4",
          "x": 0.7583333333333333,
          "xanchor": "center",
          "xref": "paper",
          "y": 1,
          "yanchor": "bottom",
          "yref": "paper"
         },
         {
          "font": {
           "size": 16
          },
          "showarrow": false,
          "text": "Gen=5",
          "x": 0.9305555555555556,
          "xanchor": "center",
          "xref": "paper",
          "y": 1,
          "yanchor": "bottom",
          "yref": "paper"
         }
        ],
        "showlegend": false,
        "template": {
         "data": {
          "bar": [
           {
            "error_x": {
             "color": "#2a3f5f"
            },
            "error_y": {
             "color": "#2a3f5f"
            },
            "marker": {
             "line": {
              "color": "#E5ECF6",
              "width": 0.5
             },
             "pattern": {
              "fillmode": "overlay",
              "size": 10,
              "solidity": 0.2
             }
            },
            "type": "bar"
           }
          ],
          "barpolar": [
           {
            "marker": {
             "line": {
              "color": "#E5ECF6",
              "width": 0.5
             },
             "pattern": {
              "fillmode": "overlay",
              "size": 10,
              "solidity": 0.2
             }
            },
            "type": "barpolar"
           }
          ],
          "carpet": [
           {
            "aaxis": {
             "endlinecolor": "#2a3f5f",
             "gridcolor": "white",
             "linecolor": "white",
             "minorgridcolor": "white",
             "startlinecolor": "#2a3f5f"
            },
            "baxis": {
             "endlinecolor": "#2a3f5f",
             "gridcolor": "white",
             "linecolor": "white",
             "minorgridcolor": "white",
             "startlinecolor": "#2a3f5f"
            },
            "type": "carpet"
           }
          ],
          "choropleth": [
           {
            "colorbar": {
             "outlinewidth": 0,
             "ticks": ""
            },
            "type": "choropleth"
           }
          ],
          "contour": [
           {
            "colorbar": {
             "outlinewidth": 0,
             "ticks": ""
            },
            "colorscale": [
             [
              0,
              "#0d0887"
             ],
             [
              0.1111111111111111,
              "#46039f"
             ],
             [
              0.2222222222222222,
              "#7201a8"
             ],
             [
              0.3333333333333333,
              "#9c179e"
             ],
             [
              0.4444444444444444,
              "#bd3786"
             ],
             [
              0.5555555555555556,
              "#d8576b"
             ],
             [
              0.6666666666666666,
              "#ed7953"
             ],
             [
              0.7777777777777778,
              "#fb9f3a"
             ],
             [
              0.8888888888888888,
              "#fdca26"
             ],
             [
              1,
              "#f0f921"
             ]
            ],
            "type": "contour"
           }
          ],
          "contourcarpet": [
           {
            "colorbar": {
             "outlinewidth": 0,
             "ticks": ""
            },
            "type": "contourcarpet"
           }
          ],
          "heatmap": [
           {
            "colorbar": {
             "outlinewidth": 0,
             "ticks": ""
            },
            "colorscale": [
             [
              0,
              "#0d0887"
             ],
             [
              0.1111111111111111,
              "#46039f"
             ],
             [
              0.2222222222222222,
              "#7201a8"
             ],
             [
              0.3333333333333333,
              "#9c179e"
             ],
             [
              0.4444444444444444,
              "#bd3786"
             ],
             [
              0.5555555555555556,
              "#d8576b"
             ],
             [
              0.6666666666666666,
              "#ed7953"
             ],
             [
              0.7777777777777778,
              "#fb9f3a"
             ],
             [
              0.8888888888888888,
              "#fdca26"
             ],
             [
              1,
              "#f0f921"
             ]
            ],
            "type": "heatmap"
           }
          ],
          "heatmapgl": [
           {
            "colorbar": {
             "outlinewidth": 0,
             "ticks": ""
            },
            "colorscale": [
             [
              0,
              "#0d0887"
             ],
             [
              0.1111111111111111,
              "#46039f"
             ],
             [
              0.2222222222222222,
              "#7201a8"
             ],
             [
              0.3333333333333333,
              "#9c179e"
             ],
             [
              0.4444444444444444,
              "#bd3786"
             ],
             [
              0.5555555555555556,
              "#d8576b"
             ],
             [
              0.6666666666666666,
              "#ed7953"
             ],
             [
              0.7777777777777778,
              "#fb9f3a"
             ],
             [
              0.8888888888888888,
              "#fdca26"
             ],
             [
              1,
              "#f0f921"
             ]
            ],
            "type": "heatmapgl"
           }
          ],
          "histogram": [
           {
            "marker": {
             "pattern": {
              "fillmode": "overlay",
              "size": 10,
              "solidity": 0.2
             }
            },
            "type": "histogram"
           }
          ],
          "histogram2d": [
           {
            "colorbar": {
             "outlinewidth": 0,
             "ticks": ""
            },
            "colorscale": [
             [
              0,
              "#0d0887"
             ],
             [
              0.1111111111111111,
              "#46039f"
             ],
             [
              0.2222222222222222,
              "#7201a8"
             ],
             [
              0.3333333333333333,
              "#9c179e"
             ],
             [
              0.4444444444444444,
              "#bd3786"
             ],
             [
              0.5555555555555556,
              "#d8576b"
             ],
             [
              0.6666666666666666,
              "#ed7953"
             ],
             [
              0.7777777777777778,
              "#fb9f3a"
             ],
             [
              0.8888888888888888,
              "#fdca26"
             ],
             [
              1,
              "#f0f921"
             ]
            ],
            "type": "histogram2d"
           }
          ],
          "histogram2dcontour": [
           {
            "colorbar": {
             "outlinewidth": 0,
             "ticks": ""
            },
            "colorscale": [
             [
              0,
              "#0d0887"
             ],
             [
              0.1111111111111111,
              "#46039f"
             ],
             [
              0.2222222222222222,
              "#7201a8"
             ],
             [
              0.3333333333333333,
              "#9c179e"
             ],
             [
              0.4444444444444444,
              "#bd3786"
             ],
             [
              0.5555555555555556,
              "#d8576b"
             ],
             [
              0.6666666666666666,
              "#ed7953"
             ],
             [
              0.7777777777777778,
              "#fb9f3a"
             ],
             [
              0.8888888888888888,
              "#fdca26"
             ],
             [
              1,
              "#f0f921"
             ]
            ],
            "type": "histogram2dcontour"
           }
          ],
          "mesh3d": [
           {
            "colorbar": {
             "outlinewidth": 0,
             "ticks": ""
            },
            "type": "mesh3d"
           }
          ],
          "parcoords": [
           {
            "line": {
             "colorbar": {
              "outlinewidth": 0,
              "ticks": ""
             }
            },
            "type": "parcoords"
           }
          ],
          "pie": [
           {
            "automargin": true,
            "type": "pie"
           }
          ],
          "scatter": [
           {
            "fillpattern": {
             "fillmode": "overlay",
             "size": 10,
             "solidity": 0.2
            },
            "type": "scatter"
           }
          ],
          "scatter3d": [
           {
            "line": {
             "colorbar": {
              "outlinewidth": 0,
              "ticks": ""
             }
            },
            "marker": {
             "colorbar": {
              "outlinewidth": 0,
              "ticks": ""
             }
            },
            "type": "scatter3d"
           }
          ],
          "scattercarpet": [
           {
            "marker": {
             "colorbar": {
              "outlinewidth": 0,
              "ticks": ""
             }
            },
            "type": "scattercarpet"
           }
          ],
          "scattergeo": [
           {
            "marker": {
             "colorbar": {
              "outlinewidth": 0,
              "ticks": ""
             }
            },
            "type": "scattergeo"
           }
          ],
          "scattergl": [
           {
            "marker": {
             "colorbar": {
              "outlinewidth": 0,
              "ticks": ""
             }
            },
            "type": "scattergl"
           }
          ],
          "scattermapbox": [
           {
            "marker": {
             "colorbar": {
              "outlinewidth": 0,
              "ticks": ""
             }
            },
            "type": "scattermapbox"
           }
          ],
          "scatterpolar": [
           {
            "marker": {
             "colorbar": {
              "outlinewidth": 0,
              "ticks": ""
             }
            },
            "type": "scatterpolar"
           }
          ],
          "scatterpolargl": [
           {
            "marker": {
             "colorbar": {
              "outlinewidth": 0,
              "ticks": ""
             }
            },
            "type": "scatterpolargl"
           }
          ],
          "scatterternary": [
           {
            "marker": {
             "colorbar": {
              "outlinewidth": 0,
              "ticks": ""
             }
            },
            "type": "scatterternary"
           }
          ],
          "surface": [
           {
            "colorbar": {
             "outlinewidth": 0,
             "ticks": ""
            },
            "colorscale": [
             [
              0,
              "#0d0887"
             ],
             [
              0.1111111111111111,
              "#46039f"
             ],
             [
              0.2222222222222222,
              "#7201a8"
             ],
             [
              0.3333333333333333,
              "#9c179e"
             ],
             [
              0.4444444444444444,
              "#bd3786"
             ],
             [
              0.5555555555555556,
              "#d8576b"
             ],
             [
              0.6666666666666666,
              "#ed7953"
             ],
             [
              0.7777777777777778,
              "#fb9f3a"
             ],
             [
              0.8888888888888888,
              "#fdca26"
             ],
             [
              1,
              "#f0f921"
             ]
            ],
            "type": "surface"
           }
          ],
          "table": [
           {
            "cells": {
             "fill": {
              "color": "#EBF0F8"
             },
             "line": {
              "color": "white"
             }
            },
            "header": {
             "fill": {
              "color": "#C8D4E3"
             },
             "line": {
              "color": "white"
             }
            },
            "type": "table"
           }
          ]
         },
         "layout": {
          "annotationdefaults": {
           "arrowcolor": "#2a3f5f",
           "arrowhead": 0,
           "arrowwidth": 1
          },
          "autotypenumbers": "strict",
          "coloraxis": {
           "colorbar": {
            "outlinewidth": 0,
            "ticks": ""
           }
          },
          "colorscale": {
           "diverging": [
            [
             0,
             "#8e0152"
            ],
            [
             0.1,
             "#c51b7d"
            ],
            [
             0.2,
             "#de77ae"
            ],
            [
             0.3,
             "#f1b6da"
            ],
            [
             0.4,
             "#fde0ef"
            ],
            [
             0.5,
             "#f7f7f7"
            ],
            [
             0.6,
             "#e6f5d0"
            ],
            [
             0.7,
             "#b8e186"
            ],
            [
             0.8,
             "#7fbc41"
            ],
            [
             0.9,
             "#4d9221"
            ],
            [
             1,
             "#276419"
            ]
           ],
           "sequential": [
            [
             0,
             "#0d0887"
            ],
            [
             0.1111111111111111,
             "#46039f"
            ],
            [
             0.2222222222222222,
             "#7201a8"
            ],
            [
             0.3333333333333333,
             "#9c179e"
            ],
            [
             0.4444444444444444,
             "#bd3786"
            ],
            [
             0.5555555555555556,
             "#d8576b"
            ],
            [
             0.6666666666666666,
             "#ed7953"
            ],
            [
             0.7777777777777778,
             "#fb9f3a"
            ],
            [
             0.8888888888888888,
             "#fdca26"
            ],
            [
             1,
             "#f0f921"
            ]
           ],
           "sequentialminus": [
            [
             0,
             "#0d0887"
            ],
            [
             0.1111111111111111,
             "#46039f"
            ],
            [
             0.2222222222222222,
             "#7201a8"
            ],
            [
             0.3333333333333333,
             "#9c179e"
            ],
            [
             0.4444444444444444,
             "#bd3786"
            ],
            [
             0.5555555555555556,
             "#d8576b"
            ],
            [
             0.6666666666666666,
             "#ed7953"
            ],
            [
             0.7777777777777778,
             "#fb9f3a"
            ],
            [
             0.8888888888888888,
             "#fdca26"
            ],
            [
             1,
             "#f0f921"
            ]
           ]
          },
          "colorway": [
           "#636efa",
           "#EF553B",
           "#00cc96",
           "#ab63fa",
           "#FFA15A",
           "#19d3f3",
           "#FF6692",
           "#B6E880",
           "#FF97FF",
           "#FECB52"
          ],
          "font": {
           "color": "#2a3f5f"
          },
          "geo": {
           "bgcolor": "white",
           "lakecolor": "white",
           "landcolor": "#E5ECF6",
           "showlakes": true,
           "showland": true,
           "subunitcolor": "white"
          },
          "hoverlabel": {
           "align": "left"
          },
          "hovermode": "closest",
          "mapbox": {
           "style": "light"
          },
          "paper_bgcolor": "white",
          "plot_bgcolor": "#E5ECF6",
          "polar": {
           "angularaxis": {
            "gridcolor": "white",
            "linecolor": "white",
            "ticks": ""
           },
           "bgcolor": "#E5ECF6",
           "radialaxis": {
            "gridcolor": "white",
            "linecolor": "white",
            "ticks": ""
           }
          },
          "scene": {
           "xaxis": {
            "backgroundcolor": "#E5ECF6",
            "gridcolor": "white",
            "gridwidth": 2,
            "linecolor": "white",
            "showbackground": true,
            "ticks": "",
            "zerolinecolor": "white"
           },
           "yaxis": {
            "backgroundcolor": "#E5ECF6",
            "gridcolor": "white",
            "gridwidth": 2,
            "linecolor": "white",
            "showbackground": true,
            "ticks": "",
            "zerolinecolor": "white"
           },
           "zaxis": {
            "backgroundcolor": "#E5ECF6",
            "gridcolor": "white",
            "gridwidth": 2,
            "linecolor": "white",
            "showbackground": true,
            "ticks": "",
            "zerolinecolor": "white"
           }
          },
          "shapedefaults": {
           "line": {
            "color": "#2a3f5f"
           }
          },
          "ternary": {
           "aaxis": {
            "gridcolor": "white",
            "linecolor": "white",
            "ticks": ""
           },
           "baxis": {
            "gridcolor": "white",
            "linecolor": "white",
            "ticks": ""
           },
           "bgcolor": "#E5ECF6",
           "caxis": {
            "gridcolor": "white",
            "linecolor": "white",
            "ticks": ""
           }
          },
          "title": {
           "x": 0.05
          },
          "xaxis": {
           "automargin": true,
           "gridcolor": "white",
           "linecolor": "white",
           "ticks": "",
           "title": {
            "standoff": 15
           },
           "zerolinecolor": "white",
           "zerolinewidth": 2
          },
          "yaxis": {
           "automargin": true,
           "gridcolor": "white",
           "linecolor": "white",
           "ticks": "",
           "title": {
            "standoff": 15
           },
           "zerolinecolor": "white",
           "zerolinewidth": 2
          }
         }
        },
        "title": {
         "text": "Standardized std of parameters by generation"
        },
        "xaxis": {
         "anchor": "y",
         "domain": [
          0,
          0.1388888888888889
         ]
        },
        "xaxis2": {
         "anchor": "y2",
         "domain": [
          0.17222222222222222,
          0.3111111111111111
         ]
        },
        "xaxis3": {
         "anchor": "y3",
         "domain": [
          0.34444444444444444,
          0.48333333333333334
         ]
        },
        "xaxis4": {
         "anchor": "y4",
         "domain": [
          0.5166666666666667,
          0.6555555555555557
         ]
        },
        "xaxis5": {
         "anchor": "y5",
         "domain": [
          0.6888888888888889,
          0.8277777777777777
         ]
        },
        "xaxis6": {
         "anchor": "y6",
         "domain": [
          0.861111111111111,
          1
         ]
        },
        "yaxis": {
         "anchor": "x",
         "domain": [
          0,
          1
         ]
        },
        "yaxis2": {
         "anchor": "x2",
         "domain": [
          0,
          1
         ],
         "matches": "y",
         "showticklabels": false
        },
        "yaxis3": {
         "anchor": "x3",
         "domain": [
          0,
          1
         ],
         "matches": "y",
         "showticklabels": false
        },
        "yaxis4": {
         "anchor": "x4",
         "domain": [
          0,
          1
         ],
         "matches": "y",
         "showticklabels": false
        },
        "yaxis5": {
         "anchor": "x5",
         "domain": [
          0,
          1
         ],
         "matches": "y",
         "showticklabels": false
        },
        "yaxis6": {
         "anchor": "x6",
         "domain": [
          0,
          1
         ],
         "matches": "y",
         "showticklabels": false
        }
       }
      }
     },
     "metadata": {},
     "output_type": "display_data"
    }
   ],
   "source": [
    "viewer.parameters_standardized_deviation()"
   ]
  },
  {
   "cell_type": "code",
   "execution_count": null,
   "metadata": {},
   "outputs": [],
   "source": [
    "viewer.box_plot(3, nbest=1000)"
   ]
  },
  {
   "cell_type": "code",
   "execution_count": 60,
   "metadata": {},
   "outputs": [],
   "source": [
    "groups = [\n",
    "    [\"D1N1_energy_coefficient\", \"D1N1_tr_rate\", \"D1N1_tr_max\", \"D1N1_inv_lambda_rate\", \"D1N1_inv_lambda_max\"],\n",
    "    [\"D2N1_energy_coefficient\", \"D2N1_tr_rate\", \"D2N1_tr_max\", \"D2N1_inv_lambda_rate\", \"D2N1_inv_lambda_max\"],\n",
    "]\n",
    "fig = viewer.parallel_coordinates(\n",
    "    nbest=2000,\n",
    "    unselected_opacity=0,\n",
    "    parameter_groups=groups,\n",
    ")"
   ]
  },
  {
   "cell_type": "code",
   "execution_count": null,
   "metadata": {},
   "outputs": [],
   "source": [
    "for trace in fig:\n",
    "    display(trace)"
   ]
  },
  {
   "cell_type": "code",
   "execution_count": 63,
   "metadata": {},
   "outputs": [],
   "source": [
    "if SAVE:\n",
    "    for i, trace in enumerate(fig):\n",
    "        trace.write_html(f\"Parallel_coordinates_{export_file_name}_{i}.html\")"
   ]
  },
  {
   "cell_type": "markdown",
   "metadata": {},
   "source": [
    "# Prepare results for ploting\n"
   ]
  },
  {
   "cell_type": "markdown",
   "metadata": {},
   "source": [
    "## Run simulation with original parameters\n"
   ]
  },
  {
   "cell_type": "code",
   "execution_count": null,
   "metadata": {},
   "outputs": [],
   "source": [
    "original_config = [[0, 0, 0.1668, 10.38, -0.11, 150, -0.15]]\n",
    "print(f\"Original configuration: {list(original_config[0])}\")"
   ]
  },
  {
   "cell_type": "code",
   "execution_count": 25,
   "metadata": {},
   "outputs": [],
   "source": [
    "original_model = wrapper.model_generator_no_transport(\n",
    "    forcing_parameters=forcing_parameters,\n",
    "    fg_parameters=wrapper.FunctionalGroupGeneratorNoTransport(parameters=original_config, groups_name=[\"Total\"]),\n",
    ")\n",
    "\n",
    "original_model.run()"
   ]
  },
  {
   "cell_type": "markdown",
   "metadata": {},
   "source": [
    "## Run simulation with optimized parameters\n"
   ]
  },
  {
   "cell_type": "code",
   "execution_count": null,
   "metadata": {},
   "outputs": [],
   "source": [
    "best_individual = cost_function.functional_groups.generate_matrix(viewer.hall_of_fame.iloc[0])\n",
    "print(f\"Best individual: {list(best_individual[0])}\")\n",
    "print(f\"Best individual: {list(best_individual[1])}\")"
   ]
  },
  {
   "cell_type": "code",
   "execution_count": 44,
   "metadata": {},
   "outputs": [],
   "source": [
    "best_model = wrapper.model_generator_no_transport(\n",
    "    forcing_parameters=forcing_parameters,\n",
    "    fg_parameters=wrapper.FunctionalGroupGeneratorNoTransport(parameters=best_individual, groups_name=[\"D1N1\", \"D2N1\"]),\n",
    ")\n",
    "\n",
    "best_model.run()"
   ]
  },
  {
   "cell_type": "markdown",
   "metadata": {},
   "source": [
    "And with the X best individuals :\n"
   ]
  },
  {
   "cell_type": "code",
   "execution_count": 45,
   "metadata": {},
   "outputs": [],
   "source": [
    "NB_INDIVIDUAL_TO_SHOW = 100\n",
    "\n",
    "min_biomass_D1N1 = best_model.export_biomass().sel(functional_group=0).data.flatten()\n",
    "max_biomass_D1N1 = best_model.export_biomass().sel(functional_group=0).data.flatten()\n",
    "min_biomass_D2N1 = best_model.export_biomass().sel(functional_group=1).data.flatten()\n",
    "max_biomass_D2N1 = best_model.export_biomass().sel(functional_group=1).data.flatten()\n",
    "\n",
    "biomass_accumulated = []\n",
    "\n",
    "for cpt in range(0, NB_INDIVIDUAL_TO_SHOW):\n",
    "    individual = cost_function.functional_groups.generate_matrix(viewer.hall_of_fame.iloc[cpt])\n",
    "    model = wrapper.model_generator_no_transport(\n",
    "        forcing_parameters=forcing_parameters,\n",
    "        fg_parameters=wrapper.FunctionalGroupGeneratorNoTransport(parameters=individual, groups_name=[\"D1N1\", \"D2N1\"]),\n",
    "    )\n",
    "    model.run()\n",
    "\n",
    "    biomass_accumulated.append(model.export_biomass().expand_dims({\"individual\": [cpt]}))"
   ]
  },
  {
   "cell_type": "code",
   "execution_count": 46,
   "metadata": {},
   "outputs": [],
   "source": [
    "with xr.set_options(keep_attrs=True):\n",
    "    best_individuals_simulations = xr.concat(biomass_accumulated, dim=\"individual\")\n",
    "    min_biomass_D1N1 = (\n",
    "        best_individuals_simulations.sel(functional_group=0).min(\"individual\").isel(latitude=0, longitude=0)\n",
    "    )\n",
    "    max_biomass_D1N1 = (\n",
    "        best_individuals_simulations.sel(functional_group=0).max(\"individual\").isel(latitude=0, longitude=0)\n",
    "    )\n",
    "    min_biomass_D2N1 = (\n",
    "        best_individuals_simulations.sel(functional_group=1).min(\"individual\").isel(latitude=0, longitude=0)\n",
    "    )\n",
    "    max_biomass_D2N1 = (\n",
    "        best_individuals_simulations.sel(functional_group=1).max(\"individual\").isel(latitude=0, longitude=0)\n",
    "    )"
   ]
  },
  {
   "cell_type": "markdown",
   "metadata": {},
   "source": [
    "### Format the results\n"
   ]
  },
  {
   "cell_type": "markdown",
   "metadata": {},
   "source": [
    "Convert to pandas series.\n"
   ]
  },
  {
   "cell_type": "code",
   "execution_count": 47,
   "metadata": {},
   "outputs": [],
   "source": [
    "optimized_biomass_pandas = (\n",
    "    best_model.export_biomass()\n",
    "    .pint.quantify()\n",
    "    .pint.to(\"mg/meter^2\")\n",
    "    .pint.dequantify()\n",
    "    .to_dataframe()\n",
    "    .pivot_table(index=\"time\", columns=\"functional_group\", values=\"biomass\")\n",
    ")\n",
    "original_biomass_pandas = (\n",
    "    original_model.export_biomass()\n",
    "    .pint.quantify()\n",
    "    .pint.to(\"mg/meter^2\")\n",
    "    .pint.dequantify()\n",
    "    .to_dataframe()\n",
    "    .pivot_table(index=\"time\", columns=\"functional_group\", values=\"biomass\")\n",
    ")\n",
    "observations_day_pandas = (\n",
    "    observations_selected_without_init.pint.quantify()\n",
    "    .pint.to(\"mg/meter^2\")\n",
    "    .pint.dequantify()\n",
    "    .day.dropna(\"time\")\n",
    "    .to_dataframe()\n",
    "    .reset_index()\n",
    "    .set_index(\"time\")[\"day\"]\n",
    ")\n",
    "observations_night_pandas = (\n",
    "    observations_selected_without_init.pint.quantify()\n",
    "    .pint.to(\"mg/meter^2\")\n",
    "    .pint.dequantify()\n",
    "    .night.dropna(\"time\")\n",
    "    .to_dataframe()\n",
    "    .reset_index()\n",
    "    .set_index(\"time\")[\"night\"]\n",
    ")\n",
    "layer_pandas = epi_layer_depth.pint.dequantify().to_dataframe().reset_index().set_index(\"time\")[\"pelagic_layer_depth\"]"
   ]
  },
  {
   "cell_type": "markdown",
   "metadata": {},
   "source": [
    "Then resample to month.\n"
   ]
  },
  {
   "cell_type": "code",
   "execution_count": 48,
   "metadata": {},
   "outputs": [],
   "source": [
    "monthly_obs_day = observations_day_pandas.resample(\"ME\").mean()[TIME_START:TIME_END].dropna()\n",
    "monthly_obs_day.index = monthly_obs_day.index.to_period(\"M\").to_timestamp()\n",
    "\n",
    "monthly_obs_night = observations_night_pandas.resample(\"ME\").mean()[TIME_START:TIME_END].dropna()\n",
    "monthly_obs_night.index = monthly_obs_night.index.to_period(\"M\").to_timestamp()\n",
    "\n",
    "monthly_pred_d1n1 = optimized_biomass_pandas.iloc[:, 0].resample(\"ME\").mean()[TIME_START:TIME_END].dropna()\n",
    "monthly_pred_d1n1.index = monthly_pred_d1n1.index.to_period(\"M\").to_timestamp()\n",
    "\n",
    "monthly_pred_d2n1 = optimized_biomass_pandas.iloc[:, 1].resample(\"ME\").mean()[TIME_START:TIME_END].dropna()\n",
    "monthly_pred_d2n1.index = monthly_pred_d2n1.index.to_period(\"M\").to_timestamp()\n",
    "\n",
    "monthly_pred_orignal = original_biomass_pandas.iloc[:, 0].resample(\"ME\").mean()[TIME_START:TIME_END].dropna()\n",
    "monthly_pred_orignal.index = monthly_pred_orignal.index.to_period(\"M\").to_timestamp()\n",
    "\n",
    "monthly_layer = layer_pandas.resample(\"ME\").mean()[TIME_START:TIME_END].dropna()\n",
    "monthly_layer.index = monthly_layer.index.to_period(\"M\").to_timestamp()"
   ]
  },
  {
   "cell_type": "markdown",
   "metadata": {},
   "source": [
    "# Plot\n"
   ]
  },
  {
   "cell_type": "markdown",
   "metadata": {},
   "source": [
    "### Correlation matrix of X best individuals\n"
   ]
  },
  {
   "cell_type": "code",
   "execution_count": null,
   "metadata": {},
   "outputs": [],
   "source": [
    "NB_INDIVIDUAL_CORRELATION = 2000\n",
    "\n",
    "indiv_param = viewer.hall_of_fame.iloc[:NB_INDIVIDUAL_CORRELATION, :-1].to_numpy()\n",
    "param_names = viewer.hall_of_fame.columns[:-1]\n",
    "\n",
    "corr_matrix = np.corrcoef(indiv_param.T)\n",
    "np.fill_diagonal(corr_matrix, np.nan)\n",
    "\n",
    "fig = px.imshow(\n",
    "    corr_matrix,\n",
    "    text_auto=False,\n",
    "    aspect=\"auto\",\n",
    "    color_continuous_scale=[[0, \"blue\"], [0.5, \"white\"], [1, \"red\"]],\n",
    "    zmin=-1,\n",
    "    zmax=1,\n",
    "    x=param_names,\n",
    "    y=param_names,\n",
    ")\n",
    "fig.update_layout(\n",
    "    title=\"Correlation Matrix of Hall of Fame Parameters (Lower Triangle)\",\n",
    "    plot_bgcolor=\"rgba(0,0,0,0)\",\n",
    "    paper_bgcolor=\"rgba(0,0,0,0)\",\n",
    "    xaxis={\"showgrid\": False, \"tickangle\": -35},\n",
    "    yaxis={\"showgrid\": False},\n",
    ")\n",
    "\n",
    "fig.show()"
   ]
  },
  {
   "cell_type": "code",
   "execution_count": 50,
   "metadata": {},
   "outputs": [],
   "source": [
    "if SAVE:\n",
    "    fig.write_html(f\"Correlation_best_individuals_{export_file_name}.html\")"
   ]
  },
  {
   "cell_type": "markdown",
   "metadata": {},
   "source": [
    "### Daily with best individuals\n"
   ]
  },
  {
   "cell_type": "code",
   "execution_count": null,
   "metadata": {},
   "outputs": [],
   "source": [
    "x = best_model.export_biomass().time.to_series()\n",
    "x_rev = pd.concat([x, x[::-1]])\n",
    "\n",
    "fig = go.Figure()\n",
    "\n",
    "# D1N1 data\n",
    "y_D1N1 = (\n",
    "    best_model.export_biomass()\n",
    "    .sel(functional_group=0)\n",
    "    .pint.quantify()\n",
    "    .pint.to(\"mg/m2\")\n",
    "    .pint.dequantify()\n",
    "    .data.flatten()\n",
    ")\n",
    "y_D1N1_upper = max_biomass_D1N1.pint.quantify().pint.to(\"milligram / meter ** 2\")\n",
    "y_D1N1_lower = min_biomass_D1N1.pint.quantify().pint.to(\"milligram / meter ** 2\")[::-1]\n",
    "y_D1N1_rev = np.concatenate([y_D1N1_upper, y_D1N1_lower])\n",
    "\n",
    "# D2N1 data\n",
    "y_D2N1 = (\n",
    "    best_model.export_biomass()\n",
    "    .sel(functional_group=1)\n",
    "    .pint.quantify()\n",
    "    .pint.to(\"mg/m2\")\n",
    "    .pint.dequantify()\n",
    "    .data.flatten()\n",
    ") + y_D1N1\n",
    "y_D2N1_upper = max_biomass_D2N1.pint.quantify().pint.to(\"milligram / meter ** 2\") + y_D1N1_upper\n",
    "y_D2N1_lower = min_biomass_D2N1.pint.quantify().pint.to(\"milligram / meter ** 2\")[::-1] + y_D1N1_lower\n",
    "y_D2N1_rev = np.concatenate([y_D2N1_upper, y_D2N1_lower])\n",
    "\n",
    "fig = go.Figure()\n",
    "\n",
    "# D1N1 traces\n",
    "fig.add_trace(\n",
    "    go.Scatter(\n",
    "        x=x_rev,\n",
    "        y=y_D1N1_rev,\n",
    "        fill=\"toself\",\n",
    "        fillcolor=\"rgba(255,0,0,0.2)\",\n",
    "        line_color=\"rgba(255,255,255,0)\",\n",
    "        name=f\"D1N1 : {NB_INDIVIDUAL_TO_SHOW} best individuals\",\n",
    "    )\n",
    ")\n",
    "\n",
    "fig.add_trace(\n",
    "    go.Scatter(\n",
    "        x=x,\n",
    "        y=y_D1N1,\n",
    "        line_color=\"rgb(255,0,0)\",\n",
    "        name=\"D1N1 : Best individual\",\n",
    "    )\n",
    ")\n",
    "\n",
    "# D2N1 traces\n",
    "fig.add_trace(\n",
    "    go.Scatter(\n",
    "        x=x_rev,\n",
    "        y=y_D2N1_rev,\n",
    "        fill=\"toself\",\n",
    "        fillcolor=\"rgba(0,176,246,0.2)\",\n",
    "        line_color=\"rgba(255,255,255,0)\",\n",
    "        name=f\"D2N1 : {NB_INDIVIDUAL_TO_SHOW} best individuals\",\n",
    "    )\n",
    ")\n",
    "\n",
    "fig.add_trace(\n",
    "    go.Scatter(\n",
    "        x=x,\n",
    "        y=y_D2N1,\n",
    "        line_color=\"rgb(0,176,246)\",\n",
    "        name=\"D2N1 : Best individual\",\n",
    "    )\n",
    ")\n",
    "\n",
    "# OBSERVATIONS ------------------------------------------------ #\n",
    "\n",
    "fig.add_trace(\n",
    "    go.Scatter(\n",
    "        x=observations_selected_without_init.day.time.data.flatten(),\n",
    "        y=observations_selected_without_init.day.pint.quantify().pint.to(\"mg/m2\").pint.dequantify().data.flatten(),\n",
    "        mode=\"lines+markers\",\n",
    "        name=\"Day observations\",\n",
    "        line={\"dash\": \"dash\", \"color\": \"firebrick\", \"width\": 1},\n",
    "    )\n",
    ")\n",
    "\n",
    "fig.add_trace(\n",
    "    go.Scatter(\n",
    "        x=observations_selected_without_init.night.time.data.flatten(),\n",
    "        y=observations_selected_without_init.night.pint.quantify().pint.to(\"mg/m2\").pint.dequantify().data.flatten(),\n",
    "        mode=\"lines+markers\",\n",
    "        name=\"Night observations\",\n",
    "        line={\"dash\": \"dash\", \"color\": \"royalblue\", \"width\": 1},\n",
    "    )\n",
    ")\n",
    "\n",
    "# PRIMARY PRODUCTION ----------------------------------------- #\n",
    "\n",
    "fig.add_trace(\n",
    "    go.Scatter(\n",
    "        x=best_model.state.primary_production.time.data.flatten(),\n",
    "        y=best_model.state.primary_production.pint.quantify().pint.to(\"mg/m2/day\").pint.dequantify().data.flatten(),\n",
    "        mode=\"lines\",\n",
    "        name=\"Primary Production (mg/m2/day)\",\n",
    "        line={\"dash\": \"dot\", \"color\": \"green\", \"width\": 1},\n",
    "    )\n",
    ")\n",
    "\n",
    "fig.update_layout(\n",
    "    xaxis_title=\"Time\",\n",
    "    yaxis_title=\"Biomass (mg/m2)\",\n",
    "    title=f\"Biomass over Time (Daily) : {export_file_name}\",\n",
    "    showlegend=True,\n",
    ")\n",
    "\n",
    "fig.show()"
   ]
  },
  {
   "cell_type": "code",
   "execution_count": 52,
   "metadata": {},
   "outputs": [],
   "source": [
    "if SAVE:\n",
    "    fig.write_html(f\"Biomass_best_individuals_{export_file_name}.html\")"
   ]
  },
  {
   "cell_type": "markdown",
   "metadata": {},
   "source": [
    "### Monthly with original parameters\n"
   ]
  },
  {
   "cell_type": "code",
   "execution_count": null,
   "metadata": {},
   "outputs": [],
   "source": [
    "fig = go.Figure(\n",
    "    layout={\n",
    "        \"title\": \"SeapoPym Monthly Biomass during day (CAFE npp) and Observations : HOT station + all param. optimization + 2 groups\",\n",
    "        \"xaxis\": {\"title\": \"Time\"},\n",
    "        \"yaxis\": {\"title\": \"Biomass . Epipelagic layer depth (mg/m^2)\"},\n",
    "    }\n",
    ")\n",
    "\n",
    "# DAY ------------------------------------------------ #\n",
    "\n",
    "fig.add_trace(\n",
    "    go.Scatter(\n",
    "        x=monthly_pred_d1n1.index,\n",
    "        y=monthly_pred_d1n1,\n",
    "        mode=\"lines\",\n",
    "        line={\"color\": \"rgb(255,0,0)\"},\n",
    "        name=\"Predictions Day\",\n",
    "    )\n",
    ")\n",
    "fig.add_trace(\n",
    "    go.Scatter(\n",
    "        x=monthly_obs_day.index,\n",
    "        y=monthly_obs_day,\n",
    "        fill=\"tonextx\",\n",
    "        fillcolor=\"rgba(255,0,0,0.15)\",\n",
    "        mode=\"lines+markers\",\n",
    "        line={\"color\": \"firebrick\", \"dash\": \"dash\", \"width\": 1},\n",
    "        name=\"Observations (day)\",\n",
    "    )\n",
    ")\n",
    "# Night ------------------------------------------------ #\n",
    "fig.add_trace(\n",
    "    go.Scatter(\n",
    "        x=(monthly_pred_d1n1 + monthly_pred_d2n1).index,\n",
    "        y=(monthly_pred_d1n1 + monthly_pred_d2n1),\n",
    "        mode=\"lines\",\n",
    "        line={\"color\": \"rgb(0,176,246)\"},\n",
    "        name=\"Predictions Night\",\n",
    "    )\n",
    ")\n",
    "fig.add_trace(\n",
    "    go.Scatter(\n",
    "        x=monthly_obs_night.index,\n",
    "        y=monthly_obs_night,\n",
    "        fill=\"tonextx\",\n",
    "        fillcolor=\"rgba(0,176,246,0.15)\",\n",
    "        mode=\"lines+markers\",\n",
    "        line={\"color\": \"royalblue\", \"dash\": \"dash\", \"width\": 1},\n",
    "        name=\"Observations (night)\",\n",
    "    )\n",
    ")\n",
    "\n",
    "# LMTL ------------------------------------------------ #\n",
    "fig.add_trace(\n",
    "    go.Scatter(\n",
    "        x=monthly_pred_orignal.index,\n",
    "        y=monthly_pred_orignal,\n",
    "        mode=\"lines\",\n",
    "        line={\"color\": \"grey\"},\n",
    "        name=\"Predictions Original\",\n",
    "    )\n",
    ")\n",
    "\n",
    "\n",
    "# LAYER ------------------------------------------------ #\n",
    "\n",
    "fig.add_trace(px.line(monthly_layer).data[0])\n",
    "\n",
    "fig.update_traces(\n",
    "    yaxis=\"y2\",\n",
    "    selector={\"name\": \"pelagic_layer_depth\"},\n",
    "    line={\"color\": \"green\", \"width\": 1, \"dash\": \"dot\"},\n",
    ")\n",
    "fig.update_layout(\n",
    "    yaxis2={\"title\": \"Layer Depth (m)\", \"overlaying\": \"y\", \"side\": \"right\"},\n",
    "    height=600,\n",
    ")\n",
    "fig.update_layout(legend={\"y\": 1.0, \"x\": 1.1})\n",
    "fig.show()"
   ]
  },
  {
   "cell_type": "code",
   "execution_count": 54,
   "metadata": {},
   "outputs": [],
   "source": [
    "if SAVE:\n",
    "    fig.write_html(f\"Biomass_monthly_with_original_{export_file_name}.html\")"
   ]
  },
  {
   "cell_type": "markdown",
   "metadata": {},
   "source": [
    "### Taylor Diagram\n"
   ]
  },
  {
   "cell_type": "code",
   "execution_count": null,
   "metadata": {},
   "outputs": [],
   "source": [
    "diagram = ModTaylorDiagram()\n",
    "\n",
    "all_model = [monthly_pred_d1n1, monthly_pred_d1n1 + monthly_pred_d2n1, monthly_pred_orignal, monthly_pred_orignal]\n",
    "all_obs = [monthly_obs_day, monthly_obs_night, monthly_obs_day, monthly_obs_night]\n",
    "\n",
    "all_names = [\"HOT Day\", \"HOT Night\", \"Original Day\", \"Original Night\"]\n",
    "\n",
    "for model, obs, name in zip(all_model, all_obs, all_names):\n",
    "    diagram = generate_mod_taylor_diagram(diagram, obs=obs, model=model[obs.index], name=name)\n",
    "diagram.plot()\n",
    "plt.title(\n",
    "    \"Taylor Diagram for Seapodym model during day at HOT station with CAFE NPP : all parameters optimization and 2 groups\"\n",
    ")\n",
    "\n",
    "# export the figure\n",
    "if SAVE:\n",
    "    plt.savefig(f\"Taylor_{export_file_name}.png\")\n",
    "\n",
    "plt.show()"
   ]
  },
  {
   "cell_type": "code",
   "execution_count": null,
   "metadata": {},
   "outputs": [],
   "source": [
    "if SAVE:\n",
    "    diagram.get_stats().to_csv(f\"Stats_{export_file_name}.csv\", index=False)\n",
    "diagram.get_stats()"
   ]
  },
  {
   "cell_type": "markdown",
   "metadata": {},
   "source": [
    "### Telagrand diagram\n"
   ]
  },
  {
   "cell_type": "code",
   "execution_count": 57,
   "metadata": {},
   "outputs": [],
   "source": [
    "# Quantify and convert observations to mg/m2\n",
    "obs_day = (\n",
    "    observations_selected_without_init.day.isel(latitude=0, longitude=0, layer=0)\n",
    "    .pint.quantify()\n",
    "    .pint.to(\"mg/m2\")\n",
    "    .pint.dequantify()\n",
    "    # .resample(time=\"1D\")\n",
    "    # .interpolate(\"linear\")\n",
    ")\n",
    "\n",
    "# Select and convert predictions to mg/m2\n",
    "pred_day = (\n",
    "    best_individuals_simulations.isel(latitude=0, longitude=0, functional_group=0)\n",
    "    .sel(time=obs_day.time)\n",
    "    .pint.quantify()\n",
    "    .pint.to(\"mg/m2\")\n",
    "    .pint.dequantify()\n",
    ")\n",
    "\n",
    "# Calculate ranks for day observations\n",
    "all_ranks_day = []\n",
    "for time_ite in obs_day.time:\n",
    "    pred_day_ite = np.sort(pred_day.sel(time=time_ite).data)\n",
    "    obs_day_ite = float(obs_day.sel(time=time_ite))\n",
    "    rank = np.searchsorted(pred_day_ite, obs_day_ite)\n",
    "    all_ranks_day.append(rank)\n",
    "\n",
    "# Quantify and convert night observations to mg/m2\n",
    "obs_night = (\n",
    "    observations_selected_without_init.night.isel(latitude=0, longitude=0, layer=0)\n",
    "    .pint.quantify()\n",
    "    .pint.to(\"mg/m2\")\n",
    "    .pint.dequantify()\n",
    "    # .resample(time=\"1D\")\n",
    "    # .interpolate(\"linear\")\n",
    ")\n",
    "\n",
    "# Select and convert night predictions to mg/m2\n",
    "pred_night = pred_day + (\n",
    "    best_individuals_simulations.isel(latitude=0, longitude=0, functional_group=1)\n",
    "    .sel(time=obs_night.time)\n",
    "    .pint.quantify()\n",
    "    .pint.to(\"mg/m2\")\n",
    "    .pint.dequantify()\n",
    ")\n",
    "\n",
    "# Calculate ranks for night observations\n",
    "all_ranks_night = []\n",
    "for time_ite in obs_night.time:\n",
    "    pred_night_ite = np.sort(pred_night.sel(time=time_ite).data)\n",
    "    obs_night_ite = float(obs_night.sel(time=time_ite))\n",
    "    rank = np.searchsorted(pred_night_ite, obs_night_ite)\n",
    "    all_ranks_night.append(rank)"
   ]
  },
  {
   "cell_type": "code",
   "execution_count": null,
   "metadata": {},
   "outputs": [],
   "source": [
    "fig = go.Figure()\n",
    "\n",
    "\n",
    "value, count = np.unique(all_ranks_day, return_counts=True)\n",
    "count = count / count.sum()\n",
    "fig.add_trace(\n",
    "    go.Bar(\n",
    "        x=value,\n",
    "        y=count,\n",
    "        name=\"Day Ranks\",\n",
    "        marker_color=\"firebrick\",\n",
    "        opacity=0.75,\n",
    "    )\n",
    ")\n",
    "\n",
    "value, count = np.unique(all_ranks_night, return_counts=True)\n",
    "count = count / count.sum()\n",
    "fig.add_trace(\n",
    "    go.Bar(\n",
    "        x=value,\n",
    "        y=count,\n",
    "        name=\"Night Ranks\",\n",
    "        marker_color=\"royalblue\",\n",
    "        opacity=0.75,\n",
    "    )\n",
    ")\n",
    "\n",
    "# Update layout\n",
    "fig.update_layout(\n",
    "    title=\"Histogram of Ranks for Day and Night\",\n",
    "    xaxis_title=\"Rank\",\n",
    "    yaxis_title=\"P(Rank)\",\n",
    "    barmode=\"group\",\n",
    ")\n",
    "\n",
    "fig.show()"
   ]
  },
  {
   "cell_type": "code",
   "execution_count": 59,
   "metadata": {},
   "outputs": [],
   "source": [
    "if SAVE:\n",
    "    fig.write_html(f\"Telagrand_diagram_{export_file_name}.html\")"
   ]
  }
 ],
 "metadata": {
  "kernelspec": {
   "display_name": ".venv",
   "language": "python",
   "name": "python3"
  },
  "language_info": {
   "codemirror_mode": {
    "name": "ipython",
    "version": 3
   },
   "file_extension": ".py",
   "mimetype": "text/x-python",
   "name": "python",
   "nbconvert_exporter": "python",
   "pygments_lexer": "ipython3",
   "version": "3.12.8"
  }
 },
 "nbformat": 4,
 "nbformat_minor": 2
}
