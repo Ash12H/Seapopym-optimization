{
 "cells": [
  {
   "cell_type": "code",
   "execution_count": 1,
   "metadata": {},
   "outputs": [
    {
     "data": {
      "text/plain": [
       "<xarray.core.options.set_options at 0x31c2544a0>"
      ]
     },
     "execution_count": 1,
     "metadata": {},
     "output_type": "execute_result"
    }
   ],
   "source": [
    "import warnings\n",
    "\n",
    "import matplotlib.pyplot as plt\n",
    "import numpy as np\n",
    "import pandas as pd\n",
    "import pint\n",
    "import plotly.express as px\n",
    "import plotly.graph_objects as go\n",
    "import xarray as xr\n",
    "from dask.distributed import Client\n",
    "from pint import UnitStrippedWarning\n",
    "from seapopym.configuration.no_transport.parameter import ForcingParameters\n",
    "from seapopym.configuration.parameters.parameter_forcing import ForcingUnit\n",
    "from seapopym.standard.units import StandardUnitsLabels\n",
    "\n",
    "from seapopym_optimization import Observation, constraint, wrapper\n",
    "from seapopym_optimization.cost_function import NoTransportCostFunction\n",
    "from seapopym_optimization.functional_groups import FunctionalGroupOptimizeNoTransport, Parameter\n",
    "from seapopym_optimization.genetic_algorithm import GeneticAlgorithm, GeneticAlgorithmParameters\n",
    "from seapopym_optimization.taylor_diagram import ModTaylorDiagram, generate_mod_taylor_diagram\n",
    "\n",
    "warnings.simplefilter(\"ignore\", category=UnitStrippedWarning)\n",
    "xr.set_options(\n",
    "    display_expand_attrs=False,\n",
    "    display_expand_data_vars=False,\n",
    "    display_expand_coords=False,\n",
    "    display_expand_data=False,\n",
    ")"
   ]
  },
  {
   "cell_type": "code",
   "execution_count": 2,
   "metadata": {},
   "outputs": [],
   "source": [
    "path_to_forcing = \"../../../1_data_processing/1_1_Forcing/products/Hot_cmems_climato_2002_2014.zarr\"\n",
    "path_to_npp = \"../../../1_data_processing/1_1_Forcing/products/Hot_observed_npp_climato.zarr\"\n",
    "path_to_obs = \"../../../1_data_processing/1_1_Forcing/products/Hot_obs_zoo_climato_monthly_2002_2015.zarr\"\n",
    "export_file_name = \"SeapoPym_HOT_climato_obs_npp_opti_all_parameters_2_groups\""
   ]
  },
  {
   "cell_type": "code",
   "execution_count": 3,
   "metadata": {},
   "outputs": [],
   "source": [
    "LATITUDE = 22.75\n",
    "LONGITUDE = -158\n",
    "TIME_START = \"2005-01-02\"\n",
    "TIME_END = \"2009-12-27\"\n",
    "STABILIZATION_TIME = 5\n",
    "SAVE = False"
   ]
  },
  {
   "cell_type": "markdown",
   "metadata": {},
   "source": [
    "## Loading\n"
   ]
  },
  {
   "cell_type": "markdown",
   "metadata": {},
   "source": [
    "### Forcing\n"
   ]
  },
  {
   "cell_type": "code",
   "execution_count": 4,
   "metadata": {},
   "outputs": [
    {
     "data": {
      "text/html": [
       "<div><svg style=\"position: absolute; width: 0; height: 0; overflow: hidden\">\n",
       "<defs>\n",
       "<symbol id=\"icon-database\" viewBox=\"0 0 32 32\">\n",
       "<path d=\"M16 0c-8.837 0-16 2.239-16 5v4c0 2.761 7.163 5 16 5s16-2.239 16-5v-4c0-2.761-7.163-5-16-5z\"></path>\n",
       "<path d=\"M16 17c-8.837 0-16-2.239-16-5v6c0 2.761 7.163 5 16 5s16-2.239 16-5v-6c0 2.761-7.163 5-16 5z\"></path>\n",
       "<path d=\"M16 26c-8.837 0-16-2.239-16-5v6c0 2.761 7.163 5 16 5s16-2.239 16-5v-6c0 2.761-7.163 5-16 5z\"></path>\n",
       "</symbol>\n",
       "<symbol id=\"icon-file-text2\" viewBox=\"0 0 32 32\">\n",
       "<path d=\"M28.681 7.159c-0.694-0.947-1.662-2.053-2.724-3.116s-2.169-2.030-3.116-2.724c-1.612-1.182-2.393-1.319-2.841-1.319h-15.5c-1.378 0-2.5 1.121-2.5 2.5v27c0 1.378 1.122 2.5 2.5 2.5h23c1.378 0 2.5-1.122 2.5-2.5v-19.5c0-0.448-0.137-1.23-1.319-2.841zM24.543 5.457c0.959 0.959 1.712 1.825 2.268 2.543h-4.811v-4.811c0.718 0.556 1.584 1.309 2.543 2.268zM28 29.5c0 0.271-0.229 0.5-0.5 0.5h-23c-0.271 0-0.5-0.229-0.5-0.5v-27c0-0.271 0.229-0.5 0.5-0.5 0 0 15.499-0 15.5 0v7c0 0.552 0.448 1 1 1h7v19.5z\"></path>\n",
       "<path d=\"M23 26h-14c-0.552 0-1-0.448-1-1s0.448-1 1-1h14c0.552 0 1 0.448 1 1s-0.448 1-1 1z\"></path>\n",
       "<path d=\"M23 22h-14c-0.552 0-1-0.448-1-1s0.448-1 1-1h14c0.552 0 1 0.448 1 1s-0.448 1-1 1z\"></path>\n",
       "<path d=\"M23 18h-14c-0.552 0-1-0.448-1-1s0.448-1 1-1h14c0.552 0 1 0.448 1 1s-0.448 1-1 1z\"></path>\n",
       "</symbol>\n",
       "</defs>\n",
       "</svg>\n",
       "<style>/* CSS stylesheet for displaying xarray objects in jupyterlab.\n",
       " *\n",
       " */\n",
       "\n",
       ":root {\n",
       "  --xr-font-color0: var(--jp-content-font-color0, rgba(0, 0, 0, 1));\n",
       "  --xr-font-color2: var(--jp-content-font-color2, rgba(0, 0, 0, 0.54));\n",
       "  --xr-font-color3: var(--jp-content-font-color3, rgba(0, 0, 0, 0.38));\n",
       "  --xr-border-color: var(--jp-border-color2, #e0e0e0);\n",
       "  --xr-disabled-color: var(--jp-layout-color3, #bdbdbd);\n",
       "  --xr-background-color: var(--jp-layout-color0, white);\n",
       "  --xr-background-color-row-even: var(--jp-layout-color1, white);\n",
       "  --xr-background-color-row-odd: var(--jp-layout-color2, #eeeeee);\n",
       "}\n",
       "\n",
       "html[theme=\"dark\"],\n",
       "html[data-theme=\"dark\"],\n",
       "body[data-theme=\"dark\"],\n",
       "body.vscode-dark {\n",
       "  --xr-font-color0: rgba(255, 255, 255, 1);\n",
       "  --xr-font-color2: rgba(255, 255, 255, 0.54);\n",
       "  --xr-font-color3: rgba(255, 255, 255, 0.38);\n",
       "  --xr-border-color: #1f1f1f;\n",
       "  --xr-disabled-color: #515151;\n",
       "  --xr-background-color: #111111;\n",
       "  --xr-background-color-row-even: #111111;\n",
       "  --xr-background-color-row-odd: #313131;\n",
       "}\n",
       "\n",
       ".xr-wrap {\n",
       "  display: block !important;\n",
       "  min-width: 300px;\n",
       "  max-width: 700px;\n",
       "}\n",
       "\n",
       ".xr-text-repr-fallback {\n",
       "  /* fallback to plain text repr when CSS is not injected (untrusted notebook) */\n",
       "  display: none;\n",
       "}\n",
       "\n",
       ".xr-header {\n",
       "  padding-top: 6px;\n",
       "  padding-bottom: 6px;\n",
       "  margin-bottom: 4px;\n",
       "  border-bottom: solid 1px var(--xr-border-color);\n",
       "}\n",
       "\n",
       ".xr-header > div,\n",
       ".xr-header > ul {\n",
       "  display: inline;\n",
       "  margin-top: 0;\n",
       "  margin-bottom: 0;\n",
       "}\n",
       "\n",
       ".xr-obj-type,\n",
       ".xr-array-name {\n",
       "  margin-left: 2px;\n",
       "  margin-right: 10px;\n",
       "}\n",
       "\n",
       ".xr-obj-type {\n",
       "  color: var(--xr-font-color2);\n",
       "}\n",
       "\n",
       ".xr-sections {\n",
       "  padding-left: 0 !important;\n",
       "  display: grid;\n",
       "  grid-template-columns: 150px auto auto 1fr 0 20px 0 20px;\n",
       "}\n",
       "\n",
       ".xr-section-item {\n",
       "  display: contents;\n",
       "}\n",
       "\n",
       ".xr-section-item input {\n",
       "  display: inline-block;\n",
       "  opacity: 0;\n",
       "  height: 0;\n",
       "}\n",
       "\n",
       ".xr-section-item input + label {\n",
       "  color: var(--xr-disabled-color);\n",
       "}\n",
       "\n",
       ".xr-section-item input:enabled + label {\n",
       "  cursor: pointer;\n",
       "  color: var(--xr-font-color2);\n",
       "}\n",
       "\n",
       ".xr-section-item input:focus + label {\n",
       "  border: 2px solid var(--xr-font-color0);\n",
       "}\n",
       "\n",
       ".xr-section-item input:enabled + label:hover {\n",
       "  color: var(--xr-font-color0);\n",
       "}\n",
       "\n",
       ".xr-section-summary {\n",
       "  grid-column: 1;\n",
       "  color: var(--xr-font-color2);\n",
       "  font-weight: 500;\n",
       "}\n",
       "\n",
       ".xr-section-summary > span {\n",
       "  display: inline-block;\n",
       "  padding-left: 0.5em;\n",
       "}\n",
       "\n",
       ".xr-section-summary-in:disabled + label {\n",
       "  color: var(--xr-font-color2);\n",
       "}\n",
       "\n",
       ".xr-section-summary-in + label:before {\n",
       "  display: inline-block;\n",
       "  content: \"►\";\n",
       "  font-size: 11px;\n",
       "  width: 15px;\n",
       "  text-align: center;\n",
       "}\n",
       "\n",
       ".xr-section-summary-in:disabled + label:before {\n",
       "  color: var(--xr-disabled-color);\n",
       "}\n",
       "\n",
       ".xr-section-summary-in:checked + label:before {\n",
       "  content: \"▼\";\n",
       "}\n",
       "\n",
       ".xr-section-summary-in:checked + label > span {\n",
       "  display: none;\n",
       "}\n",
       "\n",
       ".xr-section-summary,\n",
       ".xr-section-inline-details {\n",
       "  padding-top: 4px;\n",
       "  padding-bottom: 4px;\n",
       "}\n",
       "\n",
       ".xr-section-inline-details {\n",
       "  grid-column: 2 / -1;\n",
       "}\n",
       "\n",
       ".xr-section-details {\n",
       "  display: none;\n",
       "  grid-column: 1 / -1;\n",
       "  margin-bottom: 5px;\n",
       "}\n",
       "\n",
       ".xr-section-summary-in:checked ~ .xr-section-details {\n",
       "  display: contents;\n",
       "}\n",
       "\n",
       ".xr-array-wrap {\n",
       "  grid-column: 1 / -1;\n",
       "  display: grid;\n",
       "  grid-template-columns: 20px auto;\n",
       "}\n",
       "\n",
       ".xr-array-wrap > label {\n",
       "  grid-column: 1;\n",
       "  vertical-align: top;\n",
       "}\n",
       "\n",
       ".xr-preview {\n",
       "  color: var(--xr-font-color3);\n",
       "}\n",
       "\n",
       ".xr-array-preview,\n",
       ".xr-array-data {\n",
       "  padding: 0 5px !important;\n",
       "  grid-column: 2;\n",
       "}\n",
       "\n",
       ".xr-array-data,\n",
       ".xr-array-in:checked ~ .xr-array-preview {\n",
       "  display: none;\n",
       "}\n",
       "\n",
       ".xr-array-in:checked ~ .xr-array-data,\n",
       ".xr-array-preview {\n",
       "  display: inline-block;\n",
       "}\n",
       "\n",
       ".xr-dim-list {\n",
       "  display: inline-block !important;\n",
       "  list-style: none;\n",
       "  padding: 0 !important;\n",
       "  margin: 0;\n",
       "}\n",
       "\n",
       ".xr-dim-list li {\n",
       "  display: inline-block;\n",
       "  padding: 0;\n",
       "  margin: 0;\n",
       "}\n",
       "\n",
       ".xr-dim-list:before {\n",
       "  content: \"(\";\n",
       "}\n",
       "\n",
       ".xr-dim-list:after {\n",
       "  content: \")\";\n",
       "}\n",
       "\n",
       ".xr-dim-list li:not(:last-child):after {\n",
       "  content: \",\";\n",
       "  padding-right: 5px;\n",
       "}\n",
       "\n",
       ".xr-has-index {\n",
       "  font-weight: bold;\n",
       "}\n",
       "\n",
       ".xr-var-list,\n",
       ".xr-var-item {\n",
       "  display: contents;\n",
       "}\n",
       "\n",
       ".xr-var-item > div,\n",
       ".xr-var-item label,\n",
       ".xr-var-item > .xr-var-name span {\n",
       "  background-color: var(--xr-background-color-row-even);\n",
       "  margin-bottom: 0;\n",
       "}\n",
       "\n",
       ".xr-var-item > .xr-var-name:hover span {\n",
       "  padding-right: 5px;\n",
       "}\n",
       "\n",
       ".xr-var-list > li:nth-child(odd) > div,\n",
       ".xr-var-list > li:nth-child(odd) > label,\n",
       ".xr-var-list > li:nth-child(odd) > .xr-var-name span {\n",
       "  background-color: var(--xr-background-color-row-odd);\n",
       "}\n",
       "\n",
       ".xr-var-name {\n",
       "  grid-column: 1;\n",
       "}\n",
       "\n",
       ".xr-var-dims {\n",
       "  grid-column: 2;\n",
       "}\n",
       "\n",
       ".xr-var-dtype {\n",
       "  grid-column: 3;\n",
       "  text-align: right;\n",
       "  color: var(--xr-font-color2);\n",
       "}\n",
       "\n",
       ".xr-var-preview {\n",
       "  grid-column: 4;\n",
       "}\n",
       "\n",
       ".xr-index-preview {\n",
       "  grid-column: 2 / 5;\n",
       "  color: var(--xr-font-color2);\n",
       "}\n",
       "\n",
       ".xr-var-name,\n",
       ".xr-var-dims,\n",
       ".xr-var-dtype,\n",
       ".xr-preview,\n",
       ".xr-attrs dt {\n",
       "  white-space: nowrap;\n",
       "  overflow: hidden;\n",
       "  text-overflow: ellipsis;\n",
       "  padding-right: 10px;\n",
       "}\n",
       "\n",
       ".xr-var-name:hover,\n",
       ".xr-var-dims:hover,\n",
       ".xr-var-dtype:hover,\n",
       ".xr-attrs dt:hover {\n",
       "  overflow: visible;\n",
       "  width: auto;\n",
       "  z-index: 1;\n",
       "}\n",
       "\n",
       ".xr-var-attrs,\n",
       ".xr-var-data,\n",
       ".xr-index-data {\n",
       "  display: none;\n",
       "  background-color: var(--xr-background-color) !important;\n",
       "  padding-bottom: 5px !important;\n",
       "}\n",
       "\n",
       ".xr-var-attrs-in:checked ~ .xr-var-attrs,\n",
       ".xr-var-data-in:checked ~ .xr-var-data,\n",
       ".xr-index-data-in:checked ~ .xr-index-data {\n",
       "  display: block;\n",
       "}\n",
       "\n",
       ".xr-var-data > table {\n",
       "  float: right;\n",
       "}\n",
       "\n",
       ".xr-var-name span,\n",
       ".xr-var-data,\n",
       ".xr-index-name div,\n",
       ".xr-index-data,\n",
       ".xr-attrs {\n",
       "  padding-left: 25px !important;\n",
       "}\n",
       "\n",
       ".xr-attrs,\n",
       ".xr-var-attrs,\n",
       ".xr-var-data,\n",
       ".xr-index-data {\n",
       "  grid-column: 1 / -1;\n",
       "}\n",
       "\n",
       "dl.xr-attrs {\n",
       "  padding: 0;\n",
       "  margin: 0;\n",
       "  display: grid;\n",
       "  grid-template-columns: 125px auto;\n",
       "}\n",
       "\n",
       ".xr-attrs dt,\n",
       ".xr-attrs dd {\n",
       "  padding: 0;\n",
       "  margin: 0;\n",
       "  float: left;\n",
       "  padding-right: 10px;\n",
       "  width: auto;\n",
       "}\n",
       "\n",
       ".xr-attrs dt {\n",
       "  font-weight: normal;\n",
       "  grid-column: 1;\n",
       "}\n",
       "\n",
       ".xr-attrs dt:hover span {\n",
       "  display: inline-block;\n",
       "  background: var(--xr-background-color);\n",
       "  padding-right: 10px;\n",
       "}\n",
       "\n",
       ".xr-attrs dd {\n",
       "  grid-column: 2;\n",
       "  white-space: pre-wrap;\n",
       "  word-break: break-all;\n",
       "}\n",
       "\n",
       ".xr-icon-database,\n",
       ".xr-icon-file-text2,\n",
       ".xr-no-icon {\n",
       "  display: inline-block;\n",
       "  vertical-align: middle;\n",
       "  width: 1em;\n",
       "  height: 1.5em !important;\n",
       "  stroke-width: 0;\n",
       "  stroke: currentColor;\n",
       "  fill: currentColor;\n",
       "}\n",
       "</style><pre class='xr-text-repr-fallback'>&lt;xarray.Dataset&gt; Size: 321kB\n",
       "Dimensions:              (latitude: 1, longitude: 1, depth: 3, time: 1821)\n",
       "Coordinates: (4)\n",
       "Data variables: (13)</pre><div class='xr-wrap' style='display:none'><div class='xr-header'><div class='xr-obj-type'>xarray.Dataset</div></div><ul class='xr-sections'><li class='xr-section-item'><input id='section-80b76c16-fde6-42c9-a1b0-9d6df1d9e857' class='xr-section-summary-in' type='checkbox' disabled ><label for='section-80b76c16-fde6-42c9-a1b0-9d6df1d9e857' class='xr-section-summary'  title='Expand/collapse section'>Dimensions:</label><div class='xr-section-inline-details'><ul class='xr-dim-list'><li><span class='xr-has-index'>latitude</span>: 1</li><li><span class='xr-has-index'>longitude</span>: 1</li><li><span class='xr-has-index'>depth</span>: 3</li><li><span class='xr-has-index'>time</span>: 1821</li></ul></div><div class='xr-section-details'></div></li><li class='xr-section-item'><input id='section-ba61b260-8cc3-4cd2-a7cb-085f068eab0b' class='xr-section-summary-in' type='checkbox'  ><label for='section-ba61b260-8cc3-4cd2-a7cb-085f068eab0b' class='xr-section-summary' >Coordinates: <span>(4)</span></label><div class='xr-section-inline-details'></div><div class='xr-section-details'><ul class='xr-var-list'><li class='xr-var-item'><div class='xr-var-name'><span class='xr-has-index'>depth</span></div><div class='xr-var-dims'>(depth)</div><div class='xr-var-dtype'>int64</div><div class='xr-var-preview xr-preview'>0 1 2</div><input id='attrs-b623d563-789a-4be0-b6c4-60bf471b63f1' class='xr-var-attrs-in' type='checkbox' ><label for='attrs-b623d563-789a-4be0-b6c4-60bf471b63f1' title='Show/Hide attributes'><svg class='icon xr-icon-file-text2'><use xlink:href='#icon-file-text2'></use></svg></label><input id='data-0e6ec9c0-cc16-46ba-9096-f8d5ce569a7b' class='xr-var-data-in' type='checkbox'><label for='data-0e6ec9c0-cc16-46ba-9096-f8d5ce569a7b' title='Show/Hide data repr'><svg class='icon xr-icon-database'><use xlink:href='#icon-database'></use></svg></label><div class='xr-var-attrs'><dl class='xr-attrs'><dt><span>axis :</span></dt><dd>Z</dd><dt><span>desc :</span></dt><dd>The layer depth according to Seapodym definition</dd><dt><span>flag_meanings :</span></dt><dd>epipelagic, upper-mesopelagic, lower-mesopelagic</dd><dt><span>flag_values :</span></dt><dd>[0 1 2]</dd><dt><span>long_name :</span></dt><dd>Layer depth</dd><dt><span>standard_name :</span></dt><dd>depth</dd></dl></div><div class='xr-var-data'><pre>array([0, 1, 2])</pre></div></li><li class='xr-var-item'><div class='xr-var-name'><span class='xr-has-index'>latitude</span></div><div class='xr-var-dims'>(latitude)</div><div class='xr-var-dtype'>float64</div><div class='xr-var-preview xr-preview'>22.75</div><input id='attrs-c22e167b-5711-4271-8072-6ea97a7a56d8' class='xr-var-attrs-in' type='checkbox' ><label for='attrs-c22e167b-5711-4271-8072-6ea97a7a56d8' title='Show/Hide attributes'><svg class='icon xr-icon-file-text2'><use xlink:href='#icon-file-text2'></use></svg></label><input id='data-bbc756e4-17d8-4a42-bdb5-50cc2ecb3751' class='xr-var-data-in' type='checkbox'><label for='data-bbc756e4-17d8-4a42-bdb5-50cc2ecb3751' title='Show/Hide data repr'><svg class='icon xr-icon-database'><use xlink:href='#icon-database'></use></svg></label><div class='xr-var-attrs'><dl class='xr-attrs'><dt><span>axis :</span></dt><dd>Y</dd><dt><span>standard_name :</span></dt><dd>latitude</dd><dt><span>units :</span></dt><dd>degrees_north</dd></dl></div><div class='xr-var-data'><pre>array([22.75])</pre></div></li><li class='xr-var-item'><div class='xr-var-name'><span class='xr-has-index'>longitude</span></div><div class='xr-var-dims'>(longitude)</div><div class='xr-var-dtype'>int64</div><div class='xr-var-preview xr-preview'>-158</div><input id='attrs-bab91f18-3025-49ef-bdc0-de0af031ec13' class='xr-var-attrs-in' type='checkbox' ><label for='attrs-bab91f18-3025-49ef-bdc0-de0af031ec13' title='Show/Hide attributes'><svg class='icon xr-icon-file-text2'><use xlink:href='#icon-file-text2'></use></svg></label><input id='data-d7d15bb6-15fc-4896-a2a0-e9bb79b334ae' class='xr-var-data-in' type='checkbox'><label for='data-d7d15bb6-15fc-4896-a2a0-e9bb79b334ae' title='Show/Hide data repr'><svg class='icon xr-icon-database'><use xlink:href='#icon-database'></use></svg></label><div class='xr-var-attrs'><dl class='xr-attrs'><dt><span>axis :</span></dt><dd>X</dd><dt><span>standard_name :</span></dt><dd>longitude</dd><dt><span>units :</span></dt><dd>degrees_east</dd></dl></div><div class='xr-var-data'><pre>array([-158])</pre></div></li><li class='xr-var-item'><div class='xr-var-name'><span class='xr-has-index'>time</span></div><div class='xr-var-dims'>(time)</div><div class='xr-var-dtype'>datetime64[ns]</div><div class='xr-var-preview xr-preview'>2005-01-02 ... 2009-12-27</div><input id='attrs-a1f1f7e8-59ef-4efe-9921-658b09a0aeb6' class='xr-var-attrs-in' type='checkbox' ><label for='attrs-a1f1f7e8-59ef-4efe-9921-658b09a0aeb6' title='Show/Hide attributes'><svg class='icon xr-icon-file-text2'><use xlink:href='#icon-file-text2'></use></svg></label><input id='data-23e16397-b703-4408-aee2-376960e60264' class='xr-var-data-in' type='checkbox'><label for='data-23e16397-b703-4408-aee2-376960e60264' title='Show/Hide data repr'><svg class='icon xr-icon-database'><use xlink:href='#icon-database'></use></svg></label><div class='xr-var-attrs'><dl class='xr-attrs'><dt><span>axis :</span></dt><dd>T</dd><dt><span>long_name :</span></dt><dd>Time</dd><dt><span>standard_name :</span></dt><dd>time</dd><dt><span>unit_long :</span></dt><dd>Seconds Since 1970-01-01</dd></dl></div><div class='xr-var-data'><pre>array([&#x27;2005-01-02T00:00:00.000000000&#x27;, &#x27;2005-01-03T00:00:00.000000000&#x27;,\n",
       "       &#x27;2005-01-04T00:00:00.000000000&#x27;, ..., &#x27;2009-12-25T00:00:00.000000000&#x27;,\n",
       "       &#x27;2009-12-26T00:00:00.000000000&#x27;, &#x27;2009-12-27T00:00:00.000000000&#x27;],\n",
       "      dtype=&#x27;datetime64[ns]&#x27;)</pre></div></li></ul></div></li><li class='xr-section-item'><input id='section-ca5c6511-1ae0-4b42-9c99-9ddc6e4e81b8' class='xr-section-summary-in' type='checkbox'  ><label for='section-ca5c6511-1ae0-4b42-9c99-9ddc6e4e81b8' class='xr-section-summary' >Data variables: <span>(13)</span></label><div class='xr-section-inline-details'></div><div class='xr-section-details'><ul class='xr-var-list'><li class='xr-var-item'><div class='xr-var-name'><span>T</span></div><div class='xr-var-dims'>(latitude, longitude, depth, time)</div><div class='xr-var-dtype'>float64</div><div class='xr-var-preview xr-preview'>23.87 23.83 23.8 ... 6.838 6.845</div><input id='attrs-50e15b24-6f58-4871-8c59-1dcf19b5e164' class='xr-var-attrs-in' type='checkbox' ><label for='attrs-50e15b24-6f58-4871-8c59-1dcf19b5e164' title='Show/Hide attributes'><svg class='icon xr-icon-file-text2'><use xlink:href='#icon-file-text2'></use></svg></label><input id='data-cbbe5c19-e4d0-4a41-acef-85b7b89b1e34' class='xr-var-data-in' type='checkbox'><label for='data-cbbe5c19-e4d0-4a41-acef-85b7b89b1e34' title='Show/Hide data repr'><svg class='icon xr-icon-database'><use xlink:href='#icon-database'></use></svg></label><div class='xr-var-attrs'><dl class='xr-attrs'><dt><span>standard_name :</span></dt><dd>sea_water_potential_temperature_vertical_mean_over_pelagic_layer</dd><dt><span>units :</span></dt><dd>degree_Celsius</dd></dl></div><div class='xr-var-data'><pre>array([[[[23.86504436, 23.83319095, 23.80305082, ..., 24.02240894,\n",
       "          23.99937947, 24.00357859],\n",
       "         [16.66998319, 16.58043521, 16.61132687, ..., 16.48497482,\n",
       "          16.53637859, 16.60012746],\n",
       "         [ 6.84060112,  6.76111211,  6.78375794, ...,  6.81965281,\n",
       "           6.8383728 ,  6.84501572]]]])</pre></div></li><li class='xr-var-item'><div class='xr-var-name'><span>U</span></div><div class='xr-var-dims'>(latitude, longitude, depth, time)</div><div class='xr-var-dtype'>float64</div><div class='xr-var-preview xr-preview'>-0.03784 -0.03904 ... -0.04712</div><input id='attrs-2bbde8ba-1409-43c8-b375-62b7617d0f84' class='xr-var-attrs-in' type='checkbox' ><label for='attrs-2bbde8ba-1409-43c8-b375-62b7617d0f84' title='Show/Hide attributes'><svg class='icon xr-icon-file-text2'><use xlink:href='#icon-file-text2'></use></svg></label><input id='data-16e89db8-1048-45bd-bd12-18065a394aee' class='xr-var-data-in' type='checkbox'><label for='data-16e89db8-1048-45bd-bd12-18065a394aee' title='Show/Hide data repr'><svg class='icon xr-icon-database'><use xlink:href='#icon-database'></use></svg></label><div class='xr-var-attrs'><dl class='xr-attrs'><dt><span>standard_name :</span></dt><dd>eastward_sea_water_velocity_vertical_mean_over_pelagic_layer</dd><dt><span>units :</span></dt><dd>m/s</dd></dl></div><div class='xr-var-data'><pre>array([[[[-0.03784229, -0.03904063, -0.05429999, ..., -0.02922558,\n",
       "          -0.03219353, -0.03774184],\n",
       "         [-0.07049945, -0.06776537, -0.0663575 , ..., -0.0600492 ,\n",
       "          -0.06169806, -0.06509523],\n",
       "         [-0.04448595, -0.04409478, -0.04372392, ..., -0.04656605,\n",
       "          -0.0470876 , -0.04711601]]]])</pre></div></li><li class='xr-var-item'><div class='xr-var-name'><span>V</span></div><div class='xr-var-dims'>(latitude, longitude, depth, time)</div><div class='xr-var-dtype'>float64</div><div class='xr-var-preview xr-preview'>-0.01574 -0.02205 ... -0.02205</div><input id='attrs-9275e4fd-5ee1-4f9a-be22-5c2109f5a563' class='xr-var-attrs-in' type='checkbox' ><label for='attrs-9275e4fd-5ee1-4f9a-be22-5c2109f5a563' title='Show/Hide attributes'><svg class='icon xr-icon-file-text2'><use xlink:href='#icon-file-text2'></use></svg></label><input id='data-d4b1ee60-d2ea-4586-a344-048aea53ba2b' class='xr-var-data-in' type='checkbox'><label for='data-d4b1ee60-d2ea-4586-a344-048aea53ba2b' title='Show/Hide data repr'><svg class='icon xr-icon-database'><use xlink:href='#icon-database'></use></svg></label><div class='xr-var-attrs'><dl class='xr-attrs'><dt><span>standard_name :</span></dt><dd>northward_sea_water_velocity_vertical_mean_over_pelagic_layer</dd><dt><span>units :</span></dt><dd>m/s</dd></dl></div><div class='xr-var-data'><pre>array([[[[-0.01574188, -0.02204753, -0.02294442, ..., -0.02675923,\n",
       "          -0.02601578, -0.01836348],\n",
       "         [-0.01138451, -0.01739488, -0.01902415, ..., -0.02677241,\n",
       "          -0.02533032, -0.02150444],\n",
       "         [-0.01709065, -0.0188723 , -0.01945441, ..., -0.02269713,\n",
       "          -0.02211186, -0.02205122]]]])</pre></div></li><li class='xr-var-item'><div class='xr-var-name'><span>mnkc_epi</span></div><div class='xr-var-dims'>(latitude, longitude, time)</div><div class='xr-var-dtype'>float64</div><div class='xr-var-preview xr-preview'>0.2892 0.2914 ... 0.2711 0.2764</div><input id='attrs-0f4acd64-0f4c-4cea-bd80-db97fe934b35' class='xr-var-attrs-in' type='checkbox' ><label for='attrs-0f4acd64-0f4c-4cea-bd80-db97fe934b35' title='Show/Hide attributes'><svg class='icon xr-icon-file-text2'><use xlink:href='#icon-file-text2'></use></svg></label><input id='data-8d06e3eb-64ba-48b5-9fb0-f0cd60e5156f' class='xr-var-data-in' type='checkbox'><label for='data-8d06e3eb-64ba-48b5-9fb0-f0cd60e5156f' title='Show/Hide data repr'><svg class='icon xr-icon-database'><use xlink:href='#icon-database'></use></svg></label><div class='xr-var-attrs'><dl class='xr-attrs'><dt><span>carbon_to_wet_weight_conversion_factor :</span></dt><dd>11.9</dd><dt><span>day_layer :</span></dt><dd>epipelagic (1)</dd><dt><span>night_layer :</span></dt><dd>epipelagic (1)</dd><dt><span>standard_name :</span></dt><dd>mass_content_of_epipelagic_micronekton_expressed_as_wet_weight_in_sea_water</dd><dt><span>units :</span></dt><dd>g m-2</dd></dl></div><div class='xr-var-data'><pre>array([[[0.28922369, 0.29140194, 0.29600047, ..., 0.26695713,\n",
       "         0.2710716 , 0.27639621]]])</pre></div></li><li class='xr-var-item'><div class='xr-var-name'><span>mnkc_hmlmeso</span></div><div class='xr-var-dims'>(latitude, longitude, time)</div><div class='xr-var-dtype'>float64</div><div class='xr-var-preview xr-preview'>0.822 0.8258 ... 0.7827 0.8015</div><input id='attrs-3833c895-391a-4e64-876e-05cfb66075c8' class='xr-var-attrs-in' type='checkbox' ><label for='attrs-3833c895-391a-4e64-876e-05cfb66075c8' title='Show/Hide attributes'><svg class='icon xr-icon-file-text2'><use xlink:href='#icon-file-text2'></use></svg></label><input id='data-24a7da97-9463-417c-be44-e55314b57788' class='xr-var-data-in' type='checkbox'><label for='data-24a7da97-9463-417c-be44-e55314b57788' title='Show/Hide data repr'><svg class='icon xr-icon-database'><use xlink:href='#icon-database'></use></svg></label><div class='xr-var-attrs'><dl class='xr-attrs'><dt><span>carbon_to_wet_weight_conversion_factor :</span></dt><dd>11.9</dd><dt><span>day_layer :</span></dt><dd>lower mesopelagic (3)</dd><dt><span>night_layer :</span></dt><dd>epipelagic (1)</dd><dt><span>standard_name :</span></dt><dd>mass_content_of_highly_migrant_lower_mesopelagic_micronekton_expressed_as_wet_weight_in_sea_water</dd><dt><span>units :</span></dt><dd>g m-2</dd></dl></div><div class='xr-var-data'><pre>array([[[0.82201547, 0.82583342, 0.83300653, ..., 0.77053105,\n",
       "         0.78267906, 0.8015374 ]]])</pre></div></li><li class='xr-var-item'><div class='xr-var-name'><span>mnkc_lmeso</span></div><div class='xr-var-dims'>(latitude, longitude, time)</div><div class='xr-var-dtype'>float64</div><div class='xr-var-preview xr-preview'>2.139 2.14 2.136 ... 2.188 2.187</div><input id='attrs-4de2d90e-7825-4fe5-82d9-99be4d335331' class='xr-var-attrs-in' type='checkbox' ><label for='attrs-4de2d90e-7825-4fe5-82d9-99be4d335331' title='Show/Hide attributes'><svg class='icon xr-icon-file-text2'><use xlink:href='#icon-file-text2'></use></svg></label><input id='data-af9f4c27-92a4-43c3-a366-92f2a49661a0' class='xr-var-data-in' type='checkbox'><label for='data-af9f4c27-92a4-43c3-a366-92f2a49661a0' title='Show/Hide data repr'><svg class='icon xr-icon-database'><use xlink:href='#icon-database'></use></svg></label><div class='xr-var-attrs'><dl class='xr-attrs'><dt><span>carbon_to_wet_weight_conversion_factor :</span></dt><dd>11.9</dd><dt><span>day_layer :</span></dt><dd>lower mesopelagic (3)</dd><dt><span>night_layer :</span></dt><dd>lower mesopelagic (3)</dd><dt><span>standard_name :</span></dt><dd>mass_content_of_lower_mesopelagic_micronekton_expressed_as_wet_weight_in_sea_water</dd><dt><span>units :</span></dt><dd>g m-2</dd></dl></div><div class='xr-var-data'><pre>array([[[2.13880129, 2.14000388, 2.13579482, ..., 2.18718229,\n",
       "         2.18829238, 2.18681227]]])</pre></div></li><li class='xr-var-item'><div class='xr-var-name'><span>mnkc_mlmeso</span></div><div class='xr-var-dims'>(latitude, longitude, time)</div><div class='xr-var-dtype'>float64</div><div class='xr-var-preview xr-preview'>0.9789 0.9809 ... 0.9286 0.9285</div><input id='attrs-3c420fce-f39e-4190-9bc1-aad60cfcc369' class='xr-var-attrs-in' type='checkbox' ><label for='attrs-3c420fce-f39e-4190-9bc1-aad60cfcc369' title='Show/Hide attributes'><svg class='icon xr-icon-file-text2'><use xlink:href='#icon-file-text2'></use></svg></label><input id='data-f4fa1155-69b1-475a-a200-200824753ca1' class='xr-var-data-in' type='checkbox'><label for='data-f4fa1155-69b1-475a-a200-200824753ca1' title='Show/Hide data repr'><svg class='icon xr-icon-database'><use xlink:href='#icon-database'></use></svg></label><div class='xr-var-attrs'><dl class='xr-attrs'><dt><span>carbon_to_wet_weight_conversion_factor :</span></dt><dd>11.9</dd><dt><span>day_layer :</span></dt><dd>lower mesopelagic (3)</dd><dt><span>night_layer :</span></dt><dd>upper mesopelagic (2)</dd><dt><span>standard_name :</span></dt><dd>mass_content_of_migrant_lower_mesopelagic_micronekton_expressed_as_wet_weight_in_sea_water</dd><dt><span>units :</span></dt><dd>g m-2</dd></dl></div><div class='xr-var-data'><pre>array([[[0.97887494, 0.98090595, 0.98424261, ..., 0.92904263,\n",
       "         0.92860741, 0.92846234]]])</pre></div></li><li class='xr-var-item'><div class='xr-var-name'><span>mnkc_mumeso</span></div><div class='xr-var-dims'>(latitude, longitude, time)</div><div class='xr-var-dtype'>float64</div><div class='xr-var-preview xr-preview'>0.575 0.5776 ... 0.533 0.5511</div><input id='attrs-17c06fd7-274c-450a-a2ad-41d1a4fe180b' class='xr-var-attrs-in' type='checkbox' ><label for='attrs-17c06fd7-274c-450a-a2ad-41d1a4fe180b' title='Show/Hide attributes'><svg class='icon xr-icon-file-text2'><use xlink:href='#icon-file-text2'></use></svg></label><input id='data-b080f7d7-feba-4b89-9400-5b171da8127a' class='xr-var-data-in' type='checkbox'><label for='data-b080f7d7-feba-4b89-9400-5b171da8127a' title='Show/Hide data repr'><svg class='icon xr-icon-database'><use xlink:href='#icon-database'></use></svg></label><div class='xr-var-attrs'><dl class='xr-attrs'><dt><span>carbon_to_wet_weight_conversion_factor :</span></dt><dd>11.9</dd><dt><span>day_layer :</span></dt><dd>upper mesopelagic (2)</dd><dt><span>night_layer :</span></dt><dd>epipelagic (1)</dd><dt><span>standard_name :</span></dt><dd>mass_content_of_migrant_upper_mesopelagic_micronekton_expressed_as_wet_weight_in_sea_water</dd><dt><span>units :</span></dt><dd>g m-2</dd></dl></div><div class='xr-var-data'><pre>array([[[0.57503555, 0.57757034, 0.57829456, ..., 0.52470188,\n",
       "         0.53303048, 0.55113611]]])</pre></div></li><li class='xr-var-item'><div class='xr-var-name'><span>mnkc_umeso</span></div><div class='xr-var-dims'>(latitude, longitude, time)</div><div class='xr-var-dtype'>float64</div><div class='xr-var-preview xr-preview'>0.5002 0.4971 ... 0.4706 0.4742</div><input id='attrs-01e497ae-9665-46a5-b72f-13edc246c3c7' class='xr-var-attrs-in' type='checkbox' ><label for='attrs-01e497ae-9665-46a5-b72f-13edc246c3c7' title='Show/Hide attributes'><svg class='icon xr-icon-file-text2'><use xlink:href='#icon-file-text2'></use></svg></label><input id='data-f2be4a89-166f-4fbd-a66b-823607fc11d6' class='xr-var-data-in' type='checkbox'><label for='data-f2be4a89-166f-4fbd-a66b-823607fc11d6' title='Show/Hide data repr'><svg class='icon xr-icon-database'><use xlink:href='#icon-database'></use></svg></label><div class='xr-var-attrs'><dl class='xr-attrs'><dt><span>carbon_to_wet_weight_conversion_factor :</span></dt><dd>11.9</dd><dt><span>day_layer :</span></dt><dd>upper mesopelagic (2)</dd><dt><span>night_layer :</span></dt><dd>upper mesopelagic (2)</dd><dt><span>standard_name :</span></dt><dd>mass_content_of_upper_mesopelagic_micronekton_expressed_as_wet_weight_in_sea_water</dd><dt><span>units :</span></dt><dd>g m-2</dd></dl></div><div class='xr-var-data'><pre>array([[[0.50017163, 0.49711832, 0.49883581, ..., 0.4709743 ,\n",
       "         0.47059264, 0.47421845]]])</pre></div></li><li class='xr-var-item'><div class='xr-var-name'><span>npp</span></div><div class='xr-var-dims'>(latitude, longitude, time)</div><div class='xr-var-dtype'>float64</div><div class='xr-var-preview xr-preview'>323.3 321.7 324.9 ... 324.1 323.7</div><input id='attrs-52e5a4f3-f69f-45e8-85f4-930208754a1a' class='xr-var-attrs-in' type='checkbox' ><label for='attrs-52e5a4f3-f69f-45e8-85f4-930208754a1a' title='Show/Hide attributes'><svg class='icon xr-icon-file-text2'><use xlink:href='#icon-file-text2'></use></svg></label><input id='data-2526aeef-59d7-4ef5-9185-0786807e395d' class='xr-var-data-in' type='checkbox'><label for='data-2526aeef-59d7-4ef5-9185-0786807e395d' title='Show/Hide data repr'><svg class='icon xr-icon-database'><use xlink:href='#icon-database'></use></svg></label><div class='xr-var-attrs'><dl class='xr-attrs'><dt><span>standard_name :</span></dt><dd>net_primary_productivity_of_biomass_expressed_as_carbon_in_sea_water</dd><dt><span>units :</span></dt><dd>mg m-2 day-1</dd></dl></div><div class='xr-var-data'><pre>array([[[323.30059641, 321.69749695, 324.92808604, ..., 322.55115296,\n",
       "         324.08329919, 323.74405407]]])</pre></div></li><li class='xr-var-item'><div class='xr-var-name'><span>pelagic_layer_depth</span></div><div class='xr-var-dims'>(latitude, longitude, depth, time)</div><div class='xr-var-dtype'>float64</div><div class='xr-var-preview xr-preview'>113.1 114.2 113.8 ... 795.2 790.6</div><input id='attrs-2eeecf5a-e53c-43c1-901e-14e669651f3f' class='xr-var-attrs-in' type='checkbox' ><label for='attrs-2eeecf5a-e53c-43c1-901e-14e669651f3f' title='Show/Hide attributes'><svg class='icon xr-icon-file-text2'><use xlink:href='#icon-file-text2'></use></svg></label><input id='data-d6acfe65-c1e7-4793-aa0a-13451303a338' class='xr-var-data-in' type='checkbox'><label for='data-d6acfe65-c1e7-4793-aa0a-13451303a338' title='Show/Hide data repr'><svg class='icon xr-icon-database'><use xlink:href='#icon-database'></use></svg></label><div class='xr-var-attrs'><dl class='xr-attrs'><dt><span>standard_name :</span></dt><dd>sea_water_pelagic_layer_bottom_depth</dd><dt><span>units :</span></dt><dd>m</dd></dl></div><div class='xr-var-data'><pre>array([[[[113.10354322, 114.18750083, 113.81216693, ..., 113.72807878,\n",
       "          113.59442872, 112.940518  ],\n",
       "         [339.31043331, 342.55868646, 341.43560836, ..., 341.18445764,\n",
       "          340.78155842, 338.82093999],\n",
       "         [791.72463115, 799.30328521, 796.68179512, ..., 796.09665848,\n",
       "          795.15484327, 790.58303695]]]])</pre></div></li><li class='xr-var-item'><div class='xr-var-name'><span>zeu</span></div><div class='xr-var-dims'>(latitude, longitude, time)</div><div class='xr-var-dtype'>float64</div><div class='xr-var-preview xr-preview'>75.4 76.12 75.87 ... 75.73 75.29</div><input id='attrs-264b7663-2a15-48ee-aa65-0d40c58f8a0b' class='xr-var-attrs-in' type='checkbox' ><label for='attrs-264b7663-2a15-48ee-aa65-0d40c58f8a0b' title='Show/Hide attributes'><svg class='icon xr-icon-file-text2'><use xlink:href='#icon-file-text2'></use></svg></label><input id='data-4ae2b563-9117-4670-b76f-a111f83fe836' class='xr-var-data-in' type='checkbox'><label for='data-4ae2b563-9117-4670-b76f-a111f83fe836' title='Show/Hide data repr'><svg class='icon xr-icon-database'><use xlink:href='#icon-database'></use></svg></label><div class='xr-var-attrs'><dl class='xr-attrs'><dt><span>standard_name :</span></dt><dd>euphotic_zone_depth</dd><dt><span>units :</span></dt><dd>m</dd></dl></div><div class='xr-var-data'><pre>array([[[75.40235887, 76.124194  , 75.87461893, ..., 75.81893335,\n",
       "         75.72910867, 75.29362373]]])</pre></div></li><li class='xr-var-item'><div class='xr-var-name'><span>zooc</span></div><div class='xr-var-dims'>(latitude, longitude, time)</div><div class='xr-var-dtype'>float64</div><div class='xr-var-preview xr-preview'>0.2672 0.2722 ... 0.2535 0.2571</div><input id='attrs-ea58e675-fd0e-43c7-9b43-b2e4c0d197b4' class='xr-var-attrs-in' type='checkbox' ><label for='attrs-ea58e675-fd0e-43c7-9b43-b2e4c0d197b4' title='Show/Hide attributes'><svg class='icon xr-icon-file-text2'><use xlink:href='#icon-file-text2'></use></svg></label><input id='data-58b9091c-090a-44af-8ced-5f9f3eb63e70' class='xr-var-data-in' type='checkbox'><label for='data-58b9091c-090a-44af-8ced-5f9f3eb63e70' title='Show/Hide data repr'><svg class='icon xr-icon-database'><use xlink:href='#icon-database'></use></svg></label><div class='xr-var-attrs'><dl class='xr-attrs'><dt><span>standard_name :</span></dt><dd>mass_content_of_zooplankton_expressed_as_carbon_in_sea_water</dd><dt><span>units :</span></dt><dd>g m-2</dd></dl></div><div class='xr-var-data'><pre>array([[[0.26716173, 0.27222081, 0.27361206, ..., 0.25034028,\n",
       "         0.25348113, 0.25708573]]])</pre></div></li></ul></div></li><li class='xr-section-item'><input id='section-6a2985a7-bf7b-463a-b728-788ee1d479e0' class='xr-section-summary-in' type='checkbox'  ><label for='section-6a2985a7-bf7b-463a-b728-788ee1d479e0' class='xr-section-summary' >Indexes: <span>(4)</span></label><div class='xr-section-inline-details'></div><div class='xr-section-details'><ul class='xr-var-list'><li class='xr-var-item'><div class='xr-index-name'><div>depth</div></div><div class='xr-index-preview'>PandasIndex</div><input type='checkbox' disabled/><label></label><input id='index-61d94e09-6cdd-4e36-a598-f23698614471' class='xr-index-data-in' type='checkbox'/><label for='index-61d94e09-6cdd-4e36-a598-f23698614471' title='Show/Hide index repr'><svg class='icon xr-icon-database'><use xlink:href='#icon-database'></use></svg></label><div class='xr-index-data'><pre>PandasIndex(Index([0, 1, 2], dtype=&#x27;int64&#x27;, name=&#x27;depth&#x27;))</pre></div></li><li class='xr-var-item'><div class='xr-index-name'><div>latitude</div></div><div class='xr-index-preview'>PandasIndex</div><input type='checkbox' disabled/><label></label><input id='index-6f72d5e1-f37b-4f65-bc3a-902f82553651' class='xr-index-data-in' type='checkbox'/><label for='index-6f72d5e1-f37b-4f65-bc3a-902f82553651' title='Show/Hide index repr'><svg class='icon xr-icon-database'><use xlink:href='#icon-database'></use></svg></label><div class='xr-index-data'><pre>PandasIndex(Index([22.75], dtype=&#x27;float64&#x27;, name=&#x27;latitude&#x27;))</pre></div></li><li class='xr-var-item'><div class='xr-index-name'><div>longitude</div></div><div class='xr-index-preview'>PandasIndex</div><input type='checkbox' disabled/><label></label><input id='index-43ff09f8-f0da-429a-9eac-241cc13530f0' class='xr-index-data-in' type='checkbox'/><label for='index-43ff09f8-f0da-429a-9eac-241cc13530f0' title='Show/Hide index repr'><svg class='icon xr-icon-database'><use xlink:href='#icon-database'></use></svg></label><div class='xr-index-data'><pre>PandasIndex(Index([-158], dtype=&#x27;int64&#x27;, name=&#x27;longitude&#x27;))</pre></div></li><li class='xr-var-item'><div class='xr-index-name'><div>time</div></div><div class='xr-index-preview'>PandasIndex</div><input type='checkbox' disabled/><label></label><input id='index-63ec96db-31b6-406c-afd9-13ad766d80f9' class='xr-index-data-in' type='checkbox'/><label for='index-63ec96db-31b6-406c-afd9-13ad766d80f9' title='Show/Hide index repr'><svg class='icon xr-icon-database'><use xlink:href='#icon-database'></use></svg></label><div class='xr-index-data'><pre>PandasIndex(DatetimeIndex([&#x27;2005-01-02&#x27;, &#x27;2005-01-03&#x27;, &#x27;2005-01-04&#x27;, &#x27;2005-01-05&#x27;,\n",
       "               &#x27;2005-01-06&#x27;, &#x27;2005-01-07&#x27;, &#x27;2005-01-08&#x27;, &#x27;2005-01-09&#x27;,\n",
       "               &#x27;2005-01-10&#x27;, &#x27;2005-01-11&#x27;,\n",
       "               ...\n",
       "               &#x27;2009-12-18&#x27;, &#x27;2009-12-19&#x27;, &#x27;2009-12-20&#x27;, &#x27;2009-12-21&#x27;,\n",
       "               &#x27;2009-12-22&#x27;, &#x27;2009-12-23&#x27;, &#x27;2009-12-24&#x27;, &#x27;2009-12-25&#x27;,\n",
       "               &#x27;2009-12-26&#x27;, &#x27;2009-12-27&#x27;],\n",
       "              dtype=&#x27;datetime64[ns]&#x27;, name=&#x27;time&#x27;, length=1821, freq=None))</pre></div></li></ul></div></li><li class='xr-section-item'><input id='section-5720d26e-a2a8-4769-8632-b1e6cff9f2d6' class='xr-section-summary-in' type='checkbox' disabled ><label for='section-5720d26e-a2a8-4769-8632-b1e6cff9f2d6' class='xr-section-summary'  title='Expand/collapse section'>Attributes: <span>(0)</span></label><div class='xr-section-inline-details'></div><div class='xr-section-details'><dl class='xr-attrs'></dl></div></li></ul></div></div>"
      ],
      "text/plain": [
       "<xarray.Dataset> Size: 321kB\n",
       "Dimensions:              (latitude: 1, longitude: 1, depth: 3, time: 1821)\n",
       "Coordinates: (4)\n",
       "Data variables: (13)"
      ]
     },
     "execution_count": 4,
     "metadata": {},
     "output_type": "execute_result"
    }
   ],
   "source": [
    "forcing = xr.open_zarr(path_to_forcing)\n",
    "forcing = forcing.sel(time=slice(TIME_START, TIME_END))\n",
    "forcing[\"T\"].attrs[\"units\"] = StandardUnitsLabels.temperature.units\n",
    "forcing.load()"
   ]
  },
  {
   "cell_type": "markdown",
   "metadata": {},
   "source": [
    "### Epipelagic layer\n"
   ]
  },
  {
   "cell_type": "code",
   "execution_count": 5,
   "metadata": {},
   "outputs": [
    {
     "data": {
      "text/html": [
       "<div><svg style=\"position: absolute; width: 0; height: 0; overflow: hidden\">\n",
       "<defs>\n",
       "<symbol id=\"icon-database\" viewBox=\"0 0 32 32\">\n",
       "<path d=\"M16 0c-8.837 0-16 2.239-16 5v4c0 2.761 7.163 5 16 5s16-2.239 16-5v-4c0-2.761-7.163-5-16-5z\"></path>\n",
       "<path d=\"M16 17c-8.837 0-16-2.239-16-5v6c0 2.761 7.163 5 16 5s16-2.239 16-5v-6c0 2.761-7.163 5-16 5z\"></path>\n",
       "<path d=\"M16 26c-8.837 0-16-2.239-16-5v6c0 2.761 7.163 5 16 5s16-2.239 16-5v-6c0 2.761-7.163 5-16 5z\"></path>\n",
       "</symbol>\n",
       "<symbol id=\"icon-file-text2\" viewBox=\"0 0 32 32\">\n",
       "<path d=\"M28.681 7.159c-0.694-0.947-1.662-2.053-2.724-3.116s-2.169-2.030-3.116-2.724c-1.612-1.182-2.393-1.319-2.841-1.319h-15.5c-1.378 0-2.5 1.121-2.5 2.5v27c0 1.378 1.122 2.5 2.5 2.5h23c1.378 0 2.5-1.122 2.5-2.5v-19.5c0-0.448-0.137-1.23-1.319-2.841zM24.543 5.457c0.959 0.959 1.712 1.825 2.268 2.543h-4.811v-4.811c0.718 0.556 1.584 1.309 2.543 2.268zM28 29.5c0 0.271-0.229 0.5-0.5 0.5h-23c-0.271 0-0.5-0.229-0.5-0.5v-27c0-0.271 0.229-0.5 0.5-0.5 0 0 15.499-0 15.5 0v7c0 0.552 0.448 1 1 1h7v19.5z\"></path>\n",
       "<path d=\"M23 26h-14c-0.552 0-1-0.448-1-1s0.448-1 1-1h14c0.552 0 1 0.448 1 1s-0.448 1-1 1z\"></path>\n",
       "<path d=\"M23 22h-14c-0.552 0-1-0.448-1-1s0.448-1 1-1h14c0.552 0 1 0.448 1 1s-0.448 1-1 1z\"></path>\n",
       "<path d=\"M23 18h-14c-0.552 0-1-0.448-1-1s0.448-1 1-1h14c0.552 0 1 0.448 1 1s-0.448 1-1 1z\"></path>\n",
       "</symbol>\n",
       "</defs>\n",
       "</svg>\n",
       "<style>/* CSS stylesheet for displaying xarray objects in jupyterlab.\n",
       " *\n",
       " */\n",
       "\n",
       ":root {\n",
       "  --xr-font-color0: var(--jp-content-font-color0, rgba(0, 0, 0, 1));\n",
       "  --xr-font-color2: var(--jp-content-font-color2, rgba(0, 0, 0, 0.54));\n",
       "  --xr-font-color3: var(--jp-content-font-color3, rgba(0, 0, 0, 0.38));\n",
       "  --xr-border-color: var(--jp-border-color2, #e0e0e0);\n",
       "  --xr-disabled-color: var(--jp-layout-color3, #bdbdbd);\n",
       "  --xr-background-color: var(--jp-layout-color0, white);\n",
       "  --xr-background-color-row-even: var(--jp-layout-color1, white);\n",
       "  --xr-background-color-row-odd: var(--jp-layout-color2, #eeeeee);\n",
       "}\n",
       "\n",
       "html[theme=\"dark\"],\n",
       "html[data-theme=\"dark\"],\n",
       "body[data-theme=\"dark\"],\n",
       "body.vscode-dark {\n",
       "  --xr-font-color0: rgba(255, 255, 255, 1);\n",
       "  --xr-font-color2: rgba(255, 255, 255, 0.54);\n",
       "  --xr-font-color3: rgba(255, 255, 255, 0.38);\n",
       "  --xr-border-color: #1f1f1f;\n",
       "  --xr-disabled-color: #515151;\n",
       "  --xr-background-color: #111111;\n",
       "  --xr-background-color-row-even: #111111;\n",
       "  --xr-background-color-row-odd: #313131;\n",
       "}\n",
       "\n",
       ".xr-wrap {\n",
       "  display: block !important;\n",
       "  min-width: 300px;\n",
       "  max-width: 700px;\n",
       "}\n",
       "\n",
       ".xr-text-repr-fallback {\n",
       "  /* fallback to plain text repr when CSS is not injected (untrusted notebook) */\n",
       "  display: none;\n",
       "}\n",
       "\n",
       ".xr-header {\n",
       "  padding-top: 6px;\n",
       "  padding-bottom: 6px;\n",
       "  margin-bottom: 4px;\n",
       "  border-bottom: solid 1px var(--xr-border-color);\n",
       "}\n",
       "\n",
       ".xr-header > div,\n",
       ".xr-header > ul {\n",
       "  display: inline;\n",
       "  margin-top: 0;\n",
       "  margin-bottom: 0;\n",
       "}\n",
       "\n",
       ".xr-obj-type,\n",
       ".xr-array-name {\n",
       "  margin-left: 2px;\n",
       "  margin-right: 10px;\n",
       "}\n",
       "\n",
       ".xr-obj-type {\n",
       "  color: var(--xr-font-color2);\n",
       "}\n",
       "\n",
       ".xr-sections {\n",
       "  padding-left: 0 !important;\n",
       "  display: grid;\n",
       "  grid-template-columns: 150px auto auto 1fr 0 20px 0 20px;\n",
       "}\n",
       "\n",
       ".xr-section-item {\n",
       "  display: contents;\n",
       "}\n",
       "\n",
       ".xr-section-item input {\n",
       "  display: inline-block;\n",
       "  opacity: 0;\n",
       "  height: 0;\n",
       "}\n",
       "\n",
       ".xr-section-item input + label {\n",
       "  color: var(--xr-disabled-color);\n",
       "}\n",
       "\n",
       ".xr-section-item input:enabled + label {\n",
       "  cursor: pointer;\n",
       "  color: var(--xr-font-color2);\n",
       "}\n",
       "\n",
       ".xr-section-item input:focus + label {\n",
       "  border: 2px solid var(--xr-font-color0);\n",
       "}\n",
       "\n",
       ".xr-section-item input:enabled + label:hover {\n",
       "  color: var(--xr-font-color0);\n",
       "}\n",
       "\n",
       ".xr-section-summary {\n",
       "  grid-column: 1;\n",
       "  color: var(--xr-font-color2);\n",
       "  font-weight: 500;\n",
       "}\n",
       "\n",
       ".xr-section-summary > span {\n",
       "  display: inline-block;\n",
       "  padding-left: 0.5em;\n",
       "}\n",
       "\n",
       ".xr-section-summary-in:disabled + label {\n",
       "  color: var(--xr-font-color2);\n",
       "}\n",
       "\n",
       ".xr-section-summary-in + label:before {\n",
       "  display: inline-block;\n",
       "  content: \"►\";\n",
       "  font-size: 11px;\n",
       "  width: 15px;\n",
       "  text-align: center;\n",
       "}\n",
       "\n",
       ".xr-section-summary-in:disabled + label:before {\n",
       "  color: var(--xr-disabled-color);\n",
       "}\n",
       "\n",
       ".xr-section-summary-in:checked + label:before {\n",
       "  content: \"▼\";\n",
       "}\n",
       "\n",
       ".xr-section-summary-in:checked + label > span {\n",
       "  display: none;\n",
       "}\n",
       "\n",
       ".xr-section-summary,\n",
       ".xr-section-inline-details {\n",
       "  padding-top: 4px;\n",
       "  padding-bottom: 4px;\n",
       "}\n",
       "\n",
       ".xr-section-inline-details {\n",
       "  grid-column: 2 / -1;\n",
       "}\n",
       "\n",
       ".xr-section-details {\n",
       "  display: none;\n",
       "  grid-column: 1 / -1;\n",
       "  margin-bottom: 5px;\n",
       "}\n",
       "\n",
       ".xr-section-summary-in:checked ~ .xr-section-details {\n",
       "  display: contents;\n",
       "}\n",
       "\n",
       ".xr-array-wrap {\n",
       "  grid-column: 1 / -1;\n",
       "  display: grid;\n",
       "  grid-template-columns: 20px auto;\n",
       "}\n",
       "\n",
       ".xr-array-wrap > label {\n",
       "  grid-column: 1;\n",
       "  vertical-align: top;\n",
       "}\n",
       "\n",
       ".xr-preview {\n",
       "  color: var(--xr-font-color3);\n",
       "}\n",
       "\n",
       ".xr-array-preview,\n",
       ".xr-array-data {\n",
       "  padding: 0 5px !important;\n",
       "  grid-column: 2;\n",
       "}\n",
       "\n",
       ".xr-array-data,\n",
       ".xr-array-in:checked ~ .xr-array-preview {\n",
       "  display: none;\n",
       "}\n",
       "\n",
       ".xr-array-in:checked ~ .xr-array-data,\n",
       ".xr-array-preview {\n",
       "  display: inline-block;\n",
       "}\n",
       "\n",
       ".xr-dim-list {\n",
       "  display: inline-block !important;\n",
       "  list-style: none;\n",
       "  padding: 0 !important;\n",
       "  margin: 0;\n",
       "}\n",
       "\n",
       ".xr-dim-list li {\n",
       "  display: inline-block;\n",
       "  padding: 0;\n",
       "  margin: 0;\n",
       "}\n",
       "\n",
       ".xr-dim-list:before {\n",
       "  content: \"(\";\n",
       "}\n",
       "\n",
       ".xr-dim-list:after {\n",
       "  content: \")\";\n",
       "}\n",
       "\n",
       ".xr-dim-list li:not(:last-child):after {\n",
       "  content: \",\";\n",
       "  padding-right: 5px;\n",
       "}\n",
       "\n",
       ".xr-has-index {\n",
       "  font-weight: bold;\n",
       "}\n",
       "\n",
       ".xr-var-list,\n",
       ".xr-var-item {\n",
       "  display: contents;\n",
       "}\n",
       "\n",
       ".xr-var-item > div,\n",
       ".xr-var-item label,\n",
       ".xr-var-item > .xr-var-name span {\n",
       "  background-color: var(--xr-background-color-row-even);\n",
       "  margin-bottom: 0;\n",
       "}\n",
       "\n",
       ".xr-var-item > .xr-var-name:hover span {\n",
       "  padding-right: 5px;\n",
       "}\n",
       "\n",
       ".xr-var-list > li:nth-child(odd) > div,\n",
       ".xr-var-list > li:nth-child(odd) > label,\n",
       ".xr-var-list > li:nth-child(odd) > .xr-var-name span {\n",
       "  background-color: var(--xr-background-color-row-odd);\n",
       "}\n",
       "\n",
       ".xr-var-name {\n",
       "  grid-column: 1;\n",
       "}\n",
       "\n",
       ".xr-var-dims {\n",
       "  grid-column: 2;\n",
       "}\n",
       "\n",
       ".xr-var-dtype {\n",
       "  grid-column: 3;\n",
       "  text-align: right;\n",
       "  color: var(--xr-font-color2);\n",
       "}\n",
       "\n",
       ".xr-var-preview {\n",
       "  grid-column: 4;\n",
       "}\n",
       "\n",
       ".xr-index-preview {\n",
       "  grid-column: 2 / 5;\n",
       "  color: var(--xr-font-color2);\n",
       "}\n",
       "\n",
       ".xr-var-name,\n",
       ".xr-var-dims,\n",
       ".xr-var-dtype,\n",
       ".xr-preview,\n",
       ".xr-attrs dt {\n",
       "  white-space: nowrap;\n",
       "  overflow: hidden;\n",
       "  text-overflow: ellipsis;\n",
       "  padding-right: 10px;\n",
       "}\n",
       "\n",
       ".xr-var-name:hover,\n",
       ".xr-var-dims:hover,\n",
       ".xr-var-dtype:hover,\n",
       ".xr-attrs dt:hover {\n",
       "  overflow: visible;\n",
       "  width: auto;\n",
       "  z-index: 1;\n",
       "}\n",
       "\n",
       ".xr-var-attrs,\n",
       ".xr-var-data,\n",
       ".xr-index-data {\n",
       "  display: none;\n",
       "  background-color: var(--xr-background-color) !important;\n",
       "  padding-bottom: 5px !important;\n",
       "}\n",
       "\n",
       ".xr-var-attrs-in:checked ~ .xr-var-attrs,\n",
       ".xr-var-data-in:checked ~ .xr-var-data,\n",
       ".xr-index-data-in:checked ~ .xr-index-data {\n",
       "  display: block;\n",
       "}\n",
       "\n",
       ".xr-var-data > table {\n",
       "  float: right;\n",
       "}\n",
       "\n",
       ".xr-var-name span,\n",
       ".xr-var-data,\n",
       ".xr-index-name div,\n",
       ".xr-index-data,\n",
       ".xr-attrs {\n",
       "  padding-left: 25px !important;\n",
       "}\n",
       "\n",
       ".xr-attrs,\n",
       ".xr-var-attrs,\n",
       ".xr-var-data,\n",
       ".xr-index-data {\n",
       "  grid-column: 1 / -1;\n",
       "}\n",
       "\n",
       "dl.xr-attrs {\n",
       "  padding: 0;\n",
       "  margin: 0;\n",
       "  display: grid;\n",
       "  grid-template-columns: 125px auto;\n",
       "}\n",
       "\n",
       ".xr-attrs dt,\n",
       ".xr-attrs dd {\n",
       "  padding: 0;\n",
       "  margin: 0;\n",
       "  float: left;\n",
       "  padding-right: 10px;\n",
       "  width: auto;\n",
       "}\n",
       "\n",
       ".xr-attrs dt {\n",
       "  font-weight: normal;\n",
       "  grid-column: 1;\n",
       "}\n",
       "\n",
       ".xr-attrs dt:hover span {\n",
       "  display: inline-block;\n",
       "  background: var(--xr-background-color);\n",
       "  padding-right: 10px;\n",
       "}\n",
       "\n",
       ".xr-attrs dd {\n",
       "  grid-column: 2;\n",
       "  white-space: pre-wrap;\n",
       "  word-break: break-all;\n",
       "}\n",
       "\n",
       ".xr-icon-database,\n",
       ".xr-icon-file-text2,\n",
       ".xr-no-icon {\n",
       "  display: inline-block;\n",
       "  vertical-align: middle;\n",
       "  width: 1em;\n",
       "  height: 1.5em !important;\n",
       "  stroke-width: 0;\n",
       "  stroke: currentColor;\n",
       "  fill: currentColor;\n",
       "}\n",
       "</style><pre class='xr-text-repr-fallback'>&lt;xarray.DataArray &#x27;pelagic_layer_depth&#x27; (latitude: 1, longitude: 1, time: 1821)&gt; Size: 15kB\n",
       "[m] 113.1 114.2 113.8 114.4 114.4 111.8 ... 114.3 113.4 116.6 113.7 113.6 112.9\n",
       "Coordinates: (4)\n",
       "Attributes: (1)</pre><div class='xr-wrap' style='display:none'><div class='xr-header'><div class='xr-obj-type'>xarray.DataArray</div><div class='xr-array-name'>'pelagic_layer_depth'</div><ul class='xr-dim-list'><li><span class='xr-has-index'>latitude</span>: 1</li><li><span class='xr-has-index'>longitude</span>: 1</li><li><span class='xr-has-index'>time</span>: 1821</li></ul></div><ul class='xr-sections'><li class='xr-section-item'><div class='xr-array-wrap'><input id='section-ee9e4ebd-a5b6-4a3a-8c55-de9190af3ec9' class='xr-array-in' type='checkbox' ><label for='section-ee9e4ebd-a5b6-4a3a-8c55-de9190af3ec9' title='Show/hide data repr'><svg class='icon xr-icon-database'><use xlink:href='#icon-database'></use></svg></label><div class='xr-array-preview xr-preview'><span>[m] 113.1 114.2 113.8 114.4 114.4 ... 113.4 116.6 113.7 113.6 112.9</span></div><div class='xr-array-data'><table><tbody><tr><th>Magnitude</th><td style='text-align:left;'><pre>[[[113.10354321928514 114.18750083099961 113.81216693411004 ...<br>   113.72807877620157 113.59442872389666 112.94051799923405]]]</pre></td></tr><tr><th>Units</th><td style='text-align:left;'>meter</td></tr></tbody></table></div></div></li><li class='xr-section-item'><input id='section-84aa79df-6f33-4ccb-87e7-0edd914b7368' class='xr-section-summary-in' type='checkbox'  ><label for='section-84aa79df-6f33-4ccb-87e7-0edd914b7368' class='xr-section-summary' >Coordinates: <span>(4)</span></label><div class='xr-section-inline-details'></div><div class='xr-section-details'><ul class='xr-var-list'><li class='xr-var-item'><div class='xr-var-name'><span>depth</span></div><div class='xr-var-dims'>()</div><div class='xr-var-dtype'>int64</div><div class='xr-var-preview xr-preview'>0</div><input id='attrs-565ee2d2-ba92-4d3a-a815-69090d4f4c10' class='xr-var-attrs-in' type='checkbox' ><label for='attrs-565ee2d2-ba92-4d3a-a815-69090d4f4c10' title='Show/Hide attributes'><svg class='icon xr-icon-file-text2'><use xlink:href='#icon-file-text2'></use></svg></label><input id='data-397190bd-2877-4e42-bfe6-74d781ede650' class='xr-var-data-in' type='checkbox'><label for='data-397190bd-2877-4e42-bfe6-74d781ede650' title='Show/Hide data repr'><svg class='icon xr-icon-database'><use xlink:href='#icon-database'></use></svg></label><div class='xr-var-attrs'><dl class='xr-attrs'><dt><span>axis :</span></dt><dd>Z</dd><dt><span>desc :</span></dt><dd>The layer depth according to Seapodym definition</dd><dt><span>flag_meanings :</span></dt><dd>epipelagic, upper-mesopelagic, lower-mesopelagic</dd><dt><span>flag_values :</span></dt><dd>[0 1 2]</dd><dt><span>long_name :</span></dt><dd>Layer depth</dd><dt><span>standard_name :</span></dt><dd>depth</dd></dl></div><div class='xr-var-data'><pre>array(0)</pre></div></li><li class='xr-var-item'><div class='xr-var-name'><span class='xr-has-index'>latitude</span></div><div class='xr-var-dims'>(latitude)</div><div class='xr-var-dtype'>float64</div><div class='xr-var-preview xr-preview'>22.75</div><input id='attrs-4b18664d-fbda-438f-b149-4dd77c9171b9' class='xr-var-attrs-in' type='checkbox' ><label for='attrs-4b18664d-fbda-438f-b149-4dd77c9171b9' title='Show/Hide attributes'><svg class='icon xr-icon-file-text2'><use xlink:href='#icon-file-text2'></use></svg></label><input id='data-d4a9515a-7576-4388-9420-0ac0e6c00f91' class='xr-var-data-in' type='checkbox'><label for='data-d4a9515a-7576-4388-9420-0ac0e6c00f91' title='Show/Hide data repr'><svg class='icon xr-icon-database'><use xlink:href='#icon-database'></use></svg></label><div class='xr-var-attrs'><dl class='xr-attrs'><dt><span>axis :</span></dt><dd>Y</dd><dt><span>standard_name :</span></dt><dd>latitude</dd><dt><span>units :</span></dt><dd>degrees_north</dd></dl></div><div class='xr-var-data'><pre>array([22.75])</pre></div></li><li class='xr-var-item'><div class='xr-var-name'><span class='xr-has-index'>longitude</span></div><div class='xr-var-dims'>(longitude)</div><div class='xr-var-dtype'>int64</div><div class='xr-var-preview xr-preview'>-158</div><input id='attrs-45813b25-f4e3-4222-88aa-fceea4970845' class='xr-var-attrs-in' type='checkbox' ><label for='attrs-45813b25-f4e3-4222-88aa-fceea4970845' title='Show/Hide attributes'><svg class='icon xr-icon-file-text2'><use xlink:href='#icon-file-text2'></use></svg></label><input id='data-95a6bc3f-c3fb-4c30-91ec-30cb6de0509c' class='xr-var-data-in' type='checkbox'><label for='data-95a6bc3f-c3fb-4c30-91ec-30cb6de0509c' title='Show/Hide data repr'><svg class='icon xr-icon-database'><use xlink:href='#icon-database'></use></svg></label><div class='xr-var-attrs'><dl class='xr-attrs'><dt><span>axis :</span></dt><dd>X</dd><dt><span>standard_name :</span></dt><dd>longitude</dd><dt><span>units :</span></dt><dd>degrees_east</dd></dl></div><div class='xr-var-data'><pre>array([-158])</pre></div></li><li class='xr-var-item'><div class='xr-var-name'><span class='xr-has-index'>time</span></div><div class='xr-var-dims'>(time)</div><div class='xr-var-dtype'>datetime64[ns]</div><div class='xr-var-preview xr-preview'>2005-01-02 ... 2009-12-27</div><input id='attrs-d97a617b-9643-46c3-aca4-2ec78f127477' class='xr-var-attrs-in' type='checkbox' ><label for='attrs-d97a617b-9643-46c3-aca4-2ec78f127477' title='Show/Hide attributes'><svg class='icon xr-icon-file-text2'><use xlink:href='#icon-file-text2'></use></svg></label><input id='data-b3c22d37-ab7a-4683-9fd0-86332be0764e' class='xr-var-data-in' type='checkbox'><label for='data-b3c22d37-ab7a-4683-9fd0-86332be0764e' title='Show/Hide data repr'><svg class='icon xr-icon-database'><use xlink:href='#icon-database'></use></svg></label><div class='xr-var-attrs'><dl class='xr-attrs'><dt><span>axis :</span></dt><dd>T</dd><dt><span>long_name :</span></dt><dd>Time</dd><dt><span>standard_name :</span></dt><dd>time</dd><dt><span>unit_long :</span></dt><dd>Seconds Since 1970-01-01</dd></dl></div><div class='xr-var-data'><pre>array([&#x27;2005-01-02T00:00:00.000000000&#x27;, &#x27;2005-01-03T00:00:00.000000000&#x27;,\n",
       "       &#x27;2005-01-04T00:00:00.000000000&#x27;, ..., &#x27;2009-12-25T00:00:00.000000000&#x27;,\n",
       "       &#x27;2009-12-26T00:00:00.000000000&#x27;, &#x27;2009-12-27T00:00:00.000000000&#x27;],\n",
       "      dtype=&#x27;datetime64[ns]&#x27;)</pre></div></li></ul></div></li><li class='xr-section-item'><input id='section-f8da1c02-83f8-4812-a97d-30a76d53ad56' class='xr-section-summary-in' type='checkbox'  ><label for='section-f8da1c02-83f8-4812-a97d-30a76d53ad56' class='xr-section-summary' >Indexes: <span>(3)</span></label><div class='xr-section-inline-details'></div><div class='xr-section-details'><ul class='xr-var-list'><li class='xr-var-item'><div class='xr-index-name'><div>latitude</div></div><div class='xr-index-preview'>PandasIndex</div><input type='checkbox' disabled/><label></label><input id='index-776f18fb-5119-419e-9e0b-d4ad4fd888a1' class='xr-index-data-in' type='checkbox'/><label for='index-776f18fb-5119-419e-9e0b-d4ad4fd888a1' title='Show/Hide index repr'><svg class='icon xr-icon-database'><use xlink:href='#icon-database'></use></svg></label><div class='xr-index-data'><pre>PandasIndex(Index([22.75], dtype=&#x27;float64&#x27;, name=&#x27;latitude&#x27;))</pre></div></li><li class='xr-var-item'><div class='xr-index-name'><div>longitude</div></div><div class='xr-index-preview'>PandasIndex</div><input type='checkbox' disabled/><label></label><input id='index-4d2f66c0-ee88-41f2-9f2d-6198648d13a8' class='xr-index-data-in' type='checkbox'/><label for='index-4d2f66c0-ee88-41f2-9f2d-6198648d13a8' title='Show/Hide index repr'><svg class='icon xr-icon-database'><use xlink:href='#icon-database'></use></svg></label><div class='xr-index-data'><pre>PandasIndex(Index([-158], dtype=&#x27;int64&#x27;, name=&#x27;longitude&#x27;))</pre></div></li><li class='xr-var-item'><div class='xr-index-name'><div>time</div></div><div class='xr-index-preview'>PandasIndex</div><input type='checkbox' disabled/><label></label><input id='index-99bb5778-697b-4485-bd9a-8de94314cb79' class='xr-index-data-in' type='checkbox'/><label for='index-99bb5778-697b-4485-bd9a-8de94314cb79' title='Show/Hide index repr'><svg class='icon xr-icon-database'><use xlink:href='#icon-database'></use></svg></label><div class='xr-index-data'><pre>PandasIndex(DatetimeIndex([&#x27;2005-01-02&#x27;, &#x27;2005-01-03&#x27;, &#x27;2005-01-04&#x27;, &#x27;2005-01-05&#x27;,\n",
       "               &#x27;2005-01-06&#x27;, &#x27;2005-01-07&#x27;, &#x27;2005-01-08&#x27;, &#x27;2005-01-09&#x27;,\n",
       "               &#x27;2005-01-10&#x27;, &#x27;2005-01-11&#x27;,\n",
       "               ...\n",
       "               &#x27;2009-12-18&#x27;, &#x27;2009-12-19&#x27;, &#x27;2009-12-20&#x27;, &#x27;2009-12-21&#x27;,\n",
       "               &#x27;2009-12-22&#x27;, &#x27;2009-12-23&#x27;, &#x27;2009-12-24&#x27;, &#x27;2009-12-25&#x27;,\n",
       "               &#x27;2009-12-26&#x27;, &#x27;2009-12-27&#x27;],\n",
       "              dtype=&#x27;datetime64[ns]&#x27;, name=&#x27;time&#x27;, length=1821, freq=&#x27;D&#x27;))</pre></div></li></ul></div></li><li class='xr-section-item'><input id='section-4680353b-e70c-4053-bea8-88a063834b5b' class='xr-section-summary-in' type='checkbox'  ><label for='section-4680353b-e70c-4053-bea8-88a063834b5b' class='xr-section-summary' >Attributes: <span>(1)</span></label><div class='xr-section-inline-details'></div><div class='xr-section-details'><dl class='xr-attrs'><dt><span>standard_name :</span></dt><dd>sea_water_pelagic_layer_bottom_depth</dd></dl></div></li></ul></div></div>"
      ],
      "text/plain": [
       "<xarray.DataArray 'pelagic_layer_depth' (latitude: 1, longitude: 1, time: 1821)> Size: 15kB\n",
       "[m] 113.1 114.2 113.8 114.4 114.4 111.8 ... 114.3 113.4 116.6 113.7 113.6 112.9\n",
       "Coordinates: (4)\n",
       "Attributes: (1)"
      ]
     },
     "execution_count": 5,
     "metadata": {},
     "output_type": "execute_result"
    }
   ],
   "source": [
    "epi_layer_depth = forcing[\"pelagic_layer_depth\"].sel(depth=0).load()\n",
    "epi_layer_depth = epi_layer_depth.resample(time=\"1D\").mean()\n",
    "epi_layer_depth.attrs[\"units\"] = \"meter\"\n",
    "epi_layer_depth = epi_layer_depth.pint.quantify()\n",
    "epi_layer_depth"
   ]
  },
  {
   "cell_type": "markdown",
   "metadata": {},
   "source": [
    "<!-- ## Observed NPP -->\n"
   ]
  },
  {
   "cell_type": "code",
   "execution_count": 6,
   "metadata": {},
   "outputs": [
    {
     "data": {
      "text/html": [
       "<div><svg style=\"position: absolute; width: 0; height: 0; overflow: hidden\">\n",
       "<defs>\n",
       "<symbol id=\"icon-database\" viewBox=\"0 0 32 32\">\n",
       "<path d=\"M16 0c-8.837 0-16 2.239-16 5v4c0 2.761 7.163 5 16 5s16-2.239 16-5v-4c0-2.761-7.163-5-16-5z\"></path>\n",
       "<path d=\"M16 17c-8.837 0-16-2.239-16-5v6c0 2.761 7.163 5 16 5s16-2.239 16-5v-6c0 2.761-7.163 5-16 5z\"></path>\n",
       "<path d=\"M16 26c-8.837 0-16-2.239-16-5v6c0 2.761 7.163 5 16 5s16-2.239 16-5v-6c0 2.761-7.163 5-16 5z\"></path>\n",
       "</symbol>\n",
       "<symbol id=\"icon-file-text2\" viewBox=\"0 0 32 32\">\n",
       "<path d=\"M28.681 7.159c-0.694-0.947-1.662-2.053-2.724-3.116s-2.169-2.030-3.116-2.724c-1.612-1.182-2.393-1.319-2.841-1.319h-15.5c-1.378 0-2.5 1.121-2.5 2.5v27c0 1.378 1.122 2.5 2.5 2.5h23c1.378 0 2.5-1.122 2.5-2.5v-19.5c0-0.448-0.137-1.23-1.319-2.841zM24.543 5.457c0.959 0.959 1.712 1.825 2.268 2.543h-4.811v-4.811c0.718 0.556 1.584 1.309 2.543 2.268zM28 29.5c0 0.271-0.229 0.5-0.5 0.5h-23c-0.271 0-0.5-0.229-0.5-0.5v-27c0-0.271 0.229-0.5 0.5-0.5 0 0 15.499-0 15.5 0v7c0 0.552 0.448 1 1 1h7v19.5z\"></path>\n",
       "<path d=\"M23 26h-14c-0.552 0-1-0.448-1-1s0.448-1 1-1h14c0.552 0 1 0.448 1 1s-0.448 1-1 1z\"></path>\n",
       "<path d=\"M23 22h-14c-0.552 0-1-0.448-1-1s0.448-1 1-1h14c0.552 0 1 0.448 1 1s-0.448 1-1 1z\"></path>\n",
       "<path d=\"M23 18h-14c-0.552 0-1-0.448-1-1s0.448-1 1-1h14c0.552 0 1 0.448 1 1s-0.448 1-1 1z\"></path>\n",
       "</symbol>\n",
       "</defs>\n",
       "</svg>\n",
       "<style>/* CSS stylesheet for displaying xarray objects in jupyterlab.\n",
       " *\n",
       " */\n",
       "\n",
       ":root {\n",
       "  --xr-font-color0: var(--jp-content-font-color0, rgba(0, 0, 0, 1));\n",
       "  --xr-font-color2: var(--jp-content-font-color2, rgba(0, 0, 0, 0.54));\n",
       "  --xr-font-color3: var(--jp-content-font-color3, rgba(0, 0, 0, 0.38));\n",
       "  --xr-border-color: var(--jp-border-color2, #e0e0e0);\n",
       "  --xr-disabled-color: var(--jp-layout-color3, #bdbdbd);\n",
       "  --xr-background-color: var(--jp-layout-color0, white);\n",
       "  --xr-background-color-row-even: var(--jp-layout-color1, white);\n",
       "  --xr-background-color-row-odd: var(--jp-layout-color2, #eeeeee);\n",
       "}\n",
       "\n",
       "html[theme=\"dark\"],\n",
       "html[data-theme=\"dark\"],\n",
       "body[data-theme=\"dark\"],\n",
       "body.vscode-dark {\n",
       "  --xr-font-color0: rgba(255, 255, 255, 1);\n",
       "  --xr-font-color2: rgba(255, 255, 255, 0.54);\n",
       "  --xr-font-color3: rgba(255, 255, 255, 0.38);\n",
       "  --xr-border-color: #1f1f1f;\n",
       "  --xr-disabled-color: #515151;\n",
       "  --xr-background-color: #111111;\n",
       "  --xr-background-color-row-even: #111111;\n",
       "  --xr-background-color-row-odd: #313131;\n",
       "}\n",
       "\n",
       ".xr-wrap {\n",
       "  display: block !important;\n",
       "  min-width: 300px;\n",
       "  max-width: 700px;\n",
       "}\n",
       "\n",
       ".xr-text-repr-fallback {\n",
       "  /* fallback to plain text repr when CSS is not injected (untrusted notebook) */\n",
       "  display: none;\n",
       "}\n",
       "\n",
       ".xr-header {\n",
       "  padding-top: 6px;\n",
       "  padding-bottom: 6px;\n",
       "  margin-bottom: 4px;\n",
       "  border-bottom: solid 1px var(--xr-border-color);\n",
       "}\n",
       "\n",
       ".xr-header > div,\n",
       ".xr-header > ul {\n",
       "  display: inline;\n",
       "  margin-top: 0;\n",
       "  margin-bottom: 0;\n",
       "}\n",
       "\n",
       ".xr-obj-type,\n",
       ".xr-array-name {\n",
       "  margin-left: 2px;\n",
       "  margin-right: 10px;\n",
       "}\n",
       "\n",
       ".xr-obj-type {\n",
       "  color: var(--xr-font-color2);\n",
       "}\n",
       "\n",
       ".xr-sections {\n",
       "  padding-left: 0 !important;\n",
       "  display: grid;\n",
       "  grid-template-columns: 150px auto auto 1fr 0 20px 0 20px;\n",
       "}\n",
       "\n",
       ".xr-section-item {\n",
       "  display: contents;\n",
       "}\n",
       "\n",
       ".xr-section-item input {\n",
       "  display: inline-block;\n",
       "  opacity: 0;\n",
       "  height: 0;\n",
       "}\n",
       "\n",
       ".xr-section-item input + label {\n",
       "  color: var(--xr-disabled-color);\n",
       "}\n",
       "\n",
       ".xr-section-item input:enabled + label {\n",
       "  cursor: pointer;\n",
       "  color: var(--xr-font-color2);\n",
       "}\n",
       "\n",
       ".xr-section-item input:focus + label {\n",
       "  border: 2px solid var(--xr-font-color0);\n",
       "}\n",
       "\n",
       ".xr-section-item input:enabled + label:hover {\n",
       "  color: var(--xr-font-color0);\n",
       "}\n",
       "\n",
       ".xr-section-summary {\n",
       "  grid-column: 1;\n",
       "  color: var(--xr-font-color2);\n",
       "  font-weight: 500;\n",
       "}\n",
       "\n",
       ".xr-section-summary > span {\n",
       "  display: inline-block;\n",
       "  padding-left: 0.5em;\n",
       "}\n",
       "\n",
       ".xr-section-summary-in:disabled + label {\n",
       "  color: var(--xr-font-color2);\n",
       "}\n",
       "\n",
       ".xr-section-summary-in + label:before {\n",
       "  display: inline-block;\n",
       "  content: \"►\";\n",
       "  font-size: 11px;\n",
       "  width: 15px;\n",
       "  text-align: center;\n",
       "}\n",
       "\n",
       ".xr-section-summary-in:disabled + label:before {\n",
       "  color: var(--xr-disabled-color);\n",
       "}\n",
       "\n",
       ".xr-section-summary-in:checked + label:before {\n",
       "  content: \"▼\";\n",
       "}\n",
       "\n",
       ".xr-section-summary-in:checked + label > span {\n",
       "  display: none;\n",
       "}\n",
       "\n",
       ".xr-section-summary,\n",
       ".xr-section-inline-details {\n",
       "  padding-top: 4px;\n",
       "  padding-bottom: 4px;\n",
       "}\n",
       "\n",
       ".xr-section-inline-details {\n",
       "  grid-column: 2 / -1;\n",
       "}\n",
       "\n",
       ".xr-section-details {\n",
       "  display: none;\n",
       "  grid-column: 1 / -1;\n",
       "  margin-bottom: 5px;\n",
       "}\n",
       "\n",
       ".xr-section-summary-in:checked ~ .xr-section-details {\n",
       "  display: contents;\n",
       "}\n",
       "\n",
       ".xr-array-wrap {\n",
       "  grid-column: 1 / -1;\n",
       "  display: grid;\n",
       "  grid-template-columns: 20px auto;\n",
       "}\n",
       "\n",
       ".xr-array-wrap > label {\n",
       "  grid-column: 1;\n",
       "  vertical-align: top;\n",
       "}\n",
       "\n",
       ".xr-preview {\n",
       "  color: var(--xr-font-color3);\n",
       "}\n",
       "\n",
       ".xr-array-preview,\n",
       ".xr-array-data {\n",
       "  padding: 0 5px !important;\n",
       "  grid-column: 2;\n",
       "}\n",
       "\n",
       ".xr-array-data,\n",
       ".xr-array-in:checked ~ .xr-array-preview {\n",
       "  display: none;\n",
       "}\n",
       "\n",
       ".xr-array-in:checked ~ .xr-array-data,\n",
       ".xr-array-preview {\n",
       "  display: inline-block;\n",
       "}\n",
       "\n",
       ".xr-dim-list {\n",
       "  display: inline-block !important;\n",
       "  list-style: none;\n",
       "  padding: 0 !important;\n",
       "  margin: 0;\n",
       "}\n",
       "\n",
       ".xr-dim-list li {\n",
       "  display: inline-block;\n",
       "  padding: 0;\n",
       "  margin: 0;\n",
       "}\n",
       "\n",
       ".xr-dim-list:before {\n",
       "  content: \"(\";\n",
       "}\n",
       "\n",
       ".xr-dim-list:after {\n",
       "  content: \")\";\n",
       "}\n",
       "\n",
       ".xr-dim-list li:not(:last-child):after {\n",
       "  content: \",\";\n",
       "  padding-right: 5px;\n",
       "}\n",
       "\n",
       ".xr-has-index {\n",
       "  font-weight: bold;\n",
       "}\n",
       "\n",
       ".xr-var-list,\n",
       ".xr-var-item {\n",
       "  display: contents;\n",
       "}\n",
       "\n",
       ".xr-var-item > div,\n",
       ".xr-var-item label,\n",
       ".xr-var-item > .xr-var-name span {\n",
       "  background-color: var(--xr-background-color-row-even);\n",
       "  margin-bottom: 0;\n",
       "}\n",
       "\n",
       ".xr-var-item > .xr-var-name:hover span {\n",
       "  padding-right: 5px;\n",
       "}\n",
       "\n",
       ".xr-var-list > li:nth-child(odd) > div,\n",
       ".xr-var-list > li:nth-child(odd) > label,\n",
       ".xr-var-list > li:nth-child(odd) > .xr-var-name span {\n",
       "  background-color: var(--xr-background-color-row-odd);\n",
       "}\n",
       "\n",
       ".xr-var-name {\n",
       "  grid-column: 1;\n",
       "}\n",
       "\n",
       ".xr-var-dims {\n",
       "  grid-column: 2;\n",
       "}\n",
       "\n",
       ".xr-var-dtype {\n",
       "  grid-column: 3;\n",
       "  text-align: right;\n",
       "  color: var(--xr-font-color2);\n",
       "}\n",
       "\n",
       ".xr-var-preview {\n",
       "  grid-column: 4;\n",
       "}\n",
       "\n",
       ".xr-index-preview {\n",
       "  grid-column: 2 / 5;\n",
       "  color: var(--xr-font-color2);\n",
       "}\n",
       "\n",
       ".xr-var-name,\n",
       ".xr-var-dims,\n",
       ".xr-var-dtype,\n",
       ".xr-preview,\n",
       ".xr-attrs dt {\n",
       "  white-space: nowrap;\n",
       "  overflow: hidden;\n",
       "  text-overflow: ellipsis;\n",
       "  padding-right: 10px;\n",
       "}\n",
       "\n",
       ".xr-var-name:hover,\n",
       ".xr-var-dims:hover,\n",
       ".xr-var-dtype:hover,\n",
       ".xr-attrs dt:hover {\n",
       "  overflow: visible;\n",
       "  width: auto;\n",
       "  z-index: 1;\n",
       "}\n",
       "\n",
       ".xr-var-attrs,\n",
       ".xr-var-data,\n",
       ".xr-index-data {\n",
       "  display: none;\n",
       "  background-color: var(--xr-background-color) !important;\n",
       "  padding-bottom: 5px !important;\n",
       "}\n",
       "\n",
       ".xr-var-attrs-in:checked ~ .xr-var-attrs,\n",
       ".xr-var-data-in:checked ~ .xr-var-data,\n",
       ".xr-index-data-in:checked ~ .xr-index-data {\n",
       "  display: block;\n",
       "}\n",
       "\n",
       ".xr-var-data > table {\n",
       "  float: right;\n",
       "}\n",
       "\n",
       ".xr-var-name span,\n",
       ".xr-var-data,\n",
       ".xr-index-name div,\n",
       ".xr-index-data,\n",
       ".xr-attrs {\n",
       "  padding-left: 25px !important;\n",
       "}\n",
       "\n",
       ".xr-attrs,\n",
       ".xr-var-attrs,\n",
       ".xr-var-data,\n",
       ".xr-index-data {\n",
       "  grid-column: 1 / -1;\n",
       "}\n",
       "\n",
       "dl.xr-attrs {\n",
       "  padding: 0;\n",
       "  margin: 0;\n",
       "  display: grid;\n",
       "  grid-template-columns: 125px auto;\n",
       "}\n",
       "\n",
       ".xr-attrs dt,\n",
       ".xr-attrs dd {\n",
       "  padding: 0;\n",
       "  margin: 0;\n",
       "  float: left;\n",
       "  padding-right: 10px;\n",
       "  width: auto;\n",
       "}\n",
       "\n",
       ".xr-attrs dt {\n",
       "  font-weight: normal;\n",
       "  grid-column: 1;\n",
       "}\n",
       "\n",
       ".xr-attrs dt:hover span {\n",
       "  display: inline-block;\n",
       "  background: var(--xr-background-color);\n",
       "  padding-right: 10px;\n",
       "}\n",
       "\n",
       ".xr-attrs dd {\n",
       "  grid-column: 2;\n",
       "  white-space: pre-wrap;\n",
       "  word-break: break-all;\n",
       "}\n",
       "\n",
       ".xr-icon-database,\n",
       ".xr-icon-file-text2,\n",
       ".xr-no-icon {\n",
       "  display: inline-block;\n",
       "  vertical-align: middle;\n",
       "  width: 1em;\n",
       "  height: 1.5em !important;\n",
       "  stroke-width: 0;\n",
       "  stroke: currentColor;\n",
       "  fill: currentColor;\n",
       "}\n",
       "</style><pre class='xr-text-repr-fallback'>&lt;xarray.Dataset&gt; Size: 44kB\n",
       "Dimensions:          (time: 1821, latitude: 1, longitude: 1)\n",
       "Coordinates: (3)\n",
       "Data variables: (2)\n",
       "Attributes: (2)</pre><div class='xr-wrap' style='display:none'><div class='xr-header'><div class='xr-obj-type'>xarray.Dataset</div></div><ul class='xr-sections'><li class='xr-section-item'><input id='section-f80d75ce-b7da-4f8e-b05a-e221b6edb210' class='xr-section-summary-in' type='checkbox' disabled ><label for='section-f80d75ce-b7da-4f8e-b05a-e221b6edb210' class='xr-section-summary'  title='Expand/collapse section'>Dimensions:</label><div class='xr-section-inline-details'><ul class='xr-dim-list'><li><span class='xr-has-index'>time</span>: 1821</li><li><span class='xr-has-index'>latitude</span>: 1</li><li><span class='xr-has-index'>longitude</span>: 1</li></ul></div><div class='xr-section-details'></div></li><li class='xr-section-item'><input id='section-cb1df8fa-3ab3-41da-a504-3dba685941de' class='xr-section-summary-in' type='checkbox'  ><label for='section-cb1df8fa-3ab3-41da-a504-3dba685941de' class='xr-section-summary' >Coordinates: <span>(3)</span></label><div class='xr-section-inline-details'></div><div class='xr-section-details'><ul class='xr-var-list'><li class='xr-var-item'><div class='xr-var-name'><span class='xr-has-index'>latitude</span></div><div class='xr-var-dims'>(latitude)</div><div class='xr-var-dtype'>float64</div><div class='xr-var-preview xr-preview'>22.75</div><input id='attrs-957f2cb6-83dc-4230-a36d-928084f7294e' class='xr-var-attrs-in' type='checkbox' ><label for='attrs-957f2cb6-83dc-4230-a36d-928084f7294e' title='Show/Hide attributes'><svg class='icon xr-icon-file-text2'><use xlink:href='#icon-file-text2'></use></svg></label><input id='data-be65cafe-1cea-4cbf-9e79-54f5814e303d' class='xr-var-data-in' type='checkbox'><label for='data-be65cafe-1cea-4cbf-9e79-54f5814e303d' title='Show/Hide data repr'><svg class='icon xr-icon-database'><use xlink:href='#icon-database'></use></svg></label><div class='xr-var-attrs'><dl class='xr-attrs'><dt><span>axis :</span></dt><dd>Y</dd><dt><span>long_name :</span></dt><dd>latitude</dd><dt><span>units :</span></dt><dd>degrees_north</dd></dl></div><div class='xr-var-data'><pre>array([22.75])</pre></div></li><li class='xr-var-item'><div class='xr-var-name'><span class='xr-has-index'>longitude</span></div><div class='xr-var-dims'>(longitude)</div><div class='xr-var-dtype'>int64</div><div class='xr-var-preview xr-preview'>-158</div><input id='attrs-b806ef88-dc46-4126-9cb5-fb052433a4f5' class='xr-var-attrs-in' type='checkbox' ><label for='attrs-b806ef88-dc46-4126-9cb5-fb052433a4f5' title='Show/Hide attributes'><svg class='icon xr-icon-file-text2'><use xlink:href='#icon-file-text2'></use></svg></label><input id='data-89305eb3-f87b-4b9f-b163-184db3c72f55' class='xr-var-data-in' type='checkbox'><label for='data-89305eb3-f87b-4b9f-b163-184db3c72f55' title='Show/Hide data repr'><svg class='icon xr-icon-database'><use xlink:href='#icon-database'></use></svg></label><div class='xr-var-attrs'><dl class='xr-attrs'><dt><span>axis :</span></dt><dd>X</dd><dt><span>long_name :</span></dt><dd>longitude</dd><dt><span>units :</span></dt><dd>degrees_east</dd></dl></div><div class='xr-var-data'><pre>array([-158])</pre></div></li><li class='xr-var-item'><div class='xr-var-name'><span class='xr-has-index'>time</span></div><div class='xr-var-dims'>(time)</div><div class='xr-var-dtype'>datetime64[ns]</div><div class='xr-var-preview xr-preview'>2005-01-02 ... 2009-12-27</div><input id='attrs-f7f12805-18f0-4f39-99dd-acc18e7eea33' class='xr-var-attrs-in' type='checkbox' ><label for='attrs-f7f12805-18f0-4f39-99dd-acc18e7eea33' title='Show/Hide attributes'><svg class='icon xr-icon-file-text2'><use xlink:href='#icon-file-text2'></use></svg></label><input id='data-f047997d-04a4-4715-9de4-786ff3b7f6e5' class='xr-var-data-in' type='checkbox'><label for='data-f047997d-04a4-4715-9de4-786ff3b7f6e5' title='Show/Hide data repr'><svg class='icon xr-icon-database'><use xlink:href='#icon-database'></use></svg></label><div class='xr-var-attrs'><dl class='xr-attrs'><dt><span>axis :</span></dt><dd>T</dd></dl></div><div class='xr-var-data'><pre>array([&#x27;2005-01-02T00:00:00.000000000&#x27;, &#x27;2005-01-03T00:00:00.000000000&#x27;,\n",
       "       &#x27;2005-01-04T00:00:00.000000000&#x27;, ..., &#x27;2009-12-25T00:00:00.000000000&#x27;,\n",
       "       &#x27;2009-12-26T00:00:00.000000000&#x27;, &#x27;2009-12-27T00:00:00.000000000&#x27;],\n",
       "      dtype=&#x27;datetime64[ns]&#x27;)</pre></div></li></ul></div></li><li class='xr-section-item'><input id='section-8d11580f-3f9a-4563-87a0-dc80ca8819c8' class='xr-section-summary-in' type='checkbox'  ><label for='section-8d11580f-3f9a-4563-87a0-dc80ca8819c8' class='xr-section-summary' >Data variables: <span>(2)</span></label><div class='xr-section-inline-details'></div><div class='xr-section-details'><ul class='xr-var-list'><li class='xr-var-item'><div class='xr-var-name'><span>l12</span></div><div class='xr-var-dims'>(time, latitude, longitude)</div><div class='xr-var-dtype'>float64</div><div class='xr-var-preview xr-preview'>255.4 255.8 256.2 ... 256.9 257.5</div><input id='attrs-9988f066-dd1e-4cfb-98c5-a764041c5a21' class='xr-var-attrs-in' type='checkbox' ><label for='attrs-9988f066-dd1e-4cfb-98c5-a764041c5a21' title='Show/Hide attributes'><svg class='icon xr-icon-file-text2'><use xlink:href='#icon-file-text2'></use></svg></label><input id='data-189e0c52-a6ab-4c97-a709-8521facf6152' class='xr-var-data-in' type='checkbox'><label for='data-189e0c52-a6ab-4c97-a709-8521facf6152' title='Show/Hide data repr'><svg class='icon xr-icon-database'><use xlink:href='#icon-database'></use></svg></label><div class='xr-var-attrs'><dl class='xr-attrs'><dt><span>desc :</span></dt><dd>L12 multiplied by ZEU (from CMEMS)</dd><dt><span>station :</span></dt><dd>hot</dd><dt><span>type :</span></dt><dd>in situ</dd><dt><span>units :</span></dt><dd>mg m-2 day-1</dd></dl></div><div class='xr-var-data'><pre>array([[[255.35480631]],\n",
       "\n",
       "       [[255.78794669]],\n",
       "\n",
       "       [[256.22108707]],\n",
       "\n",
       "       ...,\n",
       "\n",
       "       [[256.4057946 ]],\n",
       "\n",
       "       [[256.9328992 ]],\n",
       "\n",
       "       [[257.46000379]]])</pre></div></li><li class='xr-var-item'><div class='xr-var-name'><span>l12_lowess_0.05</span></div><div class='xr-var-dims'>(time, latitude, longitude)</div><div class='xr-var-dtype'>float64</div><div class='xr-var-preview xr-preview'>259.5 259.9 260.3 ... 259.0 258.8</div><input id='attrs-fc03eb80-0bf4-44f6-9be1-353f37634f9d' class='xr-var-attrs-in' type='checkbox' ><label for='attrs-fc03eb80-0bf4-44f6-9be1-353f37634f9d' title='Show/Hide attributes'><svg class='icon xr-icon-file-text2'><use xlink:href='#icon-file-text2'></use></svg></label><input id='data-ca894f4d-1da7-4105-aca1-a9e1e0f5a9cb' class='xr-var-data-in' type='checkbox'><label for='data-ca894f4d-1da7-4105-aca1-a9e1e0f5a9cb' title='Show/Hide data repr'><svg class='icon xr-icon-database'><use xlink:href='#icon-database'></use></svg></label><div class='xr-var-attrs'><dl class='xr-attrs'><dt><span>desc :</span></dt><dd>L12 multiplied by ZEU (from CMEMS) smoothed with lowess filter with frac=0.05.</dd></dl></div><div class='xr-var-data'><pre>array([[[259.54858845]],\n",
       "\n",
       "       [[259.90660867]],\n",
       "\n",
       "       [[260.26462889]],\n",
       "\n",
       "       ...,\n",
       "\n",
       "       [[259.19844205]],\n",
       "\n",
       "       [[258.98262586]],\n",
       "\n",
       "       [[258.76680966]]])</pre></div></li></ul></div></li><li class='xr-section-item'><input id='section-ba2cf717-2a0c-4562-840c-bb64333fa380' class='xr-section-summary-in' type='checkbox'  ><label for='section-ba2cf717-2a0c-4562-840c-bb64333fa380' class='xr-section-summary' >Indexes: <span>(3)</span></label><div class='xr-section-inline-details'></div><div class='xr-section-details'><ul class='xr-var-list'><li class='xr-var-item'><div class='xr-index-name'><div>latitude</div></div><div class='xr-index-preview'>PandasIndex</div><input type='checkbox' disabled/><label></label><input id='index-8f46fd3e-f4fc-45e8-865e-be979749dca3' class='xr-index-data-in' type='checkbox'/><label for='index-8f46fd3e-f4fc-45e8-865e-be979749dca3' title='Show/Hide index repr'><svg class='icon xr-icon-database'><use xlink:href='#icon-database'></use></svg></label><div class='xr-index-data'><pre>PandasIndex(Index([22.75], dtype=&#x27;float64&#x27;, name=&#x27;latitude&#x27;))</pre></div></li><li class='xr-var-item'><div class='xr-index-name'><div>longitude</div></div><div class='xr-index-preview'>PandasIndex</div><input type='checkbox' disabled/><label></label><input id='index-34149245-6004-4b8a-9884-384db554dd68' class='xr-index-data-in' type='checkbox'/><label for='index-34149245-6004-4b8a-9884-384db554dd68' title='Show/Hide index repr'><svg class='icon xr-icon-database'><use xlink:href='#icon-database'></use></svg></label><div class='xr-index-data'><pre>PandasIndex(Index([-158], dtype=&#x27;int64&#x27;, name=&#x27;longitude&#x27;))</pre></div></li><li class='xr-var-item'><div class='xr-index-name'><div>time</div></div><div class='xr-index-preview'>PandasIndex</div><input type='checkbox' disabled/><label></label><input id='index-23af4ae5-9c3d-497d-98f5-56e75817d037' class='xr-index-data-in' type='checkbox'/><label for='index-23af4ae5-9c3d-497d-98f5-56e75817d037' title='Show/Hide index repr'><svg class='icon xr-icon-database'><use xlink:href='#icon-database'></use></svg></label><div class='xr-index-data'><pre>PandasIndex(DatetimeIndex([&#x27;2005-01-02&#x27;, &#x27;2005-01-03&#x27;, &#x27;2005-01-04&#x27;, &#x27;2005-01-05&#x27;,\n",
       "               &#x27;2005-01-06&#x27;, &#x27;2005-01-07&#x27;, &#x27;2005-01-08&#x27;, &#x27;2005-01-09&#x27;,\n",
       "               &#x27;2005-01-10&#x27;, &#x27;2005-01-11&#x27;,\n",
       "               ...\n",
       "               &#x27;2009-12-18&#x27;, &#x27;2009-12-19&#x27;, &#x27;2009-12-20&#x27;, &#x27;2009-12-21&#x27;,\n",
       "               &#x27;2009-12-22&#x27;, &#x27;2009-12-23&#x27;, &#x27;2009-12-24&#x27;, &#x27;2009-12-25&#x27;,\n",
       "               &#x27;2009-12-26&#x27;, &#x27;2009-12-27&#x27;],\n",
       "              dtype=&#x27;datetime64[ns]&#x27;, name=&#x27;time&#x27;, length=1821, freq=None))</pre></div></li></ul></div></li><li class='xr-section-item'><input id='section-552de247-c918-447a-ad68-0febcc137262' class='xr-section-summary-in' type='checkbox'  ><label for='section-552de247-c918-447a-ad68-0febcc137262' class='xr-section-summary' >Attributes: <span>(2)</span></label><div class='xr-section-inline-details'></div><div class='xr-section-details'><dl class='xr-attrs'><dt><span>desc :</span></dt><dd>L12 multiplied by ZEU (from CMEMS).</dd><dt><span>type :</span></dt><dd>climatology</dd></dl></div></li></ul></div></div>"
      ],
      "text/plain": [
       "<xarray.Dataset> Size: 44kB\n",
       "Dimensions:          (time: 1821, latitude: 1, longitude: 1)\n",
       "Coordinates: (3)\n",
       "Data variables: (2)\n",
       "Attributes: (2)"
      ]
     },
     "execution_count": 6,
     "metadata": {},
     "output_type": "execute_result"
    }
   ],
   "source": [
    "observed_npp = xr.open_zarr(path_to_npp)\n",
    "observed_npp = observed_npp.sel(time=slice(TIME_START, TIME_END))\n",
    "observed_npp = observed_npp.dropna(\"time\", how=\"all\")\n",
    "observed_npp = observed_npp.resample(time=\"D\").interpolate(\"linear\")\n",
    "observed_npp.load()"
   ]
  },
  {
   "cell_type": "markdown",
   "metadata": {},
   "source": [
    "### Observations\n"
   ]
  },
  {
   "cell_type": "code",
   "execution_count": 7,
   "metadata": {},
   "outputs": [
    {
     "data": {
      "text/html": [
       "<div><svg style=\"position: absolute; width: 0; height: 0; overflow: hidden\">\n",
       "<defs>\n",
       "<symbol id=\"icon-database\" viewBox=\"0 0 32 32\">\n",
       "<path d=\"M16 0c-8.837 0-16 2.239-16 5v4c0 2.761 7.163 5 16 5s16-2.239 16-5v-4c0-2.761-7.163-5-16-5z\"></path>\n",
       "<path d=\"M16 17c-8.837 0-16-2.239-16-5v6c0 2.761 7.163 5 16 5s16-2.239 16-5v-6c0 2.761-7.163 5-16 5z\"></path>\n",
       "<path d=\"M16 26c-8.837 0-16-2.239-16-5v6c0 2.761 7.163 5 16 5s16-2.239 16-5v-6c0 2.761-7.163 5-16 5z\"></path>\n",
       "</symbol>\n",
       "<symbol id=\"icon-file-text2\" viewBox=\"0 0 32 32\">\n",
       "<path d=\"M28.681 7.159c-0.694-0.947-1.662-2.053-2.724-3.116s-2.169-2.030-3.116-2.724c-1.612-1.182-2.393-1.319-2.841-1.319h-15.5c-1.378 0-2.5 1.121-2.5 2.5v27c0 1.378 1.122 2.5 2.5 2.5h23c1.378 0 2.5-1.122 2.5-2.5v-19.5c0-0.448-0.137-1.23-1.319-2.841zM24.543 5.457c0.959 0.959 1.712 1.825 2.268 2.543h-4.811v-4.811c0.718 0.556 1.584 1.309 2.543 2.268zM28 29.5c0 0.271-0.229 0.5-0.5 0.5h-23c-0.271 0-0.5-0.229-0.5-0.5v-27c0-0.271 0.229-0.5 0.5-0.5 0 0 15.499-0 15.5 0v7c0 0.552 0.448 1 1 1h7v19.5z\"></path>\n",
       "<path d=\"M23 26h-14c-0.552 0-1-0.448-1-1s0.448-1 1-1h14c0.552 0 1 0.448 1 1s-0.448 1-1 1z\"></path>\n",
       "<path d=\"M23 22h-14c-0.552 0-1-0.448-1-1s0.448-1 1-1h14c0.552 0 1 0.448 1 1s-0.448 1-1 1z\"></path>\n",
       "<path d=\"M23 18h-14c-0.552 0-1-0.448-1-1s0.448-1 1-1h14c0.552 0 1 0.448 1 1s-0.448 1-1 1z\"></path>\n",
       "</symbol>\n",
       "</defs>\n",
       "</svg>\n",
       "<style>/* CSS stylesheet for displaying xarray objects in jupyterlab.\n",
       " *\n",
       " */\n",
       "\n",
       ":root {\n",
       "  --xr-font-color0: var(--jp-content-font-color0, rgba(0, 0, 0, 1));\n",
       "  --xr-font-color2: var(--jp-content-font-color2, rgba(0, 0, 0, 0.54));\n",
       "  --xr-font-color3: var(--jp-content-font-color3, rgba(0, 0, 0, 0.38));\n",
       "  --xr-border-color: var(--jp-border-color2, #e0e0e0);\n",
       "  --xr-disabled-color: var(--jp-layout-color3, #bdbdbd);\n",
       "  --xr-background-color: var(--jp-layout-color0, white);\n",
       "  --xr-background-color-row-even: var(--jp-layout-color1, white);\n",
       "  --xr-background-color-row-odd: var(--jp-layout-color2, #eeeeee);\n",
       "}\n",
       "\n",
       "html[theme=\"dark\"],\n",
       "html[data-theme=\"dark\"],\n",
       "body[data-theme=\"dark\"],\n",
       "body.vscode-dark {\n",
       "  --xr-font-color0: rgba(255, 255, 255, 1);\n",
       "  --xr-font-color2: rgba(255, 255, 255, 0.54);\n",
       "  --xr-font-color3: rgba(255, 255, 255, 0.38);\n",
       "  --xr-border-color: #1f1f1f;\n",
       "  --xr-disabled-color: #515151;\n",
       "  --xr-background-color: #111111;\n",
       "  --xr-background-color-row-even: #111111;\n",
       "  --xr-background-color-row-odd: #313131;\n",
       "}\n",
       "\n",
       ".xr-wrap {\n",
       "  display: block !important;\n",
       "  min-width: 300px;\n",
       "  max-width: 700px;\n",
       "}\n",
       "\n",
       ".xr-text-repr-fallback {\n",
       "  /* fallback to plain text repr when CSS is not injected (untrusted notebook) */\n",
       "  display: none;\n",
       "}\n",
       "\n",
       ".xr-header {\n",
       "  padding-top: 6px;\n",
       "  padding-bottom: 6px;\n",
       "  margin-bottom: 4px;\n",
       "  border-bottom: solid 1px var(--xr-border-color);\n",
       "}\n",
       "\n",
       ".xr-header > div,\n",
       ".xr-header > ul {\n",
       "  display: inline;\n",
       "  margin-top: 0;\n",
       "  margin-bottom: 0;\n",
       "}\n",
       "\n",
       ".xr-obj-type,\n",
       ".xr-array-name {\n",
       "  margin-left: 2px;\n",
       "  margin-right: 10px;\n",
       "}\n",
       "\n",
       ".xr-obj-type {\n",
       "  color: var(--xr-font-color2);\n",
       "}\n",
       "\n",
       ".xr-sections {\n",
       "  padding-left: 0 !important;\n",
       "  display: grid;\n",
       "  grid-template-columns: 150px auto auto 1fr 0 20px 0 20px;\n",
       "}\n",
       "\n",
       ".xr-section-item {\n",
       "  display: contents;\n",
       "}\n",
       "\n",
       ".xr-section-item input {\n",
       "  display: inline-block;\n",
       "  opacity: 0;\n",
       "  height: 0;\n",
       "}\n",
       "\n",
       ".xr-section-item input + label {\n",
       "  color: var(--xr-disabled-color);\n",
       "}\n",
       "\n",
       ".xr-section-item input:enabled + label {\n",
       "  cursor: pointer;\n",
       "  color: var(--xr-font-color2);\n",
       "}\n",
       "\n",
       ".xr-section-item input:focus + label {\n",
       "  border: 2px solid var(--xr-font-color0);\n",
       "}\n",
       "\n",
       ".xr-section-item input:enabled + label:hover {\n",
       "  color: var(--xr-font-color0);\n",
       "}\n",
       "\n",
       ".xr-section-summary {\n",
       "  grid-column: 1;\n",
       "  color: var(--xr-font-color2);\n",
       "  font-weight: 500;\n",
       "}\n",
       "\n",
       ".xr-section-summary > span {\n",
       "  display: inline-block;\n",
       "  padding-left: 0.5em;\n",
       "}\n",
       "\n",
       ".xr-section-summary-in:disabled + label {\n",
       "  color: var(--xr-font-color2);\n",
       "}\n",
       "\n",
       ".xr-section-summary-in + label:before {\n",
       "  display: inline-block;\n",
       "  content: \"►\";\n",
       "  font-size: 11px;\n",
       "  width: 15px;\n",
       "  text-align: center;\n",
       "}\n",
       "\n",
       ".xr-section-summary-in:disabled + label:before {\n",
       "  color: var(--xr-disabled-color);\n",
       "}\n",
       "\n",
       ".xr-section-summary-in:checked + label:before {\n",
       "  content: \"▼\";\n",
       "}\n",
       "\n",
       ".xr-section-summary-in:checked + label > span {\n",
       "  display: none;\n",
       "}\n",
       "\n",
       ".xr-section-summary,\n",
       ".xr-section-inline-details {\n",
       "  padding-top: 4px;\n",
       "  padding-bottom: 4px;\n",
       "}\n",
       "\n",
       ".xr-section-inline-details {\n",
       "  grid-column: 2 / -1;\n",
       "}\n",
       "\n",
       ".xr-section-details {\n",
       "  display: none;\n",
       "  grid-column: 1 / -1;\n",
       "  margin-bottom: 5px;\n",
       "}\n",
       "\n",
       ".xr-section-summary-in:checked ~ .xr-section-details {\n",
       "  display: contents;\n",
       "}\n",
       "\n",
       ".xr-array-wrap {\n",
       "  grid-column: 1 / -1;\n",
       "  display: grid;\n",
       "  grid-template-columns: 20px auto;\n",
       "}\n",
       "\n",
       ".xr-array-wrap > label {\n",
       "  grid-column: 1;\n",
       "  vertical-align: top;\n",
       "}\n",
       "\n",
       ".xr-preview {\n",
       "  color: var(--xr-font-color3);\n",
       "}\n",
       "\n",
       ".xr-array-preview,\n",
       ".xr-array-data {\n",
       "  padding: 0 5px !important;\n",
       "  grid-column: 2;\n",
       "}\n",
       "\n",
       ".xr-array-data,\n",
       ".xr-array-in:checked ~ .xr-array-preview {\n",
       "  display: none;\n",
       "}\n",
       "\n",
       ".xr-array-in:checked ~ .xr-array-data,\n",
       ".xr-array-preview {\n",
       "  display: inline-block;\n",
       "}\n",
       "\n",
       ".xr-dim-list {\n",
       "  display: inline-block !important;\n",
       "  list-style: none;\n",
       "  padding: 0 !important;\n",
       "  margin: 0;\n",
       "}\n",
       "\n",
       ".xr-dim-list li {\n",
       "  display: inline-block;\n",
       "  padding: 0;\n",
       "  margin: 0;\n",
       "}\n",
       "\n",
       ".xr-dim-list:before {\n",
       "  content: \"(\";\n",
       "}\n",
       "\n",
       ".xr-dim-list:after {\n",
       "  content: \")\";\n",
       "}\n",
       "\n",
       ".xr-dim-list li:not(:last-child):after {\n",
       "  content: \",\";\n",
       "  padding-right: 5px;\n",
       "}\n",
       "\n",
       ".xr-has-index {\n",
       "  font-weight: bold;\n",
       "}\n",
       "\n",
       ".xr-var-list,\n",
       ".xr-var-item {\n",
       "  display: contents;\n",
       "}\n",
       "\n",
       ".xr-var-item > div,\n",
       ".xr-var-item label,\n",
       ".xr-var-item > .xr-var-name span {\n",
       "  background-color: var(--xr-background-color-row-even);\n",
       "  margin-bottom: 0;\n",
       "}\n",
       "\n",
       ".xr-var-item > .xr-var-name:hover span {\n",
       "  padding-right: 5px;\n",
       "}\n",
       "\n",
       ".xr-var-list > li:nth-child(odd) > div,\n",
       ".xr-var-list > li:nth-child(odd) > label,\n",
       ".xr-var-list > li:nth-child(odd) > .xr-var-name span {\n",
       "  background-color: var(--xr-background-color-row-odd);\n",
       "}\n",
       "\n",
       ".xr-var-name {\n",
       "  grid-column: 1;\n",
       "}\n",
       "\n",
       ".xr-var-dims {\n",
       "  grid-column: 2;\n",
       "}\n",
       "\n",
       ".xr-var-dtype {\n",
       "  grid-column: 3;\n",
       "  text-align: right;\n",
       "  color: var(--xr-font-color2);\n",
       "}\n",
       "\n",
       ".xr-var-preview {\n",
       "  grid-column: 4;\n",
       "}\n",
       "\n",
       ".xr-index-preview {\n",
       "  grid-column: 2 / 5;\n",
       "  color: var(--xr-font-color2);\n",
       "}\n",
       "\n",
       ".xr-var-name,\n",
       ".xr-var-dims,\n",
       ".xr-var-dtype,\n",
       ".xr-preview,\n",
       ".xr-attrs dt {\n",
       "  white-space: nowrap;\n",
       "  overflow: hidden;\n",
       "  text-overflow: ellipsis;\n",
       "  padding-right: 10px;\n",
       "}\n",
       "\n",
       ".xr-var-name:hover,\n",
       ".xr-var-dims:hover,\n",
       ".xr-var-dtype:hover,\n",
       ".xr-attrs dt:hover {\n",
       "  overflow: visible;\n",
       "  width: auto;\n",
       "  z-index: 1;\n",
       "}\n",
       "\n",
       ".xr-var-attrs,\n",
       ".xr-var-data,\n",
       ".xr-index-data {\n",
       "  display: none;\n",
       "  background-color: var(--xr-background-color) !important;\n",
       "  padding-bottom: 5px !important;\n",
       "}\n",
       "\n",
       ".xr-var-attrs-in:checked ~ .xr-var-attrs,\n",
       ".xr-var-data-in:checked ~ .xr-var-data,\n",
       ".xr-index-data-in:checked ~ .xr-index-data {\n",
       "  display: block;\n",
       "}\n",
       "\n",
       ".xr-var-data > table {\n",
       "  float: right;\n",
       "}\n",
       "\n",
       ".xr-var-name span,\n",
       ".xr-var-data,\n",
       ".xr-index-name div,\n",
       ".xr-index-data,\n",
       ".xr-attrs {\n",
       "  padding-left: 25px !important;\n",
       "}\n",
       "\n",
       ".xr-attrs,\n",
       ".xr-var-attrs,\n",
       ".xr-var-data,\n",
       ".xr-index-data {\n",
       "  grid-column: 1 / -1;\n",
       "}\n",
       "\n",
       "dl.xr-attrs {\n",
       "  padding: 0;\n",
       "  margin: 0;\n",
       "  display: grid;\n",
       "  grid-template-columns: 125px auto;\n",
       "}\n",
       "\n",
       ".xr-attrs dt,\n",
       ".xr-attrs dd {\n",
       "  padding: 0;\n",
       "  margin: 0;\n",
       "  float: left;\n",
       "  padding-right: 10px;\n",
       "  width: auto;\n",
       "}\n",
       "\n",
       ".xr-attrs dt {\n",
       "  font-weight: normal;\n",
       "  grid-column: 1;\n",
       "}\n",
       "\n",
       ".xr-attrs dt:hover span {\n",
       "  display: inline-block;\n",
       "  background: var(--xr-background-color);\n",
       "  padding-right: 10px;\n",
       "}\n",
       "\n",
       ".xr-attrs dd {\n",
       "  grid-column: 2;\n",
       "  white-space: pre-wrap;\n",
       "  word-break: break-all;\n",
       "}\n",
       "\n",
       ".xr-icon-database,\n",
       ".xr-icon-file-text2,\n",
       ".xr-no-icon {\n",
       "  display: inline-block;\n",
       "  vertical-align: middle;\n",
       "  width: 1em;\n",
       "  height: 1.5em !important;\n",
       "  stroke-width: 0;\n",
       "  stroke: currentColor;\n",
       "  fill: currentColor;\n",
       "}\n",
       "</style><pre class='xr-text-repr-fallback'>&lt;xarray.Dataset&gt; Size: 2kB\n",
       "Dimensions:            (layer: 1, time: 59, latitude: 1, longitude: 1)\n",
       "Coordinates: (4)\n",
       "Data variables: (4)</pre><div class='xr-wrap' style='display:none'><div class='xr-header'><div class='xr-obj-type'>xarray.Dataset</div></div><ul class='xr-sections'><li class='xr-section-item'><input id='section-1340943c-16c8-417e-8bab-22538f7fca53' class='xr-section-summary-in' type='checkbox' disabled ><label for='section-1340943c-16c8-417e-8bab-22538f7fca53' class='xr-section-summary'  title='Expand/collapse section'>Dimensions:</label><div class='xr-section-inline-details'><ul class='xr-dim-list'><li><span class='xr-has-index'>layer</span>: 1</li><li><span class='xr-has-index'>time</span>: 59</li><li><span class='xr-has-index'>latitude</span>: 1</li><li><span class='xr-has-index'>longitude</span>: 1</li></ul></div><div class='xr-section-details'></div></li><li class='xr-section-item'><input id='section-a1781c01-3402-43b7-b8a7-cc3574675398' class='xr-section-summary-in' type='checkbox'  ><label for='section-a1781c01-3402-43b7-b8a7-cc3574675398' class='xr-section-summary' >Coordinates: <span>(4)</span></label><div class='xr-section-inline-details'></div><div class='xr-section-details'><ul class='xr-var-list'><li class='xr-var-item'><div class='xr-var-name'><span class='xr-has-index'>layer</span></div><div class='xr-var-dims'>(layer)</div><div class='xr-var-dtype'>int64</div><div class='xr-var-preview xr-preview'>0</div><input id='attrs-6110bd79-2920-4733-8fff-723dc7f622d5' class='xr-var-attrs-in' type='checkbox' ><label for='attrs-6110bd79-2920-4733-8fff-723dc7f622d5' title='Show/Hide attributes'><svg class='icon xr-icon-file-text2'><use xlink:href='#icon-file-text2'></use></svg></label><input id='data-86a05657-9ead-40b1-998f-6757e3d93d0c' class='xr-var-data-in' type='checkbox'><label for='data-86a05657-9ead-40b1-998f-6757e3d93d0c' title='Show/Hide data repr'><svg class='icon xr-icon-database'><use xlink:href='#icon-database'></use></svg></label><div class='xr-var-attrs'><dl class='xr-attrs'><dt><span>axis :</span></dt><dd>Z</dd><dt><span>desc :</span></dt><dd>The layer depth according to Seapodym definition</dd><dt><span>flag_meanings :</span></dt><dd>epipelagic, upper-mesopelagic, lower-mesopelagic</dd><dt><span>flag_values :</span></dt><dd>[0, 1, 2]</dd><dt><span>long_name :</span></dt><dd>Layer depth</dd><dt><span>standard_name :</span></dt><dd>layer</dd></dl></div><div class='xr-var-data'><pre>array([0])</pre></div></li><li class='xr-var-item'><div class='xr-var-name'><span class='xr-has-index'>time</span></div><div class='xr-var-dims'>(time)</div><div class='xr-var-dtype'>datetime64[ns]</div><div class='xr-var-preview xr-preview'>2005-01-31 ... 2009-11-30</div><input id='attrs-e5beb76d-f797-4378-abc6-565359d9c929' class='xr-var-attrs-in' type='checkbox' ><label for='attrs-e5beb76d-f797-4378-abc6-565359d9c929' title='Show/Hide attributes'><svg class='icon xr-icon-file-text2'><use xlink:href='#icon-file-text2'></use></svg></label><input id='data-94723c42-de2b-4cd2-a082-b2ac590207be' class='xr-var-data-in' type='checkbox'><label for='data-94723c42-de2b-4cd2-a082-b2ac590207be' title='Show/Hide data repr'><svg class='icon xr-icon-database'><use xlink:href='#icon-database'></use></svg></label><div class='xr-var-attrs'><dl class='xr-attrs'><dt><span>axis :</span></dt><dd>T</dd><dt><span>long_name :</span></dt><dd>time</dd><dt><span>standard_name :</span></dt><dd>time</dd></dl></div><div class='xr-var-data'><pre>array([&#x27;2005-01-31T00:00:00.000000000&#x27;, &#x27;2005-02-28T00:00:00.000000000&#x27;,\n",
       "       &#x27;2005-03-31T00:00:00.000000000&#x27;, &#x27;2005-04-30T00:00:00.000000000&#x27;,\n",
       "       &#x27;2005-05-31T00:00:00.000000000&#x27;, &#x27;2005-06-30T00:00:00.000000000&#x27;,\n",
       "       &#x27;2005-07-31T00:00:00.000000000&#x27;, &#x27;2005-08-31T00:00:00.000000000&#x27;,\n",
       "       &#x27;2005-09-30T00:00:00.000000000&#x27;, &#x27;2005-10-31T00:00:00.000000000&#x27;,\n",
       "       &#x27;2005-11-30T00:00:00.000000000&#x27;, &#x27;2005-12-31T00:00:00.000000000&#x27;,\n",
       "       &#x27;2006-01-31T00:00:00.000000000&#x27;, &#x27;2006-02-28T00:00:00.000000000&#x27;,\n",
       "       &#x27;2006-03-31T00:00:00.000000000&#x27;, &#x27;2006-04-30T00:00:00.000000000&#x27;,\n",
       "       &#x27;2006-05-31T00:00:00.000000000&#x27;, &#x27;2006-06-30T00:00:00.000000000&#x27;,\n",
       "       &#x27;2006-07-31T00:00:00.000000000&#x27;, &#x27;2006-08-31T00:00:00.000000000&#x27;,\n",
       "       &#x27;2006-09-30T00:00:00.000000000&#x27;, &#x27;2006-10-31T00:00:00.000000000&#x27;,\n",
       "       &#x27;2006-11-30T00:00:00.000000000&#x27;, &#x27;2006-12-31T00:00:00.000000000&#x27;,\n",
       "       &#x27;2007-01-31T00:00:00.000000000&#x27;, &#x27;2007-02-28T00:00:00.000000000&#x27;,\n",
       "       &#x27;2007-03-31T00:00:00.000000000&#x27;, &#x27;2007-04-30T00:00:00.000000000&#x27;,\n",
       "       &#x27;2007-05-31T00:00:00.000000000&#x27;, &#x27;2007-06-30T00:00:00.000000000&#x27;,\n",
       "       &#x27;2007-07-31T00:00:00.000000000&#x27;, &#x27;2007-08-31T00:00:00.000000000&#x27;,\n",
       "       &#x27;2007-09-30T00:00:00.000000000&#x27;, &#x27;2007-10-31T00:00:00.000000000&#x27;,\n",
       "       &#x27;2007-11-30T00:00:00.000000000&#x27;, &#x27;2007-12-31T00:00:00.000000000&#x27;,\n",
       "       &#x27;2008-01-31T00:00:00.000000000&#x27;, &#x27;2008-02-29T00:00:00.000000000&#x27;,\n",
       "       &#x27;2008-03-31T00:00:00.000000000&#x27;, &#x27;2008-04-30T00:00:00.000000000&#x27;,\n",
       "       &#x27;2008-05-31T00:00:00.000000000&#x27;, &#x27;2008-06-30T00:00:00.000000000&#x27;,\n",
       "       &#x27;2008-07-31T00:00:00.000000000&#x27;, &#x27;2008-08-31T00:00:00.000000000&#x27;,\n",
       "       &#x27;2008-09-30T00:00:00.000000000&#x27;, &#x27;2008-10-31T00:00:00.000000000&#x27;,\n",
       "       &#x27;2008-11-30T00:00:00.000000000&#x27;, &#x27;2008-12-31T00:00:00.000000000&#x27;,\n",
       "       &#x27;2009-01-31T00:00:00.000000000&#x27;, &#x27;2009-02-28T00:00:00.000000000&#x27;,\n",
       "       &#x27;2009-03-31T00:00:00.000000000&#x27;, &#x27;2009-04-30T00:00:00.000000000&#x27;,\n",
       "       &#x27;2009-05-31T00:00:00.000000000&#x27;, &#x27;2009-06-30T00:00:00.000000000&#x27;,\n",
       "       &#x27;2009-07-31T00:00:00.000000000&#x27;, &#x27;2009-08-31T00:00:00.000000000&#x27;,\n",
       "       &#x27;2009-09-30T00:00:00.000000000&#x27;, &#x27;2009-10-31T00:00:00.000000000&#x27;,\n",
       "       &#x27;2009-11-30T00:00:00.000000000&#x27;], dtype=&#x27;datetime64[ns]&#x27;)</pre></div></li><li class='xr-var-item'><div class='xr-var-name'><span class='xr-has-index'>latitude</span></div><div class='xr-var-dims'>(latitude)</div><div class='xr-var-dtype'>float64</div><div class='xr-var-preview xr-preview'>22.75</div><input id='attrs-213d467c-7e54-4902-b115-8277afc49e86' class='xr-var-attrs-in' type='checkbox' ><label for='attrs-213d467c-7e54-4902-b115-8277afc49e86' title='Show/Hide attributes'><svg class='icon xr-icon-file-text2'><use xlink:href='#icon-file-text2'></use></svg></label><input id='data-fe4b0d81-927d-4f3e-a687-4e2f0cb007cf' class='xr-var-data-in' type='checkbox'><label for='data-fe4b0d81-927d-4f3e-a687-4e2f0cb007cf' title='Show/Hide data repr'><svg class='icon xr-icon-database'><use xlink:href='#icon-database'></use></svg></label><div class='xr-var-attrs'><dl class='xr-attrs'><dt><span>axis :</span></dt><dd>Y</dd><dt><span>standard_name :</span></dt><dd>latitude</dd><dt><span>units :</span></dt><dd>degrees_north</dd></dl></div><div class='xr-var-data'><pre>array([22.75])</pre></div></li><li class='xr-var-item'><div class='xr-var-name'><span class='xr-has-index'>longitude</span></div><div class='xr-var-dims'>(longitude)</div><div class='xr-var-dtype'>int64</div><div class='xr-var-preview xr-preview'>-158</div><input id='attrs-0c1baa78-87d8-46fe-84cf-65bcfb923642' class='xr-var-attrs-in' type='checkbox' ><label for='attrs-0c1baa78-87d8-46fe-84cf-65bcfb923642' title='Show/Hide attributes'><svg class='icon xr-icon-file-text2'><use xlink:href='#icon-file-text2'></use></svg></label><input id='data-611f8a18-c1a2-4537-b7dc-035d00823bea' class='xr-var-data-in' type='checkbox'><label for='data-611f8a18-c1a2-4537-b7dc-035d00823bea' title='Show/Hide data repr'><svg class='icon xr-icon-database'><use xlink:href='#icon-database'></use></svg></label><div class='xr-var-attrs'><dl class='xr-attrs'><dt><span>axis :</span></dt><dd>X</dd><dt><span>standard_name :</span></dt><dd>longitude</dd><dt><span>units :</span></dt><dd>degrees_east</dd></dl></div><div class='xr-var-data'><pre>array([-158])</pre></div></li></ul></div></li><li class='xr-section-item'><input id='section-46a58814-5b76-4e6a-8e35-af62f74b6f0f' class='xr-section-summary-in' type='checkbox'  ><label for='section-46a58814-5b76-4e6a-8e35-af62f74b6f0f' class='xr-section-summary' >Data variables: <span>(4)</span></label><div class='xr-section-inline-details'></div><div class='xr-section-details'><ul class='xr-var-list'><li class='xr-var-item'><div class='xr-var-name'><span>day</span></div><div class='xr-var-dims'>(time, layer, latitude, longitude)</div><div class='xr-var-dtype'>float64</div><div class='xr-var-preview xr-preview'>[mg/m²] 161.2 180.1 ... 248.0 199.5</div><input id='attrs-174114db-ce1a-4a8d-80cf-5b9d60798b47' class='xr-var-attrs-in' type='checkbox' disabled><label for='attrs-174114db-ce1a-4a8d-80cf-5b9d60798b47' title='Show/Hide attributes'><svg class='icon xr-icon-file-text2'><use xlink:href='#icon-file-text2'></use></svg></label><input id='data-0f22127c-4311-45eb-bd5c-67afcb26e7f8' class='xr-var-data-in' type='checkbox'><label for='data-0f22127c-4311-45eb-bd5c-67afcb26e7f8' title='Show/Hide data repr'><svg class='icon xr-icon-database'><use xlink:href='#icon-database'></use></svg></label><div class='xr-var-attrs'><dl class='xr-attrs'></dl></div><div class='xr-var-data'><table><tbody><tr><th>Magnitude</th><td style='text-align:left;'><pre>[[[[161.18085076616643]]]<br><br><br> [[[180.11886858075593]]]<br><br><br> [[[206.9568833881889]]]<br><br><br> [[[257.0734350236469]]]<br><br><br> [[[275.23242516474]]]<br><br><br> [[[282.22919058899055]]]<br><br><br> [[[286.98619921530604]]]<br><br><br> [[[311.5459297539875]]]<br><br><br> [[[303.8242714951801]]]<br><br><br> [[[248.03965495807626]]]<br><br><br> [[[199.45355494862133]]]<br><br><br> [[[173.55167845591396]]]<br><br><br> [[[161.18085076616643]]]<br><br><br> [[[180.11886858075593]]]<br><br><br> [[[206.9568833881889]]]<br><br><br> [[[257.0734350236469]]]<br><br><br> [[[275.23242516474]]]<br><br><br> [[[282.22919058899055]]]<br><br><br> [[[286.98619921530604]]]<br><br><br> [[[311.5459297539875]]]<br><br><br> [[[303.8242714951801]]]<br><br><br> [[[248.03965495807626]]]<br><br><br> [[[199.45355494862133]]]<br><br><br> [[[173.55167845591396]]]<br><br><br> [[[161.18085076616643]]]<br><br><br> [[[180.11886858075593]]]<br><br><br> [[[206.9568833881889]]]<br><br><br> [[[257.0734350236469]]]<br><br><br> [[[275.23242516474]]]<br><br><br> [[[282.22919058899055]]]<br><br><br> [[[286.98619921530604]]]<br><br><br> [[[311.5459297539875]]]<br><br><br> [[[303.8242714951801]]]<br><br><br> [[[248.03965495807626]]]<br><br><br> [[[199.45355494862133]]]<br><br><br> [[[173.55167845591396]]]<br><br><br> [[[161.18085076616643]]]<br><br><br> [[[179.1993152851171]]]<br><br><br> [[[207.78348092804256]]]<br><br><br> [[[256.97140808136334]]]<br><br><br> [[[276.73713373591653]]]<br><br><br> [[[286.8754053335449]]]<br><br><br> [[[289.4875232614997]]]<br><br><br> [[[315.3292764814672]]]<br><br><br> [[[297.1327451472592]]]<br><br><br> [[[252.05575513504192]]]<br><br><br> [[[201.0579558457]]]<br><br><br> [[[167.88955162294909]]]<br><br><br> [[[161.18085076616643]]]<br><br><br> [[[180.11886858075593]]]<br><br><br> [[[206.9568833881889]]]<br><br><br> [[[257.0734350236469]]]<br><br><br> [[[275.23242516474]]]<br><br><br> [[[282.22919058899055]]]<br><br><br> [[[286.98619921530604]]]<br><br><br> [[[311.5459297539875]]]<br><br><br> [[[303.8242714951801]]]<br><br><br> [[[248.03965495807626]]]<br><br><br> [[[199.45355494862133]]]]</pre></td></tr><tr><th>Units</th><td style='text-align:left;'>milligram/meter<sup>2</sup></td></tr></tbody></table></div></li><li class='xr-var-item'><div class='xr-var-name'><span>day_lowess_0.15</span></div><div class='xr-var-dims'>(time, layer, latitude, longitude)</div><div class='xr-var-dtype'>float64</div><div class='xr-var-preview xr-preview'>[mg/m²] 169.0 184.2 ... 246.8 204.2</div><input id='attrs-147aef89-7dfd-4983-95df-4f5bef159c4b' class='xr-var-attrs-in' type='checkbox' disabled><label for='attrs-147aef89-7dfd-4983-95df-4f5bef159c4b' title='Show/Hide attributes'><svg class='icon xr-icon-file-text2'><use xlink:href='#icon-file-text2'></use></svg></label><input id='data-559b0195-7754-4555-9bcc-15ffdae426c4' class='xr-var-data-in' type='checkbox'><label for='data-559b0195-7754-4555-9bcc-15ffdae426c4' title='Show/Hide data repr'><svg class='icon xr-icon-database'><use xlink:href='#icon-database'></use></svg></label><div class='xr-var-attrs'><dl class='xr-attrs'></dl></div><div class='xr-var-data'><table><tbody><tr><th>Magnitude</th><td style='text-align:left;'><pre>[[[[169.028807463174]]]<br><br><br> [[[184.16566200957695]]]<br><br><br> [[[208.84032451359002]]]<br><br><br> [[[249.77746034277746]]]<br><br><br> [[[274.8246466780064]]]<br><br><br> [[[283.74409762470765]]]<br><br><br> [[[288.36278273935625]]]<br><br><br> [[[306.0065955062098]]]<br><br><br> [[[291.278907182586]]]<br><br><br> [[[246.83881007292297]]]<br><br><br> [[[204.1907428435882]]]<br><br><br> [[[175.24749384551424]]]<br><br><br> [[[169.028807463174]]]<br><br><br> [[[184.16566200957695]]]<br><br><br> [[[208.84032451359002]]]<br><br><br> [[[249.77746034277746]]]<br><br><br> [[[274.8246466780064]]]<br><br><br> [[[283.74409762470765]]]<br><br><br> [[[288.36278273935625]]]<br><br><br> [[[306.0065955062098]]]<br><br><br> [[[291.278907182586]]]<br><br><br> [[[246.83881007292297]]]<br><br><br> [[[204.1907428435882]]]<br><br><br> [[[175.24749384551424]]]<br><br><br> [[[169.028807463174]]]<br><br><br> [[[184.16566200957695]]]<br><br><br> [[[208.84032451359002]]]<br><br><br> [[[249.77746034277746]]]<br><br><br> [[[274.8246466780064]]]<br><br><br> [[[283.74409762470765]]]<br><br><br> [[[288.36278273935625]]]<br><br><br> [[[306.0065955062098]]]<br><br><br> [[[291.278907182586]]]<br><br><br> [[[246.83881007292297]]]<br><br><br> [[[204.1907428435882]]]<br><br><br> [[[175.24749384551424]]]<br><br><br> [[[169.028807463174]]]<br><br><br> [[[183.22544878939186]]]<br><br><br> [[[209.67444462420926]]]<br><br><br> [[[249.67832901663408]]]<br><br><br> [[[276.32712590507947]]]<br><br><br> [[[288.4152516159477]]]<br><br><br> [[[290.87610485890576]]]<br><br><br> [[[309.7226737506274]]]<br><br><br> [[[284.86368409190277]]]<br><br><br> [[[250.8354669340342]]]<br><br><br> [[[205.83324959699155]]]<br><br><br> [[[169.5300410029905]]]<br><br><br> [[[169.028807463174]]]<br><br><br> [[[184.16566200957695]]]<br><br><br> [[[208.84032451359002]]]<br><br><br> [[[249.77746034277746]]]<br><br><br> [[[274.8246466780064]]]<br><br><br> [[[283.74409762470765]]]<br><br><br> [[[288.36278273935625]]]<br><br><br> [[[306.0065955062098]]]<br><br><br> [[[291.278907182586]]]<br><br><br> [[[246.83881007292297]]]<br><br><br> [[[204.1907428435882]]]]</pre></td></tr><tr><th>Units</th><td style='text-align:left;'>milligram/meter<sup>2</sup></td></tr></tbody></table></div></li><li class='xr-var-item'><div class='xr-var-name'><span>night</span></div><div class='xr-var-dims'>(time, layer, latitude, longitude)</div><div class='xr-var-dtype'>float64</div><div class='xr-var-preview xr-preview'>[mg/m²] 258.0 312.1 ... 397.5 351.8</div><input id='attrs-b83549ba-6c93-4707-8ea5-b262dd76d9c4' class='xr-var-attrs-in' type='checkbox' disabled><label for='attrs-b83549ba-6c93-4707-8ea5-b262dd76d9c4' title='Show/Hide attributes'><svg class='icon xr-icon-file-text2'><use xlink:href='#icon-file-text2'></use></svg></label><input id='data-f1e19404-4c2e-486e-bb7a-f7152b3e68d7' class='xr-var-data-in' type='checkbox'><label for='data-f1e19404-4c2e-486e-bb7a-f7152b3e68d7' title='Show/Hide data repr'><svg class='icon xr-icon-database'><use xlink:href='#icon-database'></use></svg></label><div class='xr-var-attrs'><dl class='xr-attrs'></dl></div><div class='xr-var-data'><table><tbody><tr><th>Magnitude</th><td style='text-align:left;'><pre>[[[[258.03481873118506]]]<br><br><br> [[[312.0971899578935]]]<br><br><br> [[[337.83226845879244]]]<br><br><br> [[[417.2221469934213]]]<br><br><br> [[[413.983132804948]]]<br><br><br> [[[421.89365674709336]]]<br><br><br> [[[446.4529220074815]]]<br><br><br> [[[446.9570956014589]]]<br><br><br> [[[420.36154798665865]]]<br><br><br> [[[397.4942208367208]]]<br><br><br> [[[351.7616224091976]]]<br><br><br> [[[294.6494292157888]]]<br><br><br> [[[258.03481873118506]]]<br><br><br> [[[312.0971899578935]]]<br><br><br> [[[337.83226845879244]]]<br><br><br> [[[417.2221469934213]]]<br><br><br> [[[413.983132804948]]]<br><br><br> [[[421.89365674709336]]]<br><br><br> [[[446.4529220074815]]]<br><br><br> [[[446.9570956014589]]]<br><br><br> [[[420.36154798665865]]]<br><br><br> [[[397.4942208367208]]]<br><br><br> [[[351.7616224091976]]]<br><br><br> [[[294.6494292157888]]]<br><br><br> [[[258.03481873118506]]]<br><br><br> [[[312.0971899578935]]]<br><br><br> [[[337.83226845879244]]]<br><br><br> [[[417.2221469934213]]]<br><br><br> [[[413.983132804948]]]<br><br><br> [[[421.89365674709336]]]<br><br><br> [[[446.4529220074815]]]<br><br><br> [[[446.9570956014589]]]<br><br><br> [[[420.36154798665865]]]<br><br><br> [[[397.4942208367208]]]<br><br><br> [[[351.7616224091976]]]<br><br><br> [[[294.6494292157888]]]<br><br><br> [[[258.03481873118506]]]<br><br><br> [[[310.5038532805829]]]<br><br><br> [[[339.1815897155657]]]<br><br><br> [[[417.05656045622504]]]<br><br><br> [[[416.24639799937876]]]<br><br><br> [[[428.83910602723876]]]<br><br><br> [[[450.3441315233542]]]<br><br><br> [[[452.38484638704267]]]<br><br><br> [[[411.10336607721837]]]<br><br><br> [[[403.9301941931383]]]<br><br><br> [[[354.5911867290542]]]<br><br><br> [[[285.0364859453825]]]<br><br><br> [[[258.03481873118506]]]<br><br><br> [[[312.0971899578935]]]<br><br><br> [[[337.83226845879244]]]<br><br><br> [[[417.2221469934213]]]<br><br><br> [[[413.983132804948]]]<br><br><br> [[[421.89365674709336]]]<br><br><br> [[[446.4529220074815]]]<br><br><br> [[[446.9570956014589]]]<br><br><br> [[[420.36154798665865]]]<br><br><br> [[[397.4942208367208]]]<br><br><br> [[[351.7616224091976]]]]</pre></td></tr><tr><th>Units</th><td style='text-align:left;'>milligram/meter<sup>2</sup></td></tr></tbody></table></div></li><li class='xr-var-item'><div class='xr-var-name'><span>night_lowess_0.15</span></div><div class='xr-var-dims'>(time, layer, latitude, longitude)</div><div class='xr-var-dtype'>float64</div><div class='xr-var-preview xr-preview'>[mg/m²] 292.7 309.8 ... 386.5 345.4</div><input id='attrs-249189f2-7527-48bc-874d-ecbe901c146b' class='xr-var-attrs-in' type='checkbox' disabled><label for='attrs-249189f2-7527-48bc-874d-ecbe901c146b' title='Show/Hide attributes'><svg class='icon xr-icon-file-text2'><use xlink:href='#icon-file-text2'></use></svg></label><input id='data-bbd2b070-0ea7-406e-ad41-b9ede00e2a41' class='xr-var-data-in' type='checkbox'><label for='data-bbd2b070-0ea7-406e-ad41-b9ede00e2a41' title='Show/Hide data repr'><svg class='icon xr-icon-database'><use xlink:href='#icon-database'></use></svg></label><div class='xr-var-attrs'><dl class='xr-attrs'></dl></div><div class='xr-var-data'><table><tbody><tr><th>Magnitude</th><td style='text-align:left;'><pre>[[[[292.6857109718174]]]<br><br><br> [[[309.8253583578534]]]<br><br><br> [[[344.94080584963706]]]<br><br><br> [[[394.4192673666516]]]<br><br><br> [[[420.66545995825976]]]<br><br><br> [[[429.8304782290394]]]<br><br><br> [[[432.4453203920931]]]<br><br><br> [[[443.3654699770805]]]<br><br><br> [[[428.2072779807913]]]<br><br><br> [[[386.5062119765258]]]<br><br><br> [[[345.4452100563779]]]<br><br><br> [[[295.84364078041136]]]<br><br><br> [[[292.6857109718174]]]<br><br><br> [[[309.8253583578534]]]<br><br><br> [[[344.94080584963706]]]<br><br><br> [[[394.4192673666516]]]<br><br><br> [[[420.66545995825976]]]<br><br><br> [[[429.8304782290394]]]<br><br><br> [[[432.4453203920931]]]<br><br><br> [[[443.3654699770805]]]<br><br><br> [[[428.2072779807913]]]<br><br><br> [[[386.5062119765258]]]<br><br><br> [[[345.4452100563779]]]<br><br><br> [[[295.84364078041136]]]<br><br><br> [[[292.6857109718174]]]<br><br><br> [[[309.8253583578534]]]<br><br><br> [[[344.94080584963706]]]<br><br><br> [[[394.4192673666516]]]<br><br><br> [[[420.66545995825976]]]<br><br><br> [[[429.8304782290394]]]<br><br><br> [[[432.4453203920931]]]<br><br><br> [[[443.3654699770805]]]<br><br><br> [[[428.2072779807913]]]<br><br><br> [[[386.5062119765258]]]<br><br><br> [[[345.4452100563779]]]<br><br><br> [[[295.84364078041136]]]<br><br><br> [[[292.6857109718174]]]<br><br><br> [[[308.2436199670046]]]<br><br><br> [[[346.3185190082549]]]<br><br><br> [[[394.2627308041575]]]<br><br><br> [[[422.96525774850284]]]<br><br><br> [[[436.9065879023119]]]<br><br><br> [[[436.2144419788393]]]<br><br><br> [[[448.74960483398553]]]<br><br><br> [[[418.7762991163347]]]<br><br><br> [[[392.76427448906884]]]<br><br><br> [[[348.2239652660745]]]<br><br><br> [[[286.19173633484127]]]<br><br><br> [[[292.6857109718174]]]<br><br><br> [[[309.8253583578534]]]<br><br><br> [[[344.94080584963706]]]<br><br><br> [[[394.4192673666516]]]<br><br><br> [[[420.66545995825976]]]<br><br><br> [[[429.8304782290394]]]<br><br><br> [[[432.4453203920931]]]<br><br><br> [[[443.3654699770805]]]<br><br><br> [[[428.2072779807913]]]<br><br><br> [[[386.5062119765258]]]<br><br><br> [[[345.4452100563779]]]]</pre></td></tr><tr><th>Units</th><td style='text-align:left;'>milligram/meter<sup>2</sup></td></tr></tbody></table></div></li></ul></div></li><li class='xr-section-item'><input id='section-a5f33450-830c-401e-8007-7890eb6e600b' class='xr-section-summary-in' type='checkbox'  ><label for='section-a5f33450-830c-401e-8007-7890eb6e600b' class='xr-section-summary' >Indexes: <span>(4)</span></label><div class='xr-section-inline-details'></div><div class='xr-section-details'><ul class='xr-var-list'><li class='xr-var-item'><div class='xr-index-name'><div>layer</div></div><div class='xr-index-preview'>PandasIndex</div><input type='checkbox' disabled/><label></label><input id='index-6a643916-b86a-4f1c-a7b5-ce9f5517c588' class='xr-index-data-in' type='checkbox'/><label for='index-6a643916-b86a-4f1c-a7b5-ce9f5517c588' title='Show/Hide index repr'><svg class='icon xr-icon-database'><use xlink:href='#icon-database'></use></svg></label><div class='xr-index-data'><pre>PandasIndex(Index([0], dtype=&#x27;int64&#x27;, name=&#x27;layer&#x27;))</pre></div></li><li class='xr-var-item'><div class='xr-index-name'><div>time</div></div><div class='xr-index-preview'>PandasIndex</div><input type='checkbox' disabled/><label></label><input id='index-691cfa82-1509-4d87-9104-082bb0b76679' class='xr-index-data-in' type='checkbox'/><label for='index-691cfa82-1509-4d87-9104-082bb0b76679' title='Show/Hide index repr'><svg class='icon xr-icon-database'><use xlink:href='#icon-database'></use></svg></label><div class='xr-index-data'><pre>PandasIndex(DatetimeIndex([&#x27;2005-01-31&#x27;, &#x27;2005-02-28&#x27;, &#x27;2005-03-31&#x27;, &#x27;2005-04-30&#x27;,\n",
       "               &#x27;2005-05-31&#x27;, &#x27;2005-06-30&#x27;, &#x27;2005-07-31&#x27;, &#x27;2005-08-31&#x27;,\n",
       "               &#x27;2005-09-30&#x27;, &#x27;2005-10-31&#x27;, &#x27;2005-11-30&#x27;, &#x27;2005-12-31&#x27;,\n",
       "               &#x27;2006-01-31&#x27;, &#x27;2006-02-28&#x27;, &#x27;2006-03-31&#x27;, &#x27;2006-04-30&#x27;,\n",
       "               &#x27;2006-05-31&#x27;, &#x27;2006-06-30&#x27;, &#x27;2006-07-31&#x27;, &#x27;2006-08-31&#x27;,\n",
       "               &#x27;2006-09-30&#x27;, &#x27;2006-10-31&#x27;, &#x27;2006-11-30&#x27;, &#x27;2006-12-31&#x27;,\n",
       "               &#x27;2007-01-31&#x27;, &#x27;2007-02-28&#x27;, &#x27;2007-03-31&#x27;, &#x27;2007-04-30&#x27;,\n",
       "               &#x27;2007-05-31&#x27;, &#x27;2007-06-30&#x27;, &#x27;2007-07-31&#x27;, &#x27;2007-08-31&#x27;,\n",
       "               &#x27;2007-09-30&#x27;, &#x27;2007-10-31&#x27;, &#x27;2007-11-30&#x27;, &#x27;2007-12-31&#x27;,\n",
       "               &#x27;2008-01-31&#x27;, &#x27;2008-02-29&#x27;, &#x27;2008-03-31&#x27;, &#x27;2008-04-30&#x27;,\n",
       "               &#x27;2008-05-31&#x27;, &#x27;2008-06-30&#x27;, &#x27;2008-07-31&#x27;, &#x27;2008-08-31&#x27;,\n",
       "               &#x27;2008-09-30&#x27;, &#x27;2008-10-31&#x27;, &#x27;2008-11-30&#x27;, &#x27;2008-12-31&#x27;,\n",
       "               &#x27;2009-01-31&#x27;, &#x27;2009-02-28&#x27;, &#x27;2009-03-31&#x27;, &#x27;2009-04-30&#x27;,\n",
       "               &#x27;2009-05-31&#x27;, &#x27;2009-06-30&#x27;, &#x27;2009-07-31&#x27;, &#x27;2009-08-31&#x27;,\n",
       "               &#x27;2009-09-30&#x27;, &#x27;2009-10-31&#x27;, &#x27;2009-11-30&#x27;],\n",
       "              dtype=&#x27;datetime64[ns]&#x27;, name=&#x27;time&#x27;, freq=&#x27;ME&#x27;))</pre></div></li><li class='xr-var-item'><div class='xr-index-name'><div>latitude</div></div><div class='xr-index-preview'>PandasIndex</div><input type='checkbox' disabled/><label></label><input id='index-e6d44e9a-d160-467a-ad90-7f5393bb2cbc' class='xr-index-data-in' type='checkbox'/><label for='index-e6d44e9a-d160-467a-ad90-7f5393bb2cbc' title='Show/Hide index repr'><svg class='icon xr-icon-database'><use xlink:href='#icon-database'></use></svg></label><div class='xr-index-data'><pre>PandasIndex(Index([22.75], dtype=&#x27;float64&#x27;, name=&#x27;latitude&#x27;))</pre></div></li><li class='xr-var-item'><div class='xr-index-name'><div>longitude</div></div><div class='xr-index-preview'>PandasIndex</div><input type='checkbox' disabled/><label></label><input id='index-087f6c3e-8f02-4738-98bd-e676db6a674f' class='xr-index-data-in' type='checkbox'/><label for='index-087f6c3e-8f02-4738-98bd-e676db6a674f' title='Show/Hide index repr'><svg class='icon xr-icon-database'><use xlink:href='#icon-database'></use></svg></label><div class='xr-index-data'><pre>PandasIndex(Index([-158], dtype=&#x27;int64&#x27;, name=&#x27;longitude&#x27;))</pre></div></li></ul></div></li><li class='xr-section-item'><input id='section-4f5b934c-9b1c-4650-b82d-d8febde649e4' class='xr-section-summary-in' type='checkbox' disabled ><label for='section-4f5b934c-9b1c-4650-b82d-d8febde649e4' class='xr-section-summary'  title='Expand/collapse section'>Attributes: <span>(0)</span></label><div class='xr-section-inline-details'></div><div class='xr-section-details'><dl class='xr-attrs'></dl></div></li></ul></div></div>"
      ],
      "text/plain": [
       "<xarray.Dataset> Size: 2kB\n",
       "Dimensions:            (layer: 1, time: 59, latitude: 1, longitude: 1)\n",
       "Coordinates: (4)\n",
       "Data variables: (4)"
      ]
     },
     "execution_count": 7,
     "metadata": {},
     "output_type": "execute_result"
    }
   ],
   "source": [
    "observations = xr.open_zarr(path_to_obs).load()\n",
    "observations = observations.sel(latitude=LATITUDE, longitude=LONGITUDE, method=\"nearest\")\n",
    "observations = observations.resample(time=\"1D\").mean().dropna(\"time\")\n",
    "observations = observations.pint.quantify().pint.to(\"mg/m^3\")\n",
    "observations = observations * epi_layer_depth\n",
    "observations = observations.drop_vars(\"depth\")\n",
    "observations"
   ]
  },
  {
   "cell_type": "markdown",
   "metadata": {},
   "source": [
    "Select the kind of observation you want to use.\n"
   ]
  },
  {
   "cell_type": "code",
   "execution_count": 8,
   "metadata": {},
   "outputs": [],
   "source": [
    "# observations_selected = observations[[\"day_lowess_0.2\", \"night_lowess_0.2\"]].rename(\n",
    "#     {\"day_lowess_0.2\": \"day\", \"night_lowess_0.2\": \"night\"}\n",
    "# )\n",
    "\n",
    "observations_selected = observations[[\"day\", \"night\"]]"
   ]
  },
  {
   "cell_type": "markdown",
   "metadata": {},
   "source": [
    "Remove the X first months to let the model reach the stationary state.\n"
   ]
  },
  {
   "cell_type": "code",
   "execution_count": 9,
   "metadata": {},
   "outputs": [
    {
     "data": {
      "text/html": [
       "<div><svg style=\"position: absolute; width: 0; height: 0; overflow: hidden\">\n",
       "<defs>\n",
       "<symbol id=\"icon-database\" viewBox=\"0 0 32 32\">\n",
       "<path d=\"M16 0c-8.837 0-16 2.239-16 5v4c0 2.761 7.163 5 16 5s16-2.239 16-5v-4c0-2.761-7.163-5-16-5z\"></path>\n",
       "<path d=\"M16 17c-8.837 0-16-2.239-16-5v6c0 2.761 7.163 5 16 5s16-2.239 16-5v-6c0 2.761-7.163 5-16 5z\"></path>\n",
       "<path d=\"M16 26c-8.837 0-16-2.239-16-5v6c0 2.761 7.163 5 16 5s16-2.239 16-5v-6c0 2.761-7.163 5-16 5z\"></path>\n",
       "</symbol>\n",
       "<symbol id=\"icon-file-text2\" viewBox=\"0 0 32 32\">\n",
       "<path d=\"M28.681 7.159c-0.694-0.947-1.662-2.053-2.724-3.116s-2.169-2.030-3.116-2.724c-1.612-1.182-2.393-1.319-2.841-1.319h-15.5c-1.378 0-2.5 1.121-2.5 2.5v27c0 1.378 1.122 2.5 2.5 2.5h23c1.378 0 2.5-1.122 2.5-2.5v-19.5c0-0.448-0.137-1.23-1.319-2.841zM24.543 5.457c0.959 0.959 1.712 1.825 2.268 2.543h-4.811v-4.811c0.718 0.556 1.584 1.309 2.543 2.268zM28 29.5c0 0.271-0.229 0.5-0.5 0.5h-23c-0.271 0-0.5-0.229-0.5-0.5v-27c0-0.271 0.229-0.5 0.5-0.5 0 0 15.499-0 15.5 0v7c0 0.552 0.448 1 1 1h7v19.5z\"></path>\n",
       "<path d=\"M23 26h-14c-0.552 0-1-0.448-1-1s0.448-1 1-1h14c0.552 0 1 0.448 1 1s-0.448 1-1 1z\"></path>\n",
       "<path d=\"M23 22h-14c-0.552 0-1-0.448-1-1s0.448-1 1-1h14c0.552 0 1 0.448 1 1s-0.448 1-1 1z\"></path>\n",
       "<path d=\"M23 18h-14c-0.552 0-1-0.448-1-1s0.448-1 1-1h14c0.552 0 1 0.448 1 1s-0.448 1-1 1z\"></path>\n",
       "</symbol>\n",
       "</defs>\n",
       "</svg>\n",
       "<style>/* CSS stylesheet for displaying xarray objects in jupyterlab.\n",
       " *\n",
       " */\n",
       "\n",
       ":root {\n",
       "  --xr-font-color0: var(--jp-content-font-color0, rgba(0, 0, 0, 1));\n",
       "  --xr-font-color2: var(--jp-content-font-color2, rgba(0, 0, 0, 0.54));\n",
       "  --xr-font-color3: var(--jp-content-font-color3, rgba(0, 0, 0, 0.38));\n",
       "  --xr-border-color: var(--jp-border-color2, #e0e0e0);\n",
       "  --xr-disabled-color: var(--jp-layout-color3, #bdbdbd);\n",
       "  --xr-background-color: var(--jp-layout-color0, white);\n",
       "  --xr-background-color-row-even: var(--jp-layout-color1, white);\n",
       "  --xr-background-color-row-odd: var(--jp-layout-color2, #eeeeee);\n",
       "}\n",
       "\n",
       "html[theme=\"dark\"],\n",
       "html[data-theme=\"dark\"],\n",
       "body[data-theme=\"dark\"],\n",
       "body.vscode-dark {\n",
       "  --xr-font-color0: rgba(255, 255, 255, 1);\n",
       "  --xr-font-color2: rgba(255, 255, 255, 0.54);\n",
       "  --xr-font-color3: rgba(255, 255, 255, 0.38);\n",
       "  --xr-border-color: #1f1f1f;\n",
       "  --xr-disabled-color: #515151;\n",
       "  --xr-background-color: #111111;\n",
       "  --xr-background-color-row-even: #111111;\n",
       "  --xr-background-color-row-odd: #313131;\n",
       "}\n",
       "\n",
       ".xr-wrap {\n",
       "  display: block !important;\n",
       "  min-width: 300px;\n",
       "  max-width: 700px;\n",
       "}\n",
       "\n",
       ".xr-text-repr-fallback {\n",
       "  /* fallback to plain text repr when CSS is not injected (untrusted notebook) */\n",
       "  display: none;\n",
       "}\n",
       "\n",
       ".xr-header {\n",
       "  padding-top: 6px;\n",
       "  padding-bottom: 6px;\n",
       "  margin-bottom: 4px;\n",
       "  border-bottom: solid 1px var(--xr-border-color);\n",
       "}\n",
       "\n",
       ".xr-header > div,\n",
       ".xr-header > ul {\n",
       "  display: inline;\n",
       "  margin-top: 0;\n",
       "  margin-bottom: 0;\n",
       "}\n",
       "\n",
       ".xr-obj-type,\n",
       ".xr-array-name {\n",
       "  margin-left: 2px;\n",
       "  margin-right: 10px;\n",
       "}\n",
       "\n",
       ".xr-obj-type {\n",
       "  color: var(--xr-font-color2);\n",
       "}\n",
       "\n",
       ".xr-sections {\n",
       "  padding-left: 0 !important;\n",
       "  display: grid;\n",
       "  grid-template-columns: 150px auto auto 1fr 0 20px 0 20px;\n",
       "}\n",
       "\n",
       ".xr-section-item {\n",
       "  display: contents;\n",
       "}\n",
       "\n",
       ".xr-section-item input {\n",
       "  display: inline-block;\n",
       "  opacity: 0;\n",
       "  height: 0;\n",
       "}\n",
       "\n",
       ".xr-section-item input + label {\n",
       "  color: var(--xr-disabled-color);\n",
       "}\n",
       "\n",
       ".xr-section-item input:enabled + label {\n",
       "  cursor: pointer;\n",
       "  color: var(--xr-font-color2);\n",
       "}\n",
       "\n",
       ".xr-section-item input:focus + label {\n",
       "  border: 2px solid var(--xr-font-color0);\n",
       "}\n",
       "\n",
       ".xr-section-item input:enabled + label:hover {\n",
       "  color: var(--xr-font-color0);\n",
       "}\n",
       "\n",
       ".xr-section-summary {\n",
       "  grid-column: 1;\n",
       "  color: var(--xr-font-color2);\n",
       "  font-weight: 500;\n",
       "}\n",
       "\n",
       ".xr-section-summary > span {\n",
       "  display: inline-block;\n",
       "  padding-left: 0.5em;\n",
       "}\n",
       "\n",
       ".xr-section-summary-in:disabled + label {\n",
       "  color: var(--xr-font-color2);\n",
       "}\n",
       "\n",
       ".xr-section-summary-in + label:before {\n",
       "  display: inline-block;\n",
       "  content: \"►\";\n",
       "  font-size: 11px;\n",
       "  width: 15px;\n",
       "  text-align: center;\n",
       "}\n",
       "\n",
       ".xr-section-summary-in:disabled + label:before {\n",
       "  color: var(--xr-disabled-color);\n",
       "}\n",
       "\n",
       ".xr-section-summary-in:checked + label:before {\n",
       "  content: \"▼\";\n",
       "}\n",
       "\n",
       ".xr-section-summary-in:checked + label > span {\n",
       "  display: none;\n",
       "}\n",
       "\n",
       ".xr-section-summary,\n",
       ".xr-section-inline-details {\n",
       "  padding-top: 4px;\n",
       "  padding-bottom: 4px;\n",
       "}\n",
       "\n",
       ".xr-section-inline-details {\n",
       "  grid-column: 2 / -1;\n",
       "}\n",
       "\n",
       ".xr-section-details {\n",
       "  display: none;\n",
       "  grid-column: 1 / -1;\n",
       "  margin-bottom: 5px;\n",
       "}\n",
       "\n",
       ".xr-section-summary-in:checked ~ .xr-section-details {\n",
       "  display: contents;\n",
       "}\n",
       "\n",
       ".xr-array-wrap {\n",
       "  grid-column: 1 / -1;\n",
       "  display: grid;\n",
       "  grid-template-columns: 20px auto;\n",
       "}\n",
       "\n",
       ".xr-array-wrap > label {\n",
       "  grid-column: 1;\n",
       "  vertical-align: top;\n",
       "}\n",
       "\n",
       ".xr-preview {\n",
       "  color: var(--xr-font-color3);\n",
       "}\n",
       "\n",
       ".xr-array-preview,\n",
       ".xr-array-data {\n",
       "  padding: 0 5px !important;\n",
       "  grid-column: 2;\n",
       "}\n",
       "\n",
       ".xr-array-data,\n",
       ".xr-array-in:checked ~ .xr-array-preview {\n",
       "  display: none;\n",
       "}\n",
       "\n",
       ".xr-array-in:checked ~ .xr-array-data,\n",
       ".xr-array-preview {\n",
       "  display: inline-block;\n",
       "}\n",
       "\n",
       ".xr-dim-list {\n",
       "  display: inline-block !important;\n",
       "  list-style: none;\n",
       "  padding: 0 !important;\n",
       "  margin: 0;\n",
       "}\n",
       "\n",
       ".xr-dim-list li {\n",
       "  display: inline-block;\n",
       "  padding: 0;\n",
       "  margin: 0;\n",
       "}\n",
       "\n",
       ".xr-dim-list:before {\n",
       "  content: \"(\";\n",
       "}\n",
       "\n",
       ".xr-dim-list:after {\n",
       "  content: \")\";\n",
       "}\n",
       "\n",
       ".xr-dim-list li:not(:last-child):after {\n",
       "  content: \",\";\n",
       "  padding-right: 5px;\n",
       "}\n",
       "\n",
       ".xr-has-index {\n",
       "  font-weight: bold;\n",
       "}\n",
       "\n",
       ".xr-var-list,\n",
       ".xr-var-item {\n",
       "  display: contents;\n",
       "}\n",
       "\n",
       ".xr-var-item > div,\n",
       ".xr-var-item label,\n",
       ".xr-var-item > .xr-var-name span {\n",
       "  background-color: var(--xr-background-color-row-even);\n",
       "  margin-bottom: 0;\n",
       "}\n",
       "\n",
       ".xr-var-item > .xr-var-name:hover span {\n",
       "  padding-right: 5px;\n",
       "}\n",
       "\n",
       ".xr-var-list > li:nth-child(odd) > div,\n",
       ".xr-var-list > li:nth-child(odd) > label,\n",
       ".xr-var-list > li:nth-child(odd) > .xr-var-name span {\n",
       "  background-color: var(--xr-background-color-row-odd);\n",
       "}\n",
       "\n",
       ".xr-var-name {\n",
       "  grid-column: 1;\n",
       "}\n",
       "\n",
       ".xr-var-dims {\n",
       "  grid-column: 2;\n",
       "}\n",
       "\n",
       ".xr-var-dtype {\n",
       "  grid-column: 3;\n",
       "  text-align: right;\n",
       "  color: var(--xr-font-color2);\n",
       "}\n",
       "\n",
       ".xr-var-preview {\n",
       "  grid-column: 4;\n",
       "}\n",
       "\n",
       ".xr-index-preview {\n",
       "  grid-column: 2 / 5;\n",
       "  color: var(--xr-font-color2);\n",
       "}\n",
       "\n",
       ".xr-var-name,\n",
       ".xr-var-dims,\n",
       ".xr-var-dtype,\n",
       ".xr-preview,\n",
       ".xr-attrs dt {\n",
       "  white-space: nowrap;\n",
       "  overflow: hidden;\n",
       "  text-overflow: ellipsis;\n",
       "  padding-right: 10px;\n",
       "}\n",
       "\n",
       ".xr-var-name:hover,\n",
       ".xr-var-dims:hover,\n",
       ".xr-var-dtype:hover,\n",
       ".xr-attrs dt:hover {\n",
       "  overflow: visible;\n",
       "  width: auto;\n",
       "  z-index: 1;\n",
       "}\n",
       "\n",
       ".xr-var-attrs,\n",
       ".xr-var-data,\n",
       ".xr-index-data {\n",
       "  display: none;\n",
       "  background-color: var(--xr-background-color) !important;\n",
       "  padding-bottom: 5px !important;\n",
       "}\n",
       "\n",
       ".xr-var-attrs-in:checked ~ .xr-var-attrs,\n",
       ".xr-var-data-in:checked ~ .xr-var-data,\n",
       ".xr-index-data-in:checked ~ .xr-index-data {\n",
       "  display: block;\n",
       "}\n",
       "\n",
       ".xr-var-data > table {\n",
       "  float: right;\n",
       "}\n",
       "\n",
       ".xr-var-name span,\n",
       ".xr-var-data,\n",
       ".xr-index-name div,\n",
       ".xr-index-data,\n",
       ".xr-attrs {\n",
       "  padding-left: 25px !important;\n",
       "}\n",
       "\n",
       ".xr-attrs,\n",
       ".xr-var-attrs,\n",
       ".xr-var-data,\n",
       ".xr-index-data {\n",
       "  grid-column: 1 / -1;\n",
       "}\n",
       "\n",
       "dl.xr-attrs {\n",
       "  padding: 0;\n",
       "  margin: 0;\n",
       "  display: grid;\n",
       "  grid-template-columns: 125px auto;\n",
       "}\n",
       "\n",
       ".xr-attrs dt,\n",
       ".xr-attrs dd {\n",
       "  padding: 0;\n",
       "  margin: 0;\n",
       "  float: left;\n",
       "  padding-right: 10px;\n",
       "  width: auto;\n",
       "}\n",
       "\n",
       ".xr-attrs dt {\n",
       "  font-weight: normal;\n",
       "  grid-column: 1;\n",
       "}\n",
       "\n",
       ".xr-attrs dt:hover span {\n",
       "  display: inline-block;\n",
       "  background: var(--xr-background-color);\n",
       "  padding-right: 10px;\n",
       "}\n",
       "\n",
       ".xr-attrs dd {\n",
       "  grid-column: 2;\n",
       "  white-space: pre-wrap;\n",
       "  word-break: break-all;\n",
       "}\n",
       "\n",
       ".xr-icon-database,\n",
       ".xr-icon-file-text2,\n",
       ".xr-no-icon {\n",
       "  display: inline-block;\n",
       "  vertical-align: middle;\n",
       "  width: 1em;\n",
       "  height: 1.5em !important;\n",
       "  stroke-width: 0;\n",
       "  stroke: currentColor;\n",
       "  fill: currentColor;\n",
       "}\n",
       "</style><pre class='xr-text-repr-fallback'>&lt;xarray.Dataset&gt; Size: 1kB\n",
       "Dimensions:    (time: 54, layer: 1, latitude: 1, longitude: 1)\n",
       "Coordinates: (4)\n",
       "Data variables: (2)</pre><div class='xr-wrap' style='display:none'><div class='xr-header'><div class='xr-obj-type'>xarray.Dataset</div></div><ul class='xr-sections'><li class='xr-section-item'><input id='section-e855b140-ba4e-4f44-a4d5-d9f938ec26fb' class='xr-section-summary-in' type='checkbox' disabled ><label for='section-e855b140-ba4e-4f44-a4d5-d9f938ec26fb' class='xr-section-summary'  title='Expand/collapse section'>Dimensions:</label><div class='xr-section-inline-details'><ul class='xr-dim-list'><li><span class='xr-has-index'>time</span>: 54</li><li><span class='xr-has-index'>layer</span>: 1</li><li><span class='xr-has-index'>latitude</span>: 1</li><li><span class='xr-has-index'>longitude</span>: 1</li></ul></div><div class='xr-section-details'></div></li><li class='xr-section-item'><input id='section-512badcf-28bf-4c36-9b14-ea8c425c9635' class='xr-section-summary-in' type='checkbox'  ><label for='section-512badcf-28bf-4c36-9b14-ea8c425c9635' class='xr-section-summary' >Coordinates: <span>(4)</span></label><div class='xr-section-inline-details'></div><div class='xr-section-details'><ul class='xr-var-list'><li class='xr-var-item'><div class='xr-var-name'><span class='xr-has-index'>layer</span></div><div class='xr-var-dims'>(layer)</div><div class='xr-var-dtype'>int64</div><div class='xr-var-preview xr-preview'>0</div><input id='attrs-3a1cc611-cee4-4ce7-b48b-81d8eb2f9236' class='xr-var-attrs-in' type='checkbox' ><label for='attrs-3a1cc611-cee4-4ce7-b48b-81d8eb2f9236' title='Show/Hide attributes'><svg class='icon xr-icon-file-text2'><use xlink:href='#icon-file-text2'></use></svg></label><input id='data-8219fa13-32ec-41ba-ae17-b0ffb0842de1' class='xr-var-data-in' type='checkbox'><label for='data-8219fa13-32ec-41ba-ae17-b0ffb0842de1' title='Show/Hide data repr'><svg class='icon xr-icon-database'><use xlink:href='#icon-database'></use></svg></label><div class='xr-var-attrs'><dl class='xr-attrs'><dt><span>axis :</span></dt><dd>Z</dd><dt><span>desc :</span></dt><dd>The layer depth according to Seapodym definition</dd><dt><span>flag_meanings :</span></dt><dd>epipelagic, upper-mesopelagic, lower-mesopelagic</dd><dt><span>flag_values :</span></dt><dd>[0, 1, 2]</dd><dt><span>long_name :</span></dt><dd>Layer depth</dd><dt><span>standard_name :</span></dt><dd>layer</dd></dl></div><div class='xr-var-data'><pre>array([0])</pre></div></li><li class='xr-var-item'><div class='xr-var-name'><span class='xr-has-index'>time</span></div><div class='xr-var-dims'>(time)</div><div class='xr-var-dtype'>datetime64[ns]</div><div class='xr-var-preview xr-preview'>2005-06-30 ... 2009-11-30</div><input id='attrs-da56d6a8-e77e-488c-8452-4f935bcf45e9' class='xr-var-attrs-in' type='checkbox' ><label for='attrs-da56d6a8-e77e-488c-8452-4f935bcf45e9' title='Show/Hide attributes'><svg class='icon xr-icon-file-text2'><use xlink:href='#icon-file-text2'></use></svg></label><input id='data-c013d312-a987-4513-9cd3-331770c54e15' class='xr-var-data-in' type='checkbox'><label for='data-c013d312-a987-4513-9cd3-331770c54e15' title='Show/Hide data repr'><svg class='icon xr-icon-database'><use xlink:href='#icon-database'></use></svg></label><div class='xr-var-attrs'><dl class='xr-attrs'><dt><span>axis :</span></dt><dd>T</dd><dt><span>long_name :</span></dt><dd>time</dd><dt><span>standard_name :</span></dt><dd>time</dd></dl></div><div class='xr-var-data'><pre>array([&#x27;2005-06-30T00:00:00.000000000&#x27;, &#x27;2005-07-31T00:00:00.000000000&#x27;,\n",
       "       &#x27;2005-08-31T00:00:00.000000000&#x27;, &#x27;2005-09-30T00:00:00.000000000&#x27;,\n",
       "       &#x27;2005-10-31T00:00:00.000000000&#x27;, &#x27;2005-11-30T00:00:00.000000000&#x27;,\n",
       "       &#x27;2005-12-31T00:00:00.000000000&#x27;, &#x27;2006-01-31T00:00:00.000000000&#x27;,\n",
       "       &#x27;2006-02-28T00:00:00.000000000&#x27;, &#x27;2006-03-31T00:00:00.000000000&#x27;,\n",
       "       &#x27;2006-04-30T00:00:00.000000000&#x27;, &#x27;2006-05-31T00:00:00.000000000&#x27;,\n",
       "       &#x27;2006-06-30T00:00:00.000000000&#x27;, &#x27;2006-07-31T00:00:00.000000000&#x27;,\n",
       "       &#x27;2006-08-31T00:00:00.000000000&#x27;, &#x27;2006-09-30T00:00:00.000000000&#x27;,\n",
       "       &#x27;2006-10-31T00:00:00.000000000&#x27;, &#x27;2006-11-30T00:00:00.000000000&#x27;,\n",
       "       &#x27;2006-12-31T00:00:00.000000000&#x27;, &#x27;2007-01-31T00:00:00.000000000&#x27;,\n",
       "       &#x27;2007-02-28T00:00:00.000000000&#x27;, &#x27;2007-03-31T00:00:00.000000000&#x27;,\n",
       "       &#x27;2007-04-30T00:00:00.000000000&#x27;, &#x27;2007-05-31T00:00:00.000000000&#x27;,\n",
       "       &#x27;2007-06-30T00:00:00.000000000&#x27;, &#x27;2007-07-31T00:00:00.000000000&#x27;,\n",
       "       &#x27;2007-08-31T00:00:00.000000000&#x27;, &#x27;2007-09-30T00:00:00.000000000&#x27;,\n",
       "       &#x27;2007-10-31T00:00:00.000000000&#x27;, &#x27;2007-11-30T00:00:00.000000000&#x27;,\n",
       "       &#x27;2007-12-31T00:00:00.000000000&#x27;, &#x27;2008-01-31T00:00:00.000000000&#x27;,\n",
       "       &#x27;2008-02-29T00:00:00.000000000&#x27;, &#x27;2008-03-31T00:00:00.000000000&#x27;,\n",
       "       &#x27;2008-04-30T00:00:00.000000000&#x27;, &#x27;2008-05-31T00:00:00.000000000&#x27;,\n",
       "       &#x27;2008-06-30T00:00:00.000000000&#x27;, &#x27;2008-07-31T00:00:00.000000000&#x27;,\n",
       "       &#x27;2008-08-31T00:00:00.000000000&#x27;, &#x27;2008-09-30T00:00:00.000000000&#x27;,\n",
       "       &#x27;2008-10-31T00:00:00.000000000&#x27;, &#x27;2008-11-30T00:00:00.000000000&#x27;,\n",
       "       &#x27;2008-12-31T00:00:00.000000000&#x27;, &#x27;2009-01-31T00:00:00.000000000&#x27;,\n",
       "       &#x27;2009-02-28T00:00:00.000000000&#x27;, &#x27;2009-03-31T00:00:00.000000000&#x27;,\n",
       "       &#x27;2009-04-30T00:00:00.000000000&#x27;, &#x27;2009-05-31T00:00:00.000000000&#x27;,\n",
       "       &#x27;2009-06-30T00:00:00.000000000&#x27;, &#x27;2009-07-31T00:00:00.000000000&#x27;,\n",
       "       &#x27;2009-08-31T00:00:00.000000000&#x27;, &#x27;2009-09-30T00:00:00.000000000&#x27;,\n",
       "       &#x27;2009-10-31T00:00:00.000000000&#x27;, &#x27;2009-11-30T00:00:00.000000000&#x27;],\n",
       "      dtype=&#x27;datetime64[ns]&#x27;)</pre></div></li><li class='xr-var-item'><div class='xr-var-name'><span class='xr-has-index'>latitude</span></div><div class='xr-var-dims'>(latitude)</div><div class='xr-var-dtype'>float64</div><div class='xr-var-preview xr-preview'>22.75</div><input id='attrs-be723a87-e470-4d47-8e5d-481e7c130559' class='xr-var-attrs-in' type='checkbox' ><label for='attrs-be723a87-e470-4d47-8e5d-481e7c130559' title='Show/Hide attributes'><svg class='icon xr-icon-file-text2'><use xlink:href='#icon-file-text2'></use></svg></label><input id='data-69f99c07-7e6f-4d1c-a421-a25829b68031' class='xr-var-data-in' type='checkbox'><label for='data-69f99c07-7e6f-4d1c-a421-a25829b68031' title='Show/Hide data repr'><svg class='icon xr-icon-database'><use xlink:href='#icon-database'></use></svg></label><div class='xr-var-attrs'><dl class='xr-attrs'><dt><span>axis :</span></dt><dd>Y</dd><dt><span>standard_name :</span></dt><dd>latitude</dd><dt><span>units :</span></dt><dd>degrees_north</dd></dl></div><div class='xr-var-data'><pre>array([22.75])</pre></div></li><li class='xr-var-item'><div class='xr-var-name'><span class='xr-has-index'>longitude</span></div><div class='xr-var-dims'>(longitude)</div><div class='xr-var-dtype'>int64</div><div class='xr-var-preview xr-preview'>-158</div><input id='attrs-eb9b2542-12b2-4bcb-b796-115a577b9825' class='xr-var-attrs-in' type='checkbox' ><label for='attrs-eb9b2542-12b2-4bcb-b796-115a577b9825' title='Show/Hide attributes'><svg class='icon xr-icon-file-text2'><use xlink:href='#icon-file-text2'></use></svg></label><input id='data-2468f1ae-559f-48fd-a01b-12ae81c55b01' class='xr-var-data-in' type='checkbox'><label for='data-2468f1ae-559f-48fd-a01b-12ae81c55b01' title='Show/Hide data repr'><svg class='icon xr-icon-database'><use xlink:href='#icon-database'></use></svg></label><div class='xr-var-attrs'><dl class='xr-attrs'><dt><span>axis :</span></dt><dd>X</dd><dt><span>standard_name :</span></dt><dd>longitude</dd><dt><span>units :</span></dt><dd>degrees_east</dd></dl></div><div class='xr-var-data'><pre>array([-158])</pre></div></li></ul></div></li><li class='xr-section-item'><input id='section-bad4de89-769e-4fcd-8b5e-870ec8c64f8d' class='xr-section-summary-in' type='checkbox'  ><label for='section-bad4de89-769e-4fcd-8b5e-870ec8c64f8d' class='xr-section-summary' >Data variables: <span>(2)</span></label><div class='xr-section-inline-details'></div><div class='xr-section-details'><ul class='xr-var-list'><li class='xr-var-item'><div class='xr-var-name'><span>day</span></div><div class='xr-var-dims'>(time, layer, latitude, longitude)</div><div class='xr-var-dtype'>float64</div><div class='xr-var-preview xr-preview'>[mg/m²] 282.2 287.0 ... 248.0 199.5</div><input id='attrs-be713398-1fbc-4c09-809a-bfd5cc72a5ac' class='xr-var-attrs-in' type='checkbox' disabled><label for='attrs-be713398-1fbc-4c09-809a-bfd5cc72a5ac' title='Show/Hide attributes'><svg class='icon xr-icon-file-text2'><use xlink:href='#icon-file-text2'></use></svg></label><input id='data-4c41fbcd-29ce-4f4a-9d54-bc3cca383c24' class='xr-var-data-in' type='checkbox'><label for='data-4c41fbcd-29ce-4f4a-9d54-bc3cca383c24' title='Show/Hide data repr'><svg class='icon xr-icon-database'><use xlink:href='#icon-database'></use></svg></label><div class='xr-var-attrs'><dl class='xr-attrs'></dl></div><div class='xr-var-data'><table><tbody><tr><th>Magnitude</th><td style='text-align:left;'><pre>[[[[282.22919058899055]]]<br><br><br> [[[286.98619921530604]]]<br><br><br> [[[311.5459297539875]]]<br><br><br> [[[303.8242714951801]]]<br><br><br> [[[248.03965495807626]]]<br><br><br> [[[199.45355494862133]]]<br><br><br> [[[173.55167845591396]]]<br><br><br> [[[161.18085076616643]]]<br><br><br> [[[180.11886858075593]]]<br><br><br> [[[206.9568833881889]]]<br><br><br> [[[257.0734350236469]]]<br><br><br> [[[275.23242516474]]]<br><br><br> [[[282.22919058899055]]]<br><br><br> [[[286.98619921530604]]]<br><br><br> [[[311.5459297539875]]]<br><br><br> [[[303.8242714951801]]]<br><br><br> [[[248.03965495807626]]]<br><br><br> [[[199.45355494862133]]]<br><br><br> [[[173.55167845591396]]]<br><br><br> [[[161.18085076616643]]]<br><br><br> [[[180.11886858075593]]]<br><br><br> [[[206.9568833881889]]]<br><br><br> [[[257.0734350236469]]]<br><br><br> [[[275.23242516474]]]<br><br><br> [[[282.22919058899055]]]<br><br><br> [[[286.98619921530604]]]<br><br><br> [[[311.5459297539875]]]<br><br><br> [[[303.8242714951801]]]<br><br><br> [[[248.03965495807626]]]<br><br><br> [[[199.45355494862133]]]<br><br><br> [[[173.55167845591396]]]<br><br><br> [[[161.18085076616643]]]<br><br><br> [[[179.1993152851171]]]<br><br><br> [[[207.78348092804256]]]<br><br><br> [[[256.97140808136334]]]<br><br><br> [[[276.73713373591653]]]<br><br><br> [[[286.8754053335449]]]<br><br><br> [[[289.4875232614997]]]<br><br><br> [[[315.3292764814672]]]<br><br><br> [[[297.1327451472592]]]<br><br><br> [[[252.05575513504192]]]<br><br><br> [[[201.0579558457]]]<br><br><br> [[[167.88955162294909]]]<br><br><br> [[[161.18085076616643]]]<br><br><br> [[[180.11886858075593]]]<br><br><br> [[[206.9568833881889]]]<br><br><br> [[[257.0734350236469]]]<br><br><br> [[[275.23242516474]]]<br><br><br> [[[282.22919058899055]]]<br><br><br> [[[286.98619921530604]]]<br><br><br> [[[311.5459297539875]]]<br><br><br> [[[303.8242714951801]]]<br><br><br> [[[248.03965495807626]]]<br><br><br> [[[199.45355494862133]]]]</pre></td></tr><tr><th>Units</th><td style='text-align:left;'>milligram/meter<sup>2</sup></td></tr></tbody></table></div></li><li class='xr-var-item'><div class='xr-var-name'><span>night</span></div><div class='xr-var-dims'>(time, layer, latitude, longitude)</div><div class='xr-var-dtype'>float64</div><div class='xr-var-preview xr-preview'>[mg/m²] 421.9 446.5 ... 397.5 351.8</div><input id='attrs-cbb4bab3-99ac-4238-8151-5c636015868e' class='xr-var-attrs-in' type='checkbox' disabled><label for='attrs-cbb4bab3-99ac-4238-8151-5c636015868e' title='Show/Hide attributes'><svg class='icon xr-icon-file-text2'><use xlink:href='#icon-file-text2'></use></svg></label><input id='data-87caef51-f5a0-4dcd-abb4-78d53934e3e0' class='xr-var-data-in' type='checkbox'><label for='data-87caef51-f5a0-4dcd-abb4-78d53934e3e0' title='Show/Hide data repr'><svg class='icon xr-icon-database'><use xlink:href='#icon-database'></use></svg></label><div class='xr-var-attrs'><dl class='xr-attrs'></dl></div><div class='xr-var-data'><table><tbody><tr><th>Magnitude</th><td style='text-align:left;'><pre>[[[[421.89365674709336]]]<br><br><br> [[[446.4529220074815]]]<br><br><br> [[[446.9570956014589]]]<br><br><br> [[[420.36154798665865]]]<br><br><br> [[[397.4942208367208]]]<br><br><br> [[[351.7616224091976]]]<br><br><br> [[[294.6494292157888]]]<br><br><br> [[[258.03481873118506]]]<br><br><br> [[[312.0971899578935]]]<br><br><br> [[[337.83226845879244]]]<br><br><br> [[[417.2221469934213]]]<br><br><br> [[[413.983132804948]]]<br><br><br> [[[421.89365674709336]]]<br><br><br> [[[446.4529220074815]]]<br><br><br> [[[446.9570956014589]]]<br><br><br> [[[420.36154798665865]]]<br><br><br> [[[397.4942208367208]]]<br><br><br> [[[351.7616224091976]]]<br><br><br> [[[294.6494292157888]]]<br><br><br> [[[258.03481873118506]]]<br><br><br> [[[312.0971899578935]]]<br><br><br> [[[337.83226845879244]]]<br><br><br> [[[417.2221469934213]]]<br><br><br> [[[413.983132804948]]]<br><br><br> [[[421.89365674709336]]]<br><br><br> [[[446.4529220074815]]]<br><br><br> [[[446.9570956014589]]]<br><br><br> [[[420.36154798665865]]]<br><br><br> [[[397.4942208367208]]]<br><br><br> [[[351.7616224091976]]]<br><br><br> [[[294.6494292157888]]]<br><br><br> [[[258.03481873118506]]]<br><br><br> [[[310.5038532805829]]]<br><br><br> [[[339.1815897155657]]]<br><br><br> [[[417.05656045622504]]]<br><br><br> [[[416.24639799937876]]]<br><br><br> [[[428.83910602723876]]]<br><br><br> [[[450.3441315233542]]]<br><br><br> [[[452.38484638704267]]]<br><br><br> [[[411.10336607721837]]]<br><br><br> [[[403.9301941931383]]]<br><br><br> [[[354.5911867290542]]]<br><br><br> [[[285.0364859453825]]]<br><br><br> [[[258.03481873118506]]]<br><br><br> [[[312.0971899578935]]]<br><br><br> [[[337.83226845879244]]]<br><br><br> [[[417.2221469934213]]]<br><br><br> [[[413.983132804948]]]<br><br><br> [[[421.89365674709336]]]<br><br><br> [[[446.4529220074815]]]<br><br><br> [[[446.9570956014589]]]<br><br><br> [[[420.36154798665865]]]<br><br><br> [[[397.4942208367208]]]<br><br><br> [[[351.7616224091976]]]]</pre></td></tr><tr><th>Units</th><td style='text-align:left;'>milligram/meter<sup>2</sup></td></tr></tbody></table></div></li></ul></div></li><li class='xr-section-item'><input id='section-0d119cd3-8a5c-491a-baed-c293119b094d' class='xr-section-summary-in' type='checkbox'  ><label for='section-0d119cd3-8a5c-491a-baed-c293119b094d' class='xr-section-summary' >Indexes: <span>(4)</span></label><div class='xr-section-inline-details'></div><div class='xr-section-details'><ul class='xr-var-list'><li class='xr-var-item'><div class='xr-index-name'><div>layer</div></div><div class='xr-index-preview'>PandasIndex</div><input type='checkbox' disabled/><label></label><input id='index-1cf3f26f-c28a-4fc0-8078-c80e18c7a831' class='xr-index-data-in' type='checkbox'/><label for='index-1cf3f26f-c28a-4fc0-8078-c80e18c7a831' title='Show/Hide index repr'><svg class='icon xr-icon-database'><use xlink:href='#icon-database'></use></svg></label><div class='xr-index-data'><pre>PandasIndex(Index([0], dtype=&#x27;int64&#x27;, name=&#x27;layer&#x27;))</pre></div></li><li class='xr-var-item'><div class='xr-index-name'><div>time</div></div><div class='xr-index-preview'>PandasIndex</div><input type='checkbox' disabled/><label></label><input id='index-09cde3d4-af73-41e4-b43f-4864b03fd0cc' class='xr-index-data-in' type='checkbox'/><label for='index-09cde3d4-af73-41e4-b43f-4864b03fd0cc' title='Show/Hide index repr'><svg class='icon xr-icon-database'><use xlink:href='#icon-database'></use></svg></label><div class='xr-index-data'><pre>PandasIndex(DatetimeIndex([&#x27;2005-06-30&#x27;, &#x27;2005-07-31&#x27;, &#x27;2005-08-31&#x27;, &#x27;2005-09-30&#x27;,\n",
       "               &#x27;2005-10-31&#x27;, &#x27;2005-11-30&#x27;, &#x27;2005-12-31&#x27;, &#x27;2006-01-31&#x27;,\n",
       "               &#x27;2006-02-28&#x27;, &#x27;2006-03-31&#x27;, &#x27;2006-04-30&#x27;, &#x27;2006-05-31&#x27;,\n",
       "               &#x27;2006-06-30&#x27;, &#x27;2006-07-31&#x27;, &#x27;2006-08-31&#x27;, &#x27;2006-09-30&#x27;,\n",
       "               &#x27;2006-10-31&#x27;, &#x27;2006-11-30&#x27;, &#x27;2006-12-31&#x27;, &#x27;2007-01-31&#x27;,\n",
       "               &#x27;2007-02-28&#x27;, &#x27;2007-03-31&#x27;, &#x27;2007-04-30&#x27;, &#x27;2007-05-31&#x27;,\n",
       "               &#x27;2007-06-30&#x27;, &#x27;2007-07-31&#x27;, &#x27;2007-08-31&#x27;, &#x27;2007-09-30&#x27;,\n",
       "               &#x27;2007-10-31&#x27;, &#x27;2007-11-30&#x27;, &#x27;2007-12-31&#x27;, &#x27;2008-01-31&#x27;,\n",
       "               &#x27;2008-02-29&#x27;, &#x27;2008-03-31&#x27;, &#x27;2008-04-30&#x27;, &#x27;2008-05-31&#x27;,\n",
       "               &#x27;2008-06-30&#x27;, &#x27;2008-07-31&#x27;, &#x27;2008-08-31&#x27;, &#x27;2008-09-30&#x27;,\n",
       "               &#x27;2008-10-31&#x27;, &#x27;2008-11-30&#x27;, &#x27;2008-12-31&#x27;, &#x27;2009-01-31&#x27;,\n",
       "               &#x27;2009-02-28&#x27;, &#x27;2009-03-31&#x27;, &#x27;2009-04-30&#x27;, &#x27;2009-05-31&#x27;,\n",
       "               &#x27;2009-06-30&#x27;, &#x27;2009-07-31&#x27;, &#x27;2009-08-31&#x27;, &#x27;2009-09-30&#x27;,\n",
       "               &#x27;2009-10-31&#x27;, &#x27;2009-11-30&#x27;],\n",
       "              dtype=&#x27;datetime64[ns]&#x27;, name=&#x27;time&#x27;, freq=&#x27;ME&#x27;))</pre></div></li><li class='xr-var-item'><div class='xr-index-name'><div>latitude</div></div><div class='xr-index-preview'>PandasIndex</div><input type='checkbox' disabled/><label></label><input id='index-ddebe197-c6a9-47ad-a59f-5d5be1b0581e' class='xr-index-data-in' type='checkbox'/><label for='index-ddebe197-c6a9-47ad-a59f-5d5be1b0581e' title='Show/Hide index repr'><svg class='icon xr-icon-database'><use xlink:href='#icon-database'></use></svg></label><div class='xr-index-data'><pre>PandasIndex(Index([22.75], dtype=&#x27;float64&#x27;, name=&#x27;latitude&#x27;))</pre></div></li><li class='xr-var-item'><div class='xr-index-name'><div>longitude</div></div><div class='xr-index-preview'>PandasIndex</div><input type='checkbox' disabled/><label></label><input id='index-3a77ff85-a667-4f0f-9b1b-787f1a13f85e' class='xr-index-data-in' type='checkbox'/><label for='index-3a77ff85-a667-4f0f-9b1b-787f1a13f85e' title='Show/Hide index repr'><svg class='icon xr-icon-database'><use xlink:href='#icon-database'></use></svg></label><div class='xr-index-data'><pre>PandasIndex(Index([-158], dtype=&#x27;int64&#x27;, name=&#x27;longitude&#x27;))</pre></div></li></ul></div></li><li class='xr-section-item'><input id='section-58e1f489-616b-4ff9-a550-3f67b7ffbe1e' class='xr-section-summary-in' type='checkbox' disabled ><label for='section-58e1f489-616b-4ff9-a550-3f67b7ffbe1e' class='xr-section-summary'  title='Expand/collapse section'>Attributes: <span>(0)</span></label><div class='xr-section-inline-details'></div><div class='xr-section-details'><dl class='xr-attrs'></dl></div></li></ul></div></div>"
      ],
      "text/plain": [
       "<xarray.Dataset> Size: 1kB\n",
       "Dimensions:    (time: 54, layer: 1, latitude: 1, longitude: 1)\n",
       "Coordinates: (4)\n",
       "Data variables: (2)"
      ]
     },
     "execution_count": 9,
     "metadata": {},
     "output_type": "execute_result"
    }
   ],
   "source": [
    "observations_selected_without_init = observations_selected.isel(time=slice(STABILIZATION_TIME, None))\n",
    "observations_selected_without_init"
   ]
  },
  {
   "cell_type": "markdown",
   "metadata": {},
   "source": [
    "Create structure for SeapoPym simulation.\n"
   ]
  },
  {
   "cell_type": "code",
   "execution_count": 10,
   "metadata": {},
   "outputs": [
    {
     "name": "stderr",
     "output_type": "stream",
     "text": [
      "\u001b[38;5;226m2025-01-31 11:36:02,331 :: Seapodym ::  WARNING ::\n",
      "|\tl12 unit is milligram / day / meter ** 2, it will be converted to kilogram / day / meter ** 2.\n",
      "\u001b[0m\n"
     ]
    }
   ],
   "source": [
    "forcing_parameters = ForcingParameters(\n",
    "    temperature=ForcingUnit(forcing=forcing[\"T\"], resolution=1 / 12, timestep=1),\n",
    "    primary_production=ForcingUnit(forcing=observed_npp[\"l12\"], resolution=1 / 12, timestep=1),\n",
    ")"
   ]
  },
  {
   "cell_type": "markdown",
   "metadata": {},
   "source": [
    "## Setup the parameters and the cost function\n"
   ]
  },
  {
   "cell_type": "code",
   "execution_count": 11,
   "metadata": {},
   "outputs": [],
   "source": [
    "functional_groups = [\n",
    "    FunctionalGroupOptimizeNoTransport(\n",
    "        name=\"D1N1\",\n",
    "        day_layer=0,\n",
    "        night_layer=0,\n",
    "        energy_coefficient=Parameter(\"D1N1_energy_coefficient\", 0.001, 0.4),\n",
    "        tr_rate=Parameter(\"D1N1_tr_rate\", -0.3, -0.001),\n",
    "        tr_max=Parameter(\"D1N1_tr_max\", 0, 50),\n",
    "        inv_lambda_rate=Parameter(\"D1N1_inv_lambda_rate\", -0.3, -0.001),\n",
    "        inv_lambda_max=Parameter(\"D1N1_inv_lambda_max\", 0, 500),\n",
    "    ),\n",
    "    FunctionalGroupOptimizeNoTransport(\n",
    "        name=\"D2N1\",\n",
    "        day_layer=1,\n",
    "        night_layer=0,\n",
    "        energy_coefficient=Parameter(\"D2N1_energy_coefficient\", 0.001, 0.4),\n",
    "        tr_rate=Parameter(\"D2N1_tr_rate\", -0.3, -0.001),\n",
    "        tr_max=Parameter(\"D2N1_tr_max\", 0, 50),\n",
    "        inv_lambda_rate=Parameter(\"D2N1_inv_lambda_rate\", -0.3, -0.001),\n",
    "        inv_lambda_max=Parameter(\"D2N1_inv_lambda_max\", 0, 500),\n",
    "    ),\n",
    "]"
   ]
  },
  {
   "cell_type": "code",
   "execution_count": 12,
   "metadata": {},
   "outputs": [],
   "source": [
    "cost_function = NoTransportCostFunction(\n",
    "    functional_groups=functional_groups,\n",
    "    forcing_parameters=forcing_parameters,\n",
    "    observations=[Observation(observations_selected_without_init)],\n",
    ")"
   ]
  },
  {
   "cell_type": "markdown",
   "metadata": {},
   "source": [
    "Set the genetic algorithm meta parameters.\n"
   ]
  },
  {
   "cell_type": "code",
   "execution_count": 13,
   "metadata": {},
   "outputs": [],
   "source": [
    "genetic_algo_parameters = GeneticAlgorithmParameters(\n",
    "    MUTPB=0.15,\n",
    "    INDPB=0.1,\n",
    "    ETA=5,\n",
    "    CXPB=0.7,\n",
    "    NGEN=5,\n",
    "    POP_SIZE=10,\n",
    "    cost_function_weight=(-1,),\n",
    ")"
   ]
  },
  {
   "cell_type": "markdown",
   "metadata": {},
   "source": [
    "Add a constraint to limit the total of energy transfert coefficient to 100%.\n"
   ]
  },
  {
   "cell_type": "code",
   "execution_count": 14,
   "metadata": {},
   "outputs": [],
   "source": [
    "constraint_energy = constraint.ConstraintNoTransportEnergyCoefficient(\n",
    "    parameters_name=[\"D1N1_energy_coefficient\", \"D2N1_energy_coefficient\"],\n",
    "    min_energy_coef_value=0,\n",
    "    max_energy_coef_value=1,\n",
    ")"
   ]
  },
  {
   "cell_type": "markdown",
   "metadata": {},
   "source": [
    "Finaly, create the Genetic Algorithm.\n"
   ]
  },
  {
   "cell_type": "code",
   "execution_count": 15,
   "metadata": {},
   "outputs": [],
   "source": [
    "client = Client()\n",
    "genetic_algo = GeneticAlgorithm(\n",
    "    cost_function=cost_function,\n",
    "    parameter_genetic_algorithm=genetic_algo_parameters,\n",
    "    constraint=[constraint_energy],\n",
    "    client=client,\n",
    ")"
   ]
  },
  {
   "cell_type": "markdown",
   "metadata": {},
   "source": [
    "And watch the magic on the Dask dashboard :\n"
   ]
  },
  {
   "cell_type": "code",
   "execution_count": 16,
   "metadata": {},
   "outputs": [
    {
     "data": {
      "text/html": [
       "<div>\n",
       "    <div style=\"width: 24px; height: 24px; background-color: #e1e1e1; border: 3px solid #9D9D9D; border-radius: 5px; position: absolute;\"> </div>\n",
       "    <div style=\"margin-left: 48px;\">\n",
       "        <h3 style=\"margin-bottom: 0px;\">Client</h3>\n",
       "        <p style=\"color: #9D9D9D; margin-bottom: 0px;\">Client-2b0cf164-dfbf-11ef-9d4c-36240d3e2cc4</p>\n",
       "        <table style=\"width: 100%; text-align: left;\">\n",
       "\n",
       "        <tr>\n",
       "        \n",
       "            <td style=\"text-align: left;\"><strong>Connection method:</strong> Cluster object</td>\n",
       "            <td style=\"text-align: left;\"><strong>Cluster type:</strong> distributed.LocalCluster</td>\n",
       "        \n",
       "        </tr>\n",
       "\n",
       "        \n",
       "            <tr>\n",
       "                <td style=\"text-align: left;\">\n",
       "                    <strong>Dashboard: </strong> <a href=\"http://127.0.0.1:8787/status\" target=\"_blank\">http://127.0.0.1:8787/status</a>\n",
       "                </td>\n",
       "                <td style=\"text-align: left;\"></td>\n",
       "            </tr>\n",
       "        \n",
       "\n",
       "        </table>\n",
       "\n",
       "        \n",
       "\n",
       "        \n",
       "            <details>\n",
       "            <summary style=\"margin-bottom: 20px;\"><h3 style=\"display: inline;\">Cluster Info</h3></summary>\n",
       "            <div class=\"jp-RenderedHTMLCommon jp-RenderedHTML jp-mod-trusted jp-OutputArea-output\">\n",
       "    <div style=\"width: 24px; height: 24px; background-color: #e1e1e1; border: 3px solid #9D9D9D; border-radius: 5px; position: absolute;\">\n",
       "    </div>\n",
       "    <div style=\"margin-left: 48px;\">\n",
       "        <h3 style=\"margin-bottom: 0px; margin-top: 0px;\">LocalCluster</h3>\n",
       "        <p style=\"color: #9D9D9D; margin-bottom: 0px;\">3e557466</p>\n",
       "        <table style=\"width: 100%; text-align: left;\">\n",
       "            <tr>\n",
       "                <td style=\"text-align: left;\">\n",
       "                    <strong>Dashboard:</strong> <a href=\"http://127.0.0.1:8787/status\" target=\"_blank\">http://127.0.0.1:8787/status</a>\n",
       "                </td>\n",
       "                <td style=\"text-align: left;\">\n",
       "                    <strong>Workers:</strong> 4\n",
       "                </td>\n",
       "            </tr>\n",
       "            <tr>\n",
       "                <td style=\"text-align: left;\">\n",
       "                    <strong>Total threads:</strong> 12\n",
       "                </td>\n",
       "                <td style=\"text-align: left;\">\n",
       "                    <strong>Total memory:</strong> 48.00 GiB\n",
       "                </td>\n",
       "            </tr>\n",
       "            \n",
       "            <tr>\n",
       "    <td style=\"text-align: left;\"><strong>Status:</strong> running</td>\n",
       "    <td style=\"text-align: left;\"><strong>Using processes:</strong> True</td>\n",
       "</tr>\n",
       "\n",
       "            \n",
       "        </table>\n",
       "\n",
       "        <details>\n",
       "            <summary style=\"margin-bottom: 20px;\">\n",
       "                <h3 style=\"display: inline;\">Scheduler Info</h3>\n",
       "            </summary>\n",
       "\n",
       "            <div style=\"\">\n",
       "    <div>\n",
       "        <div style=\"width: 24px; height: 24px; background-color: #FFF7E5; border: 3px solid #FF6132; border-radius: 5px; position: absolute;\"> </div>\n",
       "        <div style=\"margin-left: 48px;\">\n",
       "            <h3 style=\"margin-bottom: 0px;\">Scheduler</h3>\n",
       "            <p style=\"color: #9D9D9D; margin-bottom: 0px;\">Scheduler-2e893232-1dc6-46fe-99e9-1857548fb7b8</p>\n",
       "            <table style=\"width: 100%; text-align: left;\">\n",
       "                <tr>\n",
       "                    <td style=\"text-align: left;\">\n",
       "                        <strong>Comm:</strong> tcp://127.0.0.1:51009\n",
       "                    </td>\n",
       "                    <td style=\"text-align: left;\">\n",
       "                        <strong>Workers:</strong> 4\n",
       "                    </td>\n",
       "                </tr>\n",
       "                <tr>\n",
       "                    <td style=\"text-align: left;\">\n",
       "                        <strong>Dashboard:</strong> <a href=\"http://127.0.0.1:8787/status\" target=\"_blank\">http://127.0.0.1:8787/status</a>\n",
       "                    </td>\n",
       "                    <td style=\"text-align: left;\">\n",
       "                        <strong>Total threads:</strong> 12\n",
       "                    </td>\n",
       "                </tr>\n",
       "                <tr>\n",
       "                    <td style=\"text-align: left;\">\n",
       "                        <strong>Started:</strong> Just now\n",
       "                    </td>\n",
       "                    <td style=\"text-align: left;\">\n",
       "                        <strong>Total memory:</strong> 48.00 GiB\n",
       "                    </td>\n",
       "                </tr>\n",
       "            </table>\n",
       "        </div>\n",
       "    </div>\n",
       "\n",
       "    <details style=\"margin-left: 48px;\">\n",
       "        <summary style=\"margin-bottom: 20px;\">\n",
       "            <h3 style=\"display: inline;\">Workers</h3>\n",
       "        </summary>\n",
       "\n",
       "        \n",
       "        <div style=\"margin-bottom: 20px;\">\n",
       "            <div style=\"width: 24px; height: 24px; background-color: #DBF5FF; border: 3px solid #4CC9FF; border-radius: 5px; position: absolute;\"> </div>\n",
       "            <div style=\"margin-left: 48px;\">\n",
       "            <details>\n",
       "                <summary>\n",
       "                    <h4 style=\"margin-bottom: 0px; display: inline;\">Worker: 0</h4>\n",
       "                </summary>\n",
       "                <table style=\"width: 100%; text-align: left;\">\n",
       "                    <tr>\n",
       "                        <td style=\"text-align: left;\">\n",
       "                            <strong>Comm: </strong> tcp://127.0.0.1:51022\n",
       "                        </td>\n",
       "                        <td style=\"text-align: left;\">\n",
       "                            <strong>Total threads: </strong> 3\n",
       "                        </td>\n",
       "                    </tr>\n",
       "                    <tr>\n",
       "                        <td style=\"text-align: left;\">\n",
       "                            <strong>Dashboard: </strong> <a href=\"http://127.0.0.1:51025/status\" target=\"_blank\">http://127.0.0.1:51025/status</a>\n",
       "                        </td>\n",
       "                        <td style=\"text-align: left;\">\n",
       "                            <strong>Memory: </strong> 12.00 GiB\n",
       "                        </td>\n",
       "                    </tr>\n",
       "                    <tr>\n",
       "                        <td style=\"text-align: left;\">\n",
       "                            <strong>Nanny: </strong> tcp://127.0.0.1:51012\n",
       "                        </td>\n",
       "                        <td style=\"text-align: left;\"></td>\n",
       "                    </tr>\n",
       "                    <tr>\n",
       "                        <td colspan=\"2\" style=\"text-align: left;\">\n",
       "                            <strong>Local directory: </strong> /var/folders/z_/8j3qx1mn0299kkpjgz9g53780000gq/T/dask-scratch-space/worker-fh_asfvd\n",
       "                        </td>\n",
       "                    </tr>\n",
       "\n",
       "                    \n",
       "\n",
       "                    \n",
       "\n",
       "                </table>\n",
       "            </details>\n",
       "            </div>\n",
       "        </div>\n",
       "        \n",
       "        <div style=\"margin-bottom: 20px;\">\n",
       "            <div style=\"width: 24px; height: 24px; background-color: #DBF5FF; border: 3px solid #4CC9FF; border-radius: 5px; position: absolute;\"> </div>\n",
       "            <div style=\"margin-left: 48px;\">\n",
       "            <details>\n",
       "                <summary>\n",
       "                    <h4 style=\"margin-bottom: 0px; display: inline;\">Worker: 1</h4>\n",
       "                </summary>\n",
       "                <table style=\"width: 100%; text-align: left;\">\n",
       "                    <tr>\n",
       "                        <td style=\"text-align: left;\">\n",
       "                            <strong>Comm: </strong> tcp://127.0.0.1:51020\n",
       "                        </td>\n",
       "                        <td style=\"text-align: left;\">\n",
       "                            <strong>Total threads: </strong> 3\n",
       "                        </td>\n",
       "                    </tr>\n",
       "                    <tr>\n",
       "                        <td style=\"text-align: left;\">\n",
       "                            <strong>Dashboard: </strong> <a href=\"http://127.0.0.1:51026/status\" target=\"_blank\">http://127.0.0.1:51026/status</a>\n",
       "                        </td>\n",
       "                        <td style=\"text-align: left;\">\n",
       "                            <strong>Memory: </strong> 12.00 GiB\n",
       "                        </td>\n",
       "                    </tr>\n",
       "                    <tr>\n",
       "                        <td style=\"text-align: left;\">\n",
       "                            <strong>Nanny: </strong> tcp://127.0.0.1:51014\n",
       "                        </td>\n",
       "                        <td style=\"text-align: left;\"></td>\n",
       "                    </tr>\n",
       "                    <tr>\n",
       "                        <td colspan=\"2\" style=\"text-align: left;\">\n",
       "                            <strong>Local directory: </strong> /var/folders/z_/8j3qx1mn0299kkpjgz9g53780000gq/T/dask-scratch-space/worker-hi0xepdi\n",
       "                        </td>\n",
       "                    </tr>\n",
       "\n",
       "                    \n",
       "\n",
       "                    \n",
       "\n",
       "                </table>\n",
       "            </details>\n",
       "            </div>\n",
       "        </div>\n",
       "        \n",
       "        <div style=\"margin-bottom: 20px;\">\n",
       "            <div style=\"width: 24px; height: 24px; background-color: #DBF5FF; border: 3px solid #4CC9FF; border-radius: 5px; position: absolute;\"> </div>\n",
       "            <div style=\"margin-left: 48px;\">\n",
       "            <details>\n",
       "                <summary>\n",
       "                    <h4 style=\"margin-bottom: 0px; display: inline;\">Worker: 2</h4>\n",
       "                </summary>\n",
       "                <table style=\"width: 100%; text-align: left;\">\n",
       "                    <tr>\n",
       "                        <td style=\"text-align: left;\">\n",
       "                            <strong>Comm: </strong> tcp://127.0.0.1:51021\n",
       "                        </td>\n",
       "                        <td style=\"text-align: left;\">\n",
       "                            <strong>Total threads: </strong> 3\n",
       "                        </td>\n",
       "                    </tr>\n",
       "                    <tr>\n",
       "                        <td style=\"text-align: left;\">\n",
       "                            <strong>Dashboard: </strong> <a href=\"http://127.0.0.1:51024/status\" target=\"_blank\">http://127.0.0.1:51024/status</a>\n",
       "                        </td>\n",
       "                        <td style=\"text-align: left;\">\n",
       "                            <strong>Memory: </strong> 12.00 GiB\n",
       "                        </td>\n",
       "                    </tr>\n",
       "                    <tr>\n",
       "                        <td style=\"text-align: left;\">\n",
       "                            <strong>Nanny: </strong> tcp://127.0.0.1:51016\n",
       "                        </td>\n",
       "                        <td style=\"text-align: left;\"></td>\n",
       "                    </tr>\n",
       "                    <tr>\n",
       "                        <td colspan=\"2\" style=\"text-align: left;\">\n",
       "                            <strong>Local directory: </strong> /var/folders/z_/8j3qx1mn0299kkpjgz9g53780000gq/T/dask-scratch-space/worker-t9p3fbqp\n",
       "                        </td>\n",
       "                    </tr>\n",
       "\n",
       "                    \n",
       "\n",
       "                    \n",
       "\n",
       "                </table>\n",
       "            </details>\n",
       "            </div>\n",
       "        </div>\n",
       "        \n",
       "        <div style=\"margin-bottom: 20px;\">\n",
       "            <div style=\"width: 24px; height: 24px; background-color: #DBF5FF; border: 3px solid #4CC9FF; border-radius: 5px; position: absolute;\"> </div>\n",
       "            <div style=\"margin-left: 48px;\">\n",
       "            <details>\n",
       "                <summary>\n",
       "                    <h4 style=\"margin-bottom: 0px; display: inline;\">Worker: 3</h4>\n",
       "                </summary>\n",
       "                <table style=\"width: 100%; text-align: left;\">\n",
       "                    <tr>\n",
       "                        <td style=\"text-align: left;\">\n",
       "                            <strong>Comm: </strong> tcp://127.0.0.1:51023\n",
       "                        </td>\n",
       "                        <td style=\"text-align: left;\">\n",
       "                            <strong>Total threads: </strong> 3\n",
       "                        </td>\n",
       "                    </tr>\n",
       "                    <tr>\n",
       "                        <td style=\"text-align: left;\">\n",
       "                            <strong>Dashboard: </strong> <a href=\"http://127.0.0.1:51027/status\" target=\"_blank\">http://127.0.0.1:51027/status</a>\n",
       "                        </td>\n",
       "                        <td style=\"text-align: left;\">\n",
       "                            <strong>Memory: </strong> 12.00 GiB\n",
       "                        </td>\n",
       "                    </tr>\n",
       "                    <tr>\n",
       "                        <td style=\"text-align: left;\">\n",
       "                            <strong>Nanny: </strong> tcp://127.0.0.1:51018\n",
       "                        </td>\n",
       "                        <td style=\"text-align: left;\"></td>\n",
       "                    </tr>\n",
       "                    <tr>\n",
       "                        <td colspan=\"2\" style=\"text-align: left;\">\n",
       "                            <strong>Local directory: </strong> /var/folders/z_/8j3qx1mn0299kkpjgz9g53780000gq/T/dask-scratch-space/worker-giigmvac\n",
       "                        </td>\n",
       "                    </tr>\n",
       "\n",
       "                    \n",
       "\n",
       "                    \n",
       "\n",
       "                </table>\n",
       "            </details>\n",
       "            </div>\n",
       "        </div>\n",
       "        \n",
       "\n",
       "    </details>\n",
       "</div>\n",
       "\n",
       "        </details>\n",
       "    </div>\n",
       "</div>\n",
       "            </details>\n",
       "        \n",
       "\n",
       "    </div>\n",
       "</div>"
      ],
      "text/plain": [
       "<Client: 'tcp://127.0.0.1:51009' processes=4 threads=12, memory=48.00 GiB>"
      ]
     },
     "execution_count": 16,
     "metadata": {},
     "output_type": "execute_result"
    }
   ],
   "source": [
    "genetic_algo.client"
   ]
  },
  {
   "cell_type": "markdown",
   "metadata": {},
   "source": [
    "## Run the optimization\n"
   ]
  },
  {
   "cell_type": "code",
   "execution_count": 17,
   "metadata": {},
   "outputs": [
    {
     "data": {
      "text/html": [
       "<div>\n",
       "<style scoped>\n",
       "    .dataframe tbody tr th:only-of-type {\n",
       "        vertical-align: middle;\n",
       "    }\n",
       "\n",
       "    .dataframe tbody tr th {\n",
       "        vertical-align: top;\n",
       "    }\n",
       "\n",
       "    .dataframe thead th {\n",
       "        text-align: right;\n",
       "    }\n",
       "</style>\n",
       "<table border=\"1\" class=\"dataframe\">\n",
       "  <thead>\n",
       "    <tr style=\"text-align: right;\">\n",
       "      <th></th>\n",
       "      <th>mean</th>\n",
       "      <th>std</th>\n",
       "      <th>min</th>\n",
       "      <th>max</th>\n",
       "      <th>valid</th>\n",
       "      <th>from_previous_generation</th>\n",
       "    </tr>\n",
       "    <tr>\n",
       "      <th>generation</th>\n",
       "      <th></th>\n",
       "      <th></th>\n",
       "      <th></th>\n",
       "      <th></th>\n",
       "      <th></th>\n",
       "      <th></th>\n",
       "    </tr>\n",
       "  </thead>\n",
       "  <tbody>\n",
       "    <tr>\n",
       "      <th>0</th>\n",
       "      <td>40.150922</td>\n",
       "      <td>107.385832</td>\n",
       "      <td>0.038709</td>\n",
       "      <td>343.263431</td>\n",
       "      <td>10</td>\n",
       "      <td>0.0</td>\n",
       "    </tr>\n",
       "    <tr>\n",
       "      <th>1</th>\n",
       "      <td>2.855685</td>\n",
       "      <td>4.270831</td>\n",
       "      <td>0.044173</td>\n",
       "      <td>12.861820</td>\n",
       "      <td>10</td>\n",
       "      <td>0.2</td>\n",
       "    </tr>\n",
       "    <tr>\n",
       "      <th>2</th>\n",
       "      <td>0.513794</td>\n",
       "      <td>1.183489</td>\n",
       "      <td>0.013302</td>\n",
       "      <td>3.802475</td>\n",
       "      <td>10</td>\n",
       "      <td>0.5</td>\n",
       "    </tr>\n",
       "    <tr>\n",
       "      <th>3</th>\n",
       "      <td>0.038993</td>\n",
       "      <td>0.016838</td>\n",
       "      <td>0.013302</td>\n",
       "      <td>0.072852</td>\n",
       "      <td>10</td>\n",
       "      <td>0.4</td>\n",
       "    </tr>\n",
       "    <tr>\n",
       "      <th>4</th>\n",
       "      <td>0.054353</td>\n",
       "      <td>0.055977</td>\n",
       "      <td>0.010379</td>\n",
       "      <td>0.206636</td>\n",
       "      <td>10</td>\n",
       "      <td>0.0</td>\n",
       "    </tr>\n",
       "  </tbody>\n",
       "</table>\n",
       "</div>"
      ],
      "text/plain": [
       "                 mean         std       min         max  valid  \\\n",
       "generation                                                       \n",
       "0           40.150922  107.385832  0.038709  343.263431     10   \n",
       "1            2.855685    4.270831  0.044173   12.861820     10   \n",
       "2            0.513794    1.183489  0.013302    3.802475     10   \n",
       "3            0.038993    0.016838  0.013302    0.072852     10   \n",
       "4            0.054353    0.055977  0.010379    0.206636     10   \n",
       "\n",
       "            from_previous_generation  \n",
       "generation                            \n",
       "0                                0.0  \n",
       "1                                0.2  \n",
       "2                                0.5  \n",
       "3                                0.4  \n",
       "4                                0.0  "
      ]
     },
     "metadata": {},
     "output_type": "display_data"
    },
    {
     "name": "stderr",
     "output_type": "stream",
     "text": [
      "Generations: 100%|██████████| 5/5 [00:07<00:00,  1.49s/it]\n"
     ]
    }
   ],
   "source": [
    "viewer = genetic_algo.optimize()"
   ]
  },
  {
   "cell_type": "markdown",
   "metadata": {},
   "source": [
    "## Optimization statistics\n"
   ]
  },
  {
   "cell_type": "code",
   "execution_count": 18,
   "metadata": {},
   "outputs": [
    {
     "data": {
      "text/html": [
       "<div>\n",
       "<style scoped>\n",
       "    .dataframe tbody tr th:only-of-type {\n",
       "        vertical-align: middle;\n",
       "    }\n",
       "\n",
       "    .dataframe tbody tr th {\n",
       "        vertical-align: top;\n",
       "    }\n",
       "\n",
       "    .dataframe thead th {\n",
       "        text-align: right;\n",
       "    }\n",
       "</style>\n",
       "<table border=\"1\" class=\"dataframe\">\n",
       "  <thead>\n",
       "    <tr style=\"text-align: right;\">\n",
       "      <th></th>\n",
       "      <th></th>\n",
       "      <th>D1N1_energy_coefficient</th>\n",
       "      <th>D1N1_tr_max</th>\n",
       "      <th>D1N1_tr_rate</th>\n",
       "      <th>D1N1_inv_lambda_max</th>\n",
       "      <th>D1N1_inv_lambda_rate</th>\n",
       "      <th>D2N1_energy_coefficient</th>\n",
       "      <th>D2N1_tr_max</th>\n",
       "      <th>D2N1_tr_rate</th>\n",
       "      <th>D2N1_inv_lambda_max</th>\n",
       "      <th>D2N1_inv_lambda_rate</th>\n",
       "      <th>fitness</th>\n",
       "    </tr>\n",
       "    <tr>\n",
       "      <th>generation</th>\n",
       "      <th>individual</th>\n",
       "      <th></th>\n",
       "      <th></th>\n",
       "      <th></th>\n",
       "      <th></th>\n",
       "      <th></th>\n",
       "      <th></th>\n",
       "      <th></th>\n",
       "      <th></th>\n",
       "      <th></th>\n",
       "      <th></th>\n",
       "      <th></th>\n",
       "    </tr>\n",
       "  </thead>\n",
       "  <tbody>\n",
       "    <tr>\n",
       "      <th>4</th>\n",
       "      <th>3</th>\n",
       "      <td>0.072737</td>\n",
       "      <td>18.227269</td>\n",
       "      <td>-0.031908</td>\n",
       "      <td>354.599950</td>\n",
       "      <td>-0.174717</td>\n",
       "      <td>0.012999</td>\n",
       "      <td>39.828101</td>\n",
       "      <td>-0.106187</td>\n",
       "      <td>275.158939</td>\n",
       "      <td>-0.083982</td>\n",
       "      <td>0.010379</td>\n",
       "    </tr>\n",
       "    <tr>\n",
       "      <th>2</th>\n",
       "      <th>7</th>\n",
       "      <td>0.072737</td>\n",
       "      <td>18.227269</td>\n",
       "      <td>-0.031908</td>\n",
       "      <td>308.326128</td>\n",
       "      <td>-0.174717</td>\n",
       "      <td>0.012999</td>\n",
       "      <td>39.828101</td>\n",
       "      <td>-0.106187</td>\n",
       "      <td>275.158939</td>\n",
       "      <td>-0.083982</td>\n",
       "      <td>0.013302</td>\n",
       "    </tr>\n",
       "    <tr>\n",
       "      <th>4</th>\n",
       "      <th>1</th>\n",
       "      <td>0.072737</td>\n",
       "      <td>18.227269</td>\n",
       "      <td>-0.031908</td>\n",
       "      <td>308.326128</td>\n",
       "      <td>-0.174717</td>\n",
       "      <td>0.012999</td>\n",
       "      <td>39.828101</td>\n",
       "      <td>-0.106187</td>\n",
       "      <td>275.158939</td>\n",
       "      <td>-0.083982</td>\n",
       "      <td>0.013302</td>\n",
       "    </tr>\n",
       "    <tr>\n",
       "      <th rowspan=\"3\" valign=\"top\">3</th>\n",
       "      <th>9</th>\n",
       "      <td>0.072737</td>\n",
       "      <td>18.227269</td>\n",
       "      <td>-0.031908</td>\n",
       "      <td>308.326128</td>\n",
       "      <td>-0.174717</td>\n",
       "      <td>0.012999</td>\n",
       "      <td>39.828101</td>\n",
       "      <td>-0.106187</td>\n",
       "      <td>275.158939</td>\n",
       "      <td>-0.083982</td>\n",
       "      <td>0.013302</td>\n",
       "    </tr>\n",
       "    <tr>\n",
       "      <th>8</th>\n",
       "      <td>0.072737</td>\n",
       "      <td>18.227269</td>\n",
       "      <td>-0.031908</td>\n",
       "      <td>308.326128</td>\n",
       "      <td>-0.174717</td>\n",
       "      <td>0.012999</td>\n",
       "      <td>39.828101</td>\n",
       "      <td>-0.106187</td>\n",
       "      <td>275.158939</td>\n",
       "      <td>-0.083982</td>\n",
       "      <td>0.013302</td>\n",
       "    </tr>\n",
       "    <tr>\n",
       "      <th>7</th>\n",
       "      <td>0.242584</td>\n",
       "      <td>18.227269</td>\n",
       "      <td>-0.031908</td>\n",
       "      <td>354.599950</td>\n",
       "      <td>-0.228005</td>\n",
       "      <td>0.033354</td>\n",
       "      <td>44.364426</td>\n",
       "      <td>-0.074752</td>\n",
       "      <td>256.550860</td>\n",
       "      <td>-0.268961</td>\n",
       "      <td>0.038309</td>\n",
       "    </tr>\n",
       "    <tr>\n",
       "      <th>0</th>\n",
       "      <th>9</th>\n",
       "      <td>0.242584</td>\n",
       "      <td>27.192907</td>\n",
       "      <td>-0.251401</td>\n",
       "      <td>3.483382</td>\n",
       "      <td>-0.074164</td>\n",
       "      <td>0.161679</td>\n",
       "      <td>32.356377</td>\n",
       "      <td>-0.027029</td>\n",
       "      <td>374.391281</td>\n",
       "      <td>-0.268961</td>\n",
       "      <td>0.038709</td>\n",
       "    </tr>\n",
       "    <tr>\n",
       "      <th>2</th>\n",
       "      <th>6</th>\n",
       "      <td>0.242584</td>\n",
       "      <td>27.192907</td>\n",
       "      <td>-0.251401</td>\n",
       "      <td>354.599950</td>\n",
       "      <td>-0.228005</td>\n",
       "      <td>0.033354</td>\n",
       "      <td>44.364426</td>\n",
       "      <td>-0.074752</td>\n",
       "      <td>256.550860</td>\n",
       "      <td>-0.268961</td>\n",
       "      <td>0.038821</td>\n",
       "    </tr>\n",
       "    <tr>\n",
       "      <th rowspan=\"4\" valign=\"top\">4</th>\n",
       "      <th>7</th>\n",
       "      <td>0.242584</td>\n",
       "      <td>27.192907</td>\n",
       "      <td>-0.251401</td>\n",
       "      <td>354.599950</td>\n",
       "      <td>-0.228005</td>\n",
       "      <td>0.033354</td>\n",
       "      <td>44.364426</td>\n",
       "      <td>-0.074752</td>\n",
       "      <td>256.550860</td>\n",
       "      <td>-0.268961</td>\n",
       "      <td>0.038821</td>\n",
       "    </tr>\n",
       "    <tr>\n",
       "      <th>6</th>\n",
       "      <td>0.242584</td>\n",
       "      <td>27.192907</td>\n",
       "      <td>-0.251401</td>\n",
       "      <td>354.599950</td>\n",
       "      <td>-0.228005</td>\n",
       "      <td>0.033354</td>\n",
       "      <td>44.364426</td>\n",
       "      <td>-0.074752</td>\n",
       "      <td>256.550860</td>\n",
       "      <td>-0.268961</td>\n",
       "      <td>0.038821</td>\n",
       "    </tr>\n",
       "    <tr>\n",
       "      <th>5</th>\n",
       "      <td>0.242584</td>\n",
       "      <td>27.192907</td>\n",
       "      <td>-0.251401</td>\n",
       "      <td>354.599950</td>\n",
       "      <td>-0.228005</td>\n",
       "      <td>0.033354</td>\n",
       "      <td>44.364426</td>\n",
       "      <td>-0.074752</td>\n",
       "      <td>256.550860</td>\n",
       "      <td>-0.268961</td>\n",
       "      <td>0.038821</td>\n",
       "    </tr>\n",
       "    <tr>\n",
       "      <th>4</th>\n",
       "      <td>0.242584</td>\n",
       "      <td>27.192907</td>\n",
       "      <td>-0.251401</td>\n",
       "      <td>354.599950</td>\n",
       "      <td>-0.228005</td>\n",
       "      <td>0.033354</td>\n",
       "      <td>44.364426</td>\n",
       "      <td>-0.074752</td>\n",
       "      <td>256.550860</td>\n",
       "      <td>-0.268961</td>\n",
       "      <td>0.038821</td>\n",
       "    </tr>\n",
       "    <tr>\n",
       "      <th>3</th>\n",
       "      <th>3</th>\n",
       "      <td>0.072737</td>\n",
       "      <td>18.227269</td>\n",
       "      <td>-0.031908</td>\n",
       "      <td>354.599950</td>\n",
       "      <td>-0.228005</td>\n",
       "      <td>0.012999</td>\n",
       "      <td>39.828101</td>\n",
       "      <td>-0.106187</td>\n",
       "      <td>412.320985</td>\n",
       "      <td>-0.083982</td>\n",
       "      <td>0.040209</td>\n",
       "    </tr>\n",
       "    <tr>\n",
       "      <th>2</th>\n",
       "      <th>5</th>\n",
       "      <td>0.072737</td>\n",
       "      <td>18.227269</td>\n",
       "      <td>-0.031908</td>\n",
       "      <td>354.599950</td>\n",
       "      <td>-0.215019</td>\n",
       "      <td>0.011738</td>\n",
       "      <td>8.633937</td>\n",
       "      <td>-0.106187</td>\n",
       "      <td>275.158939</td>\n",
       "      <td>-0.083982</td>\n",
       "      <td>0.040590</td>\n",
       "    </tr>\n",
       "    <tr>\n",
       "      <th>3</th>\n",
       "      <th>2</th>\n",
       "      <td>0.072737</td>\n",
       "      <td>18.227269</td>\n",
       "      <td>-0.031908</td>\n",
       "      <td>354.599950</td>\n",
       "      <td>-0.228005</td>\n",
       "      <td>0.012999</td>\n",
       "      <td>39.828101</td>\n",
       "      <td>-0.106187</td>\n",
       "      <td>275.158939</td>\n",
       "      <td>-0.083982</td>\n",
       "      <td>0.044173</td>\n",
       "    </tr>\n",
       "    <tr>\n",
       "      <th>1</th>\n",
       "      <th>9</th>\n",
       "      <td>0.072737</td>\n",
       "      <td>18.227269</td>\n",
       "      <td>-0.031908</td>\n",
       "      <td>354.599950</td>\n",
       "      <td>-0.228005</td>\n",
       "      <td>0.012999</td>\n",
       "      <td>39.828101</td>\n",
       "      <td>-0.106187</td>\n",
       "      <td>275.158939</td>\n",
       "      <td>-0.083982</td>\n",
       "      <td>0.044173</td>\n",
       "    </tr>\n",
       "    <tr>\n",
       "      <th>4</th>\n",
       "      <th>0</th>\n",
       "      <td>0.072737</td>\n",
       "      <td>18.227269</td>\n",
       "      <td>-0.031908</td>\n",
       "      <td>354.599950</td>\n",
       "      <td>-0.228005</td>\n",
       "      <td>0.012999</td>\n",
       "      <td>39.828101</td>\n",
       "      <td>-0.106187</td>\n",
       "      <td>275.158939</td>\n",
       "      <td>-0.083982</td>\n",
       "      <td>0.044173</td>\n",
       "    </tr>\n",
       "    <tr>\n",
       "      <th>3</th>\n",
       "      <th>6</th>\n",
       "      <td>0.072737</td>\n",
       "      <td>27.192907</td>\n",
       "      <td>-0.251401</td>\n",
       "      <td>354.599950</td>\n",
       "      <td>-0.228005</td>\n",
       "      <td>0.012999</td>\n",
       "      <td>39.828101</td>\n",
       "      <td>-0.106187</td>\n",
       "      <td>275.158939</td>\n",
       "      <td>-0.083982</td>\n",
       "      <td>0.044202</td>\n",
       "    </tr>\n",
       "    <tr>\n",
       "      <th>4</th>\n",
       "      <th>2</th>\n",
       "      <td>0.072737</td>\n",
       "      <td>18.227269</td>\n",
       "      <td>-0.031908</td>\n",
       "      <td>308.326128</td>\n",
       "      <td>-0.215019</td>\n",
       "      <td>0.011738</td>\n",
       "      <td>8.633937</td>\n",
       "      <td>-0.106187</td>\n",
       "      <td>275.158939</td>\n",
       "      <td>-0.083982</td>\n",
       "      <td>0.044423</td>\n",
       "    </tr>\n",
       "    <tr>\n",
       "      <th rowspan=\"2\" valign=\"top\">0</th>\n",
       "      <th>3</th>\n",
       "      <td>0.119901</td>\n",
       "      <td>6.532215</td>\n",
       "      <td>-0.136535</td>\n",
       "      <td>117.157460</td>\n",
       "      <td>-0.286786</td>\n",
       "      <td>0.250160</td>\n",
       "      <td>32.721150</td>\n",
       "      <td>-0.251452</td>\n",
       "      <td>50.201979</td>\n",
       "      <td>-0.153628</td>\n",
       "      <td>0.049612</td>\n",
       "    </tr>\n",
       "    <tr>\n",
       "      <th>7</th>\n",
       "      <td>0.072737</td>\n",
       "      <td>35.972406</td>\n",
       "      <td>-0.246780</td>\n",
       "      <td>93.108778</td>\n",
       "      <td>-0.191390</td>\n",
       "      <td>0.012999</td>\n",
       "      <td>39.828101</td>\n",
       "      <td>-0.106187</td>\n",
       "      <td>275.158939</td>\n",
       "      <td>-0.083982</td>\n",
       "      <td>0.052324</td>\n",
       "    </tr>\n",
       "    <tr>\n",
       "      <th>4</th>\n",
       "      <th>8</th>\n",
       "      <td>0.072737</td>\n",
       "      <td>18.227269</td>\n",
       "      <td>-0.031908</td>\n",
       "      <td>308.326128</td>\n",
       "      <td>-0.174717</td>\n",
       "      <td>0.012999</td>\n",
       "      <td>44.364426</td>\n",
       "      <td>-0.074752</td>\n",
       "      <td>256.550860</td>\n",
       "      <td>-0.268961</td>\n",
       "      <td>0.069330</td>\n",
       "    </tr>\n",
       "    <tr>\n",
       "      <th>1</th>\n",
       "      <th>2</th>\n",
       "      <td>0.242584</td>\n",
       "      <td>27.192907</td>\n",
       "      <td>-0.251401</td>\n",
       "      <td>308.326128</td>\n",
       "      <td>-0.174717</td>\n",
       "      <td>0.033354</td>\n",
       "      <td>44.364426</td>\n",
       "      <td>-0.074752</td>\n",
       "      <td>256.550860</td>\n",
       "      <td>-0.268961</td>\n",
       "      <td>0.071971</td>\n",
       "    </tr>\n",
       "    <tr>\n",
       "      <th>2</th>\n",
       "      <th>9</th>\n",
       "      <td>0.242584</td>\n",
       "      <td>0.970809</td>\n",
       "      <td>-0.120141</td>\n",
       "      <td>308.326128</td>\n",
       "      <td>-0.174717</td>\n",
       "      <td>0.033354</td>\n",
       "      <td>44.364426</td>\n",
       "      <td>-0.074752</td>\n",
       "      <td>312.972078</td>\n",
       "      <td>-0.268961</td>\n",
       "      <td>0.072852</td>\n",
       "    </tr>\n",
       "    <tr>\n",
       "      <th>1</th>\n",
       "      <th>5</th>\n",
       "      <td>0.242584</td>\n",
       "      <td>0.970809</td>\n",
       "      <td>-0.120141</td>\n",
       "      <td>3.483382</td>\n",
       "      <td>-0.074164</td>\n",
       "      <td>0.012999</td>\n",
       "      <td>39.828101</td>\n",
       "      <td>-0.027029</td>\n",
       "      <td>312.972078</td>\n",
       "      <td>-0.268961</td>\n",
       "      <td>0.092395</td>\n",
       "    </tr>\n",
       "    <tr>\n",
       "      <th>2</th>\n",
       "      <th>8</th>\n",
       "      <td>0.242584</td>\n",
       "      <td>27.192907</td>\n",
       "      <td>-0.251401</td>\n",
       "      <td>3.483382</td>\n",
       "      <td>-0.074164</td>\n",
       "      <td>0.012999</td>\n",
       "      <td>39.828101</td>\n",
       "      <td>-0.027029</td>\n",
       "      <td>256.550860</td>\n",
       "      <td>-0.268961</td>\n",
       "      <td>0.093107</td>\n",
       "    </tr>\n",
       "    <tr>\n",
       "      <th>4</th>\n",
       "      <th>9</th>\n",
       "      <td>0.242584</td>\n",
       "      <td>18.227269</td>\n",
       "      <td>-0.031908</td>\n",
       "      <td>354.599950</td>\n",
       "      <td>-0.228005</td>\n",
       "      <td>0.033354</td>\n",
       "      <td>39.828101</td>\n",
       "      <td>-0.106187</td>\n",
       "      <td>275.158939</td>\n",
       "      <td>-0.083982</td>\n",
       "      <td>0.206636</td>\n",
       "    </tr>\n",
       "    <tr>\n",
       "      <th>0</th>\n",
       "      <th>6</th>\n",
       "      <td>0.316906</td>\n",
       "      <td>5.318290</td>\n",
       "      <td>-0.267864</td>\n",
       "      <td>308.326128</td>\n",
       "      <td>-0.174717</td>\n",
       "      <td>0.033354</td>\n",
       "      <td>44.364426</td>\n",
       "      <td>-0.074752</td>\n",
       "      <td>256.550860</td>\n",
       "      <td>-0.089055</td>\n",
       "      <td>0.748268</td>\n",
       "    </tr>\n",
       "    <tr>\n",
       "      <th rowspan=\"2\" valign=\"top\">1</th>\n",
       "      <th>7</th>\n",
       "      <td>0.030177</td>\n",
       "      <td>41.610774</td>\n",
       "      <td>-0.017513</td>\n",
       "      <td>38.560385</td>\n",
       "      <td>-0.248296</td>\n",
       "      <td>0.335004</td>\n",
       "      <td>45.610700</td>\n",
       "      <td>-0.189370</td>\n",
       "      <td>88.012682</td>\n",
       "      <td>-0.112309</td>\n",
       "      <td>0.868249</td>\n",
       "    </tr>\n",
       "    <tr>\n",
       "      <th>6</th>\n",
       "      <td>0.030177</td>\n",
       "      <td>41.610774</td>\n",
       "      <td>-0.017513</td>\n",
       "      <td>38.560385</td>\n",
       "      <td>-0.248296</td>\n",
       "      <td>0.335004</td>\n",
       "      <td>45.610700</td>\n",
       "      <td>-0.189370</td>\n",
       "      <td>88.012682</td>\n",
       "      <td>-0.112309</td>\n",
       "      <td>0.868249</td>\n",
       "    </tr>\n",
       "    <tr>\n",
       "      <th rowspan=\"2\" valign=\"top\">0</th>\n",
       "      <th>2</th>\n",
       "      <td>0.030177</td>\n",
       "      <td>41.610774</td>\n",
       "      <td>-0.017513</td>\n",
       "      <td>38.560385</td>\n",
       "      <td>-0.248296</td>\n",
       "      <td>0.335004</td>\n",
       "      <td>45.610700</td>\n",
       "      <td>-0.189370</td>\n",
       "      <td>88.012682</td>\n",
       "      <td>-0.112309</td>\n",
       "      <td>0.868249</td>\n",
       "    </tr>\n",
       "    <tr>\n",
       "      <th>0</th>\n",
       "      <td>0.078038</td>\n",
       "      <td>30.598138</td>\n",
       "      <td>-0.090190</td>\n",
       "      <td>449.361311</td>\n",
       "      <td>-0.117154</td>\n",
       "      <td>0.373867</td>\n",
       "      <td>43.183281</td>\n",
       "      <td>-0.267112</td>\n",
       "      <td>351.100975</td>\n",
       "      <td>-0.232424</td>\n",
       "      <td>1.326423</td>\n",
       "    </tr>\n",
       "    <tr>\n",
       "      <th>1</th>\n",
       "      <th>8</th>\n",
       "      <td>0.323156</td>\n",
       "      <td>35.972406</td>\n",
       "      <td>-0.246780</td>\n",
       "      <td>93.108778</td>\n",
       "      <td>-0.191390</td>\n",
       "      <td>0.065800</td>\n",
       "      <td>8.910788</td>\n",
       "      <td>-0.046151</td>\n",
       "      <td>430.750966</td>\n",
       "      <td>-0.079128</td>\n",
       "      <td>3.802475</td>\n",
       "    </tr>\n",
       "    <tr>\n",
       "      <th rowspan=\"2\" valign=\"top\">0</th>\n",
       "      <th>1</th>\n",
       "      <td>0.323156</td>\n",
       "      <td>18.227269</td>\n",
       "      <td>-0.031908</td>\n",
       "      <td>354.599950</td>\n",
       "      <td>-0.228005</td>\n",
       "      <td>0.065800</td>\n",
       "      <td>8.910788</td>\n",
       "      <td>-0.046151</td>\n",
       "      <td>430.750966</td>\n",
       "      <td>-0.079128</td>\n",
       "      <td>4.050788</td>\n",
       "    </tr>\n",
       "    <tr>\n",
       "      <th>5</th>\n",
       "      <td>0.321663</td>\n",
       "      <td>36.260959</td>\n",
       "      <td>-0.147127</td>\n",
       "      <td>294.312976</td>\n",
       "      <td>-0.252118</td>\n",
       "      <td>0.187377</td>\n",
       "      <td>32.167411</td>\n",
       "      <td>-0.059900</td>\n",
       "      <td>388.193642</td>\n",
       "      <td>-0.117296</td>\n",
       "      <td>6.178423</td>\n",
       "    </tr>\n",
       "    <tr>\n",
       "      <th rowspan=\"2\" valign=\"top\">1</th>\n",
       "      <th>4</th>\n",
       "      <td>0.072737</td>\n",
       "      <td>35.972406</td>\n",
       "      <td>-0.246780</td>\n",
       "      <td>93.108778</td>\n",
       "      <td>-0.191390</td>\n",
       "      <td>0.161679</td>\n",
       "      <td>32.356377</td>\n",
       "      <td>-0.106187</td>\n",
       "      <td>275.158939</td>\n",
       "      <td>-0.083982</td>\n",
       "      <td>7.872830</td>\n",
       "    </tr>\n",
       "    <tr>\n",
       "      <th>3</th>\n",
       "      <td>0.316906</td>\n",
       "      <td>5.318290</td>\n",
       "      <td>-0.267864</td>\n",
       "      <td>3.483382</td>\n",
       "      <td>-0.074164</td>\n",
       "      <td>0.161679</td>\n",
       "      <td>32.356377</td>\n",
       "      <td>-0.027029</td>\n",
       "      <td>374.391281</td>\n",
       "      <td>-0.089055</td>\n",
       "      <td>12.861820</td>\n",
       "    </tr>\n",
       "    <tr>\n",
       "      <th rowspan=\"2\" valign=\"top\">0</th>\n",
       "      <th>4</th>\n",
       "      <td>0.337246</td>\n",
       "      <td>40.181507</td>\n",
       "      <td>-0.087886</td>\n",
       "      <td>55.953330</td>\n",
       "      <td>-0.014421</td>\n",
       "      <td>0.377727</td>\n",
       "      <td>31.692080</td>\n",
       "      <td>-0.169017</td>\n",
       "      <td>495.074622</td>\n",
       "      <td>-0.292927</td>\n",
       "      <td>44.932994</td>\n",
       "    </tr>\n",
       "    <tr>\n",
       "      <th>8</th>\n",
       "      <td>0.348550</td>\n",
       "      <td>41.406074</td>\n",
       "      <td>-0.282013</td>\n",
       "      <td>218.788068</td>\n",
       "      <td>-0.029855</td>\n",
       "      <td>0.101756</td>\n",
       "      <td>8.034224</td>\n",
       "      <td>-0.015353</td>\n",
       "      <td>489.813566</td>\n",
       "      <td>-0.229475</td>\n",
       "      <td>343.263431</td>\n",
       "    </tr>\n",
       "  </tbody>\n",
       "</table>\n",
       "</div>"
      ],
      "text/plain": [
       "                       D1N1_energy_coefficient  D1N1_tr_max  D1N1_tr_rate  \\\n",
       "generation individual                                                       \n",
       "4          3                          0.072737    18.227269     -0.031908   \n",
       "2          7                          0.072737    18.227269     -0.031908   \n",
       "4          1                          0.072737    18.227269     -0.031908   \n",
       "3          9                          0.072737    18.227269     -0.031908   \n",
       "           8                          0.072737    18.227269     -0.031908   \n",
       "           7                          0.242584    18.227269     -0.031908   \n",
       "0          9                          0.242584    27.192907     -0.251401   \n",
       "2          6                          0.242584    27.192907     -0.251401   \n",
       "4          7                          0.242584    27.192907     -0.251401   \n",
       "           6                          0.242584    27.192907     -0.251401   \n",
       "           5                          0.242584    27.192907     -0.251401   \n",
       "           4                          0.242584    27.192907     -0.251401   \n",
       "3          3                          0.072737    18.227269     -0.031908   \n",
       "2          5                          0.072737    18.227269     -0.031908   \n",
       "3          2                          0.072737    18.227269     -0.031908   \n",
       "1          9                          0.072737    18.227269     -0.031908   \n",
       "4          0                          0.072737    18.227269     -0.031908   \n",
       "3          6                          0.072737    27.192907     -0.251401   \n",
       "4          2                          0.072737    18.227269     -0.031908   \n",
       "0          3                          0.119901     6.532215     -0.136535   \n",
       "           7                          0.072737    35.972406     -0.246780   \n",
       "4          8                          0.072737    18.227269     -0.031908   \n",
       "1          2                          0.242584    27.192907     -0.251401   \n",
       "2          9                          0.242584     0.970809     -0.120141   \n",
       "1          5                          0.242584     0.970809     -0.120141   \n",
       "2          8                          0.242584    27.192907     -0.251401   \n",
       "4          9                          0.242584    18.227269     -0.031908   \n",
       "0          6                          0.316906     5.318290     -0.267864   \n",
       "1          7                          0.030177    41.610774     -0.017513   \n",
       "           6                          0.030177    41.610774     -0.017513   \n",
       "0          2                          0.030177    41.610774     -0.017513   \n",
       "           0                          0.078038    30.598138     -0.090190   \n",
       "1          8                          0.323156    35.972406     -0.246780   \n",
       "0          1                          0.323156    18.227269     -0.031908   \n",
       "           5                          0.321663    36.260959     -0.147127   \n",
       "1          4                          0.072737    35.972406     -0.246780   \n",
       "           3                          0.316906     5.318290     -0.267864   \n",
       "0          4                          0.337246    40.181507     -0.087886   \n",
       "           8                          0.348550    41.406074     -0.282013   \n",
       "\n",
       "                       D1N1_inv_lambda_max  D1N1_inv_lambda_rate  \\\n",
       "generation individual                                              \n",
       "4          3                    354.599950             -0.174717   \n",
       "2          7                    308.326128             -0.174717   \n",
       "4          1                    308.326128             -0.174717   \n",
       "3          9                    308.326128             -0.174717   \n",
       "           8                    308.326128             -0.174717   \n",
       "           7                    354.599950             -0.228005   \n",
       "0          9                      3.483382             -0.074164   \n",
       "2          6                    354.599950             -0.228005   \n",
       "4          7                    354.599950             -0.228005   \n",
       "           6                    354.599950             -0.228005   \n",
       "           5                    354.599950             -0.228005   \n",
       "           4                    354.599950             -0.228005   \n",
       "3          3                    354.599950             -0.228005   \n",
       "2          5                    354.599950             -0.215019   \n",
       "3          2                    354.599950             -0.228005   \n",
       "1          9                    354.599950             -0.228005   \n",
       "4          0                    354.599950             -0.228005   \n",
       "3          6                    354.599950             -0.228005   \n",
       "4          2                    308.326128             -0.215019   \n",
       "0          3                    117.157460             -0.286786   \n",
       "           7                     93.108778             -0.191390   \n",
       "4          8                    308.326128             -0.174717   \n",
       "1          2                    308.326128             -0.174717   \n",
       "2          9                    308.326128             -0.174717   \n",
       "1          5                      3.483382             -0.074164   \n",
       "2          8                      3.483382             -0.074164   \n",
       "4          9                    354.599950             -0.228005   \n",
       "0          6                    308.326128             -0.174717   \n",
       "1          7                     38.560385             -0.248296   \n",
       "           6                     38.560385             -0.248296   \n",
       "0          2                     38.560385             -0.248296   \n",
       "           0                    449.361311             -0.117154   \n",
       "1          8                     93.108778             -0.191390   \n",
       "0          1                    354.599950             -0.228005   \n",
       "           5                    294.312976             -0.252118   \n",
       "1          4                     93.108778             -0.191390   \n",
       "           3                      3.483382             -0.074164   \n",
       "0          4                     55.953330             -0.014421   \n",
       "           8                    218.788068             -0.029855   \n",
       "\n",
       "                       D2N1_energy_coefficient  D2N1_tr_max  D2N1_tr_rate  \\\n",
       "generation individual                                                       \n",
       "4          3                          0.012999    39.828101     -0.106187   \n",
       "2          7                          0.012999    39.828101     -0.106187   \n",
       "4          1                          0.012999    39.828101     -0.106187   \n",
       "3          9                          0.012999    39.828101     -0.106187   \n",
       "           8                          0.012999    39.828101     -0.106187   \n",
       "           7                          0.033354    44.364426     -0.074752   \n",
       "0          9                          0.161679    32.356377     -0.027029   \n",
       "2          6                          0.033354    44.364426     -0.074752   \n",
       "4          7                          0.033354    44.364426     -0.074752   \n",
       "           6                          0.033354    44.364426     -0.074752   \n",
       "           5                          0.033354    44.364426     -0.074752   \n",
       "           4                          0.033354    44.364426     -0.074752   \n",
       "3          3                          0.012999    39.828101     -0.106187   \n",
       "2          5                          0.011738     8.633937     -0.106187   \n",
       "3          2                          0.012999    39.828101     -0.106187   \n",
       "1          9                          0.012999    39.828101     -0.106187   \n",
       "4          0                          0.012999    39.828101     -0.106187   \n",
       "3          6                          0.012999    39.828101     -0.106187   \n",
       "4          2                          0.011738     8.633937     -0.106187   \n",
       "0          3                          0.250160    32.721150     -0.251452   \n",
       "           7                          0.012999    39.828101     -0.106187   \n",
       "4          8                          0.012999    44.364426     -0.074752   \n",
       "1          2                          0.033354    44.364426     -0.074752   \n",
       "2          9                          0.033354    44.364426     -0.074752   \n",
       "1          5                          0.012999    39.828101     -0.027029   \n",
       "2          8                          0.012999    39.828101     -0.027029   \n",
       "4          9                          0.033354    39.828101     -0.106187   \n",
       "0          6                          0.033354    44.364426     -0.074752   \n",
       "1          7                          0.335004    45.610700     -0.189370   \n",
       "           6                          0.335004    45.610700     -0.189370   \n",
       "0          2                          0.335004    45.610700     -0.189370   \n",
       "           0                          0.373867    43.183281     -0.267112   \n",
       "1          8                          0.065800     8.910788     -0.046151   \n",
       "0          1                          0.065800     8.910788     -0.046151   \n",
       "           5                          0.187377    32.167411     -0.059900   \n",
       "1          4                          0.161679    32.356377     -0.106187   \n",
       "           3                          0.161679    32.356377     -0.027029   \n",
       "0          4                          0.377727    31.692080     -0.169017   \n",
       "           8                          0.101756     8.034224     -0.015353   \n",
       "\n",
       "                       D2N1_inv_lambda_max  D2N1_inv_lambda_rate     fitness  \n",
       "generation individual                                                         \n",
       "4          3                    275.158939             -0.083982    0.010379  \n",
       "2          7                    275.158939             -0.083982    0.013302  \n",
       "4          1                    275.158939             -0.083982    0.013302  \n",
       "3          9                    275.158939             -0.083982    0.013302  \n",
       "           8                    275.158939             -0.083982    0.013302  \n",
       "           7                    256.550860             -0.268961    0.038309  \n",
       "0          9                    374.391281             -0.268961    0.038709  \n",
       "2          6                    256.550860             -0.268961    0.038821  \n",
       "4          7                    256.550860             -0.268961    0.038821  \n",
       "           6                    256.550860             -0.268961    0.038821  \n",
       "           5                    256.550860             -0.268961    0.038821  \n",
       "           4                    256.550860             -0.268961    0.038821  \n",
       "3          3                    412.320985             -0.083982    0.040209  \n",
       "2          5                    275.158939             -0.083982    0.040590  \n",
       "3          2                    275.158939             -0.083982    0.044173  \n",
       "1          9                    275.158939             -0.083982    0.044173  \n",
       "4          0                    275.158939             -0.083982    0.044173  \n",
       "3          6                    275.158939             -0.083982    0.044202  \n",
       "4          2                    275.158939             -0.083982    0.044423  \n",
       "0          3                     50.201979             -0.153628    0.049612  \n",
       "           7                    275.158939             -0.083982    0.052324  \n",
       "4          8                    256.550860             -0.268961    0.069330  \n",
       "1          2                    256.550860             -0.268961    0.071971  \n",
       "2          9                    312.972078             -0.268961    0.072852  \n",
       "1          5                    312.972078             -0.268961    0.092395  \n",
       "2          8                    256.550860             -0.268961    0.093107  \n",
       "4          9                    275.158939             -0.083982    0.206636  \n",
       "0          6                    256.550860             -0.089055    0.748268  \n",
       "1          7                     88.012682             -0.112309    0.868249  \n",
       "           6                     88.012682             -0.112309    0.868249  \n",
       "0          2                     88.012682             -0.112309    0.868249  \n",
       "           0                    351.100975             -0.232424    1.326423  \n",
       "1          8                    430.750966             -0.079128    3.802475  \n",
       "0          1                    430.750966             -0.079128    4.050788  \n",
       "           5                    388.193642             -0.117296    6.178423  \n",
       "1          4                    275.158939             -0.083982    7.872830  \n",
       "           3                    374.391281             -0.089055   12.861820  \n",
       "0          4                    495.074622             -0.292927   44.932994  \n",
       "           8                    489.813566             -0.229475  343.263431  "
      ]
     },
     "execution_count": 18,
     "metadata": {},
     "output_type": "execute_result"
    }
   ],
   "source": [
    "viewer.hall_of_fame"
   ]
  },
  {
   "cell_type": "code",
   "execution_count": 19,
   "metadata": {},
   "outputs": [
    {
     "data": {
      "application/vnd.plotly.v1+json": {
       "config": {
        "plotlyServerURL": "https://plot.ly"
       },
       "data": [
        {
         "alignmentgroup": "True",
         "boxpoints": false,
         "hovertemplate": "generation=%{x}<br>fitness=%{y}<extra></extra>",
         "legendgroup": "",
         "marker": {
          "color": "#636efa"
         },
         "name": "",
         "notched": false,
         "offsetgroup": "",
         "orientation": "v",
         "showlegend": false,
         "type": "box",
         "x": [
          0,
          0,
          0,
          0,
          0,
          0,
          0,
          0,
          0,
          0,
          1,
          1,
          1,
          1,
          1,
          1,
          1,
          1,
          1,
          1,
          2,
          2,
          2,
          2,
          2,
          2,
          2,
          2,
          2,
          2,
          3,
          3,
          3,
          3,
          3,
          3,
          3,
          3,
          3,
          3,
          4,
          4,
          4,
          4,
          4,
          4,
          4,
          4,
          4,
          4
         ],
         "x0": " ",
         "xaxis": "x",
         "y": [
          1.3264232975596078,
          4.050787795811359,
          0.868249031603171,
          0.04961246531521822,
          44.9329935399209,
          6.178423167197701,
          0.7482677063801147,
          0.052323574433889165,
          343.2634308330631,
          0.03870882011369208,
          0.07197063189465502,
          12.861820101163326,
          7.872830331894401,
          0.09239474345297995,
          0.868249031603171,
          0.868249031603171,
          3.8024754127169453,
          0.04417270123863292,
          0.7482677063801147,
          1.3264232975596078,
          0.04059009039458763,
          0.03882140640737907,
          0.013302221079435024,
          0.0931072931118128,
          0.07285231494420306,
          3.8024754127169453,
          0.07197063189465502,
          0.09239474345297995,
          0.04417270123863292,
          0.868249031603171,
          0.04417270123863292,
          0.040208953263491734,
          0.044201838179417995,
          0.0383094299217499,
          0.013302221079435024,
          0.013302221079435024,
          0.07285231494420306,
          0.04417270123863292,
          0.04059009039458763,
          0.03882140640737907,
          0.04417270123863292,
          0.013302221079435024,
          0.04442323837838848,
          0.010379034888239613,
          0.03882140640737907,
          0.03882140640737907,
          0.03882140640737907,
          0.03882140640737907,
          0.06932990436190821,
          0.20663626447937417
         ],
         "y0": " ",
         "yaxis": "y"
        },
        {
         "line": {
          "color": "rgba(0,0,0,0.5)",
          "dash": "dash",
          "width": 2
         },
         "mode": "lines",
         "name": "Median",
         "type": "scatter",
         "x": [
          0,
          1,
          2,
          3,
          4
         ],
         "y": [
          1.0973361645813893,
          0.868249031603171,
          0.07241147341942905,
          0.04039952182903968,
          0.03882140640737907
         ]
        },
        {
         "line": {
          "color": "rgba(0,0,0,0.5)",
          "dash": "dash",
          "width": 2
         },
         "mode": "lines",
         "name": "Minimum",
         "type": "scatter",
         "x": [
          0,
          1,
          2,
          3,
          4
         ],
         "y": [
          0.03870882011369208,
          0.04417270123863292,
          0.013302221079435024,
          0.013302221079435024,
          0.010379034888239613
         ]
        }
       ],
       "layout": {
        "boxmode": "group",
        "legend": {
         "tracegroupgap": 0
        },
        "margin": {
         "t": 60
        },
        "template": {
         "data": {
          "bar": [
           {
            "error_x": {
             "color": "#2a3f5f"
            },
            "error_y": {
             "color": "#2a3f5f"
            },
            "marker": {
             "line": {
              "color": "#E5ECF6",
              "width": 0.5
             },
             "pattern": {
              "fillmode": "overlay",
              "size": 10,
              "solidity": 0.2
             }
            },
            "type": "bar"
           }
          ],
          "barpolar": [
           {
            "marker": {
             "line": {
              "color": "#E5ECF6",
              "width": 0.5
             },
             "pattern": {
              "fillmode": "overlay",
              "size": 10,
              "solidity": 0.2
             }
            },
            "type": "barpolar"
           }
          ],
          "carpet": [
           {
            "aaxis": {
             "endlinecolor": "#2a3f5f",
             "gridcolor": "white",
             "linecolor": "white",
             "minorgridcolor": "white",
             "startlinecolor": "#2a3f5f"
            },
            "baxis": {
             "endlinecolor": "#2a3f5f",
             "gridcolor": "white",
             "linecolor": "white",
             "minorgridcolor": "white",
             "startlinecolor": "#2a3f5f"
            },
            "type": "carpet"
           }
          ],
          "choropleth": [
           {
            "colorbar": {
             "outlinewidth": 0,
             "ticks": ""
            },
            "type": "choropleth"
           }
          ],
          "contour": [
           {
            "colorbar": {
             "outlinewidth": 0,
             "ticks": ""
            },
            "colorscale": [
             [
              0,
              "#0d0887"
             ],
             [
              0.1111111111111111,
              "#46039f"
             ],
             [
              0.2222222222222222,
              "#7201a8"
             ],
             [
              0.3333333333333333,
              "#9c179e"
             ],
             [
              0.4444444444444444,
              "#bd3786"
             ],
             [
              0.5555555555555556,
              "#d8576b"
             ],
             [
              0.6666666666666666,
              "#ed7953"
             ],
             [
              0.7777777777777778,
              "#fb9f3a"
             ],
             [
              0.8888888888888888,
              "#fdca26"
             ],
             [
              1,
              "#f0f921"
             ]
            ],
            "type": "contour"
           }
          ],
          "contourcarpet": [
           {
            "colorbar": {
             "outlinewidth": 0,
             "ticks": ""
            },
            "type": "contourcarpet"
           }
          ],
          "heatmap": [
           {
            "colorbar": {
             "outlinewidth": 0,
             "ticks": ""
            },
            "colorscale": [
             [
              0,
              "#0d0887"
             ],
             [
              0.1111111111111111,
              "#46039f"
             ],
             [
              0.2222222222222222,
              "#7201a8"
             ],
             [
              0.3333333333333333,
              "#9c179e"
             ],
             [
              0.4444444444444444,
              "#bd3786"
             ],
             [
              0.5555555555555556,
              "#d8576b"
             ],
             [
              0.6666666666666666,
              "#ed7953"
             ],
             [
              0.7777777777777778,
              "#fb9f3a"
             ],
             [
              0.8888888888888888,
              "#fdca26"
             ],
             [
              1,
              "#f0f921"
             ]
            ],
            "type": "heatmap"
           }
          ],
          "heatmapgl": [
           {
            "colorbar": {
             "outlinewidth": 0,
             "ticks": ""
            },
            "colorscale": [
             [
              0,
              "#0d0887"
             ],
             [
              0.1111111111111111,
              "#46039f"
             ],
             [
              0.2222222222222222,
              "#7201a8"
             ],
             [
              0.3333333333333333,
              "#9c179e"
             ],
             [
              0.4444444444444444,
              "#bd3786"
             ],
             [
              0.5555555555555556,
              "#d8576b"
             ],
             [
              0.6666666666666666,
              "#ed7953"
             ],
             [
              0.7777777777777778,
              "#fb9f3a"
             ],
             [
              0.8888888888888888,
              "#fdca26"
             ],
             [
              1,
              "#f0f921"
             ]
            ],
            "type": "heatmapgl"
           }
          ],
          "histogram": [
           {
            "marker": {
             "pattern": {
              "fillmode": "overlay",
              "size": 10,
              "solidity": 0.2
             }
            },
            "type": "histogram"
           }
          ],
          "histogram2d": [
           {
            "colorbar": {
             "outlinewidth": 0,
             "ticks": ""
            },
            "colorscale": [
             [
              0,
              "#0d0887"
             ],
             [
              0.1111111111111111,
              "#46039f"
             ],
             [
              0.2222222222222222,
              "#7201a8"
             ],
             [
              0.3333333333333333,
              "#9c179e"
             ],
             [
              0.4444444444444444,
              "#bd3786"
             ],
             [
              0.5555555555555556,
              "#d8576b"
             ],
             [
              0.6666666666666666,
              "#ed7953"
             ],
             [
              0.7777777777777778,
              "#fb9f3a"
             ],
             [
              0.8888888888888888,
              "#fdca26"
             ],
             [
              1,
              "#f0f921"
             ]
            ],
            "type": "histogram2d"
           }
          ],
          "histogram2dcontour": [
           {
            "colorbar": {
             "outlinewidth": 0,
             "ticks": ""
            },
            "colorscale": [
             [
              0,
              "#0d0887"
             ],
             [
              0.1111111111111111,
              "#46039f"
             ],
             [
              0.2222222222222222,
              "#7201a8"
             ],
             [
              0.3333333333333333,
              "#9c179e"
             ],
             [
              0.4444444444444444,
              "#bd3786"
             ],
             [
              0.5555555555555556,
              "#d8576b"
             ],
             [
              0.6666666666666666,
              "#ed7953"
             ],
             [
              0.7777777777777778,
              "#fb9f3a"
             ],
             [
              0.8888888888888888,
              "#fdca26"
             ],
             [
              1,
              "#f0f921"
             ]
            ],
            "type": "histogram2dcontour"
           }
          ],
          "mesh3d": [
           {
            "colorbar": {
             "outlinewidth": 0,
             "ticks": ""
            },
            "type": "mesh3d"
           }
          ],
          "parcoords": [
           {
            "line": {
             "colorbar": {
              "outlinewidth": 0,
              "ticks": ""
             }
            },
            "type": "parcoords"
           }
          ],
          "pie": [
           {
            "automargin": true,
            "type": "pie"
           }
          ],
          "scatter": [
           {
            "fillpattern": {
             "fillmode": "overlay",
             "size": 10,
             "solidity": 0.2
            },
            "type": "scatter"
           }
          ],
          "scatter3d": [
           {
            "line": {
             "colorbar": {
              "outlinewidth": 0,
              "ticks": ""
             }
            },
            "marker": {
             "colorbar": {
              "outlinewidth": 0,
              "ticks": ""
             }
            },
            "type": "scatter3d"
           }
          ],
          "scattercarpet": [
           {
            "marker": {
             "colorbar": {
              "outlinewidth": 0,
              "ticks": ""
             }
            },
            "type": "scattercarpet"
           }
          ],
          "scattergeo": [
           {
            "marker": {
             "colorbar": {
              "outlinewidth": 0,
              "ticks": ""
             }
            },
            "type": "scattergeo"
           }
          ],
          "scattergl": [
           {
            "marker": {
             "colorbar": {
              "outlinewidth": 0,
              "ticks": ""
             }
            },
            "type": "scattergl"
           }
          ],
          "scattermapbox": [
           {
            "marker": {
             "colorbar": {
              "outlinewidth": 0,
              "ticks": ""
             }
            },
            "type": "scattermapbox"
           }
          ],
          "scatterpolar": [
           {
            "marker": {
             "colorbar": {
              "outlinewidth": 0,
              "ticks": ""
             }
            },
            "type": "scatterpolar"
           }
          ],
          "scatterpolargl": [
           {
            "marker": {
             "colorbar": {
              "outlinewidth": 0,
              "ticks": ""
             }
            },
            "type": "scatterpolargl"
           }
          ],
          "scatterternary": [
           {
            "marker": {
             "colorbar": {
              "outlinewidth": 0,
              "ticks": ""
             }
            },
            "type": "scatterternary"
           }
          ],
          "surface": [
           {
            "colorbar": {
             "outlinewidth": 0,
             "ticks": ""
            },
            "colorscale": [
             [
              0,
              "#0d0887"
             ],
             [
              0.1111111111111111,
              "#46039f"
             ],
             [
              0.2222222222222222,
              "#7201a8"
             ],
             [
              0.3333333333333333,
              "#9c179e"
             ],
             [
              0.4444444444444444,
              "#bd3786"
             ],
             [
              0.5555555555555556,
              "#d8576b"
             ],
             [
              0.6666666666666666,
              "#ed7953"
             ],
             [
              0.7777777777777778,
              "#fb9f3a"
             ],
             [
              0.8888888888888888,
              "#fdca26"
             ],
             [
              1,
              "#f0f921"
             ]
            ],
            "type": "surface"
           }
          ],
          "table": [
           {
            "cells": {
             "fill": {
              "color": "#EBF0F8"
             },
             "line": {
              "color": "white"
             }
            },
            "header": {
             "fill": {
              "color": "#C8D4E3"
             },
             "line": {
              "color": "white"
             }
            },
            "type": "table"
           }
          ]
         },
         "layout": {
          "annotationdefaults": {
           "arrowcolor": "#2a3f5f",
           "arrowhead": 0,
           "arrowwidth": 1
          },
          "autotypenumbers": "strict",
          "coloraxis": {
           "colorbar": {
            "outlinewidth": 0,
            "ticks": ""
           }
          },
          "colorscale": {
           "diverging": [
            [
             0,
             "#8e0152"
            ],
            [
             0.1,
             "#c51b7d"
            ],
            [
             0.2,
             "#de77ae"
            ],
            [
             0.3,
             "#f1b6da"
            ],
            [
             0.4,
             "#fde0ef"
            ],
            [
             0.5,
             "#f7f7f7"
            ],
            [
             0.6,
             "#e6f5d0"
            ],
            [
             0.7,
             "#b8e186"
            ],
            [
             0.8,
             "#7fbc41"
            ],
            [
             0.9,
             "#4d9221"
            ],
            [
             1,
             "#276419"
            ]
           ],
           "sequential": [
            [
             0,
             "#0d0887"
            ],
            [
             0.1111111111111111,
             "#46039f"
            ],
            [
             0.2222222222222222,
             "#7201a8"
            ],
            [
             0.3333333333333333,
             "#9c179e"
            ],
            [
             0.4444444444444444,
             "#bd3786"
            ],
            [
             0.5555555555555556,
             "#d8576b"
            ],
            [
             0.6666666666666666,
             "#ed7953"
            ],
            [
             0.7777777777777778,
             "#fb9f3a"
            ],
            [
             0.8888888888888888,
             "#fdca26"
            ],
            [
             1,
             "#f0f921"
            ]
           ],
           "sequentialminus": [
            [
             0,
             "#0d0887"
            ],
            [
             0.1111111111111111,
             "#46039f"
            ],
            [
             0.2222222222222222,
             "#7201a8"
            ],
            [
             0.3333333333333333,
             "#9c179e"
            ],
            [
             0.4444444444444444,
             "#bd3786"
            ],
            [
             0.5555555555555556,
             "#d8576b"
            ],
            [
             0.6666666666666666,
             "#ed7953"
            ],
            [
             0.7777777777777778,
             "#fb9f3a"
            ],
            [
             0.8888888888888888,
             "#fdca26"
            ],
            [
             1,
             "#f0f921"
            ]
           ]
          },
          "colorway": [
           "#636efa",
           "#EF553B",
           "#00cc96",
           "#ab63fa",
           "#FFA15A",
           "#19d3f3",
           "#FF6692",
           "#B6E880",
           "#FF97FF",
           "#FECB52"
          ],
          "font": {
           "color": "#2a3f5f"
          },
          "geo": {
           "bgcolor": "white",
           "lakecolor": "white",
           "landcolor": "#E5ECF6",
           "showlakes": true,
           "showland": true,
           "subunitcolor": "white"
          },
          "hoverlabel": {
           "align": "left"
          },
          "hovermode": "closest",
          "mapbox": {
           "style": "light"
          },
          "paper_bgcolor": "white",
          "plot_bgcolor": "#E5ECF6",
          "polar": {
           "angularaxis": {
            "gridcolor": "white",
            "linecolor": "white",
            "ticks": ""
           },
           "bgcolor": "#E5ECF6",
           "radialaxis": {
            "gridcolor": "white",
            "linecolor": "white",
            "ticks": ""
           }
          },
          "scene": {
           "xaxis": {
            "backgroundcolor": "#E5ECF6",
            "gridcolor": "white",
            "gridwidth": 2,
            "linecolor": "white",
            "showbackground": true,
            "ticks": "",
            "zerolinecolor": "white"
           },
           "yaxis": {
            "backgroundcolor": "#E5ECF6",
            "gridcolor": "white",
            "gridwidth": 2,
            "linecolor": "white",
            "showbackground": true,
            "ticks": "",
            "zerolinecolor": "white"
           },
           "zaxis": {
            "backgroundcolor": "#E5ECF6",
            "gridcolor": "white",
            "gridwidth": 2,
            "linecolor": "white",
            "showbackground": true,
            "ticks": "",
            "zerolinecolor": "white"
           }
          },
          "shapedefaults": {
           "line": {
            "color": "#2a3f5f"
           }
          },
          "ternary": {
           "aaxis": {
            "gridcolor": "white",
            "linecolor": "white",
            "ticks": ""
           },
           "baxis": {
            "gridcolor": "white",
            "linecolor": "white",
            "ticks": ""
           },
           "bgcolor": "#E5ECF6",
           "caxis": {
            "gridcolor": "white",
            "linecolor": "white",
            "ticks": ""
           }
          },
          "title": {
           "x": 0.05
          },
          "xaxis": {
           "automargin": true,
           "gridcolor": "white",
           "linecolor": "white",
           "ticks": "",
           "title": {
            "standoff": 15
           },
           "zerolinecolor": "white",
           "zerolinewidth": 2
          },
          "yaxis": {
           "automargin": true,
           "gridcolor": "white",
           "linecolor": "white",
           "ticks": "",
           "title": {
            "standoff": 15
           },
           "zerolinecolor": "white",
           "zerolinewidth": 2
          }
         }
        },
        "title": {
         "text": "Fitness evolution"
        },
        "xaxis": {
         "anchor": "y",
         "domain": [
          0,
          1
         ],
         "title": {
          "text": "generation"
         }
        },
        "yaxis": {
         "anchor": "x",
         "domain": [
          0,
          1
         ],
         "title": {
          "text": "fitness"
         },
         "type": "log"
        }
       }
      }
     },
     "metadata": {},
     "output_type": "display_data"
    }
   ],
   "source": [
    "viewer.fitness_evolution()"
   ]
  },
  {
   "cell_type": "code",
   "execution_count": 20,
   "metadata": {},
   "outputs": [
    {
     "data": {
      "application/vnd.plotly.v1+json": {
       "config": {
        "plotlyServerURL": "https://plot.ly"
       },
       "data": [
        {
         "alignmentgroup": "True",
         "hovertemplate": "D1N1_energy_coefficient=%{y}<extra></extra>",
         "legendgroup": "",
         "marker": {
          "color": "#636efa"
         },
         "name": "",
         "notched": false,
         "offsetgroup": "",
         "orientation": "v",
         "showlegend": false,
         "type": "box",
         "x0": " ",
         "xaxis": "x",
         "y": [
          0.0727373688325179,
          0.0727373688325179,
          0.0727373688325179,
          0.0727373688325179,
          0.0727373688325179,
          0.24258445622596658,
          0.24258445622596658,
          0.24258445622596658,
          0.24258445622596658,
          0.24258445622596658,
          0.24258445622596658,
          0.24258445622596658,
          0.0727373688325179,
          0.0727373688325179,
          0.0727373688325179,
          0.0727373688325179,
          0.0727373688325179,
          0.0727373688325179,
          0.0727373688325179,
          0.11990121769246115,
          0.0727373688325179,
          0.0727373688325179,
          0.24258445622596658,
          0.24258445622596658,
          0.24258445622596658,
          0.24258445622596658,
          0.24258445622596658,
          0.31690567729986013,
          0.030176590324777104,
          0.030176590324777104,
          0.030176590324777104,
          0.07803804513150013,
          0.32315556248179605,
          0.32315556248179605,
          0.3216631892018086,
          0.0727373688325179,
          0.31690567729986013,
          0.3372461665614065,
          0.34855040071434373
         ],
         "y0": " ",
         "yaxis": "y"
        },
        {
         "alignmentgroup": "True",
         "hovertemplate": "D1N1_tr_max=%{y}<extra></extra>",
         "legendgroup": "",
         "marker": {
          "color": "#636efa"
         },
         "name": "",
         "notched": false,
         "offsetgroup": "",
         "orientation": "v",
         "showlegend": false,
         "type": "box",
         "x0": " ",
         "xaxis": "x2",
         "y": [
          18.227269214407084,
          18.227269214407084,
          18.227269214407084,
          18.227269214407084,
          18.227269214407084,
          18.227269214407084,
          27.19290710174124,
          27.19290710174124,
          27.19290710174124,
          27.19290710174124,
          27.19290710174124,
          27.19290710174124,
          18.227269214407084,
          18.227269214407084,
          18.227269214407084,
          18.227269214407084,
          18.227269214407084,
          27.19290710174124,
          18.227269214407084,
          6.532214944510412,
          35.97240582900494,
          18.227269214407084,
          27.19290710174124,
          0.9708090984387674,
          0.9708090984387674,
          27.19290710174124,
          18.227269214407084,
          5.318290171017859,
          41.61077423506823,
          41.61077423506823,
          41.61077423506823,
          30.598138480689315,
          35.97240582900494,
          18.227269214407084,
          36.26095858342201,
          35.97240582900494,
          5.318290171017859,
          40.1815066265724,
          41.40607379095947
         ],
         "y0": " ",
         "yaxis": "y2"
        },
        {
         "alignmentgroup": "True",
         "hovertemplate": "D1N1_tr_rate=%{y}<extra></extra>",
         "legendgroup": "",
         "marker": {
          "color": "#636efa"
         },
         "name": "",
         "notched": false,
         "offsetgroup": "",
         "orientation": "v",
         "showlegend": false,
         "type": "box",
         "x0": " ",
         "xaxis": "x3",
         "y": [
          -0.031907643279459,
          -0.031907643279459,
          -0.031907643279459,
          -0.031907643279459,
          -0.031907643279459,
          -0.031907643279459,
          -0.2514009359181425,
          -0.2514009359181425,
          -0.2514009359181425,
          -0.2514009359181425,
          -0.2514009359181425,
          -0.2514009359181425,
          -0.031907643279459,
          -0.031907643279459,
          -0.031907643279459,
          -0.031907643279459,
          -0.031907643279459,
          -0.2514009359181425,
          -0.031907643279459,
          -0.1365351012685885,
          -0.24677952626699548,
          -0.031907643279459,
          -0.2514009359181425,
          -0.1201410908344451,
          -0.1201410908344451,
          -0.2514009359181425,
          -0.031907643279459,
          -0.267863959840161,
          -0.017512709399002346,
          -0.017512709399002346,
          -0.017512709399002346,
          -0.09019004589871427,
          -0.24677952626699548,
          -0.031907643279459,
          -0.14712690602919415,
          -0.24677952626699548,
          -0.267863959840161,
          -0.0878856971744574,
          -0.2820126152854158
         ],
         "y0": " ",
         "yaxis": "y3"
        },
        {
         "alignmentgroup": "True",
         "hovertemplate": "D1N1_inv_lambda_max=%{y}<extra></extra>",
         "legendgroup": "",
         "marker": {
          "color": "#636efa"
         },
         "name": "",
         "notched": false,
         "offsetgroup": "",
         "orientation": "v",
         "showlegend": false,
         "type": "box",
         "x0": " ",
         "xaxis": "x4",
         "y": [
          354.599949700534,
          308.3261278486888,
          308.3261278486888,
          308.3261278486888,
          308.3261278486888,
          354.599949700534,
          3.4833820844517027,
          354.599949700534,
          354.599949700534,
          354.599949700534,
          354.599949700534,
          354.599949700534,
          354.599949700534,
          354.599949700534,
          354.599949700534,
          354.599949700534,
          354.599949700534,
          354.599949700534,
          308.3261278486888,
          117.15745974549402,
          93.1087775246256,
          308.3261278486888,
          308.3261278486888,
          308.3261278486888,
          3.4833820844517027,
          3.4833820844517027,
          354.599949700534,
          308.3261278486888,
          38.56038469818635,
          38.56038469818635,
          38.56038469818635,
          449.36131070151305,
          93.1087775246256,
          354.599949700534,
          294.31297604479334,
          93.1087775246256,
          3.4833820844517027,
          55.95333034214634,
          218.78806780382192
         ],
         "y0": " ",
         "yaxis": "y4"
        },
        {
         "alignmentgroup": "True",
         "hovertemplate": "D1N1_inv_lambda_rate=%{y}<extra></extra>",
         "legendgroup": "",
         "marker": {
          "color": "#636efa"
         },
         "name": "",
         "notched": false,
         "offsetgroup": "",
         "orientation": "v",
         "showlegend": false,
         "type": "box",
         "x0": " ",
         "xaxis": "x5",
         "y": [
          -0.17471674300721723,
          -0.17471674300721723,
          -0.17471674300721723,
          -0.17471674300721723,
          -0.17471674300721723,
          -0.2280048802651461,
          -0.07416362632025439,
          -0.2280048802651461,
          -0.2280048802651461,
          -0.2280048802651461,
          -0.2280048802651461,
          -0.2280048802651461,
          -0.2280048802651461,
          -0.2150185001646564,
          -0.2280048802651461,
          -0.2280048802651461,
          -0.2280048802651461,
          -0.2280048802651461,
          -0.2150185001646564,
          -0.28678627128628414,
          -0.19139039819438342,
          -0.17471674300721723,
          -0.17471674300721723,
          -0.17471674300721723,
          -0.07416362632025439,
          -0.07416362632025439,
          -0.2280048802651461,
          -0.17471674300721723,
          -0.24829640242568865,
          -0.24829640242568865,
          -0.24829640242568865,
          -0.11715353735410075,
          -0.19139039819438342,
          -0.2280048802651461,
          -0.25211820049252553,
          -0.19139039819438342,
          -0.07416362632025439,
          -0.014420819743025504,
          -0.02985516492193835
         ],
         "y0": " ",
         "yaxis": "y5"
        },
        {
         "alignmentgroup": "True",
         "hovertemplate": "D2N1_energy_coefficient=%{y}<extra></extra>",
         "legendgroup": "",
         "marker": {
          "color": "#636efa"
         },
         "name": "",
         "notched": false,
         "offsetgroup": "",
         "orientation": "v",
         "showlegend": false,
         "type": "box",
         "x0": " ",
         "xaxis": "x6",
         "y": [
          0.012998695644359681,
          0.012998695644359681,
          0.012998695644359681,
          0.012998695644359681,
          0.012998695644359681,
          0.03335362603192982,
          0.16167928399332024,
          0.03335362603192982,
          0.03335362603192982,
          0.03335362603192982,
          0.03335362603192982,
          0.03335362603192982,
          0.012998695644359681,
          0.01173776634595864,
          0.012998695644359681,
          0.012998695644359681,
          0.012998695644359681,
          0.012998695644359681,
          0.01173776634595864,
          0.25015993265387354,
          0.012998695644359681,
          0.012998695644359681,
          0.03335362603192982,
          0.03335362603192982,
          0.012998695644359681,
          0.012998695644359681,
          0.03335362603192982,
          0.03335362603192982,
          0.33500402080043357,
          0.33500402080043357,
          0.33500402080043357,
          0.3738673954728653,
          0.06580045809483283,
          0.06580045809483283,
          0.18737742972586044,
          0.16167928399332024,
          0.16167928399332024,
          0.3777268369121192,
          0.10175613865530783
         ],
         "y0": " ",
         "yaxis": "y6"
        },
        {
         "alignmentgroup": "True",
         "hovertemplate": "D2N1_tr_max=%{y}<extra></extra>",
         "legendgroup": "",
         "marker": {
          "color": "#636efa"
         },
         "name": "",
         "notched": false,
         "offsetgroup": "",
         "orientation": "v",
         "showlegend": false,
         "type": "box",
         "x0": " ",
         "xaxis": "x7",
         "y": [
          39.82810112661193,
          39.82810112661193,
          39.82810112661193,
          39.82810112661193,
          39.82810112661193,
          44.3644263889436,
          32.35637678564043,
          44.3644263889436,
          44.3644263889436,
          44.3644263889436,
          44.3644263889436,
          44.3644263889436,
          39.82810112661193,
          8.633937431221927,
          39.82810112661193,
          39.82810112661193,
          39.82810112661193,
          39.82810112661193,
          8.633937431221927,
          32.72114973630858,
          39.82810112661193,
          44.3644263889436,
          44.3644263889436,
          44.3644263889436,
          39.82810112661193,
          39.82810112661193,
          39.82810112661193,
          44.3644263889436,
          45.61069972022733,
          45.61069972022733,
          45.61069972022733,
          43.18328075213297,
          8.910788045456307,
          8.910788045456307,
          32.167410783978426,
          32.35637678564043,
          32.35637678564043,
          31.692080412191714,
          8.034223918978695
         ],
         "y0": " ",
         "yaxis": "y7"
        },
        {
         "alignmentgroup": "True",
         "hovertemplate": "D2N1_tr_rate=%{y}<extra></extra>",
         "legendgroup": "",
         "marker": {
          "color": "#636efa"
         },
         "name": "",
         "notched": false,
         "offsetgroup": "",
         "orientation": "v",
         "showlegend": false,
         "type": "box",
         "x0": " ",
         "xaxis": "x8",
         "y": [
          -0.10618675802672037,
          -0.10618675802672037,
          -0.10618675802672037,
          -0.10618675802672037,
          -0.10618675802672037,
          -0.07475157941711016,
          -0.027028821430219674,
          -0.07475157941711016,
          -0.07475157941711016,
          -0.07475157941711016,
          -0.07475157941711016,
          -0.07475157941711016,
          -0.10618675802672037,
          -0.10618675802672037,
          -0.10618675802672037,
          -0.10618675802672037,
          -0.10618675802672037,
          -0.10618675802672037,
          -0.10618675802672037,
          -0.2514515401207268,
          -0.10618675802672037,
          -0.07475157941711016,
          -0.07475157941711016,
          -0.07475157941711016,
          -0.027028821430219674,
          -0.027028821430219674,
          -0.10618675802672037,
          -0.07475157941711016,
          -0.18937010550259203,
          -0.18937010550259203,
          -0.18937010550259203,
          -0.2671122259597826,
          -0.04615142101957265,
          -0.04615142101957265,
          -0.05989959849383927,
          -0.10618675802672037,
          -0.027028821430219674,
          -0.16901681446560948,
          -0.015353476253534226
         ],
         "y0": " ",
         "yaxis": "y8"
        },
        {
         "alignmentgroup": "True",
         "hovertemplate": "D2N1_inv_lambda_max=%{y}<extra></extra>",
         "legendgroup": "",
         "marker": {
          "color": "#636efa"
         },
         "name": "",
         "notched": false,
         "offsetgroup": "",
         "orientation": "v",
         "showlegend": false,
         "type": "box",
         "x0": " ",
         "xaxis": "x9",
         "y": [
          275.15893854485176,
          275.15893854485176,
          275.15893854485176,
          275.15893854485176,
          275.15893854485176,
          256.5508596939155,
          374.3912807173248,
          256.5508596939155,
          256.5508596939155,
          256.5508596939155,
          256.5508596939155,
          256.5508596939155,
          412.32098539478557,
          275.15893854485176,
          275.15893854485176,
          275.15893854485176,
          275.15893854485176,
          275.15893854485176,
          275.15893854485176,
          50.20197870652776,
          275.15893854485176,
          256.5508596939155,
          256.5508596939155,
          312.97207802897947,
          312.97207802897947,
          256.5508596939155,
          275.15893854485176,
          256.5508596939155,
          88.01268228725306,
          88.01268228725306,
          88.01268228725306,
          351.1009746910222,
          430.75096615957017,
          430.75096615957017,
          388.19364223319667,
          275.15893854485176,
          374.3912807173248,
          495.0746221171042,
          489.8135658017998
         ],
         "y0": " ",
         "yaxis": "y9"
        },
        {
         "alignmentgroup": "True",
         "hovertemplate": "D2N1_inv_lambda_rate=%{y}<extra></extra>",
         "legendgroup": "",
         "marker": {
          "color": "#636efa"
         },
         "name": "",
         "notched": false,
         "offsetgroup": "",
         "orientation": "v",
         "showlegend": false,
         "type": "box",
         "x0": " ",
         "xaxis": "x10",
         "y": [
          -0.08398170629197424,
          -0.08398170629197424,
          -0.08398170629197424,
          -0.08398170629197424,
          -0.08398170629197424,
          -0.2689611576736889,
          -0.2689611576736889,
          -0.2689611576736889,
          -0.2689611576736889,
          -0.2689611576736889,
          -0.2689611576736889,
          -0.2689611576736889,
          -0.08398170629197424,
          -0.08398170629197424,
          -0.08398170629197424,
          -0.08398170629197424,
          -0.08398170629197424,
          -0.08398170629197424,
          -0.08398170629197424,
          -0.1536276633836785,
          -0.08398170629197424,
          -0.2689611576736889,
          -0.2689611576736889,
          -0.2689611576736889,
          -0.2689611576736889,
          -0.2689611576736889,
          -0.08398170629197424,
          -0.08905465938635329,
          -0.11230871565306821,
          -0.11230871565306821,
          -0.11230871565306821,
          -0.23242402359526013,
          -0.07912778648729812,
          -0.07912778648729812,
          -0.11729557990165304,
          -0.08398170629197424,
          -0.08905465938635329,
          -0.29292660683110827,
          -0.22947505312156063
         ],
         "y0": " ",
         "yaxis": "y10"
        }
       ],
       "layout": {
        "annotations": [
         {
          "font": {
           "size": 16
          },
          "showarrow": false,
          "text": "D1N1_energy_coefficient",
          "x": 0.13333333333333333,
          "xanchor": "center",
          "xref": "paper",
          "y": 1,
          "yanchor": "bottom",
          "yref": "paper"
         },
         {
          "font": {
           "size": 16
          },
          "showarrow": false,
          "text": "D1N1_tr_max",
          "x": 0.5,
          "xanchor": "center",
          "xref": "paper",
          "y": 1,
          "yanchor": "bottom",
          "yref": "paper"
         },
         {
          "font": {
           "size": 16
          },
          "showarrow": false,
          "text": "D1N1_tr_rate",
          "x": 0.8666666666666667,
          "xanchor": "center",
          "xref": "paper",
          "y": 1,
          "yanchor": "bottom",
          "yref": "paper"
         },
         {
          "font": {
           "size": 16
          },
          "showarrow": false,
          "text": "D1N1_inv_lambda_max",
          "x": 0.13333333333333333,
          "xanchor": "center",
          "xref": "paper",
          "y": 0.7250000000000001,
          "yanchor": "bottom",
          "yref": "paper"
         },
         {
          "font": {
           "size": 16
          },
          "showarrow": false,
          "text": "D1N1_inv_lambda_rate",
          "x": 0.5,
          "xanchor": "center",
          "xref": "paper",
          "y": 0.7250000000000001,
          "yanchor": "bottom",
          "yref": "paper"
         },
         {
          "font": {
           "size": 16
          },
          "showarrow": false,
          "text": "D2N1_energy_coefficient",
          "x": 0.8666666666666667,
          "xanchor": "center",
          "xref": "paper",
          "y": 0.7250000000000001,
          "yanchor": "bottom",
          "yref": "paper"
         },
         {
          "font": {
           "size": 16
          },
          "showarrow": false,
          "text": "D2N1_tr_max",
          "x": 0.13333333333333333,
          "xanchor": "center",
          "xref": "paper",
          "y": 0.45,
          "yanchor": "bottom",
          "yref": "paper"
         },
         {
          "font": {
           "size": 16
          },
          "showarrow": false,
          "text": "D2N1_tr_rate",
          "x": 0.5,
          "xanchor": "center",
          "xref": "paper",
          "y": 0.45,
          "yanchor": "bottom",
          "yref": "paper"
         },
         {
          "font": {
           "size": 16
          },
          "showarrow": false,
          "text": "D2N1_inv_lambda_max",
          "x": 0.8666666666666667,
          "xanchor": "center",
          "xref": "paper",
          "y": 0.45,
          "yanchor": "bottom",
          "yref": "paper"
         },
         {
          "font": {
           "size": 16
          },
          "showarrow": false,
          "text": "D2N1_inv_lambda_rate",
          "x": 0.13333333333333333,
          "xanchor": "center",
          "xref": "paper",
          "y": 0.175,
          "yanchor": "bottom",
          "yref": "paper"
         }
        ],
        "height": 1200,
        "template": {
         "data": {
          "bar": [
           {
            "error_x": {
             "color": "#2a3f5f"
            },
            "error_y": {
             "color": "#2a3f5f"
            },
            "marker": {
             "line": {
              "color": "#E5ECF6",
              "width": 0.5
             },
             "pattern": {
              "fillmode": "overlay",
              "size": 10,
              "solidity": 0.2
             }
            },
            "type": "bar"
           }
          ],
          "barpolar": [
           {
            "marker": {
             "line": {
              "color": "#E5ECF6",
              "width": 0.5
             },
             "pattern": {
              "fillmode": "overlay",
              "size": 10,
              "solidity": 0.2
             }
            },
            "type": "barpolar"
           }
          ],
          "carpet": [
           {
            "aaxis": {
             "endlinecolor": "#2a3f5f",
             "gridcolor": "white",
             "linecolor": "white",
             "minorgridcolor": "white",
             "startlinecolor": "#2a3f5f"
            },
            "baxis": {
             "endlinecolor": "#2a3f5f",
             "gridcolor": "white",
             "linecolor": "white",
             "minorgridcolor": "white",
             "startlinecolor": "#2a3f5f"
            },
            "type": "carpet"
           }
          ],
          "choropleth": [
           {
            "colorbar": {
             "outlinewidth": 0,
             "ticks": ""
            },
            "type": "choropleth"
           }
          ],
          "contour": [
           {
            "colorbar": {
             "outlinewidth": 0,
             "ticks": ""
            },
            "colorscale": [
             [
              0,
              "#0d0887"
             ],
             [
              0.1111111111111111,
              "#46039f"
             ],
             [
              0.2222222222222222,
              "#7201a8"
             ],
             [
              0.3333333333333333,
              "#9c179e"
             ],
             [
              0.4444444444444444,
              "#bd3786"
             ],
             [
              0.5555555555555556,
              "#d8576b"
             ],
             [
              0.6666666666666666,
              "#ed7953"
             ],
             [
              0.7777777777777778,
              "#fb9f3a"
             ],
             [
              0.8888888888888888,
              "#fdca26"
             ],
             [
              1,
              "#f0f921"
             ]
            ],
            "type": "contour"
           }
          ],
          "contourcarpet": [
           {
            "colorbar": {
             "outlinewidth": 0,
             "ticks": ""
            },
            "type": "contourcarpet"
           }
          ],
          "heatmap": [
           {
            "colorbar": {
             "outlinewidth": 0,
             "ticks": ""
            },
            "colorscale": [
             [
              0,
              "#0d0887"
             ],
             [
              0.1111111111111111,
              "#46039f"
             ],
             [
              0.2222222222222222,
              "#7201a8"
             ],
             [
              0.3333333333333333,
              "#9c179e"
             ],
             [
              0.4444444444444444,
              "#bd3786"
             ],
             [
              0.5555555555555556,
              "#d8576b"
             ],
             [
              0.6666666666666666,
              "#ed7953"
             ],
             [
              0.7777777777777778,
              "#fb9f3a"
             ],
             [
              0.8888888888888888,
              "#fdca26"
             ],
             [
              1,
              "#f0f921"
             ]
            ],
            "type": "heatmap"
           }
          ],
          "heatmapgl": [
           {
            "colorbar": {
             "outlinewidth": 0,
             "ticks": ""
            },
            "colorscale": [
             [
              0,
              "#0d0887"
             ],
             [
              0.1111111111111111,
              "#46039f"
             ],
             [
              0.2222222222222222,
              "#7201a8"
             ],
             [
              0.3333333333333333,
              "#9c179e"
             ],
             [
              0.4444444444444444,
              "#bd3786"
             ],
             [
              0.5555555555555556,
              "#d8576b"
             ],
             [
              0.6666666666666666,
              "#ed7953"
             ],
             [
              0.7777777777777778,
              "#fb9f3a"
             ],
             [
              0.8888888888888888,
              "#fdca26"
             ],
             [
              1,
              "#f0f921"
             ]
            ],
            "type": "heatmapgl"
           }
          ],
          "histogram": [
           {
            "marker": {
             "pattern": {
              "fillmode": "overlay",
              "size": 10,
              "solidity": 0.2
             }
            },
            "type": "histogram"
           }
          ],
          "histogram2d": [
           {
            "colorbar": {
             "outlinewidth": 0,
             "ticks": ""
            },
            "colorscale": [
             [
              0,
              "#0d0887"
             ],
             [
              0.1111111111111111,
              "#46039f"
             ],
             [
              0.2222222222222222,
              "#7201a8"
             ],
             [
              0.3333333333333333,
              "#9c179e"
             ],
             [
              0.4444444444444444,
              "#bd3786"
             ],
             [
              0.5555555555555556,
              "#d8576b"
             ],
             [
              0.6666666666666666,
              "#ed7953"
             ],
             [
              0.7777777777777778,
              "#fb9f3a"
             ],
             [
              0.8888888888888888,
              "#fdca26"
             ],
             [
              1,
              "#f0f921"
             ]
            ],
            "type": "histogram2d"
           }
          ],
          "histogram2dcontour": [
           {
            "colorbar": {
             "outlinewidth": 0,
             "ticks": ""
            },
            "colorscale": [
             [
              0,
              "#0d0887"
             ],
             [
              0.1111111111111111,
              "#46039f"
             ],
             [
              0.2222222222222222,
              "#7201a8"
             ],
             [
              0.3333333333333333,
              "#9c179e"
             ],
             [
              0.4444444444444444,
              "#bd3786"
             ],
             [
              0.5555555555555556,
              "#d8576b"
             ],
             [
              0.6666666666666666,
              "#ed7953"
             ],
             [
              0.7777777777777778,
              "#fb9f3a"
             ],
             [
              0.8888888888888888,
              "#fdca26"
             ],
             [
              1,
              "#f0f921"
             ]
            ],
            "type": "histogram2dcontour"
           }
          ],
          "mesh3d": [
           {
            "colorbar": {
             "outlinewidth": 0,
             "ticks": ""
            },
            "type": "mesh3d"
           }
          ],
          "parcoords": [
           {
            "line": {
             "colorbar": {
              "outlinewidth": 0,
              "ticks": ""
             }
            },
            "type": "parcoords"
           }
          ],
          "pie": [
           {
            "automargin": true,
            "type": "pie"
           }
          ],
          "scatter": [
           {
            "fillpattern": {
             "fillmode": "overlay",
             "size": 10,
             "solidity": 0.2
            },
            "type": "scatter"
           }
          ],
          "scatter3d": [
           {
            "line": {
             "colorbar": {
              "outlinewidth": 0,
              "ticks": ""
             }
            },
            "marker": {
             "colorbar": {
              "outlinewidth": 0,
              "ticks": ""
             }
            },
            "type": "scatter3d"
           }
          ],
          "scattercarpet": [
           {
            "marker": {
             "colorbar": {
              "outlinewidth": 0,
              "ticks": ""
             }
            },
            "type": "scattercarpet"
           }
          ],
          "scattergeo": [
           {
            "marker": {
             "colorbar": {
              "outlinewidth": 0,
              "ticks": ""
             }
            },
            "type": "scattergeo"
           }
          ],
          "scattergl": [
           {
            "marker": {
             "colorbar": {
              "outlinewidth": 0,
              "ticks": ""
             }
            },
            "type": "scattergl"
           }
          ],
          "scattermapbox": [
           {
            "marker": {
             "colorbar": {
              "outlinewidth": 0,
              "ticks": ""
             }
            },
            "type": "scattermapbox"
           }
          ],
          "scatterpolar": [
           {
            "marker": {
             "colorbar": {
              "outlinewidth": 0,
              "ticks": ""
             }
            },
            "type": "scatterpolar"
           }
          ],
          "scatterpolargl": [
           {
            "marker": {
             "colorbar": {
              "outlinewidth": 0,
              "ticks": ""
             }
            },
            "type": "scatterpolargl"
           }
          ],
          "scatterternary": [
           {
            "marker": {
             "colorbar": {
              "outlinewidth": 0,
              "ticks": ""
             }
            },
            "type": "scatterternary"
           }
          ],
          "surface": [
           {
            "colorbar": {
             "outlinewidth": 0,
             "ticks": ""
            },
            "colorscale": [
             [
              0,
              "#0d0887"
             ],
             [
              0.1111111111111111,
              "#46039f"
             ],
             [
              0.2222222222222222,
              "#7201a8"
             ],
             [
              0.3333333333333333,
              "#9c179e"
             ],
             [
              0.4444444444444444,
              "#bd3786"
             ],
             [
              0.5555555555555556,
              "#d8576b"
             ],
             [
              0.6666666666666666,
              "#ed7953"
             ],
             [
              0.7777777777777778,
              "#fb9f3a"
             ],
             [
              0.8888888888888888,
              "#fdca26"
             ],
             [
              1,
              "#f0f921"
             ]
            ],
            "type": "surface"
           }
          ],
          "table": [
           {
            "cells": {
             "fill": {
              "color": "#EBF0F8"
             },
             "line": {
              "color": "white"
             }
            },
            "header": {
             "fill": {
              "color": "#C8D4E3"
             },
             "line": {
              "color": "white"
             }
            },
            "type": "table"
           }
          ]
         },
         "layout": {
          "annotationdefaults": {
           "arrowcolor": "#2a3f5f",
           "arrowhead": 0,
           "arrowwidth": 1
          },
          "autotypenumbers": "strict",
          "coloraxis": {
           "colorbar": {
            "outlinewidth": 0,
            "ticks": ""
           }
          },
          "colorscale": {
           "diverging": [
            [
             0,
             "#8e0152"
            ],
            [
             0.1,
             "#c51b7d"
            ],
            [
             0.2,
             "#de77ae"
            ],
            [
             0.3,
             "#f1b6da"
            ],
            [
             0.4,
             "#fde0ef"
            ],
            [
             0.5,
             "#f7f7f7"
            ],
            [
             0.6,
             "#e6f5d0"
            ],
            [
             0.7,
             "#b8e186"
            ],
            [
             0.8,
             "#7fbc41"
            ],
            [
             0.9,
             "#4d9221"
            ],
            [
             1,
             "#276419"
            ]
           ],
           "sequential": [
            [
             0,
             "#0d0887"
            ],
            [
             0.1111111111111111,
             "#46039f"
            ],
            [
             0.2222222222222222,
             "#7201a8"
            ],
            [
             0.3333333333333333,
             "#9c179e"
            ],
            [
             0.4444444444444444,
             "#bd3786"
            ],
            [
             0.5555555555555556,
             "#d8576b"
            ],
            [
             0.6666666666666666,
             "#ed7953"
            ],
            [
             0.7777777777777778,
             "#fb9f3a"
            ],
            [
             0.8888888888888888,
             "#fdca26"
            ],
            [
             1,
             "#f0f921"
            ]
           ],
           "sequentialminus": [
            [
             0,
             "#0d0887"
            ],
            [
             0.1111111111111111,
             "#46039f"
            ],
            [
             0.2222222222222222,
             "#7201a8"
            ],
            [
             0.3333333333333333,
             "#9c179e"
            ],
            [
             0.4444444444444444,
             "#bd3786"
            ],
            [
             0.5555555555555556,
             "#d8576b"
            ],
            [
             0.6666666666666666,
             "#ed7953"
            ],
            [
             0.7777777777777778,
             "#fb9f3a"
            ],
            [
             0.8888888888888888,
             "#fdca26"
            ],
            [
             1,
             "#f0f921"
            ]
           ]
          },
          "colorway": [
           "#636efa",
           "#EF553B",
           "#00cc96",
           "#ab63fa",
           "#FFA15A",
           "#19d3f3",
           "#FF6692",
           "#B6E880",
           "#FF97FF",
           "#FECB52"
          ],
          "font": {
           "color": "#2a3f5f"
          },
          "geo": {
           "bgcolor": "white",
           "lakecolor": "white",
           "landcolor": "#E5ECF6",
           "showlakes": true,
           "showland": true,
           "subunitcolor": "white"
          },
          "hoverlabel": {
           "align": "left"
          },
          "hovermode": "closest",
          "mapbox": {
           "style": "light"
          },
          "paper_bgcolor": "white",
          "plot_bgcolor": "#E5ECF6",
          "polar": {
           "angularaxis": {
            "gridcolor": "white",
            "linecolor": "white",
            "ticks": ""
           },
           "bgcolor": "#E5ECF6",
           "radialaxis": {
            "gridcolor": "white",
            "linecolor": "white",
            "ticks": ""
           }
          },
          "scene": {
           "xaxis": {
            "backgroundcolor": "#E5ECF6",
            "gridcolor": "white",
            "gridwidth": 2,
            "linecolor": "white",
            "showbackground": true,
            "ticks": "",
            "zerolinecolor": "white"
           },
           "yaxis": {
            "backgroundcolor": "#E5ECF6",
            "gridcolor": "white",
            "gridwidth": 2,
            "linecolor": "white",
            "showbackground": true,
            "ticks": "",
            "zerolinecolor": "white"
           },
           "zaxis": {
            "backgroundcolor": "#E5ECF6",
            "gridcolor": "white",
            "gridwidth": 2,
            "linecolor": "white",
            "showbackground": true,
            "ticks": "",
            "zerolinecolor": "white"
           }
          },
          "shapedefaults": {
           "line": {
            "color": "#2a3f5f"
           }
          },
          "ternary": {
           "aaxis": {
            "gridcolor": "white",
            "linecolor": "white",
            "ticks": ""
           },
           "baxis": {
            "gridcolor": "white",
            "linecolor": "white",
            "ticks": ""
           },
           "bgcolor": "#E5ECF6",
           "caxis": {
            "gridcolor": "white",
            "linecolor": "white",
            "ticks": ""
           }
          },
          "title": {
           "x": 0.05
          },
          "xaxis": {
           "automargin": true,
           "gridcolor": "white",
           "linecolor": "white",
           "ticks": "",
           "title": {
            "standoff": 15
           },
           "zerolinecolor": "white",
           "zerolinewidth": 2
          },
          "yaxis": {
           "automargin": true,
           "gridcolor": "white",
           "linecolor": "white",
           "ticks": "",
           "title": {
            "standoff": 15
           },
           "zerolinecolor": "white",
           "zerolinewidth": 2
          }
         }
        },
        "title": {
         "text": "Parameters distribution"
        },
        "width": 900,
        "xaxis": {
         "anchor": "y",
         "domain": [
          0,
          0.26666666666666666
         ]
        },
        "xaxis10": {
         "anchor": "y10",
         "domain": [
          0,
          0.26666666666666666
         ]
        },
        "xaxis11": {
         "anchor": "y11",
         "domain": [
          0.3666666666666667,
          0.6333333333333333
         ]
        },
        "xaxis12": {
         "anchor": "y12",
         "domain": [
          0.7333333333333334,
          1
         ]
        },
        "xaxis2": {
         "anchor": "y2",
         "domain": [
          0.3666666666666667,
          0.6333333333333333
         ]
        },
        "xaxis3": {
         "anchor": "y3",
         "domain": [
          0.7333333333333334,
          1
         ]
        },
        "xaxis4": {
         "anchor": "y4",
         "domain": [
          0,
          0.26666666666666666
         ]
        },
        "xaxis5": {
         "anchor": "y5",
         "domain": [
          0.3666666666666667,
          0.6333333333333333
         ]
        },
        "xaxis6": {
         "anchor": "y6",
         "domain": [
          0.7333333333333334,
          1
         ]
        },
        "xaxis7": {
         "anchor": "y7",
         "domain": [
          0,
          0.26666666666666666
         ]
        },
        "xaxis8": {
         "anchor": "y8",
         "domain": [
          0.3666666666666667,
          0.6333333333333333
         ]
        },
        "xaxis9": {
         "anchor": "y9",
         "domain": [
          0.7333333333333334,
          1
         ]
        },
        "yaxis": {
         "anchor": "x",
         "domain": [
          0.825,
          1
         ]
        },
        "yaxis10": {
         "anchor": "x10",
         "domain": [
          0,
          0.175
         ]
        },
        "yaxis11": {
         "anchor": "x11",
         "domain": [
          0,
          0.175
         ]
        },
        "yaxis12": {
         "anchor": "x12",
         "domain": [
          0,
          0.175
         ]
        },
        "yaxis2": {
         "anchor": "x2",
         "domain": [
          0.825,
          1
         ]
        },
        "yaxis3": {
         "anchor": "x3",
         "domain": [
          0.825,
          1
         ]
        },
        "yaxis4": {
         "anchor": "x4",
         "domain": [
          0.55,
          0.7250000000000001
         ]
        },
        "yaxis5": {
         "anchor": "x5",
         "domain": [
          0.55,
          0.7250000000000001
         ]
        },
        "yaxis6": {
         "anchor": "x6",
         "domain": [
          0.55,
          0.7250000000000001
         ]
        },
        "yaxis7": {
         "anchor": "x7",
         "domain": [
          0.275,
          0.45
         ]
        },
        "yaxis8": {
         "anchor": "x8",
         "domain": [
          0.275,
          0.45
         ]
        },
        "yaxis9": {
         "anchor": "x9",
         "domain": [
          0.275,
          0.45
         ]
        }
       }
      }
     },
     "metadata": {},
     "output_type": "display_data"
    }
   ],
   "source": [
    "viewer.box_plot(3, nbest=1000)"
   ]
  },
  {
   "cell_type": "code",
   "execution_count": 25,
   "metadata": {},
   "outputs": [],
   "source": [
    "groups = [\n",
    "    [\"D1N1_energy_coefficient\", \"D1N1_tr_rate\", \"D1N1_tr_max\", \"D1N1_inv_lambda_rate\", \"D1N1_inv_lambda_max\"],\n",
    "    [\"D2N1_energy_coefficient\", \"D2N1_tr_rate\", \"D2N1_tr_max\", \"D2N1_inv_lambda_rate\", \"D2N1_inv_lambda_max\"],\n",
    "]\n",
    "fig = viewer.parallel_coordinates(\n",
    "    nbest=1000,\n",
    "    unselected_opacity=0,\n",
    "    parameter_groups=groups,\n",
    ")"
   ]
  },
  {
   "cell_type": "code",
   "execution_count": 26,
   "metadata": {},
   "outputs": [
    {
     "data": {
      "application/vnd.plotly.v1+json": {
       "config": {
        "plotlyServerURL": "https://plot.ly"
       },
       "data": [
        {
         "dimensions": [
          {
           "label": "D1N1_energy_coefficient",
           "range": [
            0.001,
            0.4
           ],
           "values": [
            0.0727373688325179,
            0.0727373688325179,
            0.0727373688325179,
            0.0727373688325179,
            0.0727373688325179,
            0.24258445622596658,
            0.24258445622596658,
            0.24258445622596658,
            0.24258445622596658,
            0.24258445622596658,
            0.24258445622596658,
            0.24258445622596658,
            0.0727373688325179,
            0.0727373688325179,
            0.0727373688325179,
            0.0727373688325179,
            0.0727373688325179,
            0.0727373688325179,
            0.0727373688325179,
            0.11990121769246115,
            0.0727373688325179,
            0.0727373688325179,
            0.24258445622596658,
            0.24258445622596658,
            0.24258445622596658,
            0.24258445622596658,
            0.24258445622596658,
            0.31690567729986013,
            0.030176590324777104,
            0.030176590324777104,
            0.030176590324777104,
            0.07803804513150013,
            0.32315556248179605,
            0.32315556248179605,
            0.3216631892018086,
            0.0727373688325179,
            0.31690567729986013,
            0.3372461665614065,
            0.34855040071434373
           ]
          },
          {
           "label": "D1N1_tr_rate",
           "range": [
            -0.3,
            -0.001
           ],
           "values": [
            -0.031907643279459,
            -0.031907643279459,
            -0.031907643279459,
            -0.031907643279459,
            -0.031907643279459,
            -0.031907643279459,
            -0.2514009359181425,
            -0.2514009359181425,
            -0.2514009359181425,
            -0.2514009359181425,
            -0.2514009359181425,
            -0.2514009359181425,
            -0.031907643279459,
            -0.031907643279459,
            -0.031907643279459,
            -0.031907643279459,
            -0.031907643279459,
            -0.2514009359181425,
            -0.031907643279459,
            -0.1365351012685885,
            -0.24677952626699548,
            -0.031907643279459,
            -0.2514009359181425,
            -0.1201410908344451,
            -0.1201410908344451,
            -0.2514009359181425,
            -0.031907643279459,
            -0.267863959840161,
            -0.017512709399002346,
            -0.017512709399002346,
            -0.017512709399002346,
            -0.09019004589871427,
            -0.24677952626699548,
            -0.031907643279459,
            -0.14712690602919415,
            -0.24677952626699548,
            -0.267863959840161,
            -0.0878856971744574,
            -0.2820126152854158
           ]
          },
          {
           "label": "D1N1_tr_max",
           "range": [
            0,
            50
           ],
           "values": [
            18.227269214407084,
            18.227269214407084,
            18.227269214407084,
            18.227269214407084,
            18.227269214407084,
            18.227269214407084,
            27.19290710174124,
            27.19290710174124,
            27.19290710174124,
            27.19290710174124,
            27.19290710174124,
            27.19290710174124,
            18.227269214407084,
            18.227269214407084,
            18.227269214407084,
            18.227269214407084,
            18.227269214407084,
            27.19290710174124,
            18.227269214407084,
            6.532214944510412,
            35.97240582900494,
            18.227269214407084,
            27.19290710174124,
            0.9708090984387674,
            0.9708090984387674,
            27.19290710174124,
            18.227269214407084,
            5.318290171017859,
            41.61077423506823,
            41.61077423506823,
            41.61077423506823,
            30.598138480689315,
            35.97240582900494,
            18.227269214407084,
            36.26095858342201,
            35.97240582900494,
            5.318290171017859,
            40.1815066265724,
            41.40607379095947
           ]
          },
          {
           "label": "D1N1_inv_lambda_rate",
           "range": [
            -0.3,
            -0.001
           ],
           "values": [
            -0.17471674300721723,
            -0.17471674300721723,
            -0.17471674300721723,
            -0.17471674300721723,
            -0.17471674300721723,
            -0.2280048802651461,
            -0.07416362632025439,
            -0.2280048802651461,
            -0.2280048802651461,
            -0.2280048802651461,
            -0.2280048802651461,
            -0.2280048802651461,
            -0.2280048802651461,
            -0.2150185001646564,
            -0.2280048802651461,
            -0.2280048802651461,
            -0.2280048802651461,
            -0.2280048802651461,
            -0.2150185001646564,
            -0.28678627128628414,
            -0.19139039819438342,
            -0.17471674300721723,
            -0.17471674300721723,
            -0.17471674300721723,
            -0.07416362632025439,
            -0.07416362632025439,
            -0.2280048802651461,
            -0.17471674300721723,
            -0.24829640242568865,
            -0.24829640242568865,
            -0.24829640242568865,
            -0.11715353735410075,
            -0.19139039819438342,
            -0.2280048802651461,
            -0.25211820049252553,
            -0.19139039819438342,
            -0.07416362632025439,
            -0.014420819743025504,
            -0.02985516492193835
           ]
          },
          {
           "label": "D1N1_inv_lambda_max",
           "range": [
            0,
            500
           ],
           "values": [
            354.599949700534,
            308.3261278486888,
            308.3261278486888,
            308.3261278486888,
            308.3261278486888,
            354.599949700534,
            3.4833820844517027,
            354.599949700534,
            354.599949700534,
            354.599949700534,
            354.599949700534,
            354.599949700534,
            354.599949700534,
            354.599949700534,
            354.599949700534,
            354.599949700534,
            354.599949700534,
            354.599949700534,
            308.3261278486888,
            117.15745974549402,
            93.1087775246256,
            308.3261278486888,
            308.3261278486888,
            308.3261278486888,
            3.4833820844517027,
            3.4833820844517027,
            354.599949700534,
            308.3261278486888,
            38.56038469818635,
            38.56038469818635,
            38.56038469818635,
            449.36131070151305,
            93.1087775246256,
            354.599949700534,
            294.31297604479334,
            93.1087775246256,
            3.4833820844517027,
            55.95333034214634,
            218.78806780382192
           ]
          }
         ],
         "line": {
          "color": [
           -0.010379034888239613,
           -0.013302221079435024,
           -0.013302221079435024,
           -0.013302221079435024,
           -0.013302221079435024,
           -0.0383094299217499,
           -0.03870882011369208,
           -0.03882140640737907,
           -0.03882140640737907,
           -0.03882140640737907,
           -0.03882140640737907,
           -0.03882140640737907,
           -0.040208953263491734,
           -0.04059009039458763,
           -0.04417270123863292,
           -0.04417270123863292,
           -0.04417270123863292,
           -0.044201838179417995,
           -0.04442323837838848,
           -0.04961246531521822,
           -0.052323574433889165,
           -0.06932990436190821,
           -0.07197063189465502,
           -0.07285231494420306,
           -0.09239474345297995,
           -0.0931072931118128,
           -0.20663626447937417,
           -0.7482677063801147,
           -0.868249031603171,
           -0.868249031603171,
           -0.868249031603171,
           -1.3264232975596078,
           -3.8024754127169453,
           -4.050787795811359,
           -6.178423167197701,
           -7.872830331894401,
           -12.861820101163326,
           -44.9329935399209,
           -343.2634308330631
          ],
          "colorbar": {
           "tickmode": "array",
           "ticktext": [
            0.010379034888239613,
            343.2634308330631
           ],
           "tickvals": [
            -0.010379034888239613,
            -343.2634308330631
           ],
           "title": {
            "text": "Cost function score"
           }
          },
          "colorscale": [
           [
            0,
            "rgba(0, 0, 255, 0.8)"
           ],
           [
            0.3,
            "rgba(255,255,0,0.5)"
           ],
           [
            1,
            "rgba(255,255,0,0.0)"
           ]
          ],
          "reversescale": true,
          "showscale": true
         },
         "type": "parcoords",
         "unselected": {
          "line": {
           "opacity": 0
          }
         }
        }
       ],
       "layout": {
        "coloraxis": {
         "colorbar": {
          "title": {
           "text": "Fitness"
          }
         }
        },
        "template": {
         "data": {
          "bar": [
           {
            "error_x": {
             "color": "#2a3f5f"
            },
            "error_y": {
             "color": "#2a3f5f"
            },
            "marker": {
             "line": {
              "color": "#E5ECF6",
              "width": 0.5
             },
             "pattern": {
              "fillmode": "overlay",
              "size": 10,
              "solidity": 0.2
             }
            },
            "type": "bar"
           }
          ],
          "barpolar": [
           {
            "marker": {
             "line": {
              "color": "#E5ECF6",
              "width": 0.5
             },
             "pattern": {
              "fillmode": "overlay",
              "size": 10,
              "solidity": 0.2
             }
            },
            "type": "barpolar"
           }
          ],
          "carpet": [
           {
            "aaxis": {
             "endlinecolor": "#2a3f5f",
             "gridcolor": "white",
             "linecolor": "white",
             "minorgridcolor": "white",
             "startlinecolor": "#2a3f5f"
            },
            "baxis": {
             "endlinecolor": "#2a3f5f",
             "gridcolor": "white",
             "linecolor": "white",
             "minorgridcolor": "white",
             "startlinecolor": "#2a3f5f"
            },
            "type": "carpet"
           }
          ],
          "choropleth": [
           {
            "colorbar": {
             "outlinewidth": 0,
             "ticks": ""
            },
            "type": "choropleth"
           }
          ],
          "contour": [
           {
            "colorbar": {
             "outlinewidth": 0,
             "ticks": ""
            },
            "colorscale": [
             [
              0,
              "#0d0887"
             ],
             [
              0.1111111111111111,
              "#46039f"
             ],
             [
              0.2222222222222222,
              "#7201a8"
             ],
             [
              0.3333333333333333,
              "#9c179e"
             ],
             [
              0.4444444444444444,
              "#bd3786"
             ],
             [
              0.5555555555555556,
              "#d8576b"
             ],
             [
              0.6666666666666666,
              "#ed7953"
             ],
             [
              0.7777777777777778,
              "#fb9f3a"
             ],
             [
              0.8888888888888888,
              "#fdca26"
             ],
             [
              1,
              "#f0f921"
             ]
            ],
            "type": "contour"
           }
          ],
          "contourcarpet": [
           {
            "colorbar": {
             "outlinewidth": 0,
             "ticks": ""
            },
            "type": "contourcarpet"
           }
          ],
          "heatmap": [
           {
            "colorbar": {
             "outlinewidth": 0,
             "ticks": ""
            },
            "colorscale": [
             [
              0,
              "#0d0887"
             ],
             [
              0.1111111111111111,
              "#46039f"
             ],
             [
              0.2222222222222222,
              "#7201a8"
             ],
             [
              0.3333333333333333,
              "#9c179e"
             ],
             [
              0.4444444444444444,
              "#bd3786"
             ],
             [
              0.5555555555555556,
              "#d8576b"
             ],
             [
              0.6666666666666666,
              "#ed7953"
             ],
             [
              0.7777777777777778,
              "#fb9f3a"
             ],
             [
              0.8888888888888888,
              "#fdca26"
             ],
             [
              1,
              "#f0f921"
             ]
            ],
            "type": "heatmap"
           }
          ],
          "heatmapgl": [
           {
            "colorbar": {
             "outlinewidth": 0,
             "ticks": ""
            },
            "colorscale": [
             [
              0,
              "#0d0887"
             ],
             [
              0.1111111111111111,
              "#46039f"
             ],
             [
              0.2222222222222222,
              "#7201a8"
             ],
             [
              0.3333333333333333,
              "#9c179e"
             ],
             [
              0.4444444444444444,
              "#bd3786"
             ],
             [
              0.5555555555555556,
              "#d8576b"
             ],
             [
              0.6666666666666666,
              "#ed7953"
             ],
             [
              0.7777777777777778,
              "#fb9f3a"
             ],
             [
              0.8888888888888888,
              "#fdca26"
             ],
             [
              1,
              "#f0f921"
             ]
            ],
            "type": "heatmapgl"
           }
          ],
          "histogram": [
           {
            "marker": {
             "pattern": {
              "fillmode": "overlay",
              "size": 10,
              "solidity": 0.2
             }
            },
            "type": "histogram"
           }
          ],
          "histogram2d": [
           {
            "colorbar": {
             "outlinewidth": 0,
             "ticks": ""
            },
            "colorscale": [
             [
              0,
              "#0d0887"
             ],
             [
              0.1111111111111111,
              "#46039f"
             ],
             [
              0.2222222222222222,
              "#7201a8"
             ],
             [
              0.3333333333333333,
              "#9c179e"
             ],
             [
              0.4444444444444444,
              "#bd3786"
             ],
             [
              0.5555555555555556,
              "#d8576b"
             ],
             [
              0.6666666666666666,
              "#ed7953"
             ],
             [
              0.7777777777777778,
              "#fb9f3a"
             ],
             [
              0.8888888888888888,
              "#fdca26"
             ],
             [
              1,
              "#f0f921"
             ]
            ],
            "type": "histogram2d"
           }
          ],
          "histogram2dcontour": [
           {
            "colorbar": {
             "outlinewidth": 0,
             "ticks": ""
            },
            "colorscale": [
             [
              0,
              "#0d0887"
             ],
             [
              0.1111111111111111,
              "#46039f"
             ],
             [
              0.2222222222222222,
              "#7201a8"
             ],
             [
              0.3333333333333333,
              "#9c179e"
             ],
             [
              0.4444444444444444,
              "#bd3786"
             ],
             [
              0.5555555555555556,
              "#d8576b"
             ],
             [
              0.6666666666666666,
              "#ed7953"
             ],
             [
              0.7777777777777778,
              "#fb9f3a"
             ],
             [
              0.8888888888888888,
              "#fdca26"
             ],
             [
              1,
              "#f0f921"
             ]
            ],
            "type": "histogram2dcontour"
           }
          ],
          "mesh3d": [
           {
            "colorbar": {
             "outlinewidth": 0,
             "ticks": ""
            },
            "type": "mesh3d"
           }
          ],
          "parcoords": [
           {
            "line": {
             "colorbar": {
              "outlinewidth": 0,
              "ticks": ""
             }
            },
            "type": "parcoords"
           }
          ],
          "pie": [
           {
            "automargin": true,
            "type": "pie"
           }
          ],
          "scatter": [
           {
            "fillpattern": {
             "fillmode": "overlay",
             "size": 10,
             "solidity": 0.2
            },
            "type": "scatter"
           }
          ],
          "scatter3d": [
           {
            "line": {
             "colorbar": {
              "outlinewidth": 0,
              "ticks": ""
             }
            },
            "marker": {
             "colorbar": {
              "outlinewidth": 0,
              "ticks": ""
             }
            },
            "type": "scatter3d"
           }
          ],
          "scattercarpet": [
           {
            "marker": {
             "colorbar": {
              "outlinewidth": 0,
              "ticks": ""
             }
            },
            "type": "scattercarpet"
           }
          ],
          "scattergeo": [
           {
            "marker": {
             "colorbar": {
              "outlinewidth": 0,
              "ticks": ""
             }
            },
            "type": "scattergeo"
           }
          ],
          "scattergl": [
           {
            "marker": {
             "colorbar": {
              "outlinewidth": 0,
              "ticks": ""
             }
            },
            "type": "scattergl"
           }
          ],
          "scattermapbox": [
           {
            "marker": {
             "colorbar": {
              "outlinewidth": 0,
              "ticks": ""
             }
            },
            "type": "scattermapbox"
           }
          ],
          "scatterpolar": [
           {
            "marker": {
             "colorbar": {
              "outlinewidth": 0,
              "ticks": ""
             }
            },
            "type": "scatterpolar"
           }
          ],
          "scatterpolargl": [
           {
            "marker": {
             "colorbar": {
              "outlinewidth": 0,
              "ticks": ""
             }
            },
            "type": "scatterpolargl"
           }
          ],
          "scatterternary": [
           {
            "marker": {
             "colorbar": {
              "outlinewidth": 0,
              "ticks": ""
             }
            },
            "type": "scatterternary"
           }
          ],
          "surface": [
           {
            "colorbar": {
             "outlinewidth": 0,
             "ticks": ""
            },
            "colorscale": [
             [
              0,
              "#0d0887"
             ],
             [
              0.1111111111111111,
              "#46039f"
             ],
             [
              0.2222222222222222,
              "#7201a8"
             ],
             [
              0.3333333333333333,
              "#9c179e"
             ],
             [
              0.4444444444444444,
              "#bd3786"
             ],
             [
              0.5555555555555556,
              "#d8576b"
             ],
             [
              0.6666666666666666,
              "#ed7953"
             ],
             [
              0.7777777777777778,
              "#fb9f3a"
             ],
             [
              0.8888888888888888,
              "#fdca26"
             ],
             [
              1,
              "#f0f921"
             ]
            ],
            "type": "surface"
           }
          ],
          "table": [
           {
            "cells": {
             "fill": {
              "color": "#EBF0F8"
             },
             "line": {
              "color": "white"
             }
            },
            "header": {
             "fill": {
              "color": "#C8D4E3"
             },
             "line": {
              "color": "white"
             }
            },
            "type": "table"
           }
          ]
         },
         "layout": {
          "annotationdefaults": {
           "arrowcolor": "#2a3f5f",
           "arrowhead": 0,
           "arrowwidth": 1
          },
          "autotypenumbers": "strict",
          "coloraxis": {
           "colorbar": {
            "outlinewidth": 0,
            "ticks": ""
           }
          },
          "colorscale": {
           "diverging": [
            [
             0,
             "#8e0152"
            ],
            [
             0.1,
             "#c51b7d"
            ],
            [
             0.2,
             "#de77ae"
            ],
            [
             0.3,
             "#f1b6da"
            ],
            [
             0.4,
             "#fde0ef"
            ],
            [
             0.5,
             "#f7f7f7"
            ],
            [
             0.6,
             "#e6f5d0"
            ],
            [
             0.7,
             "#b8e186"
            ],
            [
             0.8,
             "#7fbc41"
            ],
            [
             0.9,
             "#4d9221"
            ],
            [
             1,
             "#276419"
            ]
           ],
           "sequential": [
            [
             0,
             "#0d0887"
            ],
            [
             0.1111111111111111,
             "#46039f"
            ],
            [
             0.2222222222222222,
             "#7201a8"
            ],
            [
             0.3333333333333333,
             "#9c179e"
            ],
            [
             0.4444444444444444,
             "#bd3786"
            ],
            [
             0.5555555555555556,
             "#d8576b"
            ],
            [
             0.6666666666666666,
             "#ed7953"
            ],
            [
             0.7777777777777778,
             "#fb9f3a"
            ],
            [
             0.8888888888888888,
             "#fdca26"
            ],
            [
             1,
             "#f0f921"
            ]
           ],
           "sequentialminus": [
            [
             0,
             "#0d0887"
            ],
            [
             0.1111111111111111,
             "#46039f"
            ],
            [
             0.2222222222222222,
             "#7201a8"
            ],
            [
             0.3333333333333333,
             "#9c179e"
            ],
            [
             0.4444444444444444,
             "#bd3786"
            ],
            [
             0.5555555555555556,
             "#d8576b"
            ],
            [
             0.6666666666666666,
             "#ed7953"
            ],
            [
             0.7777777777777778,
             "#fb9f3a"
            ],
            [
             0.8888888888888888,
             "#fdca26"
            ],
            [
             1,
             "#f0f921"
            ]
           ]
          },
          "colorway": [
           "#636efa",
           "#EF553B",
           "#00cc96",
           "#ab63fa",
           "#FFA15A",
           "#19d3f3",
           "#FF6692",
           "#B6E880",
           "#FF97FF",
           "#FECB52"
          ],
          "font": {
           "color": "#2a3f5f"
          },
          "geo": {
           "bgcolor": "white",
           "lakecolor": "white",
           "landcolor": "#E5ECF6",
           "showlakes": true,
           "showland": true,
           "subunitcolor": "white"
          },
          "hoverlabel": {
           "align": "left"
          },
          "hovermode": "closest",
          "mapbox": {
           "style": "light"
          },
          "paper_bgcolor": "white",
          "plot_bgcolor": "#E5ECF6",
          "polar": {
           "angularaxis": {
            "gridcolor": "white",
            "linecolor": "white",
            "ticks": ""
           },
           "bgcolor": "#E5ECF6",
           "radialaxis": {
            "gridcolor": "white",
            "linecolor": "white",
            "ticks": ""
           }
          },
          "scene": {
           "xaxis": {
            "backgroundcolor": "#E5ECF6",
            "gridcolor": "white",
            "gridwidth": 2,
            "linecolor": "white",
            "showbackground": true,
            "ticks": "",
            "zerolinecolor": "white"
           },
           "yaxis": {
            "backgroundcolor": "#E5ECF6",
            "gridcolor": "white",
            "gridwidth": 2,
            "linecolor": "white",
            "showbackground": true,
            "ticks": "",
            "zerolinecolor": "white"
           },
           "zaxis": {
            "backgroundcolor": "#E5ECF6",
            "gridcolor": "white",
            "gridwidth": 2,
            "linecolor": "white",
            "showbackground": true,
            "ticks": "",
            "zerolinecolor": "white"
           }
          },
          "shapedefaults": {
           "line": {
            "color": "#2a3f5f"
           }
          },
          "ternary": {
           "aaxis": {
            "gridcolor": "white",
            "linecolor": "white",
            "ticks": ""
           },
           "baxis": {
            "gridcolor": "white",
            "linecolor": "white",
            "ticks": ""
           },
           "bgcolor": "#E5ECF6",
           "caxis": {
            "gridcolor": "white",
            "linecolor": "white",
            "ticks": ""
           }
          },
          "title": {
           "x": 0.05
          },
          "xaxis": {
           "automargin": true,
           "gridcolor": "white",
           "linecolor": "white",
           "ticks": "",
           "title": {
            "standoff": 15
           },
           "zerolinecolor": "white",
           "zerolinewidth": 2
          },
          "yaxis": {
           "automargin": true,
           "gridcolor": "white",
           "linecolor": "white",
           "ticks": "",
           "title": {
            "standoff": 15
           },
           "zerolinecolor": "white",
           "zerolinewidth": 2
          }
         }
        },
        "title": {
         "text": "Parameters optimization : minimization of the cost function for group 1"
        }
       }
      }
     },
     "metadata": {},
     "output_type": "display_data"
    },
    {
     "data": {
      "application/vnd.plotly.v1+json": {
       "config": {
        "plotlyServerURL": "https://plot.ly"
       },
       "data": [
        {
         "dimensions": [
          {
           "label": "D2N1_energy_coefficient",
           "range": [
            0.001,
            0.4
           ],
           "values": [
            0.012998695644359681,
            0.012998695644359681,
            0.012998695644359681,
            0.012998695644359681,
            0.012998695644359681,
            0.03335362603192982,
            0.16167928399332024,
            0.03335362603192982,
            0.03335362603192982,
            0.03335362603192982,
            0.03335362603192982,
            0.03335362603192982,
            0.012998695644359681,
            0.01173776634595864,
            0.012998695644359681,
            0.012998695644359681,
            0.012998695644359681,
            0.012998695644359681,
            0.01173776634595864,
            0.25015993265387354,
            0.012998695644359681,
            0.012998695644359681,
            0.03335362603192982,
            0.03335362603192982,
            0.012998695644359681,
            0.012998695644359681,
            0.03335362603192982,
            0.03335362603192982,
            0.33500402080043357,
            0.33500402080043357,
            0.33500402080043357,
            0.3738673954728653,
            0.06580045809483283,
            0.06580045809483283,
            0.18737742972586044,
            0.16167928399332024,
            0.16167928399332024,
            0.3777268369121192,
            0.10175613865530783
           ]
          },
          {
           "label": "D2N1_tr_rate",
           "range": [
            -0.3,
            -0.001
           ],
           "values": [
            -0.10618675802672037,
            -0.10618675802672037,
            -0.10618675802672037,
            -0.10618675802672037,
            -0.10618675802672037,
            -0.07475157941711016,
            -0.027028821430219674,
            -0.07475157941711016,
            -0.07475157941711016,
            -0.07475157941711016,
            -0.07475157941711016,
            -0.07475157941711016,
            -0.10618675802672037,
            -0.10618675802672037,
            -0.10618675802672037,
            -0.10618675802672037,
            -0.10618675802672037,
            -0.10618675802672037,
            -0.10618675802672037,
            -0.2514515401207268,
            -0.10618675802672037,
            -0.07475157941711016,
            -0.07475157941711016,
            -0.07475157941711016,
            -0.027028821430219674,
            -0.027028821430219674,
            -0.10618675802672037,
            -0.07475157941711016,
            -0.18937010550259203,
            -0.18937010550259203,
            -0.18937010550259203,
            -0.2671122259597826,
            -0.04615142101957265,
            -0.04615142101957265,
            -0.05989959849383927,
            -0.10618675802672037,
            -0.027028821430219674,
            -0.16901681446560948,
            -0.015353476253534226
           ]
          },
          {
           "label": "D2N1_tr_max",
           "range": [
            0,
            50
           ],
           "values": [
            39.82810112661193,
            39.82810112661193,
            39.82810112661193,
            39.82810112661193,
            39.82810112661193,
            44.3644263889436,
            32.35637678564043,
            44.3644263889436,
            44.3644263889436,
            44.3644263889436,
            44.3644263889436,
            44.3644263889436,
            39.82810112661193,
            8.633937431221927,
            39.82810112661193,
            39.82810112661193,
            39.82810112661193,
            39.82810112661193,
            8.633937431221927,
            32.72114973630858,
            39.82810112661193,
            44.3644263889436,
            44.3644263889436,
            44.3644263889436,
            39.82810112661193,
            39.82810112661193,
            39.82810112661193,
            44.3644263889436,
            45.61069972022733,
            45.61069972022733,
            45.61069972022733,
            43.18328075213297,
            8.910788045456307,
            8.910788045456307,
            32.167410783978426,
            32.35637678564043,
            32.35637678564043,
            31.692080412191714,
            8.034223918978695
           ]
          },
          {
           "label": "D2N1_inv_lambda_rate",
           "range": [
            -0.3,
            -0.001
           ],
           "values": [
            -0.08398170629197424,
            -0.08398170629197424,
            -0.08398170629197424,
            -0.08398170629197424,
            -0.08398170629197424,
            -0.2689611576736889,
            -0.2689611576736889,
            -0.2689611576736889,
            -0.2689611576736889,
            -0.2689611576736889,
            -0.2689611576736889,
            -0.2689611576736889,
            -0.08398170629197424,
            -0.08398170629197424,
            -0.08398170629197424,
            -0.08398170629197424,
            -0.08398170629197424,
            -0.08398170629197424,
            -0.08398170629197424,
            -0.1536276633836785,
            -0.08398170629197424,
            -0.2689611576736889,
            -0.2689611576736889,
            -0.2689611576736889,
            -0.2689611576736889,
            -0.2689611576736889,
            -0.08398170629197424,
            -0.08905465938635329,
            -0.11230871565306821,
            -0.11230871565306821,
            -0.11230871565306821,
            -0.23242402359526013,
            -0.07912778648729812,
            -0.07912778648729812,
            -0.11729557990165304,
            -0.08398170629197424,
            -0.08905465938635329,
            -0.29292660683110827,
            -0.22947505312156063
           ]
          },
          {
           "label": "D2N1_inv_lambda_max",
           "range": [
            0,
            500
           ],
           "values": [
            275.15893854485176,
            275.15893854485176,
            275.15893854485176,
            275.15893854485176,
            275.15893854485176,
            256.5508596939155,
            374.3912807173248,
            256.5508596939155,
            256.5508596939155,
            256.5508596939155,
            256.5508596939155,
            256.5508596939155,
            412.32098539478557,
            275.15893854485176,
            275.15893854485176,
            275.15893854485176,
            275.15893854485176,
            275.15893854485176,
            275.15893854485176,
            50.20197870652776,
            275.15893854485176,
            256.5508596939155,
            256.5508596939155,
            312.97207802897947,
            312.97207802897947,
            256.5508596939155,
            275.15893854485176,
            256.5508596939155,
            88.01268228725306,
            88.01268228725306,
            88.01268228725306,
            351.1009746910222,
            430.75096615957017,
            430.75096615957017,
            388.19364223319667,
            275.15893854485176,
            374.3912807173248,
            495.0746221171042,
            489.8135658017998
           ]
          }
         ],
         "line": {
          "color": [
           -0.010379034888239613,
           -0.013302221079435024,
           -0.013302221079435024,
           -0.013302221079435024,
           -0.013302221079435024,
           -0.0383094299217499,
           -0.03870882011369208,
           -0.03882140640737907,
           -0.03882140640737907,
           -0.03882140640737907,
           -0.03882140640737907,
           -0.03882140640737907,
           -0.040208953263491734,
           -0.04059009039458763,
           -0.04417270123863292,
           -0.04417270123863292,
           -0.04417270123863292,
           -0.044201838179417995,
           -0.04442323837838848,
           -0.04961246531521822,
           -0.052323574433889165,
           -0.06932990436190821,
           -0.07197063189465502,
           -0.07285231494420306,
           -0.09239474345297995,
           -0.0931072931118128,
           -0.20663626447937417,
           -0.7482677063801147,
           -0.868249031603171,
           -0.868249031603171,
           -0.868249031603171,
           -1.3264232975596078,
           -3.8024754127169453,
           -4.050787795811359,
           -6.178423167197701,
           -7.872830331894401,
           -12.861820101163326,
           -44.9329935399209,
           -343.2634308330631
          ],
          "colorbar": {
           "tickmode": "array",
           "ticktext": [
            0.010379034888239613,
            343.2634308330631
           ],
           "tickvals": [
            -0.010379034888239613,
            -343.2634308330631
           ],
           "title": {
            "text": "Cost function score"
           }
          },
          "colorscale": [
           [
            0,
            "rgba(0, 0, 255, 0.8)"
           ],
           [
            0.3,
            "rgba(255,255,0,0.5)"
           ],
           [
            1,
            "rgba(255,255,0,0.0)"
           ]
          ],
          "reversescale": true,
          "showscale": true
         },
         "type": "parcoords",
         "unselected": {
          "line": {
           "opacity": 0
          }
         }
        }
       ],
       "layout": {
        "coloraxis": {
         "colorbar": {
          "title": {
           "text": "Fitness"
          }
         }
        },
        "template": {
         "data": {
          "bar": [
           {
            "error_x": {
             "color": "#2a3f5f"
            },
            "error_y": {
             "color": "#2a3f5f"
            },
            "marker": {
             "line": {
              "color": "#E5ECF6",
              "width": 0.5
             },
             "pattern": {
              "fillmode": "overlay",
              "size": 10,
              "solidity": 0.2
             }
            },
            "type": "bar"
           }
          ],
          "barpolar": [
           {
            "marker": {
             "line": {
              "color": "#E5ECF6",
              "width": 0.5
             },
             "pattern": {
              "fillmode": "overlay",
              "size": 10,
              "solidity": 0.2
             }
            },
            "type": "barpolar"
           }
          ],
          "carpet": [
           {
            "aaxis": {
             "endlinecolor": "#2a3f5f",
             "gridcolor": "white",
             "linecolor": "white",
             "minorgridcolor": "white",
             "startlinecolor": "#2a3f5f"
            },
            "baxis": {
             "endlinecolor": "#2a3f5f",
             "gridcolor": "white",
             "linecolor": "white",
             "minorgridcolor": "white",
             "startlinecolor": "#2a3f5f"
            },
            "type": "carpet"
           }
          ],
          "choropleth": [
           {
            "colorbar": {
             "outlinewidth": 0,
             "ticks": ""
            },
            "type": "choropleth"
           }
          ],
          "contour": [
           {
            "colorbar": {
             "outlinewidth": 0,
             "ticks": ""
            },
            "colorscale": [
             [
              0,
              "#0d0887"
             ],
             [
              0.1111111111111111,
              "#46039f"
             ],
             [
              0.2222222222222222,
              "#7201a8"
             ],
             [
              0.3333333333333333,
              "#9c179e"
             ],
             [
              0.4444444444444444,
              "#bd3786"
             ],
             [
              0.5555555555555556,
              "#d8576b"
             ],
             [
              0.6666666666666666,
              "#ed7953"
             ],
             [
              0.7777777777777778,
              "#fb9f3a"
             ],
             [
              0.8888888888888888,
              "#fdca26"
             ],
             [
              1,
              "#f0f921"
             ]
            ],
            "type": "contour"
           }
          ],
          "contourcarpet": [
           {
            "colorbar": {
             "outlinewidth": 0,
             "ticks": ""
            },
            "type": "contourcarpet"
           }
          ],
          "heatmap": [
           {
            "colorbar": {
             "outlinewidth": 0,
             "ticks": ""
            },
            "colorscale": [
             [
              0,
              "#0d0887"
             ],
             [
              0.1111111111111111,
              "#46039f"
             ],
             [
              0.2222222222222222,
              "#7201a8"
             ],
             [
              0.3333333333333333,
              "#9c179e"
             ],
             [
              0.4444444444444444,
              "#bd3786"
             ],
             [
              0.5555555555555556,
              "#d8576b"
             ],
             [
              0.6666666666666666,
              "#ed7953"
             ],
             [
              0.7777777777777778,
              "#fb9f3a"
             ],
             [
              0.8888888888888888,
              "#fdca26"
             ],
             [
              1,
              "#f0f921"
             ]
            ],
            "type": "heatmap"
           }
          ],
          "heatmapgl": [
           {
            "colorbar": {
             "outlinewidth": 0,
             "ticks": ""
            },
            "colorscale": [
             [
              0,
              "#0d0887"
             ],
             [
              0.1111111111111111,
              "#46039f"
             ],
             [
              0.2222222222222222,
              "#7201a8"
             ],
             [
              0.3333333333333333,
              "#9c179e"
             ],
             [
              0.4444444444444444,
              "#bd3786"
             ],
             [
              0.5555555555555556,
              "#d8576b"
             ],
             [
              0.6666666666666666,
              "#ed7953"
             ],
             [
              0.7777777777777778,
              "#fb9f3a"
             ],
             [
              0.8888888888888888,
              "#fdca26"
             ],
             [
              1,
              "#f0f921"
             ]
            ],
            "type": "heatmapgl"
           }
          ],
          "histogram": [
           {
            "marker": {
             "pattern": {
              "fillmode": "overlay",
              "size": 10,
              "solidity": 0.2
             }
            },
            "type": "histogram"
           }
          ],
          "histogram2d": [
           {
            "colorbar": {
             "outlinewidth": 0,
             "ticks": ""
            },
            "colorscale": [
             [
              0,
              "#0d0887"
             ],
             [
              0.1111111111111111,
              "#46039f"
             ],
             [
              0.2222222222222222,
              "#7201a8"
             ],
             [
              0.3333333333333333,
              "#9c179e"
             ],
             [
              0.4444444444444444,
              "#bd3786"
             ],
             [
              0.5555555555555556,
              "#d8576b"
             ],
             [
              0.6666666666666666,
              "#ed7953"
             ],
             [
              0.7777777777777778,
              "#fb9f3a"
             ],
             [
              0.8888888888888888,
              "#fdca26"
             ],
             [
              1,
              "#f0f921"
             ]
            ],
            "type": "histogram2d"
           }
          ],
          "histogram2dcontour": [
           {
            "colorbar": {
             "outlinewidth": 0,
             "ticks": ""
            },
            "colorscale": [
             [
              0,
              "#0d0887"
             ],
             [
              0.1111111111111111,
              "#46039f"
             ],
             [
              0.2222222222222222,
              "#7201a8"
             ],
             [
              0.3333333333333333,
              "#9c179e"
             ],
             [
              0.4444444444444444,
              "#bd3786"
             ],
             [
              0.5555555555555556,
              "#d8576b"
             ],
             [
              0.6666666666666666,
              "#ed7953"
             ],
             [
              0.7777777777777778,
              "#fb9f3a"
             ],
             [
              0.8888888888888888,
              "#fdca26"
             ],
             [
              1,
              "#f0f921"
             ]
            ],
            "type": "histogram2dcontour"
           }
          ],
          "mesh3d": [
           {
            "colorbar": {
             "outlinewidth": 0,
             "ticks": ""
            },
            "type": "mesh3d"
           }
          ],
          "parcoords": [
           {
            "line": {
             "colorbar": {
              "outlinewidth": 0,
              "ticks": ""
             }
            },
            "type": "parcoords"
           }
          ],
          "pie": [
           {
            "automargin": true,
            "type": "pie"
           }
          ],
          "scatter": [
           {
            "fillpattern": {
             "fillmode": "overlay",
             "size": 10,
             "solidity": 0.2
            },
            "type": "scatter"
           }
          ],
          "scatter3d": [
           {
            "line": {
             "colorbar": {
              "outlinewidth": 0,
              "ticks": ""
             }
            },
            "marker": {
             "colorbar": {
              "outlinewidth": 0,
              "ticks": ""
             }
            },
            "type": "scatter3d"
           }
          ],
          "scattercarpet": [
           {
            "marker": {
             "colorbar": {
              "outlinewidth": 0,
              "ticks": ""
             }
            },
            "type": "scattercarpet"
           }
          ],
          "scattergeo": [
           {
            "marker": {
             "colorbar": {
              "outlinewidth": 0,
              "ticks": ""
             }
            },
            "type": "scattergeo"
           }
          ],
          "scattergl": [
           {
            "marker": {
             "colorbar": {
              "outlinewidth": 0,
              "ticks": ""
             }
            },
            "type": "scattergl"
           }
          ],
          "scattermapbox": [
           {
            "marker": {
             "colorbar": {
              "outlinewidth": 0,
              "ticks": ""
             }
            },
            "type": "scattermapbox"
           }
          ],
          "scatterpolar": [
           {
            "marker": {
             "colorbar": {
              "outlinewidth": 0,
              "ticks": ""
             }
            },
            "type": "scatterpolar"
           }
          ],
          "scatterpolargl": [
           {
            "marker": {
             "colorbar": {
              "outlinewidth": 0,
              "ticks": ""
             }
            },
            "type": "scatterpolargl"
           }
          ],
          "scatterternary": [
           {
            "marker": {
             "colorbar": {
              "outlinewidth": 0,
              "ticks": ""
             }
            },
            "type": "scatterternary"
           }
          ],
          "surface": [
           {
            "colorbar": {
             "outlinewidth": 0,
             "ticks": ""
            },
            "colorscale": [
             [
              0,
              "#0d0887"
             ],
             [
              0.1111111111111111,
              "#46039f"
             ],
             [
              0.2222222222222222,
              "#7201a8"
             ],
             [
              0.3333333333333333,
              "#9c179e"
             ],
             [
              0.4444444444444444,
              "#bd3786"
             ],
             [
              0.5555555555555556,
              "#d8576b"
             ],
             [
              0.6666666666666666,
              "#ed7953"
             ],
             [
              0.7777777777777778,
              "#fb9f3a"
             ],
             [
              0.8888888888888888,
              "#fdca26"
             ],
             [
              1,
              "#f0f921"
             ]
            ],
            "type": "surface"
           }
          ],
          "table": [
           {
            "cells": {
             "fill": {
              "color": "#EBF0F8"
             },
             "line": {
              "color": "white"
             }
            },
            "header": {
             "fill": {
              "color": "#C8D4E3"
             },
             "line": {
              "color": "white"
             }
            },
            "type": "table"
           }
          ]
         },
         "layout": {
          "annotationdefaults": {
           "arrowcolor": "#2a3f5f",
           "arrowhead": 0,
           "arrowwidth": 1
          },
          "autotypenumbers": "strict",
          "coloraxis": {
           "colorbar": {
            "outlinewidth": 0,
            "ticks": ""
           }
          },
          "colorscale": {
           "diverging": [
            [
             0,
             "#8e0152"
            ],
            [
             0.1,
             "#c51b7d"
            ],
            [
             0.2,
             "#de77ae"
            ],
            [
             0.3,
             "#f1b6da"
            ],
            [
             0.4,
             "#fde0ef"
            ],
            [
             0.5,
             "#f7f7f7"
            ],
            [
             0.6,
             "#e6f5d0"
            ],
            [
             0.7,
             "#b8e186"
            ],
            [
             0.8,
             "#7fbc41"
            ],
            [
             0.9,
             "#4d9221"
            ],
            [
             1,
             "#276419"
            ]
           ],
           "sequential": [
            [
             0,
             "#0d0887"
            ],
            [
             0.1111111111111111,
             "#46039f"
            ],
            [
             0.2222222222222222,
             "#7201a8"
            ],
            [
             0.3333333333333333,
             "#9c179e"
            ],
            [
             0.4444444444444444,
             "#bd3786"
            ],
            [
             0.5555555555555556,
             "#d8576b"
            ],
            [
             0.6666666666666666,
             "#ed7953"
            ],
            [
             0.7777777777777778,
             "#fb9f3a"
            ],
            [
             0.8888888888888888,
             "#fdca26"
            ],
            [
             1,
             "#f0f921"
            ]
           ],
           "sequentialminus": [
            [
             0,
             "#0d0887"
            ],
            [
             0.1111111111111111,
             "#46039f"
            ],
            [
             0.2222222222222222,
             "#7201a8"
            ],
            [
             0.3333333333333333,
             "#9c179e"
            ],
            [
             0.4444444444444444,
             "#bd3786"
            ],
            [
             0.5555555555555556,
             "#d8576b"
            ],
            [
             0.6666666666666666,
             "#ed7953"
            ],
            [
             0.7777777777777778,
             "#fb9f3a"
            ],
            [
             0.8888888888888888,
             "#fdca26"
            ],
            [
             1,
             "#f0f921"
            ]
           ]
          },
          "colorway": [
           "#636efa",
           "#EF553B",
           "#00cc96",
           "#ab63fa",
           "#FFA15A",
           "#19d3f3",
           "#FF6692",
           "#B6E880",
           "#FF97FF",
           "#FECB52"
          ],
          "font": {
           "color": "#2a3f5f"
          },
          "geo": {
           "bgcolor": "white",
           "lakecolor": "white",
           "landcolor": "#E5ECF6",
           "showlakes": true,
           "showland": true,
           "subunitcolor": "white"
          },
          "hoverlabel": {
           "align": "left"
          },
          "hovermode": "closest",
          "mapbox": {
           "style": "light"
          },
          "paper_bgcolor": "white",
          "plot_bgcolor": "#E5ECF6",
          "polar": {
           "angularaxis": {
            "gridcolor": "white",
            "linecolor": "white",
            "ticks": ""
           },
           "bgcolor": "#E5ECF6",
           "radialaxis": {
            "gridcolor": "white",
            "linecolor": "white",
            "ticks": ""
           }
          },
          "scene": {
           "xaxis": {
            "backgroundcolor": "#E5ECF6",
            "gridcolor": "white",
            "gridwidth": 2,
            "linecolor": "white",
            "showbackground": true,
            "ticks": "",
            "zerolinecolor": "white"
           },
           "yaxis": {
            "backgroundcolor": "#E5ECF6",
            "gridcolor": "white",
            "gridwidth": 2,
            "linecolor": "white",
            "showbackground": true,
            "ticks": "",
            "zerolinecolor": "white"
           },
           "zaxis": {
            "backgroundcolor": "#E5ECF6",
            "gridcolor": "white",
            "gridwidth": 2,
            "linecolor": "white",
            "showbackground": true,
            "ticks": "",
            "zerolinecolor": "white"
           }
          },
          "shapedefaults": {
           "line": {
            "color": "#2a3f5f"
           }
          },
          "ternary": {
           "aaxis": {
            "gridcolor": "white",
            "linecolor": "white",
            "ticks": ""
           },
           "baxis": {
            "gridcolor": "white",
            "linecolor": "white",
            "ticks": ""
           },
           "bgcolor": "#E5ECF6",
           "caxis": {
            "gridcolor": "white",
            "linecolor": "white",
            "ticks": ""
           }
          },
          "title": {
           "x": 0.05
          },
          "xaxis": {
           "automargin": true,
           "gridcolor": "white",
           "linecolor": "white",
           "ticks": "",
           "title": {
            "standoff": 15
           },
           "zerolinecolor": "white",
           "zerolinewidth": 2
          },
          "yaxis": {
           "automargin": true,
           "gridcolor": "white",
           "linecolor": "white",
           "ticks": "",
           "title": {
            "standoff": 15
           },
           "zerolinecolor": "white",
           "zerolinewidth": 2
          }
         }
        },
        "title": {
         "text": "Parameters optimization : minimization of the cost function for group 2"
        }
       }
      }
     },
     "metadata": {},
     "output_type": "display_data"
    }
   ],
   "source": [
    "for trace in fig:\n",
    "    display(trace)"
   ]
  },
  {
   "cell_type": "code",
   "execution_count": 22,
   "metadata": {},
   "outputs": [],
   "source": [
    "if SAVE:\n",
    "    for i, trace in enumerate(fig):\n",
    "        trace.write_html(f\"Parallel_coordinates_{export_file_name}_{i}.html\")"
   ]
  },
  {
   "cell_type": "markdown",
   "metadata": {},
   "source": [
    "# Prepare results for ploting\n"
   ]
  },
  {
   "cell_type": "markdown",
   "metadata": {},
   "source": [
    "## Run simulation with original parameters\n"
   ]
  },
  {
   "cell_type": "code",
   "execution_count": null,
   "metadata": {},
   "outputs": [],
   "source": [
    "original_config = [[0, 0, 0.1668, 10.38, -0.11, 150, -0.15]]\n",
    "print(f\"Original configuration: {list(original_config[0])}\")"
   ]
  },
  {
   "cell_type": "code",
   "execution_count": 24,
   "metadata": {},
   "outputs": [],
   "source": [
    "original_model = wrapper.model_generator_no_transport(\n",
    "    forcing_parameters=forcing_parameters,\n",
    "    fg_parameters=wrapper.FunctionalGroupGeneratorNoTransport(parameters=original_config, groups_name=[\"Total\"]),\n",
    ")\n",
    "\n",
    "original_model.run()"
   ]
  },
  {
   "cell_type": "markdown",
   "metadata": {},
   "source": [
    "## Run simulation with optimized parameters\n"
   ]
  },
  {
   "cell_type": "code",
   "execution_count": null,
   "metadata": {},
   "outputs": [],
   "source": [
    "best_individual = cost_function.functional_groups.generate_matrix(viewer.hall_of_fame.iloc[0])\n",
    "print(f\"Best individual: {list(best_individual[0])}\")\n",
    "print(f\"Best individual: {list(best_individual[1])}\")"
   ]
  },
  {
   "cell_type": "code",
   "execution_count": 26,
   "metadata": {},
   "outputs": [],
   "source": [
    "best_model = wrapper.model_generator_no_transport(\n",
    "    forcing_parameters=forcing_parameters,\n",
    "    fg_parameters=wrapper.FunctionalGroupGeneratorNoTransport(parameters=best_individual, groups_name=[\"D1N1\", \"D2N1\"]),\n",
    ")\n",
    "\n",
    "best_model.run()"
   ]
  },
  {
   "cell_type": "markdown",
   "metadata": {},
   "source": [
    "And with the X best individuals :\n"
   ]
  },
  {
   "cell_type": "code",
   "execution_count": 27,
   "metadata": {},
   "outputs": [],
   "source": [
    "NB_INDIVIDUAL_TO_SHOW = 10\n",
    "\n",
    "min_biomass_D1N1 = best_model.export_biomass().sel(functional_group=0).data.flatten()\n",
    "max_biomass_D1N1 = best_model.export_biomass().sel(functional_group=0).data.flatten()\n",
    "min_biomass_D2N1 = best_model.export_biomass().sel(functional_group=1).data.flatten()\n",
    "max_biomass_D2N1 = best_model.export_biomass().sel(functional_group=1).data.flatten()\n",
    "\n",
    "biomass_accumulated = []\n",
    "\n",
    "for cpt in range(0, NB_INDIVIDUAL_TO_SHOW):\n",
    "    individual = cost_function.functional_groups.generate_matrix(viewer.hall_of_fame.iloc[cpt])\n",
    "    model = wrapper.model_generator_no_transport(\n",
    "        forcing_parameters=forcing_parameters,\n",
    "        fg_parameters=wrapper.FunctionalGroupGeneratorNoTransport(parameters=individual, groups_name=[\"D1N1\", \"D2N1\"]),\n",
    "    )\n",
    "    model.run()\n",
    "\n",
    "    biomass_accumulated.append(model.export_biomass().expand_dims({\"individual\": [cpt]}))"
   ]
  },
  {
   "cell_type": "code",
   "execution_count": 28,
   "metadata": {},
   "outputs": [],
   "source": [
    "with xr.set_options(keep_attrs=True):\n",
    "    best_individuals_simulations = xr.concat(biomass_accumulated, dim=\"individual\")\n",
    "    min_biomass_D1N1 = (\n",
    "        best_individuals_simulations.sel(functional_group=0).min(\"individual\").isel(latitude=0, longitude=0)\n",
    "    )\n",
    "    max_biomass_D1N1 = (\n",
    "        best_individuals_simulations.sel(functional_group=0).max(\"individual\").isel(latitude=0, longitude=0)\n",
    "    )\n",
    "    min_biomass_D2N1 = (\n",
    "        best_individuals_simulations.sel(functional_group=1).min(\"individual\").isel(latitude=0, longitude=0)\n",
    "    )\n",
    "    max_biomass_D2N1 = (\n",
    "        best_individuals_simulations.sel(functional_group=1).max(\"individual\").isel(latitude=0, longitude=0)\n",
    "    )"
   ]
  },
  {
   "cell_type": "markdown",
   "metadata": {},
   "source": [
    "### Format the results\n"
   ]
  },
  {
   "cell_type": "markdown",
   "metadata": {},
   "source": [
    "Convert to pandas series.\n"
   ]
  },
  {
   "cell_type": "code",
   "execution_count": 29,
   "metadata": {},
   "outputs": [],
   "source": [
    "optimized_biomass_pandas = (\n",
    "    best_model.export_biomass()\n",
    "    .pint.quantify()\n",
    "    .pint.to(\"mg/meter^2\")\n",
    "    .pint.dequantify()\n",
    "    .to_dataframe()\n",
    "    .pivot_table(index=\"time\", columns=\"functional_group\", values=\"biomass\")\n",
    ")\n",
    "original_biomass_pandas = (\n",
    "    original_model.export_biomass()\n",
    "    .pint.quantify()\n",
    "    .pint.to(\"mg/meter^2\")\n",
    "    .pint.dequantify()\n",
    "    .to_dataframe()\n",
    "    .pivot_table(index=\"time\", columns=\"functional_group\", values=\"biomass\")\n",
    ")\n",
    "observations_day_pandas = (\n",
    "    observations_selected_without_init.pint.quantify()\n",
    "    .pint.to(\"mg/meter^2\")\n",
    "    .pint.dequantify()\n",
    "    .day.dropna(\"time\")\n",
    "    .to_dataframe()\n",
    "    .reset_index()\n",
    "    .set_index(\"time\")[\"day\"]\n",
    ")\n",
    "observations_night_pandas = (\n",
    "    observations_selected_without_init.pint.quantify()\n",
    "    .pint.to(\"mg/meter^2\")\n",
    "    .pint.dequantify()\n",
    "    .night.dropna(\"time\")\n",
    "    .to_dataframe()\n",
    "    .reset_index()\n",
    "    .set_index(\"time\")[\"night\"]\n",
    ")\n",
    "layer_pandas = epi_layer_depth.pint.dequantify().to_dataframe().reset_index().set_index(\"time\")[\"pelagic_layer_depth\"]"
   ]
  },
  {
   "cell_type": "markdown",
   "metadata": {},
   "source": [
    "Then resample to month.\n"
   ]
  },
  {
   "cell_type": "code",
   "execution_count": 30,
   "metadata": {},
   "outputs": [],
   "source": [
    "monthly_obs_day = observations_day_pandas.resample(\"ME\").mean()[TIME_START:TIME_END].dropna()\n",
    "monthly_obs_day.index = monthly_obs_day.index.to_period(\"M\").to_timestamp()\n",
    "\n",
    "monthly_obs_night = observations_night_pandas.resample(\"ME\").mean()[TIME_START:TIME_END].dropna()\n",
    "monthly_obs_night.index = monthly_obs_night.index.to_period(\"M\").to_timestamp()\n",
    "\n",
    "monthly_pred_d1n1 = optimized_biomass_pandas.iloc[:, 0].resample(\"ME\").mean()[TIME_START:TIME_END].dropna()\n",
    "monthly_pred_d1n1.index = monthly_pred_d1n1.index.to_period(\"M\").to_timestamp()\n",
    "\n",
    "monthly_pred_d2n1 = optimized_biomass_pandas.iloc[:, 1].resample(\"ME\").mean()[TIME_START:TIME_END].dropna()\n",
    "monthly_pred_d2n1.index = monthly_pred_d2n1.index.to_period(\"M\").to_timestamp()\n",
    "\n",
    "monthly_pred_orignal = original_biomass_pandas.iloc[:, 0].resample(\"ME\").mean()[TIME_START:TIME_END].dropna()\n",
    "monthly_pred_orignal.index = monthly_pred_orignal.index.to_period(\"M\").to_timestamp()\n",
    "\n",
    "monthly_layer = layer_pandas.resample(\"ME\").mean()[TIME_START:TIME_END].dropna()\n",
    "monthly_layer.index = monthly_layer.index.to_period(\"M\").to_timestamp()"
   ]
  },
  {
   "cell_type": "markdown",
   "metadata": {},
   "source": [
    "# Plot\n"
   ]
  },
  {
   "cell_type": "markdown",
   "metadata": {},
   "source": [
    "### Correlation matrix of X best individuals\n"
   ]
  },
  {
   "cell_type": "code",
   "execution_count": null,
   "metadata": {},
   "outputs": [],
   "source": [
    "NB_INDIVIDUAL_CORRELATION = 100\n",
    "\n",
    "indiv_param = viewer.hall_of_fame.iloc[:NB_INDIVIDUAL_CORRELATION, :-1].to_numpy()\n",
    "param_names = viewer.hall_of_fame.columns[:-1]\n",
    "\n",
    "corr_matrix = np.corrcoef(indiv_param.T)\n",
    "np.fill_diagonal(corr_matrix, np.nan)\n",
    "\n",
    "fig = px.imshow(\n",
    "    corr_matrix,\n",
    "    text_auto=False,\n",
    "    aspect=\"auto\",\n",
    "    color_continuous_scale=[[0, \"blue\"], [0.5, \"white\"], [1, \"red\"]],\n",
    "    zmin=-1,\n",
    "    zmax=1,\n",
    "    x=param_names,\n",
    "    y=param_names,\n",
    ")\n",
    "fig.update_layout(\n",
    "    title=\"Correlation Matrix of Hall of Fame Parameters (Lower Triangle)\",\n",
    "    plot_bgcolor=\"rgba(0,0,0,0)\",\n",
    "    paper_bgcolor=\"rgba(0,0,0,0)\",\n",
    "    xaxis={\"showgrid\": False, \"tickangle\": -35},\n",
    "    yaxis={\"showgrid\": False},\n",
    ")\n",
    "\n",
    "fig.show()"
   ]
  },
  {
   "cell_type": "code",
   "execution_count": 32,
   "metadata": {},
   "outputs": [],
   "source": [
    "if SAVE:\n",
    "    fig.write_html(f\"Correlation_best_individuals_{export_file_name}.html\")"
   ]
  },
  {
   "cell_type": "markdown",
   "metadata": {},
   "source": [
    "### Daily with best individuals\n"
   ]
  },
  {
   "cell_type": "code",
   "execution_count": null,
   "metadata": {},
   "outputs": [],
   "source": [
    "x = best_model.export_biomass().time.to_series()\n",
    "x_rev = pd.concat([x, x[::-1]])\n",
    "\n",
    "fig = go.Figure()\n",
    "\n",
    "# D1N1 data\n",
    "y_D1N1 = (\n",
    "    best_model.export_biomass()\n",
    "    .sel(functional_group=0)\n",
    "    .pint.quantify()\n",
    "    .pint.to(\"mg/m2\")\n",
    "    .pint.dequantify()\n",
    "    .data.flatten()\n",
    ")\n",
    "y_D1N1_upper = max_biomass_D1N1.pint.quantify().pint.to(\"milligram / meter ** 2\")\n",
    "y_D1N1_lower = min_biomass_D1N1.pint.quantify().pint.to(\"milligram / meter ** 2\")[::-1]\n",
    "y_D1N1_rev = np.concatenate([y_D1N1_upper, y_D1N1_lower])\n",
    "\n",
    "# D2N1 data\n",
    "y_D2N1 = (\n",
    "    best_model.export_biomass()\n",
    "    .sel(functional_group=1)\n",
    "    .pint.quantify()\n",
    "    .pint.to(\"mg/m2\")\n",
    "    .pint.dequantify()\n",
    "    .data.flatten()\n",
    ") + y_D1N1\n",
    "y_D2N1_upper = max_biomass_D2N1.pint.quantify().pint.to(\"milligram / meter ** 2\") + y_D1N1_upper\n",
    "y_D2N1_lower = min_biomass_D2N1.pint.quantify().pint.to(\"milligram / meter ** 2\")[::-1] + y_D1N1_lower\n",
    "y_D2N1_rev = np.concatenate([y_D2N1_upper, y_D2N1_lower])\n",
    "\n",
    "fig = go.Figure()\n",
    "\n",
    "# D1N1 traces\n",
    "fig.add_trace(\n",
    "    go.Scatter(\n",
    "        x=x_rev,\n",
    "        y=y_D1N1_rev,\n",
    "        fill=\"toself\",\n",
    "        fillcolor=\"rgba(255,0,0,0.2)\",\n",
    "        line_color=\"rgba(255,255,255,0)\",\n",
    "        name=f\"D1N1 : {NB_INDIVIDUAL_TO_SHOW} best individuals\",\n",
    "    )\n",
    ")\n",
    "\n",
    "fig.add_trace(\n",
    "    go.Scatter(\n",
    "        x=x,\n",
    "        y=y_D1N1,\n",
    "        line_color=\"rgb(255,0,0)\",\n",
    "        name=\"D1N1 : Best individual\",\n",
    "    )\n",
    ")\n",
    "\n",
    "# D2N1 traces\n",
    "fig.add_trace(\n",
    "    go.Scatter(\n",
    "        x=x_rev,\n",
    "        y=y_D2N1_rev,\n",
    "        fill=\"toself\",\n",
    "        fillcolor=\"rgba(0,176,246,0.2)\",\n",
    "        line_color=\"rgba(255,255,255,0)\",\n",
    "        name=f\"D2N1 : {NB_INDIVIDUAL_TO_SHOW} best individuals\",\n",
    "    )\n",
    ")\n",
    "\n",
    "fig.add_trace(\n",
    "    go.Scatter(\n",
    "        x=x,\n",
    "        y=y_D2N1,\n",
    "        line_color=\"rgb(0,176,246)\",\n",
    "        name=\"D2N1 : Best individual\",\n",
    "    )\n",
    ")\n",
    "\n",
    "# OBSERVATIONS ------------------------------------------------ #\n",
    "\n",
    "fig.add_trace(\n",
    "    go.Scatter(\n",
    "        x=observations_selected_without_init.day.time.data.flatten(),\n",
    "        y=observations_selected_without_init.day.pint.quantify().pint.to(\"mg/m2\").pint.dequantify().data.flatten(),\n",
    "        mode=\"lines+markers\",\n",
    "        name=\"Day observations\",\n",
    "        line={\"dash\": \"dash\", \"color\": \"firebrick\", \"width\": 1},\n",
    "    )\n",
    ")\n",
    "\n",
    "fig.add_trace(\n",
    "    go.Scatter(\n",
    "        x=observations_selected_without_init.night.time.data.flatten(),\n",
    "        y=observations_selected_without_init.night.pint.quantify().pint.to(\"mg/m2\").pint.dequantify().data.flatten(),\n",
    "        mode=\"lines+markers\",\n",
    "        name=\"Night observations\",\n",
    "        line={\"dash\": \"dash\", \"color\": \"royalblue\", \"width\": 1},\n",
    "    )\n",
    ")\n",
    "\n",
    "# PRIMARY PRODUCTION ----------------------------------------- #\n",
    "\n",
    "fig.add_trace(\n",
    "    go.Scatter(\n",
    "        x=best_model.state.primary_production.time.data.flatten(),\n",
    "        y=best_model.state.primary_production.pint.quantify().pint.to(\"mg/m2/day\").pint.dequantify().data.flatten(),\n",
    "        mode=\"lines\",\n",
    "        name=\"Primary Production (mg/m2/day)\",\n",
    "        line={\"dash\": \"dot\", \"color\": \"green\", \"width\": 1},\n",
    "    )\n",
    ")\n",
    "\n",
    "fig.update_layout(\n",
    "    xaxis_title=\"Time\",\n",
    "    yaxis_title=\"Biomass (mg/m2)\",\n",
    "    title=f\"Biomass over Time (Daily) : {export_file_name}\",\n",
    "    showlegend=True,\n",
    ")\n",
    "\n",
    "fig.show()"
   ]
  },
  {
   "cell_type": "code",
   "execution_count": 34,
   "metadata": {},
   "outputs": [],
   "source": [
    "if SAVE:\n",
    "    fig.write_html(f\"Biomass_best_individuals_{export_file_name}.html\")"
   ]
  },
  {
   "cell_type": "markdown",
   "metadata": {},
   "source": [
    "### Monthly with original parameters\n"
   ]
  },
  {
   "cell_type": "code",
   "execution_count": null,
   "metadata": {},
   "outputs": [],
   "source": [
    "fig = go.Figure(\n",
    "    layout={\n",
    "        \"title\": \"SeapoPym Monthly Biomass during day (CAFE npp) and Observations : HOT station + all param. optimization + 2 groups\",\n",
    "        \"xaxis\": {\"title\": \"Time\"},\n",
    "        \"yaxis\": {\"title\": \"Biomass . Epipelagic layer depth (mg/m^2)\"},\n",
    "    }\n",
    ")\n",
    "\n",
    "# DAY ------------------------------------------------ #\n",
    "\n",
    "fig.add_trace(\n",
    "    go.Scatter(\n",
    "        x=monthly_pred_d1n1.index,\n",
    "        y=monthly_pred_d1n1,\n",
    "        mode=\"lines\",\n",
    "        line={\"color\": \"rgb(255,0,0)\"},\n",
    "        name=\"Predictions Day\",\n",
    "    )\n",
    ")\n",
    "fig.add_trace(\n",
    "    go.Scatter(\n",
    "        x=monthly_obs_day.index,\n",
    "        y=monthly_obs_day,\n",
    "        fill=\"tonextx\",\n",
    "        fillcolor=\"rgba(255,0,0,0.15)\",\n",
    "        mode=\"lines+markers\",\n",
    "        line={\"color\": \"firebrick\", \"dash\": \"dash\", \"width\": 1},\n",
    "        name=\"Observations (day)\",\n",
    "    )\n",
    ")\n",
    "# Night ------------------------------------------------ #\n",
    "fig.add_trace(\n",
    "    go.Scatter(\n",
    "        x=(monthly_pred_d1n1 + monthly_pred_d2n1).index,\n",
    "        y=(monthly_pred_d1n1 + monthly_pred_d2n1),\n",
    "        mode=\"lines\",\n",
    "        line={\"color\": \"rgb(0,176,246)\"},\n",
    "        name=\"Predictions Night\",\n",
    "    )\n",
    ")\n",
    "fig.add_trace(\n",
    "    go.Scatter(\n",
    "        x=monthly_obs_night.index,\n",
    "        y=monthly_obs_night,\n",
    "        fill=\"tonextx\",\n",
    "        fillcolor=\"rgba(0,176,246,0.15)\",\n",
    "        mode=\"lines+markers\",\n",
    "        line={\"color\": \"royalblue\", \"dash\": \"dash\", \"width\": 1},\n",
    "        name=\"Observations (night)\",\n",
    "    )\n",
    ")\n",
    "\n",
    "# LMTL ------------------------------------------------ #\n",
    "fig.add_trace(\n",
    "    go.Scatter(\n",
    "        x=monthly_pred_orignal.index,\n",
    "        y=monthly_pred_orignal,\n",
    "        mode=\"lines\",\n",
    "        line={\"color\": \"grey\"},\n",
    "        name=\"Predictions Original\",\n",
    "    )\n",
    ")\n",
    "\n",
    "\n",
    "# LAYER ------------------------------------------------ #\n",
    "\n",
    "fig.add_trace(px.line(monthly_layer).data[0])\n",
    "\n",
    "fig.update_traces(\n",
    "    yaxis=\"y2\",\n",
    "    selector={\"name\": \"pelagic_layer_depth\"},\n",
    "    line={\"color\": \"green\", \"width\": 1, \"dash\": \"dot\"},\n",
    ")\n",
    "fig.update_layout(\n",
    "    yaxis2={\"title\": \"Layer Depth (m)\", \"overlaying\": \"y\", \"side\": \"right\"},\n",
    "    height=600,\n",
    ")\n",
    "fig.update_layout(legend={\"y\": 1.0, \"x\": 1.1})\n",
    "fig.show()"
   ]
  },
  {
   "cell_type": "code",
   "execution_count": 36,
   "metadata": {},
   "outputs": [],
   "source": [
    "if SAVE:\n",
    "    fig.write_html(f\"Biomass_monthly_with_original_{export_file_name}.html\")"
   ]
  },
  {
   "cell_type": "markdown",
   "metadata": {},
   "source": [
    "### Taylor Diagram\n"
   ]
  },
  {
   "cell_type": "code",
   "execution_count": null,
   "metadata": {},
   "outputs": [],
   "source": [
    "diagram = ModTaylorDiagram()\n",
    "\n",
    "all_model = [monthly_pred_d1n1, monthly_pred_d1n1 + monthly_pred_d2n1, monthly_pred_orignal, monthly_pred_orignal]\n",
    "all_obs = [monthly_obs_day, monthly_obs_night, monthly_obs_day, monthly_obs_night]\n",
    "\n",
    "all_names = [\"HOT Day\", \"HOT Night\", \"Original Day\", \"Original Night\"]\n",
    "\n",
    "for model, obs, name in zip(all_model, all_obs, all_names):\n",
    "    diagram = generate_mod_taylor_diagram(diagram, obs=obs, model=model[obs.index], name=name)\n",
    "diagram.plot()\n",
    "plt.title(\n",
    "    \"Taylor Diagram for Seapodym model during day at HOT station with CAFE NPP : all parameters optimization and 2 groups\"\n",
    ")\n",
    "\n",
    "# export the figure\n",
    "if SAVE:\n",
    "    plt.savefig(f\"Taylor_{export_file_name}.png\")\n",
    "\n",
    "plt.show()"
   ]
  },
  {
   "cell_type": "code",
   "execution_count": null,
   "metadata": {},
   "outputs": [],
   "source": [
    "if SAVE:\n",
    "    diagram.get_stats().to_csv(f\"Stats_{export_file_name}.csv\", index=False)\n",
    "diagram.get_stats()"
   ]
  },
  {
   "cell_type": "markdown",
   "metadata": {},
   "source": [
    "### Telagrand diagram\n"
   ]
  },
  {
   "cell_type": "code",
   "execution_count": 39,
   "metadata": {},
   "outputs": [],
   "source": [
    "# Quantify and convert observations to mg/m2\n",
    "obs_day = (\n",
    "    observations_selected_without_init.day.isel(latitude=0, longitude=0, layer=0)\n",
    "    .pint.quantify()\n",
    "    .pint.to(\"mg/m2\")\n",
    "    .pint.dequantify()\n",
    "    # .resample(time=\"1D\")\n",
    "    # .interpolate(\"linear\")\n",
    ")\n",
    "\n",
    "# Select and convert predictions to mg/m2\n",
    "pred_day = (\n",
    "    best_individuals_simulations.isel(latitude=0, longitude=0, functional_group=0)\n",
    "    .sel(time=obs_day.time)\n",
    "    .pint.quantify()\n",
    "    .pint.to(\"mg/m2\")\n",
    "    .pint.dequantify()\n",
    ")\n",
    "\n",
    "# Calculate ranks for day observations\n",
    "all_ranks_day = []\n",
    "for time_ite in obs_day.time:\n",
    "    pred_day_ite = np.sort(pred_day.sel(time=time_ite).data)\n",
    "    obs_day_ite = float(obs_day.sel(time=time_ite))\n",
    "    rank = np.searchsorted(pred_day_ite, obs_day_ite)\n",
    "    all_ranks_day.append(rank)\n",
    "\n",
    "# Quantify and convert night observations to mg/m2\n",
    "obs_night = (\n",
    "    observations_selected_without_init.night.isel(latitude=0, longitude=0, layer=0)\n",
    "    .pint.quantify()\n",
    "    .pint.to(\"mg/m2\")\n",
    "    .pint.dequantify()\n",
    "    # .resample(time=\"1D\")\n",
    "    # .interpolate(\"linear\")\n",
    ")\n",
    "\n",
    "# Select and convert night predictions to mg/m2\n",
    "pred_night = pred_day + (\n",
    "    best_individuals_simulations.isel(latitude=0, longitude=0, functional_group=1)\n",
    "    .sel(time=obs_night.time)\n",
    "    .pint.quantify()\n",
    "    .pint.to(\"mg/m2\")\n",
    "    .pint.dequantify()\n",
    ")\n",
    "\n",
    "# Calculate ranks for night observations\n",
    "all_ranks_night = []\n",
    "for time_ite in obs_night.time:\n",
    "    pred_night_ite = np.sort(pred_night.sel(time=time_ite).data)\n",
    "    obs_night_ite = float(obs_night.sel(time=time_ite))\n",
    "    rank = np.searchsorted(pred_night_ite, obs_night_ite)\n",
    "    all_ranks_night.append(rank)"
   ]
  },
  {
   "cell_type": "code",
   "execution_count": null,
   "metadata": {},
   "outputs": [],
   "source": [
    "fig = go.Figure()\n",
    "\n",
    "\n",
    "value, count = np.unique(all_ranks_day, return_counts=True)\n",
    "count = count / count.sum()\n",
    "fig.add_trace(\n",
    "    go.Bar(\n",
    "        x=value,\n",
    "        y=count,\n",
    "        name=\"Day Ranks\",\n",
    "        marker_color=\"firebrick\",\n",
    "        opacity=0.75,\n",
    "    )\n",
    ")\n",
    "\n",
    "value, count = np.unique(all_ranks_night, return_counts=True)\n",
    "count = count / count.sum()\n",
    "fig.add_trace(\n",
    "    go.Bar(\n",
    "        x=value,\n",
    "        y=count,\n",
    "        name=\"Night Ranks\",\n",
    "        marker_color=\"royalblue\",\n",
    "        opacity=0.75,\n",
    "    )\n",
    ")\n",
    "\n",
    "# Update layout\n",
    "fig.update_layout(\n",
    "    title=\"Histogram of Ranks for Day and Night\",\n",
    "    xaxis_title=\"Rank\",\n",
    "    yaxis_title=\"P(Rank)\",\n",
    "    barmode=\"group\",\n",
    ")\n",
    "\n",
    "fig.show()"
   ]
  },
  {
   "cell_type": "code",
   "execution_count": 41,
   "metadata": {},
   "outputs": [],
   "source": [
    "if SAVE:\n",
    "    fig.write_html(f\"Telagrand_diagram_{export_file_name}.html\")"
   ]
  }
 ],
 "metadata": {
  "kernelspec": {
   "display_name": ".venv",
   "language": "python",
   "name": "python3"
  },
  "language_info": {
   "codemirror_mode": {
    "name": "ipython",
    "version": 3
   },
   "file_extension": ".py",
   "mimetype": "text/x-python",
   "name": "python",
   "nbconvert_exporter": "python",
   "pygments_lexer": "ipython3",
   "version": "3.12.8"
  }
 },
 "nbformat": 4,
 "nbformat_minor": 2
}
