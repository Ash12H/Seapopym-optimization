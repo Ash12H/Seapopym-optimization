{
 "cells": [
  {
   "cell_type": "code",
   "execution_count": 2,
   "metadata": {},
   "outputs": [],
   "source": [
    "from scipy.stats import entropy\n",
    "import numpy as np\n",
    "import pandas as pd\n",
    "import plotly.express as px\n",
    "\n",
    "# set plotly as default pandas plotting backend\n",
    "pd.options.plotting.backend = \"plotly\""
   ]
  },
  {
   "cell_type": "code",
   "execution_count": 3,
   "metadata": {},
   "outputs": [],
   "source": [
    "data = pd.read_json(\"SeapoPym_HOT_climato_obs_npp_opti_all_parameters_2_groups_logbook.json\", orient=\"table\")\n",
    "var = data.columns[:-2]"
   ]
  },
  {
   "cell_type": "code",
   "execution_count": 4,
   "metadata": {},
   "outputs": [],
   "source": [
    "data = data.reset_index()"
   ]
  },
  {
   "cell_type": "code",
   "execution_count": 5,
   "metadata": {},
   "outputs": [
    {
     "data": {
      "text/plain": [
       "Index(['D1N1_energy_coefficient', 'D1N1_tr_max', 'D1N1_tr_rate',\n",
       "       'D1N1_inv_lambda_max', 'D1N1_inv_lambda_rate',\n",
       "       'D2N1_energy_coefficient', 'D2N1_tr_max', 'D2N1_tr_rate',\n",
       "       'D2N1_inv_lambda_max', 'D2N1_inv_lambda_rate'],\n",
       "      dtype='object')"
      ]
     },
     "execution_count": 5,
     "metadata": {},
     "output_type": "execute_result"
    }
   ],
   "source": [
    "var"
   ]
  },
  {
   "cell_type": "code",
   "execution_count": 6,
   "metadata": {},
   "outputs": [
    {
     "data": {
      "application/vnd.plotly.v1+json": {
       "config": {
        "plotlyServerURL": "https://plot.ly"
       },
       "data": [
        {
         "fillpattern": {
          "shape": ""
         },
         "hovertemplate": "variable=D1N1_energy_coefficient<br>generation=%{x}<br>entropy=%{y}<extra></extra>",
         "legendgroup": "D1N1_energy_coefficient",
         "line": {
          "color": "#636efa"
         },
         "marker": {
          "symbol": "circle"
         },
         "mode": "lines+markers",
         "name": "D1N1_energy_coefficient",
         "orientation": "v",
         "showlegend": true,
         "stackgroup": "1",
         "type": "scatter",
         "x": [
          0,
          1,
          2,
          3,
          4,
          5,
          6,
          7,
          8,
          9,
          10,
          11,
          12,
          13,
          14,
          15,
          16,
          17,
          18,
          19
         ],
         "xaxis": "x",
         "y": [
          2.29992712605637,
          2.2944952452363445,
          2.292847218188851,
          2.2425914322446148,
          2.1958422389126913,
          2.1463076588160583,
          2.088364872098746,
          2.1411774320736923,
          2.024398257768459,
          1.9968169761972108,
          1.9698261982613436,
          2.1214143893019077,
          2.0466540403849147,
          2.005932549990347,
          1.887728759260992,
          1.8766128100221073,
          1.8041571153716665,
          1.722912149916972,
          1.7293430262299143,
          1.6357603911106033
         ],
         "yaxis": "y"
        },
        {
         "fillpattern": {
          "shape": ""
         },
         "hovertemplate": "variable=D1N1_tr_max<br>generation=%{x}<br>entropy=%{y}<extra></extra>",
         "legendgroup": "D1N1_tr_max",
         "line": {
          "color": "#EF553B"
         },
         "marker": {
          "symbol": "circle"
         },
         "mode": "lines+markers",
         "name": "D1N1_tr_max",
         "orientation": "v",
         "showlegend": true,
         "stackgroup": "1",
         "type": "scatter",
         "x": [
          0,
          1,
          2,
          3,
          4,
          5,
          6,
          7,
          8,
          9,
          10,
          11,
          12,
          13,
          14,
          15,
          16,
          17,
          18,
          19
         ],
         "xaxis": "x",
         "y": [
          2.2983955322314022,
          2.2902370240742074,
          2.2831811085600044,
          2.279512050189482,
          2.244785529236919,
          2.219926534814927,
          2.1659952808738034,
          2.095396700364541,
          2.042171526265905,
          1.9852885991725102,
          2.0296005196618228,
          2.041226227094145,
          2.035020358102397,
          1.9681624688777055,
          1.9987809806734709,
          1.9633533590090275,
          1.8711831116462314,
          1.6815639886368738,
          1.5688404931872764,
          1.5667409501356278
         ],
         "yaxis": "y"
        },
        {
         "fillpattern": {
          "shape": ""
         },
         "hovertemplate": "variable=D1N1_tr_rate<br>generation=%{x}<br>entropy=%{y}<extra></extra>",
         "legendgroup": "D1N1_tr_rate",
         "line": {
          "color": "#00cc96"
         },
         "marker": {
          "symbol": "circle"
         },
         "mode": "lines+markers",
         "name": "D1N1_tr_rate",
         "orientation": "v",
         "showlegend": true,
         "stackgroup": "1",
         "type": "scatter",
         "x": [
          0,
          1,
          2,
          3,
          4,
          5,
          6,
          7,
          8,
          9,
          10,
          11,
          12,
          13,
          14,
          15,
          16,
          17,
          18,
          19
         ],
         "xaxis": "x",
         "y": [
          2.298514549139706,
          2.2880244238817014,
          2.2876809749981164,
          2.2792786554443785,
          2.2381479035978558,
          2.187840084741312,
          2.111197149735372,
          2.0601527876160977,
          1.9763773685534023,
          1.880191390389303,
          1.7184214851232866,
          1.5709456454772552,
          1.4067575335880693,
          1.1545831547284486,
          0.8967311235325064,
          0.7333143337858683,
          0.5644569557305945,
          0.50513129012216,
          0.3712148725263409,
          0.33019242709251084
         ],
         "yaxis": "y"
        },
        {
         "fillpattern": {
          "shape": ""
         },
         "hovertemplate": "variable=D1N1_inv_lambda_max<br>generation=%{x}<br>entropy=%{y}<extra></extra>",
         "legendgroup": "D1N1_inv_lambda_max",
         "line": {
          "color": "#ab63fa"
         },
         "marker": {
          "symbol": "circle"
         },
         "mode": "lines+markers",
         "name": "D1N1_inv_lambda_max",
         "orientation": "v",
         "showlegend": true,
         "stackgroup": "1",
         "type": "scatter",
         "x": [
          0,
          1,
          2,
          3,
          4,
          5,
          6,
          7,
          8,
          9,
          10,
          11,
          12,
          13,
          14,
          15,
          16,
          17,
          18,
          19
         ],
         "xaxis": "x",
         "y": [
          2.2985164816966632,
          2.292653384203569,
          2.293677282343147,
          2.287949078929243,
          2.2950958267510218,
          2.284369612356291,
          2.2789249347358016,
          2.2452145417105465,
          2.2316488446039915,
          2.220186677789226,
          2.2072441618764636,
          2.1664579647165456,
          2.1198806473664495,
          2.076728053434805,
          2.034943841364788,
          2.003749660513486,
          1.8341961094273533,
          1.7178413271666264,
          1.683569562368628,
          1.6353868691147733
         ],
         "yaxis": "y"
        },
        {
         "fillpattern": {
          "shape": ""
         },
         "hovertemplate": "variable=D1N1_inv_lambda_rate<br>generation=%{x}<br>entropy=%{y}<extra></extra>",
         "legendgroup": "D1N1_inv_lambda_rate",
         "line": {
          "color": "#FFA15A"
         },
         "marker": {
          "symbol": "circle"
         },
         "mode": "lines+markers",
         "name": "D1N1_inv_lambda_rate",
         "orientation": "v",
         "showlegend": true,
         "stackgroup": "1",
         "type": "scatter",
         "x": [
          0,
          1,
          2,
          3,
          4,
          5,
          6,
          7,
          8,
          9,
          10,
          11,
          12,
          13,
          14,
          15,
          16,
          17,
          18,
          19
         ],
         "xaxis": "x",
         "y": [
          2.299070220633358,
          2.149007921975743,
          1.9423507053123996,
          1.8434456711934362,
          1.730453562406267,
          1.5405022935378179,
          1.5812416246164227,
          1.4663721995299464,
          1.3832510406373961,
          1.382226569158349,
          1.6058221021310535,
          1.4645469643899487,
          1.3126112536560666,
          1.563512083451836,
          1.564374858629855,
          1.5694861128151796,
          1.449185631104264,
          1.541563585370074,
          1.3741956636653176,
          1.279121342904106
         ],
         "yaxis": "y"
        },
        {
         "fillpattern": {
          "shape": ""
         },
         "hovertemplate": "variable=D2N1_energy_coefficient<br>generation=%{x}<br>entropy=%{y}<extra></extra>",
         "legendgroup": "D2N1_energy_coefficient",
         "line": {
          "color": "#19d3f3"
         },
         "marker": {
          "symbol": "circle"
         },
         "mode": "lines+markers",
         "name": "D2N1_energy_coefficient",
         "orientation": "v",
         "showlegend": true,
         "stackgroup": "1",
         "type": "scatter",
         "x": [
          0,
          1,
          2,
          3,
          4,
          5,
          6,
          7,
          8,
          9,
          10,
          11,
          12,
          13,
          14,
          15,
          16,
          17,
          18,
          19
         ],
         "xaxis": "x",
         "y": [
          2.298806183786715,
          2.272980002269784,
          2.2410938638169875,
          2.229286867330003,
          2.201188703850606,
          2.2445445376870525,
          2.196720360781825,
          2.143354946979468,
          2.114975622160347,
          2.1146997326951054,
          2.115716831808742,
          2.0875840498491125,
          2.0026508658930178,
          1.944787600407893,
          1.8423089918485762,
          1.7362008450464277,
          1.5601817452171123,
          1.4965627384315408,
          1.6248973790957462,
          1.2313120676359395
         ],
         "yaxis": "y"
        },
        {
         "fillpattern": {
          "shape": ""
         },
         "hovertemplate": "variable=D2N1_tr_max<br>generation=%{x}<br>entropy=%{y}<extra></extra>",
         "legendgroup": "D2N1_tr_max",
         "line": {
          "color": "#FF6692"
         },
         "marker": {
          "symbol": "circle"
         },
         "mode": "lines+markers",
         "name": "D2N1_tr_max",
         "orientation": "v",
         "showlegend": true,
         "stackgroup": "1",
         "type": "scatter",
         "x": [
          0,
          1,
          2,
          3,
          4,
          5,
          6,
          7,
          8,
          9,
          10,
          11,
          12,
          13,
          14,
          15,
          16,
          17,
          18,
          19
         ],
         "xaxis": "x",
         "y": [
          2.2951728861060734,
          2.295870900753434,
          2.2940472770208724,
          2.29028143668216,
          2.2801116181880956,
          2.268074931188046,
          2.245851127821526,
          2.2417173725967463,
          2.2442709668362997,
          2.2442399227564027,
          2.2669540953045426,
          2.2452650352584693,
          2.2632370867611824,
          2.257668516722804,
          2.2508721316426414,
          2.253604505788312,
          2.249049563808351,
          2.267874794349733,
          2.2323936729429597,
          2.1778822507898963
         ],
         "yaxis": "y"
        },
        {
         "fillpattern": {
          "shape": ""
         },
         "hovertemplate": "variable=D2N1_tr_rate<br>generation=%{x}<br>entropy=%{y}<extra></extra>",
         "legendgroup": "D2N1_tr_rate",
         "line": {
          "color": "#B6E880"
         },
         "marker": {
          "symbol": "circle"
         },
         "mode": "lines+markers",
         "name": "D2N1_tr_rate",
         "orientation": "v",
         "showlegend": true,
         "stackgroup": "1",
         "type": "scatter",
         "x": [
          0,
          1,
          2,
          3,
          4,
          5,
          6,
          7,
          8,
          9,
          10,
          11,
          12,
          13,
          14,
          15,
          16,
          17,
          18,
          19
         ],
         "xaxis": "x",
         "y": [
          2.2976004467675266,
          2.2945023745994524,
          2.2831116818925614,
          2.278163777332195,
          2.255664924764551,
          2.252656867781975,
          2.2451870123140942,
          2.244050796053898,
          2.230246645194216,
          2.2154840021932984,
          2.1977246171459246,
          2.1897209283233208,
          2.195620228203147,
          2.2130701787042115,
          2.1895290395900147,
          2.1940409721318708,
          2.1856299870172062,
          2.1919556334009864,
          2.155636216170871,
          2.1297994848216906
         ],
         "yaxis": "y"
        },
        {
         "fillpattern": {
          "shape": ""
         },
         "hovertemplate": "variable=D2N1_inv_lambda_max<br>generation=%{x}<br>entropy=%{y}<extra></extra>",
         "legendgroup": "D2N1_inv_lambda_max",
         "line": {
          "color": "#FF97FF"
         },
         "marker": {
          "symbol": "circle"
         },
         "mode": "lines+markers",
         "name": "D2N1_inv_lambda_max",
         "orientation": "v",
         "showlegend": true,
         "stackgroup": "1",
         "type": "scatter",
         "x": [
          0,
          1,
          2,
          3,
          4,
          5,
          6,
          7,
          8,
          9,
          10,
          11,
          12,
          13,
          14,
          15,
          16,
          17,
          18,
          19
         ],
         "xaxis": "x",
         "y": [
          2.297047053708424,
          2.293199991251355,
          2.2908611649811608,
          2.2737386922240717,
          2.264850503249507,
          2.253070457588218,
          2.2460655192350623,
          2.2154064131032207,
          2.18525028515188,
          2.1722913069675087,
          2.1942849332794343,
          2.1889528550816566,
          2.1911087917756924,
          2.191814843358278,
          2.144522598224029,
          2.089251480330427,
          1.9833335385695006,
          1.892583678694613,
          1.7866684353831475,
          1.7319942099737016
         ],
         "yaxis": "y"
        },
        {
         "fillpattern": {
          "shape": ""
         },
         "hovertemplate": "variable=D2N1_inv_lambda_rate<br>generation=%{x}<br>entropy=%{y}<extra></extra>",
         "legendgroup": "D2N1_inv_lambda_rate",
         "line": {
          "color": "#FECB52"
         },
         "marker": {
          "symbol": "circle"
         },
         "mode": "lines+markers",
         "name": "D2N1_inv_lambda_rate",
         "orientation": "v",
         "showlegend": true,
         "stackgroup": "1",
         "type": "scatter",
         "x": [
          0,
          1,
          2,
          3,
          4,
          5,
          6,
          7,
          8,
          9,
          10,
          11,
          12,
          13,
          14,
          15,
          16,
          17,
          18,
          19
         ],
         "xaxis": "x",
         "y": [
          2.2972721495468185,
          2.1573660510539168,
          1.9515895200488576,
          1.9111022457763314,
          1.7823602504063747,
          1.6766049741531068,
          1.6245301572952004,
          1.598851153948592,
          1.6446882634464703,
          1.576276763613578,
          1.486585772370385,
          1.4465227399955631,
          1.3240398496197503,
          1.2235146567288195,
          1.1857496794993194,
          1.1604374651120164,
          1.0222669136024871,
          0.9548527801124915,
          1.0963124819272647,
          1.1141746877717957
         ],
         "yaxis": "y"
        }
       ],
       "layout": {
        "legend": {
         "title": {
          "text": "variable"
         },
         "tracegroupgap": 0
        },
        "plot_bgcolor": "rgba(0, 0, 0, 0)",
        "template": {
         "data": {
          "bar": [
           {
            "error_x": {
             "color": "#2a3f5f"
            },
            "error_y": {
             "color": "#2a3f5f"
            },
            "marker": {
             "line": {
              "color": "#E5ECF6",
              "width": 0.5
             },
             "pattern": {
              "fillmode": "overlay",
              "size": 10,
              "solidity": 0.2
             }
            },
            "type": "bar"
           }
          ],
          "barpolar": [
           {
            "marker": {
             "line": {
              "color": "#E5ECF6",
              "width": 0.5
             },
             "pattern": {
              "fillmode": "overlay",
              "size": 10,
              "solidity": 0.2
             }
            },
            "type": "barpolar"
           }
          ],
          "carpet": [
           {
            "aaxis": {
             "endlinecolor": "#2a3f5f",
             "gridcolor": "white",
             "linecolor": "white",
             "minorgridcolor": "white",
             "startlinecolor": "#2a3f5f"
            },
            "baxis": {
             "endlinecolor": "#2a3f5f",
             "gridcolor": "white",
             "linecolor": "white",
             "minorgridcolor": "white",
             "startlinecolor": "#2a3f5f"
            },
            "type": "carpet"
           }
          ],
          "choropleth": [
           {
            "colorbar": {
             "outlinewidth": 0,
             "ticks": ""
            },
            "type": "choropleth"
           }
          ],
          "contour": [
           {
            "colorbar": {
             "outlinewidth": 0,
             "ticks": ""
            },
            "colorscale": [
             [
              0,
              "#0d0887"
             ],
             [
              0.1111111111111111,
              "#46039f"
             ],
             [
              0.2222222222222222,
              "#7201a8"
             ],
             [
              0.3333333333333333,
              "#9c179e"
             ],
             [
              0.4444444444444444,
              "#bd3786"
             ],
             [
              0.5555555555555556,
              "#d8576b"
             ],
             [
              0.6666666666666666,
              "#ed7953"
             ],
             [
              0.7777777777777778,
              "#fb9f3a"
             ],
             [
              0.8888888888888888,
              "#fdca26"
             ],
             [
              1,
              "#f0f921"
             ]
            ],
            "type": "contour"
           }
          ],
          "contourcarpet": [
           {
            "colorbar": {
             "outlinewidth": 0,
             "ticks": ""
            },
            "type": "contourcarpet"
           }
          ],
          "heatmap": [
           {
            "colorbar": {
             "outlinewidth": 0,
             "ticks": ""
            },
            "colorscale": [
             [
              0,
              "#0d0887"
             ],
             [
              0.1111111111111111,
              "#46039f"
             ],
             [
              0.2222222222222222,
              "#7201a8"
             ],
             [
              0.3333333333333333,
              "#9c179e"
             ],
             [
              0.4444444444444444,
              "#bd3786"
             ],
             [
              0.5555555555555556,
              "#d8576b"
             ],
             [
              0.6666666666666666,
              "#ed7953"
             ],
             [
              0.7777777777777778,
              "#fb9f3a"
             ],
             [
              0.8888888888888888,
              "#fdca26"
             ],
             [
              1,
              "#f0f921"
             ]
            ],
            "type": "heatmap"
           }
          ],
          "heatmapgl": [
           {
            "colorbar": {
             "outlinewidth": 0,
             "ticks": ""
            },
            "colorscale": [
             [
              0,
              "#0d0887"
             ],
             [
              0.1111111111111111,
              "#46039f"
             ],
             [
              0.2222222222222222,
              "#7201a8"
             ],
             [
              0.3333333333333333,
              "#9c179e"
             ],
             [
              0.4444444444444444,
              "#bd3786"
             ],
             [
              0.5555555555555556,
              "#d8576b"
             ],
             [
              0.6666666666666666,
              "#ed7953"
             ],
             [
              0.7777777777777778,
              "#fb9f3a"
             ],
             [
              0.8888888888888888,
              "#fdca26"
             ],
             [
              1,
              "#f0f921"
             ]
            ],
            "type": "heatmapgl"
           }
          ],
          "histogram": [
           {
            "marker": {
             "pattern": {
              "fillmode": "overlay",
              "size": 10,
              "solidity": 0.2
             }
            },
            "type": "histogram"
           }
          ],
          "histogram2d": [
           {
            "colorbar": {
             "outlinewidth": 0,
             "ticks": ""
            },
            "colorscale": [
             [
              0,
              "#0d0887"
             ],
             [
              0.1111111111111111,
              "#46039f"
             ],
             [
              0.2222222222222222,
              "#7201a8"
             ],
             [
              0.3333333333333333,
              "#9c179e"
             ],
             [
              0.4444444444444444,
              "#bd3786"
             ],
             [
              0.5555555555555556,
              "#d8576b"
             ],
             [
              0.6666666666666666,
              "#ed7953"
             ],
             [
              0.7777777777777778,
              "#fb9f3a"
             ],
             [
              0.8888888888888888,
              "#fdca26"
             ],
             [
              1,
              "#f0f921"
             ]
            ],
            "type": "histogram2d"
           }
          ],
          "histogram2dcontour": [
           {
            "colorbar": {
             "outlinewidth": 0,
             "ticks": ""
            },
            "colorscale": [
             [
              0,
              "#0d0887"
             ],
             [
              0.1111111111111111,
              "#46039f"
             ],
             [
              0.2222222222222222,
              "#7201a8"
             ],
             [
              0.3333333333333333,
              "#9c179e"
             ],
             [
              0.4444444444444444,
              "#bd3786"
             ],
             [
              0.5555555555555556,
              "#d8576b"
             ],
             [
              0.6666666666666666,
              "#ed7953"
             ],
             [
              0.7777777777777778,
              "#fb9f3a"
             ],
             [
              0.8888888888888888,
              "#fdca26"
             ],
             [
              1,
              "#f0f921"
             ]
            ],
            "type": "histogram2dcontour"
           }
          ],
          "mesh3d": [
           {
            "colorbar": {
             "outlinewidth": 0,
             "ticks": ""
            },
            "type": "mesh3d"
           }
          ],
          "parcoords": [
           {
            "line": {
             "colorbar": {
              "outlinewidth": 0,
              "ticks": ""
             }
            },
            "type": "parcoords"
           }
          ],
          "pie": [
           {
            "automargin": true,
            "type": "pie"
           }
          ],
          "scatter": [
           {
            "fillpattern": {
             "fillmode": "overlay",
             "size": 10,
             "solidity": 0.2
            },
            "type": "scatter"
           }
          ],
          "scatter3d": [
           {
            "line": {
             "colorbar": {
              "outlinewidth": 0,
              "ticks": ""
             }
            },
            "marker": {
             "colorbar": {
              "outlinewidth": 0,
              "ticks": ""
             }
            },
            "type": "scatter3d"
           }
          ],
          "scattercarpet": [
           {
            "marker": {
             "colorbar": {
              "outlinewidth": 0,
              "ticks": ""
             }
            },
            "type": "scattercarpet"
           }
          ],
          "scattergeo": [
           {
            "marker": {
             "colorbar": {
              "outlinewidth": 0,
              "ticks": ""
             }
            },
            "type": "scattergeo"
           }
          ],
          "scattergl": [
           {
            "marker": {
             "colorbar": {
              "outlinewidth": 0,
              "ticks": ""
             }
            },
            "type": "scattergl"
           }
          ],
          "scattermapbox": [
           {
            "marker": {
             "colorbar": {
              "outlinewidth": 0,
              "ticks": ""
             }
            },
            "type": "scattermapbox"
           }
          ],
          "scatterpolar": [
           {
            "marker": {
             "colorbar": {
              "outlinewidth": 0,
              "ticks": ""
             }
            },
            "type": "scatterpolar"
           }
          ],
          "scatterpolargl": [
           {
            "marker": {
             "colorbar": {
              "outlinewidth": 0,
              "ticks": ""
             }
            },
            "type": "scatterpolargl"
           }
          ],
          "scatterternary": [
           {
            "marker": {
             "colorbar": {
              "outlinewidth": 0,
              "ticks": ""
             }
            },
            "type": "scatterternary"
           }
          ],
          "surface": [
           {
            "colorbar": {
             "outlinewidth": 0,
             "ticks": ""
            },
            "colorscale": [
             [
              0,
              "#0d0887"
             ],
             [
              0.1111111111111111,
              "#46039f"
             ],
             [
              0.2222222222222222,
              "#7201a8"
             ],
             [
              0.3333333333333333,
              "#9c179e"
             ],
             [
              0.4444444444444444,
              "#bd3786"
             ],
             [
              0.5555555555555556,
              "#d8576b"
             ],
             [
              0.6666666666666666,
              "#ed7953"
             ],
             [
              0.7777777777777778,
              "#fb9f3a"
             ],
             [
              0.8888888888888888,
              "#fdca26"
             ],
             [
              1,
              "#f0f921"
             ]
            ],
            "type": "surface"
           }
          ],
          "table": [
           {
            "cells": {
             "fill": {
              "color": "#EBF0F8"
             },
             "line": {
              "color": "white"
             }
            },
            "header": {
             "fill": {
              "color": "#C8D4E3"
             },
             "line": {
              "color": "white"
             }
            },
            "type": "table"
           }
          ]
         },
         "layout": {
          "annotationdefaults": {
           "arrowcolor": "#2a3f5f",
           "arrowhead": 0,
           "arrowwidth": 1
          },
          "autotypenumbers": "strict",
          "coloraxis": {
           "colorbar": {
            "outlinewidth": 0,
            "ticks": ""
           }
          },
          "colorscale": {
           "diverging": [
            [
             0,
             "#8e0152"
            ],
            [
             0.1,
             "#c51b7d"
            ],
            [
             0.2,
             "#de77ae"
            ],
            [
             0.3,
             "#f1b6da"
            ],
            [
             0.4,
             "#fde0ef"
            ],
            [
             0.5,
             "#f7f7f7"
            ],
            [
             0.6,
             "#e6f5d0"
            ],
            [
             0.7,
             "#b8e186"
            ],
            [
             0.8,
             "#7fbc41"
            ],
            [
             0.9,
             "#4d9221"
            ],
            [
             1,
             "#276419"
            ]
           ],
           "sequential": [
            [
             0,
             "#0d0887"
            ],
            [
             0.1111111111111111,
             "#46039f"
            ],
            [
             0.2222222222222222,
             "#7201a8"
            ],
            [
             0.3333333333333333,
             "#9c179e"
            ],
            [
             0.4444444444444444,
             "#bd3786"
            ],
            [
             0.5555555555555556,
             "#d8576b"
            ],
            [
             0.6666666666666666,
             "#ed7953"
            ],
            [
             0.7777777777777778,
             "#fb9f3a"
            ],
            [
             0.8888888888888888,
             "#fdca26"
            ],
            [
             1,
             "#f0f921"
            ]
           ],
           "sequentialminus": [
            [
             0,
             "#0d0887"
            ],
            [
             0.1111111111111111,
             "#46039f"
            ],
            [
             0.2222222222222222,
             "#7201a8"
            ],
            [
             0.3333333333333333,
             "#9c179e"
            ],
            [
             0.4444444444444444,
             "#bd3786"
            ],
            [
             0.5555555555555556,
             "#d8576b"
            ],
            [
             0.6666666666666666,
             "#ed7953"
            ],
            [
             0.7777777777777778,
             "#fb9f3a"
            ],
            [
             0.8888888888888888,
             "#fdca26"
            ],
            [
             1,
             "#f0f921"
            ]
           ]
          },
          "colorway": [
           "#636efa",
           "#EF553B",
           "#00cc96",
           "#ab63fa",
           "#FFA15A",
           "#19d3f3",
           "#FF6692",
           "#B6E880",
           "#FF97FF",
           "#FECB52"
          ],
          "font": {
           "color": "#2a3f5f"
          },
          "geo": {
           "bgcolor": "white",
           "lakecolor": "white",
           "landcolor": "#E5ECF6",
           "showlakes": true,
           "showland": true,
           "subunitcolor": "white"
          },
          "hoverlabel": {
           "align": "left"
          },
          "hovermode": "closest",
          "mapbox": {
           "style": "light"
          },
          "paper_bgcolor": "white",
          "plot_bgcolor": "#E5ECF6",
          "polar": {
           "angularaxis": {
            "gridcolor": "white",
            "linecolor": "white",
            "ticks": ""
           },
           "bgcolor": "#E5ECF6",
           "radialaxis": {
            "gridcolor": "white",
            "linecolor": "white",
            "ticks": ""
           }
          },
          "scene": {
           "xaxis": {
            "backgroundcolor": "#E5ECF6",
            "gridcolor": "white",
            "gridwidth": 2,
            "linecolor": "white",
            "showbackground": true,
            "ticks": "",
            "zerolinecolor": "white"
           },
           "yaxis": {
            "backgroundcolor": "#E5ECF6",
            "gridcolor": "white",
            "gridwidth": 2,
            "linecolor": "white",
            "showbackground": true,
            "ticks": "",
            "zerolinecolor": "white"
           },
           "zaxis": {
            "backgroundcolor": "#E5ECF6",
            "gridcolor": "white",
            "gridwidth": 2,
            "linecolor": "white",
            "showbackground": true,
            "ticks": "",
            "zerolinecolor": "white"
           }
          },
          "shapedefaults": {
           "line": {
            "color": "#2a3f5f"
           }
          },
          "ternary": {
           "aaxis": {
            "gridcolor": "white",
            "linecolor": "white",
            "ticks": ""
           },
           "baxis": {
            "gridcolor": "white",
            "linecolor": "white",
            "ticks": ""
           },
           "bgcolor": "#E5ECF6",
           "caxis": {
            "gridcolor": "white",
            "linecolor": "white",
            "ticks": ""
           }
          },
          "title": {
           "x": 0.05
          },
          "xaxis": {
           "automargin": true,
           "gridcolor": "white",
           "linecolor": "white",
           "ticks": "",
           "title": {
            "standoff": 15
           },
           "zerolinecolor": "white",
           "zerolinewidth": 2
          },
          "yaxis": {
           "automargin": true,
           "gridcolor": "white",
           "linecolor": "white",
           "ticks": "",
           "title": {
            "standoff": 15
           },
           "zerolinecolor": "white",
           "zerolinewidth": 2
          }
         }
        },
        "title": {
         "text": "Shannon entropy of parameter distributions"
        },
        "xaxis": {
         "anchor": "y",
         "domain": [
          0,
          1
         ],
         "showgrid": false,
         "title": {
          "text": "generation"
         }
        },
        "yaxis": {
         "anchor": "x",
         "domain": [
          0,
          1
         ],
         "showgrid": false,
         "title": {
          "text": "entropy"
         }
        }
       }
      }
     },
     "metadata": {},
     "output_type": "display_data"
    }
   ],
   "source": [
    "def compute_shannon_entropy(p, bins=10):\n",
    "    \"\"\"Proche de 0 = distribution similaires.\"\"\"\n",
    "    hist_p, _ = np.histogram(p, bins=bins, density=True)\n",
    "    hist_p += 1e-10\n",
    "    p = hist_p / np.sum(hist_p)\n",
    "\n",
    "    return entropy(p)\n",
    "\n",
    "\n",
    "entropies = {}\n",
    "for generation in data.reset_index()[\"generation\"].unique():\n",
    "    data_gen = data[data[\"generation\"] == generation]\n",
    "    gen_entropy = {k: compute_shannon_entropy(v) for k, v in data_gen.items() if k in var}\n",
    "    entropies[generation] = gen_entropy\n",
    "\n",
    "entropies = pd.DataFrame(entropies).T\n",
    "\n",
    "entropies = (\n",
    "    entropies.unstack().reset_index().rename(columns={\"level_1\": \"generation\", \"level_0\": \"variable\", 0: \"entropy\"})\n",
    ")\n",
    "\n",
    "px.area(\n",
    "    entropies,\n",
    "    x=\"generation\",\n",
    "    y=\"entropy\",\n",
    "    color=\"variable\",\n",
    "    line_group=\"variable\",\n",
    "    title=\"Shannon entropy of parameter distributions\",\n",
    "    labels={\"index\": \"Generation\", \"value\": \"Shannon entropy\"},\n",
    "    markers=True,\n",
    ").update_layout(xaxis_showgrid=False, yaxis_showgrid=False, plot_bgcolor=\"rgba(0, 0, 0, 0)\")"
   ]
  },
  {
   "cell_type": "code",
   "execution_count": 7,
   "metadata": {},
   "outputs": [
    {
     "data": {
      "application/vnd.plotly.v1+json": {
       "config": {
        "plotlyServerURL": "https://plot.ly"
       },
       "data": [
        {
         "fillpattern": {
          "shape": ""
         },
         "hovertemplate": "<b>%{hovertext}</b><br><br>variable=D1N1_energy_coefficient<br>generation=%{x}<br>KLS=%{y}<extra></extra>",
         "hovertext": [
          "D1N1_energy_coefficient",
          "D1N1_energy_coefficient",
          "D1N1_energy_coefficient",
          "D1N1_energy_coefficient",
          "D1N1_energy_coefficient",
          "D1N1_energy_coefficient",
          "D1N1_energy_coefficient",
          "D1N1_energy_coefficient",
          "D1N1_energy_coefficient",
          "D1N1_energy_coefficient",
          "D1N1_energy_coefficient",
          "D1N1_energy_coefficient",
          "D1N1_energy_coefficient",
          "D1N1_energy_coefficient",
          "D1N1_energy_coefficient",
          "D1N1_energy_coefficient",
          "D1N1_energy_coefficient",
          "D1N1_energy_coefficient",
          "D1N1_energy_coefficient"
         ],
         "legendgroup": "D1N1_energy_coefficient",
         "line": {
          "color": "#636efa"
         },
         "marker": {
          "symbol": "circle"
         },
         "mode": "lines+markers",
         "name": "D1N1_energy_coefficient",
         "orientation": "v",
         "showlegend": true,
         "stackgroup": "1",
         "type": "scatter",
         "x": [
          1,
          2,
          3,
          4,
          5,
          6,
          7,
          8,
          9,
          10,
          11,
          12,
          13,
          14,
          15,
          16,
          17,
          18,
          19
         ],
         "xaxis": "x",
         "y": [
          0.03723692242266548,
          0.06418869328454839,
          0.09527300520013028,
          0.1566761746054957,
          0.358342221877135,
          0.1108251024677154,
          0.14032120562668812,
          0.10720681335272865,
          0.1502653591292799,
          0.07201176638083122,
          0.2881208826150728,
          0.09363742857400931,
          0.10846753613515334,
          0.30409669802636813,
          0.31527868452064034,
          0.14297475426657377,
          0.3359710391887593,
          0.30854107145771914,
          0.17758608387111008
         ],
         "yaxis": "y"
        },
        {
         "fillpattern": {
          "shape": ""
         },
         "hovertemplate": "<b>%{hovertext}</b><br><br>variable=D1N1_tr_max<br>generation=%{x}<br>KLS=%{y}<extra></extra>",
         "hovertext": [
          "D1N1_tr_max",
          "D1N1_tr_max",
          "D1N1_tr_max",
          "D1N1_tr_max",
          "D1N1_tr_max",
          "D1N1_tr_max",
          "D1N1_tr_max",
          "D1N1_tr_max",
          "D1N1_tr_max",
          "D1N1_tr_max",
          "D1N1_tr_max",
          "D1N1_tr_max",
          "D1N1_tr_max",
          "D1N1_tr_max",
          "D1N1_tr_max",
          "D1N1_tr_max",
          "D1N1_tr_max",
          "D1N1_tr_max",
          "D1N1_tr_max"
         ],
         "legendgroup": "D1N1_tr_max",
         "line": {
          "color": "#EF553B"
         },
         "marker": {
          "symbol": "circle"
         },
         "mode": "lines+markers",
         "name": "D1N1_tr_max",
         "orientation": "v",
         "showlegend": true,
         "stackgroup": "1",
         "type": "scatter",
         "x": [
          1,
          2,
          3,
          4,
          5,
          6,
          7,
          8,
          9,
          10,
          11,
          12,
          13,
          14,
          15,
          16,
          17,
          18,
          19
         ],
         "xaxis": "x",
         "y": [
          0.06911670194314833,
          0.0679943361588769,
          0.047216830991929304,
          0.07191796648474966,
          0.06515459163106246,
          0.08105312172293198,
          0.11333277017897346,
          0.10659417403962414,
          0.11010994293488711,
          0.1426743326430454,
          0.07954950516639187,
          0.04683533626195222,
          0.1329617602985395,
          0.10079688413038769,
          0.08013823185276484,
          0.2050859261671741,
          0.11489921324350871,
          0.13320104271957023,
          0.10689666438215153
         ],
         "yaxis": "y"
        },
        {
         "fillpattern": {
          "shape": ""
         },
         "hovertemplate": "<b>%{hovertext}</b><br><br>variable=D1N1_tr_rate<br>generation=%{x}<br>KLS=%{y}<extra></extra>",
         "hovertext": [
          "D1N1_tr_rate",
          "D1N1_tr_rate",
          "D1N1_tr_rate",
          "D1N1_tr_rate",
          "D1N1_tr_rate",
          "D1N1_tr_rate",
          "D1N1_tr_rate",
          "D1N1_tr_rate",
          "D1N1_tr_rate",
          "D1N1_tr_rate",
          "D1N1_tr_rate",
          "D1N1_tr_rate",
          "D1N1_tr_rate",
          "D1N1_tr_rate",
          "D1N1_tr_rate",
          "D1N1_tr_rate",
          "D1N1_tr_rate",
          "D1N1_tr_rate",
          "D1N1_tr_rate"
         ],
         "legendgroup": "D1N1_tr_rate",
         "line": {
          "color": "#00cc96"
         },
         "marker": {
          "symbol": "circle"
         },
         "mode": "lines+markers",
         "name": "D1N1_tr_rate",
         "orientation": "v",
         "showlegend": true,
         "stackgroup": "1",
         "type": "scatter",
         "x": [
          1,
          2,
          3,
          4,
          5,
          6,
          7,
          8,
          9,
          10,
          11,
          12,
          13,
          14,
          15,
          16,
          17,
          18,
          19
         ],
         "xaxis": "x",
         "y": [
          0.05510901170547613,
          0.04361415613191117,
          0.05466291458949493,
          0.08118099719919696,
          0.06432864459429913,
          0.1363822933512861,
          0.12856305959661696,
          0.1865927140596757,
          0.1211283367881597,
          0.08736861209954194,
          0.06543070512551415,
          0.22683252107122873,
          0.129127125152046,
          0.39869125916535475,
          0.32567760233354437,
          0.2211853254369786,
          0.11102131491142199,
          0.21695499605981022,
          0.04435328153269563
         ],
         "yaxis": "y"
        },
        {
         "fillpattern": {
          "shape": ""
         },
         "hovertemplate": "<b>%{hovertext}</b><br><br>variable=D1N1_inv_lambda_max<br>generation=%{x}<br>KLS=%{y}<extra></extra>",
         "hovertext": [
          "D1N1_inv_lambda_max",
          "D1N1_inv_lambda_max",
          "D1N1_inv_lambda_max",
          "D1N1_inv_lambda_max",
          "D1N1_inv_lambda_max",
          "D1N1_inv_lambda_max",
          "D1N1_inv_lambda_max",
          "D1N1_inv_lambda_max",
          "D1N1_inv_lambda_max",
          "D1N1_inv_lambda_max",
          "D1N1_inv_lambda_max",
          "D1N1_inv_lambda_max",
          "D1N1_inv_lambda_max",
          "D1N1_inv_lambda_max",
          "D1N1_inv_lambda_max",
          "D1N1_inv_lambda_max",
          "D1N1_inv_lambda_max",
          "D1N1_inv_lambda_max",
          "D1N1_inv_lambda_max"
         ],
         "legendgroup": "D1N1_inv_lambda_max",
         "line": {
          "color": "#ab63fa"
         },
         "marker": {
          "symbol": "circle"
         },
         "mode": "lines+markers",
         "name": "D1N1_inv_lambda_max",
         "orientation": "v",
         "showlegend": true,
         "stackgroup": "1",
         "type": "scatter",
         "x": [
          1,
          2,
          3,
          4,
          5,
          6,
          7,
          8,
          9,
          10,
          11,
          12,
          13,
          14,
          15,
          16,
          17,
          18,
          19
         ],
         "xaxis": "x",
         "y": [
          0.04050136475399002,
          0.04390151055258365,
          0.08182794107472016,
          0.096411760721099,
          0.06025987315408624,
          0.05832790355999296,
          0.09970532659981327,
          0.08101870269460328,
          0.08734359376133838,
          0.06859891125342298,
          0.08139894923336131,
          0.11483499848656757,
          0.03855249928404618,
          0.0661000892039112,
          0.05379188126210621,
          0.1791806905796982,
          0.23428210213293169,
          0.22883812293081723,
          0.2338591048289292
         ],
         "yaxis": "y"
        },
        {
         "fillpattern": {
          "shape": ""
         },
         "hovertemplate": "<b>%{hovertext}</b><br><br>variable=D1N1_inv_lambda_rate<br>generation=%{x}<br>KLS=%{y}<extra></extra>",
         "hovertext": [
          "D1N1_inv_lambda_rate",
          "D1N1_inv_lambda_rate",
          "D1N1_inv_lambda_rate",
          "D1N1_inv_lambda_rate",
          "D1N1_inv_lambda_rate",
          "D1N1_inv_lambda_rate",
          "D1N1_inv_lambda_rate",
          "D1N1_inv_lambda_rate",
          "D1N1_inv_lambda_rate",
          "D1N1_inv_lambda_rate",
          "D1N1_inv_lambda_rate",
          "D1N1_inv_lambda_rate",
          "D1N1_inv_lambda_rate",
          "D1N1_inv_lambda_rate",
          "D1N1_inv_lambda_rate",
          "D1N1_inv_lambda_rate",
          "D1N1_inv_lambda_rate",
          "D1N1_inv_lambda_rate",
          "D1N1_inv_lambda_rate"
         ],
         "legendgroup": "D1N1_inv_lambda_rate",
         "line": {
          "color": "#FFA15A"
         },
         "marker": {
          "symbol": "circle"
         },
         "mode": "lines+markers",
         "name": "D1N1_inv_lambda_rate",
         "orientation": "v",
         "showlegend": true,
         "stackgroup": "1",
         "type": "scatter",
         "x": [
          1,
          2,
          3,
          4,
          5,
          6,
          7,
          8,
          9,
          10,
          11,
          12,
          13,
          14,
          15,
          16,
          17,
          18,
          19
         ],
         "xaxis": "x",
         "y": [
          0.2846737196896184,
          0.8289076287095992,
          0.25376222682680166,
          0.2126579775560541,
          0.265232748796055,
          0.24411248071415037,
          0.3866363721508174,
          0.31173753952900796,
          0.24942401574649664,
          0.2885724143002161,
          0.23244773312266298,
          0.35064661294882893,
          0.16167849514491028,
          0.22510833497404162,
          0.24639474636194156,
          0.32200597586887325,
          0.16638887425403895,
          0.3924992552208356,
          0.14664545591812372
         ],
         "yaxis": "y"
        },
        {
         "fillpattern": {
          "shape": ""
         },
         "hovertemplate": "<b>%{hovertext}</b><br><br>variable=D2N1_energy_coefficient<br>generation=%{x}<br>KLS=%{y}<extra></extra>",
         "hovertext": [
          "D2N1_energy_coefficient",
          "D2N1_energy_coefficient",
          "D2N1_energy_coefficient",
          "D2N1_energy_coefficient",
          "D2N1_energy_coefficient",
          "D2N1_energy_coefficient",
          "D2N1_energy_coefficient",
          "D2N1_energy_coefficient",
          "D2N1_energy_coefficient",
          "D2N1_energy_coefficient",
          "D2N1_energy_coefficient",
          "D2N1_energy_coefficient",
          "D2N1_energy_coefficient",
          "D2N1_energy_coefficient",
          "D2N1_energy_coefficient",
          "D2N1_energy_coefficient",
          "D2N1_energy_coefficient",
          "D2N1_energy_coefficient",
          "D2N1_energy_coefficient"
         ],
         "legendgroup": "D2N1_energy_coefficient",
         "line": {
          "color": "#19d3f3"
         },
         "marker": {
          "symbol": "circle"
         },
         "mode": "lines+markers",
         "name": "D2N1_energy_coefficient",
         "orientation": "v",
         "showlegend": true,
         "stackgroup": "1",
         "type": "scatter",
         "x": [
          1,
          2,
          3,
          4,
          5,
          6,
          7,
          8,
          9,
          10,
          11,
          12,
          13,
          14,
          15,
          16,
          17,
          18,
          19
         ],
         "xaxis": "x",
         "y": [
          0.0696259441427976,
          0.07987712508127949,
          0.09253672467917842,
          0.10180147965198996,
          0.2469099378919081,
          0.08380362884357449,
          0.16571912883075726,
          0.11827374770491557,
          0.1264044277837712,
          0.05230906913488139,
          0.19881416211301128,
          0.16010250649556318,
          0.1443438442428249,
          0.20785886523085637,
          0.14547514111887508,
          0.09848679893301146,
          0.25679008052215463,
          0.15888551044000032,
          0.19036931288813977
         ],
         "yaxis": "y"
        },
        {
         "fillpattern": {
          "shape": ""
         },
         "hovertemplate": "<b>%{hovertext}</b><br><br>variable=D2N1_tr_max<br>generation=%{x}<br>KLS=%{y}<extra></extra>",
         "hovertext": [
          "D2N1_tr_max",
          "D2N1_tr_max",
          "D2N1_tr_max",
          "D2N1_tr_max",
          "D2N1_tr_max",
          "D2N1_tr_max",
          "D2N1_tr_max",
          "D2N1_tr_max",
          "D2N1_tr_max",
          "D2N1_tr_max",
          "D2N1_tr_max",
          "D2N1_tr_max",
          "D2N1_tr_max",
          "D2N1_tr_max",
          "D2N1_tr_max",
          "D2N1_tr_max",
          "D2N1_tr_max",
          "D2N1_tr_max",
          "D2N1_tr_max"
         ],
         "legendgroup": "D2N1_tr_max",
         "line": {
          "color": "#FF6692"
         },
         "marker": {
          "symbol": "circle"
         },
         "mode": "lines+markers",
         "name": "D2N1_tr_max",
         "orientation": "v",
         "showlegend": true,
         "stackgroup": "1",
         "type": "scatter",
         "x": [
          1,
          2,
          3,
          4,
          5,
          6,
          7,
          8,
          9,
          10,
          11,
          12,
          13,
          14,
          15,
          16,
          17,
          18,
          19
         ],
         "xaxis": "x",
         "y": [
          0.05559290569575791,
          0.034256039589228744,
          0.05506071672347286,
          0.04687496415862419,
          0.04101991328952041,
          0.06434851419583137,
          0.12517621894643655,
          0.14007077556330413,
          0.05217669333443345,
          0.03374321315152288,
          0.07250015957081167,
          0.10107739401139303,
          0.037612663674550975,
          0.04539478227004849,
          0.041965000250037916,
          0.06803751712913686,
          0.0869891666577994,
          0.0642074450168085,
          0.2403166637509948
         ],
         "yaxis": "y"
        },
        {
         "fillpattern": {
          "shape": ""
         },
         "hovertemplate": "<b>%{hovertext}</b><br><br>variable=D2N1_tr_rate<br>generation=%{x}<br>KLS=%{y}<extra></extra>",
         "hovertext": [
          "D2N1_tr_rate",
          "D2N1_tr_rate",
          "D2N1_tr_rate",
          "D2N1_tr_rate",
          "D2N1_tr_rate",
          "D2N1_tr_rate",
          "D2N1_tr_rate",
          "D2N1_tr_rate",
          "D2N1_tr_rate",
          "D2N1_tr_rate",
          "D2N1_tr_rate",
          "D2N1_tr_rate",
          "D2N1_tr_rate",
          "D2N1_tr_rate",
          "D2N1_tr_rate",
          "D2N1_tr_rate",
          "D2N1_tr_rate",
          "D2N1_tr_rate",
          "D2N1_tr_rate"
         ],
         "legendgroup": "D2N1_tr_rate",
         "line": {
          "color": "#B6E880"
         },
         "marker": {
          "symbol": "circle"
         },
         "mode": "lines+markers",
         "name": "D2N1_tr_rate",
         "orientation": "v",
         "showlegend": true,
         "stackgroup": "1",
         "type": "scatter",
         "x": [
          1,
          2,
          3,
          4,
          5,
          6,
          7,
          8,
          9,
          10,
          11,
          12,
          13,
          14,
          15,
          16,
          17,
          18,
          19
         ],
         "xaxis": "x",
         "y": [
          0.04557195137171987,
          0.04069350253724091,
          0.03104815920520427,
          0.05662751362133055,
          0.06734155996969893,
          0.10095695288345162,
          0.06426175956815497,
          0.05691238576923589,
          0.06683958746029539,
          0.04517599660496873,
          0.0817639415269519,
          0.03150389043290485,
          0.05508286845025393,
          0.047484823694707586,
          0.12295501214378493,
          0.08659093699619927,
          0.14184070622041636,
          0.184361220201371,
          0.05766637854041743
         ],
         "yaxis": "y"
        },
        {
         "fillpattern": {
          "shape": ""
         },
         "hovertemplate": "<b>%{hovertext}</b><br><br>variable=D2N1_inv_lambda_max<br>generation=%{x}<br>KLS=%{y}<extra></extra>",
         "hovertext": [
          "D2N1_inv_lambda_max",
          "D2N1_inv_lambda_max",
          "D2N1_inv_lambda_max",
          "D2N1_inv_lambda_max",
          "D2N1_inv_lambda_max",
          "D2N1_inv_lambda_max",
          "D2N1_inv_lambda_max",
          "D2N1_inv_lambda_max",
          "D2N1_inv_lambda_max",
          "D2N1_inv_lambda_max",
          "D2N1_inv_lambda_max",
          "D2N1_inv_lambda_max",
          "D2N1_inv_lambda_max",
          "D2N1_inv_lambda_max",
          "D2N1_inv_lambda_max",
          "D2N1_inv_lambda_max",
          "D2N1_inv_lambda_max",
          "D2N1_inv_lambda_max",
          "D2N1_inv_lambda_max"
         ],
         "legendgroup": "D2N1_inv_lambda_max",
         "line": {
          "color": "#FF97FF"
         },
         "marker": {
          "symbol": "circle"
         },
         "mode": "lines+markers",
         "name": "D2N1_inv_lambda_max",
         "orientation": "v",
         "showlegend": true,
         "stackgroup": "1",
         "type": "scatter",
         "x": [
          1,
          2,
          3,
          4,
          5,
          6,
          7,
          8,
          9,
          10,
          11,
          12,
          13,
          14,
          15,
          16,
          17,
          18,
          19
         ],
         "xaxis": "x",
         "y": [
          0.04122129936016603,
          0.04487106353587621,
          0.0500354946999963,
          0.11665060720061188,
          0.06338046380409798,
          0.09405076474264593,
          0.09780112220428011,
          0.11692667281250874,
          0.054608055346758694,
          0.05018026264094991,
          0.06342196761724361,
          0.06240696109085289,
          0.053541845029802,
          0.10863627195460487,
          0.1556859193226154,
          0.16839319965524643,
          0.19293121749416955,
          0.10306765226109255,
          0.045467994209075165
         ],
         "yaxis": "y"
        },
        {
         "fillpattern": {
          "shape": ""
         },
         "hovertemplate": "<b>%{hovertext}</b><br><br>variable=D2N1_inv_lambda_rate<br>generation=%{x}<br>KLS=%{y}<extra></extra>",
         "hovertext": [
          "D2N1_inv_lambda_rate",
          "D2N1_inv_lambda_rate",
          "D2N1_inv_lambda_rate",
          "D2N1_inv_lambda_rate",
          "D2N1_inv_lambda_rate",
          "D2N1_inv_lambda_rate",
          "D2N1_inv_lambda_rate",
          "D2N1_inv_lambda_rate",
          "D2N1_inv_lambda_rate",
          "D2N1_inv_lambda_rate",
          "D2N1_inv_lambda_rate",
          "D2N1_inv_lambda_rate",
          "D2N1_inv_lambda_rate",
          "D2N1_inv_lambda_rate",
          "D2N1_inv_lambda_rate",
          "D2N1_inv_lambda_rate",
          "D2N1_inv_lambda_rate",
          "D2N1_inv_lambda_rate",
          "D2N1_inv_lambda_rate"
         ],
         "legendgroup": "D2N1_inv_lambda_rate",
         "line": {
          "color": "#FECB52"
         },
         "marker": {
          "symbol": "circle"
         },
         "mode": "lines+markers",
         "name": "D2N1_inv_lambda_rate",
         "orientation": "v",
         "showlegend": true,
         "stackgroup": "1",
         "type": "scatter",
         "x": [
          1,
          2,
          3,
          4,
          5,
          6,
          7,
          8,
          9,
          10,
          11,
          12,
          13,
          14,
          15,
          16,
          17,
          18,
          19
         ],
         "xaxis": "x",
         "y": [
          0.22540614672180265,
          0.366627656604038,
          0.20337293300850925,
          0.41704924832528895,
          0.08433821793028995,
          0.18261846906640317,
          0.1555720264117112,
          0.1459885844603981,
          0.17098524145816832,
          0.16084384337128815,
          0.1550183804777965,
          0.27479785919972305,
          0.16355737989412886,
          0.15397850764649965,
          0.0913908402995255,
          0.13881749199646187,
          0.22501925599634354,
          0.283251696766547,
          0.20320207555882736
         ],
         "yaxis": "y"
        }
       ],
       "layout": {
        "legend": {
         "title": {
          "text": "variable"
         },
         "tracegroupgap": 0
        },
        "plot_bgcolor": "rgba(0, 0, 0, 0)",
        "template": {
         "data": {
          "bar": [
           {
            "error_x": {
             "color": "#2a3f5f"
            },
            "error_y": {
             "color": "#2a3f5f"
            },
            "marker": {
             "line": {
              "color": "#E5ECF6",
              "width": 0.5
             },
             "pattern": {
              "fillmode": "overlay",
              "size": 10,
              "solidity": 0.2
             }
            },
            "type": "bar"
           }
          ],
          "barpolar": [
           {
            "marker": {
             "line": {
              "color": "#E5ECF6",
              "width": 0.5
             },
             "pattern": {
              "fillmode": "overlay",
              "size": 10,
              "solidity": 0.2
             }
            },
            "type": "barpolar"
           }
          ],
          "carpet": [
           {
            "aaxis": {
             "endlinecolor": "#2a3f5f",
             "gridcolor": "white",
             "linecolor": "white",
             "minorgridcolor": "white",
             "startlinecolor": "#2a3f5f"
            },
            "baxis": {
             "endlinecolor": "#2a3f5f",
             "gridcolor": "white",
             "linecolor": "white",
             "minorgridcolor": "white",
             "startlinecolor": "#2a3f5f"
            },
            "type": "carpet"
           }
          ],
          "choropleth": [
           {
            "colorbar": {
             "outlinewidth": 0,
             "ticks": ""
            },
            "type": "choropleth"
           }
          ],
          "contour": [
           {
            "colorbar": {
             "outlinewidth": 0,
             "ticks": ""
            },
            "colorscale": [
             [
              0,
              "#0d0887"
             ],
             [
              0.1111111111111111,
              "#46039f"
             ],
             [
              0.2222222222222222,
              "#7201a8"
             ],
             [
              0.3333333333333333,
              "#9c179e"
             ],
             [
              0.4444444444444444,
              "#bd3786"
             ],
             [
              0.5555555555555556,
              "#d8576b"
             ],
             [
              0.6666666666666666,
              "#ed7953"
             ],
             [
              0.7777777777777778,
              "#fb9f3a"
             ],
             [
              0.8888888888888888,
              "#fdca26"
             ],
             [
              1,
              "#f0f921"
             ]
            ],
            "type": "contour"
           }
          ],
          "contourcarpet": [
           {
            "colorbar": {
             "outlinewidth": 0,
             "ticks": ""
            },
            "type": "contourcarpet"
           }
          ],
          "heatmap": [
           {
            "colorbar": {
             "outlinewidth": 0,
             "ticks": ""
            },
            "colorscale": [
             [
              0,
              "#0d0887"
             ],
             [
              0.1111111111111111,
              "#46039f"
             ],
             [
              0.2222222222222222,
              "#7201a8"
             ],
             [
              0.3333333333333333,
              "#9c179e"
             ],
             [
              0.4444444444444444,
              "#bd3786"
             ],
             [
              0.5555555555555556,
              "#d8576b"
             ],
             [
              0.6666666666666666,
              "#ed7953"
             ],
             [
              0.7777777777777778,
              "#fb9f3a"
             ],
             [
              0.8888888888888888,
              "#fdca26"
             ],
             [
              1,
              "#f0f921"
             ]
            ],
            "type": "heatmap"
           }
          ],
          "heatmapgl": [
           {
            "colorbar": {
             "outlinewidth": 0,
             "ticks": ""
            },
            "colorscale": [
             [
              0,
              "#0d0887"
             ],
             [
              0.1111111111111111,
              "#46039f"
             ],
             [
              0.2222222222222222,
              "#7201a8"
             ],
             [
              0.3333333333333333,
              "#9c179e"
             ],
             [
              0.4444444444444444,
              "#bd3786"
             ],
             [
              0.5555555555555556,
              "#d8576b"
             ],
             [
              0.6666666666666666,
              "#ed7953"
             ],
             [
              0.7777777777777778,
              "#fb9f3a"
             ],
             [
              0.8888888888888888,
              "#fdca26"
             ],
             [
              1,
              "#f0f921"
             ]
            ],
            "type": "heatmapgl"
           }
          ],
          "histogram": [
           {
            "marker": {
             "pattern": {
              "fillmode": "overlay",
              "size": 10,
              "solidity": 0.2
             }
            },
            "type": "histogram"
           }
          ],
          "histogram2d": [
           {
            "colorbar": {
             "outlinewidth": 0,
             "ticks": ""
            },
            "colorscale": [
             [
              0,
              "#0d0887"
             ],
             [
              0.1111111111111111,
              "#46039f"
             ],
             [
              0.2222222222222222,
              "#7201a8"
             ],
             [
              0.3333333333333333,
              "#9c179e"
             ],
             [
              0.4444444444444444,
              "#bd3786"
             ],
             [
              0.5555555555555556,
              "#d8576b"
             ],
             [
              0.6666666666666666,
              "#ed7953"
             ],
             [
              0.7777777777777778,
              "#fb9f3a"
             ],
             [
              0.8888888888888888,
              "#fdca26"
             ],
             [
              1,
              "#f0f921"
             ]
            ],
            "type": "histogram2d"
           }
          ],
          "histogram2dcontour": [
           {
            "colorbar": {
             "outlinewidth": 0,
             "ticks": ""
            },
            "colorscale": [
             [
              0,
              "#0d0887"
             ],
             [
              0.1111111111111111,
              "#46039f"
             ],
             [
              0.2222222222222222,
              "#7201a8"
             ],
             [
              0.3333333333333333,
              "#9c179e"
             ],
             [
              0.4444444444444444,
              "#bd3786"
             ],
             [
              0.5555555555555556,
              "#d8576b"
             ],
             [
              0.6666666666666666,
              "#ed7953"
             ],
             [
              0.7777777777777778,
              "#fb9f3a"
             ],
             [
              0.8888888888888888,
              "#fdca26"
             ],
             [
              1,
              "#f0f921"
             ]
            ],
            "type": "histogram2dcontour"
           }
          ],
          "mesh3d": [
           {
            "colorbar": {
             "outlinewidth": 0,
             "ticks": ""
            },
            "type": "mesh3d"
           }
          ],
          "parcoords": [
           {
            "line": {
             "colorbar": {
              "outlinewidth": 0,
              "ticks": ""
             }
            },
            "type": "parcoords"
           }
          ],
          "pie": [
           {
            "automargin": true,
            "type": "pie"
           }
          ],
          "scatter": [
           {
            "fillpattern": {
             "fillmode": "overlay",
             "size": 10,
             "solidity": 0.2
            },
            "type": "scatter"
           }
          ],
          "scatter3d": [
           {
            "line": {
             "colorbar": {
              "outlinewidth": 0,
              "ticks": ""
             }
            },
            "marker": {
             "colorbar": {
              "outlinewidth": 0,
              "ticks": ""
             }
            },
            "type": "scatter3d"
           }
          ],
          "scattercarpet": [
           {
            "marker": {
             "colorbar": {
              "outlinewidth": 0,
              "ticks": ""
             }
            },
            "type": "scattercarpet"
           }
          ],
          "scattergeo": [
           {
            "marker": {
             "colorbar": {
              "outlinewidth": 0,
              "ticks": ""
             }
            },
            "type": "scattergeo"
           }
          ],
          "scattergl": [
           {
            "marker": {
             "colorbar": {
              "outlinewidth": 0,
              "ticks": ""
             }
            },
            "type": "scattergl"
           }
          ],
          "scattermapbox": [
           {
            "marker": {
             "colorbar": {
              "outlinewidth": 0,
              "ticks": ""
             }
            },
            "type": "scattermapbox"
           }
          ],
          "scatterpolar": [
           {
            "marker": {
             "colorbar": {
              "outlinewidth": 0,
              "ticks": ""
             }
            },
            "type": "scatterpolar"
           }
          ],
          "scatterpolargl": [
           {
            "marker": {
             "colorbar": {
              "outlinewidth": 0,
              "ticks": ""
             }
            },
            "type": "scatterpolargl"
           }
          ],
          "scatterternary": [
           {
            "marker": {
             "colorbar": {
              "outlinewidth": 0,
              "ticks": ""
             }
            },
            "type": "scatterternary"
           }
          ],
          "surface": [
           {
            "colorbar": {
             "outlinewidth": 0,
             "ticks": ""
            },
            "colorscale": [
             [
              0,
              "#0d0887"
             ],
             [
              0.1111111111111111,
              "#46039f"
             ],
             [
              0.2222222222222222,
              "#7201a8"
             ],
             [
              0.3333333333333333,
              "#9c179e"
             ],
             [
              0.4444444444444444,
              "#bd3786"
             ],
             [
              0.5555555555555556,
              "#d8576b"
             ],
             [
              0.6666666666666666,
              "#ed7953"
             ],
             [
              0.7777777777777778,
              "#fb9f3a"
             ],
             [
              0.8888888888888888,
              "#fdca26"
             ],
             [
              1,
              "#f0f921"
             ]
            ],
            "type": "surface"
           }
          ],
          "table": [
           {
            "cells": {
             "fill": {
              "color": "#EBF0F8"
             },
             "line": {
              "color": "white"
             }
            },
            "header": {
             "fill": {
              "color": "#C8D4E3"
             },
             "line": {
              "color": "white"
             }
            },
            "type": "table"
           }
          ]
         },
         "layout": {
          "annotationdefaults": {
           "arrowcolor": "#2a3f5f",
           "arrowhead": 0,
           "arrowwidth": 1
          },
          "autotypenumbers": "strict",
          "coloraxis": {
           "colorbar": {
            "outlinewidth": 0,
            "ticks": ""
           }
          },
          "colorscale": {
           "diverging": [
            [
             0,
             "#8e0152"
            ],
            [
             0.1,
             "#c51b7d"
            ],
            [
             0.2,
             "#de77ae"
            ],
            [
             0.3,
             "#f1b6da"
            ],
            [
             0.4,
             "#fde0ef"
            ],
            [
             0.5,
             "#f7f7f7"
            ],
            [
             0.6,
             "#e6f5d0"
            ],
            [
             0.7,
             "#b8e186"
            ],
            [
             0.8,
             "#7fbc41"
            ],
            [
             0.9,
             "#4d9221"
            ],
            [
             1,
             "#276419"
            ]
           ],
           "sequential": [
            [
             0,
             "#0d0887"
            ],
            [
             0.1111111111111111,
             "#46039f"
            ],
            [
             0.2222222222222222,
             "#7201a8"
            ],
            [
             0.3333333333333333,
             "#9c179e"
            ],
            [
             0.4444444444444444,
             "#bd3786"
            ],
            [
             0.5555555555555556,
             "#d8576b"
            ],
            [
             0.6666666666666666,
             "#ed7953"
            ],
            [
             0.7777777777777778,
             "#fb9f3a"
            ],
            [
             0.8888888888888888,
             "#fdca26"
            ],
            [
             1,
             "#f0f921"
            ]
           ],
           "sequentialminus": [
            [
             0,
             "#0d0887"
            ],
            [
             0.1111111111111111,
             "#46039f"
            ],
            [
             0.2222222222222222,
             "#7201a8"
            ],
            [
             0.3333333333333333,
             "#9c179e"
            ],
            [
             0.4444444444444444,
             "#bd3786"
            ],
            [
             0.5555555555555556,
             "#d8576b"
            ],
            [
             0.6666666666666666,
             "#ed7953"
            ],
            [
             0.7777777777777778,
             "#fb9f3a"
            ],
            [
             0.8888888888888888,
             "#fdca26"
            ],
            [
             1,
             "#f0f921"
            ]
           ]
          },
          "colorway": [
           "#636efa",
           "#EF553B",
           "#00cc96",
           "#ab63fa",
           "#FFA15A",
           "#19d3f3",
           "#FF6692",
           "#B6E880",
           "#FF97FF",
           "#FECB52"
          ],
          "font": {
           "color": "#2a3f5f"
          },
          "geo": {
           "bgcolor": "white",
           "lakecolor": "white",
           "landcolor": "#E5ECF6",
           "showlakes": true,
           "showland": true,
           "subunitcolor": "white"
          },
          "hoverlabel": {
           "align": "left"
          },
          "hovermode": "closest",
          "mapbox": {
           "style": "light"
          },
          "paper_bgcolor": "white",
          "plot_bgcolor": "#E5ECF6",
          "polar": {
           "angularaxis": {
            "gridcolor": "white",
            "linecolor": "white",
            "ticks": ""
           },
           "bgcolor": "#E5ECF6",
           "radialaxis": {
            "gridcolor": "white",
            "linecolor": "white",
            "ticks": ""
           }
          },
          "scene": {
           "xaxis": {
            "backgroundcolor": "#E5ECF6",
            "gridcolor": "white",
            "gridwidth": 2,
            "linecolor": "white",
            "showbackground": true,
            "ticks": "",
            "zerolinecolor": "white"
           },
           "yaxis": {
            "backgroundcolor": "#E5ECF6",
            "gridcolor": "white",
            "gridwidth": 2,
            "linecolor": "white",
            "showbackground": true,
            "ticks": "",
            "zerolinecolor": "white"
           },
           "zaxis": {
            "backgroundcolor": "#E5ECF6",
            "gridcolor": "white",
            "gridwidth": 2,
            "linecolor": "white",
            "showbackground": true,
            "ticks": "",
            "zerolinecolor": "white"
           }
          },
          "shapedefaults": {
           "line": {
            "color": "#2a3f5f"
           }
          },
          "ternary": {
           "aaxis": {
            "gridcolor": "white",
            "linecolor": "white",
            "ticks": ""
           },
           "baxis": {
            "gridcolor": "white",
            "linecolor": "white",
            "ticks": ""
           },
           "bgcolor": "#E5ECF6",
           "caxis": {
            "gridcolor": "white",
            "linecolor": "white",
            "ticks": ""
           }
          },
          "title": {
           "x": 0.05
          },
          "xaxis": {
           "automargin": true,
           "gridcolor": "white",
           "linecolor": "white",
           "ticks": "",
           "title": {
            "standoff": 15
           },
           "zerolinecolor": "white",
           "zerolinewidth": 2
          },
          "yaxis": {
           "automargin": true,
           "gridcolor": "white",
           "linecolor": "white",
           "ticks": "",
           "title": {
            "standoff": 15
           },
           "zerolinecolor": "white",
           "zerolinewidth": 2
          }
         }
        },
        "title": {
         "text": "KLS of parameter distributions"
        },
        "xaxis": {
         "anchor": "y",
         "domain": [
          0,
          1
         ],
         "showgrid": false,
         "title": {
          "text": "generation"
         }
        },
        "yaxis": {
         "anchor": "x",
         "domain": [
          0,
          1
         ],
         "showgrid": false,
         "title": {
          "text": "KLS"
         }
        }
       }
      }
     },
     "metadata": {},
     "output_type": "display_data"
    }
   ],
   "source": [
    "def compute_kl_divergence(p, q, bins=None):\n",
    "    \"\"\"\n",
    "    Proche de 0 = distribution similaires.\n",
    "\n",
    "    p: distribution de référence\n",
    "    q: distribution à comparer\n",
    "    \"\"\"\n",
    "    # bins = freedman_diaconis_rule(p) if bins is None else bins\n",
    "    hist_p, bin_edges = np.histogram(p, bins=bins, density=True)\n",
    "    hist_q, _ = np.histogram(q, bins=bin_edges, density=True)\n",
    "\n",
    "    hist_p += 1e-10\n",
    "    hist_q += 1e-10\n",
    "\n",
    "    p = hist_p / np.sum(hist_p)\n",
    "    q = hist_q / np.sum(hist_q)\n",
    "\n",
    "    return entropy(p, q)  # Base e (nats) by default\n",
    "\n",
    "\n",
    "kls = {}\n",
    "for generation in data.reset_index()[\"generation\"].unique()[1:]:\n",
    "    data_gen = data[data[\"generation\"] == generation]\n",
    "    data_previous_gen = data[data[\"generation\"] == generation - 1]\n",
    "    gen_kl = {k: compute_kl_divergence(p=data_previous_gen[k], q=data_gen[k], bins=50) for k in var}\n",
    "    kls[generation] = gen_kl\n",
    "kls = pd.DataFrame(kls).T\n",
    "\n",
    "kls = kls.unstack().reset_index().rename(columns={\"level_1\": \"generation\", \"level_0\": \"variable\", 0: \"KLS\"})\n",
    "\n",
    "px.area(\n",
    "    kls,\n",
    "    x=\"generation\",\n",
    "    y=\"KLS\",\n",
    "    color=\"variable\",\n",
    "    line_group=\"variable\",\n",
    "    title=\"KLS of parameter distributions\",\n",
    "    labels={\"index\": \"Generation\", \"value\": \"KLS\"},\n",
    "    markers=True,\n",
    "    # add information to hover\n",
    "    hover_name=\"variable\",\n",
    "    hover_data={\"generation\": True, \"KLS\": True},\n",
    ").update_layout(xaxis_showgrid=False, yaxis_showgrid=False, plot_bgcolor=\"rgba(0, 0, 0, 0)\")"
   ]
  },
  {
   "cell_type": "code",
   "execution_count": 8,
   "metadata": {},
   "outputs": [],
   "source": [
    "import numpy as np\n",
    "from scipy.spatial.distance import pdist"
   ]
  },
  {
   "cell_type": "code",
   "execution_count": 9,
   "metadata": {},
   "outputs": [
    {
     "data": {
      "text/plain": [
       "array([75.05179334, 52.60391533, 90.37442297, ..., 56.73896531,\n",
       "       35.03224499, 52.89119086])"
      ]
     },
     "execution_count": 9,
     "metadata": {},
     "output_type": "execute_result"
    }
   ],
   "source": [
    "pdist(data[var].iloc[:1000])"
   ]
  },
  {
   "cell_type": "code",
   "execution_count": 10,
   "metadata": {},
   "outputs": [],
   "source": [
    "import matplotlib.pyplot as plt"
   ]
  },
  {
   "cell_type": "markdown",
   "metadata": {},
   "source": [
    "# TODO :\n",
    "\n",
    "-   Normalizer les jeux de paramètres pour obtenir une distance euclidienne standard ?\n"
   ]
  },
  {
   "cell_type": "code",
   "execution_count": 29,
   "metadata": {},
   "outputs": [
    {
     "data": {
      "text/html": [
       "<div>\n",
       "<style scoped>\n",
       "    .dataframe tbody tr th:only-of-type {\n",
       "        vertical-align: middle;\n",
       "    }\n",
       "\n",
       "    .dataframe tbody tr th {\n",
       "        vertical-align: top;\n",
       "    }\n",
       "\n",
       "    .dataframe thead th {\n",
       "        text-align: right;\n",
       "    }\n",
       "</style>\n",
       "<table border=\"1\" class=\"dataframe\">\n",
       "  <thead>\n",
       "    <tr style=\"text-align: right;\">\n",
       "      <th></th>\n",
       "      <th>Generation 0</th>\n",
       "      <th>Generation 1</th>\n",
       "      <th>Generation 2</th>\n",
       "      <th>Generation 3</th>\n",
       "      <th>Generation 4</th>\n",
       "      <th>Generation 5</th>\n",
       "      <th>Generation 6</th>\n",
       "      <th>Generation 7</th>\n",
       "      <th>Generation 8</th>\n",
       "      <th>Generation 9</th>\n",
       "      <th>Generation 10</th>\n",
       "      <th>Generation 11</th>\n",
       "      <th>Generation 12</th>\n",
       "      <th>Generation 13</th>\n",
       "      <th>Generation 14</th>\n",
       "      <th>Generation 15</th>\n",
       "      <th>Generation 16</th>\n",
       "      <th>Generation 17</th>\n",
       "      <th>Generation 18</th>\n",
       "      <th>Generation 19</th>\n",
       "    </tr>\n",
       "  </thead>\n",
       "  <tbody>\n",
       "    <tr>\n",
       "      <th>count</th>\n",
       "      <td>499500.000000</td>\n",
       "      <td>499500.000000</td>\n",
       "      <td>499500.000000</td>\n",
       "      <td>499500.000000</td>\n",
       "      <td>499500.000000</td>\n",
       "      <td>499500.000000</td>\n",
       "      <td>499500.000000</td>\n",
       "      <td>499500.000000</td>\n",
       "      <td>499500.000000</td>\n",
       "      <td>499500.000000</td>\n",
       "      <td>499500.000000</td>\n",
       "      <td>499500.000000</td>\n",
       "      <td>499500.000000</td>\n",
       "      <td>499500.000000</td>\n",
       "      <td>499500.000000</td>\n",
       "      <td>499500.000000</td>\n",
       "      <td>499500.000000</td>\n",
       "      <td>499500.000000</td>\n",
       "      <td>499500.000000</td>\n",
       "      <td>499500.000000</td>\n",
       "    </tr>\n",
       "    <tr>\n",
       "      <th>mean</th>\n",
       "      <td>59.930783</td>\n",
       "      <td>59.147512</td>\n",
       "      <td>59.050453</td>\n",
       "      <td>58.081305</td>\n",
       "      <td>58.675119</td>\n",
       "      <td>58.395335</td>\n",
       "      <td>56.609572</td>\n",
       "      <td>55.209361</td>\n",
       "      <td>54.893755</td>\n",
       "      <td>54.258019</td>\n",
       "      <td>54.479612</td>\n",
       "      <td>54.746724</td>\n",
       "      <td>55.728734</td>\n",
       "      <td>55.156180</td>\n",
       "      <td>54.361619</td>\n",
       "      <td>54.168887</td>\n",
       "      <td>52.506100</td>\n",
       "      <td>49.168351</td>\n",
       "      <td>46.080871</td>\n",
       "      <td>44.789302</td>\n",
       "    </tr>\n",
       "    <tr>\n",
       "      <th>std</th>\n",
       "      <td>21.934844</td>\n",
       "      <td>21.892155</td>\n",
       "      <td>21.937593</td>\n",
       "      <td>21.804796</td>\n",
       "      <td>22.417573</td>\n",
       "      <td>22.688108</td>\n",
       "      <td>21.966086</td>\n",
       "      <td>21.859011</td>\n",
       "      <td>21.947010</td>\n",
       "      <td>21.938507</td>\n",
       "      <td>22.356538</td>\n",
       "      <td>22.452352</td>\n",
       "      <td>22.385166</td>\n",
       "      <td>22.163174</td>\n",
       "      <td>22.153067</td>\n",
       "      <td>22.290702</td>\n",
       "      <td>22.754180</td>\n",
       "      <td>22.267464</td>\n",
       "      <td>21.907366</td>\n",
       "      <td>21.987841</td>\n",
       "    </tr>\n",
       "    <tr>\n",
       "      <th>min</th>\n",
       "      <td>2.108975</td>\n",
       "      <td>0.000000</td>\n",
       "      <td>0.000000</td>\n",
       "      <td>0.000000</td>\n",
       "      <td>0.000000</td>\n",
       "      <td>0.000000</td>\n",
       "      <td>0.000000</td>\n",
       "      <td>0.000000</td>\n",
       "      <td>0.000000</td>\n",
       "      <td>0.000000</td>\n",
       "      <td>0.000000</td>\n",
       "      <td>0.000000</td>\n",
       "      <td>0.000000</td>\n",
       "      <td>0.000000</td>\n",
       "      <td>0.000000</td>\n",
       "      <td>0.000000</td>\n",
       "      <td>0.000000</td>\n",
       "      <td>0.000000</td>\n",
       "      <td>0.000000</td>\n",
       "      <td>0.000000</td>\n",
       "    </tr>\n",
       "    <tr>\n",
       "      <th>25%</th>\n",
       "      <td>43.548182</td>\n",
       "      <td>42.816112</td>\n",
       "      <td>42.640479</td>\n",
       "      <td>41.773966</td>\n",
       "      <td>41.804527</td>\n",
       "      <td>41.274318</td>\n",
       "      <td>40.051077</td>\n",
       "      <td>38.869578</td>\n",
       "      <td>38.637439</td>\n",
       "      <td>37.847607</td>\n",
       "      <td>37.882459</td>\n",
       "      <td>37.864118</td>\n",
       "      <td>39.061473</td>\n",
       "      <td>38.866842</td>\n",
       "      <td>37.957521</td>\n",
       "      <td>37.567198</td>\n",
       "      <td>34.978411</td>\n",
       "      <td>31.247353</td>\n",
       "      <td>27.600301</td>\n",
       "      <td>26.179326</td>\n",
       "    </tr>\n",
       "    <tr>\n",
       "      <th>50%</th>\n",
       "      <td>58.687939</td>\n",
       "      <td>57.746250</td>\n",
       "      <td>57.757548</td>\n",
       "      <td>56.691331</td>\n",
       "      <td>57.156934</td>\n",
       "      <td>56.632156</td>\n",
       "      <td>54.888086</td>\n",
       "      <td>53.149294</td>\n",
       "      <td>52.609550</td>\n",
       "      <td>52.049038</td>\n",
       "      <td>52.104522</td>\n",
       "      <td>52.655829</td>\n",
       "      <td>53.888786</td>\n",
       "      <td>53.452733</td>\n",
       "      <td>52.968072</td>\n",
       "      <td>53.050225</td>\n",
       "      <td>52.138104</td>\n",
       "      <td>49.231915</td>\n",
       "      <td>45.399836</td>\n",
       "      <td>43.272395</td>\n",
       "    </tr>\n",
       "    <tr>\n",
       "      <th>75%</th>\n",
       "      <td>75.585495</td>\n",
       "      <td>74.657339</td>\n",
       "      <td>74.623464</td>\n",
       "      <td>73.424544</td>\n",
       "      <td>74.714677</td>\n",
       "      <td>74.393983</td>\n",
       "      <td>72.261703</td>\n",
       "      <td>70.495813</td>\n",
       "      <td>70.254052</td>\n",
       "      <td>69.650615</td>\n",
       "      <td>69.789382</td>\n",
       "      <td>70.187726</td>\n",
       "      <td>71.220478</td>\n",
       "      <td>70.267485</td>\n",
       "      <td>69.535182</td>\n",
       "      <td>69.921702</td>\n",
       "      <td>69.330982</td>\n",
       "      <td>66.038004</td>\n",
       "      <td>62.876355</td>\n",
       "      <td>62.138254</td>\n",
       "    </tr>\n",
       "    <tr>\n",
       "      <th>max</th>\n",
       "      <td>144.581931</td>\n",
       "      <td>144.192904</td>\n",
       "      <td>144.360336</td>\n",
       "      <td>141.834840</td>\n",
       "      <td>141.290384</td>\n",
       "      <td>142.675280</td>\n",
       "      <td>136.490728</td>\n",
       "      <td>136.268955</td>\n",
       "      <td>137.802017</td>\n",
       "      <td>136.194843</td>\n",
       "      <td>137.494585</td>\n",
       "      <td>137.324277</td>\n",
       "      <td>143.157510</td>\n",
       "      <td>134.745606</td>\n",
       "      <td>132.646267</td>\n",
       "      <td>132.741202</td>\n",
       "      <td>134.635265</td>\n",
       "      <td>132.040377</td>\n",
       "      <td>128.256110</td>\n",
       "      <td>118.053436</td>\n",
       "    </tr>\n",
       "  </tbody>\n",
       "</table>\n",
       "</div>"
      ],
      "text/plain": [
       "        Generation 0   Generation 1   Generation 2   Generation 3  \\\n",
       "count  499500.000000  499500.000000  499500.000000  499500.000000   \n",
       "mean       59.930783      59.147512      59.050453      58.081305   \n",
       "std        21.934844      21.892155      21.937593      21.804796   \n",
       "min         2.108975       0.000000       0.000000       0.000000   \n",
       "25%        43.548182      42.816112      42.640479      41.773966   \n",
       "50%        58.687939      57.746250      57.757548      56.691331   \n",
       "75%        75.585495      74.657339      74.623464      73.424544   \n",
       "max       144.581931     144.192904     144.360336     141.834840   \n",
       "\n",
       "        Generation 4   Generation 5   Generation 6   Generation 7  \\\n",
       "count  499500.000000  499500.000000  499500.000000  499500.000000   \n",
       "mean       58.675119      58.395335      56.609572      55.209361   \n",
       "std        22.417573      22.688108      21.966086      21.859011   \n",
       "min         0.000000       0.000000       0.000000       0.000000   \n",
       "25%        41.804527      41.274318      40.051077      38.869578   \n",
       "50%        57.156934      56.632156      54.888086      53.149294   \n",
       "75%        74.714677      74.393983      72.261703      70.495813   \n",
       "max       141.290384     142.675280     136.490728     136.268955   \n",
       "\n",
       "        Generation 8   Generation 9  Generation 10  Generation 11  \\\n",
       "count  499500.000000  499500.000000  499500.000000  499500.000000   \n",
       "mean       54.893755      54.258019      54.479612      54.746724   \n",
       "std        21.947010      21.938507      22.356538      22.452352   \n",
       "min         0.000000       0.000000       0.000000       0.000000   \n",
       "25%        38.637439      37.847607      37.882459      37.864118   \n",
       "50%        52.609550      52.049038      52.104522      52.655829   \n",
       "75%        70.254052      69.650615      69.789382      70.187726   \n",
       "max       137.802017     136.194843     137.494585     137.324277   \n",
       "\n",
       "       Generation 12  Generation 13  Generation 14  Generation 15  \\\n",
       "count  499500.000000  499500.000000  499500.000000  499500.000000   \n",
       "mean       55.728734      55.156180      54.361619      54.168887   \n",
       "std        22.385166      22.163174      22.153067      22.290702   \n",
       "min         0.000000       0.000000       0.000000       0.000000   \n",
       "25%        39.061473      38.866842      37.957521      37.567198   \n",
       "50%        53.888786      53.452733      52.968072      53.050225   \n",
       "75%        71.220478      70.267485      69.535182      69.921702   \n",
       "max       143.157510     134.745606     132.646267     132.741202   \n",
       "\n",
       "       Generation 16  Generation 17  Generation 18  Generation 19  \n",
       "count  499500.000000  499500.000000  499500.000000  499500.000000  \n",
       "mean       52.506100      49.168351      46.080871      44.789302  \n",
       "std        22.754180      22.267464      21.907366      21.987841  \n",
       "min         0.000000       0.000000       0.000000       0.000000  \n",
       "25%        34.978411      31.247353      27.600301      26.179326  \n",
       "50%        52.138104      49.231915      45.399836      43.272395  \n",
       "75%        69.330982      66.038004      62.876355      62.138254  \n",
       "max       134.635265     132.040377     128.256110     118.053436  "
      ]
     },
     "execution_count": 29,
     "metadata": {},
     "output_type": "execute_result"
    }
   ],
   "source": [
    "euclidian = []\n",
    "for generation in data.reset_index()[\"generation\"].unique()[:]:\n",
    "    data_gen = data[data[\"generation\"] == generation]\n",
    "    euclidian.append(pd.Series(pdist(data_gen[var]), name=f\"Generation {generation}\"))\n",
    "euclidian = pd.concat(euclidian, axis=1)\n",
    "euclidian = euclidian.describe()\n",
    "euclidian"
   ]
  },
  {
   "cell_type": "code",
   "execution_count": 35,
   "metadata": {},
   "outputs": [
    {
     "data": {
      "application/vnd.plotly.v1+json": {
       "config": {
        "plotlyServerURL": "https://plot.ly"
       },
       "data": [
        {
         "lowerfence": [
          2.108974901282148,
          0,
          0,
          0,
          0,
          0,
          0,
          0,
          0,
          0,
          0,
          0,
          0,
          0,
          0,
          0,
          0,
          0,
          0,
          0
         ],
         "median": [
          58.68793937555302,
          57.7462495826646,
          57.757547672802545,
          56.69133118500945,
          57.156933888147606,
          56.63215628073668,
          54.88808585846716,
          53.14929439371644,
          52.6095500475642,
          52.04903834196257,
          52.10452246726743,
          52.655829351050684,
          53.88878632549145,
          53.452732647221914,
          52.9680718734646,
          53.05022538118811,
          52.138104244273364,
          49.23191477721765,
          45.399836062956574,
          43.27239509872204
         ],
         "q1": [
          43.548182290516806,
          42.81611229462496,
          42.640478983795035,
          41.7739657833,
          41.804526872840576,
          41.27431765694131,
          40.051077162300444,
          38.869578130830675,
          38.637439313679494,
          37.8476071390681,
          37.882459377607255,
          37.8641179198186,
          39.06147253365765,
          38.8668415143327,
          37.95752056237458,
          37.56719773576026,
          34.9784106524022,
          31.247353141312423,
          27.600300748507713,
          26.179325948555743
         ],
         "q3": [
          75.58549547753319,
          74.65733940318317,
          74.62346431864194,
          73.42454380182036,
          74.71467715494057,
          74.39398298538376,
          72.26170331653671,
          70.49581348390427,
          70.25405202228984,
          69.65061491390415,
          69.78938214982736,
          70.18772636397416,
          71.22047834422457,
          70.26748522301945,
          69.53518247670829,
          69.92170200515612,
          69.33098245794022,
          66.03800429875619,
          62.87635549875897,
          62.13825386213663
         ],
         "type": "box",
         "upperfence": [
          144.58193088936602,
          144.19290418219745,
          144.36033585388756,
          141.83483967639705,
          141.29038373574295,
          142.67527965536044,
          136.4907279488264,
          136.26895522914216,
          137.80201732821754,
          136.19484270020035,
          137.49458460989342,
          137.32427723462678,
          143.15750962369881,
          134.74560628942353,
          132.64626738806066,
          132.74120180663667,
          134.63526451636508,
          132.04037695910154,
          128.25610969316318,
          118.05343550815249
         ]
        }
       ],
       "layout": {
        "template": {
         "data": {
          "bar": [
           {
            "error_x": {
             "color": "#2a3f5f"
            },
            "error_y": {
             "color": "#2a3f5f"
            },
            "marker": {
             "line": {
              "color": "#E5ECF6",
              "width": 0.5
             },
             "pattern": {
              "fillmode": "overlay",
              "size": 10,
              "solidity": 0.2
             }
            },
            "type": "bar"
           }
          ],
          "barpolar": [
           {
            "marker": {
             "line": {
              "color": "#E5ECF6",
              "width": 0.5
             },
             "pattern": {
              "fillmode": "overlay",
              "size": 10,
              "solidity": 0.2
             }
            },
            "type": "barpolar"
           }
          ],
          "carpet": [
           {
            "aaxis": {
             "endlinecolor": "#2a3f5f",
             "gridcolor": "white",
             "linecolor": "white",
             "minorgridcolor": "white",
             "startlinecolor": "#2a3f5f"
            },
            "baxis": {
             "endlinecolor": "#2a3f5f",
             "gridcolor": "white",
             "linecolor": "white",
             "minorgridcolor": "white",
             "startlinecolor": "#2a3f5f"
            },
            "type": "carpet"
           }
          ],
          "choropleth": [
           {
            "colorbar": {
             "outlinewidth": 0,
             "ticks": ""
            },
            "type": "choropleth"
           }
          ],
          "contour": [
           {
            "colorbar": {
             "outlinewidth": 0,
             "ticks": ""
            },
            "colorscale": [
             [
              0,
              "#0d0887"
             ],
             [
              0.1111111111111111,
              "#46039f"
             ],
             [
              0.2222222222222222,
              "#7201a8"
             ],
             [
              0.3333333333333333,
              "#9c179e"
             ],
             [
              0.4444444444444444,
              "#bd3786"
             ],
             [
              0.5555555555555556,
              "#d8576b"
             ],
             [
              0.6666666666666666,
              "#ed7953"
             ],
             [
              0.7777777777777778,
              "#fb9f3a"
             ],
             [
              0.8888888888888888,
              "#fdca26"
             ],
             [
              1,
              "#f0f921"
             ]
            ],
            "type": "contour"
           }
          ],
          "contourcarpet": [
           {
            "colorbar": {
             "outlinewidth": 0,
             "ticks": ""
            },
            "type": "contourcarpet"
           }
          ],
          "heatmap": [
           {
            "colorbar": {
             "outlinewidth": 0,
             "ticks": ""
            },
            "colorscale": [
             [
              0,
              "#0d0887"
             ],
             [
              0.1111111111111111,
              "#46039f"
             ],
             [
              0.2222222222222222,
              "#7201a8"
             ],
             [
              0.3333333333333333,
              "#9c179e"
             ],
             [
              0.4444444444444444,
              "#bd3786"
             ],
             [
              0.5555555555555556,
              "#d8576b"
             ],
             [
              0.6666666666666666,
              "#ed7953"
             ],
             [
              0.7777777777777778,
              "#fb9f3a"
             ],
             [
              0.8888888888888888,
              "#fdca26"
             ],
             [
              1,
              "#f0f921"
             ]
            ],
            "type": "heatmap"
           }
          ],
          "heatmapgl": [
           {
            "colorbar": {
             "outlinewidth": 0,
             "ticks": ""
            },
            "colorscale": [
             [
              0,
              "#0d0887"
             ],
             [
              0.1111111111111111,
              "#46039f"
             ],
             [
              0.2222222222222222,
              "#7201a8"
             ],
             [
              0.3333333333333333,
              "#9c179e"
             ],
             [
              0.4444444444444444,
              "#bd3786"
             ],
             [
              0.5555555555555556,
              "#d8576b"
             ],
             [
              0.6666666666666666,
              "#ed7953"
             ],
             [
              0.7777777777777778,
              "#fb9f3a"
             ],
             [
              0.8888888888888888,
              "#fdca26"
             ],
             [
              1,
              "#f0f921"
             ]
            ],
            "type": "heatmapgl"
           }
          ],
          "histogram": [
           {
            "marker": {
             "pattern": {
              "fillmode": "overlay",
              "size": 10,
              "solidity": 0.2
             }
            },
            "type": "histogram"
           }
          ],
          "histogram2d": [
           {
            "colorbar": {
             "outlinewidth": 0,
             "ticks": ""
            },
            "colorscale": [
             [
              0,
              "#0d0887"
             ],
             [
              0.1111111111111111,
              "#46039f"
             ],
             [
              0.2222222222222222,
              "#7201a8"
             ],
             [
              0.3333333333333333,
              "#9c179e"
             ],
             [
              0.4444444444444444,
              "#bd3786"
             ],
             [
              0.5555555555555556,
              "#d8576b"
             ],
             [
              0.6666666666666666,
              "#ed7953"
             ],
             [
              0.7777777777777778,
              "#fb9f3a"
             ],
             [
              0.8888888888888888,
              "#fdca26"
             ],
             [
              1,
              "#f0f921"
             ]
            ],
            "type": "histogram2d"
           }
          ],
          "histogram2dcontour": [
           {
            "colorbar": {
             "outlinewidth": 0,
             "ticks": ""
            },
            "colorscale": [
             [
              0,
              "#0d0887"
             ],
             [
              0.1111111111111111,
              "#46039f"
             ],
             [
              0.2222222222222222,
              "#7201a8"
             ],
             [
              0.3333333333333333,
              "#9c179e"
             ],
             [
              0.4444444444444444,
              "#bd3786"
             ],
             [
              0.5555555555555556,
              "#d8576b"
             ],
             [
              0.6666666666666666,
              "#ed7953"
             ],
             [
              0.7777777777777778,
              "#fb9f3a"
             ],
             [
              0.8888888888888888,
              "#fdca26"
             ],
             [
              1,
              "#f0f921"
             ]
            ],
            "type": "histogram2dcontour"
           }
          ],
          "mesh3d": [
           {
            "colorbar": {
             "outlinewidth": 0,
             "ticks": ""
            },
            "type": "mesh3d"
           }
          ],
          "parcoords": [
           {
            "line": {
             "colorbar": {
              "outlinewidth": 0,
              "ticks": ""
             }
            },
            "type": "parcoords"
           }
          ],
          "pie": [
           {
            "automargin": true,
            "type": "pie"
           }
          ],
          "scatter": [
           {
            "fillpattern": {
             "fillmode": "overlay",
             "size": 10,
             "solidity": 0.2
            },
            "type": "scatter"
           }
          ],
          "scatter3d": [
           {
            "line": {
             "colorbar": {
              "outlinewidth": 0,
              "ticks": ""
             }
            },
            "marker": {
             "colorbar": {
              "outlinewidth": 0,
              "ticks": ""
             }
            },
            "type": "scatter3d"
           }
          ],
          "scattercarpet": [
           {
            "marker": {
             "colorbar": {
              "outlinewidth": 0,
              "ticks": ""
             }
            },
            "type": "scattercarpet"
           }
          ],
          "scattergeo": [
           {
            "marker": {
             "colorbar": {
              "outlinewidth": 0,
              "ticks": ""
             }
            },
            "type": "scattergeo"
           }
          ],
          "scattergl": [
           {
            "marker": {
             "colorbar": {
              "outlinewidth": 0,
              "ticks": ""
             }
            },
            "type": "scattergl"
           }
          ],
          "scattermapbox": [
           {
            "marker": {
             "colorbar": {
              "outlinewidth": 0,
              "ticks": ""
             }
            },
            "type": "scattermapbox"
           }
          ],
          "scatterpolar": [
           {
            "marker": {
             "colorbar": {
              "outlinewidth": 0,
              "ticks": ""
             }
            },
            "type": "scatterpolar"
           }
          ],
          "scatterpolargl": [
           {
            "marker": {
             "colorbar": {
              "outlinewidth": 0,
              "ticks": ""
             }
            },
            "type": "scatterpolargl"
           }
          ],
          "scatterternary": [
           {
            "marker": {
             "colorbar": {
              "outlinewidth": 0,
              "ticks": ""
             }
            },
            "type": "scatterternary"
           }
          ],
          "surface": [
           {
            "colorbar": {
             "outlinewidth": 0,
             "ticks": ""
            },
            "colorscale": [
             [
              0,
              "#0d0887"
             ],
             [
              0.1111111111111111,
              "#46039f"
             ],
             [
              0.2222222222222222,
              "#7201a8"
             ],
             [
              0.3333333333333333,
              "#9c179e"
             ],
             [
              0.4444444444444444,
              "#bd3786"
             ],
             [
              0.5555555555555556,
              "#d8576b"
             ],
             [
              0.6666666666666666,
              "#ed7953"
             ],
             [
              0.7777777777777778,
              "#fb9f3a"
             ],
             [
              0.8888888888888888,
              "#fdca26"
             ],
             [
              1,
              "#f0f921"
             ]
            ],
            "type": "surface"
           }
          ],
          "table": [
           {
            "cells": {
             "fill": {
              "color": "#EBF0F8"
             },
             "line": {
              "color": "white"
             }
            },
            "header": {
             "fill": {
              "color": "#C8D4E3"
             },
             "line": {
              "color": "white"
             }
            },
            "type": "table"
           }
          ]
         },
         "layout": {
          "annotationdefaults": {
           "arrowcolor": "#2a3f5f",
           "arrowhead": 0,
           "arrowwidth": 1
          },
          "autotypenumbers": "strict",
          "coloraxis": {
           "colorbar": {
            "outlinewidth": 0,
            "ticks": ""
           }
          },
          "colorscale": {
           "diverging": [
            [
             0,
             "#8e0152"
            ],
            [
             0.1,
             "#c51b7d"
            ],
            [
             0.2,
             "#de77ae"
            ],
            [
             0.3,
             "#f1b6da"
            ],
            [
             0.4,
             "#fde0ef"
            ],
            [
             0.5,
             "#f7f7f7"
            ],
            [
             0.6,
             "#e6f5d0"
            ],
            [
             0.7,
             "#b8e186"
            ],
            [
             0.8,
             "#7fbc41"
            ],
            [
             0.9,
             "#4d9221"
            ],
            [
             1,
             "#276419"
            ]
           ],
           "sequential": [
            [
             0,
             "#0d0887"
            ],
            [
             0.1111111111111111,
             "#46039f"
            ],
            [
             0.2222222222222222,
             "#7201a8"
            ],
            [
             0.3333333333333333,
             "#9c179e"
            ],
            [
             0.4444444444444444,
             "#bd3786"
            ],
            [
             0.5555555555555556,
             "#d8576b"
            ],
            [
             0.6666666666666666,
             "#ed7953"
            ],
            [
             0.7777777777777778,
             "#fb9f3a"
            ],
            [
             0.8888888888888888,
             "#fdca26"
            ],
            [
             1,
             "#f0f921"
            ]
           ],
           "sequentialminus": [
            [
             0,
             "#0d0887"
            ],
            [
             0.1111111111111111,
             "#46039f"
            ],
            [
             0.2222222222222222,
             "#7201a8"
            ],
            [
             0.3333333333333333,
             "#9c179e"
            ],
            [
             0.4444444444444444,
             "#bd3786"
            ],
            [
             0.5555555555555556,
             "#d8576b"
            ],
            [
             0.6666666666666666,
             "#ed7953"
            ],
            [
             0.7777777777777778,
             "#fb9f3a"
            ],
            [
             0.8888888888888888,
             "#fdca26"
            ],
            [
             1,
             "#f0f921"
            ]
           ]
          },
          "colorway": [
           "#636efa",
           "#EF553B",
           "#00cc96",
           "#ab63fa",
           "#FFA15A",
           "#19d3f3",
           "#FF6692",
           "#B6E880",
           "#FF97FF",
           "#FECB52"
          ],
          "font": {
           "color": "#2a3f5f"
          },
          "geo": {
           "bgcolor": "white",
           "lakecolor": "white",
           "landcolor": "#E5ECF6",
           "showlakes": true,
           "showland": true,
           "subunitcolor": "white"
          },
          "hoverlabel": {
           "align": "left"
          },
          "hovermode": "closest",
          "mapbox": {
           "style": "light"
          },
          "paper_bgcolor": "white",
          "plot_bgcolor": "#E5ECF6",
          "polar": {
           "angularaxis": {
            "gridcolor": "white",
            "linecolor": "white",
            "ticks": ""
           },
           "bgcolor": "#E5ECF6",
           "radialaxis": {
            "gridcolor": "white",
            "linecolor": "white",
            "ticks": ""
           }
          },
          "scene": {
           "xaxis": {
            "backgroundcolor": "#E5ECF6",
            "gridcolor": "white",
            "gridwidth": 2,
            "linecolor": "white",
            "showbackground": true,
            "ticks": "",
            "zerolinecolor": "white"
           },
           "yaxis": {
            "backgroundcolor": "#E5ECF6",
            "gridcolor": "white",
            "gridwidth": 2,
            "linecolor": "white",
            "showbackground": true,
            "ticks": "",
            "zerolinecolor": "white"
           },
           "zaxis": {
            "backgroundcolor": "#E5ECF6",
            "gridcolor": "white",
            "gridwidth": 2,
            "linecolor": "white",
            "showbackground": true,
            "ticks": "",
            "zerolinecolor": "white"
           }
          },
          "shapedefaults": {
           "line": {
            "color": "#2a3f5f"
           }
          },
          "ternary": {
           "aaxis": {
            "gridcolor": "white",
            "linecolor": "white",
            "ticks": ""
           },
           "baxis": {
            "gridcolor": "white",
            "linecolor": "white",
            "ticks": ""
           },
           "bgcolor": "#E5ECF6",
           "caxis": {
            "gridcolor": "white",
            "linecolor": "white",
            "ticks": ""
           }
          },
          "title": {
           "x": 0.05
          },
          "xaxis": {
           "automargin": true,
           "gridcolor": "white",
           "linecolor": "white",
           "ticks": "",
           "title": {
            "standoff": 15
           },
           "zerolinecolor": "white",
           "zerolinewidth": 2
          },
          "yaxis": {
           "automargin": true,
           "gridcolor": "white",
           "linecolor": "white",
           "ticks": "",
           "title": {
            "standoff": 15
           },
           "zerolinecolor": "white",
           "zerolinewidth": 2
          }
         }
        },
        "title": {
         "text": "Euclidian distance of parameter distributions"
        },
        "xaxis": {
         "title": {
          "text": "Generation"
         }
        },
        "yaxis": {
         "title": {
          "text": "Euclidian distance"
         }
        }
       }
      }
     },
     "metadata": {},
     "output_type": "display_data"
    }
   ],
   "source": [
    "import plotly.graph_objects as go\n",
    "\n",
    "fig = go.Figure()\n",
    "\n",
    "fig.add_trace(\n",
    "    go.Box(\n",
    "        q1=euclidian.loc[\"25%\"],\n",
    "        median=euclidian.loc[\"50%\"],\n",
    "        q3=euclidian.loc[\"75%\"],\n",
    "        lowerfence=euclidian.loc[\"min\"],\n",
    "        upperfence=euclidian.loc[\"max\"],\n",
    "    )\n",
    ")\n",
    "\n",
    "fig.update_xaxes(title_text=\"Generation\")\n",
    "fig.update_yaxes(title_text=\"Euclidian distance\")\n",
    "fig.update_layout(\n",
    "    title=\"Euclidian distance of parameter distributions\", xaxis_title=\"Generation\", yaxis_title=\"Euclidian distance\"\n",
    ")\n",
    "\n",
    "fig.show()"
   ]
  },
  {
   "cell_type": "code",
   "execution_count": null,
   "metadata": {},
   "outputs": [],
   "source": []
  }
 ],
 "metadata": {
  "kernelspec": {
   "display_name": ".venv",
   "language": "python",
   "name": "python3"
  },
  "language_info": {
   "codemirror_mode": {
    "name": "ipython",
    "version": 3
   },
   "file_extension": ".py",
   "mimetype": "text/x-python",
   "name": "python",
   "nbconvert_exporter": "python",
   "pygments_lexer": "ipython3",
   "version": "3.12.9"
  }
 },
 "nbformat": 4,
 "nbformat_minor": 2
}
