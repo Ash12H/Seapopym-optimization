{
 "cells": [
  {
   "cell_type": "code",
   "execution_count": 1,
   "id": "d587886c",
   "metadata": {},
   "outputs": [],
   "source": [
    "import xarray as xr"
   ]
  },
  {
   "cell_type": "markdown",
   "id": "d48e46fd",
   "metadata": {},
   "source": [
    "## CMEMS\n"
   ]
  },
  {
   "cell_type": "code",
   "execution_count": 3,
   "id": "5f7416df",
   "metadata": {},
   "outputs": [],
   "source": [
    "cmems_hot = xr.open_dataset(\n",
    "    \"../../../1_data_processing/1_1_Forcing/data/1_products/Hot_cmems_climato.zarr\", engine=\"zarr\"\n",
    ")\n",
    "cmems_bats = xr.open_dataset(\n",
    "    \"../../../1_data_processing/1_1_Forcing/data/1_products/Bats_cmems_climato.zarr\", engine=\"zarr\"\n",
    ")\n",
    "cmems_calcofi = xr.open_dataset(\n",
    "    \"../../../1_data_processing/1_1_Forcing/data/1_products/Calcofi_cmems_climato.zarr\", engine=\"zarr\"\n",
    ")\n",
    "cmems_papa = xr.open_dataset(\n",
    "    \"../../../1_data_processing/1_1_Forcing/data/1_products/Papa_cmems_climato.zarr\", engine=\"zarr\"\n",
    ")"
   ]
  },
  {
   "cell_type": "markdown",
   "id": "d952f69c",
   "metadata": {},
   "source": [
    "## Observations\n"
   ]
  },
  {
   "cell_type": "code",
   "execution_count": 5,
   "id": "56e38a36",
   "metadata": {},
   "outputs": [],
   "source": [
    "obs_hot = xr.open_dataset(\n",
    "    \"../../../1_data_processing/1_1_Forcing/data/1_products/Hot_obs_zoo_climato_monthly_2002_2015.zarr\", engine=\"zarr\"\n",
    ")\n",
    "obs_bats = xr.open_dataset(\n",
    "    \"../../../1_data_processing/1_1_Forcing/data/1_products/Bats_obs_zoo_climato_monthly_2002_2015.zarr\", engine=\"zarr\"\n",
    ")\n",
    "obs_calcofi = xr.open_dataset(\n",
    "    \"../../../1_data_processing/1_1_Forcing/data/1_products/Calcofi_obs_zoo_climato_monthly_2002_2015.zarr\",\n",
    "    engine=\"zarr\",\n",
    ")\n",
    "obs_papa = xr.open_dataset(\n",
    "    \"../../../1_data_processing/1_1_Forcing/data/1_products/Papa_obs_zoo_climato_monthly_2002_2015.zarr\", engine=\"zarr\"\n",
    ")"
   ]
  },
  {
   "cell_type": "markdown",
   "id": "a7c945d3",
   "metadata": {},
   "source": [
    "## CAFE primary production\n"
   ]
  },
  {
   "cell_type": "code",
   "execution_count": null,
   "id": "d38a7718",
   "metadata": {},
   "outputs": [],
   "source": []
  }
 ],
 "metadata": {
  "kernelspec": {
   "display_name": ".venv",
   "language": "python",
   "name": "python3"
  },
  "language_info": {
   "codemirror_mode": {
    "name": "ipython",
    "version": 3
   },
   "file_extension": ".py",
   "mimetype": "text/x-python",
   "name": "python",
   "nbconvert_exporter": "python",
   "pygments_lexer": "ipython3",
   "version": "3.12.10"
  }
 },
 "nbformat": 4,
 "nbformat_minor": 5
}
