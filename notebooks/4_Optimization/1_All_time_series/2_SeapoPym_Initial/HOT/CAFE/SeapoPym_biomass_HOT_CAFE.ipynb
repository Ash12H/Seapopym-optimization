{
 "cells": [
  {
   "cell_type": "code",
   "execution_count": 13,
   "metadata": {},
   "outputs": [],
   "source": [
    "import matplotlib.pyplot as plt\n",
    "import pandas as pd\n",
    "import pint\n",
    "import plotly.express as px\n",
    "import plotly.graph_objects as go\n",
    "import xarray as xr\n",
    "from seapopym.configuration.no_transport.parameter import ForcingParameters\n",
    "from seapopym.configuration.parameters.parameter_forcing import ForcingUnit\n",
    "from seapopym.standard.units import StandardUnitsLabels\n",
    "\n",
    "from seapopym_optimization import Observation, wrapper\n",
    "from seapopym_optimization.taylor_diagram import ModTaylorDiagram, generate_mod_taylor_diagram"
   ]
  },
  {
   "cell_type": "markdown",
   "metadata": {},
   "source": [
    "## Load forcing\n"
   ]
  },
  {
   "cell_type": "code",
   "execution_count": 14,
   "metadata": {},
   "outputs": [],
   "source": [
    "LATITUDE = 22.75\n",
    "LONGITUDE = -158\n",
    "TIME_START = \"2005-01-01\"\n",
    "TIME_END = \"2010-01-01\""
   ]
  },
  {
   "cell_type": "code",
   "execution_count": 15,
   "metadata": {},
   "outputs": [],
   "source": [
    "path_to_forcing = \"../../../../../1_data_processing/1_1_Forcing/products/Hot_cmems.zarr\"\n",
    "path_to_cafe = \"../../../../../1_data_processing/1_1_Forcing/products/Hot_cafe.zarr\"\n",
    "path_to_obs = \"../../../../../1_data_processing/1_1_Forcing/products/Hot_obs_filtered.zarr\"\n",
    "export_file_name = \"SeapoPym_HOT_CAFE_by_epi_layer_depth\""
   ]
  },
  {
   "cell_type": "markdown",
   "metadata": {},
   "source": [
    "Load forcing.\n"
   ]
  },
  {
   "cell_type": "code",
   "execution_count": 16,
   "metadata": {},
   "outputs": [],
   "source": [
    "data = xr.open_dataset(path_to_forcing, engine=\"zarr\")\n",
    "data[\"T\"].attrs[\"units\"] = StandardUnitsLabels.temperature.units\n",
    "data.time.attrs[\"axis\"] = \"T\"\n",
    "data.npp.attrs[\"units\"] = \"mg/meter^2/day\"\n",
    "data = data.sel(time=slice(TIME_START, TIME_END))\n",
    "_ = data.load()\n",
    "\n",
    "cafe_npp = xr.open_dataset(path_to_cafe, engine=\"zarr\")\n",
    "cafe_npp = cafe_npp.sel(time=slice(TIME_START, TIME_END))\n",
    "cafe_npp = cafe_npp.dropna(\"time\", how=\"all\")\n",
    "cafe_npp = cafe_npp.resample(time=\"D\").interpolate(\"linear\")\n",
    "cafe_npp.time.attrs[\"axis\"] = \"T\"\n",
    "_ = cafe_npp.load()"
   ]
  },
  {
   "cell_type": "markdown",
   "metadata": {},
   "source": [
    "Load observations.\n",
    "\n",
    "First I multiply the observations by the epipelagic layer depth to have a biomass in m2 rather than m3.\n"
   ]
  },
  {
   "cell_type": "code",
   "execution_count": 17,
   "metadata": {},
   "outputs": [
    {
     "data": {
      "text/html": [
       "<div><svg style=\"position: absolute; width: 0; height: 0; overflow: hidden\">\n",
       "<defs>\n",
       "<symbol id=\"icon-database\" viewBox=\"0 0 32 32\">\n",
       "<path d=\"M16 0c-8.837 0-16 2.239-16 5v4c0 2.761 7.163 5 16 5s16-2.239 16-5v-4c0-2.761-7.163-5-16-5z\"></path>\n",
       "<path d=\"M16 17c-8.837 0-16-2.239-16-5v6c0 2.761 7.163 5 16 5s16-2.239 16-5v-6c0 2.761-7.163 5-16 5z\"></path>\n",
       "<path d=\"M16 26c-8.837 0-16-2.239-16-5v6c0 2.761 7.163 5 16 5s16-2.239 16-5v-6c0 2.761-7.163 5-16 5z\"></path>\n",
       "</symbol>\n",
       "<symbol id=\"icon-file-text2\" viewBox=\"0 0 32 32\">\n",
       "<path d=\"M28.681 7.159c-0.694-0.947-1.662-2.053-2.724-3.116s-2.169-2.030-3.116-2.724c-1.612-1.182-2.393-1.319-2.841-1.319h-15.5c-1.378 0-2.5 1.121-2.5 2.5v27c0 1.378 1.122 2.5 2.5 2.5h23c1.378 0 2.5-1.122 2.5-2.5v-19.5c0-0.448-0.137-1.23-1.319-2.841zM24.543 5.457c0.959 0.959 1.712 1.825 2.268 2.543h-4.811v-4.811c0.718 0.556 1.584 1.309 2.543 2.268zM28 29.5c0 0.271-0.229 0.5-0.5 0.5h-23c-0.271 0-0.5-0.229-0.5-0.5v-27c0-0.271 0.229-0.5 0.5-0.5 0 0 15.499-0 15.5 0v7c0 0.552 0.448 1 1 1h7v19.5z\"></path>\n",
       "<path d=\"M23 26h-14c-0.552 0-1-0.448-1-1s0.448-1 1-1h14c0.552 0 1 0.448 1 1s-0.448 1-1 1z\"></path>\n",
       "<path d=\"M23 22h-14c-0.552 0-1-0.448-1-1s0.448-1 1-1h14c0.552 0 1 0.448 1 1s-0.448 1-1 1z\"></path>\n",
       "<path d=\"M23 18h-14c-0.552 0-1-0.448-1-1s0.448-1 1-1h14c0.552 0 1 0.448 1 1s-0.448 1-1 1z\"></path>\n",
       "</symbol>\n",
       "</defs>\n",
       "</svg>\n",
       "<style>/* CSS stylesheet for displaying xarray objects in jupyterlab.\n",
       " *\n",
       " */\n",
       "\n",
       ":root {\n",
       "  --xr-font-color0: var(--jp-content-font-color0, rgba(0, 0, 0, 1));\n",
       "  --xr-font-color2: var(--jp-content-font-color2, rgba(0, 0, 0, 0.54));\n",
       "  --xr-font-color3: var(--jp-content-font-color3, rgba(0, 0, 0, 0.38));\n",
       "  --xr-border-color: var(--jp-border-color2, #e0e0e0);\n",
       "  --xr-disabled-color: var(--jp-layout-color3, #bdbdbd);\n",
       "  --xr-background-color: var(--jp-layout-color0, white);\n",
       "  --xr-background-color-row-even: var(--jp-layout-color1, white);\n",
       "  --xr-background-color-row-odd: var(--jp-layout-color2, #eeeeee);\n",
       "}\n",
       "\n",
       "html[theme=dark],\n",
       "html[data-theme=dark],\n",
       "body[data-theme=dark],\n",
       "body.vscode-dark {\n",
       "  --xr-font-color0: rgba(255, 255, 255, 1);\n",
       "  --xr-font-color2: rgba(255, 255, 255, 0.54);\n",
       "  --xr-font-color3: rgba(255, 255, 255, 0.38);\n",
       "  --xr-border-color: #1F1F1F;\n",
       "  --xr-disabled-color: #515151;\n",
       "  --xr-background-color: #111111;\n",
       "  --xr-background-color-row-even: #111111;\n",
       "  --xr-background-color-row-odd: #313131;\n",
       "}\n",
       "\n",
       ".xr-wrap {\n",
       "  display: block !important;\n",
       "  min-width: 300px;\n",
       "  max-width: 700px;\n",
       "}\n",
       "\n",
       ".xr-text-repr-fallback {\n",
       "  /* fallback to plain text repr when CSS is not injected (untrusted notebook) */\n",
       "  display: none;\n",
       "}\n",
       "\n",
       ".xr-header {\n",
       "  padding-top: 6px;\n",
       "  padding-bottom: 6px;\n",
       "  margin-bottom: 4px;\n",
       "  border-bottom: solid 1px var(--xr-border-color);\n",
       "}\n",
       "\n",
       ".xr-header > div,\n",
       ".xr-header > ul {\n",
       "  display: inline;\n",
       "  margin-top: 0;\n",
       "  margin-bottom: 0;\n",
       "}\n",
       "\n",
       ".xr-obj-type,\n",
       ".xr-array-name {\n",
       "  margin-left: 2px;\n",
       "  margin-right: 10px;\n",
       "}\n",
       "\n",
       ".xr-obj-type {\n",
       "  color: var(--xr-font-color2);\n",
       "}\n",
       "\n",
       ".xr-sections {\n",
       "  padding-left: 0 !important;\n",
       "  display: grid;\n",
       "  grid-template-columns: 150px auto auto 1fr 0 20px 0 20px;\n",
       "}\n",
       "\n",
       ".xr-section-item {\n",
       "  display: contents;\n",
       "}\n",
       "\n",
       ".xr-section-item input {\n",
       "  display: inline-block;\n",
       "  opacity: 0;\n",
       "}\n",
       "\n",
       ".xr-section-item input + label {\n",
       "  color: var(--xr-disabled-color);\n",
       "}\n",
       "\n",
       ".xr-section-item input:enabled + label {\n",
       "  cursor: pointer;\n",
       "  color: var(--xr-font-color2);\n",
       "}\n",
       "\n",
       ".xr-section-item input:focus + label {\n",
       "  border: 2px solid var(--xr-font-color0);\n",
       "}\n",
       "\n",
       ".xr-section-item input:enabled + label:hover {\n",
       "  color: var(--xr-font-color0);\n",
       "}\n",
       "\n",
       ".xr-section-summary {\n",
       "  grid-column: 1;\n",
       "  color: var(--xr-font-color2);\n",
       "  font-weight: 500;\n",
       "}\n",
       "\n",
       ".xr-section-summary > span {\n",
       "  display: inline-block;\n",
       "  padding-left: 0.5em;\n",
       "}\n",
       "\n",
       ".xr-section-summary-in:disabled + label {\n",
       "  color: var(--xr-font-color2);\n",
       "}\n",
       "\n",
       ".xr-section-summary-in + label:before {\n",
       "  display: inline-block;\n",
       "  content: '►';\n",
       "  font-size: 11px;\n",
       "  width: 15px;\n",
       "  text-align: center;\n",
       "}\n",
       "\n",
       ".xr-section-summary-in:disabled + label:before {\n",
       "  color: var(--xr-disabled-color);\n",
       "}\n",
       "\n",
       ".xr-section-summary-in:checked + label:before {\n",
       "  content: '▼';\n",
       "}\n",
       "\n",
       ".xr-section-summary-in:checked + label > span {\n",
       "  display: none;\n",
       "}\n",
       "\n",
       ".xr-section-summary,\n",
       ".xr-section-inline-details {\n",
       "  padding-top: 4px;\n",
       "  padding-bottom: 4px;\n",
       "}\n",
       "\n",
       ".xr-section-inline-details {\n",
       "  grid-column: 2 / -1;\n",
       "}\n",
       "\n",
       ".xr-section-details {\n",
       "  display: none;\n",
       "  grid-column: 1 / -1;\n",
       "  margin-bottom: 5px;\n",
       "}\n",
       "\n",
       ".xr-section-summary-in:checked ~ .xr-section-details {\n",
       "  display: contents;\n",
       "}\n",
       "\n",
       ".xr-array-wrap {\n",
       "  grid-column: 1 / -1;\n",
       "  display: grid;\n",
       "  grid-template-columns: 20px auto;\n",
       "}\n",
       "\n",
       ".xr-array-wrap > label {\n",
       "  grid-column: 1;\n",
       "  vertical-align: top;\n",
       "}\n",
       "\n",
       ".xr-preview {\n",
       "  color: var(--xr-font-color3);\n",
       "}\n",
       "\n",
       ".xr-array-preview,\n",
       ".xr-array-data {\n",
       "  padding: 0 5px !important;\n",
       "  grid-column: 2;\n",
       "}\n",
       "\n",
       ".xr-array-data,\n",
       ".xr-array-in:checked ~ .xr-array-preview {\n",
       "  display: none;\n",
       "}\n",
       "\n",
       ".xr-array-in:checked ~ .xr-array-data,\n",
       ".xr-array-preview {\n",
       "  display: inline-block;\n",
       "}\n",
       "\n",
       ".xr-dim-list {\n",
       "  display: inline-block !important;\n",
       "  list-style: none;\n",
       "  padding: 0 !important;\n",
       "  margin: 0;\n",
       "}\n",
       "\n",
       ".xr-dim-list li {\n",
       "  display: inline-block;\n",
       "  padding: 0;\n",
       "  margin: 0;\n",
       "}\n",
       "\n",
       ".xr-dim-list:before {\n",
       "  content: '(';\n",
       "}\n",
       "\n",
       ".xr-dim-list:after {\n",
       "  content: ')';\n",
       "}\n",
       "\n",
       ".xr-dim-list li:not(:last-child):after {\n",
       "  content: ',';\n",
       "  padding-right: 5px;\n",
       "}\n",
       "\n",
       ".xr-has-index {\n",
       "  font-weight: bold;\n",
       "}\n",
       "\n",
       ".xr-var-list,\n",
       ".xr-var-item {\n",
       "  display: contents;\n",
       "}\n",
       "\n",
       ".xr-var-item > div,\n",
       ".xr-var-item label,\n",
       ".xr-var-item > .xr-var-name span {\n",
       "  background-color: var(--xr-background-color-row-even);\n",
       "  margin-bottom: 0;\n",
       "}\n",
       "\n",
       ".xr-var-item > .xr-var-name:hover span {\n",
       "  padding-right: 5px;\n",
       "}\n",
       "\n",
       ".xr-var-list > li:nth-child(odd) > div,\n",
       ".xr-var-list > li:nth-child(odd) > label,\n",
       ".xr-var-list > li:nth-child(odd) > .xr-var-name span {\n",
       "  background-color: var(--xr-background-color-row-odd);\n",
       "}\n",
       "\n",
       ".xr-var-name {\n",
       "  grid-column: 1;\n",
       "}\n",
       "\n",
       ".xr-var-dims {\n",
       "  grid-column: 2;\n",
       "}\n",
       "\n",
       ".xr-var-dtype {\n",
       "  grid-column: 3;\n",
       "  text-align: right;\n",
       "  color: var(--xr-font-color2);\n",
       "}\n",
       "\n",
       ".xr-var-preview {\n",
       "  grid-column: 4;\n",
       "}\n",
       "\n",
       ".xr-index-preview {\n",
       "  grid-column: 2 / 5;\n",
       "  color: var(--xr-font-color2);\n",
       "}\n",
       "\n",
       ".xr-var-name,\n",
       ".xr-var-dims,\n",
       ".xr-var-dtype,\n",
       ".xr-preview,\n",
       ".xr-attrs dt {\n",
       "  white-space: nowrap;\n",
       "  overflow: hidden;\n",
       "  text-overflow: ellipsis;\n",
       "  padding-right: 10px;\n",
       "}\n",
       "\n",
       ".xr-var-name:hover,\n",
       ".xr-var-dims:hover,\n",
       ".xr-var-dtype:hover,\n",
       ".xr-attrs dt:hover {\n",
       "  overflow: visible;\n",
       "  width: auto;\n",
       "  z-index: 1;\n",
       "}\n",
       "\n",
       ".xr-var-attrs,\n",
       ".xr-var-data,\n",
       ".xr-index-data {\n",
       "  display: none;\n",
       "  background-color: var(--xr-background-color) !important;\n",
       "  padding-bottom: 5px !important;\n",
       "}\n",
       "\n",
       ".xr-var-attrs-in:checked ~ .xr-var-attrs,\n",
       ".xr-var-data-in:checked ~ .xr-var-data,\n",
       ".xr-index-data-in:checked ~ .xr-index-data {\n",
       "  display: block;\n",
       "}\n",
       "\n",
       ".xr-var-data > table {\n",
       "  float: right;\n",
       "}\n",
       "\n",
       ".xr-var-name span,\n",
       ".xr-var-data,\n",
       ".xr-index-name div,\n",
       ".xr-index-data,\n",
       ".xr-attrs {\n",
       "  padding-left: 25px !important;\n",
       "}\n",
       "\n",
       ".xr-attrs,\n",
       ".xr-var-attrs,\n",
       ".xr-var-data,\n",
       ".xr-index-data {\n",
       "  grid-column: 1 / -1;\n",
       "}\n",
       "\n",
       "dl.xr-attrs {\n",
       "  padding: 0;\n",
       "  margin: 0;\n",
       "  display: grid;\n",
       "  grid-template-columns: 125px auto;\n",
       "}\n",
       "\n",
       ".xr-attrs dt,\n",
       ".xr-attrs dd {\n",
       "  padding: 0;\n",
       "  margin: 0;\n",
       "  float: left;\n",
       "  padding-right: 10px;\n",
       "  width: auto;\n",
       "}\n",
       "\n",
       ".xr-attrs dt {\n",
       "  font-weight: normal;\n",
       "  grid-column: 1;\n",
       "}\n",
       "\n",
       ".xr-attrs dt:hover span {\n",
       "  display: inline-block;\n",
       "  background: var(--xr-background-color);\n",
       "  padding-right: 10px;\n",
       "}\n",
       "\n",
       ".xr-attrs dd {\n",
       "  grid-column: 2;\n",
       "  white-space: pre-wrap;\n",
       "  word-break: break-all;\n",
       "}\n",
       "\n",
       ".xr-icon-database,\n",
       ".xr-icon-file-text2,\n",
       ".xr-no-icon {\n",
       "  display: inline-block;\n",
       "  vertical-align: middle;\n",
       "  width: 1em;\n",
       "  height: 1.5em !important;\n",
       "  stroke-width: 0;\n",
       "  stroke: currentColor;\n",
       "  fill: currentColor;\n",
       "}\n",
       "</style><pre class='xr-text-repr-fallback'>&lt;xarray.DataArray &#x27;pelagic_layer_depth&#x27; (time: 1827)&gt; Size: 15kB\n",
       "&lt;Quantity([107.43817233 107.62027052 111.36080136 ... 122.58406452 117.0609761\n",
       " 112.42833116], &#x27;meter&#x27;)&gt;\n",
       "Coordinates:\n",
       "    depth      int32 4B [m] 1\n",
       "    latitude   float64 8B [degrees_north] 22.75\n",
       "    longitude  int64 8B [degrees_east] -158\n",
       "  * time       (time) datetime64[ns] 15kB 2005-01-01 2005-01-02 ... 2010-01-01</pre><div class='xr-wrap' style='display:none'><div class='xr-header'><div class='xr-obj-type'>xarray.DataArray</div><div class='xr-array-name'>'pelagic_layer_depth'</div><ul class='xr-dim-list'><li><span class='xr-has-index'>time</span>: 1827</li></ul></div><ul class='xr-sections'><li class='xr-section-item'><div class='xr-array-wrap'><input id='section-9636ca44-bf2e-4c11-ad83-958f6c10dfd6' class='xr-array-in' type='checkbox' checked><label for='section-9636ca44-bf2e-4c11-ad83-958f6c10dfd6' title='Show/hide data repr'><svg class='icon xr-icon-database'><use xlink:href='#icon-database'></use></svg></label><div class='xr-array-preview xr-preview'><span>[m] 107.4 107.6 111.4 113.8 113.0 ... 115.8 116.8 122.6 117.1 112.4</span></div><div class='xr-array-data'><table><tbody><tr><th>Magnitude</th><td style='text-align:left;'><pre>[107.43817232572908 107.62027052217076 111.36080136467434 ...<br> 122.58406451784043 117.06097610099505 112.42833115849288]</pre></td></tr><tr><th>Units</th><td style='text-align:left;'>meter</td></tr></tbody></table></div></div></li><li class='xr-section-item'><input id='section-4ab9974b-55f7-4143-ad23-674750727615' class='xr-section-summary-in' type='checkbox'  checked><label for='section-4ab9974b-55f7-4143-ad23-674750727615' class='xr-section-summary' >Coordinates: <span>(4)</span></label><div class='xr-section-inline-details'></div><div class='xr-section-details'><ul class='xr-var-list'><li class='xr-var-item'><div class='xr-var-name'><span>depth</span></div><div class='xr-var-dims'>()</div><div class='xr-var-dtype'>int32</div><div class='xr-var-preview xr-preview'>[m] 1</div><input id='attrs-28538111-6392-4375-bac1-2113df623f0d' class='xr-var-attrs-in' type='checkbox' ><label for='attrs-28538111-6392-4375-bac1-2113df623f0d' title='Show/Hide attributes'><svg class='icon xr-icon-file-text2'><use xlink:href='#icon-file-text2'></use></svg></label><input id='data-76193bca-e8c4-4b0b-a7f2-cdb572a9e9e7' class='xr-var-data-in' type='checkbox'><label for='data-76193bca-e8c4-4b0b-a7f2-cdb572a9e9e7' title='Show/Hide data repr'><svg class='icon xr-icon-database'><use xlink:href='#icon-database'></use></svg></label><div class='xr-var-attrs'><dl class='xr-attrs'><dt><span>axis :</span></dt><dd>Z</dd><dt><span>comment :</span></dt><dd>In fact units are pelagic layer number; 1: epipelagic layer; 2: upper mesopelagic layer; 3: lower mesopelagic layer</dd><dt><span>long_name :</span></dt><dd>Depth</dd><dt><span>positive :</span></dt><dd>down</dd><dt><span>standard_name :</span></dt><dd>depth</dd><dt><span>valid_max :</span></dt><dd>3</dd><dt><span>valid_min :</span></dt><dd>1</dd></dl></div><div class='xr-var-data'>1 meter</div></li><li class='xr-var-item'><div class='xr-var-name'><span>latitude</span></div><div class='xr-var-dims'>()</div><div class='xr-var-dtype'>float64</div><div class='xr-var-preview xr-preview'>[degrees_north] 22.75</div><input id='attrs-bfce0450-1729-436c-861e-1434d766c6e5' class='xr-var-attrs-in' type='checkbox' ><label for='attrs-bfce0450-1729-436c-861e-1434d766c6e5' title='Show/Hide attributes'><svg class='icon xr-icon-file-text2'><use xlink:href='#icon-file-text2'></use></svg></label><input id='data-d32b1a1b-46ce-4510-b59a-f38d8313315e' class='xr-var-data-in' type='checkbox'><label for='data-d32b1a1b-46ce-4510-b59a-f38d8313315e' title='Show/Hide data repr'><svg class='icon xr-icon-database'><use xlink:href='#icon-database'></use></svg></label><div class='xr-var-attrs'><dl class='xr-attrs'><dt><span>axis :</span></dt><dd>Y</dd><dt><span>standard_name :</span></dt><dd>latitude</dd><dt><span>valid_max :</span></dt><dd>23.249998092651367</dd><dt><span>valid_min :</span></dt><dd>22.333332061767578</dd></dl></div><div class='xr-var-data'>22.75 degrees_north</div></li><li class='xr-var-item'><div class='xr-var-name'><span>longitude</span></div><div class='xr-var-dims'>()</div><div class='xr-var-dtype'>int64</div><div class='xr-var-preview xr-preview'>[degrees_east] -158</div><input id='attrs-37d05678-a655-4d98-adc7-913949fc0f84' class='xr-var-attrs-in' type='checkbox' ><label for='attrs-37d05678-a655-4d98-adc7-913949fc0f84' title='Show/Hide attributes'><svg class='icon xr-icon-file-text2'><use xlink:href='#icon-file-text2'></use></svg></label><input id='data-d360c41c-e69b-4c39-ab38-442f5345ad7c' class='xr-var-data-in' type='checkbox'><label for='data-d360c41c-e69b-4c39-ab38-442f5345ad7c' title='Show/Hide data repr'><svg class='icon xr-icon-database'><use xlink:href='#icon-database'></use></svg></label><div class='xr-var-attrs'><dl class='xr-attrs'><dt><span>axis :</span></dt><dd>X</dd><dt><span>standard_name :</span></dt><dd>longitude</dd><dt><span>valid_max :</span></dt><dd>-157.5</dd><dt><span>valid_min :</span></dt><dd>-158.5</dd></dl></div><div class='xr-var-data'>-158 degrees_east</div></li><li class='xr-var-item'><div class='xr-var-name'><span class='xr-has-index'>time</span></div><div class='xr-var-dims'>(time)</div><div class='xr-var-dtype'>datetime64[ns]</div><div class='xr-var-preview xr-preview'>2005-01-01 ... 2010-01-01</div><input id='attrs-0e64d035-2bc3-41d5-83af-7d7129df737c' class='xr-var-attrs-in' type='checkbox' ><label for='attrs-0e64d035-2bc3-41d5-83af-7d7129df737c' title='Show/Hide attributes'><svg class='icon xr-icon-file-text2'><use xlink:href='#icon-file-text2'></use></svg></label><input id='data-4532ac25-db21-485b-bd04-4dd88a63754b' class='xr-var-data-in' type='checkbox'><label for='data-4532ac25-db21-485b-bd04-4dd88a63754b' title='Show/Hide data repr'><svg class='icon xr-icon-database'><use xlink:href='#icon-database'></use></svg></label><div class='xr-var-attrs'><dl class='xr-attrs'><dt><span>valid_max :</span></dt><dd>1672444800</dd><dt><span>valid_min :</span></dt><dd>883612800</dd><dt><span>axis :</span></dt><dd>T</dd></dl></div><div class='xr-var-data'><pre>array([&#x27;2005-01-01T00:00:00.000000000&#x27;, &#x27;2005-01-02T00:00:00.000000000&#x27;,\n",
       "       &#x27;2005-01-03T00:00:00.000000000&#x27;, ..., &#x27;2009-12-30T00:00:00.000000000&#x27;,\n",
       "       &#x27;2009-12-31T00:00:00.000000000&#x27;, &#x27;2010-01-01T00:00:00.000000000&#x27;],\n",
       "      dtype=&#x27;datetime64[ns]&#x27;)</pre></div></li></ul></div></li><li class='xr-section-item'><input id='section-25fb07a2-a5c2-42ae-afac-ab25487bf856' class='xr-section-summary-in' type='checkbox'  ><label for='section-25fb07a2-a5c2-42ae-afac-ab25487bf856' class='xr-section-summary' >Indexes: <span>(1)</span></label><div class='xr-section-inline-details'></div><div class='xr-section-details'><ul class='xr-var-list'><li class='xr-var-item'><div class='xr-index-name'><div>time</div></div><div class='xr-index-preview'>PandasIndex</div><div></div><input id='index-f5547098-1d79-4be6-b6d0-f75901144b1e' class='xr-index-data-in' type='checkbox'/><label for='index-f5547098-1d79-4be6-b6d0-f75901144b1e' title='Show/Hide index repr'><svg class='icon xr-icon-database'><use xlink:href='#icon-database'></use></svg></label><div class='xr-index-data'><pre>PandasIndex(DatetimeIndex([&#x27;2005-01-01&#x27;, &#x27;2005-01-02&#x27;, &#x27;2005-01-03&#x27;, &#x27;2005-01-04&#x27;,\n",
       "               &#x27;2005-01-05&#x27;, &#x27;2005-01-06&#x27;, &#x27;2005-01-07&#x27;, &#x27;2005-01-08&#x27;,\n",
       "               &#x27;2005-01-09&#x27;, &#x27;2005-01-10&#x27;,\n",
       "               ...\n",
       "               &#x27;2009-12-23&#x27;, &#x27;2009-12-24&#x27;, &#x27;2009-12-25&#x27;, &#x27;2009-12-26&#x27;,\n",
       "               &#x27;2009-12-27&#x27;, &#x27;2009-12-28&#x27;, &#x27;2009-12-29&#x27;, &#x27;2009-12-30&#x27;,\n",
       "               &#x27;2009-12-31&#x27;, &#x27;2010-01-01&#x27;],\n",
       "              dtype=&#x27;datetime64[ns]&#x27;, name=&#x27;time&#x27;, length=1827, freq=&#x27;D&#x27;))</pre></div></li></ul></div></li><li class='xr-section-item'><input id='section-f0f0a83c-c772-4663-a728-40a1ee7ac1fd' class='xr-section-summary-in' type='checkbox' disabled ><label for='section-f0f0a83c-c772-4663-a728-40a1ee7ac1fd' class='xr-section-summary'  title='Expand/collapse section'>Attributes: <span>(0)</span></label><div class='xr-section-inline-details'></div><div class='xr-section-details'><dl class='xr-attrs'></dl></div></li></ul></div></div>"
      ],
      "text/plain": [
       "<xarray.DataArray 'pelagic_layer_depth' (time: 1827)> Size: 15kB\n",
       "<Quantity([107.43817233 107.62027052 111.36080136 ... 122.58406452 117.0609761\n",
       " 112.42833116], 'meter')>\n",
       "Coordinates:\n",
       "    depth      int32 4B [m] 1\n",
       "    latitude   float64 8B [degrees_north] 22.75\n",
       "    longitude  int64 8B [degrees_east] -158\n",
       "  * time       (time) datetime64[ns] 15kB 2005-01-01 2005-01-02 ... 2010-01-01"
      ]
     },
     "execution_count": 17,
     "metadata": {},
     "output_type": "execute_result"
    }
   ],
   "source": [
    "epi_layer_depth = (\n",
    "    data[\"pelagic_layer_depth\"].sel(latitude=LATITUDE, longitude=LONGITUDE, method=\"nearest\", depth=1).load()\n",
    ")\n",
    "epi_layer_depth = epi_layer_depth.resample(time=\"1D\").mean()\n",
    "epi_layer_depth.attrs[\"units\"] = \"meter\"\n",
    "epi_layer_depth = epi_layer_depth.pint.quantify()\n",
    "epi_layer_depth"
   ]
  },
  {
   "cell_type": "code",
   "execution_count": 22,
   "metadata": {},
   "outputs": [
    {
     "data": {
      "text/html": [
       "<div><svg style=\"position: absolute; width: 0; height: 0; overflow: hidden\">\n",
       "<defs>\n",
       "<symbol id=\"icon-database\" viewBox=\"0 0 32 32\">\n",
       "<path d=\"M16 0c-8.837 0-16 2.239-16 5v4c0 2.761 7.163 5 16 5s16-2.239 16-5v-4c0-2.761-7.163-5-16-5z\"></path>\n",
       "<path d=\"M16 17c-8.837 0-16-2.239-16-5v6c0 2.761 7.163 5 16 5s16-2.239 16-5v-6c0 2.761-7.163 5-16 5z\"></path>\n",
       "<path d=\"M16 26c-8.837 0-16-2.239-16-5v6c0 2.761 7.163 5 16 5s16-2.239 16-5v-6c0 2.761-7.163 5-16 5z\"></path>\n",
       "</symbol>\n",
       "<symbol id=\"icon-file-text2\" viewBox=\"0 0 32 32\">\n",
       "<path d=\"M28.681 7.159c-0.694-0.947-1.662-2.053-2.724-3.116s-2.169-2.030-3.116-2.724c-1.612-1.182-2.393-1.319-2.841-1.319h-15.5c-1.378 0-2.5 1.121-2.5 2.5v27c0 1.378 1.122 2.5 2.5 2.5h23c1.378 0 2.5-1.122 2.5-2.5v-19.5c0-0.448-0.137-1.23-1.319-2.841zM24.543 5.457c0.959 0.959 1.712 1.825 2.268 2.543h-4.811v-4.811c0.718 0.556 1.584 1.309 2.543 2.268zM28 29.5c0 0.271-0.229 0.5-0.5 0.5h-23c-0.271 0-0.5-0.229-0.5-0.5v-27c0-0.271 0.229-0.5 0.5-0.5 0 0 15.499-0 15.5 0v7c0 0.552 0.448 1 1 1h7v19.5z\"></path>\n",
       "<path d=\"M23 26h-14c-0.552 0-1-0.448-1-1s0.448-1 1-1h14c0.552 0 1 0.448 1 1s-0.448 1-1 1z\"></path>\n",
       "<path d=\"M23 22h-14c-0.552 0-1-0.448-1-1s0.448-1 1-1h14c0.552 0 1 0.448 1 1s-0.448 1-1 1z\"></path>\n",
       "<path d=\"M23 18h-14c-0.552 0-1-0.448-1-1s0.448-1 1-1h14c0.552 0 1 0.448 1 1s-0.448 1-1 1z\"></path>\n",
       "</symbol>\n",
       "</defs>\n",
       "</svg>\n",
       "<style>/* CSS stylesheet for displaying xarray objects in jupyterlab.\n",
       " *\n",
       " */\n",
       "\n",
       ":root {\n",
       "  --xr-font-color0: var(--jp-content-font-color0, rgba(0, 0, 0, 1));\n",
       "  --xr-font-color2: var(--jp-content-font-color2, rgba(0, 0, 0, 0.54));\n",
       "  --xr-font-color3: var(--jp-content-font-color3, rgba(0, 0, 0, 0.38));\n",
       "  --xr-border-color: var(--jp-border-color2, #e0e0e0);\n",
       "  --xr-disabled-color: var(--jp-layout-color3, #bdbdbd);\n",
       "  --xr-background-color: var(--jp-layout-color0, white);\n",
       "  --xr-background-color-row-even: var(--jp-layout-color1, white);\n",
       "  --xr-background-color-row-odd: var(--jp-layout-color2, #eeeeee);\n",
       "}\n",
       "\n",
       "html[theme=dark],\n",
       "html[data-theme=dark],\n",
       "body[data-theme=dark],\n",
       "body.vscode-dark {\n",
       "  --xr-font-color0: rgba(255, 255, 255, 1);\n",
       "  --xr-font-color2: rgba(255, 255, 255, 0.54);\n",
       "  --xr-font-color3: rgba(255, 255, 255, 0.38);\n",
       "  --xr-border-color: #1F1F1F;\n",
       "  --xr-disabled-color: #515151;\n",
       "  --xr-background-color: #111111;\n",
       "  --xr-background-color-row-even: #111111;\n",
       "  --xr-background-color-row-odd: #313131;\n",
       "}\n",
       "\n",
       ".xr-wrap {\n",
       "  display: block !important;\n",
       "  min-width: 300px;\n",
       "  max-width: 700px;\n",
       "}\n",
       "\n",
       ".xr-text-repr-fallback {\n",
       "  /* fallback to plain text repr when CSS is not injected (untrusted notebook) */\n",
       "  display: none;\n",
       "}\n",
       "\n",
       ".xr-header {\n",
       "  padding-top: 6px;\n",
       "  padding-bottom: 6px;\n",
       "  margin-bottom: 4px;\n",
       "  border-bottom: solid 1px var(--xr-border-color);\n",
       "}\n",
       "\n",
       ".xr-header > div,\n",
       ".xr-header > ul {\n",
       "  display: inline;\n",
       "  margin-top: 0;\n",
       "  margin-bottom: 0;\n",
       "}\n",
       "\n",
       ".xr-obj-type,\n",
       ".xr-array-name {\n",
       "  margin-left: 2px;\n",
       "  margin-right: 10px;\n",
       "}\n",
       "\n",
       ".xr-obj-type {\n",
       "  color: var(--xr-font-color2);\n",
       "}\n",
       "\n",
       ".xr-sections {\n",
       "  padding-left: 0 !important;\n",
       "  display: grid;\n",
       "  grid-template-columns: 150px auto auto 1fr 0 20px 0 20px;\n",
       "}\n",
       "\n",
       ".xr-section-item {\n",
       "  display: contents;\n",
       "}\n",
       "\n",
       ".xr-section-item input {\n",
       "  display: inline-block;\n",
       "  opacity: 0;\n",
       "}\n",
       "\n",
       ".xr-section-item input + label {\n",
       "  color: var(--xr-disabled-color);\n",
       "}\n",
       "\n",
       ".xr-section-item input:enabled + label {\n",
       "  cursor: pointer;\n",
       "  color: var(--xr-font-color2);\n",
       "}\n",
       "\n",
       ".xr-section-item input:focus + label {\n",
       "  border: 2px solid var(--xr-font-color0);\n",
       "}\n",
       "\n",
       ".xr-section-item input:enabled + label:hover {\n",
       "  color: var(--xr-font-color0);\n",
       "}\n",
       "\n",
       ".xr-section-summary {\n",
       "  grid-column: 1;\n",
       "  color: var(--xr-font-color2);\n",
       "  font-weight: 500;\n",
       "}\n",
       "\n",
       ".xr-section-summary > span {\n",
       "  display: inline-block;\n",
       "  padding-left: 0.5em;\n",
       "}\n",
       "\n",
       ".xr-section-summary-in:disabled + label {\n",
       "  color: var(--xr-font-color2);\n",
       "}\n",
       "\n",
       ".xr-section-summary-in + label:before {\n",
       "  display: inline-block;\n",
       "  content: '►';\n",
       "  font-size: 11px;\n",
       "  width: 15px;\n",
       "  text-align: center;\n",
       "}\n",
       "\n",
       ".xr-section-summary-in:disabled + label:before {\n",
       "  color: var(--xr-disabled-color);\n",
       "}\n",
       "\n",
       ".xr-section-summary-in:checked + label:before {\n",
       "  content: '▼';\n",
       "}\n",
       "\n",
       ".xr-section-summary-in:checked + label > span {\n",
       "  display: none;\n",
       "}\n",
       "\n",
       ".xr-section-summary,\n",
       ".xr-section-inline-details {\n",
       "  padding-top: 4px;\n",
       "  padding-bottom: 4px;\n",
       "}\n",
       "\n",
       ".xr-section-inline-details {\n",
       "  grid-column: 2 / -1;\n",
       "}\n",
       "\n",
       ".xr-section-details {\n",
       "  display: none;\n",
       "  grid-column: 1 / -1;\n",
       "  margin-bottom: 5px;\n",
       "}\n",
       "\n",
       ".xr-section-summary-in:checked ~ .xr-section-details {\n",
       "  display: contents;\n",
       "}\n",
       "\n",
       ".xr-array-wrap {\n",
       "  grid-column: 1 / -1;\n",
       "  display: grid;\n",
       "  grid-template-columns: 20px auto;\n",
       "}\n",
       "\n",
       ".xr-array-wrap > label {\n",
       "  grid-column: 1;\n",
       "  vertical-align: top;\n",
       "}\n",
       "\n",
       ".xr-preview {\n",
       "  color: var(--xr-font-color3);\n",
       "}\n",
       "\n",
       ".xr-array-preview,\n",
       ".xr-array-data {\n",
       "  padding: 0 5px !important;\n",
       "  grid-column: 2;\n",
       "}\n",
       "\n",
       ".xr-array-data,\n",
       ".xr-array-in:checked ~ .xr-array-preview {\n",
       "  display: none;\n",
       "}\n",
       "\n",
       ".xr-array-in:checked ~ .xr-array-data,\n",
       ".xr-array-preview {\n",
       "  display: inline-block;\n",
       "}\n",
       "\n",
       ".xr-dim-list {\n",
       "  display: inline-block !important;\n",
       "  list-style: none;\n",
       "  padding: 0 !important;\n",
       "  margin: 0;\n",
       "}\n",
       "\n",
       ".xr-dim-list li {\n",
       "  display: inline-block;\n",
       "  padding: 0;\n",
       "  margin: 0;\n",
       "}\n",
       "\n",
       ".xr-dim-list:before {\n",
       "  content: '(';\n",
       "}\n",
       "\n",
       ".xr-dim-list:after {\n",
       "  content: ')';\n",
       "}\n",
       "\n",
       ".xr-dim-list li:not(:last-child):after {\n",
       "  content: ',';\n",
       "  padding-right: 5px;\n",
       "}\n",
       "\n",
       ".xr-has-index {\n",
       "  font-weight: bold;\n",
       "}\n",
       "\n",
       ".xr-var-list,\n",
       ".xr-var-item {\n",
       "  display: contents;\n",
       "}\n",
       "\n",
       ".xr-var-item > div,\n",
       ".xr-var-item label,\n",
       ".xr-var-item > .xr-var-name span {\n",
       "  background-color: var(--xr-background-color-row-even);\n",
       "  margin-bottom: 0;\n",
       "}\n",
       "\n",
       ".xr-var-item > .xr-var-name:hover span {\n",
       "  padding-right: 5px;\n",
       "}\n",
       "\n",
       ".xr-var-list > li:nth-child(odd) > div,\n",
       ".xr-var-list > li:nth-child(odd) > label,\n",
       ".xr-var-list > li:nth-child(odd) > .xr-var-name span {\n",
       "  background-color: var(--xr-background-color-row-odd);\n",
       "}\n",
       "\n",
       ".xr-var-name {\n",
       "  grid-column: 1;\n",
       "}\n",
       "\n",
       ".xr-var-dims {\n",
       "  grid-column: 2;\n",
       "}\n",
       "\n",
       ".xr-var-dtype {\n",
       "  grid-column: 3;\n",
       "  text-align: right;\n",
       "  color: var(--xr-font-color2);\n",
       "}\n",
       "\n",
       ".xr-var-preview {\n",
       "  grid-column: 4;\n",
       "}\n",
       "\n",
       ".xr-index-preview {\n",
       "  grid-column: 2 / 5;\n",
       "  color: var(--xr-font-color2);\n",
       "}\n",
       "\n",
       ".xr-var-name,\n",
       ".xr-var-dims,\n",
       ".xr-var-dtype,\n",
       ".xr-preview,\n",
       ".xr-attrs dt {\n",
       "  white-space: nowrap;\n",
       "  overflow: hidden;\n",
       "  text-overflow: ellipsis;\n",
       "  padding-right: 10px;\n",
       "}\n",
       "\n",
       ".xr-var-name:hover,\n",
       ".xr-var-dims:hover,\n",
       ".xr-var-dtype:hover,\n",
       ".xr-attrs dt:hover {\n",
       "  overflow: visible;\n",
       "  width: auto;\n",
       "  z-index: 1;\n",
       "}\n",
       "\n",
       ".xr-var-attrs,\n",
       ".xr-var-data,\n",
       ".xr-index-data {\n",
       "  display: none;\n",
       "  background-color: var(--xr-background-color) !important;\n",
       "  padding-bottom: 5px !important;\n",
       "}\n",
       "\n",
       ".xr-var-attrs-in:checked ~ .xr-var-attrs,\n",
       ".xr-var-data-in:checked ~ .xr-var-data,\n",
       ".xr-index-data-in:checked ~ .xr-index-data {\n",
       "  display: block;\n",
       "}\n",
       "\n",
       ".xr-var-data > table {\n",
       "  float: right;\n",
       "}\n",
       "\n",
       ".xr-var-name span,\n",
       ".xr-var-data,\n",
       ".xr-index-name div,\n",
       ".xr-index-data,\n",
       ".xr-attrs {\n",
       "  padding-left: 25px !important;\n",
       "}\n",
       "\n",
       ".xr-attrs,\n",
       ".xr-var-attrs,\n",
       ".xr-var-data,\n",
       ".xr-index-data {\n",
       "  grid-column: 1 / -1;\n",
       "}\n",
       "\n",
       "dl.xr-attrs {\n",
       "  padding: 0;\n",
       "  margin: 0;\n",
       "  display: grid;\n",
       "  grid-template-columns: 125px auto;\n",
       "}\n",
       "\n",
       ".xr-attrs dt,\n",
       ".xr-attrs dd {\n",
       "  padding: 0;\n",
       "  margin: 0;\n",
       "  float: left;\n",
       "  padding-right: 10px;\n",
       "  width: auto;\n",
       "}\n",
       "\n",
       ".xr-attrs dt {\n",
       "  font-weight: normal;\n",
       "  grid-column: 1;\n",
       "}\n",
       "\n",
       ".xr-attrs dt:hover span {\n",
       "  display: inline-block;\n",
       "  background: var(--xr-background-color);\n",
       "  padding-right: 10px;\n",
       "}\n",
       "\n",
       ".xr-attrs dd {\n",
       "  grid-column: 2;\n",
       "  white-space: pre-wrap;\n",
       "  word-break: break-all;\n",
       "}\n",
       "\n",
       ".xr-icon-database,\n",
       ".xr-icon-file-text2,\n",
       ".xr-no-icon {\n",
       "  display: inline-block;\n",
       "  vertical-align: middle;\n",
       "  width: 1em;\n",
       "  height: 1.5em !important;\n",
       "  stroke-width: 0;\n",
       "  stroke: currentColor;\n",
       "  fill: currentColor;\n",
       "}\n",
       "</style><pre class='xr-text-repr-fallback'>&lt;xarray.Dataset&gt; Size: 2kB\n",
       "Dimensions:    (latitude: 1, longitude: 1, time: 65)\n",
       "Coordinates:\n",
       "  * latitude   (latitude) float64 8B 22.75\n",
       "  * longitude  (longitude) int64 8B -158\n",
       "  * time       (time) datetime64[ns] 520B 2005-02-02 2005-03-04 ... 2009-12-10\n",
       "    depth      int32 4B [m] 1\n",
       "Data variables:\n",
       "    day        (time, latitude, longitude) float64 520B [mg/m²] 129.6 ... 207.4\n",
       "    night      (time, latitude, longitude) float64 520B [mg/m²] 311.3 ... 306.5</pre><div class='xr-wrap' style='display:none'><div class='xr-header'><div class='xr-obj-type'>xarray.Dataset</div></div><ul class='xr-sections'><li class='xr-section-item'><input id='section-57889baa-bcb0-4eb4-a953-419f263dd097' class='xr-section-summary-in' type='checkbox' disabled ><label for='section-57889baa-bcb0-4eb4-a953-419f263dd097' class='xr-section-summary'  title='Expand/collapse section'>Dimensions:</label><div class='xr-section-inline-details'><ul class='xr-dim-list'><li><span class='xr-has-index'>latitude</span>: 1</li><li><span class='xr-has-index'>longitude</span>: 1</li><li><span class='xr-has-index'>time</span>: 65</li></ul></div><div class='xr-section-details'></div></li><li class='xr-section-item'><input id='section-34c4976f-c59a-41da-9128-3e1245453fee' class='xr-section-summary-in' type='checkbox'  checked><label for='section-34c4976f-c59a-41da-9128-3e1245453fee' class='xr-section-summary' >Coordinates: <span>(4)</span></label><div class='xr-section-inline-details'></div><div class='xr-section-details'><ul class='xr-var-list'><li class='xr-var-item'><div class='xr-var-name'><span class='xr-has-index'>latitude</span></div><div class='xr-var-dims'>(latitude)</div><div class='xr-var-dtype'>float64</div><div class='xr-var-preview xr-preview'>22.75</div><input id='attrs-197c3097-fff3-4ba5-98ae-97c66dcc2932' class='xr-var-attrs-in' type='checkbox' ><label for='attrs-197c3097-fff3-4ba5-98ae-97c66dcc2932' title='Show/Hide attributes'><svg class='icon xr-icon-file-text2'><use xlink:href='#icon-file-text2'></use></svg></label><input id='data-29bc456c-3aba-4a4d-96cd-284a87fb69a6' class='xr-var-data-in' type='checkbox'><label for='data-29bc456c-3aba-4a4d-96cd-284a87fb69a6' title='Show/Hide data repr'><svg class='icon xr-icon-database'><use xlink:href='#icon-database'></use></svg></label><div class='xr-var-attrs'><dl class='xr-attrs'><dt><span>axis :</span></dt><dd>Y</dd><dt><span>long_name :</span></dt><dd>Latitude</dd><dt><span>standard_name :</span></dt><dd>latitude</dd><dt><span>units :</span></dt><dd>degrees_north</dd></dl></div><div class='xr-var-data'><pre>array([22.75])</pre></div></li><li class='xr-var-item'><div class='xr-var-name'><span class='xr-has-index'>longitude</span></div><div class='xr-var-dims'>(longitude)</div><div class='xr-var-dtype'>int64</div><div class='xr-var-preview xr-preview'>-158</div><input id='attrs-8fa412b1-82b4-4d2c-8f28-f3b159c10095' class='xr-var-attrs-in' type='checkbox' ><label for='attrs-8fa412b1-82b4-4d2c-8f28-f3b159c10095' title='Show/Hide attributes'><svg class='icon xr-icon-file-text2'><use xlink:href='#icon-file-text2'></use></svg></label><input id='data-964ac40d-040d-4428-8bf1-2b6e8f791da8' class='xr-var-data-in' type='checkbox'><label for='data-964ac40d-040d-4428-8bf1-2b6e8f791da8' title='Show/Hide data repr'><svg class='icon xr-icon-database'><use xlink:href='#icon-database'></use></svg></label><div class='xr-var-attrs'><dl class='xr-attrs'><dt><span>axis :</span></dt><dd>X</dd><dt><span>long_name :</span></dt><dd>Longitude</dd><dt><span>standard_name :</span></dt><dd>longitude</dd><dt><span>units :</span></dt><dd>degrees_east</dd></dl></div><div class='xr-var-data'><pre>array([-158])</pre></div></li><li class='xr-var-item'><div class='xr-var-name'><span class='xr-has-index'>time</span></div><div class='xr-var-dims'>(time)</div><div class='xr-var-dtype'>datetime64[ns]</div><div class='xr-var-preview xr-preview'>2005-02-02 ... 2009-12-10</div><input id='attrs-d1ba14fe-a556-42b0-8deb-59984abc94da' class='xr-var-attrs-in' type='checkbox' ><label for='attrs-d1ba14fe-a556-42b0-8deb-59984abc94da' title='Show/Hide attributes'><svg class='icon xr-icon-file-text2'><use xlink:href='#icon-file-text2'></use></svg></label><input id='data-279e95d4-96f0-4776-b4ca-c73de64b2b81' class='xr-var-data-in' type='checkbox'><label for='data-279e95d4-96f0-4776-b4ca-c73de64b2b81' title='Show/Hide data repr'><svg class='icon xr-icon-database'><use xlink:href='#icon-database'></use></svg></label><div class='xr-var-attrs'><dl class='xr-attrs'><dt><span>axis :</span></dt><dd>T</dd><dt><span>long_name :</span></dt><dd>time</dd><dt><span>standard_name :</span></dt><dd>time</dd></dl></div><div class='xr-var-data'><pre>array([&#x27;2005-02-02T00:00:00.000000000&#x27;, &#x27;2005-03-04T00:00:00.000000000&#x27;,\n",
       "       &#x27;2005-03-05T00:00:00.000000000&#x27;, &#x27;2005-06-14T00:00:00.000000000&#x27;,\n",
       "       &#x27;2005-07-16T00:00:00.000000000&#x27;, &#x27;2005-07-17T00:00:00.000000000&#x27;,\n",
       "       &#x27;2005-08-13T00:00:00.000000000&#x27;, &#x27;2005-08-14T00:00:00.000000000&#x27;,\n",
       "       &#x27;2005-10-10T00:00:00.000000000&#x27;, &#x27;2005-11-12T00:00:00.000000000&#x27;,\n",
       "       &#x27;2005-11-13T00:00:00.000000000&#x27;, &#x27;2005-12-13T00:00:00.000000000&#x27;,\n",
       "       &#x27;2005-12-14T00:00:00.000000000&#x27;, &#x27;2006-02-15T00:00:00.000000000&#x27;,\n",
       "       &#x27;2006-02-16T00:00:00.000000000&#x27;, &#x27;2006-03-10T00:00:00.000000000&#x27;,\n",
       "       &#x27;2006-03-11T00:00:00.000000000&#x27;, &#x27;2006-04-02T00:00:00.000000000&#x27;,\n",
       "       &#x27;2006-04-03T00:00:00.000000000&#x27;, &#x27;2006-06-14T00:00:00.000000000&#x27;,\n",
       "       &#x27;2006-06-15T00:00:00.000000000&#x27;, &#x27;2006-09-16T00:00:00.000000000&#x27;,\n",
       "       &#x27;2006-09-17T00:00:00.000000000&#x27;, &#x27;2006-10-21T00:00:00.000000000&#x27;,\n",
       "       &#x27;2006-10-22T00:00:00.000000000&#x27;, &#x27;2006-11-09T00:00:00.000000000&#x27;,\n",
       "       &#x27;2006-11-10T00:00:00.000000000&#x27;, &#x27;2006-12-10T00:00:00.000000000&#x27;,\n",
       "       &#x27;2006-12-11T00:00:00.000000000&#x27;, &#x27;2007-02-07T00:00:00.000000000&#x27;,\n",
       "       &#x27;2007-03-21T00:00:00.000000000&#x27;, &#x27;2007-03-22T00:00:00.000000000&#x27;,\n",
       "       &#x27;2007-05-06T00:00:00.000000000&#x27;, &#x27;2007-06-10T00:00:00.000000000&#x27;,\n",
       "       &#x27;2007-06-11T00:00:00.000000000&#x27;, &#x27;2007-07-08T00:00:00.000000000&#x27;,\n",
       "       &#x27;2007-07-09T00:00:00.000000000&#x27;, &#x27;2007-09-03T00:00:00.000000000&#x27;,\n",
       "       &#x27;2007-10-03T00:00:00.000000000&#x27;, &#x27;2007-10-04T00:00:00.000000000&#x27;,\n",
       "       &#x27;2007-12-02T00:00:00.000000000&#x27;, &#x27;2007-12-03T00:00:00.000000000&#x27;,\n",
       "       &#x27;2007-12-22T00:00:00.000000000&#x27;, &#x27;2008-01-30T00:00:00.000000000&#x27;,\n",
       "       &#x27;2008-01-31T00:00:00.000000000&#x27;, &#x27;2008-02-24T00:00:00.000000000&#x27;,\n",
       "       &#x27;2008-02-25T00:00:00.000000000&#x27;, &#x27;2008-05-28T00:00:00.000000000&#x27;,\n",
       "       &#x27;2008-06-26T00:00:00.000000000&#x27;, &#x27;2008-08-16T00:00:00.000000000&#x27;,\n",
       "       &#x27;2008-08-17T00:00:00.000000000&#x27;, &#x27;2008-10-10T00:00:00.000000000&#x27;,\n",
       "       &#x27;2008-11-30T00:00:00.000000000&#x27;, &#x27;2008-12-01T00:00:00.000000000&#x27;,\n",
       "       &#x27;2009-01-21T00:00:00.000000000&#x27;, &#x27;2009-02-18T00:00:00.000000000&#x27;,\n",
       "       &#x27;2009-04-28T00:00:00.000000000&#x27;, &#x27;2009-04-29T00:00:00.000000000&#x27;,\n",
       "       &#x27;2009-05-27T00:00:00.000000000&#x27;, &#x27;2009-07-03T00:00:00.000000000&#x27;,\n",
       "       &#x27;2009-07-04T00:00:00.000000000&#x27;, &#x27;2009-09-24T00:00:00.000000000&#x27;,\n",
       "       &#x27;2009-09-25T00:00:00.000000000&#x27;, &#x27;2009-11-03T00:00:00.000000000&#x27;,\n",
       "       &#x27;2009-12-10T00:00:00.000000000&#x27;], dtype=&#x27;datetime64[ns]&#x27;)</pre></div></li><li class='xr-var-item'><div class='xr-var-name'><span>depth</span></div><div class='xr-var-dims'>()</div><div class='xr-var-dtype'>int32</div><div class='xr-var-preview xr-preview'>[m] 1</div><input id='attrs-1f9b2937-7474-4d5e-9b58-f427688bc12e' class='xr-var-attrs-in' type='checkbox' ><label for='attrs-1f9b2937-7474-4d5e-9b58-f427688bc12e' title='Show/Hide attributes'><svg class='icon xr-icon-file-text2'><use xlink:href='#icon-file-text2'></use></svg></label><input id='data-68564008-3772-4c3d-b62c-feaef2d03e90' class='xr-var-data-in' type='checkbox'><label for='data-68564008-3772-4c3d-b62c-feaef2d03e90' title='Show/Hide data repr'><svg class='icon xr-icon-database'><use xlink:href='#icon-database'></use></svg></label><div class='xr-var-attrs'><dl class='xr-attrs'><dt><span>axis :</span></dt><dd>Z</dd><dt><span>comment :</span></dt><dd>In fact units are pelagic layer number; 1: epipelagic layer; 2: upper mesopelagic layer; 3: lower mesopelagic layer</dd><dt><span>long_name :</span></dt><dd>Depth</dd><dt><span>positive :</span></dt><dd>down</dd><dt><span>standard_name :</span></dt><dd>depth</dd><dt><span>valid_max :</span></dt><dd>3</dd><dt><span>valid_min :</span></dt><dd>1</dd></dl></div><div class='xr-var-data'>1 meter</div></li></ul></div></li><li class='xr-section-item'><input id='section-76ea8e45-3f3b-4b38-bc93-229966e2602e' class='xr-section-summary-in' type='checkbox'  checked><label for='section-76ea8e45-3f3b-4b38-bc93-229966e2602e' class='xr-section-summary' >Data variables: <span>(2)</span></label><div class='xr-section-inline-details'></div><div class='xr-section-details'><ul class='xr-var-list'><li class='xr-var-item'><div class='xr-var-name'><span>day</span></div><div class='xr-var-dims'>(time, latitude, longitude)</div><div class='xr-var-dtype'>float64</div><div class='xr-var-preview xr-preview'>[mg/m²] 129.6 241.9 ... 115.0 207.4</div><input id='attrs-feb30761-5ec3-4263-911b-c65808449289' class='xr-var-attrs-in' type='checkbox' disabled><label for='attrs-feb30761-5ec3-4263-911b-c65808449289' title='Show/Hide attributes'><svg class='icon xr-icon-file-text2'><use xlink:href='#icon-file-text2'></use></svg></label><input id='data-45a627f0-a19a-483b-9027-cb529755680b' class='xr-var-data-in' type='checkbox'><label for='data-45a627f0-a19a-483b-9027-cb529755680b' title='Show/Hide data repr'><svg class='icon xr-icon-database'><use xlink:href='#icon-database'></use></svg></label><div class='xr-var-attrs'><dl class='xr-attrs'></dl></div><div class='xr-var-data'><table><tbody><tr><th>Magnitude</th><td style='text-align:left;'><pre>[[[129.624124474013]]<br><br> [[241.93912806845856]]<br><br> [[226.4960632098172]]<br><br> [[297.7116895188337]]<br><br> [[338.10901738134515]]<br><br> [[348.6248255036425]]<br><br> [[414.2199940088843]]<br><br> [[380.37086391164485]]<br><br> [[310.5844692895031]]<br><br> [[299.64035438433183]]<br><br> [[286.7338147014619]]<br><br> [[203.04283259024132]]<br><br> [[182.27868296008955]]<br><br> [[213.14200694941857]]<br><br> [[158.1633054229976]]<br><br> [[213.21478493739153]]<br><br> [[192.8805223977997]]<br><br> [[178.96047339629928]]<br><br> [[192.29199430168433]]<br><br> [[279.341758362888]]<br><br> [[245.8340920483508]]<br><br> [[251.68963730272566]]<br><br> [[321.77588792557833]]<br><br> [[240.68806574931386]]<br><br> [[285.68678868013814]]<br><br> [[135.38561638406426]]<br><br> [[184.0791071674682]]<br><br> [[113.49811670701962]]<br><br> [[114.75327932400755]]<br><br> [[291.83731297878796]]<br><br> [[208.07113482962268]]<br><br> [[265.3864787821936]]<br><br> [[300.52656630464907]]<br><br> [[405.7243406522982]]<br><br> [[317.437928615958]]<br><br> [[289.4888608049262]]<br><br> [[369.7009236495846]]<br><br> [[402.3824665716384]]<br><br> [[187.91756076923684]]<br><br> [[276.5028321769823]]<br><br> [[168.86156637289895]]<br><br> [[165.31017474498015]]<br><br> [[209.021745626726]]<br><br> [[153.79359005996832]]<br><br> [[105.69203587027293]]<br><br> [[121.46032390538892]]<br><br> [[136.6561121046876]]<br><br> [[277.113584643072]]<br><br> [[401.3576621076453]]<br><br> [[290.01453460629585]]<br><br> [[295.5566502127765]]<br><br> [[250.23021705519125]]<br><br> [[157.99128605673212]]<br><br> [[222.3851930127426]]<br><br> [[49.595093611476976]]<br><br> [[179.4046853090318]]<br><br> [[203.90304797442036]]<br><br> [[146.13778364770621]]<br><br> [[416.7657754282638]]<br><br> [[145.61374980536934]]<br><br> [[148.209151396033]]<br><br> [[377.87205094597675]]<br><br> [[188.77463104603348]]<br><br> [[115.03212367065039]]<br><br> [[207.35448516110506]]]</pre></td></tr><tr><th>Units</th><td style='text-align:left;'>milligram/meter<sup>2</sup></td></tr></tbody></table></div></li><li class='xr-var-item'><div class='xr-var-name'><span>night</span></div><div class='xr-var-dims'>(time, latitude, longitude)</div><div class='xr-var-dtype'>float64</div><div class='xr-var-preview xr-preview'>[mg/m²] 311.3 411.0 ... 293.7 306.5</div><input id='attrs-7bbe343f-4d55-4aef-ad25-fcd36ea27e31' class='xr-var-attrs-in' type='checkbox' disabled><label for='attrs-7bbe343f-4d55-4aef-ad25-fcd36ea27e31' title='Show/Hide attributes'><svg class='icon xr-icon-file-text2'><use xlink:href='#icon-file-text2'></use></svg></label><input id='data-92bcbd5e-fb24-4fcb-81ef-de4c3d9962c5' class='xr-var-data-in' type='checkbox'><label for='data-92bcbd5e-fb24-4fcb-81ef-de4c3d9962c5' title='Show/Hide data repr'><svg class='icon xr-icon-database'><use xlink:href='#icon-database'></use></svg></label><div class='xr-var-attrs'><dl class='xr-attrs'></dl></div><div class='xr-var-data'><table><tbody><tr><th>Magnitude</th><td style='text-align:left;'><pre>[[[311.2660641986779]]<br><br> [[411.0465469177428]]<br><br> [[434.4442826406097]]<br><br> [[410.12685721497905]]<br><br> [[425.969857918879]]<br><br> [[450.2932240940246]]<br><br> [[549.8204464876706]]<br><br> [[601.5568938930917]]<br><br> [[320.16900103833416]]<br><br> [[442.9938781133052]]<br><br> [[355.6783077471378]]<br><br> [[300.9947590532565]]<br><br> [[283.665855265022]]<br><br> [[276.6976409751494]]<br><br> [[298.17196146319014]]<br><br> [[402.4179394274634]]<br><br> [[319.8110504338187]]<br><br> [[456.9291907727033]]<br><br> [[346.7687266361042]]<br><br> [[437.89634144384564]]<br><br> [[418.5974651406048]]<br><br> [[295.20449684095246]]<br><br> [[388.19539164228]]<br><br> [[303.20758684739826]]<br><br> [[435.4124422001408]]<br><br> [[362.611715698856]]<br><br> [[325.90520426073266]]<br><br> [[237.6615767104738]]<br><br> [[197.9773516303826]]<br><br> [[410.8534136867511]]<br><br> [[497.50541105618447]]<br><br> [[341.6488989882613]]<br><br> [[547.9308357905682]]<br><br> [[524.7426895856528]]<br><br> [[504.88481647486975]]<br><br> [[495.0607636154389]]<br><br> [[573.5466988809753]]<br><br> [[684.5289060294123]]<br><br> [[441.30222100189826]]<br><br> [[389.5605869919743]]<br><br> [[295.2949918603756]]<br><br> [[298.6134917508577]]<br><br> [[250.80352614874343]]<br><br> [[192.58467350718692]]<br><br> [[236.84056030538966]]<br><br> [[230.71882779833012]]<br><br> [[296.7859270243095]]<br><br> [[409.62286737762616]]<br><br> [[494.6507934657993]]<br><br> [[410.0118698216234]]<br><br> [[324.2049046254114]]<br><br> [[331.8167208270913]]<br><br> [[479.1847605422972]]<br><br> [[470.81495020759496]]<br><br> [[147.9058251957733]]<br><br> [[222.62600796122507]]<br><br> [[253.23644167716574]]<br><br> [[265.4001639994968]]<br><br> [[591.1972202501328]]<br><br> [[294.84398967274774]]<br><br> [[541.8992206865995]]<br><br> [[443.7821789140124]]<br><br> [[269.0953953843323]]<br><br> [[293.67534101178416]]<br><br> [[306.4898277443372]]]</pre></td></tr><tr><th>Units</th><td style='text-align:left;'>milligram/meter<sup>2</sup></td></tr></tbody></table></div></li></ul></div></li><li class='xr-section-item'><input id='section-11c9d94d-6e7a-4140-8824-7207534a535e' class='xr-section-summary-in' type='checkbox'  ><label for='section-11c9d94d-6e7a-4140-8824-7207534a535e' class='xr-section-summary' >Indexes: <span>(3)</span></label><div class='xr-section-inline-details'></div><div class='xr-section-details'><ul class='xr-var-list'><li class='xr-var-item'><div class='xr-index-name'><div>latitude</div></div><div class='xr-index-preview'>PandasIndex</div><div></div><input id='index-8f65aae8-f343-488a-8751-ef3544779057' class='xr-index-data-in' type='checkbox'/><label for='index-8f65aae8-f343-488a-8751-ef3544779057' title='Show/Hide index repr'><svg class='icon xr-icon-database'><use xlink:href='#icon-database'></use></svg></label><div class='xr-index-data'><pre>PandasIndex(Index([22.75], dtype=&#x27;float64&#x27;, name=&#x27;latitude&#x27;))</pre></div></li><li class='xr-var-item'><div class='xr-index-name'><div>longitude</div></div><div class='xr-index-preview'>PandasIndex</div><div></div><input id='index-fd123b9b-eb36-4eba-8c18-3001d5c6c721' class='xr-index-data-in' type='checkbox'/><label for='index-fd123b9b-eb36-4eba-8c18-3001d5c6c721' title='Show/Hide index repr'><svg class='icon xr-icon-database'><use xlink:href='#icon-database'></use></svg></label><div class='xr-index-data'><pre>PandasIndex(Index([-158], dtype=&#x27;int64&#x27;, name=&#x27;longitude&#x27;))</pre></div></li><li class='xr-var-item'><div class='xr-index-name'><div>time</div></div><div class='xr-index-preview'>PandasIndex</div><div></div><input id='index-341b9e58-45fe-4339-a152-6da7808fee90' class='xr-index-data-in' type='checkbox'/><label for='index-341b9e58-45fe-4339-a152-6da7808fee90' title='Show/Hide index repr'><svg class='icon xr-icon-database'><use xlink:href='#icon-database'></use></svg></label><div class='xr-index-data'><pre>PandasIndex(DatetimeIndex([&#x27;2005-02-02&#x27;, &#x27;2005-03-04&#x27;, &#x27;2005-03-05&#x27;, &#x27;2005-06-14&#x27;,\n",
       "               &#x27;2005-07-16&#x27;, &#x27;2005-07-17&#x27;, &#x27;2005-08-13&#x27;, &#x27;2005-08-14&#x27;,\n",
       "               &#x27;2005-10-10&#x27;, &#x27;2005-11-12&#x27;, &#x27;2005-11-13&#x27;, &#x27;2005-12-13&#x27;,\n",
       "               &#x27;2005-12-14&#x27;, &#x27;2006-02-15&#x27;, &#x27;2006-02-16&#x27;, &#x27;2006-03-10&#x27;,\n",
       "               &#x27;2006-03-11&#x27;, &#x27;2006-04-02&#x27;, &#x27;2006-04-03&#x27;, &#x27;2006-06-14&#x27;,\n",
       "               &#x27;2006-06-15&#x27;, &#x27;2006-09-16&#x27;, &#x27;2006-09-17&#x27;, &#x27;2006-10-21&#x27;,\n",
       "               &#x27;2006-10-22&#x27;, &#x27;2006-11-09&#x27;, &#x27;2006-11-10&#x27;, &#x27;2006-12-10&#x27;,\n",
       "               &#x27;2006-12-11&#x27;, &#x27;2007-02-07&#x27;, &#x27;2007-03-21&#x27;, &#x27;2007-03-22&#x27;,\n",
       "               &#x27;2007-05-06&#x27;, &#x27;2007-06-10&#x27;, &#x27;2007-06-11&#x27;, &#x27;2007-07-08&#x27;,\n",
       "               &#x27;2007-07-09&#x27;, &#x27;2007-09-03&#x27;, &#x27;2007-10-03&#x27;, &#x27;2007-10-04&#x27;,\n",
       "               &#x27;2007-12-02&#x27;, &#x27;2007-12-03&#x27;, &#x27;2007-12-22&#x27;, &#x27;2008-01-30&#x27;,\n",
       "               &#x27;2008-01-31&#x27;, &#x27;2008-02-24&#x27;, &#x27;2008-02-25&#x27;, &#x27;2008-05-28&#x27;,\n",
       "               &#x27;2008-06-26&#x27;, &#x27;2008-08-16&#x27;, &#x27;2008-08-17&#x27;, &#x27;2008-10-10&#x27;,\n",
       "               &#x27;2008-11-30&#x27;, &#x27;2008-12-01&#x27;, &#x27;2009-01-21&#x27;, &#x27;2009-02-18&#x27;,\n",
       "               &#x27;2009-04-28&#x27;, &#x27;2009-04-29&#x27;, &#x27;2009-05-27&#x27;, &#x27;2009-07-03&#x27;,\n",
       "               &#x27;2009-07-04&#x27;, &#x27;2009-09-24&#x27;, &#x27;2009-09-25&#x27;, &#x27;2009-11-03&#x27;,\n",
       "               &#x27;2009-12-10&#x27;],\n",
       "              dtype=&#x27;datetime64[ns]&#x27;, name=&#x27;time&#x27;, freq=None))</pre></div></li></ul></div></li><li class='xr-section-item'><input id='section-f59a4cb2-99db-4fb2-87ce-ef38207c0ba5' class='xr-section-summary-in' type='checkbox' disabled ><label for='section-f59a4cb2-99db-4fb2-87ce-ef38207c0ba5' class='xr-section-summary'  title='Expand/collapse section'>Attributes: <span>(0)</span></label><div class='xr-section-inline-details'></div><div class='xr-section-details'><dl class='xr-attrs'></dl></div></li></ul></div></div>"
      ],
      "text/plain": [
       "<xarray.Dataset> Size: 2kB\n",
       "Dimensions:    (latitude: 1, longitude: 1, time: 65)\n",
       "Coordinates:\n",
       "  * latitude   (latitude) float64 8B 22.75\n",
       "  * longitude  (longitude) int64 8B -158\n",
       "  * time       (time) datetime64[ns] 520B 2005-02-02 2005-03-04 ... 2009-12-10\n",
       "    depth      int32 4B [m] 1\n",
       "Data variables:\n",
       "    day        (time, latitude, longitude) float64 520B [mg/m²] 129.6 ... 207.4\n",
       "    night      (time, latitude, longitude) float64 520B [mg/m²] 311.3 ... 306.5"
      ]
     },
     "execution_count": 22,
     "metadata": {},
     "output_type": "execute_result"
    }
   ],
   "source": [
    "observations = xr.open_zarr(path_to_obs).load()\n",
    "observations = observations.sel(latitude=[LATITUDE], longitude=[LONGITUDE], layer=0, method=\"nearest\")\n",
    "observations = observations.resample(time=\"1D\").mean().dropna(\"time\")\n",
    "observations = observations.pint.quantify().pint.to(\"mg/m^3\")\n",
    "observations = observations * epi_layer_depth\n",
    "observations = observations.drop_vars(\"layer\")\n",
    "observations"
   ]
  },
  {
   "cell_type": "markdown",
   "metadata": {},
   "source": [
    "Create structure for SeapoPym simulation.\n"
   ]
  },
  {
   "cell_type": "code",
   "execution_count": 24,
   "metadata": {},
   "outputs": [
    {
     "name": "stderr",
     "output_type": "stream",
     "text": [
      "\u001b[38;5;226m2025-01-14 17:43:10,993 :: Seapodym ::  WARNING ::\n",
      "|\tCAFE unit is milligram / day / meter ** 2, it will be converted to kilogram / day / meter ** 2.\n",
      "\u001b[0m\n"
     ]
    }
   ],
   "source": [
    "forcing_parameters = ForcingParameters(\n",
    "    temperature=ForcingUnit(forcing=data[\"T\"], resolution=1 / 12, timestep=1),\n",
    "    primary_production=ForcingUnit(forcing=cafe_npp[\"CAFE\"], resolution=1 / 12, timestep=1),\n",
    ")"
   ]
  },
  {
   "cell_type": "code",
   "execution_count": 25,
   "metadata": {},
   "outputs": [],
   "source": [
    "parameterization = [\n",
    "    [1, 1, 0.1668, 10.38, -0.11, 150, 0.15],\n",
    "]"
   ]
  },
  {
   "cell_type": "markdown",
   "metadata": {},
   "source": [
    "## Run simulation\n"
   ]
  },
  {
   "cell_type": "code",
   "execution_count": 26,
   "metadata": {},
   "outputs": [],
   "source": [
    "model_print = wrapper.model_generator_no_transport(\n",
    "    forcing_parameters=forcing_parameters,\n",
    "    fg_parameters=wrapper.FunctionalGroupGeneratorNoTransport(parameters=parameterization, groups_name=[\"D1N1\"]),\n",
    ")\n",
    "\n",
    "model_print.run()"
   ]
  },
  {
   "cell_type": "code",
   "execution_count": 27,
   "metadata": {},
   "outputs": [
    {
     "data": {
      "text/html": [
       "<div><svg style=\"position: absolute; width: 0; height: 0; overflow: hidden\">\n",
       "<defs>\n",
       "<symbol id=\"icon-database\" viewBox=\"0 0 32 32\">\n",
       "<path d=\"M16 0c-8.837 0-16 2.239-16 5v4c0 2.761 7.163 5 16 5s16-2.239 16-5v-4c0-2.761-7.163-5-16-5z\"></path>\n",
       "<path d=\"M16 17c-8.837 0-16-2.239-16-5v6c0 2.761 7.163 5 16 5s16-2.239 16-5v-6c0 2.761-7.163 5-16 5z\"></path>\n",
       "<path d=\"M16 26c-8.837 0-16-2.239-16-5v6c0 2.761 7.163 5 16 5s16-2.239 16-5v-6c0 2.761-7.163 5-16 5z\"></path>\n",
       "</symbol>\n",
       "<symbol id=\"icon-file-text2\" viewBox=\"0 0 32 32\">\n",
       "<path d=\"M28.681 7.159c-0.694-0.947-1.662-2.053-2.724-3.116s-2.169-2.030-3.116-2.724c-1.612-1.182-2.393-1.319-2.841-1.319h-15.5c-1.378 0-2.5 1.121-2.5 2.5v27c0 1.378 1.122 2.5 2.5 2.5h23c1.378 0 2.5-1.122 2.5-2.5v-19.5c0-0.448-0.137-1.23-1.319-2.841zM24.543 5.457c0.959 0.959 1.712 1.825 2.268 2.543h-4.811v-4.811c0.718 0.556 1.584 1.309 2.543 2.268zM28 29.5c0 0.271-0.229 0.5-0.5 0.5h-23c-0.271 0-0.5-0.229-0.5-0.5v-27c0-0.271 0.229-0.5 0.5-0.5 0 0 15.499-0 15.5 0v7c0 0.552 0.448 1 1 1h7v19.5z\"></path>\n",
       "<path d=\"M23 26h-14c-0.552 0-1-0.448-1-1s0.448-1 1-1h14c0.552 0 1 0.448 1 1s-0.448 1-1 1z\"></path>\n",
       "<path d=\"M23 22h-14c-0.552 0-1-0.448-1-1s0.448-1 1-1h14c0.552 0 1 0.448 1 1s-0.448 1-1 1z\"></path>\n",
       "<path d=\"M23 18h-14c-0.552 0-1-0.448-1-1s0.448-1 1-1h14c0.552 0 1 0.448 1 1s-0.448 1-1 1z\"></path>\n",
       "</symbol>\n",
       "</defs>\n",
       "</svg>\n",
       "<style>/* CSS stylesheet for displaying xarray objects in jupyterlab.\n",
       " *\n",
       " */\n",
       "\n",
       ":root {\n",
       "  --xr-font-color0: var(--jp-content-font-color0, rgba(0, 0, 0, 1));\n",
       "  --xr-font-color2: var(--jp-content-font-color2, rgba(0, 0, 0, 0.54));\n",
       "  --xr-font-color3: var(--jp-content-font-color3, rgba(0, 0, 0, 0.38));\n",
       "  --xr-border-color: var(--jp-border-color2, #e0e0e0);\n",
       "  --xr-disabled-color: var(--jp-layout-color3, #bdbdbd);\n",
       "  --xr-background-color: var(--jp-layout-color0, white);\n",
       "  --xr-background-color-row-even: var(--jp-layout-color1, white);\n",
       "  --xr-background-color-row-odd: var(--jp-layout-color2, #eeeeee);\n",
       "}\n",
       "\n",
       "html[theme=dark],\n",
       "html[data-theme=dark],\n",
       "body[data-theme=dark],\n",
       "body.vscode-dark {\n",
       "  --xr-font-color0: rgba(255, 255, 255, 1);\n",
       "  --xr-font-color2: rgba(255, 255, 255, 0.54);\n",
       "  --xr-font-color3: rgba(255, 255, 255, 0.38);\n",
       "  --xr-border-color: #1F1F1F;\n",
       "  --xr-disabled-color: #515151;\n",
       "  --xr-background-color: #111111;\n",
       "  --xr-background-color-row-even: #111111;\n",
       "  --xr-background-color-row-odd: #313131;\n",
       "}\n",
       "\n",
       ".xr-wrap {\n",
       "  display: block !important;\n",
       "  min-width: 300px;\n",
       "  max-width: 700px;\n",
       "}\n",
       "\n",
       ".xr-text-repr-fallback {\n",
       "  /* fallback to plain text repr when CSS is not injected (untrusted notebook) */\n",
       "  display: none;\n",
       "}\n",
       "\n",
       ".xr-header {\n",
       "  padding-top: 6px;\n",
       "  padding-bottom: 6px;\n",
       "  margin-bottom: 4px;\n",
       "  border-bottom: solid 1px var(--xr-border-color);\n",
       "}\n",
       "\n",
       ".xr-header > div,\n",
       ".xr-header > ul {\n",
       "  display: inline;\n",
       "  margin-top: 0;\n",
       "  margin-bottom: 0;\n",
       "}\n",
       "\n",
       ".xr-obj-type,\n",
       ".xr-array-name {\n",
       "  margin-left: 2px;\n",
       "  margin-right: 10px;\n",
       "}\n",
       "\n",
       ".xr-obj-type {\n",
       "  color: var(--xr-font-color2);\n",
       "}\n",
       "\n",
       ".xr-sections {\n",
       "  padding-left: 0 !important;\n",
       "  display: grid;\n",
       "  grid-template-columns: 150px auto auto 1fr 0 20px 0 20px;\n",
       "}\n",
       "\n",
       ".xr-section-item {\n",
       "  display: contents;\n",
       "}\n",
       "\n",
       ".xr-section-item input {\n",
       "  display: inline-block;\n",
       "  opacity: 0;\n",
       "}\n",
       "\n",
       ".xr-section-item input + label {\n",
       "  color: var(--xr-disabled-color);\n",
       "}\n",
       "\n",
       ".xr-section-item input:enabled + label {\n",
       "  cursor: pointer;\n",
       "  color: var(--xr-font-color2);\n",
       "}\n",
       "\n",
       ".xr-section-item input:focus + label {\n",
       "  border: 2px solid var(--xr-font-color0);\n",
       "}\n",
       "\n",
       ".xr-section-item input:enabled + label:hover {\n",
       "  color: var(--xr-font-color0);\n",
       "}\n",
       "\n",
       ".xr-section-summary {\n",
       "  grid-column: 1;\n",
       "  color: var(--xr-font-color2);\n",
       "  font-weight: 500;\n",
       "}\n",
       "\n",
       ".xr-section-summary > span {\n",
       "  display: inline-block;\n",
       "  padding-left: 0.5em;\n",
       "}\n",
       "\n",
       ".xr-section-summary-in:disabled + label {\n",
       "  color: var(--xr-font-color2);\n",
       "}\n",
       "\n",
       ".xr-section-summary-in + label:before {\n",
       "  display: inline-block;\n",
       "  content: '►';\n",
       "  font-size: 11px;\n",
       "  width: 15px;\n",
       "  text-align: center;\n",
       "}\n",
       "\n",
       ".xr-section-summary-in:disabled + label:before {\n",
       "  color: var(--xr-disabled-color);\n",
       "}\n",
       "\n",
       ".xr-section-summary-in:checked + label:before {\n",
       "  content: '▼';\n",
       "}\n",
       "\n",
       ".xr-section-summary-in:checked + label > span {\n",
       "  display: none;\n",
       "}\n",
       "\n",
       ".xr-section-summary,\n",
       ".xr-section-inline-details {\n",
       "  padding-top: 4px;\n",
       "  padding-bottom: 4px;\n",
       "}\n",
       "\n",
       ".xr-section-inline-details {\n",
       "  grid-column: 2 / -1;\n",
       "}\n",
       "\n",
       ".xr-section-details {\n",
       "  display: none;\n",
       "  grid-column: 1 / -1;\n",
       "  margin-bottom: 5px;\n",
       "}\n",
       "\n",
       ".xr-section-summary-in:checked ~ .xr-section-details {\n",
       "  display: contents;\n",
       "}\n",
       "\n",
       ".xr-array-wrap {\n",
       "  grid-column: 1 / -1;\n",
       "  display: grid;\n",
       "  grid-template-columns: 20px auto;\n",
       "}\n",
       "\n",
       ".xr-array-wrap > label {\n",
       "  grid-column: 1;\n",
       "  vertical-align: top;\n",
       "}\n",
       "\n",
       ".xr-preview {\n",
       "  color: var(--xr-font-color3);\n",
       "}\n",
       "\n",
       ".xr-array-preview,\n",
       ".xr-array-data {\n",
       "  padding: 0 5px !important;\n",
       "  grid-column: 2;\n",
       "}\n",
       "\n",
       ".xr-array-data,\n",
       ".xr-array-in:checked ~ .xr-array-preview {\n",
       "  display: none;\n",
       "}\n",
       "\n",
       ".xr-array-in:checked ~ .xr-array-data,\n",
       ".xr-array-preview {\n",
       "  display: inline-block;\n",
       "}\n",
       "\n",
       ".xr-dim-list {\n",
       "  display: inline-block !important;\n",
       "  list-style: none;\n",
       "  padding: 0 !important;\n",
       "  margin: 0;\n",
       "}\n",
       "\n",
       ".xr-dim-list li {\n",
       "  display: inline-block;\n",
       "  padding: 0;\n",
       "  margin: 0;\n",
       "}\n",
       "\n",
       ".xr-dim-list:before {\n",
       "  content: '(';\n",
       "}\n",
       "\n",
       ".xr-dim-list:after {\n",
       "  content: ')';\n",
       "}\n",
       "\n",
       ".xr-dim-list li:not(:last-child):after {\n",
       "  content: ',';\n",
       "  padding-right: 5px;\n",
       "}\n",
       "\n",
       ".xr-has-index {\n",
       "  font-weight: bold;\n",
       "}\n",
       "\n",
       ".xr-var-list,\n",
       ".xr-var-item {\n",
       "  display: contents;\n",
       "}\n",
       "\n",
       ".xr-var-item > div,\n",
       ".xr-var-item label,\n",
       ".xr-var-item > .xr-var-name span {\n",
       "  background-color: var(--xr-background-color-row-even);\n",
       "  margin-bottom: 0;\n",
       "}\n",
       "\n",
       ".xr-var-item > .xr-var-name:hover span {\n",
       "  padding-right: 5px;\n",
       "}\n",
       "\n",
       ".xr-var-list > li:nth-child(odd) > div,\n",
       ".xr-var-list > li:nth-child(odd) > label,\n",
       ".xr-var-list > li:nth-child(odd) > .xr-var-name span {\n",
       "  background-color: var(--xr-background-color-row-odd);\n",
       "}\n",
       "\n",
       ".xr-var-name {\n",
       "  grid-column: 1;\n",
       "}\n",
       "\n",
       ".xr-var-dims {\n",
       "  grid-column: 2;\n",
       "}\n",
       "\n",
       ".xr-var-dtype {\n",
       "  grid-column: 3;\n",
       "  text-align: right;\n",
       "  color: var(--xr-font-color2);\n",
       "}\n",
       "\n",
       ".xr-var-preview {\n",
       "  grid-column: 4;\n",
       "}\n",
       "\n",
       ".xr-index-preview {\n",
       "  grid-column: 2 / 5;\n",
       "  color: var(--xr-font-color2);\n",
       "}\n",
       "\n",
       ".xr-var-name,\n",
       ".xr-var-dims,\n",
       ".xr-var-dtype,\n",
       ".xr-preview,\n",
       ".xr-attrs dt {\n",
       "  white-space: nowrap;\n",
       "  overflow: hidden;\n",
       "  text-overflow: ellipsis;\n",
       "  padding-right: 10px;\n",
       "}\n",
       "\n",
       ".xr-var-name:hover,\n",
       ".xr-var-dims:hover,\n",
       ".xr-var-dtype:hover,\n",
       ".xr-attrs dt:hover {\n",
       "  overflow: visible;\n",
       "  width: auto;\n",
       "  z-index: 1;\n",
       "}\n",
       "\n",
       ".xr-var-attrs,\n",
       ".xr-var-data,\n",
       ".xr-index-data {\n",
       "  display: none;\n",
       "  background-color: var(--xr-background-color) !important;\n",
       "  padding-bottom: 5px !important;\n",
       "}\n",
       "\n",
       ".xr-var-attrs-in:checked ~ .xr-var-attrs,\n",
       ".xr-var-data-in:checked ~ .xr-var-data,\n",
       ".xr-index-data-in:checked ~ .xr-index-data {\n",
       "  display: block;\n",
       "}\n",
       "\n",
       ".xr-var-data > table {\n",
       "  float: right;\n",
       "}\n",
       "\n",
       ".xr-var-name span,\n",
       ".xr-var-data,\n",
       ".xr-index-name div,\n",
       ".xr-index-data,\n",
       ".xr-attrs {\n",
       "  padding-left: 25px !important;\n",
       "}\n",
       "\n",
       ".xr-attrs,\n",
       ".xr-var-attrs,\n",
       ".xr-var-data,\n",
       ".xr-index-data {\n",
       "  grid-column: 1 / -1;\n",
       "}\n",
       "\n",
       "dl.xr-attrs {\n",
       "  padding: 0;\n",
       "  margin: 0;\n",
       "  display: grid;\n",
       "  grid-template-columns: 125px auto;\n",
       "}\n",
       "\n",
       ".xr-attrs dt,\n",
       ".xr-attrs dd {\n",
       "  padding: 0;\n",
       "  margin: 0;\n",
       "  float: left;\n",
       "  padding-right: 10px;\n",
       "  width: auto;\n",
       "}\n",
       "\n",
       ".xr-attrs dt {\n",
       "  font-weight: normal;\n",
       "  grid-column: 1;\n",
       "}\n",
       "\n",
       ".xr-attrs dt:hover span {\n",
       "  display: inline-block;\n",
       "  background: var(--xr-background-color);\n",
       "  padding-right: 10px;\n",
       "}\n",
       "\n",
       ".xr-attrs dd {\n",
       "  grid-column: 2;\n",
       "  white-space: pre-wrap;\n",
       "  word-break: break-all;\n",
       "}\n",
       "\n",
       ".xr-icon-database,\n",
       ".xr-icon-file-text2,\n",
       ".xr-no-icon {\n",
       "  display: inline-block;\n",
       "  vertical-align: middle;\n",
       "  width: 1em;\n",
       "  height: 1.5em !important;\n",
       "  stroke-width: 0;\n",
       "  stroke: currentColor;\n",
       "  fill: currentColor;\n",
       "}\n",
       "</style><pre class='xr-text-repr-fallback'>&lt;xarray.Dataset&gt; Size: 182kB\n",
       "Dimensions:                       (functional_group: 1, depth: 3, latitude: 1,\n",
       "                                   longitude: 1, time: 1827, cohort: 11)\n",
       "Coordinates:\n",
       "  * functional_group              (functional_group) int64 8B 0\n",
       "  * depth                         (depth) int32 12B 1 2 3\n",
       "  * latitude                      (latitude) float64 8B 22.75\n",
       "  * longitude                     (longitude) int64 8B -158\n",
       "  * time                          (time) datetime64[ns] 15kB 2005-01-01 ... 2...\n",
       "  * cohort                        (cohort) int64 88B 0 1 2 3 4 5 6 7 8 9 10\n",
       "Data variables: (12/28)\n",
       "    name                          (functional_group) &lt;U4 16B &#x27;D1N1&#x27;\n",
       "    energy_transfert              (functional_group) float64 8B 0.1668\n",
       "    inv_lambda_max                (functional_group) float64 8B 150.0\n",
       "    inv_lambda_rate               (functional_group) float64 8B 0.15\n",
       "    temperature_recruitment_max   (functional_group) float64 8B 10.38\n",
       "    temperature_recruitment_rate  (functional_group) float64 8B -0.11\n",
       "    ...                            ...\n",
       "    min_temperature               (functional_group, cohort) float64 88B 21.2...\n",
       "    mask_temperature              (functional_group, time, latitude, longitude, cohort) bool 20kB ...\n",
       "    cell_area                     (latitude, longitude) float64 8B 7.918e+07\n",
       "    mortality_field               (functional_group, time, latitude, longitude) float64 15kB ...\n",
       "    recruited                     (functional_group, time, latitude, longitude) float64 15kB ...\n",
       "    biomass                       (functional_group, time, latitude, longitude) float64 15kB ...</pre><div class='xr-wrap' style='display:none'><div class='xr-header'><div class='xr-obj-type'>xarray.Dataset</div></div><ul class='xr-sections'><li class='xr-section-item'><input id='section-27d6c196-f15d-4021-80bd-04a6e4c7d800' class='xr-section-summary-in' type='checkbox' disabled ><label for='section-27d6c196-f15d-4021-80bd-04a6e4c7d800' class='xr-section-summary'  title='Expand/collapse section'>Dimensions:</label><div class='xr-section-inline-details'><ul class='xr-dim-list'><li><span class='xr-has-index'>functional_group</span>: 1</li><li><span class='xr-has-index'>depth</span>: 3</li><li><span class='xr-has-index'>latitude</span>: 1</li><li><span class='xr-has-index'>longitude</span>: 1</li><li><span class='xr-has-index'>time</span>: 1827</li><li><span class='xr-has-index'>cohort</span>: 11</li></ul></div><div class='xr-section-details'></div></li><li class='xr-section-item'><input id='section-f947000f-a9e5-4ef7-bd30-c228f5424a60' class='xr-section-summary-in' type='checkbox'  checked><label for='section-f947000f-a9e5-4ef7-bd30-c228f5424a60' class='xr-section-summary' >Coordinates: <span>(6)</span></label><div class='xr-section-inline-details'></div><div class='xr-section-details'><ul class='xr-var-list'><li class='xr-var-item'><div class='xr-var-name'><span class='xr-has-index'>functional_group</span></div><div class='xr-var-dims'>(functional_group)</div><div class='xr-var-dtype'>int64</div><div class='xr-var-preview xr-preview'>0</div><input id='attrs-b7cf4b66-b948-40d8-8225-4d8151eef81e' class='xr-var-attrs-in' type='checkbox' ><label for='attrs-b7cf4b66-b948-40d8-8225-4d8151eef81e' title='Show/Hide attributes'><svg class='icon xr-icon-file-text2'><use xlink:href='#icon-file-text2'></use></svg></label><input id='data-8163ecfd-48a5-40ac-aa3e-7c77b9fb816f' class='xr-var-data-in' type='checkbox'><label for='data-8163ecfd-48a5-40ac-aa3e-7c77b9fb816f' title='Show/Hide data repr'><svg class='icon xr-icon-database'><use xlink:href='#icon-database'></use></svg></label><div class='xr-var-attrs'><dl class='xr-attrs'><dt><span>flag_values :</span></dt><dd>[0]</dd><dt><span>flag_meanings :</span></dt><dd>D1N1</dd><dt><span>standard_name :</span></dt><dd>functional_group</dd><dt><span>long_name :</span></dt><dd>functional group</dd></dl></div><div class='xr-var-data'><pre>array([0])</pre></div></li><li class='xr-var-item'><div class='xr-var-name'><span class='xr-has-index'>depth</span></div><div class='xr-var-dims'>(depth)</div><div class='xr-var-dtype'>int32</div><div class='xr-var-preview xr-preview'>1 2 3</div><input id='attrs-7dd2909e-8a36-4810-b722-ad215abef8f0' class='xr-var-attrs-in' type='checkbox' ><label for='attrs-7dd2909e-8a36-4810-b722-ad215abef8f0' title='Show/Hide attributes'><svg class='icon xr-icon-file-text2'><use xlink:href='#icon-file-text2'></use></svg></label><input id='data-fe158fdc-8bc7-4ded-8918-a19af4ce79f2' class='xr-var-data-in' type='checkbox'><label for='data-fe158fdc-8bc7-4ded-8918-a19af4ce79f2' title='Show/Hide data repr'><svg class='icon xr-icon-database'><use xlink:href='#icon-database'></use></svg></label><div class='xr-var-attrs'><dl class='xr-attrs'><dt><span>axis :</span></dt><dd>Z</dd><dt><span>comment :</span></dt><dd>In fact units are pelagic layer number; 1: epipelagic layer; 2: upper mesopelagic layer; 3: lower mesopelagic layer</dd><dt><span>long_name :</span></dt><dd>Depth</dd><dt><span>positive :</span></dt><dd>down</dd><dt><span>standard_name :</span></dt><dd>depth</dd><dt><span>valid_max :</span></dt><dd>3</dd><dt><span>valid_min :</span></dt><dd>1</dd><dt><span>units :</span></dt><dd>meter</dd></dl></div><div class='xr-var-data'><pre>array([1, 2, 3], dtype=int32)</pre></div></li><li class='xr-var-item'><div class='xr-var-name'><span class='xr-has-index'>latitude</span></div><div class='xr-var-dims'>(latitude)</div><div class='xr-var-dtype'>float64</div><div class='xr-var-preview xr-preview'>22.75</div><input id='attrs-0d583123-89b2-4eeb-89e6-72c139135348' class='xr-var-attrs-in' type='checkbox' ><label for='attrs-0d583123-89b2-4eeb-89e6-72c139135348' title='Show/Hide attributes'><svg class='icon xr-icon-file-text2'><use xlink:href='#icon-file-text2'></use></svg></label><input id='data-837bc0bc-802a-4080-a3cc-9a276072fffc' class='xr-var-data-in' type='checkbox'><label for='data-837bc0bc-802a-4080-a3cc-9a276072fffc' title='Show/Hide data repr'><svg class='icon xr-icon-database'><use xlink:href='#icon-database'></use></svg></label><div class='xr-var-attrs'><dl class='xr-attrs'><dt><span>axis :</span></dt><dd>Y</dd><dt><span>standard_name :</span></dt><dd>latitude</dd><dt><span>valid_max :</span></dt><dd>23.249998092651367</dd><dt><span>valid_min :</span></dt><dd>22.333332061767578</dd><dt><span>units :</span></dt><dd>degrees_north</dd></dl></div><div class='xr-var-data'><pre>array([22.75])</pre></div></li><li class='xr-var-item'><div class='xr-var-name'><span class='xr-has-index'>longitude</span></div><div class='xr-var-dims'>(longitude)</div><div class='xr-var-dtype'>int64</div><div class='xr-var-preview xr-preview'>-158</div><input id='attrs-91d2548b-150c-417d-86b1-1a0fcf85680f' class='xr-var-attrs-in' type='checkbox' ><label for='attrs-91d2548b-150c-417d-86b1-1a0fcf85680f' title='Show/Hide attributes'><svg class='icon xr-icon-file-text2'><use xlink:href='#icon-file-text2'></use></svg></label><input id='data-c39f28c3-0d47-40fe-9691-0079cbfd4ceb' class='xr-var-data-in' type='checkbox'><label for='data-c39f28c3-0d47-40fe-9691-0079cbfd4ceb' title='Show/Hide data repr'><svg class='icon xr-icon-database'><use xlink:href='#icon-database'></use></svg></label><div class='xr-var-attrs'><dl class='xr-attrs'><dt><span>axis :</span></dt><dd>X</dd><dt><span>standard_name :</span></dt><dd>longitude</dd><dt><span>valid_max :</span></dt><dd>-157.5</dd><dt><span>valid_min :</span></dt><dd>-158.5</dd><dt><span>units :</span></dt><dd>degrees_east</dd></dl></div><div class='xr-var-data'><pre>array([-158])</pre></div></li><li class='xr-var-item'><div class='xr-var-name'><span class='xr-has-index'>time</span></div><div class='xr-var-dims'>(time)</div><div class='xr-var-dtype'>datetime64[ns]</div><div class='xr-var-preview xr-preview'>2005-01-01 ... 2010-01-01</div><input id='attrs-f46b56b1-93d4-4432-b32a-ba83ec1f8d37' class='xr-var-attrs-in' type='checkbox' ><label for='attrs-f46b56b1-93d4-4432-b32a-ba83ec1f8d37' title='Show/Hide attributes'><svg class='icon xr-icon-file-text2'><use xlink:href='#icon-file-text2'></use></svg></label><input id='data-534a6d13-cfc7-40ab-bd37-5edb30c81639' class='xr-var-data-in' type='checkbox'><label for='data-534a6d13-cfc7-40ab-bd37-5edb30c81639' title='Show/Hide data repr'><svg class='icon xr-icon-database'><use xlink:href='#icon-database'></use></svg></label><div class='xr-var-attrs'><dl class='xr-attrs'><dt><span>valid_max :</span></dt><dd>1672444800</dd><dt><span>valid_min :</span></dt><dd>883612800</dd><dt><span>axis :</span></dt><dd>T</dd></dl></div><div class='xr-var-data'><pre>array([&#x27;2005-01-01T00:00:00.000000000&#x27;, &#x27;2005-01-02T00:00:00.000000000&#x27;,\n",
       "       &#x27;2005-01-03T00:00:00.000000000&#x27;, ..., &#x27;2009-12-30T00:00:00.000000000&#x27;,\n",
       "       &#x27;2009-12-31T00:00:00.000000000&#x27;, &#x27;2010-01-01T00:00:00.000000000&#x27;],\n",
       "      dtype=&#x27;datetime64[ns]&#x27;)</pre></div></li><li class='xr-var-item'><div class='xr-var-name'><span class='xr-has-index'>cohort</span></div><div class='xr-var-dims'>(cohort)</div><div class='xr-var-dtype'>int64</div><div class='xr-var-preview xr-preview'>0 1 2 3 4 5 6 7 8 9 10</div><input id='attrs-6f9a118c-8ec4-46a8-88e9-d1e7adefa88d' class='xr-var-attrs-in' type='checkbox' ><label for='attrs-6f9a118c-8ec4-46a8-88e9-d1e7adefa88d' title='Show/Hide attributes'><svg class='icon xr-icon-file-text2'><use xlink:href='#icon-file-text2'></use></svg></label><input id='data-7db1b18e-9e32-480c-8032-6523aacffd0b' class='xr-var-data-in' type='checkbox'><label for='data-7db1b18e-9e32-480c-8032-6523aacffd0b' title='Show/Hide data repr'><svg class='icon xr-icon-database'><use xlink:href='#icon-database'></use></svg></label><div class='xr-var-attrs'><dl class='xr-attrs'><dt><span>long_name :</span></dt><dd>cohort</dd><dt><span>standard_name :</span></dt><dd>cohort</dd></dl></div><div class='xr-var-data'><pre>array([ 0,  1,  2,  3,  4,  5,  6,  7,  8,  9, 10])</pre></div></li></ul></div></li><li class='xr-section-item'><input id='section-10db35b4-5b8f-4997-8e82-a81f9ff084f5' class='xr-section-summary-in' type='checkbox'  ><label for='section-10db35b4-5b8f-4997-8e82-a81f9ff084f5' class='xr-section-summary' >Data variables: <span>(28)</span></label><div class='xr-section-inline-details'></div><div class='xr-section-details'><ul class='xr-var-list'><li class='xr-var-item'><div class='xr-var-name'><span>name</span></div><div class='xr-var-dims'>(functional_group)</div><div class='xr-var-dtype'>&lt;U4</div><div class='xr-var-preview xr-preview'>&#x27;D1N1&#x27;</div><input id='attrs-80f7f2ac-b744-4f5d-a054-9e93d2dd9c18' class='xr-var-attrs-in' type='checkbox' ><label for='attrs-80f7f2ac-b744-4f5d-a054-9e93d2dd9c18' title='Show/Hide attributes'><svg class='icon xr-icon-file-text2'><use xlink:href='#icon-file-text2'></use></svg></label><input id='data-2d37236c-194f-4415-a15a-46168ba97cd5' class='xr-var-data-in' type='checkbox'><label for='data-2d37236c-194f-4415-a15a-46168ba97cd5' title='Show/Hide data repr'><svg class='icon xr-icon-database'><use xlink:href='#icon-database'></use></svg></label><div class='xr-var-attrs'><dl class='xr-attrs'><dt><span>description :</span></dt><dd>The name of the functional group.</dd></dl></div><div class='xr-var-data'><pre>array([&#x27;D1N1&#x27;], dtype=&#x27;&lt;U4&#x27;)</pre></div></li><li class='xr-var-item'><div class='xr-var-name'><span>energy_transfert</span></div><div class='xr-var-dims'>(functional_group)</div><div class='xr-var-dtype'>float64</div><div class='xr-var-preview xr-preview'>0.1668</div><input id='attrs-687ae0b5-959d-4078-bf59-df7cca95065d' class='xr-var-attrs-in' type='checkbox' ><label for='attrs-687ae0b5-959d-4078-bf59-df7cca95065d' title='Show/Hide attributes'><svg class='icon xr-icon-file-text2'><use xlink:href='#icon-file-text2'></use></svg></label><input id='data-2a242583-2bb0-436a-af90-dc29ecad6426' class='xr-var-data-in' type='checkbox'><label for='data-2a242583-2bb0-436a-af90-dc29ecad6426' title='Show/Hide data repr'><svg class='icon xr-icon-database'><use xlink:href='#icon-database'></use></svg></label><div class='xr-var-attrs'><dl class='xr-attrs'><dt><span>description :</span></dt><dd>Energy transfert coefficient between primary production and functional group.</dd></dl></div><div class='xr-var-data'><pre>array([0.1668])</pre></div></li><li class='xr-var-item'><div class='xr-var-name'><span>inv_lambda_max</span></div><div class='xr-var-dims'>(functional_group)</div><div class='xr-var-dtype'>float64</div><div class='xr-var-preview xr-preview'>150.0</div><input id='attrs-2e6fbb14-3432-46d2-98f2-b01e7df4c3ba' class='xr-var-attrs-in' type='checkbox' ><label for='attrs-2e6fbb14-3432-46d2-98f2-b01e7df4c3ba' title='Show/Hide attributes'><svg class='icon xr-icon-file-text2'><use xlink:href='#icon-file-text2'></use></svg></label><input id='data-411bf936-875d-4c0b-a196-0d86b8a12891' class='xr-var-data-in' type='checkbox'><label for='data-411bf936-875d-4c0b-a196-0d86b8a12891' title='Show/Hide data repr'><svg class='icon xr-icon-database'><use xlink:href='#icon-database'></use></svg></label><div class='xr-var-attrs'><dl class='xr-attrs'><dt><span>description :</span></dt><dd>Value of 1/lambda when temperature is 0°C.</dd></dl></div><div class='xr-var-data'><pre>array([150.])</pre></div></li><li class='xr-var-item'><div class='xr-var-name'><span>inv_lambda_rate</span></div><div class='xr-var-dims'>(functional_group)</div><div class='xr-var-dtype'>float64</div><div class='xr-var-preview xr-preview'>0.15</div><input id='attrs-fc619c21-9cd2-4f93-b7da-9f4a1073b276' class='xr-var-attrs-in' type='checkbox' ><label for='attrs-fc619c21-9cd2-4f93-b7da-9f4a1073b276' title='Show/Hide attributes'><svg class='icon xr-icon-file-text2'><use xlink:href='#icon-file-text2'></use></svg></label><input id='data-c0e160cc-ebfe-4731-89d4-2218ace8c14c' class='xr-var-data-in' type='checkbox'><label for='data-c0e160cc-ebfe-4731-89d4-2218ace8c14c' title='Show/Hide data repr'><svg class='icon xr-icon-database'><use xlink:href='#icon-database'></use></svg></label><div class='xr-var-attrs'><dl class='xr-attrs'><dt><span>description :</span></dt><dd>Rate of the inverse of the mortality.</dd></dl></div><div class='xr-var-data'><pre>array([0.15])</pre></div></li><li class='xr-var-item'><div class='xr-var-name'><span>temperature_recruitment_max</span></div><div class='xr-var-dims'>(functional_group)</div><div class='xr-var-dtype'>float64</div><div class='xr-var-preview xr-preview'>10.38</div><input id='attrs-dbdec69b-2d93-43f4-9176-5876520fc895' class='xr-var-attrs-in' type='checkbox' ><label for='attrs-dbdec69b-2d93-43f4-9176-5876520fc895' title='Show/Hide attributes'><svg class='icon xr-icon-file-text2'><use xlink:href='#icon-file-text2'></use></svg></label><input id='data-6c0a6932-035a-40a4-adaa-2b69e61f3c8f' class='xr-var-data-in' type='checkbox'><label for='data-6c0a6932-035a-40a4-adaa-2b69e61f3c8f' title='Show/Hide data repr'><svg class='icon xr-icon-database'><use xlink:href='#icon-database'></use></svg></label><div class='xr-var-attrs'><dl class='xr-attrs'><dt><span>description :</span></dt><dd>Maximum value of the recruitment time (temperature is 0°C).</dd><dt><span>units :</span></dt><dd>day</dd></dl></div><div class='xr-var-data'><pre>array([10.38])</pre></div></li><li class='xr-var-item'><div class='xr-var-name'><span>temperature_recruitment_rate</span></div><div class='xr-var-dims'>(functional_group)</div><div class='xr-var-dtype'>float64</div><div class='xr-var-preview xr-preview'>-0.11</div><input id='attrs-385f1b49-b9fc-49e0-b8b6-2c18e0b7d221' class='xr-var-attrs-in' type='checkbox' ><label for='attrs-385f1b49-b9fc-49e0-b8b6-2c18e0b7d221' title='Show/Hide attributes'><svg class='icon xr-icon-file-text2'><use xlink:href='#icon-file-text2'></use></svg></label><input id='data-8675390b-a1b6-4933-afbb-dc71f802efce' class='xr-var-data-in' type='checkbox'><label for='data-8675390b-a1b6-4933-afbb-dc71f802efce' title='Show/Hide data repr'><svg class='icon xr-icon-database'><use xlink:href='#icon-database'></use></svg></label><div class='xr-var-attrs'><dl class='xr-attrs'><dt><span>description :</span></dt><dd>Rate of the recruitment time.</dd></dl></div><div class='xr-var-data'><pre>array([-0.11])</pre></div></li><li class='xr-var-item'><div class='xr-var-name'><span>day_layer</span></div><div class='xr-var-dims'>(functional_group)</div><div class='xr-var-dtype'>int64</div><div class='xr-var-preview xr-preview'>1</div><input id='attrs-c4fdc0bd-b131-44c3-a692-1b648e36a2aa' class='xr-var-attrs-in' type='checkbox' ><label for='attrs-c4fdc0bd-b131-44c3-a692-1b648e36a2aa' title='Show/Hide attributes'><svg class='icon xr-icon-file-text2'><use xlink:href='#icon-file-text2'></use></svg></label><input id='data-ca6d6bf2-68fa-4f94-a049-6ecfe0943956' class='xr-var-data-in' type='checkbox'><label for='data-ca6d6bf2-68fa-4f94-a049-6ecfe0943956' title='Show/Hide data repr'><svg class='icon xr-icon-database'><use xlink:href='#icon-database'></use></svg></label><div class='xr-var-attrs'><dl class='xr-attrs'><dt><span>description :</span></dt><dd>Layer position during day.</dd></dl></div><div class='xr-var-data'><pre>array([1])</pre></div></li><li class='xr-var-item'><div class='xr-var-name'><span>night_layer</span></div><div class='xr-var-dims'>(functional_group)</div><div class='xr-var-dtype'>int64</div><div class='xr-var-preview xr-preview'>1</div><input id='attrs-d3317ca3-ea2f-41c5-9111-4eed4563fc5e' class='xr-var-attrs-in' type='checkbox' ><label for='attrs-d3317ca3-ea2f-41c5-9111-4eed4563fc5e' title='Show/Hide attributes'><svg class='icon xr-icon-file-text2'><use xlink:href='#icon-file-text2'></use></svg></label><input id='data-f104aa6e-11af-4e52-a459-afa9d2e7a7cf' class='xr-var-data-in' type='checkbox'><label for='data-f104aa6e-11af-4e52-a459-afa9d2e7a7cf' title='Show/Hide data repr'><svg class='icon xr-icon-database'><use xlink:href='#icon-database'></use></svg></label><div class='xr-var-attrs'><dl class='xr-attrs'><dt><span>description :</span></dt><dd>Layer position during night.</dd></dl></div><div class='xr-var-data'><pre>array([1])</pre></div></li><li class='xr-var-item'><div class='xr-var-name'><span>temperature</span></div><div class='xr-var-dims'>(time, latitude, longitude, depth)</div><div class='xr-var-dtype'>float64</div><div class='xr-var-preview xr-preview'>24.78 16.91 6.84 ... 15.88 6.694</div><input id='attrs-028f6051-87e2-4890-bd7c-48be2ff2a457' class='xr-var-attrs-in' type='checkbox' ><label for='attrs-028f6051-87e2-4890-bd7c-48be2ff2a457' title='Show/Hide attributes'><svg class='icon xr-icon-file-text2'><use xlink:href='#icon-file-text2'></use></svg></label><input id='data-064255dd-a2df-4c88-bbc6-c4836498aa62' class='xr-var-data-in' type='checkbox'><label for='data-064255dd-a2df-4c88-bbc6-c4836498aa62' title='Show/Hide data repr'><svg class='icon xr-icon-database'><use xlink:href='#icon-database'></use></svg></label><div class='xr-var-attrs'><dl class='xr-attrs'><dt><span>units :</span></dt><dd>degree_Celsius</dd></dl></div><div class='xr-var-data'><pre>array([[[[24.77595773, 16.91077077,  6.84044906]]],\n",
       "\n",
       "\n",
       "       [[[24.76921921, 16.98453023,  6.82260109]]],\n",
       "\n",
       "\n",
       "       [[[24.70055917, 16.64584378,  6.57370085]]],\n",
       "\n",
       "\n",
       "       ...,\n",
       "\n",
       "\n",
       "       [[[23.01981475, 14.98100469,  6.26694648]]],\n",
       "\n",
       "\n",
       "       [[[23.1066263 , 15.47722678,  6.48640364]]],\n",
       "\n",
       "\n",
       "       [[[23.15312815, 15.8806273 ,  6.6942657 ]]]])</pre></div></li><li class='xr-var-item'><div class='xr-var-name'><span>primary_production</span></div><div class='xr-var-dims'>(time, latitude, longitude)</div><div class='xr-var-dtype'>float64</div><div class='xr-var-preview xr-preview'>0.0003497 0.0003533 ... 0.0003101</div><input id='attrs-04756ec5-48a0-49a5-8ecc-5bb0a36c4666' class='xr-var-attrs-in' type='checkbox' ><label for='attrs-04756ec5-48a0-49a5-8ecc-5bb0a36c4666' title='Show/Hide attributes'><svg class='icon xr-icon-file-text2'><use xlink:href='#icon-file-text2'></use></svg></label><input id='data-9981211d-5e23-4dc8-8033-01efbd4aa13f' class='xr-var-data-in' type='checkbox'><label for='data-9981211d-5e23-4dc8-8033-01efbd4aa13f' title='Show/Hide data repr'><svg class='icon xr-icon-database'><use xlink:href='#icon-database'></use></svg></label><div class='xr-var-attrs'><dl class='xr-attrs'><dt><span>adg wavelength :</span></dt><dd>443nm</dd><dt><span>aph wavelength :</span></dt><dd>443nm</dd><dt><span>bbp wavelength :</span></dt><dd>443nm</dd><dt><span>doi :</span></dt><dd>10.1002/2016GB005521</dd><dt><span>long_name :</span></dt><dd>primary_production_using_CAFE_model</dd><dt><span>mld_criteria :</span></dt><dd>0.030 kg m^-3</dd><dt><span>mld_product :</span></dt><dd>HADLEY</dd><dt><span>reference :</span></dt><dd>Silsbe_et_al_2016</dd><dt><span>remote_sensing_data_product :</span></dt><dd>OCCCIv6</dd><dt><span>resolution :</span></dt><dd>0.00f; // float</dd><dt><span>standard_name :</span></dt><dd>NPP</dd><dt><span>weight :</span></dt><dd>carbon</dd><dt><span>units :</span></dt><dd>kilogram / day / meter ** 2</dd></dl></div><div class='xr-var-data'><pre>array([[[0.00034968]],\n",
       "\n",
       "       [[0.00035333]],\n",
       "\n",
       "       [[0.00035698]],\n",
       "\n",
       "       ...,\n",
       "\n",
       "       [[0.00030516]],\n",
       "\n",
       "       [[0.00030764]],\n",
       "\n",
       "       [[0.00031011]]])</pre></div></li><li class='xr-var-item'><div class='xr-var-name'><span>timestep</span></div><div class='xr-var-dims'>()</div><div class='xr-var-dtype'>int64</div><div class='xr-var-preview xr-preview'>1</div><input id='attrs-26e5c286-6a56-4e22-a6d3-52a8aae5dce5' class='xr-var-attrs-in' type='checkbox' disabled><label for='attrs-26e5c286-6a56-4e22-a6d3-52a8aae5dce5' title='Show/Hide attributes'><svg class='icon xr-icon-file-text2'><use xlink:href='#icon-file-text2'></use></svg></label><input id='data-f3762beb-12cf-401a-b2a1-6433a63d773a' class='xr-var-data-in' type='checkbox'><label for='data-f3762beb-12cf-401a-b2a1-6433a63d773a' title='Show/Hide data repr'><svg class='icon xr-icon-database'><use xlink:href='#icon-database'></use></svg></label><div class='xr-var-attrs'><dl class='xr-attrs'></dl></div><div class='xr-var-data'><pre>array(1)</pre></div></li><li class='xr-var-item'><div class='xr-var-name'><span>resolution_latitude</span></div><div class='xr-var-dims'>()</div><div class='xr-var-dtype'>float64</div><div class='xr-var-preview xr-preview'>0.08333</div><input id='attrs-690bfbf8-1692-429d-beed-c9b055b06a12' class='xr-var-attrs-in' type='checkbox' disabled><label for='attrs-690bfbf8-1692-429d-beed-c9b055b06a12' title='Show/Hide attributes'><svg class='icon xr-icon-file-text2'><use xlink:href='#icon-file-text2'></use></svg></label><input id='data-e8a879b6-18c3-4fb6-9b74-1d543af41add' class='xr-var-data-in' type='checkbox'><label for='data-e8a879b6-18c3-4fb6-9b74-1d543af41add' title='Show/Hide data repr'><svg class='icon xr-icon-database'><use xlink:href='#icon-database'></use></svg></label><div class='xr-var-attrs'><dl class='xr-attrs'></dl></div><div class='xr-var-data'><pre>array(0.08333333)</pre></div></li><li class='xr-var-item'><div class='xr-var-name'><span>resolution_longitude</span></div><div class='xr-var-dims'>()</div><div class='xr-var-dtype'>float64</div><div class='xr-var-preview xr-preview'>0.08333</div><input id='attrs-259f527e-204e-4b78-8cbd-49a3679ff3b0' class='xr-var-attrs-in' type='checkbox' disabled><label for='attrs-259f527e-204e-4b78-8cbd-49a3679ff3b0' title='Show/Hide attributes'><svg class='icon xr-icon-file-text2'><use xlink:href='#icon-file-text2'></use></svg></label><input id='data-d9aef169-e506-49b3-8a12-149cb4b412b1' class='xr-var-data-in' type='checkbox'><label for='data-d9aef169-e506-49b3-8a12-149cb4b412b1' title='Show/Hide data repr'><svg class='icon xr-icon-database'><use xlink:href='#icon-database'></use></svg></label><div class='xr-var-attrs'><dl class='xr-attrs'></dl></div><div class='xr-var-data'><pre>array(0.08333333)</pre></div></li><li class='xr-var-item'><div class='xr-var-name'><span>timesteps_number</span></div><div class='xr-var-dims'>(functional_group, cohort)</div><div class='xr-var-dtype'>int64</div><div class='xr-var-preview xr-preview'>1 1 1 1 1 1 1 1 1 1 1</div><input id='attrs-e3abb96f-3787-41aa-8877-3d59c15eadb3' class='xr-var-attrs-in' type='checkbox' ><label for='attrs-e3abb96f-3787-41aa-8877-3d59c15eadb3' title='Show/Hide attributes'><svg class='icon xr-icon-file-text2'><use xlink:href='#icon-file-text2'></use></svg></label><input id='data-5b8669dc-7436-48fa-a12f-b194a2c4dcc5' class='xr-var-data-in' type='checkbox'><label for='data-5b8669dc-7436-48fa-a12f-b194a2c4dcc5' title='Show/Hide data repr'><svg class='icon xr-icon-database'><use xlink:href='#icon-database'></use></svg></label><div class='xr-var-attrs'><dl class='xr-attrs'><dt><span>description :</span></dt><dd>The number of timesteps represented in the cohort. If there is no aggregation, all values are equal to 1.</dd></dl></div><div class='xr-var-data'><pre>array([[1, 1, 1, 1, 1, 1, 1, 1, 1, 1, 1]])</pre></div></li><li class='xr-var-item'><div class='xr-var-name'><span>min_timestep</span></div><div class='xr-var-dims'>(functional_group, cohort)</div><div class='xr-var-dtype'>int64</div><div class='xr-var-preview xr-preview'>1 2 3 4 5 6 7 8 9 10 11</div><input id='attrs-a3d41efc-7681-40cc-b4f2-11480d5b805c' class='xr-var-attrs-in' type='checkbox' ><label for='attrs-a3d41efc-7681-40cc-b4f2-11480d5b805c' title='Show/Hide attributes'><svg class='icon xr-icon-file-text2'><use xlink:href='#icon-file-text2'></use></svg></label><input id='data-68018a75-1fed-4953-b1b2-ca7e0c4fa976' class='xr-var-data-in' type='checkbox'><label for='data-68018a75-1fed-4953-b1b2-ca7e0c4fa976' title='Show/Hide data repr'><svg class='icon xr-icon-database'><use xlink:href='#icon-database'></use></svg></label><div class='xr-var-attrs'><dl class='xr-attrs'><dt><span>description :</span></dt><dd>The minimum timestep index.</dd></dl></div><div class='xr-var-data'><pre>array([[ 1,  2,  3,  4,  5,  6,  7,  8,  9, 10, 11]])</pre></div></li><li class='xr-var-item'><div class='xr-var-name'><span>max_timestep</span></div><div class='xr-var-dims'>(functional_group, cohort)</div><div class='xr-var-dtype'>int64</div><div class='xr-var-preview xr-preview'>1 2 3 4 5 6 7 8 9 10 11</div><input id='attrs-6da37827-aa64-4459-93e1-40ac5aa4460e' class='xr-var-attrs-in' type='checkbox' ><label for='attrs-6da37827-aa64-4459-93e1-40ac5aa4460e' title='Show/Hide attributes'><svg class='icon xr-icon-file-text2'><use xlink:href='#icon-file-text2'></use></svg></label><input id='data-2bc83ac9-cb80-4eeb-9d0e-f64bc56d2227' class='xr-var-data-in' type='checkbox'><label for='data-2bc83ac9-cb80-4eeb-9d0e-f64bc56d2227' title='Show/Hide data repr'><svg class='icon xr-icon-database'><use xlink:href='#icon-database'></use></svg></label><div class='xr-var-attrs'><dl class='xr-attrs'><dt><span>description :</span></dt><dd>The maximum timestep index.</dd></dl></div><div class='xr-var-data'><pre>array([[ 1,  2,  3,  4,  5,  6,  7,  8,  9, 10, 11]])</pre></div></li><li class='xr-var-item'><div class='xr-var-name'><span>mean_timestep</span></div><div class='xr-var-dims'>(functional_group, cohort)</div><div class='xr-var-dtype'>float64</div><div class='xr-var-preview xr-preview'>1.0 2.0 3.0 4.0 ... 9.0 10.0 11.0</div><input id='attrs-aefeb486-2da9-4ca5-980a-49618dad4f48' class='xr-var-attrs-in' type='checkbox' ><label for='attrs-aefeb486-2da9-4ca5-980a-49618dad4f48' title='Show/Hide attributes'><svg class='icon xr-icon-file-text2'><use xlink:href='#icon-file-text2'></use></svg></label><input id='data-630575ad-5670-4631-bf49-4f51c73d3d5e' class='xr-var-data-in' type='checkbox'><label for='data-630575ad-5670-4631-bf49-4f51c73d3d5e' title='Show/Hide data repr'><svg class='icon xr-icon-database'><use xlink:href='#icon-database'></use></svg></label><div class='xr-var-attrs'><dl class='xr-attrs'><dt><span>description :</span></dt><dd>The mean timestep index.</dd></dl></div><div class='xr-var-data'><pre>array([[ 1.,  2.,  3.,  4.,  5.,  6.,  7.,  8.,  9., 10., 11.]])</pre></div></li><li class='xr-var-item'><div class='xr-var-name'><span>mask</span></div><div class='xr-var-dims'>(latitude, longitude, depth)</div><div class='xr-var-dtype'>bool</div><div class='xr-var-preview xr-preview'>True True True</div><input id='attrs-331e7b02-ae53-4541-a616-84d1ec62ea59' class='xr-var-attrs-in' type='checkbox' ><label for='attrs-331e7b02-ae53-4541-a616-84d1ec62ea59' title='Show/Hide attributes'><svg class='icon xr-icon-file-text2'><use xlink:href='#icon-file-text2'></use></svg></label><input id='data-9845e541-e859-4a50-b224-938b5cd44243' class='xr-var-data-in' type='checkbox'><label for='data-9845e541-e859-4a50-b224-938b5cd44243' title='Show/Hide data repr'><svg class='icon xr-icon-database'><use xlink:href='#icon-database'></use></svg></label><div class='xr-var-attrs'><dl class='xr-attrs'><dt><span>standard_name :</span></dt><dd>mask</dd><dt><span>long_name :</span></dt><dd>mask</dd><dt><span>flag_values :</span></dt><dd>[0, 1]</dd><dt><span>flag_meanings :</span></dt><dd>0:land, 1:ocean</dd></dl></div><div class='xr-var-data'><pre>array([[[ True,  True,  True]]])</pre></div></li><li class='xr-var-item'><div class='xr-var-name'><span>mask_fgroup</span></div><div class='xr-var-dims'>(functional_group, latitude, longitude)</div><div class='xr-var-dtype'>bool</div><div class='xr-var-preview xr-preview'>True</div><input id='attrs-8d2fe227-2095-46c0-a4ca-e3e9cf6e93d2' class='xr-var-attrs-in' type='checkbox' ><label for='attrs-8d2fe227-2095-46c0-a4ca-e3e9cf6e93d2' title='Show/Hide attributes'><svg class='icon xr-icon-file-text2'><use xlink:href='#icon-file-text2'></use></svg></label><input id='data-4fe0e89d-6787-47fd-8506-4ad99580fdf7' class='xr-var-data-in' type='checkbox'><label for='data-4fe0e89d-6787-47fd-8506-4ad99580fdf7' title='Show/Hide data repr'><svg class='icon xr-icon-database'><use xlink:href='#icon-database'></use></svg></label><div class='xr-var-attrs'><dl class='xr-attrs'><dt><span>standard_name :</span></dt><dd>mask</dd><dt><span>long_name :</span></dt><dd>mask</dd><dt><span>flag_values :</span></dt><dd>[0, 1]</dd><dt><span>flag_meanings :</span></dt><dd>0:land, 1:ocean</dd></dl></div><div class='xr-var-data'><pre>array([[[ True]]])</pre></div></li><li class='xr-var-item'><div class='xr-var-name'><span>day_length</span></div><div class='xr-var-dims'>(time, latitude, longitude)</div><div class='xr-var-dtype'>float64</div><div class='xr-var-preview xr-preview'>0.4428 0.4431 ... 0.4426 0.4428</div><input id='attrs-f14fd7bf-9c6a-47fd-a00f-539cefbe0d95' class='xr-var-attrs-in' type='checkbox' ><label for='attrs-f14fd7bf-9c6a-47fd-a00f-539cefbe0d95' title='Show/Hide attributes'><svg class='icon xr-icon-file-text2'><use xlink:href='#icon-file-text2'></use></svg></label><input id='data-67079e57-4e59-4ca0-aab1-2527b22f37fa' class='xr-var-data-in' type='checkbox'><label for='data-67079e57-4e59-4ca0-aab1-2527b22f37fa' title='Show/Hide data repr'><svg class='icon xr-icon-database'><use xlink:href='#icon-database'></use></svg></label><div class='xr-var-attrs'><dl class='xr-attrs'><dt><span>long_name :</span></dt><dd>Day length</dd><dt><span>standard_name :</span></dt><dd>day_length</dd><dt><span>description :</span></dt><dd>Day length at the surface using Forsythe&#x27;s method with p=0.0</dd><dt><span>units :</span></dt><dd>day</dd></dl></div><div class='xr-var-data'><pre>array([[[0.44283403]],\n",
       "\n",
       "       [[0.44305869]],\n",
       "\n",
       "       [[0.44330437]],\n",
       "\n",
       "       ...,\n",
       "\n",
       "       [[0.44239781]],\n",
       "\n",
       "       [[0.44257342]],\n",
       "\n",
       "       [[0.44283403]]])</pre></div></li><li class='xr-var-item'><div class='xr-var-name'><span>average_temperature</span></div><div class='xr-var-dims'>(functional_group, time, latitude, longitude)</div><div class='xr-var-dtype'>float64</div><div class='xr-var-preview xr-preview'>24.78 24.77 24.7 ... 23.11 23.15</div><input id='attrs-53cfbc69-8cf8-4fdb-9559-592eb55325f2' class='xr-var-attrs-in' type='checkbox' ><label for='attrs-53cfbc69-8cf8-4fdb-9559-592eb55325f2' title='Show/Hide attributes'><svg class='icon xr-icon-file-text2'><use xlink:href='#icon-file-text2'></use></svg></label><input id='data-38e6771c-1aae-4f7b-86fe-88b01a7cfd8d' class='xr-var-data-in' type='checkbox'><label for='data-38e6771c-1aae-4f7b-86fe-88b01a7cfd8d' title='Show/Hide data repr'><svg class='icon xr-icon-database'><use xlink:href='#icon-database'></use></svg></label><div class='xr-var-attrs'><dl class='xr-attrs'><dt><span>long_name :</span></dt><dd>average sea temperature by fonctional group</dd><dt><span>standard_name :</span></dt><dd>sea water temperature</dd><dt><span>description :</span></dt><dd>Average temperature by functional group according to their layer position during day and night.</dd><dt><span>units :</span></dt><dd>degree_Celsius</dd></dl></div><div class='xr-var-data'><pre>array([[[[24.77595773]],\n",
       "\n",
       "        [[24.76921921]],\n",
       "\n",
       "        [[24.70055917]],\n",
       "\n",
       "        ...,\n",
       "\n",
       "        [[23.01981475]],\n",
       "\n",
       "        [[23.1066263 ]],\n",
       "\n",
       "        [[23.15312815]]]])</pre></div></li><li class='xr-var-item'><div class='xr-var-name'><span>primary_production_by_fgroup</span></div><div class='xr-var-dims'>(functional_group, time, latitude, longitude)</div><div class='xr-var-dtype'>float64</div><div class='xr-var-preview xr-preview'>5.833e-05 5.893e-05 ... 5.173e-05</div><input id='attrs-42bfc444-fb50-4545-a979-99e8bb160fc3' class='xr-var-attrs-in' type='checkbox' ><label for='attrs-42bfc444-fb50-4545-a979-99e8bb160fc3' title='Show/Hide attributes'><svg class='icon xr-icon-file-text2'><use xlink:href='#icon-file-text2'></use></svg></label><input id='data-c93f5f9f-9327-4465-88f7-9780566924df' class='xr-var-data-in' type='checkbox'><label for='data-c93f5f9f-9327-4465-88f7-9780566924df' title='Show/Hide data repr'><svg class='icon xr-icon-database'><use xlink:href='#icon-database'></use></svg></label><div class='xr-var-attrs'><dl class='xr-attrs'><dt><span>standard_name :</span></dt><dd>primary production</dd><dt><span>long_name :</span></dt><dd>primary production by functional group</dd><dt><span>description :</span></dt><dd>Primary production by functional group according to their energy transfert coefficient.</dd><dt><span>units :</span></dt><dd>kilogram / day / meter ** 2</dd></dl></div><div class='xr-var-data'><pre>array([[[[5.83258185e-05]],\n",
       "\n",
       "        [[5.89347399e-05]],\n",
       "\n",
       "        [[5.95436614e-05]],\n",
       "\n",
       "        ...,\n",
       "\n",
       "        [[5.09014226e-05]],\n",
       "\n",
       "        [[5.13136347e-05]],\n",
       "\n",
       "        [[5.17258467e-05]]]])</pre></div></li><li class='xr-var-item'><div class='xr-var-name'><span>min_temperature</span></div><div class='xr-var-dims'>(functional_group, cohort)</div><div class='xr-var-dtype'>float64</div><div class='xr-var-preview xr-preview'>21.27 14.97 ... 0.3391 -0.5274</div><input id='attrs-92507b20-58f7-46b4-9f64-3d492fb30f50' class='xr-var-attrs-in' type='checkbox' ><label for='attrs-92507b20-58f7-46b4-9f64-3d492fb30f50' title='Show/Hide attributes'><svg class='icon xr-icon-file-text2'><use xlink:href='#icon-file-text2'></use></svg></label><input id='data-dbe253b0-c516-4b65-bcc3-2d3fb843af03' class='xr-var-data-in' type='checkbox'><label for='data-dbe253b0-c516-4b65-bcc3-2d3fb843af03' title='Show/Hide data repr'><svg class='icon xr-icon-database'><use xlink:href='#icon-database'></use></svg></label><div class='xr-var-attrs'><dl class='xr-attrs'><dt><span>standard_name :</span></dt><dd>minimum temperature</dd><dt><span>long_name :</span></dt><dd>minimum temperature by cohort</dd><dt><span>description :</span></dt><dd>Minimum temperature to recruit a cohort according to its age.</dd><dt><span>units :</span></dt><dd>degree_Celsius</dd></dl></div><div class='xr-var-data'><pre>array([[21.27164434, 14.97030634, 11.2842599 ,  8.66896833,  6.64039059,\n",
       "         4.9829219 ,  3.58155208,  2.36763033,  1.29687546,  0.33905259,\n",
       "        -0.52740359]])</pre></div></li><li class='xr-var-item'><div class='xr-var-name'><span>mask_temperature</span></div><div class='xr-var-dims'>(functional_group, time, latitude, longitude, cohort)</div><div class='xr-var-dtype'>bool</div><div class='xr-var-preview xr-preview'>True True True ... True True True</div><input id='attrs-68ccedf0-dbfa-4be5-85f3-482c541e1e80' class='xr-var-attrs-in' type='checkbox' ><label for='attrs-68ccedf0-dbfa-4be5-85f3-482c541e1e80' title='Show/Hide attributes'><svg class='icon xr-icon-file-text2'><use xlink:href='#icon-file-text2'></use></svg></label><input id='data-c82d006a-7266-4344-bc15-d58b6b0102b9' class='xr-var-data-in' type='checkbox'><label for='data-c82d006a-7266-4344-bc15-d58b6b0102b9' title='Show/Hide data repr'><svg class='icon xr-icon-database'><use xlink:href='#icon-database'></use></svg></label><div class='xr-var-attrs'><dl class='xr-attrs'><dt><span>standard_name :</span></dt><dd>mask</dd><dt><span>long_name :</span></dt><dd>cohort recruitment mask by functional group</dd><dt><span>description :</span></dt><dd>Mask to recruit a cohort according to the temperature.</dd><dt><span>flag_values :</span></dt><dd>[0, 1]</dd><dt><span>flag_meanings :</span></dt><dd>0:not recruited, 1:recruited</dd></dl></div><div class='xr-var-data'><pre>array([[[[[ True,  True,  True, ...,  True,  True,  True]]],\n",
       "\n",
       "\n",
       "        [[[ True,  True,  True, ...,  True,  True,  True]]],\n",
       "\n",
       "\n",
       "        [[[ True,  True,  True, ...,  True,  True,  True]]],\n",
       "\n",
       "\n",
       "        ...,\n",
       "\n",
       "\n",
       "        [[[ True,  True,  True, ...,  True,  True,  True]]],\n",
       "\n",
       "\n",
       "        [[[ True,  True,  True, ...,  True,  True,  True]]],\n",
       "\n",
       "\n",
       "        [[[ True,  True,  True, ...,  True,  True,  True]]]]])</pre></div></li><li class='xr-var-item'><div class='xr-var-name'><span>cell_area</span></div><div class='xr-var-dims'>(latitude, longitude)</div><div class='xr-var-dtype'>float64</div><div class='xr-var-preview xr-preview'>7.918e+07</div><input id='attrs-66df11b6-c2aa-443d-a80f-6a768682c67f' class='xr-var-attrs-in' type='checkbox' ><label for='attrs-66df11b6-c2aa-443d-a80f-6a768682c67f' title='Show/Hide attributes'><svg class='icon xr-icon-file-text2'><use xlink:href='#icon-file-text2'></use></svg></label><input id='data-c3804089-5e68-4c24-83bf-b1fb6f5c7567' class='xr-var-data-in' type='checkbox'><label for='data-c3804089-5e68-4c24-83bf-b1fb6f5c7567' title='Show/Hide data repr'><svg class='icon xr-icon-database'><use xlink:href='#icon-database'></use></svg></label><div class='xr-var-attrs'><dl class='xr-attrs'><dt><span>long_name :</span></dt><dd>cell area</dd><dt><span>standard_name :</span></dt><dd>cell_area</dd><dt><span>units :</span></dt><dd>meter ** 2</dd><dt><span>description :</span></dt><dd>Cell area computed from the latitude and longitude centroid.</dd></dl></div><div class='xr-var-data'><pre>array([[79183195.30607556]])</pre></div></li><li class='xr-var-item'><div class='xr-var-name'><span>mortality_field</span></div><div class='xr-var-dims'>(functional_group, time, latitude, longitude)</div><div class='xr-var-dtype'>float64</div><div class='xr-var-preview xr-preview'>0.7603 0.7605 ... 0.8078 0.8066</div><input id='attrs-05b2ff27-386d-4270-a534-b216fe61f1d2' class='xr-var-attrs-in' type='checkbox' ><label for='attrs-05b2ff27-386d-4270-a534-b216fe61f1d2' title='Show/Hide attributes'><svg class='icon xr-icon-file-text2'><use xlink:href='#icon-file-text2'></use></svg></label><input id='data-d67adc15-7601-4e63-869f-eaeeecd7a60c' class='xr-var-data-in' type='checkbox'><label for='data-d67adc15-7601-4e63-869f-eaeeecd7a60c' title='Show/Hide data repr'><svg class='icon xr-icon-database'><use xlink:href='#icon-database'></use></svg></label><div class='xr-var-attrs'><dl class='xr-attrs'><dt><span>standard_name :</span></dt><dd>mortality</dd><dt><span>long_name :</span></dt><dd>mortality coefficient</dd><dt><span>description :</span></dt><dd>Mortality coefficient according to the temperature.</dd></dl></div><div class='xr-var-data'><pre>array([[[[0.76025174]],\n",
       "\n",
       "        [[0.7604623 ]],\n",
       "\n",
       "        [[0.76259892]],\n",
       "\n",
       "        ...,\n",
       "\n",
       "        [[0.81007559]],\n",
       "\n",
       "        [[0.80784232]],\n",
       "\n",
       "        [[0.80663659]]]])</pre></div></li><li class='xr-var-item'><div class='xr-var-name'><span>recruited</span></div><div class='xr-var-dims'>(functional_group, time, latitude, longitude)</div><div class='xr-var-dtype'>float64</div><div class='xr-var-preview xr-preview'>5.833e-05 5.893e-05 ... 5.173e-05</div><input id='attrs-d6cf38ec-98db-4d26-9dc3-f9c3f59be6ed' class='xr-var-attrs-in' type='checkbox' ><label for='attrs-d6cf38ec-98db-4d26-9dc3-f9c3f59be6ed' title='Show/Hide attributes'><svg class='icon xr-icon-file-text2'><use xlink:href='#icon-file-text2'></use></svg></label><input id='data-a583bf77-111d-4544-8075-04c659e35889' class='xr-var-data-in' type='checkbox'><label for='data-a583bf77-111d-4544-8075-04c659e35889' title='Show/Hide data repr'><svg class='icon xr-icon-database'><use xlink:href='#icon-database'></use></svg></label><div class='xr-var-attrs'><dl class='xr-attrs'><dt><span>standard_name :</span></dt><dd>production</dd><dt><span>long_name :</span></dt><dd>production</dd><dt><span>units :</span></dt><dd>kilogram / day / meter ** 2</dd></dl></div><div class='xr-var-data'><pre>array([[[[5.83258185e-05]],\n",
       "\n",
       "        [[5.89347399e-05]],\n",
       "\n",
       "        [[5.95436614e-05]],\n",
       "\n",
       "        ...,\n",
       "\n",
       "        [[5.09014226e-05]],\n",
       "\n",
       "        [[5.13136347e-05]],\n",
       "\n",
       "        [[5.17258467e-05]]]])</pre></div></li><li class='xr-var-item'><div class='xr-var-name'><span>biomass</span></div><div class='xr-var-dims'>(functional_group, time, latitude, longitude)</div><div class='xr-var-dtype'>float64</div><div class='xr-var-preview xr-preview'>5.833e-05 0.0001033 ... 0.0002651</div><input id='attrs-34ff5e37-0dbc-4f3d-a2a1-43f74ceef33b' class='xr-var-attrs-in' type='checkbox' ><label for='attrs-34ff5e37-0dbc-4f3d-a2a1-43f74ceef33b' title='Show/Hide attributes'><svg class='icon xr-icon-file-text2'><use xlink:href='#icon-file-text2'></use></svg></label><input id='data-9f3d62cc-37c0-4ba2-b6aa-a7346f25f858' class='xr-var-data-in' type='checkbox'><label for='data-9f3d62cc-37c0-4ba2-b6aa-a7346f25f858' title='Show/Hide data repr'><svg class='icon xr-icon-database'><use xlink:href='#icon-database'></use></svg></label><div class='xr-var-attrs'><dl class='xr-attrs'><dt><span>long_name :</span></dt><dd>biomass</dd><dt><span>units :</span></dt><dd>kilogram / meter ** 2</dd><dt><span>description :</span></dt><dd>The biomass of the recruited individuals.</dd></dl></div><div class='xr-var-data'><pre>array([[[[5.83258185e-05]],\n",
       "\n",
       "        [[1.03289326e-04]],\n",
       "\n",
       "        [[1.38311990e-04]],\n",
       "\n",
       "        ...,\n",
       "\n",
       "        [[2.63995877e-04]],\n",
       "\n",
       "        [[2.64580676e-04]],\n",
       "\n",
       "        [[2.65146301e-04]]]])</pre></div></li></ul></div></li><li class='xr-section-item'><input id='section-ea979a6c-3a11-4169-8c00-716449af74fb' class='xr-section-summary-in' type='checkbox'  ><label for='section-ea979a6c-3a11-4169-8c00-716449af74fb' class='xr-section-summary' >Indexes: <span>(6)</span></label><div class='xr-section-inline-details'></div><div class='xr-section-details'><ul class='xr-var-list'><li class='xr-var-item'><div class='xr-index-name'><div>functional_group</div></div><div class='xr-index-preview'>PandasIndex</div><div></div><input id='index-57ad3889-7db9-4977-9baf-0d2180268df7' class='xr-index-data-in' type='checkbox'/><label for='index-57ad3889-7db9-4977-9baf-0d2180268df7' title='Show/Hide index repr'><svg class='icon xr-icon-database'><use xlink:href='#icon-database'></use></svg></label><div class='xr-index-data'><pre>PandasIndex(Index([0], dtype=&#x27;int64&#x27;, name=&#x27;functional_group&#x27;))</pre></div></li><li class='xr-var-item'><div class='xr-index-name'><div>depth</div></div><div class='xr-index-preview'>PandasIndex</div><div></div><input id='index-cbbb7b55-bfac-4093-bbd2-0aed2bfac49e' class='xr-index-data-in' type='checkbox'/><label for='index-cbbb7b55-bfac-4093-bbd2-0aed2bfac49e' title='Show/Hide index repr'><svg class='icon xr-icon-database'><use xlink:href='#icon-database'></use></svg></label><div class='xr-index-data'><pre>PandasIndex(Index([1, 2, 3], dtype=&#x27;int32&#x27;, name=&#x27;depth&#x27;))</pre></div></li><li class='xr-var-item'><div class='xr-index-name'><div>latitude</div></div><div class='xr-index-preview'>PandasIndex</div><div></div><input id='index-824fb7a1-f839-4b19-a4bb-e1b6dba230f5' class='xr-index-data-in' type='checkbox'/><label for='index-824fb7a1-f839-4b19-a4bb-e1b6dba230f5' title='Show/Hide index repr'><svg class='icon xr-icon-database'><use xlink:href='#icon-database'></use></svg></label><div class='xr-index-data'><pre>PandasIndex(Index([22.75], dtype=&#x27;float64&#x27;, name=&#x27;latitude&#x27;))</pre></div></li><li class='xr-var-item'><div class='xr-index-name'><div>longitude</div></div><div class='xr-index-preview'>PandasIndex</div><div></div><input id='index-e4f3da12-656b-4f50-ad96-02808731d21c' class='xr-index-data-in' type='checkbox'/><label for='index-e4f3da12-656b-4f50-ad96-02808731d21c' title='Show/Hide index repr'><svg class='icon xr-icon-database'><use xlink:href='#icon-database'></use></svg></label><div class='xr-index-data'><pre>PandasIndex(Index([-158], dtype=&#x27;int64&#x27;, name=&#x27;longitude&#x27;))</pre></div></li><li class='xr-var-item'><div class='xr-index-name'><div>time</div></div><div class='xr-index-preview'>PandasIndex</div><div></div><input id='index-90c0a0e3-ddfe-4139-8898-64718dd0a897' class='xr-index-data-in' type='checkbox'/><label for='index-90c0a0e3-ddfe-4139-8898-64718dd0a897' title='Show/Hide index repr'><svg class='icon xr-icon-database'><use xlink:href='#icon-database'></use></svg></label><div class='xr-index-data'><pre>PandasIndex(DatetimeIndex([&#x27;2005-01-01&#x27;, &#x27;2005-01-02&#x27;, &#x27;2005-01-03&#x27;, &#x27;2005-01-04&#x27;,\n",
       "               &#x27;2005-01-05&#x27;, &#x27;2005-01-06&#x27;, &#x27;2005-01-07&#x27;, &#x27;2005-01-08&#x27;,\n",
       "               &#x27;2005-01-09&#x27;, &#x27;2005-01-10&#x27;,\n",
       "               ...\n",
       "               &#x27;2009-12-23&#x27;, &#x27;2009-12-24&#x27;, &#x27;2009-12-25&#x27;, &#x27;2009-12-26&#x27;,\n",
       "               &#x27;2009-12-27&#x27;, &#x27;2009-12-28&#x27;, &#x27;2009-12-29&#x27;, &#x27;2009-12-30&#x27;,\n",
       "               &#x27;2009-12-31&#x27;, &#x27;2010-01-01&#x27;],\n",
       "              dtype=&#x27;datetime64[ns]&#x27;, name=&#x27;time&#x27;, length=1827, freq=None))</pre></div></li><li class='xr-var-item'><div class='xr-index-name'><div>cohort</div></div><div class='xr-index-preview'>PandasIndex</div><div></div><input id='index-46b27e8f-253e-4d1e-89fc-0cc342469e6a' class='xr-index-data-in' type='checkbox'/><label for='index-46b27e8f-253e-4d1e-89fc-0cc342469e6a' title='Show/Hide index repr'><svg class='icon xr-icon-database'><use xlink:href='#icon-database'></use></svg></label><div class='xr-index-data'><pre>PandasIndex(Index([0, 1, 2, 3, 4, 5, 6, 7, 8, 9, 10], dtype=&#x27;int64&#x27;, name=&#x27;cohort&#x27;))</pre></div></li></ul></div></li><li class='xr-section-item'><input id='section-c944d550-6f2f-4628-bc5f-90a55b268baf' class='xr-section-summary-in' type='checkbox' disabled ><label for='section-c944d550-6f2f-4628-bc5f-90a55b268baf' class='xr-section-summary'  title='Expand/collapse section'>Attributes: <span>(0)</span></label><div class='xr-section-inline-details'></div><div class='xr-section-details'><dl class='xr-attrs'></dl></div></li></ul></div></div>"
      ],
      "text/plain": [
       "<xarray.Dataset> Size: 182kB\n",
       "Dimensions:                       (functional_group: 1, depth: 3, latitude: 1,\n",
       "                                   longitude: 1, time: 1827, cohort: 11)\n",
       "Coordinates:\n",
       "  * functional_group              (functional_group) int64 8B 0\n",
       "  * depth                         (depth) int32 12B 1 2 3\n",
       "  * latitude                      (latitude) float64 8B 22.75\n",
       "  * longitude                     (longitude) int64 8B -158\n",
       "  * time                          (time) datetime64[ns] 15kB 2005-01-01 ... 2...\n",
       "  * cohort                        (cohort) int64 88B 0 1 2 3 4 5 6 7 8 9 10\n",
       "Data variables: (12/28)\n",
       "    name                          (functional_group) <U4 16B 'D1N1'\n",
       "    energy_transfert              (functional_group) float64 8B 0.1668\n",
       "    inv_lambda_max                (functional_group) float64 8B 150.0\n",
       "    inv_lambda_rate               (functional_group) float64 8B 0.15\n",
       "    temperature_recruitment_max   (functional_group) float64 8B 10.38\n",
       "    temperature_recruitment_rate  (functional_group) float64 8B -0.11\n",
       "    ...                            ...\n",
       "    min_temperature               (functional_group, cohort) float64 88B 21.2...\n",
       "    mask_temperature              (functional_group, time, latitude, longitude, cohort) bool 20kB ...\n",
       "    cell_area                     (latitude, longitude) float64 8B 7.918e+07\n",
       "    mortality_field               (functional_group, time, latitude, longitude) float64 15kB ...\n",
       "    recruited                     (functional_group, time, latitude, longitude) float64 15kB ...\n",
       "    biomass                       (functional_group, time, latitude, longitude) float64 15kB ..."
      ]
     },
     "execution_count": 27,
     "metadata": {},
     "output_type": "execute_result"
    }
   ],
   "source": [
    "model_print.state"
   ]
  },
  {
   "cell_type": "markdown",
   "metadata": {},
   "source": [
    "## Plot\n"
   ]
  },
  {
   "cell_type": "code",
   "execution_count": 28,
   "metadata": {},
   "outputs": [],
   "source": [
    "biomass = model_print.export_biomass().pint.quantify().pint.to(\"mg/meter^2\")\n",
    "layer_depth = data.pelagic_layer_depth.sel(depth=1).drop_vars(\"depth\") * pint.application_registry(\"meter\")\n",
    "observations = observations.pint.quantify().pint.to(\"mg/meter^2\")"
   ]
  },
  {
   "cell_type": "markdown",
   "metadata": {},
   "source": [
    "### Taylor Diagram\n"
   ]
  },
  {
   "cell_type": "code",
   "execution_count": 29,
   "metadata": {},
   "outputs": [],
   "source": [
    "biomass_pandas = biomass.pint.dequantify().to_dataframe().reset_index().set_index(\"time\")[\"biomass\"]\n",
    "observations_day_pandas = (\n",
    "    observations.pint.dequantify().day.dropna(\"time\").to_dataframe().reset_index().set_index(\"time\")[\"day\"]\n",
    ")\n",
    "observations_night_pandas = (\n",
    "    observations.pint.dequantify().night.dropna(\"time\").to_dataframe().reset_index().set_index(\"time\")[\"night\"]\n",
    ")\n",
    "layer_pandas = layer_depth.pint.dequantify().to_dataframe().reset_index().set_index(\"time\")[\"pelagic_layer_depth\"]\n",
    "\n",
    "monthly_obs_day = observations_day_pandas.resample(\"ME\").mean()[TIME_START:TIME_END].dropna()\n",
    "monthly_obs_day.index = monthly_obs_day.index.to_period(\"M\").to_timestamp()\n",
    "\n",
    "monthly_obs_night = observations_night_pandas.resample(\"ME\").mean()[TIME_START:TIME_END].dropna()\n",
    "monthly_obs_night.index = monthly_obs_night.index.to_period(\"M\").to_timestamp()\n",
    "\n",
    "monthly_pred = biomass_pandas.resample(\"ME\").mean()[TIME_START:TIME_END].dropna()\n",
    "monthly_pred.index = monthly_pred.index.to_period(\"M\").to_timestamp()\n",
    "\n",
    "monthly_layer = layer_pandas.resample(\"ME\").mean()[TIME_START:TIME_END].dropna()\n",
    "monthly_layer.index = monthly_layer.index.to_period(\"M\").to_timestamp()"
   ]
  },
  {
   "cell_type": "code",
   "execution_count": 30,
   "metadata": {},
   "outputs": [
    {
     "data": {
      "application/vnd.plotly.v1+json": {
       "config": {
        "plotlyServerURL": "https://plot.ly"
       },
       "data": [
        {
         "line": {
          "color": "red",
          "width": 1
         },
         "mode": "lines",
         "name": "Observations (day)",
         "type": "scatter",
         "x": [
          "2005-02-01T00:00:00",
          "2005-03-01T00:00:00",
          "2005-06-01T00:00:00",
          "2005-07-01T00:00:00",
          "2005-08-01T00:00:00",
          "2005-10-01T00:00:00",
          "2005-11-01T00:00:00",
          "2005-12-01T00:00:00",
          "2006-02-01T00:00:00",
          "2006-03-01T00:00:00",
          "2006-04-01T00:00:00",
          "2006-06-01T00:00:00",
          "2006-09-01T00:00:00",
          "2006-10-01T00:00:00",
          "2006-11-01T00:00:00",
          "2006-12-01T00:00:00",
          "2007-02-01T00:00:00",
          "2007-03-01T00:00:00",
          "2007-05-01T00:00:00",
          "2007-06-01T00:00:00",
          "2007-07-01T00:00:00",
          "2007-09-01T00:00:00",
          "2007-10-01T00:00:00",
          "2007-12-01T00:00:00",
          "2008-01-01T00:00:00",
          "2008-02-01T00:00:00",
          "2008-05-01T00:00:00",
          "2008-06-01T00:00:00",
          "2008-08-01T00:00:00",
          "2008-10-01T00:00:00",
          "2008-11-01T00:00:00",
          "2008-12-01T00:00:00",
          "2009-01-01T00:00:00",
          "2009-02-01T00:00:00",
          "2009-04-01T00:00:00",
          "2009-05-01T00:00:00",
          "2009-07-01T00:00:00",
          "2009-09-01T00:00:00",
          "2009-11-01T00:00:00",
          "2009-12-01T00:00:00"
         ],
         "y": [
          129.624124474013,
          234.2175956391379,
          297.7116895188337,
          343.3669214424939,
          397.2954289602646,
          310.5844692895031,
          293.18708454289686,
          192.66075777516545,
          185.6526561862081,
          203.04765366759563,
          185.6262338489918,
          262.58792520561946,
          286.73276261415197,
          263.187427214726,
          159.73236177576626,
          114.12569801551359,
          291.83731297878796,
          236.72880680590816,
          300.52656630464907,
          361.58113463412815,
          329.5948922272554,
          402.3824665716385,
          232.21019647310956,
          181.064495581535,
          129.74281296512063,
          129.05821800503827,
          277.113584643072,
          401.3576621076453,
          292.7855924095362,
          250.23021705519128,
          157.99128605673212,
          222.38519301274263,
          49.59509361147698,
          179.4046853090318,
          175.0204158110633,
          416.7657754282638,
          146.9114506007012,
          283.32334099600513,
          115.03212367065039,
          207.35448516110506
         ]
        },
        {
         "fill": "tonexty",
         "line": {
          "color": "rgba(180, 180, 180, 0.2)",
          "width": 1
         },
         "mode": "lines",
         "name": "Observations (night)",
         "type": "scatter",
         "x": [
          "2005-02-01T00:00:00",
          "2005-03-01T00:00:00",
          "2005-06-01T00:00:00",
          "2005-07-01T00:00:00",
          "2005-08-01T00:00:00",
          "2005-10-01T00:00:00",
          "2005-11-01T00:00:00",
          "2005-12-01T00:00:00",
          "2006-02-01T00:00:00",
          "2006-03-01T00:00:00",
          "2006-04-01T00:00:00",
          "2006-06-01T00:00:00",
          "2006-09-01T00:00:00",
          "2006-10-01T00:00:00",
          "2006-11-01T00:00:00",
          "2006-12-01T00:00:00",
          "2007-02-01T00:00:00",
          "2007-03-01T00:00:00",
          "2007-05-01T00:00:00",
          "2007-06-01T00:00:00",
          "2007-07-01T00:00:00",
          "2007-09-01T00:00:00",
          "2007-10-01T00:00:00",
          "2007-12-01T00:00:00",
          "2008-01-01T00:00:00",
          "2008-02-01T00:00:00",
          "2008-05-01T00:00:00",
          "2008-06-01T00:00:00",
          "2008-08-01T00:00:00",
          "2008-10-01T00:00:00",
          "2008-11-01T00:00:00",
          "2008-12-01T00:00:00",
          "2009-01-01T00:00:00",
          "2009-02-01T00:00:00",
          "2009-04-01T00:00:00",
          "2009-05-01T00:00:00",
          "2009-07-01T00:00:00",
          "2009-09-01T00:00:00",
          "2009-11-01T00:00:00",
          "2009-12-01T00:00:00"
         ],
         "y": [
          311.2660641986779,
          422.74541477917626,
          410.12685721497905,
          438.1315410064518,
          575.6886701903811,
          320.16900103833416,
          399.3360929302215,
          292.33030715913924,
          287.4348012191698,
          361.11449493064106,
          401.84895870440374,
          428.2469032922252,
          341.6999442416162,
          369.31001452376955,
          344.25845997979434,
          217.8194641704282,
          410.8534136867511,
          419.5771550222229,
          547.9308357905682,
          514.8137530302613,
          534.3037312482071,
          684.5289060294123,
          415.4314039969363,
          281.57066991999227,
          214.7126169062883,
          263.7523774113198,
          409.62286737762616,
          494.6507934657993,
          367.1083872235174,
          331.8167208270913,
          479.1847605422972,
          470.81495020759496,
          147.9058251957733,
          222.6260079612251,
          259.31830283833125,
          591.1972202501328,
          418.3716051796737,
          356.4387871491723,
          293.67534101178416,
          306.4898277443373
         ]
        },
        {
         "line": {
          "color": "black"
         },
         "mode": "lines",
         "name": "Predictions",
         "type": "scatter",
         "x": [
          "2005-01-01T00:00:00",
          "2005-02-01T00:00:00",
          "2005-03-01T00:00:00",
          "2005-04-01T00:00:00",
          "2005-05-01T00:00:00",
          "2005-06-01T00:00:00",
          "2005-07-01T00:00:00",
          "2005-08-01T00:00:00",
          "2005-09-01T00:00:00",
          "2005-10-01T00:00:00",
          "2005-11-01T00:00:00",
          "2005-12-01T00:00:00",
          "2006-01-01T00:00:00",
          "2006-02-01T00:00:00",
          "2006-03-01T00:00:00",
          "2006-04-01T00:00:00",
          "2006-05-01T00:00:00",
          "2006-06-01T00:00:00",
          "2006-07-01T00:00:00",
          "2006-08-01T00:00:00",
          "2006-09-01T00:00:00",
          "2006-10-01T00:00:00",
          "2006-11-01T00:00:00",
          "2006-12-01T00:00:00",
          "2007-01-01T00:00:00",
          "2007-02-01T00:00:00",
          "2007-03-01T00:00:00",
          "2007-04-01T00:00:00",
          "2007-05-01T00:00:00",
          "2007-06-01T00:00:00",
          "2007-07-01T00:00:00",
          "2007-08-01T00:00:00",
          "2007-09-01T00:00:00",
          "2007-10-01T00:00:00",
          "2007-11-01T00:00:00",
          "2007-12-01T00:00:00",
          "2008-01-01T00:00:00",
          "2008-02-01T00:00:00",
          "2008-03-01T00:00:00",
          "2008-04-01T00:00:00",
          "2008-05-01T00:00:00",
          "2008-06-01T00:00:00",
          "2008-07-01T00:00:00",
          "2008-08-01T00:00:00",
          "2008-09-01T00:00:00",
          "2008-10-01T00:00:00",
          "2008-11-01T00:00:00",
          "2008-12-01T00:00:00",
          "2009-01-01T00:00:00",
          "2009-02-01T00:00:00",
          "2009-03-01T00:00:00",
          "2009-04-01T00:00:00",
          "2009-05-01T00:00:00",
          "2009-06-01T00:00:00",
          "2009-07-01T00:00:00",
          "2009-08-01T00:00:00",
          "2009-09-01T00:00:00",
          "2009-10-01T00:00:00",
          "2009-11-01T00:00:00",
          "2009-12-01T00:00:00"
         ],
         "y": [
          226.4806949183155,
          312.95947608659134,
          359.6709037793817,
          384.2663080642188,
          345.75646505600935,
          352.42964691386845,
          391.9192153170354,
          347.49719689527365,
          292.14566014440516,
          261.90606056598943,
          256.81908693793207,
          221.63417802913528,
          230.17360309920645,
          282.24373534974706,
          315.930940313418,
          347.0619747703983,
          435.2631153165098,
          354.60353986590286,
          343.2962177986871,
          334.5578094474638,
          292.7515446936529,
          316.8151572526786,
          258.06085889448843,
          236.46333256078927,
          251.24205286198023,
          305.1778414768902,
          334.67200348354396,
          361.40444844276004,
          332.6682524802625,
          316.8293056474719,
          352.94419489498154,
          342.4111794193065,
          325.52034134127456,
          283.51045674149765,
          258.59806512440133,
          242.69096614901687,
          260.7512680477507,
          299.52267218583887,
          308.77534217546645,
          330.9940942222928,
          351.88788077900796,
          338.17792781102725,
          316.13911763765503,
          328.8824273090659,
          343.9878533028702,
          311.6772863082321,
          265.27539070137453,
          231.11225866265997,
          263.6947115284841,
          298.1350376654257,
          352.75874321885055,
          406.4341361215292,
          371.92815321032134,
          328.93344392303254,
          307.9142317204832,
          361.90168420357674,
          324.80342145793367,
          285.39578649899374,
          260.6460430181251,
          271.1851571288014
         ]
        },
        {
         "hovertemplate": "variable=pelagic_layer_depth<br>time=%{x}<br>value=%{y}<extra></extra>",
         "legendgroup": "pelagic_layer_depth",
         "line": {
          "color": "green",
          "dash": "dash",
          "width": 1
         },
         "marker": {
          "symbol": "circle"
         },
         "mode": "lines",
         "name": "pelagic_layer_depth",
         "orientation": "v",
         "showlegend": true,
         "type": "scatter",
         "x": [
          "2005-01-01T00:00:00",
          "2005-02-01T00:00:00",
          "2005-03-01T00:00:00",
          "2005-04-01T00:00:00",
          "2005-05-01T00:00:00",
          "2005-06-01T00:00:00",
          "2005-07-01T00:00:00",
          "2005-08-01T00:00:00",
          "2005-09-01T00:00:00",
          "2005-10-01T00:00:00",
          "2005-11-01T00:00:00",
          "2005-12-01T00:00:00",
          "2006-01-01T00:00:00",
          "2006-02-01T00:00:00",
          "2006-03-01T00:00:00",
          "2006-04-01T00:00:00",
          "2006-05-01T00:00:00",
          "2006-06-01T00:00:00",
          "2006-07-01T00:00:00",
          "2006-08-01T00:00:00",
          "2006-09-01T00:00:00",
          "2006-10-01T00:00:00",
          "2006-11-01T00:00:00",
          "2006-12-01T00:00:00",
          "2007-01-01T00:00:00",
          "2007-02-01T00:00:00",
          "2007-03-01T00:00:00",
          "2007-04-01T00:00:00",
          "2007-05-01T00:00:00",
          "2007-06-01T00:00:00",
          "2007-07-01T00:00:00",
          "2007-08-01T00:00:00",
          "2007-09-01T00:00:00",
          "2007-10-01T00:00:00",
          "2007-11-01T00:00:00",
          "2007-12-01T00:00:00",
          "2008-01-01T00:00:00",
          "2008-02-01T00:00:00",
          "2008-03-01T00:00:00",
          "2008-04-01T00:00:00",
          "2008-05-01T00:00:00",
          "2008-06-01T00:00:00",
          "2008-07-01T00:00:00",
          "2008-08-01T00:00:00",
          "2008-09-01T00:00:00",
          "2008-10-01T00:00:00",
          "2008-11-01T00:00:00",
          "2008-12-01T00:00:00",
          "2009-01-01T00:00:00",
          "2009-02-01T00:00:00",
          "2009-03-01T00:00:00",
          "2009-04-01T00:00:00",
          "2009-05-01T00:00:00",
          "2009-06-01T00:00:00",
          "2009-07-01T00:00:00",
          "2009-08-01T00:00:00",
          "2009-09-01T00:00:00",
          "2009-10-01T00:00:00",
          "2009-11-01T00:00:00",
          "2009-12-01T00:00:00"
         ],
         "xaxis": "x",
         "y": [
          111.69756716211853,
          119.66947906634014,
          121.2963354844064,
          127.49425606923107,
          139.5728184813395,
          139.27651056670345,
          124.71686067717022,
          120.62199552226537,
          125.83487929321616,
          127.04231769837597,
          120.78001156006546,
          119.8637470393017,
          113.68431830447379,
          114.09328861973295,
          118.57483240056382,
          126.53136312896414,
          133.3412231131421,
          137.51594956349143,
          127.07740083713998,
          129.32714079234972,
          135.42755611916257,
          128.0651178375492,
          122.97538073386355,
          117.26430741060572,
          114.5881267840604,
          114.16482719690646,
          129.48682027031853,
          130.8275440644631,
          134.17982330101685,
          141.3721990763943,
          137.6532696032526,
          136.06957037305693,
          134.13521579964524,
          125.48712688662292,
          120.87657372294919,
          111.73518318494074,
          107.72886118977358,
          117.69765729905684,
          131.89952706365779,
          134.542737084526,
          139.23508264319216,
          139.21035379074846,
          136.35885806719685,
          128.10338055417353,
          121.44102244439652,
          123.16921462644167,
          113.31782794496466,
          111.72887792037027,
          111.00000011425202,
          118.29873071606137,
          116.5557465681035,
          124.17806414320624,
          134.13644092512587,
          143.97831941134032,
          144.15313511702166,
          130.81550657788566,
          132.62853420853645,
          133.82834521957483,
          122.03754717842804,
          114.44078837948167
         ],
         "yaxis": "y2"
        }
       ],
       "layout": {
        "template": {
         "data": {
          "bar": [
           {
            "error_x": {
             "color": "#2a3f5f"
            },
            "error_y": {
             "color": "#2a3f5f"
            },
            "marker": {
             "line": {
              "color": "#E5ECF6",
              "width": 0.5
             },
             "pattern": {
              "fillmode": "overlay",
              "size": 10,
              "solidity": 0.2
             }
            },
            "type": "bar"
           }
          ],
          "barpolar": [
           {
            "marker": {
             "line": {
              "color": "#E5ECF6",
              "width": 0.5
             },
             "pattern": {
              "fillmode": "overlay",
              "size": 10,
              "solidity": 0.2
             }
            },
            "type": "barpolar"
           }
          ],
          "carpet": [
           {
            "aaxis": {
             "endlinecolor": "#2a3f5f",
             "gridcolor": "white",
             "linecolor": "white",
             "minorgridcolor": "white",
             "startlinecolor": "#2a3f5f"
            },
            "baxis": {
             "endlinecolor": "#2a3f5f",
             "gridcolor": "white",
             "linecolor": "white",
             "minorgridcolor": "white",
             "startlinecolor": "#2a3f5f"
            },
            "type": "carpet"
           }
          ],
          "choropleth": [
           {
            "colorbar": {
             "outlinewidth": 0,
             "ticks": ""
            },
            "type": "choropleth"
           }
          ],
          "contour": [
           {
            "colorbar": {
             "outlinewidth": 0,
             "ticks": ""
            },
            "colorscale": [
             [
              0,
              "#0d0887"
             ],
             [
              0.1111111111111111,
              "#46039f"
             ],
             [
              0.2222222222222222,
              "#7201a8"
             ],
             [
              0.3333333333333333,
              "#9c179e"
             ],
             [
              0.4444444444444444,
              "#bd3786"
             ],
             [
              0.5555555555555556,
              "#d8576b"
             ],
             [
              0.6666666666666666,
              "#ed7953"
             ],
             [
              0.7777777777777778,
              "#fb9f3a"
             ],
             [
              0.8888888888888888,
              "#fdca26"
             ],
             [
              1,
              "#f0f921"
             ]
            ],
            "type": "contour"
           }
          ],
          "contourcarpet": [
           {
            "colorbar": {
             "outlinewidth": 0,
             "ticks": ""
            },
            "type": "contourcarpet"
           }
          ],
          "heatmap": [
           {
            "colorbar": {
             "outlinewidth": 0,
             "ticks": ""
            },
            "colorscale": [
             [
              0,
              "#0d0887"
             ],
             [
              0.1111111111111111,
              "#46039f"
             ],
             [
              0.2222222222222222,
              "#7201a8"
             ],
             [
              0.3333333333333333,
              "#9c179e"
             ],
             [
              0.4444444444444444,
              "#bd3786"
             ],
             [
              0.5555555555555556,
              "#d8576b"
             ],
             [
              0.6666666666666666,
              "#ed7953"
             ],
             [
              0.7777777777777778,
              "#fb9f3a"
             ],
             [
              0.8888888888888888,
              "#fdca26"
             ],
             [
              1,
              "#f0f921"
             ]
            ],
            "type": "heatmap"
           }
          ],
          "heatmapgl": [
           {
            "colorbar": {
             "outlinewidth": 0,
             "ticks": ""
            },
            "colorscale": [
             [
              0,
              "#0d0887"
             ],
             [
              0.1111111111111111,
              "#46039f"
             ],
             [
              0.2222222222222222,
              "#7201a8"
             ],
             [
              0.3333333333333333,
              "#9c179e"
             ],
             [
              0.4444444444444444,
              "#bd3786"
             ],
             [
              0.5555555555555556,
              "#d8576b"
             ],
             [
              0.6666666666666666,
              "#ed7953"
             ],
             [
              0.7777777777777778,
              "#fb9f3a"
             ],
             [
              0.8888888888888888,
              "#fdca26"
             ],
             [
              1,
              "#f0f921"
             ]
            ],
            "type": "heatmapgl"
           }
          ],
          "histogram": [
           {
            "marker": {
             "pattern": {
              "fillmode": "overlay",
              "size": 10,
              "solidity": 0.2
             }
            },
            "type": "histogram"
           }
          ],
          "histogram2d": [
           {
            "colorbar": {
             "outlinewidth": 0,
             "ticks": ""
            },
            "colorscale": [
             [
              0,
              "#0d0887"
             ],
             [
              0.1111111111111111,
              "#46039f"
             ],
             [
              0.2222222222222222,
              "#7201a8"
             ],
             [
              0.3333333333333333,
              "#9c179e"
             ],
             [
              0.4444444444444444,
              "#bd3786"
             ],
             [
              0.5555555555555556,
              "#d8576b"
             ],
             [
              0.6666666666666666,
              "#ed7953"
             ],
             [
              0.7777777777777778,
              "#fb9f3a"
             ],
             [
              0.8888888888888888,
              "#fdca26"
             ],
             [
              1,
              "#f0f921"
             ]
            ],
            "type": "histogram2d"
           }
          ],
          "histogram2dcontour": [
           {
            "colorbar": {
             "outlinewidth": 0,
             "ticks": ""
            },
            "colorscale": [
             [
              0,
              "#0d0887"
             ],
             [
              0.1111111111111111,
              "#46039f"
             ],
             [
              0.2222222222222222,
              "#7201a8"
             ],
             [
              0.3333333333333333,
              "#9c179e"
             ],
             [
              0.4444444444444444,
              "#bd3786"
             ],
             [
              0.5555555555555556,
              "#d8576b"
             ],
             [
              0.6666666666666666,
              "#ed7953"
             ],
             [
              0.7777777777777778,
              "#fb9f3a"
             ],
             [
              0.8888888888888888,
              "#fdca26"
             ],
             [
              1,
              "#f0f921"
             ]
            ],
            "type": "histogram2dcontour"
           }
          ],
          "mesh3d": [
           {
            "colorbar": {
             "outlinewidth": 0,
             "ticks": ""
            },
            "type": "mesh3d"
           }
          ],
          "parcoords": [
           {
            "line": {
             "colorbar": {
              "outlinewidth": 0,
              "ticks": ""
             }
            },
            "type": "parcoords"
           }
          ],
          "pie": [
           {
            "automargin": true,
            "type": "pie"
           }
          ],
          "scatter": [
           {
            "fillpattern": {
             "fillmode": "overlay",
             "size": 10,
             "solidity": 0.2
            },
            "type": "scatter"
           }
          ],
          "scatter3d": [
           {
            "line": {
             "colorbar": {
              "outlinewidth": 0,
              "ticks": ""
             }
            },
            "marker": {
             "colorbar": {
              "outlinewidth": 0,
              "ticks": ""
             }
            },
            "type": "scatter3d"
           }
          ],
          "scattercarpet": [
           {
            "marker": {
             "colorbar": {
              "outlinewidth": 0,
              "ticks": ""
             }
            },
            "type": "scattercarpet"
           }
          ],
          "scattergeo": [
           {
            "marker": {
             "colorbar": {
              "outlinewidth": 0,
              "ticks": ""
             }
            },
            "type": "scattergeo"
           }
          ],
          "scattergl": [
           {
            "marker": {
             "colorbar": {
              "outlinewidth": 0,
              "ticks": ""
             }
            },
            "type": "scattergl"
           }
          ],
          "scattermapbox": [
           {
            "marker": {
             "colorbar": {
              "outlinewidth": 0,
              "ticks": ""
             }
            },
            "type": "scattermapbox"
           }
          ],
          "scatterpolar": [
           {
            "marker": {
             "colorbar": {
              "outlinewidth": 0,
              "ticks": ""
             }
            },
            "type": "scatterpolar"
           }
          ],
          "scatterpolargl": [
           {
            "marker": {
             "colorbar": {
              "outlinewidth": 0,
              "ticks": ""
             }
            },
            "type": "scatterpolargl"
           }
          ],
          "scatterternary": [
           {
            "marker": {
             "colorbar": {
              "outlinewidth": 0,
              "ticks": ""
             }
            },
            "type": "scatterternary"
           }
          ],
          "surface": [
           {
            "colorbar": {
             "outlinewidth": 0,
             "ticks": ""
            },
            "colorscale": [
             [
              0,
              "#0d0887"
             ],
             [
              0.1111111111111111,
              "#46039f"
             ],
             [
              0.2222222222222222,
              "#7201a8"
             ],
             [
              0.3333333333333333,
              "#9c179e"
             ],
             [
              0.4444444444444444,
              "#bd3786"
             ],
             [
              0.5555555555555556,
              "#d8576b"
             ],
             [
              0.6666666666666666,
              "#ed7953"
             ],
             [
              0.7777777777777778,
              "#fb9f3a"
             ],
             [
              0.8888888888888888,
              "#fdca26"
             ],
             [
              1,
              "#f0f921"
             ]
            ],
            "type": "surface"
           }
          ],
          "table": [
           {
            "cells": {
             "fill": {
              "color": "#EBF0F8"
             },
             "line": {
              "color": "white"
             }
            },
            "header": {
             "fill": {
              "color": "#C8D4E3"
             },
             "line": {
              "color": "white"
             }
            },
            "type": "table"
           }
          ]
         },
         "layout": {
          "annotationdefaults": {
           "arrowcolor": "#2a3f5f",
           "arrowhead": 0,
           "arrowwidth": 1
          },
          "autotypenumbers": "strict",
          "coloraxis": {
           "colorbar": {
            "outlinewidth": 0,
            "ticks": ""
           }
          },
          "colorscale": {
           "diverging": [
            [
             0,
             "#8e0152"
            ],
            [
             0.1,
             "#c51b7d"
            ],
            [
             0.2,
             "#de77ae"
            ],
            [
             0.3,
             "#f1b6da"
            ],
            [
             0.4,
             "#fde0ef"
            ],
            [
             0.5,
             "#f7f7f7"
            ],
            [
             0.6,
             "#e6f5d0"
            ],
            [
             0.7,
             "#b8e186"
            ],
            [
             0.8,
             "#7fbc41"
            ],
            [
             0.9,
             "#4d9221"
            ],
            [
             1,
             "#276419"
            ]
           ],
           "sequential": [
            [
             0,
             "#0d0887"
            ],
            [
             0.1111111111111111,
             "#46039f"
            ],
            [
             0.2222222222222222,
             "#7201a8"
            ],
            [
             0.3333333333333333,
             "#9c179e"
            ],
            [
             0.4444444444444444,
             "#bd3786"
            ],
            [
             0.5555555555555556,
             "#d8576b"
            ],
            [
             0.6666666666666666,
             "#ed7953"
            ],
            [
             0.7777777777777778,
             "#fb9f3a"
            ],
            [
             0.8888888888888888,
             "#fdca26"
            ],
            [
             1,
             "#f0f921"
            ]
           ],
           "sequentialminus": [
            [
             0,
             "#0d0887"
            ],
            [
             0.1111111111111111,
             "#46039f"
            ],
            [
             0.2222222222222222,
             "#7201a8"
            ],
            [
             0.3333333333333333,
             "#9c179e"
            ],
            [
             0.4444444444444444,
             "#bd3786"
            ],
            [
             0.5555555555555556,
             "#d8576b"
            ],
            [
             0.6666666666666666,
             "#ed7953"
            ],
            [
             0.7777777777777778,
             "#fb9f3a"
            ],
            [
             0.8888888888888888,
             "#fdca26"
            ],
            [
             1,
             "#f0f921"
            ]
           ]
          },
          "colorway": [
           "#636efa",
           "#EF553B",
           "#00cc96",
           "#ab63fa",
           "#FFA15A",
           "#19d3f3",
           "#FF6692",
           "#B6E880",
           "#FF97FF",
           "#FECB52"
          ],
          "font": {
           "color": "#2a3f5f"
          },
          "geo": {
           "bgcolor": "white",
           "lakecolor": "white",
           "landcolor": "#E5ECF6",
           "showlakes": true,
           "showland": true,
           "subunitcolor": "white"
          },
          "hoverlabel": {
           "align": "left"
          },
          "hovermode": "closest",
          "mapbox": {
           "style": "light"
          },
          "paper_bgcolor": "white",
          "plot_bgcolor": "#E5ECF6",
          "polar": {
           "angularaxis": {
            "gridcolor": "white",
            "linecolor": "white",
            "ticks": ""
           },
           "bgcolor": "#E5ECF6",
           "radialaxis": {
            "gridcolor": "white",
            "linecolor": "white",
            "ticks": ""
           }
          },
          "scene": {
           "xaxis": {
            "backgroundcolor": "#E5ECF6",
            "gridcolor": "white",
            "gridwidth": 2,
            "linecolor": "white",
            "showbackground": true,
            "ticks": "",
            "zerolinecolor": "white"
           },
           "yaxis": {
            "backgroundcolor": "#E5ECF6",
            "gridcolor": "white",
            "gridwidth": 2,
            "linecolor": "white",
            "showbackground": true,
            "ticks": "",
            "zerolinecolor": "white"
           },
           "zaxis": {
            "backgroundcolor": "#E5ECF6",
            "gridcolor": "white",
            "gridwidth": 2,
            "linecolor": "white",
            "showbackground": true,
            "ticks": "",
            "zerolinecolor": "white"
           }
          },
          "shapedefaults": {
           "line": {
            "color": "#2a3f5f"
           }
          },
          "ternary": {
           "aaxis": {
            "gridcolor": "white",
            "linecolor": "white",
            "ticks": ""
           },
           "baxis": {
            "gridcolor": "white",
            "linecolor": "white",
            "ticks": ""
           },
           "bgcolor": "#E5ECF6",
           "caxis": {
            "gridcolor": "white",
            "linecolor": "white",
            "ticks": ""
           }
          },
          "title": {
           "x": 0.05
          },
          "xaxis": {
           "automargin": true,
           "gridcolor": "white",
           "linecolor": "white",
           "ticks": "",
           "title": {
            "standoff": 15
           },
           "zerolinecolor": "white",
           "zerolinewidth": 2
          },
          "yaxis": {
           "automargin": true,
           "gridcolor": "white",
           "linecolor": "white",
           "ticks": "",
           "title": {
            "standoff": 15
           },
           "zerolinecolor": "white",
           "zerolinewidth": 2
          }
         }
        },
        "title": {
         "text": "SeapoPym Monthly Biomass (CAFE npp) and Observations : HOT station"
        },
        "xaxis": {
         "title": {
          "text": "Time"
         }
        },
        "yaxis": {
         "title": {
          "text": "Biomass . Epipelagic layer depth (mg/m^2)"
         }
        },
        "yaxis2": {
         "overlaying": "y",
         "side": "right",
         "title": {
          "text": "Layer Depth (m)"
         }
        }
       }
      }
     },
     "metadata": {},
     "output_type": "display_data"
    }
   ],
   "source": [
    "fig = go.Figure(\n",
    "    layout={\n",
    "        \"title\": \"SeapoPym Monthly Biomass (CAFE npp) and Observations : HOT station\",\n",
    "        \"xaxis\": {\"title\": \"Time\"},\n",
    "        \"yaxis\": {\"title\": \"Biomass . Epipelagic layer depth (mg/m^2)\"},\n",
    "    }\n",
    ")\n",
    "\n",
    "\n",
    "fig.add_trace(\n",
    "    go.Scatter(\n",
    "        x=monthly_obs_day.index,\n",
    "        y=monthly_obs_day,\n",
    "        fill=None,\n",
    "        mode=\"lines\",\n",
    "        line={\"color\": \"red\", \"width\": 1},\n",
    "        name=\"Observations (day)\",\n",
    "    )\n",
    ")\n",
    "\n",
    "fig.add_trace(\n",
    "    go.Scatter(\n",
    "        x=monthly_obs_night.index,\n",
    "        y=monthly_obs_night,\n",
    "        fill=\"tonexty\",\n",
    "        mode=\"lines\",\n",
    "        line={\"color\": \"rgba(180, 180, 180, 0.2)\", \"width\": 1},\n",
    "        name=\"Observations (night)\",\n",
    "    )\n",
    ")\n",
    "fig.add_trace(\n",
    "    go.Scatter(\n",
    "        x=monthly_pred.index,\n",
    "        y=monthly_pred,\n",
    "        fill=None,\n",
    "        mode=\"lines\",\n",
    "        line={\"color\": \"black\"},\n",
    "        name=\"Predictions\",\n",
    "    )\n",
    ")\n",
    "fig.add_trace(px.line(monthly_layer).data[0])\n",
    "fig.update_traces(\n",
    "    yaxis=\"y2\",\n",
    "    selector={\"name\": \"pelagic_layer_depth\"},\n",
    "    line={\"color\": \"green\", \"width\": 1, \"dash\": \"dash\"},\n",
    ")\n",
    "fig.update_layout(yaxis2={\"title\": \"Layer Depth (m)\", \"overlaying\": \"y\", \"side\": \"right\"})\n",
    "\n",
    "fig.show()"
   ]
  },
  {
   "cell_type": "code",
   "execution_count": 31,
   "metadata": {},
   "outputs": [],
   "source": [
    "fig.write_html(f\"Biomass_{export_file_name}.html\")"
   ]
  },
  {
   "cell_type": "code",
   "execution_count": 32,
   "metadata": {},
   "outputs": [
    {
     "name": "stdout",
     "output_type": "stream",
     "text": [
      "correlation [0.5099267641194015, 0.4507823640535488]\n",
      "norm STD [0.5003845932931347, 0.3964237714406932]\n",
      "bias [0.7481894193464954, -0.681238878206601]\n",
      "NRMSE [0.8602707412546319, 0.894287491162179]\n",
      "name ['HOT Day', 'HOT Night']\n"
     ]
    },
    {
     "data": {
      "image/png": "[encoded data removed]",
      "text/plain": [
       "<Figure size 1000x800 with 2 Axes>"
      ]
     },
     "metadata": {},
     "output_type": "display_data"
    }
   ],
   "source": [
    "diagram = ModTaylorDiagram()\n",
    "\n",
    "all_model = [monthly_pred, monthly_pred]\n",
    "all_obs = [monthly_obs_day, monthly_obs_night]\n",
    "\n",
    "all_names = [\"HOT Day\", \"HOT Night\"]\n",
    "\n",
    "for model, obs, name in zip(all_model, all_obs, all_names):\n",
    "    diagram = generate_mod_taylor_diagram(diagram, obs=obs, model=model[obs.index], name=name)\n",
    "diagram.plot()\n",
    "plt.title(\"Taylor Diagram for Seapodym model at HOT station with CAFE NPP\")\n",
    "\n",
    "# export the figure\n",
    "plt.savefig(f\"Taylor_{export_file_name}.png\")\n",
    "\n",
    "plt.show()"
   ]
  },
  {
   "cell_type": "code",
   "execution_count": 33,
   "metadata": {},
   "outputs": [
    {
     "data": {
      "text/html": [
       "<div>\n",
       "<style scoped>\n",
       "    .dataframe tbody tr th:only-of-type {\n",
       "        vertical-align: middle;\n",
       "    }\n",
       "\n",
       "    .dataframe tbody tr th {\n",
       "        vertical-align: top;\n",
       "    }\n",
       "\n",
       "    .dataframe thead th {\n",
       "        text-align: right;\n",
       "    }\n",
       "</style>\n",
       "<table border=\"1\" class=\"dataframe\">\n",
       "  <thead>\n",
       "    <tr style=\"text-align: right;\">\n",
       "      <th></th>\n",
       "      <th>name</th>\n",
       "      <th>correlation_coefficient</th>\n",
       "      <th>normalized_standard_deviation</th>\n",
       "      <th>bias</th>\n",
       "      <th>normalized_root_mean_square_deviation</th>\n",
       "    </tr>\n",
       "  </thead>\n",
       "  <tbody>\n",
       "    <tr>\n",
       "      <th>0</th>\n",
       "      <td>HOT Day</td>\n",
       "      <td>0.509927</td>\n",
       "      <td>0.500385</td>\n",
       "      <td>0.748189</td>\n",
       "      <td>0.860271</td>\n",
       "    </tr>\n",
       "    <tr>\n",
       "      <th>1</th>\n",
       "      <td>HOT Night</td>\n",
       "      <td>0.450782</td>\n",
       "      <td>0.396424</td>\n",
       "      <td>-0.681239</td>\n",
       "      <td>0.894287</td>\n",
       "    </tr>\n",
       "  </tbody>\n",
       "</table>\n",
       "</div>"
      ],
      "text/plain": [
       "        name  correlation_coefficient  normalized_standard_deviation  \\\n",
       "0    HOT Day                 0.509927                       0.500385   \n",
       "1  HOT Night                 0.450782                       0.396424   \n",
       "\n",
       "       bias  normalized_root_mean_square_deviation  \n",
       "0  0.748189                               0.860271  \n",
       "1 -0.681239                               0.894287  "
      ]
     },
     "execution_count": 33,
     "metadata": {},
     "output_type": "execute_result"
    }
   ],
   "source": [
    "diagram.get_stats().to_csv(f\"Stats_{export_file_name}.csv\", index=False)\n",
    "diagram.get_stats()"
   ]
  }
 ],
 "metadata": {
  "kernelspec": {
   "display_name": ".venv",
   "language": "python",
   "name": "python3"
  },
  "language_info": {
   "codemirror_mode": {
    "name": "ipython",
    "version": 3
   },
   "file_extension": ".py",
   "mimetype": "text/x-python",
   "name": "python",
   "nbconvert_exporter": "python",
   "pygments_lexer": "ipython3",
   "version": "3.12.8"
  }
 },
 "nbformat": 4,
 "nbformat_minor": 2
}
