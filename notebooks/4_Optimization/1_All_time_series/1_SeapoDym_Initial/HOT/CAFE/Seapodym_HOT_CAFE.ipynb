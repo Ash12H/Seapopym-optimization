{
 "cells": [
  {
   "cell_type": "code",
   "execution_count": 1,
   "metadata": {},
   "outputs": [],
   "source": [
    "import cf_xarray.units  # noqa: F401\n",
    "import matplotlib.pyplot as plt\n",
    "import pandas as pd\n",
    "import pint\n",
    "import pint_xarray  # noqa: F401\n",
    "import plotly.express as px\n",
    "import xarray as xr\n",
    "from plotly import graph_objects as go\n",
    "\n",
    "from seapopym_optimization.taylor_diagram import ModTaylorDiagram, generate_mod_taylor_diagram"
   ]
  },
  {
   "cell_type": "markdown",
   "metadata": {},
   "source": [
    "## Commande\n",
    "\n",
    "Paths :\n",
    "\n",
    "```bash\n",
    "SEAPODYM_EXECUTABLE = /Users/ash/Documents/Workspaces/Github/seapodym-project/seapodym-lmtl/build/bin/seapodym-lmtl\n",
    "\n",
    "SEAPODYM_CONFIG_FILE = /Users/ash/Documents/Workspaces/Data/phd/SEAPODYM_LMTL/SEAPODYM_LMTL/configs/SEAPODYM_LMTL_D1N1.xml\n",
    "```\n",
    "\n",
    "Command :\n",
    "\n",
    "```bash\n",
    "mpirun -mca btl ^openib -np 6 \"/Users/ash/Documents/Workspaces/Github/seapodym-project/seapodym-lmtl/build/bin/seapodym-lmtl\" -P -G D1N1 -V error \"/Users/ash/Documents/Workspaces/Data/phd/SEAPODYM_LMTL/2025-01-10_-_CAFE_HOT/zpk.tmpl.xml\"\n",
    "```\n"
   ]
  },
  {
   "cell_type": "code",
   "execution_count": 2,
   "metadata": {},
   "outputs": [],
   "source": [
    "path_to_forcing = \"../../../../../1_data_processing/1_1_Forcing/products/Hot_cmems.zarr\"\n",
    "path_to_product = \"/Users/ash/Documents/Workspaces/Data/phd/SEAPODYM_LMTL/2025-01-10_-_CAFE_HOT/output\"\n",
    "path_to_obs = \"../../../../../1_data_processing/1_1_Forcing/products/Hot_obs_filtered.zarr\"\n",
    "export_file_name = \"SeapoDym_HOT_CAFE_by_epi_layer_depth\""
   ]
  },
  {
   "cell_type": "code",
   "execution_count": 3,
   "metadata": {},
   "outputs": [],
   "source": [
    "LATITUDE = 22.75\n",
    "LONGITUDE = -158\n",
    "TIME_START = \"2005-01-01\"\n",
    "TIME_END = \"2010-01-01\""
   ]
  },
  {
   "cell_type": "markdown",
   "metadata": {},
   "source": [
    "## Loading\n"
   ]
  },
  {
   "cell_type": "markdown",
   "metadata": {},
   "source": [
    "### Prediction\n"
   ]
  },
  {
   "cell_type": "code",
   "execution_count": 4,
   "metadata": {},
   "outputs": [],
   "source": [
    "biomass = xr.open_mfdataset(path_to_product + \"/*biomass*.nc\", combine=\"by_coords\")"
   ]
  },
  {
   "cell_type": "code",
   "execution_count": null,
   "metadata": {},
   "outputs": [],
   "source": [
    "biomass = biomass.sel(latitude=LATITUDE, longitude=LONGITUDE, method=\"nearest\")\n",
    "biomass = biomass.resample(time=\"1D\").mean()\n",
    "biomass = biomass.pint.quantify().pint.to(\"mg/m^2\")\n",
    "biomass = biomass.zpk_epi\n",
    "biomass.load()"
   ]
  },
  {
   "cell_type": "markdown",
   "metadata": {},
   "source": [
    "### Forcing\n"
   ]
  },
  {
   "cell_type": "code",
   "execution_count": 6,
   "metadata": {},
   "outputs": [
    {
     "data": {
      "text/html": [
       "<div><svg style=\"position: absolute; width: 0; height: 0; overflow: hidden\">\n",
       "<defs>\n",
       "<symbol id=\"icon-database\" viewBox=\"0 0 32 32\">\n",
       "<path d=\"M16 0c-8.837 0-16 2.239-16 5v4c0 2.761 7.163 5 16 5s16-2.239 16-5v-4c0-2.761-7.163-5-16-5z\"></path>\n",
       "<path d=\"M16 17c-8.837 0-16-2.239-16-5v6c0 2.761 7.163 5 16 5s16-2.239 16-5v-6c0 2.761-7.163 5-16 5z\"></path>\n",
       "<path d=\"M16 26c-8.837 0-16-2.239-16-5v6c0 2.761 7.163 5 16 5s16-2.239 16-5v-6c0 2.761-7.163 5-16 5z\"></path>\n",
       "</symbol>\n",
       "<symbol id=\"icon-file-text2\" viewBox=\"0 0 32 32\">\n",
       "<path d=\"M28.681 7.159c-0.694-0.947-1.662-2.053-2.724-3.116s-2.169-2.030-3.116-2.724c-1.612-1.182-2.393-1.319-2.841-1.319h-15.5c-1.378 0-2.5 1.121-2.5 2.5v27c0 1.378 1.122 2.5 2.5 2.5h23c1.378 0 2.5-1.122 2.5-2.5v-19.5c0-0.448-0.137-1.23-1.319-2.841zM24.543 5.457c0.959 0.959 1.712 1.825 2.268 2.543h-4.811v-4.811c0.718 0.556 1.584 1.309 2.543 2.268zM28 29.5c0 0.271-0.229 0.5-0.5 0.5h-23c-0.271 0-0.5-0.229-0.5-0.5v-27c0-0.271 0.229-0.5 0.5-0.5 0 0 15.499-0 15.5 0v7c0 0.552 0.448 1 1 1h7v19.5z\"></path>\n",
       "<path d=\"M23 26h-14c-0.552 0-1-0.448-1-1s0.448-1 1-1h14c0.552 0 1 0.448 1 1s-0.448 1-1 1z\"></path>\n",
       "<path d=\"M23 22h-14c-0.552 0-1-0.448-1-1s0.448-1 1-1h14c0.552 0 1 0.448 1 1s-0.448 1-1 1z\"></path>\n",
       "<path d=\"M23 18h-14c-0.552 0-1-0.448-1-1s0.448-1 1-1h14c0.552 0 1 0.448 1 1s-0.448 1-1 1z\"></path>\n",
       "</symbol>\n",
       "</defs>\n",
       "</svg>\n",
       "<style>/* CSS stylesheet for displaying xarray objects in jupyterlab.\n",
       " *\n",
       " */\n",
       "\n",
       ":root {\n",
       "  --xr-font-color0: var(--jp-content-font-color0, rgba(0, 0, 0, 1));\n",
       "  --xr-font-color2: var(--jp-content-font-color2, rgba(0, 0, 0, 0.54));\n",
       "  --xr-font-color3: var(--jp-content-font-color3, rgba(0, 0, 0, 0.38));\n",
       "  --xr-border-color: var(--jp-border-color2, #e0e0e0);\n",
       "  --xr-disabled-color: var(--jp-layout-color3, #bdbdbd);\n",
       "  --xr-background-color: var(--jp-layout-color0, white);\n",
       "  --xr-background-color-row-even: var(--jp-layout-color1, white);\n",
       "  --xr-background-color-row-odd: var(--jp-layout-color2, #eeeeee);\n",
       "}\n",
       "\n",
       "html[theme=dark],\n",
       "html[data-theme=dark],\n",
       "body[data-theme=dark],\n",
       "body.vscode-dark {\n",
       "  --xr-font-color0: rgba(255, 255, 255, 1);\n",
       "  --xr-font-color2: rgba(255, 255, 255, 0.54);\n",
       "  --xr-font-color3: rgba(255, 255, 255, 0.38);\n",
       "  --xr-border-color: #1F1F1F;\n",
       "  --xr-disabled-color: #515151;\n",
       "  --xr-background-color: #111111;\n",
       "  --xr-background-color-row-even: #111111;\n",
       "  --xr-background-color-row-odd: #313131;\n",
       "}\n",
       "\n",
       ".xr-wrap {\n",
       "  display: block !important;\n",
       "  min-width: 300px;\n",
       "  max-width: 700px;\n",
       "}\n",
       "\n",
       ".xr-text-repr-fallback {\n",
       "  /* fallback to plain text repr when CSS is not injected (untrusted notebook) */\n",
       "  display: none;\n",
       "}\n",
       "\n",
       ".xr-header {\n",
       "  padding-top: 6px;\n",
       "  padding-bottom: 6px;\n",
       "  margin-bottom: 4px;\n",
       "  border-bottom: solid 1px var(--xr-border-color);\n",
       "}\n",
       "\n",
       ".xr-header > div,\n",
       ".xr-header > ul {\n",
       "  display: inline;\n",
       "  margin-top: 0;\n",
       "  margin-bottom: 0;\n",
       "}\n",
       "\n",
       ".xr-obj-type,\n",
       ".xr-array-name {\n",
       "  margin-left: 2px;\n",
       "  margin-right: 10px;\n",
       "}\n",
       "\n",
       ".xr-obj-type {\n",
       "  color: var(--xr-font-color2);\n",
       "}\n",
       "\n",
       ".xr-sections {\n",
       "  padding-left: 0 !important;\n",
       "  display: grid;\n",
       "  grid-template-columns: 150px auto auto 1fr 0 20px 0 20px;\n",
       "}\n",
       "\n",
       ".xr-section-item {\n",
       "  display: contents;\n",
       "}\n",
       "\n",
       ".xr-section-item input {\n",
       "  display: inline-block;\n",
       "  opacity: 0;\n",
       "}\n",
       "\n",
       ".xr-section-item input + label {\n",
       "  color: var(--xr-disabled-color);\n",
       "}\n",
       "\n",
       ".xr-section-item input:enabled + label {\n",
       "  cursor: pointer;\n",
       "  color: var(--xr-font-color2);\n",
       "}\n",
       "\n",
       ".xr-section-item input:focus + label {\n",
       "  border: 2px solid var(--xr-font-color0);\n",
       "}\n",
       "\n",
       ".xr-section-item input:enabled + label:hover {\n",
       "  color: var(--xr-font-color0);\n",
       "}\n",
       "\n",
       ".xr-section-summary {\n",
       "  grid-column: 1;\n",
       "  color: var(--xr-font-color2);\n",
       "  font-weight: 500;\n",
       "}\n",
       "\n",
       ".xr-section-summary > span {\n",
       "  display: inline-block;\n",
       "  padding-left: 0.5em;\n",
       "}\n",
       "\n",
       ".xr-section-summary-in:disabled + label {\n",
       "  color: var(--xr-font-color2);\n",
       "}\n",
       "\n",
       ".xr-section-summary-in + label:before {\n",
       "  display: inline-block;\n",
       "  content: '►';\n",
       "  font-size: 11px;\n",
       "  width: 15px;\n",
       "  text-align: center;\n",
       "}\n",
       "\n",
       ".xr-section-summary-in:disabled + label:before {\n",
       "  color: var(--xr-disabled-color);\n",
       "}\n",
       "\n",
       ".xr-section-summary-in:checked + label:before {\n",
       "  content: '▼';\n",
       "}\n",
       "\n",
       ".xr-section-summary-in:checked + label > span {\n",
       "  display: none;\n",
       "}\n",
       "\n",
       ".xr-section-summary,\n",
       ".xr-section-inline-details {\n",
       "  padding-top: 4px;\n",
       "  padding-bottom: 4px;\n",
       "}\n",
       "\n",
       ".xr-section-inline-details {\n",
       "  grid-column: 2 / -1;\n",
       "}\n",
       "\n",
       ".xr-section-details {\n",
       "  display: none;\n",
       "  grid-column: 1 / -1;\n",
       "  margin-bottom: 5px;\n",
       "}\n",
       "\n",
       ".xr-section-summary-in:checked ~ .xr-section-details {\n",
       "  display: contents;\n",
       "}\n",
       "\n",
       ".xr-array-wrap {\n",
       "  grid-column: 1 / -1;\n",
       "  display: grid;\n",
       "  grid-template-columns: 20px auto;\n",
       "}\n",
       "\n",
       ".xr-array-wrap > label {\n",
       "  grid-column: 1;\n",
       "  vertical-align: top;\n",
       "}\n",
       "\n",
       ".xr-preview {\n",
       "  color: var(--xr-font-color3);\n",
       "}\n",
       "\n",
       ".xr-array-preview,\n",
       ".xr-array-data {\n",
       "  padding: 0 5px !important;\n",
       "  grid-column: 2;\n",
       "}\n",
       "\n",
       ".xr-array-data,\n",
       ".xr-array-in:checked ~ .xr-array-preview {\n",
       "  display: none;\n",
       "}\n",
       "\n",
       ".xr-array-in:checked ~ .xr-array-data,\n",
       ".xr-array-preview {\n",
       "  display: inline-block;\n",
       "}\n",
       "\n",
       ".xr-dim-list {\n",
       "  display: inline-block !important;\n",
       "  list-style: none;\n",
       "  padding: 0 !important;\n",
       "  margin: 0;\n",
       "}\n",
       "\n",
       ".xr-dim-list li {\n",
       "  display: inline-block;\n",
       "  padding: 0;\n",
       "  margin: 0;\n",
       "}\n",
       "\n",
       ".xr-dim-list:before {\n",
       "  content: '(';\n",
       "}\n",
       "\n",
       ".xr-dim-list:after {\n",
       "  content: ')';\n",
       "}\n",
       "\n",
       ".xr-dim-list li:not(:last-child):after {\n",
       "  content: ',';\n",
       "  padding-right: 5px;\n",
       "}\n",
       "\n",
       ".xr-has-index {\n",
       "  font-weight: bold;\n",
       "}\n",
       "\n",
       ".xr-var-list,\n",
       ".xr-var-item {\n",
       "  display: contents;\n",
       "}\n",
       "\n",
       ".xr-var-item > div,\n",
       ".xr-var-item label,\n",
       ".xr-var-item > .xr-var-name span {\n",
       "  background-color: var(--xr-background-color-row-even);\n",
       "  margin-bottom: 0;\n",
       "}\n",
       "\n",
       ".xr-var-item > .xr-var-name:hover span {\n",
       "  padding-right: 5px;\n",
       "}\n",
       "\n",
       ".xr-var-list > li:nth-child(odd) > div,\n",
       ".xr-var-list > li:nth-child(odd) > label,\n",
       ".xr-var-list > li:nth-child(odd) > .xr-var-name span {\n",
       "  background-color: var(--xr-background-color-row-odd);\n",
       "}\n",
       "\n",
       ".xr-var-name {\n",
       "  grid-column: 1;\n",
       "}\n",
       "\n",
       ".xr-var-dims {\n",
       "  grid-column: 2;\n",
       "}\n",
       "\n",
       ".xr-var-dtype {\n",
       "  grid-column: 3;\n",
       "  text-align: right;\n",
       "  color: var(--xr-font-color2);\n",
       "}\n",
       "\n",
       ".xr-var-preview {\n",
       "  grid-column: 4;\n",
       "}\n",
       "\n",
       ".xr-index-preview {\n",
       "  grid-column: 2 / 5;\n",
       "  color: var(--xr-font-color2);\n",
       "}\n",
       "\n",
       ".xr-var-name,\n",
       ".xr-var-dims,\n",
       ".xr-var-dtype,\n",
       ".xr-preview,\n",
       ".xr-attrs dt {\n",
       "  white-space: nowrap;\n",
       "  overflow: hidden;\n",
       "  text-overflow: ellipsis;\n",
       "  padding-right: 10px;\n",
       "}\n",
       "\n",
       ".xr-var-name:hover,\n",
       ".xr-var-dims:hover,\n",
       ".xr-var-dtype:hover,\n",
       ".xr-attrs dt:hover {\n",
       "  overflow: visible;\n",
       "  width: auto;\n",
       "  z-index: 1;\n",
       "}\n",
       "\n",
       ".xr-var-attrs,\n",
       ".xr-var-data,\n",
       ".xr-index-data {\n",
       "  display: none;\n",
       "  background-color: var(--xr-background-color) !important;\n",
       "  padding-bottom: 5px !important;\n",
       "}\n",
       "\n",
       ".xr-var-attrs-in:checked ~ .xr-var-attrs,\n",
       ".xr-var-data-in:checked ~ .xr-var-data,\n",
       ".xr-index-data-in:checked ~ .xr-index-data {\n",
       "  display: block;\n",
       "}\n",
       "\n",
       ".xr-var-data > table {\n",
       "  float: right;\n",
       "}\n",
       "\n",
       ".xr-var-name span,\n",
       ".xr-var-data,\n",
       ".xr-index-name div,\n",
       ".xr-index-data,\n",
       ".xr-attrs {\n",
       "  padding-left: 25px !important;\n",
       "}\n",
       "\n",
       ".xr-attrs,\n",
       ".xr-var-attrs,\n",
       ".xr-var-data,\n",
       ".xr-index-data {\n",
       "  grid-column: 1 / -1;\n",
       "}\n",
       "\n",
       "dl.xr-attrs {\n",
       "  padding: 0;\n",
       "  margin: 0;\n",
       "  display: grid;\n",
       "  grid-template-columns: 125px auto;\n",
       "}\n",
       "\n",
       ".xr-attrs dt,\n",
       ".xr-attrs dd {\n",
       "  padding: 0;\n",
       "  margin: 0;\n",
       "  float: left;\n",
       "  padding-right: 10px;\n",
       "  width: auto;\n",
       "}\n",
       "\n",
       ".xr-attrs dt {\n",
       "  font-weight: normal;\n",
       "  grid-column: 1;\n",
       "}\n",
       "\n",
       ".xr-attrs dt:hover span {\n",
       "  display: inline-block;\n",
       "  background: var(--xr-background-color);\n",
       "  padding-right: 10px;\n",
       "}\n",
       "\n",
       ".xr-attrs dd {\n",
       "  grid-column: 2;\n",
       "  white-space: pre-wrap;\n",
       "  word-break: break-all;\n",
       "}\n",
       "\n",
       ".xr-icon-database,\n",
       ".xr-icon-file-text2,\n",
       ".xr-no-icon {\n",
       "  display: inline-block;\n",
       "  vertical-align: middle;\n",
       "  width: 1em;\n",
       "  height: 1.5em !important;\n",
       "  stroke-width: 0;\n",
       "  stroke: currentColor;\n",
       "  fill: currentColor;\n",
       "}\n",
       "</style><pre class='xr-text-repr-fallback'>&lt;xarray.DataArray &#x27;pelagic_layer_depth&#x27; (time: 9131)&gt; Size: 73kB\n",
       "&lt;Quantity([117.28651142 119.60032795 117.12780198 ... 126.24273555 127.8548893\n",
       " 128.32600574], &#x27;meter&#x27;)&gt;\n",
       "Coordinates:\n",
       "    depth      int64 8B 0\n",
       "    latitude   float64 8B [degrees_north] 22.75\n",
       "    longitude  int64 8B [degrees_east] -158\n",
       "  * time       (time) datetime64[ns] 73kB 1998-01-01 1998-01-02 ... 2022-12-31\n",
       "Attributes:\n",
       "    standard_name:  sea_water_pelagic_layer_bottom_depth</pre><div class='xr-wrap' style='display:none'><div class='xr-header'><div class='xr-obj-type'>xarray.DataArray</div><div class='xr-array-name'>'pelagic_layer_depth'</div><ul class='xr-dim-list'><li><span class='xr-has-index'>time</span>: 9131</li></ul></div><ul class='xr-sections'><li class='xr-section-item'><div class='xr-array-wrap'><input id='section-026f30b3-7552-4955-8c25-e3a7e0a24815' class='xr-array-in' type='checkbox' checked><label for='section-026f30b3-7552-4955-8c25-e3a7e0a24815' title='Show/hide data repr'><svg class='icon xr-icon-database'><use xlink:href='#icon-database'></use></svg></label><div class='xr-array-preview xr-preview'><span>[m] 117.3 119.6 117.1 117.1 118.7 ... 126.0 129.9 126.2 127.9 128.3</span></div><div class='xr-array-data'><table><tbody><tr><th>Magnitude</th><td style='text-align:left;'><pre>[117.28651141881937 119.60032794934789 117.12780198170734 ...<br> 126.24273554890118 127.85488930482899 128.32600573920374]</pre></td></tr><tr><th>Units</th><td style='text-align:left;'>meter</td></tr></tbody></table></div></div></li><li class='xr-section-item'><input id='section-5c1470a1-633c-40af-9a38-997351411e92' class='xr-section-summary-in' type='checkbox'  checked><label for='section-5c1470a1-633c-40af-9a38-997351411e92' class='xr-section-summary' >Coordinates: <span>(4)</span></label><div class='xr-section-inline-details'></div><div class='xr-section-details'><ul class='xr-var-list'><li class='xr-var-item'><div class='xr-var-name'><span>depth</span></div><div class='xr-var-dims'>()</div><div class='xr-var-dtype'>int64</div><div class='xr-var-preview xr-preview'>0</div><input id='attrs-0b7a018e-4845-4f8f-9306-eb77d1d96af9' class='xr-var-attrs-in' type='checkbox' ><label for='attrs-0b7a018e-4845-4f8f-9306-eb77d1d96af9' title='Show/Hide attributes'><svg class='icon xr-icon-file-text2'><use xlink:href='#icon-file-text2'></use></svg></label><input id='data-b89e1385-4150-4f8a-8b81-8d2076c52b02' class='xr-var-data-in' type='checkbox'><label for='data-b89e1385-4150-4f8a-8b81-8d2076c52b02' title='Show/Hide data repr'><svg class='icon xr-icon-database'><use xlink:href='#icon-database'></use></svg></label><div class='xr-var-attrs'><dl class='xr-attrs'><dt><span>axis :</span></dt><dd>Z</dd><dt><span>desc :</span></dt><dd>The layer depth according to Seapodym definition</dd><dt><span>flag_meanings :</span></dt><dd>epipelagic, upper-mesopelagic, lower-mesopelagic</dd><dt><span>flag_values :</span></dt><dd>[0 1 2]</dd><dt><span>long_name :</span></dt><dd>Layer depth</dd><dt><span>standard_name :</span></dt><dd>depth</dd></dl></div><div class='xr-var-data'><pre>array(0)</pre></div></li><li class='xr-var-item'><div class='xr-var-name'><span>latitude</span></div><div class='xr-var-dims'>()</div><div class='xr-var-dtype'>float64</div><div class='xr-var-preview xr-preview'>[degrees_north] 22.75</div><input id='attrs-c474c91c-18ae-4475-a4f5-dd2eb747ce1a' class='xr-var-attrs-in' type='checkbox' ><label for='attrs-c474c91c-18ae-4475-a4f5-dd2eb747ce1a' title='Show/Hide attributes'><svg class='icon xr-icon-file-text2'><use xlink:href='#icon-file-text2'></use></svg></label><input id='data-b89f0049-f8d7-4779-8494-f82bdf29204b' class='xr-var-data-in' type='checkbox'><label for='data-b89f0049-f8d7-4779-8494-f82bdf29204b' title='Show/Hide data repr'><svg class='icon xr-icon-database'><use xlink:href='#icon-database'></use></svg></label><div class='xr-var-attrs'><dl class='xr-attrs'><dt><span>axis :</span></dt><dd>Y</dd><dt><span>standard_name :</span></dt><dd>latitude</dd></dl></div><div class='xr-var-data'>22.75 degrees_north</div></li><li class='xr-var-item'><div class='xr-var-name'><span>longitude</span></div><div class='xr-var-dims'>()</div><div class='xr-var-dtype'>int64</div><div class='xr-var-preview xr-preview'>[degrees_east] -158</div><input id='attrs-c3cb05c8-46d0-488c-80e7-1147c2732e07' class='xr-var-attrs-in' type='checkbox' ><label for='attrs-c3cb05c8-46d0-488c-80e7-1147c2732e07' title='Show/Hide attributes'><svg class='icon xr-icon-file-text2'><use xlink:href='#icon-file-text2'></use></svg></label><input id='data-6a7a4de9-6fd8-441f-b228-9c90282ae731' class='xr-var-data-in' type='checkbox'><label for='data-6a7a4de9-6fd8-441f-b228-9c90282ae731' title='Show/Hide data repr'><svg class='icon xr-icon-database'><use xlink:href='#icon-database'></use></svg></label><div class='xr-var-attrs'><dl class='xr-attrs'><dt><span>axis :</span></dt><dd>X</dd><dt><span>standard_name :</span></dt><dd>longitude</dd></dl></div><div class='xr-var-data'>-158 degrees_east</div></li><li class='xr-var-item'><div class='xr-var-name'><span class='xr-has-index'>time</span></div><div class='xr-var-dims'>(time)</div><div class='xr-var-dtype'>datetime64[ns]</div><div class='xr-var-preview xr-preview'>1998-01-01 ... 2022-12-31</div><input id='attrs-0f12f437-dc24-4da6-9df8-5bc0879c8fe2' class='xr-var-attrs-in' type='checkbox' ><label for='attrs-0f12f437-dc24-4da6-9df8-5bc0879c8fe2' title='Show/Hide attributes'><svg class='icon xr-icon-file-text2'><use xlink:href='#icon-file-text2'></use></svg></label><input id='data-9cbd82c1-acfc-498c-b583-6509777f8c04' class='xr-var-data-in' type='checkbox'><label for='data-9cbd82c1-acfc-498c-b583-6509777f8c04' title='Show/Hide data repr'><svg class='icon xr-icon-database'><use xlink:href='#icon-database'></use></svg></label><div class='xr-var-attrs'><dl class='xr-attrs'><dt><span>axis :</span></dt><dd>T</dd><dt><span>long_name :</span></dt><dd>Time</dd><dt><span>standard_name :</span></dt><dd>time</dd><dt><span>unit_long :</span></dt><dd>Seconds Since 1970-01-01</dd></dl></div><div class='xr-var-data'><pre>array([&#x27;1998-01-01T00:00:00.000000000&#x27;, &#x27;1998-01-02T00:00:00.000000000&#x27;,\n",
       "       &#x27;1998-01-03T00:00:00.000000000&#x27;, ..., &#x27;2022-12-29T00:00:00.000000000&#x27;,\n",
       "       &#x27;2022-12-30T00:00:00.000000000&#x27;, &#x27;2022-12-31T00:00:00.000000000&#x27;],\n",
       "      dtype=&#x27;datetime64[ns]&#x27;)</pre></div></li></ul></div></li><li class='xr-section-item'><input id='section-3a2ba9cf-6e8d-4a05-925e-bea7b0da8881' class='xr-section-summary-in' type='checkbox'  ><label for='section-3a2ba9cf-6e8d-4a05-925e-bea7b0da8881' class='xr-section-summary' >Indexes: <span>(1)</span></label><div class='xr-section-inline-details'></div><div class='xr-section-details'><ul class='xr-var-list'><li class='xr-var-item'><div class='xr-index-name'><div>time</div></div><div class='xr-index-preview'>PandasIndex</div><div></div><input id='index-5e295c27-6c00-45a4-a438-56c6c00411f4' class='xr-index-data-in' type='checkbox'/><label for='index-5e295c27-6c00-45a4-a438-56c6c00411f4' title='Show/Hide index repr'><svg class='icon xr-icon-database'><use xlink:href='#icon-database'></use></svg></label><div class='xr-index-data'><pre>PandasIndex(DatetimeIndex([&#x27;1998-01-01&#x27;, &#x27;1998-01-02&#x27;, &#x27;1998-01-03&#x27;, &#x27;1998-01-04&#x27;,\n",
       "               &#x27;1998-01-05&#x27;, &#x27;1998-01-06&#x27;, &#x27;1998-01-07&#x27;, &#x27;1998-01-08&#x27;,\n",
       "               &#x27;1998-01-09&#x27;, &#x27;1998-01-10&#x27;,\n",
       "               ...\n",
       "               &#x27;2022-12-22&#x27;, &#x27;2022-12-23&#x27;, &#x27;2022-12-24&#x27;, &#x27;2022-12-25&#x27;,\n",
       "               &#x27;2022-12-26&#x27;, &#x27;2022-12-27&#x27;, &#x27;2022-12-28&#x27;, &#x27;2022-12-29&#x27;,\n",
       "               &#x27;2022-12-30&#x27;, &#x27;2022-12-31&#x27;],\n",
       "              dtype=&#x27;datetime64[ns]&#x27;, name=&#x27;time&#x27;, length=9131, freq=&#x27;D&#x27;))</pre></div></li></ul></div></li><li class='xr-section-item'><input id='section-b9d14426-73c1-4bf6-aadb-77d2e0ec2eef' class='xr-section-summary-in' type='checkbox'  checked><label for='section-b9d14426-73c1-4bf6-aadb-77d2e0ec2eef' class='xr-section-summary' >Attributes: <span>(1)</span></label><div class='xr-section-inline-details'></div><div class='xr-section-details'><dl class='xr-attrs'><dt><span>standard_name :</span></dt><dd>sea_water_pelagic_layer_bottom_depth</dd></dl></div></li></ul></div></div>"
      ],
      "text/plain": [
       "<xarray.DataArray 'pelagic_layer_depth' (time: 9131)> Size: 73kB\n",
       "<Quantity([117.28651142 119.60032795 117.12780198 ... 126.24273555 127.8548893\n",
       " 128.32600574], 'meter')>\n",
       "Coordinates:\n",
       "    depth      int64 8B 0\n",
       "    latitude   float64 8B [degrees_north] 22.75\n",
       "    longitude  int64 8B [degrees_east] -158\n",
       "  * time       (time) datetime64[ns] 73kB 1998-01-01 1998-01-02 ... 2022-12-31\n",
       "Attributes:\n",
       "    standard_name:  sea_water_pelagic_layer_bottom_depth"
      ]
     },
     "execution_count": 6,
     "metadata": {},
     "output_type": "execute_result"
    }
   ],
   "source": [
    "forcing = xr.open_zarr(path_to_forcing)\n",
    "forcing = forcing.sel(latitude=LATITUDE, longitude=LONGITUDE, method=\"nearest\")\n",
    "epi_layer_depth = forcing[\"pelagic_layer_depth\"].sel(depth=0).load()\n",
    "epi_layer_depth = epi_layer_depth.resample(time=\"1D\").mean()\n",
    "epi_layer_depth.attrs[\"units\"] = \"meter\"\n",
    "epi_layer_depth = epi_layer_depth.pint.quantify()\n",
    "epi_layer_depth"
   ]
  },
  {
   "cell_type": "markdown",
   "metadata": {},
   "source": [
    "### Observations\n"
   ]
  },
  {
   "cell_type": "code",
   "execution_count": 7,
   "metadata": {},
   "outputs": [
    {
     "data": {
      "text/html": [
       "<div><svg style=\"position: absolute; width: 0; height: 0; overflow: hidden\">\n",
       "<defs>\n",
       "<symbol id=\"icon-database\" viewBox=\"0 0 32 32\">\n",
       "<path d=\"M16 0c-8.837 0-16 2.239-16 5v4c0 2.761 7.163 5 16 5s16-2.239 16-5v-4c0-2.761-7.163-5-16-5z\"></path>\n",
       "<path d=\"M16 17c-8.837 0-16-2.239-16-5v6c0 2.761 7.163 5 16 5s16-2.239 16-5v-6c0 2.761-7.163 5-16 5z\"></path>\n",
       "<path d=\"M16 26c-8.837 0-16-2.239-16-5v6c0 2.761 7.163 5 16 5s16-2.239 16-5v-6c0 2.761-7.163 5-16 5z\"></path>\n",
       "</symbol>\n",
       "<symbol id=\"icon-file-text2\" viewBox=\"0 0 32 32\">\n",
       "<path d=\"M28.681 7.159c-0.694-0.947-1.662-2.053-2.724-3.116s-2.169-2.030-3.116-2.724c-1.612-1.182-2.393-1.319-2.841-1.319h-15.5c-1.378 0-2.5 1.121-2.5 2.5v27c0 1.378 1.122 2.5 2.5 2.5h23c1.378 0 2.5-1.122 2.5-2.5v-19.5c0-0.448-0.137-1.23-1.319-2.841zM24.543 5.457c0.959 0.959 1.712 1.825 2.268 2.543h-4.811v-4.811c0.718 0.556 1.584 1.309 2.543 2.268zM28 29.5c0 0.271-0.229 0.5-0.5 0.5h-23c-0.271 0-0.5-0.229-0.5-0.5v-27c0-0.271 0.229-0.5 0.5-0.5 0 0 15.499-0 15.5 0v7c0 0.552 0.448 1 1 1h7v19.5z\"></path>\n",
       "<path d=\"M23 26h-14c-0.552 0-1-0.448-1-1s0.448-1 1-1h14c0.552 0 1 0.448 1 1s-0.448 1-1 1z\"></path>\n",
       "<path d=\"M23 22h-14c-0.552 0-1-0.448-1-1s0.448-1 1-1h14c0.552 0 1 0.448 1 1s-0.448 1-1 1z\"></path>\n",
       "<path d=\"M23 18h-14c-0.552 0-1-0.448-1-1s0.448-1 1-1h14c0.552 0 1 0.448 1 1s-0.448 1-1 1z\"></path>\n",
       "</symbol>\n",
       "</defs>\n",
       "</svg>\n",
       "<style>/* CSS stylesheet for displaying xarray objects in jupyterlab.\n",
       " *\n",
       " */\n",
       "\n",
       ":root {\n",
       "  --xr-font-color0: var(--jp-content-font-color0, rgba(0, 0, 0, 1));\n",
       "  --xr-font-color2: var(--jp-content-font-color2, rgba(0, 0, 0, 0.54));\n",
       "  --xr-font-color3: var(--jp-content-font-color3, rgba(0, 0, 0, 0.38));\n",
       "  --xr-border-color: var(--jp-border-color2, #e0e0e0);\n",
       "  --xr-disabled-color: var(--jp-layout-color3, #bdbdbd);\n",
       "  --xr-background-color: var(--jp-layout-color0, white);\n",
       "  --xr-background-color-row-even: var(--jp-layout-color1, white);\n",
       "  --xr-background-color-row-odd: var(--jp-layout-color2, #eeeeee);\n",
       "}\n",
       "\n",
       "html[theme=dark],\n",
       "html[data-theme=dark],\n",
       "body[data-theme=dark],\n",
       "body.vscode-dark {\n",
       "  --xr-font-color0: rgba(255, 255, 255, 1);\n",
       "  --xr-font-color2: rgba(255, 255, 255, 0.54);\n",
       "  --xr-font-color3: rgba(255, 255, 255, 0.38);\n",
       "  --xr-border-color: #1F1F1F;\n",
       "  --xr-disabled-color: #515151;\n",
       "  --xr-background-color: #111111;\n",
       "  --xr-background-color-row-even: #111111;\n",
       "  --xr-background-color-row-odd: #313131;\n",
       "}\n",
       "\n",
       ".xr-wrap {\n",
       "  display: block !important;\n",
       "  min-width: 300px;\n",
       "  max-width: 700px;\n",
       "}\n",
       "\n",
       ".xr-text-repr-fallback {\n",
       "  /* fallback to plain text repr when CSS is not injected (untrusted notebook) */\n",
       "  display: none;\n",
       "}\n",
       "\n",
       ".xr-header {\n",
       "  padding-top: 6px;\n",
       "  padding-bottom: 6px;\n",
       "  margin-bottom: 4px;\n",
       "  border-bottom: solid 1px var(--xr-border-color);\n",
       "}\n",
       "\n",
       ".xr-header > div,\n",
       ".xr-header > ul {\n",
       "  display: inline;\n",
       "  margin-top: 0;\n",
       "  margin-bottom: 0;\n",
       "}\n",
       "\n",
       ".xr-obj-type,\n",
       ".xr-array-name {\n",
       "  margin-left: 2px;\n",
       "  margin-right: 10px;\n",
       "}\n",
       "\n",
       ".xr-obj-type {\n",
       "  color: var(--xr-font-color2);\n",
       "}\n",
       "\n",
       ".xr-sections {\n",
       "  padding-left: 0 !important;\n",
       "  display: grid;\n",
       "  grid-template-columns: 150px auto auto 1fr 0 20px 0 20px;\n",
       "}\n",
       "\n",
       ".xr-section-item {\n",
       "  display: contents;\n",
       "}\n",
       "\n",
       ".xr-section-item input {\n",
       "  display: inline-block;\n",
       "  opacity: 0;\n",
       "}\n",
       "\n",
       ".xr-section-item input + label {\n",
       "  color: var(--xr-disabled-color);\n",
       "}\n",
       "\n",
       ".xr-section-item input:enabled + label {\n",
       "  cursor: pointer;\n",
       "  color: var(--xr-font-color2);\n",
       "}\n",
       "\n",
       ".xr-section-item input:focus + label {\n",
       "  border: 2px solid var(--xr-font-color0);\n",
       "}\n",
       "\n",
       ".xr-section-item input:enabled + label:hover {\n",
       "  color: var(--xr-font-color0);\n",
       "}\n",
       "\n",
       ".xr-section-summary {\n",
       "  grid-column: 1;\n",
       "  color: var(--xr-font-color2);\n",
       "  font-weight: 500;\n",
       "}\n",
       "\n",
       ".xr-section-summary > span {\n",
       "  display: inline-block;\n",
       "  padding-left: 0.5em;\n",
       "}\n",
       "\n",
       ".xr-section-summary-in:disabled + label {\n",
       "  color: var(--xr-font-color2);\n",
       "}\n",
       "\n",
       ".xr-section-summary-in + label:before {\n",
       "  display: inline-block;\n",
       "  content: '►';\n",
       "  font-size: 11px;\n",
       "  width: 15px;\n",
       "  text-align: center;\n",
       "}\n",
       "\n",
       ".xr-section-summary-in:disabled + label:before {\n",
       "  color: var(--xr-disabled-color);\n",
       "}\n",
       "\n",
       ".xr-section-summary-in:checked + label:before {\n",
       "  content: '▼';\n",
       "}\n",
       "\n",
       ".xr-section-summary-in:checked + label > span {\n",
       "  display: none;\n",
       "}\n",
       "\n",
       ".xr-section-summary,\n",
       ".xr-section-inline-details {\n",
       "  padding-top: 4px;\n",
       "  padding-bottom: 4px;\n",
       "}\n",
       "\n",
       ".xr-section-inline-details {\n",
       "  grid-column: 2 / -1;\n",
       "}\n",
       "\n",
       ".xr-section-details {\n",
       "  display: none;\n",
       "  grid-column: 1 / -1;\n",
       "  margin-bottom: 5px;\n",
       "}\n",
       "\n",
       ".xr-section-summary-in:checked ~ .xr-section-details {\n",
       "  display: contents;\n",
       "}\n",
       "\n",
       ".xr-array-wrap {\n",
       "  grid-column: 1 / -1;\n",
       "  display: grid;\n",
       "  grid-template-columns: 20px auto;\n",
       "}\n",
       "\n",
       ".xr-array-wrap > label {\n",
       "  grid-column: 1;\n",
       "  vertical-align: top;\n",
       "}\n",
       "\n",
       ".xr-preview {\n",
       "  color: var(--xr-font-color3);\n",
       "}\n",
       "\n",
       ".xr-array-preview,\n",
       ".xr-array-data {\n",
       "  padding: 0 5px !important;\n",
       "  grid-column: 2;\n",
       "}\n",
       "\n",
       ".xr-array-data,\n",
       ".xr-array-in:checked ~ .xr-array-preview {\n",
       "  display: none;\n",
       "}\n",
       "\n",
       ".xr-array-in:checked ~ .xr-array-data,\n",
       ".xr-array-preview {\n",
       "  display: inline-block;\n",
       "}\n",
       "\n",
       ".xr-dim-list {\n",
       "  display: inline-block !important;\n",
       "  list-style: none;\n",
       "  padding: 0 !important;\n",
       "  margin: 0;\n",
       "}\n",
       "\n",
       ".xr-dim-list li {\n",
       "  display: inline-block;\n",
       "  padding: 0;\n",
       "  margin: 0;\n",
       "}\n",
       "\n",
       ".xr-dim-list:before {\n",
       "  content: '(';\n",
       "}\n",
       "\n",
       ".xr-dim-list:after {\n",
       "  content: ')';\n",
       "}\n",
       "\n",
       ".xr-dim-list li:not(:last-child):after {\n",
       "  content: ',';\n",
       "  padding-right: 5px;\n",
       "}\n",
       "\n",
       ".xr-has-index {\n",
       "  font-weight: bold;\n",
       "}\n",
       "\n",
       ".xr-var-list,\n",
       ".xr-var-item {\n",
       "  display: contents;\n",
       "}\n",
       "\n",
       ".xr-var-item > div,\n",
       ".xr-var-item label,\n",
       ".xr-var-item > .xr-var-name span {\n",
       "  background-color: var(--xr-background-color-row-even);\n",
       "  margin-bottom: 0;\n",
       "}\n",
       "\n",
       ".xr-var-item > .xr-var-name:hover span {\n",
       "  padding-right: 5px;\n",
       "}\n",
       "\n",
       ".xr-var-list > li:nth-child(odd) > div,\n",
       ".xr-var-list > li:nth-child(odd) > label,\n",
       ".xr-var-list > li:nth-child(odd) > .xr-var-name span {\n",
       "  background-color: var(--xr-background-color-row-odd);\n",
       "}\n",
       "\n",
       ".xr-var-name {\n",
       "  grid-column: 1;\n",
       "}\n",
       "\n",
       ".xr-var-dims {\n",
       "  grid-column: 2;\n",
       "}\n",
       "\n",
       ".xr-var-dtype {\n",
       "  grid-column: 3;\n",
       "  text-align: right;\n",
       "  color: var(--xr-font-color2);\n",
       "}\n",
       "\n",
       ".xr-var-preview {\n",
       "  grid-column: 4;\n",
       "}\n",
       "\n",
       ".xr-index-preview {\n",
       "  grid-column: 2 / 5;\n",
       "  color: var(--xr-font-color2);\n",
       "}\n",
       "\n",
       ".xr-var-name,\n",
       ".xr-var-dims,\n",
       ".xr-var-dtype,\n",
       ".xr-preview,\n",
       ".xr-attrs dt {\n",
       "  white-space: nowrap;\n",
       "  overflow: hidden;\n",
       "  text-overflow: ellipsis;\n",
       "  padding-right: 10px;\n",
       "}\n",
       "\n",
       ".xr-var-name:hover,\n",
       ".xr-var-dims:hover,\n",
       ".xr-var-dtype:hover,\n",
       ".xr-attrs dt:hover {\n",
       "  overflow: visible;\n",
       "  width: auto;\n",
       "  z-index: 1;\n",
       "}\n",
       "\n",
       ".xr-var-attrs,\n",
       ".xr-var-data,\n",
       ".xr-index-data {\n",
       "  display: none;\n",
       "  background-color: var(--xr-background-color) !important;\n",
       "  padding-bottom: 5px !important;\n",
       "}\n",
       "\n",
       ".xr-var-attrs-in:checked ~ .xr-var-attrs,\n",
       ".xr-var-data-in:checked ~ .xr-var-data,\n",
       ".xr-index-data-in:checked ~ .xr-index-data {\n",
       "  display: block;\n",
       "}\n",
       "\n",
       ".xr-var-data > table {\n",
       "  float: right;\n",
       "}\n",
       "\n",
       ".xr-var-name span,\n",
       ".xr-var-data,\n",
       ".xr-index-name div,\n",
       ".xr-index-data,\n",
       ".xr-attrs {\n",
       "  padding-left: 25px !important;\n",
       "}\n",
       "\n",
       ".xr-attrs,\n",
       ".xr-var-attrs,\n",
       ".xr-var-data,\n",
       ".xr-index-data {\n",
       "  grid-column: 1 / -1;\n",
       "}\n",
       "\n",
       "dl.xr-attrs {\n",
       "  padding: 0;\n",
       "  margin: 0;\n",
       "  display: grid;\n",
       "  grid-template-columns: 125px auto;\n",
       "}\n",
       "\n",
       ".xr-attrs dt,\n",
       ".xr-attrs dd {\n",
       "  padding: 0;\n",
       "  margin: 0;\n",
       "  float: left;\n",
       "  padding-right: 10px;\n",
       "  width: auto;\n",
       "}\n",
       "\n",
       ".xr-attrs dt {\n",
       "  font-weight: normal;\n",
       "  grid-column: 1;\n",
       "}\n",
       "\n",
       ".xr-attrs dt:hover span {\n",
       "  display: inline-block;\n",
       "  background: var(--xr-background-color);\n",
       "  padding-right: 10px;\n",
       "}\n",
       "\n",
       ".xr-attrs dd {\n",
       "  grid-column: 2;\n",
       "  white-space: pre-wrap;\n",
       "  word-break: break-all;\n",
       "}\n",
       "\n",
       ".xr-icon-database,\n",
       ".xr-icon-file-text2,\n",
       ".xr-no-icon {\n",
       "  display: inline-block;\n",
       "  vertical-align: middle;\n",
       "  width: 1em;\n",
       "  height: 1.5em !important;\n",
       "  stroke-width: 0;\n",
       "  stroke: currentColor;\n",
       "  fill: currentColor;\n",
       "}\n",
       "</style><pre class='xr-text-repr-fallback'>&lt;xarray.Dataset&gt; Size: 8kB\n",
       "Dimensions:    (time: 350)\n",
       "Coordinates:\n",
       "  * time       (time) datetime64[ns] 3kB 1998-01-10 1998-01-11 ... 2022-09-01\n",
       "    latitude   float64 8B [degrees_north] 22.75\n",
       "    layer      int64 8B 0\n",
       "    longitude  int64 8B [degrees_east] -158\n",
       "    depth      int64 8B 0\n",
       "Data variables:\n",
       "    day        (time) float64 3kB [mg/m²] 90.15 102.1 131.0 ... 296.7 300.3\n",
       "    night      (time) float64 3kB [mg/m²] 168.0 250.1 219.5 ... 536.3 319.2</pre><div class='xr-wrap' style='display:none'><div class='xr-header'><div class='xr-obj-type'>xarray.Dataset</div></div><ul class='xr-sections'><li class='xr-section-item'><input id='section-daa2b3c2-0067-46ed-a78c-9de7d79fd2e5' class='xr-section-summary-in' type='checkbox' disabled ><label for='section-daa2b3c2-0067-46ed-a78c-9de7d79fd2e5' class='xr-section-summary'  title='Expand/collapse section'>Dimensions:</label><div class='xr-section-inline-details'><ul class='xr-dim-list'><li><span class='xr-has-index'>time</span>: 350</li></ul></div><div class='xr-section-details'></div></li><li class='xr-section-item'><input id='section-cec16c57-e330-4992-a827-1f8d8b7ce653' class='xr-section-summary-in' type='checkbox'  checked><label for='section-cec16c57-e330-4992-a827-1f8d8b7ce653' class='xr-section-summary' >Coordinates: <span>(5)</span></label><div class='xr-section-inline-details'></div><div class='xr-section-details'><ul class='xr-var-list'><li class='xr-var-item'><div class='xr-var-name'><span class='xr-has-index'>time</span></div><div class='xr-var-dims'>(time)</div><div class='xr-var-dtype'>datetime64[ns]</div><div class='xr-var-preview xr-preview'>1998-01-10 ... 2022-09-01</div><input id='attrs-3c40fc1c-13e9-430e-ae00-cf3310385832' class='xr-var-attrs-in' type='checkbox' ><label for='attrs-3c40fc1c-13e9-430e-ae00-cf3310385832' title='Show/Hide attributes'><svg class='icon xr-icon-file-text2'><use xlink:href='#icon-file-text2'></use></svg></label><input id='data-b585ff7c-511e-4fba-8d9e-f4ece749c9db' class='xr-var-data-in' type='checkbox'><label for='data-b585ff7c-511e-4fba-8d9e-f4ece749c9db' title='Show/Hide data repr'><svg class='icon xr-icon-database'><use xlink:href='#icon-database'></use></svg></label><div class='xr-var-attrs'><dl class='xr-attrs'><dt><span>axis :</span></dt><dd>T</dd><dt><span>long_name :</span></dt><dd>time</dd><dt><span>standard_name :</span></dt><dd>time</dd></dl></div><div class='xr-var-data'><pre>array([&#x27;1998-01-10T00:00:00.000000000&#x27;, &#x27;1998-01-11T00:00:00.000000000&#x27;,\n",
       "       &#x27;1998-02-18T00:00:00.000000000&#x27;, ..., &#x27;2022-07-10T00:00:00.000000000&#x27;,\n",
       "       &#x27;2022-07-31T00:00:00.000000000&#x27;, &#x27;2022-09-01T00:00:00.000000000&#x27;],\n",
       "      dtype=&#x27;datetime64[ns]&#x27;)</pre></div></li><li class='xr-var-item'><div class='xr-var-name'><span>latitude</span></div><div class='xr-var-dims'>()</div><div class='xr-var-dtype'>float64</div><div class='xr-var-preview xr-preview'>[degrees_north] 22.75</div><input id='attrs-dc25b67e-ffdf-4eb2-9a15-858c5a53bb97' class='xr-var-attrs-in' type='checkbox' ><label for='attrs-dc25b67e-ffdf-4eb2-9a15-858c5a53bb97' title='Show/Hide attributes'><svg class='icon xr-icon-file-text2'><use xlink:href='#icon-file-text2'></use></svg></label><input id='data-9e55daad-0e0e-41f5-8cc0-4cb3a7e85a77' class='xr-var-data-in' type='checkbox'><label for='data-9e55daad-0e0e-41f5-8cc0-4cb3a7e85a77' title='Show/Hide data repr'><svg class='icon xr-icon-database'><use xlink:href='#icon-database'></use></svg></label><div class='xr-var-attrs'><dl class='xr-attrs'><dt><span>axis :</span></dt><dd>Y</dd><dt><span>long_name :</span></dt><dd>Latitude</dd><dt><span>standard_name :</span></dt><dd>latitude</dd></dl></div><div class='xr-var-data'>22.75 degrees_north</div></li><li class='xr-var-item'><div class='xr-var-name'><span>layer</span></div><div class='xr-var-dims'>()</div><div class='xr-var-dtype'>int64</div><div class='xr-var-preview xr-preview'>0</div><input id='attrs-d2e1f353-37aa-4fa6-a03f-c928c3b5aa32' class='xr-var-attrs-in' type='checkbox' ><label for='attrs-d2e1f353-37aa-4fa6-a03f-c928c3b5aa32' title='Show/Hide attributes'><svg class='icon xr-icon-file-text2'><use xlink:href='#icon-file-text2'></use></svg></label><input id='data-ef9b707e-9329-4f70-9bca-fbb20c50ece2' class='xr-var-data-in' type='checkbox'><label for='data-ef9b707e-9329-4f70-9bca-fbb20c50ece2' title='Show/Hide data repr'><svg class='icon xr-icon-database'><use xlink:href='#icon-database'></use></svg></label><div class='xr-var-attrs'><dl class='xr-attrs'><dt><span>axis :</span></dt><dd>Z</dd><dt><span>desc :</span></dt><dd>The layer depth according to Seapodym definition</dd><dt><span>flag_meanings :</span></dt><dd>epipelagic, upper-mesopelagic, lower-mesopelagic</dd><dt><span>flag_values :</span></dt><dd>[0, 1, 2]</dd><dt><span>long_name :</span></dt><dd>Layer depth</dd><dt><span>standard_name :</span></dt><dd>layer</dd></dl></div><div class='xr-var-data'><pre>array(0)</pre></div></li><li class='xr-var-item'><div class='xr-var-name'><span>longitude</span></div><div class='xr-var-dims'>()</div><div class='xr-var-dtype'>int64</div><div class='xr-var-preview xr-preview'>[degrees_east] -158</div><input id='attrs-95529652-d5f5-4c5a-9af3-4d0c90378719' class='xr-var-attrs-in' type='checkbox' ><label for='attrs-95529652-d5f5-4c5a-9af3-4d0c90378719' title='Show/Hide attributes'><svg class='icon xr-icon-file-text2'><use xlink:href='#icon-file-text2'></use></svg></label><input id='data-271cc61c-db18-48bb-bc79-8bb798e5763c' class='xr-var-data-in' type='checkbox'><label for='data-271cc61c-db18-48bb-bc79-8bb798e5763c' title='Show/Hide data repr'><svg class='icon xr-icon-database'><use xlink:href='#icon-database'></use></svg></label><div class='xr-var-attrs'><dl class='xr-attrs'><dt><span>axis :</span></dt><dd>X</dd><dt><span>long_name :</span></dt><dd>Longitude</dd><dt><span>standard_name :</span></dt><dd>longitude</dd></dl></div><div class='xr-var-data'>-158 degrees_east</div></li><li class='xr-var-item'><div class='xr-var-name'><span>depth</span></div><div class='xr-var-dims'>()</div><div class='xr-var-dtype'>int64</div><div class='xr-var-preview xr-preview'>0</div><input id='attrs-8e2c1f97-2f4d-4841-a868-0943cb8fd76a' class='xr-var-attrs-in' type='checkbox' ><label for='attrs-8e2c1f97-2f4d-4841-a868-0943cb8fd76a' title='Show/Hide attributes'><svg class='icon xr-icon-file-text2'><use xlink:href='#icon-file-text2'></use></svg></label><input id='data-82fe8cbc-5c35-4b67-b1a9-bf56308496d1' class='xr-var-data-in' type='checkbox'><label for='data-82fe8cbc-5c35-4b67-b1a9-bf56308496d1' title='Show/Hide data repr'><svg class='icon xr-icon-database'><use xlink:href='#icon-database'></use></svg></label><div class='xr-var-attrs'><dl class='xr-attrs'><dt><span>axis :</span></dt><dd>Z</dd><dt><span>desc :</span></dt><dd>The layer depth according to Seapodym definition</dd><dt><span>flag_meanings :</span></dt><dd>epipelagic, upper-mesopelagic, lower-mesopelagic</dd><dt><span>flag_values :</span></dt><dd>[0 1 2]</dd><dt><span>long_name :</span></dt><dd>Layer depth</dd><dt><span>standard_name :</span></dt><dd>depth</dd></dl></div><div class='xr-var-data'><pre>array(0)</pre></div></li></ul></div></li><li class='xr-section-item'><input id='section-c36e1df7-5180-4d18-b6df-9c55dd080349' class='xr-section-summary-in' type='checkbox'  checked><label for='section-c36e1df7-5180-4d18-b6df-9c55dd080349' class='xr-section-summary' >Data variables: <span>(2)</span></label><div class='xr-section-inline-details'></div><div class='xr-section-details'><ul class='xr-var-list'><li class='xr-var-item'><div class='xr-var-name'><span>day</span></div><div class='xr-var-dims'>(time)</div><div class='xr-var-dtype'>float64</div><div class='xr-var-preview xr-preview'>[mg/m²] 90.15 102.1 ... 296.7 300.3</div><input id='attrs-7ca76ada-8c4f-46e5-b6ba-7200fece7578' class='xr-var-attrs-in' type='checkbox' disabled><label for='attrs-7ca76ada-8c4f-46e5-b6ba-7200fece7578' title='Show/Hide attributes'><svg class='icon xr-icon-file-text2'><use xlink:href='#icon-file-text2'></use></svg></label><input id='data-86461199-69b4-47ee-adc4-cbcef30c1acb' class='xr-var-data-in' type='checkbox'><label for='data-86461199-69b4-47ee-adc4-cbcef30c1acb' title='Show/Hide data repr'><svg class='icon xr-icon-database'><use xlink:href='#icon-database'></use></svg></label><div class='xr-var-attrs'><dl class='xr-attrs'></dl></div><div class='xr-var-data'><table><tbody><tr><th>Magnitude</th><td style='text-align:left;'><pre>[90.15053654626313 102.07924170428484 130.9801177847578 264.2692327663531<br> 286.21710385086584 240.53718913932676 241.2675968894361 102.1751216791709<br> 300.52850484258306 392.87346366781503 336.38191232908895<br> 275.58590759594335 281.84487273941676 119.78388058550851<br> 235.28803155801967 204.0894092081189 246.2352308633863 104.72890911442775<br> 82.12795093275159 154.1530318285917 140.32305556341456 159.10912912666984<br> 157.04947879868587 219.60027161373074 203.34116641997133 297.91046398496<br> 296.99606451643706 221.69836409436488 327.5482825290116<br> 153.26496890780948 187.85319674463423 149.61546814418034<br> 100.5085205842806 158.04829342031954 206.27326409708118<br> 132.89190017778515 126.59277423131553 107.21202732194051<br> 191.11169952306153 177.41243040131124 163.15066007127615<br> 216.61738826635104 311.82501627198565 281.65019003593454<br> 356.64691912942936 250.55535130666897 233.45635262712062<br> 283.6470454972558 208.28863947631038 287.15491214189205<br> 343.71879410407564 297.02412412323855 184.6114695121457 199.9059484909121<br> 203.18388646780798 232.7114780358067 309.19967425531337 295.1246746547718<br> 286.55940188987137 265.935155809094 252.78600075138215 287.7569139785984<br> 306.6038708181558 322.5885751716195 425.52055907295147 316.363136639076<br> 281.9083520387139 340.5791372895039 168.48205824770963 113.4501658733263<br> 134.42018537843435 143.6829671477875 176.10403016210722 156.9384501767265<br> 158.0787189353251 274.85318159637785 279.55429139676534 450.5643691109921<br> 240.89398556536133 365.5556582004755 251.15995709917476<br> 252.48352314436832 172.5996341238967 185.03169165956143<br> 126.80922988928474 221.8335584470103 217.6830649464541 204.30152409820076<br> 256.07883878566435 193.93949731183386 202.90974134739147<br> 252.6620680522002 243.7684502628784 384.4343152102031 316.24191441151095<br> 295.77058756218673 273.7777633241274 326.57189728141924<br> 302.84625380201396 163.59393323985668 194.0861799202521<br> 244.17730977790288 192.70504216317525 245.08982160875752<br> 333.93172622522326 238.93099574451242 305.3789241361526 344.6305633945283<br> 309.1937856628417 250.11956339311553 290.11410794601517 445.8794951725455<br> 325.2674862601922 195.7132406665841 153.33466460348436 168.91596395954988<br> 139.76386570057136 129.6241254518878 241.93912957042275<br> 226.49606461724028 297.7116912786574 338.10901943263667<br> 348.62482773763463 414.2199967520759 380.37086633863925<br> 310.58447115849805 299.6403565698716 286.7338167009678 203.04283404086257<br> 182.27868432749716 213.14200856879958 158.16330671375027<br> 213.21478647165335 192.88052379372309 178.96047463029464<br> 192.29199558308798 279.3417600824082 245.83409341816906 251.6896388460537<br> 321.7758900737953 240.68806733748397 285.6867904967255 135.38561733182783<br> 184.07910842756385 113.49811752766878 114.75328020306664<br> 291.8373150586662 208.07113611154097 265.3864805985914 300.52656827637287<br> 405.7243428475462 317.43793038041196 289.488862617321 369.70092582568174<br> 402.38246906464065 187.91756194824 276.50283391179846 168.86156744783952<br> 165.310175828319 209.0217472434997 153.79359135232633 105.69203672669539<br> 121.46032471801634 136.65611305691513 277.11358627957645<br> 401.3576646611965 290.014536521321 295.556652170673 250.23021884103585<br> 157.9912873050357 222.38519479834522 49.59509397421906 179.40468654130052<br> 203.9030493018046 146.13778456973913 416.76577798207774<br> 145.61375062461659 148.20915222988242 377.87205331539525<br> 188.7746322496145 115.03212441610059 207.35448677619334<br> 201.68131120927475 208.7430618113696 342.9203393242371 154.61783189804373<br> 194.86990189181833 191.07270299535088 281.99311561223095<br> 224.66782702105982 238.3888585424291 223.00705621437712<br> 256.00787413135356 186.21444694087447 327.8853168498651 194.7826434586646<br> 125.85032509785862 262.41877979333407 312.6187593732822 132.1979727589849<br> 266.2394890003079 391.69579896724775 235.56147154533397 219.8041546654219<br> 201.52219752644572 167.72864627564425 151.57436113257228<br> 171.89583474912914 191.52793159426105 270.8968949509608<br> 343.03363608839794 397.60550713611207 240.58867104976704<br> 249.14588307925297 293.9011498824898 390.929480447026 241.18549411727278<br> 213.02176278290148 206.10335362298085 318.0897898545076<br> 265.08243993602764 235.0130427822411 156.92441943717705 148.7370492242794<br> 153.34695859486473 89.71205786711144 379.60083385596675 202.3131731146584<br> 339.0229066544393 203.11825475354402 227.83326107335435<br> 274.08282243677445 182.99329301947193 313.9453501157859 319.1426790283279<br> 142.88013757678027 175.6586706751402 140.06125146887814<br> 176.28595732906462 120.20942933201475 111.11339813135075<br> 196.8032421964649 171.7458286863377 278.915169354922 376.5352328047261<br> 253.3708853890395 211.52203715314647 225.11888791169673 310.9471304417959<br> 234.34342762604408 305.749991722005 291.6498762055054 238.56260047368716<br> 189.1810651006104 132.29093026882202 232.60381376632358 298.0916671992647<br> 237.9025453609066 269.6650666877856 405.50858906342415 369.2165379296596<br> 340.89107859339225 453.19908647835615 306.22894497097127<br> 420.67907800959836 315.35289786380883 476.26404526533565<br> 345.1557782078156 347.6107711843328 222.45592086480883 212.03447146524655<br> 144.82439317651804 146.44653415963202 161.76812481935744<br> 172.96118227173906 122.89949501157508 193.80996404507525<br> 252.85590111158888 177.96413043773344 270.41043482379513<br> 335.55047510569347 270.429614693932 133.32971368404424 153.73546976932138<br> 159.11923357504077 157.2880704536815 141.2765243392024 99.49000849354222<br> 156.5347180829005 178.48829155469005 175.93846495538716 235.4366643322047<br> 178.68195440233308 166.00601804532945 248.08624611124435<br> 198.3696736962993 148.82036640208668 208.71423799762005 198.5122561688921<br> 121.86051688838558 193.7665604858556 105.36792196805361<br> 215.39700545925618 137.76241565432017 293.07621458158883<br> 101.30275402936942 212.4798847911009 266.73006399844326<br> 143.82280145368406 185.23787266180398 265.71411631871547<br> 146.0877812095872 148.9232866318159 224.1190845201395 337.99875573952966<br> 178.11295489419246 188.3859144649001 266.75566602479705 283.9639579820204<br> 268.06553315048586 178.93159296608462 139.4897816607664<br> 201.92822438356728 262.00597528513015 243.9193655909061<br> 222.36329365616916 234.71271097324754 146.44216794678735<br> 147.24652591875375 95.36717653098289 110.66132771872934<br> 101.02007623642307 101.56476471309068 109.91964970207074<br> 98.84205069400939 119.52603097135488 216.10066189264427 248.8083729393506<br> 190.03900238446096 191.28596160209776 251.5118218677119<br> 105.67097480062613 179.60145916735456 162.13704248982026<br> 311.4467214078276 301.64870260606835 373.2764588795238 357.32965824922917<br> 296.6781945450668 300.3434030871873]</pre></td></tr><tr><th>Units</th><td style='text-align:left;'>milligram/meter<sup>2</sup></td></tr></tbody></table></div></li><li class='xr-var-item'><div class='xr-var-name'><span>night</span></div><div class='xr-var-dims'>(time)</div><div class='xr-var-dtype'>float64</div><div class='xr-var-preview xr-preview'>[mg/m²] 168.0 250.1 ... 536.3 319.2</div><input id='attrs-2a59e416-9eb6-44fa-95c2-b1ec3958d6a5' class='xr-var-attrs-in' type='checkbox' disabled><label for='attrs-2a59e416-9eb6-44fa-95c2-b1ec3958d6a5' title='Show/Hide attributes'><svg class='icon xr-icon-file-text2'><use xlink:href='#icon-file-text2'></use></svg></label><input id='data-0ffdf8fa-f3c9-49e4-9d69-0aa8dc9e090c' class='xr-var-data-in' type='checkbox'><label for='data-0ffdf8fa-f3c9-49e4-9d69-0aa8dc9e090c' title='Show/Hide data repr'><svg class='icon xr-icon-database'><use xlink:href='#icon-database'></use></svg></label><div class='xr-var-attrs'><dl class='xr-attrs'></dl></div><div class='xr-var-data'><table><tbody><tr><th>Magnitude</th><td style='text-align:left;'><pre>[167.96227121182028 250.1085970917203 219.53177993626426 407.6278243164589<br> 365.0857033134921 284.2024723725751 460.95497218881195 276.7853150855474<br> 522.1959075701218 548.4317686270347 461.1310571717588 532.0762919749848<br> 325.14172128023483 248.1634385328964 265.3600274085808 328.56579601866156<br> 278.0120168865132 316.3301923888527 236.78444776630408 354.78667321514604<br> 208.5952602898299 270.412342962848 254.05885847442866 257.95306148550367<br> 295.3933323496556 335.4094847965094 512.933153488818 390.1316076031826<br> 417.503151252412 294.0080403589583 217.47741893780392 273.0963043087261<br> 265.00307264821987 252.5989584227761 260.72746821365195 331.2707291584738<br> 283.63857278855653 228.73454963764857 361.69158765528636<br> 370.79259651035125 479.53184878506227 404.10903271826123<br> 566.8266403418596 303.3459510846037 429.3767337619382 482.04357071117425<br> 348.00760915821013 342.09257025621935 355.04602250077494<br> 450.4410173454939 393.24244531521543 449.71083443852876<br> 443.75820085564163 252.7287224379488 405.14781019140247 336.0889755725678<br> 410.68429745030767 377.2602522725232 453.1238056055215 414.5912055441996<br> 374.4335010312303 468.3300794233707 412.20514493803415 351.4535887134691<br> 567.5012570183814 493.4146862335382 414.709986696164 377.62136180528705<br> 373.50768219304797 265.579313606704 184.12385909256548 213.89084394860757<br> 314.9806580844191 254.57768814451543 210.26438888962548 412.2126685347244<br> 404.56771727439167 471.1060962428786 436.1753069786774 493.58787192861007<br> 442.5447299670309 345.21891874211127 276.2435246782678 222.11252449023678<br> 260.89579618954485 369.39955053561323 301.5665585722261 306.7661173944141<br> 416.47768177869114 417.97168061743815 317.5078518487044 317.0834684382078<br> 277.2779214383578 424.19504289014935 374.56263404291496 465.8622082451686<br> 368.5435404836887 337.79005830536175 413.22790500820923 266.3551451162878<br> 353.4903885543453 306.42339483842915 328.3947936926045 351.0835205259151<br> 573.7320865194097 375.7746543620552 463.0793183157016 477.28972888899864<br> 588.2473066660694 358.69606387909727 395.59170828193254<br> 465.76943366277266 406.4717003361693 303.4143212729349 306.1759014527779<br> 288.23899141478455 285.6120284131349 311.2660665468461 411.04654946953013<br> 434.4442853402015 410.12685963930767 425.9698605032181 450.29322697950903<br> 549.8204501288825 601.5568977313856 320.1690029650057 442.99388134444786<br> 355.67831022742035 300.9947612036864 283.66585739301 276.6976430774046<br> 298.1719638965375 402.4179423232029 319.81105274836926 456.9291939233906<br> 346.7687289469165 437.89634413936665 418.59746747308213<br> 295.20449865110794 388.1953942339221 303.2075888481008 435.41244496878386<br> 362.61171823731013 325.9052064916851 237.661578428888 197.9773531469736<br> 410.85341661483824 497.50541412129627 341.6489013266257 547.9308393854859<br> 524.742692424872 504.8848192812326 495.06076671485187 573.5467022569293<br> 684.5289102704819 441.3022237706481 389.5605894361301 295.2949937401673<br> 298.6134937077826 250.8035280886973 192.58467512551408 236.8405622245085<br> 230.718829341949 296.78592909233066 409.622869796669 494.6507966129079<br> 410.0118725290155 324.20490677308646 331.816723195203 479.1847643283798<br> 470.81495398792043 147.90582627756717 222.6260094903661<br> 253.23644332570444 265.4001656739965 591.1972238728096 294.8439913315892<br> 541.8992237354149 443.78218169671544 269.09539710001894 293.6753429149077<br> 306.4898301315927 527.8793647515383 248.489066599537 347.90072894560967<br> 215.8441846284246 260.25845377087546 192.42266256157555 303.1755069964021<br> 313.2724380416657 446.9349636821393 370.47620199747223 265.38842261081885<br> 231.62505482040643 334.0319118491468 229.13282904688097 403.2369394518281<br> 399.37857068502115 519.9562706752961 336.72027435581816 292.9823340255655<br> 715.3675464310733 410.3892538151809 443.54025795246974 466.1256963387149<br> 484.16957476056507 232.84819526626424 276.0284614132956 310.6045101229621<br> 416.3030820443965 535.3288910250772 427.5320696698005 441.4472492449168<br> 562.6812546589365 480.7403983880169 593.4402966656035 371.0460747373059<br> 307.82582211346494 329.73837624317986 376.7494653619055<br> 417.39320278524997 503.27597671065047 233.7471877728426<br> 334.74448273162807 325.4741490898993 408.8492413356146 380.6632285385937<br> 240.35891436974467 424.85556561609 304.9823998763595 541.6367194336777<br> 492.7179479045061 398.84483660798344 543.2481855232107 596.783924789784<br> 381.74714146246646 500.6614337614648 175.73233743507956<br> 407.34572548280266 237.2585193776889 252.143502721522 296.1355664222085<br> 370.18251251857345 480.4391026888936 504.6257493666465 323.29725463527933<br> 373.0656340682197 420.981045743855 560.1525229204918 548.0492518526357<br> 368.1258531602479 408.46147324775137 360.70299662755235<br> 307.86007040042017 238.2227121215436 236.9203874777711 473.60781123474106<br> 357.08872743229495 515.49871196471 524.0635215821443 433.7898105704921<br> 427.65562320228787 658.1742884317138 550.9422281006696 603.1140960142133<br> 694.1158966550964 645.7781692876027 453.63348744175056 422.6814467612899<br> 368.03013625724475 338.6003510722495 318.5558722261418 401.9625799480044<br> 380.8138612356178 230.7564120791666 439.26647808764386 392.203886888048<br> 526.3279174718164 320.0095830204938 401.32542955453675 411.50699888070244<br> 390.1946750949494 341.7239658080748 276.1807090748759 266.2393028072769<br> 228.5576671030837 239.26125702339658 220.43323765054723 287.9841691805371<br> 281.34471324147114 420.3647498034857 331.04516845886513 401.1794178620903<br> 384.94477897651063 409.89948771020346 291.15057474467585<br> 239.8675974562199 239.89138244029442 313.8782452754888 226.3892924298923<br> 309.3729637890955 227.70798107325405 273.48424361946286 354.1780326629005<br> 367.0686146845547 239.75170277510156 311.0169444856863 387.70635327746527<br> 287.7986270844711 260.8193312580779 419.47432191100324 177.4684579508606<br> 474.5266501721335 537.0091172835066 649.9934767278509 429.0417991747391<br> 484.02869689146354 376.8411887008142 376.60156592567404<br> 319.50425165563144 310.755256474025 189.54320932440473 360.6662358927461<br> 375.5924684804455 259.3801462269207 238.76183248745923 321.49299614306653<br> 388.6996548023811 200.2936955477485 258.2610617430373 267.42253914743463<br> 205.13454861777686 237.19753628611963 197.7348080621464<br> 226.09894167843427 240.19906994537666 430.2413120049799 418.3611653362059<br> 439.99315249068724 401.26085648874266 319.42953732995863<br> 198.63383599841666 255.46013994719053 294.32953489579336 485.25304229763<br> 394.5060969670717 522.6582366960251 498.619610627816 536.2698275335464<br> 319.1622664663484]</pre></td></tr><tr><th>Units</th><td style='text-align:left;'>milligram/meter<sup>2</sup></td></tr></tbody></table></div></li></ul></div></li><li class='xr-section-item'><input id='section-ffcbd597-cb1a-4d45-ae25-9ccf527124d3' class='xr-section-summary-in' type='checkbox'  ><label for='section-ffcbd597-cb1a-4d45-ae25-9ccf527124d3' class='xr-section-summary' >Indexes: <span>(1)</span></label><div class='xr-section-inline-details'></div><div class='xr-section-details'><ul class='xr-var-list'><li class='xr-var-item'><div class='xr-index-name'><div>time</div></div><div class='xr-index-preview'>PandasIndex</div><div></div><input id='index-071da9a2-8b24-4edd-925d-293ab008f74a' class='xr-index-data-in' type='checkbox'/><label for='index-071da9a2-8b24-4edd-925d-293ab008f74a' title='Show/Hide index repr'><svg class='icon xr-icon-database'><use xlink:href='#icon-database'></use></svg></label><div class='xr-index-data'><pre>PandasIndex(DatetimeIndex([&#x27;1998-01-10&#x27;, &#x27;1998-01-11&#x27;, &#x27;1998-02-18&#x27;, &#x27;1998-03-17&#x27;,\n",
       "               &#x27;1998-03-18&#x27;, &#x27;1998-04-14&#x27;, &#x27;1998-04-15&#x27;, &#x27;1998-05-12&#x27;,\n",
       "               &#x27;1998-06-16&#x27;, &#x27;1998-06-17&#x27;,\n",
       "               ...\n",
       "               &#x27;2021-06-23&#x27;, &#x27;2021-12-06&#x27;, &#x27;2022-03-27&#x27;, &#x27;2022-03-28&#x27;,\n",
       "               &#x27;2022-05-26&#x27;, &#x27;2022-05-27&#x27;, &#x27;2022-07-09&#x27;, &#x27;2022-07-10&#x27;,\n",
       "               &#x27;2022-07-31&#x27;, &#x27;2022-09-01&#x27;],\n",
       "              dtype=&#x27;datetime64[ns]&#x27;, name=&#x27;time&#x27;, length=350, freq=None))</pre></div></li></ul></div></li><li class='xr-section-item'><input id='section-04e3c4d1-9a00-4c2b-b1ff-00a7e6a42cc1' class='xr-section-summary-in' type='checkbox' disabled ><label for='section-04e3c4d1-9a00-4c2b-b1ff-00a7e6a42cc1' class='xr-section-summary'  title='Expand/collapse section'>Attributes: <span>(0)</span></label><div class='xr-section-inline-details'></div><div class='xr-section-details'><dl class='xr-attrs'></dl></div></li></ul></div></div>"
      ],
      "text/plain": [
       "<xarray.Dataset> Size: 8kB\n",
       "Dimensions:    (time: 350)\n",
       "Coordinates:\n",
       "  * time       (time) datetime64[ns] 3kB 1998-01-10 1998-01-11 ... 2022-09-01\n",
       "    latitude   float64 8B [degrees_north] 22.75\n",
       "    layer      int64 8B 0\n",
       "    longitude  int64 8B [degrees_east] -158\n",
       "    depth      int64 8B 0\n",
       "Data variables:\n",
       "    day        (time) float64 3kB [mg/m²] 90.15 102.1 131.0 ... 296.7 300.3\n",
       "    night      (time) float64 3kB [mg/m²] 168.0 250.1 219.5 ... 536.3 319.2"
      ]
     },
     "execution_count": 7,
     "metadata": {},
     "output_type": "execute_result"
    }
   ],
   "source": [
    "observations = xr.open_zarr(path_to_obs).load()\n",
    "observations = observations.sel(latitude=LATITUDE, longitude=LONGITUDE, layer=0, method=\"nearest\")\n",
    "observations = observations.resample(time=\"1D\").mean().dropna(\"time\")\n",
    "observations = observations.pint.quantify().pint.to(\"mg/m^3\")\n",
    "observations = observations * epi_layer_depth\n",
    "observations"
   ]
  },
  {
   "cell_type": "markdown",
   "metadata": {},
   "source": [
    "## Plot\n"
   ]
  },
  {
   "cell_type": "markdown",
   "metadata": {},
   "source": [
    "### Taylor Diagram\n"
   ]
  },
  {
   "cell_type": "markdown",
   "metadata": {},
   "source": [
    "Convert to pandas series.\n"
   ]
  },
  {
   "cell_type": "code",
   "execution_count": 8,
   "metadata": {},
   "outputs": [],
   "source": [
    "biomass_pandas = biomass.pint.dequantify().to_dataframe().reset_index().set_index(\"time\")[\"zpk_epi\"]\n",
    "observations_day_pandas = (\n",
    "    observations.pint.dequantify().day.dropna(\"time\").to_dataframe().reset_index().set_index(\"time\")[\"day\"]\n",
    ")\n",
    "observations_night_pandas = (\n",
    "    observations.pint.dequantify().night.dropna(\"time\").to_dataframe().reset_index().set_index(\"time\")[\"night\"]\n",
    ")\n",
    "layer_pandas = epi_layer_depth.pint.dequantify().to_dataframe().reset_index().set_index(\"time\")[\"pelagic_layer_depth\"]"
   ]
  },
  {
   "cell_type": "markdown",
   "metadata": {},
   "source": [
    "Then resample to month.\n"
   ]
  },
  {
   "cell_type": "code",
   "execution_count": 9,
   "metadata": {},
   "outputs": [],
   "source": [
    "monthly_obs_day = observations_day_pandas.resample(\"ME\").mean()[TIME_START:TIME_END].dropna()\n",
    "monthly_obs_day.index = monthly_obs_day.index.to_period(\"M\").to_timestamp()\n",
    "\n",
    "monthly_obs_night = observations_night_pandas.resample(\"ME\").mean()[TIME_START:TIME_END].dropna()\n",
    "monthly_obs_night.index = monthly_obs_night.index.to_period(\"M\").to_timestamp()\n",
    "\n",
    "monthly_pred = biomass_pandas.resample(\"ME\").mean()[TIME_START:TIME_END].dropna()\n",
    "monthly_pred.index = monthly_pred.index.to_period(\"M\").to_timestamp()\n",
    "\n",
    "monthly_layer = layer_pandas.resample(\"ME\").mean()[TIME_START:TIME_END].dropna()\n",
    "monthly_layer.index = monthly_layer.index.to_period(\"M\").to_timestamp()"
   ]
  },
  {
   "cell_type": "code",
   "execution_count": 10,
   "metadata": {},
   "outputs": [
    {
     "data": {
      "application/vnd.plotly.v1+json": {
       "config": {
        "plotlyServerURL": "https://plot.ly"
       },
       "data": [
        {
         "line": {
          "color": "red",
          "width": 1
         },
         "mode": "lines",
         "name": "Observations (day)",
         "type": "scatter",
         "x": [
          "2005-02-01T00:00:00",
          "2005-03-01T00:00:00",
          "2005-06-01T00:00:00",
          "2005-07-01T00:00:00",
          "2005-08-01T00:00:00",
          "2005-10-01T00:00:00",
          "2005-11-01T00:00:00",
          "2005-12-01T00:00:00",
          "2006-02-01T00:00:00",
          "2006-03-01T00:00:00",
          "2006-04-01T00:00:00",
          "2006-06-01T00:00:00",
          "2006-09-01T00:00:00",
          "2006-10-01T00:00:00",
          "2006-11-01T00:00:00",
          "2006-12-01T00:00:00",
          "2007-02-01T00:00:00",
          "2007-03-01T00:00:00",
          "2007-05-01T00:00:00",
          "2007-06-01T00:00:00",
          "2007-07-01T00:00:00",
          "2007-09-01T00:00:00",
          "2007-10-01T00:00:00",
          "2007-12-01T00:00:00",
          "2008-01-01T00:00:00",
          "2008-02-01T00:00:00",
          "2008-05-01T00:00:00",
          "2008-06-01T00:00:00",
          "2008-08-01T00:00:00",
          "2008-10-01T00:00:00",
          "2008-11-01T00:00:00",
          "2008-12-01T00:00:00",
          "2009-01-01T00:00:00",
          "2009-02-01T00:00:00",
          "2009-04-01T00:00:00",
          "2009-05-01T00:00:00",
          "2009-07-01T00:00:00",
          "2009-09-01T00:00:00",
          "2009-11-01T00:00:00",
          "2009-12-01T00:00:00"
         ],
         "y": [
          129.6241254518878,
          234.2175970938315,
          297.7116912786574,
          343.3669235851356,
          397.2954315453576,
          310.58447115849805,
          293.1870866354197,
          192.66075918417988,
          185.6526576412749,
          203.04765513268822,
          185.6262351066913,
          262.5879267502886,
          286.7327644599245,
          263.18742891710474,
          159.73236287969584,
          114.12569886536771,
          291.8373150586662,
          236.72880835506618,
          300.52656827637287,
          361.5811366139791,
          329.59489422150136,
          402.38246906464065,
          232.21019793001923,
          181.06449683988606,
          129.74281403951085,
          129.05821888746573,
          277.11358627957645,
          401.3576646611965,
          292.78559434599697,
          250.23021884103585,
          157.9912873050357,
          222.38519479834522,
          49.59509397421906,
          179.40468654130052,
          175.02041693577186,
          416.76577798207774,
          146.91145142724952,
          283.3233427825049,
          115.03212441610059,
          207.35448677619334
         ]
        },
        {
         "fill": "tonexty",
         "line": {
          "color": "rgba(180, 180, 180, 0.2)",
          "width": 1
         },
         "mode": "lines",
         "name": "Observations (night)",
         "type": "scatter",
         "x": [
          "2005-02-01T00:00:00",
          "2005-03-01T00:00:00",
          "2005-06-01T00:00:00",
          "2005-07-01T00:00:00",
          "2005-08-01T00:00:00",
          "2005-10-01T00:00:00",
          "2005-11-01T00:00:00",
          "2005-12-01T00:00:00",
          "2006-02-01T00:00:00",
          "2006-03-01T00:00:00",
          "2006-04-01T00:00:00",
          "2006-06-01T00:00:00",
          "2006-09-01T00:00:00",
          "2006-10-01T00:00:00",
          "2006-11-01T00:00:00",
          "2006-12-01T00:00:00",
          "2007-02-01T00:00:00",
          "2007-03-01T00:00:00",
          "2007-05-01T00:00:00",
          "2007-06-01T00:00:00",
          "2007-07-01T00:00:00",
          "2007-09-01T00:00:00",
          "2007-10-01T00:00:00",
          "2007-12-01T00:00:00",
          "2008-01-01T00:00:00",
          "2008-02-01T00:00:00",
          "2008-05-01T00:00:00",
          "2008-06-01T00:00:00",
          "2008-08-01T00:00:00",
          "2008-10-01T00:00:00",
          "2008-11-01T00:00:00",
          "2008-12-01T00:00:00",
          "2009-01-01T00:00:00",
          "2009-02-01T00:00:00",
          "2009-04-01T00:00:00",
          "2009-05-01T00:00:00",
          "2009-07-01T00:00:00",
          "2009-09-01T00:00:00",
          "2009-11-01T00:00:00",
          "2009-12-01T00:00:00"
         ],
         "y": [
          311.2660665468461,
          422.7454174048658,
          410.12685963930767,
          438.13154374136354,
          575.688673930134,
          320.1690029650057,
          399.3360957859341,
          292.3303092983482,
          287.4348034869711,
          361.1144975357861,
          401.84896143515357,
          428.2469058062244,
          341.69994644251506,
          369.3100169084423,
          344.25846236449763,
          217.8194657879308,
          410.85341661483824,
          419.577157723961,
          547.9308393854859,
          514.8137558530523,
          534.3037344858906,
          684.5289102704819,
          415.43140660338906,
          281.57067184554904,
          214.7126186750113,
          263.75237921713983,
          409.622869796669,
          494.6507966129079,
          367.10838965105097,
          331.816723195203,
          479.1847643283798,
          470.81495398792043,
          147.90582627756717,
          222.6260094903661,
          259.31830449985046,
          591.1972238728096,
          418.3716075335021,
          356.4387893983672,
          293.6753429149077,
          306.4898301315927
         ]
        },
        {
         "line": {
          "color": "black"
         },
         "mode": "lines",
         "name": "Predictions",
         "type": "scatter",
         "x": [
          "2005-01-01T00:00:00",
          "2005-02-01T00:00:00",
          "2005-03-01T00:00:00",
          "2005-04-01T00:00:00",
          "2005-05-01T00:00:00",
          "2005-06-01T00:00:00",
          "2005-07-01T00:00:00",
          "2005-08-01T00:00:00",
          "2005-09-01T00:00:00",
          "2005-10-01T00:00:00",
          "2005-11-01T00:00:00",
          "2005-12-01T00:00:00",
          "2006-01-01T00:00:00",
          "2006-02-01T00:00:00",
          "2006-03-01T00:00:00",
          "2006-04-01T00:00:00",
          "2006-05-01T00:00:00",
          "2006-06-01T00:00:00",
          "2006-07-01T00:00:00",
          "2006-08-01T00:00:00",
          "2006-09-01T00:00:00",
          "2006-10-01T00:00:00",
          "2006-11-01T00:00:00",
          "2006-12-01T00:00:00",
          "2007-01-01T00:00:00",
          "2007-02-01T00:00:00",
          "2007-03-01T00:00:00",
          "2007-04-01T00:00:00",
          "2007-05-01T00:00:00",
          "2007-06-01T00:00:00",
          "2007-07-01T00:00:00",
          "2007-08-01T00:00:00",
          "2007-09-01T00:00:00",
          "2007-10-01T00:00:00",
          "2007-11-01T00:00:00",
          "2007-12-01T00:00:00",
          "2008-01-01T00:00:00",
          "2008-02-01T00:00:00",
          "2008-03-01T00:00:00",
          "2008-04-01T00:00:00",
          "2008-05-01T00:00:00",
          "2008-06-01T00:00:00",
          "2008-07-01T00:00:00",
          "2008-08-01T00:00:00",
          "2008-09-01T00:00:00",
          "2008-10-01T00:00:00",
          "2008-11-01T00:00:00",
          "2008-12-01T00:00:00",
          "2009-01-01T00:00:00",
          "2009-02-01T00:00:00",
          "2009-03-01T00:00:00",
          "2009-04-01T00:00:00",
          "2009-05-01T00:00:00",
          "2009-06-01T00:00:00",
          "2009-07-01T00:00:00",
          "2009-08-01T00:00:00",
          "2009-09-01T00:00:00",
          "2009-10-01T00:00:00",
          "2009-11-01T00:00:00",
          "2009-12-01T00:00:00"
         ],
         "y": [
          205.95082092285156,
          295.0090026855469,
          338.2782287597656,
          311.1576232910156,
          264.785400390625,
          247.88829040527344,
          366.29364013671875,
          298.7237854003906,
          245.74407958984375,
          259.41815185546875,
          257.1131591796875,
          238.94615173339844,
          234.28683471679688,
          216.72499084472656,
          238.9453125,
          257.074462890625,
          340.1180419921875,
          306.5238952636719,
          317.0833740234375,
          350.0339660644531,
          278.24090576171875,
          294.48834228515625,
          220.98890686035156,
          223.56698608398438,
          242.4821319580078,
          272.4831237792969,
          334.3667907714844,
          314.5240478515625,
          300.33209228515625,
          299.09320068359375,
          270.0724792480469,
          230.599609375,
          242.2471466064453,
          266.0206298828125,
          216.8136444091797,
          206.73231506347656,
          222.1676025390625,
          284.4335021972656,
          256.5785827636719,
          294.3300476074219,
          320.0702209472656,
          375.3791809082031,
          294.24127197265625,
          299.1057434082031,
          358.4812927246094,
          306.7512512207031,
          251.94049072265625,
          223.26707458496094,
          225.45523071289062,
          256.1701965332031,
          324.5060729980469,
          323.4435729980469,
          355.4085388183594,
          281.38079833984375,
          213.51971435546875,
          288.1415710449219,
          258.2406921386719,
          256.4681396484375,
          258.7940673828125,
          245.2802276611328
         ]
        },
        {
         "hovertemplate": "variable=pelagic_layer_depth<br>time=%{x}<br>value=%{y}<extra></extra>",
         "legendgroup": "pelagic_layer_depth",
         "line": {
          "color": "green",
          "dash": "dash",
          "width": 1
         },
         "marker": {
          "symbol": "circle"
         },
         "mode": "lines",
         "name": "pelagic_layer_depth",
         "orientation": "v",
         "showlegend": true,
         "type": "scatter",
         "x": [
          "2005-01-01T00:00:00",
          "2005-02-01T00:00:00",
          "2005-03-01T00:00:00",
          "2005-04-01T00:00:00",
          "2005-05-01T00:00:00",
          "2005-06-01T00:00:00",
          "2005-07-01T00:00:00",
          "2005-08-01T00:00:00",
          "2005-09-01T00:00:00",
          "2005-10-01T00:00:00",
          "2005-11-01T00:00:00",
          "2005-12-01T00:00:00",
          "2006-01-01T00:00:00",
          "2006-02-01T00:00:00",
          "2006-03-01T00:00:00",
          "2006-04-01T00:00:00",
          "2006-05-01T00:00:00",
          "2006-06-01T00:00:00",
          "2006-07-01T00:00:00",
          "2006-08-01T00:00:00",
          "2006-09-01T00:00:00",
          "2006-10-01T00:00:00",
          "2006-11-01T00:00:00",
          "2006-12-01T00:00:00",
          "2007-01-01T00:00:00",
          "2007-02-01T00:00:00",
          "2007-03-01T00:00:00",
          "2007-04-01T00:00:00",
          "2007-05-01T00:00:00",
          "2007-06-01T00:00:00",
          "2007-07-01T00:00:00",
          "2007-08-01T00:00:00",
          "2007-09-01T00:00:00",
          "2007-10-01T00:00:00",
          "2007-11-01T00:00:00",
          "2007-12-01T00:00:00",
          "2008-01-01T00:00:00",
          "2008-02-01T00:00:00",
          "2008-03-01T00:00:00",
          "2008-04-01T00:00:00",
          "2008-05-01T00:00:00",
          "2008-06-01T00:00:00",
          "2008-07-01T00:00:00",
          "2008-08-01T00:00:00",
          "2008-09-01T00:00:00",
          "2008-10-01T00:00:00",
          "2008-11-01T00:00:00",
          "2008-12-01T00:00:00",
          "2009-01-01T00:00:00",
          "2009-02-01T00:00:00",
          "2009-03-01T00:00:00",
          "2009-04-01T00:00:00",
          "2009-05-01T00:00:00",
          "2009-06-01T00:00:00",
          "2009-07-01T00:00:00",
          "2009-08-01T00:00:00",
          "2009-09-01T00:00:00",
          "2009-10-01T00:00:00",
          "2009-11-01T00:00:00",
          "2009-12-01T00:00:00"
         ],
         "xaxis": "x",
         "y": [
          111.69756802186936,
          119.66947991837527,
          121.29633633486698,
          127.49425691369292,
          139.57281931411106,
          139.27651139976174,
          124.71686152432021,
          120.62199637337862,
          125.83488013928407,
          127.04231854327526,
          120.78001241102577,
          119.86374789114882,
          113.68431916230172,
          114.09328947716506,
          118.57483325365844,
          126.53136397435794,
          133.34122395194493,
          137.51595039825372,
          127.07740168200532,
          129.32714163503763,
          135.42755695594616,
          128.06511868145859,
          122.97538158269906,
          117.26430826496873,
          114.58812764101359,
          114.16482805426934,
          129.48682111285189,
          130.8275449056988,
          134.17982413900802,
          141.3721999074243,
          137.65327043788201,
          136.0695712092191,
          134.1352166376796,
          125.48712773302742,
          120.87657457381604,
          111.73518404465518,
          107.72886205336556,
          117.69765815300043,
          131.89952790385598,
          134.54273792216594,
          139.23508347629055,
          139.21035462387084,
          136.35885890307904,
          128.10338139804585,
          121.44102329471706,
          123.16921547508956,
          113.31782880314731,
          111.72887878009078,
          111.000000974678,
          118.29873156942321,
          116.5557474231523,
          124.17806499087773,
          134.13644176315907,
          143.97832023984796,
          144.1531359453601,
          130.815507419133,
          132.62853504802908,
          133.82834605790617,
          122.03754802817123,
          114.44078923657746
         ],
         "yaxis": "y2"
        }
       ],
       "layout": {
        "template": {
         "data": {
          "bar": [
           {
            "error_x": {
             "color": "#2a3f5f"
            },
            "error_y": {
             "color": "#2a3f5f"
            },
            "marker": {
             "line": {
              "color": "#E5ECF6",
              "width": 0.5
             },
             "pattern": {
              "fillmode": "overlay",
              "size": 10,
              "solidity": 0.2
             }
            },
            "type": "bar"
           }
          ],
          "barpolar": [
           {
            "marker": {
             "line": {
              "color": "#E5ECF6",
              "width": 0.5
             },
             "pattern": {
              "fillmode": "overlay",
              "size": 10,
              "solidity": 0.2
             }
            },
            "type": "barpolar"
           }
          ],
          "carpet": [
           {
            "aaxis": {
             "endlinecolor": "#2a3f5f",
             "gridcolor": "white",
             "linecolor": "white",
             "minorgridcolor": "white",
             "startlinecolor": "#2a3f5f"
            },
            "baxis": {
             "endlinecolor": "#2a3f5f",
             "gridcolor": "white",
             "linecolor": "white",
             "minorgridcolor": "white",
             "startlinecolor": "#2a3f5f"
            },
            "type": "carpet"
           }
          ],
          "choropleth": [
           {
            "colorbar": {
             "outlinewidth": 0,
             "ticks": ""
            },
            "type": "choropleth"
           }
          ],
          "contour": [
           {
            "colorbar": {
             "outlinewidth": 0,
             "ticks": ""
            },
            "colorscale": [
             [
              0,
              "#0d0887"
             ],
             [
              0.1111111111111111,
              "#46039f"
             ],
             [
              0.2222222222222222,
              "#7201a8"
             ],
             [
              0.3333333333333333,
              "#9c179e"
             ],
             [
              0.4444444444444444,
              "#bd3786"
             ],
             [
              0.5555555555555556,
              "#d8576b"
             ],
             [
              0.6666666666666666,
              "#ed7953"
             ],
             [
              0.7777777777777778,
              "#fb9f3a"
             ],
             [
              0.8888888888888888,
              "#fdca26"
             ],
             [
              1,
              "#f0f921"
             ]
            ],
            "type": "contour"
           }
          ],
          "contourcarpet": [
           {
            "colorbar": {
             "outlinewidth": 0,
             "ticks": ""
            },
            "type": "contourcarpet"
           }
          ],
          "heatmap": [
           {
            "colorbar": {
             "outlinewidth": 0,
             "ticks": ""
            },
            "colorscale": [
             [
              0,
              "#0d0887"
             ],
             [
              0.1111111111111111,
              "#46039f"
             ],
             [
              0.2222222222222222,
              "#7201a8"
             ],
             [
              0.3333333333333333,
              "#9c179e"
             ],
             [
              0.4444444444444444,
              "#bd3786"
             ],
             [
              0.5555555555555556,
              "#d8576b"
             ],
             [
              0.6666666666666666,
              "#ed7953"
             ],
             [
              0.7777777777777778,
              "#fb9f3a"
             ],
             [
              0.8888888888888888,
              "#fdca26"
             ],
             [
              1,
              "#f0f921"
             ]
            ],
            "type": "heatmap"
           }
          ],
          "heatmapgl": [
           {
            "colorbar": {
             "outlinewidth": 0,
             "ticks": ""
            },
            "colorscale": [
             [
              0,
              "#0d0887"
             ],
             [
              0.1111111111111111,
              "#46039f"
             ],
             [
              0.2222222222222222,
              "#7201a8"
             ],
             [
              0.3333333333333333,
              "#9c179e"
             ],
             [
              0.4444444444444444,
              "#bd3786"
             ],
             [
              0.5555555555555556,
              "#d8576b"
             ],
             [
              0.6666666666666666,
              "#ed7953"
             ],
             [
              0.7777777777777778,
              "#fb9f3a"
             ],
             [
              0.8888888888888888,
              "#fdca26"
             ],
             [
              1,
              "#f0f921"
             ]
            ],
            "type": "heatmapgl"
           }
          ],
          "histogram": [
           {
            "marker": {
             "pattern": {
              "fillmode": "overlay",
              "size": 10,
              "solidity": 0.2
             }
            },
            "type": "histogram"
           }
          ],
          "histogram2d": [
           {
            "colorbar": {
             "outlinewidth": 0,
             "ticks": ""
            },
            "colorscale": [
             [
              0,
              "#0d0887"
             ],
             [
              0.1111111111111111,
              "#46039f"
             ],
             [
              0.2222222222222222,
              "#7201a8"
             ],
             [
              0.3333333333333333,
              "#9c179e"
             ],
             [
              0.4444444444444444,
              "#bd3786"
             ],
             [
              0.5555555555555556,
              "#d8576b"
             ],
             [
              0.6666666666666666,
              "#ed7953"
             ],
             [
              0.7777777777777778,
              "#fb9f3a"
             ],
             [
              0.8888888888888888,
              "#fdca26"
             ],
             [
              1,
              "#f0f921"
             ]
            ],
            "type": "histogram2d"
           }
          ],
          "histogram2dcontour": [
           {
            "colorbar": {
             "outlinewidth": 0,
             "ticks": ""
            },
            "colorscale": [
             [
              0,
              "#0d0887"
             ],
             [
              0.1111111111111111,
              "#46039f"
             ],
             [
              0.2222222222222222,
              "#7201a8"
             ],
             [
              0.3333333333333333,
              "#9c179e"
             ],
             [
              0.4444444444444444,
              "#bd3786"
             ],
             [
              0.5555555555555556,
              "#d8576b"
             ],
             [
              0.6666666666666666,
              "#ed7953"
             ],
             [
              0.7777777777777778,
              "#fb9f3a"
             ],
             [
              0.8888888888888888,
              "#fdca26"
             ],
             [
              1,
              "#f0f921"
             ]
            ],
            "type": "histogram2dcontour"
           }
          ],
          "mesh3d": [
           {
            "colorbar": {
             "outlinewidth": 0,
             "ticks": ""
            },
            "type": "mesh3d"
           }
          ],
          "parcoords": [
           {
            "line": {
             "colorbar": {
              "outlinewidth": 0,
              "ticks": ""
             }
            },
            "type": "parcoords"
           }
          ],
          "pie": [
           {
            "automargin": true,
            "type": "pie"
           }
          ],
          "scatter": [
           {
            "fillpattern": {
             "fillmode": "overlay",
             "size": 10,
             "solidity": 0.2
            },
            "type": "scatter"
           }
          ],
          "scatter3d": [
           {
            "line": {
             "colorbar": {
              "outlinewidth": 0,
              "ticks": ""
             }
            },
            "marker": {
             "colorbar": {
              "outlinewidth": 0,
              "ticks": ""
             }
            },
            "type": "scatter3d"
           }
          ],
          "scattercarpet": [
           {
            "marker": {
             "colorbar": {
              "outlinewidth": 0,
              "ticks": ""
             }
            },
            "type": "scattercarpet"
           }
          ],
          "scattergeo": [
           {
            "marker": {
             "colorbar": {
              "outlinewidth": 0,
              "ticks": ""
             }
            },
            "type": "scattergeo"
           }
          ],
          "scattergl": [
           {
            "marker": {
             "colorbar": {
              "outlinewidth": 0,
              "ticks": ""
             }
            },
            "type": "scattergl"
           }
          ],
          "scattermapbox": [
           {
            "marker": {
             "colorbar": {
              "outlinewidth": 0,
              "ticks": ""
             }
            },
            "type": "scattermapbox"
           }
          ],
          "scatterpolar": [
           {
            "marker": {
             "colorbar": {
              "outlinewidth": 0,
              "ticks": ""
             }
            },
            "type": "scatterpolar"
           }
          ],
          "scatterpolargl": [
           {
            "marker": {
             "colorbar": {
              "outlinewidth": 0,
              "ticks": ""
             }
            },
            "type": "scatterpolargl"
           }
          ],
          "scatterternary": [
           {
            "marker": {
             "colorbar": {
              "outlinewidth": 0,
              "ticks": ""
             }
            },
            "type": "scatterternary"
           }
          ],
          "surface": [
           {
            "colorbar": {
             "outlinewidth": 0,
             "ticks": ""
            },
            "colorscale": [
             [
              0,
              "#0d0887"
             ],
             [
              0.1111111111111111,
              "#46039f"
             ],
             [
              0.2222222222222222,
              "#7201a8"
             ],
             [
              0.3333333333333333,
              "#9c179e"
             ],
             [
              0.4444444444444444,
              "#bd3786"
             ],
             [
              0.5555555555555556,
              "#d8576b"
             ],
             [
              0.6666666666666666,
              "#ed7953"
             ],
             [
              0.7777777777777778,
              "#fb9f3a"
             ],
             [
              0.8888888888888888,
              "#fdca26"
             ],
             [
              1,
              "#f0f921"
             ]
            ],
            "type": "surface"
           }
          ],
          "table": [
           {
            "cells": {
             "fill": {
              "color": "#EBF0F8"
             },
             "line": {
              "color": "white"
             }
            },
            "header": {
             "fill": {
              "color": "#C8D4E3"
             },
             "line": {
              "color": "white"
             }
            },
            "type": "table"
           }
          ]
         },
         "layout": {
          "annotationdefaults": {
           "arrowcolor": "#2a3f5f",
           "arrowhead": 0,
           "arrowwidth": 1
          },
          "autotypenumbers": "strict",
          "coloraxis": {
           "colorbar": {
            "outlinewidth": 0,
            "ticks": ""
           }
          },
          "colorscale": {
           "diverging": [
            [
             0,
             "#8e0152"
            ],
            [
             0.1,
             "#c51b7d"
            ],
            [
             0.2,
             "#de77ae"
            ],
            [
             0.3,
             "#f1b6da"
            ],
            [
             0.4,
             "#fde0ef"
            ],
            [
             0.5,
             "#f7f7f7"
            ],
            [
             0.6,
             "#e6f5d0"
            ],
            [
             0.7,
             "#b8e186"
            ],
            [
             0.8,
             "#7fbc41"
            ],
            [
             0.9,
             "#4d9221"
            ],
            [
             1,
             "#276419"
            ]
           ],
           "sequential": [
            [
             0,
             "#0d0887"
            ],
            [
             0.1111111111111111,
             "#46039f"
            ],
            [
             0.2222222222222222,
             "#7201a8"
            ],
            [
             0.3333333333333333,
             "#9c179e"
            ],
            [
             0.4444444444444444,
             "#bd3786"
            ],
            [
             0.5555555555555556,
             "#d8576b"
            ],
            [
             0.6666666666666666,
             "#ed7953"
            ],
            [
             0.7777777777777778,
             "#fb9f3a"
            ],
            [
             0.8888888888888888,
             "#fdca26"
            ],
            [
             1,
             "#f0f921"
            ]
           ],
           "sequentialminus": [
            [
             0,
             "#0d0887"
            ],
            [
             0.1111111111111111,
             "#46039f"
            ],
            [
             0.2222222222222222,
             "#7201a8"
            ],
            [
             0.3333333333333333,
             "#9c179e"
            ],
            [
             0.4444444444444444,
             "#bd3786"
            ],
            [
             0.5555555555555556,
             "#d8576b"
            ],
            [
             0.6666666666666666,
             "#ed7953"
            ],
            [
             0.7777777777777778,
             "#fb9f3a"
            ],
            [
             0.8888888888888888,
             "#fdca26"
            ],
            [
             1,
             "#f0f921"
            ]
           ]
          },
          "colorway": [
           "#636efa",
           "#EF553B",
           "#00cc96",
           "#ab63fa",
           "#FFA15A",
           "#19d3f3",
           "#FF6692",
           "#B6E880",
           "#FF97FF",
           "#FECB52"
          ],
          "font": {
           "color": "#2a3f5f"
          },
          "geo": {
           "bgcolor": "white",
           "lakecolor": "white",
           "landcolor": "#E5ECF6",
           "showlakes": true,
           "showland": true,
           "subunitcolor": "white"
          },
          "hoverlabel": {
           "align": "left"
          },
          "hovermode": "closest",
          "mapbox": {
           "style": "light"
          },
          "paper_bgcolor": "white",
          "plot_bgcolor": "#E5ECF6",
          "polar": {
           "angularaxis": {
            "gridcolor": "white",
            "linecolor": "white",
            "ticks": ""
           },
           "bgcolor": "#E5ECF6",
           "radialaxis": {
            "gridcolor": "white",
            "linecolor": "white",
            "ticks": ""
           }
          },
          "scene": {
           "xaxis": {
            "backgroundcolor": "#E5ECF6",
            "gridcolor": "white",
            "gridwidth": 2,
            "linecolor": "white",
            "showbackground": true,
            "ticks": "",
            "zerolinecolor": "white"
           },
           "yaxis": {
            "backgroundcolor": "#E5ECF6",
            "gridcolor": "white",
            "gridwidth": 2,
            "linecolor": "white",
            "showbackground": true,
            "ticks": "",
            "zerolinecolor": "white"
           },
           "zaxis": {
            "backgroundcolor": "#E5ECF6",
            "gridcolor": "white",
            "gridwidth": 2,
            "linecolor": "white",
            "showbackground": true,
            "ticks": "",
            "zerolinecolor": "white"
           }
          },
          "shapedefaults": {
           "line": {
            "color": "#2a3f5f"
           }
          },
          "ternary": {
           "aaxis": {
            "gridcolor": "white",
            "linecolor": "white",
            "ticks": ""
           },
           "baxis": {
            "gridcolor": "white",
            "linecolor": "white",
            "ticks": ""
           },
           "bgcolor": "#E5ECF6",
           "caxis": {
            "gridcolor": "white",
            "linecolor": "white",
            "ticks": ""
           }
          },
          "title": {
           "x": 0.05
          },
          "xaxis": {
           "automargin": true,
           "gridcolor": "white",
           "linecolor": "white",
           "ticks": "",
           "title": {
            "standoff": 15
           },
           "zerolinecolor": "white",
           "zerolinewidth": 2
          },
          "yaxis": {
           "automargin": true,
           "gridcolor": "white",
           "linecolor": "white",
           "ticks": "",
           "title": {
            "standoff": 15
           },
           "zerolinecolor": "white",
           "zerolinewidth": 2
          }
         }
        },
        "title": {
         "text": "SeapoDym Monthly Biomass (CAFE npp) and Observations : HOT station"
        },
        "xaxis": {
         "title": {
          "text": "Time"
         }
        },
        "yaxis": {
         "title": {
          "text": "Biomass . Epipelagic layer depth (mg/m^2)"
         }
        },
        "yaxis2": {
         "overlaying": "y",
         "side": "right",
         "title": {
          "text": "Layer Depth (m)"
         }
        }
       }
      }
     },
     "metadata": {},
     "output_type": "display_data"
    }
   ],
   "source": [
    "fig = go.Figure(\n",
    "    layout={\n",
    "        \"title\": f\"SeapoDym Monthly Biomass  : {export_file_name}\",\n",
    "        \"xaxis\": {\"title\": \"Time\"},\n",
    "        \"yaxis\": {\"title\": \"Biomass . Epipelagic layer depth (mg/m^2)\"},\n",
    "    }\n",
    ")\n",
    "\n",
    "\n",
    "fig.add_trace(\n",
    "    go.Scatter(\n",
    "        x=monthly_obs_day.index,\n",
    "        y=monthly_obs_day,\n",
    "        fill=None,\n",
    "        mode=\"lines\",\n",
    "        line={\"color\": \"red\", \"width\": 1},\n",
    "        name=\"Observations (day)\",\n",
    "    )\n",
    ")\n",
    "\n",
    "fig.add_trace(\n",
    "    go.Scatter(\n",
    "        x=monthly_obs_night.index,\n",
    "        y=monthly_obs_night,\n",
    "        fill=\"tonexty\",\n",
    "        mode=\"lines\",\n",
    "        line={\"color\": \"rgba(180, 180, 180, 0.2)\", \"width\": 1},\n",
    "        name=\"Observations (night)\",\n",
    "    )\n",
    ")\n",
    "fig.add_trace(\n",
    "    go.Scatter(\n",
    "        x=monthly_pred.index,\n",
    "        y=monthly_pred,\n",
    "        fill=None,\n",
    "        mode=\"lines\",\n",
    "        line={\"color\": \"black\"},\n",
    "        name=\"Predictions\",\n",
    "    )\n",
    ")\n",
    "fig.add_trace(px.line(monthly_layer).data[0])\n",
    "fig.update_traces(\n",
    "    yaxis=\"y2\",\n",
    "    selector={\"name\": \"pelagic_layer_depth\"},\n",
    "    line={\"color\": \"green\", \"width\": 1, \"dash\": \"dash\"},\n",
    ")\n",
    "fig.update_layout(yaxis2={\"title\": \"Layer Depth (m)\", \"overlaying\": \"y\", \"side\": \"right\"})\n",
    "\n",
    "fig.show()"
   ]
  },
  {
   "cell_type": "code",
   "execution_count": 11,
   "metadata": {},
   "outputs": [],
   "source": [
    "fig.write_html(f\"Biomass_{export_file_name}.html\")"
   ]
  },
  {
   "cell_type": "code",
   "execution_count": 12,
   "metadata": {},
   "outputs": [
    {
     "name": "stdout",
     "output_type": "stream",
     "text": [
      "correlation [0.5540630117439329, 0.38961950570295156]\n",
      "norm STD [0.4861892264870018, 0.3851776600979914]\n",
      "bias [0.3704248263348577, -0.9805184070578571]\n",
      "NRMSE [0.8352371076972749, 0.9209866288812267]\n",
      "name ['HOT Day', 'HOT Night']\n"
     ]
    },
    {
     "data": {
      "image/png": "[encoded data removed]",
      "text/plain": [
       "<Figure size 1000x800 with 2 Axes>"
      ]
     },
     "metadata": {},
     "output_type": "display_data"
    }
   ],
   "source": [
    "diagram = ModTaylorDiagram()\n",
    "\n",
    "all_model = [monthly_pred, monthly_pred]\n",
    "all_obs = [monthly_obs_day, monthly_obs_night]\n",
    "\n",
    "all_names = [\"HOT Day\", \"HOT Night\"]\n",
    "\n",
    "for model, obs, name in zip(all_model, all_obs, all_names):\n",
    "    diagram = generate_mod_taylor_diagram(diagram, obs=obs, model=model[obs.index], name=name)\n",
    "diagram.plot()\n",
    "plt.title(f\"Taylor Diagram for Seapodym model  : {export_file_name}\")\n",
    "\n",
    "# export the figure\n",
    "plt.savefig(f\"Taylor_{export_file_name}.png\")\n",
    "\n",
    "plt.show()"
   ]
  },
  {
   "cell_type": "code",
   "execution_count": 13,
   "metadata": {},
   "outputs": [
    {
     "data": {
      "text/html": [
       "<div>\n",
       "<style scoped>\n",
       "    .dataframe tbody tr th:only-of-type {\n",
       "        vertical-align: middle;\n",
       "    }\n",
       "\n",
       "    .dataframe tbody tr th {\n",
       "        vertical-align: top;\n",
       "    }\n",
       "\n",
       "    .dataframe thead th {\n",
       "        text-align: right;\n",
       "    }\n",
       "</style>\n",
       "<table border=\"1\" class=\"dataframe\">\n",
       "  <thead>\n",
       "    <tr style=\"text-align: right;\">\n",
       "      <th></th>\n",
       "      <th>name</th>\n",
       "      <th>correlation_coefficient</th>\n",
       "      <th>normalized_standard_deviation</th>\n",
       "      <th>bias</th>\n",
       "      <th>normalized_root_mean_square_deviation</th>\n",
       "    </tr>\n",
       "  </thead>\n",
       "  <tbody>\n",
       "    <tr>\n",
       "      <th>0</th>\n",
       "      <td>HOT Day</td>\n",
       "      <td>0.554063</td>\n",
       "      <td>0.486189</td>\n",
       "      <td>0.370425</td>\n",
       "      <td>0.835237</td>\n",
       "    </tr>\n",
       "    <tr>\n",
       "      <th>1</th>\n",
       "      <td>HOT Night</td>\n",
       "      <td>0.389620</td>\n",
       "      <td>0.385178</td>\n",
       "      <td>-0.980518</td>\n",
       "      <td>0.920987</td>\n",
       "    </tr>\n",
       "  </tbody>\n",
       "</table>\n",
       "</div>"
      ],
      "text/plain": [
       "        name  correlation_coefficient  normalized_standard_deviation  \\\n",
       "0    HOT Day                 0.554063                       0.486189   \n",
       "1  HOT Night                 0.389620                       0.385178   \n",
       "\n",
       "       bias  normalized_root_mean_square_deviation  \n",
       "0  0.370425                               0.835237  \n",
       "1 -0.980518                               0.920987  "
      ]
     },
     "execution_count": 13,
     "metadata": {},
     "output_type": "execute_result"
    }
   ],
   "source": [
    "diagram.get_stats().to_csv(f\"Stats_{export_file_name}.csv\", index=False)\n",
    "diagram.get_stats()"
   ]
  }
 ],
 "metadata": {
  "kernelspec": {
   "display_name": ".venv",
   "language": "python",
   "name": "python3"
  },
  "language_info": {
   "codemirror_mode": {
    "name": "ipython",
    "version": 3
   },
   "file_extension": ".py",
   "mimetype": "text/x-python",
   "name": "python",
   "nbconvert_exporter": "python",
   "pygments_lexer": "ipython3",
   "version": "3.12.8"
  }
 },
 "nbformat": 4,
 "nbformat_minor": 2
}
