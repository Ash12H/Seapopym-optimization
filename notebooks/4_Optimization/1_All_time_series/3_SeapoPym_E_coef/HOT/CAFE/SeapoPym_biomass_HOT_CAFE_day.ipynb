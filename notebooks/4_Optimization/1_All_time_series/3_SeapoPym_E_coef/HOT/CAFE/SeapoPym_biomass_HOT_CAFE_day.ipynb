{
 "cells": [
  {
   "cell_type": "code",
   "execution_count": 1,
   "metadata": {},
   "outputs": [],
   "source": [
    "import matplotlib.pyplot as plt\n",
    "import pandas as pd\n",
    "import pint\n",
    "import plotly.express as px\n",
    "import plotly.graph_objects as go\n",
    "import xarray as xr\n",
    "from dask.distributed import Client\n",
    "from seapopym.configuration.no_transport.parameter import ForcingParameters\n",
    "from seapopym.configuration.parameters.parameter_forcing import ForcingUnit\n",
    "from seapopym.standard.units import StandardUnitsLabels\n",
    "\n",
    "from seapopym_optimization import Observation, constraint, wrapper\n",
    "from seapopym_optimization.cost_function import NoTransportCostFunction\n",
    "from seapopym_optimization.functional_groups import FunctionalGroupOptimizeNoTransport, Parameter\n",
    "from seapopym_optimization.genetic_algorithm import GeneticAlgorithm, GeneticAlgorithmParameters\n",
    "from seapopym_optimization.taylor_diagram import ModTaylorDiagram, generate_mod_taylor_diagram"
   ]
  },
  {
   "cell_type": "code",
   "execution_count": 2,
   "metadata": {},
   "outputs": [],
   "source": [
    "path_to_forcing = \"../../../../../1_data_processing/1_1_Forcing/products/Hot_cmems.zarr\"\n",
    "path_to_cafe = \"../../../../../1_data_processing/1_1_Forcing/products/Hot_cafe.zarr\"\n",
    "path_to_obs = \"../../../../../1_data_processing/1_1_Forcing/products/Hot_obs_filtered.zarr\"\n",
    "export_file_name = \"SeapoPym_HOT_CAFE_opti_day_E_coeff\""
   ]
  },
  {
   "cell_type": "code",
   "execution_count": 3,
   "metadata": {},
   "outputs": [],
   "source": [
    "LATITUDE = 22.75\n",
    "LONGITUDE = -158\n",
    "TIME_START = \"2005-01-01\"\n",
    "TIME_END = \"2010-01-01\""
   ]
  },
  {
   "cell_type": "markdown",
   "metadata": {},
   "source": [
    "## Loading\n"
   ]
  },
  {
   "cell_type": "markdown",
   "metadata": {},
   "source": [
    "### Forcing\n"
   ]
  },
  {
   "cell_type": "code",
   "execution_count": 4,
   "metadata": {},
   "outputs": [
    {
     "data": {
      "text/html": [
       "<div><svg style=\"position: absolute; width: 0; height: 0; overflow: hidden\">\n",
       "<defs>\n",
       "<symbol id=\"icon-database\" viewBox=\"0 0 32 32\">\n",
       "<path d=\"M16 0c-8.837 0-16 2.239-16 5v4c0 2.761 7.163 5 16 5s16-2.239 16-5v-4c0-2.761-7.163-5-16-5z\"></path>\n",
       "<path d=\"M16 17c-8.837 0-16-2.239-16-5v6c0 2.761 7.163 5 16 5s16-2.239 16-5v-6c0 2.761-7.163 5-16 5z\"></path>\n",
       "<path d=\"M16 26c-8.837 0-16-2.239-16-5v6c0 2.761 7.163 5 16 5s16-2.239 16-5v-6c0 2.761-7.163 5-16 5z\"></path>\n",
       "</symbol>\n",
       "<symbol id=\"icon-file-text2\" viewBox=\"0 0 32 32\">\n",
       "<path d=\"M28.681 7.159c-0.694-0.947-1.662-2.053-2.724-3.116s-2.169-2.030-3.116-2.724c-1.612-1.182-2.393-1.319-2.841-1.319h-15.5c-1.378 0-2.5 1.121-2.5 2.5v27c0 1.378 1.122 2.5 2.5 2.5h23c1.378 0 2.5-1.122 2.5-2.5v-19.5c0-0.448-0.137-1.23-1.319-2.841zM24.543 5.457c0.959 0.959 1.712 1.825 2.268 2.543h-4.811v-4.811c0.718 0.556 1.584 1.309 2.543 2.268zM28 29.5c0 0.271-0.229 0.5-0.5 0.5h-23c-0.271 0-0.5-0.229-0.5-0.5v-27c0-0.271 0.229-0.5 0.5-0.5 0 0 15.499-0 15.5 0v7c0 0.552 0.448 1 1 1h7v19.5z\"></path>\n",
       "<path d=\"M23 26h-14c-0.552 0-1-0.448-1-1s0.448-1 1-1h14c0.552 0 1 0.448 1 1s-0.448 1-1 1z\"></path>\n",
       "<path d=\"M23 22h-14c-0.552 0-1-0.448-1-1s0.448-1 1-1h14c0.552 0 1 0.448 1 1s-0.448 1-1 1z\"></path>\n",
       "<path d=\"M23 18h-14c-0.552 0-1-0.448-1-1s0.448-1 1-1h14c0.552 0 1 0.448 1 1s-0.448 1-1 1z\"></path>\n",
       "</symbol>\n",
       "</defs>\n",
       "</svg>\n",
       "<style>/* CSS stylesheet for displaying xarray objects in jupyterlab.\n",
       " *\n",
       " */\n",
       "\n",
       ":root {\n",
       "  --xr-font-color0: var(--jp-content-font-color0, rgba(0, 0, 0, 1));\n",
       "  --xr-font-color2: var(--jp-content-font-color2, rgba(0, 0, 0, 0.54));\n",
       "  --xr-font-color3: var(--jp-content-font-color3, rgba(0, 0, 0, 0.38));\n",
       "  --xr-border-color: var(--jp-border-color2, #e0e0e0);\n",
       "  --xr-disabled-color: var(--jp-layout-color3, #bdbdbd);\n",
       "  --xr-background-color: var(--jp-layout-color0, white);\n",
       "  --xr-background-color-row-even: var(--jp-layout-color1, white);\n",
       "  --xr-background-color-row-odd: var(--jp-layout-color2, #eeeeee);\n",
       "}\n",
       "\n",
       "html[theme=dark],\n",
       "html[data-theme=dark],\n",
       "body[data-theme=dark],\n",
       "body.vscode-dark {\n",
       "  --xr-font-color0: rgba(255, 255, 255, 1);\n",
       "  --xr-font-color2: rgba(255, 255, 255, 0.54);\n",
       "  --xr-font-color3: rgba(255, 255, 255, 0.38);\n",
       "  --xr-border-color: #1F1F1F;\n",
       "  --xr-disabled-color: #515151;\n",
       "  --xr-background-color: #111111;\n",
       "  --xr-background-color-row-even: #111111;\n",
       "  --xr-background-color-row-odd: #313131;\n",
       "}\n",
       "\n",
       ".xr-wrap {\n",
       "  display: block !important;\n",
       "  min-width: 300px;\n",
       "  max-width: 700px;\n",
       "}\n",
       "\n",
       ".xr-text-repr-fallback {\n",
       "  /* fallback to plain text repr when CSS is not injected (untrusted notebook) */\n",
       "  display: none;\n",
       "}\n",
       "\n",
       ".xr-header {\n",
       "  padding-top: 6px;\n",
       "  padding-bottom: 6px;\n",
       "  margin-bottom: 4px;\n",
       "  border-bottom: solid 1px var(--xr-border-color);\n",
       "}\n",
       "\n",
       ".xr-header > div,\n",
       ".xr-header > ul {\n",
       "  display: inline;\n",
       "  margin-top: 0;\n",
       "  margin-bottom: 0;\n",
       "}\n",
       "\n",
       ".xr-obj-type,\n",
       ".xr-array-name {\n",
       "  margin-left: 2px;\n",
       "  margin-right: 10px;\n",
       "}\n",
       "\n",
       ".xr-obj-type {\n",
       "  color: var(--xr-font-color2);\n",
       "}\n",
       "\n",
       ".xr-sections {\n",
       "  padding-left: 0 !important;\n",
       "  display: grid;\n",
       "  grid-template-columns: 150px auto auto 1fr 0 20px 0 20px;\n",
       "}\n",
       "\n",
       ".xr-section-item {\n",
       "  display: contents;\n",
       "}\n",
       "\n",
       ".xr-section-item input {\n",
       "  display: inline-block;\n",
       "  opacity: 0;\n",
       "}\n",
       "\n",
       ".xr-section-item input + label {\n",
       "  color: var(--xr-disabled-color);\n",
       "}\n",
       "\n",
       ".xr-section-item input:enabled + label {\n",
       "  cursor: pointer;\n",
       "  color: var(--xr-font-color2);\n",
       "}\n",
       "\n",
       ".xr-section-item input:focus + label {\n",
       "  border: 2px solid var(--xr-font-color0);\n",
       "}\n",
       "\n",
       ".xr-section-item input:enabled + label:hover {\n",
       "  color: var(--xr-font-color0);\n",
       "}\n",
       "\n",
       ".xr-section-summary {\n",
       "  grid-column: 1;\n",
       "  color: var(--xr-font-color2);\n",
       "  font-weight: 500;\n",
       "}\n",
       "\n",
       ".xr-section-summary > span {\n",
       "  display: inline-block;\n",
       "  padding-left: 0.5em;\n",
       "}\n",
       "\n",
       ".xr-section-summary-in:disabled + label {\n",
       "  color: var(--xr-font-color2);\n",
       "}\n",
       "\n",
       ".xr-section-summary-in + label:before {\n",
       "  display: inline-block;\n",
       "  content: '►';\n",
       "  font-size: 11px;\n",
       "  width: 15px;\n",
       "  text-align: center;\n",
       "}\n",
       "\n",
       ".xr-section-summary-in:disabled + label:before {\n",
       "  color: var(--xr-disabled-color);\n",
       "}\n",
       "\n",
       ".xr-section-summary-in:checked + label:before {\n",
       "  content: '▼';\n",
       "}\n",
       "\n",
       ".xr-section-summary-in:checked + label > span {\n",
       "  display: none;\n",
       "}\n",
       "\n",
       ".xr-section-summary,\n",
       ".xr-section-inline-details {\n",
       "  padding-top: 4px;\n",
       "  padding-bottom: 4px;\n",
       "}\n",
       "\n",
       ".xr-section-inline-details {\n",
       "  grid-column: 2 / -1;\n",
       "}\n",
       "\n",
       ".xr-section-details {\n",
       "  display: none;\n",
       "  grid-column: 1 / -1;\n",
       "  margin-bottom: 5px;\n",
       "}\n",
       "\n",
       ".xr-section-summary-in:checked ~ .xr-section-details {\n",
       "  display: contents;\n",
       "}\n",
       "\n",
       ".xr-array-wrap {\n",
       "  grid-column: 1 / -1;\n",
       "  display: grid;\n",
       "  grid-template-columns: 20px auto;\n",
       "}\n",
       "\n",
       ".xr-array-wrap > label {\n",
       "  grid-column: 1;\n",
       "  vertical-align: top;\n",
       "}\n",
       "\n",
       ".xr-preview {\n",
       "  color: var(--xr-font-color3);\n",
       "}\n",
       "\n",
       ".xr-array-preview,\n",
       ".xr-array-data {\n",
       "  padding: 0 5px !important;\n",
       "  grid-column: 2;\n",
       "}\n",
       "\n",
       ".xr-array-data,\n",
       ".xr-array-in:checked ~ .xr-array-preview {\n",
       "  display: none;\n",
       "}\n",
       "\n",
       ".xr-array-in:checked ~ .xr-array-data,\n",
       ".xr-array-preview {\n",
       "  display: inline-block;\n",
       "}\n",
       "\n",
       ".xr-dim-list {\n",
       "  display: inline-block !important;\n",
       "  list-style: none;\n",
       "  padding: 0 !important;\n",
       "  margin: 0;\n",
       "}\n",
       "\n",
       ".xr-dim-list li {\n",
       "  display: inline-block;\n",
       "  padding: 0;\n",
       "  margin: 0;\n",
       "}\n",
       "\n",
       ".xr-dim-list:before {\n",
       "  content: '(';\n",
       "}\n",
       "\n",
       ".xr-dim-list:after {\n",
       "  content: ')';\n",
       "}\n",
       "\n",
       ".xr-dim-list li:not(:last-child):after {\n",
       "  content: ',';\n",
       "  padding-right: 5px;\n",
       "}\n",
       "\n",
       ".xr-has-index {\n",
       "  font-weight: bold;\n",
       "}\n",
       "\n",
       ".xr-var-list,\n",
       ".xr-var-item {\n",
       "  display: contents;\n",
       "}\n",
       "\n",
       ".xr-var-item > div,\n",
       ".xr-var-item label,\n",
       ".xr-var-item > .xr-var-name span {\n",
       "  background-color: var(--xr-background-color-row-even);\n",
       "  margin-bottom: 0;\n",
       "}\n",
       "\n",
       ".xr-var-item > .xr-var-name:hover span {\n",
       "  padding-right: 5px;\n",
       "}\n",
       "\n",
       ".xr-var-list > li:nth-child(odd) > div,\n",
       ".xr-var-list > li:nth-child(odd) > label,\n",
       ".xr-var-list > li:nth-child(odd) > .xr-var-name span {\n",
       "  background-color: var(--xr-background-color-row-odd);\n",
       "}\n",
       "\n",
       ".xr-var-name {\n",
       "  grid-column: 1;\n",
       "}\n",
       "\n",
       ".xr-var-dims {\n",
       "  grid-column: 2;\n",
       "}\n",
       "\n",
       ".xr-var-dtype {\n",
       "  grid-column: 3;\n",
       "  text-align: right;\n",
       "  color: var(--xr-font-color2);\n",
       "}\n",
       "\n",
       ".xr-var-preview {\n",
       "  grid-column: 4;\n",
       "}\n",
       "\n",
       ".xr-index-preview {\n",
       "  grid-column: 2 / 5;\n",
       "  color: var(--xr-font-color2);\n",
       "}\n",
       "\n",
       ".xr-var-name,\n",
       ".xr-var-dims,\n",
       ".xr-var-dtype,\n",
       ".xr-preview,\n",
       ".xr-attrs dt {\n",
       "  white-space: nowrap;\n",
       "  overflow: hidden;\n",
       "  text-overflow: ellipsis;\n",
       "  padding-right: 10px;\n",
       "}\n",
       "\n",
       ".xr-var-name:hover,\n",
       ".xr-var-dims:hover,\n",
       ".xr-var-dtype:hover,\n",
       ".xr-attrs dt:hover {\n",
       "  overflow: visible;\n",
       "  width: auto;\n",
       "  z-index: 1;\n",
       "}\n",
       "\n",
       ".xr-var-attrs,\n",
       ".xr-var-data,\n",
       ".xr-index-data {\n",
       "  display: none;\n",
       "  background-color: var(--xr-background-color) !important;\n",
       "  padding-bottom: 5px !important;\n",
       "}\n",
       "\n",
       ".xr-var-attrs-in:checked ~ .xr-var-attrs,\n",
       ".xr-var-data-in:checked ~ .xr-var-data,\n",
       ".xr-index-data-in:checked ~ .xr-index-data {\n",
       "  display: block;\n",
       "}\n",
       "\n",
       ".xr-var-data > table {\n",
       "  float: right;\n",
       "}\n",
       "\n",
       ".xr-var-name span,\n",
       ".xr-var-data,\n",
       ".xr-index-name div,\n",
       ".xr-index-data,\n",
       ".xr-attrs {\n",
       "  padding-left: 25px !important;\n",
       "}\n",
       "\n",
       ".xr-attrs,\n",
       ".xr-var-attrs,\n",
       ".xr-var-data,\n",
       ".xr-index-data {\n",
       "  grid-column: 1 / -1;\n",
       "}\n",
       "\n",
       "dl.xr-attrs {\n",
       "  padding: 0;\n",
       "  margin: 0;\n",
       "  display: grid;\n",
       "  grid-template-columns: 125px auto;\n",
       "}\n",
       "\n",
       ".xr-attrs dt,\n",
       ".xr-attrs dd {\n",
       "  padding: 0;\n",
       "  margin: 0;\n",
       "  float: left;\n",
       "  padding-right: 10px;\n",
       "  width: auto;\n",
       "}\n",
       "\n",
       ".xr-attrs dt {\n",
       "  font-weight: normal;\n",
       "  grid-column: 1;\n",
       "}\n",
       "\n",
       ".xr-attrs dt:hover span {\n",
       "  display: inline-block;\n",
       "  background: var(--xr-background-color);\n",
       "  padding-right: 10px;\n",
       "}\n",
       "\n",
       ".xr-attrs dd {\n",
       "  grid-column: 2;\n",
       "  white-space: pre-wrap;\n",
       "  word-break: break-all;\n",
       "}\n",
       "\n",
       ".xr-icon-database,\n",
       ".xr-icon-file-text2,\n",
       ".xr-no-icon {\n",
       "  display: inline-block;\n",
       "  vertical-align: middle;\n",
       "  width: 1em;\n",
       "  height: 1.5em !important;\n",
       "  stroke-width: 0;\n",
       "  stroke: currentColor;\n",
       "  fill: currentColor;\n",
       "}\n",
       "</style><pre class='xr-text-repr-fallback'>&lt;xarray.Dataset&gt; Size: 322kB\n",
       "Dimensions:              (latitude: 1, longitude: 1, time: 1827, depth: 3)\n",
       "Coordinates:\n",
       "  * depth                (depth) int64 24B 0 1 2\n",
       "  * latitude             (latitude) float64 8B 22.75\n",
       "  * longitude            (longitude) int64 8B -158\n",
       "  * time                 (time) datetime64[ns] 15kB 2005-01-01 ... 2010-01-01\n",
       "Data variables: (12/13)\n",
       "    T                    (latitude, longitude, time, depth) float64 44kB 24.7...\n",
       "    U                    (latitude, longitude, time, depth) float64 44kB -0.0...\n",
       "    V                    (latitude, longitude, time, depth) float64 44kB 0.15...\n",
       "    mnkc_epi             (latitude, longitude, time) float64 15kB 0.2904 ... ...\n",
       "    mnkc_hmlmeso         (latitude, longitude, time) float64 15kB 0.8233 ... ...\n",
       "    mnkc_lmeso           (latitude, longitude, time) float64 15kB 2.403 ... 1...\n",
       "    ...                   ...\n",
       "    mnkc_mumeso          (latitude, longitude, time) float64 15kB 0.5779 ... ...\n",
       "    mnkc_umeso           (latitude, longitude, time) float64 15kB 0.79 ... 0....\n",
       "    npp                  (latitude, longitude, time) float64 15kB 221.1 ... 3...\n",
       "    pelagic_layer_depth  (latitude, longitude, time, depth) float64 44kB 107....\n",
       "    zeu                  (latitude, longitude, time) float64 15kB 71.63 ... 7...\n",
       "    zooc                 (latitude, longitude, time) float64 15kB 0.2527 ... ...\n",
       "Attributes:\n",
       "    Conventions:  CF-1.7\n",
       "    history:      Created on 2024-10-17\n",
       "    institution:  CLS\n",
       "    references:   http://www.cls.fr; http://www.seapodym.eu\n",
       "    source:       SEAPODYM-LMTL 3.0.0\n",
       "    title:        Global ocean low and mid trophic levels biomass content hin...</pre><div class='xr-wrap' style='display:none'><div class='xr-header'><div class='xr-obj-type'>xarray.Dataset</div></div><ul class='xr-sections'><li class='xr-section-item'><input id='section-d2bcc093-ed71-450e-9f53-da40146aa276' class='xr-section-summary-in' type='checkbox' disabled ><label for='section-d2bcc093-ed71-450e-9f53-da40146aa276' class='xr-section-summary'  title='Expand/collapse section'>Dimensions:</label><div class='xr-section-inline-details'><ul class='xr-dim-list'><li><span class='xr-has-index'>latitude</span>: 1</li><li><span class='xr-has-index'>longitude</span>: 1</li><li><span class='xr-has-index'>time</span>: 1827</li><li><span class='xr-has-index'>depth</span>: 3</li></ul></div><div class='xr-section-details'></div></li><li class='xr-section-item'><input id='section-68a309c0-fecb-4f9f-92f9-e1898c227a89' class='xr-section-summary-in' type='checkbox'  checked><label for='section-68a309c0-fecb-4f9f-92f9-e1898c227a89' class='xr-section-summary' >Coordinates: <span>(4)</span></label><div class='xr-section-inline-details'></div><div class='xr-section-details'><ul class='xr-var-list'><li class='xr-var-item'><div class='xr-var-name'><span class='xr-has-index'>depth</span></div><div class='xr-var-dims'>(depth)</div><div class='xr-var-dtype'>int64</div><div class='xr-var-preview xr-preview'>0 1 2</div><input id='attrs-3fbe3461-f9c0-4c78-b78d-fee64b823ab3' class='xr-var-attrs-in' type='checkbox' ><label for='attrs-3fbe3461-f9c0-4c78-b78d-fee64b823ab3' title='Show/Hide attributes'><svg class='icon xr-icon-file-text2'><use xlink:href='#icon-file-text2'></use></svg></label><input id='data-4e073cc2-c70e-4da9-a945-1874de737170' class='xr-var-data-in' type='checkbox'><label for='data-4e073cc2-c70e-4da9-a945-1874de737170' title='Show/Hide data repr'><svg class='icon xr-icon-database'><use xlink:href='#icon-database'></use></svg></label><div class='xr-var-attrs'><dl class='xr-attrs'><dt><span>axis :</span></dt><dd>Z</dd><dt><span>desc :</span></dt><dd>The layer depth according to Seapodym definition</dd><dt><span>flag_meanings :</span></dt><dd>epipelagic, upper-mesopelagic, lower-mesopelagic</dd><dt><span>flag_values :</span></dt><dd>[0 1 2]</dd><dt><span>long_name :</span></dt><dd>Layer depth</dd><dt><span>standard_name :</span></dt><dd>depth</dd></dl></div><div class='xr-var-data'><pre>array([0, 1, 2])</pre></div></li><li class='xr-var-item'><div class='xr-var-name'><span class='xr-has-index'>latitude</span></div><div class='xr-var-dims'>(latitude)</div><div class='xr-var-dtype'>float64</div><div class='xr-var-preview xr-preview'>22.75</div><input id='attrs-dd7a6642-879f-49c4-9490-b48bc9cea218' class='xr-var-attrs-in' type='checkbox' ><label for='attrs-dd7a6642-879f-49c4-9490-b48bc9cea218' title='Show/Hide attributes'><svg class='icon xr-icon-file-text2'><use xlink:href='#icon-file-text2'></use></svg></label><input id='data-f3c484fd-e8a6-45e3-884c-f9254a2d9509' class='xr-var-data-in' type='checkbox'><label for='data-f3c484fd-e8a6-45e3-884c-f9254a2d9509' title='Show/Hide data repr'><svg class='icon xr-icon-database'><use xlink:href='#icon-database'></use></svg></label><div class='xr-var-attrs'><dl class='xr-attrs'><dt><span>axis :</span></dt><dd>Y</dd><dt><span>standard_name :</span></dt><dd>latitude</dd><dt><span>units :</span></dt><dd>degrees_north</dd></dl></div><div class='xr-var-data'><pre>array([22.75])</pre></div></li><li class='xr-var-item'><div class='xr-var-name'><span class='xr-has-index'>longitude</span></div><div class='xr-var-dims'>(longitude)</div><div class='xr-var-dtype'>int64</div><div class='xr-var-preview xr-preview'>-158</div><input id='attrs-a4ad2e20-d716-4839-8296-7efd5ea01ba2' class='xr-var-attrs-in' type='checkbox' ><label for='attrs-a4ad2e20-d716-4839-8296-7efd5ea01ba2' title='Show/Hide attributes'><svg class='icon xr-icon-file-text2'><use xlink:href='#icon-file-text2'></use></svg></label><input id='data-e3cfec58-61c2-4274-adcf-f823bb9a9ece' class='xr-var-data-in' type='checkbox'><label for='data-e3cfec58-61c2-4274-adcf-f823bb9a9ece' title='Show/Hide data repr'><svg class='icon xr-icon-database'><use xlink:href='#icon-database'></use></svg></label><div class='xr-var-attrs'><dl class='xr-attrs'><dt><span>axis :</span></dt><dd>X</dd><dt><span>standard_name :</span></dt><dd>longitude</dd><dt><span>units :</span></dt><dd>degrees_east</dd></dl></div><div class='xr-var-data'><pre>array([-158])</pre></div></li><li class='xr-var-item'><div class='xr-var-name'><span class='xr-has-index'>time</span></div><div class='xr-var-dims'>(time)</div><div class='xr-var-dtype'>datetime64[ns]</div><div class='xr-var-preview xr-preview'>2005-01-01 ... 2010-01-01</div><input id='attrs-ebbb709d-9439-4952-8885-0400b6a3a6fe' class='xr-var-attrs-in' type='checkbox' ><label for='attrs-ebbb709d-9439-4952-8885-0400b6a3a6fe' title='Show/Hide attributes'><svg class='icon xr-icon-file-text2'><use xlink:href='#icon-file-text2'></use></svg></label><input id='data-8241ecea-34f4-4606-967d-164975ce0b62' class='xr-var-data-in' type='checkbox'><label for='data-8241ecea-34f4-4606-967d-164975ce0b62' title='Show/Hide data repr'><svg class='icon xr-icon-database'><use xlink:href='#icon-database'></use></svg></label><div class='xr-var-attrs'><dl class='xr-attrs'><dt><span>axis :</span></dt><dd>T</dd><dt><span>long_name :</span></dt><dd>Time</dd><dt><span>standard_name :</span></dt><dd>time</dd><dt><span>unit_long :</span></dt><dd>Seconds Since 1970-01-01</dd></dl></div><div class='xr-var-data'><pre>array([&#x27;2005-01-01T00:00:00.000000000&#x27;, &#x27;2005-01-02T00:00:00.000000000&#x27;,\n",
       "       &#x27;2005-01-03T00:00:00.000000000&#x27;, ..., &#x27;2009-12-30T00:00:00.000000000&#x27;,\n",
       "       &#x27;2009-12-31T00:00:00.000000000&#x27;, &#x27;2010-01-01T00:00:00.000000000&#x27;],\n",
       "      dtype=&#x27;datetime64[ns]&#x27;)</pre></div></li></ul></div></li><li class='xr-section-item'><input id='section-2c2301fa-a7ee-41f0-a2c9-44a04c0b9344' class='xr-section-summary-in' type='checkbox'  checked><label for='section-2c2301fa-a7ee-41f0-a2c9-44a04c0b9344' class='xr-section-summary' >Data variables: <span>(13)</span></label><div class='xr-section-inline-details'></div><div class='xr-section-details'><ul class='xr-var-list'><li class='xr-var-item'><div class='xr-var-name'><span>T</span></div><div class='xr-var-dims'>(latitude, longitude, time, depth)</div><div class='xr-var-dtype'>float64</div><div class='xr-var-preview xr-preview'>24.78 16.91 6.84 ... 15.88 6.694</div><input id='attrs-79a4241f-38e4-4ffe-a991-817791970d68' class='xr-var-attrs-in' type='checkbox' ><label for='attrs-79a4241f-38e4-4ffe-a991-817791970d68' title='Show/Hide attributes'><svg class='icon xr-icon-file-text2'><use xlink:href='#icon-file-text2'></use></svg></label><input id='data-b4d11965-5571-41d5-9571-ff53d20b2d0d' class='xr-var-data-in' type='checkbox'><label for='data-b4d11965-5571-41d5-9571-ff53d20b2d0d' title='Show/Hide data repr'><svg class='icon xr-icon-database'><use xlink:href='#icon-database'></use></svg></label><div class='xr-var-attrs'><dl class='xr-attrs'><dt><span>standard_name :</span></dt><dd>sea_water_potential_temperature_vertical_mean_over_pelagic_layer</dd><dt><span>units :</span></dt><dd>degree_Celsius</dd></dl></div><div class='xr-var-data'><pre>array([[[[24.77601729, 16.91053138,  6.84020696],\n",
       "         [24.76926926, 16.98450739,  6.82267471],\n",
       "         [24.70059076, 16.64571867,  6.57356535],\n",
       "         ...,\n",
       "         [23.01989095, 14.98103754,  6.26687705],\n",
       "         [23.1066693 , 15.47717508,  6.48640861],\n",
       "         [23.15321176, 15.8806061 ,  6.69408383]]]])</pre></div></li><li class='xr-var-item'><div class='xr-var-name'><span>U</span></div><div class='xr-var-dims'>(latitude, longitude, time, depth)</div><div class='xr-var-dtype'>float64</div><div class='xr-var-preview xr-preview'>-0.006909 -0.06108 ... 0.004116</div><input id='attrs-0d79b295-a169-4e60-8b39-2b5c0ec5fce0' class='xr-var-attrs-in' type='checkbox' ><label for='attrs-0d79b295-a169-4e60-8b39-2b5c0ec5fce0' title='Show/Hide attributes'><svg class='icon xr-icon-file-text2'><use xlink:href='#icon-file-text2'></use></svg></label><input id='data-af2c6d97-8e6a-468e-b7a1-9a139447ebe2' class='xr-var-data-in' type='checkbox'><label for='data-af2c6d97-8e6a-468e-b7a1-9a139447ebe2' title='Show/Hide data repr'><svg class='icon xr-icon-database'><use xlink:href='#icon-database'></use></svg></label><div class='xr-var-attrs'><dl class='xr-attrs'><dt><span>standard_name :</span></dt><dd>eastward_sea_water_velocity_vertical_mean_over_pelagic_layer</dd><dt><span>units :</span></dt><dd>m/s</dd></dl></div><div class='xr-var-data'><pre>array([[[[-0.00690909, -0.06107504, -0.04054592],\n",
       "         [-0.01154823, -0.06016183, -0.03713658],\n",
       "         [-0.00225168, -0.06435654, -0.03283837],\n",
       "         ...,\n",
       "         [ 0.02474302,  0.00381817, -0.00312837],\n",
       "         [ 0.0195316 ,  0.00351377,  0.00331895],\n",
       "         [ 0.01342522,  0.00082891,  0.00411649]]]])</pre></div></li><li class='xr-var-item'><div class='xr-var-name'><span>V</span></div><div class='xr-var-dims'>(latitude, longitude, time, depth)</div><div class='xr-var-dtype'>float64</div><div class='xr-var-preview xr-preview'>0.1576 0.05396 ... -0.06703 -0.1116</div><input id='attrs-173507fa-f3cc-42f4-853a-27bdf58ddeda' class='xr-var-attrs-in' type='checkbox' ><label for='attrs-173507fa-f3cc-42f4-853a-27bdf58ddeda' title='Show/Hide attributes'><svg class='icon xr-icon-file-text2'><use xlink:href='#icon-file-text2'></use></svg></label><input id='data-aa67d058-5c67-4bd2-a37a-91ff898337f8' class='xr-var-data-in' type='checkbox'><label for='data-aa67d058-5c67-4bd2-a37a-91ff898337f8' title='Show/Hide data repr'><svg class='icon xr-icon-database'><use xlink:href='#icon-database'></use></svg></label><div class='xr-var-attrs'><dl class='xr-attrs'><dt><span>standard_name :</span></dt><dd>northward_sea_water_velocity_vertical_mean_over_pelagic_layer</dd><dt><span>units :</span></dt><dd>m/s</dd></dl></div><div class='xr-var-data'><pre>array([[[[ 0.15757503,  0.05395977, -0.02135997],\n",
       "         [ 0.10265439,  0.05494683, -0.01894928],\n",
       "         [ 0.10018043,  0.05642741, -0.01314085],\n",
       "         ...,\n",
       "         [-0.16168601, -0.07467981, -0.121046  ],\n",
       "         [-0.13607325, -0.07357254, -0.11551597],\n",
       "         [-0.14377985, -0.06703015, -0.11164368]]]])</pre></div></li><li class='xr-var-item'><div class='xr-var-name'><span>mnkc_epi</span></div><div class='xr-var-dims'>(latitude, longitude, time)</div><div class='xr-var-dtype'>float64</div><div class='xr-var-preview xr-preview'>0.2904 0.2904 ... 0.2933 0.2962</div><input id='attrs-5aabdf71-e644-44db-b49c-a497fb9f5cf1' class='xr-var-attrs-in' type='checkbox' ><label for='attrs-5aabdf71-e644-44db-b49c-a497fb9f5cf1' title='Show/Hide attributes'><svg class='icon xr-icon-file-text2'><use xlink:href='#icon-file-text2'></use></svg></label><input id='data-6de75a3b-1961-45af-834d-7ea543047ec9' class='xr-var-data-in' type='checkbox'><label for='data-6de75a3b-1961-45af-834d-7ea543047ec9' title='Show/Hide data repr'><svg class='icon xr-icon-database'><use xlink:href='#icon-database'></use></svg></label><div class='xr-var-attrs'><dl class='xr-attrs'><dt><span>carbon_to_wet_weight_conversion_factor :</span></dt><dd>11.9</dd><dt><span>day_layer :</span></dt><dd>epipelagic (1)</dd><dt><span>night_layer :</span></dt><dd>epipelagic (1)</dd><dt><span>standard_name :</span></dt><dd>mass_content_of_epipelagic_micronekton_expressed_as_wet_weight_in_sea_water</dd><dt><span>units :</span></dt><dd>g m-2</dd></dl></div><div class='xr-var-data'><pre>array([[[0.29043383, 0.29043383, 0.3049555 , ..., 0.29043383,\n",
       "         0.29333816, 0.2962425 ]]])</pre></div></li><li class='xr-var-item'><div class='xr-var-name'><span>mnkc_hmlmeso</span></div><div class='xr-var-dims'>(latitude, longitude, time)</div><div class='xr-var-dtype'>float64</div><div class='xr-var-preview xr-preview'>0.8233 0.8372 ... 0.7705 0.7775</div><input id='attrs-16dcf266-58e8-4fc1-b0f1-7f99b664da8f' class='xr-var-attrs-in' type='checkbox' ><label for='attrs-16dcf266-58e8-4fc1-b0f1-7f99b664da8f' title='Show/Hide attributes'><svg class='icon xr-icon-file-text2'><use xlink:href='#icon-file-text2'></use></svg></label><input id='data-b75999e1-5c0d-4de1-9786-247d884c7c9e' class='xr-var-data-in' type='checkbox'><label for='data-b75999e1-5c0d-4de1-9786-247d884c7c9e' title='Show/Hide data repr'><svg class='icon xr-icon-database'><use xlink:href='#icon-database'></use></svg></label><div class='xr-var-attrs'><dl class='xr-attrs'><dt><span>carbon_to_wet_weight_conversion_factor :</span></dt><dd>11.9</dd><dt><span>day_layer :</span></dt><dd>lower mesopelagic (3)</dd><dt><span>night_layer :</span></dt><dd>epipelagic (1)</dd><dt><span>standard_name :</span></dt><dd>mass_content_of_highly_migrant_lower_mesopelagic_micronekton_expressed_as_wet_weight_in_sea_water</dd><dt><span>units :</span></dt><dd>g m-2</dd></dl></div><div class='xr-var-data'><pre>array([[[0.82328812, 0.83717156, 0.86493844, ..., 0.75803596,\n",
       "         0.77053105, 0.77747277]]])</pre></div></li><li class='xr-var-item'><div class='xr-var-name'><span>mnkc_lmeso</span></div><div class='xr-var-dims'>(latitude, longitude, time)</div><div class='xr-var-dtype'>float64</div><div class='xr-var-preview xr-preview'>2.403 2.385 2.404 ... 1.651 1.675</div><input id='attrs-74c20b97-3c1c-4447-b9ef-1b739e5d850c' class='xr-var-attrs-in' type='checkbox' ><label for='attrs-74c20b97-3c1c-4447-b9ef-1b739e5d850c' title='Show/Hide attributes'><svg class='icon xr-icon-file-text2'><use xlink:href='#icon-file-text2'></use></svg></label><input id='data-a78357f8-9802-4ae8-851f-b3388f9816eb' class='xr-var-data-in' type='checkbox'><label for='data-a78357f8-9802-4ae8-851f-b3388f9816eb' title='Show/Hide data repr'><svg class='icon xr-icon-database'><use xlink:href='#icon-database'></use></svg></label><div class='xr-var-attrs'><dl class='xr-attrs'><dt><span>carbon_to_wet_weight_conversion_factor :</span></dt><dd>11.9</dd><dt><span>day_layer :</span></dt><dd>lower mesopelagic (3)</dd><dt><span>night_layer :</span></dt><dd>lower mesopelagic (3)</dd><dt><span>standard_name :</span></dt><dd>mass_content_of_lower_mesopelagic_micronekton_expressed_as_wet_weight_in_sea_water</dd><dt><span>units :</span></dt><dd>g m-2</dd></dl></div><div class='xr-var-data'><pre>array([[[2.40332421, 2.38500788, 2.40387925, ..., 1.59740581,\n",
       "         1.65124471, 1.6745564 ]]])</pre></div></li><li class='xr-var-item'><div class='xr-var-name'><span>mnkc_mlmeso</span></div><div class='xr-var-dims'>(latitude, longitude, time)</div><div class='xr-var-dtype'>float64</div><div class='xr-var-preview xr-preview'>1.256 1.264 1.26 ... 0.9401 0.9479</div><input id='attrs-2b168f6e-20ae-4c86-bc6c-d00e7f193f3c' class='xr-var-attrs-in' type='checkbox' ><label for='attrs-2b168f6e-20ae-4c86-bc6c-d00e7f193f3c' title='Show/Hide attributes'><svg class='icon xr-icon-file-text2'><use xlink:href='#icon-file-text2'></use></svg></label><input id='data-fb857c21-bb35-4d36-b760-1aaee5b29769' class='xr-var-data-in' type='checkbox'><label for='data-fb857c21-bb35-4d36-b760-1aaee5b29769' title='Show/Hide data repr'><svg class='icon xr-icon-database'><use xlink:href='#icon-database'></use></svg></label><div class='xr-var-attrs'><dl class='xr-attrs'><dt><span>carbon_to_wet_weight_conversion_factor :</span></dt><dd>11.9</dd><dt><span>day_layer :</span></dt><dd>lower mesopelagic (3)</dd><dt><span>night_layer :</span></dt><dd>upper mesopelagic (2)</dd><dt><span>standard_name :</span></dt><dd>mass_content_of_migrant_lower_mesopelagic_micronekton_expressed_as_wet_weight_in_sea_water</dd><dt><span>units :</span></dt><dd>g m-2</dd></dl></div><div class='xr-var-data'><pre>array([[[1.25603542, 1.26386932, 1.26038758, ..., 0.91569598,\n",
       "         0.94006812, 0.94790202]]])</pre></div></li><li class='xr-var-item'><div class='xr-var-name'><span>mnkc_mumeso</span></div><div class='xr-var-dims'>(latitude, longitude, time)</div><div class='xr-var-dtype'>float64</div><div class='xr-var-preview xr-preview'>0.5779 0.5823 0.604 ... 0.591 0.617</div><input id='attrs-d92404c2-26e5-4ec3-adbd-6d748cabeb50' class='xr-var-attrs-in' type='checkbox' ><label for='attrs-d92404c2-26e5-4ec3-adbd-6d748cabeb50' title='Show/Hide attributes'><svg class='icon xr-icon-file-text2'><use xlink:href='#icon-file-text2'></use></svg></label><input id='data-457ca443-6b20-4d9d-a504-c3783f1e9450' class='xr-var-data-in' type='checkbox'><label for='data-457ca443-6b20-4d9d-a504-c3783f1e9450' title='Show/Hide data repr'><svg class='icon xr-icon-database'><use xlink:href='#icon-database'></use></svg></label><div class='xr-var-attrs'><dl class='xr-attrs'><dt><span>carbon_to_wet_weight_conversion_factor :</span></dt><dd>11.9</dd><dt><span>day_layer :</span></dt><dd>upper mesopelagic (2)</dd><dt><span>night_layer :</span></dt><dd>epipelagic (1)</dd><dt><span>standard_name :</span></dt><dd>mass_content_of_migrant_upper_mesopelagic_micronekton_expressed_as_wet_weight_in_sea_water</dd><dt><span>units :</span></dt><dd>g m-2</dd></dl></div><div class='xr-var-data'><pre>array([[[0.57793245, 0.5822778 , 0.60400456, ..., 0.5822778 ,\n",
       "         0.59096851, 0.61704062]]])</pre></div></li><li class='xr-var-item'><div class='xr-var-name'><span>mnkc_umeso</span></div><div class='xr-var-dims'>(latitude, longitude, time)</div><div class='xr-var-dtype'>float64</div><div class='xr-var-preview xr-preview'>0.79 0.7694 ... 0.5794 0.5862</div><input id='attrs-27c52680-6750-4830-b8e7-dd8386442afe' class='xr-var-attrs-in' type='checkbox' ><label for='attrs-27c52680-6750-4830-b8e7-dd8386442afe' title='Show/Hide attributes'><svg class='icon xr-icon-file-text2'><use xlink:href='#icon-file-text2'></use></svg></label><input id='data-62601a3d-0b93-4f98-be9e-cfab2698473f' class='xr-var-data-in' type='checkbox'><label for='data-62601a3d-0b93-4f98-be9e-cfab2698473f' title='Show/Hide data repr'><svg class='icon xr-icon-database'><use xlink:href='#icon-database'></use></svg></label><div class='xr-var-attrs'><dl class='xr-attrs'><dt><span>carbon_to_wet_weight_conversion_factor :</span></dt><dd>11.9</dd><dt><span>day_layer :</span></dt><dd>upper mesopelagic (2)</dd><dt><span>night_layer :</span></dt><dd>upper mesopelagic (2)</dd><dt><span>standard_name :</span></dt><dd>mass_content_of_upper_mesopelagic_micronekton_expressed_as_wet_weight_in_sea_water</dd><dt><span>units :</span></dt><dd>g m-2</dd></dl></div><div class='xr-var-data'><pre>array([[[0.79004582, 0.76943593, 0.72363619, ..., 0.57249706,\n",
       "         0.57936702, 0.58623698]]])</pre></div></li><li class='xr-var-item'><div class='xr-var-name'><span>npp</span></div><div class='xr-var-dims'>(latitude, longitude, time)</div><div class='xr-var-dtype'>float64</div><div class='xr-var-preview xr-preview'>221.1 337.0 321.6 ... 293.5 329.7</div><input id='attrs-c3a6ac3d-5663-46f7-ae00-36e0e2124631' class='xr-var-attrs-in' type='checkbox' ><label for='attrs-c3a6ac3d-5663-46f7-ae00-36e0e2124631' title='Show/Hide attributes'><svg class='icon xr-icon-file-text2'><use xlink:href='#icon-file-text2'></use></svg></label><input id='data-2730f404-e785-4520-942e-c4a4a2643b8b' class='xr-var-data-in' type='checkbox'><label for='data-2730f404-e785-4520-942e-c4a4a2643b8b' title='Show/Hide data repr'><svg class='icon xr-icon-database'><use xlink:href='#icon-database'></use></svg></label><div class='xr-var-attrs'><dl class='xr-attrs'><dt><span>standard_name :</span></dt><dd>net_primary_productivity_of_biomass_expressed_as_carbon_in_sea_water</dd><dt><span>units :</span></dt><dd>mg m-2 day-1</dd></dl></div><div class='xr-var-data'><pre>array([[[221.08138754, 337.03669756, 321.60437084, ..., 266.81961102,\n",
       "         293.50689324, 329.69303864]]])</pre></div></li><li class='xr-var-item'><div class='xr-var-name'><span>pelagic_layer_depth</span></div><div class='xr-var-dims'>(latitude, longitude, time, depth)</div><div class='xr-var-dtype'>float64</div><div class='xr-var-preview xr-preview'>107.4 322.3 752.1 ... 337.3 787.1</div><input id='attrs-bc44f543-c9d3-4d06-a35a-a0430b4f9653' class='xr-var-attrs-in' type='checkbox' ><label for='attrs-bc44f543-c9d3-4d06-a35a-a0430b4f9653' title='Show/Hide attributes'><svg class='icon xr-icon-file-text2'><use xlink:href='#icon-file-text2'></use></svg></label><input id='data-7231ddf0-2b81-4baf-86a9-68a67a7a27d0' class='xr-var-data-in' type='checkbox'><label for='data-7231ddf0-2b81-4baf-86a9-68a67a7a27d0' title='Show/Hide data repr'><svg class='icon xr-icon-database'><use xlink:href='#icon-database'></use></svg></label><div class='xr-var-attrs'><dl class='xr-attrs'><dt><span>standard_name :</span></dt><dd>sea_water_pelagic_layer_bottom_depth</dd><dt><span>units :</span></dt><dd>m</dd></dl></div><div class='xr-var-data'><pre>array([[[[107.43817319, 322.32573916, 752.10421236],\n",
       "         [107.62027139, 322.87203375, 753.37555848],\n",
       "         [111.36080222, 334.06689626, 779.4974612 ],\n",
       "         ...,\n",
       "         [122.58406537, 367.75172132, 858.08369196],\n",
       "         [117.06097696, 351.17410295, 819.40703745],\n",
       "         [112.42833202, 337.30456877, 787.05370104]]]])</pre></div></li><li class='xr-var-item'><div class='xr-var-name'><span>zeu</span></div><div class='xr-var-dims'>(latitude, longitude, time)</div><div class='xr-var-dtype'>float64</div><div class='xr-var-preview xr-preview'>71.63 71.75 74.24 ... 78.04 74.96</div><input id='attrs-50269f08-bf11-4de7-87ba-457d4d899fca' class='xr-var-attrs-in' type='checkbox' ><label for='attrs-50269f08-bf11-4de7-87ba-457d4d899fca' title='Show/Hide attributes'><svg class='icon xr-icon-file-text2'><use xlink:href='#icon-file-text2'></use></svg></label><input id='data-2919c267-b4af-4adc-906b-021268da3e60' class='xr-var-data-in' type='checkbox'><label for='data-2919c267-b4af-4adc-906b-021268da3e60' title='Show/Hide data repr'><svg class='icon xr-icon-database'><use xlink:href='#icon-database'></use></svg></label><div class='xr-var-attrs'><dl class='xr-attrs'><dt><span>standard_name :</span></dt><dd>euphotic_zone_depth</dd><dt><span>units :</span></dt><dd>m</dd></dl></div><div class='xr-var-data'><pre>array([[[71.62940714, 71.75043408, 74.23767516, ..., 81.72191906,\n",
       "         78.03902123, 74.95764791]]])</pre></div></li><li class='xr-var-item'><div class='xr-var-name'><span>zooc</span></div><div class='xr-var-dims'>(latitude, longitude, time)</div><div class='xr-var-dtype'>float64</div><div class='xr-var-preview xr-preview'>0.2527 0.2593 ... 0.2737 0.277</div><input id='attrs-d81f483c-9ab7-4009-8d8b-d72a8944343c' class='xr-var-attrs-in' type='checkbox' ><label for='attrs-d81f483c-9ab7-4009-8d8b-d72a8944343c' title='Show/Hide attributes'><svg class='icon xr-icon-file-text2'><use xlink:href='#icon-file-text2'></use></svg></label><input id='data-e43e8e66-49f1-4c5b-9b51-aefe65cec070' class='xr-var-data-in' type='checkbox'><label for='data-e43e8e66-49f1-4c5b-9b51-aefe65cec070' title='Show/Hide data repr'><svg class='icon xr-icon-database'><use xlink:href='#icon-database'></use></svg></label><div class='xr-var-attrs'><dl class='xr-attrs'><dt><span>standard_name :</span></dt><dd>mass_content_of_zooplankton_expressed_as_carbon_in_sea_water</dd><dt><span>units :</span></dt><dd>g m-2</dd></dl></div><div class='xr-var-data'><pre>array([[[0.25270119, 0.259278  , 0.26459003, ..., 0.27875546,\n",
       "         0.27369638, 0.27698478]]])</pre></div></li></ul></div></li><li class='xr-section-item'><input id='section-ccdfdfe0-3c5c-4d9f-9e31-ca81a718fd0a' class='xr-section-summary-in' type='checkbox'  ><label for='section-ccdfdfe0-3c5c-4d9f-9e31-ca81a718fd0a' class='xr-section-summary' >Indexes: <span>(4)</span></label><div class='xr-section-inline-details'></div><div class='xr-section-details'><ul class='xr-var-list'><li class='xr-var-item'><div class='xr-index-name'><div>depth</div></div><div class='xr-index-preview'>PandasIndex</div><div></div><input id='index-175afd60-4c69-4b09-b06d-a2ed7172c7fe' class='xr-index-data-in' type='checkbox'/><label for='index-175afd60-4c69-4b09-b06d-a2ed7172c7fe' title='Show/Hide index repr'><svg class='icon xr-icon-database'><use xlink:href='#icon-database'></use></svg></label><div class='xr-index-data'><pre>PandasIndex(Index([0, 1, 2], dtype=&#x27;int64&#x27;, name=&#x27;depth&#x27;))</pre></div></li><li class='xr-var-item'><div class='xr-index-name'><div>latitude</div></div><div class='xr-index-preview'>PandasIndex</div><div></div><input id='index-fbd3259d-6860-4c17-9ced-52f89ac7420d' class='xr-index-data-in' type='checkbox'/><label for='index-fbd3259d-6860-4c17-9ced-52f89ac7420d' title='Show/Hide index repr'><svg class='icon xr-icon-database'><use xlink:href='#icon-database'></use></svg></label><div class='xr-index-data'><pre>PandasIndex(Index([22.75], dtype=&#x27;float64&#x27;, name=&#x27;latitude&#x27;))</pre></div></li><li class='xr-var-item'><div class='xr-index-name'><div>longitude</div></div><div class='xr-index-preview'>PandasIndex</div><div></div><input id='index-db38a0ed-d2fc-4daf-8d36-7835ec6a268b' class='xr-index-data-in' type='checkbox'/><label for='index-db38a0ed-d2fc-4daf-8d36-7835ec6a268b' title='Show/Hide index repr'><svg class='icon xr-icon-database'><use xlink:href='#icon-database'></use></svg></label><div class='xr-index-data'><pre>PandasIndex(Index([-158], dtype=&#x27;int64&#x27;, name=&#x27;longitude&#x27;))</pre></div></li><li class='xr-var-item'><div class='xr-index-name'><div>time</div></div><div class='xr-index-preview'>PandasIndex</div><div></div><input id='index-ddbc309c-0c88-4a80-a8f0-a484436457d6' class='xr-index-data-in' type='checkbox'/><label for='index-ddbc309c-0c88-4a80-a8f0-a484436457d6' title='Show/Hide index repr'><svg class='icon xr-icon-database'><use xlink:href='#icon-database'></use></svg></label><div class='xr-index-data'><pre>PandasIndex(DatetimeIndex([&#x27;2005-01-01&#x27;, &#x27;2005-01-02&#x27;, &#x27;2005-01-03&#x27;, &#x27;2005-01-04&#x27;,\n",
       "               &#x27;2005-01-05&#x27;, &#x27;2005-01-06&#x27;, &#x27;2005-01-07&#x27;, &#x27;2005-01-08&#x27;,\n",
       "               &#x27;2005-01-09&#x27;, &#x27;2005-01-10&#x27;,\n",
       "               ...\n",
       "               &#x27;2009-12-23&#x27;, &#x27;2009-12-24&#x27;, &#x27;2009-12-25&#x27;, &#x27;2009-12-26&#x27;,\n",
       "               &#x27;2009-12-27&#x27;, &#x27;2009-12-28&#x27;, &#x27;2009-12-29&#x27;, &#x27;2009-12-30&#x27;,\n",
       "               &#x27;2009-12-31&#x27;, &#x27;2010-01-01&#x27;],\n",
       "              dtype=&#x27;datetime64[ns]&#x27;, name=&#x27;time&#x27;, length=1827, freq=None))</pre></div></li></ul></div></li><li class='xr-section-item'><input id='section-841116f1-7fa4-4f2f-800e-4521a429d2ea' class='xr-section-summary-in' type='checkbox'  checked><label for='section-841116f1-7fa4-4f2f-800e-4521a429d2ea' class='xr-section-summary' >Attributes: <span>(6)</span></label><div class='xr-section-inline-details'></div><div class='xr-section-details'><dl class='xr-attrs'><dt><span>Conventions :</span></dt><dd>CF-1.7</dd><dt><span>history :</span></dt><dd>Created on 2024-10-17</dd><dt><span>institution :</span></dt><dd>CLS</dd><dt><span>references :</span></dt><dd>http://www.cls.fr; http://www.seapodym.eu</dd><dt><span>source :</span></dt><dd>SEAPODYM-LMTL 3.0.0</dd><dt><span>title :</span></dt><dd>Global ocean low and mid trophic levels biomass content hindcast</dd></dl></div></li></ul></div></div>"
      ],
      "text/plain": [
       "<xarray.Dataset> Size: 322kB\n",
       "Dimensions:              (latitude: 1, longitude: 1, time: 1827, depth: 3)\n",
       "Coordinates:\n",
       "  * depth                (depth) int64 24B 0 1 2\n",
       "  * latitude             (latitude) float64 8B 22.75\n",
       "  * longitude            (longitude) int64 8B -158\n",
       "  * time                 (time) datetime64[ns] 15kB 2005-01-01 ... 2010-01-01\n",
       "Data variables: (12/13)\n",
       "    T                    (latitude, longitude, time, depth) float64 44kB 24.7...\n",
       "    U                    (latitude, longitude, time, depth) float64 44kB -0.0...\n",
       "    V                    (latitude, longitude, time, depth) float64 44kB 0.15...\n",
       "    mnkc_epi             (latitude, longitude, time) float64 15kB 0.2904 ... ...\n",
       "    mnkc_hmlmeso         (latitude, longitude, time) float64 15kB 0.8233 ... ...\n",
       "    mnkc_lmeso           (latitude, longitude, time) float64 15kB 2.403 ... 1...\n",
       "    ...                   ...\n",
       "    mnkc_mumeso          (latitude, longitude, time) float64 15kB 0.5779 ... ...\n",
       "    mnkc_umeso           (latitude, longitude, time) float64 15kB 0.79 ... 0....\n",
       "    npp                  (latitude, longitude, time) float64 15kB 221.1 ... 3...\n",
       "    pelagic_layer_depth  (latitude, longitude, time, depth) float64 44kB 107....\n",
       "    zeu                  (latitude, longitude, time) float64 15kB 71.63 ... 7...\n",
       "    zooc                 (latitude, longitude, time) float64 15kB 0.2527 ... ...\n",
       "Attributes:\n",
       "    Conventions:  CF-1.7\n",
       "    history:      Created on 2024-10-17\n",
       "    institution:  CLS\n",
       "    references:   http://www.cls.fr; http://www.seapodym.eu\n",
       "    source:       SEAPODYM-LMTL 3.0.0\n",
       "    title:        Global ocean low and mid trophic levels biomass content hin..."
      ]
     },
     "execution_count": 4,
     "metadata": {},
     "output_type": "execute_result"
    }
   ],
   "source": [
    "forcing = xr.open_zarr(path_to_forcing)\n",
    "forcing = forcing.sel(time=slice(TIME_START, TIME_END))\n",
    "forcing[\"T\"].attrs[\"units\"] = StandardUnitsLabels.temperature.units\n",
    "forcing.load()"
   ]
  },
  {
   "cell_type": "markdown",
   "metadata": {},
   "source": [
    "### Epipelagic layer\n"
   ]
  },
  {
   "cell_type": "code",
   "execution_count": 5,
   "metadata": {},
   "outputs": [
    {
     "data": {
      "text/html": [
       "<div><svg style=\"position: absolute; width: 0; height: 0; overflow: hidden\">\n",
       "<defs>\n",
       "<symbol id=\"icon-database\" viewBox=\"0 0 32 32\">\n",
       "<path d=\"M16 0c-8.837 0-16 2.239-16 5v4c0 2.761 7.163 5 16 5s16-2.239 16-5v-4c0-2.761-7.163-5-16-5z\"></path>\n",
       "<path d=\"M16 17c-8.837 0-16-2.239-16-5v6c0 2.761 7.163 5 16 5s16-2.239 16-5v-6c0 2.761-7.163 5-16 5z\"></path>\n",
       "<path d=\"M16 26c-8.837 0-16-2.239-16-5v6c0 2.761 7.163 5 16 5s16-2.239 16-5v-6c0 2.761-7.163 5-16 5z\"></path>\n",
       "</symbol>\n",
       "<symbol id=\"icon-file-text2\" viewBox=\"0 0 32 32\">\n",
       "<path d=\"M28.681 7.159c-0.694-0.947-1.662-2.053-2.724-3.116s-2.169-2.030-3.116-2.724c-1.612-1.182-2.393-1.319-2.841-1.319h-15.5c-1.378 0-2.5 1.121-2.5 2.5v27c0 1.378 1.122 2.5 2.5 2.5h23c1.378 0 2.5-1.122 2.5-2.5v-19.5c0-0.448-0.137-1.23-1.319-2.841zM24.543 5.457c0.959 0.959 1.712 1.825 2.268 2.543h-4.811v-4.811c0.718 0.556 1.584 1.309 2.543 2.268zM28 29.5c0 0.271-0.229 0.5-0.5 0.5h-23c-0.271 0-0.5-0.229-0.5-0.5v-27c0-0.271 0.229-0.5 0.5-0.5 0 0 15.499-0 15.5 0v7c0 0.552 0.448 1 1 1h7v19.5z\"></path>\n",
       "<path d=\"M23 26h-14c-0.552 0-1-0.448-1-1s0.448-1 1-1h14c0.552 0 1 0.448 1 1s-0.448 1-1 1z\"></path>\n",
       "<path d=\"M23 22h-14c-0.552 0-1-0.448-1-1s0.448-1 1-1h14c0.552 0 1 0.448 1 1s-0.448 1-1 1z\"></path>\n",
       "<path d=\"M23 18h-14c-0.552 0-1-0.448-1-1s0.448-1 1-1h14c0.552 0 1 0.448 1 1s-0.448 1-1 1z\"></path>\n",
       "</symbol>\n",
       "</defs>\n",
       "</svg>\n",
       "<style>/* CSS stylesheet for displaying xarray objects in jupyterlab.\n",
       " *\n",
       " */\n",
       "\n",
       ":root {\n",
       "  --xr-font-color0: var(--jp-content-font-color0, rgba(0, 0, 0, 1));\n",
       "  --xr-font-color2: var(--jp-content-font-color2, rgba(0, 0, 0, 0.54));\n",
       "  --xr-font-color3: var(--jp-content-font-color3, rgba(0, 0, 0, 0.38));\n",
       "  --xr-border-color: var(--jp-border-color2, #e0e0e0);\n",
       "  --xr-disabled-color: var(--jp-layout-color3, #bdbdbd);\n",
       "  --xr-background-color: var(--jp-layout-color0, white);\n",
       "  --xr-background-color-row-even: var(--jp-layout-color1, white);\n",
       "  --xr-background-color-row-odd: var(--jp-layout-color2, #eeeeee);\n",
       "}\n",
       "\n",
       "html[theme=dark],\n",
       "html[data-theme=dark],\n",
       "body[data-theme=dark],\n",
       "body.vscode-dark {\n",
       "  --xr-font-color0: rgba(255, 255, 255, 1);\n",
       "  --xr-font-color2: rgba(255, 255, 255, 0.54);\n",
       "  --xr-font-color3: rgba(255, 255, 255, 0.38);\n",
       "  --xr-border-color: #1F1F1F;\n",
       "  --xr-disabled-color: #515151;\n",
       "  --xr-background-color: #111111;\n",
       "  --xr-background-color-row-even: #111111;\n",
       "  --xr-background-color-row-odd: #313131;\n",
       "}\n",
       "\n",
       ".xr-wrap {\n",
       "  display: block !important;\n",
       "  min-width: 300px;\n",
       "  max-width: 700px;\n",
       "}\n",
       "\n",
       ".xr-text-repr-fallback {\n",
       "  /* fallback to plain text repr when CSS is not injected (untrusted notebook) */\n",
       "  display: none;\n",
       "}\n",
       "\n",
       ".xr-header {\n",
       "  padding-top: 6px;\n",
       "  padding-bottom: 6px;\n",
       "  margin-bottom: 4px;\n",
       "  border-bottom: solid 1px var(--xr-border-color);\n",
       "}\n",
       "\n",
       ".xr-header > div,\n",
       ".xr-header > ul {\n",
       "  display: inline;\n",
       "  margin-top: 0;\n",
       "  margin-bottom: 0;\n",
       "}\n",
       "\n",
       ".xr-obj-type,\n",
       ".xr-array-name {\n",
       "  margin-left: 2px;\n",
       "  margin-right: 10px;\n",
       "}\n",
       "\n",
       ".xr-obj-type {\n",
       "  color: var(--xr-font-color2);\n",
       "}\n",
       "\n",
       ".xr-sections {\n",
       "  padding-left: 0 !important;\n",
       "  display: grid;\n",
       "  grid-template-columns: 150px auto auto 1fr 0 20px 0 20px;\n",
       "}\n",
       "\n",
       ".xr-section-item {\n",
       "  display: contents;\n",
       "}\n",
       "\n",
       ".xr-section-item input {\n",
       "  display: inline-block;\n",
       "  opacity: 0;\n",
       "}\n",
       "\n",
       ".xr-section-item input + label {\n",
       "  color: var(--xr-disabled-color);\n",
       "}\n",
       "\n",
       ".xr-section-item input:enabled + label {\n",
       "  cursor: pointer;\n",
       "  color: var(--xr-font-color2);\n",
       "}\n",
       "\n",
       ".xr-section-item input:focus + label {\n",
       "  border: 2px solid var(--xr-font-color0);\n",
       "}\n",
       "\n",
       ".xr-section-item input:enabled + label:hover {\n",
       "  color: var(--xr-font-color0);\n",
       "}\n",
       "\n",
       ".xr-section-summary {\n",
       "  grid-column: 1;\n",
       "  color: var(--xr-font-color2);\n",
       "  font-weight: 500;\n",
       "}\n",
       "\n",
       ".xr-section-summary > span {\n",
       "  display: inline-block;\n",
       "  padding-left: 0.5em;\n",
       "}\n",
       "\n",
       ".xr-section-summary-in:disabled + label {\n",
       "  color: var(--xr-font-color2);\n",
       "}\n",
       "\n",
       ".xr-section-summary-in + label:before {\n",
       "  display: inline-block;\n",
       "  content: '►';\n",
       "  font-size: 11px;\n",
       "  width: 15px;\n",
       "  text-align: center;\n",
       "}\n",
       "\n",
       ".xr-section-summary-in:disabled + label:before {\n",
       "  color: var(--xr-disabled-color);\n",
       "}\n",
       "\n",
       ".xr-section-summary-in:checked + label:before {\n",
       "  content: '▼';\n",
       "}\n",
       "\n",
       ".xr-section-summary-in:checked + label > span {\n",
       "  display: none;\n",
       "}\n",
       "\n",
       ".xr-section-summary,\n",
       ".xr-section-inline-details {\n",
       "  padding-top: 4px;\n",
       "  padding-bottom: 4px;\n",
       "}\n",
       "\n",
       ".xr-section-inline-details {\n",
       "  grid-column: 2 / -1;\n",
       "}\n",
       "\n",
       ".xr-section-details {\n",
       "  display: none;\n",
       "  grid-column: 1 / -1;\n",
       "  margin-bottom: 5px;\n",
       "}\n",
       "\n",
       ".xr-section-summary-in:checked ~ .xr-section-details {\n",
       "  display: contents;\n",
       "}\n",
       "\n",
       ".xr-array-wrap {\n",
       "  grid-column: 1 / -1;\n",
       "  display: grid;\n",
       "  grid-template-columns: 20px auto;\n",
       "}\n",
       "\n",
       ".xr-array-wrap > label {\n",
       "  grid-column: 1;\n",
       "  vertical-align: top;\n",
       "}\n",
       "\n",
       ".xr-preview {\n",
       "  color: var(--xr-font-color3);\n",
       "}\n",
       "\n",
       ".xr-array-preview,\n",
       ".xr-array-data {\n",
       "  padding: 0 5px !important;\n",
       "  grid-column: 2;\n",
       "}\n",
       "\n",
       ".xr-array-data,\n",
       ".xr-array-in:checked ~ .xr-array-preview {\n",
       "  display: none;\n",
       "}\n",
       "\n",
       ".xr-array-in:checked ~ .xr-array-data,\n",
       ".xr-array-preview {\n",
       "  display: inline-block;\n",
       "}\n",
       "\n",
       ".xr-dim-list {\n",
       "  display: inline-block !important;\n",
       "  list-style: none;\n",
       "  padding: 0 !important;\n",
       "  margin: 0;\n",
       "}\n",
       "\n",
       ".xr-dim-list li {\n",
       "  display: inline-block;\n",
       "  padding: 0;\n",
       "  margin: 0;\n",
       "}\n",
       "\n",
       ".xr-dim-list:before {\n",
       "  content: '(';\n",
       "}\n",
       "\n",
       ".xr-dim-list:after {\n",
       "  content: ')';\n",
       "}\n",
       "\n",
       ".xr-dim-list li:not(:last-child):after {\n",
       "  content: ',';\n",
       "  padding-right: 5px;\n",
       "}\n",
       "\n",
       ".xr-has-index {\n",
       "  font-weight: bold;\n",
       "}\n",
       "\n",
       ".xr-var-list,\n",
       ".xr-var-item {\n",
       "  display: contents;\n",
       "}\n",
       "\n",
       ".xr-var-item > div,\n",
       ".xr-var-item label,\n",
       ".xr-var-item > .xr-var-name span {\n",
       "  background-color: var(--xr-background-color-row-even);\n",
       "  margin-bottom: 0;\n",
       "}\n",
       "\n",
       ".xr-var-item > .xr-var-name:hover span {\n",
       "  padding-right: 5px;\n",
       "}\n",
       "\n",
       ".xr-var-list > li:nth-child(odd) > div,\n",
       ".xr-var-list > li:nth-child(odd) > label,\n",
       ".xr-var-list > li:nth-child(odd) > .xr-var-name span {\n",
       "  background-color: var(--xr-background-color-row-odd);\n",
       "}\n",
       "\n",
       ".xr-var-name {\n",
       "  grid-column: 1;\n",
       "}\n",
       "\n",
       ".xr-var-dims {\n",
       "  grid-column: 2;\n",
       "}\n",
       "\n",
       ".xr-var-dtype {\n",
       "  grid-column: 3;\n",
       "  text-align: right;\n",
       "  color: var(--xr-font-color2);\n",
       "}\n",
       "\n",
       ".xr-var-preview {\n",
       "  grid-column: 4;\n",
       "}\n",
       "\n",
       ".xr-index-preview {\n",
       "  grid-column: 2 / 5;\n",
       "  color: var(--xr-font-color2);\n",
       "}\n",
       "\n",
       ".xr-var-name,\n",
       ".xr-var-dims,\n",
       ".xr-var-dtype,\n",
       ".xr-preview,\n",
       ".xr-attrs dt {\n",
       "  white-space: nowrap;\n",
       "  overflow: hidden;\n",
       "  text-overflow: ellipsis;\n",
       "  padding-right: 10px;\n",
       "}\n",
       "\n",
       ".xr-var-name:hover,\n",
       ".xr-var-dims:hover,\n",
       ".xr-var-dtype:hover,\n",
       ".xr-attrs dt:hover {\n",
       "  overflow: visible;\n",
       "  width: auto;\n",
       "  z-index: 1;\n",
       "}\n",
       "\n",
       ".xr-var-attrs,\n",
       ".xr-var-data,\n",
       ".xr-index-data {\n",
       "  display: none;\n",
       "  background-color: var(--xr-background-color) !important;\n",
       "  padding-bottom: 5px !important;\n",
       "}\n",
       "\n",
       ".xr-var-attrs-in:checked ~ .xr-var-attrs,\n",
       ".xr-var-data-in:checked ~ .xr-var-data,\n",
       ".xr-index-data-in:checked ~ .xr-index-data {\n",
       "  display: block;\n",
       "}\n",
       "\n",
       ".xr-var-data > table {\n",
       "  float: right;\n",
       "}\n",
       "\n",
       ".xr-var-name span,\n",
       ".xr-var-data,\n",
       ".xr-index-name div,\n",
       ".xr-index-data,\n",
       ".xr-attrs {\n",
       "  padding-left: 25px !important;\n",
       "}\n",
       "\n",
       ".xr-attrs,\n",
       ".xr-var-attrs,\n",
       ".xr-var-data,\n",
       ".xr-index-data {\n",
       "  grid-column: 1 / -1;\n",
       "}\n",
       "\n",
       "dl.xr-attrs {\n",
       "  padding: 0;\n",
       "  margin: 0;\n",
       "  display: grid;\n",
       "  grid-template-columns: 125px auto;\n",
       "}\n",
       "\n",
       ".xr-attrs dt,\n",
       ".xr-attrs dd {\n",
       "  padding: 0;\n",
       "  margin: 0;\n",
       "  float: left;\n",
       "  padding-right: 10px;\n",
       "  width: auto;\n",
       "}\n",
       "\n",
       ".xr-attrs dt {\n",
       "  font-weight: normal;\n",
       "  grid-column: 1;\n",
       "}\n",
       "\n",
       ".xr-attrs dt:hover span {\n",
       "  display: inline-block;\n",
       "  background: var(--xr-background-color);\n",
       "  padding-right: 10px;\n",
       "}\n",
       "\n",
       ".xr-attrs dd {\n",
       "  grid-column: 2;\n",
       "  white-space: pre-wrap;\n",
       "  word-break: break-all;\n",
       "}\n",
       "\n",
       ".xr-icon-database,\n",
       ".xr-icon-file-text2,\n",
       ".xr-no-icon {\n",
       "  display: inline-block;\n",
       "  vertical-align: middle;\n",
       "  width: 1em;\n",
       "  height: 1.5em !important;\n",
       "  stroke-width: 0;\n",
       "  stroke: currentColor;\n",
       "  fill: currentColor;\n",
       "}\n",
       "</style><pre class='xr-text-repr-fallback'>&lt;xarray.DataArray &#x27;pelagic_layer_depth&#x27; (latitude: 1, longitude: 1, time: 1827)&gt; Size: 15kB\n",
       "&lt;Quantity([[[107.43817319 107.62027139 111.36080222 ... 122.58406537 117.06097696\n",
       "   112.42833202]]], &#x27;meter&#x27;)&gt;\n",
       "Coordinates:\n",
       "    depth      int64 8B 0\n",
       "  * latitude   (latitude) float64 8B 22.75\n",
       "  * longitude  (longitude) int64 8B -158\n",
       "  * time       (time) datetime64[ns] 15kB 2005-01-01 2005-01-02 ... 2010-01-01\n",
       "Attributes:\n",
       "    standard_name:  sea_water_pelagic_layer_bottom_depth</pre><div class='xr-wrap' style='display:none'><div class='xr-header'><div class='xr-obj-type'>xarray.DataArray</div><div class='xr-array-name'>'pelagic_layer_depth'</div><ul class='xr-dim-list'><li><span class='xr-has-index'>latitude</span>: 1</li><li><span class='xr-has-index'>longitude</span>: 1</li><li><span class='xr-has-index'>time</span>: 1827</li></ul></div><ul class='xr-sections'><li class='xr-section-item'><div class='xr-array-wrap'><input id='section-cbd210e8-9fcb-48bd-a707-da33b15cbda3' class='xr-array-in' type='checkbox' checked><label for='section-cbd210e8-9fcb-48bd-a707-da33b15cbda3' title='Show/hide data repr'><svg class='icon xr-icon-database'><use xlink:href='#icon-database'></use></svg></label><div class='xr-array-preview xr-preview'><span>[m] 107.4 107.6 111.4 113.8 113.0 ... 115.8 116.8 122.6 117.1 112.4</span></div><div class='xr-array-data'><table><tbody><tr><th>Magnitude</th><td style='text-align:left;'><pre>[[[107.43817318960242 107.62027138586784 111.3608022247511 ...<br>   122.58406536705469 117.0609769555549 112.42833201753643]]]</pre></td></tr><tr><th>Units</th><td style='text-align:left;'>meter</td></tr></tbody></table></div></div></li><li class='xr-section-item'><input id='section-cff77ade-5641-486e-b694-daed3057e6d1' class='xr-section-summary-in' type='checkbox'  checked><label for='section-cff77ade-5641-486e-b694-daed3057e6d1' class='xr-section-summary' >Coordinates: <span>(4)</span></label><div class='xr-section-inline-details'></div><div class='xr-section-details'><ul class='xr-var-list'><li class='xr-var-item'><div class='xr-var-name'><span>depth</span></div><div class='xr-var-dims'>()</div><div class='xr-var-dtype'>int64</div><div class='xr-var-preview xr-preview'>0</div><input id='attrs-32502b82-e414-4886-ba76-5f9e63a75126' class='xr-var-attrs-in' type='checkbox' ><label for='attrs-32502b82-e414-4886-ba76-5f9e63a75126' title='Show/Hide attributes'><svg class='icon xr-icon-file-text2'><use xlink:href='#icon-file-text2'></use></svg></label><input id='data-2514a9fa-695a-4463-8b76-b19cb95cb736' class='xr-var-data-in' type='checkbox'><label for='data-2514a9fa-695a-4463-8b76-b19cb95cb736' title='Show/Hide data repr'><svg class='icon xr-icon-database'><use xlink:href='#icon-database'></use></svg></label><div class='xr-var-attrs'><dl class='xr-attrs'><dt><span>axis :</span></dt><dd>Z</dd><dt><span>desc :</span></dt><dd>The layer depth according to Seapodym definition</dd><dt><span>flag_meanings :</span></dt><dd>epipelagic, upper-mesopelagic, lower-mesopelagic</dd><dt><span>flag_values :</span></dt><dd>[0 1 2]</dd><dt><span>long_name :</span></dt><dd>Layer depth</dd><dt><span>standard_name :</span></dt><dd>depth</dd></dl></div><div class='xr-var-data'><pre>array(0)</pre></div></li><li class='xr-var-item'><div class='xr-var-name'><span class='xr-has-index'>latitude</span></div><div class='xr-var-dims'>(latitude)</div><div class='xr-var-dtype'>float64</div><div class='xr-var-preview xr-preview'>22.75</div><input id='attrs-1f03d64e-fa7d-470f-8242-11a0231d87bb' class='xr-var-attrs-in' type='checkbox' ><label for='attrs-1f03d64e-fa7d-470f-8242-11a0231d87bb' title='Show/Hide attributes'><svg class='icon xr-icon-file-text2'><use xlink:href='#icon-file-text2'></use></svg></label><input id='data-af860edb-ae0d-49f2-85f5-17b300c49d95' class='xr-var-data-in' type='checkbox'><label for='data-af860edb-ae0d-49f2-85f5-17b300c49d95' title='Show/Hide data repr'><svg class='icon xr-icon-database'><use xlink:href='#icon-database'></use></svg></label><div class='xr-var-attrs'><dl class='xr-attrs'><dt><span>axis :</span></dt><dd>Y</dd><dt><span>standard_name :</span></dt><dd>latitude</dd><dt><span>units :</span></dt><dd>degrees_north</dd></dl></div><div class='xr-var-data'><pre>array([22.75])</pre></div></li><li class='xr-var-item'><div class='xr-var-name'><span class='xr-has-index'>longitude</span></div><div class='xr-var-dims'>(longitude)</div><div class='xr-var-dtype'>int64</div><div class='xr-var-preview xr-preview'>-158</div><input id='attrs-580fdc5e-9d0c-4df8-8ca0-7bf9f9e3c539' class='xr-var-attrs-in' type='checkbox' ><label for='attrs-580fdc5e-9d0c-4df8-8ca0-7bf9f9e3c539' title='Show/Hide attributes'><svg class='icon xr-icon-file-text2'><use xlink:href='#icon-file-text2'></use></svg></label><input id='data-fa322600-7c85-4525-b1b6-6dc23a6e2e94' class='xr-var-data-in' type='checkbox'><label for='data-fa322600-7c85-4525-b1b6-6dc23a6e2e94' title='Show/Hide data repr'><svg class='icon xr-icon-database'><use xlink:href='#icon-database'></use></svg></label><div class='xr-var-attrs'><dl class='xr-attrs'><dt><span>axis :</span></dt><dd>X</dd><dt><span>standard_name :</span></dt><dd>longitude</dd><dt><span>units :</span></dt><dd>degrees_east</dd></dl></div><div class='xr-var-data'><pre>array([-158])</pre></div></li><li class='xr-var-item'><div class='xr-var-name'><span class='xr-has-index'>time</span></div><div class='xr-var-dims'>(time)</div><div class='xr-var-dtype'>datetime64[ns]</div><div class='xr-var-preview xr-preview'>2005-01-01 ... 2010-01-01</div><input id='attrs-f1e697b1-10af-4026-9940-67ed062f77a5' class='xr-var-attrs-in' type='checkbox' ><label for='attrs-f1e697b1-10af-4026-9940-67ed062f77a5' title='Show/Hide attributes'><svg class='icon xr-icon-file-text2'><use xlink:href='#icon-file-text2'></use></svg></label><input id='data-928c46d1-0d81-4430-980d-439d9e8f3f94' class='xr-var-data-in' type='checkbox'><label for='data-928c46d1-0d81-4430-980d-439d9e8f3f94' title='Show/Hide data repr'><svg class='icon xr-icon-database'><use xlink:href='#icon-database'></use></svg></label><div class='xr-var-attrs'><dl class='xr-attrs'><dt><span>axis :</span></dt><dd>T</dd><dt><span>long_name :</span></dt><dd>Time</dd><dt><span>standard_name :</span></dt><dd>time</dd><dt><span>unit_long :</span></dt><dd>Seconds Since 1970-01-01</dd></dl></div><div class='xr-var-data'><pre>array([&#x27;2005-01-01T00:00:00.000000000&#x27;, &#x27;2005-01-02T00:00:00.000000000&#x27;,\n",
       "       &#x27;2005-01-03T00:00:00.000000000&#x27;, ..., &#x27;2009-12-30T00:00:00.000000000&#x27;,\n",
       "       &#x27;2009-12-31T00:00:00.000000000&#x27;, &#x27;2010-01-01T00:00:00.000000000&#x27;],\n",
       "      dtype=&#x27;datetime64[ns]&#x27;)</pre></div></li></ul></div></li><li class='xr-section-item'><input id='section-97d331df-81a7-4d24-9a03-8915583e5e7c' class='xr-section-summary-in' type='checkbox'  ><label for='section-97d331df-81a7-4d24-9a03-8915583e5e7c' class='xr-section-summary' >Indexes: <span>(3)</span></label><div class='xr-section-inline-details'></div><div class='xr-section-details'><ul class='xr-var-list'><li class='xr-var-item'><div class='xr-index-name'><div>latitude</div></div><div class='xr-index-preview'>PandasIndex</div><div></div><input id='index-7dbad415-4854-463a-9352-fa221e567db9' class='xr-index-data-in' type='checkbox'/><label for='index-7dbad415-4854-463a-9352-fa221e567db9' title='Show/Hide index repr'><svg class='icon xr-icon-database'><use xlink:href='#icon-database'></use></svg></label><div class='xr-index-data'><pre>PandasIndex(Index([22.75], dtype=&#x27;float64&#x27;, name=&#x27;latitude&#x27;))</pre></div></li><li class='xr-var-item'><div class='xr-index-name'><div>longitude</div></div><div class='xr-index-preview'>PandasIndex</div><div></div><input id='index-f17ee982-52c0-4f1e-b0f7-204e7d9a728a' class='xr-index-data-in' type='checkbox'/><label for='index-f17ee982-52c0-4f1e-b0f7-204e7d9a728a' title='Show/Hide index repr'><svg class='icon xr-icon-database'><use xlink:href='#icon-database'></use></svg></label><div class='xr-index-data'><pre>PandasIndex(Index([-158], dtype=&#x27;int64&#x27;, name=&#x27;longitude&#x27;))</pre></div></li><li class='xr-var-item'><div class='xr-index-name'><div>time</div></div><div class='xr-index-preview'>PandasIndex</div><div></div><input id='index-1b966565-790e-4db3-881a-748e533ac714' class='xr-index-data-in' type='checkbox'/><label for='index-1b966565-790e-4db3-881a-748e533ac714' title='Show/Hide index repr'><svg class='icon xr-icon-database'><use xlink:href='#icon-database'></use></svg></label><div class='xr-index-data'><pre>PandasIndex(DatetimeIndex([&#x27;2005-01-01&#x27;, &#x27;2005-01-02&#x27;, &#x27;2005-01-03&#x27;, &#x27;2005-01-04&#x27;,\n",
       "               &#x27;2005-01-05&#x27;, &#x27;2005-01-06&#x27;, &#x27;2005-01-07&#x27;, &#x27;2005-01-08&#x27;,\n",
       "               &#x27;2005-01-09&#x27;, &#x27;2005-01-10&#x27;,\n",
       "               ...\n",
       "               &#x27;2009-12-23&#x27;, &#x27;2009-12-24&#x27;, &#x27;2009-12-25&#x27;, &#x27;2009-12-26&#x27;,\n",
       "               &#x27;2009-12-27&#x27;, &#x27;2009-12-28&#x27;, &#x27;2009-12-29&#x27;, &#x27;2009-12-30&#x27;,\n",
       "               &#x27;2009-12-31&#x27;, &#x27;2010-01-01&#x27;],\n",
       "              dtype=&#x27;datetime64[ns]&#x27;, name=&#x27;time&#x27;, length=1827, freq=&#x27;D&#x27;))</pre></div></li></ul></div></li><li class='xr-section-item'><input id='section-d7ceaaca-3abd-4720-8d18-eb071a861638' class='xr-section-summary-in' type='checkbox'  checked><label for='section-d7ceaaca-3abd-4720-8d18-eb071a861638' class='xr-section-summary' >Attributes: <span>(1)</span></label><div class='xr-section-inline-details'></div><div class='xr-section-details'><dl class='xr-attrs'><dt><span>standard_name :</span></dt><dd>sea_water_pelagic_layer_bottom_depth</dd></dl></div></li></ul></div></div>"
      ],
      "text/plain": [
       "<xarray.DataArray 'pelagic_layer_depth' (latitude: 1, longitude: 1, time: 1827)> Size: 15kB\n",
       "<Quantity([[[107.43817319 107.62027139 111.36080222 ... 122.58406537 117.06097696\n",
       "   112.42833202]]], 'meter')>\n",
       "Coordinates:\n",
       "    depth      int64 8B 0\n",
       "  * latitude   (latitude) float64 8B 22.75\n",
       "  * longitude  (longitude) int64 8B -158\n",
       "  * time       (time) datetime64[ns] 15kB 2005-01-01 2005-01-02 ... 2010-01-01\n",
       "Attributes:\n",
       "    standard_name:  sea_water_pelagic_layer_bottom_depth"
      ]
     },
     "execution_count": 5,
     "metadata": {},
     "output_type": "execute_result"
    }
   ],
   "source": [
    "epi_layer_depth = forcing[\"pelagic_layer_depth\"].sel(depth=0).load()\n",
    "epi_layer_depth = epi_layer_depth.resample(time=\"1D\").mean()\n",
    "epi_layer_depth.attrs[\"units\"] = \"meter\"\n",
    "epi_layer_depth = epi_layer_depth.pint.quantify()\n",
    "epi_layer_depth\n"
   ]
  },
  {
   "cell_type": "markdown",
   "metadata": {},
   "source": [
    "## CAFE npp\n"
   ]
  },
  {
   "cell_type": "code",
   "execution_count": 6,
   "metadata": {},
   "outputs": [
    {
     "data": {
      "text/html": [
       "<div><svg style=\"position: absolute; width: 0; height: 0; overflow: hidden\">\n",
       "<defs>\n",
       "<symbol id=\"icon-database\" viewBox=\"0 0 32 32\">\n",
       "<path d=\"M16 0c-8.837 0-16 2.239-16 5v4c0 2.761 7.163 5 16 5s16-2.239 16-5v-4c0-2.761-7.163-5-16-5z\"></path>\n",
       "<path d=\"M16 17c-8.837 0-16-2.239-16-5v6c0 2.761 7.163 5 16 5s16-2.239 16-5v-6c0 2.761-7.163 5-16 5z\"></path>\n",
       "<path d=\"M16 26c-8.837 0-16-2.239-16-5v6c0 2.761 7.163 5 16 5s16-2.239 16-5v-6c0 2.761-7.163 5-16 5z\"></path>\n",
       "</symbol>\n",
       "<symbol id=\"icon-file-text2\" viewBox=\"0 0 32 32\">\n",
       "<path d=\"M28.681 7.159c-0.694-0.947-1.662-2.053-2.724-3.116s-2.169-2.030-3.116-2.724c-1.612-1.182-2.393-1.319-2.841-1.319h-15.5c-1.378 0-2.5 1.121-2.5 2.5v27c0 1.378 1.122 2.5 2.5 2.5h23c1.378 0 2.5-1.122 2.5-2.5v-19.5c0-0.448-0.137-1.23-1.319-2.841zM24.543 5.457c0.959 0.959 1.712 1.825 2.268 2.543h-4.811v-4.811c0.718 0.556 1.584 1.309 2.543 2.268zM28 29.5c0 0.271-0.229 0.5-0.5 0.5h-23c-0.271 0-0.5-0.229-0.5-0.5v-27c0-0.271 0.229-0.5 0.5-0.5 0 0 15.499-0 15.5 0v7c0 0.552 0.448 1 1 1h7v19.5z\"></path>\n",
       "<path d=\"M23 26h-14c-0.552 0-1-0.448-1-1s0.448-1 1-1h14c0.552 0 1 0.448 1 1s-0.448 1-1 1z\"></path>\n",
       "<path d=\"M23 22h-14c-0.552 0-1-0.448-1-1s0.448-1 1-1h14c0.552 0 1 0.448 1 1s-0.448 1-1 1z\"></path>\n",
       "<path d=\"M23 18h-14c-0.552 0-1-0.448-1-1s0.448-1 1-1h14c0.552 0 1 0.448 1 1s-0.448 1-1 1z\"></path>\n",
       "</symbol>\n",
       "</defs>\n",
       "</svg>\n",
       "<style>/* CSS stylesheet for displaying xarray objects in jupyterlab.\n",
       " *\n",
       " */\n",
       "\n",
       ":root {\n",
       "  --xr-font-color0: var(--jp-content-font-color0, rgba(0, 0, 0, 1));\n",
       "  --xr-font-color2: var(--jp-content-font-color2, rgba(0, 0, 0, 0.54));\n",
       "  --xr-font-color3: var(--jp-content-font-color3, rgba(0, 0, 0, 0.38));\n",
       "  --xr-border-color: var(--jp-border-color2, #e0e0e0);\n",
       "  --xr-disabled-color: var(--jp-layout-color3, #bdbdbd);\n",
       "  --xr-background-color: var(--jp-layout-color0, white);\n",
       "  --xr-background-color-row-even: var(--jp-layout-color1, white);\n",
       "  --xr-background-color-row-odd: var(--jp-layout-color2, #eeeeee);\n",
       "}\n",
       "\n",
       "html[theme=dark],\n",
       "html[data-theme=dark],\n",
       "body[data-theme=dark],\n",
       "body.vscode-dark {\n",
       "  --xr-font-color0: rgba(255, 255, 255, 1);\n",
       "  --xr-font-color2: rgba(255, 255, 255, 0.54);\n",
       "  --xr-font-color3: rgba(255, 255, 255, 0.38);\n",
       "  --xr-border-color: #1F1F1F;\n",
       "  --xr-disabled-color: #515151;\n",
       "  --xr-background-color: #111111;\n",
       "  --xr-background-color-row-even: #111111;\n",
       "  --xr-background-color-row-odd: #313131;\n",
       "}\n",
       "\n",
       ".xr-wrap {\n",
       "  display: block !important;\n",
       "  min-width: 300px;\n",
       "  max-width: 700px;\n",
       "}\n",
       "\n",
       ".xr-text-repr-fallback {\n",
       "  /* fallback to plain text repr when CSS is not injected (untrusted notebook) */\n",
       "  display: none;\n",
       "}\n",
       "\n",
       ".xr-header {\n",
       "  padding-top: 6px;\n",
       "  padding-bottom: 6px;\n",
       "  margin-bottom: 4px;\n",
       "  border-bottom: solid 1px var(--xr-border-color);\n",
       "}\n",
       "\n",
       ".xr-header > div,\n",
       ".xr-header > ul {\n",
       "  display: inline;\n",
       "  margin-top: 0;\n",
       "  margin-bottom: 0;\n",
       "}\n",
       "\n",
       ".xr-obj-type,\n",
       ".xr-array-name {\n",
       "  margin-left: 2px;\n",
       "  margin-right: 10px;\n",
       "}\n",
       "\n",
       ".xr-obj-type {\n",
       "  color: var(--xr-font-color2);\n",
       "}\n",
       "\n",
       ".xr-sections {\n",
       "  padding-left: 0 !important;\n",
       "  display: grid;\n",
       "  grid-template-columns: 150px auto auto 1fr 0 20px 0 20px;\n",
       "}\n",
       "\n",
       ".xr-section-item {\n",
       "  display: contents;\n",
       "}\n",
       "\n",
       ".xr-section-item input {\n",
       "  display: inline-block;\n",
       "  opacity: 0;\n",
       "}\n",
       "\n",
       ".xr-section-item input + label {\n",
       "  color: var(--xr-disabled-color);\n",
       "}\n",
       "\n",
       ".xr-section-item input:enabled + label {\n",
       "  cursor: pointer;\n",
       "  color: var(--xr-font-color2);\n",
       "}\n",
       "\n",
       ".xr-section-item input:focus + label {\n",
       "  border: 2px solid var(--xr-font-color0);\n",
       "}\n",
       "\n",
       ".xr-section-item input:enabled + label:hover {\n",
       "  color: var(--xr-font-color0);\n",
       "}\n",
       "\n",
       ".xr-section-summary {\n",
       "  grid-column: 1;\n",
       "  color: var(--xr-font-color2);\n",
       "  font-weight: 500;\n",
       "}\n",
       "\n",
       ".xr-section-summary > span {\n",
       "  display: inline-block;\n",
       "  padding-left: 0.5em;\n",
       "}\n",
       "\n",
       ".xr-section-summary-in:disabled + label {\n",
       "  color: var(--xr-font-color2);\n",
       "}\n",
       "\n",
       ".xr-section-summary-in + label:before {\n",
       "  display: inline-block;\n",
       "  content: '►';\n",
       "  font-size: 11px;\n",
       "  width: 15px;\n",
       "  text-align: center;\n",
       "}\n",
       "\n",
       ".xr-section-summary-in:disabled + label:before {\n",
       "  color: var(--xr-disabled-color);\n",
       "}\n",
       "\n",
       ".xr-section-summary-in:checked + label:before {\n",
       "  content: '▼';\n",
       "}\n",
       "\n",
       ".xr-section-summary-in:checked + label > span {\n",
       "  display: none;\n",
       "}\n",
       "\n",
       ".xr-section-summary,\n",
       ".xr-section-inline-details {\n",
       "  padding-top: 4px;\n",
       "  padding-bottom: 4px;\n",
       "}\n",
       "\n",
       ".xr-section-inline-details {\n",
       "  grid-column: 2 / -1;\n",
       "}\n",
       "\n",
       ".xr-section-details {\n",
       "  display: none;\n",
       "  grid-column: 1 / -1;\n",
       "  margin-bottom: 5px;\n",
       "}\n",
       "\n",
       ".xr-section-summary-in:checked ~ .xr-section-details {\n",
       "  display: contents;\n",
       "}\n",
       "\n",
       ".xr-array-wrap {\n",
       "  grid-column: 1 / -1;\n",
       "  display: grid;\n",
       "  grid-template-columns: 20px auto;\n",
       "}\n",
       "\n",
       ".xr-array-wrap > label {\n",
       "  grid-column: 1;\n",
       "  vertical-align: top;\n",
       "}\n",
       "\n",
       ".xr-preview {\n",
       "  color: var(--xr-font-color3);\n",
       "}\n",
       "\n",
       ".xr-array-preview,\n",
       ".xr-array-data {\n",
       "  padding: 0 5px !important;\n",
       "  grid-column: 2;\n",
       "}\n",
       "\n",
       ".xr-array-data,\n",
       ".xr-array-in:checked ~ .xr-array-preview {\n",
       "  display: none;\n",
       "}\n",
       "\n",
       ".xr-array-in:checked ~ .xr-array-data,\n",
       ".xr-array-preview {\n",
       "  display: inline-block;\n",
       "}\n",
       "\n",
       ".xr-dim-list {\n",
       "  display: inline-block !important;\n",
       "  list-style: none;\n",
       "  padding: 0 !important;\n",
       "  margin: 0;\n",
       "}\n",
       "\n",
       ".xr-dim-list li {\n",
       "  display: inline-block;\n",
       "  padding: 0;\n",
       "  margin: 0;\n",
       "}\n",
       "\n",
       ".xr-dim-list:before {\n",
       "  content: '(';\n",
       "}\n",
       "\n",
       ".xr-dim-list:after {\n",
       "  content: ')';\n",
       "}\n",
       "\n",
       ".xr-dim-list li:not(:last-child):after {\n",
       "  content: ',';\n",
       "  padding-right: 5px;\n",
       "}\n",
       "\n",
       ".xr-has-index {\n",
       "  font-weight: bold;\n",
       "}\n",
       "\n",
       ".xr-var-list,\n",
       ".xr-var-item {\n",
       "  display: contents;\n",
       "}\n",
       "\n",
       ".xr-var-item > div,\n",
       ".xr-var-item label,\n",
       ".xr-var-item > .xr-var-name span {\n",
       "  background-color: var(--xr-background-color-row-even);\n",
       "  margin-bottom: 0;\n",
       "}\n",
       "\n",
       ".xr-var-item > .xr-var-name:hover span {\n",
       "  padding-right: 5px;\n",
       "}\n",
       "\n",
       ".xr-var-list > li:nth-child(odd) > div,\n",
       ".xr-var-list > li:nth-child(odd) > label,\n",
       ".xr-var-list > li:nth-child(odd) > .xr-var-name span {\n",
       "  background-color: var(--xr-background-color-row-odd);\n",
       "}\n",
       "\n",
       ".xr-var-name {\n",
       "  grid-column: 1;\n",
       "}\n",
       "\n",
       ".xr-var-dims {\n",
       "  grid-column: 2;\n",
       "}\n",
       "\n",
       ".xr-var-dtype {\n",
       "  grid-column: 3;\n",
       "  text-align: right;\n",
       "  color: var(--xr-font-color2);\n",
       "}\n",
       "\n",
       ".xr-var-preview {\n",
       "  grid-column: 4;\n",
       "}\n",
       "\n",
       ".xr-index-preview {\n",
       "  grid-column: 2 / 5;\n",
       "  color: var(--xr-font-color2);\n",
       "}\n",
       "\n",
       ".xr-var-name,\n",
       ".xr-var-dims,\n",
       ".xr-var-dtype,\n",
       ".xr-preview,\n",
       ".xr-attrs dt {\n",
       "  white-space: nowrap;\n",
       "  overflow: hidden;\n",
       "  text-overflow: ellipsis;\n",
       "  padding-right: 10px;\n",
       "}\n",
       "\n",
       ".xr-var-name:hover,\n",
       ".xr-var-dims:hover,\n",
       ".xr-var-dtype:hover,\n",
       ".xr-attrs dt:hover {\n",
       "  overflow: visible;\n",
       "  width: auto;\n",
       "  z-index: 1;\n",
       "}\n",
       "\n",
       ".xr-var-attrs,\n",
       ".xr-var-data,\n",
       ".xr-index-data {\n",
       "  display: none;\n",
       "  background-color: var(--xr-background-color) !important;\n",
       "  padding-bottom: 5px !important;\n",
       "}\n",
       "\n",
       ".xr-var-attrs-in:checked ~ .xr-var-attrs,\n",
       ".xr-var-data-in:checked ~ .xr-var-data,\n",
       ".xr-index-data-in:checked ~ .xr-index-data {\n",
       "  display: block;\n",
       "}\n",
       "\n",
       ".xr-var-data > table {\n",
       "  float: right;\n",
       "}\n",
       "\n",
       ".xr-var-name span,\n",
       ".xr-var-data,\n",
       ".xr-index-name div,\n",
       ".xr-index-data,\n",
       ".xr-attrs {\n",
       "  padding-left: 25px !important;\n",
       "}\n",
       "\n",
       ".xr-attrs,\n",
       ".xr-var-attrs,\n",
       ".xr-var-data,\n",
       ".xr-index-data {\n",
       "  grid-column: 1 / -1;\n",
       "}\n",
       "\n",
       "dl.xr-attrs {\n",
       "  padding: 0;\n",
       "  margin: 0;\n",
       "  display: grid;\n",
       "  grid-template-columns: 125px auto;\n",
       "}\n",
       "\n",
       ".xr-attrs dt,\n",
       ".xr-attrs dd {\n",
       "  padding: 0;\n",
       "  margin: 0;\n",
       "  float: left;\n",
       "  padding-right: 10px;\n",
       "  width: auto;\n",
       "}\n",
       "\n",
       ".xr-attrs dt {\n",
       "  font-weight: normal;\n",
       "  grid-column: 1;\n",
       "}\n",
       "\n",
       ".xr-attrs dt:hover span {\n",
       "  display: inline-block;\n",
       "  background: var(--xr-background-color);\n",
       "  padding-right: 10px;\n",
       "}\n",
       "\n",
       ".xr-attrs dd {\n",
       "  grid-column: 2;\n",
       "  white-space: pre-wrap;\n",
       "  word-break: break-all;\n",
       "}\n",
       "\n",
       ".xr-icon-database,\n",
       ".xr-icon-file-text2,\n",
       ".xr-no-icon {\n",
       "  display: inline-block;\n",
       "  vertical-align: middle;\n",
       "  width: 1em;\n",
       "  height: 1.5em !important;\n",
       "  stroke-width: 0;\n",
       "  stroke: currentColor;\n",
       "  fill: currentColor;\n",
       "}\n",
       "</style><pre class='xr-text-repr-fallback'>&lt;xarray.Dataset&gt; Size: 29kB\n",
       "Dimensions:    (time: 1827, latitude: 1, longitude: 1)\n",
       "Coordinates:\n",
       "  * latitude   (latitude) float64 8B 22.75\n",
       "  * longitude  (longitude) int64 8B -158\n",
       "  * time       (time) datetime64[ns] 15kB 2005-01-01 2005-01-02 ... 2010-01-01\n",
       "Data variables:\n",
       "    CAFE       (time, latitude, longitude) float64 15kB 349.7 353.3 ... 310.1\n",
       "Attributes:\n",
       "    Conventions:  CF-1.8\n",
       "    History:      2023-01-02 08:55:09.514113 Python\n",
       "    Keywords:     Primary Production\n",
       "    PI Contact:   tryankeogh@csir.co.za\n",
       "    PI Name:      Thomas Ryan-Keogh</pre><div class='xr-wrap' style='display:none'><div class='xr-header'><div class='xr-obj-type'>xarray.Dataset</div></div><ul class='xr-sections'><li class='xr-section-item'><input id='section-71aa56db-aefb-4156-822b-63a6e80acaed' class='xr-section-summary-in' type='checkbox' disabled ><label for='section-71aa56db-aefb-4156-822b-63a6e80acaed' class='xr-section-summary'  title='Expand/collapse section'>Dimensions:</label><div class='xr-section-inline-details'><ul class='xr-dim-list'><li><span class='xr-has-index'>time</span>: 1827</li><li><span class='xr-has-index'>latitude</span>: 1</li><li><span class='xr-has-index'>longitude</span>: 1</li></ul></div><div class='xr-section-details'></div></li><li class='xr-section-item'><input id='section-3ae313a2-ecef-4a44-86de-f8f5fe831b59' class='xr-section-summary-in' type='checkbox'  checked><label for='section-3ae313a2-ecef-4a44-86de-f8f5fe831b59' class='xr-section-summary' >Coordinates: <span>(3)</span></label><div class='xr-section-inline-details'></div><div class='xr-section-details'><ul class='xr-var-list'><li class='xr-var-item'><div class='xr-var-name'><span class='xr-has-index'>latitude</span></div><div class='xr-var-dims'>(latitude)</div><div class='xr-var-dtype'>float64</div><div class='xr-var-preview xr-preview'>22.75</div><input id='attrs-c85a3118-420a-4672-a9b2-dfd7f06a818e' class='xr-var-attrs-in' type='checkbox' ><label for='attrs-c85a3118-420a-4672-a9b2-dfd7f06a818e' title='Show/Hide attributes'><svg class='icon xr-icon-file-text2'><use xlink:href='#icon-file-text2'></use></svg></label><input id='data-a9d347d9-575c-46f0-a9f7-761ce69d1065' class='xr-var-data-in' type='checkbox'><label for='data-a9d347d9-575c-46f0-a9f7-761ce69d1065' title='Show/Hide data repr'><svg class='icon xr-icon-database'><use xlink:href='#icon-database'></use></svg></label><div class='xr-var-attrs'><dl class='xr-attrs'><dt><span>axis :</span></dt><dd>Y</dd><dt><span>long_name :</span></dt><dd>latitude</dd><dt><span>units :</span></dt><dd>degrees_north</dd></dl></div><div class='xr-var-data'><pre>array([22.75])</pre></div></li><li class='xr-var-item'><div class='xr-var-name'><span class='xr-has-index'>longitude</span></div><div class='xr-var-dims'>(longitude)</div><div class='xr-var-dtype'>int64</div><div class='xr-var-preview xr-preview'>-158</div><input id='attrs-cd8515a1-26c1-4244-8eb9-108de8828360' class='xr-var-attrs-in' type='checkbox' ><label for='attrs-cd8515a1-26c1-4244-8eb9-108de8828360' title='Show/Hide attributes'><svg class='icon xr-icon-file-text2'><use xlink:href='#icon-file-text2'></use></svg></label><input id='data-8718d0fc-4bff-44be-a3ec-0360975c8131' class='xr-var-data-in' type='checkbox'><label for='data-8718d0fc-4bff-44be-a3ec-0360975c8131' title='Show/Hide data repr'><svg class='icon xr-icon-database'><use xlink:href='#icon-database'></use></svg></label><div class='xr-var-attrs'><dl class='xr-attrs'><dt><span>axis :</span></dt><dd>X</dd><dt><span>long_name :</span></dt><dd>longitude</dd><dt><span>units :</span></dt><dd>degrees_east</dd></dl></div><div class='xr-var-data'><pre>array([-158])</pre></div></li><li class='xr-var-item'><div class='xr-var-name'><span class='xr-has-index'>time</span></div><div class='xr-var-dims'>(time)</div><div class='xr-var-dtype'>datetime64[ns]</div><div class='xr-var-preview xr-preview'>2005-01-01 ... 2010-01-01</div><input id='attrs-8cbfbdfe-6799-4539-aedd-4f466e5eb861' class='xr-var-attrs-in' type='checkbox' ><label for='attrs-8cbfbdfe-6799-4539-aedd-4f466e5eb861' title='Show/Hide attributes'><svg class='icon xr-icon-file-text2'><use xlink:href='#icon-file-text2'></use></svg></label><input id='data-b9ee4993-32f8-4d8a-9715-8b6fc6a736d3' class='xr-var-data-in' type='checkbox'><label for='data-b9ee4993-32f8-4d8a-9715-8b6fc6a736d3' title='Show/Hide data repr'><svg class='icon xr-icon-database'><use xlink:href='#icon-database'></use></svg></label><div class='xr-var-attrs'><dl class='xr-attrs'><dt><span>format :</span></dt><dd>datetime64[ns]</dd><dt><span>long_name :</span></dt><dd>time</dd><dt><span>standard_name :</span></dt><dd>Time</dd><dt><span>axis :</span></dt><dd>T</dd></dl></div><div class='xr-var-data'><pre>array([&#x27;2005-01-01T00:00:00.000000000&#x27;, &#x27;2005-01-02T00:00:00.000000000&#x27;,\n",
       "       &#x27;2005-01-03T00:00:00.000000000&#x27;, ..., &#x27;2009-12-30T00:00:00.000000000&#x27;,\n",
       "       &#x27;2009-12-31T00:00:00.000000000&#x27;, &#x27;2010-01-01T00:00:00.000000000&#x27;],\n",
       "      dtype=&#x27;datetime64[ns]&#x27;)</pre></div></li></ul></div></li><li class='xr-section-item'><input id='section-111e901a-a2dc-4b48-9dbf-0142bdf34c8d' class='xr-section-summary-in' type='checkbox'  checked><label for='section-111e901a-a2dc-4b48-9dbf-0142bdf34c8d' class='xr-section-summary' >Data variables: <span>(1)</span></label><div class='xr-section-inline-details'></div><div class='xr-section-details'><ul class='xr-var-list'><li class='xr-var-item'><div class='xr-var-name'><span>CAFE</span></div><div class='xr-var-dims'>(time, latitude, longitude)</div><div class='xr-var-dtype'>float64</div><div class='xr-var-preview xr-preview'>349.7 353.3 357.0 ... 307.6 310.1</div><input id='attrs-88e5662a-82d3-42e1-bde2-d3678dd53a11' class='xr-var-attrs-in' type='checkbox' ><label for='attrs-88e5662a-82d3-42e1-bde2-d3678dd53a11' title='Show/Hide attributes'><svg class='icon xr-icon-file-text2'><use xlink:href='#icon-file-text2'></use></svg></label><input id='data-b60d5f22-aef3-4834-8f0d-6ffd1abc84bd' class='xr-var-data-in' type='checkbox'><label for='data-b60d5f22-aef3-4834-8f0d-6ffd1abc84bd' title='Show/Hide data repr'><svg class='icon xr-icon-database'><use xlink:href='#icon-database'></use></svg></label><div class='xr-var-attrs'><dl class='xr-attrs'><dt><span>adg wavelength :</span></dt><dd>443nm</dd><dt><span>aph wavelength :</span></dt><dd>443nm</dd><dt><span>bbp wavelength :</span></dt><dd>443nm</dd><dt><span>doi :</span></dt><dd>10.1002/2016GB005521</dd><dt><span>long_name :</span></dt><dd>primary_production_using_CAFE_model</dd><dt><span>mld_criteria :</span></dt><dd>0.030 kg m^-3</dd><dt><span>mld_product :</span></dt><dd>HADLEY</dd><dt><span>reference :</span></dt><dd>Silsbe_et_al_2016</dd><dt><span>remote_sensing_data_product :</span></dt><dd>OCCCIv6</dd><dt><span>resolution :</span></dt><dd>0.00f; // float</dd><dt><span>standard_name :</span></dt><dd>NPP</dd><dt><span>units :</span></dt><dd>mg m-2 day-1</dd><dt><span>weight :</span></dt><dd>carbon</dd></dl></div><div class='xr-var-data'><pre>array([[[349.6751709 ]],\n",
       "\n",
       "       [[353.32577896]],\n",
       "\n",
       "       [[356.97638702]],\n",
       "\n",
       "       ...,\n",
       "\n",
       "       [[305.1644043 ]],\n",
       "\n",
       "       [[307.63569946]],\n",
       "\n",
       "       [[310.10699463]]])</pre></div></li></ul></div></li><li class='xr-section-item'><input id='section-f4b91758-6103-433c-b783-5b7f4fd26a6d' class='xr-section-summary-in' type='checkbox'  ><label for='section-f4b91758-6103-433c-b783-5b7f4fd26a6d' class='xr-section-summary' >Indexes: <span>(3)</span></label><div class='xr-section-inline-details'></div><div class='xr-section-details'><ul class='xr-var-list'><li class='xr-var-item'><div class='xr-index-name'><div>latitude</div></div><div class='xr-index-preview'>PandasIndex</div><div></div><input id='index-37616774-abbc-40ab-9923-0200cfe99ed4' class='xr-index-data-in' type='checkbox'/><label for='index-37616774-abbc-40ab-9923-0200cfe99ed4' title='Show/Hide index repr'><svg class='icon xr-icon-database'><use xlink:href='#icon-database'></use></svg></label><div class='xr-index-data'><pre>PandasIndex(Index([22.75], dtype=&#x27;float64&#x27;, name=&#x27;latitude&#x27;))</pre></div></li><li class='xr-var-item'><div class='xr-index-name'><div>longitude</div></div><div class='xr-index-preview'>PandasIndex</div><div></div><input id='index-6e6d9dc5-df5e-4bd3-aee4-0fe42b61c907' class='xr-index-data-in' type='checkbox'/><label for='index-6e6d9dc5-df5e-4bd3-aee4-0fe42b61c907' title='Show/Hide index repr'><svg class='icon xr-icon-database'><use xlink:href='#icon-database'></use></svg></label><div class='xr-index-data'><pre>PandasIndex(Index([-158], dtype=&#x27;int64&#x27;, name=&#x27;longitude&#x27;))</pre></div></li><li class='xr-var-item'><div class='xr-index-name'><div>time</div></div><div class='xr-index-preview'>PandasIndex</div><div></div><input id='index-29d6bcb8-262b-4054-a6da-720eb2be3512' class='xr-index-data-in' type='checkbox'/><label for='index-29d6bcb8-262b-4054-a6da-720eb2be3512' title='Show/Hide index repr'><svg class='icon xr-icon-database'><use xlink:href='#icon-database'></use></svg></label><div class='xr-index-data'><pre>PandasIndex(DatetimeIndex([&#x27;2005-01-01&#x27;, &#x27;2005-01-02&#x27;, &#x27;2005-01-03&#x27;, &#x27;2005-01-04&#x27;,\n",
       "               &#x27;2005-01-05&#x27;, &#x27;2005-01-06&#x27;, &#x27;2005-01-07&#x27;, &#x27;2005-01-08&#x27;,\n",
       "               &#x27;2005-01-09&#x27;, &#x27;2005-01-10&#x27;,\n",
       "               ...\n",
       "               &#x27;2009-12-23&#x27;, &#x27;2009-12-24&#x27;, &#x27;2009-12-25&#x27;, &#x27;2009-12-26&#x27;,\n",
       "               &#x27;2009-12-27&#x27;, &#x27;2009-12-28&#x27;, &#x27;2009-12-29&#x27;, &#x27;2009-12-30&#x27;,\n",
       "               &#x27;2009-12-31&#x27;, &#x27;2010-01-01&#x27;],\n",
       "              dtype=&#x27;datetime64[ns]&#x27;, name=&#x27;time&#x27;, length=1827, freq=None))</pre></div></li></ul></div></li><li class='xr-section-item'><input id='section-133632db-e93d-43c0-8113-5e217cd567ac' class='xr-section-summary-in' type='checkbox'  checked><label for='section-133632db-e93d-43c0-8113-5e217cd567ac' class='xr-section-summary' >Attributes: <span>(5)</span></label><div class='xr-section-inline-details'></div><div class='xr-section-details'><dl class='xr-attrs'><dt><span>Conventions :</span></dt><dd>CF-1.8</dd><dt><span>History :</span></dt><dd>2023-01-02 08:55:09.514113 Python</dd><dt><span>Keywords :</span></dt><dd>Primary Production</dd><dt><span>PI Contact :</span></dt><dd>tryankeogh@csir.co.za</dd><dt><span>PI Name :</span></dt><dd>Thomas Ryan-Keogh</dd></dl></div></li></ul></div></div>"
      ],
      "text/plain": [
       "<xarray.Dataset> Size: 29kB\n",
       "Dimensions:    (time: 1827, latitude: 1, longitude: 1)\n",
       "Coordinates:\n",
       "  * latitude   (latitude) float64 8B 22.75\n",
       "  * longitude  (longitude) int64 8B -158\n",
       "  * time       (time) datetime64[ns] 15kB 2005-01-01 2005-01-02 ... 2010-01-01\n",
       "Data variables:\n",
       "    CAFE       (time, latitude, longitude) float64 15kB 349.7 353.3 ... 310.1\n",
       "Attributes:\n",
       "    Conventions:  CF-1.8\n",
       "    History:      2023-01-02 08:55:09.514113 Python\n",
       "    Keywords:     Primary Production\n",
       "    PI Contact:   tryankeogh@csir.co.za\n",
       "    PI Name:      Thomas Ryan-Keogh"
      ]
     },
     "execution_count": 6,
     "metadata": {},
     "output_type": "execute_result"
    }
   ],
   "source": [
    "cafe_npp = xr.open_dataset(path_to_cafe, engine=\"zarr\")\n",
    "cafe_npp = cafe_npp.sel(time=slice(TIME_START, TIME_END))\n",
    "cafe_npp = cafe_npp.dropna(\"time\", how=\"all\")\n",
    "cafe_npp = cafe_npp.resample(time=\"D\").interpolate(\"linear\")\n",
    "cafe_npp.time.attrs[\"axis\"] = \"T\"\n",
    "cafe_npp.load()"
   ]
  },
  {
   "cell_type": "markdown",
   "metadata": {},
   "source": [
    "### Observations\n"
   ]
  },
  {
   "cell_type": "code",
   "execution_count": 7,
   "metadata": {},
   "outputs": [
    {
     "data": {
      "text/html": [
       "<div><svg style=\"position: absolute; width: 0; height: 0; overflow: hidden\">\n",
       "<defs>\n",
       "<symbol id=\"icon-database\" viewBox=\"0 0 32 32\">\n",
       "<path d=\"M16 0c-8.837 0-16 2.239-16 5v4c0 2.761 7.163 5 16 5s16-2.239 16-5v-4c0-2.761-7.163-5-16-5z\"></path>\n",
       "<path d=\"M16 17c-8.837 0-16-2.239-16-5v6c0 2.761 7.163 5 16 5s16-2.239 16-5v-6c0 2.761-7.163 5-16 5z\"></path>\n",
       "<path d=\"M16 26c-8.837 0-16-2.239-16-5v6c0 2.761 7.163 5 16 5s16-2.239 16-5v-6c0 2.761-7.163 5-16 5z\"></path>\n",
       "</symbol>\n",
       "<symbol id=\"icon-file-text2\" viewBox=\"0 0 32 32\">\n",
       "<path d=\"M28.681 7.159c-0.694-0.947-1.662-2.053-2.724-3.116s-2.169-2.030-3.116-2.724c-1.612-1.182-2.393-1.319-2.841-1.319h-15.5c-1.378 0-2.5 1.121-2.5 2.5v27c0 1.378 1.122 2.5 2.5 2.5h23c1.378 0 2.5-1.122 2.5-2.5v-19.5c0-0.448-0.137-1.23-1.319-2.841zM24.543 5.457c0.959 0.959 1.712 1.825 2.268 2.543h-4.811v-4.811c0.718 0.556 1.584 1.309 2.543 2.268zM28 29.5c0 0.271-0.229 0.5-0.5 0.5h-23c-0.271 0-0.5-0.229-0.5-0.5v-27c0-0.271 0.229-0.5 0.5-0.5 0 0 15.499-0 15.5 0v7c0 0.552 0.448 1 1 1h7v19.5z\"></path>\n",
       "<path d=\"M23 26h-14c-0.552 0-1-0.448-1-1s0.448-1 1-1h14c0.552 0 1 0.448 1 1s-0.448 1-1 1z\"></path>\n",
       "<path d=\"M23 22h-14c-0.552 0-1-0.448-1-1s0.448-1 1-1h14c0.552 0 1 0.448 1 1s-0.448 1-1 1z\"></path>\n",
       "<path d=\"M23 18h-14c-0.552 0-1-0.448-1-1s0.448-1 1-1h14c0.552 0 1 0.448 1 1s-0.448 1-1 1z\"></path>\n",
       "</symbol>\n",
       "</defs>\n",
       "</svg>\n",
       "<style>/* CSS stylesheet for displaying xarray objects in jupyterlab.\n",
       " *\n",
       " */\n",
       "\n",
       ":root {\n",
       "  --xr-font-color0: var(--jp-content-font-color0, rgba(0, 0, 0, 1));\n",
       "  --xr-font-color2: var(--jp-content-font-color2, rgba(0, 0, 0, 0.54));\n",
       "  --xr-font-color3: var(--jp-content-font-color3, rgba(0, 0, 0, 0.38));\n",
       "  --xr-border-color: var(--jp-border-color2, #e0e0e0);\n",
       "  --xr-disabled-color: var(--jp-layout-color3, #bdbdbd);\n",
       "  --xr-background-color: var(--jp-layout-color0, white);\n",
       "  --xr-background-color-row-even: var(--jp-layout-color1, white);\n",
       "  --xr-background-color-row-odd: var(--jp-layout-color2, #eeeeee);\n",
       "}\n",
       "\n",
       "html[theme=dark],\n",
       "html[data-theme=dark],\n",
       "body[data-theme=dark],\n",
       "body.vscode-dark {\n",
       "  --xr-font-color0: rgba(255, 255, 255, 1);\n",
       "  --xr-font-color2: rgba(255, 255, 255, 0.54);\n",
       "  --xr-font-color3: rgba(255, 255, 255, 0.38);\n",
       "  --xr-border-color: #1F1F1F;\n",
       "  --xr-disabled-color: #515151;\n",
       "  --xr-background-color: #111111;\n",
       "  --xr-background-color-row-even: #111111;\n",
       "  --xr-background-color-row-odd: #313131;\n",
       "}\n",
       "\n",
       ".xr-wrap {\n",
       "  display: block !important;\n",
       "  min-width: 300px;\n",
       "  max-width: 700px;\n",
       "}\n",
       "\n",
       ".xr-text-repr-fallback {\n",
       "  /* fallback to plain text repr when CSS is not injected (untrusted notebook) */\n",
       "  display: none;\n",
       "}\n",
       "\n",
       ".xr-header {\n",
       "  padding-top: 6px;\n",
       "  padding-bottom: 6px;\n",
       "  margin-bottom: 4px;\n",
       "  border-bottom: solid 1px var(--xr-border-color);\n",
       "}\n",
       "\n",
       ".xr-header > div,\n",
       ".xr-header > ul {\n",
       "  display: inline;\n",
       "  margin-top: 0;\n",
       "  margin-bottom: 0;\n",
       "}\n",
       "\n",
       ".xr-obj-type,\n",
       ".xr-array-name {\n",
       "  margin-left: 2px;\n",
       "  margin-right: 10px;\n",
       "}\n",
       "\n",
       ".xr-obj-type {\n",
       "  color: var(--xr-font-color2);\n",
       "}\n",
       "\n",
       ".xr-sections {\n",
       "  padding-left: 0 !important;\n",
       "  display: grid;\n",
       "  grid-template-columns: 150px auto auto 1fr 0 20px 0 20px;\n",
       "}\n",
       "\n",
       ".xr-section-item {\n",
       "  display: contents;\n",
       "}\n",
       "\n",
       ".xr-section-item input {\n",
       "  display: inline-block;\n",
       "  opacity: 0;\n",
       "}\n",
       "\n",
       ".xr-section-item input + label {\n",
       "  color: var(--xr-disabled-color);\n",
       "}\n",
       "\n",
       ".xr-section-item input:enabled + label {\n",
       "  cursor: pointer;\n",
       "  color: var(--xr-font-color2);\n",
       "}\n",
       "\n",
       ".xr-section-item input:focus + label {\n",
       "  border: 2px solid var(--xr-font-color0);\n",
       "}\n",
       "\n",
       ".xr-section-item input:enabled + label:hover {\n",
       "  color: var(--xr-font-color0);\n",
       "}\n",
       "\n",
       ".xr-section-summary {\n",
       "  grid-column: 1;\n",
       "  color: var(--xr-font-color2);\n",
       "  font-weight: 500;\n",
       "}\n",
       "\n",
       ".xr-section-summary > span {\n",
       "  display: inline-block;\n",
       "  padding-left: 0.5em;\n",
       "}\n",
       "\n",
       ".xr-section-summary-in:disabled + label {\n",
       "  color: var(--xr-font-color2);\n",
       "}\n",
       "\n",
       ".xr-section-summary-in + label:before {\n",
       "  display: inline-block;\n",
       "  content: '►';\n",
       "  font-size: 11px;\n",
       "  width: 15px;\n",
       "  text-align: center;\n",
       "}\n",
       "\n",
       ".xr-section-summary-in:disabled + label:before {\n",
       "  color: var(--xr-disabled-color);\n",
       "}\n",
       "\n",
       ".xr-section-summary-in:checked + label:before {\n",
       "  content: '▼';\n",
       "}\n",
       "\n",
       ".xr-section-summary-in:checked + label > span {\n",
       "  display: none;\n",
       "}\n",
       "\n",
       ".xr-section-summary,\n",
       ".xr-section-inline-details {\n",
       "  padding-top: 4px;\n",
       "  padding-bottom: 4px;\n",
       "}\n",
       "\n",
       ".xr-section-inline-details {\n",
       "  grid-column: 2 / -1;\n",
       "}\n",
       "\n",
       ".xr-section-details {\n",
       "  display: none;\n",
       "  grid-column: 1 / -1;\n",
       "  margin-bottom: 5px;\n",
       "}\n",
       "\n",
       ".xr-section-summary-in:checked ~ .xr-section-details {\n",
       "  display: contents;\n",
       "}\n",
       "\n",
       ".xr-array-wrap {\n",
       "  grid-column: 1 / -1;\n",
       "  display: grid;\n",
       "  grid-template-columns: 20px auto;\n",
       "}\n",
       "\n",
       ".xr-array-wrap > label {\n",
       "  grid-column: 1;\n",
       "  vertical-align: top;\n",
       "}\n",
       "\n",
       ".xr-preview {\n",
       "  color: var(--xr-font-color3);\n",
       "}\n",
       "\n",
       ".xr-array-preview,\n",
       ".xr-array-data {\n",
       "  padding: 0 5px !important;\n",
       "  grid-column: 2;\n",
       "}\n",
       "\n",
       ".xr-array-data,\n",
       ".xr-array-in:checked ~ .xr-array-preview {\n",
       "  display: none;\n",
       "}\n",
       "\n",
       ".xr-array-in:checked ~ .xr-array-data,\n",
       ".xr-array-preview {\n",
       "  display: inline-block;\n",
       "}\n",
       "\n",
       ".xr-dim-list {\n",
       "  display: inline-block !important;\n",
       "  list-style: none;\n",
       "  padding: 0 !important;\n",
       "  margin: 0;\n",
       "}\n",
       "\n",
       ".xr-dim-list li {\n",
       "  display: inline-block;\n",
       "  padding: 0;\n",
       "  margin: 0;\n",
       "}\n",
       "\n",
       ".xr-dim-list:before {\n",
       "  content: '(';\n",
       "}\n",
       "\n",
       ".xr-dim-list:after {\n",
       "  content: ')';\n",
       "}\n",
       "\n",
       ".xr-dim-list li:not(:last-child):after {\n",
       "  content: ',';\n",
       "  padding-right: 5px;\n",
       "}\n",
       "\n",
       ".xr-has-index {\n",
       "  font-weight: bold;\n",
       "}\n",
       "\n",
       ".xr-var-list,\n",
       ".xr-var-item {\n",
       "  display: contents;\n",
       "}\n",
       "\n",
       ".xr-var-item > div,\n",
       ".xr-var-item label,\n",
       ".xr-var-item > .xr-var-name span {\n",
       "  background-color: var(--xr-background-color-row-even);\n",
       "  margin-bottom: 0;\n",
       "}\n",
       "\n",
       ".xr-var-item > .xr-var-name:hover span {\n",
       "  padding-right: 5px;\n",
       "}\n",
       "\n",
       ".xr-var-list > li:nth-child(odd) > div,\n",
       ".xr-var-list > li:nth-child(odd) > label,\n",
       ".xr-var-list > li:nth-child(odd) > .xr-var-name span {\n",
       "  background-color: var(--xr-background-color-row-odd);\n",
       "}\n",
       "\n",
       ".xr-var-name {\n",
       "  grid-column: 1;\n",
       "}\n",
       "\n",
       ".xr-var-dims {\n",
       "  grid-column: 2;\n",
       "}\n",
       "\n",
       ".xr-var-dtype {\n",
       "  grid-column: 3;\n",
       "  text-align: right;\n",
       "  color: var(--xr-font-color2);\n",
       "}\n",
       "\n",
       ".xr-var-preview {\n",
       "  grid-column: 4;\n",
       "}\n",
       "\n",
       ".xr-index-preview {\n",
       "  grid-column: 2 / 5;\n",
       "  color: var(--xr-font-color2);\n",
       "}\n",
       "\n",
       ".xr-var-name,\n",
       ".xr-var-dims,\n",
       ".xr-var-dtype,\n",
       ".xr-preview,\n",
       ".xr-attrs dt {\n",
       "  white-space: nowrap;\n",
       "  overflow: hidden;\n",
       "  text-overflow: ellipsis;\n",
       "  padding-right: 10px;\n",
       "}\n",
       "\n",
       ".xr-var-name:hover,\n",
       ".xr-var-dims:hover,\n",
       ".xr-var-dtype:hover,\n",
       ".xr-attrs dt:hover {\n",
       "  overflow: visible;\n",
       "  width: auto;\n",
       "  z-index: 1;\n",
       "}\n",
       "\n",
       ".xr-var-attrs,\n",
       ".xr-var-data,\n",
       ".xr-index-data {\n",
       "  display: none;\n",
       "  background-color: var(--xr-background-color) !important;\n",
       "  padding-bottom: 5px !important;\n",
       "}\n",
       "\n",
       ".xr-var-attrs-in:checked ~ .xr-var-attrs,\n",
       ".xr-var-data-in:checked ~ .xr-var-data,\n",
       ".xr-index-data-in:checked ~ .xr-index-data {\n",
       "  display: block;\n",
       "}\n",
       "\n",
       ".xr-var-data > table {\n",
       "  float: right;\n",
       "}\n",
       "\n",
       ".xr-var-name span,\n",
       ".xr-var-data,\n",
       ".xr-index-name div,\n",
       ".xr-index-data,\n",
       ".xr-attrs {\n",
       "  padding-left: 25px !important;\n",
       "}\n",
       "\n",
       ".xr-attrs,\n",
       ".xr-var-attrs,\n",
       ".xr-var-data,\n",
       ".xr-index-data {\n",
       "  grid-column: 1 / -1;\n",
       "}\n",
       "\n",
       "dl.xr-attrs {\n",
       "  padding: 0;\n",
       "  margin: 0;\n",
       "  display: grid;\n",
       "  grid-template-columns: 125px auto;\n",
       "}\n",
       "\n",
       ".xr-attrs dt,\n",
       ".xr-attrs dd {\n",
       "  padding: 0;\n",
       "  margin: 0;\n",
       "  float: left;\n",
       "  padding-right: 10px;\n",
       "  width: auto;\n",
       "}\n",
       "\n",
       ".xr-attrs dt {\n",
       "  font-weight: normal;\n",
       "  grid-column: 1;\n",
       "}\n",
       "\n",
       ".xr-attrs dt:hover span {\n",
       "  display: inline-block;\n",
       "  background: var(--xr-background-color);\n",
       "  padding-right: 10px;\n",
       "}\n",
       "\n",
       ".xr-attrs dd {\n",
       "  grid-column: 2;\n",
       "  white-space: pre-wrap;\n",
       "  word-break: break-all;\n",
       "}\n",
       "\n",
       ".xr-icon-database,\n",
       ".xr-icon-file-text2,\n",
       ".xr-no-icon {\n",
       "  display: inline-block;\n",
       "  vertical-align: middle;\n",
       "  width: 1em;\n",
       "  height: 1.5em !important;\n",
       "  stroke-width: 0;\n",
       "  stroke: currentColor;\n",
       "  fill: currentColor;\n",
       "}\n",
       "</style><pre class='xr-text-repr-fallback'>&lt;xarray.Dataset&gt; Size: 2kB\n",
       "Dimensions:    (layer: 1, time: 65, latitude: 1, longitude: 1)\n",
       "Coordinates:\n",
       "  * layer      (layer) int64 8B 0\n",
       "  * time       (time) datetime64[ns] 520B 2005-02-02 2005-03-04 ... 2009-12-10\n",
       "  * latitude   (latitude) float64 8B 22.75\n",
       "  * longitude  (longitude) int64 8B -158\n",
       "Data variables:\n",
       "    day        (time, layer, latitude, longitude) float64 520B [mg/m²] 129.6 ...\n",
       "    night      (time, layer, latitude, longitude) float64 520B [mg/m²] 311.3 ...</pre><div class='xr-wrap' style='display:none'><div class='xr-header'><div class='xr-obj-type'>xarray.Dataset</div></div><ul class='xr-sections'><li class='xr-section-item'><input id='section-25f727e0-a8ac-44d0-9ff3-20f4e8870e38' class='xr-section-summary-in' type='checkbox' disabled ><label for='section-25f727e0-a8ac-44d0-9ff3-20f4e8870e38' class='xr-section-summary'  title='Expand/collapse section'>Dimensions:</label><div class='xr-section-inline-details'><ul class='xr-dim-list'><li><span class='xr-has-index'>layer</span>: 1</li><li><span class='xr-has-index'>time</span>: 65</li><li><span class='xr-has-index'>latitude</span>: 1</li><li><span class='xr-has-index'>longitude</span>: 1</li></ul></div><div class='xr-section-details'></div></li><li class='xr-section-item'><input id='section-a671774c-d370-4a8f-b5e5-0431d97509d5' class='xr-section-summary-in' type='checkbox'  checked><label for='section-a671774c-d370-4a8f-b5e5-0431d97509d5' class='xr-section-summary' >Coordinates: <span>(4)</span></label><div class='xr-section-inline-details'></div><div class='xr-section-details'><ul class='xr-var-list'><li class='xr-var-item'><div class='xr-var-name'><span class='xr-has-index'>layer</span></div><div class='xr-var-dims'>(layer)</div><div class='xr-var-dtype'>int64</div><div class='xr-var-preview xr-preview'>0</div><input id='attrs-207c0256-8ee3-40ec-bd53-ab1cf0281a1d' class='xr-var-attrs-in' type='checkbox' ><label for='attrs-207c0256-8ee3-40ec-bd53-ab1cf0281a1d' title='Show/Hide attributes'><svg class='icon xr-icon-file-text2'><use xlink:href='#icon-file-text2'></use></svg></label><input id='data-cdcb4ef7-a01c-4a56-a791-51daf7e4f1f8' class='xr-var-data-in' type='checkbox'><label for='data-cdcb4ef7-a01c-4a56-a791-51daf7e4f1f8' title='Show/Hide data repr'><svg class='icon xr-icon-database'><use xlink:href='#icon-database'></use></svg></label><div class='xr-var-attrs'><dl class='xr-attrs'><dt><span>axis :</span></dt><dd>Z</dd><dt><span>desc :</span></dt><dd>The layer depth according to Seapodym definition</dd><dt><span>flag_meanings :</span></dt><dd>epipelagic, upper-mesopelagic, lower-mesopelagic</dd><dt><span>flag_values :</span></dt><dd>[0, 1, 2]</dd><dt><span>long_name :</span></dt><dd>Layer depth</dd><dt><span>standard_name :</span></dt><dd>layer</dd></dl></div><div class='xr-var-data'><pre>array([0])</pre></div></li><li class='xr-var-item'><div class='xr-var-name'><span class='xr-has-index'>time</span></div><div class='xr-var-dims'>(time)</div><div class='xr-var-dtype'>datetime64[ns]</div><div class='xr-var-preview xr-preview'>2005-02-02 ... 2009-12-10</div><input id='attrs-33b587a1-ff54-45f7-a0bc-863759a69217' class='xr-var-attrs-in' type='checkbox' ><label for='attrs-33b587a1-ff54-45f7-a0bc-863759a69217' title='Show/Hide attributes'><svg class='icon xr-icon-file-text2'><use xlink:href='#icon-file-text2'></use></svg></label><input id='data-2a1c083f-fb71-4a6a-befa-6be5c5604902' class='xr-var-data-in' type='checkbox'><label for='data-2a1c083f-fb71-4a6a-befa-6be5c5604902' title='Show/Hide data repr'><svg class='icon xr-icon-database'><use xlink:href='#icon-database'></use></svg></label><div class='xr-var-attrs'><dl class='xr-attrs'><dt><span>axis :</span></dt><dd>T</dd><dt><span>long_name :</span></dt><dd>time</dd><dt><span>standard_name :</span></dt><dd>time</dd></dl></div><div class='xr-var-data'><pre>array([&#x27;2005-02-02T00:00:00.000000000&#x27;, &#x27;2005-03-04T00:00:00.000000000&#x27;,\n",
       "       &#x27;2005-03-05T00:00:00.000000000&#x27;, &#x27;2005-06-14T00:00:00.000000000&#x27;,\n",
       "       &#x27;2005-07-16T00:00:00.000000000&#x27;, &#x27;2005-07-17T00:00:00.000000000&#x27;,\n",
       "       &#x27;2005-08-13T00:00:00.000000000&#x27;, &#x27;2005-08-14T00:00:00.000000000&#x27;,\n",
       "       &#x27;2005-10-10T00:00:00.000000000&#x27;, &#x27;2005-11-12T00:00:00.000000000&#x27;,\n",
       "       &#x27;2005-11-13T00:00:00.000000000&#x27;, &#x27;2005-12-13T00:00:00.000000000&#x27;,\n",
       "       &#x27;2005-12-14T00:00:00.000000000&#x27;, &#x27;2006-02-15T00:00:00.000000000&#x27;,\n",
       "       &#x27;2006-02-16T00:00:00.000000000&#x27;, &#x27;2006-03-10T00:00:00.000000000&#x27;,\n",
       "       &#x27;2006-03-11T00:00:00.000000000&#x27;, &#x27;2006-04-02T00:00:00.000000000&#x27;,\n",
       "       &#x27;2006-04-03T00:00:00.000000000&#x27;, &#x27;2006-06-14T00:00:00.000000000&#x27;,\n",
       "       &#x27;2006-06-15T00:00:00.000000000&#x27;, &#x27;2006-09-16T00:00:00.000000000&#x27;,\n",
       "       &#x27;2006-09-17T00:00:00.000000000&#x27;, &#x27;2006-10-21T00:00:00.000000000&#x27;,\n",
       "       &#x27;2006-10-22T00:00:00.000000000&#x27;, &#x27;2006-11-09T00:00:00.000000000&#x27;,\n",
       "       &#x27;2006-11-10T00:00:00.000000000&#x27;, &#x27;2006-12-10T00:00:00.000000000&#x27;,\n",
       "       &#x27;2006-12-11T00:00:00.000000000&#x27;, &#x27;2007-02-07T00:00:00.000000000&#x27;,\n",
       "       &#x27;2007-03-21T00:00:00.000000000&#x27;, &#x27;2007-03-22T00:00:00.000000000&#x27;,\n",
       "       &#x27;2007-05-06T00:00:00.000000000&#x27;, &#x27;2007-06-10T00:00:00.000000000&#x27;,\n",
       "       &#x27;2007-06-11T00:00:00.000000000&#x27;, &#x27;2007-07-08T00:00:00.000000000&#x27;,\n",
       "       &#x27;2007-07-09T00:00:00.000000000&#x27;, &#x27;2007-09-03T00:00:00.000000000&#x27;,\n",
       "       &#x27;2007-10-03T00:00:00.000000000&#x27;, &#x27;2007-10-04T00:00:00.000000000&#x27;,\n",
       "       &#x27;2007-12-02T00:00:00.000000000&#x27;, &#x27;2007-12-03T00:00:00.000000000&#x27;,\n",
       "       &#x27;2007-12-22T00:00:00.000000000&#x27;, &#x27;2008-01-30T00:00:00.000000000&#x27;,\n",
       "       &#x27;2008-01-31T00:00:00.000000000&#x27;, &#x27;2008-02-24T00:00:00.000000000&#x27;,\n",
       "       &#x27;2008-02-25T00:00:00.000000000&#x27;, &#x27;2008-05-28T00:00:00.000000000&#x27;,\n",
       "       &#x27;2008-06-26T00:00:00.000000000&#x27;, &#x27;2008-08-16T00:00:00.000000000&#x27;,\n",
       "       &#x27;2008-08-17T00:00:00.000000000&#x27;, &#x27;2008-10-10T00:00:00.000000000&#x27;,\n",
       "       &#x27;2008-11-30T00:00:00.000000000&#x27;, &#x27;2008-12-01T00:00:00.000000000&#x27;,\n",
       "       &#x27;2009-01-21T00:00:00.000000000&#x27;, &#x27;2009-02-18T00:00:00.000000000&#x27;,\n",
       "       &#x27;2009-04-28T00:00:00.000000000&#x27;, &#x27;2009-04-29T00:00:00.000000000&#x27;,\n",
       "       &#x27;2009-05-27T00:00:00.000000000&#x27;, &#x27;2009-07-03T00:00:00.000000000&#x27;,\n",
       "       &#x27;2009-07-04T00:00:00.000000000&#x27;, &#x27;2009-09-24T00:00:00.000000000&#x27;,\n",
       "       &#x27;2009-09-25T00:00:00.000000000&#x27;, &#x27;2009-11-03T00:00:00.000000000&#x27;,\n",
       "       &#x27;2009-12-10T00:00:00.000000000&#x27;], dtype=&#x27;datetime64[ns]&#x27;)</pre></div></li><li class='xr-var-item'><div class='xr-var-name'><span class='xr-has-index'>latitude</span></div><div class='xr-var-dims'>(latitude)</div><div class='xr-var-dtype'>float64</div><div class='xr-var-preview xr-preview'>22.75</div><input id='attrs-171d47ab-011f-449b-ad75-860ce14dc02f' class='xr-var-attrs-in' type='checkbox' ><label for='attrs-171d47ab-011f-449b-ad75-860ce14dc02f' title='Show/Hide attributes'><svg class='icon xr-icon-file-text2'><use xlink:href='#icon-file-text2'></use></svg></label><input id='data-13ae38ee-e26d-48d2-84e2-1fd0dbbea5e1' class='xr-var-data-in' type='checkbox'><label for='data-13ae38ee-e26d-48d2-84e2-1fd0dbbea5e1' title='Show/Hide data repr'><svg class='icon xr-icon-database'><use xlink:href='#icon-database'></use></svg></label><div class='xr-var-attrs'><dl class='xr-attrs'><dt><span>axis :</span></dt><dd>Y</dd><dt><span>standard_name :</span></dt><dd>latitude</dd><dt><span>units :</span></dt><dd>degrees_north</dd></dl></div><div class='xr-var-data'><pre>array([22.75])</pre></div></li><li class='xr-var-item'><div class='xr-var-name'><span class='xr-has-index'>longitude</span></div><div class='xr-var-dims'>(longitude)</div><div class='xr-var-dtype'>int64</div><div class='xr-var-preview xr-preview'>-158</div><input id='attrs-3af338ca-50e7-49b1-abbc-10514bfdc789' class='xr-var-attrs-in' type='checkbox' ><label for='attrs-3af338ca-50e7-49b1-abbc-10514bfdc789' title='Show/Hide attributes'><svg class='icon xr-icon-file-text2'><use xlink:href='#icon-file-text2'></use></svg></label><input id='data-fce246ad-97f1-4712-a0cc-801f6275ee12' class='xr-var-data-in' type='checkbox'><label for='data-fce246ad-97f1-4712-a0cc-801f6275ee12' title='Show/Hide data repr'><svg class='icon xr-icon-database'><use xlink:href='#icon-database'></use></svg></label><div class='xr-var-attrs'><dl class='xr-attrs'><dt><span>axis :</span></dt><dd>X</dd><dt><span>standard_name :</span></dt><dd>longitude</dd><dt><span>units :</span></dt><dd>degrees_east</dd></dl></div><div class='xr-var-data'><pre>array([-158])</pre></div></li></ul></div></li><li class='xr-section-item'><input id='section-5749bc3f-6e76-4644-a82a-8484176fed47' class='xr-section-summary-in' type='checkbox'  checked><label for='section-5749bc3f-6e76-4644-a82a-8484176fed47' class='xr-section-summary' >Data variables: <span>(2)</span></label><div class='xr-section-inline-details'></div><div class='xr-section-details'><ul class='xr-var-list'><li class='xr-var-item'><div class='xr-var-name'><span>day</span></div><div class='xr-var-dims'>(time, layer, latitude, longitude)</div><div class='xr-var-dtype'>float64</div><div class='xr-var-preview xr-preview'>[mg/m²] 129.6 241.9 ... 115.0 207.4</div><input id='attrs-d87e1788-6672-44b5-897b-e35548ac25c7' class='xr-var-attrs-in' type='checkbox' disabled><label for='attrs-d87e1788-6672-44b5-897b-e35548ac25c7' title='Show/Hide attributes'><svg class='icon xr-icon-file-text2'><use xlink:href='#icon-file-text2'></use></svg></label><input id='data-e13efb96-c8a6-477a-bdc4-7765759ea42a' class='xr-var-data-in' type='checkbox'><label for='data-e13efb96-c8a6-477a-bdc4-7765759ea42a' title='Show/Hide data repr'><svg class='icon xr-icon-database'><use xlink:href='#icon-database'></use></svg></label><div class='xr-var-attrs'><dl class='xr-attrs'></dl></div><div class='xr-var-data'><table><tbody><tr><th>Magnitude</th><td style='text-align:left;'><pre>[[[[129.6241254518878]]]<br><br><br> [[[241.93912957042275]]]<br><br><br> [[[226.49606461724028]]]<br><br><br> [[[297.7116912786574]]]<br><br><br> [[[338.10901943263667]]]<br><br><br> [[[348.62482773763463]]]<br><br><br> [[[414.2199967520759]]]<br><br><br> [[[380.37086633863925]]]<br><br><br> [[[310.58447115849805]]]<br><br><br> [[[299.6403565698716]]]<br><br><br> [[[286.7338167009678]]]<br><br><br> [[[203.04283404086257]]]<br><br><br> [[[182.27868432749716]]]<br><br><br> [[[213.14200856879958]]]<br><br><br> [[[158.16330671375027]]]<br><br><br> [[[213.21478647165335]]]<br><br><br> [[[192.88052379372309]]]<br><br><br> [[[178.96047463029464]]]<br><br><br> [[[192.29199558308798]]]<br><br><br> [[[279.3417600824082]]]<br><br><br> [[[245.83409341816906]]]<br><br><br> [[[251.6896388460537]]]<br><br><br> [[[321.7758900737953]]]<br><br><br> [[[240.68806733748397]]]<br><br><br> [[[285.6867904967255]]]<br><br><br> [[[135.38561733182783]]]<br><br><br> [[[184.07910842756385]]]<br><br><br> [[[113.49811752766878]]]<br><br><br> [[[114.75328020306664]]]<br><br><br> [[[291.8373150586662]]]<br><br><br> [[[208.07113611154097]]]<br><br><br> [[[265.3864805985914]]]<br><br><br> [[[300.52656827637287]]]<br><br><br> [[[405.7243428475462]]]<br><br><br> [[[317.43793038041196]]]<br><br><br> [[[289.488862617321]]]<br><br><br> [[[369.70092582568174]]]<br><br><br> [[[402.38246906464065]]]<br><br><br> [[[187.91756194824]]]<br><br><br> [[[276.50283391179846]]]<br><br><br> [[[168.86156744783952]]]<br><br><br> [[[165.310175828319]]]<br><br><br> [[[209.0217472434997]]]<br><br><br> [[[153.79359135232633]]]<br><br><br> [[[105.69203672669539]]]<br><br><br> [[[121.46032471801634]]]<br><br><br> [[[136.65611305691513]]]<br><br><br> [[[277.11358627957645]]]<br><br><br> [[[401.3576646611965]]]<br><br><br> [[[290.014536521321]]]<br><br><br> [[[295.556652170673]]]<br><br><br> [[[250.23021884103585]]]<br><br><br> [[[157.9912873050357]]]<br><br><br> [[[222.38519479834522]]]<br><br><br> [[[49.59509397421906]]]<br><br><br> [[[179.40468654130052]]]<br><br><br> [[[203.9030493018046]]]<br><br><br> [[[146.13778456973913]]]<br><br><br> [[[416.76577798207774]]]<br><br><br> [[[145.61375062461659]]]<br><br><br> [[[148.20915222988242]]]<br><br><br> [[[377.87205331539525]]]<br><br><br> [[[188.7746322496145]]]<br><br><br> [[[115.03212441610059]]]<br><br><br> [[[207.35448677619334]]]]</pre></td></tr><tr><th>Units</th><td style='text-align:left;'>milligram/meter<sup>2</sup></td></tr></tbody></table></div></li><li class='xr-var-item'><div class='xr-var-name'><span>night</span></div><div class='xr-var-dims'>(time, layer, latitude, longitude)</div><div class='xr-var-dtype'>float64</div><div class='xr-var-preview xr-preview'>[mg/m²] 311.3 411.0 ... 293.7 306.5</div><input id='attrs-e0446e79-e742-4bc4-ac2a-24b30ceb3a99' class='xr-var-attrs-in' type='checkbox' disabled><label for='attrs-e0446e79-e742-4bc4-ac2a-24b30ceb3a99' title='Show/Hide attributes'><svg class='icon xr-icon-file-text2'><use xlink:href='#icon-file-text2'></use></svg></label><input id='data-20ec492f-b9f4-49d8-8bdb-017656a79f2d' class='xr-var-data-in' type='checkbox'><label for='data-20ec492f-b9f4-49d8-8bdb-017656a79f2d' title='Show/Hide data repr'><svg class='icon xr-icon-database'><use xlink:href='#icon-database'></use></svg></label><div class='xr-var-attrs'><dl class='xr-attrs'></dl></div><div class='xr-var-data'><table><tbody><tr><th>Magnitude</th><td style='text-align:left;'><pre>[[[[311.2660665468461]]]<br><br><br> [[[411.04654946953013]]]<br><br><br> [[[434.4442853402015]]]<br><br><br> [[[410.12685963930767]]]<br><br><br> [[[425.9698605032181]]]<br><br><br> [[[450.29322697950903]]]<br><br><br> [[[549.8204501288825]]]<br><br><br> [[[601.5568977313856]]]<br><br><br> [[[320.1690029650057]]]<br><br><br> [[[442.99388134444786]]]<br><br><br> [[[355.67831022742035]]]<br><br><br> [[[300.9947612036864]]]<br><br><br> [[[283.66585739301]]]<br><br><br> [[[276.6976430774046]]]<br><br><br> [[[298.1719638965375]]]<br><br><br> [[[402.4179423232029]]]<br><br><br> [[[319.81105274836926]]]<br><br><br> [[[456.9291939233906]]]<br><br><br> [[[346.7687289469165]]]<br><br><br> [[[437.89634413936665]]]<br><br><br> [[[418.59746747308213]]]<br><br><br> [[[295.20449865110794]]]<br><br><br> [[[388.1953942339221]]]<br><br><br> [[[303.2075888481008]]]<br><br><br> [[[435.41244496878386]]]<br><br><br> [[[362.61171823731013]]]<br><br><br> [[[325.9052064916851]]]<br><br><br> [[[237.661578428888]]]<br><br><br> [[[197.9773531469736]]]<br><br><br> [[[410.85341661483824]]]<br><br><br> [[[497.50541412129627]]]<br><br><br> [[[341.6489013266257]]]<br><br><br> [[[547.9308393854859]]]<br><br><br> [[[524.742692424872]]]<br><br><br> [[[504.8848192812326]]]<br><br><br> [[[495.06076671485187]]]<br><br><br> [[[573.5467022569293]]]<br><br><br> [[[684.5289102704819]]]<br><br><br> [[[441.3022237706481]]]<br><br><br> [[[389.5605894361301]]]<br><br><br> [[[295.2949937401673]]]<br><br><br> [[[298.6134937077826]]]<br><br><br> [[[250.8035280886973]]]<br><br><br> [[[192.58467512551408]]]<br><br><br> [[[236.8405622245085]]]<br><br><br> [[[230.718829341949]]]<br><br><br> [[[296.78592909233066]]]<br><br><br> [[[409.622869796669]]]<br><br><br> [[[494.6507966129079]]]<br><br><br> [[[410.0118725290155]]]<br><br><br> [[[324.20490677308646]]]<br><br><br> [[[331.816723195203]]]<br><br><br> [[[479.1847643283798]]]<br><br><br> [[[470.81495398792043]]]<br><br><br> [[[147.90582627756717]]]<br><br><br> [[[222.6260094903661]]]<br><br><br> [[[253.23644332570444]]]<br><br><br> [[[265.4001656739965]]]<br><br><br> [[[591.1972238728096]]]<br><br><br> [[[294.8439913315892]]]<br><br><br> [[[541.8992237354149]]]<br><br><br> [[[443.78218169671544]]]<br><br><br> [[[269.09539710001894]]]<br><br><br> [[[293.6753429149077]]]<br><br><br> [[[306.4898301315927]]]]</pre></td></tr><tr><th>Units</th><td style='text-align:left;'>milligram/meter<sup>2</sup></td></tr></tbody></table></div></li></ul></div></li><li class='xr-section-item'><input id='section-189dd481-0c9f-430c-b763-4f1c10867ad4' class='xr-section-summary-in' type='checkbox'  ><label for='section-189dd481-0c9f-430c-b763-4f1c10867ad4' class='xr-section-summary' >Indexes: <span>(4)</span></label><div class='xr-section-inline-details'></div><div class='xr-section-details'><ul class='xr-var-list'><li class='xr-var-item'><div class='xr-index-name'><div>layer</div></div><div class='xr-index-preview'>PandasIndex</div><div></div><input id='index-f3e471eb-37c4-40a1-94ac-7016eb545a6e' class='xr-index-data-in' type='checkbox'/><label for='index-f3e471eb-37c4-40a1-94ac-7016eb545a6e' title='Show/Hide index repr'><svg class='icon xr-icon-database'><use xlink:href='#icon-database'></use></svg></label><div class='xr-index-data'><pre>PandasIndex(Index([0], dtype=&#x27;int64&#x27;, name=&#x27;layer&#x27;))</pre></div></li><li class='xr-var-item'><div class='xr-index-name'><div>time</div></div><div class='xr-index-preview'>PandasIndex</div><div></div><input id='index-2a3f8f12-8bdb-454b-9682-fdef09a350c5' class='xr-index-data-in' type='checkbox'/><label for='index-2a3f8f12-8bdb-454b-9682-fdef09a350c5' title='Show/Hide index repr'><svg class='icon xr-icon-database'><use xlink:href='#icon-database'></use></svg></label><div class='xr-index-data'><pre>PandasIndex(DatetimeIndex([&#x27;2005-02-02&#x27;, &#x27;2005-03-04&#x27;, &#x27;2005-03-05&#x27;, &#x27;2005-06-14&#x27;,\n",
       "               &#x27;2005-07-16&#x27;, &#x27;2005-07-17&#x27;, &#x27;2005-08-13&#x27;, &#x27;2005-08-14&#x27;,\n",
       "               &#x27;2005-10-10&#x27;, &#x27;2005-11-12&#x27;, &#x27;2005-11-13&#x27;, &#x27;2005-12-13&#x27;,\n",
       "               &#x27;2005-12-14&#x27;, &#x27;2006-02-15&#x27;, &#x27;2006-02-16&#x27;, &#x27;2006-03-10&#x27;,\n",
       "               &#x27;2006-03-11&#x27;, &#x27;2006-04-02&#x27;, &#x27;2006-04-03&#x27;, &#x27;2006-06-14&#x27;,\n",
       "               &#x27;2006-06-15&#x27;, &#x27;2006-09-16&#x27;, &#x27;2006-09-17&#x27;, &#x27;2006-10-21&#x27;,\n",
       "               &#x27;2006-10-22&#x27;, &#x27;2006-11-09&#x27;, &#x27;2006-11-10&#x27;, &#x27;2006-12-10&#x27;,\n",
       "               &#x27;2006-12-11&#x27;, &#x27;2007-02-07&#x27;, &#x27;2007-03-21&#x27;, &#x27;2007-03-22&#x27;,\n",
       "               &#x27;2007-05-06&#x27;, &#x27;2007-06-10&#x27;, &#x27;2007-06-11&#x27;, &#x27;2007-07-08&#x27;,\n",
       "               &#x27;2007-07-09&#x27;, &#x27;2007-09-03&#x27;, &#x27;2007-10-03&#x27;, &#x27;2007-10-04&#x27;,\n",
       "               &#x27;2007-12-02&#x27;, &#x27;2007-12-03&#x27;, &#x27;2007-12-22&#x27;, &#x27;2008-01-30&#x27;,\n",
       "               &#x27;2008-01-31&#x27;, &#x27;2008-02-24&#x27;, &#x27;2008-02-25&#x27;, &#x27;2008-05-28&#x27;,\n",
       "               &#x27;2008-06-26&#x27;, &#x27;2008-08-16&#x27;, &#x27;2008-08-17&#x27;, &#x27;2008-10-10&#x27;,\n",
       "               &#x27;2008-11-30&#x27;, &#x27;2008-12-01&#x27;, &#x27;2009-01-21&#x27;, &#x27;2009-02-18&#x27;,\n",
       "               &#x27;2009-04-28&#x27;, &#x27;2009-04-29&#x27;, &#x27;2009-05-27&#x27;, &#x27;2009-07-03&#x27;,\n",
       "               &#x27;2009-07-04&#x27;, &#x27;2009-09-24&#x27;, &#x27;2009-09-25&#x27;, &#x27;2009-11-03&#x27;,\n",
       "               &#x27;2009-12-10&#x27;],\n",
       "              dtype=&#x27;datetime64[ns]&#x27;, name=&#x27;time&#x27;, freq=None))</pre></div></li><li class='xr-var-item'><div class='xr-index-name'><div>latitude</div></div><div class='xr-index-preview'>PandasIndex</div><div></div><input id='index-aec7df42-e437-4fa6-85cf-eeb3833648ec' class='xr-index-data-in' type='checkbox'/><label for='index-aec7df42-e437-4fa6-85cf-eeb3833648ec' title='Show/Hide index repr'><svg class='icon xr-icon-database'><use xlink:href='#icon-database'></use></svg></label><div class='xr-index-data'><pre>PandasIndex(Index([22.75], dtype=&#x27;float64&#x27;, name=&#x27;latitude&#x27;))</pre></div></li><li class='xr-var-item'><div class='xr-index-name'><div>longitude</div></div><div class='xr-index-preview'>PandasIndex</div><div></div><input id='index-3615c237-c50f-4e72-bee0-2e1b950d316b' class='xr-index-data-in' type='checkbox'/><label for='index-3615c237-c50f-4e72-bee0-2e1b950d316b' title='Show/Hide index repr'><svg class='icon xr-icon-database'><use xlink:href='#icon-database'></use></svg></label><div class='xr-index-data'><pre>PandasIndex(Index([-158], dtype=&#x27;int64&#x27;, name=&#x27;longitude&#x27;))</pre></div></li></ul></div></li><li class='xr-section-item'><input id='section-0c60214d-468a-49ac-aa80-5bc34cd46053' class='xr-section-summary-in' type='checkbox' disabled ><label for='section-0c60214d-468a-49ac-aa80-5bc34cd46053' class='xr-section-summary'  title='Expand/collapse section'>Attributes: <span>(0)</span></label><div class='xr-section-inline-details'></div><div class='xr-section-details'><dl class='xr-attrs'></dl></div></li></ul></div></div>"
      ],
      "text/plain": [
       "<xarray.Dataset> Size: 2kB\n",
       "Dimensions:    (layer: 1, time: 65, latitude: 1, longitude: 1)\n",
       "Coordinates:\n",
       "  * layer      (layer) int64 8B 0\n",
       "  * time       (time) datetime64[ns] 520B 2005-02-02 2005-03-04 ... 2009-12-10\n",
       "  * latitude   (latitude) float64 8B 22.75\n",
       "  * longitude  (longitude) int64 8B -158\n",
       "Data variables:\n",
       "    day        (time, layer, latitude, longitude) float64 520B [mg/m²] 129.6 ...\n",
       "    night      (time, layer, latitude, longitude) float64 520B [mg/m²] 311.3 ..."
      ]
     },
     "execution_count": 7,
     "metadata": {},
     "output_type": "execute_result"
    }
   ],
   "source": [
    "observations = xr.open_zarr(path_to_obs).load()\n",
    "observations = observations.sel(latitude=LATITUDE, longitude=LONGITUDE, method=\"nearest\")\n",
    "observations = observations.resample(time=\"1D\").mean().dropna(\"time\")\n",
    "observations = observations.pint.quantify().pint.to(\"mg/m^3\")\n",
    "observations = observations * epi_layer_depth\n",
    "observations = observations.drop_vars(\"depth\")\n",
    "observations"
   ]
  },
  {
   "cell_type": "markdown",
   "metadata": {},
   "source": [
    "Create structure for SeapoPym simulation.\n"
   ]
  },
  {
   "cell_type": "code",
   "execution_count": 8,
   "metadata": {},
   "outputs": [
    {
     "name": "stderr",
     "output_type": "stream",
     "text": [
      "\u001b[38;5;226m2025-01-15 13:39:48,253 :: Seapodym ::  WARNING ::\n",
      "|\tCAFE unit is milligram / day / meter ** 2, it will be converted to kilogram / day / meter ** 2.\n",
      "\u001b[0m\n"
     ]
    }
   ],
   "source": [
    "forcing_parameters = ForcingParameters(\n",
    "    temperature=ForcingUnit(forcing=forcing[\"T\"], resolution=1 / 12, timestep=1),\n",
    "    primary_production=ForcingUnit(forcing=cafe_npp[\"CAFE\"], resolution=1 / 12, timestep=1),\n",
    ")"
   ]
  },
  {
   "cell_type": "markdown",
   "metadata": {},
   "source": [
    "## Setup the parameters and the cost function\n"
   ]
  },
  {
   "cell_type": "code",
   "execution_count": 9,
   "metadata": {},
   "outputs": [],
   "source": [
    "functional_groups = [\n",
    "    FunctionalGroupOptimizeNoTransport(\n",
    "        name=\"D1N1\",\n",
    "        day_layer=0,\n",
    "        night_layer=0,\n",
    "        energy_coefficient=Parameter(\"D1N1_energy_coefficient\", 0.001, 0.3),\n",
    "        tr_rate=-0.11,\n",
    "        tr_max=10.38,\n",
    "        inv_lambda_rate=0.15,\n",
    "        inv_lambda_max=150,\n",
    "    )\n",
    "]\n",
    "# [1, 1, 0.1668, 10.38, -0.11, 150, 0.15]"
   ]
  },
  {
   "cell_type": "code",
   "execution_count": 10,
   "metadata": {},
   "outputs": [],
   "source": [
    "cost_function = NoTransportCostFunction(\n",
    "    functional_groups=functional_groups,\n",
    "    forcing_parameters=forcing_parameters,\n",
    "    observations=[Observation(observations.drop_vars(\"night\"))],\n",
    ")"
   ]
  },
  {
   "cell_type": "markdown",
   "metadata": {},
   "source": [
    "Set the genetic algorithm meta parameters.\n"
   ]
  },
  {
   "cell_type": "code",
   "execution_count": 11,
   "metadata": {},
   "outputs": [],
   "source": [
    "genetic_algo_parameters = GeneticAlgorithmParameters(\n",
    "    MUTPB=1,\n",
    "    INDPB=1,\n",
    "    ETA=5,\n",
    "    # CXPB=0.8,\n",
    "    CXPB=0,\n",
    "    NGEN=5,\n",
    "    POP_SIZE=100,\n",
    "    cost_function_weight=(-1,),\n",
    ")"
   ]
  },
  {
   "cell_type": "markdown",
   "metadata": {},
   "source": [
    "Add a constraint to limit the total of energy transfert coefficient to 100%.\n"
   ]
  },
  {
   "cell_type": "code",
   "execution_count": 12,
   "metadata": {},
   "outputs": [],
   "source": [
    "# constraint_energy = constraint.ConstraintNoTransportEnergyCoefficient(\n",
    "#     parameters_name=[\"D1N1_energy_coefficient\", \"D2N1_energy_coefficient\"],\n",
    "#     min_energy_coef_value=0,\n",
    "#     max_energy_coef_value=1,\n",
    "# )"
   ]
  },
  {
   "cell_type": "markdown",
   "metadata": {},
   "source": [
    "Finaly, create the Genetic Algorithm.\n"
   ]
  },
  {
   "cell_type": "code",
   "execution_count": 13,
   "metadata": {},
   "outputs": [],
   "source": [
    "client = Client()\n",
    "genetic_algo = GeneticAlgorithm(\n",
    "    cost_function=cost_function,\n",
    "    parameter_genetic_algorithm=genetic_algo_parameters,\n",
    "    # constraint=[constraint_energy],\n",
    "    client=client,\n",
    ")"
   ]
  },
  {
   "cell_type": "markdown",
   "metadata": {},
   "source": [
    "And watch the magic on the Dask dashboard :\n"
   ]
  },
  {
   "cell_type": "code",
   "execution_count": 14,
   "metadata": {},
   "outputs": [
    {
     "data": {
      "text/html": [
       "<div>\n",
       "    <div style=\"width: 24px; height: 24px; background-color: #e1e1e1; border: 3px solid #9D9D9D; border-radius: 5px; position: absolute;\"> </div>\n",
       "    <div style=\"margin-left: 48px;\">\n",
       "        <h3 style=\"margin-bottom: 0px;\">Client</h3>\n",
       "        <p style=\"color: #9D9D9D; margin-bottom: 0px;\">Client-ce9c3bfc-d33d-11ef-9661-56668fadc22c</p>\n",
       "        <table style=\"width: 100%; text-align: left;\">\n",
       "\n",
       "        <tr>\n",
       "        \n",
       "            <td style=\"text-align: left;\"><strong>Connection method:</strong> Cluster object</td>\n",
       "            <td style=\"text-align: left;\"><strong>Cluster type:</strong> distributed.LocalCluster</td>\n",
       "        \n",
       "        </tr>\n",
       "\n",
       "        \n",
       "            <tr>\n",
       "                <td style=\"text-align: left;\">\n",
       "                    <strong>Dashboard: </strong> <a href=\"http://127.0.0.1:8787/status\" target=\"_blank\">http://127.0.0.1:8787/status</a>\n",
       "                </td>\n",
       "                <td style=\"text-align: left;\"></td>\n",
       "            </tr>\n",
       "        \n",
       "\n",
       "        </table>\n",
       "\n",
       "        \n",
       "\n",
       "        \n",
       "            <details>\n",
       "            <summary style=\"margin-bottom: 20px;\"><h3 style=\"display: inline;\">Cluster Info</h3></summary>\n",
       "            <div class=\"jp-RenderedHTMLCommon jp-RenderedHTML jp-mod-trusted jp-OutputArea-output\">\n",
       "    <div style=\"width: 24px; height: 24px; background-color: #e1e1e1; border: 3px solid #9D9D9D; border-radius: 5px; position: absolute;\">\n",
       "    </div>\n",
       "    <div style=\"margin-left: 48px;\">\n",
       "        <h3 style=\"margin-bottom: 0px; margin-top: 0px;\">LocalCluster</h3>\n",
       "        <p style=\"color: #9D9D9D; margin-bottom: 0px;\">e0990115</p>\n",
       "        <table style=\"width: 100%; text-align: left;\">\n",
       "            <tr>\n",
       "                <td style=\"text-align: left;\">\n",
       "                    <strong>Dashboard:</strong> <a href=\"http://127.0.0.1:8787/status\" target=\"_blank\">http://127.0.0.1:8787/status</a>\n",
       "                </td>\n",
       "                <td style=\"text-align: left;\">\n",
       "                    <strong>Workers:</strong> 4\n",
       "                </td>\n",
       "            </tr>\n",
       "            <tr>\n",
       "                <td style=\"text-align: left;\">\n",
       "                    <strong>Total threads:</strong> 8\n",
       "                </td>\n",
       "                <td style=\"text-align: left;\">\n",
       "                    <strong>Total memory:</strong> 16.00 GiB\n",
       "                </td>\n",
       "            </tr>\n",
       "            \n",
       "            <tr>\n",
       "    <td style=\"text-align: left;\"><strong>Status:</strong> running</td>\n",
       "    <td style=\"text-align: left;\"><strong>Using processes:</strong> True</td>\n",
       "</tr>\n",
       "\n",
       "            \n",
       "        </table>\n",
       "\n",
       "        <details>\n",
       "            <summary style=\"margin-bottom: 20px;\">\n",
       "                <h3 style=\"display: inline;\">Scheduler Info</h3>\n",
       "            </summary>\n",
       "\n",
       "            <div style=\"\">\n",
       "    <div>\n",
       "        <div style=\"width: 24px; height: 24px; background-color: #FFF7E5; border: 3px solid #FF6132; border-radius: 5px; position: absolute;\"> </div>\n",
       "        <div style=\"margin-left: 48px;\">\n",
       "            <h3 style=\"margin-bottom: 0px;\">Scheduler</h3>\n",
       "            <p style=\"color: #9D9D9D; margin-bottom: 0px;\">Scheduler-db189fd9-a696-4bd4-b24c-fd46a3bac53d</p>\n",
       "            <table style=\"width: 100%; text-align: left;\">\n",
       "                <tr>\n",
       "                    <td style=\"text-align: left;\">\n",
       "                        <strong>Comm:</strong> tcp://127.0.0.1:52909\n",
       "                    </td>\n",
       "                    <td style=\"text-align: left;\">\n",
       "                        <strong>Workers:</strong> 4\n",
       "                    </td>\n",
       "                </tr>\n",
       "                <tr>\n",
       "                    <td style=\"text-align: left;\">\n",
       "                        <strong>Dashboard:</strong> <a href=\"http://127.0.0.1:8787/status\" target=\"_blank\">http://127.0.0.1:8787/status</a>\n",
       "                    </td>\n",
       "                    <td style=\"text-align: left;\">\n",
       "                        <strong>Total threads:</strong> 8\n",
       "                    </td>\n",
       "                </tr>\n",
       "                <tr>\n",
       "                    <td style=\"text-align: left;\">\n",
       "                        <strong>Started:</strong> Just now\n",
       "                    </td>\n",
       "                    <td style=\"text-align: left;\">\n",
       "                        <strong>Total memory:</strong> 16.00 GiB\n",
       "                    </td>\n",
       "                </tr>\n",
       "            </table>\n",
       "        </div>\n",
       "    </div>\n",
       "\n",
       "    <details style=\"margin-left: 48px;\">\n",
       "        <summary style=\"margin-bottom: 20px;\">\n",
       "            <h3 style=\"display: inline;\">Workers</h3>\n",
       "        </summary>\n",
       "\n",
       "        \n",
       "        <div style=\"margin-bottom: 20px;\">\n",
       "            <div style=\"width: 24px; height: 24px; background-color: #DBF5FF; border: 3px solid #4CC9FF; border-radius: 5px; position: absolute;\"> </div>\n",
       "            <div style=\"margin-left: 48px;\">\n",
       "            <details>\n",
       "                <summary>\n",
       "                    <h4 style=\"margin-bottom: 0px; display: inline;\">Worker: 0</h4>\n",
       "                </summary>\n",
       "                <table style=\"width: 100%; text-align: left;\">\n",
       "                    <tr>\n",
       "                        <td style=\"text-align: left;\">\n",
       "                            <strong>Comm: </strong> tcp://127.0.0.1:52923\n",
       "                        </td>\n",
       "                        <td style=\"text-align: left;\">\n",
       "                            <strong>Total threads: </strong> 2\n",
       "                        </td>\n",
       "                    </tr>\n",
       "                    <tr>\n",
       "                        <td style=\"text-align: left;\">\n",
       "                            <strong>Dashboard: </strong> <a href=\"http://127.0.0.1:52925/status\" target=\"_blank\">http://127.0.0.1:52925/status</a>\n",
       "                        </td>\n",
       "                        <td style=\"text-align: left;\">\n",
       "                            <strong>Memory: </strong> 4.00 GiB\n",
       "                        </td>\n",
       "                    </tr>\n",
       "                    <tr>\n",
       "                        <td style=\"text-align: left;\">\n",
       "                            <strong>Nanny: </strong> tcp://127.0.0.1:52912\n",
       "                        </td>\n",
       "                        <td style=\"text-align: left;\"></td>\n",
       "                    </tr>\n",
       "                    <tr>\n",
       "                        <td colspan=\"2\" style=\"text-align: left;\">\n",
       "                            <strong>Local directory: </strong> /var/folders/36/grrgsqjd14j4tf6cf5ty4ykh0000gn/T/dask-scratch-space/worker-ijdxzjq7\n",
       "                        </td>\n",
       "                    </tr>\n",
       "\n",
       "                    \n",
       "\n",
       "                    \n",
       "\n",
       "                </table>\n",
       "            </details>\n",
       "            </div>\n",
       "        </div>\n",
       "        \n",
       "        <div style=\"margin-bottom: 20px;\">\n",
       "            <div style=\"width: 24px; height: 24px; background-color: #DBF5FF; border: 3px solid #4CC9FF; border-radius: 5px; position: absolute;\"> </div>\n",
       "            <div style=\"margin-left: 48px;\">\n",
       "            <details>\n",
       "                <summary>\n",
       "                    <h4 style=\"margin-bottom: 0px; display: inline;\">Worker: 1</h4>\n",
       "                </summary>\n",
       "                <table style=\"width: 100%; text-align: left;\">\n",
       "                    <tr>\n",
       "                        <td style=\"text-align: left;\">\n",
       "                            <strong>Comm: </strong> tcp://127.0.0.1:52920\n",
       "                        </td>\n",
       "                        <td style=\"text-align: left;\">\n",
       "                            <strong>Total threads: </strong> 2\n",
       "                        </td>\n",
       "                    </tr>\n",
       "                    <tr>\n",
       "                        <td style=\"text-align: left;\">\n",
       "                            <strong>Dashboard: </strong> <a href=\"http://127.0.0.1:52921/status\" target=\"_blank\">http://127.0.0.1:52921/status</a>\n",
       "                        </td>\n",
       "                        <td style=\"text-align: left;\">\n",
       "                            <strong>Memory: </strong> 4.00 GiB\n",
       "                        </td>\n",
       "                    </tr>\n",
       "                    <tr>\n",
       "                        <td style=\"text-align: left;\">\n",
       "                            <strong>Nanny: </strong> tcp://127.0.0.1:52914\n",
       "                        </td>\n",
       "                        <td style=\"text-align: left;\"></td>\n",
       "                    </tr>\n",
       "                    <tr>\n",
       "                        <td colspan=\"2\" style=\"text-align: left;\">\n",
       "                            <strong>Local directory: </strong> /var/folders/36/grrgsqjd14j4tf6cf5ty4ykh0000gn/T/dask-scratch-space/worker-6zp_zgfm\n",
       "                        </td>\n",
       "                    </tr>\n",
       "\n",
       "                    \n",
       "\n",
       "                    \n",
       "\n",
       "                </table>\n",
       "            </details>\n",
       "            </div>\n",
       "        </div>\n",
       "        \n",
       "        <div style=\"margin-bottom: 20px;\">\n",
       "            <div style=\"width: 24px; height: 24px; background-color: #DBF5FF; border: 3px solid #4CC9FF; border-radius: 5px; position: absolute;\"> </div>\n",
       "            <div style=\"margin-left: 48px;\">\n",
       "            <details>\n",
       "                <summary>\n",
       "                    <h4 style=\"margin-bottom: 0px; display: inline;\">Worker: 2</h4>\n",
       "                </summary>\n",
       "                <table style=\"width: 100%; text-align: left;\">\n",
       "                    <tr>\n",
       "                        <td style=\"text-align: left;\">\n",
       "                            <strong>Comm: </strong> tcp://127.0.0.1:52924\n",
       "                        </td>\n",
       "                        <td style=\"text-align: left;\">\n",
       "                            <strong>Total threads: </strong> 2\n",
       "                        </td>\n",
       "                    </tr>\n",
       "                    <tr>\n",
       "                        <td style=\"text-align: left;\">\n",
       "                            <strong>Dashboard: </strong> <a href=\"http://127.0.0.1:52927/status\" target=\"_blank\">http://127.0.0.1:52927/status</a>\n",
       "                        </td>\n",
       "                        <td style=\"text-align: left;\">\n",
       "                            <strong>Memory: </strong> 4.00 GiB\n",
       "                        </td>\n",
       "                    </tr>\n",
       "                    <tr>\n",
       "                        <td style=\"text-align: left;\">\n",
       "                            <strong>Nanny: </strong> tcp://127.0.0.1:52916\n",
       "                        </td>\n",
       "                        <td style=\"text-align: left;\"></td>\n",
       "                    </tr>\n",
       "                    <tr>\n",
       "                        <td colspan=\"2\" style=\"text-align: left;\">\n",
       "                            <strong>Local directory: </strong> /var/folders/36/grrgsqjd14j4tf6cf5ty4ykh0000gn/T/dask-scratch-space/worker-p8irdekr\n",
       "                        </td>\n",
       "                    </tr>\n",
       "\n",
       "                    \n",
       "\n",
       "                    \n",
       "\n",
       "                </table>\n",
       "            </details>\n",
       "            </div>\n",
       "        </div>\n",
       "        \n",
       "        <div style=\"margin-bottom: 20px;\">\n",
       "            <div style=\"width: 24px; height: 24px; background-color: #DBF5FF; border: 3px solid #4CC9FF; border-radius: 5px; position: absolute;\"> </div>\n",
       "            <div style=\"margin-left: 48px;\">\n",
       "            <details>\n",
       "                <summary>\n",
       "                    <h4 style=\"margin-bottom: 0px; display: inline;\">Worker: 3</h4>\n",
       "                </summary>\n",
       "                <table style=\"width: 100%; text-align: left;\">\n",
       "                    <tr>\n",
       "                        <td style=\"text-align: left;\">\n",
       "                            <strong>Comm: </strong> tcp://127.0.0.1:52929\n",
       "                        </td>\n",
       "                        <td style=\"text-align: left;\">\n",
       "                            <strong>Total threads: </strong> 2\n",
       "                        </td>\n",
       "                    </tr>\n",
       "                    <tr>\n",
       "                        <td style=\"text-align: left;\">\n",
       "                            <strong>Dashboard: </strong> <a href=\"http://127.0.0.1:52930/status\" target=\"_blank\">http://127.0.0.1:52930/status</a>\n",
       "                        </td>\n",
       "                        <td style=\"text-align: left;\">\n",
       "                            <strong>Memory: </strong> 4.00 GiB\n",
       "                        </td>\n",
       "                    </tr>\n",
       "                    <tr>\n",
       "                        <td style=\"text-align: left;\">\n",
       "                            <strong>Nanny: </strong> tcp://127.0.0.1:52918\n",
       "                        </td>\n",
       "                        <td style=\"text-align: left;\"></td>\n",
       "                    </tr>\n",
       "                    <tr>\n",
       "                        <td colspan=\"2\" style=\"text-align: left;\">\n",
       "                            <strong>Local directory: </strong> /var/folders/36/grrgsqjd14j4tf6cf5ty4ykh0000gn/T/dask-scratch-space/worker-kfdwhgo9\n",
       "                        </td>\n",
       "                    </tr>\n",
       "\n",
       "                    \n",
       "\n",
       "                    \n",
       "\n",
       "                </table>\n",
       "            </details>\n",
       "            </div>\n",
       "        </div>\n",
       "        \n",
       "\n",
       "    </details>\n",
       "</div>\n",
       "\n",
       "        </details>\n",
       "    </div>\n",
       "</div>\n",
       "            </details>\n",
       "        \n",
       "\n",
       "    </div>\n",
       "</div>"
      ],
      "text/plain": [
       "<Client: 'tcp://127.0.0.1:52909' processes=4 threads=8, memory=16.00 GiB>"
      ]
     },
     "execution_count": 14,
     "metadata": {},
     "output_type": "execute_result"
    }
   ],
   "source": [
    "genetic_algo.client"
   ]
  },
  {
   "cell_type": "markdown",
   "metadata": {},
   "source": [
    "## Run the optimization\n"
   ]
  },
  {
   "cell_type": "code",
   "execution_count": 15,
   "metadata": {},
   "outputs": [
    {
     "data": {
      "text/html": [
       "<div>\n",
       "<style scoped>\n",
       "    .dataframe tbody tr th:only-of-type {\n",
       "        vertical-align: middle;\n",
       "    }\n",
       "\n",
       "    .dataframe tbody tr th {\n",
       "        vertical-align: top;\n",
       "    }\n",
       "\n",
       "    .dataframe thead th {\n",
       "        text-align: right;\n",
       "    }\n",
       "</style>\n",
       "<table border=\"1\" class=\"dataframe\">\n",
       "  <thead>\n",
       "    <tr style=\"text-align: right;\">\n",
       "      <th></th>\n",
       "      <th>mean</th>\n",
       "      <th>std</th>\n",
       "      <th>min</th>\n",
       "      <th>max</th>\n",
       "      <th>valid</th>\n",
       "      <th>from_previous_generation</th>\n",
       "    </tr>\n",
       "    <tr>\n",
       "      <th>generation</th>\n",
       "      <th></th>\n",
       "      <th></th>\n",
       "      <th></th>\n",
       "      <th></th>\n",
       "      <th></th>\n",
       "      <th></th>\n",
       "    </tr>\n",
       "  </thead>\n",
       "  <tbody>\n",
       "    <tr>\n",
       "      <th>0</th>\n",
       "      <td>0.028344</td>\n",
       "      <td>0.023837</td>\n",
       "      <td>0.006333</td>\n",
       "      <td>0.099047</td>\n",
       "      <td>100</td>\n",
       "      <td>0.0</td>\n",
       "    </tr>\n",
       "    <tr>\n",
       "      <th>1</th>\n",
       "      <td>0.020932</td>\n",
       "      <td>0.018608</td>\n",
       "      <td>0.006331</td>\n",
       "      <td>0.088854</td>\n",
       "      <td>100</td>\n",
       "      <td>0.0</td>\n",
       "    </tr>\n",
       "    <tr>\n",
       "      <th>2</th>\n",
       "      <td>0.018457</td>\n",
       "      <td>0.016618</td>\n",
       "      <td>0.006350</td>\n",
       "      <td>0.078178</td>\n",
       "      <td>100</td>\n",
       "      <td>0.0</td>\n",
       "    </tr>\n",
       "    <tr>\n",
       "      <th>3</th>\n",
       "      <td>0.016186</td>\n",
       "      <td>0.013227</td>\n",
       "      <td>0.006330</td>\n",
       "      <td>0.062513</td>\n",
       "      <td>100</td>\n",
       "      <td>0.0</td>\n",
       "    </tr>\n",
       "    <tr>\n",
       "      <th>4</th>\n",
       "      <td>0.017642</td>\n",
       "      <td>0.017255</td>\n",
       "      <td>0.006331</td>\n",
       "      <td>0.089588</td>\n",
       "      <td>100</td>\n",
       "      <td>0.0</td>\n",
       "    </tr>\n",
       "  </tbody>\n",
       "</table>\n",
       "</div>"
      ],
      "text/plain": [
       "                mean       std       min       max  valid  \\\n",
       "generation                                                  \n",
       "0           0.028344  0.023837  0.006333  0.099047    100   \n",
       "1           0.020932  0.018608  0.006331  0.088854    100   \n",
       "2           0.018457  0.016618  0.006350  0.078178    100   \n",
       "3           0.016186  0.013227  0.006330  0.062513    100   \n",
       "4           0.017642  0.017255  0.006331  0.089588    100   \n",
       "\n",
       "            from_previous_generation  \n",
       "generation                            \n",
       "0                                0.0  \n",
       "1                                0.0  \n",
       "2                                0.0  \n",
       "3                                0.0  \n",
       "4                                0.0  "
      ]
     },
     "metadata": {},
     "output_type": "display_data"
    },
    {
     "name": "stderr",
     "output_type": "stream",
     "text": [
      "Generations: 100%|██████████| 5/5 [00:33<00:00,  6.61s/it]\n"
     ]
    }
   ],
   "source": [
    "viewer = genetic_algo.optimize()"
   ]
  },
  {
   "cell_type": "markdown",
   "metadata": {},
   "source": [
    "## Plot the results\n"
   ]
  },
  {
   "cell_type": "code",
   "execution_count": 16,
   "metadata": {},
   "outputs": [
    {
     "data": {
      "text/html": [
       "<div>\n",
       "<style scoped>\n",
       "    .dataframe tbody tr th:only-of-type {\n",
       "        vertical-align: middle;\n",
       "    }\n",
       "\n",
       "    .dataframe tbody tr th {\n",
       "        vertical-align: top;\n",
       "    }\n",
       "\n",
       "    .dataframe thead th {\n",
       "        text-align: right;\n",
       "    }\n",
       "</style>\n",
       "<table border=\"1\" class=\"dataframe\">\n",
       "  <thead>\n",
       "    <tr style=\"text-align: right;\">\n",
       "      <th></th>\n",
       "      <th>mean</th>\n",
       "      <th>std</th>\n",
       "      <th>min</th>\n",
       "      <th>max</th>\n",
       "      <th>valid</th>\n",
       "      <th>from_previous_generation</th>\n",
       "    </tr>\n",
       "    <tr>\n",
       "      <th>generation</th>\n",
       "      <th></th>\n",
       "      <th></th>\n",
       "      <th></th>\n",
       "      <th></th>\n",
       "      <th></th>\n",
       "      <th></th>\n",
       "    </tr>\n",
       "  </thead>\n",
       "  <tbody>\n",
       "    <tr>\n",
       "      <th>0</th>\n",
       "      <td>0.028344</td>\n",
       "      <td>0.023837</td>\n",
       "      <td>0.006333</td>\n",
       "      <td>0.099047</td>\n",
       "      <td>100</td>\n",
       "      <td>0.0</td>\n",
       "    </tr>\n",
       "    <tr>\n",
       "      <th>1</th>\n",
       "      <td>0.020932</td>\n",
       "      <td>0.018608</td>\n",
       "      <td>0.006331</td>\n",
       "      <td>0.088854</td>\n",
       "      <td>100</td>\n",
       "      <td>0.0</td>\n",
       "    </tr>\n",
       "    <tr>\n",
       "      <th>2</th>\n",
       "      <td>0.018457</td>\n",
       "      <td>0.016618</td>\n",
       "      <td>0.006350</td>\n",
       "      <td>0.078178</td>\n",
       "      <td>100</td>\n",
       "      <td>0.0</td>\n",
       "    </tr>\n",
       "    <tr>\n",
       "      <th>3</th>\n",
       "      <td>0.016186</td>\n",
       "      <td>0.013227</td>\n",
       "      <td>0.006330</td>\n",
       "      <td>0.062513</td>\n",
       "      <td>100</td>\n",
       "      <td>0.0</td>\n",
       "    </tr>\n",
       "    <tr>\n",
       "      <th>4</th>\n",
       "      <td>0.017642</td>\n",
       "      <td>0.017255</td>\n",
       "      <td>0.006331</td>\n",
       "      <td>0.089588</td>\n",
       "      <td>100</td>\n",
       "      <td>0.0</td>\n",
       "    </tr>\n",
       "  </tbody>\n",
       "</table>\n",
       "</div>"
      ],
      "text/plain": [
       "                mean       std       min       max  valid  \\\n",
       "generation                                                  \n",
       "0           0.028344  0.023837  0.006333  0.099047    100   \n",
       "1           0.020932  0.018608  0.006331  0.088854    100   \n",
       "2           0.018457  0.016618  0.006350  0.078178    100   \n",
       "3           0.016186  0.013227  0.006330  0.062513    100   \n",
       "4           0.017642  0.017255  0.006331  0.089588    100   \n",
       "\n",
       "            from_previous_generation  \n",
       "generation                            \n",
       "0                                0.0  \n",
       "1                                0.0  \n",
       "2                                0.0  \n",
       "3                                0.0  \n",
       "4                                0.0  "
      ]
     },
     "execution_count": 16,
     "metadata": {},
     "output_type": "execute_result"
    }
   ],
   "source": [
    "viewer.stats"
   ]
  },
  {
   "cell_type": "code",
   "execution_count": 17,
   "metadata": {},
   "outputs": [
    {
     "data": {
      "text/html": [
       "<div>\n",
       "<style scoped>\n",
       "    .dataframe tbody tr th:only-of-type {\n",
       "        vertical-align: middle;\n",
       "    }\n",
       "\n",
       "    .dataframe tbody tr th {\n",
       "        vertical-align: top;\n",
       "    }\n",
       "\n",
       "    .dataframe thead th {\n",
       "        text-align: right;\n",
       "    }\n",
       "</style>\n",
       "<table border=\"1\" class=\"dataframe\">\n",
       "  <thead>\n",
       "    <tr style=\"text-align: right;\">\n",
       "      <th></th>\n",
       "      <th></th>\n",
       "      <th>D1N1_energy_coefficient</th>\n",
       "      <th>fitness</th>\n",
       "    </tr>\n",
       "    <tr>\n",
       "      <th>generation</th>\n",
       "      <th>individual</th>\n",
       "      <th></th>\n",
       "      <th></th>\n",
       "    </tr>\n",
       "  </thead>\n",
       "  <tbody>\n",
       "    <tr>\n",
       "      <th>3</th>\n",
       "      <th>7</th>\n",
       "      <td>0.130174</td>\n",
       "      <td>0.006330</td>\n",
       "    </tr>\n",
       "    <tr>\n",
       "      <th>4</th>\n",
       "      <th>27</th>\n",
       "      <td>0.129961</td>\n",
       "      <td>0.006331</td>\n",
       "    </tr>\n",
       "    <tr>\n",
       "      <th>1</th>\n",
       "      <th>91</th>\n",
       "      <td>0.129873</td>\n",
       "      <td>0.006331</td>\n",
       "    </tr>\n",
       "    <tr>\n",
       "      <th>3</th>\n",
       "      <th>36</th>\n",
       "      <td>0.130595</td>\n",
       "      <td>0.006331</td>\n",
       "    </tr>\n",
       "    <tr>\n",
       "      <th rowspan=\"3\" valign=\"top\">1</th>\n",
       "      <th>54</th>\n",
       "      <td>0.130691</td>\n",
       "      <td>0.006331</td>\n",
       "    </tr>\n",
       "    <tr>\n",
       "      <th>...</th>\n",
       "      <td>...</td>\n",
       "      <td>...</td>\n",
       "    </tr>\n",
       "    <tr>\n",
       "      <th>69</th>\n",
       "      <td>0.285705</td>\n",
       "      <td>0.088854</td>\n",
       "    </tr>\n",
       "    <tr>\n",
       "      <th>0</th>\n",
       "      <th>35</th>\n",
       "      <td>0.286298</td>\n",
       "      <td>0.089484</td>\n",
       "    </tr>\n",
       "    <tr>\n",
       "      <th>4</th>\n",
       "      <th>36</th>\n",
       "      <td>0.286395</td>\n",
       "      <td>0.089588</td>\n",
       "    </tr>\n",
       "    <tr>\n",
       "      <th rowspan=\"2\" valign=\"top\">0</th>\n",
       "      <th>13</th>\n",
       "      <td>0.288071</td>\n",
       "      <td>0.091383</td>\n",
       "    </tr>\n",
       "    <tr>\n",
       "      <th>80</th>\n",
       "      <td>0.295032</td>\n",
       "      <td>0.099047</td>\n",
       "    </tr>\n",
       "  </tbody>\n",
       "</table>\n",
       "<p>500 rows × 2 columns</p>\n",
       "</div>"
      ],
      "text/plain": [
       "                       D1N1_energy_coefficient   fitness\n",
       "generation individual                                   \n",
       "3          7                          0.130174  0.006330\n",
       "4          27                         0.129961  0.006331\n",
       "1          91                         0.129873  0.006331\n",
       "3          36                         0.130595  0.006331\n",
       "1          54                         0.130691  0.006331\n",
       "...                                        ...       ...\n",
       "           69                         0.285705  0.088854\n",
       "0          35                         0.286298  0.089484\n",
       "4          36                         0.286395  0.089588\n",
       "0          13                         0.288071  0.091383\n",
       "           80                         0.295032  0.099047\n",
       "\n",
       "[500 rows x 2 columns]"
      ]
     },
     "execution_count": 17,
     "metadata": {},
     "output_type": "execute_result"
    }
   ],
   "source": [
    "viewer.hall_of_fame"
   ]
  },
  {
   "cell_type": "code",
   "execution_count": 18,
   "metadata": {},
   "outputs": [
    {
     "data": {
      "application/vnd.plotly.v1+json": {
       "config": {
        "plotlyServerURL": "https://plot.ly"
       },
       "data": [
        {
         "alignmentgroup": "True",
         "boxpoints": false,
         "hovertemplate": "generation=%{x}<br>fitness=%{y}<extra></extra>",
         "legendgroup": "",
         "marker": {
          "color": "#636efa"
         },
         "name": "",
         "notched": false,
         "offsetgroup": "",
         "orientation": "v",
         "showlegend": false,
         "type": "box",
         "x": [
          0,
          0,
          0,
          0,
          0,
          0,
          0,
          0,
          0,
          0,
          0,
          0,
          0,
          0,
          0,
          0,
          0,
          0,
          0,
          0,
          0,
          0,
          0,
          0,
          0,
          0,
          0,
          0,
          0,
          0,
          0,
          0,
          0,
          0,
          0,
          0,
          0,
          0,
          0,
          0,
          0,
          0,
          0,
          0,
          0,
          0,
          0,
          0,
          0,
          0,
          0,
          0,
          0,
          0,
          0,
          0,
          0,
          0,
          0,
          0,
          0,
          0,
          0,
          0,
          0,
          0,
          0,
          0,
          0,
          0,
          0,
          0,
          0,
          0,
          0,
          0,
          0,
          0,
          0,
          0,
          0,
          0,
          0,
          0,
          0,
          0,
          0,
          0,
          0,
          0,
          0,
          0,
          0,
          0,
          0,
          0,
          0,
          0,
          0,
          0,
          1,
          1,
          1,
          1,
          1,
          1,
          1,
          1,
          1,
          1,
          1,
          1,
          1,
          1,
          1,
          1,
          1,
          1,
          1,
          1,
          1,
          1,
          1,
          1,
          1,
          1,
          1,
          1,
          1,
          1,
          1,
          1,
          1,
          1,
          1,
          1,
          1,
          1,
          1,
          1,
          1,
          1,
          1,
          1,
          1,
          1,
          1,
          1,
          1,
          1,
          1,
          1,
          1,
          1,
          1,
          1,
          1,
          1,
          1,
          1,
          1,
          1,
          1,
          1,
          1,
          1,
          1,
          1,
          1,
          1,
          1,
          1,
          1,
          1,
          1,
          1,
          1,
          1,
          1,
          1,
          1,
          1,
          1,
          1,
          1,
          1,
          1,
          1,
          1,
          1,
          1,
          1,
          1,
          1,
          1,
          1,
          1,
          1,
          1,
          1,
          2,
          2,
          2,
          2,
          2,
          2,
          2,
          2,
          2,
          2,
          2,
          2,
          2,
          2,
          2,
          2,
          2,
          2,
          2,
          2,
          2,
          2,
          2,
          2,
          2,
          2,
          2,
          2,
          2,
          2,
          2,
          2,
          2,
          2,
          2,
          2,
          2,
          2,
          2,
          2,
          2,
          2,
          2,
          2,
          2,
          2,
          2,
          2,
          2,
          2,
          2,
          2,
          2,
          2,
          2,
          2,
          2,
          2,
          2,
          2,
          2,
          2,
          2,
          2,
          2,
          2,
          2,
          2,
          2,
          2,
          2,
          2,
          2,
          2,
          2,
          2,
          2,
          2,
          2,
          2,
          2,
          2,
          2,
          2,
          2,
          2,
          2,
          2,
          2,
          2,
          2,
          2,
          2,
          2,
          2,
          2,
          2,
          2,
          2,
          2,
          3,
          3,
          3,
          3,
          3,
          3,
          3,
          3,
          3,
          3,
          3,
          3,
          3,
          3,
          3,
          3,
          3,
          3,
          3,
          3,
          3,
          3,
          3,
          3,
          3,
          3,
          3,
          3,
          3,
          3,
          3,
          3,
          3,
          3,
          3,
          3,
          3,
          3,
          3,
          3,
          3,
          3,
          3,
          3,
          3,
          3,
          3,
          3,
          3,
          3,
          3,
          3,
          3,
          3,
          3,
          3,
          3,
          3,
          3,
          3,
          3,
          3,
          3,
          3,
          3,
          3,
          3,
          3,
          3,
          3,
          3,
          3,
          3,
          3,
          3,
          3,
          3,
          3,
          3,
          3,
          3,
          3,
          3,
          3,
          3,
          3,
          3,
          3,
          3,
          3,
          3,
          3,
          3,
          3,
          3,
          3,
          3,
          3,
          3,
          3,
          4,
          4,
          4,
          4,
          4,
          4,
          4,
          4,
          4,
          4,
          4,
          4,
          4,
          4,
          4,
          4,
          4,
          4,
          4,
          4,
          4,
          4,
          4,
          4,
          4,
          4,
          4,
          4,
          4,
          4,
          4,
          4,
          4,
          4,
          4,
          4,
          4,
          4,
          4,
          4,
          4,
          4,
          4,
          4,
          4,
          4,
          4,
          4,
          4,
          4,
          4,
          4,
          4,
          4,
          4,
          4,
          4,
          4,
          4,
          4,
          4,
          4,
          4,
          4,
          4,
          4,
          4,
          4,
          4,
          4,
          4,
          4,
          4,
          4,
          4,
          4,
          4,
          4,
          4,
          4,
          4,
          4,
          4,
          4,
          4,
          4,
          4,
          4,
          4,
          4,
          4,
          4,
          4,
          4,
          4,
          4,
          4,
          4,
          4,
          4
         ],
         "x0": " ",
         "xaxis": "x",
         "y": [
          0.048545661203926255,
          0.006405315287695894,
          0.04521078920591106,
          0.008650291077628526,
          0.027515027618486926,
          0.030965967273663787,
          0.04735395084326555,
          0.008321244814172199,
          0.019241077490686927,
          0.01934526955119783,
          0.0063537878085186085,
          0.012044402450125134,
          0.01999010257920781,
          0.09138305907240167,
          0.027505008684218773,
          0.014426835332093964,
          0.015740972916314898,
          0.015178963642341182,
          0.03265547817316016,
          0.01497967069935776,
          0.006833020742756808,
          0.01485793054227783,
          0.06908019805892678,
          0.008637275246487441,
          0.018995087009923448,
          0.030721543474425263,
          0.043233980596145034,
          0.012081754798810818,
          0.0064163790585954695,
          0.00787869070315502,
          0.084243284959172,
          0.015662281315579438,
          0.020038381152517014,
          0.006604959869617035,
          0.006350263775545026,
          0.08948402794660319,
          0.006772382725557521,
          0.015431279850271094,
          0.019455334326848303,
          0.008053697170091157,
          0.05290128404782926,
          0.04448617120252067,
          0.04639264722064086,
          0.016934530809579646,
          0.0063326932665500055,
          0.04764341121315496,
          0.031150199938323936,
          0.012363184760934835,
          0.009690657767953813,
          0.006354329220473987,
          0.07777786262309315,
          0.007194260660217496,
          0.023495471103439428,
          0.009176658277387728,
          0.01959112402154715,
          0.006536538049685034,
          0.015245502816341154,
          0.015866237395733982,
          0.08852873630127897,
          0.03090495809044482,
          0.0642714718063694,
          0.010406016117142718,
          0.04391336575481477,
          0.010231538330919472,
          0.0540214556791881,
          0.03885987021199629,
          0.006535559299790949,
          0.01262751113746145,
          0.007534849272816307,
          0.006551223105304927,
          0.012163442361660332,
          0.025791544733531256,
          0.06901770607632657,
          0.013011360389875203,
          0.08736296334914372,
          0.026686221316237407,
          0.062163534098212146,
          0.023928495606147484,
          0.00778282582145576,
          0.01723661154445778,
          0.09904734462233536,
          0.03945865668848291,
          0.04678952204116478,
          0.02693110286749748,
          0.04647515634890122,
          0.01691457671122199,
          0.027168352600585064,
          0.03299802768793335,
          0.06728486005764006,
          0.031454367722213473,
          0.07066163109574598,
          0.0412475431005613,
          0.007076284899167201,
          0.04062881303606057,
          0.006520668912317517,
          0.008904779472589266,
          0.021008295404902195,
          0.009887410593025074,
          0.015663607326185228,
          0.007011281700497168,
          0.02967425318596767,
          0.06659481928681647,
          0.03155290778561081,
          0.012032004000123832,
          0.0677836585010081,
          0.006998508771575592,
          0.0237717890334072,
          0.020343974389249037,
          0.009346897514211045,
          0.017685767345115448,
          0.034065471228036444,
          0.020427942355108558,
          0.014766523860115668,
          0.019730457418074665,
          0.054126050947877376,
          0.0067209927529329125,
          0.02086344533090825,
          0.006655886200330502,
          0.02575317926154005,
          0.05478497112275999,
          0.014123647561443273,
          0.06151960117251539,
          0.010490182993497833,
          0.007294883280437252,
          0.05067736825711755,
          0.03068889137477772,
          0.03457854623291388,
          0.00746375438329481,
          0.017356566892346305,
          0.02358605616819986,
          0.05786340074311322,
          0.0064397185144751505,
          0.0072197337380908765,
          0.06967632861204232,
          0.03165980379389249,
          0.0076733214032296175,
          0.010382789743551358,
          0.006343506254594289,
          0.014245162456204812,
          0.015253890593126903,
          0.00798407851772386,
          0.00927034148068649,
          0.007332798904960783,
          0.028084746151509164,
          0.007441674177568315,
          0.006722825971028877,
          0.014208032032780614,
          0.00778508727717737,
          0.008361776170456818,
          0.007320559209580644,
          0.017389812345869678,
          0.0067990380106782095,
          0.0129158165940261,
          0.012053564148250817,
          0.006331448547631801,
          0.03058163992574938,
          0.00634045395743336,
          0.018218365816186563,
          0.06204049469813716,
          0.028772399857725943,
          0.023771048587025976,
          0.010280331477530437,
          0.008449619831918113,
          0.007225388254144405,
          0.04578763390093651,
          0.007805252873305109,
          0.023352527936568834,
          0.01502161115436011,
          0.007213302651617611,
          0.08885409436729023,
          0.04774128726974695,
          0.007308686851272805,
          0.011987595246065078,
          0.012861881620187482,
          0.017824917951658952,
          0.012312812924574512,
          0.027566238386323615,
          0.006532216019341469,
          0.007094731173216394,
          0.00962575648766898,
          0.009311859137382143,
          0.020089841759500446,
          0.015473352342825028,
          0.07459509179456175,
          0.01122198138803773,
          0.013377247060720132,
          0.013963768312470901,
          0.006333408592786718,
          0.007501040319242315,
          0.007654542167288405,
          0.010487652173479198,
          0.006330768918917667,
          0.006442334108962862,
          0.024717174772338455,
          0.00715722389981943,
          0.027030809775253805,
          0.006796458736238767,
          0.020250165262668318,
          0.05986601337533918,
          0.011806447436719955,
          0.021017085295512525,
          0.008555111154948005,
          0.00805992273032355,
          0.0250645143267066,
          0.02332625808872318,
          0.0313332375122225,
          0.007594748092681815,
          0.015856413902784156,
          0.006368974012682885,
          0.00770343936229861,
          0.00774276958743002,
          0.006655522950681709,
          0.010642026891111456,
          0.046842087248335273,
          0.007336537392938825,
          0.05450253434506009,
          0.008021647932508391,
          0.006349641773732715,
          0.006625464981578143,
          0.0064906176036382155,
          0.007657855174667179,
          0.016204079097185256,
          0.014284858424885112,
          0.006748138168675388,
          0.016140779952058724,
          0.013167380121163716,
          0.014180193533156403,
          0.008239968318020284,
          0.05067461030193496,
          0.007967125581847121,
          0.010241854556826017,
          0.02181126719649265,
          0.020487183322129992,
          0.007963049179727625,
          0.006395325069034945,
          0.009725830239354406,
          0.055834066586053666,
          0.06331328107123008,
          0.046973610717496894,
          0.020295136818548835,
          0.015336227879583796,
          0.006393255886269781,
          0.05793567600188987,
          0.0636254019000493,
          0.01855543465517262,
          0.010986062549736239,
          0.007613406453170011,
          0.006408441359710609,
          0.008634874910676956,
          0.008021167043743407,
          0.01464579723339681,
          0.04142310411897588,
          0.026083589491647668,
          0.006891569902943253,
          0.006365567005740801,
          0.013495360426014229,
          0.00758317586016785,
          0.05802832824201631,
          0.007628549455263762,
          0.007758296494743516,
          0.0065784558854802225,
          0.03888944990285361,
          0.007516530166775563,
          0.008614547292088697,
          0.012249244080901523,
          0.008615634370925634,
          0.02022377552910217,
          0.006622354102171345,
          0.009683168006793258,
          0.039402815068746974,
          0.01341108815040281,
          0.0077523064985299765,
          0.007351940109368354,
          0.01667038731852932,
          0.012051593823483833,
          0.0068858353646055435,
          0.05616795809697035,
          0.027037273810483903,
          0.007077630411368746,
          0.007106002087312571,
          0.01736005524142391,
          0.03660981289863103,
          0.07817833515928496,
          0.017196926102799624,
          0.04832302823348528,
          0.006971756436908719,
          0.006402944382297547,
          0.009999160361368997,
          0.028785556616151606,
          0.026696375993867743,
          0.018901926980449207,
          0.006807203000520711,
          0.007146069844367915,
          0.011897105834699589,
          0.03249131634863763,
          0.007567610522646958,
          0.007916185280303498,
          0.006393215638999347,
          0.015717514346220606,
          0.006586265041535707,
          0.019726340745114132,
          0.008766901242377511,
          0.025765865123488194,
          0.012749018236462387,
          0.0070484892850868055,
          0.012915376246062923,
          0.0063320412238206045,
          0.0063304887549338,
          0.006421593231605185,
          0.00858648662327539,
          0.009032996867288505,
          0.006494325301467404,
          0.009900999200898231,
          0.007136485589545919,
          0.006759573376445303,
          0.02303529703598137,
          0.00815512142275262,
          0.007975454215324763,
          0.007697357536617908,
          0.05806235008496756,
          0.009782158290472298,
          0.007311422495837257,
          0.009069474798448019,
          0.006623930407953932,
          0.017627738905891335,
          0.018488033988302868,
          0.042689256626864645,
          0.01820026032162817,
          0.006430635139441008,
          0.007808098841451174,
          0.017583366882585206,
          0.006654905992733221,
          0.007916870353201148,
          0.016473206414148966,
          0.011601295955759598,
          0.008242611132475573,
          0.006331132190386001,
          0.008282893766922187,
          0.007100534612355673,
          0.014370727125792323,
          0.0407531194487987,
          0.05055195548749863,
          0.0074799103444964776,
          0.006702410702251975,
          0.012799636268750244,
          0.006720135222624715,
          0.007018046232959362,
          0.012411028571560938,
          0.010389190840087145,
          0.019562852463694068,
          0.02520363207017486,
          0.03702146374360829,
          0.01136140161272628,
          0.021296258849436353,
          0.014628573491815906,
          0.013130560020209963,
          0.008330402074814655,
          0.021366898028423797,
          0.01839323173283806,
          0.006695123984613744,
          0.019823454506514602,
          0.00655039060410131,
          0.010117616062922908,
          0.006354148091604813,
          0.06251281329049364,
          0.01089881349823646,
          0.006519807473638644,
          0.02413902104302074,
          0.019257824538569494,
          0.049157991280404614,
          0.020082015000044806,
          0.011533222929701614,
          0.006726160072627706,
          0.030542633183377948,
          0.008425006721029724,
          0.018644583683514234,
          0.006888147630262275,
          0.007501390909635516,
          0.04427318883620197,
          0.008475537415699026,
          0.006696616171930917,
          0.013498889860201896,
          0.01153840787727851,
          0.05485953888168289,
          0.006446392874056571,
          0.021791186882909874,
          0.02761830574085136,
          0.01050367450253801,
          0.006826030783717898,
          0.015042911952348156,
          0.011994254140719258,
          0.022170190417003754,
          0.059659220347999406,
          0.018958501544699417,
          0.015064715679985668,
          0.008618355774223305,
          0.0063324171374521026,
          0.01864351656008677,
          0.03819096055528565,
          0.006428261747658259,
          0.027702955461195618,
          0.007631814568578913,
          0.028005679639981337,
          0.0654861960768191,
          0.07326857731691155,
          0.006588503890834133,
          0.006608284652818499,
          0.010229397103374258,
          0.013380889683539296,
          0.013336489664767645,
          0.0071929357656966295,
          0.023609533851653104,
          0.009521382021962215,
          0.014021706440065205,
          0.024434557188120626,
          0.020000716604413833,
          0.007292646812898549,
          0.021110254970774733,
          0.011277371693018089,
          0.040626128207059235,
          0.008568903830870419,
          0.02837205429772791,
          0.013439362103349535,
          0.041539723942760926,
          0.008455876721867227,
          0.05555452546990474,
          0.00829994922222405,
          0.0063306237555890345,
          0.006864469070823887,
          0.006345746810814077,
          0.00746281747772971,
          0.006362091451810266,
          0.013436017888014245,
          0.008001096055945562,
          0.009844309893103625,
          0.013012715475213616,
          0.08958762920595692,
          0.017451488948199655,
          0.007366119396294713,
          0.012137432580368425,
          0.00965624824989568,
          0.00733040424017124,
          0.007300583290119138,
          0.006593507719356072,
          0.00638820188708662,
          0.04742794404371384,
          0.046011586697541546,
          0.01756276396719432,
          0.006937658931743551,
          0.021521021972910802,
          0.01706715719759726,
          0.008711188534003725,
          0.006643243659014903,
          0.007136242103133501,
          0.02558467165277063,
          0.021658469088709505,
          0.006455252583437768,
          0.018011880904783416,
          0.009285530337140012,
          0.040857099084165696,
          0.0067260129959949835,
          0.016548333475396738,
          0.006400450006940023,
          0.02121894915179819,
          0.006846221487596673,
          0.00948541395230181,
          0.018759852427941946,
          0.007122732143075027,
          0.009881235642985703,
          0.00633787658936523,
          0.007520044287477315,
          0.01427782847742563,
          0.008103185857392442,
          0.011998143860268063,
          0.009557895771674983,
          0.0068081244084401355,
          0.013620639087998659,
          0.032672224583888985,
          0.006528815936140173,
          0.009427219585221266,
          0.006910852160570687,
          0.016942680070085415,
          0.0073514913331106406,
          0.008364499998329559,
          0.00829148823538484,
          0.02399992473844335,
          0.007983490419875174,
          0.08494347208873165,
          0.03302000708196911,
          0.006718768739679504,
          0.00637787341257687,
          0.061342887068246386,
          0.00900611985246385,
          0.008511367852461586,
          0.04508849699963792,
          0.030256029027338576,
          0.00934885240630582,
          0.008967148332747255,
          0.006406309949851724,
          0.006582589458280702
         ],
         "y0": " ",
         "yaxis": "y"
        },
        {
         "line": {
          "color": "rgba(0,0,0,0.5)",
          "dash": "dash",
          "width": 2
         },
         "mode": "lines",
         "name": "Median",
         "type": "scatter",
         "x": [
          0,
          1,
          2,
          3,
          4
         ],
         "y": [
          0.019293173520942376,
          0.013670507686595517,
          0.010441940723968736,
          0.01113010755548137,
          0.009539638896818598
         ]
        },
        {
         "line": {
          "color": "rgba(0,0,0,0.5)",
          "dash": "dash",
          "width": 2
         },
         "mode": "lines",
         "name": "Minimum",
         "type": "scatter",
         "x": [
          0,
          1,
          2,
          3,
          4
         ],
         "y": [
          0.0063326932665500055,
          0.006330768918917667,
          0.006349641773732715,
          0.0063304887549338,
          0.0063306237555890345
         ]
        }
       ],
       "layout": {
        "boxmode": "group",
        "legend": {
         "tracegroupgap": 0
        },
        "margin": {
         "t": 60
        },
        "template": {
         "data": {
          "bar": [
           {
            "error_x": {
             "color": "#2a3f5f"
            },
            "error_y": {
             "color": "#2a3f5f"
            },
            "marker": {
             "line": {
              "color": "#E5ECF6",
              "width": 0.5
             },
             "pattern": {
              "fillmode": "overlay",
              "size": 10,
              "solidity": 0.2
             }
            },
            "type": "bar"
           }
          ],
          "barpolar": [
           {
            "marker": {
             "line": {
              "color": "#E5ECF6",
              "width": 0.5
             },
             "pattern": {
              "fillmode": "overlay",
              "size": 10,
              "solidity": 0.2
             }
            },
            "type": "barpolar"
           }
          ],
          "carpet": [
           {
            "aaxis": {
             "endlinecolor": "#2a3f5f",
             "gridcolor": "white",
             "linecolor": "white",
             "minorgridcolor": "white",
             "startlinecolor": "#2a3f5f"
            },
            "baxis": {
             "endlinecolor": "#2a3f5f",
             "gridcolor": "white",
             "linecolor": "white",
             "minorgridcolor": "white",
             "startlinecolor": "#2a3f5f"
            },
            "type": "carpet"
           }
          ],
          "choropleth": [
           {
            "colorbar": {
             "outlinewidth": 0,
             "ticks": ""
            },
            "type": "choropleth"
           }
          ],
          "contour": [
           {
            "colorbar": {
             "outlinewidth": 0,
             "ticks": ""
            },
            "colorscale": [
             [
              0,
              "#0d0887"
             ],
             [
              0.1111111111111111,
              "#46039f"
             ],
             [
              0.2222222222222222,
              "#7201a8"
             ],
             [
              0.3333333333333333,
              "#9c179e"
             ],
             [
              0.4444444444444444,
              "#bd3786"
             ],
             [
              0.5555555555555556,
              "#d8576b"
             ],
             [
              0.6666666666666666,
              "#ed7953"
             ],
             [
              0.7777777777777778,
              "#fb9f3a"
             ],
             [
              0.8888888888888888,
              "#fdca26"
             ],
             [
              1,
              "#f0f921"
             ]
            ],
            "type": "contour"
           }
          ],
          "contourcarpet": [
           {
            "colorbar": {
             "outlinewidth": 0,
             "ticks": ""
            },
            "type": "contourcarpet"
           }
          ],
          "heatmap": [
           {
            "colorbar": {
             "outlinewidth": 0,
             "ticks": ""
            },
            "colorscale": [
             [
              0,
              "#0d0887"
             ],
             [
              0.1111111111111111,
              "#46039f"
             ],
             [
              0.2222222222222222,
              "#7201a8"
             ],
             [
              0.3333333333333333,
              "#9c179e"
             ],
             [
              0.4444444444444444,
              "#bd3786"
             ],
             [
              0.5555555555555556,
              "#d8576b"
             ],
             [
              0.6666666666666666,
              "#ed7953"
             ],
             [
              0.7777777777777778,
              "#fb9f3a"
             ],
             [
              0.8888888888888888,
              "#fdca26"
             ],
             [
              1,
              "#f0f921"
             ]
            ],
            "type": "heatmap"
           }
          ],
          "heatmapgl": [
           {
            "colorbar": {
             "outlinewidth": 0,
             "ticks": ""
            },
            "colorscale": [
             [
              0,
              "#0d0887"
             ],
             [
              0.1111111111111111,
              "#46039f"
             ],
             [
              0.2222222222222222,
              "#7201a8"
             ],
             [
              0.3333333333333333,
              "#9c179e"
             ],
             [
              0.4444444444444444,
              "#bd3786"
             ],
             [
              0.5555555555555556,
              "#d8576b"
             ],
             [
              0.6666666666666666,
              "#ed7953"
             ],
             [
              0.7777777777777778,
              "#fb9f3a"
             ],
             [
              0.8888888888888888,
              "#fdca26"
             ],
             [
              1,
              "#f0f921"
             ]
            ],
            "type": "heatmapgl"
           }
          ],
          "histogram": [
           {
            "marker": {
             "pattern": {
              "fillmode": "overlay",
              "size": 10,
              "solidity": 0.2
             }
            },
            "type": "histogram"
           }
          ],
          "histogram2d": [
           {
            "colorbar": {
             "outlinewidth": 0,
             "ticks": ""
            },
            "colorscale": [
             [
              0,
              "#0d0887"
             ],
             [
              0.1111111111111111,
              "#46039f"
             ],
             [
              0.2222222222222222,
              "#7201a8"
             ],
             [
              0.3333333333333333,
              "#9c179e"
             ],
             [
              0.4444444444444444,
              "#bd3786"
             ],
             [
              0.5555555555555556,
              "#d8576b"
             ],
             [
              0.6666666666666666,
              "#ed7953"
             ],
             [
              0.7777777777777778,
              "#fb9f3a"
             ],
             [
              0.8888888888888888,
              "#fdca26"
             ],
             [
              1,
              "#f0f921"
             ]
            ],
            "type": "histogram2d"
           }
          ],
          "histogram2dcontour": [
           {
            "colorbar": {
             "outlinewidth": 0,
             "ticks": ""
            },
            "colorscale": [
             [
              0,
              "#0d0887"
             ],
             [
              0.1111111111111111,
              "#46039f"
             ],
             [
              0.2222222222222222,
              "#7201a8"
             ],
             [
              0.3333333333333333,
              "#9c179e"
             ],
             [
              0.4444444444444444,
              "#bd3786"
             ],
             [
              0.5555555555555556,
              "#d8576b"
             ],
             [
              0.6666666666666666,
              "#ed7953"
             ],
             [
              0.7777777777777778,
              "#fb9f3a"
             ],
             [
              0.8888888888888888,
              "#fdca26"
             ],
             [
              1,
              "#f0f921"
             ]
            ],
            "type": "histogram2dcontour"
           }
          ],
          "mesh3d": [
           {
            "colorbar": {
             "outlinewidth": 0,
             "ticks": ""
            },
            "type": "mesh3d"
           }
          ],
          "parcoords": [
           {
            "line": {
             "colorbar": {
              "outlinewidth": 0,
              "ticks": ""
             }
            },
            "type": "parcoords"
           }
          ],
          "pie": [
           {
            "automargin": true,
            "type": "pie"
           }
          ],
          "scatter": [
           {
            "fillpattern": {
             "fillmode": "overlay",
             "size": 10,
             "solidity": 0.2
            },
            "type": "scatter"
           }
          ],
          "scatter3d": [
           {
            "line": {
             "colorbar": {
              "outlinewidth": 0,
              "ticks": ""
             }
            },
            "marker": {
             "colorbar": {
              "outlinewidth": 0,
              "ticks": ""
             }
            },
            "type": "scatter3d"
           }
          ],
          "scattercarpet": [
           {
            "marker": {
             "colorbar": {
              "outlinewidth": 0,
              "ticks": ""
             }
            },
            "type": "scattercarpet"
           }
          ],
          "scattergeo": [
           {
            "marker": {
             "colorbar": {
              "outlinewidth": 0,
              "ticks": ""
             }
            },
            "type": "scattergeo"
           }
          ],
          "scattergl": [
           {
            "marker": {
             "colorbar": {
              "outlinewidth": 0,
              "ticks": ""
             }
            },
            "type": "scattergl"
           }
          ],
          "scattermapbox": [
           {
            "marker": {
             "colorbar": {
              "outlinewidth": 0,
              "ticks": ""
             }
            },
            "type": "scattermapbox"
           }
          ],
          "scatterpolar": [
           {
            "marker": {
             "colorbar": {
              "outlinewidth": 0,
              "ticks": ""
             }
            },
            "type": "scatterpolar"
           }
          ],
          "scatterpolargl": [
           {
            "marker": {
             "colorbar": {
              "outlinewidth": 0,
              "ticks": ""
             }
            },
            "type": "scatterpolargl"
           }
          ],
          "scatterternary": [
           {
            "marker": {
             "colorbar": {
              "outlinewidth": 0,
              "ticks": ""
             }
            },
            "type": "scatterternary"
           }
          ],
          "surface": [
           {
            "colorbar": {
             "outlinewidth": 0,
             "ticks": ""
            },
            "colorscale": [
             [
              0,
              "#0d0887"
             ],
             [
              0.1111111111111111,
              "#46039f"
             ],
             [
              0.2222222222222222,
              "#7201a8"
             ],
             [
              0.3333333333333333,
              "#9c179e"
             ],
             [
              0.4444444444444444,
              "#bd3786"
             ],
             [
              0.5555555555555556,
              "#d8576b"
             ],
             [
              0.6666666666666666,
              "#ed7953"
             ],
             [
              0.7777777777777778,
              "#fb9f3a"
             ],
             [
              0.8888888888888888,
              "#fdca26"
             ],
             [
              1,
              "#f0f921"
             ]
            ],
            "type": "surface"
           }
          ],
          "table": [
           {
            "cells": {
             "fill": {
              "color": "#EBF0F8"
             },
             "line": {
              "color": "white"
             }
            },
            "header": {
             "fill": {
              "color": "#C8D4E3"
             },
             "line": {
              "color": "white"
             }
            },
            "type": "table"
           }
          ]
         },
         "layout": {
          "annotationdefaults": {
           "arrowcolor": "#2a3f5f",
           "arrowhead": 0,
           "arrowwidth": 1
          },
          "autotypenumbers": "strict",
          "coloraxis": {
           "colorbar": {
            "outlinewidth": 0,
            "ticks": ""
           }
          },
          "colorscale": {
           "diverging": [
            [
             0,
             "#8e0152"
            ],
            [
             0.1,
             "#c51b7d"
            ],
            [
             0.2,
             "#de77ae"
            ],
            [
             0.3,
             "#f1b6da"
            ],
            [
             0.4,
             "#fde0ef"
            ],
            [
             0.5,
             "#f7f7f7"
            ],
            [
             0.6,
             "#e6f5d0"
            ],
            [
             0.7,
             "#b8e186"
            ],
            [
             0.8,
             "#7fbc41"
            ],
            [
             0.9,
             "#4d9221"
            ],
            [
             1,
             "#276419"
            ]
           ],
           "sequential": [
            [
             0,
             "#0d0887"
            ],
            [
             0.1111111111111111,
             "#46039f"
            ],
            [
             0.2222222222222222,
             "#7201a8"
            ],
            [
             0.3333333333333333,
             "#9c179e"
            ],
            [
             0.4444444444444444,
             "#bd3786"
            ],
            [
             0.5555555555555556,
             "#d8576b"
            ],
            [
             0.6666666666666666,
             "#ed7953"
            ],
            [
             0.7777777777777778,
             "#fb9f3a"
            ],
            [
             0.8888888888888888,
             "#fdca26"
            ],
            [
             1,
             "#f0f921"
            ]
           ],
           "sequentialminus": [
            [
             0,
             "#0d0887"
            ],
            [
             0.1111111111111111,
             "#46039f"
            ],
            [
             0.2222222222222222,
             "#7201a8"
            ],
            [
             0.3333333333333333,
             "#9c179e"
            ],
            [
             0.4444444444444444,
             "#bd3786"
            ],
            [
             0.5555555555555556,
             "#d8576b"
            ],
            [
             0.6666666666666666,
             "#ed7953"
            ],
            [
             0.7777777777777778,
             "#fb9f3a"
            ],
            [
             0.8888888888888888,
             "#fdca26"
            ],
            [
             1,
             "#f0f921"
            ]
           ]
          },
          "colorway": [
           "#636efa",
           "#EF553B",
           "#00cc96",
           "#ab63fa",
           "#FFA15A",
           "#19d3f3",
           "#FF6692",
           "#B6E880",
           "#FF97FF",
           "#FECB52"
          ],
          "font": {
           "color": "#2a3f5f"
          },
          "geo": {
           "bgcolor": "white",
           "lakecolor": "white",
           "landcolor": "#E5ECF6",
           "showlakes": true,
           "showland": true,
           "subunitcolor": "white"
          },
          "hoverlabel": {
           "align": "left"
          },
          "hovermode": "closest",
          "mapbox": {
           "style": "light"
          },
          "paper_bgcolor": "white",
          "plot_bgcolor": "#E5ECF6",
          "polar": {
           "angularaxis": {
            "gridcolor": "white",
            "linecolor": "white",
            "ticks": ""
           },
           "bgcolor": "#E5ECF6",
           "radialaxis": {
            "gridcolor": "white",
            "linecolor": "white",
            "ticks": ""
           }
          },
          "scene": {
           "xaxis": {
            "backgroundcolor": "#E5ECF6",
            "gridcolor": "white",
            "gridwidth": 2,
            "linecolor": "white",
            "showbackground": true,
            "ticks": "",
            "zerolinecolor": "white"
           },
           "yaxis": {
            "backgroundcolor": "#E5ECF6",
            "gridcolor": "white",
            "gridwidth": 2,
            "linecolor": "white",
            "showbackground": true,
            "ticks": "",
            "zerolinecolor": "white"
           },
           "zaxis": {
            "backgroundcolor": "#E5ECF6",
            "gridcolor": "white",
            "gridwidth": 2,
            "linecolor": "white",
            "showbackground": true,
            "ticks": "",
            "zerolinecolor": "white"
           }
          },
          "shapedefaults": {
           "line": {
            "color": "#2a3f5f"
           }
          },
          "ternary": {
           "aaxis": {
            "gridcolor": "white",
            "linecolor": "white",
            "ticks": ""
           },
           "baxis": {
            "gridcolor": "white",
            "linecolor": "white",
            "ticks": ""
           },
           "bgcolor": "#E5ECF6",
           "caxis": {
            "gridcolor": "white",
            "linecolor": "white",
            "ticks": ""
           }
          },
          "title": {
           "x": 0.05
          },
          "xaxis": {
           "automargin": true,
           "gridcolor": "white",
           "linecolor": "white",
           "ticks": "",
           "title": {
            "standoff": 15
           },
           "zerolinecolor": "white",
           "zerolinewidth": 2
          },
          "yaxis": {
           "automargin": true,
           "gridcolor": "white",
           "linecolor": "white",
           "ticks": "",
           "title": {
            "standoff": 15
           },
           "zerolinecolor": "white",
           "zerolinewidth": 2
          }
         }
        },
        "title": {
         "text": "Fitness evolution"
        },
        "xaxis": {
         "anchor": "y",
         "domain": [
          0,
          1
         ],
         "title": {
          "text": "generation"
         }
        },
        "yaxis": {
         "anchor": "x",
         "domain": [
          0,
          1
         ],
         "title": {
          "text": "fitness"
         },
         "type": "log"
        }
       }
      }
     },
     "metadata": {},
     "output_type": "display_data"
    }
   ],
   "source": [
    "viewer.fitness_evolution()"
   ]
  },
  {
   "cell_type": "code",
   "execution_count": 19,
   "metadata": {},
   "outputs": [
    {
     "data": {
      "application/vnd.plotly.v1+json": {
       "config": {
        "plotlyServerURL": "https://plot.ly"
       },
       "data": [
        {
         "alignmentgroup": "True",
         "hovertemplate": "D1N1_energy_coefficient=%{y}<extra></extra>",
         "legendgroup": "",
         "marker": {
          "color": "#636efa"
         },
         "name": "",
         "notched": false,
         "offsetgroup": "",
         "orientation": "v",
         "showlegend": false,
         "type": "box",
         "x0": " ",
         "xaxis": "x",
         "y": [
          0.13017392639417028,
          0.12996084043051717,
          0.1298733316505305,
          0.130594799851794,
          0.1306908949215852,
          0.13083504332463702,
          0.13091228523483575,
          0.12935620042982868,
          0.13108557866564582,
          0.13163203924810737,
          0.1318695765879009,
          0.1321138801291125,
          0.13227532857094282,
          0.12779055965946082,
          0.1325681207508063,
          0.12754663913836747,
          0.1327940012151516,
          0.12751644738802168,
          0.12711633568122593,
          0.13336718656234484,
          0.1268011971349976,
          0.13388750539610314,
          0.13427370754707227,
          0.12587185030693596,
          0.1344500359365104,
          0.13452017040242606,
          0.1346892050670839,
          0.13476923409127878,
          0.12547647635332027,
          0.12544544886886208,
          0.13494087096274487,
          0.12514214260476825,
          0.13532844107519235,
          0.12480626475395012,
          0.12474167205663167,
          0.12450127103758181,
          0.13588659291372843,
          0.12433094250386938,
          0.13620826102369693,
          0.13701201924079964,
          0.13709088945377065,
          0.13761039208056355,
          0.13762732260484828,
          0.13778558373851857,
          0.13785066934551843,
          0.13791413492185786,
          0.12238789420685725,
          0.13818963150723584,
          0.13820481585302172,
          0.13868662879559646,
          0.13875740153766203,
          0.12150066367872134,
          0.13885766372396,
          0.13894159533438602,
          0.1391307328505349,
          0.12113560995108395,
          0.13941061196148746,
          0.13943555792405732,
          0.12086073153208186,
          0.12058458381132925,
          0.12040768432769507,
          0.1399220953867876,
          0.13992754864045903,
          0.11982082941284486,
          0.14052081553267093,
          0.11971803124332285,
          0.11949086529856724,
          0.14084840339933127,
          0.1408601581044623,
          0.14088524396333882,
          0.14092871628265466,
          0.14093071823228312,
          0.11909470538809565,
          0.14137626905477757,
          0.11877805868756994,
          0.1418484113841339,
          0.11843979539103328,
          0.11833811558761786,
          0.14199381467850283,
          0.14221359127559494,
          0.14229830375194635,
          0.11786381661294437,
          0.11764817233740778,
          0.11740030320523195,
          0.11737376687897247,
          0.11733459250911463,
          0.117116069356272,
          0.11681821721416838,
          0.11644870299100502,
          0.11616561702635207,
          0.1442880528277546,
          0.11596244272877078,
          0.14466898235483722,
          0.11537336044016508,
          0.1153600277318507,
          0.11519161049375302,
          0.11513488421647547,
          0.14523887361470533,
          0.14540065024856877,
          0.14553004646096251,
          0.11478814215721059,
          0.14562349466715258,
          0.11459163596356291,
          0.1142589380021312,
          0.11424672886487777,
          0.14624823362564296,
          0.14630672577361892,
          0.1139625303603277,
          0.11336486552211705,
          0.14697515367530056,
          0.11329573842284694,
          0.14709506354068053,
          0.11320178362839002,
          0.11312298856553761,
          0.11303849084533522,
          0.14730250975685477,
          0.11298606151540644,
          0.14746161718140874,
          0.11285509157740495,
          0.11273539471401392,
          0.14820954548636261,
          0.11194005626415035,
          0.11193251999561257,
          0.14851745914902886,
          0.14868542214725086,
          0.1486881961624834,
          0.1115129201715602,
          0.14883519516453703,
          0.11136946255211058,
          0.1492049086122448,
          0.14932434297145786,
          0.11090785304038231,
          0.14955420393734045,
          0.11065218373185379,
          0.11062766406628183,
          0.11045783452777035,
          0.14988731016791956,
          0.15000190527048146,
          0.1501786961232574,
          0.15022318228158874,
          0.15050851938637938,
          0.10974340262263907,
          0.10970044061839597,
          0.15079506846730384,
          0.1508111275989424,
          0.1509537798764953,
          0.15097383364634956,
          0.1514652106872495,
          0.10859886021934649,
          0.1517263075902345,
          0.1082825660203893,
          0.15206524125627763,
          0.1081996043707879,
          0.1521744835019399,
          0.15217839921605858,
          0.1522914064980112,
          0.107896557284891,
          0.10789339121920838,
          0.15263711933923305,
          0.10764282608081903,
          0.10736292044002244,
          0.15328913161820526,
          0.15382077690375154,
          0.15383714490459488,
          0.15408524517265926,
          0.10618266457784216,
          0.1061309930564192,
          0.15431908138629455,
          0.10594592909972864,
          0.10575673440259259,
          0.10574037810048237,
          0.1549406857371294,
          0.15508586040826083,
          0.15512263061417164,
          0.10508268988827801,
          0.1554463985079325,
          0.1556987296868575,
          0.15577777669877763,
          0.10444231778111213,
          0.15603764167712833,
          0.15604379900724274,
          0.15605920690545572,
          0.1041679726032096,
          0.15616607184176814,
          0.10408117436286878,
          0.15657942160274738,
          0.15688676212711677,
          0.10268791975884214,
          0.15796339345495133,
          0.15816811381280999,
          0.1583084333202356,
          0.15849776585127429,
          0.15904690435289534,
          0.1008020456465446,
          0.10072630323720322,
          0.10059546887822782,
          0.1598982635174801,
          0.15990789834707966,
          0.10002891108438511,
          0.1605733988488124,
          0.16074627168019934,
          0.09939973723654655,
          0.09907802828464511,
          0.16138595624202376,
          0.16151207690258534,
          0.09877343393624684,
          0.16171091941388763,
          0.09834895817836314,
          0.1622566756792873,
          0.09789562971170261,
          0.09786758689733145,
          0.16251454928162665,
          0.09736423170324757,
          0.0968389717638244,
          0.09635079159482149,
          0.16397900167820223,
          0.0962968221472626,
          0.09613066896962735,
          0.16462837690100016,
          0.09566492127424676,
          0.16472701536276152,
          0.09524901205056951,
          0.16508212375650688,
          0.16513871051418708,
          0.09460671266469599,
          0.09356327536990172,
          0.0932154509902719,
          0.16802957162534315,
          0.09207713031833223,
          0.16856546664344996,
          0.16921578923412622,
          0.16923524539286416,
          0.1694704618700314,
          0.1702281792663606,
          0.08976201649343744,
          0.08943498880669709,
          0.1709094833892711,
          0.0893970369844164,
          0.08927545294893599,
          0.08923102328243328,
          0.08920527518585941,
          0.08919822343141114,
          0.1712230484501219,
          0.17142133333370085,
          0.08880687472917538,
          0.17181667605831152,
          0.08828073216261802,
          0.08810478664842213,
          0.17238216042167478,
          0.087193320399409,
          0.08678075698100082,
          0.08661004245006212,
          0.0864010266194606,
          0.08622218959843551,
          0.08622072049873865,
          0.17441739258999855,
          0.08589862998623156,
          0.1748104633458571,
          0.17493118307746383,
          0.08483900861096545,
          0.08470737166465972,
          0.08469562539082076,
          0.08459836177600179,
          0.08451822393340336,
          0.08450748449307052,
          0.08432802823673358,
          0.08431674109118947,
          0.08392907359489944,
          0.17746692073978224,
          0.17764611489169702,
          0.17795977307057137,
          0.17813287263310373,
          0.0821026473783748,
          0.08198952191549576,
          0.17843029330760746,
          0.1784516376069124,
          0.1787115945223065,
          0.08143980475339332,
          0.17948395939887482,
          0.08078538899518134,
          0.1798922570069164,
          0.18016096080528524,
          0.18051660801333141,
          0.07968195970237814,
          0.18070037096963404,
          0.18076357234472618,
          0.07922705555645858,
          0.07903590931956431,
          0.181308646140407,
          0.07877643029162792,
          0.07850597422641434,
          0.18193379634272563,
          0.1824659876538994,
          0.07785080695963505,
          0.07769995779767741,
          0.18268606223564862,
          0.07731325629199205,
          0.18303449629266563,
          0.07653026765444346,
          0.18396298377756168,
          0.18469131232193953,
          0.07542761534348788,
          0.07510169056755688,
          0.18586516409359963,
          0.1859176493792496,
          0.18593907018436898,
          0.07405526167487693,
          0.18660328757192318,
          0.18670626175902166,
          0.18701638324339037,
          0.18702537639231312,
          0.1871020340498833,
          0.07305991847276909,
          0.18754554977243343,
          0.07272235526130558,
          0.18771128774904208,
          0.07246160654543163,
          0.07210915573322282,
          0.07163894423035401,
          0.1891515498056369,
          0.07112398700727404,
          0.18962913852597824,
          0.07045814369842651,
          0.0702928800654608,
          0.07007759208972165,
          0.07007498857797215,
          0.19052608761949316,
          0.06945039586042413,
          0.06931394456077226,
          0.1910946433566249,
          0.06863693468197476,
          0.06859704494271102,
          0.19193133234301843,
          0.19219197851610506,
          0.067874969904487,
          0.19251204298793032,
          0.06749137805788202,
          0.19283876127307645,
          0.06726462802658341,
          0.06687741628461479,
          0.19346767619284255,
          0.06676568141930547,
          0.06666486536328484,
          0.06664679855310525,
          0.19398208404437683,
          0.06627784192898784,
          0.06617472980905759,
          0.1942575692476609,
          0.06587119463423687,
          0.19458425366944318,
          0.06488572866785675,
          0.0645612394051622,
          0.06454160016809656,
          0.19598671916449686,
          0.19622832808013882,
          0.19639963824175333,
          0.0637647299072431,
          0.19689519197241673,
          0.1971964279020544,
          0.1974860197729889,
          0.19752972684596307,
          0.06201427536560519,
          0.2001424390600786,
          0.05957123476665454,
          0.2008038085262389,
          0.05922070644477768,
          0.20128674320598117,
          0.20133511360858475,
          0.20166699099838092,
          0.20166850890664362,
          0.201989034174307,
          0.2021346606501772,
          0.05790310905285468,
          0.20301449547259254,
          0.056739563711051044,
          0.056049319809746194,
          0.055774657115404566,
          0.05502750493415516,
          0.2056210607156973,
          0.054674810527556864,
          0.2056955524826283,
          0.054060303818427774,
          0.052908188281264264,
          0.20743158903025372,
          0.20787560837141433,
          0.052257058318118985,
          0.05224489595386769,
          0.20832183691159886,
          0.051369815165051624,
          0.2089693335688842,
          0.05125597946759458,
          0.20916120362770851,
          0.0510023916598456,
          0.05044375843517349,
          0.050298496330816095,
          0.21054765104484824,
          0.04904609837301701,
          0.21129818576909898,
          0.21288819071311954,
          0.21391272389783306,
          0.04590764455635708,
          0.04583980469126481,
          0.04565355552134901,
          0.21472357623552296,
          0.2150409282281712,
          0.04517428436229976,
          0.04485709896757655,
          0.04454313476725221,
          0.21598451893787032,
          0.21615266279467352,
          0.2163346938271923,
          0.217737742227403,
          0.21801209127137872,
          0.21804002991495852,
          0.2185818225136731,
          0.04170225714996968,
          0.03998638991243773,
          0.22116437083667218,
          0.03594096539351618,
          0.22501784414507842,
          0.03351226241518586,
          0.22781753914027356,
          0.03245858067794742,
          0.228629160749178,
          0.22871225656604097,
          0.23043375910682398,
          0.02988282672147792,
          0.029701274799736943,
          0.23077084853650295,
          0.028982384211466816,
          0.02872834476920541,
          0.23176056546372215,
          0.2334057992260726,
          0.026144178790918036,
          0.23512942188568636,
          0.23563071871393299,
          0.23592632120705254,
          0.2367578641843832,
          0.23692590416174603,
          0.022605512292686564,
          0.022300711947069715,
          0.23853645293343,
          0.23864799742372267,
          0.2390719431006692,
          0.021177840414058006,
          0.2393194360833116,
          0.23982900492050305,
          0.020392646669781522,
          0.24021523457884764,
          0.2403455252260983,
          0.24111677012347443,
          0.24141051186108708,
          0.018106062456801422,
          0.24402343530648507,
          0.2441812341917705,
          0.24418477986867984,
          0.0133116416950287,
          0.011914706714939646,
          0.2485354003389139,
          0.24900070356407292,
          0.24934858019688283,
          0.24944025581711268,
          0.010029184140174632,
          0.009688557554387939,
          0.2510375488591541,
          0.007244068611578169,
          0.007157903420856843,
          0.25327297731308007,
          0.007007030409904455,
          0.2551997942804,
          0.004878517838244129,
          0.25715829751212294,
          0.25736210930656883,
          0.25796098659570954,
          0.25810203713281565,
          0.0018189097372482976,
          0.25941265055380625,
          0.2597661543925344,
          0.2604948381019201,
          0.2618539742854722,
          0.26308226671982826,
          0.2638410948642823,
          0.26438694527043133,
          0.2657279566216174,
          0.26579551253157196,
          0.266438266030574,
          0.2674940334117779,
          0.27024904702843133,
          0.27163030973235064,
          0.2748906915521986,
          0.275295741932349,
          0.2812973714882055,
          0.28197497243860237,
          0.2842934878047235,
          0.2853982467509999,
          0.2857051757438229,
          0.2862977134309142,
          0.2863949492311876,
          0.28807055470564463,
          0.29503194292732404
         ],
         "y0": " ",
         "yaxis": "y"
        }
       ],
       "layout": {
        "annotations": [
         {
          "font": {
           "size": 16
          },
          "showarrow": false,
          "text": "D1N1_energy_coefficient",
          "x": 0.5,
          "xanchor": "center",
          "xref": "paper",
          "y": 1,
          "yanchor": "bottom",
          "yref": "paper"
         }
        ],
        "height": 300,
        "template": {
         "data": {
          "bar": [
           {
            "error_x": {
             "color": "#2a3f5f"
            },
            "error_y": {
             "color": "#2a3f5f"
            },
            "marker": {
             "line": {
              "color": "#E5ECF6",
              "width": 0.5
             },
             "pattern": {
              "fillmode": "overlay",
              "size": 10,
              "solidity": 0.2
             }
            },
            "type": "bar"
           }
          ],
          "barpolar": [
           {
            "marker": {
             "line": {
              "color": "#E5ECF6",
              "width": 0.5
             },
             "pattern": {
              "fillmode": "overlay",
              "size": 10,
              "solidity": 0.2
             }
            },
            "type": "barpolar"
           }
          ],
          "carpet": [
           {
            "aaxis": {
             "endlinecolor": "#2a3f5f",
             "gridcolor": "white",
             "linecolor": "white",
             "minorgridcolor": "white",
             "startlinecolor": "#2a3f5f"
            },
            "baxis": {
             "endlinecolor": "#2a3f5f",
             "gridcolor": "white",
             "linecolor": "white",
             "minorgridcolor": "white",
             "startlinecolor": "#2a3f5f"
            },
            "type": "carpet"
           }
          ],
          "choropleth": [
           {
            "colorbar": {
             "outlinewidth": 0,
             "ticks": ""
            },
            "type": "choropleth"
           }
          ],
          "contour": [
           {
            "colorbar": {
             "outlinewidth": 0,
             "ticks": ""
            },
            "colorscale": [
             [
              0,
              "#0d0887"
             ],
             [
              0.1111111111111111,
              "#46039f"
             ],
             [
              0.2222222222222222,
              "#7201a8"
             ],
             [
              0.3333333333333333,
              "#9c179e"
             ],
             [
              0.4444444444444444,
              "#bd3786"
             ],
             [
              0.5555555555555556,
              "#d8576b"
             ],
             [
              0.6666666666666666,
              "#ed7953"
             ],
             [
              0.7777777777777778,
              "#fb9f3a"
             ],
             [
              0.8888888888888888,
              "#fdca26"
             ],
             [
              1,
              "#f0f921"
             ]
            ],
            "type": "contour"
           }
          ],
          "contourcarpet": [
           {
            "colorbar": {
             "outlinewidth": 0,
             "ticks": ""
            },
            "type": "contourcarpet"
           }
          ],
          "heatmap": [
           {
            "colorbar": {
             "outlinewidth": 0,
             "ticks": ""
            },
            "colorscale": [
             [
              0,
              "#0d0887"
             ],
             [
              0.1111111111111111,
              "#46039f"
             ],
             [
              0.2222222222222222,
              "#7201a8"
             ],
             [
              0.3333333333333333,
              "#9c179e"
             ],
             [
              0.4444444444444444,
              "#bd3786"
             ],
             [
              0.5555555555555556,
              "#d8576b"
             ],
             [
              0.6666666666666666,
              "#ed7953"
             ],
             [
              0.7777777777777778,
              "#fb9f3a"
             ],
             [
              0.8888888888888888,
              "#fdca26"
             ],
             [
              1,
              "#f0f921"
             ]
            ],
            "type": "heatmap"
           }
          ],
          "heatmapgl": [
           {
            "colorbar": {
             "outlinewidth": 0,
             "ticks": ""
            },
            "colorscale": [
             [
              0,
              "#0d0887"
             ],
             [
              0.1111111111111111,
              "#46039f"
             ],
             [
              0.2222222222222222,
              "#7201a8"
             ],
             [
              0.3333333333333333,
              "#9c179e"
             ],
             [
              0.4444444444444444,
              "#bd3786"
             ],
             [
              0.5555555555555556,
              "#d8576b"
             ],
             [
              0.6666666666666666,
              "#ed7953"
             ],
             [
              0.7777777777777778,
              "#fb9f3a"
             ],
             [
              0.8888888888888888,
              "#fdca26"
             ],
             [
              1,
              "#f0f921"
             ]
            ],
            "type": "heatmapgl"
           }
          ],
          "histogram": [
           {
            "marker": {
             "pattern": {
              "fillmode": "overlay",
              "size": 10,
              "solidity": 0.2
             }
            },
            "type": "histogram"
           }
          ],
          "histogram2d": [
           {
            "colorbar": {
             "outlinewidth": 0,
             "ticks": ""
            },
            "colorscale": [
             [
              0,
              "#0d0887"
             ],
             [
              0.1111111111111111,
              "#46039f"
             ],
             [
              0.2222222222222222,
              "#7201a8"
             ],
             [
              0.3333333333333333,
              "#9c179e"
             ],
             [
              0.4444444444444444,
              "#bd3786"
             ],
             [
              0.5555555555555556,
              "#d8576b"
             ],
             [
              0.6666666666666666,
              "#ed7953"
             ],
             [
              0.7777777777777778,
              "#fb9f3a"
             ],
             [
              0.8888888888888888,
              "#fdca26"
             ],
             [
              1,
              "#f0f921"
             ]
            ],
            "type": "histogram2d"
           }
          ],
          "histogram2dcontour": [
           {
            "colorbar": {
             "outlinewidth": 0,
             "ticks": ""
            },
            "colorscale": [
             [
              0,
              "#0d0887"
             ],
             [
              0.1111111111111111,
              "#46039f"
             ],
             [
              0.2222222222222222,
              "#7201a8"
             ],
             [
              0.3333333333333333,
              "#9c179e"
             ],
             [
              0.4444444444444444,
              "#bd3786"
             ],
             [
              0.5555555555555556,
              "#d8576b"
             ],
             [
              0.6666666666666666,
              "#ed7953"
             ],
             [
              0.7777777777777778,
              "#fb9f3a"
             ],
             [
              0.8888888888888888,
              "#fdca26"
             ],
             [
              1,
              "#f0f921"
             ]
            ],
            "type": "histogram2dcontour"
           }
          ],
          "mesh3d": [
           {
            "colorbar": {
             "outlinewidth": 0,
             "ticks": ""
            },
            "type": "mesh3d"
           }
          ],
          "parcoords": [
           {
            "line": {
             "colorbar": {
              "outlinewidth": 0,
              "ticks": ""
             }
            },
            "type": "parcoords"
           }
          ],
          "pie": [
           {
            "automargin": true,
            "type": "pie"
           }
          ],
          "scatter": [
           {
            "fillpattern": {
             "fillmode": "overlay",
             "size": 10,
             "solidity": 0.2
            },
            "type": "scatter"
           }
          ],
          "scatter3d": [
           {
            "line": {
             "colorbar": {
              "outlinewidth": 0,
              "ticks": ""
             }
            },
            "marker": {
             "colorbar": {
              "outlinewidth": 0,
              "ticks": ""
             }
            },
            "type": "scatter3d"
           }
          ],
          "scattercarpet": [
           {
            "marker": {
             "colorbar": {
              "outlinewidth": 0,
              "ticks": ""
             }
            },
            "type": "scattercarpet"
           }
          ],
          "scattergeo": [
           {
            "marker": {
             "colorbar": {
              "outlinewidth": 0,
              "ticks": ""
             }
            },
            "type": "scattergeo"
           }
          ],
          "scattergl": [
           {
            "marker": {
             "colorbar": {
              "outlinewidth": 0,
              "ticks": ""
             }
            },
            "type": "scattergl"
           }
          ],
          "scattermapbox": [
           {
            "marker": {
             "colorbar": {
              "outlinewidth": 0,
              "ticks": ""
             }
            },
            "type": "scattermapbox"
           }
          ],
          "scatterpolar": [
           {
            "marker": {
             "colorbar": {
              "outlinewidth": 0,
              "ticks": ""
             }
            },
            "type": "scatterpolar"
           }
          ],
          "scatterpolargl": [
           {
            "marker": {
             "colorbar": {
              "outlinewidth": 0,
              "ticks": ""
             }
            },
            "type": "scatterpolargl"
           }
          ],
          "scatterternary": [
           {
            "marker": {
             "colorbar": {
              "outlinewidth": 0,
              "ticks": ""
             }
            },
            "type": "scatterternary"
           }
          ],
          "surface": [
           {
            "colorbar": {
             "outlinewidth": 0,
             "ticks": ""
            },
            "colorscale": [
             [
              0,
              "#0d0887"
             ],
             [
              0.1111111111111111,
              "#46039f"
             ],
             [
              0.2222222222222222,
              "#7201a8"
             ],
             [
              0.3333333333333333,
              "#9c179e"
             ],
             [
              0.4444444444444444,
              "#bd3786"
             ],
             [
              0.5555555555555556,
              "#d8576b"
             ],
             [
              0.6666666666666666,
              "#ed7953"
             ],
             [
              0.7777777777777778,
              "#fb9f3a"
             ],
             [
              0.8888888888888888,
              "#fdca26"
             ],
             [
              1,
              "#f0f921"
             ]
            ],
            "type": "surface"
           }
          ],
          "table": [
           {
            "cells": {
             "fill": {
              "color": "#EBF0F8"
             },
             "line": {
              "color": "white"
             }
            },
            "header": {
             "fill": {
              "color": "#C8D4E3"
             },
             "line": {
              "color": "white"
             }
            },
            "type": "table"
           }
          ]
         },
         "layout": {
          "annotationdefaults": {
           "arrowcolor": "#2a3f5f",
           "arrowhead": 0,
           "arrowwidth": 1
          },
          "autotypenumbers": "strict",
          "coloraxis": {
           "colorbar": {
            "outlinewidth": 0,
            "ticks": ""
           }
          },
          "colorscale": {
           "diverging": [
            [
             0,
             "#8e0152"
            ],
            [
             0.1,
             "#c51b7d"
            ],
            [
             0.2,
             "#de77ae"
            ],
            [
             0.3,
             "#f1b6da"
            ],
            [
             0.4,
             "#fde0ef"
            ],
            [
             0.5,
             "#f7f7f7"
            ],
            [
             0.6,
             "#e6f5d0"
            ],
            [
             0.7,
             "#b8e186"
            ],
            [
             0.8,
             "#7fbc41"
            ],
            [
             0.9,
             "#4d9221"
            ],
            [
             1,
             "#276419"
            ]
           ],
           "sequential": [
            [
             0,
             "#0d0887"
            ],
            [
             0.1111111111111111,
             "#46039f"
            ],
            [
             0.2222222222222222,
             "#7201a8"
            ],
            [
             0.3333333333333333,
             "#9c179e"
            ],
            [
             0.4444444444444444,
             "#bd3786"
            ],
            [
             0.5555555555555556,
             "#d8576b"
            ],
            [
             0.6666666666666666,
             "#ed7953"
            ],
            [
             0.7777777777777778,
             "#fb9f3a"
            ],
            [
             0.8888888888888888,
             "#fdca26"
            ],
            [
             1,
             "#f0f921"
            ]
           ],
           "sequentialminus": [
            [
             0,
             "#0d0887"
            ],
            [
             0.1111111111111111,
             "#46039f"
            ],
            [
             0.2222222222222222,
             "#7201a8"
            ],
            [
             0.3333333333333333,
             "#9c179e"
            ],
            [
             0.4444444444444444,
             "#bd3786"
            ],
            [
             0.5555555555555556,
             "#d8576b"
            ],
            [
             0.6666666666666666,
             "#ed7953"
            ],
            [
             0.7777777777777778,
             "#fb9f3a"
            ],
            [
             0.8888888888888888,
             "#fdca26"
            ],
            [
             1,
             "#f0f921"
            ]
           ]
          },
          "colorway": [
           "#636efa",
           "#EF553B",
           "#00cc96",
           "#ab63fa",
           "#FFA15A",
           "#19d3f3",
           "#FF6692",
           "#B6E880",
           "#FF97FF",
           "#FECB52"
          ],
          "font": {
           "color": "#2a3f5f"
          },
          "geo": {
           "bgcolor": "white",
           "lakecolor": "white",
           "landcolor": "#E5ECF6",
           "showlakes": true,
           "showland": true,
           "subunitcolor": "white"
          },
          "hoverlabel": {
           "align": "left"
          },
          "hovermode": "closest",
          "mapbox": {
           "style": "light"
          },
          "paper_bgcolor": "white",
          "plot_bgcolor": "#E5ECF6",
          "polar": {
           "angularaxis": {
            "gridcolor": "white",
            "linecolor": "white",
            "ticks": ""
           },
           "bgcolor": "#E5ECF6",
           "radialaxis": {
            "gridcolor": "white",
            "linecolor": "white",
            "ticks": ""
           }
          },
          "scene": {
           "xaxis": {
            "backgroundcolor": "#E5ECF6",
            "gridcolor": "white",
            "gridwidth": 2,
            "linecolor": "white",
            "showbackground": true,
            "ticks": "",
            "zerolinecolor": "white"
           },
           "yaxis": {
            "backgroundcolor": "#E5ECF6",
            "gridcolor": "white",
            "gridwidth": 2,
            "linecolor": "white",
            "showbackground": true,
            "ticks": "",
            "zerolinecolor": "white"
           },
           "zaxis": {
            "backgroundcolor": "#E5ECF6",
            "gridcolor": "white",
            "gridwidth": 2,
            "linecolor": "white",
            "showbackground": true,
            "ticks": "",
            "zerolinecolor": "white"
           }
          },
          "shapedefaults": {
           "line": {
            "color": "#2a3f5f"
           }
          },
          "ternary": {
           "aaxis": {
            "gridcolor": "white",
            "linecolor": "white",
            "ticks": ""
           },
           "baxis": {
            "gridcolor": "white",
            "linecolor": "white",
            "ticks": ""
           },
           "bgcolor": "#E5ECF6",
           "caxis": {
            "gridcolor": "white",
            "linecolor": "white",
            "ticks": ""
           }
          },
          "title": {
           "x": 0.05
          },
          "xaxis": {
           "automargin": true,
           "gridcolor": "white",
           "linecolor": "white",
           "ticks": "",
           "title": {
            "standoff": 15
           },
           "zerolinecolor": "white",
           "zerolinewidth": 2
          },
          "yaxis": {
           "automargin": true,
           "gridcolor": "white",
           "linecolor": "white",
           "ticks": "",
           "title": {
            "standoff": 15
           },
           "zerolinecolor": "white",
           "zerolinewidth": 2
          }
         }
        },
        "title": {
         "text": "Parameters distribution"
        },
        "width": 300,
        "xaxis": {
         "anchor": "y",
         "domain": [
          0,
          1
         ]
        },
        "yaxis": {
         "anchor": "x",
         "domain": [
          0,
          1
         ]
        }
       }
      }
     },
     "metadata": {},
     "output_type": "display_data"
    }
   ],
   "source": [
    "viewer.box_plot(1, nbest=1000)"
   ]
  },
  {
   "cell_type": "markdown",
   "metadata": {},
   "source": [
    "# Generate plots at each station\n"
   ]
  },
  {
   "cell_type": "code",
   "execution_count": 20,
   "metadata": {},
   "outputs": [
    {
     "name": "stdout",
     "output_type": "stream",
     "text": [
      "Best individual: [0.0, 0.0, 0.13017392639417028, 10.38, -0.11, 150.0, 0.15]\n"
     ]
    }
   ],
   "source": [
    "best_individual = cost_function.functional_groups.generate_matrix(viewer.hall_of_fame.iloc[0])\n",
    "print(f\"Best individual: {list(best_individual[0])}\")"
   ]
  },
  {
   "cell_type": "markdown",
   "metadata": {},
   "source": [
    "## Run simulation\n"
   ]
  },
  {
   "cell_type": "code",
   "execution_count": 21,
   "metadata": {},
   "outputs": [],
   "source": [
    "model_print = wrapper.model_generator_no_transport(\n",
    "    forcing_parameters=forcing_parameters,\n",
    "    fg_parameters=wrapper.FunctionalGroupGeneratorNoTransport(parameters=best_individual, groups_name=[\"D1N1\"]),\n",
    ")\n",
    "\n",
    "model_print.run()"
   ]
  },
  {
   "cell_type": "markdown",
   "metadata": {},
   "source": [
    "## Plot\n"
   ]
  },
  {
   "cell_type": "markdown",
   "metadata": {},
   "source": [
    "### Taylor Diagram\n"
   ]
  },
  {
   "cell_type": "markdown",
   "metadata": {},
   "source": [
    "Convert to pandas series.\n"
   ]
  },
  {
   "cell_type": "code",
   "execution_count": 22,
   "metadata": {},
   "outputs": [],
   "source": [
    "biomass_pandas = (\n",
    "    model_print.export_biomass()\n",
    "    .pint.quantify()\n",
    "    .pint.to(\"mg/meter^2\")\n",
    "    .pint.dequantify()\n",
    "    .to_dataframe()\n",
    "    .reset_index()\n",
    "    .set_index(\"time\")[\"biomass\"]\n",
    ")\n",
    "observations_day_pandas = (\n",
    "    observations.pint.dequantify().day.dropna(\"time\").to_dataframe().reset_index().set_index(\"time\")[\"day\"]\n",
    ")\n",
    "observations_night_pandas = (\n",
    "    observations.pint.dequantify().night.dropna(\"time\").to_dataframe().reset_index().set_index(\"time\")[\"night\"]\n",
    ")\n",
    "layer_pandas = epi_layer_depth.pint.dequantify().to_dataframe().reset_index().set_index(\"time\")[\"pelagic_layer_depth\"]\n"
   ]
  },
  {
   "cell_type": "markdown",
   "metadata": {},
   "source": [
    "Then resample to month.\n"
   ]
  },
  {
   "cell_type": "code",
   "execution_count": 23,
   "metadata": {},
   "outputs": [],
   "source": [
    "monthly_obs_day = observations_day_pandas.resample(\"ME\").mean()[TIME_START:TIME_END].dropna()\n",
    "monthly_obs_day.index = monthly_obs_day.index.to_period(\"M\").to_timestamp()\n",
    "\n",
    "monthly_obs_night = observations_night_pandas.resample(\"ME\").mean()[TIME_START:TIME_END].dropna()\n",
    "monthly_obs_night.index = monthly_obs_night.index.to_period(\"M\").to_timestamp()\n",
    "\n",
    "monthly_pred = biomass_pandas.resample(\"ME\").mean()[TIME_START:TIME_END].dropna()\n",
    "monthly_pred.index = monthly_pred.index.to_period(\"M\").to_timestamp()\n",
    "\n",
    "monthly_layer = layer_pandas.resample(\"ME\").mean()[TIME_START:TIME_END].dropna()\n",
    "monthly_layer.index = monthly_layer.index.to_period(\"M\").to_timestamp()"
   ]
  },
  {
   "cell_type": "code",
   "execution_count": 28,
   "metadata": {},
   "outputs": [
    {
     "data": {
      "application/vnd.plotly.v1+json": {
       "config": {
        "plotlyServerURL": "https://plot.ly"
       },
       "data": [
        {
         "line": {
          "color": "red",
          "width": 1
         },
         "mode": "lines",
         "name": "Observations (day)",
         "type": "scatter",
         "x": [
          "2005-02-01T00:00:00",
          "2005-03-01T00:00:00",
          "2005-06-01T00:00:00",
          "2005-07-01T00:00:00",
          "2005-08-01T00:00:00",
          "2005-10-01T00:00:00",
          "2005-11-01T00:00:00",
          "2005-12-01T00:00:00",
          "2006-02-01T00:00:00",
          "2006-03-01T00:00:00",
          "2006-04-01T00:00:00",
          "2006-06-01T00:00:00",
          "2006-09-01T00:00:00",
          "2006-10-01T00:00:00",
          "2006-11-01T00:00:00",
          "2006-12-01T00:00:00",
          "2007-02-01T00:00:00",
          "2007-03-01T00:00:00",
          "2007-05-01T00:00:00",
          "2007-06-01T00:00:00",
          "2007-07-01T00:00:00",
          "2007-09-01T00:00:00",
          "2007-10-01T00:00:00",
          "2007-12-01T00:00:00",
          "2008-01-01T00:00:00",
          "2008-02-01T00:00:00",
          "2008-05-01T00:00:00",
          "2008-06-01T00:00:00",
          "2008-08-01T00:00:00",
          "2008-10-01T00:00:00",
          "2008-11-01T00:00:00",
          "2008-12-01T00:00:00",
          "2009-01-01T00:00:00",
          "2009-02-01T00:00:00",
          "2009-04-01T00:00:00",
          "2009-05-01T00:00:00",
          "2009-07-01T00:00:00",
          "2009-09-01T00:00:00",
          "2009-11-01T00:00:00",
          "2009-12-01T00:00:00"
         ],
         "y": [
          129.6241254518878,
          234.2175970938315,
          297.7116912786574,
          343.3669235851356,
          397.2954315453576,
          310.58447115849805,
          293.1870866354197,
          192.66075918417988,
          185.6526576412749,
          203.04765513268822,
          185.6262351066913,
          262.5879267502886,
          286.7327644599245,
          263.18742891710474,
          159.73236287969584,
          114.12569886536771,
          291.8373150586662,
          236.72880835506618,
          300.52656827637287,
          361.5811366139791,
          329.59489422150136,
          402.38246906464065,
          232.21019793001923,
          181.06449683988606,
          129.74281403951085,
          129.05821888746573,
          277.11358627957645,
          401.3576646611965,
          292.78559434599697,
          250.23021884103585,
          157.9912873050357,
          222.38519479834522,
          49.59509397421906,
          179.40468654130052,
          175.02041693577186,
          416.76577798207774,
          146.91145142724952,
          283.3233427825049,
          115.03212441610059,
          207.35448677619334
         ]
        },
        {
         "fill": "tonexty",
         "line": {
          "color": "rgba(180, 180, 180, 0.2)",
          "width": 1
         },
         "mode": "lines",
         "name": "Observations (night)",
         "type": "scatter",
         "x": [
          "2005-02-01T00:00:00",
          "2005-03-01T00:00:00",
          "2005-06-01T00:00:00",
          "2005-07-01T00:00:00",
          "2005-08-01T00:00:00",
          "2005-10-01T00:00:00",
          "2005-11-01T00:00:00",
          "2005-12-01T00:00:00",
          "2006-02-01T00:00:00",
          "2006-03-01T00:00:00",
          "2006-04-01T00:00:00",
          "2006-06-01T00:00:00",
          "2006-09-01T00:00:00",
          "2006-10-01T00:00:00",
          "2006-11-01T00:00:00",
          "2006-12-01T00:00:00",
          "2007-02-01T00:00:00",
          "2007-03-01T00:00:00",
          "2007-05-01T00:00:00",
          "2007-06-01T00:00:00",
          "2007-07-01T00:00:00",
          "2007-09-01T00:00:00",
          "2007-10-01T00:00:00",
          "2007-12-01T00:00:00",
          "2008-01-01T00:00:00",
          "2008-02-01T00:00:00",
          "2008-05-01T00:00:00",
          "2008-06-01T00:00:00",
          "2008-08-01T00:00:00",
          "2008-10-01T00:00:00",
          "2008-11-01T00:00:00",
          "2008-12-01T00:00:00",
          "2009-01-01T00:00:00",
          "2009-02-01T00:00:00",
          "2009-04-01T00:00:00",
          "2009-05-01T00:00:00",
          "2009-07-01T00:00:00",
          "2009-09-01T00:00:00",
          "2009-11-01T00:00:00",
          "2009-12-01T00:00:00"
         ],
         "y": [
          311.2660665468461,
          422.7454174048658,
          410.12685963930767,
          438.13154374136354,
          575.688673930134,
          320.1690029650057,
          399.3360957859341,
          292.3303092983482,
          287.4348034869711,
          361.1144975357861,
          401.84896143515357,
          428.2469058062244,
          341.69994644251506,
          369.3100169084423,
          344.25846236449763,
          217.8194657879308,
          410.85341661483824,
          419.577157723961,
          547.9308393854859,
          514.8137558530523,
          534.3037344858906,
          684.5289102704819,
          415.43140660338906,
          281.57067184554904,
          214.7126186750113,
          263.75237921713983,
          409.622869796669,
          494.6507966129079,
          367.10838965105097,
          331.816723195203,
          479.1847643283798,
          470.81495398792043,
          147.90582627756717,
          222.6260094903661,
          259.31830449985046,
          591.1972238728096,
          418.3716075335021,
          356.4387893983672,
          293.6753429149077,
          306.4898301315927
         ]
        },
        {
         "line": {
          "color": "black"
         },
         "mode": "lines",
         "name": "Predictions",
         "type": "scatter",
         "x": [
          "2005-01-01T00:00:00",
          "2005-02-01T00:00:00",
          "2005-03-01T00:00:00",
          "2005-04-01T00:00:00",
          "2005-05-01T00:00:00",
          "2005-06-01T00:00:00",
          "2005-07-01T00:00:00",
          "2005-08-01T00:00:00",
          "2005-09-01T00:00:00",
          "2005-10-01T00:00:00",
          "2005-11-01T00:00:00",
          "2005-12-01T00:00:00",
          "2006-01-01T00:00:00",
          "2006-02-01T00:00:00",
          "2006-03-01T00:00:00",
          "2006-04-01T00:00:00",
          "2006-05-01T00:00:00",
          "2006-06-01T00:00:00",
          "2006-07-01T00:00:00",
          "2006-08-01T00:00:00",
          "2006-09-01T00:00:00",
          "2006-10-01T00:00:00",
          "2006-11-01T00:00:00",
          "2006-12-01T00:00:00",
          "2007-01-01T00:00:00",
          "2007-02-01T00:00:00",
          "2007-03-01T00:00:00",
          "2007-04-01T00:00:00",
          "2007-05-01T00:00:00",
          "2007-06-01T00:00:00",
          "2007-07-01T00:00:00",
          "2007-08-01T00:00:00",
          "2007-09-01T00:00:00",
          "2007-10-01T00:00:00",
          "2007-11-01T00:00:00",
          "2007-12-01T00:00:00",
          "2008-01-01T00:00:00",
          "2008-02-01T00:00:00",
          "2008-03-01T00:00:00",
          "2008-04-01T00:00:00",
          "2008-05-01T00:00:00",
          "2008-06-01T00:00:00",
          "2008-07-01T00:00:00",
          "2008-08-01T00:00:00",
          "2008-09-01T00:00:00",
          "2008-10-01T00:00:00",
          "2008-11-01T00:00:00",
          "2008-12-01T00:00:00",
          "2009-01-01T00:00:00",
          "2009-02-01T00:00:00",
          "2009-03-01T00:00:00",
          "2009-04-01T00:00:00",
          "2009-05-01T00:00:00",
          "2009-06-01T00:00:00",
          "2009-07-01T00:00:00",
          "2009-08-01T00:00:00",
          "2009-09-01T00:00:00",
          "2009-10-01T00:00:00",
          "2009-11-01T00:00:00",
          "2009-12-01T00:00:00"
         ],
         "y": [
          176.7496918820771,
          244.2403615860301,
          280.69283854946775,
          299.88833848652416,
          269.83548952694514,
          275.042444720496,
          305.8618998575327,
          271.1944623244388,
          227.99573133373704,
          204.39725264775262,
          200.42589311616717,
          172.96792312737006,
          179.6320114448282,
          220.26807501297898,
          246.55790203370123,
          270.8533132963994,
          339.6867296489026,
          276.7397236924935,
          267.91556000156714,
          261.0961983301702,
          228.46853457638736,
          247.24921652959816,
          201.39701811163886,
          184.54076696116988,
          196.07433218622435,
          238.16672783736476,
          261.1845830397441,
          282.047671809395,
          259.6213064804248,
          247.2588562810641,
          275.4450746869797,
          267.2254429206087,
          254.04232193342008,
          221.2569677270924,
          201.81534179430466,
          189.4005688187479,
          203.49528474383877,
          233.7523271648475,
          240.97379910404212,
          258.31451723995883,
          274.62082662106246,
          263.9211230515532,
          246.72143369528933,
          256.6652541181662,
          268.4545004219611,
          243.23742792253597,
          207.02717778215012,
          180.36418241064504,
          205.79182342997206,
          232.66975447708154,
          275.30014708650054,
          317.18821725188695,
          290.2598534536554,
          256.7054411104027,
          240.3014261039377,
          282.4352694746195,
          253.48257647354194,
          222.72741976271075,
          203.41433478446316,
          211.6384656613235
         ]
        },
        {
         "hovertemplate": "variable=pelagic_layer_depth<br>time=%{x}<br>value=%{y}<extra></extra>",
         "legendgroup": "pelagic_layer_depth",
         "line": {
          "color": "green",
          "dash": "dash",
          "width": 1
         },
         "marker": {
          "symbol": "circle"
         },
         "mode": "lines",
         "name": "pelagic_layer_depth",
         "orientation": "v",
         "showlegend": true,
         "type": "scatter",
         "x": [
          "2005-01-01T00:00:00",
          "2005-02-01T00:00:00",
          "2005-03-01T00:00:00",
          "2005-04-01T00:00:00",
          "2005-05-01T00:00:00",
          "2005-06-01T00:00:00",
          "2005-07-01T00:00:00",
          "2005-08-01T00:00:00",
          "2005-09-01T00:00:00",
          "2005-10-01T00:00:00",
          "2005-11-01T00:00:00",
          "2005-12-01T00:00:00",
          "2006-01-01T00:00:00",
          "2006-02-01T00:00:00",
          "2006-03-01T00:00:00",
          "2006-04-01T00:00:00",
          "2006-05-01T00:00:00",
          "2006-06-01T00:00:00",
          "2006-07-01T00:00:00",
          "2006-08-01T00:00:00",
          "2006-09-01T00:00:00",
          "2006-10-01T00:00:00",
          "2006-11-01T00:00:00",
          "2006-12-01T00:00:00",
          "2007-01-01T00:00:00",
          "2007-02-01T00:00:00",
          "2007-03-01T00:00:00",
          "2007-04-01T00:00:00",
          "2007-05-01T00:00:00",
          "2007-06-01T00:00:00",
          "2007-07-01T00:00:00",
          "2007-08-01T00:00:00",
          "2007-09-01T00:00:00",
          "2007-10-01T00:00:00",
          "2007-11-01T00:00:00",
          "2007-12-01T00:00:00",
          "2008-01-01T00:00:00",
          "2008-02-01T00:00:00",
          "2008-03-01T00:00:00",
          "2008-04-01T00:00:00",
          "2008-05-01T00:00:00",
          "2008-06-01T00:00:00",
          "2008-07-01T00:00:00",
          "2008-08-01T00:00:00",
          "2008-09-01T00:00:00",
          "2008-10-01T00:00:00",
          "2008-11-01T00:00:00",
          "2008-12-01T00:00:00",
          "2009-01-01T00:00:00",
          "2009-02-01T00:00:00",
          "2009-03-01T00:00:00",
          "2009-04-01T00:00:00",
          "2009-05-01T00:00:00",
          "2009-06-01T00:00:00",
          "2009-07-01T00:00:00",
          "2009-08-01T00:00:00",
          "2009-09-01T00:00:00",
          "2009-10-01T00:00:00",
          "2009-11-01T00:00:00",
          "2009-12-01T00:00:00"
         ],
         "xaxis": "x",
         "y": [
          111.69756802186936,
          119.66947991837527,
          121.29633633486698,
          127.49425691369292,
          139.57281931411106,
          139.27651139976174,
          124.71686152432021,
          120.62199637337862,
          125.83488013928407,
          127.04231854327526,
          120.78001241102577,
          119.86374789114882,
          113.68431916230172,
          114.09328947716506,
          118.57483325365844,
          126.53136397435794,
          133.34122395194493,
          137.51595039825372,
          127.07740168200532,
          129.32714163503763,
          135.42755695594616,
          128.06511868145859,
          122.97538158269906,
          117.26430826496873,
          114.58812764101359,
          114.16482805426934,
          129.48682111285189,
          130.8275449056988,
          134.17982413900802,
          141.3721999074243,
          137.65327043788201,
          136.0695712092191,
          134.1352166376796,
          125.48712773302742,
          120.87657457381604,
          111.73518404465518,
          107.72886205336556,
          117.69765815300043,
          131.89952790385598,
          134.54273792216594,
          139.23508347629055,
          139.21035462387084,
          136.35885890307904,
          128.10338139804585,
          121.44102329471706,
          123.16921547508956,
          113.31782880314731,
          111.72887878009078,
          111.000000974678,
          118.29873156942321,
          116.5557474231523,
          124.17806499087773,
          134.13644176315907,
          143.97832023984796,
          144.1531359453601,
          130.815507419133,
          132.62853504802908,
          133.82834605790617,
          122.03754802817123,
          114.44078923657746
         ],
         "yaxis": "y2"
        }
       ],
       "layout": {
        "template": {
         "data": {
          "bar": [
           {
            "error_x": {
             "color": "#2a3f5f"
            },
            "error_y": {
             "color": "#2a3f5f"
            },
            "marker": {
             "line": {
              "color": "#E5ECF6",
              "width": 0.5
             },
             "pattern": {
              "fillmode": "overlay",
              "size": 10,
              "solidity": 0.2
             }
            },
            "type": "bar"
           }
          ],
          "barpolar": [
           {
            "marker": {
             "line": {
              "color": "#E5ECF6",
              "width": 0.5
             },
             "pattern": {
              "fillmode": "overlay",
              "size": 10,
              "solidity": 0.2
             }
            },
            "type": "barpolar"
           }
          ],
          "carpet": [
           {
            "aaxis": {
             "endlinecolor": "#2a3f5f",
             "gridcolor": "white",
             "linecolor": "white",
             "minorgridcolor": "white",
             "startlinecolor": "#2a3f5f"
            },
            "baxis": {
             "endlinecolor": "#2a3f5f",
             "gridcolor": "white",
             "linecolor": "white",
             "minorgridcolor": "white",
             "startlinecolor": "#2a3f5f"
            },
            "type": "carpet"
           }
          ],
          "choropleth": [
           {
            "colorbar": {
             "outlinewidth": 0,
             "ticks": ""
            },
            "type": "choropleth"
           }
          ],
          "contour": [
           {
            "colorbar": {
             "outlinewidth": 0,
             "ticks": ""
            },
            "colorscale": [
             [
              0,
              "#0d0887"
             ],
             [
              0.1111111111111111,
              "#46039f"
             ],
             [
              0.2222222222222222,
              "#7201a8"
             ],
             [
              0.3333333333333333,
              "#9c179e"
             ],
             [
              0.4444444444444444,
              "#bd3786"
             ],
             [
              0.5555555555555556,
              "#d8576b"
             ],
             [
              0.6666666666666666,
              "#ed7953"
             ],
             [
              0.7777777777777778,
              "#fb9f3a"
             ],
             [
              0.8888888888888888,
              "#fdca26"
             ],
             [
              1,
              "#f0f921"
             ]
            ],
            "type": "contour"
           }
          ],
          "contourcarpet": [
           {
            "colorbar": {
             "outlinewidth": 0,
             "ticks": ""
            },
            "type": "contourcarpet"
           }
          ],
          "heatmap": [
           {
            "colorbar": {
             "outlinewidth": 0,
             "ticks": ""
            },
            "colorscale": [
             [
              0,
              "#0d0887"
             ],
             [
              0.1111111111111111,
              "#46039f"
             ],
             [
              0.2222222222222222,
              "#7201a8"
             ],
             [
              0.3333333333333333,
              "#9c179e"
             ],
             [
              0.4444444444444444,
              "#bd3786"
             ],
             [
              0.5555555555555556,
              "#d8576b"
             ],
             [
              0.6666666666666666,
              "#ed7953"
             ],
             [
              0.7777777777777778,
              "#fb9f3a"
             ],
             [
              0.8888888888888888,
              "#fdca26"
             ],
             [
              1,
              "#f0f921"
             ]
            ],
            "type": "heatmap"
           }
          ],
          "heatmapgl": [
           {
            "colorbar": {
             "outlinewidth": 0,
             "ticks": ""
            },
            "colorscale": [
             [
              0,
              "#0d0887"
             ],
             [
              0.1111111111111111,
              "#46039f"
             ],
             [
              0.2222222222222222,
              "#7201a8"
             ],
             [
              0.3333333333333333,
              "#9c179e"
             ],
             [
              0.4444444444444444,
              "#bd3786"
             ],
             [
              0.5555555555555556,
              "#d8576b"
             ],
             [
              0.6666666666666666,
              "#ed7953"
             ],
             [
              0.7777777777777778,
              "#fb9f3a"
             ],
             [
              0.8888888888888888,
              "#fdca26"
             ],
             [
              1,
              "#f0f921"
             ]
            ],
            "type": "heatmapgl"
           }
          ],
          "histogram": [
           {
            "marker": {
             "pattern": {
              "fillmode": "overlay",
              "size": 10,
              "solidity": 0.2
             }
            },
            "type": "histogram"
           }
          ],
          "histogram2d": [
           {
            "colorbar": {
             "outlinewidth": 0,
             "ticks": ""
            },
            "colorscale": [
             [
              0,
              "#0d0887"
             ],
             [
              0.1111111111111111,
              "#46039f"
             ],
             [
              0.2222222222222222,
              "#7201a8"
             ],
             [
              0.3333333333333333,
              "#9c179e"
             ],
             [
              0.4444444444444444,
              "#bd3786"
             ],
             [
              0.5555555555555556,
              "#d8576b"
             ],
             [
              0.6666666666666666,
              "#ed7953"
             ],
             [
              0.7777777777777778,
              "#fb9f3a"
             ],
             [
              0.8888888888888888,
              "#fdca26"
             ],
             [
              1,
              "#f0f921"
             ]
            ],
            "type": "histogram2d"
           }
          ],
          "histogram2dcontour": [
           {
            "colorbar": {
             "outlinewidth": 0,
             "ticks": ""
            },
            "colorscale": [
             [
              0,
              "#0d0887"
             ],
             [
              0.1111111111111111,
              "#46039f"
             ],
             [
              0.2222222222222222,
              "#7201a8"
             ],
             [
              0.3333333333333333,
              "#9c179e"
             ],
             [
              0.4444444444444444,
              "#bd3786"
             ],
             [
              0.5555555555555556,
              "#d8576b"
             ],
             [
              0.6666666666666666,
              "#ed7953"
             ],
             [
              0.7777777777777778,
              "#fb9f3a"
             ],
             [
              0.8888888888888888,
              "#fdca26"
             ],
             [
              1,
              "#f0f921"
             ]
            ],
            "type": "histogram2dcontour"
           }
          ],
          "mesh3d": [
           {
            "colorbar": {
             "outlinewidth": 0,
             "ticks": ""
            },
            "type": "mesh3d"
           }
          ],
          "parcoords": [
           {
            "line": {
             "colorbar": {
              "outlinewidth": 0,
              "ticks": ""
             }
            },
            "type": "parcoords"
           }
          ],
          "pie": [
           {
            "automargin": true,
            "type": "pie"
           }
          ],
          "scatter": [
           {
            "fillpattern": {
             "fillmode": "overlay",
             "size": 10,
             "solidity": 0.2
            },
            "type": "scatter"
           }
          ],
          "scatter3d": [
           {
            "line": {
             "colorbar": {
              "outlinewidth": 0,
              "ticks": ""
             }
            },
            "marker": {
             "colorbar": {
              "outlinewidth": 0,
              "ticks": ""
             }
            },
            "type": "scatter3d"
           }
          ],
          "scattercarpet": [
           {
            "marker": {
             "colorbar": {
              "outlinewidth": 0,
              "ticks": ""
             }
            },
            "type": "scattercarpet"
           }
          ],
          "scattergeo": [
           {
            "marker": {
             "colorbar": {
              "outlinewidth": 0,
              "ticks": ""
             }
            },
            "type": "scattergeo"
           }
          ],
          "scattergl": [
           {
            "marker": {
             "colorbar": {
              "outlinewidth": 0,
              "ticks": ""
             }
            },
            "type": "scattergl"
           }
          ],
          "scattermapbox": [
           {
            "marker": {
             "colorbar": {
              "outlinewidth": 0,
              "ticks": ""
             }
            },
            "type": "scattermapbox"
           }
          ],
          "scatterpolar": [
           {
            "marker": {
             "colorbar": {
              "outlinewidth": 0,
              "ticks": ""
             }
            },
            "type": "scatterpolar"
           }
          ],
          "scatterpolargl": [
           {
            "marker": {
             "colorbar": {
              "outlinewidth": 0,
              "ticks": ""
             }
            },
            "type": "scatterpolargl"
           }
          ],
          "scatterternary": [
           {
            "marker": {
             "colorbar": {
              "outlinewidth": 0,
              "ticks": ""
             }
            },
            "type": "scatterternary"
           }
          ],
          "surface": [
           {
            "colorbar": {
             "outlinewidth": 0,
             "ticks": ""
            },
            "colorscale": [
             [
              0,
              "#0d0887"
             ],
             [
              0.1111111111111111,
              "#46039f"
             ],
             [
              0.2222222222222222,
              "#7201a8"
             ],
             [
              0.3333333333333333,
              "#9c179e"
             ],
             [
              0.4444444444444444,
              "#bd3786"
             ],
             [
              0.5555555555555556,
              "#d8576b"
             ],
             [
              0.6666666666666666,
              "#ed7953"
             ],
             [
              0.7777777777777778,
              "#fb9f3a"
             ],
             [
              0.8888888888888888,
              "#fdca26"
             ],
             [
              1,
              "#f0f921"
             ]
            ],
            "type": "surface"
           }
          ],
          "table": [
           {
            "cells": {
             "fill": {
              "color": "#EBF0F8"
             },
             "line": {
              "color": "white"
             }
            },
            "header": {
             "fill": {
              "color": "#C8D4E3"
             },
             "line": {
              "color": "white"
             }
            },
            "type": "table"
           }
          ]
         },
         "layout": {
          "annotationdefaults": {
           "arrowcolor": "#2a3f5f",
           "arrowhead": 0,
           "arrowwidth": 1
          },
          "autotypenumbers": "strict",
          "coloraxis": {
           "colorbar": {
            "outlinewidth": 0,
            "ticks": ""
           }
          },
          "colorscale": {
           "diverging": [
            [
             0,
             "#8e0152"
            ],
            [
             0.1,
             "#c51b7d"
            ],
            [
             0.2,
             "#de77ae"
            ],
            [
             0.3,
             "#f1b6da"
            ],
            [
             0.4,
             "#fde0ef"
            ],
            [
             0.5,
             "#f7f7f7"
            ],
            [
             0.6,
             "#e6f5d0"
            ],
            [
             0.7,
             "#b8e186"
            ],
            [
             0.8,
             "#7fbc41"
            ],
            [
             0.9,
             "#4d9221"
            ],
            [
             1,
             "#276419"
            ]
           ],
           "sequential": [
            [
             0,
             "#0d0887"
            ],
            [
             0.1111111111111111,
             "#46039f"
            ],
            [
             0.2222222222222222,
             "#7201a8"
            ],
            [
             0.3333333333333333,
             "#9c179e"
            ],
            [
             0.4444444444444444,
             "#bd3786"
            ],
            [
             0.5555555555555556,
             "#d8576b"
            ],
            [
             0.6666666666666666,
             "#ed7953"
            ],
            [
             0.7777777777777778,
             "#fb9f3a"
            ],
            [
             0.8888888888888888,
             "#fdca26"
            ],
            [
             1,
             "#f0f921"
            ]
           ],
           "sequentialminus": [
            [
             0,
             "#0d0887"
            ],
            [
             0.1111111111111111,
             "#46039f"
            ],
            [
             0.2222222222222222,
             "#7201a8"
            ],
            [
             0.3333333333333333,
             "#9c179e"
            ],
            [
             0.4444444444444444,
             "#bd3786"
            ],
            [
             0.5555555555555556,
             "#d8576b"
            ],
            [
             0.6666666666666666,
             "#ed7953"
            ],
            [
             0.7777777777777778,
             "#fb9f3a"
            ],
            [
             0.8888888888888888,
             "#fdca26"
            ],
            [
             1,
             "#f0f921"
            ]
           ]
          },
          "colorway": [
           "#636efa",
           "#EF553B",
           "#00cc96",
           "#ab63fa",
           "#FFA15A",
           "#19d3f3",
           "#FF6692",
           "#B6E880",
           "#FF97FF",
           "#FECB52"
          ],
          "font": {
           "color": "#2a3f5f"
          },
          "geo": {
           "bgcolor": "white",
           "lakecolor": "white",
           "landcolor": "#E5ECF6",
           "showlakes": true,
           "showland": true,
           "subunitcolor": "white"
          },
          "hoverlabel": {
           "align": "left"
          },
          "hovermode": "closest",
          "mapbox": {
           "style": "light"
          },
          "paper_bgcolor": "white",
          "plot_bgcolor": "#E5ECF6",
          "polar": {
           "angularaxis": {
            "gridcolor": "white",
            "linecolor": "white",
            "ticks": ""
           },
           "bgcolor": "#E5ECF6",
           "radialaxis": {
            "gridcolor": "white",
            "linecolor": "white",
            "ticks": ""
           }
          },
          "scene": {
           "xaxis": {
            "backgroundcolor": "#E5ECF6",
            "gridcolor": "white",
            "gridwidth": 2,
            "linecolor": "white",
            "showbackground": true,
            "ticks": "",
            "zerolinecolor": "white"
           },
           "yaxis": {
            "backgroundcolor": "#E5ECF6",
            "gridcolor": "white",
            "gridwidth": 2,
            "linecolor": "white",
            "showbackground": true,
            "ticks": "",
            "zerolinecolor": "white"
           },
           "zaxis": {
            "backgroundcolor": "#E5ECF6",
            "gridcolor": "white",
            "gridwidth": 2,
            "linecolor": "white",
            "showbackground": true,
            "ticks": "",
            "zerolinecolor": "white"
           }
          },
          "shapedefaults": {
           "line": {
            "color": "#2a3f5f"
           }
          },
          "ternary": {
           "aaxis": {
            "gridcolor": "white",
            "linecolor": "white",
            "ticks": ""
           },
           "baxis": {
            "gridcolor": "white",
            "linecolor": "white",
            "ticks": ""
           },
           "bgcolor": "#E5ECF6",
           "caxis": {
            "gridcolor": "white",
            "linecolor": "white",
            "ticks": ""
           }
          },
          "title": {
           "x": 0.05
          },
          "xaxis": {
           "automargin": true,
           "gridcolor": "white",
           "linecolor": "white",
           "ticks": "",
           "title": {
            "standoff": 15
           },
           "zerolinecolor": "white",
           "zerolinewidth": 2
          },
          "yaxis": {
           "automargin": true,
           "gridcolor": "white",
           "linecolor": "white",
           "ticks": "",
           "title": {
            "standoff": 15
           },
           "zerolinecolor": "white",
           "zerolinewidth": 2
          }
         }
        },
        "title": {
         "text": "SeapoPym Monthly Biomass (CAFE npp) and Observations : HOT station"
        },
        "xaxis": {
         "title": {
          "text": "Time"
         }
        },
        "yaxis": {
         "title": {
          "text": "Biomass . Epipelagic layer depth (mg/m^2)"
         }
        },
        "yaxis2": {
         "overlaying": "y",
         "side": "right",
         "title": {
          "text": "Layer Depth (m)"
         }
        }
       }
      }
     },
     "metadata": {},
     "output_type": "display_data"
    }
   ],
   "source": [
    "fig = go.Figure(\n",
    "    layout={\n",
    "        \"title\": \"SeapoPym Monthly Biomass during day (CAFE npp) and Observations : HOT station + E coeff. optimization\",\n",
    "        \"xaxis\": {\"title\": \"Time\"},\n",
    "        \"yaxis\": {\"title\": \"Biomass . Epipelagic layer depth (mg/m^2)\"},\n",
    "    }\n",
    ")\n",
    "\n",
    "\n",
    "fig.add_trace(\n",
    "    go.Scatter(\n",
    "        x=monthly_obs_day.index,\n",
    "        y=monthly_obs_day,\n",
    "        fill=None,\n",
    "        mode=\"lines\",\n",
    "        line={\"color\": \"red\", \"width\": 1},\n",
    "        name=\"Observations (day)\",\n",
    "    )\n",
    ")\n",
    "\n",
    "fig.add_trace(\n",
    "    go.Scatter(\n",
    "        x=monthly_obs_night.index,\n",
    "        y=monthly_obs_night,\n",
    "        fill=\"tonexty\",\n",
    "        mode=\"lines\",\n",
    "        line={\"color\": \"rgba(180, 180, 180, 0.2)\", \"width\": 1},\n",
    "        name=\"Observations (night)\",\n",
    "    )\n",
    ")\n",
    "fig.add_trace(\n",
    "    go.Scatter(\n",
    "        x=monthly_pred.index,\n",
    "        y=monthly_pred,\n",
    "        fill=None,\n",
    "        mode=\"lines\",\n",
    "        line={\"color\": \"black\"},\n",
    "        name=\"Predictions\",\n",
    "    )\n",
    ")\n",
    "fig.add_trace(px.line(monthly_layer).data[0])\n",
    "fig.update_traces(\n",
    "    yaxis=\"y2\",\n",
    "    selector={\"name\": \"pelagic_layer_depth\"},\n",
    "    line={\"color\": \"green\", \"width\": 1, \"dash\": \"dash\"},\n",
    ")\n",
    "fig.update_layout(yaxis2={\"title\": \"Layer Depth (m)\", \"overlaying\": \"y\", \"side\": \"right\"})\n",
    "\n",
    "fig.show()"
   ]
  },
  {
   "cell_type": "code",
   "execution_count": 29,
   "metadata": {},
   "outputs": [],
   "source": [
    "fig.write_html(f\"Biomass_{export_file_name}.html\")"
   ]
  },
  {
   "cell_type": "code",
   "execution_count": 30,
   "metadata": {},
   "outputs": [
    {
     "name": "stdout",
     "output_type": "stream",
     "text": [
      "correlation [0.5099298854265525, 0.45078763840407193]\n",
      "norm STD [0.3905087279973812, 0.30937591765393757]\n",
      "bias [-0.009609543278766772, -1.2815961382578605]\n",
      "NRMSE [0.8684658454945628, 0.9037631215244366]\n",
      "name ['HOT Day', 'HOT Night']\n"
     ]
    },
    {
     "data": {
      "image/png": "[encoded data removed]",
      "text/plain": [
       "<Figure size 1000x800 with 2 Axes>"
      ]
     },
     "metadata": {},
     "output_type": "display_data"
    }
   ],
   "source": [
    "diagram = ModTaylorDiagram()\n",
    "\n",
    "all_model = [monthly_pred]\n",
    "all_obs = [monthly_obs_day]\n",
    "\n",
    "all_names = [\"HOT Day\"]\n",
    "\n",
    "for model, obs, name in zip(all_model, all_obs, all_names):\n",
    "    diagram = generate_mod_taylor_diagram(diagram, obs=obs, model=model[obs.index], name=name)\n",
    "diagram.plot()\n",
    "plt.title(\"Taylor Diagram for Seapodym model during day (CAFE npp) : HOT station + E coeff. optimization\")\n",
    "\n",
    "# export the figure\n",
    "plt.savefig(f\"Taylor_{export_file_name}.png\")\n",
    "\n",
    "plt.show()"
   ]
  },
  {
   "cell_type": "code",
   "execution_count": 32,
   "metadata": {},
   "outputs": [
    {
     "data": {
      "text/html": [
       "<div>\n",
       "<style scoped>\n",
       "    .dataframe tbody tr th:only-of-type {\n",
       "        vertical-align: middle;\n",
       "    }\n",
       "\n",
       "    .dataframe tbody tr th {\n",
       "        vertical-align: top;\n",
       "    }\n",
       "\n",
       "    .dataframe thead th {\n",
       "        text-align: right;\n",
       "    }\n",
       "</style>\n",
       "<table border=\"1\" class=\"dataframe\">\n",
       "  <thead>\n",
       "    <tr style=\"text-align: right;\">\n",
       "      <th></th>\n",
       "      <th>name</th>\n",
       "      <th>correlation_coefficient</th>\n",
       "      <th>normalized_standard_deviation</th>\n",
       "      <th>bias</th>\n",
       "      <th>normalized_root_mean_square_deviation</th>\n",
       "    </tr>\n",
       "  </thead>\n",
       "  <tbody>\n",
       "    <tr>\n",
       "      <th>0</th>\n",
       "      <td>HOT Day</td>\n",
       "      <td>0.509930</td>\n",
       "      <td>0.390509</td>\n",
       "      <td>-0.009610</td>\n",
       "      <td>0.868466</td>\n",
       "    </tr>\n",
       "    <tr>\n",
       "      <th>1</th>\n",
       "      <td>HOT Night</td>\n",
       "      <td>0.450788</td>\n",
       "      <td>0.309376</td>\n",
       "      <td>-1.281596</td>\n",
       "      <td>0.903763</td>\n",
       "    </tr>\n",
       "  </tbody>\n",
       "</table>\n",
       "</div>"
      ],
      "text/plain": [
       "        name  correlation_coefficient  normalized_standard_deviation  \\\n",
       "0    HOT Day                 0.509930                       0.390509   \n",
       "1  HOT Night                 0.450788                       0.309376   \n",
       "\n",
       "       bias  normalized_root_mean_square_deviation  \n",
       "0 -0.009610                               0.868466  \n",
       "1 -1.281596                               0.903763  "
      ]
     },
     "execution_count": 32,
     "metadata": {},
     "output_type": "execute_result"
    }
   ],
   "source": [
    "diagram.get_stats().to_csv(f\"Stats_{export_file_name}.csv\", index=False)\n",
    "diagram.get_stats()"
   ]
  }
 ],
 "metadata": {
  "kernelspec": {
   "display_name": ".venv",
   "language": "python",
   "name": "python3"
  },
  "language_info": {
   "codemirror_mode": {
    "name": "ipython",
    "version": 3
   },
   "file_extension": ".py",
   "mimetype": "text/x-python",
   "name": "python",
   "nbconvert_exporter": "python",
   "pygments_lexer": "ipython3",
   "version": "3.12.8"
  }
 },
 "nbformat": 4,
 "nbformat_minor": 2
}
