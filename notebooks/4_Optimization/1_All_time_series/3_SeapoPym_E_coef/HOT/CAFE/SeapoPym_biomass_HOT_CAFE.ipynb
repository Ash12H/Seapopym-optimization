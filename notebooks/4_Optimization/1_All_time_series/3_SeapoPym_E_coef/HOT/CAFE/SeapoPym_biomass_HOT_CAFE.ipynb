{
 "cells": [
  {
   "cell_type": "code",
   "execution_count": 1,
   "metadata": {},
   "outputs": [],
   "source": [
    "import matplotlib.pyplot as plt\n",
    "import pandas as pd\n",
    "import pint\n",
    "import plotly.express as px\n",
    "import plotly.graph_objects as go\n",
    "import xarray as xr\n",
    "from dask.distributed import Client\n",
    "from seapopym.configuration.no_transport.parameter import ForcingParameters\n",
    "from seapopym.configuration.parameters.parameter_forcing import ForcingUnit\n",
    "from seapopym.standard.units import StandardUnitsLabels\n",
    "\n",
    "from seapopym_optimization import Observation, constraint, wrapper\n",
    "from seapopym_optimization.cost_function import NoTransportCostFunction\n",
    "from seapopym_optimization.functional_groups import FunctionalGroupOptimizeNoTransport, Parameter\n",
    "from seapopym_optimization.genetic_algorithm import GeneticAlgorithm, GeneticAlgorithmParameters\n",
    "from seapopym_optimization.taylor_diagram import ModTaylorDiagram, generate_mod_taylor_diagram"
   ]
  },
  {
   "cell_type": "markdown",
   "metadata": {},
   "source": [
    "## Load forcing\n"
   ]
  },
  {
   "cell_type": "code",
   "execution_count": 2,
   "metadata": {},
   "outputs": [],
   "source": [
    "LATITUDE = 22.75\n",
    "LONGITUDE = -158\n",
    "TIME_START = \"2005-01-01\"\n",
    "TIME_END = \"2010-01-01\""
   ]
  },
  {
   "cell_type": "code",
   "execution_count": 3,
   "metadata": {},
   "outputs": [],
   "source": [
    "path_to_forcing = \"../../../../../1_data_processing/1_1_Forcing/products/Hot_cmems.zarr\"\n",
    "path_to_cafe = \"../../../../../1_data_processing/1_1_Forcing/products/Hot_cafe.zarr\"\n",
    "path_to_obs = \"../../../../../1_data_processing/1_1_Forcing/products/Hot_obs_filtered.zarr\"\n",
    "export_file_name = \"SeapoPym_HOT_CAFE_optimize_E_coeff\""
   ]
  },
  {
   "cell_type": "markdown",
   "metadata": {},
   "source": [
    "Load forcing.\n"
   ]
  },
  {
   "cell_type": "code",
   "execution_count": 4,
   "metadata": {},
   "outputs": [],
   "source": [
    "data = xr.open_dataset(path_to_forcing, engine=\"zarr\")\n",
    "data[\"T\"].attrs[\"units\"] = StandardUnitsLabels.temperature.units\n",
    "data.time.attrs[\"axis\"] = \"T\"\n",
    "data.npp.attrs[\"units\"] = \"mg/meter^2/day\"\n",
    "data = data.sel(time=slice(TIME_START, TIME_END))\n",
    "_ = data.load()\n",
    "\n",
    "cafe_npp = xr.open_dataset(path_to_cafe, engine=\"zarr\")\n",
    "cafe_npp = cafe_npp.sel(time=slice(TIME_START, TIME_END))\n",
    "cafe_npp = cafe_npp.dropna(\"time\", how=\"all\")\n",
    "cafe_npp = cafe_npp.resample(time=\"D\").interpolate(\"linear\")\n",
    "cafe_npp.time.attrs[\"axis\"] = \"T\"\n",
    "_ = cafe_npp.load()"
   ]
  },
  {
   "cell_type": "markdown",
   "metadata": {},
   "source": [
    "Load observations.\n",
    "\n",
    "First I multiply the observations by the epipelagic layer depth to have a biomass in m2 rather than m3.\n"
   ]
  },
  {
   "cell_type": "code",
   "execution_count": null,
   "metadata": {},
   "outputs": [],
   "source": [
    "epi_layer_depth = (\n",
    "    data[\"pelagic_layer_depth\"].sel(latitude=LATITUDE, longitude=LONGITUDE, method=\"nearest\", depth=1).load()\n",
    ")\n",
    "epi_layer_depth = epi_layer_depth.resample(time=\"1D\").mean()\n",
    "epi_layer_depth.attrs[\"units\"] = \"meter\"\n",
    "epi_layer_depth = epi_layer_depth.pint.quantify()\n",
    "epi_layer_depth"
   ]
  },
  {
   "cell_type": "code",
   "execution_count": null,
   "metadata": {},
   "outputs": [],
   "source": [
    "with xr.set_options(keep_attrs=True):\n",
    "    observations = xr.open_zarr(path_to_obs).load()\n",
    "    observations = observations.sel(latitude=[LATITUDE], longitude=[LONGITUDE], method=\"nearest\")\n",
    "    observations = observations.resample(time=\"1D\").mean().dropna(\"time\")\n",
    "    observations = observations.pint.quantify().pint.to(\"mg/m^3\")\n",
    "    observations = observations * epi_layer_depth\n",
    "    observations = observations.drop_vars(\"depth\")\n",
    "    layer_attrs = observations.layer.attrs\n",
    "    observations = observations.assign_coords(layer=[1])\n",
    "    observations.layer.attrs = layer_attrs\n",
    "observations"
   ]
  },
  {
   "cell_type": "code",
   "execution_count": 7,
   "metadata": {},
   "outputs": [],
   "source": [
    "observations_opti = [Observation(observations.drop_vars(\"night\"))]"
   ]
  },
  {
   "cell_type": "markdown",
   "metadata": {},
   "source": [
    "Create structure for SeapoPym simulation.\n"
   ]
  },
  {
   "cell_type": "code",
   "execution_count": null,
   "metadata": {},
   "outputs": [],
   "source": [
    "forcing_parameters = ForcingParameters(\n",
    "    temperature=ForcingUnit(forcing=data[\"T\"], resolution=1 / 12, timestep=1),\n",
    "    primary_production=ForcingUnit(forcing=cafe_npp[\"CAFE\"], resolution=1 / 12, timestep=1),\n",
    ")"
   ]
  },
  {
   "cell_type": "markdown",
   "metadata": {},
   "source": [
    "## Setup the parameters and the cost function\n"
   ]
  },
  {
   "cell_type": "code",
   "execution_count": 9,
   "metadata": {},
   "outputs": [],
   "source": [
    "functional_groups = [\n",
    "    FunctionalGroupOptimizeNoTransport(\n",
    "        name=\"D1N1\",\n",
    "        day_layer=1,\n",
    "        night_layer=1,\n",
    "        energy_coefficient=Parameter(\"D1N1_energy_coefficient\", 0.05, 0.8),\n",
    "        tr_rate=-0.11,\n",
    "        tr_max=10.38,\n",
    "        inv_lambda_rate=0.15,\n",
    "        inv_lambda_max=150,\n",
    "    )\n",
    "]\n",
    "# [1, 1, 0.1668, 10.38, -0.11, 150, 0.15]"
   ]
  },
  {
   "cell_type": "code",
   "execution_count": 10,
   "metadata": {},
   "outputs": [],
   "source": [
    "cost_function = NoTransportCostFunction(\n",
    "    functional_groups=functional_groups,\n",
    "    forcing_parameters=forcing_parameters,\n",
    "    observations=observations_opti,\n",
    ")"
   ]
  },
  {
   "cell_type": "markdown",
   "metadata": {},
   "source": [
    "Set the genetic algorithm meta parameters.\n"
   ]
  },
  {
   "cell_type": "code",
   "execution_count": 11,
   "metadata": {},
   "outputs": [],
   "source": [
    "genetic_algo_parameters = GeneticAlgorithmParameters(\n",
    "    MUTPB=1,\n",
    "    INDPB=1,\n",
    "    ETA=5,\n",
    "    # CXPB=0.8,\n",
    "    CXPB=0,\n",
    "    NGEN=2,\n",
    "    POP_SIZE=10,\n",
    "    cost_function_weight=(-1,),\n",
    ")"
   ]
  },
  {
   "cell_type": "markdown",
   "metadata": {},
   "source": [
    "Add a constraint to limit the total of energy transfert coefficient to 100%.\n"
   ]
  },
  {
   "cell_type": "code",
   "execution_count": 12,
   "metadata": {},
   "outputs": [],
   "source": [
    "# constraint_energy = constraint.ConstraintNoTransportEnergyCoefficient(\n",
    "#     parameters_name=[\"D1N1_energy_coefficient\", \"D2N1_energy_coefficient\"],\n",
    "#     min_energy_coef_value=0,\n",
    "#     max_energy_coef_value=1,\n",
    "# )"
   ]
  },
  {
   "cell_type": "markdown",
   "metadata": {},
   "source": [
    "Finaly, create the Genetic Algorithm.\n"
   ]
  },
  {
   "cell_type": "code",
   "execution_count": 13,
   "metadata": {},
   "outputs": [],
   "source": [
    "client = Client()\n",
    "genetic_algo = GeneticAlgorithm(\n",
    "    cost_function=cost_function,\n",
    "    parameter_genetic_algorithm=genetic_algo_parameters,\n",
    "    # constraint=[constraint_energy],\n",
    "    client=client,\n",
    ")"
   ]
  },
  {
   "cell_type": "markdown",
   "metadata": {},
   "source": [
    "And watch the magic on the Dask dashboard :\n"
   ]
  },
  {
   "cell_type": "code",
   "execution_count": null,
   "metadata": {},
   "outputs": [],
   "source": [
    "genetic_algo.client"
   ]
  },
  {
   "cell_type": "markdown",
   "metadata": {},
   "source": [
    "## Run the optimization\n"
   ]
  },
  {
   "cell_type": "code",
   "execution_count": null,
   "metadata": {},
   "outputs": [],
   "source": [
    "viewer = genetic_algo.optimize()"
   ]
  },
  {
   "cell_type": "markdown",
   "metadata": {},
   "source": [
    "## Plot the results\n"
   ]
  },
  {
   "cell_type": "code",
   "execution_count": null,
   "metadata": {},
   "outputs": [],
   "source": [
    "viewer.stats"
   ]
  },
  {
   "cell_type": "code",
   "execution_count": null,
   "metadata": {},
   "outputs": [],
   "source": [
    "viewer.hall_of_fame"
   ]
  },
  {
   "cell_type": "code",
   "execution_count": null,
   "metadata": {},
   "outputs": [],
   "source": [
    "viewer.fitness_evolution()"
   ]
  },
  {
   "cell_type": "code",
   "execution_count": null,
   "metadata": {},
   "outputs": [],
   "source": [
    "viewer.box_plot(1, nbest=1000)"
   ]
  },
  {
   "cell_type": "markdown",
   "metadata": {},
   "source": [
    "# Generate plots at each station\n"
   ]
  },
  {
   "cell_type": "code",
   "execution_count": null,
   "metadata": {},
   "outputs": [],
   "source": [
    "best_individual = cost_function.functional_groups.generate_matrix(viewer.hall_of_fame.iloc[0])\n",
    "print(f\"Best individual: {list(best_individual[0])}\")"
   ]
  },
  {
   "cell_type": "markdown",
   "metadata": {},
   "source": [
    "## Run simulation\n"
   ]
  },
  {
   "cell_type": "code",
   "execution_count": 21,
   "metadata": {},
   "outputs": [],
   "source": [
    "model_print = wrapper.model_generator_no_transport(\n",
    "    forcing_parameters=forcing_parameters,\n",
    "    fg_parameters=wrapper.FunctionalGroupGeneratorNoTransport(parameters=best_individual, groups_name=[\"D1N1\"]),\n",
    ")\n",
    "\n",
    "model_print.run()"
   ]
  },
  {
   "cell_type": "markdown",
   "metadata": {},
   "source": [
    "## Plot\n"
   ]
  },
  {
   "cell_type": "code",
   "execution_count": 22,
   "metadata": {},
   "outputs": [],
   "source": [
    "biomass = model_print.export_biomass().pint.quantify().pint.to(\"mg/meter^2\")\n",
    "layer_depth = data.pelagic_layer_depth.sel(depth=1).drop_vars(\"depth\") * pint.application_registry(\"meter\")\n",
    "observations = observations.pint.quantify().pint.to(\"mg/meter^2\")"
   ]
  },
  {
   "cell_type": "markdown",
   "metadata": {},
   "source": [
    "### Taylor Diagram\n"
   ]
  },
  {
   "cell_type": "code",
   "execution_count": 23,
   "metadata": {},
   "outputs": [],
   "source": [
    "biomass_pandas = biomass.pint.dequantify().to_dataframe().reset_index().set_index(\"time\")[\"biomass\"]\n",
    "observations_day_pandas = (\n",
    "    observations.pint.dequantify().day.dropna(\"time\").to_dataframe().reset_index().set_index(\"time\")[\"day\"]\n",
    ")\n",
    "observations_night_pandas = (\n",
    "    observations.pint.dequantify().night.dropna(\"time\").to_dataframe().reset_index().set_index(\"time\")[\"night\"]\n",
    ")\n",
    "layer_pandas = layer_depth.pint.dequantify().to_dataframe().reset_index().set_index(\"time\")[\"pelagic_layer_depth\"]\n",
    "\n",
    "monthly_obs_day = observations_day_pandas.resample(\"ME\").mean()[TIME_START:TIME_END].dropna()\n",
    "monthly_obs_day.index = monthly_obs_day.index.to_period(\"M\").to_timestamp()\n",
    "\n",
    "monthly_obs_night = observations_night_pandas.resample(\"ME\").mean()[TIME_START:TIME_END].dropna()\n",
    "monthly_obs_night.index = monthly_obs_night.index.to_period(\"M\").to_timestamp()\n",
    "\n",
    "monthly_pred = biomass_pandas.resample(\"ME\").mean()[TIME_START:TIME_END].dropna()\n",
    "monthly_pred.index = monthly_pred.index.to_period(\"M\").to_timestamp()\n",
    "\n",
    "monthly_layer = layer_pandas.resample(\"ME\").mean()[TIME_START:TIME_END].dropna()\n",
    "monthly_layer.index = monthly_layer.index.to_period(\"M\").to_timestamp()"
   ]
  },
  {
   "cell_type": "code",
   "execution_count": null,
   "metadata": {},
   "outputs": [],
   "source": [
    "fig = go.Figure(\n",
    "    layout={\n",
    "        \"title\": \"SeapoPym Monthly Biomass (CAFE npp) and Observations : HOT station\",\n",
    "        \"xaxis\": {\"title\": \"Time\"},\n",
    "        \"yaxis\": {\"title\": \"Biomass . Epipelagic layer depth (mg/m^2)\"},\n",
    "    }\n",
    ")\n",
    "\n",
    "\n",
    "fig.add_trace(\n",
    "    go.Scatter(\n",
    "        x=monthly_obs_day.index,\n",
    "        y=monthly_obs_day,\n",
    "        fill=None,\n",
    "        mode=\"lines\",\n",
    "        line={\"color\": \"red\", \"width\": 1},\n",
    "        name=\"Observations (day)\",\n",
    "    )\n",
    ")\n",
    "\n",
    "fig.add_trace(\n",
    "    go.Scatter(\n",
    "        x=monthly_obs_night.index,\n",
    "        y=monthly_obs_night,\n",
    "        fill=\"tonexty\",\n",
    "        mode=\"lines\",\n",
    "        line={\"color\": \"rgba(180, 180, 180, 0.2)\", \"width\": 1},\n",
    "        name=\"Observations (night)\",\n",
    "    )\n",
    ")\n",
    "fig.add_trace(\n",
    "    go.Scatter(\n",
    "        x=monthly_pred.index,\n",
    "        y=monthly_pred,\n",
    "        fill=None,\n",
    "        mode=\"lines\",\n",
    "        line={\"color\": \"black\"},\n",
    "        name=\"Predictions\",\n",
    "    )\n",
    ")\n",
    "fig.add_trace(px.line(monthly_layer).data[0])\n",
    "fig.update_traces(\n",
    "    yaxis=\"y2\",\n",
    "    selector={\"name\": \"pelagic_layer_depth\"},\n",
    "    line={\"color\": \"green\", \"width\": 1, \"dash\": \"dash\"},\n",
    ")\n",
    "fig.update_layout(yaxis2={\"title\": \"Layer Depth (m)\", \"overlaying\": \"y\", \"side\": \"right\"})\n",
    "\n",
    "fig.show()"
   ]
  },
  {
   "cell_type": "code",
   "execution_count": 25,
   "metadata": {},
   "outputs": [],
   "source": [
    "fig.write_html(f\"Biomass_{export_file_name}.html\")"
   ]
  },
  {
   "cell_type": "code",
   "execution_count": null,
   "metadata": {},
   "outputs": [],
   "source": [
    "diagram = ModTaylorDiagram()\n",
    "\n",
    "all_model = [monthly_pred, monthly_pred]\n",
    "all_obs = [monthly_obs_day, monthly_obs_night]\n",
    "\n",
    "all_names = [\"HOT Day\", \"HOT Night\"]\n",
    "\n",
    "for model, obs, name in zip(all_model, all_obs, all_names):\n",
    "    diagram = generate_mod_taylor_diagram(diagram, obs=obs, model=model[obs.index], name=name)\n",
    "diagram.plot()\n",
    "plt.title(\"Taylor Diagram for Seapodym model at HOT station with CAFE NPP\")\n",
    "\n",
    "# export the figure\n",
    "plt.savefig(f\"Taylor_{export_file_name}.png\")\n",
    "\n",
    "plt.show()"
   ]
  },
  {
   "cell_type": "code",
   "execution_count": null,
   "metadata": {},
   "outputs": [],
   "source": [
    "diagram.get_stats().to_csv(f\"Stats_{export_file_name}.csv\", index=False)\n",
    "diagram.get_stats()"
   ]
  }
 ],
 "metadata": {
  "kernelspec": {
   "display_name": ".venv",
   "language": "python",
   "name": "python3"
  },
  "language_info": {
   "codemirror_mode": {
    "name": "ipython",
    "version": 3
   },
   "file_extension": ".py",
   "mimetype": "text/x-python",
   "name": "python",
   "nbconvert_exporter": "python",
   "pygments_lexer": "ipython3",
   "version": "3.12.8"
  }
 },
 "nbformat": 4,
 "nbformat_minor": 2
}
