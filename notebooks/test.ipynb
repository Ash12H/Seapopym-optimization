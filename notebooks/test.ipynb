{
 "cells": [
  {
   "cell_type": "code",
   "execution_count": 1,
   "metadata": {},
   "outputs": [],
   "source": [
    "import pint\n",
    "import xarray as xr\n",
    "from dask.distributed import Client\n",
    "from seapopym.configuration.no_transport.parameter import ForcingParameters\n",
    "from seapopym.configuration.parameters.parameter_forcing import ForcingUnit\n",
    "from seapopym.standard.units import StandardUnitsLabels\n",
    "\n",
    "from seapopym_optimization import (\n",
    "    FunctionalGroupOptimizeNoTransport,\n",
    "    GeneticAlgorithm,\n",
    "    GeneticAlgorithmParameters,\n",
    "    NoTransportCostFunction,\n",
    "    Observation,\n",
    "    Parameter,\n",
    "    constraint,\n",
    ")"
   ]
  },
  {
   "cell_type": "markdown",
   "metadata": {},
   "source": [
    "Load forcing.\n"
   ]
  },
  {
   "cell_type": "code",
   "execution_count": 2,
   "metadata": {},
   "outputs": [],
   "source": [
    "time_start, time_end = \"1998-01-01\", \"2022-01-01\"\n",
    "\n",
    "data = xr.open_dataset(\"1_data_processing/1_1_Forcing/products/all_stations_cmems.zarr\", engine=\"zarr\")\n",
    "data[\"T\"].attrs[\"units\"] = StandardUnitsLabels.temperature.units\n",
    "data.time.attrs[\"axis\"] = \"T\"\n",
    "data = data.sel(time=slice(time_start, time_end))\n",
    "_ = data.load()\n",
    "\n",
    "cafe_npp = xr.open_dataset(\"1_data_processing/1_1_Forcing/products/all_stations_cafe.zarr\", engine=\"zarr\")\n",
    "cafe_npp = cafe_npp.sel(time=slice(time_start, time_end))\n",
    "cafe_npp = cafe_npp.dropna(\"time\", how=\"all\")\n",
    "cafe_npp = cafe_npp.resample(time=\"D\").interpolate(\"linear\")\n",
    "cafe_npp.time.attrs[\"axis\"] = \"T\"\n",
    "_ = cafe_npp.load()"
   ]
  },
  {
   "cell_type": "code",
   "execution_count": 3,
   "metadata": {},
   "outputs": [
    {
     "data": {
      "text/html": [
       "<div><svg style=\"position: absolute; width: 0; height: 0; overflow: hidden\">\n",
       "<defs>\n",
       "<symbol id=\"icon-database\" viewBox=\"0 0 32 32\">\n",
       "<path d=\"M16 0c-8.837 0-16 2.239-16 5v4c0 2.761 7.163 5 16 5s16-2.239 16-5v-4c0-2.761-7.163-5-16-5z\"></path>\n",
       "<path d=\"M16 17c-8.837 0-16-2.239-16-5v6c0 2.761 7.163 5 16 5s16-2.239 16-5v-6c0 2.761-7.163 5-16 5z\"></path>\n",
       "<path d=\"M16 26c-8.837 0-16-2.239-16-5v6c0 2.761 7.163 5 16 5s16-2.239 16-5v-6c0 2.761-7.163 5-16 5z\"></path>\n",
       "</symbol>\n",
       "<symbol id=\"icon-file-text2\" viewBox=\"0 0 32 32\">\n",
       "<path d=\"M28.681 7.159c-0.694-0.947-1.662-2.053-2.724-3.116s-2.169-2.030-3.116-2.724c-1.612-1.182-2.393-1.319-2.841-1.319h-15.5c-1.378 0-2.5 1.121-2.5 2.5v27c0 1.378 1.122 2.5 2.5 2.5h23c1.378 0 2.5-1.122 2.5-2.5v-19.5c0-0.448-0.137-1.23-1.319-2.841zM24.543 5.457c0.959 0.959 1.712 1.825 2.268 2.543h-4.811v-4.811c0.718 0.556 1.584 1.309 2.543 2.268zM28 29.5c0 0.271-0.229 0.5-0.5 0.5h-23c-0.271 0-0.5-0.229-0.5-0.5v-27c0-0.271 0.229-0.5 0.5-0.5 0 0 15.499-0 15.5 0v7c0 0.552 0.448 1 1 1h7v19.5z\"></path>\n",
       "<path d=\"M23 26h-14c-0.552 0-1-0.448-1-1s0.448-1 1-1h14c0.552 0 1 0.448 1 1s-0.448 1-1 1z\"></path>\n",
       "<path d=\"M23 22h-14c-0.552 0-1-0.448-1-1s0.448-1 1-1h14c0.552 0 1 0.448 1 1s-0.448 1-1 1z\"></path>\n",
       "<path d=\"M23 18h-14c-0.552 0-1-0.448-1-1s0.448-1 1-1h14c0.552 0 1 0.448 1 1s-0.448 1-1 1z\"></path>\n",
       "</symbol>\n",
       "</defs>\n",
       "</svg>\n",
       "<style>/* CSS stylesheet for displaying xarray objects in jupyterlab.\n",
       " *\n",
       " */\n",
       "\n",
       ":root {\n",
       "  --xr-font-color0: var(--jp-content-font-color0, rgba(0, 0, 0, 1));\n",
       "  --xr-font-color2: var(--jp-content-font-color2, rgba(0, 0, 0, 0.54));\n",
       "  --xr-font-color3: var(--jp-content-font-color3, rgba(0, 0, 0, 0.38));\n",
       "  --xr-border-color: var(--jp-border-color2, #e0e0e0);\n",
       "  --xr-disabled-color: var(--jp-layout-color3, #bdbdbd);\n",
       "  --xr-background-color: var(--jp-layout-color0, white);\n",
       "  --xr-background-color-row-even: var(--jp-layout-color1, white);\n",
       "  --xr-background-color-row-odd: var(--jp-layout-color2, #eeeeee);\n",
       "}\n",
       "\n",
       "html[theme=dark],\n",
       "html[data-theme=dark],\n",
       "body[data-theme=dark],\n",
       "body.vscode-dark {\n",
       "  --xr-font-color0: rgba(255, 255, 255, 1);\n",
       "  --xr-font-color2: rgba(255, 255, 255, 0.54);\n",
       "  --xr-font-color3: rgba(255, 255, 255, 0.38);\n",
       "  --xr-border-color: #1F1F1F;\n",
       "  --xr-disabled-color: #515151;\n",
       "  --xr-background-color: #111111;\n",
       "  --xr-background-color-row-even: #111111;\n",
       "  --xr-background-color-row-odd: #313131;\n",
       "}\n",
       "\n",
       ".xr-wrap {\n",
       "  display: block !important;\n",
       "  min-width: 300px;\n",
       "  max-width: 700px;\n",
       "}\n",
       "\n",
       ".xr-text-repr-fallback {\n",
       "  /* fallback to plain text repr when CSS is not injected (untrusted notebook) */\n",
       "  display: none;\n",
       "}\n",
       "\n",
       ".xr-header {\n",
       "  padding-top: 6px;\n",
       "  padding-bottom: 6px;\n",
       "  margin-bottom: 4px;\n",
       "  border-bottom: solid 1px var(--xr-border-color);\n",
       "}\n",
       "\n",
       ".xr-header > div,\n",
       ".xr-header > ul {\n",
       "  display: inline;\n",
       "  margin-top: 0;\n",
       "  margin-bottom: 0;\n",
       "}\n",
       "\n",
       ".xr-obj-type,\n",
       ".xr-array-name {\n",
       "  margin-left: 2px;\n",
       "  margin-right: 10px;\n",
       "}\n",
       "\n",
       ".xr-obj-type {\n",
       "  color: var(--xr-font-color2);\n",
       "}\n",
       "\n",
       ".xr-sections {\n",
       "  padding-left: 0 !important;\n",
       "  display: grid;\n",
       "  grid-template-columns: 150px auto auto 1fr 0 20px 0 20px;\n",
       "}\n",
       "\n",
       ".xr-section-item {\n",
       "  display: contents;\n",
       "}\n",
       "\n",
       ".xr-section-item input {\n",
       "  display: inline-block;\n",
       "  opacity: 0;\n",
       "}\n",
       "\n",
       ".xr-section-item input + label {\n",
       "  color: var(--xr-disabled-color);\n",
       "}\n",
       "\n",
       ".xr-section-item input:enabled + label {\n",
       "  cursor: pointer;\n",
       "  color: var(--xr-font-color2);\n",
       "}\n",
       "\n",
       ".xr-section-item input:focus + label {\n",
       "  border: 2px solid var(--xr-font-color0);\n",
       "}\n",
       "\n",
       ".xr-section-item input:enabled + label:hover {\n",
       "  color: var(--xr-font-color0);\n",
       "}\n",
       "\n",
       ".xr-section-summary {\n",
       "  grid-column: 1;\n",
       "  color: var(--xr-font-color2);\n",
       "  font-weight: 500;\n",
       "}\n",
       "\n",
       ".xr-section-summary > span {\n",
       "  display: inline-block;\n",
       "  padding-left: 0.5em;\n",
       "}\n",
       "\n",
       ".xr-section-summary-in:disabled + label {\n",
       "  color: var(--xr-font-color2);\n",
       "}\n",
       "\n",
       ".xr-section-summary-in + label:before {\n",
       "  display: inline-block;\n",
       "  content: '►';\n",
       "  font-size: 11px;\n",
       "  width: 15px;\n",
       "  text-align: center;\n",
       "}\n",
       "\n",
       ".xr-section-summary-in:disabled + label:before {\n",
       "  color: var(--xr-disabled-color);\n",
       "}\n",
       "\n",
       ".xr-section-summary-in:checked + label:before {\n",
       "  content: '▼';\n",
       "}\n",
       "\n",
       ".xr-section-summary-in:checked + label > span {\n",
       "  display: none;\n",
       "}\n",
       "\n",
       ".xr-section-summary,\n",
       ".xr-section-inline-details {\n",
       "  padding-top: 4px;\n",
       "  padding-bottom: 4px;\n",
       "}\n",
       "\n",
       ".xr-section-inline-details {\n",
       "  grid-column: 2 / -1;\n",
       "}\n",
       "\n",
       ".xr-section-details {\n",
       "  display: none;\n",
       "  grid-column: 1 / -1;\n",
       "  margin-bottom: 5px;\n",
       "}\n",
       "\n",
       ".xr-section-summary-in:checked ~ .xr-section-details {\n",
       "  display: contents;\n",
       "}\n",
       "\n",
       ".xr-array-wrap {\n",
       "  grid-column: 1 / -1;\n",
       "  display: grid;\n",
       "  grid-template-columns: 20px auto;\n",
       "}\n",
       "\n",
       ".xr-array-wrap > label {\n",
       "  grid-column: 1;\n",
       "  vertical-align: top;\n",
       "}\n",
       "\n",
       ".xr-preview {\n",
       "  color: var(--xr-font-color3);\n",
       "}\n",
       "\n",
       ".xr-array-preview,\n",
       ".xr-array-data {\n",
       "  padding: 0 5px !important;\n",
       "  grid-column: 2;\n",
       "}\n",
       "\n",
       ".xr-array-data,\n",
       ".xr-array-in:checked ~ .xr-array-preview {\n",
       "  display: none;\n",
       "}\n",
       "\n",
       ".xr-array-in:checked ~ .xr-array-data,\n",
       ".xr-array-preview {\n",
       "  display: inline-block;\n",
       "}\n",
       "\n",
       ".xr-dim-list {\n",
       "  display: inline-block !important;\n",
       "  list-style: none;\n",
       "  padding: 0 !important;\n",
       "  margin: 0;\n",
       "}\n",
       "\n",
       ".xr-dim-list li {\n",
       "  display: inline-block;\n",
       "  padding: 0;\n",
       "  margin: 0;\n",
       "}\n",
       "\n",
       ".xr-dim-list:before {\n",
       "  content: '(';\n",
       "}\n",
       "\n",
       ".xr-dim-list:after {\n",
       "  content: ')';\n",
       "}\n",
       "\n",
       ".xr-dim-list li:not(:last-child):after {\n",
       "  content: ',';\n",
       "  padding-right: 5px;\n",
       "}\n",
       "\n",
       ".xr-has-index {\n",
       "  font-weight: bold;\n",
       "}\n",
       "\n",
       ".xr-var-list,\n",
       ".xr-var-item {\n",
       "  display: contents;\n",
       "}\n",
       "\n",
       ".xr-var-item > div,\n",
       ".xr-var-item label,\n",
       ".xr-var-item > .xr-var-name span {\n",
       "  background-color: var(--xr-background-color-row-even);\n",
       "  margin-bottom: 0;\n",
       "}\n",
       "\n",
       ".xr-var-item > .xr-var-name:hover span {\n",
       "  padding-right: 5px;\n",
       "}\n",
       "\n",
       ".xr-var-list > li:nth-child(odd) > div,\n",
       ".xr-var-list > li:nth-child(odd) > label,\n",
       ".xr-var-list > li:nth-child(odd) > .xr-var-name span {\n",
       "  background-color: var(--xr-background-color-row-odd);\n",
       "}\n",
       "\n",
       ".xr-var-name {\n",
       "  grid-column: 1;\n",
       "}\n",
       "\n",
       ".xr-var-dims {\n",
       "  grid-column: 2;\n",
       "}\n",
       "\n",
       ".xr-var-dtype {\n",
       "  grid-column: 3;\n",
       "  text-align: right;\n",
       "  color: var(--xr-font-color2);\n",
       "}\n",
       "\n",
       ".xr-var-preview {\n",
       "  grid-column: 4;\n",
       "}\n",
       "\n",
       ".xr-index-preview {\n",
       "  grid-column: 2 / 5;\n",
       "  color: var(--xr-font-color2);\n",
       "}\n",
       "\n",
       ".xr-var-name,\n",
       ".xr-var-dims,\n",
       ".xr-var-dtype,\n",
       ".xr-preview,\n",
       ".xr-attrs dt {\n",
       "  white-space: nowrap;\n",
       "  overflow: hidden;\n",
       "  text-overflow: ellipsis;\n",
       "  padding-right: 10px;\n",
       "}\n",
       "\n",
       ".xr-var-name:hover,\n",
       ".xr-var-dims:hover,\n",
       ".xr-var-dtype:hover,\n",
       ".xr-attrs dt:hover {\n",
       "  overflow: visible;\n",
       "  width: auto;\n",
       "  z-index: 1;\n",
       "}\n",
       "\n",
       ".xr-var-attrs,\n",
       ".xr-var-data,\n",
       ".xr-index-data {\n",
       "  display: none;\n",
       "  background-color: var(--xr-background-color) !important;\n",
       "  padding-bottom: 5px !important;\n",
       "}\n",
       "\n",
       ".xr-var-attrs-in:checked ~ .xr-var-attrs,\n",
       ".xr-var-data-in:checked ~ .xr-var-data,\n",
       ".xr-index-data-in:checked ~ .xr-index-data {\n",
       "  display: block;\n",
       "}\n",
       "\n",
       ".xr-var-data > table {\n",
       "  float: right;\n",
       "}\n",
       "\n",
       ".xr-var-name span,\n",
       ".xr-var-data,\n",
       ".xr-index-name div,\n",
       ".xr-index-data,\n",
       ".xr-attrs {\n",
       "  padding-left: 25px !important;\n",
       "}\n",
       "\n",
       ".xr-attrs,\n",
       ".xr-var-attrs,\n",
       ".xr-var-data,\n",
       ".xr-index-data {\n",
       "  grid-column: 1 / -1;\n",
       "}\n",
       "\n",
       "dl.xr-attrs {\n",
       "  padding: 0;\n",
       "  margin: 0;\n",
       "  display: grid;\n",
       "  grid-template-columns: 125px auto;\n",
       "}\n",
       "\n",
       ".xr-attrs dt,\n",
       ".xr-attrs dd {\n",
       "  padding: 0;\n",
       "  margin: 0;\n",
       "  float: left;\n",
       "  padding-right: 10px;\n",
       "  width: auto;\n",
       "}\n",
       "\n",
       ".xr-attrs dt {\n",
       "  font-weight: normal;\n",
       "  grid-column: 1;\n",
       "}\n",
       "\n",
       ".xr-attrs dt:hover span {\n",
       "  display: inline-block;\n",
       "  background: var(--xr-background-color);\n",
       "  padding-right: 10px;\n",
       "}\n",
       "\n",
       ".xr-attrs dd {\n",
       "  grid-column: 2;\n",
       "  white-space: pre-wrap;\n",
       "  word-break: break-all;\n",
       "}\n",
       "\n",
       ".xr-icon-database,\n",
       ".xr-icon-file-text2,\n",
       ".xr-no-icon {\n",
       "  display: inline-block;\n",
       "  vertical-align: middle;\n",
       "  width: 1em;\n",
       "  height: 1.5em !important;\n",
       "  stroke-width: 0;\n",
       "  stroke: currentColor;\n",
       "  fill: currentColor;\n",
       "}\n",
       "</style><pre class='xr-text-repr-fallback'>&lt;xarray.Dataset&gt; Size: 13MB\n",
       "Dimensions:              (latitude: 3, longitude: 3, time: 8767, depth: 3)\n",
       "Coordinates:\n",
       "  * depth                (depth) int32 12B 1 2 3\n",
       "  * latitude             (latitude) float64 24B 22.75 31.6 50.0\n",
       "  * longitude            (longitude) float64 24B -158.0 -150.0 -64.2\n",
       "  * time                 (time) datetime64[ns] 70kB 1998-01-01 ... 2022-01-01\n",
       "Data variables: (12/13)\n",
       "    T                    (latitude, longitude, time, depth) float64 2MB 23.52...\n",
       "    U                    (latitude, longitude, time, depth) float64 2MB 0.016...\n",
       "    V                    (latitude, longitude, time, depth) float64 2MB -0.07...\n",
       "    mnkc_epi             (latitude, longitude, time) float64 631kB 0.269 ... nan\n",
       "    mnkc_hmlmeso         (latitude, longitude, time) float64 631kB 0.7915 ......\n",
       "    mnkc_lmeso           (latitude, longitude, time) float64 631kB 2.173 ... nan\n",
       "    ...                   ...\n",
       "    mnkc_mumeso          (latitude, longitude, time) float64 631kB 0.4889 ......\n",
       "    mnkc_umeso           (latitude, longitude, time) float64 631kB 0.4931 ......\n",
       "    npp                  (latitude, longitude, time) float64 631kB 315.7 ... nan\n",
       "    pelagic_layer_depth  (latitude, longitude, time, depth) float64 2MB 117.3...\n",
       "    zeu                  (latitude, longitude, time) float64 631kB 78.19 ... nan\n",
       "    zooc                 (latitude, longitude, time) float64 631kB 0.2896 ......</pre><div class='xr-wrap' style='display:none'><div class='xr-header'><div class='xr-obj-type'>xarray.Dataset</div></div><ul class='xr-sections'><li class='xr-section-item'><input id='section-d49e6261-6535-4ed9-bcaf-e3ad613674e6' class='xr-section-summary-in' type='checkbox' disabled ><label for='section-d49e6261-6535-4ed9-bcaf-e3ad613674e6' class='xr-section-summary'  title='Expand/collapse section'>Dimensions:</label><div class='xr-section-inline-details'><ul class='xr-dim-list'><li><span class='xr-has-index'>latitude</span>: 3</li><li><span class='xr-has-index'>longitude</span>: 3</li><li><span class='xr-has-index'>time</span>: 8767</li><li><span class='xr-has-index'>depth</span>: 3</li></ul></div><div class='xr-section-details'></div></li><li class='xr-section-item'><input id='section-558a1598-959d-4a3f-885a-3654a9ee0082' class='xr-section-summary-in' type='checkbox'  checked><label for='section-558a1598-959d-4a3f-885a-3654a9ee0082' class='xr-section-summary' >Coordinates: <span>(4)</span></label><div class='xr-section-inline-details'></div><div class='xr-section-details'><ul class='xr-var-list'><li class='xr-var-item'><div class='xr-var-name'><span class='xr-has-index'>depth</span></div><div class='xr-var-dims'>(depth)</div><div class='xr-var-dtype'>int32</div><div class='xr-var-preview xr-preview'>1 2 3</div><input id='attrs-3ff5cc95-9a89-4fce-9ee8-d12f62d8b633' class='xr-var-attrs-in' type='checkbox' ><label for='attrs-3ff5cc95-9a89-4fce-9ee8-d12f62d8b633' title='Show/Hide attributes'><svg class='icon xr-icon-file-text2'><use xlink:href='#icon-file-text2'></use></svg></label><input id='data-d7b94b60-9def-4f7a-91bd-cb4813c0b30f' class='xr-var-data-in' type='checkbox'><label for='data-d7b94b60-9def-4f7a-91bd-cb4813c0b30f' title='Show/Hide data repr'><svg class='icon xr-icon-database'><use xlink:href='#icon-database'></use></svg></label><div class='xr-var-attrs'><dl class='xr-attrs'><dt><span>axis :</span></dt><dd>Z</dd><dt><span>comment :</span></dt><dd>In fact units are pelagic layer number; 1: epipelagic layer; 2: upper mesopelagic layer; 3: lower mesopelagic layer</dd><dt><span>long_name :</span></dt><dd>Depth</dd><dt><span>positive :</span></dt><dd>down</dd><dt><span>standard_name :</span></dt><dd>depth</dd><dt><span>units :</span></dt><dd>m</dd><dt><span>valid_max :</span></dt><dd>3</dd><dt><span>valid_min :</span></dt><dd>1</dd></dl></div><div class='xr-var-data'><pre>array([1, 2, 3], dtype=int32)</pre></div></li><li class='xr-var-item'><div class='xr-var-name'><span class='xr-has-index'>latitude</span></div><div class='xr-var-dims'>(latitude)</div><div class='xr-var-dtype'>float64</div><div class='xr-var-preview xr-preview'>22.75 31.6 50.0</div><input id='attrs-b9e9974f-ab91-4036-ab4a-3621b86d9d80' class='xr-var-attrs-in' type='checkbox' ><label for='attrs-b9e9974f-ab91-4036-ab4a-3621b86d9d80' title='Show/Hide attributes'><svg class='icon xr-icon-file-text2'><use xlink:href='#icon-file-text2'></use></svg></label><input id='data-a8db24f3-e9f4-4700-b509-d60f8139a36e' class='xr-var-data-in' type='checkbox'><label for='data-a8db24f3-e9f4-4700-b509-d60f8139a36e' title='Show/Hide data repr'><svg class='icon xr-icon-database'><use xlink:href='#icon-database'></use></svg></label><div class='xr-var-attrs'><dl class='xr-attrs'><dt><span>axis :</span></dt><dd>Y</dd><dt><span>standard_name :</span></dt><dd>latitude</dd><dt><span>units :</span></dt><dd>degrees_north</dd><dt><span>valid_max :</span></dt><dd>32.08333206176758</dd><dt><span>valid_min :</span></dt><dd>31.166664123535156</dd></dl></div><div class='xr-var-data'><pre>array([22.75, 31.6 , 50.  ])</pre></div></li><li class='xr-var-item'><div class='xr-var-name'><span class='xr-has-index'>longitude</span></div><div class='xr-var-dims'>(longitude)</div><div class='xr-var-dtype'>float64</div><div class='xr-var-preview xr-preview'>-158.0 -150.0 -64.2</div><input id='attrs-417e6b04-22c2-4f4d-b845-51774bf7dc88' class='xr-var-attrs-in' type='checkbox' ><label for='attrs-417e6b04-22c2-4f4d-b845-51774bf7dc88' title='Show/Hide attributes'><svg class='icon xr-icon-file-text2'><use xlink:href='#icon-file-text2'></use></svg></label><input id='data-e3c9837d-fc0a-4086-9669-609aa8c8b467' class='xr-var-data-in' type='checkbox'><label for='data-e3c9837d-fc0a-4086-9669-609aa8c8b467' title='Show/Hide data repr'><svg class='icon xr-icon-database'><use xlink:href='#icon-database'></use></svg></label><div class='xr-var-attrs'><dl class='xr-attrs'><dt><span>axis :</span></dt><dd>X</dd><dt><span>standard_name :</span></dt><dd>longitude</dd><dt><span>units :</span></dt><dd>degrees_east</dd><dt><span>valid_max :</span></dt><dd>-63.75</dd><dt><span>valid_min :</span></dt><dd>-64.66666412353516</dd></dl></div><div class='xr-var-data'><pre>array([-158. , -150. ,  -64.2])</pre></div></li><li class='xr-var-item'><div class='xr-var-name'><span class='xr-has-index'>time</span></div><div class='xr-var-dims'>(time)</div><div class='xr-var-dtype'>datetime64[ns]</div><div class='xr-var-preview xr-preview'>1998-01-01 ... 2022-01-01</div><input id='attrs-02a773ca-aff3-4301-8d38-8e7300bea8c6' class='xr-var-attrs-in' type='checkbox' ><label for='attrs-02a773ca-aff3-4301-8d38-8e7300bea8c6' title='Show/Hide attributes'><svg class='icon xr-icon-file-text2'><use xlink:href='#icon-file-text2'></use></svg></label><input id='data-e5a039cf-5d36-405f-a804-7172709397c8' class='xr-var-data-in' type='checkbox'><label for='data-e5a039cf-5d36-405f-a804-7172709397c8' title='Show/Hide data repr'><svg class='icon xr-icon-database'><use xlink:href='#icon-database'></use></svg></label><div class='xr-var-attrs'><dl class='xr-attrs'><dt><span>valid_max :</span></dt><dd>1672444800</dd><dt><span>valid_min :</span></dt><dd>883612800</dd><dt><span>axis :</span></dt><dd>T</dd></dl></div><div class='xr-var-data'><pre>array([&#x27;1998-01-01T00:00:00.000000000&#x27;, &#x27;1998-01-02T00:00:00.000000000&#x27;,\n",
       "       &#x27;1998-01-03T00:00:00.000000000&#x27;, ..., &#x27;2021-12-30T00:00:00.000000000&#x27;,\n",
       "       &#x27;2021-12-31T00:00:00.000000000&#x27;, &#x27;2022-01-01T00:00:00.000000000&#x27;],\n",
       "      dtype=&#x27;datetime64[ns]&#x27;)</pre></div></li></ul></div></li><li class='xr-section-item'><input id='section-77cca5a9-1bc7-4b69-8afa-4cc6ee82a6ba' class='xr-section-summary-in' type='checkbox'  checked><label for='section-77cca5a9-1bc7-4b69-8afa-4cc6ee82a6ba' class='xr-section-summary' >Data variables: <span>(13)</span></label><div class='xr-section-inline-details'></div><div class='xr-section-details'><ul class='xr-var-list'><li class='xr-var-item'><div class='xr-var-name'><span>T</span></div><div class='xr-var-dims'>(latitude, longitude, time, depth)</div><div class='xr-var-dtype'>float64</div><div class='xr-var-preview xr-preview'>23.52 17.14 6.433 ... nan nan nan</div><input id='attrs-8223c107-9305-4127-9cf6-ba0f15430318' class='xr-var-attrs-in' type='checkbox' ><label for='attrs-8223c107-9305-4127-9cf6-ba0f15430318' title='Show/Hide attributes'><svg class='icon xr-icon-file-text2'><use xlink:href='#icon-file-text2'></use></svg></label><input id='data-82eb33b2-f789-4a4c-91a5-ce446365d0ae' class='xr-var-data-in' type='checkbox'><label for='data-82eb33b2-f789-4a4c-91a5-ce446365d0ae' title='Show/Hide data repr'><svg class='icon xr-icon-database'><use xlink:href='#icon-database'></use></svg></label><div class='xr-var-attrs'><dl class='xr-attrs'><dt><span>units :</span></dt><dd>degree_Celsius</dd></dl></div><div class='xr-var-data'><pre>array([[[[23.51974   , 17.14358355,  6.43298115],\n",
       "         [23.49084328, 16.90840318,  6.32461848],\n",
       "         [23.49606412, 17.12603912,  6.4597531 ],\n",
       "         ...,\n",
       "         [24.14860771, 15.67142968,  5.65689805],\n",
       "         [24.15194661, 15.78428469,  5.72015514],\n",
       "         [24.17264783, 16.26684762,  5.92686375]],\n",
       "\n",
       "        [[        nan,         nan,         nan],\n",
       "         [        nan,         nan,         nan],\n",
       "         [        nan,         nan,         nan],\n",
       "         ...,\n",
       "         [        nan,         nan,         nan],\n",
       "         [        nan,         nan,         nan],\n",
       "         [        nan,         nan,         nan]],\n",
       "\n",
       "        [[        nan,         nan,         nan],\n",
       "         [        nan,         nan,         nan],\n",
       "         [        nan,         nan,         nan],\n",
       "         ...,\n",
       "...\n",
       "         ...,\n",
       "         [        nan,         nan,         nan],\n",
       "         [        nan,         nan,         nan],\n",
       "         [        nan,         nan,         nan]],\n",
       "\n",
       "        [[ 5.67207489,  4.2154014 ,  3.64687682],\n",
       "         [ 5.61082115,  4.19907112,  3.63971335],\n",
       "         [ 5.54137191,  4.19008642,  3.63649586],\n",
       "         ...,\n",
       "         [ 5.477872  ,  4.51183552,  3.84284023],\n",
       "         [ 5.47319753,  4.47516826,  3.82396024],\n",
       "         [ 5.46888731,  4.3906636 ,  3.77114482]],\n",
       "\n",
       "        [[        nan,         nan,         nan],\n",
       "         [        nan,         nan,         nan],\n",
       "         [        nan,         nan,         nan],\n",
       "         ...,\n",
       "         [        nan,         nan,         nan],\n",
       "         [        nan,         nan,         nan],\n",
       "         [        nan,         nan,         nan]]]])</pre></div></li><li class='xr-var-item'><div class='xr-var-name'><span>U</span></div><div class='xr-var-dims'>(latitude, longitude, time, depth)</div><div class='xr-var-dtype'>float64</div><div class='xr-var-preview xr-preview'>0.01696 0.05194 0.03012 ... nan nan</div><input id='attrs-4e3f0588-ae21-4cc9-8af5-9634aaa2eaed' class='xr-var-attrs-in' type='checkbox' disabled><label for='attrs-4e3f0588-ae21-4cc9-8af5-9634aaa2eaed' title='Show/Hide attributes'><svg class='icon xr-icon-file-text2'><use xlink:href='#icon-file-text2'></use></svg></label><input id='data-02253cfa-91b5-4bd3-a1b7-c74751d125cd' class='xr-var-data-in' type='checkbox'><label for='data-02253cfa-91b5-4bd3-a1b7-c74751d125cd' title='Show/Hide data repr'><svg class='icon xr-icon-database'><use xlink:href='#icon-database'></use></svg></label><div class='xr-var-attrs'><dl class='xr-attrs'></dl></div><div class='xr-var-data'><pre>array([[[[ 0.01695745,  0.05193745,  0.03011649],\n",
       "         [ 0.02953215,  0.05652048,  0.02733802],\n",
       "         [ 0.03192678,  0.05291134,  0.02541888],\n",
       "         ...,\n",
       "         [-0.11507398, -0.06070203,  0.00708102],\n",
       "         [-0.12827312, -0.06526215,  0.00461191],\n",
       "         [-0.11675252, -0.06871088,  0.00537384]],\n",
       "\n",
       "        [[        nan,         nan,         nan],\n",
       "         [        nan,         nan,         nan],\n",
       "         [        nan,         nan,         nan],\n",
       "         ...,\n",
       "         [        nan,         nan,         nan],\n",
       "         [        nan,         nan,         nan],\n",
       "         [        nan,         nan,         nan]],\n",
       "\n",
       "        [[        nan,         nan,         nan],\n",
       "         [        nan,         nan,         nan],\n",
       "         [        nan,         nan,         nan],\n",
       "         ...,\n",
       "...\n",
       "         ...,\n",
       "         [        nan,         nan,         nan],\n",
       "         [        nan,         nan,         nan],\n",
       "         [        nan,         nan,         nan]],\n",
       "\n",
       "        [[ 0.00659407,  0.02179255,  0.0249663 ],\n",
       "         [-0.00633581,  0.02522983,  0.02445071],\n",
       "         [-0.00502965,  0.02458247,  0.02938893],\n",
       "         ...,\n",
       "         [-0.08757006, -0.0790227 , -0.06105722],\n",
       "         [-0.07300747, -0.0837776 , -0.06081661],\n",
       "         [-0.09673613, -0.07897687, -0.05460087]],\n",
       "\n",
       "        [[        nan,         nan,         nan],\n",
       "         [        nan,         nan,         nan],\n",
       "         [        nan,         nan,         nan],\n",
       "         ...,\n",
       "         [        nan,         nan,         nan],\n",
       "         [        nan,         nan,         nan],\n",
       "         [        nan,         nan,         nan]]]])</pre></div></li><li class='xr-var-item'><div class='xr-var-name'><span>V</span></div><div class='xr-var-dims'>(latitude, longitude, time, depth)</div><div class='xr-var-dtype'>float64</div><div class='xr-var-preview xr-preview'>-0.07461 -0.06657 0.025 ... nan nan</div><input id='attrs-4a5a007d-79d0-4f00-8611-7cd8dfe62edd' class='xr-var-attrs-in' type='checkbox' disabled><label for='attrs-4a5a007d-79d0-4f00-8611-7cd8dfe62edd' title='Show/Hide attributes'><svg class='icon xr-icon-file-text2'><use xlink:href='#icon-file-text2'></use></svg></label><input id='data-92a91f10-64f0-4f0b-b9c8-7b4afdb46951' class='xr-var-data-in' type='checkbox'><label for='data-92a91f10-64f0-4f0b-b9c8-7b4afdb46951' title='Show/Hide data repr'><svg class='icon xr-icon-database'><use xlink:href='#icon-database'></use></svg></label><div class='xr-var-attrs'><dl class='xr-attrs'></dl></div><div class='xr-var-data'><pre>array([[[[-0.07460913, -0.06657062,  0.02499504],\n",
       "         [-0.06904554, -0.06132057,  0.02588228],\n",
       "         [-0.06456265, -0.05042021,  0.03092553],\n",
       "         ...,\n",
       "         [ 0.1526773 ,  0.08652802,  0.09415293],\n",
       "         [ 0.15446512,  0.09868251,  0.10341223],\n",
       "         [ 0.13216408,  0.11284497,  0.11245138]],\n",
       "\n",
       "        [[        nan,         nan,         nan],\n",
       "         [        nan,         nan,         nan],\n",
       "         [        nan,         nan,         nan],\n",
       "         ...,\n",
       "         [        nan,         nan,         nan],\n",
       "         [        nan,         nan,         nan],\n",
       "         [        nan,         nan,         nan]],\n",
       "\n",
       "        [[        nan,         nan,         nan],\n",
       "         [        nan,         nan,         nan],\n",
       "         [        nan,         nan,         nan],\n",
       "         ...,\n",
       "...\n",
       "         ...,\n",
       "         [        nan,         nan,         nan],\n",
       "         [        nan,         nan,         nan],\n",
       "         [        nan,         nan,         nan]],\n",
       "\n",
       "        [[ 0.01078589,  0.0177904 ,  0.00837767],\n",
       "         [ 0.01508866,  0.02306046,  0.00785066],\n",
       "         [ 0.01541554,  0.01353432,  0.00564257],\n",
       "         ...,\n",
       "         [ 0.02135269,  0.03174606,  0.0169632 ],\n",
       "         [ 0.0236942 ,  0.03005163,  0.01850419],\n",
       "         [-0.01196877,  0.02836388,  0.01717   ]],\n",
       "\n",
       "        [[        nan,         nan,         nan],\n",
       "         [        nan,         nan,         nan],\n",
       "         [        nan,         nan,         nan],\n",
       "         ...,\n",
       "         [        nan,         nan,         nan],\n",
       "         [        nan,         nan,         nan],\n",
       "         [        nan,         nan,         nan]]]])</pre></div></li><li class='xr-var-item'><div class='xr-var-name'><span>mnkc_epi</span></div><div class='xr-var-dims'>(latitude, longitude, time)</div><div class='xr-var-dtype'>float64</div><div class='xr-var-preview xr-preview'>0.269 0.2668 0.2636 ... nan nan nan</div><input id='attrs-f63fa5d0-a97b-4459-89e3-b47533bd8bea' class='xr-var-attrs-in' type='checkbox' disabled><label for='attrs-f63fa5d0-a97b-4459-89e3-b47533bd8bea' title='Show/Hide attributes'><svg class='icon xr-icon-file-text2'><use xlink:href='#icon-file-text2'></use></svg></label><input id='data-688478ce-766a-4714-b045-6f3518d930aa' class='xr-var-data-in' type='checkbox'><label for='data-688478ce-766a-4714-b045-6f3518d930aa' title='Show/Hide data repr'><svg class='icon xr-icon-database'><use xlink:href='#icon-database'></use></svg></label><div class='xr-var-attrs'><dl class='xr-attrs'></dl></div><div class='xr-var-data'><pre>array([[[0.26900573, 0.26676027, 0.26361663, ..., 0.18547475,\n",
       "         0.19445658, 0.20164204],\n",
       "        [       nan,        nan,        nan, ...,        nan,\n",
       "                nan,        nan],\n",
       "        [       nan,        nan,        nan, ...,        nan,\n",
       "                nan,        nan]],\n",
       "\n",
       "       [[       nan,        nan,        nan, ...,        nan,\n",
       "                nan,        nan],\n",
       "        [       nan,        nan,        nan, ...,        nan,\n",
       "                nan,        nan],\n",
       "        [0.73258019, 0.75582066, 0.74672656, ..., 1.18425373,\n",
       "         1.30955019, 1.39543889]],\n",
       "\n",
       "       [[       nan,        nan,        nan, ...,        nan,\n",
       "                nan,        nan],\n",
       "        [1.48828851, 1.42766119, 1.3962248 , ..., 1.88034519,\n",
       "         1.82196332, 1.77615601],\n",
       "        [       nan,        nan,        nan, ...,        nan,\n",
       "                nan,        nan]]])</pre></div></li><li class='xr-var-item'><div class='xr-var-name'><span>mnkc_hmlmeso</span></div><div class='xr-var-dims'>(latitude, longitude, time)</div><div class='xr-var-dtype'>float64</div><div class='xr-var-preview xr-preview'>0.7915 0.7851 0.7851 ... nan nan</div><input id='attrs-ebceaf75-0ac2-43ba-8094-b236033e14ee' class='xr-var-attrs-in' type='checkbox' disabled><label for='attrs-ebceaf75-0ac2-43ba-8094-b236033e14ee' title='Show/Hide attributes'><svg class='icon xr-icon-file-text2'><use xlink:href='#icon-file-text2'></use></svg></label><input id='data-dede114d-c7a4-45b7-bd2d-614b4d040efa' class='xr-var-data-in' type='checkbox'><label for='data-dede114d-c7a4-45b7-bd2d-614b4d040efa' title='Show/Hide data repr'><svg class='icon xr-icon-database'><use xlink:href='#icon-database'></use></svg></label><div class='xr-var-attrs'><dl class='xr-attrs'></dl></div><div class='xr-var-data'><pre>array([[[0.79150342, 0.78510659, 0.78510659, ..., 0.48445538,\n",
       "         0.53323124, 0.57640987],\n",
       "        [       nan,        nan,        nan, ...,        nan,\n",
       "                nan,        nan],\n",
       "        [       nan,        nan,        nan, ...,        nan,\n",
       "                nan,        nan]],\n",
       "\n",
       "       [[       nan,        nan,        nan, ...,        nan,\n",
       "                nan,        nan],\n",
       "        [       nan,        nan,        nan, ...,        nan,\n",
       "                nan,        nan],\n",
       "        [0.68355685, 0.67995863, 0.66556575, ..., 0.9552224 ,\n",
       "         1.04697699, 1.10814671]],\n",
       "\n",
       "       [[       nan,        nan,        nan, ...,        nan,\n",
       "                nan,        nan],\n",
       "        [1.99250904, 1.94453278, 1.93973516, ..., 2.26437449,\n",
       "         2.21240021, 2.15642791],\n",
       "        [       nan,        nan,        nan, ...,        nan,\n",
       "                nan,        nan]]])</pre></div></li><li class='xr-var-item'><div class='xr-var-name'><span>mnkc_lmeso</span></div><div class='xr-var-dims'>(latitude, longitude, time)</div><div class='xr-var-dtype'>float64</div><div class='xr-var-preview xr-preview'>2.173 2.243 2.334 ... nan nan nan</div><input id='attrs-ee017f3e-85ab-4cab-8ca4-a53f9d8f945f' class='xr-var-attrs-in' type='checkbox' disabled><label for='attrs-ee017f3e-85ab-4cab-8ca4-a53f9d8f945f' title='Show/Hide attributes'><svg class='icon xr-icon-file-text2'><use xlink:href='#icon-file-text2'></use></svg></label><input id='data-1238480c-b6b9-4f07-aa11-aa20c108cde8' class='xr-var-data-in' type='checkbox'><label for='data-1238480c-b6b9-4f07-aa11-aa20c108cde8' title='Show/Hide data repr'><svg class='icon xr-icon-database'><use xlink:href='#icon-database'></use></svg></label><div class='xr-var-attrs'><dl class='xr-attrs'></dl></div><div class='xr-var-data'><pre>array([[[2.17310775, 2.24314372, 2.33381942, ..., 2.66799764,\n",
       "         2.69165217, 2.6311244 ],\n",
       "        [       nan,        nan,        nan, ...,        nan,\n",
       "                nan,        nan],\n",
       "        [       nan,        nan,        nan, ...,        nan,\n",
       "                nan,        nan]],\n",
       "\n",
       "       [[       nan,        nan,        nan, ...,        nan,\n",
       "                nan,        nan],\n",
       "        [       nan,        nan,        nan, ...,        nan,\n",
       "                nan,        nan],\n",
       "        [1.11793016, 1.0448794 , 0.96034924, ..., 1.64076486,\n",
       "         1.59954336, 1.4623123 ]],\n",
       "\n",
       "       [[       nan,        nan,        nan, ...,        nan,\n",
       "                nan,        nan],\n",
       "        [2.65848944, 2.72319154, 2.76632628, ..., 2.64387929,\n",
       "         2.65037269, 2.66660619],\n",
       "        [       nan,        nan,        nan, ...,        nan,\n",
       "                nan,        nan]]])</pre></div></li><li class='xr-var-item'><div class='xr-var-name'><span>mnkc_mlmeso</span></div><div class='xr-var-dims'>(latitude, longitude, time)</div><div class='xr-var-dtype'>float64</div><div class='xr-var-preview xr-preview'>1.109 1.093 1.096 ... nan nan nan</div><input id='attrs-988e858c-490c-4099-956a-0134cace28d7' class='xr-var-attrs-in' type='checkbox' disabled><label for='attrs-988e858c-490c-4099-956a-0134cace28d7' title='Show/Hide attributes'><svg class='icon xr-icon-file-text2'><use xlink:href='#icon-file-text2'></use></svg></label><input id='data-8f195404-eea3-40da-93c7-93de68ef1b5c' class='xr-var-data-in' type='checkbox'><label for='data-8f195404-eea3-40da-93c7-93de68ef1b5c' title='Show/Hide data repr'><svg class='icon xr-icon-database'><use xlink:href='#icon-database'></use></svg></label><div class='xr-var-attrs'><dl class='xr-attrs'></dl></div><div class='xr-var-data'><pre>array([[[1.10917179, 1.09257993, 1.09629452, ..., 0.77733445,\n",
       "         0.78129669, 0.76990526],\n",
       "        [       nan,        nan,        nan, ...,        nan,\n",
       "                nan,        nan],\n",
       "        [       nan,        nan,        nan, ...,        nan,\n",
       "                nan,        nan]],\n",
       "\n",
       "       [[       nan,        nan,        nan, ...,        nan,\n",
       "                nan,        nan],\n",
       "        [       nan,        nan,        nan, ...,        nan,\n",
       "                nan,        nan],\n",
       "        [0.5542729 , 0.49911113, 0.49465362, ..., 1.06354416,\n",
       "         1.03234154, 0.89750167]],\n",
       "\n",
       "       [[       nan,        nan,        nan, ...,        nan,\n",
       "                nan,        nan],\n",
       "        [1.80033449, 1.84812897, 1.85085301, ..., 1.69805925,\n",
       "         1.68072446, 1.66338968],\n",
       "        [       nan,        nan,        nan, ...,        nan,\n",
       "                nan,        nan]]])</pre></div></li><li class='xr-var-item'><div class='xr-var-name'><span>mnkc_mumeso</span></div><div class='xr-var-dims'>(latitude, longitude, time)</div><div class='xr-var-dtype'>float64</div><div class='xr-var-preview xr-preview'>0.4889 0.4804 0.4804 ... nan nan</div><input id='attrs-f4027ff2-0888-41e0-8c75-e2377e101aa1' class='xr-var-attrs-in' type='checkbox' disabled><label for='attrs-f4027ff2-0888-41e0-8c75-e2377e101aa1' title='Show/Hide attributes'><svg class='icon xr-icon-file-text2'><use xlink:href='#icon-file-text2'></use></svg></label><input id='data-29e3cbf7-30a7-43bd-b26b-dec4ce9cde40' class='xr-var-data-in' type='checkbox'><label for='data-29e3cbf7-30a7-43bd-b26b-dec4ce9cde40' title='Show/Hide data repr'><svg class='icon xr-icon-database'><use xlink:href='#icon-database'></use></svg></label><div class='xr-var-attrs'><dl class='xr-attrs'></dl></div><div class='xr-var-data'><pre>array([[[0.48894087, 0.48036298, 0.48036298, ..., 0.30880519,\n",
       "         0.33453886, 0.37742831],\n",
       "        [       nan,        nan,        nan, ...,        nan,\n",
       "                nan,        nan],\n",
       "        [       nan,        nan,        nan, ...,        nan,\n",
       "                nan,        nan]],\n",
       "\n",
       "       [[       nan,        nan,        nan, ...,        nan,\n",
       "                nan,        nan],\n",
       "        [       nan,        nan,        nan, ...,        nan,\n",
       "                nan,        nan],\n",
       "        [0.57900871, 0.59830896, 0.61760921, ..., 1.00361423,\n",
       "         1.13871598, 1.15801623]],\n",
       "\n",
       "       [[       nan,        nan,        nan, ...,        nan,\n",
       "                nan,        nan],\n",
       "        [2.19594084, 2.13589561, 2.11873984, ..., 2.5476343 ,\n",
       "         2.4704333 , 2.42754385],\n",
       "        [       nan,        nan,        nan, ...,        nan,\n",
       "                nan,        nan]]])</pre></div></li><li class='xr-var-item'><div class='xr-var-name'><span>mnkc_umeso</span></div><div class='xr-var-dims'>(latitude, longitude, time)</div><div class='xr-var-dtype'>float64</div><div class='xr-var-preview xr-preview'>0.4931 0.4788 0.4854 ... nan nan</div><input id='attrs-10bbbc5e-d048-40ee-8c27-8ce8cd7fc59f' class='xr-var-attrs-in' type='checkbox' disabled><label for='attrs-10bbbc5e-d048-40ee-8c27-8ce8cd7fc59f' title='Show/Hide attributes'><svg class='icon xr-icon-file-text2'><use xlink:href='#icon-file-text2'></use></svg></label><input id='data-9283a9e5-e101-4c81-b7c0-7349abeaa402' class='xr-var-data-in' type='checkbox'><label for='data-9283a9e5-e101-4c81-b7c0-7349abeaa402' title='Show/Hide data repr'><svg class='icon xr-icon-database'><use xlink:href='#icon-database'></use></svg></label><div class='xr-var-attrs'><dl class='xr-attrs'></dl></div><div class='xr-var-data'><pre>array([[[0.49308351, 0.47880716, 0.48539624, ..., 0.38326539,\n",
       "         0.38106903, 0.37338176],\n",
       "        [       nan,        nan,        nan, ...,        nan,\n",
       "                nan,        nan],\n",
       "        [       nan,        nan,        nan, ...,        nan,\n",
       "                nan,        nan]],\n",
       "\n",
       "       [[       nan,        nan,        nan, ...,        nan,\n",
       "                nan,        nan],\n",
       "        [       nan,        nan,        nan, ...,        nan,\n",
       "                nan,        nan],\n",
       "        [0.33357269, 0.32615997, 0.3360436 , ..., 0.76845245,\n",
       "         0.74127246, 0.62761071]],\n",
       "\n",
       "       [[       nan,        nan,        nan, ...,        nan,\n",
       "                nan,        nan],\n",
       "        [1.34746849, 1.38590483, 1.38370847, ..., 1.35186121,\n",
       "         1.33868304, 1.32001396],\n",
       "        [       nan,        nan,        nan, ...,        nan,\n",
       "                nan,        nan]]])</pre></div></li><li class='xr-var-item'><div class='xr-var-name'><span>npp</span></div><div class='xr-var-dims'>(latitude, longitude, time)</div><div class='xr-var-dtype'>float64</div><div class='xr-var-preview xr-preview'>315.7 297.6 318.2 ... nan nan nan</div><input id='attrs-539fcaf1-cb6a-4f29-95ad-7471b2de5ade' class='xr-var-attrs-in' type='checkbox' disabled><label for='attrs-539fcaf1-cb6a-4f29-95ad-7471b2de5ade' title='Show/Hide attributes'><svg class='icon xr-icon-file-text2'><use xlink:href='#icon-file-text2'></use></svg></label><input id='data-f7fa6db8-5b26-4ed3-a191-a103621d68a5' class='xr-var-data-in' type='checkbox'><label for='data-f7fa6db8-5b26-4ed3-a191-a103621d68a5' title='Show/Hide data repr'><svg class='icon xr-icon-database'><use xlink:href='#icon-database'></use></svg></label><div class='xr-var-attrs'><dl class='xr-attrs'></dl></div><div class='xr-var-data'><pre>array([[[315.74748946, 297.64010675, 318.19095729, ..., 270.78768126,\n",
       "         275.54601337, 298.48889032],\n",
       "        [         nan,          nan,          nan, ...,          nan,\n",
       "                  nan,          nan],\n",
       "        [         nan,          nan,          nan, ...,          nan,\n",
       "                  nan,          nan]],\n",
       "\n",
       "       [[         nan,          nan,          nan, ...,          nan,\n",
       "                  nan,          nan],\n",
       "        [         nan,          nan,          nan, ...,          nan,\n",
       "                  nan,          nan],\n",
       "        [450.0096169 , 435.54171524, 459.84779004, ..., 273.5012166 ,\n",
       "         255.2716605 , 294.50860981]],\n",
       "\n",
       "       [[         nan,          nan,          nan, ...,          nan,\n",
       "                  nan,          nan],\n",
       "        [131.84438386, 142.10694877, 151.64933369, ..., 112.42524473,\n",
       "          91.12849348,  92.67173633],\n",
       "        [         nan,          nan,          nan, ...,          nan,\n",
       "                  nan,          nan]]])</pre></div></li><li class='xr-var-item'><div class='xr-var-name'><span>pelagic_layer_depth</span></div><div class='xr-var-dims'>(latitude, longitude, time, depth)</div><div class='xr-var-dtype'>float64</div><div class='xr-var-preview xr-preview'>117.3 351.9 821.0 ... nan nan nan</div><input id='attrs-6e6141c7-e2f5-476c-88c3-7078dec58d0b' class='xr-var-attrs-in' type='checkbox' disabled><label for='attrs-6e6141c7-e2f5-476c-88c3-7078dec58d0b' title='Show/Hide attributes'><svg class='icon xr-icon-file-text2'><use xlink:href='#icon-file-text2'></use></svg></label><input id='data-e905ba1a-8192-420d-a0c2-53e3509a43a4' class='xr-var-data-in' type='checkbox'><label for='data-e905ba1a-8192-420d-a0c2-53e3509a43a4' title='Show/Hide data repr'><svg class='icon xr-icon-database'><use xlink:href='#icon-database'></use></svg></label><div class='xr-var-attrs'><dl class='xr-attrs'></dl></div><div class='xr-var-data'><pre>array([[[[117.28651056, 351.85237634, 820.98410789],\n",
       "         [119.6003271 , 358.80719094, 837.21089488],\n",
       "         [117.12780113, 351.38460116, 819.89820122],\n",
       "         ...,\n",
       "         [122.55900513, 367.6732013 , 857.90994675],\n",
       "         [121.06713642, 363.20761892, 847.48190141],\n",
       "         [116.16385012, 348.49274815, 813.14553232]],\n",
       "\n",
       "        [[         nan,          nan,          nan],\n",
       "         [         nan,          nan,          nan],\n",
       "         [         nan,          nan,          nan],\n",
       "         ...,\n",
       "         [         nan,          nan,          nan],\n",
       "         [         nan,          nan,          nan],\n",
       "         [         nan,          nan,          nan]],\n",
       "\n",
       "        [[         nan,          nan,          nan],\n",
       "         [         nan,          nan,          nan],\n",
       "         [         nan,          nan,          nan],\n",
       "         ...,\n",
       "...\n",
       "         ...,\n",
       "         [         nan,          nan,          nan],\n",
       "         [         nan,          nan,          nan],\n",
       "         [         nan,          nan,          nan]],\n",
       "\n",
       "        [[ 87.47753699, 262.43715001, 612.35303479],\n",
       "         [ 87.88684028, 263.65670674, 615.20145153],\n",
       "         [ 87.55939765, 262.66602573, 612.88262312],\n",
       "         ...,\n",
       "         [ 91.32999976, 273.98618517, 639.30022661],\n",
       "         [ 93.88772763, 281.6526863 , 657.18761551],\n",
       "         [101.08645358, 303.2588879 , 707.59707403]],\n",
       "\n",
       "        [[         nan,          nan,          nan],\n",
       "         [         nan,          nan,          nan],\n",
       "         [         nan,          nan,          nan],\n",
       "         ...,\n",
       "         [         nan,          nan,          nan],\n",
       "         [         nan,          nan,          nan],\n",
       "         [         nan,          nan,          nan]]]])</pre></div></li><li class='xr-var-item'><div class='xr-var-name'><span>zeu</span></div><div class='xr-var-dims'>(latitude, longitude, time)</div><div class='xr-var-dtype'>float64</div><div class='xr-var-preview xr-preview'>78.19 79.74 78.09 ... nan nan nan</div><input id='attrs-c372cf06-a2ac-4bcf-8afc-91d34e90ca0f' class='xr-var-attrs-in' type='checkbox' disabled><label for='attrs-c372cf06-a2ac-4bcf-8afc-91d34e90ca0f' title='Show/Hide attributes'><svg class='icon xr-icon-file-text2'><use xlink:href='#icon-file-text2'></use></svg></label><input id='data-253252c1-f0f1-4adc-b918-fd02e8f8128f' class='xr-var-data-in' type='checkbox'><label for='data-253252c1-f0f1-4adc-b918-fd02e8f8128f' title='Show/Hide data repr'><svg class='icon xr-icon-database'><use xlink:href='#icon-database'></use></svg></label><div class='xr-var-attrs'><dl class='xr-attrs'></dl></div><div class='xr-var-data'><pre>array([[[78.18852203, 79.73523665, 78.08544569, ..., 81.70564628,\n",
       "         80.71265853, 77.44268971],\n",
       "        [        nan,         nan,         nan, ...,         nan,\n",
       "                 nan,         nan],\n",
       "        [        nan,         nan,         nan, ...,         nan,\n",
       "                 nan,         nan]],\n",
       "\n",
       "       [[        nan,         nan,         nan, ...,         nan,\n",
       "                 nan,         nan],\n",
       "        [        nan,         nan,         nan, ...,         nan,\n",
       "                 nan,         nan],\n",
       "        [66.7802204 , 66.45091712, 66.62987701, ..., 80.88260162,\n",
       "         83.92193001, 78.48265977]],\n",
       "\n",
       "       [[        nan,         nan,         nan, ...,         nan,\n",
       "                 nan,         nan],\n",
       "        [58.31984522, 58.58959012, 58.3693902 , ..., 60.88555395,\n",
       "         62.59001523, 67.3903735 ],\n",
       "        [        nan,         nan,         nan, ...,         nan,\n",
       "                 nan,         nan]]])</pre></div></li><li class='xr-var-item'><div class='xr-var-name'><span>zooc</span></div><div class='xr-var-dims'>(latitude, longitude, time)</div><div class='xr-var-dtype'>float64</div><div class='xr-var-preview xr-preview'>0.2896 0.2838 0.2826 ... nan nan</div><input id='attrs-b8233dd9-8213-4191-9029-409a5b602e9d' class='xr-var-attrs-in' type='checkbox' disabled><label for='attrs-b8233dd9-8213-4191-9029-409a5b602e9d' title='Show/Hide attributes'><svg class='icon xr-icon-file-text2'><use xlink:href='#icon-file-text2'></use></svg></label><input id='data-bb8c41e9-9940-4502-9306-96c5fa97bf88' class='xr-var-data-in' type='checkbox'><label for='data-bb8c41e9-9940-4502-9306-96c5fa97bf88' title='Show/Hide data repr'><svg class='icon xr-icon-database'><use xlink:href='#icon-database'></use></svg></label><div class='xr-var-attrs'><dl class='xr-attrs'></dl></div><div class='xr-var-data'><pre>array([[[0.28962967, 0.28384992, 0.28256553, ..., 0.18591529,\n",
       "         0.18944736, 0.19394272],\n",
       "        [       nan,        nan,        nan, ...,        nan,\n",
       "                nan,        nan],\n",
       "        [       nan,        nan,        nan, ...,        nan,\n",
       "                nan,        nan]],\n",
       "\n",
       "       [[       nan,        nan,        nan, ...,        nan,\n",
       "                nan,        nan],\n",
       "        [       nan,        nan,        nan, ...,        nan,\n",
       "                nan,        nan],\n",
       "        [0.37423876, 0.44865302, 0.5042831 , ..., 0.49778088,\n",
       "         0.50500557, 0.4652698 ]],\n",
       "\n",
       "       [[       nan,        nan,        nan, ...,        nan,\n",
       "                nan,        nan],\n",
       "        [2.03479259, 1.91598665, 1.85080393, ..., 2.13112173,\n",
       "         2.07043437, 1.99561874],\n",
       "        [       nan,        nan,        nan, ...,        nan,\n",
       "                nan,        nan]]])</pre></div></li></ul></div></li><li class='xr-section-item'><input id='section-ad9a9240-a722-4d05-bde0-5e3dc04e2882' class='xr-section-summary-in' type='checkbox'  ><label for='section-ad9a9240-a722-4d05-bde0-5e3dc04e2882' class='xr-section-summary' >Indexes: <span>(4)</span></label><div class='xr-section-inline-details'></div><div class='xr-section-details'><ul class='xr-var-list'><li class='xr-var-item'><div class='xr-index-name'><div>depth</div></div><div class='xr-index-preview'>PandasIndex</div><div></div><input id='index-5c1ce7a2-aa88-4b79-bba6-0d311537d5f2' class='xr-index-data-in' type='checkbox'/><label for='index-5c1ce7a2-aa88-4b79-bba6-0d311537d5f2' title='Show/Hide index repr'><svg class='icon xr-icon-database'><use xlink:href='#icon-database'></use></svg></label><div class='xr-index-data'><pre>PandasIndex(Index([1, 2, 3], dtype=&#x27;int32&#x27;, name=&#x27;depth&#x27;))</pre></div></li><li class='xr-var-item'><div class='xr-index-name'><div>latitude</div></div><div class='xr-index-preview'>PandasIndex</div><div></div><input id='index-0d25fa5c-306f-4d8b-ad37-ee5d2525299a' class='xr-index-data-in' type='checkbox'/><label for='index-0d25fa5c-306f-4d8b-ad37-ee5d2525299a' title='Show/Hide index repr'><svg class='icon xr-icon-database'><use xlink:href='#icon-database'></use></svg></label><div class='xr-index-data'><pre>PandasIndex(Index([22.75, 31.6, 50.0], dtype=&#x27;float64&#x27;, name=&#x27;latitude&#x27;))</pre></div></li><li class='xr-var-item'><div class='xr-index-name'><div>longitude</div></div><div class='xr-index-preview'>PandasIndex</div><div></div><input id='index-7a3abe66-e122-461e-91e3-fd11dcf482b7' class='xr-index-data-in' type='checkbox'/><label for='index-7a3abe66-e122-461e-91e3-fd11dcf482b7' title='Show/Hide index repr'><svg class='icon xr-icon-database'><use xlink:href='#icon-database'></use></svg></label><div class='xr-index-data'><pre>PandasIndex(Index([-158.0, -150.0, -64.2], dtype=&#x27;float64&#x27;, name=&#x27;longitude&#x27;))</pre></div></li><li class='xr-var-item'><div class='xr-index-name'><div>time</div></div><div class='xr-index-preview'>PandasIndex</div><div></div><input id='index-611e2bcf-260f-4a63-9bd2-2a11dc1abf56' class='xr-index-data-in' type='checkbox'/><label for='index-611e2bcf-260f-4a63-9bd2-2a11dc1abf56' title='Show/Hide index repr'><svg class='icon xr-icon-database'><use xlink:href='#icon-database'></use></svg></label><div class='xr-index-data'><pre>PandasIndex(DatetimeIndex([&#x27;1998-01-01&#x27;, &#x27;1998-01-02&#x27;, &#x27;1998-01-03&#x27;, &#x27;1998-01-04&#x27;,\n",
       "               &#x27;1998-01-05&#x27;, &#x27;1998-01-06&#x27;, &#x27;1998-01-07&#x27;, &#x27;1998-01-08&#x27;,\n",
       "               &#x27;1998-01-09&#x27;, &#x27;1998-01-10&#x27;,\n",
       "               ...\n",
       "               &#x27;2021-12-23&#x27;, &#x27;2021-12-24&#x27;, &#x27;2021-12-25&#x27;, &#x27;2021-12-26&#x27;,\n",
       "               &#x27;2021-12-27&#x27;, &#x27;2021-12-28&#x27;, &#x27;2021-12-29&#x27;, &#x27;2021-12-30&#x27;,\n",
       "               &#x27;2021-12-31&#x27;, &#x27;2022-01-01&#x27;],\n",
       "              dtype=&#x27;datetime64[ns]&#x27;, name=&#x27;time&#x27;, length=8767, freq=None))</pre></div></li></ul></div></li><li class='xr-section-item'><input id='section-b1efc438-36b6-4c00-82c9-79fec1a21fc4' class='xr-section-summary-in' type='checkbox' disabled ><label for='section-b1efc438-36b6-4c00-82c9-79fec1a21fc4' class='xr-section-summary'  title='Expand/collapse section'>Attributes: <span>(0)</span></label><div class='xr-section-inline-details'></div><div class='xr-section-details'><dl class='xr-attrs'></dl></div></li></ul></div></div>"
      ],
      "text/plain": [
       "<xarray.Dataset> Size: 13MB\n",
       "Dimensions:              (latitude: 3, longitude: 3, time: 8767, depth: 3)\n",
       "Coordinates:\n",
       "  * depth                (depth) int32 12B 1 2 3\n",
       "  * latitude             (latitude) float64 24B 22.75 31.6 50.0\n",
       "  * longitude            (longitude) float64 24B -158.0 -150.0 -64.2\n",
       "  * time                 (time) datetime64[ns] 70kB 1998-01-01 ... 2022-01-01\n",
       "Data variables: (12/13)\n",
       "    T                    (latitude, longitude, time, depth) float64 2MB 23.52...\n",
       "    U                    (latitude, longitude, time, depth) float64 2MB 0.016...\n",
       "    V                    (latitude, longitude, time, depth) float64 2MB -0.07...\n",
       "    mnkc_epi             (latitude, longitude, time) float64 631kB 0.269 ... nan\n",
       "    mnkc_hmlmeso         (latitude, longitude, time) float64 631kB 0.7915 ......\n",
       "    mnkc_lmeso           (latitude, longitude, time) float64 631kB 2.173 ... nan\n",
       "    ...                   ...\n",
       "    mnkc_mumeso          (latitude, longitude, time) float64 631kB 0.4889 ......\n",
       "    mnkc_umeso           (latitude, longitude, time) float64 631kB 0.4931 ......\n",
       "    npp                  (latitude, longitude, time) float64 631kB 315.7 ... nan\n",
       "    pelagic_layer_depth  (latitude, longitude, time, depth) float64 2MB 117.3...\n",
       "    zeu                  (latitude, longitude, time) float64 631kB 78.19 ... nan\n",
       "    zooc                 (latitude, longitude, time) float64 631kB 0.2896 ......"
      ]
     },
     "execution_count": 3,
     "metadata": {},
     "output_type": "execute_result"
    }
   ],
   "source": [
    "data"
   ]
  },
  {
   "cell_type": "code",
   "execution_count": 4,
   "metadata": {},
   "outputs": [
    {
     "data": {
      "text/html": [
       "<div><svg style=\"position: absolute; width: 0; height: 0; overflow: hidden\">\n",
       "<defs>\n",
       "<symbol id=\"icon-database\" viewBox=\"0 0 32 32\">\n",
       "<path d=\"M16 0c-8.837 0-16 2.239-16 5v4c0 2.761 7.163 5 16 5s16-2.239 16-5v-4c0-2.761-7.163-5-16-5z\"></path>\n",
       "<path d=\"M16 17c-8.837 0-16-2.239-16-5v6c0 2.761 7.163 5 16 5s16-2.239 16-5v-6c0 2.761-7.163 5-16 5z\"></path>\n",
       "<path d=\"M16 26c-8.837 0-16-2.239-16-5v6c0 2.761 7.163 5 16 5s16-2.239 16-5v-6c0 2.761-7.163 5-16 5z\"></path>\n",
       "</symbol>\n",
       "<symbol id=\"icon-file-text2\" viewBox=\"0 0 32 32\">\n",
       "<path d=\"M28.681 7.159c-0.694-0.947-1.662-2.053-2.724-3.116s-2.169-2.030-3.116-2.724c-1.612-1.182-2.393-1.319-2.841-1.319h-15.5c-1.378 0-2.5 1.121-2.5 2.5v27c0 1.378 1.122 2.5 2.5 2.5h23c1.378 0 2.5-1.122 2.5-2.5v-19.5c0-0.448-0.137-1.23-1.319-2.841zM24.543 5.457c0.959 0.959 1.712 1.825 2.268 2.543h-4.811v-4.811c0.718 0.556 1.584 1.309 2.543 2.268zM28 29.5c0 0.271-0.229 0.5-0.5 0.5h-23c-0.271 0-0.5-0.229-0.5-0.5v-27c0-0.271 0.229-0.5 0.5-0.5 0 0 15.499-0 15.5 0v7c0 0.552 0.448 1 1 1h7v19.5z\"></path>\n",
       "<path d=\"M23 26h-14c-0.552 0-1-0.448-1-1s0.448-1 1-1h14c0.552 0 1 0.448 1 1s-0.448 1-1 1z\"></path>\n",
       "<path d=\"M23 22h-14c-0.552 0-1-0.448-1-1s0.448-1 1-1h14c0.552 0 1 0.448 1 1s-0.448 1-1 1z\"></path>\n",
       "<path d=\"M23 18h-14c-0.552 0-1-0.448-1-1s0.448-1 1-1h14c0.552 0 1 0.448 1 1s-0.448 1-1 1z\"></path>\n",
       "</symbol>\n",
       "</defs>\n",
       "</svg>\n",
       "<style>/* CSS stylesheet for displaying xarray objects in jupyterlab.\n",
       " *\n",
       " */\n",
       "\n",
       ":root {\n",
       "  --xr-font-color0: var(--jp-content-font-color0, rgba(0, 0, 0, 1));\n",
       "  --xr-font-color2: var(--jp-content-font-color2, rgba(0, 0, 0, 0.54));\n",
       "  --xr-font-color3: var(--jp-content-font-color3, rgba(0, 0, 0, 0.38));\n",
       "  --xr-border-color: var(--jp-border-color2, #e0e0e0);\n",
       "  --xr-disabled-color: var(--jp-layout-color3, #bdbdbd);\n",
       "  --xr-background-color: var(--jp-layout-color0, white);\n",
       "  --xr-background-color-row-even: var(--jp-layout-color1, white);\n",
       "  --xr-background-color-row-odd: var(--jp-layout-color2, #eeeeee);\n",
       "}\n",
       "\n",
       "html[theme=dark],\n",
       "html[data-theme=dark],\n",
       "body[data-theme=dark],\n",
       "body.vscode-dark {\n",
       "  --xr-font-color0: rgba(255, 255, 255, 1);\n",
       "  --xr-font-color2: rgba(255, 255, 255, 0.54);\n",
       "  --xr-font-color3: rgba(255, 255, 255, 0.38);\n",
       "  --xr-border-color: #1F1F1F;\n",
       "  --xr-disabled-color: #515151;\n",
       "  --xr-background-color: #111111;\n",
       "  --xr-background-color-row-even: #111111;\n",
       "  --xr-background-color-row-odd: #313131;\n",
       "}\n",
       "\n",
       ".xr-wrap {\n",
       "  display: block !important;\n",
       "  min-width: 300px;\n",
       "  max-width: 700px;\n",
       "}\n",
       "\n",
       ".xr-text-repr-fallback {\n",
       "  /* fallback to plain text repr when CSS is not injected (untrusted notebook) */\n",
       "  display: none;\n",
       "}\n",
       "\n",
       ".xr-header {\n",
       "  padding-top: 6px;\n",
       "  padding-bottom: 6px;\n",
       "  margin-bottom: 4px;\n",
       "  border-bottom: solid 1px var(--xr-border-color);\n",
       "}\n",
       "\n",
       ".xr-header > div,\n",
       ".xr-header > ul {\n",
       "  display: inline;\n",
       "  margin-top: 0;\n",
       "  margin-bottom: 0;\n",
       "}\n",
       "\n",
       ".xr-obj-type,\n",
       ".xr-array-name {\n",
       "  margin-left: 2px;\n",
       "  margin-right: 10px;\n",
       "}\n",
       "\n",
       ".xr-obj-type {\n",
       "  color: var(--xr-font-color2);\n",
       "}\n",
       "\n",
       ".xr-sections {\n",
       "  padding-left: 0 !important;\n",
       "  display: grid;\n",
       "  grid-template-columns: 150px auto auto 1fr 0 20px 0 20px;\n",
       "}\n",
       "\n",
       ".xr-section-item {\n",
       "  display: contents;\n",
       "}\n",
       "\n",
       ".xr-section-item input {\n",
       "  display: inline-block;\n",
       "  opacity: 0;\n",
       "}\n",
       "\n",
       ".xr-section-item input + label {\n",
       "  color: var(--xr-disabled-color);\n",
       "}\n",
       "\n",
       ".xr-section-item input:enabled + label {\n",
       "  cursor: pointer;\n",
       "  color: var(--xr-font-color2);\n",
       "}\n",
       "\n",
       ".xr-section-item input:focus + label {\n",
       "  border: 2px solid var(--xr-font-color0);\n",
       "}\n",
       "\n",
       ".xr-section-item input:enabled + label:hover {\n",
       "  color: var(--xr-font-color0);\n",
       "}\n",
       "\n",
       ".xr-section-summary {\n",
       "  grid-column: 1;\n",
       "  color: var(--xr-font-color2);\n",
       "  font-weight: 500;\n",
       "}\n",
       "\n",
       ".xr-section-summary > span {\n",
       "  display: inline-block;\n",
       "  padding-left: 0.5em;\n",
       "}\n",
       "\n",
       ".xr-section-summary-in:disabled + label {\n",
       "  color: var(--xr-font-color2);\n",
       "}\n",
       "\n",
       ".xr-section-summary-in + label:before {\n",
       "  display: inline-block;\n",
       "  content: '►';\n",
       "  font-size: 11px;\n",
       "  width: 15px;\n",
       "  text-align: center;\n",
       "}\n",
       "\n",
       ".xr-section-summary-in:disabled + label:before {\n",
       "  color: var(--xr-disabled-color);\n",
       "}\n",
       "\n",
       ".xr-section-summary-in:checked + label:before {\n",
       "  content: '▼';\n",
       "}\n",
       "\n",
       ".xr-section-summary-in:checked + label > span {\n",
       "  display: none;\n",
       "}\n",
       "\n",
       ".xr-section-summary,\n",
       ".xr-section-inline-details {\n",
       "  padding-top: 4px;\n",
       "  padding-bottom: 4px;\n",
       "}\n",
       "\n",
       ".xr-section-inline-details {\n",
       "  grid-column: 2 / -1;\n",
       "}\n",
       "\n",
       ".xr-section-details {\n",
       "  display: none;\n",
       "  grid-column: 1 / -1;\n",
       "  margin-bottom: 5px;\n",
       "}\n",
       "\n",
       ".xr-section-summary-in:checked ~ .xr-section-details {\n",
       "  display: contents;\n",
       "}\n",
       "\n",
       ".xr-array-wrap {\n",
       "  grid-column: 1 / -1;\n",
       "  display: grid;\n",
       "  grid-template-columns: 20px auto;\n",
       "}\n",
       "\n",
       ".xr-array-wrap > label {\n",
       "  grid-column: 1;\n",
       "  vertical-align: top;\n",
       "}\n",
       "\n",
       ".xr-preview {\n",
       "  color: var(--xr-font-color3);\n",
       "}\n",
       "\n",
       ".xr-array-preview,\n",
       ".xr-array-data {\n",
       "  padding: 0 5px !important;\n",
       "  grid-column: 2;\n",
       "}\n",
       "\n",
       ".xr-array-data,\n",
       ".xr-array-in:checked ~ .xr-array-preview {\n",
       "  display: none;\n",
       "}\n",
       "\n",
       ".xr-array-in:checked ~ .xr-array-data,\n",
       ".xr-array-preview {\n",
       "  display: inline-block;\n",
       "}\n",
       "\n",
       ".xr-dim-list {\n",
       "  display: inline-block !important;\n",
       "  list-style: none;\n",
       "  padding: 0 !important;\n",
       "  margin: 0;\n",
       "}\n",
       "\n",
       ".xr-dim-list li {\n",
       "  display: inline-block;\n",
       "  padding: 0;\n",
       "  margin: 0;\n",
       "}\n",
       "\n",
       ".xr-dim-list:before {\n",
       "  content: '(';\n",
       "}\n",
       "\n",
       ".xr-dim-list:after {\n",
       "  content: ')';\n",
       "}\n",
       "\n",
       ".xr-dim-list li:not(:last-child):after {\n",
       "  content: ',';\n",
       "  padding-right: 5px;\n",
       "}\n",
       "\n",
       ".xr-has-index {\n",
       "  font-weight: bold;\n",
       "}\n",
       "\n",
       ".xr-var-list,\n",
       ".xr-var-item {\n",
       "  display: contents;\n",
       "}\n",
       "\n",
       ".xr-var-item > div,\n",
       ".xr-var-item label,\n",
       ".xr-var-item > .xr-var-name span {\n",
       "  background-color: var(--xr-background-color-row-even);\n",
       "  margin-bottom: 0;\n",
       "}\n",
       "\n",
       ".xr-var-item > .xr-var-name:hover span {\n",
       "  padding-right: 5px;\n",
       "}\n",
       "\n",
       ".xr-var-list > li:nth-child(odd) > div,\n",
       ".xr-var-list > li:nth-child(odd) > label,\n",
       ".xr-var-list > li:nth-child(odd) > .xr-var-name span {\n",
       "  background-color: var(--xr-background-color-row-odd);\n",
       "}\n",
       "\n",
       ".xr-var-name {\n",
       "  grid-column: 1;\n",
       "}\n",
       "\n",
       ".xr-var-dims {\n",
       "  grid-column: 2;\n",
       "}\n",
       "\n",
       ".xr-var-dtype {\n",
       "  grid-column: 3;\n",
       "  text-align: right;\n",
       "  color: var(--xr-font-color2);\n",
       "}\n",
       "\n",
       ".xr-var-preview {\n",
       "  grid-column: 4;\n",
       "}\n",
       "\n",
       ".xr-index-preview {\n",
       "  grid-column: 2 / 5;\n",
       "  color: var(--xr-font-color2);\n",
       "}\n",
       "\n",
       ".xr-var-name,\n",
       ".xr-var-dims,\n",
       ".xr-var-dtype,\n",
       ".xr-preview,\n",
       ".xr-attrs dt {\n",
       "  white-space: nowrap;\n",
       "  overflow: hidden;\n",
       "  text-overflow: ellipsis;\n",
       "  padding-right: 10px;\n",
       "}\n",
       "\n",
       ".xr-var-name:hover,\n",
       ".xr-var-dims:hover,\n",
       ".xr-var-dtype:hover,\n",
       ".xr-attrs dt:hover {\n",
       "  overflow: visible;\n",
       "  width: auto;\n",
       "  z-index: 1;\n",
       "}\n",
       "\n",
       ".xr-var-attrs,\n",
       ".xr-var-data,\n",
       ".xr-index-data {\n",
       "  display: none;\n",
       "  background-color: var(--xr-background-color) !important;\n",
       "  padding-bottom: 5px !important;\n",
       "}\n",
       "\n",
       ".xr-var-attrs-in:checked ~ .xr-var-attrs,\n",
       ".xr-var-data-in:checked ~ .xr-var-data,\n",
       ".xr-index-data-in:checked ~ .xr-index-data {\n",
       "  display: block;\n",
       "}\n",
       "\n",
       ".xr-var-data > table {\n",
       "  float: right;\n",
       "}\n",
       "\n",
       ".xr-var-name span,\n",
       ".xr-var-data,\n",
       ".xr-index-name div,\n",
       ".xr-index-data,\n",
       ".xr-attrs {\n",
       "  padding-left: 25px !important;\n",
       "}\n",
       "\n",
       ".xr-attrs,\n",
       ".xr-var-attrs,\n",
       ".xr-var-data,\n",
       ".xr-index-data {\n",
       "  grid-column: 1 / -1;\n",
       "}\n",
       "\n",
       "dl.xr-attrs {\n",
       "  padding: 0;\n",
       "  margin: 0;\n",
       "  display: grid;\n",
       "  grid-template-columns: 125px auto;\n",
       "}\n",
       "\n",
       ".xr-attrs dt,\n",
       ".xr-attrs dd {\n",
       "  padding: 0;\n",
       "  margin: 0;\n",
       "  float: left;\n",
       "  padding-right: 10px;\n",
       "  width: auto;\n",
       "}\n",
       "\n",
       ".xr-attrs dt {\n",
       "  font-weight: normal;\n",
       "  grid-column: 1;\n",
       "}\n",
       "\n",
       ".xr-attrs dt:hover span {\n",
       "  display: inline-block;\n",
       "  background: var(--xr-background-color);\n",
       "  padding-right: 10px;\n",
       "}\n",
       "\n",
       ".xr-attrs dd {\n",
       "  grid-column: 2;\n",
       "  white-space: pre-wrap;\n",
       "  word-break: break-all;\n",
       "}\n",
       "\n",
       ".xr-icon-database,\n",
       ".xr-icon-file-text2,\n",
       ".xr-no-icon {\n",
       "  display: inline-block;\n",
       "  vertical-align: middle;\n",
       "  width: 1em;\n",
       "  height: 1.5em !important;\n",
       "  stroke-width: 0;\n",
       "  stroke: currentColor;\n",
       "  fill: currentColor;\n",
       "}\n",
       "</style><pre class='xr-text-repr-fallback'>&lt;xarray.Dataset&gt; Size: 701kB\n",
       "Dimensions:    (time: 8767, latitude: 3, longitude: 3)\n",
       "Coordinates:\n",
       "  * latitude   (latitude) float64 24B 22.75 31.6 50.0\n",
       "  * longitude  (longitude) float64 24B -158.0 -150.0 -64.2\n",
       "  * time       (time) datetime64[ns] 70kB 1998-01-01 1998-01-02 ... 2022-01-01\n",
       "Data variables:\n",
       "    CAFE       (time, latitude, longitude) float64 631kB 306.4 nan ... nan nan\n",
       "Attributes:\n",
       "    Conventions:  CF-1.8\n",
       "    History:      2023-01-02 08:55:09.514113 Python\n",
       "    Keywords:     Primary Production\n",
       "    PI Contact:   tryankeogh@csir.co.za\n",
       "    PI Name:      Thomas Ryan-Keogh</pre><div class='xr-wrap' style='display:none'><div class='xr-header'><div class='xr-obj-type'>xarray.Dataset</div></div><ul class='xr-sections'><li class='xr-section-item'><input id='section-e8496bce-4e0e-4512-bf29-b6d54e0c5030' class='xr-section-summary-in' type='checkbox' disabled ><label for='section-e8496bce-4e0e-4512-bf29-b6d54e0c5030' class='xr-section-summary'  title='Expand/collapse section'>Dimensions:</label><div class='xr-section-inline-details'><ul class='xr-dim-list'><li><span class='xr-has-index'>time</span>: 8767</li><li><span class='xr-has-index'>latitude</span>: 3</li><li><span class='xr-has-index'>longitude</span>: 3</li></ul></div><div class='xr-section-details'></div></li><li class='xr-section-item'><input id='section-4b9f3276-018f-4686-be0e-ef807aa79912' class='xr-section-summary-in' type='checkbox'  checked><label for='section-4b9f3276-018f-4686-be0e-ef807aa79912' class='xr-section-summary' >Coordinates: <span>(3)</span></label><div class='xr-section-inline-details'></div><div class='xr-section-details'><ul class='xr-var-list'><li class='xr-var-item'><div class='xr-var-name'><span class='xr-has-index'>latitude</span></div><div class='xr-var-dims'>(latitude)</div><div class='xr-var-dtype'>float64</div><div class='xr-var-preview xr-preview'>22.75 31.6 50.0</div><input id='attrs-c8863b00-e0b4-4f34-ac73-0301857a2938' class='xr-var-attrs-in' type='checkbox' ><label for='attrs-c8863b00-e0b4-4f34-ac73-0301857a2938' title='Show/Hide attributes'><svg class='icon xr-icon-file-text2'><use xlink:href='#icon-file-text2'></use></svg></label><input id='data-64523c8a-fa73-4c07-94b1-f63cd334f9ca' class='xr-var-data-in' type='checkbox'><label for='data-64523c8a-fa73-4c07-94b1-f63cd334f9ca' title='Show/Hide data repr'><svg class='icon xr-icon-database'><use xlink:href='#icon-database'></use></svg></label><div class='xr-var-attrs'><dl class='xr-attrs'><dt><span>axis :</span></dt><dd>Y</dd><dt><span>long_name :</span></dt><dd>latitude</dd><dt><span>units :</span></dt><dd>degrees_north</dd></dl></div><div class='xr-var-data'><pre>array([22.75, 31.6 , 50.  ])</pre></div></li><li class='xr-var-item'><div class='xr-var-name'><span class='xr-has-index'>longitude</span></div><div class='xr-var-dims'>(longitude)</div><div class='xr-var-dtype'>float64</div><div class='xr-var-preview xr-preview'>-158.0 -150.0 -64.2</div><input id='attrs-31595c3f-b5bb-447c-be85-e566c285d7bb' class='xr-var-attrs-in' type='checkbox' ><label for='attrs-31595c3f-b5bb-447c-be85-e566c285d7bb' title='Show/Hide attributes'><svg class='icon xr-icon-file-text2'><use xlink:href='#icon-file-text2'></use></svg></label><input id='data-94b8ada2-3d71-4d9f-bbe4-340a1b514461' class='xr-var-data-in' type='checkbox'><label for='data-94b8ada2-3d71-4d9f-bbe4-340a1b514461' title='Show/Hide data repr'><svg class='icon xr-icon-database'><use xlink:href='#icon-database'></use></svg></label><div class='xr-var-attrs'><dl class='xr-attrs'><dt><span>axis :</span></dt><dd>X</dd><dt><span>long_name :</span></dt><dd>longitude</dd><dt><span>units :</span></dt><dd>degrees_east</dd></dl></div><div class='xr-var-data'><pre>array([-158. , -150. ,  -64.2])</pre></div></li><li class='xr-var-item'><div class='xr-var-name'><span class='xr-has-index'>time</span></div><div class='xr-var-dims'>(time)</div><div class='xr-var-dtype'>datetime64[ns]</div><div class='xr-var-preview xr-preview'>1998-01-01 ... 2022-01-01</div><input id='attrs-603be0a7-fe74-4824-bc69-6edd6a8bbd2e' class='xr-var-attrs-in' type='checkbox' ><label for='attrs-603be0a7-fe74-4824-bc69-6edd6a8bbd2e' title='Show/Hide attributes'><svg class='icon xr-icon-file-text2'><use xlink:href='#icon-file-text2'></use></svg></label><input id='data-2ea13c9c-e8ea-44f0-a8ad-bc3500c9705b' class='xr-var-data-in' type='checkbox'><label for='data-2ea13c9c-e8ea-44f0-a8ad-bc3500c9705b' title='Show/Hide data repr'><svg class='icon xr-icon-database'><use xlink:href='#icon-database'></use></svg></label><div class='xr-var-attrs'><dl class='xr-attrs'><dt><span>format :</span></dt><dd>datetime64[ns]</dd><dt><span>long_name :</span></dt><dd>time</dd><dt><span>standard_name :</span></dt><dd>Time</dd><dt><span>axis :</span></dt><dd>T</dd></dl></div><div class='xr-var-data'><pre>array([&#x27;1998-01-01T00:00:00.000000000&#x27;, &#x27;1998-01-02T00:00:00.000000000&#x27;,\n",
       "       &#x27;1998-01-03T00:00:00.000000000&#x27;, ..., &#x27;2021-12-30T00:00:00.000000000&#x27;,\n",
       "       &#x27;2021-12-31T00:00:00.000000000&#x27;, &#x27;2022-01-01T00:00:00.000000000&#x27;],\n",
       "      dtype=&#x27;datetime64[ns]&#x27;)</pre></div></li></ul></div></li><li class='xr-section-item'><input id='section-1b114bfd-47b8-489f-af0c-048b62e5ed2e' class='xr-section-summary-in' type='checkbox'  checked><label for='section-1b114bfd-47b8-489f-af0c-048b62e5ed2e' class='xr-section-summary' >Data variables: <span>(1)</span></label><div class='xr-section-inline-details'></div><div class='xr-section-details'><ul class='xr-var-list'><li class='xr-var-item'><div class='xr-var-name'><span>CAFE</span></div><div class='xr-var-dims'>(time, latitude, longitude)</div><div class='xr-var-dtype'>float64</div><div class='xr-var-preview xr-preview'>306.4 nan nan nan ... nan nan nan</div><input id='attrs-340cf7cb-c9d0-4680-aea4-23ebe463460c' class='xr-var-attrs-in' type='checkbox' ><label for='attrs-340cf7cb-c9d0-4680-aea4-23ebe463460c' title='Show/Hide attributes'><svg class='icon xr-icon-file-text2'><use xlink:href='#icon-file-text2'></use></svg></label><input id='data-cb6a1061-d44f-4217-b812-ca6fb77f3533' class='xr-var-data-in' type='checkbox'><label for='data-cb6a1061-d44f-4217-b812-ca6fb77f3533' title='Show/Hide data repr'><svg class='icon xr-icon-database'><use xlink:href='#icon-database'></use></svg></label><div class='xr-var-attrs'><dl class='xr-attrs'><dt><span>adg wavelength :</span></dt><dd>443nm</dd><dt><span>aph wavelength :</span></dt><dd>443nm</dd><dt><span>bbp wavelength :</span></dt><dd>443nm</dd><dt><span>doi :</span></dt><dd>10.1002/2016GB005521</dd><dt><span>long_name :</span></dt><dd>primary_production_using_CAFE_model</dd><dt><span>mld_criteria :</span></dt><dd>0.030 kg m^-3</dd><dt><span>mld_product :</span></dt><dd>HADLEY</dd><dt><span>reference :</span></dt><dd>Silsbe_et_al_2016</dd><dt><span>remote_sensing_data_product :</span></dt><dd>OCCCIv6</dd><dt><span>resolution :</span></dt><dd>0.00f; // float</dd><dt><span>standard_name :</span></dt><dd>NPP</dd><dt><span>units :</span></dt><dd>mg m-2 day-1</dd><dt><span>weight :</span></dt><dd>carbon</dd></dl></div><div class='xr-var-data'><pre>array([[[306.35391235,          nan,          nan],\n",
       "        [         nan,          nan, 262.46481323],\n",
       "        [         nan,          nan,          nan]],\n",
       "\n",
       "       [[302.32123566,          nan,          nan],\n",
       "        [         nan,          nan, 257.14034843],\n",
       "        [         nan,          nan,          nan]],\n",
       "\n",
       "       [[298.28855896,          nan,          nan],\n",
       "        [         nan,          nan, 251.81588364],\n",
       "        [         nan,          nan,          nan]],\n",
       "\n",
       "       ...,\n",
       "\n",
       "       [[327.73001709,          nan,          nan],\n",
       "        [         nan,          nan, 230.26930847],\n",
       "        [         nan,          nan,          nan]],\n",
       "\n",
       "       [[344.41890259,          nan,          nan],\n",
       "        [         nan,          nan, 229.35965271],\n",
       "        [         nan,          nan,          nan]],\n",
       "\n",
       "       [[361.10778809,          nan,          nan],\n",
       "        [         nan,          nan, 228.44999695],\n",
       "        [         nan,          nan,          nan]]])</pre></div></li></ul></div></li><li class='xr-section-item'><input id='section-36440ac4-4fa4-4dd3-9815-d7d541f54394' class='xr-section-summary-in' type='checkbox'  ><label for='section-36440ac4-4fa4-4dd3-9815-d7d541f54394' class='xr-section-summary' >Indexes: <span>(3)</span></label><div class='xr-section-inline-details'></div><div class='xr-section-details'><ul class='xr-var-list'><li class='xr-var-item'><div class='xr-index-name'><div>latitude</div></div><div class='xr-index-preview'>PandasIndex</div><div></div><input id='index-a4ea5015-abd1-4edd-8578-438f1197696c' class='xr-index-data-in' type='checkbox'/><label for='index-a4ea5015-abd1-4edd-8578-438f1197696c' title='Show/Hide index repr'><svg class='icon xr-icon-database'><use xlink:href='#icon-database'></use></svg></label><div class='xr-index-data'><pre>PandasIndex(Index([22.75, 31.6, 50.0], dtype=&#x27;float64&#x27;, name=&#x27;latitude&#x27;))</pre></div></li><li class='xr-var-item'><div class='xr-index-name'><div>longitude</div></div><div class='xr-index-preview'>PandasIndex</div><div></div><input id='index-bca7b9d7-26c4-4b8b-af86-10b622047bc2' class='xr-index-data-in' type='checkbox'/><label for='index-bca7b9d7-26c4-4b8b-af86-10b622047bc2' title='Show/Hide index repr'><svg class='icon xr-icon-database'><use xlink:href='#icon-database'></use></svg></label><div class='xr-index-data'><pre>PandasIndex(Index([-158.0, -150.0, -64.2], dtype=&#x27;float64&#x27;, name=&#x27;longitude&#x27;))</pre></div></li><li class='xr-var-item'><div class='xr-index-name'><div>time</div></div><div class='xr-index-preview'>PandasIndex</div><div></div><input id='index-fb518f3f-c4c7-426d-b2a6-540a23e65a67' class='xr-index-data-in' type='checkbox'/><label for='index-fb518f3f-c4c7-426d-b2a6-540a23e65a67' title='Show/Hide index repr'><svg class='icon xr-icon-database'><use xlink:href='#icon-database'></use></svg></label><div class='xr-index-data'><pre>PandasIndex(DatetimeIndex([&#x27;1998-01-01&#x27;, &#x27;1998-01-02&#x27;, &#x27;1998-01-03&#x27;, &#x27;1998-01-04&#x27;,\n",
       "               &#x27;1998-01-05&#x27;, &#x27;1998-01-06&#x27;, &#x27;1998-01-07&#x27;, &#x27;1998-01-08&#x27;,\n",
       "               &#x27;1998-01-09&#x27;, &#x27;1998-01-10&#x27;,\n",
       "               ...\n",
       "               &#x27;2021-12-23&#x27;, &#x27;2021-12-24&#x27;, &#x27;2021-12-25&#x27;, &#x27;2021-12-26&#x27;,\n",
       "               &#x27;2021-12-27&#x27;, &#x27;2021-12-28&#x27;, &#x27;2021-12-29&#x27;, &#x27;2021-12-30&#x27;,\n",
       "               &#x27;2021-12-31&#x27;, &#x27;2022-01-01&#x27;],\n",
       "              dtype=&#x27;datetime64[ns]&#x27;, name=&#x27;time&#x27;, length=8767, freq=None))</pre></div></li></ul></div></li><li class='xr-section-item'><input id='section-8ae405ef-2767-469a-9d5f-b8fdc12423af' class='xr-section-summary-in' type='checkbox'  checked><label for='section-8ae405ef-2767-469a-9d5f-b8fdc12423af' class='xr-section-summary' >Attributes: <span>(5)</span></label><div class='xr-section-inline-details'></div><div class='xr-section-details'><dl class='xr-attrs'><dt><span>Conventions :</span></dt><dd>CF-1.8</dd><dt><span>History :</span></dt><dd>2023-01-02 08:55:09.514113 Python</dd><dt><span>Keywords :</span></dt><dd>Primary Production</dd><dt><span>PI Contact :</span></dt><dd>tryankeogh@csir.co.za</dd><dt><span>PI Name :</span></dt><dd>Thomas Ryan-Keogh</dd></dl></div></li></ul></div></div>"
      ],
      "text/plain": [
       "<xarray.Dataset> Size: 701kB\n",
       "Dimensions:    (time: 8767, latitude: 3, longitude: 3)\n",
       "Coordinates:\n",
       "  * latitude   (latitude) float64 24B 22.75 31.6 50.0\n",
       "  * longitude  (longitude) float64 24B -158.0 -150.0 -64.2\n",
       "  * time       (time) datetime64[ns] 70kB 1998-01-01 1998-01-02 ... 2022-01-01\n",
       "Data variables:\n",
       "    CAFE       (time, latitude, longitude) float64 631kB 306.4 nan ... nan nan\n",
       "Attributes:\n",
       "    Conventions:  CF-1.8\n",
       "    History:      2023-01-02 08:55:09.514113 Python\n",
       "    Keywords:     Primary Production\n",
       "    PI Contact:   tryankeogh@csir.co.za\n",
       "    PI Name:      Thomas Ryan-Keogh"
      ]
     },
     "execution_count": 4,
     "metadata": {},
     "output_type": "execute_result"
    }
   ],
   "source": [
    "cafe_npp"
   ]
  },
  {
   "cell_type": "markdown",
   "metadata": {},
   "source": [
    "Load observations.\n",
    "\n",
    "First I multiply the observations by the average epipelagic layer depth (150m) to have a biomass in m2 rather than m3.\n"
   ]
  },
  {
   "cell_type": "code",
   "execution_count": 5,
   "metadata": {},
   "outputs": [],
   "source": [
    "def update_layer(data: xr.DataArray, epipelagic_size):\n",
    "    data = data.pint.quantify() * epipelagic_size\n",
    "    layer_attrs = data[\"layer\"].attrs\n",
    "    data = data.assign_coords({\"layer\": [1]})\n",
    "    data[\"layer\"].attrs = layer_attrs\n",
    "    return data\n",
    "\n",
    "\n",
    "epipelagic_size = 150 * pint.application_registry(\"meter\")\n",
    "\n",
    "obs_bats = xr.open_dataset(\"1_data_processing/1_1_Forcing/products/Bats_obs.zarr\", engine=\"zarr\")\n",
    "obs_bats = update_layer(obs_bats, epipelagic_size)\n",
    "obs_bats = Observation(obs_bats)\n",
    "\n",
    "obs_hot = xr.open_dataset(\"1_data_processing/1_1_Forcing/products/Hot_obs.zarr\", engine=\"zarr\")\n",
    "obs_hot = update_layer(obs_hot, epipelagic_size)\n",
    "obs_hot = Observation(obs_hot)\n",
    "\n",
    "obs_papa = xr.open_dataset(\"1_data_processing/1_1_Forcing/products/Papa_obs.zarr\", engine=\"zarr\")\n",
    "obs_papa = update_layer(obs_papa, epipelagic_size)\n",
    "obs_papa = Observation(obs_papa)\n",
    "\n",
    "observations = [obs_bats, obs_hot, obs_papa]"
   ]
  },
  {
   "cell_type": "markdown",
   "metadata": {},
   "source": [
    "Create structure for SeapoPym simulation.\n"
   ]
  },
  {
   "cell_type": "code",
   "execution_count": 6,
   "metadata": {},
   "outputs": [
    {
     "name": "stderr",
     "output_type": "stream",
     "text": [
      "\u001b[38;5;226m2024-12-05 10:57:58,586 :: Seapodym ::  WARNING ::\n",
      "|\tCAFE unit is milligram / day / meter ** 2, it will be converted to kilogram / day / meter ** 2.\n",
      "\u001b[0m\n"
     ]
    }
   ],
   "source": [
    "forcing_parameters = ForcingParameters(\n",
    "    temperature=ForcingUnit(forcing=data[\"T\"], resolution=1 / 12, timestep=1),\n",
    "    primary_production=ForcingUnit(forcing=cafe_npp[\"CAFE\"], resolution=1 / 12, timestep=1),\n",
    ")"
   ]
  },
  {
   "cell_type": "markdown",
   "metadata": {},
   "source": [
    "Setup the cost function.\n"
   ]
  },
  {
   "cell_type": "code",
   "execution_count": null,
   "metadata": {},
   "outputs": [],
   "source": [
    "functional_groups = [\n",
    "    FunctionalGroupOptimizeNoTransport(\n",
    "        name=\"D1N1\",\n",
    "        day_layer=1,\n",
    "        night_layer=1,\n",
    "        energy_coefficient=Parameter(\"D1N1_energy_coefficient\", 0.05, 0.8),\n",
    "        # tr_rate=Parameter(\"D1N1_tr_rate\", -1, 0),\n",
    "        # tr_max=Parameter(\"D1N1_tr_max\", 0, 50),\n",
    "        tr_rate=-0.11,\n",
    "        tr_max=10.38,\n",
    "        inv_lambda_rate=Parameter(\"D1N1_inv_lambda_rate\", 0, 1),\n",
    "        inv_lambda_max=Parameter(\"D1N1_inv_lambda_max\", 0, 100),\n",
    "    ),\n",
    "    FunctionalGroupOptimizeNoTransport(\n",
    "        name=\"D2N1\",\n",
    "        day_layer=2,\n",
    "        night_layer=1,\n",
    "        energy_coefficient=Parameter(\"D2N1_energy_coefficient\", 0.05, 0.8),\n",
    "        # tr_rate=Parameter(\"D2N1_tr_rate\", -1, 0),\n",
    "        # tr_max=Parameter(\"D2N1_tr_max\", 0, 50),\n",
    "        tr_rate=-0.11,\n",
    "        tr_max=10.38,\n",
    "        inv_lambda_rate=Parameter(\"D2N1_inv_lambda_rate\", 0, 1),\n",
    "        inv_lambda_max=Parameter(\"D2N1_inv_lambda_max\", 0, 100),\n",
    "    ),\n",
    "]"
   ]
  },
  {
   "cell_type": "code",
   "execution_count": 8,
   "metadata": {},
   "outputs": [],
   "source": [
    "cost_function = NoTransportCostFunction(\n",
    "    functional_groups=functional_groups,\n",
    "    forcing_parameters=forcing_parameters,\n",
    "    observations=observations,\n",
    ")"
   ]
  },
  {
   "cell_type": "markdown",
   "metadata": {},
   "source": [
    "Set the genetic algorithm meta parameters.\n"
   ]
  },
  {
   "cell_type": "code",
   "execution_count": 9,
   "metadata": {},
   "outputs": [],
   "source": [
    "genetic_algo_parameters = GeneticAlgorithmParameters(\n",
    "    MUTPB=0.1,\n",
    "    INDPB=0.2,\n",
    "    ETA=5,\n",
    "    CXPB=0.8,\n",
    "    NGEN=2,\n",
    "    POP_SIZE=5,\n",
    "    cost_function_weight=(-(1 / 3), -(1 / 3), -(1 / 3)),\n",
    ")"
   ]
  },
  {
   "cell_type": "markdown",
   "metadata": {},
   "source": [
    "Add a constraint to limit the total of energy transfert coefficient to 100%.\n"
   ]
  },
  {
   "cell_type": "code",
   "execution_count": 10,
   "metadata": {},
   "outputs": [],
   "source": [
    "constraint_energy = constraint.ConstraintNoTransportEnergyCoefficient(\n",
    "    parameters_name=[\"D1N1_energy_coefficient\", \"D2N1_energy_coefficient\"],\n",
    "    min_energy_coef_value=0,\n",
    "    max_energy_coef_value=1,\n",
    ")"
   ]
  },
  {
   "cell_type": "markdown",
   "metadata": {},
   "source": [
    "Finaly, create the Genetic Algorithm.\n"
   ]
  },
  {
   "cell_type": "code",
   "execution_count": 11,
   "metadata": {},
   "outputs": [],
   "source": [
    "client = Client()\n",
    "genetic_algo = GeneticAlgorithm(\n",
    "    cost_function=cost_function,\n",
    "    parameter_genetic_algorithm=genetic_algo_parameters,\n",
    "    constraint=[constraint_energy],\n",
    "    client=client,\n",
    ")"
   ]
  },
  {
   "cell_type": "markdown",
   "metadata": {},
   "source": [
    "And watch the magic on the Dask dashboard :\n"
   ]
  },
  {
   "cell_type": "code",
   "execution_count": 12,
   "metadata": {},
   "outputs": [
    {
     "data": {
      "text/html": [
       "<div>\n",
       "    <div style=\"width: 24px; height: 24px; background-color: #e1e1e1; border: 3px solid #9D9D9D; border-radius: 5px; position: absolute;\"> </div>\n",
       "    <div style=\"margin-left: 48px;\">\n",
       "        <h3 style=\"margin-bottom: 0px;\">Client</h3>\n",
       "        <p style=\"color: #9D9D9D; margin-bottom: 0px;\">Client-6835f34e-b2ef-11ef-a101-56668fadc22d</p>\n",
       "        <table style=\"width: 100%; text-align: left;\">\n",
       "\n",
       "        <tr>\n",
       "        \n",
       "            <td style=\"text-align: left;\"><strong>Connection method:</strong> Cluster object</td>\n",
       "            <td style=\"text-align: left;\"><strong>Cluster type:</strong> distributed.LocalCluster</td>\n",
       "        \n",
       "        </tr>\n",
       "\n",
       "        \n",
       "            <tr>\n",
       "                <td style=\"text-align: left;\">\n",
       "                    <strong>Dashboard: </strong> <a href=\"http://127.0.0.1:8787/status\" target=\"_blank\">http://127.0.0.1:8787/status</a>\n",
       "                </td>\n",
       "                <td style=\"text-align: left;\"></td>\n",
       "            </tr>\n",
       "        \n",
       "\n",
       "        </table>\n",
       "\n",
       "        \n",
       "\n",
       "        \n",
       "            <details>\n",
       "            <summary style=\"margin-bottom: 20px;\"><h3 style=\"display: inline;\">Cluster Info</h3></summary>\n",
       "            <div class=\"jp-RenderedHTMLCommon jp-RenderedHTML jp-mod-trusted jp-OutputArea-output\">\n",
       "    <div style=\"width: 24px; height: 24px; background-color: #e1e1e1; border: 3px solid #9D9D9D; border-radius: 5px; position: absolute;\">\n",
       "    </div>\n",
       "    <div style=\"margin-left: 48px;\">\n",
       "        <h3 style=\"margin-bottom: 0px; margin-top: 0px;\">LocalCluster</h3>\n",
       "        <p style=\"color: #9D9D9D; margin-bottom: 0px;\">671f0adb</p>\n",
       "        <table style=\"width: 100%; text-align: left;\">\n",
       "            <tr>\n",
       "                <td style=\"text-align: left;\">\n",
       "                    <strong>Dashboard:</strong> <a href=\"http://127.0.0.1:8787/status\" target=\"_blank\">http://127.0.0.1:8787/status</a>\n",
       "                </td>\n",
       "                <td style=\"text-align: left;\">\n",
       "                    <strong>Workers:</strong> 4\n",
       "                </td>\n",
       "            </tr>\n",
       "            <tr>\n",
       "                <td style=\"text-align: left;\">\n",
       "                    <strong>Total threads:</strong> 8\n",
       "                </td>\n",
       "                <td style=\"text-align: left;\">\n",
       "                    <strong>Total memory:</strong> 16.00 GiB\n",
       "                </td>\n",
       "            </tr>\n",
       "            \n",
       "            <tr>\n",
       "    <td style=\"text-align: left;\"><strong>Status:</strong> running</td>\n",
       "    <td style=\"text-align: left;\"><strong>Using processes:</strong> True</td>\n",
       "</tr>\n",
       "\n",
       "            \n",
       "        </table>\n",
       "\n",
       "        <details>\n",
       "            <summary style=\"margin-bottom: 20px;\">\n",
       "                <h3 style=\"display: inline;\">Scheduler Info</h3>\n",
       "            </summary>\n",
       "\n",
       "            <div style=\"\">\n",
       "    <div>\n",
       "        <div style=\"width: 24px; height: 24px; background-color: #FFF7E5; border: 3px solid #FF6132; border-radius: 5px; position: absolute;\"> </div>\n",
       "        <div style=\"margin-left: 48px;\">\n",
       "            <h3 style=\"margin-bottom: 0px;\">Scheduler</h3>\n",
       "            <p style=\"color: #9D9D9D; margin-bottom: 0px;\">Scheduler-30b06990-3581-49e6-a5b7-98307fe1d863</p>\n",
       "            <table style=\"width: 100%; text-align: left;\">\n",
       "                <tr>\n",
       "                    <td style=\"text-align: left;\">\n",
       "                        <strong>Comm:</strong> tcp://127.0.0.1:50760\n",
       "                    </td>\n",
       "                    <td style=\"text-align: left;\">\n",
       "                        <strong>Workers:</strong> 4\n",
       "                    </td>\n",
       "                </tr>\n",
       "                <tr>\n",
       "                    <td style=\"text-align: left;\">\n",
       "                        <strong>Dashboard:</strong> <a href=\"http://127.0.0.1:8787/status\" target=\"_blank\">http://127.0.0.1:8787/status</a>\n",
       "                    </td>\n",
       "                    <td style=\"text-align: left;\">\n",
       "                        <strong>Total threads:</strong> 8\n",
       "                    </td>\n",
       "                </tr>\n",
       "                <tr>\n",
       "                    <td style=\"text-align: left;\">\n",
       "                        <strong>Started:</strong> Just now\n",
       "                    </td>\n",
       "                    <td style=\"text-align: left;\">\n",
       "                        <strong>Total memory:</strong> 16.00 GiB\n",
       "                    </td>\n",
       "                </tr>\n",
       "            </table>\n",
       "        </div>\n",
       "    </div>\n",
       "\n",
       "    <details style=\"margin-left: 48px;\">\n",
       "        <summary style=\"margin-bottom: 20px;\">\n",
       "            <h3 style=\"display: inline;\">Workers</h3>\n",
       "        </summary>\n",
       "\n",
       "        \n",
       "        <div style=\"margin-bottom: 20px;\">\n",
       "            <div style=\"width: 24px; height: 24px; background-color: #DBF5FF; border: 3px solid #4CC9FF; border-radius: 5px; position: absolute;\"> </div>\n",
       "            <div style=\"margin-left: 48px;\">\n",
       "            <details>\n",
       "                <summary>\n",
       "                    <h4 style=\"margin-bottom: 0px; display: inline;\">Worker: 0</h4>\n",
       "                </summary>\n",
       "                <table style=\"width: 100%; text-align: left;\">\n",
       "                    <tr>\n",
       "                        <td style=\"text-align: left;\">\n",
       "                            <strong>Comm: </strong> tcp://127.0.0.1:50773\n",
       "                        </td>\n",
       "                        <td style=\"text-align: left;\">\n",
       "                            <strong>Total threads: </strong> 2\n",
       "                        </td>\n",
       "                    </tr>\n",
       "                    <tr>\n",
       "                        <td style=\"text-align: left;\">\n",
       "                            <strong>Dashboard: </strong> <a href=\"http://127.0.0.1:50775/status\" target=\"_blank\">http://127.0.0.1:50775/status</a>\n",
       "                        </td>\n",
       "                        <td style=\"text-align: left;\">\n",
       "                            <strong>Memory: </strong> 4.00 GiB\n",
       "                        </td>\n",
       "                    </tr>\n",
       "                    <tr>\n",
       "                        <td style=\"text-align: left;\">\n",
       "                            <strong>Nanny: </strong> tcp://127.0.0.1:50763\n",
       "                        </td>\n",
       "                        <td style=\"text-align: left;\"></td>\n",
       "                    </tr>\n",
       "                    <tr>\n",
       "                        <td colspan=\"2\" style=\"text-align: left;\">\n",
       "                            <strong>Local directory: </strong> /var/folders/36/grrgsqjd14j4tf6cf5ty4ykh0000gn/T/dask-scratch-space/worker-gxzerrb7\n",
       "                        </td>\n",
       "                    </tr>\n",
       "\n",
       "                    \n",
       "\n",
       "                    \n",
       "\n",
       "                </table>\n",
       "            </details>\n",
       "            </div>\n",
       "        </div>\n",
       "        \n",
       "        <div style=\"margin-bottom: 20px;\">\n",
       "            <div style=\"width: 24px; height: 24px; background-color: #DBF5FF; border: 3px solid #4CC9FF; border-radius: 5px; position: absolute;\"> </div>\n",
       "            <div style=\"margin-left: 48px;\">\n",
       "            <details>\n",
       "                <summary>\n",
       "                    <h4 style=\"margin-bottom: 0px; display: inline;\">Worker: 1</h4>\n",
       "                </summary>\n",
       "                <table style=\"width: 100%; text-align: left;\">\n",
       "                    <tr>\n",
       "                        <td style=\"text-align: left;\">\n",
       "                            <strong>Comm: </strong> tcp://127.0.0.1:50772\n",
       "                        </td>\n",
       "                        <td style=\"text-align: left;\">\n",
       "                            <strong>Total threads: </strong> 2\n",
       "                        </td>\n",
       "                    </tr>\n",
       "                    <tr>\n",
       "                        <td style=\"text-align: left;\">\n",
       "                            <strong>Dashboard: </strong> <a href=\"http://127.0.0.1:50776/status\" target=\"_blank\">http://127.0.0.1:50776/status</a>\n",
       "                        </td>\n",
       "                        <td style=\"text-align: left;\">\n",
       "                            <strong>Memory: </strong> 4.00 GiB\n",
       "                        </td>\n",
       "                    </tr>\n",
       "                    <tr>\n",
       "                        <td style=\"text-align: left;\">\n",
       "                            <strong>Nanny: </strong> tcp://127.0.0.1:50765\n",
       "                        </td>\n",
       "                        <td style=\"text-align: left;\"></td>\n",
       "                    </tr>\n",
       "                    <tr>\n",
       "                        <td colspan=\"2\" style=\"text-align: left;\">\n",
       "                            <strong>Local directory: </strong> /var/folders/36/grrgsqjd14j4tf6cf5ty4ykh0000gn/T/dask-scratch-space/worker-mgz9kv_m\n",
       "                        </td>\n",
       "                    </tr>\n",
       "\n",
       "                    \n",
       "\n",
       "                    \n",
       "\n",
       "                </table>\n",
       "            </details>\n",
       "            </div>\n",
       "        </div>\n",
       "        \n",
       "        <div style=\"margin-bottom: 20px;\">\n",
       "            <div style=\"width: 24px; height: 24px; background-color: #DBF5FF; border: 3px solid #4CC9FF; border-radius: 5px; position: absolute;\"> </div>\n",
       "            <div style=\"margin-left: 48px;\">\n",
       "            <details>\n",
       "                <summary>\n",
       "                    <h4 style=\"margin-bottom: 0px; display: inline;\">Worker: 2</h4>\n",
       "                </summary>\n",
       "                <table style=\"width: 100%; text-align: left;\">\n",
       "                    <tr>\n",
       "                        <td style=\"text-align: left;\">\n",
       "                            <strong>Comm: </strong> tcp://127.0.0.1:50771\n",
       "                        </td>\n",
       "                        <td style=\"text-align: left;\">\n",
       "                            <strong>Total threads: </strong> 2\n",
       "                        </td>\n",
       "                    </tr>\n",
       "                    <tr>\n",
       "                        <td style=\"text-align: left;\">\n",
       "                            <strong>Dashboard: </strong> <a href=\"http://127.0.0.1:50777/status\" target=\"_blank\">http://127.0.0.1:50777/status</a>\n",
       "                        </td>\n",
       "                        <td style=\"text-align: left;\">\n",
       "                            <strong>Memory: </strong> 4.00 GiB\n",
       "                        </td>\n",
       "                    </tr>\n",
       "                    <tr>\n",
       "                        <td style=\"text-align: left;\">\n",
       "                            <strong>Nanny: </strong> tcp://127.0.0.1:50767\n",
       "                        </td>\n",
       "                        <td style=\"text-align: left;\"></td>\n",
       "                    </tr>\n",
       "                    <tr>\n",
       "                        <td colspan=\"2\" style=\"text-align: left;\">\n",
       "                            <strong>Local directory: </strong> /var/folders/36/grrgsqjd14j4tf6cf5ty4ykh0000gn/T/dask-scratch-space/worker-18h7m947\n",
       "                        </td>\n",
       "                    </tr>\n",
       "\n",
       "                    \n",
       "\n",
       "                    \n",
       "\n",
       "                </table>\n",
       "            </details>\n",
       "            </div>\n",
       "        </div>\n",
       "        \n",
       "        <div style=\"margin-bottom: 20px;\">\n",
       "            <div style=\"width: 24px; height: 24px; background-color: #DBF5FF; border: 3px solid #4CC9FF; border-radius: 5px; position: absolute;\"> </div>\n",
       "            <div style=\"margin-left: 48px;\">\n",
       "            <details>\n",
       "                <summary>\n",
       "                    <h4 style=\"margin-bottom: 0px; display: inline;\">Worker: 3</h4>\n",
       "                </summary>\n",
       "                <table style=\"width: 100%; text-align: left;\">\n",
       "                    <tr>\n",
       "                        <td style=\"text-align: left;\">\n",
       "                            <strong>Comm: </strong> tcp://127.0.0.1:50774\n",
       "                        </td>\n",
       "                        <td style=\"text-align: left;\">\n",
       "                            <strong>Total threads: </strong> 2\n",
       "                        </td>\n",
       "                    </tr>\n",
       "                    <tr>\n",
       "                        <td style=\"text-align: left;\">\n",
       "                            <strong>Dashboard: </strong> <a href=\"http://127.0.0.1:50781/status\" target=\"_blank\">http://127.0.0.1:50781/status</a>\n",
       "                        </td>\n",
       "                        <td style=\"text-align: left;\">\n",
       "                            <strong>Memory: </strong> 4.00 GiB\n",
       "                        </td>\n",
       "                    </tr>\n",
       "                    <tr>\n",
       "                        <td style=\"text-align: left;\">\n",
       "                            <strong>Nanny: </strong> tcp://127.0.0.1:50769\n",
       "                        </td>\n",
       "                        <td style=\"text-align: left;\"></td>\n",
       "                    </tr>\n",
       "                    <tr>\n",
       "                        <td colspan=\"2\" style=\"text-align: left;\">\n",
       "                            <strong>Local directory: </strong> /var/folders/36/grrgsqjd14j4tf6cf5ty4ykh0000gn/T/dask-scratch-space/worker-iuf6pinq\n",
       "                        </td>\n",
       "                    </tr>\n",
       "\n",
       "                    \n",
       "\n",
       "                    \n",
       "\n",
       "                </table>\n",
       "            </details>\n",
       "            </div>\n",
       "        </div>\n",
       "        \n",
       "\n",
       "    </details>\n",
       "</div>\n",
       "\n",
       "        </details>\n",
       "    </div>\n",
       "</div>\n",
       "            </details>\n",
       "        \n",
       "\n",
       "    </div>\n",
       "</div>"
      ],
      "text/plain": [
       "<Client: 'tcp://127.0.0.1:50760' processes=4 threads=8, memory=16.00 GiB>"
      ]
     },
     "execution_count": 12,
     "metadata": {},
     "output_type": "execute_result"
    }
   ],
   "source": [
    "genetic_algo.client"
   ]
  },
  {
   "cell_type": "markdown",
   "metadata": {},
   "source": [
    "And execute the process.\n"
   ]
  },
  {
   "cell_type": "code",
   "execution_count": 13,
   "metadata": {},
   "outputs": [
    {
     "name": "stdout",
     "output_type": "stream",
     "text": [
      "########## [[0.2463431275372821, 44.521792120415185, 0.9936693466445101, 0.7406843114454543], [0.3581290814565719, 83.23828064328359, 0.82320608341513, 0.5997681627217606], [0.18600884611745616, 58.71898018245836, 0.6601107674888236, 0.30081752292002967], [0.5229772707931629, 75.14205107131902, 0.7626432742867472, 0.7161817738179785], [0.08768510843065837, 17.326485096892043, 0.8017098363843532, 0.36612319620476713]]\n"
     ]
    },
    {
     "name": "stderr",
     "output_type": "stream",
     "text": [
      "\u001b[38;21m2024-12-05 10:58:00,301 :: Seapodym ::  DEBUG ::\n",
      "|\tDirect computation for global_mask_from_nan.\n",
      "\u001b[0m\n",
      "\u001b[38;21m2024-12-05 10:58:00,302 :: Seapodym ::  DEBUG ::\n",
      "|\tDirect computation for global_mask_from_nan.\n",
      "\u001b[0m\n",
      "\u001b[38;21m2024-12-05 10:58:00,303 :: Seapodym ::  DEBUG ::\n",
      "|\tDirect computation for mask_by_fgroup.\n",
      "\u001b[0m\n",
      "\u001b[38;21m2024-12-05 10:58:00,303 :: Seapodym ::  DEBUG ::\n",
      "|\tDirect computation for mask_by_fgroup.\n",
      "\u001b[0m\n",
      "\u001b[38;21m2024-12-05 10:58:00,308 :: Seapodym ::  DEBUG ::\n",
      "|\tDirect computation for global_mask_from_nan.\n",
      "\u001b[0m\n",
      "\u001b[38;21m2024-12-05 10:58:00,310 :: Seapodym ::  DEBUG ::\n",
      "|\tDirect computation for mask_by_fgroup.\n",
      "\u001b[0m\n",
      "\u001b[38;21m2024-12-05 10:58:00,311 :: Seapodym ::  DEBUG ::\n",
      "|\tDirect computation for _wrapper_mesh_day_lengths.\n",
      "\u001b[0m\n",
      "\u001b[38;21m2024-12-05 10:58:00,312 :: Seapodym ::  DEBUG ::\n",
      "|\tDirect computation for _wrapper_mesh_day_lengths.\n",
      "\u001b[0m\n",
      "\u001b[38;21m2024-12-05 10:58:00,319 :: Seapodym ::  DEBUG ::\n",
      "|\tDirect computation for global_mask_from_nan.\n",
      "\u001b[0m\n",
      "\u001b[38;21m2024-12-05 10:58:00,321 :: Seapodym ::  DEBUG ::\n",
      "|\tDirect computation for mask_by_fgroup.\n",
      "\u001b[0m\n",
      "\u001b[38;21m2024-12-05 10:58:00,329 :: Seapodym ::  DEBUG ::\n",
      "|\tDirect computation for _wrapper_mesh_day_lengths.\n",
      "\u001b[0m\n",
      "\u001b[38;21m2024-12-05 10:58:00,347 :: Seapodym ::  DEBUG ::\n",
      "|\tDirect computation for _average_temperature.\n",
      "\u001b[0m\n",
      "\u001b[38;21m2024-12-05 10:58:00,351 :: Seapodym ::  DEBUG ::\n",
      "|\tDirect computation for _average_temperature.\n",
      "\u001b[0m\n",
      "\u001b[38;21m2024-12-05 10:58:00,360 :: Seapodym ::  DEBUG ::\n",
      "|\tDirect computation for _wrapper_mesh_day_lengths.\n",
      "\u001b[0m\n",
      "\u001b[38;21m2024-12-05 10:58:00,372 :: Seapodym ::  DEBUG ::\n",
      "|\tDirect computation for _average_temperature.\n",
      "\u001b[0m\n",
      "\u001b[38;21m2024-12-05 10:58:00,380 :: Seapodym ::  DEBUG ::\n",
      "|\tDirect computation for _apply_coefficient_to_primary_production_helper.\n",
      "\u001b[0m\n",
      "\u001b[38;21m2024-12-05 10:58:00,382 :: Seapodym ::  DEBUG ::\n",
      "|\tDirect computation for _apply_coefficient_to_primary_production_helper.\n",
      "\u001b[0m\n",
      "\u001b[38;21m2024-12-05 10:58:00,387 :: Seapodym ::  DEBUG ::\n",
      "|\tDirect computation for _min_temperature_by_cohort_helper.\n",
      "\u001b[0m\n",
      "\u001b[38;21m2024-12-05 10:58:00,388 :: Seapodym ::  DEBUG ::\n",
      "|\tDirect computation for _mask_temperature_helper.\n",
      "\u001b[0m\n",
      "\u001b[38;21m2024-12-05 10:58:00,390 :: Seapodym ::  DEBUG ::\n",
      "|\tDirect computation for _min_temperature_by_cohort_helper.\n",
      "\u001b[0m\n",
      "\u001b[38;21m2024-12-05 10:58:00,391 :: Seapodym ::  DEBUG ::\n",
      "|\tDirect computation for _mask_temperature_helper.\n",
      "\u001b[0m\n",
      "\u001b[38;21m2024-12-05 10:58:00,400 :: Seapodym ::  DEBUG ::\n",
      "|\tDirect computation for _cell_area_helper.\n",
      "\u001b[0m\n",
      "\u001b[38;21m2024-12-05 10:58:00,404 :: Seapodym ::  DEBUG ::\n",
      "|\tDirect computation for _cell_area_helper.\n",
      "\u001b[0m\n",
      "\u001b[38;21m2024-12-05 10:58:00,407 :: Seapodym ::  DEBUG ::\n",
      "|\tDirect computation for _apply_coefficient_to_primary_production_helper.\n",
      "\u001b[0m\n",
      "\u001b[38;21m2024-12-05 10:58:00,414 :: Seapodym ::  DEBUG ::\n",
      "|\tDirect computation for _min_temperature_by_cohort_helper.\n",
      "\u001b[0m\n",
      "\u001b[38;21m2024-12-05 10:58:00,416 :: Seapodym ::  DEBUG ::\n",
      "|\tDirect computation for _mask_temperature_helper.\n",
      "\u001b[0m\n",
      "\u001b[38;21m2024-12-05 10:58:00,422 :: Seapodym ::  DEBUG ::\n",
      "|\tDirect computation for _mortality_field_helper.\n",
      "\u001b[0m\n",
      "\u001b[38;21m2024-12-05 10:58:00,426 :: Seapodym ::  DEBUG ::\n",
      "|\tDirect computation for _mortality_field_helper.\n",
      "\u001b[0m\n",
      "\u001b[38;21m2024-12-05 10:58:00,428 :: Seapodym ::  DEBUG ::\n",
      "|\tDirect computation for _cell_area_helper.\n",
      "\u001b[0m\n",
      "\u001b[38;21m2024-12-05 10:58:00,433 :: Seapodym ::  DEBUG ::\n",
      "|\tDirect computation for _production_helper.\n",
      "\u001b[0m\n",
      "\u001b[38;21m2024-12-05 10:58:00,436 :: Seapodym ::  DEBUG ::\n",
      "|\tDirect computation for _production_helper.\n",
      "\u001b[0m\n",
      "\u001b[38;21m2024-12-05 10:58:00,454 :: Seapodym ::  DEBUG ::\n",
      "|\tDirect computation for _mortality_field_helper.\n",
      "\u001b[0m\n",
      "\u001b[38;21m2024-12-05 10:58:00,467 :: Seapodym ::  DEBUG ::\n",
      "|\tDirect computation for _production_helper.\n",
      "\u001b[0m\n",
      "\u001b[38;21m2024-12-05 10:58:00,513 :: Seapodym ::  DEBUG ::\n",
      "|\tDirect computation for _average_temperature.\n",
      "\u001b[0m\n",
      "\u001b[38;21m2024-12-05 10:58:00,581 :: Seapodym ::  DEBUG ::\n",
      "|\tDirect computation for _apply_coefficient_to_primary_production_helper.\n",
      "\u001b[0m\n",
      "\u001b[38;21m2024-12-05 10:58:00,592 :: Seapodym ::  DEBUG ::\n",
      "|\tDirect computation for _min_temperature_by_cohort_helper.\n",
      "\u001b[0m\n",
      "\u001b[38;21m2024-12-05 10:58:00,593 :: Seapodym ::  DEBUG ::\n",
      "|\tDirect computation for _mask_temperature_helper.\n",
      "\u001b[0m\n",
      "\u001b[38;21m2024-12-05 10:58:00,610 :: Seapodym ::  DEBUG ::\n",
      "|\tDirect computation for _cell_area_helper.\n",
      "\u001b[0m\n",
      "\u001b[38;21m2024-12-05 10:58:00,748 :: Seapodym ::  DEBUG ::\n",
      "|\tDirect computation for _mortality_field_helper.\n",
      "\u001b[0m\n",
      "\u001b[38;21m2024-12-05 10:58:00,759 :: Seapodym ::  DEBUG ::\n",
      "|\tDirect computation for _production_helper.\n",
      "\u001b[0m\n",
      "\u001b[38;21m2024-12-05 10:58:03,541 :: Seapodym ::  DEBUG ::\n",
      "|\tDirect computation for _biomass_helper.\n",
      "\u001b[0m\n",
      "\u001b[38;21m2024-12-05 10:58:03,542 :: Seapodym ::  DEBUG ::\n",
      "|\tDirect computation for _biomass_helper.\n",
      "\u001b[0m\n",
      "\u001b[38;21m2024-12-05 10:58:03,805 :: Seapodym ::  DEBUG ::\n",
      "|\tDirect computation for _biomass_helper.\n",
      "\u001b[0m\n",
      "\u001b[38;21m2024-12-05 10:58:04,005 :: Seapodym ::  DEBUG ::\n",
      "|\tDirect computation for _biomass_helper.\n",
      "\u001b[0m\n"
     ]
    },
    {
     "name": "stdout",
     "output_type": "stream",
     "text": [
      "########## [[0.18600884611745616, 83.23828064328359, 0.6601107674888236, 0.30081752292002967], [0.3581290814565719, 58.71898018245836, 0.82320608341513, 0.5997681627217606]]\n"
     ]
    },
    {
     "name": "stderr",
     "output_type": "stream",
     "text": [
      "\u001b[38;21m2024-12-05 10:58:04,327 :: Seapodym ::  DEBUG ::\n",
      "|\tDirect computation for global_mask_from_nan.\n",
      "\u001b[0m\n",
      "\u001b[38;21m2024-12-05 10:58:04,328 :: Seapodym ::  DEBUG ::\n",
      "|\tDirect computation for global_mask_from_nan.\n",
      "\u001b[0m\n",
      "\u001b[38;21m2024-12-05 10:58:04,329 :: Seapodym ::  DEBUG ::\n",
      "|\tDirect computation for mask_by_fgroup.\n",
      "\u001b[0m\n",
      "\u001b[38;21m2024-12-05 10:58:04,329 :: Seapodym ::  DEBUG ::\n",
      "|\tDirect computation for mask_by_fgroup.\n",
      "\u001b[0m\n",
      "\u001b[38;21m2024-12-05 10:58:04,335 :: Seapodym ::  DEBUG ::\n",
      "|\tDirect computation for _wrapper_mesh_day_lengths.\n",
      "\u001b[0m\n",
      "\u001b[38;21m2024-12-05 10:58:04,335 :: Seapodym ::  DEBUG ::\n",
      "|\tDirect computation for _wrapper_mesh_day_lengths.\n",
      "\u001b[0m\n",
      "\u001b[38;21m2024-12-05 10:58:04,368 :: Seapodym ::  DEBUG ::\n",
      "|\tDirect computation for _average_temperature.\n",
      "\u001b[0m\n",
      "\u001b[38;21m2024-12-05 10:58:04,368 :: Seapodym ::  DEBUG ::\n",
      "|\tDirect computation for _average_temperature.\n",
      "\u001b[0m\n",
      "\u001b[38;21m2024-12-05 10:58:04,393 :: Seapodym ::  DEBUG ::\n",
      "|\tDirect computation for _apply_coefficient_to_primary_production_helper.\n",
      "\u001b[0m\n",
      "\u001b[38;21m2024-12-05 10:58:04,394 :: Seapodym ::  DEBUG ::\n",
      "|\tDirect computation for _apply_coefficient_to_primary_production_helper.\n",
      "\u001b[0m\n",
      "\u001b[38;21m2024-12-05 10:58:04,400 :: Seapodym ::  DEBUG ::\n",
      "|\tDirect computation for _min_temperature_by_cohort_helper.\n",
      "\u001b[0m\n",
      "\u001b[38;21m2024-12-05 10:58:04,401 :: Seapodym ::  DEBUG ::\n",
      "|\tDirect computation for _mask_temperature_helper.\n",
      "\u001b[0m\n",
      "\u001b[38;21m2024-12-05 10:58:04,401 :: Seapodym ::  DEBUG ::\n",
      "|\tDirect computation for _min_temperature_by_cohort_helper.\n",
      "\u001b[0m\n",
      "\u001b[38;21m2024-12-05 10:58:04,402 :: Seapodym ::  DEBUG ::\n",
      "|\tDirect computation for _mask_temperature_helper.\n",
      "\u001b[0m\n",
      "\u001b[38;21m2024-12-05 10:58:04,412 :: Seapodym ::  DEBUG ::\n",
      "|\tDirect computation for _cell_area_helper.\n",
      "\u001b[0m\n",
      "\u001b[38;21m2024-12-05 10:58:04,413 :: Seapodym ::  DEBUG ::\n",
      "|\tDirect computation for _cell_area_helper.\n",
      "\u001b[0m\n",
      "\u001b[38;21m2024-12-05 10:58:04,432 :: Seapodym ::  DEBUG ::\n",
      "|\tDirect computation for _mortality_field_helper.\n",
      "\u001b[0m\n",
      "\u001b[38;21m2024-12-05 10:58:04,434 :: Seapodym ::  DEBUG ::\n",
      "|\tDirect computation for _mortality_field_helper.\n",
      "\u001b[0m\n",
      "\u001b[38;21m2024-12-05 10:58:04,442 :: Seapodym ::  DEBUG ::\n",
      "|\tDirect computation for _production_helper.\n",
      "\u001b[0m\n",
      "\u001b[38;21m2024-12-05 10:58:04,443 :: Seapodym ::  DEBUG ::\n",
      "|\tDirect computation for _production_helper.\n",
      "\u001b[0m\n",
      "\u001b[38;21m2024-12-05 10:58:04,667 :: Seapodym ::  DEBUG ::\n",
      "|\tDirect computation for _biomass_helper.\n",
      "\u001b[0m\n",
      "\u001b[38;21m2024-12-05 10:58:04,669 :: Seapodym ::  DEBUG ::\n",
      "|\tDirect computation for _biomass_helper.\n",
      "\u001b[0m\n",
      "\u001b[38;21m2024-12-05 10:58:04,779 :: Seapodym ::  DEBUG ::\n",
      "|\tDirect computation for global_mask_from_nan.\n",
      "\u001b[0m\n",
      "\u001b[38;21m2024-12-05 10:58:04,781 :: Seapodym ::  DEBUG ::\n",
      "|\tDirect computation for global_mask_from_nan.\n",
      "\u001b[0m\n",
      "\u001b[38;21m2024-12-05 10:58:04,781 :: Seapodym ::  DEBUG ::\n",
      "|\tDirect computation for mask_by_fgroup.\n",
      "\u001b[0m\n",
      "\u001b[38;21m2024-12-05 10:58:04,782 :: Seapodym ::  DEBUG ::\n",
      "|\tDirect computation for global_mask_from_nan.\n",
      "\u001b[0m\n",
      "\u001b[38;21m2024-12-05 10:58:04,783 :: Seapodym ::  DEBUG ::\n",
      "|\tDirect computation for mask_by_fgroup.\n",
      "\u001b[0m\n",
      "\u001b[38;21m2024-12-05 10:58:04,784 :: Seapodym ::  DEBUG ::\n",
      "|\tDirect computation for mask_by_fgroup.\n",
      "\u001b[0m\n",
      "\u001b[38;21m2024-12-05 10:58:04,789 :: Seapodym ::  DEBUG ::\n",
      "|\tDirect computation for _wrapper_mesh_day_lengths.\n",
      "\u001b[0m\n",
      "\u001b[38;21m2024-12-05 10:58:04,789 :: Seapodym ::  DEBUG ::\n",
      "|\tDirect computation for _wrapper_mesh_day_lengths.\n",
      "\u001b[0m\n",
      "\u001b[38;21m2024-12-05 10:58:04,789 :: Seapodym ::  DEBUG ::\n",
      "|\tDirect computation for _wrapper_mesh_day_lengths.\n",
      "\u001b[0m\n",
      "\u001b[38;21m2024-12-05 10:58:04,823 :: Seapodym ::  DEBUG ::\n",
      "|\tDirect computation for _average_temperature.\n",
      "\u001b[0m\n",
      "\u001b[38;21m2024-12-05 10:58:04,823 :: Seapodym ::  DEBUG ::\n",
      "|\tDirect computation for _average_temperature.\n",
      "\u001b[0m\n",
      "\u001b[38;21m2024-12-05 10:58:04,827 :: Seapodym ::  DEBUG ::\n",
      "|\tDirect computation for _average_temperature.\n",
      "\u001b[0m\n",
      "\u001b[38;21m2024-12-05 10:58:04,851 :: Seapodym ::  DEBUG ::\n",
      "|\tDirect computation for _apply_coefficient_to_primary_production_helper.\n",
      "\u001b[0m\n",
      "\u001b[38;21m2024-12-05 10:58:04,851 :: Seapodym ::  DEBUG ::\n",
      "|\tDirect computation for _apply_coefficient_to_primary_production_helper.\n",
      "\u001b[0m\n",
      "\u001b[38;21m2024-12-05 10:58:04,856 :: Seapodym ::  DEBUG ::\n",
      "|\tDirect computation for _apply_coefficient_to_primary_production_helper.\n",
      "\u001b[0m\n",
      "\u001b[38;21m2024-12-05 10:58:04,858 :: Seapodym ::  DEBUG ::\n",
      "|\tDirect computation for _min_temperature_by_cohort_helper.\n",
      "\u001b[0m\n",
      "\u001b[38;21m2024-12-05 10:58:04,858 :: Seapodym ::  DEBUG ::\n",
      "|\tDirect computation for _min_temperature_by_cohort_helper.\n",
      "\u001b[0m\n",
      "\u001b[38;21m2024-12-05 10:58:04,859 :: Seapodym ::  DEBUG ::\n",
      "|\tDirect computation for _mask_temperature_helper.\n",
      "\u001b[0m\n",
      "\u001b[38;21m2024-12-05 10:58:04,859 :: Seapodym ::  DEBUG ::\n",
      "|\tDirect computation for _mask_temperature_helper.\n",
      "\u001b[0m\n",
      "\u001b[38;21m2024-12-05 10:58:04,863 :: Seapodym ::  DEBUG ::\n",
      "|\tDirect computation for _min_temperature_by_cohort_helper.\n",
      "\u001b[0m\n",
      "\u001b[38;21m2024-12-05 10:58:04,864 :: Seapodym ::  DEBUG ::\n",
      "|\tDirect computation for _mask_temperature_helper.\n",
      "\u001b[0m\n"
     ]
    },
    {
     "name": "stdout",
     "output_type": "stream",
     "text": [
      "########## [[0.3581290814565719, 83.23828064328359, 0.82320608341513, 0.5997681627217606], [0.5084151082732604, 83.23828064328359, 0.82320608341513, 0.5997681627217606], [0.3581290814565719, 58.71898018245836, 0.6601107674888236, 0.5997681627217606], [0.18600884611745616, 83.23828064328359, 0.82320608341513, 0.30081752292002967]]\n"
     ]
    },
    {
     "name": "stderr",
     "output_type": "stream",
     "text": [
      "\u001b[38;21m2024-12-05 10:58:04,871 :: Seapodym ::  DEBUG ::\n",
      "|\tDirect computation for _cell_area_helper.\n",
      "\u001b[0m\n",
      "\u001b[38;21m2024-12-05 10:58:04,871 :: Seapodym ::  DEBUG ::\n",
      "|\tDirect computation for _cell_area_helper.\n",
      "\u001b[0m\n",
      "\u001b[38;21m2024-12-05 10:58:04,876 :: Seapodym ::  DEBUG ::\n",
      "|\tDirect computation for _cell_area_helper.\n",
      "\u001b[0m\n",
      "\u001b[38;21m2024-12-05 10:58:04,894 :: Seapodym ::  DEBUG ::\n",
      "|\tDirect computation for _mortality_field_helper.\n",
      "\u001b[0m\n",
      "\u001b[38;21m2024-12-05 10:58:04,895 :: Seapodym ::  DEBUG ::\n",
      "|\tDirect computation for _mortality_field_helper.\n",
      "\u001b[0m\n",
      "\u001b[38;21m2024-12-05 10:58:04,898 :: Seapodym ::  DEBUG ::\n",
      "|\tDirect computation for _mortality_field_helper.\n",
      "\u001b[0m\n",
      "\u001b[38;21m2024-12-05 10:58:04,905 :: Seapodym ::  DEBUG ::\n",
      "|\tDirect computation for _production_helper.\n",
      "\u001b[0m\n",
      "\u001b[38;21m2024-12-05 10:58:04,905 :: Seapodym ::  DEBUG ::\n",
      "|\tDirect computation for _production_helper.\n",
      "\u001b[0m\n",
      "\u001b[38;21m2024-12-05 10:58:04,909 :: Seapodym ::  DEBUG ::\n",
      "|\tDirect computation for _production_helper.\n",
      "\u001b[0m\n",
      "\u001b[38;21m2024-12-05 10:58:05,099 :: Seapodym ::  DEBUG ::\n",
      "|\tDirect computation for _biomass_helper.\n",
      "\u001b[0m\n",
      "\u001b[38;21m2024-12-05 10:58:05,100 :: Seapodym ::  DEBUG ::\n",
      "|\tDirect computation for _biomass_helper.\n",
      "\u001b[0m\n",
      "\u001b[38;21m2024-12-05 10:58:08,067 :: Seapodym ::  DEBUG ::\n",
      "|\tDirect computation for _biomass_helper.\n",
      "\u001b[0m\n"
     ]
    }
   ],
   "source": [
    "viewer = genetic_algo.optimize()"
   ]
  },
  {
   "cell_type": "markdown",
   "metadata": {},
   "source": [
    "Finaly here is the result :\n"
   ]
  },
  {
   "cell_type": "code",
   "execution_count": 14,
   "metadata": {},
   "outputs": [
    {
     "data": {
      "text/html": [
       "<div>\n",
       "<style scoped>\n",
       "    .dataframe tbody tr th:only-of-type {\n",
       "        vertical-align: middle;\n",
       "    }\n",
       "\n",
       "    .dataframe tbody tr th {\n",
       "        vertical-align: top;\n",
       "    }\n",
       "\n",
       "    .dataframe thead th {\n",
       "        text-align: right;\n",
       "    }\n",
       "</style>\n",
       "<table border=\"1\" class=\"dataframe\">\n",
       "  <thead>\n",
       "    <tr style=\"text-align: right;\">\n",
       "      <th></th>\n",
       "      <th>mean</th>\n",
       "      <th>std</th>\n",
       "      <th>min</th>\n",
       "      <th>max</th>\n",
       "      <th>valid</th>\n",
       "      <th>generation_gap</th>\n",
       "    </tr>\n",
       "    <tr>\n",
       "      <th>generation</th>\n",
       "      <th></th>\n",
       "      <th></th>\n",
       "      <th></th>\n",
       "      <th></th>\n",
       "      <th></th>\n",
       "      <th></th>\n",
       "    </tr>\n",
       "  </thead>\n",
       "  <tbody>\n",
       "    <tr>\n",
       "      <th>0</th>\n",
       "      <td>0.392212</td>\n",
       "      <td>0.085581</td>\n",
       "      <td>0.312623</td>\n",
       "      <td>0.479431</td>\n",
       "      <td>4</td>\n",
       "      <td>0.00</td>\n",
       "    </tr>\n",
       "    <tr>\n",
       "      <th>1</th>\n",
       "      <td>0.368234</td>\n",
       "      <td>0.076148</td>\n",
       "      <td>0.312623</td>\n",
       "      <td>0.451650</td>\n",
       "      <td>5</td>\n",
       "      <td>0.60</td>\n",
       "    </tr>\n",
       "    <tr>\n",
       "      <th>2</th>\n",
       "      <td>0.347380</td>\n",
       "      <td>0.069514</td>\n",
       "      <td>0.312623</td>\n",
       "      <td>0.451650</td>\n",
       "      <td>4</td>\n",
       "      <td>0.25</td>\n",
       "    </tr>\n",
       "  </tbody>\n",
       "</table>\n",
       "</div>"
      ],
      "text/plain": [
       "                mean       std       min       max  valid  generation_gap\n",
       "generation                                                               \n",
       "0           0.392212  0.085581  0.312623  0.479431      4            0.00\n",
       "1           0.368234  0.076148  0.312623  0.451650      5            0.60\n",
       "2           0.347380  0.069514  0.312623  0.451650      4            0.25"
      ]
     },
     "execution_count": 14,
     "metadata": {},
     "output_type": "execute_result"
    }
   ],
   "source": [
    "viewer.stats"
   ]
  },
  {
   "cell_type": "code",
   "execution_count": 15,
   "metadata": {},
   "outputs": [
    {
     "data": {
      "text/html": [
       "<div>\n",
       "<style scoped>\n",
       "    .dataframe tbody tr th:only-of-type {\n",
       "        vertical-align: middle;\n",
       "    }\n",
       "\n",
       "    .dataframe tbody tr th {\n",
       "        vertical-align: top;\n",
       "    }\n",
       "\n",
       "    .dataframe thead th {\n",
       "        text-align: right;\n",
       "    }\n",
       "</style>\n",
       "<table border=\"1\" class=\"dataframe\">\n",
       "  <thead>\n",
       "    <tr style=\"text-align: right;\">\n",
       "      <th></th>\n",
       "      <th></th>\n",
       "      <th></th>\n",
       "      <th>D1N1_energy_coefficient</th>\n",
       "      <th>D1N1_inv_lambda_max</th>\n",
       "      <th>D1N1_inv_lambda_rate</th>\n",
       "      <th>D2N1_energy_coefficient</th>\n",
       "      <th>fitness</th>\n",
       "    </tr>\n",
       "    <tr>\n",
       "      <th>generation</th>\n",
       "      <th>previous_generation</th>\n",
       "      <th>individual</th>\n",
       "      <th></th>\n",
       "      <th></th>\n",
       "      <th></th>\n",
       "      <th></th>\n",
       "      <th></th>\n",
       "    </tr>\n",
       "  </thead>\n",
       "  <tbody>\n",
       "    <tr>\n",
       "      <th rowspan=\"5\" valign=\"top\">0</th>\n",
       "      <th rowspan=\"5\" valign=\"top\">False</th>\n",
       "      <th>0</th>\n",
       "      <td>0.246343</td>\n",
       "      <td>44.521792</td>\n",
       "      <td>0.993669</td>\n",
       "      <td>0.740684</td>\n",
       "      <td>0.325145</td>\n",
       "    </tr>\n",
       "    <tr>\n",
       "      <th>1</th>\n",
       "      <td>0.358129</td>\n",
       "      <td>83.238281</td>\n",
       "      <td>0.823206</td>\n",
       "      <td>0.599768</td>\n",
       "      <td>0.312623</td>\n",
       "    </tr>\n",
       "    <tr>\n",
       "      <th>2</th>\n",
       "      <td>0.186009</td>\n",
       "      <td>58.718980</td>\n",
       "      <td>0.660111</td>\n",
       "      <td>0.300818</td>\n",
       "      <td>0.451650</td>\n",
       "    </tr>\n",
       "    <tr>\n",
       "      <th>3</th>\n",
       "      <td>0.522977</td>\n",
       "      <td>75.142051</td>\n",
       "      <td>0.762643</td>\n",
       "      <td>0.716182</td>\n",
       "      <td>inf</td>\n",
       "    </tr>\n",
       "    <tr>\n",
       "      <th>4</th>\n",
       "      <td>0.087685</td>\n",
       "      <td>17.326485</td>\n",
       "      <td>0.801710</td>\n",
       "      <td>0.366123</td>\n",
       "      <td>0.479431</td>\n",
       "    </tr>\n",
       "    <tr>\n",
       "      <th rowspan=\"5\" valign=\"top\">1</th>\n",
       "      <th rowspan=\"2\" valign=\"top\">False</th>\n",
       "      <th>2</th>\n",
       "      <td>0.186009</td>\n",
       "      <td>83.238281</td>\n",
       "      <td>0.660111</td>\n",
       "      <td>0.300818</td>\n",
       "      <td>0.451650</td>\n",
       "    </tr>\n",
       "    <tr>\n",
       "      <th>3</th>\n",
       "      <td>0.358129</td>\n",
       "      <td>58.718980</td>\n",
       "      <td>0.823206</td>\n",
       "      <td>0.599768</td>\n",
       "      <td>0.312623</td>\n",
       "    </tr>\n",
       "    <tr>\n",
       "      <th rowspan=\"3\" valign=\"top\">True</th>\n",
       "      <th>0</th>\n",
       "      <td>0.186009</td>\n",
       "      <td>58.718980</td>\n",
       "      <td>0.660111</td>\n",
       "      <td>0.300818</td>\n",
       "      <td>0.451650</td>\n",
       "    </tr>\n",
       "    <tr>\n",
       "      <th>1</th>\n",
       "      <td>0.358129</td>\n",
       "      <td>83.238281</td>\n",
       "      <td>0.823206</td>\n",
       "      <td>0.599768</td>\n",
       "      <td>0.312623</td>\n",
       "    </tr>\n",
       "    <tr>\n",
       "      <th>4</th>\n",
       "      <td>0.358129</td>\n",
       "      <td>83.238281</td>\n",
       "      <td>0.823206</td>\n",
       "      <td>0.599768</td>\n",
       "      <td>0.312623</td>\n",
       "    </tr>\n",
       "    <tr>\n",
       "      <th rowspan=\"5\" valign=\"top\">2</th>\n",
       "      <th rowspan=\"4\" valign=\"top\">False</th>\n",
       "      <th>0</th>\n",
       "      <td>0.358129</td>\n",
       "      <td>83.238281</td>\n",
       "      <td>0.823206</td>\n",
       "      <td>0.599768</td>\n",
       "      <td>0.312623</td>\n",
       "    </tr>\n",
       "    <tr>\n",
       "      <th>1</th>\n",
       "      <td>0.508415</td>\n",
       "      <td>83.238281</td>\n",
       "      <td>0.823206</td>\n",
       "      <td>0.599768</td>\n",
       "      <td>inf</td>\n",
       "    </tr>\n",
       "    <tr>\n",
       "      <th>2</th>\n",
       "      <td>0.358129</td>\n",
       "      <td>58.718980</td>\n",
       "      <td>0.660111</td>\n",
       "      <td>0.599768</td>\n",
       "      <td>0.312623</td>\n",
       "    </tr>\n",
       "    <tr>\n",
       "      <th>3</th>\n",
       "      <td>0.186009</td>\n",
       "      <td>83.238281</td>\n",
       "      <td>0.823206</td>\n",
       "      <td>0.300818</td>\n",
       "      <td>0.451650</td>\n",
       "    </tr>\n",
       "    <tr>\n",
       "      <th>True</th>\n",
       "      <th>4</th>\n",
       "      <td>0.358129</td>\n",
       "      <td>83.238281</td>\n",
       "      <td>0.823206</td>\n",
       "      <td>0.599768</td>\n",
       "      <td>0.312623</td>\n",
       "    </tr>\n",
       "  </tbody>\n",
       "</table>\n",
       "</div>"
      ],
      "text/plain": [
       "                                           D1N1_energy_coefficient  \\\n",
       "generation previous_generation individual                            \n",
       "0          False               0                          0.246343   \n",
       "                               1                          0.358129   \n",
       "                               2                          0.186009   \n",
       "                               3                          0.522977   \n",
       "                               4                          0.087685   \n",
       "1          False               2                          0.186009   \n",
       "                               3                          0.358129   \n",
       "           True                0                          0.186009   \n",
       "                               1                          0.358129   \n",
       "                               4                          0.358129   \n",
       "2          False               0                          0.358129   \n",
       "                               1                          0.508415   \n",
       "                               2                          0.358129   \n",
       "                               3                          0.186009   \n",
       "           True                4                          0.358129   \n",
       "\n",
       "                                           D1N1_inv_lambda_max  \\\n",
       "generation previous_generation individual                        \n",
       "0          False               0                     44.521792   \n",
       "                               1                     83.238281   \n",
       "                               2                     58.718980   \n",
       "                               3                     75.142051   \n",
       "                               4                     17.326485   \n",
       "1          False               2                     83.238281   \n",
       "                               3                     58.718980   \n",
       "           True                0                     58.718980   \n",
       "                               1                     83.238281   \n",
       "                               4                     83.238281   \n",
       "2          False               0                     83.238281   \n",
       "                               1                     83.238281   \n",
       "                               2                     58.718980   \n",
       "                               3                     83.238281   \n",
       "           True                4                     83.238281   \n",
       "\n",
       "                                           D1N1_inv_lambda_rate  \\\n",
       "generation previous_generation individual                         \n",
       "0          False               0                       0.993669   \n",
       "                               1                       0.823206   \n",
       "                               2                       0.660111   \n",
       "                               3                       0.762643   \n",
       "                               4                       0.801710   \n",
       "1          False               2                       0.660111   \n",
       "                               3                       0.823206   \n",
       "           True                0                       0.660111   \n",
       "                               1                       0.823206   \n",
       "                               4                       0.823206   \n",
       "2          False               0                       0.823206   \n",
       "                               1                       0.823206   \n",
       "                               2                       0.660111   \n",
       "                               3                       0.823206   \n",
       "           True                4                       0.823206   \n",
       "\n",
       "                                           D2N1_energy_coefficient   fitness  \n",
       "generation previous_generation individual                                     \n",
       "0          False               0                          0.740684  0.325145  \n",
       "                               1                          0.599768  0.312623  \n",
       "                               2                          0.300818  0.451650  \n",
       "                               3                          0.716182       inf  \n",
       "                               4                          0.366123  0.479431  \n",
       "1          False               2                          0.300818  0.451650  \n",
       "                               3                          0.599768  0.312623  \n",
       "           True                0                          0.300818  0.451650  \n",
       "                               1                          0.599768  0.312623  \n",
       "                               4                          0.599768  0.312623  \n",
       "2          False               0                          0.599768  0.312623  \n",
       "                               1                          0.599768       inf  \n",
       "                               2                          0.599768  0.312623  \n",
       "                               3                          0.300818  0.451650  \n",
       "           True                4                          0.599768  0.312623  "
      ]
     },
     "execution_count": 15,
     "metadata": {},
     "output_type": "execute_result"
    }
   ],
   "source": [
    "viewer.logbook"
   ]
  },
  {
   "cell_type": "code",
   "execution_count": 16,
   "metadata": {},
   "outputs": [
    {
     "data": {
      "text/html": [
       "<div>\n",
       "<style scoped>\n",
       "    .dataframe tbody tr th:only-of-type {\n",
       "        vertical-align: middle;\n",
       "    }\n",
       "\n",
       "    .dataframe tbody tr th {\n",
       "        vertical-align: top;\n",
       "    }\n",
       "\n",
       "    .dataframe thead th {\n",
       "        text-align: right;\n",
       "    }\n",
       "</style>\n",
       "<table border=\"1\" class=\"dataframe\">\n",
       "  <thead>\n",
       "    <tr style=\"text-align: right;\">\n",
       "      <th></th>\n",
       "      <th></th>\n",
       "      <th>D1N1_energy_coefficient</th>\n",
       "      <th>D1N1_inv_lambda_max</th>\n",
       "      <th>D1N1_inv_lambda_rate</th>\n",
       "      <th>D2N1_energy_coefficient</th>\n",
       "      <th>fitness</th>\n",
       "    </tr>\n",
       "    <tr>\n",
       "      <th>generation</th>\n",
       "      <th>individual</th>\n",
       "      <th></th>\n",
       "      <th></th>\n",
       "      <th></th>\n",
       "      <th></th>\n",
       "      <th></th>\n",
       "    </tr>\n",
       "  </thead>\n",
       "  <tbody>\n",
       "    <tr>\n",
       "      <th>0</th>\n",
       "      <th>1</th>\n",
       "      <td>0.358129</td>\n",
       "      <td>83.238281</td>\n",
       "      <td>0.823206</td>\n",
       "      <td>0.599768</td>\n",
       "      <td>0.312623</td>\n",
       "    </tr>\n",
       "    <tr>\n",
       "      <th>1</th>\n",
       "      <th>3</th>\n",
       "      <td>0.358129</td>\n",
       "      <td>58.718980</td>\n",
       "      <td>0.823206</td>\n",
       "      <td>0.599768</td>\n",
       "      <td>0.312623</td>\n",
       "    </tr>\n",
       "    <tr>\n",
       "      <th rowspan=\"2\" valign=\"top\">2</th>\n",
       "      <th>0</th>\n",
       "      <td>0.358129</td>\n",
       "      <td>83.238281</td>\n",
       "      <td>0.823206</td>\n",
       "      <td>0.599768</td>\n",
       "      <td>0.312623</td>\n",
       "    </tr>\n",
       "    <tr>\n",
       "      <th>2</th>\n",
       "      <td>0.358129</td>\n",
       "      <td>58.718980</td>\n",
       "      <td>0.660111</td>\n",
       "      <td>0.599768</td>\n",
       "      <td>0.312623</td>\n",
       "    </tr>\n",
       "    <tr>\n",
       "      <th rowspan=\"2\" valign=\"top\">0</th>\n",
       "      <th>0</th>\n",
       "      <td>0.246343</td>\n",
       "      <td>44.521792</td>\n",
       "      <td>0.993669</td>\n",
       "      <td>0.740684</td>\n",
       "      <td>0.325145</td>\n",
       "    </tr>\n",
       "    <tr>\n",
       "      <th>2</th>\n",
       "      <td>0.186009</td>\n",
       "      <td>58.718980</td>\n",
       "      <td>0.660111</td>\n",
       "      <td>0.300818</td>\n",
       "      <td>0.451650</td>\n",
       "    </tr>\n",
       "    <tr>\n",
       "      <th>1</th>\n",
       "      <th>2</th>\n",
       "      <td>0.186009</td>\n",
       "      <td>83.238281</td>\n",
       "      <td>0.660111</td>\n",
       "      <td>0.300818</td>\n",
       "      <td>0.451650</td>\n",
       "    </tr>\n",
       "    <tr>\n",
       "      <th>2</th>\n",
       "      <th>3</th>\n",
       "      <td>0.186009</td>\n",
       "      <td>83.238281</td>\n",
       "      <td>0.823206</td>\n",
       "      <td>0.300818</td>\n",
       "      <td>0.451650</td>\n",
       "    </tr>\n",
       "    <tr>\n",
       "      <th>0</th>\n",
       "      <th>4</th>\n",
       "      <td>0.087685</td>\n",
       "      <td>17.326485</td>\n",
       "      <td>0.801710</td>\n",
       "      <td>0.366123</td>\n",
       "      <td>0.479431</td>\n",
       "    </tr>\n",
       "  </tbody>\n",
       "</table>\n",
       "</div>"
      ],
      "text/plain": [
       "                       D1N1_energy_coefficient  D1N1_inv_lambda_max  \\\n",
       "generation individual                                                 \n",
       "0          1                          0.358129            83.238281   \n",
       "1          3                          0.358129            58.718980   \n",
       "2          0                          0.358129            83.238281   \n",
       "           2                          0.358129            58.718980   \n",
       "0          0                          0.246343            44.521792   \n",
       "           2                          0.186009            58.718980   \n",
       "1          2                          0.186009            83.238281   \n",
       "2          3                          0.186009            83.238281   \n",
       "0          4                          0.087685            17.326485   \n",
       "\n",
       "                       D1N1_inv_lambda_rate  D2N1_energy_coefficient   fitness  \n",
       "generation individual                                                           \n",
       "0          1                       0.823206                 0.599768  0.312623  \n",
       "1          3                       0.823206                 0.599768  0.312623  \n",
       "2          0                       0.823206                 0.599768  0.312623  \n",
       "           2                       0.660111                 0.599768  0.312623  \n",
       "0          0                       0.993669                 0.740684  0.325145  \n",
       "           2                       0.660111                 0.300818  0.451650  \n",
       "1          2                       0.660111                 0.300818  0.451650  \n",
       "2          3                       0.823206                 0.300818  0.451650  \n",
       "0          4                       0.801710                 0.366123  0.479431  "
      ]
     },
     "execution_count": 16,
     "metadata": {},
     "output_type": "execute_result"
    }
   ],
   "source": [
    "viewer.hall_of_fame"
   ]
  },
  {
   "cell_type": "code",
   "execution_count": 17,
   "metadata": {},
   "outputs": [
    {
     "data": {
      "application/vnd.plotly.v1+json": {
       "config": {
        "plotlyServerURL": "https://plot.ly"
       },
       "data": [
        {
         "alignmentgroup": "True",
         "boxpoints": false,
         "hovertemplate": "generation=%{x}<br>fitness=%{y}<extra></extra>",
         "legendgroup": "",
         "marker": {
          "color": "#636efa"
         },
         "name": "",
         "notched": false,
         "offsetgroup": "",
         "orientation": "v",
         "showlegend": false,
         "type": "box",
         "x": [
          0,
          0,
          0,
          0,
          1,
          1,
          1,
          1,
          1,
          2,
          2,
          2,
          2
         ],
         "x0": " ",
         "xaxis": "x",
         "y": [
          0.32514507635302237,
          0.3126230872775365,
          0.4516502936158087,
          0.47943129618972236,
          0.4516502936158087,
          0.3126230872775365,
          0.4516502936158087,
          0.3126230872775365,
          0.3126230872775365,
          0.3126230872775365,
          0.3126230872775365,
          0.4516502936158087,
          0.3126230872775365
         ],
         "y0": " ",
         "yaxis": "y"
        },
        {
         "line": {
          "color": "rgba(0,0,0,0.5)",
          "dash": "dash",
          "width": 2
         },
         "mode": "lines",
         "name": "Median",
         "type": "scatter",
         "x": [
          0,
          1,
          2
         ],
         "y": [
          0.3883976849844155,
          0.3126230872775365,
          0.3126230872775365
         ]
        },
        {
         "line": {
          "color": "rgba(0,0,0,0.5)",
          "dash": "dash",
          "width": 2
         },
         "mode": "lines",
         "name": "Minimum",
         "type": "scatter",
         "x": [
          0,
          1,
          2
         ],
         "y": [
          0.3126230872775365,
          0.3126230872775365,
          0.3126230872775365
         ]
        }
       ],
       "layout": {
        "boxmode": "group",
        "legend": {
         "tracegroupgap": 0
        },
        "margin": {
         "t": 60
        },
        "template": {
         "data": {
          "bar": [
           {
            "error_x": {
             "color": "#2a3f5f"
            },
            "error_y": {
             "color": "#2a3f5f"
            },
            "marker": {
             "line": {
              "color": "#E5ECF6",
              "width": 0.5
             },
             "pattern": {
              "fillmode": "overlay",
              "size": 10,
              "solidity": 0.2
             }
            },
            "type": "bar"
           }
          ],
          "barpolar": [
           {
            "marker": {
             "line": {
              "color": "#E5ECF6",
              "width": 0.5
             },
             "pattern": {
              "fillmode": "overlay",
              "size": 10,
              "solidity": 0.2
             }
            },
            "type": "barpolar"
           }
          ],
          "carpet": [
           {
            "aaxis": {
             "endlinecolor": "#2a3f5f",
             "gridcolor": "white",
             "linecolor": "white",
             "minorgridcolor": "white",
             "startlinecolor": "#2a3f5f"
            },
            "baxis": {
             "endlinecolor": "#2a3f5f",
             "gridcolor": "white",
             "linecolor": "white",
             "minorgridcolor": "white",
             "startlinecolor": "#2a3f5f"
            },
            "type": "carpet"
           }
          ],
          "choropleth": [
           {
            "colorbar": {
             "outlinewidth": 0,
             "ticks": ""
            },
            "type": "choropleth"
           }
          ],
          "contour": [
           {
            "colorbar": {
             "outlinewidth": 0,
             "ticks": ""
            },
            "colorscale": [
             [
              0,
              "#0d0887"
             ],
             [
              0.1111111111111111,
              "#46039f"
             ],
             [
              0.2222222222222222,
              "#7201a8"
             ],
             [
              0.3333333333333333,
              "#9c179e"
             ],
             [
              0.4444444444444444,
              "#bd3786"
             ],
             [
              0.5555555555555556,
              "#d8576b"
             ],
             [
              0.6666666666666666,
              "#ed7953"
             ],
             [
              0.7777777777777778,
              "#fb9f3a"
             ],
             [
              0.8888888888888888,
              "#fdca26"
             ],
             [
              1,
              "#f0f921"
             ]
            ],
            "type": "contour"
           }
          ],
          "contourcarpet": [
           {
            "colorbar": {
             "outlinewidth": 0,
             "ticks": ""
            },
            "type": "contourcarpet"
           }
          ],
          "heatmap": [
           {
            "colorbar": {
             "outlinewidth": 0,
             "ticks": ""
            },
            "colorscale": [
             [
              0,
              "#0d0887"
             ],
             [
              0.1111111111111111,
              "#46039f"
             ],
             [
              0.2222222222222222,
              "#7201a8"
             ],
             [
              0.3333333333333333,
              "#9c179e"
             ],
             [
              0.4444444444444444,
              "#bd3786"
             ],
             [
              0.5555555555555556,
              "#d8576b"
             ],
             [
              0.6666666666666666,
              "#ed7953"
             ],
             [
              0.7777777777777778,
              "#fb9f3a"
             ],
             [
              0.8888888888888888,
              "#fdca26"
             ],
             [
              1,
              "#f0f921"
             ]
            ],
            "type": "heatmap"
           }
          ],
          "heatmapgl": [
           {
            "colorbar": {
             "outlinewidth": 0,
             "ticks": ""
            },
            "colorscale": [
             [
              0,
              "#0d0887"
             ],
             [
              0.1111111111111111,
              "#46039f"
             ],
             [
              0.2222222222222222,
              "#7201a8"
             ],
             [
              0.3333333333333333,
              "#9c179e"
             ],
             [
              0.4444444444444444,
              "#bd3786"
             ],
             [
              0.5555555555555556,
              "#d8576b"
             ],
             [
              0.6666666666666666,
              "#ed7953"
             ],
             [
              0.7777777777777778,
              "#fb9f3a"
             ],
             [
              0.8888888888888888,
              "#fdca26"
             ],
             [
              1,
              "#f0f921"
             ]
            ],
            "type": "heatmapgl"
           }
          ],
          "histogram": [
           {
            "marker": {
             "pattern": {
              "fillmode": "overlay",
              "size": 10,
              "solidity": 0.2
             }
            },
            "type": "histogram"
           }
          ],
          "histogram2d": [
           {
            "colorbar": {
             "outlinewidth": 0,
             "ticks": ""
            },
            "colorscale": [
             [
              0,
              "#0d0887"
             ],
             [
              0.1111111111111111,
              "#46039f"
             ],
             [
              0.2222222222222222,
              "#7201a8"
             ],
             [
              0.3333333333333333,
              "#9c179e"
             ],
             [
              0.4444444444444444,
              "#bd3786"
             ],
             [
              0.5555555555555556,
              "#d8576b"
             ],
             [
              0.6666666666666666,
              "#ed7953"
             ],
             [
              0.7777777777777778,
              "#fb9f3a"
             ],
             [
              0.8888888888888888,
              "#fdca26"
             ],
             [
              1,
              "#f0f921"
             ]
            ],
            "type": "histogram2d"
           }
          ],
          "histogram2dcontour": [
           {
            "colorbar": {
             "outlinewidth": 0,
             "ticks": ""
            },
            "colorscale": [
             [
              0,
              "#0d0887"
             ],
             [
              0.1111111111111111,
              "#46039f"
             ],
             [
              0.2222222222222222,
              "#7201a8"
             ],
             [
              0.3333333333333333,
              "#9c179e"
             ],
             [
              0.4444444444444444,
              "#bd3786"
             ],
             [
              0.5555555555555556,
              "#d8576b"
             ],
             [
              0.6666666666666666,
              "#ed7953"
             ],
             [
              0.7777777777777778,
              "#fb9f3a"
             ],
             [
              0.8888888888888888,
              "#fdca26"
             ],
             [
              1,
              "#f0f921"
             ]
            ],
            "type": "histogram2dcontour"
           }
          ],
          "mesh3d": [
           {
            "colorbar": {
             "outlinewidth": 0,
             "ticks": ""
            },
            "type": "mesh3d"
           }
          ],
          "parcoords": [
           {
            "line": {
             "colorbar": {
              "outlinewidth": 0,
              "ticks": ""
             }
            },
            "type": "parcoords"
           }
          ],
          "pie": [
           {
            "automargin": true,
            "type": "pie"
           }
          ],
          "scatter": [
           {
            "fillpattern": {
             "fillmode": "overlay",
             "size": 10,
             "solidity": 0.2
            },
            "type": "scatter"
           }
          ],
          "scatter3d": [
           {
            "line": {
             "colorbar": {
              "outlinewidth": 0,
              "ticks": ""
             }
            },
            "marker": {
             "colorbar": {
              "outlinewidth": 0,
              "ticks": ""
             }
            },
            "type": "scatter3d"
           }
          ],
          "scattercarpet": [
           {
            "marker": {
             "colorbar": {
              "outlinewidth": 0,
              "ticks": ""
             }
            },
            "type": "scattercarpet"
           }
          ],
          "scattergeo": [
           {
            "marker": {
             "colorbar": {
              "outlinewidth": 0,
              "ticks": ""
             }
            },
            "type": "scattergeo"
           }
          ],
          "scattergl": [
           {
            "marker": {
             "colorbar": {
              "outlinewidth": 0,
              "ticks": ""
             }
            },
            "type": "scattergl"
           }
          ],
          "scattermapbox": [
           {
            "marker": {
             "colorbar": {
              "outlinewidth": 0,
              "ticks": ""
             }
            },
            "type": "scattermapbox"
           }
          ],
          "scatterpolar": [
           {
            "marker": {
             "colorbar": {
              "outlinewidth": 0,
              "ticks": ""
             }
            },
            "type": "scatterpolar"
           }
          ],
          "scatterpolargl": [
           {
            "marker": {
             "colorbar": {
              "outlinewidth": 0,
              "ticks": ""
             }
            },
            "type": "scatterpolargl"
           }
          ],
          "scatterternary": [
           {
            "marker": {
             "colorbar": {
              "outlinewidth": 0,
              "ticks": ""
             }
            },
            "type": "scatterternary"
           }
          ],
          "surface": [
           {
            "colorbar": {
             "outlinewidth": 0,
             "ticks": ""
            },
            "colorscale": [
             [
              0,
              "#0d0887"
             ],
             [
              0.1111111111111111,
              "#46039f"
             ],
             [
              0.2222222222222222,
              "#7201a8"
             ],
             [
              0.3333333333333333,
              "#9c179e"
             ],
             [
              0.4444444444444444,
              "#bd3786"
             ],
             [
              0.5555555555555556,
              "#d8576b"
             ],
             [
              0.6666666666666666,
              "#ed7953"
             ],
             [
              0.7777777777777778,
              "#fb9f3a"
             ],
             [
              0.8888888888888888,
              "#fdca26"
             ],
             [
              1,
              "#f0f921"
             ]
            ],
            "type": "surface"
           }
          ],
          "table": [
           {
            "cells": {
             "fill": {
              "color": "#EBF0F8"
             },
             "line": {
              "color": "white"
             }
            },
            "header": {
             "fill": {
              "color": "#C8D4E3"
             },
             "line": {
              "color": "white"
             }
            },
            "type": "table"
           }
          ]
         },
         "layout": {
          "annotationdefaults": {
           "arrowcolor": "#2a3f5f",
           "arrowhead": 0,
           "arrowwidth": 1
          },
          "autotypenumbers": "strict",
          "coloraxis": {
           "colorbar": {
            "outlinewidth": 0,
            "ticks": ""
           }
          },
          "colorscale": {
           "diverging": [
            [
             0,
             "#8e0152"
            ],
            [
             0.1,
             "#c51b7d"
            ],
            [
             0.2,
             "#de77ae"
            ],
            [
             0.3,
             "#f1b6da"
            ],
            [
             0.4,
             "#fde0ef"
            ],
            [
             0.5,
             "#f7f7f7"
            ],
            [
             0.6,
             "#e6f5d0"
            ],
            [
             0.7,
             "#b8e186"
            ],
            [
             0.8,
             "#7fbc41"
            ],
            [
             0.9,
             "#4d9221"
            ],
            [
             1,
             "#276419"
            ]
           ],
           "sequential": [
            [
             0,
             "#0d0887"
            ],
            [
             0.1111111111111111,
             "#46039f"
            ],
            [
             0.2222222222222222,
             "#7201a8"
            ],
            [
             0.3333333333333333,
             "#9c179e"
            ],
            [
             0.4444444444444444,
             "#bd3786"
            ],
            [
             0.5555555555555556,
             "#d8576b"
            ],
            [
             0.6666666666666666,
             "#ed7953"
            ],
            [
             0.7777777777777778,
             "#fb9f3a"
            ],
            [
             0.8888888888888888,
             "#fdca26"
            ],
            [
             1,
             "#f0f921"
            ]
           ],
           "sequentialminus": [
            [
             0,
             "#0d0887"
            ],
            [
             0.1111111111111111,
             "#46039f"
            ],
            [
             0.2222222222222222,
             "#7201a8"
            ],
            [
             0.3333333333333333,
             "#9c179e"
            ],
            [
             0.4444444444444444,
             "#bd3786"
            ],
            [
             0.5555555555555556,
             "#d8576b"
            ],
            [
             0.6666666666666666,
             "#ed7953"
            ],
            [
             0.7777777777777778,
             "#fb9f3a"
            ],
            [
             0.8888888888888888,
             "#fdca26"
            ],
            [
             1,
             "#f0f921"
            ]
           ]
          },
          "colorway": [
           "#636efa",
           "#EF553B",
           "#00cc96",
           "#ab63fa",
           "#FFA15A",
           "#19d3f3",
           "#FF6692",
           "#B6E880",
           "#FF97FF",
           "#FECB52"
          ],
          "font": {
           "color": "#2a3f5f"
          },
          "geo": {
           "bgcolor": "white",
           "lakecolor": "white",
           "landcolor": "#E5ECF6",
           "showlakes": true,
           "showland": true,
           "subunitcolor": "white"
          },
          "hoverlabel": {
           "align": "left"
          },
          "hovermode": "closest",
          "mapbox": {
           "style": "light"
          },
          "paper_bgcolor": "white",
          "plot_bgcolor": "#E5ECF6",
          "polar": {
           "angularaxis": {
            "gridcolor": "white",
            "linecolor": "white",
            "ticks": ""
           },
           "bgcolor": "#E5ECF6",
           "radialaxis": {
            "gridcolor": "white",
            "linecolor": "white",
            "ticks": ""
           }
          },
          "scene": {
           "xaxis": {
            "backgroundcolor": "#E5ECF6",
            "gridcolor": "white",
            "gridwidth": 2,
            "linecolor": "white",
            "showbackground": true,
            "ticks": "",
            "zerolinecolor": "white"
           },
           "yaxis": {
            "backgroundcolor": "#E5ECF6",
            "gridcolor": "white",
            "gridwidth": 2,
            "linecolor": "white",
            "showbackground": true,
            "ticks": "",
            "zerolinecolor": "white"
           },
           "zaxis": {
            "backgroundcolor": "#E5ECF6",
            "gridcolor": "white",
            "gridwidth": 2,
            "linecolor": "white",
            "showbackground": true,
            "ticks": "",
            "zerolinecolor": "white"
           }
          },
          "shapedefaults": {
           "line": {
            "color": "#2a3f5f"
           }
          },
          "ternary": {
           "aaxis": {
            "gridcolor": "white",
            "linecolor": "white",
            "ticks": ""
           },
           "baxis": {
            "gridcolor": "white",
            "linecolor": "white",
            "ticks": ""
           },
           "bgcolor": "#E5ECF6",
           "caxis": {
            "gridcolor": "white",
            "linecolor": "white",
            "ticks": ""
           }
          },
          "title": {
           "x": 0.05
          },
          "xaxis": {
           "automargin": true,
           "gridcolor": "white",
           "linecolor": "white",
           "ticks": "",
           "title": {
            "standoff": 15
           },
           "zerolinecolor": "white",
           "zerolinewidth": 2
          },
          "yaxis": {
           "automargin": true,
           "gridcolor": "white",
           "linecolor": "white",
           "ticks": "",
           "title": {
            "standoff": 15
           },
           "zerolinecolor": "white",
           "zerolinewidth": 2
          }
         }
        },
        "title": {
         "text": "Fitness evolution"
        },
        "xaxis": {
         "anchor": "y",
         "domain": [
          0,
          1
         ],
         "title": {
          "text": "generation"
         }
        },
        "yaxis": {
         "anchor": "x",
         "domain": [
          0,
          1
         ],
         "title": {
          "text": "fitness"
         },
         "type": "log"
        }
       }
      }
     },
     "metadata": {},
     "output_type": "display_data"
    }
   ],
   "source": [
    "viewer.fitness_evolution()"
   ]
  },
  {
   "cell_type": "code",
   "execution_count": 18,
   "metadata": {},
   "outputs": [
    {
     "data": {
      "application/vnd.plotly.v1+json": {
       "config": {
        "plotlyServerURL": "https://plot.ly"
       },
       "data": [
        {
         "alignmentgroup": "True",
         "hovertemplate": "D1N1_energy_coefficient=%{y}<extra></extra>",
         "legendgroup": "",
         "marker": {
          "color": "#636efa"
         },
         "name": "",
         "notched": false,
         "offsetgroup": "",
         "orientation": "v",
         "showlegend": false,
         "type": "box",
         "x0": " ",
         "xaxis": "x",
         "y": [
          0.3581290814565719,
          0.3581290814565719,
          0.3581290814565719,
          0.3581290814565719,
          0.2463431275372821,
          0.18600884611745616,
          0.18600884611745616,
          0.18600884611745616,
          0.08768510843065837
         ],
         "y0": " ",
         "yaxis": "y"
        },
        {
         "alignmentgroup": "True",
         "hovertemplate": "D1N1_inv_lambda_max=%{y}<extra></extra>",
         "legendgroup": "",
         "marker": {
          "color": "#636efa"
         },
         "name": "",
         "notched": false,
         "offsetgroup": "",
         "orientation": "v",
         "showlegend": false,
         "type": "box",
         "x0": " ",
         "xaxis": "x2",
         "y": [
          83.23828064328359,
          58.71898018245836,
          83.23828064328359,
          58.71898018245836,
          44.521792120415185,
          58.71898018245836,
          83.23828064328359,
          83.23828064328359,
          17.326485096892043
         ],
         "y0": " ",
         "yaxis": "y2"
        },
        {
         "alignmentgroup": "True",
         "hovertemplate": "D1N1_inv_lambda_rate=%{y}<extra></extra>",
         "legendgroup": "",
         "marker": {
          "color": "#636efa"
         },
         "name": "",
         "notched": false,
         "offsetgroup": "",
         "orientation": "v",
         "showlegend": false,
         "type": "box",
         "x0": " ",
         "xaxis": "x3",
         "y": [
          0.82320608341513,
          0.82320608341513,
          0.82320608341513,
          0.6601107674888236,
          0.9936693466445101,
          0.6601107674888236,
          0.6601107674888236,
          0.82320608341513,
          0.8017098363843532
         ],
         "y0": " ",
         "yaxis": "y3"
        },
        {
         "alignmentgroup": "True",
         "hovertemplate": "D2N1_energy_coefficient=%{y}<extra></extra>",
         "legendgroup": "",
         "marker": {
          "color": "#636efa"
         },
         "name": "",
         "notched": false,
         "offsetgroup": "",
         "orientation": "v",
         "showlegend": false,
         "type": "box",
         "x0": " ",
         "xaxis": "x4",
         "y": [
          0.5997681627217606,
          0.5997681627217606,
          0.5997681627217606,
          0.5997681627217606,
          0.7406843114454543,
          0.30081752292002967,
          0.30081752292002967,
          0.30081752292002967,
          0.36612319620476713
         ],
         "y0": " ",
         "yaxis": "y4"
        }
       ],
       "layout": {
        "annotations": [
         {
          "font": {
           "size": 16
          },
          "showarrow": false,
          "text": "D1N1_energy_coefficient",
          "x": 0.13333333333333333,
          "xanchor": "center",
          "xref": "paper",
          "y": 1,
          "yanchor": "bottom",
          "yref": "paper"
         },
         {
          "font": {
           "size": 16
          },
          "showarrow": false,
          "text": "D1N1_inv_lambda_max",
          "x": 0.5,
          "xanchor": "center",
          "xref": "paper",
          "y": 1,
          "yanchor": "bottom",
          "yref": "paper"
         },
         {
          "font": {
           "size": 16
          },
          "showarrow": false,
          "text": "D1N1_inv_lambda_rate",
          "x": 0.8666666666666667,
          "xanchor": "center",
          "xref": "paper",
          "y": 1,
          "yanchor": "bottom",
          "yref": "paper"
         },
         {
          "font": {
           "size": 16
          },
          "showarrow": false,
          "text": "D2N1_energy_coefficient",
          "x": 0.13333333333333333,
          "xanchor": "center",
          "xref": "paper",
          "y": 0.45,
          "yanchor": "bottom",
          "yref": "paper"
         }
        ],
        "height": 600,
        "template": {
         "data": {
          "bar": [
           {
            "error_x": {
             "color": "#2a3f5f"
            },
            "error_y": {
             "color": "#2a3f5f"
            },
            "marker": {
             "line": {
              "color": "#E5ECF6",
              "width": 0.5
             },
             "pattern": {
              "fillmode": "overlay",
              "size": 10,
              "solidity": 0.2
             }
            },
            "type": "bar"
           }
          ],
          "barpolar": [
           {
            "marker": {
             "line": {
              "color": "#E5ECF6",
              "width": 0.5
             },
             "pattern": {
              "fillmode": "overlay",
              "size": 10,
              "solidity": 0.2
             }
            },
            "type": "barpolar"
           }
          ],
          "carpet": [
           {
            "aaxis": {
             "endlinecolor": "#2a3f5f",
             "gridcolor": "white",
             "linecolor": "white",
             "minorgridcolor": "white",
             "startlinecolor": "#2a3f5f"
            },
            "baxis": {
             "endlinecolor": "#2a3f5f",
             "gridcolor": "white",
             "linecolor": "white",
             "minorgridcolor": "white",
             "startlinecolor": "#2a3f5f"
            },
            "type": "carpet"
           }
          ],
          "choropleth": [
           {
            "colorbar": {
             "outlinewidth": 0,
             "ticks": ""
            },
            "type": "choropleth"
           }
          ],
          "contour": [
           {
            "colorbar": {
             "outlinewidth": 0,
             "ticks": ""
            },
            "colorscale": [
             [
              0,
              "#0d0887"
             ],
             [
              0.1111111111111111,
              "#46039f"
             ],
             [
              0.2222222222222222,
              "#7201a8"
             ],
             [
              0.3333333333333333,
              "#9c179e"
             ],
             [
              0.4444444444444444,
              "#bd3786"
             ],
             [
              0.5555555555555556,
              "#d8576b"
             ],
             [
              0.6666666666666666,
              "#ed7953"
             ],
             [
              0.7777777777777778,
              "#fb9f3a"
             ],
             [
              0.8888888888888888,
              "#fdca26"
             ],
             [
              1,
              "#f0f921"
             ]
            ],
            "type": "contour"
           }
          ],
          "contourcarpet": [
           {
            "colorbar": {
             "outlinewidth": 0,
             "ticks": ""
            },
            "type": "contourcarpet"
           }
          ],
          "heatmap": [
           {
            "colorbar": {
             "outlinewidth": 0,
             "ticks": ""
            },
            "colorscale": [
             [
              0,
              "#0d0887"
             ],
             [
              0.1111111111111111,
              "#46039f"
             ],
             [
              0.2222222222222222,
              "#7201a8"
             ],
             [
              0.3333333333333333,
              "#9c179e"
             ],
             [
              0.4444444444444444,
              "#bd3786"
             ],
             [
              0.5555555555555556,
              "#d8576b"
             ],
             [
              0.6666666666666666,
              "#ed7953"
             ],
             [
              0.7777777777777778,
              "#fb9f3a"
             ],
             [
              0.8888888888888888,
              "#fdca26"
             ],
             [
              1,
              "#f0f921"
             ]
            ],
            "type": "heatmap"
           }
          ],
          "heatmapgl": [
           {
            "colorbar": {
             "outlinewidth": 0,
             "ticks": ""
            },
            "colorscale": [
             [
              0,
              "#0d0887"
             ],
             [
              0.1111111111111111,
              "#46039f"
             ],
             [
              0.2222222222222222,
              "#7201a8"
             ],
             [
              0.3333333333333333,
              "#9c179e"
             ],
             [
              0.4444444444444444,
              "#bd3786"
             ],
             [
              0.5555555555555556,
              "#d8576b"
             ],
             [
              0.6666666666666666,
              "#ed7953"
             ],
             [
              0.7777777777777778,
              "#fb9f3a"
             ],
             [
              0.8888888888888888,
              "#fdca26"
             ],
             [
              1,
              "#f0f921"
             ]
            ],
            "type": "heatmapgl"
           }
          ],
          "histogram": [
           {
            "marker": {
             "pattern": {
              "fillmode": "overlay",
              "size": 10,
              "solidity": 0.2
             }
            },
            "type": "histogram"
           }
          ],
          "histogram2d": [
           {
            "colorbar": {
             "outlinewidth": 0,
             "ticks": ""
            },
            "colorscale": [
             [
              0,
              "#0d0887"
             ],
             [
              0.1111111111111111,
              "#46039f"
             ],
             [
              0.2222222222222222,
              "#7201a8"
             ],
             [
              0.3333333333333333,
              "#9c179e"
             ],
             [
              0.4444444444444444,
              "#bd3786"
             ],
             [
              0.5555555555555556,
              "#d8576b"
             ],
             [
              0.6666666666666666,
              "#ed7953"
             ],
             [
              0.7777777777777778,
              "#fb9f3a"
             ],
             [
              0.8888888888888888,
              "#fdca26"
             ],
             [
              1,
              "#f0f921"
             ]
            ],
            "type": "histogram2d"
           }
          ],
          "histogram2dcontour": [
           {
            "colorbar": {
             "outlinewidth": 0,
             "ticks": ""
            },
            "colorscale": [
             [
              0,
              "#0d0887"
             ],
             [
              0.1111111111111111,
              "#46039f"
             ],
             [
              0.2222222222222222,
              "#7201a8"
             ],
             [
              0.3333333333333333,
              "#9c179e"
             ],
             [
              0.4444444444444444,
              "#bd3786"
             ],
             [
              0.5555555555555556,
              "#d8576b"
             ],
             [
              0.6666666666666666,
              "#ed7953"
             ],
             [
              0.7777777777777778,
              "#fb9f3a"
             ],
             [
              0.8888888888888888,
              "#fdca26"
             ],
             [
              1,
              "#f0f921"
             ]
            ],
            "type": "histogram2dcontour"
           }
          ],
          "mesh3d": [
           {
            "colorbar": {
             "outlinewidth": 0,
             "ticks": ""
            },
            "type": "mesh3d"
           }
          ],
          "parcoords": [
           {
            "line": {
             "colorbar": {
              "outlinewidth": 0,
              "ticks": ""
             }
            },
            "type": "parcoords"
           }
          ],
          "pie": [
           {
            "automargin": true,
            "type": "pie"
           }
          ],
          "scatter": [
           {
            "fillpattern": {
             "fillmode": "overlay",
             "size": 10,
             "solidity": 0.2
            },
            "type": "scatter"
           }
          ],
          "scatter3d": [
           {
            "line": {
             "colorbar": {
              "outlinewidth": 0,
              "ticks": ""
             }
            },
            "marker": {
             "colorbar": {
              "outlinewidth": 0,
              "ticks": ""
             }
            },
            "type": "scatter3d"
           }
          ],
          "scattercarpet": [
           {
            "marker": {
             "colorbar": {
              "outlinewidth": 0,
              "ticks": ""
             }
            },
            "type": "scattercarpet"
           }
          ],
          "scattergeo": [
           {
            "marker": {
             "colorbar": {
              "outlinewidth": 0,
              "ticks": ""
             }
            },
            "type": "scattergeo"
           }
          ],
          "scattergl": [
           {
            "marker": {
             "colorbar": {
              "outlinewidth": 0,
              "ticks": ""
             }
            },
            "type": "scattergl"
           }
          ],
          "scattermapbox": [
           {
            "marker": {
             "colorbar": {
              "outlinewidth": 0,
              "ticks": ""
             }
            },
            "type": "scattermapbox"
           }
          ],
          "scatterpolar": [
           {
            "marker": {
             "colorbar": {
              "outlinewidth": 0,
              "ticks": ""
             }
            },
            "type": "scatterpolar"
           }
          ],
          "scatterpolargl": [
           {
            "marker": {
             "colorbar": {
              "outlinewidth": 0,
              "ticks": ""
             }
            },
            "type": "scatterpolargl"
           }
          ],
          "scatterternary": [
           {
            "marker": {
             "colorbar": {
              "outlinewidth": 0,
              "ticks": ""
             }
            },
            "type": "scatterternary"
           }
          ],
          "surface": [
           {
            "colorbar": {
             "outlinewidth": 0,
             "ticks": ""
            },
            "colorscale": [
             [
              0,
              "#0d0887"
             ],
             [
              0.1111111111111111,
              "#46039f"
             ],
             [
              0.2222222222222222,
              "#7201a8"
             ],
             [
              0.3333333333333333,
              "#9c179e"
             ],
             [
              0.4444444444444444,
              "#bd3786"
             ],
             [
              0.5555555555555556,
              "#d8576b"
             ],
             [
              0.6666666666666666,
              "#ed7953"
             ],
             [
              0.7777777777777778,
              "#fb9f3a"
             ],
             [
              0.8888888888888888,
              "#fdca26"
             ],
             [
              1,
              "#f0f921"
             ]
            ],
            "type": "surface"
           }
          ],
          "table": [
           {
            "cells": {
             "fill": {
              "color": "#EBF0F8"
             },
             "line": {
              "color": "white"
             }
            },
            "header": {
             "fill": {
              "color": "#C8D4E3"
             },
             "line": {
              "color": "white"
             }
            },
            "type": "table"
           }
          ]
         },
         "layout": {
          "annotationdefaults": {
           "arrowcolor": "#2a3f5f",
           "arrowhead": 0,
           "arrowwidth": 1
          },
          "autotypenumbers": "strict",
          "coloraxis": {
           "colorbar": {
            "outlinewidth": 0,
            "ticks": ""
           }
          },
          "colorscale": {
           "diverging": [
            [
             0,
             "#8e0152"
            ],
            [
             0.1,
             "#c51b7d"
            ],
            [
             0.2,
             "#de77ae"
            ],
            [
             0.3,
             "#f1b6da"
            ],
            [
             0.4,
             "#fde0ef"
            ],
            [
             0.5,
             "#f7f7f7"
            ],
            [
             0.6,
             "#e6f5d0"
            ],
            [
             0.7,
             "#b8e186"
            ],
            [
             0.8,
             "#7fbc41"
            ],
            [
             0.9,
             "#4d9221"
            ],
            [
             1,
             "#276419"
            ]
           ],
           "sequential": [
            [
             0,
             "#0d0887"
            ],
            [
             0.1111111111111111,
             "#46039f"
            ],
            [
             0.2222222222222222,
             "#7201a8"
            ],
            [
             0.3333333333333333,
             "#9c179e"
            ],
            [
             0.4444444444444444,
             "#bd3786"
            ],
            [
             0.5555555555555556,
             "#d8576b"
            ],
            [
             0.6666666666666666,
             "#ed7953"
            ],
            [
             0.7777777777777778,
             "#fb9f3a"
            ],
            [
             0.8888888888888888,
             "#fdca26"
            ],
            [
             1,
             "#f0f921"
            ]
           ],
           "sequentialminus": [
            [
             0,
             "#0d0887"
            ],
            [
             0.1111111111111111,
             "#46039f"
            ],
            [
             0.2222222222222222,
             "#7201a8"
            ],
            [
             0.3333333333333333,
             "#9c179e"
            ],
            [
             0.4444444444444444,
             "#bd3786"
            ],
            [
             0.5555555555555556,
             "#d8576b"
            ],
            [
             0.6666666666666666,
             "#ed7953"
            ],
            [
             0.7777777777777778,
             "#fb9f3a"
            ],
            [
             0.8888888888888888,
             "#fdca26"
            ],
            [
             1,
             "#f0f921"
            ]
           ]
          },
          "colorway": [
           "#636efa",
           "#EF553B",
           "#00cc96",
           "#ab63fa",
           "#FFA15A",
           "#19d3f3",
           "#FF6692",
           "#B6E880",
           "#FF97FF",
           "#FECB52"
          ],
          "font": {
           "color": "#2a3f5f"
          },
          "geo": {
           "bgcolor": "white",
           "lakecolor": "white",
           "landcolor": "#E5ECF6",
           "showlakes": true,
           "showland": true,
           "subunitcolor": "white"
          },
          "hoverlabel": {
           "align": "left"
          },
          "hovermode": "closest",
          "mapbox": {
           "style": "light"
          },
          "paper_bgcolor": "white",
          "plot_bgcolor": "#E5ECF6",
          "polar": {
           "angularaxis": {
            "gridcolor": "white",
            "linecolor": "white",
            "ticks": ""
           },
           "bgcolor": "#E5ECF6",
           "radialaxis": {
            "gridcolor": "white",
            "linecolor": "white",
            "ticks": ""
           }
          },
          "scene": {
           "xaxis": {
            "backgroundcolor": "#E5ECF6",
            "gridcolor": "white",
            "gridwidth": 2,
            "linecolor": "white",
            "showbackground": true,
            "ticks": "",
            "zerolinecolor": "white"
           },
           "yaxis": {
            "backgroundcolor": "#E5ECF6",
            "gridcolor": "white",
            "gridwidth": 2,
            "linecolor": "white",
            "showbackground": true,
            "ticks": "",
            "zerolinecolor": "white"
           },
           "zaxis": {
            "backgroundcolor": "#E5ECF6",
            "gridcolor": "white",
            "gridwidth": 2,
            "linecolor": "white",
            "showbackground": true,
            "ticks": "",
            "zerolinecolor": "white"
           }
          },
          "shapedefaults": {
           "line": {
            "color": "#2a3f5f"
           }
          },
          "ternary": {
           "aaxis": {
            "gridcolor": "white",
            "linecolor": "white",
            "ticks": ""
           },
           "baxis": {
            "gridcolor": "white",
            "linecolor": "white",
            "ticks": ""
           },
           "bgcolor": "#E5ECF6",
           "caxis": {
            "gridcolor": "white",
            "linecolor": "white",
            "ticks": ""
           }
          },
          "title": {
           "x": 0.05
          },
          "xaxis": {
           "automargin": true,
           "gridcolor": "white",
           "linecolor": "white",
           "ticks": "",
           "title": {
            "standoff": 15
           },
           "zerolinecolor": "white",
           "zerolinewidth": 2
          },
          "yaxis": {
           "automargin": true,
           "gridcolor": "white",
           "linecolor": "white",
           "ticks": "",
           "title": {
            "standoff": 15
           },
           "zerolinecolor": "white",
           "zerolinewidth": 2
          }
         }
        },
        "title": {
         "text": "Parameters distribution"
        },
        "width": 900,
        "xaxis": {
         "anchor": "y",
         "domain": [
          0,
          0.26666666666666666
         ]
        },
        "xaxis2": {
         "anchor": "y2",
         "domain": [
          0.3666666666666667,
          0.6333333333333333
         ]
        },
        "xaxis3": {
         "anchor": "y3",
         "domain": [
          0.7333333333333334,
          1
         ]
        },
        "xaxis4": {
         "anchor": "y4",
         "domain": [
          0,
          0.26666666666666666
         ]
        },
        "xaxis5": {
         "anchor": "y5",
         "domain": [
          0.3666666666666667,
          0.6333333333333333
         ]
        },
        "xaxis6": {
         "anchor": "y6",
         "domain": [
          0.7333333333333334,
          1
         ]
        },
        "yaxis": {
         "anchor": "x",
         "domain": [
          0.55,
          1
         ]
        },
        "yaxis2": {
         "anchor": "x2",
         "domain": [
          0.55,
          1
         ]
        },
        "yaxis3": {
         "anchor": "x3",
         "domain": [
          0.55,
          1
         ]
        },
        "yaxis4": {
         "anchor": "x4",
         "domain": [
          0,
          0.45
         ]
        },
        "yaxis5": {
         "anchor": "x5",
         "domain": [
          0,
          0.45
         ]
        },
        "yaxis6": {
         "anchor": "x6",
         "domain": [
          0,
          0.45
         ]
        }
       }
      }
     },
     "metadata": {},
     "output_type": "display_data"
    }
   ],
   "source": [
    "viewer.box_plot(3)"
   ]
  },
  {
   "cell_type": "code",
   "execution_count": 21,
   "metadata": {},
   "outputs": [
    {
     "data": {
      "application/vnd.plotly.v1+json": {
       "config": {
        "plotlyServerURL": "https://plot.ly"
       },
       "data": [
        {
         "dimensions": [
          {
           "label": "D1N1_energy_coefficient",
           "range": [
            0.05,
            0.8
           ],
           "values": [
            0.3581290814565719,
            0.3581290814565719,
            0.3581290814565719,
            0.3581290814565719,
            0.2463431275372821,
            0.18600884611745616,
            0.18600884611745616,
            0.18600884611745616,
            0.08768510843065837
           ]
          },
          {
           "label": "D1N1_inv_lambda_max",
           "range": [
            0,
            100
           ],
           "values": [
            83.23828064328359,
            58.71898018245836,
            83.23828064328359,
            58.71898018245836,
            44.521792120415185,
            58.71898018245836,
            83.23828064328359,
            83.23828064328359,
            17.326485096892043
           ]
          },
          {
           "label": "D1N1_inv_lambda_rate",
           "range": [
            0,
            1
           ],
           "values": [
            0.82320608341513,
            0.82320608341513,
            0.82320608341513,
            0.6601107674888236,
            0.9936693466445101,
            0.6601107674888236,
            0.6601107674888236,
            0.82320608341513,
            0.8017098363843532
           ]
          },
          {
           "label": "D2N1_energy_coefficient",
           "range": [
            0.05,
            0.8
           ],
           "values": [
            0.5997681627217606,
            0.5997681627217606,
            0.5997681627217606,
            0.5997681627217606,
            0.7406843114454543,
            0.30081752292002967,
            0.30081752292002967,
            0.30081752292002967,
            0.36612319620476713
           ]
          }
         ],
         "line": {
          "color": [
           -0.3126230872775365,
           -0.3126230872775365,
           -0.3126230872775365,
           -0.3126230872775365,
           -0.32514507635302237,
           -0.4516502936158087,
           -0.4516502936158087,
           -0.4516502936158087,
           -0.47943129618972236
          ],
          "colorbar": {
           "tickmode": "array",
           "ticktext": [
            0.3126230872775365,
            0.47943129618972236
           ],
           "tickvals": [
            -0.3126230872775365,
            -0.47943129618972236
           ],
           "title": {
            "text": "Cost function score"
           }
          },
          "colorscale": [
           [
            0,
            "rgba(0, 0, 255, 0.8)"
           ],
           [
            0.3,
            "rgba(255,255,0,0.5)"
           ],
           [
            1,
            "rgba(255,255,0,0.0)"
           ]
          ],
          "reversescale": true,
          "showscale": true
         },
         "type": "parcoords",
         "unselected": {
          "line": {
           "opacity": 0.2
          }
         }
        }
       ],
       "layout": {
        "coloraxis": {
         "colorbar": {
          "title": {
           "text": "Fitness"
          }
         }
        },
        "height": 700,
        "template": {
         "data": {
          "bar": [
           {
            "error_x": {
             "color": "#2a3f5f"
            },
            "error_y": {
             "color": "#2a3f5f"
            },
            "marker": {
             "line": {
              "color": "#E5ECF6",
              "width": 0.5
             },
             "pattern": {
              "fillmode": "overlay",
              "size": 10,
              "solidity": 0.2
             }
            },
            "type": "bar"
           }
          ],
          "barpolar": [
           {
            "marker": {
             "line": {
              "color": "#E5ECF6",
              "width": 0.5
             },
             "pattern": {
              "fillmode": "overlay",
              "size": 10,
              "solidity": 0.2
             }
            },
            "type": "barpolar"
           }
          ],
          "carpet": [
           {
            "aaxis": {
             "endlinecolor": "#2a3f5f",
             "gridcolor": "white",
             "linecolor": "white",
             "minorgridcolor": "white",
             "startlinecolor": "#2a3f5f"
            },
            "baxis": {
             "endlinecolor": "#2a3f5f",
             "gridcolor": "white",
             "linecolor": "white",
             "minorgridcolor": "white",
             "startlinecolor": "#2a3f5f"
            },
            "type": "carpet"
           }
          ],
          "choropleth": [
           {
            "colorbar": {
             "outlinewidth": 0,
             "ticks": ""
            },
            "type": "choropleth"
           }
          ],
          "contour": [
           {
            "colorbar": {
             "outlinewidth": 0,
             "ticks": ""
            },
            "colorscale": [
             [
              0,
              "#0d0887"
             ],
             [
              0.1111111111111111,
              "#46039f"
             ],
             [
              0.2222222222222222,
              "#7201a8"
             ],
             [
              0.3333333333333333,
              "#9c179e"
             ],
             [
              0.4444444444444444,
              "#bd3786"
             ],
             [
              0.5555555555555556,
              "#d8576b"
             ],
             [
              0.6666666666666666,
              "#ed7953"
             ],
             [
              0.7777777777777778,
              "#fb9f3a"
             ],
             [
              0.8888888888888888,
              "#fdca26"
             ],
             [
              1,
              "#f0f921"
             ]
            ],
            "type": "contour"
           }
          ],
          "contourcarpet": [
           {
            "colorbar": {
             "outlinewidth": 0,
             "ticks": ""
            },
            "type": "contourcarpet"
           }
          ],
          "heatmap": [
           {
            "colorbar": {
             "outlinewidth": 0,
             "ticks": ""
            },
            "colorscale": [
             [
              0,
              "#0d0887"
             ],
             [
              0.1111111111111111,
              "#46039f"
             ],
             [
              0.2222222222222222,
              "#7201a8"
             ],
             [
              0.3333333333333333,
              "#9c179e"
             ],
             [
              0.4444444444444444,
              "#bd3786"
             ],
             [
              0.5555555555555556,
              "#d8576b"
             ],
             [
              0.6666666666666666,
              "#ed7953"
             ],
             [
              0.7777777777777778,
              "#fb9f3a"
             ],
             [
              0.8888888888888888,
              "#fdca26"
             ],
             [
              1,
              "#f0f921"
             ]
            ],
            "type": "heatmap"
           }
          ],
          "heatmapgl": [
           {
            "colorbar": {
             "outlinewidth": 0,
             "ticks": ""
            },
            "colorscale": [
             [
              0,
              "#0d0887"
             ],
             [
              0.1111111111111111,
              "#46039f"
             ],
             [
              0.2222222222222222,
              "#7201a8"
             ],
             [
              0.3333333333333333,
              "#9c179e"
             ],
             [
              0.4444444444444444,
              "#bd3786"
             ],
             [
              0.5555555555555556,
              "#d8576b"
             ],
             [
              0.6666666666666666,
              "#ed7953"
             ],
             [
              0.7777777777777778,
              "#fb9f3a"
             ],
             [
              0.8888888888888888,
              "#fdca26"
             ],
             [
              1,
              "#f0f921"
             ]
            ],
            "type": "heatmapgl"
           }
          ],
          "histogram": [
           {
            "marker": {
             "pattern": {
              "fillmode": "overlay",
              "size": 10,
              "solidity": 0.2
             }
            },
            "type": "histogram"
           }
          ],
          "histogram2d": [
           {
            "colorbar": {
             "outlinewidth": 0,
             "ticks": ""
            },
            "colorscale": [
             [
              0,
              "#0d0887"
             ],
             [
              0.1111111111111111,
              "#46039f"
             ],
             [
              0.2222222222222222,
              "#7201a8"
             ],
             [
              0.3333333333333333,
              "#9c179e"
             ],
             [
              0.4444444444444444,
              "#bd3786"
             ],
             [
              0.5555555555555556,
              "#d8576b"
             ],
             [
              0.6666666666666666,
              "#ed7953"
             ],
             [
              0.7777777777777778,
              "#fb9f3a"
             ],
             [
              0.8888888888888888,
              "#fdca26"
             ],
             [
              1,
              "#f0f921"
             ]
            ],
            "type": "histogram2d"
           }
          ],
          "histogram2dcontour": [
           {
            "colorbar": {
             "outlinewidth": 0,
             "ticks": ""
            },
            "colorscale": [
             [
              0,
              "#0d0887"
             ],
             [
              0.1111111111111111,
              "#46039f"
             ],
             [
              0.2222222222222222,
              "#7201a8"
             ],
             [
              0.3333333333333333,
              "#9c179e"
             ],
             [
              0.4444444444444444,
              "#bd3786"
             ],
             [
              0.5555555555555556,
              "#d8576b"
             ],
             [
              0.6666666666666666,
              "#ed7953"
             ],
             [
              0.7777777777777778,
              "#fb9f3a"
             ],
             [
              0.8888888888888888,
              "#fdca26"
             ],
             [
              1,
              "#f0f921"
             ]
            ],
            "type": "histogram2dcontour"
           }
          ],
          "mesh3d": [
           {
            "colorbar": {
             "outlinewidth": 0,
             "ticks": ""
            },
            "type": "mesh3d"
           }
          ],
          "parcoords": [
           {
            "line": {
             "colorbar": {
              "outlinewidth": 0,
              "ticks": ""
             }
            },
            "type": "parcoords"
           }
          ],
          "pie": [
           {
            "automargin": true,
            "type": "pie"
           }
          ],
          "scatter": [
           {
            "fillpattern": {
             "fillmode": "overlay",
             "size": 10,
             "solidity": 0.2
            },
            "type": "scatter"
           }
          ],
          "scatter3d": [
           {
            "line": {
             "colorbar": {
              "outlinewidth": 0,
              "ticks": ""
             }
            },
            "marker": {
             "colorbar": {
              "outlinewidth": 0,
              "ticks": ""
             }
            },
            "type": "scatter3d"
           }
          ],
          "scattercarpet": [
           {
            "marker": {
             "colorbar": {
              "outlinewidth": 0,
              "ticks": ""
             }
            },
            "type": "scattercarpet"
           }
          ],
          "scattergeo": [
           {
            "marker": {
             "colorbar": {
              "outlinewidth": 0,
              "ticks": ""
             }
            },
            "type": "scattergeo"
           }
          ],
          "scattergl": [
           {
            "marker": {
             "colorbar": {
              "outlinewidth": 0,
              "ticks": ""
             }
            },
            "type": "scattergl"
           }
          ],
          "scattermapbox": [
           {
            "marker": {
             "colorbar": {
              "outlinewidth": 0,
              "ticks": ""
             }
            },
            "type": "scattermapbox"
           }
          ],
          "scatterpolar": [
           {
            "marker": {
             "colorbar": {
              "outlinewidth": 0,
              "ticks": ""
             }
            },
            "type": "scatterpolar"
           }
          ],
          "scatterpolargl": [
           {
            "marker": {
             "colorbar": {
              "outlinewidth": 0,
              "ticks": ""
             }
            },
            "type": "scatterpolargl"
           }
          ],
          "scatterternary": [
           {
            "marker": {
             "colorbar": {
              "outlinewidth": 0,
              "ticks": ""
             }
            },
            "type": "scatterternary"
           }
          ],
          "surface": [
           {
            "colorbar": {
             "outlinewidth": 0,
             "ticks": ""
            },
            "colorscale": [
             [
              0,
              "#0d0887"
             ],
             [
              0.1111111111111111,
              "#46039f"
             ],
             [
              0.2222222222222222,
              "#7201a8"
             ],
             [
              0.3333333333333333,
              "#9c179e"
             ],
             [
              0.4444444444444444,
              "#bd3786"
             ],
             [
              0.5555555555555556,
              "#d8576b"
             ],
             [
              0.6666666666666666,
              "#ed7953"
             ],
             [
              0.7777777777777778,
              "#fb9f3a"
             ],
             [
              0.8888888888888888,
              "#fdca26"
             ],
             [
              1,
              "#f0f921"
             ]
            ],
            "type": "surface"
           }
          ],
          "table": [
           {
            "cells": {
             "fill": {
              "color": "#EBF0F8"
             },
             "line": {
              "color": "white"
             }
            },
            "header": {
             "fill": {
              "color": "#C8D4E3"
             },
             "line": {
              "color": "white"
             }
            },
            "type": "table"
           }
          ]
         },
         "layout": {
          "annotationdefaults": {
           "arrowcolor": "#2a3f5f",
           "arrowhead": 0,
           "arrowwidth": 1
          },
          "autotypenumbers": "strict",
          "coloraxis": {
           "colorbar": {
            "outlinewidth": 0,
            "ticks": ""
           }
          },
          "colorscale": {
           "diverging": [
            [
             0,
             "#8e0152"
            ],
            [
             0.1,
             "#c51b7d"
            ],
            [
             0.2,
             "#de77ae"
            ],
            [
             0.3,
             "#f1b6da"
            ],
            [
             0.4,
             "#fde0ef"
            ],
            [
             0.5,
             "#f7f7f7"
            ],
            [
             0.6,
             "#e6f5d0"
            ],
            [
             0.7,
             "#b8e186"
            ],
            [
             0.8,
             "#7fbc41"
            ],
            [
             0.9,
             "#4d9221"
            ],
            [
             1,
             "#276419"
            ]
           ],
           "sequential": [
            [
             0,
             "#0d0887"
            ],
            [
             0.1111111111111111,
             "#46039f"
            ],
            [
             0.2222222222222222,
             "#7201a8"
            ],
            [
             0.3333333333333333,
             "#9c179e"
            ],
            [
             0.4444444444444444,
             "#bd3786"
            ],
            [
             0.5555555555555556,
             "#d8576b"
            ],
            [
             0.6666666666666666,
             "#ed7953"
            ],
            [
             0.7777777777777778,
             "#fb9f3a"
            ],
            [
             0.8888888888888888,
             "#fdca26"
            ],
            [
             1,
             "#f0f921"
            ]
           ],
           "sequentialminus": [
            [
             0,
             "#0d0887"
            ],
            [
             0.1111111111111111,
             "#46039f"
            ],
            [
             0.2222222222222222,
             "#7201a8"
            ],
            [
             0.3333333333333333,
             "#9c179e"
            ],
            [
             0.4444444444444444,
             "#bd3786"
            ],
            [
             0.5555555555555556,
             "#d8576b"
            ],
            [
             0.6666666666666666,
             "#ed7953"
            ],
            [
             0.7777777777777778,
             "#fb9f3a"
            ],
            [
             0.8888888888888888,
             "#fdca26"
            ],
            [
             1,
             "#f0f921"
            ]
           ]
          },
          "colorway": [
           "#636efa",
           "#EF553B",
           "#00cc96",
           "#ab63fa",
           "#FFA15A",
           "#19d3f3",
           "#FF6692",
           "#B6E880",
           "#FF97FF",
           "#FECB52"
          ],
          "font": {
           "color": "#2a3f5f"
          },
          "geo": {
           "bgcolor": "white",
           "lakecolor": "white",
           "landcolor": "#E5ECF6",
           "showlakes": true,
           "showland": true,
           "subunitcolor": "white"
          },
          "hoverlabel": {
           "align": "left"
          },
          "hovermode": "closest",
          "mapbox": {
           "style": "light"
          },
          "paper_bgcolor": "white",
          "plot_bgcolor": "#E5ECF6",
          "polar": {
           "angularaxis": {
            "gridcolor": "white",
            "linecolor": "white",
            "ticks": ""
           },
           "bgcolor": "#E5ECF6",
           "radialaxis": {
            "gridcolor": "white",
            "linecolor": "white",
            "ticks": ""
           }
          },
          "scene": {
           "xaxis": {
            "backgroundcolor": "#E5ECF6",
            "gridcolor": "white",
            "gridwidth": 2,
            "linecolor": "white",
            "showbackground": true,
            "ticks": "",
            "zerolinecolor": "white"
           },
           "yaxis": {
            "backgroundcolor": "#E5ECF6",
            "gridcolor": "white",
            "gridwidth": 2,
            "linecolor": "white",
            "showbackground": true,
            "ticks": "",
            "zerolinecolor": "white"
           },
           "zaxis": {
            "backgroundcolor": "#E5ECF6",
            "gridcolor": "white",
            "gridwidth": 2,
            "linecolor": "white",
            "showbackground": true,
            "ticks": "",
            "zerolinecolor": "white"
           }
          },
          "shapedefaults": {
           "line": {
            "color": "#2a3f5f"
           }
          },
          "ternary": {
           "aaxis": {
            "gridcolor": "white",
            "linecolor": "white",
            "ticks": ""
           },
           "baxis": {
            "gridcolor": "white",
            "linecolor": "white",
            "ticks": ""
           },
           "bgcolor": "#E5ECF6",
           "caxis": {
            "gridcolor": "white",
            "linecolor": "white",
            "ticks": ""
           }
          },
          "title": {
           "x": 0.05
          },
          "xaxis": {
           "automargin": true,
           "gridcolor": "white",
           "linecolor": "white",
           "ticks": "",
           "title": {
            "standoff": 15
           },
           "zerolinecolor": "white",
           "zerolinewidth": 2
          },
          "yaxis": {
           "automargin": true,
           "gridcolor": "white",
           "linecolor": "white",
           "ticks": "",
           "title": {
            "standoff": 15
           },
           "zerolinecolor": "white",
           "zerolinewidth": 2
          }
         }
        },
        "title": {
         "text": "Parameters optimization : minimization of the cost function"
        },
        "width": 1000
       }
      }
     },
     "metadata": {},
     "output_type": "display_data"
    }
   ],
   "source": [
    "fig = viewer.parallel_coordinates(4000)\n",
    "fig.update_layout(width=1000, height=700)"
   ]
  },
  {
   "cell_type": "code",
   "execution_count": 27,
   "metadata": {},
   "outputs": [
    {
     "name": "stderr",
     "output_type": "stream",
     "text": [
      "\u001b[38;21m2024-12-05 11:02:01,705 :: Seapodym ::  DEBUG ::\n",
      "|\tDirect computation for global_mask_from_nan.\n",
      "\u001b[0m\n",
      "\u001b[38;21m2024-12-05 11:02:01,708 :: Seapodym ::  DEBUG ::\n",
      "|\tDirect computation for mask_by_fgroup.\n",
      "\u001b[0m\n",
      "\u001b[38;21m2024-12-05 11:02:01,720 :: Seapodym ::  DEBUG ::\n",
      "|\tDirect computation for _wrapper_mesh_day_lengths.\n",
      "\u001b[0m\n",
      "\u001b[38;21m2024-12-05 11:02:01,758 :: Seapodym ::  DEBUG ::\n",
      "|\tDirect computation for _average_temperature.\n",
      "\u001b[0m\n",
      "\u001b[38;21m2024-12-05 11:02:01,787 :: Seapodym ::  DEBUG ::\n",
      "|\tDirect computation for _apply_coefficient_to_primary_production_helper.\n",
      "\u001b[0m\n",
      "\u001b[38;21m2024-12-05 11:02:01,794 :: Seapodym ::  DEBUG ::\n",
      "|\tDirect computation for _min_temperature_by_cohort_helper.\n",
      "\u001b[0m\n",
      "\u001b[38;21m2024-12-05 11:02:01,795 :: Seapodym ::  DEBUG ::\n",
      "|\tDirect computation for _mask_temperature_helper.\n",
      "\u001b[0m\n",
      "\u001b[38;21m2024-12-05 11:02:01,807 :: Seapodym ::  DEBUG ::\n",
      "|\tDirect computation for _cell_area_helper.\n",
      "\u001b[0m\n",
      "\u001b[38;21m2024-12-05 11:02:01,830 :: Seapodym ::  DEBUG ::\n",
      "|\tDirect computation for _mortality_field_helper.\n",
      "\u001b[0m\n",
      "\u001b[38;21m2024-12-05 11:02:01,840 :: Seapodym ::  DEBUG ::\n",
      "|\tDirect computation for _production_helper.\n",
      "\u001b[0m\n",
      "\u001b[38;21m2024-12-05 11:02:02,030 :: Seapodym ::  DEBUG ::\n",
      "|\tDirect computation for _biomass_helper.\n",
      "\u001b[0m\n"
     ]
    }
   ],
   "source": [
    "from seapopym_optimization import wrapper\n",
    "\n",
    "best_individual = cost_function.functional_groups.generate_matrix(viewer.hall_of_fame.iloc[0])\n",
    "\n",
    "model_print = wrapper.model_generator_no_transport(\n",
    "    forcing_parameters=forcing_parameters,\n",
    "    fg_parameters=wrapper.FunctionalGroupGeneratorNoTransport(\n",
    "        best_individual,\n",
    "        [\"D1N1\", \"D2N1\"],\n",
    "    ),\n",
    ")\n",
    "\n",
    "model_print.run()\n",
    "biomass_print = model_print.export_biomass()"
   ]
  },
  {
   "cell_type": "code",
   "execution_count": 28,
   "metadata": {},
   "outputs": [
    {
     "name": "stderr",
     "output_type": "stream",
     "text": [
      "/Users/ash/Documents/Workspaces/PhD/Seapopym-optimisation/.venv/lib/python3.12/site-packages/xarray/core/variable.py:341: UnitStrippedWarning:\n",
      "\n",
      "The unit of the quantity is stripped when downcasting to ndarray.\n",
      "\n"
     ]
    },
    {
     "data": {
      "text/plain": [
       "[<matplotlib.lines.Line2D at 0x30b130dd0>]"
      ]
     },
     "execution_count": 28,
     "metadata": {},
     "output_type": "execute_result"
    },
    {
     "data": {
      "image/png": "[encoded data removed]",
      "text/plain": [
       "<Figure size 640x480 with 1 Axes>"
      ]
     },
     "metadata": {},
     "output_type": "display_data"
    }
   ],
   "source": [
    "obs_hot.observation.day.pint.quantify().pint.to(\"g/m2\").plot()\n",
    "biomass_print.sel(latitude=22.75, longitude=-158, functional_group=0).pint.quantify().pint.to(\"g/m2\").plot()"
   ]
  }
 ],
 "metadata": {
  "kernelspec": {
   "display_name": ".venv",
   "language": "python",
   "name": "python3"
  },
  "language_info": {
   "codemirror_mode": {
    "name": "ipython",
    "version": 3
   },
   "file_extension": ".py",
   "mimetype": "text/x-python",
   "name": "python",
   "nbconvert_exporter": "python",
   "pygments_lexer": "ipython3",
   "version": "3.12.5"
  }
 },
 "nbformat": 4,
 "nbformat_minor": 2
}
