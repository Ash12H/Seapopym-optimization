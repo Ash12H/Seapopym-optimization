{
 "cells": [
  {
   "cell_type": "code",
   "execution_count": 1,
   "metadata": {},
   "outputs": [],
   "source": [
    "import pint\n",
    "import xarray as xr\n",
    "from dask.distributed import Client\n",
    "from seapopym.configuration.no_transport.parameter import ForcingParameters\n",
    "from seapopym.configuration.parameters.parameter_forcing import ForcingUnit\n",
    "from seapopym.standard.units import StandardUnitsLabels\n",
    "\n",
    "from seapopym_optimization import (\n",
    "    FunctionalGroupOptimizeNoTransport,\n",
    "    GeneticAlgorithm,\n",
    "    GeneticAlgorithmParameters,\n",
    "    NoTransportCostFunction,\n",
    "    Observation,\n",
    "    Parameter,\n",
    "    constraint,\n",
    ")\n",
    "\n",
    "%load_ext autoreload"
   ]
  },
  {
   "cell_type": "markdown",
   "metadata": {},
   "source": [
    "Load forcing.\n"
   ]
  },
  {
   "cell_type": "code",
   "execution_count": 2,
   "metadata": {},
   "outputs": [],
   "source": [
    "time_start, time_end = \"1998-01-01\", \"2022-01-01\"\n",
    "\n",
    "data = xr.open_dataset(\"../1_data_processing/1_1_Forcing/products/all_stations_cmems.zarr\", engine=\"zarr\")\n",
    "data[\"T\"].attrs[\"units\"] = StandardUnitsLabels.temperature.units\n",
    "data.time.attrs[\"axis\"] = \"T\"\n",
    "data = data.sel(time=slice(time_start, time_end))\n",
    "_ = data.load()\n",
    "\n",
    "cafe_npp = xr.open_dataset(\"../1_data_processing/1_1_Forcing/products/all_stations_cafe.zarr\", engine=\"zarr\")\n",
    "cafe_npp = cafe_npp.sel(time=slice(time_start, time_end))\n",
    "cafe_npp = cafe_npp.dropna(\"time\", how=\"all\")\n",
    "cafe_npp = cafe_npp.resample(time=\"D\").interpolate(\"linear\")\n",
    "cafe_npp.time.attrs[\"axis\"] = \"T\"\n",
    "_ = cafe_npp.load()"
   ]
  },
  {
   "cell_type": "code",
   "execution_count": 3,
   "metadata": {},
   "outputs": [
    {
     "data": {
      "text/html": [
       "<div><svg style=\"position: absolute; width: 0; height: 0; overflow: hidden\">\n",
       "<defs>\n",
       "<symbol id=\"icon-database\" viewBox=\"0 0 32 32\">\n",
       "<path d=\"M16 0c-8.837 0-16 2.239-16 5v4c0 2.761 7.163 5 16 5s16-2.239 16-5v-4c0-2.761-7.163-5-16-5z\"></path>\n",
       "<path d=\"M16 17c-8.837 0-16-2.239-16-5v6c0 2.761 7.163 5 16 5s16-2.239 16-5v-6c0 2.761-7.163 5-16 5z\"></path>\n",
       "<path d=\"M16 26c-8.837 0-16-2.239-16-5v6c0 2.761 7.163 5 16 5s16-2.239 16-5v-6c0 2.761-7.163 5-16 5z\"></path>\n",
       "</symbol>\n",
       "<symbol id=\"icon-file-text2\" viewBox=\"0 0 32 32\">\n",
       "<path d=\"M28.681 7.159c-0.694-0.947-1.662-2.053-2.724-3.116s-2.169-2.030-3.116-2.724c-1.612-1.182-2.393-1.319-2.841-1.319h-15.5c-1.378 0-2.5 1.121-2.5 2.5v27c0 1.378 1.122 2.5 2.5 2.5h23c1.378 0 2.5-1.122 2.5-2.5v-19.5c0-0.448-0.137-1.23-1.319-2.841zM24.543 5.457c0.959 0.959 1.712 1.825 2.268 2.543h-4.811v-4.811c0.718 0.556 1.584 1.309 2.543 2.268zM28 29.5c0 0.271-0.229 0.5-0.5 0.5h-23c-0.271 0-0.5-0.229-0.5-0.5v-27c0-0.271 0.229-0.5 0.5-0.5 0 0 15.499-0 15.5 0v7c0 0.552 0.448 1 1 1h7v19.5z\"></path>\n",
       "<path d=\"M23 26h-14c-0.552 0-1-0.448-1-1s0.448-1 1-1h14c0.552 0 1 0.448 1 1s-0.448 1-1 1z\"></path>\n",
       "<path d=\"M23 22h-14c-0.552 0-1-0.448-1-1s0.448-1 1-1h14c0.552 0 1 0.448 1 1s-0.448 1-1 1z\"></path>\n",
       "<path d=\"M23 18h-14c-0.552 0-1-0.448-1-1s0.448-1 1-1h14c0.552 0 1 0.448 1 1s-0.448 1-1 1z\"></path>\n",
       "</symbol>\n",
       "</defs>\n",
       "</svg>\n",
       "<style>/* CSS stylesheet for displaying xarray objects in jupyterlab.\n",
       " *\n",
       " */\n",
       "\n",
       ":root {\n",
       "  --xr-font-color0: var(--jp-content-font-color0, rgba(0, 0, 0, 1));\n",
       "  --xr-font-color2: var(--jp-content-font-color2, rgba(0, 0, 0, 0.54));\n",
       "  --xr-font-color3: var(--jp-content-font-color3, rgba(0, 0, 0, 0.38));\n",
       "  --xr-border-color: var(--jp-border-color2, #e0e0e0);\n",
       "  --xr-disabled-color: var(--jp-layout-color3, #bdbdbd);\n",
       "  --xr-background-color: var(--jp-layout-color0, white);\n",
       "  --xr-background-color-row-even: var(--jp-layout-color1, white);\n",
       "  --xr-background-color-row-odd: var(--jp-layout-color2, #eeeeee);\n",
       "}\n",
       "\n",
       "html[theme=dark],\n",
       "html[data-theme=dark],\n",
       "body[data-theme=dark],\n",
       "body.vscode-dark {\n",
       "  --xr-font-color0: rgba(255, 255, 255, 1);\n",
       "  --xr-font-color2: rgba(255, 255, 255, 0.54);\n",
       "  --xr-font-color3: rgba(255, 255, 255, 0.38);\n",
       "  --xr-border-color: #1F1F1F;\n",
       "  --xr-disabled-color: #515151;\n",
       "  --xr-background-color: #111111;\n",
       "  --xr-background-color-row-even: #111111;\n",
       "  --xr-background-color-row-odd: #313131;\n",
       "}\n",
       "\n",
       ".xr-wrap {\n",
       "  display: block !important;\n",
       "  min-width: 300px;\n",
       "  max-width: 700px;\n",
       "}\n",
       "\n",
       ".xr-text-repr-fallback {\n",
       "  /* fallback to plain text repr when CSS is not injected (untrusted notebook) */\n",
       "  display: none;\n",
       "}\n",
       "\n",
       ".xr-header {\n",
       "  padding-top: 6px;\n",
       "  padding-bottom: 6px;\n",
       "  margin-bottom: 4px;\n",
       "  border-bottom: solid 1px var(--xr-border-color);\n",
       "}\n",
       "\n",
       ".xr-header > div,\n",
       ".xr-header > ul {\n",
       "  display: inline;\n",
       "  margin-top: 0;\n",
       "  margin-bottom: 0;\n",
       "}\n",
       "\n",
       ".xr-obj-type,\n",
       ".xr-array-name {\n",
       "  margin-left: 2px;\n",
       "  margin-right: 10px;\n",
       "}\n",
       "\n",
       ".xr-obj-type {\n",
       "  color: var(--xr-font-color2);\n",
       "}\n",
       "\n",
       ".xr-sections {\n",
       "  padding-left: 0 !important;\n",
       "  display: grid;\n",
       "  grid-template-columns: 150px auto auto 1fr 0 20px 0 20px;\n",
       "}\n",
       "\n",
       ".xr-section-item {\n",
       "  display: contents;\n",
       "}\n",
       "\n",
       ".xr-section-item input {\n",
       "  display: inline-block;\n",
       "  opacity: 0;\n",
       "}\n",
       "\n",
       ".xr-section-item input + label {\n",
       "  color: var(--xr-disabled-color);\n",
       "}\n",
       "\n",
       ".xr-section-item input:enabled + label {\n",
       "  cursor: pointer;\n",
       "  color: var(--xr-font-color2);\n",
       "}\n",
       "\n",
       ".xr-section-item input:focus + label {\n",
       "  border: 2px solid var(--xr-font-color0);\n",
       "}\n",
       "\n",
       ".xr-section-item input:enabled + label:hover {\n",
       "  color: var(--xr-font-color0);\n",
       "}\n",
       "\n",
       ".xr-section-summary {\n",
       "  grid-column: 1;\n",
       "  color: var(--xr-font-color2);\n",
       "  font-weight: 500;\n",
       "}\n",
       "\n",
       ".xr-section-summary > span {\n",
       "  display: inline-block;\n",
       "  padding-left: 0.5em;\n",
       "}\n",
       "\n",
       ".xr-section-summary-in:disabled + label {\n",
       "  color: var(--xr-font-color2);\n",
       "}\n",
       "\n",
       ".xr-section-summary-in + label:before {\n",
       "  display: inline-block;\n",
       "  content: '►';\n",
       "  font-size: 11px;\n",
       "  width: 15px;\n",
       "  text-align: center;\n",
       "}\n",
       "\n",
       ".xr-section-summary-in:disabled + label:before {\n",
       "  color: var(--xr-disabled-color);\n",
       "}\n",
       "\n",
       ".xr-section-summary-in:checked + label:before {\n",
       "  content: '▼';\n",
       "}\n",
       "\n",
       ".xr-section-summary-in:checked + label > span {\n",
       "  display: none;\n",
       "}\n",
       "\n",
       ".xr-section-summary,\n",
       ".xr-section-inline-details {\n",
       "  padding-top: 4px;\n",
       "  padding-bottom: 4px;\n",
       "}\n",
       "\n",
       ".xr-section-inline-details {\n",
       "  grid-column: 2 / -1;\n",
       "}\n",
       "\n",
       ".xr-section-details {\n",
       "  display: none;\n",
       "  grid-column: 1 / -1;\n",
       "  margin-bottom: 5px;\n",
       "}\n",
       "\n",
       ".xr-section-summary-in:checked ~ .xr-section-details {\n",
       "  display: contents;\n",
       "}\n",
       "\n",
       ".xr-array-wrap {\n",
       "  grid-column: 1 / -1;\n",
       "  display: grid;\n",
       "  grid-template-columns: 20px auto;\n",
       "}\n",
       "\n",
       ".xr-array-wrap > label {\n",
       "  grid-column: 1;\n",
       "  vertical-align: top;\n",
       "}\n",
       "\n",
       ".xr-preview {\n",
       "  color: var(--xr-font-color3);\n",
       "}\n",
       "\n",
       ".xr-array-preview,\n",
       ".xr-array-data {\n",
       "  padding: 0 5px !important;\n",
       "  grid-column: 2;\n",
       "}\n",
       "\n",
       ".xr-array-data,\n",
       ".xr-array-in:checked ~ .xr-array-preview {\n",
       "  display: none;\n",
       "}\n",
       "\n",
       ".xr-array-in:checked ~ .xr-array-data,\n",
       ".xr-array-preview {\n",
       "  display: inline-block;\n",
       "}\n",
       "\n",
       ".xr-dim-list {\n",
       "  display: inline-block !important;\n",
       "  list-style: none;\n",
       "  padding: 0 !important;\n",
       "  margin: 0;\n",
       "}\n",
       "\n",
       ".xr-dim-list li {\n",
       "  display: inline-block;\n",
       "  padding: 0;\n",
       "  margin: 0;\n",
       "}\n",
       "\n",
       ".xr-dim-list:before {\n",
       "  content: '(';\n",
       "}\n",
       "\n",
       ".xr-dim-list:after {\n",
       "  content: ')';\n",
       "}\n",
       "\n",
       ".xr-dim-list li:not(:last-child):after {\n",
       "  content: ',';\n",
       "  padding-right: 5px;\n",
       "}\n",
       "\n",
       ".xr-has-index {\n",
       "  font-weight: bold;\n",
       "}\n",
       "\n",
       ".xr-var-list,\n",
       ".xr-var-item {\n",
       "  display: contents;\n",
       "}\n",
       "\n",
       ".xr-var-item > div,\n",
       ".xr-var-item label,\n",
       ".xr-var-item > .xr-var-name span {\n",
       "  background-color: var(--xr-background-color-row-even);\n",
       "  margin-bottom: 0;\n",
       "}\n",
       "\n",
       ".xr-var-item > .xr-var-name:hover span {\n",
       "  padding-right: 5px;\n",
       "}\n",
       "\n",
       ".xr-var-list > li:nth-child(odd) > div,\n",
       ".xr-var-list > li:nth-child(odd) > label,\n",
       ".xr-var-list > li:nth-child(odd) > .xr-var-name span {\n",
       "  background-color: var(--xr-background-color-row-odd);\n",
       "}\n",
       "\n",
       ".xr-var-name {\n",
       "  grid-column: 1;\n",
       "}\n",
       "\n",
       ".xr-var-dims {\n",
       "  grid-column: 2;\n",
       "}\n",
       "\n",
       ".xr-var-dtype {\n",
       "  grid-column: 3;\n",
       "  text-align: right;\n",
       "  color: var(--xr-font-color2);\n",
       "}\n",
       "\n",
       ".xr-var-preview {\n",
       "  grid-column: 4;\n",
       "}\n",
       "\n",
       ".xr-index-preview {\n",
       "  grid-column: 2 / 5;\n",
       "  color: var(--xr-font-color2);\n",
       "}\n",
       "\n",
       ".xr-var-name,\n",
       ".xr-var-dims,\n",
       ".xr-var-dtype,\n",
       ".xr-preview,\n",
       ".xr-attrs dt {\n",
       "  white-space: nowrap;\n",
       "  overflow: hidden;\n",
       "  text-overflow: ellipsis;\n",
       "  padding-right: 10px;\n",
       "}\n",
       "\n",
       ".xr-var-name:hover,\n",
       ".xr-var-dims:hover,\n",
       ".xr-var-dtype:hover,\n",
       ".xr-attrs dt:hover {\n",
       "  overflow: visible;\n",
       "  width: auto;\n",
       "  z-index: 1;\n",
       "}\n",
       "\n",
       ".xr-var-attrs,\n",
       ".xr-var-data,\n",
       ".xr-index-data {\n",
       "  display: none;\n",
       "  background-color: var(--xr-background-color) !important;\n",
       "  padding-bottom: 5px !important;\n",
       "}\n",
       "\n",
       ".xr-var-attrs-in:checked ~ .xr-var-attrs,\n",
       ".xr-var-data-in:checked ~ .xr-var-data,\n",
       ".xr-index-data-in:checked ~ .xr-index-data {\n",
       "  display: block;\n",
       "}\n",
       "\n",
       ".xr-var-data > table {\n",
       "  float: right;\n",
       "}\n",
       "\n",
       ".xr-var-name span,\n",
       ".xr-var-data,\n",
       ".xr-index-name div,\n",
       ".xr-index-data,\n",
       ".xr-attrs {\n",
       "  padding-left: 25px !important;\n",
       "}\n",
       "\n",
       ".xr-attrs,\n",
       ".xr-var-attrs,\n",
       ".xr-var-data,\n",
       ".xr-index-data {\n",
       "  grid-column: 1 / -1;\n",
       "}\n",
       "\n",
       "dl.xr-attrs {\n",
       "  padding: 0;\n",
       "  margin: 0;\n",
       "  display: grid;\n",
       "  grid-template-columns: 125px auto;\n",
       "}\n",
       "\n",
       ".xr-attrs dt,\n",
       ".xr-attrs dd {\n",
       "  padding: 0;\n",
       "  margin: 0;\n",
       "  float: left;\n",
       "  padding-right: 10px;\n",
       "  width: auto;\n",
       "}\n",
       "\n",
       ".xr-attrs dt {\n",
       "  font-weight: normal;\n",
       "  grid-column: 1;\n",
       "}\n",
       "\n",
       ".xr-attrs dt:hover span {\n",
       "  display: inline-block;\n",
       "  background: var(--xr-background-color);\n",
       "  padding-right: 10px;\n",
       "}\n",
       "\n",
       ".xr-attrs dd {\n",
       "  grid-column: 2;\n",
       "  white-space: pre-wrap;\n",
       "  word-break: break-all;\n",
       "}\n",
       "\n",
       ".xr-icon-database,\n",
       ".xr-icon-file-text2,\n",
       ".xr-no-icon {\n",
       "  display: inline-block;\n",
       "  vertical-align: middle;\n",
       "  width: 1em;\n",
       "  height: 1.5em !important;\n",
       "  stroke-width: 0;\n",
       "  stroke: currentColor;\n",
       "  fill: currentColor;\n",
       "}\n",
       "</style><pre class='xr-text-repr-fallback'>&lt;xarray.Dataset&gt; Size: 13MB\n",
       "Dimensions:              (latitude: 3, longitude: 3, time: 8767, depth: 3)\n",
       "Coordinates:\n",
       "  * depth                (depth) int32 12B 1 2 3\n",
       "  * latitude             (latitude) float64 24B 22.75 31.6 50.0\n",
       "  * longitude            (longitude) float64 24B -158.0 -150.0 -64.2\n",
       "  * time                 (time) datetime64[ns] 70kB 1998-01-01 ... 2022-01-01\n",
       "Data variables: (12/13)\n",
       "    T                    (latitude, longitude, time, depth) float64 2MB 23.52...\n",
       "    U                    (latitude, longitude, time, depth) float64 2MB 0.016...\n",
       "    V                    (latitude, longitude, time, depth) float64 2MB -0.07...\n",
       "    mnkc_epi             (latitude, longitude, time) float64 631kB 0.269 ... nan\n",
       "    mnkc_hmlmeso         (latitude, longitude, time) float64 631kB 0.7915 ......\n",
       "    mnkc_lmeso           (latitude, longitude, time) float64 631kB 2.173 ... nan\n",
       "    ...                   ...\n",
       "    mnkc_mumeso          (latitude, longitude, time) float64 631kB 0.4889 ......\n",
       "    mnkc_umeso           (latitude, longitude, time) float64 631kB 0.4931 ......\n",
       "    npp                  (latitude, longitude, time) float64 631kB 315.7 ... nan\n",
       "    pelagic_layer_depth  (latitude, longitude, time, depth) float64 2MB 117.3...\n",
       "    zeu                  (latitude, longitude, time) float64 631kB 78.19 ... nan\n",
       "    zooc                 (latitude, longitude, time) float64 631kB 0.2896 ......</pre><div class='xr-wrap' style='display:none'><div class='xr-header'><div class='xr-obj-type'>xarray.Dataset</div></div><ul class='xr-sections'><li class='xr-section-item'><input id='section-7d9349ef-89f6-44ae-b51b-ff770ba1fd20' class='xr-section-summary-in' type='checkbox' disabled ><label for='section-7d9349ef-89f6-44ae-b51b-ff770ba1fd20' class='xr-section-summary'  title='Expand/collapse section'>Dimensions:</label><div class='xr-section-inline-details'><ul class='xr-dim-list'><li><span class='xr-has-index'>latitude</span>: 3</li><li><span class='xr-has-index'>longitude</span>: 3</li><li><span class='xr-has-index'>time</span>: 8767</li><li><span class='xr-has-index'>depth</span>: 3</li></ul></div><div class='xr-section-details'></div></li><li class='xr-section-item'><input id='section-1b91e560-9f9d-495a-bda3-9896f99920ae' class='xr-section-summary-in' type='checkbox'  checked><label for='section-1b91e560-9f9d-495a-bda3-9896f99920ae' class='xr-section-summary' >Coordinates: <span>(4)</span></label><div class='xr-section-inline-details'></div><div class='xr-section-details'><ul class='xr-var-list'><li class='xr-var-item'><div class='xr-var-name'><span class='xr-has-index'>depth</span></div><div class='xr-var-dims'>(depth)</div><div class='xr-var-dtype'>int32</div><div class='xr-var-preview xr-preview'>1 2 3</div><input id='attrs-76fae17b-5559-4ba5-964e-b21dbdf29618' class='xr-var-attrs-in' type='checkbox' ><label for='attrs-76fae17b-5559-4ba5-964e-b21dbdf29618' title='Show/Hide attributes'><svg class='icon xr-icon-file-text2'><use xlink:href='#icon-file-text2'></use></svg></label><input id='data-b8d7bd13-0b32-414a-ab0a-57c4879fd2cc' class='xr-var-data-in' type='checkbox'><label for='data-b8d7bd13-0b32-414a-ab0a-57c4879fd2cc' title='Show/Hide data repr'><svg class='icon xr-icon-database'><use xlink:href='#icon-database'></use></svg></label><div class='xr-var-attrs'><dl class='xr-attrs'><dt><span>axis :</span></dt><dd>Z</dd><dt><span>comment :</span></dt><dd>In fact units are pelagic layer number; 1: epipelagic layer; 2: upper mesopelagic layer; 3: lower mesopelagic layer</dd><dt><span>long_name :</span></dt><dd>Depth</dd><dt><span>positive :</span></dt><dd>down</dd><dt><span>standard_name :</span></dt><dd>depth</dd><dt><span>units :</span></dt><dd>m</dd><dt><span>valid_max :</span></dt><dd>3</dd><dt><span>valid_min :</span></dt><dd>1</dd></dl></div><div class='xr-var-data'><pre>array([1, 2, 3], dtype=int32)</pre></div></li><li class='xr-var-item'><div class='xr-var-name'><span class='xr-has-index'>latitude</span></div><div class='xr-var-dims'>(latitude)</div><div class='xr-var-dtype'>float64</div><div class='xr-var-preview xr-preview'>22.75 31.6 50.0</div><input id='attrs-7935bc4a-88a0-43a3-9aad-be2023160f47' class='xr-var-attrs-in' type='checkbox' ><label for='attrs-7935bc4a-88a0-43a3-9aad-be2023160f47' title='Show/Hide attributes'><svg class='icon xr-icon-file-text2'><use xlink:href='#icon-file-text2'></use></svg></label><input id='data-11602e83-36d5-487e-8153-f2973b7aa37e' class='xr-var-data-in' type='checkbox'><label for='data-11602e83-36d5-487e-8153-f2973b7aa37e' title='Show/Hide data repr'><svg class='icon xr-icon-database'><use xlink:href='#icon-database'></use></svg></label><div class='xr-var-attrs'><dl class='xr-attrs'><dt><span>axis :</span></dt><dd>Y</dd><dt><span>standard_name :</span></dt><dd>latitude</dd><dt><span>units :</span></dt><dd>degrees_north</dd><dt><span>valid_max :</span></dt><dd>32.08333206176758</dd><dt><span>valid_min :</span></dt><dd>31.166664123535156</dd></dl></div><div class='xr-var-data'><pre>array([22.75, 31.6 , 50.  ])</pre></div></li><li class='xr-var-item'><div class='xr-var-name'><span class='xr-has-index'>longitude</span></div><div class='xr-var-dims'>(longitude)</div><div class='xr-var-dtype'>float64</div><div class='xr-var-preview xr-preview'>-158.0 -150.0 -64.2</div><input id='attrs-627bb7ce-83b2-4641-9c3a-5b450de28807' class='xr-var-attrs-in' type='checkbox' ><label for='attrs-627bb7ce-83b2-4641-9c3a-5b450de28807' title='Show/Hide attributes'><svg class='icon xr-icon-file-text2'><use xlink:href='#icon-file-text2'></use></svg></label><input id='data-a03eeedb-38c3-477d-ad92-0f46b8640034' class='xr-var-data-in' type='checkbox'><label for='data-a03eeedb-38c3-477d-ad92-0f46b8640034' title='Show/Hide data repr'><svg class='icon xr-icon-database'><use xlink:href='#icon-database'></use></svg></label><div class='xr-var-attrs'><dl class='xr-attrs'><dt><span>axis :</span></dt><dd>X</dd><dt><span>standard_name :</span></dt><dd>longitude</dd><dt><span>units :</span></dt><dd>degrees_east</dd><dt><span>valid_max :</span></dt><dd>-63.75</dd><dt><span>valid_min :</span></dt><dd>-64.66666412353516</dd></dl></div><div class='xr-var-data'><pre>array([-158. , -150. ,  -64.2])</pre></div></li><li class='xr-var-item'><div class='xr-var-name'><span class='xr-has-index'>time</span></div><div class='xr-var-dims'>(time)</div><div class='xr-var-dtype'>datetime64[ns]</div><div class='xr-var-preview xr-preview'>1998-01-01 ... 2022-01-01</div><input id='attrs-f3270b7a-5614-4a43-ac70-c7ef9dae94cf' class='xr-var-attrs-in' type='checkbox' ><label for='attrs-f3270b7a-5614-4a43-ac70-c7ef9dae94cf' title='Show/Hide attributes'><svg class='icon xr-icon-file-text2'><use xlink:href='#icon-file-text2'></use></svg></label><input id='data-0d964518-2dc7-4c48-9016-d5f526c23c29' class='xr-var-data-in' type='checkbox'><label for='data-0d964518-2dc7-4c48-9016-d5f526c23c29' title='Show/Hide data repr'><svg class='icon xr-icon-database'><use xlink:href='#icon-database'></use></svg></label><div class='xr-var-attrs'><dl class='xr-attrs'><dt><span>valid_max :</span></dt><dd>1672444800</dd><dt><span>valid_min :</span></dt><dd>883612800</dd><dt><span>axis :</span></dt><dd>T</dd></dl></div><div class='xr-var-data'><pre>array([&#x27;1998-01-01T00:00:00.000000000&#x27;, &#x27;1998-01-02T00:00:00.000000000&#x27;,\n",
       "       &#x27;1998-01-03T00:00:00.000000000&#x27;, ..., &#x27;2021-12-30T00:00:00.000000000&#x27;,\n",
       "       &#x27;2021-12-31T00:00:00.000000000&#x27;, &#x27;2022-01-01T00:00:00.000000000&#x27;],\n",
       "      dtype=&#x27;datetime64[ns]&#x27;)</pre></div></li></ul></div></li><li class='xr-section-item'><input id='section-861342ca-830a-46e1-80cc-16d723dcf887' class='xr-section-summary-in' type='checkbox'  checked><label for='section-861342ca-830a-46e1-80cc-16d723dcf887' class='xr-section-summary' >Data variables: <span>(13)</span></label><div class='xr-section-inline-details'></div><div class='xr-section-details'><ul class='xr-var-list'><li class='xr-var-item'><div class='xr-var-name'><span>T</span></div><div class='xr-var-dims'>(latitude, longitude, time, depth)</div><div class='xr-var-dtype'>float64</div><div class='xr-var-preview xr-preview'>23.52 17.14 6.433 ... nan nan nan</div><input id='attrs-0ea16b03-2b3d-44e6-8687-a70f041a813b' class='xr-var-attrs-in' type='checkbox' ><label for='attrs-0ea16b03-2b3d-44e6-8687-a70f041a813b' title='Show/Hide attributes'><svg class='icon xr-icon-file-text2'><use xlink:href='#icon-file-text2'></use></svg></label><input id='data-61032666-5cf5-4f05-810c-fee4b37a1139' class='xr-var-data-in' type='checkbox'><label for='data-61032666-5cf5-4f05-810c-fee4b37a1139' title='Show/Hide data repr'><svg class='icon xr-icon-database'><use xlink:href='#icon-database'></use></svg></label><div class='xr-var-attrs'><dl class='xr-attrs'><dt><span>units :</span></dt><dd>degree_Celsius</dd></dl></div><div class='xr-var-data'><pre>array([[[[23.51974   , 17.14358355,  6.43298115],\n",
       "         [23.49084328, 16.90840318,  6.32461848],\n",
       "         [23.49606412, 17.12603912,  6.4597531 ],\n",
       "         ...,\n",
       "         [24.14860771, 15.67142968,  5.65689805],\n",
       "         [24.15194661, 15.78428469,  5.72015514],\n",
       "         [24.17264783, 16.26684762,  5.92686375]],\n",
       "\n",
       "        [[        nan,         nan,         nan],\n",
       "         [        nan,         nan,         nan],\n",
       "         [        nan,         nan,         nan],\n",
       "         ...,\n",
       "         [        nan,         nan,         nan],\n",
       "         [        nan,         nan,         nan],\n",
       "         [        nan,         nan,         nan]],\n",
       "\n",
       "        [[        nan,         nan,         nan],\n",
       "         [        nan,         nan,         nan],\n",
       "         [        nan,         nan,         nan],\n",
       "         ...,\n",
       "...\n",
       "         ...,\n",
       "         [        nan,         nan,         nan],\n",
       "         [        nan,         nan,         nan],\n",
       "         [        nan,         nan,         nan]],\n",
       "\n",
       "        [[ 5.67207489,  4.2154014 ,  3.64687682],\n",
       "         [ 5.61082115,  4.19907112,  3.63971335],\n",
       "         [ 5.54137191,  4.19008642,  3.63649586],\n",
       "         ...,\n",
       "         [ 5.477872  ,  4.51183552,  3.84284023],\n",
       "         [ 5.47319753,  4.47516826,  3.82396024],\n",
       "         [ 5.46888731,  4.3906636 ,  3.77114482]],\n",
       "\n",
       "        [[        nan,         nan,         nan],\n",
       "         [        nan,         nan,         nan],\n",
       "         [        nan,         nan,         nan],\n",
       "         ...,\n",
       "         [        nan,         nan,         nan],\n",
       "         [        nan,         nan,         nan],\n",
       "         [        nan,         nan,         nan]]]])</pre></div></li><li class='xr-var-item'><div class='xr-var-name'><span>U</span></div><div class='xr-var-dims'>(latitude, longitude, time, depth)</div><div class='xr-var-dtype'>float64</div><div class='xr-var-preview xr-preview'>0.01696 0.05194 0.03012 ... nan nan</div><input id='attrs-a43fedaf-990e-4507-b7a9-57e1b6ed72da' class='xr-var-attrs-in' type='checkbox' disabled><label for='attrs-a43fedaf-990e-4507-b7a9-57e1b6ed72da' title='Show/Hide attributes'><svg class='icon xr-icon-file-text2'><use xlink:href='#icon-file-text2'></use></svg></label><input id='data-148a9dfc-2224-437c-ab93-dc2e5cc67dfd' class='xr-var-data-in' type='checkbox'><label for='data-148a9dfc-2224-437c-ab93-dc2e5cc67dfd' title='Show/Hide data repr'><svg class='icon xr-icon-database'><use xlink:href='#icon-database'></use></svg></label><div class='xr-var-attrs'><dl class='xr-attrs'></dl></div><div class='xr-var-data'><pre>array([[[[ 0.01695745,  0.05193745,  0.03011649],\n",
       "         [ 0.02953215,  0.05652048,  0.02733802],\n",
       "         [ 0.03192678,  0.05291134,  0.02541888],\n",
       "         ...,\n",
       "         [-0.11507398, -0.06070203,  0.00708102],\n",
       "         [-0.12827312, -0.06526215,  0.00461191],\n",
       "         [-0.11675252, -0.06871088,  0.00537384]],\n",
       "\n",
       "        [[        nan,         nan,         nan],\n",
       "         [        nan,         nan,         nan],\n",
       "         [        nan,         nan,         nan],\n",
       "         ...,\n",
       "         [        nan,         nan,         nan],\n",
       "         [        nan,         nan,         nan],\n",
       "         [        nan,         nan,         nan]],\n",
       "\n",
       "        [[        nan,         nan,         nan],\n",
       "         [        nan,         nan,         nan],\n",
       "         [        nan,         nan,         nan],\n",
       "         ...,\n",
       "...\n",
       "         ...,\n",
       "         [        nan,         nan,         nan],\n",
       "         [        nan,         nan,         nan],\n",
       "         [        nan,         nan,         nan]],\n",
       "\n",
       "        [[ 0.00659407,  0.02179255,  0.0249663 ],\n",
       "         [-0.00633581,  0.02522983,  0.02445071],\n",
       "         [-0.00502965,  0.02458247,  0.02938893],\n",
       "         ...,\n",
       "         [-0.08757006, -0.0790227 , -0.06105722],\n",
       "         [-0.07300747, -0.0837776 , -0.06081661],\n",
       "         [-0.09673613, -0.07897687, -0.05460087]],\n",
       "\n",
       "        [[        nan,         nan,         nan],\n",
       "         [        nan,         nan,         nan],\n",
       "         [        nan,         nan,         nan],\n",
       "         ...,\n",
       "         [        nan,         nan,         nan],\n",
       "         [        nan,         nan,         nan],\n",
       "         [        nan,         nan,         nan]]]])</pre></div></li><li class='xr-var-item'><div class='xr-var-name'><span>V</span></div><div class='xr-var-dims'>(latitude, longitude, time, depth)</div><div class='xr-var-dtype'>float64</div><div class='xr-var-preview xr-preview'>-0.07461 -0.06657 0.025 ... nan nan</div><input id='attrs-97e9fb15-0a82-4684-8946-c81c836ab978' class='xr-var-attrs-in' type='checkbox' disabled><label for='attrs-97e9fb15-0a82-4684-8946-c81c836ab978' title='Show/Hide attributes'><svg class='icon xr-icon-file-text2'><use xlink:href='#icon-file-text2'></use></svg></label><input id='data-b08257aa-72a6-4fae-a514-6280237b7e93' class='xr-var-data-in' type='checkbox'><label for='data-b08257aa-72a6-4fae-a514-6280237b7e93' title='Show/Hide data repr'><svg class='icon xr-icon-database'><use xlink:href='#icon-database'></use></svg></label><div class='xr-var-attrs'><dl class='xr-attrs'></dl></div><div class='xr-var-data'><pre>array([[[[-0.07460913, -0.06657062,  0.02499504],\n",
       "         [-0.06904554, -0.06132057,  0.02588228],\n",
       "         [-0.06456265, -0.05042021,  0.03092553],\n",
       "         ...,\n",
       "         [ 0.1526773 ,  0.08652802,  0.09415293],\n",
       "         [ 0.15446512,  0.09868251,  0.10341223],\n",
       "         [ 0.13216408,  0.11284497,  0.11245138]],\n",
       "\n",
       "        [[        nan,         nan,         nan],\n",
       "         [        nan,         nan,         nan],\n",
       "         [        nan,         nan,         nan],\n",
       "         ...,\n",
       "         [        nan,         nan,         nan],\n",
       "         [        nan,         nan,         nan],\n",
       "         [        nan,         nan,         nan]],\n",
       "\n",
       "        [[        nan,         nan,         nan],\n",
       "         [        nan,         nan,         nan],\n",
       "         [        nan,         nan,         nan],\n",
       "         ...,\n",
       "...\n",
       "         ...,\n",
       "         [        nan,         nan,         nan],\n",
       "         [        nan,         nan,         nan],\n",
       "         [        nan,         nan,         nan]],\n",
       "\n",
       "        [[ 0.01078589,  0.0177904 ,  0.00837767],\n",
       "         [ 0.01508866,  0.02306046,  0.00785066],\n",
       "         [ 0.01541554,  0.01353432,  0.00564257],\n",
       "         ...,\n",
       "         [ 0.02135269,  0.03174606,  0.0169632 ],\n",
       "         [ 0.0236942 ,  0.03005163,  0.01850419],\n",
       "         [-0.01196877,  0.02836388,  0.01717   ]],\n",
       "\n",
       "        [[        nan,         nan,         nan],\n",
       "         [        nan,         nan,         nan],\n",
       "         [        nan,         nan,         nan],\n",
       "         ...,\n",
       "         [        nan,         nan,         nan],\n",
       "         [        nan,         nan,         nan],\n",
       "         [        nan,         nan,         nan]]]])</pre></div></li><li class='xr-var-item'><div class='xr-var-name'><span>mnkc_epi</span></div><div class='xr-var-dims'>(latitude, longitude, time)</div><div class='xr-var-dtype'>float64</div><div class='xr-var-preview xr-preview'>0.269 0.2668 0.2636 ... nan nan nan</div><input id='attrs-6a0a4a0a-3f3e-48b7-a8a4-27d132fb90ed' class='xr-var-attrs-in' type='checkbox' disabled><label for='attrs-6a0a4a0a-3f3e-48b7-a8a4-27d132fb90ed' title='Show/Hide attributes'><svg class='icon xr-icon-file-text2'><use xlink:href='#icon-file-text2'></use></svg></label><input id='data-13824b95-26f6-4911-8618-f0aafa2a23e7' class='xr-var-data-in' type='checkbox'><label for='data-13824b95-26f6-4911-8618-f0aafa2a23e7' title='Show/Hide data repr'><svg class='icon xr-icon-database'><use xlink:href='#icon-database'></use></svg></label><div class='xr-var-attrs'><dl class='xr-attrs'></dl></div><div class='xr-var-data'><pre>array([[[0.26900573, 0.26676027, 0.26361663, ..., 0.18547475,\n",
       "         0.19445658, 0.20164204],\n",
       "        [       nan,        nan,        nan, ...,        nan,\n",
       "                nan,        nan],\n",
       "        [       nan,        nan,        nan, ...,        nan,\n",
       "                nan,        nan]],\n",
       "\n",
       "       [[       nan,        nan,        nan, ...,        nan,\n",
       "                nan,        nan],\n",
       "        [       nan,        nan,        nan, ...,        nan,\n",
       "                nan,        nan],\n",
       "        [0.73258019, 0.75582066, 0.74672656, ..., 1.18425373,\n",
       "         1.30955019, 1.39543889]],\n",
       "\n",
       "       [[       nan,        nan,        nan, ...,        nan,\n",
       "                nan,        nan],\n",
       "        [1.48828851, 1.42766119, 1.3962248 , ..., 1.88034519,\n",
       "         1.82196332, 1.77615601],\n",
       "        [       nan,        nan,        nan, ...,        nan,\n",
       "                nan,        nan]]])</pre></div></li><li class='xr-var-item'><div class='xr-var-name'><span>mnkc_hmlmeso</span></div><div class='xr-var-dims'>(latitude, longitude, time)</div><div class='xr-var-dtype'>float64</div><div class='xr-var-preview xr-preview'>0.7915 0.7851 0.7851 ... nan nan</div><input id='attrs-03df7363-751f-419f-a2d8-64841f6b6b8b' class='xr-var-attrs-in' type='checkbox' disabled><label for='attrs-03df7363-751f-419f-a2d8-64841f6b6b8b' title='Show/Hide attributes'><svg class='icon xr-icon-file-text2'><use xlink:href='#icon-file-text2'></use></svg></label><input id='data-6b7adec8-cd18-4278-bef9-7ca6bcb8a782' class='xr-var-data-in' type='checkbox'><label for='data-6b7adec8-cd18-4278-bef9-7ca6bcb8a782' title='Show/Hide data repr'><svg class='icon xr-icon-database'><use xlink:href='#icon-database'></use></svg></label><div class='xr-var-attrs'><dl class='xr-attrs'></dl></div><div class='xr-var-data'><pre>array([[[0.79150342, 0.78510659, 0.78510659, ..., 0.48445538,\n",
       "         0.53323124, 0.57640987],\n",
       "        [       nan,        nan,        nan, ...,        nan,\n",
       "                nan,        nan],\n",
       "        [       nan,        nan,        nan, ...,        nan,\n",
       "                nan,        nan]],\n",
       "\n",
       "       [[       nan,        nan,        nan, ...,        nan,\n",
       "                nan,        nan],\n",
       "        [       nan,        nan,        nan, ...,        nan,\n",
       "                nan,        nan],\n",
       "        [0.68355685, 0.67995863, 0.66556575, ..., 0.9552224 ,\n",
       "         1.04697699, 1.10814671]],\n",
       "\n",
       "       [[       nan,        nan,        nan, ...,        nan,\n",
       "                nan,        nan],\n",
       "        [1.99250904, 1.94453278, 1.93973516, ..., 2.26437449,\n",
       "         2.21240021, 2.15642791],\n",
       "        [       nan,        nan,        nan, ...,        nan,\n",
       "                nan,        nan]]])</pre></div></li><li class='xr-var-item'><div class='xr-var-name'><span>mnkc_lmeso</span></div><div class='xr-var-dims'>(latitude, longitude, time)</div><div class='xr-var-dtype'>float64</div><div class='xr-var-preview xr-preview'>2.173 2.243 2.334 ... nan nan nan</div><input id='attrs-8815ede0-dc47-476c-9a2e-7298939e37be' class='xr-var-attrs-in' type='checkbox' disabled><label for='attrs-8815ede0-dc47-476c-9a2e-7298939e37be' title='Show/Hide attributes'><svg class='icon xr-icon-file-text2'><use xlink:href='#icon-file-text2'></use></svg></label><input id='data-4c599b67-d87b-4b57-845c-200072392e07' class='xr-var-data-in' type='checkbox'><label for='data-4c599b67-d87b-4b57-845c-200072392e07' title='Show/Hide data repr'><svg class='icon xr-icon-database'><use xlink:href='#icon-database'></use></svg></label><div class='xr-var-attrs'><dl class='xr-attrs'></dl></div><div class='xr-var-data'><pre>array([[[2.17310775, 2.24314372, 2.33381942, ..., 2.66799764,\n",
       "         2.69165217, 2.6311244 ],\n",
       "        [       nan,        nan,        nan, ...,        nan,\n",
       "                nan,        nan],\n",
       "        [       nan,        nan,        nan, ...,        nan,\n",
       "                nan,        nan]],\n",
       "\n",
       "       [[       nan,        nan,        nan, ...,        nan,\n",
       "                nan,        nan],\n",
       "        [       nan,        nan,        nan, ...,        nan,\n",
       "                nan,        nan],\n",
       "        [1.11793016, 1.0448794 , 0.96034924, ..., 1.64076486,\n",
       "         1.59954336, 1.4623123 ]],\n",
       "\n",
       "       [[       nan,        nan,        nan, ...,        nan,\n",
       "                nan,        nan],\n",
       "        [2.65848944, 2.72319154, 2.76632628, ..., 2.64387929,\n",
       "         2.65037269, 2.66660619],\n",
       "        [       nan,        nan,        nan, ...,        nan,\n",
       "                nan,        nan]]])</pre></div></li><li class='xr-var-item'><div class='xr-var-name'><span>mnkc_mlmeso</span></div><div class='xr-var-dims'>(latitude, longitude, time)</div><div class='xr-var-dtype'>float64</div><div class='xr-var-preview xr-preview'>1.109 1.093 1.096 ... nan nan nan</div><input id='attrs-04871818-bd3b-4475-b993-d9f65e6af5d6' class='xr-var-attrs-in' type='checkbox' disabled><label for='attrs-04871818-bd3b-4475-b993-d9f65e6af5d6' title='Show/Hide attributes'><svg class='icon xr-icon-file-text2'><use xlink:href='#icon-file-text2'></use></svg></label><input id='data-30d3fbd4-ed58-4f01-a057-b9aecd2a8861' class='xr-var-data-in' type='checkbox'><label for='data-30d3fbd4-ed58-4f01-a057-b9aecd2a8861' title='Show/Hide data repr'><svg class='icon xr-icon-database'><use xlink:href='#icon-database'></use></svg></label><div class='xr-var-attrs'><dl class='xr-attrs'></dl></div><div class='xr-var-data'><pre>array([[[1.10917179, 1.09257993, 1.09629452, ..., 0.77733445,\n",
       "         0.78129669, 0.76990526],\n",
       "        [       nan,        nan,        nan, ...,        nan,\n",
       "                nan,        nan],\n",
       "        [       nan,        nan,        nan, ...,        nan,\n",
       "                nan,        nan]],\n",
       "\n",
       "       [[       nan,        nan,        nan, ...,        nan,\n",
       "                nan,        nan],\n",
       "        [       nan,        nan,        nan, ...,        nan,\n",
       "                nan,        nan],\n",
       "        [0.5542729 , 0.49911113, 0.49465362, ..., 1.06354416,\n",
       "         1.03234154, 0.89750167]],\n",
       "\n",
       "       [[       nan,        nan,        nan, ...,        nan,\n",
       "                nan,        nan],\n",
       "        [1.80033449, 1.84812897, 1.85085301, ..., 1.69805925,\n",
       "         1.68072446, 1.66338968],\n",
       "        [       nan,        nan,        nan, ...,        nan,\n",
       "                nan,        nan]]])</pre></div></li><li class='xr-var-item'><div class='xr-var-name'><span>mnkc_mumeso</span></div><div class='xr-var-dims'>(latitude, longitude, time)</div><div class='xr-var-dtype'>float64</div><div class='xr-var-preview xr-preview'>0.4889 0.4804 0.4804 ... nan nan</div><input id='attrs-8030f4ee-c164-4780-88b8-714cb42285b6' class='xr-var-attrs-in' type='checkbox' disabled><label for='attrs-8030f4ee-c164-4780-88b8-714cb42285b6' title='Show/Hide attributes'><svg class='icon xr-icon-file-text2'><use xlink:href='#icon-file-text2'></use></svg></label><input id='data-96975526-10b5-43de-b389-38904a764f68' class='xr-var-data-in' type='checkbox'><label for='data-96975526-10b5-43de-b389-38904a764f68' title='Show/Hide data repr'><svg class='icon xr-icon-database'><use xlink:href='#icon-database'></use></svg></label><div class='xr-var-attrs'><dl class='xr-attrs'></dl></div><div class='xr-var-data'><pre>array([[[0.48894087, 0.48036298, 0.48036298, ..., 0.30880519,\n",
       "         0.33453886, 0.37742831],\n",
       "        [       nan,        nan,        nan, ...,        nan,\n",
       "                nan,        nan],\n",
       "        [       nan,        nan,        nan, ...,        nan,\n",
       "                nan,        nan]],\n",
       "\n",
       "       [[       nan,        nan,        nan, ...,        nan,\n",
       "                nan,        nan],\n",
       "        [       nan,        nan,        nan, ...,        nan,\n",
       "                nan,        nan],\n",
       "        [0.57900871, 0.59830896, 0.61760921, ..., 1.00361423,\n",
       "         1.13871598, 1.15801623]],\n",
       "\n",
       "       [[       nan,        nan,        nan, ...,        nan,\n",
       "                nan,        nan],\n",
       "        [2.19594084, 2.13589561, 2.11873984, ..., 2.5476343 ,\n",
       "         2.4704333 , 2.42754385],\n",
       "        [       nan,        nan,        nan, ...,        nan,\n",
       "                nan,        nan]]])</pre></div></li><li class='xr-var-item'><div class='xr-var-name'><span>mnkc_umeso</span></div><div class='xr-var-dims'>(latitude, longitude, time)</div><div class='xr-var-dtype'>float64</div><div class='xr-var-preview xr-preview'>0.4931 0.4788 0.4854 ... nan nan</div><input id='attrs-c54eef8e-e0c4-4205-aaa0-7d1ef4417ece' class='xr-var-attrs-in' type='checkbox' disabled><label for='attrs-c54eef8e-e0c4-4205-aaa0-7d1ef4417ece' title='Show/Hide attributes'><svg class='icon xr-icon-file-text2'><use xlink:href='#icon-file-text2'></use></svg></label><input id='data-4d3c8d20-0ce9-4832-9d18-9fb5e09e9ec2' class='xr-var-data-in' type='checkbox'><label for='data-4d3c8d20-0ce9-4832-9d18-9fb5e09e9ec2' title='Show/Hide data repr'><svg class='icon xr-icon-database'><use xlink:href='#icon-database'></use></svg></label><div class='xr-var-attrs'><dl class='xr-attrs'></dl></div><div class='xr-var-data'><pre>array([[[0.49308351, 0.47880716, 0.48539624, ..., 0.38326539,\n",
       "         0.38106903, 0.37338176],\n",
       "        [       nan,        nan,        nan, ...,        nan,\n",
       "                nan,        nan],\n",
       "        [       nan,        nan,        nan, ...,        nan,\n",
       "                nan,        nan]],\n",
       "\n",
       "       [[       nan,        nan,        nan, ...,        nan,\n",
       "                nan,        nan],\n",
       "        [       nan,        nan,        nan, ...,        nan,\n",
       "                nan,        nan],\n",
       "        [0.33357269, 0.32615997, 0.3360436 , ..., 0.76845245,\n",
       "         0.74127246, 0.62761071]],\n",
       "\n",
       "       [[       nan,        nan,        nan, ...,        nan,\n",
       "                nan,        nan],\n",
       "        [1.34746849, 1.38590483, 1.38370847, ..., 1.35186121,\n",
       "         1.33868304, 1.32001396],\n",
       "        [       nan,        nan,        nan, ...,        nan,\n",
       "                nan,        nan]]])</pre></div></li><li class='xr-var-item'><div class='xr-var-name'><span>npp</span></div><div class='xr-var-dims'>(latitude, longitude, time)</div><div class='xr-var-dtype'>float64</div><div class='xr-var-preview xr-preview'>315.7 297.6 318.2 ... nan nan nan</div><input id='attrs-45d73393-4b0e-4cf6-a920-fda480e58ccf' class='xr-var-attrs-in' type='checkbox' disabled><label for='attrs-45d73393-4b0e-4cf6-a920-fda480e58ccf' title='Show/Hide attributes'><svg class='icon xr-icon-file-text2'><use xlink:href='#icon-file-text2'></use></svg></label><input id='data-1a2af570-bc9e-4aff-bb60-8b8d12eb32c7' class='xr-var-data-in' type='checkbox'><label for='data-1a2af570-bc9e-4aff-bb60-8b8d12eb32c7' title='Show/Hide data repr'><svg class='icon xr-icon-database'><use xlink:href='#icon-database'></use></svg></label><div class='xr-var-attrs'><dl class='xr-attrs'></dl></div><div class='xr-var-data'><pre>array([[[315.74748946, 297.64010675, 318.19095729, ..., 270.78768126,\n",
       "         275.54601337, 298.48889032],\n",
       "        [         nan,          nan,          nan, ...,          nan,\n",
       "                  nan,          nan],\n",
       "        [         nan,          nan,          nan, ...,          nan,\n",
       "                  nan,          nan]],\n",
       "\n",
       "       [[         nan,          nan,          nan, ...,          nan,\n",
       "                  nan,          nan],\n",
       "        [         nan,          nan,          nan, ...,          nan,\n",
       "                  nan,          nan],\n",
       "        [450.0096169 , 435.54171524, 459.84779004, ..., 273.5012166 ,\n",
       "         255.2716605 , 294.50860981]],\n",
       "\n",
       "       [[         nan,          nan,          nan, ...,          nan,\n",
       "                  nan,          nan],\n",
       "        [131.84438386, 142.10694877, 151.64933369, ..., 112.42524473,\n",
       "          91.12849348,  92.67173633],\n",
       "        [         nan,          nan,          nan, ...,          nan,\n",
       "                  nan,          nan]]])</pre></div></li><li class='xr-var-item'><div class='xr-var-name'><span>pelagic_layer_depth</span></div><div class='xr-var-dims'>(latitude, longitude, time, depth)</div><div class='xr-var-dtype'>float64</div><div class='xr-var-preview xr-preview'>117.3 351.9 821.0 ... nan nan nan</div><input id='attrs-d3568f4c-603a-4482-a91e-aee51f747120' class='xr-var-attrs-in' type='checkbox' disabled><label for='attrs-d3568f4c-603a-4482-a91e-aee51f747120' title='Show/Hide attributes'><svg class='icon xr-icon-file-text2'><use xlink:href='#icon-file-text2'></use></svg></label><input id='data-53b463db-fa72-47f3-a61f-bb60fe64e164' class='xr-var-data-in' type='checkbox'><label for='data-53b463db-fa72-47f3-a61f-bb60fe64e164' title='Show/Hide data repr'><svg class='icon xr-icon-database'><use xlink:href='#icon-database'></use></svg></label><div class='xr-var-attrs'><dl class='xr-attrs'></dl></div><div class='xr-var-data'><pre>array([[[[117.28651056, 351.85237634, 820.98410789],\n",
       "         [119.6003271 , 358.80719094, 837.21089488],\n",
       "         [117.12780113, 351.38460116, 819.89820122],\n",
       "         ...,\n",
       "         [122.55900513, 367.6732013 , 857.90994675],\n",
       "         [121.06713642, 363.20761892, 847.48190141],\n",
       "         [116.16385012, 348.49274815, 813.14553232]],\n",
       "\n",
       "        [[         nan,          nan,          nan],\n",
       "         [         nan,          nan,          nan],\n",
       "         [         nan,          nan,          nan],\n",
       "         ...,\n",
       "         [         nan,          nan,          nan],\n",
       "         [         nan,          nan,          nan],\n",
       "         [         nan,          nan,          nan]],\n",
       "\n",
       "        [[         nan,          nan,          nan],\n",
       "         [         nan,          nan,          nan],\n",
       "         [         nan,          nan,          nan],\n",
       "         ...,\n",
       "...\n",
       "         ...,\n",
       "         [         nan,          nan,          nan],\n",
       "         [         nan,          nan,          nan],\n",
       "         [         nan,          nan,          nan]],\n",
       "\n",
       "        [[ 87.47753699, 262.43715001, 612.35303479],\n",
       "         [ 87.88684028, 263.65670674, 615.20145153],\n",
       "         [ 87.55939765, 262.66602573, 612.88262312],\n",
       "         ...,\n",
       "         [ 91.32999976, 273.98618517, 639.30022661],\n",
       "         [ 93.88772763, 281.6526863 , 657.18761551],\n",
       "         [101.08645358, 303.2588879 , 707.59707403]],\n",
       "\n",
       "        [[         nan,          nan,          nan],\n",
       "         [         nan,          nan,          nan],\n",
       "         [         nan,          nan,          nan],\n",
       "         ...,\n",
       "         [         nan,          nan,          nan],\n",
       "         [         nan,          nan,          nan],\n",
       "         [         nan,          nan,          nan]]]])</pre></div></li><li class='xr-var-item'><div class='xr-var-name'><span>zeu</span></div><div class='xr-var-dims'>(latitude, longitude, time)</div><div class='xr-var-dtype'>float64</div><div class='xr-var-preview xr-preview'>78.19 79.74 78.09 ... nan nan nan</div><input id='attrs-99627226-b652-4768-b505-0010a0f5425b' class='xr-var-attrs-in' type='checkbox' disabled><label for='attrs-99627226-b652-4768-b505-0010a0f5425b' title='Show/Hide attributes'><svg class='icon xr-icon-file-text2'><use xlink:href='#icon-file-text2'></use></svg></label><input id='data-6a009163-0390-4b9b-ab0f-44cc241061bd' class='xr-var-data-in' type='checkbox'><label for='data-6a009163-0390-4b9b-ab0f-44cc241061bd' title='Show/Hide data repr'><svg class='icon xr-icon-database'><use xlink:href='#icon-database'></use></svg></label><div class='xr-var-attrs'><dl class='xr-attrs'></dl></div><div class='xr-var-data'><pre>array([[[78.18852203, 79.73523665, 78.08544569, ..., 81.70564628,\n",
       "         80.71265853, 77.44268971],\n",
       "        [        nan,         nan,         nan, ...,         nan,\n",
       "                 nan,         nan],\n",
       "        [        nan,         nan,         nan, ...,         nan,\n",
       "                 nan,         nan]],\n",
       "\n",
       "       [[        nan,         nan,         nan, ...,         nan,\n",
       "                 nan,         nan],\n",
       "        [        nan,         nan,         nan, ...,         nan,\n",
       "                 nan,         nan],\n",
       "        [66.7802204 , 66.45091712, 66.62987701, ..., 80.88260162,\n",
       "         83.92193001, 78.48265977]],\n",
       "\n",
       "       [[        nan,         nan,         nan, ...,         nan,\n",
       "                 nan,         nan],\n",
       "        [58.31984522, 58.58959012, 58.3693902 , ..., 60.88555395,\n",
       "         62.59001523, 67.3903735 ],\n",
       "        [        nan,         nan,         nan, ...,         nan,\n",
       "                 nan,         nan]]])</pre></div></li><li class='xr-var-item'><div class='xr-var-name'><span>zooc</span></div><div class='xr-var-dims'>(latitude, longitude, time)</div><div class='xr-var-dtype'>float64</div><div class='xr-var-preview xr-preview'>0.2896 0.2838 0.2826 ... nan nan</div><input id='attrs-917e18af-b2c8-4317-82b6-80eee4efc1d4' class='xr-var-attrs-in' type='checkbox' disabled><label for='attrs-917e18af-b2c8-4317-82b6-80eee4efc1d4' title='Show/Hide attributes'><svg class='icon xr-icon-file-text2'><use xlink:href='#icon-file-text2'></use></svg></label><input id='data-ec711fa3-6612-45e9-b11a-f39a5a21d611' class='xr-var-data-in' type='checkbox'><label for='data-ec711fa3-6612-45e9-b11a-f39a5a21d611' title='Show/Hide data repr'><svg class='icon xr-icon-database'><use xlink:href='#icon-database'></use></svg></label><div class='xr-var-attrs'><dl class='xr-attrs'></dl></div><div class='xr-var-data'><pre>array([[[0.28962967, 0.28384992, 0.28256553, ..., 0.18591529,\n",
       "         0.18944736, 0.19394272],\n",
       "        [       nan,        nan,        nan, ...,        nan,\n",
       "                nan,        nan],\n",
       "        [       nan,        nan,        nan, ...,        nan,\n",
       "                nan,        nan]],\n",
       "\n",
       "       [[       nan,        nan,        nan, ...,        nan,\n",
       "                nan,        nan],\n",
       "        [       nan,        nan,        nan, ...,        nan,\n",
       "                nan,        nan],\n",
       "        [0.37423876, 0.44865302, 0.5042831 , ..., 0.49778088,\n",
       "         0.50500557, 0.4652698 ]],\n",
       "\n",
       "       [[       nan,        nan,        nan, ...,        nan,\n",
       "                nan,        nan],\n",
       "        [2.03479259, 1.91598665, 1.85080393, ..., 2.13112173,\n",
       "         2.07043437, 1.99561874],\n",
       "        [       nan,        nan,        nan, ...,        nan,\n",
       "                nan,        nan]]])</pre></div></li></ul></div></li><li class='xr-section-item'><input id='section-0ce36409-e4c6-42e9-9c81-4f6ea5efd63e' class='xr-section-summary-in' type='checkbox'  ><label for='section-0ce36409-e4c6-42e9-9c81-4f6ea5efd63e' class='xr-section-summary' >Indexes: <span>(4)</span></label><div class='xr-section-inline-details'></div><div class='xr-section-details'><ul class='xr-var-list'><li class='xr-var-item'><div class='xr-index-name'><div>depth</div></div><div class='xr-index-preview'>PandasIndex</div><div></div><input id='index-f2cd6a4b-e769-4e22-83d1-ebe7dc554bea' class='xr-index-data-in' type='checkbox'/><label for='index-f2cd6a4b-e769-4e22-83d1-ebe7dc554bea' title='Show/Hide index repr'><svg class='icon xr-icon-database'><use xlink:href='#icon-database'></use></svg></label><div class='xr-index-data'><pre>PandasIndex(Index([1, 2, 3], dtype=&#x27;int32&#x27;, name=&#x27;depth&#x27;))</pre></div></li><li class='xr-var-item'><div class='xr-index-name'><div>latitude</div></div><div class='xr-index-preview'>PandasIndex</div><div></div><input id='index-5bd5566e-86c2-45d6-a7e6-3637584b3672' class='xr-index-data-in' type='checkbox'/><label for='index-5bd5566e-86c2-45d6-a7e6-3637584b3672' title='Show/Hide index repr'><svg class='icon xr-icon-database'><use xlink:href='#icon-database'></use></svg></label><div class='xr-index-data'><pre>PandasIndex(Index([22.75, 31.6, 50.0], dtype=&#x27;float64&#x27;, name=&#x27;latitude&#x27;))</pre></div></li><li class='xr-var-item'><div class='xr-index-name'><div>longitude</div></div><div class='xr-index-preview'>PandasIndex</div><div></div><input id='index-7f731b80-e96a-4c56-8072-1267e3843d70' class='xr-index-data-in' type='checkbox'/><label for='index-7f731b80-e96a-4c56-8072-1267e3843d70' title='Show/Hide index repr'><svg class='icon xr-icon-database'><use xlink:href='#icon-database'></use></svg></label><div class='xr-index-data'><pre>PandasIndex(Index([-158.0, -150.0, -64.2], dtype=&#x27;float64&#x27;, name=&#x27;longitude&#x27;))</pre></div></li><li class='xr-var-item'><div class='xr-index-name'><div>time</div></div><div class='xr-index-preview'>PandasIndex</div><div></div><input id='index-7f0e1928-2d8e-40f8-b50f-beaecd5aa101' class='xr-index-data-in' type='checkbox'/><label for='index-7f0e1928-2d8e-40f8-b50f-beaecd5aa101' title='Show/Hide index repr'><svg class='icon xr-icon-database'><use xlink:href='#icon-database'></use></svg></label><div class='xr-index-data'><pre>PandasIndex(DatetimeIndex([&#x27;1998-01-01&#x27;, &#x27;1998-01-02&#x27;, &#x27;1998-01-03&#x27;, &#x27;1998-01-04&#x27;,\n",
       "               &#x27;1998-01-05&#x27;, &#x27;1998-01-06&#x27;, &#x27;1998-01-07&#x27;, &#x27;1998-01-08&#x27;,\n",
       "               &#x27;1998-01-09&#x27;, &#x27;1998-01-10&#x27;,\n",
       "               ...\n",
       "               &#x27;2021-12-23&#x27;, &#x27;2021-12-24&#x27;, &#x27;2021-12-25&#x27;, &#x27;2021-12-26&#x27;,\n",
       "               &#x27;2021-12-27&#x27;, &#x27;2021-12-28&#x27;, &#x27;2021-12-29&#x27;, &#x27;2021-12-30&#x27;,\n",
       "               &#x27;2021-12-31&#x27;, &#x27;2022-01-01&#x27;],\n",
       "              dtype=&#x27;datetime64[ns]&#x27;, name=&#x27;time&#x27;, length=8767, freq=None))</pre></div></li></ul></div></li><li class='xr-section-item'><input id='section-c6603205-aae1-47ca-933a-767d54cd1b76' class='xr-section-summary-in' type='checkbox' disabled ><label for='section-c6603205-aae1-47ca-933a-767d54cd1b76' class='xr-section-summary'  title='Expand/collapse section'>Attributes: <span>(0)</span></label><div class='xr-section-inline-details'></div><div class='xr-section-details'><dl class='xr-attrs'></dl></div></li></ul></div></div>"
      ],
      "text/plain": [
       "<xarray.Dataset> Size: 13MB\n",
       "Dimensions:              (latitude: 3, longitude: 3, time: 8767, depth: 3)\n",
       "Coordinates:\n",
       "  * depth                (depth) int32 12B 1 2 3\n",
       "  * latitude             (latitude) float64 24B 22.75 31.6 50.0\n",
       "  * longitude            (longitude) float64 24B -158.0 -150.0 -64.2\n",
       "  * time                 (time) datetime64[ns] 70kB 1998-01-01 ... 2022-01-01\n",
       "Data variables: (12/13)\n",
       "    T                    (latitude, longitude, time, depth) float64 2MB 23.52...\n",
       "    U                    (latitude, longitude, time, depth) float64 2MB 0.016...\n",
       "    V                    (latitude, longitude, time, depth) float64 2MB -0.07...\n",
       "    mnkc_epi             (latitude, longitude, time) float64 631kB 0.269 ... nan\n",
       "    mnkc_hmlmeso         (latitude, longitude, time) float64 631kB 0.7915 ......\n",
       "    mnkc_lmeso           (latitude, longitude, time) float64 631kB 2.173 ... nan\n",
       "    ...                   ...\n",
       "    mnkc_mumeso          (latitude, longitude, time) float64 631kB 0.4889 ......\n",
       "    mnkc_umeso           (latitude, longitude, time) float64 631kB 0.4931 ......\n",
       "    npp                  (latitude, longitude, time) float64 631kB 315.7 ... nan\n",
       "    pelagic_layer_depth  (latitude, longitude, time, depth) float64 2MB 117.3...\n",
       "    zeu                  (latitude, longitude, time) float64 631kB 78.19 ... nan\n",
       "    zooc                 (latitude, longitude, time) float64 631kB 0.2896 ......"
      ]
     },
     "execution_count": 3,
     "metadata": {},
     "output_type": "execute_result"
    }
   ],
   "source": [
    "data"
   ]
  },
  {
   "cell_type": "code",
   "execution_count": 4,
   "metadata": {},
   "outputs": [
    {
     "data": {
      "text/html": [
       "<div><svg style=\"position: absolute; width: 0; height: 0; overflow: hidden\">\n",
       "<defs>\n",
       "<symbol id=\"icon-database\" viewBox=\"0 0 32 32\">\n",
       "<path d=\"M16 0c-8.837 0-16 2.239-16 5v4c0 2.761 7.163 5 16 5s16-2.239 16-5v-4c0-2.761-7.163-5-16-5z\"></path>\n",
       "<path d=\"M16 17c-8.837 0-16-2.239-16-5v6c0 2.761 7.163 5 16 5s16-2.239 16-5v-6c0 2.761-7.163 5-16 5z\"></path>\n",
       "<path d=\"M16 26c-8.837 0-16-2.239-16-5v6c0 2.761 7.163 5 16 5s16-2.239 16-5v-6c0 2.761-7.163 5-16 5z\"></path>\n",
       "</symbol>\n",
       "<symbol id=\"icon-file-text2\" viewBox=\"0 0 32 32\">\n",
       "<path d=\"M28.681 7.159c-0.694-0.947-1.662-2.053-2.724-3.116s-2.169-2.030-3.116-2.724c-1.612-1.182-2.393-1.319-2.841-1.319h-15.5c-1.378 0-2.5 1.121-2.5 2.5v27c0 1.378 1.122 2.5 2.5 2.5h23c1.378 0 2.5-1.122 2.5-2.5v-19.5c0-0.448-0.137-1.23-1.319-2.841zM24.543 5.457c0.959 0.959 1.712 1.825 2.268 2.543h-4.811v-4.811c0.718 0.556 1.584 1.309 2.543 2.268zM28 29.5c0 0.271-0.229 0.5-0.5 0.5h-23c-0.271 0-0.5-0.229-0.5-0.5v-27c0-0.271 0.229-0.5 0.5-0.5 0 0 15.499-0 15.5 0v7c0 0.552 0.448 1 1 1h7v19.5z\"></path>\n",
       "<path d=\"M23 26h-14c-0.552 0-1-0.448-1-1s0.448-1 1-1h14c0.552 0 1 0.448 1 1s-0.448 1-1 1z\"></path>\n",
       "<path d=\"M23 22h-14c-0.552 0-1-0.448-1-1s0.448-1 1-1h14c0.552 0 1 0.448 1 1s-0.448 1-1 1z\"></path>\n",
       "<path d=\"M23 18h-14c-0.552 0-1-0.448-1-1s0.448-1 1-1h14c0.552 0 1 0.448 1 1s-0.448 1-1 1z\"></path>\n",
       "</symbol>\n",
       "</defs>\n",
       "</svg>\n",
       "<style>/* CSS stylesheet for displaying xarray objects in jupyterlab.\n",
       " *\n",
       " */\n",
       "\n",
       ":root {\n",
       "  --xr-font-color0: var(--jp-content-font-color0, rgba(0, 0, 0, 1));\n",
       "  --xr-font-color2: var(--jp-content-font-color2, rgba(0, 0, 0, 0.54));\n",
       "  --xr-font-color3: var(--jp-content-font-color3, rgba(0, 0, 0, 0.38));\n",
       "  --xr-border-color: var(--jp-border-color2, #e0e0e0);\n",
       "  --xr-disabled-color: var(--jp-layout-color3, #bdbdbd);\n",
       "  --xr-background-color: var(--jp-layout-color0, white);\n",
       "  --xr-background-color-row-even: var(--jp-layout-color1, white);\n",
       "  --xr-background-color-row-odd: var(--jp-layout-color2, #eeeeee);\n",
       "}\n",
       "\n",
       "html[theme=dark],\n",
       "html[data-theme=dark],\n",
       "body[data-theme=dark],\n",
       "body.vscode-dark {\n",
       "  --xr-font-color0: rgba(255, 255, 255, 1);\n",
       "  --xr-font-color2: rgba(255, 255, 255, 0.54);\n",
       "  --xr-font-color3: rgba(255, 255, 255, 0.38);\n",
       "  --xr-border-color: #1F1F1F;\n",
       "  --xr-disabled-color: #515151;\n",
       "  --xr-background-color: #111111;\n",
       "  --xr-background-color-row-even: #111111;\n",
       "  --xr-background-color-row-odd: #313131;\n",
       "}\n",
       "\n",
       ".xr-wrap {\n",
       "  display: block !important;\n",
       "  min-width: 300px;\n",
       "  max-width: 700px;\n",
       "}\n",
       "\n",
       ".xr-text-repr-fallback {\n",
       "  /* fallback to plain text repr when CSS is not injected (untrusted notebook) */\n",
       "  display: none;\n",
       "}\n",
       "\n",
       ".xr-header {\n",
       "  padding-top: 6px;\n",
       "  padding-bottom: 6px;\n",
       "  margin-bottom: 4px;\n",
       "  border-bottom: solid 1px var(--xr-border-color);\n",
       "}\n",
       "\n",
       ".xr-header > div,\n",
       ".xr-header > ul {\n",
       "  display: inline;\n",
       "  margin-top: 0;\n",
       "  margin-bottom: 0;\n",
       "}\n",
       "\n",
       ".xr-obj-type,\n",
       ".xr-array-name {\n",
       "  margin-left: 2px;\n",
       "  margin-right: 10px;\n",
       "}\n",
       "\n",
       ".xr-obj-type {\n",
       "  color: var(--xr-font-color2);\n",
       "}\n",
       "\n",
       ".xr-sections {\n",
       "  padding-left: 0 !important;\n",
       "  display: grid;\n",
       "  grid-template-columns: 150px auto auto 1fr 0 20px 0 20px;\n",
       "}\n",
       "\n",
       ".xr-section-item {\n",
       "  display: contents;\n",
       "}\n",
       "\n",
       ".xr-section-item input {\n",
       "  display: inline-block;\n",
       "  opacity: 0;\n",
       "}\n",
       "\n",
       ".xr-section-item input + label {\n",
       "  color: var(--xr-disabled-color);\n",
       "}\n",
       "\n",
       ".xr-section-item input:enabled + label {\n",
       "  cursor: pointer;\n",
       "  color: var(--xr-font-color2);\n",
       "}\n",
       "\n",
       ".xr-section-item input:focus + label {\n",
       "  border: 2px solid var(--xr-font-color0);\n",
       "}\n",
       "\n",
       ".xr-section-item input:enabled + label:hover {\n",
       "  color: var(--xr-font-color0);\n",
       "}\n",
       "\n",
       ".xr-section-summary {\n",
       "  grid-column: 1;\n",
       "  color: var(--xr-font-color2);\n",
       "  font-weight: 500;\n",
       "}\n",
       "\n",
       ".xr-section-summary > span {\n",
       "  display: inline-block;\n",
       "  padding-left: 0.5em;\n",
       "}\n",
       "\n",
       ".xr-section-summary-in:disabled + label {\n",
       "  color: var(--xr-font-color2);\n",
       "}\n",
       "\n",
       ".xr-section-summary-in + label:before {\n",
       "  display: inline-block;\n",
       "  content: '►';\n",
       "  font-size: 11px;\n",
       "  width: 15px;\n",
       "  text-align: center;\n",
       "}\n",
       "\n",
       ".xr-section-summary-in:disabled + label:before {\n",
       "  color: var(--xr-disabled-color);\n",
       "}\n",
       "\n",
       ".xr-section-summary-in:checked + label:before {\n",
       "  content: '▼';\n",
       "}\n",
       "\n",
       ".xr-section-summary-in:checked + label > span {\n",
       "  display: none;\n",
       "}\n",
       "\n",
       ".xr-section-summary,\n",
       ".xr-section-inline-details {\n",
       "  padding-top: 4px;\n",
       "  padding-bottom: 4px;\n",
       "}\n",
       "\n",
       ".xr-section-inline-details {\n",
       "  grid-column: 2 / -1;\n",
       "}\n",
       "\n",
       ".xr-section-details {\n",
       "  display: none;\n",
       "  grid-column: 1 / -1;\n",
       "  margin-bottom: 5px;\n",
       "}\n",
       "\n",
       ".xr-section-summary-in:checked ~ .xr-section-details {\n",
       "  display: contents;\n",
       "}\n",
       "\n",
       ".xr-array-wrap {\n",
       "  grid-column: 1 / -1;\n",
       "  display: grid;\n",
       "  grid-template-columns: 20px auto;\n",
       "}\n",
       "\n",
       ".xr-array-wrap > label {\n",
       "  grid-column: 1;\n",
       "  vertical-align: top;\n",
       "}\n",
       "\n",
       ".xr-preview {\n",
       "  color: var(--xr-font-color3);\n",
       "}\n",
       "\n",
       ".xr-array-preview,\n",
       ".xr-array-data {\n",
       "  padding: 0 5px !important;\n",
       "  grid-column: 2;\n",
       "}\n",
       "\n",
       ".xr-array-data,\n",
       ".xr-array-in:checked ~ .xr-array-preview {\n",
       "  display: none;\n",
       "}\n",
       "\n",
       ".xr-array-in:checked ~ .xr-array-data,\n",
       ".xr-array-preview {\n",
       "  display: inline-block;\n",
       "}\n",
       "\n",
       ".xr-dim-list {\n",
       "  display: inline-block !important;\n",
       "  list-style: none;\n",
       "  padding: 0 !important;\n",
       "  margin: 0;\n",
       "}\n",
       "\n",
       ".xr-dim-list li {\n",
       "  display: inline-block;\n",
       "  padding: 0;\n",
       "  margin: 0;\n",
       "}\n",
       "\n",
       ".xr-dim-list:before {\n",
       "  content: '(';\n",
       "}\n",
       "\n",
       ".xr-dim-list:after {\n",
       "  content: ')';\n",
       "}\n",
       "\n",
       ".xr-dim-list li:not(:last-child):after {\n",
       "  content: ',';\n",
       "  padding-right: 5px;\n",
       "}\n",
       "\n",
       ".xr-has-index {\n",
       "  font-weight: bold;\n",
       "}\n",
       "\n",
       ".xr-var-list,\n",
       ".xr-var-item {\n",
       "  display: contents;\n",
       "}\n",
       "\n",
       ".xr-var-item > div,\n",
       ".xr-var-item label,\n",
       ".xr-var-item > .xr-var-name span {\n",
       "  background-color: var(--xr-background-color-row-even);\n",
       "  margin-bottom: 0;\n",
       "}\n",
       "\n",
       ".xr-var-item > .xr-var-name:hover span {\n",
       "  padding-right: 5px;\n",
       "}\n",
       "\n",
       ".xr-var-list > li:nth-child(odd) > div,\n",
       ".xr-var-list > li:nth-child(odd) > label,\n",
       ".xr-var-list > li:nth-child(odd) > .xr-var-name span {\n",
       "  background-color: var(--xr-background-color-row-odd);\n",
       "}\n",
       "\n",
       ".xr-var-name {\n",
       "  grid-column: 1;\n",
       "}\n",
       "\n",
       ".xr-var-dims {\n",
       "  grid-column: 2;\n",
       "}\n",
       "\n",
       ".xr-var-dtype {\n",
       "  grid-column: 3;\n",
       "  text-align: right;\n",
       "  color: var(--xr-font-color2);\n",
       "}\n",
       "\n",
       ".xr-var-preview {\n",
       "  grid-column: 4;\n",
       "}\n",
       "\n",
       ".xr-index-preview {\n",
       "  grid-column: 2 / 5;\n",
       "  color: var(--xr-font-color2);\n",
       "}\n",
       "\n",
       ".xr-var-name,\n",
       ".xr-var-dims,\n",
       ".xr-var-dtype,\n",
       ".xr-preview,\n",
       ".xr-attrs dt {\n",
       "  white-space: nowrap;\n",
       "  overflow: hidden;\n",
       "  text-overflow: ellipsis;\n",
       "  padding-right: 10px;\n",
       "}\n",
       "\n",
       ".xr-var-name:hover,\n",
       ".xr-var-dims:hover,\n",
       ".xr-var-dtype:hover,\n",
       ".xr-attrs dt:hover {\n",
       "  overflow: visible;\n",
       "  width: auto;\n",
       "  z-index: 1;\n",
       "}\n",
       "\n",
       ".xr-var-attrs,\n",
       ".xr-var-data,\n",
       ".xr-index-data {\n",
       "  display: none;\n",
       "  background-color: var(--xr-background-color) !important;\n",
       "  padding-bottom: 5px !important;\n",
       "}\n",
       "\n",
       ".xr-var-attrs-in:checked ~ .xr-var-attrs,\n",
       ".xr-var-data-in:checked ~ .xr-var-data,\n",
       ".xr-index-data-in:checked ~ .xr-index-data {\n",
       "  display: block;\n",
       "}\n",
       "\n",
       ".xr-var-data > table {\n",
       "  float: right;\n",
       "}\n",
       "\n",
       ".xr-var-name span,\n",
       ".xr-var-data,\n",
       ".xr-index-name div,\n",
       ".xr-index-data,\n",
       ".xr-attrs {\n",
       "  padding-left: 25px !important;\n",
       "}\n",
       "\n",
       ".xr-attrs,\n",
       ".xr-var-attrs,\n",
       ".xr-var-data,\n",
       ".xr-index-data {\n",
       "  grid-column: 1 / -1;\n",
       "}\n",
       "\n",
       "dl.xr-attrs {\n",
       "  padding: 0;\n",
       "  margin: 0;\n",
       "  display: grid;\n",
       "  grid-template-columns: 125px auto;\n",
       "}\n",
       "\n",
       ".xr-attrs dt,\n",
       ".xr-attrs dd {\n",
       "  padding: 0;\n",
       "  margin: 0;\n",
       "  float: left;\n",
       "  padding-right: 10px;\n",
       "  width: auto;\n",
       "}\n",
       "\n",
       ".xr-attrs dt {\n",
       "  font-weight: normal;\n",
       "  grid-column: 1;\n",
       "}\n",
       "\n",
       ".xr-attrs dt:hover span {\n",
       "  display: inline-block;\n",
       "  background: var(--xr-background-color);\n",
       "  padding-right: 10px;\n",
       "}\n",
       "\n",
       ".xr-attrs dd {\n",
       "  grid-column: 2;\n",
       "  white-space: pre-wrap;\n",
       "  word-break: break-all;\n",
       "}\n",
       "\n",
       ".xr-icon-database,\n",
       ".xr-icon-file-text2,\n",
       ".xr-no-icon {\n",
       "  display: inline-block;\n",
       "  vertical-align: middle;\n",
       "  width: 1em;\n",
       "  height: 1.5em !important;\n",
       "  stroke-width: 0;\n",
       "  stroke: currentColor;\n",
       "  fill: currentColor;\n",
       "}\n",
       "</style><pre class='xr-text-repr-fallback'>&lt;xarray.Dataset&gt; Size: 701kB\n",
       "Dimensions:    (time: 8767, latitude: 3, longitude: 3)\n",
       "Coordinates:\n",
       "  * latitude   (latitude) float64 24B 22.75 31.6 50.0\n",
       "  * longitude  (longitude) float64 24B -158.0 -150.0 -64.2\n",
       "  * time       (time) datetime64[ns] 70kB 1998-01-01 1998-01-02 ... 2022-01-01\n",
       "Data variables:\n",
       "    CAFE       (time, latitude, longitude) float64 631kB 306.4 nan ... nan nan\n",
       "Attributes:\n",
       "    Conventions:  CF-1.8\n",
       "    History:      2023-01-02 08:55:09.514113 Python\n",
       "    Keywords:     Primary Production\n",
       "    PI Contact:   tryankeogh@csir.co.za\n",
       "    PI Name:      Thomas Ryan-Keogh</pre><div class='xr-wrap' style='display:none'><div class='xr-header'><div class='xr-obj-type'>xarray.Dataset</div></div><ul class='xr-sections'><li class='xr-section-item'><input id='section-eb8f4a84-3cca-4204-9f2b-108a58b44fff' class='xr-section-summary-in' type='checkbox' disabled ><label for='section-eb8f4a84-3cca-4204-9f2b-108a58b44fff' class='xr-section-summary'  title='Expand/collapse section'>Dimensions:</label><div class='xr-section-inline-details'><ul class='xr-dim-list'><li><span class='xr-has-index'>time</span>: 8767</li><li><span class='xr-has-index'>latitude</span>: 3</li><li><span class='xr-has-index'>longitude</span>: 3</li></ul></div><div class='xr-section-details'></div></li><li class='xr-section-item'><input id='section-4c475582-239c-4364-9013-50b21d130eac' class='xr-section-summary-in' type='checkbox'  checked><label for='section-4c475582-239c-4364-9013-50b21d130eac' class='xr-section-summary' >Coordinates: <span>(3)</span></label><div class='xr-section-inline-details'></div><div class='xr-section-details'><ul class='xr-var-list'><li class='xr-var-item'><div class='xr-var-name'><span class='xr-has-index'>latitude</span></div><div class='xr-var-dims'>(latitude)</div><div class='xr-var-dtype'>float64</div><div class='xr-var-preview xr-preview'>22.75 31.6 50.0</div><input id='attrs-f36007cc-16cc-48f3-8b67-fa6e60f1810e' class='xr-var-attrs-in' type='checkbox' ><label for='attrs-f36007cc-16cc-48f3-8b67-fa6e60f1810e' title='Show/Hide attributes'><svg class='icon xr-icon-file-text2'><use xlink:href='#icon-file-text2'></use></svg></label><input id='data-c5052be6-e48b-4eb0-95a8-2744a8e4fb89' class='xr-var-data-in' type='checkbox'><label for='data-c5052be6-e48b-4eb0-95a8-2744a8e4fb89' title='Show/Hide data repr'><svg class='icon xr-icon-database'><use xlink:href='#icon-database'></use></svg></label><div class='xr-var-attrs'><dl class='xr-attrs'><dt><span>axis :</span></dt><dd>Y</dd><dt><span>long_name :</span></dt><dd>latitude</dd><dt><span>units :</span></dt><dd>degrees_north</dd></dl></div><div class='xr-var-data'><pre>array([22.75, 31.6 , 50.  ])</pre></div></li><li class='xr-var-item'><div class='xr-var-name'><span class='xr-has-index'>longitude</span></div><div class='xr-var-dims'>(longitude)</div><div class='xr-var-dtype'>float64</div><div class='xr-var-preview xr-preview'>-158.0 -150.0 -64.2</div><input id='attrs-80ad1ebf-b6a1-49f2-9da1-c0e41f6ed765' class='xr-var-attrs-in' type='checkbox' ><label for='attrs-80ad1ebf-b6a1-49f2-9da1-c0e41f6ed765' title='Show/Hide attributes'><svg class='icon xr-icon-file-text2'><use xlink:href='#icon-file-text2'></use></svg></label><input id='data-8f8dcf9a-35b3-4f28-ae09-c66103b0eb98' class='xr-var-data-in' type='checkbox'><label for='data-8f8dcf9a-35b3-4f28-ae09-c66103b0eb98' title='Show/Hide data repr'><svg class='icon xr-icon-database'><use xlink:href='#icon-database'></use></svg></label><div class='xr-var-attrs'><dl class='xr-attrs'><dt><span>axis :</span></dt><dd>X</dd><dt><span>long_name :</span></dt><dd>longitude</dd><dt><span>units :</span></dt><dd>degrees_east</dd></dl></div><div class='xr-var-data'><pre>array([-158. , -150. ,  -64.2])</pre></div></li><li class='xr-var-item'><div class='xr-var-name'><span class='xr-has-index'>time</span></div><div class='xr-var-dims'>(time)</div><div class='xr-var-dtype'>datetime64[ns]</div><div class='xr-var-preview xr-preview'>1998-01-01 ... 2022-01-01</div><input id='attrs-084d5ddd-d5c5-4d73-9c4a-d102ebca622c' class='xr-var-attrs-in' type='checkbox' ><label for='attrs-084d5ddd-d5c5-4d73-9c4a-d102ebca622c' title='Show/Hide attributes'><svg class='icon xr-icon-file-text2'><use xlink:href='#icon-file-text2'></use></svg></label><input id='data-d15f8554-c77b-4d06-83cf-ddda06d6ce79' class='xr-var-data-in' type='checkbox'><label for='data-d15f8554-c77b-4d06-83cf-ddda06d6ce79' title='Show/Hide data repr'><svg class='icon xr-icon-database'><use xlink:href='#icon-database'></use></svg></label><div class='xr-var-attrs'><dl class='xr-attrs'><dt><span>format :</span></dt><dd>datetime64[ns]</dd><dt><span>long_name :</span></dt><dd>time</dd><dt><span>standard_name :</span></dt><dd>Time</dd><dt><span>axis :</span></dt><dd>T</dd></dl></div><div class='xr-var-data'><pre>array([&#x27;1998-01-01T00:00:00.000000000&#x27;, &#x27;1998-01-02T00:00:00.000000000&#x27;,\n",
       "       &#x27;1998-01-03T00:00:00.000000000&#x27;, ..., &#x27;2021-12-30T00:00:00.000000000&#x27;,\n",
       "       &#x27;2021-12-31T00:00:00.000000000&#x27;, &#x27;2022-01-01T00:00:00.000000000&#x27;],\n",
       "      dtype=&#x27;datetime64[ns]&#x27;)</pre></div></li></ul></div></li><li class='xr-section-item'><input id='section-488b05ca-5bd7-4032-9946-acde9be4496a' class='xr-section-summary-in' type='checkbox'  checked><label for='section-488b05ca-5bd7-4032-9946-acde9be4496a' class='xr-section-summary' >Data variables: <span>(1)</span></label><div class='xr-section-inline-details'></div><div class='xr-section-details'><ul class='xr-var-list'><li class='xr-var-item'><div class='xr-var-name'><span>CAFE</span></div><div class='xr-var-dims'>(time, latitude, longitude)</div><div class='xr-var-dtype'>float64</div><div class='xr-var-preview xr-preview'>306.4 nan nan nan ... nan nan nan</div><input id='attrs-81b12a86-434d-4f81-8e10-d4c949dd081e' class='xr-var-attrs-in' type='checkbox' ><label for='attrs-81b12a86-434d-4f81-8e10-d4c949dd081e' title='Show/Hide attributes'><svg class='icon xr-icon-file-text2'><use xlink:href='#icon-file-text2'></use></svg></label><input id='data-92a6d3d0-50f7-47d9-8dba-0cb1a8a29cf3' class='xr-var-data-in' type='checkbox'><label for='data-92a6d3d0-50f7-47d9-8dba-0cb1a8a29cf3' title='Show/Hide data repr'><svg class='icon xr-icon-database'><use xlink:href='#icon-database'></use></svg></label><div class='xr-var-attrs'><dl class='xr-attrs'><dt><span>adg wavelength :</span></dt><dd>443nm</dd><dt><span>aph wavelength :</span></dt><dd>443nm</dd><dt><span>bbp wavelength :</span></dt><dd>443nm</dd><dt><span>doi :</span></dt><dd>10.1002/2016GB005521</dd><dt><span>long_name :</span></dt><dd>primary_production_using_CAFE_model</dd><dt><span>mld_criteria :</span></dt><dd>0.030 kg m^-3</dd><dt><span>mld_product :</span></dt><dd>HADLEY</dd><dt><span>reference :</span></dt><dd>Silsbe_et_al_2016</dd><dt><span>remote_sensing_data_product :</span></dt><dd>OCCCIv6</dd><dt><span>resolution :</span></dt><dd>0.00f; // float</dd><dt><span>standard_name :</span></dt><dd>NPP</dd><dt><span>units :</span></dt><dd>mg m-2 day-1</dd><dt><span>weight :</span></dt><dd>carbon</dd></dl></div><div class='xr-var-data'><pre>array([[[306.35391235,          nan,          nan],\n",
       "        [         nan,          nan, 262.46481323],\n",
       "        [         nan,          nan,          nan]],\n",
       "\n",
       "       [[302.32123566,          nan,          nan],\n",
       "        [         nan,          nan, 257.14034843],\n",
       "        [         nan,          nan,          nan]],\n",
       "\n",
       "       [[298.28855896,          nan,          nan],\n",
       "        [         nan,          nan, 251.81588364],\n",
       "        [         nan,          nan,          nan]],\n",
       "\n",
       "       ...,\n",
       "\n",
       "       [[327.73001709,          nan,          nan],\n",
       "        [         nan,          nan, 230.26930847],\n",
       "        [         nan,          nan,          nan]],\n",
       "\n",
       "       [[344.41890259,          nan,          nan],\n",
       "        [         nan,          nan, 229.35965271],\n",
       "        [         nan,          nan,          nan]],\n",
       "\n",
       "       [[361.10778809,          nan,          nan],\n",
       "        [         nan,          nan, 228.44999695],\n",
       "        [         nan,          nan,          nan]]])</pre></div></li></ul></div></li><li class='xr-section-item'><input id='section-bfd7a848-437f-4091-92fc-d0368398091c' class='xr-section-summary-in' type='checkbox'  ><label for='section-bfd7a848-437f-4091-92fc-d0368398091c' class='xr-section-summary' >Indexes: <span>(3)</span></label><div class='xr-section-inline-details'></div><div class='xr-section-details'><ul class='xr-var-list'><li class='xr-var-item'><div class='xr-index-name'><div>latitude</div></div><div class='xr-index-preview'>PandasIndex</div><div></div><input id='index-25875a8f-8009-4cc3-95f8-a5d7ed8a76d9' class='xr-index-data-in' type='checkbox'/><label for='index-25875a8f-8009-4cc3-95f8-a5d7ed8a76d9' title='Show/Hide index repr'><svg class='icon xr-icon-database'><use xlink:href='#icon-database'></use></svg></label><div class='xr-index-data'><pre>PandasIndex(Index([22.75, 31.6, 50.0], dtype=&#x27;float64&#x27;, name=&#x27;latitude&#x27;))</pre></div></li><li class='xr-var-item'><div class='xr-index-name'><div>longitude</div></div><div class='xr-index-preview'>PandasIndex</div><div></div><input id='index-814d3565-f080-4ef6-ac25-8c30176d53c9' class='xr-index-data-in' type='checkbox'/><label for='index-814d3565-f080-4ef6-ac25-8c30176d53c9' title='Show/Hide index repr'><svg class='icon xr-icon-database'><use xlink:href='#icon-database'></use></svg></label><div class='xr-index-data'><pre>PandasIndex(Index([-158.0, -150.0, -64.2], dtype=&#x27;float64&#x27;, name=&#x27;longitude&#x27;))</pre></div></li><li class='xr-var-item'><div class='xr-index-name'><div>time</div></div><div class='xr-index-preview'>PandasIndex</div><div></div><input id='index-6f9c9d5b-155a-4732-99b0-408e89ceab3e' class='xr-index-data-in' type='checkbox'/><label for='index-6f9c9d5b-155a-4732-99b0-408e89ceab3e' title='Show/Hide index repr'><svg class='icon xr-icon-database'><use xlink:href='#icon-database'></use></svg></label><div class='xr-index-data'><pre>PandasIndex(DatetimeIndex([&#x27;1998-01-01&#x27;, &#x27;1998-01-02&#x27;, &#x27;1998-01-03&#x27;, &#x27;1998-01-04&#x27;,\n",
       "               &#x27;1998-01-05&#x27;, &#x27;1998-01-06&#x27;, &#x27;1998-01-07&#x27;, &#x27;1998-01-08&#x27;,\n",
       "               &#x27;1998-01-09&#x27;, &#x27;1998-01-10&#x27;,\n",
       "               ...\n",
       "               &#x27;2021-12-23&#x27;, &#x27;2021-12-24&#x27;, &#x27;2021-12-25&#x27;, &#x27;2021-12-26&#x27;,\n",
       "               &#x27;2021-12-27&#x27;, &#x27;2021-12-28&#x27;, &#x27;2021-12-29&#x27;, &#x27;2021-12-30&#x27;,\n",
       "               &#x27;2021-12-31&#x27;, &#x27;2022-01-01&#x27;],\n",
       "              dtype=&#x27;datetime64[ns]&#x27;, name=&#x27;time&#x27;, length=8767, freq=None))</pre></div></li></ul></div></li><li class='xr-section-item'><input id='section-09a8100f-b7a7-4f28-8a94-8a8e96068847' class='xr-section-summary-in' type='checkbox'  checked><label for='section-09a8100f-b7a7-4f28-8a94-8a8e96068847' class='xr-section-summary' >Attributes: <span>(5)</span></label><div class='xr-section-inline-details'></div><div class='xr-section-details'><dl class='xr-attrs'><dt><span>Conventions :</span></dt><dd>CF-1.8</dd><dt><span>History :</span></dt><dd>2023-01-02 08:55:09.514113 Python</dd><dt><span>Keywords :</span></dt><dd>Primary Production</dd><dt><span>PI Contact :</span></dt><dd>tryankeogh@csir.co.za</dd><dt><span>PI Name :</span></dt><dd>Thomas Ryan-Keogh</dd></dl></div></li></ul></div></div>"
      ],
      "text/plain": [
       "<xarray.Dataset> Size: 701kB\n",
       "Dimensions:    (time: 8767, latitude: 3, longitude: 3)\n",
       "Coordinates:\n",
       "  * latitude   (latitude) float64 24B 22.75 31.6 50.0\n",
       "  * longitude  (longitude) float64 24B -158.0 -150.0 -64.2\n",
       "  * time       (time) datetime64[ns] 70kB 1998-01-01 1998-01-02 ... 2022-01-01\n",
       "Data variables:\n",
       "    CAFE       (time, latitude, longitude) float64 631kB 306.4 nan ... nan nan\n",
       "Attributes:\n",
       "    Conventions:  CF-1.8\n",
       "    History:      2023-01-02 08:55:09.514113 Python\n",
       "    Keywords:     Primary Production\n",
       "    PI Contact:   tryankeogh@csir.co.za\n",
       "    PI Name:      Thomas Ryan-Keogh"
      ]
     },
     "execution_count": 4,
     "metadata": {},
     "output_type": "execute_result"
    }
   ],
   "source": [
    "cafe_npp"
   ]
  },
  {
   "cell_type": "markdown",
   "metadata": {},
   "source": [
    "Load observations.\n",
    "\n",
    "First I multiply the observations by the average epipelagic layer depth (150m) to have a biomass in m2 rather than m3.\n"
   ]
  },
  {
   "cell_type": "code",
   "execution_count": 5,
   "metadata": {},
   "outputs": [],
   "source": [
    "def update_layer(data: xr.DataArray, epipelagic_size):\n",
    "    data = data.pint.quantify() * epipelagic_size\n",
    "    layer_attrs = data[\"layer\"].attrs\n",
    "    data = data.assign_coords({\"layer\": [1]})\n",
    "    data[\"layer\"].attrs = layer_attrs\n",
    "    return data\n",
    "\n",
    "\n",
    "epipelagic_size = 150 * pint.application_registry(\"meter\")\n",
    "\n",
    "obs_bats = xr.open_dataset(\"../1_data_processing/1_1_Forcing/products/Bats_obs.zarr\", engine=\"zarr\")\n",
    "obs_bats = update_layer(obs_bats, epipelagic_size)\n",
    "obs_bats = Observation(obs_bats)\n",
    "\n",
    "obs_hot = xr.open_dataset(\"../1_data_processing/1_1_Forcing/products/Hot_obs.zarr\", engine=\"zarr\")\n",
    "obs_hot = update_layer(obs_hot, epipelagic_size)\n",
    "obs_hot = Observation(obs_hot)\n",
    "\n",
    "obs_papa = xr.open_dataset(\"../1_data_processing/1_1_Forcing/products/Papa_obs.zarr\", engine=\"zarr\")\n",
    "obs_papa = update_layer(obs_papa, epipelagic_size)\n",
    "obs_papa = Observation(obs_papa)\n",
    "\n",
    "observations = [obs_bats, obs_hot, obs_papa]"
   ]
  },
  {
   "cell_type": "markdown",
   "metadata": {},
   "source": [
    "Create structure for SeapoPym simulation.\n"
   ]
  },
  {
   "cell_type": "code",
   "execution_count": 6,
   "metadata": {},
   "outputs": [
    {
     "name": "stderr",
     "output_type": "stream",
     "text": [
      "\u001b[38;5;226m2024-12-02 16:35:03,237 :: Seapodym ::  WARNING ::\n",
      "|\tCAFE unit is milligram / day / meter ** 2, it will be converted to kilogram / day / meter ** 2.\n",
      "\u001b[0m\n"
     ]
    }
   ],
   "source": [
    "forcing_parameters = ForcingParameters(\n",
    "    temperature=ForcingUnit(forcing=data[\"T\"], resolution=1 / 12, timestep=1),\n",
    "    primary_production=ForcingUnit(forcing=cafe_npp[\"CAFE\"], resolution=1 / 12, timestep=1),\n",
    ")"
   ]
  },
  {
   "cell_type": "markdown",
   "metadata": {},
   "source": [
    "Setup the cost function.\n"
   ]
  },
  {
   "cell_type": "code",
   "execution_count": 7,
   "metadata": {},
   "outputs": [],
   "source": [
    "functional_groups = [\n",
    "    FunctionalGroupOptimizeNoTransport(\n",
    "        name=\"D1N1\",\n",
    "        day_layer=1,\n",
    "        night_layer=1,\n",
    "        # tr_rate=Parameter(\"D1N1_tr_rate\", -1, 0),\n",
    "        # tr_max=Parameter(\"D1N1_tr_max\", 0, 50),\n",
    "        tr_rate=-0.11,\n",
    "        tr_max=10.38,\n",
    "        inv_lambda_rate=Parameter(\"D1N1_inv_lambda_rate\", 0, 1),\n",
    "        inv_lambda_max=Parameter(\"D1N1_inv_lambda_max\", 0, 100),\n",
    "        energy_coefficient=Parameter(\"D1N1_energy_coefficient\", 0.05, 0.8),\n",
    "    ),\n",
    "    FunctionalGroupOptimizeNoTransport(\n",
    "        name=\"D2N1\",\n",
    "        day_layer=2,\n",
    "        night_layer=1,\n",
    "        # tr_rate=Parameter(\"D2N1_tr_rate\", -1, 0),\n",
    "        # tr_max=Parameter(\"D2N1_tr_max\", 0, 50),\n",
    "        tr_rate=-0.11,\n",
    "        tr_max=10.38,\n",
    "        inv_lambda_rate=Parameter(\"D2N1_inv_lambda_rate\", 0, 1),\n",
    "        inv_lambda_max=Parameter(\"D2N1_inv_lambda_max\", 0, 100),\n",
    "        energy_coefficient=Parameter(\"D2N1_energy_coefficient\", 0.05, 0.8),\n",
    "    ),\n",
    "]"
   ]
  },
  {
   "cell_type": "code",
   "execution_count": 8,
   "metadata": {},
   "outputs": [],
   "source": [
    "cost_function = NoTransportCostFunction(\n",
    "    functional_groups=functional_groups,\n",
    "    forcing_parameters=forcing_parameters,\n",
    "    observations=observations,\n",
    ")"
   ]
  },
  {
   "cell_type": "markdown",
   "metadata": {},
   "source": [
    "Set the genetic algorithm meta parameters.\n"
   ]
  },
  {
   "cell_type": "code",
   "execution_count": 9,
   "metadata": {},
   "outputs": [],
   "source": [
    "genetic_algo_parameters = GeneticAlgorithmParameters(\n",
    "    MUTPB=0.1,\n",
    "    INDPB=0.2,\n",
    "    ETA=5,\n",
    "    CXPB=0.6,\n",
    "    NGEN=3,\n",
    "    POP_SIZE=10,\n",
    "    cost_function_weight=(-(1 / 3), -(1 / 3), -(1 / 3)),\n",
    ")"
   ]
  },
  {
   "cell_type": "markdown",
   "metadata": {},
   "source": [
    "Add a constraint to limit the total of energy transfert coefficient to 100%.\n"
   ]
  },
  {
   "cell_type": "code",
   "execution_count": 10,
   "metadata": {},
   "outputs": [],
   "source": [
    "constraint_energy = constraint.ConstraintNoTransportEnergyCoefficient(\n",
    "    parameters_name=[\"D1N1_energy_coefficient\", \"D2N1_energy_coefficient\"],\n",
    "    min_energy_coef_value=0,\n",
    "    max_energy_coef_value=1,\n",
    ")"
   ]
  },
  {
   "cell_type": "markdown",
   "metadata": {},
   "source": [
    "Finaly, create the Genetic Algorithm.\n"
   ]
  },
  {
   "cell_type": "code",
   "execution_count": 11,
   "metadata": {},
   "outputs": [],
   "source": [
    "client = Client()\n",
    "genetic_algo = GeneticAlgorithm(\n",
    "    cost_function=cost_function,\n",
    "    parameter_genetic_algorithm=genetic_algo_parameters,\n",
    "    constraint=[constraint_energy],\n",
    "    # client=client,\n",
    ")"
   ]
  },
  {
   "cell_type": "markdown",
   "metadata": {},
   "source": [
    "And watch the magic on the Dask dashboard :\n"
   ]
  },
  {
   "cell_type": "code",
   "execution_count": 12,
   "metadata": {},
   "outputs": [],
   "source": [
    "genetic_algo.client"
   ]
  },
  {
   "cell_type": "markdown",
   "metadata": {},
   "source": [
    "And execute the process.\n"
   ]
  },
  {
   "cell_type": "code",
   "execution_count": 13,
   "metadata": {},
   "outputs": [
    {
     "name": "stderr",
     "output_type": "stream",
     "text": [
      "\u001b[38;21m2024-12-02 16:35:04,158 :: Seapodym ::  DEBUG ::\n",
      "|\tDirect computation for global_mask_from_nan.\n",
      "\u001b[0m\n",
      "\u001b[38;21m2024-12-02 16:35:04,160 :: Seapodym ::  DEBUG ::\n",
      "|\tDirect computation for mask_by_fgroup.\n",
      "\u001b[0m\n",
      "\u001b[38;21m2024-12-02 16:35:04,171 :: Seapodym ::  DEBUG ::\n",
      "|\tDirect computation for _wrapper_mesh_day_lengths.\n",
      "\u001b[0m\n",
      "\u001b[38;21m2024-12-02 16:35:04,246 :: Seapodym ::  DEBUG ::\n",
      "|\tDirect computation for _average_temperature.\n",
      "\u001b[0m\n",
      "\u001b[38;21m2024-12-02 16:35:04,273 :: Seapodym ::  DEBUG ::\n",
      "|\tDirect computation for _apply_coefficient_to_primary_production_helper.\n",
      "\u001b[0m\n",
      "\u001b[38;21m2024-12-02 16:35:04,280 :: Seapodym ::  DEBUG ::\n",
      "|\tDirect computation for _min_temperature_by_cohort_helper.\n",
      "\u001b[0m\n",
      "\u001b[38;21m2024-12-02 16:35:04,282 :: Seapodym ::  DEBUG ::\n",
      "|\tDirect computation for _mask_temperature_helper.\n",
      "\u001b[0m\n",
      "\u001b[38;21m2024-12-02 16:35:04,293 :: Seapodym ::  DEBUG ::\n",
      "|\tDirect computation for _cell_area_helper.\n",
      "\u001b[0m\n",
      "\u001b[38;21m2024-12-02 16:35:04,315 :: Seapodym ::  DEBUG ::\n",
      "|\tDirect computation for _mortality_field_helper.\n",
      "\u001b[0m\n",
      "\u001b[38;21m2024-12-02 16:35:04,325 :: Seapodym ::  DEBUG ::\n",
      "|\tDirect computation for _production_helper.\n",
      "\u001b[0m\n",
      "\u001b[38;21m2024-12-02 16:35:07,198 :: Seapodym ::  DEBUG ::\n",
      "|\tDirect computation for _biomass_helper.\n",
      "\u001b[0m\n",
      "\u001b[38;21m2024-12-02 16:35:07,653 :: Seapodym ::  DEBUG ::\n",
      "|\tDirect computation for global_mask_from_nan.\n",
      "\u001b[0m\n",
      "\u001b[38;21m2024-12-02 16:35:07,655 :: Seapodym ::  DEBUG ::\n",
      "|\tDirect computation for mask_by_fgroup.\n",
      "\u001b[0m\n",
      "\u001b[38;21m2024-12-02 16:35:07,662 :: Seapodym ::  DEBUG ::\n",
      "|\tDirect computation for _wrapper_mesh_day_lengths.\n",
      "\u001b[0m\n",
      "\u001b[38;21m2024-12-02 16:35:07,695 :: Seapodym ::  DEBUG ::\n",
      "|\tDirect computation for _average_temperature.\n",
      "\u001b[0m\n",
      "\u001b[38;21m2024-12-02 16:35:07,721 :: Seapodym ::  DEBUG ::\n",
      "|\tDirect computation for _apply_coefficient_to_primary_production_helper.\n",
      "\u001b[0m\n",
      "\u001b[38;21m2024-12-02 16:35:07,728 :: Seapodym ::  DEBUG ::\n",
      "|\tDirect computation for _min_temperature_by_cohort_helper.\n",
      "\u001b[0m\n",
      "\u001b[38;21m2024-12-02 16:35:07,730 :: Seapodym ::  DEBUG ::\n",
      "|\tDirect computation for _mask_temperature_helper.\n",
      "\u001b[0m\n",
      "\u001b[38;21m2024-12-02 16:35:07,741 :: Seapodym ::  DEBUG ::\n",
      "|\tDirect computation for _cell_area_helper.\n",
      "\u001b[0m\n",
      "\u001b[38;21m2024-12-02 16:35:07,762 :: Seapodym ::  DEBUG ::\n",
      "|\tDirect computation for _mortality_field_helper.\n",
      "\u001b[0m\n",
      "\u001b[38;21m2024-12-02 16:35:07,773 :: Seapodym ::  DEBUG ::\n",
      "|\tDirect computation for _production_helper.\n",
      "\u001b[0m\n",
      "\u001b[38;21m2024-12-02 16:35:07,953 :: Seapodym ::  DEBUG ::\n",
      "|\tDirect computation for _biomass_helper.\n",
      "\u001b[0m\n",
      "\u001b[38;21m2024-12-02 16:35:08,033 :: Seapodym ::  DEBUG ::\n",
      "|\tDirect computation for global_mask_from_nan.\n",
      "\u001b[0m\n",
      "\u001b[38;21m2024-12-02 16:35:08,035 :: Seapodym ::  DEBUG ::\n",
      "|\tDirect computation for mask_by_fgroup.\n",
      "\u001b[0m\n",
      "\u001b[38;21m2024-12-02 16:35:08,041 :: Seapodym ::  DEBUG ::\n",
      "|\tDirect computation for _wrapper_mesh_day_lengths.\n",
      "\u001b[0m\n",
      "\u001b[38;21m2024-12-02 16:35:08,075 :: Seapodym ::  DEBUG ::\n",
      "|\tDirect computation for _average_temperature.\n",
      "\u001b[0m\n",
      "\u001b[38;21m2024-12-02 16:35:08,103 :: Seapodym ::  DEBUG ::\n",
      "|\tDirect computation for _apply_coefficient_to_primary_production_helper.\n",
      "\u001b[0m\n",
      "\u001b[38;21m2024-12-02 16:35:08,110 :: Seapodym ::  DEBUG ::\n",
      "|\tDirect computation for _min_temperature_by_cohort_helper.\n",
      "\u001b[0m\n",
      "\u001b[38;21m2024-12-02 16:35:08,111 :: Seapodym ::  DEBUG ::\n",
      "|\tDirect computation for _mask_temperature_helper.\n",
      "\u001b[0m\n",
      "\u001b[38;21m2024-12-02 16:35:08,123 :: Seapodym ::  DEBUG ::\n",
      "|\tDirect computation for _cell_area_helper.\n",
      "\u001b[0m\n",
      "\u001b[38;21m2024-12-02 16:35:08,146 :: Seapodym ::  DEBUG ::\n",
      "|\tDirect computation for _mortality_field_helper.\n",
      "\u001b[0m\n",
      "\u001b[38;21m2024-12-02 16:35:08,156 :: Seapodym ::  DEBUG ::\n",
      "|\tDirect computation for _production_helper.\n",
      "\u001b[0m\n",
      "\u001b[38;21m2024-12-02 16:35:08,337 :: Seapodym ::  DEBUG ::\n",
      "|\tDirect computation for _biomass_helper.\n",
      "\u001b[0m\n",
      "\u001b[38;21m2024-12-02 16:35:08,417 :: Seapodym ::  DEBUG ::\n",
      "|\tDirect computation for global_mask_from_nan.\n",
      "\u001b[0m\n",
      "\u001b[38;21m2024-12-02 16:35:08,420 :: Seapodym ::  DEBUG ::\n",
      "|\tDirect computation for mask_by_fgroup.\n",
      "\u001b[0m\n",
      "\u001b[38;21m2024-12-02 16:35:08,426 :: Seapodym ::  DEBUG ::\n",
      "|\tDirect computation for _wrapper_mesh_day_lengths.\n",
      "\u001b[0m\n",
      "\u001b[38;21m2024-12-02 16:35:08,459 :: Seapodym ::  DEBUG ::\n",
      "|\tDirect computation for _average_temperature.\n",
      "\u001b[0m\n",
      "\u001b[38;21m2024-12-02 16:35:08,485 :: Seapodym ::  DEBUG ::\n",
      "|\tDirect computation for _apply_coefficient_to_primary_production_helper.\n",
      "\u001b[0m\n",
      "\u001b[38;21m2024-12-02 16:35:08,493 :: Seapodym ::  DEBUG ::\n",
      "|\tDirect computation for _min_temperature_by_cohort_helper.\n",
      "\u001b[0m\n",
      "\u001b[38;21m2024-12-02 16:35:08,494 :: Seapodym ::  DEBUG ::\n",
      "|\tDirect computation for _mask_temperature_helper.\n",
      "\u001b[0m\n",
      "\u001b[38;21m2024-12-02 16:35:08,506 :: Seapodym ::  DEBUG ::\n",
      "|\tDirect computation for _cell_area_helper.\n",
      "\u001b[0m\n",
      "\u001b[38;21m2024-12-02 16:35:08,527 :: Seapodym ::  DEBUG ::\n",
      "|\tDirect computation for _mortality_field_helper.\n",
      "\u001b[0m\n",
      "\u001b[38;21m2024-12-02 16:35:08,537 :: Seapodym ::  DEBUG ::\n",
      "|\tDirect computation for _production_helper.\n",
      "\u001b[0m\n",
      "\u001b[38;21m2024-12-02 16:35:08,722 :: Seapodym ::  DEBUG ::\n",
      "|\tDirect computation for _biomass_helper.\n",
      "\u001b[0m\n",
      "\u001b[38;21m2024-12-02 16:35:08,802 :: Seapodym ::  DEBUG ::\n",
      "|\tDirect computation for global_mask_from_nan.\n",
      "\u001b[0m\n",
      "\u001b[38;21m2024-12-02 16:35:08,804 :: Seapodym ::  DEBUG ::\n",
      "|\tDirect computation for mask_by_fgroup.\n",
      "\u001b[0m\n",
      "\u001b[38;21m2024-12-02 16:35:08,810 :: Seapodym ::  DEBUG ::\n",
      "|\tDirect computation for _wrapper_mesh_day_lengths.\n",
      "\u001b[0m\n",
      "\u001b[38;21m2024-12-02 16:35:08,843 :: Seapodym ::  DEBUG ::\n",
      "|\tDirect computation for _average_temperature.\n",
      "\u001b[0m\n",
      "\u001b[38;21m2024-12-02 16:35:08,869 :: Seapodym ::  DEBUG ::\n",
      "|\tDirect computation for _apply_coefficient_to_primary_production_helper.\n",
      "\u001b[0m\n",
      "\u001b[38;21m2024-12-02 16:35:08,876 :: Seapodym ::  DEBUG ::\n",
      "|\tDirect computation for _min_temperature_by_cohort_helper.\n",
      "\u001b[0m\n",
      "\u001b[38;21m2024-12-02 16:35:08,877 :: Seapodym ::  DEBUG ::\n",
      "|\tDirect computation for _mask_temperature_helper.\n",
      "\u001b[0m\n",
      "\u001b[38;21m2024-12-02 16:35:08,889 :: Seapodym ::  DEBUG ::\n",
      "|\tDirect computation for _cell_area_helper.\n",
      "\u001b[0m\n",
      "\u001b[38;21m2024-12-02 16:35:08,910 :: Seapodym ::  DEBUG ::\n",
      "|\tDirect computation for _mortality_field_helper.\n",
      "\u001b[0m\n",
      "\u001b[38;21m2024-12-02 16:35:08,920 :: Seapodym ::  DEBUG ::\n",
      "|\tDirect computation for _production_helper.\n",
      "\u001b[0m\n",
      "\u001b[38;21m2024-12-02 16:35:09,101 :: Seapodym ::  DEBUG ::\n",
      "|\tDirect computation for _biomass_helper.\n",
      "\u001b[0m\n",
      "\u001b[38;21m2024-12-02 16:35:09,185 :: Seapodym ::  DEBUG ::\n",
      "|\tDirect computation for global_mask_from_nan.\n",
      "\u001b[0m\n",
      "\u001b[38;21m2024-12-02 16:35:09,188 :: Seapodym ::  DEBUG ::\n",
      "|\tDirect computation for mask_by_fgroup.\n",
      "\u001b[0m\n",
      "\u001b[38;21m2024-12-02 16:35:09,194 :: Seapodym ::  DEBUG ::\n",
      "|\tDirect computation for _wrapper_mesh_day_lengths.\n",
      "\u001b[0m\n",
      "\u001b[38;21m2024-12-02 16:35:09,227 :: Seapodym ::  DEBUG ::\n",
      "|\tDirect computation for _average_temperature.\n",
      "\u001b[0m\n",
      "\u001b[38;21m2024-12-02 16:35:09,254 :: Seapodym ::  DEBUG ::\n",
      "|\tDirect computation for _apply_coefficient_to_primary_production_helper.\n",
      "\u001b[0m\n",
      "\u001b[38;21m2024-12-02 16:35:09,261 :: Seapodym ::  DEBUG ::\n",
      "|\tDirect computation for _min_temperature_by_cohort_helper.\n",
      "\u001b[0m\n",
      "\u001b[38;21m2024-12-02 16:35:09,262 :: Seapodym ::  DEBUG ::\n",
      "|\tDirect computation for _mask_temperature_helper.\n",
      "\u001b[0m\n",
      "\u001b[38;21m2024-12-02 16:35:09,274 :: Seapodym ::  DEBUG ::\n",
      "|\tDirect computation for _cell_area_helper.\n",
      "\u001b[0m\n",
      "\u001b[38;21m2024-12-02 16:35:09,295 :: Seapodym ::  DEBUG ::\n",
      "|\tDirect computation for _mortality_field_helper.\n",
      "\u001b[0m\n",
      "\u001b[38;21m2024-12-02 16:35:09,305 :: Seapodym ::  DEBUG ::\n",
      "|\tDirect computation for _production_helper.\n",
      "\u001b[0m\n",
      "\u001b[38;21m2024-12-02 16:35:09,488 :: Seapodym ::  DEBUG ::\n",
      "|\tDirect computation for _biomass_helper.\n",
      "\u001b[0m\n",
      "\u001b[38;21m2024-12-02 16:35:09,568 :: Seapodym ::  DEBUG ::\n",
      "|\tDirect computation for global_mask_from_nan.\n",
      "\u001b[0m\n",
      "\u001b[38;21m2024-12-02 16:35:09,571 :: Seapodym ::  DEBUG ::\n",
      "|\tDirect computation for mask_by_fgroup.\n",
      "\u001b[0m\n",
      "\u001b[38;21m2024-12-02 16:35:09,577 :: Seapodym ::  DEBUG ::\n",
      "|\tDirect computation for _wrapper_mesh_day_lengths.\n",
      "\u001b[0m\n",
      "\u001b[38;21m2024-12-02 16:35:09,612 :: Seapodym ::  DEBUG ::\n",
      "|\tDirect computation for _average_temperature.\n",
      "\u001b[0m\n",
      "\u001b[38;21m2024-12-02 16:35:09,639 :: Seapodym ::  DEBUG ::\n",
      "|\tDirect computation for _apply_coefficient_to_primary_production_helper.\n",
      "\u001b[0m\n",
      "\u001b[38;21m2024-12-02 16:35:09,647 :: Seapodym ::  DEBUG ::\n",
      "|\tDirect computation for _min_temperature_by_cohort_helper.\n",
      "\u001b[0m\n",
      "\u001b[38;21m2024-12-02 16:35:09,648 :: Seapodym ::  DEBUG ::\n",
      "|\tDirect computation for _mask_temperature_helper.\n",
      "\u001b[0m\n",
      "\u001b[38;21m2024-12-02 16:35:09,659 :: Seapodym ::  DEBUG ::\n",
      "|\tDirect computation for _cell_area_helper.\n",
      "\u001b[0m\n",
      "\u001b[38;21m2024-12-02 16:35:09,680 :: Seapodym ::  DEBUG ::\n",
      "|\tDirect computation for _mortality_field_helper.\n",
      "\u001b[0m\n",
      "\u001b[38;21m2024-12-02 16:35:09,691 :: Seapodym ::  DEBUG ::\n",
      "|\tDirect computation for _production_helper.\n",
      "\u001b[0m\n",
      "\u001b[38;21m2024-12-02 16:35:09,871 :: Seapodym ::  DEBUG ::\n",
      "|\tDirect computation for _biomass_helper.\n",
      "\u001b[0m\n",
      "\u001b[38;21m2024-12-02 16:35:09,952 :: Seapodym ::  DEBUG ::\n",
      "|\tDirect computation for global_mask_from_nan.\n",
      "\u001b[0m\n",
      "\u001b[38;21m2024-12-02 16:35:09,954 :: Seapodym ::  DEBUG ::\n",
      "|\tDirect computation for mask_by_fgroup.\n",
      "\u001b[0m\n",
      "\u001b[38;21m2024-12-02 16:35:09,960 :: Seapodym ::  DEBUG ::\n",
      "|\tDirect computation for _wrapper_mesh_day_lengths.\n",
      "\u001b[0m\n",
      "\u001b[38;21m2024-12-02 16:35:09,993 :: Seapodym ::  DEBUG ::\n",
      "|\tDirect computation for _average_temperature.\n",
      "\u001b[0m\n",
      "\u001b[38;21m2024-12-02 16:35:10,018 :: Seapodym ::  DEBUG ::\n",
      "|\tDirect computation for _apply_coefficient_to_primary_production_helper.\n",
      "\u001b[0m\n",
      "\u001b[38;21m2024-12-02 16:35:10,026 :: Seapodym ::  DEBUG ::\n",
      "|\tDirect computation for _min_temperature_by_cohort_helper.\n",
      "\u001b[0m\n",
      "\u001b[38;21m2024-12-02 16:35:10,027 :: Seapodym ::  DEBUG ::\n",
      "|\tDirect computation for _mask_temperature_helper.\n",
      "\u001b[0m\n",
      "\u001b[38;21m2024-12-02 16:35:10,040 :: Seapodym ::  DEBUG ::\n",
      "|\tDirect computation for _cell_area_helper.\n",
      "\u001b[0m\n",
      "\u001b[38;21m2024-12-02 16:35:10,061 :: Seapodym ::  DEBUG ::\n",
      "|\tDirect computation for _mortality_field_helper.\n",
      "\u001b[0m\n",
      "\u001b[38;21m2024-12-02 16:35:10,070 :: Seapodym ::  DEBUG ::\n",
      "|\tDirect computation for _production_helper.\n",
      "\u001b[0m\n",
      "\u001b[38;21m2024-12-02 16:35:10,255 :: Seapodym ::  DEBUG ::\n",
      "|\tDirect computation for _biomass_helper.\n",
      "\u001b[0m\n",
      "\u001b[38;21m2024-12-02 16:35:10,336 :: Seapodym ::  DEBUG ::\n",
      "|\tDirect computation for global_mask_from_nan.\n",
      "\u001b[0m\n",
      "\u001b[38;21m2024-12-02 16:35:10,338 :: Seapodym ::  DEBUG ::\n",
      "|\tDirect computation for mask_by_fgroup.\n",
      "\u001b[0m\n",
      "\u001b[38;21m2024-12-02 16:35:10,344 :: Seapodym ::  DEBUG ::\n",
      "|\tDirect computation for _wrapper_mesh_day_lengths.\n",
      "\u001b[0m\n",
      "\u001b[38;21m2024-12-02 16:35:10,378 :: Seapodym ::  DEBUG ::\n",
      "|\tDirect computation for _average_temperature.\n",
      "\u001b[0m\n",
      "\u001b[38;21m2024-12-02 16:35:10,404 :: Seapodym ::  DEBUG ::\n",
      "|\tDirect computation for _apply_coefficient_to_primary_production_helper.\n",
      "\u001b[0m\n",
      "\u001b[38;21m2024-12-02 16:35:10,411 :: Seapodym ::  DEBUG ::\n",
      "|\tDirect computation for _min_temperature_by_cohort_helper.\n",
      "\u001b[0m\n",
      "\u001b[38;21m2024-12-02 16:35:10,413 :: Seapodym ::  DEBUG ::\n",
      "|\tDirect computation for _mask_temperature_helper.\n",
      "\u001b[0m\n",
      "\u001b[38;21m2024-12-02 16:35:10,424 :: Seapodym ::  DEBUG ::\n",
      "|\tDirect computation for _cell_area_helper.\n",
      "\u001b[0m\n",
      "\u001b[38;21m2024-12-02 16:35:10,446 :: Seapodym ::  DEBUG ::\n",
      "|\tDirect computation for _mortality_field_helper.\n",
      "\u001b[0m\n",
      "\u001b[38;21m2024-12-02 16:35:10,456 :: Seapodym ::  DEBUG ::\n",
      "|\tDirect computation for _production_helper.\n",
      "\u001b[0m\n",
      "\u001b[38;21m2024-12-02 16:35:10,640 :: Seapodym ::  DEBUG ::\n",
      "|\tDirect computation for _biomass_helper.\n",
      "\u001b[0m\n",
      "\u001b[38;21m2024-12-02 16:35:10,721 :: Seapodym ::  DEBUG ::\n",
      "|\tDirect computation for global_mask_from_nan.\n",
      "\u001b[0m\n",
      "\u001b[38;21m2024-12-02 16:35:10,723 :: Seapodym ::  DEBUG ::\n",
      "|\tDirect computation for mask_by_fgroup.\n",
      "\u001b[0m\n",
      "\u001b[38;21m2024-12-02 16:35:10,730 :: Seapodym ::  DEBUG ::\n",
      "|\tDirect computation for _wrapper_mesh_day_lengths.\n",
      "\u001b[0m\n",
      "\u001b[38;21m2024-12-02 16:35:10,763 :: Seapodym ::  DEBUG ::\n",
      "|\tDirect computation for _average_temperature.\n",
      "\u001b[0m\n",
      "\u001b[38;21m2024-12-02 16:35:10,788 :: Seapodym ::  DEBUG ::\n",
      "|\tDirect computation for _apply_coefficient_to_primary_production_helper.\n",
      "\u001b[0m\n",
      "\u001b[38;21m2024-12-02 16:35:10,795 :: Seapodym ::  DEBUG ::\n",
      "|\tDirect computation for _min_temperature_by_cohort_helper.\n",
      "\u001b[0m\n",
      "\u001b[38;21m2024-12-02 16:35:10,796 :: Seapodym ::  DEBUG ::\n",
      "|\tDirect computation for _mask_temperature_helper.\n",
      "\u001b[0m\n",
      "\u001b[38;21m2024-12-02 16:35:10,808 :: Seapodym ::  DEBUG ::\n",
      "|\tDirect computation for _cell_area_helper.\n",
      "\u001b[0m\n",
      "\u001b[38;21m2024-12-02 16:35:10,829 :: Seapodym ::  DEBUG ::\n",
      "|\tDirect computation for _mortality_field_helper.\n",
      "\u001b[0m\n",
      "\u001b[38;21m2024-12-02 16:35:10,839 :: Seapodym ::  DEBUG ::\n",
      "|\tDirect computation for _production_helper.\n",
      "\u001b[0m\n",
      "\u001b[38;21m2024-12-02 16:35:11,019 :: Seapodym ::  DEBUG ::\n",
      "|\tDirect computation for _biomass_helper.\n",
      "\u001b[0m\n",
      "\u001b[38;21m2024-12-02 16:35:11,102 :: Seapodym ::  DEBUG ::\n",
      "|\tDirect computation for global_mask_from_nan.\n",
      "\u001b[0m\n",
      "\u001b[38;21m2024-12-02 16:35:11,104 :: Seapodym ::  DEBUG ::\n",
      "|\tDirect computation for mask_by_fgroup.\n",
      "\u001b[0m\n",
      "\u001b[38;21m2024-12-02 16:35:11,111 :: Seapodym ::  DEBUG ::\n",
      "|\tDirect computation for _wrapper_mesh_day_lengths.\n",
      "\u001b[0m\n",
      "\u001b[38;21m2024-12-02 16:35:11,145 :: Seapodym ::  DEBUG ::\n",
      "|\tDirect computation for _average_temperature.\n",
      "\u001b[0m\n",
      "\u001b[38;21m2024-12-02 16:35:11,171 :: Seapodym ::  DEBUG ::\n",
      "|\tDirect computation for _apply_coefficient_to_primary_production_helper.\n",
      "\u001b[0m\n",
      "\u001b[38;21m2024-12-02 16:35:11,179 :: Seapodym ::  DEBUG ::\n",
      "|\tDirect computation for _min_temperature_by_cohort_helper.\n",
      "\u001b[0m\n",
      "\u001b[38;21m2024-12-02 16:35:11,180 :: Seapodym ::  DEBUG ::\n",
      "|\tDirect computation for _mask_temperature_helper.\n",
      "\u001b[0m\n",
      "\u001b[38;21m2024-12-02 16:35:11,191 :: Seapodym ::  DEBUG ::\n",
      "|\tDirect computation for _cell_area_helper.\n",
      "\u001b[0m\n",
      "\u001b[38;21m2024-12-02 16:35:11,212 :: Seapodym ::  DEBUG ::\n",
      "|\tDirect computation for _mortality_field_helper.\n",
      "\u001b[0m\n",
      "\u001b[38;21m2024-12-02 16:35:11,222 :: Seapodym ::  DEBUG ::\n",
      "|\tDirect computation for _production_helper.\n",
      "\u001b[0m\n",
      "\u001b[38;21m2024-12-02 16:35:11,402 :: Seapodym ::  DEBUG ::\n",
      "|\tDirect computation for _biomass_helper.\n",
      "\u001b[0m\n",
      "\u001b[38;21m2024-12-02 16:35:11,485 :: Seapodym ::  DEBUG ::\n",
      "|\tDirect computation for global_mask_from_nan.\n",
      "\u001b[0m\n",
      "\u001b[38;21m2024-12-02 16:35:11,488 :: Seapodym ::  DEBUG ::\n",
      "|\tDirect computation for mask_by_fgroup.\n",
      "\u001b[0m\n",
      "\u001b[38;21m2024-12-02 16:35:11,495 :: Seapodym ::  DEBUG ::\n",
      "|\tDirect computation for _wrapper_mesh_day_lengths.\n",
      "\u001b[0m\n",
      "\u001b[38;21m2024-12-02 16:35:11,528 :: Seapodym ::  DEBUG ::\n",
      "|\tDirect computation for _average_temperature.\n",
      "\u001b[0m\n",
      "\u001b[38;21m2024-12-02 16:35:11,555 :: Seapodym ::  DEBUG ::\n",
      "|\tDirect computation for _apply_coefficient_to_primary_production_helper.\n",
      "\u001b[0m\n",
      "\u001b[38;21m2024-12-02 16:35:11,562 :: Seapodym ::  DEBUG ::\n",
      "|\tDirect computation for _min_temperature_by_cohort_helper.\n",
      "\u001b[0m\n",
      "\u001b[38;21m2024-12-02 16:35:11,563 :: Seapodym ::  DEBUG ::\n",
      "|\tDirect computation for _mask_temperature_helper.\n",
      "\u001b[0m\n",
      "\u001b[38;21m2024-12-02 16:35:11,575 :: Seapodym ::  DEBUG ::\n",
      "|\tDirect computation for _cell_area_helper.\n",
      "\u001b[0m\n",
      "\u001b[38;21m2024-12-02 16:35:11,598 :: Seapodym ::  DEBUG ::\n",
      "|\tDirect computation for _mortality_field_helper.\n",
      "\u001b[0m\n",
      "\u001b[38;21m2024-12-02 16:35:11,608 :: Seapodym ::  DEBUG ::\n",
      "|\tDirect computation for _production_helper.\n",
      "\u001b[0m\n",
      "\u001b[38;21m2024-12-02 16:35:11,791 :: Seapodym ::  DEBUG ::\n",
      "|\tDirect computation for _biomass_helper.\n",
      "\u001b[0m\n",
      "\u001b[38;21m2024-12-02 16:35:11,871 :: Seapodym ::  DEBUG ::\n",
      "|\tDirect computation for global_mask_from_nan.\n",
      "\u001b[0m\n",
      "\u001b[38;21m2024-12-02 16:35:11,873 :: Seapodym ::  DEBUG ::\n",
      "|\tDirect computation for mask_by_fgroup.\n",
      "\u001b[0m\n",
      "\u001b[38;21m2024-12-02 16:35:11,879 :: Seapodym ::  DEBUG ::\n",
      "|\tDirect computation for _wrapper_mesh_day_lengths.\n",
      "\u001b[0m\n",
      "\u001b[38;21m2024-12-02 16:35:11,912 :: Seapodym ::  DEBUG ::\n",
      "|\tDirect computation for _average_temperature.\n",
      "\u001b[0m\n",
      "\u001b[38;21m2024-12-02 16:35:11,940 :: Seapodym ::  DEBUG ::\n",
      "|\tDirect computation for _apply_coefficient_to_primary_production_helper.\n",
      "\u001b[0m\n",
      "\u001b[38;21m2024-12-02 16:35:11,947 :: Seapodym ::  DEBUG ::\n",
      "|\tDirect computation for _min_temperature_by_cohort_helper.\n",
      "\u001b[0m\n",
      "\u001b[38;21m2024-12-02 16:35:11,949 :: Seapodym ::  DEBUG ::\n",
      "|\tDirect computation for _mask_temperature_helper.\n",
      "\u001b[0m\n",
      "\u001b[38;21m2024-12-02 16:35:11,960 :: Seapodym ::  DEBUG ::\n",
      "|\tDirect computation for _cell_area_helper.\n",
      "\u001b[0m\n",
      "\u001b[38;21m2024-12-02 16:35:11,981 :: Seapodym ::  DEBUG ::\n",
      "|\tDirect computation for _mortality_field_helper.\n",
      "\u001b[0m\n",
      "\u001b[38;21m2024-12-02 16:35:11,991 :: Seapodym ::  DEBUG ::\n",
      "|\tDirect computation for _production_helper.\n",
      "\u001b[0m\n",
      "\u001b[38;21m2024-12-02 16:35:12,176 :: Seapodym ::  DEBUG ::\n",
      "|\tDirect computation for _biomass_helper.\n",
      "\u001b[0m\n",
      "\u001b[38;21m2024-12-02 16:35:12,256 :: Seapodym ::  DEBUG ::\n",
      "|\tDirect computation for global_mask_from_nan.\n",
      "\u001b[0m\n",
      "\u001b[38;21m2024-12-02 16:35:12,258 :: Seapodym ::  DEBUG ::\n",
      "|\tDirect computation for mask_by_fgroup.\n",
      "\u001b[0m\n",
      "\u001b[38;21m2024-12-02 16:35:12,265 :: Seapodym ::  DEBUG ::\n",
      "|\tDirect computation for _wrapper_mesh_day_lengths.\n",
      "\u001b[0m\n",
      "\u001b[38;21m2024-12-02 16:35:12,297 :: Seapodym ::  DEBUG ::\n",
      "|\tDirect computation for _average_temperature.\n",
      "\u001b[0m\n",
      "\u001b[38;21m2024-12-02 16:35:12,324 :: Seapodym ::  DEBUG ::\n",
      "|\tDirect computation for _apply_coefficient_to_primary_production_helper.\n",
      "\u001b[0m\n",
      "\u001b[38;21m2024-12-02 16:35:12,331 :: Seapodym ::  DEBUG ::\n",
      "|\tDirect computation for _min_temperature_by_cohort_helper.\n",
      "\u001b[0m\n",
      "\u001b[38;21m2024-12-02 16:35:12,332 :: Seapodym ::  DEBUG ::\n",
      "|\tDirect computation for _mask_temperature_helper.\n",
      "\u001b[0m\n",
      "\u001b[38;21m2024-12-02 16:35:12,344 :: Seapodym ::  DEBUG ::\n",
      "|\tDirect computation for _cell_area_helper.\n",
      "\u001b[0m\n",
      "\u001b[38;21m2024-12-02 16:35:12,365 :: Seapodym ::  DEBUG ::\n",
      "|\tDirect computation for _mortality_field_helper.\n",
      "\u001b[0m\n",
      "\u001b[38;21m2024-12-02 16:35:12,375 :: Seapodym ::  DEBUG ::\n",
      "|\tDirect computation for _production_helper.\n",
      "\u001b[0m\n",
      "\u001b[38;21m2024-12-02 16:35:12,556 :: Seapodym ::  DEBUG ::\n",
      "|\tDirect computation for _biomass_helper.\n",
      "\u001b[0m\n",
      "\u001b[38;21m2024-12-02 16:35:12,638 :: Seapodym ::  DEBUG ::\n",
      "|\tDirect computation for global_mask_from_nan.\n",
      "\u001b[0m\n",
      "\u001b[38;21m2024-12-02 16:35:12,640 :: Seapodym ::  DEBUG ::\n",
      "|\tDirect computation for mask_by_fgroup.\n",
      "\u001b[0m\n",
      "\u001b[38;21m2024-12-02 16:35:12,647 :: Seapodym ::  DEBUG ::\n",
      "|\tDirect computation for _wrapper_mesh_day_lengths.\n",
      "\u001b[0m\n",
      "\u001b[38;21m2024-12-02 16:35:12,680 :: Seapodym ::  DEBUG ::\n",
      "|\tDirect computation for _average_temperature.\n",
      "\u001b[0m\n",
      "\u001b[38;21m2024-12-02 16:35:12,707 :: Seapodym ::  DEBUG ::\n",
      "|\tDirect computation for _apply_coefficient_to_primary_production_helper.\n",
      "\u001b[0m\n",
      "\u001b[38;21m2024-12-02 16:35:12,714 :: Seapodym ::  DEBUG ::\n",
      "|\tDirect computation for _min_temperature_by_cohort_helper.\n",
      "\u001b[0m\n",
      "\u001b[38;21m2024-12-02 16:35:12,715 :: Seapodym ::  DEBUG ::\n",
      "|\tDirect computation for _mask_temperature_helper.\n",
      "\u001b[0m\n",
      "\u001b[38;21m2024-12-02 16:35:12,726 :: Seapodym ::  DEBUG ::\n",
      "|\tDirect computation for _cell_area_helper.\n",
      "\u001b[0m\n",
      "\u001b[38;21m2024-12-02 16:35:12,748 :: Seapodym ::  DEBUG ::\n",
      "|\tDirect computation for _mortality_field_helper.\n",
      "\u001b[0m\n",
      "\u001b[38;21m2024-12-02 16:35:12,758 :: Seapodym ::  DEBUG ::\n",
      "|\tDirect computation for _production_helper.\n",
      "\u001b[0m\n",
      "\u001b[38;21m2024-12-02 16:35:12,939 :: Seapodym ::  DEBUG ::\n",
      "|\tDirect computation for _biomass_helper.\n",
      "\u001b[0m\n",
      "\u001b[38;21m2024-12-02 16:35:13,018 :: Seapodym ::  DEBUG ::\n",
      "|\tDirect computation for global_mask_from_nan.\n",
      "\u001b[0m\n",
      "\u001b[38;21m2024-12-02 16:35:13,020 :: Seapodym ::  DEBUG ::\n",
      "|\tDirect computation for mask_by_fgroup.\n",
      "\u001b[0m\n",
      "\u001b[38;21m2024-12-02 16:35:13,026 :: Seapodym ::  DEBUG ::\n",
      "|\tDirect computation for _wrapper_mesh_day_lengths.\n",
      "\u001b[0m\n",
      "\u001b[38;21m2024-12-02 16:35:13,060 :: Seapodym ::  DEBUG ::\n",
      "|\tDirect computation for _average_temperature.\n",
      "\u001b[0m\n",
      "\u001b[38;21m2024-12-02 16:35:13,086 :: Seapodym ::  DEBUG ::\n",
      "|\tDirect computation for _apply_coefficient_to_primary_production_helper.\n",
      "\u001b[0m\n",
      "\u001b[38;21m2024-12-02 16:35:13,095 :: Seapodym ::  DEBUG ::\n",
      "|\tDirect computation for _min_temperature_by_cohort_helper.\n",
      "\u001b[0m\n",
      "\u001b[38;21m2024-12-02 16:35:13,096 :: Seapodym ::  DEBUG ::\n",
      "|\tDirect computation for _mask_temperature_helper.\n",
      "\u001b[0m\n",
      "\u001b[38;21m2024-12-02 16:35:13,107 :: Seapodym ::  DEBUG ::\n",
      "|\tDirect computation for _cell_area_helper.\n",
      "\u001b[0m\n",
      "\u001b[38;21m2024-12-02 16:35:13,129 :: Seapodym ::  DEBUG ::\n",
      "|\tDirect computation for _mortality_field_helper.\n",
      "\u001b[0m\n",
      "\u001b[38;21m2024-12-02 16:35:13,140 :: Seapodym ::  DEBUG ::\n",
      "|\tDirect computation for _production_helper.\n",
      "\u001b[0m\n",
      "\u001b[38;21m2024-12-02 16:35:13,321 :: Seapodym ::  DEBUG ::\n",
      "|\tDirect computation for _biomass_helper.\n",
      "\u001b[0m\n",
      "\u001b[38;21m2024-12-02 16:35:13,402 :: Seapodym ::  DEBUG ::\n",
      "|\tDirect computation for global_mask_from_nan.\n",
      "\u001b[0m\n",
      "\u001b[38;21m2024-12-02 16:35:13,404 :: Seapodym ::  DEBUG ::\n",
      "|\tDirect computation for mask_by_fgroup.\n",
      "\u001b[0m\n",
      "\u001b[38;21m2024-12-02 16:35:13,410 :: Seapodym ::  DEBUG ::\n",
      "|\tDirect computation for _wrapper_mesh_day_lengths.\n",
      "\u001b[0m\n",
      "\u001b[38;21m2024-12-02 16:35:13,444 :: Seapodym ::  DEBUG ::\n",
      "|\tDirect computation for _average_temperature.\n",
      "\u001b[0m\n",
      "\u001b[38;21m2024-12-02 16:35:13,470 :: Seapodym ::  DEBUG ::\n",
      "|\tDirect computation for _apply_coefficient_to_primary_production_helper.\n",
      "\u001b[0m\n",
      "\u001b[38;21m2024-12-02 16:35:13,477 :: Seapodym ::  DEBUG ::\n",
      "|\tDirect computation for _min_temperature_by_cohort_helper.\n",
      "\u001b[0m\n",
      "\u001b[38;21m2024-12-02 16:35:13,478 :: Seapodym ::  DEBUG ::\n",
      "|\tDirect computation for _mask_temperature_helper.\n",
      "\u001b[0m\n",
      "\u001b[38;21m2024-12-02 16:35:13,489 :: Seapodym ::  DEBUG ::\n",
      "|\tDirect computation for _cell_area_helper.\n",
      "\u001b[0m\n",
      "\u001b[38;21m2024-12-02 16:35:13,510 :: Seapodym ::  DEBUG ::\n",
      "|\tDirect computation for _mortality_field_helper.\n",
      "\u001b[0m\n",
      "\u001b[38;21m2024-12-02 16:35:13,520 :: Seapodym ::  DEBUG ::\n",
      "|\tDirect computation for _production_helper.\n",
      "\u001b[0m\n",
      "\u001b[38;21m2024-12-02 16:35:13,706 :: Seapodym ::  DEBUG ::\n",
      "|\tDirect computation for _biomass_helper.\n",
      "\u001b[0m\n",
      "\u001b[38;21m2024-12-02 16:35:13,820 :: Seapodym ::  DEBUG ::\n",
      "|\tDirect computation for global_mask_from_nan.\n",
      "\u001b[0m\n",
      "\u001b[38;21m2024-12-02 16:35:13,822 :: Seapodym ::  DEBUG ::\n",
      "|\tDirect computation for mask_by_fgroup.\n",
      "\u001b[0m\n",
      "\u001b[38;21m2024-12-02 16:35:13,829 :: Seapodym ::  DEBUG ::\n",
      "|\tDirect computation for _wrapper_mesh_day_lengths.\n",
      "\u001b[0m\n",
      "\u001b[38;21m2024-12-02 16:35:13,862 :: Seapodym ::  DEBUG ::\n",
      "|\tDirect computation for _average_temperature.\n",
      "\u001b[0m\n",
      "\u001b[38;21m2024-12-02 16:35:13,889 :: Seapodym ::  DEBUG ::\n",
      "|\tDirect computation for _apply_coefficient_to_primary_production_helper.\n",
      "\u001b[0m\n",
      "\u001b[38;21m2024-12-02 16:35:13,897 :: Seapodym ::  DEBUG ::\n",
      "|\tDirect computation for _min_temperature_by_cohort_helper.\n",
      "\u001b[0m\n",
      "\u001b[38;21m2024-12-02 16:35:13,898 :: Seapodym ::  DEBUG ::\n",
      "|\tDirect computation for _mask_temperature_helper.\n",
      "\u001b[0m\n",
      "\u001b[38;21m2024-12-02 16:35:13,909 :: Seapodym ::  DEBUG ::\n",
      "|\tDirect computation for _cell_area_helper.\n",
      "\u001b[0m\n",
      "\u001b[38;21m2024-12-02 16:35:13,931 :: Seapodym ::  DEBUG ::\n",
      "|\tDirect computation for _mortality_field_helper.\n",
      "\u001b[0m\n",
      "\u001b[38;21m2024-12-02 16:35:13,941 :: Seapodym ::  DEBUG ::\n",
      "|\tDirect computation for _production_helper.\n",
      "\u001b[0m\n",
      "\u001b[38;21m2024-12-02 16:35:14,126 :: Seapodym ::  DEBUG ::\n",
      "|\tDirect computation for _biomass_helper.\n",
      "\u001b[0m\n",
      "\u001b[38;21m2024-12-02 16:35:14,208 :: Seapodym ::  DEBUG ::\n",
      "|\tDirect computation for global_mask_from_nan.\n",
      "\u001b[0m\n",
      "\u001b[38;21m2024-12-02 16:35:14,211 :: Seapodym ::  DEBUG ::\n",
      "|\tDirect computation for mask_by_fgroup.\n",
      "\u001b[0m\n",
      "\u001b[38;21m2024-12-02 16:35:14,217 :: Seapodym ::  DEBUG ::\n",
      "|\tDirect computation for _wrapper_mesh_day_lengths.\n",
      "\u001b[0m\n",
      "\u001b[38;21m2024-12-02 16:35:14,249 :: Seapodym ::  DEBUG ::\n",
      "|\tDirect computation for _average_temperature.\n",
      "\u001b[0m\n",
      "\u001b[38;21m2024-12-02 16:35:14,275 :: Seapodym ::  DEBUG ::\n",
      "|\tDirect computation for _apply_coefficient_to_primary_production_helper.\n",
      "\u001b[0m\n",
      "\u001b[38;21m2024-12-02 16:35:14,282 :: Seapodym ::  DEBUG ::\n",
      "|\tDirect computation for _min_temperature_by_cohort_helper.\n",
      "\u001b[0m\n",
      "\u001b[38;21m2024-12-02 16:35:14,283 :: Seapodym ::  DEBUG ::\n",
      "|\tDirect computation for _mask_temperature_helper.\n",
      "\u001b[0m\n",
      "\u001b[38;21m2024-12-02 16:35:14,295 :: Seapodym ::  DEBUG ::\n",
      "|\tDirect computation for _cell_area_helper.\n",
      "\u001b[0m\n",
      "\u001b[38;21m2024-12-02 16:35:14,316 :: Seapodym ::  DEBUG ::\n",
      "|\tDirect computation for _mortality_field_helper.\n",
      "\u001b[0m\n",
      "\u001b[38;21m2024-12-02 16:35:14,326 :: Seapodym ::  DEBUG ::\n",
      "|\tDirect computation for _production_helper.\n",
      "\u001b[0m\n",
      "\u001b[38;21m2024-12-02 16:35:14,508 :: Seapodym ::  DEBUG ::\n",
      "|\tDirect computation for _biomass_helper.\n",
      "\u001b[0m\n",
      "\u001b[38;21m2024-12-02 16:35:14,589 :: Seapodym ::  DEBUG ::\n",
      "|\tDirect computation for global_mask_from_nan.\n",
      "\u001b[0m\n",
      "\u001b[38;21m2024-12-02 16:35:14,591 :: Seapodym ::  DEBUG ::\n",
      "|\tDirect computation for mask_by_fgroup.\n",
      "\u001b[0m\n",
      "\u001b[38;21m2024-12-02 16:35:14,597 :: Seapodym ::  DEBUG ::\n",
      "|\tDirect computation for _wrapper_mesh_day_lengths.\n",
      "\u001b[0m\n",
      "\u001b[38;21m2024-12-02 16:35:14,630 :: Seapodym ::  DEBUG ::\n",
      "|\tDirect computation for _average_temperature.\n",
      "\u001b[0m\n",
      "\u001b[38;21m2024-12-02 16:35:14,658 :: Seapodym ::  DEBUG ::\n",
      "|\tDirect computation for _apply_coefficient_to_primary_production_helper.\n",
      "\u001b[0m\n",
      "\u001b[38;21m2024-12-02 16:35:14,665 :: Seapodym ::  DEBUG ::\n",
      "|\tDirect computation for _min_temperature_by_cohort_helper.\n",
      "\u001b[0m\n",
      "\u001b[38;21m2024-12-02 16:35:14,666 :: Seapodym ::  DEBUG ::\n",
      "|\tDirect computation for _mask_temperature_helper.\n",
      "\u001b[0m\n",
      "\u001b[38;21m2024-12-02 16:35:14,677 :: Seapodym ::  DEBUG ::\n",
      "|\tDirect computation for _cell_area_helper.\n",
      "\u001b[0m\n",
      "\u001b[38;21m2024-12-02 16:35:14,699 :: Seapodym ::  DEBUG ::\n",
      "|\tDirect computation for _mortality_field_helper.\n",
      "\u001b[0m\n",
      "\u001b[38;21m2024-12-02 16:35:14,710 :: Seapodym ::  DEBUG ::\n",
      "|\tDirect computation for _production_helper.\n",
      "\u001b[0m\n",
      "\u001b[38;21m2024-12-02 16:35:14,891 :: Seapodym ::  DEBUG ::\n",
      "|\tDirect computation for _biomass_helper.\n",
      "\u001b[0m\n",
      "\u001b[38;21m2024-12-02 16:35:14,970 :: Seapodym ::  DEBUG ::\n",
      "|\tDirect computation for global_mask_from_nan.\n",
      "\u001b[0m\n",
      "\u001b[38;21m2024-12-02 16:35:14,972 :: Seapodym ::  DEBUG ::\n",
      "|\tDirect computation for mask_by_fgroup.\n",
      "\u001b[0m\n",
      "\u001b[38;21m2024-12-02 16:35:14,979 :: Seapodym ::  DEBUG ::\n",
      "|\tDirect computation for _wrapper_mesh_day_lengths.\n",
      "\u001b[0m\n",
      "\u001b[38;21m2024-12-02 16:35:15,012 :: Seapodym ::  DEBUG ::\n",
      "|\tDirect computation for _average_temperature.\n",
      "\u001b[0m\n",
      "\u001b[38;21m2024-12-02 16:35:15,038 :: Seapodym ::  DEBUG ::\n",
      "|\tDirect computation for _apply_coefficient_to_primary_production_helper.\n",
      "\u001b[0m\n",
      "\u001b[38;21m2024-12-02 16:35:15,045 :: Seapodym ::  DEBUG ::\n",
      "|\tDirect computation for _min_temperature_by_cohort_helper.\n",
      "\u001b[0m\n",
      "\u001b[38;21m2024-12-02 16:35:15,046 :: Seapodym ::  DEBUG ::\n",
      "|\tDirect computation for _mask_temperature_helper.\n",
      "\u001b[0m\n",
      "\u001b[38;21m2024-12-02 16:35:15,058 :: Seapodym ::  DEBUG ::\n",
      "|\tDirect computation for _cell_area_helper.\n",
      "\u001b[0m\n",
      "\u001b[38;21m2024-12-02 16:35:15,079 :: Seapodym ::  DEBUG ::\n",
      "|\tDirect computation for _mortality_field_helper.\n",
      "\u001b[0m\n",
      "\u001b[38;21m2024-12-02 16:35:15,090 :: Seapodym ::  DEBUG ::\n",
      "|\tDirect computation for _production_helper.\n",
      "\u001b[0m\n",
      "\u001b[38;21m2024-12-02 16:35:15,274 :: Seapodym ::  DEBUG ::\n",
      "|\tDirect computation for _biomass_helper.\n",
      "\u001b[0m\n",
      "\u001b[38;21m2024-12-02 16:35:15,354 :: Seapodym ::  DEBUG ::\n",
      "|\tDirect computation for global_mask_from_nan.\n",
      "\u001b[0m\n",
      "\u001b[38;21m2024-12-02 16:35:15,356 :: Seapodym ::  DEBUG ::\n",
      "|\tDirect computation for mask_by_fgroup.\n",
      "\u001b[0m\n",
      "\u001b[38;21m2024-12-02 16:35:15,363 :: Seapodym ::  DEBUG ::\n",
      "|\tDirect computation for _wrapper_mesh_day_lengths.\n",
      "\u001b[0m\n",
      "\u001b[38;21m2024-12-02 16:35:15,396 :: Seapodym ::  DEBUG ::\n",
      "|\tDirect computation for _average_temperature.\n",
      "\u001b[0m\n",
      "\u001b[38;21m2024-12-02 16:35:15,422 :: Seapodym ::  DEBUG ::\n",
      "|\tDirect computation for _apply_coefficient_to_primary_production_helper.\n",
      "\u001b[0m\n",
      "\u001b[38;21m2024-12-02 16:35:15,430 :: Seapodym ::  DEBUG ::\n",
      "|\tDirect computation for _min_temperature_by_cohort_helper.\n",
      "\u001b[0m\n",
      "\u001b[38;21m2024-12-02 16:35:15,431 :: Seapodym ::  DEBUG ::\n",
      "|\tDirect computation for _mask_temperature_helper.\n",
      "\u001b[0m\n",
      "\u001b[38;21m2024-12-02 16:35:15,443 :: Seapodym ::  DEBUG ::\n",
      "|\tDirect computation for _cell_area_helper.\n",
      "\u001b[0m\n",
      "\u001b[38;21m2024-12-02 16:35:15,464 :: Seapodym ::  DEBUG ::\n",
      "|\tDirect computation for _mortality_field_helper.\n",
      "\u001b[0m\n",
      "\u001b[38;21m2024-12-02 16:35:15,474 :: Seapodym ::  DEBUG ::\n",
      "|\tDirect computation for _production_helper.\n",
      "\u001b[0m\n",
      "\u001b[38;21m2024-12-02 16:35:15,658 :: Seapodym ::  DEBUG ::\n",
      "|\tDirect computation for _biomass_helper.\n",
      "\u001b[0m\n",
      "\u001b[38;21m2024-12-02 16:35:15,739 :: Seapodym ::  DEBUG ::\n",
      "|\tDirect computation for global_mask_from_nan.\n",
      "\u001b[0m\n",
      "\u001b[38;21m2024-12-02 16:35:15,741 :: Seapodym ::  DEBUG ::\n",
      "|\tDirect computation for mask_by_fgroup.\n",
      "\u001b[0m\n",
      "\u001b[38;21m2024-12-02 16:35:15,747 :: Seapodym ::  DEBUG ::\n",
      "|\tDirect computation for _wrapper_mesh_day_lengths.\n",
      "\u001b[0m\n",
      "\u001b[38;21m2024-12-02 16:35:15,780 :: Seapodym ::  DEBUG ::\n",
      "|\tDirect computation for _average_temperature.\n",
      "\u001b[0m\n",
      "\u001b[38;21m2024-12-02 16:35:15,807 :: Seapodym ::  DEBUG ::\n",
      "|\tDirect computation for _apply_coefficient_to_primary_production_helper.\n",
      "\u001b[0m\n",
      "\u001b[38;21m2024-12-02 16:35:15,814 :: Seapodym ::  DEBUG ::\n",
      "|\tDirect computation for _min_temperature_by_cohort_helper.\n",
      "\u001b[0m\n",
      "\u001b[38;21m2024-12-02 16:35:15,815 :: Seapodym ::  DEBUG ::\n",
      "|\tDirect computation for _mask_temperature_helper.\n",
      "\u001b[0m\n",
      "\u001b[38;21m2024-12-02 16:35:15,826 :: Seapodym ::  DEBUG ::\n",
      "|\tDirect computation for _cell_area_helper.\n",
      "\u001b[0m\n",
      "\u001b[38;21m2024-12-02 16:35:15,848 :: Seapodym ::  DEBUG ::\n",
      "|\tDirect computation for _mortality_field_helper.\n",
      "\u001b[0m\n",
      "\u001b[38;21m2024-12-02 16:35:15,858 :: Seapodym ::  DEBUG ::\n",
      "|\tDirect computation for _production_helper.\n",
      "\u001b[0m\n",
      "\u001b[38;21m2024-12-02 16:35:16,038 :: Seapodym ::  DEBUG ::\n",
      "|\tDirect computation for _biomass_helper.\n",
      "\u001b[0m\n"
     ]
    }
   ],
   "source": [
    "viewer = genetic_algo.optimize()"
   ]
  },
  {
   "cell_type": "markdown",
   "metadata": {},
   "source": [
    "Finaly here is the result :\n"
   ]
  },
  {
   "cell_type": "code",
   "execution_count": 14,
   "metadata": {},
   "outputs": [
    {
     "data": {
      "text/html": [
       "<div>\n",
       "<style scoped>\n",
       "    .dataframe tbody tr th:only-of-type {\n",
       "        vertical-align: middle;\n",
       "    }\n",
       "\n",
       "    .dataframe tbody tr th {\n",
       "        vertical-align: top;\n",
       "    }\n",
       "\n",
       "    .dataframe thead th {\n",
       "        text-align: right;\n",
       "    }\n",
       "</style>\n",
       "<table border=\"1\" class=\"dataframe\">\n",
       "  <thead>\n",
       "    <tr style=\"text-align: right;\">\n",
       "      <th></th>\n",
       "      <th>mean</th>\n",
       "      <th>std</th>\n",
       "      <th>min</th>\n",
       "      <th>max</th>\n",
       "      <th>valid</th>\n",
       "    </tr>\n",
       "    <tr>\n",
       "      <th>generation</th>\n",
       "      <th></th>\n",
       "      <th></th>\n",
       "      <th></th>\n",
       "      <th></th>\n",
       "      <th></th>\n",
       "    </tr>\n",
       "  </thead>\n",
       "  <tbody>\n",
       "    <tr>\n",
       "      <th>0</th>\n",
       "      <td>1.488554</td>\n",
       "      <td>2.322578e+00</td>\n",
       "      <td>0.268756</td>\n",
       "      <td>5.627350</td>\n",
       "      <td>5</td>\n",
       "    </tr>\n",
       "    <tr>\n",
       "      <th>1</th>\n",
       "      <td>0.986130</td>\n",
       "      <td>1.640707e+00</td>\n",
       "      <td>0.306169</td>\n",
       "      <td>5.627350</td>\n",
       "      <td>10</td>\n",
       "    </tr>\n",
       "    <tr>\n",
       "      <th>2</th>\n",
       "      <td>2.556539</td>\n",
       "      <td>6.978345e+00</td>\n",
       "      <td>0.306169</td>\n",
       "      <td>22.416668</td>\n",
       "      <td>10</td>\n",
       "    </tr>\n",
       "    <tr>\n",
       "      <th>3</th>\n",
       "      <td>0.306169</td>\n",
       "      <td>1.370647e-09</td>\n",
       "      <td>0.306169</td>\n",
       "      <td>0.306169</td>\n",
       "      <td>10</td>\n",
       "    </tr>\n",
       "  </tbody>\n",
       "</table>\n",
       "</div>"
      ],
      "text/plain": [
       "                mean           std       min        max  valid\n",
       "generation                                                    \n",
       "0           1.488554  2.322578e+00  0.268756   5.627350      5\n",
       "1           0.986130  1.640707e+00  0.306169   5.627350     10\n",
       "2           2.556539  6.978345e+00  0.306169  22.416668     10\n",
       "3           0.306169  1.370647e-09  0.306169   0.306169     10"
      ]
     },
     "execution_count": 14,
     "metadata": {},
     "output_type": "execute_result"
    }
   ],
   "source": [
    "viewer.stats"
   ]
  },
  {
   "cell_type": "code",
   "execution_count": 15,
   "metadata": {},
   "outputs": [
    {
     "data": {
      "text/html": [
       "<div>\n",
       "<style scoped>\n",
       "    .dataframe tbody tr th:only-of-type {\n",
       "        vertical-align: middle;\n",
       "    }\n",
       "\n",
       "    .dataframe tbody tr th {\n",
       "        vertical-align: top;\n",
       "    }\n",
       "\n",
       "    .dataframe thead th {\n",
       "        text-align: right;\n",
       "    }\n",
       "</style>\n",
       "<table border=\"1\" class=\"dataframe\">\n",
       "  <thead>\n",
       "    <tr style=\"text-align: right;\">\n",
       "      <th></th>\n",
       "      <th></th>\n",
       "      <th></th>\n",
       "      <th>D1N1_inv_lambda_max</th>\n",
       "      <th>D1N1_inv_lambda_rate</th>\n",
       "      <th>D1N1_energy_coefficient</th>\n",
       "      <th>D2N1_inv_lambda_max</th>\n",
       "      <th>D2N1_inv_lambda_rate</th>\n",
       "      <th>D2N1_energy_coefficient</th>\n",
       "      <th>fitness</th>\n",
       "    </tr>\n",
       "    <tr>\n",
       "      <th>generation</th>\n",
       "      <th>previous_generation</th>\n",
       "      <th>individual</th>\n",
       "      <th></th>\n",
       "      <th></th>\n",
       "      <th></th>\n",
       "      <th></th>\n",
       "      <th></th>\n",
       "      <th></th>\n",
       "      <th></th>\n",
       "    </tr>\n",
       "  </thead>\n",
       "  <tbody>\n",
       "    <tr>\n",
       "      <th rowspan=\"10\" valign=\"top\">0</th>\n",
       "      <th rowspan=\"10\" valign=\"top\">False</th>\n",
       "      <th>0</th>\n",
       "      <td>19.553000</td>\n",
       "      <td>0.323715</td>\n",
       "      <td>0.435501</td>\n",
       "      <td>43.525423</td>\n",
       "      <td>0.853569</td>\n",
       "      <td>0.117139</td>\n",
       "      <td>0.394013</td>\n",
       "    </tr>\n",
       "    <tr>\n",
       "      <th>1</th>\n",
       "      <td>69.498290</td>\n",
       "      <td>0.336314</td>\n",
       "      <td>0.238411</td>\n",
       "      <td>73.893389</td>\n",
       "      <td>0.072180</td>\n",
       "      <td>0.565927</td>\n",
       "      <td>5.627350</td>\n",
       "    </tr>\n",
       "    <tr>\n",
       "      <th>2</th>\n",
       "      <td>29.158665</td>\n",
       "      <td>0.352710</td>\n",
       "      <td>0.280424</td>\n",
       "      <td>49.072671</td>\n",
       "      <td>0.201024</td>\n",
       "      <td>0.345062</td>\n",
       "      <td>0.355429</td>\n",
       "    </tr>\n",
       "    <tr>\n",
       "      <th>3</th>\n",
       "      <td>22.992224</td>\n",
       "      <td>0.290549</td>\n",
       "      <td>0.434568</td>\n",
       "      <td>35.877830</td>\n",
       "      <td>0.037085</td>\n",
       "      <td>0.641477</td>\n",
       "      <td>inf</td>\n",
       "    </tr>\n",
       "    <tr>\n",
       "      <th>4</th>\n",
       "      <td>53.248488</td>\n",
       "      <td>0.887196</td>\n",
       "      <td>0.635028</td>\n",
       "      <td>2.949060</td>\n",
       "      <td>0.944565</td>\n",
       "      <td>0.540077</td>\n",
       "      <td>inf</td>\n",
       "    </tr>\n",
       "    <tr>\n",
       "      <th>5</th>\n",
       "      <td>77.258086</td>\n",
       "      <td>0.692893</td>\n",
       "      <td>0.694678</td>\n",
       "      <td>78.836074</td>\n",
       "      <td>0.132212</td>\n",
       "      <td>0.371466</td>\n",
       "      <td>inf</td>\n",
       "    </tr>\n",
       "    <tr>\n",
       "      <th>6</th>\n",
       "      <td>9.391236</td>\n",
       "      <td>0.606728</td>\n",
       "      <td>0.576678</td>\n",
       "      <td>25.811616</td>\n",
       "      <td>0.976054</td>\n",
       "      <td>0.531506</td>\n",
       "      <td>inf</td>\n",
       "    </tr>\n",
       "    <tr>\n",
       "      <th>7</th>\n",
       "      <td>25.351818</td>\n",
       "      <td>0.547331</td>\n",
       "      <td>0.302557</td>\n",
       "      <td>65.332991</td>\n",
       "      <td>0.190455</td>\n",
       "      <td>0.455694</td>\n",
       "      <td>0.268756</td>\n",
       "    </tr>\n",
       "    <tr>\n",
       "      <th>8</th>\n",
       "      <td>39.464046</td>\n",
       "      <td>0.919964</td>\n",
       "      <td>0.734489</td>\n",
       "      <td>17.004880</td>\n",
       "      <td>0.286967</td>\n",
       "      <td>0.331691</td>\n",
       "      <td>inf</td>\n",
       "    </tr>\n",
       "    <tr>\n",
       "      <th>9</th>\n",
       "      <td>96.068159</td>\n",
       "      <td>0.054006</td>\n",
       "      <td>0.111657</td>\n",
       "      <td>70.304375</td>\n",
       "      <td>0.812447</td>\n",
       "      <td>0.775870</td>\n",
       "      <td>0.797224</td>\n",
       "    </tr>\n",
       "    <tr>\n",
       "      <th rowspan=\"10\" valign=\"top\">1</th>\n",
       "      <th rowspan=\"6\" valign=\"top\">False</th>\n",
       "      <th>2</th>\n",
       "      <td>19.553000</td>\n",
       "      <td>0.352710</td>\n",
       "      <td>0.280424</td>\n",
       "      <td>49.072671</td>\n",
       "      <td>0.853569</td>\n",
       "      <td>0.117139</td>\n",
       "      <td>0.460265</td>\n",
       "    </tr>\n",
       "    <tr>\n",
       "      <th>3</th>\n",
       "      <td>29.158665</td>\n",
       "      <td>0.323715</td>\n",
       "      <td>0.435501</td>\n",
       "      <td>43.525423</td>\n",
       "      <td>0.201024</td>\n",
       "      <td>0.345062</td>\n",
       "      <td>0.306169</td>\n",
       "    </tr>\n",
       "    <tr>\n",
       "      <th>4</th>\n",
       "      <td>19.553000</td>\n",
       "      <td>0.352710</td>\n",
       "      <td>0.435501</td>\n",
       "      <td>43.525423</td>\n",
       "      <td>0.853569</td>\n",
       "      <td>0.117139</td>\n",
       "      <td>0.394013</td>\n",
       "    </tr>\n",
       "    <tr>\n",
       "      <th>5</th>\n",
       "      <td>29.158665</td>\n",
       "      <td>0.323715</td>\n",
       "      <td>0.280424</td>\n",
       "      <td>49.072671</td>\n",
       "      <td>0.201024</td>\n",
       "      <td>0.345062</td>\n",
       "      <td>0.355429</td>\n",
       "    </tr>\n",
       "    <tr>\n",
       "      <th>8</th>\n",
       "      <td>25.351818</td>\n",
       "      <td>0.547331</td>\n",
       "      <td>0.435501</td>\n",
       "      <td>43.525423</td>\n",
       "      <td>0.853569</td>\n",
       "      <td>0.455694</td>\n",
       "      <td>0.314712</td>\n",
       "    </tr>\n",
       "    <tr>\n",
       "      <th>9</th>\n",
       "      <td>19.553000</td>\n",
       "      <td>0.323715</td>\n",
       "      <td>0.302557</td>\n",
       "      <td>65.332991</td>\n",
       "      <td>0.190455</td>\n",
       "      <td>0.117139</td>\n",
       "      <td>0.414898</td>\n",
       "    </tr>\n",
       "    <tr>\n",
       "      <th rowspan=\"4\" valign=\"top\">True</th>\n",
       "      <th>0</th>\n",
       "      <td>69.498290</td>\n",
       "      <td>0.336314</td>\n",
       "      <td>0.238411</td>\n",
       "      <td>73.893389</td>\n",
       "      <td>0.072180</td>\n",
       "      <td>0.565927</td>\n",
       "      <td>5.627350</td>\n",
       "    </tr>\n",
       "    <tr>\n",
       "      <th>1</th>\n",
       "      <td>19.553000</td>\n",
       "      <td>0.323715</td>\n",
       "      <td>0.435501</td>\n",
       "      <td>43.525423</td>\n",
       "      <td>0.853569</td>\n",
       "      <td>0.117139</td>\n",
       "      <td>0.394013</td>\n",
       "    </tr>\n",
       "    <tr>\n",
       "      <th>6</th>\n",
       "      <td>96.068159</td>\n",
       "      <td>0.054006</td>\n",
       "      <td>0.111657</td>\n",
       "      <td>70.304375</td>\n",
       "      <td>0.812447</td>\n",
       "      <td>0.775870</td>\n",
       "      <td>0.797224</td>\n",
       "    </tr>\n",
       "    <tr>\n",
       "      <th>7</th>\n",
       "      <td>96.068159</td>\n",
       "      <td>0.054006</td>\n",
       "      <td>0.111657</td>\n",
       "      <td>70.304375</td>\n",
       "      <td>0.812447</td>\n",
       "      <td>0.775870</td>\n",
       "      <td>0.797224</td>\n",
       "    </tr>\n",
       "    <tr>\n",
       "      <th rowspan=\"10\" valign=\"top\">2</th>\n",
       "      <th rowspan=\"6\" valign=\"top\">False</th>\n",
       "      <th>2</th>\n",
       "      <td>29.158665</td>\n",
       "      <td>0.323715</td>\n",
       "      <td>0.435501</td>\n",
       "      <td>43.525423</td>\n",
       "      <td>0.853569</td>\n",
       "      <td>0.117139</td>\n",
       "      <td>0.394013</td>\n",
       "    </tr>\n",
       "    <tr>\n",
       "      <th>3</th>\n",
       "      <td>19.553000</td>\n",
       "      <td>0.323715</td>\n",
       "      <td>0.435501</td>\n",
       "      <td>43.525423</td>\n",
       "      <td>0.201024</td>\n",
       "      <td>0.345062</td>\n",
       "      <td>0.306169</td>\n",
       "    </tr>\n",
       "    <tr>\n",
       "      <th>4</th>\n",
       "      <td>19.553000</td>\n",
       "      <td>0.352710</td>\n",
       "      <td>0.435501</td>\n",
       "      <td>43.525423</td>\n",
       "      <td>0.853569</td>\n",
       "      <td>0.117139</td>\n",
       "      <td>0.394013</td>\n",
       "    </tr>\n",
       "    <tr>\n",
       "      <th>5</th>\n",
       "      <td>29.158665</td>\n",
       "      <td>0.323715</td>\n",
       "      <td>0.435501</td>\n",
       "      <td>43.525423</td>\n",
       "      <td>0.201024</td>\n",
       "      <td>0.345062</td>\n",
       "      <td>0.306169</td>\n",
       "    </tr>\n",
       "    <tr>\n",
       "      <th>8</th>\n",
       "      <td>25.351818</td>\n",
       "      <td>0.547331</td>\n",
       "      <td>0.111657</td>\n",
       "      <td>70.304375</td>\n",
       "      <td>0.812447</td>\n",
       "      <td>0.775870</td>\n",
       "      <td>0.369582</td>\n",
       "    </tr>\n",
       "    <tr>\n",
       "      <th>9</th>\n",
       "      <td>96.068159</td>\n",
       "      <td>0.054006</td>\n",
       "      <td>0.435501</td>\n",
       "      <td>43.525423</td>\n",
       "      <td>0.853569</td>\n",
       "      <td>0.455694</td>\n",
       "      <td>22.416668</td>\n",
       "    </tr>\n",
       "    <tr>\n",
       "      <th rowspan=\"4\" valign=\"top\">True</th>\n",
       "      <th>0</th>\n",
       "      <td>29.158665</td>\n",
       "      <td>0.323715</td>\n",
       "      <td>0.435501</td>\n",
       "      <td>43.525423</td>\n",
       "      <td>0.201024</td>\n",
       "      <td>0.345062</td>\n",
       "      <td>0.306169</td>\n",
       "    </tr>\n",
       "    <tr>\n",
       "      <th>1</th>\n",
       "      <td>29.158665</td>\n",
       "      <td>0.323715</td>\n",
       "      <td>0.435501</td>\n",
       "      <td>43.525423</td>\n",
       "      <td>0.201024</td>\n",
       "      <td>0.345062</td>\n",
       "      <td>0.306169</td>\n",
       "    </tr>\n",
       "    <tr>\n",
       "      <th>6</th>\n",
       "      <td>29.158665</td>\n",
       "      <td>0.323715</td>\n",
       "      <td>0.435501</td>\n",
       "      <td>43.525423</td>\n",
       "      <td>0.201024</td>\n",
       "      <td>0.345062</td>\n",
       "      <td>0.306169</td>\n",
       "    </tr>\n",
       "    <tr>\n",
       "      <th>7</th>\n",
       "      <td>19.553000</td>\n",
       "      <td>0.352710</td>\n",
       "      <td>0.280424</td>\n",
       "      <td>49.072671</td>\n",
       "      <td>0.853569</td>\n",
       "      <td>0.117139</td>\n",
       "      <td>0.460265</td>\n",
       "    </tr>\n",
       "    <tr>\n",
       "      <th rowspan=\"10\" valign=\"top\">3</th>\n",
       "      <th rowspan=\"6\" valign=\"top\">False</th>\n",
       "      <th>2</th>\n",
       "      <td>29.158665</td>\n",
       "      <td>0.323715</td>\n",
       "      <td>0.435501</td>\n",
       "      <td>43.525423</td>\n",
       "      <td>0.201024</td>\n",
       "      <td>0.345062</td>\n",
       "      <td>0.306169</td>\n",
       "    </tr>\n",
       "    <tr>\n",
       "      <th>3</th>\n",
       "      <td>29.158665</td>\n",
       "      <td>0.323715</td>\n",
       "      <td>0.435501</td>\n",
       "      <td>43.525423</td>\n",
       "      <td>0.201024</td>\n",
       "      <td>0.345062</td>\n",
       "      <td>0.306169</td>\n",
       "    </tr>\n",
       "    <tr>\n",
       "      <th>4</th>\n",
       "      <td>19.553000</td>\n",
       "      <td>0.323715</td>\n",
       "      <td>0.435501</td>\n",
       "      <td>43.525423</td>\n",
       "      <td>0.201024</td>\n",
       "      <td>0.345062</td>\n",
       "      <td>0.306169</td>\n",
       "    </tr>\n",
       "    <tr>\n",
       "      <th>5</th>\n",
       "      <td>29.158665</td>\n",
       "      <td>0.323715</td>\n",
       "      <td>0.435501</td>\n",
       "      <td>43.525423</td>\n",
       "      <td>0.201024</td>\n",
       "      <td>0.345062</td>\n",
       "      <td>0.306169</td>\n",
       "    </tr>\n",
       "    <tr>\n",
       "      <th>6</th>\n",
       "      <td>29.158665</td>\n",
       "      <td>0.323715</td>\n",
       "      <td>0.435501</td>\n",
       "      <td>43.525423</td>\n",
       "      <td>0.201024</td>\n",
       "      <td>0.345062</td>\n",
       "      <td>0.306169</td>\n",
       "    </tr>\n",
       "    <tr>\n",
       "      <th>7</th>\n",
       "      <td>29.158665</td>\n",
       "      <td>0.323715</td>\n",
       "      <td>0.435501</td>\n",
       "      <td>43.525423</td>\n",
       "      <td>0.201024</td>\n",
       "      <td>0.345062</td>\n",
       "      <td>0.306169</td>\n",
       "    </tr>\n",
       "    <tr>\n",
       "      <th rowspan=\"4\" valign=\"top\">True</th>\n",
       "      <th>0</th>\n",
       "      <td>29.158665</td>\n",
       "      <td>0.323715</td>\n",
       "      <td>0.435501</td>\n",
       "      <td>43.525423</td>\n",
       "      <td>0.201024</td>\n",
       "      <td>0.345062</td>\n",
       "      <td>0.306169</td>\n",
       "    </tr>\n",
       "    <tr>\n",
       "      <th>1</th>\n",
       "      <td>19.553000</td>\n",
       "      <td>0.323715</td>\n",
       "      <td>0.435501</td>\n",
       "      <td>43.525423</td>\n",
       "      <td>0.201024</td>\n",
       "      <td>0.345062</td>\n",
       "      <td>0.306169</td>\n",
       "    </tr>\n",
       "    <tr>\n",
       "      <th>8</th>\n",
       "      <td>29.158665</td>\n",
       "      <td>0.323715</td>\n",
       "      <td>0.435501</td>\n",
       "      <td>43.525423</td>\n",
       "      <td>0.201024</td>\n",
       "      <td>0.345062</td>\n",
       "      <td>0.306169</td>\n",
       "    </tr>\n",
       "    <tr>\n",
       "      <th>9</th>\n",
       "      <td>29.158665</td>\n",
       "      <td>0.323715</td>\n",
       "      <td>0.435501</td>\n",
       "      <td>43.525423</td>\n",
       "      <td>0.201024</td>\n",
       "      <td>0.345062</td>\n",
       "      <td>0.306169</td>\n",
       "    </tr>\n",
       "  </tbody>\n",
       "</table>\n",
       "</div>"
      ],
      "text/plain": [
       "                                           D1N1_inv_lambda_max  \\\n",
       "generation previous_generation individual                        \n",
       "0          False               0                     19.553000   \n",
       "                               1                     69.498290   \n",
       "                               2                     29.158665   \n",
       "                               3                     22.992224   \n",
       "                               4                     53.248488   \n",
       "                               5                     77.258086   \n",
       "                               6                      9.391236   \n",
       "                               7                     25.351818   \n",
       "                               8                     39.464046   \n",
       "                               9                     96.068159   \n",
       "1          False               2                     19.553000   \n",
       "                               3                     29.158665   \n",
       "                               4                     19.553000   \n",
       "                               5                     29.158665   \n",
       "                               8                     25.351818   \n",
       "                               9                     19.553000   \n",
       "           True                0                     69.498290   \n",
       "                               1                     19.553000   \n",
       "                               6                     96.068159   \n",
       "                               7                     96.068159   \n",
       "2          False               2                     29.158665   \n",
       "                               3                     19.553000   \n",
       "                               4                     19.553000   \n",
       "                               5                     29.158665   \n",
       "                               8                     25.351818   \n",
       "                               9                     96.068159   \n",
       "           True                0                     29.158665   \n",
       "                               1                     29.158665   \n",
       "                               6                     29.158665   \n",
       "                               7                     19.553000   \n",
       "3          False               2                     29.158665   \n",
       "                               3                     29.158665   \n",
       "                               4                     19.553000   \n",
       "                               5                     29.158665   \n",
       "                               6                     29.158665   \n",
       "                               7                     29.158665   \n",
       "           True                0                     29.158665   \n",
       "                               1                     19.553000   \n",
       "                               8                     29.158665   \n",
       "                               9                     29.158665   \n",
       "\n",
       "                                           D1N1_inv_lambda_rate  \\\n",
       "generation previous_generation individual                         \n",
       "0          False               0                       0.323715   \n",
       "                               1                       0.336314   \n",
       "                               2                       0.352710   \n",
       "                               3                       0.290549   \n",
       "                               4                       0.887196   \n",
       "                               5                       0.692893   \n",
       "                               6                       0.606728   \n",
       "                               7                       0.547331   \n",
       "                               8                       0.919964   \n",
       "                               9                       0.054006   \n",
       "1          False               2                       0.352710   \n",
       "                               3                       0.323715   \n",
       "                               4                       0.352710   \n",
       "                               5                       0.323715   \n",
       "                               8                       0.547331   \n",
       "                               9                       0.323715   \n",
       "           True                0                       0.336314   \n",
       "                               1                       0.323715   \n",
       "                               6                       0.054006   \n",
       "                               7                       0.054006   \n",
       "2          False               2                       0.323715   \n",
       "                               3                       0.323715   \n",
       "                               4                       0.352710   \n",
       "                               5                       0.323715   \n",
       "                               8                       0.547331   \n",
       "                               9                       0.054006   \n",
       "           True                0                       0.323715   \n",
       "                               1                       0.323715   \n",
       "                               6                       0.323715   \n",
       "                               7                       0.352710   \n",
       "3          False               2                       0.323715   \n",
       "                               3                       0.323715   \n",
       "                               4                       0.323715   \n",
       "                               5                       0.323715   \n",
       "                               6                       0.323715   \n",
       "                               7                       0.323715   \n",
       "           True                0                       0.323715   \n",
       "                               1                       0.323715   \n",
       "                               8                       0.323715   \n",
       "                               9                       0.323715   \n",
       "\n",
       "                                           D1N1_energy_coefficient  \\\n",
       "generation previous_generation individual                            \n",
       "0          False               0                          0.435501   \n",
       "                               1                          0.238411   \n",
       "                               2                          0.280424   \n",
       "                               3                          0.434568   \n",
       "                               4                          0.635028   \n",
       "                               5                          0.694678   \n",
       "                               6                          0.576678   \n",
       "                               7                          0.302557   \n",
       "                               8                          0.734489   \n",
       "                               9                          0.111657   \n",
       "1          False               2                          0.280424   \n",
       "                               3                          0.435501   \n",
       "                               4                          0.435501   \n",
       "                               5                          0.280424   \n",
       "                               8                          0.435501   \n",
       "                               9                          0.302557   \n",
       "           True                0                          0.238411   \n",
       "                               1                          0.435501   \n",
       "                               6                          0.111657   \n",
       "                               7                          0.111657   \n",
       "2          False               2                          0.435501   \n",
       "                               3                          0.435501   \n",
       "                               4                          0.435501   \n",
       "                               5                          0.435501   \n",
       "                               8                          0.111657   \n",
       "                               9                          0.435501   \n",
       "           True                0                          0.435501   \n",
       "                               1                          0.435501   \n",
       "                               6                          0.435501   \n",
       "                               7                          0.280424   \n",
       "3          False               2                          0.435501   \n",
       "                               3                          0.435501   \n",
       "                               4                          0.435501   \n",
       "                               5                          0.435501   \n",
       "                               6                          0.435501   \n",
       "                               7                          0.435501   \n",
       "           True                0                          0.435501   \n",
       "                               1                          0.435501   \n",
       "                               8                          0.435501   \n",
       "                               9                          0.435501   \n",
       "\n",
       "                                           D2N1_inv_lambda_max  \\\n",
       "generation previous_generation individual                        \n",
       "0          False               0                     43.525423   \n",
       "                               1                     73.893389   \n",
       "                               2                     49.072671   \n",
       "                               3                     35.877830   \n",
       "                               4                      2.949060   \n",
       "                               5                     78.836074   \n",
       "                               6                     25.811616   \n",
       "                               7                     65.332991   \n",
       "                               8                     17.004880   \n",
       "                               9                     70.304375   \n",
       "1          False               2                     49.072671   \n",
       "                               3                     43.525423   \n",
       "                               4                     43.525423   \n",
       "                               5                     49.072671   \n",
       "                               8                     43.525423   \n",
       "                               9                     65.332991   \n",
       "           True                0                     73.893389   \n",
       "                               1                     43.525423   \n",
       "                               6                     70.304375   \n",
       "                               7                     70.304375   \n",
       "2          False               2                     43.525423   \n",
       "                               3                     43.525423   \n",
       "                               4                     43.525423   \n",
       "                               5                     43.525423   \n",
       "                               8                     70.304375   \n",
       "                               9                     43.525423   \n",
       "           True                0                     43.525423   \n",
       "                               1                     43.525423   \n",
       "                               6                     43.525423   \n",
       "                               7                     49.072671   \n",
       "3          False               2                     43.525423   \n",
       "                               3                     43.525423   \n",
       "                               4                     43.525423   \n",
       "                               5                     43.525423   \n",
       "                               6                     43.525423   \n",
       "                               7                     43.525423   \n",
       "           True                0                     43.525423   \n",
       "                               1                     43.525423   \n",
       "                               8                     43.525423   \n",
       "                               9                     43.525423   \n",
       "\n",
       "                                           D2N1_inv_lambda_rate  \\\n",
       "generation previous_generation individual                         \n",
       "0          False               0                       0.853569   \n",
       "                               1                       0.072180   \n",
       "                               2                       0.201024   \n",
       "                               3                       0.037085   \n",
       "                               4                       0.944565   \n",
       "                               5                       0.132212   \n",
       "                               6                       0.976054   \n",
       "                               7                       0.190455   \n",
       "                               8                       0.286967   \n",
       "                               9                       0.812447   \n",
       "1          False               2                       0.853569   \n",
       "                               3                       0.201024   \n",
       "                               4                       0.853569   \n",
       "                               5                       0.201024   \n",
       "                               8                       0.853569   \n",
       "                               9                       0.190455   \n",
       "           True                0                       0.072180   \n",
       "                               1                       0.853569   \n",
       "                               6                       0.812447   \n",
       "                               7                       0.812447   \n",
       "2          False               2                       0.853569   \n",
       "                               3                       0.201024   \n",
       "                               4                       0.853569   \n",
       "                               5                       0.201024   \n",
       "                               8                       0.812447   \n",
       "                               9                       0.853569   \n",
       "           True                0                       0.201024   \n",
       "                               1                       0.201024   \n",
       "                               6                       0.201024   \n",
       "                               7                       0.853569   \n",
       "3          False               2                       0.201024   \n",
       "                               3                       0.201024   \n",
       "                               4                       0.201024   \n",
       "                               5                       0.201024   \n",
       "                               6                       0.201024   \n",
       "                               7                       0.201024   \n",
       "           True                0                       0.201024   \n",
       "                               1                       0.201024   \n",
       "                               8                       0.201024   \n",
       "                               9                       0.201024   \n",
       "\n",
       "                                           D2N1_energy_coefficient    fitness  \n",
       "generation previous_generation individual                                      \n",
       "0          False               0                          0.117139   0.394013  \n",
       "                               1                          0.565927   5.627350  \n",
       "                               2                          0.345062   0.355429  \n",
       "                               3                          0.641477        inf  \n",
       "                               4                          0.540077        inf  \n",
       "                               5                          0.371466        inf  \n",
       "                               6                          0.531506        inf  \n",
       "                               7                          0.455694   0.268756  \n",
       "                               8                          0.331691        inf  \n",
       "                               9                          0.775870   0.797224  \n",
       "1          False               2                          0.117139   0.460265  \n",
       "                               3                          0.345062   0.306169  \n",
       "                               4                          0.117139   0.394013  \n",
       "                               5                          0.345062   0.355429  \n",
       "                               8                          0.455694   0.314712  \n",
       "                               9                          0.117139   0.414898  \n",
       "           True                0                          0.565927   5.627350  \n",
       "                               1                          0.117139   0.394013  \n",
       "                               6                          0.775870   0.797224  \n",
       "                               7                          0.775870   0.797224  \n",
       "2          False               2                          0.117139   0.394013  \n",
       "                               3                          0.345062   0.306169  \n",
       "                               4                          0.117139   0.394013  \n",
       "                               5                          0.345062   0.306169  \n",
       "                               8                          0.775870   0.369582  \n",
       "                               9                          0.455694  22.416668  \n",
       "           True                0                          0.345062   0.306169  \n",
       "                               1                          0.345062   0.306169  \n",
       "                               6                          0.345062   0.306169  \n",
       "                               7                          0.117139   0.460265  \n",
       "3          False               2                          0.345062   0.306169  \n",
       "                               3                          0.345062   0.306169  \n",
       "                               4                          0.345062   0.306169  \n",
       "                               5                          0.345062   0.306169  \n",
       "                               6                          0.345062   0.306169  \n",
       "                               7                          0.345062   0.306169  \n",
       "           True                0                          0.345062   0.306169  \n",
       "                               1                          0.345062   0.306169  \n",
       "                               8                          0.345062   0.306169  \n",
       "                               9                          0.345062   0.306169  "
      ]
     },
     "execution_count": 15,
     "metadata": {},
     "output_type": "execute_result"
    }
   ],
   "source": [
    "viewer.logbook"
   ]
  },
  {
   "cell_type": "code",
   "execution_count": 16,
   "metadata": {},
   "outputs": [
    {
     "data": {
      "text/html": [
       "<div>\n",
       "<style scoped>\n",
       "    .dataframe tbody tr th:only-of-type {\n",
       "        vertical-align: middle;\n",
       "    }\n",
       "\n",
       "    .dataframe tbody tr th {\n",
       "        vertical-align: top;\n",
       "    }\n",
       "\n",
       "    .dataframe thead th {\n",
       "        text-align: right;\n",
       "    }\n",
       "</style>\n",
       "<table border=\"1\" class=\"dataframe\">\n",
       "  <thead>\n",
       "    <tr style=\"text-align: right;\">\n",
       "      <th></th>\n",
       "      <th></th>\n",
       "      <th>D1N1_inv_lambda_max</th>\n",
       "      <th>D1N1_inv_lambda_rate</th>\n",
       "      <th>D1N1_energy_coefficient</th>\n",
       "      <th>D2N1_inv_lambda_max</th>\n",
       "      <th>D2N1_inv_lambda_rate</th>\n",
       "      <th>D2N1_energy_coefficient</th>\n",
       "      <th>fitness</th>\n",
       "    </tr>\n",
       "    <tr>\n",
       "      <th>generation</th>\n",
       "      <th>individual</th>\n",
       "      <th></th>\n",
       "      <th></th>\n",
       "      <th></th>\n",
       "      <th></th>\n",
       "      <th></th>\n",
       "      <th></th>\n",
       "      <th></th>\n",
       "    </tr>\n",
       "  </thead>\n",
       "  <tbody>\n",
       "    <tr>\n",
       "      <th>0</th>\n",
       "      <th>7</th>\n",
       "      <td>25.351818</td>\n",
       "      <td>0.547331</td>\n",
       "      <td>0.302557</td>\n",
       "      <td>65.332991</td>\n",
       "      <td>0.190455</td>\n",
       "      <td>0.455694</td>\n",
       "      <td>0.268756</td>\n",
       "    </tr>\n",
       "    <tr>\n",
       "      <th rowspan=\"3\" valign=\"top\">3</th>\n",
       "      <th>7</th>\n",
       "      <td>29.158665</td>\n",
       "      <td>0.323715</td>\n",
       "      <td>0.435501</td>\n",
       "      <td>43.525423</td>\n",
       "      <td>0.201024</td>\n",
       "      <td>0.345062</td>\n",
       "      <td>0.306169</td>\n",
       "    </tr>\n",
       "    <tr>\n",
       "      <th>5</th>\n",
       "      <td>29.158665</td>\n",
       "      <td>0.323715</td>\n",
       "      <td>0.435501</td>\n",
       "      <td>43.525423</td>\n",
       "      <td>0.201024</td>\n",
       "      <td>0.345062</td>\n",
       "      <td>0.306169</td>\n",
       "    </tr>\n",
       "    <tr>\n",
       "      <th>3</th>\n",
       "      <td>29.158665</td>\n",
       "      <td>0.323715</td>\n",
       "      <td>0.435501</td>\n",
       "      <td>43.525423</td>\n",
       "      <td>0.201024</td>\n",
       "      <td>0.345062</td>\n",
       "      <td>0.306169</td>\n",
       "    </tr>\n",
       "    <tr>\n",
       "      <th>1</th>\n",
       "      <th>3</th>\n",
       "      <td>29.158665</td>\n",
       "      <td>0.323715</td>\n",
       "      <td>0.435501</td>\n",
       "      <td>43.525423</td>\n",
       "      <td>0.201024</td>\n",
       "      <td>0.345062</td>\n",
       "      <td>0.306169</td>\n",
       "    </tr>\n",
       "    <tr>\n",
       "      <th rowspan=\"2\" valign=\"top\">3</th>\n",
       "      <th>2</th>\n",
       "      <td>29.158665</td>\n",
       "      <td>0.323715</td>\n",
       "      <td>0.435501</td>\n",
       "      <td>43.525423</td>\n",
       "      <td>0.201024</td>\n",
       "      <td>0.345062</td>\n",
       "      <td>0.306169</td>\n",
       "    </tr>\n",
       "    <tr>\n",
       "      <th>6</th>\n",
       "      <td>29.158665</td>\n",
       "      <td>0.323715</td>\n",
       "      <td>0.435501</td>\n",
       "      <td>43.525423</td>\n",
       "      <td>0.201024</td>\n",
       "      <td>0.345062</td>\n",
       "      <td>0.306169</td>\n",
       "    </tr>\n",
       "    <tr>\n",
       "      <th>2</th>\n",
       "      <th>5</th>\n",
       "      <td>29.158665</td>\n",
       "      <td>0.323715</td>\n",
       "      <td>0.435501</td>\n",
       "      <td>43.525423</td>\n",
       "      <td>0.201024</td>\n",
       "      <td>0.345062</td>\n",
       "      <td>0.306169</td>\n",
       "    </tr>\n",
       "    <tr>\n",
       "      <th>3</th>\n",
       "      <th>4</th>\n",
       "      <td>19.553000</td>\n",
       "      <td>0.323715</td>\n",
       "      <td>0.435501</td>\n",
       "      <td>43.525423</td>\n",
       "      <td>0.201024</td>\n",
       "      <td>0.345062</td>\n",
       "      <td>0.306169</td>\n",
       "    </tr>\n",
       "    <tr>\n",
       "      <th>2</th>\n",
       "      <th>3</th>\n",
       "      <td>19.553000</td>\n",
       "      <td>0.323715</td>\n",
       "      <td>0.435501</td>\n",
       "      <td>43.525423</td>\n",
       "      <td>0.201024</td>\n",
       "      <td>0.345062</td>\n",
       "      <td>0.306169</td>\n",
       "    </tr>\n",
       "    <tr>\n",
       "      <th rowspan=\"2\" valign=\"top\">1</th>\n",
       "      <th>8</th>\n",
       "      <td>25.351818</td>\n",
       "      <td>0.547331</td>\n",
       "      <td>0.435501</td>\n",
       "      <td>43.525423</td>\n",
       "      <td>0.853569</td>\n",
       "      <td>0.455694</td>\n",
       "      <td>0.314712</td>\n",
       "    </tr>\n",
       "    <tr>\n",
       "      <th>5</th>\n",
       "      <td>29.158665</td>\n",
       "      <td>0.323715</td>\n",
       "      <td>0.280424</td>\n",
       "      <td>49.072671</td>\n",
       "      <td>0.201024</td>\n",
       "      <td>0.345062</td>\n",
       "      <td>0.355429</td>\n",
       "    </tr>\n",
       "    <tr>\n",
       "      <th>0</th>\n",
       "      <th>2</th>\n",
       "      <td>29.158665</td>\n",
       "      <td>0.352710</td>\n",
       "      <td>0.280424</td>\n",
       "      <td>49.072671</td>\n",
       "      <td>0.201024</td>\n",
       "      <td>0.345062</td>\n",
       "      <td>0.355429</td>\n",
       "    </tr>\n",
       "    <tr>\n",
       "      <th rowspan=\"2\" valign=\"top\">2</th>\n",
       "      <th>8</th>\n",
       "      <td>25.351818</td>\n",
       "      <td>0.547331</td>\n",
       "      <td>0.111657</td>\n",
       "      <td>70.304375</td>\n",
       "      <td>0.812447</td>\n",
       "      <td>0.775870</td>\n",
       "      <td>0.369582</td>\n",
       "    </tr>\n",
       "    <tr>\n",
       "      <th>2</th>\n",
       "      <td>29.158665</td>\n",
       "      <td>0.323715</td>\n",
       "      <td>0.435501</td>\n",
       "      <td>43.525423</td>\n",
       "      <td>0.853569</td>\n",
       "      <td>0.117139</td>\n",
       "      <td>0.394013</td>\n",
       "    </tr>\n",
       "    <tr>\n",
       "      <th>0</th>\n",
       "      <th>0</th>\n",
       "      <td>19.553000</td>\n",
       "      <td>0.323715</td>\n",
       "      <td>0.435501</td>\n",
       "      <td>43.525423</td>\n",
       "      <td>0.853569</td>\n",
       "      <td>0.117139</td>\n",
       "      <td>0.394013</td>\n",
       "    </tr>\n",
       "    <tr>\n",
       "      <th>1</th>\n",
       "      <th>4</th>\n",
       "      <td>19.553000</td>\n",
       "      <td>0.352710</td>\n",
       "      <td>0.435501</td>\n",
       "      <td>43.525423</td>\n",
       "      <td>0.853569</td>\n",
       "      <td>0.117139</td>\n",
       "      <td>0.394013</td>\n",
       "    </tr>\n",
       "    <tr>\n",
       "      <th>2</th>\n",
       "      <th>4</th>\n",
       "      <td>19.553000</td>\n",
       "      <td>0.352710</td>\n",
       "      <td>0.435501</td>\n",
       "      <td>43.525423</td>\n",
       "      <td>0.853569</td>\n",
       "      <td>0.117139</td>\n",
       "      <td>0.394013</td>\n",
       "    </tr>\n",
       "    <tr>\n",
       "      <th rowspan=\"2\" valign=\"top\">1</th>\n",
       "      <th>9</th>\n",
       "      <td>19.553000</td>\n",
       "      <td>0.323715</td>\n",
       "      <td>0.302557</td>\n",
       "      <td>65.332991</td>\n",
       "      <td>0.190455</td>\n",
       "      <td>0.117139</td>\n",
       "      <td>0.414898</td>\n",
       "    </tr>\n",
       "    <tr>\n",
       "      <th>2</th>\n",
       "      <td>19.553000</td>\n",
       "      <td>0.352710</td>\n",
       "      <td>0.280424</td>\n",
       "      <td>49.072671</td>\n",
       "      <td>0.853569</td>\n",
       "      <td>0.117139</td>\n",
       "      <td>0.460265</td>\n",
       "    </tr>\n",
       "    <tr>\n",
       "      <th rowspan=\"2\" valign=\"top\">0</th>\n",
       "      <th>9</th>\n",
       "      <td>96.068159</td>\n",
       "      <td>0.054006</td>\n",
       "      <td>0.111657</td>\n",
       "      <td>70.304375</td>\n",
       "      <td>0.812447</td>\n",
       "      <td>0.775870</td>\n",
       "      <td>0.797224</td>\n",
       "    </tr>\n",
       "    <tr>\n",
       "      <th>1</th>\n",
       "      <td>69.498290</td>\n",
       "      <td>0.336314</td>\n",
       "      <td>0.238411</td>\n",
       "      <td>73.893389</td>\n",
       "      <td>0.072180</td>\n",
       "      <td>0.565927</td>\n",
       "      <td>5.627350</td>\n",
       "    </tr>\n",
       "    <tr>\n",
       "      <th>2</th>\n",
       "      <th>9</th>\n",
       "      <td>96.068159</td>\n",
       "      <td>0.054006</td>\n",
       "      <td>0.435501</td>\n",
       "      <td>43.525423</td>\n",
       "      <td>0.853569</td>\n",
       "      <td>0.455694</td>\n",
       "      <td>22.416668</td>\n",
       "    </tr>\n",
       "  </tbody>\n",
       "</table>\n",
       "</div>"
      ],
      "text/plain": [
       "                       D1N1_inv_lambda_max  D1N1_inv_lambda_rate  \\\n",
       "generation individual                                              \n",
       "0          7                     25.351818              0.547331   \n",
       "3          7                     29.158665              0.323715   \n",
       "           5                     29.158665              0.323715   \n",
       "           3                     29.158665              0.323715   \n",
       "1          3                     29.158665              0.323715   \n",
       "3          2                     29.158665              0.323715   \n",
       "           6                     29.158665              0.323715   \n",
       "2          5                     29.158665              0.323715   \n",
       "3          4                     19.553000              0.323715   \n",
       "2          3                     19.553000              0.323715   \n",
       "1          8                     25.351818              0.547331   \n",
       "           5                     29.158665              0.323715   \n",
       "0          2                     29.158665              0.352710   \n",
       "2          8                     25.351818              0.547331   \n",
       "           2                     29.158665              0.323715   \n",
       "0          0                     19.553000              0.323715   \n",
       "1          4                     19.553000              0.352710   \n",
       "2          4                     19.553000              0.352710   \n",
       "1          9                     19.553000              0.323715   \n",
       "           2                     19.553000              0.352710   \n",
       "0          9                     96.068159              0.054006   \n",
       "           1                     69.498290              0.336314   \n",
       "2          9                     96.068159              0.054006   \n",
       "\n",
       "                       D1N1_energy_coefficient  D2N1_inv_lambda_max  \\\n",
       "generation individual                                                 \n",
       "0          7                          0.302557            65.332991   \n",
       "3          7                          0.435501            43.525423   \n",
       "           5                          0.435501            43.525423   \n",
       "           3                          0.435501            43.525423   \n",
       "1          3                          0.435501            43.525423   \n",
       "3          2                          0.435501            43.525423   \n",
       "           6                          0.435501            43.525423   \n",
       "2          5                          0.435501            43.525423   \n",
       "3          4                          0.435501            43.525423   \n",
       "2          3                          0.435501            43.525423   \n",
       "1          8                          0.435501            43.525423   \n",
       "           5                          0.280424            49.072671   \n",
       "0          2                          0.280424            49.072671   \n",
       "2          8                          0.111657            70.304375   \n",
       "           2                          0.435501            43.525423   \n",
       "0          0                          0.435501            43.525423   \n",
       "1          4                          0.435501            43.525423   \n",
       "2          4                          0.435501            43.525423   \n",
       "1          9                          0.302557            65.332991   \n",
       "           2                          0.280424            49.072671   \n",
       "0          9                          0.111657            70.304375   \n",
       "           1                          0.238411            73.893389   \n",
       "2          9                          0.435501            43.525423   \n",
       "\n",
       "                       D2N1_inv_lambda_rate  D2N1_energy_coefficient  \\\n",
       "generation individual                                                  \n",
       "0          7                       0.190455                 0.455694   \n",
       "3          7                       0.201024                 0.345062   \n",
       "           5                       0.201024                 0.345062   \n",
       "           3                       0.201024                 0.345062   \n",
       "1          3                       0.201024                 0.345062   \n",
       "3          2                       0.201024                 0.345062   \n",
       "           6                       0.201024                 0.345062   \n",
       "2          5                       0.201024                 0.345062   \n",
       "3          4                       0.201024                 0.345062   \n",
       "2          3                       0.201024                 0.345062   \n",
       "1          8                       0.853569                 0.455694   \n",
       "           5                       0.201024                 0.345062   \n",
       "0          2                       0.201024                 0.345062   \n",
       "2          8                       0.812447                 0.775870   \n",
       "           2                       0.853569                 0.117139   \n",
       "0          0                       0.853569                 0.117139   \n",
       "1          4                       0.853569                 0.117139   \n",
       "2          4                       0.853569                 0.117139   \n",
       "1          9                       0.190455                 0.117139   \n",
       "           2                       0.853569                 0.117139   \n",
       "0          9                       0.812447                 0.775870   \n",
       "           1                       0.072180                 0.565927   \n",
       "2          9                       0.853569                 0.455694   \n",
       "\n",
       "                         fitness  \n",
       "generation individual             \n",
       "0          7            0.268756  \n",
       "3          7            0.306169  \n",
       "           5            0.306169  \n",
       "           3            0.306169  \n",
       "1          3            0.306169  \n",
       "3          2            0.306169  \n",
       "           6            0.306169  \n",
       "2          5            0.306169  \n",
       "3          4            0.306169  \n",
       "2          3            0.306169  \n",
       "1          8            0.314712  \n",
       "           5            0.355429  \n",
       "0          2            0.355429  \n",
       "2          8            0.369582  \n",
       "           2            0.394013  \n",
       "0          0            0.394013  \n",
       "1          4            0.394013  \n",
       "2          4            0.394013  \n",
       "1          9            0.414898  \n",
       "           2            0.460265  \n",
       "0          9            0.797224  \n",
       "           1            5.627350  \n",
       "2          9           22.416668  "
      ]
     },
     "execution_count": 16,
     "metadata": {},
     "output_type": "execute_result"
    }
   ],
   "source": [
    "viewer.hall_of_fame"
   ]
  },
  {
   "cell_type": "code",
   "execution_count": 17,
   "metadata": {},
   "outputs": [
    {
     "data": {
      "application/vnd.plotly.v1+json": {
       "config": {
        "plotlyServerURL": "https://plot.ly"
       },
       "data": [
        {
         "alignmentgroup": "True",
         "boxpoints": false,
         "hovertemplate": "generation=%{x}<br>fitness=%{y}<extra></extra>",
         "legendgroup": "",
         "marker": {
          "color": "#636efa"
         },
         "name": "",
         "notched": false,
         "offsetgroup": "",
         "orientation": "v",
         "showlegend": false,
         "type": "box",
         "x": [
          0,
          0,
          0,
          0,
          0,
          1,
          1,
          1,
          1,
          1,
          1,
          1,
          1,
          1,
          1,
          2,
          2,
          2,
          2,
          2,
          2,
          2,
          2,
          2,
          2,
          3,
          3,
          3,
          3,
          3,
          3,
          3,
          3,
          3,
          3
         ],
         "x0": " ",
         "xaxis": "x",
         "y": [
          0.39401333270103756,
          5.627349862260562,
          0.3554285785145449,
          0.26875597036886706,
          0.7972235589339475,
          0.4602650954663642,
          0.3061689097861296,
          0.3940133327032323,
          0.3554285761287893,
          0.3147124482130735,
          0.41489836393489954,
          5.627349862260562,
          0.39401333270103756,
          0.7972235589339475,
          0.7972235589339475,
          0.394013328799855,
          0.30616891303690474,
          0.3940133327032323,
          0.3061689097861296,
          0.36958164925233955,
          22.416667792644468,
          0.3061689097861296,
          0.3061689097861296,
          0.3061689097861296,
          0.4602650954663642,
          0.3061689097861296,
          0.3061689097861296,
          0.30616891303690474,
          0.3061689097861296,
          0.3061689097861296,
          0.3061689097861296,
          0.3061689097861296,
          0.30616891303690474,
          0.3061689097861296,
          0.3061689097861296
         ],
         "y0": " ",
         "yaxis": "y"
        },
        {
         "line": {
          "color": "rgba(0,0,0,0.5)",
          "dash": "dash",
          "width": 2
         },
         "mode": "lines",
         "name": "Median",
         "type": "scatter",
         "x": [
          0,
          1,
          2,
          3
         ],
         "y": [
          0.39401333270103756,
          0.4044558483190659,
          0.3378752811446222,
          0.3061689097861296
         ]
        },
        {
         "line": {
          "color": "rgba(0,0,0,0.5)",
          "dash": "dash",
          "width": 2
         },
         "mode": "lines",
         "name": "Minimum",
         "type": "scatter",
         "x": [
          0,
          1,
          2,
          3
         ],
         "y": [
          0.26875597036886706,
          0.3061689097861296,
          0.3061689097861296,
          0.3061689097861296
         ]
        }
       ],
       "layout": {
        "boxmode": "group",
        "legend": {
         "tracegroupgap": 0
        },
        "margin": {
         "t": 60
        },
        "template": {
         "data": {
          "bar": [
           {
            "error_x": {
             "color": "#2a3f5f"
            },
            "error_y": {
             "color": "#2a3f5f"
            },
            "marker": {
             "line": {
              "color": "#E5ECF6",
              "width": 0.5
             },
             "pattern": {
              "fillmode": "overlay",
              "size": 10,
              "solidity": 0.2
             }
            },
            "type": "bar"
           }
          ],
          "barpolar": [
           {
            "marker": {
             "line": {
              "color": "#E5ECF6",
              "width": 0.5
             },
             "pattern": {
              "fillmode": "overlay",
              "size": 10,
              "solidity": 0.2
             }
            },
            "type": "barpolar"
           }
          ],
          "carpet": [
           {
            "aaxis": {
             "endlinecolor": "#2a3f5f",
             "gridcolor": "white",
             "linecolor": "white",
             "minorgridcolor": "white",
             "startlinecolor": "#2a3f5f"
            },
            "baxis": {
             "endlinecolor": "#2a3f5f",
             "gridcolor": "white",
             "linecolor": "white",
             "minorgridcolor": "white",
             "startlinecolor": "#2a3f5f"
            },
            "type": "carpet"
           }
          ],
          "choropleth": [
           {
            "colorbar": {
             "outlinewidth": 0,
             "ticks": ""
            },
            "type": "choropleth"
           }
          ],
          "contour": [
           {
            "colorbar": {
             "outlinewidth": 0,
             "ticks": ""
            },
            "colorscale": [
             [
              0,
              "#0d0887"
             ],
             [
              0.1111111111111111,
              "#46039f"
             ],
             [
              0.2222222222222222,
              "#7201a8"
             ],
             [
              0.3333333333333333,
              "#9c179e"
             ],
             [
              0.4444444444444444,
              "#bd3786"
             ],
             [
              0.5555555555555556,
              "#d8576b"
             ],
             [
              0.6666666666666666,
              "#ed7953"
             ],
             [
              0.7777777777777778,
              "#fb9f3a"
             ],
             [
              0.8888888888888888,
              "#fdca26"
             ],
             [
              1,
              "#f0f921"
             ]
            ],
            "type": "contour"
           }
          ],
          "contourcarpet": [
           {
            "colorbar": {
             "outlinewidth": 0,
             "ticks": ""
            },
            "type": "contourcarpet"
           }
          ],
          "heatmap": [
           {
            "colorbar": {
             "outlinewidth": 0,
             "ticks": ""
            },
            "colorscale": [
             [
              0,
              "#0d0887"
             ],
             [
              0.1111111111111111,
              "#46039f"
             ],
             [
              0.2222222222222222,
              "#7201a8"
             ],
             [
              0.3333333333333333,
              "#9c179e"
             ],
             [
              0.4444444444444444,
              "#bd3786"
             ],
             [
              0.5555555555555556,
              "#d8576b"
             ],
             [
              0.6666666666666666,
              "#ed7953"
             ],
             [
              0.7777777777777778,
              "#fb9f3a"
             ],
             [
              0.8888888888888888,
              "#fdca26"
             ],
             [
              1,
              "#f0f921"
             ]
            ],
            "type": "heatmap"
           }
          ],
          "heatmapgl": [
           {
            "colorbar": {
             "outlinewidth": 0,
             "ticks": ""
            },
            "colorscale": [
             [
              0,
              "#0d0887"
             ],
             [
              0.1111111111111111,
              "#46039f"
             ],
             [
              0.2222222222222222,
              "#7201a8"
             ],
             [
              0.3333333333333333,
              "#9c179e"
             ],
             [
              0.4444444444444444,
              "#bd3786"
             ],
             [
              0.5555555555555556,
              "#d8576b"
             ],
             [
              0.6666666666666666,
              "#ed7953"
             ],
             [
              0.7777777777777778,
              "#fb9f3a"
             ],
             [
              0.8888888888888888,
              "#fdca26"
             ],
             [
              1,
              "#f0f921"
             ]
            ],
            "type": "heatmapgl"
           }
          ],
          "histogram": [
           {
            "marker": {
             "pattern": {
              "fillmode": "overlay",
              "size": 10,
              "solidity": 0.2
             }
            },
            "type": "histogram"
           }
          ],
          "histogram2d": [
           {
            "colorbar": {
             "outlinewidth": 0,
             "ticks": ""
            },
            "colorscale": [
             [
              0,
              "#0d0887"
             ],
             [
              0.1111111111111111,
              "#46039f"
             ],
             [
              0.2222222222222222,
              "#7201a8"
             ],
             [
              0.3333333333333333,
              "#9c179e"
             ],
             [
              0.4444444444444444,
              "#bd3786"
             ],
             [
              0.5555555555555556,
              "#d8576b"
             ],
             [
              0.6666666666666666,
              "#ed7953"
             ],
             [
              0.7777777777777778,
              "#fb9f3a"
             ],
             [
              0.8888888888888888,
              "#fdca26"
             ],
             [
              1,
              "#f0f921"
             ]
            ],
            "type": "histogram2d"
           }
          ],
          "histogram2dcontour": [
           {
            "colorbar": {
             "outlinewidth": 0,
             "ticks": ""
            },
            "colorscale": [
             [
              0,
              "#0d0887"
             ],
             [
              0.1111111111111111,
              "#46039f"
             ],
             [
              0.2222222222222222,
              "#7201a8"
             ],
             [
              0.3333333333333333,
              "#9c179e"
             ],
             [
              0.4444444444444444,
              "#bd3786"
             ],
             [
              0.5555555555555556,
              "#d8576b"
             ],
             [
              0.6666666666666666,
              "#ed7953"
             ],
             [
              0.7777777777777778,
              "#fb9f3a"
             ],
             [
              0.8888888888888888,
              "#fdca26"
             ],
             [
              1,
              "#f0f921"
             ]
            ],
            "type": "histogram2dcontour"
           }
          ],
          "mesh3d": [
           {
            "colorbar": {
             "outlinewidth": 0,
             "ticks": ""
            },
            "type": "mesh3d"
           }
          ],
          "parcoords": [
           {
            "line": {
             "colorbar": {
              "outlinewidth": 0,
              "ticks": ""
             }
            },
            "type": "parcoords"
           }
          ],
          "pie": [
           {
            "automargin": true,
            "type": "pie"
           }
          ],
          "scatter": [
           {
            "fillpattern": {
             "fillmode": "overlay",
             "size": 10,
             "solidity": 0.2
            },
            "type": "scatter"
           }
          ],
          "scatter3d": [
           {
            "line": {
             "colorbar": {
              "outlinewidth": 0,
              "ticks": ""
             }
            },
            "marker": {
             "colorbar": {
              "outlinewidth": 0,
              "ticks": ""
             }
            },
            "type": "scatter3d"
           }
          ],
          "scattercarpet": [
           {
            "marker": {
             "colorbar": {
              "outlinewidth": 0,
              "ticks": ""
             }
            },
            "type": "scattercarpet"
           }
          ],
          "scattergeo": [
           {
            "marker": {
             "colorbar": {
              "outlinewidth": 0,
              "ticks": ""
             }
            },
            "type": "scattergeo"
           }
          ],
          "scattergl": [
           {
            "marker": {
             "colorbar": {
              "outlinewidth": 0,
              "ticks": ""
             }
            },
            "type": "scattergl"
           }
          ],
          "scattermapbox": [
           {
            "marker": {
             "colorbar": {
              "outlinewidth": 0,
              "ticks": ""
             }
            },
            "type": "scattermapbox"
           }
          ],
          "scatterpolar": [
           {
            "marker": {
             "colorbar": {
              "outlinewidth": 0,
              "ticks": ""
             }
            },
            "type": "scatterpolar"
           }
          ],
          "scatterpolargl": [
           {
            "marker": {
             "colorbar": {
              "outlinewidth": 0,
              "ticks": ""
             }
            },
            "type": "scatterpolargl"
           }
          ],
          "scatterternary": [
           {
            "marker": {
             "colorbar": {
              "outlinewidth": 0,
              "ticks": ""
             }
            },
            "type": "scatterternary"
           }
          ],
          "surface": [
           {
            "colorbar": {
             "outlinewidth": 0,
             "ticks": ""
            },
            "colorscale": [
             [
              0,
              "#0d0887"
             ],
             [
              0.1111111111111111,
              "#46039f"
             ],
             [
              0.2222222222222222,
              "#7201a8"
             ],
             [
              0.3333333333333333,
              "#9c179e"
             ],
             [
              0.4444444444444444,
              "#bd3786"
             ],
             [
              0.5555555555555556,
              "#d8576b"
             ],
             [
              0.6666666666666666,
              "#ed7953"
             ],
             [
              0.7777777777777778,
              "#fb9f3a"
             ],
             [
              0.8888888888888888,
              "#fdca26"
             ],
             [
              1,
              "#f0f921"
             ]
            ],
            "type": "surface"
           }
          ],
          "table": [
           {
            "cells": {
             "fill": {
              "color": "#EBF0F8"
             },
             "line": {
              "color": "white"
             }
            },
            "header": {
             "fill": {
              "color": "#C8D4E3"
             },
             "line": {
              "color": "white"
             }
            },
            "type": "table"
           }
          ]
         },
         "layout": {
          "annotationdefaults": {
           "arrowcolor": "#2a3f5f",
           "arrowhead": 0,
           "arrowwidth": 1
          },
          "autotypenumbers": "strict",
          "coloraxis": {
           "colorbar": {
            "outlinewidth": 0,
            "ticks": ""
           }
          },
          "colorscale": {
           "diverging": [
            [
             0,
             "#8e0152"
            ],
            [
             0.1,
             "#c51b7d"
            ],
            [
             0.2,
             "#de77ae"
            ],
            [
             0.3,
             "#f1b6da"
            ],
            [
             0.4,
             "#fde0ef"
            ],
            [
             0.5,
             "#f7f7f7"
            ],
            [
             0.6,
             "#e6f5d0"
            ],
            [
             0.7,
             "#b8e186"
            ],
            [
             0.8,
             "#7fbc41"
            ],
            [
             0.9,
             "#4d9221"
            ],
            [
             1,
             "#276419"
            ]
           ],
           "sequential": [
            [
             0,
             "#0d0887"
            ],
            [
             0.1111111111111111,
             "#46039f"
            ],
            [
             0.2222222222222222,
             "#7201a8"
            ],
            [
             0.3333333333333333,
             "#9c179e"
            ],
            [
             0.4444444444444444,
             "#bd3786"
            ],
            [
             0.5555555555555556,
             "#d8576b"
            ],
            [
             0.6666666666666666,
             "#ed7953"
            ],
            [
             0.7777777777777778,
             "#fb9f3a"
            ],
            [
             0.8888888888888888,
             "#fdca26"
            ],
            [
             1,
             "#f0f921"
            ]
           ],
           "sequentialminus": [
            [
             0,
             "#0d0887"
            ],
            [
             0.1111111111111111,
             "#46039f"
            ],
            [
             0.2222222222222222,
             "#7201a8"
            ],
            [
             0.3333333333333333,
             "#9c179e"
            ],
            [
             0.4444444444444444,
             "#bd3786"
            ],
            [
             0.5555555555555556,
             "#d8576b"
            ],
            [
             0.6666666666666666,
             "#ed7953"
            ],
            [
             0.7777777777777778,
             "#fb9f3a"
            ],
            [
             0.8888888888888888,
             "#fdca26"
            ],
            [
             1,
             "#f0f921"
            ]
           ]
          },
          "colorway": [
           "#636efa",
           "#EF553B",
           "#00cc96",
           "#ab63fa",
           "#FFA15A",
           "#19d3f3",
           "#FF6692",
           "#B6E880",
           "#FF97FF",
           "#FECB52"
          ],
          "font": {
           "color": "#2a3f5f"
          },
          "geo": {
           "bgcolor": "white",
           "lakecolor": "white",
           "landcolor": "#E5ECF6",
           "showlakes": true,
           "showland": true,
           "subunitcolor": "white"
          },
          "hoverlabel": {
           "align": "left"
          },
          "hovermode": "closest",
          "mapbox": {
           "style": "light"
          },
          "paper_bgcolor": "white",
          "plot_bgcolor": "#E5ECF6",
          "polar": {
           "angularaxis": {
            "gridcolor": "white",
            "linecolor": "white",
            "ticks": ""
           },
           "bgcolor": "#E5ECF6",
           "radialaxis": {
            "gridcolor": "white",
            "linecolor": "white",
            "ticks": ""
           }
          },
          "scene": {
           "xaxis": {
            "backgroundcolor": "#E5ECF6",
            "gridcolor": "white",
            "gridwidth": 2,
            "linecolor": "white",
            "showbackground": true,
            "ticks": "",
            "zerolinecolor": "white"
           },
           "yaxis": {
            "backgroundcolor": "#E5ECF6",
            "gridcolor": "white",
            "gridwidth": 2,
            "linecolor": "white",
            "showbackground": true,
            "ticks": "",
            "zerolinecolor": "white"
           },
           "zaxis": {
            "backgroundcolor": "#E5ECF6",
            "gridcolor": "white",
            "gridwidth": 2,
            "linecolor": "white",
            "showbackground": true,
            "ticks": "",
            "zerolinecolor": "white"
           }
          },
          "shapedefaults": {
           "line": {
            "color": "#2a3f5f"
           }
          },
          "ternary": {
           "aaxis": {
            "gridcolor": "white",
            "linecolor": "white",
            "ticks": ""
           },
           "baxis": {
            "gridcolor": "white",
            "linecolor": "white",
            "ticks": ""
           },
           "bgcolor": "#E5ECF6",
           "caxis": {
            "gridcolor": "white",
            "linecolor": "white",
            "ticks": ""
           }
          },
          "title": {
           "x": 0.05
          },
          "xaxis": {
           "automargin": true,
           "gridcolor": "white",
           "linecolor": "white",
           "ticks": "",
           "title": {
            "standoff": 15
           },
           "zerolinecolor": "white",
           "zerolinewidth": 2
          },
          "yaxis": {
           "automargin": true,
           "gridcolor": "white",
           "linecolor": "white",
           "ticks": "",
           "title": {
            "standoff": 15
           },
           "zerolinecolor": "white",
           "zerolinewidth": 2
          }
         }
        },
        "title": {
         "text": "Fitness evolution"
        },
        "xaxis": {
         "anchor": "y",
         "domain": [
          0,
          1
         ],
         "title": {
          "text": "generation"
         }
        },
        "yaxis": {
         "anchor": "x",
         "domain": [
          0,
          1
         ],
         "title": {
          "text": "fitness"
         },
         "type": "log"
        }
       }
      }
     },
     "metadata": {},
     "output_type": "display_data"
    }
   ],
   "source": [
    "viewer.fitness_evolution()"
   ]
  },
  {
   "cell_type": "code",
   "execution_count": 18,
   "metadata": {},
   "outputs": [
    {
     "data": {
      "application/vnd.plotly.v1+json": {
       "config": {
        "plotlyServerURL": "https://plot.ly"
       },
       "data": [
        {
         "alignmentgroup": "True",
         "hovertemplate": "D1N1_inv_lambda_max=%{y}<extra></extra>",
         "legendgroup": "",
         "marker": {
          "color": "#636efa"
         },
         "name": "",
         "notched": false,
         "offsetgroup": "",
         "orientation": "v",
         "showlegend": false,
         "type": "box",
         "x0": " ",
         "xaxis": "x",
         "y": [
          25.35181838827043,
          29.158664588131987,
          29.158664588131987,
          29.158664588131987,
          29.158664588131987,
          29.158664588131987,
          29.158664588131987,
          29.158664588131987,
          19.55300028633532,
          19.55300028633532,
          25.35181838827043,
          29.158664588131987,
          29.158664588131987,
          25.35181838827043,
          29.158664588131987,
          19.55300028633532,
          19.55300028633532,
          19.55300028633532,
          19.55300028633532,
          19.55300028633532,
          96.06815856678439,
          69.49828972872174,
          96.06815856678439
         ],
         "y0": " ",
         "yaxis": "y"
        },
        {
         "alignmentgroup": "True",
         "hovertemplate": "D1N1_inv_lambda_rate=%{y}<extra></extra>",
         "legendgroup": "",
         "marker": {
          "color": "#636efa"
         },
         "name": "",
         "notched": false,
         "offsetgroup": "",
         "orientation": "v",
         "showlegend": false,
         "type": "box",
         "x0": " ",
         "xaxis": "x2",
         "y": [
          0.5473308515949694,
          0.3237148476503867,
          0.3237148476503867,
          0.3237148476503867,
          0.3237148476503867,
          0.3237148476503867,
          0.3237148476503867,
          0.3237148476503867,
          0.3237148476503867,
          0.3237148476503867,
          0.5473308515949694,
          0.3237148476503867,
          0.35270963941013656,
          0.5473308515949694,
          0.3237148476503867,
          0.3237148476503867,
          0.35270963941013656,
          0.35270963941013656,
          0.3237148476503867,
          0.35270963941013656,
          0.05400630229254899,
          0.336313910586297,
          0.05400630229254899
         ],
         "y0": " ",
         "yaxis": "y2"
        },
        {
         "alignmentgroup": "True",
         "hovertemplate": "D1N1_energy_coefficient=%{y}<extra></extra>",
         "legendgroup": "",
         "marker": {
          "color": "#636efa"
         },
         "name": "",
         "notched": false,
         "offsetgroup": "",
         "orientation": "v",
         "showlegend": false,
         "type": "box",
         "x0": " ",
         "xaxis": "x3",
         "y": [
          0.30255719487033517,
          0.43550119118485975,
          0.43550119118485975,
          0.43550119118485975,
          0.43550119118485975,
          0.43550119118485975,
          0.43550119118485975,
          0.43550119118485975,
          0.43550119118485975,
          0.43550119118485975,
          0.43550119118485975,
          0.28042404633481927,
          0.28042404633481927,
          0.11165709823830659,
          0.43550119118485975,
          0.43550119118485975,
          0.43550119118485975,
          0.43550119118485975,
          0.30255719487033517,
          0.28042404633481927,
          0.11165709823830659,
          0.23841057149021322,
          0.43550119118485975
         ],
         "y0": " ",
         "yaxis": "y3"
        },
        {
         "alignmentgroup": "True",
         "hovertemplate": "D2N1_inv_lambda_max=%{y}<extra></extra>",
         "legendgroup": "",
         "marker": {
          "color": "#636efa"
         },
         "name": "",
         "notched": false,
         "offsetgroup": "",
         "orientation": "v",
         "showlegend": false,
         "type": "box",
         "x0": " ",
         "xaxis": "x4",
         "y": [
          65.33299089760416,
          43.52542288841642,
          43.52542288841642,
          43.52542288841642,
          43.52542288841642,
          43.52542288841642,
          43.52542288841642,
          43.52542288841642,
          43.52542288841642,
          43.52542288841642,
          43.52542288841642,
          49.072670687370824,
          49.072670687370824,
          70.304375138725,
          43.52542288841642,
          43.52542288841642,
          43.52542288841642,
          43.52542288841642,
          65.33299089760416,
          49.072670687370824,
          70.304375138725,
          73.89338883320757,
          43.52542288841642
         ],
         "y0": " ",
         "yaxis": "y4"
        },
        {
         "alignmentgroup": "True",
         "hovertemplate": "D2N1_inv_lambda_rate=%{y}<extra></extra>",
         "legendgroup": "",
         "marker": {
          "color": "#636efa"
         },
         "name": "",
         "notched": false,
         "offsetgroup": "",
         "orientation": "v",
         "showlegend": false,
         "type": "box",
         "x0": " ",
         "xaxis": "x5",
         "y": [
          0.19045469117709635,
          0.20102353872888568,
          0.20102353872888568,
          0.20102353872888568,
          0.20102353872888568,
          0.20102353872888568,
          0.20102353872888568,
          0.20102353872888568,
          0.20102353872888568,
          0.20102353872888568,
          0.8535691081231276,
          0.20102353872888568,
          0.20102353872888568,
          0.8124469243576165,
          0.8535691081231276,
          0.8535691081231276,
          0.8535691081231276,
          0.8535691081231276,
          0.19045469117709635,
          0.8535691081231276,
          0.8124469243576165,
          0.07217999655569729,
          0.8535691081231276
         ],
         "y0": " ",
         "yaxis": "y5"
        },
        {
         "alignmentgroup": "True",
         "hovertemplate": "D2N1_energy_coefficient=%{y}<extra></extra>",
         "legendgroup": "",
         "marker": {
          "color": "#636efa"
         },
         "name": "",
         "notched": false,
         "offsetgroup": "",
         "orientation": "v",
         "showlegend": false,
         "type": "box",
         "x0": " ",
         "xaxis": "x6",
         "y": [
          0.45569424291831473,
          0.34506231253688274,
          0.34506231253688274,
          0.34506231253688274,
          0.34506231253688274,
          0.34506231253688274,
          0.34506231253688274,
          0.34506231253688274,
          0.34506231253688274,
          0.34506231253688274,
          0.45569424291831473,
          0.34506231253688274,
          0.34506231253688274,
          0.7758698524180281,
          0.11713905388096317,
          0.11713905388096317,
          0.11713905388096317,
          0.11713905388096317,
          0.11713905388096317,
          0.11713905388096317,
          0.7758698524180281,
          0.5659271626404946,
          0.45569424291831473
         ],
         "y0": " ",
         "yaxis": "y6"
        }
       ],
       "layout": {
        "annotations": [
         {
          "font": {
           "size": 16
          },
          "showarrow": false,
          "text": "D1N1_inv_lambda_max",
          "x": 0.13333333333333333,
          "xanchor": "center",
          "xref": "paper",
          "y": 1,
          "yanchor": "bottom",
          "yref": "paper"
         },
         {
          "font": {
           "size": 16
          },
          "showarrow": false,
          "text": "D1N1_inv_lambda_rate",
          "x": 0.5,
          "xanchor": "center",
          "xref": "paper",
          "y": 1,
          "yanchor": "bottom",
          "yref": "paper"
         },
         {
          "font": {
           "size": 16
          },
          "showarrow": false,
          "text": "D1N1_energy_coefficient",
          "x": 0.8666666666666667,
          "xanchor": "center",
          "xref": "paper",
          "y": 1,
          "yanchor": "bottom",
          "yref": "paper"
         },
         {
          "font": {
           "size": 16
          },
          "showarrow": false,
          "text": "D2N1_inv_lambda_max",
          "x": 0.13333333333333333,
          "xanchor": "center",
          "xref": "paper",
          "y": 0.45,
          "yanchor": "bottom",
          "yref": "paper"
         },
         {
          "font": {
           "size": 16
          },
          "showarrow": false,
          "text": "D2N1_inv_lambda_rate",
          "x": 0.5,
          "xanchor": "center",
          "xref": "paper",
          "y": 0.45,
          "yanchor": "bottom",
          "yref": "paper"
         },
         {
          "font": {
           "size": 16
          },
          "showarrow": false,
          "text": "D2N1_energy_coefficient",
          "x": 0.8666666666666667,
          "xanchor": "center",
          "xref": "paper",
          "y": 0.45,
          "yanchor": "bottom",
          "yref": "paper"
         }
        ],
        "height": 600,
        "template": {
         "data": {
          "bar": [
           {
            "error_x": {
             "color": "#2a3f5f"
            },
            "error_y": {
             "color": "#2a3f5f"
            },
            "marker": {
             "line": {
              "color": "#E5ECF6",
              "width": 0.5
             },
             "pattern": {
              "fillmode": "overlay",
              "size": 10,
              "solidity": 0.2
             }
            },
            "type": "bar"
           }
          ],
          "barpolar": [
           {
            "marker": {
             "line": {
              "color": "#E5ECF6",
              "width": 0.5
             },
             "pattern": {
              "fillmode": "overlay",
              "size": 10,
              "solidity": 0.2
             }
            },
            "type": "barpolar"
           }
          ],
          "carpet": [
           {
            "aaxis": {
             "endlinecolor": "#2a3f5f",
             "gridcolor": "white",
             "linecolor": "white",
             "minorgridcolor": "white",
             "startlinecolor": "#2a3f5f"
            },
            "baxis": {
             "endlinecolor": "#2a3f5f",
             "gridcolor": "white",
             "linecolor": "white",
             "minorgridcolor": "white",
             "startlinecolor": "#2a3f5f"
            },
            "type": "carpet"
           }
          ],
          "choropleth": [
           {
            "colorbar": {
             "outlinewidth": 0,
             "ticks": ""
            },
            "type": "choropleth"
           }
          ],
          "contour": [
           {
            "colorbar": {
             "outlinewidth": 0,
             "ticks": ""
            },
            "colorscale": [
             [
              0,
              "#0d0887"
             ],
             [
              0.1111111111111111,
              "#46039f"
             ],
             [
              0.2222222222222222,
              "#7201a8"
             ],
             [
              0.3333333333333333,
              "#9c179e"
             ],
             [
              0.4444444444444444,
              "#bd3786"
             ],
             [
              0.5555555555555556,
              "#d8576b"
             ],
             [
              0.6666666666666666,
              "#ed7953"
             ],
             [
              0.7777777777777778,
              "#fb9f3a"
             ],
             [
              0.8888888888888888,
              "#fdca26"
             ],
             [
              1,
              "#f0f921"
             ]
            ],
            "type": "contour"
           }
          ],
          "contourcarpet": [
           {
            "colorbar": {
             "outlinewidth": 0,
             "ticks": ""
            },
            "type": "contourcarpet"
           }
          ],
          "heatmap": [
           {
            "colorbar": {
             "outlinewidth": 0,
             "ticks": ""
            },
            "colorscale": [
             [
              0,
              "#0d0887"
             ],
             [
              0.1111111111111111,
              "#46039f"
             ],
             [
              0.2222222222222222,
              "#7201a8"
             ],
             [
              0.3333333333333333,
              "#9c179e"
             ],
             [
              0.4444444444444444,
              "#bd3786"
             ],
             [
              0.5555555555555556,
              "#d8576b"
             ],
             [
              0.6666666666666666,
              "#ed7953"
             ],
             [
              0.7777777777777778,
              "#fb9f3a"
             ],
             [
              0.8888888888888888,
              "#fdca26"
             ],
             [
              1,
              "#f0f921"
             ]
            ],
            "type": "heatmap"
           }
          ],
          "heatmapgl": [
           {
            "colorbar": {
             "outlinewidth": 0,
             "ticks": ""
            },
            "colorscale": [
             [
              0,
              "#0d0887"
             ],
             [
              0.1111111111111111,
              "#46039f"
             ],
             [
              0.2222222222222222,
              "#7201a8"
             ],
             [
              0.3333333333333333,
              "#9c179e"
             ],
             [
              0.4444444444444444,
              "#bd3786"
             ],
             [
              0.5555555555555556,
              "#d8576b"
             ],
             [
              0.6666666666666666,
              "#ed7953"
             ],
             [
              0.7777777777777778,
              "#fb9f3a"
             ],
             [
              0.8888888888888888,
              "#fdca26"
             ],
             [
              1,
              "#f0f921"
             ]
            ],
            "type": "heatmapgl"
           }
          ],
          "histogram": [
           {
            "marker": {
             "pattern": {
              "fillmode": "overlay",
              "size": 10,
              "solidity": 0.2
             }
            },
            "type": "histogram"
           }
          ],
          "histogram2d": [
           {
            "colorbar": {
             "outlinewidth": 0,
             "ticks": ""
            },
            "colorscale": [
             [
              0,
              "#0d0887"
             ],
             [
              0.1111111111111111,
              "#46039f"
             ],
             [
              0.2222222222222222,
              "#7201a8"
             ],
             [
              0.3333333333333333,
              "#9c179e"
             ],
             [
              0.4444444444444444,
              "#bd3786"
             ],
             [
              0.5555555555555556,
              "#d8576b"
             ],
             [
              0.6666666666666666,
              "#ed7953"
             ],
             [
              0.7777777777777778,
              "#fb9f3a"
             ],
             [
              0.8888888888888888,
              "#fdca26"
             ],
             [
              1,
              "#f0f921"
             ]
            ],
            "type": "histogram2d"
           }
          ],
          "histogram2dcontour": [
           {
            "colorbar": {
             "outlinewidth": 0,
             "ticks": ""
            },
            "colorscale": [
             [
              0,
              "#0d0887"
             ],
             [
              0.1111111111111111,
              "#46039f"
             ],
             [
              0.2222222222222222,
              "#7201a8"
             ],
             [
              0.3333333333333333,
              "#9c179e"
             ],
             [
              0.4444444444444444,
              "#bd3786"
             ],
             [
              0.5555555555555556,
              "#d8576b"
             ],
             [
              0.6666666666666666,
              "#ed7953"
             ],
             [
              0.7777777777777778,
              "#fb9f3a"
             ],
             [
              0.8888888888888888,
              "#fdca26"
             ],
             [
              1,
              "#f0f921"
             ]
            ],
            "type": "histogram2dcontour"
           }
          ],
          "mesh3d": [
           {
            "colorbar": {
             "outlinewidth": 0,
             "ticks": ""
            },
            "type": "mesh3d"
           }
          ],
          "parcoords": [
           {
            "line": {
             "colorbar": {
              "outlinewidth": 0,
              "ticks": ""
             }
            },
            "type": "parcoords"
           }
          ],
          "pie": [
           {
            "automargin": true,
            "type": "pie"
           }
          ],
          "scatter": [
           {
            "fillpattern": {
             "fillmode": "overlay",
             "size": 10,
             "solidity": 0.2
            },
            "type": "scatter"
           }
          ],
          "scatter3d": [
           {
            "line": {
             "colorbar": {
              "outlinewidth": 0,
              "ticks": ""
             }
            },
            "marker": {
             "colorbar": {
              "outlinewidth": 0,
              "ticks": ""
             }
            },
            "type": "scatter3d"
           }
          ],
          "scattercarpet": [
           {
            "marker": {
             "colorbar": {
              "outlinewidth": 0,
              "ticks": ""
             }
            },
            "type": "scattercarpet"
           }
          ],
          "scattergeo": [
           {
            "marker": {
             "colorbar": {
              "outlinewidth": 0,
              "ticks": ""
             }
            },
            "type": "scattergeo"
           }
          ],
          "scattergl": [
           {
            "marker": {
             "colorbar": {
              "outlinewidth": 0,
              "ticks": ""
             }
            },
            "type": "scattergl"
           }
          ],
          "scattermapbox": [
           {
            "marker": {
             "colorbar": {
              "outlinewidth": 0,
              "ticks": ""
             }
            },
            "type": "scattermapbox"
           }
          ],
          "scatterpolar": [
           {
            "marker": {
             "colorbar": {
              "outlinewidth": 0,
              "ticks": ""
             }
            },
            "type": "scatterpolar"
           }
          ],
          "scatterpolargl": [
           {
            "marker": {
             "colorbar": {
              "outlinewidth": 0,
              "ticks": ""
             }
            },
            "type": "scatterpolargl"
           }
          ],
          "scatterternary": [
           {
            "marker": {
             "colorbar": {
              "outlinewidth": 0,
              "ticks": ""
             }
            },
            "type": "scatterternary"
           }
          ],
          "surface": [
           {
            "colorbar": {
             "outlinewidth": 0,
             "ticks": ""
            },
            "colorscale": [
             [
              0,
              "#0d0887"
             ],
             [
              0.1111111111111111,
              "#46039f"
             ],
             [
              0.2222222222222222,
              "#7201a8"
             ],
             [
              0.3333333333333333,
              "#9c179e"
             ],
             [
              0.4444444444444444,
              "#bd3786"
             ],
             [
              0.5555555555555556,
              "#d8576b"
             ],
             [
              0.6666666666666666,
              "#ed7953"
             ],
             [
              0.7777777777777778,
              "#fb9f3a"
             ],
             [
              0.8888888888888888,
              "#fdca26"
             ],
             [
              1,
              "#f0f921"
             ]
            ],
            "type": "surface"
           }
          ],
          "table": [
           {
            "cells": {
             "fill": {
              "color": "#EBF0F8"
             },
             "line": {
              "color": "white"
             }
            },
            "header": {
             "fill": {
              "color": "#C8D4E3"
             },
             "line": {
              "color": "white"
             }
            },
            "type": "table"
           }
          ]
         },
         "layout": {
          "annotationdefaults": {
           "arrowcolor": "#2a3f5f",
           "arrowhead": 0,
           "arrowwidth": 1
          },
          "autotypenumbers": "strict",
          "coloraxis": {
           "colorbar": {
            "outlinewidth": 0,
            "ticks": ""
           }
          },
          "colorscale": {
           "diverging": [
            [
             0,
             "#8e0152"
            ],
            [
             0.1,
             "#c51b7d"
            ],
            [
             0.2,
             "#de77ae"
            ],
            [
             0.3,
             "#f1b6da"
            ],
            [
             0.4,
             "#fde0ef"
            ],
            [
             0.5,
             "#f7f7f7"
            ],
            [
             0.6,
             "#e6f5d0"
            ],
            [
             0.7,
             "#b8e186"
            ],
            [
             0.8,
             "#7fbc41"
            ],
            [
             0.9,
             "#4d9221"
            ],
            [
             1,
             "#276419"
            ]
           ],
           "sequential": [
            [
             0,
             "#0d0887"
            ],
            [
             0.1111111111111111,
             "#46039f"
            ],
            [
             0.2222222222222222,
             "#7201a8"
            ],
            [
             0.3333333333333333,
             "#9c179e"
            ],
            [
             0.4444444444444444,
             "#bd3786"
            ],
            [
             0.5555555555555556,
             "#d8576b"
            ],
            [
             0.6666666666666666,
             "#ed7953"
            ],
            [
             0.7777777777777778,
             "#fb9f3a"
            ],
            [
             0.8888888888888888,
             "#fdca26"
            ],
            [
             1,
             "#f0f921"
            ]
           ],
           "sequentialminus": [
            [
             0,
             "#0d0887"
            ],
            [
             0.1111111111111111,
             "#46039f"
            ],
            [
             0.2222222222222222,
             "#7201a8"
            ],
            [
             0.3333333333333333,
             "#9c179e"
            ],
            [
             0.4444444444444444,
             "#bd3786"
            ],
            [
             0.5555555555555556,
             "#d8576b"
            ],
            [
             0.6666666666666666,
             "#ed7953"
            ],
            [
             0.7777777777777778,
             "#fb9f3a"
            ],
            [
             0.8888888888888888,
             "#fdca26"
            ],
            [
             1,
             "#f0f921"
            ]
           ]
          },
          "colorway": [
           "#636efa",
           "#EF553B",
           "#00cc96",
           "#ab63fa",
           "#FFA15A",
           "#19d3f3",
           "#FF6692",
           "#B6E880",
           "#FF97FF",
           "#FECB52"
          ],
          "font": {
           "color": "#2a3f5f"
          },
          "geo": {
           "bgcolor": "white",
           "lakecolor": "white",
           "landcolor": "#E5ECF6",
           "showlakes": true,
           "showland": true,
           "subunitcolor": "white"
          },
          "hoverlabel": {
           "align": "left"
          },
          "hovermode": "closest",
          "mapbox": {
           "style": "light"
          },
          "paper_bgcolor": "white",
          "plot_bgcolor": "#E5ECF6",
          "polar": {
           "angularaxis": {
            "gridcolor": "white",
            "linecolor": "white",
            "ticks": ""
           },
           "bgcolor": "#E5ECF6",
           "radialaxis": {
            "gridcolor": "white",
            "linecolor": "white",
            "ticks": ""
           }
          },
          "scene": {
           "xaxis": {
            "backgroundcolor": "#E5ECF6",
            "gridcolor": "white",
            "gridwidth": 2,
            "linecolor": "white",
            "showbackground": true,
            "ticks": "",
            "zerolinecolor": "white"
           },
           "yaxis": {
            "backgroundcolor": "#E5ECF6",
            "gridcolor": "white",
            "gridwidth": 2,
            "linecolor": "white",
            "showbackground": true,
            "ticks": "",
            "zerolinecolor": "white"
           },
           "zaxis": {
            "backgroundcolor": "#E5ECF6",
            "gridcolor": "white",
            "gridwidth": 2,
            "linecolor": "white",
            "showbackground": true,
            "ticks": "",
            "zerolinecolor": "white"
           }
          },
          "shapedefaults": {
           "line": {
            "color": "#2a3f5f"
           }
          },
          "ternary": {
           "aaxis": {
            "gridcolor": "white",
            "linecolor": "white",
            "ticks": ""
           },
           "baxis": {
            "gridcolor": "white",
            "linecolor": "white",
            "ticks": ""
           },
           "bgcolor": "#E5ECF6",
           "caxis": {
            "gridcolor": "white",
            "linecolor": "white",
            "ticks": ""
           }
          },
          "title": {
           "x": 0.05
          },
          "xaxis": {
           "automargin": true,
           "gridcolor": "white",
           "linecolor": "white",
           "ticks": "",
           "title": {
            "standoff": 15
           },
           "zerolinecolor": "white",
           "zerolinewidth": 2
          },
          "yaxis": {
           "automargin": true,
           "gridcolor": "white",
           "linecolor": "white",
           "ticks": "",
           "title": {
            "standoff": 15
           },
           "zerolinecolor": "white",
           "zerolinewidth": 2
          }
         }
        },
        "title": {
         "text": "Parameters distribution"
        },
        "width": 900,
        "xaxis": {
         "anchor": "y",
         "domain": [
          0,
          0.26666666666666666
         ]
        },
        "xaxis2": {
         "anchor": "y2",
         "domain": [
          0.3666666666666667,
          0.6333333333333333
         ]
        },
        "xaxis3": {
         "anchor": "y3",
         "domain": [
          0.7333333333333334,
          1
         ]
        },
        "xaxis4": {
         "anchor": "y4",
         "domain": [
          0,
          0.26666666666666666
         ]
        },
        "xaxis5": {
         "anchor": "y5",
         "domain": [
          0.3666666666666667,
          0.6333333333333333
         ]
        },
        "xaxis6": {
         "anchor": "y6",
         "domain": [
          0.7333333333333334,
          1
         ]
        },
        "yaxis": {
         "anchor": "x",
         "domain": [
          0.55,
          1
         ]
        },
        "yaxis2": {
         "anchor": "x2",
         "domain": [
          0.55,
          1
         ]
        },
        "yaxis3": {
         "anchor": "x3",
         "domain": [
          0.55,
          1
         ]
        },
        "yaxis4": {
         "anchor": "x4",
         "domain": [
          0,
          0.45
         ]
        },
        "yaxis5": {
         "anchor": "x5",
         "domain": [
          0,
          0.45
         ]
        },
        "yaxis6": {
         "anchor": "x6",
         "domain": [
          0,
          0.45
         ]
        }
       }
      }
     },
     "metadata": {},
     "output_type": "display_data"
    }
   ],
   "source": [
    "viewer.box_plot(3)"
   ]
  },
  {
   "cell_type": "code",
   "execution_count": 19,
   "metadata": {},
   "outputs": [
    {
     "data": {
      "application/vnd.plotly.v1+json": {
       "config": {
        "plotlyServerURL": "https://plot.ly"
       },
       "data": [
        {
         "dimensions": [
          {
           "label": "D1N1_inv_lambda_max",
           "range": [
            0,
            100
           ],
           "values": [
            25.35181838827043,
            29.158664588131987,
            29.158664588131987,
            29.158664588131987,
            29.158664588131987,
            29.158664588131987,
            29.158664588131987,
            29.158664588131987,
            19.55300028633532,
            19.55300028633532,
            25.35181838827043,
            29.158664588131987,
            29.158664588131987,
            25.35181838827043,
            29.158664588131987,
            19.55300028633532,
            19.55300028633532,
            19.55300028633532,
            19.55300028633532,
            19.55300028633532,
            96.06815856678439,
            69.49828972872174,
            96.06815856678439
           ]
          },
          {
           "label": "D1N1_inv_lambda_rate",
           "range": [
            0,
            1
           ],
           "values": [
            0.5473308515949694,
            0.3237148476503867,
            0.3237148476503867,
            0.3237148476503867,
            0.3237148476503867,
            0.3237148476503867,
            0.3237148476503867,
            0.3237148476503867,
            0.3237148476503867,
            0.3237148476503867,
            0.5473308515949694,
            0.3237148476503867,
            0.35270963941013656,
            0.5473308515949694,
            0.3237148476503867,
            0.3237148476503867,
            0.35270963941013656,
            0.35270963941013656,
            0.3237148476503867,
            0.35270963941013656,
            0.05400630229254899,
            0.336313910586297,
            0.05400630229254899
           ]
          },
          {
           "label": "D1N1_energy_coefficient",
           "range": [
            0.05,
            0.8
           ],
           "values": [
            0.30255719487033517,
            0.43550119118485975,
            0.43550119118485975,
            0.43550119118485975,
            0.43550119118485975,
            0.43550119118485975,
            0.43550119118485975,
            0.43550119118485975,
            0.43550119118485975,
            0.43550119118485975,
            0.43550119118485975,
            0.28042404633481927,
            0.28042404633481927,
            0.11165709823830659,
            0.43550119118485975,
            0.43550119118485975,
            0.43550119118485975,
            0.43550119118485975,
            0.30255719487033517,
            0.28042404633481927,
            0.11165709823830659,
            0.23841057149021322,
            0.43550119118485975
           ]
          },
          {
           "label": "D2N1_inv_lambda_max",
           "range": [
            0,
            100
           ],
           "values": [
            65.33299089760416,
            43.52542288841642,
            43.52542288841642,
            43.52542288841642,
            43.52542288841642,
            43.52542288841642,
            43.52542288841642,
            43.52542288841642,
            43.52542288841642,
            43.52542288841642,
            43.52542288841642,
            49.072670687370824,
            49.072670687370824,
            70.304375138725,
            43.52542288841642,
            43.52542288841642,
            43.52542288841642,
            43.52542288841642,
            65.33299089760416,
            49.072670687370824,
            70.304375138725,
            73.89338883320757,
            43.52542288841642
           ]
          },
          {
           "label": "D2N1_inv_lambda_rate",
           "range": [
            0,
            1
           ],
           "values": [
            0.19045469117709635,
            0.20102353872888568,
            0.20102353872888568,
            0.20102353872888568,
            0.20102353872888568,
            0.20102353872888568,
            0.20102353872888568,
            0.20102353872888568,
            0.20102353872888568,
            0.20102353872888568,
            0.8535691081231276,
            0.20102353872888568,
            0.20102353872888568,
            0.8124469243576165,
            0.8535691081231276,
            0.8535691081231276,
            0.8535691081231276,
            0.8535691081231276,
            0.19045469117709635,
            0.8535691081231276,
            0.8124469243576165,
            0.07217999655569729,
            0.8535691081231276
           ]
          },
          {
           "label": "D2N1_energy_coefficient",
           "range": [
            0.05,
            0.8
           ],
           "values": [
            0.45569424291831473,
            0.34506231253688274,
            0.34506231253688274,
            0.34506231253688274,
            0.34506231253688274,
            0.34506231253688274,
            0.34506231253688274,
            0.34506231253688274,
            0.34506231253688274,
            0.34506231253688274,
            0.45569424291831473,
            0.34506231253688274,
            0.34506231253688274,
            0.7758698524180281,
            0.11713905388096317,
            0.11713905388096317,
            0.11713905388096317,
            0.11713905388096317,
            0.11713905388096317,
            0.11713905388096317,
            0.7758698524180281,
            0.5659271626404946,
            0.45569424291831473
           ]
          }
         ],
         "line": {
          "color": [
           0.26875597036886706,
           0.3061689097861296,
           0.3061689097861296,
           0.3061689097861296,
           0.3061689097861296,
           0.3061689097861296,
           0.3061689097861296,
           0.3061689097861296,
           0.30616891303690474,
           0.30616891303690474,
           0.3147124482130735,
           0.3554285761287893,
           0.3554285785145449,
           0.36958164925233955,
           0.394013328799855,
           0.39401333270103756,
           0.3940133327032323,
           0.3940133327032323,
           0.41489836393489954,
           0.4602650954663642,
           0.7972235589339475,
           5.627349862260562,
           22.416667792644468
          ],
          "colorbar": {
           "title": {
            "text": "Cost function score"
           }
          },
          "colorscale": [
           [
            0,
            "rgba(220, 80, 80, 0.8)"
           ],
           [
            0.5,
            "rgba(255,200,0,0.5)"
           ],
           [
            1,
            "rgba(255,200,150,0.0)"
           ]
          ],
          "showscale": true
         },
         "type": "parcoords"
        }
       ],
       "layout": {
        "coloraxis": {
         "colorbar": {
          "title": {
           "text": "Fitness"
          }
         }
        },
        "height": 700,
        "template": {
         "data": {
          "bar": [
           {
            "error_x": {
             "color": "#2a3f5f"
            },
            "error_y": {
             "color": "#2a3f5f"
            },
            "marker": {
             "line": {
              "color": "#E5ECF6",
              "width": 0.5
             },
             "pattern": {
              "fillmode": "overlay",
              "size": 10,
              "solidity": 0.2
             }
            },
            "type": "bar"
           }
          ],
          "barpolar": [
           {
            "marker": {
             "line": {
              "color": "#E5ECF6",
              "width": 0.5
             },
             "pattern": {
              "fillmode": "overlay",
              "size": 10,
              "solidity": 0.2
             }
            },
            "type": "barpolar"
           }
          ],
          "carpet": [
           {
            "aaxis": {
             "endlinecolor": "#2a3f5f",
             "gridcolor": "white",
             "linecolor": "white",
             "minorgridcolor": "white",
             "startlinecolor": "#2a3f5f"
            },
            "baxis": {
             "endlinecolor": "#2a3f5f",
             "gridcolor": "white",
             "linecolor": "white",
             "minorgridcolor": "white",
             "startlinecolor": "#2a3f5f"
            },
            "type": "carpet"
           }
          ],
          "choropleth": [
           {
            "colorbar": {
             "outlinewidth": 0,
             "ticks": ""
            },
            "type": "choropleth"
           }
          ],
          "contour": [
           {
            "colorbar": {
             "outlinewidth": 0,
             "ticks": ""
            },
            "colorscale": [
             [
              0,
              "#0d0887"
             ],
             [
              0.1111111111111111,
              "#46039f"
             ],
             [
              0.2222222222222222,
              "#7201a8"
             ],
             [
              0.3333333333333333,
              "#9c179e"
             ],
             [
              0.4444444444444444,
              "#bd3786"
             ],
             [
              0.5555555555555556,
              "#d8576b"
             ],
             [
              0.6666666666666666,
              "#ed7953"
             ],
             [
              0.7777777777777778,
              "#fb9f3a"
             ],
             [
              0.8888888888888888,
              "#fdca26"
             ],
             [
              1,
              "#f0f921"
             ]
            ],
            "type": "contour"
           }
          ],
          "contourcarpet": [
           {
            "colorbar": {
             "outlinewidth": 0,
             "ticks": ""
            },
            "type": "contourcarpet"
           }
          ],
          "heatmap": [
           {
            "colorbar": {
             "outlinewidth": 0,
             "ticks": ""
            },
            "colorscale": [
             [
              0,
              "#0d0887"
             ],
             [
              0.1111111111111111,
              "#46039f"
             ],
             [
              0.2222222222222222,
              "#7201a8"
             ],
             [
              0.3333333333333333,
              "#9c179e"
             ],
             [
              0.4444444444444444,
              "#bd3786"
             ],
             [
              0.5555555555555556,
              "#d8576b"
             ],
             [
              0.6666666666666666,
              "#ed7953"
             ],
             [
              0.7777777777777778,
              "#fb9f3a"
             ],
             [
              0.8888888888888888,
              "#fdca26"
             ],
             [
              1,
              "#f0f921"
             ]
            ],
            "type": "heatmap"
           }
          ],
          "heatmapgl": [
           {
            "colorbar": {
             "outlinewidth": 0,
             "ticks": ""
            },
            "colorscale": [
             [
              0,
              "#0d0887"
             ],
             [
              0.1111111111111111,
              "#46039f"
             ],
             [
              0.2222222222222222,
              "#7201a8"
             ],
             [
              0.3333333333333333,
              "#9c179e"
             ],
             [
              0.4444444444444444,
              "#bd3786"
             ],
             [
              0.5555555555555556,
              "#d8576b"
             ],
             [
              0.6666666666666666,
              "#ed7953"
             ],
             [
              0.7777777777777778,
              "#fb9f3a"
             ],
             [
              0.8888888888888888,
              "#fdca26"
             ],
             [
              1,
              "#f0f921"
             ]
            ],
            "type": "heatmapgl"
           }
          ],
          "histogram": [
           {
            "marker": {
             "pattern": {
              "fillmode": "overlay",
              "size": 10,
              "solidity": 0.2
             }
            },
            "type": "histogram"
           }
          ],
          "histogram2d": [
           {
            "colorbar": {
             "outlinewidth": 0,
             "ticks": ""
            },
            "colorscale": [
             [
              0,
              "#0d0887"
             ],
             [
              0.1111111111111111,
              "#46039f"
             ],
             [
              0.2222222222222222,
              "#7201a8"
             ],
             [
              0.3333333333333333,
              "#9c179e"
             ],
             [
              0.4444444444444444,
              "#bd3786"
             ],
             [
              0.5555555555555556,
              "#d8576b"
             ],
             [
              0.6666666666666666,
              "#ed7953"
             ],
             [
              0.7777777777777778,
              "#fb9f3a"
             ],
             [
              0.8888888888888888,
              "#fdca26"
             ],
             [
              1,
              "#f0f921"
             ]
            ],
            "type": "histogram2d"
           }
          ],
          "histogram2dcontour": [
           {
            "colorbar": {
             "outlinewidth": 0,
             "ticks": ""
            },
            "colorscale": [
             [
              0,
              "#0d0887"
             ],
             [
              0.1111111111111111,
              "#46039f"
             ],
             [
              0.2222222222222222,
              "#7201a8"
             ],
             [
              0.3333333333333333,
              "#9c179e"
             ],
             [
              0.4444444444444444,
              "#bd3786"
             ],
             [
              0.5555555555555556,
              "#d8576b"
             ],
             [
              0.6666666666666666,
              "#ed7953"
             ],
             [
              0.7777777777777778,
              "#fb9f3a"
             ],
             [
              0.8888888888888888,
              "#fdca26"
             ],
             [
              1,
              "#f0f921"
             ]
            ],
            "type": "histogram2dcontour"
           }
          ],
          "mesh3d": [
           {
            "colorbar": {
             "outlinewidth": 0,
             "ticks": ""
            },
            "type": "mesh3d"
           }
          ],
          "parcoords": [
           {
            "line": {
             "colorbar": {
              "outlinewidth": 0,
              "ticks": ""
             }
            },
            "type": "parcoords"
           }
          ],
          "pie": [
           {
            "automargin": true,
            "type": "pie"
           }
          ],
          "scatter": [
           {
            "fillpattern": {
             "fillmode": "overlay",
             "size": 10,
             "solidity": 0.2
            },
            "type": "scatter"
           }
          ],
          "scatter3d": [
           {
            "line": {
             "colorbar": {
              "outlinewidth": 0,
              "ticks": ""
             }
            },
            "marker": {
             "colorbar": {
              "outlinewidth": 0,
              "ticks": ""
             }
            },
            "type": "scatter3d"
           }
          ],
          "scattercarpet": [
           {
            "marker": {
             "colorbar": {
              "outlinewidth": 0,
              "ticks": ""
             }
            },
            "type": "scattercarpet"
           }
          ],
          "scattergeo": [
           {
            "marker": {
             "colorbar": {
              "outlinewidth": 0,
              "ticks": ""
             }
            },
            "type": "scattergeo"
           }
          ],
          "scattergl": [
           {
            "marker": {
             "colorbar": {
              "outlinewidth": 0,
              "ticks": ""
             }
            },
            "type": "scattergl"
           }
          ],
          "scattermapbox": [
           {
            "marker": {
             "colorbar": {
              "outlinewidth": 0,
              "ticks": ""
             }
            },
            "type": "scattermapbox"
           }
          ],
          "scatterpolar": [
           {
            "marker": {
             "colorbar": {
              "outlinewidth": 0,
              "ticks": ""
             }
            },
            "type": "scatterpolar"
           }
          ],
          "scatterpolargl": [
           {
            "marker": {
             "colorbar": {
              "outlinewidth": 0,
              "ticks": ""
             }
            },
            "type": "scatterpolargl"
           }
          ],
          "scatterternary": [
           {
            "marker": {
             "colorbar": {
              "outlinewidth": 0,
              "ticks": ""
             }
            },
            "type": "scatterternary"
           }
          ],
          "surface": [
           {
            "colorbar": {
             "outlinewidth": 0,
             "ticks": ""
            },
            "colorscale": [
             [
              0,
              "#0d0887"
             ],
             [
              0.1111111111111111,
              "#46039f"
             ],
             [
              0.2222222222222222,
              "#7201a8"
             ],
             [
              0.3333333333333333,
              "#9c179e"
             ],
             [
              0.4444444444444444,
              "#bd3786"
             ],
             [
              0.5555555555555556,
              "#d8576b"
             ],
             [
              0.6666666666666666,
              "#ed7953"
             ],
             [
              0.7777777777777778,
              "#fb9f3a"
             ],
             [
              0.8888888888888888,
              "#fdca26"
             ],
             [
              1,
              "#f0f921"
             ]
            ],
            "type": "surface"
           }
          ],
          "table": [
           {
            "cells": {
             "fill": {
              "color": "#EBF0F8"
             },
             "line": {
              "color": "white"
             }
            },
            "header": {
             "fill": {
              "color": "#C8D4E3"
             },
             "line": {
              "color": "white"
             }
            },
            "type": "table"
           }
          ]
         },
         "layout": {
          "annotationdefaults": {
           "arrowcolor": "#2a3f5f",
           "arrowhead": 0,
           "arrowwidth": 1
          },
          "autotypenumbers": "strict",
          "coloraxis": {
           "colorbar": {
            "outlinewidth": 0,
            "ticks": ""
           }
          },
          "colorscale": {
           "diverging": [
            [
             0,
             "#8e0152"
            ],
            [
             0.1,
             "#c51b7d"
            ],
            [
             0.2,
             "#de77ae"
            ],
            [
             0.3,
             "#f1b6da"
            ],
            [
             0.4,
             "#fde0ef"
            ],
            [
             0.5,
             "#f7f7f7"
            ],
            [
             0.6,
             "#e6f5d0"
            ],
            [
             0.7,
             "#b8e186"
            ],
            [
             0.8,
             "#7fbc41"
            ],
            [
             0.9,
             "#4d9221"
            ],
            [
             1,
             "#276419"
            ]
           ],
           "sequential": [
            [
             0,
             "#0d0887"
            ],
            [
             0.1111111111111111,
             "#46039f"
            ],
            [
             0.2222222222222222,
             "#7201a8"
            ],
            [
             0.3333333333333333,
             "#9c179e"
            ],
            [
             0.4444444444444444,
             "#bd3786"
            ],
            [
             0.5555555555555556,
             "#d8576b"
            ],
            [
             0.6666666666666666,
             "#ed7953"
            ],
            [
             0.7777777777777778,
             "#fb9f3a"
            ],
            [
             0.8888888888888888,
             "#fdca26"
            ],
            [
             1,
             "#f0f921"
            ]
           ],
           "sequentialminus": [
            [
             0,
             "#0d0887"
            ],
            [
             0.1111111111111111,
             "#46039f"
            ],
            [
             0.2222222222222222,
             "#7201a8"
            ],
            [
             0.3333333333333333,
             "#9c179e"
            ],
            [
             0.4444444444444444,
             "#bd3786"
            ],
            [
             0.5555555555555556,
             "#d8576b"
            ],
            [
             0.6666666666666666,
             "#ed7953"
            ],
            [
             0.7777777777777778,
             "#fb9f3a"
            ],
            [
             0.8888888888888888,
             "#fdca26"
            ],
            [
             1,
             "#f0f921"
            ]
           ]
          },
          "colorway": [
           "#636efa",
           "#EF553B",
           "#00cc96",
           "#ab63fa",
           "#FFA15A",
           "#19d3f3",
           "#FF6692",
           "#B6E880",
           "#FF97FF",
           "#FECB52"
          ],
          "font": {
           "color": "#2a3f5f"
          },
          "geo": {
           "bgcolor": "white",
           "lakecolor": "white",
           "landcolor": "#E5ECF6",
           "showlakes": true,
           "showland": true,
           "subunitcolor": "white"
          },
          "hoverlabel": {
           "align": "left"
          },
          "hovermode": "closest",
          "mapbox": {
           "style": "light"
          },
          "paper_bgcolor": "white",
          "plot_bgcolor": "#E5ECF6",
          "polar": {
           "angularaxis": {
            "gridcolor": "white",
            "linecolor": "white",
            "ticks": ""
           },
           "bgcolor": "#E5ECF6",
           "radialaxis": {
            "gridcolor": "white",
            "linecolor": "white",
            "ticks": ""
           }
          },
          "scene": {
           "xaxis": {
            "backgroundcolor": "#E5ECF6",
            "gridcolor": "white",
            "gridwidth": 2,
            "linecolor": "white",
            "showbackground": true,
            "ticks": "",
            "zerolinecolor": "white"
           },
           "yaxis": {
            "backgroundcolor": "#E5ECF6",
            "gridcolor": "white",
            "gridwidth": 2,
            "linecolor": "white",
            "showbackground": true,
            "ticks": "",
            "zerolinecolor": "white"
           },
           "zaxis": {
            "backgroundcolor": "#E5ECF6",
            "gridcolor": "white",
            "gridwidth": 2,
            "linecolor": "white",
            "showbackground": true,
            "ticks": "",
            "zerolinecolor": "white"
           }
          },
          "shapedefaults": {
           "line": {
            "color": "#2a3f5f"
           }
          },
          "ternary": {
           "aaxis": {
            "gridcolor": "white",
            "linecolor": "white",
            "ticks": ""
           },
           "baxis": {
            "gridcolor": "white",
            "linecolor": "white",
            "ticks": ""
           },
           "bgcolor": "#E5ECF6",
           "caxis": {
            "gridcolor": "white",
            "linecolor": "white",
            "ticks": ""
           }
          },
          "title": {
           "x": 0.05
          },
          "xaxis": {
           "automargin": true,
           "gridcolor": "white",
           "linecolor": "white",
           "ticks": "",
           "title": {
            "standoff": 15
           },
           "zerolinecolor": "white",
           "zerolinewidth": 2
          },
          "yaxis": {
           "automargin": true,
           "gridcolor": "white",
           "linecolor": "white",
           "ticks": "",
           "title": {
            "standoff": 15
           },
           "zerolinecolor": "white",
           "zerolinewidth": 2
          }
         }
        },
        "title": {
         "text": "Parameters optimization : minimization of the cost function"
        },
        "width": 1000
       }
      }
     },
     "metadata": {},
     "output_type": "display_data"
    }
   ],
   "source": [
    "fig = viewer.parallel_coordinates(\n",
    "    1000,\n",
    "    colorscale=[\n",
    "        [0, \"rgba(220, 80, 80, 0.8)\"],\n",
    "        [0.5, \"rgba(255,200,0,0.5)\"],\n",
    "        [1, \"rgba(255,200,150,0.0)\"],\n",
    "    ],\n",
    ")\n",
    "fig.update_layout(width=1000, height=700)"
   ]
  },
  {
   "cell_type": "code",
   "execution_count": 20,
   "metadata": {},
   "outputs": [
    {
     "name": "stderr",
     "output_type": "stream",
     "text": [
      "\u001b[38;21m2024-12-02 16:35:16,727 :: Seapodym ::  DEBUG ::\n",
      "|\tDirect computation for global_mask_from_nan.\n",
      "\u001b[0m\n",
      "\u001b[38;21m2024-12-02 16:35:16,731 :: Seapodym ::  DEBUG ::\n",
      "|\tDirect computation for mask_by_fgroup.\n",
      "\u001b[0m\n",
      "\u001b[38;21m2024-12-02 16:35:16,738 :: Seapodym ::  DEBUG ::\n",
      "|\tDirect computation for _wrapper_mesh_day_lengths.\n",
      "\u001b[0m\n",
      "\u001b[38;21m2024-12-02 16:35:16,776 :: Seapodym ::  DEBUG ::\n",
      "|\tDirect computation for _average_temperature.\n",
      "\u001b[0m\n",
      "\u001b[38;21m2024-12-02 16:35:16,802 :: Seapodym ::  DEBUG ::\n",
      "|\tDirect computation for _apply_coefficient_to_primary_production_helper.\n",
      "\u001b[0m\n",
      "\u001b[38;21m2024-12-02 16:35:16,809 :: Seapodym ::  DEBUG ::\n",
      "|\tDirect computation for _min_temperature_by_cohort_helper.\n",
      "\u001b[0m\n",
      "\u001b[38;21m2024-12-02 16:35:16,811 :: Seapodym ::  DEBUG ::\n",
      "|\tDirect computation for _mask_temperature_helper.\n",
      "\u001b[0m\n",
      "\u001b[38;21m2024-12-02 16:35:16,822 :: Seapodym ::  DEBUG ::\n",
      "|\tDirect computation for _cell_area_helper.\n",
      "\u001b[0m\n",
      "\u001b[38;21m2024-12-02 16:35:16,844 :: Seapodym ::  DEBUG ::\n",
      "|\tDirect computation for _mortality_field_helper.\n",
      "\u001b[0m\n",
      "\u001b[38;21m2024-12-02 16:35:16,854 :: Seapodym ::  DEBUG ::\n",
      "|\tDirect computation for _production_helper.\n",
      "\u001b[0m\n",
      "\u001b[38;21m2024-12-02 16:35:17,035 :: Seapodym ::  DEBUG ::\n",
      "|\tDirect computation for _biomass_helper.\n",
      "\u001b[0m\n"
     ]
    }
   ],
   "source": [
    "from seapopym_optimization import wrapper\n",
    "\n",
    "model_print = wrapper.model_generator_no_transport(\n",
    "    forcing_parameters=forcing_parameters,\n",
    "    fg_parameters=wrapper.FunctionalGroupGeneratorNoTransport(\n",
    "        [\n",
    "            [10.38, -0.11, 72, 0.09, 1, 1, 0.1],\n",
    "            [10.38, -0.11, 44, 0.18, 2, 1, 0.46],\n",
    "        ],\n",
    "        [\"D1N1\", \"D2N1\"],\n",
    "    ),\n",
    ")\n",
    "\n",
    "model_print.run()\n",
    "biomass_print = model_print.export_biomass()"
   ]
  },
  {
   "cell_type": "code",
   "execution_count": 21,
   "metadata": {},
   "outputs": [
    {
     "name": "stderr",
     "output_type": "stream",
     "text": [
      "/Users/ash/Documents/Workspaces/PhD/Seapopym-optimisation/.venv/lib/python3.12/site-packages/xarray/core/variable.py:341: UnitStrippedWarning:\n",
      "\n",
      "The unit of the quantity is stripped when downcasting to ndarray.\n",
      "\n"
     ]
    },
    {
     "data": {
      "text/plain": [
       "[<matplotlib.lines.Line2D at 0x16d9146b0>]"
      ]
     },
     "execution_count": 21,
     "metadata": {},
     "output_type": "execute_result"
    },
    {
     "data": {
      "image/png": "[encoded data removed]",
      "text/plain": [
       "<Figure size 640x480 with 1 Axes>"
      ]
     },
     "metadata": {},
     "output_type": "display_data"
    }
   ],
   "source": [
    "obs_hot.observation.day.pint.quantify().pint.to(\"g/m2\").plot()\n",
    "biomass_print.sel(latitude=22.75, longitude=-158, functional_group=0).pint.quantify().pint.to(\"g/m2\").plot()"
   ]
  }
 ],
 "metadata": {
  "kernelspec": {
   "display_name": ".venv",
   "language": "python",
   "name": "python3"
  },
  "language_info": {
   "codemirror_mode": {
    "name": "ipython",
    "version": 3
   },
   "file_extension": ".py",
   "mimetype": "text/x-python",
   "name": "python",
   "nbconvert_exporter": "python",
   "pygments_lexer": "ipython3",
   "version": "3.12.5"
  }
 },
 "nbformat": 4,
 "nbformat_minor": 2
}
