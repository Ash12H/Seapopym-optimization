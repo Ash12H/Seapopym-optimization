{
 "cells": [
  {
   "cell_type": "code",
   "execution_count": 2,
   "metadata": {},
   "outputs": [],
   "source": [
    "import ipywidgets as widgets\n",
    "import matplotlib.pyplot as plt\n",
    "import numpy as np\n",
    "import plotly.graph_objects as go\n",
    "from IPython.display import display\n",
    "from plotly.subplots import make_subplots"
   ]
  },
  {
   "cell_type": "code",
   "execution_count": 3,
   "metadata": {},
   "outputs": [],
   "source": [
    "def temperature_recruitement(tr_rate, tr_max):\n",
    "    temperature = np.linspace(0, 50, 100)\n",
    "    return tr_max * np.exp(-tr_rate * temperature)"
   ]
  },
  {
   "cell_type": "code",
   "execution_count": 9,
   "metadata": {},
   "outputs": [
    {
     "data": {
      "application/vnd.jupyter.widget-view+json": {
       "model_id": "427e230b104c4782b9bc6d7b40ce5e74",
       "version_major": 2,
       "version_minor": 0
      },
      "text/plain": [
       "interactive(children=(FloatSlider(value=0.11, description='Rate:', layout=Layout(width='50%'), max=1.0, step=0…"
      ]
     },
     "execution_count": 9,
     "metadata": {},
     "output_type": "execute_result"
    }
   ],
   "source": [
    "# Initial values\n",
    "inv_lambda_rate_init = 0.11\n",
    "inv_lambda_max_init = 10\n",
    "\n",
    "# Generate initial data\n",
    "temperature = np.linspace(0, 50, 100)\n",
    "\n",
    "\n",
    "def update_plot(rate, max_val):\n",
    "    plt.plot(temperature, temperature_recruitement(rate, max_val))\n",
    "    plt.xlabel(\"Temperature (°C)\")\n",
    "    plt.ylabel(\"Temps de recrutement (jours)\")\n",
    "    plt.title(\"Tr\")\n",
    "    plt.grid()\n",
    "    plt.show()\n",
    "\n",
    "\n",
    "# Création des sliders\n",
    "slider_rate_ipy = widgets.FloatSlider(\n",
    "    value=inv_lambda_rate_init,\n",
    "    min=0.0,\n",
    "    max=1,\n",
    "    step=0.01,\n",
    "    description=\"Rate:\",\n",
    "    layout=widgets.Layout(width=\"50%\"),\n",
    ")\n",
    "slider_max_ipy = widgets.IntSlider(\n",
    "    value=inv_lambda_max_init,\n",
    "    min=1,\n",
    "    max=100,\n",
    "    step=1,\n",
    "    description=\"Max:\",\n",
    "    layout=widgets.Layout(width=\"50%\"),\n",
    ")\n",
    "\n",
    "widgets.interactive(update_plot, rate=slider_rate_ipy, max_val=slider_max_ipy)"
   ]
  },
  {
   "cell_type": "code",
   "execution_count": 17,
   "metadata": {},
   "outputs": [
    {
     "data": {
      "text/plain": [
       "-0.8148453047425332"
      ]
     },
     "execution_count": 17,
     "metadata": {},
     "output_type": "execute_result"
    }
   ],
   "source": [
    "import numpy as np\n",
    "import scipy.stats as stats\n",
    "\n",
    "\n",
    "temperature = 20\n",
    "\n",
    "# Générer des échantillons de A et B\n",
    "np.random.seed(42)\n",
    "num_samples = 1000\n",
    "A_samples = np.random.uniform(0, 300, num_samples)  # A varie entre 1 et 10\n",
    "B_samples = np.random.uniform(0, 1, num_samples)  # B varie entre 0 et 1\n",
    "\n",
    "# Calcul des dérivées partielles\n",
    "dY_dA = np.exp(-B_samples * temperature)\n",
    "dY_dB = -temperature * A_samples * np.exp(-temperature * B_samples)\n",
    "\n",
    "# Calcul de la corrélation de Pearson entre dY/dA et dY/dB\n",
    "corr_pearson, _ = stats.pearsonr(dY_dA, dY_dB)\n",
    "corr_pearson"
   ]
  },
  {
   "cell_type": "code",
   "execution_count": null,
   "metadata": {},
   "outputs": [],
   "source": []
  }
 ],
 "metadata": {
  "kernelspec": {
   "display_name": ".venv",
   "language": "python",
   "name": "python3"
  },
  "language_info": {
   "codemirror_mode": {
    "name": "ipython",
    "version": 3
   },
   "file_extension": ".py",
   "mimetype": "text/x-python",
   "name": "python",
   "nbconvert_exporter": "python",
   "pygments_lexer": "ipython3",
   "version": "3.12.8"
  }
 },
 "nbformat": 4,
 "nbformat_minor": 2
}
