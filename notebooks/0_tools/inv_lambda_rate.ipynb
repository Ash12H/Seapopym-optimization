{
 "cells": [
  {
   "cell_type": "code",
   "execution_count": 1,
   "metadata": {},
   "outputs": [],
   "source": [
    "import ipywidgets as widgets\n",
    "import matplotlib.pyplot as plt\n",
    "import numpy as np\n",
    "import plotly.graph_objects as go\n",
    "import scipy.stats as stats\n",
    "import sympy as sp\n",
    "from IPython.display import display\n",
    "from plotly.subplots import make_subplots"
   ]
  },
  {
   "cell_type": "code",
   "execution_count": 2,
   "metadata": {},
   "outputs": [],
   "source": [
    "def mortality(inv_lambda_rate, inv_lambda_max, timestep=1, seapopym=False):\n",
    "    temperature = np.linspace(0, 50, 100)\n",
    "    inv_lambda_ = inv_lambda_max * np.exp(-inv_lambda_rate * temperature)\n",
    "    if seapopym:\n",
    "        return np.exp(-timestep * (1 / inv_lambda_))\n",
    "    return inv_lambda_"
   ]
  },
  {
   "cell_type": "markdown",
   "metadata": {},
   "source": [
    "# Lambda\n"
   ]
  },
  {
   "cell_type": "code",
   "execution_count": 51,
   "metadata": {},
   "outputs": [
    {
     "data": {
      "application/vnd.jupyter.widget-view+json": {
       "model_id": "bfa459fabb5b4aeabbb8ec68091ad469",
       "version_major": 2,
       "version_minor": 0
      },
      "text/plain": [
       "interactive(children=(FloatSlider(value=0.15, description='Rate:', layout=Layout(width='50%'), max=1.0, step=0…"
      ]
     },
     "execution_count": 51,
     "metadata": {},
     "output_type": "execute_result"
    }
   ],
   "source": [
    "# Initial values\n",
    "inv_lambda_rate_init = 0.15\n",
    "inv_lambda_max_init = 150\n",
    "\n",
    "# Generate initial data\n",
    "temperature = np.linspace(0, 50, 100)\n",
    "\n",
    "\n",
    "def update_plot(rate, max_val):\n",
    "    plt.plot(temperature, 1 / mortality(rate, max_val, seapopym=False))\n",
    "    plt.xlabel(\"Temperature (°C)\")\n",
    "    plt.ylabel(\"inv_lambda\")\n",
    "    plt.title(\"Mortality Rate vs Temperature\")\n",
    "    plt.grid()\n",
    "    plt.show()\n",
    "\n",
    "\n",
    "# Création des sliders\n",
    "slider_rate_ipy = widgets.FloatSlider(\n",
    "    value=inv_lambda_rate_init,\n",
    "    min=0.0,\n",
    "    max=1,\n",
    "    step=0.01,\n",
    "    description=\"Rate:\",\n",
    "    layout=widgets.Layout(width=\"50%\"),\n",
    ")\n",
    "slider_max_ipy = widgets.IntSlider(\n",
    "    value=inv_lambda_max_init,\n",
    "    min=1,\n",
    "    max=300,\n",
    "    step=1,\n",
    "    description=\"Max:\",\n",
    "    layout=widgets.Layout(width=\"50%\"),\n",
    ")\n",
    "\n",
    "widgets.interactive(update_plot, rate=slider_rate_ipy, max_val=slider_max_ipy)"
   ]
  },
  {
   "cell_type": "code",
   "execution_count": 4,
   "metadata": {},
   "outputs": [
    {
     "name": "stdout",
     "output_type": "stream",
     "text": [
      "Dérivée partielle par rapport à inv_lambda_max: exp(-inv_lambda_rate*temperature)\n",
      "Dérivée partielle par rapport à inv_lambda_rate: -inv_lambda_max*temperature*exp(-inv_lambda_rate*temperature)\n"
     ]
    }
   ],
   "source": [
    "# Définir les symboles\n",
    "inv_lambda_max, inv_lambda_rate, temperature = sp.symbols(\"inv_lambda_max inv_lambda_rate temperature\")\n",
    "\n",
    "# Définir la fonction\n",
    "Y = inv_lambda_max * sp.exp(-inv_lambda_rate * temperature)\n",
    "\n",
    "# Calcul de la dérivée partielle par rapport à a et b\n",
    "dY_dinv_lambda_max = sp.diff(Y, inv_lambda_max)\n",
    "dY_dinv_lambda_rate = sp.diff(Y, inv_lambda_rate)\n",
    "\n",
    "print(\"Dérivée partielle par rapport à inv_lambda_max:\", dY_dinv_lambda_max)\n",
    "print(\"Dérivée partielle par rapport à inv_lambda_rate:\", dY_dinv_lambda_rate)"
   ]
  },
  {
   "cell_type": "code",
   "execution_count": 53,
   "metadata": {},
   "outputs": [
    {
     "data": {
      "text/plain": [
       "Text(0.5, 1.0, 'Correlation between Rate and Max of 1/Lambda')"
      ]
     },
     "execution_count": 53,
     "metadata": {},
     "output_type": "execute_result"
    },
    {
     "data": {
      "image/png": "[encoded data removed]",
      "text/plain": [
       "<Figure size 640x480 with 1 Axes>"
      ]
     },
     "metadata": {},
     "output_type": "display_data"
    }
   ],
   "source": [
    "# LAMBDA\n",
    "def correlation_by_temperature(temperature):\n",
    "    # Générer des échantillons de A et B\n",
    "    np.random.seed(42)\n",
    "    num_samples = 10000\n",
    "    inv_lambda_max = np.random.uniform(0, 300, num_samples)  # A varie entre 1 et 10\n",
    "    inv_lambda_rate = np.random.uniform(0, 1, num_samples)  # B varie entre 0 et 1\n",
    "\n",
    "    # Calcul des dérivées partielles\n",
    "    dY_dA = np.exp(-inv_lambda_rate * temperature)\n",
    "    dY_dB = -inv_lambda_max * temperature * np.exp(-inv_lambda_rate * temperature)\n",
    "\n",
    "    # Calcul de la corrélation de Pearson entre dY/dA et dY/dB\n",
    "    corr_pearson, _ = stats.pearsonr(dY_dA, dY_dB)\n",
    "    return corr_pearson\n",
    "\n",
    "\n",
    "corr_coef = [correlation_by_temperature(temperature) for temperature in np.linspace(0.1, 30, 100)]\n",
    "plt.plot(corr_coef)\n",
    "plt.xlabel(\"Temperature (°C)\")\n",
    "plt.ylabel(\"Correlation\")\n",
    "plt.title(\"Correlation between Rate and Max of 1/Lambda\")"
   ]
  },
  {
   "cell_type": "markdown",
   "metadata": {},
   "source": [
    "# Ratio survie\n"
   ]
  },
  {
   "cell_type": "code",
   "execution_count": 37,
   "metadata": {},
   "outputs": [
    {
     "data": {
      "application/vnd.jupyter.widget-view+json": {
       "model_id": "c4bbfd6f8de44bdb8a2719dee3a9acc2",
       "version_major": 2,
       "version_minor": 0
      },
      "text/plain": [
       "interactive(children=(FloatSlider(value=0.15, description='Rate:', layout=Layout(width='50%'), max=1.0, step=0…"
      ]
     },
     "execution_count": 37,
     "metadata": {},
     "output_type": "execute_result"
    }
   ],
   "source": [
    "# Initial values\n",
    "inv_lambda_rate_init = 0.15\n",
    "inv_lambda_max_init = 150\n",
    "\n",
    "# Generate initial data\n",
    "temperature = np.linspace(0, 50, 100)\n",
    "\n",
    "\n",
    "def update_plot(rate, max_val):\n",
    "    plt.plot(temperature, mortality(rate, max_val, seapopym=True))\n",
    "    plt.xlabel(\"Temperature (°C)\")\n",
    "    plt.ylabel(\"inv_lambda\")\n",
    "    plt.title(\"Survivability ratio (Seapopym) vs Temperature\")\n",
    "    plt.grid()\n",
    "    plt.show()\n",
    "\n",
    "\n",
    "# Création des sliders\n",
    "slider_rate_ipy = widgets.FloatSlider(\n",
    "    value=inv_lambda_rate_init,\n",
    "    min=0.0,\n",
    "    max=1,\n",
    "    step=0.01,\n",
    "    description=\"Rate:\",\n",
    "    layout=widgets.Layout(width=\"50%\"),\n",
    ")\n",
    "slider_max_ipy = widgets.IntSlider(\n",
    "    value=inv_lambda_max_init,\n",
    "    min=1,\n",
    "    max=300,\n",
    "    step=1,\n",
    "    description=\"Max:\",\n",
    "    layout=widgets.Layout(width=\"50%\"),\n",
    ")\n",
    "\n",
    "widgets.interactive(update_plot, rate=slider_rate_ipy, max_val=slider_max_ipy)"
   ]
  },
  {
   "cell_type": "code",
   "execution_count": 50,
   "metadata": {},
   "outputs": [
    {
     "data": {
      "application/vnd.jupyter.widget-view+json": {
       "model_id": "e1625622bc2a4aef9854ee78dbdc0b83",
       "version_major": 2,
       "version_minor": 0
      },
      "text/plain": [
       "interactive(children=(FloatSlider(value=1.0, description='K:', layout=Layout(width='50%'), max=2.0, step=0.05)…"
      ]
     },
     "execution_count": 50,
     "metadata": {},
     "output_type": "execute_result"
    }
   ],
   "source": [
    "def sigmoid(x, k=1, x_0=0):\n",
    "    return 1 / (1 + np.exp(k * (x - x_0)))\n",
    "\n",
    "\n",
    "def update_sigmoid(k, x_0):\n",
    "    x = np.linspace(0, 50, 100)\n",
    "    y = sigmoid(x, k, x_0)\n",
    "    plt.plot(x, y)\n",
    "    plt.xlabel(\"x\")\n",
    "    plt.ylabel(\"Sigmoid(x)\")\n",
    "    plt.title(\"Sigmoid Function\")\n",
    "    plt.grid()\n",
    "    plt.show()\n",
    "\n",
    "\n",
    "# Création des sliders\n",
    "slider_k_ipy = widgets.FloatSlider(\n",
    "    value=1,\n",
    "    min=0.0,\n",
    "    max=2,\n",
    "    step=0.05,\n",
    "    description=\"K:\",\n",
    "    layout=widgets.Layout(width=\"50%\"),\n",
    ")\n",
    "slider_x_0_ipy = widgets.IntSlider(\n",
    "    value=20,\n",
    "    min=0,\n",
    "    max=50,\n",
    "    step=1,\n",
    "    description=\"X_0:\",\n",
    "    layout=widgets.Layout(width=\"50%\"),\n",
    ")\n",
    "\n",
    "\n",
    "widgets.interactive(update_sigmoid, k=slider_k_ipy, x_0=slider_x_0_ipy)"
   ]
  },
  {
   "cell_type": "code",
   "execution_count": 7,
   "metadata": {},
   "outputs": [
    {
     "name": "stdout",
     "output_type": "stream",
     "text": [
      "Dérivée partielle par rapport à inv_lambda_max: exp(-exp(inv_lambda_rate*temperature)/inv_lambda_max)*exp(inv_lambda_rate*temperature)/inv_lambda_max**2\n",
      "Dérivée partielle par rapport à inv_lambda_rate: -temperature*exp(-exp(inv_lambda_rate*temperature)/inv_lambda_max)*exp(inv_lambda_rate*temperature)/inv_lambda_max\n"
     ]
    }
   ],
   "source": [
    "# Définir les symboles\n",
    "inv_lambda_max, inv_lambda_rate, temperature = sp.symbols(\"inv_lambda_max inv_lambda_rate temperature\")\n",
    "\n",
    "# Définir la fonction\n",
    "Y = sp.exp(-1 / (inv_lambda_max * sp.exp(-inv_lambda_rate * temperature)))\n",
    "\n",
    "# Calcul de la dérivée partielle par rapport à a et b\n",
    "dY_dinv_lambda_max = sp.diff(Y, inv_lambda_max)\n",
    "dY_dinv_lambda_rate = sp.diff(Y, inv_lambda_rate)\n",
    "\n",
    "print(\"Dérivée partielle par rapport à inv_lambda_max:\", dY_dinv_lambda_max)\n",
    "print(\"Dérivée partielle par rapport à inv_lambda_rate:\", dY_dinv_lambda_rate)"
   ]
  },
  {
   "cell_type": "code",
   "execution_count": 52,
   "metadata": {},
   "outputs": [
    {
     "data": {
      "text/plain": [
       "Text(0.5, 1.0, 'Correlation between Rate and Max of the survival ratio')"
      ]
     },
     "execution_count": 52,
     "metadata": {},
     "output_type": "execute_result"
    },
    {
     "data": {
      "image/png": "[encoded data removed]",
      "text/plain": [
       "<Figure size 640x480 with 1 Axes>"
      ]
     },
     "metadata": {},
     "output_type": "display_data"
    }
   ],
   "source": [
    "# RATIO DE SURVIE\n",
    "def correlation_by_temperature(temperature):\n",
    "    # Générer des échantillons de A et B\n",
    "    np.random.seed(42)\n",
    "    num_samples = 10000\n",
    "    inv_lambda_max = np.random.uniform(0, 200, num_samples)\n",
    "    inv_lambda_rate = np.random.uniform(0, 1, num_samples)\n",
    "\n",
    "    dY_dinv_lambda_max = (\n",
    "        np.exp(-np.exp(inv_lambda_rate * temperature) / inv_lambda_max)\n",
    "        * np.exp(inv_lambda_rate * temperature)\n",
    "        / inv_lambda_max**2\n",
    "    )\n",
    "    dY_dinv_lambda_rate = (\n",
    "        -temperature\n",
    "        * np.exp(-np.exp(inv_lambda_rate * temperature) / inv_lambda_max)\n",
    "        * np.exp(inv_lambda_rate * temperature)\n",
    "        / inv_lambda_max\n",
    "    )\n",
    "\n",
    "    # Calcul de la corrélation de Pearson entre dY/dA et dY/dB\n",
    "    corr_pearson, _ = stats.pearsonr(dY_dinv_lambda_max, dY_dinv_lambda_rate)\n",
    "    return corr_pearson\n",
    "\n",
    "\n",
    "corr_coef = [correlation_by_temperature(temperature) for temperature in np.linspace(0.1, 40, 100)]\n",
    "plt.plot(np.linspace(0.1, 40, 100), corr_coef)\n",
    "plt.xlabel(\"Temperature (°C)\")\n",
    "plt.ylabel(\"Correlation\")\n",
    "plt.title(\"Correlation between Rate and Max of the survival ratio\")"
   ]
  },
  {
   "cell_type": "code",
   "execution_count": null,
   "metadata": {},
   "outputs": [],
   "source": []
  }
 ],
 "metadata": {
  "kernelspec": {
   "display_name": ".venv",
   "language": "python",
   "name": "python3"
  },
  "language_info": {
   "codemirror_mode": {
    "name": "ipython",
    "version": 3
   },
   "file_extension": ".py",
   "mimetype": "text/x-python",
   "name": "python",
   "nbconvert_exporter": "python",
   "pygments_lexer": "ipython3",
   "version": "3.12.8"
  }
 },
 "nbformat": 4,
 "nbformat_minor": 2
}
