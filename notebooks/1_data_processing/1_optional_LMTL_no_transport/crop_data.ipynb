{
 "cells": [
  {
   "cell_type": "code",
   "execution_count": 17,
   "metadata": {},
   "outputs": [],
   "source": [
    "import xarray as xr\n",
    "import pandas as pd\n",
    "import numpy as np"
   ]
  },
  {
   "cell_type": "code",
   "execution_count": 18,
   "metadata": {},
   "outputs": [],
   "source": [
    "export_folder = \"/Users/ash/Documents/Workspaces/Data/phd/SEAPODYM_LMTL/2024-12-13_-_Constant_fields_no_transport/data\""
   ]
  },
  {
   "cell_type": "markdown",
   "metadata": {},
   "source": [
    "My data is not working in BIOMASS computation process with LMTL for now.\n"
   ]
  },
  {
   "cell_type": "code",
   "execution_count": 19,
   "metadata": {},
   "outputs": [],
   "source": [
    "# bio = xr.load_dataset(\n",
    "#     \"/Users/ash/Documents/Workspaces/Data/cmems/2024-07 - 2x2 - LMTL no transport/cmems_mod_glo_bgc_my_0.083deg-lmtl_PT1D-i_1723016267080.nc\"\n",
    "# )\n",
    "# physic = xr.load_dataset(\n",
    "#     \"/Users/ash/Documents/Workspaces/Data/cmems/2024-07 - 2x2 - LMTL no transport/cmems_mod_glo_bgc_my_0.083deg-lmtl-Fphy_PT1D-i_1723015794520.nc\"\n",
    "# )\n",
    "# data = xr.merge([bio, physic])[[\"T\", \"U\", \"V\", \"npp\"]]\n",
    "# attrs = data[\"depth\"].attrs\n",
    "# data = data.assign_coords({\"depth\": [0, 1, 2]})\n",
    "# data.depth.attrs = attrs\n",
    "# data"
   ]
  },
  {
   "cell_type": "markdown",
   "metadata": {},
   "source": [
    "Instead I use the forcing data from MERCATOR and set the values to constants.\n"
   ]
  },
  {
   "cell_type": "code",
   "execution_count": null,
   "metadata": {},
   "outputs": [],
   "source": [
    "data = xr.open_mfdataset(\n",
    "    \"/Users/ash/Documents/Workspaces/Data/configurations_seapodym/lmtl/4_data_integrated/4_2_epi_upmeso_daily/*.nc\"\n",
    ").load()\n",
    "data = data.rename({\"u\": \"U\", \"v\": \"V\", \"temperature\": \"T\"})\n",
    "data = data[[\"T\", \"U\", \"V\", \"npp\"]]\n",
    "data = data.resample(time=\"D\").mean()\n",
    "\n",
    "\n",
    "attrs = data[\"U\"].attrs\n",
    "data[\"U\"] = xr.full_like(data[\"U\"], 0)\n",
    "data[\"U\"].attrs = attrs\n",
    "\n",
    "attrs = data[\"V\"].attrs\n",
    "data[\"V\"] = xr.full_like(data[\"V\"], 0)\n",
    "data[\"V\"].attrs = attrs\n",
    "\n",
    "attrs = data[\"T\"].attrs\n",
    "TEMPERATURE = 28\n",
    "data[\"T\"] = xr.full_like(data[\"T\"], TEMPERATURE)\n",
    "data[\"T\"].attrs = attrs\n",
    "\n",
    "attrs = data[\"npp\"].attrs\n",
    "NPP = 300\n",
    "data[\"npp\"] = xr.full_like(data[\"npp\"], NPP)\n",
    "data[\"npp\"].attrs = attrs\n",
    "data[\"npp\"].attrs[\"units\"] = \"mg m-2 day-1\"\n",
    "\n",
    "# data = data.sel(latitude=slice(-50, 50))\n",
    "data"
   ]
  },
  {
   "cell_type": "markdown",
   "metadata": {},
   "source": [
    "## Sets currents to zero\n"
   ]
  },
  {
   "cell_type": "code",
   "execution_count": null,
   "metadata": {},
   "outputs": [],
   "source": [
    "data[\"U\"] = data[\"U\"].where(data[\"U\"].isnull(), 0)\n",
    "data[\"V\"] = data[\"V\"].where(data[\"U\"].isnull(), 0)\n",
    "data"
   ]
  },
  {
   "cell_type": "markdown",
   "metadata": {},
   "source": [
    "## Sets temperature to constant value\n"
   ]
  },
  {
   "cell_type": "code",
   "execution_count": null,
   "metadata": {},
   "outputs": [],
   "source": [
    "TEMPERATURE = 28\n",
    "data[\"T\"] = data[\"T\"].where(data[\"T\"].isnull(), TEMPERATURE)\n",
    "data"
   ]
  },
  {
   "cell_type": "markdown",
   "metadata": {},
   "source": [
    "## Sets primary production to constant value\n"
   ]
  },
  {
   "cell_type": "code",
   "execution_count": null,
   "metadata": {},
   "outputs": [],
   "source": [
    "NPP = 300\n",
    "data[\"npp\"] = data[\"npp\"].where(data[\"npp\"].isnull(), NPP)\n",
    "data"
   ]
  },
  {
   "cell_type": "markdown",
   "metadata": {},
   "source": [
    "# Dimentions order\n"
   ]
  },
  {
   "cell_type": "code",
   "execution_count": 24,
   "metadata": {},
   "outputs": [],
   "source": [
    "data = data.transpose(\"time\", \"depth\", \"latitude\", \"longitude\")"
   ]
  },
  {
   "cell_type": "markdown",
   "metadata": {},
   "source": [
    "## Create mask\n"
   ]
  },
  {
   "cell_type": "code",
   "execution_count": null,
   "metadata": {},
   "outputs": [],
   "source": [
    "data[\"mask\"] = xr.full_like(data[\"T\"], 2, dtype=np.int64)\n",
    "mask = data[\"mask\"][0, 0].drop_vars([\"time\", \"depth\"])\n",
    "mask.latitude.attrs = {\n",
    "    \"standard_name\": \"latitude\",\n",
    "    \"long_name\": \"latitude\",\n",
    "    \"units\": \"degrees_north\",\n",
    "    \"axis\": \"Y\",\n",
    "}\n",
    "mask.longitude.attrs = {\n",
    "    \"standard_name\": \"longitude\",\n",
    "    \"long_name\": \"longitude\",\n",
    "    \"units\": \"degrees_east\",\n",
    "    \"axis\": \"X\",\n",
    "}\n",
    "mask.attrs = {}\n",
    "mask.to_netcdf(f\"{export_folder}/mask.nc\")\n",
    "xr.load_dataset(f\"{export_folder}/mask.nc\")"
   ]
  },
  {
   "cell_type": "markdown",
   "metadata": {},
   "source": [
    "## To float 64\n"
   ]
  },
  {
   "cell_type": "code",
   "execution_count": 26,
   "metadata": {},
   "outputs": [],
   "source": [
    "data = data.astype(np.float64)"
   ]
  },
  {
   "cell_type": "markdown",
   "metadata": {},
   "source": [
    "## Export\n"
   ]
  },
  {
   "cell_type": "code",
   "execution_count": 27,
   "metadata": {},
   "outputs": [],
   "source": [
    "for date in data[\"T\"].time.values:\n",
    "    date_as_string = pd.to_datetime(str(date)).strftime(\"%Y%m%d\")\n",
    "    data.sel(time=[date])[[\"U\", \"V\", \"T\", \"npp\"]].to_netcdf(f\"{export_folder}/data_{date_as_string}.nc\")"
   ]
  },
  {
   "cell_type": "markdown",
   "metadata": {},
   "source": [
    "This shell commands can be run from seapodym-lmtl directory.\n",
    "\n",
    "```bash\n",
    "❯ mpirun -mca btl ^openib -np 6 ./build/bin/seapodym-lmtl -P -G D1N1 -V error /Users/ash/Documents/Workspaces/Data/phd/SEAPODYM_LMTL/2024-12-13_-_Constant_fields_no_transport/zpk.tmpl.xml\n",
    "```\n",
    "\n",
    "```bash\n",
    "❯ mpirun -mca btl ^openib -np 6 ./build/bin/seapodym-lmtl -B -G D1N1 -V error /Users/ash/Documents/Workspaces/Data/phd/SEAPODYM_LMTL/2024-12-13_-_Constant_fields_no_transport/zpk.tmpl.xml\n",
    "```\n"
   ]
  },
  {
   "cell_type": "markdown",
   "metadata": {},
   "source": [
    "# TEST -------------\n"
   ]
  },
  {
   "cell_type": "code",
   "execution_count": null,
   "metadata": {},
   "outputs": [],
   "source": [
    "# MON FORCAGE\n",
    "data"
   ]
  },
  {
   "cell_type": "code",
   "execution_count": null,
   "metadata": {},
   "outputs": [],
   "source": [
    "# LE FORCAGE ANCIEN\n",
    "xr.load_dataset(\n",
    "    \"/Users/ash/Documents/Workspaces/Data/configurations_seapodym/lmtl/4_data_integrated/4_2_epi_upmeso_daily/integrated_forcing_20000101.nc\"\n",
    ")"
   ]
  },
  {
   "cell_type": "code",
   "execution_count": null,
   "metadata": {},
   "outputs": [],
   "source": [
    "# MASK ANCIEN\n",
    "xr.load_dataset(\n",
    "    \"/Users/ash/Documents/Workspaces/Data/configurations_seapodym/lmtl/mask/from_julien/layers_mask_corrected.nc\"\n",
    ")"
   ]
  },
  {
   "cell_type": "code",
   "execution_count": null,
   "metadata": {},
   "outputs": [],
   "source": [
    "# LE RECRUTEMENT ANCIEN\n",
    "prod = xr.open_mfdataset(\n",
    "    # \"/Users/ash/Documents/Workspaces/Data/phd/SEAPODYM_LMTL/2024-12-13_-_Constant_fields_no_transport/output/*.nc\"\n",
    "    \"/Users/ash/Documents/Workspaces/Data/configurations_seapodym/lmtl/output/opti_lambda/*.nc\"\n",
    ")\n",
    "prod.load()"
   ]
  },
  {
   "cell_type": "code",
   "execution_count": null,
   "metadata": {},
   "outputs": [],
   "source": [
    "# MON RECRUTEMENT\n",
    "prod = xr.open_mfdataset(\n",
    "    \"/Users/ash/Documents/Workspaces/Data/phd/SEAPODYM_LMTL/2024-12-13_-_Constant_fields_no_transport/output/*.nc\"\n",
    ")\n",
    "prod.load()"
   ]
  }
 ],
 "metadata": {
  "kernelspec": {
   "display_name": ".venv",
   "language": "python",
   "name": "python3"
  },
  "language_info": {
   "codemirror_mode": {
    "name": "ipython",
    "version": 3
   },
   "file_extension": ".py",
   "mimetype": "text/x-python",
   "name": "python",
   "nbconvert_exporter": "python",
   "pygments_lexer": "ipython3",
   "version": "3.12.8"
  }
 },
 "nbformat": 4,
 "nbformat_minor": 2
}
