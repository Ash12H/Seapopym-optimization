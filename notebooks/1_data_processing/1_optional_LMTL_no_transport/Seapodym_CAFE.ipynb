{
 "cells": [
  {
   "cell_type": "code",
   "execution_count": null,
   "metadata": {},
   "outputs": [],
   "source": [
    "import cf_xarray  # noqa: F401\n",
    "import copernicusmarine\n",
    "import numpy as np\n",
    "import pandas as pd\n",
    "import xarray as xr\n",
    "from seapopym.standard.units import StandardUnitsLabels"
   ]
  },
  {
   "cell_type": "code",
   "execution_count": null,
   "metadata": {},
   "outputs": [],
   "source": [
    "export_folder = \"/Users/ash/Documents/Workspaces/Data/phd/SEAPODYM_LMTL/2025-01-10_-_CAFE_HOT/data\"\n",
    "cafe_path = \"../1_1_Forcing/raw/CAFE_NPP_8D_25KM_1998_2022.nc\""
   ]
  },
  {
   "cell_type": "markdown",
   "metadata": {},
   "source": [
    "HOT station coordinates:\n"
   ]
  },
  {
   "cell_type": "code",
   "execution_count": null,
   "metadata": {},
   "outputs": [],
   "source": [
    "LATITUDE = 22.75\n",
    "LONGITUDE = -158\n",
    "POSITION_TOLERANCE = 1\n",
    "START_TIME = \"2005-01-01\"\n",
    "END_TIME = \"2010-01-01\""
   ]
  },
  {
   "cell_type": "markdown",
   "metadata": {},
   "source": [
    "## CMEMS\n"
   ]
  },
  {
   "cell_type": "code",
   "execution_count": null,
   "metadata": {},
   "outputs": [],
   "source": [
    "coordinates = {\n",
    "    \"minimum_latitude\": LATITUDE - POSITION_TOLERANCE,\n",
    "    \"maximum_latitude\": LATITUDE + POSITION_TOLERANCE,\n",
    "    \"minimum_longitude\": LONGITUDE - POSITION_TOLERANCE,\n",
    "    \"maximum_longitude\": LONGITUDE + POSITION_TOLERANCE,\n",
    "    \"start_datetime\": START_TIME,\n",
    "    \"end_datetime\": END_TIME,\n",
    "}\n",
    "\n",
    "bio = copernicusmarine.open_dataset(dataset_id=\"cmems_mod_glo_bgc_my_0.083deg-lmtl_PT1D-i\", **coordinates)\n",
    "physic = copernicusmarine.open_dataset(dataset_id=\"cmems_mod_glo_bgc_my_0.083deg-lmtl-Fphy_PT1D-i\", **coordinates)"
   ]
  },
  {
   "cell_type": "code",
   "execution_count": null,
   "metadata": {},
   "outputs": [],
   "source": [
    "bio.load()"
   ]
  },
  {
   "cell_type": "code",
   "execution_count": null,
   "metadata": {},
   "outputs": [],
   "source": [
    "physic.load()"
   ]
  },
  {
   "cell_type": "code",
   "execution_count": null,
   "metadata": {},
   "outputs": [],
   "source": [
    "physic = physic.interp_like(bio)"
   ]
  },
  {
   "cell_type": "code",
   "execution_count": null,
   "metadata": {},
   "outputs": [],
   "source": [
    "with xr.set_options(keep_attrs=True):\n",
    "    data = xr.merge([bio, physic])\n",
    "    data[\"T\"].attrs[\"units\"] = str(StandardUnitsLabels.temperature.units)\n",
    "data"
   ]
  },
  {
   "cell_type": "markdown",
   "metadata": {},
   "source": [
    "## CAFE\n"
   ]
  },
  {
   "cell_type": "code",
   "execution_count": null,
   "metadata": {},
   "outputs": [],
   "source": [
    "cafe_data = xr.open_dataset(cafe_path)\n",
    "\n",
    "cafe_data = cafe_data.rename({\"lat\": \"latitude\", \"lon\": \"longitude\"})\n",
    "cafe_data[\"CAFE\"] = cafe_data[\"CAFE\"].assign_attrs({\"units\": \"mg m-2 day-1\", \"weight\": \"carbon\"})\n",
    "cafe_data_hot = cafe_data.sel(\n",
    "    latitude=slice(LATITUDE - 2 * POSITION_TOLERANCE, LATITUDE + 2 * POSITION_TOLERANCE),\n",
    "    longitude=slice(LONGITUDE - 2 * POSITION_TOLERANCE, LONGITUDE + 2 * POSITION_TOLERANCE),\n",
    "    time=slice(START_TIME, END_TIME),\n",
    ")\n",
    "cafe_data_hot.load()"
   ]
  },
  {
   "cell_type": "code",
   "execution_count": null,
   "metadata": {},
   "outputs": [],
   "source": [
    "cafe_data_hot = cafe_data_hot.interp_like(data)\n",
    "cafe_data_hot"
   ]
  },
  {
   "cell_type": "code",
   "execution_count": null,
   "metadata": {},
   "outputs": [],
   "source": [
    "data[\"cafe\"] = cafe_data_hot[\"CAFE\"]"
   ]
  },
  {
   "cell_type": "markdown",
   "metadata": {},
   "source": [
    "## Create mask\n"
   ]
  },
  {
   "cell_type": "code",
   "execution_count": null,
   "metadata": {},
   "outputs": [],
   "source": [
    "cafe_data_hot.CAFE.isnull().sum(\"time\").plot()"
   ]
  },
  {
   "cell_type": "code",
   "execution_count": null,
   "metadata": {},
   "outputs": [],
   "source": [
    "cafe_data_hot.CAFE.isnull().sum([\"latitude\", \"longitude\"]).plot()"
   ]
  },
  {
   "cell_type": "code",
   "execution_count": null,
   "metadata": {},
   "outputs": [],
   "source": [
    "data[\"mask\"] = xr.full_like(data[\"T\"], 2, dtype=np.int64)\n",
    "mask = data[\"mask\"][0, 0].drop_vars([\"time\", \"depth\"])\n",
    "mask.latitude.attrs = {\n",
    "    \"standard_name\": \"latitude\",\n",
    "    \"long_name\": \"latitude\",\n",
    "    \"units\": \"degrees_north\",\n",
    "    \"axis\": \"Y\",\n",
    "}\n",
    "mask.longitude.attrs = {\n",
    "    \"standard_name\": \"longitude\",\n",
    "    \"long_name\": \"longitude\",\n",
    "    \"units\": \"degrees_east\",\n",
    "    \"axis\": \"X\",\n",
    "}\n",
    "mask.attrs = {}\n",
    "mask.to_netcdf(f\"{export_folder}/mask.nc\")\n",
    "xr.load_dataset(f\"{export_folder}/mask.nc\")"
   ]
  },
  {
   "cell_type": "markdown",
   "metadata": {},
   "source": [
    "## To float 64\n"
   ]
  },
  {
   "cell_type": "code",
   "execution_count": null,
   "metadata": {},
   "outputs": [],
   "source": [
    "data = data.astype(np.float64)"
   ]
  },
  {
   "cell_type": "markdown",
   "metadata": {},
   "source": [
    "## Export\n"
   ]
  },
  {
   "cell_type": "code",
   "execution_count": null,
   "metadata": {},
   "outputs": [],
   "source": [
    "for date in data[\"T\"].time.values:\n",
    "    date_as_string = pd.to_datetime(str(date)).strftime(\"%Y%m%d\")\n",
    "    data.sel(time=[date])[[\"U\", \"V\", \"T\", \"cafe\"]].to_netcdf(f\"{export_folder}/data_{date_as_string}.nc\")"
   ]
  },
  {
   "cell_type": "markdown",
   "metadata": {},
   "source": [
    "This shell commands can be run from seapodym-lmtl directory.\n",
    "\n",
    "```bash\n",
    "❯ mpirun -mca btl ^openib -np 6 ./build/bin/seapodym-lmtl -P -G D1N1 -V error /<path_to>/Data/phd/SEAPODYM_LMTL/2024-12-13_-_Constant_fields_no_transport/zpk.tmpl.xml\n",
    "```\n",
    "\n",
    "```bash\n",
    "❯ mpirun -mca btl ^openib -np 6 ./build/bin/seapodym-lmtl -B -G D1N1 -V error /<path_to>/Data/phd/SEAPODYM_LMTL/2024-12-13_-_Constant_fields_no_transport/zpk.tmpl.xml\n",
    "```\n"
   ]
  }
 ],
 "metadata": {
  "kernelspec": {
   "display_name": ".venv",
   "language": "python",
   "name": "python3"
  },
  "language_info": {
   "codemirror_mode": {
    "name": "ipython",
    "version": 3
   },
   "file_extension": ".py",
   "mimetype": "text/x-python",
   "name": "python",
   "nbconvert_exporter": "python",
   "pygments_lexer": "ipython3",
   "version": "3.12.8"
  }
 },
 "nbformat": 4,
 "nbformat_minor": 2
}
