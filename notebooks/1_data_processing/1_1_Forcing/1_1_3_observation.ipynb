{
 "cells": [
  {
   "cell_type": "code",
   "execution_count": 1,
   "metadata": {},
   "outputs": [],
   "source": [
    "import xarray as xr"
   ]
  },
  {
   "cell_type": "markdown",
   "metadata": {},
   "source": [
    "You can include the Seapopym_Data observations into the raw directory. Or create a script that download the observations from Github.\n"
   ]
  },
  {
   "cell_type": "code",
   "execution_count": 2,
   "metadata": {},
   "outputs": [
    {
     "data": {
      "text/plain": [
       "<xarray.backends.zarr.ZarrStore at 0x140965840>"
      ]
     },
     "execution_count": 2,
     "metadata": {},
     "output_type": "execute_result"
    }
   ],
   "source": [
    "xr.open_dataset(\"./raw/Bats_zooplankton.nc\").to_zarr(\"./products/Bats_obs.zarr\")\n",
    "xr.open_dataset(\"./raw/Hot_zooplankton.nc\").to_zarr(\"./products/Hot_obs.zarr\")\n",
    "xr.open_dataset(\"./raw/Papa_zooplankton.nc\").to_zarr(\"./products/Papa_obs.zarr\")"
   ]
  }
 ],
 "metadata": {
  "kernelspec": {
   "display_name": ".venv",
   "language": "python",
   "name": "python3"
  },
  "language_info": {
   "codemirror_mode": {
    "name": "ipython",
    "version": 3
   },
   "file_extension": ".py",
   "mimetype": "text/x-python",
   "name": "python",
   "nbconvert_exporter": "python",
   "pygments_lexer": "ipython3",
   "version": "3.12.5"
  }
 },
 "nbformat": 4,
 "nbformat_minor": 2
}
