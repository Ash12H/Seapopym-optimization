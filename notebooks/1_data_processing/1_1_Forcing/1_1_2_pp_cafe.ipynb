{
 "cells": [
  {
   "cell_type": "code",
   "execution_count": 1,
   "metadata": {},
   "outputs": [],
   "source": [
    "import xarray as xr\n",
    "import cf_xarray"
   ]
  },
  {
   "cell_type": "code",
   "execution_count": null,
   "metadata": {},
   "outputs": [],
   "source": [
    "cafe_data = xr.open_dataset(\"./raw/CAFE_NPP_8D_25KM_1998_2022.nc\")\n",
    "cafe_data"
   ]
  },
  {
   "cell_type": "code",
   "execution_count": 3,
   "metadata": {},
   "outputs": [],
   "source": [
    "cafe_data = cafe_data.rename({\"lat\": \"latitude\", \"lon\": \"longitude\"})\n",
    "cafe_data[\"CAFE\"] = cafe_data[\"CAFE\"].assign_attrs({\"units\": \"mg m-2 day-1\", \"weight\": \"carbon\"})"
   ]
  },
  {
   "cell_type": "markdown",
   "metadata": {},
   "source": [
    "## HOT\n",
    "\n",
    "---\n"
   ]
  },
  {
   "cell_type": "code",
   "execution_count": 4,
   "metadata": {},
   "outputs": [],
   "source": [
    "LATITUDE_HOT = 22.75\n",
    "LONGITUDE_HOT = -158"
   ]
  },
  {
   "cell_type": "code",
   "execution_count": null,
   "metadata": {},
   "outputs": [],
   "source": [
    "cafe_data_hot = cafe_data.cf.sel(latitude=[LATITUDE_HOT], longitude=[LONGITUDE_HOT], method=\"nearest\")\n",
    "cafe_data_hot = cafe_data_hot.assign_coords({\"latitude\": [LATITUDE_HOT], \"longitude\": [LONGITUDE_HOT]})\n",
    "cafe_data_hot.latitude.attrs = {\"units\": \"degrees_north\", \"long_name\": \"latitude\", \"axis\": \"Y\"}\n",
    "cafe_data_hot.longitude.attrs = {\"units\": \"degrees_east\", \"long_name\": \"longitude\", \"axis\": \"X\"}\n",
    "cafe_data_hot"
   ]
  },
  {
   "cell_type": "code",
   "execution_count": null,
   "metadata": {},
   "outputs": [],
   "source": [
    "cafe_data_hot.to_zarr(\"./products/Hot_cafe.zarr\")"
   ]
  },
  {
   "cell_type": "markdown",
   "metadata": {},
   "source": [
    "## BATS\n",
    "\n",
    "---\n"
   ]
  },
  {
   "cell_type": "code",
   "execution_count": 7,
   "metadata": {},
   "outputs": [],
   "source": [
    "LATITUDE_BATS = 31.6\n",
    "LONGITUDE_BATS = -64.2"
   ]
  },
  {
   "cell_type": "code",
   "execution_count": null,
   "metadata": {},
   "outputs": [],
   "source": [
    "cafe_data_bats = cafe_data.cf.sel(latitude=[LATITUDE_BATS], longitude=[LONGITUDE_BATS], method=\"nearest\")\n",
    "cafe_data_bats = cafe_data_bats.assign_coords({\"latitude\": [LATITUDE_BATS], \"longitude\": [LONGITUDE_BATS]})\n",
    "cafe_data_bats.latitude.attrs = {\"units\": \"degrees_north\", \"long_name\": \"latitude\", \"axis\": \"Y\"}\n",
    "cafe_data_bats.longitude.attrs = {\"units\": \"degrees_east\", \"long_name\": \"longitude\", \"axis\": \"X\"}\n",
    "cafe_data_bats"
   ]
  },
  {
   "cell_type": "code",
   "execution_count": null,
   "metadata": {},
   "outputs": [],
   "source": [
    "cafe_data_bats.to_zarr(\"./products/Bats_cafe.zarr\")"
   ]
  },
  {
   "cell_type": "markdown",
   "metadata": {},
   "source": [
    "## PAPA\n",
    "\n",
    "---\n"
   ]
  },
  {
   "cell_type": "code",
   "execution_count": 10,
   "metadata": {},
   "outputs": [],
   "source": [
    "LATITUDE_PAPA = 50\n",
    "LONGITUDE_PAPA = -150"
   ]
  },
  {
   "cell_type": "code",
   "execution_count": null,
   "metadata": {},
   "outputs": [],
   "source": [
    "cafe_data_papa = cafe_data.cf.sel(latitude=[LATITUDE_PAPA], longitude=[LONGITUDE_PAPA], method=\"nearest\")\n",
    "cafe_data_papa = cafe_data_papa.assign_coords({\"latitude\": [LATITUDE_PAPA], \"longitude\": [LONGITUDE_PAPA]})\n",
    "cafe_data_papa.latitude.attrs = {\"units\": \"degrees_north\", \"long_name\": \"latitude\", \"axis\": \"Y\"}\n",
    "cafe_data_papa.longitude.attrs = {\"units\": \"degrees_east\", \"long_name\": \"longitude\", \"axis\": \"X\"}\n",
    "cafe_data_papa"
   ]
  },
  {
   "cell_type": "code",
   "execution_count": null,
   "metadata": {},
   "outputs": [],
   "source": [
    "cafe_data_papa.to_zarr(\"./products/Papa_cafe.zarr\")"
   ]
  }
 ],
 "metadata": {
  "kernelspec": {
   "display_name": ".venv",
   "language": "python",
   "name": "python3"
  },
  "language_info": {
   "codemirror_mode": {
    "name": "ipython",
    "version": 3
   },
   "file_extension": ".py",
   "mimetype": "text/x-python",
   "name": "python",
   "nbconvert_exporter": "python",
   "pygments_lexer": "ipython3",
   "version": "3.12.8"
  }
 },
 "nbformat": 4,
 "nbformat_minor": 2
}
