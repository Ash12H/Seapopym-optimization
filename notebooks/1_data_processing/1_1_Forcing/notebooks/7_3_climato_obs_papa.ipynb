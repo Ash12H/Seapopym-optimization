{
 "cells": [
  {
   "cell_type": "code",
   "execution_count": 1,
   "metadata": {},
   "outputs": [],
   "source": [
    "import matplotlib.colors as mcolors\n",
    "import matplotlib.pyplot as plt\n",
    "import numpy as np\n",
    "import pandas as pd\n",
    "import plotly.express as px\n",
    "import plotly.graph_objects as go\n",
    "import xarray as xr\n",
    "from plotly.subplots import make_subplots\n",
    "from scipy.stats import t\n",
    "from statsmodels.nonparametric.smoothers_lowess import lowess\n",
    "\n",
    "# use plotly backend\n",
    "pd.options.plotting.backend = \"plotly\""
   ]
  },
  {
   "cell_type": "code",
   "execution_count": 2,
   "metadata": {},
   "outputs": [],
   "source": [
    "station = \"Papa\"\n",
    "time_start = \"2002-01-01\"\n",
    "time_end = \"2015-01-01\"\n",
    "NB_YEARS = 13\n",
    "MINIMUM_OBS_BY_YEAR = 2"
   ]
  },
  {
   "cell_type": "markdown",
   "metadata": {},
   "source": [
    "## Load\n"
   ]
  },
  {
   "cell_type": "code",
   "execution_count": 3,
   "metadata": {},
   "outputs": [
    {
     "data": {
      "text/html": [
       "<div><svg style=\"position: absolute; width: 0; height: 0; overflow: hidden\">\n",
       "<defs>\n",
       "<symbol id=\"icon-database\" viewBox=\"0 0 32 32\">\n",
       "<path d=\"M16 0c-8.837 0-16 2.239-16 5v4c0 2.761 7.163 5 16 5s16-2.239 16-5v-4c0-2.761-7.163-5-16-5z\"></path>\n",
       "<path d=\"M16 17c-8.837 0-16-2.239-16-5v6c0 2.761 7.163 5 16 5s16-2.239 16-5v-6c0 2.761-7.163 5-16 5z\"></path>\n",
       "<path d=\"M16 26c-8.837 0-16-2.239-16-5v6c0 2.761 7.163 5 16 5s16-2.239 16-5v-6c0 2.761-7.163 5-16 5z\"></path>\n",
       "</symbol>\n",
       "<symbol id=\"icon-file-text2\" viewBox=\"0 0 32 32\">\n",
       "<path d=\"M28.681 7.159c-0.694-0.947-1.662-2.053-2.724-3.116s-2.169-2.030-3.116-2.724c-1.612-1.182-2.393-1.319-2.841-1.319h-15.5c-1.378 0-2.5 1.121-2.5 2.5v27c0 1.378 1.122 2.5 2.5 2.5h23c1.378 0 2.5-1.122 2.5-2.5v-19.5c0-0.448-0.137-1.23-1.319-2.841zM24.543 5.457c0.959 0.959 1.712 1.825 2.268 2.543h-4.811v-4.811c0.718 0.556 1.584 1.309 2.543 2.268zM28 29.5c0 0.271-0.229 0.5-0.5 0.5h-23c-0.271 0-0.5-0.229-0.5-0.5v-27c0-0.271 0.229-0.5 0.5-0.5 0 0 15.499-0 15.5 0v7c0 0.552 0.448 1 1 1h7v19.5z\"></path>\n",
       "<path d=\"M23 26h-14c-0.552 0-1-0.448-1-1s0.448-1 1-1h14c0.552 0 1 0.448 1 1s-0.448 1-1 1z\"></path>\n",
       "<path d=\"M23 22h-14c-0.552 0-1-0.448-1-1s0.448-1 1-1h14c0.552 0 1 0.448 1 1s-0.448 1-1 1z\"></path>\n",
       "<path d=\"M23 18h-14c-0.552 0-1-0.448-1-1s0.448-1 1-1h14c0.552 0 1 0.448 1 1s-0.448 1-1 1z\"></path>\n",
       "</symbol>\n",
       "</defs>\n",
       "</svg>\n",
       "<style>/* CSS stylesheet for displaying xarray objects in jupyterlab.\n",
       " *\n",
       " */\n",
       "\n",
       ":root {\n",
       "  --xr-font-color0: var(--jp-content-font-color0, rgba(0, 0, 0, 1));\n",
       "  --xr-font-color2: var(--jp-content-font-color2, rgba(0, 0, 0, 0.54));\n",
       "  --xr-font-color3: var(--jp-content-font-color3, rgba(0, 0, 0, 0.38));\n",
       "  --xr-border-color: var(--jp-border-color2, #e0e0e0);\n",
       "  --xr-disabled-color: var(--jp-layout-color3, #bdbdbd);\n",
       "  --xr-background-color: var(--jp-layout-color0, white);\n",
       "  --xr-background-color-row-even: var(--jp-layout-color1, white);\n",
       "  --xr-background-color-row-odd: var(--jp-layout-color2, #eeeeee);\n",
       "}\n",
       "\n",
       "html[theme=\"dark\"],\n",
       "html[data-theme=\"dark\"],\n",
       "body[data-theme=\"dark\"],\n",
       "body.vscode-dark {\n",
       "  --xr-font-color0: rgba(255, 255, 255, 1);\n",
       "  --xr-font-color2: rgba(255, 255, 255, 0.54);\n",
       "  --xr-font-color3: rgba(255, 255, 255, 0.38);\n",
       "  --xr-border-color: #1f1f1f;\n",
       "  --xr-disabled-color: #515151;\n",
       "  --xr-background-color: #111111;\n",
       "  --xr-background-color-row-even: #111111;\n",
       "  --xr-background-color-row-odd: #313131;\n",
       "}\n",
       "\n",
       ".xr-wrap {\n",
       "  display: block !important;\n",
       "  min-width: 300px;\n",
       "  max-width: 700px;\n",
       "}\n",
       "\n",
       ".xr-text-repr-fallback {\n",
       "  /* fallback to plain text repr when CSS is not injected (untrusted notebook) */\n",
       "  display: none;\n",
       "}\n",
       "\n",
       ".xr-header {\n",
       "  padding-top: 6px;\n",
       "  padding-bottom: 6px;\n",
       "  margin-bottom: 4px;\n",
       "  border-bottom: solid 1px var(--xr-border-color);\n",
       "}\n",
       "\n",
       ".xr-header > div,\n",
       ".xr-header > ul {\n",
       "  display: inline;\n",
       "  margin-top: 0;\n",
       "  margin-bottom: 0;\n",
       "}\n",
       "\n",
       ".xr-obj-type,\n",
       ".xr-array-name {\n",
       "  margin-left: 2px;\n",
       "  margin-right: 10px;\n",
       "}\n",
       "\n",
       ".xr-obj-type {\n",
       "  color: var(--xr-font-color2);\n",
       "}\n",
       "\n",
       ".xr-sections {\n",
       "  padding-left: 0 !important;\n",
       "  display: grid;\n",
       "  grid-template-columns: 150px auto auto 1fr 0 20px 0 20px;\n",
       "}\n",
       "\n",
       ".xr-section-item {\n",
       "  display: contents;\n",
       "}\n",
       "\n",
       ".xr-section-item input {\n",
       "  display: inline-block;\n",
       "  opacity: 0;\n",
       "  height: 0;\n",
       "}\n",
       "\n",
       ".xr-section-item input + label {\n",
       "  color: var(--xr-disabled-color);\n",
       "}\n",
       "\n",
       ".xr-section-item input:enabled + label {\n",
       "  cursor: pointer;\n",
       "  color: var(--xr-font-color2);\n",
       "}\n",
       "\n",
       ".xr-section-item input:focus + label {\n",
       "  border: 2px solid var(--xr-font-color0);\n",
       "}\n",
       "\n",
       ".xr-section-item input:enabled + label:hover {\n",
       "  color: var(--xr-font-color0);\n",
       "}\n",
       "\n",
       ".xr-section-summary {\n",
       "  grid-column: 1;\n",
       "  color: var(--xr-font-color2);\n",
       "  font-weight: 500;\n",
       "}\n",
       "\n",
       ".xr-section-summary > span {\n",
       "  display: inline-block;\n",
       "  padding-left: 0.5em;\n",
       "}\n",
       "\n",
       ".xr-section-summary-in:disabled + label {\n",
       "  color: var(--xr-font-color2);\n",
       "}\n",
       "\n",
       ".xr-section-summary-in + label:before {\n",
       "  display: inline-block;\n",
       "  content: \"►\";\n",
       "  font-size: 11px;\n",
       "  width: 15px;\n",
       "  text-align: center;\n",
       "}\n",
       "\n",
       ".xr-section-summary-in:disabled + label:before {\n",
       "  color: var(--xr-disabled-color);\n",
       "}\n",
       "\n",
       ".xr-section-summary-in:checked + label:before {\n",
       "  content: \"▼\";\n",
       "}\n",
       "\n",
       ".xr-section-summary-in:checked + label > span {\n",
       "  display: none;\n",
       "}\n",
       "\n",
       ".xr-section-summary,\n",
       ".xr-section-inline-details {\n",
       "  padding-top: 4px;\n",
       "  padding-bottom: 4px;\n",
       "}\n",
       "\n",
       ".xr-section-inline-details {\n",
       "  grid-column: 2 / -1;\n",
       "}\n",
       "\n",
       ".xr-section-details {\n",
       "  display: none;\n",
       "  grid-column: 1 / -1;\n",
       "  margin-bottom: 5px;\n",
       "}\n",
       "\n",
       ".xr-section-summary-in:checked ~ .xr-section-details {\n",
       "  display: contents;\n",
       "}\n",
       "\n",
       ".xr-array-wrap {\n",
       "  grid-column: 1 / -1;\n",
       "  display: grid;\n",
       "  grid-template-columns: 20px auto;\n",
       "}\n",
       "\n",
       ".xr-array-wrap > label {\n",
       "  grid-column: 1;\n",
       "  vertical-align: top;\n",
       "}\n",
       "\n",
       ".xr-preview {\n",
       "  color: var(--xr-font-color3);\n",
       "}\n",
       "\n",
       ".xr-array-preview,\n",
       ".xr-array-data {\n",
       "  padding: 0 5px !important;\n",
       "  grid-column: 2;\n",
       "}\n",
       "\n",
       ".xr-array-data,\n",
       ".xr-array-in:checked ~ .xr-array-preview {\n",
       "  display: none;\n",
       "}\n",
       "\n",
       ".xr-array-in:checked ~ .xr-array-data,\n",
       ".xr-array-preview {\n",
       "  display: inline-block;\n",
       "}\n",
       "\n",
       ".xr-dim-list {\n",
       "  display: inline-block !important;\n",
       "  list-style: none;\n",
       "  padding: 0 !important;\n",
       "  margin: 0;\n",
       "}\n",
       "\n",
       ".xr-dim-list li {\n",
       "  display: inline-block;\n",
       "  padding: 0;\n",
       "  margin: 0;\n",
       "}\n",
       "\n",
       ".xr-dim-list:before {\n",
       "  content: \"(\";\n",
       "}\n",
       "\n",
       ".xr-dim-list:after {\n",
       "  content: \")\";\n",
       "}\n",
       "\n",
       ".xr-dim-list li:not(:last-child):after {\n",
       "  content: \",\";\n",
       "  padding-right: 5px;\n",
       "}\n",
       "\n",
       ".xr-has-index {\n",
       "  font-weight: bold;\n",
       "}\n",
       "\n",
       ".xr-var-list,\n",
       ".xr-var-item {\n",
       "  display: contents;\n",
       "}\n",
       "\n",
       ".xr-var-item > div,\n",
       ".xr-var-item label,\n",
       ".xr-var-item > .xr-var-name span {\n",
       "  background-color: var(--xr-background-color-row-even);\n",
       "  margin-bottom: 0;\n",
       "}\n",
       "\n",
       ".xr-var-item > .xr-var-name:hover span {\n",
       "  padding-right: 5px;\n",
       "}\n",
       "\n",
       ".xr-var-list > li:nth-child(odd) > div,\n",
       ".xr-var-list > li:nth-child(odd) > label,\n",
       ".xr-var-list > li:nth-child(odd) > .xr-var-name span {\n",
       "  background-color: var(--xr-background-color-row-odd);\n",
       "}\n",
       "\n",
       ".xr-var-name {\n",
       "  grid-column: 1;\n",
       "}\n",
       "\n",
       ".xr-var-dims {\n",
       "  grid-column: 2;\n",
       "}\n",
       "\n",
       ".xr-var-dtype {\n",
       "  grid-column: 3;\n",
       "  text-align: right;\n",
       "  color: var(--xr-font-color2);\n",
       "}\n",
       "\n",
       ".xr-var-preview {\n",
       "  grid-column: 4;\n",
       "}\n",
       "\n",
       ".xr-index-preview {\n",
       "  grid-column: 2 / 5;\n",
       "  color: var(--xr-font-color2);\n",
       "}\n",
       "\n",
       ".xr-var-name,\n",
       ".xr-var-dims,\n",
       ".xr-var-dtype,\n",
       ".xr-preview,\n",
       ".xr-attrs dt {\n",
       "  white-space: nowrap;\n",
       "  overflow: hidden;\n",
       "  text-overflow: ellipsis;\n",
       "  padding-right: 10px;\n",
       "}\n",
       "\n",
       ".xr-var-name:hover,\n",
       ".xr-var-dims:hover,\n",
       ".xr-var-dtype:hover,\n",
       ".xr-attrs dt:hover {\n",
       "  overflow: visible;\n",
       "  width: auto;\n",
       "  z-index: 1;\n",
       "}\n",
       "\n",
       ".xr-var-attrs,\n",
       ".xr-var-data,\n",
       ".xr-index-data {\n",
       "  display: none;\n",
       "  background-color: var(--xr-background-color) !important;\n",
       "  padding-bottom: 5px !important;\n",
       "}\n",
       "\n",
       ".xr-var-attrs-in:checked ~ .xr-var-attrs,\n",
       ".xr-var-data-in:checked ~ .xr-var-data,\n",
       ".xr-index-data-in:checked ~ .xr-index-data {\n",
       "  display: block;\n",
       "}\n",
       "\n",
       ".xr-var-data > table {\n",
       "  float: right;\n",
       "}\n",
       "\n",
       ".xr-var-name span,\n",
       ".xr-var-data,\n",
       ".xr-index-name div,\n",
       ".xr-index-data,\n",
       ".xr-attrs {\n",
       "  padding-left: 25px !important;\n",
       "}\n",
       "\n",
       ".xr-attrs,\n",
       ".xr-var-attrs,\n",
       ".xr-var-data,\n",
       ".xr-index-data {\n",
       "  grid-column: 1 / -1;\n",
       "}\n",
       "\n",
       "dl.xr-attrs {\n",
       "  padding: 0;\n",
       "  margin: 0;\n",
       "  display: grid;\n",
       "  grid-template-columns: 125px auto;\n",
       "}\n",
       "\n",
       ".xr-attrs dt,\n",
       ".xr-attrs dd {\n",
       "  padding: 0;\n",
       "  margin: 0;\n",
       "  float: left;\n",
       "  padding-right: 10px;\n",
       "  width: auto;\n",
       "}\n",
       "\n",
       ".xr-attrs dt {\n",
       "  font-weight: normal;\n",
       "  grid-column: 1;\n",
       "}\n",
       "\n",
       ".xr-attrs dt:hover span {\n",
       "  display: inline-block;\n",
       "  background: var(--xr-background-color);\n",
       "  padding-right: 10px;\n",
       "}\n",
       "\n",
       ".xr-attrs dd {\n",
       "  grid-column: 2;\n",
       "  white-space: pre-wrap;\n",
       "  word-break: break-all;\n",
       "}\n",
       "\n",
       ".xr-icon-database,\n",
       ".xr-icon-file-text2,\n",
       ".xr-no-icon {\n",
       "  display: inline-block;\n",
       "  vertical-align: middle;\n",
       "  width: 1em;\n",
       "  height: 1.5em !important;\n",
       "  stroke-width: 0;\n",
       "  stroke: currentColor;\n",
       "  fill: currentColor;\n",
       "}\n",
       "</style><pre class='xr-text-repr-fallback'>&lt;xarray.Dataset&gt; Size: 3MB\n",
       "Dimensions:    (time: 623, latitude: 12, longitude: 26, layer: 1)\n",
       "Coordinates:\n",
       "  * latitude   (latitude) float64 96B 46.5 47.5 48.5 49.5 ... 55.5 56.5 57.5\n",
       "  * layer      (layer) int64 8B 0\n",
       "  * longitude  (longitude) float64 208B -156.5 -153.5 -152.5 ... -129.5 -128.5\n",
       "  * time       (time) datetime64[ns] 5kB 1995-09-24 1995-09-25 ... 2020-08-31\n",
       "Data variables:\n",
       "    day        (time, latitude, longitude, layer) float64 2MB nan nan ... nan\n",
       "    night      (time, latitude, longitude, layer) float64 2MB nan nan ... nan</pre><div class='xr-wrap' style='display:none'><div class='xr-header'><div class='xr-obj-type'>xarray.Dataset</div></div><ul class='xr-sections'><li class='xr-section-item'><input id='section-50bc5c9f-89fb-4e2d-9d11-fed72c2c08c8' class='xr-section-summary-in' type='checkbox' disabled ><label for='section-50bc5c9f-89fb-4e2d-9d11-fed72c2c08c8' class='xr-section-summary'  title='Expand/collapse section'>Dimensions:</label><div class='xr-section-inline-details'><ul class='xr-dim-list'><li><span class='xr-has-index'>time</span>: 623</li><li><span class='xr-has-index'>latitude</span>: 12</li><li><span class='xr-has-index'>longitude</span>: 26</li><li><span class='xr-has-index'>layer</span>: 1</li></ul></div><div class='xr-section-details'></div></li><li class='xr-section-item'><input id='section-5a2f3ae5-1d9c-4011-a922-e203335a32d4' class='xr-section-summary-in' type='checkbox'  checked><label for='section-5a2f3ae5-1d9c-4011-a922-e203335a32d4' class='xr-section-summary' >Coordinates: <span>(4)</span></label><div class='xr-section-inline-details'></div><div class='xr-section-details'><ul class='xr-var-list'><li class='xr-var-item'><div class='xr-var-name'><span class='xr-has-index'>latitude</span></div><div class='xr-var-dims'>(latitude)</div><div class='xr-var-dtype'>float64</div><div class='xr-var-preview xr-preview'>46.5 47.5 48.5 ... 55.5 56.5 57.5</div><input id='attrs-2fbd5752-2f9d-411a-9296-a5962357f184' class='xr-var-attrs-in' type='checkbox' ><label for='attrs-2fbd5752-2f9d-411a-9296-a5962357f184' title='Show/Hide attributes'><svg class='icon xr-icon-file-text2'><use xlink:href='#icon-file-text2'></use></svg></label><input id='data-006fd5e8-345a-49eb-8240-17927b9863e1' class='xr-var-data-in' type='checkbox'><label for='data-006fd5e8-345a-49eb-8240-17927b9863e1' title='Show/Hide data repr'><svg class='icon xr-icon-database'><use xlink:href='#icon-database'></use></svg></label><div class='xr-var-attrs'><dl class='xr-attrs'><dt><span>axis :</span></dt><dd>Y</dd><dt><span>long_name :</span></dt><dd>latitude</dd><dt><span>standard_name :</span></dt><dd>latitude</dd><dt><span>units :</span></dt><dd>degrees_north</dd></dl></div><div class='xr-var-data'><pre>array([46.5, 47.5, 48.5, 49.5, 50.5, 51.5, 52.5, 53.5, 54.5, 55.5, 56.5, 57.5])</pre></div></li><li class='xr-var-item'><div class='xr-var-name'><span class='xr-has-index'>layer</span></div><div class='xr-var-dims'>(layer)</div><div class='xr-var-dtype'>int64</div><div class='xr-var-preview xr-preview'>0</div><input id='attrs-6095fad2-9b28-4ded-89f6-b9cbca1abb49' class='xr-var-attrs-in' type='checkbox' ><label for='attrs-6095fad2-9b28-4ded-89f6-b9cbca1abb49' title='Show/Hide attributes'><svg class='icon xr-icon-file-text2'><use xlink:href='#icon-file-text2'></use></svg></label><input id='data-96599f7c-a65b-4491-81ea-dc0a948b694b' class='xr-var-data-in' type='checkbox'><label for='data-96599f7c-a65b-4491-81ea-dc0a948b694b' title='Show/Hide data repr'><svg class='icon xr-icon-database'><use xlink:href='#icon-database'></use></svg></label><div class='xr-var-attrs'><dl class='xr-attrs'><dt><span>axis :</span></dt><dd>Z</dd><dt><span>desc :</span></dt><dd>The layer depth according to Seapodym definition</dd><dt><span>flag_meanings :</span></dt><dd>epipelagic, upper-mesopelagic, lower-mesopelagic</dd><dt><span>flag_values :</span></dt><dd>[0, 1, 2]</dd><dt><span>long_name :</span></dt><dd>Layer depth</dd><dt><span>standard_name :</span></dt><dd>layer</dd></dl></div><div class='xr-var-data'><pre>array([0])</pre></div></li><li class='xr-var-item'><div class='xr-var-name'><span class='xr-has-index'>longitude</span></div><div class='xr-var-dims'>(longitude)</div><div class='xr-var-dtype'>float64</div><div class='xr-var-preview xr-preview'>-156.5 -153.5 ... -129.5 -128.5</div><input id='attrs-51403ad8-86e5-4f7d-99aa-bbb8d12ccc7e' class='xr-var-attrs-in' type='checkbox' ><label for='attrs-51403ad8-86e5-4f7d-99aa-bbb8d12ccc7e' title='Show/Hide attributes'><svg class='icon xr-icon-file-text2'><use xlink:href='#icon-file-text2'></use></svg></label><input id='data-681c27f7-8f91-45ed-ba7a-65e1fbd56b4d' class='xr-var-data-in' type='checkbox'><label for='data-681c27f7-8f91-45ed-ba7a-65e1fbd56b4d' title='Show/Hide data repr'><svg class='icon xr-icon-database'><use xlink:href='#icon-database'></use></svg></label><div class='xr-var-attrs'><dl class='xr-attrs'><dt><span>axis :</span></dt><dd>X</dd><dt><span>long_name :</span></dt><dd>longitude</dd><dt><span>standard_name :</span></dt><dd>longitude</dd><dt><span>units :</span></dt><dd>degrees_east</dd></dl></div><div class='xr-var-data'><pre>array([-156.5, -153.5, -152.5, -151.5, -150.5, -149.5, -147.5, -146.5, -145.5,\n",
       "       -144.5, -143.5, -142.5, -141.5, -140.5, -139.5, -138.5, -137.5, -136.5,\n",
       "       -135.5, -134.5, -133.5, -132.5, -131.5, -130.5, -129.5, -128.5])</pre></div></li><li class='xr-var-item'><div class='xr-var-name'><span class='xr-has-index'>time</span></div><div class='xr-var-dims'>(time)</div><div class='xr-var-dtype'>datetime64[ns]</div><div class='xr-var-preview xr-preview'>1995-09-24 ... 2020-08-31</div><input id='attrs-c72b361e-b0f6-437a-b957-86d16b300311' class='xr-var-attrs-in' type='checkbox' ><label for='attrs-c72b361e-b0f6-437a-b957-86d16b300311' title='Show/Hide attributes'><svg class='icon xr-icon-file-text2'><use xlink:href='#icon-file-text2'></use></svg></label><input id='data-f59c129c-9af0-445f-a6bd-7a7b4c02ca1f' class='xr-var-data-in' type='checkbox'><label for='data-f59c129c-9af0-445f-a6bd-7a7b4c02ca1f' title='Show/Hide data repr'><svg class='icon xr-icon-database'><use xlink:href='#icon-database'></use></svg></label><div class='xr-var-attrs'><dl class='xr-attrs'><dt><span>axis :</span></dt><dd>T</dd><dt><span>long_name :</span></dt><dd>time</dd><dt><span>standard_name :</span></dt><dd>time</dd></dl></div><div class='xr-var-data'><pre>array([&#x27;1995-09-24T00:00:00.000000000&#x27;, &#x27;1995-09-25T00:00:00.000000000&#x27;,\n",
       "       &#x27;1995-09-26T00:00:00.000000000&#x27;, ..., &#x27;2020-08-20T00:00:00.000000000&#x27;,\n",
       "       &#x27;2020-08-30T00:00:00.000000000&#x27;, &#x27;2020-08-31T00:00:00.000000000&#x27;],\n",
       "      dtype=&#x27;datetime64[ns]&#x27;)</pre></div></li></ul></div></li><li class='xr-section-item'><input id='section-58ca474d-3408-40ac-aaa1-50921d63b24a' class='xr-section-summary-in' type='checkbox'  checked><label for='section-58ca474d-3408-40ac-aaa1-50921d63b24a' class='xr-section-summary' >Data variables: <span>(2)</span></label><div class='xr-section-inline-details'></div><div class='xr-section-details'><ul class='xr-var-list'><li class='xr-var-item'><div class='xr-var-name'><span>day</span></div><div class='xr-var-dims'>(time, latitude, longitude, layer)</div><div class='xr-var-dtype'>float64</div><div class='xr-var-preview xr-preview'>nan nan nan nan ... nan nan nan nan</div><input id='attrs-30c84790-78e6-43ef-bd3a-b74a05a2a2fc' class='xr-var-attrs-in' type='checkbox' ><label for='attrs-30c84790-78e6-43ef-bd3a-b74a05a2a2fc' title='Show/Hide attributes'><svg class='icon xr-icon-file-text2'><use xlink:href='#icon-file-text2'></use></svg></label><input id='data-c4a6f1bf-edda-41f7-b709-0bf17dbff656' class='xr-var-data-in' type='checkbox'><label for='data-c4a6f1bf-edda-41f7-b709-0bf17dbff656' title='Show/Hide data repr'><svg class='icon xr-icon-database'><use xlink:href='#icon-database'></use></svg></label><div class='xr-var-attrs'><dl class='xr-attrs'><dt><span>description :</span></dt><dd>Zooplankton carbon weight by cube meter of sea water at day</dd><dt><span>units :</span></dt><dd>mg/m3</dd></dl></div><div class='xr-var-data'><pre>array([[[[nan],\n",
       "         [nan],\n",
       "         [nan],\n",
       "         ...,\n",
       "         [nan],\n",
       "         [nan],\n",
       "         [nan]],\n",
       "\n",
       "        [[nan],\n",
       "         [nan],\n",
       "         [nan],\n",
       "         ...,\n",
       "         [nan],\n",
       "         [nan],\n",
       "         [nan]],\n",
       "\n",
       "        [[nan],\n",
       "         [nan],\n",
       "         [nan],\n",
       "         ...,\n",
       "...\n",
       "         ...,\n",
       "         [nan],\n",
       "         [nan],\n",
       "         [nan]],\n",
       "\n",
       "        [[nan],\n",
       "         [nan],\n",
       "         [nan],\n",
       "         ...,\n",
       "         [nan],\n",
       "         [nan],\n",
       "         [nan]],\n",
       "\n",
       "        [[nan],\n",
       "         [nan],\n",
       "         [nan],\n",
       "         ...,\n",
       "         [nan],\n",
       "         [nan],\n",
       "         [nan]]]])</pre></div></li><li class='xr-var-item'><div class='xr-var-name'><span>night</span></div><div class='xr-var-dims'>(time, latitude, longitude, layer)</div><div class='xr-var-dtype'>float64</div><div class='xr-var-preview xr-preview'>nan nan nan nan ... nan nan nan nan</div><input id='attrs-1c9a237d-80a5-4b65-be8b-7b8bdf9dcac4' class='xr-var-attrs-in' type='checkbox' ><label for='attrs-1c9a237d-80a5-4b65-be8b-7b8bdf9dcac4' title='Show/Hide attributes'><svg class='icon xr-icon-file-text2'><use xlink:href='#icon-file-text2'></use></svg></label><input id='data-51c4c85a-e23a-43c6-a176-f178da5c3a80' class='xr-var-data-in' type='checkbox'><label for='data-51c4c85a-e23a-43c6-a176-f178da5c3a80' title='Show/Hide data repr'><svg class='icon xr-icon-database'><use xlink:href='#icon-database'></use></svg></label><div class='xr-var-attrs'><dl class='xr-attrs'><dt><span>description :</span></dt><dd>Zooplankton carbon weight by cube meter of sea water at night</dd><dt><span>units :</span></dt><dd>mg/m3</dd></dl></div><div class='xr-var-data'><pre>array([[[[nan],\n",
       "         [nan],\n",
       "         [nan],\n",
       "         ...,\n",
       "         [nan],\n",
       "         [nan],\n",
       "         [nan]],\n",
       "\n",
       "        [[nan],\n",
       "         [nan],\n",
       "         [nan],\n",
       "         ...,\n",
       "         [nan],\n",
       "         [nan],\n",
       "         [nan]],\n",
       "\n",
       "        [[nan],\n",
       "         [nan],\n",
       "         [nan],\n",
       "         ...,\n",
       "...\n",
       "         ...,\n",
       "         [nan],\n",
       "         [nan],\n",
       "         [nan]],\n",
       "\n",
       "        [[nan],\n",
       "         [nan],\n",
       "         [nan],\n",
       "         ...,\n",
       "         [nan],\n",
       "         [nan],\n",
       "         [nan]],\n",
       "\n",
       "        [[nan],\n",
       "         [nan],\n",
       "         [nan],\n",
       "         ...,\n",
       "         [nan],\n",
       "         [nan],\n",
       "         [nan]]]])</pre></div></li></ul></div></li><li class='xr-section-item'><input id='section-b919c4be-7422-4382-82d1-eea386c1585c' class='xr-section-summary-in' type='checkbox'  ><label for='section-b919c4be-7422-4382-82d1-eea386c1585c' class='xr-section-summary' >Indexes: <span>(4)</span></label><div class='xr-section-inline-details'></div><div class='xr-section-details'><ul class='xr-var-list'><li class='xr-var-item'><div class='xr-index-name'><div>latitude</div></div><div class='xr-index-preview'>PandasIndex</div><input type='checkbox' disabled/><label></label><input id='index-857e3645-d6dc-42cd-a339-c92979da4326' class='xr-index-data-in' type='checkbox'/><label for='index-857e3645-d6dc-42cd-a339-c92979da4326' title='Show/Hide index repr'><svg class='icon xr-icon-database'><use xlink:href='#icon-database'></use></svg></label><div class='xr-index-data'><pre>PandasIndex(Index([46.5, 47.5, 48.5, 49.5, 50.5, 51.5, 52.5, 53.5, 54.5, 55.5, 56.5, 57.5], dtype=&#x27;float64&#x27;, name=&#x27;latitude&#x27;))</pre></div></li><li class='xr-var-item'><div class='xr-index-name'><div>layer</div></div><div class='xr-index-preview'>PandasIndex</div><input type='checkbox' disabled/><label></label><input id='index-5f952e22-b1e1-4222-a3ee-2504dcd46652' class='xr-index-data-in' type='checkbox'/><label for='index-5f952e22-b1e1-4222-a3ee-2504dcd46652' title='Show/Hide index repr'><svg class='icon xr-icon-database'><use xlink:href='#icon-database'></use></svg></label><div class='xr-index-data'><pre>PandasIndex(Index([0], dtype=&#x27;int64&#x27;, name=&#x27;layer&#x27;))</pre></div></li><li class='xr-var-item'><div class='xr-index-name'><div>longitude</div></div><div class='xr-index-preview'>PandasIndex</div><input type='checkbox' disabled/><label></label><input id='index-15b43593-bf62-4dfd-9c84-5e793f19a9bc' class='xr-index-data-in' type='checkbox'/><label for='index-15b43593-bf62-4dfd-9c84-5e793f19a9bc' title='Show/Hide index repr'><svg class='icon xr-icon-database'><use xlink:href='#icon-database'></use></svg></label><div class='xr-index-data'><pre>PandasIndex(Index([-156.5, -153.5, -152.5, -151.5, -150.5, -149.5, -147.5, -146.5, -145.5,\n",
       "       -144.5, -143.5, -142.5, -141.5, -140.5, -139.5, -138.5, -137.5, -136.5,\n",
       "       -135.5, -134.5, -133.5, -132.5, -131.5, -130.5, -129.5, -128.5],\n",
       "      dtype=&#x27;float64&#x27;, name=&#x27;longitude&#x27;))</pre></div></li><li class='xr-var-item'><div class='xr-index-name'><div>time</div></div><div class='xr-index-preview'>PandasIndex</div><input type='checkbox' disabled/><label></label><input id='index-b1989146-257b-45f3-987a-e5e3543c5376' class='xr-index-data-in' type='checkbox'/><label for='index-b1989146-257b-45f3-987a-e5e3543c5376' title='Show/Hide index repr'><svg class='icon xr-icon-database'><use xlink:href='#icon-database'></use></svg></label><div class='xr-index-data'><pre>PandasIndex(DatetimeIndex([&#x27;1995-09-24&#x27;, &#x27;1995-09-25&#x27;, &#x27;1995-09-26&#x27;, &#x27;1995-09-28&#x27;,\n",
       "               &#x27;1996-03-06&#x27;, &#x27;1996-06-11&#x27;, &#x27;1996-10-05&#x27;, &#x27;1997-02-21&#x27;,\n",
       "               &#x27;1997-02-24&#x27;, &#x27;1997-03-14&#x27;,\n",
       "               ...\n",
       "               &#x27;2020-07-05&#x27;, &#x27;2020-07-22&#x27;, &#x27;2020-07-26&#x27;, &#x27;2020-08-14&#x27;,\n",
       "               &#x27;2020-08-15&#x27;, &#x27;2020-08-17&#x27;, &#x27;2020-08-18&#x27;, &#x27;2020-08-20&#x27;,\n",
       "               &#x27;2020-08-30&#x27;, &#x27;2020-08-31&#x27;],\n",
       "              dtype=&#x27;datetime64[ns]&#x27;, name=&#x27;time&#x27;, length=623, freq=None))</pre></div></li></ul></div></li><li class='xr-section-item'><input id='section-c13cff5b-ffef-4915-b8e1-21d05193d037' class='xr-section-summary-in' type='checkbox' disabled ><label for='section-c13cff5b-ffef-4915-b8e1-21d05193d037' class='xr-section-summary'  title='Expand/collapse section'>Attributes: <span>(0)</span></label><div class='xr-section-inline-details'></div><div class='xr-section-details'><dl class='xr-attrs'></dl></div></li></ul></div></div>"
      ],
      "text/plain": [
       "<xarray.Dataset> Size: 3MB\n",
       "Dimensions:    (time: 623, latitude: 12, longitude: 26, layer: 1)\n",
       "Coordinates:\n",
       "  * latitude   (latitude) float64 96B 46.5 47.5 48.5 49.5 ... 55.5 56.5 57.5\n",
       "  * layer      (layer) int64 8B 0\n",
       "  * longitude  (longitude) float64 208B -156.5 -153.5 -152.5 ... -129.5 -128.5\n",
       "  * time       (time) datetime64[ns] 5kB 1995-09-24 1995-09-25 ... 2020-08-31\n",
       "Data variables:\n",
       "    day        (time, latitude, longitude, layer) float64 2MB nan nan ... nan\n",
       "    night      (time, latitude, longitude, layer) float64 2MB nan nan ... nan"
      ]
     },
     "execution_count": 3,
     "metadata": {},
     "output_type": "execute_result"
    }
   ],
   "source": [
    "data = xr.load_dataset(f\"../data/1_products/{station}_obs_filtered.zarr\", engine=\"zarr\")\n",
    "data"
   ]
  },
  {
   "cell_type": "code",
   "execution_count": 4,
   "metadata": {},
   "outputs": [],
   "source": [
    "with xr.set_options(keep_attrs=True):\n",
    "    layer = data.layer\n",
    "    data = data.mean(\"layer\")"
   ]
  },
  {
   "cell_type": "markdown",
   "metadata": {},
   "source": [
    "## Plot all observations\n"
   ]
  },
  {
   "cell_type": "code",
   "execution_count": 5,
   "metadata": {},
   "outputs": [],
   "source": [
    "data_df = data.mean([\"latitude\", \"longitude\"]).resample({\"time\": \"1MS\"}).mean().to_dataframe().dropna(how=\"all\")\n",
    "data_df = data_df.stack().rename(\"biomass\").reset_index().rename(columns={\"level_1\": \"is_day\"})\n",
    "data_df[\"year\"] = data_df[\"time\"].dt.year\n",
    "data_df[\"month\"] = data_df[\"time\"].dt.month"
   ]
  },
  {
   "cell_type": "code",
   "execution_count": 6,
   "metadata": {},
   "outputs": [
    {
     "data": {
      "application/vnd.plotly.v1+json": {
       "config": {
        "plotlyServerURL": "https://plot.ly"
       },
       "data": [
        {
         "alignmentgroup": "True",
         "boxpoints": "all",
         "fillcolor": "rgba(255,255,255,0)",
         "hoveron": "points",
         "hovertemplate": "year=1995<br>is_day=day<br>month=%{x}<br>biomass=%{y}<extra></extra>",
         "legendgroup": "1995",
         "line": {
          "color": "rgba(255,255,255,0)"
         },
         "marker": {
          "color": "#0d0887"
         },
         "name": "1995",
         "offsetgroup": "1995",
         "orientation": "v",
         "pointpos": 0,
         "showlegend": true,
         "type": "box",
         "x": [
          9
         ],
         "x0": " ",
         "xaxis": "x2",
         "y": [
          6.025432
         ],
         "y0": " ",
         "yaxis": "y2"
        },
        {
         "alignmentgroup": "True",
         "boxpoints": "all",
         "fillcolor": "rgba(255,255,255,0)",
         "hoveron": "points",
         "hovertemplate": "year=1995<br>is_day=night<br>month=%{x}<br>biomass=%{y}<extra></extra>",
         "legendgroup": "1995",
         "line": {
          "color": "rgba(255,255,255,0)"
         },
         "marker": {
          "color": "#0d0887"
         },
         "name": "1995",
         "offsetgroup": "1995",
         "orientation": "v",
         "pointpos": 0,
         "showlegend": false,
         "type": "box",
         "x": [
          9
         ],
         "x0": " ",
         "xaxis": "x",
         "y": [
          10.785291
         ],
         "y0": " ",
         "yaxis": "y"
        },
        {
         "alignmentgroup": "True",
         "boxpoints": "all",
         "fillcolor": "rgba(255,255,255,0)",
         "hoveron": "points",
         "hovertemplate": "year=1996<br>is_day=day<br>month=%{x}<br>biomass=%{y}<extra></extra>",
         "legendgroup": "1996",
         "line": {
          "color": "rgba(255,255,255,0)"
         },
         "marker": {
          "color": "#260591"
         },
         "name": "1996",
         "offsetgroup": "1996",
         "orientation": "v",
         "pointpos": 0,
         "showlegend": true,
         "type": "box",
         "x": [
          3
         ],
         "x0": " ",
         "xaxis": "x2",
         "y": [
          6.338296000000001
         ],
         "y0": " ",
         "yaxis": "y2"
        },
        {
         "alignmentgroup": "True",
         "boxpoints": "all",
         "fillcolor": "rgba(255,255,255,0)",
         "hoveron": "points",
         "hovertemplate": "year=1996<br>is_day=night<br>month=%{x}<br>biomass=%{y}<extra></extra>",
         "legendgroup": "1996",
         "line": {
          "color": "rgba(255,255,255,0)"
         },
         "marker": {
          "color": "#260591"
         },
         "name": "1996",
         "offsetgroup": "1996",
         "orientation": "v",
         "pointpos": 0,
         "showlegend": false,
         "type": "box",
         "x": [
          6,
          10
         ],
         "x0": " ",
         "xaxis": "x",
         "y": [
          9.188519999999997,
          11.379199999999999
         ],
         "y0": " ",
         "yaxis": "y"
        },
        {
         "alignmentgroup": "True",
         "boxpoints": "all",
         "fillcolor": "rgba(255,255,255,0)",
         "hoveron": "points",
         "hovertemplate": "year=1997<br>is_day=day<br>month=%{x}<br>biomass=%{y}<extra></extra>",
         "legendgroup": "1997",
         "line": {
          "color": "rgba(255,255,255,0)"
         },
         "marker": {
          "color": "#38049a"
         },
         "name": "1997",
         "offsetgroup": "1997",
         "orientation": "v",
         "pointpos": 0,
         "showlegend": true,
         "type": "box",
         "x": [
          3,
          4,
          6,
          7,
          8,
          9,
          12
         ],
         "x0": " ",
         "xaxis": "x2",
         "y": [
          5.6494466363636375,
          9.113796,
          11.523857090909091,
          4.5417706,
          7.432908000000001,
          6.32560185,
          4.060796
         ],
         "y0": " ",
         "yaxis": "y2"
        },
        {
         "alignmentgroup": "True",
         "boxpoints": "all",
         "fillcolor": "rgba(255,255,255,0)",
         "hoveron": "points",
         "hovertemplate": "year=1997<br>is_day=night<br>month=%{x}<br>biomass=%{y}<extra></extra>",
         "legendgroup": "1997",
         "line": {
          "color": "rgba(255,255,255,0)"
         },
         "marker": {
          "color": "#38049a"
         },
         "name": "1997",
         "offsetgroup": "1997",
         "orientation": "v",
         "pointpos": 0,
         "showlegend": false,
         "type": "box",
         "x": [
          2,
          6,
          7,
          9
         ],
         "x0": " ",
         "xaxis": "x",
         "y": [
          4.504815333333333,
          8.214580000000002,
          10.469499999999996,
          22.427618000000002
         ],
         "y0": " ",
         "yaxis": "y"
        },
        {
         "alignmentgroup": "True",
         "boxpoints": "all",
         "fillcolor": "rgba(255,255,255,0)",
         "hoveron": "points",
         "hovertemplate": "year=1998<br>is_day=day<br>month=%{x}<br>biomass=%{y}<extra></extra>",
         "legendgroup": "1998",
         "line": {
          "color": "rgba(255,255,255,0)"
         },
         "marker": {
          "color": "#4903a0"
         },
         "name": "1998",
         "offsetgroup": "1998",
         "orientation": "v",
         "pointpos": 0,
         "showlegend": true,
         "type": "box",
         "x": [
          1,
          2,
          3,
          4,
          5,
          6,
          7,
          8,
          9,
          10
         ],
         "x0": " ",
         "xaxis": "x2",
         "y": [
          1.559128,
          2.2523153750000002,
          4.806784,
          9.825992,
          17.11456766666667,
          14.221021555555557,
          14.28517979761905,
          3.711416,
          3.3982640000000006,
          5.631999
         ],
         "y0": " ",
         "yaxis": "y2"
        },
        {
         "alignmentgroup": "True",
         "boxpoints": "all",
         "fillcolor": "rgba(255,255,255,0)",
         "hoveron": "points",
         "hovertemplate": "year=1998<br>is_day=night<br>month=%{x}<br>biomass=%{y}<extra></extra>",
         "legendgroup": "1998",
         "line": {
          "color": "rgba(255,255,255,0)"
         },
         "marker": {
          "color": "#4903a0"
         },
         "name": "1998",
         "offsetgroup": "1998",
         "orientation": "v",
         "pointpos": 0,
         "showlegend": false,
         "type": "box",
         "x": [
          1,
          2,
          3,
          4,
          6,
          7,
          8,
          9,
          10
         ],
         "x0": " ",
         "xaxis": "x",
         "y": [
          2.9162200000000005,
          6.520718666666666,
          8.228772,
          7.504964000000001,
          17.819784499999997,
          17.194710999999998,
          10.790450666666667,
          8.701976,
          19.940937
         ],
         "y0": " ",
         "yaxis": "y"
        },
        {
         "alignmentgroup": "True",
         "boxpoints": "all",
         "fillcolor": "rgba(255,255,255,0)",
         "hoveron": "points",
         "hovertemplate": "year=1999<br>is_day=day<br>month=%{x}<br>biomass=%{y}<extra></extra>",
         "legendgroup": "1999",
         "line": {
          "color": "rgba(255,255,255,0)"
         },
         "marker": {
          "color": "#5901a5"
         },
         "name": "1999",
         "offsetgroup": "1999",
         "orientation": "v",
         "pointpos": 0,
         "showlegend": true,
         "type": "box",
         "x": [
          2,
          5,
          6,
          7,
          8,
          9
         ],
         "x0": " ",
         "xaxis": "x2",
         "y": [
          4.060206000000001,
          19.097240000000006,
          18.412856,
          15.877814771428573,
          2.8893260000000005,
          5.011156
         ],
         "y0": " ",
         "yaxis": "y2"
        },
        {
         "alignmentgroup": "True",
         "boxpoints": "all",
         "fillcolor": "rgba(255,255,255,0)",
         "hoveron": "points",
         "hovertemplate": "year=1999<br>is_day=night<br>month=%{x}<br>biomass=%{y}<extra></extra>",
         "legendgroup": "1999",
         "line": {
          "color": "rgba(255,255,255,0)"
         },
         "marker": {
          "color": "#5901a5"
         },
         "name": "1999",
         "offsetgroup": "1999",
         "orientation": "v",
         "pointpos": 0,
         "showlegend": false,
         "type": "box",
         "x": [
          2,
          5,
          8,
          9,
          10
         ],
         "x0": " ",
         "xaxis": "x",
         "y": [
          7.772531333333333,
          12.026934000000004,
          15.653120000000001,
          10.070568999999999,
          12.327728000000002
         ],
         "y0": " ",
         "yaxis": "y"
        },
        {
         "alignmentgroup": "True",
         "boxpoints": "all",
         "fillcolor": "rgba(255,255,255,0)",
         "hoveron": "points",
         "hovertemplate": "year=2000<br>is_day=day<br>month=%{x}<br>biomass=%{y}<extra></extra>",
         "legendgroup": "2000",
         "line": {
          "color": "rgba(255,255,255,0)"
         },
         "marker": {
          "color": "#6a00a8"
         },
         "name": "2000",
         "offsetgroup": "2000",
         "orientation": "v",
         "pointpos": 0,
         "showlegend": true,
         "type": "box",
         "x": [
          2,
          5,
          6,
          7,
          8,
          9,
          10
         ],
         "x0": " ",
         "xaxis": "x2",
         "y": [
          3.1030439999999997,
          5.85488,
          29.01499533333333,
          27.79908696,
          6.73859425,
          11.558892,
          7.213391833333334
         ],
         "y0": " ",
         "yaxis": "y2"
        },
        {
         "alignmentgroup": "True",
         "boxpoints": "all",
         "fillcolor": "rgba(255,255,255,0)",
         "hoveron": "points",
         "hovertemplate": "year=2000<br>is_day=night<br>month=%{x}<br>biomass=%{y}<extra></extra>",
         "legendgroup": "2000",
         "line": {
          "color": "rgba(255,255,255,0)"
         },
         "marker": {
          "color": "#6a00a8"
         },
         "name": "2000",
         "offsetgroup": "2000",
         "orientation": "v",
         "pointpos": 0,
         "showlegend": false,
         "type": "box",
         "x": [
          5,
          6,
          7,
          8,
          9,
          10
         ],
         "x0": " ",
         "xaxis": "x",
         "y": [
          28.077995333333334,
          15.259653333333333,
          13.528015866666667,
          17.085333333333335,
          11.612719444444444,
          8.921092
         ],
         "y0": " ",
         "yaxis": "y"
        },
        {
         "alignmentgroup": "True",
         "boxpoints": "all",
         "fillcolor": "rgba(255,255,255,0)",
         "hoveron": "points",
         "hovertemplate": "year=2001<br>is_day=day<br>month=%{x}<br>biomass=%{y}<extra></extra>",
         "legendgroup": "2001",
         "line": {
          "color": "rgba(255,255,255,0)"
         },
         "marker": {
          "color": "#7a02a8"
         },
         "name": "2001",
         "offsetgroup": "2001",
         "orientation": "v",
         "pointpos": 0,
         "showlegend": true,
         "type": "box",
         "x": [
          2,
          3,
          5,
          6,
          7,
          8,
          9
         ],
         "x0": " ",
         "xaxis": "x2",
         "y": [
          6.8944600000000005,
          2.344872,
          13.498708,
          20.26394368888889,
          17.375378166666664,
          9.924496000000001,
          11.260659571428572
         ],
         "y0": " ",
         "yaxis": "y2"
        },
        {
         "alignmentgroup": "True",
         "boxpoints": "all",
         "fillcolor": "rgba(255,255,255,0)",
         "hoveron": "points",
         "hovertemplate": "year=2001<br>is_day=night<br>month=%{x}<br>biomass=%{y}<extra></extra>",
         "legendgroup": "2001",
         "line": {
          "color": "rgba(255,255,255,0)"
         },
         "marker": {
          "color": "#7a02a8"
         },
         "name": "2001",
         "offsetgroup": "2001",
         "orientation": "v",
         "pointpos": 0,
         "showlegend": false,
         "type": "box",
         "x": [
          2,
          6,
          8,
          9,
          10
         ],
         "x0": " ",
         "xaxis": "x",
         "y": [
          8.140601333333334,
          27.095738642857146,
          9.231852,
          13.162900000000002,
          2.0342960000000003
         ],
         "y0": " ",
         "yaxis": "y"
        },
        {
         "alignmentgroup": "True",
         "boxpoints": "all",
         "fillcolor": "rgba(255,255,255,0)",
         "hoveron": "points",
         "hovertemplate": "year=2002<br>is_day=day<br>month=%{x}<br>biomass=%{y}<extra></extra>",
         "legendgroup": "2002",
         "line": {
          "color": "rgba(255,255,255,0)"
         },
         "marker": {
          "color": "#8808a6"
         },
         "name": "2002",
         "offsetgroup": "2002",
         "orientation": "v",
         "pointpos": 0,
         "showlegend": true,
         "type": "box",
         "x": [
          2,
          3,
          5,
          6,
          7,
          8,
          9,
          10
         ],
         "x0": " ",
         "xaxis": "x2",
         "y": [
          2.8422800000000006,
          3.777444,
          26.189386000000002,
          18.9299105,
          11.786672833333334,
          12.544393,
          6.829471111111111,
          7.9978055
         ],
         "y0": " ",
         "yaxis": "y2"
        },
        {
         "alignmentgroup": "True",
         "boxpoints": "all",
         "fillcolor": "rgba(255,255,255,0)",
         "hoveron": "points",
         "hovertemplate": "year=2002<br>is_day=night<br>month=%{x}<br>biomass=%{y}<extra></extra>",
         "legendgroup": "2002",
         "line": {
          "color": "rgba(255,255,255,0)"
         },
         "marker": {
          "color": "#8808a6"
         },
         "name": "2002",
         "offsetgroup": "2002",
         "orientation": "v",
         "pointpos": 0,
         "showlegend": false,
         "type": "box",
         "x": [
          2,
          7,
          8,
          9,
          10
         ],
         "x0": " ",
         "xaxis": "x",
         "y": [
          8.728544666666668,
          13.2916,
          17.30976533333333,
          16.21843,
          5.180768
         ],
         "y0": " ",
         "yaxis": "y"
        },
        {
         "alignmentgroup": "True",
         "boxpoints": "all",
         "fillcolor": "rgba(255,255,255,0)",
         "hoveron": "points",
         "hovertemplate": "year=2003<br>is_day=day<br>month=%{x}<br>biomass=%{y}<extra></extra>",
         "legendgroup": "2003",
         "line": {
          "color": "rgba(255,255,255,0)"
         },
         "marker": {
          "color": "#9613a1"
         },
         "name": "2003",
         "offsetgroup": "2003",
         "orientation": "v",
         "pointpos": 0,
         "showlegend": true,
         "type": "box",
         "x": [
          2,
          5,
          6,
          9
         ],
         "x0": " ",
         "xaxis": "x2",
         "y": [
          4.806581833333333,
          16.509247000000002,
          15.945877000000003,
          9.004304
         ],
         "y0": " ",
         "yaxis": "y2"
        },
        {
         "alignmentgroup": "True",
         "boxpoints": "all",
         "fillcolor": "rgba(255,255,255,0)",
         "hoveron": "points",
         "hovertemplate": "year=2003<br>is_day=night<br>month=%{x}<br>biomass=%{y}<extra></extra>",
         "legendgroup": "2003",
         "line": {
          "color": "rgba(255,255,255,0)"
         },
         "marker": {
          "color": "#9613a1"
         },
         "name": "2003",
         "offsetgroup": "2003",
         "orientation": "v",
         "pointpos": 0,
         "showlegend": false,
         "type": "box",
         "x": [
          6,
          9,
          10
         ],
         "x0": " ",
         "xaxis": "x",
         "y": [
          23.838772000000006,
          15.633558,
          11.347130000000002
         ],
         "y0": " ",
         "yaxis": "y"
        },
        {
         "alignmentgroup": "True",
         "boxpoints": "all",
         "fillcolor": "rgba(255,255,255,0)",
         "hoveron": "points",
         "hovertemplate": "year=2004<br>is_day=day<br>month=%{x}<br>biomass=%{y}<extra></extra>",
         "legendgroup": "2004",
         "line": {
          "color": "rgba(255,255,255,0)"
         },
         "marker": {
          "color": "#a51f99"
         },
         "name": "2004",
         "offsetgroup": "2004",
         "orientation": "v",
         "pointpos": 0,
         "showlegend": true,
         "type": "box",
         "x": [
          2,
          5,
          6,
          8,
          9,
          10
         ],
         "x0": " ",
         "xaxis": "x2",
         "y": [
          5.4821884999999995,
          13.411103,
          11.371276375,
          8.899622666666668,
          12.533864000000001,
          8.370898
         ],
         "y0": " ",
         "yaxis": "y2"
        },
        {
         "alignmentgroup": "True",
         "boxpoints": "all",
         "fillcolor": "rgba(255,255,255,0)",
         "hoveron": "points",
         "hovertemplate": "year=2004<br>is_day=night<br>month=%{x}<br>biomass=%{y}<extra></extra>",
         "legendgroup": "2004",
         "line": {
          "color": "rgba(255,255,255,0)"
         },
         "marker": {
          "color": "#a51f99"
         },
         "name": "2004",
         "offsetgroup": "2004",
         "orientation": "v",
         "pointpos": 0,
         "showlegend": false,
         "type": "box",
         "x": [
          2,
          6,
          8,
          9
         ],
         "x0": " ",
         "xaxis": "x",
         "y": [
          9.972696000000001,
          9.725824000000001,
          8.962896,
          8.600224000000003
         ],
         "y0": " ",
         "yaxis": "y"
        },
        {
         "alignmentgroup": "True",
         "boxpoints": "all",
         "fillcolor": "rgba(255,255,255,0)",
         "hoveron": "points",
         "hovertemplate": "year=2005<br>is_day=day<br>month=%{x}<br>biomass=%{y}<extra></extra>",
         "legendgroup": "2005",
         "line": {
          "color": "rgba(255,255,255,0)"
         },
         "marker": {
          "color": "#b12a90"
         },
         "name": "2005",
         "offsetgroup": "2005",
         "orientation": "v",
         "pointpos": 0,
         "showlegend": true,
         "type": "box",
         "x": [
          2,
          3,
          5,
          6,
          7,
          8,
          9
         ],
         "x0": " ",
         "xaxis": "x2",
         "y": [
          11.5265852,
          4.991275833333334,
          24.896472000000003,
          12.491205333333335,
          5.245964000000001,
          8.1396584,
          3.5532719999999998
         ],
         "y0": " ",
         "yaxis": "y2"
        },
        {
         "alignmentgroup": "True",
         "boxpoints": "all",
         "fillcolor": "rgba(255,255,255,0)",
         "hoveron": "points",
         "hovertemplate": "year=2005<br>is_day=night<br>month=%{x}<br>biomass=%{y}<extra></extra>",
         "legendgroup": "2005",
         "line": {
          "color": "rgba(255,255,255,0)"
         },
         "marker": {
          "color": "#b12a90"
         },
         "name": "2005",
         "offsetgroup": "2005",
         "orientation": "v",
         "pointpos": 0,
         "showlegend": false,
         "type": "box",
         "x": [
          2,
          3,
          5,
          6,
          8,
          9
         ],
         "x0": " ",
         "xaxis": "x",
         "y": [
          10.745522999999999,
          8.27766,
          8.576712,
          12.930955999999998,
          15.424705000000001,
          2.439196
         ],
         "y0": " ",
         "yaxis": "y"
        },
        {
         "alignmentgroup": "True",
         "boxpoints": "all",
         "fillcolor": "rgba(255,255,255,0)",
         "hoveron": "points",
         "hovertemplate": "year=2006<br>is_day=day<br>month=%{x}<br>biomass=%{y}<extra></extra>",
         "legendgroup": "2006",
         "line": {
          "color": "rgba(255,255,255,0)"
         },
         "marker": {
          "color": "#bc3587"
         },
         "name": "2006",
         "offsetgroup": "2006",
         "orientation": "v",
         "pointpos": 0,
         "showlegend": true,
         "type": "box",
         "x": [
          2,
          4,
          7,
          8,
          9,
          10
         ],
         "x0": " ",
         "xaxis": "x2",
         "y": [
          5.221257333333334,
          12.207764000000003,
          10.646840000000001,
          7.054236,
          4.728998666666667,
          6.910170000000001
         ],
         "y0": " ",
         "yaxis": "y2"
        },
        {
         "alignmentgroup": "True",
         "boxpoints": "all",
         "fillcolor": "rgba(255,255,255,0)",
         "hoveron": "points",
         "hovertemplate": "year=2006<br>is_day=night<br>month=%{x}<br>biomass=%{y}<extra></extra>",
         "legendgroup": "2006",
         "line": {
          "color": "rgba(255,255,255,0)"
         },
         "marker": {
          "color": "#bc3587"
         },
         "name": "2006",
         "offsetgroup": "2006",
         "orientation": "v",
         "pointpos": 0,
         "showlegend": false,
         "type": "box",
         "x": [
          2,
          4,
          9,
          10
         ],
         "x0": " ",
         "xaxis": "x",
         "y": [
          7.605124,
          7.553700000000001,
          5.010906,
          4.676896
         ],
         "y0": " ",
         "yaxis": "y"
        },
        {
         "alignmentgroup": "True",
         "boxpoints": "all",
         "fillcolor": "rgba(255,255,255,0)",
         "hoveron": "points",
         "hovertemplate": "year=2007<br>is_day=day<br>month=%{x}<br>biomass=%{y}<extra></extra>",
         "legendgroup": "2007",
         "line": {
          "color": "rgba(255,255,255,0)"
         },
         "marker": {
          "color": "#c6417d"
         },
         "name": "2007",
         "offsetgroup": "2007",
         "orientation": "v",
         "pointpos": 0,
         "showlegend": true,
         "type": "box",
         "x": [
          2,
          5,
          6,
          7,
          8,
          9
         ],
         "x0": " ",
         "xaxis": "x2",
         "y": [
          5.880899333333333,
          31.31296799999999,
          15.342830800000002,
          17.371361333333336,
          5.750174,
          4.0356320000000006
         ],
         "y0": " ",
         "yaxis": "y2"
        },
        {
         "alignmentgroup": "True",
         "boxpoints": "all",
         "fillcolor": "rgba(255,255,255,0)",
         "hoveron": "points",
         "hovertemplate": "year=2007<br>is_day=night<br>month=%{x}<br>biomass=%{y}<extra></extra>",
         "legendgroup": "2007",
         "line": {
          "color": "rgba(255,255,255,0)"
         },
         "marker": {
          "color": "#c6417d"
         },
         "name": "2007",
         "offsetgroup": "2007",
         "orientation": "v",
         "pointpos": 0,
         "showlegend": false,
         "type": "box",
         "x": [
          2,
          6
         ],
         "x0": " ",
         "xaxis": "x",
         "y": [
          5.730954666666666,
          21.599664500000003
         ],
         "y0": " ",
         "yaxis": "y"
        },
        {
         "alignmentgroup": "True",
         "boxpoints": "all",
         "fillcolor": "rgba(255,255,255,0)",
         "hoveron": "points",
         "hovertemplate": "year=2008<br>is_day=day<br>month=%{x}<br>biomass=%{y}<extra></extra>",
         "legendgroup": "2008",
         "line": {
          "color": "rgba(255,255,255,0)"
         },
         "marker": {
          "color": "#d04d73"
         },
         "name": "2008",
         "offsetgroup": "2008",
         "orientation": "v",
         "pointpos": 0,
         "showlegend": true,
         "type": "box",
         "x": [
          2,
          5,
          6,
          7,
          8,
          9
         ],
         "x0": " ",
         "xaxis": "x2",
         "y": [
          3.4372208,
          12.169524,
          26.0626824,
          14.011404000000002,
          22.611197999999998,
          8.238935999999999
         ],
         "y0": " ",
         "yaxis": "y2"
        },
        {
         "alignmentgroup": "True",
         "boxpoints": "all",
         "fillcolor": "rgba(255,255,255,0)",
         "hoveron": "points",
         "hovertemplate": "year=2008<br>is_day=night<br>month=%{x}<br>biomass=%{y}<extra></extra>",
         "legendgroup": "2008",
         "line": {
          "color": "rgba(255,255,255,0)"
         },
         "marker": {
          "color": "#d04d73"
         },
         "name": "2008",
         "offsetgroup": "2008",
         "orientation": "v",
         "pointpos": 0,
         "showlegend": false,
         "type": "box",
         "x": [
          8,
          9,
          10
         ],
         "x0": " ",
         "xaxis": "x",
         "y": [
          29.294018666666673,
          8.86464,
          2.6440319999999997
         ],
         "y0": " ",
         "yaxis": "y"
        },
        {
         "alignmentgroup": "True",
         "boxpoints": "all",
         "fillcolor": "rgba(255,255,255,0)",
         "hoveron": "points",
         "hovertemplate": "year=2009<br>is_day=day<br>month=%{x}<br>biomass=%{y}<extra></extra>",
         "legendgroup": "2009",
         "line": {
          "color": "rgba(255,255,255,0)"
         },
         "marker": {
          "color": "#d9586a"
         },
         "name": "2009",
         "offsetgroup": "2009",
         "orientation": "v",
         "pointpos": 0,
         "showlegend": true,
         "type": "box",
         "x": [
          1,
          5,
          6,
          7,
          8,
          9
         ],
         "x0": " ",
         "xaxis": "x2",
         "y": [
          4.720330000000001,
          11.880586,
          15.503550666666667,
          13.537034000000002,
          13.098128,
          4.7874680000000005
         ],
         "y0": " ",
         "yaxis": "y2"
        },
        {
         "alignmentgroup": "True",
         "boxpoints": "all",
         "fillcolor": "rgba(255,255,255,0)",
         "hoveron": "points",
         "hovertemplate": "year=2009<br>is_day=night<br>month=%{x}<br>biomass=%{y}<extra></extra>",
         "legendgroup": "2009",
         "line": {
          "color": "rgba(255,255,255,0)"
         },
         "marker": {
          "color": "#d9586a"
         },
         "name": "2009",
         "offsetgroup": "2009",
         "orientation": "v",
         "pointpos": 0,
         "showlegend": false,
         "type": "box",
         "x": [
          2,
          6,
          8
         ],
         "x0": " ",
         "xaxis": "x",
         "y": [
          12.021382999999998,
          20.113044000000002,
          16.544287999999998
         ],
         "y0": " ",
         "yaxis": "y"
        },
        {
         "alignmentgroup": "True",
         "boxpoints": "all",
         "fillcolor": "rgba(255,255,255,0)",
         "hoveron": "points",
         "hovertemplate": "year=2010<br>is_day=day<br>month=%{x}<br>biomass=%{y}<extra></extra>",
         "legendgroup": "2010",
         "line": {
          "color": "rgba(255,255,255,0)"
         },
         "marker": {
          "color": "#e16462"
         },
         "name": "2010",
         "offsetgroup": "2010",
         "orientation": "v",
         "pointpos": 0,
         "showlegend": true,
         "type": "box",
         "x": [
          2,
          5,
          6,
          7,
          8,
          9
         ],
         "x0": " ",
         "xaxis": "x2",
         "y": [
          3.079204,
          9.832368,
          22.218206666666664,
          15.037735000000001,
          10.053703200000001,
          3.337952
         ],
         "y0": " ",
         "yaxis": "y2"
        },
        {
         "alignmentgroup": "True",
         "boxpoints": "all",
         "fillcolor": "rgba(255,255,255,0)",
         "hoveron": "points",
         "hovertemplate": "year=2010<br>is_day=night<br>month=%{x}<br>biomass=%{y}<extra></extra>",
         "legendgroup": "2010",
         "line": {
          "color": "rgba(255,255,255,0)"
         },
         "marker": {
          "color": "#e16462"
         },
         "name": "2010",
         "offsetgroup": "2010",
         "orientation": "v",
         "pointpos": 0,
         "showlegend": false,
         "type": "box",
         "x": [
          2,
          6,
          9
         ],
         "x0": " ",
         "xaxis": "x",
         "y": [
          5.153792000000001,
          21.721697999999996,
          23.961906000000006
         ],
         "y0": " ",
         "yaxis": "y"
        },
        {
         "alignmentgroup": "True",
         "boxpoints": "all",
         "fillcolor": "rgba(255,255,255,0)",
         "hoveron": "points",
         "hovertemplate": "year=2011<br>is_day=day<br>month=%{x}<br>biomass=%{y}<extra></extra>",
         "legendgroup": "2011",
         "line": {
          "color": "rgba(255,255,255,0)"
         },
         "marker": {
          "color": "#e87059"
         },
         "name": "2011",
         "offsetgroup": "2011",
         "orientation": "v",
         "pointpos": 0,
         "showlegend": true,
         "type": "box",
         "x": [
          2,
          5,
          6,
          8,
          9
         ],
         "x0": " ",
         "xaxis": "x2",
         "y": [
          4.7734768,
          22.241825000000002,
          17.351065600000002,
          10.506867999999999,
          7.9377233333333335
         ],
         "y0": " ",
         "yaxis": "y2"
        },
        {
         "alignmentgroup": "True",
         "boxpoints": "all",
         "fillcolor": "rgba(255,255,255,0)",
         "hoveron": "points",
         "hovertemplate": "year=2011<br>is_day=night<br>month=%{x}<br>biomass=%{y}<extra></extra>",
         "legendgroup": "2011",
         "line": {
          "color": "rgba(255,255,255,0)"
         },
         "marker": {
          "color": "#e87059"
         },
         "name": "2011",
         "offsetgroup": "2011",
         "orientation": "v",
         "pointpos": 0,
         "showlegend": false,
         "type": "box",
         "x": [
          5,
          8
         ],
         "x0": " ",
         "xaxis": "x",
         "y": [
          6.357728000000001,
          5.38476
         ],
         "y0": " ",
         "yaxis": "y"
        },
        {
         "alignmentgroup": "True",
         "boxpoints": "all",
         "fillcolor": "rgba(255,255,255,0)",
         "hoveron": "points",
         "hovertemplate": "year=2012<br>is_day=day<br>month=%{x}<br>biomass=%{y}<extra></extra>",
         "legendgroup": "2012",
         "line": {
          "color": "rgba(255,255,255,0)"
         },
         "marker": {
          "color": "#ef7e50"
         },
         "name": "2012",
         "offsetgroup": "2012",
         "orientation": "v",
         "pointpos": 0,
         "showlegend": true,
         "type": "box",
         "x": [
          2,
          5,
          8,
          9
         ],
         "x0": " ",
         "xaxis": "x2",
         "y": [
          3.024929333333333,
          19.108976000000002,
          8.38574,
          5.872608
         ],
         "y0": " ",
         "yaxis": "y2"
        },
        {
         "alignmentgroup": "True",
         "boxpoints": "all",
         "fillcolor": "rgba(255,255,255,0)",
         "hoveron": "points",
         "hovertemplate": "year=2012<br>is_day=night<br>month=%{x}<br>biomass=%{y}<extra></extra>",
         "legendgroup": "2012",
         "line": {
          "color": "rgba(255,255,255,0)"
         },
         "marker": {
          "color": "#ef7e50"
         },
         "name": "2012",
         "offsetgroup": "2012",
         "orientation": "v",
         "pointpos": 0,
         "showlegend": false,
         "type": "box",
         "x": [
          2,
          5,
          6,
          8
         ],
         "x0": " ",
         "xaxis": "x",
         "y": [
          10.863058,
          16.361820000000005,
          11.289439999999999,
          10.851455999999999
         ],
         "y0": " ",
         "yaxis": "y"
        },
        {
         "alignmentgroup": "True",
         "boxpoints": "all",
         "fillcolor": "rgba(255,255,255,0)",
         "hoveron": "points",
         "hovertemplate": "year=2013<br>is_day=day<br>month=%{x}<br>biomass=%{y}<extra></extra>",
         "legendgroup": "2013",
         "line": {
          "color": "rgba(255,255,255,0)"
         },
         "marker": {
          "color": "#f58b47"
         },
         "name": "2013",
         "offsetgroup": "2013",
         "orientation": "v",
         "pointpos": 0,
         "showlegend": true,
         "type": "box",
         "x": [
          2,
          6,
          8
         ],
         "x0": " ",
         "xaxis": "x2",
         "y": [
          8.109266,
          28.815328,
          6.488195999999999
         ],
         "y0": " ",
         "yaxis": "y2"
        },
        {
         "alignmentgroup": "True",
         "boxpoints": "all",
         "fillcolor": "rgba(255,255,255,0)",
         "hoveron": "points",
         "hovertemplate": "year=2013<br>is_day=night<br>month=%{x}<br>biomass=%{y}<extra></extra>",
         "legendgroup": "2013",
         "line": {
          "color": "rgba(255,255,255,0)"
         },
         "marker": {
          "color": "#f58b47"
         },
         "name": "2013",
         "offsetgroup": "2013",
         "orientation": "v",
         "pointpos": 0,
         "showlegend": false,
         "type": "box",
         "x": [
          2,
          6,
          8,
          9
         ],
         "x0": " ",
         "xaxis": "x",
         "y": [
          11.467464000000001,
          12.327258666666667,
          13.925920000000001,
          7.462696000000001
         ],
         "y0": " ",
         "yaxis": "y"
        },
        {
         "alignmentgroup": "True",
         "boxpoints": "all",
         "fillcolor": "rgba(255,255,255,0)",
         "hoveron": "points",
         "hovertemplate": "year=2014<br>is_day=day<br>month=%{x}<br>biomass=%{y}<extra></extra>",
         "legendgroup": "2014",
         "line": {
          "color": "rgba(255,255,255,0)"
         },
         "marker": {
          "color": "#f9983e"
         },
         "name": "2014",
         "offsetgroup": "2014",
         "orientation": "v",
         "pointpos": 0,
         "showlegend": true,
         "type": "box",
         "x": [
          6,
          8,
          9
         ],
         "x0": " ",
         "xaxis": "x2",
         "y": [
          13.559199999999999,
          9.448148000000002,
          5.151916000000001
         ],
         "y0": " ",
         "yaxis": "y2"
        },
        {
         "alignmentgroup": "True",
         "boxpoints": "all",
         "fillcolor": "rgba(255,255,255,0)",
         "hoveron": "points",
         "hovertemplate": "year=2014<br>is_day=night<br>month=%{x}<br>biomass=%{y}<extra></extra>",
         "legendgroup": "2014",
         "line": {
          "color": "rgba(255,255,255,0)"
         },
         "marker": {
          "color": "#f9983e"
         },
         "name": "2014",
         "offsetgroup": "2014",
         "orientation": "v",
         "pointpos": 0,
         "showlegend": false,
         "type": "box",
         "x": [
          2,
          8,
          9
         ],
         "x0": " ",
         "xaxis": "x",
         "y": [
          5.924773999999999,
          10.619762000000001,
          8.352120000000001
         ],
         "y0": " ",
         "yaxis": "y"
        },
        {
         "alignmentgroup": "True",
         "boxpoints": "all",
         "fillcolor": "rgba(255,255,255,0)",
         "hoveron": "points",
         "hovertemplate": "year=2015<br>is_day=day<br>month=%{x}<br>biomass=%{y}<extra></extra>",
         "legendgroup": "2015",
         "line": {
          "color": "rgba(255,255,255,0)"
         },
         "marker": {
          "color": "#fca636"
         },
         "name": "2015",
         "offsetgroup": "2015",
         "orientation": "v",
         "pointpos": 0,
         "showlegend": true,
         "type": "box",
         "x": [
          2,
          6,
          7,
          8,
          9
         ],
         "x0": " ",
         "xaxis": "x2",
         "y": [
          3.5479186666666664,
          14.177884800000001,
          11.688417571428571,
          7.309026666666668,
          7.547356
         ],
         "y0": " ",
         "yaxis": "y2"
        },
        {
         "alignmentgroup": "True",
         "boxpoints": "all",
         "fillcolor": "rgba(255,255,255,0)",
         "hoveron": "points",
         "hovertemplate": "year=2015<br>is_day=night<br>month=%{x}<br>biomass=%{y}<extra></extra>",
         "legendgroup": "2015",
         "line": {
          "color": "rgba(255,255,255,0)"
         },
         "marker": {
          "color": "#fca636"
         },
         "name": "2015",
         "offsetgroup": "2015",
         "orientation": "v",
         "pointpos": 0,
         "showlegend": false,
         "type": "box",
         "x": [
          2,
          6,
          7,
          8,
          10
         ],
         "x0": " ",
         "xaxis": "x",
         "y": [
          7.617542,
          12.253643999999998,
          15.392278000000001,
          16.368450000000003,
          9.286756
         ],
         "y0": " ",
         "yaxis": "y"
        },
        {
         "alignmentgroup": "True",
         "boxpoints": "all",
         "fillcolor": "rgba(255,255,255,0)",
         "hoveron": "points",
         "hovertemplate": "year=2016<br>is_day=day<br>month=%{x}<br>biomass=%{y}<extra></extra>",
         "legendgroup": "2016",
         "line": {
          "color": "rgba(255,255,255,0)"
         },
         "marker": {
          "color": "#feb72d"
         },
         "name": "2016",
         "offsetgroup": "2016",
         "orientation": "v",
         "pointpos": 0,
         "showlegend": true,
         "type": "box",
         "x": [
          2,
          5,
          6,
          8,
          9
         ],
         "x0": " ",
         "xaxis": "x2",
         "y": [
          8.29116,
          9.575456,
          19.031805333333335,
          8.407931333333334,
          3.433052
         ],
         "y0": " ",
         "yaxis": "y2"
        },
        {
         "alignmentgroup": "True",
         "boxpoints": "all",
         "fillcolor": "rgba(255,255,255,0)",
         "hoveron": "points",
         "hovertemplate": "year=2016<br>is_day=night<br>month=%{x}<br>biomass=%{y}<extra></extra>",
         "legendgroup": "2016",
         "line": {
          "color": "rgba(255,255,255,0)"
         },
         "marker": {
          "color": "#feb72d"
         },
         "name": "2016",
         "offsetgroup": "2016",
         "orientation": "v",
         "pointpos": 0,
         "showlegend": false,
         "type": "box",
         "x": [
          2,
          6,
          8
         ],
         "x0": " ",
         "xaxis": "x",
         "y": [
          11.237041999999999,
          20.325342000000003,
          26.629952000000003
         ],
         "y0": " ",
         "yaxis": "y"
        },
        {
         "alignmentgroup": "True",
         "boxpoints": "all",
         "fillcolor": "rgba(255,255,255,0)",
         "hoveron": "points",
         "hovertemplate": "year=2017<br>is_day=day<br>month=%{x}<br>biomass=%{y}<extra></extra>",
         "legendgroup": "2017",
         "line": {
          "color": "rgba(255,255,255,0)"
         },
         "marker": {
          "color": "#fdc627"
         },
         "name": "2017",
         "offsetgroup": "2017",
         "orientation": "v",
         "pointpos": 0,
         "showlegend": true,
         "type": "box",
         "x": [
          2,
          5,
          6,
          7,
          8,
          9
         ],
         "x0": " ",
         "xaxis": "x2",
         "y": [
          2.327614666666667,
          14.498919999999998,
          7.482198666666666,
          10.85721142857143,
          7.763144800000001,
          3.553114666666667
         ],
         "y0": " ",
         "yaxis": "y2"
        },
        {
         "alignmentgroup": "True",
         "boxpoints": "all",
         "fillcolor": "rgba(255,255,255,0)",
         "hoveron": "points",
         "hovertemplate": "year=2017<br>is_day=night<br>month=%{x}<br>biomass=%{y}<extra></extra>",
         "legendgroup": "2017",
         "line": {
          "color": "rgba(255,255,255,0)"
         },
         "marker": {
          "color": "#fdc627"
         },
         "name": "2017",
         "offsetgroup": "2017",
         "orientation": "v",
         "pointpos": 0,
         "showlegend": false,
         "type": "box",
         "x": [
          2,
          5,
          6,
          7,
          9
         ],
         "x0": " ",
         "xaxis": "x",
         "y": [
          2.748632,
          25.128548000000002,
          10.478412000000002,
          11.694694,
          4.334200000000001
         ],
         "y0": " ",
         "yaxis": "y"
        },
        {
         "alignmentgroup": "True",
         "boxpoints": "all",
         "fillcolor": "rgba(255,255,255,0)",
         "hoveron": "points",
         "hovertemplate": "year=2018<br>is_day=day<br>month=%{x}<br>biomass=%{y}<extra></extra>",
         "legendgroup": "2018",
         "line": {
          "color": "rgba(255,255,255,0)"
         },
         "marker": {
          "color": "#fbd724"
         },
         "name": "2018",
         "offsetgroup": "2018",
         "orientation": "v",
         "pointpos": 0,
         "showlegend": true,
         "type": "box",
         "x": [
          2,
          3,
          5,
          6,
          9
         ],
         "x0": " ",
         "xaxis": "x2",
         "y": [
          3.7836293333333337,
          5.29112,
          5.9768040000000004,
          17.84792,
          4.261517111111112
         ],
         "y0": " ",
         "yaxis": "y2"
        },
        {
         "alignmentgroup": "True",
         "boxpoints": "all",
         "fillcolor": "rgba(255,255,255,0)",
         "hoveron": "points",
         "hovertemplate": "year=2018<br>is_day=night<br>month=%{x}<br>biomass=%{y}<extra></extra>",
         "legendgroup": "2018",
         "line": {
          "color": "rgba(255,255,255,0)"
         },
         "marker": {
          "color": "#fbd724"
         },
         "name": "2018",
         "offsetgroup": "2018",
         "orientation": "v",
         "pointpos": 0,
         "showlegend": false,
         "type": "box",
         "x": [
          3,
          8,
          9
         ],
         "x0": " ",
         "xaxis": "x",
         "y": [
          6.847832,
          7.117943999999999,
          11.851328000000002
         ],
         "y0": " ",
         "yaxis": "y"
        },
        {
         "alignmentgroup": "True",
         "boxpoints": "all",
         "fillcolor": "rgba(255,255,255,0)",
         "hoveron": "points",
         "hovertemplate": "year=2019<br>is_day=day<br>month=%{x}<br>biomass=%{y}<extra></extra>",
         "legendgroup": "2019",
         "line": {
          "color": "rgba(255,255,255,0)"
         },
         "marker": {
          "color": "#f6e826"
         },
         "name": "2019",
         "offsetgroup": "2019",
         "orientation": "v",
         "pointpos": 0,
         "showlegend": true,
         "type": "box",
         "x": [
          2,
          6,
          7,
          8,
          9
         ],
         "x0": " ",
         "xaxis": "x2",
         "y": [
          1.1226720000000001,
          10.709102000000001,
          9.862278,
          7.844432000000001,
          5.935158
         ],
         "y0": " ",
         "yaxis": "y2"
        },
        {
         "alignmentgroup": "True",
         "boxpoints": "all",
         "fillcolor": "rgba(255,255,255,0)",
         "hoveron": "points",
         "hovertemplate": "year=2019<br>is_day=night<br>month=%{x}<br>biomass=%{y}<extra></extra>",
         "legendgroup": "2019",
         "line": {
          "color": "rgba(255,255,255,0)"
         },
         "marker": {
          "color": "#f6e826"
         },
         "name": "2019",
         "offsetgroup": "2019",
         "orientation": "v",
         "pointpos": 0,
         "showlegend": false,
         "type": "box",
         "x": [
          2,
          7,
          8
         ],
         "x0": " ",
         "xaxis": "x",
         "y": [
          3.2286213333333333,
          13.206893666666668,
          5.491728
         ],
         "y0": " ",
         "yaxis": "y"
        },
        {
         "alignmentgroup": "True",
         "boxpoints": "all",
         "fillcolor": "rgba(255,255,255,0)",
         "hoveron": "points",
         "hovertemplate": "year=2020<br>is_day=day<br>month=%{x}<br>biomass=%{y}<extra></extra>",
         "legendgroup": "2020",
         "line": {
          "color": "rgba(255,255,255,0)"
         },
         "marker": {
          "color": "#f0f921"
         },
         "name": "2020",
         "offsetgroup": "2020",
         "orientation": "v",
         "pointpos": 0,
         "showlegend": true,
         "type": "box",
         "x": [
          2,
          6,
          7,
          8
         ],
         "x0": " ",
         "xaxis": "x2",
         "y": [
          3.3293359999999996,
          20.529725,
          6.824004000000001,
          5.6554079999999995
         ],
         "y0": " ",
         "yaxis": "y2"
        },
        {
         "alignmentgroup": "True",
         "boxpoints": "all",
         "fillcolor": "rgba(255,255,255,0)",
         "hoveron": "points",
         "hovertemplate": "year=2020<br>is_day=night<br>month=%{x}<br>biomass=%{y}<extra></extra>",
         "legendgroup": "2020",
         "line": {
          "color": "rgba(255,255,255,0)"
         },
         "marker": {
          "color": "#f0f921"
         },
         "name": "2020",
         "offsetgroup": "2020",
         "orientation": "v",
         "pointpos": 0,
         "showlegend": false,
         "type": "box",
         "x": [
          2,
          8
         ],
         "x0": " ",
         "xaxis": "x",
         "y": [
          3.7785688,
          17.532841333333334
         ],
         "y0": " ",
         "yaxis": "y"
        }
       ],
       "layout": {
        "annotations": [
         {
          "font": {},
          "showarrow": false,
          "text": "is_day=night",
          "textangle": 90,
          "x": 0.98,
          "xanchor": "left",
          "xref": "paper",
          "y": 0.2425,
          "yanchor": "middle",
          "yref": "paper"
         },
         {
          "font": {},
          "showarrow": false,
          "text": "is_day=day",
          "textangle": 90,
          "x": 0.98,
          "xanchor": "left",
          "xref": "paper",
          "y": 0.7575000000000001,
          "yanchor": "middle",
          "yref": "paper"
         }
        ],
        "boxmode": "group",
        "height": 800,
        "legend": {
         "title": {
          "text": "year"
         },
         "tracegroupgap": 0
        },
        "template": {
         "data": {
          "bar": [
           {
            "error_x": {
             "color": "#2a3f5f"
            },
            "error_y": {
             "color": "#2a3f5f"
            },
            "marker": {
             "line": {
              "color": "#E5ECF6",
              "width": 0.5
             },
             "pattern": {
              "fillmode": "overlay",
              "size": 10,
              "solidity": 0.2
             }
            },
            "type": "bar"
           }
          ],
          "barpolar": [
           {
            "marker": {
             "line": {
              "color": "#E5ECF6",
              "width": 0.5
             },
             "pattern": {
              "fillmode": "overlay",
              "size": 10,
              "solidity": 0.2
             }
            },
            "type": "barpolar"
           }
          ],
          "carpet": [
           {
            "aaxis": {
             "endlinecolor": "#2a3f5f",
             "gridcolor": "white",
             "linecolor": "white",
             "minorgridcolor": "white",
             "startlinecolor": "#2a3f5f"
            },
            "baxis": {
             "endlinecolor": "#2a3f5f",
             "gridcolor": "white",
             "linecolor": "white",
             "minorgridcolor": "white",
             "startlinecolor": "#2a3f5f"
            },
            "type": "carpet"
           }
          ],
          "choropleth": [
           {
            "colorbar": {
             "outlinewidth": 0,
             "ticks": ""
            },
            "type": "choropleth"
           }
          ],
          "contour": [
           {
            "colorbar": {
             "outlinewidth": 0,
             "ticks": ""
            },
            "colorscale": [
             [
              0,
              "#0d0887"
             ],
             [
              0.1111111111111111,
              "#46039f"
             ],
             [
              0.2222222222222222,
              "#7201a8"
             ],
             [
              0.3333333333333333,
              "#9c179e"
             ],
             [
              0.4444444444444444,
              "#bd3786"
             ],
             [
              0.5555555555555556,
              "#d8576b"
             ],
             [
              0.6666666666666666,
              "#ed7953"
             ],
             [
              0.7777777777777778,
              "#fb9f3a"
             ],
             [
              0.8888888888888888,
              "#fdca26"
             ],
             [
              1,
              "#f0f921"
             ]
            ],
            "type": "contour"
           }
          ],
          "contourcarpet": [
           {
            "colorbar": {
             "outlinewidth": 0,
             "ticks": ""
            },
            "type": "contourcarpet"
           }
          ],
          "heatmap": [
           {
            "colorbar": {
             "outlinewidth": 0,
             "ticks": ""
            },
            "colorscale": [
             [
              0,
              "#0d0887"
             ],
             [
              0.1111111111111111,
              "#46039f"
             ],
             [
              0.2222222222222222,
              "#7201a8"
             ],
             [
              0.3333333333333333,
              "#9c179e"
             ],
             [
              0.4444444444444444,
              "#bd3786"
             ],
             [
              0.5555555555555556,
              "#d8576b"
             ],
             [
              0.6666666666666666,
              "#ed7953"
             ],
             [
              0.7777777777777778,
              "#fb9f3a"
             ],
             [
              0.8888888888888888,
              "#fdca26"
             ],
             [
              1,
              "#f0f921"
             ]
            ],
            "type": "heatmap"
           }
          ],
          "heatmapgl": [
           {
            "colorbar": {
             "outlinewidth": 0,
             "ticks": ""
            },
            "colorscale": [
             [
              0,
              "#0d0887"
             ],
             [
              0.1111111111111111,
              "#46039f"
             ],
             [
              0.2222222222222222,
              "#7201a8"
             ],
             [
              0.3333333333333333,
              "#9c179e"
             ],
             [
              0.4444444444444444,
              "#bd3786"
             ],
             [
              0.5555555555555556,
              "#d8576b"
             ],
             [
              0.6666666666666666,
              "#ed7953"
             ],
             [
              0.7777777777777778,
              "#fb9f3a"
             ],
             [
              0.8888888888888888,
              "#fdca26"
             ],
             [
              1,
              "#f0f921"
             ]
            ],
            "type": "heatmapgl"
           }
          ],
          "histogram": [
           {
            "marker": {
             "pattern": {
              "fillmode": "overlay",
              "size": 10,
              "solidity": 0.2
             }
            },
            "type": "histogram"
           }
          ],
          "histogram2d": [
           {
            "colorbar": {
             "outlinewidth": 0,
             "ticks": ""
            },
            "colorscale": [
             [
              0,
              "#0d0887"
             ],
             [
              0.1111111111111111,
              "#46039f"
             ],
             [
              0.2222222222222222,
              "#7201a8"
             ],
             [
              0.3333333333333333,
              "#9c179e"
             ],
             [
              0.4444444444444444,
              "#bd3786"
             ],
             [
              0.5555555555555556,
              "#d8576b"
             ],
             [
              0.6666666666666666,
              "#ed7953"
             ],
             [
              0.7777777777777778,
              "#fb9f3a"
             ],
             [
              0.8888888888888888,
              "#fdca26"
             ],
             [
              1,
              "#f0f921"
             ]
            ],
            "type": "histogram2d"
           }
          ],
          "histogram2dcontour": [
           {
            "colorbar": {
             "outlinewidth": 0,
             "ticks": ""
            },
            "colorscale": [
             [
              0,
              "#0d0887"
             ],
             [
              0.1111111111111111,
              "#46039f"
             ],
             [
              0.2222222222222222,
              "#7201a8"
             ],
             [
              0.3333333333333333,
              "#9c179e"
             ],
             [
              0.4444444444444444,
              "#bd3786"
             ],
             [
              0.5555555555555556,
              "#d8576b"
             ],
             [
              0.6666666666666666,
              "#ed7953"
             ],
             [
              0.7777777777777778,
              "#fb9f3a"
             ],
             [
              0.8888888888888888,
              "#fdca26"
             ],
             [
              1,
              "#f0f921"
             ]
            ],
            "type": "histogram2dcontour"
           }
          ],
          "mesh3d": [
           {
            "colorbar": {
             "outlinewidth": 0,
             "ticks": ""
            },
            "type": "mesh3d"
           }
          ],
          "parcoords": [
           {
            "line": {
             "colorbar": {
              "outlinewidth": 0,
              "ticks": ""
             }
            },
            "type": "parcoords"
           }
          ],
          "pie": [
           {
            "automargin": true,
            "type": "pie"
           }
          ],
          "scatter": [
           {
            "fillpattern": {
             "fillmode": "overlay",
             "size": 10,
             "solidity": 0.2
            },
            "type": "scatter"
           }
          ],
          "scatter3d": [
           {
            "line": {
             "colorbar": {
              "outlinewidth": 0,
              "ticks": ""
             }
            },
            "marker": {
             "colorbar": {
              "outlinewidth": 0,
              "ticks": ""
             }
            },
            "type": "scatter3d"
           }
          ],
          "scattercarpet": [
           {
            "marker": {
             "colorbar": {
              "outlinewidth": 0,
              "ticks": ""
             }
            },
            "type": "scattercarpet"
           }
          ],
          "scattergeo": [
           {
            "marker": {
             "colorbar": {
              "outlinewidth": 0,
              "ticks": ""
             }
            },
            "type": "scattergeo"
           }
          ],
          "scattergl": [
           {
            "marker": {
             "colorbar": {
              "outlinewidth": 0,
              "ticks": ""
             }
            },
            "type": "scattergl"
           }
          ],
          "scattermapbox": [
           {
            "marker": {
             "colorbar": {
              "outlinewidth": 0,
              "ticks": ""
             }
            },
            "type": "scattermapbox"
           }
          ],
          "scatterpolar": [
           {
            "marker": {
             "colorbar": {
              "outlinewidth": 0,
              "ticks": ""
             }
            },
            "type": "scatterpolar"
           }
          ],
          "scatterpolargl": [
           {
            "marker": {
             "colorbar": {
              "outlinewidth": 0,
              "ticks": ""
             }
            },
            "type": "scatterpolargl"
           }
          ],
          "scatterternary": [
           {
            "marker": {
             "colorbar": {
              "outlinewidth": 0,
              "ticks": ""
             }
            },
            "type": "scatterternary"
           }
          ],
          "surface": [
           {
            "colorbar": {
             "outlinewidth": 0,
             "ticks": ""
            },
            "colorscale": [
             [
              0,
              "#0d0887"
             ],
             [
              0.1111111111111111,
              "#46039f"
             ],
             [
              0.2222222222222222,
              "#7201a8"
             ],
             [
              0.3333333333333333,
              "#9c179e"
             ],
             [
              0.4444444444444444,
              "#bd3786"
             ],
             [
              0.5555555555555556,
              "#d8576b"
             ],
             [
              0.6666666666666666,
              "#ed7953"
             ],
             [
              0.7777777777777778,
              "#fb9f3a"
             ],
             [
              0.8888888888888888,
              "#fdca26"
             ],
             [
              1,
              "#f0f921"
             ]
            ],
            "type": "surface"
           }
          ],
          "table": [
           {
            "cells": {
             "fill": {
              "color": "#EBF0F8"
             },
             "line": {
              "color": "white"
             }
            },
            "header": {
             "fill": {
              "color": "#C8D4E3"
             },
             "line": {
              "color": "white"
             }
            },
            "type": "table"
           }
          ]
         },
         "layout": {
          "annotationdefaults": {
           "arrowcolor": "#2a3f5f",
           "arrowhead": 0,
           "arrowwidth": 1
          },
          "autotypenumbers": "strict",
          "coloraxis": {
           "colorbar": {
            "outlinewidth": 0,
            "ticks": ""
           }
          },
          "colorscale": {
           "diverging": [
            [
             0,
             "#8e0152"
            ],
            [
             0.1,
             "#c51b7d"
            ],
            [
             0.2,
             "#de77ae"
            ],
            [
             0.3,
             "#f1b6da"
            ],
            [
             0.4,
             "#fde0ef"
            ],
            [
             0.5,
             "#f7f7f7"
            ],
            [
             0.6,
             "#e6f5d0"
            ],
            [
             0.7,
             "#b8e186"
            ],
            [
             0.8,
             "#7fbc41"
            ],
            [
             0.9,
             "#4d9221"
            ],
            [
             1,
             "#276419"
            ]
           ],
           "sequential": [
            [
             0,
             "#0d0887"
            ],
            [
             0.1111111111111111,
             "#46039f"
            ],
            [
             0.2222222222222222,
             "#7201a8"
            ],
            [
             0.3333333333333333,
             "#9c179e"
            ],
            [
             0.4444444444444444,
             "#bd3786"
            ],
            [
             0.5555555555555556,
             "#d8576b"
            ],
            [
             0.6666666666666666,
             "#ed7953"
            ],
            [
             0.7777777777777778,
             "#fb9f3a"
            ],
            [
             0.8888888888888888,
             "#fdca26"
            ],
            [
             1,
             "#f0f921"
            ]
           ],
           "sequentialminus": [
            [
             0,
             "#0d0887"
            ],
            [
             0.1111111111111111,
             "#46039f"
            ],
            [
             0.2222222222222222,
             "#7201a8"
            ],
            [
             0.3333333333333333,
             "#9c179e"
            ],
            [
             0.4444444444444444,
             "#bd3786"
            ],
            [
             0.5555555555555556,
             "#d8576b"
            ],
            [
             0.6666666666666666,
             "#ed7953"
            ],
            [
             0.7777777777777778,
             "#fb9f3a"
            ],
            [
             0.8888888888888888,
             "#fdca26"
            ],
            [
             1,
             "#f0f921"
            ]
           ]
          },
          "colorway": [
           "#636efa",
           "#EF553B",
           "#00cc96",
           "#ab63fa",
           "#FFA15A",
           "#19d3f3",
           "#FF6692",
           "#B6E880",
           "#FF97FF",
           "#FECB52"
          ],
          "font": {
           "color": "#2a3f5f"
          },
          "geo": {
           "bgcolor": "white",
           "lakecolor": "white",
           "landcolor": "#E5ECF6",
           "showlakes": true,
           "showland": true,
           "subunitcolor": "white"
          },
          "hoverlabel": {
           "align": "left"
          },
          "hovermode": "closest",
          "mapbox": {
           "style": "light"
          },
          "paper_bgcolor": "white",
          "plot_bgcolor": "#E5ECF6",
          "polar": {
           "angularaxis": {
            "gridcolor": "white",
            "linecolor": "white",
            "ticks": ""
           },
           "bgcolor": "#E5ECF6",
           "radialaxis": {
            "gridcolor": "white",
            "linecolor": "white",
            "ticks": ""
           }
          },
          "scene": {
           "xaxis": {
            "backgroundcolor": "#E5ECF6",
            "gridcolor": "white",
            "gridwidth": 2,
            "linecolor": "white",
            "showbackground": true,
            "ticks": "",
            "zerolinecolor": "white"
           },
           "yaxis": {
            "backgroundcolor": "#E5ECF6",
            "gridcolor": "white",
            "gridwidth": 2,
            "linecolor": "white",
            "showbackground": true,
            "ticks": "",
            "zerolinecolor": "white"
           },
           "zaxis": {
            "backgroundcolor": "#E5ECF6",
            "gridcolor": "white",
            "gridwidth": 2,
            "linecolor": "white",
            "showbackground": true,
            "ticks": "",
            "zerolinecolor": "white"
           }
          },
          "shapedefaults": {
           "line": {
            "color": "#2a3f5f"
           }
          },
          "ternary": {
           "aaxis": {
            "gridcolor": "white",
            "linecolor": "white",
            "ticks": ""
           },
           "baxis": {
            "gridcolor": "white",
            "linecolor": "white",
            "ticks": ""
           },
           "bgcolor": "#E5ECF6",
           "caxis": {
            "gridcolor": "white",
            "linecolor": "white",
            "ticks": ""
           }
          },
          "title": {
           "x": 0.05
          },
          "xaxis": {
           "automargin": true,
           "gridcolor": "white",
           "linecolor": "white",
           "ticks": "",
           "title": {
            "standoff": 15
           },
           "zerolinecolor": "white",
           "zerolinewidth": 2
          },
          "yaxis": {
           "automargin": true,
           "gridcolor": "white",
           "linecolor": "white",
           "ticks": "",
           "title": {
            "standoff": 15
           },
           "zerolinecolor": "white",
           "zerolinewidth": 2
          }
         }
        },
        "title": {
         "text": "Biomass at Papa"
        },
        "width": 800,
        "xaxis": {
         "anchor": "y",
         "domain": [
          0,
          0.98
         ],
         "title": {
          "text": "month"
         }
        },
        "xaxis2": {
         "anchor": "y2",
         "domain": [
          0,
          0.98
         ],
         "matches": "x",
         "showticklabels": false
        },
        "yaxis": {
         "anchor": "x",
         "domain": [
          0,
          0.485
         ],
         "title": {
          "text": "biomass"
         }
        },
        "yaxis2": {
         "anchor": "x2",
         "domain": [
          0.515,
          1
         ],
         "matches": "y",
         "title": {
          "text": "biomass"
         }
        }
       }
      }
     },
     "metadata": {},
     "output_type": "display_data"
    }
   ],
   "source": [
    "cmap = plt.get_cmap(\"RdBu_r\")\n",
    "cmap = plt.get_cmap(\"plasma\")\n",
    "n_colors = data_df.year.unique().size\n",
    "rgba_colors = [cmap(i / (n_colors - 1)) for i in range(n_colors)]\n",
    "hex_colors = [mcolors.to_hex(c) for c in rgba_colors]\n",
    "\n",
    "px.strip(\n",
    "    data_df,\n",
    "    x=\"month\",\n",
    "    y=\"biomass\",\n",
    "    color=\"year\",\n",
    "    facet_row=\"is_day\",\n",
    "    title=f\"Biomass at {station}\",\n",
    "    color_discrete_sequence=hex_colors,\n",
    ").update_layout(height=800, width=800)"
   ]
  },
  {
   "cell_type": "markdown",
   "metadata": {},
   "source": [
    "## Computing the trend\n"
   ]
  },
  {
   "cell_type": "code",
   "execution_count": 7,
   "metadata": {},
   "outputs": [],
   "source": [
    "def plot_trend(day_data, night_data, poly_order=1, confidence_level=0.95):\n",
    "    # day_data = data[\"day\"][:, 0, 0, 0].dropna(dim=\"time\")\n",
    "    time_indices = (day_data[\"time\"] - day_data[\"time\"][0]).astype(int)  # .astype(\"timedelta64[D]\").astype(int)\n",
    "    day_trend = np.polyfit(time_indices, day_data, poly_order)\n",
    "    day_trend_line = np.polyval(day_trend, time_indices)\n",
    "    day_std_error = np.std(day_data - day_trend_line) / np.sqrt(len(day_data))\n",
    "    degrees_freedom_day = len(day_data) - 2\n",
    "    t_critical_day = t.ppf((1 + confidence_level) / 2, degrees_freedom_day)\n",
    "    day_confidence_interval = float(t_critical_day * day_std_error)\n",
    "\n",
    "    # night_data = data[\"night\"][:, 0, 0, 0].dropna(dim=\"time\")\n",
    "    night_time_indices = (night_data[\"time\"] - night_data[\"time\"][0]).astype(\n",
    "        int\n",
    "    )  # .astype(\"timedelta64[D]\").astype(int)\n",
    "    night_trend = np.polyfit(night_time_indices, night_data, poly_order)\n",
    "    night_trend_line = np.polyval(night_trend, night_time_indices)\n",
    "    night_std_error = np.std(night_data - night_trend_line) / np.sqrt(len(night_data))\n",
    "    degrees_freedom_night = len(night_data) - 2\n",
    "    t_critical_night = t.ppf((1 + confidence_level) / 2, degrees_freedom_night)\n",
    "    night_confidence_interval = float(t_critical_night * night_std_error)\n",
    "\n",
    "    figure = go.Figure()\n",
    "\n",
    "    figure.add_trace(\n",
    "        go.Scatter(\n",
    "            x=day_data.indexes[\"time\"],\n",
    "            y=day_data,\n",
    "            mode=\"markers\",\n",
    "            name=\"Day Data\",\n",
    "            marker={\"color\": \"firebrick\"},\n",
    "        )\n",
    "    )\n",
    "    figure.add_trace(\n",
    "        go.Scatter(\n",
    "            x=day_data.indexes[\"time\"],\n",
    "            y=day_trend_line,\n",
    "            mode=\"lines\",\n",
    "            name=\"Day Trend Line\",\n",
    "            line={\"color\": \"firebrick\"},\n",
    "        )\n",
    "    )\n",
    "    figure.add_trace(\n",
    "        go.Scatter(\n",
    "            x=list(day_data.indexes[\"time\"]) + list(day_data.indexes[\"time\"])[::-1],\n",
    "            y=list(day_trend_line + day_confidence_interval) + list(day_trend_line - day_confidence_interval)[::-1],\n",
    "            fill=\"toself\",\n",
    "            fillcolor=\"rgba(255, 0, 0, 0.2)\",\n",
    "            line_color=\"rgba(0, 0, 0, 0)\",\n",
    "            name=\"Day Confidence Interval\",\n",
    "        )\n",
    "    )\n",
    "    figure.add_trace(\n",
    "        go.Scatter(\n",
    "            x=night_data.indexes[\"time\"],\n",
    "            y=night_data,\n",
    "            mode=\"markers\",\n",
    "            name=\"Day Data\",\n",
    "            marker={\"color\": \"royalblue\"},\n",
    "        )\n",
    "    )\n",
    "    figure.add_trace(\n",
    "        go.Scatter(\n",
    "            x=night_data.indexes[\"time\"],\n",
    "            y=night_trend_line,\n",
    "            mode=\"lines\",\n",
    "            name=\"Night Trend Line\",\n",
    "            line={\"color\": \"royalblue\"},\n",
    "        )\n",
    "    )\n",
    "\n",
    "    figure.add_trace(\n",
    "        go.Scatter(\n",
    "            x=list(night_data.indexes[\"time\"]) + list(night_data.indexes[\"time\"])[::-1],\n",
    "            y=list(night_trend_line + night_confidence_interval)\n",
    "            + list(night_trend_line - night_confidence_interval)[::-1],\n",
    "            fill=\"toself\",\n",
    "            fillcolor=\"rgba(0, 0, 255, 0.2)\",\n",
    "            line_color=\"rgba(0, 0, 0, 0)\",\n",
    "            name=\"Night Confidence Interval\",\n",
    "        ),\n",
    "    )\n",
    "\n",
    "    figure.update_layout(height=600)\n",
    "    return figure"
   ]
  },
  {
   "cell_type": "code",
   "execution_count": 8,
   "metadata": {},
   "outputs": [
    {
     "data": {
      "application/vnd.plotly.v1+json": {
       "config": {
        "plotlyServerURL": "https://plot.ly"
       },
       "data": [
        {
         "marker": {
          "color": "firebrick"
         },
         "mode": "markers",
         "name": "Day Data",
         "type": "scatter",
         "x": [
          "1995-09-24T00:00:00",
          "1995-09-25T00:00:00",
          "1996-03-06T00:00:00",
          "1997-03-14T00:00:00",
          "1997-03-15T00:00:00",
          "1997-03-16T00:00:00",
          "1997-03-17T00:00:00",
          "1997-03-18T00:00:00",
          "1997-03-24T00:00:00",
          "1997-03-25T00:00:00",
          "1997-03-26T00:00:00",
          "1997-03-29T00:00:00",
          "1997-04-10T00:00:00",
          "1997-06-16T00:00:00",
          "1997-07-03T00:00:00",
          "1997-07-04T00:00:00",
          "1997-07-05T00:00:00",
          "1997-07-06T00:00:00",
          "1997-07-07T00:00:00",
          "1997-07-08T00:00:00",
          "1997-07-09T00:00:00",
          "1997-07-10T00:00:00",
          "1997-07-11T00:00:00",
          "1997-07-18T00:00:00",
          "1997-08-29T00:00:00",
          "1997-08-30T00:00:00",
          "1997-08-31T00:00:00",
          "1997-09-01T00:00:00",
          "1997-09-04T00:00:00",
          "1997-09-05T00:00:00",
          "1997-09-10T00:00:00",
          "1997-09-28T00:00:00",
          "1997-12-02T00:00:00",
          "1998-01-20T00:00:00",
          "1998-02-21T00:00:00",
          "1998-02-24T00:00:00",
          "1998-02-27T00:00:00",
          "1998-02-28T00:00:00",
          "1998-03-03T00:00:00",
          "1998-04-09T00:00:00",
          "1998-05-13T00:00:00",
          "1998-05-17T00:00:00",
          "1998-05-18T00:00:00",
          "1998-05-19T00:00:00",
          "1998-05-20T00:00:00",
          "1998-05-27T00:00:00",
          "1998-06-03T00:00:00",
          "1998-06-05T00:00:00",
          "1998-06-09T00:00:00",
          "1998-06-15T00:00:00",
          "1998-06-18T00:00:00",
          "1998-06-24T00:00:00",
          "1998-07-05T00:00:00",
          "1998-07-06T00:00:00",
          "1998-07-07T00:00:00",
          "1998-07-08T00:00:00",
          "1998-07-09T00:00:00",
          "1998-07-21T00:00:00",
          "1998-07-23T00:00:00",
          "1998-08-27T00:00:00",
          "1998-09-05T00:00:00",
          "1998-10-07T00:00:00",
          "1998-10-10T00:00:00",
          "1998-10-13T00:00:00",
          "1998-10-14T00:00:00",
          "1999-02-18T00:00:00",
          "1999-02-21T00:00:00",
          "1999-05-10T00:00:00",
          "1999-05-11T00:00:00",
          "1999-05-20T00:00:00",
          "1999-05-24T00:00:00",
          "1999-06-18T00:00:00",
          "1999-06-19T00:00:00",
          "1999-06-20T00:00:00",
          "1999-06-24T00:00:00",
          "1999-07-05T00:00:00",
          "1999-07-08T00:00:00",
          "1999-07-09T00:00:00",
          "1999-07-10T00:00:00",
          "1999-07-11T00:00:00",
          "1999-07-12T00:00:00",
          "1999-07-13T00:00:00",
          "1999-08-26T00:00:00",
          "1999-08-27T00:00:00",
          "1999-09-06T00:00:00",
          "1999-09-27T00:00:00",
          "2000-02-15T00:00:00",
          "2000-05-08T00:00:00",
          "2000-05-10T00:00:00",
          "2000-06-18T00:00:00",
          "2000-06-19T00:00:00",
          "2000-07-06T00:00:00",
          "2000-07-07T00:00:00",
          "2000-07-08T00:00:00",
          "2000-07-12T00:00:00",
          "2000-07-13T00:00:00",
          "2000-08-03T00:00:00",
          "2000-08-04T00:00:00",
          "2000-08-05T00:00:00",
          "2000-08-07T00:00:00",
          "2000-08-10T00:00:00",
          "2000-09-15T00:00:00",
          "2000-09-26T00:00:00",
          "2000-09-27T00:00:00",
          "2000-10-01T00:00:00",
          "2000-10-02T00:00:00",
          "2001-02-11T00:00:00",
          "2001-02-16T00:00:00",
          "2001-02-17T00:00:00",
          "2001-02-19T00:00:00",
          "2001-03-23T00:00:00",
          "2001-05-31T00:00:00",
          "2001-06-02T00:00:00",
          "2001-06-03T00:00:00",
          "2001-06-04T00:00:00",
          "2001-06-05T00:00:00",
          "2001-06-06T00:00:00",
          "2001-06-07T00:00:00",
          "2001-06-08T00:00:00",
          "2001-06-09T00:00:00",
          "2001-06-10T00:00:00",
          "2001-06-12T00:00:00",
          "2001-06-16T00:00:00",
          "2001-06-21T00:00:00",
          "2001-06-22T00:00:00",
          "2001-06-23T00:00:00",
          "2001-06-24T00:00:00",
          "2001-07-04T00:00:00",
          "2001-07-06T00:00:00",
          "2001-08-29T00:00:00",
          "2001-09-19T00:00:00",
          "2001-09-22T00:00:00",
          "2001-09-23T00:00:00",
          "2001-09-25T00:00:00",
          "2001-09-26T00:00:00",
          "2001-09-28T00:00:00",
          "2001-09-30T00:00:00",
          "2002-02-11T00:00:00",
          "2002-02-13T00:00:00",
          "2002-02-14T00:00:00",
          "2002-03-05T00:00:00",
          "2002-05-03T00:00:00",
          "2002-05-05T00:00:00",
          "2002-05-06T00:00:00",
          "2002-06-19T00:00:00",
          "2002-06-26T00:00:00",
          "2002-07-01T00:00:00",
          "2002-07-02T00:00:00",
          "2002-07-03T00:00:00",
          "2002-07-04T00:00:00",
          "2002-07-05T00:00:00",
          "2002-07-19T00:00:00",
          "2002-07-22T00:00:00",
          "2002-07-23T00:00:00",
          "2002-08-18T00:00:00",
          "2002-08-27T00:00:00",
          "2002-09-03T00:00:00",
          "2002-09-19T00:00:00",
          "2002-09-21T00:00:00",
          "2002-10-19T00:00:00",
          "2002-10-23T00:00:00",
          "2003-02-12T00:00:00",
          "2003-02-14T00:00:00",
          "2003-02-15T00:00:00",
          "2003-02-16T00:00:00",
          "2003-02-17T00:00:00",
          "2003-02-21T00:00:00",
          "2003-05-19T00:00:00",
          "2003-05-29T00:00:00",
          "2003-05-30T00:00:00",
          "2003-05-31T00:00:00",
          "2003-06-01T00:00:00",
          "2003-06-03T00:00:00",
          "2003-06-09T00:00:00",
          "2003-06-10T00:00:00",
          "2003-09-01T00:00:00",
          "2003-09-02T00:00:00",
          "2003-09-03T00:00:00",
          "2003-09-06T00:00:00",
          "2003-09-26T00:00:00",
          "2004-02-20T00:00:00",
          "2004-02-27T00:00:00",
          "2004-05-29T00:00:00",
          "2004-05-30T00:00:00",
          "2004-06-03T00:00:00",
          "2004-06-04T00:00:00",
          "2004-06-07T00:00:00",
          "2004-06-14T00:00:00",
          "2004-08-22T00:00:00",
          "2004-08-23T00:00:00",
          "2004-08-24T00:00:00",
          "2004-09-05T00:00:00",
          "2004-09-06T00:00:00",
          "2004-10-27T00:00:00",
          "2005-02-15T00:00:00",
          "2005-02-16T00:00:00",
          "2005-02-18T00:00:00",
          "2005-02-19T00:00:00",
          "2005-02-23T00:00:00",
          "2005-03-12T00:00:00",
          "2005-03-13T00:00:00",
          "2005-05-27T00:00:00",
          "2005-06-03T00:00:00",
          "2005-06-06T00:00:00",
          "2005-06-15T00:00:00",
          "2005-07-29T00:00:00",
          "2005-08-13T00:00:00",
          "2005-08-18T00:00:00",
          "2005-08-21T00:00:00",
          "2005-08-23T00:00:00",
          "2005-08-28T00:00:00",
          "2005-09-08T00:00:00",
          "2006-02-06T00:00:00",
          "2006-02-10T00:00:00",
          "2006-02-13T00:00:00",
          "2006-04-21T00:00:00",
          "2006-07-14T00:00:00",
          "2006-07-17T00:00:00",
          "2006-08-24T00:00:00",
          "2006-08-27T00:00:00",
          "2006-09-22T00:00:00",
          "2006-09-24T00:00:00",
          "2006-09-28T00:00:00",
          "2006-10-02T00:00:00",
          "2006-10-04T00:00:00",
          "2007-02-10T00:00:00",
          "2007-02-11T00:00:00",
          "2007-02-12T00:00:00",
          "2007-02-15T00:00:00",
          "2007-02-16T00:00:00",
          "2007-02-18T00:00:00",
          "2007-05-26T00:00:00",
          "2007-06-02T00:00:00",
          "2007-06-03T00:00:00",
          "2007-06-04T00:00:00",
          "2007-06-27T00:00:00",
          "2007-06-28T00:00:00",
          "2007-07-05T00:00:00",
          "2007-07-06T00:00:00",
          "2007-07-08T00:00:00",
          "2007-08-17T00:00:00",
          "2007-08-18T00:00:00",
          "2007-08-19T00:00:00",
          "2007-08-22T00:00:00",
          "2007-09-06T00:00:00",
          "2007-09-07T00:00:00",
          "2008-02-02T00:00:00",
          "2008-02-03T00:00:00",
          "2008-02-04T00:00:00",
          "2008-02-06T00:00:00",
          "2008-02-10T00:00:00",
          "2008-05-25T00:00:00",
          "2008-05-26T00:00:00",
          "2008-06-02T00:00:00",
          "2008-06-03T00:00:00",
          "2008-06-04T00:00:00",
          "2008-06-06T00:00:00",
          "2008-06-08T00:00:00",
          "2008-07-04T00:00:00",
          "2008-08-15T00:00:00",
          "2008-08-17T00:00:00",
          "2008-09-04T00:00:00",
          "2009-01-30T00:00:00",
          "2009-01-31T00:00:00",
          "2009-05-31T00:00:00",
          "2009-06-01T00:00:00",
          "2009-06-08T00:00:00",
          "2009-06-11T00:00:00",
          "2009-07-11T00:00:00",
          "2009-07-12T00:00:00",
          "2009-07-13T00:00:00",
          "2009-07-14T00:00:00",
          "2009-08-22T00:00:00",
          "2009-08-27T00:00:00",
          "2009-08-31T00:00:00",
          "2009-09-09T00:00:00",
          "2009-09-10T00:00:00",
          "2010-02-05T00:00:00",
          "2010-02-08T00:00:00",
          "2010-05-31T00:00:00",
          "2010-06-09T00:00:00",
          "2010-06-11T00:00:00",
          "2010-06-14T00:00:00",
          "2010-07-23T00:00:00",
          "2010-07-24T00:00:00",
          "2010-07-26T00:00:00",
          "2010-07-28T00:00:00",
          "2010-08-21T00:00:00",
          "2010-08-22T00:00:00",
          "2010-08-23T00:00:00",
          "2010-08-25T00:00:00",
          "2010-08-26T00:00:00",
          "2010-09-10T00:00:00",
          "2011-02-10T00:00:00",
          "2011-02-11T00:00:00",
          "2011-02-12T00:00:00",
          "2011-02-14T00:00:00",
          "2011-02-16T00:00:00",
          "2011-05-29T00:00:00",
          "2011-05-30T00:00:00",
          "2011-06-05T00:00:00",
          "2011-06-06T00:00:00",
          "2011-06-08T00:00:00",
          "2011-06-09T00:00:00",
          "2011-06-13T00:00:00",
          "2011-08-22T00:00:00",
          "2011-08-23T00:00:00",
          "2011-08-26T00:00:00",
          "2011-09-06T00:00:00",
          "2011-09-07T00:00:00",
          "2011-09-08T00:00:00",
          "2012-02-10T00:00:00",
          "2012-02-11T00:00:00",
          "2012-02-12T00:00:00",
          "2012-05-16T00:00:00",
          "2012-05-18T00:00:00",
          "2012-05-30T00:00:00",
          "2012-08-18T00:00:00",
          "2012-08-20T00:00:00",
          "2012-08-24T00:00:00",
          "2012-09-04T00:00:00",
          "2012-09-05T00:00:00",
          "2012-09-06T00:00:00",
          "2013-02-07T00:00:00",
          "2013-02-08T00:00:00",
          "2013-02-09T00:00:00",
          "2013-02-14T00:00:00",
          "2013-06-02T00:00:00",
          "2013-08-26T00:00:00",
          "2013-08-28T00:00:00",
          "2013-08-30T00:00:00",
          "2014-06-04T00:00:00",
          "2014-06-13T00:00:00",
          "2014-06-17T00:00:00",
          "2014-08-23T00:00:00",
          "2014-08-26T00:00:00",
          "2014-09-11T00:00:00",
          "2014-09-12T00:00:00",
          "2015-02-12T00:00:00",
          "2015-02-13T00:00:00",
          "2015-02-16T00:00:00",
          "2015-06-02T00:00:00",
          "2015-06-10T00:00:00",
          "2015-06-13T00:00:00",
          "2015-06-17T00:00:00",
          "2015-06-20T00:00:00",
          "2015-07-10T00:00:00",
          "2015-07-11T00:00:00",
          "2015-07-12T00:00:00",
          "2015-07-13T00:00:00",
          "2015-07-14T00:00:00",
          "2015-07-16T00:00:00",
          "2015-07-18T00:00:00",
          "2015-08-22T00:00:00",
          "2015-08-23T00:00:00",
          "2015-08-26T00:00:00",
          "2015-09-07T00:00:00",
          "2016-02-12T00:00:00",
          "2016-02-16T00:00:00",
          "2016-05-31T00:00:00",
          "2016-06-07T00:00:00",
          "2016-06-11T00:00:00",
          "2016-06-14T00:00:00",
          "2016-08-06T00:00:00",
          "2016-08-07T00:00:00",
          "2016-08-10T00:00:00",
          "2016-08-20T00:00:00",
          "2016-08-23T00:00:00",
          "2016-08-29T00:00:00",
          "2016-09-08T00:00:00",
          "2017-02-09T00:00:00",
          "2017-02-15T00:00:00",
          "2017-02-17T00:00:00",
          "2017-05-28T00:00:00",
          "2017-06-06T00:00:00",
          "2017-06-07T00:00:00",
          "2017-06-13T00:00:00",
          "2017-07-22T00:00:00",
          "2017-07-23T00:00:00",
          "2017-07-24T00:00:00",
          "2017-07-25T00:00:00",
          "2017-07-26T00:00:00",
          "2017-07-27T00:00:00",
          "2017-07-28T00:00:00",
          "2017-08-18T00:00:00",
          "2017-08-19T00:00:00",
          "2017-08-21T00:00:00",
          "2017-08-24T00:00:00",
          "2017-08-26T00:00:00",
          "2017-09-05T00:00:00",
          "2017-09-06T00:00:00",
          "2017-09-08T00:00:00",
          "2018-02-21T00:00:00",
          "2018-02-22T00:00:00",
          "2018-02-26T00:00:00",
          "2018-03-02T00:00:00",
          "2018-05-13T00:00:00",
          "2018-06-08T00:00:00",
          "2018-06-09T00:00:00",
          "2018-06-10T00:00:00",
          "2018-06-11T00:00:00",
          "2018-06-13T00:00:00",
          "2018-09-06T00:00:00",
          "2018-09-14T00:00:00",
          "2018-09-15T00:00:00",
          "2018-09-20T00:00:00",
          "2018-09-21T00:00:00",
          "2018-09-22T00:00:00",
          "2019-02-07T00:00:00",
          "2019-06-04T00:00:00",
          "2019-06-05T00:00:00",
          "2019-06-07T00:00:00",
          "2019-06-11T00:00:00",
          "2019-07-03T00:00:00",
          "2019-07-19T00:00:00",
          "2019-07-20T00:00:00",
          "2019-07-21T00:00:00",
          "2019-07-22T00:00:00",
          "2019-07-23T00:00:00",
          "2019-07-26T00:00:00",
          "2019-07-27T00:00:00",
          "2019-08-04T00:00:00",
          "2019-08-16T00:00:00",
          "2019-08-17T00:00:00",
          "2019-08-23T00:00:00",
          "2019-09-03T00:00:00",
          "2019-09-04T00:00:00",
          "2020-02-16T00:00:00",
          "2020-06-26T00:00:00",
          "2020-06-30T00:00:00",
          "2020-07-05T00:00:00",
          "2020-07-22T00:00:00",
          "2020-07-26T00:00:00",
          "2020-08-14T00:00:00",
          "2020-08-15T00:00:00",
          "2020-08-30T00:00:00",
          "2020-08-31T00:00:00"
         ],
         "y": [
          8.035348,
          4.015516000000001,
          6.338296000000001,
          3.3998040000000005,
          3.041844,
          5.814916,
          16.923594000000005,
          5.136204,
          4.252648000000001,
          2.827888,
          4.068096,
          5.380025727272728,
          9.113796,
          11.523857090909091,
          0.860712,
          0.45908400000000005,
          3.877790000000001,
          1.023154,
          7.296318000000001,
          18.356545999999998,
          1.445324,
          2.0890940000000002,
          2.5290920000000003,
          7.480592000000001,
          13.149048000000002,
          7.742032000000001,
          1.4076440000000001,
          1.618236,
          8.44827725,
          2.5781159999999996,
          13.414944,
          5.568436,
          4.060796,
          1.559128,
          2.432852,
          1.1318840000000001,
          3.8516640000000004,
          1.5928615000000002,
          4.806784,
          9.825992,
          23.736716,
          21.63544,
          9.397955999999999,
          13.352768000000001,
          7.271204000000001,
          27.293322000000003,
          5.620008,
          16.46890133333333,
          26.189176,
          7.461732000000001,
          20.431932,
          9.15438,
          14.3330985,
          9.876591333333335,
          8.982811000000002,
          20.4663055,
          18.1755745,
          5.18619175,
          22.975686000000003,
          3.711416,
          3.3982640000000006,
          9.646104000000001,
          4.392764,
          2.6159559999999997,
          5.873172,
          4.667764000000001,
          3.452648,
          18.362308000000002,
          21.173104000000002,
          30.02101200000001,
          6.832536000000001,
          8.462904,
          8.767688000000001,
          26.039968000000002,
          30.380864,
          5.377428000000001,
          25.409504,
          26.9133274,
          10.744238666666668,
          16.446734000000003,
          17.996852999999998,
          8.256618333333334,
          2.1760720000000005,
          3.6025800000000006,
          5.241988,
          4.780323999999999,
          3.1030439999999997,
          5.149984,
          6.559775999999999,
          31.715511999999997,
          26.31447866666667,
          29.975843999999995,
          19.593912000000003,
          27.929960799999996,
          29.227812999999998,
          32.267905,
          5.170808,
          9.53878625,
          7.014220000000001,
          6.769308,
          5.199849,
          22.484812,
          5.98854,
          6.203324000000001,
          10.595691666666667,
          3.831092,
          3.7775240000000005,
          2.7177480000000003,
          17.236464,
          3.8461040000000004,
          2.344872,
          13.498708,
          21.711795333333335,
          15.676170666666666,
          14.430220000000004,
          29.054133999999998,
          23.815638,
          28.150312000000003,
          19.560464000000003,
          16.33851,
          18.79235866666667,
          16.341136666666667,
          12.427480000000001,
          19.232708,
          17.065936,
          29.813548000000004,
          21.548744,
          13.154073,
          21.59668333333333,
          9.924496000000001,
          20.834850000000003,
          11.488249,
          9.280564000000002,
          9.436016000000002,
          9.917952,
          5.429524000000001,
          12.437462,
          2.5745,
          3.5394640000000006,
          2.4128760000000002,
          3.777444,
          18.346316000000005,
          34.862918,
          25.358924,
          11.224421,
          26.635399999999997,
          12.293432000000003,
          10.938344000000003,
          10.104572,
          15.427803999999998,
          9.980696,
          6.529312000000001,
          10.01453066666667,
          19.004692000000002,
          11.933005999999999,
          13.155780000000002,
          10.212576,
          3.954553333333333,
          6.321284,
          13.518208,
          2.477403,
          11.905679999999998,
          6.119952000000001,
          3.2322480000000002,
          1.8740900000000003,
          2.7748559999999998,
          2.932665,
          21.881480000000003,
          10.886932,
          22.036664000000002,
          11.231912000000001,
          15.262460000000003,
          15.821308,
          10.977236000000001,
          21.722504000000004,
          6.26736,
          17.113236,
          10.28228,
          9.016896000000001,
          2.3417480000000004,
          7.753348,
          3.211029,
          22.38143,
          4.4407760000000005,
          8.290508,
          11.656908000000001,
          9.33612,
          16.2015695,
          11.872224,
          6.0021840000000015,
          8.82446,
          5.093784000000001,
          19.973944000000003,
          8.370898,
          9.654028,
          9.610018,
          3.622963999999999,
          6.503660000000001,
          28.242255999999998,
          4.755917,
          5.226634666666667,
          24.896472000000003,
          11.642692000000002,
          8.775964,
          17.05496,
          5.245964000000001,
          3.6400799999999998,
          3.5966519999999997,
          14.236684,
          15.171199999999999,
          4.053676,
          3.5532719999999998,
          3.8461760000000007,
          4.955528,
          6.862068000000001,
          12.207764000000003,
          5.226848,
          16.066832,
          4.3718520000000005,
          9.73662,
          5.795135999999999,
          3.305632,
          5.086228,
          7.466452,
          6.353888000000001,
          9.948768000000001,
          5.427164000000001,
          6.3235,
          5.246288,
          3.923108,
          4.416568,
          31.31296799999999,
          16.963212000000002,
          15.496228000000002,
          19.963392000000002,
          7.636554,
          16.654768,
          19.599924,
          7.4446,
          25.069560000000003,
          3.742872,
          7.8506240000000025,
          4.622524,
          6.784676000000001,
          4.153964,
          3.9173000000000004,
          5.706860000000001,
          3.915396,
          3.6924359999999994,
          1.7812080000000003,
          2.090204,
          6.195027999999999,
          18.14402,
          10.673312000000001,
          33.473963999999995,
          31.7837,
          23.715619999999998,
          30.666815999999997,
          14.011404000000002,
          12.269492000000001,
          32.952904,
          8.238935999999999,
          7.518362000000001,
          1.922298,
          11.880586,
          20.294176,
          9.365196000000001,
          16.85128,
          17.958584000000002,
          13.370336000000002,
          16.622816,
          6.196400000000001,
          23.465044,
          9.909396000000001,
          5.919944000000001,
          5.505724000000001,
          4.069211999999999,
          1.16982,
          4.988588,
          9.832368,
          25.474452,
          19.339376,
          21.840792,
          3.8084360000000004,
          11.151328000000001,
          14.398976,
          30.792200000000005,
          15.144984000000001,
          9.236352,
          6.041036,
          7.472911999999998,
          12.373232000000002,
          3.337952,
          10.078164000000001,
          1.7423879999999998,
          1.1623920000000003,
          8.032816,
          2.851624,
          25.522636000000002,
          18.961014000000002,
          21.047252000000004,
          12.726760000000002,
          9.879340000000003,
          17.272048,
          25.829927999999995,
          4.970724000000001,
          13.029748000000001,
          13.520131999999998,
          14.979654,
          5.478324000000001,
          3.3551919999999997,
          2.357364,
          3.137868,
          3.5795559999999997,
          16.546792000000003,
          17.383584,
          23.396552000000003,
          7.9623680000000014,
          13.503672000000002,
          3.69118,
          7.203099999999999,
          5.842956000000001,
          4.5717680000000005,
          2.721696,
          9.194036,
          6.484636000000001,
          14.036696000000001,
          28.815328,
          5.7726999999999995,
          3.423836,
          10.268051999999999,
          5.178124,
          17.801416000000003,
          17.698059999999998,
          9.447208000000002,
          9.449088000000001,
          5.890536000000001,
          4.413296000000001,
          2.173812,
          4.296372,
          4.173572,
          17.027607999999997,
          9.370764000000003,
          13.071995999999999,
          23.566176,
          7.852880000000001,
          22.192636,
          7.601426000000001,
          15.075516000000002,
          8.670143999999999,
          9.494137000000002,
          12.768636,
          6.016428,
          8.870616000000002,
          8.192356000000002,
          4.864108000000001,
          7.547356,
          6.0897,
          10.49262,
          9.575456,
          21.09374,
          20.682368,
          15.319308,
          6.193748,
          7.860200000000001,
          10.592728000000001,
          2.0092079999999997,
          6.760776000000002,
          17.030928,
          3.433052,
          2.3111840000000003,
          2.174192,
          2.4974680000000005,
          14.498919999999998,
          6.768404,
          8.258896,
          7.419296,
          6.731774000000001,
          9.239168,
          16.119664,
          12.590108,
          15.136147999999999,
          5.1172320000000004,
          11.066386000000001,
          7.091076000000001,
          5.11686,
          8.319284,
          6.640836,
          11.647668000000001,
          3.04514,
          4.58148,
          3.032724,
          3.421868000000001,
          2.155288,
          5.773732,
          5.29112,
          5.9768040000000004,
          14.540771999999999,
          18.497812000000003,
          30.646536000000005,
          8.962856,
          16.591624,
          8.204464,
          6.284292000000001,
          2.0649640000000002,
          3.953996,
          1.3073720000000002,
          3.7540146666666665,
          1.1226720000000001,
          15.703824000000001,
          2.641620000000001,
          17.554628,
          6.936336000000001,
          15.646956,
          10.068736000000001,
          2.466232,
          15.792556000000003,
          11.382624,
          6.7994080000000015,
          6.200476000000001,
          10.541236000000001,
          17.978980000000004,
          5.933876,
          4.740136,
          2.724736,
          7.572116,
          4.2982000000000005,
          3.3293359999999996,
          20.54391,
          20.51554,
          12.175060000000002,
          7.0395720000000015,
          1.2573800000000004,
          7.678711999999999,
          1.980316,
          6.942504,
          6.0201
         ]
        },
        {
         "line": {
          "color": "firebrick"
         },
         "mode": "lines",
         "name": "Day Trend Line",
         "type": "scatter",
         "x": [
          "1995-09-24T00:00:00",
          "1995-09-25T00:00:00",
          "1996-03-06T00:00:00",
          "1997-03-14T00:00:00",
          "1997-03-15T00:00:00",
          "1997-03-16T00:00:00",
          "1997-03-17T00:00:00",
          "1997-03-18T00:00:00",
          "1997-03-24T00:00:00",
          "1997-03-25T00:00:00",
          "1997-03-26T00:00:00",
          "1997-03-29T00:00:00",
          "1997-04-10T00:00:00",
          "1997-06-16T00:00:00",
          "1997-07-03T00:00:00",
          "1997-07-04T00:00:00",
          "1997-07-05T00:00:00",
          "1997-07-06T00:00:00",
          "1997-07-07T00:00:00",
          "1997-07-08T00:00:00",
          "1997-07-09T00:00:00",
          "1997-07-10T00:00:00",
          "1997-07-11T00:00:00",
          "1997-07-18T00:00:00",
          "1997-08-29T00:00:00",
          "1997-08-30T00:00:00",
          "1997-08-31T00:00:00",
          "1997-09-01T00:00:00",
          "1997-09-04T00:00:00",
          "1997-09-05T00:00:00",
          "1997-09-10T00:00:00",
          "1997-09-28T00:00:00",
          "1997-12-02T00:00:00",
          "1998-01-20T00:00:00",
          "1998-02-21T00:00:00",
          "1998-02-24T00:00:00",
          "1998-02-27T00:00:00",
          "1998-02-28T00:00:00",
          "1998-03-03T00:00:00",
          "1998-04-09T00:00:00",
          "1998-05-13T00:00:00",
          "1998-05-17T00:00:00",
          "1998-05-18T00:00:00",
          "1998-05-19T00:00:00",
          "1998-05-20T00:00:00",
          "1998-05-27T00:00:00",
          "1998-06-03T00:00:00",
          "1998-06-05T00:00:00",
          "1998-06-09T00:00:00",
          "1998-06-15T00:00:00",
          "1998-06-18T00:00:00",
          "1998-06-24T00:00:00",
          "1998-07-05T00:00:00",
          "1998-07-06T00:00:00",
          "1998-07-07T00:00:00",
          "1998-07-08T00:00:00",
          "1998-07-09T00:00:00",
          "1998-07-21T00:00:00",
          "1998-07-23T00:00:00",
          "1998-08-27T00:00:00",
          "1998-09-05T00:00:00",
          "1998-10-07T00:00:00",
          "1998-10-10T00:00:00",
          "1998-10-13T00:00:00",
          "1998-10-14T00:00:00",
          "1999-02-18T00:00:00",
          "1999-02-21T00:00:00",
          "1999-05-10T00:00:00",
          "1999-05-11T00:00:00",
          "1999-05-20T00:00:00",
          "1999-05-24T00:00:00",
          "1999-06-18T00:00:00",
          "1999-06-19T00:00:00",
          "1999-06-20T00:00:00",
          "1999-06-24T00:00:00",
          "1999-07-05T00:00:00",
          "1999-07-08T00:00:00",
          "1999-07-09T00:00:00",
          "1999-07-10T00:00:00",
          "1999-07-11T00:00:00",
          "1999-07-12T00:00:00",
          "1999-07-13T00:00:00",
          "1999-08-26T00:00:00",
          "1999-08-27T00:00:00",
          "1999-09-06T00:00:00",
          "1999-09-27T00:00:00",
          "2000-02-15T00:00:00",
          "2000-05-08T00:00:00",
          "2000-05-10T00:00:00",
          "2000-06-18T00:00:00",
          "2000-06-19T00:00:00",
          "2000-07-06T00:00:00",
          "2000-07-07T00:00:00",
          "2000-07-08T00:00:00",
          "2000-07-12T00:00:00",
          "2000-07-13T00:00:00",
          "2000-08-03T00:00:00",
          "2000-08-04T00:00:00",
          "2000-08-05T00:00:00",
          "2000-08-07T00:00:00",
          "2000-08-10T00:00:00",
          "2000-09-15T00:00:00",
          "2000-09-26T00:00:00",
          "2000-09-27T00:00:00",
          "2000-10-01T00:00:00",
          "2000-10-02T00:00:00",
          "2001-02-11T00:00:00",
          "2001-02-16T00:00:00",
          "2001-02-17T00:00:00",
          "2001-02-19T00:00:00",
          "2001-03-23T00:00:00",
          "2001-05-31T00:00:00",
          "2001-06-02T00:00:00",
          "2001-06-03T00:00:00",
          "2001-06-04T00:00:00",
          "2001-06-05T00:00:00",
          "2001-06-06T00:00:00",
          "2001-06-07T00:00:00",
          "2001-06-08T00:00:00",
          "2001-06-09T00:00:00",
          "2001-06-10T00:00:00",
          "2001-06-12T00:00:00",
          "2001-06-16T00:00:00",
          "2001-06-21T00:00:00",
          "2001-06-22T00:00:00",
          "2001-06-23T00:00:00",
          "2001-06-24T00:00:00",
          "2001-07-04T00:00:00",
          "2001-07-06T00:00:00",
          "2001-08-29T00:00:00",
          "2001-09-19T00:00:00",
          "2001-09-22T00:00:00",
          "2001-09-23T00:00:00",
          "2001-09-25T00:00:00",
          "2001-09-26T00:00:00",
          "2001-09-28T00:00:00",
          "2001-09-30T00:00:00",
          "2002-02-11T00:00:00",
          "2002-02-13T00:00:00",
          "2002-02-14T00:00:00",
          "2002-03-05T00:00:00",
          "2002-05-03T00:00:00",
          "2002-05-05T00:00:00",
          "2002-05-06T00:00:00",
          "2002-06-19T00:00:00",
          "2002-06-26T00:00:00",
          "2002-07-01T00:00:00",
          "2002-07-02T00:00:00",
          "2002-07-03T00:00:00",
          "2002-07-04T00:00:00",
          "2002-07-05T00:00:00",
          "2002-07-19T00:00:00",
          "2002-07-22T00:00:00",
          "2002-07-23T00:00:00",
          "2002-08-18T00:00:00",
          "2002-08-27T00:00:00",
          "2002-09-03T00:00:00",
          "2002-09-19T00:00:00",
          "2002-09-21T00:00:00",
          "2002-10-19T00:00:00",
          "2002-10-23T00:00:00",
          "2003-02-12T00:00:00",
          "2003-02-14T00:00:00",
          "2003-02-15T00:00:00",
          "2003-02-16T00:00:00",
          "2003-02-17T00:00:00",
          "2003-02-21T00:00:00",
          "2003-05-19T00:00:00",
          "2003-05-29T00:00:00",
          "2003-05-30T00:00:00",
          "2003-05-31T00:00:00",
          "2003-06-01T00:00:00",
          "2003-06-03T00:00:00",
          "2003-06-09T00:00:00",
          "2003-06-10T00:00:00",
          "2003-09-01T00:00:00",
          "2003-09-02T00:00:00",
          "2003-09-03T00:00:00",
          "2003-09-06T00:00:00",
          "2003-09-26T00:00:00",
          "2004-02-20T00:00:00",
          "2004-02-27T00:00:00",
          "2004-05-29T00:00:00",
          "2004-05-30T00:00:00",
          "2004-06-03T00:00:00",
          "2004-06-04T00:00:00",
          "2004-06-07T00:00:00",
          "2004-06-14T00:00:00",
          "2004-08-22T00:00:00",
          "2004-08-23T00:00:00",
          "2004-08-24T00:00:00",
          "2004-09-05T00:00:00",
          "2004-09-06T00:00:00",
          "2004-10-27T00:00:00",
          "2005-02-15T00:00:00",
          "2005-02-16T00:00:00",
          "2005-02-18T00:00:00",
          "2005-02-19T00:00:00",
          "2005-02-23T00:00:00",
          "2005-03-12T00:00:00",
          "2005-03-13T00:00:00",
          "2005-05-27T00:00:00",
          "2005-06-03T00:00:00",
          "2005-06-06T00:00:00",
          "2005-06-15T00:00:00",
          "2005-07-29T00:00:00",
          "2005-08-13T00:00:00",
          "2005-08-18T00:00:00",
          "2005-08-21T00:00:00",
          "2005-08-23T00:00:00",
          "2005-08-28T00:00:00",
          "2005-09-08T00:00:00",
          "2006-02-06T00:00:00",
          "2006-02-10T00:00:00",
          "2006-02-13T00:00:00",
          "2006-04-21T00:00:00",
          "2006-07-14T00:00:00",
          "2006-07-17T00:00:00",
          "2006-08-24T00:00:00",
          "2006-08-27T00:00:00",
          "2006-09-22T00:00:00",
          "2006-09-24T00:00:00",
          "2006-09-28T00:00:00",
          "2006-10-02T00:00:00",
          "2006-10-04T00:00:00",
          "2007-02-10T00:00:00",
          "2007-02-11T00:00:00",
          "2007-02-12T00:00:00",
          "2007-02-15T00:00:00",
          "2007-02-16T00:00:00",
          "2007-02-18T00:00:00",
          "2007-05-26T00:00:00",
          "2007-06-02T00:00:00",
          "2007-06-03T00:00:00",
          "2007-06-04T00:00:00",
          "2007-06-27T00:00:00",
          "2007-06-28T00:00:00",
          "2007-07-05T00:00:00",
          "2007-07-06T00:00:00",
          "2007-07-08T00:00:00",
          "2007-08-17T00:00:00",
          "2007-08-18T00:00:00",
          "2007-08-19T00:00:00",
          "2007-08-22T00:00:00",
          "2007-09-06T00:00:00",
          "2007-09-07T00:00:00",
          "2008-02-02T00:00:00",
          "2008-02-03T00:00:00",
          "2008-02-04T00:00:00",
          "2008-02-06T00:00:00",
          "2008-02-10T00:00:00",
          "2008-05-25T00:00:00",
          "2008-05-26T00:00:00",
          "2008-06-02T00:00:00",
          "2008-06-03T00:00:00",
          "2008-06-04T00:00:00",
          "2008-06-06T00:00:00",
          "2008-06-08T00:00:00",
          "2008-07-04T00:00:00",
          "2008-08-15T00:00:00",
          "2008-08-17T00:00:00",
          "2008-09-04T00:00:00",
          "2009-01-30T00:00:00",
          "2009-01-31T00:00:00",
          "2009-05-31T00:00:00",
          "2009-06-01T00:00:00",
          "2009-06-08T00:00:00",
          "2009-06-11T00:00:00",
          "2009-07-11T00:00:00",
          "2009-07-12T00:00:00",
          "2009-07-13T00:00:00",
          "2009-07-14T00:00:00",
          "2009-08-22T00:00:00",
          "2009-08-27T00:00:00",
          "2009-08-31T00:00:00",
          "2009-09-09T00:00:00",
          "2009-09-10T00:00:00",
          "2010-02-05T00:00:00",
          "2010-02-08T00:00:00",
          "2010-05-31T00:00:00",
          "2010-06-09T00:00:00",
          "2010-06-11T00:00:00",
          "2010-06-14T00:00:00",
          "2010-07-23T00:00:00",
          "2010-07-24T00:00:00",
          "2010-07-26T00:00:00",
          "2010-07-28T00:00:00",
          "2010-08-21T00:00:00",
          "2010-08-22T00:00:00",
          "2010-08-23T00:00:00",
          "2010-08-25T00:00:00",
          "2010-08-26T00:00:00",
          "2010-09-10T00:00:00",
          "2011-02-10T00:00:00",
          "2011-02-11T00:00:00",
          "2011-02-12T00:00:00",
          "2011-02-14T00:00:00",
          "2011-02-16T00:00:00",
          "2011-05-29T00:00:00",
          "2011-05-30T00:00:00",
          "2011-06-05T00:00:00",
          "2011-06-06T00:00:00",
          "2011-06-08T00:00:00",
          "2011-06-09T00:00:00",
          "2011-06-13T00:00:00",
          "2011-08-22T00:00:00",
          "2011-08-23T00:00:00",
          "2011-08-26T00:00:00",
          "2011-09-06T00:00:00",
          "2011-09-07T00:00:00",
          "2011-09-08T00:00:00",
          "2012-02-10T00:00:00",
          "2012-02-11T00:00:00",
          "2012-02-12T00:00:00",
          "2012-05-16T00:00:00",
          "2012-05-18T00:00:00",
          "2012-05-30T00:00:00",
          "2012-08-18T00:00:00",
          "2012-08-20T00:00:00",
          "2012-08-24T00:00:00",
          "2012-09-04T00:00:00",
          "2012-09-05T00:00:00",
          "2012-09-06T00:00:00",
          "2013-02-07T00:00:00",
          "2013-02-08T00:00:00",
          "2013-02-09T00:00:00",
          "2013-02-14T00:00:00",
          "2013-06-02T00:00:00",
          "2013-08-26T00:00:00",
          "2013-08-28T00:00:00",
          "2013-08-30T00:00:00",
          "2014-06-04T00:00:00",
          "2014-06-13T00:00:00",
          "2014-06-17T00:00:00",
          "2014-08-23T00:00:00",
          "2014-08-26T00:00:00",
          "2014-09-11T00:00:00",
          "2014-09-12T00:00:00",
          "2015-02-12T00:00:00",
          "2015-02-13T00:00:00",
          "2015-02-16T00:00:00",
          "2015-06-02T00:00:00",
          "2015-06-10T00:00:00",
          "2015-06-13T00:00:00",
          "2015-06-17T00:00:00",
          "2015-06-20T00:00:00",
          "2015-07-10T00:00:00",
          "2015-07-11T00:00:00",
          "2015-07-12T00:00:00",
          "2015-07-13T00:00:00",
          "2015-07-14T00:00:00",
          "2015-07-16T00:00:00",
          "2015-07-18T00:00:00",
          "2015-08-22T00:00:00",
          "2015-08-23T00:00:00",
          "2015-08-26T00:00:00",
          "2015-09-07T00:00:00",
          "2016-02-12T00:00:00",
          "2016-02-16T00:00:00",
          "2016-05-31T00:00:00",
          "2016-06-07T00:00:00",
          "2016-06-11T00:00:00",
          "2016-06-14T00:00:00",
          "2016-08-06T00:00:00",
          "2016-08-07T00:00:00",
          "2016-08-10T00:00:00",
          "2016-08-20T00:00:00",
          "2016-08-23T00:00:00",
          "2016-08-29T00:00:00",
          "2016-09-08T00:00:00",
          "2017-02-09T00:00:00",
          "2017-02-15T00:00:00",
          "2017-02-17T00:00:00",
          "2017-05-28T00:00:00",
          "2017-06-06T00:00:00",
          "2017-06-07T00:00:00",
          "2017-06-13T00:00:00",
          "2017-07-22T00:00:00",
          "2017-07-23T00:00:00",
          "2017-07-24T00:00:00",
          "2017-07-25T00:00:00",
          "2017-07-26T00:00:00",
          "2017-07-27T00:00:00",
          "2017-07-28T00:00:00",
          "2017-08-18T00:00:00",
          "2017-08-19T00:00:00",
          "2017-08-21T00:00:00",
          "2017-08-24T00:00:00",
          "2017-08-26T00:00:00",
          "2017-09-05T00:00:00",
          "2017-09-06T00:00:00",
          "2017-09-08T00:00:00",
          "2018-02-21T00:00:00",
          "2018-02-22T00:00:00",
          "2018-02-26T00:00:00",
          "2018-03-02T00:00:00",
          "2018-05-13T00:00:00",
          "2018-06-08T00:00:00",
          "2018-06-09T00:00:00",
          "2018-06-10T00:00:00",
          "2018-06-11T00:00:00",
          "2018-06-13T00:00:00",
          "2018-09-06T00:00:00",
          "2018-09-14T00:00:00",
          "2018-09-15T00:00:00",
          "2018-09-20T00:00:00",
          "2018-09-21T00:00:00",
          "2018-09-22T00:00:00",
          "2019-02-07T00:00:00",
          "2019-06-04T00:00:00",
          "2019-06-05T00:00:00",
          "2019-06-07T00:00:00",
          "2019-06-11T00:00:00",
          "2019-07-03T00:00:00",
          "2019-07-19T00:00:00",
          "2019-07-20T00:00:00",
          "2019-07-21T00:00:00",
          "2019-07-22T00:00:00",
          "2019-07-23T00:00:00",
          "2019-07-26T00:00:00",
          "2019-07-27T00:00:00",
          "2019-08-04T00:00:00",
          "2019-08-16T00:00:00",
          "2019-08-17T00:00:00",
          "2019-08-23T00:00:00",
          "2019-09-03T00:00:00",
          "2019-09-04T00:00:00",
          "2020-02-16T00:00:00",
          "2020-06-26T00:00:00",
          "2020-06-30T00:00:00",
          "2020-07-05T00:00:00",
          "2020-07-22T00:00:00",
          "2020-07-26T00:00:00",
          "2020-08-14T00:00:00",
          "2020-08-15T00:00:00",
          "2020-08-30T00:00:00",
          "2020-08-31T00:00:00"
         ],
         "y": [
          11.744354609999048,
          11.74411202433917,
          11.704570561779011,
          11.614086110644415,
          11.613843524984537,
          11.613600939324659,
          11.613358353664779,
          11.613115768004901,
          11.611660254045631,
          11.611417668385753,
          11.611175082725875,
          11.610447325746241,
          11.607536297827702,
          11.591283058615856,
          11.587159102397926,
          11.586916516738048,
          11.58667393107817,
          11.58643134541829,
          11.586188759758413,
          11.585946174098535,
          11.585703588438657,
          11.585461002778779,
          11.5852184171189,
          11.583520317499753,
          11.573331719784864,
          11.573089134124986,
          11.572846548465108,
          11.57260396280523,
          11.571876205825594,
          11.571633620165716,
          11.570420691866325,
          11.566054149988517,
          11.550286082096429,
          11.538399384762393,
          11.530636643646288,
          11.529908886666654,
          11.529181129687018,
          11.52893854402714,
          11.528210787047506,
          11.51923511763201,
          11.510987205196148,
          11.510016862556634,
          11.509774276896756,
          11.509531691236878,
          11.509289105577,
          11.507591005957853,
          11.505892906338705,
          11.505407735018947,
          11.504437392379435,
          11.502981878420165,
          11.50225412144053,
          11.50079860748126,
          11.4981301652226,
          11.497887579562722,
          11.497644993902842,
          11.497402408242964,
          11.497159822583086,
          11.494248794664546,
          11.49376362334479,
          11.485273125249051,
          11.483089854310146,
          11.47532711319404,
          11.474599356214407,
          11.473871599234771,
          11.473629013574893,
          11.442820634770353,
          11.442092877790717,
          11.423171196320212,
          11.422928610660334,
          11.42074533972143,
          11.419774997081916,
          11.413710355584959,
          11.41346776992508,
          11.413225184265203,
          11.412254841625689,
          11.40958639936703,
          11.408858642387393,
          11.408616056727515,
          11.408373471067637,
          11.40813088540776,
          11.407888299747881,
          11.407645714088003,
          11.396971945053359,
          11.39672935939348,
          11.394303502794697,
          11.389209203937254,
          11.355004625894416,
          11.33487001612452,
          11.334384844804763,
          11.32492400406951,
          11.324681418409632,
          11.320557462191703,
          11.320314876531823,
          11.320072290871945,
          11.319101948232433,
          11.318859362572555,
          11.31376506371511,
          11.313522478055232,
          11.313279892395354,
          11.312794721075598,
          11.312066964095962,
          11.303333880340345,
          11.300665438081683,
          11.300422852421805,
          11.299452509782292,
          11.299209924122414,
          11.267188617018482,
          11.26597568871909,
          11.265733103059212,
          11.265247931739456,
          11.25748519062335,
          11.240746780091749,
          11.240261608771993,
          11.240019023112115,
          11.239776437452237,
          11.239533851792359,
          11.23929126613248,
          11.239048680472601,
          11.238806094812723,
          11.238563509152845,
          11.238320923492967,
          11.23783575217321,
          11.236865409533698,
          11.235652481234306,
          11.235409895574428,
          11.23516730991455,
          11.234924724254672,
          11.232498867655888,
          11.232013696336132,
          11.218914070702706,
          11.21381977184526,
          11.213092014865627,
          11.212849429205749,
          11.21236425788599,
          11.212121672226113,
          11.211636500906357,
          11.2111513295866,
          11.178644851162911,
          11.178159679843155,
          11.177917094183277,
          11.17330796664559,
          11.158995412712772,
          11.158510241393014,
          11.158267655733136,
          11.147593886698491,
          11.145895787079343,
          11.144682858779953,
          11.144440273120075,
          11.144197687460196,
          11.143955101800318,
          11.14371251614044,
          11.140316316902144,
          11.139588559922508,
          11.13934597426263,
          11.133038747105795,
          11.130855476166891,
          11.129157376547743,
          11.12527600598969,
          11.124790834669934,
          11.117998436193343,
          11.117028093553829,
          11.089858499647463,
          11.089373328327707,
          11.089130742667828,
          11.088888157007949,
          11.08864557134807,
          11.087675228708559,
          11.066570276299148,
          11.064144419700366,
          11.063901834040488,
          11.06365924838061,
          11.06341666272073,
          11.062931491400974,
          11.061475977441704,
          11.061233391781826,
          11.041098782011929,
          11.04085619635205,
          11.040613610692173,
          11.039885853712537,
          11.035034140514972,
          10.999374048512866,
          10.997675948893718,
          10.975358068184917,
          10.97511548252504,
          10.974145139885525,
          10.973902554225647,
          10.973174797246012,
          10.971476697626864,
          10.954738287095264,
          10.954495701435386,
          10.954253115775508,
          10.951342087856968,
          10.951099502197088,
          10.938727633543298,
          10.91180062529681,
          10.911558039636931,
          10.911072868317174,
          10.910830282657296,
          10.909859940017782,
          10.905735983799852,
          10.905493398139974,
          10.887299473649103,
          10.885601374029955,
          10.88487361705032,
          10.882690346111415,
          10.872016577076772,
          10.868377792178597,
          10.867164863879207,
          10.866437106899571,
          10.865951935579815,
          10.864739007280424,
          10.862070565021762,
          10.825440130380143,
          10.82446978774063,
          10.823742030760995,
          10.80748879154915,
          10.787111596119376,
          10.786383839139742,
          10.777165584064367,
          10.776437827084731,
          10.770130599927896,
          10.76964542860814,
          10.768675085968626,
          10.767704743329114,
          10.767219572009356,
          10.73592602188506,
          10.735683436225182,
          10.735440850565302,
          10.734713093585668,
          10.73447050792579,
          10.733985336606032,
          10.710454527597841,
          10.708756427978694,
          10.708513842318816,
          10.708271256658936,
          10.702691786481736,
          10.702449200821858,
          10.700751101202709,
          10.70050851554283,
          10.700023344223075,
          10.690319917827944,
          10.690077332168066,
          10.689834746508188,
          10.689106989528552,
          10.685468204630379,
          10.6852256189705,
          10.649322941308515,
          10.649080355648637,
          10.64883776998876,
          10.648352598669003,
          10.64738225602949,
          10.62191076174227,
          10.621668176082393,
          10.619970076463245,
          10.619727490803365,
          10.619484905143487,
          10.618999733823731,
          10.618514562503975,
          10.61220733534714,
          10.602018737632251,
          10.601533566312495,
          10.597167024434686,
          10.561264346772703,
          10.561021761112823,
          10.53191148192743,
          10.531668896267552,
          10.529970796648405,
          10.529243039668769,
          10.521965469872422,
          10.521722884212544,
          10.521480298552664,
          10.521237712892786,
          10.511776872157533,
          10.510563943858141,
          10.50959360121863,
          10.507410330279725,
          10.507167744619846,
          10.471265066957862,
          10.470537309978226,
          10.44336771607186,
          10.441184445132956,
          10.440699273813198,
          10.439971516833564,
          10.430510676098312,
          10.430268090438434,
          10.429782919118677,
          10.42929774779892,
          10.423475691961842,
          10.423233106301964,
          10.422990520642085,
          10.422505349322329,
          10.42226276366245,
          10.418623978764277,
          10.3815083728029,
          10.381265787143022,
          10.381023201483144,
          10.380538030163386,
          10.38005285884363,
          10.355309121536047,
          10.355066535876169,
          10.353611021916898,
          10.35336843625702,
          10.352883264937264,
          10.352640679277386,
          10.351670336637872,
          10.334689340446394,
          10.334446754786514,
          10.33371899780688,
          10.331050555548218,
          10.33080796988834,
          10.330565384228462,
          10.29296460694733,
          10.292722021287451,
          10.292479435627573,
          10.269676383599016,
          10.269191212279258,
          10.266280184360719,
          10.246873331570457,
          10.246388160250701,
          10.245417817611187,
          10.242749375352528,
          10.242506789692648,
          10.24226420403277,
          10.204906012411517,
          10.204663426751637,
          10.204420841091759,
          10.203207912792369,
          10.177008661525514,
          10.15638888043586,
          10.155903709116105,
          10.155418537796347,
          10.087979724350188,
          10.085796453411284,
          10.08482611077177,
          10.068572871559926,
          10.06784511458029,
          10.063963744022239,
          10.06372115836236,
          10.026605552400984,
          10.026362966741106,
          10.025635209761472,
          9.999921129814373,
          9.997980444535347,
          9.997252687555713,
          9.9962823449162,
          9.995554587936565,
          9.990702874739,
          9.99046028907912,
          9.990217703419242,
          9.989975117759364,
          9.989732532099486,
          9.98924736077973,
          9.988762189459973,
          9.980271691364234,
          9.980029105704356,
          9.97930134872472,
          9.976390320806182,
          9.938061786545413,
          9.937091443905901,
          9.911619949618682,
          9.909921849999535,
          9.90895150736002,
          9.908223750380387,
          9.895366710406837,
          9.895124124746959,
          9.894396367767325,
          9.891970511168541,
          9.891242754188907,
          9.889787240229637,
          9.887361383630854,
          9.8500031920096,
          9.84854767805033,
          9.848062506730574,
          9.823803940742746,
          9.821620669803842,
          9.821378084143964,
          9.819922570184694,
          9.810461729449441,
          9.810219143789563,
          9.809976558129684,
          9.809733972469806,
          9.809491386809928,
          9.80924880115005,
          9.809006215490172,
          9.803911916632728,
          9.803669330972848,
          9.803184159653092,
          9.802456402673458,
          9.8019712313537,
          9.799545374754919,
          9.79930278909504,
          9.798817617775285,
          9.75854839823549,
          9.758305812575612,
          9.757335469936098,
          9.756365127296586,
          9.73889895978535,
          9.732591732628515,
          9.732349146968637,
          9.732106561308758,
          9.73186397564888,
          9.731378804329124,
          9.71075902323947,
          9.708818337960444,
          9.708575752300565,
          9.707362824001175,
          9.707120238341297,
          9.706877652681417,
          9.673400831618215,
          9.645018309412457,
          9.644775723752579,
          9.644290552432823,
          9.643320209793309,
          9.637983325275988,
          9.634101954717934,
          9.633859369058058,
          9.633616783398178,
          9.6333741977383,
          9.633131612078422,
          9.632403855098786,
          9.632161269438908,
          9.630220584159883,
          9.627309556241343,
          9.627066970581465,
          9.625611456622195,
          9.622943014363535,
          9.622700428703656,
          9.58267379482374,
          9.550895073379687,
          9.549924730740173,
          9.548711802440783,
          9.544587846222852,
          9.543617503583338,
          9.53900837604565,
          9.538765790385774,
          9.535127005487599,
          9.534884419827721
         ]
        },
        {
         "fill": "toself",
         "fillcolor": "rgba(255, 0, 0, 0.2)",
         "line": {
          "color": "rgba(0, 0, 0, 0)"
         },
         "name": "Day Confidence Interval",
         "type": "scatter",
         "x": [
          "1995-09-24T00:00:00",
          "1995-09-25T00:00:00",
          "1996-03-06T00:00:00",
          "1997-03-14T00:00:00",
          "1997-03-15T00:00:00",
          "1997-03-16T00:00:00",
          "1997-03-17T00:00:00",
          "1997-03-18T00:00:00",
          "1997-03-24T00:00:00",
          "1997-03-25T00:00:00",
          "1997-03-26T00:00:00",
          "1997-03-29T00:00:00",
          "1997-04-10T00:00:00",
          "1997-06-16T00:00:00",
          "1997-07-03T00:00:00",
          "1997-07-04T00:00:00",
          "1997-07-05T00:00:00",
          "1997-07-06T00:00:00",
          "1997-07-07T00:00:00",
          "1997-07-08T00:00:00",
          "1997-07-09T00:00:00",
          "1997-07-10T00:00:00",
          "1997-07-11T00:00:00",
          "1997-07-18T00:00:00",
          "1997-08-29T00:00:00",
          "1997-08-30T00:00:00",
          "1997-08-31T00:00:00",
          "1997-09-01T00:00:00",
          "1997-09-04T00:00:00",
          "1997-09-05T00:00:00",
          "1997-09-10T00:00:00",
          "1997-09-28T00:00:00",
          "1997-12-02T00:00:00",
          "1998-01-20T00:00:00",
          "1998-02-21T00:00:00",
          "1998-02-24T00:00:00",
          "1998-02-27T00:00:00",
          "1998-02-28T00:00:00",
          "1998-03-03T00:00:00",
          "1998-04-09T00:00:00",
          "1998-05-13T00:00:00",
          "1998-05-17T00:00:00",
          "1998-05-18T00:00:00",
          "1998-05-19T00:00:00",
          "1998-05-20T00:00:00",
          "1998-05-27T00:00:00",
          "1998-06-03T00:00:00",
          "1998-06-05T00:00:00",
          "1998-06-09T00:00:00",
          "1998-06-15T00:00:00",
          "1998-06-18T00:00:00",
          "1998-06-24T00:00:00",
          "1998-07-05T00:00:00",
          "1998-07-06T00:00:00",
          "1998-07-07T00:00:00",
          "1998-07-08T00:00:00",
          "1998-07-09T00:00:00",
          "1998-07-21T00:00:00",
          "1998-07-23T00:00:00",
          "1998-08-27T00:00:00",
          "1998-09-05T00:00:00",
          "1998-10-07T00:00:00",
          "1998-10-10T00:00:00",
          "1998-10-13T00:00:00",
          "1998-10-14T00:00:00",
          "1999-02-18T00:00:00",
          "1999-02-21T00:00:00",
          "1999-05-10T00:00:00",
          "1999-05-11T00:00:00",
          "1999-05-20T00:00:00",
          "1999-05-24T00:00:00",
          "1999-06-18T00:00:00",
          "1999-06-19T00:00:00",
          "1999-06-20T00:00:00",
          "1999-06-24T00:00:00",
          "1999-07-05T00:00:00",
          "1999-07-08T00:00:00",
          "1999-07-09T00:00:00",
          "1999-07-10T00:00:00",
          "1999-07-11T00:00:00",
          "1999-07-12T00:00:00",
          "1999-07-13T00:00:00",
          "1999-08-26T00:00:00",
          "1999-08-27T00:00:00",
          "1999-09-06T00:00:00",
          "1999-09-27T00:00:00",
          "2000-02-15T00:00:00",
          "2000-05-08T00:00:00",
          "2000-05-10T00:00:00",
          "2000-06-18T00:00:00",
          "2000-06-19T00:00:00",
          "2000-07-06T00:00:00",
          "2000-07-07T00:00:00",
          "2000-07-08T00:00:00",
          "2000-07-12T00:00:00",
          "2000-07-13T00:00:00",
          "2000-08-03T00:00:00",
          "2000-08-04T00:00:00",
          "2000-08-05T00:00:00",
          "2000-08-07T00:00:00",
          "2000-08-10T00:00:00",
          "2000-09-15T00:00:00",
          "2000-09-26T00:00:00",
          "2000-09-27T00:00:00",
          "2000-10-01T00:00:00",
          "2000-10-02T00:00:00",
          "2001-02-11T00:00:00",
          "2001-02-16T00:00:00",
          "2001-02-17T00:00:00",
          "2001-02-19T00:00:00",
          "2001-03-23T00:00:00",
          "2001-05-31T00:00:00",
          "2001-06-02T00:00:00",
          "2001-06-03T00:00:00",
          "2001-06-04T00:00:00",
          "2001-06-05T00:00:00",
          "2001-06-06T00:00:00",
          "2001-06-07T00:00:00",
          "2001-06-08T00:00:00",
          "2001-06-09T00:00:00",
          "2001-06-10T00:00:00",
          "2001-06-12T00:00:00",
          "2001-06-16T00:00:00",
          "2001-06-21T00:00:00",
          "2001-06-22T00:00:00",
          "2001-06-23T00:00:00",
          "2001-06-24T00:00:00",
          "2001-07-04T00:00:00",
          "2001-07-06T00:00:00",
          "2001-08-29T00:00:00",
          "2001-09-19T00:00:00",
          "2001-09-22T00:00:00",
          "2001-09-23T00:00:00",
          "2001-09-25T00:00:00",
          "2001-09-26T00:00:00",
          "2001-09-28T00:00:00",
          "2001-09-30T00:00:00",
          "2002-02-11T00:00:00",
          "2002-02-13T00:00:00",
          "2002-02-14T00:00:00",
          "2002-03-05T00:00:00",
          "2002-05-03T00:00:00",
          "2002-05-05T00:00:00",
          "2002-05-06T00:00:00",
          "2002-06-19T00:00:00",
          "2002-06-26T00:00:00",
          "2002-07-01T00:00:00",
          "2002-07-02T00:00:00",
          "2002-07-03T00:00:00",
          "2002-07-04T00:00:00",
          "2002-07-05T00:00:00",
          "2002-07-19T00:00:00",
          "2002-07-22T00:00:00",
          "2002-07-23T00:00:00",
          "2002-08-18T00:00:00",
          "2002-08-27T00:00:00",
          "2002-09-03T00:00:00",
          "2002-09-19T00:00:00",
          "2002-09-21T00:00:00",
          "2002-10-19T00:00:00",
          "2002-10-23T00:00:00",
          "2003-02-12T00:00:00",
          "2003-02-14T00:00:00",
          "2003-02-15T00:00:00",
          "2003-02-16T00:00:00",
          "2003-02-17T00:00:00",
          "2003-02-21T00:00:00",
          "2003-05-19T00:00:00",
          "2003-05-29T00:00:00",
          "2003-05-30T00:00:00",
          "2003-05-31T00:00:00",
          "2003-06-01T00:00:00",
          "2003-06-03T00:00:00",
          "2003-06-09T00:00:00",
          "2003-06-10T00:00:00",
          "2003-09-01T00:00:00",
          "2003-09-02T00:00:00",
          "2003-09-03T00:00:00",
          "2003-09-06T00:00:00",
          "2003-09-26T00:00:00",
          "2004-02-20T00:00:00",
          "2004-02-27T00:00:00",
          "2004-05-29T00:00:00",
          "2004-05-30T00:00:00",
          "2004-06-03T00:00:00",
          "2004-06-04T00:00:00",
          "2004-06-07T00:00:00",
          "2004-06-14T00:00:00",
          "2004-08-22T00:00:00",
          "2004-08-23T00:00:00",
          "2004-08-24T00:00:00",
          "2004-09-05T00:00:00",
          "2004-09-06T00:00:00",
          "2004-10-27T00:00:00",
          "2005-02-15T00:00:00",
          "2005-02-16T00:00:00",
          "2005-02-18T00:00:00",
          "2005-02-19T00:00:00",
          "2005-02-23T00:00:00",
          "2005-03-12T00:00:00",
          "2005-03-13T00:00:00",
          "2005-05-27T00:00:00",
          "2005-06-03T00:00:00",
          "2005-06-06T00:00:00",
          "2005-06-15T00:00:00",
          "2005-07-29T00:00:00",
          "2005-08-13T00:00:00",
          "2005-08-18T00:00:00",
          "2005-08-21T00:00:00",
          "2005-08-23T00:00:00",
          "2005-08-28T00:00:00",
          "2005-09-08T00:00:00",
          "2006-02-06T00:00:00",
          "2006-02-10T00:00:00",
          "2006-02-13T00:00:00",
          "2006-04-21T00:00:00",
          "2006-07-14T00:00:00",
          "2006-07-17T00:00:00",
          "2006-08-24T00:00:00",
          "2006-08-27T00:00:00",
          "2006-09-22T00:00:00",
          "2006-09-24T00:00:00",
          "2006-09-28T00:00:00",
          "2006-10-02T00:00:00",
          "2006-10-04T00:00:00",
          "2007-02-10T00:00:00",
          "2007-02-11T00:00:00",
          "2007-02-12T00:00:00",
          "2007-02-15T00:00:00",
          "2007-02-16T00:00:00",
          "2007-02-18T00:00:00",
          "2007-05-26T00:00:00",
          "2007-06-02T00:00:00",
          "2007-06-03T00:00:00",
          "2007-06-04T00:00:00",
          "2007-06-27T00:00:00",
          "2007-06-28T00:00:00",
          "2007-07-05T00:00:00",
          "2007-07-06T00:00:00",
          "2007-07-08T00:00:00",
          "2007-08-17T00:00:00",
          "2007-08-18T00:00:00",
          "2007-08-19T00:00:00",
          "2007-08-22T00:00:00",
          "2007-09-06T00:00:00",
          "2007-09-07T00:00:00",
          "2008-02-02T00:00:00",
          "2008-02-03T00:00:00",
          "2008-02-04T00:00:00",
          "2008-02-06T00:00:00",
          "2008-02-10T00:00:00",
          "2008-05-25T00:00:00",
          "2008-05-26T00:00:00",
          "2008-06-02T00:00:00",
          "2008-06-03T00:00:00",
          "2008-06-04T00:00:00",
          "2008-06-06T00:00:00",
          "2008-06-08T00:00:00",
          "2008-07-04T00:00:00",
          "2008-08-15T00:00:00",
          "2008-08-17T00:00:00",
          "2008-09-04T00:00:00",
          "2009-01-30T00:00:00",
          "2009-01-31T00:00:00",
          "2009-05-31T00:00:00",
          "2009-06-01T00:00:00",
          "2009-06-08T00:00:00",
          "2009-06-11T00:00:00",
          "2009-07-11T00:00:00",
          "2009-07-12T00:00:00",
          "2009-07-13T00:00:00",
          "2009-07-14T00:00:00",
          "2009-08-22T00:00:00",
          "2009-08-27T00:00:00",
          "2009-08-31T00:00:00",
          "2009-09-09T00:00:00",
          "2009-09-10T00:00:00",
          "2010-02-05T00:00:00",
          "2010-02-08T00:00:00",
          "2010-05-31T00:00:00",
          "2010-06-09T00:00:00",
          "2010-06-11T00:00:00",
          "2010-06-14T00:00:00",
          "2010-07-23T00:00:00",
          "2010-07-24T00:00:00",
          "2010-07-26T00:00:00",
          "2010-07-28T00:00:00",
          "2010-08-21T00:00:00",
          "2010-08-22T00:00:00",
          "2010-08-23T00:00:00",
          "2010-08-25T00:00:00",
          "2010-08-26T00:00:00",
          "2010-09-10T00:00:00",
          "2011-02-10T00:00:00",
          "2011-02-11T00:00:00",
          "2011-02-12T00:00:00",
          "2011-02-14T00:00:00",
          "2011-02-16T00:00:00",
          "2011-05-29T00:00:00",
          "2011-05-30T00:00:00",
          "2011-06-05T00:00:00",
          "2011-06-06T00:00:00",
          "2011-06-08T00:00:00",
          "2011-06-09T00:00:00",
          "2011-06-13T00:00:00",
          "2011-08-22T00:00:00",
          "2011-08-23T00:00:00",
          "2011-08-26T00:00:00",
          "2011-09-06T00:00:00",
          "2011-09-07T00:00:00",
          "2011-09-08T00:00:00",
          "2012-02-10T00:00:00",
          "2012-02-11T00:00:00",
          "2012-02-12T00:00:00",
          "2012-05-16T00:00:00",
          "2012-05-18T00:00:00",
          "2012-05-30T00:00:00",
          "2012-08-18T00:00:00",
          "2012-08-20T00:00:00",
          "2012-08-24T00:00:00",
          "2012-09-04T00:00:00",
          "2012-09-05T00:00:00",
          "2012-09-06T00:00:00",
          "2013-02-07T00:00:00",
          "2013-02-08T00:00:00",
          "2013-02-09T00:00:00",
          "2013-02-14T00:00:00",
          "2013-06-02T00:00:00",
          "2013-08-26T00:00:00",
          "2013-08-28T00:00:00",
          "2013-08-30T00:00:00",
          "2014-06-04T00:00:00",
          "2014-06-13T00:00:00",
          "2014-06-17T00:00:00",
          "2014-08-23T00:00:00",
          "2014-08-26T00:00:00",
          "2014-09-11T00:00:00",
          "2014-09-12T00:00:00",
          "2015-02-12T00:00:00",
          "2015-02-13T00:00:00",
          "2015-02-16T00:00:00",
          "2015-06-02T00:00:00",
          "2015-06-10T00:00:00",
          "2015-06-13T00:00:00",
          "2015-06-17T00:00:00",
          "2015-06-20T00:00:00",
          "2015-07-10T00:00:00",
          "2015-07-11T00:00:00",
          "2015-07-12T00:00:00",
          "2015-07-13T00:00:00",
          "2015-07-14T00:00:00",
          "2015-07-16T00:00:00",
          "2015-07-18T00:00:00",
          "2015-08-22T00:00:00",
          "2015-08-23T00:00:00",
          "2015-08-26T00:00:00",
          "2015-09-07T00:00:00",
          "2016-02-12T00:00:00",
          "2016-02-16T00:00:00",
          "2016-05-31T00:00:00",
          "2016-06-07T00:00:00",
          "2016-06-11T00:00:00",
          "2016-06-14T00:00:00",
          "2016-08-06T00:00:00",
          "2016-08-07T00:00:00",
          "2016-08-10T00:00:00",
          "2016-08-20T00:00:00",
          "2016-08-23T00:00:00",
          "2016-08-29T00:00:00",
          "2016-09-08T00:00:00",
          "2017-02-09T00:00:00",
          "2017-02-15T00:00:00",
          "2017-02-17T00:00:00",
          "2017-05-28T00:00:00",
          "2017-06-06T00:00:00",
          "2017-06-07T00:00:00",
          "2017-06-13T00:00:00",
          "2017-07-22T00:00:00",
          "2017-07-23T00:00:00",
          "2017-07-24T00:00:00",
          "2017-07-25T00:00:00",
          "2017-07-26T00:00:00",
          "2017-07-27T00:00:00",
          "2017-07-28T00:00:00",
          "2017-08-18T00:00:00",
          "2017-08-19T00:00:00",
          "2017-08-21T00:00:00",
          "2017-08-24T00:00:00",
          "2017-08-26T00:00:00",
          "2017-09-05T00:00:00",
          "2017-09-06T00:00:00",
          "2017-09-08T00:00:00",
          "2018-02-21T00:00:00",
          "2018-02-22T00:00:00",
          "2018-02-26T00:00:00",
          "2018-03-02T00:00:00",
          "2018-05-13T00:00:00",
          "2018-06-08T00:00:00",
          "2018-06-09T00:00:00",
          "2018-06-10T00:00:00",
          "2018-06-11T00:00:00",
          "2018-06-13T00:00:00",
          "2018-09-06T00:00:00",
          "2018-09-14T00:00:00",
          "2018-09-15T00:00:00",
          "2018-09-20T00:00:00",
          "2018-09-21T00:00:00",
          "2018-09-22T00:00:00",
          "2019-02-07T00:00:00",
          "2019-06-04T00:00:00",
          "2019-06-05T00:00:00",
          "2019-06-07T00:00:00",
          "2019-06-11T00:00:00",
          "2019-07-03T00:00:00",
          "2019-07-19T00:00:00",
          "2019-07-20T00:00:00",
          "2019-07-21T00:00:00",
          "2019-07-22T00:00:00",
          "2019-07-23T00:00:00",
          "2019-07-26T00:00:00",
          "2019-07-27T00:00:00",
          "2019-08-04T00:00:00",
          "2019-08-16T00:00:00",
          "2019-08-17T00:00:00",
          "2019-08-23T00:00:00",
          "2019-09-03T00:00:00",
          "2019-09-04T00:00:00",
          "2020-02-16T00:00:00",
          "2020-06-26T00:00:00",
          "2020-06-30T00:00:00",
          "2020-07-05T00:00:00",
          "2020-07-22T00:00:00",
          "2020-07-26T00:00:00",
          "2020-08-14T00:00:00",
          "2020-08-15T00:00:00",
          "2020-08-30T00:00:00",
          "2020-08-31T00:00:00",
          "2020-08-31T00:00:00",
          "2020-08-30T00:00:00",
          "2020-08-15T00:00:00",
          "2020-08-14T00:00:00",
          "2020-07-26T00:00:00",
          "2020-07-22T00:00:00",
          "2020-07-05T00:00:00",
          "2020-06-30T00:00:00",
          "2020-06-26T00:00:00",
          "2020-02-16T00:00:00",
          "2019-09-04T00:00:00",
          "2019-09-03T00:00:00",
          "2019-08-23T00:00:00",
          "2019-08-17T00:00:00",
          "2019-08-16T00:00:00",
          "2019-08-04T00:00:00",
          "2019-07-27T00:00:00",
          "2019-07-26T00:00:00",
          "2019-07-23T00:00:00",
          "2019-07-22T00:00:00",
          "2019-07-21T00:00:00",
          "2019-07-20T00:00:00",
          "2019-07-19T00:00:00",
          "2019-07-03T00:00:00",
          "2019-06-11T00:00:00",
          "2019-06-07T00:00:00",
          "2019-06-05T00:00:00",
          "2019-06-04T00:00:00",
          "2019-02-07T00:00:00",
          "2018-09-22T00:00:00",
          "2018-09-21T00:00:00",
          "2018-09-20T00:00:00",
          "2018-09-15T00:00:00",
          "2018-09-14T00:00:00",
          "2018-09-06T00:00:00",
          "2018-06-13T00:00:00",
          "2018-06-11T00:00:00",
          "2018-06-10T00:00:00",
          "2018-06-09T00:00:00",
          "2018-06-08T00:00:00",
          "2018-05-13T00:00:00",
          "2018-03-02T00:00:00",
          "2018-02-26T00:00:00",
          "2018-02-22T00:00:00",
          "2018-02-21T00:00:00",
          "2017-09-08T00:00:00",
          "2017-09-06T00:00:00",
          "2017-09-05T00:00:00",
          "2017-08-26T00:00:00",
          "2017-08-24T00:00:00",
          "2017-08-21T00:00:00",
          "2017-08-19T00:00:00",
          "2017-08-18T00:00:00",
          "2017-07-28T00:00:00",
          "2017-07-27T00:00:00",
          "2017-07-26T00:00:00",
          "2017-07-25T00:00:00",
          "2017-07-24T00:00:00",
          "2017-07-23T00:00:00",
          "2017-07-22T00:00:00",
          "2017-06-13T00:00:00",
          "2017-06-07T00:00:00",
          "2017-06-06T00:00:00",
          "2017-05-28T00:00:00",
          "2017-02-17T00:00:00",
          "2017-02-15T00:00:00",
          "2017-02-09T00:00:00",
          "2016-09-08T00:00:00",
          "2016-08-29T00:00:00",
          "2016-08-23T00:00:00",
          "2016-08-20T00:00:00",
          "2016-08-10T00:00:00",
          "2016-08-07T00:00:00",
          "2016-08-06T00:00:00",
          "2016-06-14T00:00:00",
          "2016-06-11T00:00:00",
          "2016-06-07T00:00:00",
          "2016-05-31T00:00:00",
          "2016-02-16T00:00:00",
          "2016-02-12T00:00:00",
          "2015-09-07T00:00:00",
          "2015-08-26T00:00:00",
          "2015-08-23T00:00:00",
          "2015-08-22T00:00:00",
          "2015-07-18T00:00:00",
          "2015-07-16T00:00:00",
          "2015-07-14T00:00:00",
          "2015-07-13T00:00:00",
          "2015-07-12T00:00:00",
          "2015-07-11T00:00:00",
          "2015-07-10T00:00:00",
          "2015-06-20T00:00:00",
          "2015-06-17T00:00:00",
          "2015-06-13T00:00:00",
          "2015-06-10T00:00:00",
          "2015-06-02T00:00:00",
          "2015-02-16T00:00:00",
          "2015-02-13T00:00:00",
          "2015-02-12T00:00:00",
          "2014-09-12T00:00:00",
          "2014-09-11T00:00:00",
          "2014-08-26T00:00:00",
          "2014-08-23T00:00:00",
          "2014-06-17T00:00:00",
          "2014-06-13T00:00:00",
          "2014-06-04T00:00:00",
          "2013-08-30T00:00:00",
          "2013-08-28T00:00:00",
          "2013-08-26T00:00:00",
          "2013-06-02T00:00:00",
          "2013-02-14T00:00:00",
          "2013-02-09T00:00:00",
          "2013-02-08T00:00:00",
          "2013-02-07T00:00:00",
          "2012-09-06T00:00:00",
          "2012-09-05T00:00:00",
          "2012-09-04T00:00:00",
          "2012-08-24T00:00:00",
          "2012-08-20T00:00:00",
          "2012-08-18T00:00:00",
          "2012-05-30T00:00:00",
          "2012-05-18T00:00:00",
          "2012-05-16T00:00:00",
          "2012-02-12T00:00:00",
          "2012-02-11T00:00:00",
          "2012-02-10T00:00:00",
          "2011-09-08T00:00:00",
          "2011-09-07T00:00:00",
          "2011-09-06T00:00:00",
          "2011-08-26T00:00:00",
          "2011-08-23T00:00:00",
          "2011-08-22T00:00:00",
          "2011-06-13T00:00:00",
          "2011-06-09T00:00:00",
          "2011-06-08T00:00:00",
          "2011-06-06T00:00:00",
          "2011-06-05T00:00:00",
          "2011-05-30T00:00:00",
          "2011-05-29T00:00:00",
          "2011-02-16T00:00:00",
          "2011-02-14T00:00:00",
          "2011-02-12T00:00:00",
          "2011-02-11T00:00:00",
          "2011-02-10T00:00:00",
          "2010-09-10T00:00:00",
          "2010-08-26T00:00:00",
          "2010-08-25T00:00:00",
          "2010-08-23T00:00:00",
          "2010-08-22T00:00:00",
          "2010-08-21T00:00:00",
          "2010-07-28T00:00:00",
          "2010-07-26T00:00:00",
          "2010-07-24T00:00:00",
          "2010-07-23T00:00:00",
          "2010-06-14T00:00:00",
          "2010-06-11T00:00:00",
          "2010-06-09T00:00:00",
          "2010-05-31T00:00:00",
          "2010-02-08T00:00:00",
          "2010-02-05T00:00:00",
          "2009-09-10T00:00:00",
          "2009-09-09T00:00:00",
          "2009-08-31T00:00:00",
          "2009-08-27T00:00:00",
          "2009-08-22T00:00:00",
          "2009-07-14T00:00:00",
          "2009-07-13T00:00:00",
          "2009-07-12T00:00:00",
          "2009-07-11T00:00:00",
          "2009-06-11T00:00:00",
          "2009-06-08T00:00:00",
          "2009-06-01T00:00:00",
          "2009-05-31T00:00:00",
          "2009-01-31T00:00:00",
          "2009-01-30T00:00:00",
          "2008-09-04T00:00:00",
          "2008-08-17T00:00:00",
          "2008-08-15T00:00:00",
          "2008-07-04T00:00:00",
          "2008-06-08T00:00:00",
          "2008-06-06T00:00:00",
          "2008-06-04T00:00:00",
          "2008-06-03T00:00:00",
          "2008-06-02T00:00:00",
          "2008-05-26T00:00:00",
          "2008-05-25T00:00:00",
          "2008-02-10T00:00:00",
          "2008-02-06T00:00:00",
          "2008-02-04T00:00:00",
          "2008-02-03T00:00:00",
          "2008-02-02T00:00:00",
          "2007-09-07T00:00:00",
          "2007-09-06T00:00:00",
          "2007-08-22T00:00:00",
          "2007-08-19T00:00:00",
          "2007-08-18T00:00:00",
          "2007-08-17T00:00:00",
          "2007-07-08T00:00:00",
          "2007-07-06T00:00:00",
          "2007-07-05T00:00:00",
          "2007-06-28T00:00:00",
          "2007-06-27T00:00:00",
          "2007-06-04T00:00:00",
          "2007-06-03T00:00:00",
          "2007-06-02T00:00:00",
          "2007-05-26T00:00:00",
          "2007-02-18T00:00:00",
          "2007-02-16T00:00:00",
          "2007-02-15T00:00:00",
          "2007-02-12T00:00:00",
          "2007-02-11T00:00:00",
          "2007-02-10T00:00:00",
          "2006-10-04T00:00:00",
          "2006-10-02T00:00:00",
          "2006-09-28T00:00:00",
          "2006-09-24T00:00:00",
          "2006-09-22T00:00:00",
          "2006-08-27T00:00:00",
          "2006-08-24T00:00:00",
          "2006-07-17T00:00:00",
          "2006-07-14T00:00:00",
          "2006-04-21T00:00:00",
          "2006-02-13T00:00:00",
          "2006-02-10T00:00:00",
          "2006-02-06T00:00:00",
          "2005-09-08T00:00:00",
          "2005-08-28T00:00:00",
          "2005-08-23T00:00:00",
          "2005-08-21T00:00:00",
          "2005-08-18T00:00:00",
          "2005-08-13T00:00:00",
          "2005-07-29T00:00:00",
          "2005-06-15T00:00:00",
          "2005-06-06T00:00:00",
          "2005-06-03T00:00:00",
          "2005-05-27T00:00:00",
          "2005-03-13T00:00:00",
          "2005-03-12T00:00:00",
          "2005-02-23T00:00:00",
          "2005-02-19T00:00:00",
          "2005-02-18T00:00:00",
          "2005-02-16T00:00:00",
          "2005-02-15T00:00:00",
          "2004-10-27T00:00:00",
          "2004-09-06T00:00:00",
          "2004-09-05T00:00:00",
          "2004-08-24T00:00:00",
          "2004-08-23T00:00:00",
          "2004-08-22T00:00:00",
          "2004-06-14T00:00:00",
          "2004-06-07T00:00:00",
          "2004-06-04T00:00:00",
          "2004-06-03T00:00:00",
          "2004-05-30T00:00:00",
          "2004-05-29T00:00:00",
          "2004-02-27T00:00:00",
          "2004-02-20T00:00:00",
          "2003-09-26T00:00:00",
          "2003-09-06T00:00:00",
          "2003-09-03T00:00:00",
          "2003-09-02T00:00:00",
          "2003-09-01T00:00:00",
          "2003-06-10T00:00:00",
          "2003-06-09T00:00:00",
          "2003-06-03T00:00:00",
          "2003-06-01T00:00:00",
          "2003-05-31T00:00:00",
          "2003-05-30T00:00:00",
          "2003-05-29T00:00:00",
          "2003-05-19T00:00:00",
          "2003-02-21T00:00:00",
          "2003-02-17T00:00:00",
          "2003-02-16T00:00:00",
          "2003-02-15T00:00:00",
          "2003-02-14T00:00:00",
          "2003-02-12T00:00:00",
          "2002-10-23T00:00:00",
          "2002-10-19T00:00:00",
          "2002-09-21T00:00:00",
          "2002-09-19T00:00:00",
          "2002-09-03T00:00:00",
          "2002-08-27T00:00:00",
          "2002-08-18T00:00:00",
          "2002-07-23T00:00:00",
          "2002-07-22T00:00:00",
          "2002-07-19T00:00:00",
          "2002-07-05T00:00:00",
          "2002-07-04T00:00:00",
          "2002-07-03T00:00:00",
          "2002-07-02T00:00:00",
          "2002-07-01T00:00:00",
          "2002-06-26T00:00:00",
          "2002-06-19T00:00:00",
          "2002-05-06T00:00:00",
          "2002-05-05T00:00:00",
          "2002-05-03T00:00:00",
          "2002-03-05T00:00:00",
          "2002-02-14T00:00:00",
          "2002-02-13T00:00:00",
          "2002-02-11T00:00:00",
          "2001-09-30T00:00:00",
          "2001-09-28T00:00:00",
          "2001-09-26T00:00:00",
          "2001-09-25T00:00:00",
          "2001-09-23T00:00:00",
          "2001-09-22T00:00:00",
          "2001-09-19T00:00:00",
          "2001-08-29T00:00:00",
          "2001-07-06T00:00:00",
          "2001-07-04T00:00:00",
          "2001-06-24T00:00:00",
          "2001-06-23T00:00:00",
          "2001-06-22T00:00:00",
          "2001-06-21T00:00:00",
          "2001-06-16T00:00:00",
          "2001-06-12T00:00:00",
          "2001-06-10T00:00:00",
          "2001-06-09T00:00:00",
          "2001-06-08T00:00:00",
          "2001-06-07T00:00:00",
          "2001-06-06T00:00:00",
          "2001-06-05T00:00:00",
          "2001-06-04T00:00:00",
          "2001-06-03T00:00:00",
          "2001-06-02T00:00:00",
          "2001-05-31T00:00:00",
          "2001-03-23T00:00:00",
          "2001-02-19T00:00:00",
          "2001-02-17T00:00:00",
          "2001-02-16T00:00:00",
          "2001-02-11T00:00:00",
          "2000-10-02T00:00:00",
          "2000-10-01T00:00:00",
          "2000-09-27T00:00:00",
          "2000-09-26T00:00:00",
          "2000-09-15T00:00:00",
          "2000-08-10T00:00:00",
          "2000-08-07T00:00:00",
          "2000-08-05T00:00:00",
          "2000-08-04T00:00:00",
          "2000-08-03T00:00:00",
          "2000-07-13T00:00:00",
          "2000-07-12T00:00:00",
          "2000-07-08T00:00:00",
          "2000-07-07T00:00:00",
          "2000-07-06T00:00:00",
          "2000-06-19T00:00:00",
          "2000-06-18T00:00:00",
          "2000-05-10T00:00:00",
          "2000-05-08T00:00:00",
          "2000-02-15T00:00:00",
          "1999-09-27T00:00:00",
          "1999-09-06T00:00:00",
          "1999-08-27T00:00:00",
          "1999-08-26T00:00:00",
          "1999-07-13T00:00:00",
          "1999-07-12T00:00:00",
          "1999-07-11T00:00:00",
          "1999-07-10T00:00:00",
          "1999-07-09T00:00:00",
          "1999-07-08T00:00:00",
          "1999-07-05T00:00:00",
          "1999-06-24T00:00:00",
          "1999-06-20T00:00:00",
          "1999-06-19T00:00:00",
          "1999-06-18T00:00:00",
          "1999-05-24T00:00:00",
          "1999-05-20T00:00:00",
          "1999-05-11T00:00:00",
          "1999-05-10T00:00:00",
          "1999-02-21T00:00:00",
          "1999-02-18T00:00:00",
          "1998-10-14T00:00:00",
          "1998-10-13T00:00:00",
          "1998-10-10T00:00:00",
          "1998-10-07T00:00:00",
          "1998-09-05T00:00:00",
          "1998-08-27T00:00:00",
          "1998-07-23T00:00:00",
          "1998-07-21T00:00:00",
          "1998-07-09T00:00:00",
          "1998-07-08T00:00:00",
          "1998-07-07T00:00:00",
          "1998-07-06T00:00:00",
          "1998-07-05T00:00:00",
          "1998-06-24T00:00:00",
          "1998-06-18T00:00:00",
          "1998-06-15T00:00:00",
          "1998-06-09T00:00:00",
          "1998-06-05T00:00:00",
          "1998-06-03T00:00:00",
          "1998-05-27T00:00:00",
          "1998-05-20T00:00:00",
          "1998-05-19T00:00:00",
          "1998-05-18T00:00:00",
          "1998-05-17T00:00:00",
          "1998-05-13T00:00:00",
          "1998-04-09T00:00:00",
          "1998-03-03T00:00:00",
          "1998-02-28T00:00:00",
          "1998-02-27T00:00:00",
          "1998-02-24T00:00:00",
          "1998-02-21T00:00:00",
          "1998-01-20T00:00:00",
          "1997-12-02T00:00:00",
          "1997-09-28T00:00:00",
          "1997-09-10T00:00:00",
          "1997-09-05T00:00:00",
          "1997-09-04T00:00:00",
          "1997-09-01T00:00:00",
          "1997-08-31T00:00:00",
          "1997-08-30T00:00:00",
          "1997-08-29T00:00:00",
          "1997-07-18T00:00:00",
          "1997-07-11T00:00:00",
          "1997-07-10T00:00:00",
          "1997-07-09T00:00:00",
          "1997-07-08T00:00:00",
          "1997-07-07T00:00:00",
          "1997-07-06T00:00:00",
          "1997-07-05T00:00:00",
          "1997-07-04T00:00:00",
          "1997-07-03T00:00:00",
          "1997-06-16T00:00:00",
          "1997-04-10T00:00:00",
          "1997-03-29T00:00:00",
          "1997-03-26T00:00:00",
          "1997-03-25T00:00:00",
          "1997-03-24T00:00:00",
          "1997-03-18T00:00:00",
          "1997-03-17T00:00:00",
          "1997-03-16T00:00:00",
          "1997-03-15T00:00:00",
          "1997-03-14T00:00:00",
          "1996-03-06T00:00:00",
          "1995-09-25T00:00:00",
          "1995-09-24T00:00:00"
         ],
         "y": [
          12.468117505732689,
          12.467874920072811,
          12.428333457512652,
          12.337849006378056,
          12.337606420718178,
          12.3373638350583,
          12.33712124939842,
          12.336878663738542,
          12.335423149779272,
          12.335180564119394,
          12.334937978459516,
          12.334210221479882,
          12.331299193561343,
          12.315045954349497,
          12.310921998131567,
          12.31067941247169,
          12.310436826811811,
          12.310194241151931,
          12.309951655492053,
          12.309709069832175,
          12.309466484172297,
          12.30922389851242,
          12.308981312852541,
          12.307283213233394,
          12.297094615518505,
          12.296852029858627,
          12.296609444198749,
          12.296366858538871,
          12.295639101559235,
          12.295396515899357,
          12.294183587599965,
          12.289817045722158,
          12.27404897783007,
          12.262162280496034,
          12.254399539379929,
          12.253671782400295,
          12.252944025420659,
          12.25270143976078,
          12.251973682781147,
          12.24299801336565,
          12.234750100929789,
          12.233779758290275,
          12.233537172630397,
          12.23329458697052,
          12.233052001310641,
          12.231353901691493,
          12.229655802072346,
          12.229170630752588,
          12.228200288113076,
          12.226744774153806,
          12.22601701717417,
          12.2245615032149,
          12.22189306095624,
          12.221650475296363,
          12.221407889636483,
          12.221165303976605,
          12.220922718316727,
          12.218011690398187,
          12.217526519078431,
          12.209036020982692,
          12.206852750043787,
          12.199090008927682,
          12.198362251948048,
          12.197634494968412,
          12.197391909308534,
          12.166583530503994,
          12.165855773524358,
          12.146934092053852,
          12.146691506393974,
          12.14450823545507,
          12.143537892815557,
          12.1374732513186,
          12.137230665658722,
          12.136988079998844,
          12.13601773735933,
          12.13334929510067,
          12.132621538121034,
          12.132378952461156,
          12.132136366801278,
          12.1318937811414,
          12.131651195481522,
          12.131408609821644,
          12.120734840787,
          12.120492255127122,
          12.118066398528338,
          12.112972099670895,
          12.078767521628057,
          12.058632911858162,
          12.058147740538404,
          12.048686899803151,
          12.048444314143273,
          12.044320357925344,
          12.044077772265464,
          12.043835186605586,
          12.042864843966074,
          12.042622258306196,
          12.03752795944875,
          12.037285373788873,
          12.037042788128995,
          12.036557616809239,
          12.035829859829603,
          12.027096776073986,
          12.024428333815324,
          12.024185748155446,
          12.023215405515932,
          12.022972819856054,
          11.990951512752122,
          11.98973858445273,
          11.989495998792853,
          11.989010827473097,
          11.981248086356992,
          11.96450967582539,
          11.964024504505634,
          11.963781918845756,
          11.963539333185878,
          11.963296747526,
          11.96305416186612,
          11.962811576206242,
          11.962568990546364,
          11.962326404886486,
          11.962083819226608,
          11.96159864790685,
          11.960628305267338,
          11.959415376967947,
          11.959172791308069,
          11.95893020564819,
          11.958687619988313,
          11.956261763389529,
          11.955776592069773,
          11.942676966436347,
          11.937582667578901,
          11.936854910599267,
          11.93661232493939,
          11.936127153619632,
          11.935884567959754,
          11.935399396639998,
          11.934914225320242,
          11.902407746896552,
          11.901922575576796,
          11.901679989916918,
          11.89707086237923,
          11.882758308446412,
          11.882273137126655,
          11.882030551466777,
          11.871356782432132,
          11.869658682812984,
          11.868445754513594,
          11.868203168853716,
          11.867960583193836,
          11.867717997533958,
          11.86747541187408,
          11.864079212635785,
          11.863351455656149,
          11.863108869996271,
          11.856801642839436,
          11.854618371900532,
          11.852920272281384,
          11.84903890172333,
          11.848553730403575,
          11.841761331926984,
          11.84079098928747,
          11.813621395381103,
          11.813136224061347,
          11.81289363840147,
          11.81265105274159,
          11.812408467081712,
          11.8114381244422,
          11.790333172032788,
          11.787907315434007,
          11.787664729774129,
          11.78742214411425,
          11.78717955845437,
          11.786694387134615,
          11.785238873175345,
          11.784996287515467,
          11.76486167774557,
          11.764619092085692,
          11.764376506425814,
          11.763648749446178,
          11.758797036248612,
          11.723136944246507,
          11.72143884462736,
          11.699120963918558,
          11.69887837825868,
          11.697908035619166,
          11.697665449959288,
          11.696937692979652,
          11.695239593360505,
          11.678501182828905,
          11.678258597169027,
          11.678016011509149,
          11.675104983590609,
          11.67486239793073,
          11.662490529276939,
          11.63556352103045,
          11.635320935370572,
          11.634835764050814,
          11.634593178390936,
          11.633622835751423,
          11.629498879533493,
          11.629256293873615,
          11.611062369382743,
          11.609364269763596,
          11.608636512783962,
          11.606453241845056,
          11.595779472810413,
          11.592140687912238,
          11.590927759612848,
          11.590200002633212,
          11.589714831313456,
          11.588501903014064,
          11.585833460755403,
          11.549203026113783,
          11.548232683474271,
          11.547504926494636,
          11.531251687282792,
          11.510874491853016,
          11.510146734873382,
          11.500928479798008,
          11.500200722818372,
          11.493893495661537,
          11.49340832434178,
          11.492437981702267,
          11.491467639062755,
          11.490982467742997,
          11.459688917618701,
          11.459446331958823,
          11.459203746298943,
          11.458475989319309,
          11.458233403659431,
          11.457748232339673,
          11.434217423331482,
          11.432519323712334,
          11.432276738052456,
          11.432034152392577,
          11.426454682215377,
          11.4262120965555,
          11.42451399693635,
          11.424271411276472,
          11.423786239956716,
          11.414082813561585,
          11.413840227901707,
          11.413597642241829,
          11.412869885262193,
          11.40923110036402,
          11.408988514704141,
          11.373085837042156,
          11.372843251382278,
          11.3726006657224,
          11.372115494402644,
          11.37114515176313,
          11.345673657475912,
          11.345431071816034,
          11.343732972196886,
          11.343490386537006,
          11.343247800877128,
          11.342762629557372,
          11.342277458237616,
          11.33597023108078,
          11.325781633365892,
          11.325296462046136,
          11.320929920168327,
          11.285027242506343,
          11.284784656846464,
          11.255674377661071,
          11.255431792001193,
          11.253733692382045,
          11.25300593540241,
          11.245728365606062,
          11.245485779946184,
          11.245243194286305,
          11.245000608626427,
          11.235539767891174,
          11.234326839591782,
          11.23335649695227,
          11.231173226013366,
          11.230930640353487,
          11.195027962691503,
          11.194300205711867,
          11.1671306118055,
          11.164947340866597,
          11.16446216954684,
          11.163734412567205,
          11.154273571831952,
          11.154030986172074,
          11.153545814852318,
          11.15306064353256,
          11.147238587695483,
          11.146996002035605,
          11.146753416375725,
          11.14626824505597,
          11.146025659396091,
          11.142386874497918,
          11.10527126853654,
          11.105028682876663,
          11.104786097216785,
          11.104300925897027,
          11.10381575457727,
          11.079072017269688,
          11.07882943160981,
          11.077373917650538,
          11.07713133199066,
          11.076646160670904,
          11.076403575011026,
          11.075433232371513,
          11.058452236180035,
          11.058209650520155,
          11.05748189354052,
          11.05481345128186,
          11.054570865621981,
          11.054328279962103,
          11.01672750268097,
          11.016484917021092,
          11.016242331361214,
          10.993439279332657,
          10.9929541080129,
          10.99004308009436,
          10.970636227304098,
          10.970151055984342,
          10.969180713344828,
          10.966512271086168,
          10.966269685426289,
          10.96602709976641,
          10.928668908145157,
          10.928426322485278,
          10.9281837368254,
          10.92697080852601,
          10.900771557259155,
          10.880151776169502,
          10.879666604849746,
          10.879181433529988,
          10.811742620083828,
          10.809559349144925,
          10.80858900650541,
          10.792335767293567,
          10.791608010313931,
          10.78772663975588,
          10.787484054096002,
          10.750368448134624,
          10.750125862474746,
          10.749398105495112,
          10.723684025548014,
          10.721743340268988,
          10.721015583289354,
          10.72004524064984,
          10.719317483670206,
          10.714465770472641,
          10.714223184812761,
          10.713980599152883,
          10.713738013493005,
          10.713495427833127,
          10.713010256513371,
          10.712525085193613,
          10.704034587097874,
          10.703792001437996,
          10.70306424445836,
          10.700153216539823,
          10.661824682279054,
          10.660854339639542,
          10.635382845352323,
          10.633684745733175,
          10.632714403093662,
          10.631986646114028,
          10.619129606140477,
          10.6188870204806,
          10.618159263500965,
          10.615733406902182,
          10.615005649922548,
          10.613550135963278,
          10.611124279364494,
          10.573766087743241,
          10.572310573783971,
          10.571825402464215,
          10.547566836476387,
          10.545383565537483,
          10.545140979877605,
          10.543685465918335,
          10.534224625183082,
          10.533982039523204,
          10.533739453863324,
          10.533496868203446,
          10.533254282543568,
          10.53301169688369,
          10.532769111223812,
          10.527674812366369,
          10.52743222670649,
          10.526947055386733,
          10.5262192984071,
          10.525734127087341,
          10.52330827048856,
          10.523065684828682,
          10.522580513508926,
          10.482311293969131,
          10.482068708309253,
          10.48109836566974,
          10.480128023030227,
          10.462661855518991,
          10.456354628362156,
          10.456112042702278,
          10.455869457042398,
          10.45562687138252,
          10.455141700062764,
          10.434521918973111,
          10.432581233694085,
          10.432338648034206,
          10.431125719734816,
          10.430883134074938,
          10.430640548415058,
          10.397163727351856,
          10.368781205146098,
          10.36853861948622,
          10.368053448166464,
          10.36708310552695,
          10.361746221009628,
          10.357864850451575,
          10.357622264791699,
          10.35737967913182,
          10.357137093471941,
          10.356894507812063,
          10.356166750832427,
          10.35592416517255,
          10.353983479893524,
          10.351072451974984,
          10.350829866315106,
          10.349374352355836,
          10.346705910097176,
          10.346463324437297,
          10.306436690557382,
          10.274657969113328,
          10.273687626473814,
          10.272474698174424,
          10.268350741956493,
          10.267380399316979,
          10.262771271779291,
          10.262528686119415,
          10.25888990122124,
          10.258647315561362,
          8.81112152409408,
          8.811364109753958,
          8.815002894652133,
          8.81524548031201,
          8.819854607849697,
          8.820824950489211,
          8.824948906707142,
          8.826161835006532,
          8.827132177646046,
          8.8589108990901,
          8.898937532970015,
          8.899180118629895,
          8.901848560888554,
          8.903304074847824,
          8.903546660507702,
          8.906457688426242,
          8.908398373705268,
          8.908640959365146,
          8.909368716344781,
          8.90961130200466,
          8.909853887664537,
          8.910096473324417,
          8.910339058984293,
          8.914220429542347,
          8.919557314059668,
          8.920527656699182,
          8.921012828018938,
          8.921255413678816,
          8.949637935884574,
          8.983114756947776,
          8.983357342607656,
          8.983599928267534,
          8.984812856566924,
          8.985055442226804,
          8.98699612750583,
          9.007615908595483,
          9.008101079915239,
          9.008343665575117,
          9.008586251234997,
          9.008828836894875,
          9.01513606405171,
          9.032602231562946,
          9.033572574202458,
          9.034542916841971,
          9.03478550250185,
          9.075054722041644,
          9.0755398933614,
          9.075782479021278,
          9.07820833562006,
          9.078693506939818,
          9.079421263919452,
          9.079906435239208,
          9.080149020899087,
          9.08524331975653,
          9.085485905416409,
          9.085728491076287,
          9.085971076736165,
          9.086213662396043,
          9.086456248055923,
          9.0866988337158,
          9.096159674451053,
          9.097615188410323,
          9.097857774070201,
          9.100041045009105,
          9.124299610996934,
          9.12478478231669,
          9.12624029627596,
          9.163598487897213,
          9.166024344495996,
          9.167479858455266,
          9.1682076154349,
          9.170633472033684,
          9.171361229013318,
          9.171603814673196,
          9.184460854646746,
          9.18518861162638,
          9.186158954265894,
          9.187857053885041,
          9.21332854817226,
          9.214298890811772,
          9.252627425072541,
          9.255538452991079,
          9.256266209970715,
          9.256508795630593,
          9.264999293726332,
          9.26548446504609,
          9.265969636365845,
          9.266212222025723,
          9.266454807685601,
          9.26669739334548,
          9.26693997900536,
          9.271791692202925,
          9.272519449182559,
          9.273489791822072,
          9.274217548801706,
          9.276158234080732,
          9.30187231402783,
          9.302600071007465,
          9.302842656667343,
          9.33995826262872,
          9.340200848288598,
          9.34408221884665,
          9.344809975826285,
          9.36106321503813,
          9.362033557677643,
          9.364216828616547,
          9.431655642062706,
          9.432140813382464,
          9.43262598470222,
          9.453245765791873,
          9.479445017058728,
          9.480657945358118,
          9.480900531017996,
          9.481143116677876,
          9.518501308299129,
          9.518743893959007,
          9.518986479618887,
          9.521654921877547,
          9.52262526451706,
          9.523110435836816,
          9.542517288627078,
          9.545428316545618,
          9.545913487865375,
          9.568716539893932,
          9.56895912555381,
          9.569201711213688,
          9.606802488494822,
          9.6070450741547,
          9.607287659814578,
          9.60995610207324,
          9.610683859052873,
          9.610926444712753,
          9.627907440904231,
          9.628877783543745,
          9.629120369203623,
          9.629605540523379,
          9.629848126183257,
          9.631303640142528,
          9.631546225802406,
          9.65628996310999,
          9.656775134429745,
          9.657260305749503,
          9.657502891409381,
          9.657745477069259,
          9.694861083030636,
          9.69849986792881,
          9.698742453588688,
          9.699227624908444,
          9.699470210568323,
          9.699712796228201,
          9.705534852065279,
          9.706020023385037,
          9.706505194704793,
          9.70674778036467,
          9.716208621099923,
          9.716936378079557,
          9.717421549399315,
          9.719604820338219,
          9.746774414244586,
          9.747502171224221,
          9.783404848886205,
          9.783647434546085,
          9.785830705484988,
          9.7868010481245,
          9.788013976423892,
          9.797474817159145,
          9.797717402819023,
          9.797959988478903,
          9.79820257413878,
          9.805480143935128,
          9.806207900914764,
          9.807906000533912,
          9.80814858619379,
          9.837258865379182,
          9.837501451039062,
          9.873404128701045,
          9.877770670578855,
          9.87825584189861,
          9.8884444396135,
          9.894751666770334,
          9.89523683809009,
          9.895722009409846,
          9.895964595069724,
          9.896207180729604,
          9.897905280348752,
          9.89814786600863,
          9.923619360295849,
          9.924589702935362,
          9.925074874255118,
          9.925317459914996,
          9.925560045574874,
          9.96146272323686,
          9.961705308896738,
          9.965344093794911,
          9.966071850774547,
          9.966314436434425,
          9.966557022094303,
          9.976260448489434,
          9.97674561980919,
          9.976988205469068,
          9.978686305088218,
          9.978928890748096,
          9.984508360925295,
          9.984750946585175,
          9.984993532245053,
          9.9866916318642,
          10.010222440872392,
          10.01070761219215,
          10.010950197852027,
          10.011677954831661,
          10.011920540491541,
          10.01216312615142,
          10.043456676275715,
          10.043941847595473,
          10.044912190234985,
          10.045882532874499,
          10.046367704194255,
          10.05267493135109,
          10.053402688330726,
          10.0626209434061,
          10.063348700385735,
          10.08372589581551,
          10.099979135027354,
          10.10070689200699,
          10.101677234646502,
          10.138307669288121,
          10.140976111546783,
          10.142189039846174,
          10.14267421116593,
          10.143401968145566,
          10.144614896444956,
          10.148253681343132,
          10.158927450377774,
          10.16111072131668,
          10.161838478296314,
          10.163536577915462,
          10.181730502406333,
          10.181973088066211,
          10.186097044284141,
          10.187067386923655,
          10.187309972583533,
          10.18779514390329,
          10.188037729563169,
          10.214964737809657,
          10.227336606463448,
          10.227579192123327,
          10.230490220041867,
          10.230732805701745,
          10.230975391361623,
          10.247713801893223,
          10.24941190151237,
          10.250139658492007,
          10.250382244151885,
          10.251352586791398,
          10.251595172451276,
          10.273913053160078,
          10.275611152779225,
          10.31127124478133,
          10.316122957978896,
          10.316850714958532,
          10.31709330061841,
          10.317335886278288,
          10.337470496048185,
          10.337713081708063,
          10.339168595667333,
          10.33965376698709,
          10.339896352646969,
          10.340138938306847,
          10.340381523966725,
          10.342807380565507,
          10.363912332974918,
          10.36488267561443,
          10.365125261274308,
          10.365367846934188,
          10.365610432594066,
          10.366095603913822,
          10.393265197820188,
          10.394235540459702,
          10.401027938936293,
          10.40151311025605,
          10.405394480814103,
          10.40709258043325,
          10.409275851372154,
          10.41558307852899,
          10.415825664188867,
          10.416553421168503,
          10.419949620406799,
          10.420192206066677,
          10.420434791726555,
          10.420677377386435,
          10.420919963046313,
          10.422132891345703,
          10.42383099096485,
          10.434504759999495,
          10.434747345659373,
          10.43523251697913,
          10.449545070911949,
          10.454154198449636,
          10.454396784109514,
          10.45488195542927,
          10.48738843385296,
          10.487873605172716,
          10.488358776492472,
          10.48860136215235,
          10.489086533472108,
          10.489329119131986,
          10.49005687611162,
          10.495151174969065,
          10.508250800602491,
          10.508735971922247,
          10.51116182852103,
          10.511404414180909,
          10.511646999840787,
          10.511889585500665,
          10.513102513800057,
          10.514072856439569,
          10.514558027759326,
          10.514800613419204,
          10.515043199079082,
          10.51528578473896,
          10.515528370398838,
          10.515770956058718,
          10.516013541718596,
          10.516256127378474,
          10.516498713038352,
          10.516983884358108,
          10.53372229488971,
          10.541485036005815,
          10.541970207325571,
          10.542212792985449,
          10.54342572128484,
          10.575447028388773,
          10.57568961404865,
          10.576659956688164,
          10.576902542348043,
          10.579570984606704,
          10.588304068362321,
          10.589031825341957,
          10.589516996661713,
          10.58975958232159,
          10.590002167981469,
          10.595096466838914,
          10.595339052498792,
          10.596309395138304,
          10.596551980798182,
          10.596794566458062,
          10.600918522675991,
          10.60116110833587,
          10.610621949071122,
          10.61110712039088,
          10.631241730160776,
          10.665446308203613,
          10.670540607061056,
          10.67296646365984,
          10.673209049319718,
          10.683882818354363,
          10.68412540401424,
          10.684367989674119,
          10.684610575333997,
          10.684853160993875,
          10.685095746653753,
          10.685823503633388,
          10.688491945892048,
          10.689462288531562,
          10.68970487419144,
          10.689947459851318,
          10.696012101348275,
          10.696982443987789,
          10.699165714926693,
          10.69940830058657,
          10.718329982057076,
          10.719057739036712,
          10.749866117841252,
          10.75010870350113,
          10.750836460480766,
          10.7515642174604,
          10.759326958576505,
          10.76151022951541,
          10.77000072761115,
          10.770485898930906,
          10.773396926849445,
          10.773639512509323,
          10.773882098169201,
          10.774124683829081,
          10.774367269488959,
          10.777035711747619,
          10.778491225706889,
          10.779218982686524,
          10.780674496645794,
          10.781644839285306,
          10.782130010605064,
          10.783828110224212,
          10.78552620984336,
          10.785768795503238,
          10.786011381163116,
          10.786253966822994,
          10.787224309462507,
          10.795472221898368,
          10.804447891313865,
          10.805175648293499,
          10.805418233953377,
          10.806145990933013,
          10.806873747912647,
          10.814636489028752,
          10.826523186362788,
          10.842291254254876,
          10.846657796132684,
          10.847870724432076,
          10.848113310091954,
          10.84884106707159,
          10.849083652731467,
          10.849326238391345,
          10.849568824051223,
          10.859757421766112,
          10.86145552138526,
          10.861698107045138,
          10.861940692705016,
          10.862183278364894,
          10.862425864024772,
          10.86266844968465,
          10.86291103534453,
          10.863153621004408,
          10.863396206664286,
          10.867520162882215,
          10.88377340209406,
          10.8866844300126,
          10.887412186992234,
          10.887654772652112,
          10.88789735831199,
          10.88935287227126,
          10.889595457931138,
          10.889838043591018,
          10.890080629250896,
          10.890323214910774,
          10.98080766604537,
          11.02034912860553,
          11.020591714265407
         ]
        },
        {
         "marker": {
          "color": "royalblue"
         },
         "mode": "markers",
         "name": "Day Data",
         "type": "scatter",
         "x": [
          "1995-09-24T00:00:00",
          "1995-09-25T00:00:00",
          "1995-09-26T00:00:00",
          "1995-09-28T00:00:00",
          "1996-06-11T00:00:00",
          "1996-10-05T00:00:00",
          "1997-02-21T00:00:00",
          "1997-02-24T00:00:00",
          "1997-06-15T00:00:00",
          "1997-07-12T00:00:00",
          "1997-09-04T00:00:00",
          "1998-01-19T00:00:00",
          "1998-02-21T00:00:00",
          "1998-02-23T00:00:00",
          "1998-02-27T00:00:00",
          "1998-03-03T00:00:00",
          "1998-04-08T00:00:00",
          "1998-06-08T00:00:00",
          "1998-06-13T00:00:00",
          "1998-06-17T00:00:00",
          "1998-06-18T00:00:00",
          "1998-07-03T00:00:00",
          "1998-07-18T00:00:00",
          "1998-08-28T00:00:00",
          "1998-08-29T00:00:00",
          "1998-08-30T00:00:00",
          "1998-09-01T00:00:00",
          "1998-10-08T00:00:00",
          "1999-02-18T00:00:00",
          "1999-02-20T00:00:00",
          "1999-02-21T00:00:00",
          "1999-05-25T00:00:00",
          "1999-08-29T00:00:00",
          "1999-08-30T00:00:00",
          "1999-09-02T00:00:00",
          "1999-09-04T00:00:00",
          "1999-09-05T00:00:00",
          "1999-09-07T00:00:00",
          "1999-10-13T00:00:00",
          "2000-05-08T00:00:00",
          "2000-05-09T00:00:00",
          "2000-05-10T00:00:00",
          "2000-06-09T00:00:00",
          "2000-06-19T00:00:00",
          "2000-06-20T00:00:00",
          "2000-07-04T00:00:00",
          "2000-07-05T00:00:00",
          "2000-08-04T00:00:00",
          "2000-08-05T00:00:00",
          "2000-08-06T00:00:00",
          "2000-09-07T00:00:00",
          "2000-09-08T00:00:00",
          "2000-09-10T00:00:00",
          "2000-09-11T00:00:00",
          "2000-09-14T00:00:00",
          "2000-09-26T00:00:00",
          "2000-09-27T00:00:00",
          "2000-09-28T00:00:00",
          "2000-09-29T00:00:00",
          "2000-10-01T00:00:00",
          "2001-02-09T00:00:00",
          "2001-02-12T00:00:00",
          "2001-02-16T00:00:00",
          "2001-06-02T00:00:00",
          "2001-06-03T00:00:00",
          "2001-06-05T00:00:00",
          "2001-06-09T00:00:00",
          "2001-06-10T00:00:00",
          "2001-06-11T00:00:00",
          "2001-06-12T00:00:00",
          "2001-08-25T00:00:00",
          "2001-09-22T00:00:00",
          "2001-09-27T00:00:00",
          "2001-09-28T00:00:00",
          "2001-10-03T00:00:00",
          "2002-02-07T00:00:00",
          "2002-02-15T00:00:00",
          "2002-02-16T00:00:00",
          "2002-07-23T00:00:00",
          "2002-08-28T00:00:00",
          "2002-08-29T00:00:00",
          "2002-08-30T00:00:00",
          "2002-09-06T00:00:00",
          "2002-09-08T00:00:00",
          "2002-10-23T00:00:00",
          "2003-06-08T00:00:00",
          "2003-09-07T00:00:00",
          "2003-09-27T00:00:00",
          "2003-09-28T00:00:00",
          "2003-10-26T00:00:00",
          "2003-10-27T00:00:00",
          "2004-02-20T00:00:00",
          "2004-02-21T00:00:00",
          "2004-02-22T00:00:00",
          "2004-02-24T00:00:00",
          "2004-06-06T00:00:00",
          "2004-08-21T00:00:00",
          "2004-08-26T00:00:00",
          "2004-09-05T00:00:00",
          "2005-02-13T00:00:00",
          "2005-02-14T00:00:00",
          "2005-02-18T00:00:00",
          "2005-02-22T00:00:00",
          "2005-03-12T00:00:00",
          "2005-05-28T00:00:00",
          "2005-06-03T00:00:00",
          "2005-08-19T00:00:00",
          "2005-08-20T00:00:00",
          "2005-08-22T00:00:00",
          "2005-08-27T00:00:00",
          "2005-09-09T00:00:00",
          "2006-02-09T00:00:00",
          "2006-04-21T00:00:00",
          "2006-09-23T00:00:00",
          "2006-09-26T00:00:00",
          "2006-10-01T00:00:00",
          "2007-02-10T00:00:00",
          "2007-02-16T00:00:00",
          "2007-02-18T00:00:00",
          "2007-06-07T00:00:00",
          "2007-06-21T00:00:00",
          "2008-08-16T00:00:00",
          "2008-08-19T00:00:00",
          "2008-08-21T00:00:00",
          "2008-09-05T00:00:00",
          "2008-09-06T00:00:00",
          "2008-10-17T00:00:00",
          "2009-02-02T00:00:00",
          "2009-02-05T00:00:00",
          "2009-06-09T00:00:00",
          "2009-06-14T00:00:00",
          "2009-08-23T00:00:00",
          "2009-08-26T00:00:00",
          "2009-08-31T00:00:00",
          "2010-02-06T00:00:00",
          "2010-06-08T00:00:00",
          "2010-06-10T00:00:00",
          "2010-09-08T00:00:00",
          "2010-09-09T00:00:00",
          "2011-05-30T00:00:00",
          "2011-08-19T00:00:00",
          "2011-08-20T00:00:00",
          "2012-02-15T00:00:00",
          "2012-02-16T00:00:00",
          "2012-05-18T00:00:00",
          "2012-06-03T00:00:00",
          "2012-08-18T00:00:00",
          "2013-02-13T00:00:00",
          "2013-06-10T00:00:00",
          "2013-06-14T00:00:00",
          "2013-06-18T00:00:00",
          "2013-08-23T00:00:00",
          "2013-08-25T00:00:00",
          "2013-09-11T00:00:00",
          "2014-02-12T00:00:00",
          "2014-02-22T00:00:00",
          "2014-08-25T00:00:00",
          "2014-08-26T00:00:00",
          "2014-09-10T00:00:00",
          "2014-09-11T00:00:00",
          "2015-02-15T00:00:00",
          "2015-02-19T00:00:00",
          "2015-06-12T00:00:00",
          "2015-07-13T00:00:00",
          "2015-07-15T00:00:00",
          "2015-08-24T00:00:00",
          "2015-08-28T00:00:00",
          "2015-10-19T00:00:00",
          "2016-02-10T00:00:00",
          "2016-02-18T00:00:00",
          "2016-06-09T00:00:00",
          "2016-06-10T00:00:00",
          "2016-08-22T00:00:00",
          "2016-08-26T00:00:00",
          "2017-02-12T00:00:00",
          "2017-02-16T00:00:00",
          "2017-05-30T00:00:00",
          "2017-06-09T00:00:00",
          "2017-06-10T00:00:00",
          "2017-07-22T00:00:00",
          "2017-07-23T00:00:00",
          "2017-07-24T00:00:00",
          "2017-07-25T00:00:00",
          "2017-07-26T00:00:00",
          "2017-07-27T00:00:00",
          "2017-07-28T00:00:00",
          "2017-09-07T00:00:00",
          "2018-03-03T00:00:00",
          "2018-08-28T00:00:00",
          "2018-09-16T00:00:00",
          "2018-09-18T00:00:00",
          "2018-09-20T00:00:00",
          "2019-02-08T00:00:00",
          "2019-02-10T00:00:00",
          "2019-02-12T00:00:00",
          "2019-07-20T00:00:00",
          "2019-07-21T00:00:00",
          "2019-07-22T00:00:00",
          "2019-07-23T00:00:00",
          "2019-07-24T00:00:00",
          "2019-07-27T00:00:00",
          "2019-08-19T00:00:00",
          "2019-08-20T00:00:00",
          "2020-02-10T00:00:00",
          "2020-02-11T00:00:00",
          "2020-02-12T00:00:00",
          "2020-02-14T00:00:00",
          "2020-02-15T00:00:00",
          "2020-08-17T00:00:00",
          "2020-08-18T00:00:00",
          "2020-08-20T00:00:00"
         ],
         "y": [
          17.425684,
          15.733402000000002,
          5.903126,
          4.078952,
          9.188519999999997,
          11.379199999999999,
          2.8430866666666663,
          6.166544000000001,
          8.214580000000002,
          10.469499999999996,
          22.427618000000002,
          2.9162200000000005,
          2.724724,
          6.394591999999999,
          10.442839999999999,
          8.228772,
          7.504964000000001,
          14.850876,
          20.069128,
          17.334006,
          19.025128,
          18.023226,
          16.366196,
          14.393116000000001,
          10.83702,
          7.141216,
          8.701976,
          19.940937,
          10.937248,
          4.3099359999999995,
          8.07041,
          12.026934000000004,
          4.777912,
          26.528328000000002,
          11.145840000000002,
          5.29504,
          7.451132000000001,
          16.390264,
          12.327728000000002,
          20.120168,
          34.168764,
          29.945054,
          16.079108,
          14.831135999999999,
          14.868716,
          11.648093066666666,
          15.407938666666666,
          7.245644,
          9.918092000000001,
          34.092264,
          5.406263999999999,
          29.352432,
          8.248164000000001,
          9.935784,
          7.968064000000002,
          9.564498,
          13.842414999999999,
          9.937294000000001,
          10.25956,
          8.921092,
          3.4366480000000004,
          7.627116,
          13.35804,
          18.3315,
          33.256870000000006,
          26.436032000000004,
          31.138452000000008,
          22.953940000000003,
          23.6519605,
          33.901416000000005,
          9.231852,
          20.986520000000002,
          6.2142800000000005,
          12.2879,
          2.0342960000000003,
          1.7196599999999997,
          17.015314000000004,
          7.450659999999999,
          13.2916,
          8.615091999999999,
          16.360152,
          26.954051999999997,
          14.818592000000002,
          17.618268,
          5.180768,
          23.838772000000006,
          27.700968000000003,
          13.578042,
          5.621664,
          5.854744,
          16.839516000000003,
          5.667267999999999,
          12.406780000000001,
          16.271604,
          5.545132000000001,
          9.725824000000001,
          7.843792,
          10.082,
          8.600224000000003,
          11.476751999999998,
          5.627008,
          18.10564,
          7.772691999999999,
          8.27766,
          8.576712,
          12.930955999999998,
          11.999952,
          22.552028000000004,
          12.275308000000003,
          14.871532,
          2.439196,
          7.605124,
          7.553700000000001,
          4.943296,
          5.0785160000000005,
          4.676896,
          4.428636,
          8.674871999999999,
          4.089356000000001,
          23.811128,
          19.388201000000002,
          35.080696,
          32.207640000000005,
          20.593720000000005,
          6.084928000000001,
          11.644352,
          2.6440319999999997,
          18.128995999999997,
          5.91377,
          24.407764,
          15.818324000000002,
          22.682332000000002,
          12.283148,
          14.667383999999998,
          5.153792000000001,
          16.403015999999997,
          27.04038,
          32.29084400000001,
          15.632968000000002,
          6.357728000000001,
          6.17774,
          4.59178,
          16.287272,
          5.438844,
          16.361820000000005,
          11.289439999999999,
          10.851455999999999,
          11.467464000000001,
          5.836996000000001,
          16.286708000000004,
          14.858072000000002,
          9.274564000000002,
          18.577276,
          7.462696000000001,
          6.544003999999998,
          5.305544,
          12.532376000000001,
          8.707148000000002,
          7.608912000000003,
          9.095327999999999,
          6.306652000000001,
          8.928432,
          12.253643999999998,
          8.834916000000002,
          21.949640000000002,
          12.844111999999999,
          19.892788000000003,
          9.286756,
          4.60374,
          17.870344,
          25.752980000000004,
          14.897704000000003,
          19.129084000000002,
          34.13082000000001,
          2.6583120000000005,
          2.838952,
          25.128548000000002,
          8.529768000000002,
          12.427056,
          8.167770000000003,
          7.1329280000000015,
          9.875814,
          10.459792000000002,
          9.889914,
          18.35104,
          17.9856,
          4.334200000000001,
          6.847832,
          7.117943999999999,
          8.064540000000001,
          15.616516000000003,
          11.872928000000002,
          4.438512,
          2.4227040000000004,
          2.8246480000000003,
          8.00375,
          12.25514,
          7.696544000000002,
          22.504084,
          10.947956000000003,
          17.833888,
          6.246476,
          4.73698,
          5.789000000000001,
          3.4571040000000006,
          3.20472,
          3.3774040000000003,
          3.0646159999999996,
          15.392288,
          17.269468,
          19.936768
         ]
        },
        {
         "line": {
          "color": "royalblue"
         },
         "mode": "lines",
         "name": "Night Trend Line",
         "type": "scatter",
         "x": [
          "1995-09-24T00:00:00",
          "1995-09-25T00:00:00",
          "1995-09-26T00:00:00",
          "1995-09-28T00:00:00",
          "1996-06-11T00:00:00",
          "1996-10-05T00:00:00",
          "1997-02-21T00:00:00",
          "1997-02-24T00:00:00",
          "1997-06-15T00:00:00",
          "1997-07-12T00:00:00",
          "1997-09-04T00:00:00",
          "1998-01-19T00:00:00",
          "1998-02-21T00:00:00",
          "1998-02-23T00:00:00",
          "1998-02-27T00:00:00",
          "1998-03-03T00:00:00",
          "1998-04-08T00:00:00",
          "1998-06-08T00:00:00",
          "1998-06-13T00:00:00",
          "1998-06-17T00:00:00",
          "1998-06-18T00:00:00",
          "1998-07-03T00:00:00",
          "1998-07-18T00:00:00",
          "1998-08-28T00:00:00",
          "1998-08-29T00:00:00",
          "1998-08-30T00:00:00",
          "1998-09-01T00:00:00",
          "1998-10-08T00:00:00",
          "1999-02-18T00:00:00",
          "1999-02-20T00:00:00",
          "1999-02-21T00:00:00",
          "1999-05-25T00:00:00",
          "1999-08-29T00:00:00",
          "1999-08-30T00:00:00",
          "1999-09-02T00:00:00",
          "1999-09-04T00:00:00",
          "1999-09-05T00:00:00",
          "1999-09-07T00:00:00",
          "1999-10-13T00:00:00",
          "2000-05-08T00:00:00",
          "2000-05-09T00:00:00",
          "2000-05-10T00:00:00",
          "2000-06-09T00:00:00",
          "2000-06-19T00:00:00",
          "2000-06-20T00:00:00",
          "2000-07-04T00:00:00",
          "2000-07-05T00:00:00",
          "2000-08-04T00:00:00",
          "2000-08-05T00:00:00",
          "2000-08-06T00:00:00",
          "2000-09-07T00:00:00",
          "2000-09-08T00:00:00",
          "2000-09-10T00:00:00",
          "2000-09-11T00:00:00",
          "2000-09-14T00:00:00",
          "2000-09-26T00:00:00",
          "2000-09-27T00:00:00",
          "2000-09-28T00:00:00",
          "2000-09-29T00:00:00",
          "2000-10-01T00:00:00",
          "2001-02-09T00:00:00",
          "2001-02-12T00:00:00",
          "2001-02-16T00:00:00",
          "2001-06-02T00:00:00",
          "2001-06-03T00:00:00",
          "2001-06-05T00:00:00",
          "2001-06-09T00:00:00",
          "2001-06-10T00:00:00",
          "2001-06-11T00:00:00",
          "2001-06-12T00:00:00",
          "2001-08-25T00:00:00",
          "2001-09-22T00:00:00",
          "2001-09-27T00:00:00",
          "2001-09-28T00:00:00",
          "2001-10-03T00:00:00",
          "2002-02-07T00:00:00",
          "2002-02-15T00:00:00",
          "2002-02-16T00:00:00",
          "2002-07-23T00:00:00",
          "2002-08-28T00:00:00",
          "2002-08-29T00:00:00",
          "2002-08-30T00:00:00",
          "2002-09-06T00:00:00",
          "2002-09-08T00:00:00",
          "2002-10-23T00:00:00",
          "2003-06-08T00:00:00",
          "2003-09-07T00:00:00",
          "2003-09-27T00:00:00",
          "2003-09-28T00:00:00",
          "2003-10-26T00:00:00",
          "2003-10-27T00:00:00",
          "2004-02-20T00:00:00",
          "2004-02-21T00:00:00",
          "2004-02-22T00:00:00",
          "2004-02-24T00:00:00",
          "2004-06-06T00:00:00",
          "2004-08-21T00:00:00",
          "2004-08-26T00:00:00",
          "2004-09-05T00:00:00",
          "2005-02-13T00:00:00",
          "2005-02-14T00:00:00",
          "2005-02-18T00:00:00",
          "2005-02-22T00:00:00",
          "2005-03-12T00:00:00",
          "2005-05-28T00:00:00",
          "2005-06-03T00:00:00",
          "2005-08-19T00:00:00",
          "2005-08-20T00:00:00",
          "2005-08-22T00:00:00",
          "2005-08-27T00:00:00",
          "2005-09-09T00:00:00",
          "2006-02-09T00:00:00",
          "2006-04-21T00:00:00",
          "2006-09-23T00:00:00",
          "2006-09-26T00:00:00",
          "2006-10-01T00:00:00",
          "2007-02-10T00:00:00",
          "2007-02-16T00:00:00",
          "2007-02-18T00:00:00",
          "2007-06-07T00:00:00",
          "2007-06-21T00:00:00",
          "2008-08-16T00:00:00",
          "2008-08-19T00:00:00",
          "2008-08-21T00:00:00",
          "2008-09-05T00:00:00",
          "2008-09-06T00:00:00",
          "2008-10-17T00:00:00",
          "2009-02-02T00:00:00",
          "2009-02-05T00:00:00",
          "2009-06-09T00:00:00",
          "2009-06-14T00:00:00",
          "2009-08-23T00:00:00",
          "2009-08-26T00:00:00",
          "2009-08-31T00:00:00",
          "2010-02-06T00:00:00",
          "2010-06-08T00:00:00",
          "2010-06-10T00:00:00",
          "2010-09-08T00:00:00",
          "2010-09-09T00:00:00",
          "2011-05-30T00:00:00",
          "2011-08-19T00:00:00",
          "2011-08-20T00:00:00",
          "2012-02-15T00:00:00",
          "2012-02-16T00:00:00",
          "2012-05-18T00:00:00",
          "2012-06-03T00:00:00",
          "2012-08-18T00:00:00",
          "2013-02-13T00:00:00",
          "2013-06-10T00:00:00",
          "2013-06-14T00:00:00",
          "2013-06-18T00:00:00",
          "2013-08-23T00:00:00",
          "2013-08-25T00:00:00",
          "2013-09-11T00:00:00",
          "2014-02-12T00:00:00",
          "2014-02-22T00:00:00",
          "2014-08-25T00:00:00",
          "2014-08-26T00:00:00",
          "2014-09-10T00:00:00",
          "2014-09-11T00:00:00",
          "2015-02-15T00:00:00",
          "2015-02-19T00:00:00",
          "2015-06-12T00:00:00",
          "2015-07-13T00:00:00",
          "2015-07-15T00:00:00",
          "2015-08-24T00:00:00",
          "2015-08-28T00:00:00",
          "2015-10-19T00:00:00",
          "2016-02-10T00:00:00",
          "2016-02-18T00:00:00",
          "2016-06-09T00:00:00",
          "2016-06-10T00:00:00",
          "2016-08-22T00:00:00",
          "2016-08-26T00:00:00",
          "2017-02-12T00:00:00",
          "2017-02-16T00:00:00",
          "2017-05-30T00:00:00",
          "2017-06-09T00:00:00",
          "2017-06-10T00:00:00",
          "2017-07-22T00:00:00",
          "2017-07-23T00:00:00",
          "2017-07-24T00:00:00",
          "2017-07-25T00:00:00",
          "2017-07-26T00:00:00",
          "2017-07-27T00:00:00",
          "2017-07-28T00:00:00",
          "2017-09-07T00:00:00",
          "2018-03-03T00:00:00",
          "2018-08-28T00:00:00",
          "2018-09-16T00:00:00",
          "2018-09-18T00:00:00",
          "2018-09-20T00:00:00",
          "2019-02-08T00:00:00",
          "2019-02-10T00:00:00",
          "2019-02-12T00:00:00",
          "2019-07-20T00:00:00",
          "2019-07-21T00:00:00",
          "2019-07-22T00:00:00",
          "2019-07-23T00:00:00",
          "2019-07-24T00:00:00",
          "2019-07-27T00:00:00",
          "2019-08-19T00:00:00",
          "2019-08-20T00:00:00",
          "2020-02-10T00:00:00",
          "2020-02-11T00:00:00",
          "2020-02-12T00:00:00",
          "2020-02-14T00:00:00",
          "2020-02-15T00:00:00",
          "2020-08-17T00:00:00",
          "2020-08-18T00:00:00",
          "2020-08-20T00:00:00"
         ],
         "y": [
          13.775695440130859,
          13.77541449088874,
          13.775133541646625,
          13.77457164316239,
          13.702367687938304,
          13.669777575852725,
          13.630725631198453,
          13.629882783472102,
          13.598697417597107,
          13.591111788059948,
          13.575940528985626,
          13.537450482815588,
          13.528179157825724,
          13.52761725934149,
          13.526493462373022,
          13.525369665404554,
          13.51525549268834,
          13.498117588919198,
          13.496712842708613,
          13.495589045740145,
          13.495308096498027,
          13.491093857866272,
          13.486879619234516,
          13.475360700307716,
          13.475079751065598,
          13.474798801823482,
          13.474236903339248,
          13.463841781380916,
          13.426475532179346,
          13.425913633695112,
          13.425632684452996,
          13.399504404936108,
          13.37253327769287,
          13.372252328450752,
          13.371409480724402,
          13.370847582240168,
          13.37056663299805,
          13.370004734513817,
          13.359890561797602,
          13.301453119437252,
          13.301172170195136,
          13.300891220953018,
          13.292462743689507,
          13.289653251268335,
          13.28937230202622,
          13.28543901263658,
          13.285158063394462,
          13.276729586130951,
          13.276448636888833,
          13.276167687646717,
          13.26717731189897,
          13.266896362656853,
          13.266334464172619,
          13.266053514930503,
          13.265210667204151,
          13.261839276298746,
          13.26155832705663,
          13.261277377814512,
          13.260996428572396,
          13.260434530088162,
          13.223630179370826,
          13.222787331644474,
          13.221663534676006,
          13.191882915011597,
          13.19160196576948,
          13.191040067285245,
          13.189916270316777,
          13.189635321074661,
          13.189354371832543,
          13.189073422590427,
          13.168283178673764,
          13.160416599894486,
          13.1590118536839,
          13.158730904441784,
          13.157326158231198,
          13.12164560448233,
          13.119398010545394,
          13.119117061303276,
          13.075008030290897,
          13.064893857574683,
          13.064612908332567,
          13.064331959090449,
          13.06236531439563,
          13.061803415911395,
          13.049160700016127,
          12.985104272813437,
          12.959537891780784,
          12.953918906938442,
          12.953637957696326,
          12.945771378917048,
          12.945490429674932,
          12.91290031758935,
          12.912619368347235,
          12.912338419105117,
          12.911776520620883,
          12.882838748682826,
          12.861486606281929,
          12.860081860071343,
          12.857272367650172,
          12.812039539669325,
          12.811758590427207,
          12.810634793458739,
          12.809510996490271,
          12.804453910132164,
          12.78282081848915,
          12.781135123036448,
          12.759502031393433,
          12.759221082151317,
          12.758659183667083,
          12.757254437456497,
          12.753602097308976,
          12.710616863265065,
          12.690669467074752,
          12.647122334546607,
          12.646279486820257,
          12.644874740609671,
          12.607789440650219,
          12.606103745197515,
          12.605541846713281,
          12.574918379322522,
          12.570985089932883,
          12.452424509759481,
          12.45158166203313,
          12.451019763548896,
          12.44680552491714,
          12.446524575675022,
          12.435005656748224,
          12.404663138599581,
          12.40382029087323,
          12.368982584850713,
          12.367577838640127,
          12.347911391691934,
          12.347068543965582,
          12.345663797754996,
          12.300992868258383,
          12.2667170607201,
          12.266155162235867,
          12.24086973044533,
          12.240588781203215,
          12.166699130526426,
          12.143942241914944,
          12.143661292672826,
          12.093371378333872,
          12.093090429091754,
          12.067243098816984,
          12.062747910943111,
          12.041395768542214,
          11.99110585420326,
          11.958234792875563,
          11.957110995907096,
          11.955987198938626,
          11.9374445489589,
          11.936882650474667,
          11.932106513358676,
          11.888840330072648,
          11.886030837651477,
          11.834336177101937,
          11.834055227859821,
          11.829840989228064,
          11.829560039985948,
          11.785451008973569,
          11.7843272120051,
          11.752579947645872,
          11.743870521140243,
          11.74330862265601,
          11.732070652971327,
          11.730946856002857,
          11.71633749541277,
          11.684309281811425,
          11.682061687874489,
          11.650595372757376,
          11.65031442351526,
          11.629805128840715,
          11.628681331872246,
          11.580919960712345,
          11.579796163743877,
          11.550858391805818,
          11.548048899384648,
          11.547767950142532,
          11.535968081973614,
          11.535687132731496,
          11.53540618348938,
          11.535125234247264,
          11.534844285005146,
          11.534563335763028,
          11.534282386520912,
          11.522763467594112,
          11.473035451739392,
          11.423026486642554,
          11.41768845104233,
          11.417126552558095,
          11.416564654073861,
          11.376950810935355,
          11.376388912451121,
          11.375827013966887,
          11.33143703371239,
          11.331156084470274,
          11.330875135228156,
          11.33059418598604,
          11.330313236743923,
          11.32947038901757,
          11.32300855644888,
          11.322727607206762,
          11.273842439078393,
          11.273561489836275,
          11.273280540594158,
          11.272718642109924,
          11.272437692867808,
          11.220743032318268,
          11.22046208307615,
          11.219900184591916
         ]
        },
        {
         "fill": "toself",
         "fillcolor": "rgba(0, 0, 255, 0.2)",
         "line": {
          "color": "rgba(0, 0, 0, 0)"
         },
         "name": "Night Confidence Interval",
         "type": "scatter",
         "x": [
          "1995-09-24T00:00:00",
          "1995-09-25T00:00:00",
          "1995-09-26T00:00:00",
          "1995-09-28T00:00:00",
          "1996-06-11T00:00:00",
          "1996-10-05T00:00:00",
          "1997-02-21T00:00:00",
          "1997-02-24T00:00:00",
          "1997-06-15T00:00:00",
          "1997-07-12T00:00:00",
          "1997-09-04T00:00:00",
          "1998-01-19T00:00:00",
          "1998-02-21T00:00:00",
          "1998-02-23T00:00:00",
          "1998-02-27T00:00:00",
          "1998-03-03T00:00:00",
          "1998-04-08T00:00:00",
          "1998-06-08T00:00:00",
          "1998-06-13T00:00:00",
          "1998-06-17T00:00:00",
          "1998-06-18T00:00:00",
          "1998-07-03T00:00:00",
          "1998-07-18T00:00:00",
          "1998-08-28T00:00:00",
          "1998-08-29T00:00:00",
          "1998-08-30T00:00:00",
          "1998-09-01T00:00:00",
          "1998-10-08T00:00:00",
          "1999-02-18T00:00:00",
          "1999-02-20T00:00:00",
          "1999-02-21T00:00:00",
          "1999-05-25T00:00:00",
          "1999-08-29T00:00:00",
          "1999-08-30T00:00:00",
          "1999-09-02T00:00:00",
          "1999-09-04T00:00:00",
          "1999-09-05T00:00:00",
          "1999-09-07T00:00:00",
          "1999-10-13T00:00:00",
          "2000-05-08T00:00:00",
          "2000-05-09T00:00:00",
          "2000-05-10T00:00:00",
          "2000-06-09T00:00:00",
          "2000-06-19T00:00:00",
          "2000-06-20T00:00:00",
          "2000-07-04T00:00:00",
          "2000-07-05T00:00:00",
          "2000-08-04T00:00:00",
          "2000-08-05T00:00:00",
          "2000-08-06T00:00:00",
          "2000-09-07T00:00:00",
          "2000-09-08T00:00:00",
          "2000-09-10T00:00:00",
          "2000-09-11T00:00:00",
          "2000-09-14T00:00:00",
          "2000-09-26T00:00:00",
          "2000-09-27T00:00:00",
          "2000-09-28T00:00:00",
          "2000-09-29T00:00:00",
          "2000-10-01T00:00:00",
          "2001-02-09T00:00:00",
          "2001-02-12T00:00:00",
          "2001-02-16T00:00:00",
          "2001-06-02T00:00:00",
          "2001-06-03T00:00:00",
          "2001-06-05T00:00:00",
          "2001-06-09T00:00:00",
          "2001-06-10T00:00:00",
          "2001-06-11T00:00:00",
          "2001-06-12T00:00:00",
          "2001-08-25T00:00:00",
          "2001-09-22T00:00:00",
          "2001-09-27T00:00:00",
          "2001-09-28T00:00:00",
          "2001-10-03T00:00:00",
          "2002-02-07T00:00:00",
          "2002-02-15T00:00:00",
          "2002-02-16T00:00:00",
          "2002-07-23T00:00:00",
          "2002-08-28T00:00:00",
          "2002-08-29T00:00:00",
          "2002-08-30T00:00:00",
          "2002-09-06T00:00:00",
          "2002-09-08T00:00:00",
          "2002-10-23T00:00:00",
          "2003-06-08T00:00:00",
          "2003-09-07T00:00:00",
          "2003-09-27T00:00:00",
          "2003-09-28T00:00:00",
          "2003-10-26T00:00:00",
          "2003-10-27T00:00:00",
          "2004-02-20T00:00:00",
          "2004-02-21T00:00:00",
          "2004-02-22T00:00:00",
          "2004-02-24T00:00:00",
          "2004-06-06T00:00:00",
          "2004-08-21T00:00:00",
          "2004-08-26T00:00:00",
          "2004-09-05T00:00:00",
          "2005-02-13T00:00:00",
          "2005-02-14T00:00:00",
          "2005-02-18T00:00:00",
          "2005-02-22T00:00:00",
          "2005-03-12T00:00:00",
          "2005-05-28T00:00:00",
          "2005-06-03T00:00:00",
          "2005-08-19T00:00:00",
          "2005-08-20T00:00:00",
          "2005-08-22T00:00:00",
          "2005-08-27T00:00:00",
          "2005-09-09T00:00:00",
          "2006-02-09T00:00:00",
          "2006-04-21T00:00:00",
          "2006-09-23T00:00:00",
          "2006-09-26T00:00:00",
          "2006-10-01T00:00:00",
          "2007-02-10T00:00:00",
          "2007-02-16T00:00:00",
          "2007-02-18T00:00:00",
          "2007-06-07T00:00:00",
          "2007-06-21T00:00:00",
          "2008-08-16T00:00:00",
          "2008-08-19T00:00:00",
          "2008-08-21T00:00:00",
          "2008-09-05T00:00:00",
          "2008-09-06T00:00:00",
          "2008-10-17T00:00:00",
          "2009-02-02T00:00:00",
          "2009-02-05T00:00:00",
          "2009-06-09T00:00:00",
          "2009-06-14T00:00:00",
          "2009-08-23T00:00:00",
          "2009-08-26T00:00:00",
          "2009-08-31T00:00:00",
          "2010-02-06T00:00:00",
          "2010-06-08T00:00:00",
          "2010-06-10T00:00:00",
          "2010-09-08T00:00:00",
          "2010-09-09T00:00:00",
          "2011-05-30T00:00:00",
          "2011-08-19T00:00:00",
          "2011-08-20T00:00:00",
          "2012-02-15T00:00:00",
          "2012-02-16T00:00:00",
          "2012-05-18T00:00:00",
          "2012-06-03T00:00:00",
          "2012-08-18T00:00:00",
          "2013-02-13T00:00:00",
          "2013-06-10T00:00:00",
          "2013-06-14T00:00:00",
          "2013-06-18T00:00:00",
          "2013-08-23T00:00:00",
          "2013-08-25T00:00:00",
          "2013-09-11T00:00:00",
          "2014-02-12T00:00:00",
          "2014-02-22T00:00:00",
          "2014-08-25T00:00:00",
          "2014-08-26T00:00:00",
          "2014-09-10T00:00:00",
          "2014-09-11T00:00:00",
          "2015-02-15T00:00:00",
          "2015-02-19T00:00:00",
          "2015-06-12T00:00:00",
          "2015-07-13T00:00:00",
          "2015-07-15T00:00:00",
          "2015-08-24T00:00:00",
          "2015-08-28T00:00:00",
          "2015-10-19T00:00:00",
          "2016-02-10T00:00:00",
          "2016-02-18T00:00:00",
          "2016-06-09T00:00:00",
          "2016-06-10T00:00:00",
          "2016-08-22T00:00:00",
          "2016-08-26T00:00:00",
          "2017-02-12T00:00:00",
          "2017-02-16T00:00:00",
          "2017-05-30T00:00:00",
          "2017-06-09T00:00:00",
          "2017-06-10T00:00:00",
          "2017-07-22T00:00:00",
          "2017-07-23T00:00:00",
          "2017-07-24T00:00:00",
          "2017-07-25T00:00:00",
          "2017-07-26T00:00:00",
          "2017-07-27T00:00:00",
          "2017-07-28T00:00:00",
          "2017-09-07T00:00:00",
          "2018-03-03T00:00:00",
          "2018-08-28T00:00:00",
          "2018-09-16T00:00:00",
          "2018-09-18T00:00:00",
          "2018-09-20T00:00:00",
          "2019-02-08T00:00:00",
          "2019-02-10T00:00:00",
          "2019-02-12T00:00:00",
          "2019-07-20T00:00:00",
          "2019-07-21T00:00:00",
          "2019-07-22T00:00:00",
          "2019-07-23T00:00:00",
          "2019-07-24T00:00:00",
          "2019-07-27T00:00:00",
          "2019-08-19T00:00:00",
          "2019-08-20T00:00:00",
          "2020-02-10T00:00:00",
          "2020-02-11T00:00:00",
          "2020-02-12T00:00:00",
          "2020-02-14T00:00:00",
          "2020-02-15T00:00:00",
          "2020-08-17T00:00:00",
          "2020-08-18T00:00:00",
          "2020-08-20T00:00:00",
          "2020-08-20T00:00:00",
          "2020-08-18T00:00:00",
          "2020-08-17T00:00:00",
          "2020-02-15T00:00:00",
          "2020-02-14T00:00:00",
          "2020-02-12T00:00:00",
          "2020-02-11T00:00:00",
          "2020-02-10T00:00:00",
          "2019-08-20T00:00:00",
          "2019-08-19T00:00:00",
          "2019-07-27T00:00:00",
          "2019-07-24T00:00:00",
          "2019-07-23T00:00:00",
          "2019-07-22T00:00:00",
          "2019-07-21T00:00:00",
          "2019-07-20T00:00:00",
          "2019-02-12T00:00:00",
          "2019-02-10T00:00:00",
          "2019-02-08T00:00:00",
          "2018-09-20T00:00:00",
          "2018-09-18T00:00:00",
          "2018-09-16T00:00:00",
          "2018-08-28T00:00:00",
          "2018-03-03T00:00:00",
          "2017-09-07T00:00:00",
          "2017-07-28T00:00:00",
          "2017-07-27T00:00:00",
          "2017-07-26T00:00:00",
          "2017-07-25T00:00:00",
          "2017-07-24T00:00:00",
          "2017-07-23T00:00:00",
          "2017-07-22T00:00:00",
          "2017-06-10T00:00:00",
          "2017-06-09T00:00:00",
          "2017-05-30T00:00:00",
          "2017-02-16T00:00:00",
          "2017-02-12T00:00:00",
          "2016-08-26T00:00:00",
          "2016-08-22T00:00:00",
          "2016-06-10T00:00:00",
          "2016-06-09T00:00:00",
          "2016-02-18T00:00:00",
          "2016-02-10T00:00:00",
          "2015-10-19T00:00:00",
          "2015-08-28T00:00:00",
          "2015-08-24T00:00:00",
          "2015-07-15T00:00:00",
          "2015-07-13T00:00:00",
          "2015-06-12T00:00:00",
          "2015-02-19T00:00:00",
          "2015-02-15T00:00:00",
          "2014-09-11T00:00:00",
          "2014-09-10T00:00:00",
          "2014-08-26T00:00:00",
          "2014-08-25T00:00:00",
          "2014-02-22T00:00:00",
          "2014-02-12T00:00:00",
          "2013-09-11T00:00:00",
          "2013-08-25T00:00:00",
          "2013-08-23T00:00:00",
          "2013-06-18T00:00:00",
          "2013-06-14T00:00:00",
          "2013-06-10T00:00:00",
          "2013-02-13T00:00:00",
          "2012-08-18T00:00:00",
          "2012-06-03T00:00:00",
          "2012-05-18T00:00:00",
          "2012-02-16T00:00:00",
          "2012-02-15T00:00:00",
          "2011-08-20T00:00:00",
          "2011-08-19T00:00:00",
          "2011-05-30T00:00:00",
          "2010-09-09T00:00:00",
          "2010-09-08T00:00:00",
          "2010-06-10T00:00:00",
          "2010-06-08T00:00:00",
          "2010-02-06T00:00:00",
          "2009-08-31T00:00:00",
          "2009-08-26T00:00:00",
          "2009-08-23T00:00:00",
          "2009-06-14T00:00:00",
          "2009-06-09T00:00:00",
          "2009-02-05T00:00:00",
          "2009-02-02T00:00:00",
          "2008-10-17T00:00:00",
          "2008-09-06T00:00:00",
          "2008-09-05T00:00:00",
          "2008-08-21T00:00:00",
          "2008-08-19T00:00:00",
          "2008-08-16T00:00:00",
          "2007-06-21T00:00:00",
          "2007-06-07T00:00:00",
          "2007-02-18T00:00:00",
          "2007-02-16T00:00:00",
          "2007-02-10T00:00:00",
          "2006-10-01T00:00:00",
          "2006-09-26T00:00:00",
          "2006-09-23T00:00:00",
          "2006-04-21T00:00:00",
          "2006-02-09T00:00:00",
          "2005-09-09T00:00:00",
          "2005-08-27T00:00:00",
          "2005-08-22T00:00:00",
          "2005-08-20T00:00:00",
          "2005-08-19T00:00:00",
          "2005-06-03T00:00:00",
          "2005-05-28T00:00:00",
          "2005-03-12T00:00:00",
          "2005-02-22T00:00:00",
          "2005-02-18T00:00:00",
          "2005-02-14T00:00:00",
          "2005-02-13T00:00:00",
          "2004-09-05T00:00:00",
          "2004-08-26T00:00:00",
          "2004-08-21T00:00:00",
          "2004-06-06T00:00:00",
          "2004-02-24T00:00:00",
          "2004-02-22T00:00:00",
          "2004-02-21T00:00:00",
          "2004-02-20T00:00:00",
          "2003-10-27T00:00:00",
          "2003-10-26T00:00:00",
          "2003-09-28T00:00:00",
          "2003-09-27T00:00:00",
          "2003-09-07T00:00:00",
          "2003-06-08T00:00:00",
          "2002-10-23T00:00:00",
          "2002-09-08T00:00:00",
          "2002-09-06T00:00:00",
          "2002-08-30T00:00:00",
          "2002-08-29T00:00:00",
          "2002-08-28T00:00:00",
          "2002-07-23T00:00:00",
          "2002-02-16T00:00:00",
          "2002-02-15T00:00:00",
          "2002-02-07T00:00:00",
          "2001-10-03T00:00:00",
          "2001-09-28T00:00:00",
          "2001-09-27T00:00:00",
          "2001-09-22T00:00:00",
          "2001-08-25T00:00:00",
          "2001-06-12T00:00:00",
          "2001-06-11T00:00:00",
          "2001-06-10T00:00:00",
          "2001-06-09T00:00:00",
          "2001-06-05T00:00:00",
          "2001-06-03T00:00:00",
          "2001-06-02T00:00:00",
          "2001-02-16T00:00:00",
          "2001-02-12T00:00:00",
          "2001-02-09T00:00:00",
          "2000-10-01T00:00:00",
          "2000-09-29T00:00:00",
          "2000-09-28T00:00:00",
          "2000-09-27T00:00:00",
          "2000-09-26T00:00:00",
          "2000-09-14T00:00:00",
          "2000-09-11T00:00:00",
          "2000-09-10T00:00:00",
          "2000-09-08T00:00:00",
          "2000-09-07T00:00:00",
          "2000-08-06T00:00:00",
          "2000-08-05T00:00:00",
          "2000-08-04T00:00:00",
          "2000-07-05T00:00:00",
          "2000-07-04T00:00:00",
          "2000-06-20T00:00:00",
          "2000-06-19T00:00:00",
          "2000-06-09T00:00:00",
          "2000-05-10T00:00:00",
          "2000-05-09T00:00:00",
          "2000-05-08T00:00:00",
          "1999-10-13T00:00:00",
          "1999-09-07T00:00:00",
          "1999-09-05T00:00:00",
          "1999-09-04T00:00:00",
          "1999-09-02T00:00:00",
          "1999-08-30T00:00:00",
          "1999-08-29T00:00:00",
          "1999-05-25T00:00:00",
          "1999-02-21T00:00:00",
          "1999-02-20T00:00:00",
          "1999-02-18T00:00:00",
          "1998-10-08T00:00:00",
          "1998-09-01T00:00:00",
          "1998-08-30T00:00:00",
          "1998-08-29T00:00:00",
          "1998-08-28T00:00:00",
          "1998-07-18T00:00:00",
          "1998-07-03T00:00:00",
          "1998-06-18T00:00:00",
          "1998-06-17T00:00:00",
          "1998-06-13T00:00:00",
          "1998-06-08T00:00:00",
          "1998-04-08T00:00:00",
          "1998-03-03T00:00:00",
          "1998-02-27T00:00:00",
          "1998-02-23T00:00:00",
          "1998-02-21T00:00:00",
          "1998-01-19T00:00:00",
          "1997-09-04T00:00:00",
          "1997-07-12T00:00:00",
          "1997-06-15T00:00:00",
          "1997-02-24T00:00:00",
          "1997-02-21T00:00:00",
          "1996-10-05T00:00:00",
          "1996-06-11T00:00:00",
          "1995-09-28T00:00:00",
          "1995-09-26T00:00:00",
          "1995-09-25T00:00:00",
          "1995-09-24T00:00:00"
         ],
         "y": [
          14.815516826180644,
          14.815235876938527,
          14.81495492769641,
          14.814393029212177,
          14.74218907398809,
          14.709598961902511,
          14.67054701724824,
          14.669704169521887,
          14.638518803646893,
          14.630933174109733,
          14.615761915035412,
          14.577271868865374,
          14.56800054387551,
          14.567438645391276,
          14.566314848422808,
          14.56519105145434,
          14.555076878738126,
          14.537938974968984,
          14.536534228758399,
          14.53541043178993,
          14.535129482547813,
          14.530915243916057,
          14.526701005284302,
          14.515182086357502,
          14.514901137115384,
          14.514620187873268,
          14.514058289389034,
          14.503663167430702,
          14.466296918229132,
          14.465735019744898,
          14.465454070502782,
          14.439325790985894,
          14.412354663742656,
          14.412073714500538,
          14.411230866774188,
          14.410668968289954,
          14.410388019047836,
          14.409826120563602,
          14.399711947847388,
          14.341274505487037,
          14.340993556244921,
          14.340712607002803,
          14.332284129739293,
          14.329474637318121,
          14.329193688076005,
          14.325260398686366,
          14.324979449444248,
          14.316550972180737,
          14.31627002293862,
          14.315989073696503,
          14.306998697948757,
          14.306717748706639,
          14.306155850222405,
          14.305874900980289,
          14.305032053253937,
          14.301660662348532,
          14.301379713106416,
          14.301098763864298,
          14.300817814622182,
          14.300255916137948,
          14.263451565420612,
          14.26260871769426,
          14.261484920725792,
          14.231704301061383,
          14.231423351819267,
          14.23086145333503,
          14.229737656366563,
          14.229456707124447,
          14.229175757882329,
          14.228894808640213,
          14.20810456472355,
          14.200237985944272,
          14.198833239733686,
          14.19855229049157,
          14.197147544280984,
          14.161466990532116,
          14.15921939659518,
          14.158938447353062,
          14.114829416340683,
          14.104715243624469,
          14.104434294382353,
          14.104153345140235,
          14.102186700445415,
          14.101624801961181,
          14.088982086065913,
          14.024925658863223,
          13.99935927783057,
          13.993740292988228,
          13.993459343746112,
          13.985592764966833,
          13.985311815724717,
          13.952721703639137,
          13.95244075439702,
          13.952159805154903,
          13.951597906670669,
          13.922660134732611,
          13.901307992331715,
          13.899903246121129,
          13.897093753699957,
          13.85186092571911,
          13.851579976476993,
          13.850456179508525,
          13.849332382540057,
          13.84427529618195,
          13.822642204538935,
          13.820956509086233,
          13.799323417443219,
          13.799042468201103,
          13.798480569716869,
          13.797075823506283,
          13.793423483358762,
          13.75043824931485,
          13.730490853124538,
          13.686943720596393,
          13.686100872870043,
          13.684696126659457,
          13.647610826700005,
          13.645925131247301,
          13.645363232763067,
          13.614739765372308,
          13.610806475982669,
          13.492245895809267,
          13.491403048082915,
          13.490841149598682,
          13.486626910966926,
          13.486345961724808,
          13.47482704279801,
          13.444484524649367,
          13.443641676923015,
          13.408803970900498,
          13.407399224689913,
          13.38773277774172,
          13.386889930015368,
          13.385485183804782,
          13.34081425430817,
          13.306538446769887,
          13.305976548285653,
          13.280691116495117,
          13.280410167253,
          13.206520516576212,
          13.18376362796473,
          13.183482678722612,
          13.133192764383658,
          13.13291181514154,
          13.10706448486677,
          13.102569296992897,
          13.081217154592,
          13.030927240253046,
          12.99805617892535,
          12.996932381956881,
          12.995808584988412,
          12.977265935008687,
          12.976704036524453,
          12.971927899408461,
          12.928661716122434,
          12.925852223701263,
          12.874157563151723,
          12.873876613909607,
          12.86966237527785,
          12.869381426035734,
          12.825272395023354,
          12.824148598054887,
          12.792401333695658,
          12.783691907190029,
          12.783130008705795,
          12.771892039021113,
          12.770768242052643,
          12.756158881462555,
          12.72413066786121,
          12.721883073924275,
          12.690416758807162,
          12.690135809565046,
          12.669626514890501,
          12.668502717922031,
          12.62074134676213,
          12.619617549793663,
          12.590679777855604,
          12.587870285434434,
          12.587589336192318,
          12.5757894680234,
          12.575508518781282,
          12.575227569539166,
          12.57494662029705,
          12.574665671054932,
          12.574384721812814,
          12.574103772570698,
          12.562584853643898,
          12.512856837789178,
          12.46284787269234,
          12.457509837092116,
          12.45694793860788,
          12.456386040123647,
          12.416772196985141,
          12.416210298500907,
          12.415648400016673,
          12.371258419762176,
          12.37097747052006,
          12.370696521277942,
          12.370415572035826,
          12.370134622793708,
          12.369291775067357,
          12.362829942498665,
          12.362548993256548,
          12.31366382512818,
          12.313382875886061,
          12.313101926643943,
          12.31254002815971,
          12.312259078917593,
          12.260564418368054,
          12.260283469125936,
          12.259721570641702,
          10.18007879854213,
          10.180640697026364,
          10.180921646268482,
          10.232616306818022,
          10.232897256060138,
          10.233459154544372,
          10.23374010378649,
          10.234021053028608,
          10.282906221156976,
          10.283187170399094,
          10.289649002967785,
          10.290491850694137,
          10.290772799936255,
          10.29105374917837,
          10.291334698420489,
          10.291615647662605,
          10.336005627917102,
          10.336567526401335,
          10.33712942488557,
          10.376743268024075,
          10.37730516650831,
          10.377867064992545,
          10.383205100592768,
          10.433214065689606,
          10.482942081544326,
          10.494461000471127,
          10.494741949713243,
          10.49502289895536,
          10.495303848197478,
          10.495584797439594,
          10.49586574668171,
          10.496146695923828,
          10.507946564092746,
          10.508227513334862,
          10.511037005756032,
          10.539974777694091,
          10.54109857466256,
          10.58885994582246,
          10.58998374279093,
          10.610493037465474,
          10.61077398670759,
          10.642240301824703,
          10.644487895761639,
          10.676516109362984,
          10.691125469953072,
          10.692249266921541,
          10.703487236606223,
          10.704049135090457,
          10.712758561596086,
          10.744505825955315,
          10.745629622923783,
          10.789738653936162,
          10.790019603178278,
          10.794233841810035,
          10.794514791052151,
          10.846209451601691,
          10.849018944022863,
          10.89228512730889,
          10.897061264424881,
          10.897623162909115,
          10.91616581288884,
          10.91728960985731,
          10.918413406825778,
          10.951284468153474,
          11.001574382492429,
          11.022926524893325,
          11.027421712767199,
          11.053269043041968,
          11.053549992284086,
          11.10383990662304,
          11.104120855865158,
          11.12687774447664,
          11.200767395153429,
          11.201048344395545,
          11.226333776186081,
          11.226895674670315,
          11.261171482208598,
          11.30584241170521,
          11.307247157915796,
          11.308090005642148,
          11.327756452590341,
          11.329161198800927,
          11.363998904823443,
          11.364841752549795,
          11.395184270698438,
          11.406703189625237,
          11.406984138867355,
          11.41119837749911,
          11.411760275983344,
          11.412603123709696,
          11.531163703883097,
          11.535096993272736,
          11.565720460663496,
          11.56628235914773,
          11.567968054600433,
          11.605053354559885,
          11.606458100770471,
          11.607300948496821,
          11.650848081024966,
          11.670795477215279,
          11.71378071125919,
          11.717433051406712,
          11.718837797617297,
          11.719399696101531,
          11.719680645343647,
          11.741313736986662,
          11.742999432439364,
          11.764632524082378,
          11.769689610440485,
          11.770813407408953,
          11.771937204377421,
          11.772218153619539,
          11.817450981600386,
          11.820260474021557,
          11.821665220232143,
          11.84301736263304,
          11.871955134571097,
          11.872517033055331,
          11.872797982297449,
          11.873078931539565,
          11.905669043625146,
          11.905949992867262,
          11.91381657164654,
          11.914097520888657,
          11.919716505730998,
          11.945282886763652,
          12.009339313966342,
          12.02198202986161,
          12.022543928345844,
          12.024510573040663,
          12.024791522282781,
          12.025072471524897,
          12.035186644241112,
          12.07929567525349,
          12.079576624495608,
          12.081824218432544,
          12.117504772181412,
          12.118909518391998,
          12.119190467634114,
          12.1205952138447,
          12.128461792623979,
          12.149252036540641,
          12.149532985782757,
          12.149813935024875,
          12.150094884266991,
          12.15121868123546,
          12.151780579719695,
          12.152061528961811,
          12.18184214862622,
          12.182965945594688,
          12.18380879332104,
          12.220613144038376,
          12.22117504252261,
          12.221455991764726,
          12.221736941006844,
          12.22201789024896,
          12.225389281154365,
          12.226232128880717,
          12.226513078122833,
          12.227074976607067,
          12.227355925849185,
          12.236346301596932,
          12.236627250839048,
          12.236908200081166,
          12.245336677344676,
          12.245617626586794,
          12.249550915976434,
          12.24983186521855,
          12.252641357639721,
          12.261069834903232,
          12.26135078414535,
          12.261631733387466,
          12.320069175747816,
          12.33018334846403,
          12.330745246948265,
          12.331026196190383,
          12.331588094674617,
          12.332430942400967,
          12.332711891643084,
          12.359683018886322,
          12.38581129840321,
          12.386092247645326,
          12.38665414612956,
          12.42402039533113,
          12.434415517289462,
          12.434977415773696,
          12.435258365015812,
          12.43553931425793,
          12.44705823318473,
          12.451272471816486,
          12.455486710448241,
          12.455767659690359,
          12.456891456658827,
          12.458296202869413,
          12.475434106638554,
          12.485548279354768,
          12.486672076323236,
          12.487795873291704,
          12.488357771775938,
          12.497629096765802,
          12.53611914293584,
          12.551290402010162,
          12.558876031547321,
          12.590061397422316,
          12.590904245148668,
          12.62995618980294,
          12.662546301888518,
          12.734750257112605,
          12.735312155596839,
          12.735593104838955,
          12.735874054081073
         ]
        }
       ],
       "layout": {
        "height": 600,
        "template": {
         "data": {
          "bar": [
           {
            "error_x": {
             "color": "#2a3f5f"
            },
            "error_y": {
             "color": "#2a3f5f"
            },
            "marker": {
             "line": {
              "color": "#E5ECF6",
              "width": 0.5
             },
             "pattern": {
              "fillmode": "overlay",
              "size": 10,
              "solidity": 0.2
             }
            },
            "type": "bar"
           }
          ],
          "barpolar": [
           {
            "marker": {
             "line": {
              "color": "#E5ECF6",
              "width": 0.5
             },
             "pattern": {
              "fillmode": "overlay",
              "size": 10,
              "solidity": 0.2
             }
            },
            "type": "barpolar"
           }
          ],
          "carpet": [
           {
            "aaxis": {
             "endlinecolor": "#2a3f5f",
             "gridcolor": "white",
             "linecolor": "white",
             "minorgridcolor": "white",
             "startlinecolor": "#2a3f5f"
            },
            "baxis": {
             "endlinecolor": "#2a3f5f",
             "gridcolor": "white",
             "linecolor": "white",
             "minorgridcolor": "white",
             "startlinecolor": "#2a3f5f"
            },
            "type": "carpet"
           }
          ],
          "choropleth": [
           {
            "colorbar": {
             "outlinewidth": 0,
             "ticks": ""
            },
            "type": "choropleth"
           }
          ],
          "contour": [
           {
            "colorbar": {
             "outlinewidth": 0,
             "ticks": ""
            },
            "colorscale": [
             [
              0,
              "#0d0887"
             ],
             [
              0.1111111111111111,
              "#46039f"
             ],
             [
              0.2222222222222222,
              "#7201a8"
             ],
             [
              0.3333333333333333,
              "#9c179e"
             ],
             [
              0.4444444444444444,
              "#bd3786"
             ],
             [
              0.5555555555555556,
              "#d8576b"
             ],
             [
              0.6666666666666666,
              "#ed7953"
             ],
             [
              0.7777777777777778,
              "#fb9f3a"
             ],
             [
              0.8888888888888888,
              "#fdca26"
             ],
             [
              1,
              "#f0f921"
             ]
            ],
            "type": "contour"
           }
          ],
          "contourcarpet": [
           {
            "colorbar": {
             "outlinewidth": 0,
             "ticks": ""
            },
            "type": "contourcarpet"
           }
          ],
          "heatmap": [
           {
            "colorbar": {
             "outlinewidth": 0,
             "ticks": ""
            },
            "colorscale": [
             [
              0,
              "#0d0887"
             ],
             [
              0.1111111111111111,
              "#46039f"
             ],
             [
              0.2222222222222222,
              "#7201a8"
             ],
             [
              0.3333333333333333,
              "#9c179e"
             ],
             [
              0.4444444444444444,
              "#bd3786"
             ],
             [
              0.5555555555555556,
              "#d8576b"
             ],
             [
              0.6666666666666666,
              "#ed7953"
             ],
             [
              0.7777777777777778,
              "#fb9f3a"
             ],
             [
              0.8888888888888888,
              "#fdca26"
             ],
             [
              1,
              "#f0f921"
             ]
            ],
            "type": "heatmap"
           }
          ],
          "heatmapgl": [
           {
            "colorbar": {
             "outlinewidth": 0,
             "ticks": ""
            },
            "colorscale": [
             [
              0,
              "#0d0887"
             ],
             [
              0.1111111111111111,
              "#46039f"
             ],
             [
              0.2222222222222222,
              "#7201a8"
             ],
             [
              0.3333333333333333,
              "#9c179e"
             ],
             [
              0.4444444444444444,
              "#bd3786"
             ],
             [
              0.5555555555555556,
              "#d8576b"
             ],
             [
              0.6666666666666666,
              "#ed7953"
             ],
             [
              0.7777777777777778,
              "#fb9f3a"
             ],
             [
              0.8888888888888888,
              "#fdca26"
             ],
             [
              1,
              "#f0f921"
             ]
            ],
            "type": "heatmapgl"
           }
          ],
          "histogram": [
           {
            "marker": {
             "pattern": {
              "fillmode": "overlay",
              "size": 10,
              "solidity": 0.2
             }
            },
            "type": "histogram"
           }
          ],
          "histogram2d": [
           {
            "colorbar": {
             "outlinewidth": 0,
             "ticks": ""
            },
            "colorscale": [
             [
              0,
              "#0d0887"
             ],
             [
              0.1111111111111111,
              "#46039f"
             ],
             [
              0.2222222222222222,
              "#7201a8"
             ],
             [
              0.3333333333333333,
              "#9c179e"
             ],
             [
              0.4444444444444444,
              "#bd3786"
             ],
             [
              0.5555555555555556,
              "#d8576b"
             ],
             [
              0.6666666666666666,
              "#ed7953"
             ],
             [
              0.7777777777777778,
              "#fb9f3a"
             ],
             [
              0.8888888888888888,
              "#fdca26"
             ],
             [
              1,
              "#f0f921"
             ]
            ],
            "type": "histogram2d"
           }
          ],
          "histogram2dcontour": [
           {
            "colorbar": {
             "outlinewidth": 0,
             "ticks": ""
            },
            "colorscale": [
             [
              0,
              "#0d0887"
             ],
             [
              0.1111111111111111,
              "#46039f"
             ],
             [
              0.2222222222222222,
              "#7201a8"
             ],
             [
              0.3333333333333333,
              "#9c179e"
             ],
             [
              0.4444444444444444,
              "#bd3786"
             ],
             [
              0.5555555555555556,
              "#d8576b"
             ],
             [
              0.6666666666666666,
              "#ed7953"
             ],
             [
              0.7777777777777778,
              "#fb9f3a"
             ],
             [
              0.8888888888888888,
              "#fdca26"
             ],
             [
              1,
              "#f0f921"
             ]
            ],
            "type": "histogram2dcontour"
           }
          ],
          "mesh3d": [
           {
            "colorbar": {
             "outlinewidth": 0,
             "ticks": ""
            },
            "type": "mesh3d"
           }
          ],
          "parcoords": [
           {
            "line": {
             "colorbar": {
              "outlinewidth": 0,
              "ticks": ""
             }
            },
            "type": "parcoords"
           }
          ],
          "pie": [
           {
            "automargin": true,
            "type": "pie"
           }
          ],
          "scatter": [
           {
            "fillpattern": {
             "fillmode": "overlay",
             "size": 10,
             "solidity": 0.2
            },
            "type": "scatter"
           }
          ],
          "scatter3d": [
           {
            "line": {
             "colorbar": {
              "outlinewidth": 0,
              "ticks": ""
             }
            },
            "marker": {
             "colorbar": {
              "outlinewidth": 0,
              "ticks": ""
             }
            },
            "type": "scatter3d"
           }
          ],
          "scattercarpet": [
           {
            "marker": {
             "colorbar": {
              "outlinewidth": 0,
              "ticks": ""
             }
            },
            "type": "scattercarpet"
           }
          ],
          "scattergeo": [
           {
            "marker": {
             "colorbar": {
              "outlinewidth": 0,
              "ticks": ""
             }
            },
            "type": "scattergeo"
           }
          ],
          "scattergl": [
           {
            "marker": {
             "colorbar": {
              "outlinewidth": 0,
              "ticks": ""
             }
            },
            "type": "scattergl"
           }
          ],
          "scattermapbox": [
           {
            "marker": {
             "colorbar": {
              "outlinewidth": 0,
              "ticks": ""
             }
            },
            "type": "scattermapbox"
           }
          ],
          "scatterpolar": [
           {
            "marker": {
             "colorbar": {
              "outlinewidth": 0,
              "ticks": ""
             }
            },
            "type": "scatterpolar"
           }
          ],
          "scatterpolargl": [
           {
            "marker": {
             "colorbar": {
              "outlinewidth": 0,
              "ticks": ""
             }
            },
            "type": "scatterpolargl"
           }
          ],
          "scatterternary": [
           {
            "marker": {
             "colorbar": {
              "outlinewidth": 0,
              "ticks": ""
             }
            },
            "type": "scatterternary"
           }
          ],
          "surface": [
           {
            "colorbar": {
             "outlinewidth": 0,
             "ticks": ""
            },
            "colorscale": [
             [
              0,
              "#0d0887"
             ],
             [
              0.1111111111111111,
              "#46039f"
             ],
             [
              0.2222222222222222,
              "#7201a8"
             ],
             [
              0.3333333333333333,
              "#9c179e"
             ],
             [
              0.4444444444444444,
              "#bd3786"
             ],
             [
              0.5555555555555556,
              "#d8576b"
             ],
             [
              0.6666666666666666,
              "#ed7953"
             ],
             [
              0.7777777777777778,
              "#fb9f3a"
             ],
             [
              0.8888888888888888,
              "#fdca26"
             ],
             [
              1,
              "#f0f921"
             ]
            ],
            "type": "surface"
           }
          ],
          "table": [
           {
            "cells": {
             "fill": {
              "color": "#EBF0F8"
             },
             "line": {
              "color": "white"
             }
            },
            "header": {
             "fill": {
              "color": "#C8D4E3"
             },
             "line": {
              "color": "white"
             }
            },
            "type": "table"
           }
          ]
         },
         "layout": {
          "annotationdefaults": {
           "arrowcolor": "#2a3f5f",
           "arrowhead": 0,
           "arrowwidth": 1
          },
          "autotypenumbers": "strict",
          "coloraxis": {
           "colorbar": {
            "outlinewidth": 0,
            "ticks": ""
           }
          },
          "colorscale": {
           "diverging": [
            [
             0,
             "#8e0152"
            ],
            [
             0.1,
             "#c51b7d"
            ],
            [
             0.2,
             "#de77ae"
            ],
            [
             0.3,
             "#f1b6da"
            ],
            [
             0.4,
             "#fde0ef"
            ],
            [
             0.5,
             "#f7f7f7"
            ],
            [
             0.6,
             "#e6f5d0"
            ],
            [
             0.7,
             "#b8e186"
            ],
            [
             0.8,
             "#7fbc41"
            ],
            [
             0.9,
             "#4d9221"
            ],
            [
             1,
             "#276419"
            ]
           ],
           "sequential": [
            [
             0,
             "#0d0887"
            ],
            [
             0.1111111111111111,
             "#46039f"
            ],
            [
             0.2222222222222222,
             "#7201a8"
            ],
            [
             0.3333333333333333,
             "#9c179e"
            ],
            [
             0.4444444444444444,
             "#bd3786"
            ],
            [
             0.5555555555555556,
             "#d8576b"
            ],
            [
             0.6666666666666666,
             "#ed7953"
            ],
            [
             0.7777777777777778,
             "#fb9f3a"
            ],
            [
             0.8888888888888888,
             "#fdca26"
            ],
            [
             1,
             "#f0f921"
            ]
           ],
           "sequentialminus": [
            [
             0,
             "#0d0887"
            ],
            [
             0.1111111111111111,
             "#46039f"
            ],
            [
             0.2222222222222222,
             "#7201a8"
            ],
            [
             0.3333333333333333,
             "#9c179e"
            ],
            [
             0.4444444444444444,
             "#bd3786"
            ],
            [
             0.5555555555555556,
             "#d8576b"
            ],
            [
             0.6666666666666666,
             "#ed7953"
            ],
            [
             0.7777777777777778,
             "#fb9f3a"
            ],
            [
             0.8888888888888888,
             "#fdca26"
            ],
            [
             1,
             "#f0f921"
            ]
           ]
          },
          "colorway": [
           "#636efa",
           "#EF553B",
           "#00cc96",
           "#ab63fa",
           "#FFA15A",
           "#19d3f3",
           "#FF6692",
           "#B6E880",
           "#FF97FF",
           "#FECB52"
          ],
          "font": {
           "color": "#2a3f5f"
          },
          "geo": {
           "bgcolor": "white",
           "lakecolor": "white",
           "landcolor": "#E5ECF6",
           "showlakes": true,
           "showland": true,
           "subunitcolor": "white"
          },
          "hoverlabel": {
           "align": "left"
          },
          "hovermode": "closest",
          "mapbox": {
           "style": "light"
          },
          "paper_bgcolor": "white",
          "plot_bgcolor": "#E5ECF6",
          "polar": {
           "angularaxis": {
            "gridcolor": "white",
            "linecolor": "white",
            "ticks": ""
           },
           "bgcolor": "#E5ECF6",
           "radialaxis": {
            "gridcolor": "white",
            "linecolor": "white",
            "ticks": ""
           }
          },
          "scene": {
           "xaxis": {
            "backgroundcolor": "#E5ECF6",
            "gridcolor": "white",
            "gridwidth": 2,
            "linecolor": "white",
            "showbackground": true,
            "ticks": "",
            "zerolinecolor": "white"
           },
           "yaxis": {
            "backgroundcolor": "#E5ECF6",
            "gridcolor": "white",
            "gridwidth": 2,
            "linecolor": "white",
            "showbackground": true,
            "ticks": "",
            "zerolinecolor": "white"
           },
           "zaxis": {
            "backgroundcolor": "#E5ECF6",
            "gridcolor": "white",
            "gridwidth": 2,
            "linecolor": "white",
            "showbackground": true,
            "ticks": "",
            "zerolinecolor": "white"
           }
          },
          "shapedefaults": {
           "line": {
            "color": "#2a3f5f"
           }
          },
          "ternary": {
           "aaxis": {
            "gridcolor": "white",
            "linecolor": "white",
            "ticks": ""
           },
           "baxis": {
            "gridcolor": "white",
            "linecolor": "white",
            "ticks": ""
           },
           "bgcolor": "#E5ECF6",
           "caxis": {
            "gridcolor": "white",
            "linecolor": "white",
            "ticks": ""
           }
          },
          "title": {
           "x": 0.05
          },
          "xaxis": {
           "automargin": true,
           "gridcolor": "white",
           "linecolor": "white",
           "ticks": "",
           "title": {
            "standoff": 15
           },
           "zerolinecolor": "white",
           "zerolinewidth": 2
          },
          "yaxis": {
           "automargin": true,
           "gridcolor": "white",
           "linecolor": "white",
           "ticks": "",
           "title": {
            "standoff": 15
           },
           "zerolinecolor": "white",
           "zerolinewidth": 2
          }
         }
        },
        "title": {
         "text": "Papa Day and Night Trend (1st order polynomial fit)"
        },
        "xaxis": {
         "title": {
          "text": "Time"
         }
        },
        "yaxis": {
         "title": {
          "text": "Biomass (mg/m3)"
         }
        }
       }
      }
     },
     "metadata": {},
     "output_type": "display_data"
    }
   ],
   "source": [
    "confidence_level = 0.95\n",
    "day_data = data[\"day\"].mean([\"latitude\", \"longitude\"]).dropna(\"time\", how=\"all\")\n",
    "night_data = data[\"night\"].mean([\"latitude\", \"longitude\"]).dropna(\"time\", how=\"all\")\n",
    "\n",
    "plot_trend(day_data, night_data, poly_order=1).update_layout(\n",
    "    title=f\"{station} Day and Night Trend (1st order polynomial fit)\",\n",
    "    xaxis_title=\"Time\",\n",
    "    yaxis_title=\"Biomass (mg/m3)\",\n",
    ").show()"
   ]
  },
  {
   "cell_type": "code",
   "execution_count": 9,
   "metadata": {},
   "outputs": [
    {
     "data": {
      "application/vnd.plotly.v1+json": {
       "config": {
        "plotlyServerURL": "https://plot.ly"
       },
       "data": [
        {
         "marker": {
          "color": "firebrick"
         },
         "mode": "markers",
         "name": "Day Data",
         "type": "scatter",
         "x": [
          "1995-09-24T00:00:00",
          "1995-09-25T00:00:00",
          "1996-03-06T00:00:00",
          "1997-03-14T00:00:00",
          "1997-03-15T00:00:00",
          "1997-03-16T00:00:00",
          "1997-03-17T00:00:00",
          "1997-03-18T00:00:00",
          "1997-03-24T00:00:00",
          "1997-03-25T00:00:00",
          "1997-03-26T00:00:00",
          "1997-03-29T00:00:00",
          "1997-04-10T00:00:00",
          "1997-06-16T00:00:00",
          "1997-07-03T00:00:00",
          "1997-07-04T00:00:00",
          "1997-07-05T00:00:00",
          "1997-07-06T00:00:00",
          "1997-07-07T00:00:00",
          "1997-07-08T00:00:00",
          "1997-07-09T00:00:00",
          "1997-07-10T00:00:00",
          "1997-07-11T00:00:00",
          "1997-07-18T00:00:00",
          "1997-08-29T00:00:00",
          "1997-08-30T00:00:00",
          "1997-08-31T00:00:00",
          "1997-09-01T00:00:00",
          "1997-09-04T00:00:00",
          "1997-09-05T00:00:00",
          "1997-09-10T00:00:00",
          "1997-09-28T00:00:00",
          "1997-12-02T00:00:00",
          "1998-01-20T00:00:00",
          "1998-02-21T00:00:00",
          "1998-02-24T00:00:00",
          "1998-02-27T00:00:00",
          "1998-02-28T00:00:00",
          "1998-03-03T00:00:00",
          "1998-04-09T00:00:00",
          "1998-05-13T00:00:00",
          "1998-05-17T00:00:00",
          "1998-05-18T00:00:00",
          "1998-05-19T00:00:00",
          "1998-05-20T00:00:00",
          "1998-05-27T00:00:00",
          "1998-06-03T00:00:00",
          "1998-06-05T00:00:00",
          "1998-06-09T00:00:00",
          "1998-06-15T00:00:00",
          "1998-06-18T00:00:00",
          "1998-06-24T00:00:00",
          "1998-07-05T00:00:00",
          "1998-07-06T00:00:00",
          "1998-07-07T00:00:00",
          "1998-07-08T00:00:00",
          "1998-07-09T00:00:00",
          "1998-07-21T00:00:00",
          "1998-07-23T00:00:00",
          "1998-08-27T00:00:00",
          "1998-09-05T00:00:00",
          "1998-10-07T00:00:00",
          "1998-10-10T00:00:00",
          "1998-10-13T00:00:00",
          "1998-10-14T00:00:00",
          "1999-02-18T00:00:00",
          "1999-02-21T00:00:00",
          "1999-05-10T00:00:00",
          "1999-05-11T00:00:00",
          "1999-05-20T00:00:00",
          "1999-05-24T00:00:00",
          "1999-06-18T00:00:00",
          "1999-06-19T00:00:00",
          "1999-06-20T00:00:00",
          "1999-06-24T00:00:00",
          "1999-07-05T00:00:00",
          "1999-07-08T00:00:00",
          "1999-07-09T00:00:00",
          "1999-07-10T00:00:00",
          "1999-07-11T00:00:00",
          "1999-07-12T00:00:00",
          "1999-07-13T00:00:00",
          "1999-08-26T00:00:00",
          "1999-08-27T00:00:00",
          "1999-09-06T00:00:00",
          "1999-09-27T00:00:00",
          "2000-02-15T00:00:00",
          "2000-05-08T00:00:00",
          "2000-05-10T00:00:00",
          "2000-06-18T00:00:00",
          "2000-06-19T00:00:00",
          "2000-07-06T00:00:00",
          "2000-07-07T00:00:00",
          "2000-07-08T00:00:00",
          "2000-07-12T00:00:00",
          "2000-07-13T00:00:00",
          "2000-08-03T00:00:00",
          "2000-08-04T00:00:00",
          "2000-08-05T00:00:00",
          "2000-08-07T00:00:00",
          "2000-08-10T00:00:00",
          "2000-09-15T00:00:00",
          "2000-09-26T00:00:00",
          "2000-09-27T00:00:00",
          "2000-10-01T00:00:00",
          "2000-10-02T00:00:00",
          "2001-02-11T00:00:00",
          "2001-02-16T00:00:00",
          "2001-02-17T00:00:00",
          "2001-02-19T00:00:00",
          "2001-03-23T00:00:00",
          "2001-05-31T00:00:00",
          "2001-06-02T00:00:00",
          "2001-06-03T00:00:00",
          "2001-06-04T00:00:00",
          "2001-06-05T00:00:00",
          "2001-06-06T00:00:00",
          "2001-06-07T00:00:00",
          "2001-06-08T00:00:00",
          "2001-06-09T00:00:00",
          "2001-06-10T00:00:00",
          "2001-06-12T00:00:00",
          "2001-06-16T00:00:00",
          "2001-06-21T00:00:00",
          "2001-06-22T00:00:00",
          "2001-06-23T00:00:00",
          "2001-06-24T00:00:00",
          "2001-07-04T00:00:00",
          "2001-07-06T00:00:00",
          "2001-08-29T00:00:00",
          "2001-09-19T00:00:00",
          "2001-09-22T00:00:00",
          "2001-09-23T00:00:00",
          "2001-09-25T00:00:00",
          "2001-09-26T00:00:00",
          "2001-09-28T00:00:00",
          "2001-09-30T00:00:00",
          "2002-02-11T00:00:00",
          "2002-02-13T00:00:00",
          "2002-02-14T00:00:00",
          "2002-03-05T00:00:00",
          "2002-05-03T00:00:00",
          "2002-05-05T00:00:00",
          "2002-05-06T00:00:00",
          "2002-06-19T00:00:00",
          "2002-06-26T00:00:00",
          "2002-07-01T00:00:00",
          "2002-07-02T00:00:00",
          "2002-07-03T00:00:00",
          "2002-07-04T00:00:00",
          "2002-07-05T00:00:00",
          "2002-07-19T00:00:00",
          "2002-07-22T00:00:00",
          "2002-07-23T00:00:00",
          "2002-08-18T00:00:00",
          "2002-08-27T00:00:00",
          "2002-09-03T00:00:00",
          "2002-09-19T00:00:00",
          "2002-09-21T00:00:00",
          "2002-10-19T00:00:00",
          "2002-10-23T00:00:00",
          "2003-02-12T00:00:00",
          "2003-02-14T00:00:00",
          "2003-02-15T00:00:00",
          "2003-02-16T00:00:00",
          "2003-02-17T00:00:00",
          "2003-02-21T00:00:00",
          "2003-05-19T00:00:00",
          "2003-05-29T00:00:00",
          "2003-05-30T00:00:00",
          "2003-05-31T00:00:00",
          "2003-06-01T00:00:00",
          "2003-06-03T00:00:00",
          "2003-06-09T00:00:00",
          "2003-06-10T00:00:00",
          "2003-09-01T00:00:00",
          "2003-09-02T00:00:00",
          "2003-09-03T00:00:00",
          "2003-09-06T00:00:00",
          "2003-09-26T00:00:00",
          "2004-02-20T00:00:00",
          "2004-02-27T00:00:00",
          "2004-05-29T00:00:00",
          "2004-05-30T00:00:00",
          "2004-06-03T00:00:00",
          "2004-06-04T00:00:00",
          "2004-06-07T00:00:00",
          "2004-06-14T00:00:00",
          "2004-08-22T00:00:00",
          "2004-08-23T00:00:00",
          "2004-08-24T00:00:00",
          "2004-09-05T00:00:00",
          "2004-09-06T00:00:00",
          "2004-10-27T00:00:00",
          "2005-02-15T00:00:00",
          "2005-02-16T00:00:00",
          "2005-02-18T00:00:00",
          "2005-02-19T00:00:00",
          "2005-02-23T00:00:00",
          "2005-03-12T00:00:00",
          "2005-03-13T00:00:00",
          "2005-05-27T00:00:00",
          "2005-06-03T00:00:00",
          "2005-06-06T00:00:00",
          "2005-06-15T00:00:00",
          "2005-07-29T00:00:00",
          "2005-08-13T00:00:00",
          "2005-08-18T00:00:00",
          "2005-08-21T00:00:00",
          "2005-08-23T00:00:00",
          "2005-08-28T00:00:00",
          "2005-09-08T00:00:00",
          "2006-02-06T00:00:00",
          "2006-02-10T00:00:00",
          "2006-02-13T00:00:00",
          "2006-04-21T00:00:00",
          "2006-07-14T00:00:00",
          "2006-07-17T00:00:00",
          "2006-08-24T00:00:00",
          "2006-08-27T00:00:00",
          "2006-09-22T00:00:00",
          "2006-09-24T00:00:00",
          "2006-09-28T00:00:00",
          "2006-10-02T00:00:00",
          "2006-10-04T00:00:00",
          "2007-02-10T00:00:00",
          "2007-02-11T00:00:00",
          "2007-02-12T00:00:00",
          "2007-02-15T00:00:00",
          "2007-02-16T00:00:00",
          "2007-02-18T00:00:00",
          "2007-05-26T00:00:00",
          "2007-06-02T00:00:00",
          "2007-06-03T00:00:00",
          "2007-06-04T00:00:00",
          "2007-06-27T00:00:00",
          "2007-06-28T00:00:00",
          "2007-07-05T00:00:00",
          "2007-07-06T00:00:00",
          "2007-07-08T00:00:00",
          "2007-08-17T00:00:00",
          "2007-08-18T00:00:00",
          "2007-08-19T00:00:00",
          "2007-08-22T00:00:00",
          "2007-09-06T00:00:00",
          "2007-09-07T00:00:00",
          "2008-02-02T00:00:00",
          "2008-02-03T00:00:00",
          "2008-02-04T00:00:00",
          "2008-02-06T00:00:00",
          "2008-02-10T00:00:00",
          "2008-05-25T00:00:00",
          "2008-05-26T00:00:00",
          "2008-06-02T00:00:00",
          "2008-06-03T00:00:00",
          "2008-06-04T00:00:00",
          "2008-06-06T00:00:00",
          "2008-06-08T00:00:00",
          "2008-07-04T00:00:00",
          "2008-08-15T00:00:00",
          "2008-08-17T00:00:00",
          "2008-09-04T00:00:00",
          "2009-01-30T00:00:00",
          "2009-01-31T00:00:00",
          "2009-05-31T00:00:00",
          "2009-06-01T00:00:00",
          "2009-06-08T00:00:00",
          "2009-06-11T00:00:00",
          "2009-07-11T00:00:00",
          "2009-07-12T00:00:00",
          "2009-07-13T00:00:00",
          "2009-07-14T00:00:00",
          "2009-08-22T00:00:00",
          "2009-08-27T00:00:00",
          "2009-08-31T00:00:00",
          "2009-09-09T00:00:00",
          "2009-09-10T00:00:00",
          "2010-02-05T00:00:00",
          "2010-02-08T00:00:00",
          "2010-05-31T00:00:00",
          "2010-06-09T00:00:00",
          "2010-06-11T00:00:00",
          "2010-06-14T00:00:00",
          "2010-07-23T00:00:00",
          "2010-07-24T00:00:00",
          "2010-07-26T00:00:00",
          "2010-07-28T00:00:00",
          "2010-08-21T00:00:00",
          "2010-08-22T00:00:00",
          "2010-08-23T00:00:00",
          "2010-08-25T00:00:00",
          "2010-08-26T00:00:00",
          "2010-09-10T00:00:00",
          "2011-02-10T00:00:00",
          "2011-02-11T00:00:00",
          "2011-02-12T00:00:00",
          "2011-02-14T00:00:00",
          "2011-02-16T00:00:00",
          "2011-05-29T00:00:00",
          "2011-05-30T00:00:00",
          "2011-06-05T00:00:00",
          "2011-06-06T00:00:00",
          "2011-06-08T00:00:00",
          "2011-06-09T00:00:00",
          "2011-06-13T00:00:00",
          "2011-08-22T00:00:00",
          "2011-08-23T00:00:00",
          "2011-08-26T00:00:00",
          "2011-09-06T00:00:00",
          "2011-09-07T00:00:00",
          "2011-09-08T00:00:00",
          "2012-02-10T00:00:00",
          "2012-02-11T00:00:00",
          "2012-02-12T00:00:00",
          "2012-05-16T00:00:00",
          "2012-05-18T00:00:00",
          "2012-05-30T00:00:00",
          "2012-08-18T00:00:00",
          "2012-08-20T00:00:00",
          "2012-08-24T00:00:00",
          "2012-09-04T00:00:00",
          "2012-09-05T00:00:00",
          "2012-09-06T00:00:00",
          "2013-02-07T00:00:00",
          "2013-02-08T00:00:00",
          "2013-02-09T00:00:00",
          "2013-02-14T00:00:00",
          "2013-06-02T00:00:00",
          "2013-08-26T00:00:00",
          "2013-08-28T00:00:00",
          "2013-08-30T00:00:00",
          "2014-06-04T00:00:00",
          "2014-06-13T00:00:00",
          "2014-06-17T00:00:00",
          "2014-08-23T00:00:00",
          "2014-08-26T00:00:00",
          "2014-09-11T00:00:00",
          "2014-09-12T00:00:00",
          "2015-02-12T00:00:00",
          "2015-02-13T00:00:00",
          "2015-02-16T00:00:00",
          "2015-06-02T00:00:00",
          "2015-06-10T00:00:00",
          "2015-06-13T00:00:00",
          "2015-06-17T00:00:00",
          "2015-06-20T00:00:00",
          "2015-07-10T00:00:00",
          "2015-07-11T00:00:00",
          "2015-07-12T00:00:00",
          "2015-07-13T00:00:00",
          "2015-07-14T00:00:00",
          "2015-07-16T00:00:00",
          "2015-07-18T00:00:00",
          "2015-08-22T00:00:00",
          "2015-08-23T00:00:00",
          "2015-08-26T00:00:00",
          "2015-09-07T00:00:00",
          "2016-02-12T00:00:00",
          "2016-02-16T00:00:00",
          "2016-05-31T00:00:00",
          "2016-06-07T00:00:00",
          "2016-06-11T00:00:00",
          "2016-06-14T00:00:00",
          "2016-08-06T00:00:00",
          "2016-08-07T00:00:00",
          "2016-08-10T00:00:00",
          "2016-08-20T00:00:00",
          "2016-08-23T00:00:00",
          "2016-08-29T00:00:00",
          "2016-09-08T00:00:00",
          "2017-02-09T00:00:00",
          "2017-02-15T00:00:00",
          "2017-02-17T00:00:00",
          "2017-05-28T00:00:00",
          "2017-06-06T00:00:00",
          "2017-06-07T00:00:00",
          "2017-06-13T00:00:00",
          "2017-07-22T00:00:00",
          "2017-07-23T00:00:00",
          "2017-07-24T00:00:00",
          "2017-07-25T00:00:00",
          "2017-07-26T00:00:00",
          "2017-07-27T00:00:00",
          "2017-07-28T00:00:00",
          "2017-08-18T00:00:00",
          "2017-08-19T00:00:00",
          "2017-08-21T00:00:00",
          "2017-08-24T00:00:00",
          "2017-08-26T00:00:00",
          "2017-09-05T00:00:00",
          "2017-09-06T00:00:00",
          "2017-09-08T00:00:00",
          "2018-02-21T00:00:00",
          "2018-02-22T00:00:00",
          "2018-02-26T00:00:00",
          "2018-03-02T00:00:00",
          "2018-05-13T00:00:00",
          "2018-06-08T00:00:00",
          "2018-06-09T00:00:00",
          "2018-06-10T00:00:00",
          "2018-06-11T00:00:00",
          "2018-06-13T00:00:00",
          "2018-09-06T00:00:00",
          "2018-09-14T00:00:00",
          "2018-09-15T00:00:00",
          "2018-09-20T00:00:00",
          "2018-09-21T00:00:00",
          "2018-09-22T00:00:00",
          "2019-02-07T00:00:00",
          "2019-06-04T00:00:00",
          "2019-06-05T00:00:00",
          "2019-06-07T00:00:00",
          "2019-06-11T00:00:00",
          "2019-07-03T00:00:00",
          "2019-07-19T00:00:00",
          "2019-07-20T00:00:00",
          "2019-07-21T00:00:00",
          "2019-07-22T00:00:00",
          "2019-07-23T00:00:00",
          "2019-07-26T00:00:00",
          "2019-07-27T00:00:00",
          "2019-08-04T00:00:00",
          "2019-08-16T00:00:00",
          "2019-08-17T00:00:00",
          "2019-08-23T00:00:00",
          "2019-09-03T00:00:00",
          "2019-09-04T00:00:00",
          "2020-02-16T00:00:00",
          "2020-06-26T00:00:00",
          "2020-06-30T00:00:00",
          "2020-07-05T00:00:00",
          "2020-07-22T00:00:00",
          "2020-07-26T00:00:00",
          "2020-08-14T00:00:00",
          "2020-08-15T00:00:00",
          "2020-08-30T00:00:00",
          "2020-08-31T00:00:00"
         ],
         "y": [
          8.035348,
          4.015516000000001,
          6.338296000000001,
          3.3998040000000005,
          3.041844,
          5.814916,
          16.923594000000005,
          5.136204,
          4.252648000000001,
          2.827888,
          4.068096,
          5.380025727272728,
          9.113796,
          11.523857090909091,
          0.860712,
          0.45908400000000005,
          3.877790000000001,
          1.023154,
          7.296318000000001,
          18.356545999999998,
          1.445324,
          2.0890940000000002,
          2.5290920000000003,
          7.480592000000001,
          13.149048000000002,
          7.742032000000001,
          1.4076440000000001,
          1.618236,
          8.44827725,
          2.5781159999999996,
          13.414944,
          5.568436,
          4.060796,
          1.559128,
          2.432852,
          1.1318840000000001,
          3.8516640000000004,
          1.5928615000000002,
          4.806784,
          9.825992,
          23.736716,
          21.63544,
          9.397955999999999,
          13.352768000000001,
          7.271204000000001,
          27.293322000000003,
          5.620008,
          16.46890133333333,
          26.189176,
          7.461732000000001,
          20.431932,
          9.15438,
          14.3330985,
          9.876591333333335,
          8.982811000000002,
          20.4663055,
          18.1755745,
          5.18619175,
          22.975686000000003,
          3.711416,
          3.3982640000000006,
          9.646104000000001,
          4.392764,
          2.6159559999999997,
          5.873172,
          4.667764000000001,
          3.452648,
          18.362308000000002,
          21.173104000000002,
          30.02101200000001,
          6.832536000000001,
          8.462904,
          8.767688000000001,
          26.039968000000002,
          30.380864,
          5.377428000000001,
          25.409504,
          26.9133274,
          10.744238666666668,
          16.446734000000003,
          17.996852999999998,
          8.256618333333334,
          2.1760720000000005,
          3.6025800000000006,
          5.241988,
          4.780323999999999,
          3.1030439999999997,
          5.149984,
          6.559775999999999,
          31.715511999999997,
          26.31447866666667,
          29.975843999999995,
          19.593912000000003,
          27.929960799999996,
          29.227812999999998,
          32.267905,
          5.170808,
          9.53878625,
          7.014220000000001,
          6.769308,
          5.199849,
          22.484812,
          5.98854,
          6.203324000000001,
          10.595691666666667,
          3.831092,
          3.7775240000000005,
          2.7177480000000003,
          17.236464,
          3.8461040000000004,
          2.344872,
          13.498708,
          21.711795333333335,
          15.676170666666666,
          14.430220000000004,
          29.054133999999998,
          23.815638,
          28.150312000000003,
          19.560464000000003,
          16.33851,
          18.79235866666667,
          16.341136666666667,
          12.427480000000001,
          19.232708,
          17.065936,
          29.813548000000004,
          21.548744,
          13.154073,
          21.59668333333333,
          9.924496000000001,
          20.834850000000003,
          11.488249,
          9.280564000000002,
          9.436016000000002,
          9.917952,
          5.429524000000001,
          12.437462,
          2.5745,
          3.5394640000000006,
          2.4128760000000002,
          3.777444,
          18.346316000000005,
          34.862918,
          25.358924,
          11.224421,
          26.635399999999997,
          12.293432000000003,
          10.938344000000003,
          10.104572,
          15.427803999999998,
          9.980696,
          6.529312000000001,
          10.01453066666667,
          19.004692000000002,
          11.933005999999999,
          13.155780000000002,
          10.212576,
          3.954553333333333,
          6.321284,
          13.518208,
          2.477403,
          11.905679999999998,
          6.119952000000001,
          3.2322480000000002,
          1.8740900000000003,
          2.7748559999999998,
          2.932665,
          21.881480000000003,
          10.886932,
          22.036664000000002,
          11.231912000000001,
          15.262460000000003,
          15.821308,
          10.977236000000001,
          21.722504000000004,
          6.26736,
          17.113236,
          10.28228,
          9.016896000000001,
          2.3417480000000004,
          7.753348,
          3.211029,
          22.38143,
          4.4407760000000005,
          8.290508,
          11.656908000000001,
          9.33612,
          16.2015695,
          11.872224,
          6.0021840000000015,
          8.82446,
          5.093784000000001,
          19.973944000000003,
          8.370898,
          9.654028,
          9.610018,
          3.622963999999999,
          6.503660000000001,
          28.242255999999998,
          4.755917,
          5.226634666666667,
          24.896472000000003,
          11.642692000000002,
          8.775964,
          17.05496,
          5.245964000000001,
          3.6400799999999998,
          3.5966519999999997,
          14.236684,
          15.171199999999999,
          4.053676,
          3.5532719999999998,
          3.8461760000000007,
          4.955528,
          6.862068000000001,
          12.207764000000003,
          5.226848,
          16.066832,
          4.3718520000000005,
          9.73662,
          5.795135999999999,
          3.305632,
          5.086228,
          7.466452,
          6.353888000000001,
          9.948768000000001,
          5.427164000000001,
          6.3235,
          5.246288,
          3.923108,
          4.416568,
          31.31296799999999,
          16.963212000000002,
          15.496228000000002,
          19.963392000000002,
          7.636554,
          16.654768,
          19.599924,
          7.4446,
          25.069560000000003,
          3.742872,
          7.8506240000000025,
          4.622524,
          6.784676000000001,
          4.153964,
          3.9173000000000004,
          5.706860000000001,
          3.915396,
          3.6924359999999994,
          1.7812080000000003,
          2.090204,
          6.195027999999999,
          18.14402,
          10.673312000000001,
          33.473963999999995,
          31.7837,
          23.715619999999998,
          30.666815999999997,
          14.011404000000002,
          12.269492000000001,
          32.952904,
          8.238935999999999,
          7.518362000000001,
          1.922298,
          11.880586,
          20.294176,
          9.365196000000001,
          16.85128,
          17.958584000000002,
          13.370336000000002,
          16.622816,
          6.196400000000001,
          23.465044,
          9.909396000000001,
          5.919944000000001,
          5.505724000000001,
          4.069211999999999,
          1.16982,
          4.988588,
          9.832368,
          25.474452,
          19.339376,
          21.840792,
          3.8084360000000004,
          11.151328000000001,
          14.398976,
          30.792200000000005,
          15.144984000000001,
          9.236352,
          6.041036,
          7.472911999999998,
          12.373232000000002,
          3.337952,
          10.078164000000001,
          1.7423879999999998,
          1.1623920000000003,
          8.032816,
          2.851624,
          25.522636000000002,
          18.961014000000002,
          21.047252000000004,
          12.726760000000002,
          9.879340000000003,
          17.272048,
          25.829927999999995,
          4.970724000000001,
          13.029748000000001,
          13.520131999999998,
          14.979654,
          5.478324000000001,
          3.3551919999999997,
          2.357364,
          3.137868,
          3.5795559999999997,
          16.546792000000003,
          17.383584,
          23.396552000000003,
          7.9623680000000014,
          13.503672000000002,
          3.69118,
          7.203099999999999,
          5.842956000000001,
          4.5717680000000005,
          2.721696,
          9.194036,
          6.484636000000001,
          14.036696000000001,
          28.815328,
          5.7726999999999995,
          3.423836,
          10.268051999999999,
          5.178124,
          17.801416000000003,
          17.698059999999998,
          9.447208000000002,
          9.449088000000001,
          5.890536000000001,
          4.413296000000001,
          2.173812,
          4.296372,
          4.173572,
          17.027607999999997,
          9.370764000000003,
          13.071995999999999,
          23.566176,
          7.852880000000001,
          22.192636,
          7.601426000000001,
          15.075516000000002,
          8.670143999999999,
          9.494137000000002,
          12.768636,
          6.016428,
          8.870616000000002,
          8.192356000000002,
          4.864108000000001,
          7.547356,
          6.0897,
          10.49262,
          9.575456,
          21.09374,
          20.682368,
          15.319308,
          6.193748,
          7.860200000000001,
          10.592728000000001,
          2.0092079999999997,
          6.760776000000002,
          17.030928,
          3.433052,
          2.3111840000000003,
          2.174192,
          2.4974680000000005,
          14.498919999999998,
          6.768404,
          8.258896,
          7.419296,
          6.731774000000001,
          9.239168,
          16.119664,
          12.590108,
          15.136147999999999,
          5.1172320000000004,
          11.066386000000001,
          7.091076000000001,
          5.11686,
          8.319284,
          6.640836,
          11.647668000000001,
          3.04514,
          4.58148,
          3.032724,
          3.421868000000001,
          2.155288,
          5.773732,
          5.29112,
          5.9768040000000004,
          14.540771999999999,
          18.497812000000003,
          30.646536000000005,
          8.962856,
          16.591624,
          8.204464,
          6.284292000000001,
          2.0649640000000002,
          3.953996,
          1.3073720000000002,
          3.7540146666666665,
          1.1226720000000001,
          15.703824000000001,
          2.641620000000001,
          17.554628,
          6.936336000000001,
          15.646956,
          10.068736000000001,
          2.466232,
          15.792556000000003,
          11.382624,
          6.7994080000000015,
          6.200476000000001,
          10.541236000000001,
          17.978980000000004,
          5.933876,
          4.740136,
          2.724736,
          7.572116,
          4.2982000000000005,
          3.3293359999999996,
          20.54391,
          20.51554,
          12.175060000000002,
          7.0395720000000015,
          1.2573800000000004,
          7.678711999999999,
          1.980316,
          6.942504,
          6.0201
         ]
        },
        {
         "line": {
          "color": "firebrick"
         },
         "mode": "lines",
         "name": "Day Trend Line",
         "type": "scatter",
         "x": [
          "1995-09-24T00:00:00",
          "1995-09-25T00:00:00",
          "1996-03-06T00:00:00",
          "1997-03-14T00:00:00",
          "1997-03-15T00:00:00",
          "1997-03-16T00:00:00",
          "1997-03-17T00:00:00",
          "1997-03-18T00:00:00",
          "1997-03-24T00:00:00",
          "1997-03-25T00:00:00",
          "1997-03-26T00:00:00",
          "1997-03-29T00:00:00",
          "1997-04-10T00:00:00",
          "1997-06-16T00:00:00",
          "1997-07-03T00:00:00",
          "1997-07-04T00:00:00",
          "1997-07-05T00:00:00",
          "1997-07-06T00:00:00",
          "1997-07-07T00:00:00",
          "1997-07-08T00:00:00",
          "1997-07-09T00:00:00",
          "1997-07-10T00:00:00",
          "1997-07-11T00:00:00",
          "1997-07-18T00:00:00",
          "1997-08-29T00:00:00",
          "1997-08-30T00:00:00",
          "1997-08-31T00:00:00",
          "1997-09-01T00:00:00",
          "1997-09-04T00:00:00",
          "1997-09-05T00:00:00",
          "1997-09-10T00:00:00",
          "1997-09-28T00:00:00",
          "1997-12-02T00:00:00",
          "1998-01-20T00:00:00",
          "1998-02-21T00:00:00",
          "1998-02-24T00:00:00",
          "1998-02-27T00:00:00",
          "1998-02-28T00:00:00",
          "1998-03-03T00:00:00",
          "1998-04-09T00:00:00",
          "1998-05-13T00:00:00",
          "1998-05-17T00:00:00",
          "1998-05-18T00:00:00",
          "1998-05-19T00:00:00",
          "1998-05-20T00:00:00",
          "1998-05-27T00:00:00",
          "1998-06-03T00:00:00",
          "1998-06-05T00:00:00",
          "1998-06-09T00:00:00",
          "1998-06-15T00:00:00",
          "1998-06-18T00:00:00",
          "1998-06-24T00:00:00",
          "1998-07-05T00:00:00",
          "1998-07-06T00:00:00",
          "1998-07-07T00:00:00",
          "1998-07-08T00:00:00",
          "1998-07-09T00:00:00",
          "1998-07-21T00:00:00",
          "1998-07-23T00:00:00",
          "1998-08-27T00:00:00",
          "1998-09-05T00:00:00",
          "1998-10-07T00:00:00",
          "1998-10-10T00:00:00",
          "1998-10-13T00:00:00",
          "1998-10-14T00:00:00",
          "1999-02-18T00:00:00",
          "1999-02-21T00:00:00",
          "1999-05-10T00:00:00",
          "1999-05-11T00:00:00",
          "1999-05-20T00:00:00",
          "1999-05-24T00:00:00",
          "1999-06-18T00:00:00",
          "1999-06-19T00:00:00",
          "1999-06-20T00:00:00",
          "1999-06-24T00:00:00",
          "1999-07-05T00:00:00",
          "1999-07-08T00:00:00",
          "1999-07-09T00:00:00",
          "1999-07-10T00:00:00",
          "1999-07-11T00:00:00",
          "1999-07-12T00:00:00",
          "1999-07-13T00:00:00",
          "1999-08-26T00:00:00",
          "1999-08-27T00:00:00",
          "1999-09-06T00:00:00",
          "1999-09-27T00:00:00",
          "2000-02-15T00:00:00",
          "2000-05-08T00:00:00",
          "2000-05-10T00:00:00",
          "2000-06-18T00:00:00",
          "2000-06-19T00:00:00",
          "2000-07-06T00:00:00",
          "2000-07-07T00:00:00",
          "2000-07-08T00:00:00",
          "2000-07-12T00:00:00",
          "2000-07-13T00:00:00",
          "2000-08-03T00:00:00",
          "2000-08-04T00:00:00",
          "2000-08-05T00:00:00",
          "2000-08-07T00:00:00",
          "2000-08-10T00:00:00",
          "2000-09-15T00:00:00",
          "2000-09-26T00:00:00",
          "2000-09-27T00:00:00",
          "2000-10-01T00:00:00",
          "2000-10-02T00:00:00",
          "2001-02-11T00:00:00",
          "2001-02-16T00:00:00",
          "2001-02-17T00:00:00",
          "2001-02-19T00:00:00",
          "2001-03-23T00:00:00",
          "2001-05-31T00:00:00",
          "2001-06-02T00:00:00",
          "2001-06-03T00:00:00",
          "2001-06-04T00:00:00",
          "2001-06-05T00:00:00",
          "2001-06-06T00:00:00",
          "2001-06-07T00:00:00",
          "2001-06-08T00:00:00",
          "2001-06-09T00:00:00",
          "2001-06-10T00:00:00",
          "2001-06-12T00:00:00",
          "2001-06-16T00:00:00",
          "2001-06-21T00:00:00",
          "2001-06-22T00:00:00",
          "2001-06-23T00:00:00",
          "2001-06-24T00:00:00",
          "2001-07-04T00:00:00",
          "2001-07-06T00:00:00",
          "2001-08-29T00:00:00",
          "2001-09-19T00:00:00",
          "2001-09-22T00:00:00",
          "2001-09-23T00:00:00",
          "2001-09-25T00:00:00",
          "2001-09-26T00:00:00",
          "2001-09-28T00:00:00",
          "2001-09-30T00:00:00",
          "2002-02-11T00:00:00",
          "2002-02-13T00:00:00",
          "2002-02-14T00:00:00",
          "2002-03-05T00:00:00",
          "2002-05-03T00:00:00",
          "2002-05-05T00:00:00",
          "2002-05-06T00:00:00",
          "2002-06-19T00:00:00",
          "2002-06-26T00:00:00",
          "2002-07-01T00:00:00",
          "2002-07-02T00:00:00",
          "2002-07-03T00:00:00",
          "2002-07-04T00:00:00",
          "2002-07-05T00:00:00",
          "2002-07-19T00:00:00",
          "2002-07-22T00:00:00",
          "2002-07-23T00:00:00",
          "2002-08-18T00:00:00",
          "2002-08-27T00:00:00",
          "2002-09-03T00:00:00",
          "2002-09-19T00:00:00",
          "2002-09-21T00:00:00",
          "2002-10-19T00:00:00",
          "2002-10-23T00:00:00",
          "2003-02-12T00:00:00",
          "2003-02-14T00:00:00",
          "2003-02-15T00:00:00",
          "2003-02-16T00:00:00",
          "2003-02-17T00:00:00",
          "2003-02-21T00:00:00",
          "2003-05-19T00:00:00",
          "2003-05-29T00:00:00",
          "2003-05-30T00:00:00",
          "2003-05-31T00:00:00",
          "2003-06-01T00:00:00",
          "2003-06-03T00:00:00",
          "2003-06-09T00:00:00",
          "2003-06-10T00:00:00",
          "2003-09-01T00:00:00",
          "2003-09-02T00:00:00",
          "2003-09-03T00:00:00",
          "2003-09-06T00:00:00",
          "2003-09-26T00:00:00",
          "2004-02-20T00:00:00",
          "2004-02-27T00:00:00",
          "2004-05-29T00:00:00",
          "2004-05-30T00:00:00",
          "2004-06-03T00:00:00",
          "2004-06-04T00:00:00",
          "2004-06-07T00:00:00",
          "2004-06-14T00:00:00",
          "2004-08-22T00:00:00",
          "2004-08-23T00:00:00",
          "2004-08-24T00:00:00",
          "2004-09-05T00:00:00",
          "2004-09-06T00:00:00",
          "2004-10-27T00:00:00",
          "2005-02-15T00:00:00",
          "2005-02-16T00:00:00",
          "2005-02-18T00:00:00",
          "2005-02-19T00:00:00",
          "2005-02-23T00:00:00",
          "2005-03-12T00:00:00",
          "2005-03-13T00:00:00",
          "2005-05-27T00:00:00",
          "2005-06-03T00:00:00",
          "2005-06-06T00:00:00",
          "2005-06-15T00:00:00",
          "2005-07-29T00:00:00",
          "2005-08-13T00:00:00",
          "2005-08-18T00:00:00",
          "2005-08-21T00:00:00",
          "2005-08-23T00:00:00",
          "2005-08-28T00:00:00",
          "2005-09-08T00:00:00",
          "2006-02-06T00:00:00",
          "2006-02-10T00:00:00",
          "2006-02-13T00:00:00",
          "2006-04-21T00:00:00",
          "2006-07-14T00:00:00",
          "2006-07-17T00:00:00",
          "2006-08-24T00:00:00",
          "2006-08-27T00:00:00",
          "2006-09-22T00:00:00",
          "2006-09-24T00:00:00",
          "2006-09-28T00:00:00",
          "2006-10-02T00:00:00",
          "2006-10-04T00:00:00",
          "2007-02-10T00:00:00",
          "2007-02-11T00:00:00",
          "2007-02-12T00:00:00",
          "2007-02-15T00:00:00",
          "2007-02-16T00:00:00",
          "2007-02-18T00:00:00",
          "2007-05-26T00:00:00",
          "2007-06-02T00:00:00",
          "2007-06-03T00:00:00",
          "2007-06-04T00:00:00",
          "2007-06-27T00:00:00",
          "2007-06-28T00:00:00",
          "2007-07-05T00:00:00",
          "2007-07-06T00:00:00",
          "2007-07-08T00:00:00",
          "2007-08-17T00:00:00",
          "2007-08-18T00:00:00",
          "2007-08-19T00:00:00",
          "2007-08-22T00:00:00",
          "2007-09-06T00:00:00",
          "2007-09-07T00:00:00",
          "2008-02-02T00:00:00",
          "2008-02-03T00:00:00",
          "2008-02-04T00:00:00",
          "2008-02-06T00:00:00",
          "2008-02-10T00:00:00",
          "2008-05-25T00:00:00",
          "2008-05-26T00:00:00",
          "2008-06-02T00:00:00",
          "2008-06-03T00:00:00",
          "2008-06-04T00:00:00",
          "2008-06-06T00:00:00",
          "2008-06-08T00:00:00",
          "2008-07-04T00:00:00",
          "2008-08-15T00:00:00",
          "2008-08-17T00:00:00",
          "2008-09-04T00:00:00",
          "2009-01-30T00:00:00",
          "2009-01-31T00:00:00",
          "2009-05-31T00:00:00",
          "2009-06-01T00:00:00",
          "2009-06-08T00:00:00",
          "2009-06-11T00:00:00",
          "2009-07-11T00:00:00",
          "2009-07-12T00:00:00",
          "2009-07-13T00:00:00",
          "2009-07-14T00:00:00",
          "2009-08-22T00:00:00",
          "2009-08-27T00:00:00",
          "2009-08-31T00:00:00",
          "2009-09-09T00:00:00",
          "2009-09-10T00:00:00",
          "2010-02-05T00:00:00",
          "2010-02-08T00:00:00",
          "2010-05-31T00:00:00",
          "2010-06-09T00:00:00",
          "2010-06-11T00:00:00",
          "2010-06-14T00:00:00",
          "2010-07-23T00:00:00",
          "2010-07-24T00:00:00",
          "2010-07-26T00:00:00",
          "2010-07-28T00:00:00",
          "2010-08-21T00:00:00",
          "2010-08-22T00:00:00",
          "2010-08-23T00:00:00",
          "2010-08-25T00:00:00",
          "2010-08-26T00:00:00",
          "2010-09-10T00:00:00",
          "2011-02-10T00:00:00",
          "2011-02-11T00:00:00",
          "2011-02-12T00:00:00",
          "2011-02-14T00:00:00",
          "2011-02-16T00:00:00",
          "2011-05-29T00:00:00",
          "2011-05-30T00:00:00",
          "2011-06-05T00:00:00",
          "2011-06-06T00:00:00",
          "2011-06-08T00:00:00",
          "2011-06-09T00:00:00",
          "2011-06-13T00:00:00",
          "2011-08-22T00:00:00",
          "2011-08-23T00:00:00",
          "2011-08-26T00:00:00",
          "2011-09-06T00:00:00",
          "2011-09-07T00:00:00",
          "2011-09-08T00:00:00",
          "2012-02-10T00:00:00",
          "2012-02-11T00:00:00",
          "2012-02-12T00:00:00",
          "2012-05-16T00:00:00",
          "2012-05-18T00:00:00",
          "2012-05-30T00:00:00",
          "2012-08-18T00:00:00",
          "2012-08-20T00:00:00",
          "2012-08-24T00:00:00",
          "2012-09-04T00:00:00",
          "2012-09-05T00:00:00",
          "2012-09-06T00:00:00",
          "2013-02-07T00:00:00",
          "2013-02-08T00:00:00",
          "2013-02-09T00:00:00",
          "2013-02-14T00:00:00",
          "2013-06-02T00:00:00",
          "2013-08-26T00:00:00",
          "2013-08-28T00:00:00",
          "2013-08-30T00:00:00",
          "2014-06-04T00:00:00",
          "2014-06-13T00:00:00",
          "2014-06-17T00:00:00",
          "2014-08-23T00:00:00",
          "2014-08-26T00:00:00",
          "2014-09-11T00:00:00",
          "2014-09-12T00:00:00",
          "2015-02-12T00:00:00",
          "2015-02-13T00:00:00",
          "2015-02-16T00:00:00",
          "2015-06-02T00:00:00",
          "2015-06-10T00:00:00",
          "2015-06-13T00:00:00",
          "2015-06-17T00:00:00",
          "2015-06-20T00:00:00",
          "2015-07-10T00:00:00",
          "2015-07-11T00:00:00",
          "2015-07-12T00:00:00",
          "2015-07-13T00:00:00",
          "2015-07-14T00:00:00",
          "2015-07-16T00:00:00",
          "2015-07-18T00:00:00",
          "2015-08-22T00:00:00",
          "2015-08-23T00:00:00",
          "2015-08-26T00:00:00",
          "2015-09-07T00:00:00",
          "2016-02-12T00:00:00",
          "2016-02-16T00:00:00",
          "2016-05-31T00:00:00",
          "2016-06-07T00:00:00",
          "2016-06-11T00:00:00",
          "2016-06-14T00:00:00",
          "2016-08-06T00:00:00",
          "2016-08-07T00:00:00",
          "2016-08-10T00:00:00",
          "2016-08-20T00:00:00",
          "2016-08-23T00:00:00",
          "2016-08-29T00:00:00",
          "2016-09-08T00:00:00",
          "2017-02-09T00:00:00",
          "2017-02-15T00:00:00",
          "2017-02-17T00:00:00",
          "2017-05-28T00:00:00",
          "2017-06-06T00:00:00",
          "2017-06-07T00:00:00",
          "2017-06-13T00:00:00",
          "2017-07-22T00:00:00",
          "2017-07-23T00:00:00",
          "2017-07-24T00:00:00",
          "2017-07-25T00:00:00",
          "2017-07-26T00:00:00",
          "2017-07-27T00:00:00",
          "2017-07-28T00:00:00",
          "2017-08-18T00:00:00",
          "2017-08-19T00:00:00",
          "2017-08-21T00:00:00",
          "2017-08-24T00:00:00",
          "2017-08-26T00:00:00",
          "2017-09-05T00:00:00",
          "2017-09-06T00:00:00",
          "2017-09-08T00:00:00",
          "2018-02-21T00:00:00",
          "2018-02-22T00:00:00",
          "2018-02-26T00:00:00",
          "2018-03-02T00:00:00",
          "2018-05-13T00:00:00",
          "2018-06-08T00:00:00",
          "2018-06-09T00:00:00",
          "2018-06-10T00:00:00",
          "2018-06-11T00:00:00",
          "2018-06-13T00:00:00",
          "2018-09-06T00:00:00",
          "2018-09-14T00:00:00",
          "2018-09-15T00:00:00",
          "2018-09-20T00:00:00",
          "2018-09-21T00:00:00",
          "2018-09-22T00:00:00",
          "2019-02-07T00:00:00",
          "2019-06-04T00:00:00",
          "2019-06-05T00:00:00",
          "2019-06-07T00:00:00",
          "2019-06-11T00:00:00",
          "2019-07-03T00:00:00",
          "2019-07-19T00:00:00",
          "2019-07-20T00:00:00",
          "2019-07-21T00:00:00",
          "2019-07-22T00:00:00",
          "2019-07-23T00:00:00",
          "2019-07-26T00:00:00",
          "2019-07-27T00:00:00",
          "2019-08-04T00:00:00",
          "2019-08-16T00:00:00",
          "2019-08-17T00:00:00",
          "2019-08-23T00:00:00",
          "2019-09-03T00:00:00",
          "2019-09-04T00:00:00",
          "2020-02-16T00:00:00",
          "2020-06-26T00:00:00",
          "2020-06-30T00:00:00",
          "2020-07-05T00:00:00",
          "2020-07-22T00:00:00",
          "2020-07-26T00:00:00",
          "2020-08-14T00:00:00",
          "2020-08-15T00:00:00",
          "2020-08-30T00:00:00",
          "2020-08-31T00:00:00"
         ],
         "y": [
          9.167726603299883,
          9.169157798327728,
          9.397601296559975,
          9.884150600224011,
          9.885387288785331,
          9.886623615137216,
          9.887859579279667,
          9.889095181212683,
          9.896501186412646,
          9.897734252879618,
          9.898966957137155,
          9.902662896653156,
          9.917414055868024,
          9.998816107548324,
          10.019211741930711,
          10.020408225244761,
          10.021604346349376,
          10.022800105244556,
          10.023995501930301,
          10.025190536406612,
          10.026385208673489,
          10.02757951873093,
          10.028773466578935,
          10.0371209596508,
          10.086833204573514,
          10.088009041949777,
          10.089184517116605,
          10.090359630073998,
          10.093882795689566,
          10.09505645980922,
          10.100919347265965,
          10.121950764757225,
          10.196920490191772,
          10.252424478413921,
          10.288202557498755,
          10.291537736417627,
          10.294869655451587,
          10.295979570710703,
          10.299307143231443,
          10.340079169338772,
          10.377108168703566,
          10.381436993652962,
          10.382518294366724,
          10.383599232871052,
          10.384679809165943,
          10.392233701366013,
          10.399769845303773,
          10.401919769401077,
          10.406215271082466,
          10.412647657321502,
          10.41585896061365,
          10.422271787543202,
          10.433994770331893,
          10.435058322783345,
          10.436121513025364,
          10.437184341057947,
          10.438246806881097,
          10.450968144422962,
          10.453083296414517,
          10.489863925657673,
          10.499250084280666,
          10.5323854833287,
          10.535472910994123,
          10.538557078774632,
          10.539584410282599,
          10.667111473507738,
          10.670053292980345,
          10.74539637966334,
          10.74634800939942,
          10.754896377599561,
          10.758686234909874,
          10.782241542179186,
          10.783179045747305,
          10.784116187105989,
          10.787861130446379,
          10.79812984235407,
          10.800922793748944,
          10.801853053128367,
          10.802782950298353,
          10.803712485258906,
          10.804641658010022,
          10.805570468551705,
          10.846079545045209,
          10.846992056162321,
          10.856097245814537,
          10.875100244913138,
          10.998555016333832,
          11.067859875072102,
          11.06949908386624,
          11.101174068908776,
          11.101979003823732,
          11.115607479334473,
          11.116405894479604,
          11.117203947415298,
          11.120392537063728,
          11.121188778952249,
          11.137826188231726,
          11.13861446151268,
          11.139402372584197,
          11.14097710809893,
          11.143336494800266,
          11.171394864193037,
          11.179874623701913,
          11.180643337673384,
          11.183714571464916,
          11.184481474389212,
          11.282533185977035,
          11.28612320922998,
          11.286840127252265,
          11.288272876668529,
          11.310999825396186,
          11.358742689814397,
          11.360100824087079,
          11.360779347909267,
          11.36145750952202,
          11.362135308925339,
          11.362812746119221,
          11.363489821103672,
          11.364166533878684,
          11.364842884444265,
          11.365518872800408,
          11.366869762884392,
          11.369567196539142,
          11.372930838895293,
          11.37360248073822,
          11.374273760371711,
          11.374944677795767,
          11.38163393051741,
          11.382967434548519,
          11.418424382722973,
          11.431927955971968,
          11.433843998325028,
          11.43448195469051,
          11.43575678079317,
          11.43639365053035,
          11.437666303376401,
          11.438937507384715,
          11.520807723571153,
          11.521980406613181,
          11.522566204820041,
          11.533627550957796,
          11.567142497686449,
          11.568256502800029,
          11.568812962042667,
          11.592938581378204,
          11.596712093706552,
          11.599396593372326,
          11.599932406677176,
          11.60046785777259,
          11.601002946658571,
          11.601537673335118,
          11.608985814816094,
          11.610572608792857,
          11.611100815699576,
          11.624707059762603,
          11.629359865490734,
          11.632958430662041,
          11.641117075946156,
          11.642130386836842,
          11.656164611343808,
          11.658146319155257,
          11.711281225386934,
          11.71218877112264,
          11.71264200067634,
          11.713094868020605,
          11.713547373155436,
          11.715353771600409,
          11.753209131730646,
          11.757384650974304,
          11.757800210746778,
          11.758215408309816,
          11.75863024366342,
          11.759458827742325,
          11.761935886952598,
          11.762347462421289,
          11.795245564232633,
          11.795626714108796,
          11.79600750177552,
          11.797147691519092,
          11.804665648306207,
          11.855476690983215,
          11.85770103355863,
          11.885285748497704,
          11.885568739617018,
          11.886697081999916,
          11.886978262072056,
          11.887819629031858,
          11.889770141274514,
          11.908046905956748,
          11.908299109274097,
          11.908550950382011,
          11.91154479134105,
          11.91179192372631,
          11.923915385663939,
          11.947045118969875,
          11.947233211217252,
          11.947608309083702,
          11.947795314702773,
          11.948539715084712,
          11.951638762323828,
          11.951817799335334,
          11.96421327830882,
          11.965266235571871,
          11.9657120698288,
          11.967030013290099,
          11.973050956233177,
          11.974943272743387,
          11.975555934441713,
          11.975919184947491,
          11.976159540904169,
          11.976754092130752,
          11.978030230398968,
          11.99111794484659,
          11.991352354344233,
          11.9915243582684,
          11.9945163981167,
          11.995970480018933,
          11.99597514318419,
          11.995752048794362,
          11.99571216019913,
          11.995229906083518,
          11.99518266774891,
          11.995083844566476,
          11.994979226033083,
          11.994924743509777,
          11.988350132136656,
          11.988275622543753,
          11.988200750741417,
          11.987973962077794,
          11.987897641437716,
          11.987743913529256,
          11.978548961367457,
          11.977753563884374,
          11.977638486834767,
          11.977523047575724,
          11.974767974813707,
          11.974643842528227,
          11.97376477466569,
          11.973637744704732,
          11.973382598154508,
          11.967975411224769,
          11.967832806258112,
          11.967689839082018,
          11.96725876429713,
          11.965054492098979,
          11.964904642943623,
          11.938733246722126,
          11.938529428360976,
          11.93832524779039,
          11.937915800020914,
          11.937092557968743,
          11.913409710608212,
          11.913164962580922,
          11.911441584525706,
          11.911193938822937,
          11.910945930910732,
          11.910448828458016,
          11.909950277167562,
          11.903337266157367,
          11.892137474837138,
          11.891588214225802,
          11.886579671025505,
          11.840948935125141,
          11.840613634739132,
          11.797747947920996,
          11.79736882019337,
          11.794704784235801,
          11.793557621398179,
          11.781906699351683,
          11.781512721037227,
          11.781118380513336,
          11.780723677780008,
          11.765047747821072,
          11.762998170173116,
          11.761351988284922,
          11.75762688978455,
          11.757211178904,
          11.691692247353885,
          11.690282120466547,
          11.635304754578712,
          11.63068970749687,
          11.629660157174898,
          11.628113115121181,
          11.607704918895687,
          11.607174387624285,
          11.606112238453175,
          11.605048640444327,
          11.592172454994463,
          11.591631419649449,
          11.591090022095,
          11.590006140357799,
          11.589463656175047,
          11.581282928301569,
          11.493184388335157,
          11.492580690757912,
          11.49197663097123,
          11.490767424769565,
          11.489556769730159,
          11.425892203877948,
          11.425249387681736,
          11.421384884106335,
          11.420739532444081,
          11.419447742491265,
          11.418801304200704,
          11.416211928944115,
          11.36995973951749,
          11.369286135519314,
          11.36726315026818,
          11.359817647554198,
          11.359138610414501,
          11.358459211065368,
          11.24877319988216,
          11.248037295861188,
          11.24730102963078,
          11.176474738845783,
          11.17493302438291,
          11.16565231201313,
          11.10244796549429,
          11.100838155657659,
          11.09761418947118,
          11.088718400179987,
          11.087907518805997,
          11.08709627522257,
          10.957841793769921,
          10.956974407724092,
          10.956106659468826,
          10.95176248505098,
          10.85571811565392,
          10.77715661685006,
          10.775276598775019,
          10.773395131862237,
          10.497774039780534,
          10.48838326129995,
          10.48420016452994,
          10.413271778491433,
          10.410057848618452,
          10.392861833461778,
          10.391784003734289,
          10.222608866076376,
          10.22147525609592,
          10.218072252897935,
          10.095740322663945,
          10.086342556653419,
          10.082812417943797,
          10.078100495398878,
          10.074562750291124,
          10.050894474736072,
          10.049707257759254,
          10.048519678573,
          10.047331737177311,
          10.046143433572189,
          10.043765739733638,
          10.041386597057347,
          9.999517069613184,
          9.998314277630666,
          9.994703728426503,
          9.980228932760712,
          9.784779650450846,
          9.779714211497497,
          9.644673695481035,
          9.635529008314801,
          9.630295504183673,
          9.626366572886262,
          9.556417934497293,
          9.555088369212571,
          9.551097500101799,
          9.537771059452615,
          9.533766064173879,
          9.525746293961669,
          9.512351033519861,
          9.301490041972496,
          9.293100818136718,
          9.290301512515981,
          9.148488963361256,
          9.135548170209528,
          9.134108493256607,
          9.125462825140941,
          9.06894814361003,
          9.067491805023105,
          9.066035104226744,
          9.064578041220948,
          9.063120616005717,
          9.061662828581053,
          9.060204678946953,
          9.029499866251392,
          9.028033748009726,
          9.025100424898087,
          9.020697723659866,
          9.017760778453878,
          9.003054319857847,
          9.00158168184635,
          8.998635319195056,
          8.74903657077781,
          8.747502719371822,
          8.741363691653522,
          8.735218868584264,
          8.623621048323832,
          8.582860380631988,
          8.58128777281647,
          8.579714802791514,
          8.578141470557126,
          8.574993719460046,
          8.439875028448665,
          8.427023233267233,
          8.425415128927098,
          8.417369174084897,
          8.415758896488152,
          8.414148256681973,
          8.188406012739339,
          7.9916125901520205,
          7.989909224730514,
          7.986501407259197,
          7.979681425803347,
          7.9420679358977875,
          7.914602558843727,
          7.912882893997651,
          7.91116286694214,
          7.909442477677196,
          7.907721726202817,
          7.902557298523067,
          7.9008350982109485,
          7.887044456174339,
          7.866315027987242,
          7.864585221276991,
          7.854198774617348,
          7.83512308915918,
          7.833386762679101,
          7.541932435255523,
          7.303512846656608,
          7.296135062671059,
          7.286904682976838,
          7.255453658852164,
          7.248038205085388,
          7.212735656931685,
          7.210874005987142,
          7.1829057766868045,
          7.181038330391304
         ]
        },
        {
         "fill": "toself",
         "fillcolor": "rgba(255, 0, 0, 0.2)",
         "line": {
          "color": "rgba(0, 0, 0, 0)"
         },
         "name": "Day Confidence Interval",
         "type": "scatter",
         "x": [
          "1995-09-24T00:00:00",
          "1995-09-25T00:00:00",
          "1996-03-06T00:00:00",
          "1997-03-14T00:00:00",
          "1997-03-15T00:00:00",
          "1997-03-16T00:00:00",
          "1997-03-17T00:00:00",
          "1997-03-18T00:00:00",
          "1997-03-24T00:00:00",
          "1997-03-25T00:00:00",
          "1997-03-26T00:00:00",
          "1997-03-29T00:00:00",
          "1997-04-10T00:00:00",
          "1997-06-16T00:00:00",
          "1997-07-03T00:00:00",
          "1997-07-04T00:00:00",
          "1997-07-05T00:00:00",
          "1997-07-06T00:00:00",
          "1997-07-07T00:00:00",
          "1997-07-08T00:00:00",
          "1997-07-09T00:00:00",
          "1997-07-10T00:00:00",
          "1997-07-11T00:00:00",
          "1997-07-18T00:00:00",
          "1997-08-29T00:00:00",
          "1997-08-30T00:00:00",
          "1997-08-31T00:00:00",
          "1997-09-01T00:00:00",
          "1997-09-04T00:00:00",
          "1997-09-05T00:00:00",
          "1997-09-10T00:00:00",
          "1997-09-28T00:00:00",
          "1997-12-02T00:00:00",
          "1998-01-20T00:00:00",
          "1998-02-21T00:00:00",
          "1998-02-24T00:00:00",
          "1998-02-27T00:00:00",
          "1998-02-28T00:00:00",
          "1998-03-03T00:00:00",
          "1998-04-09T00:00:00",
          "1998-05-13T00:00:00",
          "1998-05-17T00:00:00",
          "1998-05-18T00:00:00",
          "1998-05-19T00:00:00",
          "1998-05-20T00:00:00",
          "1998-05-27T00:00:00",
          "1998-06-03T00:00:00",
          "1998-06-05T00:00:00",
          "1998-06-09T00:00:00",
          "1998-06-15T00:00:00",
          "1998-06-18T00:00:00",
          "1998-06-24T00:00:00",
          "1998-07-05T00:00:00",
          "1998-07-06T00:00:00",
          "1998-07-07T00:00:00",
          "1998-07-08T00:00:00",
          "1998-07-09T00:00:00",
          "1998-07-21T00:00:00",
          "1998-07-23T00:00:00",
          "1998-08-27T00:00:00",
          "1998-09-05T00:00:00",
          "1998-10-07T00:00:00",
          "1998-10-10T00:00:00",
          "1998-10-13T00:00:00",
          "1998-10-14T00:00:00",
          "1999-02-18T00:00:00",
          "1999-02-21T00:00:00",
          "1999-05-10T00:00:00",
          "1999-05-11T00:00:00",
          "1999-05-20T00:00:00",
          "1999-05-24T00:00:00",
          "1999-06-18T00:00:00",
          "1999-06-19T00:00:00",
          "1999-06-20T00:00:00",
          "1999-06-24T00:00:00",
          "1999-07-05T00:00:00",
          "1999-07-08T00:00:00",
          "1999-07-09T00:00:00",
          "1999-07-10T00:00:00",
          "1999-07-11T00:00:00",
          "1999-07-12T00:00:00",
          "1999-07-13T00:00:00",
          "1999-08-26T00:00:00",
          "1999-08-27T00:00:00",
          "1999-09-06T00:00:00",
          "1999-09-27T00:00:00",
          "2000-02-15T00:00:00",
          "2000-05-08T00:00:00",
          "2000-05-10T00:00:00",
          "2000-06-18T00:00:00",
          "2000-06-19T00:00:00",
          "2000-07-06T00:00:00",
          "2000-07-07T00:00:00",
          "2000-07-08T00:00:00",
          "2000-07-12T00:00:00",
          "2000-07-13T00:00:00",
          "2000-08-03T00:00:00",
          "2000-08-04T00:00:00",
          "2000-08-05T00:00:00",
          "2000-08-07T00:00:00",
          "2000-08-10T00:00:00",
          "2000-09-15T00:00:00",
          "2000-09-26T00:00:00",
          "2000-09-27T00:00:00",
          "2000-10-01T00:00:00",
          "2000-10-02T00:00:00",
          "2001-02-11T00:00:00",
          "2001-02-16T00:00:00",
          "2001-02-17T00:00:00",
          "2001-02-19T00:00:00",
          "2001-03-23T00:00:00",
          "2001-05-31T00:00:00",
          "2001-06-02T00:00:00",
          "2001-06-03T00:00:00",
          "2001-06-04T00:00:00",
          "2001-06-05T00:00:00",
          "2001-06-06T00:00:00",
          "2001-06-07T00:00:00",
          "2001-06-08T00:00:00",
          "2001-06-09T00:00:00",
          "2001-06-10T00:00:00",
          "2001-06-12T00:00:00",
          "2001-06-16T00:00:00",
          "2001-06-21T00:00:00",
          "2001-06-22T00:00:00",
          "2001-06-23T00:00:00",
          "2001-06-24T00:00:00",
          "2001-07-04T00:00:00",
          "2001-07-06T00:00:00",
          "2001-08-29T00:00:00",
          "2001-09-19T00:00:00",
          "2001-09-22T00:00:00",
          "2001-09-23T00:00:00",
          "2001-09-25T00:00:00",
          "2001-09-26T00:00:00",
          "2001-09-28T00:00:00",
          "2001-09-30T00:00:00",
          "2002-02-11T00:00:00",
          "2002-02-13T00:00:00",
          "2002-02-14T00:00:00",
          "2002-03-05T00:00:00",
          "2002-05-03T00:00:00",
          "2002-05-05T00:00:00",
          "2002-05-06T00:00:00",
          "2002-06-19T00:00:00",
          "2002-06-26T00:00:00",
          "2002-07-01T00:00:00",
          "2002-07-02T00:00:00",
          "2002-07-03T00:00:00",
          "2002-07-04T00:00:00",
          "2002-07-05T00:00:00",
          "2002-07-19T00:00:00",
          "2002-07-22T00:00:00",
          "2002-07-23T00:00:00",
          "2002-08-18T00:00:00",
          "2002-08-27T00:00:00",
          "2002-09-03T00:00:00",
          "2002-09-19T00:00:00",
          "2002-09-21T00:00:00",
          "2002-10-19T00:00:00",
          "2002-10-23T00:00:00",
          "2003-02-12T00:00:00",
          "2003-02-14T00:00:00",
          "2003-02-15T00:00:00",
          "2003-02-16T00:00:00",
          "2003-02-17T00:00:00",
          "2003-02-21T00:00:00",
          "2003-05-19T00:00:00",
          "2003-05-29T00:00:00",
          "2003-05-30T00:00:00",
          "2003-05-31T00:00:00",
          "2003-06-01T00:00:00",
          "2003-06-03T00:00:00",
          "2003-06-09T00:00:00",
          "2003-06-10T00:00:00",
          "2003-09-01T00:00:00",
          "2003-09-02T00:00:00",
          "2003-09-03T00:00:00",
          "2003-09-06T00:00:00",
          "2003-09-26T00:00:00",
          "2004-02-20T00:00:00",
          "2004-02-27T00:00:00",
          "2004-05-29T00:00:00",
          "2004-05-30T00:00:00",
          "2004-06-03T00:00:00",
          "2004-06-04T00:00:00",
          "2004-06-07T00:00:00",
          "2004-06-14T00:00:00",
          "2004-08-22T00:00:00",
          "2004-08-23T00:00:00",
          "2004-08-24T00:00:00",
          "2004-09-05T00:00:00",
          "2004-09-06T00:00:00",
          "2004-10-27T00:00:00",
          "2005-02-15T00:00:00",
          "2005-02-16T00:00:00",
          "2005-02-18T00:00:00",
          "2005-02-19T00:00:00",
          "2005-02-23T00:00:00",
          "2005-03-12T00:00:00",
          "2005-03-13T00:00:00",
          "2005-05-27T00:00:00",
          "2005-06-03T00:00:00",
          "2005-06-06T00:00:00",
          "2005-06-15T00:00:00",
          "2005-07-29T00:00:00",
          "2005-08-13T00:00:00",
          "2005-08-18T00:00:00",
          "2005-08-21T00:00:00",
          "2005-08-23T00:00:00",
          "2005-08-28T00:00:00",
          "2005-09-08T00:00:00",
          "2006-02-06T00:00:00",
          "2006-02-10T00:00:00",
          "2006-02-13T00:00:00",
          "2006-04-21T00:00:00",
          "2006-07-14T00:00:00",
          "2006-07-17T00:00:00",
          "2006-08-24T00:00:00",
          "2006-08-27T00:00:00",
          "2006-09-22T00:00:00",
          "2006-09-24T00:00:00",
          "2006-09-28T00:00:00",
          "2006-10-02T00:00:00",
          "2006-10-04T00:00:00",
          "2007-02-10T00:00:00",
          "2007-02-11T00:00:00",
          "2007-02-12T00:00:00",
          "2007-02-15T00:00:00",
          "2007-02-16T00:00:00",
          "2007-02-18T00:00:00",
          "2007-05-26T00:00:00",
          "2007-06-02T00:00:00",
          "2007-06-03T00:00:00",
          "2007-06-04T00:00:00",
          "2007-06-27T00:00:00",
          "2007-06-28T00:00:00",
          "2007-07-05T00:00:00",
          "2007-07-06T00:00:00",
          "2007-07-08T00:00:00",
          "2007-08-17T00:00:00",
          "2007-08-18T00:00:00",
          "2007-08-19T00:00:00",
          "2007-08-22T00:00:00",
          "2007-09-06T00:00:00",
          "2007-09-07T00:00:00",
          "2008-02-02T00:00:00",
          "2008-02-03T00:00:00",
          "2008-02-04T00:00:00",
          "2008-02-06T00:00:00",
          "2008-02-10T00:00:00",
          "2008-05-25T00:00:00",
          "2008-05-26T00:00:00",
          "2008-06-02T00:00:00",
          "2008-06-03T00:00:00",
          "2008-06-04T00:00:00",
          "2008-06-06T00:00:00",
          "2008-06-08T00:00:00",
          "2008-07-04T00:00:00",
          "2008-08-15T00:00:00",
          "2008-08-17T00:00:00",
          "2008-09-04T00:00:00",
          "2009-01-30T00:00:00",
          "2009-01-31T00:00:00",
          "2009-05-31T00:00:00",
          "2009-06-01T00:00:00",
          "2009-06-08T00:00:00",
          "2009-06-11T00:00:00",
          "2009-07-11T00:00:00",
          "2009-07-12T00:00:00",
          "2009-07-13T00:00:00",
          "2009-07-14T00:00:00",
          "2009-08-22T00:00:00",
          "2009-08-27T00:00:00",
          "2009-08-31T00:00:00",
          "2009-09-09T00:00:00",
          "2009-09-10T00:00:00",
          "2010-02-05T00:00:00",
          "2010-02-08T00:00:00",
          "2010-05-31T00:00:00",
          "2010-06-09T00:00:00",
          "2010-06-11T00:00:00",
          "2010-06-14T00:00:00",
          "2010-07-23T00:00:00",
          "2010-07-24T00:00:00",
          "2010-07-26T00:00:00",
          "2010-07-28T00:00:00",
          "2010-08-21T00:00:00",
          "2010-08-22T00:00:00",
          "2010-08-23T00:00:00",
          "2010-08-25T00:00:00",
          "2010-08-26T00:00:00",
          "2010-09-10T00:00:00",
          "2011-02-10T00:00:00",
          "2011-02-11T00:00:00",
          "2011-02-12T00:00:00",
          "2011-02-14T00:00:00",
          "2011-02-16T00:00:00",
          "2011-05-29T00:00:00",
          "2011-05-30T00:00:00",
          "2011-06-05T00:00:00",
          "2011-06-06T00:00:00",
          "2011-06-08T00:00:00",
          "2011-06-09T00:00:00",
          "2011-06-13T00:00:00",
          "2011-08-22T00:00:00",
          "2011-08-23T00:00:00",
          "2011-08-26T00:00:00",
          "2011-09-06T00:00:00",
          "2011-09-07T00:00:00",
          "2011-09-08T00:00:00",
          "2012-02-10T00:00:00",
          "2012-02-11T00:00:00",
          "2012-02-12T00:00:00",
          "2012-05-16T00:00:00",
          "2012-05-18T00:00:00",
          "2012-05-30T00:00:00",
          "2012-08-18T00:00:00",
          "2012-08-20T00:00:00",
          "2012-08-24T00:00:00",
          "2012-09-04T00:00:00",
          "2012-09-05T00:00:00",
          "2012-09-06T00:00:00",
          "2013-02-07T00:00:00",
          "2013-02-08T00:00:00",
          "2013-02-09T00:00:00",
          "2013-02-14T00:00:00",
          "2013-06-02T00:00:00",
          "2013-08-26T00:00:00",
          "2013-08-28T00:00:00",
          "2013-08-30T00:00:00",
          "2014-06-04T00:00:00",
          "2014-06-13T00:00:00",
          "2014-06-17T00:00:00",
          "2014-08-23T00:00:00",
          "2014-08-26T00:00:00",
          "2014-09-11T00:00:00",
          "2014-09-12T00:00:00",
          "2015-02-12T00:00:00",
          "2015-02-13T00:00:00",
          "2015-02-16T00:00:00",
          "2015-06-02T00:00:00",
          "2015-06-10T00:00:00",
          "2015-06-13T00:00:00",
          "2015-06-17T00:00:00",
          "2015-06-20T00:00:00",
          "2015-07-10T00:00:00",
          "2015-07-11T00:00:00",
          "2015-07-12T00:00:00",
          "2015-07-13T00:00:00",
          "2015-07-14T00:00:00",
          "2015-07-16T00:00:00",
          "2015-07-18T00:00:00",
          "2015-08-22T00:00:00",
          "2015-08-23T00:00:00",
          "2015-08-26T00:00:00",
          "2015-09-07T00:00:00",
          "2016-02-12T00:00:00",
          "2016-02-16T00:00:00",
          "2016-05-31T00:00:00",
          "2016-06-07T00:00:00",
          "2016-06-11T00:00:00",
          "2016-06-14T00:00:00",
          "2016-08-06T00:00:00",
          "2016-08-07T00:00:00",
          "2016-08-10T00:00:00",
          "2016-08-20T00:00:00",
          "2016-08-23T00:00:00",
          "2016-08-29T00:00:00",
          "2016-09-08T00:00:00",
          "2017-02-09T00:00:00",
          "2017-02-15T00:00:00",
          "2017-02-17T00:00:00",
          "2017-05-28T00:00:00",
          "2017-06-06T00:00:00",
          "2017-06-07T00:00:00",
          "2017-06-13T00:00:00",
          "2017-07-22T00:00:00",
          "2017-07-23T00:00:00",
          "2017-07-24T00:00:00",
          "2017-07-25T00:00:00",
          "2017-07-26T00:00:00",
          "2017-07-27T00:00:00",
          "2017-07-28T00:00:00",
          "2017-08-18T00:00:00",
          "2017-08-19T00:00:00",
          "2017-08-21T00:00:00",
          "2017-08-24T00:00:00",
          "2017-08-26T00:00:00",
          "2017-09-05T00:00:00",
          "2017-09-06T00:00:00",
          "2017-09-08T00:00:00",
          "2018-02-21T00:00:00",
          "2018-02-22T00:00:00",
          "2018-02-26T00:00:00",
          "2018-03-02T00:00:00",
          "2018-05-13T00:00:00",
          "2018-06-08T00:00:00",
          "2018-06-09T00:00:00",
          "2018-06-10T00:00:00",
          "2018-06-11T00:00:00",
          "2018-06-13T00:00:00",
          "2018-09-06T00:00:00",
          "2018-09-14T00:00:00",
          "2018-09-15T00:00:00",
          "2018-09-20T00:00:00",
          "2018-09-21T00:00:00",
          "2018-09-22T00:00:00",
          "2019-02-07T00:00:00",
          "2019-06-04T00:00:00",
          "2019-06-05T00:00:00",
          "2019-06-07T00:00:00",
          "2019-06-11T00:00:00",
          "2019-07-03T00:00:00",
          "2019-07-19T00:00:00",
          "2019-07-20T00:00:00",
          "2019-07-21T00:00:00",
          "2019-07-22T00:00:00",
          "2019-07-23T00:00:00",
          "2019-07-26T00:00:00",
          "2019-07-27T00:00:00",
          "2019-08-04T00:00:00",
          "2019-08-16T00:00:00",
          "2019-08-17T00:00:00",
          "2019-08-23T00:00:00",
          "2019-09-03T00:00:00",
          "2019-09-04T00:00:00",
          "2020-02-16T00:00:00",
          "2020-06-26T00:00:00",
          "2020-06-30T00:00:00",
          "2020-07-05T00:00:00",
          "2020-07-22T00:00:00",
          "2020-07-26T00:00:00",
          "2020-08-14T00:00:00",
          "2020-08-15T00:00:00",
          "2020-08-30T00:00:00",
          "2020-08-31T00:00:00",
          "2020-08-31T00:00:00",
          "2020-08-30T00:00:00",
          "2020-08-15T00:00:00",
          "2020-08-14T00:00:00",
          "2020-07-26T00:00:00",
          "2020-07-22T00:00:00",
          "2020-07-05T00:00:00",
          "2020-06-30T00:00:00",
          "2020-06-26T00:00:00",
          "2020-02-16T00:00:00",
          "2019-09-04T00:00:00",
          "2019-09-03T00:00:00",
          "2019-08-23T00:00:00",
          "2019-08-17T00:00:00",
          "2019-08-16T00:00:00",
          "2019-08-04T00:00:00",
          "2019-07-27T00:00:00",
          "2019-07-26T00:00:00",
          "2019-07-23T00:00:00",
          "2019-07-22T00:00:00",
          "2019-07-21T00:00:00",
          "2019-07-20T00:00:00",
          "2019-07-19T00:00:00",
          "2019-07-03T00:00:00",
          "2019-06-11T00:00:00",
          "2019-06-07T00:00:00",
          "2019-06-05T00:00:00",
          "2019-06-04T00:00:00",
          "2019-02-07T00:00:00",
          "2018-09-22T00:00:00",
          "2018-09-21T00:00:00",
          "2018-09-20T00:00:00",
          "2018-09-15T00:00:00",
          "2018-09-14T00:00:00",
          "2018-09-06T00:00:00",
          "2018-06-13T00:00:00",
          "2018-06-11T00:00:00",
          "2018-06-10T00:00:00",
          "2018-06-09T00:00:00",
          "2018-06-08T00:00:00",
          "2018-05-13T00:00:00",
          "2018-03-02T00:00:00",
          "2018-02-26T00:00:00",
          "2018-02-22T00:00:00",
          "2018-02-21T00:00:00",
          "2017-09-08T00:00:00",
          "2017-09-06T00:00:00",
          "2017-09-05T00:00:00",
          "2017-08-26T00:00:00",
          "2017-08-24T00:00:00",
          "2017-08-21T00:00:00",
          "2017-08-19T00:00:00",
          "2017-08-18T00:00:00",
          "2017-07-28T00:00:00",
          "2017-07-27T00:00:00",
          "2017-07-26T00:00:00",
          "2017-07-25T00:00:00",
          "2017-07-24T00:00:00",
          "2017-07-23T00:00:00",
          "2017-07-22T00:00:00",
          "2017-06-13T00:00:00",
          "2017-06-07T00:00:00",
          "2017-06-06T00:00:00",
          "2017-05-28T00:00:00",
          "2017-02-17T00:00:00",
          "2017-02-15T00:00:00",
          "2017-02-09T00:00:00",
          "2016-09-08T00:00:00",
          "2016-08-29T00:00:00",
          "2016-08-23T00:00:00",
          "2016-08-20T00:00:00",
          "2016-08-10T00:00:00",
          "2016-08-07T00:00:00",
          "2016-08-06T00:00:00",
          "2016-06-14T00:00:00",
          "2016-06-11T00:00:00",
          "2016-06-07T00:00:00",
          "2016-05-31T00:00:00",
          "2016-02-16T00:00:00",
          "2016-02-12T00:00:00",
          "2015-09-07T00:00:00",
          "2015-08-26T00:00:00",
          "2015-08-23T00:00:00",
          "2015-08-22T00:00:00",
          "2015-07-18T00:00:00",
          "2015-07-16T00:00:00",
          "2015-07-14T00:00:00",
          "2015-07-13T00:00:00",
          "2015-07-12T00:00:00",
          "2015-07-11T00:00:00",
          "2015-07-10T00:00:00",
          "2015-06-20T00:00:00",
          "2015-06-17T00:00:00",
          "2015-06-13T00:00:00",
          "2015-06-10T00:00:00",
          "2015-06-02T00:00:00",
          "2015-02-16T00:00:00",
          "2015-02-13T00:00:00",
          "2015-02-12T00:00:00",
          "2014-09-12T00:00:00",
          "2014-09-11T00:00:00",
          "2014-08-26T00:00:00",
          "2014-08-23T00:00:00",
          "2014-06-17T00:00:00",
          "2014-06-13T00:00:00",
          "2014-06-04T00:00:00",
          "2013-08-30T00:00:00",
          "2013-08-28T00:00:00",
          "2013-08-26T00:00:00",
          "2013-06-02T00:00:00",
          "2013-02-14T00:00:00",
          "2013-02-09T00:00:00",
          "2013-02-08T00:00:00",
          "2013-02-07T00:00:00",
          "2012-09-06T00:00:00",
          "2012-09-05T00:00:00",
          "2012-09-04T00:00:00",
          "2012-08-24T00:00:00",
          "2012-08-20T00:00:00",
          "2012-08-18T00:00:00",
          "2012-05-30T00:00:00",
          "2012-05-18T00:00:00",
          "2012-05-16T00:00:00",
          "2012-02-12T00:00:00",
          "2012-02-11T00:00:00",
          "2012-02-10T00:00:00",
          "2011-09-08T00:00:00",
          "2011-09-07T00:00:00",
          "2011-09-06T00:00:00",
          "2011-08-26T00:00:00",
          "2011-08-23T00:00:00",
          "2011-08-22T00:00:00",
          "2011-06-13T00:00:00",
          "2011-06-09T00:00:00",
          "2011-06-08T00:00:00",
          "2011-06-06T00:00:00",
          "2011-06-05T00:00:00",
          "2011-05-30T00:00:00",
          "2011-05-29T00:00:00",
          "2011-02-16T00:00:00",
          "2011-02-14T00:00:00",
          "2011-02-12T00:00:00",
          "2011-02-11T00:00:00",
          "2011-02-10T00:00:00",
          "2010-09-10T00:00:00",
          "2010-08-26T00:00:00",
          "2010-08-25T00:00:00",
          "2010-08-23T00:00:00",
          "2010-08-22T00:00:00",
          "2010-08-21T00:00:00",
          "2010-07-28T00:00:00",
          "2010-07-26T00:00:00",
          "2010-07-24T00:00:00",
          "2010-07-23T00:00:00",
          "2010-06-14T00:00:00",
          "2010-06-11T00:00:00",
          "2010-06-09T00:00:00",
          "2010-05-31T00:00:00",
          "2010-02-08T00:00:00",
          "2010-02-05T00:00:00",
          "2009-09-10T00:00:00",
          "2009-09-09T00:00:00",
          "2009-08-31T00:00:00",
          "2009-08-27T00:00:00",
          "2009-08-22T00:00:00",
          "2009-07-14T00:00:00",
          "2009-07-13T00:00:00",
          "2009-07-12T00:00:00",
          "2009-07-11T00:00:00",
          "2009-06-11T00:00:00",
          "2009-06-08T00:00:00",
          "2009-06-01T00:00:00",
          "2009-05-31T00:00:00",
          "2009-01-31T00:00:00",
          "2009-01-30T00:00:00",
          "2008-09-04T00:00:00",
          "2008-08-17T00:00:00",
          "2008-08-15T00:00:00",
          "2008-07-04T00:00:00",
          "2008-06-08T00:00:00",
          "2008-06-06T00:00:00",
          "2008-06-04T00:00:00",
          "2008-06-03T00:00:00",
          "2008-06-02T00:00:00",
          "2008-05-26T00:00:00",
          "2008-05-25T00:00:00",
          "2008-02-10T00:00:00",
          "2008-02-06T00:00:00",
          "2008-02-04T00:00:00",
          "2008-02-03T00:00:00",
          "2008-02-02T00:00:00",
          "2007-09-07T00:00:00",
          "2007-09-06T00:00:00",
          "2007-08-22T00:00:00",
          "2007-08-19T00:00:00",
          "2007-08-18T00:00:00",
          "2007-08-17T00:00:00",
          "2007-07-08T00:00:00",
          "2007-07-06T00:00:00",
          "2007-07-05T00:00:00",
          "2007-06-28T00:00:00",
          "2007-06-27T00:00:00",
          "2007-06-04T00:00:00",
          "2007-06-03T00:00:00",
          "2007-06-02T00:00:00",
          "2007-05-26T00:00:00",
          "2007-02-18T00:00:00",
          "2007-02-16T00:00:00",
          "2007-02-15T00:00:00",
          "2007-02-12T00:00:00",
          "2007-02-11T00:00:00",
          "2007-02-10T00:00:00",
          "2006-10-04T00:00:00",
          "2006-10-02T00:00:00",
          "2006-09-28T00:00:00",
          "2006-09-24T00:00:00",
          "2006-09-22T00:00:00",
          "2006-08-27T00:00:00",
          "2006-08-24T00:00:00",
          "2006-07-17T00:00:00",
          "2006-07-14T00:00:00",
          "2006-04-21T00:00:00",
          "2006-02-13T00:00:00",
          "2006-02-10T00:00:00",
          "2006-02-06T00:00:00",
          "2005-09-08T00:00:00",
          "2005-08-28T00:00:00",
          "2005-08-23T00:00:00",
          "2005-08-21T00:00:00",
          "2005-08-18T00:00:00",
          "2005-08-13T00:00:00",
          "2005-07-29T00:00:00",
          "2005-06-15T00:00:00",
          "2005-06-06T00:00:00",
          "2005-06-03T00:00:00",
          "2005-05-27T00:00:00",
          "2005-03-13T00:00:00",
          "2005-03-12T00:00:00",
          "2005-02-23T00:00:00",
          "2005-02-19T00:00:00",
          "2005-02-18T00:00:00",
          "2005-02-16T00:00:00",
          "2005-02-15T00:00:00",
          "2004-10-27T00:00:00",
          "2004-09-06T00:00:00",
          "2004-09-05T00:00:00",
          "2004-08-24T00:00:00",
          "2004-08-23T00:00:00",
          "2004-08-22T00:00:00",
          "2004-06-14T00:00:00",
          "2004-06-07T00:00:00",
          "2004-06-04T00:00:00",
          "2004-06-03T00:00:00",
          "2004-05-30T00:00:00",
          "2004-05-29T00:00:00",
          "2004-02-27T00:00:00",
          "2004-02-20T00:00:00",
          "2003-09-26T00:00:00",
          "2003-09-06T00:00:00",
          "2003-09-03T00:00:00",
          "2003-09-02T00:00:00",
          "2003-09-01T00:00:00",
          "2003-06-10T00:00:00",
          "2003-06-09T00:00:00",
          "2003-06-03T00:00:00",
          "2003-06-01T00:00:00",
          "2003-05-31T00:00:00",
          "2003-05-30T00:00:00",
          "2003-05-29T00:00:00",
          "2003-05-19T00:00:00",
          "2003-02-21T00:00:00",
          "2003-02-17T00:00:00",
          "2003-02-16T00:00:00",
          "2003-02-15T00:00:00",
          "2003-02-14T00:00:00",
          "2003-02-12T00:00:00",
          "2002-10-23T00:00:00",
          "2002-10-19T00:00:00",
          "2002-09-21T00:00:00",
          "2002-09-19T00:00:00",
          "2002-09-03T00:00:00",
          "2002-08-27T00:00:00",
          "2002-08-18T00:00:00",
          "2002-07-23T00:00:00",
          "2002-07-22T00:00:00",
          "2002-07-19T00:00:00",
          "2002-07-05T00:00:00",
          "2002-07-04T00:00:00",
          "2002-07-03T00:00:00",
          "2002-07-02T00:00:00",
          "2002-07-01T00:00:00",
          "2002-06-26T00:00:00",
          "2002-06-19T00:00:00",
          "2002-05-06T00:00:00",
          "2002-05-05T00:00:00",
          "2002-05-03T00:00:00",
          "2002-03-05T00:00:00",
          "2002-02-14T00:00:00",
          "2002-02-13T00:00:00",
          "2002-02-11T00:00:00",
          "2001-09-30T00:00:00",
          "2001-09-28T00:00:00",
          "2001-09-26T00:00:00",
          "2001-09-25T00:00:00",
          "2001-09-23T00:00:00",
          "2001-09-22T00:00:00",
          "2001-09-19T00:00:00",
          "2001-08-29T00:00:00",
          "2001-07-06T00:00:00",
          "2001-07-04T00:00:00",
          "2001-06-24T00:00:00",
          "2001-06-23T00:00:00",
          "2001-06-22T00:00:00",
          "2001-06-21T00:00:00",
          "2001-06-16T00:00:00",
          "2001-06-12T00:00:00",
          "2001-06-10T00:00:00",
          "2001-06-09T00:00:00",
          "2001-06-08T00:00:00",
          "2001-06-07T00:00:00",
          "2001-06-06T00:00:00",
          "2001-06-05T00:00:00",
          "2001-06-04T00:00:00",
          "2001-06-03T00:00:00",
          "2001-06-02T00:00:00",
          "2001-05-31T00:00:00",
          "2001-03-23T00:00:00",
          "2001-02-19T00:00:00",
          "2001-02-17T00:00:00",
          "2001-02-16T00:00:00",
          "2001-02-11T00:00:00",
          "2000-10-02T00:00:00",
          "2000-10-01T00:00:00",
          "2000-09-27T00:00:00",
          "2000-09-26T00:00:00",
          "2000-09-15T00:00:00",
          "2000-08-10T00:00:00",
          "2000-08-07T00:00:00",
          "2000-08-05T00:00:00",
          "2000-08-04T00:00:00",
          "2000-08-03T00:00:00",
          "2000-07-13T00:00:00",
          "2000-07-12T00:00:00",
          "2000-07-08T00:00:00",
          "2000-07-07T00:00:00",
          "2000-07-06T00:00:00",
          "2000-06-19T00:00:00",
          "2000-06-18T00:00:00",
          "2000-05-10T00:00:00",
          "2000-05-08T00:00:00",
          "2000-02-15T00:00:00",
          "1999-09-27T00:00:00",
          "1999-09-06T00:00:00",
          "1999-08-27T00:00:00",
          "1999-08-26T00:00:00",
          "1999-07-13T00:00:00",
          "1999-07-12T00:00:00",
          "1999-07-11T00:00:00",
          "1999-07-10T00:00:00",
          "1999-07-09T00:00:00",
          "1999-07-08T00:00:00",
          "1999-07-05T00:00:00",
          "1999-06-24T00:00:00",
          "1999-06-20T00:00:00",
          "1999-06-19T00:00:00",
          "1999-06-18T00:00:00",
          "1999-05-24T00:00:00",
          "1999-05-20T00:00:00",
          "1999-05-11T00:00:00",
          "1999-05-10T00:00:00",
          "1999-02-21T00:00:00",
          "1999-02-18T00:00:00",
          "1998-10-14T00:00:00",
          "1998-10-13T00:00:00",
          "1998-10-10T00:00:00",
          "1998-10-07T00:00:00",
          "1998-09-05T00:00:00",
          "1998-08-27T00:00:00",
          "1998-07-23T00:00:00",
          "1998-07-21T00:00:00",
          "1998-07-09T00:00:00",
          "1998-07-08T00:00:00",
          "1998-07-07T00:00:00",
          "1998-07-06T00:00:00",
          "1998-07-05T00:00:00",
          "1998-06-24T00:00:00",
          "1998-06-18T00:00:00",
          "1998-06-15T00:00:00",
          "1998-06-09T00:00:00",
          "1998-06-05T00:00:00",
          "1998-06-03T00:00:00",
          "1998-05-27T00:00:00",
          "1998-05-20T00:00:00",
          "1998-05-19T00:00:00",
          "1998-05-18T00:00:00",
          "1998-05-17T00:00:00",
          "1998-05-13T00:00:00",
          "1998-04-09T00:00:00",
          "1998-03-03T00:00:00",
          "1998-02-28T00:00:00",
          "1998-02-27T00:00:00",
          "1998-02-24T00:00:00",
          "1998-02-21T00:00:00",
          "1998-01-20T00:00:00",
          "1997-12-02T00:00:00",
          "1997-09-28T00:00:00",
          "1997-09-10T00:00:00",
          "1997-09-05T00:00:00",
          "1997-09-04T00:00:00",
          "1997-09-01T00:00:00",
          "1997-08-31T00:00:00",
          "1997-08-30T00:00:00",
          "1997-08-29T00:00:00",
          "1997-07-18T00:00:00",
          "1997-07-11T00:00:00",
          "1997-07-10T00:00:00",
          "1997-07-09T00:00:00",
          "1997-07-08T00:00:00",
          "1997-07-07T00:00:00",
          "1997-07-06T00:00:00",
          "1997-07-05T00:00:00",
          "1997-07-04T00:00:00",
          "1997-07-03T00:00:00",
          "1997-06-16T00:00:00",
          "1997-04-10T00:00:00",
          "1997-03-29T00:00:00",
          "1997-03-26T00:00:00",
          "1997-03-25T00:00:00",
          "1997-03-24T00:00:00",
          "1997-03-18T00:00:00",
          "1997-03-17T00:00:00",
          "1997-03-16T00:00:00",
          "1997-03-15T00:00:00",
          "1997-03-14T00:00:00",
          "1996-03-06T00:00:00",
          "1995-09-25T00:00:00",
          "1995-09-24T00:00:00"
         ],
         "y": [
          9.884574038051339,
          9.886005233079183,
          10.11444873131143,
          10.600998034975467,
          10.602234723536787,
          10.603471049888672,
          10.604707014031122,
          10.605942615964139,
          10.613348621164102,
          10.614581687631073,
          10.61581439188861,
          10.619510331404612,
          10.63426149061948,
          10.71566354229978,
          10.736059176682167,
          10.737255659996217,
          10.738451781100832,
          10.739647539996012,
          10.740842936681757,
          10.742037971158068,
          10.743232643424944,
          10.744426953482385,
          10.74562090133039,
          10.753968394402255,
          10.80368063932497,
          10.804856476701232,
          10.80603195186806,
          10.807207064825453,
          10.810730230441022,
          10.811903894560675,
          10.81776678201742,
          10.83879819950868,
          10.913767924943228,
          10.969271913165377,
          11.00504999225021,
          11.008385171169083,
          11.011717090203042,
          11.012827005462158,
          11.016154577982899,
          11.056926604090227,
          11.093955603455022,
          11.098284428404417,
          11.09936572911818,
          11.100446667622508,
          11.101527243917399,
          11.109081136117469,
          11.116617280055229,
          11.118767204152533,
          11.123062705833922,
          11.129495092072958,
          11.132706395365105,
          11.139119222294658,
          11.150842205083348,
          11.1519057575348,
          11.15296894777682,
          11.154031775809402,
          11.155094241632552,
          11.167815579174418,
          11.169930731165973,
          11.206711360409129,
          11.216097519032122,
          11.249232918080155,
          11.252320345745579,
          11.255404513526088,
          11.256431845034054,
          11.383958908259194,
          11.3869007277318,
          11.462243814414796,
          11.463195444150875,
          11.471743812351017,
          11.47553366966133,
          11.499088976930642,
          11.50002648049876,
          11.500963621857444,
          11.504708565197834,
          11.514977277105526,
          11.5177702285004,
          11.518700487879823,
          11.519630385049808,
          11.520559920010362,
          11.521489092761477,
          11.522417903303161,
          11.562926979796664,
          11.563839490913777,
          11.572944680565993,
          11.591947679664594,
          11.715402451085287,
          11.784707309823558,
          11.786346518617696,
          11.818021503660232,
          11.818826438575188,
          11.832454914085929,
          11.83325332923106,
          11.834051382166754,
          11.837239971815183,
          11.838036213703704,
          11.854673622983182,
          11.855461896264135,
          11.856249807335653,
          11.857824542850386,
          11.860183929551722,
          11.888242298944492,
          11.896722058453369,
          11.89749077242484,
          11.900562006216372,
          11.901328909140668,
          11.999380620728491,
          12.002970643981437,
          12.003687562003721,
          12.005120311419985,
          12.027847260147642,
          12.075590124565853,
          12.076948258838534,
          12.077626782660722,
          12.078304944273476,
          12.078982743676795,
          12.079660180870677,
          12.080337255855127,
          12.08101396863014,
          12.08169031919572,
          12.082366307551863,
          12.083717197635847,
          12.086414631290598,
          12.089778273646749,
          12.090449915489677,
          12.091121195123167,
          12.091792112547223,
          12.098481365268865,
          12.099814869299975,
          12.135271817474429,
          12.148775390723424,
          12.150691433076483,
          12.151329389441965,
          12.152604215544626,
          12.153241085281806,
          12.154513738127857,
          12.15578494213617,
          12.237655158322609,
          12.238827841364637,
          12.239413639571497,
          12.250474985709252,
          12.283989932437905,
          12.285103937551485,
          12.285660396794123,
          12.30978601612966,
          12.313559528458008,
          12.316244028123782,
          12.316779841428632,
          12.317315292524047,
          12.317850381410027,
          12.318385108086574,
          12.32583324956755,
          12.327420043544313,
          12.327948250451032,
          12.341554494514059,
          12.34620730024219,
          12.349805865413497,
          12.357964510697611,
          12.358977821588297,
          12.373012046095264,
          12.374993753906713,
          12.42812866013839,
          12.429036205874096,
          12.429489435427795,
          12.42994230277206,
          12.430394807906891,
          12.432201206351865,
          12.470056566482102,
          12.47423208572576,
          12.474647645498234,
          12.475062843061272,
          12.475477678414876,
          12.47630626249378,
          12.478783321704054,
          12.479194897172745,
          12.51209299898409,
          12.512474148860251,
          12.512854936526976,
          12.513995126270547,
          12.521513083057663,
          12.57232412573467,
          12.574548468310086,
          12.60213318324916,
          12.602416174368473,
          12.603544516751372,
          12.603825696823511,
          12.604667063783314,
          12.60661757602597,
          12.624894340708204,
          12.625146544025553,
          12.625398385133467,
          12.628392226092506,
          12.628639358477766,
          12.640762820415395,
          12.66389255372133,
          12.664080645968708,
          12.664455743835157,
          12.664642749454229,
          12.665387149836167,
          12.668486197075284,
          12.66866523408679,
          12.681060713060276,
          12.682113670323327,
          12.682559504580256,
          12.683877448041555,
          12.689898390984633,
          12.691790707494842,
          12.692403369193169,
          12.692766619698947,
          12.693006975655624,
          12.693601526882208,
          12.694877665150424,
          12.707965379598045,
          12.708199789095689,
          12.708371793019856,
          12.711363832868155,
          12.712817914770389,
          12.712822577935645,
          12.712599483545818,
          12.712559594950585,
          12.712077340834973,
          12.712030102500366,
          12.711931279317932,
          12.711826660784538,
          12.711772178261233,
          12.705197566888112,
          12.705123057295209,
          12.705048185492872,
          12.70482139682925,
          12.704745076189171,
          12.704591348280712,
          12.695396396118912,
          12.69460099863583,
          12.694485921586223,
          12.69437048232718,
          12.691615409565163,
          12.691491277279683,
          12.690612209417147,
          12.690485179456187,
          12.690230032905964,
          12.684822845976225,
          12.684680241009568,
          12.684537273833474,
          12.684106199048585,
          12.681901926850434,
          12.681752077695078,
          12.655580681473582,
          12.655376863112432,
          12.655172682541846,
          12.65476323477237,
          12.653939992720199,
          12.630257145359668,
          12.630012397332377,
          12.628289019277162,
          12.628041373574392,
          12.627793365662187,
          12.627296263209471,
          12.626797711919018,
          12.620184700908823,
          12.608984909588594,
          12.608435648977258,
          12.60342710577696,
          12.557796369876597,
          12.557461069490587,
          12.514595382672452,
          12.514216254944825,
          12.511552218987257,
          12.510405056149635,
          12.49875413410314,
          12.498360155788683,
          12.497965815264791,
          12.497571112531464,
          12.481895182572528,
          12.479845604924572,
          12.478199423036378,
          12.474474324536006,
          12.474058613655457,
          12.40853968210534,
          12.407129555218003,
          12.352152189330168,
          12.347537142248326,
          12.346507591926354,
          12.344960549872637,
          12.324552353647142,
          12.324021822375741,
          12.32295967320463,
          12.321896075195783,
          12.309019889745919,
          12.308478854400905,
          12.307937456846457,
          12.306853575109255,
          12.306311090926503,
          12.298130363053025,
          12.210031823086613,
          12.209428125509367,
          12.208824065722686,
          12.207614859521021,
          12.206404204481615,
          12.142739638629404,
          12.142096822433192,
          12.13823231885779,
          12.137586967195537,
          12.13629517724272,
          12.13564873895216,
          12.13305936369557,
          12.086807174268946,
          12.08613357027077,
          12.084110585019635,
          12.076665082305654,
          12.075986045165957,
          12.075306645816823,
          11.965620634633616,
          11.964884730612644,
          11.964148464382236,
          11.89332217359724,
          11.891780459134365,
          11.882499746764585,
          11.819295400245746,
          11.817685590409114,
          11.814461624222636,
          11.805565834931443,
          11.804754953557453,
          11.803943709974027,
          11.674689228521377,
          11.673821842475547,
          11.672954094220282,
          11.668609919802435,
          11.572565550405375,
          11.494004051601516,
          11.492124033526474,
          11.490242566613693,
          11.21462147453199,
          11.205230696051405,
          11.201047599281395,
          11.130119213242889,
          11.126905283369908,
          11.109709268213233,
          11.108631438485745,
          10.939456300827832,
          10.938322690847375,
          10.93491968764939,
          10.8125877574154,
          10.803189991404874,
          10.799659852695253,
          10.794947930150334,
          10.79141018504258,
          10.767741909487528,
          10.76655469251071,
          10.765367113324455,
          10.764179171928767,
          10.762990868323644,
          10.760613174485094,
          10.758234031808803,
          10.71636450436464,
          10.715161712382121,
          10.711551163177958,
          10.697076367512167,
          10.501627085202301,
          10.496561646248953,
          10.361521130232491,
          10.352376443066257,
          10.347142938935129,
          10.343214007637718,
          10.27326536924875,
          10.271935803964027,
          10.267944934853254,
          10.25461849420407,
          10.250613498925334,
          10.242593728713125,
          10.229198468271317,
          10.018337476723952,
          10.009948252888174,
          10.007148947267437,
          9.865336398112712,
          9.852395604960984,
          9.850955928008062,
          9.842310259892397,
          9.785795578361485,
          9.78433923977456,
          9.7828825389782,
          9.781425475972403,
          9.779968050757173,
          9.778510263332509,
          9.777052113698408,
          9.746347301002848,
          9.744881182761182,
          9.741947859649542,
          9.737545158411322,
          9.734608213205334,
          9.719901754609303,
          9.718429116597806,
          9.715482753946512,
          9.465884005529265,
          9.464350154123277,
          9.458211126404978,
          9.45206630333572,
          9.340468483075288,
          9.299707815383444,
          9.298135207567926,
          9.29656223754297,
          9.294988905308582,
          9.291841154211502,
          9.15672246320012,
          9.143870668018689,
          9.142262563678553,
          9.134216608836352,
          9.132606331239607,
          9.130995691433428,
          8.905253447490795,
          8.708460024903477,
          8.70675665948197,
          8.703348842010653,
          8.696528860554803,
          8.658915370649243,
          8.631449993595183,
          8.629730328749107,
          8.628010301693596,
          8.626289912428652,
          8.624569160954273,
          8.619404733274523,
          8.617682532962405,
          8.603891890925794,
          8.583162462738699,
          8.581432656028447,
          8.571046209368804,
          8.551970523910637,
          8.550234197430557,
          8.258779870006979,
          8.020360281408065,
          8.012982497422515,
          8.003752117728293,
          7.972301093603621,
          7.964885639836845,
          7.929583091683142,
          7.9277214407385985,
          7.899753211438261,
          7.89788576514276,
          6.464190895639847,
          6.466058341935348,
          6.494026571235685,
          6.495888222180229,
          6.531190770333931,
          6.5386062241007075,
          6.570057248225381,
          6.579287627919602,
          6.586665411905152,
          6.825085000504067,
          7.1165393279276445,
          7.118275654407723,
          7.137351339865892,
          7.147737786525535,
          7.149467593235785,
          7.170197021422882,
          7.183987663459492,
          7.185709863771611,
          7.190874291451361,
          7.192595042925739,
          7.194315432190684,
          7.196035459246194,
          7.197755124092271,
          7.225220501146331,
          7.26283399105189,
          7.26965397250774,
          7.2730617899790575,
          7.274765155400564,
          7.471558577987882,
          7.697300821930516,
          7.698911461736695,
          7.70052173933344,
          7.708567694175641,
          7.710175798515777,
          7.723027593697208,
          7.85814628470859,
          7.8612940358056695,
          7.862867368040058,
          7.864440338065013,
          7.866012945880532,
          7.906773613572375,
          8.018371433832808,
          8.024516256902066,
          8.030655284620366,
          8.032189136026354,
          8.2817878844436,
          8.284734247094894,
          8.286206885106392,
          8.300913343702423,
          8.30385028890841,
          8.30825299014663,
          8.31118631325827,
          8.312652431499936,
          8.343357244195497,
          8.344815393829597,
          8.346273181254261,
          8.347730606469492,
          8.349187669475288,
          8.350644370271649,
          8.352100708858574,
          8.408615390389485,
          8.41726105850515,
          8.418700735458073,
          8.4316415286098,
          8.573454077764525,
          8.576253383385263,
          8.58464260722104,
          8.795503598768406,
          8.808898859210213,
          8.816918629422423,
          8.820923624701159,
          8.834250065350343,
          8.838240934461115,
          8.839570499745838,
          8.909519138134806,
          8.913448069432217,
          8.918681573563346,
          8.92782626072958,
          9.062866776746041,
          9.06793221569939,
          9.263381498009256,
          9.277856293675047,
          9.28146684287921,
          9.282669634861728,
          9.324539162305891,
          9.326918304982183,
          9.329295998820733,
          9.330484302425855,
          9.331672243821544,
          9.332859823007798,
          9.334047039984616,
          9.357715315539668,
          9.361253060647423,
          9.365964983192342,
          9.369495121901963,
          9.378892887912489,
          9.50122481814648,
          9.504627821344464,
          9.50576143132492,
          9.674936568982833,
          9.676014398710322,
          9.693210413866996,
          9.696424343739977,
          9.767352729778484,
          9.771535826548494,
          9.780926605029078,
          10.056547697110782,
          10.058429164023563,
          10.060309182098605,
          10.138870680902464,
          10.234915050299524,
          10.23925922471737,
          10.240126972972636,
          10.240994359018465,
          10.370248840471115,
          10.371060084054541,
          10.371870965428531,
          10.380766754719724,
          10.383990720906203,
          10.385600530742835,
          10.448804877261674,
          10.458085589631454,
          10.459627304094328,
          10.530453594879324,
          10.531189861109732,
          10.531925765130705,
          10.641611776313912,
          10.642291175663045,
          10.642970212802743,
          10.650415715516724,
          10.652438700767858,
          10.653112304766035,
          10.69936449419266,
          10.701953869449248,
          10.702600307739809,
          10.703892097692625,
          10.704537449354879,
          10.70840195293028,
          10.709044769126493,
          10.772709334978703,
          10.77391999001811,
          10.775129196219774,
          10.775733256006456,
          10.776336953583701,
          10.864435493550113,
          10.872616221423591,
          10.873158705606343,
          10.874242587343545,
          10.874783984897993,
          10.875325020243007,
          10.888201205692871,
          10.88926480370172,
          10.89032695287283,
          10.890857484144231,
          10.911265680369725,
          10.912812722423443,
          10.913842272745415,
          10.918457319827256,
          10.973434685715091,
          10.974844812602429,
          11.040363744152545,
          11.040779455033094,
          11.044504553533466,
          11.04615073542166,
          11.048200313069616,
          11.063876243028552,
          11.06427094576188,
          11.064665286285772,
          11.065059264600228,
          11.076710186646723,
          11.077857349484345,
          11.080521385441914,
          11.08090051316954,
          11.123766199987676,
          11.124101500373685,
          11.169732236274049,
          11.174740779474346,
          11.175290040085683,
          11.186489831405911,
          11.193102842416106,
          11.19360139370656,
          11.194098496159276,
          11.194346504071481,
          11.19459414977425,
          11.196317527829466,
          11.196562275856756,
          11.220245123217287,
          11.221068365269458,
          11.221477813038934,
          11.22168199360952,
          11.22188581197067,
          11.248057208192167,
          11.248207057347523,
          11.250411329545674,
          11.250842404330562,
          11.250985371506657,
          11.251127976473313,
          11.256535163403052,
          11.256790309953276,
          11.256917339914235,
          11.257796407776771,
          11.257920540062251,
          11.260675612824269,
          11.260791052083311,
          11.260906129132918,
          11.261701526616001,
          11.2708964787778,
          11.27105020668626,
          11.271126527326338,
          11.27135331598996,
          11.271428187792297,
          11.2715026973852,
          11.278077308758322,
          11.278131791281627,
          11.27823640981502,
          11.278335232997454,
          11.278382471332062,
          11.278864725447674,
          11.278904614042906,
          11.279127708432734,
          11.279123045267477,
          11.277668963365244,
          11.274676923516944,
          11.274504919592777,
          11.274270510095134,
          11.261182795647512,
          11.259906657379297,
          11.259312106152713,
          11.259071750196036,
          11.258708499690258,
          11.258095837991931,
          11.256203521481721,
          11.250182578538643,
          11.248864635077345,
          11.248418800820415,
          11.247365843557365,
          11.234970364583878,
          11.234791327572372,
          11.231692280333256,
          11.230947879951318,
          11.230760874332246,
          11.230385776465797,
          11.23019768421842,
          11.207067950912483,
          11.194944488974855,
          11.194697356589595,
          11.191703515630556,
          11.191451674522641,
          11.191199471205293,
          11.172922706523059,
          11.170972194280402,
          11.1701308273206,
          11.16984964724846,
          11.168721304865562,
          11.168438313746249,
          11.140853598807174,
          11.13862925623176,
          11.087818213554751,
          11.080300256767636,
          11.079160067024064,
          11.07877927935734,
          11.078398129481178,
          11.045500027669833,
          11.045088452201142,
          11.04261139299087,
          11.041782808911965,
          11.04136797355836,
          11.040952775995322,
          11.040537216222848,
          11.03636169697919,
          10.998506336848953,
          10.99669993840398,
          10.996247433269149,
          10.995794565924884,
          10.995341336371185,
          10.994433790635478,
          10.941298884403801,
          10.939317176592352,
          10.925282952085386,
          10.9242696411947,
          10.916110995910586,
          10.912512430739278,
          10.907859625011147,
          10.89425338094812,
          10.893725174041402,
          10.892138380064639,
          10.884690238583662,
          10.884155511907116,
          10.883620423021135,
          10.88308497192572,
          10.88254915862087,
          10.879864658955096,
          10.876091146626749,
          10.851965527291211,
          10.851409068048573,
          10.850295062934993,
          10.81678011620634,
          10.805718770068585,
          10.805132971861726,
          10.803960288819697,
          10.722090072633259,
          10.720818868624946,
          10.719546215778895,
          10.718909346041714,
          10.717634519939054,
          10.716996563573572,
          10.715080521220512,
          10.701576947971517,
          10.666119999797063,
          10.664786495765954,
          10.658097243044311,
          10.657426325620255,
          10.656755045986765,
          10.656083404143837,
          10.652719761787687,
          10.650022328132936,
          10.648671438048952,
          10.647995449692809,
          10.647319099127229,
          10.646642386352216,
          10.645965311367766,
          10.645287874173883,
          10.644610074770565,
          10.643931913157811,
          10.643253389335623,
          10.641895255062941,
          10.59415239064473,
          10.571425441917073,
          10.56999269250081,
          10.569275774478525,
          10.56568575122558,
          10.467634039637757,
          10.46686713671346,
          10.463795902921929,
          10.463027188950457,
          10.45454742944158,
          10.42648906004881,
          10.424129673347474,
          10.422554937832741,
          10.421767026761223,
          10.42097875348027,
          10.404341344200793,
          10.403545102312272,
          10.400356512663842,
          10.399558459728148,
          10.398760044583018,
          10.385131569072277,
          10.38432663415732,
          10.352651649114785,
          10.351012440320646,
          10.281707581582376,
          10.158252810161683,
          10.139249811063081,
          10.130144621410865,
          10.129232110293753,
          10.08872303380025,
          10.087794223258566,
          10.08686505050745,
          10.085935515546897,
          10.085005618376911,
          10.084075358997488,
          10.081282407602615,
          10.071013695694923,
          10.067268752354533,
          10.06633161099585,
          10.06539410742773,
          10.041838800158418,
          10.038048942848105,
          10.029500574647964,
          10.028548944911885,
          9.95320585822889,
          9.950264038756282,
          9.822736975531143,
          9.821709644023176,
          9.818625476242667,
          9.815538048577244,
          9.78240264952921,
          9.773016490906217,
          9.736235861663062,
          9.734120709671506,
          9.72139937212964,
          9.72033690630649,
          9.719274078273909,
          9.718210888031889,
          9.717147335580437,
          9.705424352791747,
          9.699011525862193,
          9.695800222570046,
          9.68936783633101,
          9.685072334649622,
          9.682922410552317,
          9.675386266614558,
          9.667832374414488,
          9.666751798119597,
          9.665670859615268,
          9.664589558901506,
          9.66026073395211,
          9.623231734587316,
          9.582459708479988,
          9.579132135959247,
          9.57802222070013,
          9.574690301666172,
          9.571355122747299,
          9.535577043662466,
          9.480073055440316,
          9.405103330005769,
          9.384071912514509,
          9.378209025057764,
          9.37703536093811,
          9.373512195322542,
          9.37233708236515,
          9.37116160719832,
          9.369985769822058,
          9.320273524899344,
          9.311926031827479,
          9.310732083979474,
          9.309537773922033,
          9.308343101655156,
          9.307148067178845,
          9.3059526704931,
          9.30475691159792,
          9.303560790493306,
          9.302364307179255,
          9.281968672796868,
          9.200566621116568,
          9.1858154619017,
          9.1821195223857,
          9.180886818128162,
          9.17965375166119,
          9.172247746461228,
          9.171012144528211,
          9.16977618038576,
          9.168539854033876,
          9.167303165472555,
          8.680753861808519,
          8.452310363576272,
          8.450879168548427
         ]
        },
        {
         "marker": {
          "color": "royalblue"
         },
         "mode": "markers",
         "name": "Day Data",
         "type": "scatter",
         "x": [
          "1995-09-24T00:00:00",
          "1995-09-25T00:00:00",
          "1995-09-26T00:00:00",
          "1995-09-28T00:00:00",
          "1996-06-11T00:00:00",
          "1996-10-05T00:00:00",
          "1997-02-21T00:00:00",
          "1997-02-24T00:00:00",
          "1997-06-15T00:00:00",
          "1997-07-12T00:00:00",
          "1997-09-04T00:00:00",
          "1998-01-19T00:00:00",
          "1998-02-21T00:00:00",
          "1998-02-23T00:00:00",
          "1998-02-27T00:00:00",
          "1998-03-03T00:00:00",
          "1998-04-08T00:00:00",
          "1998-06-08T00:00:00",
          "1998-06-13T00:00:00",
          "1998-06-17T00:00:00",
          "1998-06-18T00:00:00",
          "1998-07-03T00:00:00",
          "1998-07-18T00:00:00",
          "1998-08-28T00:00:00",
          "1998-08-29T00:00:00",
          "1998-08-30T00:00:00",
          "1998-09-01T00:00:00",
          "1998-10-08T00:00:00",
          "1999-02-18T00:00:00",
          "1999-02-20T00:00:00",
          "1999-02-21T00:00:00",
          "1999-05-25T00:00:00",
          "1999-08-29T00:00:00",
          "1999-08-30T00:00:00",
          "1999-09-02T00:00:00",
          "1999-09-04T00:00:00",
          "1999-09-05T00:00:00",
          "1999-09-07T00:00:00",
          "1999-10-13T00:00:00",
          "2000-05-08T00:00:00",
          "2000-05-09T00:00:00",
          "2000-05-10T00:00:00",
          "2000-06-09T00:00:00",
          "2000-06-19T00:00:00",
          "2000-06-20T00:00:00",
          "2000-07-04T00:00:00",
          "2000-07-05T00:00:00",
          "2000-08-04T00:00:00",
          "2000-08-05T00:00:00",
          "2000-08-06T00:00:00",
          "2000-09-07T00:00:00",
          "2000-09-08T00:00:00",
          "2000-09-10T00:00:00",
          "2000-09-11T00:00:00",
          "2000-09-14T00:00:00",
          "2000-09-26T00:00:00",
          "2000-09-27T00:00:00",
          "2000-09-28T00:00:00",
          "2000-09-29T00:00:00",
          "2000-10-01T00:00:00",
          "2001-02-09T00:00:00",
          "2001-02-12T00:00:00",
          "2001-02-16T00:00:00",
          "2001-06-02T00:00:00",
          "2001-06-03T00:00:00",
          "2001-06-05T00:00:00",
          "2001-06-09T00:00:00",
          "2001-06-10T00:00:00",
          "2001-06-11T00:00:00",
          "2001-06-12T00:00:00",
          "2001-08-25T00:00:00",
          "2001-09-22T00:00:00",
          "2001-09-27T00:00:00",
          "2001-09-28T00:00:00",
          "2001-10-03T00:00:00",
          "2002-02-07T00:00:00",
          "2002-02-15T00:00:00",
          "2002-02-16T00:00:00",
          "2002-07-23T00:00:00",
          "2002-08-28T00:00:00",
          "2002-08-29T00:00:00",
          "2002-08-30T00:00:00",
          "2002-09-06T00:00:00",
          "2002-09-08T00:00:00",
          "2002-10-23T00:00:00",
          "2003-06-08T00:00:00",
          "2003-09-07T00:00:00",
          "2003-09-27T00:00:00",
          "2003-09-28T00:00:00",
          "2003-10-26T00:00:00",
          "2003-10-27T00:00:00",
          "2004-02-20T00:00:00",
          "2004-02-21T00:00:00",
          "2004-02-22T00:00:00",
          "2004-02-24T00:00:00",
          "2004-06-06T00:00:00",
          "2004-08-21T00:00:00",
          "2004-08-26T00:00:00",
          "2004-09-05T00:00:00",
          "2005-02-13T00:00:00",
          "2005-02-14T00:00:00",
          "2005-02-18T00:00:00",
          "2005-02-22T00:00:00",
          "2005-03-12T00:00:00",
          "2005-05-28T00:00:00",
          "2005-06-03T00:00:00",
          "2005-08-19T00:00:00",
          "2005-08-20T00:00:00",
          "2005-08-22T00:00:00",
          "2005-08-27T00:00:00",
          "2005-09-09T00:00:00",
          "2006-02-09T00:00:00",
          "2006-04-21T00:00:00",
          "2006-09-23T00:00:00",
          "2006-09-26T00:00:00",
          "2006-10-01T00:00:00",
          "2007-02-10T00:00:00",
          "2007-02-16T00:00:00",
          "2007-02-18T00:00:00",
          "2007-06-07T00:00:00",
          "2007-06-21T00:00:00",
          "2008-08-16T00:00:00",
          "2008-08-19T00:00:00",
          "2008-08-21T00:00:00",
          "2008-09-05T00:00:00",
          "2008-09-06T00:00:00",
          "2008-10-17T00:00:00",
          "2009-02-02T00:00:00",
          "2009-02-05T00:00:00",
          "2009-06-09T00:00:00",
          "2009-06-14T00:00:00",
          "2009-08-23T00:00:00",
          "2009-08-26T00:00:00",
          "2009-08-31T00:00:00",
          "2010-02-06T00:00:00",
          "2010-06-08T00:00:00",
          "2010-06-10T00:00:00",
          "2010-09-08T00:00:00",
          "2010-09-09T00:00:00",
          "2011-05-30T00:00:00",
          "2011-08-19T00:00:00",
          "2011-08-20T00:00:00",
          "2012-02-15T00:00:00",
          "2012-02-16T00:00:00",
          "2012-05-18T00:00:00",
          "2012-06-03T00:00:00",
          "2012-08-18T00:00:00",
          "2013-02-13T00:00:00",
          "2013-06-10T00:00:00",
          "2013-06-14T00:00:00",
          "2013-06-18T00:00:00",
          "2013-08-23T00:00:00",
          "2013-08-25T00:00:00",
          "2013-09-11T00:00:00",
          "2014-02-12T00:00:00",
          "2014-02-22T00:00:00",
          "2014-08-25T00:00:00",
          "2014-08-26T00:00:00",
          "2014-09-10T00:00:00",
          "2014-09-11T00:00:00",
          "2015-02-15T00:00:00",
          "2015-02-19T00:00:00",
          "2015-06-12T00:00:00",
          "2015-07-13T00:00:00",
          "2015-07-15T00:00:00",
          "2015-08-24T00:00:00",
          "2015-08-28T00:00:00",
          "2015-10-19T00:00:00",
          "2016-02-10T00:00:00",
          "2016-02-18T00:00:00",
          "2016-06-09T00:00:00",
          "2016-06-10T00:00:00",
          "2016-08-22T00:00:00",
          "2016-08-26T00:00:00",
          "2017-02-12T00:00:00",
          "2017-02-16T00:00:00",
          "2017-05-30T00:00:00",
          "2017-06-09T00:00:00",
          "2017-06-10T00:00:00",
          "2017-07-22T00:00:00",
          "2017-07-23T00:00:00",
          "2017-07-24T00:00:00",
          "2017-07-25T00:00:00",
          "2017-07-26T00:00:00",
          "2017-07-27T00:00:00",
          "2017-07-28T00:00:00",
          "2017-09-07T00:00:00",
          "2018-03-03T00:00:00",
          "2018-08-28T00:00:00",
          "2018-09-16T00:00:00",
          "2018-09-18T00:00:00",
          "2018-09-20T00:00:00",
          "2019-02-08T00:00:00",
          "2019-02-10T00:00:00",
          "2019-02-12T00:00:00",
          "2019-07-20T00:00:00",
          "2019-07-21T00:00:00",
          "2019-07-22T00:00:00",
          "2019-07-23T00:00:00",
          "2019-07-24T00:00:00",
          "2019-07-27T00:00:00",
          "2019-08-19T00:00:00",
          "2019-08-20T00:00:00",
          "2020-02-10T00:00:00",
          "2020-02-11T00:00:00",
          "2020-02-12T00:00:00",
          "2020-02-14T00:00:00",
          "2020-02-15T00:00:00",
          "2020-08-17T00:00:00",
          "2020-08-18T00:00:00",
          "2020-08-20T00:00:00"
         ],
         "y": [
          17.425684,
          15.733402000000002,
          5.903126,
          4.078952,
          9.188519999999997,
          11.379199999999999,
          2.8430866666666663,
          6.166544000000001,
          8.214580000000002,
          10.469499999999996,
          22.427618000000002,
          2.9162200000000005,
          2.724724,
          6.394591999999999,
          10.442839999999999,
          8.228772,
          7.504964000000001,
          14.850876,
          20.069128,
          17.334006,
          19.025128,
          18.023226,
          16.366196,
          14.393116000000001,
          10.83702,
          7.141216,
          8.701976,
          19.940937,
          10.937248,
          4.3099359999999995,
          8.07041,
          12.026934000000004,
          4.777912,
          26.528328000000002,
          11.145840000000002,
          5.29504,
          7.451132000000001,
          16.390264,
          12.327728000000002,
          20.120168,
          34.168764,
          29.945054,
          16.079108,
          14.831135999999999,
          14.868716,
          11.648093066666666,
          15.407938666666666,
          7.245644,
          9.918092000000001,
          34.092264,
          5.406263999999999,
          29.352432,
          8.248164000000001,
          9.935784,
          7.968064000000002,
          9.564498,
          13.842414999999999,
          9.937294000000001,
          10.25956,
          8.921092,
          3.4366480000000004,
          7.627116,
          13.35804,
          18.3315,
          33.256870000000006,
          26.436032000000004,
          31.138452000000008,
          22.953940000000003,
          23.6519605,
          33.901416000000005,
          9.231852,
          20.986520000000002,
          6.2142800000000005,
          12.2879,
          2.0342960000000003,
          1.7196599999999997,
          17.015314000000004,
          7.450659999999999,
          13.2916,
          8.615091999999999,
          16.360152,
          26.954051999999997,
          14.818592000000002,
          17.618268,
          5.180768,
          23.838772000000006,
          27.700968000000003,
          13.578042,
          5.621664,
          5.854744,
          16.839516000000003,
          5.667267999999999,
          12.406780000000001,
          16.271604,
          5.545132000000001,
          9.725824000000001,
          7.843792,
          10.082,
          8.600224000000003,
          11.476751999999998,
          5.627008,
          18.10564,
          7.772691999999999,
          8.27766,
          8.576712,
          12.930955999999998,
          11.999952,
          22.552028000000004,
          12.275308000000003,
          14.871532,
          2.439196,
          7.605124,
          7.553700000000001,
          4.943296,
          5.0785160000000005,
          4.676896,
          4.428636,
          8.674871999999999,
          4.089356000000001,
          23.811128,
          19.388201000000002,
          35.080696,
          32.207640000000005,
          20.593720000000005,
          6.084928000000001,
          11.644352,
          2.6440319999999997,
          18.128995999999997,
          5.91377,
          24.407764,
          15.818324000000002,
          22.682332000000002,
          12.283148,
          14.667383999999998,
          5.153792000000001,
          16.403015999999997,
          27.04038,
          32.29084400000001,
          15.632968000000002,
          6.357728000000001,
          6.17774,
          4.59178,
          16.287272,
          5.438844,
          16.361820000000005,
          11.289439999999999,
          10.851455999999999,
          11.467464000000001,
          5.836996000000001,
          16.286708000000004,
          14.858072000000002,
          9.274564000000002,
          18.577276,
          7.462696000000001,
          6.544003999999998,
          5.305544,
          12.532376000000001,
          8.707148000000002,
          7.608912000000003,
          9.095327999999999,
          6.306652000000001,
          8.928432,
          12.253643999999998,
          8.834916000000002,
          21.949640000000002,
          12.844111999999999,
          19.892788000000003,
          9.286756,
          4.60374,
          17.870344,
          25.752980000000004,
          14.897704000000003,
          19.129084000000002,
          34.13082000000001,
          2.6583120000000005,
          2.838952,
          25.128548000000002,
          8.529768000000002,
          12.427056,
          8.167770000000003,
          7.1329280000000015,
          9.875814,
          10.459792000000002,
          9.889914,
          18.35104,
          17.9856,
          4.334200000000001,
          6.847832,
          7.117943999999999,
          8.064540000000001,
          15.616516000000003,
          11.872928000000002,
          4.438512,
          2.4227040000000004,
          2.8246480000000003,
          8.00375,
          12.25514,
          7.696544000000002,
          22.504084,
          10.947956000000003,
          17.833888,
          6.246476,
          4.73698,
          5.789000000000001,
          3.4571040000000006,
          3.20472,
          3.3774040000000003,
          3.0646159999999996,
          15.392288,
          17.269468,
          19.936768
         ]
        },
        {
         "line": {
          "color": "royalblue"
         },
         "mode": "lines",
         "name": "Night Trend Line",
         "type": "scatter",
         "x": [
          "1995-09-24T00:00:00",
          "1995-09-25T00:00:00",
          "1995-09-26T00:00:00",
          "1995-09-28T00:00:00",
          "1996-06-11T00:00:00",
          "1996-10-05T00:00:00",
          "1997-02-21T00:00:00",
          "1997-02-24T00:00:00",
          "1997-06-15T00:00:00",
          "1997-07-12T00:00:00",
          "1997-09-04T00:00:00",
          "1998-01-19T00:00:00",
          "1998-02-21T00:00:00",
          "1998-02-23T00:00:00",
          "1998-02-27T00:00:00",
          "1998-03-03T00:00:00",
          "1998-04-08T00:00:00",
          "1998-06-08T00:00:00",
          "1998-06-13T00:00:00",
          "1998-06-17T00:00:00",
          "1998-06-18T00:00:00",
          "1998-07-03T00:00:00",
          "1998-07-18T00:00:00",
          "1998-08-28T00:00:00",
          "1998-08-29T00:00:00",
          "1998-08-30T00:00:00",
          "1998-09-01T00:00:00",
          "1998-10-08T00:00:00",
          "1999-02-18T00:00:00",
          "1999-02-20T00:00:00",
          "1999-02-21T00:00:00",
          "1999-05-25T00:00:00",
          "1999-08-29T00:00:00",
          "1999-08-30T00:00:00",
          "1999-09-02T00:00:00",
          "1999-09-04T00:00:00",
          "1999-09-05T00:00:00",
          "1999-09-07T00:00:00",
          "1999-10-13T00:00:00",
          "2000-05-08T00:00:00",
          "2000-05-09T00:00:00",
          "2000-05-10T00:00:00",
          "2000-06-09T00:00:00",
          "2000-06-19T00:00:00",
          "2000-06-20T00:00:00",
          "2000-07-04T00:00:00",
          "2000-07-05T00:00:00",
          "2000-08-04T00:00:00",
          "2000-08-05T00:00:00",
          "2000-08-06T00:00:00",
          "2000-09-07T00:00:00",
          "2000-09-08T00:00:00",
          "2000-09-10T00:00:00",
          "2000-09-11T00:00:00",
          "2000-09-14T00:00:00",
          "2000-09-26T00:00:00",
          "2000-09-27T00:00:00",
          "2000-09-28T00:00:00",
          "2000-09-29T00:00:00",
          "2000-10-01T00:00:00",
          "2001-02-09T00:00:00",
          "2001-02-12T00:00:00",
          "2001-02-16T00:00:00",
          "2001-06-02T00:00:00",
          "2001-06-03T00:00:00",
          "2001-06-05T00:00:00",
          "2001-06-09T00:00:00",
          "2001-06-10T00:00:00",
          "2001-06-11T00:00:00",
          "2001-06-12T00:00:00",
          "2001-08-25T00:00:00",
          "2001-09-22T00:00:00",
          "2001-09-27T00:00:00",
          "2001-09-28T00:00:00",
          "2001-10-03T00:00:00",
          "2002-02-07T00:00:00",
          "2002-02-15T00:00:00",
          "2002-02-16T00:00:00",
          "2002-07-23T00:00:00",
          "2002-08-28T00:00:00",
          "2002-08-29T00:00:00",
          "2002-08-30T00:00:00",
          "2002-09-06T00:00:00",
          "2002-09-08T00:00:00",
          "2002-10-23T00:00:00",
          "2003-06-08T00:00:00",
          "2003-09-07T00:00:00",
          "2003-09-27T00:00:00",
          "2003-09-28T00:00:00",
          "2003-10-26T00:00:00",
          "2003-10-27T00:00:00",
          "2004-02-20T00:00:00",
          "2004-02-21T00:00:00",
          "2004-02-22T00:00:00",
          "2004-02-24T00:00:00",
          "2004-06-06T00:00:00",
          "2004-08-21T00:00:00",
          "2004-08-26T00:00:00",
          "2004-09-05T00:00:00",
          "2005-02-13T00:00:00",
          "2005-02-14T00:00:00",
          "2005-02-18T00:00:00",
          "2005-02-22T00:00:00",
          "2005-03-12T00:00:00",
          "2005-05-28T00:00:00",
          "2005-06-03T00:00:00",
          "2005-08-19T00:00:00",
          "2005-08-20T00:00:00",
          "2005-08-22T00:00:00",
          "2005-08-27T00:00:00",
          "2005-09-09T00:00:00",
          "2006-02-09T00:00:00",
          "2006-04-21T00:00:00",
          "2006-09-23T00:00:00",
          "2006-09-26T00:00:00",
          "2006-10-01T00:00:00",
          "2007-02-10T00:00:00",
          "2007-02-16T00:00:00",
          "2007-02-18T00:00:00",
          "2007-06-07T00:00:00",
          "2007-06-21T00:00:00",
          "2008-08-16T00:00:00",
          "2008-08-19T00:00:00",
          "2008-08-21T00:00:00",
          "2008-09-05T00:00:00",
          "2008-09-06T00:00:00",
          "2008-10-17T00:00:00",
          "2009-02-02T00:00:00",
          "2009-02-05T00:00:00",
          "2009-06-09T00:00:00",
          "2009-06-14T00:00:00",
          "2009-08-23T00:00:00",
          "2009-08-26T00:00:00",
          "2009-08-31T00:00:00",
          "2010-02-06T00:00:00",
          "2010-06-08T00:00:00",
          "2010-06-10T00:00:00",
          "2010-09-08T00:00:00",
          "2010-09-09T00:00:00",
          "2011-05-30T00:00:00",
          "2011-08-19T00:00:00",
          "2011-08-20T00:00:00",
          "2012-02-15T00:00:00",
          "2012-02-16T00:00:00",
          "2012-05-18T00:00:00",
          "2012-06-03T00:00:00",
          "2012-08-18T00:00:00",
          "2013-02-13T00:00:00",
          "2013-06-10T00:00:00",
          "2013-06-14T00:00:00",
          "2013-06-18T00:00:00",
          "2013-08-23T00:00:00",
          "2013-08-25T00:00:00",
          "2013-09-11T00:00:00",
          "2014-02-12T00:00:00",
          "2014-02-22T00:00:00",
          "2014-08-25T00:00:00",
          "2014-08-26T00:00:00",
          "2014-09-10T00:00:00",
          "2014-09-11T00:00:00",
          "2015-02-15T00:00:00",
          "2015-02-19T00:00:00",
          "2015-06-12T00:00:00",
          "2015-07-13T00:00:00",
          "2015-07-15T00:00:00",
          "2015-08-24T00:00:00",
          "2015-08-28T00:00:00",
          "2015-10-19T00:00:00",
          "2016-02-10T00:00:00",
          "2016-02-18T00:00:00",
          "2016-06-09T00:00:00",
          "2016-06-10T00:00:00",
          "2016-08-22T00:00:00",
          "2016-08-26T00:00:00",
          "2017-02-12T00:00:00",
          "2017-02-16T00:00:00",
          "2017-05-30T00:00:00",
          "2017-06-09T00:00:00",
          "2017-06-10T00:00:00",
          "2017-07-22T00:00:00",
          "2017-07-23T00:00:00",
          "2017-07-24T00:00:00",
          "2017-07-25T00:00:00",
          "2017-07-26T00:00:00",
          "2017-07-27T00:00:00",
          "2017-07-28T00:00:00",
          "2017-09-07T00:00:00",
          "2018-03-03T00:00:00",
          "2018-08-28T00:00:00",
          "2018-09-16T00:00:00",
          "2018-09-18T00:00:00",
          "2018-09-20T00:00:00",
          "2019-02-08T00:00:00",
          "2019-02-10T00:00:00",
          "2019-02-12T00:00:00",
          "2019-07-20T00:00:00",
          "2019-07-21T00:00:00",
          "2019-07-22T00:00:00",
          "2019-07-23T00:00:00",
          "2019-07-24T00:00:00",
          "2019-07-27T00:00:00",
          "2019-08-19T00:00:00",
          "2019-08-20T00:00:00",
          "2020-02-10T00:00:00",
          "2020-02-11T00:00:00",
          "2020-02-12T00:00:00",
          "2020-02-14T00:00:00",
          "2020-02-15T00:00:00",
          "2020-08-17T00:00:00",
          "2020-08-18T00:00:00",
          "2020-08-20T00:00:00"
         ],
         "y": [
          11.47672057991147,
          11.477960169117745,
          11.479199433718541,
          11.4816769891037,
          11.789239498868717,
          11.921038972793362,
          12.073218280440525,
          12.076433584962423,
          12.193346073411114,
          12.221179506270838,
          12.276136459809127,
          12.411317310602444,
          12.442968603010694,
          12.444875501964907,
          12.44868540460759,
          12.45249011356262,
          12.486498778213479,
          12.543164225786391,
          12.547755374699914,
          12.551422450932122,
          12.552338408476478,
          12.566038818984419,
          12.57966619325973,
          12.616541702523095,
          12.61743428847301,
          12.618326549817446,
          12.620110098689885,
          12.652871549977348,
          12.76696602075355,
          12.768637905341434,
          12.769473360727158,
          12.845751861053643,
          12.921546137265228,
          12.922319917610064,
          12.924639311011706,
          12.926183950252074,
          12.926955782964042,
          12.92849847457154,
          12.956044893359328,
          13.106964791070062,
          13.107656446228875,
          13.10834777678221,
          13.128936751834834,
          13.135734822423371,
          13.136412844152094,
          13.145871064778985,
          13.146544217425532,
          13.166587855274521,
          13.167250945151238,
          13.167913710422479,
          13.188950807409592,
          13.189602860700047,
          13.19090599346452,
          13.19155707293854,
          13.193508363727728,
          13.201284312391428,
          13.201930198177793,
          13.20257575935868,
          13.20322099593409,
          13.204510495268472,
          13.286144901045875,
          13.287949145553368,
          13.290350260419997,
          13.352087354446832,
          13.352652413469087,
          13.353781557697163,
          13.356035950887575,
          13.356598737671483,
          13.35716119984991,
          13.357723337422861,
          13.398420737618757,
          13.413356217286008,
          13.415996487274624,
          13.416523567455911,
          13.419154099280178,
          13.483248764496958,
          13.4871109367649,
          13.48759224757374,
          13.559131962813636,
          13.574408294519646,
          13.574826631865685,
          13.575244644606247,
          13.578161644836781,
          13.578992152024771,
          13.597335293461198,
          13.680171505041756,
          13.70852184011492,
          13.714392370907168,
          13.71468248908926,
          13.72267400836356,
          13.722954712986779,
          13.7533136765039,
          13.753556402286149,
          13.75379880346292,
          13.754282632000029,
          13.777444497536914,
          13.79232683962464,
          13.793240208468411,
          13.79504260074508,
          13.81959275968718,
          13.819718952102702,
          13.820220475710002,
          13.82071680562965,
          13.822886018383347,
          13.830978183959303,
          13.831527915551762,
          13.837545527515559,
          13.837611018706628,
          13.83774102727233,
          13.838060368090716,
          13.83885267537755,
          13.844055357706832,
          13.843888411579425,
          13.83783848677045,
          13.837644459953196,
          13.837314589814874,
          13.825670935427882,
          13.825007291742253,
          13.82478348033655,
          13.810622057884423,
          13.808523674270958,
          13.715409991192686,
          13.714541109585934,
          13.713960232154042,
          13.709562264216357,
          13.709266469510018,
          13.696859401233251,
          13.661565592044886,
          13.660531161644174,
          13.615218761544867,
          13.613286963370866,
          13.585389699554197,
          13.584158558233604,
          13.582100163923046,
          13.512411018620544,
          13.453374781733025,
          13.45236672349162,
          13.405660235947948,
          13.405126505425976,
          13.253486374360659,
          13.202261116781893,
          13.201615397369888,
          13.080802228364771,
          13.08009807996666,
          13.013927765104292,
          13.002139425125366,
          12.945009989473135,
          12.803046825920386,
          12.704634392453457,
          12.7011913102878,
          12.697743034434492,
          12.640096644199874,
          12.638327710717205,
          12.623239352329772,
          12.482282496016017,
          12.472863276905992,
          12.293756086703842,
          12.292752652054691,
          12.277662179660028,
          12.276653551323223,
          12.114272820696911,
          12.110031209054503,
          11.988059875641836,
          11.953874193950497,
          11.951657954118659,
          11.907060488880045,
          11.90257217707409,
          11.843751498020174,
          11.711727053827326,
          11.702303773077197,
          11.568196493760869,
          11.566980767128877,
          11.477355963596263,
          11.472395026213825,
          11.256754272435282,
          11.251567409639907,
          11.116216954170556,
          11.10289273115593,
          11.101558523524336,
          11.04522868425046,
          11.043880518583297,
          11.042532028310655,
          11.041183213432538,
          11.039834073948938,
          11.038484609859863,
          11.03713482116531,
          10.981513999371716,
          10.735132228378664,
          10.477102559890278,
          10.448952568033722,
          10.445982594281144,
          10.443011322106655,
          10.23026412367501,
          10.22720001433371,
          10.224134606570496,
          9.97786438003022,
          9.976279901574816,
          9.974695098513934,
          9.973109970847572,
          9.971524518575734,
          9.966766214127345,
          9.930188822985007,
          9.928594606365252,
          9.646258796119957,
          9.64460777354149,
          9.642956426357546,
          9.63965275817322,
          9.63800043717284,
          9.328448587861283,
          9.32673621484741,
          9.323310495003222
         ]
        },
        {
         "fill": "toself",
         "fillcolor": "rgba(0, 0, 255, 0.2)",
         "line": {
          "color": "rgba(0, 0, 0, 0)"
         },
         "name": "Night Confidence Interval",
         "type": "scatter",
         "x": [
          "1995-09-24T00:00:00",
          "1995-09-25T00:00:00",
          "1995-09-26T00:00:00",
          "1995-09-28T00:00:00",
          "1996-06-11T00:00:00",
          "1996-10-05T00:00:00",
          "1997-02-21T00:00:00",
          "1997-02-24T00:00:00",
          "1997-06-15T00:00:00",
          "1997-07-12T00:00:00",
          "1997-09-04T00:00:00",
          "1998-01-19T00:00:00",
          "1998-02-21T00:00:00",
          "1998-02-23T00:00:00",
          "1998-02-27T00:00:00",
          "1998-03-03T00:00:00",
          "1998-04-08T00:00:00",
          "1998-06-08T00:00:00",
          "1998-06-13T00:00:00",
          "1998-06-17T00:00:00",
          "1998-06-18T00:00:00",
          "1998-07-03T00:00:00",
          "1998-07-18T00:00:00",
          "1998-08-28T00:00:00",
          "1998-08-29T00:00:00",
          "1998-08-30T00:00:00",
          "1998-09-01T00:00:00",
          "1998-10-08T00:00:00",
          "1999-02-18T00:00:00",
          "1999-02-20T00:00:00",
          "1999-02-21T00:00:00",
          "1999-05-25T00:00:00",
          "1999-08-29T00:00:00",
          "1999-08-30T00:00:00",
          "1999-09-02T00:00:00",
          "1999-09-04T00:00:00",
          "1999-09-05T00:00:00",
          "1999-09-07T00:00:00",
          "1999-10-13T00:00:00",
          "2000-05-08T00:00:00",
          "2000-05-09T00:00:00",
          "2000-05-10T00:00:00",
          "2000-06-09T00:00:00",
          "2000-06-19T00:00:00",
          "2000-06-20T00:00:00",
          "2000-07-04T00:00:00",
          "2000-07-05T00:00:00",
          "2000-08-04T00:00:00",
          "2000-08-05T00:00:00",
          "2000-08-06T00:00:00",
          "2000-09-07T00:00:00",
          "2000-09-08T00:00:00",
          "2000-09-10T00:00:00",
          "2000-09-11T00:00:00",
          "2000-09-14T00:00:00",
          "2000-09-26T00:00:00",
          "2000-09-27T00:00:00",
          "2000-09-28T00:00:00",
          "2000-09-29T00:00:00",
          "2000-10-01T00:00:00",
          "2001-02-09T00:00:00",
          "2001-02-12T00:00:00",
          "2001-02-16T00:00:00",
          "2001-06-02T00:00:00",
          "2001-06-03T00:00:00",
          "2001-06-05T00:00:00",
          "2001-06-09T00:00:00",
          "2001-06-10T00:00:00",
          "2001-06-11T00:00:00",
          "2001-06-12T00:00:00",
          "2001-08-25T00:00:00",
          "2001-09-22T00:00:00",
          "2001-09-27T00:00:00",
          "2001-09-28T00:00:00",
          "2001-10-03T00:00:00",
          "2002-02-07T00:00:00",
          "2002-02-15T00:00:00",
          "2002-02-16T00:00:00",
          "2002-07-23T00:00:00",
          "2002-08-28T00:00:00",
          "2002-08-29T00:00:00",
          "2002-08-30T00:00:00",
          "2002-09-06T00:00:00",
          "2002-09-08T00:00:00",
          "2002-10-23T00:00:00",
          "2003-06-08T00:00:00",
          "2003-09-07T00:00:00",
          "2003-09-27T00:00:00",
          "2003-09-28T00:00:00",
          "2003-10-26T00:00:00",
          "2003-10-27T00:00:00",
          "2004-02-20T00:00:00",
          "2004-02-21T00:00:00",
          "2004-02-22T00:00:00",
          "2004-02-24T00:00:00",
          "2004-06-06T00:00:00",
          "2004-08-21T00:00:00",
          "2004-08-26T00:00:00",
          "2004-09-05T00:00:00",
          "2005-02-13T00:00:00",
          "2005-02-14T00:00:00",
          "2005-02-18T00:00:00",
          "2005-02-22T00:00:00",
          "2005-03-12T00:00:00",
          "2005-05-28T00:00:00",
          "2005-06-03T00:00:00",
          "2005-08-19T00:00:00",
          "2005-08-20T00:00:00",
          "2005-08-22T00:00:00",
          "2005-08-27T00:00:00",
          "2005-09-09T00:00:00",
          "2006-02-09T00:00:00",
          "2006-04-21T00:00:00",
          "2006-09-23T00:00:00",
          "2006-09-26T00:00:00",
          "2006-10-01T00:00:00",
          "2007-02-10T00:00:00",
          "2007-02-16T00:00:00",
          "2007-02-18T00:00:00",
          "2007-06-07T00:00:00",
          "2007-06-21T00:00:00",
          "2008-08-16T00:00:00",
          "2008-08-19T00:00:00",
          "2008-08-21T00:00:00",
          "2008-09-05T00:00:00",
          "2008-09-06T00:00:00",
          "2008-10-17T00:00:00",
          "2009-02-02T00:00:00",
          "2009-02-05T00:00:00",
          "2009-06-09T00:00:00",
          "2009-06-14T00:00:00",
          "2009-08-23T00:00:00",
          "2009-08-26T00:00:00",
          "2009-08-31T00:00:00",
          "2010-02-06T00:00:00",
          "2010-06-08T00:00:00",
          "2010-06-10T00:00:00",
          "2010-09-08T00:00:00",
          "2010-09-09T00:00:00",
          "2011-05-30T00:00:00",
          "2011-08-19T00:00:00",
          "2011-08-20T00:00:00",
          "2012-02-15T00:00:00",
          "2012-02-16T00:00:00",
          "2012-05-18T00:00:00",
          "2012-06-03T00:00:00",
          "2012-08-18T00:00:00",
          "2013-02-13T00:00:00",
          "2013-06-10T00:00:00",
          "2013-06-14T00:00:00",
          "2013-06-18T00:00:00",
          "2013-08-23T00:00:00",
          "2013-08-25T00:00:00",
          "2013-09-11T00:00:00",
          "2014-02-12T00:00:00",
          "2014-02-22T00:00:00",
          "2014-08-25T00:00:00",
          "2014-08-26T00:00:00",
          "2014-09-10T00:00:00",
          "2014-09-11T00:00:00",
          "2015-02-15T00:00:00",
          "2015-02-19T00:00:00",
          "2015-06-12T00:00:00",
          "2015-07-13T00:00:00",
          "2015-07-15T00:00:00",
          "2015-08-24T00:00:00",
          "2015-08-28T00:00:00",
          "2015-10-19T00:00:00",
          "2016-02-10T00:00:00",
          "2016-02-18T00:00:00",
          "2016-06-09T00:00:00",
          "2016-06-10T00:00:00",
          "2016-08-22T00:00:00",
          "2016-08-26T00:00:00",
          "2017-02-12T00:00:00",
          "2017-02-16T00:00:00",
          "2017-05-30T00:00:00",
          "2017-06-09T00:00:00",
          "2017-06-10T00:00:00",
          "2017-07-22T00:00:00",
          "2017-07-23T00:00:00",
          "2017-07-24T00:00:00",
          "2017-07-25T00:00:00",
          "2017-07-26T00:00:00",
          "2017-07-27T00:00:00",
          "2017-07-28T00:00:00",
          "2017-09-07T00:00:00",
          "2018-03-03T00:00:00",
          "2018-08-28T00:00:00",
          "2018-09-16T00:00:00",
          "2018-09-18T00:00:00",
          "2018-09-20T00:00:00",
          "2019-02-08T00:00:00",
          "2019-02-10T00:00:00",
          "2019-02-12T00:00:00",
          "2019-07-20T00:00:00",
          "2019-07-21T00:00:00",
          "2019-07-22T00:00:00",
          "2019-07-23T00:00:00",
          "2019-07-24T00:00:00",
          "2019-07-27T00:00:00",
          "2019-08-19T00:00:00",
          "2019-08-20T00:00:00",
          "2020-02-10T00:00:00",
          "2020-02-11T00:00:00",
          "2020-02-12T00:00:00",
          "2020-02-14T00:00:00",
          "2020-02-15T00:00:00",
          "2020-08-17T00:00:00",
          "2020-08-18T00:00:00",
          "2020-08-20T00:00:00",
          "2020-08-20T00:00:00",
          "2020-08-18T00:00:00",
          "2020-08-17T00:00:00",
          "2020-02-15T00:00:00",
          "2020-02-14T00:00:00",
          "2020-02-12T00:00:00",
          "2020-02-11T00:00:00",
          "2020-02-10T00:00:00",
          "2019-08-20T00:00:00",
          "2019-08-19T00:00:00",
          "2019-07-27T00:00:00",
          "2019-07-24T00:00:00",
          "2019-07-23T00:00:00",
          "2019-07-22T00:00:00",
          "2019-07-21T00:00:00",
          "2019-07-20T00:00:00",
          "2019-02-12T00:00:00",
          "2019-02-10T00:00:00",
          "2019-02-08T00:00:00",
          "2018-09-20T00:00:00",
          "2018-09-18T00:00:00",
          "2018-09-16T00:00:00",
          "2018-08-28T00:00:00",
          "2018-03-03T00:00:00",
          "2017-09-07T00:00:00",
          "2017-07-28T00:00:00",
          "2017-07-27T00:00:00",
          "2017-07-26T00:00:00",
          "2017-07-25T00:00:00",
          "2017-07-24T00:00:00",
          "2017-07-23T00:00:00",
          "2017-07-22T00:00:00",
          "2017-06-10T00:00:00",
          "2017-06-09T00:00:00",
          "2017-05-30T00:00:00",
          "2017-02-16T00:00:00",
          "2017-02-12T00:00:00",
          "2016-08-26T00:00:00",
          "2016-08-22T00:00:00",
          "2016-06-10T00:00:00",
          "2016-06-09T00:00:00",
          "2016-02-18T00:00:00",
          "2016-02-10T00:00:00",
          "2015-10-19T00:00:00",
          "2015-08-28T00:00:00",
          "2015-08-24T00:00:00",
          "2015-07-15T00:00:00",
          "2015-07-13T00:00:00",
          "2015-06-12T00:00:00",
          "2015-02-19T00:00:00",
          "2015-02-15T00:00:00",
          "2014-09-11T00:00:00",
          "2014-09-10T00:00:00",
          "2014-08-26T00:00:00",
          "2014-08-25T00:00:00",
          "2014-02-22T00:00:00",
          "2014-02-12T00:00:00",
          "2013-09-11T00:00:00",
          "2013-08-25T00:00:00",
          "2013-08-23T00:00:00",
          "2013-06-18T00:00:00",
          "2013-06-14T00:00:00",
          "2013-06-10T00:00:00",
          "2013-02-13T00:00:00",
          "2012-08-18T00:00:00",
          "2012-06-03T00:00:00",
          "2012-05-18T00:00:00",
          "2012-02-16T00:00:00",
          "2012-02-15T00:00:00",
          "2011-08-20T00:00:00",
          "2011-08-19T00:00:00",
          "2011-05-30T00:00:00",
          "2010-09-09T00:00:00",
          "2010-09-08T00:00:00",
          "2010-06-10T00:00:00",
          "2010-06-08T00:00:00",
          "2010-02-06T00:00:00",
          "2009-08-31T00:00:00",
          "2009-08-26T00:00:00",
          "2009-08-23T00:00:00",
          "2009-06-14T00:00:00",
          "2009-06-09T00:00:00",
          "2009-02-05T00:00:00",
          "2009-02-02T00:00:00",
          "2008-10-17T00:00:00",
          "2008-09-06T00:00:00",
          "2008-09-05T00:00:00",
          "2008-08-21T00:00:00",
          "2008-08-19T00:00:00",
          "2008-08-16T00:00:00",
          "2007-06-21T00:00:00",
          "2007-06-07T00:00:00",
          "2007-02-18T00:00:00",
          "2007-02-16T00:00:00",
          "2007-02-10T00:00:00",
          "2006-10-01T00:00:00",
          "2006-09-26T00:00:00",
          "2006-09-23T00:00:00",
          "2006-04-21T00:00:00",
          "2006-02-09T00:00:00",
          "2005-09-09T00:00:00",
          "2005-08-27T00:00:00",
          "2005-08-22T00:00:00",
          "2005-08-20T00:00:00",
          "2005-08-19T00:00:00",
          "2005-06-03T00:00:00",
          "2005-05-28T00:00:00",
          "2005-03-12T00:00:00",
          "2005-02-22T00:00:00",
          "2005-02-18T00:00:00",
          "2005-02-14T00:00:00",
          "2005-02-13T00:00:00",
          "2004-09-05T00:00:00",
          "2004-08-26T00:00:00",
          "2004-08-21T00:00:00",
          "2004-06-06T00:00:00",
          "2004-02-24T00:00:00",
          "2004-02-22T00:00:00",
          "2004-02-21T00:00:00",
          "2004-02-20T00:00:00",
          "2003-10-27T00:00:00",
          "2003-10-26T00:00:00",
          "2003-09-28T00:00:00",
          "2003-09-27T00:00:00",
          "2003-09-07T00:00:00",
          "2003-06-08T00:00:00",
          "2002-10-23T00:00:00",
          "2002-09-08T00:00:00",
          "2002-09-06T00:00:00",
          "2002-08-30T00:00:00",
          "2002-08-29T00:00:00",
          "2002-08-28T00:00:00",
          "2002-07-23T00:00:00",
          "2002-02-16T00:00:00",
          "2002-02-15T00:00:00",
          "2002-02-07T00:00:00",
          "2001-10-03T00:00:00",
          "2001-09-28T00:00:00",
          "2001-09-27T00:00:00",
          "2001-09-22T00:00:00",
          "2001-08-25T00:00:00",
          "2001-06-12T00:00:00",
          "2001-06-11T00:00:00",
          "2001-06-10T00:00:00",
          "2001-06-09T00:00:00",
          "2001-06-05T00:00:00",
          "2001-06-03T00:00:00",
          "2001-06-02T00:00:00",
          "2001-02-16T00:00:00",
          "2001-02-12T00:00:00",
          "2001-02-09T00:00:00",
          "2000-10-01T00:00:00",
          "2000-09-29T00:00:00",
          "2000-09-28T00:00:00",
          "2000-09-27T00:00:00",
          "2000-09-26T00:00:00",
          "2000-09-14T00:00:00",
          "2000-09-11T00:00:00",
          "2000-09-10T00:00:00",
          "2000-09-08T00:00:00",
          "2000-09-07T00:00:00",
          "2000-08-06T00:00:00",
          "2000-08-05T00:00:00",
          "2000-08-04T00:00:00",
          "2000-07-05T00:00:00",
          "2000-07-04T00:00:00",
          "2000-06-20T00:00:00",
          "2000-06-19T00:00:00",
          "2000-06-09T00:00:00",
          "2000-05-10T00:00:00",
          "2000-05-09T00:00:00",
          "2000-05-08T00:00:00",
          "1999-10-13T00:00:00",
          "1999-09-07T00:00:00",
          "1999-09-05T00:00:00",
          "1999-09-04T00:00:00",
          "1999-09-02T00:00:00",
          "1999-08-30T00:00:00",
          "1999-08-29T00:00:00",
          "1999-05-25T00:00:00",
          "1999-02-21T00:00:00",
          "1999-02-20T00:00:00",
          "1999-02-18T00:00:00",
          "1998-10-08T00:00:00",
          "1998-09-01T00:00:00",
          "1998-08-30T00:00:00",
          "1998-08-29T00:00:00",
          "1998-08-28T00:00:00",
          "1998-07-18T00:00:00",
          "1998-07-03T00:00:00",
          "1998-06-18T00:00:00",
          "1998-06-17T00:00:00",
          "1998-06-13T00:00:00",
          "1998-06-08T00:00:00",
          "1998-04-08T00:00:00",
          "1998-03-03T00:00:00",
          "1998-02-27T00:00:00",
          "1998-02-23T00:00:00",
          "1998-02-21T00:00:00",
          "1998-01-19T00:00:00",
          "1997-09-04T00:00:00",
          "1997-07-12T00:00:00",
          "1997-06-15T00:00:00",
          "1997-02-24T00:00:00",
          "1997-02-21T00:00:00",
          "1996-10-05T00:00:00",
          "1996-06-11T00:00:00",
          "1995-09-28T00:00:00",
          "1995-09-26T00:00:00",
          "1995-09-25T00:00:00",
          "1995-09-24T00:00:00"
         ],
         "y": [
          12.508599886626705,
          12.50983947583298,
          12.511078740433774,
          12.513556295818933,
          12.82111880558395,
          12.952918279508594,
          13.105097587155758,
          13.108312891677656,
          13.225225380126346,
          13.253058812986072,
          13.30801576652436,
          13.443196617317678,
          13.474847909725927,
          13.476754808680141,
          13.480564711322824,
          13.484369420277854,
          13.518378084928713,
          13.575043532501624,
          13.579634681415147,
          13.583301757647355,
          13.584217715191713,
          13.597918125699653,
          13.611545499974962,
          13.64842100923833,
          13.649313595188243,
          13.65020585653268,
          13.651989405405118,
          13.684750856692581,
          13.798845327468783,
          13.800517212056668,
          13.80135266744239,
          13.877631167768875,
          13.95342544398046,
          13.954199224325297,
          13.956518617726939,
          13.958063256967307,
          13.958835089679276,
          13.960377781286773,
          13.987924200074563,
          14.138844097785295,
          14.13953575294411,
          14.140227083497443,
          14.160816058550068,
          14.167614129138606,
          14.168292150867327,
          14.17775037149422,
          14.178423524140765,
          14.198467161989754,
          14.199130251866471,
          14.199793017137711,
          14.220830114124826,
          14.221482167415282,
          14.222785300179755,
          14.223436379653773,
          14.225387670442963,
          14.233163619106662,
          14.233809504893028,
          14.234455066073913,
          14.235100302649325,
          14.236389801983705,
          14.318024207761109,
          14.319828452268602,
          14.322229567135231,
          14.383966661162066,
          14.38453172018432,
          14.385660864412397,
          14.38791525760281,
          14.388478044386716,
          14.389040506565145,
          14.389602644138094,
          14.43030004433399,
          14.445235524001241,
          14.447875793989859,
          14.448402874171144,
          14.45103340599541,
          14.515128071212192,
          14.518990243480133,
          14.519471554288973,
          14.59101126952887,
          14.606287601234879,
          14.60670593858092,
          14.60712395132148,
          14.610040951552016,
          14.610871458740004,
          14.629214600176432,
          14.712050811756988,
          14.740401146830152,
          14.746271677622403,
          14.746561795804492,
          14.754553315078795,
          14.754834019702013,
          14.785192983219133,
          14.785435709001383,
          14.785678110178154,
          14.786161938715264,
          14.809323804252148,
          14.824206146339872,
          14.825119515183644,
          14.826921907460314,
          14.851472066402415,
          14.851598258817937,
          14.852099782425235,
          14.852596112344884,
          14.85476532509858,
          14.862857490674536,
          14.863407222266996,
          14.869424834230792,
          14.86949032542186,
          14.869620333987562,
          14.869939674805948,
          14.870731982092785,
          14.875934664422065,
          14.875767718294657,
          14.869717793485684,
          14.86952376666843,
          14.869193896530106,
          14.857550242143116,
          14.856886598457486,
          14.856662787051782,
          14.842501364599656,
          14.840402980986191,
          14.747289297907919,
          14.746420416301167,
          14.745839538869276,
          14.741441570931592,
          14.741145776225252,
          14.728738707948484,
          14.69344489876012,
          14.692410468359409,
          14.6470980682601,
          14.6451662700861,
          14.617269006269431,
          14.616037864948836,
          14.61397947063828,
          14.544290325335776,
          14.485254088448258,
          14.484246030206855,
          14.437539542663181,
          14.437005812141209,
          14.285365681075891,
          14.234140423497127,
          14.233494704085121,
          14.112681535080004,
          14.111977386681893,
          14.045807071819524,
          14.0340187318406,
          13.976889296188368,
          13.83492613263562,
          13.73651369916869,
          13.733070617003033,
          13.729622341149724,
          13.671975950915108,
          13.670207017432439,
          13.655118659045005,
          13.514161802731252,
          13.504742583621226,
          13.325635393419077,
          13.324631958769924,
          13.309541486375263,
          13.308532858038458,
          13.146152127412144,
          13.141910515769737,
          13.01993918235707,
          12.98575350066573,
          12.983537260833891,
          12.938939795595278,
          12.934451483789324,
          12.875630804735408,
          12.743606360542561,
          12.73418307979243,
          12.600075800476102,
          12.598860073844111,
          12.509235270311496,
          12.504274332929057,
          12.288633579150517,
          12.28344671635514,
          12.14809626088579,
          12.134772037871162,
          12.133437830239568,
          12.077107990965693,
          12.07575982529853,
          12.07441133502589,
          12.073062520147772,
          12.071713380664171,
          12.070363916575097,
          12.069014127880543,
          12.01339330608695,
          11.767011535093896,
          11.508981866605513,
          11.480831874748954,
          11.477861900996377,
          11.474890628821889,
          11.262143430390243,
          11.259079321048944,
          11.25601391328573,
          11.009743686745452,
          11.00815920829005,
          11.006574405229166,
          11.004989277562807,
          11.003403825290967,
          10.99864552084258,
          10.962068129700242,
          10.960473913080484,
          10.678138102835192,
          10.676487080256724,
          10.67483573307278,
          10.671532064888453,
          10.669879743888075,
          10.360327894576518,
          10.358615521562644,
          10.355189801718456,
          8.291431188287987,
          8.294856908132175,
          8.296569281146049,
          8.606121130457606,
          8.607773451457987,
          8.611077119642314,
          8.612728466826255,
          8.614379489404723,
          8.896715299650019,
          8.898309516269773,
          8.93488690741211,
          8.939645211860501,
          8.941230664132338,
          8.9428157917987,
          8.944400594859584,
          8.945985073314986,
          9.192255299855262,
          9.195320707618475,
          9.198384816959777,
          9.41113201539142,
          9.414103287565911,
          9.417073261318489,
          9.445223253175044,
          9.703252921663431,
          9.949634692656481,
          10.005255514450077,
          10.006605303144628,
          10.007954767233706,
          10.009303906717303,
          10.01065272159542,
          10.012001211868064,
          10.013349377535228,
          10.069679216809103,
          10.071013424440697,
          10.084337647455321,
          10.219688102924675,
          10.224874965720048,
          10.440515719498592,
          10.44547665688103,
          10.535101460413642,
          10.536317187045636,
          10.670424466361965,
          10.679847747112092,
          10.81187219130494,
          10.870692870358855,
          10.875181182164813,
          10.919778647403426,
          10.921994887235265,
          10.956180568926602,
          11.078151902339268,
          11.082393513981678,
          11.244774244607989,
          11.245782872944794,
          11.260873345339458,
          11.261876779988608,
          11.440983970190757,
          11.450403189300783,
          11.59136004561454,
          11.60644840400197,
          11.60821733748464,
          11.665863727719259,
          11.669312003572568,
          11.672755085738224,
          11.771167519205154,
          11.913130682757902,
          11.970260118410131,
          11.982048458389059,
          12.048218773251428,
          12.048922921649538,
          12.169736090654656,
          12.170381810066658,
          12.221607067645426,
          12.373247198710743,
          12.373780929232716,
          12.420487416776385,
          12.421495475017792,
          12.48053171190531,
          12.550220857207812,
          12.552279251518371,
          12.553510392838962,
          12.581407656655632,
          12.583339454829634,
          12.62865185492894,
          12.629686285329651,
          12.664980094518018,
          12.677387162794783,
          12.677682957501123,
          12.682080925438807,
          12.682661802870701,
          12.683530684477454,
          12.776644367555726,
          12.77874275116919,
          12.792904173621316,
          12.79312798502702,
          12.793791628712647,
          12.80543528309964,
          12.805765153237964,
          12.805959180055215,
          12.812009104864192,
          12.8121760509916,
          12.806973368662316,
          12.806181061375483,
          12.805861720557097,
          12.805731711991395,
          12.805666220800326,
          12.799648608836527,
          12.79909887724407,
          12.791006711668114,
          12.788837498914415,
          12.78834116899477,
          12.787839645387468,
          12.787713452971946,
          12.763163294029848,
          12.761360901753179,
          12.760447532909406,
          12.74556519082168,
          12.722403325284795,
          12.721919496747688,
          12.721677095570914,
          12.721434369788668,
          12.691075406271544,
          12.690794701648326,
          12.682803182374027,
          12.682513064191934,
          12.676642533399686,
          12.648292198326523,
          12.565455986745963,
          12.547112845309538,
          12.546282338121546,
          12.543365337891014,
          12.54294732515045,
          12.542528987804413,
          12.527252656098401,
          12.455712940858508,
          12.455231630049667,
          12.451369457781723,
          12.387274792564945,
          12.384644260740679,
          12.38411718055939,
          12.381476910570775,
          12.366541430903524,
          12.325844030707628,
          12.325281893134676,
          12.32471943095625,
          12.32415664417234,
          12.321902250981928,
          12.320773106753855,
          12.320208047731597,
          12.258470953704762,
          12.256069838838133,
          12.25426559433064,
          12.17263118855324,
          12.171341689218856,
          12.170696452643448,
          12.170050891462559,
          12.169405005676193,
          12.161629057012494,
          12.159677766223307,
          12.159026686749286,
          12.157723553984813,
          12.157071500694357,
          12.136034403707246,
          12.135371638436006,
          12.134708548559288,
          12.1146649107103,
          12.11399175806375,
          12.104533537436861,
          12.103855515708137,
          12.0970574451196,
          12.076468470066978,
          12.07577713951364,
          12.07508548435483,
          11.924165586644094,
          11.896619167856308,
          11.895076476248807,
          11.894304643536842,
          11.892760004296473,
          11.890440610894832,
          11.889666830549995,
          11.81387255433841,
          11.737594054011925,
          11.7367585986262,
          11.735086714038317,
          11.620992243262116,
          11.588230791974652,
          11.586447243102214,
          11.585554981757777,
          11.584662395807861,
          11.547786886544497,
          11.534159512269184,
          11.520459101761244,
          11.51954314421689,
          11.515876067984681,
          11.511284919071159,
          11.454619471498244,
          11.420610806847385,
          11.416806097892355,
          11.412996195249672,
          11.411089296295462,
          11.37943800388721,
          11.244257153093894,
          11.189300199555603,
          11.161466766695881,
          11.04455427824719,
          11.041338973725292,
          10.889159666078129,
          10.757360192153484,
          10.449797682388468,
          10.447320127003309,
          10.44608086240251,
          10.444841273196236
         ]
        }
       ],
       "layout": {
        "height": 600,
        "template": {
         "data": {
          "bar": [
           {
            "error_x": {
             "color": "#2a3f5f"
            },
            "error_y": {
             "color": "#2a3f5f"
            },
            "marker": {
             "line": {
              "color": "#E5ECF6",
              "width": 0.5
             },
             "pattern": {
              "fillmode": "overlay",
              "size": 10,
              "solidity": 0.2
             }
            },
            "type": "bar"
           }
          ],
          "barpolar": [
           {
            "marker": {
             "line": {
              "color": "#E5ECF6",
              "width": 0.5
             },
             "pattern": {
              "fillmode": "overlay",
              "size": 10,
              "solidity": 0.2
             }
            },
            "type": "barpolar"
           }
          ],
          "carpet": [
           {
            "aaxis": {
             "endlinecolor": "#2a3f5f",
             "gridcolor": "white",
             "linecolor": "white",
             "minorgridcolor": "white",
             "startlinecolor": "#2a3f5f"
            },
            "baxis": {
             "endlinecolor": "#2a3f5f",
             "gridcolor": "white",
             "linecolor": "white",
             "minorgridcolor": "white",
             "startlinecolor": "#2a3f5f"
            },
            "type": "carpet"
           }
          ],
          "choropleth": [
           {
            "colorbar": {
             "outlinewidth": 0,
             "ticks": ""
            },
            "type": "choropleth"
           }
          ],
          "contour": [
           {
            "colorbar": {
             "outlinewidth": 0,
             "ticks": ""
            },
            "colorscale": [
             [
              0,
              "#0d0887"
             ],
             [
              0.1111111111111111,
              "#46039f"
             ],
             [
              0.2222222222222222,
              "#7201a8"
             ],
             [
              0.3333333333333333,
              "#9c179e"
             ],
             [
              0.4444444444444444,
              "#bd3786"
             ],
             [
              0.5555555555555556,
              "#d8576b"
             ],
             [
              0.6666666666666666,
              "#ed7953"
             ],
             [
              0.7777777777777778,
              "#fb9f3a"
             ],
             [
              0.8888888888888888,
              "#fdca26"
             ],
             [
              1,
              "#f0f921"
             ]
            ],
            "type": "contour"
           }
          ],
          "contourcarpet": [
           {
            "colorbar": {
             "outlinewidth": 0,
             "ticks": ""
            },
            "type": "contourcarpet"
           }
          ],
          "heatmap": [
           {
            "colorbar": {
             "outlinewidth": 0,
             "ticks": ""
            },
            "colorscale": [
             [
              0,
              "#0d0887"
             ],
             [
              0.1111111111111111,
              "#46039f"
             ],
             [
              0.2222222222222222,
              "#7201a8"
             ],
             [
              0.3333333333333333,
              "#9c179e"
             ],
             [
              0.4444444444444444,
              "#bd3786"
             ],
             [
              0.5555555555555556,
              "#d8576b"
             ],
             [
              0.6666666666666666,
              "#ed7953"
             ],
             [
              0.7777777777777778,
              "#fb9f3a"
             ],
             [
              0.8888888888888888,
              "#fdca26"
             ],
             [
              1,
              "#f0f921"
             ]
            ],
            "type": "heatmap"
           }
          ],
          "heatmapgl": [
           {
            "colorbar": {
             "outlinewidth": 0,
             "ticks": ""
            },
            "colorscale": [
             [
              0,
              "#0d0887"
             ],
             [
              0.1111111111111111,
              "#46039f"
             ],
             [
              0.2222222222222222,
              "#7201a8"
             ],
             [
              0.3333333333333333,
              "#9c179e"
             ],
             [
              0.4444444444444444,
              "#bd3786"
             ],
             [
              0.5555555555555556,
              "#d8576b"
             ],
             [
              0.6666666666666666,
              "#ed7953"
             ],
             [
              0.7777777777777778,
              "#fb9f3a"
             ],
             [
              0.8888888888888888,
              "#fdca26"
             ],
             [
              1,
              "#f0f921"
             ]
            ],
            "type": "heatmapgl"
           }
          ],
          "histogram": [
           {
            "marker": {
             "pattern": {
              "fillmode": "overlay",
              "size": 10,
              "solidity": 0.2
             }
            },
            "type": "histogram"
           }
          ],
          "histogram2d": [
           {
            "colorbar": {
             "outlinewidth": 0,
             "ticks": ""
            },
            "colorscale": [
             [
              0,
              "#0d0887"
             ],
             [
              0.1111111111111111,
              "#46039f"
             ],
             [
              0.2222222222222222,
              "#7201a8"
             ],
             [
              0.3333333333333333,
              "#9c179e"
             ],
             [
              0.4444444444444444,
              "#bd3786"
             ],
             [
              0.5555555555555556,
              "#d8576b"
             ],
             [
              0.6666666666666666,
              "#ed7953"
             ],
             [
              0.7777777777777778,
              "#fb9f3a"
             ],
             [
              0.8888888888888888,
              "#fdca26"
             ],
             [
              1,
              "#f0f921"
             ]
            ],
            "type": "histogram2d"
           }
          ],
          "histogram2dcontour": [
           {
            "colorbar": {
             "outlinewidth": 0,
             "ticks": ""
            },
            "colorscale": [
             [
              0,
              "#0d0887"
             ],
             [
              0.1111111111111111,
              "#46039f"
             ],
             [
              0.2222222222222222,
              "#7201a8"
             ],
             [
              0.3333333333333333,
              "#9c179e"
             ],
             [
              0.4444444444444444,
              "#bd3786"
             ],
             [
              0.5555555555555556,
              "#d8576b"
             ],
             [
              0.6666666666666666,
              "#ed7953"
             ],
             [
              0.7777777777777778,
              "#fb9f3a"
             ],
             [
              0.8888888888888888,
              "#fdca26"
             ],
             [
              1,
              "#f0f921"
             ]
            ],
            "type": "histogram2dcontour"
           }
          ],
          "mesh3d": [
           {
            "colorbar": {
             "outlinewidth": 0,
             "ticks": ""
            },
            "type": "mesh3d"
           }
          ],
          "parcoords": [
           {
            "line": {
             "colorbar": {
              "outlinewidth": 0,
              "ticks": ""
             }
            },
            "type": "parcoords"
           }
          ],
          "pie": [
           {
            "automargin": true,
            "type": "pie"
           }
          ],
          "scatter": [
           {
            "fillpattern": {
             "fillmode": "overlay",
             "size": 10,
             "solidity": 0.2
            },
            "type": "scatter"
           }
          ],
          "scatter3d": [
           {
            "line": {
             "colorbar": {
              "outlinewidth": 0,
              "ticks": ""
             }
            },
            "marker": {
             "colorbar": {
              "outlinewidth": 0,
              "ticks": ""
             }
            },
            "type": "scatter3d"
           }
          ],
          "scattercarpet": [
           {
            "marker": {
             "colorbar": {
              "outlinewidth": 0,
              "ticks": ""
             }
            },
            "type": "scattercarpet"
           }
          ],
          "scattergeo": [
           {
            "marker": {
             "colorbar": {
              "outlinewidth": 0,
              "ticks": ""
             }
            },
            "type": "scattergeo"
           }
          ],
          "scattergl": [
           {
            "marker": {
             "colorbar": {
              "outlinewidth": 0,
              "ticks": ""
             }
            },
            "type": "scattergl"
           }
          ],
          "scattermapbox": [
           {
            "marker": {
             "colorbar": {
              "outlinewidth": 0,
              "ticks": ""
             }
            },
            "type": "scattermapbox"
           }
          ],
          "scatterpolar": [
           {
            "marker": {
             "colorbar": {
              "outlinewidth": 0,
              "ticks": ""
             }
            },
            "type": "scatterpolar"
           }
          ],
          "scatterpolargl": [
           {
            "marker": {
             "colorbar": {
              "outlinewidth": 0,
              "ticks": ""
             }
            },
            "type": "scatterpolargl"
           }
          ],
          "scatterternary": [
           {
            "marker": {
             "colorbar": {
              "outlinewidth": 0,
              "ticks": ""
             }
            },
            "type": "scatterternary"
           }
          ],
          "surface": [
           {
            "colorbar": {
             "outlinewidth": 0,
             "ticks": ""
            },
            "colorscale": [
             [
              0,
              "#0d0887"
             ],
             [
              0.1111111111111111,
              "#46039f"
             ],
             [
              0.2222222222222222,
              "#7201a8"
             ],
             [
              0.3333333333333333,
              "#9c179e"
             ],
             [
              0.4444444444444444,
              "#bd3786"
             ],
             [
              0.5555555555555556,
              "#d8576b"
             ],
             [
              0.6666666666666666,
              "#ed7953"
             ],
             [
              0.7777777777777778,
              "#fb9f3a"
             ],
             [
              0.8888888888888888,
              "#fdca26"
             ],
             [
              1,
              "#f0f921"
             ]
            ],
            "type": "surface"
           }
          ],
          "table": [
           {
            "cells": {
             "fill": {
              "color": "#EBF0F8"
             },
             "line": {
              "color": "white"
             }
            },
            "header": {
             "fill": {
              "color": "#C8D4E3"
             },
             "line": {
              "color": "white"
             }
            },
            "type": "table"
           }
          ]
         },
         "layout": {
          "annotationdefaults": {
           "arrowcolor": "#2a3f5f",
           "arrowhead": 0,
           "arrowwidth": 1
          },
          "autotypenumbers": "strict",
          "coloraxis": {
           "colorbar": {
            "outlinewidth": 0,
            "ticks": ""
           }
          },
          "colorscale": {
           "diverging": [
            [
             0,
             "#8e0152"
            ],
            [
             0.1,
             "#c51b7d"
            ],
            [
             0.2,
             "#de77ae"
            ],
            [
             0.3,
             "#f1b6da"
            ],
            [
             0.4,
             "#fde0ef"
            ],
            [
             0.5,
             "#f7f7f7"
            ],
            [
             0.6,
             "#e6f5d0"
            ],
            [
             0.7,
             "#b8e186"
            ],
            [
             0.8,
             "#7fbc41"
            ],
            [
             0.9,
             "#4d9221"
            ],
            [
             1,
             "#276419"
            ]
           ],
           "sequential": [
            [
             0,
             "#0d0887"
            ],
            [
             0.1111111111111111,
             "#46039f"
            ],
            [
             0.2222222222222222,
             "#7201a8"
            ],
            [
             0.3333333333333333,
             "#9c179e"
            ],
            [
             0.4444444444444444,
             "#bd3786"
            ],
            [
             0.5555555555555556,
             "#d8576b"
            ],
            [
             0.6666666666666666,
             "#ed7953"
            ],
            [
             0.7777777777777778,
             "#fb9f3a"
            ],
            [
             0.8888888888888888,
             "#fdca26"
            ],
            [
             1,
             "#f0f921"
            ]
           ],
           "sequentialminus": [
            [
             0,
             "#0d0887"
            ],
            [
             0.1111111111111111,
             "#46039f"
            ],
            [
             0.2222222222222222,
             "#7201a8"
            ],
            [
             0.3333333333333333,
             "#9c179e"
            ],
            [
             0.4444444444444444,
             "#bd3786"
            ],
            [
             0.5555555555555556,
             "#d8576b"
            ],
            [
             0.6666666666666666,
             "#ed7953"
            ],
            [
             0.7777777777777778,
             "#fb9f3a"
            ],
            [
             0.8888888888888888,
             "#fdca26"
            ],
            [
             1,
             "#f0f921"
            ]
           ]
          },
          "colorway": [
           "#636efa",
           "#EF553B",
           "#00cc96",
           "#ab63fa",
           "#FFA15A",
           "#19d3f3",
           "#FF6692",
           "#B6E880",
           "#FF97FF",
           "#FECB52"
          ],
          "font": {
           "color": "#2a3f5f"
          },
          "geo": {
           "bgcolor": "white",
           "lakecolor": "white",
           "landcolor": "#E5ECF6",
           "showlakes": true,
           "showland": true,
           "subunitcolor": "white"
          },
          "hoverlabel": {
           "align": "left"
          },
          "hovermode": "closest",
          "mapbox": {
           "style": "light"
          },
          "paper_bgcolor": "white",
          "plot_bgcolor": "#E5ECF6",
          "polar": {
           "angularaxis": {
            "gridcolor": "white",
            "linecolor": "white",
            "ticks": ""
           },
           "bgcolor": "#E5ECF6",
           "radialaxis": {
            "gridcolor": "white",
            "linecolor": "white",
            "ticks": ""
           }
          },
          "scene": {
           "xaxis": {
            "backgroundcolor": "#E5ECF6",
            "gridcolor": "white",
            "gridwidth": 2,
            "linecolor": "white",
            "showbackground": true,
            "ticks": "",
            "zerolinecolor": "white"
           },
           "yaxis": {
            "backgroundcolor": "#E5ECF6",
            "gridcolor": "white",
            "gridwidth": 2,
            "linecolor": "white",
            "showbackground": true,
            "ticks": "",
            "zerolinecolor": "white"
           },
           "zaxis": {
            "backgroundcolor": "#E5ECF6",
            "gridcolor": "white",
            "gridwidth": 2,
            "linecolor": "white",
            "showbackground": true,
            "ticks": "",
            "zerolinecolor": "white"
           }
          },
          "shapedefaults": {
           "line": {
            "color": "#2a3f5f"
           }
          },
          "ternary": {
           "aaxis": {
            "gridcolor": "white",
            "linecolor": "white",
            "ticks": ""
           },
           "baxis": {
            "gridcolor": "white",
            "linecolor": "white",
            "ticks": ""
           },
           "bgcolor": "#E5ECF6",
           "caxis": {
            "gridcolor": "white",
            "linecolor": "white",
            "ticks": ""
           }
          },
          "title": {
           "x": 0.05
          },
          "xaxis": {
           "automargin": true,
           "gridcolor": "white",
           "linecolor": "white",
           "ticks": "",
           "title": {
            "standoff": 15
           },
           "zerolinecolor": "white",
           "zerolinewidth": 2
          },
          "yaxis": {
           "automargin": true,
           "gridcolor": "white",
           "linecolor": "white",
           "ticks": "",
           "title": {
            "standoff": 15
           },
           "zerolinecolor": "white",
           "zerolinewidth": 2
          }
         }
        },
        "title": {
         "text": "Papa Day and Night Trend (2nd order polynomial fit)"
        },
        "xaxis": {
         "title": {
          "text": "Time"
         }
        },
        "yaxis": {
         "title": {
          "text": "Biomass (mg/m3)"
         }
        }
       }
      }
     },
     "metadata": {},
     "output_type": "display_data"
    }
   ],
   "source": [
    "plot_trend(day_data, night_data, poly_order=2).update_layout(\n",
    "    title=f\"{station} Day and Night Trend (2nd order polynomial fit)\",\n",
    "    xaxis_title=\"Time\",\n",
    "    yaxis_title=\"Biomass (mg/m3)\",\n",
    ").show()"
   ]
  },
  {
   "cell_type": "code",
   "execution_count": 10,
   "metadata": {},
   "outputs": [
    {
     "data": {
      "application/vnd.plotly.v1+json": {
       "config": {
        "plotlyServerURL": "https://plot.ly"
       },
       "data": [
        {
         "mode": "markers",
         "name": "Day",
         "type": "scatter",
         "x": [
          "1995-09-24T00:00:00.000000000",
          "1995-09-25T00:00:00.000000000",
          "1996-03-06T00:00:00.000000000",
          "1997-03-14T00:00:00.000000000",
          "1997-03-15T00:00:00.000000000",
          "1997-03-16T00:00:00.000000000",
          "1997-03-17T00:00:00.000000000",
          "1997-03-18T00:00:00.000000000",
          "1997-03-24T00:00:00.000000000",
          "1997-03-25T00:00:00.000000000",
          "1997-03-26T00:00:00.000000000",
          "1997-03-29T00:00:00.000000000",
          "1997-04-10T00:00:00.000000000",
          "1997-06-16T00:00:00.000000000",
          "1997-07-03T00:00:00.000000000",
          "1997-07-04T00:00:00.000000000",
          "1997-07-05T00:00:00.000000000",
          "1997-07-06T00:00:00.000000000",
          "1997-07-07T00:00:00.000000000",
          "1997-07-08T00:00:00.000000000",
          "1997-07-09T00:00:00.000000000",
          "1997-07-10T00:00:00.000000000",
          "1997-07-11T00:00:00.000000000",
          "1997-07-18T00:00:00.000000000",
          "1997-08-29T00:00:00.000000000",
          "1997-08-30T00:00:00.000000000",
          "1997-08-31T00:00:00.000000000",
          "1997-09-01T00:00:00.000000000",
          "1997-09-04T00:00:00.000000000",
          "1997-09-05T00:00:00.000000000",
          "1997-09-10T00:00:00.000000000",
          "1997-09-28T00:00:00.000000000",
          "1997-12-02T00:00:00.000000000",
          "1998-01-20T00:00:00.000000000",
          "1998-02-21T00:00:00.000000000",
          "1998-02-24T00:00:00.000000000",
          "1998-02-27T00:00:00.000000000",
          "1998-02-28T00:00:00.000000000",
          "1998-03-03T00:00:00.000000000",
          "1998-04-09T00:00:00.000000000",
          "1998-05-13T00:00:00.000000000",
          "1998-05-17T00:00:00.000000000",
          "1998-05-18T00:00:00.000000000",
          "1998-05-19T00:00:00.000000000",
          "1998-05-20T00:00:00.000000000",
          "1998-05-27T00:00:00.000000000",
          "1998-06-03T00:00:00.000000000",
          "1998-06-05T00:00:00.000000000",
          "1998-06-09T00:00:00.000000000",
          "1998-06-15T00:00:00.000000000",
          "1998-06-18T00:00:00.000000000",
          "1998-06-24T00:00:00.000000000",
          "1998-07-05T00:00:00.000000000",
          "1998-07-06T00:00:00.000000000",
          "1998-07-07T00:00:00.000000000",
          "1998-07-08T00:00:00.000000000",
          "1998-07-09T00:00:00.000000000",
          "1998-07-21T00:00:00.000000000",
          "1998-07-23T00:00:00.000000000",
          "1998-08-27T00:00:00.000000000",
          "1998-09-05T00:00:00.000000000",
          "1998-10-07T00:00:00.000000000",
          "1998-10-10T00:00:00.000000000",
          "1998-10-13T00:00:00.000000000",
          "1998-10-14T00:00:00.000000000",
          "1999-02-18T00:00:00.000000000",
          "1999-02-21T00:00:00.000000000",
          "1999-05-10T00:00:00.000000000",
          "1999-05-11T00:00:00.000000000",
          "1999-05-20T00:00:00.000000000",
          "1999-05-24T00:00:00.000000000",
          "1999-06-18T00:00:00.000000000",
          "1999-06-19T00:00:00.000000000",
          "1999-06-20T00:00:00.000000000",
          "1999-06-24T00:00:00.000000000",
          "1999-07-05T00:00:00.000000000",
          "1999-07-08T00:00:00.000000000",
          "1999-07-09T00:00:00.000000000",
          "1999-07-10T00:00:00.000000000",
          "1999-07-11T00:00:00.000000000",
          "1999-07-12T00:00:00.000000000",
          "1999-07-13T00:00:00.000000000",
          "1999-08-26T00:00:00.000000000",
          "1999-08-27T00:00:00.000000000",
          "1999-09-06T00:00:00.000000000",
          "1999-09-27T00:00:00.000000000",
          "2000-02-15T00:00:00.000000000",
          "2000-05-08T00:00:00.000000000",
          "2000-05-10T00:00:00.000000000",
          "2000-06-18T00:00:00.000000000",
          "2000-06-19T00:00:00.000000000",
          "2000-07-06T00:00:00.000000000",
          "2000-07-07T00:00:00.000000000",
          "2000-07-08T00:00:00.000000000",
          "2000-07-12T00:00:00.000000000",
          "2000-07-13T00:00:00.000000000",
          "2000-08-03T00:00:00.000000000",
          "2000-08-04T00:00:00.000000000",
          "2000-08-05T00:00:00.000000000",
          "2000-08-07T00:00:00.000000000",
          "2000-08-10T00:00:00.000000000",
          "2000-09-15T00:00:00.000000000",
          "2000-09-26T00:00:00.000000000",
          "2000-09-27T00:00:00.000000000",
          "2000-10-01T00:00:00.000000000",
          "2000-10-02T00:00:00.000000000",
          "2001-02-11T00:00:00.000000000",
          "2001-02-16T00:00:00.000000000",
          "2001-02-17T00:00:00.000000000",
          "2001-02-19T00:00:00.000000000",
          "2001-03-23T00:00:00.000000000",
          "2001-05-31T00:00:00.000000000",
          "2001-06-02T00:00:00.000000000",
          "2001-06-03T00:00:00.000000000",
          "2001-06-04T00:00:00.000000000",
          "2001-06-05T00:00:00.000000000",
          "2001-06-06T00:00:00.000000000",
          "2001-06-07T00:00:00.000000000",
          "2001-06-08T00:00:00.000000000",
          "2001-06-09T00:00:00.000000000",
          "2001-06-10T00:00:00.000000000",
          "2001-06-12T00:00:00.000000000",
          "2001-06-16T00:00:00.000000000",
          "2001-06-21T00:00:00.000000000",
          "2001-06-22T00:00:00.000000000",
          "2001-06-23T00:00:00.000000000",
          "2001-06-24T00:00:00.000000000",
          "2001-07-04T00:00:00.000000000",
          "2001-07-06T00:00:00.000000000",
          "2001-08-29T00:00:00.000000000",
          "2001-09-19T00:00:00.000000000",
          "2001-09-22T00:00:00.000000000",
          "2001-09-23T00:00:00.000000000",
          "2001-09-25T00:00:00.000000000",
          "2001-09-26T00:00:00.000000000",
          "2001-09-28T00:00:00.000000000",
          "2001-09-30T00:00:00.000000000",
          "2002-02-11T00:00:00.000000000",
          "2002-02-13T00:00:00.000000000",
          "2002-02-14T00:00:00.000000000",
          "2002-03-05T00:00:00.000000000",
          "2002-05-03T00:00:00.000000000",
          "2002-05-05T00:00:00.000000000",
          "2002-05-06T00:00:00.000000000",
          "2002-06-19T00:00:00.000000000",
          "2002-06-26T00:00:00.000000000",
          "2002-07-01T00:00:00.000000000",
          "2002-07-02T00:00:00.000000000",
          "2002-07-03T00:00:00.000000000",
          "2002-07-04T00:00:00.000000000",
          "2002-07-05T00:00:00.000000000",
          "2002-07-19T00:00:00.000000000",
          "2002-07-22T00:00:00.000000000",
          "2002-07-23T00:00:00.000000000",
          "2002-08-18T00:00:00.000000000",
          "2002-08-27T00:00:00.000000000",
          "2002-09-03T00:00:00.000000000",
          "2002-09-19T00:00:00.000000000",
          "2002-09-21T00:00:00.000000000",
          "2002-10-19T00:00:00.000000000",
          "2002-10-23T00:00:00.000000000",
          "2003-02-12T00:00:00.000000000",
          "2003-02-14T00:00:00.000000000",
          "2003-02-15T00:00:00.000000000",
          "2003-02-16T00:00:00.000000000",
          "2003-02-17T00:00:00.000000000",
          "2003-02-21T00:00:00.000000000",
          "2003-05-19T00:00:00.000000000",
          "2003-05-29T00:00:00.000000000",
          "2003-05-30T00:00:00.000000000",
          "2003-05-31T00:00:00.000000000",
          "2003-06-01T00:00:00.000000000",
          "2003-06-03T00:00:00.000000000",
          "2003-06-09T00:00:00.000000000",
          "2003-06-10T00:00:00.000000000",
          "2003-09-01T00:00:00.000000000",
          "2003-09-02T00:00:00.000000000",
          "2003-09-03T00:00:00.000000000",
          "2003-09-06T00:00:00.000000000",
          "2003-09-26T00:00:00.000000000",
          "2004-02-20T00:00:00.000000000",
          "2004-02-27T00:00:00.000000000",
          "2004-05-29T00:00:00.000000000",
          "2004-05-30T00:00:00.000000000",
          "2004-06-03T00:00:00.000000000",
          "2004-06-04T00:00:00.000000000",
          "2004-06-07T00:00:00.000000000",
          "2004-06-14T00:00:00.000000000",
          "2004-08-22T00:00:00.000000000",
          "2004-08-23T00:00:00.000000000",
          "2004-08-24T00:00:00.000000000",
          "2004-09-05T00:00:00.000000000",
          "2004-09-06T00:00:00.000000000",
          "2004-10-27T00:00:00.000000000",
          "2005-02-15T00:00:00.000000000",
          "2005-02-16T00:00:00.000000000",
          "2005-02-18T00:00:00.000000000",
          "2005-02-19T00:00:00.000000000",
          "2005-02-23T00:00:00.000000000",
          "2005-03-12T00:00:00.000000000",
          "2005-03-13T00:00:00.000000000",
          "2005-05-27T00:00:00.000000000",
          "2005-06-03T00:00:00.000000000",
          "2005-06-06T00:00:00.000000000",
          "2005-06-15T00:00:00.000000000",
          "2005-07-29T00:00:00.000000000",
          "2005-08-13T00:00:00.000000000",
          "2005-08-18T00:00:00.000000000",
          "2005-08-21T00:00:00.000000000",
          "2005-08-23T00:00:00.000000000",
          "2005-08-28T00:00:00.000000000",
          "2005-09-08T00:00:00.000000000",
          "2006-02-06T00:00:00.000000000",
          "2006-02-10T00:00:00.000000000",
          "2006-02-13T00:00:00.000000000",
          "2006-04-21T00:00:00.000000000",
          "2006-07-14T00:00:00.000000000",
          "2006-07-17T00:00:00.000000000",
          "2006-08-24T00:00:00.000000000",
          "2006-08-27T00:00:00.000000000",
          "2006-09-22T00:00:00.000000000",
          "2006-09-24T00:00:00.000000000",
          "2006-09-28T00:00:00.000000000",
          "2006-10-02T00:00:00.000000000",
          "2006-10-04T00:00:00.000000000",
          "2007-02-10T00:00:00.000000000",
          "2007-02-11T00:00:00.000000000",
          "2007-02-12T00:00:00.000000000",
          "2007-02-15T00:00:00.000000000",
          "2007-02-16T00:00:00.000000000",
          "2007-02-18T00:00:00.000000000",
          "2007-05-26T00:00:00.000000000",
          "2007-06-02T00:00:00.000000000",
          "2007-06-03T00:00:00.000000000",
          "2007-06-04T00:00:00.000000000",
          "2007-06-27T00:00:00.000000000",
          "2007-06-28T00:00:00.000000000",
          "2007-07-05T00:00:00.000000000",
          "2007-07-06T00:00:00.000000000",
          "2007-07-08T00:00:00.000000000",
          "2007-08-17T00:00:00.000000000",
          "2007-08-18T00:00:00.000000000",
          "2007-08-19T00:00:00.000000000",
          "2007-08-22T00:00:00.000000000",
          "2007-09-06T00:00:00.000000000",
          "2007-09-07T00:00:00.000000000",
          "2008-02-02T00:00:00.000000000",
          "2008-02-03T00:00:00.000000000",
          "2008-02-04T00:00:00.000000000",
          "2008-02-06T00:00:00.000000000",
          "2008-02-10T00:00:00.000000000",
          "2008-05-25T00:00:00.000000000",
          "2008-05-26T00:00:00.000000000",
          "2008-06-02T00:00:00.000000000",
          "2008-06-03T00:00:00.000000000",
          "2008-06-04T00:00:00.000000000",
          "2008-06-06T00:00:00.000000000",
          "2008-06-08T00:00:00.000000000",
          "2008-07-04T00:00:00.000000000",
          "2008-08-15T00:00:00.000000000",
          "2008-08-17T00:00:00.000000000",
          "2008-09-04T00:00:00.000000000",
          "2009-01-30T00:00:00.000000000",
          "2009-01-31T00:00:00.000000000",
          "2009-05-31T00:00:00.000000000",
          "2009-06-01T00:00:00.000000000",
          "2009-06-08T00:00:00.000000000",
          "2009-06-11T00:00:00.000000000",
          "2009-07-11T00:00:00.000000000",
          "2009-07-12T00:00:00.000000000",
          "2009-07-13T00:00:00.000000000",
          "2009-07-14T00:00:00.000000000",
          "2009-08-22T00:00:00.000000000",
          "2009-08-27T00:00:00.000000000",
          "2009-08-31T00:00:00.000000000",
          "2009-09-09T00:00:00.000000000",
          "2009-09-10T00:00:00.000000000",
          "2010-02-05T00:00:00.000000000",
          "2010-02-08T00:00:00.000000000",
          "2010-05-31T00:00:00.000000000",
          "2010-06-09T00:00:00.000000000",
          "2010-06-11T00:00:00.000000000",
          "2010-06-14T00:00:00.000000000",
          "2010-07-23T00:00:00.000000000",
          "2010-07-24T00:00:00.000000000",
          "2010-07-26T00:00:00.000000000",
          "2010-07-28T00:00:00.000000000",
          "2010-08-21T00:00:00.000000000",
          "2010-08-22T00:00:00.000000000",
          "2010-08-23T00:00:00.000000000",
          "2010-08-25T00:00:00.000000000",
          "2010-08-26T00:00:00.000000000",
          "2010-09-10T00:00:00.000000000",
          "2011-02-10T00:00:00.000000000",
          "2011-02-11T00:00:00.000000000",
          "2011-02-12T00:00:00.000000000",
          "2011-02-14T00:00:00.000000000",
          "2011-02-16T00:00:00.000000000",
          "2011-05-29T00:00:00.000000000",
          "2011-05-30T00:00:00.000000000",
          "2011-06-05T00:00:00.000000000",
          "2011-06-06T00:00:00.000000000",
          "2011-06-08T00:00:00.000000000",
          "2011-06-09T00:00:00.000000000",
          "2011-06-13T00:00:00.000000000",
          "2011-08-22T00:00:00.000000000",
          "2011-08-23T00:00:00.000000000",
          "2011-08-26T00:00:00.000000000",
          "2011-09-06T00:00:00.000000000",
          "2011-09-07T00:00:00.000000000",
          "2011-09-08T00:00:00.000000000",
          "2012-02-10T00:00:00.000000000",
          "2012-02-11T00:00:00.000000000",
          "2012-02-12T00:00:00.000000000",
          "2012-05-16T00:00:00.000000000",
          "2012-05-18T00:00:00.000000000",
          "2012-05-30T00:00:00.000000000",
          "2012-08-18T00:00:00.000000000",
          "2012-08-20T00:00:00.000000000",
          "2012-08-24T00:00:00.000000000",
          "2012-09-04T00:00:00.000000000",
          "2012-09-05T00:00:00.000000000",
          "2012-09-06T00:00:00.000000000",
          "2013-02-07T00:00:00.000000000",
          "2013-02-08T00:00:00.000000000",
          "2013-02-09T00:00:00.000000000",
          "2013-02-14T00:00:00.000000000",
          "2013-06-02T00:00:00.000000000",
          "2013-08-26T00:00:00.000000000",
          "2013-08-28T00:00:00.000000000",
          "2013-08-30T00:00:00.000000000",
          "2014-06-04T00:00:00.000000000",
          "2014-06-13T00:00:00.000000000",
          "2014-06-17T00:00:00.000000000",
          "2014-08-23T00:00:00.000000000",
          "2014-08-26T00:00:00.000000000",
          "2014-09-11T00:00:00.000000000",
          "2014-09-12T00:00:00.000000000",
          "2015-02-12T00:00:00.000000000",
          "2015-02-13T00:00:00.000000000",
          "2015-02-16T00:00:00.000000000",
          "2015-06-02T00:00:00.000000000",
          "2015-06-10T00:00:00.000000000",
          "2015-06-13T00:00:00.000000000",
          "2015-06-17T00:00:00.000000000",
          "2015-06-20T00:00:00.000000000",
          "2015-07-10T00:00:00.000000000",
          "2015-07-11T00:00:00.000000000",
          "2015-07-12T00:00:00.000000000",
          "2015-07-13T00:00:00.000000000",
          "2015-07-14T00:00:00.000000000",
          "2015-07-16T00:00:00.000000000",
          "2015-07-18T00:00:00.000000000",
          "2015-08-22T00:00:00.000000000",
          "2015-08-23T00:00:00.000000000",
          "2015-08-26T00:00:00.000000000",
          "2015-09-07T00:00:00.000000000",
          "2016-02-12T00:00:00.000000000",
          "2016-02-16T00:00:00.000000000",
          "2016-05-31T00:00:00.000000000",
          "2016-06-07T00:00:00.000000000",
          "2016-06-11T00:00:00.000000000",
          "2016-06-14T00:00:00.000000000",
          "2016-08-06T00:00:00.000000000",
          "2016-08-07T00:00:00.000000000",
          "2016-08-10T00:00:00.000000000",
          "2016-08-20T00:00:00.000000000",
          "2016-08-23T00:00:00.000000000",
          "2016-08-29T00:00:00.000000000",
          "2016-09-08T00:00:00.000000000",
          "2017-02-09T00:00:00.000000000",
          "2017-02-15T00:00:00.000000000",
          "2017-02-17T00:00:00.000000000",
          "2017-05-28T00:00:00.000000000",
          "2017-06-06T00:00:00.000000000",
          "2017-06-07T00:00:00.000000000",
          "2017-06-13T00:00:00.000000000",
          "2017-07-22T00:00:00.000000000",
          "2017-07-23T00:00:00.000000000",
          "2017-07-24T00:00:00.000000000",
          "2017-07-25T00:00:00.000000000",
          "2017-07-26T00:00:00.000000000",
          "2017-07-27T00:00:00.000000000",
          "2017-07-28T00:00:00.000000000",
          "2017-08-18T00:00:00.000000000",
          "2017-08-19T00:00:00.000000000",
          "2017-08-21T00:00:00.000000000",
          "2017-08-24T00:00:00.000000000",
          "2017-08-26T00:00:00.000000000",
          "2017-09-05T00:00:00.000000000",
          "2017-09-06T00:00:00.000000000",
          "2017-09-08T00:00:00.000000000",
          "2018-02-21T00:00:00.000000000",
          "2018-02-22T00:00:00.000000000",
          "2018-02-26T00:00:00.000000000",
          "2018-03-02T00:00:00.000000000",
          "2018-05-13T00:00:00.000000000",
          "2018-06-08T00:00:00.000000000",
          "2018-06-09T00:00:00.000000000",
          "2018-06-10T00:00:00.000000000",
          "2018-06-11T00:00:00.000000000",
          "2018-06-13T00:00:00.000000000",
          "2018-09-06T00:00:00.000000000",
          "2018-09-14T00:00:00.000000000",
          "2018-09-15T00:00:00.000000000",
          "2018-09-20T00:00:00.000000000",
          "2018-09-21T00:00:00.000000000",
          "2018-09-22T00:00:00.000000000",
          "2019-02-07T00:00:00.000000000",
          "2019-06-04T00:00:00.000000000",
          "2019-06-05T00:00:00.000000000",
          "2019-06-07T00:00:00.000000000",
          "2019-06-11T00:00:00.000000000",
          "2019-07-03T00:00:00.000000000",
          "2019-07-19T00:00:00.000000000",
          "2019-07-20T00:00:00.000000000",
          "2019-07-21T00:00:00.000000000",
          "2019-07-22T00:00:00.000000000",
          "2019-07-23T00:00:00.000000000",
          "2019-07-26T00:00:00.000000000",
          "2019-07-27T00:00:00.000000000",
          "2019-08-04T00:00:00.000000000",
          "2019-08-16T00:00:00.000000000",
          "2019-08-17T00:00:00.000000000",
          "2019-08-23T00:00:00.000000000",
          "2019-09-03T00:00:00.000000000",
          "2019-09-04T00:00:00.000000000",
          "2020-02-16T00:00:00.000000000",
          "2020-06-26T00:00:00.000000000",
          "2020-06-30T00:00:00.000000000",
          "2020-07-05T00:00:00.000000000",
          "2020-07-22T00:00:00.000000000",
          "2020-07-26T00:00:00.000000000",
          "2020-08-14T00:00:00.000000000",
          "2020-08-15T00:00:00.000000000",
          "2020-08-30T00:00:00.000000000",
          "2020-08-31T00:00:00.000000000"
         ],
         "y": [
          8.035348,
          4.015516000000001,
          6.338296000000001,
          3.3998040000000005,
          3.041844,
          5.814916,
          16.923594000000005,
          5.136204,
          4.252648000000001,
          2.827888,
          4.068096,
          5.380025727272728,
          9.113796,
          11.523857090909091,
          0.860712,
          0.45908400000000005,
          3.877790000000001,
          1.023154,
          7.296318000000001,
          18.356545999999998,
          1.445324,
          2.0890940000000002,
          2.5290920000000003,
          7.480592000000001,
          13.149048000000002,
          7.742032000000001,
          1.4076440000000001,
          1.618236,
          8.44827725,
          2.5781159999999996,
          13.414944,
          5.568436,
          4.060796,
          1.559128,
          2.432852,
          1.1318840000000001,
          3.8516640000000004,
          1.5928615000000002,
          4.806784,
          9.825992,
          23.736716,
          21.63544,
          9.397955999999999,
          13.352768000000001,
          7.271204000000001,
          27.293322000000003,
          5.620008,
          16.46890133333333,
          26.189176,
          7.461732000000001,
          20.431932,
          9.15438,
          14.3330985,
          9.876591333333335,
          8.982811000000002,
          20.4663055,
          18.1755745,
          5.18619175,
          22.975686000000003,
          3.711416,
          3.3982640000000006,
          9.646104000000001,
          4.392764,
          2.6159559999999997,
          5.873172,
          4.667764000000001,
          3.452648,
          18.362308000000002,
          21.173104000000002,
          30.02101200000001,
          6.832536000000001,
          8.462904,
          8.767688000000001,
          26.039968000000002,
          30.380864,
          5.377428000000001,
          25.409504,
          26.9133274,
          10.744238666666668,
          16.446734000000003,
          17.996852999999998,
          8.256618333333334,
          2.1760720000000005,
          3.6025800000000006,
          5.241988,
          4.780323999999999,
          3.1030439999999997,
          5.149984,
          6.559775999999999,
          31.715511999999997,
          26.31447866666667,
          29.975843999999995,
          19.593912000000003,
          27.929960799999996,
          29.227812999999998,
          32.267905,
          5.170808,
          9.53878625,
          7.014220000000001,
          6.769308,
          5.199849,
          22.484812,
          5.98854,
          6.203324000000001,
          10.595691666666667,
          3.831092,
          3.7775240000000005,
          2.7177480000000003,
          17.236464,
          3.8461040000000004,
          2.344872,
          13.498708,
          21.711795333333335,
          15.676170666666666,
          14.430220000000004,
          29.054133999999998,
          23.815638,
          28.150312000000003,
          19.560464000000003,
          16.33851,
          18.79235866666667,
          16.341136666666667,
          12.427480000000001,
          19.232708,
          17.065936,
          29.813548000000004,
          21.548744,
          13.154073,
          21.59668333333333,
          9.924496000000001,
          20.834850000000003,
          11.488249,
          9.280564000000002,
          9.436016000000002,
          9.917952,
          5.429524000000001,
          12.437462,
          2.5745,
          3.5394640000000006,
          2.4128760000000002,
          3.777444,
          18.346316000000005,
          34.862918,
          25.358924,
          11.224421,
          26.635399999999997,
          12.293432000000003,
          10.938344000000003,
          10.104572,
          15.427803999999998,
          9.980696,
          6.529312000000001,
          10.01453066666667,
          19.004692000000002,
          11.933005999999999,
          13.155780000000002,
          10.212576,
          3.954553333333333,
          6.321284,
          13.518208,
          2.477403,
          11.905679999999998,
          6.119952000000001,
          3.2322480000000002,
          1.8740900000000003,
          2.7748559999999998,
          2.932665,
          21.881480000000003,
          10.886932,
          22.036664000000002,
          11.231912000000001,
          15.262460000000003,
          15.821308,
          10.977236000000001,
          21.722504000000004,
          6.26736,
          17.113236,
          10.28228,
          9.016896000000001,
          2.3417480000000004,
          7.753348,
          3.211029,
          22.38143,
          4.4407760000000005,
          8.290508,
          11.656908000000001,
          9.33612,
          16.2015695,
          11.872224,
          6.0021840000000015,
          8.82446,
          5.093784000000001,
          19.973944000000003,
          8.370898,
          9.654028,
          9.610018,
          3.622963999999999,
          6.503660000000001,
          28.242255999999998,
          4.755917,
          5.226634666666667,
          24.896472000000003,
          11.642692000000002,
          8.775964,
          17.05496,
          5.245964000000001,
          3.6400799999999998,
          3.5966519999999997,
          14.236684,
          15.171199999999999,
          4.053676,
          3.5532719999999998,
          3.8461760000000007,
          4.955528,
          6.862068000000001,
          12.207764000000003,
          5.226848,
          16.066832,
          4.3718520000000005,
          9.73662,
          5.795135999999999,
          3.305632,
          5.086228,
          7.466452,
          6.353888000000001,
          9.948768000000001,
          5.427164000000001,
          6.3235,
          5.246288,
          3.923108,
          4.416568,
          31.31296799999999,
          16.963212000000002,
          15.496228000000002,
          19.963392000000002,
          7.636554,
          16.654768,
          19.599924,
          7.4446,
          25.069560000000003,
          3.742872,
          7.8506240000000025,
          4.622524,
          6.784676000000001,
          4.153964,
          3.9173000000000004,
          5.706860000000001,
          3.915396,
          3.6924359999999994,
          1.7812080000000003,
          2.090204,
          6.195027999999999,
          18.14402,
          10.673312000000001,
          33.473963999999995,
          31.7837,
          23.715619999999998,
          30.666815999999997,
          14.011404000000002,
          12.269492000000001,
          32.952904,
          8.238935999999999,
          7.518362000000001,
          1.922298,
          11.880586,
          20.294176,
          9.365196000000001,
          16.85128,
          17.958584000000002,
          13.370336000000002,
          16.622816,
          6.196400000000001,
          23.465044,
          9.909396000000001,
          5.919944000000001,
          5.505724000000001,
          4.069211999999999,
          1.16982,
          4.988588,
          9.832368,
          25.474452,
          19.339376,
          21.840792,
          3.8084360000000004,
          11.151328000000001,
          14.398976,
          30.792200000000005,
          15.144984000000001,
          9.236352,
          6.041036,
          7.472911999999998,
          12.373232000000002,
          3.337952,
          10.078164000000001,
          1.7423879999999998,
          1.1623920000000003,
          8.032816,
          2.851624,
          25.522636000000002,
          18.961014000000002,
          21.047252000000004,
          12.726760000000002,
          9.879340000000003,
          17.272048,
          25.829927999999995,
          4.970724000000001,
          13.029748000000001,
          13.520131999999998,
          14.979654,
          5.478324000000001,
          3.3551919999999997,
          2.357364,
          3.137868,
          3.5795559999999997,
          16.546792000000003,
          17.383584,
          23.396552000000003,
          7.9623680000000014,
          13.503672000000002,
          3.69118,
          7.203099999999999,
          5.842956000000001,
          4.5717680000000005,
          2.721696,
          9.194036,
          6.484636000000001,
          14.036696000000001,
          28.815328,
          5.7726999999999995,
          3.423836,
          10.268051999999999,
          5.178124,
          17.801416000000003,
          17.698059999999998,
          9.447208000000002,
          9.449088000000001,
          5.890536000000001,
          4.413296000000001,
          2.173812,
          4.296372,
          4.173572,
          17.027607999999997,
          9.370764000000003,
          13.071995999999999,
          23.566176,
          7.852880000000001,
          22.192636,
          7.601426000000001,
          15.075516000000002,
          8.670143999999999,
          9.494137000000002,
          12.768636,
          6.016428,
          8.870616000000002,
          8.192356000000002,
          4.864108000000001,
          7.547356,
          6.0897,
          10.49262,
          9.575456,
          21.09374,
          20.682368,
          15.319308,
          6.193748,
          7.860200000000001,
          10.592728000000001,
          2.0092079999999997,
          6.760776000000002,
          17.030928,
          3.433052,
          2.3111840000000003,
          2.174192,
          2.4974680000000005,
          14.498919999999998,
          6.768404,
          8.258896,
          7.419296,
          6.731774000000001,
          9.239168,
          16.119664,
          12.590108,
          15.136147999999999,
          5.1172320000000004,
          11.066386000000001,
          7.091076000000001,
          5.11686,
          8.319284,
          6.640836,
          11.647668000000001,
          3.04514,
          4.58148,
          3.032724,
          3.421868000000001,
          2.155288,
          5.773732,
          5.29112,
          5.9768040000000004,
          14.540771999999999,
          18.497812000000003,
          30.646536000000005,
          8.962856,
          16.591624,
          8.204464,
          6.284292000000001,
          2.0649640000000002,
          3.953996,
          1.3073720000000002,
          3.7540146666666665,
          1.1226720000000001,
          15.703824000000001,
          2.641620000000001,
          17.554628,
          6.936336000000001,
          15.646956,
          10.068736000000001,
          2.466232,
          15.792556000000003,
          11.382624,
          6.7994080000000015,
          6.200476000000001,
          10.541236000000001,
          17.978980000000004,
          5.933876,
          4.740136,
          2.724736,
          7.572116,
          4.2982000000000005,
          3.3293359999999996,
          20.54391,
          20.51554,
          12.175060000000002,
          7.0395720000000015,
          1.2573800000000004,
          7.678711999999999,
          1.980316,
          6.942504,
          6.0201
         ]
        },
        {
         "mode": "markers",
         "name": "Night",
         "type": "scatter",
         "x": [
          "1995-09-24T00:00:00.000000000",
          "1995-09-25T00:00:00.000000000",
          "1995-09-26T00:00:00.000000000",
          "1995-09-28T00:00:00.000000000",
          "1996-06-11T00:00:00.000000000",
          "1996-10-05T00:00:00.000000000",
          "1997-02-21T00:00:00.000000000",
          "1997-02-24T00:00:00.000000000",
          "1997-06-15T00:00:00.000000000",
          "1997-07-12T00:00:00.000000000",
          "1997-09-04T00:00:00.000000000",
          "1998-01-19T00:00:00.000000000",
          "1998-02-21T00:00:00.000000000",
          "1998-02-23T00:00:00.000000000",
          "1998-02-27T00:00:00.000000000",
          "1998-03-03T00:00:00.000000000",
          "1998-04-08T00:00:00.000000000",
          "1998-06-08T00:00:00.000000000",
          "1998-06-13T00:00:00.000000000",
          "1998-06-17T00:00:00.000000000",
          "1998-06-18T00:00:00.000000000",
          "1998-07-03T00:00:00.000000000",
          "1998-07-18T00:00:00.000000000",
          "1998-08-28T00:00:00.000000000",
          "1998-08-29T00:00:00.000000000",
          "1998-08-30T00:00:00.000000000",
          "1998-09-01T00:00:00.000000000",
          "1998-10-08T00:00:00.000000000",
          "1999-02-18T00:00:00.000000000",
          "1999-02-20T00:00:00.000000000",
          "1999-02-21T00:00:00.000000000",
          "1999-05-25T00:00:00.000000000",
          "1999-08-29T00:00:00.000000000",
          "1999-08-30T00:00:00.000000000",
          "1999-09-02T00:00:00.000000000",
          "1999-09-04T00:00:00.000000000",
          "1999-09-05T00:00:00.000000000",
          "1999-09-07T00:00:00.000000000",
          "1999-10-13T00:00:00.000000000",
          "2000-05-08T00:00:00.000000000",
          "2000-05-09T00:00:00.000000000",
          "2000-05-10T00:00:00.000000000",
          "2000-06-09T00:00:00.000000000",
          "2000-06-19T00:00:00.000000000",
          "2000-06-20T00:00:00.000000000",
          "2000-07-04T00:00:00.000000000",
          "2000-07-05T00:00:00.000000000",
          "2000-08-04T00:00:00.000000000",
          "2000-08-05T00:00:00.000000000",
          "2000-08-06T00:00:00.000000000",
          "2000-09-07T00:00:00.000000000",
          "2000-09-08T00:00:00.000000000",
          "2000-09-10T00:00:00.000000000",
          "2000-09-11T00:00:00.000000000",
          "2000-09-14T00:00:00.000000000",
          "2000-09-26T00:00:00.000000000",
          "2000-09-27T00:00:00.000000000",
          "2000-09-28T00:00:00.000000000",
          "2000-09-29T00:00:00.000000000",
          "2000-10-01T00:00:00.000000000",
          "2001-02-09T00:00:00.000000000",
          "2001-02-12T00:00:00.000000000",
          "2001-02-16T00:00:00.000000000",
          "2001-06-02T00:00:00.000000000",
          "2001-06-03T00:00:00.000000000",
          "2001-06-05T00:00:00.000000000",
          "2001-06-09T00:00:00.000000000",
          "2001-06-10T00:00:00.000000000",
          "2001-06-11T00:00:00.000000000",
          "2001-06-12T00:00:00.000000000",
          "2001-08-25T00:00:00.000000000",
          "2001-09-22T00:00:00.000000000",
          "2001-09-27T00:00:00.000000000",
          "2001-09-28T00:00:00.000000000",
          "2001-10-03T00:00:00.000000000",
          "2002-02-07T00:00:00.000000000",
          "2002-02-15T00:00:00.000000000",
          "2002-02-16T00:00:00.000000000",
          "2002-07-23T00:00:00.000000000",
          "2002-08-28T00:00:00.000000000",
          "2002-08-29T00:00:00.000000000",
          "2002-08-30T00:00:00.000000000",
          "2002-09-06T00:00:00.000000000",
          "2002-09-08T00:00:00.000000000",
          "2002-10-23T00:00:00.000000000",
          "2003-06-08T00:00:00.000000000",
          "2003-09-07T00:00:00.000000000",
          "2003-09-27T00:00:00.000000000",
          "2003-09-28T00:00:00.000000000",
          "2003-10-26T00:00:00.000000000",
          "2003-10-27T00:00:00.000000000",
          "2004-02-20T00:00:00.000000000",
          "2004-02-21T00:00:00.000000000",
          "2004-02-22T00:00:00.000000000",
          "2004-02-24T00:00:00.000000000",
          "2004-06-06T00:00:00.000000000",
          "2004-08-21T00:00:00.000000000",
          "2004-08-26T00:00:00.000000000",
          "2004-09-05T00:00:00.000000000",
          "2005-02-13T00:00:00.000000000",
          "2005-02-14T00:00:00.000000000",
          "2005-02-18T00:00:00.000000000",
          "2005-02-22T00:00:00.000000000",
          "2005-03-12T00:00:00.000000000",
          "2005-05-28T00:00:00.000000000",
          "2005-06-03T00:00:00.000000000",
          "2005-08-19T00:00:00.000000000",
          "2005-08-20T00:00:00.000000000",
          "2005-08-22T00:00:00.000000000",
          "2005-08-27T00:00:00.000000000",
          "2005-09-09T00:00:00.000000000",
          "2006-02-09T00:00:00.000000000",
          "2006-04-21T00:00:00.000000000",
          "2006-09-23T00:00:00.000000000",
          "2006-09-26T00:00:00.000000000",
          "2006-10-01T00:00:00.000000000",
          "2007-02-10T00:00:00.000000000",
          "2007-02-16T00:00:00.000000000",
          "2007-02-18T00:00:00.000000000",
          "2007-06-07T00:00:00.000000000",
          "2007-06-21T00:00:00.000000000",
          "2008-08-16T00:00:00.000000000",
          "2008-08-19T00:00:00.000000000",
          "2008-08-21T00:00:00.000000000",
          "2008-09-05T00:00:00.000000000",
          "2008-09-06T00:00:00.000000000",
          "2008-10-17T00:00:00.000000000",
          "2009-02-02T00:00:00.000000000",
          "2009-02-05T00:00:00.000000000",
          "2009-06-09T00:00:00.000000000",
          "2009-06-14T00:00:00.000000000",
          "2009-08-23T00:00:00.000000000",
          "2009-08-26T00:00:00.000000000",
          "2009-08-31T00:00:00.000000000",
          "2010-02-06T00:00:00.000000000",
          "2010-06-08T00:00:00.000000000",
          "2010-06-10T00:00:00.000000000",
          "2010-09-08T00:00:00.000000000",
          "2010-09-09T00:00:00.000000000",
          "2011-05-30T00:00:00.000000000",
          "2011-08-19T00:00:00.000000000",
          "2011-08-20T00:00:00.000000000",
          "2012-02-15T00:00:00.000000000",
          "2012-02-16T00:00:00.000000000",
          "2012-05-18T00:00:00.000000000",
          "2012-06-03T00:00:00.000000000",
          "2012-08-18T00:00:00.000000000",
          "2013-02-13T00:00:00.000000000",
          "2013-06-10T00:00:00.000000000",
          "2013-06-14T00:00:00.000000000",
          "2013-06-18T00:00:00.000000000",
          "2013-08-23T00:00:00.000000000",
          "2013-08-25T00:00:00.000000000",
          "2013-09-11T00:00:00.000000000",
          "2014-02-12T00:00:00.000000000",
          "2014-02-22T00:00:00.000000000",
          "2014-08-25T00:00:00.000000000",
          "2014-08-26T00:00:00.000000000",
          "2014-09-10T00:00:00.000000000",
          "2014-09-11T00:00:00.000000000",
          "2015-02-15T00:00:00.000000000",
          "2015-02-19T00:00:00.000000000",
          "2015-06-12T00:00:00.000000000",
          "2015-07-13T00:00:00.000000000",
          "2015-07-15T00:00:00.000000000",
          "2015-08-24T00:00:00.000000000",
          "2015-08-28T00:00:00.000000000",
          "2015-10-19T00:00:00.000000000",
          "2016-02-10T00:00:00.000000000",
          "2016-02-18T00:00:00.000000000",
          "2016-06-09T00:00:00.000000000",
          "2016-06-10T00:00:00.000000000",
          "2016-08-22T00:00:00.000000000",
          "2016-08-26T00:00:00.000000000",
          "2017-02-12T00:00:00.000000000",
          "2017-02-16T00:00:00.000000000",
          "2017-05-30T00:00:00.000000000",
          "2017-06-09T00:00:00.000000000",
          "2017-06-10T00:00:00.000000000",
          "2017-07-22T00:00:00.000000000",
          "2017-07-23T00:00:00.000000000",
          "2017-07-24T00:00:00.000000000",
          "2017-07-25T00:00:00.000000000",
          "2017-07-26T00:00:00.000000000",
          "2017-07-27T00:00:00.000000000",
          "2017-07-28T00:00:00.000000000",
          "2017-09-07T00:00:00.000000000",
          "2018-03-03T00:00:00.000000000",
          "2018-08-28T00:00:00.000000000",
          "2018-09-16T00:00:00.000000000",
          "2018-09-18T00:00:00.000000000",
          "2018-09-20T00:00:00.000000000",
          "2019-02-08T00:00:00.000000000",
          "2019-02-10T00:00:00.000000000",
          "2019-02-12T00:00:00.000000000",
          "2019-07-20T00:00:00.000000000",
          "2019-07-21T00:00:00.000000000",
          "2019-07-22T00:00:00.000000000",
          "2019-07-23T00:00:00.000000000",
          "2019-07-24T00:00:00.000000000",
          "2019-07-27T00:00:00.000000000",
          "2019-08-19T00:00:00.000000000",
          "2019-08-20T00:00:00.000000000",
          "2020-02-10T00:00:00.000000000",
          "2020-02-11T00:00:00.000000000",
          "2020-02-12T00:00:00.000000000",
          "2020-02-14T00:00:00.000000000",
          "2020-02-15T00:00:00.000000000",
          "2020-08-17T00:00:00.000000000",
          "2020-08-18T00:00:00.000000000",
          "2020-08-20T00:00:00.000000000"
         ],
         "y": [
          17.425684,
          15.733402000000002,
          5.903126,
          4.078952,
          9.188519999999997,
          11.379199999999999,
          2.8430866666666663,
          6.166544000000001,
          8.214580000000002,
          10.469499999999996,
          22.427618000000002,
          2.9162200000000005,
          2.724724,
          6.394591999999999,
          10.442839999999999,
          8.228772,
          7.504964000000001,
          14.850876,
          20.069128,
          17.334006,
          19.025128,
          18.023226,
          16.366196,
          14.393116000000001,
          10.83702,
          7.141216,
          8.701976,
          19.940937,
          10.937248,
          4.3099359999999995,
          8.07041,
          12.026934000000004,
          4.777912,
          26.528328000000002,
          11.145840000000002,
          5.29504,
          7.451132000000001,
          16.390264,
          12.327728000000002,
          20.120168,
          34.168764,
          29.945054,
          16.079108,
          14.831135999999999,
          14.868716,
          11.648093066666666,
          15.407938666666666,
          7.245644,
          9.918092000000001,
          34.092264,
          5.406263999999999,
          29.352432,
          8.248164000000001,
          9.935784,
          7.968064000000002,
          9.564498,
          13.842414999999999,
          9.937294000000001,
          10.25956,
          8.921092,
          3.4366480000000004,
          7.627116,
          13.35804,
          18.3315,
          33.256870000000006,
          26.436032000000004,
          31.138452000000008,
          22.953940000000003,
          23.6519605,
          33.901416000000005,
          9.231852,
          20.986520000000002,
          6.2142800000000005,
          12.2879,
          2.0342960000000003,
          1.7196599999999997,
          17.015314000000004,
          7.450659999999999,
          13.2916,
          8.615091999999999,
          16.360152,
          26.954051999999997,
          14.818592000000002,
          17.618268,
          5.180768,
          23.838772000000006,
          27.700968000000003,
          13.578042,
          5.621664,
          5.854744,
          16.839516000000003,
          5.667267999999999,
          12.406780000000001,
          16.271604,
          5.545132000000001,
          9.725824000000001,
          7.843792,
          10.082,
          8.600224000000003,
          11.476751999999998,
          5.627008,
          18.10564,
          7.772691999999999,
          8.27766,
          8.576712,
          12.930955999999998,
          11.999952,
          22.552028000000004,
          12.275308000000003,
          14.871532,
          2.439196,
          7.605124,
          7.553700000000001,
          4.943296,
          5.0785160000000005,
          4.676896,
          4.428636,
          8.674871999999999,
          4.089356000000001,
          23.811128,
          19.388201000000002,
          35.080696,
          32.207640000000005,
          20.593720000000005,
          6.084928000000001,
          11.644352,
          2.6440319999999997,
          18.128995999999997,
          5.91377,
          24.407764,
          15.818324000000002,
          22.682332000000002,
          12.283148,
          14.667383999999998,
          5.153792000000001,
          16.403015999999997,
          27.04038,
          32.29084400000001,
          15.632968000000002,
          6.357728000000001,
          6.17774,
          4.59178,
          16.287272,
          5.438844,
          16.361820000000005,
          11.289439999999999,
          10.851455999999999,
          11.467464000000001,
          5.836996000000001,
          16.286708000000004,
          14.858072000000002,
          9.274564000000002,
          18.577276,
          7.462696000000001,
          6.544003999999998,
          5.305544,
          12.532376000000001,
          8.707148000000002,
          7.608912000000003,
          9.095327999999999,
          6.306652000000001,
          8.928432,
          12.253643999999998,
          8.834916000000002,
          21.949640000000002,
          12.844111999999999,
          19.892788000000003,
          9.286756,
          4.60374,
          17.870344,
          25.752980000000004,
          14.897704000000003,
          19.129084000000002,
          34.13082000000001,
          2.6583120000000005,
          2.838952,
          25.128548000000002,
          8.529768000000002,
          12.427056,
          8.167770000000003,
          7.1329280000000015,
          9.875814,
          10.459792000000002,
          9.889914,
          18.35104,
          17.9856,
          4.334200000000001,
          6.847832,
          7.117943999999999,
          8.064540000000001,
          15.616516000000003,
          11.872928000000002,
          4.438512,
          2.4227040000000004,
          2.8246480000000003,
          8.00375,
          12.25514,
          7.696544000000002,
          22.504084,
          10.947956000000003,
          17.833888,
          6.246476,
          4.73698,
          5.789000000000001,
          3.4571040000000006,
          3.20472,
          3.3774040000000003,
          3.0646159999999996,
          15.392288,
          17.269468,
          19.936768
         ]
        }
       ],
       "layout": {
        "height": 600,
        "legend": {
         "title": {
          "text": "Legend"
         }
        },
        "shapes": [
         {
          "line": {
           "color": "black",
           "dash": "dash",
           "width": 2
          },
          "name": "Year 2000",
          "type": "line",
          "x0": "2002-01-01",
          "x1": "2002-01-01",
          "xref": "x",
          "y0": 0,
          "y1": 1,
          "yref": "paper"
         },
         {
          "line": {
           "color": "black",
           "dash": "dash",
           "width": 2
          },
          "name": "Year 2015",
          "type": "line",
          "x0": "2015-01-01",
          "x1": "2015-01-01",
          "xref": "x",
          "y0": 0,
          "y1": 1,
          "yref": "paper"
         }
        ],
        "showlegend": true,
        "template": {
         "data": {
          "bar": [
           {
            "error_x": {
             "color": "#2a3f5f"
            },
            "error_y": {
             "color": "#2a3f5f"
            },
            "marker": {
             "line": {
              "color": "#E5ECF6",
              "width": 0.5
             },
             "pattern": {
              "fillmode": "overlay",
              "size": 10,
              "solidity": 0.2
             }
            },
            "type": "bar"
           }
          ],
          "barpolar": [
           {
            "marker": {
             "line": {
              "color": "#E5ECF6",
              "width": 0.5
             },
             "pattern": {
              "fillmode": "overlay",
              "size": 10,
              "solidity": 0.2
             }
            },
            "type": "barpolar"
           }
          ],
          "carpet": [
           {
            "aaxis": {
             "endlinecolor": "#2a3f5f",
             "gridcolor": "white",
             "linecolor": "white",
             "minorgridcolor": "white",
             "startlinecolor": "#2a3f5f"
            },
            "baxis": {
             "endlinecolor": "#2a3f5f",
             "gridcolor": "white",
             "linecolor": "white",
             "minorgridcolor": "white",
             "startlinecolor": "#2a3f5f"
            },
            "type": "carpet"
           }
          ],
          "choropleth": [
           {
            "colorbar": {
             "outlinewidth": 0,
             "ticks": ""
            },
            "type": "choropleth"
           }
          ],
          "contour": [
           {
            "colorbar": {
             "outlinewidth": 0,
             "ticks": ""
            },
            "colorscale": [
             [
              0,
              "#0d0887"
             ],
             [
              0.1111111111111111,
              "#46039f"
             ],
             [
              0.2222222222222222,
              "#7201a8"
             ],
             [
              0.3333333333333333,
              "#9c179e"
             ],
             [
              0.4444444444444444,
              "#bd3786"
             ],
             [
              0.5555555555555556,
              "#d8576b"
             ],
             [
              0.6666666666666666,
              "#ed7953"
             ],
             [
              0.7777777777777778,
              "#fb9f3a"
             ],
             [
              0.8888888888888888,
              "#fdca26"
             ],
             [
              1,
              "#f0f921"
             ]
            ],
            "type": "contour"
           }
          ],
          "contourcarpet": [
           {
            "colorbar": {
             "outlinewidth": 0,
             "ticks": ""
            },
            "type": "contourcarpet"
           }
          ],
          "heatmap": [
           {
            "colorbar": {
             "outlinewidth": 0,
             "ticks": ""
            },
            "colorscale": [
             [
              0,
              "#0d0887"
             ],
             [
              0.1111111111111111,
              "#46039f"
             ],
             [
              0.2222222222222222,
              "#7201a8"
             ],
             [
              0.3333333333333333,
              "#9c179e"
             ],
             [
              0.4444444444444444,
              "#bd3786"
             ],
             [
              0.5555555555555556,
              "#d8576b"
             ],
             [
              0.6666666666666666,
              "#ed7953"
             ],
             [
              0.7777777777777778,
              "#fb9f3a"
             ],
             [
              0.8888888888888888,
              "#fdca26"
             ],
             [
              1,
              "#f0f921"
             ]
            ],
            "type": "heatmap"
           }
          ],
          "heatmapgl": [
           {
            "colorbar": {
             "outlinewidth": 0,
             "ticks": ""
            },
            "colorscale": [
             [
              0,
              "#0d0887"
             ],
             [
              0.1111111111111111,
              "#46039f"
             ],
             [
              0.2222222222222222,
              "#7201a8"
             ],
             [
              0.3333333333333333,
              "#9c179e"
             ],
             [
              0.4444444444444444,
              "#bd3786"
             ],
             [
              0.5555555555555556,
              "#d8576b"
             ],
             [
              0.6666666666666666,
              "#ed7953"
             ],
             [
              0.7777777777777778,
              "#fb9f3a"
             ],
             [
              0.8888888888888888,
              "#fdca26"
             ],
             [
              1,
              "#f0f921"
             ]
            ],
            "type": "heatmapgl"
           }
          ],
          "histogram": [
           {
            "marker": {
             "pattern": {
              "fillmode": "overlay",
              "size": 10,
              "solidity": 0.2
             }
            },
            "type": "histogram"
           }
          ],
          "histogram2d": [
           {
            "colorbar": {
             "outlinewidth": 0,
             "ticks": ""
            },
            "colorscale": [
             [
              0,
              "#0d0887"
             ],
             [
              0.1111111111111111,
              "#46039f"
             ],
             [
              0.2222222222222222,
              "#7201a8"
             ],
             [
              0.3333333333333333,
              "#9c179e"
             ],
             [
              0.4444444444444444,
              "#bd3786"
             ],
             [
              0.5555555555555556,
              "#d8576b"
             ],
             [
              0.6666666666666666,
              "#ed7953"
             ],
             [
              0.7777777777777778,
              "#fb9f3a"
             ],
             [
              0.8888888888888888,
              "#fdca26"
             ],
             [
              1,
              "#f0f921"
             ]
            ],
            "type": "histogram2d"
           }
          ],
          "histogram2dcontour": [
           {
            "colorbar": {
             "outlinewidth": 0,
             "ticks": ""
            },
            "colorscale": [
             [
              0,
              "#0d0887"
             ],
             [
              0.1111111111111111,
              "#46039f"
             ],
             [
              0.2222222222222222,
              "#7201a8"
             ],
             [
              0.3333333333333333,
              "#9c179e"
             ],
             [
              0.4444444444444444,
              "#bd3786"
             ],
             [
              0.5555555555555556,
              "#d8576b"
             ],
             [
              0.6666666666666666,
              "#ed7953"
             ],
             [
              0.7777777777777778,
              "#fb9f3a"
             ],
             [
              0.8888888888888888,
              "#fdca26"
             ],
             [
              1,
              "#f0f921"
             ]
            ],
            "type": "histogram2dcontour"
           }
          ],
          "mesh3d": [
           {
            "colorbar": {
             "outlinewidth": 0,
             "ticks": ""
            },
            "type": "mesh3d"
           }
          ],
          "parcoords": [
           {
            "line": {
             "colorbar": {
              "outlinewidth": 0,
              "ticks": ""
             }
            },
            "type": "parcoords"
           }
          ],
          "pie": [
           {
            "automargin": true,
            "type": "pie"
           }
          ],
          "scatter": [
           {
            "fillpattern": {
             "fillmode": "overlay",
             "size": 10,
             "solidity": 0.2
            },
            "type": "scatter"
           }
          ],
          "scatter3d": [
           {
            "line": {
             "colorbar": {
              "outlinewidth": 0,
              "ticks": ""
             }
            },
            "marker": {
             "colorbar": {
              "outlinewidth": 0,
              "ticks": ""
             }
            },
            "type": "scatter3d"
           }
          ],
          "scattercarpet": [
           {
            "marker": {
             "colorbar": {
              "outlinewidth": 0,
              "ticks": ""
             }
            },
            "type": "scattercarpet"
           }
          ],
          "scattergeo": [
           {
            "marker": {
             "colorbar": {
              "outlinewidth": 0,
              "ticks": ""
             }
            },
            "type": "scattergeo"
           }
          ],
          "scattergl": [
           {
            "marker": {
             "colorbar": {
              "outlinewidth": 0,
              "ticks": ""
             }
            },
            "type": "scattergl"
           }
          ],
          "scattermapbox": [
           {
            "marker": {
             "colorbar": {
              "outlinewidth": 0,
              "ticks": ""
             }
            },
            "type": "scattermapbox"
           }
          ],
          "scatterpolar": [
           {
            "marker": {
             "colorbar": {
              "outlinewidth": 0,
              "ticks": ""
             }
            },
            "type": "scatterpolar"
           }
          ],
          "scatterpolargl": [
           {
            "marker": {
             "colorbar": {
              "outlinewidth": 0,
              "ticks": ""
             }
            },
            "type": "scatterpolargl"
           }
          ],
          "scatterternary": [
           {
            "marker": {
             "colorbar": {
              "outlinewidth": 0,
              "ticks": ""
             }
            },
            "type": "scatterternary"
           }
          ],
          "surface": [
           {
            "colorbar": {
             "outlinewidth": 0,
             "ticks": ""
            },
            "colorscale": [
             [
              0,
              "#0d0887"
             ],
             [
              0.1111111111111111,
              "#46039f"
             ],
             [
              0.2222222222222222,
              "#7201a8"
             ],
             [
              0.3333333333333333,
              "#9c179e"
             ],
             [
              0.4444444444444444,
              "#bd3786"
             ],
             [
              0.5555555555555556,
              "#d8576b"
             ],
             [
              0.6666666666666666,
              "#ed7953"
             ],
             [
              0.7777777777777778,
              "#fb9f3a"
             ],
             [
              0.8888888888888888,
              "#fdca26"
             ],
             [
              1,
              "#f0f921"
             ]
            ],
            "type": "surface"
           }
          ],
          "table": [
           {
            "cells": {
             "fill": {
              "color": "#EBF0F8"
             },
             "line": {
              "color": "white"
             }
            },
            "header": {
             "fill": {
              "color": "#C8D4E3"
             },
             "line": {
              "color": "white"
             }
            },
            "type": "table"
           }
          ]
         },
         "layout": {
          "annotationdefaults": {
           "arrowcolor": "#2a3f5f",
           "arrowhead": 0,
           "arrowwidth": 1
          },
          "autotypenumbers": "strict",
          "coloraxis": {
           "colorbar": {
            "outlinewidth": 0,
            "ticks": ""
           }
          },
          "colorscale": {
           "diverging": [
            [
             0,
             "#8e0152"
            ],
            [
             0.1,
             "#c51b7d"
            ],
            [
             0.2,
             "#de77ae"
            ],
            [
             0.3,
             "#f1b6da"
            ],
            [
             0.4,
             "#fde0ef"
            ],
            [
             0.5,
             "#f7f7f7"
            ],
            [
             0.6,
             "#e6f5d0"
            ],
            [
             0.7,
             "#b8e186"
            ],
            [
             0.8,
             "#7fbc41"
            ],
            [
             0.9,
             "#4d9221"
            ],
            [
             1,
             "#276419"
            ]
           ],
           "sequential": [
            [
             0,
             "#0d0887"
            ],
            [
             0.1111111111111111,
             "#46039f"
            ],
            [
             0.2222222222222222,
             "#7201a8"
            ],
            [
             0.3333333333333333,
             "#9c179e"
            ],
            [
             0.4444444444444444,
             "#bd3786"
            ],
            [
             0.5555555555555556,
             "#d8576b"
            ],
            [
             0.6666666666666666,
             "#ed7953"
            ],
            [
             0.7777777777777778,
             "#fb9f3a"
            ],
            [
             0.8888888888888888,
             "#fdca26"
            ],
            [
             1,
             "#f0f921"
            ]
           ],
           "sequentialminus": [
            [
             0,
             "#0d0887"
            ],
            [
             0.1111111111111111,
             "#46039f"
            ],
            [
             0.2222222222222222,
             "#7201a8"
            ],
            [
             0.3333333333333333,
             "#9c179e"
            ],
            [
             0.4444444444444444,
             "#bd3786"
            ],
            [
             0.5555555555555556,
             "#d8576b"
            ],
            [
             0.6666666666666666,
             "#ed7953"
            ],
            [
             0.7777777777777778,
             "#fb9f3a"
            ],
            [
             0.8888888888888888,
             "#fdca26"
            ],
            [
             1,
             "#f0f921"
            ]
           ]
          },
          "colorway": [
           "#636efa",
           "#EF553B",
           "#00cc96",
           "#ab63fa",
           "#FFA15A",
           "#19d3f3",
           "#FF6692",
           "#B6E880",
           "#FF97FF",
           "#FECB52"
          ],
          "font": {
           "color": "#2a3f5f"
          },
          "geo": {
           "bgcolor": "white",
           "lakecolor": "white",
           "landcolor": "#E5ECF6",
           "showlakes": true,
           "showland": true,
           "subunitcolor": "white"
          },
          "hoverlabel": {
           "align": "left"
          },
          "hovermode": "closest",
          "mapbox": {
           "style": "light"
          },
          "paper_bgcolor": "white",
          "plot_bgcolor": "#E5ECF6",
          "polar": {
           "angularaxis": {
            "gridcolor": "white",
            "linecolor": "white",
            "ticks": ""
           },
           "bgcolor": "#E5ECF6",
           "radialaxis": {
            "gridcolor": "white",
            "linecolor": "white",
            "ticks": ""
           }
          },
          "scene": {
           "xaxis": {
            "backgroundcolor": "#E5ECF6",
            "gridcolor": "white",
            "gridwidth": 2,
            "linecolor": "white",
            "showbackground": true,
            "ticks": "",
            "zerolinecolor": "white"
           },
           "yaxis": {
            "backgroundcolor": "#E5ECF6",
            "gridcolor": "white",
            "gridwidth": 2,
            "linecolor": "white",
            "showbackground": true,
            "ticks": "",
            "zerolinecolor": "white"
           },
           "zaxis": {
            "backgroundcolor": "#E5ECF6",
            "gridcolor": "white",
            "gridwidth": 2,
            "linecolor": "white",
            "showbackground": true,
            "ticks": "",
            "zerolinecolor": "white"
           }
          },
          "shapedefaults": {
           "line": {
            "color": "#2a3f5f"
           }
          },
          "ternary": {
           "aaxis": {
            "gridcolor": "white",
            "linecolor": "white",
            "ticks": ""
           },
           "baxis": {
            "gridcolor": "white",
            "linecolor": "white",
            "ticks": ""
           },
           "bgcolor": "#E5ECF6",
           "caxis": {
            "gridcolor": "white",
            "linecolor": "white",
            "ticks": ""
           }
          },
          "title": {
           "x": 0.05
          },
          "xaxis": {
           "automargin": true,
           "gridcolor": "white",
           "linecolor": "white",
           "ticks": "",
           "title": {
            "standoff": 15
           },
           "zerolinecolor": "white",
           "zerolinewidth": 2
          },
          "yaxis": {
           "automargin": true,
           "gridcolor": "white",
           "linecolor": "white",
           "ticks": "",
           "title": {
            "standoff": 15
           },
           "zerolinecolor": "white",
           "zerolinewidth": 2
          }
         }
        },
        "title": {
         "text": "Day and Night Data at Papa : remove interannual variability"
        },
        "xaxis": {
         "title": {
          "text": "Time"
         }
        },
        "yaxis": {
         "title": {
          "text": "Zooplankton biomass (mg/m3)"
         }
        }
       }
      }
     },
     "metadata": {},
     "output_type": "display_data"
    }
   ],
   "source": [
    "fig = go.Figure()\n",
    "\n",
    "# Plot day data\n",
    "fig.add_trace(\n",
    "    go.Scatter(\n",
    "        x=day_data.time.data.flatten(),\n",
    "        y=day_data.data.flatten(),\n",
    "        mode=\"markers\",\n",
    "        name=\"Day\",\n",
    "    )\n",
    ")\n",
    "\n",
    "# Plot night data\n",
    "fig.add_trace(\n",
    "    go.Scatter(\n",
    "        x=night_data.time.data.flatten(),\n",
    "        y=night_data.data.flatten(),\n",
    "        mode=\"markers\",\n",
    "        name=\"Night\",\n",
    "    )\n",
    ")\n",
    "\n",
    "# Add vertical lines for 2000 and 2015\n",
    "fig.add_shape(\n",
    "    type=\"line\",\n",
    "    x0=time_start,\n",
    "    y0=0,\n",
    "    x1=time_start,\n",
    "    y1=1,\n",
    "    xref=\"x\",\n",
    "    yref=\"paper\",\n",
    "    line={\"color\": \"black\", \"width\": 2, \"dash\": \"dash\"},\n",
    "    name=\"Year 2000\",\n",
    ")\n",
    "\n",
    "fig.add_shape(\n",
    "    type=\"line\",\n",
    "    x0=time_end,\n",
    "    y0=0,\n",
    "    x1=time_end,\n",
    "    y1=1,\n",
    "    xref=\"x\",\n",
    "    yref=\"paper\",\n",
    "    line={\"color\": \"black\", \"width\": 2, \"dash\": \"dash\"},\n",
    "    name=\"Year 2015\",\n",
    ")\n",
    "\n",
    "# Update layout\n",
    "fig.update_layout(\n",
    "    title=f\"Day and Night Data at {station} : remove interannual variability\",\n",
    "    xaxis_title=\"Time\",\n",
    "    yaxis_title=\"Zooplankton biomass (mg/m3)\",\n",
    "    legend_title=\"Legend\",\n",
    "    height=600,\n",
    "    showlegend=True,\n",
    ")\n",
    "\n",
    "fig.show()"
   ]
  },
  {
   "cell_type": "code",
   "execution_count": 11,
   "metadata": {},
   "outputs": [
    {
     "data": {
      "application/vnd.plotly.v1+json": {
       "config": {
        "plotlyServerURL": "https://plot.ly"
       },
       "data": [
        {
         "marker": {
          "color": "firebrick"
         },
         "mode": "markers",
         "name": "Day Data",
         "type": "scatter",
         "x": [
          "2002-02-11T00:00:00",
          "2002-02-13T00:00:00",
          "2002-02-14T00:00:00",
          "2002-03-05T00:00:00",
          "2002-05-03T00:00:00",
          "2002-05-05T00:00:00",
          "2002-05-06T00:00:00",
          "2002-06-19T00:00:00",
          "2002-06-26T00:00:00",
          "2002-07-01T00:00:00",
          "2002-07-02T00:00:00",
          "2002-07-03T00:00:00",
          "2002-07-04T00:00:00",
          "2002-07-05T00:00:00",
          "2002-07-19T00:00:00",
          "2002-07-22T00:00:00",
          "2002-07-23T00:00:00",
          "2002-08-18T00:00:00",
          "2002-08-27T00:00:00",
          "2002-09-03T00:00:00",
          "2002-09-19T00:00:00",
          "2002-09-21T00:00:00",
          "2002-10-19T00:00:00",
          "2002-10-23T00:00:00",
          "2003-02-12T00:00:00",
          "2003-02-14T00:00:00",
          "2003-02-15T00:00:00",
          "2003-02-16T00:00:00",
          "2003-02-17T00:00:00",
          "2003-02-21T00:00:00",
          "2003-05-19T00:00:00",
          "2003-05-29T00:00:00",
          "2003-05-30T00:00:00",
          "2003-05-31T00:00:00",
          "2003-06-01T00:00:00",
          "2003-06-03T00:00:00",
          "2003-06-09T00:00:00",
          "2003-06-10T00:00:00",
          "2003-09-01T00:00:00",
          "2003-09-02T00:00:00",
          "2003-09-03T00:00:00",
          "2003-09-06T00:00:00",
          "2003-09-26T00:00:00",
          "2004-02-20T00:00:00",
          "2004-02-27T00:00:00",
          "2004-05-29T00:00:00",
          "2004-05-30T00:00:00",
          "2004-06-03T00:00:00",
          "2004-06-04T00:00:00",
          "2004-06-07T00:00:00",
          "2004-06-14T00:00:00",
          "2004-08-22T00:00:00",
          "2004-08-23T00:00:00",
          "2004-08-24T00:00:00",
          "2004-09-05T00:00:00",
          "2004-09-06T00:00:00",
          "2004-10-27T00:00:00",
          "2005-02-15T00:00:00",
          "2005-02-16T00:00:00",
          "2005-02-18T00:00:00",
          "2005-02-19T00:00:00",
          "2005-02-23T00:00:00",
          "2005-03-12T00:00:00",
          "2005-03-13T00:00:00",
          "2005-05-27T00:00:00",
          "2005-06-03T00:00:00",
          "2005-06-06T00:00:00",
          "2005-06-15T00:00:00",
          "2005-07-29T00:00:00",
          "2005-08-13T00:00:00",
          "2005-08-18T00:00:00",
          "2005-08-21T00:00:00",
          "2005-08-23T00:00:00",
          "2005-08-28T00:00:00",
          "2005-09-08T00:00:00",
          "2006-02-06T00:00:00",
          "2006-02-10T00:00:00",
          "2006-02-13T00:00:00",
          "2006-04-21T00:00:00",
          "2006-07-14T00:00:00",
          "2006-07-17T00:00:00",
          "2006-08-24T00:00:00",
          "2006-08-27T00:00:00",
          "2006-09-22T00:00:00",
          "2006-09-24T00:00:00",
          "2006-09-28T00:00:00",
          "2006-10-02T00:00:00",
          "2006-10-04T00:00:00",
          "2007-02-10T00:00:00",
          "2007-02-11T00:00:00",
          "2007-02-12T00:00:00",
          "2007-02-15T00:00:00",
          "2007-02-16T00:00:00",
          "2007-02-18T00:00:00",
          "2007-05-26T00:00:00",
          "2007-06-02T00:00:00",
          "2007-06-03T00:00:00",
          "2007-06-04T00:00:00",
          "2007-06-27T00:00:00",
          "2007-06-28T00:00:00",
          "2007-07-05T00:00:00",
          "2007-07-06T00:00:00",
          "2007-07-08T00:00:00",
          "2007-08-17T00:00:00",
          "2007-08-18T00:00:00",
          "2007-08-19T00:00:00",
          "2007-08-22T00:00:00",
          "2007-09-06T00:00:00",
          "2007-09-07T00:00:00",
          "2008-02-02T00:00:00",
          "2008-02-03T00:00:00",
          "2008-02-04T00:00:00",
          "2008-02-06T00:00:00",
          "2008-02-10T00:00:00",
          "2008-05-25T00:00:00",
          "2008-05-26T00:00:00",
          "2008-06-02T00:00:00",
          "2008-06-03T00:00:00",
          "2008-06-04T00:00:00",
          "2008-06-06T00:00:00",
          "2008-06-08T00:00:00",
          "2008-07-04T00:00:00",
          "2008-08-15T00:00:00",
          "2008-08-17T00:00:00",
          "2008-09-04T00:00:00",
          "2009-01-30T00:00:00",
          "2009-01-31T00:00:00",
          "2009-05-31T00:00:00",
          "2009-06-01T00:00:00",
          "2009-06-08T00:00:00",
          "2009-06-11T00:00:00",
          "2009-07-11T00:00:00",
          "2009-07-12T00:00:00",
          "2009-07-13T00:00:00",
          "2009-07-14T00:00:00",
          "2009-08-22T00:00:00",
          "2009-08-27T00:00:00",
          "2009-08-31T00:00:00",
          "2009-09-09T00:00:00",
          "2009-09-10T00:00:00",
          "2010-02-05T00:00:00",
          "2010-02-08T00:00:00",
          "2010-05-31T00:00:00",
          "2010-06-09T00:00:00",
          "2010-06-11T00:00:00",
          "2010-06-14T00:00:00",
          "2010-07-23T00:00:00",
          "2010-07-24T00:00:00",
          "2010-07-26T00:00:00",
          "2010-07-28T00:00:00",
          "2010-08-21T00:00:00",
          "2010-08-22T00:00:00",
          "2010-08-23T00:00:00",
          "2010-08-25T00:00:00",
          "2010-08-26T00:00:00",
          "2010-09-10T00:00:00",
          "2011-02-10T00:00:00",
          "2011-02-11T00:00:00",
          "2011-02-12T00:00:00",
          "2011-02-14T00:00:00",
          "2011-02-16T00:00:00",
          "2011-05-29T00:00:00",
          "2011-05-30T00:00:00",
          "2011-06-05T00:00:00",
          "2011-06-06T00:00:00",
          "2011-06-08T00:00:00",
          "2011-06-09T00:00:00",
          "2011-06-13T00:00:00",
          "2011-08-22T00:00:00",
          "2011-08-23T00:00:00",
          "2011-08-26T00:00:00",
          "2011-09-06T00:00:00",
          "2011-09-07T00:00:00",
          "2011-09-08T00:00:00",
          "2012-02-10T00:00:00",
          "2012-02-11T00:00:00",
          "2012-02-12T00:00:00",
          "2012-05-16T00:00:00",
          "2012-05-18T00:00:00",
          "2012-05-30T00:00:00",
          "2012-08-18T00:00:00",
          "2012-08-20T00:00:00",
          "2012-08-24T00:00:00",
          "2012-09-04T00:00:00",
          "2012-09-05T00:00:00",
          "2012-09-06T00:00:00",
          "2013-02-07T00:00:00",
          "2013-02-08T00:00:00",
          "2013-02-09T00:00:00",
          "2013-02-14T00:00:00",
          "2013-06-02T00:00:00",
          "2013-08-26T00:00:00",
          "2013-08-28T00:00:00",
          "2013-08-30T00:00:00",
          "2014-06-04T00:00:00",
          "2014-06-13T00:00:00",
          "2014-06-17T00:00:00",
          "2014-08-23T00:00:00",
          "2014-08-26T00:00:00",
          "2014-09-11T00:00:00",
          "2014-09-12T00:00:00"
         ],
         "y": [
          2.5745,
          3.5394640000000006,
          2.4128760000000002,
          3.777444,
          18.346316000000005,
          34.862918,
          25.358924,
          11.224421,
          26.635399999999997,
          12.293432000000003,
          10.938344000000003,
          10.104572,
          15.427803999999998,
          9.980696,
          6.529312000000001,
          10.01453066666667,
          19.004692000000002,
          11.933005999999999,
          13.155780000000002,
          10.212576,
          3.954553333333333,
          6.321284,
          13.518208,
          2.477403,
          11.905679999999998,
          6.119952000000001,
          3.2322480000000002,
          1.8740900000000003,
          2.7748559999999998,
          2.932665,
          21.881480000000003,
          10.886932,
          22.036664000000002,
          11.231912000000001,
          15.262460000000003,
          15.821308,
          10.977236000000001,
          21.722504000000004,
          6.26736,
          17.113236,
          10.28228,
          9.016896000000001,
          2.3417480000000004,
          7.753348,
          3.211029,
          22.38143,
          4.4407760000000005,
          8.290508,
          11.656908000000001,
          9.33612,
          16.2015695,
          11.872224,
          6.0021840000000015,
          8.82446,
          5.093784000000001,
          19.973944000000003,
          8.370898,
          9.654028,
          9.610018,
          3.622963999999999,
          6.503660000000001,
          28.242255999999998,
          4.755917,
          5.226634666666667,
          24.896472000000003,
          11.642692000000002,
          8.775964,
          17.05496,
          5.245964000000001,
          3.6400799999999998,
          3.5966519999999997,
          14.236684,
          15.171199999999999,
          4.053676,
          3.5532719999999998,
          3.8461760000000007,
          4.955528,
          6.862068000000001,
          12.207764000000003,
          5.226848,
          16.066832,
          4.3718520000000005,
          9.73662,
          5.795135999999999,
          3.305632,
          5.086228,
          7.466452,
          6.353888000000001,
          9.948768000000001,
          5.427164000000001,
          6.3235,
          5.246288,
          3.923108,
          4.416568,
          31.31296799999999,
          16.963212000000002,
          15.496228000000002,
          19.963392000000002,
          7.636554,
          16.654768,
          19.599924,
          7.4446,
          25.069560000000003,
          3.742872,
          7.8506240000000025,
          4.622524,
          6.784676000000001,
          4.153964,
          3.9173000000000004,
          5.706860000000001,
          3.915396,
          3.6924359999999994,
          1.7812080000000003,
          2.090204,
          6.195027999999999,
          18.14402,
          10.673312000000001,
          33.473963999999995,
          31.7837,
          23.715619999999998,
          30.666815999999997,
          14.011404000000002,
          12.269492000000001,
          32.952904,
          8.238935999999999,
          7.518362000000001,
          1.922298,
          11.880586,
          20.294176,
          9.365196000000001,
          16.85128,
          17.958584000000002,
          13.370336000000002,
          16.622816,
          6.196400000000001,
          23.465044,
          9.909396000000001,
          5.919944000000001,
          5.505724000000001,
          4.069211999999999,
          1.16982,
          4.988588,
          9.832368,
          25.474452,
          19.339376,
          21.840792,
          3.8084360000000004,
          11.151328000000001,
          14.398976,
          30.792200000000005,
          15.144984000000001,
          9.236352,
          6.041036,
          7.472911999999998,
          12.373232000000002,
          3.337952,
          10.078164000000001,
          1.7423879999999998,
          1.1623920000000003,
          8.032816,
          2.851624,
          25.522636000000002,
          18.961014000000002,
          21.047252000000004,
          12.726760000000002,
          9.879340000000003,
          17.272048,
          25.829927999999995,
          4.970724000000001,
          13.029748000000001,
          13.520131999999998,
          14.979654,
          5.478324000000001,
          3.3551919999999997,
          2.357364,
          3.137868,
          3.5795559999999997,
          16.546792000000003,
          17.383584,
          23.396552000000003,
          7.9623680000000014,
          13.503672000000002,
          3.69118,
          7.203099999999999,
          5.842956000000001,
          4.5717680000000005,
          2.721696,
          9.194036,
          6.484636000000001,
          14.036696000000001,
          28.815328,
          5.7726999999999995,
          3.423836,
          10.268051999999999,
          5.178124,
          17.801416000000003,
          17.698059999999998,
          9.447208000000002,
          9.449088000000001,
          5.890536000000001,
          4.413296000000001
         ]
        },
        {
         "line": {
          "color": "firebrick"
         },
         "mode": "lines",
         "name": "Day Trend Line",
         "type": "scatter",
         "x": [
          "2002-02-11T00:00:00",
          "2002-02-13T00:00:00",
          "2002-02-14T00:00:00",
          "2002-03-05T00:00:00",
          "2002-05-03T00:00:00",
          "2002-05-05T00:00:00",
          "2002-05-06T00:00:00",
          "2002-06-19T00:00:00",
          "2002-06-26T00:00:00",
          "2002-07-01T00:00:00",
          "2002-07-02T00:00:00",
          "2002-07-03T00:00:00",
          "2002-07-04T00:00:00",
          "2002-07-05T00:00:00",
          "2002-07-19T00:00:00",
          "2002-07-22T00:00:00",
          "2002-07-23T00:00:00",
          "2002-08-18T00:00:00",
          "2002-08-27T00:00:00",
          "2002-09-03T00:00:00",
          "2002-09-19T00:00:00",
          "2002-09-21T00:00:00",
          "2002-10-19T00:00:00",
          "2002-10-23T00:00:00",
          "2003-02-12T00:00:00",
          "2003-02-14T00:00:00",
          "2003-02-15T00:00:00",
          "2003-02-16T00:00:00",
          "2003-02-17T00:00:00",
          "2003-02-21T00:00:00",
          "2003-05-19T00:00:00",
          "2003-05-29T00:00:00",
          "2003-05-30T00:00:00",
          "2003-05-31T00:00:00",
          "2003-06-01T00:00:00",
          "2003-06-03T00:00:00",
          "2003-06-09T00:00:00",
          "2003-06-10T00:00:00",
          "2003-09-01T00:00:00",
          "2003-09-02T00:00:00",
          "2003-09-03T00:00:00",
          "2003-09-06T00:00:00",
          "2003-09-26T00:00:00",
          "2004-02-20T00:00:00",
          "2004-02-27T00:00:00",
          "2004-05-29T00:00:00",
          "2004-05-30T00:00:00",
          "2004-06-03T00:00:00",
          "2004-06-04T00:00:00",
          "2004-06-07T00:00:00",
          "2004-06-14T00:00:00",
          "2004-08-22T00:00:00",
          "2004-08-23T00:00:00",
          "2004-08-24T00:00:00",
          "2004-09-05T00:00:00",
          "2004-09-06T00:00:00",
          "2004-10-27T00:00:00",
          "2005-02-15T00:00:00",
          "2005-02-16T00:00:00",
          "2005-02-18T00:00:00",
          "2005-02-19T00:00:00",
          "2005-02-23T00:00:00",
          "2005-03-12T00:00:00",
          "2005-03-13T00:00:00",
          "2005-05-27T00:00:00",
          "2005-06-03T00:00:00",
          "2005-06-06T00:00:00",
          "2005-06-15T00:00:00",
          "2005-07-29T00:00:00",
          "2005-08-13T00:00:00",
          "2005-08-18T00:00:00",
          "2005-08-21T00:00:00",
          "2005-08-23T00:00:00",
          "2005-08-28T00:00:00",
          "2005-09-08T00:00:00",
          "2006-02-06T00:00:00",
          "2006-02-10T00:00:00",
          "2006-02-13T00:00:00",
          "2006-04-21T00:00:00",
          "2006-07-14T00:00:00",
          "2006-07-17T00:00:00",
          "2006-08-24T00:00:00",
          "2006-08-27T00:00:00",
          "2006-09-22T00:00:00",
          "2006-09-24T00:00:00",
          "2006-09-28T00:00:00",
          "2006-10-02T00:00:00",
          "2006-10-04T00:00:00",
          "2007-02-10T00:00:00",
          "2007-02-11T00:00:00",
          "2007-02-12T00:00:00",
          "2007-02-15T00:00:00",
          "2007-02-16T00:00:00",
          "2007-02-18T00:00:00",
          "2007-05-26T00:00:00",
          "2007-06-02T00:00:00",
          "2007-06-03T00:00:00",
          "2007-06-04T00:00:00",
          "2007-06-27T00:00:00",
          "2007-06-28T00:00:00",
          "2007-07-05T00:00:00",
          "2007-07-06T00:00:00",
          "2007-07-08T00:00:00",
          "2007-08-17T00:00:00",
          "2007-08-18T00:00:00",
          "2007-08-19T00:00:00",
          "2007-08-22T00:00:00",
          "2007-09-06T00:00:00",
          "2007-09-07T00:00:00",
          "2008-02-02T00:00:00",
          "2008-02-03T00:00:00",
          "2008-02-04T00:00:00",
          "2008-02-06T00:00:00",
          "2008-02-10T00:00:00",
          "2008-05-25T00:00:00",
          "2008-05-26T00:00:00",
          "2008-06-02T00:00:00",
          "2008-06-03T00:00:00",
          "2008-06-04T00:00:00",
          "2008-06-06T00:00:00",
          "2008-06-08T00:00:00",
          "2008-07-04T00:00:00",
          "2008-08-15T00:00:00",
          "2008-08-17T00:00:00",
          "2008-09-04T00:00:00",
          "2009-01-30T00:00:00",
          "2009-01-31T00:00:00",
          "2009-05-31T00:00:00",
          "2009-06-01T00:00:00",
          "2009-06-08T00:00:00",
          "2009-06-11T00:00:00",
          "2009-07-11T00:00:00",
          "2009-07-12T00:00:00",
          "2009-07-13T00:00:00",
          "2009-07-14T00:00:00",
          "2009-08-22T00:00:00",
          "2009-08-27T00:00:00",
          "2009-08-31T00:00:00",
          "2009-09-09T00:00:00",
          "2009-09-10T00:00:00",
          "2010-02-05T00:00:00",
          "2010-02-08T00:00:00",
          "2010-05-31T00:00:00",
          "2010-06-09T00:00:00",
          "2010-06-11T00:00:00",
          "2010-06-14T00:00:00",
          "2010-07-23T00:00:00",
          "2010-07-24T00:00:00",
          "2010-07-26T00:00:00",
          "2010-07-28T00:00:00",
          "2010-08-21T00:00:00",
          "2010-08-22T00:00:00",
          "2010-08-23T00:00:00",
          "2010-08-25T00:00:00",
          "2010-08-26T00:00:00",
          "2010-09-10T00:00:00",
          "2011-02-10T00:00:00",
          "2011-02-11T00:00:00",
          "2011-02-12T00:00:00",
          "2011-02-14T00:00:00",
          "2011-02-16T00:00:00",
          "2011-05-29T00:00:00",
          "2011-05-30T00:00:00",
          "2011-06-05T00:00:00",
          "2011-06-06T00:00:00",
          "2011-06-08T00:00:00",
          "2011-06-09T00:00:00",
          "2011-06-13T00:00:00",
          "2011-08-22T00:00:00",
          "2011-08-23T00:00:00",
          "2011-08-26T00:00:00",
          "2011-09-06T00:00:00",
          "2011-09-07T00:00:00",
          "2011-09-08T00:00:00",
          "2012-02-10T00:00:00",
          "2012-02-11T00:00:00",
          "2012-02-12T00:00:00",
          "2012-05-16T00:00:00",
          "2012-05-18T00:00:00",
          "2012-05-30T00:00:00",
          "2012-08-18T00:00:00",
          "2012-08-20T00:00:00",
          "2012-08-24T00:00:00",
          "2012-09-04T00:00:00",
          "2012-09-05T00:00:00",
          "2012-09-06T00:00:00",
          "2013-02-07T00:00:00",
          "2013-02-08T00:00:00",
          "2013-02-09T00:00:00",
          "2013-02-14T00:00:00",
          "2013-06-02T00:00:00",
          "2013-08-26T00:00:00",
          "2013-08-28T00:00:00",
          "2013-08-30T00:00:00",
          "2014-06-04T00:00:00",
          "2014-06-13T00:00:00",
          "2014-06-17T00:00:00",
          "2014-08-23T00:00:00",
          "2014-08-26T00:00:00",
          "2014-09-11T00:00:00",
          "2014-09-12T00:00:00"
         ],
         "y": [
          10.51147651822867,
          10.51266281753978,
          10.513255585162456,
          10.524469779162033,
          10.558706764198833,
          10.559851803959068,
          10.560423941806308,
          10.585345865385037,
          10.589265254950933,
          10.592057178269004,
          10.592614798866862,
          10.593172164776133,
          10.59372927599682,
          10.59428613252892,
          10.602055381676832,
          10.603713726221022,
          10.604265998358581,
          10.618535678241548,
          10.62343506936418,
          10.627231444343211,
          10.635862010166951,
          10.636936246500376,
          10.651868585962367,
          10.653985477244598,
          10.711603976094736,
          10.712603843361153,
          10.713103394961484,
          10.713602691873229,
          10.714101734096387,
          10.716095356103168,
          10.758448449984348,
          10.763193097730792,
          10.763666161718215,
          10.764138971017053,
          10.764611525627304,
          10.765555870782052,
          10.768382793720237,
          10.768853056133217,
          10.806996992001096,
          10.807445860572884,
          10.807894474456084,
          10.809238787974175,
          10.818142299720078,
          10.88045693600797,
          10.883287022493064,
          10.919322593049564,
          10.91970244101464,
          10.921219285989094,
          10.921597860511243,
          10.922732055946177,
          10.925369597860524,
          10.950700431830382,
          10.95105863126568,
          10.951416576012392,
          10.955692047263254,
          10.956046681058352,
          10.97379528754381,
          11.010134702468038,
          11.010447822023677,
          11.011073297069196,
          11.011385652559078,
          11.012632527632746,
          11.017886284783303,
          11.0181930371243,
          11.040473600230008,
          11.042480023829128,
          11.043336099328537,
          11.04589057264314,
          11.058082141957005,
          11.062125659069403,
          11.063460763677586,
          11.06425877017947,
          11.064789501071129,
          11.06611187125003,
          11.068998673048076,
          11.105511492548414,
          11.106399766093496,
          11.107063297022158,
          11.121284909695605,
          11.137499756246186,
          11.13804562104828,
          11.144761506133253,
          11.145276044239314,
          11.149639356895044,
          11.149967865049701,
          11.15062182509599,
          11.15127171012491,
          11.151595124507853,
          11.170303361003416,
          11.170431831334461,
          11.170560046976924,
          11.17094316577279,
          11.171070362660908,
          11.171323992371386,
          11.182402146085625,
          11.183108893832198,
          11.183208839041653,
          11.18330852956252,
          11.18553111749285,
          11.185624695487663,
          11.186272610170953,
          11.18636415065708,
          11.186546467563579,
          11.1899788672816,
          11.190059456158544,
          11.190139790346903,
          11.190379264780466,
          11.191542253989223,
          11.191617749094453,
          11.199982828323455,
          11.200020374829425,
          11.20005766664681,
          11.200131486215824,
          11.200276069090823,
          11.202613914128198,
          11.20262268082399,
          11.202676916414143,
          11.202683645601251,
          11.202690120099774,
          11.20270230503106,
          11.202713471208007,
          11.202765924863114,
          11.202486962390296,
          11.202462472165251,
          11.202196216194427,
          11.196878405848251,
          11.196823500397633,
          11.188385807191668,
          11.188300084422188,
          11.187692893755422,
          11.187428848855165,
          11.18466232900271,
          11.184566164001218,
          11.18446974431114,
          11.184373069932477,
          11.18040411206778,
          11.179867255571475,
          11.179433185979889,
          11.178441630116561,
          11.17833018379993,
          11.159027932593176,
          11.158578983779742,
          11.140178033586652,
          11.138560707868395,
          11.138198500578785,
          11.137653279479977,
          11.130356815243832,
          11.130164632645553,
          11.129779503383235,
          11.129393355366574,
          11.124680116327921,
          11.124480547760657,
          11.124280724504807,
          11.12388031392735,
          11.123679726605744,
          11.12064035415136,
          11.086365497413961,
          11.086121867721381,
          11.085877983340215,
          11.085389450512125,
          11.084899898929692,
          11.058581899967368,
          11.058310763907537,
          11.056678599088254,
          11.056405680208325,
          11.055859078382708,
          11.05558539543702,
          11.054488116768416,
          11.034626096631019,
          11.03433331204141,
          11.033453430141066,
          11.030207585485373,
          11.029910980566978,
          11.029614120959996,
          10.98052169687755,
          10.98018510585121,
          10.979848260136283,
          10.947047578398253,
          10.946325241448541,
          10.941969825909075,
          10.911996468317467,
          10.911226249913653,
          10.909682756842999,
          10.905417139090385,
          10.905027827526816,
          10.90463826127466,
          10.841605350173072,
          10.84117630719014,
          10.840747009518624,
          10.83859670083226,
          10.790595923457191,
          10.750728450732693,
          10.749768234643987,
          10.74880699980094,
          10.605282876864171,
          10.60030748214419,
          10.598089573698749,
          10.560333830436655,
          10.558616532466711,
          10.549418897295322,
          10.548841880244131
         ]
        },
        {
         "fill": "toself",
         "fillcolor": "rgba(255, 0, 0, 0.2)",
         "line": {
          "color": "rgba(0, 0, 0, 0)"
         },
         "name": "Day Confidence Interval",
         "type": "scatter",
         "x": [
          "2002-02-11T00:00:00",
          "2002-02-13T00:00:00",
          "2002-02-14T00:00:00",
          "2002-03-05T00:00:00",
          "2002-05-03T00:00:00",
          "2002-05-05T00:00:00",
          "2002-05-06T00:00:00",
          "2002-06-19T00:00:00",
          "2002-06-26T00:00:00",
          "2002-07-01T00:00:00",
          "2002-07-02T00:00:00",
          "2002-07-03T00:00:00",
          "2002-07-04T00:00:00",
          "2002-07-05T00:00:00",
          "2002-07-19T00:00:00",
          "2002-07-22T00:00:00",
          "2002-07-23T00:00:00",
          "2002-08-18T00:00:00",
          "2002-08-27T00:00:00",
          "2002-09-03T00:00:00",
          "2002-09-19T00:00:00",
          "2002-09-21T00:00:00",
          "2002-10-19T00:00:00",
          "2002-10-23T00:00:00",
          "2003-02-12T00:00:00",
          "2003-02-14T00:00:00",
          "2003-02-15T00:00:00",
          "2003-02-16T00:00:00",
          "2003-02-17T00:00:00",
          "2003-02-21T00:00:00",
          "2003-05-19T00:00:00",
          "2003-05-29T00:00:00",
          "2003-05-30T00:00:00",
          "2003-05-31T00:00:00",
          "2003-06-01T00:00:00",
          "2003-06-03T00:00:00",
          "2003-06-09T00:00:00",
          "2003-06-10T00:00:00",
          "2003-09-01T00:00:00",
          "2003-09-02T00:00:00",
          "2003-09-03T00:00:00",
          "2003-09-06T00:00:00",
          "2003-09-26T00:00:00",
          "2004-02-20T00:00:00",
          "2004-02-27T00:00:00",
          "2004-05-29T00:00:00",
          "2004-05-30T00:00:00",
          "2004-06-03T00:00:00",
          "2004-06-04T00:00:00",
          "2004-06-07T00:00:00",
          "2004-06-14T00:00:00",
          "2004-08-22T00:00:00",
          "2004-08-23T00:00:00",
          "2004-08-24T00:00:00",
          "2004-09-05T00:00:00",
          "2004-09-06T00:00:00",
          "2004-10-27T00:00:00",
          "2005-02-15T00:00:00",
          "2005-02-16T00:00:00",
          "2005-02-18T00:00:00",
          "2005-02-19T00:00:00",
          "2005-02-23T00:00:00",
          "2005-03-12T00:00:00",
          "2005-03-13T00:00:00",
          "2005-05-27T00:00:00",
          "2005-06-03T00:00:00",
          "2005-06-06T00:00:00",
          "2005-06-15T00:00:00",
          "2005-07-29T00:00:00",
          "2005-08-13T00:00:00",
          "2005-08-18T00:00:00",
          "2005-08-21T00:00:00",
          "2005-08-23T00:00:00",
          "2005-08-28T00:00:00",
          "2005-09-08T00:00:00",
          "2006-02-06T00:00:00",
          "2006-02-10T00:00:00",
          "2006-02-13T00:00:00",
          "2006-04-21T00:00:00",
          "2006-07-14T00:00:00",
          "2006-07-17T00:00:00",
          "2006-08-24T00:00:00",
          "2006-08-27T00:00:00",
          "2006-09-22T00:00:00",
          "2006-09-24T00:00:00",
          "2006-09-28T00:00:00",
          "2006-10-02T00:00:00",
          "2006-10-04T00:00:00",
          "2007-02-10T00:00:00",
          "2007-02-11T00:00:00",
          "2007-02-12T00:00:00",
          "2007-02-15T00:00:00",
          "2007-02-16T00:00:00",
          "2007-02-18T00:00:00",
          "2007-05-26T00:00:00",
          "2007-06-02T00:00:00",
          "2007-06-03T00:00:00",
          "2007-06-04T00:00:00",
          "2007-06-27T00:00:00",
          "2007-06-28T00:00:00",
          "2007-07-05T00:00:00",
          "2007-07-06T00:00:00",
          "2007-07-08T00:00:00",
          "2007-08-17T00:00:00",
          "2007-08-18T00:00:00",
          "2007-08-19T00:00:00",
          "2007-08-22T00:00:00",
          "2007-09-06T00:00:00",
          "2007-09-07T00:00:00",
          "2008-02-02T00:00:00",
          "2008-02-03T00:00:00",
          "2008-02-04T00:00:00",
          "2008-02-06T00:00:00",
          "2008-02-10T00:00:00",
          "2008-05-25T00:00:00",
          "2008-05-26T00:00:00",
          "2008-06-02T00:00:00",
          "2008-06-03T00:00:00",
          "2008-06-04T00:00:00",
          "2008-06-06T00:00:00",
          "2008-06-08T00:00:00",
          "2008-07-04T00:00:00",
          "2008-08-15T00:00:00",
          "2008-08-17T00:00:00",
          "2008-09-04T00:00:00",
          "2009-01-30T00:00:00",
          "2009-01-31T00:00:00",
          "2009-05-31T00:00:00",
          "2009-06-01T00:00:00",
          "2009-06-08T00:00:00",
          "2009-06-11T00:00:00",
          "2009-07-11T00:00:00",
          "2009-07-12T00:00:00",
          "2009-07-13T00:00:00",
          "2009-07-14T00:00:00",
          "2009-08-22T00:00:00",
          "2009-08-27T00:00:00",
          "2009-08-31T00:00:00",
          "2009-09-09T00:00:00",
          "2009-09-10T00:00:00",
          "2010-02-05T00:00:00",
          "2010-02-08T00:00:00",
          "2010-05-31T00:00:00",
          "2010-06-09T00:00:00",
          "2010-06-11T00:00:00",
          "2010-06-14T00:00:00",
          "2010-07-23T00:00:00",
          "2010-07-24T00:00:00",
          "2010-07-26T00:00:00",
          "2010-07-28T00:00:00",
          "2010-08-21T00:00:00",
          "2010-08-22T00:00:00",
          "2010-08-23T00:00:00",
          "2010-08-25T00:00:00",
          "2010-08-26T00:00:00",
          "2010-09-10T00:00:00",
          "2011-02-10T00:00:00",
          "2011-02-11T00:00:00",
          "2011-02-12T00:00:00",
          "2011-02-14T00:00:00",
          "2011-02-16T00:00:00",
          "2011-05-29T00:00:00",
          "2011-05-30T00:00:00",
          "2011-06-05T00:00:00",
          "2011-06-06T00:00:00",
          "2011-06-08T00:00:00",
          "2011-06-09T00:00:00",
          "2011-06-13T00:00:00",
          "2011-08-22T00:00:00",
          "2011-08-23T00:00:00",
          "2011-08-26T00:00:00",
          "2011-09-06T00:00:00",
          "2011-09-07T00:00:00",
          "2011-09-08T00:00:00",
          "2012-02-10T00:00:00",
          "2012-02-11T00:00:00",
          "2012-02-12T00:00:00",
          "2012-05-16T00:00:00",
          "2012-05-18T00:00:00",
          "2012-05-30T00:00:00",
          "2012-08-18T00:00:00",
          "2012-08-20T00:00:00",
          "2012-08-24T00:00:00",
          "2012-09-04T00:00:00",
          "2012-09-05T00:00:00",
          "2012-09-06T00:00:00",
          "2013-02-07T00:00:00",
          "2013-02-08T00:00:00",
          "2013-02-09T00:00:00",
          "2013-02-14T00:00:00",
          "2013-06-02T00:00:00",
          "2013-08-26T00:00:00",
          "2013-08-28T00:00:00",
          "2013-08-30T00:00:00",
          "2014-06-04T00:00:00",
          "2014-06-13T00:00:00",
          "2014-06-17T00:00:00",
          "2014-08-23T00:00:00",
          "2014-08-26T00:00:00",
          "2014-09-11T00:00:00",
          "2014-09-12T00:00:00",
          "2014-09-12T00:00:00",
          "2014-09-11T00:00:00",
          "2014-08-26T00:00:00",
          "2014-08-23T00:00:00",
          "2014-06-17T00:00:00",
          "2014-06-13T00:00:00",
          "2014-06-04T00:00:00",
          "2013-08-30T00:00:00",
          "2013-08-28T00:00:00",
          "2013-08-26T00:00:00",
          "2013-06-02T00:00:00",
          "2013-02-14T00:00:00",
          "2013-02-09T00:00:00",
          "2013-02-08T00:00:00",
          "2013-02-07T00:00:00",
          "2012-09-06T00:00:00",
          "2012-09-05T00:00:00",
          "2012-09-04T00:00:00",
          "2012-08-24T00:00:00",
          "2012-08-20T00:00:00",
          "2012-08-18T00:00:00",
          "2012-05-30T00:00:00",
          "2012-05-18T00:00:00",
          "2012-05-16T00:00:00",
          "2012-02-12T00:00:00",
          "2012-02-11T00:00:00",
          "2012-02-10T00:00:00",
          "2011-09-08T00:00:00",
          "2011-09-07T00:00:00",
          "2011-09-06T00:00:00",
          "2011-08-26T00:00:00",
          "2011-08-23T00:00:00",
          "2011-08-22T00:00:00",
          "2011-06-13T00:00:00",
          "2011-06-09T00:00:00",
          "2011-06-08T00:00:00",
          "2011-06-06T00:00:00",
          "2011-06-05T00:00:00",
          "2011-05-30T00:00:00",
          "2011-05-29T00:00:00",
          "2011-02-16T00:00:00",
          "2011-02-14T00:00:00",
          "2011-02-12T00:00:00",
          "2011-02-11T00:00:00",
          "2011-02-10T00:00:00",
          "2010-09-10T00:00:00",
          "2010-08-26T00:00:00",
          "2010-08-25T00:00:00",
          "2010-08-23T00:00:00",
          "2010-08-22T00:00:00",
          "2010-08-21T00:00:00",
          "2010-07-28T00:00:00",
          "2010-07-26T00:00:00",
          "2010-07-24T00:00:00",
          "2010-07-23T00:00:00",
          "2010-06-14T00:00:00",
          "2010-06-11T00:00:00",
          "2010-06-09T00:00:00",
          "2010-05-31T00:00:00",
          "2010-02-08T00:00:00",
          "2010-02-05T00:00:00",
          "2009-09-10T00:00:00",
          "2009-09-09T00:00:00",
          "2009-08-31T00:00:00",
          "2009-08-27T00:00:00",
          "2009-08-22T00:00:00",
          "2009-07-14T00:00:00",
          "2009-07-13T00:00:00",
          "2009-07-12T00:00:00",
          "2009-07-11T00:00:00",
          "2009-06-11T00:00:00",
          "2009-06-08T00:00:00",
          "2009-06-01T00:00:00",
          "2009-05-31T00:00:00",
          "2009-01-31T00:00:00",
          "2009-01-30T00:00:00",
          "2008-09-04T00:00:00",
          "2008-08-17T00:00:00",
          "2008-08-15T00:00:00",
          "2008-07-04T00:00:00",
          "2008-06-08T00:00:00",
          "2008-06-06T00:00:00",
          "2008-06-04T00:00:00",
          "2008-06-03T00:00:00",
          "2008-06-02T00:00:00",
          "2008-05-26T00:00:00",
          "2008-05-25T00:00:00",
          "2008-02-10T00:00:00",
          "2008-02-06T00:00:00",
          "2008-02-04T00:00:00",
          "2008-02-03T00:00:00",
          "2008-02-02T00:00:00",
          "2007-09-07T00:00:00",
          "2007-09-06T00:00:00",
          "2007-08-22T00:00:00",
          "2007-08-19T00:00:00",
          "2007-08-18T00:00:00",
          "2007-08-17T00:00:00",
          "2007-07-08T00:00:00",
          "2007-07-06T00:00:00",
          "2007-07-05T00:00:00",
          "2007-06-28T00:00:00",
          "2007-06-27T00:00:00",
          "2007-06-04T00:00:00",
          "2007-06-03T00:00:00",
          "2007-06-02T00:00:00",
          "2007-05-26T00:00:00",
          "2007-02-18T00:00:00",
          "2007-02-16T00:00:00",
          "2007-02-15T00:00:00",
          "2007-02-12T00:00:00",
          "2007-02-11T00:00:00",
          "2007-02-10T00:00:00",
          "2006-10-04T00:00:00",
          "2006-10-02T00:00:00",
          "2006-09-28T00:00:00",
          "2006-09-24T00:00:00",
          "2006-09-22T00:00:00",
          "2006-08-27T00:00:00",
          "2006-08-24T00:00:00",
          "2006-07-17T00:00:00",
          "2006-07-14T00:00:00",
          "2006-04-21T00:00:00",
          "2006-02-13T00:00:00",
          "2006-02-10T00:00:00",
          "2006-02-06T00:00:00",
          "2005-09-08T00:00:00",
          "2005-08-28T00:00:00",
          "2005-08-23T00:00:00",
          "2005-08-21T00:00:00",
          "2005-08-18T00:00:00",
          "2005-08-13T00:00:00",
          "2005-07-29T00:00:00",
          "2005-06-15T00:00:00",
          "2005-06-06T00:00:00",
          "2005-06-03T00:00:00",
          "2005-05-27T00:00:00",
          "2005-03-13T00:00:00",
          "2005-03-12T00:00:00",
          "2005-02-23T00:00:00",
          "2005-02-19T00:00:00",
          "2005-02-18T00:00:00",
          "2005-02-16T00:00:00",
          "2005-02-15T00:00:00",
          "2004-10-27T00:00:00",
          "2004-09-06T00:00:00",
          "2004-09-05T00:00:00",
          "2004-08-24T00:00:00",
          "2004-08-23T00:00:00",
          "2004-08-22T00:00:00",
          "2004-06-14T00:00:00",
          "2004-06-07T00:00:00",
          "2004-06-04T00:00:00",
          "2004-06-03T00:00:00",
          "2004-05-30T00:00:00",
          "2004-05-29T00:00:00",
          "2004-02-27T00:00:00",
          "2004-02-20T00:00:00",
          "2003-09-26T00:00:00",
          "2003-09-06T00:00:00",
          "2003-09-03T00:00:00",
          "2003-09-02T00:00:00",
          "2003-09-01T00:00:00",
          "2003-06-10T00:00:00",
          "2003-06-09T00:00:00",
          "2003-06-03T00:00:00",
          "2003-06-01T00:00:00",
          "2003-05-31T00:00:00",
          "2003-05-30T00:00:00",
          "2003-05-29T00:00:00",
          "2003-05-19T00:00:00",
          "2003-02-21T00:00:00",
          "2003-02-17T00:00:00",
          "2003-02-16T00:00:00",
          "2003-02-15T00:00:00",
          "2003-02-14T00:00:00",
          "2003-02-12T00:00:00",
          "2002-10-23T00:00:00",
          "2002-10-19T00:00:00",
          "2002-09-21T00:00:00",
          "2002-09-19T00:00:00",
          "2002-09-03T00:00:00",
          "2002-08-27T00:00:00",
          "2002-08-18T00:00:00",
          "2002-07-23T00:00:00",
          "2002-07-22T00:00:00",
          "2002-07-19T00:00:00",
          "2002-07-05T00:00:00",
          "2002-07-04T00:00:00",
          "2002-07-03T00:00:00",
          "2002-07-02T00:00:00",
          "2002-07-01T00:00:00",
          "2002-06-26T00:00:00",
          "2002-06-19T00:00:00",
          "2002-05-06T00:00:00",
          "2002-05-05T00:00:00",
          "2002-05-03T00:00:00",
          "2002-03-05T00:00:00",
          "2002-02-14T00:00:00",
          "2002-02-13T00:00:00",
          "2002-02-11T00:00:00"
         ],
         "y": [
          11.57804935290469,
          11.5792356522158,
          11.579828419838476,
          11.591042613838052,
          11.625279598874853,
          11.626424638635088,
          11.626996776482327,
          11.651918700061056,
          11.655838089626952,
          11.658630012945023,
          11.659187633542881,
          11.659744999452153,
          11.66030211067284,
          11.66085896720494,
          11.668628216352852,
          11.670286560897042,
          11.670838833034601,
          11.685108512917568,
          11.6900079040402,
          11.693804279019231,
          11.702434844842971,
          11.703509081176396,
          11.718441420638387,
          11.720558311920618,
          11.778176810770756,
          11.779176678037173,
          11.779676229637504,
          11.780175526549248,
          11.780674568772406,
          11.782668190779187,
          11.825021284660368,
          11.829765932406811,
          11.830238996394234,
          11.830711805693072,
          11.831184360303324,
          11.832128705458071,
          11.834955628396257,
          11.835425890809237,
          11.873569826677116,
          11.874018695248903,
          11.874467309132104,
          11.875811622650195,
          11.884715134396098,
          11.94702977068399,
          11.949859857169084,
          11.985895427725584,
          11.98627527569066,
          11.987792120665114,
          11.988170695187263,
          11.989304890622197,
          11.991942432536543,
          12.017273266506402,
          12.0176314659417,
          12.017989410688411,
          12.022264881939273,
          12.022619515734371,
          12.04036812221983,
          12.076707537144058,
          12.077020656699696,
          12.077646131745215,
          12.077958487235097,
          12.079205362308766,
          12.084459119459323,
          12.08476587180032,
          12.107046434906028,
          12.109052858505148,
          12.109908934004556,
          12.11246340731916,
          12.124654976633025,
          12.128698493745423,
          12.130033598353606,
          12.130831604855489,
          12.131362335747149,
          12.13268470592605,
          12.135571507724096,
          12.172084327224434,
          12.172972600769516,
          12.173636131698178,
          12.187857744371625,
          12.204072590922205,
          12.2046184557243,
          12.211334340809273,
          12.211848878915333,
          12.216212191571064,
          12.216540699725721,
          12.21719465977201,
          12.21784454480093,
          12.218167959183873,
          12.236876195679436,
          12.237004666010481,
          12.237132881652943,
          12.23751600044881,
          12.237643197336928,
          12.237896827047406,
          12.248974980761645,
          12.249681728508218,
          12.249781673717672,
          12.24988136423854,
          12.25210395216887,
          12.252197530163683,
          12.252845444846972,
          12.2529369853331,
          12.253119302239599,
          12.25655170195762,
          12.256632290834563,
          12.256712625022923,
          12.256952099456486,
          12.258115088665242,
          12.258190583770473,
          12.266555662999474,
          12.266593209505444,
          12.26663050132283,
          12.266704320891844,
          12.266848903766842,
          12.269186748804218,
          12.26919551550001,
          12.269249751090163,
          12.26925648027727,
          12.269262954775794,
          12.26927513970708,
          12.269286305884027,
          12.269338759539133,
          12.269059797066316,
          12.269035306841271,
          12.268769050870446,
          12.26345124052427,
          12.263396335073653,
          12.254958641867688,
          12.254872919098208,
          12.254265728431442,
          12.254001683531184,
          12.25123516367873,
          12.251138998677238,
          12.25104257898716,
          12.250945904608496,
          12.2469769467438,
          12.246440090247495,
          12.246006020655908,
          12.24501446479258,
          12.24490301847595,
          12.225600767269196,
          12.225151818455762,
          12.206750868262672,
          12.205133542544415,
          12.204771335254804,
          12.204226114155997,
          12.196929649919852,
          12.196737467321572,
          12.196352338059254,
          12.195966190042594,
          12.191252951003941,
          12.191053382436676,
          12.190853559180827,
          12.19045314860337,
          12.190252561281763,
          12.18721318882738,
          12.152938332089981,
          12.152694702397401,
          12.152450818016234,
          12.151962285188144,
          12.151472733605711,
          12.125154734643388,
          12.124883598583557,
          12.123251433764274,
          12.122978514884345,
          12.122431913058728,
          12.12215823011304,
          12.121060951444436,
          12.101198931307039,
          12.10090614671743,
          12.100026264817085,
          12.096780420161393,
          12.096483815242998,
          12.096186955636016,
          12.04709453155357,
          12.046757940527229,
          12.046421094812302,
          12.013620413074273,
          12.01289807612456,
          12.008542660585094,
          11.978569302993487,
          11.977799084589673,
          11.976255591519019,
          11.971989973766405,
          11.971600662202835,
          11.97121109595068,
          11.908178184849092,
          11.90774914186616,
          11.907319844194644,
          11.90516953550828,
          11.857168758133211,
          11.817301285408712,
          11.816341069320007,
          11.81537983447696,
          11.671855711540191,
          11.66688031682021,
          11.664662408374769,
          11.626906665112674,
          11.625189367142731,
          11.615991731971341,
          11.615414714920151,
          9.482269045568112,
          9.482846062619302,
          9.492043697790692,
          9.493760995760635,
          9.53151673902273,
          9.53373464746817,
          9.538710042188152,
          9.682234165124921,
          9.683195399967968,
          9.684155616056673,
          9.724023088781172,
          9.77202386615624,
          9.774174174842605,
          9.774603472514121,
          9.775032515497053,
          9.838065426598641,
          9.838454992850796,
          9.838844304414366,
          9.84310992216698,
          9.844653415237634,
          9.845423633641447,
          9.875396991233055,
          9.879752406772521,
          9.880474743722234,
          9.913275425460263,
          9.91361227117519,
          9.913948862201531,
          9.963041286283977,
          9.963338145890958,
          9.963634750809353,
          9.966880595465046,
          9.96776047736539,
          9.968053261955,
          9.987915282092397,
          9.989012560761001,
          9.989286243706688,
          9.989832845532305,
          9.990105764412235,
          9.991737929231517,
          9.992009065291349,
          10.018327064253672,
          10.018816615836105,
          10.019305148664195,
          10.019549033045362,
          10.019792662737942,
          10.05406751947534,
          10.057106891929724,
          10.05730747925133,
          10.057707889828787,
          10.057907713084637,
          10.058107281651901,
          10.062820520690554,
          10.063206668707215,
          10.063591797969533,
          10.063783980567813,
          10.071080444803957,
          10.071625665902765,
          10.071987873192375,
          10.073605198910633,
          10.092006149103723,
          10.092455097917156,
          10.111757349123911,
          10.111868795440541,
          10.112860351303869,
          10.113294420895455,
          10.11383127739176,
          10.117800235256457,
          10.117896909635121,
          10.117993329325198,
          10.118089494326691,
          10.120856014179145,
          10.121120059079402,
          10.121727249746169,
          10.121812972515649,
          10.130250665721613,
          10.130305571172231,
          10.135623381518407,
          10.135889637489232,
          10.135914127714276,
          10.136193090187094,
          10.136140636531987,
          10.13612947035504,
          10.136117285423754,
          10.136110810925231,
          10.136104081738123,
          10.136049846147971,
          10.136041079452179,
          10.133703234414803,
          10.133558651539804,
          10.13348483197079,
          10.133447540153405,
          10.133409993647435,
          10.125044914418433,
          10.124969419313203,
          10.123806430104446,
          10.123566955670883,
          10.123486621482524,
          10.12340603260558,
          10.11997363288756,
          10.119791315981061,
          10.119699775494933,
          10.119051860811643,
          10.11895828281683,
          10.1167356948865,
          10.116636004365633,
          10.116536059156179,
          10.115829311409605,
          10.104751157695366,
          10.104497527984888,
          10.10437033109677,
          10.103987212300904,
          10.103858996658442,
          10.103730526327396,
          10.085022289831834,
          10.08469887544889,
          10.084048990419971,
          10.083395030373682,
          10.083066522219024,
          10.078703209563294,
          10.078188671457234,
          10.07147278637226,
          10.070926921570166,
          10.054712075019586,
          10.040490462346138,
          10.039826931417476,
          10.038938657872395,
          10.002425838372057,
          9.99953903657401,
          9.998216666395109,
          9.99768593550345,
          9.996887929001566,
          9.995552824393384,
          9.991509307280985,
          9.97931773796712,
          9.976763264652517,
          9.975907189153109,
          9.973900765553989,
          9.95162020244828,
          9.951313450107284,
          9.946059692956727,
          9.944812817883058,
          9.944500462393176,
          9.943874987347657,
          9.943561867792019,
          9.90722245286779,
          9.889473846382332,
          9.889119212587234,
          9.884843741336372,
          9.88448579658966,
          9.884127597154363,
          9.858796763184504,
          9.856159221270158,
          9.855025025835223,
          9.854646451313075,
          9.853129606338621,
          9.852749758373545,
          9.816714187817045,
          9.81388410133195,
          9.751569465044058,
          9.742665953298156,
          9.741321639780065,
          9.740873025896864,
          9.740424157325076,
          9.702280221457197,
          9.701809959044217,
          9.698983036106032,
          9.698038690951284,
          9.697566136341033,
          9.697093327042195,
          9.696620263054772,
          9.691875615308328,
          9.649522521427148,
          9.647528899420367,
          9.647029857197209,
          9.646530560285465,
          9.646031008685133,
          9.645031141418716,
          9.587412642568578,
          9.585295751286347,
          9.570363411824356,
          9.569289175490931,
          9.560658609667191,
          9.556862234688161,
          9.551962843565528,
          9.537693163682562,
          9.537140891545002,
          9.535482547000813,
          9.5277132978529,
          9.5271564413208,
          9.526599330100114,
          9.526041964190842,
          9.525484343592984,
          9.522692420274913,
          9.518773030709017,
          9.493851107130288,
          9.493278969283049,
          9.492133929522813,
          9.457896944486013,
          9.446682750486437,
          9.44608998286376,
          9.444903683552651
         ]
        },
        {
         "marker": {
          "color": "royalblue"
         },
         "mode": "markers",
         "name": "Day Data",
         "type": "scatter",
         "x": [
          "2002-02-07T00:00:00",
          "2002-02-15T00:00:00",
          "2002-02-16T00:00:00",
          "2002-07-23T00:00:00",
          "2002-08-28T00:00:00",
          "2002-08-29T00:00:00",
          "2002-08-30T00:00:00",
          "2002-09-06T00:00:00",
          "2002-09-08T00:00:00",
          "2002-10-23T00:00:00",
          "2003-06-08T00:00:00",
          "2003-09-07T00:00:00",
          "2003-09-27T00:00:00",
          "2003-09-28T00:00:00",
          "2003-10-26T00:00:00",
          "2003-10-27T00:00:00",
          "2004-02-20T00:00:00",
          "2004-02-21T00:00:00",
          "2004-02-22T00:00:00",
          "2004-02-24T00:00:00",
          "2004-06-06T00:00:00",
          "2004-08-21T00:00:00",
          "2004-08-26T00:00:00",
          "2004-09-05T00:00:00",
          "2005-02-13T00:00:00",
          "2005-02-14T00:00:00",
          "2005-02-18T00:00:00",
          "2005-02-22T00:00:00",
          "2005-03-12T00:00:00",
          "2005-05-28T00:00:00",
          "2005-06-03T00:00:00",
          "2005-08-19T00:00:00",
          "2005-08-20T00:00:00",
          "2005-08-22T00:00:00",
          "2005-08-27T00:00:00",
          "2005-09-09T00:00:00",
          "2006-02-09T00:00:00",
          "2006-04-21T00:00:00",
          "2006-09-23T00:00:00",
          "2006-09-26T00:00:00",
          "2006-10-01T00:00:00",
          "2007-02-10T00:00:00",
          "2007-02-16T00:00:00",
          "2007-02-18T00:00:00",
          "2007-06-07T00:00:00",
          "2007-06-21T00:00:00",
          "2008-08-16T00:00:00",
          "2008-08-19T00:00:00",
          "2008-08-21T00:00:00",
          "2008-09-05T00:00:00",
          "2008-09-06T00:00:00",
          "2008-10-17T00:00:00",
          "2009-02-02T00:00:00",
          "2009-02-05T00:00:00",
          "2009-06-09T00:00:00",
          "2009-06-14T00:00:00",
          "2009-08-23T00:00:00",
          "2009-08-26T00:00:00",
          "2009-08-31T00:00:00",
          "2010-02-06T00:00:00",
          "2010-06-08T00:00:00",
          "2010-06-10T00:00:00",
          "2010-09-08T00:00:00",
          "2010-09-09T00:00:00",
          "2011-05-30T00:00:00",
          "2011-08-19T00:00:00",
          "2011-08-20T00:00:00",
          "2012-02-15T00:00:00",
          "2012-02-16T00:00:00",
          "2012-05-18T00:00:00",
          "2012-06-03T00:00:00",
          "2012-08-18T00:00:00",
          "2013-02-13T00:00:00",
          "2013-06-10T00:00:00",
          "2013-06-14T00:00:00",
          "2013-06-18T00:00:00",
          "2013-08-23T00:00:00",
          "2013-08-25T00:00:00",
          "2013-09-11T00:00:00",
          "2014-02-12T00:00:00",
          "2014-02-22T00:00:00",
          "2014-08-25T00:00:00",
          "2014-08-26T00:00:00",
          "2014-09-10T00:00:00",
          "2014-09-11T00:00:00"
         ],
         "y": [
          1.7196599999999997,
          17.015314000000004,
          7.450659999999999,
          13.2916,
          8.615091999999999,
          16.360152,
          26.954051999999997,
          14.818592000000002,
          17.618268,
          5.180768,
          23.838772000000006,
          27.700968000000003,
          13.578042,
          5.621664,
          5.854744,
          16.839516000000003,
          5.667267999999999,
          12.406780000000001,
          16.271604,
          5.545132000000001,
          9.725824000000001,
          7.843792,
          10.082,
          8.600224000000003,
          11.476751999999998,
          5.627008,
          18.10564,
          7.772691999999999,
          8.27766,
          8.576712,
          12.930955999999998,
          11.999952,
          22.552028000000004,
          12.275308000000003,
          14.871532,
          2.439196,
          7.605124,
          7.553700000000001,
          4.943296,
          5.0785160000000005,
          4.676896,
          4.428636,
          8.674871999999999,
          4.089356000000001,
          23.811128,
          19.388201000000002,
          35.080696,
          32.207640000000005,
          20.593720000000005,
          6.084928000000001,
          11.644352,
          2.6440319999999997,
          18.128995999999997,
          5.91377,
          24.407764,
          15.818324000000002,
          22.682332000000002,
          12.283148,
          14.667383999999998,
          5.153792000000001,
          16.403015999999997,
          27.04038,
          32.29084400000001,
          15.632968000000002,
          6.357728000000001,
          6.17774,
          4.59178,
          16.287272,
          5.438844,
          16.361820000000005,
          11.289439999999999,
          10.851455999999999,
          11.467464000000001,
          5.836996000000001,
          16.286708000000004,
          14.858072000000002,
          9.274564000000002,
          18.577276,
          7.462696000000001,
          6.544003999999998,
          5.305544,
          12.532376000000001,
          8.707148000000002,
          7.608912000000003,
          9.095327999999999
         ]
        },
        {
         "line": {
          "color": "royalblue"
         },
         "mode": "lines",
         "name": "Night Trend Line",
         "type": "scatter",
         "x": [
          "2002-02-07T00:00:00",
          "2002-02-15T00:00:00",
          "2002-02-16T00:00:00",
          "2002-07-23T00:00:00",
          "2002-08-28T00:00:00",
          "2002-08-29T00:00:00",
          "2002-08-30T00:00:00",
          "2002-09-06T00:00:00",
          "2002-09-08T00:00:00",
          "2002-10-23T00:00:00",
          "2003-06-08T00:00:00",
          "2003-09-07T00:00:00",
          "2003-09-27T00:00:00",
          "2003-09-28T00:00:00",
          "2003-10-26T00:00:00",
          "2003-10-27T00:00:00",
          "2004-02-20T00:00:00",
          "2004-02-21T00:00:00",
          "2004-02-22T00:00:00",
          "2004-02-24T00:00:00",
          "2004-06-06T00:00:00",
          "2004-08-21T00:00:00",
          "2004-08-26T00:00:00",
          "2004-09-05T00:00:00",
          "2005-02-13T00:00:00",
          "2005-02-14T00:00:00",
          "2005-02-18T00:00:00",
          "2005-02-22T00:00:00",
          "2005-03-12T00:00:00",
          "2005-05-28T00:00:00",
          "2005-06-03T00:00:00",
          "2005-08-19T00:00:00",
          "2005-08-20T00:00:00",
          "2005-08-22T00:00:00",
          "2005-08-27T00:00:00",
          "2005-09-09T00:00:00",
          "2006-02-09T00:00:00",
          "2006-04-21T00:00:00",
          "2006-09-23T00:00:00",
          "2006-09-26T00:00:00",
          "2006-10-01T00:00:00",
          "2007-02-10T00:00:00",
          "2007-02-16T00:00:00",
          "2007-02-18T00:00:00",
          "2007-06-07T00:00:00",
          "2007-06-21T00:00:00",
          "2008-08-16T00:00:00",
          "2008-08-19T00:00:00",
          "2008-08-21T00:00:00",
          "2008-09-05T00:00:00",
          "2008-09-06T00:00:00",
          "2008-10-17T00:00:00",
          "2009-02-02T00:00:00",
          "2009-02-05T00:00:00",
          "2009-06-09T00:00:00",
          "2009-06-14T00:00:00",
          "2009-08-23T00:00:00",
          "2009-08-26T00:00:00",
          "2009-08-31T00:00:00",
          "2010-02-06T00:00:00",
          "2010-06-08T00:00:00",
          "2010-06-10T00:00:00",
          "2010-09-08T00:00:00",
          "2010-09-09T00:00:00",
          "2011-05-30T00:00:00",
          "2011-08-19T00:00:00",
          "2011-08-20T00:00:00",
          "2012-02-15T00:00:00",
          "2012-02-16T00:00:00",
          "2012-05-18T00:00:00",
          "2012-06-03T00:00:00",
          "2012-08-18T00:00:00",
          "2013-02-13T00:00:00",
          "2013-06-10T00:00:00",
          "2013-06-14T00:00:00",
          "2013-06-18T00:00:00",
          "2013-08-23T00:00:00",
          "2013-08-25T00:00:00",
          "2013-09-11T00:00:00",
          "2014-02-12T00:00:00",
          "2014-02-22T00:00:00",
          "2014-08-25T00:00:00",
          "2014-08-26T00:00:00",
          "2014-09-10T00:00:00",
          "2014-09-11T00:00:00"
         ],
         "y": [
          10.709384570260735,
          10.730007627490137,
          10.73258027202037,
          11.122049409143605,
          11.207310988918985,
          11.209657833683039,
          11.212003514530771,
          11.228390690807926,
          11.233062265925943,
          11.336941864572378,
          11.82704176065395,
          12.00575814346294,
          12.043744522239255,
          12.045631620056705,
          12.097997808919187,
          12.099851153163343,
          12.306940749334373,
          12.308657915369029,
          12.310373917487365,
          12.313802429975071,
          12.484076945588868,
          12.601799435190795,
          12.609308642767598,
          12.624239764197162,
          12.84860892910313,
          12.849908249178721,
          12.85509389031788,
          12.86026090879591,
          12.883282036515586,
          12.977504281151923,
          12.98455645907666,
          13.071340114508592,
          13.072421782232247,
          13.074581625930595,
          13.079960866640857,
          13.093810714278039,
          13.242032193884501,
          13.3015592479839,
          13.41112668159358,
          13.412971493430966,
          13.416022901500202,
          13.48605594315791,
          13.488757401876569,
          13.489648576785555,
          13.53117649754448,
          13.535508226974398,
          13.559003282539955,
          13.558428312346994,
          13.558039179303417,
          13.554972282145727,
          13.55475851100465,
          13.544991762268541,
          13.509899846102476,
          13.508731278586053,
          13.451265810799516,
          13.448573291827016,
          13.407822745870664,
          13.40594884506401,
          13.40280239872651,
          13.287570264207137,
          13.17920246505178,
          13.177281618130408,
          13.086024893101719,
          13.084957971297706,
          12.763951017859274,
          12.648870076257875,
          12.647401603323283,
          12.36579425610812,
          12.364116278235837,
          12.204763079966655,
          12.176043856566743,
          12.035558493960643,
          11.678115014966094,
          11.424324399499955,
          11.415366129512233,
          11.406389236863381,
          11.255581861456951,
          11.250932794680294,
          11.21122775459295,
          10.836221517021292,
          10.8109160512507,
          10.324521902583292,
          10.321770793863495,
          10.280364493108086,
          10.277594761727162
         ]
        },
        {
         "fill": "toself",
         "fillcolor": "rgba(0, 0, 255, 0.2)",
         "line": {
          "color": "rgba(0, 0, 0, 0)"
         },
         "name": "Night Confidence Interval",
         "type": "scatter",
         "x": [
          "2002-02-07T00:00:00",
          "2002-02-15T00:00:00",
          "2002-02-16T00:00:00",
          "2002-07-23T00:00:00",
          "2002-08-28T00:00:00",
          "2002-08-29T00:00:00",
          "2002-08-30T00:00:00",
          "2002-09-06T00:00:00",
          "2002-09-08T00:00:00",
          "2002-10-23T00:00:00",
          "2003-06-08T00:00:00",
          "2003-09-07T00:00:00",
          "2003-09-27T00:00:00",
          "2003-09-28T00:00:00",
          "2003-10-26T00:00:00",
          "2003-10-27T00:00:00",
          "2004-02-20T00:00:00",
          "2004-02-21T00:00:00",
          "2004-02-22T00:00:00",
          "2004-02-24T00:00:00",
          "2004-06-06T00:00:00",
          "2004-08-21T00:00:00",
          "2004-08-26T00:00:00",
          "2004-09-05T00:00:00",
          "2005-02-13T00:00:00",
          "2005-02-14T00:00:00",
          "2005-02-18T00:00:00",
          "2005-02-22T00:00:00",
          "2005-03-12T00:00:00",
          "2005-05-28T00:00:00",
          "2005-06-03T00:00:00",
          "2005-08-19T00:00:00",
          "2005-08-20T00:00:00",
          "2005-08-22T00:00:00",
          "2005-08-27T00:00:00",
          "2005-09-09T00:00:00",
          "2006-02-09T00:00:00",
          "2006-04-21T00:00:00",
          "2006-09-23T00:00:00",
          "2006-09-26T00:00:00",
          "2006-10-01T00:00:00",
          "2007-02-10T00:00:00",
          "2007-02-16T00:00:00",
          "2007-02-18T00:00:00",
          "2007-06-07T00:00:00",
          "2007-06-21T00:00:00",
          "2008-08-16T00:00:00",
          "2008-08-19T00:00:00",
          "2008-08-21T00:00:00",
          "2008-09-05T00:00:00",
          "2008-09-06T00:00:00",
          "2008-10-17T00:00:00",
          "2009-02-02T00:00:00",
          "2009-02-05T00:00:00",
          "2009-06-09T00:00:00",
          "2009-06-14T00:00:00",
          "2009-08-23T00:00:00",
          "2009-08-26T00:00:00",
          "2009-08-31T00:00:00",
          "2010-02-06T00:00:00",
          "2010-06-08T00:00:00",
          "2010-06-10T00:00:00",
          "2010-09-08T00:00:00",
          "2010-09-09T00:00:00",
          "2011-05-30T00:00:00",
          "2011-08-19T00:00:00",
          "2011-08-20T00:00:00",
          "2012-02-15T00:00:00",
          "2012-02-16T00:00:00",
          "2012-05-18T00:00:00",
          "2012-06-03T00:00:00",
          "2012-08-18T00:00:00",
          "2013-02-13T00:00:00",
          "2013-06-10T00:00:00",
          "2013-06-14T00:00:00",
          "2013-06-18T00:00:00",
          "2013-08-23T00:00:00",
          "2013-08-25T00:00:00",
          "2013-09-11T00:00:00",
          "2014-02-12T00:00:00",
          "2014-02-22T00:00:00",
          "2014-08-25T00:00:00",
          "2014-08-26T00:00:00",
          "2014-09-10T00:00:00",
          "2014-09-11T00:00:00",
          "2014-09-11T00:00:00",
          "2014-09-10T00:00:00",
          "2014-08-26T00:00:00",
          "2014-08-25T00:00:00",
          "2014-02-22T00:00:00",
          "2014-02-12T00:00:00",
          "2013-09-11T00:00:00",
          "2013-08-25T00:00:00",
          "2013-08-23T00:00:00",
          "2013-06-18T00:00:00",
          "2013-06-14T00:00:00",
          "2013-06-10T00:00:00",
          "2013-02-13T00:00:00",
          "2012-08-18T00:00:00",
          "2012-06-03T00:00:00",
          "2012-05-18T00:00:00",
          "2012-02-16T00:00:00",
          "2012-02-15T00:00:00",
          "2011-08-20T00:00:00",
          "2011-08-19T00:00:00",
          "2011-05-30T00:00:00",
          "2010-09-09T00:00:00",
          "2010-09-08T00:00:00",
          "2010-06-10T00:00:00",
          "2010-06-08T00:00:00",
          "2010-02-06T00:00:00",
          "2009-08-31T00:00:00",
          "2009-08-26T00:00:00",
          "2009-08-23T00:00:00",
          "2009-06-14T00:00:00",
          "2009-06-09T00:00:00",
          "2009-02-05T00:00:00",
          "2009-02-02T00:00:00",
          "2008-10-17T00:00:00",
          "2008-09-06T00:00:00",
          "2008-09-05T00:00:00",
          "2008-08-21T00:00:00",
          "2008-08-19T00:00:00",
          "2008-08-16T00:00:00",
          "2007-06-21T00:00:00",
          "2007-06-07T00:00:00",
          "2007-02-18T00:00:00",
          "2007-02-16T00:00:00",
          "2007-02-10T00:00:00",
          "2006-10-01T00:00:00",
          "2006-09-26T00:00:00",
          "2006-09-23T00:00:00",
          "2006-04-21T00:00:00",
          "2006-02-09T00:00:00",
          "2005-09-09T00:00:00",
          "2005-08-27T00:00:00",
          "2005-08-22T00:00:00",
          "2005-08-20T00:00:00",
          "2005-08-19T00:00:00",
          "2005-06-03T00:00:00",
          "2005-05-28T00:00:00",
          "2005-03-12T00:00:00",
          "2005-02-22T00:00:00",
          "2005-02-18T00:00:00",
          "2005-02-14T00:00:00",
          "2005-02-13T00:00:00",
          "2004-09-05T00:00:00",
          "2004-08-26T00:00:00",
          "2004-08-21T00:00:00",
          "2004-06-06T00:00:00",
          "2004-02-24T00:00:00",
          "2004-02-22T00:00:00",
          "2004-02-21T00:00:00",
          "2004-02-20T00:00:00",
          "2003-10-27T00:00:00",
          "2003-10-26T00:00:00",
          "2003-09-28T00:00:00",
          "2003-09-27T00:00:00",
          "2003-09-07T00:00:00",
          "2003-06-08T00:00:00",
          "2002-10-23T00:00:00",
          "2002-09-08T00:00:00",
          "2002-09-06T00:00:00",
          "2002-08-30T00:00:00",
          "2002-08-29T00:00:00",
          "2002-08-28T00:00:00",
          "2002-07-23T00:00:00",
          "2002-02-16T00:00:00",
          "2002-02-15T00:00:00",
          "2002-02-07T00:00:00"
         ],
         "y": [
          12.28692674927738,
          12.307549806506783,
          12.310122451037016,
          12.699591588160251,
          12.784853167935632,
          12.787200012699685,
          12.789545693547417,
          12.805932869824572,
          12.810604444942589,
          12.914484043589024,
          13.404583939670596,
          13.583300322479586,
          13.621286701255901,
          13.623173799073351,
          13.675539987935833,
          13.677393332179989,
          13.88448292835102,
          13.886200094385675,
          13.88791609650401,
          13.891344608991718,
          14.061619124605514,
          14.179341614207441,
          14.186850821784244,
          14.201781943213808,
          14.426151108119775,
          14.427450428195367,
          14.432636069334526,
          14.437803087812556,
          14.460824215532233,
          14.555046460168569,
          14.562098638093307,
          14.648882293525238,
          14.649963961248893,
          14.65212380494724,
          14.657503045657503,
          14.671352893294685,
          14.819574372901148,
          14.879101427000545,
          14.988668860610225,
          14.990513672447612,
          14.993565080516849,
          15.063598122174556,
          15.066299580893215,
          15.067190755802201,
          15.108718676561127,
          15.113050405991045,
          15.1365454615566,
          15.13597049136364,
          15.135581358320064,
          15.132514461162373,
          15.132300690021296,
          15.122533941285187,
          15.087442025119122,
          15.086273457602699,
          15.028807989816162,
          15.026115470843662,
          14.98536492488731,
          14.983491024080656,
          14.980344577743157,
          14.865112443223783,
          14.756744644068426,
          14.754823797147054,
          14.663567072118365,
          14.662500150314353,
          14.34149319687592,
          14.226412255274521,
          14.22494378233993,
          13.943336435124767,
          13.941658457252483,
          13.782305258983301,
          13.753586035583389,
          13.61310067297729,
          13.25565719398274,
          13.001866578516601,
          12.992908308528879,
          12.983931415880027,
          12.833124040473598,
          12.82847497369694,
          12.788769933609597,
          12.413763696037938,
          12.388458230267346,
          11.902064081599939,
          11.899312972880141,
          11.857906672124733,
          11.855136940743808,
          8.700052582710516,
          8.70282231409144,
          8.744228614846849,
          8.746979723566646,
          9.233373872234054,
          9.258679338004645,
          9.633685575576305,
          9.673390615663648,
          9.678039682440305,
          9.828847057846735,
          9.837823950495586,
          9.846782220483309,
          10.100572835949448,
          10.458016314943997,
          10.598501677550097,
          10.62722090095001,
          10.786574099219191,
          10.788252077091474,
          11.069859424306637,
          11.071327897241229,
          11.186408838842627,
          11.50741579228106,
          11.508482714085073,
          11.599739439113762,
          11.601660286035134,
          11.71002808519049,
          11.825260219709865,
          11.828406666047364,
          11.830280566854018,
          11.87103111281037,
          11.87372363178287,
          11.931189099569407,
          11.93235766708583,
          11.967449583251895,
          11.977216331988004,
          11.97743010312908,
          11.980497000286771,
          11.980886133330348,
          11.981461103523309,
          11.957966047957752,
          11.953634318527834,
          11.912106397768909,
          11.911215222859923,
          11.908513764141263,
          11.838480722483556,
          11.83542931441432,
          11.833584502576933,
          11.724017068967253,
          11.664490014867855,
          11.516268535261393,
          11.50241868762421,
          11.497039446913949,
          11.494879603215601,
          11.493797935491946,
          11.407014280060014,
          11.399962102135277,
          11.30573985749894,
          11.282718729779264,
          11.277551711301234,
          11.272366070162075,
          11.271066750086483,
          11.046697585180516,
          11.031766463750952,
          11.024257256174149,
          10.906534766572221,
          10.736260250958425,
          10.732831738470718,
          10.731115736352383,
          10.729398570317727,
          10.522308974146696,
          10.520455629902541,
          10.468089441040059,
          10.466202343222609,
          10.428215964446293,
          10.249499581637304,
          9.759399685555731,
          9.655520086909297,
          9.65084851179128,
          9.634461335514125,
          9.632115654666393,
          9.62976880990234,
          9.544507230126959,
          9.155038093003723,
          9.15246544847349,
          9.131842391244088
         ]
        }
       ],
       "layout": {
        "height": 600,
        "template": {
         "data": {
          "bar": [
           {
            "error_x": {
             "color": "#2a3f5f"
            },
            "error_y": {
             "color": "#2a3f5f"
            },
            "marker": {
             "line": {
              "color": "#E5ECF6",
              "width": 0.5
             },
             "pattern": {
              "fillmode": "overlay",
              "size": 10,
              "solidity": 0.2
             }
            },
            "type": "bar"
           }
          ],
          "barpolar": [
           {
            "marker": {
             "line": {
              "color": "#E5ECF6",
              "width": 0.5
             },
             "pattern": {
              "fillmode": "overlay",
              "size": 10,
              "solidity": 0.2
             }
            },
            "type": "barpolar"
           }
          ],
          "carpet": [
           {
            "aaxis": {
             "endlinecolor": "#2a3f5f",
             "gridcolor": "white",
             "linecolor": "white",
             "minorgridcolor": "white",
             "startlinecolor": "#2a3f5f"
            },
            "baxis": {
             "endlinecolor": "#2a3f5f",
             "gridcolor": "white",
             "linecolor": "white",
             "minorgridcolor": "white",
             "startlinecolor": "#2a3f5f"
            },
            "type": "carpet"
           }
          ],
          "choropleth": [
           {
            "colorbar": {
             "outlinewidth": 0,
             "ticks": ""
            },
            "type": "choropleth"
           }
          ],
          "contour": [
           {
            "colorbar": {
             "outlinewidth": 0,
             "ticks": ""
            },
            "colorscale": [
             [
              0,
              "#0d0887"
             ],
             [
              0.1111111111111111,
              "#46039f"
             ],
             [
              0.2222222222222222,
              "#7201a8"
             ],
             [
              0.3333333333333333,
              "#9c179e"
             ],
             [
              0.4444444444444444,
              "#bd3786"
             ],
             [
              0.5555555555555556,
              "#d8576b"
             ],
             [
              0.6666666666666666,
              "#ed7953"
             ],
             [
              0.7777777777777778,
              "#fb9f3a"
             ],
             [
              0.8888888888888888,
              "#fdca26"
             ],
             [
              1,
              "#f0f921"
             ]
            ],
            "type": "contour"
           }
          ],
          "contourcarpet": [
           {
            "colorbar": {
             "outlinewidth": 0,
             "ticks": ""
            },
            "type": "contourcarpet"
           }
          ],
          "heatmap": [
           {
            "colorbar": {
             "outlinewidth": 0,
             "ticks": ""
            },
            "colorscale": [
             [
              0,
              "#0d0887"
             ],
             [
              0.1111111111111111,
              "#46039f"
             ],
             [
              0.2222222222222222,
              "#7201a8"
             ],
             [
              0.3333333333333333,
              "#9c179e"
             ],
             [
              0.4444444444444444,
              "#bd3786"
             ],
             [
              0.5555555555555556,
              "#d8576b"
             ],
             [
              0.6666666666666666,
              "#ed7953"
             ],
             [
              0.7777777777777778,
              "#fb9f3a"
             ],
             [
              0.8888888888888888,
              "#fdca26"
             ],
             [
              1,
              "#f0f921"
             ]
            ],
            "type": "heatmap"
           }
          ],
          "heatmapgl": [
           {
            "colorbar": {
             "outlinewidth": 0,
             "ticks": ""
            },
            "colorscale": [
             [
              0,
              "#0d0887"
             ],
             [
              0.1111111111111111,
              "#46039f"
             ],
             [
              0.2222222222222222,
              "#7201a8"
             ],
             [
              0.3333333333333333,
              "#9c179e"
             ],
             [
              0.4444444444444444,
              "#bd3786"
             ],
             [
              0.5555555555555556,
              "#d8576b"
             ],
             [
              0.6666666666666666,
              "#ed7953"
             ],
             [
              0.7777777777777778,
              "#fb9f3a"
             ],
             [
              0.8888888888888888,
              "#fdca26"
             ],
             [
              1,
              "#f0f921"
             ]
            ],
            "type": "heatmapgl"
           }
          ],
          "histogram": [
           {
            "marker": {
             "pattern": {
              "fillmode": "overlay",
              "size": 10,
              "solidity": 0.2
             }
            },
            "type": "histogram"
           }
          ],
          "histogram2d": [
           {
            "colorbar": {
             "outlinewidth": 0,
             "ticks": ""
            },
            "colorscale": [
             [
              0,
              "#0d0887"
             ],
             [
              0.1111111111111111,
              "#46039f"
             ],
             [
              0.2222222222222222,
              "#7201a8"
             ],
             [
              0.3333333333333333,
              "#9c179e"
             ],
             [
              0.4444444444444444,
              "#bd3786"
             ],
             [
              0.5555555555555556,
              "#d8576b"
             ],
             [
              0.6666666666666666,
              "#ed7953"
             ],
             [
              0.7777777777777778,
              "#fb9f3a"
             ],
             [
              0.8888888888888888,
              "#fdca26"
             ],
             [
              1,
              "#f0f921"
             ]
            ],
            "type": "histogram2d"
           }
          ],
          "histogram2dcontour": [
           {
            "colorbar": {
             "outlinewidth": 0,
             "ticks": ""
            },
            "colorscale": [
             [
              0,
              "#0d0887"
             ],
             [
              0.1111111111111111,
              "#46039f"
             ],
             [
              0.2222222222222222,
              "#7201a8"
             ],
             [
              0.3333333333333333,
              "#9c179e"
             ],
             [
              0.4444444444444444,
              "#bd3786"
             ],
             [
              0.5555555555555556,
              "#d8576b"
             ],
             [
              0.6666666666666666,
              "#ed7953"
             ],
             [
              0.7777777777777778,
              "#fb9f3a"
             ],
             [
              0.8888888888888888,
              "#fdca26"
             ],
             [
              1,
              "#f0f921"
             ]
            ],
            "type": "histogram2dcontour"
           }
          ],
          "mesh3d": [
           {
            "colorbar": {
             "outlinewidth": 0,
             "ticks": ""
            },
            "type": "mesh3d"
           }
          ],
          "parcoords": [
           {
            "line": {
             "colorbar": {
              "outlinewidth": 0,
              "ticks": ""
             }
            },
            "type": "parcoords"
           }
          ],
          "pie": [
           {
            "automargin": true,
            "type": "pie"
           }
          ],
          "scatter": [
           {
            "fillpattern": {
             "fillmode": "overlay",
             "size": 10,
             "solidity": 0.2
            },
            "type": "scatter"
           }
          ],
          "scatter3d": [
           {
            "line": {
             "colorbar": {
              "outlinewidth": 0,
              "ticks": ""
             }
            },
            "marker": {
             "colorbar": {
              "outlinewidth": 0,
              "ticks": ""
             }
            },
            "type": "scatter3d"
           }
          ],
          "scattercarpet": [
           {
            "marker": {
             "colorbar": {
              "outlinewidth": 0,
              "ticks": ""
             }
            },
            "type": "scattercarpet"
           }
          ],
          "scattergeo": [
           {
            "marker": {
             "colorbar": {
              "outlinewidth": 0,
              "ticks": ""
             }
            },
            "type": "scattergeo"
           }
          ],
          "scattergl": [
           {
            "marker": {
             "colorbar": {
              "outlinewidth": 0,
              "ticks": ""
             }
            },
            "type": "scattergl"
           }
          ],
          "scattermapbox": [
           {
            "marker": {
             "colorbar": {
              "outlinewidth": 0,
              "ticks": ""
             }
            },
            "type": "scattermapbox"
           }
          ],
          "scatterpolar": [
           {
            "marker": {
             "colorbar": {
              "outlinewidth": 0,
              "ticks": ""
             }
            },
            "type": "scatterpolar"
           }
          ],
          "scatterpolargl": [
           {
            "marker": {
             "colorbar": {
              "outlinewidth": 0,
              "ticks": ""
             }
            },
            "type": "scatterpolargl"
           }
          ],
          "scatterternary": [
           {
            "marker": {
             "colorbar": {
              "outlinewidth": 0,
              "ticks": ""
             }
            },
            "type": "scatterternary"
           }
          ],
          "surface": [
           {
            "colorbar": {
             "outlinewidth": 0,
             "ticks": ""
            },
            "colorscale": [
             [
              0,
              "#0d0887"
             ],
             [
              0.1111111111111111,
              "#46039f"
             ],
             [
              0.2222222222222222,
              "#7201a8"
             ],
             [
              0.3333333333333333,
              "#9c179e"
             ],
             [
              0.4444444444444444,
              "#bd3786"
             ],
             [
              0.5555555555555556,
              "#d8576b"
             ],
             [
              0.6666666666666666,
              "#ed7953"
             ],
             [
              0.7777777777777778,
              "#fb9f3a"
             ],
             [
              0.8888888888888888,
              "#fdca26"
             ],
             [
              1,
              "#f0f921"
             ]
            ],
            "type": "surface"
           }
          ],
          "table": [
           {
            "cells": {
             "fill": {
              "color": "#EBF0F8"
             },
             "line": {
              "color": "white"
             }
            },
            "header": {
             "fill": {
              "color": "#C8D4E3"
             },
             "line": {
              "color": "white"
             }
            },
            "type": "table"
           }
          ]
         },
         "layout": {
          "annotationdefaults": {
           "arrowcolor": "#2a3f5f",
           "arrowhead": 0,
           "arrowwidth": 1
          },
          "autotypenumbers": "strict",
          "coloraxis": {
           "colorbar": {
            "outlinewidth": 0,
            "ticks": ""
           }
          },
          "colorscale": {
           "diverging": [
            [
             0,
             "#8e0152"
            ],
            [
             0.1,
             "#c51b7d"
            ],
            [
             0.2,
             "#de77ae"
            ],
            [
             0.3,
             "#f1b6da"
            ],
            [
             0.4,
             "#fde0ef"
            ],
            [
             0.5,
             "#f7f7f7"
            ],
            [
             0.6,
             "#e6f5d0"
            ],
            [
             0.7,
             "#b8e186"
            ],
            [
             0.8,
             "#7fbc41"
            ],
            [
             0.9,
             "#4d9221"
            ],
            [
             1,
             "#276419"
            ]
           ],
           "sequential": [
            [
             0,
             "#0d0887"
            ],
            [
             0.1111111111111111,
             "#46039f"
            ],
            [
             0.2222222222222222,
             "#7201a8"
            ],
            [
             0.3333333333333333,
             "#9c179e"
            ],
            [
             0.4444444444444444,
             "#bd3786"
            ],
            [
             0.5555555555555556,
             "#d8576b"
            ],
            [
             0.6666666666666666,
             "#ed7953"
            ],
            [
             0.7777777777777778,
             "#fb9f3a"
            ],
            [
             0.8888888888888888,
             "#fdca26"
            ],
            [
             1,
             "#f0f921"
            ]
           ],
           "sequentialminus": [
            [
             0,
             "#0d0887"
            ],
            [
             0.1111111111111111,
             "#46039f"
            ],
            [
             0.2222222222222222,
             "#7201a8"
            ],
            [
             0.3333333333333333,
             "#9c179e"
            ],
            [
             0.4444444444444444,
             "#bd3786"
            ],
            [
             0.5555555555555556,
             "#d8576b"
            ],
            [
             0.6666666666666666,
             "#ed7953"
            ],
            [
             0.7777777777777778,
             "#fb9f3a"
            ],
            [
             0.8888888888888888,
             "#fdca26"
            ],
            [
             1,
             "#f0f921"
            ]
           ]
          },
          "colorway": [
           "#636efa",
           "#EF553B",
           "#00cc96",
           "#ab63fa",
           "#FFA15A",
           "#19d3f3",
           "#FF6692",
           "#B6E880",
           "#FF97FF",
           "#FECB52"
          ],
          "font": {
           "color": "#2a3f5f"
          },
          "geo": {
           "bgcolor": "white",
           "lakecolor": "white",
           "landcolor": "#E5ECF6",
           "showlakes": true,
           "showland": true,
           "subunitcolor": "white"
          },
          "hoverlabel": {
           "align": "left"
          },
          "hovermode": "closest",
          "mapbox": {
           "style": "light"
          },
          "paper_bgcolor": "white",
          "plot_bgcolor": "#E5ECF6",
          "polar": {
           "angularaxis": {
            "gridcolor": "white",
            "linecolor": "white",
            "ticks": ""
           },
           "bgcolor": "#E5ECF6",
           "radialaxis": {
            "gridcolor": "white",
            "linecolor": "white",
            "ticks": ""
           }
          },
          "scene": {
           "xaxis": {
            "backgroundcolor": "#E5ECF6",
            "gridcolor": "white",
            "gridwidth": 2,
            "linecolor": "white",
            "showbackground": true,
            "ticks": "",
            "zerolinecolor": "white"
           },
           "yaxis": {
            "backgroundcolor": "#E5ECF6",
            "gridcolor": "white",
            "gridwidth": 2,
            "linecolor": "white",
            "showbackground": true,
            "ticks": "",
            "zerolinecolor": "white"
           },
           "zaxis": {
            "backgroundcolor": "#E5ECF6",
            "gridcolor": "white",
            "gridwidth": 2,
            "linecolor": "white",
            "showbackground": true,
            "ticks": "",
            "zerolinecolor": "white"
           }
          },
          "shapedefaults": {
           "line": {
            "color": "#2a3f5f"
           }
          },
          "ternary": {
           "aaxis": {
            "gridcolor": "white",
            "linecolor": "white",
            "ticks": ""
           },
           "baxis": {
            "gridcolor": "white",
            "linecolor": "white",
            "ticks": ""
           },
           "bgcolor": "#E5ECF6",
           "caxis": {
            "gridcolor": "white",
            "linecolor": "white",
            "ticks": ""
           }
          },
          "title": {
           "x": 0.05
          },
          "xaxis": {
           "automargin": true,
           "gridcolor": "white",
           "linecolor": "white",
           "ticks": "",
           "title": {
            "standoff": 15
           },
           "zerolinecolor": "white",
           "zerolinewidth": 2
          },
          "yaxis": {
           "automargin": true,
           "gridcolor": "white",
           "linecolor": "white",
           "ticks": "",
           "title": {
            "standoff": 15
           },
           "zerolinecolor": "white",
           "zerolinewidth": 2
          }
         }
        }
       }
      }
     },
     "metadata": {},
     "output_type": "display_data"
    }
   ],
   "source": [
    "day_data = day_data.sel(time=slice(time_start, time_end))\n",
    "night_data = night_data.sel(time=slice(time_start, time_end))\n",
    "plot_trend(day_data, night_data, poly_order=2).show()"
   ]
  },
  {
   "cell_type": "code",
   "execution_count": 12,
   "metadata": {},
   "outputs": [
    {
     "data": {
      "text/html": [
       "<div><svg style=\"position: absolute; width: 0; height: 0; overflow: hidden\">\n",
       "<defs>\n",
       "<symbol id=\"icon-database\" viewBox=\"0 0 32 32\">\n",
       "<path d=\"M16 0c-8.837 0-16 2.239-16 5v4c0 2.761 7.163 5 16 5s16-2.239 16-5v-4c0-2.761-7.163-5-16-5z\"></path>\n",
       "<path d=\"M16 17c-8.837 0-16-2.239-16-5v6c0 2.761 7.163 5 16 5s16-2.239 16-5v-6c0 2.761-7.163 5-16 5z\"></path>\n",
       "<path d=\"M16 26c-8.837 0-16-2.239-16-5v6c0 2.761 7.163 5 16 5s16-2.239 16-5v-6c0 2.761-7.163 5-16 5z\"></path>\n",
       "</symbol>\n",
       "<symbol id=\"icon-file-text2\" viewBox=\"0 0 32 32\">\n",
       "<path d=\"M28.681 7.159c-0.694-0.947-1.662-2.053-2.724-3.116s-2.169-2.030-3.116-2.724c-1.612-1.182-2.393-1.319-2.841-1.319h-15.5c-1.378 0-2.5 1.121-2.5 2.5v27c0 1.378 1.122 2.5 2.5 2.5h23c1.378 0 2.5-1.122 2.5-2.5v-19.5c0-0.448-0.137-1.23-1.319-2.841zM24.543 5.457c0.959 0.959 1.712 1.825 2.268 2.543h-4.811v-4.811c0.718 0.556 1.584 1.309 2.543 2.268zM28 29.5c0 0.271-0.229 0.5-0.5 0.5h-23c-0.271 0-0.5-0.229-0.5-0.5v-27c0-0.271 0.229-0.5 0.5-0.5 0 0 15.499-0 15.5 0v7c0 0.552 0.448 1 1 1h7v19.5z\"></path>\n",
       "<path d=\"M23 26h-14c-0.552 0-1-0.448-1-1s0.448-1 1-1h14c0.552 0 1 0.448 1 1s-0.448 1-1 1z\"></path>\n",
       "<path d=\"M23 22h-14c-0.552 0-1-0.448-1-1s0.448-1 1-1h14c0.552 0 1 0.448 1 1s-0.448 1-1 1z\"></path>\n",
       "<path d=\"M23 18h-14c-0.552 0-1-0.448-1-1s0.448-1 1-1h14c0.552 0 1 0.448 1 1s-0.448 1-1 1z\"></path>\n",
       "</symbol>\n",
       "</defs>\n",
       "</svg>\n",
       "<style>/* CSS stylesheet for displaying xarray objects in jupyterlab.\n",
       " *\n",
       " */\n",
       "\n",
       ":root {\n",
       "  --xr-font-color0: var(--jp-content-font-color0, rgba(0, 0, 0, 1));\n",
       "  --xr-font-color2: var(--jp-content-font-color2, rgba(0, 0, 0, 0.54));\n",
       "  --xr-font-color3: var(--jp-content-font-color3, rgba(0, 0, 0, 0.38));\n",
       "  --xr-border-color: var(--jp-border-color2, #e0e0e0);\n",
       "  --xr-disabled-color: var(--jp-layout-color3, #bdbdbd);\n",
       "  --xr-background-color: var(--jp-layout-color0, white);\n",
       "  --xr-background-color-row-even: var(--jp-layout-color1, white);\n",
       "  --xr-background-color-row-odd: var(--jp-layout-color2, #eeeeee);\n",
       "}\n",
       "\n",
       "html[theme=\"dark\"],\n",
       "html[data-theme=\"dark\"],\n",
       "body[data-theme=\"dark\"],\n",
       "body.vscode-dark {\n",
       "  --xr-font-color0: rgba(255, 255, 255, 1);\n",
       "  --xr-font-color2: rgba(255, 255, 255, 0.54);\n",
       "  --xr-font-color3: rgba(255, 255, 255, 0.38);\n",
       "  --xr-border-color: #1f1f1f;\n",
       "  --xr-disabled-color: #515151;\n",
       "  --xr-background-color: #111111;\n",
       "  --xr-background-color-row-even: #111111;\n",
       "  --xr-background-color-row-odd: #313131;\n",
       "}\n",
       "\n",
       ".xr-wrap {\n",
       "  display: block !important;\n",
       "  min-width: 300px;\n",
       "  max-width: 700px;\n",
       "}\n",
       "\n",
       ".xr-text-repr-fallback {\n",
       "  /* fallback to plain text repr when CSS is not injected (untrusted notebook) */\n",
       "  display: none;\n",
       "}\n",
       "\n",
       ".xr-header {\n",
       "  padding-top: 6px;\n",
       "  padding-bottom: 6px;\n",
       "  margin-bottom: 4px;\n",
       "  border-bottom: solid 1px var(--xr-border-color);\n",
       "}\n",
       "\n",
       ".xr-header > div,\n",
       ".xr-header > ul {\n",
       "  display: inline;\n",
       "  margin-top: 0;\n",
       "  margin-bottom: 0;\n",
       "}\n",
       "\n",
       ".xr-obj-type,\n",
       ".xr-array-name {\n",
       "  margin-left: 2px;\n",
       "  margin-right: 10px;\n",
       "}\n",
       "\n",
       ".xr-obj-type {\n",
       "  color: var(--xr-font-color2);\n",
       "}\n",
       "\n",
       ".xr-sections {\n",
       "  padding-left: 0 !important;\n",
       "  display: grid;\n",
       "  grid-template-columns: 150px auto auto 1fr 0 20px 0 20px;\n",
       "}\n",
       "\n",
       ".xr-section-item {\n",
       "  display: contents;\n",
       "}\n",
       "\n",
       ".xr-section-item input {\n",
       "  display: inline-block;\n",
       "  opacity: 0;\n",
       "  height: 0;\n",
       "}\n",
       "\n",
       ".xr-section-item input + label {\n",
       "  color: var(--xr-disabled-color);\n",
       "}\n",
       "\n",
       ".xr-section-item input:enabled + label {\n",
       "  cursor: pointer;\n",
       "  color: var(--xr-font-color2);\n",
       "}\n",
       "\n",
       ".xr-section-item input:focus + label {\n",
       "  border: 2px solid var(--xr-font-color0);\n",
       "}\n",
       "\n",
       ".xr-section-item input:enabled + label:hover {\n",
       "  color: var(--xr-font-color0);\n",
       "}\n",
       "\n",
       ".xr-section-summary {\n",
       "  grid-column: 1;\n",
       "  color: var(--xr-font-color2);\n",
       "  font-weight: 500;\n",
       "}\n",
       "\n",
       ".xr-section-summary > span {\n",
       "  display: inline-block;\n",
       "  padding-left: 0.5em;\n",
       "}\n",
       "\n",
       ".xr-section-summary-in:disabled + label {\n",
       "  color: var(--xr-font-color2);\n",
       "}\n",
       "\n",
       ".xr-section-summary-in + label:before {\n",
       "  display: inline-block;\n",
       "  content: \"►\";\n",
       "  font-size: 11px;\n",
       "  width: 15px;\n",
       "  text-align: center;\n",
       "}\n",
       "\n",
       ".xr-section-summary-in:disabled + label:before {\n",
       "  color: var(--xr-disabled-color);\n",
       "}\n",
       "\n",
       ".xr-section-summary-in:checked + label:before {\n",
       "  content: \"▼\";\n",
       "}\n",
       "\n",
       ".xr-section-summary-in:checked + label > span {\n",
       "  display: none;\n",
       "}\n",
       "\n",
       ".xr-section-summary,\n",
       ".xr-section-inline-details {\n",
       "  padding-top: 4px;\n",
       "  padding-bottom: 4px;\n",
       "}\n",
       "\n",
       ".xr-section-inline-details {\n",
       "  grid-column: 2 / -1;\n",
       "}\n",
       "\n",
       ".xr-section-details {\n",
       "  display: none;\n",
       "  grid-column: 1 / -1;\n",
       "  margin-bottom: 5px;\n",
       "}\n",
       "\n",
       ".xr-section-summary-in:checked ~ .xr-section-details {\n",
       "  display: contents;\n",
       "}\n",
       "\n",
       ".xr-array-wrap {\n",
       "  grid-column: 1 / -1;\n",
       "  display: grid;\n",
       "  grid-template-columns: 20px auto;\n",
       "}\n",
       "\n",
       ".xr-array-wrap > label {\n",
       "  grid-column: 1;\n",
       "  vertical-align: top;\n",
       "}\n",
       "\n",
       ".xr-preview {\n",
       "  color: var(--xr-font-color3);\n",
       "}\n",
       "\n",
       ".xr-array-preview,\n",
       ".xr-array-data {\n",
       "  padding: 0 5px !important;\n",
       "  grid-column: 2;\n",
       "}\n",
       "\n",
       ".xr-array-data,\n",
       ".xr-array-in:checked ~ .xr-array-preview {\n",
       "  display: none;\n",
       "}\n",
       "\n",
       ".xr-array-in:checked ~ .xr-array-data,\n",
       ".xr-array-preview {\n",
       "  display: inline-block;\n",
       "}\n",
       "\n",
       ".xr-dim-list {\n",
       "  display: inline-block !important;\n",
       "  list-style: none;\n",
       "  padding: 0 !important;\n",
       "  margin: 0;\n",
       "}\n",
       "\n",
       ".xr-dim-list li {\n",
       "  display: inline-block;\n",
       "  padding: 0;\n",
       "  margin: 0;\n",
       "}\n",
       "\n",
       ".xr-dim-list:before {\n",
       "  content: \"(\";\n",
       "}\n",
       "\n",
       ".xr-dim-list:after {\n",
       "  content: \")\";\n",
       "}\n",
       "\n",
       ".xr-dim-list li:not(:last-child):after {\n",
       "  content: \",\";\n",
       "  padding-right: 5px;\n",
       "}\n",
       "\n",
       ".xr-has-index {\n",
       "  font-weight: bold;\n",
       "}\n",
       "\n",
       ".xr-var-list,\n",
       ".xr-var-item {\n",
       "  display: contents;\n",
       "}\n",
       "\n",
       ".xr-var-item > div,\n",
       ".xr-var-item label,\n",
       ".xr-var-item > .xr-var-name span {\n",
       "  background-color: var(--xr-background-color-row-even);\n",
       "  margin-bottom: 0;\n",
       "}\n",
       "\n",
       ".xr-var-item > .xr-var-name:hover span {\n",
       "  padding-right: 5px;\n",
       "}\n",
       "\n",
       ".xr-var-list > li:nth-child(odd) > div,\n",
       ".xr-var-list > li:nth-child(odd) > label,\n",
       ".xr-var-list > li:nth-child(odd) > .xr-var-name span {\n",
       "  background-color: var(--xr-background-color-row-odd);\n",
       "}\n",
       "\n",
       ".xr-var-name {\n",
       "  grid-column: 1;\n",
       "}\n",
       "\n",
       ".xr-var-dims {\n",
       "  grid-column: 2;\n",
       "}\n",
       "\n",
       ".xr-var-dtype {\n",
       "  grid-column: 3;\n",
       "  text-align: right;\n",
       "  color: var(--xr-font-color2);\n",
       "}\n",
       "\n",
       ".xr-var-preview {\n",
       "  grid-column: 4;\n",
       "}\n",
       "\n",
       ".xr-index-preview {\n",
       "  grid-column: 2 / 5;\n",
       "  color: var(--xr-font-color2);\n",
       "}\n",
       "\n",
       ".xr-var-name,\n",
       ".xr-var-dims,\n",
       ".xr-var-dtype,\n",
       ".xr-preview,\n",
       ".xr-attrs dt {\n",
       "  white-space: nowrap;\n",
       "  overflow: hidden;\n",
       "  text-overflow: ellipsis;\n",
       "  padding-right: 10px;\n",
       "}\n",
       "\n",
       ".xr-var-name:hover,\n",
       ".xr-var-dims:hover,\n",
       ".xr-var-dtype:hover,\n",
       ".xr-attrs dt:hover {\n",
       "  overflow: visible;\n",
       "  width: auto;\n",
       "  z-index: 1;\n",
       "}\n",
       "\n",
       ".xr-var-attrs,\n",
       ".xr-var-data,\n",
       ".xr-index-data {\n",
       "  display: none;\n",
       "  background-color: var(--xr-background-color) !important;\n",
       "  padding-bottom: 5px !important;\n",
       "}\n",
       "\n",
       ".xr-var-attrs-in:checked ~ .xr-var-attrs,\n",
       ".xr-var-data-in:checked ~ .xr-var-data,\n",
       ".xr-index-data-in:checked ~ .xr-index-data {\n",
       "  display: block;\n",
       "}\n",
       "\n",
       ".xr-var-data > table {\n",
       "  float: right;\n",
       "}\n",
       "\n",
       ".xr-var-name span,\n",
       ".xr-var-data,\n",
       ".xr-index-name div,\n",
       ".xr-index-data,\n",
       ".xr-attrs {\n",
       "  padding-left: 25px !important;\n",
       "}\n",
       "\n",
       ".xr-attrs,\n",
       ".xr-var-attrs,\n",
       ".xr-var-data,\n",
       ".xr-index-data {\n",
       "  grid-column: 1 / -1;\n",
       "}\n",
       "\n",
       "dl.xr-attrs {\n",
       "  padding: 0;\n",
       "  margin: 0;\n",
       "  display: grid;\n",
       "  grid-template-columns: 125px auto;\n",
       "}\n",
       "\n",
       ".xr-attrs dt,\n",
       ".xr-attrs dd {\n",
       "  padding: 0;\n",
       "  margin: 0;\n",
       "  float: left;\n",
       "  padding-right: 10px;\n",
       "  width: auto;\n",
       "}\n",
       "\n",
       ".xr-attrs dt {\n",
       "  font-weight: normal;\n",
       "  grid-column: 1;\n",
       "}\n",
       "\n",
       ".xr-attrs dt:hover span {\n",
       "  display: inline-block;\n",
       "  background: var(--xr-background-color);\n",
       "  padding-right: 10px;\n",
       "}\n",
       "\n",
       ".xr-attrs dd {\n",
       "  grid-column: 2;\n",
       "  white-space: pre-wrap;\n",
       "  word-break: break-all;\n",
       "}\n",
       "\n",
       ".xr-icon-database,\n",
       ".xr-icon-file-text2,\n",
       ".xr-no-icon {\n",
       "  display: inline-block;\n",
       "  vertical-align: middle;\n",
       "  width: 1em;\n",
       "  height: 1.5em !important;\n",
       "  stroke-width: 0;\n",
       "  stroke: currentColor;\n",
       "  fill: currentColor;\n",
       "}\n",
       "</style><pre class='xr-text-repr-fallback'>&lt;xarray.Dataset&gt; Size: 1MB\n",
       "Dimensions:    (time: 287, latitude: 12, longitude: 26)\n",
       "Coordinates:\n",
       "  * latitude   (latitude) float64 96B 46.5 47.5 48.5 49.5 ... 55.5 56.5 57.5\n",
       "  * longitude  (longitude) float64 208B -156.5 -153.5 -152.5 ... -129.5 -128.5\n",
       "  * time       (time) datetime64[ns] 2kB 2002-02-07 2002-02-11 ... 2014-09-12\n",
       "Data variables:\n",
       "    day        (time, latitude, longitude) float64 716kB nan nan nan ... nan nan\n",
       "    night      (time, latitude, longitude) float64 716kB nan nan nan ... nan nan</pre><div class='xr-wrap' style='display:none'><div class='xr-header'><div class='xr-obj-type'>xarray.Dataset</div></div><ul class='xr-sections'><li class='xr-section-item'><input id='section-72625a88-7f11-441c-90d2-49598e893e60' class='xr-section-summary-in' type='checkbox' disabled ><label for='section-72625a88-7f11-441c-90d2-49598e893e60' class='xr-section-summary'  title='Expand/collapse section'>Dimensions:</label><div class='xr-section-inline-details'><ul class='xr-dim-list'><li><span class='xr-has-index'>time</span>: 287</li><li><span class='xr-has-index'>latitude</span>: 12</li><li><span class='xr-has-index'>longitude</span>: 26</li></ul></div><div class='xr-section-details'></div></li><li class='xr-section-item'><input id='section-786865af-bb2d-4e0a-9f63-bbeaf8e7fdfd' class='xr-section-summary-in' type='checkbox'  checked><label for='section-786865af-bb2d-4e0a-9f63-bbeaf8e7fdfd' class='xr-section-summary' >Coordinates: <span>(3)</span></label><div class='xr-section-inline-details'></div><div class='xr-section-details'><ul class='xr-var-list'><li class='xr-var-item'><div class='xr-var-name'><span class='xr-has-index'>latitude</span></div><div class='xr-var-dims'>(latitude)</div><div class='xr-var-dtype'>float64</div><div class='xr-var-preview xr-preview'>46.5 47.5 48.5 ... 55.5 56.5 57.5</div><input id='attrs-79e19d87-0d13-4dc0-9348-120cdeb89f74' class='xr-var-attrs-in' type='checkbox' ><label for='attrs-79e19d87-0d13-4dc0-9348-120cdeb89f74' title='Show/Hide attributes'><svg class='icon xr-icon-file-text2'><use xlink:href='#icon-file-text2'></use></svg></label><input id='data-7303426b-ad94-4680-854e-ba3a8967120c' class='xr-var-data-in' type='checkbox'><label for='data-7303426b-ad94-4680-854e-ba3a8967120c' title='Show/Hide data repr'><svg class='icon xr-icon-database'><use xlink:href='#icon-database'></use></svg></label><div class='xr-var-attrs'><dl class='xr-attrs'><dt><span>axis :</span></dt><dd>Y</dd><dt><span>long_name :</span></dt><dd>latitude</dd><dt><span>standard_name :</span></dt><dd>latitude</dd><dt><span>units :</span></dt><dd>degrees_north</dd></dl></div><div class='xr-var-data'><pre>array([46.5, 47.5, 48.5, 49.5, 50.5, 51.5, 52.5, 53.5, 54.5, 55.5, 56.5, 57.5])</pre></div></li><li class='xr-var-item'><div class='xr-var-name'><span class='xr-has-index'>longitude</span></div><div class='xr-var-dims'>(longitude)</div><div class='xr-var-dtype'>float64</div><div class='xr-var-preview xr-preview'>-156.5 -153.5 ... -129.5 -128.5</div><input id='attrs-3cddc40f-ac28-4ce2-9ea9-16997174d2c4' class='xr-var-attrs-in' type='checkbox' ><label for='attrs-3cddc40f-ac28-4ce2-9ea9-16997174d2c4' title='Show/Hide attributes'><svg class='icon xr-icon-file-text2'><use xlink:href='#icon-file-text2'></use></svg></label><input id='data-3689dde4-fa19-40d9-8512-0ecb938495c3' class='xr-var-data-in' type='checkbox'><label for='data-3689dde4-fa19-40d9-8512-0ecb938495c3' title='Show/Hide data repr'><svg class='icon xr-icon-database'><use xlink:href='#icon-database'></use></svg></label><div class='xr-var-attrs'><dl class='xr-attrs'><dt><span>axis :</span></dt><dd>X</dd><dt><span>long_name :</span></dt><dd>longitude</dd><dt><span>standard_name :</span></dt><dd>longitude</dd><dt><span>units :</span></dt><dd>degrees_east</dd></dl></div><div class='xr-var-data'><pre>array([-156.5, -153.5, -152.5, -151.5, -150.5, -149.5, -147.5, -146.5, -145.5,\n",
       "       -144.5, -143.5, -142.5, -141.5, -140.5, -139.5, -138.5, -137.5, -136.5,\n",
       "       -135.5, -134.5, -133.5, -132.5, -131.5, -130.5, -129.5, -128.5])</pre></div></li><li class='xr-var-item'><div class='xr-var-name'><span class='xr-has-index'>time</span></div><div class='xr-var-dims'>(time)</div><div class='xr-var-dtype'>datetime64[ns]</div><div class='xr-var-preview xr-preview'>2002-02-07 ... 2014-09-12</div><input id='attrs-5e15e204-e03c-4c89-96a2-47d8727f7264' class='xr-var-attrs-in' type='checkbox' ><label for='attrs-5e15e204-e03c-4c89-96a2-47d8727f7264' title='Show/Hide attributes'><svg class='icon xr-icon-file-text2'><use xlink:href='#icon-file-text2'></use></svg></label><input id='data-90591d14-5547-48d8-851a-84433476a226' class='xr-var-data-in' type='checkbox'><label for='data-90591d14-5547-48d8-851a-84433476a226' title='Show/Hide data repr'><svg class='icon xr-icon-database'><use xlink:href='#icon-database'></use></svg></label><div class='xr-var-attrs'><dl class='xr-attrs'><dt><span>axis :</span></dt><dd>T</dd><dt><span>long_name :</span></dt><dd>time</dd><dt><span>standard_name :</span></dt><dd>time</dd></dl></div><div class='xr-var-data'><pre>array([&#x27;2002-02-07T00:00:00.000000000&#x27;, &#x27;2002-02-11T00:00:00.000000000&#x27;,\n",
       "       &#x27;2002-02-13T00:00:00.000000000&#x27;, ..., &#x27;2014-09-10T00:00:00.000000000&#x27;,\n",
       "       &#x27;2014-09-11T00:00:00.000000000&#x27;, &#x27;2014-09-12T00:00:00.000000000&#x27;],\n",
       "      dtype=&#x27;datetime64[ns]&#x27;)</pre></div></li></ul></div></li><li class='xr-section-item'><input id='section-a703d8bc-7abe-4851-92af-e0205171af26' class='xr-section-summary-in' type='checkbox'  checked><label for='section-a703d8bc-7abe-4851-92af-e0205171af26' class='xr-section-summary' >Data variables: <span>(2)</span></label><div class='xr-section-inline-details'></div><div class='xr-section-details'><ul class='xr-var-list'><li class='xr-var-item'><div class='xr-var-name'><span>day</span></div><div class='xr-var-dims'>(time, latitude, longitude)</div><div class='xr-var-dtype'>float64</div><div class='xr-var-preview xr-preview'>nan nan nan nan ... nan nan nan nan</div><input id='attrs-d8b377ee-7661-4c89-8008-ff60244d5310' class='xr-var-attrs-in' type='checkbox' ><label for='attrs-d8b377ee-7661-4c89-8008-ff60244d5310' title='Show/Hide attributes'><svg class='icon xr-icon-file-text2'><use xlink:href='#icon-file-text2'></use></svg></label><input id='data-69f4925b-6873-46bc-a430-9dc57fb611df' class='xr-var-data-in' type='checkbox'><label for='data-69f4925b-6873-46bc-a430-9dc57fb611df' title='Show/Hide data repr'><svg class='icon xr-icon-database'><use xlink:href='#icon-database'></use></svg></label><div class='xr-var-attrs'><dl class='xr-attrs'><dt><span>description :</span></dt><dd>Zooplankton carbon weight by cube meter of sea water at day</dd><dt><span>units :</span></dt><dd>mg/m3</dd></dl></div><div class='xr-var-data'><pre>array([[[nan, nan, nan, ..., nan, nan, nan],\n",
       "        [nan, nan, nan, ..., nan, nan, nan],\n",
       "        [nan, nan, nan, ..., nan, nan, nan],\n",
       "        ...,\n",
       "        [nan, nan, nan, ..., nan, nan, nan],\n",
       "        [nan, nan, nan, ..., nan, nan, nan],\n",
       "        [nan, nan, nan, ..., nan, nan, nan]],\n",
       "\n",
       "       [[nan, nan, nan, ..., nan, nan, nan],\n",
       "        [nan, nan, nan, ..., nan, nan, nan],\n",
       "        [nan, nan, nan, ..., nan, nan, nan],\n",
       "        ...,\n",
       "        [nan, nan, nan, ..., nan, nan, nan],\n",
       "        [nan, nan, nan, ..., nan, nan, nan],\n",
       "        [nan, nan, nan, ..., nan, nan, nan]],\n",
       "\n",
       "       [[nan, nan, nan, ..., nan, nan, nan],\n",
       "        [nan, nan, nan, ..., nan, nan, nan],\n",
       "        [nan, nan, nan, ..., nan, nan, nan],\n",
       "        ...,\n",
       "...\n",
       "        ...,\n",
       "        [nan, nan, nan, ..., nan, nan, nan],\n",
       "        [nan, nan, nan, ..., nan, nan, nan],\n",
       "        [nan, nan, nan, ..., nan, nan, nan]],\n",
       "\n",
       "       [[nan, nan, nan, ..., nan, nan, nan],\n",
       "        [nan, nan, nan, ..., nan, nan, nan],\n",
       "        [nan, nan, nan, ..., nan, nan, nan],\n",
       "        ...,\n",
       "        [nan, nan, nan, ..., nan, nan, nan],\n",
       "        [nan, nan, nan, ..., nan, nan, nan],\n",
       "        [nan, nan, nan, ..., nan, nan, nan]],\n",
       "\n",
       "       [[nan, nan, nan, ..., nan, nan, nan],\n",
       "        [nan, nan, nan, ..., nan, nan, nan],\n",
       "        [nan, nan, nan, ..., nan, nan, nan],\n",
       "        ...,\n",
       "        [nan, nan, nan, ..., nan, nan, nan],\n",
       "        [nan, nan, nan, ..., nan, nan, nan],\n",
       "        [nan, nan, nan, ..., nan, nan, nan]]])</pre></div></li><li class='xr-var-item'><div class='xr-var-name'><span>night</span></div><div class='xr-var-dims'>(time, latitude, longitude)</div><div class='xr-var-dtype'>float64</div><div class='xr-var-preview xr-preview'>nan nan nan nan ... nan nan nan nan</div><input id='attrs-4a3daf12-6c52-4c65-90db-243449ae0718' class='xr-var-attrs-in' type='checkbox' ><label for='attrs-4a3daf12-6c52-4c65-90db-243449ae0718' title='Show/Hide attributes'><svg class='icon xr-icon-file-text2'><use xlink:href='#icon-file-text2'></use></svg></label><input id='data-3191a87d-26f1-46cc-b288-39e9fe7d7e37' class='xr-var-data-in' type='checkbox'><label for='data-3191a87d-26f1-46cc-b288-39e9fe7d7e37' title='Show/Hide data repr'><svg class='icon xr-icon-database'><use xlink:href='#icon-database'></use></svg></label><div class='xr-var-attrs'><dl class='xr-attrs'><dt><span>description :</span></dt><dd>Zooplankton carbon weight by cube meter of sea water at night</dd><dt><span>units :</span></dt><dd>mg/m3</dd></dl></div><div class='xr-var-data'><pre>array([[[    nan,     nan,     nan, ...,     nan,     nan,     nan],\n",
       "        [    nan,     nan,     nan, ...,     nan,     nan,     nan],\n",
       "        [    nan,     nan,     nan, ..., 1.71966,     nan,     nan],\n",
       "        ...,\n",
       "        [    nan,     nan,     nan, ...,     nan,     nan,     nan],\n",
       "        [    nan,     nan,     nan, ...,     nan,     nan,     nan],\n",
       "        [    nan,     nan,     nan, ...,     nan,     nan,     nan]],\n",
       "\n",
       "       [[    nan,     nan,     nan, ...,     nan,     nan,     nan],\n",
       "        [    nan,     nan,     nan, ...,     nan,     nan,     nan],\n",
       "        [    nan,     nan,     nan, ...,     nan,     nan,     nan],\n",
       "        ...,\n",
       "        [    nan,     nan,     nan, ...,     nan,     nan,     nan],\n",
       "        [    nan,     nan,     nan, ...,     nan,     nan,     nan],\n",
       "        [    nan,     nan,     nan, ...,     nan,     nan,     nan]],\n",
       "\n",
       "       [[    nan,     nan,     nan, ...,     nan,     nan,     nan],\n",
       "        [    nan,     nan,     nan, ...,     nan,     nan,     nan],\n",
       "        [    nan,     nan,     nan, ...,     nan,     nan,     nan],\n",
       "        ...,\n",
       "...\n",
       "        ...,\n",
       "        [    nan,     nan,     nan, ...,     nan,     nan,     nan],\n",
       "        [    nan,     nan,     nan, ...,     nan,     nan,     nan],\n",
       "        [    nan,     nan,     nan, ...,     nan,     nan,     nan]],\n",
       "\n",
       "       [[    nan,     nan,     nan, ...,     nan,     nan,     nan],\n",
       "        [    nan,     nan,     nan, ...,     nan,     nan,     nan],\n",
       "        [    nan,     nan,     nan, ...,     nan,     nan,     nan],\n",
       "        ...,\n",
       "        [    nan,     nan,     nan, ...,     nan,     nan,     nan],\n",
       "        [    nan,     nan,     nan, ...,     nan,     nan,     nan],\n",
       "        [    nan,     nan,     nan, ...,     nan,     nan,     nan]],\n",
       "\n",
       "       [[    nan,     nan,     nan, ...,     nan,     nan,     nan],\n",
       "        [    nan,     nan,     nan, ...,     nan,     nan,     nan],\n",
       "        [    nan,     nan,     nan, ...,     nan,     nan,     nan],\n",
       "        ...,\n",
       "        [    nan,     nan,     nan, ...,     nan,     nan,     nan],\n",
       "        [    nan,     nan,     nan, ...,     nan,     nan,     nan],\n",
       "        [    nan,     nan,     nan, ...,     nan,     nan,     nan]]])</pre></div></li></ul></div></li><li class='xr-section-item'><input id='section-eeead3d9-6ff4-4521-a8bd-f6d9c2cac6e6' class='xr-section-summary-in' type='checkbox'  ><label for='section-eeead3d9-6ff4-4521-a8bd-f6d9c2cac6e6' class='xr-section-summary' >Indexes: <span>(3)</span></label><div class='xr-section-inline-details'></div><div class='xr-section-details'><ul class='xr-var-list'><li class='xr-var-item'><div class='xr-index-name'><div>latitude</div></div><div class='xr-index-preview'>PandasIndex</div><input type='checkbox' disabled/><label></label><input id='index-d935577f-ebf5-43bf-9a7e-9d602df5e5bb' class='xr-index-data-in' type='checkbox'/><label for='index-d935577f-ebf5-43bf-9a7e-9d602df5e5bb' title='Show/Hide index repr'><svg class='icon xr-icon-database'><use xlink:href='#icon-database'></use></svg></label><div class='xr-index-data'><pre>PandasIndex(Index([46.5, 47.5, 48.5, 49.5, 50.5, 51.5, 52.5, 53.5, 54.5, 55.5, 56.5, 57.5], dtype=&#x27;float64&#x27;, name=&#x27;latitude&#x27;))</pre></div></li><li class='xr-var-item'><div class='xr-index-name'><div>longitude</div></div><div class='xr-index-preview'>PandasIndex</div><input type='checkbox' disabled/><label></label><input id='index-e855a4d5-e121-45e9-a069-7640006c8e13' class='xr-index-data-in' type='checkbox'/><label for='index-e855a4d5-e121-45e9-a069-7640006c8e13' title='Show/Hide index repr'><svg class='icon xr-icon-database'><use xlink:href='#icon-database'></use></svg></label><div class='xr-index-data'><pre>PandasIndex(Index([-156.5, -153.5, -152.5, -151.5, -150.5, -149.5, -147.5, -146.5, -145.5,\n",
       "       -144.5, -143.5, -142.5, -141.5, -140.5, -139.5, -138.5, -137.5, -136.5,\n",
       "       -135.5, -134.5, -133.5, -132.5, -131.5, -130.5, -129.5, -128.5],\n",
       "      dtype=&#x27;float64&#x27;, name=&#x27;longitude&#x27;))</pre></div></li><li class='xr-var-item'><div class='xr-index-name'><div>time</div></div><div class='xr-index-preview'>PandasIndex</div><input type='checkbox' disabled/><label></label><input id='index-0caeacfc-dd41-4a46-9966-bdb8b6de1c7b' class='xr-index-data-in' type='checkbox'/><label for='index-0caeacfc-dd41-4a46-9966-bdb8b6de1c7b' title='Show/Hide index repr'><svg class='icon xr-icon-database'><use xlink:href='#icon-database'></use></svg></label><div class='xr-index-data'><pre>PandasIndex(DatetimeIndex([&#x27;2002-02-07&#x27;, &#x27;2002-02-11&#x27;, &#x27;2002-02-13&#x27;, &#x27;2002-02-14&#x27;,\n",
       "               &#x27;2002-02-15&#x27;, &#x27;2002-02-16&#x27;, &#x27;2002-03-05&#x27;, &#x27;2002-05-03&#x27;,\n",
       "               &#x27;2002-05-05&#x27;, &#x27;2002-05-06&#x27;,\n",
       "               ...\n",
       "               &#x27;2014-06-04&#x27;, &#x27;2014-06-13&#x27;, &#x27;2014-06-15&#x27;, &#x27;2014-06-17&#x27;,\n",
       "               &#x27;2014-08-23&#x27;, &#x27;2014-08-25&#x27;, &#x27;2014-08-26&#x27;, &#x27;2014-09-10&#x27;,\n",
       "               &#x27;2014-09-11&#x27;, &#x27;2014-09-12&#x27;],\n",
       "              dtype=&#x27;datetime64[ns]&#x27;, name=&#x27;time&#x27;, length=287, freq=None))</pre></div></li></ul></div></li><li class='xr-section-item'><input id='section-b2051549-4471-47e5-becc-985fec85f71d' class='xr-section-summary-in' type='checkbox' disabled ><label for='section-b2051549-4471-47e5-becc-985fec85f71d' class='xr-section-summary'  title='Expand/collapse section'>Attributes: <span>(0)</span></label><div class='xr-section-inline-details'></div><div class='xr-section-details'><dl class='xr-attrs'></dl></div></li></ul></div></div>"
      ],
      "text/plain": [
       "<xarray.Dataset> Size: 1MB\n",
       "Dimensions:    (time: 287, latitude: 12, longitude: 26)\n",
       "Coordinates:\n",
       "  * latitude   (latitude) float64 96B 46.5 47.5 48.5 49.5 ... 55.5 56.5 57.5\n",
       "  * longitude  (longitude) float64 208B -156.5 -153.5 -152.5 ... -129.5 -128.5\n",
       "  * time       (time) datetime64[ns] 2kB 2002-02-07 2002-02-11 ... 2014-09-12\n",
       "Data variables:\n",
       "    day        (time, latitude, longitude) float64 716kB nan nan nan ... nan nan\n",
       "    night      (time, latitude, longitude) float64 716kB nan nan nan ... nan nan"
      ]
     },
     "execution_count": 12,
     "metadata": {},
     "output_type": "execute_result"
    }
   ],
   "source": [
    "data = data.sel(time=slice(time_start, time_end))\n",
    "data"
   ]
  },
  {
   "cell_type": "markdown",
   "metadata": {},
   "source": [
    "## Number of samples\n"
   ]
  },
  {
   "cell_type": "markdown",
   "metadata": {},
   "source": [
    "### Total\n"
   ]
  },
  {
   "cell_type": "code",
   "execution_count": 13,
   "metadata": {},
   "outputs": [],
   "source": [
    "counts_month = data.groupby(data[\"time\"].dt.month).count().sum(dim=[\"latitude\", \"longitude\"]).to_dataframe()\n",
    "counts_year = (\n",
    "    data.groupby(data[\"time\"].dt.year)\n",
    "    .count()\n",
    "    # .isel(latitude=0, longitude=0, layer=0)\n",
    "    .sum(dim=[\"latitude\", \"longitude\"])\n",
    "    .to_dataframe()\n",
    ")"
   ]
  },
  {
   "cell_type": "code",
   "execution_count": 14,
   "metadata": {},
   "outputs": [
    {
     "data": {
      "application/vnd.plotly.v1+json": {
       "config": {
        "plotlyServerURL": "https://plot.ly"
       },
       "data": [
        {
         "alignmentgroup": "True",
         "hovertemplate": "variable=day<br>month=%{x}<br>Counts=%{y}<extra></extra>",
         "legendgroup": "day",
         "marker": {
          "color": "#636EFA",
          "pattern": {
           "shape": ""
          }
         },
         "name": "day",
         "offsetgroup": "day",
         "orientation": "v",
         "showlegend": true,
         "textposition": "auto",
         "type": "bar",
         "x": [
          1,
          2,
          3,
          4,
          5,
          6,
          7,
          8,
          9,
          10
         ],
         "xaxis": "x",
         "y": [
          2,
          48,
          7,
          1,
          20,
          45,
          24,
          38,
          28,
          7
         ],
         "yaxis": "y"
        },
        {
         "alignmentgroup": "True",
         "hovertemplate": "variable=night<br>month=%{x}<br>Counts=%{y}<extra></extra>",
         "legendgroup": "night",
         "marker": {
          "color": "#EF553B",
          "pattern": {
           "shape": ""
          }
         },
         "name": "night",
         "offsetgroup": "night",
         "orientation": "v",
         "showlegend": true,
         "textposition": "auto",
         "type": "bar",
         "x": [
          1,
          2,
          3,
          4,
          5,
          6,
          7,
          8,
          9,
          10
         ],
         "xaxis": "x",
         "y": [
          0,
          24,
          1,
          1,
          3,
          16,
          1,
          22,
          17,
          6
         ],
         "yaxis": "y"
        }
       ],
       "layout": {
        "barmode": "group",
        "height": 600,
        "legend": {
         "title": {
          "text": "variable"
         },
         "tracegroupgap": 0
        },
        "template": {
         "data": {
          "bar": [
           {
            "error_x": {
             "color": "#2a3f5f"
            },
            "error_y": {
             "color": "#2a3f5f"
            },
            "marker": {
             "line": {
              "color": "#E5ECF6",
              "width": 0.5
             },
             "pattern": {
              "fillmode": "overlay",
              "size": 10,
              "solidity": 0.2
             }
            },
            "type": "bar"
           }
          ],
          "barpolar": [
           {
            "marker": {
             "line": {
              "color": "#E5ECF6",
              "width": 0.5
             },
             "pattern": {
              "fillmode": "overlay",
              "size": 10,
              "solidity": 0.2
             }
            },
            "type": "barpolar"
           }
          ],
          "carpet": [
           {
            "aaxis": {
             "endlinecolor": "#2a3f5f",
             "gridcolor": "white",
             "linecolor": "white",
             "minorgridcolor": "white",
             "startlinecolor": "#2a3f5f"
            },
            "baxis": {
             "endlinecolor": "#2a3f5f",
             "gridcolor": "white",
             "linecolor": "white",
             "minorgridcolor": "white",
             "startlinecolor": "#2a3f5f"
            },
            "type": "carpet"
           }
          ],
          "choropleth": [
           {
            "colorbar": {
             "outlinewidth": 0,
             "ticks": ""
            },
            "type": "choropleth"
           }
          ],
          "contour": [
           {
            "colorbar": {
             "outlinewidth": 0,
             "ticks": ""
            },
            "colorscale": [
             [
              0,
              "#0d0887"
             ],
             [
              0.1111111111111111,
              "#46039f"
             ],
             [
              0.2222222222222222,
              "#7201a8"
             ],
             [
              0.3333333333333333,
              "#9c179e"
             ],
             [
              0.4444444444444444,
              "#bd3786"
             ],
             [
              0.5555555555555556,
              "#d8576b"
             ],
             [
              0.6666666666666666,
              "#ed7953"
             ],
             [
              0.7777777777777778,
              "#fb9f3a"
             ],
             [
              0.8888888888888888,
              "#fdca26"
             ],
             [
              1,
              "#f0f921"
             ]
            ],
            "type": "contour"
           }
          ],
          "contourcarpet": [
           {
            "colorbar": {
             "outlinewidth": 0,
             "ticks": ""
            },
            "type": "contourcarpet"
           }
          ],
          "heatmap": [
           {
            "colorbar": {
             "outlinewidth": 0,
             "ticks": ""
            },
            "colorscale": [
             [
              0,
              "#0d0887"
             ],
             [
              0.1111111111111111,
              "#46039f"
             ],
             [
              0.2222222222222222,
              "#7201a8"
             ],
             [
              0.3333333333333333,
              "#9c179e"
             ],
             [
              0.4444444444444444,
              "#bd3786"
             ],
             [
              0.5555555555555556,
              "#d8576b"
             ],
             [
              0.6666666666666666,
              "#ed7953"
             ],
             [
              0.7777777777777778,
              "#fb9f3a"
             ],
             [
              0.8888888888888888,
              "#fdca26"
             ],
             [
              1,
              "#f0f921"
             ]
            ],
            "type": "heatmap"
           }
          ],
          "heatmapgl": [
           {
            "colorbar": {
             "outlinewidth": 0,
             "ticks": ""
            },
            "colorscale": [
             [
              0,
              "#0d0887"
             ],
             [
              0.1111111111111111,
              "#46039f"
             ],
             [
              0.2222222222222222,
              "#7201a8"
             ],
             [
              0.3333333333333333,
              "#9c179e"
             ],
             [
              0.4444444444444444,
              "#bd3786"
             ],
             [
              0.5555555555555556,
              "#d8576b"
             ],
             [
              0.6666666666666666,
              "#ed7953"
             ],
             [
              0.7777777777777778,
              "#fb9f3a"
             ],
             [
              0.8888888888888888,
              "#fdca26"
             ],
             [
              1,
              "#f0f921"
             ]
            ],
            "type": "heatmapgl"
           }
          ],
          "histogram": [
           {
            "marker": {
             "pattern": {
              "fillmode": "overlay",
              "size": 10,
              "solidity": 0.2
             }
            },
            "type": "histogram"
           }
          ],
          "histogram2d": [
           {
            "colorbar": {
             "outlinewidth": 0,
             "ticks": ""
            },
            "colorscale": [
             [
              0,
              "#0d0887"
             ],
             [
              0.1111111111111111,
              "#46039f"
             ],
             [
              0.2222222222222222,
              "#7201a8"
             ],
             [
              0.3333333333333333,
              "#9c179e"
             ],
             [
              0.4444444444444444,
              "#bd3786"
             ],
             [
              0.5555555555555556,
              "#d8576b"
             ],
             [
              0.6666666666666666,
              "#ed7953"
             ],
             [
              0.7777777777777778,
              "#fb9f3a"
             ],
             [
              0.8888888888888888,
              "#fdca26"
             ],
             [
              1,
              "#f0f921"
             ]
            ],
            "type": "histogram2d"
           }
          ],
          "histogram2dcontour": [
           {
            "colorbar": {
             "outlinewidth": 0,
             "ticks": ""
            },
            "colorscale": [
             [
              0,
              "#0d0887"
             ],
             [
              0.1111111111111111,
              "#46039f"
             ],
             [
              0.2222222222222222,
              "#7201a8"
             ],
             [
              0.3333333333333333,
              "#9c179e"
             ],
             [
              0.4444444444444444,
              "#bd3786"
             ],
             [
              0.5555555555555556,
              "#d8576b"
             ],
             [
              0.6666666666666666,
              "#ed7953"
             ],
             [
              0.7777777777777778,
              "#fb9f3a"
             ],
             [
              0.8888888888888888,
              "#fdca26"
             ],
             [
              1,
              "#f0f921"
             ]
            ],
            "type": "histogram2dcontour"
           }
          ],
          "mesh3d": [
           {
            "colorbar": {
             "outlinewidth": 0,
             "ticks": ""
            },
            "type": "mesh3d"
           }
          ],
          "parcoords": [
           {
            "line": {
             "colorbar": {
              "outlinewidth": 0,
              "ticks": ""
             }
            },
            "type": "parcoords"
           }
          ],
          "pie": [
           {
            "automargin": true,
            "type": "pie"
           }
          ],
          "scatter": [
           {
            "fillpattern": {
             "fillmode": "overlay",
             "size": 10,
             "solidity": 0.2
            },
            "type": "scatter"
           }
          ],
          "scatter3d": [
           {
            "line": {
             "colorbar": {
              "outlinewidth": 0,
              "ticks": ""
             }
            },
            "marker": {
             "colorbar": {
              "outlinewidth": 0,
              "ticks": ""
             }
            },
            "type": "scatter3d"
           }
          ],
          "scattercarpet": [
           {
            "marker": {
             "colorbar": {
              "outlinewidth": 0,
              "ticks": ""
             }
            },
            "type": "scattercarpet"
           }
          ],
          "scattergeo": [
           {
            "marker": {
             "colorbar": {
              "outlinewidth": 0,
              "ticks": ""
             }
            },
            "type": "scattergeo"
           }
          ],
          "scattergl": [
           {
            "marker": {
             "colorbar": {
              "outlinewidth": 0,
              "ticks": ""
             }
            },
            "type": "scattergl"
           }
          ],
          "scattermapbox": [
           {
            "marker": {
             "colorbar": {
              "outlinewidth": 0,
              "ticks": ""
             }
            },
            "type": "scattermapbox"
           }
          ],
          "scatterpolar": [
           {
            "marker": {
             "colorbar": {
              "outlinewidth": 0,
              "ticks": ""
             }
            },
            "type": "scatterpolar"
           }
          ],
          "scatterpolargl": [
           {
            "marker": {
             "colorbar": {
              "outlinewidth": 0,
              "ticks": ""
             }
            },
            "type": "scatterpolargl"
           }
          ],
          "scatterternary": [
           {
            "marker": {
             "colorbar": {
              "outlinewidth": 0,
              "ticks": ""
             }
            },
            "type": "scatterternary"
           }
          ],
          "surface": [
           {
            "colorbar": {
             "outlinewidth": 0,
             "ticks": ""
            },
            "colorscale": [
             [
              0,
              "#0d0887"
             ],
             [
              0.1111111111111111,
              "#46039f"
             ],
             [
              0.2222222222222222,
              "#7201a8"
             ],
             [
              0.3333333333333333,
              "#9c179e"
             ],
             [
              0.4444444444444444,
              "#bd3786"
             ],
             [
              0.5555555555555556,
              "#d8576b"
             ],
             [
              0.6666666666666666,
              "#ed7953"
             ],
             [
              0.7777777777777778,
              "#fb9f3a"
             ],
             [
              0.8888888888888888,
              "#fdca26"
             ],
             [
              1,
              "#f0f921"
             ]
            ],
            "type": "surface"
           }
          ],
          "table": [
           {
            "cells": {
             "fill": {
              "color": "#EBF0F8"
             },
             "line": {
              "color": "white"
             }
            },
            "header": {
             "fill": {
              "color": "#C8D4E3"
             },
             "line": {
              "color": "white"
             }
            },
            "type": "table"
           }
          ]
         },
         "layout": {
          "annotationdefaults": {
           "arrowcolor": "#2a3f5f",
           "arrowhead": 0,
           "arrowwidth": 1
          },
          "autotypenumbers": "strict",
          "coloraxis": {
           "colorbar": {
            "outlinewidth": 0,
            "ticks": ""
           }
          },
          "colorscale": {
           "diverging": [
            [
             0,
             "#8e0152"
            ],
            [
             0.1,
             "#c51b7d"
            ],
            [
             0.2,
             "#de77ae"
            ],
            [
             0.3,
             "#f1b6da"
            ],
            [
             0.4,
             "#fde0ef"
            ],
            [
             0.5,
             "#f7f7f7"
            ],
            [
             0.6,
             "#e6f5d0"
            ],
            [
             0.7,
             "#b8e186"
            ],
            [
             0.8,
             "#7fbc41"
            ],
            [
             0.9,
             "#4d9221"
            ],
            [
             1,
             "#276419"
            ]
           ],
           "sequential": [
            [
             0,
             "#0d0887"
            ],
            [
             0.1111111111111111,
             "#46039f"
            ],
            [
             0.2222222222222222,
             "#7201a8"
            ],
            [
             0.3333333333333333,
             "#9c179e"
            ],
            [
             0.4444444444444444,
             "#bd3786"
            ],
            [
             0.5555555555555556,
             "#d8576b"
            ],
            [
             0.6666666666666666,
             "#ed7953"
            ],
            [
             0.7777777777777778,
             "#fb9f3a"
            ],
            [
             0.8888888888888888,
             "#fdca26"
            ],
            [
             1,
             "#f0f921"
            ]
           ],
           "sequentialminus": [
            [
             0,
             "#0d0887"
            ],
            [
             0.1111111111111111,
             "#46039f"
            ],
            [
             0.2222222222222222,
             "#7201a8"
            ],
            [
             0.3333333333333333,
             "#9c179e"
            ],
            [
             0.4444444444444444,
             "#bd3786"
            ],
            [
             0.5555555555555556,
             "#d8576b"
            ],
            [
             0.6666666666666666,
             "#ed7953"
            ],
            [
             0.7777777777777778,
             "#fb9f3a"
            ],
            [
             0.8888888888888888,
             "#fdca26"
            ],
            [
             1,
             "#f0f921"
            ]
           ]
          },
          "colorway": [
           "#636efa",
           "#EF553B",
           "#00cc96",
           "#ab63fa",
           "#FFA15A",
           "#19d3f3",
           "#FF6692",
           "#B6E880",
           "#FF97FF",
           "#FECB52"
          ],
          "font": {
           "color": "#2a3f5f"
          },
          "geo": {
           "bgcolor": "white",
           "lakecolor": "white",
           "landcolor": "#E5ECF6",
           "showlakes": true,
           "showland": true,
           "subunitcolor": "white"
          },
          "hoverlabel": {
           "align": "left"
          },
          "hovermode": "closest",
          "mapbox": {
           "style": "light"
          },
          "paper_bgcolor": "white",
          "plot_bgcolor": "#E5ECF6",
          "polar": {
           "angularaxis": {
            "gridcolor": "white",
            "linecolor": "white",
            "ticks": ""
           },
           "bgcolor": "#E5ECF6",
           "radialaxis": {
            "gridcolor": "white",
            "linecolor": "white",
            "ticks": ""
           }
          },
          "scene": {
           "xaxis": {
            "backgroundcolor": "#E5ECF6",
            "gridcolor": "white",
            "gridwidth": 2,
            "linecolor": "white",
            "showbackground": true,
            "ticks": "",
            "zerolinecolor": "white"
           },
           "yaxis": {
            "backgroundcolor": "#E5ECF6",
            "gridcolor": "white",
            "gridwidth": 2,
            "linecolor": "white",
            "showbackground": true,
            "ticks": "",
            "zerolinecolor": "white"
           },
           "zaxis": {
            "backgroundcolor": "#E5ECF6",
            "gridcolor": "white",
            "gridwidth": 2,
            "linecolor": "white",
            "showbackground": true,
            "ticks": "",
            "zerolinecolor": "white"
           }
          },
          "shapedefaults": {
           "line": {
            "color": "#2a3f5f"
           }
          },
          "ternary": {
           "aaxis": {
            "gridcolor": "white",
            "linecolor": "white",
            "ticks": ""
           },
           "baxis": {
            "gridcolor": "white",
            "linecolor": "white",
            "ticks": ""
           },
           "bgcolor": "#E5ECF6",
           "caxis": {
            "gridcolor": "white",
            "linecolor": "white",
            "ticks": ""
           }
          },
          "title": {
           "x": 0.05
          },
          "xaxis": {
           "automargin": true,
           "gridcolor": "white",
           "linecolor": "white",
           "ticks": "",
           "title": {
            "standoff": 15
           },
           "zerolinecolor": "white",
           "zerolinewidth": 2
          },
          "yaxis": {
           "automargin": true,
           "gridcolor": "white",
           "linecolor": "white",
           "ticks": "",
           "title": {
            "standoff": 15
           },
           "zerolinecolor": "white",
           "zerolinewidth": 2
          }
         }
        },
        "title": {
         "text": "Counts of Papa data per month"
        },
        "xaxis": {
         "anchor": "y",
         "domain": [
          0,
          1
         ],
         "ticktext": [
          "Jan",
          "Feb",
          "Mar",
          "Apr",
          "May",
          "Jun",
          "Jul",
          "Aug",
          "Sep",
          "Oct",
          "Nov",
          "Dec"
         ],
         "tickvals": [
          1,
          2,
          3,
          4,
          5,
          6,
          7,
          8,
          9,
          10,
          11,
          12
         ],
         "title": {
          "text": "Month"
         }
        },
        "yaxis": {
         "anchor": "x",
         "domain": [
          0,
          1
         ],
         "title": {
          "text": "Counts"
         }
        }
       }
      }
     },
     "metadata": {},
     "output_type": "display_data"
    }
   ],
   "source": [
    "px.bar(\n",
    "    counts_month,\n",
    "    x=counts_month.index,\n",
    "    y=counts_month.columns,\n",
    "    # side by side\n",
    "    barmode=\"group\",\n",
    "    title=f\"Counts of {station} data per month\",\n",
    "    labels={\"value\": \"Counts\"},\n",
    "    color_discrete_sequence=px.colors.qualitative.Plotly,\n",
    ").update_layout(height=600).update_xaxes(\n",
    "    title_text=\"Month\",\n",
    "    tickvals=np.arange(1, 13),\n",
    "    ticktext=[\"Jan\", \"Feb\", \"Mar\", \"Apr\", \"May\", \"Jun\", \"Jul\", \"Aug\", \"Sep\", \"Oct\", \"Nov\", \"Dec\"],\n",
    ").show()"
   ]
  },
  {
   "cell_type": "code",
   "execution_count": 15,
   "metadata": {},
   "outputs": [
    {
     "data": {
      "application/vnd.plotly.v1+json": {
       "config": {
        "plotlyServerURL": "https://plot.ly"
       },
       "data": [
        {
         "alignmentgroup": "True",
         "hovertemplate": "variable=day<br>year=%{x}<br>Counts=%{y}<extra></extra>",
         "legendgroup": "day",
         "marker": {
          "color": "#636EFA",
          "pattern": {
           "shape": ""
          }
         },
         "name": "day",
         "offsetgroup": "day",
         "orientation": "v",
         "showlegend": true,
         "textposition": "auto",
         "type": "bar",
         "x": [
          2002,
          2003,
          2004,
          2005,
          2006,
          2007,
          2008,
          2009,
          2010,
          2011,
          2012,
          2013,
          2014
         ],
         "xaxis": "x",
         "y": [
          30,
          23,
          18,
          21,
          14,
          22,
          16,
          15,
          16,
          18,
          12,
          8,
          7
         ],
         "yaxis": "y"
        },
        {
         "alignmentgroup": "True",
         "hovertemplate": "variable=night<br>year=%{x}<br>Counts=%{y}<extra></extra>",
         "legendgroup": "night",
         "marker": {
          "color": "#EF553B",
          "pattern": {
           "shape": ""
          }
         },
         "name": "night",
         "offsetgroup": "night",
         "orientation": "v",
         "showlegend": true,
         "textposition": "auto",
         "type": "bar",
         "x": [
          2002,
          2003,
          2004,
          2005,
          2006,
          2007,
          2008,
          2009,
          2010,
          2011,
          2012,
          2013,
          2014
         ],
         "xaxis": "x",
         "y": [
          11,
          7,
          8,
          12,
          5,
          8,
          6,
          7,
          6,
          3,
          5,
          7,
          6
         ],
         "yaxis": "y"
        }
       ],
       "layout": {
        "barmode": "group",
        "height": 600,
        "legend": {
         "title": {
          "text": "variable"
         },
         "tracegroupgap": 0
        },
        "template": {
         "data": {
          "bar": [
           {
            "error_x": {
             "color": "#2a3f5f"
            },
            "error_y": {
             "color": "#2a3f5f"
            },
            "marker": {
             "line": {
              "color": "#E5ECF6",
              "width": 0.5
             },
             "pattern": {
              "fillmode": "overlay",
              "size": 10,
              "solidity": 0.2
             }
            },
            "type": "bar"
           }
          ],
          "barpolar": [
           {
            "marker": {
             "line": {
              "color": "#E5ECF6",
              "width": 0.5
             },
             "pattern": {
              "fillmode": "overlay",
              "size": 10,
              "solidity": 0.2
             }
            },
            "type": "barpolar"
           }
          ],
          "carpet": [
           {
            "aaxis": {
             "endlinecolor": "#2a3f5f",
             "gridcolor": "white",
             "linecolor": "white",
             "minorgridcolor": "white",
             "startlinecolor": "#2a3f5f"
            },
            "baxis": {
             "endlinecolor": "#2a3f5f",
             "gridcolor": "white",
             "linecolor": "white",
             "minorgridcolor": "white",
             "startlinecolor": "#2a3f5f"
            },
            "type": "carpet"
           }
          ],
          "choropleth": [
           {
            "colorbar": {
             "outlinewidth": 0,
             "ticks": ""
            },
            "type": "choropleth"
           }
          ],
          "contour": [
           {
            "colorbar": {
             "outlinewidth": 0,
             "ticks": ""
            },
            "colorscale": [
             [
              0,
              "#0d0887"
             ],
             [
              0.1111111111111111,
              "#46039f"
             ],
             [
              0.2222222222222222,
              "#7201a8"
             ],
             [
              0.3333333333333333,
              "#9c179e"
             ],
             [
              0.4444444444444444,
              "#bd3786"
             ],
             [
              0.5555555555555556,
              "#d8576b"
             ],
             [
              0.6666666666666666,
              "#ed7953"
             ],
             [
              0.7777777777777778,
              "#fb9f3a"
             ],
             [
              0.8888888888888888,
              "#fdca26"
             ],
             [
              1,
              "#f0f921"
             ]
            ],
            "type": "contour"
           }
          ],
          "contourcarpet": [
           {
            "colorbar": {
             "outlinewidth": 0,
             "ticks": ""
            },
            "type": "contourcarpet"
           }
          ],
          "heatmap": [
           {
            "colorbar": {
             "outlinewidth": 0,
             "ticks": ""
            },
            "colorscale": [
             [
              0,
              "#0d0887"
             ],
             [
              0.1111111111111111,
              "#46039f"
             ],
             [
              0.2222222222222222,
              "#7201a8"
             ],
             [
              0.3333333333333333,
              "#9c179e"
             ],
             [
              0.4444444444444444,
              "#bd3786"
             ],
             [
              0.5555555555555556,
              "#d8576b"
             ],
             [
              0.6666666666666666,
              "#ed7953"
             ],
             [
              0.7777777777777778,
              "#fb9f3a"
             ],
             [
              0.8888888888888888,
              "#fdca26"
             ],
             [
              1,
              "#f0f921"
             ]
            ],
            "type": "heatmap"
           }
          ],
          "heatmapgl": [
           {
            "colorbar": {
             "outlinewidth": 0,
             "ticks": ""
            },
            "colorscale": [
             [
              0,
              "#0d0887"
             ],
             [
              0.1111111111111111,
              "#46039f"
             ],
             [
              0.2222222222222222,
              "#7201a8"
             ],
             [
              0.3333333333333333,
              "#9c179e"
             ],
             [
              0.4444444444444444,
              "#bd3786"
             ],
             [
              0.5555555555555556,
              "#d8576b"
             ],
             [
              0.6666666666666666,
              "#ed7953"
             ],
             [
              0.7777777777777778,
              "#fb9f3a"
             ],
             [
              0.8888888888888888,
              "#fdca26"
             ],
             [
              1,
              "#f0f921"
             ]
            ],
            "type": "heatmapgl"
           }
          ],
          "histogram": [
           {
            "marker": {
             "pattern": {
              "fillmode": "overlay",
              "size": 10,
              "solidity": 0.2
             }
            },
            "type": "histogram"
           }
          ],
          "histogram2d": [
           {
            "colorbar": {
             "outlinewidth": 0,
             "ticks": ""
            },
            "colorscale": [
             [
              0,
              "#0d0887"
             ],
             [
              0.1111111111111111,
              "#46039f"
             ],
             [
              0.2222222222222222,
              "#7201a8"
             ],
             [
              0.3333333333333333,
              "#9c179e"
             ],
             [
              0.4444444444444444,
              "#bd3786"
             ],
             [
              0.5555555555555556,
              "#d8576b"
             ],
             [
              0.6666666666666666,
              "#ed7953"
             ],
             [
              0.7777777777777778,
              "#fb9f3a"
             ],
             [
              0.8888888888888888,
              "#fdca26"
             ],
             [
              1,
              "#f0f921"
             ]
            ],
            "type": "histogram2d"
           }
          ],
          "histogram2dcontour": [
           {
            "colorbar": {
             "outlinewidth": 0,
             "ticks": ""
            },
            "colorscale": [
             [
              0,
              "#0d0887"
             ],
             [
              0.1111111111111111,
              "#46039f"
             ],
             [
              0.2222222222222222,
              "#7201a8"
             ],
             [
              0.3333333333333333,
              "#9c179e"
             ],
             [
              0.4444444444444444,
              "#bd3786"
             ],
             [
              0.5555555555555556,
              "#d8576b"
             ],
             [
              0.6666666666666666,
              "#ed7953"
             ],
             [
              0.7777777777777778,
              "#fb9f3a"
             ],
             [
              0.8888888888888888,
              "#fdca26"
             ],
             [
              1,
              "#f0f921"
             ]
            ],
            "type": "histogram2dcontour"
           }
          ],
          "mesh3d": [
           {
            "colorbar": {
             "outlinewidth": 0,
             "ticks": ""
            },
            "type": "mesh3d"
           }
          ],
          "parcoords": [
           {
            "line": {
             "colorbar": {
              "outlinewidth": 0,
              "ticks": ""
             }
            },
            "type": "parcoords"
           }
          ],
          "pie": [
           {
            "automargin": true,
            "type": "pie"
           }
          ],
          "scatter": [
           {
            "fillpattern": {
             "fillmode": "overlay",
             "size": 10,
             "solidity": 0.2
            },
            "type": "scatter"
           }
          ],
          "scatter3d": [
           {
            "line": {
             "colorbar": {
              "outlinewidth": 0,
              "ticks": ""
             }
            },
            "marker": {
             "colorbar": {
              "outlinewidth": 0,
              "ticks": ""
             }
            },
            "type": "scatter3d"
           }
          ],
          "scattercarpet": [
           {
            "marker": {
             "colorbar": {
              "outlinewidth": 0,
              "ticks": ""
             }
            },
            "type": "scattercarpet"
           }
          ],
          "scattergeo": [
           {
            "marker": {
             "colorbar": {
              "outlinewidth": 0,
              "ticks": ""
             }
            },
            "type": "scattergeo"
           }
          ],
          "scattergl": [
           {
            "marker": {
             "colorbar": {
              "outlinewidth": 0,
              "ticks": ""
             }
            },
            "type": "scattergl"
           }
          ],
          "scattermapbox": [
           {
            "marker": {
             "colorbar": {
              "outlinewidth": 0,
              "ticks": ""
             }
            },
            "type": "scattermapbox"
           }
          ],
          "scatterpolar": [
           {
            "marker": {
             "colorbar": {
              "outlinewidth": 0,
              "ticks": ""
             }
            },
            "type": "scatterpolar"
           }
          ],
          "scatterpolargl": [
           {
            "marker": {
             "colorbar": {
              "outlinewidth": 0,
              "ticks": ""
             }
            },
            "type": "scatterpolargl"
           }
          ],
          "scatterternary": [
           {
            "marker": {
             "colorbar": {
              "outlinewidth": 0,
              "ticks": ""
             }
            },
            "type": "scatterternary"
           }
          ],
          "surface": [
           {
            "colorbar": {
             "outlinewidth": 0,
             "ticks": ""
            },
            "colorscale": [
             [
              0,
              "#0d0887"
             ],
             [
              0.1111111111111111,
              "#46039f"
             ],
             [
              0.2222222222222222,
              "#7201a8"
             ],
             [
              0.3333333333333333,
              "#9c179e"
             ],
             [
              0.4444444444444444,
              "#bd3786"
             ],
             [
              0.5555555555555556,
              "#d8576b"
             ],
             [
              0.6666666666666666,
              "#ed7953"
             ],
             [
              0.7777777777777778,
              "#fb9f3a"
             ],
             [
              0.8888888888888888,
              "#fdca26"
             ],
             [
              1,
              "#f0f921"
             ]
            ],
            "type": "surface"
           }
          ],
          "table": [
           {
            "cells": {
             "fill": {
              "color": "#EBF0F8"
             },
             "line": {
              "color": "white"
             }
            },
            "header": {
             "fill": {
              "color": "#C8D4E3"
             },
             "line": {
              "color": "white"
             }
            },
            "type": "table"
           }
          ]
         },
         "layout": {
          "annotationdefaults": {
           "arrowcolor": "#2a3f5f",
           "arrowhead": 0,
           "arrowwidth": 1
          },
          "autotypenumbers": "strict",
          "coloraxis": {
           "colorbar": {
            "outlinewidth": 0,
            "ticks": ""
           }
          },
          "colorscale": {
           "diverging": [
            [
             0,
             "#8e0152"
            ],
            [
             0.1,
             "#c51b7d"
            ],
            [
             0.2,
             "#de77ae"
            ],
            [
             0.3,
             "#f1b6da"
            ],
            [
             0.4,
             "#fde0ef"
            ],
            [
             0.5,
             "#f7f7f7"
            ],
            [
             0.6,
             "#e6f5d0"
            ],
            [
             0.7,
             "#b8e186"
            ],
            [
             0.8,
             "#7fbc41"
            ],
            [
             0.9,
             "#4d9221"
            ],
            [
             1,
             "#276419"
            ]
           ],
           "sequential": [
            [
             0,
             "#0d0887"
            ],
            [
             0.1111111111111111,
             "#46039f"
            ],
            [
             0.2222222222222222,
             "#7201a8"
            ],
            [
             0.3333333333333333,
             "#9c179e"
            ],
            [
             0.4444444444444444,
             "#bd3786"
            ],
            [
             0.5555555555555556,
             "#d8576b"
            ],
            [
             0.6666666666666666,
             "#ed7953"
            ],
            [
             0.7777777777777778,
             "#fb9f3a"
            ],
            [
             0.8888888888888888,
             "#fdca26"
            ],
            [
             1,
             "#f0f921"
            ]
           ],
           "sequentialminus": [
            [
             0,
             "#0d0887"
            ],
            [
             0.1111111111111111,
             "#46039f"
            ],
            [
             0.2222222222222222,
             "#7201a8"
            ],
            [
             0.3333333333333333,
             "#9c179e"
            ],
            [
             0.4444444444444444,
             "#bd3786"
            ],
            [
             0.5555555555555556,
             "#d8576b"
            ],
            [
             0.6666666666666666,
             "#ed7953"
            ],
            [
             0.7777777777777778,
             "#fb9f3a"
            ],
            [
             0.8888888888888888,
             "#fdca26"
            ],
            [
             1,
             "#f0f921"
            ]
           ]
          },
          "colorway": [
           "#636efa",
           "#EF553B",
           "#00cc96",
           "#ab63fa",
           "#FFA15A",
           "#19d3f3",
           "#FF6692",
           "#B6E880",
           "#FF97FF",
           "#FECB52"
          ],
          "font": {
           "color": "#2a3f5f"
          },
          "geo": {
           "bgcolor": "white",
           "lakecolor": "white",
           "landcolor": "#E5ECF6",
           "showlakes": true,
           "showland": true,
           "subunitcolor": "white"
          },
          "hoverlabel": {
           "align": "left"
          },
          "hovermode": "closest",
          "mapbox": {
           "style": "light"
          },
          "paper_bgcolor": "white",
          "plot_bgcolor": "#E5ECF6",
          "polar": {
           "angularaxis": {
            "gridcolor": "white",
            "linecolor": "white",
            "ticks": ""
           },
           "bgcolor": "#E5ECF6",
           "radialaxis": {
            "gridcolor": "white",
            "linecolor": "white",
            "ticks": ""
           }
          },
          "scene": {
           "xaxis": {
            "backgroundcolor": "#E5ECF6",
            "gridcolor": "white",
            "gridwidth": 2,
            "linecolor": "white",
            "showbackground": true,
            "ticks": "",
            "zerolinecolor": "white"
           },
           "yaxis": {
            "backgroundcolor": "#E5ECF6",
            "gridcolor": "white",
            "gridwidth": 2,
            "linecolor": "white",
            "showbackground": true,
            "ticks": "",
            "zerolinecolor": "white"
           },
           "zaxis": {
            "backgroundcolor": "#E5ECF6",
            "gridcolor": "white",
            "gridwidth": 2,
            "linecolor": "white",
            "showbackground": true,
            "ticks": "",
            "zerolinecolor": "white"
           }
          },
          "shapedefaults": {
           "line": {
            "color": "#2a3f5f"
           }
          },
          "ternary": {
           "aaxis": {
            "gridcolor": "white",
            "linecolor": "white",
            "ticks": ""
           },
           "baxis": {
            "gridcolor": "white",
            "linecolor": "white",
            "ticks": ""
           },
           "bgcolor": "#E5ECF6",
           "caxis": {
            "gridcolor": "white",
            "linecolor": "white",
            "ticks": ""
           }
          },
          "title": {
           "x": 0.05
          },
          "xaxis": {
           "automargin": true,
           "gridcolor": "white",
           "linecolor": "white",
           "ticks": "",
           "title": {
            "standoff": 15
           },
           "zerolinecolor": "white",
           "zerolinewidth": 2
          },
          "yaxis": {
           "automargin": true,
           "gridcolor": "white",
           "linecolor": "white",
           "ticks": "",
           "title": {
            "standoff": 15
           },
           "zerolinecolor": "white",
           "zerolinewidth": 2
          }
         }
        },
        "title": {
         "text": "Counts of Papa data per year"
        },
        "xaxis": {
         "anchor": "y",
         "domain": [
          0,
          1
         ],
         "title": {
          "text": "Year"
         }
        },
        "yaxis": {
         "anchor": "x",
         "domain": [
          0,
          1
         ],
         "title": {
          "text": "Counts"
         }
        }
       }
      }
     },
     "metadata": {},
     "output_type": "display_data"
    }
   ],
   "source": [
    "px.bar(\n",
    "    counts_year,\n",
    "    x=counts_year.index,\n",
    "    y=counts_year.columns,\n",
    "    # side by side\n",
    "    barmode=\"group\",\n",
    "    title=f\"Counts of {station} data per year\",\n",
    "    labels={\"value\": \"Counts\"},\n",
    "    color_discrete_sequence=px.colors.qualitative.Plotly,\n",
    ").update_layout(xaxis_title=\"Year\", height=600).show()"
   ]
  },
  {
   "cell_type": "markdown",
   "metadata": {},
   "source": [
    "### By position\n"
   ]
  },
  {
   "cell_type": "code",
   "execution_count": 16,
   "metadata": {},
   "outputs": [],
   "source": [
    "counts_by_year_position = (\n",
    "    data.groupby(\"time.month\")\n",
    "    .count()\n",
    "    .to_dataframe()\n",
    "    .dropna(how=\"all\")\n",
    "    .query(\"day > 0 or night > 0\")\n",
    "    .stack()\n",
    "    .rename_axis(index={None: \"day_night\"})\n",
    "    .rename(\"counts\")\n",
    "    .reset_index()\n",
    ")\n",
    "average_nb_of_obs_by_year_and_position = (\n",
    "    counts_by_year_position.groupby([\"latitude\", \"longitude\"])[\"counts\"].sum() / NB_YEARS\n",
    ").reset_index()"
   ]
  },
  {
   "cell_type": "code",
   "execution_count": 17,
   "metadata": {},
   "outputs": [
    {
     "data": {
      "application/vnd.plotly.v1+json": {
       "config": {
        "plotlyServerURL": "https://plot.ly"
       },
       "data": [
        {
         "alignmentgroup": "True",
         "hovertemplate": "day_night=day<br>month=%{x}<br>counts=%{y}<extra></extra>",
         "legendgroup": "day",
         "marker": {
          "color": "#636efa"
         },
         "name": "day",
         "notched": false,
         "offsetgroup": "day",
         "orientation": "v",
         "showlegend": true,
         "type": "box",
         "x": [
          1,
          1,
          2,
          2,
          2,
          2,
          2,
          2,
          2,
          2,
          2,
          2,
          2,
          2,
          2,
          2,
          2,
          2,
          2,
          2,
          2,
          3,
          3,
          3,
          3,
          3,
          3,
          3,
          4,
          4,
          5,
          5,
          5,
          5,
          5,
          5,
          6,
          6,
          6,
          6,
          6,
          6,
          6,
          6,
          6,
          6,
          6,
          6,
          6,
          6,
          6,
          6,
          6,
          6,
          6,
          6,
          6,
          6,
          6,
          6,
          6,
          6,
          7,
          7,
          7,
          7,
          7,
          7,
          7,
          7,
          7,
          7,
          7,
          7,
          7,
          7,
          7,
          7,
          7,
          7,
          7,
          7,
          7,
          7,
          7,
          7,
          7,
          8,
          8,
          8,
          8,
          8,
          8,
          8,
          8,
          8,
          8,
          8,
          8,
          8,
          8,
          9,
          9,
          9,
          9,
          9,
          9,
          9,
          9,
          9,
          9,
          9,
          10,
          10,
          10,
          10,
          10,
          10,
          10
         ],
         "x0": " ",
         "xaxis": "x",
         "y": [
          1,
          1,
          0,
          0,
          1,
          0,
          1,
          9,
          7,
          0,
          1,
          9,
          7,
          1,
          6,
          0,
          1,
          0,
          2,
          2,
          1,
          1,
          1,
          1,
          1,
          1,
          1,
          1,
          1,
          0,
          1,
          1,
          1,
          1,
          8,
          8,
          6,
          5,
          1,
          1,
          7,
          5,
          1,
          0,
          1,
          3,
          1,
          3,
          1,
          1,
          2,
          1,
          1,
          1,
          1,
          1,
          1,
          1,
          0,
          0,
          0,
          0,
          1,
          1,
          1,
          1,
          1,
          1,
          1,
          1,
          1,
          1,
          1,
          1,
          1,
          1,
          1,
          1,
          1,
          1,
          1,
          1,
          1,
          1,
          0,
          1,
          1,
          5,
          6,
          3,
          3,
          0,
          6,
          7,
          1,
          1,
          1,
          1,
          3,
          0,
          1,
          1,
          2,
          1,
          0,
          2,
          9,
          2,
          0,
          11,
          0,
          0,
          1,
          2,
          2,
          0,
          1,
          0,
          1
         ],
         "y0": " ",
         "yaxis": "y"
        },
        {
         "alignmentgroup": "True",
         "hovertemplate": "day_night=night<br>month=%{x}<br>counts=%{y}<extra></extra>",
         "legendgroup": "night",
         "marker": {
          "color": "#EF553B"
         },
         "name": "night",
         "notched": false,
         "offsetgroup": "night",
         "orientation": "v",
         "showlegend": true,
         "type": "box",
         "x": [
          1,
          1,
          2,
          2,
          2,
          2,
          2,
          2,
          2,
          2,
          2,
          2,
          2,
          2,
          2,
          2,
          2,
          2,
          2,
          2,
          2,
          3,
          3,
          3,
          3,
          3,
          3,
          3,
          4,
          4,
          5,
          5,
          5,
          5,
          5,
          5,
          6,
          6,
          6,
          6,
          6,
          6,
          6,
          6,
          6,
          6,
          6,
          6,
          6,
          6,
          6,
          6,
          6,
          6,
          6,
          6,
          6,
          6,
          6,
          6,
          6,
          6,
          7,
          7,
          7,
          7,
          7,
          7,
          7,
          7,
          7,
          7,
          7,
          7,
          7,
          7,
          7,
          7,
          7,
          7,
          7,
          7,
          7,
          7,
          7,
          7,
          7,
          8,
          8,
          8,
          8,
          8,
          8,
          8,
          8,
          8,
          8,
          8,
          8,
          8,
          8,
          9,
          9,
          9,
          9,
          9,
          9,
          9,
          9,
          9,
          9,
          9,
          10,
          10,
          10,
          10,
          10,
          10,
          10
         ],
         "x0": " ",
         "xaxis": "x",
         "y": [
          0,
          0,
          1,
          1,
          0,
          1,
          0,
          3,
          4,
          1,
          3,
          3,
          3,
          0,
          0,
          3,
          0,
          1,
          0,
          0,
          0,
          0,
          0,
          0,
          0,
          1,
          0,
          0,
          0,
          1,
          0,
          0,
          0,
          0,
          1,
          2,
          1,
          3,
          2,
          0,
          2,
          1,
          0,
          1,
          1,
          1,
          0,
          0,
          0,
          0,
          0,
          0,
          0,
          0,
          0,
          0,
          0,
          0,
          1,
          1,
          1,
          1,
          0,
          0,
          0,
          0,
          0,
          0,
          0,
          0,
          0,
          0,
          0,
          0,
          0,
          0,
          0,
          0,
          0,
          0,
          0,
          0,
          0,
          0,
          1,
          0,
          0,
          6,
          4,
          1,
          1,
          1,
          3,
          4,
          0,
          0,
          1,
          0,
          0,
          1,
          0,
          1,
          0,
          1,
          1,
          0,
          5,
          0,
          1,
          6,
          1,
          1,
          0,
          2,
          2,
          1,
          0,
          1,
          0
         ],
         "y0": " ",
         "yaxis": "y"
        }
       ],
       "layout": {
        "boxmode": "group",
        "height": 600,
        "legend": {
         "title": {
          "text": "day_night"
         },
         "tracegroupgap": 0
        },
        "margin": {
         "t": 60
        },
        "template": {
         "data": {
          "bar": [
           {
            "error_x": {
             "color": "#2a3f5f"
            },
            "error_y": {
             "color": "#2a3f5f"
            },
            "marker": {
             "line": {
              "color": "#E5ECF6",
              "width": 0.5
             },
             "pattern": {
              "fillmode": "overlay",
              "size": 10,
              "solidity": 0.2
             }
            },
            "type": "bar"
           }
          ],
          "barpolar": [
           {
            "marker": {
             "line": {
              "color": "#E5ECF6",
              "width": 0.5
             },
             "pattern": {
              "fillmode": "overlay",
              "size": 10,
              "solidity": 0.2
             }
            },
            "type": "barpolar"
           }
          ],
          "carpet": [
           {
            "aaxis": {
             "endlinecolor": "#2a3f5f",
             "gridcolor": "white",
             "linecolor": "white",
             "minorgridcolor": "white",
             "startlinecolor": "#2a3f5f"
            },
            "baxis": {
             "endlinecolor": "#2a3f5f",
             "gridcolor": "white",
             "linecolor": "white",
             "minorgridcolor": "white",
             "startlinecolor": "#2a3f5f"
            },
            "type": "carpet"
           }
          ],
          "choropleth": [
           {
            "colorbar": {
             "outlinewidth": 0,
             "ticks": ""
            },
            "type": "choropleth"
           }
          ],
          "contour": [
           {
            "colorbar": {
             "outlinewidth": 0,
             "ticks": ""
            },
            "colorscale": [
             [
              0,
              "#0d0887"
             ],
             [
              0.1111111111111111,
              "#46039f"
             ],
             [
              0.2222222222222222,
              "#7201a8"
             ],
             [
              0.3333333333333333,
              "#9c179e"
             ],
             [
              0.4444444444444444,
              "#bd3786"
             ],
             [
              0.5555555555555556,
              "#d8576b"
             ],
             [
              0.6666666666666666,
              "#ed7953"
             ],
             [
              0.7777777777777778,
              "#fb9f3a"
             ],
             [
              0.8888888888888888,
              "#fdca26"
             ],
             [
              1,
              "#f0f921"
             ]
            ],
            "type": "contour"
           }
          ],
          "contourcarpet": [
           {
            "colorbar": {
             "outlinewidth": 0,
             "ticks": ""
            },
            "type": "contourcarpet"
           }
          ],
          "heatmap": [
           {
            "colorbar": {
             "outlinewidth": 0,
             "ticks": ""
            },
            "colorscale": [
             [
              0,
              "#0d0887"
             ],
             [
              0.1111111111111111,
              "#46039f"
             ],
             [
              0.2222222222222222,
              "#7201a8"
             ],
             [
              0.3333333333333333,
              "#9c179e"
             ],
             [
              0.4444444444444444,
              "#bd3786"
             ],
             [
              0.5555555555555556,
              "#d8576b"
             ],
             [
              0.6666666666666666,
              "#ed7953"
             ],
             [
              0.7777777777777778,
              "#fb9f3a"
             ],
             [
              0.8888888888888888,
              "#fdca26"
             ],
             [
              1,
              "#f0f921"
             ]
            ],
            "type": "heatmap"
           }
          ],
          "heatmapgl": [
           {
            "colorbar": {
             "outlinewidth": 0,
             "ticks": ""
            },
            "colorscale": [
             [
              0,
              "#0d0887"
             ],
             [
              0.1111111111111111,
              "#46039f"
             ],
             [
              0.2222222222222222,
              "#7201a8"
             ],
             [
              0.3333333333333333,
              "#9c179e"
             ],
             [
              0.4444444444444444,
              "#bd3786"
             ],
             [
              0.5555555555555556,
              "#d8576b"
             ],
             [
              0.6666666666666666,
              "#ed7953"
             ],
             [
              0.7777777777777778,
              "#fb9f3a"
             ],
             [
              0.8888888888888888,
              "#fdca26"
             ],
             [
              1,
              "#f0f921"
             ]
            ],
            "type": "heatmapgl"
           }
          ],
          "histogram": [
           {
            "marker": {
             "pattern": {
              "fillmode": "overlay",
              "size": 10,
              "solidity": 0.2
             }
            },
            "type": "histogram"
           }
          ],
          "histogram2d": [
           {
            "colorbar": {
             "outlinewidth": 0,
             "ticks": ""
            },
            "colorscale": [
             [
              0,
              "#0d0887"
             ],
             [
              0.1111111111111111,
              "#46039f"
             ],
             [
              0.2222222222222222,
              "#7201a8"
             ],
             [
              0.3333333333333333,
              "#9c179e"
             ],
             [
              0.4444444444444444,
              "#bd3786"
             ],
             [
              0.5555555555555556,
              "#d8576b"
             ],
             [
              0.6666666666666666,
              "#ed7953"
             ],
             [
              0.7777777777777778,
              "#fb9f3a"
             ],
             [
              0.8888888888888888,
              "#fdca26"
             ],
             [
              1,
              "#f0f921"
             ]
            ],
            "type": "histogram2d"
           }
          ],
          "histogram2dcontour": [
           {
            "colorbar": {
             "outlinewidth": 0,
             "ticks": ""
            },
            "colorscale": [
             [
              0,
              "#0d0887"
             ],
             [
              0.1111111111111111,
              "#46039f"
             ],
             [
              0.2222222222222222,
              "#7201a8"
             ],
             [
              0.3333333333333333,
              "#9c179e"
             ],
             [
              0.4444444444444444,
              "#bd3786"
             ],
             [
              0.5555555555555556,
              "#d8576b"
             ],
             [
              0.6666666666666666,
              "#ed7953"
             ],
             [
              0.7777777777777778,
              "#fb9f3a"
             ],
             [
              0.8888888888888888,
              "#fdca26"
             ],
             [
              1,
              "#f0f921"
             ]
            ],
            "type": "histogram2dcontour"
           }
          ],
          "mesh3d": [
           {
            "colorbar": {
             "outlinewidth": 0,
             "ticks": ""
            },
            "type": "mesh3d"
           }
          ],
          "parcoords": [
           {
            "line": {
             "colorbar": {
              "outlinewidth": 0,
              "ticks": ""
             }
            },
            "type": "parcoords"
           }
          ],
          "pie": [
           {
            "automargin": true,
            "type": "pie"
           }
          ],
          "scatter": [
           {
            "fillpattern": {
             "fillmode": "overlay",
             "size": 10,
             "solidity": 0.2
            },
            "type": "scatter"
           }
          ],
          "scatter3d": [
           {
            "line": {
             "colorbar": {
              "outlinewidth": 0,
              "ticks": ""
             }
            },
            "marker": {
             "colorbar": {
              "outlinewidth": 0,
              "ticks": ""
             }
            },
            "type": "scatter3d"
           }
          ],
          "scattercarpet": [
           {
            "marker": {
             "colorbar": {
              "outlinewidth": 0,
              "ticks": ""
             }
            },
            "type": "scattercarpet"
           }
          ],
          "scattergeo": [
           {
            "marker": {
             "colorbar": {
              "outlinewidth": 0,
              "ticks": ""
             }
            },
            "type": "scattergeo"
           }
          ],
          "scattergl": [
           {
            "marker": {
             "colorbar": {
              "outlinewidth": 0,
              "ticks": ""
             }
            },
            "type": "scattergl"
           }
          ],
          "scattermapbox": [
           {
            "marker": {
             "colorbar": {
              "outlinewidth": 0,
              "ticks": ""
             }
            },
            "type": "scattermapbox"
           }
          ],
          "scatterpolar": [
           {
            "marker": {
             "colorbar": {
              "outlinewidth": 0,
              "ticks": ""
             }
            },
            "type": "scatterpolar"
           }
          ],
          "scatterpolargl": [
           {
            "marker": {
             "colorbar": {
              "outlinewidth": 0,
              "ticks": ""
             }
            },
            "type": "scatterpolargl"
           }
          ],
          "scatterternary": [
           {
            "marker": {
             "colorbar": {
              "outlinewidth": 0,
              "ticks": ""
             }
            },
            "type": "scatterternary"
           }
          ],
          "surface": [
           {
            "colorbar": {
             "outlinewidth": 0,
             "ticks": ""
            },
            "colorscale": [
             [
              0,
              "#0d0887"
             ],
             [
              0.1111111111111111,
              "#46039f"
             ],
             [
              0.2222222222222222,
              "#7201a8"
             ],
             [
              0.3333333333333333,
              "#9c179e"
             ],
             [
              0.4444444444444444,
              "#bd3786"
             ],
             [
              0.5555555555555556,
              "#d8576b"
             ],
             [
              0.6666666666666666,
              "#ed7953"
             ],
             [
              0.7777777777777778,
              "#fb9f3a"
             ],
             [
              0.8888888888888888,
              "#fdca26"
             ],
             [
              1,
              "#f0f921"
             ]
            ],
            "type": "surface"
           }
          ],
          "table": [
           {
            "cells": {
             "fill": {
              "color": "#EBF0F8"
             },
             "line": {
              "color": "white"
             }
            },
            "header": {
             "fill": {
              "color": "#C8D4E3"
             },
             "line": {
              "color": "white"
             }
            },
            "type": "table"
           }
          ]
         },
         "layout": {
          "annotationdefaults": {
           "arrowcolor": "#2a3f5f",
           "arrowhead": 0,
           "arrowwidth": 1
          },
          "autotypenumbers": "strict",
          "coloraxis": {
           "colorbar": {
            "outlinewidth": 0,
            "ticks": ""
           }
          },
          "colorscale": {
           "diverging": [
            [
             0,
             "#8e0152"
            ],
            [
             0.1,
             "#c51b7d"
            ],
            [
             0.2,
             "#de77ae"
            ],
            [
             0.3,
             "#f1b6da"
            ],
            [
             0.4,
             "#fde0ef"
            ],
            [
             0.5,
             "#f7f7f7"
            ],
            [
             0.6,
             "#e6f5d0"
            ],
            [
             0.7,
             "#b8e186"
            ],
            [
             0.8,
             "#7fbc41"
            ],
            [
             0.9,
             "#4d9221"
            ],
            [
             1,
             "#276419"
            ]
           ],
           "sequential": [
            [
             0,
             "#0d0887"
            ],
            [
             0.1111111111111111,
             "#46039f"
            ],
            [
             0.2222222222222222,
             "#7201a8"
            ],
            [
             0.3333333333333333,
             "#9c179e"
            ],
            [
             0.4444444444444444,
             "#bd3786"
            ],
            [
             0.5555555555555556,
             "#d8576b"
            ],
            [
             0.6666666666666666,
             "#ed7953"
            ],
            [
             0.7777777777777778,
             "#fb9f3a"
            ],
            [
             0.8888888888888888,
             "#fdca26"
            ],
            [
             1,
             "#f0f921"
            ]
           ],
           "sequentialminus": [
            [
             0,
             "#0d0887"
            ],
            [
             0.1111111111111111,
             "#46039f"
            ],
            [
             0.2222222222222222,
             "#7201a8"
            ],
            [
             0.3333333333333333,
             "#9c179e"
            ],
            [
             0.4444444444444444,
             "#bd3786"
            ],
            [
             0.5555555555555556,
             "#d8576b"
            ],
            [
             0.6666666666666666,
             "#ed7953"
            ],
            [
             0.7777777777777778,
             "#fb9f3a"
            ],
            [
             0.8888888888888888,
             "#fdca26"
            ],
            [
             1,
             "#f0f921"
            ]
           ]
          },
          "colorway": [
           "#636efa",
           "#EF553B",
           "#00cc96",
           "#ab63fa",
           "#FFA15A",
           "#19d3f3",
           "#FF6692",
           "#B6E880",
           "#FF97FF",
           "#FECB52"
          ],
          "font": {
           "color": "#2a3f5f"
          },
          "geo": {
           "bgcolor": "white",
           "lakecolor": "white",
           "landcolor": "#E5ECF6",
           "showlakes": true,
           "showland": true,
           "subunitcolor": "white"
          },
          "hoverlabel": {
           "align": "left"
          },
          "hovermode": "closest",
          "mapbox": {
           "style": "light"
          },
          "paper_bgcolor": "white",
          "plot_bgcolor": "#E5ECF6",
          "polar": {
           "angularaxis": {
            "gridcolor": "white",
            "linecolor": "white",
            "ticks": ""
           },
           "bgcolor": "#E5ECF6",
           "radialaxis": {
            "gridcolor": "white",
            "linecolor": "white",
            "ticks": ""
           }
          },
          "scene": {
           "xaxis": {
            "backgroundcolor": "#E5ECF6",
            "gridcolor": "white",
            "gridwidth": 2,
            "linecolor": "white",
            "showbackground": true,
            "ticks": "",
            "zerolinecolor": "white"
           },
           "yaxis": {
            "backgroundcolor": "#E5ECF6",
            "gridcolor": "white",
            "gridwidth": 2,
            "linecolor": "white",
            "showbackground": true,
            "ticks": "",
            "zerolinecolor": "white"
           },
           "zaxis": {
            "backgroundcolor": "#E5ECF6",
            "gridcolor": "white",
            "gridwidth": 2,
            "linecolor": "white",
            "showbackground": true,
            "ticks": "",
            "zerolinecolor": "white"
           }
          },
          "shapedefaults": {
           "line": {
            "color": "#2a3f5f"
           }
          },
          "ternary": {
           "aaxis": {
            "gridcolor": "white",
            "linecolor": "white",
            "ticks": ""
           },
           "baxis": {
            "gridcolor": "white",
            "linecolor": "white",
            "ticks": ""
           },
           "bgcolor": "#E5ECF6",
           "caxis": {
            "gridcolor": "white",
            "linecolor": "white",
            "ticks": ""
           }
          },
          "title": {
           "x": 0.05
          },
          "xaxis": {
           "automargin": true,
           "gridcolor": "white",
           "linecolor": "white",
           "ticks": "",
           "title": {
            "standoff": 15
           },
           "zerolinecolor": "white",
           "zerolinewidth": 2
          },
          "yaxis": {
           "automargin": true,
           "gridcolor": "white",
           "linecolor": "white",
           "ticks": "",
           "title": {
            "standoff": 15
           },
           "zerolinecolor": "white",
           "zerolinewidth": 2
          }
         }
        },
        "title": {
         "text": "Counts of Papa day and night data by month and location"
        },
        "xaxis": {
         "anchor": "y",
         "domain": [
          0,
          1
         ],
         "ticktext": [
          "Jan",
          "Feb",
          "Mar",
          "Apr",
          "May",
          "Jun",
          "Jul",
          "Aug",
          "Sep",
          "Oct",
          "Nov",
          "Dec"
         ],
         "tickvals": [
          1,
          2,
          3,
          4,
          5,
          6,
          7,
          8,
          9,
          10,
          11,
          12
         ],
         "title": {
          "text": "Month"
         }
        },
        "yaxis": {
         "anchor": "x",
         "domain": [
          0,
          1
         ],
         "title": {
          "text": "counts"
         }
        }
       }
      }
     },
     "metadata": {},
     "output_type": "display_data"
    }
   ],
   "source": [
    "px.box(counts_by_year_position, x=\"month\", y=\"counts\", color=\"day_night\").update_layout(\n",
    "    height=600,\n",
    "    title=f\"Counts of {station} day and night data by month and location\",\n",
    ").update_xaxes(\n",
    "    title_text=\"Month\",\n",
    "    tickvals=np.arange(1, 13),\n",
    "    ticktext=[\"Jan\", \"Feb\", \"Mar\", \"Apr\", \"May\", \"Jun\", \"Jul\", \"Aug\", \"Sep\", \"Oct\", \"Nov\", \"Dec\"],\n",
    ").show()"
   ]
  },
  {
   "cell_type": "code",
   "execution_count": 18,
   "metadata": {},
   "outputs": [
    {
     "data": {
      "text/html": [
       "<div>\n",
       "<style scoped>\n",
       "    .dataframe tbody tr th:only-of-type {\n",
       "        vertical-align: middle;\n",
       "    }\n",
       "\n",
       "    .dataframe tbody tr th {\n",
       "        vertical-align: top;\n",
       "    }\n",
       "\n",
       "    .dataframe thead th {\n",
       "        text-align: right;\n",
       "    }\n",
       "</style>\n",
       "<table border=\"1\" class=\"dataframe\">\n",
       "  <thead>\n",
       "    <tr style=\"text-align: right;\">\n",
       "      <th></th>\n",
       "      <th>latitude</th>\n",
       "      <th>longitude</th>\n",
       "      <th>counts</th>\n",
       "    </tr>\n",
       "  </thead>\n",
       "  <tbody>\n",
       "    <tr>\n",
       "      <th>0</th>\n",
       "      <td>46.5</td>\n",
       "      <td>-151.5</td>\n",
       "      <td>0.076923</td>\n",
       "    </tr>\n",
       "    <tr>\n",
       "      <th>1</th>\n",
       "      <td>46.5</td>\n",
       "      <td>-144.5</td>\n",
       "      <td>0.076923</td>\n",
       "    </tr>\n",
       "    <tr>\n",
       "      <th>2</th>\n",
       "      <td>47.5</td>\n",
       "      <td>-145.5</td>\n",
       "      <td>0.076923</td>\n",
       "    </tr>\n",
       "    <tr>\n",
       "      <th>3</th>\n",
       "      <td>47.5</td>\n",
       "      <td>-132.5</td>\n",
       "      <td>0.076923</td>\n",
       "    </tr>\n",
       "    <tr>\n",
       "      <th>4</th>\n",
       "      <td>47.5</td>\n",
       "      <td>-130.5</td>\n",
       "      <td>0.076923</td>\n",
       "    </tr>\n",
       "    <tr>\n",
       "      <th>...</th>\n",
       "      <td>...</td>\n",
       "      <td>...</td>\n",
       "      <td>...</td>\n",
       "    </tr>\n",
       "    <tr>\n",
       "      <th>56</th>\n",
       "      <td>56.5</td>\n",
       "      <td>-145.5</td>\n",
       "      <td>0.076923</td>\n",
       "    </tr>\n",
       "    <tr>\n",
       "      <th>57</th>\n",
       "      <td>56.5</td>\n",
       "      <td>-138.5</td>\n",
       "      <td>0.076923</td>\n",
       "    </tr>\n",
       "    <tr>\n",
       "      <th>58</th>\n",
       "      <td>57.5</td>\n",
       "      <td>-145.5</td>\n",
       "      <td>0.076923</td>\n",
       "    </tr>\n",
       "    <tr>\n",
       "      <th>59</th>\n",
       "      <td>57.5</td>\n",
       "      <td>-139.5</td>\n",
       "      <td>0.076923</td>\n",
       "    </tr>\n",
       "    <tr>\n",
       "      <th>60</th>\n",
       "      <td>57.5</td>\n",
       "      <td>-138.5</td>\n",
       "      <td>0.076923</td>\n",
       "    </tr>\n",
       "  </tbody>\n",
       "</table>\n",
       "<p>61 rows × 3 columns</p>\n",
       "</div>"
      ],
      "text/plain": [
       "    latitude  longitude    counts\n",
       "0       46.5     -151.5  0.076923\n",
       "1       46.5     -144.5  0.076923\n",
       "2       47.5     -145.5  0.076923\n",
       "3       47.5     -132.5  0.076923\n",
       "4       47.5     -130.5  0.076923\n",
       "..       ...        ...       ...\n",
       "56      56.5     -145.5  0.076923\n",
       "57      56.5     -138.5  0.076923\n",
       "58      57.5     -145.5  0.076923\n",
       "59      57.5     -139.5  0.076923\n",
       "60      57.5     -138.5  0.076923\n",
       "\n",
       "[61 rows x 3 columns]"
      ]
     },
     "execution_count": 18,
     "metadata": {},
     "output_type": "execute_result"
    }
   ],
   "source": [
    "average_nb_of_obs_by_year_and_position"
   ]
  },
  {
   "cell_type": "code",
   "execution_count": 19,
   "metadata": {},
   "outputs": [
    {
     "data": {
      "application/vnd.plotly.v1+json": {
       "config": {
        "plotlyServerURL": "https://plot.ly"
       },
       "data": [
        {
         "alignmentgroup": "True",
         "boxpoints": "all",
         "hovertemplate": "counts=%{x}<extra></extra>",
         "legendgroup": "",
         "marker": {
          "color": "#636efa"
         },
         "name": "",
         "notched": false,
         "offsetgroup": "",
         "orientation": "h",
         "showlegend": false,
         "type": "box",
         "x": [
          0.07692307692307693,
          0.07692307692307693,
          0.07692307692307693,
          0.07692307692307693,
          0.07692307692307693,
          2.6923076923076925,
          2.6923076923076925,
          0.07692307692307693,
          0.9230769230769231,
          0.5384615384615384,
          0.07692307692307693,
          2.5384615384615383,
          2.3846153846153846,
          0.07692307692307693,
          0.07692307692307693,
          2.076923076923077,
          0.07692307692307693,
          0.07692307692307693,
          0.8461538461538461,
          0.6923076923076923,
          0.07692307692307693,
          0.07692307692307693,
          0.07692307692307693,
          0.7692307692307693,
          3.230769230769231,
          0.07692307692307693,
          0.07692307692307693,
          0.07692307692307693,
          0.07692307692307693,
          0.15384615384615385,
          0.07692307692307693,
          0.15384615384615385,
          0.23076923076923078,
          0.07692307692307693,
          0.07692307692307693,
          0.07692307692307693,
          0.07692307692307693,
          0.07692307692307693,
          0.07692307692307693,
          0.15384615384615385,
          0.07692307692307693,
          0.23076923076923078,
          0.15384615384615385,
          0.07692307692307693,
          0.07692307692307693,
          0.07692307692307693,
          0.07692307692307693,
          0.07692307692307693,
          0.07692307692307693,
          0.07692307692307693,
          0.07692307692307693,
          0.07692307692307693,
          0.15384615384615385,
          0.07692307692307693,
          0.07692307692307693,
          0.07692307692307693,
          0.07692307692307693,
          0.07692307692307693,
          0.07692307692307693,
          0.07692307692307693,
          0.07692307692307693
         ],
         "x0": " ",
         "xaxis": "x",
         "y0": " ",
         "yaxis": "y"
        }
       ],
       "layout": {
        "boxmode": "group",
        "legend": {
         "tracegroupgap": 0
        },
        "margin": {
         "t": 60
        },
        "shapes": [
         {
          "line": {
           "color": "black",
           "dash": "dash",
           "width": 2
          },
          "name": "Minimum number of observations by year",
          "type": "line",
          "x0": 2,
          "x1": 2,
          "xref": "x",
          "y0": -1,
          "y1": 1
         }
        ],
        "template": {
         "data": {
          "bar": [
           {
            "error_x": {
             "color": "#2a3f5f"
            },
            "error_y": {
             "color": "#2a3f5f"
            },
            "marker": {
             "line": {
              "color": "#E5ECF6",
              "width": 0.5
             },
             "pattern": {
              "fillmode": "overlay",
              "size": 10,
              "solidity": 0.2
             }
            },
            "type": "bar"
           }
          ],
          "barpolar": [
           {
            "marker": {
             "line": {
              "color": "#E5ECF6",
              "width": 0.5
             },
             "pattern": {
              "fillmode": "overlay",
              "size": 10,
              "solidity": 0.2
             }
            },
            "type": "barpolar"
           }
          ],
          "carpet": [
           {
            "aaxis": {
             "endlinecolor": "#2a3f5f",
             "gridcolor": "white",
             "linecolor": "white",
             "minorgridcolor": "white",
             "startlinecolor": "#2a3f5f"
            },
            "baxis": {
             "endlinecolor": "#2a3f5f",
             "gridcolor": "white",
             "linecolor": "white",
             "minorgridcolor": "white",
             "startlinecolor": "#2a3f5f"
            },
            "type": "carpet"
           }
          ],
          "choropleth": [
           {
            "colorbar": {
             "outlinewidth": 0,
             "ticks": ""
            },
            "type": "choropleth"
           }
          ],
          "contour": [
           {
            "colorbar": {
             "outlinewidth": 0,
             "ticks": ""
            },
            "colorscale": [
             [
              0,
              "#0d0887"
             ],
             [
              0.1111111111111111,
              "#46039f"
             ],
             [
              0.2222222222222222,
              "#7201a8"
             ],
             [
              0.3333333333333333,
              "#9c179e"
             ],
             [
              0.4444444444444444,
              "#bd3786"
             ],
             [
              0.5555555555555556,
              "#d8576b"
             ],
             [
              0.6666666666666666,
              "#ed7953"
             ],
             [
              0.7777777777777778,
              "#fb9f3a"
             ],
             [
              0.8888888888888888,
              "#fdca26"
             ],
             [
              1,
              "#f0f921"
             ]
            ],
            "type": "contour"
           }
          ],
          "contourcarpet": [
           {
            "colorbar": {
             "outlinewidth": 0,
             "ticks": ""
            },
            "type": "contourcarpet"
           }
          ],
          "heatmap": [
           {
            "colorbar": {
             "outlinewidth": 0,
             "ticks": ""
            },
            "colorscale": [
             [
              0,
              "#0d0887"
             ],
             [
              0.1111111111111111,
              "#46039f"
             ],
             [
              0.2222222222222222,
              "#7201a8"
             ],
             [
              0.3333333333333333,
              "#9c179e"
             ],
             [
              0.4444444444444444,
              "#bd3786"
             ],
             [
              0.5555555555555556,
              "#d8576b"
             ],
             [
              0.6666666666666666,
              "#ed7953"
             ],
             [
              0.7777777777777778,
              "#fb9f3a"
             ],
             [
              0.8888888888888888,
              "#fdca26"
             ],
             [
              1,
              "#f0f921"
             ]
            ],
            "type": "heatmap"
           }
          ],
          "heatmapgl": [
           {
            "colorbar": {
             "outlinewidth": 0,
             "ticks": ""
            },
            "colorscale": [
             [
              0,
              "#0d0887"
             ],
             [
              0.1111111111111111,
              "#46039f"
             ],
             [
              0.2222222222222222,
              "#7201a8"
             ],
             [
              0.3333333333333333,
              "#9c179e"
             ],
             [
              0.4444444444444444,
              "#bd3786"
             ],
             [
              0.5555555555555556,
              "#d8576b"
             ],
             [
              0.6666666666666666,
              "#ed7953"
             ],
             [
              0.7777777777777778,
              "#fb9f3a"
             ],
             [
              0.8888888888888888,
              "#fdca26"
             ],
             [
              1,
              "#f0f921"
             ]
            ],
            "type": "heatmapgl"
           }
          ],
          "histogram": [
           {
            "marker": {
             "pattern": {
              "fillmode": "overlay",
              "size": 10,
              "solidity": 0.2
             }
            },
            "type": "histogram"
           }
          ],
          "histogram2d": [
           {
            "colorbar": {
             "outlinewidth": 0,
             "ticks": ""
            },
            "colorscale": [
             [
              0,
              "#0d0887"
             ],
             [
              0.1111111111111111,
              "#46039f"
             ],
             [
              0.2222222222222222,
              "#7201a8"
             ],
             [
              0.3333333333333333,
              "#9c179e"
             ],
             [
              0.4444444444444444,
              "#bd3786"
             ],
             [
              0.5555555555555556,
              "#d8576b"
             ],
             [
              0.6666666666666666,
              "#ed7953"
             ],
             [
              0.7777777777777778,
              "#fb9f3a"
             ],
             [
              0.8888888888888888,
              "#fdca26"
             ],
             [
              1,
              "#f0f921"
             ]
            ],
            "type": "histogram2d"
           }
          ],
          "histogram2dcontour": [
           {
            "colorbar": {
             "outlinewidth": 0,
             "ticks": ""
            },
            "colorscale": [
             [
              0,
              "#0d0887"
             ],
             [
              0.1111111111111111,
              "#46039f"
             ],
             [
              0.2222222222222222,
              "#7201a8"
             ],
             [
              0.3333333333333333,
              "#9c179e"
             ],
             [
              0.4444444444444444,
              "#bd3786"
             ],
             [
              0.5555555555555556,
              "#d8576b"
             ],
             [
              0.6666666666666666,
              "#ed7953"
             ],
             [
              0.7777777777777778,
              "#fb9f3a"
             ],
             [
              0.8888888888888888,
              "#fdca26"
             ],
             [
              1,
              "#f0f921"
             ]
            ],
            "type": "histogram2dcontour"
           }
          ],
          "mesh3d": [
           {
            "colorbar": {
             "outlinewidth": 0,
             "ticks": ""
            },
            "type": "mesh3d"
           }
          ],
          "parcoords": [
           {
            "line": {
             "colorbar": {
              "outlinewidth": 0,
              "ticks": ""
             }
            },
            "type": "parcoords"
           }
          ],
          "pie": [
           {
            "automargin": true,
            "type": "pie"
           }
          ],
          "scatter": [
           {
            "fillpattern": {
             "fillmode": "overlay",
             "size": 10,
             "solidity": 0.2
            },
            "type": "scatter"
           }
          ],
          "scatter3d": [
           {
            "line": {
             "colorbar": {
              "outlinewidth": 0,
              "ticks": ""
             }
            },
            "marker": {
             "colorbar": {
              "outlinewidth": 0,
              "ticks": ""
             }
            },
            "type": "scatter3d"
           }
          ],
          "scattercarpet": [
           {
            "marker": {
             "colorbar": {
              "outlinewidth": 0,
              "ticks": ""
             }
            },
            "type": "scattercarpet"
           }
          ],
          "scattergeo": [
           {
            "marker": {
             "colorbar": {
              "outlinewidth": 0,
              "ticks": ""
             }
            },
            "type": "scattergeo"
           }
          ],
          "scattergl": [
           {
            "marker": {
             "colorbar": {
              "outlinewidth": 0,
              "ticks": ""
             }
            },
            "type": "scattergl"
           }
          ],
          "scattermapbox": [
           {
            "marker": {
             "colorbar": {
              "outlinewidth": 0,
              "ticks": ""
             }
            },
            "type": "scattermapbox"
           }
          ],
          "scatterpolar": [
           {
            "marker": {
             "colorbar": {
              "outlinewidth": 0,
              "ticks": ""
             }
            },
            "type": "scatterpolar"
           }
          ],
          "scatterpolargl": [
           {
            "marker": {
             "colorbar": {
              "outlinewidth": 0,
              "ticks": ""
             }
            },
            "type": "scatterpolargl"
           }
          ],
          "scatterternary": [
           {
            "marker": {
             "colorbar": {
              "outlinewidth": 0,
              "ticks": ""
             }
            },
            "type": "scatterternary"
           }
          ],
          "surface": [
           {
            "colorbar": {
             "outlinewidth": 0,
             "ticks": ""
            },
            "colorscale": [
             [
              0,
              "#0d0887"
             ],
             [
              0.1111111111111111,
              "#46039f"
             ],
             [
              0.2222222222222222,
              "#7201a8"
             ],
             [
              0.3333333333333333,
              "#9c179e"
             ],
             [
              0.4444444444444444,
              "#bd3786"
             ],
             [
              0.5555555555555556,
              "#d8576b"
             ],
             [
              0.6666666666666666,
              "#ed7953"
             ],
             [
              0.7777777777777778,
              "#fb9f3a"
             ],
             [
              0.8888888888888888,
              "#fdca26"
             ],
             [
              1,
              "#f0f921"
             ]
            ],
            "type": "surface"
           }
          ],
          "table": [
           {
            "cells": {
             "fill": {
              "color": "#EBF0F8"
             },
             "line": {
              "color": "white"
             }
            },
            "header": {
             "fill": {
              "color": "#C8D4E3"
             },
             "line": {
              "color": "white"
             }
            },
            "type": "table"
           }
          ]
         },
         "layout": {
          "annotationdefaults": {
           "arrowcolor": "#2a3f5f",
           "arrowhead": 0,
           "arrowwidth": 1
          },
          "autotypenumbers": "strict",
          "coloraxis": {
           "colorbar": {
            "outlinewidth": 0,
            "ticks": ""
           }
          },
          "colorscale": {
           "diverging": [
            [
             0,
             "#8e0152"
            ],
            [
             0.1,
             "#c51b7d"
            ],
            [
             0.2,
             "#de77ae"
            ],
            [
             0.3,
             "#f1b6da"
            ],
            [
             0.4,
             "#fde0ef"
            ],
            [
             0.5,
             "#f7f7f7"
            ],
            [
             0.6,
             "#e6f5d0"
            ],
            [
             0.7,
             "#b8e186"
            ],
            [
             0.8,
             "#7fbc41"
            ],
            [
             0.9,
             "#4d9221"
            ],
            [
             1,
             "#276419"
            ]
           ],
           "sequential": [
            [
             0,
             "#0d0887"
            ],
            [
             0.1111111111111111,
             "#46039f"
            ],
            [
             0.2222222222222222,
             "#7201a8"
            ],
            [
             0.3333333333333333,
             "#9c179e"
            ],
            [
             0.4444444444444444,
             "#bd3786"
            ],
            [
             0.5555555555555556,
             "#d8576b"
            ],
            [
             0.6666666666666666,
             "#ed7953"
            ],
            [
             0.7777777777777778,
             "#fb9f3a"
            ],
            [
             0.8888888888888888,
             "#fdca26"
            ],
            [
             1,
             "#f0f921"
            ]
           ],
           "sequentialminus": [
            [
             0,
             "#0d0887"
            ],
            [
             0.1111111111111111,
             "#46039f"
            ],
            [
             0.2222222222222222,
             "#7201a8"
            ],
            [
             0.3333333333333333,
             "#9c179e"
            ],
            [
             0.4444444444444444,
             "#bd3786"
            ],
            [
             0.5555555555555556,
             "#d8576b"
            ],
            [
             0.6666666666666666,
             "#ed7953"
            ],
            [
             0.7777777777777778,
             "#fb9f3a"
            ],
            [
             0.8888888888888888,
             "#fdca26"
            ],
            [
             1,
             "#f0f921"
            ]
           ]
          },
          "colorway": [
           "#636efa",
           "#EF553B",
           "#00cc96",
           "#ab63fa",
           "#FFA15A",
           "#19d3f3",
           "#FF6692",
           "#B6E880",
           "#FF97FF",
           "#FECB52"
          ],
          "font": {
           "color": "#2a3f5f"
          },
          "geo": {
           "bgcolor": "white",
           "lakecolor": "white",
           "landcolor": "#E5ECF6",
           "showlakes": true,
           "showland": true,
           "subunitcolor": "white"
          },
          "hoverlabel": {
           "align": "left"
          },
          "hovermode": "closest",
          "mapbox": {
           "style": "light"
          },
          "paper_bgcolor": "white",
          "plot_bgcolor": "#E5ECF6",
          "polar": {
           "angularaxis": {
            "gridcolor": "white",
            "linecolor": "white",
            "ticks": ""
           },
           "bgcolor": "#E5ECF6",
           "radialaxis": {
            "gridcolor": "white",
            "linecolor": "white",
            "ticks": ""
           }
          },
          "scene": {
           "xaxis": {
            "backgroundcolor": "#E5ECF6",
            "gridcolor": "white",
            "gridwidth": 2,
            "linecolor": "white",
            "showbackground": true,
            "ticks": "",
            "zerolinecolor": "white"
           },
           "yaxis": {
            "backgroundcolor": "#E5ECF6",
            "gridcolor": "white",
            "gridwidth": 2,
            "linecolor": "white",
            "showbackground": true,
            "ticks": "",
            "zerolinecolor": "white"
           },
           "zaxis": {
            "backgroundcolor": "#E5ECF6",
            "gridcolor": "white",
            "gridwidth": 2,
            "linecolor": "white",
            "showbackground": true,
            "ticks": "",
            "zerolinecolor": "white"
           }
          },
          "shapedefaults": {
           "line": {
            "color": "#2a3f5f"
           }
          },
          "ternary": {
           "aaxis": {
            "gridcolor": "white",
            "linecolor": "white",
            "ticks": ""
           },
           "baxis": {
            "gridcolor": "white",
            "linecolor": "white",
            "ticks": ""
           },
           "bgcolor": "#E5ECF6",
           "caxis": {
            "gridcolor": "white",
            "linecolor": "white",
            "ticks": ""
           }
          },
          "title": {
           "x": 0.05
          },
          "xaxis": {
           "automargin": true,
           "gridcolor": "white",
           "linecolor": "white",
           "ticks": "",
           "title": {
            "standoff": 15
           },
           "zerolinecolor": "white",
           "zerolinewidth": 2
          },
          "yaxis": {
           "automargin": true,
           "gridcolor": "white",
           "linecolor": "white",
           "ticks": "",
           "title": {
            "standoff": 15
           },
           "zerolinecolor": "white",
           "zerolinewidth": 2
          }
         }
        },
        "title": {
         "text": "Average number of observation (day+night) data by year for each position at Papa"
        },
        "xaxis": {
         "anchor": "y",
         "domain": [
          0,
          1
         ],
         "title": {
          "text": "counts"
         },
         "type": "log"
        },
        "yaxis": {
         "anchor": "x",
         "domain": [
          0,
          1
         ]
        }
       }
      }
     },
     "metadata": {},
     "output_type": "display_data"
    }
   ],
   "source": [
    "fig = (\n",
    "    px.box(average_nb_of_obs_by_year_and_position, x=\"counts\", orientation=\"h\", points=\"all\")\n",
    "    .update_layout(\n",
    "        title=f\"Average number of observation (day+night) data by year for each position at {station}\",\n",
    "    )\n",
    "    .update_xaxes(type=\"log\")\n",
    ")\n",
    "fig.add_shape(\n",
    "    type=\"line\",\n",
    "    x0=MINIMUM_OBS_BY_YEAR,\n",
    "    x1=MINIMUM_OBS_BY_YEAR,\n",
    "    y0=-1,\n",
    "    y1=1,\n",
    "    xref=\"x\",\n",
    "    line={\"color\": \"black\", \"width\": 2, \"dash\": \"dash\"},\n",
    "    name=\"Minimum number of observations by year\",\n",
    ")\n",
    "fig.show()"
   ]
  },
  {
   "cell_type": "markdown",
   "metadata": {},
   "source": [
    "## Remove location where there is not enough data (less than 6 by year)\n"
   ]
  },
  {
   "cell_type": "code",
   "execution_count": 20,
   "metadata": {},
   "outputs": [
    {
     "data": {
      "text/html": [
       "<div>\n",
       "<style scoped>\n",
       "    .dataframe tbody tr th:only-of-type {\n",
       "        vertical-align: middle;\n",
       "    }\n",
       "\n",
       "    .dataframe tbody tr th {\n",
       "        vertical-align: top;\n",
       "    }\n",
       "\n",
       "    .dataframe thead th {\n",
       "        text-align: right;\n",
       "    }\n",
       "</style>\n",
       "<table border=\"1\" class=\"dataframe\">\n",
       "  <thead>\n",
       "    <tr style=\"text-align: right;\">\n",
       "      <th></th>\n",
       "      <th>latitude</th>\n",
       "      <th>longitude</th>\n",
       "    </tr>\n",
       "  </thead>\n",
       "  <tbody>\n",
       "    <tr>\n",
       "      <th>5</th>\n",
       "      <td>48.5</td>\n",
       "      <td>-130.5</td>\n",
       "    </tr>\n",
       "    <tr>\n",
       "      <th>6</th>\n",
       "      <td>48.5</td>\n",
       "      <td>-128.5</td>\n",
       "    </tr>\n",
       "    <tr>\n",
       "      <th>11</th>\n",
       "      <td>49.5</td>\n",
       "      <td>-138.5</td>\n",
       "    </tr>\n",
       "    <tr>\n",
       "      <th>12</th>\n",
       "      <td>49.5</td>\n",
       "      <td>-134.5</td>\n",
       "    </tr>\n",
       "    <tr>\n",
       "      <th>15</th>\n",
       "      <td>49.5</td>\n",
       "      <td>-128.5</td>\n",
       "    </tr>\n",
       "    <tr>\n",
       "      <th>24</th>\n",
       "      <td>50.5</td>\n",
       "      <td>-129.5</td>\n",
       "    </tr>\n",
       "  </tbody>\n",
       "</table>\n",
       "</div>"
      ],
      "text/plain": [
       "    latitude  longitude\n",
       "5       48.5     -130.5\n",
       "6       48.5     -128.5\n",
       "11      49.5     -138.5\n",
       "12      49.5     -134.5\n",
       "15      49.5     -128.5\n",
       "24      50.5     -129.5"
      ]
     },
     "execution_count": 20,
     "metadata": {},
     "output_type": "execute_result"
    }
   ],
   "source": [
    "positions = average_nb_of_obs_by_year_and_position.query(f\"counts >= {MINIMUM_OBS_BY_YEAR}\")[[\"latitude\", \"longitude\"]]\n",
    "positions"
   ]
  },
  {
   "cell_type": "code",
   "execution_count": 21,
   "metadata": {},
   "outputs": [
    {
     "data": {
      "text/html": [
       "<div><svg style=\"position: absolute; width: 0; height: 0; overflow: hidden\">\n",
       "<defs>\n",
       "<symbol id=\"icon-database\" viewBox=\"0 0 32 32\">\n",
       "<path d=\"M16 0c-8.837 0-16 2.239-16 5v4c0 2.761 7.163 5 16 5s16-2.239 16-5v-4c0-2.761-7.163-5-16-5z\"></path>\n",
       "<path d=\"M16 17c-8.837 0-16-2.239-16-5v6c0 2.761 7.163 5 16 5s16-2.239 16-5v-6c0 2.761-7.163 5-16 5z\"></path>\n",
       "<path d=\"M16 26c-8.837 0-16-2.239-16-5v6c0 2.761 7.163 5 16 5s16-2.239 16-5v-6c0 2.761-7.163 5-16 5z\"></path>\n",
       "</symbol>\n",
       "<symbol id=\"icon-file-text2\" viewBox=\"0 0 32 32\">\n",
       "<path d=\"M28.681 7.159c-0.694-0.947-1.662-2.053-2.724-3.116s-2.169-2.030-3.116-2.724c-1.612-1.182-2.393-1.319-2.841-1.319h-15.5c-1.378 0-2.5 1.121-2.5 2.5v27c0 1.378 1.122 2.5 2.5 2.5h23c1.378 0 2.5-1.122 2.5-2.5v-19.5c0-0.448-0.137-1.23-1.319-2.841zM24.543 5.457c0.959 0.959 1.712 1.825 2.268 2.543h-4.811v-4.811c0.718 0.556 1.584 1.309 2.543 2.268zM28 29.5c0 0.271-0.229 0.5-0.5 0.5h-23c-0.271 0-0.5-0.229-0.5-0.5v-27c0-0.271 0.229-0.5 0.5-0.5 0 0 15.499-0 15.5 0v7c0 0.552 0.448 1 1 1h7v19.5z\"></path>\n",
       "<path d=\"M23 26h-14c-0.552 0-1-0.448-1-1s0.448-1 1-1h14c0.552 0 1 0.448 1 1s-0.448 1-1 1z\"></path>\n",
       "<path d=\"M23 22h-14c-0.552 0-1-0.448-1-1s0.448-1 1-1h14c0.552 0 1 0.448 1 1s-0.448 1-1 1z\"></path>\n",
       "<path d=\"M23 18h-14c-0.552 0-1-0.448-1-1s0.448-1 1-1h14c0.552 0 1 0.448 1 1s-0.448 1-1 1z\"></path>\n",
       "</symbol>\n",
       "</defs>\n",
       "</svg>\n",
       "<style>/* CSS stylesheet for displaying xarray objects in jupyterlab.\n",
       " *\n",
       " */\n",
       "\n",
       ":root {\n",
       "  --xr-font-color0: var(--jp-content-font-color0, rgba(0, 0, 0, 1));\n",
       "  --xr-font-color2: var(--jp-content-font-color2, rgba(0, 0, 0, 0.54));\n",
       "  --xr-font-color3: var(--jp-content-font-color3, rgba(0, 0, 0, 0.38));\n",
       "  --xr-border-color: var(--jp-border-color2, #e0e0e0);\n",
       "  --xr-disabled-color: var(--jp-layout-color3, #bdbdbd);\n",
       "  --xr-background-color: var(--jp-layout-color0, white);\n",
       "  --xr-background-color-row-even: var(--jp-layout-color1, white);\n",
       "  --xr-background-color-row-odd: var(--jp-layout-color2, #eeeeee);\n",
       "}\n",
       "\n",
       "html[theme=\"dark\"],\n",
       "html[data-theme=\"dark\"],\n",
       "body[data-theme=\"dark\"],\n",
       "body.vscode-dark {\n",
       "  --xr-font-color0: rgba(255, 255, 255, 1);\n",
       "  --xr-font-color2: rgba(255, 255, 255, 0.54);\n",
       "  --xr-font-color3: rgba(255, 255, 255, 0.38);\n",
       "  --xr-border-color: #1f1f1f;\n",
       "  --xr-disabled-color: #515151;\n",
       "  --xr-background-color: #111111;\n",
       "  --xr-background-color-row-even: #111111;\n",
       "  --xr-background-color-row-odd: #313131;\n",
       "}\n",
       "\n",
       ".xr-wrap {\n",
       "  display: block !important;\n",
       "  min-width: 300px;\n",
       "  max-width: 700px;\n",
       "}\n",
       "\n",
       ".xr-text-repr-fallback {\n",
       "  /* fallback to plain text repr when CSS is not injected (untrusted notebook) */\n",
       "  display: none;\n",
       "}\n",
       "\n",
       ".xr-header {\n",
       "  padding-top: 6px;\n",
       "  padding-bottom: 6px;\n",
       "  margin-bottom: 4px;\n",
       "  border-bottom: solid 1px var(--xr-border-color);\n",
       "}\n",
       "\n",
       ".xr-header > div,\n",
       ".xr-header > ul {\n",
       "  display: inline;\n",
       "  margin-top: 0;\n",
       "  margin-bottom: 0;\n",
       "}\n",
       "\n",
       ".xr-obj-type,\n",
       ".xr-array-name {\n",
       "  margin-left: 2px;\n",
       "  margin-right: 10px;\n",
       "}\n",
       "\n",
       ".xr-obj-type {\n",
       "  color: var(--xr-font-color2);\n",
       "}\n",
       "\n",
       ".xr-sections {\n",
       "  padding-left: 0 !important;\n",
       "  display: grid;\n",
       "  grid-template-columns: 150px auto auto 1fr 0 20px 0 20px;\n",
       "}\n",
       "\n",
       ".xr-section-item {\n",
       "  display: contents;\n",
       "}\n",
       "\n",
       ".xr-section-item input {\n",
       "  display: inline-block;\n",
       "  opacity: 0;\n",
       "  height: 0;\n",
       "}\n",
       "\n",
       ".xr-section-item input + label {\n",
       "  color: var(--xr-disabled-color);\n",
       "}\n",
       "\n",
       ".xr-section-item input:enabled + label {\n",
       "  cursor: pointer;\n",
       "  color: var(--xr-font-color2);\n",
       "}\n",
       "\n",
       ".xr-section-item input:focus + label {\n",
       "  border: 2px solid var(--xr-font-color0);\n",
       "}\n",
       "\n",
       ".xr-section-item input:enabled + label:hover {\n",
       "  color: var(--xr-font-color0);\n",
       "}\n",
       "\n",
       ".xr-section-summary {\n",
       "  grid-column: 1;\n",
       "  color: var(--xr-font-color2);\n",
       "  font-weight: 500;\n",
       "}\n",
       "\n",
       ".xr-section-summary > span {\n",
       "  display: inline-block;\n",
       "  padding-left: 0.5em;\n",
       "}\n",
       "\n",
       ".xr-section-summary-in:disabled + label {\n",
       "  color: var(--xr-font-color2);\n",
       "}\n",
       "\n",
       ".xr-section-summary-in + label:before {\n",
       "  display: inline-block;\n",
       "  content: \"►\";\n",
       "  font-size: 11px;\n",
       "  width: 15px;\n",
       "  text-align: center;\n",
       "}\n",
       "\n",
       ".xr-section-summary-in:disabled + label:before {\n",
       "  color: var(--xr-disabled-color);\n",
       "}\n",
       "\n",
       ".xr-section-summary-in:checked + label:before {\n",
       "  content: \"▼\";\n",
       "}\n",
       "\n",
       ".xr-section-summary-in:checked + label > span {\n",
       "  display: none;\n",
       "}\n",
       "\n",
       ".xr-section-summary,\n",
       ".xr-section-inline-details {\n",
       "  padding-top: 4px;\n",
       "  padding-bottom: 4px;\n",
       "}\n",
       "\n",
       ".xr-section-inline-details {\n",
       "  grid-column: 2 / -1;\n",
       "}\n",
       "\n",
       ".xr-section-details {\n",
       "  display: none;\n",
       "  grid-column: 1 / -1;\n",
       "  margin-bottom: 5px;\n",
       "}\n",
       "\n",
       ".xr-section-summary-in:checked ~ .xr-section-details {\n",
       "  display: contents;\n",
       "}\n",
       "\n",
       ".xr-array-wrap {\n",
       "  grid-column: 1 / -1;\n",
       "  display: grid;\n",
       "  grid-template-columns: 20px auto;\n",
       "}\n",
       "\n",
       ".xr-array-wrap > label {\n",
       "  grid-column: 1;\n",
       "  vertical-align: top;\n",
       "}\n",
       "\n",
       ".xr-preview {\n",
       "  color: var(--xr-font-color3);\n",
       "}\n",
       "\n",
       ".xr-array-preview,\n",
       ".xr-array-data {\n",
       "  padding: 0 5px !important;\n",
       "  grid-column: 2;\n",
       "}\n",
       "\n",
       ".xr-array-data,\n",
       ".xr-array-in:checked ~ .xr-array-preview {\n",
       "  display: none;\n",
       "}\n",
       "\n",
       ".xr-array-in:checked ~ .xr-array-data,\n",
       ".xr-array-preview {\n",
       "  display: inline-block;\n",
       "}\n",
       "\n",
       ".xr-dim-list {\n",
       "  display: inline-block !important;\n",
       "  list-style: none;\n",
       "  padding: 0 !important;\n",
       "  margin: 0;\n",
       "}\n",
       "\n",
       ".xr-dim-list li {\n",
       "  display: inline-block;\n",
       "  padding: 0;\n",
       "  margin: 0;\n",
       "}\n",
       "\n",
       ".xr-dim-list:before {\n",
       "  content: \"(\";\n",
       "}\n",
       "\n",
       ".xr-dim-list:after {\n",
       "  content: \")\";\n",
       "}\n",
       "\n",
       ".xr-dim-list li:not(:last-child):after {\n",
       "  content: \",\";\n",
       "  padding-right: 5px;\n",
       "}\n",
       "\n",
       ".xr-has-index {\n",
       "  font-weight: bold;\n",
       "}\n",
       "\n",
       ".xr-var-list,\n",
       ".xr-var-item {\n",
       "  display: contents;\n",
       "}\n",
       "\n",
       ".xr-var-item > div,\n",
       ".xr-var-item label,\n",
       ".xr-var-item > .xr-var-name span {\n",
       "  background-color: var(--xr-background-color-row-even);\n",
       "  margin-bottom: 0;\n",
       "}\n",
       "\n",
       ".xr-var-item > .xr-var-name:hover span {\n",
       "  padding-right: 5px;\n",
       "}\n",
       "\n",
       ".xr-var-list > li:nth-child(odd) > div,\n",
       ".xr-var-list > li:nth-child(odd) > label,\n",
       ".xr-var-list > li:nth-child(odd) > .xr-var-name span {\n",
       "  background-color: var(--xr-background-color-row-odd);\n",
       "}\n",
       "\n",
       ".xr-var-name {\n",
       "  grid-column: 1;\n",
       "}\n",
       "\n",
       ".xr-var-dims {\n",
       "  grid-column: 2;\n",
       "}\n",
       "\n",
       ".xr-var-dtype {\n",
       "  grid-column: 3;\n",
       "  text-align: right;\n",
       "  color: var(--xr-font-color2);\n",
       "}\n",
       "\n",
       ".xr-var-preview {\n",
       "  grid-column: 4;\n",
       "}\n",
       "\n",
       ".xr-index-preview {\n",
       "  grid-column: 2 / 5;\n",
       "  color: var(--xr-font-color2);\n",
       "}\n",
       "\n",
       ".xr-var-name,\n",
       ".xr-var-dims,\n",
       ".xr-var-dtype,\n",
       ".xr-preview,\n",
       ".xr-attrs dt {\n",
       "  white-space: nowrap;\n",
       "  overflow: hidden;\n",
       "  text-overflow: ellipsis;\n",
       "  padding-right: 10px;\n",
       "}\n",
       "\n",
       ".xr-var-name:hover,\n",
       ".xr-var-dims:hover,\n",
       ".xr-var-dtype:hover,\n",
       ".xr-attrs dt:hover {\n",
       "  overflow: visible;\n",
       "  width: auto;\n",
       "  z-index: 1;\n",
       "}\n",
       "\n",
       ".xr-var-attrs,\n",
       ".xr-var-data,\n",
       ".xr-index-data {\n",
       "  display: none;\n",
       "  background-color: var(--xr-background-color) !important;\n",
       "  padding-bottom: 5px !important;\n",
       "}\n",
       "\n",
       ".xr-var-attrs-in:checked ~ .xr-var-attrs,\n",
       ".xr-var-data-in:checked ~ .xr-var-data,\n",
       ".xr-index-data-in:checked ~ .xr-index-data {\n",
       "  display: block;\n",
       "}\n",
       "\n",
       ".xr-var-data > table {\n",
       "  float: right;\n",
       "}\n",
       "\n",
       ".xr-var-name span,\n",
       ".xr-var-data,\n",
       ".xr-index-name div,\n",
       ".xr-index-data,\n",
       ".xr-attrs {\n",
       "  padding-left: 25px !important;\n",
       "}\n",
       "\n",
       ".xr-attrs,\n",
       ".xr-var-attrs,\n",
       ".xr-var-data,\n",
       ".xr-index-data {\n",
       "  grid-column: 1 / -1;\n",
       "}\n",
       "\n",
       "dl.xr-attrs {\n",
       "  padding: 0;\n",
       "  margin: 0;\n",
       "  display: grid;\n",
       "  grid-template-columns: 125px auto;\n",
       "}\n",
       "\n",
       ".xr-attrs dt,\n",
       ".xr-attrs dd {\n",
       "  padding: 0;\n",
       "  margin: 0;\n",
       "  float: left;\n",
       "  padding-right: 10px;\n",
       "  width: auto;\n",
       "}\n",
       "\n",
       ".xr-attrs dt {\n",
       "  font-weight: normal;\n",
       "  grid-column: 1;\n",
       "}\n",
       "\n",
       ".xr-attrs dt:hover span {\n",
       "  display: inline-block;\n",
       "  background: var(--xr-background-color);\n",
       "  padding-right: 10px;\n",
       "}\n",
       "\n",
       ".xr-attrs dd {\n",
       "  grid-column: 2;\n",
       "  white-space: pre-wrap;\n",
       "  word-break: break-all;\n",
       "}\n",
       "\n",
       ".xr-icon-database,\n",
       ".xr-icon-file-text2,\n",
       ".xr-no-icon {\n",
       "  display: inline-block;\n",
       "  vertical-align: middle;\n",
       "  width: 1em;\n",
       "  height: 1.5em !important;\n",
       "  stroke-width: 0;\n",
       "  stroke: currentColor;\n",
       "  fill: currentColor;\n",
       "}\n",
       "</style><pre class='xr-text-repr-fallback'>&lt;xarray.Dataset&gt; Size: 71kB\n",
       "Dimensions:    (time: 287, latitude: 3, longitude: 5)\n",
       "Coordinates:\n",
       "  * latitude   (latitude) float64 24B 48.5 49.5 50.5\n",
       "  * time       (time) datetime64[ns] 2kB 2002-02-07 2002-02-11 ... 2014-09-12\n",
       "  * longitude  (longitude) float64 40B -138.5 -134.5 -130.5 -129.5 -128.5\n",
       "Data variables:\n",
       "    day        (time, latitude, longitude) float64 34kB nan nan ... 4.413 nan\n",
       "    night      (time, latitude, longitude) float64 34kB nan nan 1.72 ... nan nan</pre><div class='xr-wrap' style='display:none'><div class='xr-header'><div class='xr-obj-type'>xarray.Dataset</div></div><ul class='xr-sections'><li class='xr-section-item'><input id='section-e4ee683b-12e7-4135-bded-86ecd75202ee' class='xr-section-summary-in' type='checkbox' disabled ><label for='section-e4ee683b-12e7-4135-bded-86ecd75202ee' class='xr-section-summary'  title='Expand/collapse section'>Dimensions:</label><div class='xr-section-inline-details'><ul class='xr-dim-list'><li><span class='xr-has-index'>time</span>: 287</li><li><span class='xr-has-index'>latitude</span>: 3</li><li><span class='xr-has-index'>longitude</span>: 5</li></ul></div><div class='xr-section-details'></div></li><li class='xr-section-item'><input id='section-3b9c72d3-b10b-4337-a1eb-601a2fc7cb03' class='xr-section-summary-in' type='checkbox'  checked><label for='section-3b9c72d3-b10b-4337-a1eb-601a2fc7cb03' class='xr-section-summary' >Coordinates: <span>(3)</span></label><div class='xr-section-inline-details'></div><div class='xr-section-details'><ul class='xr-var-list'><li class='xr-var-item'><div class='xr-var-name'><span class='xr-has-index'>latitude</span></div><div class='xr-var-dims'>(latitude)</div><div class='xr-var-dtype'>float64</div><div class='xr-var-preview xr-preview'>48.5 49.5 50.5</div><input id='attrs-78ab3151-82f1-459a-9652-e2d181fd95ef' class='xr-var-attrs-in' type='checkbox' ><label for='attrs-78ab3151-82f1-459a-9652-e2d181fd95ef' title='Show/Hide attributes'><svg class='icon xr-icon-file-text2'><use xlink:href='#icon-file-text2'></use></svg></label><input id='data-c492b818-3438-4e13-b470-6c753c3cc45e' class='xr-var-data-in' type='checkbox'><label for='data-c492b818-3438-4e13-b470-6c753c3cc45e' title='Show/Hide data repr'><svg class='icon xr-icon-database'><use xlink:href='#icon-database'></use></svg></label><div class='xr-var-attrs'><dl class='xr-attrs'><dt><span>axis :</span></dt><dd>Y</dd><dt><span>long_name :</span></dt><dd>latitude</dd><dt><span>standard_name :</span></dt><dd>latitude</dd><dt><span>units :</span></dt><dd>degrees_north</dd></dl></div><div class='xr-var-data'><pre>array([48.5, 49.5, 50.5])</pre></div></li><li class='xr-var-item'><div class='xr-var-name'><span class='xr-has-index'>time</span></div><div class='xr-var-dims'>(time)</div><div class='xr-var-dtype'>datetime64[ns]</div><div class='xr-var-preview xr-preview'>2002-02-07 ... 2014-09-12</div><input id='attrs-7cb783e6-233d-49f6-a740-c24f34520812' class='xr-var-attrs-in' type='checkbox' ><label for='attrs-7cb783e6-233d-49f6-a740-c24f34520812' title='Show/Hide attributes'><svg class='icon xr-icon-file-text2'><use xlink:href='#icon-file-text2'></use></svg></label><input id='data-ecc81db4-f62e-47ee-b21a-cd69bfd0a7e9' class='xr-var-data-in' type='checkbox'><label for='data-ecc81db4-f62e-47ee-b21a-cd69bfd0a7e9' title='Show/Hide data repr'><svg class='icon xr-icon-database'><use xlink:href='#icon-database'></use></svg></label><div class='xr-var-attrs'><dl class='xr-attrs'><dt><span>axis :</span></dt><dd>T</dd><dt><span>long_name :</span></dt><dd>time</dd><dt><span>standard_name :</span></dt><dd>time</dd></dl></div><div class='xr-var-data'><pre>array([&#x27;2002-02-07T00:00:00.000000000&#x27;, &#x27;2002-02-11T00:00:00.000000000&#x27;,\n",
       "       &#x27;2002-02-13T00:00:00.000000000&#x27;, ..., &#x27;2014-09-10T00:00:00.000000000&#x27;,\n",
       "       &#x27;2014-09-11T00:00:00.000000000&#x27;, &#x27;2014-09-12T00:00:00.000000000&#x27;],\n",
       "      dtype=&#x27;datetime64[ns]&#x27;)</pre></div></li><li class='xr-var-item'><div class='xr-var-name'><span class='xr-has-index'>longitude</span></div><div class='xr-var-dims'>(longitude)</div><div class='xr-var-dtype'>float64</div><div class='xr-var-preview xr-preview'>-138.5 -134.5 -130.5 -129.5 -128.5</div><input id='attrs-3ba2a2d4-2969-4dcb-902a-1997ebc2992a' class='xr-var-attrs-in' type='checkbox' ><label for='attrs-3ba2a2d4-2969-4dcb-902a-1997ebc2992a' title='Show/Hide attributes'><svg class='icon xr-icon-file-text2'><use xlink:href='#icon-file-text2'></use></svg></label><input id='data-5ce80d78-5738-490e-9fdc-d47219bd2ccb' class='xr-var-data-in' type='checkbox'><label for='data-5ce80d78-5738-490e-9fdc-d47219bd2ccb' title='Show/Hide data repr'><svg class='icon xr-icon-database'><use xlink:href='#icon-database'></use></svg></label><div class='xr-var-attrs'><dl class='xr-attrs'><dt><span>axis :</span></dt><dd>X</dd><dt><span>long_name :</span></dt><dd>longitude</dd><dt><span>standard_name :</span></dt><dd>longitude</dd><dt><span>units :</span></dt><dd>degrees_east</dd></dl></div><div class='xr-var-data'><pre>array([-138.5, -134.5, -130.5, -129.5, -128.5])</pre></div></li></ul></div></li><li class='xr-section-item'><input id='section-924a7227-7042-4b93-8aa4-ffd38b4a91ac' class='xr-section-summary-in' type='checkbox'  checked><label for='section-924a7227-7042-4b93-8aa4-ffd38b4a91ac' class='xr-section-summary' >Data variables: <span>(2)</span></label><div class='xr-section-inline-details'></div><div class='xr-section-details'><ul class='xr-var-list'><li class='xr-var-item'><div class='xr-var-name'><span>day</span></div><div class='xr-var-dims'>(time, latitude, longitude)</div><div class='xr-var-dtype'>float64</div><div class='xr-var-preview xr-preview'>nan nan nan nan ... nan 4.413 nan</div><input id='attrs-76484a39-c452-4a45-ac7f-6c6d7b5c480b' class='xr-var-attrs-in' type='checkbox' ><label for='attrs-76484a39-c452-4a45-ac7f-6c6d7b5c480b' title='Show/Hide attributes'><svg class='icon xr-icon-file-text2'><use xlink:href='#icon-file-text2'></use></svg></label><input id='data-f3b7e384-77b5-483e-bb43-e5ba0289b097' class='xr-var-data-in' type='checkbox'><label for='data-f3b7e384-77b5-483e-bb43-e5ba0289b097' title='Show/Hide data repr'><svg class='icon xr-icon-database'><use xlink:href='#icon-database'></use></svg></label><div class='xr-var-attrs'><dl class='xr-attrs'><dt><span>description :</span></dt><dd>Zooplankton carbon weight by cube meter of sea water at day</dd><dt><span>units :</span></dt><dd>mg/m3</dd></dl></div><div class='xr-var-data'><pre>array([[[     nan,      nan,      nan,      nan,      nan],\n",
       "        [     nan,      nan,      nan,      nan,      nan],\n",
       "        [     nan,      nan,      nan,      nan,      nan]],\n",
       "\n",
       "       [[     nan,      nan,      nan,      nan,      nan],\n",
       "        [2.5745  ,      nan,      nan,      nan,      nan],\n",
       "        [     nan,      nan,      nan,      nan,      nan]],\n",
       "\n",
       "       [[     nan,      nan,      nan,      nan,      nan],\n",
       "        [     nan,      nan,      nan,      nan,      nan],\n",
       "        [     nan,      nan,      nan,      nan,      nan]],\n",
       "\n",
       "       ...,\n",
       "\n",
       "       [[     nan,      nan,      nan,      nan,      nan],\n",
       "        [     nan,      nan,      nan,      nan,      nan],\n",
       "        [     nan,      nan,      nan,      nan,      nan]],\n",
       "\n",
       "       [[     nan,      nan,      nan,      nan,      nan],\n",
       "        [     nan,      nan,      nan,      nan,      nan],\n",
       "        [     nan,      nan,      nan, 5.890536,      nan]],\n",
       "\n",
       "       [[     nan,      nan,      nan,      nan,      nan],\n",
       "        [     nan,      nan,      nan,      nan,      nan],\n",
       "        [     nan,      nan,      nan, 4.413296,      nan]]])</pre></div></li><li class='xr-var-item'><div class='xr-var-name'><span>night</span></div><div class='xr-var-dims'>(time, latitude, longitude)</div><div class='xr-var-dtype'>float64</div><div class='xr-var-preview xr-preview'>nan nan 1.72 nan ... nan nan nan</div><input id='attrs-8db257d8-8775-48b4-8983-4f39a2b245a2' class='xr-var-attrs-in' type='checkbox' ><label for='attrs-8db257d8-8775-48b4-8983-4f39a2b245a2' title='Show/Hide attributes'><svg class='icon xr-icon-file-text2'><use xlink:href='#icon-file-text2'></use></svg></label><input id='data-da2b9b72-81fd-4667-8882-54d4121316ed' class='xr-var-data-in' type='checkbox'><label for='data-da2b9b72-81fd-4667-8882-54d4121316ed' title='Show/Hide data repr'><svg class='icon xr-icon-database'><use xlink:href='#icon-database'></use></svg></label><div class='xr-var-attrs'><dl class='xr-attrs'><dt><span>description :</span></dt><dd>Zooplankton carbon weight by cube meter of sea water at night</dd><dt><span>units :</span></dt><dd>mg/m3</dd></dl></div><div class='xr-var-data'><pre>array([[[     nan,      nan, 1.71966 ,      nan,      nan],\n",
       "        [     nan,      nan,      nan,      nan,      nan],\n",
       "        [     nan,      nan,      nan,      nan,      nan]],\n",
       "\n",
       "       [[     nan,      nan,      nan,      nan,      nan],\n",
       "        [     nan,      nan,      nan,      nan,      nan],\n",
       "        [     nan,      nan,      nan,      nan,      nan]],\n",
       "\n",
       "       [[     nan,      nan,      nan,      nan,      nan],\n",
       "        [     nan,      nan,      nan,      nan,      nan],\n",
       "        [     nan,      nan,      nan,      nan,      nan]],\n",
       "\n",
       "       ...,\n",
       "\n",
       "       [[     nan,      nan,      nan,      nan,      nan],\n",
       "        [     nan,      nan,      nan,      nan, 7.608912],\n",
       "        [     nan,      nan,      nan,      nan,      nan]],\n",
       "\n",
       "       [[     nan,      nan,      nan,      nan,      nan],\n",
       "        [     nan,      nan,      nan,      nan,      nan],\n",
       "        [     nan,      nan,      nan, 9.095328,      nan]],\n",
       "\n",
       "       [[     nan,      nan,      nan,      nan,      nan],\n",
       "        [     nan,      nan,      nan,      nan,      nan],\n",
       "        [     nan,      nan,      nan,      nan,      nan]]])</pre></div></li></ul></div></li><li class='xr-section-item'><input id='section-e2bb422c-e96c-4954-92b6-0cfc7f5c0eb9' class='xr-section-summary-in' type='checkbox'  ><label for='section-e2bb422c-e96c-4954-92b6-0cfc7f5c0eb9' class='xr-section-summary' >Indexes: <span>(3)</span></label><div class='xr-section-inline-details'></div><div class='xr-section-details'><ul class='xr-var-list'><li class='xr-var-item'><div class='xr-index-name'><div>latitude</div></div><div class='xr-index-preview'>PandasIndex</div><input type='checkbox' disabled/><label></label><input id='index-918e4d9e-3bc6-44c6-a119-37273eaa5f11' class='xr-index-data-in' type='checkbox'/><label for='index-918e4d9e-3bc6-44c6-a119-37273eaa5f11' title='Show/Hide index repr'><svg class='icon xr-icon-database'><use xlink:href='#icon-database'></use></svg></label><div class='xr-index-data'><pre>PandasIndex(Index([48.5, 49.5, 50.5], dtype=&#x27;float64&#x27;, name=&#x27;latitude&#x27;))</pre></div></li><li class='xr-var-item'><div class='xr-index-name'><div>time</div></div><div class='xr-index-preview'>PandasIndex</div><input type='checkbox' disabled/><label></label><input id='index-392f45dc-33c7-4410-8449-ff27f245f7c8' class='xr-index-data-in' type='checkbox'/><label for='index-392f45dc-33c7-4410-8449-ff27f245f7c8' title='Show/Hide index repr'><svg class='icon xr-icon-database'><use xlink:href='#icon-database'></use></svg></label><div class='xr-index-data'><pre>PandasIndex(DatetimeIndex([&#x27;2002-02-07&#x27;, &#x27;2002-02-11&#x27;, &#x27;2002-02-13&#x27;, &#x27;2002-02-14&#x27;,\n",
       "               &#x27;2002-02-15&#x27;, &#x27;2002-02-16&#x27;, &#x27;2002-03-05&#x27;, &#x27;2002-05-03&#x27;,\n",
       "               &#x27;2002-05-05&#x27;, &#x27;2002-05-06&#x27;,\n",
       "               ...\n",
       "               &#x27;2014-06-04&#x27;, &#x27;2014-06-13&#x27;, &#x27;2014-06-15&#x27;, &#x27;2014-06-17&#x27;,\n",
       "               &#x27;2014-08-23&#x27;, &#x27;2014-08-25&#x27;, &#x27;2014-08-26&#x27;, &#x27;2014-09-10&#x27;,\n",
       "               &#x27;2014-09-11&#x27;, &#x27;2014-09-12&#x27;],\n",
       "              dtype=&#x27;datetime64[ns]&#x27;, name=&#x27;time&#x27;, length=287, freq=None))</pre></div></li><li class='xr-var-item'><div class='xr-index-name'><div>longitude</div></div><div class='xr-index-preview'>PandasIndex</div><input type='checkbox' disabled/><label></label><input id='index-30acf139-c00d-4ccc-8c24-e98e16ef096b' class='xr-index-data-in' type='checkbox'/><label for='index-30acf139-c00d-4ccc-8c24-e98e16ef096b' title='Show/Hide index repr'><svg class='icon xr-icon-database'><use xlink:href='#icon-database'></use></svg></label><div class='xr-index-data'><pre>PandasIndex(Index([-138.5, -134.5, -130.5, -129.5, -128.5], dtype=&#x27;float64&#x27;, name=&#x27;longitude&#x27;))</pre></div></li></ul></div></li><li class='xr-section-item'><input id='section-bb8edb61-c6d1-4c69-9ad9-13795a263557' class='xr-section-summary-in' type='checkbox' disabled ><label for='section-bb8edb61-c6d1-4c69-9ad9-13795a263557' class='xr-section-summary'  title='Expand/collapse section'>Attributes: <span>(0)</span></label><div class='xr-section-inline-details'></div><div class='xr-section-details'><dl class='xr-attrs'></dl></div></li></ul></div></div>"
      ],
      "text/plain": [
       "<xarray.Dataset> Size: 71kB\n",
       "Dimensions:    (time: 287, latitude: 3, longitude: 5)\n",
       "Coordinates:\n",
       "  * latitude   (latitude) float64 24B 48.5 49.5 50.5\n",
       "  * time       (time) datetime64[ns] 2kB 2002-02-07 2002-02-11 ... 2014-09-12\n",
       "  * longitude  (longitude) float64 40B -138.5 -134.5 -130.5 -129.5 -128.5\n",
       "Data variables:\n",
       "    day        (time, latitude, longitude) float64 34kB nan nan ... 4.413 nan\n",
       "    night      (time, latitude, longitude) float64 34kB nan nan 1.72 ... nan nan"
      ]
     },
     "execution_count": 21,
     "metadata": {},
     "output_type": "execute_result"
    }
   ],
   "source": [
    "data = xr.combine_by_coords(\n",
    "    [data.sel(latitude=[lat], longitude=[lon]) for lat, lon in positions.itertuples(index=False)]\n",
    ")\n",
    "data"
   ]
  },
  {
   "cell_type": "code",
   "execution_count": 22,
   "metadata": {},
   "outputs": [
    {
     "data": {
      "application/vnd.plotly.v1+json": {
       "config": {
        "plotlyServerURL": "https://plot.ly"
       },
       "data": [
        {
         "hovertemplate": "count=%{marker.color}<br>latitude=%{lat}<br>longitude=%{lon}<extra></extra>",
         "lat": [
          48.5,
          48.5,
          49.5,
          49.5,
          49.5,
          50.5
         ],
         "legendgroup": "",
         "lon": [
          -130.5,
          -128.5,
          -138.5,
          -134.5,
          -128.5,
          -129.5
         ],
         "marker": {
          "color": [
           2.6923076923076925,
           2.6923076923076925,
           2.5384615384615383,
           2.3846153846153846,
           2.076923076923077,
           3.230769230769231
          ],
          "coloraxis": "coloraxis",
          "size": [
           2.6923076923076925,
           2.6923076923076925,
           2.5384615384615383,
           2.3846153846153846,
           2.076923076923077,
           3.230769230769231
          ],
          "sizemode": "area",
          "sizeref": 0.008076923076923077
         },
         "mode": "markers",
         "name": "",
         "showlegend": false,
         "subplot": "map",
         "type": "scattermap"
        }
       ],
       "layout": {
        "coloraxis": {
         "colorbar": {
          "title": {
           "text": "count"
          }
         },
         "colorscale": [
          [
           0,
           "#0d0887"
          ],
          [
           0.1111111111111111,
           "#46039f"
          ],
          [
           0.2222222222222222,
           "#7201a8"
          ],
          [
           0.3333333333333333,
           "#9c179e"
          ],
          [
           0.4444444444444444,
           "#bd3786"
          ],
          [
           0.5555555555555556,
           "#d8576b"
          ],
          [
           0.6666666666666666,
           "#ed7953"
          ],
          [
           0.7777777777777778,
           "#fb9f3a"
          ],
          [
           0.8888888888888888,
           "#fdca26"
          ],
          [
           1,
           "#f0f921"
          ]
         ]
        },
        "height": 600,
        "legend": {
         "itemsizing": "constant",
         "tracegroupgap": 0
        },
        "map": {
         "center": {
          "lat": 49.333333333333336,
          "lon": -131.66666666666666
         },
         "domain": {
          "x": [
           0,
           1
          ],
          "y": [
           0,
           1
          ]
         },
         "zoom": 8
        },
        "mapbox": {
         "center": {
          "lat": 49.333333333333336,
          "lon": -131.66666666666666
         },
         "zoom": 8
        },
        "margin": {
         "t": 60
        },
        "template": {
         "data": {
          "bar": [
           {
            "error_x": {
             "color": "#2a3f5f"
            },
            "error_y": {
             "color": "#2a3f5f"
            },
            "marker": {
             "line": {
              "color": "#E5ECF6",
              "width": 0.5
             },
             "pattern": {
              "fillmode": "overlay",
              "size": 10,
              "solidity": 0.2
             }
            },
            "type": "bar"
           }
          ],
          "barpolar": [
           {
            "marker": {
             "line": {
              "color": "#E5ECF6",
              "width": 0.5
             },
             "pattern": {
              "fillmode": "overlay",
              "size": 10,
              "solidity": 0.2
             }
            },
            "type": "barpolar"
           }
          ],
          "carpet": [
           {
            "aaxis": {
             "endlinecolor": "#2a3f5f",
             "gridcolor": "white",
             "linecolor": "white",
             "minorgridcolor": "white",
             "startlinecolor": "#2a3f5f"
            },
            "baxis": {
             "endlinecolor": "#2a3f5f",
             "gridcolor": "white",
             "linecolor": "white",
             "minorgridcolor": "white",
             "startlinecolor": "#2a3f5f"
            },
            "type": "carpet"
           }
          ],
          "choropleth": [
           {
            "colorbar": {
             "outlinewidth": 0,
             "ticks": ""
            },
            "type": "choropleth"
           }
          ],
          "contour": [
           {
            "colorbar": {
             "outlinewidth": 0,
             "ticks": ""
            },
            "colorscale": [
             [
              0,
              "#0d0887"
             ],
             [
              0.1111111111111111,
              "#46039f"
             ],
             [
              0.2222222222222222,
              "#7201a8"
             ],
             [
              0.3333333333333333,
              "#9c179e"
             ],
             [
              0.4444444444444444,
              "#bd3786"
             ],
             [
              0.5555555555555556,
              "#d8576b"
             ],
             [
              0.6666666666666666,
              "#ed7953"
             ],
             [
              0.7777777777777778,
              "#fb9f3a"
             ],
             [
              0.8888888888888888,
              "#fdca26"
             ],
             [
              1,
              "#f0f921"
             ]
            ],
            "type": "contour"
           }
          ],
          "contourcarpet": [
           {
            "colorbar": {
             "outlinewidth": 0,
             "ticks": ""
            },
            "type": "contourcarpet"
           }
          ],
          "heatmap": [
           {
            "colorbar": {
             "outlinewidth": 0,
             "ticks": ""
            },
            "colorscale": [
             [
              0,
              "#0d0887"
             ],
             [
              0.1111111111111111,
              "#46039f"
             ],
             [
              0.2222222222222222,
              "#7201a8"
             ],
             [
              0.3333333333333333,
              "#9c179e"
             ],
             [
              0.4444444444444444,
              "#bd3786"
             ],
             [
              0.5555555555555556,
              "#d8576b"
             ],
             [
              0.6666666666666666,
              "#ed7953"
             ],
             [
              0.7777777777777778,
              "#fb9f3a"
             ],
             [
              0.8888888888888888,
              "#fdca26"
             ],
             [
              1,
              "#f0f921"
             ]
            ],
            "type": "heatmap"
           }
          ],
          "heatmapgl": [
           {
            "colorbar": {
             "outlinewidth": 0,
             "ticks": ""
            },
            "colorscale": [
             [
              0,
              "#0d0887"
             ],
             [
              0.1111111111111111,
              "#46039f"
             ],
             [
              0.2222222222222222,
              "#7201a8"
             ],
             [
              0.3333333333333333,
              "#9c179e"
             ],
             [
              0.4444444444444444,
              "#bd3786"
             ],
             [
              0.5555555555555556,
              "#d8576b"
             ],
             [
              0.6666666666666666,
              "#ed7953"
             ],
             [
              0.7777777777777778,
              "#fb9f3a"
             ],
             [
              0.8888888888888888,
              "#fdca26"
             ],
             [
              1,
              "#f0f921"
             ]
            ],
            "type": "heatmapgl"
           }
          ],
          "histogram": [
           {
            "marker": {
             "pattern": {
              "fillmode": "overlay",
              "size": 10,
              "solidity": 0.2
             }
            },
            "type": "histogram"
           }
          ],
          "histogram2d": [
           {
            "colorbar": {
             "outlinewidth": 0,
             "ticks": ""
            },
            "colorscale": [
             [
              0,
              "#0d0887"
             ],
             [
              0.1111111111111111,
              "#46039f"
             ],
             [
              0.2222222222222222,
              "#7201a8"
             ],
             [
              0.3333333333333333,
              "#9c179e"
             ],
             [
              0.4444444444444444,
              "#bd3786"
             ],
             [
              0.5555555555555556,
              "#d8576b"
             ],
             [
              0.6666666666666666,
              "#ed7953"
             ],
             [
              0.7777777777777778,
              "#fb9f3a"
             ],
             [
              0.8888888888888888,
              "#fdca26"
             ],
             [
              1,
              "#f0f921"
             ]
            ],
            "type": "histogram2d"
           }
          ],
          "histogram2dcontour": [
           {
            "colorbar": {
             "outlinewidth": 0,
             "ticks": ""
            },
            "colorscale": [
             [
              0,
              "#0d0887"
             ],
             [
              0.1111111111111111,
              "#46039f"
             ],
             [
              0.2222222222222222,
              "#7201a8"
             ],
             [
              0.3333333333333333,
              "#9c179e"
             ],
             [
              0.4444444444444444,
              "#bd3786"
             ],
             [
              0.5555555555555556,
              "#d8576b"
             ],
             [
              0.6666666666666666,
              "#ed7953"
             ],
             [
              0.7777777777777778,
              "#fb9f3a"
             ],
             [
              0.8888888888888888,
              "#fdca26"
             ],
             [
              1,
              "#f0f921"
             ]
            ],
            "type": "histogram2dcontour"
           }
          ],
          "mesh3d": [
           {
            "colorbar": {
             "outlinewidth": 0,
             "ticks": ""
            },
            "type": "mesh3d"
           }
          ],
          "parcoords": [
           {
            "line": {
             "colorbar": {
              "outlinewidth": 0,
              "ticks": ""
             }
            },
            "type": "parcoords"
           }
          ],
          "pie": [
           {
            "automargin": true,
            "type": "pie"
           }
          ],
          "scatter": [
           {
            "fillpattern": {
             "fillmode": "overlay",
             "size": 10,
             "solidity": 0.2
            },
            "type": "scatter"
           }
          ],
          "scatter3d": [
           {
            "line": {
             "colorbar": {
              "outlinewidth": 0,
              "ticks": ""
             }
            },
            "marker": {
             "colorbar": {
              "outlinewidth": 0,
              "ticks": ""
             }
            },
            "type": "scatter3d"
           }
          ],
          "scattercarpet": [
           {
            "marker": {
             "colorbar": {
              "outlinewidth": 0,
              "ticks": ""
             }
            },
            "type": "scattercarpet"
           }
          ],
          "scattergeo": [
           {
            "marker": {
             "colorbar": {
              "outlinewidth": 0,
              "ticks": ""
             }
            },
            "type": "scattergeo"
           }
          ],
          "scattergl": [
           {
            "marker": {
             "colorbar": {
              "outlinewidth": 0,
              "ticks": ""
             }
            },
            "type": "scattergl"
           }
          ],
          "scattermapbox": [
           {
            "marker": {
             "colorbar": {
              "outlinewidth": 0,
              "ticks": ""
             }
            },
            "type": "scattermapbox"
           }
          ],
          "scatterpolar": [
           {
            "marker": {
             "colorbar": {
              "outlinewidth": 0,
              "ticks": ""
             }
            },
            "type": "scatterpolar"
           }
          ],
          "scatterpolargl": [
           {
            "marker": {
             "colorbar": {
              "outlinewidth": 0,
              "ticks": ""
             }
            },
            "type": "scatterpolargl"
           }
          ],
          "scatterternary": [
           {
            "marker": {
             "colorbar": {
              "outlinewidth": 0,
              "ticks": ""
             }
            },
            "type": "scatterternary"
           }
          ],
          "surface": [
           {
            "colorbar": {
             "outlinewidth": 0,
             "ticks": ""
            },
            "colorscale": [
             [
              0,
              "#0d0887"
             ],
             [
              0.1111111111111111,
              "#46039f"
             ],
             [
              0.2222222222222222,
              "#7201a8"
             ],
             [
              0.3333333333333333,
              "#9c179e"
             ],
             [
              0.4444444444444444,
              "#bd3786"
             ],
             [
              0.5555555555555556,
              "#d8576b"
             ],
             [
              0.6666666666666666,
              "#ed7953"
             ],
             [
              0.7777777777777778,
              "#fb9f3a"
             ],
             [
              0.8888888888888888,
              "#fdca26"
             ],
             [
              1,
              "#f0f921"
             ]
            ],
            "type": "surface"
           }
          ],
          "table": [
           {
            "cells": {
             "fill": {
              "color": "#EBF0F8"
             },
             "line": {
              "color": "white"
             }
            },
            "header": {
             "fill": {
              "color": "#C8D4E3"
             },
             "line": {
              "color": "white"
             }
            },
            "type": "table"
           }
          ]
         },
         "layout": {
          "annotationdefaults": {
           "arrowcolor": "#2a3f5f",
           "arrowhead": 0,
           "arrowwidth": 1
          },
          "autotypenumbers": "strict",
          "coloraxis": {
           "colorbar": {
            "outlinewidth": 0,
            "ticks": ""
           }
          },
          "colorscale": {
           "diverging": [
            [
             0,
             "#8e0152"
            ],
            [
             0.1,
             "#c51b7d"
            ],
            [
             0.2,
             "#de77ae"
            ],
            [
             0.3,
             "#f1b6da"
            ],
            [
             0.4,
             "#fde0ef"
            ],
            [
             0.5,
             "#f7f7f7"
            ],
            [
             0.6,
             "#e6f5d0"
            ],
            [
             0.7,
             "#b8e186"
            ],
            [
             0.8,
             "#7fbc41"
            ],
            [
             0.9,
             "#4d9221"
            ],
            [
             1,
             "#276419"
            ]
           ],
           "sequential": [
            [
             0,
             "#0d0887"
            ],
            [
             0.1111111111111111,
             "#46039f"
            ],
            [
             0.2222222222222222,
             "#7201a8"
            ],
            [
             0.3333333333333333,
             "#9c179e"
            ],
            [
             0.4444444444444444,
             "#bd3786"
            ],
            [
             0.5555555555555556,
             "#d8576b"
            ],
            [
             0.6666666666666666,
             "#ed7953"
            ],
            [
             0.7777777777777778,
             "#fb9f3a"
            ],
            [
             0.8888888888888888,
             "#fdca26"
            ],
            [
             1,
             "#f0f921"
            ]
           ],
           "sequentialminus": [
            [
             0,
             "#0d0887"
            ],
            [
             0.1111111111111111,
             "#46039f"
            ],
            [
             0.2222222222222222,
             "#7201a8"
            ],
            [
             0.3333333333333333,
             "#9c179e"
            ],
            [
             0.4444444444444444,
             "#bd3786"
            ],
            [
             0.5555555555555556,
             "#d8576b"
            ],
            [
             0.6666666666666666,
             "#ed7953"
            ],
            [
             0.7777777777777778,
             "#fb9f3a"
            ],
            [
             0.8888888888888888,
             "#fdca26"
            ],
            [
             1,
             "#f0f921"
            ]
           ]
          },
          "colorway": [
           "#636efa",
           "#EF553B",
           "#00cc96",
           "#ab63fa",
           "#FFA15A",
           "#19d3f3",
           "#FF6692",
           "#B6E880",
           "#FF97FF",
           "#FECB52"
          ],
          "font": {
           "color": "#2a3f5f"
          },
          "geo": {
           "bgcolor": "white",
           "lakecolor": "white",
           "landcolor": "#E5ECF6",
           "showlakes": true,
           "showland": true,
           "subunitcolor": "white"
          },
          "hoverlabel": {
           "align": "left"
          },
          "hovermode": "closest",
          "mapbox": {
           "style": "light"
          },
          "paper_bgcolor": "white",
          "plot_bgcolor": "#E5ECF6",
          "polar": {
           "angularaxis": {
            "gridcolor": "white",
            "linecolor": "white",
            "ticks": ""
           },
           "bgcolor": "#E5ECF6",
           "radialaxis": {
            "gridcolor": "white",
            "linecolor": "white",
            "ticks": ""
           }
          },
          "scene": {
           "xaxis": {
            "backgroundcolor": "#E5ECF6",
            "gridcolor": "white",
            "gridwidth": 2,
            "linecolor": "white",
            "showbackground": true,
            "ticks": "",
            "zerolinecolor": "white"
           },
           "yaxis": {
            "backgroundcolor": "#E5ECF6",
            "gridcolor": "white",
            "gridwidth": 2,
            "linecolor": "white",
            "showbackground": true,
            "ticks": "",
            "zerolinecolor": "white"
           },
           "zaxis": {
            "backgroundcolor": "#E5ECF6",
            "gridcolor": "white",
            "gridwidth": 2,
            "linecolor": "white",
            "showbackground": true,
            "ticks": "",
            "zerolinecolor": "white"
           }
          },
          "shapedefaults": {
           "line": {
            "color": "#2a3f5f"
           }
          },
          "ternary": {
           "aaxis": {
            "gridcolor": "white",
            "linecolor": "white",
            "ticks": ""
           },
           "baxis": {
            "gridcolor": "white",
            "linecolor": "white",
            "ticks": ""
           },
           "bgcolor": "#E5ECF6",
           "caxis": {
            "gridcolor": "white",
            "linecolor": "white",
            "ticks": ""
           }
          },
          "title": {
           "x": 0.05
          },
          "xaxis": {
           "automargin": true,
           "gridcolor": "white",
           "linecolor": "white",
           "ticks": "",
           "title": {
            "standoff": 15
           },
           "zerolinecolor": "white",
           "zerolinewidth": 2
          },
          "yaxis": {
           "automargin": true,
           "gridcolor": "white",
           "linecolor": "white",
           "ticks": "",
           "title": {
            "standoff": 15
           },
           "zerolinecolor": "white",
           "zerolinewidth": 2
          }
         }
        },
        "title": {
         "text": "Average number of observations at Papa locations with at least 2 observations by year"
        },
        "width": 800
       }
      }
     },
     "metadata": {},
     "output_type": "display_data"
    }
   ],
   "source": [
    "px.scatter_map(\n",
    "    (data.count(\"time\") / NB_YEARS).to_dataframe().sum(axis=1).rename(\"count\").reset_index().query(\"count > 0\"),\n",
    "    lon=\"longitude\",\n",
    "    lat=\"latitude\",\n",
    "    color=\"count\",\n",
    "    size=\"count\",\n",
    ").update_layout(\n",
    "    title=f\"Average number of observations at {station} locations with at least {MINIMUM_OBS_BY_YEAR} observations by year\",\n",
    "    height=600,\n",
    "    width=800,\n",
    ")  # .update_traces(marker={\"size\": 20})"
   ]
  },
  {
   "cell_type": "markdown",
   "metadata": {},
   "source": [
    "## Group data by month\n"
   ]
  },
  {
   "cell_type": "code",
   "execution_count": 23,
   "metadata": {},
   "outputs": [
    {
     "data": {
      "text/html": [
       "<div><svg style=\"position: absolute; width: 0; height: 0; overflow: hidden\">\n",
       "<defs>\n",
       "<symbol id=\"icon-database\" viewBox=\"0 0 32 32\">\n",
       "<path d=\"M16 0c-8.837 0-16 2.239-16 5v4c0 2.761 7.163 5 16 5s16-2.239 16-5v-4c0-2.761-7.163-5-16-5z\"></path>\n",
       "<path d=\"M16 17c-8.837 0-16-2.239-16-5v6c0 2.761 7.163 5 16 5s16-2.239 16-5v-6c0 2.761-7.163 5-16 5z\"></path>\n",
       "<path d=\"M16 26c-8.837 0-16-2.239-16-5v6c0 2.761 7.163 5 16 5s16-2.239 16-5v-6c0 2.761-7.163 5-16 5z\"></path>\n",
       "</symbol>\n",
       "<symbol id=\"icon-file-text2\" viewBox=\"0 0 32 32\">\n",
       "<path d=\"M28.681 7.159c-0.694-0.947-1.662-2.053-2.724-3.116s-2.169-2.030-3.116-2.724c-1.612-1.182-2.393-1.319-2.841-1.319h-15.5c-1.378 0-2.5 1.121-2.5 2.5v27c0 1.378 1.122 2.5 2.5 2.5h23c1.378 0 2.5-1.122 2.5-2.5v-19.5c0-0.448-0.137-1.23-1.319-2.841zM24.543 5.457c0.959 0.959 1.712 1.825 2.268 2.543h-4.811v-4.811c0.718 0.556 1.584 1.309 2.543 2.268zM28 29.5c0 0.271-0.229 0.5-0.5 0.5h-23c-0.271 0-0.5-0.229-0.5-0.5v-27c0-0.271 0.229-0.5 0.5-0.5 0 0 15.499-0 15.5 0v7c0 0.552 0.448 1 1 1h7v19.5z\"></path>\n",
       "<path d=\"M23 26h-14c-0.552 0-1-0.448-1-1s0.448-1 1-1h14c0.552 0 1 0.448 1 1s-0.448 1-1 1z\"></path>\n",
       "<path d=\"M23 22h-14c-0.552 0-1-0.448-1-1s0.448-1 1-1h14c0.552 0 1 0.448 1 1s-0.448 1-1 1z\"></path>\n",
       "<path d=\"M23 18h-14c-0.552 0-1-0.448-1-1s0.448-1 1-1h14c0.552 0 1 0.448 1 1s-0.448 1-1 1z\"></path>\n",
       "</symbol>\n",
       "</defs>\n",
       "</svg>\n",
       "<style>/* CSS stylesheet for displaying xarray objects in jupyterlab.\n",
       " *\n",
       " */\n",
       "\n",
       ":root {\n",
       "  --xr-font-color0: var(--jp-content-font-color0, rgba(0, 0, 0, 1));\n",
       "  --xr-font-color2: var(--jp-content-font-color2, rgba(0, 0, 0, 0.54));\n",
       "  --xr-font-color3: var(--jp-content-font-color3, rgba(0, 0, 0, 0.38));\n",
       "  --xr-border-color: var(--jp-border-color2, #e0e0e0);\n",
       "  --xr-disabled-color: var(--jp-layout-color3, #bdbdbd);\n",
       "  --xr-background-color: var(--jp-layout-color0, white);\n",
       "  --xr-background-color-row-even: var(--jp-layout-color1, white);\n",
       "  --xr-background-color-row-odd: var(--jp-layout-color2, #eeeeee);\n",
       "}\n",
       "\n",
       "html[theme=\"dark\"],\n",
       "html[data-theme=\"dark\"],\n",
       "body[data-theme=\"dark\"],\n",
       "body.vscode-dark {\n",
       "  --xr-font-color0: rgba(255, 255, 255, 1);\n",
       "  --xr-font-color2: rgba(255, 255, 255, 0.54);\n",
       "  --xr-font-color3: rgba(255, 255, 255, 0.38);\n",
       "  --xr-border-color: #1f1f1f;\n",
       "  --xr-disabled-color: #515151;\n",
       "  --xr-background-color: #111111;\n",
       "  --xr-background-color-row-even: #111111;\n",
       "  --xr-background-color-row-odd: #313131;\n",
       "}\n",
       "\n",
       ".xr-wrap {\n",
       "  display: block !important;\n",
       "  min-width: 300px;\n",
       "  max-width: 700px;\n",
       "}\n",
       "\n",
       ".xr-text-repr-fallback {\n",
       "  /* fallback to plain text repr when CSS is not injected (untrusted notebook) */\n",
       "  display: none;\n",
       "}\n",
       "\n",
       ".xr-header {\n",
       "  padding-top: 6px;\n",
       "  padding-bottom: 6px;\n",
       "  margin-bottom: 4px;\n",
       "  border-bottom: solid 1px var(--xr-border-color);\n",
       "}\n",
       "\n",
       ".xr-header > div,\n",
       ".xr-header > ul {\n",
       "  display: inline;\n",
       "  margin-top: 0;\n",
       "  margin-bottom: 0;\n",
       "}\n",
       "\n",
       ".xr-obj-type,\n",
       ".xr-array-name {\n",
       "  margin-left: 2px;\n",
       "  margin-right: 10px;\n",
       "}\n",
       "\n",
       ".xr-obj-type {\n",
       "  color: var(--xr-font-color2);\n",
       "}\n",
       "\n",
       ".xr-sections {\n",
       "  padding-left: 0 !important;\n",
       "  display: grid;\n",
       "  grid-template-columns: 150px auto auto 1fr 0 20px 0 20px;\n",
       "}\n",
       "\n",
       ".xr-section-item {\n",
       "  display: contents;\n",
       "}\n",
       "\n",
       ".xr-section-item input {\n",
       "  display: inline-block;\n",
       "  opacity: 0;\n",
       "  height: 0;\n",
       "}\n",
       "\n",
       ".xr-section-item input + label {\n",
       "  color: var(--xr-disabled-color);\n",
       "}\n",
       "\n",
       ".xr-section-item input:enabled + label {\n",
       "  cursor: pointer;\n",
       "  color: var(--xr-font-color2);\n",
       "}\n",
       "\n",
       ".xr-section-item input:focus + label {\n",
       "  border: 2px solid var(--xr-font-color0);\n",
       "}\n",
       "\n",
       ".xr-section-item input:enabled + label:hover {\n",
       "  color: var(--xr-font-color0);\n",
       "}\n",
       "\n",
       ".xr-section-summary {\n",
       "  grid-column: 1;\n",
       "  color: var(--xr-font-color2);\n",
       "  font-weight: 500;\n",
       "}\n",
       "\n",
       ".xr-section-summary > span {\n",
       "  display: inline-block;\n",
       "  padding-left: 0.5em;\n",
       "}\n",
       "\n",
       ".xr-section-summary-in:disabled + label {\n",
       "  color: var(--xr-font-color2);\n",
       "}\n",
       "\n",
       ".xr-section-summary-in + label:before {\n",
       "  display: inline-block;\n",
       "  content: \"►\";\n",
       "  font-size: 11px;\n",
       "  width: 15px;\n",
       "  text-align: center;\n",
       "}\n",
       "\n",
       ".xr-section-summary-in:disabled + label:before {\n",
       "  color: var(--xr-disabled-color);\n",
       "}\n",
       "\n",
       ".xr-section-summary-in:checked + label:before {\n",
       "  content: \"▼\";\n",
       "}\n",
       "\n",
       ".xr-section-summary-in:checked + label > span {\n",
       "  display: none;\n",
       "}\n",
       "\n",
       ".xr-section-summary,\n",
       ".xr-section-inline-details {\n",
       "  padding-top: 4px;\n",
       "  padding-bottom: 4px;\n",
       "}\n",
       "\n",
       ".xr-section-inline-details {\n",
       "  grid-column: 2 / -1;\n",
       "}\n",
       "\n",
       ".xr-section-details {\n",
       "  display: none;\n",
       "  grid-column: 1 / -1;\n",
       "  margin-bottom: 5px;\n",
       "}\n",
       "\n",
       ".xr-section-summary-in:checked ~ .xr-section-details {\n",
       "  display: contents;\n",
       "}\n",
       "\n",
       ".xr-array-wrap {\n",
       "  grid-column: 1 / -1;\n",
       "  display: grid;\n",
       "  grid-template-columns: 20px auto;\n",
       "}\n",
       "\n",
       ".xr-array-wrap > label {\n",
       "  grid-column: 1;\n",
       "  vertical-align: top;\n",
       "}\n",
       "\n",
       ".xr-preview {\n",
       "  color: var(--xr-font-color3);\n",
       "}\n",
       "\n",
       ".xr-array-preview,\n",
       ".xr-array-data {\n",
       "  padding: 0 5px !important;\n",
       "  grid-column: 2;\n",
       "}\n",
       "\n",
       ".xr-array-data,\n",
       ".xr-array-in:checked ~ .xr-array-preview {\n",
       "  display: none;\n",
       "}\n",
       "\n",
       ".xr-array-in:checked ~ .xr-array-data,\n",
       ".xr-array-preview {\n",
       "  display: inline-block;\n",
       "}\n",
       "\n",
       ".xr-dim-list {\n",
       "  display: inline-block !important;\n",
       "  list-style: none;\n",
       "  padding: 0 !important;\n",
       "  margin: 0;\n",
       "}\n",
       "\n",
       ".xr-dim-list li {\n",
       "  display: inline-block;\n",
       "  padding: 0;\n",
       "  margin: 0;\n",
       "}\n",
       "\n",
       ".xr-dim-list:before {\n",
       "  content: \"(\";\n",
       "}\n",
       "\n",
       ".xr-dim-list:after {\n",
       "  content: \")\";\n",
       "}\n",
       "\n",
       ".xr-dim-list li:not(:last-child):after {\n",
       "  content: \",\";\n",
       "  padding-right: 5px;\n",
       "}\n",
       "\n",
       ".xr-has-index {\n",
       "  font-weight: bold;\n",
       "}\n",
       "\n",
       ".xr-var-list,\n",
       ".xr-var-item {\n",
       "  display: contents;\n",
       "}\n",
       "\n",
       ".xr-var-item > div,\n",
       ".xr-var-item label,\n",
       ".xr-var-item > .xr-var-name span {\n",
       "  background-color: var(--xr-background-color-row-even);\n",
       "  margin-bottom: 0;\n",
       "}\n",
       "\n",
       ".xr-var-item > .xr-var-name:hover span {\n",
       "  padding-right: 5px;\n",
       "}\n",
       "\n",
       ".xr-var-list > li:nth-child(odd) > div,\n",
       ".xr-var-list > li:nth-child(odd) > label,\n",
       ".xr-var-list > li:nth-child(odd) > .xr-var-name span {\n",
       "  background-color: var(--xr-background-color-row-odd);\n",
       "}\n",
       "\n",
       ".xr-var-name {\n",
       "  grid-column: 1;\n",
       "}\n",
       "\n",
       ".xr-var-dims {\n",
       "  grid-column: 2;\n",
       "}\n",
       "\n",
       ".xr-var-dtype {\n",
       "  grid-column: 3;\n",
       "  text-align: right;\n",
       "  color: var(--xr-font-color2);\n",
       "}\n",
       "\n",
       ".xr-var-preview {\n",
       "  grid-column: 4;\n",
       "}\n",
       "\n",
       ".xr-index-preview {\n",
       "  grid-column: 2 / 5;\n",
       "  color: var(--xr-font-color2);\n",
       "}\n",
       "\n",
       ".xr-var-name,\n",
       ".xr-var-dims,\n",
       ".xr-var-dtype,\n",
       ".xr-preview,\n",
       ".xr-attrs dt {\n",
       "  white-space: nowrap;\n",
       "  overflow: hidden;\n",
       "  text-overflow: ellipsis;\n",
       "  padding-right: 10px;\n",
       "}\n",
       "\n",
       ".xr-var-name:hover,\n",
       ".xr-var-dims:hover,\n",
       ".xr-var-dtype:hover,\n",
       ".xr-attrs dt:hover {\n",
       "  overflow: visible;\n",
       "  width: auto;\n",
       "  z-index: 1;\n",
       "}\n",
       "\n",
       ".xr-var-attrs,\n",
       ".xr-var-data,\n",
       ".xr-index-data {\n",
       "  display: none;\n",
       "  background-color: var(--xr-background-color) !important;\n",
       "  padding-bottom: 5px !important;\n",
       "}\n",
       "\n",
       ".xr-var-attrs-in:checked ~ .xr-var-attrs,\n",
       ".xr-var-data-in:checked ~ .xr-var-data,\n",
       ".xr-index-data-in:checked ~ .xr-index-data {\n",
       "  display: block;\n",
       "}\n",
       "\n",
       ".xr-var-data > table {\n",
       "  float: right;\n",
       "}\n",
       "\n",
       ".xr-var-name span,\n",
       ".xr-var-data,\n",
       ".xr-index-name div,\n",
       ".xr-index-data,\n",
       ".xr-attrs {\n",
       "  padding-left: 25px !important;\n",
       "}\n",
       "\n",
       ".xr-attrs,\n",
       ".xr-var-attrs,\n",
       ".xr-var-data,\n",
       ".xr-index-data {\n",
       "  grid-column: 1 / -1;\n",
       "}\n",
       "\n",
       "dl.xr-attrs {\n",
       "  padding: 0;\n",
       "  margin: 0;\n",
       "  display: grid;\n",
       "  grid-template-columns: 125px auto;\n",
       "}\n",
       "\n",
       ".xr-attrs dt,\n",
       ".xr-attrs dd {\n",
       "  padding: 0;\n",
       "  margin: 0;\n",
       "  float: left;\n",
       "  padding-right: 10px;\n",
       "  width: auto;\n",
       "}\n",
       "\n",
       ".xr-attrs dt {\n",
       "  font-weight: normal;\n",
       "  grid-column: 1;\n",
       "}\n",
       "\n",
       ".xr-attrs dt:hover span {\n",
       "  display: inline-block;\n",
       "  background: var(--xr-background-color);\n",
       "  padding-right: 10px;\n",
       "}\n",
       "\n",
       ".xr-attrs dd {\n",
       "  grid-column: 2;\n",
       "  white-space: pre-wrap;\n",
       "  word-break: break-all;\n",
       "}\n",
       "\n",
       ".xr-icon-database,\n",
       ".xr-icon-file-text2,\n",
       ".xr-no-icon {\n",
       "  display: inline-block;\n",
       "  vertical-align: middle;\n",
       "  width: 1em;\n",
       "  height: 1.5em !important;\n",
       "  stroke-width: 0;\n",
       "  stroke: currentColor;\n",
       "  fill: currentColor;\n",
       "}\n",
       "</style><pre class='xr-text-repr-fallback'>&lt;xarray.Dataset&gt; Size: 3kB\n",
       "Dimensions:    (latitude: 3, longitude: 5, month: 12)\n",
       "Coordinates:\n",
       "  * latitude   (latitude) float64 24B 48.5 49.5 50.5\n",
       "  * longitude  (longitude) float64 40B -138.5 -134.5 -130.5 -129.5 -128.5\n",
       "  * month      (month) int64 96B 1 2 3 4 5 6 7 8 9 10 11 12\n",
       "Data variables:\n",
       "    day        (month, latitude, longitude) float64 1kB nan nan ... nan nan\n",
       "    night      (month, latitude, longitude) float64 1kB nan nan nan ... nan nan</pre><div class='xr-wrap' style='display:none'><div class='xr-header'><div class='xr-obj-type'>xarray.Dataset</div></div><ul class='xr-sections'><li class='xr-section-item'><input id='section-0e054f39-a317-4b65-9fbf-1c1f2ca72db0' class='xr-section-summary-in' type='checkbox' disabled ><label for='section-0e054f39-a317-4b65-9fbf-1c1f2ca72db0' class='xr-section-summary'  title='Expand/collapse section'>Dimensions:</label><div class='xr-section-inline-details'><ul class='xr-dim-list'><li><span class='xr-has-index'>latitude</span>: 3</li><li><span class='xr-has-index'>longitude</span>: 5</li><li><span class='xr-has-index'>month</span>: 12</li></ul></div><div class='xr-section-details'></div></li><li class='xr-section-item'><input id='section-0d063378-d78c-4eba-be58-da0c5071d331' class='xr-section-summary-in' type='checkbox'  checked><label for='section-0d063378-d78c-4eba-be58-da0c5071d331' class='xr-section-summary' >Coordinates: <span>(3)</span></label><div class='xr-section-inline-details'></div><div class='xr-section-details'><ul class='xr-var-list'><li class='xr-var-item'><div class='xr-var-name'><span class='xr-has-index'>latitude</span></div><div class='xr-var-dims'>(latitude)</div><div class='xr-var-dtype'>float64</div><div class='xr-var-preview xr-preview'>48.5 49.5 50.5</div><input id='attrs-70c50125-933c-40da-91e2-125e9c2c1514' class='xr-var-attrs-in' type='checkbox' ><label for='attrs-70c50125-933c-40da-91e2-125e9c2c1514' title='Show/Hide attributes'><svg class='icon xr-icon-file-text2'><use xlink:href='#icon-file-text2'></use></svg></label><input id='data-a3b50e66-4f89-4892-a83d-55b5792e3ff5' class='xr-var-data-in' type='checkbox'><label for='data-a3b50e66-4f89-4892-a83d-55b5792e3ff5' title='Show/Hide data repr'><svg class='icon xr-icon-database'><use xlink:href='#icon-database'></use></svg></label><div class='xr-var-attrs'><dl class='xr-attrs'><dt><span>axis :</span></dt><dd>Y</dd><dt><span>long_name :</span></dt><dd>latitude</dd><dt><span>standard_name :</span></dt><dd>latitude</dd><dt><span>units :</span></dt><dd>degrees_north</dd></dl></div><div class='xr-var-data'><pre>array([48.5, 49.5, 50.5])</pre></div></li><li class='xr-var-item'><div class='xr-var-name'><span class='xr-has-index'>longitude</span></div><div class='xr-var-dims'>(longitude)</div><div class='xr-var-dtype'>float64</div><div class='xr-var-preview xr-preview'>-138.5 -134.5 -130.5 -129.5 -128.5</div><input id='attrs-adf4facf-2f2c-49d0-91d2-4ff18f731b1b' class='xr-var-attrs-in' type='checkbox' ><label for='attrs-adf4facf-2f2c-49d0-91d2-4ff18f731b1b' title='Show/Hide attributes'><svg class='icon xr-icon-file-text2'><use xlink:href='#icon-file-text2'></use></svg></label><input id='data-72daff92-3456-4c33-a9c2-a60ad8ebcdf1' class='xr-var-data-in' type='checkbox'><label for='data-72daff92-3456-4c33-a9c2-a60ad8ebcdf1' title='Show/Hide data repr'><svg class='icon xr-icon-database'><use xlink:href='#icon-database'></use></svg></label><div class='xr-var-attrs'><dl class='xr-attrs'><dt><span>axis :</span></dt><dd>X</dd><dt><span>long_name :</span></dt><dd>longitude</dd><dt><span>standard_name :</span></dt><dd>longitude</dd><dt><span>units :</span></dt><dd>degrees_east</dd></dl></div><div class='xr-var-data'><pre>array([-138.5, -134.5, -130.5, -129.5, -128.5])</pre></div></li><li class='xr-var-item'><div class='xr-var-name'><span class='xr-has-index'>month</span></div><div class='xr-var-dims'>(month)</div><div class='xr-var-dtype'>int64</div><div class='xr-var-preview xr-preview'>1 2 3 4 5 6 7 8 9 10 11 12</div><input id='attrs-7781b268-28df-4915-b64b-517d3defad99' class='xr-var-attrs-in' type='checkbox' disabled><label for='attrs-7781b268-28df-4915-b64b-517d3defad99' title='Show/Hide attributes'><svg class='icon xr-icon-file-text2'><use xlink:href='#icon-file-text2'></use></svg></label><input id='data-a7eb60b5-84e9-4d73-9307-b4e4fed7ef4a' class='xr-var-data-in' type='checkbox'><label for='data-a7eb60b5-84e9-4d73-9307-b4e4fed7ef4a' title='Show/Hide data repr'><svg class='icon xr-icon-database'><use xlink:href='#icon-database'></use></svg></label><div class='xr-var-attrs'><dl class='xr-attrs'></dl></div><div class='xr-var-data'><pre>array([ 1,  2,  3,  4,  5,  6,  7,  8,  9, 10, 11, 12])</pre></div></li></ul></div></li><li class='xr-section-item'><input id='section-6f530afe-a78b-4cc7-9bcd-60867b7c6ecb' class='xr-section-summary-in' type='checkbox'  checked><label for='section-6f530afe-a78b-4cc7-9bcd-60867b7c6ecb' class='xr-section-summary' >Data variables: <span>(2)</span></label><div class='xr-section-inline-details'></div><div class='xr-section-details'><ul class='xr-var-list'><li class='xr-var-item'><div class='xr-var-name'><span>day</span></div><div class='xr-var-dims'>(month, latitude, longitude)</div><div class='xr-var-dtype'>float64</div><div class='xr-var-preview xr-preview'>nan nan 1.922 nan ... nan nan nan</div><input id='attrs-3bf28730-3880-4ca1-be52-d2ff3d9d1ee7' class='xr-var-attrs-in' type='checkbox' ><label for='attrs-3bf28730-3880-4ca1-be52-d2ff3d9d1ee7' title='Show/Hide attributes'><svg class='icon xr-icon-file-text2'><use xlink:href='#icon-file-text2'></use></svg></label><input id='data-90468410-5dba-4842-a8ae-6d94abe0bf4b' class='xr-var-data-in' type='checkbox'><label for='data-90468410-5dba-4842-a8ae-6d94abe0bf4b' title='Show/Hide data repr'><svg class='icon xr-icon-database'><use xlink:href='#icon-database'></use></svg></label><div class='xr-var-attrs'><dl class='xr-attrs'><dt><span>description :</span></dt><dd>Zooplankton carbon weight by cube meter of sea water at day</dd><dt><span>units :</span></dt><dd>mg/m3</dd></dl></div><div class='xr-var-data'><pre>array([[[        nan,         nan,  1.922298  ,         nan,\n",
       "          7.518362  ],\n",
       "        [        nan,         nan,         nan,         nan,\n",
       "                 nan],\n",
       "        [        nan,         nan,         nan,         nan,\n",
       "                 nan]],\n",
       "\n",
       "       [[        nan,         nan,  4.59424533,         nan,\n",
       "          4.37041257],\n",
       "        [ 6.49142289,  4.74749429,         nan,         nan,\n",
       "                 nan],\n",
       "        [        nan,         nan,         nan,  1.981577  ,\n",
       "                 nan]],\n",
       "\n",
       "       [[        nan,         nan,         nan,         nan,\n",
       "                 nan],\n",
       "        [        nan,         nan,         nan,         nan,\n",
       "                 nan],\n",
       "        [        nan,         nan,         nan,  3.570532  ,\n",
       "                 nan]],\n",
       "...\n",
       "       [[        nan,         nan,         nan,         nan,\n",
       "         13.518208  ],\n",
       "        [        nan,         nan,         nan,         nan,\n",
       "                 nan],\n",
       "        [        nan,         nan,         nan,  4.217176  ,\n",
       "                 nan]],\n",
       "\n",
       "       [[        nan,         nan,         nan,         nan,\n",
       "                 nan],\n",
       "        [        nan,         nan,         nan,         nan,\n",
       "                 nan],\n",
       "        [        nan,         nan,         nan,         nan,\n",
       "                 nan]],\n",
       "\n",
       "       [[        nan,         nan,         nan,         nan,\n",
       "                 nan],\n",
       "        [        nan,         nan,         nan,         nan,\n",
       "                 nan],\n",
       "        [        nan,         nan,         nan,         nan,\n",
       "                 nan]]])</pre></div></li><li class='xr-var-item'><div class='xr-var-name'><span>night</span></div><div class='xr-var-dims'>(month, latitude, longitude)</div><div class='xr-var-dtype'>float64</div><div class='xr-var-preview xr-preview'>nan nan nan nan ... nan nan nan nan</div><input id='attrs-333a7fa4-fe50-4350-81d7-fa824fc0f0a6' class='xr-var-attrs-in' type='checkbox' ><label for='attrs-333a7fa4-fe50-4350-81d7-fa824fc0f0a6' title='Show/Hide attributes'><svg class='icon xr-icon-file-text2'><use xlink:href='#icon-file-text2'></use></svg></label><input id='data-c5428f91-c75c-499e-bcf7-6f37bb66a806' class='xr-var-data-in' type='checkbox'><label for='data-c5428f91-c75c-499e-bcf7-6f37bb66a806' title='Show/Hide data repr'><svg class='icon xr-icon-database'><use xlink:href='#icon-database'></use></svg></label><div class='xr-var-attrs'><dl class='xr-attrs'><dt><span>description :</span></dt><dd>Zooplankton carbon weight by cube meter of sea water at night</dd><dt><span>units :</span></dt><dd>mg/m3</dd></dl></div><div class='xr-var-data'><pre>array([[[        nan,         nan,         nan,         nan,\n",
       "                 nan],\n",
       "        [        nan,         nan,         nan,         nan,\n",
       "                 nan],\n",
       "        [        nan,         nan,         nan,         nan,\n",
       "                 nan]],\n",
       "\n",
       "       [[        nan,         nan,  4.217404  ,         nan,\n",
       "          7.029165  ],\n",
       "        [13.27981467,  8.38856533,         nan,         nan,\n",
       "                 nan],\n",
       "        [        nan,         nan,         nan,         nan,\n",
       "                 nan]],\n",
       "\n",
       "       [[        nan,         nan,         nan,         nan,\n",
       "                 nan],\n",
       "        [        nan,         nan,         nan,         nan,\n",
       "                 nan],\n",
       "        [        nan,         nan,         nan,         nan,\n",
       "                 nan]],\n",
       "...\n",
       "       [[        nan,         nan,         nan,         nan,\n",
       "                 nan],\n",
       "        [        nan,         nan,         nan,         nan,\n",
       "                 nan],\n",
       "        [        nan,         nan,         nan, 15.27825   ,\n",
       "                 nan]],\n",
       "\n",
       "       [[        nan,         nan,         nan,         nan,\n",
       "                 nan],\n",
       "        [        nan,         nan,         nan,         nan,\n",
       "                 nan],\n",
       "        [        nan,         nan,         nan,         nan,\n",
       "                 nan]],\n",
       "\n",
       "       [[        nan,         nan,         nan,         nan,\n",
       "                 nan],\n",
       "        [        nan,         nan,         nan,         nan,\n",
       "                 nan],\n",
       "        [        nan,         nan,         nan,         nan,\n",
       "                 nan]]])</pre></div></li></ul></div></li><li class='xr-section-item'><input id='section-82567f0d-34ee-432d-bb14-e35913d9a063' class='xr-section-summary-in' type='checkbox'  ><label for='section-82567f0d-34ee-432d-bb14-e35913d9a063' class='xr-section-summary' >Indexes: <span>(3)</span></label><div class='xr-section-inline-details'></div><div class='xr-section-details'><ul class='xr-var-list'><li class='xr-var-item'><div class='xr-index-name'><div>latitude</div></div><div class='xr-index-preview'>PandasIndex</div><input type='checkbox' disabled/><label></label><input id='index-5e4421e2-af69-42d0-87ad-9e0b8542328e' class='xr-index-data-in' type='checkbox'/><label for='index-5e4421e2-af69-42d0-87ad-9e0b8542328e' title='Show/Hide index repr'><svg class='icon xr-icon-database'><use xlink:href='#icon-database'></use></svg></label><div class='xr-index-data'><pre>PandasIndex(Index([48.5, 49.5, 50.5], dtype=&#x27;float64&#x27;, name=&#x27;latitude&#x27;))</pre></div></li><li class='xr-var-item'><div class='xr-index-name'><div>longitude</div></div><div class='xr-index-preview'>PandasIndex</div><input type='checkbox' disabled/><label></label><input id='index-4823735c-5a5d-4d2b-ac2e-7156704104aa' class='xr-index-data-in' type='checkbox'/><label for='index-4823735c-5a5d-4d2b-ac2e-7156704104aa' title='Show/Hide index repr'><svg class='icon xr-icon-database'><use xlink:href='#icon-database'></use></svg></label><div class='xr-index-data'><pre>PandasIndex(Index([-138.5, -134.5, -130.5, -129.5, -128.5], dtype=&#x27;float64&#x27;, name=&#x27;longitude&#x27;))</pre></div></li><li class='xr-var-item'><div class='xr-index-name'><div>month</div></div><div class='xr-index-preview'>PandasIndex</div><input type='checkbox' disabled/><label></label><input id='index-def76f4d-dcf4-432a-a041-4a50a1bdd8bd' class='xr-index-data-in' type='checkbox'/><label for='index-def76f4d-dcf4-432a-a041-4a50a1bdd8bd' title='Show/Hide index repr'><svg class='icon xr-icon-database'><use xlink:href='#icon-database'></use></svg></label><div class='xr-index-data'><pre>PandasIndex(Index([1, 2, 3, 4, 5, 6, 7, 8, 9, 10, 11, 12], dtype=&#x27;int64&#x27;, name=&#x27;month&#x27;))</pre></div></li></ul></div></li><li class='xr-section-item'><input id='section-46e26ae1-93c3-4138-8f0c-56ee4db42acf' class='xr-section-summary-in' type='checkbox' disabled ><label for='section-46e26ae1-93c3-4138-8f0c-56ee4db42acf' class='xr-section-summary'  title='Expand/collapse section'>Attributes: <span>(0)</span></label><div class='xr-section-inline-details'></div><div class='xr-section-details'><dl class='xr-attrs'></dl></div></li></ul></div></div>"
      ],
      "text/plain": [
       "<xarray.Dataset> Size: 3kB\n",
       "Dimensions:    (latitude: 3, longitude: 5, month: 12)\n",
       "Coordinates:\n",
       "  * latitude   (latitude) float64 24B 48.5 49.5 50.5\n",
       "  * longitude  (longitude) float64 40B -138.5 -134.5 -130.5 -129.5 -128.5\n",
       "  * month      (month) int64 96B 1 2 3 4 5 6 7 8 9 10 11 12\n",
       "Data variables:\n",
       "    day        (month, latitude, longitude) float64 1kB nan nan ... nan nan\n",
       "    night      (month, latitude, longitude) float64 1kB nan nan nan ... nan nan"
      ]
     },
     "execution_count": 23,
     "metadata": {},
     "output_type": "execute_result"
    }
   ],
   "source": [
    "grouped_data = data.groupby(\"time.month\").mean().reindex(month=np.arange(1, 13))\n",
    "grouped_data"
   ]
  },
  {
   "cell_type": "code",
   "execution_count": 24,
   "metadata": {},
   "outputs": [
    {
     "data": {
      "application/vnd.plotly.v1+json": {
       "config": {
        "plotlyServerURL": "https://plot.ly"
       },
       "data": [
        {
         "alignmentgroup": "True",
         "boxpoints": "all",
         "hovertemplate": "is_day=day<br>month=%{x}<br>biomass=%{y}<extra></extra>",
         "legendgroup": "day",
         "marker": {
          "color": "#636efa"
         },
         "name": "day",
         "notched": false,
         "offsetgroup": "day",
         "orientation": "v",
         "showlegend": true,
         "type": "box",
         "x": [
          1,
          2,
          5,
          6,
          7,
          8,
          9,
          1,
          2,
          5,
          6,
          7,
          8,
          9,
          10,
          2,
          5,
          6,
          7,
          8,
          2,
          5,
          6,
          7,
          8,
          9,
          4,
          5,
          6,
          7,
          8,
          9,
          2,
          3,
          5,
          6,
          7,
          8,
          9,
          10
         ],
         "x0": " ",
         "xaxis": "x2",
         "y": [
          1.922298,
          4.594245333333333,
          22.036664000000002,
          17.831716,
          10.938344000000003,
          9.273755200000002,
          17.113236,
          7.518362000000001,
          4.370412571428572,
          10.886932,
          12.509391200000001,
          12.293432000000003,
          11.895804,
          6.031248,
          13.518208,
          6.491422888888889,
          23.396552000000003,
          17.311448571428574,
          15.427803999999998,
          9.406121333333333,
          4.7474942857142866,
          11.231912000000001,
          17.3235184,
          10.104572,
          10.552249142857141,
          6.793956,
          12.207764000000003,
          17.015822749999998,
          28.815328,
          5.245964000000001,
          9.73662,
          8.030180666666666,
          1.9815770000000001,
          3.570532,
          21.477591250000003,
          11.485983333333332,
          5.226848,
          7.321912,
          4.538624848484849,
          4.217176
         ],
         "y0": " ",
         "yaxis": "y2"
        },
        {
         "alignmentgroup": "True",
         "boxpoints": "all",
         "hovertemplate": "is_day=night<br>month=%{x}<br>biomass=%{y}<extra></extra>",
         "legendgroup": "night",
         "marker": {
          "color": "#EF553B"
         },
         "name": "night",
         "notched": false,
         "offsetgroup": "night",
         "orientation": "v",
         "showlegend": true,
         "type": "box",
         "x": [
          2,
          6,
          8,
          9,
          2,
          6,
          8,
          2,
          6,
          8,
          9,
          2,
          6,
          8,
          5,
          9,
          4,
          5,
          9,
          10
         ],
         "x0": " ",
         "xaxis": "x",
         "y": [
          4.217403999999999,
          24.407764,
          16.924521333333335,
          4.943296,
          7.029164999999999,
          11.723655999999998,
          8.536888000000001,
          13.279814666666667,
          13.006266000000004,
          23.814946666666668,
          5.0785160000000005,
          8.388565333333334,
          27.04038,
          16.527985,
          8.576712,
          14.173242400000001,
          7.553700000000001,
          11.359774000000003,
          8.541311333333333,
          15.278250000000002
         ],
         "y0": " ",
         "yaxis": "y"
        }
       ],
       "layout": {
        "annotations": [
         {
          "font": {},
          "showarrow": false,
          "text": "is_day=night",
          "textangle": 90,
          "x": 0.98,
          "xanchor": "left",
          "xref": "paper",
          "y": 0.2425,
          "yanchor": "middle",
          "yref": "paper"
         },
         {
          "font": {},
          "showarrow": false,
          "text": "is_day=day",
          "textangle": 90,
          "x": 0.98,
          "xanchor": "left",
          "xref": "paper",
          "y": 0.7575000000000001,
          "yanchor": "middle",
          "yref": "paper"
         }
        ],
        "boxmode": "group",
        "height": 700,
        "legend": {
         "title": {
          "text": "is_day"
         },
         "tracegroupgap": 0
        },
        "template": {
         "data": {
          "bar": [
           {
            "error_x": {
             "color": "#2a3f5f"
            },
            "error_y": {
             "color": "#2a3f5f"
            },
            "marker": {
             "line": {
              "color": "#E5ECF6",
              "width": 0.5
             },
             "pattern": {
              "fillmode": "overlay",
              "size": 10,
              "solidity": 0.2
             }
            },
            "type": "bar"
           }
          ],
          "barpolar": [
           {
            "marker": {
             "line": {
              "color": "#E5ECF6",
              "width": 0.5
             },
             "pattern": {
              "fillmode": "overlay",
              "size": 10,
              "solidity": 0.2
             }
            },
            "type": "barpolar"
           }
          ],
          "carpet": [
           {
            "aaxis": {
             "endlinecolor": "#2a3f5f",
             "gridcolor": "white",
             "linecolor": "white",
             "minorgridcolor": "white",
             "startlinecolor": "#2a3f5f"
            },
            "baxis": {
             "endlinecolor": "#2a3f5f",
             "gridcolor": "white",
             "linecolor": "white",
             "minorgridcolor": "white",
             "startlinecolor": "#2a3f5f"
            },
            "type": "carpet"
           }
          ],
          "choropleth": [
           {
            "colorbar": {
             "outlinewidth": 0,
             "ticks": ""
            },
            "type": "choropleth"
           }
          ],
          "contour": [
           {
            "colorbar": {
             "outlinewidth": 0,
             "ticks": ""
            },
            "colorscale": [
             [
              0,
              "#0d0887"
             ],
             [
              0.1111111111111111,
              "#46039f"
             ],
             [
              0.2222222222222222,
              "#7201a8"
             ],
             [
              0.3333333333333333,
              "#9c179e"
             ],
             [
              0.4444444444444444,
              "#bd3786"
             ],
             [
              0.5555555555555556,
              "#d8576b"
             ],
             [
              0.6666666666666666,
              "#ed7953"
             ],
             [
              0.7777777777777778,
              "#fb9f3a"
             ],
             [
              0.8888888888888888,
              "#fdca26"
             ],
             [
              1,
              "#f0f921"
             ]
            ],
            "type": "contour"
           }
          ],
          "contourcarpet": [
           {
            "colorbar": {
             "outlinewidth": 0,
             "ticks": ""
            },
            "type": "contourcarpet"
           }
          ],
          "heatmap": [
           {
            "colorbar": {
             "outlinewidth": 0,
             "ticks": ""
            },
            "colorscale": [
             [
              0,
              "#0d0887"
             ],
             [
              0.1111111111111111,
              "#46039f"
             ],
             [
              0.2222222222222222,
              "#7201a8"
             ],
             [
              0.3333333333333333,
              "#9c179e"
             ],
             [
              0.4444444444444444,
              "#bd3786"
             ],
             [
              0.5555555555555556,
              "#d8576b"
             ],
             [
              0.6666666666666666,
              "#ed7953"
             ],
             [
              0.7777777777777778,
              "#fb9f3a"
             ],
             [
              0.8888888888888888,
              "#fdca26"
             ],
             [
              1,
              "#f0f921"
             ]
            ],
            "type": "heatmap"
           }
          ],
          "heatmapgl": [
           {
            "colorbar": {
             "outlinewidth": 0,
             "ticks": ""
            },
            "colorscale": [
             [
              0,
              "#0d0887"
             ],
             [
              0.1111111111111111,
              "#46039f"
             ],
             [
              0.2222222222222222,
              "#7201a8"
             ],
             [
              0.3333333333333333,
              "#9c179e"
             ],
             [
              0.4444444444444444,
              "#bd3786"
             ],
             [
              0.5555555555555556,
              "#d8576b"
             ],
             [
              0.6666666666666666,
              "#ed7953"
             ],
             [
              0.7777777777777778,
              "#fb9f3a"
             ],
             [
              0.8888888888888888,
              "#fdca26"
             ],
             [
              1,
              "#f0f921"
             ]
            ],
            "type": "heatmapgl"
           }
          ],
          "histogram": [
           {
            "marker": {
             "pattern": {
              "fillmode": "overlay",
              "size": 10,
              "solidity": 0.2
             }
            },
            "type": "histogram"
           }
          ],
          "histogram2d": [
           {
            "colorbar": {
             "outlinewidth": 0,
             "ticks": ""
            },
            "colorscale": [
             [
              0,
              "#0d0887"
             ],
             [
              0.1111111111111111,
              "#46039f"
             ],
             [
              0.2222222222222222,
              "#7201a8"
             ],
             [
              0.3333333333333333,
              "#9c179e"
             ],
             [
              0.4444444444444444,
              "#bd3786"
             ],
             [
              0.5555555555555556,
              "#d8576b"
             ],
             [
              0.6666666666666666,
              "#ed7953"
             ],
             [
              0.7777777777777778,
              "#fb9f3a"
             ],
             [
              0.8888888888888888,
              "#fdca26"
             ],
             [
              1,
              "#f0f921"
             ]
            ],
            "type": "histogram2d"
           }
          ],
          "histogram2dcontour": [
           {
            "colorbar": {
             "outlinewidth": 0,
             "ticks": ""
            },
            "colorscale": [
             [
              0,
              "#0d0887"
             ],
             [
              0.1111111111111111,
              "#46039f"
             ],
             [
              0.2222222222222222,
              "#7201a8"
             ],
             [
              0.3333333333333333,
              "#9c179e"
             ],
             [
              0.4444444444444444,
              "#bd3786"
             ],
             [
              0.5555555555555556,
              "#d8576b"
             ],
             [
              0.6666666666666666,
              "#ed7953"
             ],
             [
              0.7777777777777778,
              "#fb9f3a"
             ],
             [
              0.8888888888888888,
              "#fdca26"
             ],
             [
              1,
              "#f0f921"
             ]
            ],
            "type": "histogram2dcontour"
           }
          ],
          "mesh3d": [
           {
            "colorbar": {
             "outlinewidth": 0,
             "ticks": ""
            },
            "type": "mesh3d"
           }
          ],
          "parcoords": [
           {
            "line": {
             "colorbar": {
              "outlinewidth": 0,
              "ticks": ""
             }
            },
            "type": "parcoords"
           }
          ],
          "pie": [
           {
            "automargin": true,
            "type": "pie"
           }
          ],
          "scatter": [
           {
            "fillpattern": {
             "fillmode": "overlay",
             "size": 10,
             "solidity": 0.2
            },
            "type": "scatter"
           }
          ],
          "scatter3d": [
           {
            "line": {
             "colorbar": {
              "outlinewidth": 0,
              "ticks": ""
             }
            },
            "marker": {
             "colorbar": {
              "outlinewidth": 0,
              "ticks": ""
             }
            },
            "type": "scatter3d"
           }
          ],
          "scattercarpet": [
           {
            "marker": {
             "colorbar": {
              "outlinewidth": 0,
              "ticks": ""
             }
            },
            "type": "scattercarpet"
           }
          ],
          "scattergeo": [
           {
            "marker": {
             "colorbar": {
              "outlinewidth": 0,
              "ticks": ""
             }
            },
            "type": "scattergeo"
           }
          ],
          "scattergl": [
           {
            "marker": {
             "colorbar": {
              "outlinewidth": 0,
              "ticks": ""
             }
            },
            "type": "scattergl"
           }
          ],
          "scattermapbox": [
           {
            "marker": {
             "colorbar": {
              "outlinewidth": 0,
              "ticks": ""
             }
            },
            "type": "scattermapbox"
           }
          ],
          "scatterpolar": [
           {
            "marker": {
             "colorbar": {
              "outlinewidth": 0,
              "ticks": ""
             }
            },
            "type": "scatterpolar"
           }
          ],
          "scatterpolargl": [
           {
            "marker": {
             "colorbar": {
              "outlinewidth": 0,
              "ticks": ""
             }
            },
            "type": "scatterpolargl"
           }
          ],
          "scatterternary": [
           {
            "marker": {
             "colorbar": {
              "outlinewidth": 0,
              "ticks": ""
             }
            },
            "type": "scatterternary"
           }
          ],
          "surface": [
           {
            "colorbar": {
             "outlinewidth": 0,
             "ticks": ""
            },
            "colorscale": [
             [
              0,
              "#0d0887"
             ],
             [
              0.1111111111111111,
              "#46039f"
             ],
             [
              0.2222222222222222,
              "#7201a8"
             ],
             [
              0.3333333333333333,
              "#9c179e"
             ],
             [
              0.4444444444444444,
              "#bd3786"
             ],
             [
              0.5555555555555556,
              "#d8576b"
             ],
             [
              0.6666666666666666,
              "#ed7953"
             ],
             [
              0.7777777777777778,
              "#fb9f3a"
             ],
             [
              0.8888888888888888,
              "#fdca26"
             ],
             [
              1,
              "#f0f921"
             ]
            ],
            "type": "surface"
           }
          ],
          "table": [
           {
            "cells": {
             "fill": {
              "color": "#EBF0F8"
             },
             "line": {
              "color": "white"
             }
            },
            "header": {
             "fill": {
              "color": "#C8D4E3"
             },
             "line": {
              "color": "white"
             }
            },
            "type": "table"
           }
          ]
         },
         "layout": {
          "annotationdefaults": {
           "arrowcolor": "#2a3f5f",
           "arrowhead": 0,
           "arrowwidth": 1
          },
          "autotypenumbers": "strict",
          "coloraxis": {
           "colorbar": {
            "outlinewidth": 0,
            "ticks": ""
           }
          },
          "colorscale": {
           "diverging": [
            [
             0,
             "#8e0152"
            ],
            [
             0.1,
             "#c51b7d"
            ],
            [
             0.2,
             "#de77ae"
            ],
            [
             0.3,
             "#f1b6da"
            ],
            [
             0.4,
             "#fde0ef"
            ],
            [
             0.5,
             "#f7f7f7"
            ],
            [
             0.6,
             "#e6f5d0"
            ],
            [
             0.7,
             "#b8e186"
            ],
            [
             0.8,
             "#7fbc41"
            ],
            [
             0.9,
             "#4d9221"
            ],
            [
             1,
             "#276419"
            ]
           ],
           "sequential": [
            [
             0,
             "#0d0887"
            ],
            [
             0.1111111111111111,
             "#46039f"
            ],
            [
             0.2222222222222222,
             "#7201a8"
            ],
            [
             0.3333333333333333,
             "#9c179e"
            ],
            [
             0.4444444444444444,
             "#bd3786"
            ],
            [
             0.5555555555555556,
             "#d8576b"
            ],
            [
             0.6666666666666666,
             "#ed7953"
            ],
            [
             0.7777777777777778,
             "#fb9f3a"
            ],
            [
             0.8888888888888888,
             "#fdca26"
            ],
            [
             1,
             "#f0f921"
            ]
           ],
           "sequentialminus": [
            [
             0,
             "#0d0887"
            ],
            [
             0.1111111111111111,
             "#46039f"
            ],
            [
             0.2222222222222222,
             "#7201a8"
            ],
            [
             0.3333333333333333,
             "#9c179e"
            ],
            [
             0.4444444444444444,
             "#bd3786"
            ],
            [
             0.5555555555555556,
             "#d8576b"
            ],
            [
             0.6666666666666666,
             "#ed7953"
            ],
            [
             0.7777777777777778,
             "#fb9f3a"
            ],
            [
             0.8888888888888888,
             "#fdca26"
            ],
            [
             1,
             "#f0f921"
            ]
           ]
          },
          "colorway": [
           "#636efa",
           "#EF553B",
           "#00cc96",
           "#ab63fa",
           "#FFA15A",
           "#19d3f3",
           "#FF6692",
           "#B6E880",
           "#FF97FF",
           "#FECB52"
          ],
          "font": {
           "color": "#2a3f5f"
          },
          "geo": {
           "bgcolor": "white",
           "lakecolor": "white",
           "landcolor": "#E5ECF6",
           "showlakes": true,
           "showland": true,
           "subunitcolor": "white"
          },
          "hoverlabel": {
           "align": "left"
          },
          "hovermode": "closest",
          "mapbox": {
           "style": "light"
          },
          "paper_bgcolor": "white",
          "plot_bgcolor": "#E5ECF6",
          "polar": {
           "angularaxis": {
            "gridcolor": "white",
            "linecolor": "white",
            "ticks": ""
           },
           "bgcolor": "#E5ECF6",
           "radialaxis": {
            "gridcolor": "white",
            "linecolor": "white",
            "ticks": ""
           }
          },
          "scene": {
           "xaxis": {
            "backgroundcolor": "#E5ECF6",
            "gridcolor": "white",
            "gridwidth": 2,
            "linecolor": "white",
            "showbackground": true,
            "ticks": "",
            "zerolinecolor": "white"
           },
           "yaxis": {
            "backgroundcolor": "#E5ECF6",
            "gridcolor": "white",
            "gridwidth": 2,
            "linecolor": "white",
            "showbackground": true,
            "ticks": "",
            "zerolinecolor": "white"
           },
           "zaxis": {
            "backgroundcolor": "#E5ECF6",
            "gridcolor": "white",
            "gridwidth": 2,
            "linecolor": "white",
            "showbackground": true,
            "ticks": "",
            "zerolinecolor": "white"
           }
          },
          "shapedefaults": {
           "line": {
            "color": "#2a3f5f"
           }
          },
          "ternary": {
           "aaxis": {
            "gridcolor": "white",
            "linecolor": "white",
            "ticks": ""
           },
           "baxis": {
            "gridcolor": "white",
            "linecolor": "white",
            "ticks": ""
           },
           "bgcolor": "#E5ECF6",
           "caxis": {
            "gridcolor": "white",
            "linecolor": "white",
            "ticks": ""
           }
          },
          "title": {
           "x": 0.05
          },
          "xaxis": {
           "automargin": true,
           "gridcolor": "white",
           "linecolor": "white",
           "ticks": "",
           "title": {
            "standoff": 15
           },
           "zerolinecolor": "white",
           "zerolinewidth": 2
          },
          "yaxis": {
           "automargin": true,
           "gridcolor": "white",
           "linecolor": "white",
           "ticks": "",
           "title": {
            "standoff": 15
           },
           "zerolinecolor": "white",
           "zerolinewidth": 2
          }
         }
        },
        "title": {
         "text": "Biomass at Papa by month"
        },
        "xaxis": {
         "anchor": "y",
         "domain": [
          0,
          0.98
         ],
         "ticktext": [
          "Jan",
          "Feb",
          "Mar",
          "Apr",
          "May",
          "Jun",
          "Jul",
          "Aug",
          "Sep",
          "Oct",
          "Nov",
          "Dec"
         ],
         "tickvals": [
          1,
          2,
          3,
          4,
          5,
          6,
          7,
          8,
          9,
          10,
          11,
          12
         ],
         "title": {
          "text": "month"
         }
        },
        "xaxis2": {
         "anchor": "y2",
         "domain": [
          0,
          0.98
         ],
         "matches": "x",
         "showticklabels": false,
         "ticktext": [
          "Jan",
          "Feb",
          "Mar",
          "Apr",
          "May",
          "Jun",
          "Jul",
          "Aug",
          "Sep",
          "Oct",
          "Nov",
          "Dec"
         ],
         "tickvals": [
          1,
          2,
          3,
          4,
          5,
          6,
          7,
          8,
          9,
          10,
          11,
          12
         ]
        },
        "yaxis": {
         "anchor": "x",
         "domain": [
          0,
          0.485
         ],
         "title": {
          "text": "biomass"
         }
        },
        "yaxis2": {
         "anchor": "x2",
         "domain": [
          0.515,
          1
         ],
         "matches": "y",
         "title": {
          "text": "biomass"
         }
        }
       }
      }
     },
     "metadata": {},
     "output_type": "display_data"
    }
   ],
   "source": [
    "px.box(\n",
    "    grouped_data.to_dataframe().stack().rename(\"biomass\").reset_index().rename(columns={\"level_3\": \"is_day\"}),\n",
    "    x=\"month\",\n",
    "    y=\"biomass\",\n",
    "    color=\"is_day\",\n",
    "    title=f\"Biomass at {station} by month\",\n",
    "    points=\"all\",\n",
    "    facet_row=\"is_day\",\n",
    ").update_xaxes(\n",
    "    tickvals=np.arange(1, 13),\n",
    "    ticktext=[\"Jan\", \"Feb\", \"Mar\", \"Apr\", \"May\", \"Jun\", \"Jul\", \"Aug\", \"Sep\", \"Oct\", \"Nov\", \"Dec\"],\n",
    ").update_layout(\n",
    "    height=700,\n",
    ").show()"
   ]
  },
  {
   "cell_type": "markdown",
   "metadata": {},
   "source": [
    "## Duplicating observation across the entire time period\n"
   ]
  },
  {
   "cell_type": "code",
   "execution_count": 25,
   "metadata": {},
   "outputs": [
    {
     "data": {
      "text/html": [
       "<div><svg style=\"position: absolute; width: 0; height: 0; overflow: hidden\">\n",
       "<defs>\n",
       "<symbol id=\"icon-database\" viewBox=\"0 0 32 32\">\n",
       "<path d=\"M16 0c-8.837 0-16 2.239-16 5v4c0 2.761 7.163 5 16 5s16-2.239 16-5v-4c0-2.761-7.163-5-16-5z\"></path>\n",
       "<path d=\"M16 17c-8.837 0-16-2.239-16-5v6c0 2.761 7.163 5 16 5s16-2.239 16-5v-6c0 2.761-7.163 5-16 5z\"></path>\n",
       "<path d=\"M16 26c-8.837 0-16-2.239-16-5v6c0 2.761 7.163 5 16 5s16-2.239 16-5v-6c0 2.761-7.163 5-16 5z\"></path>\n",
       "</symbol>\n",
       "<symbol id=\"icon-file-text2\" viewBox=\"0 0 32 32\">\n",
       "<path d=\"M28.681 7.159c-0.694-0.947-1.662-2.053-2.724-3.116s-2.169-2.030-3.116-2.724c-1.612-1.182-2.393-1.319-2.841-1.319h-15.5c-1.378 0-2.5 1.121-2.5 2.5v27c0 1.378 1.122 2.5 2.5 2.5h23c1.378 0 2.5-1.122 2.5-2.5v-19.5c0-0.448-0.137-1.23-1.319-2.841zM24.543 5.457c0.959 0.959 1.712 1.825 2.268 2.543h-4.811v-4.811c0.718 0.556 1.584 1.309 2.543 2.268zM28 29.5c0 0.271-0.229 0.5-0.5 0.5h-23c-0.271 0-0.5-0.229-0.5-0.5v-27c0-0.271 0.229-0.5 0.5-0.5 0 0 15.499-0 15.5 0v7c0 0.552 0.448 1 1 1h7v19.5z\"></path>\n",
       "<path d=\"M23 26h-14c-0.552 0-1-0.448-1-1s0.448-1 1-1h14c0.552 0 1 0.448 1 1s-0.448 1-1 1z\"></path>\n",
       "<path d=\"M23 22h-14c-0.552 0-1-0.448-1-1s0.448-1 1-1h14c0.552 0 1 0.448 1 1s-0.448 1-1 1z\"></path>\n",
       "<path d=\"M23 18h-14c-0.552 0-1-0.448-1-1s0.448-1 1-1h14c0.552 0 1 0.448 1 1s-0.448 1-1 1z\"></path>\n",
       "</symbol>\n",
       "</defs>\n",
       "</svg>\n",
       "<style>/* CSS stylesheet for displaying xarray objects in jupyterlab.\n",
       " *\n",
       " */\n",
       "\n",
       ":root {\n",
       "  --xr-font-color0: var(--jp-content-font-color0, rgba(0, 0, 0, 1));\n",
       "  --xr-font-color2: var(--jp-content-font-color2, rgba(0, 0, 0, 0.54));\n",
       "  --xr-font-color3: var(--jp-content-font-color3, rgba(0, 0, 0, 0.38));\n",
       "  --xr-border-color: var(--jp-border-color2, #e0e0e0);\n",
       "  --xr-disabled-color: var(--jp-layout-color3, #bdbdbd);\n",
       "  --xr-background-color: var(--jp-layout-color0, white);\n",
       "  --xr-background-color-row-even: var(--jp-layout-color1, white);\n",
       "  --xr-background-color-row-odd: var(--jp-layout-color2, #eeeeee);\n",
       "}\n",
       "\n",
       "html[theme=\"dark\"],\n",
       "html[data-theme=\"dark\"],\n",
       "body[data-theme=\"dark\"],\n",
       "body.vscode-dark {\n",
       "  --xr-font-color0: rgba(255, 255, 255, 1);\n",
       "  --xr-font-color2: rgba(255, 255, 255, 0.54);\n",
       "  --xr-font-color3: rgba(255, 255, 255, 0.38);\n",
       "  --xr-border-color: #1f1f1f;\n",
       "  --xr-disabled-color: #515151;\n",
       "  --xr-background-color: #111111;\n",
       "  --xr-background-color-row-even: #111111;\n",
       "  --xr-background-color-row-odd: #313131;\n",
       "}\n",
       "\n",
       ".xr-wrap {\n",
       "  display: block !important;\n",
       "  min-width: 300px;\n",
       "  max-width: 700px;\n",
       "}\n",
       "\n",
       ".xr-text-repr-fallback {\n",
       "  /* fallback to plain text repr when CSS is not injected (untrusted notebook) */\n",
       "  display: none;\n",
       "}\n",
       "\n",
       ".xr-header {\n",
       "  padding-top: 6px;\n",
       "  padding-bottom: 6px;\n",
       "  margin-bottom: 4px;\n",
       "  border-bottom: solid 1px var(--xr-border-color);\n",
       "}\n",
       "\n",
       ".xr-header > div,\n",
       ".xr-header > ul {\n",
       "  display: inline;\n",
       "  margin-top: 0;\n",
       "  margin-bottom: 0;\n",
       "}\n",
       "\n",
       ".xr-obj-type,\n",
       ".xr-array-name {\n",
       "  margin-left: 2px;\n",
       "  margin-right: 10px;\n",
       "}\n",
       "\n",
       ".xr-obj-type {\n",
       "  color: var(--xr-font-color2);\n",
       "}\n",
       "\n",
       ".xr-sections {\n",
       "  padding-left: 0 !important;\n",
       "  display: grid;\n",
       "  grid-template-columns: 150px auto auto 1fr 0 20px 0 20px;\n",
       "}\n",
       "\n",
       ".xr-section-item {\n",
       "  display: contents;\n",
       "}\n",
       "\n",
       ".xr-section-item input {\n",
       "  display: inline-block;\n",
       "  opacity: 0;\n",
       "  height: 0;\n",
       "}\n",
       "\n",
       ".xr-section-item input + label {\n",
       "  color: var(--xr-disabled-color);\n",
       "}\n",
       "\n",
       ".xr-section-item input:enabled + label {\n",
       "  cursor: pointer;\n",
       "  color: var(--xr-font-color2);\n",
       "}\n",
       "\n",
       ".xr-section-item input:focus + label {\n",
       "  border: 2px solid var(--xr-font-color0);\n",
       "}\n",
       "\n",
       ".xr-section-item input:enabled + label:hover {\n",
       "  color: var(--xr-font-color0);\n",
       "}\n",
       "\n",
       ".xr-section-summary {\n",
       "  grid-column: 1;\n",
       "  color: var(--xr-font-color2);\n",
       "  font-weight: 500;\n",
       "}\n",
       "\n",
       ".xr-section-summary > span {\n",
       "  display: inline-block;\n",
       "  padding-left: 0.5em;\n",
       "}\n",
       "\n",
       ".xr-section-summary-in:disabled + label {\n",
       "  color: var(--xr-font-color2);\n",
       "}\n",
       "\n",
       ".xr-section-summary-in + label:before {\n",
       "  display: inline-block;\n",
       "  content: \"►\";\n",
       "  font-size: 11px;\n",
       "  width: 15px;\n",
       "  text-align: center;\n",
       "}\n",
       "\n",
       ".xr-section-summary-in:disabled + label:before {\n",
       "  color: var(--xr-disabled-color);\n",
       "}\n",
       "\n",
       ".xr-section-summary-in:checked + label:before {\n",
       "  content: \"▼\";\n",
       "}\n",
       "\n",
       ".xr-section-summary-in:checked + label > span {\n",
       "  display: none;\n",
       "}\n",
       "\n",
       ".xr-section-summary,\n",
       ".xr-section-inline-details {\n",
       "  padding-top: 4px;\n",
       "  padding-bottom: 4px;\n",
       "}\n",
       "\n",
       ".xr-section-inline-details {\n",
       "  grid-column: 2 / -1;\n",
       "}\n",
       "\n",
       ".xr-section-details {\n",
       "  display: none;\n",
       "  grid-column: 1 / -1;\n",
       "  margin-bottom: 5px;\n",
       "}\n",
       "\n",
       ".xr-section-summary-in:checked ~ .xr-section-details {\n",
       "  display: contents;\n",
       "}\n",
       "\n",
       ".xr-array-wrap {\n",
       "  grid-column: 1 / -1;\n",
       "  display: grid;\n",
       "  grid-template-columns: 20px auto;\n",
       "}\n",
       "\n",
       ".xr-array-wrap > label {\n",
       "  grid-column: 1;\n",
       "  vertical-align: top;\n",
       "}\n",
       "\n",
       ".xr-preview {\n",
       "  color: var(--xr-font-color3);\n",
       "}\n",
       "\n",
       ".xr-array-preview,\n",
       ".xr-array-data {\n",
       "  padding: 0 5px !important;\n",
       "  grid-column: 2;\n",
       "}\n",
       "\n",
       ".xr-array-data,\n",
       ".xr-array-in:checked ~ .xr-array-preview {\n",
       "  display: none;\n",
       "}\n",
       "\n",
       ".xr-array-in:checked ~ .xr-array-data,\n",
       ".xr-array-preview {\n",
       "  display: inline-block;\n",
       "}\n",
       "\n",
       ".xr-dim-list {\n",
       "  display: inline-block !important;\n",
       "  list-style: none;\n",
       "  padding: 0 !important;\n",
       "  margin: 0;\n",
       "}\n",
       "\n",
       ".xr-dim-list li {\n",
       "  display: inline-block;\n",
       "  padding: 0;\n",
       "  margin: 0;\n",
       "}\n",
       "\n",
       ".xr-dim-list:before {\n",
       "  content: \"(\";\n",
       "}\n",
       "\n",
       ".xr-dim-list:after {\n",
       "  content: \")\";\n",
       "}\n",
       "\n",
       ".xr-dim-list li:not(:last-child):after {\n",
       "  content: \",\";\n",
       "  padding-right: 5px;\n",
       "}\n",
       "\n",
       ".xr-has-index {\n",
       "  font-weight: bold;\n",
       "}\n",
       "\n",
       ".xr-var-list,\n",
       ".xr-var-item {\n",
       "  display: contents;\n",
       "}\n",
       "\n",
       ".xr-var-item > div,\n",
       ".xr-var-item label,\n",
       ".xr-var-item > .xr-var-name span {\n",
       "  background-color: var(--xr-background-color-row-even);\n",
       "  margin-bottom: 0;\n",
       "}\n",
       "\n",
       ".xr-var-item > .xr-var-name:hover span {\n",
       "  padding-right: 5px;\n",
       "}\n",
       "\n",
       ".xr-var-list > li:nth-child(odd) > div,\n",
       ".xr-var-list > li:nth-child(odd) > label,\n",
       ".xr-var-list > li:nth-child(odd) > .xr-var-name span {\n",
       "  background-color: var(--xr-background-color-row-odd);\n",
       "}\n",
       "\n",
       ".xr-var-name {\n",
       "  grid-column: 1;\n",
       "}\n",
       "\n",
       ".xr-var-dims {\n",
       "  grid-column: 2;\n",
       "}\n",
       "\n",
       ".xr-var-dtype {\n",
       "  grid-column: 3;\n",
       "  text-align: right;\n",
       "  color: var(--xr-font-color2);\n",
       "}\n",
       "\n",
       ".xr-var-preview {\n",
       "  grid-column: 4;\n",
       "}\n",
       "\n",
       ".xr-index-preview {\n",
       "  grid-column: 2 / 5;\n",
       "  color: var(--xr-font-color2);\n",
       "}\n",
       "\n",
       ".xr-var-name,\n",
       ".xr-var-dims,\n",
       ".xr-var-dtype,\n",
       ".xr-preview,\n",
       ".xr-attrs dt {\n",
       "  white-space: nowrap;\n",
       "  overflow: hidden;\n",
       "  text-overflow: ellipsis;\n",
       "  padding-right: 10px;\n",
       "}\n",
       "\n",
       ".xr-var-name:hover,\n",
       ".xr-var-dims:hover,\n",
       ".xr-var-dtype:hover,\n",
       ".xr-attrs dt:hover {\n",
       "  overflow: visible;\n",
       "  width: auto;\n",
       "  z-index: 1;\n",
       "}\n",
       "\n",
       ".xr-var-attrs,\n",
       ".xr-var-data,\n",
       ".xr-index-data {\n",
       "  display: none;\n",
       "  background-color: var(--xr-background-color) !important;\n",
       "  padding-bottom: 5px !important;\n",
       "}\n",
       "\n",
       ".xr-var-attrs-in:checked ~ .xr-var-attrs,\n",
       ".xr-var-data-in:checked ~ .xr-var-data,\n",
       ".xr-index-data-in:checked ~ .xr-index-data {\n",
       "  display: block;\n",
       "}\n",
       "\n",
       ".xr-var-data > table {\n",
       "  float: right;\n",
       "}\n",
       "\n",
       ".xr-var-name span,\n",
       ".xr-var-data,\n",
       ".xr-index-name div,\n",
       ".xr-index-data,\n",
       ".xr-attrs {\n",
       "  padding-left: 25px !important;\n",
       "}\n",
       "\n",
       ".xr-attrs,\n",
       ".xr-var-attrs,\n",
       ".xr-var-data,\n",
       ".xr-index-data {\n",
       "  grid-column: 1 / -1;\n",
       "}\n",
       "\n",
       "dl.xr-attrs {\n",
       "  padding: 0;\n",
       "  margin: 0;\n",
       "  display: grid;\n",
       "  grid-template-columns: 125px auto;\n",
       "}\n",
       "\n",
       ".xr-attrs dt,\n",
       ".xr-attrs dd {\n",
       "  padding: 0;\n",
       "  margin: 0;\n",
       "  float: left;\n",
       "  padding-right: 10px;\n",
       "  width: auto;\n",
       "}\n",
       "\n",
       ".xr-attrs dt {\n",
       "  font-weight: normal;\n",
       "  grid-column: 1;\n",
       "}\n",
       "\n",
       ".xr-attrs dt:hover span {\n",
       "  display: inline-block;\n",
       "  background: var(--xr-background-color);\n",
       "  padding-right: 10px;\n",
       "}\n",
       "\n",
       ".xr-attrs dd {\n",
       "  grid-column: 2;\n",
       "  white-space: pre-wrap;\n",
       "  word-break: break-all;\n",
       "}\n",
       "\n",
       ".xr-icon-database,\n",
       ".xr-icon-file-text2,\n",
       ".xr-no-icon {\n",
       "  display: inline-block;\n",
       "  vertical-align: middle;\n",
       "  width: 1em;\n",
       "  height: 1.5em !important;\n",
       "  stroke-width: 0;\n",
       "  stroke: currentColor;\n",
       "  fill: currentColor;\n",
       "}\n",
       "</style><pre class='xr-text-repr-fallback'>&lt;xarray.Dataset&gt; Size: 39kB\n",
       "Dimensions:    (time: 156, latitude: 3, longitude: 5)\n",
       "Coordinates:\n",
       "  * time       (time) datetime64[ns] 1kB 2002-01-31 2002-02-28 ... 2014-12-31\n",
       "  * latitude   (latitude) float64 24B 48.5 49.5 50.5\n",
       "  * longitude  (longitude) float64 40B -138.5 -134.5 -130.5 -129.5 -128.5\n",
       "Data variables:\n",
       "    day        (time, latitude, longitude) float64 19kB nan nan ... nan nan\n",
       "    night      (time, latitude, longitude) float64 19kB nan nan nan ... nan nan\n",
       "Attributes:\n",
       "    desc:     Aggregated and smoothed observations using lowess filtre.</pre><div class='xr-wrap' style='display:none'><div class='xr-header'><div class='xr-obj-type'>xarray.Dataset</div></div><ul class='xr-sections'><li class='xr-section-item'><input id='section-aebdc8ed-9d57-4c11-a140-7891a67242cd' class='xr-section-summary-in' type='checkbox' disabled ><label for='section-aebdc8ed-9d57-4c11-a140-7891a67242cd' class='xr-section-summary'  title='Expand/collapse section'>Dimensions:</label><div class='xr-section-inline-details'><ul class='xr-dim-list'><li><span class='xr-has-index'>time</span>: 156</li><li><span class='xr-has-index'>latitude</span>: 3</li><li><span class='xr-has-index'>longitude</span>: 5</li></ul></div><div class='xr-section-details'></div></li><li class='xr-section-item'><input id='section-5fbd784e-8980-4491-ba42-fa737e0abd12' class='xr-section-summary-in' type='checkbox'  checked><label for='section-5fbd784e-8980-4491-ba42-fa737e0abd12' class='xr-section-summary' >Coordinates: <span>(3)</span></label><div class='xr-section-inline-details'></div><div class='xr-section-details'><ul class='xr-var-list'><li class='xr-var-item'><div class='xr-var-name'><span class='xr-has-index'>time</span></div><div class='xr-var-dims'>(time)</div><div class='xr-var-dtype'>datetime64[ns]</div><div class='xr-var-preview xr-preview'>2002-01-31 ... 2014-12-31</div><input id='attrs-86edce60-e54e-41b8-9875-ef5dbbcf7f62' class='xr-var-attrs-in' type='checkbox' disabled><label for='attrs-86edce60-e54e-41b8-9875-ef5dbbcf7f62' title='Show/Hide attributes'><svg class='icon xr-icon-file-text2'><use xlink:href='#icon-file-text2'></use></svg></label><input id='data-7e751c0d-b07c-4caa-86db-84cf684e9983' class='xr-var-data-in' type='checkbox'><label for='data-7e751c0d-b07c-4caa-86db-84cf684e9983' title='Show/Hide data repr'><svg class='icon xr-icon-database'><use xlink:href='#icon-database'></use></svg></label><div class='xr-var-attrs'><dl class='xr-attrs'></dl></div><div class='xr-var-data'><pre>array([&#x27;2002-01-31T00:00:00.000000000&#x27;, &#x27;2002-02-28T00:00:00.000000000&#x27;,\n",
       "       &#x27;2002-03-31T00:00:00.000000000&#x27;, &#x27;2002-04-30T00:00:00.000000000&#x27;,\n",
       "       &#x27;2002-05-31T00:00:00.000000000&#x27;, &#x27;2002-06-30T00:00:00.000000000&#x27;,\n",
       "       &#x27;2002-07-31T00:00:00.000000000&#x27;, &#x27;2002-08-31T00:00:00.000000000&#x27;,\n",
       "       &#x27;2002-09-30T00:00:00.000000000&#x27;, &#x27;2002-10-31T00:00:00.000000000&#x27;,\n",
       "       &#x27;2002-11-30T00:00:00.000000000&#x27;, &#x27;2002-12-31T00:00:00.000000000&#x27;,\n",
       "       &#x27;2003-01-31T00:00:00.000000000&#x27;, &#x27;2003-02-28T00:00:00.000000000&#x27;,\n",
       "       &#x27;2003-03-31T00:00:00.000000000&#x27;, &#x27;2003-04-30T00:00:00.000000000&#x27;,\n",
       "       &#x27;2003-05-31T00:00:00.000000000&#x27;, &#x27;2003-06-30T00:00:00.000000000&#x27;,\n",
       "       &#x27;2003-07-31T00:00:00.000000000&#x27;, &#x27;2003-08-31T00:00:00.000000000&#x27;,\n",
       "       &#x27;2003-09-30T00:00:00.000000000&#x27;, &#x27;2003-10-31T00:00:00.000000000&#x27;,\n",
       "       &#x27;2003-11-30T00:00:00.000000000&#x27;, &#x27;2003-12-31T00:00:00.000000000&#x27;,\n",
       "       &#x27;2004-01-31T00:00:00.000000000&#x27;, &#x27;2004-02-29T00:00:00.000000000&#x27;,\n",
       "       &#x27;2004-03-31T00:00:00.000000000&#x27;, &#x27;2004-04-30T00:00:00.000000000&#x27;,\n",
       "       &#x27;2004-05-31T00:00:00.000000000&#x27;, &#x27;2004-06-30T00:00:00.000000000&#x27;,\n",
       "       &#x27;2004-07-31T00:00:00.000000000&#x27;, &#x27;2004-08-31T00:00:00.000000000&#x27;,\n",
       "       &#x27;2004-09-30T00:00:00.000000000&#x27;, &#x27;2004-10-31T00:00:00.000000000&#x27;,\n",
       "       &#x27;2004-11-30T00:00:00.000000000&#x27;, &#x27;2004-12-31T00:00:00.000000000&#x27;,\n",
       "       &#x27;2005-01-31T00:00:00.000000000&#x27;, &#x27;2005-02-28T00:00:00.000000000&#x27;,\n",
       "       &#x27;2005-03-31T00:00:00.000000000&#x27;, &#x27;2005-04-30T00:00:00.000000000&#x27;,\n",
       "       &#x27;2005-05-31T00:00:00.000000000&#x27;, &#x27;2005-06-30T00:00:00.000000000&#x27;,\n",
       "       &#x27;2005-07-31T00:00:00.000000000&#x27;, &#x27;2005-08-31T00:00:00.000000000&#x27;,\n",
       "       &#x27;2005-09-30T00:00:00.000000000&#x27;, &#x27;2005-10-31T00:00:00.000000000&#x27;,\n",
       "       &#x27;2005-11-30T00:00:00.000000000&#x27;, &#x27;2005-12-31T00:00:00.000000000&#x27;,\n",
       "       &#x27;2006-01-31T00:00:00.000000000&#x27;, &#x27;2006-02-28T00:00:00.000000000&#x27;,\n",
       "       &#x27;2006-03-31T00:00:00.000000000&#x27;, &#x27;2006-04-30T00:00:00.000000000&#x27;,\n",
       "       &#x27;2006-05-31T00:00:00.000000000&#x27;, &#x27;2006-06-30T00:00:00.000000000&#x27;,\n",
       "       &#x27;2006-07-31T00:00:00.000000000&#x27;, &#x27;2006-08-31T00:00:00.000000000&#x27;,\n",
       "       &#x27;2006-09-30T00:00:00.000000000&#x27;, &#x27;2006-10-31T00:00:00.000000000&#x27;,\n",
       "       &#x27;2006-11-30T00:00:00.000000000&#x27;, &#x27;2006-12-31T00:00:00.000000000&#x27;,\n",
       "       &#x27;2007-01-31T00:00:00.000000000&#x27;, &#x27;2007-02-28T00:00:00.000000000&#x27;,\n",
       "       &#x27;2007-03-31T00:00:00.000000000&#x27;, &#x27;2007-04-30T00:00:00.000000000&#x27;,\n",
       "       &#x27;2007-05-31T00:00:00.000000000&#x27;, &#x27;2007-06-30T00:00:00.000000000&#x27;,\n",
       "       &#x27;2007-07-31T00:00:00.000000000&#x27;, &#x27;2007-08-31T00:00:00.000000000&#x27;,\n",
       "       &#x27;2007-09-30T00:00:00.000000000&#x27;, &#x27;2007-10-31T00:00:00.000000000&#x27;,\n",
       "       &#x27;2007-11-30T00:00:00.000000000&#x27;, &#x27;2007-12-31T00:00:00.000000000&#x27;,\n",
       "       &#x27;2008-01-31T00:00:00.000000000&#x27;, &#x27;2008-02-29T00:00:00.000000000&#x27;,\n",
       "       &#x27;2008-03-31T00:00:00.000000000&#x27;, &#x27;2008-04-30T00:00:00.000000000&#x27;,\n",
       "       &#x27;2008-05-31T00:00:00.000000000&#x27;, &#x27;2008-06-30T00:00:00.000000000&#x27;,\n",
       "       &#x27;2008-07-31T00:00:00.000000000&#x27;, &#x27;2008-08-31T00:00:00.000000000&#x27;,\n",
       "       &#x27;2008-09-30T00:00:00.000000000&#x27;, &#x27;2008-10-31T00:00:00.000000000&#x27;,\n",
       "       &#x27;2008-11-30T00:00:00.000000000&#x27;, &#x27;2008-12-31T00:00:00.000000000&#x27;,\n",
       "       &#x27;2009-01-31T00:00:00.000000000&#x27;, &#x27;2009-02-28T00:00:00.000000000&#x27;,\n",
       "       &#x27;2009-03-31T00:00:00.000000000&#x27;, &#x27;2009-04-30T00:00:00.000000000&#x27;,\n",
       "       &#x27;2009-05-31T00:00:00.000000000&#x27;, &#x27;2009-06-30T00:00:00.000000000&#x27;,\n",
       "       &#x27;2009-07-31T00:00:00.000000000&#x27;, &#x27;2009-08-31T00:00:00.000000000&#x27;,\n",
       "       &#x27;2009-09-30T00:00:00.000000000&#x27;, &#x27;2009-10-31T00:00:00.000000000&#x27;,\n",
       "       &#x27;2009-11-30T00:00:00.000000000&#x27;, &#x27;2009-12-31T00:00:00.000000000&#x27;,\n",
       "       &#x27;2010-01-31T00:00:00.000000000&#x27;, &#x27;2010-02-28T00:00:00.000000000&#x27;,\n",
       "       &#x27;2010-03-31T00:00:00.000000000&#x27;, &#x27;2010-04-30T00:00:00.000000000&#x27;,\n",
       "       &#x27;2010-05-31T00:00:00.000000000&#x27;, &#x27;2010-06-30T00:00:00.000000000&#x27;,\n",
       "       &#x27;2010-07-31T00:00:00.000000000&#x27;, &#x27;2010-08-31T00:00:00.000000000&#x27;,\n",
       "       &#x27;2010-09-30T00:00:00.000000000&#x27;, &#x27;2010-10-31T00:00:00.000000000&#x27;,\n",
       "       &#x27;2010-11-30T00:00:00.000000000&#x27;, &#x27;2010-12-31T00:00:00.000000000&#x27;,\n",
       "       &#x27;2011-01-31T00:00:00.000000000&#x27;, &#x27;2011-02-28T00:00:00.000000000&#x27;,\n",
       "       &#x27;2011-03-31T00:00:00.000000000&#x27;, &#x27;2011-04-30T00:00:00.000000000&#x27;,\n",
       "       &#x27;2011-05-31T00:00:00.000000000&#x27;, &#x27;2011-06-30T00:00:00.000000000&#x27;,\n",
       "       &#x27;2011-07-31T00:00:00.000000000&#x27;, &#x27;2011-08-31T00:00:00.000000000&#x27;,\n",
       "       &#x27;2011-09-30T00:00:00.000000000&#x27;, &#x27;2011-10-31T00:00:00.000000000&#x27;,\n",
       "       &#x27;2011-11-30T00:00:00.000000000&#x27;, &#x27;2011-12-31T00:00:00.000000000&#x27;,\n",
       "       &#x27;2012-01-31T00:00:00.000000000&#x27;, &#x27;2012-02-29T00:00:00.000000000&#x27;,\n",
       "       &#x27;2012-03-31T00:00:00.000000000&#x27;, &#x27;2012-04-30T00:00:00.000000000&#x27;,\n",
       "       &#x27;2012-05-31T00:00:00.000000000&#x27;, &#x27;2012-06-30T00:00:00.000000000&#x27;,\n",
       "       &#x27;2012-07-31T00:00:00.000000000&#x27;, &#x27;2012-08-31T00:00:00.000000000&#x27;,\n",
       "       &#x27;2012-09-30T00:00:00.000000000&#x27;, &#x27;2012-10-31T00:00:00.000000000&#x27;,\n",
       "       &#x27;2012-11-30T00:00:00.000000000&#x27;, &#x27;2012-12-31T00:00:00.000000000&#x27;,\n",
       "       &#x27;2013-01-31T00:00:00.000000000&#x27;, &#x27;2013-02-28T00:00:00.000000000&#x27;,\n",
       "       &#x27;2013-03-31T00:00:00.000000000&#x27;, &#x27;2013-04-30T00:00:00.000000000&#x27;,\n",
       "       &#x27;2013-05-31T00:00:00.000000000&#x27;, &#x27;2013-06-30T00:00:00.000000000&#x27;,\n",
       "       &#x27;2013-07-31T00:00:00.000000000&#x27;, &#x27;2013-08-31T00:00:00.000000000&#x27;,\n",
       "       &#x27;2013-09-30T00:00:00.000000000&#x27;, &#x27;2013-10-31T00:00:00.000000000&#x27;,\n",
       "       &#x27;2013-11-30T00:00:00.000000000&#x27;, &#x27;2013-12-31T00:00:00.000000000&#x27;,\n",
       "       &#x27;2014-01-31T00:00:00.000000000&#x27;, &#x27;2014-02-28T00:00:00.000000000&#x27;,\n",
       "       &#x27;2014-03-31T00:00:00.000000000&#x27;, &#x27;2014-04-30T00:00:00.000000000&#x27;,\n",
       "       &#x27;2014-05-31T00:00:00.000000000&#x27;, &#x27;2014-06-30T00:00:00.000000000&#x27;,\n",
       "       &#x27;2014-07-31T00:00:00.000000000&#x27;, &#x27;2014-08-31T00:00:00.000000000&#x27;,\n",
       "       &#x27;2014-09-30T00:00:00.000000000&#x27;, &#x27;2014-10-31T00:00:00.000000000&#x27;,\n",
       "       &#x27;2014-11-30T00:00:00.000000000&#x27;, &#x27;2014-12-31T00:00:00.000000000&#x27;],\n",
       "      dtype=&#x27;datetime64[ns]&#x27;)</pre></div></li><li class='xr-var-item'><div class='xr-var-name'><span class='xr-has-index'>latitude</span></div><div class='xr-var-dims'>(latitude)</div><div class='xr-var-dtype'>float64</div><div class='xr-var-preview xr-preview'>48.5 49.5 50.5</div><input id='attrs-9c1b16bc-40de-415c-8acf-502b90e97ebf' class='xr-var-attrs-in' type='checkbox' disabled><label for='attrs-9c1b16bc-40de-415c-8acf-502b90e97ebf' title='Show/Hide attributes'><svg class='icon xr-icon-file-text2'><use xlink:href='#icon-file-text2'></use></svg></label><input id='data-42232ca0-4a03-41ec-bab0-db3a1ecd3f40' class='xr-var-data-in' type='checkbox'><label for='data-42232ca0-4a03-41ec-bab0-db3a1ecd3f40' title='Show/Hide data repr'><svg class='icon xr-icon-database'><use xlink:href='#icon-database'></use></svg></label><div class='xr-var-attrs'><dl class='xr-attrs'></dl></div><div class='xr-var-data'><pre>array([48.5, 49.5, 50.5])</pre></div></li><li class='xr-var-item'><div class='xr-var-name'><span class='xr-has-index'>longitude</span></div><div class='xr-var-dims'>(longitude)</div><div class='xr-var-dtype'>float64</div><div class='xr-var-preview xr-preview'>-138.5 -134.5 -130.5 -129.5 -128.5</div><input id='attrs-abb20d73-ca27-448c-a48c-8fea26136b7b' class='xr-var-attrs-in' type='checkbox' disabled><label for='attrs-abb20d73-ca27-448c-a48c-8fea26136b7b' title='Show/Hide attributes'><svg class='icon xr-icon-file-text2'><use xlink:href='#icon-file-text2'></use></svg></label><input id='data-7e72a5c0-f2e3-462e-afb8-f22483738e4f' class='xr-var-data-in' type='checkbox'><label for='data-7e72a5c0-f2e3-462e-afb8-f22483738e4f' title='Show/Hide data repr'><svg class='icon xr-icon-database'><use xlink:href='#icon-database'></use></svg></label><div class='xr-var-attrs'><dl class='xr-attrs'></dl></div><div class='xr-var-data'><pre>array([-138.5, -134.5, -130.5, -129.5, -128.5])</pre></div></li></ul></div></li><li class='xr-section-item'><input id='section-c180b6e2-9bf8-483f-a10a-6ecbcf0e9c31' class='xr-section-summary-in' type='checkbox'  checked><label for='section-c180b6e2-9bf8-483f-a10a-6ecbcf0e9c31' class='xr-section-summary' >Data variables: <span>(2)</span></label><div class='xr-section-inline-details'></div><div class='xr-section-details'><ul class='xr-var-list'><li class='xr-var-item'><div class='xr-var-name'><span>day</span></div><div class='xr-var-dims'>(time, latitude, longitude)</div><div class='xr-var-dtype'>float64</div><div class='xr-var-preview xr-preview'>nan nan 1.922 nan ... nan nan nan</div><input id='attrs-057afdcf-5e4d-43a8-9c3a-b00701267bf1' class='xr-var-attrs-in' type='checkbox' ><label for='attrs-057afdcf-5e4d-43a8-9c3a-b00701267bf1' title='Show/Hide attributes'><svg class='icon xr-icon-file-text2'><use xlink:href='#icon-file-text2'></use></svg></label><input id='data-c98699ef-12ba-460a-8b0d-83a6e6fdd545' class='xr-var-data-in' type='checkbox'><label for='data-c98699ef-12ba-460a-8b0d-83a6e6fdd545' title='Show/Hide data repr'><svg class='icon xr-icon-database'><use xlink:href='#icon-database'></use></svg></label><div class='xr-var-attrs'><dl class='xr-attrs'><dt><span>units :</span></dt><dd>mg/m3</dd></dl></div><div class='xr-var-data'><pre>array([[[        nan,         nan,  1.922298  ,         nan,\n",
       "          7.518362  ],\n",
       "        [        nan,         nan,         nan,         nan,\n",
       "                 nan],\n",
       "        [        nan,         nan,         nan,         nan,\n",
       "                 nan]],\n",
       "\n",
       "       [[        nan,         nan,  4.59424533,         nan,\n",
       "          4.37041257],\n",
       "        [ 6.49142289,  4.74749429,         nan,         nan,\n",
       "                 nan],\n",
       "        [        nan,         nan,         nan,  1.981577  ,\n",
       "                 nan]],\n",
       "\n",
       "       [[        nan,         nan,         nan,         nan,\n",
       "                 nan],\n",
       "        [        nan,         nan,         nan,         nan,\n",
       "                 nan],\n",
       "        [        nan,         nan,         nan,  3.570532  ,\n",
       "                 nan]],\n",
       "...\n",
       "       [[        nan,         nan,         nan,         nan,\n",
       "         13.518208  ],\n",
       "        [        nan,         nan,         nan,         nan,\n",
       "                 nan],\n",
       "        [        nan,         nan,         nan,  4.217176  ,\n",
       "                 nan]],\n",
       "\n",
       "       [[        nan,         nan,         nan,         nan,\n",
       "                 nan],\n",
       "        [        nan,         nan,         nan,         nan,\n",
       "                 nan],\n",
       "        [        nan,         nan,         nan,         nan,\n",
       "                 nan]],\n",
       "\n",
       "       [[        nan,         nan,         nan,         nan,\n",
       "                 nan],\n",
       "        [        nan,         nan,         nan,         nan,\n",
       "                 nan],\n",
       "        [        nan,         nan,         nan,         nan,\n",
       "                 nan]]])</pre></div></li><li class='xr-var-item'><div class='xr-var-name'><span>night</span></div><div class='xr-var-dims'>(time, latitude, longitude)</div><div class='xr-var-dtype'>float64</div><div class='xr-var-preview xr-preview'>nan nan nan nan ... nan nan nan nan</div><input id='attrs-c1b3edd7-8c5a-40c4-a1c8-422b255e49ed' class='xr-var-attrs-in' type='checkbox' ><label for='attrs-c1b3edd7-8c5a-40c4-a1c8-422b255e49ed' title='Show/Hide attributes'><svg class='icon xr-icon-file-text2'><use xlink:href='#icon-file-text2'></use></svg></label><input id='data-cd53a23d-f71e-4c1e-a9c7-1d9cc60dd16d' class='xr-var-data-in' type='checkbox'><label for='data-cd53a23d-f71e-4c1e-a9c7-1d9cc60dd16d' title='Show/Hide data repr'><svg class='icon xr-icon-database'><use xlink:href='#icon-database'></use></svg></label><div class='xr-var-attrs'><dl class='xr-attrs'><dt><span>units :</span></dt><dd>mg/m3</dd></dl></div><div class='xr-var-data'><pre>array([[[        nan,         nan,         nan,         nan,\n",
       "                 nan],\n",
       "        [        nan,         nan,         nan,         nan,\n",
       "                 nan],\n",
       "        [        nan,         nan,         nan,         nan,\n",
       "                 nan]],\n",
       "\n",
       "       [[        nan,         nan,  4.217404  ,         nan,\n",
       "          7.029165  ],\n",
       "        [13.27981467,  8.38856533,         nan,         nan,\n",
       "                 nan],\n",
       "        [        nan,         nan,         nan,         nan,\n",
       "                 nan]],\n",
       "\n",
       "       [[        nan,         nan,         nan,         nan,\n",
       "                 nan],\n",
       "        [        nan,         nan,         nan,         nan,\n",
       "                 nan],\n",
       "        [        nan,         nan,         nan,         nan,\n",
       "                 nan]],\n",
       "...\n",
       "       [[        nan,         nan,         nan,         nan,\n",
       "                 nan],\n",
       "        [        nan,         nan,         nan,         nan,\n",
       "                 nan],\n",
       "        [        nan,         nan,         nan, 15.27825   ,\n",
       "                 nan]],\n",
       "\n",
       "       [[        nan,         nan,         nan,         nan,\n",
       "                 nan],\n",
       "        [        nan,         nan,         nan,         nan,\n",
       "                 nan],\n",
       "        [        nan,         nan,         nan,         nan,\n",
       "                 nan]],\n",
       "\n",
       "       [[        nan,         nan,         nan,         nan,\n",
       "                 nan],\n",
       "        [        nan,         nan,         nan,         nan,\n",
       "                 nan],\n",
       "        [        nan,         nan,         nan,         nan,\n",
       "                 nan]]])</pre></div></li></ul></div></li><li class='xr-section-item'><input id='section-6c97eabf-9baa-4290-83d9-58dea368bca4' class='xr-section-summary-in' type='checkbox'  ><label for='section-6c97eabf-9baa-4290-83d9-58dea368bca4' class='xr-section-summary' >Indexes: <span>(3)</span></label><div class='xr-section-inline-details'></div><div class='xr-section-details'><ul class='xr-var-list'><li class='xr-var-item'><div class='xr-index-name'><div>time</div></div><div class='xr-index-preview'>PandasIndex</div><input type='checkbox' disabled/><label></label><input id='index-8331b7eb-9334-4571-adf4-b61716202b3d' class='xr-index-data-in' type='checkbox'/><label for='index-8331b7eb-9334-4571-adf4-b61716202b3d' title='Show/Hide index repr'><svg class='icon xr-icon-database'><use xlink:href='#icon-database'></use></svg></label><div class='xr-index-data'><pre>PandasIndex(DatetimeIndex([&#x27;2002-01-31&#x27;, &#x27;2002-02-28&#x27;, &#x27;2002-03-31&#x27;, &#x27;2002-04-30&#x27;,\n",
       "               &#x27;2002-05-31&#x27;, &#x27;2002-06-30&#x27;, &#x27;2002-07-31&#x27;, &#x27;2002-08-31&#x27;,\n",
       "               &#x27;2002-09-30&#x27;, &#x27;2002-10-31&#x27;,\n",
       "               ...\n",
       "               &#x27;2014-03-31&#x27;, &#x27;2014-04-30&#x27;, &#x27;2014-05-31&#x27;, &#x27;2014-06-30&#x27;,\n",
       "               &#x27;2014-07-31&#x27;, &#x27;2014-08-31&#x27;, &#x27;2014-09-30&#x27;, &#x27;2014-10-31&#x27;,\n",
       "               &#x27;2014-11-30&#x27;, &#x27;2014-12-31&#x27;],\n",
       "              dtype=&#x27;datetime64[ns]&#x27;, name=&#x27;time&#x27;, length=156, freq=None))</pre></div></li><li class='xr-var-item'><div class='xr-index-name'><div>latitude</div></div><div class='xr-index-preview'>PandasIndex</div><input type='checkbox' disabled/><label></label><input id='index-fc8f2e4c-23fd-4192-a95e-9cafec9d3ad8' class='xr-index-data-in' type='checkbox'/><label for='index-fc8f2e4c-23fd-4192-a95e-9cafec9d3ad8' title='Show/Hide index repr'><svg class='icon xr-icon-database'><use xlink:href='#icon-database'></use></svg></label><div class='xr-index-data'><pre>PandasIndex(Index([48.5, 49.5, 50.5], dtype=&#x27;float64&#x27;, name=&#x27;latitude&#x27;))</pre></div></li><li class='xr-var-item'><div class='xr-index-name'><div>longitude</div></div><div class='xr-index-preview'>PandasIndex</div><input type='checkbox' disabled/><label></label><input id='index-0cfcad08-d08b-4c96-a101-0ec6aef15438' class='xr-index-data-in' type='checkbox'/><label for='index-0cfcad08-d08b-4c96-a101-0ec6aef15438' title='Show/Hide index repr'><svg class='icon xr-icon-database'><use xlink:href='#icon-database'></use></svg></label><div class='xr-index-data'><pre>PandasIndex(Index([-138.5, -134.5, -130.5, -129.5, -128.5], dtype=&#x27;float64&#x27;, name=&#x27;longitude&#x27;))</pre></div></li></ul></div></li><li class='xr-section-item'><input id='section-50c4bd81-0117-453b-85a7-0b1761430b86' class='xr-section-summary-in' type='checkbox'  checked><label for='section-50c4bd81-0117-453b-85a7-0b1761430b86' class='xr-section-summary' >Attributes: <span>(1)</span></label><div class='xr-section-inline-details'></div><div class='xr-section-details'><dl class='xr-attrs'><dt><span>desc :</span></dt><dd>Aggregated and smoothed observations using lowess filtre.</dd></dl></div></li></ul></div></div>"
      ],
      "text/plain": [
       "<xarray.Dataset> Size: 39kB\n",
       "Dimensions:    (time: 156, latitude: 3, longitude: 5)\n",
       "Coordinates:\n",
       "  * time       (time) datetime64[ns] 1kB 2002-01-31 2002-02-28 ... 2014-12-31\n",
       "  * latitude   (latitude) float64 24B 48.5 49.5 50.5\n",
       "  * longitude  (longitude) float64 40B -138.5 -134.5 -130.5 -129.5 -128.5\n",
       "Data variables:\n",
       "    day        (time, latitude, longitude) float64 19kB nan nan ... nan nan\n",
       "    night      (time, latitude, longitude) float64 19kB nan nan nan ... nan nan\n",
       "Attributes:\n",
       "    desc:     Aggregated and smoothed observations using lowess filtre."
      ]
     },
     "execution_count": 25,
     "metadata": {},
     "output_type": "execute_result"
    }
   ],
   "source": [
    "value_by_month = grouped_data.to_dataframe().reset_index().set_index(\"month\")\n",
    "\n",
    "time = pd.date_range(start=time_start, end=time_end, freq=\"ME\")\n",
    "month = time.month\n",
    "month_by_day = pd.DataFrame({\"month\": month}, index=time)\n",
    "\n",
    "aggregated_smoothed = month_by_day.join(value_by_month, on=\"month\").drop(columns=[\"month\"])\n",
    "aggregated_smoothed.index.name = \"time\"\n",
    "\n",
    "aggregated_smoothed = aggregated_smoothed.reset_index().set_index(\n",
    "    [\"time\", \"latitude\", \"longitude\"], verify_integrity=True\n",
    ")\n",
    "\n",
    "climato_observations = xr.Dataset.from_dataframe(aggregated_smoothed)\n",
    "for var in climato_observations:\n",
    "    climato_observations[var].attrs = {\"units\": \"mg/m3\"}\n",
    "climato_observations.attrs = {\n",
    "    \"desc\": \"Aggregated and smoothed observations using lowess filtre.\",\n",
    "}\n",
    "climato_observations"
   ]
  },
  {
   "cell_type": "markdown",
   "metadata": {},
   "source": [
    "## Plot final results\n"
   ]
  },
  {
   "cell_type": "code",
   "execution_count": 26,
   "metadata": {},
   "outputs": [
    {
     "data": {
      "application/vnd.plotly.v1+json": {
       "config": {
        "plotlyServerURL": "https://plot.ly"
       },
       "data": [
        {
         "mode": "lines",
         "name": "Initial Day Data",
         "type": "scatter",
         "x": [
          "2002-02-11T00:00:00.000000000",
          "2002-02-13T00:00:00.000000000",
          "2002-02-14T00:00:00.000000000",
          "2002-03-05T00:00:00.000000000",
          "2002-05-03T00:00:00.000000000",
          "2002-05-05T00:00:00.000000000",
          "2002-05-06T00:00:00.000000000",
          "2002-06-19T00:00:00.000000000",
          "2002-06-26T00:00:00.000000000",
          "2002-07-01T00:00:00.000000000",
          "2002-07-02T00:00:00.000000000",
          "2002-07-03T00:00:00.000000000",
          "2002-07-04T00:00:00.000000000",
          "2002-07-05T00:00:00.000000000",
          "2002-07-19T00:00:00.000000000",
          "2002-07-22T00:00:00.000000000",
          "2002-07-23T00:00:00.000000000",
          "2002-08-18T00:00:00.000000000",
          "2002-08-27T00:00:00.000000000",
          "2002-09-03T00:00:00.000000000",
          "2002-09-19T00:00:00.000000000",
          "2002-09-21T00:00:00.000000000",
          "2002-10-19T00:00:00.000000000",
          "2002-10-23T00:00:00.000000000",
          "2003-02-12T00:00:00.000000000",
          "2003-02-14T00:00:00.000000000",
          "2003-02-15T00:00:00.000000000",
          "2003-02-16T00:00:00.000000000",
          "2003-02-17T00:00:00.000000000",
          "2003-02-21T00:00:00.000000000",
          "2003-05-19T00:00:00.000000000",
          "2003-05-29T00:00:00.000000000",
          "2003-05-30T00:00:00.000000000",
          "2003-05-31T00:00:00.000000000",
          "2003-06-01T00:00:00.000000000",
          "2003-06-03T00:00:00.000000000",
          "2003-06-09T00:00:00.000000000",
          "2003-06-10T00:00:00.000000000",
          "2003-09-01T00:00:00.000000000",
          "2003-09-02T00:00:00.000000000",
          "2003-09-03T00:00:00.000000000",
          "2003-09-06T00:00:00.000000000",
          "2003-09-26T00:00:00.000000000",
          "2004-02-20T00:00:00.000000000",
          "2004-02-27T00:00:00.000000000",
          "2004-05-29T00:00:00.000000000",
          "2004-05-30T00:00:00.000000000",
          "2004-06-03T00:00:00.000000000",
          "2004-06-04T00:00:00.000000000",
          "2004-06-07T00:00:00.000000000",
          "2004-06-14T00:00:00.000000000",
          "2004-08-22T00:00:00.000000000",
          "2004-08-23T00:00:00.000000000",
          "2004-08-24T00:00:00.000000000",
          "2004-09-05T00:00:00.000000000",
          "2004-09-06T00:00:00.000000000",
          "2004-10-27T00:00:00.000000000",
          "2005-02-15T00:00:00.000000000",
          "2005-02-16T00:00:00.000000000",
          "2005-02-18T00:00:00.000000000",
          "2005-02-19T00:00:00.000000000",
          "2005-02-23T00:00:00.000000000",
          "2005-03-12T00:00:00.000000000",
          "2005-03-13T00:00:00.000000000",
          "2005-05-27T00:00:00.000000000",
          "2005-06-03T00:00:00.000000000",
          "2005-06-06T00:00:00.000000000",
          "2005-06-15T00:00:00.000000000",
          "2005-07-29T00:00:00.000000000",
          "2005-08-13T00:00:00.000000000",
          "2005-08-18T00:00:00.000000000",
          "2005-08-21T00:00:00.000000000",
          "2005-08-23T00:00:00.000000000",
          "2005-08-28T00:00:00.000000000",
          "2005-09-08T00:00:00.000000000",
          "2006-02-06T00:00:00.000000000",
          "2006-02-10T00:00:00.000000000",
          "2006-02-13T00:00:00.000000000",
          "2006-04-21T00:00:00.000000000",
          "2006-07-14T00:00:00.000000000",
          "2006-07-17T00:00:00.000000000",
          "2006-08-24T00:00:00.000000000",
          "2006-08-27T00:00:00.000000000",
          "2006-09-22T00:00:00.000000000",
          "2006-09-24T00:00:00.000000000",
          "2006-09-28T00:00:00.000000000",
          "2006-10-02T00:00:00.000000000",
          "2006-10-04T00:00:00.000000000",
          "2007-02-10T00:00:00.000000000",
          "2007-02-11T00:00:00.000000000",
          "2007-02-12T00:00:00.000000000",
          "2007-02-15T00:00:00.000000000",
          "2007-02-16T00:00:00.000000000",
          "2007-02-18T00:00:00.000000000",
          "2007-05-26T00:00:00.000000000",
          "2007-06-02T00:00:00.000000000",
          "2007-06-03T00:00:00.000000000",
          "2007-06-04T00:00:00.000000000",
          "2007-06-27T00:00:00.000000000",
          "2007-06-28T00:00:00.000000000",
          "2007-07-05T00:00:00.000000000",
          "2007-07-06T00:00:00.000000000",
          "2007-07-08T00:00:00.000000000",
          "2007-08-17T00:00:00.000000000",
          "2007-08-18T00:00:00.000000000",
          "2007-08-19T00:00:00.000000000",
          "2007-08-22T00:00:00.000000000",
          "2007-09-06T00:00:00.000000000",
          "2007-09-07T00:00:00.000000000",
          "2008-02-02T00:00:00.000000000",
          "2008-02-03T00:00:00.000000000",
          "2008-02-04T00:00:00.000000000",
          "2008-02-06T00:00:00.000000000",
          "2008-02-10T00:00:00.000000000",
          "2008-05-25T00:00:00.000000000",
          "2008-05-26T00:00:00.000000000",
          "2008-06-02T00:00:00.000000000",
          "2008-06-03T00:00:00.000000000",
          "2008-06-04T00:00:00.000000000",
          "2008-06-06T00:00:00.000000000",
          "2008-06-08T00:00:00.000000000",
          "2008-07-04T00:00:00.000000000",
          "2008-08-15T00:00:00.000000000",
          "2008-08-17T00:00:00.000000000",
          "2008-09-04T00:00:00.000000000",
          "2009-01-30T00:00:00.000000000",
          "2009-01-31T00:00:00.000000000",
          "2009-05-31T00:00:00.000000000",
          "2009-06-01T00:00:00.000000000",
          "2009-06-08T00:00:00.000000000",
          "2009-06-11T00:00:00.000000000",
          "2009-07-11T00:00:00.000000000",
          "2009-07-12T00:00:00.000000000",
          "2009-07-13T00:00:00.000000000",
          "2009-07-14T00:00:00.000000000",
          "2009-08-22T00:00:00.000000000",
          "2009-08-27T00:00:00.000000000",
          "2009-08-31T00:00:00.000000000",
          "2009-09-09T00:00:00.000000000",
          "2009-09-10T00:00:00.000000000",
          "2010-02-05T00:00:00.000000000",
          "2010-02-08T00:00:00.000000000",
          "2010-05-31T00:00:00.000000000",
          "2010-06-09T00:00:00.000000000",
          "2010-06-11T00:00:00.000000000",
          "2010-06-14T00:00:00.000000000",
          "2010-07-23T00:00:00.000000000",
          "2010-07-24T00:00:00.000000000",
          "2010-07-26T00:00:00.000000000",
          "2010-07-28T00:00:00.000000000",
          "2010-08-21T00:00:00.000000000",
          "2010-08-22T00:00:00.000000000",
          "2010-08-23T00:00:00.000000000",
          "2010-08-25T00:00:00.000000000",
          "2010-08-26T00:00:00.000000000",
          "2010-09-10T00:00:00.000000000",
          "2011-02-10T00:00:00.000000000",
          "2011-02-11T00:00:00.000000000",
          "2011-02-12T00:00:00.000000000",
          "2011-02-14T00:00:00.000000000",
          "2011-02-16T00:00:00.000000000",
          "2011-05-29T00:00:00.000000000",
          "2011-05-30T00:00:00.000000000",
          "2011-06-05T00:00:00.000000000",
          "2011-06-06T00:00:00.000000000",
          "2011-06-08T00:00:00.000000000",
          "2011-06-09T00:00:00.000000000",
          "2011-06-13T00:00:00.000000000",
          "2011-08-22T00:00:00.000000000",
          "2011-08-23T00:00:00.000000000",
          "2011-08-26T00:00:00.000000000",
          "2011-09-06T00:00:00.000000000",
          "2011-09-07T00:00:00.000000000",
          "2011-09-08T00:00:00.000000000",
          "2012-02-10T00:00:00.000000000",
          "2012-02-11T00:00:00.000000000",
          "2012-02-12T00:00:00.000000000",
          "2012-05-16T00:00:00.000000000",
          "2012-05-18T00:00:00.000000000",
          "2012-05-30T00:00:00.000000000",
          "2012-08-18T00:00:00.000000000",
          "2012-08-20T00:00:00.000000000",
          "2012-08-24T00:00:00.000000000",
          "2012-09-04T00:00:00.000000000",
          "2012-09-05T00:00:00.000000000",
          "2012-09-06T00:00:00.000000000",
          "2013-02-07T00:00:00.000000000",
          "2013-02-08T00:00:00.000000000",
          "2013-02-09T00:00:00.000000000",
          "2013-02-14T00:00:00.000000000",
          "2013-06-02T00:00:00.000000000",
          "2013-08-26T00:00:00.000000000",
          "2013-08-28T00:00:00.000000000",
          "2013-08-30T00:00:00.000000000",
          "2014-06-04T00:00:00.000000000",
          "2014-06-13T00:00:00.000000000",
          "2014-06-17T00:00:00.000000000",
          "2014-08-23T00:00:00.000000000",
          "2014-08-26T00:00:00.000000000",
          "2014-09-11T00:00:00.000000000",
          "2014-09-12T00:00:00.000000000"
         ],
         "xaxis": "x",
         "y": [
          2.5745,
          3.5394640000000006,
          2.4128760000000002,
          3.777444,
          18.346316000000005,
          34.862918,
          25.358924,
          11.224421,
          26.635399999999997,
          12.293432000000003,
          10.938344000000003,
          10.104572,
          15.427803999999998,
          9.980696,
          6.529312000000001,
          10.01453066666667,
          19.004692000000002,
          11.933005999999999,
          13.155780000000002,
          10.212576,
          3.954553333333333,
          6.321284,
          13.518208,
          2.477403,
          11.905679999999998,
          6.119952000000001,
          3.2322480000000002,
          1.8740900000000003,
          2.7748559999999998,
          2.932665,
          21.881480000000003,
          10.886932,
          22.036664000000002,
          11.231912000000001,
          15.262460000000003,
          15.821308,
          10.977236000000001,
          21.722504000000004,
          6.26736,
          17.113236,
          10.28228,
          9.016896000000001,
          2.3417480000000004,
          7.753348,
          3.211029,
          22.38143,
          4.4407760000000005,
          8.290508,
          11.656908000000001,
          9.33612,
          16.2015695,
          11.872224,
          6.0021840000000015,
          8.82446,
          5.093784000000001,
          19.973944000000003,
          8.370898,
          9.654028,
          9.610018,
          3.622963999999999,
          6.503660000000001,
          28.242255999999998,
          4.755917,
          5.226634666666667,
          24.896472000000003,
          11.642692000000002,
          8.775964,
          17.05496,
          5.245964000000001,
          3.6400799999999998,
          3.5966519999999997,
          14.236684,
          15.171199999999999,
          4.053676,
          3.5532719999999998,
          3.8461760000000007,
          4.955528,
          6.862068000000001,
          12.207764000000003,
          5.226848,
          16.066832,
          4.3718520000000005,
          9.73662,
          5.795135999999999,
          3.305632,
          5.086228,
          7.466452,
          6.353888000000001,
          9.948768000000001,
          5.427164000000001,
          6.3235,
          5.246288,
          3.923108,
          4.416568,
          31.31296799999999,
          16.963212000000002,
          15.496228000000002,
          19.963392000000002,
          7.636554,
          16.654768,
          19.599924,
          7.4446,
          25.069560000000003,
          3.742872,
          7.8506240000000025,
          4.622524,
          6.784676000000001,
          4.153964,
          3.9173000000000004,
          5.706860000000001,
          3.915396,
          3.6924359999999994,
          1.7812080000000003,
          2.090204,
          6.195027999999999,
          18.14402,
          10.673312000000001,
          33.473963999999995,
          31.7837,
          23.715619999999998,
          30.666815999999997,
          14.011404000000002,
          12.269492000000001,
          32.952904,
          8.238935999999999,
          7.518362000000001,
          1.922298,
          11.880586,
          20.294176,
          9.365196000000001,
          16.85128,
          17.958584000000002,
          13.370336000000002,
          16.622816,
          6.196400000000001,
          23.465044,
          9.909396000000001,
          5.919944000000001,
          5.505724000000001,
          4.069211999999999,
          1.16982,
          4.988588,
          9.832368,
          25.474452,
          19.339376,
          21.840792,
          3.8084360000000004,
          11.151328000000001,
          14.398976,
          30.792200000000005,
          15.144984000000001,
          9.236352,
          6.041036,
          7.472911999999998,
          12.373232000000002,
          3.337952,
          10.078164000000001,
          1.7423879999999998,
          1.1623920000000003,
          8.032816,
          2.851624,
          25.522636000000002,
          18.961014000000002,
          21.047252000000004,
          12.726760000000002,
          9.879340000000003,
          17.272048,
          25.829927999999995,
          4.970724000000001,
          13.029748000000001,
          13.520131999999998,
          14.979654,
          5.478324000000001,
          3.3551919999999997,
          2.357364,
          3.137868,
          3.5795559999999997,
          16.546792000000003,
          17.383584,
          23.396552000000003,
          7.9623680000000014,
          13.503672000000002,
          3.69118,
          7.203099999999999,
          5.842956000000001,
          4.5717680000000005,
          2.721696,
          9.194036,
          6.484636000000001,
          14.036696000000001,
          28.815328,
          5.7726999999999995,
          3.423836,
          10.268051999999999,
          5.178124,
          17.801416000000003,
          17.698059999999998,
          9.447208000000002,
          9.449088000000001,
          5.890536000000001,
          4.413296000000001
         ],
         "yaxis": "y"
        },
        {
         "mode": "lines",
         "name": "Initial Night Data",
         "type": "scatter",
         "x": [
          "2002-02-07T00:00:00.000000000",
          "2002-02-15T00:00:00.000000000",
          "2002-02-16T00:00:00.000000000",
          "2002-07-23T00:00:00.000000000",
          "2002-08-28T00:00:00.000000000",
          "2002-08-29T00:00:00.000000000",
          "2002-08-30T00:00:00.000000000",
          "2002-09-06T00:00:00.000000000",
          "2002-09-08T00:00:00.000000000",
          "2002-10-23T00:00:00.000000000",
          "2003-06-08T00:00:00.000000000",
          "2003-09-07T00:00:00.000000000",
          "2003-09-27T00:00:00.000000000",
          "2003-09-28T00:00:00.000000000",
          "2003-10-26T00:00:00.000000000",
          "2003-10-27T00:00:00.000000000",
          "2004-02-20T00:00:00.000000000",
          "2004-02-21T00:00:00.000000000",
          "2004-02-22T00:00:00.000000000",
          "2004-02-24T00:00:00.000000000",
          "2004-06-06T00:00:00.000000000",
          "2004-08-21T00:00:00.000000000",
          "2004-08-26T00:00:00.000000000",
          "2004-09-05T00:00:00.000000000",
          "2005-02-13T00:00:00.000000000",
          "2005-02-14T00:00:00.000000000",
          "2005-02-18T00:00:00.000000000",
          "2005-02-22T00:00:00.000000000",
          "2005-03-12T00:00:00.000000000",
          "2005-05-28T00:00:00.000000000",
          "2005-06-03T00:00:00.000000000",
          "2005-08-19T00:00:00.000000000",
          "2005-08-20T00:00:00.000000000",
          "2005-08-22T00:00:00.000000000",
          "2005-08-27T00:00:00.000000000",
          "2005-09-09T00:00:00.000000000",
          "2006-02-09T00:00:00.000000000",
          "2006-04-21T00:00:00.000000000",
          "2006-09-23T00:00:00.000000000",
          "2006-09-26T00:00:00.000000000",
          "2006-10-01T00:00:00.000000000",
          "2007-02-10T00:00:00.000000000",
          "2007-02-16T00:00:00.000000000",
          "2007-02-18T00:00:00.000000000",
          "2007-06-07T00:00:00.000000000",
          "2007-06-21T00:00:00.000000000",
          "2008-08-16T00:00:00.000000000",
          "2008-08-19T00:00:00.000000000",
          "2008-08-21T00:00:00.000000000",
          "2008-09-05T00:00:00.000000000",
          "2008-09-06T00:00:00.000000000",
          "2008-10-17T00:00:00.000000000",
          "2009-02-02T00:00:00.000000000",
          "2009-02-05T00:00:00.000000000",
          "2009-06-09T00:00:00.000000000",
          "2009-06-14T00:00:00.000000000",
          "2009-08-23T00:00:00.000000000",
          "2009-08-26T00:00:00.000000000",
          "2009-08-31T00:00:00.000000000",
          "2010-02-06T00:00:00.000000000",
          "2010-06-08T00:00:00.000000000",
          "2010-06-10T00:00:00.000000000",
          "2010-09-08T00:00:00.000000000",
          "2010-09-09T00:00:00.000000000",
          "2011-05-30T00:00:00.000000000",
          "2011-08-19T00:00:00.000000000",
          "2011-08-20T00:00:00.000000000",
          "2012-02-15T00:00:00.000000000",
          "2012-02-16T00:00:00.000000000",
          "2012-05-18T00:00:00.000000000",
          "2012-06-03T00:00:00.000000000",
          "2012-08-18T00:00:00.000000000",
          "2013-02-13T00:00:00.000000000",
          "2013-06-10T00:00:00.000000000",
          "2013-06-14T00:00:00.000000000",
          "2013-06-18T00:00:00.000000000",
          "2013-08-23T00:00:00.000000000",
          "2013-08-25T00:00:00.000000000",
          "2013-09-11T00:00:00.000000000",
          "2014-02-12T00:00:00.000000000",
          "2014-02-22T00:00:00.000000000",
          "2014-08-25T00:00:00.000000000",
          "2014-08-26T00:00:00.000000000",
          "2014-09-10T00:00:00.000000000",
          "2014-09-11T00:00:00.000000000"
         ],
         "xaxis": "x2",
         "y": [
          1.7196599999999997,
          17.015314000000004,
          7.450659999999999,
          13.2916,
          8.615091999999999,
          16.360152,
          26.954051999999997,
          14.818592000000002,
          17.618268,
          5.180768,
          23.838772000000006,
          27.700968000000003,
          13.578042,
          5.621664,
          5.854744,
          16.839516000000003,
          5.667267999999999,
          12.406780000000001,
          16.271604,
          5.545132000000001,
          9.725824000000001,
          7.843792,
          10.082,
          8.600224000000003,
          11.476751999999998,
          5.627008,
          18.10564,
          7.772691999999999,
          8.27766,
          8.576712,
          12.930955999999998,
          11.999952,
          22.552028000000004,
          12.275308000000003,
          14.871532,
          2.439196,
          7.605124,
          7.553700000000001,
          4.943296,
          5.0785160000000005,
          4.676896,
          4.428636,
          8.674871999999999,
          4.089356000000001,
          23.811128,
          19.388201000000002,
          35.080696,
          32.207640000000005,
          20.593720000000005,
          6.084928000000001,
          11.644352,
          2.6440319999999997,
          18.128995999999997,
          5.91377,
          24.407764,
          15.818324000000002,
          22.682332000000002,
          12.283148,
          14.667383999999998,
          5.153792000000001,
          16.403015999999997,
          27.04038,
          32.29084400000001,
          15.632968000000002,
          6.357728000000001,
          6.17774,
          4.59178,
          16.287272,
          5.438844,
          16.361820000000005,
          11.289439999999999,
          10.851455999999999,
          11.467464000000001,
          5.836996000000001,
          16.286708000000004,
          14.858072000000002,
          9.274564000000002,
          18.577276,
          7.462696000000001,
          6.544003999999998,
          5.305544,
          12.532376000000001,
          8.707148000000002,
          7.608912000000003,
          9.095327999999999
         ],
         "yaxis": "y2"
        },
        {
         "mode": "lines",
         "name": "day",
         "type": "scatter",
         "x": [
          "2002-01-31T00:00:00",
          "2002-02-28T00:00:00",
          "2002-03-31T00:00:00",
          "2002-04-30T00:00:00",
          "2002-05-31T00:00:00",
          "2002-06-30T00:00:00",
          "2002-07-31T00:00:00",
          "2002-08-31T00:00:00",
          "2002-09-30T00:00:00",
          "2002-10-31T00:00:00",
          "2003-01-31T00:00:00",
          "2003-02-28T00:00:00",
          "2003-03-31T00:00:00",
          "2003-04-30T00:00:00",
          "2003-05-31T00:00:00",
          "2003-06-30T00:00:00",
          "2003-07-31T00:00:00",
          "2003-08-31T00:00:00",
          "2003-09-30T00:00:00",
          "2003-10-31T00:00:00",
          "2004-01-31T00:00:00",
          "2004-02-29T00:00:00",
          "2004-03-31T00:00:00",
          "2004-04-30T00:00:00",
          "2004-05-31T00:00:00",
          "2004-06-30T00:00:00",
          "2004-07-31T00:00:00",
          "2004-08-31T00:00:00",
          "2004-09-30T00:00:00",
          "2004-10-31T00:00:00",
          "2005-01-31T00:00:00",
          "2005-02-28T00:00:00",
          "2005-03-31T00:00:00",
          "2005-04-30T00:00:00",
          "2005-05-31T00:00:00",
          "2005-06-30T00:00:00",
          "2005-07-31T00:00:00",
          "2005-08-31T00:00:00",
          "2005-09-30T00:00:00",
          "2005-10-31T00:00:00",
          "2006-01-31T00:00:00",
          "2006-02-28T00:00:00",
          "2006-03-31T00:00:00",
          "2006-04-30T00:00:00",
          "2006-05-31T00:00:00",
          "2006-06-30T00:00:00",
          "2006-07-31T00:00:00",
          "2006-08-31T00:00:00",
          "2006-09-30T00:00:00",
          "2006-10-31T00:00:00",
          "2007-01-31T00:00:00",
          "2007-02-28T00:00:00",
          "2007-03-31T00:00:00",
          "2007-04-30T00:00:00",
          "2007-05-31T00:00:00",
          "2007-06-30T00:00:00",
          "2007-07-31T00:00:00",
          "2007-08-31T00:00:00",
          "2007-09-30T00:00:00",
          "2007-10-31T00:00:00",
          "2008-01-31T00:00:00",
          "2008-02-29T00:00:00",
          "2008-03-31T00:00:00",
          "2008-04-30T00:00:00",
          "2008-05-31T00:00:00",
          "2008-06-30T00:00:00",
          "2008-07-31T00:00:00",
          "2008-08-31T00:00:00",
          "2008-09-30T00:00:00",
          "2008-10-31T00:00:00",
          "2009-01-31T00:00:00",
          "2009-02-28T00:00:00",
          "2009-03-31T00:00:00",
          "2009-04-30T00:00:00",
          "2009-05-31T00:00:00",
          "2009-06-30T00:00:00",
          "2009-07-31T00:00:00",
          "2009-08-31T00:00:00",
          "2009-09-30T00:00:00",
          "2009-10-31T00:00:00",
          "2010-01-31T00:00:00",
          "2010-02-28T00:00:00",
          "2010-03-31T00:00:00",
          "2010-04-30T00:00:00",
          "2010-05-31T00:00:00",
          "2010-06-30T00:00:00",
          "2010-07-31T00:00:00",
          "2010-08-31T00:00:00",
          "2010-09-30T00:00:00",
          "2010-10-31T00:00:00",
          "2011-01-31T00:00:00",
          "2011-02-28T00:00:00",
          "2011-03-31T00:00:00",
          "2011-04-30T00:00:00",
          "2011-05-31T00:00:00",
          "2011-06-30T00:00:00",
          "2011-07-31T00:00:00",
          "2011-08-31T00:00:00",
          "2011-09-30T00:00:00",
          "2011-10-31T00:00:00",
          "2012-01-31T00:00:00",
          "2012-02-29T00:00:00",
          "2012-03-31T00:00:00",
          "2012-04-30T00:00:00",
          "2012-05-31T00:00:00",
          "2012-06-30T00:00:00",
          "2012-07-31T00:00:00",
          "2012-08-31T00:00:00",
          "2012-09-30T00:00:00",
          "2012-10-31T00:00:00",
          "2013-01-31T00:00:00",
          "2013-02-28T00:00:00",
          "2013-03-31T00:00:00",
          "2013-04-30T00:00:00",
          "2013-05-31T00:00:00",
          "2013-06-30T00:00:00",
          "2013-07-31T00:00:00",
          "2013-08-31T00:00:00",
          "2013-09-30T00:00:00",
          "2013-10-31T00:00:00",
          "2014-01-31T00:00:00",
          "2014-02-28T00:00:00",
          "2014-03-31T00:00:00",
          "2014-04-30T00:00:00",
          "2014-05-31T00:00:00",
          "2014-06-30T00:00:00",
          "2014-07-31T00:00:00",
          "2014-08-31T00:00:00",
          "2014-09-30T00:00:00",
          "2014-10-31T00:00:00"
         ],
         "xaxis": "x",
         "y": [
          4.720330000000001,
          4.437030415873016,
          3.570532,
          12.207764000000003,
          17.674245666666668,
          17.54623091746032,
          9.872827333333333,
          9.697743612698412,
          8.501449103030303,
          8.867692,
          4.720330000000001,
          4.437030415873016,
          3.570532,
          12.207764000000003,
          17.674245666666668,
          17.54623091746032,
          9.872827333333333,
          9.697743612698412,
          8.501449103030303,
          8.867692,
          4.720330000000001,
          4.437030415873016,
          3.570532,
          12.207764000000003,
          17.674245666666668,
          17.54623091746032,
          9.872827333333333,
          9.697743612698412,
          8.501449103030303,
          8.867692,
          4.720330000000001,
          4.437030415873016,
          3.570532,
          12.207764000000003,
          17.674245666666668,
          17.54623091746032,
          9.872827333333333,
          9.697743612698412,
          8.501449103030303,
          8.867692,
          4.720330000000001,
          4.437030415873016,
          3.570532,
          12.207764000000003,
          17.674245666666668,
          17.54623091746032,
          9.872827333333333,
          9.697743612698412,
          8.501449103030303,
          8.867692,
          4.720330000000001,
          4.437030415873016,
          3.570532,
          12.207764000000003,
          17.674245666666668,
          17.54623091746032,
          9.872827333333333,
          9.697743612698412,
          8.501449103030303,
          8.867692,
          4.720330000000001,
          4.437030415873016,
          3.570532,
          12.207764000000003,
          17.674245666666668,
          17.54623091746032,
          9.872827333333333,
          9.697743612698412,
          8.501449103030303,
          8.867692,
          4.720330000000001,
          4.437030415873016,
          3.570532,
          12.207764000000003,
          17.674245666666668,
          17.54623091746032,
          9.872827333333333,
          9.697743612698412,
          8.501449103030303,
          8.867692,
          4.720330000000001,
          4.437030415873016,
          3.570532,
          12.207764000000003,
          17.674245666666668,
          17.54623091746032,
          9.872827333333333,
          9.697743612698412,
          8.501449103030303,
          8.867692,
          4.720330000000001,
          4.437030415873016,
          3.570532,
          12.207764000000003,
          17.674245666666668,
          17.54623091746032,
          9.872827333333333,
          9.697743612698412,
          8.501449103030303,
          8.867692,
          4.720330000000001,
          4.437030415873016,
          3.570532,
          12.207764000000003,
          17.674245666666668,
          17.54623091746032,
          9.872827333333333,
          9.697743612698412,
          8.501449103030303,
          8.867692,
          4.720330000000001,
          4.437030415873016,
          3.570532,
          12.207764000000003,
          17.674245666666668,
          17.54623091746032,
          9.872827333333333,
          9.697743612698412,
          8.501449103030303,
          8.867692,
          4.720330000000001,
          4.437030415873016,
          3.570532,
          12.207764000000003,
          17.674245666666668,
          17.54623091746032,
          9.872827333333333,
          9.697743612698412,
          8.501449103030303,
          8.867692
         ],
         "yaxis": "y"
        },
        {
         "mode": "lines",
         "name": "night",
         "type": "scatter",
         "x": [
          "2002-02-28T00:00:00",
          "2002-04-30T00:00:00",
          "2002-05-31T00:00:00",
          "2002-06-30T00:00:00",
          "2002-08-31T00:00:00",
          "2002-09-30T00:00:00",
          "2002-10-31T00:00:00",
          "2003-02-28T00:00:00",
          "2003-04-30T00:00:00",
          "2003-05-31T00:00:00",
          "2003-06-30T00:00:00",
          "2003-08-31T00:00:00",
          "2003-09-30T00:00:00",
          "2003-10-31T00:00:00",
          "2004-02-29T00:00:00",
          "2004-04-30T00:00:00",
          "2004-05-31T00:00:00",
          "2004-06-30T00:00:00",
          "2004-08-31T00:00:00",
          "2004-09-30T00:00:00",
          "2004-10-31T00:00:00",
          "2005-02-28T00:00:00",
          "2005-04-30T00:00:00",
          "2005-05-31T00:00:00",
          "2005-06-30T00:00:00",
          "2005-08-31T00:00:00",
          "2005-09-30T00:00:00",
          "2005-10-31T00:00:00",
          "2006-02-28T00:00:00",
          "2006-04-30T00:00:00",
          "2006-05-31T00:00:00",
          "2006-06-30T00:00:00",
          "2006-08-31T00:00:00",
          "2006-09-30T00:00:00",
          "2006-10-31T00:00:00",
          "2007-02-28T00:00:00",
          "2007-04-30T00:00:00",
          "2007-05-31T00:00:00",
          "2007-06-30T00:00:00",
          "2007-08-31T00:00:00",
          "2007-09-30T00:00:00",
          "2007-10-31T00:00:00",
          "2008-02-29T00:00:00",
          "2008-04-30T00:00:00",
          "2008-05-31T00:00:00",
          "2008-06-30T00:00:00",
          "2008-08-31T00:00:00",
          "2008-09-30T00:00:00",
          "2008-10-31T00:00:00",
          "2009-02-28T00:00:00",
          "2009-04-30T00:00:00",
          "2009-05-31T00:00:00",
          "2009-06-30T00:00:00",
          "2009-08-31T00:00:00",
          "2009-09-30T00:00:00",
          "2009-10-31T00:00:00",
          "2010-02-28T00:00:00",
          "2010-04-30T00:00:00",
          "2010-05-31T00:00:00",
          "2010-06-30T00:00:00",
          "2010-08-31T00:00:00",
          "2010-09-30T00:00:00",
          "2010-10-31T00:00:00",
          "2011-02-28T00:00:00",
          "2011-04-30T00:00:00",
          "2011-05-31T00:00:00",
          "2011-06-30T00:00:00",
          "2011-08-31T00:00:00",
          "2011-09-30T00:00:00",
          "2011-10-31T00:00:00",
          "2012-02-29T00:00:00",
          "2012-04-30T00:00:00",
          "2012-05-31T00:00:00",
          "2012-06-30T00:00:00",
          "2012-08-31T00:00:00",
          "2012-09-30T00:00:00",
          "2012-10-31T00:00:00",
          "2013-02-28T00:00:00",
          "2013-04-30T00:00:00",
          "2013-05-31T00:00:00",
          "2013-06-30T00:00:00",
          "2013-08-31T00:00:00",
          "2013-09-30T00:00:00",
          "2013-10-31T00:00:00",
          "2014-02-28T00:00:00",
          "2014-04-30T00:00:00",
          "2014-05-31T00:00:00",
          "2014-06-30T00:00:00",
          "2014-08-31T00:00:00",
          "2014-09-30T00:00:00",
          "2014-10-31T00:00:00"
         ],
         "xaxis": "x2",
         "y": [
          8.22873725,
          7.553700000000001,
          9.968243000000001,
          19.0445165,
          16.451085250000002,
          8.184091433333334,
          15.278250000000002,
          8.22873725,
          7.553700000000001,
          9.968243000000001,
          19.0445165,
          16.451085250000002,
          8.184091433333334,
          15.278250000000002,
          8.22873725,
          7.553700000000001,
          9.968243000000001,
          19.0445165,
          16.451085250000002,
          8.184091433333334,
          15.278250000000002,
          8.22873725,
          7.553700000000001,
          9.968243000000001,
          19.0445165,
          16.451085250000002,
          8.184091433333334,
          15.278250000000002,
          8.22873725,
          7.553700000000001,
          9.968243000000001,
          19.0445165,
          16.451085250000002,
          8.184091433333334,
          15.278250000000002,
          8.22873725,
          7.553700000000001,
          9.968243000000001,
          19.0445165,
          16.451085250000002,
          8.184091433333334,
          15.278250000000002,
          8.22873725,
          7.553700000000001,
          9.968243000000001,
          19.0445165,
          16.451085250000002,
          8.184091433333334,
          15.278250000000002,
          8.22873725,
          7.553700000000001,
          9.968243000000001,
          19.0445165,
          16.451085250000002,
          8.184091433333334,
          15.278250000000002,
          8.22873725,
          7.553700000000001,
          9.968243000000001,
          19.0445165,
          16.451085250000002,
          8.184091433333334,
          15.278250000000002,
          8.22873725,
          7.553700000000001,
          9.968243000000001,
          19.0445165,
          16.451085250000002,
          8.184091433333334,
          15.278250000000002,
          8.22873725,
          7.553700000000001,
          9.968243000000001,
          19.0445165,
          16.451085250000002,
          8.184091433333334,
          15.278250000000002,
          8.22873725,
          7.553700000000001,
          9.968243000000001,
          19.0445165,
          16.451085250000002,
          8.184091433333334,
          15.278250000000002,
          8.22873725,
          7.553700000000001,
          9.968243000000001,
          19.0445165,
          16.451085250000002,
          8.184091433333334,
          15.278250000000002
         ],
         "yaxis": "y2"
        }
       ],
       "layout": {
        "annotations": [
         {
          "font": {
           "size": 16
          },
          "showarrow": false,
          "text": "Day Data",
          "x": 0.5,
          "xanchor": "center",
          "xref": "paper",
          "y": 1,
          "yanchor": "bottom",
          "yref": "paper"
         },
         {
          "font": {
           "size": 16
          },
          "showarrow": false,
          "text": "Night Data",
          "x": 0.5,
          "xanchor": "center",
          "xref": "paper",
          "y": 0.45,
          "yanchor": "bottom",
          "yref": "paper"
         }
        ],
        "height": 800,
        "template": {
         "data": {
          "bar": [
           {
            "error_x": {
             "color": "#2a3f5f"
            },
            "error_y": {
             "color": "#2a3f5f"
            },
            "marker": {
             "line": {
              "color": "#E5ECF6",
              "width": 0.5
             },
             "pattern": {
              "fillmode": "overlay",
              "size": 10,
              "solidity": 0.2
             }
            },
            "type": "bar"
           }
          ],
          "barpolar": [
           {
            "marker": {
             "line": {
              "color": "#E5ECF6",
              "width": 0.5
             },
             "pattern": {
              "fillmode": "overlay",
              "size": 10,
              "solidity": 0.2
             }
            },
            "type": "barpolar"
           }
          ],
          "carpet": [
           {
            "aaxis": {
             "endlinecolor": "#2a3f5f",
             "gridcolor": "white",
             "linecolor": "white",
             "minorgridcolor": "white",
             "startlinecolor": "#2a3f5f"
            },
            "baxis": {
             "endlinecolor": "#2a3f5f",
             "gridcolor": "white",
             "linecolor": "white",
             "minorgridcolor": "white",
             "startlinecolor": "#2a3f5f"
            },
            "type": "carpet"
           }
          ],
          "choropleth": [
           {
            "colorbar": {
             "outlinewidth": 0,
             "ticks": ""
            },
            "type": "choropleth"
           }
          ],
          "contour": [
           {
            "colorbar": {
             "outlinewidth": 0,
             "ticks": ""
            },
            "colorscale": [
             [
              0,
              "#0d0887"
             ],
             [
              0.1111111111111111,
              "#46039f"
             ],
             [
              0.2222222222222222,
              "#7201a8"
             ],
             [
              0.3333333333333333,
              "#9c179e"
             ],
             [
              0.4444444444444444,
              "#bd3786"
             ],
             [
              0.5555555555555556,
              "#d8576b"
             ],
             [
              0.6666666666666666,
              "#ed7953"
             ],
             [
              0.7777777777777778,
              "#fb9f3a"
             ],
             [
              0.8888888888888888,
              "#fdca26"
             ],
             [
              1,
              "#f0f921"
             ]
            ],
            "type": "contour"
           }
          ],
          "contourcarpet": [
           {
            "colorbar": {
             "outlinewidth": 0,
             "ticks": ""
            },
            "type": "contourcarpet"
           }
          ],
          "heatmap": [
           {
            "colorbar": {
             "outlinewidth": 0,
             "ticks": ""
            },
            "colorscale": [
             [
              0,
              "#0d0887"
             ],
             [
              0.1111111111111111,
              "#46039f"
             ],
             [
              0.2222222222222222,
              "#7201a8"
             ],
             [
              0.3333333333333333,
              "#9c179e"
             ],
             [
              0.4444444444444444,
              "#bd3786"
             ],
             [
              0.5555555555555556,
              "#d8576b"
             ],
             [
              0.6666666666666666,
              "#ed7953"
             ],
             [
              0.7777777777777778,
              "#fb9f3a"
             ],
             [
              0.8888888888888888,
              "#fdca26"
             ],
             [
              1,
              "#f0f921"
             ]
            ],
            "type": "heatmap"
           }
          ],
          "heatmapgl": [
           {
            "colorbar": {
             "outlinewidth": 0,
             "ticks": ""
            },
            "colorscale": [
             [
              0,
              "#0d0887"
             ],
             [
              0.1111111111111111,
              "#46039f"
             ],
             [
              0.2222222222222222,
              "#7201a8"
             ],
             [
              0.3333333333333333,
              "#9c179e"
             ],
             [
              0.4444444444444444,
              "#bd3786"
             ],
             [
              0.5555555555555556,
              "#d8576b"
             ],
             [
              0.6666666666666666,
              "#ed7953"
             ],
             [
              0.7777777777777778,
              "#fb9f3a"
             ],
             [
              0.8888888888888888,
              "#fdca26"
             ],
             [
              1,
              "#f0f921"
             ]
            ],
            "type": "heatmapgl"
           }
          ],
          "histogram": [
           {
            "marker": {
             "pattern": {
              "fillmode": "overlay",
              "size": 10,
              "solidity": 0.2
             }
            },
            "type": "histogram"
           }
          ],
          "histogram2d": [
           {
            "colorbar": {
             "outlinewidth": 0,
             "ticks": ""
            },
            "colorscale": [
             [
              0,
              "#0d0887"
             ],
             [
              0.1111111111111111,
              "#46039f"
             ],
             [
              0.2222222222222222,
              "#7201a8"
             ],
             [
              0.3333333333333333,
              "#9c179e"
             ],
             [
              0.4444444444444444,
              "#bd3786"
             ],
             [
              0.5555555555555556,
              "#d8576b"
             ],
             [
              0.6666666666666666,
              "#ed7953"
             ],
             [
              0.7777777777777778,
              "#fb9f3a"
             ],
             [
              0.8888888888888888,
              "#fdca26"
             ],
             [
              1,
              "#f0f921"
             ]
            ],
            "type": "histogram2d"
           }
          ],
          "histogram2dcontour": [
           {
            "colorbar": {
             "outlinewidth": 0,
             "ticks": ""
            },
            "colorscale": [
             [
              0,
              "#0d0887"
             ],
             [
              0.1111111111111111,
              "#46039f"
             ],
             [
              0.2222222222222222,
              "#7201a8"
             ],
             [
              0.3333333333333333,
              "#9c179e"
             ],
             [
              0.4444444444444444,
              "#bd3786"
             ],
             [
              0.5555555555555556,
              "#d8576b"
             ],
             [
              0.6666666666666666,
              "#ed7953"
             ],
             [
              0.7777777777777778,
              "#fb9f3a"
             ],
             [
              0.8888888888888888,
              "#fdca26"
             ],
             [
              1,
              "#f0f921"
             ]
            ],
            "type": "histogram2dcontour"
           }
          ],
          "mesh3d": [
           {
            "colorbar": {
             "outlinewidth": 0,
             "ticks": ""
            },
            "type": "mesh3d"
           }
          ],
          "parcoords": [
           {
            "line": {
             "colorbar": {
              "outlinewidth": 0,
              "ticks": ""
             }
            },
            "type": "parcoords"
           }
          ],
          "pie": [
           {
            "automargin": true,
            "type": "pie"
           }
          ],
          "scatter": [
           {
            "fillpattern": {
             "fillmode": "overlay",
             "size": 10,
             "solidity": 0.2
            },
            "type": "scatter"
           }
          ],
          "scatter3d": [
           {
            "line": {
             "colorbar": {
              "outlinewidth": 0,
              "ticks": ""
             }
            },
            "marker": {
             "colorbar": {
              "outlinewidth": 0,
              "ticks": ""
             }
            },
            "type": "scatter3d"
           }
          ],
          "scattercarpet": [
           {
            "marker": {
             "colorbar": {
              "outlinewidth": 0,
              "ticks": ""
             }
            },
            "type": "scattercarpet"
           }
          ],
          "scattergeo": [
           {
            "marker": {
             "colorbar": {
              "outlinewidth": 0,
              "ticks": ""
             }
            },
            "type": "scattergeo"
           }
          ],
          "scattergl": [
           {
            "marker": {
             "colorbar": {
              "outlinewidth": 0,
              "ticks": ""
             }
            },
            "type": "scattergl"
           }
          ],
          "scattermapbox": [
           {
            "marker": {
             "colorbar": {
              "outlinewidth": 0,
              "ticks": ""
             }
            },
            "type": "scattermapbox"
           }
          ],
          "scatterpolar": [
           {
            "marker": {
             "colorbar": {
              "outlinewidth": 0,
              "ticks": ""
             }
            },
            "type": "scatterpolar"
           }
          ],
          "scatterpolargl": [
           {
            "marker": {
             "colorbar": {
              "outlinewidth": 0,
              "ticks": ""
             }
            },
            "type": "scatterpolargl"
           }
          ],
          "scatterternary": [
           {
            "marker": {
             "colorbar": {
              "outlinewidth": 0,
              "ticks": ""
             }
            },
            "type": "scatterternary"
           }
          ],
          "surface": [
           {
            "colorbar": {
             "outlinewidth": 0,
             "ticks": ""
            },
            "colorscale": [
             [
              0,
              "#0d0887"
             ],
             [
              0.1111111111111111,
              "#46039f"
             ],
             [
              0.2222222222222222,
              "#7201a8"
             ],
             [
              0.3333333333333333,
              "#9c179e"
             ],
             [
              0.4444444444444444,
              "#bd3786"
             ],
             [
              0.5555555555555556,
              "#d8576b"
             ],
             [
              0.6666666666666666,
              "#ed7953"
             ],
             [
              0.7777777777777778,
              "#fb9f3a"
             ],
             [
              0.8888888888888888,
              "#fdca26"
             ],
             [
              1,
              "#f0f921"
             ]
            ],
            "type": "surface"
           }
          ],
          "table": [
           {
            "cells": {
             "fill": {
              "color": "#EBF0F8"
             },
             "line": {
              "color": "white"
             }
            },
            "header": {
             "fill": {
              "color": "#C8D4E3"
             },
             "line": {
              "color": "white"
             }
            },
            "type": "table"
           }
          ]
         },
         "layout": {
          "annotationdefaults": {
           "arrowcolor": "#2a3f5f",
           "arrowhead": 0,
           "arrowwidth": 1
          },
          "autotypenumbers": "strict",
          "coloraxis": {
           "colorbar": {
            "outlinewidth": 0,
            "ticks": ""
           }
          },
          "colorscale": {
           "diverging": [
            [
             0,
             "#8e0152"
            ],
            [
             0.1,
             "#c51b7d"
            ],
            [
             0.2,
             "#de77ae"
            ],
            [
             0.3,
             "#f1b6da"
            ],
            [
             0.4,
             "#fde0ef"
            ],
            [
             0.5,
             "#f7f7f7"
            ],
            [
             0.6,
             "#e6f5d0"
            ],
            [
             0.7,
             "#b8e186"
            ],
            [
             0.8,
             "#7fbc41"
            ],
            [
             0.9,
             "#4d9221"
            ],
            [
             1,
             "#276419"
            ]
           ],
           "sequential": [
            [
             0,
             "#0d0887"
            ],
            [
             0.1111111111111111,
             "#46039f"
            ],
            [
             0.2222222222222222,
             "#7201a8"
            ],
            [
             0.3333333333333333,
             "#9c179e"
            ],
            [
             0.4444444444444444,
             "#bd3786"
            ],
            [
             0.5555555555555556,
             "#d8576b"
            ],
            [
             0.6666666666666666,
             "#ed7953"
            ],
            [
             0.7777777777777778,
             "#fb9f3a"
            ],
            [
             0.8888888888888888,
             "#fdca26"
            ],
            [
             1,
             "#f0f921"
            ]
           ],
           "sequentialminus": [
            [
             0,
             "#0d0887"
            ],
            [
             0.1111111111111111,
             "#46039f"
            ],
            [
             0.2222222222222222,
             "#7201a8"
            ],
            [
             0.3333333333333333,
             "#9c179e"
            ],
            [
             0.4444444444444444,
             "#bd3786"
            ],
            [
             0.5555555555555556,
             "#d8576b"
            ],
            [
             0.6666666666666666,
             "#ed7953"
            ],
            [
             0.7777777777777778,
             "#fb9f3a"
            ],
            [
             0.8888888888888888,
             "#fdca26"
            ],
            [
             1,
             "#f0f921"
            ]
           ]
          },
          "colorway": [
           "#636efa",
           "#EF553B",
           "#00cc96",
           "#ab63fa",
           "#FFA15A",
           "#19d3f3",
           "#FF6692",
           "#B6E880",
           "#FF97FF",
           "#FECB52"
          ],
          "font": {
           "color": "#2a3f5f"
          },
          "geo": {
           "bgcolor": "white",
           "lakecolor": "white",
           "landcolor": "#E5ECF6",
           "showlakes": true,
           "showland": true,
           "subunitcolor": "white"
          },
          "hoverlabel": {
           "align": "left"
          },
          "hovermode": "closest",
          "mapbox": {
           "style": "light"
          },
          "paper_bgcolor": "white",
          "plot_bgcolor": "#E5ECF6",
          "polar": {
           "angularaxis": {
            "gridcolor": "white",
            "linecolor": "white",
            "ticks": ""
           },
           "bgcolor": "#E5ECF6",
           "radialaxis": {
            "gridcolor": "white",
            "linecolor": "white",
            "ticks": ""
           }
          },
          "scene": {
           "xaxis": {
            "backgroundcolor": "#E5ECF6",
            "gridcolor": "white",
            "gridwidth": 2,
            "linecolor": "white",
            "showbackground": true,
            "ticks": "",
            "zerolinecolor": "white"
           },
           "yaxis": {
            "backgroundcolor": "#E5ECF6",
            "gridcolor": "white",
            "gridwidth": 2,
            "linecolor": "white",
            "showbackground": true,
            "ticks": "",
            "zerolinecolor": "white"
           },
           "zaxis": {
            "backgroundcolor": "#E5ECF6",
            "gridcolor": "white",
            "gridwidth": 2,
            "linecolor": "white",
            "showbackground": true,
            "ticks": "",
            "zerolinecolor": "white"
           }
          },
          "shapedefaults": {
           "line": {
            "color": "#2a3f5f"
           }
          },
          "ternary": {
           "aaxis": {
            "gridcolor": "white",
            "linecolor": "white",
            "ticks": ""
           },
           "baxis": {
            "gridcolor": "white",
            "linecolor": "white",
            "ticks": ""
           },
           "bgcolor": "#E5ECF6",
           "caxis": {
            "gridcolor": "white",
            "linecolor": "white",
            "ticks": ""
           }
          },
          "title": {
           "x": 0.05
          },
          "xaxis": {
           "automargin": true,
           "gridcolor": "white",
           "linecolor": "white",
           "ticks": "",
           "title": {
            "standoff": 15
           },
           "zerolinecolor": "white",
           "zerolinewidth": 2
          },
          "yaxis": {
           "automargin": true,
           "gridcolor": "white",
           "linecolor": "white",
           "ticks": "",
           "title": {
            "standoff": 15
           },
           "zerolinecolor": "white",
           "zerolinewidth": 2
          }
         }
        },
        "title": {
         "text": "Comparison of Initial and Processed Data at Papa : With Trend"
        },
        "xaxis": {
         "anchor": "y",
         "domain": [
          0,
          1
         ],
         "matches": "x2",
         "showticklabels": false,
         "title": {
          "text": "Time"
         }
        },
        "xaxis2": {
         "anchor": "y2",
         "domain": [
          0,
          1
         ]
        },
        "yaxis": {
         "anchor": "x",
         "domain": [
          0.55,
          1
         ],
         "title": {
          "text": "Zooplankton biomass (mg/m3)"
         }
        },
        "yaxis2": {
         "anchor": "x2",
         "domain": [
          0,
          0.45
         ]
        }
       }
      }
     },
     "metadata": {},
     "output_type": "display_data"
    }
   ],
   "source": [
    "fig = make_subplots(\n",
    "    rows=2,\n",
    "    cols=1,\n",
    "    subplot_titles=(\"Day Data\", \"Night Data\"),\n",
    "    shared_xaxes=True,\n",
    "    vertical_spacing=0.1,\n",
    ")\n",
    "# augmente la taille de la figure\n",
    "fig.update_layout(height=800)\n",
    "\n",
    "# -------------------------------------------------------------------------------------------------------------------- #\n",
    "\n",
    "# Ajouter les données d'observation initiales de jour\n",
    "fig.add_trace(\n",
    "    go.Scatter(\n",
    "        x=day_data[\"time\"],\n",
    "        y=day_data,\n",
    "        mode=\"lines\",\n",
    "        name=\"Initial Day Data\",\n",
    "    ),\n",
    "    row=1,\n",
    "    col=1,\n",
    ")\n",
    "\n",
    "# Ajouter les données d'observation initiales de nuit\n",
    "fig.add_trace(\n",
    "    go.Scatter(\n",
    "        x=night_data[\"time\"],\n",
    "        y=night_data,\n",
    "        mode=\"lines\",\n",
    "        name=\"Initial Night Data\",\n",
    "    ),\n",
    "    row=2,\n",
    "    col=1,\n",
    ")\n",
    "\n",
    "# # -------------------------------------------------------------------------------------------------------------------- #\n",
    "\n",
    "# Ajouter les données de jour\n",
    "fig.add_trace(\n",
    "    go.Scatter(\n",
    "        x=climato_observations.day.mean([\"latitude\", \"longitude\"]).dropna(\"time\", how=\"all\").indexes[\"time\"],\n",
    "        y=climato_observations.day.mean([\"latitude\", \"longitude\"]).dropna(\"time\", how=\"all\"),\n",
    "        mode=\"lines\",\n",
    "        name=\"day\",\n",
    "    ),\n",
    "    row=1,\n",
    "    col=1,\n",
    ")\n",
    "\n",
    "# Ajouter les données de nuit\n",
    "fig.add_trace(\n",
    "    go.Scatter(\n",
    "        x=climato_observations.night.mean([\"latitude\", \"longitude\"]).dropna(\"time\", how=\"all\").indexes[\"time\"],\n",
    "        y=climato_observations.night.mean([\"latitude\", \"longitude\"]).dropna(\"time\", how=\"all\"),\n",
    "        mode=\"lines\",\n",
    "        name=\"night\",\n",
    "    ),\n",
    "    row=2,\n",
    "    col=1,\n",
    ")\n",
    "\n",
    "# -------------------------------------------------------------------------------------------------------------------- #\n",
    "\n",
    "# Mettre à jour la mise en page\n",
    "fig.update_layout(\n",
    "    title=f\"Comparison of Initial and Processed Data at {station} : With Trend\",\n",
    "    xaxis_title=\"Time\",\n",
    "    yaxis_title=\"Zooplankton biomass (mg/m3)\",\n",
    "    # night mode\n",
    "    # template=\"plotly_dark\",\n",
    ")\n",
    "\n",
    "fig.show()"
   ]
  },
  {
   "cell_type": "markdown",
   "metadata": {},
   "source": [
    "## Export\n"
   ]
  },
  {
   "cell_type": "code",
   "execution_count": 27,
   "metadata": {},
   "outputs": [
    {
     "data": {
      "text/html": [
       "<div><svg style=\"position: absolute; width: 0; height: 0; overflow: hidden\">\n",
       "<defs>\n",
       "<symbol id=\"icon-database\" viewBox=\"0 0 32 32\">\n",
       "<path d=\"M16 0c-8.837 0-16 2.239-16 5v4c0 2.761 7.163 5 16 5s16-2.239 16-5v-4c0-2.761-7.163-5-16-5z\"></path>\n",
       "<path d=\"M16 17c-8.837 0-16-2.239-16-5v6c0 2.761 7.163 5 16 5s16-2.239 16-5v-6c0 2.761-7.163 5-16 5z\"></path>\n",
       "<path d=\"M16 26c-8.837 0-16-2.239-16-5v6c0 2.761 7.163 5 16 5s16-2.239 16-5v-6c0 2.761-7.163 5-16 5z\"></path>\n",
       "</symbol>\n",
       "<symbol id=\"icon-file-text2\" viewBox=\"0 0 32 32\">\n",
       "<path d=\"M28.681 7.159c-0.694-0.947-1.662-2.053-2.724-3.116s-2.169-2.030-3.116-2.724c-1.612-1.182-2.393-1.319-2.841-1.319h-15.5c-1.378 0-2.5 1.121-2.5 2.5v27c0 1.378 1.122 2.5 2.5 2.5h23c1.378 0 2.5-1.122 2.5-2.5v-19.5c0-0.448-0.137-1.23-1.319-2.841zM24.543 5.457c0.959 0.959 1.712 1.825 2.268 2.543h-4.811v-4.811c0.718 0.556 1.584 1.309 2.543 2.268zM28 29.5c0 0.271-0.229 0.5-0.5 0.5h-23c-0.271 0-0.5-0.229-0.5-0.5v-27c0-0.271 0.229-0.5 0.5-0.5 0 0 15.499-0 15.5 0v7c0 0.552 0.448 1 1 1h7v19.5z\"></path>\n",
       "<path d=\"M23 26h-14c-0.552 0-1-0.448-1-1s0.448-1 1-1h14c0.552 0 1 0.448 1 1s-0.448 1-1 1z\"></path>\n",
       "<path d=\"M23 22h-14c-0.552 0-1-0.448-1-1s0.448-1 1-1h14c0.552 0 1 0.448 1 1s-0.448 1-1 1z\"></path>\n",
       "<path d=\"M23 18h-14c-0.552 0-1-0.448-1-1s0.448-1 1-1h14c0.552 0 1 0.448 1 1s-0.448 1-1 1z\"></path>\n",
       "</symbol>\n",
       "</defs>\n",
       "</svg>\n",
       "<style>/* CSS stylesheet for displaying xarray objects in jupyterlab.\n",
       " *\n",
       " */\n",
       "\n",
       ":root {\n",
       "  --xr-font-color0: var(--jp-content-font-color0, rgba(0, 0, 0, 1));\n",
       "  --xr-font-color2: var(--jp-content-font-color2, rgba(0, 0, 0, 0.54));\n",
       "  --xr-font-color3: var(--jp-content-font-color3, rgba(0, 0, 0, 0.38));\n",
       "  --xr-border-color: var(--jp-border-color2, #e0e0e0);\n",
       "  --xr-disabled-color: var(--jp-layout-color3, #bdbdbd);\n",
       "  --xr-background-color: var(--jp-layout-color0, white);\n",
       "  --xr-background-color-row-even: var(--jp-layout-color1, white);\n",
       "  --xr-background-color-row-odd: var(--jp-layout-color2, #eeeeee);\n",
       "}\n",
       "\n",
       "html[theme=\"dark\"],\n",
       "html[data-theme=\"dark\"],\n",
       "body[data-theme=\"dark\"],\n",
       "body.vscode-dark {\n",
       "  --xr-font-color0: rgba(255, 255, 255, 1);\n",
       "  --xr-font-color2: rgba(255, 255, 255, 0.54);\n",
       "  --xr-font-color3: rgba(255, 255, 255, 0.38);\n",
       "  --xr-border-color: #1f1f1f;\n",
       "  --xr-disabled-color: #515151;\n",
       "  --xr-background-color: #111111;\n",
       "  --xr-background-color-row-even: #111111;\n",
       "  --xr-background-color-row-odd: #313131;\n",
       "}\n",
       "\n",
       ".xr-wrap {\n",
       "  display: block !important;\n",
       "  min-width: 300px;\n",
       "  max-width: 700px;\n",
       "}\n",
       "\n",
       ".xr-text-repr-fallback {\n",
       "  /* fallback to plain text repr when CSS is not injected (untrusted notebook) */\n",
       "  display: none;\n",
       "}\n",
       "\n",
       ".xr-header {\n",
       "  padding-top: 6px;\n",
       "  padding-bottom: 6px;\n",
       "  margin-bottom: 4px;\n",
       "  border-bottom: solid 1px var(--xr-border-color);\n",
       "}\n",
       "\n",
       ".xr-header > div,\n",
       ".xr-header > ul {\n",
       "  display: inline;\n",
       "  margin-top: 0;\n",
       "  margin-bottom: 0;\n",
       "}\n",
       "\n",
       ".xr-obj-type,\n",
       ".xr-array-name {\n",
       "  margin-left: 2px;\n",
       "  margin-right: 10px;\n",
       "}\n",
       "\n",
       ".xr-obj-type {\n",
       "  color: var(--xr-font-color2);\n",
       "}\n",
       "\n",
       ".xr-sections {\n",
       "  padding-left: 0 !important;\n",
       "  display: grid;\n",
       "  grid-template-columns: 150px auto auto 1fr 0 20px 0 20px;\n",
       "}\n",
       "\n",
       ".xr-section-item {\n",
       "  display: contents;\n",
       "}\n",
       "\n",
       ".xr-section-item input {\n",
       "  display: inline-block;\n",
       "  opacity: 0;\n",
       "  height: 0;\n",
       "}\n",
       "\n",
       ".xr-section-item input + label {\n",
       "  color: var(--xr-disabled-color);\n",
       "}\n",
       "\n",
       ".xr-section-item input:enabled + label {\n",
       "  cursor: pointer;\n",
       "  color: var(--xr-font-color2);\n",
       "}\n",
       "\n",
       ".xr-section-item input:focus + label {\n",
       "  border: 2px solid var(--xr-font-color0);\n",
       "}\n",
       "\n",
       ".xr-section-item input:enabled + label:hover {\n",
       "  color: var(--xr-font-color0);\n",
       "}\n",
       "\n",
       ".xr-section-summary {\n",
       "  grid-column: 1;\n",
       "  color: var(--xr-font-color2);\n",
       "  font-weight: 500;\n",
       "}\n",
       "\n",
       ".xr-section-summary > span {\n",
       "  display: inline-block;\n",
       "  padding-left: 0.5em;\n",
       "}\n",
       "\n",
       ".xr-section-summary-in:disabled + label {\n",
       "  color: var(--xr-font-color2);\n",
       "}\n",
       "\n",
       ".xr-section-summary-in + label:before {\n",
       "  display: inline-block;\n",
       "  content: \"►\";\n",
       "  font-size: 11px;\n",
       "  width: 15px;\n",
       "  text-align: center;\n",
       "}\n",
       "\n",
       ".xr-section-summary-in:disabled + label:before {\n",
       "  color: var(--xr-disabled-color);\n",
       "}\n",
       "\n",
       ".xr-section-summary-in:checked + label:before {\n",
       "  content: \"▼\";\n",
       "}\n",
       "\n",
       ".xr-section-summary-in:checked + label > span {\n",
       "  display: none;\n",
       "}\n",
       "\n",
       ".xr-section-summary,\n",
       ".xr-section-inline-details {\n",
       "  padding-top: 4px;\n",
       "  padding-bottom: 4px;\n",
       "}\n",
       "\n",
       ".xr-section-inline-details {\n",
       "  grid-column: 2 / -1;\n",
       "}\n",
       "\n",
       ".xr-section-details {\n",
       "  display: none;\n",
       "  grid-column: 1 / -1;\n",
       "  margin-bottom: 5px;\n",
       "}\n",
       "\n",
       ".xr-section-summary-in:checked ~ .xr-section-details {\n",
       "  display: contents;\n",
       "}\n",
       "\n",
       ".xr-array-wrap {\n",
       "  grid-column: 1 / -1;\n",
       "  display: grid;\n",
       "  grid-template-columns: 20px auto;\n",
       "}\n",
       "\n",
       ".xr-array-wrap > label {\n",
       "  grid-column: 1;\n",
       "  vertical-align: top;\n",
       "}\n",
       "\n",
       ".xr-preview {\n",
       "  color: var(--xr-font-color3);\n",
       "}\n",
       "\n",
       ".xr-array-preview,\n",
       ".xr-array-data {\n",
       "  padding: 0 5px !important;\n",
       "  grid-column: 2;\n",
       "}\n",
       "\n",
       ".xr-array-data,\n",
       ".xr-array-in:checked ~ .xr-array-preview {\n",
       "  display: none;\n",
       "}\n",
       "\n",
       ".xr-array-in:checked ~ .xr-array-data,\n",
       ".xr-array-preview {\n",
       "  display: inline-block;\n",
       "}\n",
       "\n",
       ".xr-dim-list {\n",
       "  display: inline-block !important;\n",
       "  list-style: none;\n",
       "  padding: 0 !important;\n",
       "  margin: 0;\n",
       "}\n",
       "\n",
       ".xr-dim-list li {\n",
       "  display: inline-block;\n",
       "  padding: 0;\n",
       "  margin: 0;\n",
       "}\n",
       "\n",
       ".xr-dim-list:before {\n",
       "  content: \"(\";\n",
       "}\n",
       "\n",
       ".xr-dim-list:after {\n",
       "  content: \")\";\n",
       "}\n",
       "\n",
       ".xr-dim-list li:not(:last-child):after {\n",
       "  content: \",\";\n",
       "  padding-right: 5px;\n",
       "}\n",
       "\n",
       ".xr-has-index {\n",
       "  font-weight: bold;\n",
       "}\n",
       "\n",
       ".xr-var-list,\n",
       ".xr-var-item {\n",
       "  display: contents;\n",
       "}\n",
       "\n",
       ".xr-var-item > div,\n",
       ".xr-var-item label,\n",
       ".xr-var-item > .xr-var-name span {\n",
       "  background-color: var(--xr-background-color-row-even);\n",
       "  margin-bottom: 0;\n",
       "}\n",
       "\n",
       ".xr-var-item > .xr-var-name:hover span {\n",
       "  padding-right: 5px;\n",
       "}\n",
       "\n",
       ".xr-var-list > li:nth-child(odd) > div,\n",
       ".xr-var-list > li:nth-child(odd) > label,\n",
       ".xr-var-list > li:nth-child(odd) > .xr-var-name span {\n",
       "  background-color: var(--xr-background-color-row-odd);\n",
       "}\n",
       "\n",
       ".xr-var-name {\n",
       "  grid-column: 1;\n",
       "}\n",
       "\n",
       ".xr-var-dims {\n",
       "  grid-column: 2;\n",
       "}\n",
       "\n",
       ".xr-var-dtype {\n",
       "  grid-column: 3;\n",
       "  text-align: right;\n",
       "  color: var(--xr-font-color2);\n",
       "}\n",
       "\n",
       ".xr-var-preview {\n",
       "  grid-column: 4;\n",
       "}\n",
       "\n",
       ".xr-index-preview {\n",
       "  grid-column: 2 / 5;\n",
       "  color: var(--xr-font-color2);\n",
       "}\n",
       "\n",
       ".xr-var-name,\n",
       ".xr-var-dims,\n",
       ".xr-var-dtype,\n",
       ".xr-preview,\n",
       ".xr-attrs dt {\n",
       "  white-space: nowrap;\n",
       "  overflow: hidden;\n",
       "  text-overflow: ellipsis;\n",
       "  padding-right: 10px;\n",
       "}\n",
       "\n",
       ".xr-var-name:hover,\n",
       ".xr-var-dims:hover,\n",
       ".xr-var-dtype:hover,\n",
       ".xr-attrs dt:hover {\n",
       "  overflow: visible;\n",
       "  width: auto;\n",
       "  z-index: 1;\n",
       "}\n",
       "\n",
       ".xr-var-attrs,\n",
       ".xr-var-data,\n",
       ".xr-index-data {\n",
       "  display: none;\n",
       "  background-color: var(--xr-background-color) !important;\n",
       "  padding-bottom: 5px !important;\n",
       "}\n",
       "\n",
       ".xr-var-attrs-in:checked ~ .xr-var-attrs,\n",
       ".xr-var-data-in:checked ~ .xr-var-data,\n",
       ".xr-index-data-in:checked ~ .xr-index-data {\n",
       "  display: block;\n",
       "}\n",
       "\n",
       ".xr-var-data > table {\n",
       "  float: right;\n",
       "}\n",
       "\n",
       ".xr-var-name span,\n",
       ".xr-var-data,\n",
       ".xr-index-name div,\n",
       ".xr-index-data,\n",
       ".xr-attrs {\n",
       "  padding-left: 25px !important;\n",
       "}\n",
       "\n",
       ".xr-attrs,\n",
       ".xr-var-attrs,\n",
       ".xr-var-data,\n",
       ".xr-index-data {\n",
       "  grid-column: 1 / -1;\n",
       "}\n",
       "\n",
       "dl.xr-attrs {\n",
       "  padding: 0;\n",
       "  margin: 0;\n",
       "  display: grid;\n",
       "  grid-template-columns: 125px auto;\n",
       "}\n",
       "\n",
       ".xr-attrs dt,\n",
       ".xr-attrs dd {\n",
       "  padding: 0;\n",
       "  margin: 0;\n",
       "  float: left;\n",
       "  padding-right: 10px;\n",
       "  width: auto;\n",
       "}\n",
       "\n",
       ".xr-attrs dt {\n",
       "  font-weight: normal;\n",
       "  grid-column: 1;\n",
       "}\n",
       "\n",
       ".xr-attrs dt:hover span {\n",
       "  display: inline-block;\n",
       "  background: var(--xr-background-color);\n",
       "  padding-right: 10px;\n",
       "}\n",
       "\n",
       ".xr-attrs dd {\n",
       "  grid-column: 2;\n",
       "  white-space: pre-wrap;\n",
       "  word-break: break-all;\n",
       "}\n",
       "\n",
       ".xr-icon-database,\n",
       ".xr-icon-file-text2,\n",
       ".xr-no-icon {\n",
       "  display: inline-block;\n",
       "  vertical-align: middle;\n",
       "  width: 1em;\n",
       "  height: 1.5em !important;\n",
       "  stroke-width: 0;\n",
       "  stroke: currentColor;\n",
       "  fill: currentColor;\n",
       "}\n",
       "</style><pre class='xr-text-repr-fallback'>&lt;xarray.Dataset&gt; Size: 39kB\n",
       "Dimensions:    (layer: 1, time: 156, latitude: 3, longitude: 5)\n",
       "Coordinates:\n",
       "  * layer      (layer) int64 8B 0\n",
       "  * time       (time) datetime64[ns] 1kB 2002-01-31 2002-02-28 ... 2014-12-31\n",
       "  * latitude   (latitude) float64 24B 48.5 49.5 50.5\n",
       "  * longitude  (longitude) float64 40B -138.5 -134.5 -130.5 -129.5 -128.5\n",
       "Data variables:\n",
       "    day        (time, latitude, longitude, layer) float64 19kB nan nan ... nan\n",
       "    night      (time, latitude, longitude, layer) float64 19kB nan nan ... nan\n",
       "Attributes:\n",
       "    desc:     Aggregated and smoothed observations using lowess filtre.</pre><div class='xr-wrap' style='display:none'><div class='xr-header'><div class='xr-obj-type'>xarray.Dataset</div></div><ul class='xr-sections'><li class='xr-section-item'><input id='section-cf53cf46-fdb5-4d83-b9ae-ce2dd0720677' class='xr-section-summary-in' type='checkbox' disabled ><label for='section-cf53cf46-fdb5-4d83-b9ae-ce2dd0720677' class='xr-section-summary'  title='Expand/collapse section'>Dimensions:</label><div class='xr-section-inline-details'><ul class='xr-dim-list'><li><span class='xr-has-index'>layer</span>: 1</li><li><span class='xr-has-index'>time</span>: 156</li><li><span class='xr-has-index'>latitude</span>: 3</li><li><span class='xr-has-index'>longitude</span>: 5</li></ul></div><div class='xr-section-details'></div></li><li class='xr-section-item'><input id='section-179b1a66-b63b-447e-8f9b-8ced039386a0' class='xr-section-summary-in' type='checkbox'  checked><label for='section-179b1a66-b63b-447e-8f9b-8ced039386a0' class='xr-section-summary' >Coordinates: <span>(4)</span></label><div class='xr-section-inline-details'></div><div class='xr-section-details'><ul class='xr-var-list'><li class='xr-var-item'><div class='xr-var-name'><span class='xr-has-index'>layer</span></div><div class='xr-var-dims'>(layer)</div><div class='xr-var-dtype'>int64</div><div class='xr-var-preview xr-preview'>0</div><input id='attrs-c5783ef8-065e-463d-aa31-751a17fdafa5' class='xr-var-attrs-in' type='checkbox' ><label for='attrs-c5783ef8-065e-463d-aa31-751a17fdafa5' title='Show/Hide attributes'><svg class='icon xr-icon-file-text2'><use xlink:href='#icon-file-text2'></use></svg></label><input id='data-a59ea12e-20e8-4110-88f2-e435221f9454' class='xr-var-data-in' type='checkbox'><label for='data-a59ea12e-20e8-4110-88f2-e435221f9454' title='Show/Hide data repr'><svg class='icon xr-icon-database'><use xlink:href='#icon-database'></use></svg></label><div class='xr-var-attrs'><dl class='xr-attrs'><dt><span>axis :</span></dt><dd>Z</dd><dt><span>desc :</span></dt><dd>The layer depth according to Seapodym definition</dd><dt><span>flag_meanings :</span></dt><dd>epipelagic, upper-mesopelagic, lower-mesopelagic</dd><dt><span>flag_values :</span></dt><dd>[0, 1, 2]</dd><dt><span>long_name :</span></dt><dd>Layer depth</dd><dt><span>standard_name :</span></dt><dd>layer</dd></dl></div><div class='xr-var-data'><pre>array([0])</pre></div></li><li class='xr-var-item'><div class='xr-var-name'><span class='xr-has-index'>time</span></div><div class='xr-var-dims'>(time)</div><div class='xr-var-dtype'>datetime64[ns]</div><div class='xr-var-preview xr-preview'>2002-01-31 ... 2014-12-31</div><input id='attrs-6d6ad605-05e3-4c7c-b7cf-ad6b6c122905' class='xr-var-attrs-in' type='checkbox' ><label for='attrs-6d6ad605-05e3-4c7c-b7cf-ad6b6c122905' title='Show/Hide attributes'><svg class='icon xr-icon-file-text2'><use xlink:href='#icon-file-text2'></use></svg></label><input id='data-d1e00a22-c4d6-4b11-8956-44c0f8ef174c' class='xr-var-data-in' type='checkbox'><label for='data-d1e00a22-c4d6-4b11-8956-44c0f8ef174c' title='Show/Hide data repr'><svg class='icon xr-icon-database'><use xlink:href='#icon-database'></use></svg></label><div class='xr-var-attrs'><dl class='xr-attrs'><dt><span>axis :</span></dt><dd>T</dd><dt><span>long_name :</span></dt><dd>time</dd><dt><span>standard_name :</span></dt><dd>time</dd></dl></div><div class='xr-var-data'><pre>array([&#x27;2002-01-31T00:00:00.000000000&#x27;, &#x27;2002-02-28T00:00:00.000000000&#x27;,\n",
       "       &#x27;2002-03-31T00:00:00.000000000&#x27;, &#x27;2002-04-30T00:00:00.000000000&#x27;,\n",
       "       &#x27;2002-05-31T00:00:00.000000000&#x27;, &#x27;2002-06-30T00:00:00.000000000&#x27;,\n",
       "       &#x27;2002-07-31T00:00:00.000000000&#x27;, &#x27;2002-08-31T00:00:00.000000000&#x27;,\n",
       "       &#x27;2002-09-30T00:00:00.000000000&#x27;, &#x27;2002-10-31T00:00:00.000000000&#x27;,\n",
       "       &#x27;2002-11-30T00:00:00.000000000&#x27;, &#x27;2002-12-31T00:00:00.000000000&#x27;,\n",
       "       &#x27;2003-01-31T00:00:00.000000000&#x27;, &#x27;2003-02-28T00:00:00.000000000&#x27;,\n",
       "       &#x27;2003-03-31T00:00:00.000000000&#x27;, &#x27;2003-04-30T00:00:00.000000000&#x27;,\n",
       "       &#x27;2003-05-31T00:00:00.000000000&#x27;, &#x27;2003-06-30T00:00:00.000000000&#x27;,\n",
       "       &#x27;2003-07-31T00:00:00.000000000&#x27;, &#x27;2003-08-31T00:00:00.000000000&#x27;,\n",
       "       &#x27;2003-09-30T00:00:00.000000000&#x27;, &#x27;2003-10-31T00:00:00.000000000&#x27;,\n",
       "       &#x27;2003-11-30T00:00:00.000000000&#x27;, &#x27;2003-12-31T00:00:00.000000000&#x27;,\n",
       "       &#x27;2004-01-31T00:00:00.000000000&#x27;, &#x27;2004-02-29T00:00:00.000000000&#x27;,\n",
       "       &#x27;2004-03-31T00:00:00.000000000&#x27;, &#x27;2004-04-30T00:00:00.000000000&#x27;,\n",
       "       &#x27;2004-05-31T00:00:00.000000000&#x27;, &#x27;2004-06-30T00:00:00.000000000&#x27;,\n",
       "       &#x27;2004-07-31T00:00:00.000000000&#x27;, &#x27;2004-08-31T00:00:00.000000000&#x27;,\n",
       "       &#x27;2004-09-30T00:00:00.000000000&#x27;, &#x27;2004-10-31T00:00:00.000000000&#x27;,\n",
       "       &#x27;2004-11-30T00:00:00.000000000&#x27;, &#x27;2004-12-31T00:00:00.000000000&#x27;,\n",
       "       &#x27;2005-01-31T00:00:00.000000000&#x27;, &#x27;2005-02-28T00:00:00.000000000&#x27;,\n",
       "       &#x27;2005-03-31T00:00:00.000000000&#x27;, &#x27;2005-04-30T00:00:00.000000000&#x27;,\n",
       "       &#x27;2005-05-31T00:00:00.000000000&#x27;, &#x27;2005-06-30T00:00:00.000000000&#x27;,\n",
       "       &#x27;2005-07-31T00:00:00.000000000&#x27;, &#x27;2005-08-31T00:00:00.000000000&#x27;,\n",
       "       &#x27;2005-09-30T00:00:00.000000000&#x27;, &#x27;2005-10-31T00:00:00.000000000&#x27;,\n",
       "       &#x27;2005-11-30T00:00:00.000000000&#x27;, &#x27;2005-12-31T00:00:00.000000000&#x27;,\n",
       "       &#x27;2006-01-31T00:00:00.000000000&#x27;, &#x27;2006-02-28T00:00:00.000000000&#x27;,\n",
       "       &#x27;2006-03-31T00:00:00.000000000&#x27;, &#x27;2006-04-30T00:00:00.000000000&#x27;,\n",
       "       &#x27;2006-05-31T00:00:00.000000000&#x27;, &#x27;2006-06-30T00:00:00.000000000&#x27;,\n",
       "       &#x27;2006-07-31T00:00:00.000000000&#x27;, &#x27;2006-08-31T00:00:00.000000000&#x27;,\n",
       "       &#x27;2006-09-30T00:00:00.000000000&#x27;, &#x27;2006-10-31T00:00:00.000000000&#x27;,\n",
       "       &#x27;2006-11-30T00:00:00.000000000&#x27;, &#x27;2006-12-31T00:00:00.000000000&#x27;,\n",
       "       &#x27;2007-01-31T00:00:00.000000000&#x27;, &#x27;2007-02-28T00:00:00.000000000&#x27;,\n",
       "       &#x27;2007-03-31T00:00:00.000000000&#x27;, &#x27;2007-04-30T00:00:00.000000000&#x27;,\n",
       "       &#x27;2007-05-31T00:00:00.000000000&#x27;, &#x27;2007-06-30T00:00:00.000000000&#x27;,\n",
       "       &#x27;2007-07-31T00:00:00.000000000&#x27;, &#x27;2007-08-31T00:00:00.000000000&#x27;,\n",
       "       &#x27;2007-09-30T00:00:00.000000000&#x27;, &#x27;2007-10-31T00:00:00.000000000&#x27;,\n",
       "       &#x27;2007-11-30T00:00:00.000000000&#x27;, &#x27;2007-12-31T00:00:00.000000000&#x27;,\n",
       "       &#x27;2008-01-31T00:00:00.000000000&#x27;, &#x27;2008-02-29T00:00:00.000000000&#x27;,\n",
       "       &#x27;2008-03-31T00:00:00.000000000&#x27;, &#x27;2008-04-30T00:00:00.000000000&#x27;,\n",
       "       &#x27;2008-05-31T00:00:00.000000000&#x27;, &#x27;2008-06-30T00:00:00.000000000&#x27;,\n",
       "       &#x27;2008-07-31T00:00:00.000000000&#x27;, &#x27;2008-08-31T00:00:00.000000000&#x27;,\n",
       "       &#x27;2008-09-30T00:00:00.000000000&#x27;, &#x27;2008-10-31T00:00:00.000000000&#x27;,\n",
       "       &#x27;2008-11-30T00:00:00.000000000&#x27;, &#x27;2008-12-31T00:00:00.000000000&#x27;,\n",
       "       &#x27;2009-01-31T00:00:00.000000000&#x27;, &#x27;2009-02-28T00:00:00.000000000&#x27;,\n",
       "       &#x27;2009-03-31T00:00:00.000000000&#x27;, &#x27;2009-04-30T00:00:00.000000000&#x27;,\n",
       "       &#x27;2009-05-31T00:00:00.000000000&#x27;, &#x27;2009-06-30T00:00:00.000000000&#x27;,\n",
       "       &#x27;2009-07-31T00:00:00.000000000&#x27;, &#x27;2009-08-31T00:00:00.000000000&#x27;,\n",
       "       &#x27;2009-09-30T00:00:00.000000000&#x27;, &#x27;2009-10-31T00:00:00.000000000&#x27;,\n",
       "       &#x27;2009-11-30T00:00:00.000000000&#x27;, &#x27;2009-12-31T00:00:00.000000000&#x27;,\n",
       "       &#x27;2010-01-31T00:00:00.000000000&#x27;, &#x27;2010-02-28T00:00:00.000000000&#x27;,\n",
       "       &#x27;2010-03-31T00:00:00.000000000&#x27;, &#x27;2010-04-30T00:00:00.000000000&#x27;,\n",
       "       &#x27;2010-05-31T00:00:00.000000000&#x27;, &#x27;2010-06-30T00:00:00.000000000&#x27;,\n",
       "       &#x27;2010-07-31T00:00:00.000000000&#x27;, &#x27;2010-08-31T00:00:00.000000000&#x27;,\n",
       "       &#x27;2010-09-30T00:00:00.000000000&#x27;, &#x27;2010-10-31T00:00:00.000000000&#x27;,\n",
       "       &#x27;2010-11-30T00:00:00.000000000&#x27;, &#x27;2010-12-31T00:00:00.000000000&#x27;,\n",
       "       &#x27;2011-01-31T00:00:00.000000000&#x27;, &#x27;2011-02-28T00:00:00.000000000&#x27;,\n",
       "       &#x27;2011-03-31T00:00:00.000000000&#x27;, &#x27;2011-04-30T00:00:00.000000000&#x27;,\n",
       "       &#x27;2011-05-31T00:00:00.000000000&#x27;, &#x27;2011-06-30T00:00:00.000000000&#x27;,\n",
       "       &#x27;2011-07-31T00:00:00.000000000&#x27;, &#x27;2011-08-31T00:00:00.000000000&#x27;,\n",
       "       &#x27;2011-09-30T00:00:00.000000000&#x27;, &#x27;2011-10-31T00:00:00.000000000&#x27;,\n",
       "       &#x27;2011-11-30T00:00:00.000000000&#x27;, &#x27;2011-12-31T00:00:00.000000000&#x27;,\n",
       "       &#x27;2012-01-31T00:00:00.000000000&#x27;, &#x27;2012-02-29T00:00:00.000000000&#x27;,\n",
       "       &#x27;2012-03-31T00:00:00.000000000&#x27;, &#x27;2012-04-30T00:00:00.000000000&#x27;,\n",
       "       &#x27;2012-05-31T00:00:00.000000000&#x27;, &#x27;2012-06-30T00:00:00.000000000&#x27;,\n",
       "       &#x27;2012-07-31T00:00:00.000000000&#x27;, &#x27;2012-08-31T00:00:00.000000000&#x27;,\n",
       "       &#x27;2012-09-30T00:00:00.000000000&#x27;, &#x27;2012-10-31T00:00:00.000000000&#x27;,\n",
       "       &#x27;2012-11-30T00:00:00.000000000&#x27;, &#x27;2012-12-31T00:00:00.000000000&#x27;,\n",
       "       &#x27;2013-01-31T00:00:00.000000000&#x27;, &#x27;2013-02-28T00:00:00.000000000&#x27;,\n",
       "       &#x27;2013-03-31T00:00:00.000000000&#x27;, &#x27;2013-04-30T00:00:00.000000000&#x27;,\n",
       "       &#x27;2013-05-31T00:00:00.000000000&#x27;, &#x27;2013-06-30T00:00:00.000000000&#x27;,\n",
       "       &#x27;2013-07-31T00:00:00.000000000&#x27;, &#x27;2013-08-31T00:00:00.000000000&#x27;,\n",
       "       &#x27;2013-09-30T00:00:00.000000000&#x27;, &#x27;2013-10-31T00:00:00.000000000&#x27;,\n",
       "       &#x27;2013-11-30T00:00:00.000000000&#x27;, &#x27;2013-12-31T00:00:00.000000000&#x27;,\n",
       "       &#x27;2014-01-31T00:00:00.000000000&#x27;, &#x27;2014-02-28T00:00:00.000000000&#x27;,\n",
       "       &#x27;2014-03-31T00:00:00.000000000&#x27;, &#x27;2014-04-30T00:00:00.000000000&#x27;,\n",
       "       &#x27;2014-05-31T00:00:00.000000000&#x27;, &#x27;2014-06-30T00:00:00.000000000&#x27;,\n",
       "       &#x27;2014-07-31T00:00:00.000000000&#x27;, &#x27;2014-08-31T00:00:00.000000000&#x27;,\n",
       "       &#x27;2014-09-30T00:00:00.000000000&#x27;, &#x27;2014-10-31T00:00:00.000000000&#x27;,\n",
       "       &#x27;2014-11-30T00:00:00.000000000&#x27;, &#x27;2014-12-31T00:00:00.000000000&#x27;],\n",
       "      dtype=&#x27;datetime64[ns]&#x27;)</pre></div></li><li class='xr-var-item'><div class='xr-var-name'><span class='xr-has-index'>latitude</span></div><div class='xr-var-dims'>(latitude)</div><div class='xr-var-dtype'>float64</div><div class='xr-var-preview xr-preview'>48.5 49.5 50.5</div><input id='attrs-d8b17e4e-0a62-42d4-bd9e-bed8176c58d8' class='xr-var-attrs-in' type='checkbox' ><label for='attrs-d8b17e4e-0a62-42d4-bd9e-bed8176c58d8' title='Show/Hide attributes'><svg class='icon xr-icon-file-text2'><use xlink:href='#icon-file-text2'></use></svg></label><input id='data-9a6b77a7-8c96-4366-8730-b54952ebd60f' class='xr-var-data-in' type='checkbox'><label for='data-9a6b77a7-8c96-4366-8730-b54952ebd60f' title='Show/Hide data repr'><svg class='icon xr-icon-database'><use xlink:href='#icon-database'></use></svg></label><div class='xr-var-attrs'><dl class='xr-attrs'><dt><span>axis :</span></dt><dd>Y</dd><dt><span>long_name :</span></dt><dd>latitude</dd><dt><span>standard_name :</span></dt><dd>latitude</dd><dt><span>units :</span></dt><dd>degrees_north</dd></dl></div><div class='xr-var-data'><pre>array([48.5, 49.5, 50.5])</pre></div></li><li class='xr-var-item'><div class='xr-var-name'><span class='xr-has-index'>longitude</span></div><div class='xr-var-dims'>(longitude)</div><div class='xr-var-dtype'>float64</div><div class='xr-var-preview xr-preview'>-138.5 -134.5 -130.5 -129.5 -128.5</div><input id='attrs-2e9198b4-9d8b-4927-9675-97aeaa8109cb' class='xr-var-attrs-in' type='checkbox' ><label for='attrs-2e9198b4-9d8b-4927-9675-97aeaa8109cb' title='Show/Hide attributes'><svg class='icon xr-icon-file-text2'><use xlink:href='#icon-file-text2'></use></svg></label><input id='data-0132a7c2-ee4b-4475-99ad-789e45849a87' class='xr-var-data-in' type='checkbox'><label for='data-0132a7c2-ee4b-4475-99ad-789e45849a87' title='Show/Hide data repr'><svg class='icon xr-icon-database'><use xlink:href='#icon-database'></use></svg></label><div class='xr-var-attrs'><dl class='xr-attrs'><dt><span>axis :</span></dt><dd>X</dd><dt><span>long_name :</span></dt><dd>longitude</dd><dt><span>standard_name :</span></dt><dd>longitude</dd><dt><span>units :</span></dt><dd>degrees_east</dd></dl></div><div class='xr-var-data'><pre>array([-138.5, -134.5, -130.5, -129.5, -128.5])</pre></div></li></ul></div></li><li class='xr-section-item'><input id='section-f3de7565-6c1e-4b8a-9b60-dcd93f91c469' class='xr-section-summary-in' type='checkbox'  checked><label for='section-f3de7565-6c1e-4b8a-9b60-dcd93f91c469' class='xr-section-summary' >Data variables: <span>(2)</span></label><div class='xr-section-inline-details'></div><div class='xr-section-details'><ul class='xr-var-list'><li class='xr-var-item'><div class='xr-var-name'><span>day</span></div><div class='xr-var-dims'>(time, latitude, longitude, layer)</div><div class='xr-var-dtype'>float64</div><div class='xr-var-preview xr-preview'>nan nan 1.922 nan ... nan nan nan</div><input id='attrs-7461a5db-fe92-4aff-978d-001e53059041' class='xr-var-attrs-in' type='checkbox' ><label for='attrs-7461a5db-fe92-4aff-978d-001e53059041' title='Show/Hide attributes'><svg class='icon xr-icon-file-text2'><use xlink:href='#icon-file-text2'></use></svg></label><input id='data-0bd3b959-7909-4c8f-bf79-dab78546c236' class='xr-var-data-in' type='checkbox'><label for='data-0bd3b959-7909-4c8f-bf79-dab78546c236' title='Show/Hide data repr'><svg class='icon xr-icon-database'><use xlink:href='#icon-database'></use></svg></label><div class='xr-var-attrs'><dl class='xr-attrs'><dt><span>description :</span></dt><dd>Zooplankton carbon weight by cube meter of sea water at day</dd><dt><span>units :</span></dt><dd>mg/m3</dd></dl></div><div class='xr-var-data'><pre>array([[[[        nan],\n",
       "         [        nan],\n",
       "         [ 1.922298  ],\n",
       "         [        nan],\n",
       "         [ 7.518362  ]],\n",
       "\n",
       "        [[        nan],\n",
       "         [        nan],\n",
       "         [        nan],\n",
       "         [        nan],\n",
       "         [        nan]],\n",
       "\n",
       "        [[        nan],\n",
       "         [        nan],\n",
       "         [        nan],\n",
       "         [        nan],\n",
       "         [        nan]]],\n",
       "\n",
       "\n",
       "       [[[        nan],\n",
       "...\n",
       "         [        nan]]],\n",
       "\n",
       "\n",
       "       [[[        nan],\n",
       "         [        nan],\n",
       "         [        nan],\n",
       "         [        nan],\n",
       "         [        nan]],\n",
       "\n",
       "        [[        nan],\n",
       "         [        nan],\n",
       "         [        nan],\n",
       "         [        nan],\n",
       "         [        nan]],\n",
       "\n",
       "        [[        nan],\n",
       "         [        nan],\n",
       "         [        nan],\n",
       "         [        nan],\n",
       "         [        nan]]]])</pre></div></li><li class='xr-var-item'><div class='xr-var-name'><span>night</span></div><div class='xr-var-dims'>(time, latitude, longitude, layer)</div><div class='xr-var-dtype'>float64</div><div class='xr-var-preview xr-preview'>nan nan nan nan ... nan nan nan nan</div><input id='attrs-67fbb2af-bd85-433f-b960-ef22f83971f8' class='xr-var-attrs-in' type='checkbox' ><label for='attrs-67fbb2af-bd85-433f-b960-ef22f83971f8' title='Show/Hide attributes'><svg class='icon xr-icon-file-text2'><use xlink:href='#icon-file-text2'></use></svg></label><input id='data-2c4c345b-4a9e-4b57-9d6f-452203d77272' class='xr-var-data-in' type='checkbox'><label for='data-2c4c345b-4a9e-4b57-9d6f-452203d77272' title='Show/Hide data repr'><svg class='icon xr-icon-database'><use xlink:href='#icon-database'></use></svg></label><div class='xr-var-attrs'><dl class='xr-attrs'><dt><span>description :</span></dt><dd>Zooplankton carbon weight by cube meter of sea water at night</dd><dt><span>units :</span></dt><dd>mg/m3</dd></dl></div><div class='xr-var-data'><pre>array([[[[        nan],\n",
       "         [        nan],\n",
       "         [        nan],\n",
       "         [        nan],\n",
       "         [        nan]],\n",
       "\n",
       "        [[        nan],\n",
       "         [        nan],\n",
       "         [        nan],\n",
       "         [        nan],\n",
       "         [        nan]],\n",
       "\n",
       "        [[        nan],\n",
       "         [        nan],\n",
       "         [        nan],\n",
       "         [        nan],\n",
       "         [        nan]]],\n",
       "\n",
       "\n",
       "       [[[        nan],\n",
       "...\n",
       "         [        nan]]],\n",
       "\n",
       "\n",
       "       [[[        nan],\n",
       "         [        nan],\n",
       "         [        nan],\n",
       "         [        nan],\n",
       "         [        nan]],\n",
       "\n",
       "        [[        nan],\n",
       "         [        nan],\n",
       "         [        nan],\n",
       "         [        nan],\n",
       "         [        nan]],\n",
       "\n",
       "        [[        nan],\n",
       "         [        nan],\n",
       "         [        nan],\n",
       "         [        nan],\n",
       "         [        nan]]]])</pre></div></li></ul></div></li><li class='xr-section-item'><input id='section-8f83e165-d95a-4a75-9330-9000f7ab0338' class='xr-section-summary-in' type='checkbox'  ><label for='section-8f83e165-d95a-4a75-9330-9000f7ab0338' class='xr-section-summary' >Indexes: <span>(4)</span></label><div class='xr-section-inline-details'></div><div class='xr-section-details'><ul class='xr-var-list'><li class='xr-var-item'><div class='xr-index-name'><div>time</div></div><div class='xr-index-preview'>PandasIndex</div><input type='checkbox' disabled/><label></label><input id='index-bbe5fd3e-1765-4b1d-8c36-02f141224761' class='xr-index-data-in' type='checkbox'/><label for='index-bbe5fd3e-1765-4b1d-8c36-02f141224761' title='Show/Hide index repr'><svg class='icon xr-icon-database'><use xlink:href='#icon-database'></use></svg></label><div class='xr-index-data'><pre>PandasIndex(DatetimeIndex([&#x27;2002-01-31&#x27;, &#x27;2002-02-28&#x27;, &#x27;2002-03-31&#x27;, &#x27;2002-04-30&#x27;,\n",
       "               &#x27;2002-05-31&#x27;, &#x27;2002-06-30&#x27;, &#x27;2002-07-31&#x27;, &#x27;2002-08-31&#x27;,\n",
       "               &#x27;2002-09-30&#x27;, &#x27;2002-10-31&#x27;,\n",
       "               ...\n",
       "               &#x27;2014-03-31&#x27;, &#x27;2014-04-30&#x27;, &#x27;2014-05-31&#x27;, &#x27;2014-06-30&#x27;,\n",
       "               &#x27;2014-07-31&#x27;, &#x27;2014-08-31&#x27;, &#x27;2014-09-30&#x27;, &#x27;2014-10-31&#x27;,\n",
       "               &#x27;2014-11-30&#x27;, &#x27;2014-12-31&#x27;],\n",
       "              dtype=&#x27;datetime64[ns]&#x27;, name=&#x27;time&#x27;, length=156, freq=None))</pre></div></li><li class='xr-var-item'><div class='xr-index-name'><div>latitude</div></div><div class='xr-index-preview'>PandasIndex</div><input type='checkbox' disabled/><label></label><input id='index-7521a4f2-8a99-4a35-b94d-d89c1628b10c' class='xr-index-data-in' type='checkbox'/><label for='index-7521a4f2-8a99-4a35-b94d-d89c1628b10c' title='Show/Hide index repr'><svg class='icon xr-icon-database'><use xlink:href='#icon-database'></use></svg></label><div class='xr-index-data'><pre>PandasIndex(Index([48.5, 49.5, 50.5], dtype=&#x27;float64&#x27;, name=&#x27;latitude&#x27;))</pre></div></li><li class='xr-var-item'><div class='xr-index-name'><div>longitude</div></div><div class='xr-index-preview'>PandasIndex</div><input type='checkbox' disabled/><label></label><input id='index-0cdf291d-8c91-4bd9-9c35-8299d8e69f19' class='xr-index-data-in' type='checkbox'/><label for='index-0cdf291d-8c91-4bd9-9c35-8299d8e69f19' title='Show/Hide index repr'><svg class='icon xr-icon-database'><use xlink:href='#icon-database'></use></svg></label><div class='xr-index-data'><pre>PandasIndex(Index([-138.5, -134.5, -130.5, -129.5, -128.5], dtype=&#x27;float64&#x27;, name=&#x27;longitude&#x27;))</pre></div></li><li class='xr-var-item'><div class='xr-index-name'><div>layer</div></div><div class='xr-index-preview'>PandasIndex</div><input type='checkbox' disabled/><label></label><input id='index-6f092480-c7c1-4c65-b08b-0bb1908abafd' class='xr-index-data-in' type='checkbox'/><label for='index-6f092480-c7c1-4c65-b08b-0bb1908abafd' title='Show/Hide index repr'><svg class='icon xr-icon-database'><use xlink:href='#icon-database'></use></svg></label><div class='xr-index-data'><pre>PandasIndex(Index([0], dtype=&#x27;int64&#x27;, name=&#x27;layer&#x27;))</pre></div></li></ul></div></li><li class='xr-section-item'><input id='section-5fd0266a-dd0c-4ac4-bf1f-d19e99f53455' class='xr-section-summary-in' type='checkbox'  checked><label for='section-5fd0266a-dd0c-4ac4-bf1f-d19e99f53455' class='xr-section-summary' >Attributes: <span>(1)</span></label><div class='xr-section-inline-details'></div><div class='xr-section-details'><dl class='xr-attrs'><dt><span>desc :</span></dt><dd>Aggregated and smoothed observations using lowess filtre.</dd></dl></div></li></ul></div></div>"
      ],
      "text/plain": [
       "<xarray.Dataset> Size: 39kB\n",
       "Dimensions:    (layer: 1, time: 156, latitude: 3, longitude: 5)\n",
       "Coordinates:\n",
       "  * layer      (layer) int64 8B 0\n",
       "  * time       (time) datetime64[ns] 1kB 2002-01-31 2002-02-28 ... 2014-12-31\n",
       "  * latitude   (latitude) float64 24B 48.5 49.5 50.5\n",
       "  * longitude  (longitude) float64 40B -138.5 -134.5 -130.5 -129.5 -128.5\n",
       "Data variables:\n",
       "    day        (time, latitude, longitude, layer) float64 19kB nan nan ... nan\n",
       "    night      (time, latitude, longitude, layer) float64 19kB nan nan ... nan\n",
       "Attributes:\n",
       "    desc:     Aggregated and smoothed observations using lowess filtre."
      ]
     },
     "execution_count": 27,
     "metadata": {},
     "output_type": "execute_result"
    }
   ],
   "source": [
    "climato_observations = climato_observations.expand_dims(layer=layer)\n",
    "climato_observations = climato_observations.transpose(\"time\", \"latitude\", \"longitude\", \"layer\")\n",
    "\n",
    "climato_observations.latitude.attrs = data.latitude.attrs\n",
    "climato_observations.longitude.attrs = data.longitude.attrs\n",
    "climato_observations.layer.attrs = layer.attrs\n",
    "climato_observations.time.attrs = data.time.attrs\n",
    "climato_observations.day.attrs = data.day.attrs\n",
    "climato_observations.night.attrs = data.night.attrs\n",
    "\n",
    "climato_observations"
   ]
  },
  {
   "cell_type": "code",
   "execution_count": 28,
   "metadata": {},
   "outputs": [
    {
     "data": {
      "text/plain": [
       "<xarray.backends.zarr.ZarrStore at 0x3232289c0>"
      ]
     },
     "execution_count": 28,
     "metadata": {},
     "output_type": "execute_result"
    }
   ],
   "source": [
    "climato_observations.to_zarr(\n",
    "    f\"../data/1_products/{station}_obs_zoo_climato_monthly_{pd.Timestamp(time_start).year}_{pd.Timestamp(time_end).year}.zarr\",\n",
    "    mode=\"w\",\n",
    ")"
   ]
  }
 ],
 "metadata": {
  "kernelspec": {
   "display_name": ".venv",
   "language": "python",
   "name": "python3"
  },
  "language_info": {
   "codemirror_mode": {
    "name": "ipython",
    "version": 3
   },
   "file_extension": ".py",
   "mimetype": "text/x-python",
   "name": "python",
   "nbconvert_exporter": "python",
   "pygments_lexer": "ipython3",
   "version": "3.12.10"
  }
 },
 "nbformat": 4,
 "nbformat_minor": 2
}
