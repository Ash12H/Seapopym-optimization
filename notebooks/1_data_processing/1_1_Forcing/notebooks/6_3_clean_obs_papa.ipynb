{
 "cells": [
  {
   "cell_type": "code",
   "execution_count": 1,
   "metadata": {},
   "outputs": [],
   "source": [
    "import matplotlib.pyplot as plt\n",
    "import numpy as np\n",
    "import pandas as pd\n",
    "import plotly.express as px\n",
    "import xarray as xr\n",
    "\n",
    "# set plotly as default pandas plot\n",
    "\n",
    "pd.options.plotting.backend = \"plotly\""
   ]
  },
  {
   "cell_type": "code",
   "execution_count": 2,
   "metadata": {},
   "outputs": [],
   "source": [
    "station = \"Papa\""
   ]
  },
  {
   "cell_type": "code",
   "execution_count": 3,
   "metadata": {},
   "outputs": [
    {
     "data": {
      "text/html": [
       "<div><svg style=\"position: absolute; width: 0; height: 0; overflow: hidden\">\n",
       "<defs>\n",
       "<symbol id=\"icon-database\" viewBox=\"0 0 32 32\">\n",
       "<path d=\"M16 0c-8.837 0-16 2.239-16 5v4c0 2.761 7.163 5 16 5s16-2.239 16-5v-4c0-2.761-7.163-5-16-5z\"></path>\n",
       "<path d=\"M16 17c-8.837 0-16-2.239-16-5v6c0 2.761 7.163 5 16 5s16-2.239 16-5v-6c0 2.761-7.163 5-16 5z\"></path>\n",
       "<path d=\"M16 26c-8.837 0-16-2.239-16-5v6c0 2.761 7.163 5 16 5s16-2.239 16-5v-6c0 2.761-7.163 5-16 5z\"></path>\n",
       "</symbol>\n",
       "<symbol id=\"icon-file-text2\" viewBox=\"0 0 32 32\">\n",
       "<path d=\"M28.681 7.159c-0.694-0.947-1.662-2.053-2.724-3.116s-2.169-2.030-3.116-2.724c-1.612-1.182-2.393-1.319-2.841-1.319h-15.5c-1.378 0-2.5 1.121-2.5 2.5v27c0 1.378 1.122 2.5 2.5 2.5h23c1.378 0 2.5-1.122 2.5-2.5v-19.5c0-0.448-0.137-1.23-1.319-2.841zM24.543 5.457c0.959 0.959 1.712 1.825 2.268 2.543h-4.811v-4.811c0.718 0.556 1.584 1.309 2.543 2.268zM28 29.5c0 0.271-0.229 0.5-0.5 0.5h-23c-0.271 0-0.5-0.229-0.5-0.5v-27c0-0.271 0.229-0.5 0.5-0.5 0 0 15.499-0 15.5 0v7c0 0.552 0.448 1 1 1h7v19.5z\"></path>\n",
       "<path d=\"M23 26h-14c-0.552 0-1-0.448-1-1s0.448-1 1-1h14c0.552 0 1 0.448 1 1s-0.448 1-1 1z\"></path>\n",
       "<path d=\"M23 22h-14c-0.552 0-1-0.448-1-1s0.448-1 1-1h14c0.552 0 1 0.448 1 1s-0.448 1-1 1z\"></path>\n",
       "<path d=\"M23 18h-14c-0.552 0-1-0.448-1-1s0.448-1 1-1h14c0.552 0 1 0.448 1 1s-0.448 1-1 1z\"></path>\n",
       "</symbol>\n",
       "</defs>\n",
       "</svg>\n",
       "<style>/* CSS stylesheet for displaying xarray objects in jupyterlab.\n",
       " *\n",
       " */\n",
       "\n",
       ":root {\n",
       "  --xr-font-color0: var(--jp-content-font-color0, rgba(0, 0, 0, 1));\n",
       "  --xr-font-color2: var(--jp-content-font-color2, rgba(0, 0, 0, 0.54));\n",
       "  --xr-font-color3: var(--jp-content-font-color3, rgba(0, 0, 0, 0.38));\n",
       "  --xr-border-color: var(--jp-border-color2, #e0e0e0);\n",
       "  --xr-disabled-color: var(--jp-layout-color3, #bdbdbd);\n",
       "  --xr-background-color: var(--jp-layout-color0, white);\n",
       "  --xr-background-color-row-even: var(--jp-layout-color1, white);\n",
       "  --xr-background-color-row-odd: var(--jp-layout-color2, #eeeeee);\n",
       "}\n",
       "\n",
       "html[theme=\"dark\"],\n",
       "html[data-theme=\"dark\"],\n",
       "body[data-theme=\"dark\"],\n",
       "body.vscode-dark {\n",
       "  --xr-font-color0: rgba(255, 255, 255, 1);\n",
       "  --xr-font-color2: rgba(255, 255, 255, 0.54);\n",
       "  --xr-font-color3: rgba(255, 255, 255, 0.38);\n",
       "  --xr-border-color: #1f1f1f;\n",
       "  --xr-disabled-color: #515151;\n",
       "  --xr-background-color: #111111;\n",
       "  --xr-background-color-row-even: #111111;\n",
       "  --xr-background-color-row-odd: #313131;\n",
       "}\n",
       "\n",
       ".xr-wrap {\n",
       "  display: block !important;\n",
       "  min-width: 300px;\n",
       "  max-width: 700px;\n",
       "}\n",
       "\n",
       ".xr-text-repr-fallback {\n",
       "  /* fallback to plain text repr when CSS is not injected (untrusted notebook) */\n",
       "  display: none;\n",
       "}\n",
       "\n",
       ".xr-header {\n",
       "  padding-top: 6px;\n",
       "  padding-bottom: 6px;\n",
       "  margin-bottom: 4px;\n",
       "  border-bottom: solid 1px var(--xr-border-color);\n",
       "}\n",
       "\n",
       ".xr-header > div,\n",
       ".xr-header > ul {\n",
       "  display: inline;\n",
       "  margin-top: 0;\n",
       "  margin-bottom: 0;\n",
       "}\n",
       "\n",
       ".xr-obj-type,\n",
       ".xr-array-name {\n",
       "  margin-left: 2px;\n",
       "  margin-right: 10px;\n",
       "}\n",
       "\n",
       ".xr-obj-type {\n",
       "  color: var(--xr-font-color2);\n",
       "}\n",
       "\n",
       ".xr-sections {\n",
       "  padding-left: 0 !important;\n",
       "  display: grid;\n",
       "  grid-template-columns: 150px auto auto 1fr 0 20px 0 20px;\n",
       "}\n",
       "\n",
       ".xr-section-item {\n",
       "  display: contents;\n",
       "}\n",
       "\n",
       ".xr-section-item input {\n",
       "  display: inline-block;\n",
       "  opacity: 0;\n",
       "  height: 0;\n",
       "}\n",
       "\n",
       ".xr-section-item input + label {\n",
       "  color: var(--xr-disabled-color);\n",
       "}\n",
       "\n",
       ".xr-section-item input:enabled + label {\n",
       "  cursor: pointer;\n",
       "  color: var(--xr-font-color2);\n",
       "}\n",
       "\n",
       ".xr-section-item input:focus + label {\n",
       "  border: 2px solid var(--xr-font-color0);\n",
       "}\n",
       "\n",
       ".xr-section-item input:enabled + label:hover {\n",
       "  color: var(--xr-font-color0);\n",
       "}\n",
       "\n",
       ".xr-section-summary {\n",
       "  grid-column: 1;\n",
       "  color: var(--xr-font-color2);\n",
       "  font-weight: 500;\n",
       "}\n",
       "\n",
       ".xr-section-summary > span {\n",
       "  display: inline-block;\n",
       "  padding-left: 0.5em;\n",
       "}\n",
       "\n",
       ".xr-section-summary-in:disabled + label {\n",
       "  color: var(--xr-font-color2);\n",
       "}\n",
       "\n",
       ".xr-section-summary-in + label:before {\n",
       "  display: inline-block;\n",
       "  content: \"►\";\n",
       "  font-size: 11px;\n",
       "  width: 15px;\n",
       "  text-align: center;\n",
       "}\n",
       "\n",
       ".xr-section-summary-in:disabled + label:before {\n",
       "  color: var(--xr-disabled-color);\n",
       "}\n",
       "\n",
       ".xr-section-summary-in:checked + label:before {\n",
       "  content: \"▼\";\n",
       "}\n",
       "\n",
       ".xr-section-summary-in:checked + label > span {\n",
       "  display: none;\n",
       "}\n",
       "\n",
       ".xr-section-summary,\n",
       ".xr-section-inline-details {\n",
       "  padding-top: 4px;\n",
       "  padding-bottom: 4px;\n",
       "}\n",
       "\n",
       ".xr-section-inline-details {\n",
       "  grid-column: 2 / -1;\n",
       "}\n",
       "\n",
       ".xr-section-details {\n",
       "  display: none;\n",
       "  grid-column: 1 / -1;\n",
       "  margin-bottom: 5px;\n",
       "}\n",
       "\n",
       ".xr-section-summary-in:checked ~ .xr-section-details {\n",
       "  display: contents;\n",
       "}\n",
       "\n",
       ".xr-array-wrap {\n",
       "  grid-column: 1 / -1;\n",
       "  display: grid;\n",
       "  grid-template-columns: 20px auto;\n",
       "}\n",
       "\n",
       ".xr-array-wrap > label {\n",
       "  grid-column: 1;\n",
       "  vertical-align: top;\n",
       "}\n",
       "\n",
       ".xr-preview {\n",
       "  color: var(--xr-font-color3);\n",
       "}\n",
       "\n",
       ".xr-array-preview,\n",
       ".xr-array-data {\n",
       "  padding: 0 5px !important;\n",
       "  grid-column: 2;\n",
       "}\n",
       "\n",
       ".xr-array-data,\n",
       ".xr-array-in:checked ~ .xr-array-preview {\n",
       "  display: none;\n",
       "}\n",
       "\n",
       ".xr-array-in:checked ~ .xr-array-data,\n",
       ".xr-array-preview {\n",
       "  display: inline-block;\n",
       "}\n",
       "\n",
       ".xr-dim-list {\n",
       "  display: inline-block !important;\n",
       "  list-style: none;\n",
       "  padding: 0 !important;\n",
       "  margin: 0;\n",
       "}\n",
       "\n",
       ".xr-dim-list li {\n",
       "  display: inline-block;\n",
       "  padding: 0;\n",
       "  margin: 0;\n",
       "}\n",
       "\n",
       ".xr-dim-list:before {\n",
       "  content: \"(\";\n",
       "}\n",
       "\n",
       ".xr-dim-list:after {\n",
       "  content: \")\";\n",
       "}\n",
       "\n",
       ".xr-dim-list li:not(:last-child):after {\n",
       "  content: \",\";\n",
       "  padding-right: 5px;\n",
       "}\n",
       "\n",
       ".xr-has-index {\n",
       "  font-weight: bold;\n",
       "}\n",
       "\n",
       ".xr-var-list,\n",
       ".xr-var-item {\n",
       "  display: contents;\n",
       "}\n",
       "\n",
       ".xr-var-item > div,\n",
       ".xr-var-item label,\n",
       ".xr-var-item > .xr-var-name span {\n",
       "  background-color: var(--xr-background-color-row-even);\n",
       "  margin-bottom: 0;\n",
       "}\n",
       "\n",
       ".xr-var-item > .xr-var-name:hover span {\n",
       "  padding-right: 5px;\n",
       "}\n",
       "\n",
       ".xr-var-list > li:nth-child(odd) > div,\n",
       ".xr-var-list > li:nth-child(odd) > label,\n",
       ".xr-var-list > li:nth-child(odd) > .xr-var-name span {\n",
       "  background-color: var(--xr-background-color-row-odd);\n",
       "}\n",
       "\n",
       ".xr-var-name {\n",
       "  grid-column: 1;\n",
       "}\n",
       "\n",
       ".xr-var-dims {\n",
       "  grid-column: 2;\n",
       "}\n",
       "\n",
       ".xr-var-dtype {\n",
       "  grid-column: 3;\n",
       "  text-align: right;\n",
       "  color: var(--xr-font-color2);\n",
       "}\n",
       "\n",
       ".xr-var-preview {\n",
       "  grid-column: 4;\n",
       "}\n",
       "\n",
       ".xr-index-preview {\n",
       "  grid-column: 2 / 5;\n",
       "  color: var(--xr-font-color2);\n",
       "}\n",
       "\n",
       ".xr-var-name,\n",
       ".xr-var-dims,\n",
       ".xr-var-dtype,\n",
       ".xr-preview,\n",
       ".xr-attrs dt {\n",
       "  white-space: nowrap;\n",
       "  overflow: hidden;\n",
       "  text-overflow: ellipsis;\n",
       "  padding-right: 10px;\n",
       "}\n",
       "\n",
       ".xr-var-name:hover,\n",
       ".xr-var-dims:hover,\n",
       ".xr-var-dtype:hover,\n",
       ".xr-attrs dt:hover {\n",
       "  overflow: visible;\n",
       "  width: auto;\n",
       "  z-index: 1;\n",
       "}\n",
       "\n",
       ".xr-var-attrs,\n",
       ".xr-var-data,\n",
       ".xr-index-data {\n",
       "  display: none;\n",
       "  background-color: var(--xr-background-color) !important;\n",
       "  padding-bottom: 5px !important;\n",
       "}\n",
       "\n",
       ".xr-var-attrs-in:checked ~ .xr-var-attrs,\n",
       ".xr-var-data-in:checked ~ .xr-var-data,\n",
       ".xr-index-data-in:checked ~ .xr-index-data {\n",
       "  display: block;\n",
       "}\n",
       "\n",
       ".xr-var-data > table {\n",
       "  float: right;\n",
       "}\n",
       "\n",
       ".xr-var-name span,\n",
       ".xr-var-data,\n",
       ".xr-index-name div,\n",
       ".xr-index-data,\n",
       ".xr-attrs {\n",
       "  padding-left: 25px !important;\n",
       "}\n",
       "\n",
       ".xr-attrs,\n",
       ".xr-var-attrs,\n",
       ".xr-var-data,\n",
       ".xr-index-data {\n",
       "  grid-column: 1 / -1;\n",
       "}\n",
       "\n",
       "dl.xr-attrs {\n",
       "  padding: 0;\n",
       "  margin: 0;\n",
       "  display: grid;\n",
       "  grid-template-columns: 125px auto;\n",
       "}\n",
       "\n",
       ".xr-attrs dt,\n",
       ".xr-attrs dd {\n",
       "  padding: 0;\n",
       "  margin: 0;\n",
       "  float: left;\n",
       "  padding-right: 10px;\n",
       "  width: auto;\n",
       "}\n",
       "\n",
       ".xr-attrs dt {\n",
       "  font-weight: normal;\n",
       "  grid-column: 1;\n",
       "}\n",
       "\n",
       ".xr-attrs dt:hover span {\n",
       "  display: inline-block;\n",
       "  background: var(--xr-background-color);\n",
       "  padding-right: 10px;\n",
       "}\n",
       "\n",
       ".xr-attrs dd {\n",
       "  grid-column: 2;\n",
       "  white-space: pre-wrap;\n",
       "  word-break: break-all;\n",
       "}\n",
       "\n",
       ".xr-icon-database,\n",
       ".xr-icon-file-text2,\n",
       ".xr-no-icon {\n",
       "  display: inline-block;\n",
       "  vertical-align: middle;\n",
       "  width: 1em;\n",
       "  height: 1.5em !important;\n",
       "  stroke-width: 0;\n",
       "  stroke: currentColor;\n",
       "  fill: currentColor;\n",
       "}\n",
       "</style><pre class='xr-text-repr-fallback'>&lt;xarray.Dataset&gt; Size: 3MB\n",
       "Dimensions:    (time: 623, latitude: 12, longitude: 26, layer: 1)\n",
       "Coordinates:\n",
       "  * latitude   (latitude) float64 96B 46.5 47.5 48.5 49.5 ... 55.5 56.5 57.5\n",
       "  * layer      (layer) int64 8B 0\n",
       "  * longitude  (longitude) float64 208B -156.5 -153.5 -152.5 ... -129.5 -128.5\n",
       "  * time       (time) datetime64[ns] 5kB 1995-09-24 1995-09-25 ... 2020-08-31\n",
       "Data variables:\n",
       "    day        (time, latitude, longitude, layer) float64 2MB nan nan ... nan\n",
       "    night      (time, latitude, longitude, layer) float64 2MB nan nan ... nan</pre><div class='xr-wrap' style='display:none'><div class='xr-header'><div class='xr-obj-type'>xarray.Dataset</div></div><ul class='xr-sections'><li class='xr-section-item'><input id='section-7b3164e4-753c-4aea-8fa6-107d8b8c3d8c' class='xr-section-summary-in' type='checkbox' disabled ><label for='section-7b3164e4-753c-4aea-8fa6-107d8b8c3d8c' class='xr-section-summary'  title='Expand/collapse section'>Dimensions:</label><div class='xr-section-inline-details'><ul class='xr-dim-list'><li><span class='xr-has-index'>time</span>: 623</li><li><span class='xr-has-index'>latitude</span>: 12</li><li><span class='xr-has-index'>longitude</span>: 26</li><li><span class='xr-has-index'>layer</span>: 1</li></ul></div><div class='xr-section-details'></div></li><li class='xr-section-item'><input id='section-4d85fd8a-365f-46da-94b3-44f0a069c545' class='xr-section-summary-in' type='checkbox'  checked><label for='section-4d85fd8a-365f-46da-94b3-44f0a069c545' class='xr-section-summary' >Coordinates: <span>(4)</span></label><div class='xr-section-inline-details'></div><div class='xr-section-details'><ul class='xr-var-list'><li class='xr-var-item'><div class='xr-var-name'><span class='xr-has-index'>latitude</span></div><div class='xr-var-dims'>(latitude)</div><div class='xr-var-dtype'>float64</div><div class='xr-var-preview xr-preview'>46.5 47.5 48.5 ... 55.5 56.5 57.5</div><input id='attrs-044d9b87-51c9-430b-8dea-8fbd324283a5' class='xr-var-attrs-in' type='checkbox' ><label for='attrs-044d9b87-51c9-430b-8dea-8fbd324283a5' title='Show/Hide attributes'><svg class='icon xr-icon-file-text2'><use xlink:href='#icon-file-text2'></use></svg></label><input id='data-f3c44b7e-4264-4415-8211-27b45d7b83fc' class='xr-var-data-in' type='checkbox'><label for='data-f3c44b7e-4264-4415-8211-27b45d7b83fc' title='Show/Hide data repr'><svg class='icon xr-icon-database'><use xlink:href='#icon-database'></use></svg></label><div class='xr-var-attrs'><dl class='xr-attrs'><dt><span>axis :</span></dt><dd>Y</dd><dt><span>long_name :</span></dt><dd>latitude</dd><dt><span>standard_name :</span></dt><dd>latitude</dd><dt><span>units :</span></dt><dd>degrees_north</dd></dl></div><div class='xr-var-data'><pre>array([46.5, 47.5, 48.5, 49.5, 50.5, 51.5, 52.5, 53.5, 54.5, 55.5, 56.5, 57.5])</pre></div></li><li class='xr-var-item'><div class='xr-var-name'><span class='xr-has-index'>layer</span></div><div class='xr-var-dims'>(layer)</div><div class='xr-var-dtype'>int64</div><div class='xr-var-preview xr-preview'>0</div><input id='attrs-33d97ab2-decd-4239-a9fc-09d196b38b97' class='xr-var-attrs-in' type='checkbox' ><label for='attrs-33d97ab2-decd-4239-a9fc-09d196b38b97' title='Show/Hide attributes'><svg class='icon xr-icon-file-text2'><use xlink:href='#icon-file-text2'></use></svg></label><input id='data-be193c58-ffe3-4d4d-a09f-b289a3bd2e72' class='xr-var-data-in' type='checkbox'><label for='data-be193c58-ffe3-4d4d-a09f-b289a3bd2e72' title='Show/Hide data repr'><svg class='icon xr-icon-database'><use xlink:href='#icon-database'></use></svg></label><div class='xr-var-attrs'><dl class='xr-attrs'><dt><span>axis :</span></dt><dd>Z</dd><dt><span>desc :</span></dt><dd>The layer depth according to Seapodym definition</dd><dt><span>flag_meanings :</span></dt><dd>epipelagic, upper-mesopelagic, lower-mesopelagic</dd><dt><span>flag_values :</span></dt><dd>[0, 1, 2]</dd><dt><span>long_name :</span></dt><dd>Layer depth</dd><dt><span>standard_name :</span></dt><dd>layer</dd></dl></div><div class='xr-var-data'><pre>array([0])</pre></div></li><li class='xr-var-item'><div class='xr-var-name'><span class='xr-has-index'>longitude</span></div><div class='xr-var-dims'>(longitude)</div><div class='xr-var-dtype'>float64</div><div class='xr-var-preview xr-preview'>-156.5 -153.5 ... -129.5 -128.5</div><input id='attrs-8587b83f-8252-4881-82d4-8cfbc166a3ea' class='xr-var-attrs-in' type='checkbox' ><label for='attrs-8587b83f-8252-4881-82d4-8cfbc166a3ea' title='Show/Hide attributes'><svg class='icon xr-icon-file-text2'><use xlink:href='#icon-file-text2'></use></svg></label><input id='data-9790f57d-864f-41ba-88e1-5ea48498098f' class='xr-var-data-in' type='checkbox'><label for='data-9790f57d-864f-41ba-88e1-5ea48498098f' title='Show/Hide data repr'><svg class='icon xr-icon-database'><use xlink:href='#icon-database'></use></svg></label><div class='xr-var-attrs'><dl class='xr-attrs'><dt><span>axis :</span></dt><dd>X</dd><dt><span>long_name :</span></dt><dd>longitude</dd><dt><span>standard_name :</span></dt><dd>longitude</dd><dt><span>units :</span></dt><dd>degrees_east</dd></dl></div><div class='xr-var-data'><pre>array([-156.5, -153.5, -152.5, -151.5, -150.5, -149.5, -147.5, -146.5, -145.5,\n",
       "       -144.5, -143.5, -142.5, -141.5, -140.5, -139.5, -138.5, -137.5, -136.5,\n",
       "       -135.5, -134.5, -133.5, -132.5, -131.5, -130.5, -129.5, -128.5])</pre></div></li><li class='xr-var-item'><div class='xr-var-name'><span class='xr-has-index'>time</span></div><div class='xr-var-dims'>(time)</div><div class='xr-var-dtype'>datetime64[ns]</div><div class='xr-var-preview xr-preview'>1995-09-24 ... 2020-08-31</div><input id='attrs-e0c7552d-47bb-454d-a2b5-e21f111afd31' class='xr-var-attrs-in' type='checkbox' ><label for='attrs-e0c7552d-47bb-454d-a2b5-e21f111afd31' title='Show/Hide attributes'><svg class='icon xr-icon-file-text2'><use xlink:href='#icon-file-text2'></use></svg></label><input id='data-9acbd229-e3b2-41e0-9850-a80b36e11ad1' class='xr-var-data-in' type='checkbox'><label for='data-9acbd229-e3b2-41e0-9850-a80b36e11ad1' title='Show/Hide data repr'><svg class='icon xr-icon-database'><use xlink:href='#icon-database'></use></svg></label><div class='xr-var-attrs'><dl class='xr-attrs'><dt><span>axis :</span></dt><dd>T</dd><dt><span>long_name :</span></dt><dd>time</dd><dt><span>standard_name :</span></dt><dd>time</dd></dl></div><div class='xr-var-data'><pre>array([&#x27;1995-09-24T00:00:00.000000000&#x27;, &#x27;1995-09-25T00:00:00.000000000&#x27;,\n",
       "       &#x27;1995-09-26T00:00:00.000000000&#x27;, ..., &#x27;2020-08-20T00:00:00.000000000&#x27;,\n",
       "       &#x27;2020-08-30T00:00:00.000000000&#x27;, &#x27;2020-08-31T00:00:00.000000000&#x27;],\n",
       "      dtype=&#x27;datetime64[ns]&#x27;)</pre></div></li></ul></div></li><li class='xr-section-item'><input id='section-2368ed56-e8b5-41d2-8075-39c3abfb0cb1' class='xr-section-summary-in' type='checkbox'  checked><label for='section-2368ed56-e8b5-41d2-8075-39c3abfb0cb1' class='xr-section-summary' >Data variables: <span>(2)</span></label><div class='xr-section-inline-details'></div><div class='xr-section-details'><ul class='xr-var-list'><li class='xr-var-item'><div class='xr-var-name'><span>day</span></div><div class='xr-var-dims'>(time, latitude, longitude, layer)</div><div class='xr-var-dtype'>float64</div><div class='xr-var-preview xr-preview'>nan nan nan nan ... nan nan nan nan</div><input id='attrs-80d64a13-5601-404e-993d-55b2021d1655' class='xr-var-attrs-in' type='checkbox' ><label for='attrs-80d64a13-5601-404e-993d-55b2021d1655' title='Show/Hide attributes'><svg class='icon xr-icon-file-text2'><use xlink:href='#icon-file-text2'></use></svg></label><input id='data-467ec109-6419-4dd5-b5a8-7e85d5021eaf' class='xr-var-data-in' type='checkbox'><label for='data-467ec109-6419-4dd5-b5a8-7e85d5021eaf' title='Show/Hide data repr'><svg class='icon xr-icon-database'><use xlink:href='#icon-database'></use></svg></label><div class='xr-var-attrs'><dl class='xr-attrs'><dt><span>description :</span></dt><dd>Zooplankton carbon weight by cube meter of sea water at day</dd><dt><span>units :</span></dt><dd>mg/m3</dd></dl></div><div class='xr-var-data'><pre>array([[[[nan],\n",
       "         [nan],\n",
       "         [nan],\n",
       "         ...,\n",
       "         [nan],\n",
       "         [nan],\n",
       "         [nan]],\n",
       "\n",
       "        [[nan],\n",
       "         [nan],\n",
       "         [nan],\n",
       "         ...,\n",
       "         [nan],\n",
       "         [nan],\n",
       "         [nan]],\n",
       "\n",
       "        [[nan],\n",
       "         [nan],\n",
       "         [nan],\n",
       "         ...,\n",
       "...\n",
       "         ...,\n",
       "         [nan],\n",
       "         [nan],\n",
       "         [nan]],\n",
       "\n",
       "        [[nan],\n",
       "         [nan],\n",
       "         [nan],\n",
       "         ...,\n",
       "         [nan],\n",
       "         [nan],\n",
       "         [nan]],\n",
       "\n",
       "        [[nan],\n",
       "         [nan],\n",
       "         [nan],\n",
       "         ...,\n",
       "         [nan],\n",
       "         [nan],\n",
       "         [nan]]]])</pre></div></li><li class='xr-var-item'><div class='xr-var-name'><span>night</span></div><div class='xr-var-dims'>(time, latitude, longitude, layer)</div><div class='xr-var-dtype'>float64</div><div class='xr-var-preview xr-preview'>nan nan nan nan ... nan nan nan nan</div><input id='attrs-8e31fcd2-f5e2-4744-8f62-03506d5a3de8' class='xr-var-attrs-in' type='checkbox' ><label for='attrs-8e31fcd2-f5e2-4744-8f62-03506d5a3de8' title='Show/Hide attributes'><svg class='icon xr-icon-file-text2'><use xlink:href='#icon-file-text2'></use></svg></label><input id='data-1e5bac4f-f1c4-4092-97b1-ef4900fa8b52' class='xr-var-data-in' type='checkbox'><label for='data-1e5bac4f-f1c4-4092-97b1-ef4900fa8b52' title='Show/Hide data repr'><svg class='icon xr-icon-database'><use xlink:href='#icon-database'></use></svg></label><div class='xr-var-attrs'><dl class='xr-attrs'><dt><span>description :</span></dt><dd>Zooplankton carbon weight by cube meter of sea water at night</dd><dt><span>units :</span></dt><dd>mg/m3</dd></dl></div><div class='xr-var-data'><pre>array([[[[nan],\n",
       "         [nan],\n",
       "         [nan],\n",
       "         ...,\n",
       "         [nan],\n",
       "         [nan],\n",
       "         [nan]],\n",
       "\n",
       "        [[nan],\n",
       "         [nan],\n",
       "         [nan],\n",
       "         ...,\n",
       "         [nan],\n",
       "         [nan],\n",
       "         [nan]],\n",
       "\n",
       "        [[nan],\n",
       "         [nan],\n",
       "         [nan],\n",
       "         ...,\n",
       "...\n",
       "         ...,\n",
       "         [nan],\n",
       "         [nan],\n",
       "         [nan]],\n",
       "\n",
       "        [[nan],\n",
       "         [nan],\n",
       "         [nan],\n",
       "         ...,\n",
       "         [nan],\n",
       "         [nan],\n",
       "         [nan]],\n",
       "\n",
       "        [[nan],\n",
       "         [nan],\n",
       "         [nan],\n",
       "         ...,\n",
       "         [nan],\n",
       "         [nan],\n",
       "         [nan]]]])</pre></div></li></ul></div></li><li class='xr-section-item'><input id='section-e4a9d86e-de5a-4d74-a303-35064a0242ba' class='xr-section-summary-in' type='checkbox'  ><label for='section-e4a9d86e-de5a-4d74-a303-35064a0242ba' class='xr-section-summary' >Indexes: <span>(4)</span></label><div class='xr-section-inline-details'></div><div class='xr-section-details'><ul class='xr-var-list'><li class='xr-var-item'><div class='xr-index-name'><div>latitude</div></div><div class='xr-index-preview'>PandasIndex</div><input type='checkbox' disabled/><label></label><input id='index-220736c8-b050-4957-aed5-9baee376a743' class='xr-index-data-in' type='checkbox'/><label for='index-220736c8-b050-4957-aed5-9baee376a743' title='Show/Hide index repr'><svg class='icon xr-icon-database'><use xlink:href='#icon-database'></use></svg></label><div class='xr-index-data'><pre>PandasIndex(Index([46.5, 47.5, 48.5, 49.5, 50.5, 51.5, 52.5, 53.5, 54.5, 55.5, 56.5, 57.5], dtype=&#x27;float64&#x27;, name=&#x27;latitude&#x27;))</pre></div></li><li class='xr-var-item'><div class='xr-index-name'><div>layer</div></div><div class='xr-index-preview'>PandasIndex</div><input type='checkbox' disabled/><label></label><input id='index-5cb76f72-5e57-4f35-b434-b5fd8a8f720c' class='xr-index-data-in' type='checkbox'/><label for='index-5cb76f72-5e57-4f35-b434-b5fd8a8f720c' title='Show/Hide index repr'><svg class='icon xr-icon-database'><use xlink:href='#icon-database'></use></svg></label><div class='xr-index-data'><pre>PandasIndex(Index([0], dtype=&#x27;int64&#x27;, name=&#x27;layer&#x27;))</pre></div></li><li class='xr-var-item'><div class='xr-index-name'><div>longitude</div></div><div class='xr-index-preview'>PandasIndex</div><input type='checkbox' disabled/><label></label><input id='index-77966502-0e9f-4beb-9183-edca409b96bc' class='xr-index-data-in' type='checkbox'/><label for='index-77966502-0e9f-4beb-9183-edca409b96bc' title='Show/Hide index repr'><svg class='icon xr-icon-database'><use xlink:href='#icon-database'></use></svg></label><div class='xr-index-data'><pre>PandasIndex(Index([-156.5, -153.5, -152.5, -151.5, -150.5, -149.5, -147.5, -146.5, -145.5,\n",
       "       -144.5, -143.5, -142.5, -141.5, -140.5, -139.5, -138.5, -137.5, -136.5,\n",
       "       -135.5, -134.5, -133.5, -132.5, -131.5, -130.5, -129.5, -128.5],\n",
       "      dtype=&#x27;float64&#x27;, name=&#x27;longitude&#x27;))</pre></div></li><li class='xr-var-item'><div class='xr-index-name'><div>time</div></div><div class='xr-index-preview'>PandasIndex</div><input type='checkbox' disabled/><label></label><input id='index-9dfc111f-e7db-49c5-8ba0-25a2509d9f2c' class='xr-index-data-in' type='checkbox'/><label for='index-9dfc111f-e7db-49c5-8ba0-25a2509d9f2c' title='Show/Hide index repr'><svg class='icon xr-icon-database'><use xlink:href='#icon-database'></use></svg></label><div class='xr-index-data'><pre>PandasIndex(DatetimeIndex([&#x27;1995-09-24&#x27;, &#x27;1995-09-25&#x27;, &#x27;1995-09-26&#x27;, &#x27;1995-09-28&#x27;,\n",
       "               &#x27;1996-03-06&#x27;, &#x27;1996-06-11&#x27;, &#x27;1996-10-05&#x27;, &#x27;1997-02-21&#x27;,\n",
       "               &#x27;1997-02-24&#x27;, &#x27;1997-03-14&#x27;,\n",
       "               ...\n",
       "               &#x27;2020-07-05&#x27;, &#x27;2020-07-22&#x27;, &#x27;2020-07-26&#x27;, &#x27;2020-08-14&#x27;,\n",
       "               &#x27;2020-08-15&#x27;, &#x27;2020-08-17&#x27;, &#x27;2020-08-18&#x27;, &#x27;2020-08-20&#x27;,\n",
       "               &#x27;2020-08-30&#x27;, &#x27;2020-08-31&#x27;],\n",
       "              dtype=&#x27;datetime64[ns]&#x27;, name=&#x27;time&#x27;, length=623, freq=None))</pre></div></li></ul></div></li><li class='xr-section-item'><input id='section-6434b809-6de1-4ac2-b3ca-33f21ac97e5c' class='xr-section-summary-in' type='checkbox' disabled ><label for='section-6434b809-6de1-4ac2-b3ca-33f21ac97e5c' class='xr-section-summary'  title='Expand/collapse section'>Attributes: <span>(0)</span></label><div class='xr-section-inline-details'></div><div class='xr-section-details'><dl class='xr-attrs'></dl></div></li></ul></div></div>"
      ],
      "text/plain": [
       "<xarray.Dataset> Size: 3MB\n",
       "Dimensions:    (time: 623, latitude: 12, longitude: 26, layer: 1)\n",
       "Coordinates:\n",
       "  * latitude   (latitude) float64 96B 46.5 47.5 48.5 49.5 ... 55.5 56.5 57.5\n",
       "  * layer      (layer) int64 8B 0\n",
       "  * longitude  (longitude) float64 208B -156.5 -153.5 -152.5 ... -129.5 -128.5\n",
       "  * time       (time) datetime64[ns] 5kB 1995-09-24 1995-09-25 ... 2020-08-31\n",
       "Data variables:\n",
       "    day        (time, latitude, longitude, layer) float64 2MB nan nan ... nan\n",
       "    night      (time, latitude, longitude, layer) float64 2MB nan nan ... nan"
      ]
     },
     "execution_count": 3,
     "metadata": {},
     "output_type": "execute_result"
    }
   ],
   "source": [
    "data = xr.load_dataset(f\"../data/1_products/{station}_obs.zarr\", engine=\"zarr\")\n",
    "data"
   ]
  },
  {
   "cell_type": "markdown",
   "metadata": {},
   "source": [
    "# Remove outliers\n"
   ]
  },
  {
   "cell_type": "code",
   "execution_count": 4,
   "metadata": {},
   "outputs": [],
   "source": [
    "q1 = data.quantile(0.25, dim=[\"time\", \"latitude\", \"longitude\"])\n",
    "q3 = data.quantile(0.75, dim=[\"time\", \"latitude\", \"longitude\"])\n",
    "iqr = q3 - q1"
   ]
  },
  {
   "cell_type": "code",
   "execution_count": 5,
   "metadata": {},
   "outputs": [],
   "source": [
    "lower_bound = q1 - 1.5 * iqr\n",
    "upper_bound = q3 + 1.5 * iqr"
   ]
  },
  {
   "cell_type": "code",
   "execution_count": 6,
   "metadata": {},
   "outputs": [],
   "source": [
    "new_data = data.where((data > lower_bound) & (data < upper_bound))"
   ]
  },
  {
   "cell_type": "code",
   "execution_count": 7,
   "metadata": {},
   "outputs": [
    {
     "name": "stdout",
     "output_type": "stream",
     "text": [
      "Original data\n",
      "Number of observation = 757\n",
      "Number of observation in same place during same day = 37\n",
      "\n",
      "Without outliers\n",
      "Number of observation = 709\n",
      "Number of observation in same place during same day = 31\n"
     ]
    }
   ],
   "source": [
    "print(\"Original data\")\n",
    "print(f\"Number of observation = {int(data.day.notnull().sum() + data.night.notnull().sum())}\")\n",
    "print(f\"Number of observation in same place during same day = {int((data.day.notnull() & data.night.notnull()).sum())}\")\n",
    "\n",
    "print(\"\\nWithout outliers\")\n",
    "print(f\"Number of observation = {int(new_data.day.notnull().sum() + new_data.night.notnull().sum())}\")\n",
    "print(\n",
    "    f\"Number of observation in same place during same day = {int((new_data.day.notnull() & new_data.night.notnull()).sum())}\"\n",
    ")"
   ]
  },
  {
   "cell_type": "code",
   "execution_count": 8,
   "metadata": {},
   "outputs": [
    {
     "data": {
      "text/plain": [
       "Text(0.5, 1.0, 'Number of days with day-night difference > 0')"
      ]
     },
     "execution_count": 8,
     "metadata": {},
     "output_type": "execute_result"
    },
    {
     "data": {
      "image/png": "[encoded data removed]",
      "text/plain": [
       "<Figure size 640x480 with 2 Axes>"
      ]
     },
     "metadata": {},
     "output_type": "display_data"
    }
   ],
   "source": [
    "((xr.where(new_data.day.notnull() & new_data.night.notnull(), new_data.day - new_data.night, np.nan)) > 0).sum(\n",
    "    \"time\"\n",
    ").plot()\n",
    "plt.title(\"Number of days with day-night difference > 0\")"
   ]
  },
  {
   "cell_type": "code",
   "execution_count": 9,
   "metadata": {},
   "outputs": [
    {
     "data": {
      "application/vnd.plotly.v1+json": {
       "config": {
        "plotlyServerURL": "https://plot.ly"
       },
       "data": [
        {
         "hovertemplate": "time=%{x}<br>value=%{y}<extra></extra>",
         "legendgroup": "",
         "marker": {
          "color": "#636efa",
          "symbol": "circle"
         },
         "mode": "markers",
         "name": "",
         "orientation": "v",
         "showlegend": false,
         "type": "scatter",
         "x": [
          "2000-12-31T00:00:00",
          "2001-12-31T00:00:00",
          "2011-12-31T00:00:00",
          "2012-12-31T00:00:00",
          "2017-12-31T00:00:00",
          "2019-12-31T00:00:00"
         ],
         "xaxis": "x",
         "y": [
          3,
          2,
          1,
          1,
          3,
          1
         ],
         "yaxis": "y"
        }
       ],
       "layout": {
        "legend": {
         "tracegroupgap": 0
        },
        "template": {
         "data": {
          "bar": [
           {
            "error_x": {
             "color": "#2a3f5f"
            },
            "error_y": {
             "color": "#2a3f5f"
            },
            "marker": {
             "line": {
              "color": "#E5ECF6",
              "width": 0.5
             },
             "pattern": {
              "fillmode": "overlay",
              "size": 10,
              "solidity": 0.2
             }
            },
            "type": "bar"
           }
          ],
          "barpolar": [
           {
            "marker": {
             "line": {
              "color": "#E5ECF6",
              "width": 0.5
             },
             "pattern": {
              "fillmode": "overlay",
              "size": 10,
              "solidity": 0.2
             }
            },
            "type": "barpolar"
           }
          ],
          "carpet": [
           {
            "aaxis": {
             "endlinecolor": "#2a3f5f",
             "gridcolor": "white",
             "linecolor": "white",
             "minorgridcolor": "white",
             "startlinecolor": "#2a3f5f"
            },
            "baxis": {
             "endlinecolor": "#2a3f5f",
             "gridcolor": "white",
             "linecolor": "white",
             "minorgridcolor": "white",
             "startlinecolor": "#2a3f5f"
            },
            "type": "carpet"
           }
          ],
          "choropleth": [
           {
            "colorbar": {
             "outlinewidth": 0,
             "ticks": ""
            },
            "type": "choropleth"
           }
          ],
          "contour": [
           {
            "colorbar": {
             "outlinewidth": 0,
             "ticks": ""
            },
            "colorscale": [
             [
              0,
              "#0d0887"
             ],
             [
              0.1111111111111111,
              "#46039f"
             ],
             [
              0.2222222222222222,
              "#7201a8"
             ],
             [
              0.3333333333333333,
              "#9c179e"
             ],
             [
              0.4444444444444444,
              "#bd3786"
             ],
             [
              0.5555555555555556,
              "#d8576b"
             ],
             [
              0.6666666666666666,
              "#ed7953"
             ],
             [
              0.7777777777777778,
              "#fb9f3a"
             ],
             [
              0.8888888888888888,
              "#fdca26"
             ],
             [
              1,
              "#f0f921"
             ]
            ],
            "type": "contour"
           }
          ],
          "contourcarpet": [
           {
            "colorbar": {
             "outlinewidth": 0,
             "ticks": ""
            },
            "type": "contourcarpet"
           }
          ],
          "heatmap": [
           {
            "colorbar": {
             "outlinewidth": 0,
             "ticks": ""
            },
            "colorscale": [
             [
              0,
              "#0d0887"
             ],
             [
              0.1111111111111111,
              "#46039f"
             ],
             [
              0.2222222222222222,
              "#7201a8"
             ],
             [
              0.3333333333333333,
              "#9c179e"
             ],
             [
              0.4444444444444444,
              "#bd3786"
             ],
             [
              0.5555555555555556,
              "#d8576b"
             ],
             [
              0.6666666666666666,
              "#ed7953"
             ],
             [
              0.7777777777777778,
              "#fb9f3a"
             ],
             [
              0.8888888888888888,
              "#fdca26"
             ],
             [
              1,
              "#f0f921"
             ]
            ],
            "type": "heatmap"
           }
          ],
          "heatmapgl": [
           {
            "colorbar": {
             "outlinewidth": 0,
             "ticks": ""
            },
            "colorscale": [
             [
              0,
              "#0d0887"
             ],
             [
              0.1111111111111111,
              "#46039f"
             ],
             [
              0.2222222222222222,
              "#7201a8"
             ],
             [
              0.3333333333333333,
              "#9c179e"
             ],
             [
              0.4444444444444444,
              "#bd3786"
             ],
             [
              0.5555555555555556,
              "#d8576b"
             ],
             [
              0.6666666666666666,
              "#ed7953"
             ],
             [
              0.7777777777777778,
              "#fb9f3a"
             ],
             [
              0.8888888888888888,
              "#fdca26"
             ],
             [
              1,
              "#f0f921"
             ]
            ],
            "type": "heatmapgl"
           }
          ],
          "histogram": [
           {
            "marker": {
             "pattern": {
              "fillmode": "overlay",
              "size": 10,
              "solidity": 0.2
             }
            },
            "type": "histogram"
           }
          ],
          "histogram2d": [
           {
            "colorbar": {
             "outlinewidth": 0,
             "ticks": ""
            },
            "colorscale": [
             [
              0,
              "#0d0887"
             ],
             [
              0.1111111111111111,
              "#46039f"
             ],
             [
              0.2222222222222222,
              "#7201a8"
             ],
             [
              0.3333333333333333,
              "#9c179e"
             ],
             [
              0.4444444444444444,
              "#bd3786"
             ],
             [
              0.5555555555555556,
              "#d8576b"
             ],
             [
              0.6666666666666666,
              "#ed7953"
             ],
             [
              0.7777777777777778,
              "#fb9f3a"
             ],
             [
              0.8888888888888888,
              "#fdca26"
             ],
             [
              1,
              "#f0f921"
             ]
            ],
            "type": "histogram2d"
           }
          ],
          "histogram2dcontour": [
           {
            "colorbar": {
             "outlinewidth": 0,
             "ticks": ""
            },
            "colorscale": [
             [
              0,
              "#0d0887"
             ],
             [
              0.1111111111111111,
              "#46039f"
             ],
             [
              0.2222222222222222,
              "#7201a8"
             ],
             [
              0.3333333333333333,
              "#9c179e"
             ],
             [
              0.4444444444444444,
              "#bd3786"
             ],
             [
              0.5555555555555556,
              "#d8576b"
             ],
             [
              0.6666666666666666,
              "#ed7953"
             ],
             [
              0.7777777777777778,
              "#fb9f3a"
             ],
             [
              0.8888888888888888,
              "#fdca26"
             ],
             [
              1,
              "#f0f921"
             ]
            ],
            "type": "histogram2dcontour"
           }
          ],
          "mesh3d": [
           {
            "colorbar": {
             "outlinewidth": 0,
             "ticks": ""
            },
            "type": "mesh3d"
           }
          ],
          "parcoords": [
           {
            "line": {
             "colorbar": {
              "outlinewidth": 0,
              "ticks": ""
             }
            },
            "type": "parcoords"
           }
          ],
          "pie": [
           {
            "automargin": true,
            "type": "pie"
           }
          ],
          "scatter": [
           {
            "fillpattern": {
             "fillmode": "overlay",
             "size": 10,
             "solidity": 0.2
            },
            "type": "scatter"
           }
          ],
          "scatter3d": [
           {
            "line": {
             "colorbar": {
              "outlinewidth": 0,
              "ticks": ""
             }
            },
            "marker": {
             "colorbar": {
              "outlinewidth": 0,
              "ticks": ""
             }
            },
            "type": "scatter3d"
           }
          ],
          "scattercarpet": [
           {
            "marker": {
             "colorbar": {
              "outlinewidth": 0,
              "ticks": ""
             }
            },
            "type": "scattercarpet"
           }
          ],
          "scattergeo": [
           {
            "marker": {
             "colorbar": {
              "outlinewidth": 0,
              "ticks": ""
             }
            },
            "type": "scattergeo"
           }
          ],
          "scattergl": [
           {
            "marker": {
             "colorbar": {
              "outlinewidth": 0,
              "ticks": ""
             }
            },
            "type": "scattergl"
           }
          ],
          "scattermapbox": [
           {
            "marker": {
             "colorbar": {
              "outlinewidth": 0,
              "ticks": ""
             }
            },
            "type": "scattermapbox"
           }
          ],
          "scatterpolar": [
           {
            "marker": {
             "colorbar": {
              "outlinewidth": 0,
              "ticks": ""
             }
            },
            "type": "scatterpolar"
           }
          ],
          "scatterpolargl": [
           {
            "marker": {
             "colorbar": {
              "outlinewidth": 0,
              "ticks": ""
             }
            },
            "type": "scatterpolargl"
           }
          ],
          "scatterternary": [
           {
            "marker": {
             "colorbar": {
              "outlinewidth": 0,
              "ticks": ""
             }
            },
            "type": "scatterternary"
           }
          ],
          "surface": [
           {
            "colorbar": {
             "outlinewidth": 0,
             "ticks": ""
            },
            "colorscale": [
             [
              0,
              "#0d0887"
             ],
             [
              0.1111111111111111,
              "#46039f"
             ],
             [
              0.2222222222222222,
              "#7201a8"
             ],
             [
              0.3333333333333333,
              "#9c179e"
             ],
             [
              0.4444444444444444,
              "#bd3786"
             ],
             [
              0.5555555555555556,
              "#d8576b"
             ],
             [
              0.6666666666666666,
              "#ed7953"
             ],
             [
              0.7777777777777778,
              "#fb9f3a"
             ],
             [
              0.8888888888888888,
              "#fdca26"
             ],
             [
              1,
              "#f0f921"
             ]
            ],
            "type": "surface"
           }
          ],
          "table": [
           {
            "cells": {
             "fill": {
              "color": "#EBF0F8"
             },
             "line": {
              "color": "white"
             }
            },
            "header": {
             "fill": {
              "color": "#C8D4E3"
             },
             "line": {
              "color": "white"
             }
            },
            "type": "table"
           }
          ]
         },
         "layout": {
          "annotationdefaults": {
           "arrowcolor": "#2a3f5f",
           "arrowhead": 0,
           "arrowwidth": 1
          },
          "autotypenumbers": "strict",
          "coloraxis": {
           "colorbar": {
            "outlinewidth": 0,
            "ticks": ""
           }
          },
          "colorscale": {
           "diverging": [
            [
             0,
             "#8e0152"
            ],
            [
             0.1,
             "#c51b7d"
            ],
            [
             0.2,
             "#de77ae"
            ],
            [
             0.3,
             "#f1b6da"
            ],
            [
             0.4,
             "#fde0ef"
            ],
            [
             0.5,
             "#f7f7f7"
            ],
            [
             0.6,
             "#e6f5d0"
            ],
            [
             0.7,
             "#b8e186"
            ],
            [
             0.8,
             "#7fbc41"
            ],
            [
             0.9,
             "#4d9221"
            ],
            [
             1,
             "#276419"
            ]
           ],
           "sequential": [
            [
             0,
             "#0d0887"
            ],
            [
             0.1111111111111111,
             "#46039f"
            ],
            [
             0.2222222222222222,
             "#7201a8"
            ],
            [
             0.3333333333333333,
             "#9c179e"
            ],
            [
             0.4444444444444444,
             "#bd3786"
            ],
            [
             0.5555555555555556,
             "#d8576b"
            ],
            [
             0.6666666666666666,
             "#ed7953"
            ],
            [
             0.7777777777777778,
             "#fb9f3a"
            ],
            [
             0.8888888888888888,
             "#fdca26"
            ],
            [
             1,
             "#f0f921"
            ]
           ],
           "sequentialminus": [
            [
             0,
             "#0d0887"
            ],
            [
             0.1111111111111111,
             "#46039f"
            ],
            [
             0.2222222222222222,
             "#7201a8"
            ],
            [
             0.3333333333333333,
             "#9c179e"
            ],
            [
             0.4444444444444444,
             "#bd3786"
            ],
            [
             0.5555555555555556,
             "#d8576b"
            ],
            [
             0.6666666666666666,
             "#ed7953"
            ],
            [
             0.7777777777777778,
             "#fb9f3a"
            ],
            [
             0.8888888888888888,
             "#fdca26"
            ],
            [
             1,
             "#f0f921"
            ]
           ]
          },
          "colorway": [
           "#636efa",
           "#EF553B",
           "#00cc96",
           "#ab63fa",
           "#FFA15A",
           "#19d3f3",
           "#FF6692",
           "#B6E880",
           "#FF97FF",
           "#FECB52"
          ],
          "font": {
           "color": "#2a3f5f"
          },
          "geo": {
           "bgcolor": "white",
           "lakecolor": "white",
           "landcolor": "#E5ECF6",
           "showlakes": true,
           "showland": true,
           "subunitcolor": "white"
          },
          "hoverlabel": {
           "align": "left"
          },
          "hovermode": "closest",
          "mapbox": {
           "style": "light"
          },
          "paper_bgcolor": "white",
          "plot_bgcolor": "#E5ECF6",
          "polar": {
           "angularaxis": {
            "gridcolor": "white",
            "linecolor": "white",
            "ticks": ""
           },
           "bgcolor": "#E5ECF6",
           "radialaxis": {
            "gridcolor": "white",
            "linecolor": "white",
            "ticks": ""
           }
          },
          "scene": {
           "xaxis": {
            "backgroundcolor": "#E5ECF6",
            "gridcolor": "white",
            "gridwidth": 2,
            "linecolor": "white",
            "showbackground": true,
            "ticks": "",
            "zerolinecolor": "white"
           },
           "yaxis": {
            "backgroundcolor": "#E5ECF6",
            "gridcolor": "white",
            "gridwidth": 2,
            "linecolor": "white",
            "showbackground": true,
            "ticks": "",
            "zerolinecolor": "white"
           },
           "zaxis": {
            "backgroundcolor": "#E5ECF6",
            "gridcolor": "white",
            "gridwidth": 2,
            "linecolor": "white",
            "showbackground": true,
            "ticks": "",
            "zerolinecolor": "white"
           }
          },
          "shapedefaults": {
           "line": {
            "color": "#2a3f5f"
           }
          },
          "ternary": {
           "aaxis": {
            "gridcolor": "white",
            "linecolor": "white",
            "ticks": ""
           },
           "baxis": {
            "gridcolor": "white",
            "linecolor": "white",
            "ticks": ""
           },
           "bgcolor": "#E5ECF6",
           "caxis": {
            "gridcolor": "white",
            "linecolor": "white",
            "ticks": ""
           }
          },
          "title": {
           "x": 0.05
          },
          "xaxis": {
           "automargin": true,
           "gridcolor": "white",
           "linecolor": "white",
           "ticks": "",
           "title": {
            "standoff": 15
           },
           "zerolinecolor": "white",
           "zerolinewidth": 2
          },
          "yaxis": {
           "automargin": true,
           "gridcolor": "white",
           "linecolor": "white",
           "ticks": "",
           "title": {
            "standoff": 15
           },
           "zerolinecolor": "white",
           "zerolinewidth": 2
          }
         }
        },
        "title": {
         "text": "Removed values : 22"
        },
        "xaxis": {
         "anchor": "y",
         "domain": [
          0,
          1
         ],
         "title": {
          "text": "time"
         }
        },
        "yaxis": {
         "anchor": "x",
         "domain": [
          0,
          1
         ],
         "title": {
          "text": "value"
         }
        }
       }
      }
     },
     "metadata": {},
     "output_type": "display_data"
    }
   ],
   "source": [
    "removed = (\n",
    "    ((xr.where(new_data.day.notnull() & new_data.night.notnull(), new_data.day - new_data.night, np.nan)) > 0)\n",
    "    .sum([\"latitude\", \"longitude\"])\n",
    "    .resample({\"time\": \"1YE\"})\n",
    "    .sum()\n",
    "    .rename(\"value\")\n",
    "    .to_dataframe()\n",
    "    .reset_index()\n",
    "    .query(\"value > 0\")\n",
    ")\n",
    "\n",
    "removed.plot(kind=\"scatter\", x=\"time\", y=\"value\", title=f\"Removed values : {removed.value.sum() * 2}\")"
   ]
  },
  {
   "cell_type": "markdown",
   "metadata": {},
   "source": [
    "# Remove observations when day > night\n"
   ]
  },
  {
   "cell_type": "code",
   "execution_count": 10,
   "metadata": {},
   "outputs": [],
   "source": [
    "# condition_day_greater_night = (new_data[\"day\"] > new_data[\"night\"]) & (\n",
    "#     new_data[\"day\"].notnull() & new_data[\"night\"].notnull()\n",
    "# )\n",
    "# final_data = xr.where(condition_day_greater_night, np.nan, new_data)\n",
    "# final_data"
   ]
  },
  {
   "cell_type": "markdown",
   "metadata": {},
   "source": [
    "## DAY\n"
   ]
  },
  {
   "cell_type": "code",
   "execution_count": 11,
   "metadata": {},
   "outputs": [
    {
     "data": {
      "application/vnd.plotly.v1+json": {
       "config": {
        "plotlyServerURL": "https://plot.ly"
       },
       "data": [
        {
         "hovertemplate": "variable=original<br>time=%{x}<br>value=%{y}<extra></extra>",
         "legendgroup": "original",
         "marker": {
          "color": "#636efa",
          "opacity": 0.5,
          "symbol": "circle"
         },
         "mode": "lines+markers",
         "name": "original",
         "orientation": "v",
         "showlegend": true,
         "type": "scatter",
         "x": [
          "1995-09-24T00:00:00",
          "1995-09-25T00:00:00",
          "1996-03-06T00:00:00",
          "1997-03-14T00:00:00",
          "1997-03-15T00:00:00",
          "1997-03-16T00:00:00",
          "1997-03-17T00:00:00",
          "1997-03-18T00:00:00",
          "1997-03-24T00:00:00",
          "1997-03-25T00:00:00",
          "1997-03-26T00:00:00",
          "1997-03-29T00:00:00",
          "1997-04-10T00:00:00",
          "1997-06-16T00:00:00",
          "1997-07-03T00:00:00",
          "1997-07-04T00:00:00",
          "1997-07-05T00:00:00",
          "1997-07-06T00:00:00",
          "1997-07-07T00:00:00",
          "1997-07-08T00:00:00",
          "1997-07-09T00:00:00",
          "1997-07-10T00:00:00",
          "1997-07-11T00:00:00",
          "1997-07-18T00:00:00",
          "1997-08-29T00:00:00",
          "1997-08-30T00:00:00",
          "1997-08-31T00:00:00",
          "1997-09-01T00:00:00",
          "1997-09-04T00:00:00",
          "1997-09-05T00:00:00",
          "1997-09-10T00:00:00",
          "1997-09-28T00:00:00",
          "1997-12-02T00:00:00",
          "1998-01-20T00:00:00",
          "1998-02-21T00:00:00",
          "1998-02-24T00:00:00",
          "1998-02-27T00:00:00",
          "1998-02-28T00:00:00",
          "1998-03-03T00:00:00",
          "1998-04-09T00:00:00",
          "1998-05-13T00:00:00",
          "1998-05-17T00:00:00",
          "1998-05-18T00:00:00",
          "1998-05-19T00:00:00",
          "1998-05-20T00:00:00",
          "1998-05-27T00:00:00",
          "1998-06-03T00:00:00",
          "1998-06-05T00:00:00",
          "1998-06-09T00:00:00",
          "1998-06-15T00:00:00",
          "1998-06-18T00:00:00",
          "1998-06-23T00:00:00",
          "1998-06-24T00:00:00",
          "1998-07-04T00:00:00",
          "1998-07-05T00:00:00",
          "1998-07-06T00:00:00",
          "1998-07-07T00:00:00",
          "1998-07-08T00:00:00",
          "1998-07-09T00:00:00",
          "1998-07-21T00:00:00",
          "1998-07-23T00:00:00",
          "1998-08-27T00:00:00",
          "1998-09-05T00:00:00",
          "1998-10-07T00:00:00",
          "1998-10-10T00:00:00",
          "1998-10-13T00:00:00",
          "1998-10-14T00:00:00",
          "1999-02-18T00:00:00",
          "1999-02-21T00:00:00",
          "1999-05-08T00:00:00",
          "1999-05-09T00:00:00",
          "1999-05-10T00:00:00",
          "1999-05-11T00:00:00",
          "1999-05-20T00:00:00",
          "1999-05-24T00:00:00",
          "1999-06-18T00:00:00",
          "1999-06-19T00:00:00",
          "1999-06-20T00:00:00",
          "1999-06-21T00:00:00",
          "1999-06-24T00:00:00",
          "1999-07-05T00:00:00",
          "1999-07-08T00:00:00",
          "1999-07-09T00:00:00",
          "1999-07-10T00:00:00",
          "1999-07-11T00:00:00",
          "1999-07-12T00:00:00",
          "1999-07-13T00:00:00",
          "1999-08-26T00:00:00",
          "1999-08-27T00:00:00",
          "1999-09-06T00:00:00",
          "1999-09-27T00:00:00",
          "2000-02-15T00:00:00",
          "2000-05-08T00:00:00",
          "2000-05-10T00:00:00",
          "2000-06-03T00:00:00",
          "2000-06-18T00:00:00",
          "2000-06-19T00:00:00",
          "2000-07-06T00:00:00",
          "2000-07-07T00:00:00",
          "2000-07-08T00:00:00",
          "2000-07-12T00:00:00",
          "2000-07-13T00:00:00",
          "2000-08-03T00:00:00",
          "2000-08-04T00:00:00",
          "2000-08-05T00:00:00",
          "2000-08-07T00:00:00",
          "2000-08-10T00:00:00",
          "2000-09-15T00:00:00",
          "2000-09-26T00:00:00",
          "2000-09-27T00:00:00",
          "2000-10-01T00:00:00",
          "2000-10-02T00:00:00",
          "2001-02-11T00:00:00",
          "2001-02-16T00:00:00",
          "2001-02-17T00:00:00",
          "2001-02-19T00:00:00",
          "2001-03-23T00:00:00",
          "2001-05-31T00:00:00",
          "2001-06-02T00:00:00",
          "2001-06-03T00:00:00",
          "2001-06-04T00:00:00",
          "2001-06-05T00:00:00",
          "2001-06-06T00:00:00",
          "2001-06-07T00:00:00",
          "2001-06-08T00:00:00",
          "2001-06-09T00:00:00",
          "2001-06-10T00:00:00",
          "2001-06-12T00:00:00",
          "2001-06-16T00:00:00",
          "2001-06-21T00:00:00",
          "2001-06-22T00:00:00",
          "2001-06-23T00:00:00",
          "2001-06-24T00:00:00",
          "2001-07-04T00:00:00",
          "2001-07-06T00:00:00",
          "2001-08-29T00:00:00",
          "2001-09-19T00:00:00",
          "2001-09-22T00:00:00",
          "2001-09-23T00:00:00",
          "2001-09-25T00:00:00",
          "2001-09-26T00:00:00",
          "2001-09-28T00:00:00",
          "2001-09-30T00:00:00",
          "2002-02-11T00:00:00",
          "2002-02-13T00:00:00",
          "2002-02-14T00:00:00",
          "2002-03-05T00:00:00",
          "2002-05-03T00:00:00",
          "2002-05-05T00:00:00",
          "2002-05-06T00:00:00",
          "2002-06-19T00:00:00",
          "2002-06-26T00:00:00",
          "2002-07-01T00:00:00",
          "2002-07-02T00:00:00",
          "2002-07-03T00:00:00",
          "2002-07-04T00:00:00",
          "2002-07-05T00:00:00",
          "2002-07-19T00:00:00",
          "2002-07-22T00:00:00",
          "2002-07-23T00:00:00",
          "2002-07-24T00:00:00",
          "2002-08-18T00:00:00",
          "2002-08-27T00:00:00",
          "2002-09-03T00:00:00",
          "2002-09-19T00:00:00",
          "2002-09-21T00:00:00",
          "2002-10-19T00:00:00",
          "2002-10-23T00:00:00",
          "2003-02-12T00:00:00",
          "2003-02-14T00:00:00",
          "2003-02-15T00:00:00",
          "2003-02-16T00:00:00",
          "2003-02-17T00:00:00",
          "2003-02-21T00:00:00",
          "2003-05-19T00:00:00",
          "2003-05-20T00:00:00",
          "2003-05-29T00:00:00",
          "2003-05-30T00:00:00",
          "2003-05-31T00:00:00",
          "2003-06-01T00:00:00",
          "2003-06-03T00:00:00",
          "2003-06-09T00:00:00",
          "2003-06-10T00:00:00",
          "2003-06-11T00:00:00",
          "2003-09-01T00:00:00",
          "2003-09-02T00:00:00",
          "2003-09-03T00:00:00",
          "2003-09-04T00:00:00",
          "2003-09-06T00:00:00",
          "2003-09-26T00:00:00",
          "2004-02-20T00:00:00",
          "2004-02-27T00:00:00",
          "2004-05-29T00:00:00",
          "2004-05-30T00:00:00",
          "2004-06-03T00:00:00",
          "2004-06-04T00:00:00",
          "2004-06-07T00:00:00",
          "2004-06-14T00:00:00",
          "2004-08-22T00:00:00",
          "2004-08-23T00:00:00",
          "2004-08-24T00:00:00",
          "2004-09-05T00:00:00",
          "2004-09-06T00:00:00",
          "2004-10-27T00:00:00",
          "2005-02-15T00:00:00",
          "2005-02-16T00:00:00",
          "2005-02-18T00:00:00",
          "2005-02-19T00:00:00",
          "2005-02-23T00:00:00",
          "2005-03-12T00:00:00",
          "2005-03-13T00:00:00",
          "2005-05-27T00:00:00",
          "2005-06-03T00:00:00",
          "2005-06-06T00:00:00",
          "2005-06-07T00:00:00",
          "2005-06-15T00:00:00",
          "2005-07-29T00:00:00",
          "2005-08-13T00:00:00",
          "2005-08-18T00:00:00",
          "2005-08-21T00:00:00",
          "2005-08-23T00:00:00",
          "2005-08-28T00:00:00",
          "2005-09-08T00:00:00",
          "2006-02-06T00:00:00",
          "2006-02-10T00:00:00",
          "2006-02-13T00:00:00",
          "2006-04-21T00:00:00",
          "2006-07-14T00:00:00",
          "2006-07-17T00:00:00",
          "2006-08-24T00:00:00",
          "2006-08-27T00:00:00",
          "2006-09-22T00:00:00",
          "2006-09-24T00:00:00",
          "2006-09-28T00:00:00",
          "2006-10-02T00:00:00",
          "2006-10-04T00:00:00",
          "2007-02-10T00:00:00",
          "2007-02-11T00:00:00",
          "2007-02-12T00:00:00",
          "2007-02-15T00:00:00",
          "2007-02-16T00:00:00",
          "2007-02-18T00:00:00",
          "2007-05-26T00:00:00",
          "2007-06-02T00:00:00",
          "2007-06-03T00:00:00",
          "2007-06-04T00:00:00",
          "2007-06-27T00:00:00",
          "2007-06-28T00:00:00",
          "2007-07-04T00:00:00",
          "2007-07-05T00:00:00",
          "2007-07-06T00:00:00",
          "2007-07-07T00:00:00",
          "2007-07-08T00:00:00",
          "2007-08-17T00:00:00",
          "2007-08-18T00:00:00",
          "2007-08-19T00:00:00",
          "2007-08-21T00:00:00",
          "2007-08-22T00:00:00",
          "2007-09-06T00:00:00",
          "2007-09-07T00:00:00",
          "2008-02-02T00:00:00",
          "2008-02-03T00:00:00",
          "2008-02-04T00:00:00",
          "2008-02-06T00:00:00",
          "2008-02-10T00:00:00",
          "2008-05-25T00:00:00",
          "2008-05-26T00:00:00",
          "2008-06-02T00:00:00",
          "2008-06-03T00:00:00",
          "2008-06-04T00:00:00",
          "2008-06-06T00:00:00",
          "2008-06-08T00:00:00",
          "2008-07-04T00:00:00",
          "2008-07-05T00:00:00",
          "2008-07-07T00:00:00",
          "2008-07-09T00:00:00",
          "2008-08-15T00:00:00",
          "2008-08-17T00:00:00",
          "2008-09-04T00:00:00",
          "2009-01-30T00:00:00",
          "2009-01-31T00:00:00",
          "2009-05-31T00:00:00",
          "2009-06-01T00:00:00",
          "2009-06-08T00:00:00",
          "2009-06-10T00:00:00",
          "2009-06-11T00:00:00",
          "2009-07-11T00:00:00",
          "2009-07-12T00:00:00",
          "2009-07-13T00:00:00",
          "2009-07-14T00:00:00",
          "2009-08-22T00:00:00",
          "2009-08-27T00:00:00",
          "2009-08-31T00:00:00",
          "2009-09-09T00:00:00",
          "2009-09-10T00:00:00",
          "2010-02-05T00:00:00",
          "2010-02-08T00:00:00",
          "2010-05-31T00:00:00",
          "2010-06-09T00:00:00",
          "2010-06-11T00:00:00",
          "2010-06-14T00:00:00",
          "2010-07-23T00:00:00",
          "2010-07-24T00:00:00",
          "2010-07-26T00:00:00",
          "2010-07-28T00:00:00",
          "2010-08-21T00:00:00",
          "2010-08-22T00:00:00",
          "2010-08-23T00:00:00",
          "2010-08-25T00:00:00",
          "2010-08-26T00:00:00",
          "2010-09-10T00:00:00",
          "2011-02-10T00:00:00",
          "2011-02-11T00:00:00",
          "2011-02-12T00:00:00",
          "2011-02-14T00:00:00",
          "2011-02-16T00:00:00",
          "2011-05-29T00:00:00",
          "2011-05-30T00:00:00",
          "2011-06-05T00:00:00",
          "2011-06-06T00:00:00",
          "2011-06-08T00:00:00",
          "2011-06-09T00:00:00",
          "2011-06-13T00:00:00",
          "2011-08-22T00:00:00",
          "2011-08-23T00:00:00",
          "2011-08-26T00:00:00",
          "2011-09-06T00:00:00",
          "2011-09-07T00:00:00",
          "2011-09-08T00:00:00",
          "2012-02-10T00:00:00",
          "2012-02-11T00:00:00",
          "2012-02-12T00:00:00",
          "2012-05-16T00:00:00",
          "2012-05-17T00:00:00",
          "2012-05-18T00:00:00",
          "2012-05-30T00:00:00",
          "2012-08-18T00:00:00",
          "2012-08-20T00:00:00",
          "2012-08-24T00:00:00",
          "2012-09-04T00:00:00",
          "2012-09-05T00:00:00",
          "2012-09-06T00:00:00",
          "2013-02-07T00:00:00",
          "2013-02-08T00:00:00",
          "2013-02-09T00:00:00",
          "2013-02-14T00:00:00",
          "2013-06-02T00:00:00",
          "2013-06-03T00:00:00",
          "2013-06-12T00:00:00",
          "2013-08-26T00:00:00",
          "2013-08-28T00:00:00",
          "2013-08-30T00:00:00",
          "2014-06-04T00:00:00",
          "2014-06-13T00:00:00",
          "2014-06-17T00:00:00",
          "2014-08-23T00:00:00",
          "2014-08-26T00:00:00",
          "2014-09-11T00:00:00",
          "2014-09-12T00:00:00",
          "2015-02-12T00:00:00",
          "2015-02-13T00:00:00",
          "2015-02-16T00:00:00",
          "2015-06-02T00:00:00",
          "2015-06-10T00:00:00",
          "2015-06-13T00:00:00",
          "2015-06-17T00:00:00",
          "2015-06-20T00:00:00",
          "2015-07-10T00:00:00",
          "2015-07-11T00:00:00",
          "2015-07-12T00:00:00",
          "2015-07-13T00:00:00",
          "2015-07-14T00:00:00",
          "2015-07-16T00:00:00",
          "2015-07-18T00:00:00",
          "2015-08-22T00:00:00",
          "2015-08-23T00:00:00",
          "2015-08-26T00:00:00",
          "2015-09-07T00:00:00",
          "2016-02-12T00:00:00",
          "2016-02-16T00:00:00",
          "2016-05-31T00:00:00",
          "2016-06-01T00:00:00",
          "2016-06-07T00:00:00",
          "2016-06-11T00:00:00",
          "2016-06-14T00:00:00",
          "2016-08-06T00:00:00",
          "2016-08-07T00:00:00",
          "2016-08-10T00:00:00",
          "2016-08-20T00:00:00",
          "2016-08-23T00:00:00",
          "2016-08-29T00:00:00",
          "2016-09-08T00:00:00",
          "2017-02-09T00:00:00",
          "2017-02-15T00:00:00",
          "2017-02-17T00:00:00",
          "2017-05-28T00:00:00",
          "2017-06-06T00:00:00",
          "2017-06-07T00:00:00",
          "2017-06-13T00:00:00",
          "2017-07-22T00:00:00",
          "2017-07-23T00:00:00",
          "2017-07-24T00:00:00",
          "2017-07-25T00:00:00",
          "2017-07-26T00:00:00",
          "2017-07-27T00:00:00",
          "2017-07-28T00:00:00",
          "2017-08-18T00:00:00",
          "2017-08-19T00:00:00",
          "2017-08-21T00:00:00",
          "2017-08-24T00:00:00",
          "2017-08-26T00:00:00",
          "2017-09-05T00:00:00",
          "2017-09-06T00:00:00",
          "2017-09-08T00:00:00",
          "2018-02-21T00:00:00",
          "2018-02-22T00:00:00",
          "2018-02-26T00:00:00",
          "2018-03-02T00:00:00",
          "2018-05-13T00:00:00",
          "2018-06-08T00:00:00",
          "2018-06-09T00:00:00",
          "2018-06-10T00:00:00",
          "2018-06-11T00:00:00",
          "2018-06-13T00:00:00",
          "2018-09-06T00:00:00",
          "2018-09-14T00:00:00",
          "2018-09-15T00:00:00",
          "2018-09-20T00:00:00",
          "2018-09-21T00:00:00",
          "2018-09-22T00:00:00",
          "2019-02-07T00:00:00",
          "2019-06-04T00:00:00",
          "2019-06-05T00:00:00",
          "2019-06-07T00:00:00",
          "2019-06-11T00:00:00",
          "2019-07-03T00:00:00",
          "2019-07-19T00:00:00",
          "2019-07-20T00:00:00",
          "2019-07-21T00:00:00",
          "2019-07-22T00:00:00",
          "2019-07-23T00:00:00",
          "2019-07-25T00:00:00",
          "2019-07-26T00:00:00",
          "2019-07-27T00:00:00",
          "2019-08-04T00:00:00",
          "2019-08-16T00:00:00",
          "2019-08-17T00:00:00",
          "2019-08-23T00:00:00",
          "2019-09-03T00:00:00",
          "2019-09-04T00:00:00",
          "2020-02-16T00:00:00",
          "2020-06-26T00:00:00",
          "2020-06-30T00:00:00",
          "2020-07-05T00:00:00",
          "2020-07-22T00:00:00",
          "2020-07-26T00:00:00",
          "2020-08-14T00:00:00",
          "2020-08-15T00:00:00",
          "2020-08-30T00:00:00",
          "2020-08-31T00:00:00"
         ],
         "xaxis": "x",
         "y": [
          8.035348,
          4.015516000000001,
          6.338296000000001,
          3.3998040000000005,
          3.041844,
          5.814916,
          16.923594000000005,
          5.136204,
          4.252648000000001,
          2.827888,
          4.068096,
          5.380025727272728,
          9.113796,
          11.523857090909091,
          0.860712,
          0.45908400000000005,
          3.877790000000001,
          1.023154,
          7.296318000000001,
          18.356545999999998,
          1.445324,
          2.0890940000000002,
          2.5290920000000003,
          7.480592000000001,
          13.149048000000002,
          7.742032000000001,
          1.4076440000000001,
          1.618236,
          8.44827725,
          2.5781159999999996,
          13.414944,
          5.568436,
          4.060796,
          1.559128,
          2.432852,
          1.1318840000000001,
          3.8516640000000004,
          1.5928615000000002,
          4.806784,
          9.825992,
          36.60000466666666,
          21.63544,
          9.397955999999999,
          13.352768000000001,
          7.271204000000001,
          27.293322000000003,
          5.620008,
          16.46890133333333,
          26.189176,
          7.461732000000001,
          20.431932,
          70.901744,
          9.15438,
          60.7548995,
          14.3330985,
          9.876591333333335,
          8.982811000000002,
          20.4663055,
          18.1755745,
          5.18619175,
          22.975686000000003,
          3.711416,
          3.3982640000000006,
          9.646104000000001,
          4.392764,
          2.6159559999999997,
          5.873172,
          4.667764000000001,
          3.452648,
          49.732302,
          54.43954999999999,
          18.362308000000002,
          21.173104000000002,
          33.354483,
          6.832536000000001,
          8.462904,
          8.767688000000001,
          26.039968000000002,
          42.753412,
          30.380864,
          5.377428000000001,
          25.409504,
          26.9133274,
          10.744238666666668,
          16.446734000000003,
          17.996852999999998,
          8.256618333333334,
          2.1760720000000005,
          3.6025800000000006,
          5.241988,
          4.780323999999999,
          3.1030439999999997,
          5.149984,
          6.559775999999999,
          59.693923999999996,
          31.715511999999997,
          35.18619333333334,
          29.975843999999995,
          19.593912000000003,
          27.929960799999996,
          29.227812999999998,
          32.267905,
          5.170808,
          9.53878625,
          7.014220000000001,
          6.769308,
          5.199849,
          22.484812,
          5.98854,
          6.203324000000001,
          10.595691666666667,
          3.831092,
          3.7775240000000005,
          2.7177480000000003,
          17.236464,
          3.8461040000000004,
          2.344872,
          13.498708,
          21.711795333333335,
          15.676170666666666,
          14.430220000000004,
          29.054133999999998,
          23.815638,
          28.150312000000003,
          19.560464000000003,
          16.33851,
          18.79235866666667,
          16.341136666666667,
          12.427480000000001,
          19.232708,
          31.570353,
          29.813548000000004,
          21.548744,
          13.154073,
          21.59668333333333,
          9.924496000000001,
          20.834850000000003,
          11.488249,
          9.280564000000002,
          9.436016000000002,
          9.917952,
          5.429524000000001,
          12.437462,
          2.5745,
          3.5394640000000006,
          2.4128760000000002,
          3.777444,
          18.346316000000005,
          34.862918,
          25.358924,
          11.224421,
          26.635399999999997,
          12.293432000000003,
          10.938344000000003,
          10.104572,
          15.427803999999998,
          9.980696,
          6.529312000000001,
          10.01453066666667,
          41.044741,
          224.47860400000002,
          11.933005999999999,
          13.155780000000002,
          10.212576,
          3.954553333333333,
          6.321284,
          13.518208,
          2.477403,
          11.905679999999998,
          6.119952000000001,
          3.2322480000000002,
          1.8740900000000003,
          2.7748559999999998,
          2.932665,
          53.65697200000001,
          52.754314000000015,
          10.886932,
          22.036664000000002,
          11.231912000000001,
          15.262460000000003,
          15.821308,
          10.977236000000001,
          21.722504000000004,
          47.457908,
          6.26736,
          17.113236,
          10.28228,
          69.21708,
          9.016896000000001,
          2.3417480000000004,
          7.753348,
          3.211029,
          22.38143,
          4.4407760000000005,
          8.290508,
          11.656908000000001,
          9.33612,
          16.2015695,
          11.872224,
          6.0021840000000015,
          8.82446,
          5.093784000000001,
          19.973944000000003,
          8.370898,
          9.654028,
          9.610018,
          3.622963999999999,
          6.503660000000001,
          28.242255999999998,
          4.755917,
          5.226634666666667,
          24.896472000000003,
          11.642692000000002,
          26.43052800000001,
          36.40945200000001,
          17.05496,
          5.245964000000001,
          3.6400799999999998,
          3.5966519999999997,
          14.236684,
          15.171199999999999,
          4.053676,
          3.5532719999999998,
          3.8461760000000007,
          4.955528,
          6.862068000000001,
          12.207764000000003,
          5.226848,
          16.066832,
          4.3718520000000005,
          9.73662,
          5.795135999999999,
          3.305632,
          5.086228,
          7.466452,
          6.353888000000001,
          9.948768000000001,
          5.427164000000001,
          6.3235,
          5.246288,
          3.923108,
          4.416568,
          31.31296799999999,
          16.963212000000002,
          15.496228000000002,
          19.963392000000002,
          7.636554,
          16.654768,
          43.82352,
          19.599924,
          7.4446,
          52.460932000000014,
          25.069560000000003,
          3.742872,
          7.8506240000000025,
          4.622524,
          45.279500000000006,
          6.784676000000001,
          4.153964,
          3.9173000000000004,
          5.706860000000001,
          3.915396,
          3.6924359999999994,
          1.7812080000000003,
          2.090204,
          6.195027999999999,
          18.14402,
          10.673312000000001,
          33.473963999999995,
          31.7837,
          23.715619999999998,
          30.666815999999997,
          14.011404000000002,
          47.782184,
          58.864959999999996,
          47.675276,
          12.269492000000001,
          32.952904,
          8.238935999999999,
          7.518362000000001,
          1.922298,
          11.880586,
          20.294176,
          9.365196000000001,
          38.47268400000001,
          16.85128,
          17.958584000000002,
          13.370336000000002,
          16.622816,
          6.196400000000001,
          23.465044,
          9.909396000000001,
          5.919944000000001,
          5.505724000000001,
          4.069211999999999,
          1.16982,
          4.988588,
          9.832368,
          25.474452,
          19.339376,
          21.840792,
          3.8084360000000004,
          11.151328000000001,
          14.398976,
          30.792200000000005,
          15.144984000000001,
          9.236352,
          6.041036,
          7.472911999999998,
          12.373232000000002,
          3.337952,
          10.078164000000001,
          1.7423879999999998,
          1.1623920000000003,
          8.032816,
          2.851624,
          25.522636000000002,
          18.961014000000002,
          21.047252000000004,
          12.726760000000002,
          9.879340000000003,
          17.272048,
          25.829927999999995,
          4.970724000000001,
          13.029748000000001,
          13.520131999999998,
          14.979654,
          5.478324000000001,
          3.3551919999999997,
          2.357364,
          3.137868,
          3.5795559999999997,
          16.546792000000003,
          42.936595999999994,
          17.383584,
          23.396552000000003,
          7.9623680000000014,
          13.503672000000002,
          3.69118,
          7.203099999999999,
          5.842956000000001,
          4.5717680000000005,
          2.721696,
          9.194036,
          6.484636000000001,
          14.036696000000001,
          28.815328,
          50.368916000000006,
          62.411947999999995,
          5.7726999999999995,
          3.423836,
          10.268051999999999,
          5.178124,
          17.801416000000003,
          17.698059999999998,
          9.447208000000002,
          9.449088000000001,
          5.890536000000001,
          4.413296000000001,
          2.173812,
          4.296372,
          4.173572,
          17.027607999999997,
          9.370764000000003,
          13.071995999999999,
          23.566176,
          7.852880000000001,
          22.192636,
          7.601426000000001,
          15.075516000000002,
          8.670143999999999,
          9.494137000000002,
          12.768636,
          6.016428,
          8.870616000000002,
          8.192356000000002,
          4.864108000000001,
          7.547356,
          6.0897,
          10.49262,
          9.575456,
          77.00152,
          21.09374,
          20.682368,
          15.319308,
          6.193748,
          7.860200000000001,
          10.592728000000001,
          2.0092079999999997,
          6.760776000000002,
          17.030928,
          3.433052,
          2.3111840000000003,
          2.174192,
          2.4974680000000005,
          14.498919999999998,
          6.768404,
          8.258896,
          7.419296,
          6.731774000000001,
          9.239168,
          16.119664,
          12.590108,
          15.136147999999999,
          5.1172320000000004,
          11.066386000000001,
          7.091076000000001,
          5.11686,
          8.319284,
          6.640836,
          11.647668000000001,
          3.04514,
          4.58148,
          3.032724,
          3.421868000000001,
          2.155288,
          5.773732,
          5.29112,
          5.9768040000000004,
          14.540771999999999,
          18.497812000000003,
          30.646536000000005,
          8.962856,
          16.591624,
          8.204464,
          6.284292000000001,
          2.0649640000000002,
          3.953996,
          1.3073720000000002,
          3.7540146666666665,
          1.1226720000000001,
          15.703824000000001,
          2.641620000000001,
          17.554628,
          6.936336000000001,
          15.646956,
          10.068736000000001,
          2.466232,
          15.792556000000003,
          11.382624,
          21.511086000000002,
          37.09682600000001,
          6.200476000000001,
          10.541236000000001,
          17.978980000000004,
          5.933876,
          4.740136,
          2.724736,
          7.572116,
          4.2982000000000005,
          3.3293359999999996,
          20.54391,
          20.51554,
          12.175060000000002,
          7.0395720000000015,
          1.2573800000000004,
          7.678711999999999,
          1.980316,
          6.942504,
          6.0201
         ],
         "yaxis": "y"
        },
        {
         "hovertemplate": "variable=post-processed<br>time=%{x}<br>value=%{y}<extra></extra>",
         "legendgroup": "post-processed",
         "marker": {
          "color": "#EF553B",
          "opacity": 0.5,
          "symbol": "circle"
         },
         "mode": "lines+markers",
         "name": "post-processed",
         "orientation": "v",
         "showlegend": true,
         "type": "scatter",
         "x": [
          "1995-09-24T00:00:00",
          "1995-09-25T00:00:00",
          "1996-03-06T00:00:00",
          "1997-03-14T00:00:00",
          "1997-03-15T00:00:00",
          "1997-03-16T00:00:00",
          "1997-03-17T00:00:00",
          "1997-03-18T00:00:00",
          "1997-03-24T00:00:00",
          "1997-03-25T00:00:00",
          "1997-03-26T00:00:00",
          "1997-03-29T00:00:00",
          "1997-04-10T00:00:00",
          "1997-06-16T00:00:00",
          "1997-07-03T00:00:00",
          "1997-07-04T00:00:00",
          "1997-07-05T00:00:00",
          "1997-07-06T00:00:00",
          "1997-07-07T00:00:00",
          "1997-07-08T00:00:00",
          "1997-07-09T00:00:00",
          "1997-07-10T00:00:00",
          "1997-07-11T00:00:00",
          "1997-07-18T00:00:00",
          "1997-08-29T00:00:00",
          "1997-08-30T00:00:00",
          "1997-08-31T00:00:00",
          "1997-09-01T00:00:00",
          "1997-09-04T00:00:00",
          "1997-09-05T00:00:00",
          "1997-09-10T00:00:00",
          "1997-09-28T00:00:00",
          "1997-12-02T00:00:00",
          "1998-01-20T00:00:00",
          "1998-02-21T00:00:00",
          "1998-02-24T00:00:00",
          "1998-02-27T00:00:00",
          "1998-02-28T00:00:00",
          "1998-03-03T00:00:00",
          "1998-04-09T00:00:00",
          "1998-05-13T00:00:00",
          "1998-05-17T00:00:00",
          "1998-05-18T00:00:00",
          "1998-05-19T00:00:00",
          "1998-05-20T00:00:00",
          "1998-05-27T00:00:00",
          "1998-06-03T00:00:00",
          "1998-06-05T00:00:00",
          "1998-06-09T00:00:00",
          "1998-06-15T00:00:00",
          "1998-06-18T00:00:00",
          "1998-06-23T00:00:00",
          "1998-06-24T00:00:00",
          "1998-07-04T00:00:00",
          "1998-07-05T00:00:00",
          "1998-07-06T00:00:00",
          "1998-07-07T00:00:00",
          "1998-07-08T00:00:00",
          "1998-07-09T00:00:00",
          "1998-07-21T00:00:00",
          "1998-07-23T00:00:00",
          "1998-08-27T00:00:00",
          "1998-09-05T00:00:00",
          "1998-10-07T00:00:00",
          "1998-10-10T00:00:00",
          "1998-10-13T00:00:00",
          "1998-10-14T00:00:00",
          "1999-02-18T00:00:00",
          "1999-02-21T00:00:00",
          "1999-05-08T00:00:00",
          "1999-05-09T00:00:00",
          "1999-05-10T00:00:00",
          "1999-05-11T00:00:00",
          "1999-05-20T00:00:00",
          "1999-05-24T00:00:00",
          "1999-06-18T00:00:00",
          "1999-06-19T00:00:00",
          "1999-06-20T00:00:00",
          "1999-06-21T00:00:00",
          "1999-06-24T00:00:00",
          "1999-07-05T00:00:00",
          "1999-07-08T00:00:00",
          "1999-07-09T00:00:00",
          "1999-07-10T00:00:00",
          "1999-07-11T00:00:00",
          "1999-07-12T00:00:00",
          "1999-07-13T00:00:00",
          "1999-08-26T00:00:00",
          "1999-08-27T00:00:00",
          "1999-09-06T00:00:00",
          "1999-09-27T00:00:00",
          "2000-02-15T00:00:00",
          "2000-05-08T00:00:00",
          "2000-05-10T00:00:00",
          "2000-06-03T00:00:00",
          "2000-06-18T00:00:00",
          "2000-06-19T00:00:00",
          "2000-07-06T00:00:00",
          "2000-07-07T00:00:00",
          "2000-07-08T00:00:00",
          "2000-07-12T00:00:00",
          "2000-07-13T00:00:00",
          "2000-08-03T00:00:00",
          "2000-08-04T00:00:00",
          "2000-08-05T00:00:00",
          "2000-08-07T00:00:00",
          "2000-08-10T00:00:00",
          "2000-09-15T00:00:00",
          "2000-09-26T00:00:00",
          "2000-09-27T00:00:00",
          "2000-10-01T00:00:00",
          "2000-10-02T00:00:00",
          "2001-02-11T00:00:00",
          "2001-02-16T00:00:00",
          "2001-02-17T00:00:00",
          "2001-02-19T00:00:00",
          "2001-03-23T00:00:00",
          "2001-05-31T00:00:00",
          "2001-06-02T00:00:00",
          "2001-06-03T00:00:00",
          "2001-06-04T00:00:00",
          "2001-06-05T00:00:00",
          "2001-06-06T00:00:00",
          "2001-06-07T00:00:00",
          "2001-06-08T00:00:00",
          "2001-06-09T00:00:00",
          "2001-06-10T00:00:00",
          "2001-06-12T00:00:00",
          "2001-06-16T00:00:00",
          "2001-06-21T00:00:00",
          "2001-06-22T00:00:00",
          "2001-06-23T00:00:00",
          "2001-06-24T00:00:00",
          "2001-07-04T00:00:00",
          "2001-07-06T00:00:00",
          "2001-08-29T00:00:00",
          "2001-09-19T00:00:00",
          "2001-09-22T00:00:00",
          "2001-09-23T00:00:00",
          "2001-09-25T00:00:00",
          "2001-09-26T00:00:00",
          "2001-09-28T00:00:00",
          "2001-09-30T00:00:00",
          "2002-02-11T00:00:00",
          "2002-02-13T00:00:00",
          "2002-02-14T00:00:00",
          "2002-03-05T00:00:00",
          "2002-05-03T00:00:00",
          "2002-05-05T00:00:00",
          "2002-05-06T00:00:00",
          "2002-06-19T00:00:00",
          "2002-06-26T00:00:00",
          "2002-07-01T00:00:00",
          "2002-07-02T00:00:00",
          "2002-07-03T00:00:00",
          "2002-07-04T00:00:00",
          "2002-07-05T00:00:00",
          "2002-07-19T00:00:00",
          "2002-07-22T00:00:00",
          "2002-07-23T00:00:00",
          "2002-07-24T00:00:00",
          "2002-08-18T00:00:00",
          "2002-08-27T00:00:00",
          "2002-09-03T00:00:00",
          "2002-09-19T00:00:00",
          "2002-09-21T00:00:00",
          "2002-10-19T00:00:00",
          "2002-10-23T00:00:00",
          "2003-02-12T00:00:00",
          "2003-02-14T00:00:00",
          "2003-02-15T00:00:00",
          "2003-02-16T00:00:00",
          "2003-02-17T00:00:00",
          "2003-02-21T00:00:00",
          "2003-05-19T00:00:00",
          "2003-05-20T00:00:00",
          "2003-05-29T00:00:00",
          "2003-05-30T00:00:00",
          "2003-05-31T00:00:00",
          "2003-06-01T00:00:00",
          "2003-06-03T00:00:00",
          "2003-06-09T00:00:00",
          "2003-06-10T00:00:00",
          "2003-06-11T00:00:00",
          "2003-09-01T00:00:00",
          "2003-09-02T00:00:00",
          "2003-09-03T00:00:00",
          "2003-09-04T00:00:00",
          "2003-09-06T00:00:00",
          "2003-09-26T00:00:00",
          "2004-02-20T00:00:00",
          "2004-02-27T00:00:00",
          "2004-05-29T00:00:00",
          "2004-05-30T00:00:00",
          "2004-06-03T00:00:00",
          "2004-06-04T00:00:00",
          "2004-06-07T00:00:00",
          "2004-06-14T00:00:00",
          "2004-08-22T00:00:00",
          "2004-08-23T00:00:00",
          "2004-08-24T00:00:00",
          "2004-09-05T00:00:00",
          "2004-09-06T00:00:00",
          "2004-10-27T00:00:00",
          "2005-02-15T00:00:00",
          "2005-02-16T00:00:00",
          "2005-02-18T00:00:00",
          "2005-02-19T00:00:00",
          "2005-02-23T00:00:00",
          "2005-03-12T00:00:00",
          "2005-03-13T00:00:00",
          "2005-05-27T00:00:00",
          "2005-06-03T00:00:00",
          "2005-06-06T00:00:00",
          "2005-06-07T00:00:00",
          "2005-06-15T00:00:00",
          "2005-07-29T00:00:00",
          "2005-08-13T00:00:00",
          "2005-08-18T00:00:00",
          "2005-08-21T00:00:00",
          "2005-08-23T00:00:00",
          "2005-08-28T00:00:00",
          "2005-09-08T00:00:00",
          "2006-02-06T00:00:00",
          "2006-02-10T00:00:00",
          "2006-02-13T00:00:00",
          "2006-04-21T00:00:00",
          "2006-07-14T00:00:00",
          "2006-07-17T00:00:00",
          "2006-08-24T00:00:00",
          "2006-08-27T00:00:00",
          "2006-09-22T00:00:00",
          "2006-09-24T00:00:00",
          "2006-09-28T00:00:00",
          "2006-10-02T00:00:00",
          "2006-10-04T00:00:00",
          "2007-02-10T00:00:00",
          "2007-02-11T00:00:00",
          "2007-02-12T00:00:00",
          "2007-02-15T00:00:00",
          "2007-02-16T00:00:00",
          "2007-02-18T00:00:00",
          "2007-05-26T00:00:00",
          "2007-06-02T00:00:00",
          "2007-06-03T00:00:00",
          "2007-06-04T00:00:00",
          "2007-06-27T00:00:00",
          "2007-06-28T00:00:00",
          "2007-07-04T00:00:00",
          "2007-07-05T00:00:00",
          "2007-07-06T00:00:00",
          "2007-07-07T00:00:00",
          "2007-07-08T00:00:00",
          "2007-08-17T00:00:00",
          "2007-08-18T00:00:00",
          "2007-08-19T00:00:00",
          "2007-08-21T00:00:00",
          "2007-08-22T00:00:00",
          "2007-09-06T00:00:00",
          "2007-09-07T00:00:00",
          "2008-02-02T00:00:00",
          "2008-02-03T00:00:00",
          "2008-02-04T00:00:00",
          "2008-02-06T00:00:00",
          "2008-02-10T00:00:00",
          "2008-05-25T00:00:00",
          "2008-05-26T00:00:00",
          "2008-06-02T00:00:00",
          "2008-06-03T00:00:00",
          "2008-06-04T00:00:00",
          "2008-06-06T00:00:00",
          "2008-06-08T00:00:00",
          "2008-07-04T00:00:00",
          "2008-07-05T00:00:00",
          "2008-07-07T00:00:00",
          "2008-07-09T00:00:00",
          "2008-08-15T00:00:00",
          "2008-08-17T00:00:00",
          "2008-09-04T00:00:00",
          "2009-01-30T00:00:00",
          "2009-01-31T00:00:00",
          "2009-05-31T00:00:00",
          "2009-06-01T00:00:00",
          "2009-06-08T00:00:00",
          "2009-06-10T00:00:00",
          "2009-06-11T00:00:00",
          "2009-07-11T00:00:00",
          "2009-07-12T00:00:00",
          "2009-07-13T00:00:00",
          "2009-07-14T00:00:00",
          "2009-08-22T00:00:00",
          "2009-08-27T00:00:00",
          "2009-08-31T00:00:00",
          "2009-09-09T00:00:00",
          "2009-09-10T00:00:00",
          "2010-02-05T00:00:00",
          "2010-02-08T00:00:00",
          "2010-05-31T00:00:00",
          "2010-06-09T00:00:00",
          "2010-06-11T00:00:00",
          "2010-06-14T00:00:00",
          "2010-07-23T00:00:00",
          "2010-07-24T00:00:00",
          "2010-07-26T00:00:00",
          "2010-07-28T00:00:00",
          "2010-08-21T00:00:00",
          "2010-08-22T00:00:00",
          "2010-08-23T00:00:00",
          "2010-08-25T00:00:00",
          "2010-08-26T00:00:00",
          "2010-09-10T00:00:00",
          "2011-02-10T00:00:00",
          "2011-02-11T00:00:00",
          "2011-02-12T00:00:00",
          "2011-02-14T00:00:00",
          "2011-02-16T00:00:00",
          "2011-05-29T00:00:00",
          "2011-05-30T00:00:00",
          "2011-06-05T00:00:00",
          "2011-06-06T00:00:00",
          "2011-06-08T00:00:00",
          "2011-06-09T00:00:00",
          "2011-06-13T00:00:00",
          "2011-08-22T00:00:00",
          "2011-08-23T00:00:00",
          "2011-08-26T00:00:00",
          "2011-09-06T00:00:00",
          "2011-09-07T00:00:00",
          "2011-09-08T00:00:00",
          "2012-02-10T00:00:00",
          "2012-02-11T00:00:00",
          "2012-02-12T00:00:00",
          "2012-05-16T00:00:00",
          "2012-05-17T00:00:00",
          "2012-05-18T00:00:00",
          "2012-05-30T00:00:00",
          "2012-08-18T00:00:00",
          "2012-08-20T00:00:00",
          "2012-08-24T00:00:00",
          "2012-09-04T00:00:00",
          "2012-09-05T00:00:00",
          "2012-09-06T00:00:00",
          "2013-02-07T00:00:00",
          "2013-02-08T00:00:00",
          "2013-02-09T00:00:00",
          "2013-02-14T00:00:00",
          "2013-06-02T00:00:00",
          "2013-06-03T00:00:00",
          "2013-06-12T00:00:00",
          "2013-08-26T00:00:00",
          "2013-08-28T00:00:00",
          "2013-08-30T00:00:00",
          "2014-06-04T00:00:00",
          "2014-06-13T00:00:00",
          "2014-06-17T00:00:00",
          "2014-08-23T00:00:00",
          "2014-08-26T00:00:00",
          "2014-09-11T00:00:00",
          "2014-09-12T00:00:00",
          "2015-02-12T00:00:00",
          "2015-02-13T00:00:00",
          "2015-02-16T00:00:00",
          "2015-06-02T00:00:00",
          "2015-06-10T00:00:00",
          "2015-06-13T00:00:00",
          "2015-06-17T00:00:00",
          "2015-06-20T00:00:00",
          "2015-07-10T00:00:00",
          "2015-07-11T00:00:00",
          "2015-07-12T00:00:00",
          "2015-07-13T00:00:00",
          "2015-07-14T00:00:00",
          "2015-07-16T00:00:00",
          "2015-07-18T00:00:00",
          "2015-08-22T00:00:00",
          "2015-08-23T00:00:00",
          "2015-08-26T00:00:00",
          "2015-09-07T00:00:00",
          "2016-02-12T00:00:00",
          "2016-02-16T00:00:00",
          "2016-05-31T00:00:00",
          "2016-06-01T00:00:00",
          "2016-06-07T00:00:00",
          "2016-06-11T00:00:00",
          "2016-06-14T00:00:00",
          "2016-08-06T00:00:00",
          "2016-08-07T00:00:00",
          "2016-08-10T00:00:00",
          "2016-08-20T00:00:00",
          "2016-08-23T00:00:00",
          "2016-08-29T00:00:00",
          "2016-09-08T00:00:00",
          "2017-02-09T00:00:00",
          "2017-02-15T00:00:00",
          "2017-02-17T00:00:00",
          "2017-05-28T00:00:00",
          "2017-06-06T00:00:00",
          "2017-06-07T00:00:00",
          "2017-06-13T00:00:00",
          "2017-07-22T00:00:00",
          "2017-07-23T00:00:00",
          "2017-07-24T00:00:00",
          "2017-07-25T00:00:00",
          "2017-07-26T00:00:00",
          "2017-07-27T00:00:00",
          "2017-07-28T00:00:00",
          "2017-08-18T00:00:00",
          "2017-08-19T00:00:00",
          "2017-08-21T00:00:00",
          "2017-08-24T00:00:00",
          "2017-08-26T00:00:00",
          "2017-09-05T00:00:00",
          "2017-09-06T00:00:00",
          "2017-09-08T00:00:00",
          "2018-02-21T00:00:00",
          "2018-02-22T00:00:00",
          "2018-02-26T00:00:00",
          "2018-03-02T00:00:00",
          "2018-05-13T00:00:00",
          "2018-06-08T00:00:00",
          "2018-06-09T00:00:00",
          "2018-06-10T00:00:00",
          "2018-06-11T00:00:00",
          "2018-06-13T00:00:00",
          "2018-09-06T00:00:00",
          "2018-09-14T00:00:00",
          "2018-09-15T00:00:00",
          "2018-09-20T00:00:00",
          "2018-09-21T00:00:00",
          "2018-09-22T00:00:00",
          "2019-02-07T00:00:00",
          "2019-06-04T00:00:00",
          "2019-06-05T00:00:00",
          "2019-06-07T00:00:00",
          "2019-06-11T00:00:00",
          "2019-07-03T00:00:00",
          "2019-07-19T00:00:00",
          "2019-07-20T00:00:00",
          "2019-07-21T00:00:00",
          "2019-07-22T00:00:00",
          "2019-07-23T00:00:00",
          "2019-07-25T00:00:00",
          "2019-07-26T00:00:00",
          "2019-07-27T00:00:00",
          "2019-08-04T00:00:00",
          "2019-08-16T00:00:00",
          "2019-08-17T00:00:00",
          "2019-08-23T00:00:00",
          "2019-09-03T00:00:00",
          "2019-09-04T00:00:00",
          "2020-02-16T00:00:00",
          "2020-06-26T00:00:00",
          "2020-06-30T00:00:00",
          "2020-07-05T00:00:00",
          "2020-07-22T00:00:00",
          "2020-07-26T00:00:00",
          "2020-08-14T00:00:00",
          "2020-08-15T00:00:00",
          "2020-08-30T00:00:00",
          "2020-08-31T00:00:00"
         ],
         "xaxis": "x",
         "y": [
          8.035348,
          4.015516000000001,
          6.338296000000001,
          3.3998040000000005,
          3.041844,
          5.814916,
          16.923594000000005,
          5.136204,
          4.252648000000001,
          2.827888,
          4.068096,
          5.380025727272728,
          9.113796,
          11.523857090909091,
          0.860712,
          0.45908400000000005,
          3.877790000000001,
          1.023154,
          7.296318000000001,
          18.356545999999998,
          1.445324,
          2.0890940000000002,
          2.5290920000000003,
          7.480592000000001,
          13.149048000000002,
          7.742032000000001,
          1.4076440000000001,
          1.618236,
          8.44827725,
          2.5781159999999996,
          13.414944,
          5.568436,
          4.060796,
          1.559128,
          2.432852,
          1.1318840000000001,
          3.8516640000000004,
          1.5928615000000002,
          4.806784,
          9.825992,
          23.736716,
          21.63544,
          9.397955999999999,
          13.352768000000001,
          7.271204000000001,
          27.293322000000003,
          5.620008,
          16.46890133333333,
          26.189176,
          7.461732000000001,
          20.431932,
          null,
          9.15438,
          null,
          14.3330985,
          9.876591333333335,
          8.982811000000002,
          20.4663055,
          18.1755745,
          5.18619175,
          22.975686000000003,
          3.711416,
          3.3982640000000006,
          9.646104000000001,
          4.392764,
          2.6159559999999997,
          5.873172,
          4.667764000000001,
          3.452648,
          null,
          null,
          18.362308000000002,
          21.173104000000002,
          30.02101200000001,
          6.832536000000001,
          8.462904,
          8.767688000000001,
          26.039968000000002,
          null,
          30.380864,
          5.377428000000001,
          25.409504,
          26.9133274,
          10.744238666666668,
          16.446734000000003,
          17.996852999999998,
          8.256618333333334,
          2.1760720000000005,
          3.6025800000000006,
          5.241988,
          4.780323999999999,
          3.1030439999999997,
          5.149984,
          6.559775999999999,
          null,
          31.715511999999997,
          26.31447866666667,
          29.975843999999995,
          19.593912000000003,
          27.929960799999996,
          29.227812999999998,
          32.267905,
          5.170808,
          9.53878625,
          7.014220000000001,
          6.769308,
          5.199849,
          22.484812,
          5.98854,
          6.203324000000001,
          10.595691666666667,
          3.831092,
          3.7775240000000005,
          2.7177480000000003,
          17.236464,
          3.8461040000000004,
          2.344872,
          13.498708,
          21.711795333333335,
          15.676170666666666,
          14.430220000000004,
          29.054133999999998,
          23.815638,
          28.150312000000003,
          19.560464000000003,
          16.33851,
          18.79235866666667,
          16.341136666666667,
          12.427480000000001,
          19.232708,
          17.065936,
          29.813548000000004,
          21.548744,
          13.154073,
          21.59668333333333,
          9.924496000000001,
          20.834850000000003,
          11.488249,
          9.280564000000002,
          9.436016000000002,
          9.917952,
          5.429524000000001,
          12.437462,
          2.5745,
          3.5394640000000006,
          2.4128760000000002,
          3.777444,
          18.346316000000005,
          34.862918,
          25.358924,
          11.224421,
          26.635399999999997,
          12.293432000000003,
          10.938344000000003,
          10.104572,
          15.427803999999998,
          9.980696,
          6.529312000000001,
          10.01453066666667,
          19.004692000000002,
          null,
          11.933005999999999,
          13.155780000000002,
          10.212576,
          3.954553333333333,
          6.321284,
          13.518208,
          2.477403,
          11.905679999999998,
          6.119952000000001,
          3.2322480000000002,
          1.8740900000000003,
          2.7748559999999998,
          2.932665,
          21.881480000000003,
          null,
          10.886932,
          22.036664000000002,
          11.231912000000001,
          15.262460000000003,
          15.821308,
          10.977236000000001,
          21.722504000000004,
          null,
          6.26736,
          17.113236,
          10.28228,
          null,
          9.016896000000001,
          2.3417480000000004,
          7.753348,
          3.211029,
          22.38143,
          4.4407760000000005,
          8.290508,
          11.656908000000001,
          9.33612,
          16.2015695,
          11.872224,
          6.0021840000000015,
          8.82446,
          5.093784000000001,
          19.973944000000003,
          8.370898,
          9.654028,
          9.610018,
          3.622963999999999,
          6.503660000000001,
          28.242255999999998,
          4.755917,
          5.226634666666667,
          24.896472000000003,
          11.642692000000002,
          8.775964,
          null,
          17.05496,
          5.245964000000001,
          3.6400799999999998,
          3.5966519999999997,
          14.236684,
          15.171199999999999,
          4.053676,
          3.5532719999999998,
          3.8461760000000007,
          4.955528,
          6.862068000000001,
          12.207764000000003,
          5.226848,
          16.066832,
          4.3718520000000005,
          9.73662,
          5.795135999999999,
          3.305632,
          5.086228,
          7.466452,
          6.353888000000001,
          9.948768000000001,
          5.427164000000001,
          6.3235,
          5.246288,
          3.923108,
          4.416568,
          31.31296799999999,
          16.963212000000002,
          15.496228000000002,
          19.963392000000002,
          7.636554,
          16.654768,
          null,
          19.599924,
          7.4446,
          null,
          25.069560000000003,
          3.742872,
          7.8506240000000025,
          4.622524,
          null,
          6.784676000000001,
          4.153964,
          3.9173000000000004,
          5.706860000000001,
          3.915396,
          3.6924359999999994,
          1.7812080000000003,
          2.090204,
          6.195027999999999,
          18.14402,
          10.673312000000001,
          33.473963999999995,
          31.7837,
          23.715619999999998,
          30.666815999999997,
          14.011404000000002,
          null,
          null,
          null,
          12.269492000000001,
          32.952904,
          8.238935999999999,
          7.518362000000001,
          1.922298,
          11.880586,
          20.294176,
          9.365196000000001,
          null,
          16.85128,
          17.958584000000002,
          13.370336000000002,
          16.622816,
          6.196400000000001,
          23.465044,
          9.909396000000001,
          5.919944000000001,
          5.505724000000001,
          4.069211999999999,
          1.16982,
          4.988588,
          9.832368,
          25.474452,
          19.339376,
          21.840792,
          3.8084360000000004,
          11.151328000000001,
          14.398976,
          30.792200000000005,
          15.144984000000001,
          9.236352,
          6.041036,
          7.472911999999998,
          12.373232000000002,
          3.337952,
          10.078164000000001,
          1.7423879999999998,
          1.1623920000000003,
          8.032816,
          2.851624,
          25.522636000000002,
          18.961014000000002,
          21.047252000000004,
          12.726760000000002,
          9.879340000000003,
          17.272048,
          25.829927999999995,
          4.970724000000001,
          13.029748000000001,
          13.520131999999998,
          14.979654,
          5.478324000000001,
          3.3551919999999997,
          2.357364,
          3.137868,
          3.5795559999999997,
          16.546792000000003,
          null,
          17.383584,
          23.396552000000003,
          7.9623680000000014,
          13.503672000000002,
          3.69118,
          7.203099999999999,
          5.842956000000001,
          4.5717680000000005,
          2.721696,
          9.194036,
          6.484636000000001,
          14.036696000000001,
          28.815328,
          null,
          null,
          5.7726999999999995,
          3.423836,
          10.268051999999999,
          5.178124,
          17.801416000000003,
          17.698059999999998,
          9.447208000000002,
          9.449088000000001,
          5.890536000000001,
          4.413296000000001,
          2.173812,
          4.296372,
          4.173572,
          17.027607999999997,
          9.370764000000003,
          13.071995999999999,
          23.566176,
          7.852880000000001,
          22.192636,
          7.601426000000001,
          15.075516000000002,
          8.670143999999999,
          9.494137000000002,
          12.768636,
          6.016428,
          8.870616000000002,
          8.192356000000002,
          4.864108000000001,
          7.547356,
          6.0897,
          10.49262,
          9.575456,
          null,
          21.09374,
          20.682368,
          15.319308,
          6.193748,
          7.860200000000001,
          10.592728000000001,
          2.0092079999999997,
          6.760776000000002,
          17.030928,
          3.433052,
          2.3111840000000003,
          2.174192,
          2.4974680000000005,
          14.498919999999998,
          6.768404,
          8.258896,
          7.419296,
          6.731774000000001,
          9.239168,
          16.119664,
          12.590108,
          15.136147999999999,
          5.1172320000000004,
          11.066386000000001,
          7.091076000000001,
          5.11686,
          8.319284,
          6.640836,
          11.647668000000001,
          3.04514,
          4.58148,
          3.032724,
          3.421868000000001,
          2.155288,
          5.773732,
          5.29112,
          5.9768040000000004,
          14.540771999999999,
          18.497812000000003,
          30.646536000000005,
          8.962856,
          16.591624,
          8.204464,
          6.284292000000001,
          2.0649640000000002,
          3.953996,
          1.3073720000000002,
          3.7540146666666665,
          1.1226720000000001,
          15.703824000000001,
          2.641620000000001,
          17.554628,
          6.936336000000001,
          15.646956,
          10.068736000000001,
          2.466232,
          15.792556000000003,
          11.382624,
          6.7994080000000015,
          null,
          6.200476000000001,
          10.541236000000001,
          17.978980000000004,
          5.933876,
          4.740136,
          2.724736,
          7.572116,
          4.2982000000000005,
          3.3293359999999996,
          20.54391,
          20.51554,
          12.175060000000002,
          7.0395720000000015,
          1.2573800000000004,
          7.678711999999999,
          1.980316,
          6.942504,
          6.0201
         ],
         "yaxis": "y"
        }
       ],
       "layout": {
        "legend": {
         "title": {
          "text": "variable"
         },
         "tracegroupgap": 0
        },
        "template": {
         "data": {
          "bar": [
           {
            "error_x": {
             "color": "#2a3f5f"
            },
            "error_y": {
             "color": "#2a3f5f"
            },
            "marker": {
             "line": {
              "color": "#E5ECF6",
              "width": 0.5
             },
             "pattern": {
              "fillmode": "overlay",
              "size": 10,
              "solidity": 0.2
             }
            },
            "type": "bar"
           }
          ],
          "barpolar": [
           {
            "marker": {
             "line": {
              "color": "#E5ECF6",
              "width": 0.5
             },
             "pattern": {
              "fillmode": "overlay",
              "size": 10,
              "solidity": 0.2
             }
            },
            "type": "barpolar"
           }
          ],
          "carpet": [
           {
            "aaxis": {
             "endlinecolor": "#2a3f5f",
             "gridcolor": "white",
             "linecolor": "white",
             "minorgridcolor": "white",
             "startlinecolor": "#2a3f5f"
            },
            "baxis": {
             "endlinecolor": "#2a3f5f",
             "gridcolor": "white",
             "linecolor": "white",
             "minorgridcolor": "white",
             "startlinecolor": "#2a3f5f"
            },
            "type": "carpet"
           }
          ],
          "choropleth": [
           {
            "colorbar": {
             "outlinewidth": 0,
             "ticks": ""
            },
            "type": "choropleth"
           }
          ],
          "contour": [
           {
            "colorbar": {
             "outlinewidth": 0,
             "ticks": ""
            },
            "colorscale": [
             [
              0,
              "#0d0887"
             ],
             [
              0.1111111111111111,
              "#46039f"
             ],
             [
              0.2222222222222222,
              "#7201a8"
             ],
             [
              0.3333333333333333,
              "#9c179e"
             ],
             [
              0.4444444444444444,
              "#bd3786"
             ],
             [
              0.5555555555555556,
              "#d8576b"
             ],
             [
              0.6666666666666666,
              "#ed7953"
             ],
             [
              0.7777777777777778,
              "#fb9f3a"
             ],
             [
              0.8888888888888888,
              "#fdca26"
             ],
             [
              1,
              "#f0f921"
             ]
            ],
            "type": "contour"
           }
          ],
          "contourcarpet": [
           {
            "colorbar": {
             "outlinewidth": 0,
             "ticks": ""
            },
            "type": "contourcarpet"
           }
          ],
          "heatmap": [
           {
            "colorbar": {
             "outlinewidth": 0,
             "ticks": ""
            },
            "colorscale": [
             [
              0,
              "#0d0887"
             ],
             [
              0.1111111111111111,
              "#46039f"
             ],
             [
              0.2222222222222222,
              "#7201a8"
             ],
             [
              0.3333333333333333,
              "#9c179e"
             ],
             [
              0.4444444444444444,
              "#bd3786"
             ],
             [
              0.5555555555555556,
              "#d8576b"
             ],
             [
              0.6666666666666666,
              "#ed7953"
             ],
             [
              0.7777777777777778,
              "#fb9f3a"
             ],
             [
              0.8888888888888888,
              "#fdca26"
             ],
             [
              1,
              "#f0f921"
             ]
            ],
            "type": "heatmap"
           }
          ],
          "heatmapgl": [
           {
            "colorbar": {
             "outlinewidth": 0,
             "ticks": ""
            },
            "colorscale": [
             [
              0,
              "#0d0887"
             ],
             [
              0.1111111111111111,
              "#46039f"
             ],
             [
              0.2222222222222222,
              "#7201a8"
             ],
             [
              0.3333333333333333,
              "#9c179e"
             ],
             [
              0.4444444444444444,
              "#bd3786"
             ],
             [
              0.5555555555555556,
              "#d8576b"
             ],
             [
              0.6666666666666666,
              "#ed7953"
             ],
             [
              0.7777777777777778,
              "#fb9f3a"
             ],
             [
              0.8888888888888888,
              "#fdca26"
             ],
             [
              1,
              "#f0f921"
             ]
            ],
            "type": "heatmapgl"
           }
          ],
          "histogram": [
           {
            "marker": {
             "pattern": {
              "fillmode": "overlay",
              "size": 10,
              "solidity": 0.2
             }
            },
            "type": "histogram"
           }
          ],
          "histogram2d": [
           {
            "colorbar": {
             "outlinewidth": 0,
             "ticks": ""
            },
            "colorscale": [
             [
              0,
              "#0d0887"
             ],
             [
              0.1111111111111111,
              "#46039f"
             ],
             [
              0.2222222222222222,
              "#7201a8"
             ],
             [
              0.3333333333333333,
              "#9c179e"
             ],
             [
              0.4444444444444444,
              "#bd3786"
             ],
             [
              0.5555555555555556,
              "#d8576b"
             ],
             [
              0.6666666666666666,
              "#ed7953"
             ],
             [
              0.7777777777777778,
              "#fb9f3a"
             ],
             [
              0.8888888888888888,
              "#fdca26"
             ],
             [
              1,
              "#f0f921"
             ]
            ],
            "type": "histogram2d"
           }
          ],
          "histogram2dcontour": [
           {
            "colorbar": {
             "outlinewidth": 0,
             "ticks": ""
            },
            "colorscale": [
             [
              0,
              "#0d0887"
             ],
             [
              0.1111111111111111,
              "#46039f"
             ],
             [
              0.2222222222222222,
              "#7201a8"
             ],
             [
              0.3333333333333333,
              "#9c179e"
             ],
             [
              0.4444444444444444,
              "#bd3786"
             ],
             [
              0.5555555555555556,
              "#d8576b"
             ],
             [
              0.6666666666666666,
              "#ed7953"
             ],
             [
              0.7777777777777778,
              "#fb9f3a"
             ],
             [
              0.8888888888888888,
              "#fdca26"
             ],
             [
              1,
              "#f0f921"
             ]
            ],
            "type": "histogram2dcontour"
           }
          ],
          "mesh3d": [
           {
            "colorbar": {
             "outlinewidth": 0,
             "ticks": ""
            },
            "type": "mesh3d"
           }
          ],
          "parcoords": [
           {
            "line": {
             "colorbar": {
              "outlinewidth": 0,
              "ticks": ""
             }
            },
            "type": "parcoords"
           }
          ],
          "pie": [
           {
            "automargin": true,
            "type": "pie"
           }
          ],
          "scatter": [
           {
            "fillpattern": {
             "fillmode": "overlay",
             "size": 10,
             "solidity": 0.2
            },
            "type": "scatter"
           }
          ],
          "scatter3d": [
           {
            "line": {
             "colorbar": {
              "outlinewidth": 0,
              "ticks": ""
             }
            },
            "marker": {
             "colorbar": {
              "outlinewidth": 0,
              "ticks": ""
             }
            },
            "type": "scatter3d"
           }
          ],
          "scattercarpet": [
           {
            "marker": {
             "colorbar": {
              "outlinewidth": 0,
              "ticks": ""
             }
            },
            "type": "scattercarpet"
           }
          ],
          "scattergeo": [
           {
            "marker": {
             "colorbar": {
              "outlinewidth": 0,
              "ticks": ""
             }
            },
            "type": "scattergeo"
           }
          ],
          "scattergl": [
           {
            "marker": {
             "colorbar": {
              "outlinewidth": 0,
              "ticks": ""
             }
            },
            "type": "scattergl"
           }
          ],
          "scattermapbox": [
           {
            "marker": {
             "colorbar": {
              "outlinewidth": 0,
              "ticks": ""
             }
            },
            "type": "scattermapbox"
           }
          ],
          "scatterpolar": [
           {
            "marker": {
             "colorbar": {
              "outlinewidth": 0,
              "ticks": ""
             }
            },
            "type": "scatterpolar"
           }
          ],
          "scatterpolargl": [
           {
            "marker": {
             "colorbar": {
              "outlinewidth": 0,
              "ticks": ""
             }
            },
            "type": "scatterpolargl"
           }
          ],
          "scatterternary": [
           {
            "marker": {
             "colorbar": {
              "outlinewidth": 0,
              "ticks": ""
             }
            },
            "type": "scatterternary"
           }
          ],
          "surface": [
           {
            "colorbar": {
             "outlinewidth": 0,
             "ticks": ""
            },
            "colorscale": [
             [
              0,
              "#0d0887"
             ],
             [
              0.1111111111111111,
              "#46039f"
             ],
             [
              0.2222222222222222,
              "#7201a8"
             ],
             [
              0.3333333333333333,
              "#9c179e"
             ],
             [
              0.4444444444444444,
              "#bd3786"
             ],
             [
              0.5555555555555556,
              "#d8576b"
             ],
             [
              0.6666666666666666,
              "#ed7953"
             ],
             [
              0.7777777777777778,
              "#fb9f3a"
             ],
             [
              0.8888888888888888,
              "#fdca26"
             ],
             [
              1,
              "#f0f921"
             ]
            ],
            "type": "surface"
           }
          ],
          "table": [
           {
            "cells": {
             "fill": {
              "color": "#EBF0F8"
             },
             "line": {
              "color": "white"
             }
            },
            "header": {
             "fill": {
              "color": "#C8D4E3"
             },
             "line": {
              "color": "white"
             }
            },
            "type": "table"
           }
          ]
         },
         "layout": {
          "annotationdefaults": {
           "arrowcolor": "#2a3f5f",
           "arrowhead": 0,
           "arrowwidth": 1
          },
          "autotypenumbers": "strict",
          "coloraxis": {
           "colorbar": {
            "outlinewidth": 0,
            "ticks": ""
           }
          },
          "colorscale": {
           "diverging": [
            [
             0,
             "#8e0152"
            ],
            [
             0.1,
             "#c51b7d"
            ],
            [
             0.2,
             "#de77ae"
            ],
            [
             0.3,
             "#f1b6da"
            ],
            [
             0.4,
             "#fde0ef"
            ],
            [
             0.5,
             "#f7f7f7"
            ],
            [
             0.6,
             "#e6f5d0"
            ],
            [
             0.7,
             "#b8e186"
            ],
            [
             0.8,
             "#7fbc41"
            ],
            [
             0.9,
             "#4d9221"
            ],
            [
             1,
             "#276419"
            ]
           ],
           "sequential": [
            [
             0,
             "#0d0887"
            ],
            [
             0.1111111111111111,
             "#46039f"
            ],
            [
             0.2222222222222222,
             "#7201a8"
            ],
            [
             0.3333333333333333,
             "#9c179e"
            ],
            [
             0.4444444444444444,
             "#bd3786"
            ],
            [
             0.5555555555555556,
             "#d8576b"
            ],
            [
             0.6666666666666666,
             "#ed7953"
            ],
            [
             0.7777777777777778,
             "#fb9f3a"
            ],
            [
             0.8888888888888888,
             "#fdca26"
            ],
            [
             1,
             "#f0f921"
            ]
           ],
           "sequentialminus": [
            [
             0,
             "#0d0887"
            ],
            [
             0.1111111111111111,
             "#46039f"
            ],
            [
             0.2222222222222222,
             "#7201a8"
            ],
            [
             0.3333333333333333,
             "#9c179e"
            ],
            [
             0.4444444444444444,
             "#bd3786"
            ],
            [
             0.5555555555555556,
             "#d8576b"
            ],
            [
             0.6666666666666666,
             "#ed7953"
            ],
            [
             0.7777777777777778,
             "#fb9f3a"
            ],
            [
             0.8888888888888888,
             "#fdca26"
            ],
            [
             1,
             "#f0f921"
            ]
           ]
          },
          "colorway": [
           "#636efa",
           "#EF553B",
           "#00cc96",
           "#ab63fa",
           "#FFA15A",
           "#19d3f3",
           "#FF6692",
           "#B6E880",
           "#FF97FF",
           "#FECB52"
          ],
          "font": {
           "color": "#2a3f5f"
          },
          "geo": {
           "bgcolor": "white",
           "lakecolor": "white",
           "landcolor": "#E5ECF6",
           "showlakes": true,
           "showland": true,
           "subunitcolor": "white"
          },
          "hoverlabel": {
           "align": "left"
          },
          "hovermode": "closest",
          "mapbox": {
           "style": "light"
          },
          "paper_bgcolor": "white",
          "plot_bgcolor": "#E5ECF6",
          "polar": {
           "angularaxis": {
            "gridcolor": "white",
            "linecolor": "white",
            "ticks": ""
           },
           "bgcolor": "#E5ECF6",
           "radialaxis": {
            "gridcolor": "white",
            "linecolor": "white",
            "ticks": ""
           }
          },
          "scene": {
           "xaxis": {
            "backgroundcolor": "#E5ECF6",
            "gridcolor": "white",
            "gridwidth": 2,
            "linecolor": "white",
            "showbackground": true,
            "ticks": "",
            "zerolinecolor": "white"
           },
           "yaxis": {
            "backgroundcolor": "#E5ECF6",
            "gridcolor": "white",
            "gridwidth": 2,
            "linecolor": "white",
            "showbackground": true,
            "ticks": "",
            "zerolinecolor": "white"
           },
           "zaxis": {
            "backgroundcolor": "#E5ECF6",
            "gridcolor": "white",
            "gridwidth": 2,
            "linecolor": "white",
            "showbackground": true,
            "ticks": "",
            "zerolinecolor": "white"
           }
          },
          "shapedefaults": {
           "line": {
            "color": "#2a3f5f"
           }
          },
          "ternary": {
           "aaxis": {
            "gridcolor": "white",
            "linecolor": "white",
            "ticks": ""
           },
           "baxis": {
            "gridcolor": "white",
            "linecolor": "white",
            "ticks": ""
           },
           "bgcolor": "#E5ECF6",
           "caxis": {
            "gridcolor": "white",
            "linecolor": "white",
            "ticks": ""
           }
          },
          "title": {
           "x": 0.05
          },
          "xaxis": {
           "automargin": true,
           "gridcolor": "white",
           "linecolor": "white",
           "ticks": "",
           "title": {
            "standoff": 15
           },
           "zerolinecolor": "white",
           "zerolinewidth": 2
          },
          "yaxis": {
           "automargin": true,
           "gridcolor": "white",
           "linecolor": "white",
           "ticks": "",
           "title": {
            "standoff": 15
           },
           "zerolinecolor": "white",
           "zerolinewidth": 2
          }
         }
        },
        "title": {
         "text": "Day observations"
        },
        "xaxis": {
         "anchor": "y",
         "domain": [
          0,
          1
         ],
         "title": {
          "text": "time"
         }
        },
        "yaxis": {
         "anchor": "x",
         "domain": [
          0,
          1
         ],
         "title": {
          "text": "value"
         }
        }
       }
      }
     },
     "metadata": {},
     "output_type": "display_data"
    }
   ],
   "source": [
    "pd.DataFrame(\n",
    "    {\n",
    "        \"original\": data.day.mean([\"latitude\", \"longitude\", \"layer\"]).dropna(\"time\").to_series(),\n",
    "        \"post-processed\": new_data.day.mean([\"latitude\", \"longitude\", \"layer\"]).dropna(\"time\").to_series(),\n",
    "    }\n",
    ").plot(title=\"Day observations\", kind=\"scatter\", opacity=0.5).update_traces(mode=\"lines+markers\")"
   ]
  },
  {
   "cell_type": "code",
   "execution_count": 12,
   "metadata": {},
   "outputs": [
    {
     "data": {
      "application/vnd.plotly.v1+json": {
       "config": {
        "plotlyServerURL": "https://plot.ly"
       },
       "data": [
        {
         "hovertemplate": "longitude=%{x}<br>latitude=%{y}<br>original=%{z}<extra></extra>",
         "legendgroup": "",
         "marker": {
          "color": "#636efa",
          "size": 0,
          "symbol": "circle"
         },
         "mode": "markers",
         "name": "",
         "scene": "scene",
         "showlegend": false,
         "type": "scatter3d",
         "x": [
          -156.5,
          -153.5,
          -152.5,
          -150.5,
          -149.5,
          -147.5,
          -146.5,
          -145.5,
          -144.5,
          -143.5,
          -142.5,
          -141.5,
          -140.5,
          -139.5,
          -138.5,
          -137.5,
          -136.5,
          -135.5,
          -134.5,
          -133.5,
          -132.5,
          -131.5,
          -130.5,
          -129.5,
          -128.5,
          -156.5,
          -153.5,
          -152.5,
          -150.5,
          -149.5,
          -147.5,
          -146.5,
          -145.5,
          -144.5,
          -143.5,
          -142.5,
          -141.5,
          -140.5,
          -139.5,
          -138.5,
          -137.5,
          -136.5,
          -135.5,
          -134.5,
          -133.5,
          -132.5,
          -131.5,
          -130.5,
          -129.5,
          -128.5,
          -156.5,
          -153.5,
          -152.5,
          -150.5,
          -149.5,
          -147.5,
          -146.5,
          -145.5,
          -144.5,
          -143.5,
          -142.5,
          -141.5,
          -140.5,
          -139.5,
          -138.5,
          -137.5,
          -136.5,
          -135.5,
          -134.5,
          -133.5,
          -132.5,
          -131.5,
          -130.5,
          -129.5,
          -128.5,
          -156.5,
          -153.5,
          -152.5,
          -150.5,
          -149.5,
          -147.5,
          -146.5,
          -145.5,
          -144.5,
          -143.5,
          -142.5,
          -141.5,
          -140.5,
          -139.5,
          -138.5,
          -137.5,
          -136.5,
          -135.5,
          -134.5,
          -133.5,
          -132.5,
          -131.5,
          -130.5,
          -129.5,
          -128.5,
          -156.5,
          -153.5,
          -152.5,
          -150.5,
          -149.5,
          -147.5,
          -146.5,
          -145.5,
          -144.5,
          -143.5,
          -142.5,
          -141.5,
          -140.5,
          -139.5,
          -138.5,
          -137.5,
          -136.5,
          -135.5,
          -134.5,
          -133.5,
          -132.5,
          -131.5,
          -130.5,
          -129.5,
          -128.5,
          -156.5,
          -153.5,
          -152.5,
          -150.5,
          -149.5,
          -147.5,
          -146.5,
          -145.5,
          -144.5,
          -143.5,
          -142.5,
          -141.5,
          -140.5,
          -139.5,
          -138.5,
          -137.5,
          -136.5,
          -135.5,
          -134.5,
          -133.5,
          -132.5,
          -131.5,
          -130.5,
          -129.5,
          -128.5,
          -156.5,
          -153.5,
          -152.5,
          -150.5,
          -149.5,
          -147.5,
          -146.5,
          -145.5,
          -144.5,
          -143.5,
          -142.5,
          -141.5,
          -140.5,
          -139.5,
          -138.5,
          -137.5,
          -136.5,
          -135.5,
          -134.5,
          -133.5,
          -132.5,
          -131.5,
          -130.5,
          -129.5,
          -128.5,
          -156.5,
          -153.5,
          -152.5,
          -150.5,
          -149.5,
          -147.5,
          -146.5,
          -145.5,
          -144.5,
          -143.5,
          -142.5,
          -141.5,
          -140.5,
          -139.5,
          -138.5,
          -137.5,
          -136.5,
          -135.5,
          -134.5,
          -133.5,
          -132.5,
          -131.5,
          -130.5,
          -129.5,
          -128.5,
          -156.5,
          -153.5,
          -152.5,
          -150.5,
          -149.5,
          -147.5,
          -146.5,
          -145.5,
          -144.5,
          -143.5,
          -142.5,
          -141.5,
          -140.5,
          -139.5,
          -138.5,
          -137.5,
          -136.5,
          -135.5,
          -134.5,
          -133.5,
          -132.5,
          -131.5,
          -130.5,
          -129.5,
          -128.5,
          -156.5,
          -153.5,
          -152.5,
          -150.5,
          -149.5,
          -147.5,
          -146.5,
          -145.5,
          -144.5,
          -143.5,
          -142.5,
          -141.5,
          -140.5,
          -139.5,
          -138.5,
          -137.5,
          -136.5,
          -135.5,
          -134.5,
          -133.5,
          -132.5,
          -131.5,
          -130.5,
          -129.5,
          -128.5,
          -156.5,
          -153.5,
          -152.5,
          -150.5,
          -149.5,
          -147.5,
          -146.5,
          -145.5,
          -144.5,
          -143.5,
          -142.5,
          -141.5,
          -140.5,
          -139.5,
          -138.5,
          -137.5,
          -136.5,
          -135.5,
          -134.5,
          -133.5,
          -132.5,
          -131.5,
          -130.5,
          -129.5,
          -128.5
         ],
         "y": [
          47.5,
          47.5,
          47.5,
          47.5,
          47.5,
          47.5,
          47.5,
          47.5,
          47.5,
          47.5,
          47.5,
          47.5,
          47.5,
          47.5,
          47.5,
          47.5,
          47.5,
          47.5,
          47.5,
          47.5,
          47.5,
          47.5,
          47.5,
          47.5,
          47.5,
          48.5,
          48.5,
          48.5,
          48.5,
          48.5,
          48.5,
          48.5,
          48.5,
          48.5,
          48.5,
          48.5,
          48.5,
          48.5,
          48.5,
          48.5,
          48.5,
          48.5,
          48.5,
          48.5,
          48.5,
          48.5,
          48.5,
          48.5,
          48.5,
          48.5,
          49.5,
          49.5,
          49.5,
          49.5,
          49.5,
          49.5,
          49.5,
          49.5,
          49.5,
          49.5,
          49.5,
          49.5,
          49.5,
          49.5,
          49.5,
          49.5,
          49.5,
          49.5,
          49.5,
          49.5,
          49.5,
          49.5,
          49.5,
          49.5,
          49.5,
          50.5,
          50.5,
          50.5,
          50.5,
          50.5,
          50.5,
          50.5,
          50.5,
          50.5,
          50.5,
          50.5,
          50.5,
          50.5,
          50.5,
          50.5,
          50.5,
          50.5,
          50.5,
          50.5,
          50.5,
          50.5,
          50.5,
          50.5,
          50.5,
          50.5,
          51.5,
          51.5,
          51.5,
          51.5,
          51.5,
          51.5,
          51.5,
          51.5,
          51.5,
          51.5,
          51.5,
          51.5,
          51.5,
          51.5,
          51.5,
          51.5,
          51.5,
          51.5,
          51.5,
          51.5,
          51.5,
          51.5,
          51.5,
          51.5,
          51.5,
          52.5,
          52.5,
          52.5,
          52.5,
          52.5,
          52.5,
          52.5,
          52.5,
          52.5,
          52.5,
          52.5,
          52.5,
          52.5,
          52.5,
          52.5,
          52.5,
          52.5,
          52.5,
          52.5,
          52.5,
          52.5,
          52.5,
          52.5,
          52.5,
          52.5,
          53.5,
          53.5,
          53.5,
          53.5,
          53.5,
          53.5,
          53.5,
          53.5,
          53.5,
          53.5,
          53.5,
          53.5,
          53.5,
          53.5,
          53.5,
          53.5,
          53.5,
          53.5,
          53.5,
          53.5,
          53.5,
          53.5,
          53.5,
          53.5,
          53.5,
          54.5,
          54.5,
          54.5,
          54.5,
          54.5,
          54.5,
          54.5,
          54.5,
          54.5,
          54.5,
          54.5,
          54.5,
          54.5,
          54.5,
          54.5,
          54.5,
          54.5,
          54.5,
          54.5,
          54.5,
          54.5,
          54.5,
          54.5,
          54.5,
          54.5,
          55.5,
          55.5,
          55.5,
          55.5,
          55.5,
          55.5,
          55.5,
          55.5,
          55.5,
          55.5,
          55.5,
          55.5,
          55.5,
          55.5,
          55.5,
          55.5,
          55.5,
          55.5,
          55.5,
          55.5,
          55.5,
          55.5,
          55.5,
          55.5,
          55.5,
          56.5,
          56.5,
          56.5,
          56.5,
          56.5,
          56.5,
          56.5,
          56.5,
          56.5,
          56.5,
          56.5,
          56.5,
          56.5,
          56.5,
          56.5,
          56.5,
          56.5,
          56.5,
          56.5,
          56.5,
          56.5,
          56.5,
          56.5,
          56.5,
          56.5,
          57.5,
          57.5,
          57.5,
          57.5,
          57.5,
          57.5,
          57.5,
          57.5,
          57.5,
          57.5,
          57.5,
          57.5,
          57.5,
          57.5,
          57.5,
          57.5,
          57.5,
          57.5,
          57.5,
          57.5,
          57.5,
          57.5,
          57.5,
          57.5,
          57.5
         ],
         "z": [
          null,
          null,
          null,
          null,
          null,
          null,
          null,
          17.395503,
          12.362665999999999,
          null,
          null,
          null,
          null,
          null,
          null,
          null,
          3.452648,
          null,
          null,
          null,
          null,
          null,
          32.669541,
          7.026974000000001,
          null,
          null,
          null,
          null,
          null,
          null,
          null,
          null,
          null,
          29.227812999999998,
          null,
          null,
          null,
          null,
          null,
          null,
          null,
          null,
          null,
          null,
          null,
          null,
          null,
          10.54894476,
          11.275148166666666,
          10.185095744680856,
          null,
          null,
          null,
          null,
          null,
          null,
          null,
          9.807402172727274,
          9.174179371794871,
          null,
          null,
          5.380025727272728,
          null,
          44.08509200000002,
          12.866797317073168,
          null,
          null,
          null,
          13.065368823529413,
          null,
          10.1201316,
          6.7994080000000015,
          18.366670000000003,
          17.958584000000002,
          10.59363775609756,
          null,
          null,
          null,
          4.068096,
          null,
          2.4128760000000002,
          null,
          8.194438363636364,
          13.481457354166666,
          3.923108,
          null,
          null,
          null,
          null,
          null,
          null,
          null,
          null,
          17.625616,
          24.883346666666668,
          43.82352,
          9.564318000000002,
          10.495594833333335,
          16.042989877192984,
          null,
          null,
          null,
          null,
          null,
          null,
          5.718160000000001,
          null,
          11.121907000000002,
          21.598603266666668,
          null,
          null,
          null,
          null,
          null,
          19.599924,
          4.416568,
          30.57626,
          16.725725999999998,
          23.165293000000002,
          19.414344333333332,
          7.025609000000001,
          5.827602666666667,
          18.715714000000002,
          null,
          null,
          null,
          null,
          null,
          2.827888,
          0.860712,
          null,
          null,
          16.119111111111113,
          17.12097338666667,
          7.4446,
          58.864959999999996,
          null,
          null,
          null,
          5.429524000000001,
          28.150312000000003,
          5.98854,
          12.199680166666667,
          9.3945535,
          9.772859,
          8.9846304,
          5.171209,
          null,
          null,
          null,
          25.069560000000003,
          54.968286000000006,
          6.196400000000001,
          42.660568000000005,
          null,
          null,
          null,
          null,
          12.954767125000002,
          null,
          null,
          null,
          19.842148,
          2.7177480000000003,
          13.2848052,
          33.73596800000001,
          4.622584000000001,
          23.4368276875,
          17.8672544,
          null,
          6.037289333333334,
          null,
          null,
          null,
          null,
          null,
          null,
          4.252648000000001,
          null,
          null,
          null,
          null,
          23.771796944444446,
          23.9863485,
          null,
          16.923594000000005,
          null,
          null,
          null,
          13.538226533333335,
          null,
          19.106781333333334,
          13.575492,
          18.809736,
          null,
          null,
          null,
          null,
          null,
          null,
          null,
          null,
          null,
          null,
          null,
          null,
          5.136204,
          20.769165166666667,
          9.037287000000003,
          null,
          null,
          null,
          null,
          null,
          null,
          4.674600000000001,
          6.832536000000001,
          6.56623375,
          null,
          null,
          null,
          null,
          null,
          null,
          null,
          null,
          null,
          null,
          null,
          null,
          null,
          null,
          121.74164800000001,
          null,
          null,
          null,
          null,
          null,
          null,
          null,
          null,
          null,
          null,
          null,
          null,
          null,
          null,
          null,
          null,
          null,
          null,
          null,
          null,
          null,
          null,
          null,
          null,
          5.797938,
          null,
          null,
          null,
          null,
          null,
          null,
          null,
          null,
          null,
          null,
          null,
          null,
          null,
          null,
          null,
          null,
          null
         ]
        },
        {
         "marker": {
          "size": 0
         },
         "mode": "markers",
         "name": "post-processed",
         "type": "scatter3d",
         "x": [
          -156.5,
          -153.5,
          -152.5,
          -150.5,
          -149.5,
          -147.5,
          -146.5,
          -145.5,
          -144.5,
          -143.5,
          -142.5,
          -141.5,
          -140.5,
          -139.5,
          -138.5,
          -137.5,
          -136.5,
          -135.5,
          -134.5,
          -133.5,
          -132.5,
          -131.5,
          -130.5,
          -129.5,
          -128.5,
          -156.5,
          -153.5,
          -152.5,
          -150.5,
          -149.5,
          -147.5,
          -146.5,
          -145.5,
          -144.5,
          -143.5,
          -142.5,
          -141.5,
          -140.5,
          -139.5,
          -138.5,
          -137.5,
          -136.5,
          -135.5,
          -134.5,
          -133.5,
          -132.5,
          -131.5,
          -130.5,
          -129.5,
          -128.5,
          -156.5,
          -153.5,
          -152.5,
          -150.5,
          -149.5,
          -147.5,
          -146.5,
          -145.5,
          -144.5,
          -143.5,
          -142.5,
          -141.5,
          -140.5,
          -139.5,
          -138.5,
          -137.5,
          -136.5,
          -135.5,
          -134.5,
          -133.5,
          -132.5,
          -131.5,
          -130.5,
          -129.5,
          -128.5,
          -156.5,
          -153.5,
          -152.5,
          -150.5,
          -149.5,
          -147.5,
          -146.5,
          -145.5,
          -144.5,
          -143.5,
          -142.5,
          -141.5,
          -140.5,
          -139.5,
          -138.5,
          -137.5,
          -136.5,
          -135.5,
          -134.5,
          -133.5,
          -132.5,
          -131.5,
          -130.5,
          -129.5,
          -128.5,
          -156.5,
          -153.5,
          -152.5,
          -150.5,
          -149.5,
          -147.5,
          -146.5,
          -145.5,
          -144.5,
          -143.5,
          -142.5,
          -141.5,
          -140.5,
          -139.5,
          -138.5,
          -137.5,
          -136.5,
          -135.5,
          -134.5,
          -133.5,
          -132.5,
          -131.5,
          -130.5,
          -129.5,
          -128.5,
          -156.5,
          -153.5,
          -152.5,
          -150.5,
          -149.5,
          -147.5,
          -146.5,
          -145.5,
          -144.5,
          -143.5,
          -142.5,
          -141.5,
          -140.5,
          -139.5,
          -138.5,
          -137.5,
          -136.5,
          -135.5,
          -134.5,
          -133.5,
          -132.5,
          -131.5,
          -130.5,
          -129.5,
          -128.5,
          -156.5,
          -153.5,
          -152.5,
          -150.5,
          -149.5,
          -147.5,
          -146.5,
          -145.5,
          -144.5,
          -143.5,
          -142.5,
          -141.5,
          -140.5,
          -139.5,
          -138.5,
          -137.5,
          -136.5,
          -135.5,
          -134.5,
          -133.5,
          -132.5,
          -131.5,
          -130.5,
          -129.5,
          -128.5,
          -156.5,
          -153.5,
          -152.5,
          -150.5,
          -149.5,
          -147.5,
          -146.5,
          -145.5,
          -144.5,
          -143.5,
          -142.5,
          -141.5,
          -140.5,
          -139.5,
          -138.5,
          -137.5,
          -136.5,
          -135.5,
          -134.5,
          -133.5,
          -132.5,
          -131.5,
          -130.5,
          -129.5,
          -128.5,
          -156.5,
          -153.5,
          -152.5,
          -150.5,
          -149.5,
          -147.5,
          -146.5,
          -145.5,
          -144.5,
          -143.5,
          -142.5,
          -141.5,
          -140.5,
          -139.5,
          -138.5,
          -137.5,
          -136.5,
          -135.5,
          -134.5,
          -133.5,
          -132.5,
          -131.5,
          -130.5,
          -129.5,
          -128.5,
          -156.5,
          -153.5,
          -152.5,
          -150.5,
          -149.5,
          -147.5,
          -146.5,
          -145.5,
          -144.5,
          -143.5,
          -142.5,
          -141.5,
          -140.5,
          -139.5,
          -138.5,
          -137.5,
          -136.5,
          -135.5,
          -134.5,
          -133.5,
          -132.5,
          -131.5,
          -130.5,
          -129.5,
          -128.5,
          -156.5,
          -153.5,
          -152.5,
          -150.5,
          -149.5,
          -147.5,
          -146.5,
          -145.5,
          -144.5,
          -143.5,
          -142.5,
          -141.5,
          -140.5,
          -139.5,
          -138.5,
          -137.5,
          -136.5,
          -135.5,
          -134.5,
          -133.5,
          -132.5,
          -131.5,
          -130.5,
          -129.5,
          -128.5
         ],
         "y": [
          47.5,
          47.5,
          47.5,
          47.5,
          47.5,
          47.5,
          47.5,
          47.5,
          47.5,
          47.5,
          47.5,
          47.5,
          47.5,
          47.5,
          47.5,
          47.5,
          47.5,
          47.5,
          47.5,
          47.5,
          47.5,
          47.5,
          47.5,
          47.5,
          47.5,
          48.5,
          48.5,
          48.5,
          48.5,
          48.5,
          48.5,
          48.5,
          48.5,
          48.5,
          48.5,
          48.5,
          48.5,
          48.5,
          48.5,
          48.5,
          48.5,
          48.5,
          48.5,
          48.5,
          48.5,
          48.5,
          48.5,
          48.5,
          48.5,
          48.5,
          49.5,
          49.5,
          49.5,
          49.5,
          49.5,
          49.5,
          49.5,
          49.5,
          49.5,
          49.5,
          49.5,
          49.5,
          49.5,
          49.5,
          49.5,
          49.5,
          49.5,
          49.5,
          49.5,
          49.5,
          49.5,
          49.5,
          49.5,
          49.5,
          49.5,
          50.5,
          50.5,
          50.5,
          50.5,
          50.5,
          50.5,
          50.5,
          50.5,
          50.5,
          50.5,
          50.5,
          50.5,
          50.5,
          50.5,
          50.5,
          50.5,
          50.5,
          50.5,
          50.5,
          50.5,
          50.5,
          50.5,
          50.5,
          50.5,
          50.5,
          51.5,
          51.5,
          51.5,
          51.5,
          51.5,
          51.5,
          51.5,
          51.5,
          51.5,
          51.5,
          51.5,
          51.5,
          51.5,
          51.5,
          51.5,
          51.5,
          51.5,
          51.5,
          51.5,
          51.5,
          51.5,
          51.5,
          51.5,
          51.5,
          51.5,
          52.5,
          52.5,
          52.5,
          52.5,
          52.5,
          52.5,
          52.5,
          52.5,
          52.5,
          52.5,
          52.5,
          52.5,
          52.5,
          52.5,
          52.5,
          52.5,
          52.5,
          52.5,
          52.5,
          52.5,
          52.5,
          52.5,
          52.5,
          52.5,
          52.5,
          53.5,
          53.5,
          53.5,
          53.5,
          53.5,
          53.5,
          53.5,
          53.5,
          53.5,
          53.5,
          53.5,
          53.5,
          53.5,
          53.5,
          53.5,
          53.5,
          53.5,
          53.5,
          53.5,
          53.5,
          53.5,
          53.5,
          53.5,
          53.5,
          53.5,
          54.5,
          54.5,
          54.5,
          54.5,
          54.5,
          54.5,
          54.5,
          54.5,
          54.5,
          54.5,
          54.5,
          54.5,
          54.5,
          54.5,
          54.5,
          54.5,
          54.5,
          54.5,
          54.5,
          54.5,
          54.5,
          54.5,
          54.5,
          54.5,
          54.5,
          55.5,
          55.5,
          55.5,
          55.5,
          55.5,
          55.5,
          55.5,
          55.5,
          55.5,
          55.5,
          55.5,
          55.5,
          55.5,
          55.5,
          55.5,
          55.5,
          55.5,
          55.5,
          55.5,
          55.5,
          55.5,
          55.5,
          55.5,
          55.5,
          55.5,
          56.5,
          56.5,
          56.5,
          56.5,
          56.5,
          56.5,
          56.5,
          56.5,
          56.5,
          56.5,
          56.5,
          56.5,
          56.5,
          56.5,
          56.5,
          56.5,
          56.5,
          56.5,
          56.5,
          56.5,
          56.5,
          56.5,
          56.5,
          56.5,
          56.5,
          57.5,
          57.5,
          57.5,
          57.5,
          57.5,
          57.5,
          57.5,
          57.5,
          57.5,
          57.5,
          57.5,
          57.5,
          57.5,
          57.5,
          57.5,
          57.5,
          57.5,
          57.5,
          57.5,
          57.5,
          57.5,
          57.5,
          57.5,
          57.5,
          57.5
         ],
         "z": [
          null,
          null,
          null,
          null,
          null,
          null,
          null,
          17.395503,
          12.362665999999999,
          null,
          null,
          null,
          null,
          null,
          null,
          null,
          3.452648,
          null,
          null,
          null,
          null,
          null,
          28.242255999999998,
          7.026974000000001,
          null,
          null,
          null,
          null,
          null,
          null,
          null,
          null,
          null,
          29.227812999999998,
          null,
          null,
          null,
          null,
          null,
          null,
          null,
          null,
          null,
          null,
          null,
          null,
          null,
          8.854164625000001,
          5.819698857142858,
          10.185095744680856,
          null,
          null,
          null,
          null,
          null,
          null,
          null,
          9.807402172727274,
          9.174179371794871,
          null,
          null,
          5.380025727272728,
          null,
          null,
          10.590823333333333,
          null,
          null,
          null,
          10.729309624999999,
          null,
          10.1201316,
          6.7994080000000015,
          12.414638666666669,
          17.958584000000002,
          10.59363775609756,
          null,
          null,
          null,
          4.068096,
          null,
          2.4128760000000002,
          null,
          8.194438363636364,
          11.952924377777778,
          3.923108,
          null,
          null,
          null,
          null,
          null,
          null,
          null,
          null,
          17.625616,
          24.883346666666668,
          null,
          9.564318000000002,
          10.495594833333335,
          10.122929734693876,
          null,
          null,
          null,
          null,
          null,
          null,
          5.718160000000001,
          null,
          11.121907000000002,
          21.598603266666668,
          null,
          null,
          null,
          null,
          null,
          19.599924,
          4.416568,
          13.370336000000002,
          16.725725999999998,
          23.165293000000002,
          19.414344333333332,
          7.025609000000001,
          5.827602666666667,
          7.058552800000001,
          null,
          null,
          null,
          null,
          null,
          2.827888,
          0.860712,
          null,
          null,
          16.119111111111113,
          17.12097338666667,
          7.4446,
          null,
          null,
          null,
          null,
          5.429524000000001,
          28.150312000000003,
          5.98854,
          12.199680166666667,
          9.3945535,
          9.772859,
          8.9846304,
          5.171209,
          null,
          null,
          null,
          25.069560000000003,
          null,
          6.196400000000001,
          null,
          null,
          null,
          null,
          null,
          12.954767125000002,
          null,
          null,
          null,
          19.842148,
          2.7177480000000003,
          13.2848052,
          33.73596800000001,
          4.622584000000001,
          13.20270802777778,
          17.8672544,
          null,
          6.037289333333334,
          null,
          null,
          null,
          null,
          null,
          null,
          4.252648000000001,
          null,
          null,
          null,
          null,
          5.2802456666666675,
          23.9863485,
          null,
          16.923594000000005,
          null,
          null,
          null,
          13.538226533333335,
          null,
          19.106781333333334,
          13.575492,
          18.809736,
          null,
          null,
          null,
          null,
          null,
          null,
          null,
          null,
          null,
          null,
          null,
          null,
          5.136204,
          6.663956888888889,
          9.037287000000003,
          null,
          null,
          null,
          null,
          null,
          null,
          4.674600000000001,
          6.832536000000001,
          6.56623375,
          null,
          null,
          null,
          null,
          null,
          null,
          null,
          null,
          null,
          null,
          null,
          null,
          null,
          null,
          19.004692000000002,
          null,
          null,
          null,
          null,
          null,
          null,
          null,
          null,
          null,
          null,
          null,
          null,
          null,
          null,
          null,
          null,
          null,
          null,
          null,
          null,
          null,
          null,
          null,
          null,
          5.797938,
          null,
          null,
          null,
          null,
          null,
          null,
          null,
          null,
          null,
          null,
          null,
          null,
          null,
          null,
          null,
          null,
          null
         ]
        }
       ],
       "layout": {
        "height": 500,
        "legend": {
         "tracegroupgap": 0
        },
        "scene": {
         "aspectmode": "manual",
         "aspectratio": {
          "x": 2,
          "y": 1,
          "z": 0.5
         },
         "camera": {
          "eye": {
           "x": 0.8,
           "y": 0.8,
           "z": 0.8
          }
         },
         "domain": {
          "x": [
           0,
           1
          ],
          "y": [
           0,
           1
          ]
         },
         "xaxis": {
          "backgroundcolor": "rgba(0,0,0,0)",
          "title": {
           "text": "longitude"
          }
         },
         "yaxis": {
          "backgroundcolor": "rgba(0,0,0,0)",
          "title": {
           "text": "latitude"
          }
         },
         "zaxis": {
          "title": {
           "text": "original"
          }
         }
        },
        "template": {
         "data": {
          "bar": [
           {
            "error_x": {
             "color": "#2a3f5f"
            },
            "error_y": {
             "color": "#2a3f5f"
            },
            "marker": {
             "line": {
              "color": "#E5ECF6",
              "width": 0.5
             },
             "pattern": {
              "fillmode": "overlay",
              "size": 10,
              "solidity": 0.2
             }
            },
            "type": "bar"
           }
          ],
          "barpolar": [
           {
            "marker": {
             "line": {
              "color": "#E5ECF6",
              "width": 0.5
             },
             "pattern": {
              "fillmode": "overlay",
              "size": 10,
              "solidity": 0.2
             }
            },
            "type": "barpolar"
           }
          ],
          "carpet": [
           {
            "aaxis": {
             "endlinecolor": "#2a3f5f",
             "gridcolor": "white",
             "linecolor": "white",
             "minorgridcolor": "white",
             "startlinecolor": "#2a3f5f"
            },
            "baxis": {
             "endlinecolor": "#2a3f5f",
             "gridcolor": "white",
             "linecolor": "white",
             "minorgridcolor": "white",
             "startlinecolor": "#2a3f5f"
            },
            "type": "carpet"
           }
          ],
          "choropleth": [
           {
            "colorbar": {
             "outlinewidth": 0,
             "ticks": ""
            },
            "type": "choropleth"
           }
          ],
          "contour": [
           {
            "colorbar": {
             "outlinewidth": 0,
             "ticks": ""
            },
            "colorscale": [
             [
              0,
              "#0d0887"
             ],
             [
              0.1111111111111111,
              "#46039f"
             ],
             [
              0.2222222222222222,
              "#7201a8"
             ],
             [
              0.3333333333333333,
              "#9c179e"
             ],
             [
              0.4444444444444444,
              "#bd3786"
             ],
             [
              0.5555555555555556,
              "#d8576b"
             ],
             [
              0.6666666666666666,
              "#ed7953"
             ],
             [
              0.7777777777777778,
              "#fb9f3a"
             ],
             [
              0.8888888888888888,
              "#fdca26"
             ],
             [
              1,
              "#f0f921"
             ]
            ],
            "type": "contour"
           }
          ],
          "contourcarpet": [
           {
            "colorbar": {
             "outlinewidth": 0,
             "ticks": ""
            },
            "type": "contourcarpet"
           }
          ],
          "heatmap": [
           {
            "colorbar": {
             "outlinewidth": 0,
             "ticks": ""
            },
            "colorscale": [
             [
              0,
              "#0d0887"
             ],
             [
              0.1111111111111111,
              "#46039f"
             ],
             [
              0.2222222222222222,
              "#7201a8"
             ],
             [
              0.3333333333333333,
              "#9c179e"
             ],
             [
              0.4444444444444444,
              "#bd3786"
             ],
             [
              0.5555555555555556,
              "#d8576b"
             ],
             [
              0.6666666666666666,
              "#ed7953"
             ],
             [
              0.7777777777777778,
              "#fb9f3a"
             ],
             [
              0.8888888888888888,
              "#fdca26"
             ],
             [
              1,
              "#f0f921"
             ]
            ],
            "type": "heatmap"
           }
          ],
          "heatmapgl": [
           {
            "colorbar": {
             "outlinewidth": 0,
             "ticks": ""
            },
            "colorscale": [
             [
              0,
              "#0d0887"
             ],
             [
              0.1111111111111111,
              "#46039f"
             ],
             [
              0.2222222222222222,
              "#7201a8"
             ],
             [
              0.3333333333333333,
              "#9c179e"
             ],
             [
              0.4444444444444444,
              "#bd3786"
             ],
             [
              0.5555555555555556,
              "#d8576b"
             ],
             [
              0.6666666666666666,
              "#ed7953"
             ],
             [
              0.7777777777777778,
              "#fb9f3a"
             ],
             [
              0.8888888888888888,
              "#fdca26"
             ],
             [
              1,
              "#f0f921"
             ]
            ],
            "type": "heatmapgl"
           }
          ],
          "histogram": [
           {
            "marker": {
             "pattern": {
              "fillmode": "overlay",
              "size": 10,
              "solidity": 0.2
             }
            },
            "type": "histogram"
           }
          ],
          "histogram2d": [
           {
            "colorbar": {
             "outlinewidth": 0,
             "ticks": ""
            },
            "colorscale": [
             [
              0,
              "#0d0887"
             ],
             [
              0.1111111111111111,
              "#46039f"
             ],
             [
              0.2222222222222222,
              "#7201a8"
             ],
             [
              0.3333333333333333,
              "#9c179e"
             ],
             [
              0.4444444444444444,
              "#bd3786"
             ],
             [
              0.5555555555555556,
              "#d8576b"
             ],
             [
              0.6666666666666666,
              "#ed7953"
             ],
             [
              0.7777777777777778,
              "#fb9f3a"
             ],
             [
              0.8888888888888888,
              "#fdca26"
             ],
             [
              1,
              "#f0f921"
             ]
            ],
            "type": "histogram2d"
           }
          ],
          "histogram2dcontour": [
           {
            "colorbar": {
             "outlinewidth": 0,
             "ticks": ""
            },
            "colorscale": [
             [
              0,
              "#0d0887"
             ],
             [
              0.1111111111111111,
              "#46039f"
             ],
             [
              0.2222222222222222,
              "#7201a8"
             ],
             [
              0.3333333333333333,
              "#9c179e"
             ],
             [
              0.4444444444444444,
              "#bd3786"
             ],
             [
              0.5555555555555556,
              "#d8576b"
             ],
             [
              0.6666666666666666,
              "#ed7953"
             ],
             [
              0.7777777777777778,
              "#fb9f3a"
             ],
             [
              0.8888888888888888,
              "#fdca26"
             ],
             [
              1,
              "#f0f921"
             ]
            ],
            "type": "histogram2dcontour"
           }
          ],
          "mesh3d": [
           {
            "colorbar": {
             "outlinewidth": 0,
             "ticks": ""
            },
            "type": "mesh3d"
           }
          ],
          "parcoords": [
           {
            "line": {
             "colorbar": {
              "outlinewidth": 0,
              "ticks": ""
             }
            },
            "type": "parcoords"
           }
          ],
          "pie": [
           {
            "automargin": true,
            "type": "pie"
           }
          ],
          "scatter": [
           {
            "fillpattern": {
             "fillmode": "overlay",
             "size": 10,
             "solidity": 0.2
            },
            "type": "scatter"
           }
          ],
          "scatter3d": [
           {
            "line": {
             "colorbar": {
              "outlinewidth": 0,
              "ticks": ""
             }
            },
            "marker": {
             "colorbar": {
              "outlinewidth": 0,
              "ticks": ""
             }
            },
            "type": "scatter3d"
           }
          ],
          "scattercarpet": [
           {
            "marker": {
             "colorbar": {
              "outlinewidth": 0,
              "ticks": ""
             }
            },
            "type": "scattercarpet"
           }
          ],
          "scattergeo": [
           {
            "marker": {
             "colorbar": {
              "outlinewidth": 0,
              "ticks": ""
             }
            },
            "type": "scattergeo"
           }
          ],
          "scattergl": [
           {
            "marker": {
             "colorbar": {
              "outlinewidth": 0,
              "ticks": ""
             }
            },
            "type": "scattergl"
           }
          ],
          "scattermapbox": [
           {
            "marker": {
             "colorbar": {
              "outlinewidth": 0,
              "ticks": ""
             }
            },
            "type": "scattermapbox"
           }
          ],
          "scatterpolar": [
           {
            "marker": {
             "colorbar": {
              "outlinewidth": 0,
              "ticks": ""
             }
            },
            "type": "scatterpolar"
           }
          ],
          "scatterpolargl": [
           {
            "marker": {
             "colorbar": {
              "outlinewidth": 0,
              "ticks": ""
             }
            },
            "type": "scatterpolargl"
           }
          ],
          "scatterternary": [
           {
            "marker": {
             "colorbar": {
              "outlinewidth": 0,
              "ticks": ""
             }
            },
            "type": "scatterternary"
           }
          ],
          "surface": [
           {
            "colorbar": {
             "outlinewidth": 0,
             "ticks": ""
            },
            "colorscale": [
             [
              0,
              "#0d0887"
             ],
             [
              0.1111111111111111,
              "#46039f"
             ],
             [
              0.2222222222222222,
              "#7201a8"
             ],
             [
              0.3333333333333333,
              "#9c179e"
             ],
             [
              0.4444444444444444,
              "#bd3786"
             ],
             [
              0.5555555555555556,
              "#d8576b"
             ],
             [
              0.6666666666666666,
              "#ed7953"
             ],
             [
              0.7777777777777778,
              "#fb9f3a"
             ],
             [
              0.8888888888888888,
              "#fdca26"
             ],
             [
              1,
              "#f0f921"
             ]
            ],
            "type": "surface"
           }
          ],
          "table": [
           {
            "cells": {
             "fill": {
              "color": "#EBF0F8"
             },
             "line": {
              "color": "white"
             }
            },
            "header": {
             "fill": {
              "color": "#C8D4E3"
             },
             "line": {
              "color": "white"
             }
            },
            "type": "table"
           }
          ]
         },
         "layout": {
          "annotationdefaults": {
           "arrowcolor": "#2a3f5f",
           "arrowhead": 0,
           "arrowwidth": 1
          },
          "autotypenumbers": "strict",
          "coloraxis": {
           "colorbar": {
            "outlinewidth": 0,
            "ticks": ""
           }
          },
          "colorscale": {
           "diverging": [
            [
             0,
             "#8e0152"
            ],
            [
             0.1,
             "#c51b7d"
            ],
            [
             0.2,
             "#de77ae"
            ],
            [
             0.3,
             "#f1b6da"
            ],
            [
             0.4,
             "#fde0ef"
            ],
            [
             0.5,
             "#f7f7f7"
            ],
            [
             0.6,
             "#e6f5d0"
            ],
            [
             0.7,
             "#b8e186"
            ],
            [
             0.8,
             "#7fbc41"
            ],
            [
             0.9,
             "#4d9221"
            ],
            [
             1,
             "#276419"
            ]
           ],
           "sequential": [
            [
             0,
             "#0d0887"
            ],
            [
             0.1111111111111111,
             "#46039f"
            ],
            [
             0.2222222222222222,
             "#7201a8"
            ],
            [
             0.3333333333333333,
             "#9c179e"
            ],
            [
             0.4444444444444444,
             "#bd3786"
            ],
            [
             0.5555555555555556,
             "#d8576b"
            ],
            [
             0.6666666666666666,
             "#ed7953"
            ],
            [
             0.7777777777777778,
             "#fb9f3a"
            ],
            [
             0.8888888888888888,
             "#fdca26"
            ],
            [
             1,
             "#f0f921"
            ]
           ],
           "sequentialminus": [
            [
             0,
             "#0d0887"
            ],
            [
             0.1111111111111111,
             "#46039f"
            ],
            [
             0.2222222222222222,
             "#7201a8"
            ],
            [
             0.3333333333333333,
             "#9c179e"
            ],
            [
             0.4444444444444444,
             "#bd3786"
            ],
            [
             0.5555555555555556,
             "#d8576b"
            ],
            [
             0.6666666666666666,
             "#ed7953"
            ],
            [
             0.7777777777777778,
             "#fb9f3a"
            ],
            [
             0.8888888888888888,
             "#fdca26"
            ],
            [
             1,
             "#f0f921"
            ]
           ]
          },
          "colorway": [
           "#636efa",
           "#EF553B",
           "#00cc96",
           "#ab63fa",
           "#FFA15A",
           "#19d3f3",
           "#FF6692",
           "#B6E880",
           "#FF97FF",
           "#FECB52"
          ],
          "font": {
           "color": "#2a3f5f"
          },
          "geo": {
           "bgcolor": "white",
           "lakecolor": "white",
           "landcolor": "#E5ECF6",
           "showlakes": true,
           "showland": true,
           "subunitcolor": "white"
          },
          "hoverlabel": {
           "align": "left"
          },
          "hovermode": "closest",
          "mapbox": {
           "style": "light"
          },
          "paper_bgcolor": "white",
          "plot_bgcolor": "#E5ECF6",
          "polar": {
           "angularaxis": {
            "gridcolor": "white",
            "linecolor": "white",
            "ticks": ""
           },
           "bgcolor": "#E5ECF6",
           "radialaxis": {
            "gridcolor": "white",
            "linecolor": "white",
            "ticks": ""
           }
          },
          "scene": {
           "xaxis": {
            "backgroundcolor": "#E5ECF6",
            "gridcolor": "white",
            "gridwidth": 2,
            "linecolor": "white",
            "showbackground": true,
            "ticks": "",
            "zerolinecolor": "white"
           },
           "yaxis": {
            "backgroundcolor": "#E5ECF6",
            "gridcolor": "white",
            "gridwidth": 2,
            "linecolor": "white",
            "showbackground": true,
            "ticks": "",
            "zerolinecolor": "white"
           },
           "zaxis": {
            "backgroundcolor": "#E5ECF6",
            "gridcolor": "white",
            "gridwidth": 2,
            "linecolor": "white",
            "showbackground": true,
            "ticks": "",
            "zerolinecolor": "white"
           }
          },
          "shapedefaults": {
           "line": {
            "color": "#2a3f5f"
           }
          },
          "ternary": {
           "aaxis": {
            "gridcolor": "white",
            "linecolor": "white",
            "ticks": ""
           },
           "baxis": {
            "gridcolor": "white",
            "linecolor": "white",
            "ticks": ""
           },
           "bgcolor": "#E5ECF6",
           "caxis": {
            "gridcolor": "white",
            "linecolor": "white",
            "ticks": ""
           }
          },
          "title": {
           "x": 0.05
          },
          "xaxis": {
           "automargin": true,
           "gridcolor": "white",
           "linecolor": "white",
           "ticks": "",
           "title": {
            "standoff": 15
           },
           "zerolinecolor": "white",
           "zerolinewidth": 2
          },
          "yaxis": {
           "automargin": true,
           "gridcolor": "white",
           "linecolor": "white",
           "ticks": "",
           "title": {
            "standoff": 15
           },
           "zerolinecolor": "white",
           "zerolinewidth": 2
          }
         }
        },
        "title": {
         "text": "Grid of Longitude and Latitude : Papa"
        }
       }
      }
     },
     "metadata": {},
     "output_type": "display_data"
    }
   ],
   "source": [
    "data_to_plot = pd.DataFrame(\n",
    "    {\n",
    "        \"original\": data.day.mean([\"time\"]).dropna(\"latitude\", how=\"all\").dropna(\"longitude\", how=\"all\").to_series(),\n",
    "        \"post-processed\": new_data.day.mean([\"time\"])\n",
    "        .dropna(\"latitude\", how=\"all\")\n",
    "        .dropna(\"longitude\", how=\"all\")\n",
    "        .to_series(),\n",
    "    }\n",
    ")\n",
    "\n",
    "figure = px.scatter_3d(data_to_plot.reset_index(), x=\"longitude\", y=\"latitude\", z=\"original\", title=\"Day observations\")\n",
    "\n",
    "figure.add_scatter3d(\n",
    "    x=data_to_plot.reset_index().longitude,\n",
    "    y=data_to_plot.reset_index().latitude,\n",
    "    z=data_to_plot[\"post-processed\"],\n",
    "    mode=\"markers\",\n",
    "    name=\"post-processed\",\n",
    ")\n",
    "\n",
    "figure.update_traces(marker={\"size\": 0}).update_layout(\n",
    "    scene={\n",
    "        \"xaxis\": {\"backgroundcolor\": \"rgba(0,0,0,0)\"},\n",
    "        \"yaxis\": {\"backgroundcolor\": \"rgba(0,0,0,0)\"},\n",
    "        \"aspectmode\": \"manual\",\n",
    "        \"aspectratio\": {\"x\": 2, \"y\": 1, \"z\": 0.5},\n",
    "        \"camera\": {\"eye\": {\"x\": 0.80, \"y\": 0.80, \"z\": 0.80}},\n",
    "    },\n",
    "    title=f\"Grid of Longitude and Latitude : {station}\",\n",
    "    height=500,\n",
    ")"
   ]
  },
  {
   "cell_type": "markdown",
   "metadata": {},
   "source": [
    "## NIGHT\n"
   ]
  },
  {
   "cell_type": "code",
   "execution_count": 13,
   "metadata": {},
   "outputs": [
    {
     "data": {
      "application/vnd.plotly.v1+json": {
       "config": {
        "plotlyServerURL": "https://plot.ly"
       },
       "data": [
        {
         "hovertemplate": "variable=original<br>time=%{x}<br>value=%{y}<extra></extra>",
         "legendgroup": "original",
         "marker": {
          "color": "#636efa",
          "opacity": 0.5,
          "symbol": "circle"
         },
         "mode": "lines+markers",
         "name": "original",
         "orientation": "v",
         "showlegend": true,
         "type": "scatter",
         "x": [
          "1995-09-24T00:00:00",
          "1995-09-25T00:00:00",
          "1995-09-26T00:00:00",
          "1995-09-28T00:00:00",
          "1996-06-11T00:00:00",
          "1996-10-05T00:00:00",
          "1997-02-21T00:00:00",
          "1997-02-24T00:00:00",
          "1997-06-08T00:00:00",
          "1997-06-12T00:00:00",
          "1997-06-15T00:00:00",
          "1997-07-12T00:00:00",
          "1997-09-04T00:00:00",
          "1997-09-08T00:00:00",
          "1998-01-19T00:00:00",
          "1998-02-21T00:00:00",
          "1998-02-23T00:00:00",
          "1998-02-27T00:00:00",
          "1998-03-03T00:00:00",
          "1998-04-08T00:00:00",
          "1998-04-09T00:00:00",
          "1998-05-13T00:00:00",
          "1998-06-08T00:00:00",
          "1998-06-13T00:00:00",
          "1998-06-17T00:00:00",
          "1998-06-18T00:00:00",
          "1998-07-03T00:00:00",
          "1998-07-18T00:00:00",
          "1998-08-28T00:00:00",
          "1998-08-29T00:00:00",
          "1998-08-30T00:00:00",
          "1998-09-01T00:00:00",
          "1998-10-08T00:00:00",
          "1999-02-18T00:00:00",
          "1999-02-20T00:00:00",
          "1999-02-21T00:00:00",
          "1999-05-20T00:00:00",
          "1999-05-25T00:00:00",
          "1999-08-29T00:00:00",
          "1999-08-30T00:00:00",
          "1999-09-02T00:00:00",
          "1999-09-04T00:00:00",
          "1999-09-05T00:00:00",
          "1999-09-07T00:00:00",
          "1999-10-13T00:00:00",
          "2000-05-08T00:00:00",
          "2000-05-09T00:00:00",
          "2000-05-10T00:00:00",
          "2000-05-12T00:00:00",
          "2000-06-05T00:00:00",
          "2000-06-06T00:00:00",
          "2000-06-09T00:00:00",
          "2000-06-19T00:00:00",
          "2000-06-20T00:00:00",
          "2000-07-04T00:00:00",
          "2000-07-05T00:00:00",
          "2000-08-04T00:00:00",
          "2000-08-05T00:00:00",
          "2000-08-06T00:00:00",
          "2000-09-07T00:00:00",
          "2000-09-08T00:00:00",
          "2000-09-10T00:00:00",
          "2000-09-11T00:00:00",
          "2000-09-14T00:00:00",
          "2000-09-26T00:00:00",
          "2000-09-27T00:00:00",
          "2000-09-28T00:00:00",
          "2000-09-29T00:00:00",
          "2000-10-01T00:00:00",
          "2001-02-09T00:00:00",
          "2001-02-12T00:00:00",
          "2001-02-16T00:00:00",
          "2001-06-02T00:00:00",
          "2001-06-03T00:00:00",
          "2001-06-05T00:00:00",
          "2001-06-08T00:00:00",
          "2001-06-09T00:00:00",
          "2001-06-10T00:00:00",
          "2001-06-11T00:00:00",
          "2001-06-12T00:00:00",
          "2001-08-25T00:00:00",
          "2001-09-22T00:00:00",
          "2001-09-27T00:00:00",
          "2001-09-28T00:00:00",
          "2001-10-03T00:00:00",
          "2002-02-07T00:00:00",
          "2002-02-15T00:00:00",
          "2002-02-16T00:00:00",
          "2002-07-23T00:00:00",
          "2002-08-28T00:00:00",
          "2002-08-29T00:00:00",
          "2002-08-30T00:00:00",
          "2002-09-06T00:00:00",
          "2002-09-08T00:00:00",
          "2002-10-23T00:00:00",
          "2003-06-08T00:00:00",
          "2003-09-07T00:00:00",
          "2003-09-27T00:00:00",
          "2003-09-28T00:00:00",
          "2003-10-26T00:00:00",
          "2003-10-27T00:00:00",
          "2004-02-20T00:00:00",
          "2004-02-21T00:00:00",
          "2004-02-22T00:00:00",
          "2004-02-24T00:00:00",
          "2004-06-06T00:00:00",
          "2004-08-21T00:00:00",
          "2004-08-26T00:00:00",
          "2004-09-05T00:00:00",
          "2005-02-13T00:00:00",
          "2005-02-14T00:00:00",
          "2005-02-18T00:00:00",
          "2005-02-22T00:00:00",
          "2005-03-12T00:00:00",
          "2005-05-28T00:00:00",
          "2005-06-03T00:00:00",
          "2005-08-19T00:00:00",
          "2005-08-20T00:00:00",
          "2005-08-22T00:00:00",
          "2005-08-27T00:00:00",
          "2005-09-09T00:00:00",
          "2006-02-09T00:00:00",
          "2006-04-21T00:00:00",
          "2006-09-23T00:00:00",
          "2006-09-26T00:00:00",
          "2006-10-01T00:00:00",
          "2007-02-10T00:00:00",
          "2007-02-16T00:00:00",
          "2007-02-18T00:00:00",
          "2007-06-07T00:00:00",
          "2007-06-21T00:00:00",
          "2008-08-16T00:00:00",
          "2008-08-19T00:00:00",
          "2008-08-21T00:00:00",
          "2008-09-05T00:00:00",
          "2008-09-06T00:00:00",
          "2008-10-17T00:00:00",
          "2009-02-02T00:00:00",
          "2009-02-05T00:00:00",
          "2009-06-09T00:00:00",
          "2009-06-14T00:00:00",
          "2009-08-23T00:00:00",
          "2009-08-26T00:00:00",
          "2009-08-31T00:00:00",
          "2010-02-06T00:00:00",
          "2010-06-08T00:00:00",
          "2010-06-10T00:00:00",
          "2010-09-08T00:00:00",
          "2010-09-09T00:00:00",
          "2011-05-30T00:00:00",
          "2011-08-19T00:00:00",
          "2011-08-20T00:00:00",
          "2012-02-15T00:00:00",
          "2012-02-16T00:00:00",
          "2012-05-18T00:00:00",
          "2012-05-26T00:00:00",
          "2012-06-03T00:00:00",
          "2012-08-18T00:00:00",
          "2013-02-13T00:00:00",
          "2013-06-10T00:00:00",
          "2013-06-11T00:00:00",
          "2013-06-14T00:00:00",
          "2013-06-18T00:00:00",
          "2013-08-23T00:00:00",
          "2013-08-25T00:00:00",
          "2013-09-11T00:00:00",
          "2014-02-12T00:00:00",
          "2014-02-22T00:00:00",
          "2014-06-15T00:00:00",
          "2014-08-25T00:00:00",
          "2014-08-26T00:00:00",
          "2014-09-10T00:00:00",
          "2014-09-11T00:00:00",
          "2015-02-15T00:00:00",
          "2015-02-19T00:00:00",
          "2015-06-12T00:00:00",
          "2015-07-11T00:00:00",
          "2015-07-13T00:00:00",
          "2015-07-15T00:00:00",
          "2015-08-24T00:00:00",
          "2015-08-28T00:00:00",
          "2015-10-19T00:00:00",
          "2016-02-10T00:00:00",
          "2016-02-18T00:00:00",
          "2016-05-31T00:00:00",
          "2016-06-09T00:00:00",
          "2016-06-10T00:00:00",
          "2016-08-22T00:00:00",
          "2016-08-26T00:00:00",
          "2017-02-12T00:00:00",
          "2017-02-16T00:00:00",
          "2017-05-30T00:00:00",
          "2017-06-09T00:00:00",
          "2017-06-10T00:00:00",
          "2017-07-22T00:00:00",
          "2017-07-23T00:00:00",
          "2017-07-24T00:00:00",
          "2017-07-25T00:00:00",
          "2017-07-26T00:00:00",
          "2017-07-27T00:00:00",
          "2017-07-28T00:00:00",
          "2017-09-07T00:00:00",
          "2018-03-03T00:00:00",
          "2018-08-28T00:00:00",
          "2018-09-16T00:00:00",
          "2018-09-18T00:00:00",
          "2018-09-20T00:00:00",
          "2019-02-08T00:00:00",
          "2019-02-10T00:00:00",
          "2019-02-12T00:00:00",
          "2019-07-20T00:00:00",
          "2019-07-21T00:00:00",
          "2019-07-22T00:00:00",
          "2019-07-23T00:00:00",
          "2019-07-24T00:00:00",
          "2019-07-27T00:00:00",
          "2019-08-19T00:00:00",
          "2019-08-20T00:00:00",
          "2020-02-10T00:00:00",
          "2020-02-11T00:00:00",
          "2020-02-12T00:00:00",
          "2020-02-14T00:00:00",
          "2020-02-15T00:00:00",
          "2020-08-17T00:00:00",
          "2020-08-18T00:00:00",
          "2020-08-20T00:00:00"
         ],
         "xaxis": "x",
         "y": [
          17.425684,
          15.733402000000002,
          5.903126,
          4.078952,
          9.188519999999997,
          11.379199999999999,
          2.8430866666666663,
          6.166544000000001,
          50.707632,
          36.364812,
          8.214580000000002,
          10.469499999999996,
          22.427618000000002,
          123.64172400000001,
          2.9162200000000005,
          2.724724,
          6.394591999999999,
          10.442839999999999,
          8.228772,
          7.504964000000001,
          43.309128,
          43.942588,
          14.850876,
          20.069128,
          17.334006,
          29.361148,
          18.023226,
          16.366196,
          14.393116000000001,
          10.83702,
          7.141216,
          8.701976,
          19.940937,
          10.937248,
          4.3099359999999995,
          8.07041,
          41.688064000000004,
          12.026934000000004,
          4.777912,
          26.528328000000002,
          11.145840000000002,
          5.29504,
          7.451132000000001,
          16.390264,
          12.327728000000002,
          20.120168,
          34.168764,
          29.945054,
          41.37907200000001,
          42.57779200000001,
          58.472516,
          16.079108,
          14.831135999999999,
          14.868716,
          11.648093066666666,
          15.407938666666666,
          7.245644,
          9.918092000000001,
          34.092264,
          5.406263999999999,
          29.352432,
          8.248164000000001,
          9.935784,
          7.968064000000002,
          9.564498,
          13.842414999999999,
          9.937294000000001,
          10.25956,
          8.921092,
          3.4366480000000004,
          7.627116,
          13.35804,
          18.3315,
          33.256870000000006,
          26.436032000000004,
          37.305808,
          31.138452000000008,
          22.953940000000003,
          23.6519605,
          33.901416000000005,
          9.231852,
          20.986520000000002,
          6.2142800000000005,
          12.2879,
          2.0342960000000003,
          1.7196599999999997,
          17.015314000000004,
          7.450659999999999,
          13.2916,
          8.615091999999999,
          16.360152,
          26.954051999999997,
          14.818592000000002,
          17.618268,
          5.180768,
          23.838772000000006,
          27.700968000000003,
          13.578042,
          5.621664,
          5.854744,
          16.839516000000003,
          5.667267999999999,
          12.406780000000001,
          16.271604,
          5.545132000000001,
          9.725824000000001,
          7.843792,
          10.082,
          8.600224000000003,
          11.476751999999998,
          5.627008,
          18.10564,
          7.772691999999999,
          8.27766,
          8.576712,
          12.930955999999998,
          11.999952,
          22.552028000000004,
          12.275308000000003,
          14.871532,
          2.439196,
          7.605124,
          7.553700000000001,
          4.943296,
          5.0785160000000005,
          4.676896,
          4.428636,
          8.674871999999999,
          4.089356000000001,
          23.811128,
          19.388201000000002,
          35.080696,
          32.207640000000005,
          20.593720000000005,
          6.084928000000001,
          11.644352,
          2.6440319999999997,
          18.128995999999997,
          5.91377,
          24.407764,
          15.818324000000002,
          22.682332000000002,
          12.283148,
          14.667383999999998,
          5.153792000000001,
          16.403015999999997,
          27.04038,
          32.29084400000001,
          15.632968000000002,
          6.357728000000001,
          6.17774,
          4.59178,
          16.287272,
          5.438844,
          16.361820000000005,
          46.968908000000006,
          11.289439999999999,
          10.851455999999999,
          11.467464000000001,
          5.836996000000001,
          71.44078,
          16.286708000000004,
          14.858072000000002,
          9.274564000000002,
          18.577276,
          7.462696000000001,
          6.544003999999998,
          5.305544,
          59.625764000000004,
          12.532376000000001,
          8.707148000000002,
          7.608912000000003,
          9.095327999999999,
          6.306652000000001,
          8.928432,
          12.253643999999998,
          109.93142,
          8.834916000000002,
          21.949640000000002,
          12.844111999999999,
          19.892788000000003,
          9.286756,
          4.60374,
          17.870344,
          35.928696,
          25.752980000000004,
          14.897704000000003,
          19.129084000000002,
          34.13082000000001,
          2.6583120000000005,
          2.838952,
          25.128548000000002,
          8.529768000000002,
          12.427056,
          8.167770000000003,
          7.1329280000000015,
          9.875814,
          10.459792000000002,
          9.889914,
          18.35104,
          17.9856,
          4.334200000000001,
          6.847832,
          7.117943999999999,
          8.064540000000001,
          15.616516000000003,
          11.872928000000002,
          4.438512,
          2.4227040000000004,
          2.8246480000000003,
          8.00375,
          12.25514,
          7.696544000000002,
          22.504084,
          10.947956000000003,
          17.833888,
          6.246476,
          4.73698,
          5.789000000000001,
          3.4571040000000006,
          3.20472,
          3.3774040000000003,
          3.0646159999999996,
          15.392288,
          17.269468,
          19.936768
         ],
         "yaxis": "y"
        },
        {
         "hovertemplate": "variable=post-processed<br>time=%{x}<br>value=%{y}<extra></extra>",
         "legendgroup": "post-processed",
         "marker": {
          "color": "#EF553B",
          "opacity": 0.5,
          "symbol": "circle"
         },
         "mode": "lines+markers",
         "name": "post-processed",
         "orientation": "v",
         "showlegend": true,
         "type": "scatter",
         "x": [
          "1995-09-24T00:00:00",
          "1995-09-25T00:00:00",
          "1995-09-26T00:00:00",
          "1995-09-28T00:00:00",
          "1996-06-11T00:00:00",
          "1996-10-05T00:00:00",
          "1997-02-21T00:00:00",
          "1997-02-24T00:00:00",
          "1997-06-08T00:00:00",
          "1997-06-12T00:00:00",
          "1997-06-15T00:00:00",
          "1997-07-12T00:00:00",
          "1997-09-04T00:00:00",
          "1997-09-08T00:00:00",
          "1998-01-19T00:00:00",
          "1998-02-21T00:00:00",
          "1998-02-23T00:00:00",
          "1998-02-27T00:00:00",
          "1998-03-03T00:00:00",
          "1998-04-08T00:00:00",
          "1998-04-09T00:00:00",
          "1998-05-13T00:00:00",
          "1998-06-08T00:00:00",
          "1998-06-13T00:00:00",
          "1998-06-17T00:00:00",
          "1998-06-18T00:00:00",
          "1998-07-03T00:00:00",
          "1998-07-18T00:00:00",
          "1998-08-28T00:00:00",
          "1998-08-29T00:00:00",
          "1998-08-30T00:00:00",
          "1998-09-01T00:00:00",
          "1998-10-08T00:00:00",
          "1999-02-18T00:00:00",
          "1999-02-20T00:00:00",
          "1999-02-21T00:00:00",
          "1999-05-20T00:00:00",
          "1999-05-25T00:00:00",
          "1999-08-29T00:00:00",
          "1999-08-30T00:00:00",
          "1999-09-02T00:00:00",
          "1999-09-04T00:00:00",
          "1999-09-05T00:00:00",
          "1999-09-07T00:00:00",
          "1999-10-13T00:00:00",
          "2000-05-08T00:00:00",
          "2000-05-09T00:00:00",
          "2000-05-10T00:00:00",
          "2000-05-12T00:00:00",
          "2000-06-05T00:00:00",
          "2000-06-06T00:00:00",
          "2000-06-09T00:00:00",
          "2000-06-19T00:00:00",
          "2000-06-20T00:00:00",
          "2000-07-04T00:00:00",
          "2000-07-05T00:00:00",
          "2000-08-04T00:00:00",
          "2000-08-05T00:00:00",
          "2000-08-06T00:00:00",
          "2000-09-07T00:00:00",
          "2000-09-08T00:00:00",
          "2000-09-10T00:00:00",
          "2000-09-11T00:00:00",
          "2000-09-14T00:00:00",
          "2000-09-26T00:00:00",
          "2000-09-27T00:00:00",
          "2000-09-28T00:00:00",
          "2000-09-29T00:00:00",
          "2000-10-01T00:00:00",
          "2001-02-09T00:00:00",
          "2001-02-12T00:00:00",
          "2001-02-16T00:00:00",
          "2001-06-02T00:00:00",
          "2001-06-03T00:00:00",
          "2001-06-05T00:00:00",
          "2001-06-08T00:00:00",
          "2001-06-09T00:00:00",
          "2001-06-10T00:00:00",
          "2001-06-11T00:00:00",
          "2001-06-12T00:00:00",
          "2001-08-25T00:00:00",
          "2001-09-22T00:00:00",
          "2001-09-27T00:00:00",
          "2001-09-28T00:00:00",
          "2001-10-03T00:00:00",
          "2002-02-07T00:00:00",
          "2002-02-15T00:00:00",
          "2002-02-16T00:00:00",
          "2002-07-23T00:00:00",
          "2002-08-28T00:00:00",
          "2002-08-29T00:00:00",
          "2002-08-30T00:00:00",
          "2002-09-06T00:00:00",
          "2002-09-08T00:00:00",
          "2002-10-23T00:00:00",
          "2003-06-08T00:00:00",
          "2003-09-07T00:00:00",
          "2003-09-27T00:00:00",
          "2003-09-28T00:00:00",
          "2003-10-26T00:00:00",
          "2003-10-27T00:00:00",
          "2004-02-20T00:00:00",
          "2004-02-21T00:00:00",
          "2004-02-22T00:00:00",
          "2004-02-24T00:00:00",
          "2004-06-06T00:00:00",
          "2004-08-21T00:00:00",
          "2004-08-26T00:00:00",
          "2004-09-05T00:00:00",
          "2005-02-13T00:00:00",
          "2005-02-14T00:00:00",
          "2005-02-18T00:00:00",
          "2005-02-22T00:00:00",
          "2005-03-12T00:00:00",
          "2005-05-28T00:00:00",
          "2005-06-03T00:00:00",
          "2005-08-19T00:00:00",
          "2005-08-20T00:00:00",
          "2005-08-22T00:00:00",
          "2005-08-27T00:00:00",
          "2005-09-09T00:00:00",
          "2006-02-09T00:00:00",
          "2006-04-21T00:00:00",
          "2006-09-23T00:00:00",
          "2006-09-26T00:00:00",
          "2006-10-01T00:00:00",
          "2007-02-10T00:00:00",
          "2007-02-16T00:00:00",
          "2007-02-18T00:00:00",
          "2007-06-07T00:00:00",
          "2007-06-21T00:00:00",
          "2008-08-16T00:00:00",
          "2008-08-19T00:00:00",
          "2008-08-21T00:00:00",
          "2008-09-05T00:00:00",
          "2008-09-06T00:00:00",
          "2008-10-17T00:00:00",
          "2009-02-02T00:00:00",
          "2009-02-05T00:00:00",
          "2009-06-09T00:00:00",
          "2009-06-14T00:00:00",
          "2009-08-23T00:00:00",
          "2009-08-26T00:00:00",
          "2009-08-31T00:00:00",
          "2010-02-06T00:00:00",
          "2010-06-08T00:00:00",
          "2010-06-10T00:00:00",
          "2010-09-08T00:00:00",
          "2010-09-09T00:00:00",
          "2011-05-30T00:00:00",
          "2011-08-19T00:00:00",
          "2011-08-20T00:00:00",
          "2012-02-15T00:00:00",
          "2012-02-16T00:00:00",
          "2012-05-18T00:00:00",
          "2012-05-26T00:00:00",
          "2012-06-03T00:00:00",
          "2012-08-18T00:00:00",
          "2013-02-13T00:00:00",
          "2013-06-10T00:00:00",
          "2013-06-11T00:00:00",
          "2013-06-14T00:00:00",
          "2013-06-18T00:00:00",
          "2013-08-23T00:00:00",
          "2013-08-25T00:00:00",
          "2013-09-11T00:00:00",
          "2014-02-12T00:00:00",
          "2014-02-22T00:00:00",
          "2014-06-15T00:00:00",
          "2014-08-25T00:00:00",
          "2014-08-26T00:00:00",
          "2014-09-10T00:00:00",
          "2014-09-11T00:00:00",
          "2015-02-15T00:00:00",
          "2015-02-19T00:00:00",
          "2015-06-12T00:00:00",
          "2015-07-11T00:00:00",
          "2015-07-13T00:00:00",
          "2015-07-15T00:00:00",
          "2015-08-24T00:00:00",
          "2015-08-28T00:00:00",
          "2015-10-19T00:00:00",
          "2016-02-10T00:00:00",
          "2016-02-18T00:00:00",
          "2016-05-31T00:00:00",
          "2016-06-09T00:00:00",
          "2016-06-10T00:00:00",
          "2016-08-22T00:00:00",
          "2016-08-26T00:00:00",
          "2017-02-12T00:00:00",
          "2017-02-16T00:00:00",
          "2017-05-30T00:00:00",
          "2017-06-09T00:00:00",
          "2017-06-10T00:00:00",
          "2017-07-22T00:00:00",
          "2017-07-23T00:00:00",
          "2017-07-24T00:00:00",
          "2017-07-25T00:00:00",
          "2017-07-26T00:00:00",
          "2017-07-27T00:00:00",
          "2017-07-28T00:00:00",
          "2017-09-07T00:00:00",
          "2018-03-03T00:00:00",
          "2018-08-28T00:00:00",
          "2018-09-16T00:00:00",
          "2018-09-18T00:00:00",
          "2018-09-20T00:00:00",
          "2019-02-08T00:00:00",
          "2019-02-10T00:00:00",
          "2019-02-12T00:00:00",
          "2019-07-20T00:00:00",
          "2019-07-21T00:00:00",
          "2019-07-22T00:00:00",
          "2019-07-23T00:00:00",
          "2019-07-24T00:00:00",
          "2019-07-27T00:00:00",
          "2019-08-19T00:00:00",
          "2019-08-20T00:00:00",
          "2020-02-10T00:00:00",
          "2020-02-11T00:00:00",
          "2020-02-12T00:00:00",
          "2020-02-14T00:00:00",
          "2020-02-15T00:00:00",
          "2020-08-17T00:00:00",
          "2020-08-18T00:00:00",
          "2020-08-20T00:00:00"
         ],
         "xaxis": "x",
         "y": [
          17.425684,
          15.733402000000002,
          5.903126,
          4.078952,
          9.188519999999997,
          11.379199999999999,
          2.8430866666666663,
          6.166544000000001,
          null,
          null,
          8.214580000000002,
          10.469499999999996,
          22.427618000000002,
          null,
          2.9162200000000005,
          2.724724,
          6.394591999999999,
          10.442839999999999,
          8.228772,
          7.504964000000001,
          null,
          null,
          14.850876,
          20.069128,
          17.334006,
          19.025128,
          18.023226,
          16.366196,
          14.393116000000001,
          10.83702,
          7.141216,
          8.701976,
          19.940937,
          10.937248,
          4.3099359999999995,
          8.07041,
          null,
          12.026934000000004,
          4.777912,
          26.528328000000002,
          11.145840000000002,
          5.29504,
          7.451132000000001,
          16.390264,
          12.327728000000002,
          20.120168,
          34.168764,
          29.945054,
          null,
          null,
          null,
          16.079108,
          14.831135999999999,
          14.868716,
          11.648093066666666,
          15.407938666666666,
          7.245644,
          9.918092000000001,
          34.092264,
          5.406263999999999,
          29.352432,
          8.248164000000001,
          9.935784,
          7.968064000000002,
          9.564498,
          13.842414999999999,
          9.937294000000001,
          10.25956,
          8.921092,
          3.4366480000000004,
          7.627116,
          13.35804,
          18.3315,
          33.256870000000006,
          26.436032000000004,
          null,
          31.138452000000008,
          22.953940000000003,
          23.6519605,
          33.901416000000005,
          9.231852,
          20.986520000000002,
          6.2142800000000005,
          12.2879,
          2.0342960000000003,
          1.7196599999999997,
          17.015314000000004,
          7.450659999999999,
          13.2916,
          8.615091999999999,
          16.360152,
          26.954051999999997,
          14.818592000000002,
          17.618268,
          5.180768,
          23.838772000000006,
          27.700968000000003,
          13.578042,
          5.621664,
          5.854744,
          16.839516000000003,
          5.667267999999999,
          12.406780000000001,
          16.271604,
          5.545132000000001,
          9.725824000000001,
          7.843792,
          10.082,
          8.600224000000003,
          11.476751999999998,
          5.627008,
          18.10564,
          7.772691999999999,
          8.27766,
          8.576712,
          12.930955999999998,
          11.999952,
          22.552028000000004,
          12.275308000000003,
          14.871532,
          2.439196,
          7.605124,
          7.553700000000001,
          4.943296,
          5.0785160000000005,
          4.676896,
          4.428636,
          8.674871999999999,
          4.089356000000001,
          23.811128,
          19.388201000000002,
          35.080696,
          32.207640000000005,
          20.593720000000005,
          6.084928000000001,
          11.644352,
          2.6440319999999997,
          18.128995999999997,
          5.91377,
          24.407764,
          15.818324000000002,
          22.682332000000002,
          12.283148,
          14.667383999999998,
          5.153792000000001,
          16.403015999999997,
          27.04038,
          32.29084400000001,
          15.632968000000002,
          6.357728000000001,
          6.17774,
          4.59178,
          16.287272,
          5.438844,
          16.361820000000005,
          null,
          11.289439999999999,
          10.851455999999999,
          11.467464000000001,
          5.836996000000001,
          null,
          16.286708000000004,
          14.858072000000002,
          9.274564000000002,
          18.577276,
          7.462696000000001,
          6.544003999999998,
          5.305544,
          null,
          12.532376000000001,
          8.707148000000002,
          7.608912000000003,
          9.095327999999999,
          6.306652000000001,
          8.928432,
          12.253643999999998,
          null,
          8.834916000000002,
          21.949640000000002,
          12.844111999999999,
          19.892788000000003,
          9.286756,
          4.60374,
          17.870344,
          null,
          25.752980000000004,
          14.897704000000003,
          19.129084000000002,
          34.13082000000001,
          2.6583120000000005,
          2.838952,
          25.128548000000002,
          8.529768000000002,
          12.427056,
          8.167770000000003,
          7.1329280000000015,
          9.875814,
          10.459792000000002,
          9.889914,
          18.35104,
          17.9856,
          4.334200000000001,
          6.847832,
          7.117943999999999,
          8.064540000000001,
          15.616516000000003,
          11.872928000000002,
          4.438512,
          2.4227040000000004,
          2.8246480000000003,
          8.00375,
          12.25514,
          7.696544000000002,
          22.504084,
          10.947956000000003,
          17.833888,
          6.246476,
          4.73698,
          5.789000000000001,
          3.4571040000000006,
          3.20472,
          3.3774040000000003,
          3.0646159999999996,
          15.392288,
          17.269468,
          19.936768
         ],
         "yaxis": "y"
        }
       ],
       "layout": {
        "legend": {
         "title": {
          "text": "variable"
         },
         "tracegroupgap": 0
        },
        "template": {
         "data": {
          "bar": [
           {
            "error_x": {
             "color": "#2a3f5f"
            },
            "error_y": {
             "color": "#2a3f5f"
            },
            "marker": {
             "line": {
              "color": "#E5ECF6",
              "width": 0.5
             },
             "pattern": {
              "fillmode": "overlay",
              "size": 10,
              "solidity": 0.2
             }
            },
            "type": "bar"
           }
          ],
          "barpolar": [
           {
            "marker": {
             "line": {
              "color": "#E5ECF6",
              "width": 0.5
             },
             "pattern": {
              "fillmode": "overlay",
              "size": 10,
              "solidity": 0.2
             }
            },
            "type": "barpolar"
           }
          ],
          "carpet": [
           {
            "aaxis": {
             "endlinecolor": "#2a3f5f",
             "gridcolor": "white",
             "linecolor": "white",
             "minorgridcolor": "white",
             "startlinecolor": "#2a3f5f"
            },
            "baxis": {
             "endlinecolor": "#2a3f5f",
             "gridcolor": "white",
             "linecolor": "white",
             "minorgridcolor": "white",
             "startlinecolor": "#2a3f5f"
            },
            "type": "carpet"
           }
          ],
          "choropleth": [
           {
            "colorbar": {
             "outlinewidth": 0,
             "ticks": ""
            },
            "type": "choropleth"
           }
          ],
          "contour": [
           {
            "colorbar": {
             "outlinewidth": 0,
             "ticks": ""
            },
            "colorscale": [
             [
              0,
              "#0d0887"
             ],
             [
              0.1111111111111111,
              "#46039f"
             ],
             [
              0.2222222222222222,
              "#7201a8"
             ],
             [
              0.3333333333333333,
              "#9c179e"
             ],
             [
              0.4444444444444444,
              "#bd3786"
             ],
             [
              0.5555555555555556,
              "#d8576b"
             ],
             [
              0.6666666666666666,
              "#ed7953"
             ],
             [
              0.7777777777777778,
              "#fb9f3a"
             ],
             [
              0.8888888888888888,
              "#fdca26"
             ],
             [
              1,
              "#f0f921"
             ]
            ],
            "type": "contour"
           }
          ],
          "contourcarpet": [
           {
            "colorbar": {
             "outlinewidth": 0,
             "ticks": ""
            },
            "type": "contourcarpet"
           }
          ],
          "heatmap": [
           {
            "colorbar": {
             "outlinewidth": 0,
             "ticks": ""
            },
            "colorscale": [
             [
              0,
              "#0d0887"
             ],
             [
              0.1111111111111111,
              "#46039f"
             ],
             [
              0.2222222222222222,
              "#7201a8"
             ],
             [
              0.3333333333333333,
              "#9c179e"
             ],
             [
              0.4444444444444444,
              "#bd3786"
             ],
             [
              0.5555555555555556,
              "#d8576b"
             ],
             [
              0.6666666666666666,
              "#ed7953"
             ],
             [
              0.7777777777777778,
              "#fb9f3a"
             ],
             [
              0.8888888888888888,
              "#fdca26"
             ],
             [
              1,
              "#f0f921"
             ]
            ],
            "type": "heatmap"
           }
          ],
          "heatmapgl": [
           {
            "colorbar": {
             "outlinewidth": 0,
             "ticks": ""
            },
            "colorscale": [
             [
              0,
              "#0d0887"
             ],
             [
              0.1111111111111111,
              "#46039f"
             ],
             [
              0.2222222222222222,
              "#7201a8"
             ],
             [
              0.3333333333333333,
              "#9c179e"
             ],
             [
              0.4444444444444444,
              "#bd3786"
             ],
             [
              0.5555555555555556,
              "#d8576b"
             ],
             [
              0.6666666666666666,
              "#ed7953"
             ],
             [
              0.7777777777777778,
              "#fb9f3a"
             ],
             [
              0.8888888888888888,
              "#fdca26"
             ],
             [
              1,
              "#f0f921"
             ]
            ],
            "type": "heatmapgl"
           }
          ],
          "histogram": [
           {
            "marker": {
             "pattern": {
              "fillmode": "overlay",
              "size": 10,
              "solidity": 0.2
             }
            },
            "type": "histogram"
           }
          ],
          "histogram2d": [
           {
            "colorbar": {
             "outlinewidth": 0,
             "ticks": ""
            },
            "colorscale": [
             [
              0,
              "#0d0887"
             ],
             [
              0.1111111111111111,
              "#46039f"
             ],
             [
              0.2222222222222222,
              "#7201a8"
             ],
             [
              0.3333333333333333,
              "#9c179e"
             ],
             [
              0.4444444444444444,
              "#bd3786"
             ],
             [
              0.5555555555555556,
              "#d8576b"
             ],
             [
              0.6666666666666666,
              "#ed7953"
             ],
             [
              0.7777777777777778,
              "#fb9f3a"
             ],
             [
              0.8888888888888888,
              "#fdca26"
             ],
             [
              1,
              "#f0f921"
             ]
            ],
            "type": "histogram2d"
           }
          ],
          "histogram2dcontour": [
           {
            "colorbar": {
             "outlinewidth": 0,
             "ticks": ""
            },
            "colorscale": [
             [
              0,
              "#0d0887"
             ],
             [
              0.1111111111111111,
              "#46039f"
             ],
             [
              0.2222222222222222,
              "#7201a8"
             ],
             [
              0.3333333333333333,
              "#9c179e"
             ],
             [
              0.4444444444444444,
              "#bd3786"
             ],
             [
              0.5555555555555556,
              "#d8576b"
             ],
             [
              0.6666666666666666,
              "#ed7953"
             ],
             [
              0.7777777777777778,
              "#fb9f3a"
             ],
             [
              0.8888888888888888,
              "#fdca26"
             ],
             [
              1,
              "#f0f921"
             ]
            ],
            "type": "histogram2dcontour"
           }
          ],
          "mesh3d": [
           {
            "colorbar": {
             "outlinewidth": 0,
             "ticks": ""
            },
            "type": "mesh3d"
           }
          ],
          "parcoords": [
           {
            "line": {
             "colorbar": {
              "outlinewidth": 0,
              "ticks": ""
             }
            },
            "type": "parcoords"
           }
          ],
          "pie": [
           {
            "automargin": true,
            "type": "pie"
           }
          ],
          "scatter": [
           {
            "fillpattern": {
             "fillmode": "overlay",
             "size": 10,
             "solidity": 0.2
            },
            "type": "scatter"
           }
          ],
          "scatter3d": [
           {
            "line": {
             "colorbar": {
              "outlinewidth": 0,
              "ticks": ""
             }
            },
            "marker": {
             "colorbar": {
              "outlinewidth": 0,
              "ticks": ""
             }
            },
            "type": "scatter3d"
           }
          ],
          "scattercarpet": [
           {
            "marker": {
             "colorbar": {
              "outlinewidth": 0,
              "ticks": ""
             }
            },
            "type": "scattercarpet"
           }
          ],
          "scattergeo": [
           {
            "marker": {
             "colorbar": {
              "outlinewidth": 0,
              "ticks": ""
             }
            },
            "type": "scattergeo"
           }
          ],
          "scattergl": [
           {
            "marker": {
             "colorbar": {
              "outlinewidth": 0,
              "ticks": ""
             }
            },
            "type": "scattergl"
           }
          ],
          "scattermapbox": [
           {
            "marker": {
             "colorbar": {
              "outlinewidth": 0,
              "ticks": ""
             }
            },
            "type": "scattermapbox"
           }
          ],
          "scatterpolar": [
           {
            "marker": {
             "colorbar": {
              "outlinewidth": 0,
              "ticks": ""
             }
            },
            "type": "scatterpolar"
           }
          ],
          "scatterpolargl": [
           {
            "marker": {
             "colorbar": {
              "outlinewidth": 0,
              "ticks": ""
             }
            },
            "type": "scatterpolargl"
           }
          ],
          "scatterternary": [
           {
            "marker": {
             "colorbar": {
              "outlinewidth": 0,
              "ticks": ""
             }
            },
            "type": "scatterternary"
           }
          ],
          "surface": [
           {
            "colorbar": {
             "outlinewidth": 0,
             "ticks": ""
            },
            "colorscale": [
             [
              0,
              "#0d0887"
             ],
             [
              0.1111111111111111,
              "#46039f"
             ],
             [
              0.2222222222222222,
              "#7201a8"
             ],
             [
              0.3333333333333333,
              "#9c179e"
             ],
             [
              0.4444444444444444,
              "#bd3786"
             ],
             [
              0.5555555555555556,
              "#d8576b"
             ],
             [
              0.6666666666666666,
              "#ed7953"
             ],
             [
              0.7777777777777778,
              "#fb9f3a"
             ],
             [
              0.8888888888888888,
              "#fdca26"
             ],
             [
              1,
              "#f0f921"
             ]
            ],
            "type": "surface"
           }
          ],
          "table": [
           {
            "cells": {
             "fill": {
              "color": "#EBF0F8"
             },
             "line": {
              "color": "white"
             }
            },
            "header": {
             "fill": {
              "color": "#C8D4E3"
             },
             "line": {
              "color": "white"
             }
            },
            "type": "table"
           }
          ]
         },
         "layout": {
          "annotationdefaults": {
           "arrowcolor": "#2a3f5f",
           "arrowhead": 0,
           "arrowwidth": 1
          },
          "autotypenumbers": "strict",
          "coloraxis": {
           "colorbar": {
            "outlinewidth": 0,
            "ticks": ""
           }
          },
          "colorscale": {
           "diverging": [
            [
             0,
             "#8e0152"
            ],
            [
             0.1,
             "#c51b7d"
            ],
            [
             0.2,
             "#de77ae"
            ],
            [
             0.3,
             "#f1b6da"
            ],
            [
             0.4,
             "#fde0ef"
            ],
            [
             0.5,
             "#f7f7f7"
            ],
            [
             0.6,
             "#e6f5d0"
            ],
            [
             0.7,
             "#b8e186"
            ],
            [
             0.8,
             "#7fbc41"
            ],
            [
             0.9,
             "#4d9221"
            ],
            [
             1,
             "#276419"
            ]
           ],
           "sequential": [
            [
             0,
             "#0d0887"
            ],
            [
             0.1111111111111111,
             "#46039f"
            ],
            [
             0.2222222222222222,
             "#7201a8"
            ],
            [
             0.3333333333333333,
             "#9c179e"
            ],
            [
             0.4444444444444444,
             "#bd3786"
            ],
            [
             0.5555555555555556,
             "#d8576b"
            ],
            [
             0.6666666666666666,
             "#ed7953"
            ],
            [
             0.7777777777777778,
             "#fb9f3a"
            ],
            [
             0.8888888888888888,
             "#fdca26"
            ],
            [
             1,
             "#f0f921"
            ]
           ],
           "sequentialminus": [
            [
             0,
             "#0d0887"
            ],
            [
             0.1111111111111111,
             "#46039f"
            ],
            [
             0.2222222222222222,
             "#7201a8"
            ],
            [
             0.3333333333333333,
             "#9c179e"
            ],
            [
             0.4444444444444444,
             "#bd3786"
            ],
            [
             0.5555555555555556,
             "#d8576b"
            ],
            [
             0.6666666666666666,
             "#ed7953"
            ],
            [
             0.7777777777777778,
             "#fb9f3a"
            ],
            [
             0.8888888888888888,
             "#fdca26"
            ],
            [
             1,
             "#f0f921"
            ]
           ]
          },
          "colorway": [
           "#636efa",
           "#EF553B",
           "#00cc96",
           "#ab63fa",
           "#FFA15A",
           "#19d3f3",
           "#FF6692",
           "#B6E880",
           "#FF97FF",
           "#FECB52"
          ],
          "font": {
           "color": "#2a3f5f"
          },
          "geo": {
           "bgcolor": "white",
           "lakecolor": "white",
           "landcolor": "#E5ECF6",
           "showlakes": true,
           "showland": true,
           "subunitcolor": "white"
          },
          "hoverlabel": {
           "align": "left"
          },
          "hovermode": "closest",
          "mapbox": {
           "style": "light"
          },
          "paper_bgcolor": "white",
          "plot_bgcolor": "#E5ECF6",
          "polar": {
           "angularaxis": {
            "gridcolor": "white",
            "linecolor": "white",
            "ticks": ""
           },
           "bgcolor": "#E5ECF6",
           "radialaxis": {
            "gridcolor": "white",
            "linecolor": "white",
            "ticks": ""
           }
          },
          "scene": {
           "xaxis": {
            "backgroundcolor": "#E5ECF6",
            "gridcolor": "white",
            "gridwidth": 2,
            "linecolor": "white",
            "showbackground": true,
            "ticks": "",
            "zerolinecolor": "white"
           },
           "yaxis": {
            "backgroundcolor": "#E5ECF6",
            "gridcolor": "white",
            "gridwidth": 2,
            "linecolor": "white",
            "showbackground": true,
            "ticks": "",
            "zerolinecolor": "white"
           },
           "zaxis": {
            "backgroundcolor": "#E5ECF6",
            "gridcolor": "white",
            "gridwidth": 2,
            "linecolor": "white",
            "showbackground": true,
            "ticks": "",
            "zerolinecolor": "white"
           }
          },
          "shapedefaults": {
           "line": {
            "color": "#2a3f5f"
           }
          },
          "ternary": {
           "aaxis": {
            "gridcolor": "white",
            "linecolor": "white",
            "ticks": ""
           },
           "baxis": {
            "gridcolor": "white",
            "linecolor": "white",
            "ticks": ""
           },
           "bgcolor": "#E5ECF6",
           "caxis": {
            "gridcolor": "white",
            "linecolor": "white",
            "ticks": ""
           }
          },
          "title": {
           "x": 0.05
          },
          "xaxis": {
           "automargin": true,
           "gridcolor": "white",
           "linecolor": "white",
           "ticks": "",
           "title": {
            "standoff": 15
           },
           "zerolinecolor": "white",
           "zerolinewidth": 2
          },
          "yaxis": {
           "automargin": true,
           "gridcolor": "white",
           "linecolor": "white",
           "ticks": "",
           "title": {
            "standoff": 15
           },
           "zerolinecolor": "white",
           "zerolinewidth": 2
          }
         }
        },
        "title": {
         "text": "Day observations"
        },
        "xaxis": {
         "anchor": "y",
         "domain": [
          0,
          1
         ],
         "title": {
          "text": "time"
         }
        },
        "yaxis": {
         "anchor": "x",
         "domain": [
          0,
          1
         ],
         "title": {
          "text": "value"
         }
        }
       }
      }
     },
     "metadata": {},
     "output_type": "display_data"
    }
   ],
   "source": [
    "pd.DataFrame(\n",
    "    {\n",
    "        \"original\": data.night.mean([\"latitude\", \"longitude\", \"layer\"]).dropna(\"time\").to_series(),\n",
    "        \"post-processed\": new_data.night.mean([\"latitude\", \"longitude\", \"layer\"]).dropna(\"time\").to_series(),\n",
    "    }\n",
    ").plot(title=\"Day observations\", kind=\"scatter\", opacity=0.5).update_traces(mode=\"lines+markers\")"
   ]
  },
  {
   "cell_type": "code",
   "execution_count": 14,
   "metadata": {},
   "outputs": [
    {
     "data": {
      "application/vnd.plotly.v1+json": {
       "config": {
        "plotlyServerURL": "https://plot.ly"
       },
       "data": [
        {
         "hovertemplate": "longitude=%{x}<br>latitude=%{y}<br>original=%{z}<extra></extra>",
         "legendgroup": "",
         "marker": {
          "color": "#636efa",
          "size": 0,
          "symbol": "circle"
         },
         "mode": "markers",
         "name": "",
         "scene": "scene",
         "showlegend": false,
         "type": "scatter3d",
         "x": [
          -151.5,
          -150.5,
          -146.5,
          -145.5,
          -144.5,
          -142.5,
          -140.5,
          -139.5,
          -138.5,
          -137.5,
          -136.5,
          -135.5,
          -134.5,
          -133.5,
          -132.5,
          -131.5,
          -130.5,
          -129.5,
          -128.5,
          -151.5,
          -150.5,
          -146.5,
          -145.5,
          -144.5,
          -142.5,
          -140.5,
          -139.5,
          -138.5,
          -137.5,
          -136.5,
          -135.5,
          -134.5,
          -133.5,
          -132.5,
          -131.5,
          -130.5,
          -129.5,
          -128.5,
          -151.5,
          -150.5,
          -146.5,
          -145.5,
          -144.5,
          -142.5,
          -140.5,
          -139.5,
          -138.5,
          -137.5,
          -136.5,
          -135.5,
          -134.5,
          -133.5,
          -132.5,
          -131.5,
          -130.5,
          -129.5,
          -128.5,
          -151.5,
          -150.5,
          -146.5,
          -145.5,
          -144.5,
          -142.5,
          -140.5,
          -139.5,
          -138.5,
          -137.5,
          -136.5,
          -135.5,
          -134.5,
          -133.5,
          -132.5,
          -131.5,
          -130.5,
          -129.5,
          -128.5,
          -151.5,
          -150.5,
          -146.5,
          -145.5,
          -144.5,
          -142.5,
          -140.5,
          -139.5,
          -138.5,
          -137.5,
          -136.5,
          -135.5,
          -134.5,
          -133.5,
          -132.5,
          -131.5,
          -130.5,
          -129.5,
          -128.5,
          -151.5,
          -150.5,
          -146.5,
          -145.5,
          -144.5,
          -142.5,
          -140.5,
          -139.5,
          -138.5,
          -137.5,
          -136.5,
          -135.5,
          -134.5,
          -133.5,
          -132.5,
          -131.5,
          -130.5,
          -129.5,
          -128.5,
          -151.5,
          -150.5,
          -146.5,
          -145.5,
          -144.5,
          -142.5,
          -140.5,
          -139.5,
          -138.5,
          -137.5,
          -136.5,
          -135.5,
          -134.5,
          -133.5,
          -132.5,
          -131.5,
          -130.5,
          -129.5,
          -128.5,
          -151.5,
          -150.5,
          -146.5,
          -145.5,
          -144.5,
          -142.5,
          -140.5,
          -139.5,
          -138.5,
          -137.5,
          -136.5,
          -135.5,
          -134.5,
          -133.5,
          -132.5,
          -131.5,
          -130.5,
          -129.5,
          -128.5,
          -151.5,
          -150.5,
          -146.5,
          -145.5,
          -144.5,
          -142.5,
          -140.5,
          -139.5,
          -138.5,
          -137.5,
          -136.5,
          -135.5,
          -134.5,
          -133.5,
          -132.5,
          -131.5,
          -130.5,
          -129.5,
          -128.5,
          -151.5,
          -150.5,
          -146.5,
          -145.5,
          -144.5,
          -142.5,
          -140.5,
          -139.5,
          -138.5,
          -137.5,
          -136.5,
          -135.5,
          -134.5,
          -133.5,
          -132.5,
          -131.5,
          -130.5,
          -129.5,
          -128.5,
          -151.5,
          -150.5,
          -146.5,
          -145.5,
          -144.5,
          -142.5,
          -140.5,
          -139.5,
          -138.5,
          -137.5,
          -136.5,
          -135.5,
          -134.5,
          -133.5,
          -132.5,
          -131.5,
          -130.5,
          -129.5,
          -128.5,
          -151.5,
          -150.5,
          -146.5,
          -145.5,
          -144.5,
          -142.5,
          -140.5,
          -139.5,
          -138.5,
          -137.5,
          -136.5,
          -135.5,
          -134.5,
          -133.5,
          -132.5,
          -131.5,
          -130.5,
          -129.5,
          -128.5
         ],
         "y": [
          46.5,
          46.5,
          46.5,
          46.5,
          46.5,
          46.5,
          46.5,
          46.5,
          46.5,
          46.5,
          46.5,
          46.5,
          46.5,
          46.5,
          46.5,
          46.5,
          46.5,
          46.5,
          46.5,
          47.5,
          47.5,
          47.5,
          47.5,
          47.5,
          47.5,
          47.5,
          47.5,
          47.5,
          47.5,
          47.5,
          47.5,
          47.5,
          47.5,
          47.5,
          47.5,
          47.5,
          47.5,
          47.5,
          48.5,
          48.5,
          48.5,
          48.5,
          48.5,
          48.5,
          48.5,
          48.5,
          48.5,
          48.5,
          48.5,
          48.5,
          48.5,
          48.5,
          48.5,
          48.5,
          48.5,
          48.5,
          48.5,
          49.5,
          49.5,
          49.5,
          49.5,
          49.5,
          49.5,
          49.5,
          49.5,
          49.5,
          49.5,
          49.5,
          49.5,
          49.5,
          49.5,
          49.5,
          49.5,
          49.5,
          49.5,
          49.5,
          50.5,
          50.5,
          50.5,
          50.5,
          50.5,
          50.5,
          50.5,
          50.5,
          50.5,
          50.5,
          50.5,
          50.5,
          50.5,
          50.5,
          50.5,
          50.5,
          50.5,
          50.5,
          50.5,
          51.5,
          51.5,
          51.5,
          51.5,
          51.5,
          51.5,
          51.5,
          51.5,
          51.5,
          51.5,
          51.5,
          51.5,
          51.5,
          51.5,
          51.5,
          51.5,
          51.5,
          51.5,
          51.5,
          52.5,
          52.5,
          52.5,
          52.5,
          52.5,
          52.5,
          52.5,
          52.5,
          52.5,
          52.5,
          52.5,
          52.5,
          52.5,
          52.5,
          52.5,
          52.5,
          52.5,
          52.5,
          52.5,
          53.5,
          53.5,
          53.5,
          53.5,
          53.5,
          53.5,
          53.5,
          53.5,
          53.5,
          53.5,
          53.5,
          53.5,
          53.5,
          53.5,
          53.5,
          53.5,
          53.5,
          53.5,
          53.5,
          54.5,
          54.5,
          54.5,
          54.5,
          54.5,
          54.5,
          54.5,
          54.5,
          54.5,
          54.5,
          54.5,
          54.5,
          54.5,
          54.5,
          54.5,
          54.5,
          54.5,
          54.5,
          54.5,
          55.5,
          55.5,
          55.5,
          55.5,
          55.5,
          55.5,
          55.5,
          55.5,
          55.5,
          55.5,
          55.5,
          55.5,
          55.5,
          55.5,
          55.5,
          55.5,
          55.5,
          55.5,
          55.5,
          56.5,
          56.5,
          56.5,
          56.5,
          56.5,
          56.5,
          56.5,
          56.5,
          56.5,
          56.5,
          56.5,
          56.5,
          56.5,
          56.5,
          56.5,
          56.5,
          56.5,
          56.5,
          56.5,
          57.5,
          57.5,
          57.5,
          57.5,
          57.5,
          57.5,
          57.5,
          57.5,
          57.5,
          57.5,
          57.5,
          57.5,
          57.5,
          57.5,
          57.5,
          57.5,
          57.5,
          57.5,
          57.5
         ],
         "z": [
          7.815195999999999,
          null,
          null,
          null,
          7.450659999999999,
          null,
          null,
          null,
          null,
          null,
          null,
          null,
          null,
          null,
          null,
          null,
          null,
          null,
          null,
          null,
          null,
          null,
          null,
          73.034671,
          null,
          null,
          null,
          null,
          10.99454,
          null,
          5.146280000000001,
          null,
          null,
          7.772691999999999,
          null,
          null,
          null,
          null,
          null,
          null,
          null,
          null,
          null,
          null,
          null,
          null,
          null,
          null,
          null,
          null,
          null,
          null,
          null,
          10.947956000000003,
          16.686565440000003,
          35.028534666666665,
          8.757759157894734,
          null,
          26.215432000000007,
          null,
          11.737270904761905,
          19.786028800000004,
          3.0646159999999996,
          12.275308000000003,
          null,
          18.262387826086957,
          null,
          null,
          null,
          12.641015520000002,
          null,
          9.1052436,
          12.25514,
          13.316160000000002,
          null,
          11.168161846153847,
          null,
          null,
          23.838772000000006,
          13.290441000000001,
          11.144708,
          null,
          null,
          null,
          null,
          null,
          null,
          4.089356000000001,
          null,
          18.3315,
          null,
          17.9856,
          17.555038000000003,
          16.409508750000004,
          null,
          null,
          null,
          null,
          null,
          null,
          null,
          null,
          null,
          null,
          null,
          12.760332000000002,
          null,
          null,
          28.163889000000005,
          23.709712000000003,
          null,
          8.20235,
          null,
          null,
          null,
          null,
          null,
          4.676896,
          5.29504,
          null,
          14.871532,
          null,
          12.2879,
          37.305808,
          12.384271333333333,
          14.831135999999999,
          null,
          8.27766,
          null,
          null,
          null,
          null,
          null,
          null,
          null,
          null,
          null,
          null,
          null,
          null,
          13.35804,
          null,
          null,
          18.825149,
          33.982518,
          null,
          null,
          null,
          null,
          null,
          null,
          null,
          null,
          null,
          null,
          null,
          null,
          null,
          null,
          null,
          21.847229600000002,
          33.901416000000005,
          9.834396000000002,
          14.868716,
          39.697168000000005,
          null,
          null,
          null,
          null,
          null,
          null,
          null,
          null,
          null,
          16.014192666666666,
          7.451132000000001,
          null,
          null,
          null,
          25.043830500000002,
          null,
          null,
          8.999564666666668,
          null,
          null,
          null,
          null,
          null,
          null,
          null,
          null,
          null,
          null,
          10.469499999999996,
          11.648093066666666,
          null,
          null,
          null,
          17.475656,
          null,
          null,
          null,
          null,
          null,
          null,
          null,
          null,
          null,
          null,
          null,
          null,
          16.390264,
          null,
          19.025128,
          null,
          null,
          27.199008,
          2.151444,
          null,
          null,
          null,
          null,
          null,
          null,
          null,
          null,
          null,
          null
         ]
        },
        {
         "marker": {
          "size": 0
         },
         "mode": "markers",
         "name": "post-processed",
         "type": "scatter3d",
         "x": [
          -151.5,
          -150.5,
          -146.5,
          -145.5,
          -144.5,
          -142.5,
          -140.5,
          -139.5,
          -138.5,
          -137.5,
          -136.5,
          -135.5,
          -134.5,
          -133.5,
          -132.5,
          -131.5,
          -130.5,
          -129.5,
          -128.5,
          -151.5,
          -150.5,
          -146.5,
          -145.5,
          -144.5,
          -142.5,
          -140.5,
          -139.5,
          -138.5,
          -137.5,
          -136.5,
          -135.5,
          -134.5,
          -133.5,
          -132.5,
          -131.5,
          -130.5,
          -129.5,
          -128.5,
          -151.5,
          -150.5,
          -146.5,
          -145.5,
          -144.5,
          -142.5,
          -140.5,
          -139.5,
          -138.5,
          -137.5,
          -136.5,
          -135.5,
          -134.5,
          -133.5,
          -132.5,
          -131.5,
          -130.5,
          -129.5,
          -128.5,
          -151.5,
          -150.5,
          -146.5,
          -145.5,
          -144.5,
          -142.5,
          -140.5,
          -139.5,
          -138.5,
          -137.5,
          -136.5,
          -135.5,
          -134.5,
          -133.5,
          -132.5,
          -131.5,
          -130.5,
          -129.5,
          -128.5,
          -151.5,
          -150.5,
          -146.5,
          -145.5,
          -144.5,
          -142.5,
          -140.5,
          -139.5,
          -138.5,
          -137.5,
          -136.5,
          -135.5,
          -134.5,
          -133.5,
          -132.5,
          -131.5,
          -130.5,
          -129.5,
          -128.5,
          -151.5,
          -150.5,
          -146.5,
          -145.5,
          -144.5,
          -142.5,
          -140.5,
          -139.5,
          -138.5,
          -137.5,
          -136.5,
          -135.5,
          -134.5,
          -133.5,
          -132.5,
          -131.5,
          -130.5,
          -129.5,
          -128.5,
          -151.5,
          -150.5,
          -146.5,
          -145.5,
          -144.5,
          -142.5,
          -140.5,
          -139.5,
          -138.5,
          -137.5,
          -136.5,
          -135.5,
          -134.5,
          -133.5,
          -132.5,
          -131.5,
          -130.5,
          -129.5,
          -128.5,
          -151.5,
          -150.5,
          -146.5,
          -145.5,
          -144.5,
          -142.5,
          -140.5,
          -139.5,
          -138.5,
          -137.5,
          -136.5,
          -135.5,
          -134.5,
          -133.5,
          -132.5,
          -131.5,
          -130.5,
          -129.5,
          -128.5,
          -151.5,
          -150.5,
          -146.5,
          -145.5,
          -144.5,
          -142.5,
          -140.5,
          -139.5,
          -138.5,
          -137.5,
          -136.5,
          -135.5,
          -134.5,
          -133.5,
          -132.5,
          -131.5,
          -130.5,
          -129.5,
          -128.5,
          -151.5,
          -150.5,
          -146.5,
          -145.5,
          -144.5,
          -142.5,
          -140.5,
          -139.5,
          -138.5,
          -137.5,
          -136.5,
          -135.5,
          -134.5,
          -133.5,
          -132.5,
          -131.5,
          -130.5,
          -129.5,
          -128.5,
          -151.5,
          -150.5,
          -146.5,
          -145.5,
          -144.5,
          -142.5,
          -140.5,
          -139.5,
          -138.5,
          -137.5,
          -136.5,
          -135.5,
          -134.5,
          -133.5,
          -132.5,
          -131.5,
          -130.5,
          -129.5,
          -128.5,
          -151.5,
          -150.5,
          -146.5,
          -145.5,
          -144.5,
          -142.5,
          -140.5,
          -139.5,
          -138.5,
          -137.5,
          -136.5,
          -135.5,
          -134.5,
          -133.5,
          -132.5,
          -131.5,
          -130.5,
          -129.5,
          -128.5
         ],
         "y": [
          46.5,
          46.5,
          46.5,
          46.5,
          46.5,
          46.5,
          46.5,
          46.5,
          46.5,
          46.5,
          46.5,
          46.5,
          46.5,
          46.5,
          46.5,
          46.5,
          46.5,
          46.5,
          46.5,
          47.5,
          47.5,
          47.5,
          47.5,
          47.5,
          47.5,
          47.5,
          47.5,
          47.5,
          47.5,
          47.5,
          47.5,
          47.5,
          47.5,
          47.5,
          47.5,
          47.5,
          47.5,
          47.5,
          48.5,
          48.5,
          48.5,
          48.5,
          48.5,
          48.5,
          48.5,
          48.5,
          48.5,
          48.5,
          48.5,
          48.5,
          48.5,
          48.5,
          48.5,
          48.5,
          48.5,
          48.5,
          48.5,
          49.5,
          49.5,
          49.5,
          49.5,
          49.5,
          49.5,
          49.5,
          49.5,
          49.5,
          49.5,
          49.5,
          49.5,
          49.5,
          49.5,
          49.5,
          49.5,
          49.5,
          49.5,
          49.5,
          50.5,
          50.5,
          50.5,
          50.5,
          50.5,
          50.5,
          50.5,
          50.5,
          50.5,
          50.5,
          50.5,
          50.5,
          50.5,
          50.5,
          50.5,
          50.5,
          50.5,
          50.5,
          50.5,
          51.5,
          51.5,
          51.5,
          51.5,
          51.5,
          51.5,
          51.5,
          51.5,
          51.5,
          51.5,
          51.5,
          51.5,
          51.5,
          51.5,
          51.5,
          51.5,
          51.5,
          51.5,
          51.5,
          52.5,
          52.5,
          52.5,
          52.5,
          52.5,
          52.5,
          52.5,
          52.5,
          52.5,
          52.5,
          52.5,
          52.5,
          52.5,
          52.5,
          52.5,
          52.5,
          52.5,
          52.5,
          52.5,
          53.5,
          53.5,
          53.5,
          53.5,
          53.5,
          53.5,
          53.5,
          53.5,
          53.5,
          53.5,
          53.5,
          53.5,
          53.5,
          53.5,
          53.5,
          53.5,
          53.5,
          53.5,
          53.5,
          54.5,
          54.5,
          54.5,
          54.5,
          54.5,
          54.5,
          54.5,
          54.5,
          54.5,
          54.5,
          54.5,
          54.5,
          54.5,
          54.5,
          54.5,
          54.5,
          54.5,
          54.5,
          54.5,
          55.5,
          55.5,
          55.5,
          55.5,
          55.5,
          55.5,
          55.5,
          55.5,
          55.5,
          55.5,
          55.5,
          55.5,
          55.5,
          55.5,
          55.5,
          55.5,
          55.5,
          55.5,
          55.5,
          56.5,
          56.5,
          56.5,
          56.5,
          56.5,
          56.5,
          56.5,
          56.5,
          56.5,
          56.5,
          56.5,
          56.5,
          56.5,
          56.5,
          56.5,
          56.5,
          56.5,
          56.5,
          56.5,
          57.5,
          57.5,
          57.5,
          57.5,
          57.5,
          57.5,
          57.5,
          57.5,
          57.5,
          57.5,
          57.5,
          57.5,
          57.5,
          57.5,
          57.5,
          57.5,
          57.5,
          57.5,
          57.5
         ],
         "z": [
          7.815195999999999,
          null,
          null,
          null,
          7.450659999999999,
          null,
          null,
          null,
          null,
          null,
          null,
          null,
          null,
          null,
          null,
          null,
          null,
          null,
          null,
          null,
          null,
          null,
          null,
          22.427618000000002,
          null,
          null,
          null,
          null,
          10.99454,
          null,
          5.146280000000001,
          null,
          null,
          7.772691999999999,
          null,
          null,
          null,
          null,
          null,
          null,
          null,
          null,
          null,
          null,
          null,
          null,
          null,
          null,
          null,
          null,
          null,
          null,
          null,
          10.947956000000003,
          11.274855272727272,
          17.833888,
          8.757759157894734,
          null,
          26.215432000000007,
          null,
          11.737270904761905,
          19.786028800000004,
          3.0646159999999996,
          12.275308000000003,
          null,
          13.2785914,
          null,
          null,
          null,
          11.393649833333335,
          null,
          9.1052436,
          12.25514,
          13.316160000000002,
          null,
          11.168161846153847,
          null,
          null,
          23.838772000000006,
          13.290441000000001,
          11.144708,
          null,
          null,
          null,
          null,
          null,
          null,
          4.089356000000001,
          null,
          18.3315,
          null,
          17.9856,
          11.5217815,
          13.9379115,
          null,
          null,
          null,
          null,
          null,
          null,
          null,
          null,
          null,
          null,
          null,
          12.760332000000002,
          null,
          null,
          28.163889000000005,
          23.709712000000003,
          null,
          8.20235,
          null,
          null,
          null,
          null,
          null,
          4.676896,
          5.29504,
          null,
          14.871532,
          null,
          12.2879,
          null,
          12.384271333333333,
          14.831135999999999,
          null,
          8.27766,
          null,
          null,
          null,
          null,
          null,
          null,
          null,
          null,
          null,
          null,
          null,
          null,
          13.35804,
          null,
          null,
          18.825149,
          8.666217333333334,
          null,
          null,
          null,
          null,
          null,
          null,
          null,
          null,
          null,
          null,
          null,
          null,
          null,
          null,
          null,
          21.847229600000002,
          33.901416000000005,
          9.834396000000002,
          14.868716,
          null,
          null,
          null,
          null,
          null,
          null,
          null,
          null,
          null,
          null,
          16.014192666666666,
          7.451132000000001,
          null,
          null,
          null,
          25.043830500000002,
          null,
          null,
          8.999564666666668,
          null,
          null,
          null,
          null,
          null,
          null,
          null,
          null,
          null,
          null,
          10.469499999999996,
          11.648093066666666,
          null,
          null,
          null,
          17.475656,
          null,
          null,
          null,
          null,
          null,
          null,
          null,
          null,
          null,
          null,
          null,
          null,
          16.390264,
          null,
          19.025128,
          null,
          null,
          27.199008,
          2.151444,
          null,
          null,
          null,
          null,
          null,
          null,
          null,
          null,
          null,
          null
         ]
        }
       ],
       "layout": {
        "height": 500,
        "legend": {
         "tracegroupgap": 0
        },
        "scene": {
         "aspectmode": "manual",
         "aspectratio": {
          "x": 2,
          "y": 1,
          "z": 0.5
         },
         "camera": {
          "eye": {
           "x": 0.8,
           "y": 0.8,
           "z": 0.8
          }
         },
         "domain": {
          "x": [
           0,
           1
          ],
          "y": [
           0,
           1
          ]
         },
         "xaxis": {
          "backgroundcolor": "rgba(0,0,0,0)",
          "title": {
           "text": "longitude"
          }
         },
         "yaxis": {
          "backgroundcolor": "rgba(0,0,0,0)",
          "title": {
           "text": "latitude"
          }
         },
         "zaxis": {
          "title": {
           "text": "original"
          }
         }
        },
        "template": {
         "data": {
          "bar": [
           {
            "error_x": {
             "color": "#2a3f5f"
            },
            "error_y": {
             "color": "#2a3f5f"
            },
            "marker": {
             "line": {
              "color": "#E5ECF6",
              "width": 0.5
             },
             "pattern": {
              "fillmode": "overlay",
              "size": 10,
              "solidity": 0.2
             }
            },
            "type": "bar"
           }
          ],
          "barpolar": [
           {
            "marker": {
             "line": {
              "color": "#E5ECF6",
              "width": 0.5
             },
             "pattern": {
              "fillmode": "overlay",
              "size": 10,
              "solidity": 0.2
             }
            },
            "type": "barpolar"
           }
          ],
          "carpet": [
           {
            "aaxis": {
             "endlinecolor": "#2a3f5f",
             "gridcolor": "white",
             "linecolor": "white",
             "minorgridcolor": "white",
             "startlinecolor": "#2a3f5f"
            },
            "baxis": {
             "endlinecolor": "#2a3f5f",
             "gridcolor": "white",
             "linecolor": "white",
             "minorgridcolor": "white",
             "startlinecolor": "#2a3f5f"
            },
            "type": "carpet"
           }
          ],
          "choropleth": [
           {
            "colorbar": {
             "outlinewidth": 0,
             "ticks": ""
            },
            "type": "choropleth"
           }
          ],
          "contour": [
           {
            "colorbar": {
             "outlinewidth": 0,
             "ticks": ""
            },
            "colorscale": [
             [
              0,
              "#0d0887"
             ],
             [
              0.1111111111111111,
              "#46039f"
             ],
             [
              0.2222222222222222,
              "#7201a8"
             ],
             [
              0.3333333333333333,
              "#9c179e"
             ],
             [
              0.4444444444444444,
              "#bd3786"
             ],
             [
              0.5555555555555556,
              "#d8576b"
             ],
             [
              0.6666666666666666,
              "#ed7953"
             ],
             [
              0.7777777777777778,
              "#fb9f3a"
             ],
             [
              0.8888888888888888,
              "#fdca26"
             ],
             [
              1,
              "#f0f921"
             ]
            ],
            "type": "contour"
           }
          ],
          "contourcarpet": [
           {
            "colorbar": {
             "outlinewidth": 0,
             "ticks": ""
            },
            "type": "contourcarpet"
           }
          ],
          "heatmap": [
           {
            "colorbar": {
             "outlinewidth": 0,
             "ticks": ""
            },
            "colorscale": [
             [
              0,
              "#0d0887"
             ],
             [
              0.1111111111111111,
              "#46039f"
             ],
             [
              0.2222222222222222,
              "#7201a8"
             ],
             [
              0.3333333333333333,
              "#9c179e"
             ],
             [
              0.4444444444444444,
              "#bd3786"
             ],
             [
              0.5555555555555556,
              "#d8576b"
             ],
             [
              0.6666666666666666,
              "#ed7953"
             ],
             [
              0.7777777777777778,
              "#fb9f3a"
             ],
             [
              0.8888888888888888,
              "#fdca26"
             ],
             [
              1,
              "#f0f921"
             ]
            ],
            "type": "heatmap"
           }
          ],
          "heatmapgl": [
           {
            "colorbar": {
             "outlinewidth": 0,
             "ticks": ""
            },
            "colorscale": [
             [
              0,
              "#0d0887"
             ],
             [
              0.1111111111111111,
              "#46039f"
             ],
             [
              0.2222222222222222,
              "#7201a8"
             ],
             [
              0.3333333333333333,
              "#9c179e"
             ],
             [
              0.4444444444444444,
              "#bd3786"
             ],
             [
              0.5555555555555556,
              "#d8576b"
             ],
             [
              0.6666666666666666,
              "#ed7953"
             ],
             [
              0.7777777777777778,
              "#fb9f3a"
             ],
             [
              0.8888888888888888,
              "#fdca26"
             ],
             [
              1,
              "#f0f921"
             ]
            ],
            "type": "heatmapgl"
           }
          ],
          "histogram": [
           {
            "marker": {
             "pattern": {
              "fillmode": "overlay",
              "size": 10,
              "solidity": 0.2
             }
            },
            "type": "histogram"
           }
          ],
          "histogram2d": [
           {
            "colorbar": {
             "outlinewidth": 0,
             "ticks": ""
            },
            "colorscale": [
             [
              0,
              "#0d0887"
             ],
             [
              0.1111111111111111,
              "#46039f"
             ],
             [
              0.2222222222222222,
              "#7201a8"
             ],
             [
              0.3333333333333333,
              "#9c179e"
             ],
             [
              0.4444444444444444,
              "#bd3786"
             ],
             [
              0.5555555555555556,
              "#d8576b"
             ],
             [
              0.6666666666666666,
              "#ed7953"
             ],
             [
              0.7777777777777778,
              "#fb9f3a"
             ],
             [
              0.8888888888888888,
              "#fdca26"
             ],
             [
              1,
              "#f0f921"
             ]
            ],
            "type": "histogram2d"
           }
          ],
          "histogram2dcontour": [
           {
            "colorbar": {
             "outlinewidth": 0,
             "ticks": ""
            },
            "colorscale": [
             [
              0,
              "#0d0887"
             ],
             [
              0.1111111111111111,
              "#46039f"
             ],
             [
              0.2222222222222222,
              "#7201a8"
             ],
             [
              0.3333333333333333,
              "#9c179e"
             ],
             [
              0.4444444444444444,
              "#bd3786"
             ],
             [
              0.5555555555555556,
              "#d8576b"
             ],
             [
              0.6666666666666666,
              "#ed7953"
             ],
             [
              0.7777777777777778,
              "#fb9f3a"
             ],
             [
              0.8888888888888888,
              "#fdca26"
             ],
             [
              1,
              "#f0f921"
             ]
            ],
            "type": "histogram2dcontour"
           }
          ],
          "mesh3d": [
           {
            "colorbar": {
             "outlinewidth": 0,
             "ticks": ""
            },
            "type": "mesh3d"
           }
          ],
          "parcoords": [
           {
            "line": {
             "colorbar": {
              "outlinewidth": 0,
              "ticks": ""
             }
            },
            "type": "parcoords"
           }
          ],
          "pie": [
           {
            "automargin": true,
            "type": "pie"
           }
          ],
          "scatter": [
           {
            "fillpattern": {
             "fillmode": "overlay",
             "size": 10,
             "solidity": 0.2
            },
            "type": "scatter"
           }
          ],
          "scatter3d": [
           {
            "line": {
             "colorbar": {
              "outlinewidth": 0,
              "ticks": ""
             }
            },
            "marker": {
             "colorbar": {
              "outlinewidth": 0,
              "ticks": ""
             }
            },
            "type": "scatter3d"
           }
          ],
          "scattercarpet": [
           {
            "marker": {
             "colorbar": {
              "outlinewidth": 0,
              "ticks": ""
             }
            },
            "type": "scattercarpet"
           }
          ],
          "scattergeo": [
           {
            "marker": {
             "colorbar": {
              "outlinewidth": 0,
              "ticks": ""
             }
            },
            "type": "scattergeo"
           }
          ],
          "scattergl": [
           {
            "marker": {
             "colorbar": {
              "outlinewidth": 0,
              "ticks": ""
             }
            },
            "type": "scattergl"
           }
          ],
          "scattermapbox": [
           {
            "marker": {
             "colorbar": {
              "outlinewidth": 0,
              "ticks": ""
             }
            },
            "type": "scattermapbox"
           }
          ],
          "scatterpolar": [
           {
            "marker": {
             "colorbar": {
              "outlinewidth": 0,
              "ticks": ""
             }
            },
            "type": "scatterpolar"
           }
          ],
          "scatterpolargl": [
           {
            "marker": {
             "colorbar": {
              "outlinewidth": 0,
              "ticks": ""
             }
            },
            "type": "scatterpolargl"
           }
          ],
          "scatterternary": [
           {
            "marker": {
             "colorbar": {
              "outlinewidth": 0,
              "ticks": ""
             }
            },
            "type": "scatterternary"
           }
          ],
          "surface": [
           {
            "colorbar": {
             "outlinewidth": 0,
             "ticks": ""
            },
            "colorscale": [
             [
              0,
              "#0d0887"
             ],
             [
              0.1111111111111111,
              "#46039f"
             ],
             [
              0.2222222222222222,
              "#7201a8"
             ],
             [
              0.3333333333333333,
              "#9c179e"
             ],
             [
              0.4444444444444444,
              "#bd3786"
             ],
             [
              0.5555555555555556,
              "#d8576b"
             ],
             [
              0.6666666666666666,
              "#ed7953"
             ],
             [
              0.7777777777777778,
              "#fb9f3a"
             ],
             [
              0.8888888888888888,
              "#fdca26"
             ],
             [
              1,
              "#f0f921"
             ]
            ],
            "type": "surface"
           }
          ],
          "table": [
           {
            "cells": {
             "fill": {
              "color": "#EBF0F8"
             },
             "line": {
              "color": "white"
             }
            },
            "header": {
             "fill": {
              "color": "#C8D4E3"
             },
             "line": {
              "color": "white"
             }
            },
            "type": "table"
           }
          ]
         },
         "layout": {
          "annotationdefaults": {
           "arrowcolor": "#2a3f5f",
           "arrowhead": 0,
           "arrowwidth": 1
          },
          "autotypenumbers": "strict",
          "coloraxis": {
           "colorbar": {
            "outlinewidth": 0,
            "ticks": ""
           }
          },
          "colorscale": {
           "diverging": [
            [
             0,
             "#8e0152"
            ],
            [
             0.1,
             "#c51b7d"
            ],
            [
             0.2,
             "#de77ae"
            ],
            [
             0.3,
             "#f1b6da"
            ],
            [
             0.4,
             "#fde0ef"
            ],
            [
             0.5,
             "#f7f7f7"
            ],
            [
             0.6,
             "#e6f5d0"
            ],
            [
             0.7,
             "#b8e186"
            ],
            [
             0.8,
             "#7fbc41"
            ],
            [
             0.9,
             "#4d9221"
            ],
            [
             1,
             "#276419"
            ]
           ],
           "sequential": [
            [
             0,
             "#0d0887"
            ],
            [
             0.1111111111111111,
             "#46039f"
            ],
            [
             0.2222222222222222,
             "#7201a8"
            ],
            [
             0.3333333333333333,
             "#9c179e"
            ],
            [
             0.4444444444444444,
             "#bd3786"
            ],
            [
             0.5555555555555556,
             "#d8576b"
            ],
            [
             0.6666666666666666,
             "#ed7953"
            ],
            [
             0.7777777777777778,
             "#fb9f3a"
            ],
            [
             0.8888888888888888,
             "#fdca26"
            ],
            [
             1,
             "#f0f921"
            ]
           ],
           "sequentialminus": [
            [
             0,
             "#0d0887"
            ],
            [
             0.1111111111111111,
             "#46039f"
            ],
            [
             0.2222222222222222,
             "#7201a8"
            ],
            [
             0.3333333333333333,
             "#9c179e"
            ],
            [
             0.4444444444444444,
             "#bd3786"
            ],
            [
             0.5555555555555556,
             "#d8576b"
            ],
            [
             0.6666666666666666,
             "#ed7953"
            ],
            [
             0.7777777777777778,
             "#fb9f3a"
            ],
            [
             0.8888888888888888,
             "#fdca26"
            ],
            [
             1,
             "#f0f921"
            ]
           ]
          },
          "colorway": [
           "#636efa",
           "#EF553B",
           "#00cc96",
           "#ab63fa",
           "#FFA15A",
           "#19d3f3",
           "#FF6692",
           "#B6E880",
           "#FF97FF",
           "#FECB52"
          ],
          "font": {
           "color": "#2a3f5f"
          },
          "geo": {
           "bgcolor": "white",
           "lakecolor": "white",
           "landcolor": "#E5ECF6",
           "showlakes": true,
           "showland": true,
           "subunitcolor": "white"
          },
          "hoverlabel": {
           "align": "left"
          },
          "hovermode": "closest",
          "mapbox": {
           "style": "light"
          },
          "paper_bgcolor": "white",
          "plot_bgcolor": "#E5ECF6",
          "polar": {
           "angularaxis": {
            "gridcolor": "white",
            "linecolor": "white",
            "ticks": ""
           },
           "bgcolor": "#E5ECF6",
           "radialaxis": {
            "gridcolor": "white",
            "linecolor": "white",
            "ticks": ""
           }
          },
          "scene": {
           "xaxis": {
            "backgroundcolor": "#E5ECF6",
            "gridcolor": "white",
            "gridwidth": 2,
            "linecolor": "white",
            "showbackground": true,
            "ticks": "",
            "zerolinecolor": "white"
           },
           "yaxis": {
            "backgroundcolor": "#E5ECF6",
            "gridcolor": "white",
            "gridwidth": 2,
            "linecolor": "white",
            "showbackground": true,
            "ticks": "",
            "zerolinecolor": "white"
           },
           "zaxis": {
            "backgroundcolor": "#E5ECF6",
            "gridcolor": "white",
            "gridwidth": 2,
            "linecolor": "white",
            "showbackground": true,
            "ticks": "",
            "zerolinecolor": "white"
           }
          },
          "shapedefaults": {
           "line": {
            "color": "#2a3f5f"
           }
          },
          "ternary": {
           "aaxis": {
            "gridcolor": "white",
            "linecolor": "white",
            "ticks": ""
           },
           "baxis": {
            "gridcolor": "white",
            "linecolor": "white",
            "ticks": ""
           },
           "bgcolor": "#E5ECF6",
           "caxis": {
            "gridcolor": "white",
            "linecolor": "white",
            "ticks": ""
           }
          },
          "title": {
           "x": 0.05
          },
          "xaxis": {
           "automargin": true,
           "gridcolor": "white",
           "linecolor": "white",
           "ticks": "",
           "title": {
            "standoff": 15
           },
           "zerolinecolor": "white",
           "zerolinewidth": 2
          },
          "yaxis": {
           "automargin": true,
           "gridcolor": "white",
           "linecolor": "white",
           "ticks": "",
           "title": {
            "standoff": 15
           },
           "zerolinecolor": "white",
           "zerolinewidth": 2
          }
         }
        },
        "title": {
         "text": "Grid of Longitude and Latitude : Papa"
        }
       }
      }
     },
     "metadata": {},
     "output_type": "display_data"
    }
   ],
   "source": [
    "data_to_plot = pd.DataFrame(\n",
    "    {\n",
    "        \"original\": data.night.mean([\"time\"]).dropna(\"latitude\", how=\"all\").dropna(\"longitude\", how=\"all\").to_series(),\n",
    "        \"post-processed\": new_data.night.mean([\"time\"])\n",
    "        .dropna(\"latitude\", how=\"all\")\n",
    "        .dropna(\"longitude\", how=\"all\")\n",
    "        .to_series(),\n",
    "    }\n",
    ")\n",
    "\n",
    "figure = px.scatter_3d(data_to_plot.reset_index(), x=\"longitude\", y=\"latitude\", z=\"original\", title=\"Day observations\")\n",
    "\n",
    "figure.add_scatter3d(\n",
    "    x=data_to_plot.reset_index().longitude,\n",
    "    y=data_to_plot.reset_index().latitude,\n",
    "    z=data_to_plot[\"post-processed\"],\n",
    "    mode=\"markers\",\n",
    "    name=\"post-processed\",\n",
    ")\n",
    "\n",
    "figure.update_traces(marker={\"size\": 0}).update_layout(\n",
    "    scene={\n",
    "        \"xaxis\": {\"backgroundcolor\": \"rgba(0,0,0,0)\"},\n",
    "        \"yaxis\": {\"backgroundcolor\": \"rgba(0,0,0,0)\"},\n",
    "        \"aspectmode\": \"manual\",\n",
    "        \"aspectratio\": {\"x\": 2, \"y\": 1, \"z\": 0.5},\n",
    "        \"camera\": {\"eye\": {\"x\": 0.80, \"y\": 0.80, \"z\": 0.80}},\n",
    "    },\n",
    "    title=f\"Grid of Longitude and Latitude : {station}\",\n",
    "    height=500,\n",
    ")"
   ]
  },
  {
   "cell_type": "markdown",
   "metadata": {},
   "source": [
    "# Export\n"
   ]
  },
  {
   "cell_type": "code",
   "execution_count": 15,
   "metadata": {},
   "outputs": [
    {
     "data": {
      "text/plain": [
       "<xarray.backends.zarr.ZarrStore at 0x31f9110c0>"
      ]
     },
     "execution_count": 15,
     "metadata": {},
     "output_type": "execute_result"
    }
   ],
   "source": [
    "new_data.to_zarr(f\"../data/1_products/{station}_obs_filtered.zarr\", mode=\"w\")"
   ]
  }
 ],
 "metadata": {
  "kernelspec": {
   "display_name": ".venv",
   "language": "python",
   "name": "python3"
  },
  "language_info": {
   "codemirror_mode": {
    "name": "ipython",
    "version": 3
   },
   "file_extension": ".py",
   "mimetype": "text/x-python",
   "name": "python",
   "nbconvert_exporter": "python",
   "pygments_lexer": "ipython3",
   "version": "3.12.9"
  }
 },
 "nbformat": 4,
 "nbformat_minor": 2
}
