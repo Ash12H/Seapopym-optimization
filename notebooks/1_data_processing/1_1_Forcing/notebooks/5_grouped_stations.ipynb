{
 "cells": [
  {
   "cell_type": "code",
   "execution_count": 1,
   "metadata": {},
   "outputs": [],
   "source": [
    "import xarray as xr"
   ]
  },
  {
   "cell_type": "code",
   "execution_count": 3,
   "metadata": {},
   "outputs": [
    {
     "data": {
      "text/plain": [
       "<xarray.backends.zarr.ZarrStore at 0x122421b40>"
      ]
     },
     "execution_count": 3,
     "metadata": {},
     "output_type": "execute_result"
    }
   ],
   "source": [
    "xr.merge(\n",
    "    [\n",
    "        xr.open_dataset(\"../data/1_products/Bats_cafe.zarr\", engine=\"zarr\"),\n",
    "        xr.open_dataset(\"../data/1_products/Hot_cafe.zarr\", engine=\"zarr\"),\n",
    "        xr.open_dataset(\"../data/1_products/Papa_cafe.zarr\", engine=\"zarr\"),\n",
    "        xr.open_dataset(\"../data/1_products/Calcofi_cafe.zarr\", engine=\"zarr\"),\n",
    "    ]\n",
    ").to_zarr(\"../data/1_products/all_stations_cafe.zarr\", mode=\"w\")"
   ]
  },
  {
   "cell_type": "code",
   "execution_count": 5,
   "metadata": {},
   "outputs": [
    {
     "data": {
      "text/plain": [
       "<xarray.backends.zarr.ZarrStore at 0x1523d8bc0>"
      ]
     },
     "execution_count": 5,
     "metadata": {},
     "output_type": "execute_result"
    }
   ],
   "source": [
    "xr.merge(\n",
    "    [\n",
    "        xr.open_dataset(\"../data/1_products/Bats_obs.zarr\", engine=\"zarr\"),\n",
    "        xr.open_dataset(\"../data/1_products/Hot_obs.zarr\", engine=\"zarr\"),\n",
    "        xr.open_dataset(\"../data/1_products/Papa_obs.zarr\", engine=\"zarr\"),\n",
    "        xr.open_dataset(\"../data/1_products/Calcofi_obs.zarr\", engine=\"zarr\"),\n",
    "    ]\n",
    ").to_zarr(\"../data/1_products/all_stations_obs.zarr\", mode=\"w\")"
   ]
  },
  {
   "cell_type": "code",
   "execution_count": 6,
   "metadata": {},
   "outputs": [
    {
     "data": {
      "text/plain": [
       "<xarray.backends.zarr.ZarrStore at 0x1424d4240>"
      ]
     },
     "execution_count": 6,
     "metadata": {},
     "output_type": "execute_result"
    }
   ],
   "source": [
    "xr.merge(\n",
    "    [\n",
    "        xr.open_dataset(\"../data/1_products/Bats_cmems.zarr\", engine=\"zarr\"),\n",
    "        xr.open_dataset(\"../data/1_products/Hot_cmems.zarr\", engine=\"zarr\"),\n",
    "        xr.open_dataset(\"../data/1_products/Papa_cmems.zarr\", engine=\"zarr\"),\n",
    "        xr.open_dataset(\"../data/1_products/Calcofi_cmems.zarr\", engine=\"zarr\"),\n",
    "    ]\n",
    ").to_zarr(\"../data/1_products/all_stations_cmems.zarr\", mode=\"w\")"
   ]
  }
 ],
 "metadata": {
  "kernelspec": {
   "display_name": ".venv",
   "language": "python",
   "name": "python3"
  },
  "language_info": {
   "codemirror_mode": {
    "name": "ipython",
    "version": 3
   },
   "file_extension": ".py",
   "mimetype": "text/x-python",
   "name": "python",
   "nbconvert_exporter": "python",
   "pygments_lexer": "ipython3",
   "version": "3.12.9"
  }
 },
 "nbformat": 4,
 "nbformat_minor": 2
}
