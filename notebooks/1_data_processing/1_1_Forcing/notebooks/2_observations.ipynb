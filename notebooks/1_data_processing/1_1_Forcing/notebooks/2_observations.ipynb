{
 "cells": [
  {
   "cell_type": "code",
   "execution_count": 1,
   "metadata": {},
   "outputs": [],
   "source": [
    "import xarray as xr"
   ]
  },
  {
   "cell_type": "markdown",
   "metadata": {},
   "source": [
    "-   Schneider (1992) : En étudiant différents types de zooplancton (gélatineux et non-gélatineux), cette étude a confirmé que le carbone représente généralement 50 % du poids sec. Les faibles variations entre les types montrent que cette conversion peut être appliquée de manière relativement uniforme dans divers environnements (Schneider, 1992).\n",
    "-   Wiebe et al. (1975) : Cette étude a révélé que le carbone représente 31 à 33 % du poids sec du zooplancton, basé sur des échantillons collectés dans différentes régions océaniques. Ces valeurs montrent une certaine uniformité entre les écosystèmes marins, bien que des variations méthodologiques soient possibles (Wiebe et al., 1975).\n",
    "-   Salonen et al. (1976) : Cette étude souligne que les contenus énergétiques et en carbone des invertébrés aquatiques sont étroitement corrélés, avec un facteur de conversion pour le carbone estimé à environ 42 % du poids sec dans plusieurs taxons (Salonen et al., 1976).\n",
    "-   Omori (1969) : Cette étude, menée dans le Pacifique Nord, montre que le carbone représente en moyenne 35 à 45 % du poids sec pour le zooplancton mixte. Chez les copépodes, ce pourcentage est encore plus élevé, atteignant 51,5 % en moyenne. L’étude a également révélé des variations saisonnières et géographiques, le contenu en carbone étant influencé par la quantité de nourriture disponible (Omori, 1969).\n"
   ]
  },
  {
   "cell_type": "code",
   "execution_count": 2,
   "metadata": {},
   "outputs": [],
   "source": [
    "COEF_DRY_TO_CARBON = 0.40"
   ]
  },
  {
   "cell_type": "markdown",
   "metadata": {},
   "source": [
    "You can include the Seapopym_Data observations into the raw directory. Or create a script that download the observations from Github.\n"
   ]
  },
  {
   "cell_type": "code",
   "execution_count": 3,
   "metadata": {},
   "outputs": [],
   "source": [
    "bats = xr.open_dataset(\"../data/0_raw/Bats_zooplankton.zarr\", engine=\"zarr\")\n",
    "hot = xr.open_dataset(\"../data/0_raw/Hot_zooplankton.zarr\", engine=\"zarr\")\n",
    "papa = xr.open_dataset(\"../data/0_raw/Papa_zooplankton.zarr\", engine=\"zarr\")\n",
    "calcofi = xr.open_dataset(\"../data/0_raw/Calcofi_zooplankton.zarr\", engine=\"zarr\")"
   ]
  },
  {
   "cell_type": "code",
   "execution_count": 4,
   "metadata": {},
   "outputs": [],
   "source": [
    "with xr.set_options(keep_attrs=True):\n",
    "    bats = bats * COEF_DRY_TO_CARBON\n",
    "    hot = hot * COEF_DRY_TO_CARBON\n",
    "    papa = papa * COEF_DRY_TO_CARBON"
   ]
  },
  {
   "cell_type": "code",
   "execution_count": 5,
   "metadata": {},
   "outputs": [],
   "source": [
    "for ds in [bats, hot, papa]:\n",
    "    for name in [\"day\", \"night\"]:\n",
    "        ds[name].attrs[\"description\"] = ds[name].attrs[\"description\"].replace(\"dry\", \"carbon\")"
   ]
  },
  {
   "cell_type": "code",
   "execution_count": 6,
   "metadata": {},
   "outputs": [
    {
     "data": {
      "text/plain": [
       "<xarray.backends.zarr.ZarrStore at 0x15da6c0c0>"
      ]
     },
     "execution_count": 6,
     "metadata": {},
     "output_type": "execute_result"
    }
   ],
   "source": [
    "bats.to_zarr(\"../data/1_products/Bats_obs.zarr\", mode=\"w\")\n",
    "hot.to_zarr(\"../data/1_products/Hot_obs.zarr\", mode=\"w\")\n",
    "papa.to_zarr(\"../data/1_products/Papa_obs.zarr\", mode=\"w\")\n",
    "calcofi.to_zarr(\"../data/1_products/Calcofi_obs.zarr\", mode=\"w\")"
   ]
  }
 ],
 "metadata": {
  "kernelspec": {
   "display_name": ".venv",
   "language": "python",
   "name": "python3"
  },
  "language_info": {
   "codemirror_mode": {
    "name": "ipython",
    "version": 3
   },
   "file_extension": ".py",
   "mimetype": "text/x-python",
   "name": "python",
   "nbconvert_exporter": "python",
   "pygments_lexer": "ipython3",
   "version": "3.12.9"
  }
 },
 "nbformat": 4,
 "nbformat_minor": 2
}
