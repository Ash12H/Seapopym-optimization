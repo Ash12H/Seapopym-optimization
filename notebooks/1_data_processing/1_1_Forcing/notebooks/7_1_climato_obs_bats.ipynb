{
 "cells": [
  {
   "cell_type": "code",
   "execution_count": 1,
   "metadata": {},
   "outputs": [],
   "source": [
    "import matplotlib.colors as mcolors\n",
    "import matplotlib.pyplot as plt\n",
    "import numpy as np\n",
    "import pandas as pd\n",
    "import plotly.express as px\n",
    "import plotly.graph_objects as go\n",
    "import xarray as xr\n",
    "from plotly.subplots import make_subplots\n",
    "from scipy.stats import t\n",
    "from statsmodels.nonparametric.smoothers_lowess import lowess\n",
    "\n",
    "# use plotly backend\n",
    "pd.options.plotting.backend = \"plotly\""
   ]
  },
  {
   "cell_type": "code",
   "execution_count": 2,
   "metadata": {},
   "outputs": [],
   "source": [
    "station = \"Bats\"\n",
    "time_start = \"2002-01-01\"\n",
    "time_end = \"2015-01-01\"\n",
    "NB_YEARS = 13\n",
    "MINIMUM_OBS_BY_YEAR = 2"
   ]
  },
  {
   "cell_type": "markdown",
   "metadata": {},
   "source": [
    "## Load\n"
   ]
  },
  {
   "cell_type": "code",
   "execution_count": 3,
   "metadata": {},
   "outputs": [
    {
     "data": {
      "text/html": [
       "<div><svg style=\"position: absolute; width: 0; height: 0; overflow: hidden\">\n",
       "<defs>\n",
       "<symbol id=\"icon-database\" viewBox=\"0 0 32 32\">\n",
       "<path d=\"M16 0c-8.837 0-16 2.239-16 5v4c0 2.761 7.163 5 16 5s16-2.239 16-5v-4c0-2.761-7.163-5-16-5z\"></path>\n",
       "<path d=\"M16 17c-8.837 0-16-2.239-16-5v6c0 2.761 7.163 5 16 5s16-2.239 16-5v-6c0 2.761-7.163 5-16 5z\"></path>\n",
       "<path d=\"M16 26c-8.837 0-16-2.239-16-5v6c0 2.761 7.163 5 16 5s16-2.239 16-5v-6c0 2.761-7.163 5-16 5z\"></path>\n",
       "</symbol>\n",
       "<symbol id=\"icon-file-text2\" viewBox=\"0 0 32 32\">\n",
       "<path d=\"M28.681 7.159c-0.694-0.947-1.662-2.053-2.724-3.116s-2.169-2.030-3.116-2.724c-1.612-1.182-2.393-1.319-2.841-1.319h-15.5c-1.378 0-2.5 1.121-2.5 2.5v27c0 1.378 1.122 2.5 2.5 2.5h23c1.378 0 2.5-1.122 2.5-2.5v-19.5c0-0.448-0.137-1.23-1.319-2.841zM24.543 5.457c0.959 0.959 1.712 1.825 2.268 2.543h-4.811v-4.811c0.718 0.556 1.584 1.309 2.543 2.268zM28 29.5c0 0.271-0.229 0.5-0.5 0.5h-23c-0.271 0-0.5-0.229-0.5-0.5v-27c0-0.271 0.229-0.5 0.5-0.5 0 0 15.499-0 15.5 0v7c0 0.552 0.448 1 1 1h7v19.5z\"></path>\n",
       "<path d=\"M23 26h-14c-0.552 0-1-0.448-1-1s0.448-1 1-1h14c0.552 0 1 0.448 1 1s-0.448 1-1 1z\"></path>\n",
       "<path d=\"M23 22h-14c-0.552 0-1-0.448-1-1s0.448-1 1-1h14c0.552 0 1 0.448 1 1s-0.448 1-1 1z\"></path>\n",
       "<path d=\"M23 18h-14c-0.552 0-1-0.448-1-1s0.448-1 1-1h14c0.552 0 1 0.448 1 1s-0.448 1-1 1z\"></path>\n",
       "</symbol>\n",
       "</defs>\n",
       "</svg>\n",
       "<style>/* CSS stylesheet for displaying xarray objects in jupyterlab.\n",
       " *\n",
       " */\n",
       "\n",
       ":root {\n",
       "  --xr-font-color0: var(--jp-content-font-color0, rgba(0, 0, 0, 1));\n",
       "  --xr-font-color2: var(--jp-content-font-color2, rgba(0, 0, 0, 0.54));\n",
       "  --xr-font-color3: var(--jp-content-font-color3, rgba(0, 0, 0, 0.38));\n",
       "  --xr-border-color: var(--jp-border-color2, #e0e0e0);\n",
       "  --xr-disabled-color: var(--jp-layout-color3, #bdbdbd);\n",
       "  --xr-background-color: var(--jp-layout-color0, white);\n",
       "  --xr-background-color-row-even: var(--jp-layout-color1, white);\n",
       "  --xr-background-color-row-odd: var(--jp-layout-color2, #eeeeee);\n",
       "}\n",
       "\n",
       "html[theme=\"dark\"],\n",
       "html[data-theme=\"dark\"],\n",
       "body[data-theme=\"dark\"],\n",
       "body.vscode-dark {\n",
       "  --xr-font-color0: rgba(255, 255, 255, 1);\n",
       "  --xr-font-color2: rgba(255, 255, 255, 0.54);\n",
       "  --xr-font-color3: rgba(255, 255, 255, 0.38);\n",
       "  --xr-border-color: #1f1f1f;\n",
       "  --xr-disabled-color: #515151;\n",
       "  --xr-background-color: #111111;\n",
       "  --xr-background-color-row-even: #111111;\n",
       "  --xr-background-color-row-odd: #313131;\n",
       "}\n",
       "\n",
       ".xr-wrap {\n",
       "  display: block !important;\n",
       "  min-width: 300px;\n",
       "  max-width: 700px;\n",
       "}\n",
       "\n",
       ".xr-text-repr-fallback {\n",
       "  /* fallback to plain text repr when CSS is not injected (untrusted notebook) */\n",
       "  display: none;\n",
       "}\n",
       "\n",
       ".xr-header {\n",
       "  padding-top: 6px;\n",
       "  padding-bottom: 6px;\n",
       "  margin-bottom: 4px;\n",
       "  border-bottom: solid 1px var(--xr-border-color);\n",
       "}\n",
       "\n",
       ".xr-header > div,\n",
       ".xr-header > ul {\n",
       "  display: inline;\n",
       "  margin-top: 0;\n",
       "  margin-bottom: 0;\n",
       "}\n",
       "\n",
       ".xr-obj-type,\n",
       ".xr-array-name {\n",
       "  margin-left: 2px;\n",
       "  margin-right: 10px;\n",
       "}\n",
       "\n",
       ".xr-obj-type {\n",
       "  color: var(--xr-font-color2);\n",
       "}\n",
       "\n",
       ".xr-sections {\n",
       "  padding-left: 0 !important;\n",
       "  display: grid;\n",
       "  grid-template-columns: 150px auto auto 1fr 0 20px 0 20px;\n",
       "}\n",
       "\n",
       ".xr-section-item {\n",
       "  display: contents;\n",
       "}\n",
       "\n",
       ".xr-section-item input {\n",
       "  display: inline-block;\n",
       "  opacity: 0;\n",
       "  height: 0;\n",
       "}\n",
       "\n",
       ".xr-section-item input + label {\n",
       "  color: var(--xr-disabled-color);\n",
       "}\n",
       "\n",
       ".xr-section-item input:enabled + label {\n",
       "  cursor: pointer;\n",
       "  color: var(--xr-font-color2);\n",
       "}\n",
       "\n",
       ".xr-section-item input:focus + label {\n",
       "  border: 2px solid var(--xr-font-color0);\n",
       "}\n",
       "\n",
       ".xr-section-item input:enabled + label:hover {\n",
       "  color: var(--xr-font-color0);\n",
       "}\n",
       "\n",
       ".xr-section-summary {\n",
       "  grid-column: 1;\n",
       "  color: var(--xr-font-color2);\n",
       "  font-weight: 500;\n",
       "}\n",
       "\n",
       ".xr-section-summary > span {\n",
       "  display: inline-block;\n",
       "  padding-left: 0.5em;\n",
       "}\n",
       "\n",
       ".xr-section-summary-in:disabled + label {\n",
       "  color: var(--xr-font-color2);\n",
       "}\n",
       "\n",
       ".xr-section-summary-in + label:before {\n",
       "  display: inline-block;\n",
       "  content: \"►\";\n",
       "  font-size: 11px;\n",
       "  width: 15px;\n",
       "  text-align: center;\n",
       "}\n",
       "\n",
       ".xr-section-summary-in:disabled + label:before {\n",
       "  color: var(--xr-disabled-color);\n",
       "}\n",
       "\n",
       ".xr-section-summary-in:checked + label:before {\n",
       "  content: \"▼\";\n",
       "}\n",
       "\n",
       ".xr-section-summary-in:checked + label > span {\n",
       "  display: none;\n",
       "}\n",
       "\n",
       ".xr-section-summary,\n",
       ".xr-section-inline-details {\n",
       "  padding-top: 4px;\n",
       "  padding-bottom: 4px;\n",
       "}\n",
       "\n",
       ".xr-section-inline-details {\n",
       "  grid-column: 2 / -1;\n",
       "}\n",
       "\n",
       ".xr-section-details {\n",
       "  display: none;\n",
       "  grid-column: 1 / -1;\n",
       "  margin-bottom: 5px;\n",
       "}\n",
       "\n",
       ".xr-section-summary-in:checked ~ .xr-section-details {\n",
       "  display: contents;\n",
       "}\n",
       "\n",
       ".xr-array-wrap {\n",
       "  grid-column: 1 / -1;\n",
       "  display: grid;\n",
       "  grid-template-columns: 20px auto;\n",
       "}\n",
       "\n",
       ".xr-array-wrap > label {\n",
       "  grid-column: 1;\n",
       "  vertical-align: top;\n",
       "}\n",
       "\n",
       ".xr-preview {\n",
       "  color: var(--xr-font-color3);\n",
       "}\n",
       "\n",
       ".xr-array-preview,\n",
       ".xr-array-data {\n",
       "  padding: 0 5px !important;\n",
       "  grid-column: 2;\n",
       "}\n",
       "\n",
       ".xr-array-data,\n",
       ".xr-array-in:checked ~ .xr-array-preview {\n",
       "  display: none;\n",
       "}\n",
       "\n",
       ".xr-array-in:checked ~ .xr-array-data,\n",
       ".xr-array-preview {\n",
       "  display: inline-block;\n",
       "}\n",
       "\n",
       ".xr-dim-list {\n",
       "  display: inline-block !important;\n",
       "  list-style: none;\n",
       "  padding: 0 !important;\n",
       "  margin: 0;\n",
       "}\n",
       "\n",
       ".xr-dim-list li {\n",
       "  display: inline-block;\n",
       "  padding: 0;\n",
       "  margin: 0;\n",
       "}\n",
       "\n",
       ".xr-dim-list:before {\n",
       "  content: \"(\";\n",
       "}\n",
       "\n",
       ".xr-dim-list:after {\n",
       "  content: \")\";\n",
       "}\n",
       "\n",
       ".xr-dim-list li:not(:last-child):after {\n",
       "  content: \",\";\n",
       "  padding-right: 5px;\n",
       "}\n",
       "\n",
       ".xr-has-index {\n",
       "  font-weight: bold;\n",
       "}\n",
       "\n",
       ".xr-var-list,\n",
       ".xr-var-item {\n",
       "  display: contents;\n",
       "}\n",
       "\n",
       ".xr-var-item > div,\n",
       ".xr-var-item label,\n",
       ".xr-var-item > .xr-var-name span {\n",
       "  background-color: var(--xr-background-color-row-even);\n",
       "  margin-bottom: 0;\n",
       "}\n",
       "\n",
       ".xr-var-item > .xr-var-name:hover span {\n",
       "  padding-right: 5px;\n",
       "}\n",
       "\n",
       ".xr-var-list > li:nth-child(odd) > div,\n",
       ".xr-var-list > li:nth-child(odd) > label,\n",
       ".xr-var-list > li:nth-child(odd) > .xr-var-name span {\n",
       "  background-color: var(--xr-background-color-row-odd);\n",
       "}\n",
       "\n",
       ".xr-var-name {\n",
       "  grid-column: 1;\n",
       "}\n",
       "\n",
       ".xr-var-dims {\n",
       "  grid-column: 2;\n",
       "}\n",
       "\n",
       ".xr-var-dtype {\n",
       "  grid-column: 3;\n",
       "  text-align: right;\n",
       "  color: var(--xr-font-color2);\n",
       "}\n",
       "\n",
       ".xr-var-preview {\n",
       "  grid-column: 4;\n",
       "}\n",
       "\n",
       ".xr-index-preview {\n",
       "  grid-column: 2 / 5;\n",
       "  color: var(--xr-font-color2);\n",
       "}\n",
       "\n",
       ".xr-var-name,\n",
       ".xr-var-dims,\n",
       ".xr-var-dtype,\n",
       ".xr-preview,\n",
       ".xr-attrs dt {\n",
       "  white-space: nowrap;\n",
       "  overflow: hidden;\n",
       "  text-overflow: ellipsis;\n",
       "  padding-right: 10px;\n",
       "}\n",
       "\n",
       ".xr-var-name:hover,\n",
       ".xr-var-dims:hover,\n",
       ".xr-var-dtype:hover,\n",
       ".xr-attrs dt:hover {\n",
       "  overflow: visible;\n",
       "  width: auto;\n",
       "  z-index: 1;\n",
       "}\n",
       "\n",
       ".xr-var-attrs,\n",
       ".xr-var-data,\n",
       ".xr-index-data {\n",
       "  display: none;\n",
       "  background-color: var(--xr-background-color) !important;\n",
       "  padding-bottom: 5px !important;\n",
       "}\n",
       "\n",
       ".xr-var-attrs-in:checked ~ .xr-var-attrs,\n",
       ".xr-var-data-in:checked ~ .xr-var-data,\n",
       ".xr-index-data-in:checked ~ .xr-index-data {\n",
       "  display: block;\n",
       "}\n",
       "\n",
       ".xr-var-data > table {\n",
       "  float: right;\n",
       "}\n",
       "\n",
       ".xr-var-name span,\n",
       ".xr-var-data,\n",
       ".xr-index-name div,\n",
       ".xr-index-data,\n",
       ".xr-attrs {\n",
       "  padding-left: 25px !important;\n",
       "}\n",
       "\n",
       ".xr-attrs,\n",
       ".xr-var-attrs,\n",
       ".xr-var-data,\n",
       ".xr-index-data {\n",
       "  grid-column: 1 / -1;\n",
       "}\n",
       "\n",
       "dl.xr-attrs {\n",
       "  padding: 0;\n",
       "  margin: 0;\n",
       "  display: grid;\n",
       "  grid-template-columns: 125px auto;\n",
       "}\n",
       "\n",
       ".xr-attrs dt,\n",
       ".xr-attrs dd {\n",
       "  padding: 0;\n",
       "  margin: 0;\n",
       "  float: left;\n",
       "  padding-right: 10px;\n",
       "  width: auto;\n",
       "}\n",
       "\n",
       ".xr-attrs dt {\n",
       "  font-weight: normal;\n",
       "  grid-column: 1;\n",
       "}\n",
       "\n",
       ".xr-attrs dt:hover span {\n",
       "  display: inline-block;\n",
       "  background: var(--xr-background-color);\n",
       "  padding-right: 10px;\n",
       "}\n",
       "\n",
       ".xr-attrs dd {\n",
       "  grid-column: 2;\n",
       "  white-space: pre-wrap;\n",
       "  word-break: break-all;\n",
       "}\n",
       "\n",
       ".xr-icon-database,\n",
       ".xr-icon-file-text2,\n",
       ".xr-no-icon {\n",
       "  display: inline-block;\n",
       "  vertical-align: middle;\n",
       "  width: 1em;\n",
       "  height: 1.5em !important;\n",
       "  stroke-width: 0;\n",
       "  stroke: currentColor;\n",
       "  fill: currentColor;\n",
       "}\n",
       "</style><pre class='xr-text-repr-fallback'>&lt;xarray.Dataset&gt; Size: 13kB\n",
       "Dimensions:    (time: 538, latitude: 1, longitude: 1, layer: 1)\n",
       "Coordinates:\n",
       "  * latitude   (latitude) float64 8B 31.6\n",
       "  * layer      (layer) int64 8B 0\n",
       "  * longitude  (longitude) float64 8B -64.2\n",
       "  * time       (time) datetime64[ns] 4kB 1995-05-10 1995-05-11 ... 2022-12-13\n",
       "Data variables:\n",
       "    day        (time, latitude, longitude, layer) float64 4kB nan ... 0.362\n",
       "    night      (time, latitude, longitude, layer) float64 4kB 1.108 nan ... 1.11\n",
       "Attributes:\n",
       "    creation date:  2025-03-31T16:35:10.270720\n",
       "    layer:          epipelagic\n",
       "    station:        Bats</pre><div class='xr-wrap' style='display:none'><div class='xr-header'><div class='xr-obj-type'>xarray.Dataset</div></div><ul class='xr-sections'><li class='xr-section-item'><input id='section-4e456048-6664-45e3-ad91-3350c0e8b43e' class='xr-section-summary-in' type='checkbox' disabled ><label for='section-4e456048-6664-45e3-ad91-3350c0e8b43e' class='xr-section-summary'  title='Expand/collapse section'>Dimensions:</label><div class='xr-section-inline-details'><ul class='xr-dim-list'><li><span class='xr-has-index'>time</span>: 538</li><li><span class='xr-has-index'>latitude</span>: 1</li><li><span class='xr-has-index'>longitude</span>: 1</li><li><span class='xr-has-index'>layer</span>: 1</li></ul></div><div class='xr-section-details'></div></li><li class='xr-section-item'><input id='section-600b5226-88d0-47f3-8767-1e96486dbc48' class='xr-section-summary-in' type='checkbox'  checked><label for='section-600b5226-88d0-47f3-8767-1e96486dbc48' class='xr-section-summary' >Coordinates: <span>(4)</span></label><div class='xr-section-inline-details'></div><div class='xr-section-details'><ul class='xr-var-list'><li class='xr-var-item'><div class='xr-var-name'><span class='xr-has-index'>latitude</span></div><div class='xr-var-dims'>(latitude)</div><div class='xr-var-dtype'>float64</div><div class='xr-var-preview xr-preview'>31.6</div><input id='attrs-bc0d90c4-82e2-4b0c-bed5-a467b6699775' class='xr-var-attrs-in' type='checkbox' ><label for='attrs-bc0d90c4-82e2-4b0c-bed5-a467b6699775' title='Show/Hide attributes'><svg class='icon xr-icon-file-text2'><use xlink:href='#icon-file-text2'></use></svg></label><input id='data-a89575c8-df4e-4e84-be59-317743a0db70' class='xr-var-data-in' type='checkbox'><label for='data-a89575c8-df4e-4e84-be59-317743a0db70' title='Show/Hide data repr'><svg class='icon xr-icon-database'><use xlink:href='#icon-database'></use></svg></label><div class='xr-var-attrs'><dl class='xr-attrs'><dt><span>axis :</span></dt><dd>Y</dd><dt><span>long_name :</span></dt><dd>Latitude</dd><dt><span>standard_name :</span></dt><dd>latitude</dd><dt><span>units :</span></dt><dd>degrees_north</dd></dl></div><div class='xr-var-data'><pre>array([31.6])</pre></div></li><li class='xr-var-item'><div class='xr-var-name'><span class='xr-has-index'>layer</span></div><div class='xr-var-dims'>(layer)</div><div class='xr-var-dtype'>int64</div><div class='xr-var-preview xr-preview'>0</div><input id='attrs-a8431dda-3105-4804-ba19-8eb842f801b7' class='xr-var-attrs-in' type='checkbox' ><label for='attrs-a8431dda-3105-4804-ba19-8eb842f801b7' title='Show/Hide attributes'><svg class='icon xr-icon-file-text2'><use xlink:href='#icon-file-text2'></use></svg></label><input id='data-c709bc4c-d418-4719-b27e-d19165fad7ef' class='xr-var-data-in' type='checkbox'><label for='data-c709bc4c-d418-4719-b27e-d19165fad7ef' title='Show/Hide data repr'><svg class='icon xr-icon-database'><use xlink:href='#icon-database'></use></svg></label><div class='xr-var-attrs'><dl class='xr-attrs'><dt><span>axis :</span></dt><dd>Z</dd><dt><span>desc :</span></dt><dd>The layer depth according to Seapodym definition</dd><dt><span>flag_meanings :</span></dt><dd>epipelagic, upper-mesopelagic, lower-mesopelagic</dd><dt><span>flag_values :</span></dt><dd>[0, 1, 2]</dd><dt><span>long_name :</span></dt><dd>Layer depth</dd><dt><span>standard_name :</span></dt><dd>layer</dd></dl></div><div class='xr-var-data'><pre>array([0])</pre></div></li><li class='xr-var-item'><div class='xr-var-name'><span class='xr-has-index'>longitude</span></div><div class='xr-var-dims'>(longitude)</div><div class='xr-var-dtype'>float64</div><div class='xr-var-preview xr-preview'>-64.2</div><input id='attrs-6901dfba-23f6-4142-b3f8-593d4682fe32' class='xr-var-attrs-in' type='checkbox' ><label for='attrs-6901dfba-23f6-4142-b3f8-593d4682fe32' title='Show/Hide attributes'><svg class='icon xr-icon-file-text2'><use xlink:href='#icon-file-text2'></use></svg></label><input id='data-45d06893-9f22-46de-bd87-9ea483f23965' class='xr-var-data-in' type='checkbox'><label for='data-45d06893-9f22-46de-bd87-9ea483f23965' title='Show/Hide data repr'><svg class='icon xr-icon-database'><use xlink:href='#icon-database'></use></svg></label><div class='xr-var-attrs'><dl class='xr-attrs'><dt><span>axis :</span></dt><dd>X</dd><dt><span>long_name :</span></dt><dd>Longitude</dd><dt><span>standard_name :</span></dt><dd>longitude</dd><dt><span>units :</span></dt><dd>degrees_east</dd></dl></div><div class='xr-var-data'><pre>array([-64.2])</pre></div></li><li class='xr-var-item'><div class='xr-var-name'><span class='xr-has-index'>time</span></div><div class='xr-var-dims'>(time)</div><div class='xr-var-dtype'>datetime64[ns]</div><div class='xr-var-preview xr-preview'>1995-05-10 ... 2022-12-13</div><input id='attrs-bca8c490-40f6-405e-b447-166589c7c083' class='xr-var-attrs-in' type='checkbox' ><label for='attrs-bca8c490-40f6-405e-b447-166589c7c083' title='Show/Hide attributes'><svg class='icon xr-icon-file-text2'><use xlink:href='#icon-file-text2'></use></svg></label><input id='data-e19e369b-a182-4a04-89e1-15403b8020ce' class='xr-var-data-in' type='checkbox'><label for='data-e19e369b-a182-4a04-89e1-15403b8020ce' title='Show/Hide data repr'><svg class='icon xr-icon-database'><use xlink:href='#icon-database'></use></svg></label><div class='xr-var-attrs'><dl class='xr-attrs'><dt><span>axis :</span></dt><dd>T</dd><dt><span>long_name :</span></dt><dd>time</dd><dt><span>standard_name :</span></dt><dd>time</dd></dl></div><div class='xr-var-data'><pre>array([&#x27;1995-05-10T00:00:00.000000000&#x27;, &#x27;1995-05-11T00:00:00.000000000&#x27;,\n",
       "       &#x27;1995-06-13T00:00:00.000000000&#x27;, ..., &#x27;2022-11-23T00:00:00.000000000&#x27;,\n",
       "       &#x27;2022-11-24T00:00:00.000000000&#x27;, &#x27;2022-12-13T00:00:00.000000000&#x27;],\n",
       "      dtype=&#x27;datetime64[ns]&#x27;)</pre></div></li></ul></div></li><li class='xr-section-item'><input id='section-2defbdda-4f1f-4d9a-8a52-818055f94464' class='xr-section-summary-in' type='checkbox'  checked><label for='section-2defbdda-4f1f-4d9a-8a52-818055f94464' class='xr-section-summary' >Data variables: <span>(2)</span></label><div class='xr-section-inline-details'></div><div class='xr-section-details'><ul class='xr-var-list'><li class='xr-var-item'><div class='xr-var-name'><span>day</span></div><div class='xr-var-dims'>(time, latitude, longitude, layer)</div><div class='xr-var-dtype'>float64</div><div class='xr-var-preview xr-preview'>nan 0.964 0.712 ... nan 0.37 0.362</div><input id='attrs-dc38e06d-00e8-48bd-8e7d-d57d206c898d' class='xr-var-attrs-in' type='checkbox' ><label for='attrs-dc38e06d-00e8-48bd-8e7d-d57d206c898d' title='Show/Hide attributes'><svg class='icon xr-icon-file-text2'><use xlink:href='#icon-file-text2'></use></svg></label><input id='data-1d387a5b-614b-4049-84b0-bdb87a2dc398' class='xr-var-data-in' type='checkbox'><label for='data-1d387a5b-614b-4049-84b0-bdb87a2dc398' title='Show/Hide data repr'><svg class='icon xr-icon-database'><use xlink:href='#icon-database'></use></svg></label><div class='xr-var-attrs'><dl class='xr-attrs'><dt><span>description :</span></dt><dd>Zooplankton carbon weight by cube meter of sea water during the day</dd><dt><span>units :</span></dt><dd>mg/m3</dd></dl></div><div class='xr-var-data'><pre>array([[[[       nan]]],\n",
       "\n",
       "\n",
       "       [[[0.964     ]]],\n",
       "\n",
       "\n",
       "       [[[0.712     ]]],\n",
       "\n",
       "\n",
       "       [[[       nan]]],\n",
       "\n",
       "\n",
       "       [[[1.042     ]]],\n",
       "\n",
       "\n",
       "       [[[       nan]]],\n",
       "\n",
       "\n",
       "       [[[0.484     ]]],\n",
       "\n",
       "...\n",
       "\n",
       "       [[[0.666     ]]],\n",
       "\n",
       "\n",
       "       [[[0.658     ]]],\n",
       "\n",
       "\n",
       "       [[[       nan]]],\n",
       "\n",
       "\n",
       "       [[[       nan]]],\n",
       "\n",
       "\n",
       "       [[[       nan]]],\n",
       "\n",
       "\n",
       "       [[[0.37      ]]],\n",
       "\n",
       "\n",
       "       [[[0.362     ]]]])</pre></div></li><li class='xr-var-item'><div class='xr-var-name'><span>night</span></div><div class='xr-var-dims'>(time, latitude, longitude, layer)</div><div class='xr-var-dtype'>float64</div><div class='xr-var-preview xr-preview'>1.108 nan 0.884 ... 0.586 nan 1.11</div><input id='attrs-02a01eb8-a642-4da5-8e3d-686a836ddd23' class='xr-var-attrs-in' type='checkbox' ><label for='attrs-02a01eb8-a642-4da5-8e3d-686a836ddd23' title='Show/Hide attributes'><svg class='icon xr-icon-file-text2'><use xlink:href='#icon-file-text2'></use></svg></label><input id='data-9dbc91be-b090-4aa0-b14b-08246bb1059f' class='xr-var-data-in' type='checkbox'><label for='data-9dbc91be-b090-4aa0-b14b-08246bb1059f' title='Show/Hide data repr'><svg class='icon xr-icon-database'><use xlink:href='#icon-database'></use></svg></label><div class='xr-var-attrs'><dl class='xr-attrs'><dt><span>description :</span></dt><dd>Zooplankton carbon weight by cube meter of sea water at night</dd><dt><span>units :</span></dt><dd>mg/m3</dd></dl></div><div class='xr-var-data'><pre>array([[[[1.108     ]]],\n",
       "\n",
       "\n",
       "       [[[       nan]]],\n",
       "\n",
       "\n",
       "       [[[0.884     ]]],\n",
       "\n",
       "\n",
       "       [[[1.348     ]]],\n",
       "\n",
       "\n",
       "       [[[1.258     ]]],\n",
       "\n",
       "\n",
       "       [[[0.774     ]]],\n",
       "\n",
       "\n",
       "       [[[0.512     ]]],\n",
       "\n",
       "...\n",
       "\n",
       "       [[[       nan]]],\n",
       "\n",
       "\n",
       "       [[[1.46      ]]],\n",
       "\n",
       "\n",
       "       [[[0.712     ]]],\n",
       "\n",
       "\n",
       "       [[[0.75      ]]],\n",
       "\n",
       "\n",
       "       [[[0.586     ]]],\n",
       "\n",
       "\n",
       "       [[[       nan]]],\n",
       "\n",
       "\n",
       "       [[[1.11      ]]]])</pre></div></li></ul></div></li><li class='xr-section-item'><input id='section-c910718c-a55e-4440-b7be-e31fda31c84e' class='xr-section-summary-in' type='checkbox'  ><label for='section-c910718c-a55e-4440-b7be-e31fda31c84e' class='xr-section-summary' >Indexes: <span>(4)</span></label><div class='xr-section-inline-details'></div><div class='xr-section-details'><ul class='xr-var-list'><li class='xr-var-item'><div class='xr-index-name'><div>latitude</div></div><div class='xr-index-preview'>PandasIndex</div><input type='checkbox' disabled/><label></label><input id='index-f947d889-faab-4319-a9ea-a088b35419a4' class='xr-index-data-in' type='checkbox'/><label for='index-f947d889-faab-4319-a9ea-a088b35419a4' title='Show/Hide index repr'><svg class='icon xr-icon-database'><use xlink:href='#icon-database'></use></svg></label><div class='xr-index-data'><pre>PandasIndex(Index([31.6], dtype=&#x27;float64&#x27;, name=&#x27;latitude&#x27;))</pre></div></li><li class='xr-var-item'><div class='xr-index-name'><div>layer</div></div><div class='xr-index-preview'>PandasIndex</div><input type='checkbox' disabled/><label></label><input id='index-f894c7d6-4223-49d8-82cc-bde6a3b639b6' class='xr-index-data-in' type='checkbox'/><label for='index-f894c7d6-4223-49d8-82cc-bde6a3b639b6' title='Show/Hide index repr'><svg class='icon xr-icon-database'><use xlink:href='#icon-database'></use></svg></label><div class='xr-index-data'><pre>PandasIndex(Index([0], dtype=&#x27;int64&#x27;, name=&#x27;layer&#x27;))</pre></div></li><li class='xr-var-item'><div class='xr-index-name'><div>longitude</div></div><div class='xr-index-preview'>PandasIndex</div><input type='checkbox' disabled/><label></label><input id='index-4ce77446-4ee8-487e-b101-3ce29a496f9a' class='xr-index-data-in' type='checkbox'/><label for='index-4ce77446-4ee8-487e-b101-3ce29a496f9a' title='Show/Hide index repr'><svg class='icon xr-icon-database'><use xlink:href='#icon-database'></use></svg></label><div class='xr-index-data'><pre>PandasIndex(Index([-64.2], dtype=&#x27;float64&#x27;, name=&#x27;longitude&#x27;))</pre></div></li><li class='xr-var-item'><div class='xr-index-name'><div>time</div></div><div class='xr-index-preview'>PandasIndex</div><input type='checkbox' disabled/><label></label><input id='index-68e7bb23-75eb-4b8c-b459-32bd6d4f1610' class='xr-index-data-in' type='checkbox'/><label for='index-68e7bb23-75eb-4b8c-b459-32bd6d4f1610' title='Show/Hide index repr'><svg class='icon xr-icon-database'><use xlink:href='#icon-database'></use></svg></label><div class='xr-index-data'><pre>PandasIndex(DatetimeIndex([&#x27;1995-05-10&#x27;, &#x27;1995-05-11&#x27;, &#x27;1995-06-13&#x27;, &#x27;1995-06-14&#x27;,\n",
       "               &#x27;1995-07-11&#x27;, &#x27;1995-08-18&#x27;, &#x27;1995-09-12&#x27;, &#x27;1995-10-10&#x27;,\n",
       "               &#x27;1995-11-06&#x27;, &#x27;1995-12-15&#x27;,\n",
       "               ...\n",
       "               &#x27;2022-05-23&#x27;, &#x27;2022-06-30&#x27;, &#x27;2022-07-15&#x27;, &#x27;2022-07-16&#x27;,\n",
       "               &#x27;2022-08-13&#x27;, &#x27;2022-09-17&#x27;, &#x27;2022-09-18&#x27;, &#x27;2022-11-23&#x27;,\n",
       "               &#x27;2022-11-24&#x27;, &#x27;2022-12-13&#x27;],\n",
       "              dtype=&#x27;datetime64[ns]&#x27;, name=&#x27;time&#x27;, length=538, freq=None))</pre></div></li></ul></div></li><li class='xr-section-item'><input id='section-03a3bfce-b825-43ba-9504-929cf3a5c0eb' class='xr-section-summary-in' type='checkbox'  checked><label for='section-03a3bfce-b825-43ba-9504-929cf3a5c0eb' class='xr-section-summary' >Attributes: <span>(3)</span></label><div class='xr-section-inline-details'></div><div class='xr-section-details'><dl class='xr-attrs'><dt><span>creation date :</span></dt><dd>2025-03-31T16:35:10.270720</dd><dt><span>layer :</span></dt><dd>epipelagic</dd><dt><span>station :</span></dt><dd>Bats</dd></dl></div></li></ul></div></div>"
      ],
      "text/plain": [
       "<xarray.Dataset> Size: 13kB\n",
       "Dimensions:    (time: 538, latitude: 1, longitude: 1, layer: 1)\n",
       "Coordinates:\n",
       "  * latitude   (latitude) float64 8B 31.6\n",
       "  * layer      (layer) int64 8B 0\n",
       "  * longitude  (longitude) float64 8B -64.2\n",
       "  * time       (time) datetime64[ns] 4kB 1995-05-10 1995-05-11 ... 2022-12-13\n",
       "Data variables:\n",
       "    day        (time, latitude, longitude, layer) float64 4kB nan ... 0.362\n",
       "    night      (time, latitude, longitude, layer) float64 4kB 1.108 nan ... 1.11\n",
       "Attributes:\n",
       "    creation date:  2025-03-31T16:35:10.270720\n",
       "    layer:          epipelagic\n",
       "    station:        Bats"
      ]
     },
     "execution_count": 3,
     "metadata": {},
     "output_type": "execute_result"
    }
   ],
   "source": [
    "data = xr.load_dataset(f\"../data/1_products/{station}_obs_filtered.zarr\", engine=\"zarr\")\n",
    "data"
   ]
  },
  {
   "cell_type": "code",
   "execution_count": 4,
   "metadata": {},
   "outputs": [],
   "source": [
    "with xr.set_options(keep_attrs=True):\n",
    "    layer = data.layer\n",
    "    data = data.mean(\"layer\")"
   ]
  },
  {
   "cell_type": "markdown",
   "metadata": {},
   "source": [
    "## Plot all observations\n"
   ]
  },
  {
   "cell_type": "code",
   "execution_count": 5,
   "metadata": {},
   "outputs": [],
   "source": [
    "data_df = data.mean([\"latitude\", \"longitude\"]).resample({\"time\": \"1MS\"}).mean().to_dataframe().dropna(how=\"all\")\n",
    "data_df = data_df.stack().rename(\"biomass\").reset_index().rename(columns={\"level_1\": \"is_day\"})\n",
    "data_df[\"year\"] = data_df[\"time\"].dt.year\n",
    "data_df[\"month\"] = data_df[\"time\"].dt.month"
   ]
  },
  {
   "cell_type": "code",
   "execution_count": 6,
   "metadata": {},
   "outputs": [
    {
     "data": {
      "application/vnd.plotly.v1+json": {
       "config": {
        "plotlyServerURL": "https://plot.ly"
       },
       "data": [
        {
         "alignmentgroup": "True",
         "boxpoints": "all",
         "fillcolor": "rgba(255,255,255,0)",
         "hoveron": "points",
         "hovertemplate": "year=1995<br>is_day=day<br>month=%{x}<br>biomass=%{y}<extra></extra>",
         "legendgroup": "1995",
         "line": {
          "color": "rgba(255,255,255,0)"
         },
         "marker": {
          "color": "#0d0887"
         },
         "name": "1995",
         "offsetgroup": "1995",
         "orientation": "v",
         "pointpos": 0,
         "showlegend": true,
         "type": "box",
         "x": [
          5,
          6,
          7,
          9,
          10,
          11,
          12
         ],
         "x0": " ",
         "xaxis": "x2",
         "y": [
          0.9640000000000001,
          0.712,
          1.042,
          0.484,
          0.37400000000000005,
          0.3440000000000001,
          0.384
         ],
         "y0": " ",
         "yaxis": "y2"
        },
        {
         "alignmentgroup": "True",
         "boxpoints": "all",
         "fillcolor": "rgba(255,255,255,0)",
         "hoveron": "points",
         "hovertemplate": "year=1995<br>is_day=night<br>month=%{x}<br>biomass=%{y}<extra></extra>",
         "legendgroup": "1995",
         "line": {
          "color": "rgba(255,255,255,0)"
         },
         "marker": {
          "color": "#0d0887"
         },
         "name": "1995",
         "offsetgroup": "1995",
         "orientation": "v",
         "pointpos": 0,
         "showlegend": false,
         "type": "box",
         "x": [
          5,
          6,
          7,
          8,
          9,
          10,
          12
         ],
         "x0": " ",
         "xaxis": "x",
         "y": [
          1.108,
          1.1159999999999999,
          1.2580000000000002,
          0.774,
          0.512,
          0.794,
          0.892
         ],
         "y0": " ",
         "yaxis": "y"
        },
        {
         "alignmentgroup": "True",
         "boxpoints": "all",
         "fillcolor": "rgba(255,255,255,0)",
         "hoveron": "points",
         "hovertemplate": "year=1996<br>is_day=day<br>month=%{x}<br>biomass=%{y}<extra></extra>",
         "legendgroup": "1996",
         "line": {
          "color": "rgba(255,255,255,0)"
         },
         "marker": {
          "color": "#240691"
         },
         "name": "1996",
         "offsetgroup": "1996",
         "orientation": "v",
         "pointpos": 0,
         "showlegend": true,
         "type": "box",
         "x": [
          1,
          2,
          3,
          4,
          5,
          6,
          7,
          8,
          9,
          10,
          11,
          12
         ],
         "x0": " ",
         "xaxis": "x2",
         "y": [
          0.504,
          0.496,
          0.589,
          1.762,
          0.794,
          0.476,
          1.184,
          0.6320000000000001,
          0.48,
          0.8700000000000001,
          0.7360000000000001,
          1.272
         ],
         "y0": " ",
         "yaxis": "y2"
        },
        {
         "alignmentgroup": "True",
         "boxpoints": "all",
         "fillcolor": "rgba(255,255,255,0)",
         "hoveron": "points",
         "hovertemplate": "year=1996<br>is_day=night<br>month=%{x}<br>biomass=%{y}<extra></extra>",
         "legendgroup": "1996",
         "line": {
          "color": "rgba(255,255,255,0)"
         },
         "marker": {
          "color": "#240691"
         },
         "name": "1996",
         "offsetgroup": "1996",
         "orientation": "v",
         "pointpos": 0,
         "showlegend": false,
         "type": "box",
         "x": [
          1,
          2,
          3,
          4,
          5,
          6,
          7,
          8,
          9,
          10,
          11,
          12
         ],
         "x0": " ",
         "xaxis": "x",
         "y": [
          0.5920000000000001,
          0.7789999999999999,
          0.8220000000000001,
          1.7730000000000001,
          0.9800000000000001,
          0.786,
          1.2040000000000002,
          1.0040000000000002,
          0.794,
          0.9159999999999999,
          0.6920000000000001,
          1.7620000000000002
         ],
         "y0": " ",
         "yaxis": "y"
        },
        {
         "alignmentgroup": "True",
         "boxpoints": "all",
         "fillcolor": "rgba(255,255,255,0)",
         "hoveron": "points",
         "hovertemplate": "year=1997<br>is_day=day<br>month=%{x}<br>biomass=%{y}<extra></extra>",
         "legendgroup": "1997",
         "line": {
          "color": "rgba(255,255,255,0)"
         },
         "marker": {
          "color": "#350498"
         },
         "name": "1997",
         "offsetgroup": "1997",
         "orientation": "v",
         "pointpos": 0,
         "showlegend": true,
         "type": "box",
         "x": [
          1,
          2,
          3,
          4,
          5,
          6,
          7,
          8,
          9,
          10,
          11,
          12
         ],
         "x0": " ",
         "xaxis": "x2",
         "y": [
          0.43,
          0.5940000000000001,
          0.539,
          0.79,
          0.91,
          1.242,
          0.6460000000000001,
          0.676,
          0.6140000000000001,
          0.622,
          0.778,
          0.9760000000000002
         ],
         "y0": " ",
         "yaxis": "y2"
        },
        {
         "alignmentgroup": "True",
         "boxpoints": "all",
         "fillcolor": "rgba(255,255,255,0)",
         "hoveron": "points",
         "hovertemplate": "year=1997<br>is_day=night<br>month=%{x}<br>biomass=%{y}<extra></extra>",
         "legendgroup": "1997",
         "line": {
          "color": "rgba(255,255,255,0)"
         },
         "marker": {
          "color": "#350498"
         },
         "name": "1997",
         "offsetgroup": "1997",
         "orientation": "v",
         "pointpos": 0,
         "showlegend": false,
         "type": "box",
         "x": [
          1,
          2,
          3,
          4,
          5,
          6,
          7,
          8,
          9,
          10,
          11,
          12
         ],
         "x0": " ",
         "xaxis": "x",
         "y": [
          0.8470000000000001,
          0.9560000000000002,
          0.887,
          1.242,
          1.662,
          1.94,
          1.292,
          1.2080000000000002,
          1.05,
          0.9120000000000001,
          0.7000000000000001,
          1.29
         ],
         "y0": " ",
         "yaxis": "y"
        },
        {
         "alignmentgroup": "True",
         "boxpoints": "all",
         "fillcolor": "rgba(255,255,255,0)",
         "hoveron": "points",
         "hovertemplate": "year=1998<br>is_day=day<br>month=%{x}<br>biomass=%{y}<extra></extra>",
         "legendgroup": "1998",
         "line": {
          "color": "rgba(255,255,255,0)"
         },
         "marker": {
          "color": "#46039f"
         },
         "name": "1998",
         "offsetgroup": "1998",
         "orientation": "v",
         "pointpos": 0,
         "showlegend": true,
         "type": "box",
         "x": [
          1,
          2,
          3,
          4,
          5,
          6,
          7,
          8,
          9,
          10,
          11,
          12
         ],
         "x0": " ",
         "xaxis": "x2",
         "y": [
          0.6819999999999999,
          0.883,
          1.324,
          0.884,
          0.47800000000000004,
          1.278,
          1.57,
          0.762,
          0.7220000000000001,
          0.35400000000000004,
          0.6960000000000001,
          0.496
         ],
         "y0": " ",
         "yaxis": "y2"
        },
        {
         "alignmentgroup": "True",
         "boxpoints": "all",
         "fillcolor": "rgba(255,255,255,0)",
         "hoveron": "points",
         "hovertemplate": "year=1998<br>is_day=night<br>month=%{x}<br>biomass=%{y}<extra></extra>",
         "legendgroup": "1998",
         "line": {
          "color": "rgba(255,255,255,0)"
         },
         "marker": {
          "color": "#46039f"
         },
         "name": "1998",
         "offsetgroup": "1998",
         "orientation": "v",
         "pointpos": 0,
         "showlegend": false,
         "type": "box",
         "x": [
          1,
          2,
          3,
          4,
          5,
          6,
          7,
          8,
          9,
          10,
          11,
          12
         ],
         "x0": " ",
         "xaxis": "x",
         "y": [
          0.8660000000000001,
          1.995,
          1.852,
          1.8060000000000003,
          1.1660000000000001,
          1.8240000000000003,
          2.174,
          0.676,
          0.626,
          0.738,
          1.02,
          0.8260000000000001
         ],
         "y0": " ",
         "yaxis": "y"
        },
        {
         "alignmentgroup": "True",
         "boxpoints": "all",
         "fillcolor": "rgba(255,255,255,0)",
         "hoveron": "points",
         "hovertemplate": "year=1999<br>is_day=day<br>month=%{x}<br>biomass=%{y}<extra></extra>",
         "legendgroup": "1999",
         "line": {
          "color": "rgba(255,255,255,0)"
         },
         "marker": {
          "color": "#5502a4"
         },
         "name": "1999",
         "offsetgroup": "1999",
         "orientation": "v",
         "pointpos": 0,
         "showlegend": true,
         "type": "box",
         "x": [
          1,
          2,
          3,
          4,
          5,
          6,
          7,
          9,
          10,
          11,
          12
         ],
         "x0": " ",
         "xaxis": "x2",
         "y": [
          0.22499999999999998,
          0.685,
          1.3360000000000003,
          1.168,
          0.588,
          1.834,
          0.45599999999999996,
          0.56,
          0.5780000000000002,
          0.624,
          0.36800000000000005
         ],
         "y0": " ",
         "yaxis": "y2"
        },
        {
         "alignmentgroup": "True",
         "boxpoints": "all",
         "fillcolor": "rgba(255,255,255,0)",
         "hoveron": "points",
         "hovertemplate": "year=1999<br>is_day=night<br>month=%{x}<br>biomass=%{y}<extra></extra>",
         "legendgroup": "1999",
         "line": {
          "color": "rgba(255,255,255,0)"
         },
         "marker": {
          "color": "#5502a4"
         },
         "name": "1999",
         "offsetgroup": "1999",
         "orientation": "v",
         "pointpos": 0,
         "showlegend": false,
         "type": "box",
         "x": [
          1,
          2,
          3,
          4,
          5,
          6,
          7,
          8,
          9,
          10,
          11,
          12
         ],
         "x0": " ",
         "xaxis": "x",
         "y": [
          0.5786666666666666,
          1.266,
          2.4240000000000004,
          2.234,
          1.486,
          2.1950000000000003,
          0.768,
          0.916,
          1.262,
          0.892,
          0.714,
          1.062
         ],
         "y0": " ",
         "yaxis": "y"
        },
        {
         "alignmentgroup": "True",
         "boxpoints": "all",
         "fillcolor": "rgba(255,255,255,0)",
         "hoveron": "points",
         "hovertemplate": "year=2000<br>is_day=day<br>month=%{x}<br>biomass=%{y}<extra></extra>",
         "legendgroup": "2000",
         "line": {
          "color": "rgba(255,255,255,0)"
         },
         "marker": {
          "color": "#6400a7"
         },
         "name": "2000",
         "offsetgroup": "2000",
         "orientation": "v",
         "pointpos": 0,
         "showlegend": true,
         "type": "box",
         "x": [
          4,
          6,
          7,
          8,
          9,
          10,
          11,
          12
         ],
         "x0": " ",
         "xaxis": "x2",
         "y": [
          0.926,
          0.524,
          0.564,
          0.696,
          0.764,
          0.36800000000000005,
          0.778,
          0.45999999999999996
         ],
         "y0": " ",
         "yaxis": "y2"
        },
        {
         "alignmentgroup": "True",
         "boxpoints": "all",
         "fillcolor": "rgba(255,255,255,0)",
         "hoveron": "points",
         "hovertemplate": "year=2000<br>is_day=night<br>month=%{x}<br>biomass=%{y}<extra></extra>",
         "legendgroup": "2000",
         "line": {
          "color": "rgba(255,255,255,0)"
         },
         "marker": {
          "color": "#6400a7"
         },
         "name": "2000",
         "offsetgroup": "2000",
         "orientation": "v",
         "pointpos": 0,
         "showlegend": false,
         "type": "box",
         "x": [
          2,
          4,
          6,
          7,
          8,
          9,
          10,
          11,
          12
         ],
         "x0": " ",
         "xaxis": "x",
         "y": [
          0.916,
          1.876,
          1.046,
          1.3559999999999999,
          0.984,
          0.838,
          0.734,
          0.9240000000000003,
          1.2520000000000002
         ],
         "y0": " ",
         "yaxis": "y"
        },
        {
         "alignmentgroup": "True",
         "boxpoints": "all",
         "fillcolor": "rgba(255,255,255,0)",
         "hoveron": "points",
         "hovertemplate": "year=2001<br>is_day=day<br>month=%{x}<br>biomass=%{y}<extra></extra>",
         "legendgroup": "2001",
         "line": {
          "color": "rgba(255,255,255,0)"
         },
         "marker": {
          "color": "#7201a8"
         },
         "name": "2001",
         "offsetgroup": "2001",
         "orientation": "v",
         "pointpos": 0,
         "showlegend": true,
         "type": "box",
         "x": [
          2,
          3,
          4,
          5,
          6,
          7,
          9,
          10,
          11,
          12
         ],
         "x0": " ",
         "xaxis": "x2",
         "y": [
          0.9899999999999999,
          1.0979999999999999,
          0.55,
          0.8960000000000001,
          0.594,
          0.9460000000000002,
          0.512,
          0.5980000000000001,
          0.472,
          0.6140000000000001
         ],
         "y0": " ",
         "yaxis": "y2"
        },
        {
         "alignmentgroup": "True",
         "boxpoints": "all",
         "fillcolor": "rgba(255,255,255,0)",
         "hoveron": "points",
         "hovertemplate": "year=2001<br>is_day=night<br>month=%{x}<br>biomass=%{y}<extra></extra>",
         "legendgroup": "2001",
         "line": {
          "color": "rgba(255,255,255,0)"
         },
         "marker": {
          "color": "#7201a8"
         },
         "name": "2001",
         "offsetgroup": "2001",
         "orientation": "v",
         "pointpos": 0,
         "showlegend": false,
         "type": "box",
         "x": [
          2,
          3,
          4,
          5,
          6,
          7,
          9,
          10,
          11,
          12
         ],
         "x0": " ",
         "xaxis": "x",
         "y": [
          1.5579999999999998,
          1.6310000000000002,
          1.766,
          1.554,
          0.754,
          2.132,
          1.334,
          0.992,
          0.7800000000000001,
          0.756
         ],
         "y0": " ",
         "yaxis": "y"
        },
        {
         "alignmentgroup": "True",
         "boxpoints": "all",
         "fillcolor": "rgba(255,255,255,0)",
         "hoveron": "points",
         "hovertemplate": "year=2002<br>is_day=day<br>month=%{x}<br>biomass=%{y}<extra></extra>",
         "legendgroup": "2002",
         "line": {
          "color": "rgba(255,255,255,0)"
         },
         "marker": {
          "color": "#8104a7"
         },
         "name": "2002",
         "offsetgroup": "2002",
         "orientation": "v",
         "pointpos": 0,
         "showlegend": true,
         "type": "box",
         "x": [
          1,
          2,
          3,
          4,
          5,
          6,
          7,
          8,
          9,
          10,
          11,
          12
         ],
         "x0": " ",
         "xaxis": "x2",
         "y": [
          0.5240000000000001,
          0.788,
          0.952,
          1.0230000000000001,
          0.588,
          0.528,
          0.8119999999999999,
          0.774,
          1.048,
          0.808,
          0.6320000000000001,
          0.638
         ],
         "y0": " ",
         "yaxis": "y2"
        },
        {
         "alignmentgroup": "True",
         "boxpoints": "all",
         "fillcolor": "rgba(255,255,255,0)",
         "hoveron": "points",
         "hovertemplate": "year=2002<br>is_day=night<br>month=%{x}<br>biomass=%{y}<extra></extra>",
         "legendgroup": "2002",
         "line": {
          "color": "rgba(255,255,255,0)"
         },
         "marker": {
          "color": "#8104a7"
         },
         "name": "2002",
         "offsetgroup": "2002",
         "orientation": "v",
         "pointpos": 0,
         "showlegend": false,
         "type": "box",
         "x": [
          1,
          2,
          3,
          4,
          5,
          6,
          7,
          8,
          9,
          10,
          11,
          12
         ],
         "x0": " ",
         "xaxis": "x",
         "y": [
          1.318,
          1.4300000000000002,
          1.491,
          1.266,
          2.15,
          1.2220000000000002,
          1.2720000000000002,
          1.7320000000000002,
          1.566,
          1.176,
          1.04,
          1.6940000000000002
         ],
         "y0": " ",
         "yaxis": "y"
        },
        {
         "alignmentgroup": "True",
         "boxpoints": "all",
         "fillcolor": "rgba(255,255,255,0)",
         "hoveron": "points",
         "hovertemplate": "year=2003<br>is_day=day<br>month=%{x}<br>biomass=%{y}<extra></extra>",
         "legendgroup": "2003",
         "line": {
          "color": "rgba(255,255,255,0)"
         },
         "marker": {
          "color": "#8e0ca4"
         },
         "name": "2003",
         "offsetgroup": "2003",
         "orientation": "v",
         "pointpos": 0,
         "showlegend": true,
         "type": "box",
         "x": [
          2,
          3,
          4,
          5,
          7,
          8,
          9,
          10,
          11,
          12
         ],
         "x0": " ",
         "xaxis": "x2",
         "y": [
          0.994,
          1.187,
          1.0130000000000001,
          0.6480000000000001,
          0.8620000000000001,
          0.9819999999999999,
          1.3719999999999999,
          0.8800000000000001,
          0.508,
          0.374
         ],
         "y0": " ",
         "yaxis": "y2"
        },
        {
         "alignmentgroup": "True",
         "boxpoints": "all",
         "fillcolor": "rgba(255,255,255,0)",
         "hoveron": "points",
         "hovertemplate": "year=2003<br>is_day=night<br>month=%{x}<br>biomass=%{y}<extra></extra>",
         "legendgroup": "2003",
         "line": {
          "color": "rgba(255,255,255,0)"
         },
         "marker": {
          "color": "#8e0ca4"
         },
         "name": "2003",
         "offsetgroup": "2003",
         "orientation": "v",
         "pointpos": 0,
         "showlegend": false,
         "type": "box",
         "x": [
          1,
          2,
          3,
          4,
          7,
          8,
          9,
          10,
          11,
          12
         ],
         "x0": " ",
         "xaxis": "x",
         "y": [
          1.0399999999999998,
          1.834,
          2.351,
          1.693,
          1.6920000000000002,
          1.508,
          1.768,
          1.3260000000000003,
          0.7580000000000001,
          0.802
         ],
         "y0": " ",
         "yaxis": "y"
        },
        {
         "alignmentgroup": "True",
         "boxpoints": "all",
         "fillcolor": "rgba(255,255,255,0)",
         "hoveron": "points",
         "hovertemplate": "year=2004<br>is_day=day<br>month=%{x}<br>biomass=%{y}<extra></extra>",
         "legendgroup": "2004",
         "line": {
          "color": "rgba(255,255,255,0)"
         },
         "marker": {
          "color": "#9c179e"
         },
         "name": "2004",
         "offsetgroup": "2004",
         "orientation": "v",
         "pointpos": 0,
         "showlegend": true,
         "type": "box",
         "x": [
          1,
          2,
          4,
          5,
          6,
          9,
          10,
          11,
          12
         ],
         "x0": " ",
         "xaxis": "x2",
         "y": [
          0.664,
          1.514,
          1.6090000000000002,
          0.87,
          0.7040000000000001,
          0.752,
          0.44000000000000006,
          0.5940000000000001,
          0.628
         ],
         "y0": " ",
         "yaxis": "y2"
        },
        {
         "alignmentgroup": "True",
         "boxpoints": "all",
         "fillcolor": "rgba(255,255,255,0)",
         "hoveron": "points",
         "hovertemplate": "year=2004<br>is_day=night<br>month=%{x}<br>biomass=%{y}<extra></extra>",
         "legendgroup": "2004",
         "line": {
          "color": "rgba(255,255,255,0)"
         },
         "marker": {
          "color": "#9c179e"
         },
         "name": "2004",
         "offsetgroup": "2004",
         "orientation": "v",
         "pointpos": 0,
         "showlegend": false,
         "type": "box",
         "x": [
          2,
          3,
          4,
          5,
          6,
          9,
          10,
          11,
          12
         ],
         "x0": " ",
         "xaxis": "x",
         "y": [
          2.386,
          2.5060000000000002,
          3.3160000000000007,
          1.3599999999999999,
          1.54,
          1.596,
          0.674,
          1.374,
          1.312
         ],
         "y0": " ",
         "yaxis": "y"
        },
        {
         "alignmentgroup": "True",
         "boxpoints": "all",
         "fillcolor": "rgba(255,255,255,0)",
         "hoveron": "points",
         "hovertemplate": "year=2005<br>is_day=day<br>month=%{x}<br>biomass=%{y}<extra></extra>",
         "legendgroup": "2005",
         "line": {
          "color": "rgba(255,255,255,0)"
         },
         "marker": {
          "color": "#a72197"
         },
         "name": "2005",
         "offsetgroup": "2005",
         "orientation": "v",
         "pointpos": 0,
         "showlegend": true,
         "type": "box",
         "x": [
          1,
          2,
          3,
          4,
          5,
          6,
          7,
          8,
          9,
          10,
          11
         ],
         "x0": " ",
         "xaxis": "x2",
         "y": [
          0.56,
          1.282,
          1.5630000000000002,
          1.355,
          1.2180000000000002,
          0.8240000000000001,
          0.67,
          0.598,
          0.802,
          0.5040000000000001,
          0.5720000000000001
         ],
         "y0": " ",
         "yaxis": "y2"
        },
        {
         "alignmentgroup": "True",
         "boxpoints": "all",
         "fillcolor": "rgba(255,255,255,0)",
         "hoveron": "points",
         "hovertemplate": "year=2005<br>is_day=night<br>month=%{x}<br>biomass=%{y}<extra></extra>",
         "legendgroup": "2005",
         "line": {
          "color": "rgba(255,255,255,0)"
         },
         "marker": {
          "color": "#a72197"
         },
         "name": "2005",
         "offsetgroup": "2005",
         "orientation": "v",
         "pointpos": 0,
         "showlegend": false,
         "type": "box",
         "x": [
          1,
          2,
          3,
          4,
          5,
          6,
          7,
          8,
          10,
          12
         ],
         "x0": " ",
         "xaxis": "x",
         "y": [
          0.7000000000000001,
          2.162666666666667,
          2.652,
          2.3720000000000003,
          2.3920000000000003,
          1.068,
          0.63,
          1.5180000000000002,
          0.7600000000000001,
          0.744
         ],
         "y0": " ",
         "yaxis": "y"
        },
        {
         "alignmentgroup": "True",
         "boxpoints": "all",
         "fillcolor": "rgba(255,255,255,0)",
         "hoveron": "points",
         "hovertemplate": "year=2006<br>is_day=day<br>month=%{x}<br>biomass=%{y}<extra></extra>",
         "legendgroup": "2006",
         "line": {
          "color": "rgba(255,255,255,0)"
         },
         "marker": {
          "color": "#b32c8e"
         },
         "name": "2006",
         "offsetgroup": "2006",
         "orientation": "v",
         "pointpos": 0,
         "showlegend": true,
         "type": "box",
         "x": [
          1,
          2,
          5,
          7,
          8,
          10,
          11,
          12
         ],
         "x0": " ",
         "xaxis": "x2",
         "y": [
          1.442,
          1.306,
          0.6859999999999999,
          0.606,
          0.868,
          0.8579999999999999,
          0.5180000000000001,
          0.42000000000000004
         ],
         "y0": " ",
         "yaxis": "y2"
        },
        {
         "alignmentgroup": "True",
         "boxpoints": "all",
         "fillcolor": "rgba(255,255,255,0)",
         "hoveron": "points",
         "hovertemplate": "year=2006<br>is_day=night<br>month=%{x}<br>biomass=%{y}<extra></extra>",
         "legendgroup": "2006",
         "line": {
          "color": "rgba(255,255,255,0)"
         },
         "marker": {
          "color": "#b32c8e"
         },
         "name": "2006",
         "offsetgroup": "2006",
         "orientation": "v",
         "pointpos": 0,
         "showlegend": false,
         "type": "box",
         "x": [
          1,
          2,
          4,
          6,
          7,
          8,
          10,
          11,
          12
         ],
         "x0": " ",
         "xaxis": "x",
         "y": [
          0.9440000000000002,
          2.5973333333333333,
          2.948,
          0.7100000000000001,
          1.052,
          1.122,
          1.1640000000000001,
          1.094,
          0.9
         ],
         "y0": " ",
         "yaxis": "y"
        },
        {
         "alignmentgroup": "True",
         "boxpoints": "all",
         "fillcolor": "rgba(255,255,255,0)",
         "hoveron": "points",
         "hovertemplate": "year=2007<br>is_day=day<br>month=%{x}<br>biomass=%{y}<extra></extra>",
         "legendgroup": "2007",
         "line": {
          "color": "rgba(255,255,255,0)"
         },
         "marker": {
          "color": "#bd3786"
         },
         "name": "2007",
         "offsetgroup": "2007",
         "orientation": "v",
         "pointpos": 0,
         "showlegend": true,
         "type": "box",
         "x": [
          2,
          3,
          4,
          5,
          6,
          7,
          8,
          11,
          12
         ],
         "x0": " ",
         "xaxis": "x2",
         "y": [
          0.7010000000000001,
          1.4680000000000002,
          0.7010000000000001,
          0.7000000000000001,
          0.5880000000000001,
          0.9320000000000003,
          0.526,
          0.902,
          0.45599999999999996
         ],
         "y0": " ",
         "yaxis": "y2"
        },
        {
         "alignmentgroup": "True",
         "boxpoints": "all",
         "fillcolor": "rgba(255,255,255,0)",
         "hoveron": "points",
         "hovertemplate": "year=2007<br>is_day=night<br>month=%{x}<br>biomass=%{y}<extra></extra>",
         "legendgroup": "2007",
         "line": {
          "color": "rgba(255,255,255,0)"
         },
         "marker": {
          "color": "#bd3786"
         },
         "name": "2007",
         "offsetgroup": "2007",
         "orientation": "v",
         "pointpos": 0,
         "showlegend": false,
         "type": "box",
         "x": [
          1,
          2,
          3,
          4,
          5,
          6,
          7,
          8,
          9,
          11,
          12
         ],
         "x0": " ",
         "xaxis": "x",
         "y": [
          0.8800000000000001,
          1.7900000000000003,
          1.7240000000000002,
          1.653,
          1.084,
          1.0200000000000002,
          1.568,
          1.154,
          1.7600000000000002,
          0.666,
          0.8560000000000001
         ],
         "y0": " ",
         "yaxis": "y"
        },
        {
         "alignmentgroup": "True",
         "boxpoints": "all",
         "fillcolor": "rgba(255,255,255,0)",
         "hoveron": "points",
         "hovertemplate": "year=2008<br>is_day=day<br>month=%{x}<br>biomass=%{y}<extra></extra>",
         "legendgroup": "2008",
         "line": {
          "color": "rgba(255,255,255,0)"
         },
         "marker": {
          "color": "#c7427c"
         },
         "name": "2008",
         "offsetgroup": "2008",
         "orientation": "v",
         "pointpos": 0,
         "showlegend": true,
         "type": "box",
         "x": [
          1,
          2,
          3,
          4,
          5,
          7,
          8,
          9,
          10
         ],
         "x0": " ",
         "xaxis": "x2",
         "y": [
          1.176,
          0.6720000000000002,
          0.8859999999999999,
          0.08000000000000002,
          1.7460000000000002,
          0.568,
          0.5980000000000001,
          0.59,
          0.588
         ],
         "y0": " ",
         "yaxis": "y2"
        },
        {
         "alignmentgroup": "True",
         "boxpoints": "all",
         "fillcolor": "rgba(255,255,255,0)",
         "hoveron": "points",
         "hovertemplate": "year=2008<br>is_day=night<br>month=%{x}<br>biomass=%{y}<extra></extra>",
         "legendgroup": "2008",
         "line": {
          "color": "rgba(255,255,255,0)"
         },
         "marker": {
          "color": "#c7427c"
         },
         "name": "2008",
         "offsetgroup": "2008",
         "orientation": "v",
         "pointpos": 0,
         "showlegend": false,
         "type": "box",
         "x": [
          1,
          2,
          3,
          4,
          5,
          6,
          7,
          8,
          9,
          10
         ],
         "x0": " ",
         "xaxis": "x",
         "y": [
          1.2780000000000002,
          1.242,
          1.348,
          0.944,
          3.04,
          0.9319999999999999,
          2.406,
          1.1740000000000002,
          1.3020000000000003,
          1.03
         ],
         "y0": " ",
         "yaxis": "y"
        },
        {
         "alignmentgroup": "True",
         "boxpoints": "all",
         "fillcolor": "rgba(255,255,255,0)",
         "hoveron": "points",
         "hovertemplate": "year=2009<br>is_day=day<br>month=%{x}<br>biomass=%{y}<extra></extra>",
         "legendgroup": "2009",
         "line": {
          "color": "rgba(255,255,255,0)"
         },
         "marker": {
          "color": "#cf4c74"
         },
         "name": "2009",
         "offsetgroup": "2009",
         "orientation": "v",
         "pointpos": 0,
         "showlegend": true,
         "type": "box",
         "x": [
          2,
          3,
          4,
          6,
          7,
          8,
          9,
          10,
          11,
          12
         ],
         "x0": " ",
         "xaxis": "x2",
         "y": [
          0.8480000000000001,
          1.0630000000000002,
          0.4340000000000001,
          0.9273333333333333,
          1.068,
          1.1260000000000001,
          0.7240000000000001,
          0.66,
          0.7080000000000001,
          0.4960000000000001
         ],
         "y0": " ",
         "yaxis": "y2"
        },
        {
         "alignmentgroup": "True",
         "boxpoints": "all",
         "fillcolor": "rgba(255,255,255,0)",
         "hoveron": "points",
         "hovertemplate": "year=2009<br>is_day=night<br>month=%{x}<br>biomass=%{y}<extra></extra>",
         "legendgroup": "2009",
         "line": {
          "color": "rgba(255,255,255,0)"
         },
         "marker": {
          "color": "#cf4c74"
         },
         "name": "2009",
         "offsetgroup": "2009",
         "orientation": "v",
         "pointpos": 0,
         "showlegend": false,
         "type": "box",
         "x": [
          3,
          6,
          7,
          8,
          9,
          10,
          11,
          12
         ],
         "x0": " ",
         "xaxis": "x",
         "y": [
          1.602,
          1.1697777777777778,
          1.242,
          1.736,
          1.102,
          1.7939999999999998,
          1.0360000000000003,
          1.578
         ],
         "y0": " ",
         "yaxis": "y"
        },
        {
         "alignmentgroup": "True",
         "boxpoints": "all",
         "fillcolor": "rgba(255,255,255,0)",
         "hoveron": "points",
         "hovertemplate": "year=2010<br>is_day=day<br>month=%{x}<br>biomass=%{y}<extra></extra>",
         "legendgroup": "2010",
         "line": {
          "color": "rgba(255,255,255,0)"
         },
         "marker": {
          "color": "#d8576b"
         },
         "name": "2010",
         "offsetgroup": "2010",
         "orientation": "v",
         "pointpos": 0,
         "showlegend": true,
         "type": "box",
         "x": [
          2,
          3,
          4,
          5,
          6,
          7,
          9,
          10,
          11,
          12
         ],
         "x0": " ",
         "xaxis": "x2",
         "y": [
          0.47000000000000003,
          1.722,
          0.35900000000000004,
          1.942,
          1.0260000000000002,
          0.46799999999999997,
          1.1600000000000001,
          1.6280000000000001,
          0.7020000000000001,
          0.868
         ],
         "y0": " ",
         "yaxis": "y2"
        },
        {
         "alignmentgroup": "True",
         "boxpoints": "all",
         "fillcolor": "rgba(255,255,255,0)",
         "hoveron": "points",
         "hovertemplate": "year=2010<br>is_day=night<br>month=%{x}<br>biomass=%{y}<extra></extra>",
         "legendgroup": "2010",
         "line": {
          "color": "rgba(255,255,255,0)"
         },
         "marker": {
          "color": "#d8576b"
         },
         "name": "2010",
         "offsetgroup": "2010",
         "orientation": "v",
         "pointpos": 0,
         "showlegend": false,
         "type": "box",
         "x": [
          3,
          4,
          5,
          6,
          7,
          9,
          10,
          11,
          12
         ],
         "x0": " ",
         "xaxis": "x",
         "y": [
          1.9960000000000002,
          1.2580000000000002,
          3.3440000000000007,
          0.376,
          0.8300000000000001,
          1.368,
          2.2,
          0.994,
          1.4240000000000002
         ],
         "y0": " ",
         "yaxis": "y"
        },
        {
         "alignmentgroup": "True",
         "boxpoints": "all",
         "fillcolor": "rgba(255,255,255,0)",
         "hoveron": "points",
         "hovertemplate": "year=2011<br>is_day=day<br>month=%{x}<br>biomass=%{y}<extra></extra>",
         "legendgroup": "2011",
         "line": {
          "color": "rgba(255,255,255,0)"
         },
         "marker": {
          "color": "#df6263"
         },
         "name": "2011",
         "offsetgroup": "2011",
         "orientation": "v",
         "pointpos": 0,
         "showlegend": true,
         "type": "box",
         "x": [
          3,
          4,
          5,
          6,
          7,
          8,
          9,
          11,
          12
         ],
         "x0": " ",
         "xaxis": "x2",
         "y": [
          1.0399999999999998,
          1.6839999999999997,
          1.4640000000000004,
          1.1500000000000001,
          1.55,
          0.6400000000000001,
          1.04,
          0.887,
          0.69
         ],
         "y0": " ",
         "yaxis": "y2"
        },
        {
         "alignmentgroup": "True",
         "boxpoints": "all",
         "fillcolor": "rgba(255,255,255,0)",
         "hoveron": "points",
         "hovertemplate": "year=2011<br>is_day=night<br>month=%{x}<br>biomass=%{y}<extra></extra>",
         "legendgroup": "2011",
         "line": {
          "color": "rgba(255,255,255,0)"
         },
         "marker": {
          "color": "#df6263"
         },
         "name": "2011",
         "offsetgroup": "2011",
         "orientation": "v",
         "pointpos": 0,
         "showlegend": false,
         "type": "box",
         "x": [
          3,
          4,
          6,
          7,
          8,
          9,
          11,
          12
         ],
         "x0": " ",
         "xaxis": "x",
         "y": [
          2.348,
          2.988,
          2.2659999999999996,
          2.046,
          1.0239999999999998,
          1.784,
          1.4340000000000002,
          0.9300000000000002
         ],
         "y0": " ",
         "yaxis": "y"
        },
        {
         "alignmentgroup": "True",
         "boxpoints": "all",
         "fillcolor": "rgba(255,255,255,0)",
         "hoveron": "points",
         "hovertemplate": "year=2012<br>is_day=day<br>month=%{x}<br>biomass=%{y}<extra></extra>",
         "legendgroup": "2012",
         "line": {
          "color": "rgba(255,255,255,0)"
         },
         "marker": {
          "color": "#e76e5b"
         },
         "name": "2012",
         "offsetgroup": "2012",
         "orientation": "v",
         "pointpos": 0,
         "showlegend": true,
         "type": "box",
         "x": [
          1,
          2,
          3,
          4,
          5,
          6,
          7,
          8,
          9,
          10,
          11,
          12
         ],
         "x0": " ",
         "xaxis": "x2",
         "y": [
          1.186,
          1.2460000000000004,
          1.4460000000000002,
          1.1380000000000003,
          1.2720000000000002,
          0.9340000000000002,
          1.176,
          1.054,
          0.5540000000000002,
          0.9620000000000002,
          1.352,
          1.0040000000000002
         ],
         "y0": " ",
         "yaxis": "y2"
        },
        {
         "alignmentgroup": "True",
         "boxpoints": "all",
         "fillcolor": "rgba(255,255,255,0)",
         "hoveron": "points",
         "hovertemplate": "year=2012<br>is_day=night<br>month=%{x}<br>biomass=%{y}<extra></extra>",
         "legendgroup": "2012",
         "line": {
          "color": "rgba(255,255,255,0)"
         },
         "marker": {
          "color": "#e76e5b"
         },
         "name": "2012",
         "offsetgroup": "2012",
         "orientation": "v",
         "pointpos": 0,
         "showlegend": false,
         "type": "box",
         "x": [
          1,
          2,
          3,
          4,
          5,
          6,
          7,
          8,
          9,
          10,
          11,
          12
         ],
         "x0": " ",
         "xaxis": "x",
         "y": [
          1.596,
          1.658,
          1.56,
          2.7470000000000003,
          2.4080000000000004,
          1.56,
          3.0540000000000003,
          1.9080000000000004,
          1.05,
          1.038,
          1.3399999999999999,
          1.7919999999999998
         ],
         "y0": " ",
         "yaxis": "y"
        },
        {
         "alignmentgroup": "True",
         "boxpoints": "all",
         "fillcolor": "rgba(255,255,255,0)",
         "hoveron": "points",
         "hovertemplate": "year=2013<br>is_day=day<br>month=%{x}<br>biomass=%{y}<extra></extra>",
         "legendgroup": "2013",
         "line": {
          "color": "rgba(255,255,255,0)"
         },
         "marker": {
          "color": "#ed7953"
         },
         "name": "2013",
         "offsetgroup": "2013",
         "orientation": "v",
         "pointpos": 0,
         "showlegend": true,
         "type": "box",
         "x": [
          1,
          2,
          3,
          4,
          5,
          6,
          7,
          8,
          9,
          10,
          11,
          12
         ],
         "x0": " ",
         "xaxis": "x2",
         "y": [
          1.366,
          1.739,
          0.9500000000000001,
          1.2090000000000003,
          0.7160000000000001,
          1.428,
          1.428,
          1.6830000000000003,
          0.782,
          0.7280000000000001,
          0.7740000000000001,
          0.788
         ],
         "y0": " ",
         "yaxis": "y2"
        },
        {
         "alignmentgroup": "True",
         "boxpoints": "all",
         "fillcolor": "rgba(255,255,255,0)",
         "hoveron": "points",
         "hovertemplate": "year=2013<br>is_day=night<br>month=%{x}<br>biomass=%{y}<extra></extra>",
         "legendgroup": "2013",
         "line": {
          "color": "rgba(255,255,255,0)"
         },
         "marker": {
          "color": "#ed7953"
         },
         "name": "2013",
         "offsetgroup": "2013",
         "orientation": "v",
         "pointpos": 0,
         "showlegend": false,
         "type": "box",
         "x": [
          1,
          2,
          3,
          4,
          5,
          6,
          7,
          8,
          9,
          10,
          11,
          12
         ],
         "x0": " ",
         "xaxis": "x",
         "y": [
          1.892,
          2.394,
          2.1253333333333337,
          1.74,
          1.33,
          1.5180000000000002,
          2.076,
          2.152,
          1.508,
          1.3600000000000003,
          1.4120000000000001,
          0.9460000000000002
         ],
         "y0": " ",
         "yaxis": "y"
        },
        {
         "alignmentgroup": "True",
         "boxpoints": "all",
         "fillcolor": "rgba(255,255,255,0)",
         "hoveron": "points",
         "hovertemplate": "year=2014<br>is_day=day<br>month=%{x}<br>biomass=%{y}<extra></extra>",
         "legendgroup": "2014",
         "line": {
          "color": "rgba(255,255,255,0)"
         },
         "marker": {
          "color": "#f3854b"
         },
         "name": "2014",
         "offsetgroup": "2014",
         "orientation": "v",
         "pointpos": 0,
         "showlegend": true,
         "type": "box",
         "x": [
          3,
          4,
          6,
          7,
          8,
          9,
          10,
          11,
          12
         ],
         "x0": " ",
         "xaxis": "x2",
         "y": [
          1.8439999999999999,
          0.9390000000000001,
          1.556,
          1.94,
          0.8580000000000001,
          0.6160000000000001,
          0.748,
          0.5300000000000001,
          0.3600000000000001
         ],
         "y0": " ",
         "yaxis": "y2"
        },
        {
         "alignmentgroup": "True",
         "boxpoints": "all",
         "fillcolor": "rgba(255,255,255,0)",
         "hoveron": "points",
         "hovertemplate": "year=2014<br>is_day=night<br>month=%{x}<br>biomass=%{y}<extra></extra>",
         "legendgroup": "2014",
         "line": {
          "color": "rgba(255,255,255,0)"
         },
         "marker": {
          "color": "#f3854b"
         },
         "name": "2014",
         "offsetgroup": "2014",
         "orientation": "v",
         "pointpos": 0,
         "showlegend": false,
         "type": "box",
         "x": [
          3,
          4,
          8,
          9,
          10,
          11,
          12
         ],
         "x0": " ",
         "xaxis": "x",
         "y": [
          2.5820000000000003,
          1.835,
          1.6880000000000004,
          1.11,
          1.198,
          0.8,
          1.1340000000000001
         ],
         "y0": " ",
         "yaxis": "y"
        },
        {
         "alignmentgroup": "True",
         "boxpoints": "all",
         "fillcolor": "rgba(255,255,255,0)",
         "hoveron": "points",
         "hovertemplate": "year=2015<br>is_day=day<br>month=%{x}<br>biomass=%{y}<extra></extra>",
         "legendgroup": "2015",
         "line": {
          "color": "rgba(255,255,255,0)"
         },
         "marker": {
          "color": "#f79143"
         },
         "name": "2015",
         "offsetgroup": "2015",
         "orientation": "v",
         "pointpos": 0,
         "showlegend": true,
         "type": "box",
         "x": [
          2,
          4,
          6,
          7,
          8,
          9,
          11,
          12
         ],
         "x0": " ",
         "xaxis": "x2",
         "y": [
          0.617,
          0.8480000000000001,
          0.626,
          0.8580000000000002,
          1.3820000000000001,
          1.2560000000000002,
          0.5680000000000001,
          0.512
         ],
         "y0": " ",
         "yaxis": "y2"
        },
        {
         "alignmentgroup": "True",
         "boxpoints": "all",
         "fillcolor": "rgba(255,255,255,0)",
         "hoveron": "points",
         "hovertemplate": "year=2015<br>is_day=night<br>month=%{x}<br>biomass=%{y}<extra></extra>",
         "legendgroup": "2015",
         "line": {
          "color": "rgba(255,255,255,0)"
         },
         "marker": {
          "color": "#f79143"
         },
         "name": "2015",
         "offsetgroup": "2015",
         "orientation": "v",
         "pointpos": 0,
         "showlegend": false,
         "type": "box",
         "x": [
          2,
          3,
          4,
          5,
          6,
          7,
          8,
          9,
          11,
          12
         ],
         "x0": " ",
         "xaxis": "x",
         "y": [
          0.9590000000000001,
          2.8880000000000003,
          1.2890000000000001,
          2.792,
          0.792,
          1.172,
          2.0340000000000003,
          1.1039999999999999,
          0.9880000000000001,
          0.758
         ],
         "y0": " ",
         "yaxis": "y"
        },
        {
         "alignmentgroup": "True",
         "boxpoints": "all",
         "fillcolor": "rgba(255,255,255,0)",
         "hoveron": "points",
         "hovertemplate": "year=2016<br>is_day=day<br>month=%{x}<br>biomass=%{y}<extra></extra>",
         "legendgroup": "2016",
         "line": {
          "color": "rgba(255,255,255,0)"
         },
         "marker": {
          "color": "#fb9f3a"
         },
         "name": "2016",
         "offsetgroup": "2016",
         "orientation": "v",
         "pointpos": 0,
         "showlegend": true,
         "type": "box",
         "x": [
          3,
          4,
          5,
          6,
          7,
          8,
          9,
          10,
          11,
          12
         ],
         "x0": " ",
         "xaxis": "x2",
         "y": [
          0.786,
          0.696,
          1.62,
          0.46199999999999997,
          0.5060000000000001,
          0.426,
          0.24600000000000005,
          0.5000000000000001,
          0.36800000000000005,
          0.546
         ],
         "y0": " ",
         "yaxis": "y2"
        },
        {
         "alignmentgroup": "True",
         "boxpoints": "all",
         "fillcolor": "rgba(255,255,255,0)",
         "hoveron": "points",
         "hovertemplate": "year=2016<br>is_day=night<br>month=%{x}<br>biomass=%{y}<extra></extra>",
         "legendgroup": "2016",
         "line": {
          "color": "rgba(255,255,255,0)"
         },
         "marker": {
          "color": "#fb9f3a"
         },
         "name": "2016",
         "offsetgroup": "2016",
         "orientation": "v",
         "pointpos": 0,
         "showlegend": false,
         "type": "box",
         "x": [
          3,
          4,
          5,
          6,
          7,
          8,
          9,
          10,
          11,
          12
         ],
         "x0": " ",
         "xaxis": "x",
         "y": [
          1.163,
          1.0830000000000002,
          2.2380000000000004,
          0.4020000000000001,
          0.8900000000000001,
          0.7340000000000001,
          0.37400000000000005,
          0.334,
          0.654,
          0.6180000000000002
         ],
         "y0": " ",
         "yaxis": "y"
        },
        {
         "alignmentgroup": "True",
         "boxpoints": "all",
         "fillcolor": "rgba(255,255,255,0)",
         "hoveron": "points",
         "hovertemplate": "year=2017<br>is_day=day<br>month=%{x}<br>biomass=%{y}<extra></extra>",
         "legendgroup": "2017",
         "line": {
          "color": "rgba(255,255,255,0)"
         },
         "marker": {
          "color": "#fdac33"
         },
         "name": "2017",
         "offsetgroup": "2017",
         "orientation": "v",
         "pointpos": 0,
         "showlegend": true,
         "type": "box",
         "x": [
          1,
          2,
          5,
          6,
          7,
          8,
          9,
          10,
          11,
          12
         ],
         "x0": " ",
         "xaxis": "x2",
         "y": [
          0.45999999999999996,
          0.502,
          0.7790000000000001,
          1.068,
          0.548,
          0.806,
          0.8860000000000001,
          0.526,
          0.482,
          0.474
         ],
         "y0": " ",
         "yaxis": "y2"
        },
        {
         "alignmentgroup": "True",
         "boxpoints": "all",
         "fillcolor": "rgba(255,255,255,0)",
         "hoveron": "points",
         "hovertemplate": "year=2017<br>is_day=night<br>month=%{x}<br>biomass=%{y}<extra></extra>",
         "legendgroup": "2017",
         "line": {
          "color": "rgba(255,255,255,0)"
         },
         "marker": {
          "color": "#fdac33"
         },
         "name": "2017",
         "offsetgroup": "2017",
         "orientation": "v",
         "pointpos": 0,
         "showlegend": false,
         "type": "box",
         "x": [
          1,
          2,
          5,
          6,
          7,
          8,
          9,
          10,
          11,
          12
         ],
         "x0": " ",
         "xaxis": "x",
         "y": [
          0.8039999999999999,
          1.0699999999999998,
          1.54,
          2.2079999999999997,
          1.5980000000000003,
          1.6340000000000001,
          1.1320000000000001,
          1.098,
          0.684,
          0.768
         ],
         "y0": " ",
         "yaxis": "y"
        },
        {
         "alignmentgroup": "True",
         "boxpoints": "all",
         "fillcolor": "rgba(255,255,255,0)",
         "hoveron": "points",
         "hovertemplate": "year=2018<br>is_day=day<br>month=%{x}<br>biomass=%{y}<extra></extra>",
         "legendgroup": "2018",
         "line": {
          "color": "rgba(255,255,255,0)"
         },
         "marker": {
          "color": "#febb2b"
         },
         "name": "2018",
         "offsetgroup": "2018",
         "orientation": "v",
         "pointpos": 0,
         "showlegend": true,
         "type": "box",
         "x": [
          1,
          2,
          4,
          5,
          6,
          7,
          8,
          9,
          10,
          11,
          12
         ],
         "x0": " ",
         "xaxis": "x2",
         "y": [
          0.6140000000000001,
          0.623,
          0.972,
          0.8879999999999999,
          0.6200000000000001,
          0.49,
          0.7040000000000002,
          0.41600000000000004,
          0.526,
          0.8640000000000001,
          0.794
         ],
         "y0": " ",
         "yaxis": "y2"
        },
        {
         "alignmentgroup": "True",
         "boxpoints": "all",
         "fillcolor": "rgba(255,255,255,0)",
         "hoveron": "points",
         "hovertemplate": "year=2018<br>is_day=night<br>month=%{x}<br>biomass=%{y}<extra></extra>",
         "legendgroup": "2018",
         "line": {
          "color": "rgba(255,255,255,0)"
         },
         "marker": {
          "color": "#febb2b"
         },
         "name": "2018",
         "offsetgroup": "2018",
         "orientation": "v",
         "pointpos": 0,
         "showlegend": false,
         "type": "box",
         "x": [
          1,
          2,
          3,
          4,
          5,
          6,
          7,
          8,
          9,
          10,
          11,
          12
         ],
         "x0": " ",
         "xaxis": "x",
         "y": [
          0.5900000000000001,
          1.0693333333333335,
          1.5206666666666664,
          1.7710000000000001,
          2.364,
          1.616,
          1.2300000000000002,
          0.9899999999999999,
          0.7100000000000001,
          0.7360000000000001,
          1.206,
          1.2280000000000002
         ],
         "y0": " ",
         "yaxis": "y"
        },
        {
         "alignmentgroup": "True",
         "boxpoints": "all",
         "fillcolor": "rgba(255,255,255,0)",
         "hoveron": "points",
         "hovertemplate": "year=2019<br>is_day=day<br>month=%{x}<br>biomass=%{y}<extra></extra>",
         "legendgroup": "2019",
         "line": {
          "color": "rgba(255,255,255,0)"
         },
         "marker": {
          "color": "#fdca26"
         },
         "name": "2019",
         "offsetgroup": "2019",
         "orientation": "v",
         "pointpos": 0,
         "showlegend": true,
         "type": "box",
         "x": [
          1,
          4,
          5,
          6,
          7,
          8,
          9,
          10,
          11,
          12
         ],
         "x0": " ",
         "xaxis": "x2",
         "y": [
          0.774,
          1.052,
          2.0220000000000002,
          1.82,
          0.9820000000000001,
          1.69,
          1.118,
          0.8740000000000001,
          0.788,
          0.686
         ],
         "y0": " ",
         "yaxis": "y2"
        },
        {
         "alignmentgroup": "True",
         "boxpoints": "all",
         "fillcolor": "rgba(255,255,255,0)",
         "hoveron": "points",
         "hovertemplate": "year=2019<br>is_day=night<br>month=%{x}<br>biomass=%{y}<extra></extra>",
         "legendgroup": "2019",
         "line": {
          "color": "rgba(255,255,255,0)"
         },
         "marker": {
          "color": "#fdca26"
         },
         "name": "2019",
         "offsetgroup": "2019",
         "orientation": "v",
         "pointpos": 0,
         "showlegend": false,
         "type": "box",
         "x": [
          1,
          3,
          5,
          6,
          7,
          8,
          9,
          10,
          11,
          12
         ],
         "x0": " ",
         "xaxis": "x",
         "y": [
          1.7280000000000002,
          2.796,
          2.7419999999999995,
          2.068,
          3.06,
          1.03,
          2.734,
          1.068,
          2.1159999999999997,
          1.24
         ],
         "y0": " ",
         "yaxis": "y"
        },
        {
         "alignmentgroup": "True",
         "boxpoints": "all",
         "fillcolor": "rgba(255,255,255,0)",
         "hoveron": "points",
         "hovertemplate": "year=2020<br>is_day=day<br>month=%{x}<br>biomass=%{y}<extra></extra>",
         "legendgroup": "2020",
         "line": {
          "color": "rgba(255,255,255,0)"
         },
         "marker": {
          "color": "#fada24"
         },
         "name": "2020",
         "offsetgroup": "2020",
         "orientation": "v",
         "pointpos": 0,
         "showlegend": true,
         "type": "box",
         "x": [
          1,
          2,
          7,
          8,
          9,
          10,
          11,
          12
         ],
         "x0": " ",
         "xaxis": "x2",
         "y": [
          0.43,
          0.7080000000000001,
          0.894,
          0.8739999999999999,
          0.902,
          0.7560000000000001,
          0.322,
          0.414
         ],
         "y0": " ",
         "yaxis": "y2"
        },
        {
         "alignmentgroup": "True",
         "boxpoints": "all",
         "fillcolor": "rgba(255,255,255,0)",
         "hoveron": "points",
         "hovertemplate": "year=2020<br>is_day=night<br>month=%{x}<br>biomass=%{y}<extra></extra>",
         "legendgroup": "2020",
         "line": {
          "color": "rgba(255,255,255,0)"
         },
         "marker": {
          "color": "#fada24"
         },
         "name": "2020",
         "offsetgroup": "2020",
         "orientation": "v",
         "pointpos": 0,
         "showlegend": false,
         "type": "box",
         "x": [
          1,
          2,
          7,
          8,
          9,
          10,
          11,
          12
         ],
         "x0": " ",
         "xaxis": "x",
         "y": [
          0.7360000000000002,
          1.3319999999999999,
          1.5206666666666668,
          1.924,
          0.6720000000000002,
          1.096,
          0.5860000000000001,
          0.876
         ],
         "y0": " ",
         "yaxis": "y"
        },
        {
         "alignmentgroup": "True",
         "boxpoints": "all",
         "fillcolor": "rgba(255,255,255,0)",
         "hoveron": "points",
         "hovertemplate": "year=2021<br>is_day=day<br>month=%{x}<br>biomass=%{y}<extra></extra>",
         "legendgroup": "2021",
         "line": {
          "color": "rgba(255,255,255,0)"
         },
         "marker": {
          "color": "#f5e926"
         },
         "name": "2021",
         "offsetgroup": "2021",
         "orientation": "v",
         "pointpos": 0,
         "showlegend": true,
         "type": "box",
         "x": [
          1,
          2,
          3,
          4,
          5,
          6,
          7,
          8,
          9,
          10,
          11,
          12
         ],
         "x0": " ",
         "xaxis": "x2",
         "y": [
          0.434,
          1.2960000000000003,
          0.8180000000000001,
          1.0680000000000003,
          1.356,
          0.5700000000000001,
          1.006,
          0.9060000000000001,
          0.8,
          0.7320000000000001,
          0.65,
          0.8660000000000001
         ],
         "y0": " ",
         "yaxis": "y2"
        },
        {
         "alignmentgroup": "True",
         "boxpoints": "all",
         "fillcolor": "rgba(255,255,255,0)",
         "hoveron": "points",
         "hovertemplate": "year=2021<br>is_day=night<br>month=%{x}<br>biomass=%{y}<extra></extra>",
         "legendgroup": "2021",
         "line": {
          "color": "rgba(255,255,255,0)"
         },
         "marker": {
          "color": "#f5e926"
         },
         "name": "2021",
         "offsetgroup": "2021",
         "orientation": "v",
         "pointpos": 0,
         "showlegend": false,
         "type": "box",
         "x": [
          2,
          3,
          4,
          6,
          7,
          8,
          10,
          11,
          12
         ],
         "x0": " ",
         "xaxis": "x",
         "y": [
          2.1460000000000004,
          1.7460000000000002,
          2.262,
          1.056,
          1.9580000000000002,
          1.9000000000000001,
          1.4600000000000004,
          0.968,
          2.204
         ],
         "y0": " ",
         "yaxis": "y"
        },
        {
         "alignmentgroup": "True",
         "boxpoints": "all",
         "fillcolor": "rgba(255,255,255,0)",
         "hoveron": "points",
         "hovertemplate": "year=2022<br>is_day=day<br>month=%{x}<br>biomass=%{y}<extra></extra>",
         "legendgroup": "2022",
         "line": {
          "color": "rgba(255,255,255,0)"
         },
         "marker": {
          "color": "#f0f921"
         },
         "name": "2022",
         "offsetgroup": "2022",
         "orientation": "v",
         "pointpos": 0,
         "showlegend": true,
         "type": "box",
         "x": [
          1,
          3,
          5,
          6,
          7,
          8,
          11,
          12
         ],
         "x0": " ",
         "xaxis": "x2",
         "y": [
          0.35600000000000004,
          0.46199999999999997,
          0.536,
          0.734,
          0.666,
          0.658,
          0.36999999999999994,
          0.36200000000000004
         ],
         "y0": " ",
         "yaxis": "y2"
        },
        {
         "alignmentgroup": "True",
         "boxpoints": "all",
         "fillcolor": "rgba(255,255,255,0)",
         "hoveron": "points",
         "hovertemplate": "year=2022<br>is_day=night<br>month=%{x}<br>biomass=%{y}<extra></extra>",
         "legendgroup": "2022",
         "line": {
          "color": "rgba(255,255,255,0)"
         },
         "marker": {
          "color": "#f0f921"
         },
         "name": "2022",
         "offsetgroup": "2022",
         "orientation": "v",
         "pointpos": 0,
         "showlegend": false,
         "type": "box",
         "x": [
          1,
          3,
          5,
          7,
          8,
          9,
          11,
          12
         ],
         "x0": " ",
         "xaxis": "x",
         "y": [
          0.5480000000000002,
          1.008,
          0.9840000000000001,
          1.518,
          1.46,
          0.731,
          0.5860000000000001,
          1.11
         ],
         "y0": " ",
         "yaxis": "y"
        }
       ],
       "layout": {
        "annotations": [
         {
          "font": {},
          "showarrow": false,
          "text": "is_day=night",
          "textangle": 90,
          "x": 0.98,
          "xanchor": "left",
          "xref": "paper",
          "y": 0.2425,
          "yanchor": "middle",
          "yref": "paper"
         },
         {
          "font": {},
          "showarrow": false,
          "text": "is_day=day",
          "textangle": 90,
          "x": 0.98,
          "xanchor": "left",
          "xref": "paper",
          "y": 0.7575000000000001,
          "yanchor": "middle",
          "yref": "paper"
         }
        ],
        "boxmode": "group",
        "height": 800,
        "legend": {
         "title": {
          "text": "year"
         },
         "tracegroupgap": 0
        },
        "template": {
         "data": {
          "bar": [
           {
            "error_x": {
             "color": "#2a3f5f"
            },
            "error_y": {
             "color": "#2a3f5f"
            },
            "marker": {
             "line": {
              "color": "#E5ECF6",
              "width": 0.5
             },
             "pattern": {
              "fillmode": "overlay",
              "size": 10,
              "solidity": 0.2
             }
            },
            "type": "bar"
           }
          ],
          "barpolar": [
           {
            "marker": {
             "line": {
              "color": "#E5ECF6",
              "width": 0.5
             },
             "pattern": {
              "fillmode": "overlay",
              "size": 10,
              "solidity": 0.2
             }
            },
            "type": "barpolar"
           }
          ],
          "carpet": [
           {
            "aaxis": {
             "endlinecolor": "#2a3f5f",
             "gridcolor": "white",
             "linecolor": "white",
             "minorgridcolor": "white",
             "startlinecolor": "#2a3f5f"
            },
            "baxis": {
             "endlinecolor": "#2a3f5f",
             "gridcolor": "white",
             "linecolor": "white",
             "minorgridcolor": "white",
             "startlinecolor": "#2a3f5f"
            },
            "type": "carpet"
           }
          ],
          "choropleth": [
           {
            "colorbar": {
             "outlinewidth": 0,
             "ticks": ""
            },
            "type": "choropleth"
           }
          ],
          "contour": [
           {
            "colorbar": {
             "outlinewidth": 0,
             "ticks": ""
            },
            "colorscale": [
             [
              0,
              "#0d0887"
             ],
             [
              0.1111111111111111,
              "#46039f"
             ],
             [
              0.2222222222222222,
              "#7201a8"
             ],
             [
              0.3333333333333333,
              "#9c179e"
             ],
             [
              0.4444444444444444,
              "#bd3786"
             ],
             [
              0.5555555555555556,
              "#d8576b"
             ],
             [
              0.6666666666666666,
              "#ed7953"
             ],
             [
              0.7777777777777778,
              "#fb9f3a"
             ],
             [
              0.8888888888888888,
              "#fdca26"
             ],
             [
              1,
              "#f0f921"
             ]
            ],
            "type": "contour"
           }
          ],
          "contourcarpet": [
           {
            "colorbar": {
             "outlinewidth": 0,
             "ticks": ""
            },
            "type": "contourcarpet"
           }
          ],
          "heatmap": [
           {
            "colorbar": {
             "outlinewidth": 0,
             "ticks": ""
            },
            "colorscale": [
             [
              0,
              "#0d0887"
             ],
             [
              0.1111111111111111,
              "#46039f"
             ],
             [
              0.2222222222222222,
              "#7201a8"
             ],
             [
              0.3333333333333333,
              "#9c179e"
             ],
             [
              0.4444444444444444,
              "#bd3786"
             ],
             [
              0.5555555555555556,
              "#d8576b"
             ],
             [
              0.6666666666666666,
              "#ed7953"
             ],
             [
              0.7777777777777778,
              "#fb9f3a"
             ],
             [
              0.8888888888888888,
              "#fdca26"
             ],
             [
              1,
              "#f0f921"
             ]
            ],
            "type": "heatmap"
           }
          ],
          "heatmapgl": [
           {
            "colorbar": {
             "outlinewidth": 0,
             "ticks": ""
            },
            "colorscale": [
             [
              0,
              "#0d0887"
             ],
             [
              0.1111111111111111,
              "#46039f"
             ],
             [
              0.2222222222222222,
              "#7201a8"
             ],
             [
              0.3333333333333333,
              "#9c179e"
             ],
             [
              0.4444444444444444,
              "#bd3786"
             ],
             [
              0.5555555555555556,
              "#d8576b"
             ],
             [
              0.6666666666666666,
              "#ed7953"
             ],
             [
              0.7777777777777778,
              "#fb9f3a"
             ],
             [
              0.8888888888888888,
              "#fdca26"
             ],
             [
              1,
              "#f0f921"
             ]
            ],
            "type": "heatmapgl"
           }
          ],
          "histogram": [
           {
            "marker": {
             "pattern": {
              "fillmode": "overlay",
              "size": 10,
              "solidity": 0.2
             }
            },
            "type": "histogram"
           }
          ],
          "histogram2d": [
           {
            "colorbar": {
             "outlinewidth": 0,
             "ticks": ""
            },
            "colorscale": [
             [
              0,
              "#0d0887"
             ],
             [
              0.1111111111111111,
              "#46039f"
             ],
             [
              0.2222222222222222,
              "#7201a8"
             ],
             [
              0.3333333333333333,
              "#9c179e"
             ],
             [
              0.4444444444444444,
              "#bd3786"
             ],
             [
              0.5555555555555556,
              "#d8576b"
             ],
             [
              0.6666666666666666,
              "#ed7953"
             ],
             [
              0.7777777777777778,
              "#fb9f3a"
             ],
             [
              0.8888888888888888,
              "#fdca26"
             ],
             [
              1,
              "#f0f921"
             ]
            ],
            "type": "histogram2d"
           }
          ],
          "histogram2dcontour": [
           {
            "colorbar": {
             "outlinewidth": 0,
             "ticks": ""
            },
            "colorscale": [
             [
              0,
              "#0d0887"
             ],
             [
              0.1111111111111111,
              "#46039f"
             ],
             [
              0.2222222222222222,
              "#7201a8"
             ],
             [
              0.3333333333333333,
              "#9c179e"
             ],
             [
              0.4444444444444444,
              "#bd3786"
             ],
             [
              0.5555555555555556,
              "#d8576b"
             ],
             [
              0.6666666666666666,
              "#ed7953"
             ],
             [
              0.7777777777777778,
              "#fb9f3a"
             ],
             [
              0.8888888888888888,
              "#fdca26"
             ],
             [
              1,
              "#f0f921"
             ]
            ],
            "type": "histogram2dcontour"
           }
          ],
          "mesh3d": [
           {
            "colorbar": {
             "outlinewidth": 0,
             "ticks": ""
            },
            "type": "mesh3d"
           }
          ],
          "parcoords": [
           {
            "line": {
             "colorbar": {
              "outlinewidth": 0,
              "ticks": ""
             }
            },
            "type": "parcoords"
           }
          ],
          "pie": [
           {
            "automargin": true,
            "type": "pie"
           }
          ],
          "scatter": [
           {
            "fillpattern": {
             "fillmode": "overlay",
             "size": 10,
             "solidity": 0.2
            },
            "type": "scatter"
           }
          ],
          "scatter3d": [
           {
            "line": {
             "colorbar": {
              "outlinewidth": 0,
              "ticks": ""
             }
            },
            "marker": {
             "colorbar": {
              "outlinewidth": 0,
              "ticks": ""
             }
            },
            "type": "scatter3d"
           }
          ],
          "scattercarpet": [
           {
            "marker": {
             "colorbar": {
              "outlinewidth": 0,
              "ticks": ""
             }
            },
            "type": "scattercarpet"
           }
          ],
          "scattergeo": [
           {
            "marker": {
             "colorbar": {
              "outlinewidth": 0,
              "ticks": ""
             }
            },
            "type": "scattergeo"
           }
          ],
          "scattergl": [
           {
            "marker": {
             "colorbar": {
              "outlinewidth": 0,
              "ticks": ""
             }
            },
            "type": "scattergl"
           }
          ],
          "scattermapbox": [
           {
            "marker": {
             "colorbar": {
              "outlinewidth": 0,
              "ticks": ""
             }
            },
            "type": "scattermapbox"
           }
          ],
          "scatterpolar": [
           {
            "marker": {
             "colorbar": {
              "outlinewidth": 0,
              "ticks": ""
             }
            },
            "type": "scatterpolar"
           }
          ],
          "scatterpolargl": [
           {
            "marker": {
             "colorbar": {
              "outlinewidth": 0,
              "ticks": ""
             }
            },
            "type": "scatterpolargl"
           }
          ],
          "scatterternary": [
           {
            "marker": {
             "colorbar": {
              "outlinewidth": 0,
              "ticks": ""
             }
            },
            "type": "scatterternary"
           }
          ],
          "surface": [
           {
            "colorbar": {
             "outlinewidth": 0,
             "ticks": ""
            },
            "colorscale": [
             [
              0,
              "#0d0887"
             ],
             [
              0.1111111111111111,
              "#46039f"
             ],
             [
              0.2222222222222222,
              "#7201a8"
             ],
             [
              0.3333333333333333,
              "#9c179e"
             ],
             [
              0.4444444444444444,
              "#bd3786"
             ],
             [
              0.5555555555555556,
              "#d8576b"
             ],
             [
              0.6666666666666666,
              "#ed7953"
             ],
             [
              0.7777777777777778,
              "#fb9f3a"
             ],
             [
              0.8888888888888888,
              "#fdca26"
             ],
             [
              1,
              "#f0f921"
             ]
            ],
            "type": "surface"
           }
          ],
          "table": [
           {
            "cells": {
             "fill": {
              "color": "#EBF0F8"
             },
             "line": {
              "color": "white"
             }
            },
            "header": {
             "fill": {
              "color": "#C8D4E3"
             },
             "line": {
              "color": "white"
             }
            },
            "type": "table"
           }
          ]
         },
         "layout": {
          "annotationdefaults": {
           "arrowcolor": "#2a3f5f",
           "arrowhead": 0,
           "arrowwidth": 1
          },
          "autotypenumbers": "strict",
          "coloraxis": {
           "colorbar": {
            "outlinewidth": 0,
            "ticks": ""
           }
          },
          "colorscale": {
           "diverging": [
            [
             0,
             "#8e0152"
            ],
            [
             0.1,
             "#c51b7d"
            ],
            [
             0.2,
             "#de77ae"
            ],
            [
             0.3,
             "#f1b6da"
            ],
            [
             0.4,
             "#fde0ef"
            ],
            [
             0.5,
             "#f7f7f7"
            ],
            [
             0.6,
             "#e6f5d0"
            ],
            [
             0.7,
             "#b8e186"
            ],
            [
             0.8,
             "#7fbc41"
            ],
            [
             0.9,
             "#4d9221"
            ],
            [
             1,
             "#276419"
            ]
           ],
           "sequential": [
            [
             0,
             "#0d0887"
            ],
            [
             0.1111111111111111,
             "#46039f"
            ],
            [
             0.2222222222222222,
             "#7201a8"
            ],
            [
             0.3333333333333333,
             "#9c179e"
            ],
            [
             0.4444444444444444,
             "#bd3786"
            ],
            [
             0.5555555555555556,
             "#d8576b"
            ],
            [
             0.6666666666666666,
             "#ed7953"
            ],
            [
             0.7777777777777778,
             "#fb9f3a"
            ],
            [
             0.8888888888888888,
             "#fdca26"
            ],
            [
             1,
             "#f0f921"
            ]
           ],
           "sequentialminus": [
            [
             0,
             "#0d0887"
            ],
            [
             0.1111111111111111,
             "#46039f"
            ],
            [
             0.2222222222222222,
             "#7201a8"
            ],
            [
             0.3333333333333333,
             "#9c179e"
            ],
            [
             0.4444444444444444,
             "#bd3786"
            ],
            [
             0.5555555555555556,
             "#d8576b"
            ],
            [
             0.6666666666666666,
             "#ed7953"
            ],
            [
             0.7777777777777778,
             "#fb9f3a"
            ],
            [
             0.8888888888888888,
             "#fdca26"
            ],
            [
             1,
             "#f0f921"
            ]
           ]
          },
          "colorway": [
           "#636efa",
           "#EF553B",
           "#00cc96",
           "#ab63fa",
           "#FFA15A",
           "#19d3f3",
           "#FF6692",
           "#B6E880",
           "#FF97FF",
           "#FECB52"
          ],
          "font": {
           "color": "#2a3f5f"
          },
          "geo": {
           "bgcolor": "white",
           "lakecolor": "white",
           "landcolor": "#E5ECF6",
           "showlakes": true,
           "showland": true,
           "subunitcolor": "white"
          },
          "hoverlabel": {
           "align": "left"
          },
          "hovermode": "closest",
          "mapbox": {
           "style": "light"
          },
          "paper_bgcolor": "white",
          "plot_bgcolor": "#E5ECF6",
          "polar": {
           "angularaxis": {
            "gridcolor": "white",
            "linecolor": "white",
            "ticks": ""
           },
           "bgcolor": "#E5ECF6",
           "radialaxis": {
            "gridcolor": "white",
            "linecolor": "white",
            "ticks": ""
           }
          },
          "scene": {
           "xaxis": {
            "backgroundcolor": "#E5ECF6",
            "gridcolor": "white",
            "gridwidth": 2,
            "linecolor": "white",
            "showbackground": true,
            "ticks": "",
            "zerolinecolor": "white"
           },
           "yaxis": {
            "backgroundcolor": "#E5ECF6",
            "gridcolor": "white",
            "gridwidth": 2,
            "linecolor": "white",
            "showbackground": true,
            "ticks": "",
            "zerolinecolor": "white"
           },
           "zaxis": {
            "backgroundcolor": "#E5ECF6",
            "gridcolor": "white",
            "gridwidth": 2,
            "linecolor": "white",
            "showbackground": true,
            "ticks": "",
            "zerolinecolor": "white"
           }
          },
          "shapedefaults": {
           "line": {
            "color": "#2a3f5f"
           }
          },
          "ternary": {
           "aaxis": {
            "gridcolor": "white",
            "linecolor": "white",
            "ticks": ""
           },
           "baxis": {
            "gridcolor": "white",
            "linecolor": "white",
            "ticks": ""
           },
           "bgcolor": "#E5ECF6",
           "caxis": {
            "gridcolor": "white",
            "linecolor": "white",
            "ticks": ""
           }
          },
          "title": {
           "x": 0.05
          },
          "xaxis": {
           "automargin": true,
           "gridcolor": "white",
           "linecolor": "white",
           "ticks": "",
           "title": {
            "standoff": 15
           },
           "zerolinecolor": "white",
           "zerolinewidth": 2
          },
          "yaxis": {
           "automargin": true,
           "gridcolor": "white",
           "linecolor": "white",
           "ticks": "",
           "title": {
            "standoff": 15
           },
           "zerolinecolor": "white",
           "zerolinewidth": 2
          }
         }
        },
        "title": {
         "text": "Biomass at Bats"
        },
        "width": 800,
        "xaxis": {
         "anchor": "y",
         "domain": [
          0,
          0.98
         ],
         "title": {
          "text": "month"
         }
        },
        "xaxis2": {
         "anchor": "y2",
         "domain": [
          0,
          0.98
         ],
         "matches": "x",
         "showticklabels": false
        },
        "yaxis": {
         "anchor": "x",
         "domain": [
          0,
          0.485
         ],
         "title": {
          "text": "biomass"
         }
        },
        "yaxis2": {
         "anchor": "x2",
         "domain": [
          0.515,
          1
         ],
         "matches": "y",
         "title": {
          "text": "biomass"
         }
        }
       }
      }
     },
     "metadata": {},
     "output_type": "display_data"
    }
   ],
   "source": [
    "cmap = plt.get_cmap(\"RdBu_r\")\n",
    "cmap = plt.get_cmap(\"plasma\")\n",
    "n_colors = data_df.year.unique().size\n",
    "rgba_colors = [cmap(i / (n_colors - 1)) for i in range(n_colors)]\n",
    "hex_colors = [mcolors.to_hex(c) for c in rgba_colors]\n",
    "\n",
    "px.strip(\n",
    "    data_df,\n",
    "    x=\"month\",\n",
    "    y=\"biomass\",\n",
    "    color=\"year\",\n",
    "    facet_row=\"is_day\",\n",
    "    title=f\"Biomass at {station}\",\n",
    "    color_discrete_sequence=hex_colors,\n",
    ").update_layout(height=800, width=800)"
   ]
  },
  {
   "cell_type": "markdown",
   "metadata": {},
   "source": [
    "## Computing the trend\n"
   ]
  },
  {
   "cell_type": "code",
   "execution_count": 7,
   "metadata": {},
   "outputs": [],
   "source": [
    "def plot_trend(day_data, night_data, poly_order=1, confidence_level=0.95):\n",
    "    # day_data = data[\"day\"][:, 0, 0, 0].dropna(dim=\"time\")\n",
    "    time_indices = (day_data[\"time\"] - day_data[\"time\"][0]).astype(int)  # .astype(\"timedelta64[D]\").astype(int)\n",
    "    day_trend = np.polyfit(time_indices, day_data, poly_order)\n",
    "    day_trend_line = np.polyval(day_trend, time_indices)\n",
    "    day_std_error = np.std(day_data - day_trend_line) / np.sqrt(len(day_data))\n",
    "    degrees_freedom_day = len(day_data) - 2\n",
    "    t_critical_day = t.ppf((1 + confidence_level) / 2, degrees_freedom_day)\n",
    "    day_confidence_interval = float(t_critical_day * day_std_error)\n",
    "\n",
    "    # night_data = data[\"night\"][:, 0, 0, 0].dropna(dim=\"time\")\n",
    "    night_time_indices = (night_data[\"time\"] - night_data[\"time\"][0]).astype(\n",
    "        int\n",
    "    )  # .astype(\"timedelta64[D]\").astype(int)\n",
    "    night_trend = np.polyfit(night_time_indices, night_data, poly_order)\n",
    "    night_trend_line = np.polyval(night_trend, night_time_indices)\n",
    "    night_std_error = np.std(night_data - night_trend_line) / np.sqrt(len(night_data))\n",
    "    degrees_freedom_night = len(night_data) - 2\n",
    "    t_critical_night = t.ppf((1 + confidence_level) / 2, degrees_freedom_night)\n",
    "    night_confidence_interval = float(t_critical_night * night_std_error)\n",
    "\n",
    "    figure = go.Figure()\n",
    "\n",
    "    figure.add_trace(\n",
    "        go.Scatter(\n",
    "            x=day_data.indexes[\"time\"],\n",
    "            y=day_data,\n",
    "            mode=\"markers\",\n",
    "            name=\"Day Data\",\n",
    "            marker={\"color\": \"firebrick\", \"opacity\": 0.5},\n",
    "        )\n",
    "    )\n",
    "    figure.add_trace(\n",
    "        go.Scatter(\n",
    "            x=night_data.indexes[\"time\"],\n",
    "            y=night_data,\n",
    "            mode=\"markers\",\n",
    "            name=\"Day Data\",\n",
    "            marker={\"color\": \"royalblue\", \"opacity\": 0.5},\n",
    "        )\n",
    "    )\n",
    "    figure.add_trace(\n",
    "        go.Scatter(\n",
    "            x=list(day_data.indexes[\"time\"]) + list(day_data.indexes[\"time\"])[::-1],\n",
    "            y=list(day_trend_line + day_confidence_interval) + list(day_trend_line - day_confidence_interval)[::-1],\n",
    "            fill=\"toself\",\n",
    "            fillcolor=\"rgba(255, 0, 0, 0.2)\",\n",
    "            line_color=\"rgba(0, 0, 0, 0)\",\n",
    "            name=\"Day Confidence Interval\",\n",
    "        )\n",
    "    )\n",
    "    figure.add_trace(\n",
    "        go.Scatter(\n",
    "            x=list(night_data.indexes[\"time\"]) + list(night_data.indexes[\"time\"])[::-1],\n",
    "            y=list(night_trend_line + night_confidence_interval)\n",
    "            + list(night_trend_line - night_confidence_interval)[::-1],\n",
    "            fill=\"toself\",\n",
    "            fillcolor=\"rgba(0, 0, 255, 0.2)\",\n",
    "            line_color=\"rgba(0, 0, 0, 0)\",\n",
    "            name=\"Night Confidence Interval\",\n",
    "        ),\n",
    "    )\n",
    "    figure.add_trace(\n",
    "        go.Scatter(\n",
    "            x=day_data.indexes[\"time\"],\n",
    "            y=day_trend_line,\n",
    "            mode=\"lines\",\n",
    "            name=\"Day Trend Line\",\n",
    "            line={\"color\": \"firebrick\"},\n",
    "        )\n",
    "    )\n",
    "    figure.add_trace(\n",
    "        go.Scatter(\n",
    "            x=night_data.indexes[\"time\"],\n",
    "            y=night_trend_line,\n",
    "            mode=\"lines\",\n",
    "            name=\"Night Trend Line\",\n",
    "            line={\"color\": \"royalblue\"},\n",
    "        )\n",
    "    )\n",
    "\n",
    "    figure.update_layout(height=600)\n",
    "    return figure"
   ]
  },
  {
   "cell_type": "code",
   "execution_count": 8,
   "metadata": {},
   "outputs": [
    {
     "data": {
      "application/vnd.plotly.v1+json": {
       "config": {
        "plotlyServerURL": "https://plot.ly"
       },
       "data": [
        {
         "marker": {
          "color": "firebrick",
          "opacity": 0.5
         },
         "mode": "markers",
         "name": "Day Data",
         "type": "scatter",
         "x": [
          "1995-05-11T00:00:00",
          "1995-06-13T00:00:00",
          "1995-07-11T00:00:00",
          "1995-09-12T00:00:00",
          "1995-10-10T00:00:00",
          "1995-11-06T00:00:00",
          "1995-12-16T00:00:00",
          "1996-01-30T00:00:00",
          "1996-02-28T00:00:00",
          "1996-03-15T00:00:00",
          "1996-03-28T00:00:00",
          "1996-04-09T00:00:00",
          "1996-04-23T00:00:00",
          "1996-05-06T00:00:00",
          "1996-06-10T00:00:00",
          "1996-07-10T00:00:00",
          "1996-08-05T00:00:00",
          "1996-09-03T00:00:00",
          "1996-10-08T00:00:00",
          "1996-11-05T00:00:00",
          "1996-12-14T00:00:00",
          "1997-01-13T00:00:00",
          "1997-01-28T00:00:00",
          "1997-02-07T00:00:00",
          "1997-02-21T00:00:00",
          "1997-03-04T00:00:00",
          "1997-03-19T00:00:00",
          "1997-04-08T00:00:00",
          "1997-05-05T00:00:00",
          "1997-06-11T00:00:00",
          "1997-07-15T00:00:00",
          "1997-08-11T00:00:00",
          "1997-09-12T00:00:00",
          "1997-10-06T00:00:00",
          "1997-11-14T00:00:00",
          "1997-12-09T00:00:00",
          "1998-01-14T00:00:00",
          "1998-02-11T00:00:00",
          "1998-02-28T00:00:00",
          "1998-03-13T00:00:00",
          "1998-03-25T00:00:00",
          "1998-04-08T00:00:00",
          "1998-05-06T00:00:00",
          "1998-06-03T00:00:00",
          "1998-07-08T00:00:00",
          "1998-08-11T00:00:00",
          "1998-09-08T00:00:00",
          "1998-10-22T00:00:00",
          "1998-11-19T00:00:00",
          "1998-12-08T00:00:00",
          "1999-01-15T00:00:00",
          "1999-01-27T00:00:00",
          "1999-02-12T00:00:00",
          "1999-02-24T00:00:00",
          "1999-03-23T00:00:00",
          "1999-04-07T00:00:00",
          "1999-05-03T00:00:00",
          "1999-06-01T00:00:00",
          "1999-07-06T00:00:00",
          "1999-09-15T00:00:00",
          "1999-10-12T00:00:00",
          "1999-11-10T00:00:00",
          "1999-12-09T00:00:00",
          "2000-04-11T00:00:00",
          "2000-06-06T00:00:00",
          "2000-07-11T00:00:00",
          "2000-08-08T00:00:00",
          "2000-09-13T00:00:00",
          "2000-10-18T00:00:00",
          "2000-11-14T00:00:00",
          "2000-12-12T00:00:00",
          "2001-02-20T00:00:00",
          "2001-03-09T00:00:00",
          "2001-03-20T00:00:00",
          "2001-04-04T00:00:00",
          "2001-04-19T00:00:00",
          "2001-05-15T00:00:00",
          "2001-06-05T00:00:00",
          "2001-07-18T00:00:00",
          "2001-09-12T00:00:00",
          "2001-10-16T00:00:00",
          "2001-11-09T00:00:00",
          "2001-12-11T00:00:00",
          "2002-01-22T00:00:00",
          "2002-02-13T00:00:00",
          "2002-02-27T00:00:00",
          "2002-03-07T00:00:00",
          "2002-04-04T00:00:00",
          "2002-04-16T00:00:00",
          "2002-05-14T00:00:00",
          "2002-06-04T00:00:00",
          "2002-07-02T00:00:00",
          "2002-08-20T00:00:00",
          "2002-09-17T00:00:00",
          "2002-10-08T00:00:00",
          "2002-11-13T00:00:00",
          "2002-12-10T00:00:00",
          "2003-02-04T00:00:00",
          "2003-02-21T00:00:00",
          "2003-03-04T00:00:00",
          "2003-03-21T00:00:00",
          "2003-04-03T00:00:00",
          "2003-04-22T00:00:00",
          "2003-05-20T00:00:00",
          "2003-07-04T00:00:00",
          "2003-07-15T00:00:00",
          "2003-08-12T00:00:00",
          "2003-09-19T00:00:00",
          "2003-10-07T00:00:00",
          "2003-11-04T00:00:00",
          "2003-12-02T00:00:00",
          "2004-01-27T00:00:00",
          "2004-02-14T00:00:00",
          "2004-02-24T00:00:00",
          "2004-04-07T00:00:00",
          "2004-04-21T00:00:00",
          "2004-05-18T00:00:00",
          "2004-06-15T00:00:00",
          "2004-09-14T00:00:00",
          "2004-10-13T00:00:00",
          "2004-11-12T00:00:00",
          "2004-12-08T00:00:00",
          "2005-01-27T00:00:00",
          "2005-02-08T00:00:00",
          "2005-02-24T00:00:00",
          "2005-03-08T00:00:00",
          "2005-03-21T00:00:00",
          "2005-04-06T00:00:00",
          "2005-04-19T00:00:00",
          "2005-05-17T00:00:00",
          "2005-06-14T00:00:00",
          "2005-07-19T00:00:00",
          "2005-08-10T00:00:00",
          "2005-09-06T00:00:00",
          "2005-10-11T00:00:00",
          "2005-11-10T00:00:00",
          "2006-01-29T00:00:00",
          "2006-02-22T00:00:00",
          "2006-05-10T00:00:00",
          "2006-07-18T00:00:00",
          "2006-08-08T00:00:00",
          "2006-10-10T00:00:00",
          "2006-11-07T00:00:00",
          "2006-12-04T00:00:00",
          "2007-02-01T00:00:00",
          "2007-02-22T00:00:00",
          "2007-03-07T00:00:00",
          "2007-03-20T00:00:00",
          "2007-04-03T00:00:00",
          "2007-04-14T00:00:00",
          "2007-05-16T00:00:00",
          "2007-06-21T00:00:00",
          "2007-07-18T00:00:00",
          "2007-08-17T00:00:00",
          "2007-11-14T00:00:00",
          "2007-12-06T00:00:00",
          "2008-01-17T00:00:00",
          "2008-02-12T00:00:00",
          "2008-02-23T00:00:00",
          "2008-03-13T00:00:00",
          "2008-03-25T00:00:00",
          "2008-04-17T00:00:00",
          "2008-05-29T00:00:00",
          "2008-07-18T00:00:00",
          "2008-08-14T00:00:00",
          "2008-09-12T00:00:00",
          "2008-10-09T00:00:00",
          "2009-02-22T00:00:00",
          "2009-03-06T00:00:00",
          "2009-03-19T00:00:00",
          "2009-04-01T00:00:00",
          "2009-06-11T00:00:00",
          "2009-07-15T00:00:00",
          "2009-08-15T00:00:00",
          "2009-09-11T00:00:00",
          "2009-10-10T00:00:00",
          "2009-11-08T00:00:00",
          "2009-12-09T00:00:00",
          "2010-02-24T00:00:00",
          "2010-03-09T00:00:00",
          "2010-04-07T00:00:00",
          "2010-04-21T00:00:00",
          "2010-05-13T00:00:00",
          "2010-06-23T00:00:00",
          "2010-07-24T00:00:00",
          "2010-09-06T00:00:00",
          "2010-10-06T00:00:00",
          "2010-11-10T00:00:00",
          "2010-12-09T00:00:00",
          "2011-03-04T00:00:00",
          "2011-04-27T00:00:00",
          "2011-05-17T00:00:00",
          "2011-06-15T00:00:00",
          "2011-07-06T00:00:00",
          "2011-08-19T00:00:00",
          "2011-09-17T00:00:00",
          "2011-11-01T00:00:00",
          "2011-11-17T00:00:00",
          "2011-12-08T00:00:00",
          "2012-01-29T00:00:00",
          "2012-02-10T00:00:00",
          "2012-03-08T00:00:00",
          "2012-04-26T00:00:00",
          "2012-05-19T00:00:00",
          "2012-06-18T00:00:00",
          "2012-07-12T00:00:00",
          "2012-08-20T00:00:00",
          "2012-09-12T00:00:00",
          "2012-10-19T00:00:00",
          "2012-11-16T00:00:00",
          "2012-12-11T00:00:00",
          "2013-01-22T00:00:00",
          "2013-02-12T00:00:00",
          "2013-02-26T00:00:00",
          "2013-03-12T00:00:00",
          "2013-04-06T00:00:00",
          "2013-04-24T00:00:00",
          "2013-05-15T00:00:00",
          "2013-06-16T00:00:00",
          "2013-07-05T00:00:00",
          "2013-08-02T00:00:00",
          "2013-09-17T00:00:00",
          "2013-10-19T00:00:00",
          "2013-11-14T00:00:00",
          "2013-12-09T00:00:00",
          "2014-03-06T00:00:00",
          "2014-04-11T00:00:00",
          "2014-04-29T00:00:00",
          "2014-06-12T00:00:00",
          "2014-07-10T00:00:00",
          "2014-08-20T00:00:00",
          "2014-09-13T00:00:00",
          "2014-10-28T00:00:00",
          "2014-11-20T00:00:00",
          "2014-12-11T00:00:00",
          "2015-02-05T00:00:00",
          "2015-02-20T00:00:00",
          "2015-04-08T00:00:00",
          "2015-04-24T00:00:00",
          "2015-06-23T00:00:00",
          "2015-07-15T00:00:00",
          "2015-08-18T00:00:00",
          "2015-09-12T00:00:00",
          "2015-11-30T00:00:00",
          "2015-12-12T00:00:00",
          "2016-03-08T00:00:00",
          "2016-03-23T00:00:00",
          "2016-04-05T00:00:00",
          "2016-04-15T00:00:00",
          "2016-05-04T00:00:00",
          "2016-06-14T00:00:00",
          "2016-07-22T00:00:00",
          "2016-08-17T00:00:00",
          "2016-09-20T00:00:00",
          "2016-10-19T00:00:00",
          "2016-11-19T00:00:00",
          "2016-12-13T00:00:00",
          "2017-01-07T00:00:00",
          "2017-02-19T00:00:00",
          "2017-05-09T00:00:00",
          "2017-05-30T00:00:00",
          "2017-06-13T00:00:00",
          "2017-07-18T00:00:00",
          "2017-08-15T00:00:00",
          "2017-09-12T00:00:00",
          "2017-10-17T00:00:00",
          "2017-10-18T00:00:00",
          "2017-11-17T00:00:00",
          "2017-12-12T00:00:00",
          "2018-01-15T00:00:00",
          "2018-02-10T00:00:00",
          "2018-02-27T00:00:00",
          "2018-04-16T00:00:00",
          "2018-04-26T00:00:00",
          "2018-05-23T00:00:00",
          "2018-06-12T00:00:00",
          "2018-07-20T00:00:00",
          "2018-08-13T00:00:00",
          "2018-09-12T00:00:00",
          "2018-10-18T00:00:00",
          "2018-11-06T00:00:00",
          "2018-12-14T00:00:00",
          "2019-01-11T00:00:00",
          "2019-04-10T00:00:00",
          "2019-05-13T00:00:00",
          "2019-06-07T00:00:00",
          "2019-07-16T00:00:00",
          "2019-08-19T00:00:00",
          "2019-09-09T00:00:00",
          "2019-10-23T00:00:00",
          "2019-11-17T00:00:00",
          "2019-12-11T00:00:00",
          "2020-01-26T00:00:00",
          "2020-02-27T00:00:00",
          "2020-07-10T00:00:00",
          "2020-07-31T00:00:00",
          "2020-08-18T00:00:00",
          "2020-09-24T00:00:00",
          "2020-10-26T00:00:00",
          "2020-11-18T00:00:00",
          "2020-12-11T00:00:00",
          "2021-01-25T00:00:00",
          "2021-02-13T00:00:00",
          "2021-03-18T00:00:00",
          "2021-03-25T00:00:00",
          "2021-04-06T00:00:00",
          "2021-05-12T00:00:00",
          "2021-06-15T00:00:00",
          "2021-07-11T00:00:00",
          "2021-08-19T00:00:00",
          "2021-09-12T00:00:00",
          "2021-10-05T00:00:00",
          "2021-11-17T00:00:00",
          "2021-12-13T00:00:00",
          "2022-01-12T00:00:00",
          "2022-03-29T00:00:00",
          "2022-05-01T00:00:00",
          "2022-05-23T00:00:00",
          "2022-06-30T00:00:00",
          "2022-07-16T00:00:00",
          "2022-08-13T00:00:00",
          "2022-11-24T00:00:00",
          "2022-12-13T00:00:00"
         ],
         "y": [
          0.9640000000000001,
          0.712,
          1.042,
          0.484,
          0.37400000000000005,
          0.3440000000000001,
          0.384,
          0.504,
          0.496,
          0.5900000000000001,
          0.588,
          1.6980000000000002,
          1.8259999999999998,
          0.794,
          0.476,
          1.184,
          0.6320000000000001,
          0.48,
          0.8700000000000001,
          0.7360000000000001,
          1.272,
          0.388,
          0.472,
          0.654,
          0.5340000000000001,
          0.5599999999999999,
          0.5180000000000001,
          0.79,
          0.91,
          1.242,
          0.6460000000000001,
          0.676,
          0.6140000000000001,
          0.622,
          0.778,
          0.9760000000000002,
          0.6819999999999999,
          0.968,
          0.798,
          1.484,
          1.1640000000000001,
          0.884,
          0.47800000000000004,
          1.278,
          1.57,
          0.762,
          0.7220000000000001,
          0.35400000000000004,
          0.6960000000000001,
          0.496,
          0.196,
          0.25399999999999995,
          0.5,
          0.8700000000000001,
          1.3360000000000003,
          1.168,
          0.588,
          1.834,
          0.45599999999999996,
          0.56,
          0.5780000000000002,
          0.624,
          0.36800000000000005,
          0.926,
          0.524,
          0.564,
          0.696,
          0.764,
          0.36800000000000005,
          0.778,
          0.45999999999999996,
          0.9899999999999999,
          0.944,
          1.252,
          0.766,
          0.334,
          0.8960000000000001,
          0.594,
          0.9460000000000002,
          0.512,
          0.5980000000000001,
          0.472,
          0.6140000000000001,
          0.5240000000000001,
          0.486,
          1.09,
          0.952,
          1.6,
          0.446,
          0.588,
          0.528,
          0.8119999999999999,
          0.774,
          1.048,
          0.808,
          0.6320000000000001,
          0.638,
          0.6739999999999999,
          1.314,
          1.678,
          0.6960000000000001,
          1.3,
          0.7260000000000002,
          0.6480000000000001,
          0.8400000000000001,
          0.884,
          0.9819999999999999,
          1.3719999999999999,
          0.8800000000000001,
          0.508,
          0.374,
          0.664,
          1.336,
          1.692,
          1.1960000000000002,
          2.0220000000000002,
          0.87,
          0.7040000000000001,
          0.752,
          0.44000000000000006,
          0.5940000000000001,
          0.628,
          0.56,
          1.132,
          1.432,
          1.2940000000000003,
          1.8319999999999999,
          1.0479999999999998,
          1.6620000000000001,
          1.2180000000000002,
          0.8240000000000001,
          0.67,
          0.598,
          0.802,
          0.5040000000000001,
          0.5720000000000001,
          1.442,
          1.306,
          0.6859999999999999,
          0.606,
          0.868,
          0.8579999999999999,
          0.5180000000000001,
          0.42000000000000004,
          0.594,
          0.808,
          1.4900000000000002,
          1.4460000000000002,
          0.8660000000000002,
          0.536,
          0.7000000000000001,
          0.5880000000000001,
          0.9320000000000003,
          0.526,
          0.902,
          0.45599999999999996,
          1.176,
          0.47800000000000004,
          0.8660000000000002,
          0.58,
          1.192,
          0.08000000000000002,
          1.7460000000000002,
          0.568,
          0.5980000000000001,
          0.59,
          0.588,
          0.8480000000000001,
          0.756,
          1.37,
          0.4340000000000001,
          0.9273333333333333,
          1.068,
          1.1260000000000001,
          0.7240000000000001,
          0.66,
          0.7080000000000001,
          0.4960000000000001,
          0.47000000000000003,
          1.722,
          0.4720000000000001,
          0.246,
          1.942,
          1.0260000000000002,
          0.46799999999999997,
          1.1600000000000001,
          1.6280000000000001,
          0.7020000000000001,
          0.868,
          1.0399999999999998,
          1.6839999999999997,
          1.4640000000000004,
          1.1500000000000001,
          1.55,
          0.6400000000000001,
          1.04,
          0.48,
          1.294,
          0.69,
          1.186,
          1.2460000000000004,
          1.4460000000000002,
          1.1380000000000003,
          1.2720000000000002,
          0.9340000000000002,
          1.176,
          1.054,
          0.5540000000000002,
          0.9620000000000002,
          1.352,
          1.0040000000000002,
          1.366,
          1.69,
          1.7880000000000003,
          0.9500000000000001,
          1.3420000000000003,
          1.0760000000000003,
          0.7160000000000001,
          1.428,
          1.428,
          1.6830000000000003,
          0.782,
          0.7280000000000001,
          0.7740000000000001,
          0.788,
          1.8439999999999999,
          0.9580000000000001,
          0.9199999999999999,
          1.556,
          1.94,
          0.8580000000000001,
          0.6160000000000001,
          0.748,
          0.5300000000000001,
          0.3600000000000001,
          0.536,
          0.6980000000000001,
          1.1580000000000001,
          0.538,
          0.626,
          0.8580000000000002,
          1.3820000000000001,
          1.2560000000000002,
          0.5680000000000001,
          0.512,
          0.506,
          1.066,
          0.8240000000000001,
          0.568,
          1.62,
          0.46199999999999997,
          0.5060000000000001,
          0.426,
          0.24600000000000005,
          0.5000000000000001,
          0.36800000000000005,
          0.546,
          0.45999999999999996,
          0.502,
          0.548,
          1.0100000000000002,
          1.068,
          0.548,
          0.806,
          0.8860000000000001,
          0.42800000000000005,
          0.624,
          0.482,
          0.474,
          0.6140000000000001,
          0.868,
          0.378,
          1.314,
          0.6299999999999999,
          0.8879999999999999,
          0.6200000000000001,
          0.49,
          0.7040000000000002,
          0.41600000000000004,
          0.526,
          0.8640000000000001,
          0.794,
          0.774,
          1.052,
          2.0220000000000002,
          1.82,
          0.9820000000000001,
          1.69,
          1.118,
          0.8740000000000001,
          0.788,
          0.686,
          0.43,
          0.7080000000000001,
          0.28200000000000003,
          1.506,
          0.8739999999999999,
          0.902,
          0.7560000000000001,
          0.322,
          0.414,
          0.434,
          1.2960000000000003,
          0.6080000000000001,
          1.028,
          1.0680000000000003,
          1.356,
          0.5700000000000001,
          1.006,
          0.9060000000000001,
          0.8,
          0.7320000000000001,
          0.65,
          0.8660000000000001,
          0.35600000000000004,
          0.46199999999999997,
          0.584,
          0.488,
          0.734,
          0.666,
          0.658,
          0.36999999999999994,
          0.36200000000000004
         ]
        },
        {
         "marker": {
          "color": "royalblue",
          "opacity": 0.5
         },
         "mode": "markers",
         "name": "Day Data",
         "type": "scatter",
         "x": [
          "1995-05-10T00:00:00",
          "1995-06-13T00:00:00",
          "1995-06-14T00:00:00",
          "1995-07-11T00:00:00",
          "1995-08-18T00:00:00",
          "1995-09-12T00:00:00",
          "1995-10-10T00:00:00",
          "1995-12-15T00:00:00",
          "1996-01-30T00:00:00",
          "1996-02-14T00:00:00",
          "1996-02-27T00:00:00",
          "1996-03-15T00:00:00",
          "1996-03-16T00:00:00",
          "1996-03-27T00:00:00",
          "1996-04-12T00:00:00",
          "1996-04-22T00:00:00",
          "1996-05-07T00:00:00",
          "1996-06-10T00:00:00",
          "1996-07-08T00:00:00",
          "1996-08-05T00:00:00",
          "1996-09-02T00:00:00",
          "1996-10-08T00:00:00",
          "1996-10-09T00:00:00",
          "1996-11-05T00:00:00",
          "1996-12-11T00:00:00",
          "1997-01-13T00:00:00",
          "1997-01-27T00:00:00",
          "1997-02-06T00:00:00",
          "1997-02-20T00:00:00",
          "1997-03-04T00:00:00",
          "1997-03-18T00:00:00",
          "1997-04-08T00:00:00",
          "1997-05-05T00:00:00",
          "1997-06-11T00:00:00",
          "1997-07-15T00:00:00",
          "1997-08-11T00:00:00",
          "1997-09-11T00:00:00",
          "1997-10-06T00:00:00",
          "1997-11-11T00:00:00",
          "1997-12-09T00:00:00",
          "1998-01-12T00:00:00",
          "1998-01-13T00:00:00",
          "1998-02-11T00:00:00",
          "1998-02-28T00:00:00",
          "1998-03-09T00:00:00",
          "1998-04-07T00:00:00",
          "1998-05-04T00:00:00",
          "1998-05-05T00:00:00",
          "1998-06-02T00:00:00",
          "1998-07-08T00:00:00",
          "1998-08-10T00:00:00",
          "1998-09-10T00:00:00",
          "1998-10-22T00:00:00",
          "1998-11-18T00:00:00",
          "1998-12-07T00:00:00",
          "1999-01-14T00:00:00",
          "1999-01-27T00:00:00",
          "1999-01-28T00:00:00",
          "1999-02-12T00:00:00",
          "1999-02-23T00:00:00",
          "1999-03-23T00:00:00",
          "1999-03-24T00:00:00",
          "1999-04-08T00:00:00",
          "1999-05-03T00:00:00",
          "1999-06-01T00:00:00",
          "1999-06-03T00:00:00",
          "1999-07-05T00:00:00",
          "1999-08-03T00:00:00",
          "1999-09-14T00:00:00",
          "1999-10-11T00:00:00",
          "1999-11-10T00:00:00",
          "1999-12-08T00:00:00",
          "2000-02-16T00:00:00",
          "2000-04-10T00:00:00",
          "2000-04-11T00:00:00",
          "2000-06-06T00:00:00",
          "2000-07-10T00:00:00",
          "2000-07-11T00:00:00",
          "2000-08-07T00:00:00",
          "2000-08-08T00:00:00",
          "2000-09-12T00:00:00",
          "2000-10-18T00:00:00",
          "2000-11-14T00:00:00",
          "2000-12-12T00:00:00",
          "2001-02-21T00:00:00",
          "2001-03-09T00:00:00",
          "2001-03-21T00:00:00",
          "2001-04-04T00:00:00",
          "2001-04-18T00:00:00",
          "2001-05-15T00:00:00",
          "2001-06-05T00:00:00",
          "2001-07-18T00:00:00",
          "2001-09-13T00:00:00",
          "2001-10-16T00:00:00",
          "2001-11-09T00:00:00",
          "2001-12-10T00:00:00",
          "2001-12-11T00:00:00",
          "2002-01-22T00:00:00",
          "2002-02-12T00:00:00",
          "2002-02-28T00:00:00",
          "2002-03-07T00:00:00",
          "2002-03-19T00:00:00",
          "2002-04-03T00:00:00",
          "2002-04-15T00:00:00",
          "2002-04-16T00:00:00",
          "2002-05-14T00:00:00",
          "2002-06-04T00:00:00",
          "2002-07-01T00:00:00",
          "2002-08-20T00:00:00",
          "2002-09-17T00:00:00",
          "2002-10-08T00:00:00",
          "2002-11-13T00:00:00",
          "2002-12-09T00:00:00",
          "2003-01-27T00:00:00",
          "2003-02-21T00:00:00",
          "2003-03-04T00:00:00",
          "2003-03-22T00:00:00",
          "2003-04-03T00:00:00",
          "2003-04-22T00:00:00",
          "2003-07-05T00:00:00",
          "2003-07-15T00:00:00",
          "2003-08-13T00:00:00",
          "2003-09-20T00:00:00",
          "2003-10-06T00:00:00",
          "2003-11-03T00:00:00",
          "2003-12-02T00:00:00",
          "2004-02-14T00:00:00",
          "2004-02-23T00:00:00",
          "2004-03-09T00:00:00",
          "2004-03-23T00:00:00",
          "2004-04-20T00:00:00",
          "2004-05-17T00:00:00",
          "2004-06-15T00:00:00",
          "2004-09-14T00:00:00",
          "2004-10-13T00:00:00",
          "2004-11-12T00:00:00",
          "2004-12-08T00:00:00",
          "2005-01-26T00:00:00",
          "2005-02-08T00:00:00",
          "2005-02-23T00:00:00",
          "2005-02-24T00:00:00",
          "2005-03-07T00:00:00",
          "2005-03-20T00:00:00",
          "2005-04-05T00:00:00",
          "2005-05-16T00:00:00",
          "2005-06-15T00:00:00",
          "2005-07-19T00:00:00",
          "2005-08-09T00:00:00",
          "2005-10-11T00:00:00",
          "2005-12-08T00:00:00",
          "2006-01-29T00:00:00",
          "2006-01-30T00:00:00",
          "2006-02-08T00:00:00",
          "2006-02-20T00:00:00",
          "2006-02-21T00:00:00",
          "2006-04-04T00:00:00",
          "2006-06-26T00:00:00",
          "2006-07-16T00:00:00",
          "2006-08-07T00:00:00",
          "2006-08-08T00:00:00",
          "2006-10-10T00:00:00",
          "2006-11-07T00:00:00",
          "2006-12-03T00:00:00",
          "2007-01-30T00:00:00",
          "2007-02-20T00:00:00",
          "2007-03-06T00:00:00",
          "2007-03-07T00:00:00",
          "2007-03-19T00:00:00",
          "2007-03-20T00:00:00",
          "2007-04-02T00:00:00",
          "2007-04-14T00:00:00",
          "2007-05-15T00:00:00",
          "2007-06-21T00:00:00",
          "2007-07-19T00:00:00",
          "2007-08-15T00:00:00",
          "2007-09-08T00:00:00",
          "2007-11-14T00:00:00",
          "2007-12-06T00:00:00",
          "2008-01-15T00:00:00",
          "2008-02-12T00:00:00",
          "2008-02-22T00:00:00",
          "2008-03-13T00:00:00",
          "2008-04-14T00:00:00",
          "2008-05-29T00:00:00",
          "2008-06-22T00:00:00",
          "2008-07-16T00:00:00",
          "2008-08-14T00:00:00",
          "2008-09-10T00:00:00",
          "2008-10-09T00:00:00",
          "2009-03-19T00:00:00",
          "2009-06-11T00:00:00",
          "2009-06-12T00:00:00",
          "2009-07-15T00:00:00",
          "2009-07-16T00:00:00",
          "2009-08-15T00:00:00",
          "2009-09-10T00:00:00",
          "2009-10-10T00:00:00",
          "2009-11-08T00:00:00",
          "2009-12-09T00:00:00",
          "2010-03-10T00:00:00",
          "2010-04-22T00:00:00",
          "2010-04-23T00:00:00",
          "2010-05-14T00:00:00",
          "2010-06-23T00:00:00",
          "2010-06-24T00:00:00",
          "2010-07-24T00:00:00",
          "2010-09-06T00:00:00",
          "2010-10-05T00:00:00",
          "2010-11-09T00:00:00",
          "2010-12-09T00:00:00",
          "2011-03-05T00:00:00",
          "2011-03-26T00:00:00",
          "2011-04-28T00:00:00",
          "2011-06-15T00:00:00",
          "2011-07-05T00:00:00",
          "2011-08-20T00:00:00",
          "2011-09-17T00:00:00",
          "2011-11-17T00:00:00",
          "2011-12-07T00:00:00",
          "2012-01-28T00:00:00",
          "2012-01-29T00:00:00",
          "2012-02-09T00:00:00",
          "2012-03-07T00:00:00",
          "2012-04-12T00:00:00",
          "2012-04-26T00:00:00",
          "2012-05-18T00:00:00",
          "2012-06-18T00:00:00",
          "2012-07-12T00:00:00",
          "2012-08-21T00:00:00",
          "2012-09-11T00:00:00",
          "2012-10-18T00:00:00",
          "2012-11-13T00:00:00",
          "2012-12-10T00:00:00",
          "2013-01-21T00:00:00",
          "2013-01-22T00:00:00",
          "2013-02-11T00:00:00",
          "2013-02-25T00:00:00",
          "2013-03-11T00:00:00",
          "2013-03-12T00:00:00",
          "2013-03-27T00:00:00",
          "2013-04-24T00:00:00",
          "2013-05-16T00:00:00",
          "2013-06-14T00:00:00",
          "2013-07-08T00:00:00",
          "2013-08-02T00:00:00",
          "2013-09-16T00:00:00",
          "2013-10-18T00:00:00",
          "2013-11-13T00:00:00",
          "2013-12-08T00:00:00",
          "2014-03-05T00:00:00",
          "2014-04-11T00:00:00",
          "2014-04-28T00:00:00",
          "2014-08-19T00:00:00",
          "2014-09-13T00:00:00",
          "2014-10-28T00:00:00",
          "2014-11-19T00:00:00",
          "2014-12-11T00:00:00",
          "2015-02-03T00:00:00",
          "2015-02-20T00:00:00",
          "2015-03-12T00:00:00",
          "2015-04-07T00:00:00",
          "2015-04-23T00:00:00",
          "2015-05-12T00:00:00",
          "2015-05-27T00:00:00",
          "2015-06-23T00:00:00",
          "2015-07-14T00:00:00",
          "2015-08-18T00:00:00",
          "2015-09-12T00:00:00",
          "2015-11-29T00:00:00",
          "2015-12-11T00:00:00",
          "2016-03-08T00:00:00",
          "2016-03-23T00:00:00",
          "2016-04-05T00:00:00",
          "2016-04-14T00:00:00",
          "2016-05-04T00:00:00",
          "2016-06-16T00:00:00",
          "2016-07-22T00:00:00",
          "2016-08-17T00:00:00",
          "2016-09-21T00:00:00",
          "2016-10-19T00:00:00",
          "2016-11-19T00:00:00",
          "2016-12-13T00:00:00",
          "2017-01-06T00:00:00",
          "2017-02-19T00:00:00",
          "2017-02-20T00:00:00",
          "2017-05-30T00:00:00",
          "2017-05-31T00:00:00",
          "2017-06-13T00:00:00",
          "2017-07-18T00:00:00",
          "2017-08-15T00:00:00",
          "2017-09-12T00:00:00",
          "2017-10-16T00:00:00",
          "2017-11-17T00:00:00",
          "2017-12-12T00:00:00",
          "2018-01-15T00:00:00",
          "2018-02-09T00:00:00",
          "2018-02-10T00:00:00",
          "2018-02-26T00:00:00",
          "2018-03-14T00:00:00",
          "2018-03-15T00:00:00",
          "2018-03-23T00:00:00",
          "2018-04-15T00:00:00",
          "2018-04-25T00:00:00",
          "2018-05-23T00:00:00",
          "2018-06-12T00:00:00",
          "2018-07-20T00:00:00",
          "2018-08-13T00:00:00",
          "2018-09-11T00:00:00",
          "2018-10-18T00:00:00",
          "2018-10-19T00:00:00",
          "2018-11-06T00:00:00",
          "2018-11-07T00:00:00",
          "2018-12-14T00:00:00",
          "2019-01-11T00:00:00",
          "2019-03-12T00:00:00",
          "2019-03-15T00:00:00",
          "2019-05-13T00:00:00",
          "2019-06-06T00:00:00",
          "2019-07-16T00:00:00",
          "2019-08-18T00:00:00",
          "2019-09-09T00:00:00",
          "2019-09-10T00:00:00",
          "2019-10-22T00:00:00",
          "2019-11-17T00:00:00",
          "2019-12-11T00:00:00",
          "2020-01-25T00:00:00",
          "2020-02-28T00:00:00",
          "2020-07-10T00:00:00",
          "2020-07-30T00:00:00",
          "2020-07-31T00:00:00",
          "2020-08-17T00:00:00",
          "2020-08-18T00:00:00",
          "2020-09-23T00:00:00",
          "2020-10-26T00:00:00",
          "2020-11-17T00:00:00",
          "2020-12-10T00:00:00",
          "2021-02-12T00:00:00",
          "2021-03-18T00:00:00",
          "2021-03-24T00:00:00",
          "2021-04-05T00:00:00",
          "2021-04-29T00:00:00",
          "2021-06-14T00:00:00",
          "2021-07-10T00:00:00",
          "2021-08-19T00:00:00",
          "2021-10-04T00:00:00",
          "2021-11-16T00:00:00",
          "2021-12-13T00:00:00",
          "2022-01-12T00:00:00",
          "2022-03-29T00:00:00",
          "2022-05-01T00:00:00",
          "2022-05-23T00:00:00",
          "2022-07-15T00:00:00",
          "2022-08-13T00:00:00",
          "2022-09-17T00:00:00",
          "2022-09-18T00:00:00",
          "2022-11-23T00:00:00",
          "2022-12-13T00:00:00"
         ],
         "y": [
          1.108,
          0.884,
          1.3479999999999999,
          1.2580000000000002,
          0.774,
          0.512,
          0.794,
          0.892,
          0.5920000000000001,
          0.40599999999999997,
          1.152,
          0.8039999999999999,
          0.7120000000000001,
          0.9500000000000001,
          1.07,
          2.4760000000000004,
          0.9800000000000001,
          0.786,
          1.2040000000000002,
          1.0040000000000002,
          0.794,
          1.004,
          0.828,
          0.6920000000000001,
          1.7620000000000002,
          0.752,
          0.9420000000000002,
          0.886,
          1.0260000000000002,
          0.886,
          0.8879999999999999,
          1.242,
          1.662,
          1.94,
          1.292,
          1.2080000000000002,
          1.05,
          0.9120000000000001,
          0.7000000000000001,
          1.29,
          0.9280000000000002,
          0.8039999999999999,
          1.8820000000000001,
          2.108,
          1.852,
          1.8060000000000003,
          1.4760000000000002,
          0.8560000000000001,
          1.8240000000000003,
          2.174,
          0.676,
          0.626,
          0.738,
          1.02,
          0.8260000000000001,
          0.628,
          0.596,
          0.5119999999999999,
          0.794,
          1.738,
          2.436,
          2.4120000000000004,
          2.234,
          1.486,
          2.516,
          1.8740000000000003,
          0.768,
          0.916,
          1.262,
          0.892,
          0.714,
          1.062,
          0.916,
          1.4160000000000001,
          2.336,
          1.046,
          1.004,
          1.708,
          1.1280000000000001,
          0.8399999999999999,
          0.838,
          0.734,
          0.9240000000000003,
          1.2520000000000002,
          1.5579999999999998,
          1.2960000000000003,
          1.9660000000000002,
          1.324,
          2.208,
          1.554,
          0.754,
          2.132,
          1.334,
          0.992,
          0.7800000000000001,
          0.7120000000000001,
          0.8,
          1.318,
          1.572,
          1.288,
          0.98,
          2.0020000000000002,
          2.07,
          0.9040000000000001,
          0.8239999999999998,
          2.15,
          1.2220000000000002,
          1.2720000000000002,
          1.7320000000000002,
          1.566,
          1.176,
          1.04,
          1.6940000000000002,
          1.0399999999999998,
          1.834,
          2.2340000000000004,
          2.468,
          2.336,
          1.05,
          1.724,
          1.6600000000000001,
          1.508,
          1.768,
          1.3260000000000003,
          0.7580000000000001,
          0.802,
          2.06,
          2.7119999999999997,
          2.1840000000000006,
          2.8280000000000003,
          3.3160000000000007,
          1.3599999999999999,
          1.54,
          1.596,
          0.674,
          1.374,
          1.312,
          0.7000000000000001,
          2.044,
          2.1799999999999997,
          2.2640000000000002,
          2.78,
          2.5240000000000005,
          2.3720000000000003,
          2.3920000000000003,
          1.068,
          0.63,
          1.5180000000000002,
          0.7600000000000001,
          0.744,
          1.1720000000000002,
          0.7160000000000001,
          3.476,
          2.168,
          2.1479999999999997,
          2.948,
          0.7100000000000001,
          1.052,
          1.076,
          1.1680000000000001,
          1.1640000000000001,
          1.094,
          0.9,
          0.8800000000000001,
          1.7900000000000003,
          1.6440000000000001,
          1.9479999999999997,
          1.4000000000000001,
          1.9040000000000004,
          1.8,
          1.506,
          1.084,
          1.0200000000000002,
          1.568,
          1.154,
          1.7600000000000002,
          0.666,
          0.8560000000000001,
          1.2780000000000002,
          1.18,
          1.3040000000000003,
          1.348,
          0.944,
          3.04,
          0.9319999999999999,
          2.406,
          1.1740000000000002,
          1.3020000000000003,
          1.03,
          1.602,
          1.3195555555555556,
          1.02,
          0.968,
          1.516,
          1.736,
          1.102,
          1.7939999999999998,
          1.0360000000000003,
          1.578,
          1.9960000000000002,
          1.096,
          1.4200000000000004,
          3.3440000000000007,
          0.38,
          0.372,
          0.8300000000000001,
          1.368,
          2.2,
          0.994,
          1.4240000000000002,
          2.602,
          2.0940000000000003,
          2.988,
          2.2659999999999996,
          2.046,
          1.0239999999999998,
          1.784,
          1.4340000000000002,
          0.9300000000000002,
          1.904,
          1.2880000000000003,
          1.658,
          1.56,
          2.5460000000000003,
          2.9480000000000004,
          2.4080000000000004,
          1.56,
          3.0540000000000003,
          1.9080000000000004,
          1.05,
          1.038,
          1.3399999999999999,
          1.7919999999999998,
          2.096,
          1.688,
          2.3640000000000003,
          2.424,
          1.536,
          1.588,
          3.2520000000000007,
          1.74,
          1.33,
          1.5180000000000002,
          2.076,
          2.152,
          1.508,
          1.3600000000000003,
          1.4120000000000001,
          0.9460000000000002,
          2.5820000000000003,
          2.07,
          1.6,
          1.6880000000000004,
          1.11,
          1.198,
          0.8,
          1.1340000000000001,
          0.6120000000000001,
          1.306,
          2.8880000000000003,
          1.57,
          1.008,
          3.254,
          2.33,
          0.792,
          1.172,
          2.0340000000000003,
          1.1039999999999999,
          0.9880000000000001,
          0.758,
          0.886,
          1.4400000000000002,
          1.2140000000000002,
          0.952,
          2.2380000000000004,
          0.4020000000000001,
          0.8900000000000001,
          0.7340000000000001,
          0.37400000000000005,
          0.334,
          0.654,
          0.6180000000000002,
          0.8039999999999999,
          0.96,
          1.18,
          1.704,
          1.3760000000000001,
          2.2079999999999997,
          1.5980000000000003,
          1.6340000000000001,
          1.1320000000000001,
          1.098,
          0.684,
          0.768,
          0.5900000000000001,
          1.1,
          1.4280000000000002,
          0.68,
          1.144,
          1.364,
          2.054,
          2.06,
          1.4820000000000002,
          2.364,
          1.616,
          1.2300000000000002,
          0.9899999999999999,
          0.7100000000000001,
          0.808,
          0.6640000000000001,
          1.404,
          1.008,
          1.2280000000000002,
          1.7280000000000002,
          2.776,
          2.816,
          2.7419999999999995,
          2.068,
          3.06,
          1.03,
          2.64,
          2.8280000000000003,
          1.068,
          2.1159999999999997,
          1.24,
          0.7360000000000002,
          1.3319999999999999,
          0.746,
          1.752,
          2.064,
          1.82,
          2.028,
          0.6720000000000002,
          1.096,
          0.5860000000000001,
          0.876,
          2.1460000000000004,
          1.346,
          2.1460000000000004,
          1.534,
          2.99,
          1.056,
          1.9580000000000002,
          1.9000000000000001,
          1.4600000000000004,
          0.968,
          2.204,
          0.5480000000000002,
          1.008,
          1.2640000000000002,
          0.704,
          1.518,
          1.46,
          0.712,
          0.75,
          0.5860000000000001,
          1.11
         ]
        },
        {
         "fill": "toself",
         "fillcolor": "rgba(255, 0, 0, 0.2)",
         "line": {
          "color": "rgba(0, 0, 0, 0)"
         },
         "name": "Day Confidence Interval",
         "type": "scatter",
         "x": [
          "1995-05-11T00:00:00",
          "1995-06-13T00:00:00",
          "1995-07-11T00:00:00",
          "1995-09-12T00:00:00",
          "1995-10-10T00:00:00",
          "1995-11-06T00:00:00",
          "1995-12-16T00:00:00",
          "1996-01-30T00:00:00",
          "1996-02-28T00:00:00",
          "1996-03-15T00:00:00",
          "1996-03-28T00:00:00",
          "1996-04-09T00:00:00",
          "1996-04-23T00:00:00",
          "1996-05-06T00:00:00",
          "1996-06-10T00:00:00",
          "1996-07-10T00:00:00",
          "1996-08-05T00:00:00",
          "1996-09-03T00:00:00",
          "1996-10-08T00:00:00",
          "1996-11-05T00:00:00",
          "1996-12-14T00:00:00",
          "1997-01-13T00:00:00",
          "1997-01-28T00:00:00",
          "1997-02-07T00:00:00",
          "1997-02-21T00:00:00",
          "1997-03-04T00:00:00",
          "1997-03-19T00:00:00",
          "1997-04-08T00:00:00",
          "1997-05-05T00:00:00",
          "1997-06-11T00:00:00",
          "1997-07-15T00:00:00",
          "1997-08-11T00:00:00",
          "1997-09-12T00:00:00",
          "1997-10-06T00:00:00",
          "1997-11-14T00:00:00",
          "1997-12-09T00:00:00",
          "1998-01-14T00:00:00",
          "1998-02-11T00:00:00",
          "1998-02-28T00:00:00",
          "1998-03-13T00:00:00",
          "1998-03-25T00:00:00",
          "1998-04-08T00:00:00",
          "1998-05-06T00:00:00",
          "1998-06-03T00:00:00",
          "1998-07-08T00:00:00",
          "1998-08-11T00:00:00",
          "1998-09-08T00:00:00",
          "1998-10-22T00:00:00",
          "1998-11-19T00:00:00",
          "1998-12-08T00:00:00",
          "1999-01-15T00:00:00",
          "1999-01-27T00:00:00",
          "1999-02-12T00:00:00",
          "1999-02-24T00:00:00",
          "1999-03-23T00:00:00",
          "1999-04-07T00:00:00",
          "1999-05-03T00:00:00",
          "1999-06-01T00:00:00",
          "1999-07-06T00:00:00",
          "1999-09-15T00:00:00",
          "1999-10-12T00:00:00",
          "1999-11-10T00:00:00",
          "1999-12-09T00:00:00",
          "2000-04-11T00:00:00",
          "2000-06-06T00:00:00",
          "2000-07-11T00:00:00",
          "2000-08-08T00:00:00",
          "2000-09-13T00:00:00",
          "2000-10-18T00:00:00",
          "2000-11-14T00:00:00",
          "2000-12-12T00:00:00",
          "2001-02-20T00:00:00",
          "2001-03-09T00:00:00",
          "2001-03-20T00:00:00",
          "2001-04-04T00:00:00",
          "2001-04-19T00:00:00",
          "2001-05-15T00:00:00",
          "2001-06-05T00:00:00",
          "2001-07-18T00:00:00",
          "2001-09-12T00:00:00",
          "2001-10-16T00:00:00",
          "2001-11-09T00:00:00",
          "2001-12-11T00:00:00",
          "2002-01-22T00:00:00",
          "2002-02-13T00:00:00",
          "2002-02-27T00:00:00",
          "2002-03-07T00:00:00",
          "2002-04-04T00:00:00",
          "2002-04-16T00:00:00",
          "2002-05-14T00:00:00",
          "2002-06-04T00:00:00",
          "2002-07-02T00:00:00",
          "2002-08-20T00:00:00",
          "2002-09-17T00:00:00",
          "2002-10-08T00:00:00",
          "2002-11-13T00:00:00",
          "2002-12-10T00:00:00",
          "2003-02-04T00:00:00",
          "2003-02-21T00:00:00",
          "2003-03-04T00:00:00",
          "2003-03-21T00:00:00",
          "2003-04-03T00:00:00",
          "2003-04-22T00:00:00",
          "2003-05-20T00:00:00",
          "2003-07-04T00:00:00",
          "2003-07-15T00:00:00",
          "2003-08-12T00:00:00",
          "2003-09-19T00:00:00",
          "2003-10-07T00:00:00",
          "2003-11-04T00:00:00",
          "2003-12-02T00:00:00",
          "2004-01-27T00:00:00",
          "2004-02-14T00:00:00",
          "2004-02-24T00:00:00",
          "2004-04-07T00:00:00",
          "2004-04-21T00:00:00",
          "2004-05-18T00:00:00",
          "2004-06-15T00:00:00",
          "2004-09-14T00:00:00",
          "2004-10-13T00:00:00",
          "2004-11-12T00:00:00",
          "2004-12-08T00:00:00",
          "2005-01-27T00:00:00",
          "2005-02-08T00:00:00",
          "2005-02-24T00:00:00",
          "2005-03-08T00:00:00",
          "2005-03-21T00:00:00",
          "2005-04-06T00:00:00",
          "2005-04-19T00:00:00",
          "2005-05-17T00:00:00",
          "2005-06-14T00:00:00",
          "2005-07-19T00:00:00",
          "2005-08-10T00:00:00",
          "2005-09-06T00:00:00",
          "2005-10-11T00:00:00",
          "2005-11-10T00:00:00",
          "2006-01-29T00:00:00",
          "2006-02-22T00:00:00",
          "2006-05-10T00:00:00",
          "2006-07-18T00:00:00",
          "2006-08-08T00:00:00",
          "2006-10-10T00:00:00",
          "2006-11-07T00:00:00",
          "2006-12-04T00:00:00",
          "2007-02-01T00:00:00",
          "2007-02-22T00:00:00",
          "2007-03-07T00:00:00",
          "2007-03-20T00:00:00",
          "2007-04-03T00:00:00",
          "2007-04-14T00:00:00",
          "2007-05-16T00:00:00",
          "2007-06-21T00:00:00",
          "2007-07-18T00:00:00",
          "2007-08-17T00:00:00",
          "2007-11-14T00:00:00",
          "2007-12-06T00:00:00",
          "2008-01-17T00:00:00",
          "2008-02-12T00:00:00",
          "2008-02-23T00:00:00",
          "2008-03-13T00:00:00",
          "2008-03-25T00:00:00",
          "2008-04-17T00:00:00",
          "2008-05-29T00:00:00",
          "2008-07-18T00:00:00",
          "2008-08-14T00:00:00",
          "2008-09-12T00:00:00",
          "2008-10-09T00:00:00",
          "2009-02-22T00:00:00",
          "2009-03-06T00:00:00",
          "2009-03-19T00:00:00",
          "2009-04-01T00:00:00",
          "2009-06-11T00:00:00",
          "2009-07-15T00:00:00",
          "2009-08-15T00:00:00",
          "2009-09-11T00:00:00",
          "2009-10-10T00:00:00",
          "2009-11-08T00:00:00",
          "2009-12-09T00:00:00",
          "2010-02-24T00:00:00",
          "2010-03-09T00:00:00",
          "2010-04-07T00:00:00",
          "2010-04-21T00:00:00",
          "2010-05-13T00:00:00",
          "2010-06-23T00:00:00",
          "2010-07-24T00:00:00",
          "2010-09-06T00:00:00",
          "2010-10-06T00:00:00",
          "2010-11-10T00:00:00",
          "2010-12-09T00:00:00",
          "2011-03-04T00:00:00",
          "2011-04-27T00:00:00",
          "2011-05-17T00:00:00",
          "2011-06-15T00:00:00",
          "2011-07-06T00:00:00",
          "2011-08-19T00:00:00",
          "2011-09-17T00:00:00",
          "2011-11-01T00:00:00",
          "2011-11-17T00:00:00",
          "2011-12-08T00:00:00",
          "2012-01-29T00:00:00",
          "2012-02-10T00:00:00",
          "2012-03-08T00:00:00",
          "2012-04-26T00:00:00",
          "2012-05-19T00:00:00",
          "2012-06-18T00:00:00",
          "2012-07-12T00:00:00",
          "2012-08-20T00:00:00",
          "2012-09-12T00:00:00",
          "2012-10-19T00:00:00",
          "2012-11-16T00:00:00",
          "2012-12-11T00:00:00",
          "2013-01-22T00:00:00",
          "2013-02-12T00:00:00",
          "2013-02-26T00:00:00",
          "2013-03-12T00:00:00",
          "2013-04-06T00:00:00",
          "2013-04-24T00:00:00",
          "2013-05-15T00:00:00",
          "2013-06-16T00:00:00",
          "2013-07-05T00:00:00",
          "2013-08-02T00:00:00",
          "2013-09-17T00:00:00",
          "2013-10-19T00:00:00",
          "2013-11-14T00:00:00",
          "2013-12-09T00:00:00",
          "2014-03-06T00:00:00",
          "2014-04-11T00:00:00",
          "2014-04-29T00:00:00",
          "2014-06-12T00:00:00",
          "2014-07-10T00:00:00",
          "2014-08-20T00:00:00",
          "2014-09-13T00:00:00",
          "2014-10-28T00:00:00",
          "2014-11-20T00:00:00",
          "2014-12-11T00:00:00",
          "2015-02-05T00:00:00",
          "2015-02-20T00:00:00",
          "2015-04-08T00:00:00",
          "2015-04-24T00:00:00",
          "2015-06-23T00:00:00",
          "2015-07-15T00:00:00",
          "2015-08-18T00:00:00",
          "2015-09-12T00:00:00",
          "2015-11-30T00:00:00",
          "2015-12-12T00:00:00",
          "2016-03-08T00:00:00",
          "2016-03-23T00:00:00",
          "2016-04-05T00:00:00",
          "2016-04-15T00:00:00",
          "2016-05-04T00:00:00",
          "2016-06-14T00:00:00",
          "2016-07-22T00:00:00",
          "2016-08-17T00:00:00",
          "2016-09-20T00:00:00",
          "2016-10-19T00:00:00",
          "2016-11-19T00:00:00",
          "2016-12-13T00:00:00",
          "2017-01-07T00:00:00",
          "2017-02-19T00:00:00",
          "2017-05-09T00:00:00",
          "2017-05-30T00:00:00",
          "2017-06-13T00:00:00",
          "2017-07-18T00:00:00",
          "2017-08-15T00:00:00",
          "2017-09-12T00:00:00",
          "2017-10-17T00:00:00",
          "2017-10-18T00:00:00",
          "2017-11-17T00:00:00",
          "2017-12-12T00:00:00",
          "2018-01-15T00:00:00",
          "2018-02-10T00:00:00",
          "2018-02-27T00:00:00",
          "2018-04-16T00:00:00",
          "2018-04-26T00:00:00",
          "2018-05-23T00:00:00",
          "2018-06-12T00:00:00",
          "2018-07-20T00:00:00",
          "2018-08-13T00:00:00",
          "2018-09-12T00:00:00",
          "2018-10-18T00:00:00",
          "2018-11-06T00:00:00",
          "2018-12-14T00:00:00",
          "2019-01-11T00:00:00",
          "2019-04-10T00:00:00",
          "2019-05-13T00:00:00",
          "2019-06-07T00:00:00",
          "2019-07-16T00:00:00",
          "2019-08-19T00:00:00",
          "2019-09-09T00:00:00",
          "2019-10-23T00:00:00",
          "2019-11-17T00:00:00",
          "2019-12-11T00:00:00",
          "2020-01-26T00:00:00",
          "2020-02-27T00:00:00",
          "2020-07-10T00:00:00",
          "2020-07-31T00:00:00",
          "2020-08-18T00:00:00",
          "2020-09-24T00:00:00",
          "2020-10-26T00:00:00",
          "2020-11-18T00:00:00",
          "2020-12-11T00:00:00",
          "2021-01-25T00:00:00",
          "2021-02-13T00:00:00",
          "2021-03-18T00:00:00",
          "2021-03-25T00:00:00",
          "2021-04-06T00:00:00",
          "2021-05-12T00:00:00",
          "2021-06-15T00:00:00",
          "2021-07-11T00:00:00",
          "2021-08-19T00:00:00",
          "2021-09-12T00:00:00",
          "2021-10-05T00:00:00",
          "2021-11-17T00:00:00",
          "2021-12-13T00:00:00",
          "2022-01-12T00:00:00",
          "2022-03-29T00:00:00",
          "2022-05-01T00:00:00",
          "2022-05-23T00:00:00",
          "2022-06-30T00:00:00",
          "2022-07-16T00:00:00",
          "2022-08-13T00:00:00",
          "2022-11-24T00:00:00",
          "2022-12-13T00:00:00",
          "2022-12-13T00:00:00",
          "2022-11-24T00:00:00",
          "2022-08-13T00:00:00",
          "2022-07-16T00:00:00",
          "2022-06-30T00:00:00",
          "2022-05-23T00:00:00",
          "2022-05-01T00:00:00",
          "2022-03-29T00:00:00",
          "2022-01-12T00:00:00",
          "2021-12-13T00:00:00",
          "2021-11-17T00:00:00",
          "2021-10-05T00:00:00",
          "2021-09-12T00:00:00",
          "2021-08-19T00:00:00",
          "2021-07-11T00:00:00",
          "2021-06-15T00:00:00",
          "2021-05-12T00:00:00",
          "2021-04-06T00:00:00",
          "2021-03-25T00:00:00",
          "2021-03-18T00:00:00",
          "2021-02-13T00:00:00",
          "2021-01-25T00:00:00",
          "2020-12-11T00:00:00",
          "2020-11-18T00:00:00",
          "2020-10-26T00:00:00",
          "2020-09-24T00:00:00",
          "2020-08-18T00:00:00",
          "2020-07-31T00:00:00",
          "2020-07-10T00:00:00",
          "2020-02-27T00:00:00",
          "2020-01-26T00:00:00",
          "2019-12-11T00:00:00",
          "2019-11-17T00:00:00",
          "2019-10-23T00:00:00",
          "2019-09-09T00:00:00",
          "2019-08-19T00:00:00",
          "2019-07-16T00:00:00",
          "2019-06-07T00:00:00",
          "2019-05-13T00:00:00",
          "2019-04-10T00:00:00",
          "2019-01-11T00:00:00",
          "2018-12-14T00:00:00",
          "2018-11-06T00:00:00",
          "2018-10-18T00:00:00",
          "2018-09-12T00:00:00",
          "2018-08-13T00:00:00",
          "2018-07-20T00:00:00",
          "2018-06-12T00:00:00",
          "2018-05-23T00:00:00",
          "2018-04-26T00:00:00",
          "2018-04-16T00:00:00",
          "2018-02-27T00:00:00",
          "2018-02-10T00:00:00",
          "2018-01-15T00:00:00",
          "2017-12-12T00:00:00",
          "2017-11-17T00:00:00",
          "2017-10-18T00:00:00",
          "2017-10-17T00:00:00",
          "2017-09-12T00:00:00",
          "2017-08-15T00:00:00",
          "2017-07-18T00:00:00",
          "2017-06-13T00:00:00",
          "2017-05-30T00:00:00",
          "2017-05-09T00:00:00",
          "2017-02-19T00:00:00",
          "2017-01-07T00:00:00",
          "2016-12-13T00:00:00",
          "2016-11-19T00:00:00",
          "2016-10-19T00:00:00",
          "2016-09-20T00:00:00",
          "2016-08-17T00:00:00",
          "2016-07-22T00:00:00",
          "2016-06-14T00:00:00",
          "2016-05-04T00:00:00",
          "2016-04-15T00:00:00",
          "2016-04-05T00:00:00",
          "2016-03-23T00:00:00",
          "2016-03-08T00:00:00",
          "2015-12-12T00:00:00",
          "2015-11-30T00:00:00",
          "2015-09-12T00:00:00",
          "2015-08-18T00:00:00",
          "2015-07-15T00:00:00",
          "2015-06-23T00:00:00",
          "2015-04-24T00:00:00",
          "2015-04-08T00:00:00",
          "2015-02-20T00:00:00",
          "2015-02-05T00:00:00",
          "2014-12-11T00:00:00",
          "2014-11-20T00:00:00",
          "2014-10-28T00:00:00",
          "2014-09-13T00:00:00",
          "2014-08-20T00:00:00",
          "2014-07-10T00:00:00",
          "2014-06-12T00:00:00",
          "2014-04-29T00:00:00",
          "2014-04-11T00:00:00",
          "2014-03-06T00:00:00",
          "2013-12-09T00:00:00",
          "2013-11-14T00:00:00",
          "2013-10-19T00:00:00",
          "2013-09-17T00:00:00",
          "2013-08-02T00:00:00",
          "2013-07-05T00:00:00",
          "2013-06-16T00:00:00",
          "2013-05-15T00:00:00",
          "2013-04-24T00:00:00",
          "2013-04-06T00:00:00",
          "2013-03-12T00:00:00",
          "2013-02-26T00:00:00",
          "2013-02-12T00:00:00",
          "2013-01-22T00:00:00",
          "2012-12-11T00:00:00",
          "2012-11-16T00:00:00",
          "2012-10-19T00:00:00",
          "2012-09-12T00:00:00",
          "2012-08-20T00:00:00",
          "2012-07-12T00:00:00",
          "2012-06-18T00:00:00",
          "2012-05-19T00:00:00",
          "2012-04-26T00:00:00",
          "2012-03-08T00:00:00",
          "2012-02-10T00:00:00",
          "2012-01-29T00:00:00",
          "2011-12-08T00:00:00",
          "2011-11-17T00:00:00",
          "2011-11-01T00:00:00",
          "2011-09-17T00:00:00",
          "2011-08-19T00:00:00",
          "2011-07-06T00:00:00",
          "2011-06-15T00:00:00",
          "2011-05-17T00:00:00",
          "2011-04-27T00:00:00",
          "2011-03-04T00:00:00",
          "2010-12-09T00:00:00",
          "2010-11-10T00:00:00",
          "2010-10-06T00:00:00",
          "2010-09-06T00:00:00",
          "2010-07-24T00:00:00",
          "2010-06-23T00:00:00",
          "2010-05-13T00:00:00",
          "2010-04-21T00:00:00",
          "2010-04-07T00:00:00",
          "2010-03-09T00:00:00",
          "2010-02-24T00:00:00",
          "2009-12-09T00:00:00",
          "2009-11-08T00:00:00",
          "2009-10-10T00:00:00",
          "2009-09-11T00:00:00",
          "2009-08-15T00:00:00",
          "2009-07-15T00:00:00",
          "2009-06-11T00:00:00",
          "2009-04-01T00:00:00",
          "2009-03-19T00:00:00",
          "2009-03-06T00:00:00",
          "2009-02-22T00:00:00",
          "2008-10-09T00:00:00",
          "2008-09-12T00:00:00",
          "2008-08-14T00:00:00",
          "2008-07-18T00:00:00",
          "2008-05-29T00:00:00",
          "2008-04-17T00:00:00",
          "2008-03-25T00:00:00",
          "2008-03-13T00:00:00",
          "2008-02-23T00:00:00",
          "2008-02-12T00:00:00",
          "2008-01-17T00:00:00",
          "2007-12-06T00:00:00",
          "2007-11-14T00:00:00",
          "2007-08-17T00:00:00",
          "2007-07-18T00:00:00",
          "2007-06-21T00:00:00",
          "2007-05-16T00:00:00",
          "2007-04-14T00:00:00",
          "2007-04-03T00:00:00",
          "2007-03-20T00:00:00",
          "2007-03-07T00:00:00",
          "2007-02-22T00:00:00",
          "2007-02-01T00:00:00",
          "2006-12-04T00:00:00",
          "2006-11-07T00:00:00",
          "2006-10-10T00:00:00",
          "2006-08-08T00:00:00",
          "2006-07-18T00:00:00",
          "2006-05-10T00:00:00",
          "2006-02-22T00:00:00",
          "2006-01-29T00:00:00",
          "2005-11-10T00:00:00",
          "2005-10-11T00:00:00",
          "2005-09-06T00:00:00",
          "2005-08-10T00:00:00",
          "2005-07-19T00:00:00",
          "2005-06-14T00:00:00",
          "2005-05-17T00:00:00",
          "2005-04-19T00:00:00",
          "2005-04-06T00:00:00",
          "2005-03-21T00:00:00",
          "2005-03-08T00:00:00",
          "2005-02-24T00:00:00",
          "2005-02-08T00:00:00",
          "2005-01-27T00:00:00",
          "2004-12-08T00:00:00",
          "2004-11-12T00:00:00",
          "2004-10-13T00:00:00",
          "2004-09-14T00:00:00",
          "2004-06-15T00:00:00",
          "2004-05-18T00:00:00",
          "2004-04-21T00:00:00",
          "2004-04-07T00:00:00",
          "2004-02-24T00:00:00",
          "2004-02-14T00:00:00",
          "2004-01-27T00:00:00",
          "2003-12-02T00:00:00",
          "2003-11-04T00:00:00",
          "2003-10-07T00:00:00",
          "2003-09-19T00:00:00",
          "2003-08-12T00:00:00",
          "2003-07-15T00:00:00",
          "2003-07-04T00:00:00",
          "2003-05-20T00:00:00",
          "2003-04-22T00:00:00",
          "2003-04-03T00:00:00",
          "2003-03-21T00:00:00",
          "2003-03-04T00:00:00",
          "2003-02-21T00:00:00",
          "2003-02-04T00:00:00",
          "2002-12-10T00:00:00",
          "2002-11-13T00:00:00",
          "2002-10-08T00:00:00",
          "2002-09-17T00:00:00",
          "2002-08-20T00:00:00",
          "2002-07-02T00:00:00",
          "2002-06-04T00:00:00",
          "2002-05-14T00:00:00",
          "2002-04-16T00:00:00",
          "2002-04-04T00:00:00",
          "2002-03-07T00:00:00",
          "2002-02-27T00:00:00",
          "2002-02-13T00:00:00",
          "2002-01-22T00:00:00",
          "2001-12-11T00:00:00",
          "2001-11-09T00:00:00",
          "2001-10-16T00:00:00",
          "2001-09-12T00:00:00",
          "2001-07-18T00:00:00",
          "2001-06-05T00:00:00",
          "2001-05-15T00:00:00",
          "2001-04-19T00:00:00",
          "2001-04-04T00:00:00",
          "2001-03-20T00:00:00",
          "2001-03-09T00:00:00",
          "2001-02-20T00:00:00",
          "2000-12-12T00:00:00",
          "2000-11-14T00:00:00",
          "2000-10-18T00:00:00",
          "2000-09-13T00:00:00",
          "2000-08-08T00:00:00",
          "2000-07-11T00:00:00",
          "2000-06-06T00:00:00",
          "2000-04-11T00:00:00",
          "1999-12-09T00:00:00",
          "1999-11-10T00:00:00",
          "1999-10-12T00:00:00",
          "1999-09-15T00:00:00",
          "1999-07-06T00:00:00",
          "1999-06-01T00:00:00",
          "1999-05-03T00:00:00",
          "1999-04-07T00:00:00",
          "1999-03-23T00:00:00",
          "1999-02-24T00:00:00",
          "1999-02-12T00:00:00",
          "1999-01-27T00:00:00",
          "1999-01-15T00:00:00",
          "1998-12-08T00:00:00",
          "1998-11-19T00:00:00",
          "1998-10-22T00:00:00",
          "1998-09-08T00:00:00",
          "1998-08-11T00:00:00",
          "1998-07-08T00:00:00",
          "1998-06-03T00:00:00",
          "1998-05-06T00:00:00",
          "1998-04-08T00:00:00",
          "1998-03-25T00:00:00",
          "1998-03-13T00:00:00",
          "1998-02-28T00:00:00",
          "1998-02-11T00:00:00",
          "1998-01-14T00:00:00",
          "1997-12-09T00:00:00",
          "1997-11-14T00:00:00",
          "1997-10-06T00:00:00",
          "1997-09-12T00:00:00",
          "1997-08-11T00:00:00",
          "1997-07-15T00:00:00",
          "1997-06-11T00:00:00",
          "1997-05-05T00:00:00",
          "1997-04-08T00:00:00",
          "1997-03-19T00:00:00",
          "1997-03-04T00:00:00",
          "1997-02-21T00:00:00",
          "1997-02-07T00:00:00",
          "1997-01-28T00:00:00",
          "1997-01-13T00:00:00",
          "1996-12-14T00:00:00",
          "1996-11-05T00:00:00",
          "1996-10-08T00:00:00",
          "1996-09-03T00:00:00",
          "1996-08-05T00:00:00",
          "1996-07-10T00:00:00",
          "1996-06-10T00:00:00",
          "1996-05-06T00:00:00",
          "1996-04-23T00:00:00",
          "1996-04-09T00:00:00",
          "1996-03-28T00:00:00",
          "1996-03-15T00:00:00",
          "1996-02-28T00:00:00",
          "1996-01-30T00:00:00",
          "1995-12-16T00:00:00",
          "1995-11-06T00:00:00",
          "1995-10-10T00:00:00",
          "1995-09-12T00:00:00",
          "1995-07-11T00:00:00",
          "1995-06-13T00:00:00",
          "1995-05-11T00:00:00"
         ],
         "y": [
          0.8716495413285038,
          0.8717865175741948,
          0.8719027398432659,
          0.872164239948676,
          0.8722804622177471,
          0.8723925336914943,
          0.872558565504453,
          0.8727453512940316,
          0.8728657243584267,
          0.8729321370836102,
          0.8729860974228218,
          0.8730359069667094,
          0.873094018101245,
          0.8731479784404567,
          0.8732932562767955,
          0.8734177801365146,
          0.8735257008149377,
          0.8736460738793329,
          0.8737913517156718,
          0.873907573984743,
          0.8740694550023778,
          0.8741939788620968,
          0.8742562407919563,
          0.8742977487451961,
          0.8743558598797316,
          0.8744015186282953,
          0.8744637805581548,
          0.8745467964646342,
          0.8746588679383813,
          0.8748124473653682,
          0.8749535744063831,
          0.8750656458801302,
          0.8751984713304973,
          0.8752980904182726,
          0.8754599714359074,
          0.8755637413190066,
          0.8757131699506695,
          0.8758293922197405,
          0.875899955740248,
          0.8759539160794596,
          0.8760037256233473,
          0.8760618367578829,
          0.876178059026954,
          0.8762942812960252,
          0.876439559132364,
          0.8765806861733789,
          0.8766969084424501,
          0.8768795434367047,
          0.8769957657057759,
          0.8770746308169313,
          0.8772323610392421,
          0.8772821705831297,
          0.8773485833083132,
          0.8773983928522009,
          0.877510464325948,
          0.8775727262558075,
          0.8776806469342308,
          0.8778010199986258,
          0.8779462978349648,
          0.8782410043029666,
          0.8783530757767137,
          0.8784734488411088,
          0.878593821905504,
          0.8791085205256761,
          0.8793409650638183,
          0.8794862429001573,
          0.8796024651692284,
          0.8797518938008912,
          0.8798971716372301,
          0.8800092431109774,
          0.8801254653800484,
          0.8804160210527263,
          0.8804865845732338,
          0.8805322433217975,
          0.880594505251657,
          0.8806567671815165,
          0.8807646878599397,
          0.8808518545617431,
          0.8810303387606737,
          0.881262783298816,
          0.8814039103398309,
          0.8815035294276062,
          0.8816363548779732,
          0.8818106882815799,
          0.8819020057787073,
          0.8819601169132428,
          0.8819933232758346,
          0.8821095455449056,
          0.8821593550887933,
          0.8822755773578644,
          0.8823627440596677,
          0.8824789663287389,
          0.8826823552996134,
          0.8827985775686845,
          0.8828857442704878,
          0.8830351729021507,
          0.8831472443758979,
          0.8833796889140402,
          0.8834502524345477,
          0.8834959111831113,
          0.8835664747036188,
          0.8836204350428304,
          0.8836993001539858,
          0.8838155224230569,
          0.8840023082126355,
          0.8840479669611991,
          0.8841641892302703,
          0.8843219194525811,
          0.8843966337684126,
          0.8845128560374838,
          0.8846290783065548,
          0.8848615228446971,
          0.8849362371605285,
          0.8849777451137683,
          0.8851562293126989,
          0.8852143404472345,
          0.8853264119209816,
          0.8854426341900528,
          0.885820356564534,
          0.885940729628929,
          0.8860652534886481,
          0.8861731741670713,
          0.8863807139332698,
          0.8864305234771573,
          0.8864969362023409,
          0.8865467457462285,
          0.8866007060854401,
          0.8866671188106237,
          0.8867210791498352,
          0.8868373014189064,
          0.8869535236879774,
          0.8870988015243164,
          0.8871901190214437,
          0.8873021904951909,
          0.8874474683315298,
          0.8875719921912488,
          0.8879040558171664,
          0.8880036749049416,
          0.8883232861448872,
          0.8886096910222411,
          0.8886968577240445,
          0.8889583578294545,
          0.8890745800985256,
          0.8891866515722728,
          0.889431548496387,
          0.8895187151981903,
          0.8895726755374019,
          0.8896266358766135,
          0.8896847470111491,
          0.8897304057597127,
          0.8898632312100797,
          0.8900126598417426,
          0.8901247313154897,
          0.8902492551752088,
          0.8906186759590421,
          0.8907099934561694,
          0.8908843268597761,
          0.8909922475381993,
          0.8910379062867629,
          0.8911167713979183,
          0.891166580941806,
          0.8912620492342573,
          0.891436382637864,
          0.8916439224040624,
          0.8917559938778096,
          0.8918763669422047,
          0.8919884384159519,
          0.8925529465800116,
          0.8926027561238993,
          0.8926567164631108,
          0.8927106768023224,
          0.8930053832703243,
          0.8931465103113392,
          0.8932751849663823,
          0.8933872564401294,
          0.8935076295045246,
          0.8936280025689196,
          0.8937566772239627,
          0.8940762884639083,
          0.8941302488031199,
          0.8942506218675149,
          0.8943087330020505,
          0.8944000504991778,
          0.8945702331074605,
          0.8946989077625036,
          0.8948815427567582,
          0.8950060666164773,
          0.8951513444528162,
          0.8952717175172114,
          0.8956245351197487,
          0.895848678067243,
          0.8959316939737224,
          0.8960520670381175,
          0.8961392337399209,
          0.8963218687341755,
          0.8964422417985706,
          0.8966290275881492,
          0.8966954403133327,
          0.896782607015136,
          0.8969984483719824,
          0.8970482579158701,
          0.8971603293896172,
          0.8973637183604917,
          0.897459186652943,
          0.8975837105126621,
          0.8976833296004373,
          0.8978452106180721,
          0.8979406789105234,
          0.8980942583375102,
          0.8982104806065814,
          0.8983142504896806,
          0.8984885838932873,
          0.8985757505950906,
          0.8986338617296262,
          0.8986919728641618,
          0.898795742747261,
          0.8988704570630924,
          0.8989576237648957,
          0.8990904492152628,
          0.8991693143264182,
          0.8992855365954894,
          0.8994764731803919,
          0.8996092986307589,
          0.8997172193091821,
          0.8998209891922814,
          0.9001821083854666,
          0.9003315370171295,
          0.9004062513329609,
          0.9005888863272156,
          0.9007051085962867,
          0.9008752912045694,
          0.9009749102923447,
          0.9011616960819233,
          0.9012571643743746,
          0.901344331076178,
          0.9015767756143203,
          0.9016390375441797,
          0.9018341249244063,
          0.9019005376495898,
          0.9021495853690279,
          0.9022409028661552,
          0.9023820299071702,
          0.9024857997902694,
          0.902813712620863,
          0.9028635221647506,
          0.9032246413579359,
          0.9032869032877955,
          0.903340863627007,
          0.9033823715802467,
          0.9034612366914021,
          0.9036314192996848,
          0.9037891495219957,
          0.9038970702004189,
          0.9040381972414339,
          0.9041585703058289,
          0.904287244960872,
          0.9043868640486472,
          0.9044906339317464,
          0.9046691181306771,
          0.9049970309612707,
          0.905084197663074,
          0.9051423087976096,
          0.9052875866339485,
          0.9054038089030196,
          0.9055200311720908,
          0.9056653090084297,
          0.9056694598037537,
          0.9057939836634727,
          0.905897753546572,
          0.9060388805875869,
          0.9061468012660101,
          0.9062173647865176,
          0.906416602962068,
          0.9064581109153077,
          0.906570182389055,
          0.9066531982955343,
          0.9068109285178452,
          0.9069105476056204,
          0.9070350714653395,
          0.9071845000970024,
          0.9072633652081578,
          0.9074210954304686,
          0.9075373176995397,
          0.9079067384833729,
          0.9080437147290639,
          0.9081474846121631,
          0.9083093656297979,
          0.9084504926708129,
          0.9085376593726162,
          0.9087202943668709,
          0.9088240642499701,
          0.9089236833377453,
          0.9091146199226479,
          0.9092474453730149,
          0.9098036519464268,
          0.9098908186482301,
          0.9099655329640616,
          0.9101191123910484,
          0.9102519378414154,
          0.9103474061338667,
          0.910442874426318,
          0.9106296602158965,
          0.910708525327052,
          0.910845501572743,
          0.9108745571400108,
          0.9109243666838984,
          0.9110737953155613,
          0.9112149223565762,
          0.9113228430349994,
          0.9114847240526343,
          0.9115843431404095,
          0.9116798114328607,
          0.9118582956317914,
          0.9119662163102146,
          0.9120907401699336,
          0.9124062006145554,
          0.9125431768602463,
          0.9126344943573736,
          0.9127922245796845,
          0.9128586373048679,
          0.9129748595739391,
          0.9134023914923078,
          0.9134812566034632,
          0.8270885747400233,
          0.8270097096288679,
          0.8265821777104991,
          0.826465955441428,
          0.8263995427162445,
          0.8262418124939337,
          0.8261504949968064,
          0.8260135187511154,
          0.8256980583064937,
          0.8255735344467746,
          0.8254656137683515,
          0.8252871295694207,
          0.8251916612769695,
          0.8250920421891943,
          0.8249301611715595,
          0.8248222404931362,
          0.8246811134521214,
          0.8245316848204585,
          0.8244818752765708,
          0.8244528197093031,
          0.8243158434636121,
          0.8242369783524566,
          0.824050192562878,
          0.8239547242704267,
          0.8238592559779755,
          0.8237264305276084,
          0.8235728511006216,
          0.8234981367847901,
          0.8234109700829868,
          0.822854763509575,
          0.8227219380592079,
          0.8225310014743054,
          0.8224313823865301,
          0.8223276125034309,
          0.8221449775091763,
          0.822057810807373,
          0.821916683766358,
          0.8217548027487231,
          0.8216510328656239,
          0.8215140566199329,
          0.8211446358360998,
          0.8210284135670286,
          0.8208706833447178,
          0.8207918182335624,
          0.8206423896018995,
          0.8205178657421804,
          0.8204182466544052,
          0.8202605164320943,
          0.820177500525615,
          0.8200654290518677,
          0.8200239210986281,
          0.8198246829230776,
          0.8197541194025701,
          0.8196461987241469,
          0.819505071683132,
          0.8194013018000328,
          0.8192767779403137,
          0.8192726271449897,
          0.8191273493086508,
          0.8190111270395797,
          0.8188949047705085,
          0.8187496269341696,
          0.8186915157996341,
          0.8186043490978308,
          0.8182764362672371,
          0.8180979520683065,
          0.8179941821852073,
          0.817894563097432,
          0.817765888442389,
          0.8176455153779939,
          0.8175043883369789,
          0.8173964676585558,
          0.8172387374362449,
          0.8170685548279621,
          0.8169896897168067,
          0.8169481817635671,
          0.8168942214243555,
          0.8168319594944959,
          0.8164708403013107,
          0.816421030757423,
          0.8160931179268295,
          0.8159893480437302,
          0.8158482210027153,
          0.8157569035055879,
          0.8155078557861498,
          0.8154414430609663,
          0.8152463556807398,
          0.8151840937508803,
          0.814951649212738,
          0.8148644825109347,
          0.8147690142184834,
          0.8145822284289047,
          0.8144826093411295,
          0.8143124267328468,
          0.8141962044637756,
          0.814013569469521,
          0.8139388551536896,
          0.8137894265220267,
          0.8134283073288414,
          0.8133245374457422,
          0.8132166167673189,
          0.813083791316952,
          0.8128928547320494,
          0.8127766324629783,
          0.8126977673518229,
          0.8125649419014558,
          0.8124777751996525,
          0.8124030608838211,
          0.8122992910007218,
          0.8122411798661863,
          0.8121830687316507,
          0.8120959020298474,
          0.8119215686262407,
          0.8118177987431414,
          0.8117015764740703,
          0.8115479970470835,
          0.8114525287546321,
          0.8112906477369973,
          0.8111910286492221,
          0.811066504789503,
          0.8109710364970517,
          0.8107676475261772,
          0.8106555760524301,
          0.8106057665085424,
          0.8103899251516961,
          0.8103027584498927,
          0.8102363457247093,
          0.8100495599351306,
          0.8099291868707356,
          0.8097465518764809,
          0.8096593851746775,
          0.8095390121102825,
          0.809455996203803,
          0.8092318532563088,
          0.8088790356537714,
          0.8087586625893762,
          0.8086133847530373,
          0.8084888608933183,
          0.8083062258990636,
          0.8081775512440206,
          0.8080073686357379,
          0.8079160511386105,
          0.807857940004075,
          0.8077375669396799,
          0.8076836066004683,
          0.8073639953605227,
          0.8072353207054797,
          0.8071149476410846,
          0.8069945745766894,
          0.8068825031029423,
          0.8067538284478992,
          0.8066127014068843,
          0.8063179949388825,
          0.8062640345996709,
          0.8062100742604593,
          0.8061602647165717,
          0.8055957565525119,
          0.8054836850787648,
          0.8053633120143696,
          0.8052512405406225,
          0.805043700774424,
          0.8048693673708174,
          0.804773899078366,
          0.8047240895344784,
          0.804645224423323,
          0.8045995656747593,
          0.8044916449963362,
          0.8043173115927295,
          0.8042259940956021,
          0.8038565733117689,
          0.8037320494520498,
          0.8036199779783026,
          0.8034705493466398,
          0.8033377238962728,
          0.8032920651477091,
          0.8032339540131735,
          0.803179993673962,
          0.8031260333347503,
          0.803038866632947,
          0.8027939697088329,
          0.8026818982350856,
          0.8025656759660146,
          0.8023041758606045,
          0.8022170091588011,
          0.8019306042814472,
          0.8016109930415016,
          0.8015113739537264,
          0.8011793103278089,
          0.8010547864680898,
          0.8009095086317509,
          0.8007974371580038,
          0.8007061196608765,
          0.8005608418245375,
          0.8004446195554664,
          0.8003283972863953,
          0.8002744369471837,
          0.8002080242220001,
          0.8001540638827885,
          0.800104254338901,
          0.8000378416137174,
          0.7999880320698298,
          0.7997804923036314,
          0.7996725716252081,
          0.799548047765489,
          0.799427674701094,
          0.7990499523266128,
          0.7989337300575416,
          0.7988216585837945,
          0.7987635474492589,
          0.7985850632503283,
          0.7985435552970885,
          0.7984688409812571,
          0.7982363964431148,
          0.7981201741740438,
          0.7980039519049726,
          0.7979292375891411,
          0.7977715073668303,
          0.7976552850977592,
          0.7976096263491955,
          0.797422840559617,
          0.7973066182905458,
          0.7972277531793904,
          0.7971737928401789,
          0.7971032293196714,
          0.7970575705711077,
          0.7969870070506002,
          0.7967545625124579,
          0.7966424910387108,
          0.7964930624070479,
          0.7964058957052446,
          0.7962896734361734,
          0.7960862844652989,
          0.7959700621962278,
          0.7958828954944245,
          0.7957666732253533,
          0.7957168636814657,
          0.7956006414123946,
          0.7955674350498029,
          0.7955093239152673,
          0.79541800641814,
          0.7952436730145332,
          0.7951108475641663,
          0.7950112284763909,
          0.7948701014353761,
          0.7946376568972338,
          0.7944591726983031,
          0.7943720059964997,
          0.7942640853180766,
          0.794201823388217,
          0.7941395614583575,
          0.7940939027097939,
          0.7940233391892864,
          0.7937327835166085,
          0.7936165612475374,
          0.7935044897737902,
          0.7933592119374513,
          0.7932097833057884,
          0.7930935610367174,
          0.7929482832003784,
          0.7927158386622362,
          0.792201140042064,
          0.7920807669776688,
          0.7919603939132738,
          0.7918483224395266,
          0.7915536159715248,
          0.7914083381351859,
          0.7912879650707908,
          0.7911800443923676,
          0.7911177824625081,
          0.7910057109887609,
          0.7909559014448733,
          0.7908894887196898,
          0.7908396791758021,
          0.7906819489534913,
          0.7906030838423359,
          0.7904868615732648,
          0.7903042265790101,
          0.790188004309939,
          0.7900468772689241,
          0.7899015994325852,
          0.789785377163514,
          0.7896691548944429,
          0.7896110437599073,
          0.7895612342160196,
          0.7895072738768081,
          0.7894367103563006,
          0.7893204880872295,
          0.7891710594555666,
          0.7890672895724674,
          0.7889054085548326,
          0.7888057894670574,
          0.7886729640166903,
          0.7885608925429431,
          0.7884197655019283,
          0.7882661860749414,
          0.7881541146011942,
          0.7880710986947148,
          0.7880088367648553,
          0.7879631780162917,
          0.7879050668817561,
          0.7878635589285163,
          0.7878012969986569,
          0.7876767731389378,
          0.787514892121303,
          0.7873986698522318,
          0.787253392015893,
          0.7871330189514978,
          0.7870250982730747,
          0.7869005744133556,
          0.7867552965770167,
          0.786701336237805,
          0.7866432251032695,
          0.7865934155593819,
          0.7865394552201702,
          0.7864730424949867,
          0.7863526694305917,
          0.786165883641013,
          0.7859998518280543,
          0.7858877803543072,
          0.785771558085236,
          0.785510057979826,
          0.7853938357107548,
          0.7852568594650639
         ]
        },
        {
         "fill": "toself",
         "fillcolor": "rgba(0, 0, 255, 0.2)",
         "line": {
          "color": "rgba(0, 0, 0, 0)"
         },
         "name": "Night Confidence Interval",
         "type": "scatter",
         "x": [
          "1995-05-10T00:00:00",
          "1995-06-13T00:00:00",
          "1995-06-14T00:00:00",
          "1995-07-11T00:00:00",
          "1995-08-18T00:00:00",
          "1995-09-12T00:00:00",
          "1995-10-10T00:00:00",
          "1995-12-15T00:00:00",
          "1996-01-30T00:00:00",
          "1996-02-14T00:00:00",
          "1996-02-27T00:00:00",
          "1996-03-15T00:00:00",
          "1996-03-16T00:00:00",
          "1996-03-27T00:00:00",
          "1996-04-12T00:00:00",
          "1996-04-22T00:00:00",
          "1996-05-07T00:00:00",
          "1996-06-10T00:00:00",
          "1996-07-08T00:00:00",
          "1996-08-05T00:00:00",
          "1996-09-02T00:00:00",
          "1996-10-08T00:00:00",
          "1996-10-09T00:00:00",
          "1996-11-05T00:00:00",
          "1996-12-11T00:00:00",
          "1997-01-13T00:00:00",
          "1997-01-27T00:00:00",
          "1997-02-06T00:00:00",
          "1997-02-20T00:00:00",
          "1997-03-04T00:00:00",
          "1997-03-18T00:00:00",
          "1997-04-08T00:00:00",
          "1997-05-05T00:00:00",
          "1997-06-11T00:00:00",
          "1997-07-15T00:00:00",
          "1997-08-11T00:00:00",
          "1997-09-11T00:00:00",
          "1997-10-06T00:00:00",
          "1997-11-11T00:00:00",
          "1997-12-09T00:00:00",
          "1998-01-12T00:00:00",
          "1998-01-13T00:00:00",
          "1998-02-11T00:00:00",
          "1998-02-28T00:00:00",
          "1998-03-09T00:00:00",
          "1998-04-07T00:00:00",
          "1998-05-04T00:00:00",
          "1998-05-05T00:00:00",
          "1998-06-02T00:00:00",
          "1998-07-08T00:00:00",
          "1998-08-10T00:00:00",
          "1998-09-10T00:00:00",
          "1998-10-22T00:00:00",
          "1998-11-18T00:00:00",
          "1998-12-07T00:00:00",
          "1999-01-14T00:00:00",
          "1999-01-27T00:00:00",
          "1999-01-28T00:00:00",
          "1999-02-12T00:00:00",
          "1999-02-23T00:00:00",
          "1999-03-23T00:00:00",
          "1999-03-24T00:00:00",
          "1999-04-08T00:00:00",
          "1999-05-03T00:00:00",
          "1999-06-01T00:00:00",
          "1999-06-03T00:00:00",
          "1999-07-05T00:00:00",
          "1999-08-03T00:00:00",
          "1999-09-14T00:00:00",
          "1999-10-11T00:00:00",
          "1999-11-10T00:00:00",
          "1999-12-08T00:00:00",
          "2000-02-16T00:00:00",
          "2000-04-10T00:00:00",
          "2000-04-11T00:00:00",
          "2000-06-06T00:00:00",
          "2000-07-10T00:00:00",
          "2000-07-11T00:00:00",
          "2000-08-07T00:00:00",
          "2000-08-08T00:00:00",
          "2000-09-12T00:00:00",
          "2000-10-18T00:00:00",
          "2000-11-14T00:00:00",
          "2000-12-12T00:00:00",
          "2001-02-21T00:00:00",
          "2001-03-09T00:00:00",
          "2001-03-21T00:00:00",
          "2001-04-04T00:00:00",
          "2001-04-18T00:00:00",
          "2001-05-15T00:00:00",
          "2001-06-05T00:00:00",
          "2001-07-18T00:00:00",
          "2001-09-13T00:00:00",
          "2001-10-16T00:00:00",
          "2001-11-09T00:00:00",
          "2001-12-10T00:00:00",
          "2001-12-11T00:00:00",
          "2002-01-22T00:00:00",
          "2002-02-12T00:00:00",
          "2002-02-28T00:00:00",
          "2002-03-07T00:00:00",
          "2002-03-19T00:00:00",
          "2002-04-03T00:00:00",
          "2002-04-15T00:00:00",
          "2002-04-16T00:00:00",
          "2002-05-14T00:00:00",
          "2002-06-04T00:00:00",
          "2002-07-01T00:00:00",
          "2002-08-20T00:00:00",
          "2002-09-17T00:00:00",
          "2002-10-08T00:00:00",
          "2002-11-13T00:00:00",
          "2002-12-09T00:00:00",
          "2003-01-27T00:00:00",
          "2003-02-21T00:00:00",
          "2003-03-04T00:00:00",
          "2003-03-22T00:00:00",
          "2003-04-03T00:00:00",
          "2003-04-22T00:00:00",
          "2003-07-05T00:00:00",
          "2003-07-15T00:00:00",
          "2003-08-13T00:00:00",
          "2003-09-20T00:00:00",
          "2003-10-06T00:00:00",
          "2003-11-03T00:00:00",
          "2003-12-02T00:00:00",
          "2004-02-14T00:00:00",
          "2004-02-23T00:00:00",
          "2004-03-09T00:00:00",
          "2004-03-23T00:00:00",
          "2004-04-20T00:00:00",
          "2004-05-17T00:00:00",
          "2004-06-15T00:00:00",
          "2004-09-14T00:00:00",
          "2004-10-13T00:00:00",
          "2004-11-12T00:00:00",
          "2004-12-08T00:00:00",
          "2005-01-26T00:00:00",
          "2005-02-08T00:00:00",
          "2005-02-23T00:00:00",
          "2005-02-24T00:00:00",
          "2005-03-07T00:00:00",
          "2005-03-20T00:00:00",
          "2005-04-05T00:00:00",
          "2005-05-16T00:00:00",
          "2005-06-15T00:00:00",
          "2005-07-19T00:00:00",
          "2005-08-09T00:00:00",
          "2005-10-11T00:00:00",
          "2005-12-08T00:00:00",
          "2006-01-29T00:00:00",
          "2006-01-30T00:00:00",
          "2006-02-08T00:00:00",
          "2006-02-20T00:00:00",
          "2006-02-21T00:00:00",
          "2006-04-04T00:00:00",
          "2006-06-26T00:00:00",
          "2006-07-16T00:00:00",
          "2006-08-07T00:00:00",
          "2006-08-08T00:00:00",
          "2006-10-10T00:00:00",
          "2006-11-07T00:00:00",
          "2006-12-03T00:00:00",
          "2007-01-30T00:00:00",
          "2007-02-20T00:00:00",
          "2007-03-06T00:00:00",
          "2007-03-07T00:00:00",
          "2007-03-19T00:00:00",
          "2007-03-20T00:00:00",
          "2007-04-02T00:00:00",
          "2007-04-14T00:00:00",
          "2007-05-15T00:00:00",
          "2007-06-21T00:00:00",
          "2007-07-19T00:00:00",
          "2007-08-15T00:00:00",
          "2007-09-08T00:00:00",
          "2007-11-14T00:00:00",
          "2007-12-06T00:00:00",
          "2008-01-15T00:00:00",
          "2008-02-12T00:00:00",
          "2008-02-22T00:00:00",
          "2008-03-13T00:00:00",
          "2008-04-14T00:00:00",
          "2008-05-29T00:00:00",
          "2008-06-22T00:00:00",
          "2008-07-16T00:00:00",
          "2008-08-14T00:00:00",
          "2008-09-10T00:00:00",
          "2008-10-09T00:00:00",
          "2009-03-19T00:00:00",
          "2009-06-11T00:00:00",
          "2009-06-12T00:00:00",
          "2009-07-15T00:00:00",
          "2009-07-16T00:00:00",
          "2009-08-15T00:00:00",
          "2009-09-10T00:00:00",
          "2009-10-10T00:00:00",
          "2009-11-08T00:00:00",
          "2009-12-09T00:00:00",
          "2010-03-10T00:00:00",
          "2010-04-22T00:00:00",
          "2010-04-23T00:00:00",
          "2010-05-14T00:00:00",
          "2010-06-23T00:00:00",
          "2010-06-24T00:00:00",
          "2010-07-24T00:00:00",
          "2010-09-06T00:00:00",
          "2010-10-05T00:00:00",
          "2010-11-09T00:00:00",
          "2010-12-09T00:00:00",
          "2011-03-05T00:00:00",
          "2011-03-26T00:00:00",
          "2011-04-28T00:00:00",
          "2011-06-15T00:00:00",
          "2011-07-05T00:00:00",
          "2011-08-20T00:00:00",
          "2011-09-17T00:00:00",
          "2011-11-17T00:00:00",
          "2011-12-07T00:00:00",
          "2012-01-28T00:00:00",
          "2012-01-29T00:00:00",
          "2012-02-09T00:00:00",
          "2012-03-07T00:00:00",
          "2012-04-12T00:00:00",
          "2012-04-26T00:00:00",
          "2012-05-18T00:00:00",
          "2012-06-18T00:00:00",
          "2012-07-12T00:00:00",
          "2012-08-21T00:00:00",
          "2012-09-11T00:00:00",
          "2012-10-18T00:00:00",
          "2012-11-13T00:00:00",
          "2012-12-10T00:00:00",
          "2013-01-21T00:00:00",
          "2013-01-22T00:00:00",
          "2013-02-11T00:00:00",
          "2013-02-25T00:00:00",
          "2013-03-11T00:00:00",
          "2013-03-12T00:00:00",
          "2013-03-27T00:00:00",
          "2013-04-24T00:00:00",
          "2013-05-16T00:00:00",
          "2013-06-14T00:00:00",
          "2013-07-08T00:00:00",
          "2013-08-02T00:00:00",
          "2013-09-16T00:00:00",
          "2013-10-18T00:00:00",
          "2013-11-13T00:00:00",
          "2013-12-08T00:00:00",
          "2014-03-05T00:00:00",
          "2014-04-11T00:00:00",
          "2014-04-28T00:00:00",
          "2014-08-19T00:00:00",
          "2014-09-13T00:00:00",
          "2014-10-28T00:00:00",
          "2014-11-19T00:00:00",
          "2014-12-11T00:00:00",
          "2015-02-03T00:00:00",
          "2015-02-20T00:00:00",
          "2015-03-12T00:00:00",
          "2015-04-07T00:00:00",
          "2015-04-23T00:00:00",
          "2015-05-12T00:00:00",
          "2015-05-27T00:00:00",
          "2015-06-23T00:00:00",
          "2015-07-14T00:00:00",
          "2015-08-18T00:00:00",
          "2015-09-12T00:00:00",
          "2015-11-29T00:00:00",
          "2015-12-11T00:00:00",
          "2016-03-08T00:00:00",
          "2016-03-23T00:00:00",
          "2016-04-05T00:00:00",
          "2016-04-14T00:00:00",
          "2016-05-04T00:00:00",
          "2016-06-16T00:00:00",
          "2016-07-22T00:00:00",
          "2016-08-17T00:00:00",
          "2016-09-21T00:00:00",
          "2016-10-19T00:00:00",
          "2016-11-19T00:00:00",
          "2016-12-13T00:00:00",
          "2017-01-06T00:00:00",
          "2017-02-19T00:00:00",
          "2017-02-20T00:00:00",
          "2017-05-30T00:00:00",
          "2017-05-31T00:00:00",
          "2017-06-13T00:00:00",
          "2017-07-18T00:00:00",
          "2017-08-15T00:00:00",
          "2017-09-12T00:00:00",
          "2017-10-16T00:00:00",
          "2017-11-17T00:00:00",
          "2017-12-12T00:00:00",
          "2018-01-15T00:00:00",
          "2018-02-09T00:00:00",
          "2018-02-10T00:00:00",
          "2018-02-26T00:00:00",
          "2018-03-14T00:00:00",
          "2018-03-15T00:00:00",
          "2018-03-23T00:00:00",
          "2018-04-15T00:00:00",
          "2018-04-25T00:00:00",
          "2018-05-23T00:00:00",
          "2018-06-12T00:00:00",
          "2018-07-20T00:00:00",
          "2018-08-13T00:00:00",
          "2018-09-11T00:00:00",
          "2018-10-18T00:00:00",
          "2018-10-19T00:00:00",
          "2018-11-06T00:00:00",
          "2018-11-07T00:00:00",
          "2018-12-14T00:00:00",
          "2019-01-11T00:00:00",
          "2019-03-12T00:00:00",
          "2019-03-15T00:00:00",
          "2019-05-13T00:00:00",
          "2019-06-06T00:00:00",
          "2019-07-16T00:00:00",
          "2019-08-18T00:00:00",
          "2019-09-09T00:00:00",
          "2019-09-10T00:00:00",
          "2019-10-22T00:00:00",
          "2019-11-17T00:00:00",
          "2019-12-11T00:00:00",
          "2020-01-25T00:00:00",
          "2020-02-28T00:00:00",
          "2020-07-10T00:00:00",
          "2020-07-30T00:00:00",
          "2020-07-31T00:00:00",
          "2020-08-17T00:00:00",
          "2020-08-18T00:00:00",
          "2020-09-23T00:00:00",
          "2020-10-26T00:00:00",
          "2020-11-17T00:00:00",
          "2020-12-10T00:00:00",
          "2021-02-12T00:00:00",
          "2021-03-18T00:00:00",
          "2021-03-24T00:00:00",
          "2021-04-05T00:00:00",
          "2021-04-29T00:00:00",
          "2021-06-14T00:00:00",
          "2021-07-10T00:00:00",
          "2021-08-19T00:00:00",
          "2021-10-04T00:00:00",
          "2021-11-16T00:00:00",
          "2021-12-13T00:00:00",
          "2022-01-12T00:00:00",
          "2022-03-29T00:00:00",
          "2022-05-01T00:00:00",
          "2022-05-23T00:00:00",
          "2022-07-15T00:00:00",
          "2022-08-13T00:00:00",
          "2022-09-17T00:00:00",
          "2022-09-18T00:00:00",
          "2022-11-23T00:00:00",
          "2022-12-13T00:00:00",
          "2022-12-13T00:00:00",
          "2022-11-23T00:00:00",
          "2022-09-18T00:00:00",
          "2022-09-17T00:00:00",
          "2022-08-13T00:00:00",
          "2022-07-15T00:00:00",
          "2022-05-23T00:00:00",
          "2022-05-01T00:00:00",
          "2022-03-29T00:00:00",
          "2022-01-12T00:00:00",
          "2021-12-13T00:00:00",
          "2021-11-16T00:00:00",
          "2021-10-04T00:00:00",
          "2021-08-19T00:00:00",
          "2021-07-10T00:00:00",
          "2021-06-14T00:00:00",
          "2021-04-29T00:00:00",
          "2021-04-05T00:00:00",
          "2021-03-24T00:00:00",
          "2021-03-18T00:00:00",
          "2021-02-12T00:00:00",
          "2020-12-10T00:00:00",
          "2020-11-17T00:00:00",
          "2020-10-26T00:00:00",
          "2020-09-23T00:00:00",
          "2020-08-18T00:00:00",
          "2020-08-17T00:00:00",
          "2020-07-31T00:00:00",
          "2020-07-30T00:00:00",
          "2020-07-10T00:00:00",
          "2020-02-28T00:00:00",
          "2020-01-25T00:00:00",
          "2019-12-11T00:00:00",
          "2019-11-17T00:00:00",
          "2019-10-22T00:00:00",
          "2019-09-10T00:00:00",
          "2019-09-09T00:00:00",
          "2019-08-18T00:00:00",
          "2019-07-16T00:00:00",
          "2019-06-06T00:00:00",
          "2019-05-13T00:00:00",
          "2019-03-15T00:00:00",
          "2019-03-12T00:00:00",
          "2019-01-11T00:00:00",
          "2018-12-14T00:00:00",
          "2018-11-07T00:00:00",
          "2018-11-06T00:00:00",
          "2018-10-19T00:00:00",
          "2018-10-18T00:00:00",
          "2018-09-11T00:00:00",
          "2018-08-13T00:00:00",
          "2018-07-20T00:00:00",
          "2018-06-12T00:00:00",
          "2018-05-23T00:00:00",
          "2018-04-25T00:00:00",
          "2018-04-15T00:00:00",
          "2018-03-23T00:00:00",
          "2018-03-15T00:00:00",
          "2018-03-14T00:00:00",
          "2018-02-26T00:00:00",
          "2018-02-10T00:00:00",
          "2018-02-09T00:00:00",
          "2018-01-15T00:00:00",
          "2017-12-12T00:00:00",
          "2017-11-17T00:00:00",
          "2017-10-16T00:00:00",
          "2017-09-12T00:00:00",
          "2017-08-15T00:00:00",
          "2017-07-18T00:00:00",
          "2017-06-13T00:00:00",
          "2017-05-31T00:00:00",
          "2017-05-30T00:00:00",
          "2017-02-20T00:00:00",
          "2017-02-19T00:00:00",
          "2017-01-06T00:00:00",
          "2016-12-13T00:00:00",
          "2016-11-19T00:00:00",
          "2016-10-19T00:00:00",
          "2016-09-21T00:00:00",
          "2016-08-17T00:00:00",
          "2016-07-22T00:00:00",
          "2016-06-16T00:00:00",
          "2016-05-04T00:00:00",
          "2016-04-14T00:00:00",
          "2016-04-05T00:00:00",
          "2016-03-23T00:00:00",
          "2016-03-08T00:00:00",
          "2015-12-11T00:00:00",
          "2015-11-29T00:00:00",
          "2015-09-12T00:00:00",
          "2015-08-18T00:00:00",
          "2015-07-14T00:00:00",
          "2015-06-23T00:00:00",
          "2015-05-27T00:00:00",
          "2015-05-12T00:00:00",
          "2015-04-23T00:00:00",
          "2015-04-07T00:00:00",
          "2015-03-12T00:00:00",
          "2015-02-20T00:00:00",
          "2015-02-03T00:00:00",
          "2014-12-11T00:00:00",
          "2014-11-19T00:00:00",
          "2014-10-28T00:00:00",
          "2014-09-13T00:00:00",
          "2014-08-19T00:00:00",
          "2014-04-28T00:00:00",
          "2014-04-11T00:00:00",
          "2014-03-05T00:00:00",
          "2013-12-08T00:00:00",
          "2013-11-13T00:00:00",
          "2013-10-18T00:00:00",
          "2013-09-16T00:00:00",
          "2013-08-02T00:00:00",
          "2013-07-08T00:00:00",
          "2013-06-14T00:00:00",
          "2013-05-16T00:00:00",
          "2013-04-24T00:00:00",
          "2013-03-27T00:00:00",
          "2013-03-12T00:00:00",
          "2013-03-11T00:00:00",
          "2013-02-25T00:00:00",
          "2013-02-11T00:00:00",
          "2013-01-22T00:00:00",
          "2013-01-21T00:00:00",
          "2012-12-10T00:00:00",
          "2012-11-13T00:00:00",
          "2012-10-18T00:00:00",
          "2012-09-11T00:00:00",
          "2012-08-21T00:00:00",
          "2012-07-12T00:00:00",
          "2012-06-18T00:00:00",
          "2012-05-18T00:00:00",
          "2012-04-26T00:00:00",
          "2012-04-12T00:00:00",
          "2012-03-07T00:00:00",
          "2012-02-09T00:00:00",
          "2012-01-29T00:00:00",
          "2012-01-28T00:00:00",
          "2011-12-07T00:00:00",
          "2011-11-17T00:00:00",
          "2011-09-17T00:00:00",
          "2011-08-20T00:00:00",
          "2011-07-05T00:00:00",
          "2011-06-15T00:00:00",
          "2011-04-28T00:00:00",
          "2011-03-26T00:00:00",
          "2011-03-05T00:00:00",
          "2010-12-09T00:00:00",
          "2010-11-09T00:00:00",
          "2010-10-05T00:00:00",
          "2010-09-06T00:00:00",
          "2010-07-24T00:00:00",
          "2010-06-24T00:00:00",
          "2010-06-23T00:00:00",
          "2010-05-14T00:00:00",
          "2010-04-23T00:00:00",
          "2010-04-22T00:00:00",
          "2010-03-10T00:00:00",
          "2009-12-09T00:00:00",
          "2009-11-08T00:00:00",
          "2009-10-10T00:00:00",
          "2009-09-10T00:00:00",
          "2009-08-15T00:00:00",
          "2009-07-16T00:00:00",
          "2009-07-15T00:00:00",
          "2009-06-12T00:00:00",
          "2009-06-11T00:00:00",
          "2009-03-19T00:00:00",
          "2008-10-09T00:00:00",
          "2008-09-10T00:00:00",
          "2008-08-14T00:00:00",
          "2008-07-16T00:00:00",
          "2008-06-22T00:00:00",
          "2008-05-29T00:00:00",
          "2008-04-14T00:00:00",
          "2008-03-13T00:00:00",
          "2008-02-22T00:00:00",
          "2008-02-12T00:00:00",
          "2008-01-15T00:00:00",
          "2007-12-06T00:00:00",
          "2007-11-14T00:00:00",
          "2007-09-08T00:00:00",
          "2007-08-15T00:00:00",
          "2007-07-19T00:00:00",
          "2007-06-21T00:00:00",
          "2007-05-15T00:00:00",
          "2007-04-14T00:00:00",
          "2007-04-02T00:00:00",
          "2007-03-20T00:00:00",
          "2007-03-19T00:00:00",
          "2007-03-07T00:00:00",
          "2007-03-06T00:00:00",
          "2007-02-20T00:00:00",
          "2007-01-30T00:00:00",
          "2006-12-03T00:00:00",
          "2006-11-07T00:00:00",
          "2006-10-10T00:00:00",
          "2006-08-08T00:00:00",
          "2006-08-07T00:00:00",
          "2006-07-16T00:00:00",
          "2006-06-26T00:00:00",
          "2006-04-04T00:00:00",
          "2006-02-21T00:00:00",
          "2006-02-20T00:00:00",
          "2006-02-08T00:00:00",
          "2006-01-30T00:00:00",
          "2006-01-29T00:00:00",
          "2005-12-08T00:00:00",
          "2005-10-11T00:00:00",
          "2005-08-09T00:00:00",
          "2005-07-19T00:00:00",
          "2005-06-15T00:00:00",
          "2005-05-16T00:00:00",
          "2005-04-05T00:00:00",
          "2005-03-20T00:00:00",
          "2005-03-07T00:00:00",
          "2005-02-24T00:00:00",
          "2005-02-23T00:00:00",
          "2005-02-08T00:00:00",
          "2005-01-26T00:00:00",
          "2004-12-08T00:00:00",
          "2004-11-12T00:00:00",
          "2004-10-13T00:00:00",
          "2004-09-14T00:00:00",
          "2004-06-15T00:00:00",
          "2004-05-17T00:00:00",
          "2004-04-20T00:00:00",
          "2004-03-23T00:00:00",
          "2004-03-09T00:00:00",
          "2004-02-23T00:00:00",
          "2004-02-14T00:00:00",
          "2003-12-02T00:00:00",
          "2003-11-03T00:00:00",
          "2003-10-06T00:00:00",
          "2003-09-20T00:00:00",
          "2003-08-13T00:00:00",
          "2003-07-15T00:00:00",
          "2003-07-05T00:00:00",
          "2003-04-22T00:00:00",
          "2003-04-03T00:00:00",
          "2003-03-22T00:00:00",
          "2003-03-04T00:00:00",
          "2003-02-21T00:00:00",
          "2003-01-27T00:00:00",
          "2002-12-09T00:00:00",
          "2002-11-13T00:00:00",
          "2002-10-08T00:00:00",
          "2002-09-17T00:00:00",
          "2002-08-20T00:00:00",
          "2002-07-01T00:00:00",
          "2002-06-04T00:00:00",
          "2002-05-14T00:00:00",
          "2002-04-16T00:00:00",
          "2002-04-15T00:00:00",
          "2002-04-03T00:00:00",
          "2002-03-19T00:00:00",
          "2002-03-07T00:00:00",
          "2002-02-28T00:00:00",
          "2002-02-12T00:00:00",
          "2002-01-22T00:00:00",
          "2001-12-11T00:00:00",
          "2001-12-10T00:00:00",
          "2001-11-09T00:00:00",
          "2001-10-16T00:00:00",
          "2001-09-13T00:00:00",
          "2001-07-18T00:00:00",
          "2001-06-05T00:00:00",
          "2001-05-15T00:00:00",
          "2001-04-18T00:00:00",
          "2001-04-04T00:00:00",
          "2001-03-21T00:00:00",
          "2001-03-09T00:00:00",
          "2001-02-21T00:00:00",
          "2000-12-12T00:00:00",
          "2000-11-14T00:00:00",
          "2000-10-18T00:00:00",
          "2000-09-12T00:00:00",
          "2000-08-08T00:00:00",
          "2000-08-07T00:00:00",
          "2000-07-11T00:00:00",
          "2000-07-10T00:00:00",
          "2000-06-06T00:00:00",
          "2000-04-11T00:00:00",
          "2000-04-10T00:00:00",
          "2000-02-16T00:00:00",
          "1999-12-08T00:00:00",
          "1999-11-10T00:00:00",
          "1999-10-11T00:00:00",
          "1999-09-14T00:00:00",
          "1999-08-03T00:00:00",
          "1999-07-05T00:00:00",
          "1999-06-03T00:00:00",
          "1999-06-01T00:00:00",
          "1999-05-03T00:00:00",
          "1999-04-08T00:00:00",
          "1999-03-24T00:00:00",
          "1999-03-23T00:00:00",
          "1999-02-23T00:00:00",
          "1999-02-12T00:00:00",
          "1999-01-28T00:00:00",
          "1999-01-27T00:00:00",
          "1999-01-14T00:00:00",
          "1998-12-07T00:00:00",
          "1998-11-18T00:00:00",
          "1998-10-22T00:00:00",
          "1998-09-10T00:00:00",
          "1998-08-10T00:00:00",
          "1998-07-08T00:00:00",
          "1998-06-02T00:00:00",
          "1998-05-05T00:00:00",
          "1998-05-04T00:00:00",
          "1998-04-07T00:00:00",
          "1998-03-09T00:00:00",
          "1998-02-28T00:00:00",
          "1998-02-11T00:00:00",
          "1998-01-13T00:00:00",
          "1998-01-12T00:00:00",
          "1997-12-09T00:00:00",
          "1997-11-11T00:00:00",
          "1997-10-06T00:00:00",
          "1997-09-11T00:00:00",
          "1997-08-11T00:00:00",
          "1997-07-15T00:00:00",
          "1997-06-11T00:00:00",
          "1997-05-05T00:00:00",
          "1997-04-08T00:00:00",
          "1997-03-18T00:00:00",
          "1997-03-04T00:00:00",
          "1997-02-20T00:00:00",
          "1997-02-06T00:00:00",
          "1997-01-27T00:00:00",
          "1997-01-13T00:00:00",
          "1996-12-11T00:00:00",
          "1996-11-05T00:00:00",
          "1996-10-09T00:00:00",
          "1996-10-08T00:00:00",
          "1996-09-02T00:00:00",
          "1996-08-05T00:00:00",
          "1996-07-08T00:00:00",
          "1996-06-10T00:00:00",
          "1996-05-07T00:00:00",
          "1996-04-22T00:00:00",
          "1996-04-12T00:00:00",
          "1996-03-27T00:00:00",
          "1996-03-16T00:00:00",
          "1996-03-15T00:00:00",
          "1996-02-27T00:00:00",
          "1996-02-14T00:00:00",
          "1996-01-30T00:00:00",
          "1995-12-15T00:00:00",
          "1995-10-10T00:00:00",
          "1995-09-12T00:00:00",
          "1995-08-18T00:00:00",
          "1995-07-11T00:00:00",
          "1995-06-14T00:00:00",
          "1995-06-13T00:00:00",
          "1995-05-10T00:00:00"
         ],
         "y": [
          1.369303731653533,
          1.3702119049378239,
          1.3702386159167734,
          1.3709598123484161,
          1.3719748295485057,
          1.372642604022249,
          1.3733905114328413,
          1.3751534360435234,
          1.3763821410752108,
          1.3767828057594567,
          1.3771300484858031,
          1.3775841351279485,
          1.3776108461068983,
          1.3779046668753454,
          1.378332042538541,
          1.3785991523280383,
          1.3789998170122841,
          1.379907990296575,
          1.3806558977071672,
          1.3814038051177595,
          1.382151712528352,
          1.3831133077705422,
          1.383140018749492,
          1.3838612151811345,
          1.3848228104233247,
          1.3857042727286657,
          1.386078226433962,
          1.3863453362234592,
          1.3867192899287555,
          1.3870398216761521,
          1.3874137753814484,
          1.3879747059393925,
          1.3886959023710352,
          1.3896842085921752,
          1.3905923818764658,
          1.3913135783081085,
          1.3921416186555502,
          1.3928093931292933,
          1.3937709883714835,
          1.3945188957820758,
          1.3954270690663666,
          1.3954537800453164,
          1.3962283984348585,
          1.3966824850770039,
          1.3969228838875514,
          1.3976975022770934,
          1.3984186987087361,
          1.3984454096876857,
          1.3991933170982782,
          1.4001549123404684,
          1.4010363746458094,
          1.4018644149932509,
          1.4029862761091394,
          1.403707472540782,
          1.4042149811408269,
          1.4052299983409167,
          1.4055772410672631,
          1.4056039520462127,
          1.4060046167304587,
          1.4062984374989056,
          1.407046344909498,
          1.4070730558884479,
          1.4074737205726937,
          1.4081414950464368,
          1.4089161134359791,
          1.4089695353938785,
          1.4098242867202697,
          1.4105989051098118,
          1.4117207662257003,
          1.412441962657343,
          1.4132432920258349,
          1.4139911994364271,
          1.4158609679629082,
          1.4173033608261936,
          1.4173300718051431,
          1.418825886626328,
          1.4197340599106187,
          1.4197607708895683,
          1.420481967321211,
          1.4205086783001608,
          1.4214435625634012,
          1.4224051578055914,
          1.423126354237234,
          1.4238742616478264,
          1.4257707411532572,
          1.4261981168164528,
          1.4265186485638495,
          1.4268926022691457,
          1.4272665559744417,
          1.4279877524060844,
          1.4285486829640288,
          1.4296972550588671,
          1.4312197808590015,
          1.4321012431643425,
          1.432742306659136,
          1.4335703470065775,
          1.4335970579855273,
          1.4347189191014158,
          1.4352798496593602,
          1.4357072253225558,
          1.435894202175204,
          1.4362147339226006,
          1.4366153986068464,
          1.4369359303542433,
          1.4369626413331928,
          1.4377105487437853,
          1.4382714793017297,
          1.4389926757333722,
          1.4403282246808586,
          1.441076132091451,
          1.4416370626493953,
          1.4425986578915855,
          1.4432931433442784,
          1.444601981312815,
          1.4452697557865581,
          1.4455635765550052,
          1.4460443741761004,
          1.446364905923497,
          1.4468724145235419,
          1.4488490269658216,
          1.449116136755319,
          1.449890755144861,
          1.4509057723449508,
          1.4513331480081464,
          1.4520810554187387,
          1.4528556738082807,
          1.4548322862505607,
          1.4550726850611082,
          1.4554733497453543,
          1.4558473034506503,
          1.4565952108612428,
          1.4573164072928853,
          1.4580910256824275,
          1.4605217247668527,
          1.4612963431563948,
          1.4620976725248866,
          1.4627921579775796,
          1.4641009959461162,
          1.4644482386724627,
          1.4648489033567085,
          1.4648756143356583,
          1.4651694351041054,
          1.4655166778304518,
          1.4659440534936474,
          1.4670392036305862,
          1.467840532999078,
          1.4687487062833688,
          1.469309636841313,
          1.4709924285151459,
          1.47254166529423,
          1.4739306361996158,
          1.4739573471785656,
          1.4741977459891131,
          1.47451827773651,
          1.4745449887154596,
          1.475666849831348,
          1.4778838610841756,
          1.4784180806631702,
          1.479005722200064,
          1.479032433179014,
          1.4807152248528468,
          1.481463132263439,
          1.482157617716132,
          1.483706854495216,
          1.4842677850531605,
          1.4846417387584567,
          1.4846684497374063,
          1.4849889814848032,
          1.4850156924637528,
          1.4853629351900992,
          1.485683466937496,
          1.4865115072849375,
          1.4874998135060775,
          1.4882477209166698,
          1.4889689173483125,
          1.489609980843106,
          1.4913996164327377,
          1.4919872579696318,
          1.4930556971276208,
          1.4938036045382133,
          1.4940707143277105,
          1.4946049339067051,
          1.4954596852330964,
          1.496661679285834,
          1.4973027427806276,
          1.497943806275421,
          1.498718424664963,
          1.4994396210966057,
          1.5002142394861477,
          1.504514707097054,
          1.5067584293288312,
          1.5067851403077808,
          1.5076666026131218,
          1.5076933135920716,
          1.5084946429605635,
          1.5091891284132564,
          1.5099904577817482,
          1.5107650761712903,
          1.5115931165187317,
          1.514023815603157,
          1.5151723876979952,
          1.515199098676945,
          1.5157600292348892,
          1.5168284683928783,
          1.5168551793718281,
          1.51765650874032,
          1.5188317918141079,
          1.51960641020365,
          1.5205412944668906,
          1.5213426238353822,
          1.5236397680250588,
          1.5242006985830032,
          1.5250821608883443,
          1.526364287877931,
          1.5268985074569257,
          1.5281272124886132,
          1.5288751198992054,
          1.530504489615139,
          1.5310387091941333,
          1.5324276800995194,
          1.532454391078469,
          1.532748211846916,
          1.5334694082785587,
          1.534431003520749,
          1.534804957226045,
          1.535392598762939,
          1.5362206391103805,
          1.536861702605174,
          1.5379301417631632,
          1.5384910723211074,
          1.5394793785422474,
          1.5401738639949403,
          1.540895060426583,
          1.5420169215424715,
          1.542043632521421,
          1.5425778521004156,
          1.542951805805712,
          1.5433257595110081,
          1.5433524704899577,
          1.5437531351742038,
          1.544501042584796,
          1.5450886841216902,
          1.5458633025112323,
          1.5465043660060256,
          1.547172140479769,
          1.5483741345325066,
          1.5492288858588978,
          1.5499233713115907,
          1.550591145785334,
          1.5529150009539603,
          1.5539033071751003,
          1.5543573938172457,
          1.5573757344385648,
          1.558043508912308,
          1.5592455029650458,
          1.5598331445019398,
          1.5604207860388337,
          1.5618631789021191,
          1.5623172655442645,
          1.5628514851232589,
          1.5635459705759518,
          1.5639733462391474,
          1.5644808548391924,
          1.5648815195234382,
          1.565602715955081,
          1.566163646513025,
          1.5670985307762657,
          1.5677663052500088,
          1.5698497616080875,
          1.5701702933554844,
          1.5725208595030604,
          1.5729215241873062,
          1.5732687669136527,
          1.5735091657242002,
          1.5740433853031948,
          1.575191957398033,
          1.5761535526402233,
          1.5768480380929162,
          1.5777829223561566,
          1.578530829766749,
          1.5793588701141905,
          1.579999933608984,
          1.5806409971037776,
          1.5818162801775655,
          1.5818429911565153,
          1.5844873780725384,
          1.584514089051488,
          1.5848613317778344,
          1.585796216041075,
          1.5865441234516673,
          1.5872920308622596,
          1.5882002041465504,
          1.5890549554729416,
          1.589722729946685,
          1.5906309032309756,
          1.591298677704719,
          1.5913253886836685,
          1.591752764346864,
          1.59218014001006,
          1.5922068509890095,
          1.5924205388206074,
          1.5930348913364512,
          1.5933020011259484,
          1.5940499085365407,
          1.5945841281155353,
          1.5955991453156249,
          1.5962402088104184,
          1.5970148271999605,
          1.5980031334211005,
          1.5980298444000502,
          1.5985106420211452,
          1.598537353000095,
          1.5995256592212348,
          1.6002735666318273,
          1.601876225368811,
          1.6019563583056602,
          1.6035323060636941,
          1.6041733695584874,
          1.6052418087164766,
          1.6061232710218176,
          1.6067109125587116,
          1.6067376235376614,
          1.6078594846535499,
          1.6085539701062428,
          1.6091950336010363,
          1.610397027653774,
          1.6113052009380648,
          1.6148577611383785,
          1.615391980717373,
          1.615418691696323,
          1.615872778338468,
          1.615899489317418,
          1.616861084559608,
          1.6177425468649491,
          1.618330188401843,
          1.6189445409176868,
          1.6206540435704695,
          1.62156221685476,
          1.6217224827284586,
          1.6220430144758553,
          1.6226840779706486,
          1.623912783002336,
          1.624607268455029,
          1.6256757076130182,
          1.6269044126447056,
          1.628052984739544,
          1.6287741811711867,
          1.6295755105396785,
          1.6316055449398577,
          1.6324870072451987,
          1.6330746487820926,
          1.6344903306664282,
          1.6352649490559703,
          1.636199833319211,
          1.6362265442981605,
          1.6379894689088426,
          1.6385236884878371,
          1.5036014000659965,
          1.503067180487002,
          1.5013042558763199,
          1.5012775448973703,
          1.5003426606341297,
          1.4995680422445876,
          1.498152360360252,
          1.497564718823358,
          1.496683256518017,
          1.494653222117838,
          1.493851892749346,
          1.4931306963177033,
          1.491982124222865,
          1.4907534191911775,
          1.4896849800331884,
          1.4889904945804955,
          1.487761789548808,
          1.4871207260540147,
          1.486800194306618,
          1.4866399284329195,
          1.4857317551486289,
          1.4840222524958462,
          1.4834078999800024,
          1.4828202584431085,
          1.4819387961377675,
          1.4809772008955773,
          1.4809504899166275,
          1.4804964032744823,
          1.4804696922955325,
          1.479935472716538,
          1.4763829125162242,
          1.4754747392319334,
          1.4742727451791957,
          1.4736316816844022,
          1.4729371962317093,
          1.4718153351158207,
          1.471788624136871,
          1.471200982599977,
          1.470319520294636,
          1.4692510811366468,
          1.4686100176418535,
          1.4670340698838196,
          1.4669539369469704,
          1.4653512782099867,
          1.4646033707993942,
          1.4636150645782544,
          1.4635883535993046,
          1.4631075559782096,
          1.4630808449992598,
          1.4620925387781198,
          1.4613179203885778,
          1.4606768568937842,
          1.4596618396936947,
          1.4591276201147,
          1.4583797127041078,
          1.4581126029146105,
          1.4574982503987668,
          1.4572845625671689,
          1.4572578515882193,
          1.4568304759250235,
          1.4564031002618278,
          1.4563763892828783,
          1.455708614809135,
          1.4548004415248443,
          1.454132667051101,
          1.4532779157247098,
          1.452369742440419,
          1.4516218350298267,
          1.4508739276192344,
          1.4499390433559938,
          1.4495918006296473,
          1.4495650896506977,
          1.4469207027346747,
          1.4468939917557249,
          1.445718708681937,
          1.4450776451871434,
          1.44443658169235,
          1.4436085413449085,
          1.442860633934316,
          1.4419257496710756,
          1.4412312642183827,
          1.4402696689761925,
          1.4391210968813541,
          1.4385868773023596,
          1.438346478491812,
          1.4379992357654656,
          1.4375985710812198,
          1.4352480049336438,
          1.434927473186247,
          1.4328440168281682,
          1.432176242354425,
          1.4312413580911845,
          1.4306804275332403,
          1.4299592311015976,
          1.4295585664173518,
          1.4290510578173068,
          1.4286236821541112,
          1.4279291967014183,
          1.427394977122424,
          1.4269408904802785,
          1.425498497616993,
          1.4249108560800992,
          1.4243232145432052,
          1.4231212204904673,
          1.4224534460167242,
          1.419435105395405,
          1.4189810187532597,
          1.4179927125321197,
          1.4156688573634935,
          1.4150010828897501,
          1.4143065974370572,
          1.413451846110666,
          1.4122498520579283,
          1.411582077584185,
          1.4109410140893917,
          1.4101663956998496,
          1.4095787541629554,
          1.4088308467523631,
          1.408430182068117,
          1.4084034710891675,
          1.4080295173838713,
          1.407655563678575,
          1.4071213440995805,
          1.4070946331206309,
          1.4059727720047424,
          1.4052515755730997,
          1.4045570901204067,
          1.4035687838992668,
          1.4030078533413226,
          1.4019394141833335,
          1.40129835068854,
          1.4004703103410985,
          1.3998826688042043,
          1.3995087150989083,
          1.398547119856718,
          1.3978259234250754,
          1.3975321026566283,
          1.3975053916776787,
          1.3961164207722927,
          1.3955822011932983,
          1.3939528314773648,
          1.3932049240667725,
          1.391976219035085,
          1.3914419994560905,
          1.3901598724665036,
          1.3892784101611626,
          1.3887174796032182,
          1.3864203354135416,
          1.38561900604505,
          1.3846841217818093,
          1.3839095033922673,
          1.3827342203184794,
          1.3819328909499875,
          1.3819061799710377,
          1.3808377408130486,
          1.3802768102551044,
          1.3802500992761546,
          1.3791015271813163,
          1.3766708280968911,
          1.3758427877494497,
          1.3750681693599076,
          1.3742668399914157,
          1.3735723545387228,
          1.372771025170231,
          1.3727443141912812,
          1.3718628518859401,
          1.3718361409069906,
          1.3695924186752133,
          1.3652919510643071,
          1.364517332674765,
          1.3637961362431223,
          1.3630215178535803,
          1.362380454358787,
          1.3617393908639934,
          1.3605373968112557,
          1.3596826454848645,
          1.35914842590587,
          1.3588813161163726,
          1.3581334087057801,
          1.3570649695477912,
          1.356477328010897,
          1.3546876924212654,
          1.3540466289264719,
          1.3533254324948292,
          1.352577525084237,
          1.351589218863097,
          1.3507611785156555,
          1.3504406467682586,
          1.3500934040419121,
          1.3500666930629626,
          1.3497461613155657,
          1.3497194503366161,
          1.3493454966313199,
          1.3487845660733755,
          1.3472353292942914,
          1.3465408438415984,
          1.3457929364310062,
          1.3441101447571733,
          1.3440834337782235,
          1.3434957922413295,
          1.342961572662335,
          1.3407445614095075,
          1.339622700293619,
          1.3395959893146694,
          1.3392754575672725,
          1.339035058756725,
          1.3390083477777752,
          1.3376193768723894,
          1.3360701400933053,
          1.3343873484194724,
          1.3338264178615282,
          1.3329182445772374,
          1.3321169152087455,
          1.3310217650718068,
          1.3305943894086112,
          1.3302471466822647,
          1.3299533259138177,
          1.3299266149348679,
          1.329525950250622,
          1.3291787075242756,
          1.327869869555739,
          1.327175384103046,
          1.3263740547345542,
          1.325599436345012,
          1.323168737260587,
          1.3223941188710446,
          1.3216729224394022,
          1.3209250150288097,
          1.3205510613235136,
          1.3201503966392676,
          1.31990999782872,
          1.3179333853864401,
          1.317158766996898,
          1.3164108595863058,
          1.3159834839231102,
          1.3149684667230204,
          1.3141938483334783,
          1.313926738543981,
          1.3119501261017013,
          1.3114426175016565,
          1.3111220857542598,
          1.3106412881331646,
          1.3103474673647175,
          1.3096796928909744,
          1.3083708549224378,
          1.3076763694697449,
          1.3067147742275547,
          1.3061538436696103,
          1.305405936259018,
          1.3040703873115316,
          1.303349190879889,
          1.3027882603219447,
          1.3020403529113522,
          1.3020136419324027,
          1.3016931101850058,
          1.30129244550076,
          1.3009719137533633,
          1.3007849369007152,
          1.3003575612375196,
          1.2997966306795752,
          1.2986747695636867,
          1.2986480585847369,
          1.2978200182372954,
          1.2971789547425019,
          1.2962974924371609,
          1.2947749666370265,
          1.2936263945421882,
          1.2930654639842438,
          1.2923442675526011,
          1.291970313847305,
          1.2915963601420088,
          1.2912758283946122,
          1.2908484527314166,
          1.2889519732259858,
          1.2882040658153935,
          1.2874828693837508,
          1.2865212741415606,
          1.2855863898783202,
          1.2855596788993704,
          1.2848384824677277,
          1.2848117714887781,
          1.2839035982044873,
          1.2824077833833025,
          1.282381072404353,
          1.2809386795410675,
          1.2790689110145865,
          1.2783210036039943,
          1.2775196742355024,
          1.2767984778038597,
          1.2756766166879712,
          1.274901998298429,
          1.2740472469720379,
          1.2739938250141385,
          1.2732192066245962,
          1.272551432150853,
          1.2721507674666073,
          1.2721240564876575,
          1.271376149077065,
          1.2710823283086181,
          1.270681663624372,
          1.2706549526454225,
          1.270307709919076,
          1.2692926927189863,
          1.2687851841189415,
          1.2680639876872988,
          1.2669421265714103,
          1.2661140862239688,
          1.2652326239186278,
          1.2642710286764376,
          1.263523121265845,
          1.2634964102868955,
          1.2627752138552528,
          1.2620005954657108,
          1.2617601966551633,
          1.2613061100130178,
          1.2605314916234758,
          1.260504780644526,
          1.2595966073602352,
          1.2588486999496429,
          1.2578871047074527,
          1.2572193302337096,
          1.256391289886268,
          1.2556700934546252,
          1.2547619201703346,
          1.2537736139491946,
          1.253052417517552,
          1.2524914869596078,
          1.2521175332543115,
          1.2517970015069149,
          1.2514230478016186,
          1.2511559380121213,
          1.250781984306825,
          1.249900522001484,
          1.2489389267592939,
          1.2482177303276514,
          1.2481910193487016,
          1.2472294241065114,
          1.246481516695919,
          1.2457336092853266,
          1.2449857018747343,
          1.2440775285904435,
          1.2436768639061977,
          1.2434097541167004,
          1.2429823784535048,
          1.2426885576850577,
          1.242661846706108,
          1.2422077600639625,
          1.241860517337616,
          1.2414598526533702,
          1.2402311476216827,
          1.2384682230110007,
          1.2377203156004084,
          1.237052541126665,
          1.2360375239265755,
          1.2353163274949328,
          1.2352896165159832,
          1.2343814432316924
         ]
        },
        {
         "line": {
          "color": "firebrick"
         },
         "mode": "lines",
         "name": "Day Trend Line",
         "type": "scatter",
         "x": [
          "1995-05-11T00:00:00",
          "1995-06-13T00:00:00",
          "1995-07-11T00:00:00",
          "1995-09-12T00:00:00",
          "1995-10-10T00:00:00",
          "1995-11-06T00:00:00",
          "1995-12-16T00:00:00",
          "1996-01-30T00:00:00",
          "1996-02-28T00:00:00",
          "1996-03-15T00:00:00",
          "1996-03-28T00:00:00",
          "1996-04-09T00:00:00",
          "1996-04-23T00:00:00",
          "1996-05-06T00:00:00",
          "1996-06-10T00:00:00",
          "1996-07-10T00:00:00",
          "1996-08-05T00:00:00",
          "1996-09-03T00:00:00",
          "1996-10-08T00:00:00",
          "1996-11-05T00:00:00",
          "1996-12-14T00:00:00",
          "1997-01-13T00:00:00",
          "1997-01-28T00:00:00",
          "1997-02-07T00:00:00",
          "1997-02-21T00:00:00",
          "1997-03-04T00:00:00",
          "1997-03-19T00:00:00",
          "1997-04-08T00:00:00",
          "1997-05-05T00:00:00",
          "1997-06-11T00:00:00",
          "1997-07-15T00:00:00",
          "1997-08-11T00:00:00",
          "1997-09-12T00:00:00",
          "1997-10-06T00:00:00",
          "1997-11-14T00:00:00",
          "1997-12-09T00:00:00",
          "1998-01-14T00:00:00",
          "1998-02-11T00:00:00",
          "1998-02-28T00:00:00",
          "1998-03-13T00:00:00",
          "1998-03-25T00:00:00",
          "1998-04-08T00:00:00",
          "1998-05-06T00:00:00",
          "1998-06-03T00:00:00",
          "1998-07-08T00:00:00",
          "1998-08-11T00:00:00",
          "1998-09-08T00:00:00",
          "1998-10-22T00:00:00",
          "1998-11-19T00:00:00",
          "1998-12-08T00:00:00",
          "1999-01-15T00:00:00",
          "1999-01-27T00:00:00",
          "1999-02-12T00:00:00",
          "1999-02-24T00:00:00",
          "1999-03-23T00:00:00",
          "1999-04-07T00:00:00",
          "1999-05-03T00:00:00",
          "1999-06-01T00:00:00",
          "1999-07-06T00:00:00",
          "1999-09-15T00:00:00",
          "1999-10-12T00:00:00",
          "1999-11-10T00:00:00",
          "1999-12-09T00:00:00",
          "2000-04-11T00:00:00",
          "2000-06-06T00:00:00",
          "2000-07-11T00:00:00",
          "2000-08-08T00:00:00",
          "2000-09-13T00:00:00",
          "2000-10-18T00:00:00",
          "2000-11-14T00:00:00",
          "2000-12-12T00:00:00",
          "2001-02-20T00:00:00",
          "2001-03-09T00:00:00",
          "2001-03-20T00:00:00",
          "2001-04-04T00:00:00",
          "2001-04-19T00:00:00",
          "2001-05-15T00:00:00",
          "2001-06-05T00:00:00",
          "2001-07-18T00:00:00",
          "2001-09-12T00:00:00",
          "2001-10-16T00:00:00",
          "2001-11-09T00:00:00",
          "2001-12-11T00:00:00",
          "2002-01-22T00:00:00",
          "2002-02-13T00:00:00",
          "2002-02-27T00:00:00",
          "2002-03-07T00:00:00",
          "2002-04-04T00:00:00",
          "2002-04-16T00:00:00",
          "2002-05-14T00:00:00",
          "2002-06-04T00:00:00",
          "2002-07-02T00:00:00",
          "2002-08-20T00:00:00",
          "2002-09-17T00:00:00",
          "2002-10-08T00:00:00",
          "2002-11-13T00:00:00",
          "2002-12-10T00:00:00",
          "2003-02-04T00:00:00",
          "2003-02-21T00:00:00",
          "2003-03-04T00:00:00",
          "2003-03-21T00:00:00",
          "2003-04-03T00:00:00",
          "2003-04-22T00:00:00",
          "2003-05-20T00:00:00",
          "2003-07-04T00:00:00",
          "2003-07-15T00:00:00",
          "2003-08-12T00:00:00",
          "2003-09-19T00:00:00",
          "2003-10-07T00:00:00",
          "2003-11-04T00:00:00",
          "2003-12-02T00:00:00",
          "2004-01-27T00:00:00",
          "2004-02-14T00:00:00",
          "2004-02-24T00:00:00",
          "2004-04-07T00:00:00",
          "2004-04-21T00:00:00",
          "2004-05-18T00:00:00",
          "2004-06-15T00:00:00",
          "2004-09-14T00:00:00",
          "2004-10-13T00:00:00",
          "2004-11-12T00:00:00",
          "2004-12-08T00:00:00",
          "2005-01-27T00:00:00",
          "2005-02-08T00:00:00",
          "2005-02-24T00:00:00",
          "2005-03-08T00:00:00",
          "2005-03-21T00:00:00",
          "2005-04-06T00:00:00",
          "2005-04-19T00:00:00",
          "2005-05-17T00:00:00",
          "2005-06-14T00:00:00",
          "2005-07-19T00:00:00",
          "2005-08-10T00:00:00",
          "2005-09-06T00:00:00",
          "2005-10-11T00:00:00",
          "2005-11-10T00:00:00",
          "2006-01-29T00:00:00",
          "2006-02-22T00:00:00",
          "2006-05-10T00:00:00",
          "2006-07-18T00:00:00",
          "2006-08-08T00:00:00",
          "2006-10-10T00:00:00",
          "2006-11-07T00:00:00",
          "2006-12-04T00:00:00",
          "2007-02-01T00:00:00",
          "2007-02-22T00:00:00",
          "2007-03-07T00:00:00",
          "2007-03-20T00:00:00",
          "2007-04-03T00:00:00",
          "2007-04-14T00:00:00",
          "2007-05-16T00:00:00",
          "2007-06-21T00:00:00",
          "2007-07-18T00:00:00",
          "2007-08-17T00:00:00",
          "2007-11-14T00:00:00",
          "2007-12-06T00:00:00",
          "2008-01-17T00:00:00",
          "2008-02-12T00:00:00",
          "2008-02-23T00:00:00",
          "2008-03-13T00:00:00",
          "2008-03-25T00:00:00",
          "2008-04-17T00:00:00",
          "2008-05-29T00:00:00",
          "2008-07-18T00:00:00",
          "2008-08-14T00:00:00",
          "2008-09-12T00:00:00",
          "2008-10-09T00:00:00",
          "2009-02-22T00:00:00",
          "2009-03-06T00:00:00",
          "2009-03-19T00:00:00",
          "2009-04-01T00:00:00",
          "2009-06-11T00:00:00",
          "2009-07-15T00:00:00",
          "2009-08-15T00:00:00",
          "2009-09-11T00:00:00",
          "2009-10-10T00:00:00",
          "2009-11-08T00:00:00",
          "2009-12-09T00:00:00",
          "2010-02-24T00:00:00",
          "2010-03-09T00:00:00",
          "2010-04-07T00:00:00",
          "2010-04-21T00:00:00",
          "2010-05-13T00:00:00",
          "2010-06-23T00:00:00",
          "2010-07-24T00:00:00",
          "2010-09-06T00:00:00",
          "2010-10-06T00:00:00",
          "2010-11-10T00:00:00",
          "2010-12-09T00:00:00",
          "2011-03-04T00:00:00",
          "2011-04-27T00:00:00",
          "2011-05-17T00:00:00",
          "2011-06-15T00:00:00",
          "2011-07-06T00:00:00",
          "2011-08-19T00:00:00",
          "2011-09-17T00:00:00",
          "2011-11-01T00:00:00",
          "2011-11-17T00:00:00",
          "2011-12-08T00:00:00",
          "2012-01-29T00:00:00",
          "2012-02-10T00:00:00",
          "2012-03-08T00:00:00",
          "2012-04-26T00:00:00",
          "2012-05-19T00:00:00",
          "2012-06-18T00:00:00",
          "2012-07-12T00:00:00",
          "2012-08-20T00:00:00",
          "2012-09-12T00:00:00",
          "2012-10-19T00:00:00",
          "2012-11-16T00:00:00",
          "2012-12-11T00:00:00",
          "2013-01-22T00:00:00",
          "2013-02-12T00:00:00",
          "2013-02-26T00:00:00",
          "2013-03-12T00:00:00",
          "2013-04-06T00:00:00",
          "2013-04-24T00:00:00",
          "2013-05-15T00:00:00",
          "2013-06-16T00:00:00",
          "2013-07-05T00:00:00",
          "2013-08-02T00:00:00",
          "2013-09-17T00:00:00",
          "2013-10-19T00:00:00",
          "2013-11-14T00:00:00",
          "2013-12-09T00:00:00",
          "2014-03-06T00:00:00",
          "2014-04-11T00:00:00",
          "2014-04-29T00:00:00",
          "2014-06-12T00:00:00",
          "2014-07-10T00:00:00",
          "2014-08-20T00:00:00",
          "2014-09-13T00:00:00",
          "2014-10-28T00:00:00",
          "2014-11-20T00:00:00",
          "2014-12-11T00:00:00",
          "2015-02-05T00:00:00",
          "2015-02-20T00:00:00",
          "2015-04-08T00:00:00",
          "2015-04-24T00:00:00",
          "2015-06-23T00:00:00",
          "2015-07-15T00:00:00",
          "2015-08-18T00:00:00",
          "2015-09-12T00:00:00",
          "2015-11-30T00:00:00",
          "2015-12-12T00:00:00",
          "2016-03-08T00:00:00",
          "2016-03-23T00:00:00",
          "2016-04-05T00:00:00",
          "2016-04-15T00:00:00",
          "2016-05-04T00:00:00",
          "2016-06-14T00:00:00",
          "2016-07-22T00:00:00",
          "2016-08-17T00:00:00",
          "2016-09-20T00:00:00",
          "2016-10-19T00:00:00",
          "2016-11-19T00:00:00",
          "2016-12-13T00:00:00",
          "2017-01-07T00:00:00",
          "2017-02-19T00:00:00",
          "2017-05-09T00:00:00",
          "2017-05-30T00:00:00",
          "2017-06-13T00:00:00",
          "2017-07-18T00:00:00",
          "2017-08-15T00:00:00",
          "2017-09-12T00:00:00",
          "2017-10-17T00:00:00",
          "2017-10-18T00:00:00",
          "2017-11-17T00:00:00",
          "2017-12-12T00:00:00",
          "2018-01-15T00:00:00",
          "2018-02-10T00:00:00",
          "2018-02-27T00:00:00",
          "2018-04-16T00:00:00",
          "2018-04-26T00:00:00",
          "2018-05-23T00:00:00",
          "2018-06-12T00:00:00",
          "2018-07-20T00:00:00",
          "2018-08-13T00:00:00",
          "2018-09-12T00:00:00",
          "2018-10-18T00:00:00",
          "2018-11-06T00:00:00",
          "2018-12-14T00:00:00",
          "2019-01-11T00:00:00",
          "2019-04-10T00:00:00",
          "2019-05-13T00:00:00",
          "2019-06-07T00:00:00",
          "2019-07-16T00:00:00",
          "2019-08-19T00:00:00",
          "2019-09-09T00:00:00",
          "2019-10-23T00:00:00",
          "2019-11-17T00:00:00",
          "2019-12-11T00:00:00",
          "2020-01-26T00:00:00",
          "2020-02-27T00:00:00",
          "2020-07-10T00:00:00",
          "2020-07-31T00:00:00",
          "2020-08-18T00:00:00",
          "2020-09-24T00:00:00",
          "2020-10-26T00:00:00",
          "2020-11-18T00:00:00",
          "2020-12-11T00:00:00",
          "2021-01-25T00:00:00",
          "2021-02-13T00:00:00",
          "2021-03-18T00:00:00",
          "2021-03-25T00:00:00",
          "2021-04-06T00:00:00",
          "2021-05-12T00:00:00",
          "2021-06-15T00:00:00",
          "2021-07-11T00:00:00",
          "2021-08-19T00:00:00",
          "2021-09-12T00:00:00",
          "2021-10-05T00:00:00",
          "2021-11-17T00:00:00",
          "2021-12-13T00:00:00",
          "2022-01-12T00:00:00",
          "2022-03-29T00:00:00",
          "2022-05-01T00:00:00",
          "2022-05-23T00:00:00",
          "2022-06-30T00:00:00",
          "2022-07-16T00:00:00",
          "2022-08-13T00:00:00",
          "2022-11-24T00:00:00",
          "2022-12-13T00:00:00"
         ],
         "y": [
          0.8284532003967838,
          0.8285901766424748,
          0.828706398911546,
          0.828967899016956,
          0.8290841212860272,
          0.8291961927597743,
          0.829362224572733,
          0.8295490103623117,
          0.8296693834267067,
          0.8297357961518902,
          0.8297897564911019,
          0.8298395660349894,
          0.829897677169525,
          0.8299516375087367,
          0.8300969153450756,
          0.8302214392047946,
          0.8303293598832178,
          0.8304497329476129,
          0.8305950107839518,
          0.830711233053023,
          0.8308731140706578,
          0.8309976379303768,
          0.8310598998602363,
          0.8311014078134761,
          0.8311595189480117,
          0.8312051776965753,
          0.8312674396264348,
          0.8313504555329142,
          0.8314625270066613,
          0.8316161064336483,
          0.8317572334746631,
          0.8318693049484103,
          0.8320021303987774,
          0.8321017494865526,
          0.8322636305041874,
          0.8323674003872866,
          0.8325168290189495,
          0.8326330512880206,
          0.8327036148085281,
          0.8327575751477396,
          0.8328073846916273,
          0.8328654958261629,
          0.832981718095234,
          0.8330979403643052,
          0.8332432182006441,
          0.8333843452416589,
          0.8335005675107301,
          0.8336832025049847,
          0.8337994247740559,
          0.8338782898852113,
          0.8340360201075221,
          0.8340858296514098,
          0.8341522423765932,
          0.8342020519204809,
          0.8343141233942281,
          0.8343763853240875,
          0.8344843060025108,
          0.8346046790669058,
          0.8347499569032448,
          0.8350446633712466,
          0.8351567348449938,
          0.8352771079093888,
          0.835397480973784,
          0.8359121795939561,
          0.8361446241320983,
          0.8362899019684373,
          0.8364061242375084,
          0.8365555528691713,
          0.8367008307055102,
          0.8368129021792574,
          0.8369291244483285,
          0.8372196801210063,
          0.8372902436415138,
          0.8373359023900775,
          0.837398164319937,
          0.8374604262497966,
          0.8375683469282197,
          0.8376555136300231,
          0.8378339978289537,
          0.838066442367096,
          0.8382075694081109,
          0.8383071884958863,
          0.8384400139462532,
          0.83861434734986,
          0.8387056648469873,
          0.8387637759815229,
          0.8387969823441146,
          0.8389132046131856,
          0.8389630141570733,
          0.8390792364261445,
          0.8391664031279478,
          0.8392826253970189,
          0.8394860143678934,
          0.8396022366369645,
          0.8396894033387678,
          0.8398388319704307,
          0.8399509034441779,
          0.8401833479823202,
          0.8402539115028277,
          0.8402995702513913,
          0.8403701337718988,
          0.8404240941111104,
          0.8405029592222658,
          0.840619181491337,
          0.8408059672809155,
          0.8408516260294792,
          0.8409678482985503,
          0.8411255785208611,
          0.8412002928366926,
          0.8413165151057638,
          0.8414327373748348,
          0.8416651819129771,
          0.8417398962288085,
          0.8417814041820483,
          0.8419598883809789,
          0.8420179995155145,
          0.8421300709892616,
          0.8422462932583328,
          0.842624015632814,
          0.842744388697209,
          0.8428689125569281,
          0.8429768332353513,
          0.8431843730015498,
          0.8432341825454374,
          0.843300595270621,
          0.8433504048145085,
          0.8434043651537201,
          0.8434707778789037,
          0.8435247382181152,
          0.8436409604871864,
          0.8437571827562574,
          0.8439024605925964,
          0.8439937780897238,
          0.8441058495634709,
          0.8442511273998098,
          0.8443756512595288,
          0.8447077148854464,
          0.8448073339732216,
          0.8451269452131672,
          0.8454133500905211,
          0.8455005167923245,
          0.8457620168977346,
          0.8458782391668056,
          0.8459903106405529,
          0.846235207564667,
          0.8463223742664703,
          0.846376334605682,
          0.8464302949448935,
          0.8464884060794291,
          0.8465340648279928,
          0.8466668902783597,
          0.8468163189100226,
          0.8469283903837698,
          0.8470529142434888,
          0.8474223350273221,
          0.8475136525244494,
          0.8476879859280562,
          0.8477959066064793,
          0.847841565355043,
          0.8479204304661984,
          0.847970240010086,
          0.8480657083025374,
          0.848240041706144,
          0.8484475814723424,
          0.8485596529460896,
          0.8486800260104848,
          0.8487920974842319,
          0.8493566056482916,
          0.8494064151921793,
          0.8494603755313909,
          0.8495143358706024,
          0.8498090423386043,
          0.8499501693796192,
          0.8500788440346623,
          0.8501909155084094,
          0.8503112885728046,
          0.8504316616371996,
          0.8505603362922427,
          0.8508799475321883,
          0.8509339078713999,
          0.8510542809357949,
          0.8511123920703305,
          0.8512037095674578,
          0.8513738921757406,
          0.8515025668307836,
          0.8516852018250383,
          0.8518097256847573,
          0.8519550035210962,
          0.8520753765854914,
          0.8524281941880287,
          0.852652337135523,
          0.8527353530420024,
          0.8528557261063975,
          0.8529428928082009,
          0.8531255278024555,
          0.8532459008668506,
          0.8534326866564292,
          0.8534990993816127,
          0.853586266083416,
          0.8538021074402624,
          0.8538519169841501,
          0.8539639884578972,
          0.8541673774287717,
          0.854262845721223,
          0.8543873695809421,
          0.8544869886687173,
          0.8546488696863521,
          0.8547443379788034,
          0.8548979174057902,
          0.8550141396748614,
          0.8551179095579606,
          0.8552922429615674,
          0.8553794096633707,
          0.8554375207979062,
          0.8554956319324418,
          0.8555994018155411,
          0.8556741161313725,
          0.8557612828331758,
          0.8558941082835428,
          0.8559729733946982,
          0.8560891956637694,
          0.8562801322486719,
          0.8564129576990389,
          0.8565208783774622,
          0.8566246482605614,
          0.8569857674537467,
          0.8571351960854096,
          0.857209910401241,
          0.8573925453954956,
          0.8575087676645667,
          0.8576789502728495,
          0.8577785693606247,
          0.8579653551502033,
          0.8580608234426547,
          0.858147990144458,
          0.8583804346826003,
          0.8584426966124598,
          0.8586377839926863,
          0.8587041967178698,
          0.8589532444373079,
          0.8590445619344352,
          0.8591856889754502,
          0.8592894588585495,
          0.859617371689143,
          0.8596671812330307,
          0.8600283004262159,
          0.8600905623560755,
          0.8601445226952871,
          0.8601860306485267,
          0.8602648957596821,
          0.8604350783679648,
          0.8605928085902758,
          0.8607007292686989,
          0.8608418563097139,
          0.8609622293741089,
          0.861090904029152,
          0.8611905231169272,
          0.8612942930000265,
          0.8614727771989571,
          0.8618006900295507,
          0.861887856731354,
          0.8619459678658896,
          0.8620912457022285,
          0.8622074679712997,
          0.8623236902403708,
          0.8624689680767097,
          0.8624731188720337,
          0.8625976427317528,
          0.862701412614852,
          0.8628425396558669,
          0.8629504603342901,
          0.8630210238547976,
          0.8632202620303481,
          0.8632617699835877,
          0.863373841457335,
          0.8634568573638143,
          0.8636145875861252,
          0.8637142066739004,
          0.8638387305336195,
          0.8639881591652824,
          0.8640670242764378,
          0.8642247544987486,
          0.8643409767678197,
          0.8647103975516529,
          0.8648473737973439,
          0.8649511436804431,
          0.8651130246980779,
          0.8652541517390929,
          0.8653413184408962,
          0.8655239534351509,
          0.8656277233182501,
          0.8657273424060253,
          0.8659182789909279,
          0.866051104441295,
          0.8666073110147068,
          0.8666944777165101,
          0.8667691920323416,
          0.8669227714593284,
          0.8670555969096955,
          0.8671510652021467,
          0.867246533494598,
          0.8674333192841766,
          0.8675121843953321,
          0.867649160641023,
          0.8676782162082908,
          0.8677280257521784,
          0.8678774543838413,
          0.8680185814248562,
          0.8681265021032795,
          0.8682883831209143,
          0.8683880022086895,
          0.8684834705011407,
          0.8686619547000715,
          0.8687698753784946,
          0.8688943992382137,
          0.8692098596828354,
          0.8693468359285264,
          0.8694381534256537,
          0.8695958836479645,
          0.869662296373148,
          0.8697785186422191,
          0.8702060505605879,
          0.8702849156717433
         ]
        },
        {
         "line": {
          "color": "royalblue"
         },
         "mode": "lines",
         "name": "Night Trend Line",
         "type": "scatter",
         "x": [
          "1995-05-10T00:00:00",
          "1995-06-13T00:00:00",
          "1995-06-14T00:00:00",
          "1995-07-11T00:00:00",
          "1995-08-18T00:00:00",
          "1995-09-12T00:00:00",
          "1995-10-10T00:00:00",
          "1995-12-15T00:00:00",
          "1996-01-30T00:00:00",
          "1996-02-14T00:00:00",
          "1996-02-27T00:00:00",
          "1996-03-15T00:00:00",
          "1996-03-16T00:00:00",
          "1996-03-27T00:00:00",
          "1996-04-12T00:00:00",
          "1996-04-22T00:00:00",
          "1996-05-07T00:00:00",
          "1996-06-10T00:00:00",
          "1996-07-08T00:00:00",
          "1996-08-05T00:00:00",
          "1996-09-02T00:00:00",
          "1996-10-08T00:00:00",
          "1996-10-09T00:00:00",
          "1996-11-05T00:00:00",
          "1996-12-11T00:00:00",
          "1997-01-13T00:00:00",
          "1997-01-27T00:00:00",
          "1997-02-06T00:00:00",
          "1997-02-20T00:00:00",
          "1997-03-04T00:00:00",
          "1997-03-18T00:00:00",
          "1997-04-08T00:00:00",
          "1997-05-05T00:00:00",
          "1997-06-11T00:00:00",
          "1997-07-15T00:00:00",
          "1997-08-11T00:00:00",
          "1997-09-11T00:00:00",
          "1997-10-06T00:00:00",
          "1997-11-11T00:00:00",
          "1997-12-09T00:00:00",
          "1998-01-12T00:00:00",
          "1998-01-13T00:00:00",
          "1998-02-11T00:00:00",
          "1998-02-28T00:00:00",
          "1998-03-09T00:00:00",
          "1998-04-07T00:00:00",
          "1998-05-04T00:00:00",
          "1998-05-05T00:00:00",
          "1998-06-02T00:00:00",
          "1998-07-08T00:00:00",
          "1998-08-10T00:00:00",
          "1998-09-10T00:00:00",
          "1998-10-22T00:00:00",
          "1998-11-18T00:00:00",
          "1998-12-07T00:00:00",
          "1999-01-14T00:00:00",
          "1999-01-27T00:00:00",
          "1999-01-28T00:00:00",
          "1999-02-12T00:00:00",
          "1999-02-23T00:00:00",
          "1999-03-23T00:00:00",
          "1999-03-24T00:00:00",
          "1999-04-08T00:00:00",
          "1999-05-03T00:00:00",
          "1999-06-01T00:00:00",
          "1999-06-03T00:00:00",
          "1999-07-05T00:00:00",
          "1999-08-03T00:00:00",
          "1999-09-14T00:00:00",
          "1999-10-11T00:00:00",
          "1999-11-10T00:00:00",
          "1999-12-08T00:00:00",
          "2000-02-16T00:00:00",
          "2000-04-10T00:00:00",
          "2000-04-11T00:00:00",
          "2000-06-06T00:00:00",
          "2000-07-10T00:00:00",
          "2000-07-11T00:00:00",
          "2000-08-07T00:00:00",
          "2000-08-08T00:00:00",
          "2000-09-12T00:00:00",
          "2000-10-18T00:00:00",
          "2000-11-14T00:00:00",
          "2000-12-12T00:00:00",
          "2001-02-21T00:00:00",
          "2001-03-09T00:00:00",
          "2001-03-21T00:00:00",
          "2001-04-04T00:00:00",
          "2001-04-18T00:00:00",
          "2001-05-15T00:00:00",
          "2001-06-05T00:00:00",
          "2001-07-18T00:00:00",
          "2001-09-13T00:00:00",
          "2001-10-16T00:00:00",
          "2001-11-09T00:00:00",
          "2001-12-10T00:00:00",
          "2001-12-11T00:00:00",
          "2002-01-22T00:00:00",
          "2002-02-12T00:00:00",
          "2002-02-28T00:00:00",
          "2002-03-07T00:00:00",
          "2002-03-19T00:00:00",
          "2002-04-03T00:00:00",
          "2002-04-15T00:00:00",
          "2002-04-16T00:00:00",
          "2002-05-14T00:00:00",
          "2002-06-04T00:00:00",
          "2002-07-01T00:00:00",
          "2002-08-20T00:00:00",
          "2002-09-17T00:00:00",
          "2002-10-08T00:00:00",
          "2002-11-13T00:00:00",
          "2002-12-09T00:00:00",
          "2003-01-27T00:00:00",
          "2003-02-21T00:00:00",
          "2003-03-04T00:00:00",
          "2003-03-22T00:00:00",
          "2003-04-03T00:00:00",
          "2003-04-22T00:00:00",
          "2003-07-05T00:00:00",
          "2003-07-15T00:00:00",
          "2003-08-13T00:00:00",
          "2003-09-20T00:00:00",
          "2003-10-06T00:00:00",
          "2003-11-03T00:00:00",
          "2003-12-02T00:00:00",
          "2004-02-14T00:00:00",
          "2004-02-23T00:00:00",
          "2004-03-09T00:00:00",
          "2004-03-23T00:00:00",
          "2004-04-20T00:00:00",
          "2004-05-17T00:00:00",
          "2004-06-15T00:00:00",
          "2004-09-14T00:00:00",
          "2004-10-13T00:00:00",
          "2004-11-12T00:00:00",
          "2004-12-08T00:00:00",
          "2005-01-26T00:00:00",
          "2005-02-08T00:00:00",
          "2005-02-23T00:00:00",
          "2005-02-24T00:00:00",
          "2005-03-07T00:00:00",
          "2005-03-20T00:00:00",
          "2005-04-05T00:00:00",
          "2005-05-16T00:00:00",
          "2005-06-15T00:00:00",
          "2005-07-19T00:00:00",
          "2005-08-09T00:00:00",
          "2005-10-11T00:00:00",
          "2005-12-08T00:00:00",
          "2006-01-29T00:00:00",
          "2006-01-30T00:00:00",
          "2006-02-08T00:00:00",
          "2006-02-20T00:00:00",
          "2006-02-21T00:00:00",
          "2006-04-04T00:00:00",
          "2006-06-26T00:00:00",
          "2006-07-16T00:00:00",
          "2006-08-07T00:00:00",
          "2006-08-08T00:00:00",
          "2006-10-10T00:00:00",
          "2006-11-07T00:00:00",
          "2006-12-03T00:00:00",
          "2007-01-30T00:00:00",
          "2007-02-20T00:00:00",
          "2007-03-06T00:00:00",
          "2007-03-07T00:00:00",
          "2007-03-19T00:00:00",
          "2007-03-20T00:00:00",
          "2007-04-02T00:00:00",
          "2007-04-14T00:00:00",
          "2007-05-15T00:00:00",
          "2007-06-21T00:00:00",
          "2007-07-19T00:00:00",
          "2007-08-15T00:00:00",
          "2007-09-08T00:00:00",
          "2007-11-14T00:00:00",
          "2007-12-06T00:00:00",
          "2008-01-15T00:00:00",
          "2008-02-12T00:00:00",
          "2008-02-22T00:00:00",
          "2008-03-13T00:00:00",
          "2008-04-14T00:00:00",
          "2008-05-29T00:00:00",
          "2008-06-22T00:00:00",
          "2008-07-16T00:00:00",
          "2008-08-14T00:00:00",
          "2008-09-10T00:00:00",
          "2008-10-09T00:00:00",
          "2009-03-19T00:00:00",
          "2009-06-11T00:00:00",
          "2009-06-12T00:00:00",
          "2009-07-15T00:00:00",
          "2009-07-16T00:00:00",
          "2009-08-15T00:00:00",
          "2009-09-10T00:00:00",
          "2009-10-10T00:00:00",
          "2009-11-08T00:00:00",
          "2009-12-09T00:00:00",
          "2010-03-10T00:00:00",
          "2010-04-22T00:00:00",
          "2010-04-23T00:00:00",
          "2010-05-14T00:00:00",
          "2010-06-23T00:00:00",
          "2010-06-24T00:00:00",
          "2010-07-24T00:00:00",
          "2010-09-06T00:00:00",
          "2010-10-05T00:00:00",
          "2010-11-09T00:00:00",
          "2010-12-09T00:00:00",
          "2011-03-05T00:00:00",
          "2011-03-26T00:00:00",
          "2011-04-28T00:00:00",
          "2011-06-15T00:00:00",
          "2011-07-05T00:00:00",
          "2011-08-20T00:00:00",
          "2011-09-17T00:00:00",
          "2011-11-17T00:00:00",
          "2011-12-07T00:00:00",
          "2012-01-28T00:00:00",
          "2012-01-29T00:00:00",
          "2012-02-09T00:00:00",
          "2012-03-07T00:00:00",
          "2012-04-12T00:00:00",
          "2012-04-26T00:00:00",
          "2012-05-18T00:00:00",
          "2012-06-18T00:00:00",
          "2012-07-12T00:00:00",
          "2012-08-21T00:00:00",
          "2012-09-11T00:00:00",
          "2012-10-18T00:00:00",
          "2012-11-13T00:00:00",
          "2012-12-10T00:00:00",
          "2013-01-21T00:00:00",
          "2013-01-22T00:00:00",
          "2013-02-11T00:00:00",
          "2013-02-25T00:00:00",
          "2013-03-11T00:00:00",
          "2013-03-12T00:00:00",
          "2013-03-27T00:00:00",
          "2013-04-24T00:00:00",
          "2013-05-16T00:00:00",
          "2013-06-14T00:00:00",
          "2013-07-08T00:00:00",
          "2013-08-02T00:00:00",
          "2013-09-16T00:00:00",
          "2013-10-18T00:00:00",
          "2013-11-13T00:00:00",
          "2013-12-08T00:00:00",
          "2014-03-05T00:00:00",
          "2014-04-11T00:00:00",
          "2014-04-28T00:00:00",
          "2014-08-19T00:00:00",
          "2014-09-13T00:00:00",
          "2014-10-28T00:00:00",
          "2014-11-19T00:00:00",
          "2014-12-11T00:00:00",
          "2015-02-03T00:00:00",
          "2015-02-20T00:00:00",
          "2015-03-12T00:00:00",
          "2015-04-07T00:00:00",
          "2015-04-23T00:00:00",
          "2015-05-12T00:00:00",
          "2015-05-27T00:00:00",
          "2015-06-23T00:00:00",
          "2015-07-14T00:00:00",
          "2015-08-18T00:00:00",
          "2015-09-12T00:00:00",
          "2015-11-29T00:00:00",
          "2015-12-11T00:00:00",
          "2016-03-08T00:00:00",
          "2016-03-23T00:00:00",
          "2016-04-05T00:00:00",
          "2016-04-14T00:00:00",
          "2016-05-04T00:00:00",
          "2016-06-16T00:00:00",
          "2016-07-22T00:00:00",
          "2016-08-17T00:00:00",
          "2016-09-21T00:00:00",
          "2016-10-19T00:00:00",
          "2016-11-19T00:00:00",
          "2016-12-13T00:00:00",
          "2017-01-06T00:00:00",
          "2017-02-19T00:00:00",
          "2017-02-20T00:00:00",
          "2017-05-30T00:00:00",
          "2017-05-31T00:00:00",
          "2017-06-13T00:00:00",
          "2017-07-18T00:00:00",
          "2017-08-15T00:00:00",
          "2017-09-12T00:00:00",
          "2017-10-16T00:00:00",
          "2017-11-17T00:00:00",
          "2017-12-12T00:00:00",
          "2018-01-15T00:00:00",
          "2018-02-09T00:00:00",
          "2018-02-10T00:00:00",
          "2018-02-26T00:00:00",
          "2018-03-14T00:00:00",
          "2018-03-15T00:00:00",
          "2018-03-23T00:00:00",
          "2018-04-15T00:00:00",
          "2018-04-25T00:00:00",
          "2018-05-23T00:00:00",
          "2018-06-12T00:00:00",
          "2018-07-20T00:00:00",
          "2018-08-13T00:00:00",
          "2018-09-11T00:00:00",
          "2018-10-18T00:00:00",
          "2018-10-19T00:00:00",
          "2018-11-06T00:00:00",
          "2018-11-07T00:00:00",
          "2018-12-14T00:00:00",
          "2019-01-11T00:00:00",
          "2019-03-12T00:00:00",
          "2019-03-15T00:00:00",
          "2019-05-13T00:00:00",
          "2019-06-06T00:00:00",
          "2019-07-16T00:00:00",
          "2019-08-18T00:00:00",
          "2019-09-09T00:00:00",
          "2019-09-10T00:00:00",
          "2019-10-22T00:00:00",
          "2019-11-17T00:00:00",
          "2019-12-11T00:00:00",
          "2020-01-25T00:00:00",
          "2020-02-28T00:00:00",
          "2020-07-10T00:00:00",
          "2020-07-30T00:00:00",
          "2020-07-31T00:00:00",
          "2020-08-17T00:00:00",
          "2020-08-18T00:00:00",
          "2020-09-23T00:00:00",
          "2020-10-26T00:00:00",
          "2020-11-17T00:00:00",
          "2020-12-10T00:00:00",
          "2021-02-12T00:00:00",
          "2021-03-18T00:00:00",
          "2021-03-24T00:00:00",
          "2021-04-05T00:00:00",
          "2021-04-29T00:00:00",
          "2021-06-14T00:00:00",
          "2021-07-10T00:00:00",
          "2021-08-19T00:00:00",
          "2021-10-04T00:00:00",
          "2021-11-16T00:00:00",
          "2021-12-13T00:00:00",
          "2022-01-12T00:00:00",
          "2022-03-29T00:00:00",
          "2022-05-01T00:00:00",
          "2022-05-23T00:00:00",
          "2022-07-15T00:00:00",
          "2022-08-13T00:00:00",
          "2022-09-17T00:00:00",
          "2022-09-18T00:00:00",
          "2022-11-23T00:00:00",
          "2022-12-13T00:00:00"
         ],
         "y": [
          1.3018425874426127,
          1.3027507607269035,
          1.3027774717058531,
          1.3034986681374958,
          1.3045136853375854,
          1.3051814598113287,
          1.305929367221921,
          1.307692291832603,
          1.3089209968642905,
          1.3093216615485364,
          1.3096689042748828,
          1.3101229909170282,
          1.310149701895978,
          1.310443522664425,
          1.3108708983276207,
          1.311138008117118,
          1.3115386728013638,
          1.3124468460856547,
          1.313194753496247,
          1.3139426609068392,
          1.3146905683174317,
          1.315652163559622,
          1.3156788745385717,
          1.3164000709702142,
          1.3173616662124044,
          1.3182431285177454,
          1.3186170822230416,
          1.318884192012539,
          1.3192581457178352,
          1.3195786774652318,
          1.319952631170528,
          1.3205135617284722,
          1.321234758160115,
          1.322223064381255,
          1.3231312376655455,
          1.3238524340971882,
          1.3246804744446299,
          1.325348248918373,
          1.3263098441605632,
          1.3270577515711555,
          1.3279659248554463,
          1.327992635834396,
          1.3287672542239382,
          1.3292213408660836,
          1.329461739676631,
          1.3302363580661731,
          1.3309575544978158,
          1.3309842654767654,
          1.331732172887358,
          1.332693768129548,
          1.3335752304348891,
          1.3344032707823306,
          1.335525131898219,
          1.3362463283298618,
          1.3367538369299066,
          1.3377688541299964,
          1.3381160968563428,
          1.3381428078352924,
          1.3385434725195384,
          1.3388372932879853,
          1.3395852006985778,
          1.3396119116775276,
          1.3400125763617734,
          1.3406803508355165,
          1.3414549692250588,
          1.3415083911829582,
          1.3423631425093494,
          1.3431377608988915,
          1.34425962201478,
          1.3449808184464227,
          1.3457821478149146,
          1.3465300552255068,
          1.3483998237519879,
          1.3498422166152733,
          1.3498689275942228,
          1.3513647424154076,
          1.3522729156996984,
          1.352299626678648,
          1.3530208231102907,
          1.3530475340892405,
          1.353982418352481,
          1.354944013594671,
          1.3556652100263138,
          1.356413117436906,
          1.3583095969423369,
          1.3587369726055325,
          1.3590575043529292,
          1.3594314580582254,
          1.3598054117635214,
          1.3605266081951641,
          1.3610875387531085,
          1.3622361108479468,
          1.3637586366480812,
          1.3646400989534222,
          1.3652811624482157,
          1.3661092027956572,
          1.366135913774607,
          1.3672577748904955,
          1.3678187054484399,
          1.3682460811116355,
          1.3684330579642836,
          1.3687535897116803,
          1.369154254395926,
          1.369474786143323,
          1.3695014971222725,
          1.370249404532865,
          1.3708103350908094,
          1.3715315315224519,
          1.3728670804699383,
          1.3736149878805306,
          1.374175918438475,
          1.3751375136806652,
          1.375831999133358,
          1.3771408371018947,
          1.3778086115756378,
          1.378102432344085,
          1.3785832299651801,
          1.3789037617125768,
          1.3794112703126216,
          1.3813878827549013,
          1.3816549925443986,
          1.3824296109339407,
          1.3834446281340305,
          1.383872003797226,
          1.3846199112078184,
          1.3853945295973604,
          1.3873711420396404,
          1.387611540850188,
          1.388012205534434,
          1.38838615923973,
          1.3891340666503225,
          1.389855263081965,
          1.3906298814715072,
          1.3930605805559324,
          1.3938351989454745,
          1.3946365283139663,
          1.3953310137666592,
          1.396639851735196,
          1.3969870944615423,
          1.3973877591457882,
          1.397414470124738,
          1.397708290893185,
          1.3980555336195315,
          1.3984829092827271,
          1.3995780594196658,
          1.4003793887881577,
          1.4012875620724485,
          1.4018484926303927,
          1.4035312843042256,
          1.4050805210833097,
          1.4064694919886955,
          1.4064962029676453,
          1.4067366017781928,
          1.4070571335255897,
          1.4070838445045393,
          1.4082057056204278,
          1.4104227168732553,
          1.4109569364522498,
          1.4115445779891438,
          1.4115712889680936,
          1.4132540806419265,
          1.4140019880525188,
          1.4146964735052117,
          1.4162457102842958,
          1.4168066408422402,
          1.4171805945475364,
          1.417207305526486,
          1.4175278372738829,
          1.4175545482528324,
          1.417901790979179,
          1.4182223227265758,
          1.4190503630740172,
          1.4200386692951572,
          1.4207865767057495,
          1.4215077731373922,
          1.4221488366321857,
          1.4239384722218174,
          1.4245261137587115,
          1.4255945529167005,
          1.426342460327293,
          1.4266095701167902,
          1.4271437896957848,
          1.427998541022176,
          1.4292005350749137,
          1.4298415985697073,
          1.4304826620645006,
          1.4312572804540427,
          1.4319784768856854,
          1.4327530952752274,
          1.4370535628861336,
          1.4392972851179109,
          1.4393239960968605,
          1.4402054584022015,
          1.4402321693811513,
          1.4410334987496431,
          1.441727984202336,
          1.442529313570828,
          1.44330393196037,
          1.4441319723078114,
          1.4465626713922366,
          1.447711243487075,
          1.4477379544660247,
          1.4482988850239689,
          1.449367324181958,
          1.4493940351609078,
          1.4501953645293997,
          1.4513706476031876,
          1.4521452659927296,
          1.4530801502559703,
          1.453881479624462,
          1.4561786238141385,
          1.456739554372083,
          1.457621016677424,
          1.4589031436670108,
          1.4594373632460054,
          1.4606660682776929,
          1.4614139756882851,
          1.4630433454042187,
          1.463577564983213,
          1.464966535888599,
          1.4649932468675486,
          1.4652870676359957,
          1.4660082640676384,
          1.4669698593098286,
          1.4673438130151246,
          1.4679314545520188,
          1.4687594948994602,
          1.4694005583942538,
          1.470468997552243,
          1.471029928110187,
          1.472018234331327,
          1.47271271978402,
          1.4734339162156627,
          1.4745557773315512,
          1.4745824883105008,
          1.4751167078894953,
          1.4754906615947916,
          1.4758646153000878,
          1.4758913262790374,
          1.4762919909632835,
          1.4770398983738757,
          1.47762753991077,
          1.478402158300312,
          1.4790432217951053,
          1.4797109962688486,
          1.4809129903215863,
          1.4817677416479775,
          1.4824622271006704,
          1.4831300015744138,
          1.48545385674304,
          1.48644216296418,
          1.4868962496063254,
          1.4899145902276445,
          1.4905823647013876,
          1.4917843587541255,
          1.4923720002910195,
          1.4929596418279134,
          1.4944020346911988,
          1.4948561213333442,
          1.4953903409123386,
          1.4960848263650315,
          1.496512202028227,
          1.497019710628272,
          1.497420375312518,
          1.4981415717441606,
          1.4987025023021048,
          1.4996373865653454,
          1.5003051610390885,
          1.5023886173971672,
          1.502709149144564,
          1.50505971529214,
          1.505460379976386,
          1.5058076227027324,
          1.5060480215132799,
          1.5065822410922745,
          1.5077308131871128,
          1.508692408429303,
          1.5093868938819959,
          1.5103217781452363,
          1.5110696855558288,
          1.5118977259032702,
          1.5125387893980637,
          1.5131798528928573,
          1.5143551359666452,
          1.514381846945595,
          1.517026233861618,
          1.5170529448405676,
          1.517400187566914,
          1.5183350718301547,
          1.519082979240747,
          1.5198308866513393,
          1.52073905993563,
          1.5215938112620213,
          1.5222615857357646,
          1.5231697590200552,
          1.5238375334937986,
          1.5238642444727482,
          1.5242916201359438,
          1.5247189957991396,
          1.5247457067780892,
          1.524959394609687,
          1.5255737471255308,
          1.5258408569150281,
          1.5265887643256204,
          1.527122983904615,
          1.5281380011047045,
          1.528779064599498,
          1.5295536829890402,
          1.5305419892101801,
          1.53056870018913,
          1.531049497810225,
          1.5310762087891747,
          1.5320645150103145,
          1.532812422420907,
          1.5344150811578907,
          1.5344952140947399,
          1.5360711618527738,
          1.5367122253475671,
          1.5377806645055563,
          1.5386621268108973,
          1.5392497683477913,
          1.539276479326741,
          1.5403983404426296,
          1.5410928258953225,
          1.541733889390116,
          1.5429358834428537,
          1.5438440567271445,
          1.5473966169274582,
          1.5479308365064528,
          1.5479575474854026,
          1.5484116341275478,
          1.5484383451064976,
          1.5493999403486878,
          1.5502814026540288,
          1.5508690441909228,
          1.5514833967067665,
          1.5531928993595492,
          1.5541010726438398,
          1.5542613385175383,
          1.554581870264935,
          1.5552229337597283,
          1.5564516387914158,
          1.5571461242441087,
          1.5582145634020979,
          1.5594432684337853,
          1.5605918405286237,
          1.5613130369602664,
          1.5621143663287582,
          1.5641444007289373,
          1.5650258630342784,
          1.5656135045711723,
          1.567029186455508,
          1.56780380484505,
          1.5687386891082906,
          1.5687654000872402,
          1.5705283246979223,
          1.5710625442769168
         ]
        }
       ],
       "layout": {
        "height": 600,
        "template": {
         "data": {
          "bar": [
           {
            "error_x": {
             "color": "#2a3f5f"
            },
            "error_y": {
             "color": "#2a3f5f"
            },
            "marker": {
             "line": {
              "color": "#E5ECF6",
              "width": 0.5
             },
             "pattern": {
              "fillmode": "overlay",
              "size": 10,
              "solidity": 0.2
             }
            },
            "type": "bar"
           }
          ],
          "barpolar": [
           {
            "marker": {
             "line": {
              "color": "#E5ECF6",
              "width": 0.5
             },
             "pattern": {
              "fillmode": "overlay",
              "size": 10,
              "solidity": 0.2
             }
            },
            "type": "barpolar"
           }
          ],
          "carpet": [
           {
            "aaxis": {
             "endlinecolor": "#2a3f5f",
             "gridcolor": "white",
             "linecolor": "white",
             "minorgridcolor": "white",
             "startlinecolor": "#2a3f5f"
            },
            "baxis": {
             "endlinecolor": "#2a3f5f",
             "gridcolor": "white",
             "linecolor": "white",
             "minorgridcolor": "white",
             "startlinecolor": "#2a3f5f"
            },
            "type": "carpet"
           }
          ],
          "choropleth": [
           {
            "colorbar": {
             "outlinewidth": 0,
             "ticks": ""
            },
            "type": "choropleth"
           }
          ],
          "contour": [
           {
            "colorbar": {
             "outlinewidth": 0,
             "ticks": ""
            },
            "colorscale": [
             [
              0,
              "#0d0887"
             ],
             [
              0.1111111111111111,
              "#46039f"
             ],
             [
              0.2222222222222222,
              "#7201a8"
             ],
             [
              0.3333333333333333,
              "#9c179e"
             ],
             [
              0.4444444444444444,
              "#bd3786"
             ],
             [
              0.5555555555555556,
              "#d8576b"
             ],
             [
              0.6666666666666666,
              "#ed7953"
             ],
             [
              0.7777777777777778,
              "#fb9f3a"
             ],
             [
              0.8888888888888888,
              "#fdca26"
             ],
             [
              1,
              "#f0f921"
             ]
            ],
            "type": "contour"
           }
          ],
          "contourcarpet": [
           {
            "colorbar": {
             "outlinewidth": 0,
             "ticks": ""
            },
            "type": "contourcarpet"
           }
          ],
          "heatmap": [
           {
            "colorbar": {
             "outlinewidth": 0,
             "ticks": ""
            },
            "colorscale": [
             [
              0,
              "#0d0887"
             ],
             [
              0.1111111111111111,
              "#46039f"
             ],
             [
              0.2222222222222222,
              "#7201a8"
             ],
             [
              0.3333333333333333,
              "#9c179e"
             ],
             [
              0.4444444444444444,
              "#bd3786"
             ],
             [
              0.5555555555555556,
              "#d8576b"
             ],
             [
              0.6666666666666666,
              "#ed7953"
             ],
             [
              0.7777777777777778,
              "#fb9f3a"
             ],
             [
              0.8888888888888888,
              "#fdca26"
             ],
             [
              1,
              "#f0f921"
             ]
            ],
            "type": "heatmap"
           }
          ],
          "heatmapgl": [
           {
            "colorbar": {
             "outlinewidth": 0,
             "ticks": ""
            },
            "colorscale": [
             [
              0,
              "#0d0887"
             ],
             [
              0.1111111111111111,
              "#46039f"
             ],
             [
              0.2222222222222222,
              "#7201a8"
             ],
             [
              0.3333333333333333,
              "#9c179e"
             ],
             [
              0.4444444444444444,
              "#bd3786"
             ],
             [
              0.5555555555555556,
              "#d8576b"
             ],
             [
              0.6666666666666666,
              "#ed7953"
             ],
             [
              0.7777777777777778,
              "#fb9f3a"
             ],
             [
              0.8888888888888888,
              "#fdca26"
             ],
             [
              1,
              "#f0f921"
             ]
            ],
            "type": "heatmapgl"
           }
          ],
          "histogram": [
           {
            "marker": {
             "pattern": {
              "fillmode": "overlay",
              "size": 10,
              "solidity": 0.2
             }
            },
            "type": "histogram"
           }
          ],
          "histogram2d": [
           {
            "colorbar": {
             "outlinewidth": 0,
             "ticks": ""
            },
            "colorscale": [
             [
              0,
              "#0d0887"
             ],
             [
              0.1111111111111111,
              "#46039f"
             ],
             [
              0.2222222222222222,
              "#7201a8"
             ],
             [
              0.3333333333333333,
              "#9c179e"
             ],
             [
              0.4444444444444444,
              "#bd3786"
             ],
             [
              0.5555555555555556,
              "#d8576b"
             ],
             [
              0.6666666666666666,
              "#ed7953"
             ],
             [
              0.7777777777777778,
              "#fb9f3a"
             ],
             [
              0.8888888888888888,
              "#fdca26"
             ],
             [
              1,
              "#f0f921"
             ]
            ],
            "type": "histogram2d"
           }
          ],
          "histogram2dcontour": [
           {
            "colorbar": {
             "outlinewidth": 0,
             "ticks": ""
            },
            "colorscale": [
             [
              0,
              "#0d0887"
             ],
             [
              0.1111111111111111,
              "#46039f"
             ],
             [
              0.2222222222222222,
              "#7201a8"
             ],
             [
              0.3333333333333333,
              "#9c179e"
             ],
             [
              0.4444444444444444,
              "#bd3786"
             ],
             [
              0.5555555555555556,
              "#d8576b"
             ],
             [
              0.6666666666666666,
              "#ed7953"
             ],
             [
              0.7777777777777778,
              "#fb9f3a"
             ],
             [
              0.8888888888888888,
              "#fdca26"
             ],
             [
              1,
              "#f0f921"
             ]
            ],
            "type": "histogram2dcontour"
           }
          ],
          "mesh3d": [
           {
            "colorbar": {
             "outlinewidth": 0,
             "ticks": ""
            },
            "type": "mesh3d"
           }
          ],
          "parcoords": [
           {
            "line": {
             "colorbar": {
              "outlinewidth": 0,
              "ticks": ""
             }
            },
            "type": "parcoords"
           }
          ],
          "pie": [
           {
            "automargin": true,
            "type": "pie"
           }
          ],
          "scatter": [
           {
            "fillpattern": {
             "fillmode": "overlay",
             "size": 10,
             "solidity": 0.2
            },
            "type": "scatter"
           }
          ],
          "scatter3d": [
           {
            "line": {
             "colorbar": {
              "outlinewidth": 0,
              "ticks": ""
             }
            },
            "marker": {
             "colorbar": {
              "outlinewidth": 0,
              "ticks": ""
             }
            },
            "type": "scatter3d"
           }
          ],
          "scattercarpet": [
           {
            "marker": {
             "colorbar": {
              "outlinewidth": 0,
              "ticks": ""
             }
            },
            "type": "scattercarpet"
           }
          ],
          "scattergeo": [
           {
            "marker": {
             "colorbar": {
              "outlinewidth": 0,
              "ticks": ""
             }
            },
            "type": "scattergeo"
           }
          ],
          "scattergl": [
           {
            "marker": {
             "colorbar": {
              "outlinewidth": 0,
              "ticks": ""
             }
            },
            "type": "scattergl"
           }
          ],
          "scattermapbox": [
           {
            "marker": {
             "colorbar": {
              "outlinewidth": 0,
              "ticks": ""
             }
            },
            "type": "scattermapbox"
           }
          ],
          "scatterpolar": [
           {
            "marker": {
             "colorbar": {
              "outlinewidth": 0,
              "ticks": ""
             }
            },
            "type": "scatterpolar"
           }
          ],
          "scatterpolargl": [
           {
            "marker": {
             "colorbar": {
              "outlinewidth": 0,
              "ticks": ""
             }
            },
            "type": "scatterpolargl"
           }
          ],
          "scatterternary": [
           {
            "marker": {
             "colorbar": {
              "outlinewidth": 0,
              "ticks": ""
             }
            },
            "type": "scatterternary"
           }
          ],
          "surface": [
           {
            "colorbar": {
             "outlinewidth": 0,
             "ticks": ""
            },
            "colorscale": [
             [
              0,
              "#0d0887"
             ],
             [
              0.1111111111111111,
              "#46039f"
             ],
             [
              0.2222222222222222,
              "#7201a8"
             ],
             [
              0.3333333333333333,
              "#9c179e"
             ],
             [
              0.4444444444444444,
              "#bd3786"
             ],
             [
              0.5555555555555556,
              "#d8576b"
             ],
             [
              0.6666666666666666,
              "#ed7953"
             ],
             [
              0.7777777777777778,
              "#fb9f3a"
             ],
             [
              0.8888888888888888,
              "#fdca26"
             ],
             [
              1,
              "#f0f921"
             ]
            ],
            "type": "surface"
           }
          ],
          "table": [
           {
            "cells": {
             "fill": {
              "color": "#EBF0F8"
             },
             "line": {
              "color": "white"
             }
            },
            "header": {
             "fill": {
              "color": "#C8D4E3"
             },
             "line": {
              "color": "white"
             }
            },
            "type": "table"
           }
          ]
         },
         "layout": {
          "annotationdefaults": {
           "arrowcolor": "#2a3f5f",
           "arrowhead": 0,
           "arrowwidth": 1
          },
          "autotypenumbers": "strict",
          "coloraxis": {
           "colorbar": {
            "outlinewidth": 0,
            "ticks": ""
           }
          },
          "colorscale": {
           "diverging": [
            [
             0,
             "#8e0152"
            ],
            [
             0.1,
             "#c51b7d"
            ],
            [
             0.2,
             "#de77ae"
            ],
            [
             0.3,
             "#f1b6da"
            ],
            [
             0.4,
             "#fde0ef"
            ],
            [
             0.5,
             "#f7f7f7"
            ],
            [
             0.6,
             "#e6f5d0"
            ],
            [
             0.7,
             "#b8e186"
            ],
            [
             0.8,
             "#7fbc41"
            ],
            [
             0.9,
             "#4d9221"
            ],
            [
             1,
             "#276419"
            ]
           ],
           "sequential": [
            [
             0,
             "#0d0887"
            ],
            [
             0.1111111111111111,
             "#46039f"
            ],
            [
             0.2222222222222222,
             "#7201a8"
            ],
            [
             0.3333333333333333,
             "#9c179e"
            ],
            [
             0.4444444444444444,
             "#bd3786"
            ],
            [
             0.5555555555555556,
             "#d8576b"
            ],
            [
             0.6666666666666666,
             "#ed7953"
            ],
            [
             0.7777777777777778,
             "#fb9f3a"
            ],
            [
             0.8888888888888888,
             "#fdca26"
            ],
            [
             1,
             "#f0f921"
            ]
           ],
           "sequentialminus": [
            [
             0,
             "#0d0887"
            ],
            [
             0.1111111111111111,
             "#46039f"
            ],
            [
             0.2222222222222222,
             "#7201a8"
            ],
            [
             0.3333333333333333,
             "#9c179e"
            ],
            [
             0.4444444444444444,
             "#bd3786"
            ],
            [
             0.5555555555555556,
             "#d8576b"
            ],
            [
             0.6666666666666666,
             "#ed7953"
            ],
            [
             0.7777777777777778,
             "#fb9f3a"
            ],
            [
             0.8888888888888888,
             "#fdca26"
            ],
            [
             1,
             "#f0f921"
            ]
           ]
          },
          "colorway": [
           "#636efa",
           "#EF553B",
           "#00cc96",
           "#ab63fa",
           "#FFA15A",
           "#19d3f3",
           "#FF6692",
           "#B6E880",
           "#FF97FF",
           "#FECB52"
          ],
          "font": {
           "color": "#2a3f5f"
          },
          "geo": {
           "bgcolor": "white",
           "lakecolor": "white",
           "landcolor": "#E5ECF6",
           "showlakes": true,
           "showland": true,
           "subunitcolor": "white"
          },
          "hoverlabel": {
           "align": "left"
          },
          "hovermode": "closest",
          "mapbox": {
           "style": "light"
          },
          "paper_bgcolor": "white",
          "plot_bgcolor": "#E5ECF6",
          "polar": {
           "angularaxis": {
            "gridcolor": "white",
            "linecolor": "white",
            "ticks": ""
           },
           "bgcolor": "#E5ECF6",
           "radialaxis": {
            "gridcolor": "white",
            "linecolor": "white",
            "ticks": ""
           }
          },
          "scene": {
           "xaxis": {
            "backgroundcolor": "#E5ECF6",
            "gridcolor": "white",
            "gridwidth": 2,
            "linecolor": "white",
            "showbackground": true,
            "ticks": "",
            "zerolinecolor": "white"
           },
           "yaxis": {
            "backgroundcolor": "#E5ECF6",
            "gridcolor": "white",
            "gridwidth": 2,
            "linecolor": "white",
            "showbackground": true,
            "ticks": "",
            "zerolinecolor": "white"
           },
           "zaxis": {
            "backgroundcolor": "#E5ECF6",
            "gridcolor": "white",
            "gridwidth": 2,
            "linecolor": "white",
            "showbackground": true,
            "ticks": "",
            "zerolinecolor": "white"
           }
          },
          "shapedefaults": {
           "line": {
            "color": "#2a3f5f"
           }
          },
          "ternary": {
           "aaxis": {
            "gridcolor": "white",
            "linecolor": "white",
            "ticks": ""
           },
           "baxis": {
            "gridcolor": "white",
            "linecolor": "white",
            "ticks": ""
           },
           "bgcolor": "#E5ECF6",
           "caxis": {
            "gridcolor": "white",
            "linecolor": "white",
            "ticks": ""
           }
          },
          "title": {
           "x": 0.05
          },
          "xaxis": {
           "automargin": true,
           "gridcolor": "white",
           "linecolor": "white",
           "ticks": "",
           "title": {
            "standoff": 15
           },
           "zerolinecolor": "white",
           "zerolinewidth": 2
          },
          "yaxis": {
           "automargin": true,
           "gridcolor": "white",
           "linecolor": "white",
           "ticks": "",
           "title": {
            "standoff": 15
           },
           "zerolinecolor": "white",
           "zerolinewidth": 2
          }
         }
        },
        "title": {
         "text": "Bats Day and Night Trend (1st order polynomial fit)"
        },
        "xaxis": {
         "title": {
          "text": "Time"
         }
        },
        "yaxis": {
         "title": {
          "text": "Biomass (mg/m3)"
         }
        }
       }
      }
     },
     "metadata": {},
     "output_type": "display_data"
    }
   ],
   "source": [
    "confidence_level = 0.95\n",
    "day_data = data[\"day\"].mean([\"latitude\", \"longitude\"]).dropna(\"time\", how=\"all\")\n",
    "night_data = data[\"night\"].mean([\"latitude\", \"longitude\"]).dropna(\"time\", how=\"all\")\n",
    "\n",
    "plot_trend(day_data, night_data, poly_order=1).update_layout(\n",
    "    title=f\"{station} Day and Night Trend (1st order polynomial fit)\",\n",
    "    xaxis_title=\"Time\",\n",
    "    yaxis_title=\"Biomass (mg/m3)\",\n",
    ").show()"
   ]
  },
  {
   "cell_type": "code",
   "execution_count": 9,
   "metadata": {},
   "outputs": [
    {
     "data": {
      "application/vnd.plotly.v1+json": {
       "config": {
        "plotlyServerURL": "https://plot.ly"
       },
       "data": [
        {
         "marker": {
          "color": "firebrick",
          "opacity": 0.5
         },
         "mode": "markers",
         "name": "Day Data",
         "type": "scatter",
         "x": [
          "1995-05-11T00:00:00",
          "1995-06-13T00:00:00",
          "1995-07-11T00:00:00",
          "1995-09-12T00:00:00",
          "1995-10-10T00:00:00",
          "1995-11-06T00:00:00",
          "1995-12-16T00:00:00",
          "1996-01-30T00:00:00",
          "1996-02-28T00:00:00",
          "1996-03-15T00:00:00",
          "1996-03-28T00:00:00",
          "1996-04-09T00:00:00",
          "1996-04-23T00:00:00",
          "1996-05-06T00:00:00",
          "1996-06-10T00:00:00",
          "1996-07-10T00:00:00",
          "1996-08-05T00:00:00",
          "1996-09-03T00:00:00",
          "1996-10-08T00:00:00",
          "1996-11-05T00:00:00",
          "1996-12-14T00:00:00",
          "1997-01-13T00:00:00",
          "1997-01-28T00:00:00",
          "1997-02-07T00:00:00",
          "1997-02-21T00:00:00",
          "1997-03-04T00:00:00",
          "1997-03-19T00:00:00",
          "1997-04-08T00:00:00",
          "1997-05-05T00:00:00",
          "1997-06-11T00:00:00",
          "1997-07-15T00:00:00",
          "1997-08-11T00:00:00",
          "1997-09-12T00:00:00",
          "1997-10-06T00:00:00",
          "1997-11-14T00:00:00",
          "1997-12-09T00:00:00",
          "1998-01-14T00:00:00",
          "1998-02-11T00:00:00",
          "1998-02-28T00:00:00",
          "1998-03-13T00:00:00",
          "1998-03-25T00:00:00",
          "1998-04-08T00:00:00",
          "1998-05-06T00:00:00",
          "1998-06-03T00:00:00",
          "1998-07-08T00:00:00",
          "1998-08-11T00:00:00",
          "1998-09-08T00:00:00",
          "1998-10-22T00:00:00",
          "1998-11-19T00:00:00",
          "1998-12-08T00:00:00",
          "1999-01-15T00:00:00",
          "1999-01-27T00:00:00",
          "1999-02-12T00:00:00",
          "1999-02-24T00:00:00",
          "1999-03-23T00:00:00",
          "1999-04-07T00:00:00",
          "1999-05-03T00:00:00",
          "1999-06-01T00:00:00",
          "1999-07-06T00:00:00",
          "1999-09-15T00:00:00",
          "1999-10-12T00:00:00",
          "1999-11-10T00:00:00",
          "1999-12-09T00:00:00",
          "2000-04-11T00:00:00",
          "2000-06-06T00:00:00",
          "2000-07-11T00:00:00",
          "2000-08-08T00:00:00",
          "2000-09-13T00:00:00",
          "2000-10-18T00:00:00",
          "2000-11-14T00:00:00",
          "2000-12-12T00:00:00",
          "2001-02-20T00:00:00",
          "2001-03-09T00:00:00",
          "2001-03-20T00:00:00",
          "2001-04-04T00:00:00",
          "2001-04-19T00:00:00",
          "2001-05-15T00:00:00",
          "2001-06-05T00:00:00",
          "2001-07-18T00:00:00",
          "2001-09-12T00:00:00",
          "2001-10-16T00:00:00",
          "2001-11-09T00:00:00",
          "2001-12-11T00:00:00",
          "2002-01-22T00:00:00",
          "2002-02-13T00:00:00",
          "2002-02-27T00:00:00",
          "2002-03-07T00:00:00",
          "2002-04-04T00:00:00",
          "2002-04-16T00:00:00",
          "2002-05-14T00:00:00",
          "2002-06-04T00:00:00",
          "2002-07-02T00:00:00",
          "2002-08-20T00:00:00",
          "2002-09-17T00:00:00",
          "2002-10-08T00:00:00",
          "2002-11-13T00:00:00",
          "2002-12-10T00:00:00",
          "2003-02-04T00:00:00",
          "2003-02-21T00:00:00",
          "2003-03-04T00:00:00",
          "2003-03-21T00:00:00",
          "2003-04-03T00:00:00",
          "2003-04-22T00:00:00",
          "2003-05-20T00:00:00",
          "2003-07-04T00:00:00",
          "2003-07-15T00:00:00",
          "2003-08-12T00:00:00",
          "2003-09-19T00:00:00",
          "2003-10-07T00:00:00",
          "2003-11-04T00:00:00",
          "2003-12-02T00:00:00",
          "2004-01-27T00:00:00",
          "2004-02-14T00:00:00",
          "2004-02-24T00:00:00",
          "2004-04-07T00:00:00",
          "2004-04-21T00:00:00",
          "2004-05-18T00:00:00",
          "2004-06-15T00:00:00",
          "2004-09-14T00:00:00",
          "2004-10-13T00:00:00",
          "2004-11-12T00:00:00",
          "2004-12-08T00:00:00",
          "2005-01-27T00:00:00",
          "2005-02-08T00:00:00",
          "2005-02-24T00:00:00",
          "2005-03-08T00:00:00",
          "2005-03-21T00:00:00",
          "2005-04-06T00:00:00",
          "2005-04-19T00:00:00",
          "2005-05-17T00:00:00",
          "2005-06-14T00:00:00",
          "2005-07-19T00:00:00",
          "2005-08-10T00:00:00",
          "2005-09-06T00:00:00",
          "2005-10-11T00:00:00",
          "2005-11-10T00:00:00",
          "2006-01-29T00:00:00",
          "2006-02-22T00:00:00",
          "2006-05-10T00:00:00",
          "2006-07-18T00:00:00",
          "2006-08-08T00:00:00",
          "2006-10-10T00:00:00",
          "2006-11-07T00:00:00",
          "2006-12-04T00:00:00",
          "2007-02-01T00:00:00",
          "2007-02-22T00:00:00",
          "2007-03-07T00:00:00",
          "2007-03-20T00:00:00",
          "2007-04-03T00:00:00",
          "2007-04-14T00:00:00",
          "2007-05-16T00:00:00",
          "2007-06-21T00:00:00",
          "2007-07-18T00:00:00",
          "2007-08-17T00:00:00",
          "2007-11-14T00:00:00",
          "2007-12-06T00:00:00",
          "2008-01-17T00:00:00",
          "2008-02-12T00:00:00",
          "2008-02-23T00:00:00",
          "2008-03-13T00:00:00",
          "2008-03-25T00:00:00",
          "2008-04-17T00:00:00",
          "2008-05-29T00:00:00",
          "2008-07-18T00:00:00",
          "2008-08-14T00:00:00",
          "2008-09-12T00:00:00",
          "2008-10-09T00:00:00",
          "2009-02-22T00:00:00",
          "2009-03-06T00:00:00",
          "2009-03-19T00:00:00",
          "2009-04-01T00:00:00",
          "2009-06-11T00:00:00",
          "2009-07-15T00:00:00",
          "2009-08-15T00:00:00",
          "2009-09-11T00:00:00",
          "2009-10-10T00:00:00",
          "2009-11-08T00:00:00",
          "2009-12-09T00:00:00",
          "2010-02-24T00:00:00",
          "2010-03-09T00:00:00",
          "2010-04-07T00:00:00",
          "2010-04-21T00:00:00",
          "2010-05-13T00:00:00",
          "2010-06-23T00:00:00",
          "2010-07-24T00:00:00",
          "2010-09-06T00:00:00",
          "2010-10-06T00:00:00",
          "2010-11-10T00:00:00",
          "2010-12-09T00:00:00",
          "2011-03-04T00:00:00",
          "2011-04-27T00:00:00",
          "2011-05-17T00:00:00",
          "2011-06-15T00:00:00",
          "2011-07-06T00:00:00",
          "2011-08-19T00:00:00",
          "2011-09-17T00:00:00",
          "2011-11-01T00:00:00",
          "2011-11-17T00:00:00",
          "2011-12-08T00:00:00",
          "2012-01-29T00:00:00",
          "2012-02-10T00:00:00",
          "2012-03-08T00:00:00",
          "2012-04-26T00:00:00",
          "2012-05-19T00:00:00",
          "2012-06-18T00:00:00",
          "2012-07-12T00:00:00",
          "2012-08-20T00:00:00",
          "2012-09-12T00:00:00",
          "2012-10-19T00:00:00",
          "2012-11-16T00:00:00",
          "2012-12-11T00:00:00",
          "2013-01-22T00:00:00",
          "2013-02-12T00:00:00",
          "2013-02-26T00:00:00",
          "2013-03-12T00:00:00",
          "2013-04-06T00:00:00",
          "2013-04-24T00:00:00",
          "2013-05-15T00:00:00",
          "2013-06-16T00:00:00",
          "2013-07-05T00:00:00",
          "2013-08-02T00:00:00",
          "2013-09-17T00:00:00",
          "2013-10-19T00:00:00",
          "2013-11-14T00:00:00",
          "2013-12-09T00:00:00",
          "2014-03-06T00:00:00",
          "2014-04-11T00:00:00",
          "2014-04-29T00:00:00",
          "2014-06-12T00:00:00",
          "2014-07-10T00:00:00",
          "2014-08-20T00:00:00",
          "2014-09-13T00:00:00",
          "2014-10-28T00:00:00",
          "2014-11-20T00:00:00",
          "2014-12-11T00:00:00",
          "2015-02-05T00:00:00",
          "2015-02-20T00:00:00",
          "2015-04-08T00:00:00",
          "2015-04-24T00:00:00",
          "2015-06-23T00:00:00",
          "2015-07-15T00:00:00",
          "2015-08-18T00:00:00",
          "2015-09-12T00:00:00",
          "2015-11-30T00:00:00",
          "2015-12-12T00:00:00",
          "2016-03-08T00:00:00",
          "2016-03-23T00:00:00",
          "2016-04-05T00:00:00",
          "2016-04-15T00:00:00",
          "2016-05-04T00:00:00",
          "2016-06-14T00:00:00",
          "2016-07-22T00:00:00",
          "2016-08-17T00:00:00",
          "2016-09-20T00:00:00",
          "2016-10-19T00:00:00",
          "2016-11-19T00:00:00",
          "2016-12-13T00:00:00",
          "2017-01-07T00:00:00",
          "2017-02-19T00:00:00",
          "2017-05-09T00:00:00",
          "2017-05-30T00:00:00",
          "2017-06-13T00:00:00",
          "2017-07-18T00:00:00",
          "2017-08-15T00:00:00",
          "2017-09-12T00:00:00",
          "2017-10-17T00:00:00",
          "2017-10-18T00:00:00",
          "2017-11-17T00:00:00",
          "2017-12-12T00:00:00",
          "2018-01-15T00:00:00",
          "2018-02-10T00:00:00",
          "2018-02-27T00:00:00",
          "2018-04-16T00:00:00",
          "2018-04-26T00:00:00",
          "2018-05-23T00:00:00",
          "2018-06-12T00:00:00",
          "2018-07-20T00:00:00",
          "2018-08-13T00:00:00",
          "2018-09-12T00:00:00",
          "2018-10-18T00:00:00",
          "2018-11-06T00:00:00",
          "2018-12-14T00:00:00",
          "2019-01-11T00:00:00",
          "2019-04-10T00:00:00",
          "2019-05-13T00:00:00",
          "2019-06-07T00:00:00",
          "2019-07-16T00:00:00",
          "2019-08-19T00:00:00",
          "2019-09-09T00:00:00",
          "2019-10-23T00:00:00",
          "2019-11-17T00:00:00",
          "2019-12-11T00:00:00",
          "2020-01-26T00:00:00",
          "2020-02-27T00:00:00",
          "2020-07-10T00:00:00",
          "2020-07-31T00:00:00",
          "2020-08-18T00:00:00",
          "2020-09-24T00:00:00",
          "2020-10-26T00:00:00",
          "2020-11-18T00:00:00",
          "2020-12-11T00:00:00",
          "2021-01-25T00:00:00",
          "2021-02-13T00:00:00",
          "2021-03-18T00:00:00",
          "2021-03-25T00:00:00",
          "2021-04-06T00:00:00",
          "2021-05-12T00:00:00",
          "2021-06-15T00:00:00",
          "2021-07-11T00:00:00",
          "2021-08-19T00:00:00",
          "2021-09-12T00:00:00",
          "2021-10-05T00:00:00",
          "2021-11-17T00:00:00",
          "2021-12-13T00:00:00",
          "2022-01-12T00:00:00",
          "2022-03-29T00:00:00",
          "2022-05-01T00:00:00",
          "2022-05-23T00:00:00",
          "2022-06-30T00:00:00",
          "2022-07-16T00:00:00",
          "2022-08-13T00:00:00",
          "2022-11-24T00:00:00",
          "2022-12-13T00:00:00"
         ],
         "y": [
          0.9640000000000001,
          0.712,
          1.042,
          0.484,
          0.37400000000000005,
          0.3440000000000001,
          0.384,
          0.504,
          0.496,
          0.5900000000000001,
          0.588,
          1.6980000000000002,
          1.8259999999999998,
          0.794,
          0.476,
          1.184,
          0.6320000000000001,
          0.48,
          0.8700000000000001,
          0.7360000000000001,
          1.272,
          0.388,
          0.472,
          0.654,
          0.5340000000000001,
          0.5599999999999999,
          0.5180000000000001,
          0.79,
          0.91,
          1.242,
          0.6460000000000001,
          0.676,
          0.6140000000000001,
          0.622,
          0.778,
          0.9760000000000002,
          0.6819999999999999,
          0.968,
          0.798,
          1.484,
          1.1640000000000001,
          0.884,
          0.47800000000000004,
          1.278,
          1.57,
          0.762,
          0.7220000000000001,
          0.35400000000000004,
          0.6960000000000001,
          0.496,
          0.196,
          0.25399999999999995,
          0.5,
          0.8700000000000001,
          1.3360000000000003,
          1.168,
          0.588,
          1.834,
          0.45599999999999996,
          0.56,
          0.5780000000000002,
          0.624,
          0.36800000000000005,
          0.926,
          0.524,
          0.564,
          0.696,
          0.764,
          0.36800000000000005,
          0.778,
          0.45999999999999996,
          0.9899999999999999,
          0.944,
          1.252,
          0.766,
          0.334,
          0.8960000000000001,
          0.594,
          0.9460000000000002,
          0.512,
          0.5980000000000001,
          0.472,
          0.6140000000000001,
          0.5240000000000001,
          0.486,
          1.09,
          0.952,
          1.6,
          0.446,
          0.588,
          0.528,
          0.8119999999999999,
          0.774,
          1.048,
          0.808,
          0.6320000000000001,
          0.638,
          0.6739999999999999,
          1.314,
          1.678,
          0.6960000000000001,
          1.3,
          0.7260000000000002,
          0.6480000000000001,
          0.8400000000000001,
          0.884,
          0.9819999999999999,
          1.3719999999999999,
          0.8800000000000001,
          0.508,
          0.374,
          0.664,
          1.336,
          1.692,
          1.1960000000000002,
          2.0220000000000002,
          0.87,
          0.7040000000000001,
          0.752,
          0.44000000000000006,
          0.5940000000000001,
          0.628,
          0.56,
          1.132,
          1.432,
          1.2940000000000003,
          1.8319999999999999,
          1.0479999999999998,
          1.6620000000000001,
          1.2180000000000002,
          0.8240000000000001,
          0.67,
          0.598,
          0.802,
          0.5040000000000001,
          0.5720000000000001,
          1.442,
          1.306,
          0.6859999999999999,
          0.606,
          0.868,
          0.8579999999999999,
          0.5180000000000001,
          0.42000000000000004,
          0.594,
          0.808,
          1.4900000000000002,
          1.4460000000000002,
          0.8660000000000002,
          0.536,
          0.7000000000000001,
          0.5880000000000001,
          0.9320000000000003,
          0.526,
          0.902,
          0.45599999999999996,
          1.176,
          0.47800000000000004,
          0.8660000000000002,
          0.58,
          1.192,
          0.08000000000000002,
          1.7460000000000002,
          0.568,
          0.5980000000000001,
          0.59,
          0.588,
          0.8480000000000001,
          0.756,
          1.37,
          0.4340000000000001,
          0.9273333333333333,
          1.068,
          1.1260000000000001,
          0.7240000000000001,
          0.66,
          0.7080000000000001,
          0.4960000000000001,
          0.47000000000000003,
          1.722,
          0.4720000000000001,
          0.246,
          1.942,
          1.0260000000000002,
          0.46799999999999997,
          1.1600000000000001,
          1.6280000000000001,
          0.7020000000000001,
          0.868,
          1.0399999999999998,
          1.6839999999999997,
          1.4640000000000004,
          1.1500000000000001,
          1.55,
          0.6400000000000001,
          1.04,
          0.48,
          1.294,
          0.69,
          1.186,
          1.2460000000000004,
          1.4460000000000002,
          1.1380000000000003,
          1.2720000000000002,
          0.9340000000000002,
          1.176,
          1.054,
          0.5540000000000002,
          0.9620000000000002,
          1.352,
          1.0040000000000002,
          1.366,
          1.69,
          1.7880000000000003,
          0.9500000000000001,
          1.3420000000000003,
          1.0760000000000003,
          0.7160000000000001,
          1.428,
          1.428,
          1.6830000000000003,
          0.782,
          0.7280000000000001,
          0.7740000000000001,
          0.788,
          1.8439999999999999,
          0.9580000000000001,
          0.9199999999999999,
          1.556,
          1.94,
          0.8580000000000001,
          0.6160000000000001,
          0.748,
          0.5300000000000001,
          0.3600000000000001,
          0.536,
          0.6980000000000001,
          1.1580000000000001,
          0.538,
          0.626,
          0.8580000000000002,
          1.3820000000000001,
          1.2560000000000002,
          0.5680000000000001,
          0.512,
          0.506,
          1.066,
          0.8240000000000001,
          0.568,
          1.62,
          0.46199999999999997,
          0.5060000000000001,
          0.426,
          0.24600000000000005,
          0.5000000000000001,
          0.36800000000000005,
          0.546,
          0.45999999999999996,
          0.502,
          0.548,
          1.0100000000000002,
          1.068,
          0.548,
          0.806,
          0.8860000000000001,
          0.42800000000000005,
          0.624,
          0.482,
          0.474,
          0.6140000000000001,
          0.868,
          0.378,
          1.314,
          0.6299999999999999,
          0.8879999999999999,
          0.6200000000000001,
          0.49,
          0.7040000000000002,
          0.41600000000000004,
          0.526,
          0.8640000000000001,
          0.794,
          0.774,
          1.052,
          2.0220000000000002,
          1.82,
          0.9820000000000001,
          1.69,
          1.118,
          0.8740000000000001,
          0.788,
          0.686,
          0.43,
          0.7080000000000001,
          0.28200000000000003,
          1.506,
          0.8739999999999999,
          0.902,
          0.7560000000000001,
          0.322,
          0.414,
          0.434,
          1.2960000000000003,
          0.6080000000000001,
          1.028,
          1.0680000000000003,
          1.356,
          0.5700000000000001,
          1.006,
          0.9060000000000001,
          0.8,
          0.7320000000000001,
          0.65,
          0.8660000000000001,
          0.35600000000000004,
          0.46199999999999997,
          0.584,
          0.488,
          0.734,
          0.666,
          0.658,
          0.36999999999999994,
          0.36200000000000004
         ]
        },
        {
         "marker": {
          "color": "royalblue",
          "opacity": 0.5
         },
         "mode": "markers",
         "name": "Day Data",
         "type": "scatter",
         "x": [
          "1995-05-10T00:00:00",
          "1995-06-13T00:00:00",
          "1995-06-14T00:00:00",
          "1995-07-11T00:00:00",
          "1995-08-18T00:00:00",
          "1995-09-12T00:00:00",
          "1995-10-10T00:00:00",
          "1995-12-15T00:00:00",
          "1996-01-30T00:00:00",
          "1996-02-14T00:00:00",
          "1996-02-27T00:00:00",
          "1996-03-15T00:00:00",
          "1996-03-16T00:00:00",
          "1996-03-27T00:00:00",
          "1996-04-12T00:00:00",
          "1996-04-22T00:00:00",
          "1996-05-07T00:00:00",
          "1996-06-10T00:00:00",
          "1996-07-08T00:00:00",
          "1996-08-05T00:00:00",
          "1996-09-02T00:00:00",
          "1996-10-08T00:00:00",
          "1996-10-09T00:00:00",
          "1996-11-05T00:00:00",
          "1996-12-11T00:00:00",
          "1997-01-13T00:00:00",
          "1997-01-27T00:00:00",
          "1997-02-06T00:00:00",
          "1997-02-20T00:00:00",
          "1997-03-04T00:00:00",
          "1997-03-18T00:00:00",
          "1997-04-08T00:00:00",
          "1997-05-05T00:00:00",
          "1997-06-11T00:00:00",
          "1997-07-15T00:00:00",
          "1997-08-11T00:00:00",
          "1997-09-11T00:00:00",
          "1997-10-06T00:00:00",
          "1997-11-11T00:00:00",
          "1997-12-09T00:00:00",
          "1998-01-12T00:00:00",
          "1998-01-13T00:00:00",
          "1998-02-11T00:00:00",
          "1998-02-28T00:00:00",
          "1998-03-09T00:00:00",
          "1998-04-07T00:00:00",
          "1998-05-04T00:00:00",
          "1998-05-05T00:00:00",
          "1998-06-02T00:00:00",
          "1998-07-08T00:00:00",
          "1998-08-10T00:00:00",
          "1998-09-10T00:00:00",
          "1998-10-22T00:00:00",
          "1998-11-18T00:00:00",
          "1998-12-07T00:00:00",
          "1999-01-14T00:00:00",
          "1999-01-27T00:00:00",
          "1999-01-28T00:00:00",
          "1999-02-12T00:00:00",
          "1999-02-23T00:00:00",
          "1999-03-23T00:00:00",
          "1999-03-24T00:00:00",
          "1999-04-08T00:00:00",
          "1999-05-03T00:00:00",
          "1999-06-01T00:00:00",
          "1999-06-03T00:00:00",
          "1999-07-05T00:00:00",
          "1999-08-03T00:00:00",
          "1999-09-14T00:00:00",
          "1999-10-11T00:00:00",
          "1999-11-10T00:00:00",
          "1999-12-08T00:00:00",
          "2000-02-16T00:00:00",
          "2000-04-10T00:00:00",
          "2000-04-11T00:00:00",
          "2000-06-06T00:00:00",
          "2000-07-10T00:00:00",
          "2000-07-11T00:00:00",
          "2000-08-07T00:00:00",
          "2000-08-08T00:00:00",
          "2000-09-12T00:00:00",
          "2000-10-18T00:00:00",
          "2000-11-14T00:00:00",
          "2000-12-12T00:00:00",
          "2001-02-21T00:00:00",
          "2001-03-09T00:00:00",
          "2001-03-21T00:00:00",
          "2001-04-04T00:00:00",
          "2001-04-18T00:00:00",
          "2001-05-15T00:00:00",
          "2001-06-05T00:00:00",
          "2001-07-18T00:00:00",
          "2001-09-13T00:00:00",
          "2001-10-16T00:00:00",
          "2001-11-09T00:00:00",
          "2001-12-10T00:00:00",
          "2001-12-11T00:00:00",
          "2002-01-22T00:00:00",
          "2002-02-12T00:00:00",
          "2002-02-28T00:00:00",
          "2002-03-07T00:00:00",
          "2002-03-19T00:00:00",
          "2002-04-03T00:00:00",
          "2002-04-15T00:00:00",
          "2002-04-16T00:00:00",
          "2002-05-14T00:00:00",
          "2002-06-04T00:00:00",
          "2002-07-01T00:00:00",
          "2002-08-20T00:00:00",
          "2002-09-17T00:00:00",
          "2002-10-08T00:00:00",
          "2002-11-13T00:00:00",
          "2002-12-09T00:00:00",
          "2003-01-27T00:00:00",
          "2003-02-21T00:00:00",
          "2003-03-04T00:00:00",
          "2003-03-22T00:00:00",
          "2003-04-03T00:00:00",
          "2003-04-22T00:00:00",
          "2003-07-05T00:00:00",
          "2003-07-15T00:00:00",
          "2003-08-13T00:00:00",
          "2003-09-20T00:00:00",
          "2003-10-06T00:00:00",
          "2003-11-03T00:00:00",
          "2003-12-02T00:00:00",
          "2004-02-14T00:00:00",
          "2004-02-23T00:00:00",
          "2004-03-09T00:00:00",
          "2004-03-23T00:00:00",
          "2004-04-20T00:00:00",
          "2004-05-17T00:00:00",
          "2004-06-15T00:00:00",
          "2004-09-14T00:00:00",
          "2004-10-13T00:00:00",
          "2004-11-12T00:00:00",
          "2004-12-08T00:00:00",
          "2005-01-26T00:00:00",
          "2005-02-08T00:00:00",
          "2005-02-23T00:00:00",
          "2005-02-24T00:00:00",
          "2005-03-07T00:00:00",
          "2005-03-20T00:00:00",
          "2005-04-05T00:00:00",
          "2005-05-16T00:00:00",
          "2005-06-15T00:00:00",
          "2005-07-19T00:00:00",
          "2005-08-09T00:00:00",
          "2005-10-11T00:00:00",
          "2005-12-08T00:00:00",
          "2006-01-29T00:00:00",
          "2006-01-30T00:00:00",
          "2006-02-08T00:00:00",
          "2006-02-20T00:00:00",
          "2006-02-21T00:00:00",
          "2006-04-04T00:00:00",
          "2006-06-26T00:00:00",
          "2006-07-16T00:00:00",
          "2006-08-07T00:00:00",
          "2006-08-08T00:00:00",
          "2006-10-10T00:00:00",
          "2006-11-07T00:00:00",
          "2006-12-03T00:00:00",
          "2007-01-30T00:00:00",
          "2007-02-20T00:00:00",
          "2007-03-06T00:00:00",
          "2007-03-07T00:00:00",
          "2007-03-19T00:00:00",
          "2007-03-20T00:00:00",
          "2007-04-02T00:00:00",
          "2007-04-14T00:00:00",
          "2007-05-15T00:00:00",
          "2007-06-21T00:00:00",
          "2007-07-19T00:00:00",
          "2007-08-15T00:00:00",
          "2007-09-08T00:00:00",
          "2007-11-14T00:00:00",
          "2007-12-06T00:00:00",
          "2008-01-15T00:00:00",
          "2008-02-12T00:00:00",
          "2008-02-22T00:00:00",
          "2008-03-13T00:00:00",
          "2008-04-14T00:00:00",
          "2008-05-29T00:00:00",
          "2008-06-22T00:00:00",
          "2008-07-16T00:00:00",
          "2008-08-14T00:00:00",
          "2008-09-10T00:00:00",
          "2008-10-09T00:00:00",
          "2009-03-19T00:00:00",
          "2009-06-11T00:00:00",
          "2009-06-12T00:00:00",
          "2009-07-15T00:00:00",
          "2009-07-16T00:00:00",
          "2009-08-15T00:00:00",
          "2009-09-10T00:00:00",
          "2009-10-10T00:00:00",
          "2009-11-08T00:00:00",
          "2009-12-09T00:00:00",
          "2010-03-10T00:00:00",
          "2010-04-22T00:00:00",
          "2010-04-23T00:00:00",
          "2010-05-14T00:00:00",
          "2010-06-23T00:00:00",
          "2010-06-24T00:00:00",
          "2010-07-24T00:00:00",
          "2010-09-06T00:00:00",
          "2010-10-05T00:00:00",
          "2010-11-09T00:00:00",
          "2010-12-09T00:00:00",
          "2011-03-05T00:00:00",
          "2011-03-26T00:00:00",
          "2011-04-28T00:00:00",
          "2011-06-15T00:00:00",
          "2011-07-05T00:00:00",
          "2011-08-20T00:00:00",
          "2011-09-17T00:00:00",
          "2011-11-17T00:00:00",
          "2011-12-07T00:00:00",
          "2012-01-28T00:00:00",
          "2012-01-29T00:00:00",
          "2012-02-09T00:00:00",
          "2012-03-07T00:00:00",
          "2012-04-12T00:00:00",
          "2012-04-26T00:00:00",
          "2012-05-18T00:00:00",
          "2012-06-18T00:00:00",
          "2012-07-12T00:00:00",
          "2012-08-21T00:00:00",
          "2012-09-11T00:00:00",
          "2012-10-18T00:00:00",
          "2012-11-13T00:00:00",
          "2012-12-10T00:00:00",
          "2013-01-21T00:00:00",
          "2013-01-22T00:00:00",
          "2013-02-11T00:00:00",
          "2013-02-25T00:00:00",
          "2013-03-11T00:00:00",
          "2013-03-12T00:00:00",
          "2013-03-27T00:00:00",
          "2013-04-24T00:00:00",
          "2013-05-16T00:00:00",
          "2013-06-14T00:00:00",
          "2013-07-08T00:00:00",
          "2013-08-02T00:00:00",
          "2013-09-16T00:00:00",
          "2013-10-18T00:00:00",
          "2013-11-13T00:00:00",
          "2013-12-08T00:00:00",
          "2014-03-05T00:00:00",
          "2014-04-11T00:00:00",
          "2014-04-28T00:00:00",
          "2014-08-19T00:00:00",
          "2014-09-13T00:00:00",
          "2014-10-28T00:00:00",
          "2014-11-19T00:00:00",
          "2014-12-11T00:00:00",
          "2015-02-03T00:00:00",
          "2015-02-20T00:00:00",
          "2015-03-12T00:00:00",
          "2015-04-07T00:00:00",
          "2015-04-23T00:00:00",
          "2015-05-12T00:00:00",
          "2015-05-27T00:00:00",
          "2015-06-23T00:00:00",
          "2015-07-14T00:00:00",
          "2015-08-18T00:00:00",
          "2015-09-12T00:00:00",
          "2015-11-29T00:00:00",
          "2015-12-11T00:00:00",
          "2016-03-08T00:00:00",
          "2016-03-23T00:00:00",
          "2016-04-05T00:00:00",
          "2016-04-14T00:00:00",
          "2016-05-04T00:00:00",
          "2016-06-16T00:00:00",
          "2016-07-22T00:00:00",
          "2016-08-17T00:00:00",
          "2016-09-21T00:00:00",
          "2016-10-19T00:00:00",
          "2016-11-19T00:00:00",
          "2016-12-13T00:00:00",
          "2017-01-06T00:00:00",
          "2017-02-19T00:00:00",
          "2017-02-20T00:00:00",
          "2017-05-30T00:00:00",
          "2017-05-31T00:00:00",
          "2017-06-13T00:00:00",
          "2017-07-18T00:00:00",
          "2017-08-15T00:00:00",
          "2017-09-12T00:00:00",
          "2017-10-16T00:00:00",
          "2017-11-17T00:00:00",
          "2017-12-12T00:00:00",
          "2018-01-15T00:00:00",
          "2018-02-09T00:00:00",
          "2018-02-10T00:00:00",
          "2018-02-26T00:00:00",
          "2018-03-14T00:00:00",
          "2018-03-15T00:00:00",
          "2018-03-23T00:00:00",
          "2018-04-15T00:00:00",
          "2018-04-25T00:00:00",
          "2018-05-23T00:00:00",
          "2018-06-12T00:00:00",
          "2018-07-20T00:00:00",
          "2018-08-13T00:00:00",
          "2018-09-11T00:00:00",
          "2018-10-18T00:00:00",
          "2018-10-19T00:00:00",
          "2018-11-06T00:00:00",
          "2018-11-07T00:00:00",
          "2018-12-14T00:00:00",
          "2019-01-11T00:00:00",
          "2019-03-12T00:00:00",
          "2019-03-15T00:00:00",
          "2019-05-13T00:00:00",
          "2019-06-06T00:00:00",
          "2019-07-16T00:00:00",
          "2019-08-18T00:00:00",
          "2019-09-09T00:00:00",
          "2019-09-10T00:00:00",
          "2019-10-22T00:00:00",
          "2019-11-17T00:00:00",
          "2019-12-11T00:00:00",
          "2020-01-25T00:00:00",
          "2020-02-28T00:00:00",
          "2020-07-10T00:00:00",
          "2020-07-30T00:00:00",
          "2020-07-31T00:00:00",
          "2020-08-17T00:00:00",
          "2020-08-18T00:00:00",
          "2020-09-23T00:00:00",
          "2020-10-26T00:00:00",
          "2020-11-17T00:00:00",
          "2020-12-10T00:00:00",
          "2021-02-12T00:00:00",
          "2021-03-18T00:00:00",
          "2021-03-24T00:00:00",
          "2021-04-05T00:00:00",
          "2021-04-29T00:00:00",
          "2021-06-14T00:00:00",
          "2021-07-10T00:00:00",
          "2021-08-19T00:00:00",
          "2021-10-04T00:00:00",
          "2021-11-16T00:00:00",
          "2021-12-13T00:00:00",
          "2022-01-12T00:00:00",
          "2022-03-29T00:00:00",
          "2022-05-01T00:00:00",
          "2022-05-23T00:00:00",
          "2022-07-15T00:00:00",
          "2022-08-13T00:00:00",
          "2022-09-17T00:00:00",
          "2022-09-18T00:00:00",
          "2022-11-23T00:00:00",
          "2022-12-13T00:00:00"
         ],
         "y": [
          1.108,
          0.884,
          1.3479999999999999,
          1.2580000000000002,
          0.774,
          0.512,
          0.794,
          0.892,
          0.5920000000000001,
          0.40599999999999997,
          1.152,
          0.8039999999999999,
          0.7120000000000001,
          0.9500000000000001,
          1.07,
          2.4760000000000004,
          0.9800000000000001,
          0.786,
          1.2040000000000002,
          1.0040000000000002,
          0.794,
          1.004,
          0.828,
          0.6920000000000001,
          1.7620000000000002,
          0.752,
          0.9420000000000002,
          0.886,
          1.0260000000000002,
          0.886,
          0.8879999999999999,
          1.242,
          1.662,
          1.94,
          1.292,
          1.2080000000000002,
          1.05,
          0.9120000000000001,
          0.7000000000000001,
          1.29,
          0.9280000000000002,
          0.8039999999999999,
          1.8820000000000001,
          2.108,
          1.852,
          1.8060000000000003,
          1.4760000000000002,
          0.8560000000000001,
          1.8240000000000003,
          2.174,
          0.676,
          0.626,
          0.738,
          1.02,
          0.8260000000000001,
          0.628,
          0.596,
          0.5119999999999999,
          0.794,
          1.738,
          2.436,
          2.4120000000000004,
          2.234,
          1.486,
          2.516,
          1.8740000000000003,
          0.768,
          0.916,
          1.262,
          0.892,
          0.714,
          1.062,
          0.916,
          1.4160000000000001,
          2.336,
          1.046,
          1.004,
          1.708,
          1.1280000000000001,
          0.8399999999999999,
          0.838,
          0.734,
          0.9240000000000003,
          1.2520000000000002,
          1.5579999999999998,
          1.2960000000000003,
          1.9660000000000002,
          1.324,
          2.208,
          1.554,
          0.754,
          2.132,
          1.334,
          0.992,
          0.7800000000000001,
          0.7120000000000001,
          0.8,
          1.318,
          1.572,
          1.288,
          0.98,
          2.0020000000000002,
          2.07,
          0.9040000000000001,
          0.8239999999999998,
          2.15,
          1.2220000000000002,
          1.2720000000000002,
          1.7320000000000002,
          1.566,
          1.176,
          1.04,
          1.6940000000000002,
          1.0399999999999998,
          1.834,
          2.2340000000000004,
          2.468,
          2.336,
          1.05,
          1.724,
          1.6600000000000001,
          1.508,
          1.768,
          1.3260000000000003,
          0.7580000000000001,
          0.802,
          2.06,
          2.7119999999999997,
          2.1840000000000006,
          2.8280000000000003,
          3.3160000000000007,
          1.3599999999999999,
          1.54,
          1.596,
          0.674,
          1.374,
          1.312,
          0.7000000000000001,
          2.044,
          2.1799999999999997,
          2.2640000000000002,
          2.78,
          2.5240000000000005,
          2.3720000000000003,
          2.3920000000000003,
          1.068,
          0.63,
          1.5180000000000002,
          0.7600000000000001,
          0.744,
          1.1720000000000002,
          0.7160000000000001,
          3.476,
          2.168,
          2.1479999999999997,
          2.948,
          0.7100000000000001,
          1.052,
          1.076,
          1.1680000000000001,
          1.1640000000000001,
          1.094,
          0.9,
          0.8800000000000001,
          1.7900000000000003,
          1.6440000000000001,
          1.9479999999999997,
          1.4000000000000001,
          1.9040000000000004,
          1.8,
          1.506,
          1.084,
          1.0200000000000002,
          1.568,
          1.154,
          1.7600000000000002,
          0.666,
          0.8560000000000001,
          1.2780000000000002,
          1.18,
          1.3040000000000003,
          1.348,
          0.944,
          3.04,
          0.9319999999999999,
          2.406,
          1.1740000000000002,
          1.3020000000000003,
          1.03,
          1.602,
          1.3195555555555556,
          1.02,
          0.968,
          1.516,
          1.736,
          1.102,
          1.7939999999999998,
          1.0360000000000003,
          1.578,
          1.9960000000000002,
          1.096,
          1.4200000000000004,
          3.3440000000000007,
          0.38,
          0.372,
          0.8300000000000001,
          1.368,
          2.2,
          0.994,
          1.4240000000000002,
          2.602,
          2.0940000000000003,
          2.988,
          2.2659999999999996,
          2.046,
          1.0239999999999998,
          1.784,
          1.4340000000000002,
          0.9300000000000002,
          1.904,
          1.2880000000000003,
          1.658,
          1.56,
          2.5460000000000003,
          2.9480000000000004,
          2.4080000000000004,
          1.56,
          3.0540000000000003,
          1.9080000000000004,
          1.05,
          1.038,
          1.3399999999999999,
          1.7919999999999998,
          2.096,
          1.688,
          2.3640000000000003,
          2.424,
          1.536,
          1.588,
          3.2520000000000007,
          1.74,
          1.33,
          1.5180000000000002,
          2.076,
          2.152,
          1.508,
          1.3600000000000003,
          1.4120000000000001,
          0.9460000000000002,
          2.5820000000000003,
          2.07,
          1.6,
          1.6880000000000004,
          1.11,
          1.198,
          0.8,
          1.1340000000000001,
          0.6120000000000001,
          1.306,
          2.8880000000000003,
          1.57,
          1.008,
          3.254,
          2.33,
          0.792,
          1.172,
          2.0340000000000003,
          1.1039999999999999,
          0.9880000000000001,
          0.758,
          0.886,
          1.4400000000000002,
          1.2140000000000002,
          0.952,
          2.2380000000000004,
          0.4020000000000001,
          0.8900000000000001,
          0.7340000000000001,
          0.37400000000000005,
          0.334,
          0.654,
          0.6180000000000002,
          0.8039999999999999,
          0.96,
          1.18,
          1.704,
          1.3760000000000001,
          2.2079999999999997,
          1.5980000000000003,
          1.6340000000000001,
          1.1320000000000001,
          1.098,
          0.684,
          0.768,
          0.5900000000000001,
          1.1,
          1.4280000000000002,
          0.68,
          1.144,
          1.364,
          2.054,
          2.06,
          1.4820000000000002,
          2.364,
          1.616,
          1.2300000000000002,
          0.9899999999999999,
          0.7100000000000001,
          0.808,
          0.6640000000000001,
          1.404,
          1.008,
          1.2280000000000002,
          1.7280000000000002,
          2.776,
          2.816,
          2.7419999999999995,
          2.068,
          3.06,
          1.03,
          2.64,
          2.8280000000000003,
          1.068,
          2.1159999999999997,
          1.24,
          0.7360000000000002,
          1.3319999999999999,
          0.746,
          1.752,
          2.064,
          1.82,
          2.028,
          0.6720000000000002,
          1.096,
          0.5860000000000001,
          0.876,
          2.1460000000000004,
          1.346,
          2.1460000000000004,
          1.534,
          2.99,
          1.056,
          1.9580000000000002,
          1.9000000000000001,
          1.4600000000000004,
          0.968,
          2.204,
          0.5480000000000002,
          1.008,
          1.2640000000000002,
          0.704,
          1.518,
          1.46,
          0.712,
          0.75,
          0.5860000000000001,
          1.11
         ]
        },
        {
         "fill": "toself",
         "fillcolor": "rgba(255, 0, 0, 0.2)",
         "line": {
          "color": "rgba(0, 0, 0, 0)"
         },
         "name": "Day Confidence Interval",
         "type": "scatter",
         "x": [
          "1995-05-11T00:00:00",
          "1995-06-13T00:00:00",
          "1995-07-11T00:00:00",
          "1995-09-12T00:00:00",
          "1995-10-10T00:00:00",
          "1995-11-06T00:00:00",
          "1995-12-16T00:00:00",
          "1996-01-30T00:00:00",
          "1996-02-28T00:00:00",
          "1996-03-15T00:00:00",
          "1996-03-28T00:00:00",
          "1996-04-09T00:00:00",
          "1996-04-23T00:00:00",
          "1996-05-06T00:00:00",
          "1996-06-10T00:00:00",
          "1996-07-10T00:00:00",
          "1996-08-05T00:00:00",
          "1996-09-03T00:00:00",
          "1996-10-08T00:00:00",
          "1996-11-05T00:00:00",
          "1996-12-14T00:00:00",
          "1997-01-13T00:00:00",
          "1997-01-28T00:00:00",
          "1997-02-07T00:00:00",
          "1997-02-21T00:00:00",
          "1997-03-04T00:00:00",
          "1997-03-19T00:00:00",
          "1997-04-08T00:00:00",
          "1997-05-05T00:00:00",
          "1997-06-11T00:00:00",
          "1997-07-15T00:00:00",
          "1997-08-11T00:00:00",
          "1997-09-12T00:00:00",
          "1997-10-06T00:00:00",
          "1997-11-14T00:00:00",
          "1997-12-09T00:00:00",
          "1998-01-14T00:00:00",
          "1998-02-11T00:00:00",
          "1998-02-28T00:00:00",
          "1998-03-13T00:00:00",
          "1998-03-25T00:00:00",
          "1998-04-08T00:00:00",
          "1998-05-06T00:00:00",
          "1998-06-03T00:00:00",
          "1998-07-08T00:00:00",
          "1998-08-11T00:00:00",
          "1998-09-08T00:00:00",
          "1998-10-22T00:00:00",
          "1998-11-19T00:00:00",
          "1998-12-08T00:00:00",
          "1999-01-15T00:00:00",
          "1999-01-27T00:00:00",
          "1999-02-12T00:00:00",
          "1999-02-24T00:00:00",
          "1999-03-23T00:00:00",
          "1999-04-07T00:00:00",
          "1999-05-03T00:00:00",
          "1999-06-01T00:00:00",
          "1999-07-06T00:00:00",
          "1999-09-15T00:00:00",
          "1999-10-12T00:00:00",
          "1999-11-10T00:00:00",
          "1999-12-09T00:00:00",
          "2000-04-11T00:00:00",
          "2000-06-06T00:00:00",
          "2000-07-11T00:00:00",
          "2000-08-08T00:00:00",
          "2000-09-13T00:00:00",
          "2000-10-18T00:00:00",
          "2000-11-14T00:00:00",
          "2000-12-12T00:00:00",
          "2001-02-20T00:00:00",
          "2001-03-09T00:00:00",
          "2001-03-20T00:00:00",
          "2001-04-04T00:00:00",
          "2001-04-19T00:00:00",
          "2001-05-15T00:00:00",
          "2001-06-05T00:00:00",
          "2001-07-18T00:00:00",
          "2001-09-12T00:00:00",
          "2001-10-16T00:00:00",
          "2001-11-09T00:00:00",
          "2001-12-11T00:00:00",
          "2002-01-22T00:00:00",
          "2002-02-13T00:00:00",
          "2002-02-27T00:00:00",
          "2002-03-07T00:00:00",
          "2002-04-04T00:00:00",
          "2002-04-16T00:00:00",
          "2002-05-14T00:00:00",
          "2002-06-04T00:00:00",
          "2002-07-02T00:00:00",
          "2002-08-20T00:00:00",
          "2002-09-17T00:00:00",
          "2002-10-08T00:00:00",
          "2002-11-13T00:00:00",
          "2002-12-10T00:00:00",
          "2003-02-04T00:00:00",
          "2003-02-21T00:00:00",
          "2003-03-04T00:00:00",
          "2003-03-21T00:00:00",
          "2003-04-03T00:00:00",
          "2003-04-22T00:00:00",
          "2003-05-20T00:00:00",
          "2003-07-04T00:00:00",
          "2003-07-15T00:00:00",
          "2003-08-12T00:00:00",
          "2003-09-19T00:00:00",
          "2003-10-07T00:00:00",
          "2003-11-04T00:00:00",
          "2003-12-02T00:00:00",
          "2004-01-27T00:00:00",
          "2004-02-14T00:00:00",
          "2004-02-24T00:00:00",
          "2004-04-07T00:00:00",
          "2004-04-21T00:00:00",
          "2004-05-18T00:00:00",
          "2004-06-15T00:00:00",
          "2004-09-14T00:00:00",
          "2004-10-13T00:00:00",
          "2004-11-12T00:00:00",
          "2004-12-08T00:00:00",
          "2005-01-27T00:00:00",
          "2005-02-08T00:00:00",
          "2005-02-24T00:00:00",
          "2005-03-08T00:00:00",
          "2005-03-21T00:00:00",
          "2005-04-06T00:00:00",
          "2005-04-19T00:00:00",
          "2005-05-17T00:00:00",
          "2005-06-14T00:00:00",
          "2005-07-19T00:00:00",
          "2005-08-10T00:00:00",
          "2005-09-06T00:00:00",
          "2005-10-11T00:00:00",
          "2005-11-10T00:00:00",
          "2006-01-29T00:00:00",
          "2006-02-22T00:00:00",
          "2006-05-10T00:00:00",
          "2006-07-18T00:00:00",
          "2006-08-08T00:00:00",
          "2006-10-10T00:00:00",
          "2006-11-07T00:00:00",
          "2006-12-04T00:00:00",
          "2007-02-01T00:00:00",
          "2007-02-22T00:00:00",
          "2007-03-07T00:00:00",
          "2007-03-20T00:00:00",
          "2007-04-03T00:00:00",
          "2007-04-14T00:00:00",
          "2007-05-16T00:00:00",
          "2007-06-21T00:00:00",
          "2007-07-18T00:00:00",
          "2007-08-17T00:00:00",
          "2007-11-14T00:00:00",
          "2007-12-06T00:00:00",
          "2008-01-17T00:00:00",
          "2008-02-12T00:00:00",
          "2008-02-23T00:00:00",
          "2008-03-13T00:00:00",
          "2008-03-25T00:00:00",
          "2008-04-17T00:00:00",
          "2008-05-29T00:00:00",
          "2008-07-18T00:00:00",
          "2008-08-14T00:00:00",
          "2008-09-12T00:00:00",
          "2008-10-09T00:00:00",
          "2009-02-22T00:00:00",
          "2009-03-06T00:00:00",
          "2009-03-19T00:00:00",
          "2009-04-01T00:00:00",
          "2009-06-11T00:00:00",
          "2009-07-15T00:00:00",
          "2009-08-15T00:00:00",
          "2009-09-11T00:00:00",
          "2009-10-10T00:00:00",
          "2009-11-08T00:00:00",
          "2009-12-09T00:00:00",
          "2010-02-24T00:00:00",
          "2010-03-09T00:00:00",
          "2010-04-07T00:00:00",
          "2010-04-21T00:00:00",
          "2010-05-13T00:00:00",
          "2010-06-23T00:00:00",
          "2010-07-24T00:00:00",
          "2010-09-06T00:00:00",
          "2010-10-06T00:00:00",
          "2010-11-10T00:00:00",
          "2010-12-09T00:00:00",
          "2011-03-04T00:00:00",
          "2011-04-27T00:00:00",
          "2011-05-17T00:00:00",
          "2011-06-15T00:00:00",
          "2011-07-06T00:00:00",
          "2011-08-19T00:00:00",
          "2011-09-17T00:00:00",
          "2011-11-01T00:00:00",
          "2011-11-17T00:00:00",
          "2011-12-08T00:00:00",
          "2012-01-29T00:00:00",
          "2012-02-10T00:00:00",
          "2012-03-08T00:00:00",
          "2012-04-26T00:00:00",
          "2012-05-19T00:00:00",
          "2012-06-18T00:00:00",
          "2012-07-12T00:00:00",
          "2012-08-20T00:00:00",
          "2012-09-12T00:00:00",
          "2012-10-19T00:00:00",
          "2012-11-16T00:00:00",
          "2012-12-11T00:00:00",
          "2013-01-22T00:00:00",
          "2013-02-12T00:00:00",
          "2013-02-26T00:00:00",
          "2013-03-12T00:00:00",
          "2013-04-06T00:00:00",
          "2013-04-24T00:00:00",
          "2013-05-15T00:00:00",
          "2013-06-16T00:00:00",
          "2013-07-05T00:00:00",
          "2013-08-02T00:00:00",
          "2013-09-17T00:00:00",
          "2013-10-19T00:00:00",
          "2013-11-14T00:00:00",
          "2013-12-09T00:00:00",
          "2014-03-06T00:00:00",
          "2014-04-11T00:00:00",
          "2014-04-29T00:00:00",
          "2014-06-12T00:00:00",
          "2014-07-10T00:00:00",
          "2014-08-20T00:00:00",
          "2014-09-13T00:00:00",
          "2014-10-28T00:00:00",
          "2014-11-20T00:00:00",
          "2014-12-11T00:00:00",
          "2015-02-05T00:00:00",
          "2015-02-20T00:00:00",
          "2015-04-08T00:00:00",
          "2015-04-24T00:00:00",
          "2015-06-23T00:00:00",
          "2015-07-15T00:00:00",
          "2015-08-18T00:00:00",
          "2015-09-12T00:00:00",
          "2015-11-30T00:00:00",
          "2015-12-12T00:00:00",
          "2016-03-08T00:00:00",
          "2016-03-23T00:00:00",
          "2016-04-05T00:00:00",
          "2016-04-15T00:00:00",
          "2016-05-04T00:00:00",
          "2016-06-14T00:00:00",
          "2016-07-22T00:00:00",
          "2016-08-17T00:00:00",
          "2016-09-20T00:00:00",
          "2016-10-19T00:00:00",
          "2016-11-19T00:00:00",
          "2016-12-13T00:00:00",
          "2017-01-07T00:00:00",
          "2017-02-19T00:00:00",
          "2017-05-09T00:00:00",
          "2017-05-30T00:00:00",
          "2017-06-13T00:00:00",
          "2017-07-18T00:00:00",
          "2017-08-15T00:00:00",
          "2017-09-12T00:00:00",
          "2017-10-17T00:00:00",
          "2017-10-18T00:00:00",
          "2017-11-17T00:00:00",
          "2017-12-12T00:00:00",
          "2018-01-15T00:00:00",
          "2018-02-10T00:00:00",
          "2018-02-27T00:00:00",
          "2018-04-16T00:00:00",
          "2018-04-26T00:00:00",
          "2018-05-23T00:00:00",
          "2018-06-12T00:00:00",
          "2018-07-20T00:00:00",
          "2018-08-13T00:00:00",
          "2018-09-12T00:00:00",
          "2018-10-18T00:00:00",
          "2018-11-06T00:00:00",
          "2018-12-14T00:00:00",
          "2019-01-11T00:00:00",
          "2019-04-10T00:00:00",
          "2019-05-13T00:00:00",
          "2019-06-07T00:00:00",
          "2019-07-16T00:00:00",
          "2019-08-19T00:00:00",
          "2019-09-09T00:00:00",
          "2019-10-23T00:00:00",
          "2019-11-17T00:00:00",
          "2019-12-11T00:00:00",
          "2020-01-26T00:00:00",
          "2020-02-27T00:00:00",
          "2020-07-10T00:00:00",
          "2020-07-31T00:00:00",
          "2020-08-18T00:00:00",
          "2020-09-24T00:00:00",
          "2020-10-26T00:00:00",
          "2020-11-18T00:00:00",
          "2020-12-11T00:00:00",
          "2021-01-25T00:00:00",
          "2021-02-13T00:00:00",
          "2021-03-18T00:00:00",
          "2021-03-25T00:00:00",
          "2021-04-06T00:00:00",
          "2021-05-12T00:00:00",
          "2021-06-15T00:00:00",
          "2021-07-11T00:00:00",
          "2021-08-19T00:00:00",
          "2021-09-12T00:00:00",
          "2021-10-05T00:00:00",
          "2021-11-17T00:00:00",
          "2021-12-13T00:00:00",
          "2022-01-12T00:00:00",
          "2022-03-29T00:00:00",
          "2022-05-01T00:00:00",
          "2022-05-23T00:00:00",
          "2022-06-30T00:00:00",
          "2022-07-16T00:00:00",
          "2022-08-13T00:00:00",
          "2022-11-24T00:00:00",
          "2022-12-13T00:00:00",
          "2022-12-13T00:00:00",
          "2022-11-24T00:00:00",
          "2022-08-13T00:00:00",
          "2022-07-16T00:00:00",
          "2022-06-30T00:00:00",
          "2022-05-23T00:00:00",
          "2022-05-01T00:00:00",
          "2022-03-29T00:00:00",
          "2022-01-12T00:00:00",
          "2021-12-13T00:00:00",
          "2021-11-17T00:00:00",
          "2021-10-05T00:00:00",
          "2021-09-12T00:00:00",
          "2021-08-19T00:00:00",
          "2021-07-11T00:00:00",
          "2021-06-15T00:00:00",
          "2021-05-12T00:00:00",
          "2021-04-06T00:00:00",
          "2021-03-25T00:00:00",
          "2021-03-18T00:00:00",
          "2021-02-13T00:00:00",
          "2021-01-25T00:00:00",
          "2020-12-11T00:00:00",
          "2020-11-18T00:00:00",
          "2020-10-26T00:00:00",
          "2020-09-24T00:00:00",
          "2020-08-18T00:00:00",
          "2020-07-31T00:00:00",
          "2020-07-10T00:00:00",
          "2020-02-27T00:00:00",
          "2020-01-26T00:00:00",
          "2019-12-11T00:00:00",
          "2019-11-17T00:00:00",
          "2019-10-23T00:00:00",
          "2019-09-09T00:00:00",
          "2019-08-19T00:00:00",
          "2019-07-16T00:00:00",
          "2019-06-07T00:00:00",
          "2019-05-13T00:00:00",
          "2019-04-10T00:00:00",
          "2019-01-11T00:00:00",
          "2018-12-14T00:00:00",
          "2018-11-06T00:00:00",
          "2018-10-18T00:00:00",
          "2018-09-12T00:00:00",
          "2018-08-13T00:00:00",
          "2018-07-20T00:00:00",
          "2018-06-12T00:00:00",
          "2018-05-23T00:00:00",
          "2018-04-26T00:00:00",
          "2018-04-16T00:00:00",
          "2018-02-27T00:00:00",
          "2018-02-10T00:00:00",
          "2018-01-15T00:00:00",
          "2017-12-12T00:00:00",
          "2017-11-17T00:00:00",
          "2017-10-18T00:00:00",
          "2017-10-17T00:00:00",
          "2017-09-12T00:00:00",
          "2017-08-15T00:00:00",
          "2017-07-18T00:00:00",
          "2017-06-13T00:00:00",
          "2017-05-30T00:00:00",
          "2017-05-09T00:00:00",
          "2017-02-19T00:00:00",
          "2017-01-07T00:00:00",
          "2016-12-13T00:00:00",
          "2016-11-19T00:00:00",
          "2016-10-19T00:00:00",
          "2016-09-20T00:00:00",
          "2016-08-17T00:00:00",
          "2016-07-22T00:00:00",
          "2016-06-14T00:00:00",
          "2016-05-04T00:00:00",
          "2016-04-15T00:00:00",
          "2016-04-05T00:00:00",
          "2016-03-23T00:00:00",
          "2016-03-08T00:00:00",
          "2015-12-12T00:00:00",
          "2015-11-30T00:00:00",
          "2015-09-12T00:00:00",
          "2015-08-18T00:00:00",
          "2015-07-15T00:00:00",
          "2015-06-23T00:00:00",
          "2015-04-24T00:00:00",
          "2015-04-08T00:00:00",
          "2015-02-20T00:00:00",
          "2015-02-05T00:00:00",
          "2014-12-11T00:00:00",
          "2014-11-20T00:00:00",
          "2014-10-28T00:00:00",
          "2014-09-13T00:00:00",
          "2014-08-20T00:00:00",
          "2014-07-10T00:00:00",
          "2014-06-12T00:00:00",
          "2014-04-29T00:00:00",
          "2014-04-11T00:00:00",
          "2014-03-06T00:00:00",
          "2013-12-09T00:00:00",
          "2013-11-14T00:00:00",
          "2013-10-19T00:00:00",
          "2013-09-17T00:00:00",
          "2013-08-02T00:00:00",
          "2013-07-05T00:00:00",
          "2013-06-16T00:00:00",
          "2013-05-15T00:00:00",
          "2013-04-24T00:00:00",
          "2013-04-06T00:00:00",
          "2013-03-12T00:00:00",
          "2013-02-26T00:00:00",
          "2013-02-12T00:00:00",
          "2013-01-22T00:00:00",
          "2012-12-11T00:00:00",
          "2012-11-16T00:00:00",
          "2012-10-19T00:00:00",
          "2012-09-12T00:00:00",
          "2012-08-20T00:00:00",
          "2012-07-12T00:00:00",
          "2012-06-18T00:00:00",
          "2012-05-19T00:00:00",
          "2012-04-26T00:00:00",
          "2012-03-08T00:00:00",
          "2012-02-10T00:00:00",
          "2012-01-29T00:00:00",
          "2011-12-08T00:00:00",
          "2011-11-17T00:00:00",
          "2011-11-01T00:00:00",
          "2011-09-17T00:00:00",
          "2011-08-19T00:00:00",
          "2011-07-06T00:00:00",
          "2011-06-15T00:00:00",
          "2011-05-17T00:00:00",
          "2011-04-27T00:00:00",
          "2011-03-04T00:00:00",
          "2010-12-09T00:00:00",
          "2010-11-10T00:00:00",
          "2010-10-06T00:00:00",
          "2010-09-06T00:00:00",
          "2010-07-24T00:00:00",
          "2010-06-23T00:00:00",
          "2010-05-13T00:00:00",
          "2010-04-21T00:00:00",
          "2010-04-07T00:00:00",
          "2010-03-09T00:00:00",
          "2010-02-24T00:00:00",
          "2009-12-09T00:00:00",
          "2009-11-08T00:00:00",
          "2009-10-10T00:00:00",
          "2009-09-11T00:00:00",
          "2009-08-15T00:00:00",
          "2009-07-15T00:00:00",
          "2009-06-11T00:00:00",
          "2009-04-01T00:00:00",
          "2009-03-19T00:00:00",
          "2009-03-06T00:00:00",
          "2009-02-22T00:00:00",
          "2008-10-09T00:00:00",
          "2008-09-12T00:00:00",
          "2008-08-14T00:00:00",
          "2008-07-18T00:00:00",
          "2008-05-29T00:00:00",
          "2008-04-17T00:00:00",
          "2008-03-25T00:00:00",
          "2008-03-13T00:00:00",
          "2008-02-23T00:00:00",
          "2008-02-12T00:00:00",
          "2008-01-17T00:00:00",
          "2007-12-06T00:00:00",
          "2007-11-14T00:00:00",
          "2007-08-17T00:00:00",
          "2007-07-18T00:00:00",
          "2007-06-21T00:00:00",
          "2007-05-16T00:00:00",
          "2007-04-14T00:00:00",
          "2007-04-03T00:00:00",
          "2007-03-20T00:00:00",
          "2007-03-07T00:00:00",
          "2007-02-22T00:00:00",
          "2007-02-01T00:00:00",
          "2006-12-04T00:00:00",
          "2006-11-07T00:00:00",
          "2006-10-10T00:00:00",
          "2006-08-08T00:00:00",
          "2006-07-18T00:00:00",
          "2006-05-10T00:00:00",
          "2006-02-22T00:00:00",
          "2006-01-29T00:00:00",
          "2005-11-10T00:00:00",
          "2005-10-11T00:00:00",
          "2005-09-06T00:00:00",
          "2005-08-10T00:00:00",
          "2005-07-19T00:00:00",
          "2005-06-14T00:00:00",
          "2005-05-17T00:00:00",
          "2005-04-19T00:00:00",
          "2005-04-06T00:00:00",
          "2005-03-21T00:00:00",
          "2005-03-08T00:00:00",
          "2005-02-24T00:00:00",
          "2005-02-08T00:00:00",
          "2005-01-27T00:00:00",
          "2004-12-08T00:00:00",
          "2004-11-12T00:00:00",
          "2004-10-13T00:00:00",
          "2004-09-14T00:00:00",
          "2004-06-15T00:00:00",
          "2004-05-18T00:00:00",
          "2004-04-21T00:00:00",
          "2004-04-07T00:00:00",
          "2004-02-24T00:00:00",
          "2004-02-14T00:00:00",
          "2004-01-27T00:00:00",
          "2003-12-02T00:00:00",
          "2003-11-04T00:00:00",
          "2003-10-07T00:00:00",
          "2003-09-19T00:00:00",
          "2003-08-12T00:00:00",
          "2003-07-15T00:00:00",
          "2003-07-04T00:00:00",
          "2003-05-20T00:00:00",
          "2003-04-22T00:00:00",
          "2003-04-03T00:00:00",
          "2003-03-21T00:00:00",
          "2003-03-04T00:00:00",
          "2003-02-21T00:00:00",
          "2003-02-04T00:00:00",
          "2002-12-10T00:00:00",
          "2002-11-13T00:00:00",
          "2002-10-08T00:00:00",
          "2002-09-17T00:00:00",
          "2002-08-20T00:00:00",
          "2002-07-02T00:00:00",
          "2002-06-04T00:00:00",
          "2002-05-14T00:00:00",
          "2002-04-16T00:00:00",
          "2002-04-04T00:00:00",
          "2002-03-07T00:00:00",
          "2002-02-27T00:00:00",
          "2002-02-13T00:00:00",
          "2002-01-22T00:00:00",
          "2001-12-11T00:00:00",
          "2001-11-09T00:00:00",
          "2001-10-16T00:00:00",
          "2001-09-12T00:00:00",
          "2001-07-18T00:00:00",
          "2001-06-05T00:00:00",
          "2001-05-15T00:00:00",
          "2001-04-19T00:00:00",
          "2001-04-04T00:00:00",
          "2001-03-20T00:00:00",
          "2001-03-09T00:00:00",
          "2001-02-20T00:00:00",
          "2000-12-12T00:00:00",
          "2000-11-14T00:00:00",
          "2000-10-18T00:00:00",
          "2000-09-13T00:00:00",
          "2000-08-08T00:00:00",
          "2000-07-11T00:00:00",
          "2000-06-06T00:00:00",
          "2000-04-11T00:00:00",
          "1999-12-09T00:00:00",
          "1999-11-10T00:00:00",
          "1999-10-12T00:00:00",
          "1999-09-15T00:00:00",
          "1999-07-06T00:00:00",
          "1999-06-01T00:00:00",
          "1999-05-03T00:00:00",
          "1999-04-07T00:00:00",
          "1999-03-23T00:00:00",
          "1999-02-24T00:00:00",
          "1999-02-12T00:00:00",
          "1999-01-27T00:00:00",
          "1999-01-15T00:00:00",
          "1998-12-08T00:00:00",
          "1998-11-19T00:00:00",
          "1998-10-22T00:00:00",
          "1998-09-08T00:00:00",
          "1998-08-11T00:00:00",
          "1998-07-08T00:00:00",
          "1998-06-03T00:00:00",
          "1998-05-06T00:00:00",
          "1998-04-08T00:00:00",
          "1998-03-25T00:00:00",
          "1998-03-13T00:00:00",
          "1998-02-28T00:00:00",
          "1998-02-11T00:00:00",
          "1998-01-14T00:00:00",
          "1997-12-09T00:00:00",
          "1997-11-14T00:00:00",
          "1997-10-06T00:00:00",
          "1997-09-12T00:00:00",
          "1997-08-11T00:00:00",
          "1997-07-15T00:00:00",
          "1997-06-11T00:00:00",
          "1997-05-05T00:00:00",
          "1997-04-08T00:00:00",
          "1997-03-19T00:00:00",
          "1997-03-04T00:00:00",
          "1997-02-21T00:00:00",
          "1997-02-07T00:00:00",
          "1997-01-28T00:00:00",
          "1997-01-13T00:00:00",
          "1996-12-14T00:00:00",
          "1996-11-05T00:00:00",
          "1996-10-08T00:00:00",
          "1996-09-03T00:00:00",
          "1996-08-05T00:00:00",
          "1996-07-10T00:00:00",
          "1996-06-10T00:00:00",
          "1996-05-06T00:00:00",
          "1996-04-23T00:00:00",
          "1996-04-09T00:00:00",
          "1996-03-28T00:00:00",
          "1996-03-15T00:00:00",
          "1996-02-28T00:00:00",
          "1996-01-30T00:00:00",
          "1995-12-16T00:00:00",
          "1995-11-06T00:00:00",
          "1995-10-10T00:00:00",
          "1995-09-12T00:00:00",
          "1995-07-11T00:00:00",
          "1995-06-13T00:00:00",
          "1995-05-11T00:00:00"
         ],
         "y": [
          0.7075430011450361,
          0.711028669677011,
          0.7139686542316722,
          0.7205247039038511,
          0.7234123190577934,
          0.7261815443926449,
          0.7302565592366774,
          0.7348016430559646,
          0.7377086435536189,
          0.7393051067667524,
          0.7405983588605335,
          0.7417890470530237,
          0.7431744426061158,
          0.744457274257917,
          0.7478937871443974,
          0.7508193303070239,
          0.753339838362047,
          0.756134783140423,
          0.7594849728389049,
          0.7621469967282106,
          0.765827963039477,
          0.7686382030867053,
          0.7700363864255695,
          0.7709659395089791,
          0.7722638608982324,
          0.773280830218753,
          0.7746635987026175,
          0.7765000964154369,
          0.7789663273604134,
          0.78232164225614,
          0.785380096952774,
          0.7877919442893113,
          0.7906310278573441,
          0.7927465288232888,
          0.7961589683604593,
          0.7983299870902356,
          0.8014336867133939,
          0.8038292596957438,
          0.8052758531446922,
          0.8063780638021762,
          0.8073924060534693,
          0.8085720646751646,
          0.8109192966722354,
          0.8132504150075464,
          0.8161416530898356,
          0.818926175536554,
          0.8212014715436259,
          0.8247443805238366,
          0.8269782414006691,
          0.8284848985900815,
          0.8314759539182862,
          0.8324143317641405,
          0.8336608983219196,
          0.834592370312734,
          0.8366773610638565,
          0.8378292150198247,
          0.8398148070532163,
          0.8420131147305419,
          0.8446432251691351,
          0.8499012505930343,
          0.8518735895838186,
          0.8539753386094258,
          0.8560598024442931,
          0.8647777152038961,
          0.8686112492697313,
          0.8709744771854289,
          0.8728469316485072,
          0.8752306958837569,
          0.8775227071693557,
          0.8792736271829235,
          0.881073570168083,
          0.8855029303607828,
          0.8865634330748373,
          0.8872464755297831,
          0.8881738891969548,
          0.8890966784076267,
          0.8906852248825047,
          0.8919581386760855,
          0.8945363000851592,
          0.8978369323370828,
          0.8998094413286942,
          0.9011874956314507,
          0.9030064857550196,
          0.9053619707126443,
          0.9065813267560785,
          0.9073521012106203,
          0.9077907350797527,
          0.9093155948391566,
          0.9099641734110155,
          0.9114660136536197,
          0.912581819245043,
          0.9140554605795678,
          0.9165955594163766,
          0.918024888181062,
          0.9190863101640462,
          0.9208848031846651,
          0.9222161925045597,
          0.9249298270780928,
          0.9257408557788311,
          0.9262624738722196,
          0.9270637192783183,
          0.9276724284912703,
          0.9285558322633325,
          0.92984416648762,
          0.9318809451013471,
          0.932372493950916,
          0.9336124871899245,
          0.9352695615195906,
          0.9360441326826621,
          0.9372357849363913,
          0.9384113235283607,
          0.9407140597270203,
          0.9414405365424925,
          0.9418412573337105,
          0.9435409364329181,
          0.9440861196228234,
          0.9451261681832226,
          0.9461889111428738,
          0.9495315407852121,
          0.9505610119438963,
          0.9516077925791526,
          0.9525000397771217,
          0.9541768488072168,
          0.9545716372063596,
          0.9550934178351903,
          0.9554813003792934,
          0.9558981665834884,
          0.9564064643524792,
          0.9568155820228943,
          0.9576849610414286,
          0.9585382263982032,
          0.9595821482573217,
          0.960225440892845,
          0.9610013404979684,
          0.9619848361254879,
          0.9628077930661478,
          0.964911911091909,
          0.9655174961809179,
          0.9673804941232655,
          0.9689464076716585,
          0.9694035673386523,
          0.9707206627311947,
          0.971279853760854,
          0.9718038129758614,
          0.9728966175739575,
          0.9732683172848328,
          0.9734938748619109,
          0.9737159589583289,
          0.9739512419033192,
          0.9741332810176331,
          0.9746487087898628,
          0.9752034079902616,
          0.975601951944991,
          0.9760272056266572,
          0.9771799523960654,
          0.9774398056517548,
          0.9779082657197296,
          0.9781800958336686,
          0.9782909183178836,
          0.9784764813275368,
          0.9785898561338042,
          0.9787988852069669,
          0.9791525354349035,
          0.9795262753890193,
          0.979706729975212,
          0.9798838624181099,
          0.9800332406566232,
          0.9805578533727858,
          0.9805858915417746,
          0.9806129263395957,
          0.980636487656757,
          0.9807038792331588,
          0.9806994639007616,
          0.9806747308679674,
          0.9806370960856238,
          0.9805799843919453,
          0.980505587507527,
          0.980406945383294,
          0.9800764711185967,
          0.9800086531753194,
          0.9798448501319026,
          0.979759586305458,
          0.9796174612490338,
          0.9793260474453883,
          0.9790827728749776,
          0.9787035672553308,
          0.9784222039838082,
          0.978070567636949,
          0.9777601384927745,
          0.9767506800034476,
          0.9760322410287503,
          0.9757509431960035,
          0.9753284583325508,
          0.975011730619137,
          0.9743187196579751,
          0.9738402069348833,
          0.9730634662140552,
          0.9727772618032187,
          0.9723936336191059,
          0.9714046873034883,
          0.9711685765172012,
          0.9706265060198456,
          0.9696044785038911,
          0.969107733302605,
          0.9684434650328886,
          0.9678987319823957,
          0.9669882912428551,
          0.9664367102640499,
          0.9655265703562244,
          0.9648191124739838,
          0.9641738371953049,
          0.9630608564591449,
          0.9624907701889551,
          0.9621056771561953,
          0.9617165557079955,
          0.9610116763233176,
          0.9604962091011696,
          0.9598864141645005,
          0.9589397737697134,
          0.9583677480389787,
          0.9575112387854605,
          0.9560691349961155,
          0.9550402820413297,
          0.9541888419480065,
          0.9533570469238306,
          0.95036226534162,
          0.9490775407246081,
          0.9484251895900623,
          0.9468025190004352,
          0.9457491928782802,
          0.9441777500685951,
          0.9432418496576284,
          0.9414551276372163,
          0.940525841604637,
          0.9396678675024719,
          0.9373356239935252,
          0.9366999713637219,
          0.9346783138653585,
          0.9339797312535685,
          0.931313185300157,
          0.9303169128516264,
          0.928757652478254,
          0.9275959795570834,
          0.9238406608270655,
          0.9232590106511039,
          0.9189535347779741,
          0.9181954881994727,
          0.9175347738266248,
          0.9170241683902575,
          0.9160483556710892,
          0.913917374178053,
          0.9119114678969773,
          0.9105219054921827,
          0.9086838212215748,
          0.9070972681679605,
          0.9053821832421733,
          0.9040408104852932,
          0.9026309583986265,
          0.9001759641188802,
          0.8955665802093159,
          0.8943197201452168,
          0.8934834445831843,
          0.8913751313605529,
          0.8896703529129683,
          0.8879494608036238,
          0.8857756858300936,
          0.885713208017187,
          0.88382931641989,
          0.8822452764717261,
          0.8800703673428035,
          0.8783911700891335,
          0.8772857212506026,
          0.8741323910434096,
          0.8734694868396444,
          0.8716693791960488,
          0.8703263061509189,
          0.8677518178048923,
          0.8661105336291369,
          0.8640422803660428,
          0.8615359593200104,
          0.8602024397522878,
          0.8575131415662232,
          0.8555125623277632,
          0.8490465683963928,
          0.8466076915577618,
          0.8447451565626024,
          0.841813951651434,
          0.8392330357949578,
          0.8376270712687846,
          0.8342328022237456,
          0.8322865131830874,
          0.8304059904577359,
          0.8267685646787457,
          0.8242125312094244,
          0.8132805490335644,
          0.8115338777109534,
          0.8100295167108612,
          0.8069163062796109,
          0.8042011092941319,
          0.8022365615997692,
          0.8002611412943467,
          0.7963647422186682,
          0.7947070996331509,
          0.7918104016010273,
          0.7911930730637042,
          0.7901324525131903,
          0.7869328329486888,
          0.7838865117900601,
          0.7815409406313206,
          0.7779965327882621,
          0.7757998205571554,
          0.7736835290301751,
          0.7696978190958131,
          0.7672694187828752,
          0.764450153784193,
          0.7572252277396132,
          0.754051123976914,
          0.7519226201520814,
          0.7482226829659527,
          0.7466559357205766,
          0.7439014673069286,
          0.7336302967405729,
          0.7317117937021796,
          0.6470102871655773,
          0.6489287902039705,
          0.6591999607703263,
          0.6619544291839743,
          0.6635211764293504,
          0.6672211136154791,
          0.6693496174403116,
          0.6725237212030108,
          0.6797486472475907,
          0.6825679122462729,
          0.6849963125592108,
          0.6889820224935728,
          0.691098314020553,
          0.6932950262516597,
          0.6968394340947183,
          0.6991850052534577,
          0.7022313264120864,
          0.705430945976588,
          0.7064915665271019,
          0.707108895064425,
          0.7100055930965485,
          0.7116632356820658,
          0.7155596347577443,
          0.7175350550631668,
          0.7194996027575296,
          0.7222147997430085,
          0.7253280101742589,
          0.7268323711743511,
          0.728579042496962,
          0.739511024672822,
          0.7420670581421434,
          0.7457044839211335,
          0.7475850066464851,
          0.7495312956871433,
          0.7529255647321822,
          0.7545315292583554,
          0.7571124451148317,
          0.760043650026,
          0.7619061850211595,
          0.7643450618597905,
          0.7708110557911608,
          0.7728116350296208,
          0.7755009332156855,
          0.776834452783408,
          0.7793407738294404,
          0.7814090270925346,
          0.78305031126829,
          0.7856247996143165,
          0.7869678726594465,
          0.7887679803030421,
          0.7894308845068072,
          0.7925842147140002,
          0.7936896635525311,
          0.7953688608062012,
          0.7975437699351238,
          0.7991278098832877,
          0.8010117014805846,
          0.8010741792934912,
          0.8032479542670214,
          0.8049688463763659,
          0.8066736248239506,
          0.8087819380465819,
          0.8096182136086144,
          0.8108650736727135,
          0.8154744575822779,
          0.8179294518620241,
          0.8193393039486908,
          0.820680676705571,
          0.8223957616313582,
          0.8239823146849724,
          0.8258203989555803,
          0.827209961360375,
          0.8292158676414506,
          0.8313468491344869,
          0.8323226618536551,
          0.8328332672900225,
          0.8334939816628704,
          0.8342520282413718,
          0.8385575041145016,
          0.8391391542904632,
          0.842894473020481,
          0.8440561459416517,
          0.8456154063150241,
          0.8466116787635547,
          0.8492782247169661,
          0.8499768073287561,
          0.8519984648271195,
          0.8526341174569229,
          0.8549663609658695,
          0.8558243350680347,
          0.8567536211006139,
          0.858540343121026,
          0.8594762435319927,
          0.8610476863416778,
          0.8621010124638329,
          0.8637236830534599,
          0.8643760341880058,
          0.8656607588050177,
          0.8686555403872283,
          0.8694873354114041,
          0.8703387755047274,
          0.8713676284595131,
          0.8728097322488582,
          0.8736662415023764,
          0.874238267233111,
          0.8751849076278981,
          0.8757947025645673,
          0.8763101697867153,
          0.8770150491713932,
          0.877404170619593,
          0.8777892636523528,
          0.8783593499225425,
          0.8794723306587026,
          0.8801176059373814,
          0.880825063819622,
          0.8817352037274475,
          0.8822867847062528,
          0.8831972254457934,
          0.8837419584962862,
          0.8844062267660027,
          0.8849029719672887,
          0.8859249994832432,
          0.8864670699805989,
          0.8867031807668859,
          0.8876921270825036,
          0.8880757552666163,
          0.8883619596774528,
          0.8891387003982809,
          0.8896172131213728,
          0.8903102240825347,
          0.8906269517959484,
          0.8910494366594012,
          0.891330734492148,
          0.8920491734668452,
          0.8930586319561722,
          0.8933690611003466,
          0.8937206974472058,
          0.8940020607187285,
          0.8943812663383752,
          0.894624540908786,
          0.8949159547124315,
          0.8950580797688557,
          0.8951433435953002,
          0.895307146638717,
          0.8953749645819944,
          0.8957054388466916,
          0.8958040809709247,
          0.8958784778553429,
          0.8959355895490214,
          0.8959732243313651,
          0.8959979573641592,
          0.8960023726965565,
          0.8959349811201547,
          0.8959114198029934,
          0.8958843850051722,
          0.8958563468361834,
          0.8953317341200209,
          0.8951823558815075,
          0.8950052234386097,
          0.8948247688524169,
          0.8944510288983012,
          0.8940973786703645,
          0.8938883495972019,
          0.8937749747909345,
          0.8935894117812813,
          0.8934785892970663,
          0.8932067591831272,
          0.8927382991151525,
          0.892478445859463,
          0.8913256990900549,
          0.8909004454083886,
          0.8905019014536593,
          0.8899472022532604,
          0.8894317744810307,
          0.8892497353667168,
          0.8890144524217265,
          0.8887923683253085,
          0.8885668107482304,
          0.8881951110373552,
          0.887102306439259,
          0.8865783472242517,
          0.8860191561945924,
          0.8847020608020499,
          0.8842449011350562,
          0.8826789875866632,
          0.8808159896443155,
          0.8802104045553066,
          0.8781062865295455,
          0.8772833295888856,
          0.876299833961366,
          0.8755239343562427,
          0.8748806417207193,
          0.8738367198616008,
          0.8729834545048263,
          0.8721140754862919,
          0.8717049578158769,
          0.871196660046886,
          0.870779793842691,
          0.870391911298588,
          0.8698701306697573,
          0.8694753422706144,
          0.8677985332405194,
          0.8669062860425503,
          0.865859505407294,
          0.8648300342486097,
          0.8614874046062715,
          0.8604246616466202,
          0.859384613086221,
          0.8588394298963158,
          0.8571397507971081,
          0.8567390300058901,
          0.8560125531904179,
          0.8537098169917583,
          0.8525342783997889,
          0.8513426261460597,
          0.8505680549829883,
          0.8489109806533222,
          0.8476709874143137,
          0.8471794385647448,
          0.8451426599510177,
          0.8438543257267301,
          0.8429709219546679,
          0.842362212741716,
          0.8415609673356172,
          0.8410393492422288,
          0.8402283205414904,
          0.8375146859679573,
          0.8361832966480628,
          0.8343848036274438,
          0.8333233816444596,
          0.8318940528797742,
          0.8293539540429654,
          0.8278803127084406,
          0.8267645071170173,
          0.8252626668744132,
          0.8246140883025542,
          0.8230892285431504,
          0.8226505946740179,
          0.8218798202194761,
          0.820660464176042,
          0.8183049792184173,
          0.8164859890948484,
          0.8151079347920919,
          0.8131354258004805,
          0.8098347935485568,
          0.8072566321394832,
          0.8059837183459023,
          0.8043951718710244,
          0.8034723826603525,
          0.8025449689931807,
          0.801861926538235,
          0.8008014238241804,
          0.7963720636314806,
          0.7945721206463211,
          0.7928212006327533,
          0.7905291893471545,
          0.7881454251119049,
          0.7862729706488265,
          0.783909742733129,
          0.7800762086672938,
          0.7713582959076908,
          0.7692738320728234,
          0.7671720830472163,
          0.765199744056432,
          0.7599417186325328,
          0.7573116081939395,
          0.755113300516614,
          0.7531277084832223,
          0.7519758545272541,
          0.7498908637761317,
          0.7489593917853172,
          0.7477128252275381,
          0.7467744473816839,
          0.7437833920534791,
          0.7422767348640668,
          0.7400428739872342,
          0.7364999650070235,
          0.7342246689999516,
          0.7314401465532332,
          0.728548908470944,
          0.726217790135633,
          0.7238705581385623,
          0.7226908995168669,
          0.7216765572655739,
          0.7205743466080898,
          0.7191277531591415,
          0.7167321801767915,
          0.7136284805536333,
          0.7114574618238569,
          0.7080450222866864,
          0.7059295213207417,
          0.703090437752709,
          0.7006785904161716,
          0.6976201357195376,
          0.694264820823811,
          0.6917985898788346,
          0.6899620921660151,
          0.6885793236821507,
          0.68756235436163,
          0.6862644329723767,
          0.6853348798889671,
          0.6839366965501029,
          0.6811264565028746,
          0.6774454901916083,
          0.6747834663023026,
          0.6714332766038207,
          0.6686383318254446,
          0.6661178237704215,
          0.663192280607795,
          0.6597557677213146,
          0.6584729360695134,
          0.6570875405164214,
          0.6558968523239311,
          0.6546036002301501,
          0.6530071370170165,
          0.6501001365193623,
          0.6455550527000751,
          0.6414800378560426,
          0.638710812521191,
          0.6358231973672488,
          0.6292671476950699,
          0.6263271631404086,
          0.6228414946084337
         ]
        },
        {
         "fill": "toself",
         "fillcolor": "rgba(0, 0, 255, 0.2)",
         "line": {
          "color": "rgba(0, 0, 0, 0)"
         },
         "name": "Night Confidence Interval",
         "type": "scatter",
         "x": [
          "1995-05-10T00:00:00",
          "1995-06-13T00:00:00",
          "1995-06-14T00:00:00",
          "1995-07-11T00:00:00",
          "1995-08-18T00:00:00",
          "1995-09-12T00:00:00",
          "1995-10-10T00:00:00",
          "1995-12-15T00:00:00",
          "1996-01-30T00:00:00",
          "1996-02-14T00:00:00",
          "1996-02-27T00:00:00",
          "1996-03-15T00:00:00",
          "1996-03-16T00:00:00",
          "1996-03-27T00:00:00",
          "1996-04-12T00:00:00",
          "1996-04-22T00:00:00",
          "1996-05-07T00:00:00",
          "1996-06-10T00:00:00",
          "1996-07-08T00:00:00",
          "1996-08-05T00:00:00",
          "1996-09-02T00:00:00",
          "1996-10-08T00:00:00",
          "1996-10-09T00:00:00",
          "1996-11-05T00:00:00",
          "1996-12-11T00:00:00",
          "1997-01-13T00:00:00",
          "1997-01-27T00:00:00",
          "1997-02-06T00:00:00",
          "1997-02-20T00:00:00",
          "1997-03-04T00:00:00",
          "1997-03-18T00:00:00",
          "1997-04-08T00:00:00",
          "1997-05-05T00:00:00",
          "1997-06-11T00:00:00",
          "1997-07-15T00:00:00",
          "1997-08-11T00:00:00",
          "1997-09-11T00:00:00",
          "1997-10-06T00:00:00",
          "1997-11-11T00:00:00",
          "1997-12-09T00:00:00",
          "1998-01-12T00:00:00",
          "1998-01-13T00:00:00",
          "1998-02-11T00:00:00",
          "1998-02-28T00:00:00",
          "1998-03-09T00:00:00",
          "1998-04-07T00:00:00",
          "1998-05-04T00:00:00",
          "1998-05-05T00:00:00",
          "1998-06-02T00:00:00",
          "1998-07-08T00:00:00",
          "1998-08-10T00:00:00",
          "1998-09-10T00:00:00",
          "1998-10-22T00:00:00",
          "1998-11-18T00:00:00",
          "1998-12-07T00:00:00",
          "1999-01-14T00:00:00",
          "1999-01-27T00:00:00",
          "1999-01-28T00:00:00",
          "1999-02-12T00:00:00",
          "1999-02-23T00:00:00",
          "1999-03-23T00:00:00",
          "1999-03-24T00:00:00",
          "1999-04-08T00:00:00",
          "1999-05-03T00:00:00",
          "1999-06-01T00:00:00",
          "1999-06-03T00:00:00",
          "1999-07-05T00:00:00",
          "1999-08-03T00:00:00",
          "1999-09-14T00:00:00",
          "1999-10-11T00:00:00",
          "1999-11-10T00:00:00",
          "1999-12-08T00:00:00",
          "2000-02-16T00:00:00",
          "2000-04-10T00:00:00",
          "2000-04-11T00:00:00",
          "2000-06-06T00:00:00",
          "2000-07-10T00:00:00",
          "2000-07-11T00:00:00",
          "2000-08-07T00:00:00",
          "2000-08-08T00:00:00",
          "2000-09-12T00:00:00",
          "2000-10-18T00:00:00",
          "2000-11-14T00:00:00",
          "2000-12-12T00:00:00",
          "2001-02-21T00:00:00",
          "2001-03-09T00:00:00",
          "2001-03-21T00:00:00",
          "2001-04-04T00:00:00",
          "2001-04-18T00:00:00",
          "2001-05-15T00:00:00",
          "2001-06-05T00:00:00",
          "2001-07-18T00:00:00",
          "2001-09-13T00:00:00",
          "2001-10-16T00:00:00",
          "2001-11-09T00:00:00",
          "2001-12-10T00:00:00",
          "2001-12-11T00:00:00",
          "2002-01-22T00:00:00",
          "2002-02-12T00:00:00",
          "2002-02-28T00:00:00",
          "2002-03-07T00:00:00",
          "2002-03-19T00:00:00",
          "2002-04-03T00:00:00",
          "2002-04-15T00:00:00",
          "2002-04-16T00:00:00",
          "2002-05-14T00:00:00",
          "2002-06-04T00:00:00",
          "2002-07-01T00:00:00",
          "2002-08-20T00:00:00",
          "2002-09-17T00:00:00",
          "2002-10-08T00:00:00",
          "2002-11-13T00:00:00",
          "2002-12-09T00:00:00",
          "2003-01-27T00:00:00",
          "2003-02-21T00:00:00",
          "2003-03-04T00:00:00",
          "2003-03-22T00:00:00",
          "2003-04-03T00:00:00",
          "2003-04-22T00:00:00",
          "2003-07-05T00:00:00",
          "2003-07-15T00:00:00",
          "2003-08-13T00:00:00",
          "2003-09-20T00:00:00",
          "2003-10-06T00:00:00",
          "2003-11-03T00:00:00",
          "2003-12-02T00:00:00",
          "2004-02-14T00:00:00",
          "2004-02-23T00:00:00",
          "2004-03-09T00:00:00",
          "2004-03-23T00:00:00",
          "2004-04-20T00:00:00",
          "2004-05-17T00:00:00",
          "2004-06-15T00:00:00",
          "2004-09-14T00:00:00",
          "2004-10-13T00:00:00",
          "2004-11-12T00:00:00",
          "2004-12-08T00:00:00",
          "2005-01-26T00:00:00",
          "2005-02-08T00:00:00",
          "2005-02-23T00:00:00",
          "2005-02-24T00:00:00",
          "2005-03-07T00:00:00",
          "2005-03-20T00:00:00",
          "2005-04-05T00:00:00",
          "2005-05-16T00:00:00",
          "2005-06-15T00:00:00",
          "2005-07-19T00:00:00",
          "2005-08-09T00:00:00",
          "2005-10-11T00:00:00",
          "2005-12-08T00:00:00",
          "2006-01-29T00:00:00",
          "2006-01-30T00:00:00",
          "2006-02-08T00:00:00",
          "2006-02-20T00:00:00",
          "2006-02-21T00:00:00",
          "2006-04-04T00:00:00",
          "2006-06-26T00:00:00",
          "2006-07-16T00:00:00",
          "2006-08-07T00:00:00",
          "2006-08-08T00:00:00",
          "2006-10-10T00:00:00",
          "2006-11-07T00:00:00",
          "2006-12-03T00:00:00",
          "2007-01-30T00:00:00",
          "2007-02-20T00:00:00",
          "2007-03-06T00:00:00",
          "2007-03-07T00:00:00",
          "2007-03-19T00:00:00",
          "2007-03-20T00:00:00",
          "2007-04-02T00:00:00",
          "2007-04-14T00:00:00",
          "2007-05-15T00:00:00",
          "2007-06-21T00:00:00",
          "2007-07-19T00:00:00",
          "2007-08-15T00:00:00",
          "2007-09-08T00:00:00",
          "2007-11-14T00:00:00",
          "2007-12-06T00:00:00",
          "2008-01-15T00:00:00",
          "2008-02-12T00:00:00",
          "2008-02-22T00:00:00",
          "2008-03-13T00:00:00",
          "2008-04-14T00:00:00",
          "2008-05-29T00:00:00",
          "2008-06-22T00:00:00",
          "2008-07-16T00:00:00",
          "2008-08-14T00:00:00",
          "2008-09-10T00:00:00",
          "2008-10-09T00:00:00",
          "2009-03-19T00:00:00",
          "2009-06-11T00:00:00",
          "2009-06-12T00:00:00",
          "2009-07-15T00:00:00",
          "2009-07-16T00:00:00",
          "2009-08-15T00:00:00",
          "2009-09-10T00:00:00",
          "2009-10-10T00:00:00",
          "2009-11-08T00:00:00",
          "2009-12-09T00:00:00",
          "2010-03-10T00:00:00",
          "2010-04-22T00:00:00",
          "2010-04-23T00:00:00",
          "2010-05-14T00:00:00",
          "2010-06-23T00:00:00",
          "2010-06-24T00:00:00",
          "2010-07-24T00:00:00",
          "2010-09-06T00:00:00",
          "2010-10-05T00:00:00",
          "2010-11-09T00:00:00",
          "2010-12-09T00:00:00",
          "2011-03-05T00:00:00",
          "2011-03-26T00:00:00",
          "2011-04-28T00:00:00",
          "2011-06-15T00:00:00",
          "2011-07-05T00:00:00",
          "2011-08-20T00:00:00",
          "2011-09-17T00:00:00",
          "2011-11-17T00:00:00",
          "2011-12-07T00:00:00",
          "2012-01-28T00:00:00",
          "2012-01-29T00:00:00",
          "2012-02-09T00:00:00",
          "2012-03-07T00:00:00",
          "2012-04-12T00:00:00",
          "2012-04-26T00:00:00",
          "2012-05-18T00:00:00",
          "2012-06-18T00:00:00",
          "2012-07-12T00:00:00",
          "2012-08-21T00:00:00",
          "2012-09-11T00:00:00",
          "2012-10-18T00:00:00",
          "2012-11-13T00:00:00",
          "2012-12-10T00:00:00",
          "2013-01-21T00:00:00",
          "2013-01-22T00:00:00",
          "2013-02-11T00:00:00",
          "2013-02-25T00:00:00",
          "2013-03-11T00:00:00",
          "2013-03-12T00:00:00",
          "2013-03-27T00:00:00",
          "2013-04-24T00:00:00",
          "2013-05-16T00:00:00",
          "2013-06-14T00:00:00",
          "2013-07-08T00:00:00",
          "2013-08-02T00:00:00",
          "2013-09-16T00:00:00",
          "2013-10-18T00:00:00",
          "2013-11-13T00:00:00",
          "2013-12-08T00:00:00",
          "2014-03-05T00:00:00",
          "2014-04-11T00:00:00",
          "2014-04-28T00:00:00",
          "2014-08-19T00:00:00",
          "2014-09-13T00:00:00",
          "2014-10-28T00:00:00",
          "2014-11-19T00:00:00",
          "2014-12-11T00:00:00",
          "2015-02-03T00:00:00",
          "2015-02-20T00:00:00",
          "2015-03-12T00:00:00",
          "2015-04-07T00:00:00",
          "2015-04-23T00:00:00",
          "2015-05-12T00:00:00",
          "2015-05-27T00:00:00",
          "2015-06-23T00:00:00",
          "2015-07-14T00:00:00",
          "2015-08-18T00:00:00",
          "2015-09-12T00:00:00",
          "2015-11-29T00:00:00",
          "2015-12-11T00:00:00",
          "2016-03-08T00:00:00",
          "2016-03-23T00:00:00",
          "2016-04-05T00:00:00",
          "2016-04-14T00:00:00",
          "2016-05-04T00:00:00",
          "2016-06-16T00:00:00",
          "2016-07-22T00:00:00",
          "2016-08-17T00:00:00",
          "2016-09-21T00:00:00",
          "2016-10-19T00:00:00",
          "2016-11-19T00:00:00",
          "2016-12-13T00:00:00",
          "2017-01-06T00:00:00",
          "2017-02-19T00:00:00",
          "2017-02-20T00:00:00",
          "2017-05-30T00:00:00",
          "2017-05-31T00:00:00",
          "2017-06-13T00:00:00",
          "2017-07-18T00:00:00",
          "2017-08-15T00:00:00",
          "2017-09-12T00:00:00",
          "2017-10-16T00:00:00",
          "2017-11-17T00:00:00",
          "2017-12-12T00:00:00",
          "2018-01-15T00:00:00",
          "2018-02-09T00:00:00",
          "2018-02-10T00:00:00",
          "2018-02-26T00:00:00",
          "2018-03-14T00:00:00",
          "2018-03-15T00:00:00",
          "2018-03-23T00:00:00",
          "2018-04-15T00:00:00",
          "2018-04-25T00:00:00",
          "2018-05-23T00:00:00",
          "2018-06-12T00:00:00",
          "2018-07-20T00:00:00",
          "2018-08-13T00:00:00",
          "2018-09-11T00:00:00",
          "2018-10-18T00:00:00",
          "2018-10-19T00:00:00",
          "2018-11-06T00:00:00",
          "2018-11-07T00:00:00",
          "2018-12-14T00:00:00",
          "2019-01-11T00:00:00",
          "2019-03-12T00:00:00",
          "2019-03-15T00:00:00",
          "2019-05-13T00:00:00",
          "2019-06-06T00:00:00",
          "2019-07-16T00:00:00",
          "2019-08-18T00:00:00",
          "2019-09-09T00:00:00",
          "2019-09-10T00:00:00",
          "2019-10-22T00:00:00",
          "2019-11-17T00:00:00",
          "2019-12-11T00:00:00",
          "2020-01-25T00:00:00",
          "2020-02-28T00:00:00",
          "2020-07-10T00:00:00",
          "2020-07-30T00:00:00",
          "2020-07-31T00:00:00",
          "2020-08-17T00:00:00",
          "2020-08-18T00:00:00",
          "2020-09-23T00:00:00",
          "2020-10-26T00:00:00",
          "2020-11-17T00:00:00",
          "2020-12-10T00:00:00",
          "2021-02-12T00:00:00",
          "2021-03-18T00:00:00",
          "2021-03-24T00:00:00",
          "2021-04-05T00:00:00",
          "2021-04-29T00:00:00",
          "2021-06-14T00:00:00",
          "2021-07-10T00:00:00",
          "2021-08-19T00:00:00",
          "2021-10-04T00:00:00",
          "2021-11-16T00:00:00",
          "2021-12-13T00:00:00",
          "2022-01-12T00:00:00",
          "2022-03-29T00:00:00",
          "2022-05-01T00:00:00",
          "2022-05-23T00:00:00",
          "2022-07-15T00:00:00",
          "2022-08-13T00:00:00",
          "2022-09-17T00:00:00",
          "2022-09-18T00:00:00",
          "2022-11-23T00:00:00",
          "2022-12-13T00:00:00",
          "2022-12-13T00:00:00",
          "2022-11-23T00:00:00",
          "2022-09-18T00:00:00",
          "2022-09-17T00:00:00",
          "2022-08-13T00:00:00",
          "2022-07-15T00:00:00",
          "2022-05-23T00:00:00",
          "2022-05-01T00:00:00",
          "2022-03-29T00:00:00",
          "2022-01-12T00:00:00",
          "2021-12-13T00:00:00",
          "2021-11-16T00:00:00",
          "2021-10-04T00:00:00",
          "2021-08-19T00:00:00",
          "2021-07-10T00:00:00",
          "2021-06-14T00:00:00",
          "2021-04-29T00:00:00",
          "2021-04-05T00:00:00",
          "2021-03-24T00:00:00",
          "2021-03-18T00:00:00",
          "2021-02-12T00:00:00",
          "2020-12-10T00:00:00",
          "2020-11-17T00:00:00",
          "2020-10-26T00:00:00",
          "2020-09-23T00:00:00",
          "2020-08-18T00:00:00",
          "2020-08-17T00:00:00",
          "2020-07-31T00:00:00",
          "2020-07-30T00:00:00",
          "2020-07-10T00:00:00",
          "2020-02-28T00:00:00",
          "2020-01-25T00:00:00",
          "2019-12-11T00:00:00",
          "2019-11-17T00:00:00",
          "2019-10-22T00:00:00",
          "2019-09-10T00:00:00",
          "2019-09-09T00:00:00",
          "2019-08-18T00:00:00",
          "2019-07-16T00:00:00",
          "2019-06-06T00:00:00",
          "2019-05-13T00:00:00",
          "2019-03-15T00:00:00",
          "2019-03-12T00:00:00",
          "2019-01-11T00:00:00",
          "2018-12-14T00:00:00",
          "2018-11-07T00:00:00",
          "2018-11-06T00:00:00",
          "2018-10-19T00:00:00",
          "2018-10-18T00:00:00",
          "2018-09-11T00:00:00",
          "2018-08-13T00:00:00",
          "2018-07-20T00:00:00",
          "2018-06-12T00:00:00",
          "2018-05-23T00:00:00",
          "2018-04-25T00:00:00",
          "2018-04-15T00:00:00",
          "2018-03-23T00:00:00",
          "2018-03-15T00:00:00",
          "2018-03-14T00:00:00",
          "2018-02-26T00:00:00",
          "2018-02-10T00:00:00",
          "2018-02-09T00:00:00",
          "2018-01-15T00:00:00",
          "2017-12-12T00:00:00",
          "2017-11-17T00:00:00",
          "2017-10-16T00:00:00",
          "2017-09-12T00:00:00",
          "2017-08-15T00:00:00",
          "2017-07-18T00:00:00",
          "2017-06-13T00:00:00",
          "2017-05-31T00:00:00",
          "2017-05-30T00:00:00",
          "2017-02-20T00:00:00",
          "2017-02-19T00:00:00",
          "2017-01-06T00:00:00",
          "2016-12-13T00:00:00",
          "2016-11-19T00:00:00",
          "2016-10-19T00:00:00",
          "2016-09-21T00:00:00",
          "2016-08-17T00:00:00",
          "2016-07-22T00:00:00",
          "2016-06-16T00:00:00",
          "2016-05-04T00:00:00",
          "2016-04-14T00:00:00",
          "2016-04-05T00:00:00",
          "2016-03-23T00:00:00",
          "2016-03-08T00:00:00",
          "2015-12-11T00:00:00",
          "2015-11-29T00:00:00",
          "2015-09-12T00:00:00",
          "2015-08-18T00:00:00",
          "2015-07-14T00:00:00",
          "2015-06-23T00:00:00",
          "2015-05-27T00:00:00",
          "2015-05-12T00:00:00",
          "2015-04-23T00:00:00",
          "2015-04-07T00:00:00",
          "2015-03-12T00:00:00",
          "2015-02-20T00:00:00",
          "2015-02-03T00:00:00",
          "2014-12-11T00:00:00",
          "2014-11-19T00:00:00",
          "2014-10-28T00:00:00",
          "2014-09-13T00:00:00",
          "2014-08-19T00:00:00",
          "2014-04-28T00:00:00",
          "2014-04-11T00:00:00",
          "2014-03-05T00:00:00",
          "2013-12-08T00:00:00",
          "2013-11-13T00:00:00",
          "2013-10-18T00:00:00",
          "2013-09-16T00:00:00",
          "2013-08-02T00:00:00",
          "2013-07-08T00:00:00",
          "2013-06-14T00:00:00",
          "2013-05-16T00:00:00",
          "2013-04-24T00:00:00",
          "2013-03-27T00:00:00",
          "2013-03-12T00:00:00",
          "2013-03-11T00:00:00",
          "2013-02-25T00:00:00",
          "2013-02-11T00:00:00",
          "2013-01-22T00:00:00",
          "2013-01-21T00:00:00",
          "2012-12-10T00:00:00",
          "2012-11-13T00:00:00",
          "2012-10-18T00:00:00",
          "2012-09-11T00:00:00",
          "2012-08-21T00:00:00",
          "2012-07-12T00:00:00",
          "2012-06-18T00:00:00",
          "2012-05-18T00:00:00",
          "2012-04-26T00:00:00",
          "2012-04-12T00:00:00",
          "2012-03-07T00:00:00",
          "2012-02-09T00:00:00",
          "2012-01-29T00:00:00",
          "2012-01-28T00:00:00",
          "2011-12-07T00:00:00",
          "2011-11-17T00:00:00",
          "2011-09-17T00:00:00",
          "2011-08-20T00:00:00",
          "2011-07-05T00:00:00",
          "2011-06-15T00:00:00",
          "2011-04-28T00:00:00",
          "2011-03-26T00:00:00",
          "2011-03-05T00:00:00",
          "2010-12-09T00:00:00",
          "2010-11-09T00:00:00",
          "2010-10-05T00:00:00",
          "2010-09-06T00:00:00",
          "2010-07-24T00:00:00",
          "2010-06-24T00:00:00",
          "2010-06-23T00:00:00",
          "2010-05-14T00:00:00",
          "2010-04-23T00:00:00",
          "2010-04-22T00:00:00",
          "2010-03-10T00:00:00",
          "2009-12-09T00:00:00",
          "2009-11-08T00:00:00",
          "2009-10-10T00:00:00",
          "2009-09-10T00:00:00",
          "2009-08-15T00:00:00",
          "2009-07-16T00:00:00",
          "2009-07-15T00:00:00",
          "2009-06-12T00:00:00",
          "2009-06-11T00:00:00",
          "2009-03-19T00:00:00",
          "2008-10-09T00:00:00",
          "2008-09-10T00:00:00",
          "2008-08-14T00:00:00",
          "2008-07-16T00:00:00",
          "2008-06-22T00:00:00",
          "2008-05-29T00:00:00",
          "2008-04-14T00:00:00",
          "2008-03-13T00:00:00",
          "2008-02-22T00:00:00",
          "2008-02-12T00:00:00",
          "2008-01-15T00:00:00",
          "2007-12-06T00:00:00",
          "2007-11-14T00:00:00",
          "2007-09-08T00:00:00",
          "2007-08-15T00:00:00",
          "2007-07-19T00:00:00",
          "2007-06-21T00:00:00",
          "2007-05-15T00:00:00",
          "2007-04-14T00:00:00",
          "2007-04-02T00:00:00",
          "2007-03-20T00:00:00",
          "2007-03-19T00:00:00",
          "2007-03-07T00:00:00",
          "2007-03-06T00:00:00",
          "2007-02-20T00:00:00",
          "2007-01-30T00:00:00",
          "2006-12-03T00:00:00",
          "2006-11-07T00:00:00",
          "2006-10-10T00:00:00",
          "2006-08-08T00:00:00",
          "2006-08-07T00:00:00",
          "2006-07-16T00:00:00",
          "2006-06-26T00:00:00",
          "2006-04-04T00:00:00",
          "2006-02-21T00:00:00",
          "2006-02-20T00:00:00",
          "2006-02-08T00:00:00",
          "2006-01-30T00:00:00",
          "2006-01-29T00:00:00",
          "2005-12-08T00:00:00",
          "2005-10-11T00:00:00",
          "2005-08-09T00:00:00",
          "2005-07-19T00:00:00",
          "2005-06-15T00:00:00",
          "2005-05-16T00:00:00",
          "2005-04-05T00:00:00",
          "2005-03-20T00:00:00",
          "2005-03-07T00:00:00",
          "2005-02-24T00:00:00",
          "2005-02-23T00:00:00",
          "2005-02-08T00:00:00",
          "2005-01-26T00:00:00",
          "2004-12-08T00:00:00",
          "2004-11-12T00:00:00",
          "2004-10-13T00:00:00",
          "2004-09-14T00:00:00",
          "2004-06-15T00:00:00",
          "2004-05-17T00:00:00",
          "2004-04-20T00:00:00",
          "2004-03-23T00:00:00",
          "2004-03-09T00:00:00",
          "2004-02-23T00:00:00",
          "2004-02-14T00:00:00",
          "2003-12-02T00:00:00",
          "2003-11-03T00:00:00",
          "2003-10-06T00:00:00",
          "2003-09-20T00:00:00",
          "2003-08-13T00:00:00",
          "2003-07-15T00:00:00",
          "2003-07-05T00:00:00",
          "2003-04-22T00:00:00",
          "2003-04-03T00:00:00",
          "2003-03-22T00:00:00",
          "2003-03-04T00:00:00",
          "2003-02-21T00:00:00",
          "2003-01-27T00:00:00",
          "2002-12-09T00:00:00",
          "2002-11-13T00:00:00",
          "2002-10-08T00:00:00",
          "2002-09-17T00:00:00",
          "2002-08-20T00:00:00",
          "2002-07-01T00:00:00",
          "2002-06-04T00:00:00",
          "2002-05-14T00:00:00",
          "2002-04-16T00:00:00",
          "2002-04-15T00:00:00",
          "2002-04-03T00:00:00",
          "2002-03-19T00:00:00",
          "2002-03-07T00:00:00",
          "2002-02-28T00:00:00",
          "2002-02-12T00:00:00",
          "2002-01-22T00:00:00",
          "2001-12-11T00:00:00",
          "2001-12-10T00:00:00",
          "2001-11-09T00:00:00",
          "2001-10-16T00:00:00",
          "2001-09-13T00:00:00",
          "2001-07-18T00:00:00",
          "2001-06-05T00:00:00",
          "2001-05-15T00:00:00",
          "2001-04-18T00:00:00",
          "2001-04-04T00:00:00",
          "2001-03-21T00:00:00",
          "2001-03-09T00:00:00",
          "2001-02-21T00:00:00",
          "2000-12-12T00:00:00",
          "2000-11-14T00:00:00",
          "2000-10-18T00:00:00",
          "2000-09-12T00:00:00",
          "2000-08-08T00:00:00",
          "2000-08-07T00:00:00",
          "2000-07-11T00:00:00",
          "2000-07-10T00:00:00",
          "2000-06-06T00:00:00",
          "2000-04-11T00:00:00",
          "2000-04-10T00:00:00",
          "2000-02-16T00:00:00",
          "1999-12-08T00:00:00",
          "1999-11-10T00:00:00",
          "1999-10-11T00:00:00",
          "1999-09-14T00:00:00",
          "1999-08-03T00:00:00",
          "1999-07-05T00:00:00",
          "1999-06-03T00:00:00",
          "1999-06-01T00:00:00",
          "1999-05-03T00:00:00",
          "1999-04-08T00:00:00",
          "1999-03-24T00:00:00",
          "1999-03-23T00:00:00",
          "1999-02-23T00:00:00",
          "1999-02-12T00:00:00",
          "1999-01-28T00:00:00",
          "1999-01-27T00:00:00",
          "1999-01-14T00:00:00",
          "1998-12-07T00:00:00",
          "1998-11-18T00:00:00",
          "1998-10-22T00:00:00",
          "1998-09-10T00:00:00",
          "1998-08-10T00:00:00",
          "1998-07-08T00:00:00",
          "1998-06-02T00:00:00",
          "1998-05-05T00:00:00",
          "1998-05-04T00:00:00",
          "1998-04-07T00:00:00",
          "1998-03-09T00:00:00",
          "1998-02-28T00:00:00",
          "1998-02-11T00:00:00",
          "1998-01-13T00:00:00",
          "1998-01-12T00:00:00",
          "1997-12-09T00:00:00",
          "1997-11-11T00:00:00",
          "1997-10-06T00:00:00",
          "1997-09-11T00:00:00",
          "1997-08-11T00:00:00",
          "1997-07-15T00:00:00",
          "1997-06-11T00:00:00",
          "1997-05-05T00:00:00",
          "1997-04-08T00:00:00",
          "1997-03-18T00:00:00",
          "1997-03-04T00:00:00",
          "1997-02-20T00:00:00",
          "1997-02-06T00:00:00",
          "1997-01-27T00:00:00",
          "1997-01-13T00:00:00",
          "1996-12-11T00:00:00",
          "1996-11-05T00:00:00",
          "1996-10-09T00:00:00",
          "1996-10-08T00:00:00",
          "1996-09-02T00:00:00",
          "1996-08-05T00:00:00",
          "1996-07-08T00:00:00",
          "1996-06-10T00:00:00",
          "1996-05-07T00:00:00",
          "1996-04-22T00:00:00",
          "1996-04-12T00:00:00",
          "1996-03-27T00:00:00",
          "1996-03-16T00:00:00",
          "1996-03-15T00:00:00",
          "1996-02-27T00:00:00",
          "1996-02-14T00:00:00",
          "1996-01-30T00:00:00",
          "1995-12-15T00:00:00",
          "1995-10-10T00:00:00",
          "1995-09-12T00:00:00",
          "1995-08-18T00:00:00",
          "1995-07-11T00:00:00",
          "1995-06-14T00:00:00",
          "1995-06-13T00:00:00",
          "1995-05-10T00:00:00"
         ],
         "y": [
          1.0753416744237552,
          1.0825428715894096,
          1.0827540123489998,
          1.0884405750657307,
          1.0963973679015122,
          1.101602437963218,
          1.1074041681735525,
          1.1209628348031353,
          1.1303157866580076,
          1.1333484300143528,
          1.1359698656899007,
          1.1393882920981027,
          1.139589037009415,
          1.1417947450701313,
          1.14499491182264,
          1.146990119447754,
          1.1499758684884975,
          1.156712190438764,
          1.1622270555024126,
          1.167712390330373,
          1.1731681949226453,
          1.1801394094602697,
          1.1803323574853735,
          1.1855277163709688,
          1.192412148175142,
          1.1986799944548205,
          1.201326688602814,
          1.2032126644887755,
          1.2058467028214739,
          1.208098574049543,
          1.2107189019156719,
          1.2146355514168863,
          1.2196468359889505,
          1.2264695552015334,
          1.2326936179612897,
          1.2376052379879061,
          1.2432106435867356,
          1.247704765691024,
          1.254134944124789,
          1.2591024451769308,
          1.265094710652981,
          1.2652702945981713,
          1.270345844247813,
          1.2733064390044966,
          1.2748694057635284,
          1.2798848779566363,
          1.284525979931323,
          1.2846973452714148,
          1.289480282350505,
          1.2955863815140383,
          1.3011407562064639,
          1.3063211373416377,
          1.3132819760771706,
          1.3177217149906464,
          1.32082951561443,
          1.327004324457341,
          1.3291042727437261,
          1.3292655435644756,
          1.3316800859416833,
          1.3334453640969117,
          1.3379182337012756,
          1.3380774328855929,
          1.3404609007163173,
          1.3444145140423835,
          1.3489712129310492,
          1.3492843003771937,
          1.354273209147887,
          1.3587610920408861,
          1.3652046243262377,
          1.3693118090931684,
          1.3738431431930997,
          1.3780418034660729,
          1.3884092593673696,
          1.3962809049031093,
          1.396425640298518,
          1.4044707073187543,
          1.409297583136394,
          1.4094388909151605,
          1.4132399631496444,
          1.413380216277136,
          1.418265346085669,
          1.4232419137341275,
          1.4269423044380058,
          1.4307507437393843,
          1.4402754801141473,
          1.442395683961486,
          1.4439795089393426,
          1.445820449513557,
          1.4476540075288495,
          1.451169306934039,
          1.4538844449706887,
          1.459392184754525,
          1.4665857937090956,
          1.4706945804991247,
          1.4736570254496981,
          1.4774514064794895,
          1.477573203209676,
          1.4826546533739078,
          1.4851704623196618,
          1.4870761199648572,
          1.487906813062216,
          1.4893265644346414,
          1.491093626261491,
          1.4925011738120246,
          1.4926182246114759,
          1.495880354552622,
          1.4983075727913113,
          1.5014038743115572,
          1.5070652587405888,
          1.510194502621138,
          1.5125220563143795,
          1.5164735029239462,
          1.5192969665850389,
          1.5245488981487425,
          1.5271936139108213,
          1.52834983095498,
          1.5302319916252614,
          1.5314799855043981,
          1.5334448831415897,
          1.540968033251703,
          1.5419688553893565,
          1.5448499393994162,
          1.5485772039629633,
          1.5501303067535135,
          1.5528250343089356,
          1.555584871088536,
          1.562483667644098,
          1.5633086421737425,
          1.564676819822099,
          1.5659461394054914,
          1.5684626308955099,
          1.5708612805976212,
          1.5734070231684818,
          1.5811897307888456,
          1.5836043952727228,
          1.5860689895356472,
          1.5881775502970426,
          1.5920821648574703,
          1.5931029035610247,
          1.5942727691036436,
          1.5943504588108823,
          1.5952025596267925,
          1.5962037119495334,
          1.5974271608845436,
          1.600518235922852,
          1.6027398837314535,
          1.605216770512628,
          1.6067248601655209,
          1.611149464578752,
          1.6150907395071927,
          1.618516571245113,
          1.6185814544725894,
          1.6191637085446127,
          1.6199353013765752,
          1.6199993559494783,
          1.6226556355078139,
          1.6277095568914217,
          1.6288885731725564,
          1.6301680893357737,
          1.6302258160010294,
          1.6337866610203797,
          1.6353212721737642,
          1.636719826630666,
          1.6397479242197885,
          1.6408130603373579,
          1.6415139228837514,
          1.6415637019983311,
          1.6421581134161638,
          1.6422074028712232,
          1.6428447381703508,
          1.6434273977596954,
          1.6449074972318893,
          1.6466266835945467,
          1.647893413324188,
          1.6490869356145073,
          1.6501247926534401,
          1.652907318396275,
          1.6537841084370706,
          1.6553315661625911,
          1.6563789284271198,
          1.6567458298165167,
          1.657468332760226,
          1.658592999260859,
          1.6601093049797595,
          1.660886813818339,
          1.6616426269735558,
          1.6625269547919006,
          1.6633218189004286,
          1.6641449769448478,
          1.6681388200706426,
          1.6698349799667795,
          1.669853571536525,
          1.6704459626465205,
          1.6704632735682898,
          1.6709650864769874,
          1.6713725700647193,
          1.671811103896942,
          1.6722027965717072,
          1.6725864730456246,
          1.6735036645312928,
          1.6738285466229084,
          1.6738352733658148,
          1.6739678340938373,
          1.6741743780559633,
          1.674178769499619,
          1.6742929980649084,
          1.6743992128556062,
          1.6744293484737753,
          1.6744235329964443,
          1.6743818238375638,
          1.674074378990763,
          1.67395698736671,
          1.6737389543044245,
          1.6733485923733875,
          1.6731603286092631,
          1.6726701447862484,
          1.6723327499272536,
          1.6714954664528423,
          1.671190437726175,
          1.6703268520659118,
          1.6703092464972689,
          1.6701130992784807,
          1.6696123242961876,
          1.6689019109431762,
          1.6686124559427395,
          1.6681426823025984,
          1.6674497858218713,
          1.6668884901996057,
          1.6659047848661346,
          1.6653642144181564,
          1.664371365028232,
          1.6636428385287738,
          1.6628593416726594,
          1.6615859905819106,
          1.6615548628772832,
          1.6609243989001743,
          1.6604741095803641,
          1.660016437701632,
          1.659983464357274,
          1.6594843442578702,
          1.6585299784032463,
          1.6577594031531486,
          1.6567157907754444,
          1.6558281559159305,
          1.6548804657739717,
          1.6531152993842513,
          1.6518136652954793,
          1.6507276873461727,
          1.6496594656299761,
          1.6457585447358363,
          1.644013126329265,
          1.6431938885839716,
          1.637471709471558,
          1.6361407665896404,
          1.6336857452679938,
          1.6324577526936637,
          1.6312115297187302,
          1.6280753279082774,
          1.6270652736145188,
          1.62586303798212,
          1.6242776073220657,
          1.6232893018698142,
          1.6221031651613802,
          1.621157136584373,
          1.6194329284574505,
          1.6180728939691238,
          1.615769257027302,
          1.614095552481146,
          1.6087222895053541,
          1.607875293959772,
          1.6014982623775929,
          1.60038217128256,
          1.5994080371002468,
          1.5987299075669132,
          1.5972120298744796,
          1.593897574080339,
          1.5910691196390356,
          1.5889959880967224,
          1.5861650255176107,
          1.5838670339391723,
          1.5812883833133795,
          1.57926714899816,
          1.5772242189995778,
          1.5734224988245538,
          1.5733352486056718,
          1.564511029657465,
          1.5644200128268881,
          1.563233366412747,
          1.5600069096056681,
          1.5573925226448557,
          1.554748605448355,
          1.5514984344796254,
          1.5483996746189699,
          1.545951931369506,
          1.5425852214349351,
          1.5400819206629717,
          1.5399812989725727,
          1.5383662293342852,
          1.536741517170059,
          1.5366396524978008,
          1.5358233791395248,
          1.5334631652637891,
          1.5324307704085203,
          1.529520026439551,
          1.5274228438684372,
          1.5233966889224428,
          1.5208258306286997,
          1.5176904304462173,
          1.5136441019535658,
          1.5135340260678125,
          1.5115462192182574,
          1.511435427676282,
          1.5073096613429844,
          1.504153183627038,
          1.4972898642584067,
          1.4969431388419236,
          1.4900553143231856,
          1.4872159719478275,
          1.4824355220258694,
          1.4784462820023885,
          1.475764000652647,
          1.4756416456127681,
          1.4704687214342607,
          1.4672331381906587,
          1.4642238462956256,
          1.458522947345875,
          1.4541650158776669,
          1.436699512307897,
          1.4340154916347136,
          1.4338808951068265,
          1.431586991216852,
          1.4314517166988596,
          1.4265567484172512,
          1.4220268112849632,
          1.4189840651960168,
          1.4157835202511428,
          1.4067727935871237,
          1.401923093296026,
          1.4010627438988574,
          1.399337977163889,
          1.3958721719314306,
          1.3891687361209306,
          1.3853445821338792,
          1.3794115490332728,
          1.3725140573882502,
          1.365994328040077,
          1.361864950015358,
          1.3572445476801231,
          1.3453878093117897,
          1.3401717461931537,
          1.3366715827799758,
          1.3281645095135186,
          1.323464910826367,
          1.3177507953253729,
          1.317586856892382,
          1.3066836405304258,
          1.3033472427116808,
          1.1716721422225806,
          1.1750085400413257,
          1.185911756403282,
          1.1860756948362727,
          1.1917898103372668,
          1.1964894090244185,
          1.2049964822908756,
          1.2084966457040536,
          1.2137127088226896,
          1.225569447191023,
          1.2301898495262578,
          1.234319227550977,
          1.24083895689915,
          1.2477364485441726,
          1.253669481644779,
          1.2574936356318305,
          1.2641970714423305,
          1.2676628766747888,
          1.2693876434097573,
          1.270247992806926,
          1.2750976930980236,
          1.2841084197620427,
          1.2873089647069167,
          1.290351710795863,
          1.294881647928151,
          1.2997766162097595,
          1.2999118907277518,
          1.3022057946177263,
          1.3023403911456135,
          1.3050244118187968,
          1.3224899153885668,
          1.3268478468567748,
          1.3325487458065255,
          1.3355580377015586,
          1.3387936209451605,
          1.343966545123668,
          1.3440889001635468,
          1.3467711815132883,
          1.3507604215367692,
          1.3555408714587274,
          1.3583802138340855,
          1.3652680383528235,
          1.3656147637693066,
          1.372478083137938,
          1.3756345608538842,
          1.379760327187182,
          1.3798711187291572,
          1.3818589255787124,
          1.3819690014644657,
          1.3860153299571172,
          1.3891507301395996,
          1.3917215884333427,
          1.395747743379337,
          1.3978449259504508,
          1.4007556699194201,
          1.401788064774689,
          1.4041482786504247,
          1.4049645520087006,
          1.4050664166809588,
          1.406691128845185,
          1.4083061984834726,
          1.4084068201738715,
          1.410910120945835,
          1.414276830880406,
          1.4167245741298697,
          1.4198233339905253,
          1.4230735049592549,
          1.4257174221557556,
          1.428331809116568,
          1.4315582659236468,
          1.432744912337788,
          1.4328359291683648,
          1.4416601481165716,
          1.4417473983354536,
          1.4455491185104776,
          1.4475920485090599,
          1.4496132828242794,
          1.4521919334500721,
          1.4544899250285106,
          1.4573208876076222,
          1.4593940191499355,
          1.4622224735912388,
          1.4655369293853795,
          1.467054807077813,
          1.4677329366111467,
          1.46870707079346,
          1.4698231618884927,
          1.4762001934706719,
          1.477047189016254,
          1.4824204519920459,
          1.4840941565382018,
          1.4863977934800237,
          1.4877578279683503,
          1.489482036095273,
          1.49042806467228,
          1.491614201380714,
          1.4926025068329656,
          1.4941879374930198,
          1.4953901731254187,
          1.4964002274191772,
          1.49953642922963,
          1.5007826522045635,
          1.5020106447788937,
          1.5044656661005402,
          1.505796608982458,
          1.5115187880948715,
          1.5123380258401649,
          1.5140834442467361,
          1.517984365140876,
          1.5190525868570726,
          1.5201385648063792,
          1.5214401988951511,
          1.5232053652848716,
          1.5241530554268303,
          1.5250406902863443,
          1.5260843026640485,
          1.5268548779141462,
          1.52780924376877,
          1.5283083638681738,
          1.5283413372125318,
          1.528799009091264,
          1.5292492984110742,
          1.529879762388183,
          1.5299108900928104,
          1.5311842411835592,
          1.5319677380396737,
          1.5326962645391318,
          1.5336891139290563,
          1.5342296843770344,
          1.5352133897105056,
          1.5357746853327712,
          1.5364675818134983,
          1.5369373554536394,
          1.537226810454076,
          1.5379372238070874,
          1.5384379987893806,
          1.5386341460081687,
          1.5386517515768117,
          1.539515337237075,
          1.5398203659637422,
          1.5406576494381534,
          1.5409950442971483,
          1.541485228120163,
          1.5416734918842874,
          1.5420638538153244,
          1.5422818868776098,
          1.542399278501663,
          1.5427067233484637,
          1.5427484325073442,
          1.5427542479846752,
          1.542724112366506,
          1.5426178975758083,
          1.542503669010519,
          1.5424992775668631,
          1.5422927336047372,
          1.5421601728767147,
          1.5421534461338082,
          1.5418285640421927,
          1.5409113725565244,
          1.540527696082607,
          1.540136003407842,
          1.5396974695756191,
          1.5392899859878872,
          1.5387881730791897,
          1.5387708621574203,
          1.5381784710474249,
          1.5381598794776794,
          1.5364637195815425,
          1.5324698764557476,
          1.5316467184113285,
          1.5308518543028005,
          1.5299675264844557,
          1.5292117133292389,
          1.5284342044906594,
          1.5269178987717589,
          1.5257932322711258,
          1.5250707293274166,
          1.5247038279380196,
          1.523656465673491,
          1.5221090079479704,
          1.5212322179071749,
          1.51844969216434,
          1.5174118351254071,
          1.516218312835088,
          1.5149515831054465,
          1.5132323967427892,
          1.5117522972705952,
          1.5111696376812507,
          1.510532302382123,
          1.5104830129270637,
          1.509888601509231,
          1.5098388223946513,
          1.5091379598482577,
          1.5080728237306884,
          1.5050447261415658,
          1.503646171684664,
          1.5021115605312796,
          1.4985507155119293,
          1.4984929888466736,
          1.4972134726834563,
          1.4960344564023216,
          1.4909805350187137,
          1.4883242554603782,
          1.488260200887475,
          1.4874886080555125,
          1.4869063539834892,
          1.486841470756013,
          1.4834156390180926,
          1.479474364089652,
          1.4750497596764207,
          1.4735416700235278,
          1.4710647832423533,
          1.468843135433752,
          1.4657520603954435,
          1.4645286114604332,
          1.4635274591376923,
          1.4626753583217822,
          1.4625976686145434,
          1.4614278030719245,
          1.4604070643683702,
          1.4565024498079424,
          1.454393889046547,
          1.4519292947836226,
          1.4495146302997455,
          1.4417319226793817,
          1.439186180108521,
          1.4367875304064097,
          1.4342710389163913,
          1.433001719332999,
          1.4316335416846424,
          1.430808567154998,
          1.423909770599436,
          1.4211499338198355,
          1.4184552062644133,
          1.4169021034738631,
          1.413174838910316,
          1.4102937549002563,
          1.409292932762603,
          1.4017697826524895,
          1.399804885015298,
          1.3985568911361612,
          1.3966747304658798,
          1.3955185134217212,
          1.3928737976596424,
          1.3876218660959387,
          1.384798402434846,
          1.3808469558252794,
          1.378519402132038,
          1.3753901582514887,
          1.369728773822457,
          1.3666324723022112,
          1.3642052540635219,
          1.3609431241223757,
          1.3608260733229245,
          1.3594185257723908,
          1.3576514639455413,
          1.3562317125731158,
          1.355401019475757,
          1.3534953618305616,
          1.3509795528848076,
          1.3458981027205759,
          1.3457763059903893,
          1.341981924960598,
          1.3390194800100246,
          1.3349106932199954,
          1.327717084265425,
          1.3222093444815886,
          1.3194942064449389,
          1.3159789070397494,
          1.3141453490244568,
          1.3123044084502424,
          1.3107205834723858,
          1.3086003796250472,
          1.2990756432502841,
          1.2952672039489057,
          1.2915668132450273,
          1.2865902455965688,
          1.281705115788036,
          1.2815648626605443,
          1.2777637904260604,
          1.277622482647294,
          1.2727956068296542,
          1.2647505398094179,
          1.2646058044140092,
          1.2567341588782694,
          1.2463667029769727,
          1.2421680427039996,
          1.2376367086040683,
          1.2335295238371375,
          1.227085991551786,
          1.222598108658787,
          1.2176091998880936,
          1.217296112441949,
          1.2127394135532834,
          1.2087858002272172,
          1.2064023323964927,
          1.2062431332121755,
          1.2017702636078116,
          1.2000049854525832,
          1.1975904430753754,
          1.197429172254626,
          1.195329223968241,
          1.18915441512533,
          1.1860466145015462,
          1.1816068755880704,
          1.1746460368525375,
          1.1694656557173637,
          1.1639112810249381,
          1.1578051818614048,
          1.1530222447823146,
          1.1528508794422228,
          1.1482097774675362,
          1.1431943052744282,
          1.1416313385153964,
          1.138670743758713,
          1.1335951941090712,
          1.133419610163881,
          1.1274273446878307,
          1.122459843635689,
          1.116029665201924,
          1.1115355430976355,
          1.105930137498806,
          1.1010185174721896,
          1.0947944547124333,
          1.0879717354998504,
          1.0829604509277861,
          1.0790438014265717,
          1.0764234735604428,
          1.0741716023323737,
          1.0715375639996754,
          1.0696515881137139,
          1.0670048939657204,
          1.0607370476860418,
          1.0538526158818686,
          1.0486572569962733,
          1.0484643089711696,
          1.0414930944335452,
          1.0360372898412729,
          1.0305519550133124,
          1.025037089949664,
          1.0183007679993974,
          1.015315018958654,
          1.0133198113335398,
          1.0101196445810312,
          1.007913936520315,
          1.0077131916090025,
          1.0042947652008005,
          1.0016733295252527,
          0.9986406861689074,
          0.9892877343140352,
          0.9757290676844523,
          0.969927337474118,
          0.9647222674124121,
          0.9567654745766305,
          0.9510789118598997,
          0.9508677711003095,
          0.943666573934655
         ]
        },
        {
         "line": {
          "color": "firebrick"
         },
         "mode": "lines",
         "name": "Day Trend Line",
         "type": "scatter",
         "x": [
          "1995-05-11T00:00:00",
          "1995-06-13T00:00:00",
          "1995-07-11T00:00:00",
          "1995-09-12T00:00:00",
          "1995-10-10T00:00:00",
          "1995-11-06T00:00:00",
          "1995-12-16T00:00:00",
          "1996-01-30T00:00:00",
          "1996-02-28T00:00:00",
          "1996-03-15T00:00:00",
          "1996-03-28T00:00:00",
          "1996-04-09T00:00:00",
          "1996-04-23T00:00:00",
          "1996-05-06T00:00:00",
          "1996-06-10T00:00:00",
          "1996-07-10T00:00:00",
          "1996-08-05T00:00:00",
          "1996-09-03T00:00:00",
          "1996-10-08T00:00:00",
          "1996-11-05T00:00:00",
          "1996-12-14T00:00:00",
          "1997-01-13T00:00:00",
          "1997-01-28T00:00:00",
          "1997-02-07T00:00:00",
          "1997-02-21T00:00:00",
          "1997-03-04T00:00:00",
          "1997-03-19T00:00:00",
          "1997-04-08T00:00:00",
          "1997-05-05T00:00:00",
          "1997-06-11T00:00:00",
          "1997-07-15T00:00:00",
          "1997-08-11T00:00:00",
          "1997-09-12T00:00:00",
          "1997-10-06T00:00:00",
          "1997-11-14T00:00:00",
          "1997-12-09T00:00:00",
          "1998-01-14T00:00:00",
          "1998-02-11T00:00:00",
          "1998-02-28T00:00:00",
          "1998-03-13T00:00:00",
          "1998-03-25T00:00:00",
          "1998-04-08T00:00:00",
          "1998-05-06T00:00:00",
          "1998-06-03T00:00:00",
          "1998-07-08T00:00:00",
          "1998-08-11T00:00:00",
          "1998-09-08T00:00:00",
          "1998-10-22T00:00:00",
          "1998-11-19T00:00:00",
          "1998-12-08T00:00:00",
          "1999-01-15T00:00:00",
          "1999-01-27T00:00:00",
          "1999-02-12T00:00:00",
          "1999-02-24T00:00:00",
          "1999-03-23T00:00:00",
          "1999-04-07T00:00:00",
          "1999-05-03T00:00:00",
          "1999-06-01T00:00:00",
          "1999-07-06T00:00:00",
          "1999-09-15T00:00:00",
          "1999-10-12T00:00:00",
          "1999-11-10T00:00:00",
          "1999-12-09T00:00:00",
          "2000-04-11T00:00:00",
          "2000-06-06T00:00:00",
          "2000-07-11T00:00:00",
          "2000-08-08T00:00:00",
          "2000-09-13T00:00:00",
          "2000-10-18T00:00:00",
          "2000-11-14T00:00:00",
          "2000-12-12T00:00:00",
          "2001-02-20T00:00:00",
          "2001-03-09T00:00:00",
          "2001-03-20T00:00:00",
          "2001-04-04T00:00:00",
          "2001-04-19T00:00:00",
          "2001-05-15T00:00:00",
          "2001-06-05T00:00:00",
          "2001-07-18T00:00:00",
          "2001-09-12T00:00:00",
          "2001-10-16T00:00:00",
          "2001-11-09T00:00:00",
          "2001-12-11T00:00:00",
          "2002-01-22T00:00:00",
          "2002-02-13T00:00:00",
          "2002-02-27T00:00:00",
          "2002-03-07T00:00:00",
          "2002-04-04T00:00:00",
          "2002-04-16T00:00:00",
          "2002-05-14T00:00:00",
          "2002-06-04T00:00:00",
          "2002-07-02T00:00:00",
          "2002-08-20T00:00:00",
          "2002-09-17T00:00:00",
          "2002-10-08T00:00:00",
          "2002-11-13T00:00:00",
          "2002-12-10T00:00:00",
          "2003-02-04T00:00:00",
          "2003-02-21T00:00:00",
          "2003-03-04T00:00:00",
          "2003-03-21T00:00:00",
          "2003-04-03T00:00:00",
          "2003-04-22T00:00:00",
          "2003-05-20T00:00:00",
          "2003-07-04T00:00:00",
          "2003-07-15T00:00:00",
          "2003-08-12T00:00:00",
          "2003-09-19T00:00:00",
          "2003-10-07T00:00:00",
          "2003-11-04T00:00:00",
          "2003-12-02T00:00:00",
          "2004-01-27T00:00:00",
          "2004-02-14T00:00:00",
          "2004-02-24T00:00:00",
          "2004-04-07T00:00:00",
          "2004-04-21T00:00:00",
          "2004-05-18T00:00:00",
          "2004-06-15T00:00:00",
          "2004-09-14T00:00:00",
          "2004-10-13T00:00:00",
          "2004-11-12T00:00:00",
          "2004-12-08T00:00:00",
          "2005-01-27T00:00:00",
          "2005-02-08T00:00:00",
          "2005-02-24T00:00:00",
          "2005-03-08T00:00:00",
          "2005-03-21T00:00:00",
          "2005-04-06T00:00:00",
          "2005-04-19T00:00:00",
          "2005-05-17T00:00:00",
          "2005-06-14T00:00:00",
          "2005-07-19T00:00:00",
          "2005-08-10T00:00:00",
          "2005-09-06T00:00:00",
          "2005-10-11T00:00:00",
          "2005-11-10T00:00:00",
          "2006-01-29T00:00:00",
          "2006-02-22T00:00:00",
          "2006-05-10T00:00:00",
          "2006-07-18T00:00:00",
          "2006-08-08T00:00:00",
          "2006-10-10T00:00:00",
          "2006-11-07T00:00:00",
          "2006-12-04T00:00:00",
          "2007-02-01T00:00:00",
          "2007-02-22T00:00:00",
          "2007-03-07T00:00:00",
          "2007-03-20T00:00:00",
          "2007-04-03T00:00:00",
          "2007-04-14T00:00:00",
          "2007-05-16T00:00:00",
          "2007-06-21T00:00:00",
          "2007-07-18T00:00:00",
          "2007-08-17T00:00:00",
          "2007-11-14T00:00:00",
          "2007-12-06T00:00:00",
          "2008-01-17T00:00:00",
          "2008-02-12T00:00:00",
          "2008-02-23T00:00:00",
          "2008-03-13T00:00:00",
          "2008-03-25T00:00:00",
          "2008-04-17T00:00:00",
          "2008-05-29T00:00:00",
          "2008-07-18T00:00:00",
          "2008-08-14T00:00:00",
          "2008-09-12T00:00:00",
          "2008-10-09T00:00:00",
          "2009-02-22T00:00:00",
          "2009-03-06T00:00:00",
          "2009-03-19T00:00:00",
          "2009-04-01T00:00:00",
          "2009-06-11T00:00:00",
          "2009-07-15T00:00:00",
          "2009-08-15T00:00:00",
          "2009-09-11T00:00:00",
          "2009-10-10T00:00:00",
          "2009-11-08T00:00:00",
          "2009-12-09T00:00:00",
          "2010-02-24T00:00:00",
          "2010-03-09T00:00:00",
          "2010-04-07T00:00:00",
          "2010-04-21T00:00:00",
          "2010-05-13T00:00:00",
          "2010-06-23T00:00:00",
          "2010-07-24T00:00:00",
          "2010-09-06T00:00:00",
          "2010-10-06T00:00:00",
          "2010-11-10T00:00:00",
          "2010-12-09T00:00:00",
          "2011-03-04T00:00:00",
          "2011-04-27T00:00:00",
          "2011-05-17T00:00:00",
          "2011-06-15T00:00:00",
          "2011-07-06T00:00:00",
          "2011-08-19T00:00:00",
          "2011-09-17T00:00:00",
          "2011-11-01T00:00:00",
          "2011-11-17T00:00:00",
          "2011-12-08T00:00:00",
          "2012-01-29T00:00:00",
          "2012-02-10T00:00:00",
          "2012-03-08T00:00:00",
          "2012-04-26T00:00:00",
          "2012-05-19T00:00:00",
          "2012-06-18T00:00:00",
          "2012-07-12T00:00:00",
          "2012-08-20T00:00:00",
          "2012-09-12T00:00:00",
          "2012-10-19T00:00:00",
          "2012-11-16T00:00:00",
          "2012-12-11T00:00:00",
          "2013-01-22T00:00:00",
          "2013-02-12T00:00:00",
          "2013-02-26T00:00:00",
          "2013-03-12T00:00:00",
          "2013-04-06T00:00:00",
          "2013-04-24T00:00:00",
          "2013-05-15T00:00:00",
          "2013-06-16T00:00:00",
          "2013-07-05T00:00:00",
          "2013-08-02T00:00:00",
          "2013-09-17T00:00:00",
          "2013-10-19T00:00:00",
          "2013-11-14T00:00:00",
          "2013-12-09T00:00:00",
          "2014-03-06T00:00:00",
          "2014-04-11T00:00:00",
          "2014-04-29T00:00:00",
          "2014-06-12T00:00:00",
          "2014-07-10T00:00:00",
          "2014-08-20T00:00:00",
          "2014-09-13T00:00:00",
          "2014-10-28T00:00:00",
          "2014-11-20T00:00:00",
          "2014-12-11T00:00:00",
          "2015-02-05T00:00:00",
          "2015-02-20T00:00:00",
          "2015-04-08T00:00:00",
          "2015-04-24T00:00:00",
          "2015-06-23T00:00:00",
          "2015-07-15T00:00:00",
          "2015-08-18T00:00:00",
          "2015-09-12T00:00:00",
          "2015-11-30T00:00:00",
          "2015-12-12T00:00:00",
          "2016-03-08T00:00:00",
          "2016-03-23T00:00:00",
          "2016-04-05T00:00:00",
          "2016-04-15T00:00:00",
          "2016-05-04T00:00:00",
          "2016-06-14T00:00:00",
          "2016-07-22T00:00:00",
          "2016-08-17T00:00:00",
          "2016-09-20T00:00:00",
          "2016-10-19T00:00:00",
          "2016-11-19T00:00:00",
          "2016-12-13T00:00:00",
          "2017-01-07T00:00:00",
          "2017-02-19T00:00:00",
          "2017-05-09T00:00:00",
          "2017-05-30T00:00:00",
          "2017-06-13T00:00:00",
          "2017-07-18T00:00:00",
          "2017-08-15T00:00:00",
          "2017-09-12T00:00:00",
          "2017-10-17T00:00:00",
          "2017-10-18T00:00:00",
          "2017-11-17T00:00:00",
          "2017-12-12T00:00:00",
          "2018-01-15T00:00:00",
          "2018-02-10T00:00:00",
          "2018-02-27T00:00:00",
          "2018-04-16T00:00:00",
          "2018-04-26T00:00:00",
          "2018-05-23T00:00:00",
          "2018-06-12T00:00:00",
          "2018-07-20T00:00:00",
          "2018-08-13T00:00:00",
          "2018-09-12T00:00:00",
          "2018-10-18T00:00:00",
          "2018-11-06T00:00:00",
          "2018-12-14T00:00:00",
          "2019-01-11T00:00:00",
          "2019-04-10T00:00:00",
          "2019-05-13T00:00:00",
          "2019-06-07T00:00:00",
          "2019-07-16T00:00:00",
          "2019-08-19T00:00:00",
          "2019-09-09T00:00:00",
          "2019-10-23T00:00:00",
          "2019-11-17T00:00:00",
          "2019-12-11T00:00:00",
          "2020-01-26T00:00:00",
          "2020-02-27T00:00:00",
          "2020-07-10T00:00:00",
          "2020-07-31T00:00:00",
          "2020-08-18T00:00:00",
          "2020-09-24T00:00:00",
          "2020-10-26T00:00:00",
          "2020-11-18T00:00:00",
          "2020-12-11T00:00:00",
          "2021-01-25T00:00:00",
          "2021-02-13T00:00:00",
          "2021-03-18T00:00:00",
          "2021-03-25T00:00:00",
          "2021-04-06T00:00:00",
          "2021-05-12T00:00:00",
          "2021-06-15T00:00:00",
          "2021-07-11T00:00:00",
          "2021-08-19T00:00:00",
          "2021-09-12T00:00:00",
          "2021-10-05T00:00:00",
          "2021-11-17T00:00:00",
          "2021-12-13T00:00:00",
          "2022-01-12T00:00:00",
          "2022-03-29T00:00:00",
          "2022-05-01T00:00:00",
          "2022-05-23T00:00:00",
          "2022-06-30T00:00:00",
          "2022-07-16T00:00:00",
          "2022-08-13T00:00:00",
          "2022-11-24T00:00:00",
          "2022-12-13T00:00:00"
         ],
         "y": [
          0.6651922478767349,
          0.6686779164087098,
          0.671617900963371,
          0.67817395063555,
          0.6810615657894922,
          0.6838307911243438,
          0.6879058059683762,
          0.6924508897876634,
          0.6953578902853177,
          0.6969543534984513,
          0.6982476055922323,
          0.6994382937847226,
          0.7008236893378146,
          0.7021065209896158,
          0.7055430338760962,
          0.7084685770387227,
          0.7109890850937458,
          0.7137840298721219,
          0.7171342195706037,
          0.7197962434599094,
          0.7234772097711758,
          0.7262874498184041,
          0.7276856331572683,
          0.7286151862406779,
          0.7299131076299312,
          0.7309300769504519,
          0.7323128454343163,
          0.7341493431471358,
          0.7366155740921122,
          0.7399708889878388,
          0.7430293436844728,
          0.7454411910210101,
          0.7482802745890429,
          0.7503957755549876,
          0.7538082150921581,
          0.7559792338219344,
          0.7590829334450927,
          0.7614785064274426,
          0.762925099876391,
          0.7640273105338751,
          0.7650416527851681,
          0.7662213114068634,
          0.7685685434039342,
          0.7708996617392452,
          0.7737908998215344,
          0.7765754222682528,
          0.7788507182753247,
          0.7823936272555354,
          0.7846274881323679,
          0.7861341453217803,
          0.789125200649985,
          0.7900635784958393,
          0.7913101450536184,
          0.7922416170444329,
          0.7943266077955553,
          0.7954784617515235,
          0.7974640537849151,
          0.7996623614622407,
          0.802292471900834,
          0.8075504973247332,
          0.8095228363155175,
          0.8116245853411246,
          0.813709049175992,
          0.822426961935595,
          0.8262604960014301,
          0.8286237239171277,
          0.8304961783802061,
          0.8328799426154557,
          0.8351719539010545,
          0.8369228739146223,
          0.8387228168997818,
          0.8431521770924816,
          0.8442126798065361,
          0.8448957222614819,
          0.8458231359286537,
          0.8467459251393256,
          0.8483344716142035,
          0.8496073854077844,
          0.852185546816858,
          0.8554861790687817,
          0.857458688060393,
          0.8588367423631496,
          0.8606557324867184,
          0.8630112174443432,
          0.8642305734877773,
          0.8650013479423191,
          0.8654399818114515,
          0.8669648415708554,
          0.8676134201427144,
          0.8691152603853185,
          0.8702310659767418,
          0.8717047073112666,
          0.8742448061480754,
          0.8756741349127608,
          0.876735556895745,
          0.878534049916364,
          0.8798654392362585,
          0.8825790738097916,
          0.88339010251053,
          0.8839117206039184,
          0.8847129660100171,
          0.8853216752229691,
          0.8862050789950313,
          0.8874934132193188,
          0.8895301918330459,
          0.8900217406826149,
          0.8912617339216233,
          0.8929188082512894,
          0.8936933794143609,
          0.8948850316680901,
          0.8960605702600595,
          0.8983633064587191,
          0.8990897832741913,
          0.8994905040654093,
          0.901190183164617,
          0.9017353663545222,
          0.9027754149149214,
          0.9038381578745727,
          0.9071807875169109,
          0.9082102586755951,
          0.9092570393108514,
          0.9101492865088205,
          0.9118260955389156,
          0.9122208839380584,
          0.9127426645668891,
          0.9131305471109922,
          0.9135474133151872,
          0.914055711084178,
          0.9144648287545931,
          0.9153342077731275,
          0.916187473129902,
          0.9172313949890205,
          0.9178746876245438,
          0.9186505872296672,
          0.9196340828571867,
          0.9204570397978467,
          0.9225611578236078,
          0.9231667429126167,
          0.9250297408549644,
          0.9265956544033573,
          0.9270528140703511,
          0.9283699094628935,
          0.9289291004925528,
          0.9294530597075602,
          0.9305458643056563,
          0.9309175640165316,
          0.9311431215936097,
          0.9313652056900277,
          0.931600488635018,
          0.9317825277493319,
          0.9322979555215616,
          0.9328526547219604,
          0.9332511986766898,
          0.9336764523583561,
          0.9348291991277642,
          0.9350890523834536,
          0.9355575124514284,
          0.9358293425653674,
          0.9359401650495824,
          0.9361257280592357,
          0.936239102865503,
          0.9364481319386657,
          0.9368017821666024,
          0.9371755221207181,
          0.9373559767069108,
          0.9375331091498087,
          0.937682487388322,
          0.9382071001044846,
          0.9382351382734734,
          0.9382621730712946,
          0.9382857343884559,
          0.9383531259648576,
          0.9383487106324604,
          0.9383239775996662,
          0.9382863428173226,
          0.9382292311236441,
          0.9381548342392259,
          0.9380561921149928,
          0.9377257178502956,
          0.9376578999070182,
          0.9374940968636014,
          0.9374088330371568,
          0.9372667079807326,
          0.9369752941770871,
          0.9367320196066764,
          0.9363528139870296,
          0.936071450715507,
          0.9357198143686478,
          0.9354093852244734,
          0.9343999267351464,
          0.9336814877604491,
          0.9334001899277024,
          0.9329777050642496,
          0.9326609773508359,
          0.9319679663896739,
          0.9314894536665821,
          0.930712712945754,
          0.9304265085349175,
          0.9300428803508047,
          0.9290539340351871,
          0.9288178232489,
          0.9282757527515444,
          0.9272537252355899,
          0.9267569800343038,
          0.9260927117645874,
          0.9255479787140946,
          0.924637537974554,
          0.9240859569957487,
          0.9231758170879232,
          0.9224683592056826,
          0.9218230839270037,
          0.9207101031908437,
          0.920140016920654,
          0.9197549238878941,
          0.9193658024396943,
          0.9186609230550165,
          0.9181454558328684,
          0.9175356608961993,
          0.9165890205014122,
          0.9160169947706776,
          0.9151604855171593,
          0.9137183817278143,
          0.9126895287730286,
          0.9118380886797053,
          0.9110062936555294,
          0.9080115120733189,
          0.906726787456307,
          0.9060744363217611,
          0.904451765732134,
          0.903398439609979,
          0.9018269968002939,
          0.9008910963893272,
          0.8991043743689151,
          0.8981750883363359,
          0.8973171142341707,
          0.894984870725224,
          0.8943492180954207,
          0.8923275605970573,
          0.8916289779852673,
          0.8889624320318559,
          0.8879661595833253,
          0.8864068992099529,
          0.8852452262887822,
          0.8814899075587643,
          0.8809082573828028,
          0.876602781509673,
          0.8758447349311715,
          0.8751840205583237,
          0.8746734151219563,
          0.873697602402788,
          0.8715666209097518,
          0.8695607146286761,
          0.8681711522238815,
          0.8663330679532736,
          0.8647465148996594,
          0.8630314299738722,
          0.861690057216992,
          0.8602802051303253,
          0.8578252108505791,
          0.8532158269410147,
          0.8519689668769156,
          0.8511326913148831,
          0.8490243780922517,
          0.8473195996446671,
          0.8455987075353226,
          0.8434249325617924,
          0.8433624547488858,
          0.8414785631515889,
          0.839894523203425,
          0.8377196140745024,
          0.8360404168208323,
          0.8349349679823014,
          0.8317816377751084,
          0.8311187335713432,
          0.8293186259277476,
          0.8279755528826177,
          0.8254010645365911,
          0.8237597803608357,
          0.8216915270977416,
          0.8191852060517092,
          0.8178516864839867,
          0.815162388297922,
          0.813161809059462,
          0.8066958151280916,
          0.8042569382894607,
          0.8023944032943012,
          0.7994631983831328,
          0.7968822825266566,
          0.7952763180004834,
          0.7918820489554445,
          0.7899357599147863,
          0.7880552371894347,
          0.7844178114104445,
          0.7818617779411232,
          0.7709297957652632,
          0.7691831244426522,
          0.76767876344256,
          0.7645655530113097,
          0.7618503560258307,
          0.759885808331468,
          0.7579103880260455,
          0.754013988950367,
          0.7523563463648497,
          0.7494596483327262,
          0.748842319795403,
          0.7477816992448891,
          0.7445820796803876,
          0.7415357585217589,
          0.7391901873630194,
          0.7356457795199609,
          0.7334490672888542,
          0.7313327757618739,
          0.727347065827512,
          0.7249186655145741,
          0.7220994005158918,
          0.714874474471312,
          0.7117003707086128,
          0.7095718668837803,
          0.7058719296976516,
          0.7043051824522755,
          0.7015507140386275,
          0.6912795434722717,
          0.6893610404338785
         ]
        },
        {
         "line": {
          "color": "royalblue"
         },
         "mode": "lines",
         "name": "Night Trend Line",
         "type": "scatter",
         "x": [
          "1995-05-10T00:00:00",
          "1995-06-13T00:00:00",
          "1995-06-14T00:00:00",
          "1995-07-11T00:00:00",
          "1995-08-18T00:00:00",
          "1995-09-12T00:00:00",
          "1995-10-10T00:00:00",
          "1995-12-15T00:00:00",
          "1996-01-30T00:00:00",
          "1996-02-14T00:00:00",
          "1996-02-27T00:00:00",
          "1996-03-15T00:00:00",
          "1996-03-16T00:00:00",
          "1996-03-27T00:00:00",
          "1996-04-12T00:00:00",
          "1996-04-22T00:00:00",
          "1996-05-07T00:00:00",
          "1996-06-10T00:00:00",
          "1996-07-08T00:00:00",
          "1996-08-05T00:00:00",
          "1996-09-02T00:00:00",
          "1996-10-08T00:00:00",
          "1996-10-09T00:00:00",
          "1996-11-05T00:00:00",
          "1996-12-11T00:00:00",
          "1997-01-13T00:00:00",
          "1997-01-27T00:00:00",
          "1997-02-06T00:00:00",
          "1997-02-20T00:00:00",
          "1997-03-04T00:00:00",
          "1997-03-18T00:00:00",
          "1997-04-08T00:00:00",
          "1997-05-05T00:00:00",
          "1997-06-11T00:00:00",
          "1997-07-15T00:00:00",
          "1997-08-11T00:00:00",
          "1997-09-11T00:00:00",
          "1997-10-06T00:00:00",
          "1997-11-11T00:00:00",
          "1997-12-09T00:00:00",
          "1998-01-12T00:00:00",
          "1998-01-13T00:00:00",
          "1998-02-11T00:00:00",
          "1998-02-28T00:00:00",
          "1998-03-09T00:00:00",
          "1998-04-07T00:00:00",
          "1998-05-04T00:00:00",
          "1998-05-05T00:00:00",
          "1998-06-02T00:00:00",
          "1998-07-08T00:00:00",
          "1998-08-10T00:00:00",
          "1998-09-10T00:00:00",
          "1998-10-22T00:00:00",
          "1998-11-18T00:00:00",
          "1998-12-07T00:00:00",
          "1999-01-14T00:00:00",
          "1999-01-27T00:00:00",
          "1999-01-28T00:00:00",
          "1999-02-12T00:00:00",
          "1999-02-23T00:00:00",
          "1999-03-23T00:00:00",
          "1999-03-24T00:00:00",
          "1999-04-08T00:00:00",
          "1999-05-03T00:00:00",
          "1999-06-01T00:00:00",
          "1999-06-03T00:00:00",
          "1999-07-05T00:00:00",
          "1999-08-03T00:00:00",
          "1999-09-14T00:00:00",
          "1999-10-11T00:00:00",
          "1999-11-10T00:00:00",
          "1999-12-08T00:00:00",
          "2000-02-16T00:00:00",
          "2000-04-10T00:00:00",
          "2000-04-11T00:00:00",
          "2000-06-06T00:00:00",
          "2000-07-10T00:00:00",
          "2000-07-11T00:00:00",
          "2000-08-07T00:00:00",
          "2000-08-08T00:00:00",
          "2000-09-12T00:00:00",
          "2000-10-18T00:00:00",
          "2000-11-14T00:00:00",
          "2000-12-12T00:00:00",
          "2001-02-21T00:00:00",
          "2001-03-09T00:00:00",
          "2001-03-21T00:00:00",
          "2001-04-04T00:00:00",
          "2001-04-18T00:00:00",
          "2001-05-15T00:00:00",
          "2001-06-05T00:00:00",
          "2001-07-18T00:00:00",
          "2001-09-13T00:00:00",
          "2001-10-16T00:00:00",
          "2001-11-09T00:00:00",
          "2001-12-10T00:00:00",
          "2001-12-11T00:00:00",
          "2002-01-22T00:00:00",
          "2002-02-12T00:00:00",
          "2002-02-28T00:00:00",
          "2002-03-07T00:00:00",
          "2002-03-19T00:00:00",
          "2002-04-03T00:00:00",
          "2002-04-15T00:00:00",
          "2002-04-16T00:00:00",
          "2002-05-14T00:00:00",
          "2002-06-04T00:00:00",
          "2002-07-01T00:00:00",
          "2002-08-20T00:00:00",
          "2002-09-17T00:00:00",
          "2002-10-08T00:00:00",
          "2002-11-13T00:00:00",
          "2002-12-09T00:00:00",
          "2003-01-27T00:00:00",
          "2003-02-21T00:00:00",
          "2003-03-04T00:00:00",
          "2003-03-22T00:00:00",
          "2003-04-03T00:00:00",
          "2003-04-22T00:00:00",
          "2003-07-05T00:00:00",
          "2003-07-15T00:00:00",
          "2003-08-13T00:00:00",
          "2003-09-20T00:00:00",
          "2003-10-06T00:00:00",
          "2003-11-03T00:00:00",
          "2003-12-02T00:00:00",
          "2004-02-14T00:00:00",
          "2004-02-23T00:00:00",
          "2004-03-09T00:00:00",
          "2004-03-23T00:00:00",
          "2004-04-20T00:00:00",
          "2004-05-17T00:00:00",
          "2004-06-15T00:00:00",
          "2004-09-14T00:00:00",
          "2004-10-13T00:00:00",
          "2004-11-12T00:00:00",
          "2004-12-08T00:00:00",
          "2005-01-26T00:00:00",
          "2005-02-08T00:00:00",
          "2005-02-23T00:00:00",
          "2005-02-24T00:00:00",
          "2005-03-07T00:00:00",
          "2005-03-20T00:00:00",
          "2005-04-05T00:00:00",
          "2005-05-16T00:00:00",
          "2005-06-15T00:00:00",
          "2005-07-19T00:00:00",
          "2005-08-09T00:00:00",
          "2005-10-11T00:00:00",
          "2005-12-08T00:00:00",
          "2006-01-29T00:00:00",
          "2006-01-30T00:00:00",
          "2006-02-08T00:00:00",
          "2006-02-20T00:00:00",
          "2006-02-21T00:00:00",
          "2006-04-04T00:00:00",
          "2006-06-26T00:00:00",
          "2006-07-16T00:00:00",
          "2006-08-07T00:00:00",
          "2006-08-08T00:00:00",
          "2006-10-10T00:00:00",
          "2006-11-07T00:00:00",
          "2006-12-03T00:00:00",
          "2007-01-30T00:00:00",
          "2007-02-20T00:00:00",
          "2007-03-06T00:00:00",
          "2007-03-07T00:00:00",
          "2007-03-19T00:00:00",
          "2007-03-20T00:00:00",
          "2007-04-02T00:00:00",
          "2007-04-14T00:00:00",
          "2007-05-15T00:00:00",
          "2007-06-21T00:00:00",
          "2007-07-19T00:00:00",
          "2007-08-15T00:00:00",
          "2007-09-08T00:00:00",
          "2007-11-14T00:00:00",
          "2007-12-06T00:00:00",
          "2008-01-15T00:00:00",
          "2008-02-12T00:00:00",
          "2008-02-22T00:00:00",
          "2008-03-13T00:00:00",
          "2008-04-14T00:00:00",
          "2008-05-29T00:00:00",
          "2008-06-22T00:00:00",
          "2008-07-16T00:00:00",
          "2008-08-14T00:00:00",
          "2008-09-10T00:00:00",
          "2008-10-09T00:00:00",
          "2009-03-19T00:00:00",
          "2009-06-11T00:00:00",
          "2009-06-12T00:00:00",
          "2009-07-15T00:00:00",
          "2009-07-16T00:00:00",
          "2009-08-15T00:00:00",
          "2009-09-10T00:00:00",
          "2009-10-10T00:00:00",
          "2009-11-08T00:00:00",
          "2009-12-09T00:00:00",
          "2010-03-10T00:00:00",
          "2010-04-22T00:00:00",
          "2010-04-23T00:00:00",
          "2010-05-14T00:00:00",
          "2010-06-23T00:00:00",
          "2010-06-24T00:00:00",
          "2010-07-24T00:00:00",
          "2010-09-06T00:00:00",
          "2010-10-05T00:00:00",
          "2010-11-09T00:00:00",
          "2010-12-09T00:00:00",
          "2011-03-05T00:00:00",
          "2011-03-26T00:00:00",
          "2011-04-28T00:00:00",
          "2011-06-15T00:00:00",
          "2011-07-05T00:00:00",
          "2011-08-20T00:00:00",
          "2011-09-17T00:00:00",
          "2011-11-17T00:00:00",
          "2011-12-07T00:00:00",
          "2012-01-28T00:00:00",
          "2012-01-29T00:00:00",
          "2012-02-09T00:00:00",
          "2012-03-07T00:00:00",
          "2012-04-12T00:00:00",
          "2012-04-26T00:00:00",
          "2012-05-18T00:00:00",
          "2012-06-18T00:00:00",
          "2012-07-12T00:00:00",
          "2012-08-21T00:00:00",
          "2012-09-11T00:00:00",
          "2012-10-18T00:00:00",
          "2012-11-13T00:00:00",
          "2012-12-10T00:00:00",
          "2013-01-21T00:00:00",
          "2013-01-22T00:00:00",
          "2013-02-11T00:00:00",
          "2013-02-25T00:00:00",
          "2013-03-11T00:00:00",
          "2013-03-12T00:00:00",
          "2013-03-27T00:00:00",
          "2013-04-24T00:00:00",
          "2013-05-16T00:00:00",
          "2013-06-14T00:00:00",
          "2013-07-08T00:00:00",
          "2013-08-02T00:00:00",
          "2013-09-16T00:00:00",
          "2013-10-18T00:00:00",
          "2013-11-13T00:00:00",
          "2013-12-08T00:00:00",
          "2014-03-05T00:00:00",
          "2014-04-11T00:00:00",
          "2014-04-28T00:00:00",
          "2014-08-19T00:00:00",
          "2014-09-13T00:00:00",
          "2014-10-28T00:00:00",
          "2014-11-19T00:00:00",
          "2014-12-11T00:00:00",
          "2015-02-03T00:00:00",
          "2015-02-20T00:00:00",
          "2015-03-12T00:00:00",
          "2015-04-07T00:00:00",
          "2015-04-23T00:00:00",
          "2015-05-12T00:00:00",
          "2015-05-27T00:00:00",
          "2015-06-23T00:00:00",
          "2015-07-14T00:00:00",
          "2015-08-18T00:00:00",
          "2015-09-12T00:00:00",
          "2015-11-29T00:00:00",
          "2015-12-11T00:00:00",
          "2016-03-08T00:00:00",
          "2016-03-23T00:00:00",
          "2016-04-05T00:00:00",
          "2016-04-14T00:00:00",
          "2016-05-04T00:00:00",
          "2016-06-16T00:00:00",
          "2016-07-22T00:00:00",
          "2016-08-17T00:00:00",
          "2016-09-21T00:00:00",
          "2016-10-19T00:00:00",
          "2016-11-19T00:00:00",
          "2016-12-13T00:00:00",
          "2017-01-06T00:00:00",
          "2017-02-19T00:00:00",
          "2017-02-20T00:00:00",
          "2017-05-30T00:00:00",
          "2017-05-31T00:00:00",
          "2017-06-13T00:00:00",
          "2017-07-18T00:00:00",
          "2017-08-15T00:00:00",
          "2017-09-12T00:00:00",
          "2017-10-16T00:00:00",
          "2017-11-17T00:00:00",
          "2017-12-12T00:00:00",
          "2018-01-15T00:00:00",
          "2018-02-09T00:00:00",
          "2018-02-10T00:00:00",
          "2018-02-26T00:00:00",
          "2018-03-14T00:00:00",
          "2018-03-15T00:00:00",
          "2018-03-23T00:00:00",
          "2018-04-15T00:00:00",
          "2018-04-25T00:00:00",
          "2018-05-23T00:00:00",
          "2018-06-12T00:00:00",
          "2018-07-20T00:00:00",
          "2018-08-13T00:00:00",
          "2018-09-11T00:00:00",
          "2018-10-18T00:00:00",
          "2018-10-19T00:00:00",
          "2018-11-06T00:00:00",
          "2018-11-07T00:00:00",
          "2018-12-14T00:00:00",
          "2019-01-11T00:00:00",
          "2019-03-12T00:00:00",
          "2019-03-15T00:00:00",
          "2019-05-13T00:00:00",
          "2019-06-06T00:00:00",
          "2019-07-16T00:00:00",
          "2019-08-18T00:00:00",
          "2019-09-09T00:00:00",
          "2019-09-10T00:00:00",
          "2019-10-22T00:00:00",
          "2019-11-17T00:00:00",
          "2019-12-11T00:00:00",
          "2020-01-25T00:00:00",
          "2020-02-28T00:00:00",
          "2020-07-10T00:00:00",
          "2020-07-30T00:00:00",
          "2020-07-31T00:00:00",
          "2020-08-17T00:00:00",
          "2020-08-18T00:00:00",
          "2020-09-23T00:00:00",
          "2020-10-26T00:00:00",
          "2020-11-17T00:00:00",
          "2020-12-10T00:00:00",
          "2021-02-12T00:00:00",
          "2021-03-18T00:00:00",
          "2021-03-24T00:00:00",
          "2021-04-05T00:00:00",
          "2021-04-29T00:00:00",
          "2021-06-14T00:00:00",
          "2021-07-10T00:00:00",
          "2021-08-19T00:00:00",
          "2021-10-04T00:00:00",
          "2021-11-16T00:00:00",
          "2021-12-13T00:00:00",
          "2022-01-12T00:00:00",
          "2022-03-29T00:00:00",
          "2022-05-01T00:00:00",
          "2022-05-23T00:00:00",
          "2022-07-15T00:00:00",
          "2022-08-13T00:00:00",
          "2022-09-17T00:00:00",
          "2022-09-18T00:00:00",
          "2022-11-23T00:00:00",
          "2022-12-13T00:00:00"
         ],
         "y": [
          1.009504124179205,
          1.0167053213448596,
          1.0169164621044497,
          1.0226030248211806,
          1.0305598176569621,
          1.035764887718668,
          1.0415666179290024,
          1.0551252845585852,
          1.0644782364134575,
          1.0675108797698027,
          1.0701323154453506,
          1.0735507418535526,
          1.073751486764865,
          1.0759571948255813,
          1.0791573615780898,
          1.081152569203204,
          1.0841383182439475,
          1.090874640194214,
          1.0963895052578625,
          1.101874840085823,
          1.1073306446780953,
          1.1143018592157197,
          1.1144948072408234,
          1.1196901661264187,
          1.126574597930592,
          1.1328424442102705,
          1.135489138358264,
          1.1373751142442254,
          1.1400091525769238,
          1.1422610238049928,
          1.1448813516711218,
          1.1487980011723362,
          1.1538092857444004,
          1.1606320049569834,
          1.1668560677167397,
          1.171767687743356,
          1.1773730933421855,
          1.181867215446474,
          1.188297393880239,
          1.1932648949323807,
          1.199257160408431,
          1.1994327443536212,
          1.204508294003263,
          1.2074688887599465,
          1.2090318555189783,
          1.2140473277120862,
          1.2186884296867728,
          1.2188597950268647,
          1.2236427321059549,
          1.2297488312694882,
          1.2353032059619138,
          1.2404835870970876,
          1.2474444258326205,
          1.2518841647460963,
          1.25499196536988,
          1.261166774212791,
          1.263266722499176,
          1.2634279933199255,
          1.2658425356971332,
          1.2676078138523617,
          1.2720806834567255,
          1.2722398826410428,
          1.2746233504717672,
          1.2785769637978335,
          1.283133662686499,
          1.2834467501326436,
          1.288435658903337,
          1.292923541796336,
          1.2993670740816876,
          1.3034742588486183,
          1.3080055929485497,
          1.3122042532215228,
          1.3225717091228195,
          1.3304433546585592,
          1.330588090053968,
          1.3386331570742043,
          1.343460032891844,
          1.3436013406706104,
          1.3474024129050943,
          1.347542666032586,
          1.3524277958411188,
          1.3574043634895774,
          1.3611047541934558,
          1.3649131934948342,
          1.3744379298695972,
          1.376558133716936,
          1.3781419586947925,
          1.3799828992690069,
          1.3818164572842995,
          1.385331756689489,
          1.3880468947261386,
          1.393554634509975,
          1.4007482434645455,
          1.4048570302545746,
          1.407819475205148,
          1.4116138562349394,
          1.411735652965126,
          1.4168171031293577,
          1.4193329120751117,
          1.4212385697203072,
          1.4220692628176659,
          1.4234890141900913,
          1.4252560760169408,
          1.4266636235674746,
          1.4267806743669258,
          1.430042804308072,
          1.4324700225467613,
          1.4355663240670071,
          1.4412277084960388,
          1.444356952376588,
          1.4466845060698295,
          1.4506359526793962,
          1.4534594163404888,
          1.4587113479041924,
          1.4613560636662712,
          1.4625122807104298,
          1.4643944413807113,
          1.465642435259848,
          1.4676073328970396,
          1.475130483007153,
          1.4761313051448064,
          1.479012389154866,
          1.4827396537184132,
          1.4842927565089634,
          1.4869874840643855,
          1.489747320843986,
          1.496646117399548,
          1.4974710919291925,
          1.498839269577549,
          1.5001085891609414,
          1.5026250806509598,
          1.5050237303530711,
          1.5075694729239317,
          1.5153521805442955,
          1.5177668450281727,
          1.5202314392910972,
          1.5223400000524925,
          1.5262446146129203,
          1.5272653533164746,
          1.5284352188590935,
          1.5285129085663323,
          1.5293650093822424,
          1.5303661617049833,
          1.5315896106399935,
          1.534680685678302,
          1.5369023334869034,
          1.5393792202680778,
          1.5408873099209708,
          1.545311914334202,
          1.5492531892626427,
          1.552679021000563,
          1.5527439042280393,
          1.5533261583000626,
          1.554097751132025,
          1.5541618057049282,
          1.5568180852632638,
          1.5618720066468716,
          1.5630510229280064,
          1.5643305390912237,
          1.5643882657564794,
          1.5679491107758297,
          1.5694837219292141,
          1.5708822763861159,
          1.5739103739752385,
          1.5749755100928078,
          1.5756763726392014,
          1.575726151753781,
          1.5763205631716137,
          1.5763698526266732,
          1.5770071879258007,
          1.5775898475151453,
          1.5790699469873393,
          1.5807891333499966,
          1.582055863079638,
          1.5832493853699572,
          1.58428724240889,
          1.587069768151725,
          1.5879465581925205,
          1.589494015918041,
          1.5905413781825697,
          1.5909082795719667,
          1.591630782515676,
          1.592755449016309,
          1.5942717547352094,
          1.595049263573789,
          1.5958050767290057,
          1.5966894045473505,
          1.5974842686558786,
          1.5983074267002977,
          1.6023012698260926,
          1.6039974297222295,
          1.604016021291975,
          1.6046084124019704,
          1.6046257233237398,
          1.6051275362324373,
          1.6055350198201692,
          1.605973553652392,
          1.6063652463271572,
          1.6067489228010745,
          1.6076661142867428,
          1.6079909963783583,
          1.6079977231212648,
          1.6081302838492872,
          1.6083368278114132,
          1.608341219255069,
          1.6084554478203583,
          1.6085616626110562,
          1.6085917982292253,
          1.6085859827518942,
          1.6085442735930138,
          1.608236828746213,
          1.6081194371221599,
          1.6079014040598745,
          1.6075110421288374,
          1.607322778364713,
          1.6068325945416984,
          1.6064951996827035,
          1.6056579162082922,
          1.605352887481625,
          1.6044893018213617,
          1.6044716962527188,
          1.6042755490339307,
          1.6037747740516375,
          1.6030643606986261,
          1.6027749056981895,
          1.6023051320580484,
          1.6016122355773212,
          1.6010509399550557,
          1.6000672346215845,
          1.5995266641736063,
          1.5985338147836818,
          1.5978052882842237,
          1.5970217914281093,
          1.5957484403373605,
          1.595717312632733,
          1.5950868486556242,
          1.594636559335814,
          1.594178887457082,
          1.5941459141127239,
          1.59364679401332,
          1.5926924281586963,
          1.5919218529085986,
          1.5908782405308943,
          1.5899906056713804,
          1.5890429155294217,
          1.5872777491397012,
          1.5859761150509293,
          1.5848901371016226,
          1.583821915385426,
          1.5799209944912862,
          1.578175576084715,
          1.5773563383394216,
          1.571634159227008,
          1.5703032163450903,
          1.5678481950234437,
          1.5666202024491136,
          1.56537397947418,
          1.5622377776637273,
          1.5612277233699687,
          1.5600254877375699,
          1.5584400570775157,
          1.5574517516252642,
          1.5562656149168301,
          1.555319586339823,
          1.5535953782129004,
          1.5522353437245737,
          1.5499317067827518,
          1.548258002236596,
          1.542884739260804,
          1.542037743715222,
          1.5356607121330428,
          1.53454462103801,
          1.5335704868556967,
          1.5328923573223632,
          1.5313744796299296,
          1.5280600238357889,
          1.5252315693944856,
          1.5231584378521723,
          1.5203274752730607,
          1.5180294836946222,
          1.5154508330688294,
          1.51342959875361,
          1.5113866687550277,
          1.5075849485800037,
          1.5074976983611217,
          1.4986734794129148,
          1.498582462582338,
          1.4973958161681968,
          1.494169359361118,
          1.4915549724003057,
          1.488911055203805,
          1.4856608842350754,
          1.4825621243744198,
          1.480114381124956,
          1.476747671190385,
          1.4742443704184216,
          1.4741437487280227,
          1.4725286790897352,
          1.4709039669255088,
          1.4708021022532507,
          1.4699858288949748,
          1.467625615019239,
          1.4665932201639702,
          1.463682476195001,
          1.4615852936238871,
          1.4575591386778928,
          1.4549882803841496,
          1.4518528802016673,
          1.4478065517090157,
          1.4476964758232624,
          1.4457086689737073,
          1.445597877431732,
          1.4414721110984343,
          1.438315633382488,
          1.4314523140138566,
          1.4311055885973736,
          1.4242177640786355,
          1.4213784217032774,
          1.4165979717813193,
          1.4126087317578384,
          1.4099264504080968,
          1.409804095368218,
          1.4046311711897106,
          1.4013955879461086,
          1.3983862960510756,
          1.3926853971013249,
          1.3883274656331168,
          1.3708619620633469,
          1.3681779413901636,
          1.3680433448622764,
          1.3657494409723019,
          1.3656141664543096,
          1.3607191981727011,
          1.3561892610404132,
          1.3531465149514668,
          1.3499459700065928,
          1.3409352433425736,
          1.336085543051476,
          1.3352251936543074,
          1.333500426919339,
          1.3300346216868806,
          1.3233311858763805,
          1.3195070318893292,
          1.3135739987887227,
          1.3066765071437,
          1.300156777795527,
          1.2960273997708078,
          1.291406997435573,
          1.2795502590672396,
          1.2743341959486036,
          1.2708340325354257,
          1.2623269592689685,
          1.257627360581817,
          1.2519132450808228,
          1.251749306647832,
          1.2408460902858758,
          1.2375096924671307
         ]
        }
       ],
       "layout": {
        "height": 600,
        "template": {
         "data": {
          "bar": [
           {
            "error_x": {
             "color": "#2a3f5f"
            },
            "error_y": {
             "color": "#2a3f5f"
            },
            "marker": {
             "line": {
              "color": "#E5ECF6",
              "width": 0.5
             },
             "pattern": {
              "fillmode": "overlay",
              "size": 10,
              "solidity": 0.2
             }
            },
            "type": "bar"
           }
          ],
          "barpolar": [
           {
            "marker": {
             "line": {
              "color": "#E5ECF6",
              "width": 0.5
             },
             "pattern": {
              "fillmode": "overlay",
              "size": 10,
              "solidity": 0.2
             }
            },
            "type": "barpolar"
           }
          ],
          "carpet": [
           {
            "aaxis": {
             "endlinecolor": "#2a3f5f",
             "gridcolor": "white",
             "linecolor": "white",
             "minorgridcolor": "white",
             "startlinecolor": "#2a3f5f"
            },
            "baxis": {
             "endlinecolor": "#2a3f5f",
             "gridcolor": "white",
             "linecolor": "white",
             "minorgridcolor": "white",
             "startlinecolor": "#2a3f5f"
            },
            "type": "carpet"
           }
          ],
          "choropleth": [
           {
            "colorbar": {
             "outlinewidth": 0,
             "ticks": ""
            },
            "type": "choropleth"
           }
          ],
          "contour": [
           {
            "colorbar": {
             "outlinewidth": 0,
             "ticks": ""
            },
            "colorscale": [
             [
              0,
              "#0d0887"
             ],
             [
              0.1111111111111111,
              "#46039f"
             ],
             [
              0.2222222222222222,
              "#7201a8"
             ],
             [
              0.3333333333333333,
              "#9c179e"
             ],
             [
              0.4444444444444444,
              "#bd3786"
             ],
             [
              0.5555555555555556,
              "#d8576b"
             ],
             [
              0.6666666666666666,
              "#ed7953"
             ],
             [
              0.7777777777777778,
              "#fb9f3a"
             ],
             [
              0.8888888888888888,
              "#fdca26"
             ],
             [
              1,
              "#f0f921"
             ]
            ],
            "type": "contour"
           }
          ],
          "contourcarpet": [
           {
            "colorbar": {
             "outlinewidth": 0,
             "ticks": ""
            },
            "type": "contourcarpet"
           }
          ],
          "heatmap": [
           {
            "colorbar": {
             "outlinewidth": 0,
             "ticks": ""
            },
            "colorscale": [
             [
              0,
              "#0d0887"
             ],
             [
              0.1111111111111111,
              "#46039f"
             ],
             [
              0.2222222222222222,
              "#7201a8"
             ],
             [
              0.3333333333333333,
              "#9c179e"
             ],
             [
              0.4444444444444444,
              "#bd3786"
             ],
             [
              0.5555555555555556,
              "#d8576b"
             ],
             [
              0.6666666666666666,
              "#ed7953"
             ],
             [
              0.7777777777777778,
              "#fb9f3a"
             ],
             [
              0.8888888888888888,
              "#fdca26"
             ],
             [
              1,
              "#f0f921"
             ]
            ],
            "type": "heatmap"
           }
          ],
          "heatmapgl": [
           {
            "colorbar": {
             "outlinewidth": 0,
             "ticks": ""
            },
            "colorscale": [
             [
              0,
              "#0d0887"
             ],
             [
              0.1111111111111111,
              "#46039f"
             ],
             [
              0.2222222222222222,
              "#7201a8"
             ],
             [
              0.3333333333333333,
              "#9c179e"
             ],
             [
              0.4444444444444444,
              "#bd3786"
             ],
             [
              0.5555555555555556,
              "#d8576b"
             ],
             [
              0.6666666666666666,
              "#ed7953"
             ],
             [
              0.7777777777777778,
              "#fb9f3a"
             ],
             [
              0.8888888888888888,
              "#fdca26"
             ],
             [
              1,
              "#f0f921"
             ]
            ],
            "type": "heatmapgl"
           }
          ],
          "histogram": [
           {
            "marker": {
             "pattern": {
              "fillmode": "overlay",
              "size": 10,
              "solidity": 0.2
             }
            },
            "type": "histogram"
           }
          ],
          "histogram2d": [
           {
            "colorbar": {
             "outlinewidth": 0,
             "ticks": ""
            },
            "colorscale": [
             [
              0,
              "#0d0887"
             ],
             [
              0.1111111111111111,
              "#46039f"
             ],
             [
              0.2222222222222222,
              "#7201a8"
             ],
             [
              0.3333333333333333,
              "#9c179e"
             ],
             [
              0.4444444444444444,
              "#bd3786"
             ],
             [
              0.5555555555555556,
              "#d8576b"
             ],
             [
              0.6666666666666666,
              "#ed7953"
             ],
             [
              0.7777777777777778,
              "#fb9f3a"
             ],
             [
              0.8888888888888888,
              "#fdca26"
             ],
             [
              1,
              "#f0f921"
             ]
            ],
            "type": "histogram2d"
           }
          ],
          "histogram2dcontour": [
           {
            "colorbar": {
             "outlinewidth": 0,
             "ticks": ""
            },
            "colorscale": [
             [
              0,
              "#0d0887"
             ],
             [
              0.1111111111111111,
              "#46039f"
             ],
             [
              0.2222222222222222,
              "#7201a8"
             ],
             [
              0.3333333333333333,
              "#9c179e"
             ],
             [
              0.4444444444444444,
              "#bd3786"
             ],
             [
              0.5555555555555556,
              "#d8576b"
             ],
             [
              0.6666666666666666,
              "#ed7953"
             ],
             [
              0.7777777777777778,
              "#fb9f3a"
             ],
             [
              0.8888888888888888,
              "#fdca26"
             ],
             [
              1,
              "#f0f921"
             ]
            ],
            "type": "histogram2dcontour"
           }
          ],
          "mesh3d": [
           {
            "colorbar": {
             "outlinewidth": 0,
             "ticks": ""
            },
            "type": "mesh3d"
           }
          ],
          "parcoords": [
           {
            "line": {
             "colorbar": {
              "outlinewidth": 0,
              "ticks": ""
             }
            },
            "type": "parcoords"
           }
          ],
          "pie": [
           {
            "automargin": true,
            "type": "pie"
           }
          ],
          "scatter": [
           {
            "fillpattern": {
             "fillmode": "overlay",
             "size": 10,
             "solidity": 0.2
            },
            "type": "scatter"
           }
          ],
          "scatter3d": [
           {
            "line": {
             "colorbar": {
              "outlinewidth": 0,
              "ticks": ""
             }
            },
            "marker": {
             "colorbar": {
              "outlinewidth": 0,
              "ticks": ""
             }
            },
            "type": "scatter3d"
           }
          ],
          "scattercarpet": [
           {
            "marker": {
             "colorbar": {
              "outlinewidth": 0,
              "ticks": ""
             }
            },
            "type": "scattercarpet"
           }
          ],
          "scattergeo": [
           {
            "marker": {
             "colorbar": {
              "outlinewidth": 0,
              "ticks": ""
             }
            },
            "type": "scattergeo"
           }
          ],
          "scattergl": [
           {
            "marker": {
             "colorbar": {
              "outlinewidth": 0,
              "ticks": ""
             }
            },
            "type": "scattergl"
           }
          ],
          "scattermapbox": [
           {
            "marker": {
             "colorbar": {
              "outlinewidth": 0,
              "ticks": ""
             }
            },
            "type": "scattermapbox"
           }
          ],
          "scatterpolar": [
           {
            "marker": {
             "colorbar": {
              "outlinewidth": 0,
              "ticks": ""
             }
            },
            "type": "scatterpolar"
           }
          ],
          "scatterpolargl": [
           {
            "marker": {
             "colorbar": {
              "outlinewidth": 0,
              "ticks": ""
             }
            },
            "type": "scatterpolargl"
           }
          ],
          "scatterternary": [
           {
            "marker": {
             "colorbar": {
              "outlinewidth": 0,
              "ticks": ""
             }
            },
            "type": "scatterternary"
           }
          ],
          "surface": [
           {
            "colorbar": {
             "outlinewidth": 0,
             "ticks": ""
            },
            "colorscale": [
             [
              0,
              "#0d0887"
             ],
             [
              0.1111111111111111,
              "#46039f"
             ],
             [
              0.2222222222222222,
              "#7201a8"
             ],
             [
              0.3333333333333333,
              "#9c179e"
             ],
             [
              0.4444444444444444,
              "#bd3786"
             ],
             [
              0.5555555555555556,
              "#d8576b"
             ],
             [
              0.6666666666666666,
              "#ed7953"
             ],
             [
              0.7777777777777778,
              "#fb9f3a"
             ],
             [
              0.8888888888888888,
              "#fdca26"
             ],
             [
              1,
              "#f0f921"
             ]
            ],
            "type": "surface"
           }
          ],
          "table": [
           {
            "cells": {
             "fill": {
              "color": "#EBF0F8"
             },
             "line": {
              "color": "white"
             }
            },
            "header": {
             "fill": {
              "color": "#C8D4E3"
             },
             "line": {
              "color": "white"
             }
            },
            "type": "table"
           }
          ]
         },
         "layout": {
          "annotationdefaults": {
           "arrowcolor": "#2a3f5f",
           "arrowhead": 0,
           "arrowwidth": 1
          },
          "autotypenumbers": "strict",
          "coloraxis": {
           "colorbar": {
            "outlinewidth": 0,
            "ticks": ""
           }
          },
          "colorscale": {
           "diverging": [
            [
             0,
             "#8e0152"
            ],
            [
             0.1,
             "#c51b7d"
            ],
            [
             0.2,
             "#de77ae"
            ],
            [
             0.3,
             "#f1b6da"
            ],
            [
             0.4,
             "#fde0ef"
            ],
            [
             0.5,
             "#f7f7f7"
            ],
            [
             0.6,
             "#e6f5d0"
            ],
            [
             0.7,
             "#b8e186"
            ],
            [
             0.8,
             "#7fbc41"
            ],
            [
             0.9,
             "#4d9221"
            ],
            [
             1,
             "#276419"
            ]
           ],
           "sequential": [
            [
             0,
             "#0d0887"
            ],
            [
             0.1111111111111111,
             "#46039f"
            ],
            [
             0.2222222222222222,
             "#7201a8"
            ],
            [
             0.3333333333333333,
             "#9c179e"
            ],
            [
             0.4444444444444444,
             "#bd3786"
            ],
            [
             0.5555555555555556,
             "#d8576b"
            ],
            [
             0.6666666666666666,
             "#ed7953"
            ],
            [
             0.7777777777777778,
             "#fb9f3a"
            ],
            [
             0.8888888888888888,
             "#fdca26"
            ],
            [
             1,
             "#f0f921"
            ]
           ],
           "sequentialminus": [
            [
             0,
             "#0d0887"
            ],
            [
             0.1111111111111111,
             "#46039f"
            ],
            [
             0.2222222222222222,
             "#7201a8"
            ],
            [
             0.3333333333333333,
             "#9c179e"
            ],
            [
             0.4444444444444444,
             "#bd3786"
            ],
            [
             0.5555555555555556,
             "#d8576b"
            ],
            [
             0.6666666666666666,
             "#ed7953"
            ],
            [
             0.7777777777777778,
             "#fb9f3a"
            ],
            [
             0.8888888888888888,
             "#fdca26"
            ],
            [
             1,
             "#f0f921"
            ]
           ]
          },
          "colorway": [
           "#636efa",
           "#EF553B",
           "#00cc96",
           "#ab63fa",
           "#FFA15A",
           "#19d3f3",
           "#FF6692",
           "#B6E880",
           "#FF97FF",
           "#FECB52"
          ],
          "font": {
           "color": "#2a3f5f"
          },
          "geo": {
           "bgcolor": "white",
           "lakecolor": "white",
           "landcolor": "#E5ECF6",
           "showlakes": true,
           "showland": true,
           "subunitcolor": "white"
          },
          "hoverlabel": {
           "align": "left"
          },
          "hovermode": "closest",
          "mapbox": {
           "style": "light"
          },
          "paper_bgcolor": "white",
          "plot_bgcolor": "#E5ECF6",
          "polar": {
           "angularaxis": {
            "gridcolor": "white",
            "linecolor": "white",
            "ticks": ""
           },
           "bgcolor": "#E5ECF6",
           "radialaxis": {
            "gridcolor": "white",
            "linecolor": "white",
            "ticks": ""
           }
          },
          "scene": {
           "xaxis": {
            "backgroundcolor": "#E5ECF6",
            "gridcolor": "white",
            "gridwidth": 2,
            "linecolor": "white",
            "showbackground": true,
            "ticks": "",
            "zerolinecolor": "white"
           },
           "yaxis": {
            "backgroundcolor": "#E5ECF6",
            "gridcolor": "white",
            "gridwidth": 2,
            "linecolor": "white",
            "showbackground": true,
            "ticks": "",
            "zerolinecolor": "white"
           },
           "zaxis": {
            "backgroundcolor": "#E5ECF6",
            "gridcolor": "white",
            "gridwidth": 2,
            "linecolor": "white",
            "showbackground": true,
            "ticks": "",
            "zerolinecolor": "white"
           }
          },
          "shapedefaults": {
           "line": {
            "color": "#2a3f5f"
           }
          },
          "ternary": {
           "aaxis": {
            "gridcolor": "white",
            "linecolor": "white",
            "ticks": ""
           },
           "baxis": {
            "gridcolor": "white",
            "linecolor": "white",
            "ticks": ""
           },
           "bgcolor": "#E5ECF6",
           "caxis": {
            "gridcolor": "white",
            "linecolor": "white",
            "ticks": ""
           }
          },
          "title": {
           "x": 0.05
          },
          "xaxis": {
           "automargin": true,
           "gridcolor": "white",
           "linecolor": "white",
           "ticks": "",
           "title": {
            "standoff": 15
           },
           "zerolinecolor": "white",
           "zerolinewidth": 2
          },
          "yaxis": {
           "automargin": true,
           "gridcolor": "white",
           "linecolor": "white",
           "ticks": "",
           "title": {
            "standoff": 15
           },
           "zerolinecolor": "white",
           "zerolinewidth": 2
          }
         }
        },
        "title": {
         "text": "Bats Day and Night Trend (2nd order polynomial fit)"
        },
        "xaxis": {
         "title": {
          "text": "Time"
         }
        },
        "yaxis": {
         "title": {
          "text": "Biomass (mg/m3)"
         }
        }
       }
      }
     },
     "metadata": {},
     "output_type": "display_data"
    }
   ],
   "source": [
    "plot_trend(day_data, night_data, poly_order=2).update_layout(\n",
    "    title=f\"{station} Day and Night Trend (2nd order polynomial fit)\",\n",
    "    xaxis_title=\"Time\",\n",
    "    yaxis_title=\"Biomass (mg/m3)\",\n",
    ").show()"
   ]
  },
  {
   "cell_type": "code",
   "execution_count": 10,
   "metadata": {},
   "outputs": [
    {
     "data": {
      "application/vnd.plotly.v1+json": {
       "config": {
        "plotlyServerURL": "https://plot.ly"
       },
       "data": [
        {
         "mode": "markers",
         "name": "Day",
         "type": "scatter",
         "x": [
          "1995-05-11T00:00:00.000000000",
          "1995-06-13T00:00:00.000000000",
          "1995-07-11T00:00:00.000000000",
          "1995-09-12T00:00:00.000000000",
          "1995-10-10T00:00:00.000000000",
          "1995-11-06T00:00:00.000000000",
          "1995-12-16T00:00:00.000000000",
          "1996-01-30T00:00:00.000000000",
          "1996-02-28T00:00:00.000000000",
          "1996-03-15T00:00:00.000000000",
          "1996-03-28T00:00:00.000000000",
          "1996-04-09T00:00:00.000000000",
          "1996-04-23T00:00:00.000000000",
          "1996-05-06T00:00:00.000000000",
          "1996-06-10T00:00:00.000000000",
          "1996-07-10T00:00:00.000000000",
          "1996-08-05T00:00:00.000000000",
          "1996-09-03T00:00:00.000000000",
          "1996-10-08T00:00:00.000000000",
          "1996-11-05T00:00:00.000000000",
          "1996-12-14T00:00:00.000000000",
          "1997-01-13T00:00:00.000000000",
          "1997-01-28T00:00:00.000000000",
          "1997-02-07T00:00:00.000000000",
          "1997-02-21T00:00:00.000000000",
          "1997-03-04T00:00:00.000000000",
          "1997-03-19T00:00:00.000000000",
          "1997-04-08T00:00:00.000000000",
          "1997-05-05T00:00:00.000000000",
          "1997-06-11T00:00:00.000000000",
          "1997-07-15T00:00:00.000000000",
          "1997-08-11T00:00:00.000000000",
          "1997-09-12T00:00:00.000000000",
          "1997-10-06T00:00:00.000000000",
          "1997-11-14T00:00:00.000000000",
          "1997-12-09T00:00:00.000000000",
          "1998-01-14T00:00:00.000000000",
          "1998-02-11T00:00:00.000000000",
          "1998-02-28T00:00:00.000000000",
          "1998-03-13T00:00:00.000000000",
          "1998-03-25T00:00:00.000000000",
          "1998-04-08T00:00:00.000000000",
          "1998-05-06T00:00:00.000000000",
          "1998-06-03T00:00:00.000000000",
          "1998-07-08T00:00:00.000000000",
          "1998-08-11T00:00:00.000000000",
          "1998-09-08T00:00:00.000000000",
          "1998-10-22T00:00:00.000000000",
          "1998-11-19T00:00:00.000000000",
          "1998-12-08T00:00:00.000000000",
          "1999-01-15T00:00:00.000000000",
          "1999-01-27T00:00:00.000000000",
          "1999-02-12T00:00:00.000000000",
          "1999-02-24T00:00:00.000000000",
          "1999-03-23T00:00:00.000000000",
          "1999-04-07T00:00:00.000000000",
          "1999-05-03T00:00:00.000000000",
          "1999-06-01T00:00:00.000000000",
          "1999-07-06T00:00:00.000000000",
          "1999-09-15T00:00:00.000000000",
          "1999-10-12T00:00:00.000000000",
          "1999-11-10T00:00:00.000000000",
          "1999-12-09T00:00:00.000000000",
          "2000-04-11T00:00:00.000000000",
          "2000-06-06T00:00:00.000000000",
          "2000-07-11T00:00:00.000000000",
          "2000-08-08T00:00:00.000000000",
          "2000-09-13T00:00:00.000000000",
          "2000-10-18T00:00:00.000000000",
          "2000-11-14T00:00:00.000000000",
          "2000-12-12T00:00:00.000000000",
          "2001-02-20T00:00:00.000000000",
          "2001-03-09T00:00:00.000000000",
          "2001-03-20T00:00:00.000000000",
          "2001-04-04T00:00:00.000000000",
          "2001-04-19T00:00:00.000000000",
          "2001-05-15T00:00:00.000000000",
          "2001-06-05T00:00:00.000000000",
          "2001-07-18T00:00:00.000000000",
          "2001-09-12T00:00:00.000000000",
          "2001-10-16T00:00:00.000000000",
          "2001-11-09T00:00:00.000000000",
          "2001-12-11T00:00:00.000000000",
          "2002-01-22T00:00:00.000000000",
          "2002-02-13T00:00:00.000000000",
          "2002-02-27T00:00:00.000000000",
          "2002-03-07T00:00:00.000000000",
          "2002-04-04T00:00:00.000000000",
          "2002-04-16T00:00:00.000000000",
          "2002-05-14T00:00:00.000000000",
          "2002-06-04T00:00:00.000000000",
          "2002-07-02T00:00:00.000000000",
          "2002-08-20T00:00:00.000000000",
          "2002-09-17T00:00:00.000000000",
          "2002-10-08T00:00:00.000000000",
          "2002-11-13T00:00:00.000000000",
          "2002-12-10T00:00:00.000000000",
          "2003-02-04T00:00:00.000000000",
          "2003-02-21T00:00:00.000000000",
          "2003-03-04T00:00:00.000000000",
          "2003-03-21T00:00:00.000000000",
          "2003-04-03T00:00:00.000000000",
          "2003-04-22T00:00:00.000000000",
          "2003-05-20T00:00:00.000000000",
          "2003-07-04T00:00:00.000000000",
          "2003-07-15T00:00:00.000000000",
          "2003-08-12T00:00:00.000000000",
          "2003-09-19T00:00:00.000000000",
          "2003-10-07T00:00:00.000000000",
          "2003-11-04T00:00:00.000000000",
          "2003-12-02T00:00:00.000000000",
          "2004-01-27T00:00:00.000000000",
          "2004-02-14T00:00:00.000000000",
          "2004-02-24T00:00:00.000000000",
          "2004-04-07T00:00:00.000000000",
          "2004-04-21T00:00:00.000000000",
          "2004-05-18T00:00:00.000000000",
          "2004-06-15T00:00:00.000000000",
          "2004-09-14T00:00:00.000000000",
          "2004-10-13T00:00:00.000000000",
          "2004-11-12T00:00:00.000000000",
          "2004-12-08T00:00:00.000000000",
          "2005-01-27T00:00:00.000000000",
          "2005-02-08T00:00:00.000000000",
          "2005-02-24T00:00:00.000000000",
          "2005-03-08T00:00:00.000000000",
          "2005-03-21T00:00:00.000000000",
          "2005-04-06T00:00:00.000000000",
          "2005-04-19T00:00:00.000000000",
          "2005-05-17T00:00:00.000000000",
          "2005-06-14T00:00:00.000000000",
          "2005-07-19T00:00:00.000000000",
          "2005-08-10T00:00:00.000000000",
          "2005-09-06T00:00:00.000000000",
          "2005-10-11T00:00:00.000000000",
          "2005-11-10T00:00:00.000000000",
          "2006-01-29T00:00:00.000000000",
          "2006-02-22T00:00:00.000000000",
          "2006-05-10T00:00:00.000000000",
          "2006-07-18T00:00:00.000000000",
          "2006-08-08T00:00:00.000000000",
          "2006-10-10T00:00:00.000000000",
          "2006-11-07T00:00:00.000000000",
          "2006-12-04T00:00:00.000000000",
          "2007-02-01T00:00:00.000000000",
          "2007-02-22T00:00:00.000000000",
          "2007-03-07T00:00:00.000000000",
          "2007-03-20T00:00:00.000000000",
          "2007-04-03T00:00:00.000000000",
          "2007-04-14T00:00:00.000000000",
          "2007-05-16T00:00:00.000000000",
          "2007-06-21T00:00:00.000000000",
          "2007-07-18T00:00:00.000000000",
          "2007-08-17T00:00:00.000000000",
          "2007-11-14T00:00:00.000000000",
          "2007-12-06T00:00:00.000000000",
          "2008-01-17T00:00:00.000000000",
          "2008-02-12T00:00:00.000000000",
          "2008-02-23T00:00:00.000000000",
          "2008-03-13T00:00:00.000000000",
          "2008-03-25T00:00:00.000000000",
          "2008-04-17T00:00:00.000000000",
          "2008-05-29T00:00:00.000000000",
          "2008-07-18T00:00:00.000000000",
          "2008-08-14T00:00:00.000000000",
          "2008-09-12T00:00:00.000000000",
          "2008-10-09T00:00:00.000000000",
          "2009-02-22T00:00:00.000000000",
          "2009-03-06T00:00:00.000000000",
          "2009-03-19T00:00:00.000000000",
          "2009-04-01T00:00:00.000000000",
          "2009-06-11T00:00:00.000000000",
          "2009-07-15T00:00:00.000000000",
          "2009-08-15T00:00:00.000000000",
          "2009-09-11T00:00:00.000000000",
          "2009-10-10T00:00:00.000000000",
          "2009-11-08T00:00:00.000000000",
          "2009-12-09T00:00:00.000000000",
          "2010-02-24T00:00:00.000000000",
          "2010-03-09T00:00:00.000000000",
          "2010-04-07T00:00:00.000000000",
          "2010-04-21T00:00:00.000000000",
          "2010-05-13T00:00:00.000000000",
          "2010-06-23T00:00:00.000000000",
          "2010-07-24T00:00:00.000000000",
          "2010-09-06T00:00:00.000000000",
          "2010-10-06T00:00:00.000000000",
          "2010-11-10T00:00:00.000000000",
          "2010-12-09T00:00:00.000000000",
          "2011-03-04T00:00:00.000000000",
          "2011-04-27T00:00:00.000000000",
          "2011-05-17T00:00:00.000000000",
          "2011-06-15T00:00:00.000000000",
          "2011-07-06T00:00:00.000000000",
          "2011-08-19T00:00:00.000000000",
          "2011-09-17T00:00:00.000000000",
          "2011-11-01T00:00:00.000000000",
          "2011-11-17T00:00:00.000000000",
          "2011-12-08T00:00:00.000000000",
          "2012-01-29T00:00:00.000000000",
          "2012-02-10T00:00:00.000000000",
          "2012-03-08T00:00:00.000000000",
          "2012-04-26T00:00:00.000000000",
          "2012-05-19T00:00:00.000000000",
          "2012-06-18T00:00:00.000000000",
          "2012-07-12T00:00:00.000000000",
          "2012-08-20T00:00:00.000000000",
          "2012-09-12T00:00:00.000000000",
          "2012-10-19T00:00:00.000000000",
          "2012-11-16T00:00:00.000000000",
          "2012-12-11T00:00:00.000000000",
          "2013-01-22T00:00:00.000000000",
          "2013-02-12T00:00:00.000000000",
          "2013-02-26T00:00:00.000000000",
          "2013-03-12T00:00:00.000000000",
          "2013-04-06T00:00:00.000000000",
          "2013-04-24T00:00:00.000000000",
          "2013-05-15T00:00:00.000000000",
          "2013-06-16T00:00:00.000000000",
          "2013-07-05T00:00:00.000000000",
          "2013-08-02T00:00:00.000000000",
          "2013-09-17T00:00:00.000000000",
          "2013-10-19T00:00:00.000000000",
          "2013-11-14T00:00:00.000000000",
          "2013-12-09T00:00:00.000000000",
          "2014-03-06T00:00:00.000000000",
          "2014-04-11T00:00:00.000000000",
          "2014-04-29T00:00:00.000000000",
          "2014-06-12T00:00:00.000000000",
          "2014-07-10T00:00:00.000000000",
          "2014-08-20T00:00:00.000000000",
          "2014-09-13T00:00:00.000000000",
          "2014-10-28T00:00:00.000000000",
          "2014-11-20T00:00:00.000000000",
          "2014-12-11T00:00:00.000000000",
          "2015-02-05T00:00:00.000000000",
          "2015-02-20T00:00:00.000000000",
          "2015-04-08T00:00:00.000000000",
          "2015-04-24T00:00:00.000000000",
          "2015-06-23T00:00:00.000000000",
          "2015-07-15T00:00:00.000000000",
          "2015-08-18T00:00:00.000000000",
          "2015-09-12T00:00:00.000000000",
          "2015-11-30T00:00:00.000000000",
          "2015-12-12T00:00:00.000000000",
          "2016-03-08T00:00:00.000000000",
          "2016-03-23T00:00:00.000000000",
          "2016-04-05T00:00:00.000000000",
          "2016-04-15T00:00:00.000000000",
          "2016-05-04T00:00:00.000000000",
          "2016-06-14T00:00:00.000000000",
          "2016-07-22T00:00:00.000000000",
          "2016-08-17T00:00:00.000000000",
          "2016-09-20T00:00:00.000000000",
          "2016-10-19T00:00:00.000000000",
          "2016-11-19T00:00:00.000000000",
          "2016-12-13T00:00:00.000000000",
          "2017-01-07T00:00:00.000000000",
          "2017-02-19T00:00:00.000000000",
          "2017-05-09T00:00:00.000000000",
          "2017-05-30T00:00:00.000000000",
          "2017-06-13T00:00:00.000000000",
          "2017-07-18T00:00:00.000000000",
          "2017-08-15T00:00:00.000000000",
          "2017-09-12T00:00:00.000000000",
          "2017-10-17T00:00:00.000000000",
          "2017-10-18T00:00:00.000000000",
          "2017-11-17T00:00:00.000000000",
          "2017-12-12T00:00:00.000000000",
          "2018-01-15T00:00:00.000000000",
          "2018-02-10T00:00:00.000000000",
          "2018-02-27T00:00:00.000000000",
          "2018-04-16T00:00:00.000000000",
          "2018-04-26T00:00:00.000000000",
          "2018-05-23T00:00:00.000000000",
          "2018-06-12T00:00:00.000000000",
          "2018-07-20T00:00:00.000000000",
          "2018-08-13T00:00:00.000000000",
          "2018-09-12T00:00:00.000000000",
          "2018-10-18T00:00:00.000000000",
          "2018-11-06T00:00:00.000000000",
          "2018-12-14T00:00:00.000000000",
          "2019-01-11T00:00:00.000000000",
          "2019-04-10T00:00:00.000000000",
          "2019-05-13T00:00:00.000000000",
          "2019-06-07T00:00:00.000000000",
          "2019-07-16T00:00:00.000000000",
          "2019-08-19T00:00:00.000000000",
          "2019-09-09T00:00:00.000000000",
          "2019-10-23T00:00:00.000000000",
          "2019-11-17T00:00:00.000000000",
          "2019-12-11T00:00:00.000000000",
          "2020-01-26T00:00:00.000000000",
          "2020-02-27T00:00:00.000000000",
          "2020-07-10T00:00:00.000000000",
          "2020-07-31T00:00:00.000000000",
          "2020-08-18T00:00:00.000000000",
          "2020-09-24T00:00:00.000000000",
          "2020-10-26T00:00:00.000000000",
          "2020-11-18T00:00:00.000000000",
          "2020-12-11T00:00:00.000000000",
          "2021-01-25T00:00:00.000000000",
          "2021-02-13T00:00:00.000000000",
          "2021-03-18T00:00:00.000000000",
          "2021-03-25T00:00:00.000000000",
          "2021-04-06T00:00:00.000000000",
          "2021-05-12T00:00:00.000000000",
          "2021-06-15T00:00:00.000000000",
          "2021-07-11T00:00:00.000000000",
          "2021-08-19T00:00:00.000000000",
          "2021-09-12T00:00:00.000000000",
          "2021-10-05T00:00:00.000000000",
          "2021-11-17T00:00:00.000000000",
          "2021-12-13T00:00:00.000000000",
          "2022-01-12T00:00:00.000000000",
          "2022-03-29T00:00:00.000000000",
          "2022-05-01T00:00:00.000000000",
          "2022-05-23T00:00:00.000000000",
          "2022-06-30T00:00:00.000000000",
          "2022-07-16T00:00:00.000000000",
          "2022-08-13T00:00:00.000000000",
          "2022-11-24T00:00:00.000000000",
          "2022-12-13T00:00:00.000000000"
         ],
         "y": [
          0.9640000000000001,
          0.712,
          1.042,
          0.484,
          0.37400000000000005,
          0.3440000000000001,
          0.384,
          0.504,
          0.496,
          0.5900000000000001,
          0.588,
          1.6980000000000002,
          1.8259999999999998,
          0.794,
          0.476,
          1.184,
          0.6320000000000001,
          0.48,
          0.8700000000000001,
          0.7360000000000001,
          1.272,
          0.388,
          0.472,
          0.654,
          0.5340000000000001,
          0.5599999999999999,
          0.5180000000000001,
          0.79,
          0.91,
          1.242,
          0.6460000000000001,
          0.676,
          0.6140000000000001,
          0.622,
          0.778,
          0.9760000000000002,
          0.6819999999999999,
          0.968,
          0.798,
          1.484,
          1.1640000000000001,
          0.884,
          0.47800000000000004,
          1.278,
          1.57,
          0.762,
          0.7220000000000001,
          0.35400000000000004,
          0.6960000000000001,
          0.496,
          0.196,
          0.25399999999999995,
          0.5,
          0.8700000000000001,
          1.3360000000000003,
          1.168,
          0.588,
          1.834,
          0.45599999999999996,
          0.56,
          0.5780000000000002,
          0.624,
          0.36800000000000005,
          0.926,
          0.524,
          0.564,
          0.696,
          0.764,
          0.36800000000000005,
          0.778,
          0.45999999999999996,
          0.9899999999999999,
          0.944,
          1.252,
          0.766,
          0.334,
          0.8960000000000001,
          0.594,
          0.9460000000000002,
          0.512,
          0.5980000000000001,
          0.472,
          0.6140000000000001,
          0.5240000000000001,
          0.486,
          1.09,
          0.952,
          1.6,
          0.446,
          0.588,
          0.528,
          0.8119999999999999,
          0.774,
          1.048,
          0.808,
          0.6320000000000001,
          0.638,
          0.6739999999999999,
          1.314,
          1.678,
          0.6960000000000001,
          1.3,
          0.7260000000000002,
          0.6480000000000001,
          0.8400000000000001,
          0.884,
          0.9819999999999999,
          1.3719999999999999,
          0.8800000000000001,
          0.508,
          0.374,
          0.664,
          1.336,
          1.692,
          1.1960000000000002,
          2.0220000000000002,
          0.87,
          0.7040000000000001,
          0.752,
          0.44000000000000006,
          0.5940000000000001,
          0.628,
          0.56,
          1.132,
          1.432,
          1.2940000000000003,
          1.8319999999999999,
          1.0479999999999998,
          1.6620000000000001,
          1.2180000000000002,
          0.8240000000000001,
          0.67,
          0.598,
          0.802,
          0.5040000000000001,
          0.5720000000000001,
          1.442,
          1.306,
          0.6859999999999999,
          0.606,
          0.868,
          0.8579999999999999,
          0.5180000000000001,
          0.42000000000000004,
          0.594,
          0.808,
          1.4900000000000002,
          1.4460000000000002,
          0.8660000000000002,
          0.536,
          0.7000000000000001,
          0.5880000000000001,
          0.9320000000000003,
          0.526,
          0.902,
          0.45599999999999996,
          1.176,
          0.47800000000000004,
          0.8660000000000002,
          0.58,
          1.192,
          0.08000000000000002,
          1.7460000000000002,
          0.568,
          0.5980000000000001,
          0.59,
          0.588,
          0.8480000000000001,
          0.756,
          1.37,
          0.4340000000000001,
          0.9273333333333333,
          1.068,
          1.1260000000000001,
          0.7240000000000001,
          0.66,
          0.7080000000000001,
          0.4960000000000001,
          0.47000000000000003,
          1.722,
          0.4720000000000001,
          0.246,
          1.942,
          1.0260000000000002,
          0.46799999999999997,
          1.1600000000000001,
          1.6280000000000001,
          0.7020000000000001,
          0.868,
          1.0399999999999998,
          1.6839999999999997,
          1.4640000000000004,
          1.1500000000000001,
          1.55,
          0.6400000000000001,
          1.04,
          0.48,
          1.294,
          0.69,
          1.186,
          1.2460000000000004,
          1.4460000000000002,
          1.1380000000000003,
          1.2720000000000002,
          0.9340000000000002,
          1.176,
          1.054,
          0.5540000000000002,
          0.9620000000000002,
          1.352,
          1.0040000000000002,
          1.366,
          1.69,
          1.7880000000000003,
          0.9500000000000001,
          1.3420000000000003,
          1.0760000000000003,
          0.7160000000000001,
          1.428,
          1.428,
          1.6830000000000003,
          0.782,
          0.7280000000000001,
          0.7740000000000001,
          0.788,
          1.8439999999999999,
          0.9580000000000001,
          0.9199999999999999,
          1.556,
          1.94,
          0.8580000000000001,
          0.6160000000000001,
          0.748,
          0.5300000000000001,
          0.3600000000000001,
          0.536,
          0.6980000000000001,
          1.1580000000000001,
          0.538,
          0.626,
          0.8580000000000002,
          1.3820000000000001,
          1.2560000000000002,
          0.5680000000000001,
          0.512,
          0.506,
          1.066,
          0.8240000000000001,
          0.568,
          1.62,
          0.46199999999999997,
          0.5060000000000001,
          0.426,
          0.24600000000000005,
          0.5000000000000001,
          0.36800000000000005,
          0.546,
          0.45999999999999996,
          0.502,
          0.548,
          1.0100000000000002,
          1.068,
          0.548,
          0.806,
          0.8860000000000001,
          0.42800000000000005,
          0.624,
          0.482,
          0.474,
          0.6140000000000001,
          0.868,
          0.378,
          1.314,
          0.6299999999999999,
          0.8879999999999999,
          0.6200000000000001,
          0.49,
          0.7040000000000002,
          0.41600000000000004,
          0.526,
          0.8640000000000001,
          0.794,
          0.774,
          1.052,
          2.0220000000000002,
          1.82,
          0.9820000000000001,
          1.69,
          1.118,
          0.8740000000000001,
          0.788,
          0.686,
          0.43,
          0.7080000000000001,
          0.28200000000000003,
          1.506,
          0.8739999999999999,
          0.902,
          0.7560000000000001,
          0.322,
          0.414,
          0.434,
          1.2960000000000003,
          0.6080000000000001,
          1.028,
          1.0680000000000003,
          1.356,
          0.5700000000000001,
          1.006,
          0.9060000000000001,
          0.8,
          0.7320000000000001,
          0.65,
          0.8660000000000001,
          0.35600000000000004,
          0.46199999999999997,
          0.584,
          0.488,
          0.734,
          0.666,
          0.658,
          0.36999999999999994,
          0.36200000000000004
         ]
        },
        {
         "mode": "markers",
         "name": "Night",
         "type": "scatter",
         "x": [
          "1995-05-10T00:00:00.000000000",
          "1995-06-13T00:00:00.000000000",
          "1995-06-14T00:00:00.000000000",
          "1995-07-11T00:00:00.000000000",
          "1995-08-18T00:00:00.000000000",
          "1995-09-12T00:00:00.000000000",
          "1995-10-10T00:00:00.000000000",
          "1995-12-15T00:00:00.000000000",
          "1996-01-30T00:00:00.000000000",
          "1996-02-14T00:00:00.000000000",
          "1996-02-27T00:00:00.000000000",
          "1996-03-15T00:00:00.000000000",
          "1996-03-16T00:00:00.000000000",
          "1996-03-27T00:00:00.000000000",
          "1996-04-12T00:00:00.000000000",
          "1996-04-22T00:00:00.000000000",
          "1996-05-07T00:00:00.000000000",
          "1996-06-10T00:00:00.000000000",
          "1996-07-08T00:00:00.000000000",
          "1996-08-05T00:00:00.000000000",
          "1996-09-02T00:00:00.000000000",
          "1996-10-08T00:00:00.000000000",
          "1996-10-09T00:00:00.000000000",
          "1996-11-05T00:00:00.000000000",
          "1996-12-11T00:00:00.000000000",
          "1997-01-13T00:00:00.000000000",
          "1997-01-27T00:00:00.000000000",
          "1997-02-06T00:00:00.000000000",
          "1997-02-20T00:00:00.000000000",
          "1997-03-04T00:00:00.000000000",
          "1997-03-18T00:00:00.000000000",
          "1997-04-08T00:00:00.000000000",
          "1997-05-05T00:00:00.000000000",
          "1997-06-11T00:00:00.000000000",
          "1997-07-15T00:00:00.000000000",
          "1997-08-11T00:00:00.000000000",
          "1997-09-11T00:00:00.000000000",
          "1997-10-06T00:00:00.000000000",
          "1997-11-11T00:00:00.000000000",
          "1997-12-09T00:00:00.000000000",
          "1998-01-12T00:00:00.000000000",
          "1998-01-13T00:00:00.000000000",
          "1998-02-11T00:00:00.000000000",
          "1998-02-28T00:00:00.000000000",
          "1998-03-09T00:00:00.000000000",
          "1998-04-07T00:00:00.000000000",
          "1998-05-04T00:00:00.000000000",
          "1998-05-05T00:00:00.000000000",
          "1998-06-02T00:00:00.000000000",
          "1998-07-08T00:00:00.000000000",
          "1998-08-10T00:00:00.000000000",
          "1998-09-10T00:00:00.000000000",
          "1998-10-22T00:00:00.000000000",
          "1998-11-18T00:00:00.000000000",
          "1998-12-07T00:00:00.000000000",
          "1999-01-14T00:00:00.000000000",
          "1999-01-27T00:00:00.000000000",
          "1999-01-28T00:00:00.000000000",
          "1999-02-12T00:00:00.000000000",
          "1999-02-23T00:00:00.000000000",
          "1999-03-23T00:00:00.000000000",
          "1999-03-24T00:00:00.000000000",
          "1999-04-08T00:00:00.000000000",
          "1999-05-03T00:00:00.000000000",
          "1999-06-01T00:00:00.000000000",
          "1999-06-03T00:00:00.000000000",
          "1999-07-05T00:00:00.000000000",
          "1999-08-03T00:00:00.000000000",
          "1999-09-14T00:00:00.000000000",
          "1999-10-11T00:00:00.000000000",
          "1999-11-10T00:00:00.000000000",
          "1999-12-08T00:00:00.000000000",
          "2000-02-16T00:00:00.000000000",
          "2000-04-10T00:00:00.000000000",
          "2000-04-11T00:00:00.000000000",
          "2000-06-06T00:00:00.000000000",
          "2000-07-10T00:00:00.000000000",
          "2000-07-11T00:00:00.000000000",
          "2000-08-07T00:00:00.000000000",
          "2000-08-08T00:00:00.000000000",
          "2000-09-12T00:00:00.000000000",
          "2000-10-18T00:00:00.000000000",
          "2000-11-14T00:00:00.000000000",
          "2000-12-12T00:00:00.000000000",
          "2001-02-21T00:00:00.000000000",
          "2001-03-09T00:00:00.000000000",
          "2001-03-21T00:00:00.000000000",
          "2001-04-04T00:00:00.000000000",
          "2001-04-18T00:00:00.000000000",
          "2001-05-15T00:00:00.000000000",
          "2001-06-05T00:00:00.000000000",
          "2001-07-18T00:00:00.000000000",
          "2001-09-13T00:00:00.000000000",
          "2001-10-16T00:00:00.000000000",
          "2001-11-09T00:00:00.000000000",
          "2001-12-10T00:00:00.000000000",
          "2001-12-11T00:00:00.000000000",
          "2002-01-22T00:00:00.000000000",
          "2002-02-12T00:00:00.000000000",
          "2002-02-28T00:00:00.000000000",
          "2002-03-07T00:00:00.000000000",
          "2002-03-19T00:00:00.000000000",
          "2002-04-03T00:00:00.000000000",
          "2002-04-15T00:00:00.000000000",
          "2002-04-16T00:00:00.000000000",
          "2002-05-14T00:00:00.000000000",
          "2002-06-04T00:00:00.000000000",
          "2002-07-01T00:00:00.000000000",
          "2002-08-20T00:00:00.000000000",
          "2002-09-17T00:00:00.000000000",
          "2002-10-08T00:00:00.000000000",
          "2002-11-13T00:00:00.000000000",
          "2002-12-09T00:00:00.000000000",
          "2003-01-27T00:00:00.000000000",
          "2003-02-21T00:00:00.000000000",
          "2003-03-04T00:00:00.000000000",
          "2003-03-22T00:00:00.000000000",
          "2003-04-03T00:00:00.000000000",
          "2003-04-22T00:00:00.000000000",
          "2003-07-05T00:00:00.000000000",
          "2003-07-15T00:00:00.000000000",
          "2003-08-13T00:00:00.000000000",
          "2003-09-20T00:00:00.000000000",
          "2003-10-06T00:00:00.000000000",
          "2003-11-03T00:00:00.000000000",
          "2003-12-02T00:00:00.000000000",
          "2004-02-14T00:00:00.000000000",
          "2004-02-23T00:00:00.000000000",
          "2004-03-09T00:00:00.000000000",
          "2004-03-23T00:00:00.000000000",
          "2004-04-20T00:00:00.000000000",
          "2004-05-17T00:00:00.000000000",
          "2004-06-15T00:00:00.000000000",
          "2004-09-14T00:00:00.000000000",
          "2004-10-13T00:00:00.000000000",
          "2004-11-12T00:00:00.000000000",
          "2004-12-08T00:00:00.000000000",
          "2005-01-26T00:00:00.000000000",
          "2005-02-08T00:00:00.000000000",
          "2005-02-23T00:00:00.000000000",
          "2005-02-24T00:00:00.000000000",
          "2005-03-07T00:00:00.000000000",
          "2005-03-20T00:00:00.000000000",
          "2005-04-05T00:00:00.000000000",
          "2005-05-16T00:00:00.000000000",
          "2005-06-15T00:00:00.000000000",
          "2005-07-19T00:00:00.000000000",
          "2005-08-09T00:00:00.000000000",
          "2005-10-11T00:00:00.000000000",
          "2005-12-08T00:00:00.000000000",
          "2006-01-29T00:00:00.000000000",
          "2006-01-30T00:00:00.000000000",
          "2006-02-08T00:00:00.000000000",
          "2006-02-20T00:00:00.000000000",
          "2006-02-21T00:00:00.000000000",
          "2006-04-04T00:00:00.000000000",
          "2006-06-26T00:00:00.000000000",
          "2006-07-16T00:00:00.000000000",
          "2006-08-07T00:00:00.000000000",
          "2006-08-08T00:00:00.000000000",
          "2006-10-10T00:00:00.000000000",
          "2006-11-07T00:00:00.000000000",
          "2006-12-03T00:00:00.000000000",
          "2007-01-30T00:00:00.000000000",
          "2007-02-20T00:00:00.000000000",
          "2007-03-06T00:00:00.000000000",
          "2007-03-07T00:00:00.000000000",
          "2007-03-19T00:00:00.000000000",
          "2007-03-20T00:00:00.000000000",
          "2007-04-02T00:00:00.000000000",
          "2007-04-14T00:00:00.000000000",
          "2007-05-15T00:00:00.000000000",
          "2007-06-21T00:00:00.000000000",
          "2007-07-19T00:00:00.000000000",
          "2007-08-15T00:00:00.000000000",
          "2007-09-08T00:00:00.000000000",
          "2007-11-14T00:00:00.000000000",
          "2007-12-06T00:00:00.000000000",
          "2008-01-15T00:00:00.000000000",
          "2008-02-12T00:00:00.000000000",
          "2008-02-22T00:00:00.000000000",
          "2008-03-13T00:00:00.000000000",
          "2008-04-14T00:00:00.000000000",
          "2008-05-29T00:00:00.000000000",
          "2008-06-22T00:00:00.000000000",
          "2008-07-16T00:00:00.000000000",
          "2008-08-14T00:00:00.000000000",
          "2008-09-10T00:00:00.000000000",
          "2008-10-09T00:00:00.000000000",
          "2009-03-19T00:00:00.000000000",
          "2009-06-11T00:00:00.000000000",
          "2009-06-12T00:00:00.000000000",
          "2009-07-15T00:00:00.000000000",
          "2009-07-16T00:00:00.000000000",
          "2009-08-15T00:00:00.000000000",
          "2009-09-10T00:00:00.000000000",
          "2009-10-10T00:00:00.000000000",
          "2009-11-08T00:00:00.000000000",
          "2009-12-09T00:00:00.000000000",
          "2010-03-10T00:00:00.000000000",
          "2010-04-22T00:00:00.000000000",
          "2010-04-23T00:00:00.000000000",
          "2010-05-14T00:00:00.000000000",
          "2010-06-23T00:00:00.000000000",
          "2010-06-24T00:00:00.000000000",
          "2010-07-24T00:00:00.000000000",
          "2010-09-06T00:00:00.000000000",
          "2010-10-05T00:00:00.000000000",
          "2010-11-09T00:00:00.000000000",
          "2010-12-09T00:00:00.000000000",
          "2011-03-05T00:00:00.000000000",
          "2011-03-26T00:00:00.000000000",
          "2011-04-28T00:00:00.000000000",
          "2011-06-15T00:00:00.000000000",
          "2011-07-05T00:00:00.000000000",
          "2011-08-20T00:00:00.000000000",
          "2011-09-17T00:00:00.000000000",
          "2011-11-17T00:00:00.000000000",
          "2011-12-07T00:00:00.000000000",
          "2012-01-28T00:00:00.000000000",
          "2012-01-29T00:00:00.000000000",
          "2012-02-09T00:00:00.000000000",
          "2012-03-07T00:00:00.000000000",
          "2012-04-12T00:00:00.000000000",
          "2012-04-26T00:00:00.000000000",
          "2012-05-18T00:00:00.000000000",
          "2012-06-18T00:00:00.000000000",
          "2012-07-12T00:00:00.000000000",
          "2012-08-21T00:00:00.000000000",
          "2012-09-11T00:00:00.000000000",
          "2012-10-18T00:00:00.000000000",
          "2012-11-13T00:00:00.000000000",
          "2012-12-10T00:00:00.000000000",
          "2013-01-21T00:00:00.000000000",
          "2013-01-22T00:00:00.000000000",
          "2013-02-11T00:00:00.000000000",
          "2013-02-25T00:00:00.000000000",
          "2013-03-11T00:00:00.000000000",
          "2013-03-12T00:00:00.000000000",
          "2013-03-27T00:00:00.000000000",
          "2013-04-24T00:00:00.000000000",
          "2013-05-16T00:00:00.000000000",
          "2013-06-14T00:00:00.000000000",
          "2013-07-08T00:00:00.000000000",
          "2013-08-02T00:00:00.000000000",
          "2013-09-16T00:00:00.000000000",
          "2013-10-18T00:00:00.000000000",
          "2013-11-13T00:00:00.000000000",
          "2013-12-08T00:00:00.000000000",
          "2014-03-05T00:00:00.000000000",
          "2014-04-11T00:00:00.000000000",
          "2014-04-28T00:00:00.000000000",
          "2014-08-19T00:00:00.000000000",
          "2014-09-13T00:00:00.000000000",
          "2014-10-28T00:00:00.000000000",
          "2014-11-19T00:00:00.000000000",
          "2014-12-11T00:00:00.000000000",
          "2015-02-03T00:00:00.000000000",
          "2015-02-20T00:00:00.000000000",
          "2015-03-12T00:00:00.000000000",
          "2015-04-07T00:00:00.000000000",
          "2015-04-23T00:00:00.000000000",
          "2015-05-12T00:00:00.000000000",
          "2015-05-27T00:00:00.000000000",
          "2015-06-23T00:00:00.000000000",
          "2015-07-14T00:00:00.000000000",
          "2015-08-18T00:00:00.000000000",
          "2015-09-12T00:00:00.000000000",
          "2015-11-29T00:00:00.000000000",
          "2015-12-11T00:00:00.000000000",
          "2016-03-08T00:00:00.000000000",
          "2016-03-23T00:00:00.000000000",
          "2016-04-05T00:00:00.000000000",
          "2016-04-14T00:00:00.000000000",
          "2016-05-04T00:00:00.000000000",
          "2016-06-16T00:00:00.000000000",
          "2016-07-22T00:00:00.000000000",
          "2016-08-17T00:00:00.000000000",
          "2016-09-21T00:00:00.000000000",
          "2016-10-19T00:00:00.000000000",
          "2016-11-19T00:00:00.000000000",
          "2016-12-13T00:00:00.000000000",
          "2017-01-06T00:00:00.000000000",
          "2017-02-19T00:00:00.000000000",
          "2017-02-20T00:00:00.000000000",
          "2017-05-30T00:00:00.000000000",
          "2017-05-31T00:00:00.000000000",
          "2017-06-13T00:00:00.000000000",
          "2017-07-18T00:00:00.000000000",
          "2017-08-15T00:00:00.000000000",
          "2017-09-12T00:00:00.000000000",
          "2017-10-16T00:00:00.000000000",
          "2017-11-17T00:00:00.000000000",
          "2017-12-12T00:00:00.000000000",
          "2018-01-15T00:00:00.000000000",
          "2018-02-09T00:00:00.000000000",
          "2018-02-10T00:00:00.000000000",
          "2018-02-26T00:00:00.000000000",
          "2018-03-14T00:00:00.000000000",
          "2018-03-15T00:00:00.000000000",
          "2018-03-23T00:00:00.000000000",
          "2018-04-15T00:00:00.000000000",
          "2018-04-25T00:00:00.000000000",
          "2018-05-23T00:00:00.000000000",
          "2018-06-12T00:00:00.000000000",
          "2018-07-20T00:00:00.000000000",
          "2018-08-13T00:00:00.000000000",
          "2018-09-11T00:00:00.000000000",
          "2018-10-18T00:00:00.000000000",
          "2018-10-19T00:00:00.000000000",
          "2018-11-06T00:00:00.000000000",
          "2018-11-07T00:00:00.000000000",
          "2018-12-14T00:00:00.000000000",
          "2019-01-11T00:00:00.000000000",
          "2019-03-12T00:00:00.000000000",
          "2019-03-15T00:00:00.000000000",
          "2019-05-13T00:00:00.000000000",
          "2019-06-06T00:00:00.000000000",
          "2019-07-16T00:00:00.000000000",
          "2019-08-18T00:00:00.000000000",
          "2019-09-09T00:00:00.000000000",
          "2019-09-10T00:00:00.000000000",
          "2019-10-22T00:00:00.000000000",
          "2019-11-17T00:00:00.000000000",
          "2019-12-11T00:00:00.000000000",
          "2020-01-25T00:00:00.000000000",
          "2020-02-28T00:00:00.000000000",
          "2020-07-10T00:00:00.000000000",
          "2020-07-30T00:00:00.000000000",
          "2020-07-31T00:00:00.000000000",
          "2020-08-17T00:00:00.000000000",
          "2020-08-18T00:00:00.000000000",
          "2020-09-23T00:00:00.000000000",
          "2020-10-26T00:00:00.000000000",
          "2020-11-17T00:00:00.000000000",
          "2020-12-10T00:00:00.000000000",
          "2021-02-12T00:00:00.000000000",
          "2021-03-18T00:00:00.000000000",
          "2021-03-24T00:00:00.000000000",
          "2021-04-05T00:00:00.000000000",
          "2021-04-29T00:00:00.000000000",
          "2021-06-14T00:00:00.000000000",
          "2021-07-10T00:00:00.000000000",
          "2021-08-19T00:00:00.000000000",
          "2021-10-04T00:00:00.000000000",
          "2021-11-16T00:00:00.000000000",
          "2021-12-13T00:00:00.000000000",
          "2022-01-12T00:00:00.000000000",
          "2022-03-29T00:00:00.000000000",
          "2022-05-01T00:00:00.000000000",
          "2022-05-23T00:00:00.000000000",
          "2022-07-15T00:00:00.000000000",
          "2022-08-13T00:00:00.000000000",
          "2022-09-17T00:00:00.000000000",
          "2022-09-18T00:00:00.000000000",
          "2022-11-23T00:00:00.000000000",
          "2022-12-13T00:00:00.000000000"
         ],
         "y": [
          1.108,
          0.884,
          1.3479999999999999,
          1.2580000000000002,
          0.774,
          0.512,
          0.794,
          0.892,
          0.5920000000000001,
          0.40599999999999997,
          1.152,
          0.8039999999999999,
          0.7120000000000001,
          0.9500000000000001,
          1.07,
          2.4760000000000004,
          0.9800000000000001,
          0.786,
          1.2040000000000002,
          1.0040000000000002,
          0.794,
          1.004,
          0.828,
          0.6920000000000001,
          1.7620000000000002,
          0.752,
          0.9420000000000002,
          0.886,
          1.0260000000000002,
          0.886,
          0.8879999999999999,
          1.242,
          1.662,
          1.94,
          1.292,
          1.2080000000000002,
          1.05,
          0.9120000000000001,
          0.7000000000000001,
          1.29,
          0.9280000000000002,
          0.8039999999999999,
          1.8820000000000001,
          2.108,
          1.852,
          1.8060000000000003,
          1.4760000000000002,
          0.8560000000000001,
          1.8240000000000003,
          2.174,
          0.676,
          0.626,
          0.738,
          1.02,
          0.8260000000000001,
          0.628,
          0.596,
          0.5119999999999999,
          0.794,
          1.738,
          2.436,
          2.4120000000000004,
          2.234,
          1.486,
          2.516,
          1.8740000000000003,
          0.768,
          0.916,
          1.262,
          0.892,
          0.714,
          1.062,
          0.916,
          1.4160000000000001,
          2.336,
          1.046,
          1.004,
          1.708,
          1.1280000000000001,
          0.8399999999999999,
          0.838,
          0.734,
          0.9240000000000003,
          1.2520000000000002,
          1.5579999999999998,
          1.2960000000000003,
          1.9660000000000002,
          1.324,
          2.208,
          1.554,
          0.754,
          2.132,
          1.334,
          0.992,
          0.7800000000000001,
          0.7120000000000001,
          0.8,
          1.318,
          1.572,
          1.288,
          0.98,
          2.0020000000000002,
          2.07,
          0.9040000000000001,
          0.8239999999999998,
          2.15,
          1.2220000000000002,
          1.2720000000000002,
          1.7320000000000002,
          1.566,
          1.176,
          1.04,
          1.6940000000000002,
          1.0399999999999998,
          1.834,
          2.2340000000000004,
          2.468,
          2.336,
          1.05,
          1.724,
          1.6600000000000001,
          1.508,
          1.768,
          1.3260000000000003,
          0.7580000000000001,
          0.802,
          2.06,
          2.7119999999999997,
          2.1840000000000006,
          2.8280000000000003,
          3.3160000000000007,
          1.3599999999999999,
          1.54,
          1.596,
          0.674,
          1.374,
          1.312,
          0.7000000000000001,
          2.044,
          2.1799999999999997,
          2.2640000000000002,
          2.78,
          2.5240000000000005,
          2.3720000000000003,
          2.3920000000000003,
          1.068,
          0.63,
          1.5180000000000002,
          0.7600000000000001,
          0.744,
          1.1720000000000002,
          0.7160000000000001,
          3.476,
          2.168,
          2.1479999999999997,
          2.948,
          0.7100000000000001,
          1.052,
          1.076,
          1.1680000000000001,
          1.1640000000000001,
          1.094,
          0.9,
          0.8800000000000001,
          1.7900000000000003,
          1.6440000000000001,
          1.9479999999999997,
          1.4000000000000001,
          1.9040000000000004,
          1.8,
          1.506,
          1.084,
          1.0200000000000002,
          1.568,
          1.154,
          1.7600000000000002,
          0.666,
          0.8560000000000001,
          1.2780000000000002,
          1.18,
          1.3040000000000003,
          1.348,
          0.944,
          3.04,
          0.9319999999999999,
          2.406,
          1.1740000000000002,
          1.3020000000000003,
          1.03,
          1.602,
          1.3195555555555556,
          1.02,
          0.968,
          1.516,
          1.736,
          1.102,
          1.7939999999999998,
          1.0360000000000003,
          1.578,
          1.9960000000000002,
          1.096,
          1.4200000000000004,
          3.3440000000000007,
          0.38,
          0.372,
          0.8300000000000001,
          1.368,
          2.2,
          0.994,
          1.4240000000000002,
          2.602,
          2.0940000000000003,
          2.988,
          2.2659999999999996,
          2.046,
          1.0239999999999998,
          1.784,
          1.4340000000000002,
          0.9300000000000002,
          1.904,
          1.2880000000000003,
          1.658,
          1.56,
          2.5460000000000003,
          2.9480000000000004,
          2.4080000000000004,
          1.56,
          3.0540000000000003,
          1.9080000000000004,
          1.05,
          1.038,
          1.3399999999999999,
          1.7919999999999998,
          2.096,
          1.688,
          2.3640000000000003,
          2.424,
          1.536,
          1.588,
          3.2520000000000007,
          1.74,
          1.33,
          1.5180000000000002,
          2.076,
          2.152,
          1.508,
          1.3600000000000003,
          1.4120000000000001,
          0.9460000000000002,
          2.5820000000000003,
          2.07,
          1.6,
          1.6880000000000004,
          1.11,
          1.198,
          0.8,
          1.1340000000000001,
          0.6120000000000001,
          1.306,
          2.8880000000000003,
          1.57,
          1.008,
          3.254,
          2.33,
          0.792,
          1.172,
          2.0340000000000003,
          1.1039999999999999,
          0.9880000000000001,
          0.758,
          0.886,
          1.4400000000000002,
          1.2140000000000002,
          0.952,
          2.2380000000000004,
          0.4020000000000001,
          0.8900000000000001,
          0.7340000000000001,
          0.37400000000000005,
          0.334,
          0.654,
          0.6180000000000002,
          0.8039999999999999,
          0.96,
          1.18,
          1.704,
          1.3760000000000001,
          2.2079999999999997,
          1.5980000000000003,
          1.6340000000000001,
          1.1320000000000001,
          1.098,
          0.684,
          0.768,
          0.5900000000000001,
          1.1,
          1.4280000000000002,
          0.68,
          1.144,
          1.364,
          2.054,
          2.06,
          1.4820000000000002,
          2.364,
          1.616,
          1.2300000000000002,
          0.9899999999999999,
          0.7100000000000001,
          0.808,
          0.6640000000000001,
          1.404,
          1.008,
          1.2280000000000002,
          1.7280000000000002,
          2.776,
          2.816,
          2.7419999999999995,
          2.068,
          3.06,
          1.03,
          2.64,
          2.8280000000000003,
          1.068,
          2.1159999999999997,
          1.24,
          0.7360000000000002,
          1.3319999999999999,
          0.746,
          1.752,
          2.064,
          1.82,
          2.028,
          0.6720000000000002,
          1.096,
          0.5860000000000001,
          0.876,
          2.1460000000000004,
          1.346,
          2.1460000000000004,
          1.534,
          2.99,
          1.056,
          1.9580000000000002,
          1.9000000000000001,
          1.4600000000000004,
          0.968,
          2.204,
          0.5480000000000002,
          1.008,
          1.2640000000000002,
          0.704,
          1.518,
          1.46,
          0.712,
          0.75,
          0.5860000000000001,
          1.11
         ]
        }
       ],
       "layout": {
        "height": 600,
        "legend": {
         "title": {
          "text": "Legend"
         }
        },
        "shapes": [
         {
          "line": {
           "color": "black",
           "dash": "dash",
           "width": 2
          },
          "name": "Year 2000",
          "type": "line",
          "x0": "2002-01-01",
          "x1": "2002-01-01",
          "xref": "x",
          "y0": 0,
          "y1": 1,
          "yref": "paper"
         },
         {
          "line": {
           "color": "black",
           "dash": "dash",
           "width": 2
          },
          "name": "Year 2015",
          "type": "line",
          "x0": "2015-01-01",
          "x1": "2015-01-01",
          "xref": "x",
          "y0": 0,
          "y1": 1,
          "yref": "paper"
         }
        ],
        "showlegend": true,
        "template": {
         "data": {
          "bar": [
           {
            "error_x": {
             "color": "#2a3f5f"
            },
            "error_y": {
             "color": "#2a3f5f"
            },
            "marker": {
             "line": {
              "color": "#E5ECF6",
              "width": 0.5
             },
             "pattern": {
              "fillmode": "overlay",
              "size": 10,
              "solidity": 0.2
             }
            },
            "type": "bar"
           }
          ],
          "barpolar": [
           {
            "marker": {
             "line": {
              "color": "#E5ECF6",
              "width": 0.5
             },
             "pattern": {
              "fillmode": "overlay",
              "size": 10,
              "solidity": 0.2
             }
            },
            "type": "barpolar"
           }
          ],
          "carpet": [
           {
            "aaxis": {
             "endlinecolor": "#2a3f5f",
             "gridcolor": "white",
             "linecolor": "white",
             "minorgridcolor": "white",
             "startlinecolor": "#2a3f5f"
            },
            "baxis": {
             "endlinecolor": "#2a3f5f",
             "gridcolor": "white",
             "linecolor": "white",
             "minorgridcolor": "white",
             "startlinecolor": "#2a3f5f"
            },
            "type": "carpet"
           }
          ],
          "choropleth": [
           {
            "colorbar": {
             "outlinewidth": 0,
             "ticks": ""
            },
            "type": "choropleth"
           }
          ],
          "contour": [
           {
            "colorbar": {
             "outlinewidth": 0,
             "ticks": ""
            },
            "colorscale": [
             [
              0,
              "#0d0887"
             ],
             [
              0.1111111111111111,
              "#46039f"
             ],
             [
              0.2222222222222222,
              "#7201a8"
             ],
             [
              0.3333333333333333,
              "#9c179e"
             ],
             [
              0.4444444444444444,
              "#bd3786"
             ],
             [
              0.5555555555555556,
              "#d8576b"
             ],
             [
              0.6666666666666666,
              "#ed7953"
             ],
             [
              0.7777777777777778,
              "#fb9f3a"
             ],
             [
              0.8888888888888888,
              "#fdca26"
             ],
             [
              1,
              "#f0f921"
             ]
            ],
            "type": "contour"
           }
          ],
          "contourcarpet": [
           {
            "colorbar": {
             "outlinewidth": 0,
             "ticks": ""
            },
            "type": "contourcarpet"
           }
          ],
          "heatmap": [
           {
            "colorbar": {
             "outlinewidth": 0,
             "ticks": ""
            },
            "colorscale": [
             [
              0,
              "#0d0887"
             ],
             [
              0.1111111111111111,
              "#46039f"
             ],
             [
              0.2222222222222222,
              "#7201a8"
             ],
             [
              0.3333333333333333,
              "#9c179e"
             ],
             [
              0.4444444444444444,
              "#bd3786"
             ],
             [
              0.5555555555555556,
              "#d8576b"
             ],
             [
              0.6666666666666666,
              "#ed7953"
             ],
             [
              0.7777777777777778,
              "#fb9f3a"
             ],
             [
              0.8888888888888888,
              "#fdca26"
             ],
             [
              1,
              "#f0f921"
             ]
            ],
            "type": "heatmap"
           }
          ],
          "heatmapgl": [
           {
            "colorbar": {
             "outlinewidth": 0,
             "ticks": ""
            },
            "colorscale": [
             [
              0,
              "#0d0887"
             ],
             [
              0.1111111111111111,
              "#46039f"
             ],
             [
              0.2222222222222222,
              "#7201a8"
             ],
             [
              0.3333333333333333,
              "#9c179e"
             ],
             [
              0.4444444444444444,
              "#bd3786"
             ],
             [
              0.5555555555555556,
              "#d8576b"
             ],
             [
              0.6666666666666666,
              "#ed7953"
             ],
             [
              0.7777777777777778,
              "#fb9f3a"
             ],
             [
              0.8888888888888888,
              "#fdca26"
             ],
             [
              1,
              "#f0f921"
             ]
            ],
            "type": "heatmapgl"
           }
          ],
          "histogram": [
           {
            "marker": {
             "pattern": {
              "fillmode": "overlay",
              "size": 10,
              "solidity": 0.2
             }
            },
            "type": "histogram"
           }
          ],
          "histogram2d": [
           {
            "colorbar": {
             "outlinewidth": 0,
             "ticks": ""
            },
            "colorscale": [
             [
              0,
              "#0d0887"
             ],
             [
              0.1111111111111111,
              "#46039f"
             ],
             [
              0.2222222222222222,
              "#7201a8"
             ],
             [
              0.3333333333333333,
              "#9c179e"
             ],
             [
              0.4444444444444444,
              "#bd3786"
             ],
             [
              0.5555555555555556,
              "#d8576b"
             ],
             [
              0.6666666666666666,
              "#ed7953"
             ],
             [
              0.7777777777777778,
              "#fb9f3a"
             ],
             [
              0.8888888888888888,
              "#fdca26"
             ],
             [
              1,
              "#f0f921"
             ]
            ],
            "type": "histogram2d"
           }
          ],
          "histogram2dcontour": [
           {
            "colorbar": {
             "outlinewidth": 0,
             "ticks": ""
            },
            "colorscale": [
             [
              0,
              "#0d0887"
             ],
             [
              0.1111111111111111,
              "#46039f"
             ],
             [
              0.2222222222222222,
              "#7201a8"
             ],
             [
              0.3333333333333333,
              "#9c179e"
             ],
             [
              0.4444444444444444,
              "#bd3786"
             ],
             [
              0.5555555555555556,
              "#d8576b"
             ],
             [
              0.6666666666666666,
              "#ed7953"
             ],
             [
              0.7777777777777778,
              "#fb9f3a"
             ],
             [
              0.8888888888888888,
              "#fdca26"
             ],
             [
              1,
              "#f0f921"
             ]
            ],
            "type": "histogram2dcontour"
           }
          ],
          "mesh3d": [
           {
            "colorbar": {
             "outlinewidth": 0,
             "ticks": ""
            },
            "type": "mesh3d"
           }
          ],
          "parcoords": [
           {
            "line": {
             "colorbar": {
              "outlinewidth": 0,
              "ticks": ""
             }
            },
            "type": "parcoords"
           }
          ],
          "pie": [
           {
            "automargin": true,
            "type": "pie"
           }
          ],
          "scatter": [
           {
            "fillpattern": {
             "fillmode": "overlay",
             "size": 10,
             "solidity": 0.2
            },
            "type": "scatter"
           }
          ],
          "scatter3d": [
           {
            "line": {
             "colorbar": {
              "outlinewidth": 0,
              "ticks": ""
             }
            },
            "marker": {
             "colorbar": {
              "outlinewidth": 0,
              "ticks": ""
             }
            },
            "type": "scatter3d"
           }
          ],
          "scattercarpet": [
           {
            "marker": {
             "colorbar": {
              "outlinewidth": 0,
              "ticks": ""
             }
            },
            "type": "scattercarpet"
           }
          ],
          "scattergeo": [
           {
            "marker": {
             "colorbar": {
              "outlinewidth": 0,
              "ticks": ""
             }
            },
            "type": "scattergeo"
           }
          ],
          "scattergl": [
           {
            "marker": {
             "colorbar": {
              "outlinewidth": 0,
              "ticks": ""
             }
            },
            "type": "scattergl"
           }
          ],
          "scattermapbox": [
           {
            "marker": {
             "colorbar": {
              "outlinewidth": 0,
              "ticks": ""
             }
            },
            "type": "scattermapbox"
           }
          ],
          "scatterpolar": [
           {
            "marker": {
             "colorbar": {
              "outlinewidth": 0,
              "ticks": ""
             }
            },
            "type": "scatterpolar"
           }
          ],
          "scatterpolargl": [
           {
            "marker": {
             "colorbar": {
              "outlinewidth": 0,
              "ticks": ""
             }
            },
            "type": "scatterpolargl"
           }
          ],
          "scatterternary": [
           {
            "marker": {
             "colorbar": {
              "outlinewidth": 0,
              "ticks": ""
             }
            },
            "type": "scatterternary"
           }
          ],
          "surface": [
           {
            "colorbar": {
             "outlinewidth": 0,
             "ticks": ""
            },
            "colorscale": [
             [
              0,
              "#0d0887"
             ],
             [
              0.1111111111111111,
              "#46039f"
             ],
             [
              0.2222222222222222,
              "#7201a8"
             ],
             [
              0.3333333333333333,
              "#9c179e"
             ],
             [
              0.4444444444444444,
              "#bd3786"
             ],
             [
              0.5555555555555556,
              "#d8576b"
             ],
             [
              0.6666666666666666,
              "#ed7953"
             ],
             [
              0.7777777777777778,
              "#fb9f3a"
             ],
             [
              0.8888888888888888,
              "#fdca26"
             ],
             [
              1,
              "#f0f921"
             ]
            ],
            "type": "surface"
           }
          ],
          "table": [
           {
            "cells": {
             "fill": {
              "color": "#EBF0F8"
             },
             "line": {
              "color": "white"
             }
            },
            "header": {
             "fill": {
              "color": "#C8D4E3"
             },
             "line": {
              "color": "white"
             }
            },
            "type": "table"
           }
          ]
         },
         "layout": {
          "annotationdefaults": {
           "arrowcolor": "#2a3f5f",
           "arrowhead": 0,
           "arrowwidth": 1
          },
          "autotypenumbers": "strict",
          "coloraxis": {
           "colorbar": {
            "outlinewidth": 0,
            "ticks": ""
           }
          },
          "colorscale": {
           "diverging": [
            [
             0,
             "#8e0152"
            ],
            [
             0.1,
             "#c51b7d"
            ],
            [
             0.2,
             "#de77ae"
            ],
            [
             0.3,
             "#f1b6da"
            ],
            [
             0.4,
             "#fde0ef"
            ],
            [
             0.5,
             "#f7f7f7"
            ],
            [
             0.6,
             "#e6f5d0"
            ],
            [
             0.7,
             "#b8e186"
            ],
            [
             0.8,
             "#7fbc41"
            ],
            [
             0.9,
             "#4d9221"
            ],
            [
             1,
             "#276419"
            ]
           ],
           "sequential": [
            [
             0,
             "#0d0887"
            ],
            [
             0.1111111111111111,
             "#46039f"
            ],
            [
             0.2222222222222222,
             "#7201a8"
            ],
            [
             0.3333333333333333,
             "#9c179e"
            ],
            [
             0.4444444444444444,
             "#bd3786"
            ],
            [
             0.5555555555555556,
             "#d8576b"
            ],
            [
             0.6666666666666666,
             "#ed7953"
            ],
            [
             0.7777777777777778,
             "#fb9f3a"
            ],
            [
             0.8888888888888888,
             "#fdca26"
            ],
            [
             1,
             "#f0f921"
            ]
           ],
           "sequentialminus": [
            [
             0,
             "#0d0887"
            ],
            [
             0.1111111111111111,
             "#46039f"
            ],
            [
             0.2222222222222222,
             "#7201a8"
            ],
            [
             0.3333333333333333,
             "#9c179e"
            ],
            [
             0.4444444444444444,
             "#bd3786"
            ],
            [
             0.5555555555555556,
             "#d8576b"
            ],
            [
             0.6666666666666666,
             "#ed7953"
            ],
            [
             0.7777777777777778,
             "#fb9f3a"
            ],
            [
             0.8888888888888888,
             "#fdca26"
            ],
            [
             1,
             "#f0f921"
            ]
           ]
          },
          "colorway": [
           "#636efa",
           "#EF553B",
           "#00cc96",
           "#ab63fa",
           "#FFA15A",
           "#19d3f3",
           "#FF6692",
           "#B6E880",
           "#FF97FF",
           "#FECB52"
          ],
          "font": {
           "color": "#2a3f5f"
          },
          "geo": {
           "bgcolor": "white",
           "lakecolor": "white",
           "landcolor": "#E5ECF6",
           "showlakes": true,
           "showland": true,
           "subunitcolor": "white"
          },
          "hoverlabel": {
           "align": "left"
          },
          "hovermode": "closest",
          "mapbox": {
           "style": "light"
          },
          "paper_bgcolor": "white",
          "plot_bgcolor": "#E5ECF6",
          "polar": {
           "angularaxis": {
            "gridcolor": "white",
            "linecolor": "white",
            "ticks": ""
           },
           "bgcolor": "#E5ECF6",
           "radialaxis": {
            "gridcolor": "white",
            "linecolor": "white",
            "ticks": ""
           }
          },
          "scene": {
           "xaxis": {
            "backgroundcolor": "#E5ECF6",
            "gridcolor": "white",
            "gridwidth": 2,
            "linecolor": "white",
            "showbackground": true,
            "ticks": "",
            "zerolinecolor": "white"
           },
           "yaxis": {
            "backgroundcolor": "#E5ECF6",
            "gridcolor": "white",
            "gridwidth": 2,
            "linecolor": "white",
            "showbackground": true,
            "ticks": "",
            "zerolinecolor": "white"
           },
           "zaxis": {
            "backgroundcolor": "#E5ECF6",
            "gridcolor": "white",
            "gridwidth": 2,
            "linecolor": "white",
            "showbackground": true,
            "ticks": "",
            "zerolinecolor": "white"
           }
          },
          "shapedefaults": {
           "line": {
            "color": "#2a3f5f"
           }
          },
          "ternary": {
           "aaxis": {
            "gridcolor": "white",
            "linecolor": "white",
            "ticks": ""
           },
           "baxis": {
            "gridcolor": "white",
            "linecolor": "white",
            "ticks": ""
           },
           "bgcolor": "#E5ECF6",
           "caxis": {
            "gridcolor": "white",
            "linecolor": "white",
            "ticks": ""
           }
          },
          "title": {
           "x": 0.05
          },
          "xaxis": {
           "automargin": true,
           "gridcolor": "white",
           "linecolor": "white",
           "ticks": "",
           "title": {
            "standoff": 15
           },
           "zerolinecolor": "white",
           "zerolinewidth": 2
          },
          "yaxis": {
           "automargin": true,
           "gridcolor": "white",
           "linecolor": "white",
           "ticks": "",
           "title": {
            "standoff": 15
           },
           "zerolinecolor": "white",
           "zerolinewidth": 2
          }
         }
        },
        "title": {
         "text": "Day and Night Data at Bats : remove interannual variability"
        },
        "xaxis": {
         "title": {
          "text": "Time"
         }
        },
        "yaxis": {
         "title": {
          "text": "Zooplankton biomass (mg/m3)"
         }
        }
       }
      }
     },
     "metadata": {},
     "output_type": "display_data"
    }
   ],
   "source": [
    "fig = go.Figure()\n",
    "\n",
    "# Plot day data\n",
    "fig.add_trace(\n",
    "    go.Scatter(\n",
    "        x=day_data.time.data.flatten(),\n",
    "        y=day_data.data.flatten(),\n",
    "        mode=\"markers\",\n",
    "        name=\"Day\",\n",
    "    )\n",
    ")\n",
    "\n",
    "# Plot night data\n",
    "fig.add_trace(\n",
    "    go.Scatter(\n",
    "        x=night_data.time.data.flatten(),\n",
    "        y=night_data.data.flatten(),\n",
    "        mode=\"markers\",\n",
    "        name=\"Night\",\n",
    "    )\n",
    ")\n",
    "\n",
    "# Add vertical lines for 2000 and 2015\n",
    "fig.add_shape(\n",
    "    type=\"line\",\n",
    "    x0=time_start,\n",
    "    y0=0,\n",
    "    x1=time_start,\n",
    "    y1=1,\n",
    "    xref=\"x\",\n",
    "    yref=\"paper\",\n",
    "    line={\"color\": \"black\", \"width\": 2, \"dash\": \"dash\"},\n",
    "    name=\"Year 2000\",\n",
    ")\n",
    "\n",
    "fig.add_shape(\n",
    "    type=\"line\",\n",
    "    x0=time_end,\n",
    "    y0=0,\n",
    "    x1=time_end,\n",
    "    y1=1,\n",
    "    xref=\"x\",\n",
    "    yref=\"paper\",\n",
    "    line={\"color\": \"black\", \"width\": 2, \"dash\": \"dash\"},\n",
    "    name=\"Year 2015\",\n",
    ")\n",
    "\n",
    "# Update layout\n",
    "fig.update_layout(\n",
    "    title=f\"Day and Night Data at {station} : remove interannual variability\",\n",
    "    xaxis_title=\"Time\",\n",
    "    yaxis_title=\"Zooplankton biomass (mg/m3)\",\n",
    "    legend_title=\"Legend\",\n",
    "    height=600,\n",
    "    showlegend=True,\n",
    ")\n",
    "\n",
    "fig.show()"
   ]
  },
  {
   "cell_type": "code",
   "execution_count": 11,
   "metadata": {},
   "outputs": [
    {
     "data": {
      "application/vnd.plotly.v1+json": {
       "config": {
        "plotlyServerURL": "https://plot.ly"
       },
       "data": [
        {
         "marker": {
          "color": "firebrick",
          "opacity": 0.5
         },
         "mode": "markers",
         "name": "Day Data",
         "type": "scatter",
         "x": [
          "2002-01-22T00:00:00",
          "2002-02-13T00:00:00",
          "2002-02-27T00:00:00",
          "2002-03-07T00:00:00",
          "2002-04-04T00:00:00",
          "2002-04-16T00:00:00",
          "2002-05-14T00:00:00",
          "2002-06-04T00:00:00",
          "2002-07-02T00:00:00",
          "2002-08-20T00:00:00",
          "2002-09-17T00:00:00",
          "2002-10-08T00:00:00",
          "2002-11-13T00:00:00",
          "2002-12-10T00:00:00",
          "2003-02-04T00:00:00",
          "2003-02-21T00:00:00",
          "2003-03-04T00:00:00",
          "2003-03-21T00:00:00",
          "2003-04-03T00:00:00",
          "2003-04-22T00:00:00",
          "2003-05-20T00:00:00",
          "2003-07-04T00:00:00",
          "2003-07-15T00:00:00",
          "2003-08-12T00:00:00",
          "2003-09-19T00:00:00",
          "2003-10-07T00:00:00",
          "2003-11-04T00:00:00",
          "2003-12-02T00:00:00",
          "2004-01-27T00:00:00",
          "2004-02-14T00:00:00",
          "2004-02-24T00:00:00",
          "2004-04-07T00:00:00",
          "2004-04-21T00:00:00",
          "2004-05-18T00:00:00",
          "2004-06-15T00:00:00",
          "2004-09-14T00:00:00",
          "2004-10-13T00:00:00",
          "2004-11-12T00:00:00",
          "2004-12-08T00:00:00",
          "2005-01-27T00:00:00",
          "2005-02-08T00:00:00",
          "2005-02-24T00:00:00",
          "2005-03-08T00:00:00",
          "2005-03-21T00:00:00",
          "2005-04-06T00:00:00",
          "2005-04-19T00:00:00",
          "2005-05-17T00:00:00",
          "2005-06-14T00:00:00",
          "2005-07-19T00:00:00",
          "2005-08-10T00:00:00",
          "2005-09-06T00:00:00",
          "2005-10-11T00:00:00",
          "2005-11-10T00:00:00",
          "2006-01-29T00:00:00",
          "2006-02-22T00:00:00",
          "2006-05-10T00:00:00",
          "2006-07-18T00:00:00",
          "2006-08-08T00:00:00",
          "2006-10-10T00:00:00",
          "2006-11-07T00:00:00",
          "2006-12-04T00:00:00",
          "2007-02-01T00:00:00",
          "2007-02-22T00:00:00",
          "2007-03-07T00:00:00",
          "2007-03-20T00:00:00",
          "2007-04-03T00:00:00",
          "2007-04-14T00:00:00",
          "2007-05-16T00:00:00",
          "2007-06-21T00:00:00",
          "2007-07-18T00:00:00",
          "2007-08-17T00:00:00",
          "2007-11-14T00:00:00",
          "2007-12-06T00:00:00",
          "2008-01-17T00:00:00",
          "2008-02-12T00:00:00",
          "2008-02-23T00:00:00",
          "2008-03-13T00:00:00",
          "2008-03-25T00:00:00",
          "2008-04-17T00:00:00",
          "2008-05-29T00:00:00",
          "2008-07-18T00:00:00",
          "2008-08-14T00:00:00",
          "2008-09-12T00:00:00",
          "2008-10-09T00:00:00",
          "2009-02-22T00:00:00",
          "2009-03-06T00:00:00",
          "2009-03-19T00:00:00",
          "2009-04-01T00:00:00",
          "2009-06-11T00:00:00",
          "2009-07-15T00:00:00",
          "2009-08-15T00:00:00",
          "2009-09-11T00:00:00",
          "2009-10-10T00:00:00",
          "2009-11-08T00:00:00",
          "2009-12-09T00:00:00",
          "2010-02-24T00:00:00",
          "2010-03-09T00:00:00",
          "2010-04-07T00:00:00",
          "2010-04-21T00:00:00",
          "2010-05-13T00:00:00",
          "2010-06-23T00:00:00",
          "2010-07-24T00:00:00",
          "2010-09-06T00:00:00",
          "2010-10-06T00:00:00",
          "2010-11-10T00:00:00",
          "2010-12-09T00:00:00",
          "2011-03-04T00:00:00",
          "2011-04-27T00:00:00",
          "2011-05-17T00:00:00",
          "2011-06-15T00:00:00",
          "2011-07-06T00:00:00",
          "2011-08-19T00:00:00",
          "2011-09-17T00:00:00",
          "2011-11-01T00:00:00",
          "2011-11-17T00:00:00",
          "2011-12-08T00:00:00",
          "2012-01-29T00:00:00",
          "2012-02-10T00:00:00",
          "2012-03-08T00:00:00",
          "2012-04-26T00:00:00",
          "2012-05-19T00:00:00",
          "2012-06-18T00:00:00",
          "2012-07-12T00:00:00",
          "2012-08-20T00:00:00",
          "2012-09-12T00:00:00",
          "2012-10-19T00:00:00",
          "2012-11-16T00:00:00",
          "2012-12-11T00:00:00",
          "2013-01-22T00:00:00",
          "2013-02-12T00:00:00",
          "2013-02-26T00:00:00",
          "2013-03-12T00:00:00",
          "2013-04-06T00:00:00",
          "2013-04-24T00:00:00",
          "2013-05-15T00:00:00",
          "2013-06-16T00:00:00",
          "2013-07-05T00:00:00",
          "2013-08-02T00:00:00",
          "2013-09-17T00:00:00",
          "2013-10-19T00:00:00",
          "2013-11-14T00:00:00",
          "2013-12-09T00:00:00",
          "2014-03-06T00:00:00",
          "2014-04-11T00:00:00",
          "2014-04-29T00:00:00",
          "2014-06-12T00:00:00",
          "2014-07-10T00:00:00",
          "2014-08-20T00:00:00",
          "2014-09-13T00:00:00",
          "2014-10-28T00:00:00",
          "2014-11-20T00:00:00",
          "2014-12-11T00:00:00"
         ],
         "y": [
          0.5240000000000001,
          0.486,
          1.09,
          0.952,
          1.6,
          0.446,
          0.588,
          0.528,
          0.8119999999999999,
          0.774,
          1.048,
          0.808,
          0.6320000000000001,
          0.638,
          0.6739999999999999,
          1.314,
          1.678,
          0.6960000000000001,
          1.3,
          0.7260000000000002,
          0.6480000000000001,
          0.8400000000000001,
          0.884,
          0.9819999999999999,
          1.3719999999999999,
          0.8800000000000001,
          0.508,
          0.374,
          0.664,
          1.336,
          1.692,
          1.1960000000000002,
          2.0220000000000002,
          0.87,
          0.7040000000000001,
          0.752,
          0.44000000000000006,
          0.5940000000000001,
          0.628,
          0.56,
          1.132,
          1.432,
          1.2940000000000003,
          1.8319999999999999,
          1.0479999999999998,
          1.6620000000000001,
          1.2180000000000002,
          0.8240000000000001,
          0.67,
          0.598,
          0.802,
          0.5040000000000001,
          0.5720000000000001,
          1.442,
          1.306,
          0.6859999999999999,
          0.606,
          0.868,
          0.8579999999999999,
          0.5180000000000001,
          0.42000000000000004,
          0.594,
          0.808,
          1.4900000000000002,
          1.4460000000000002,
          0.8660000000000002,
          0.536,
          0.7000000000000001,
          0.5880000000000001,
          0.9320000000000003,
          0.526,
          0.902,
          0.45599999999999996,
          1.176,
          0.47800000000000004,
          0.8660000000000002,
          0.58,
          1.192,
          0.08000000000000002,
          1.7460000000000002,
          0.568,
          0.5980000000000001,
          0.59,
          0.588,
          0.8480000000000001,
          0.756,
          1.37,
          0.4340000000000001,
          0.9273333333333333,
          1.068,
          1.1260000000000001,
          0.7240000000000001,
          0.66,
          0.7080000000000001,
          0.4960000000000001,
          0.47000000000000003,
          1.722,
          0.4720000000000001,
          0.246,
          1.942,
          1.0260000000000002,
          0.46799999999999997,
          1.1600000000000001,
          1.6280000000000001,
          0.7020000000000001,
          0.868,
          1.0399999999999998,
          1.6839999999999997,
          1.4640000000000004,
          1.1500000000000001,
          1.55,
          0.6400000000000001,
          1.04,
          0.48,
          1.294,
          0.69,
          1.186,
          1.2460000000000004,
          1.4460000000000002,
          1.1380000000000003,
          1.2720000000000002,
          0.9340000000000002,
          1.176,
          1.054,
          0.5540000000000002,
          0.9620000000000002,
          1.352,
          1.0040000000000002,
          1.366,
          1.69,
          1.7880000000000003,
          0.9500000000000001,
          1.3420000000000003,
          1.0760000000000003,
          0.7160000000000001,
          1.428,
          1.428,
          1.6830000000000003,
          0.782,
          0.7280000000000001,
          0.7740000000000001,
          0.788,
          1.8439999999999999,
          0.9580000000000001,
          0.9199999999999999,
          1.556,
          1.94,
          0.8580000000000001,
          0.6160000000000001,
          0.748,
          0.5300000000000001,
          0.3600000000000001
         ]
        },
        {
         "marker": {
          "color": "royalblue",
          "opacity": 0.5
         },
         "mode": "markers",
         "name": "Day Data",
         "type": "scatter",
         "x": [
          "2002-01-22T00:00:00",
          "2002-02-12T00:00:00",
          "2002-02-28T00:00:00",
          "2002-03-07T00:00:00",
          "2002-03-19T00:00:00",
          "2002-04-03T00:00:00",
          "2002-04-15T00:00:00",
          "2002-04-16T00:00:00",
          "2002-05-14T00:00:00",
          "2002-06-04T00:00:00",
          "2002-07-01T00:00:00",
          "2002-08-20T00:00:00",
          "2002-09-17T00:00:00",
          "2002-10-08T00:00:00",
          "2002-11-13T00:00:00",
          "2002-12-09T00:00:00",
          "2003-01-27T00:00:00",
          "2003-02-21T00:00:00",
          "2003-03-04T00:00:00",
          "2003-03-22T00:00:00",
          "2003-04-03T00:00:00",
          "2003-04-22T00:00:00",
          "2003-07-05T00:00:00",
          "2003-07-15T00:00:00",
          "2003-08-13T00:00:00",
          "2003-09-20T00:00:00",
          "2003-10-06T00:00:00",
          "2003-11-03T00:00:00",
          "2003-12-02T00:00:00",
          "2004-02-14T00:00:00",
          "2004-02-23T00:00:00",
          "2004-03-09T00:00:00",
          "2004-03-23T00:00:00",
          "2004-04-20T00:00:00",
          "2004-05-17T00:00:00",
          "2004-06-15T00:00:00",
          "2004-09-14T00:00:00",
          "2004-10-13T00:00:00",
          "2004-11-12T00:00:00",
          "2004-12-08T00:00:00",
          "2005-01-26T00:00:00",
          "2005-02-08T00:00:00",
          "2005-02-23T00:00:00",
          "2005-02-24T00:00:00",
          "2005-03-07T00:00:00",
          "2005-03-20T00:00:00",
          "2005-04-05T00:00:00",
          "2005-05-16T00:00:00",
          "2005-06-15T00:00:00",
          "2005-07-19T00:00:00",
          "2005-08-09T00:00:00",
          "2005-10-11T00:00:00",
          "2005-12-08T00:00:00",
          "2006-01-29T00:00:00",
          "2006-01-30T00:00:00",
          "2006-02-08T00:00:00",
          "2006-02-20T00:00:00",
          "2006-02-21T00:00:00",
          "2006-04-04T00:00:00",
          "2006-06-26T00:00:00",
          "2006-07-16T00:00:00",
          "2006-08-07T00:00:00",
          "2006-08-08T00:00:00",
          "2006-10-10T00:00:00",
          "2006-11-07T00:00:00",
          "2006-12-03T00:00:00",
          "2007-01-30T00:00:00",
          "2007-02-20T00:00:00",
          "2007-03-06T00:00:00",
          "2007-03-07T00:00:00",
          "2007-03-19T00:00:00",
          "2007-03-20T00:00:00",
          "2007-04-02T00:00:00",
          "2007-04-14T00:00:00",
          "2007-05-15T00:00:00",
          "2007-06-21T00:00:00",
          "2007-07-19T00:00:00",
          "2007-08-15T00:00:00",
          "2007-09-08T00:00:00",
          "2007-11-14T00:00:00",
          "2007-12-06T00:00:00",
          "2008-01-15T00:00:00",
          "2008-02-12T00:00:00",
          "2008-02-22T00:00:00",
          "2008-03-13T00:00:00",
          "2008-04-14T00:00:00",
          "2008-05-29T00:00:00",
          "2008-06-22T00:00:00",
          "2008-07-16T00:00:00",
          "2008-08-14T00:00:00",
          "2008-09-10T00:00:00",
          "2008-10-09T00:00:00",
          "2009-03-19T00:00:00",
          "2009-06-11T00:00:00",
          "2009-06-12T00:00:00",
          "2009-07-15T00:00:00",
          "2009-07-16T00:00:00",
          "2009-08-15T00:00:00",
          "2009-09-10T00:00:00",
          "2009-10-10T00:00:00",
          "2009-11-08T00:00:00",
          "2009-12-09T00:00:00",
          "2010-03-10T00:00:00",
          "2010-04-22T00:00:00",
          "2010-04-23T00:00:00",
          "2010-05-14T00:00:00",
          "2010-06-23T00:00:00",
          "2010-06-24T00:00:00",
          "2010-07-24T00:00:00",
          "2010-09-06T00:00:00",
          "2010-10-05T00:00:00",
          "2010-11-09T00:00:00",
          "2010-12-09T00:00:00",
          "2011-03-05T00:00:00",
          "2011-03-26T00:00:00",
          "2011-04-28T00:00:00",
          "2011-06-15T00:00:00",
          "2011-07-05T00:00:00",
          "2011-08-20T00:00:00",
          "2011-09-17T00:00:00",
          "2011-11-17T00:00:00",
          "2011-12-07T00:00:00",
          "2012-01-28T00:00:00",
          "2012-01-29T00:00:00",
          "2012-02-09T00:00:00",
          "2012-03-07T00:00:00",
          "2012-04-12T00:00:00",
          "2012-04-26T00:00:00",
          "2012-05-18T00:00:00",
          "2012-06-18T00:00:00",
          "2012-07-12T00:00:00",
          "2012-08-21T00:00:00",
          "2012-09-11T00:00:00",
          "2012-10-18T00:00:00",
          "2012-11-13T00:00:00",
          "2012-12-10T00:00:00",
          "2013-01-21T00:00:00",
          "2013-01-22T00:00:00",
          "2013-02-11T00:00:00",
          "2013-02-25T00:00:00",
          "2013-03-11T00:00:00",
          "2013-03-12T00:00:00",
          "2013-03-27T00:00:00",
          "2013-04-24T00:00:00",
          "2013-05-16T00:00:00",
          "2013-06-14T00:00:00",
          "2013-07-08T00:00:00",
          "2013-08-02T00:00:00",
          "2013-09-16T00:00:00",
          "2013-10-18T00:00:00",
          "2013-11-13T00:00:00",
          "2013-12-08T00:00:00",
          "2014-03-05T00:00:00",
          "2014-04-11T00:00:00",
          "2014-04-28T00:00:00",
          "2014-08-19T00:00:00",
          "2014-09-13T00:00:00",
          "2014-10-28T00:00:00",
          "2014-11-19T00:00:00",
          "2014-12-11T00:00:00"
         ],
         "y": [
          1.318,
          1.572,
          1.288,
          0.98,
          2.0020000000000002,
          2.07,
          0.9040000000000001,
          0.8239999999999998,
          2.15,
          1.2220000000000002,
          1.2720000000000002,
          1.7320000000000002,
          1.566,
          1.176,
          1.04,
          1.6940000000000002,
          1.0399999999999998,
          1.834,
          2.2340000000000004,
          2.468,
          2.336,
          1.05,
          1.724,
          1.6600000000000001,
          1.508,
          1.768,
          1.3260000000000003,
          0.7580000000000001,
          0.802,
          2.06,
          2.7119999999999997,
          2.1840000000000006,
          2.8280000000000003,
          3.3160000000000007,
          1.3599999999999999,
          1.54,
          1.596,
          0.674,
          1.374,
          1.312,
          0.7000000000000001,
          2.044,
          2.1799999999999997,
          2.2640000000000002,
          2.78,
          2.5240000000000005,
          2.3720000000000003,
          2.3920000000000003,
          1.068,
          0.63,
          1.5180000000000002,
          0.7600000000000001,
          0.744,
          1.1720000000000002,
          0.7160000000000001,
          3.476,
          2.168,
          2.1479999999999997,
          2.948,
          0.7100000000000001,
          1.052,
          1.076,
          1.1680000000000001,
          1.1640000000000001,
          1.094,
          0.9,
          0.8800000000000001,
          1.7900000000000003,
          1.6440000000000001,
          1.9479999999999997,
          1.4000000000000001,
          1.9040000000000004,
          1.8,
          1.506,
          1.084,
          1.0200000000000002,
          1.568,
          1.154,
          1.7600000000000002,
          0.666,
          0.8560000000000001,
          1.2780000000000002,
          1.18,
          1.3040000000000003,
          1.348,
          0.944,
          3.04,
          0.9319999999999999,
          2.406,
          1.1740000000000002,
          1.3020000000000003,
          1.03,
          1.602,
          1.3195555555555556,
          1.02,
          0.968,
          1.516,
          1.736,
          1.102,
          1.7939999999999998,
          1.0360000000000003,
          1.578,
          1.9960000000000002,
          1.096,
          1.4200000000000004,
          3.3440000000000007,
          0.38,
          0.372,
          0.8300000000000001,
          1.368,
          2.2,
          0.994,
          1.4240000000000002,
          2.602,
          2.0940000000000003,
          2.988,
          2.2659999999999996,
          2.046,
          1.0239999999999998,
          1.784,
          1.4340000000000002,
          0.9300000000000002,
          1.904,
          1.2880000000000003,
          1.658,
          1.56,
          2.5460000000000003,
          2.9480000000000004,
          2.4080000000000004,
          1.56,
          3.0540000000000003,
          1.9080000000000004,
          1.05,
          1.038,
          1.3399999999999999,
          1.7919999999999998,
          2.096,
          1.688,
          2.3640000000000003,
          2.424,
          1.536,
          1.588,
          3.2520000000000007,
          1.74,
          1.33,
          1.5180000000000002,
          2.076,
          2.152,
          1.508,
          1.3600000000000003,
          1.4120000000000001,
          0.9460000000000002,
          2.5820000000000003,
          2.07,
          1.6,
          1.6880000000000004,
          1.11,
          1.198,
          0.8,
          1.1340000000000001
         ]
        },
        {
         "fill": "toself",
         "fillcolor": "rgba(255, 0, 0, 0.2)",
         "line": {
          "color": "rgba(0, 0, 0, 0)"
         },
         "name": "Day Confidence Interval",
         "type": "scatter",
         "x": [
          "2002-01-22T00:00:00",
          "2002-02-13T00:00:00",
          "2002-02-27T00:00:00",
          "2002-03-07T00:00:00",
          "2002-04-04T00:00:00",
          "2002-04-16T00:00:00",
          "2002-05-14T00:00:00",
          "2002-06-04T00:00:00",
          "2002-07-02T00:00:00",
          "2002-08-20T00:00:00",
          "2002-09-17T00:00:00",
          "2002-10-08T00:00:00",
          "2002-11-13T00:00:00",
          "2002-12-10T00:00:00",
          "2003-02-04T00:00:00",
          "2003-02-21T00:00:00",
          "2003-03-04T00:00:00",
          "2003-03-21T00:00:00",
          "2003-04-03T00:00:00",
          "2003-04-22T00:00:00",
          "2003-05-20T00:00:00",
          "2003-07-04T00:00:00",
          "2003-07-15T00:00:00",
          "2003-08-12T00:00:00",
          "2003-09-19T00:00:00",
          "2003-10-07T00:00:00",
          "2003-11-04T00:00:00",
          "2003-12-02T00:00:00",
          "2004-01-27T00:00:00",
          "2004-02-14T00:00:00",
          "2004-02-24T00:00:00",
          "2004-04-07T00:00:00",
          "2004-04-21T00:00:00",
          "2004-05-18T00:00:00",
          "2004-06-15T00:00:00",
          "2004-09-14T00:00:00",
          "2004-10-13T00:00:00",
          "2004-11-12T00:00:00",
          "2004-12-08T00:00:00",
          "2005-01-27T00:00:00",
          "2005-02-08T00:00:00",
          "2005-02-24T00:00:00",
          "2005-03-08T00:00:00",
          "2005-03-21T00:00:00",
          "2005-04-06T00:00:00",
          "2005-04-19T00:00:00",
          "2005-05-17T00:00:00",
          "2005-06-14T00:00:00",
          "2005-07-19T00:00:00",
          "2005-08-10T00:00:00",
          "2005-09-06T00:00:00",
          "2005-10-11T00:00:00",
          "2005-11-10T00:00:00",
          "2006-01-29T00:00:00",
          "2006-02-22T00:00:00",
          "2006-05-10T00:00:00",
          "2006-07-18T00:00:00",
          "2006-08-08T00:00:00",
          "2006-10-10T00:00:00",
          "2006-11-07T00:00:00",
          "2006-12-04T00:00:00",
          "2007-02-01T00:00:00",
          "2007-02-22T00:00:00",
          "2007-03-07T00:00:00",
          "2007-03-20T00:00:00",
          "2007-04-03T00:00:00",
          "2007-04-14T00:00:00",
          "2007-05-16T00:00:00",
          "2007-06-21T00:00:00",
          "2007-07-18T00:00:00",
          "2007-08-17T00:00:00",
          "2007-11-14T00:00:00",
          "2007-12-06T00:00:00",
          "2008-01-17T00:00:00",
          "2008-02-12T00:00:00",
          "2008-02-23T00:00:00",
          "2008-03-13T00:00:00",
          "2008-03-25T00:00:00",
          "2008-04-17T00:00:00",
          "2008-05-29T00:00:00",
          "2008-07-18T00:00:00",
          "2008-08-14T00:00:00",
          "2008-09-12T00:00:00",
          "2008-10-09T00:00:00",
          "2009-02-22T00:00:00",
          "2009-03-06T00:00:00",
          "2009-03-19T00:00:00",
          "2009-04-01T00:00:00",
          "2009-06-11T00:00:00",
          "2009-07-15T00:00:00",
          "2009-08-15T00:00:00",
          "2009-09-11T00:00:00",
          "2009-10-10T00:00:00",
          "2009-11-08T00:00:00",
          "2009-12-09T00:00:00",
          "2010-02-24T00:00:00",
          "2010-03-09T00:00:00",
          "2010-04-07T00:00:00",
          "2010-04-21T00:00:00",
          "2010-05-13T00:00:00",
          "2010-06-23T00:00:00",
          "2010-07-24T00:00:00",
          "2010-09-06T00:00:00",
          "2010-10-06T00:00:00",
          "2010-11-10T00:00:00",
          "2010-12-09T00:00:00",
          "2011-03-04T00:00:00",
          "2011-04-27T00:00:00",
          "2011-05-17T00:00:00",
          "2011-06-15T00:00:00",
          "2011-07-06T00:00:00",
          "2011-08-19T00:00:00",
          "2011-09-17T00:00:00",
          "2011-11-01T00:00:00",
          "2011-11-17T00:00:00",
          "2011-12-08T00:00:00",
          "2012-01-29T00:00:00",
          "2012-02-10T00:00:00",
          "2012-03-08T00:00:00",
          "2012-04-26T00:00:00",
          "2012-05-19T00:00:00",
          "2012-06-18T00:00:00",
          "2012-07-12T00:00:00",
          "2012-08-20T00:00:00",
          "2012-09-12T00:00:00",
          "2012-10-19T00:00:00",
          "2012-11-16T00:00:00",
          "2012-12-11T00:00:00",
          "2013-01-22T00:00:00",
          "2013-02-12T00:00:00",
          "2013-02-26T00:00:00",
          "2013-03-12T00:00:00",
          "2013-04-06T00:00:00",
          "2013-04-24T00:00:00",
          "2013-05-15T00:00:00",
          "2013-06-16T00:00:00",
          "2013-07-05T00:00:00",
          "2013-08-02T00:00:00",
          "2013-09-17T00:00:00",
          "2013-10-19T00:00:00",
          "2013-11-14T00:00:00",
          "2013-12-09T00:00:00",
          "2014-03-06T00:00:00",
          "2014-04-11T00:00:00",
          "2014-04-29T00:00:00",
          "2014-06-12T00:00:00",
          "2014-07-10T00:00:00",
          "2014-08-20T00:00:00",
          "2014-09-13T00:00:00",
          "2014-10-28T00:00:00",
          "2014-11-20T00:00:00",
          "2014-12-11T00:00:00",
          "2014-12-11T00:00:00",
          "2014-11-20T00:00:00",
          "2014-10-28T00:00:00",
          "2014-09-13T00:00:00",
          "2014-08-20T00:00:00",
          "2014-07-10T00:00:00",
          "2014-06-12T00:00:00",
          "2014-04-29T00:00:00",
          "2014-04-11T00:00:00",
          "2014-03-06T00:00:00",
          "2013-12-09T00:00:00",
          "2013-11-14T00:00:00",
          "2013-10-19T00:00:00",
          "2013-09-17T00:00:00",
          "2013-08-02T00:00:00",
          "2013-07-05T00:00:00",
          "2013-06-16T00:00:00",
          "2013-05-15T00:00:00",
          "2013-04-24T00:00:00",
          "2013-04-06T00:00:00",
          "2013-03-12T00:00:00",
          "2013-02-26T00:00:00",
          "2013-02-12T00:00:00",
          "2013-01-22T00:00:00",
          "2012-12-11T00:00:00",
          "2012-11-16T00:00:00",
          "2012-10-19T00:00:00",
          "2012-09-12T00:00:00",
          "2012-08-20T00:00:00",
          "2012-07-12T00:00:00",
          "2012-06-18T00:00:00",
          "2012-05-19T00:00:00",
          "2012-04-26T00:00:00",
          "2012-03-08T00:00:00",
          "2012-02-10T00:00:00",
          "2012-01-29T00:00:00",
          "2011-12-08T00:00:00",
          "2011-11-17T00:00:00",
          "2011-11-01T00:00:00",
          "2011-09-17T00:00:00",
          "2011-08-19T00:00:00",
          "2011-07-06T00:00:00",
          "2011-06-15T00:00:00",
          "2011-05-17T00:00:00",
          "2011-04-27T00:00:00",
          "2011-03-04T00:00:00",
          "2010-12-09T00:00:00",
          "2010-11-10T00:00:00",
          "2010-10-06T00:00:00",
          "2010-09-06T00:00:00",
          "2010-07-24T00:00:00",
          "2010-06-23T00:00:00",
          "2010-05-13T00:00:00",
          "2010-04-21T00:00:00",
          "2010-04-07T00:00:00",
          "2010-03-09T00:00:00",
          "2010-02-24T00:00:00",
          "2009-12-09T00:00:00",
          "2009-11-08T00:00:00",
          "2009-10-10T00:00:00",
          "2009-09-11T00:00:00",
          "2009-08-15T00:00:00",
          "2009-07-15T00:00:00",
          "2009-06-11T00:00:00",
          "2009-04-01T00:00:00",
          "2009-03-19T00:00:00",
          "2009-03-06T00:00:00",
          "2009-02-22T00:00:00",
          "2008-10-09T00:00:00",
          "2008-09-12T00:00:00",
          "2008-08-14T00:00:00",
          "2008-07-18T00:00:00",
          "2008-05-29T00:00:00",
          "2008-04-17T00:00:00",
          "2008-03-25T00:00:00",
          "2008-03-13T00:00:00",
          "2008-02-23T00:00:00",
          "2008-02-12T00:00:00",
          "2008-01-17T00:00:00",
          "2007-12-06T00:00:00",
          "2007-11-14T00:00:00",
          "2007-08-17T00:00:00",
          "2007-07-18T00:00:00",
          "2007-06-21T00:00:00",
          "2007-05-16T00:00:00",
          "2007-04-14T00:00:00",
          "2007-04-03T00:00:00",
          "2007-03-20T00:00:00",
          "2007-03-07T00:00:00",
          "2007-02-22T00:00:00",
          "2007-02-01T00:00:00",
          "2006-12-04T00:00:00",
          "2006-11-07T00:00:00",
          "2006-10-10T00:00:00",
          "2006-08-08T00:00:00",
          "2006-07-18T00:00:00",
          "2006-05-10T00:00:00",
          "2006-02-22T00:00:00",
          "2006-01-29T00:00:00",
          "2005-11-10T00:00:00",
          "2005-10-11T00:00:00",
          "2005-09-06T00:00:00",
          "2005-08-10T00:00:00",
          "2005-07-19T00:00:00",
          "2005-06-14T00:00:00",
          "2005-05-17T00:00:00",
          "2005-04-19T00:00:00",
          "2005-04-06T00:00:00",
          "2005-03-21T00:00:00",
          "2005-03-08T00:00:00",
          "2005-02-24T00:00:00",
          "2005-02-08T00:00:00",
          "2005-01-27T00:00:00",
          "2004-12-08T00:00:00",
          "2004-11-12T00:00:00",
          "2004-10-13T00:00:00",
          "2004-09-14T00:00:00",
          "2004-06-15T00:00:00",
          "2004-05-18T00:00:00",
          "2004-04-21T00:00:00",
          "2004-04-07T00:00:00",
          "2004-02-24T00:00:00",
          "2004-02-14T00:00:00",
          "2004-01-27T00:00:00",
          "2003-12-02T00:00:00",
          "2003-11-04T00:00:00",
          "2003-10-07T00:00:00",
          "2003-09-19T00:00:00",
          "2003-08-12T00:00:00",
          "2003-07-15T00:00:00",
          "2003-07-04T00:00:00",
          "2003-05-20T00:00:00",
          "2003-04-22T00:00:00",
          "2003-04-03T00:00:00",
          "2003-03-21T00:00:00",
          "2003-03-04T00:00:00",
          "2003-02-21T00:00:00",
          "2003-02-04T00:00:00",
          "2002-12-10T00:00:00",
          "2002-11-13T00:00:00",
          "2002-10-08T00:00:00",
          "2002-09-17T00:00:00",
          "2002-08-20T00:00:00",
          "2002-07-02T00:00:00",
          "2002-06-04T00:00:00",
          "2002-05-14T00:00:00",
          "2002-04-16T00:00:00",
          "2002-04-04T00:00:00",
          "2002-03-07T00:00:00",
          "2002-02-27T00:00:00",
          "2002-02-13T00:00:00",
          "2002-01-22T00:00:00"
         ],
         "y": [
          0.9711633077396628,
          0.9702215925909304,
          0.96963252673742,
          0.9692994821751763,
          0.9681542410532346,
          0.9676731447847411,
          0.9665732699870464,
          0.9657692040439764,
          0.9647249029934845,
          0.9629737900575271,
          0.9620168191812108,
          0.9613199311791746,
          0.9601668248262887,
          0.9593364451140995,
          0.9577083112042234,
          0.9572391900210425,
          0.9569418788897448,
          0.956492038394369,
          0.9561559413225311,
          0.9556770362418109,
          0.954997934101508,
          0.9539730504720709,
          0.9537349991018209,
          0.9531511662424368,
          0.9524096157284564,
          0.9520787698045875,
          0.9515902062261222,
          0.95113339907463,
          0.9503150540525643,
          0.9500789913418544,
          0.9499535161819909,
          0.9494601291789346,
          0.9493156533030456,
          0.9490594411321085,
          0.9488249289694268,
          0.9482820822644937,
          0.9481795669858935,
          0.9481093641949707,
          0.9480780098869317,
          0.9480946738693361,
          0.9481137413256666,
          0.9481482378656235,
          0.9481809152192282,
          0.9482228978532138,
          0.9482839660973724,
          0.9483412193601448,
          0.9484877843211387,
          0.9486661057091056,
          0.9489336649194948,
          0.9491272420350457,
          0.9493916084348439,
          0.9497782542463818,
          0.9501491579474687,
          0.9513164593289567,
          0.9517172007904213,
          0.9531604191862822,
          0.9546577197559138,
          0.9551516977653635,
          0.9567408097347462,
          0.9574986859149694,
          0.9582595705313933,
          0.9600250071483869,
          0.9606874076366039,
          0.9611064168296,
          0.9615322714768798,
          0.9619985397411671,
          0.9623704629038071,
          0.9634802890800181,
          0.9647784224397541,
          0.9657864725120312,
          0.9669411604757797,
          0.9705812324200643,
          0.9715304828795023,
          0.9733971278911623,
          0.9745884770328753,
          0.9751007522611548,
          0.9759971354011142,
          0.9765708061713654,
          0.977686645337123,
          0.9797795548909652,
          0.9823642768709278,
          0.9838021323597993,
          0.9853793862477405,
          0.9868784862743456,
          0.9948784732180382,
          0.9956203234331767,
          0.9964305766671574,
          0.9972476753554217,
          1.0018310791065574,
          1.0040982510877787,
          1.0062061879214206,
          1.0080738488268866,
          1.0101127455696886,
          1.0121857075613223,
          1.0144393027003147,
          1.0202053647178693,
          1.0212025515111358,
          1.0234517130656937,
          1.0245497073951215,
          1.0262911672917243,
          1.0295889283234947,
          1.0321275616979573,
          1.0357976175786818,
          1.038344889674229,
          1.0413627822920979,
          1.043900911129851,
          1.0515365041330043,
          1.056539369144529,
          1.058422256290281,
          1.0611812219135652,
          1.0632003590362966,
          1.0674888551300608,
          1.0703582391461106,
          1.0748781734864798,
          1.0765050280075092,
          1.0786560110100836,
          1.0840591343528458,
          1.0853215631387196,
          1.0881833541298964,
          1.0934523963316485,
          1.0959591588976922,
          1.0992610511903138,
          1.10192881268344,
          1.1063136862966778,
          1.1089285179279817,
          1.1131799474722077,
          1.1164341056441267,
          1.1193664390028166,
          1.124349750490251,
          1.1268682007192268,
          1.128557091421973,
          1.1302539212314622,
          1.1333037209654349,
          1.1355152524591483,
          1.13811195959745,
          1.142103195453697,
          1.1444926167291454,
          1.1480405218505643,
          1.1539381637320636,
          1.1580914221749075,
          1.1614964859172916,
          1.1647964080193227,
          1.176477480444866,
          1.181400707157117,
          1.1838820062575142,
          1.1900026537605142,
          1.1939384409542455,
          1.1997588531536802,
          1.2031975181138335,
          1.2097078999305433,
          1.2130671038303191,
          1.2161529166519098,
          1.0860605055538708,
          1.08297469273228,
          1.0796154888325042,
          1.0731051070157944,
          1.0696664420556412,
          1.0638460298562065,
          1.0599102426624751,
          1.0537895951594751,
          1.051308296059078,
          1.046385069346827,
          1.0347039969212837,
          1.0314040748192526,
          1.0279990110768684,
          1.0238457526340246,
          1.0179481107525252,
          1.0144002056311063,
          1.012010784355658,
          1.008019548499411,
          1.0054228413611093,
          1.0032113098673958,
          1.0001615101334231,
          0.9984646803239339,
          0.9967757896211877,
          0.9942573393922121,
          0.9892740279047776,
          0.9863416945460877,
          0.9830875363741687,
          0.9788361068299427,
          0.9762212751986388,
          0.9718364015854009,
          0.9691686400922748,
          0.9658667477996532,
          0.9633599852336094,
          0.9580909430318574,
          0.9552291520406806,
          0.9539667232548068,
          0.9485635999120445,
          0.9464126169094702,
          0.9447857623884408,
          0.9402658280480716,
          0.9373964440320217,
          0.9331079479382575,
          0.9310888108155262,
          0.9283298451922418,
          0.92644695804649,
          0.9214440930349652,
          0.9138085000318118,
          0.9112703711940587,
          0.9082524785761901,
          0.9057052064806428,
          0.9020351505999182,
          0.8994965172254556,
          0.8961987561936852,
          0.8944572962970825,
          0.8933593019676546,
          0.8911101404130968,
          0.8901129536198302,
          0.8843468916022755,
          0.8820932964632833,
          0.8800203344716494,
          0.8779814377288475,
          0.8761137768233814,
          0.8740058399897396,
          0.8717386680085184,
          0.8671552642573827,
          0.8663381655691184,
          0.8655279123351377,
          0.8647860621199992,
          0.8567860751763066,
          0.8552869751497014,
          0.8537097212617603,
          0.8522718657728887,
          0.8496871437929262,
          0.847594234239084,
          0.8464783950733263,
          0.8459047243030752,
          0.8450083411631157,
          0.8444960659348363,
          0.8433047167931232,
          0.8414380717814632,
          0.8404888213220253,
          0.8368487493777407,
          0.8356940614139922,
          0.834686011341715,
          0.8333878779819791,
          0.8322780518057681,
          0.8319061286431281,
          0.8314398603788408,
          0.8310140057315609,
          0.8305949965385648,
          0.8299325960503479,
          0.8281671594333543,
          0.8274062748169304,
          0.8266483986367071,
          0.8250592866673244,
          0.8245653086578748,
          0.8230680080882432,
          0.8216247896923823,
          0.8212240482309177,
          0.8200567468494296,
          0.8196858431483428,
          0.8192991973368049,
          0.8190348309370067,
          0.8188412538214558,
          0.8185736946110665,
          0.8183953732230996,
          0.8182488082621058,
          0.8181915549993334,
          0.8181304867551747,
          0.8180885041211892,
          0.8180558267675845,
          0.8180213302276276,
          0.8180022627712971,
          0.8179855987888927,
          0.8180169530969317,
          0.8180871558878544,
          0.8181896711664547,
          0.8187325178713878,
          0.8189670300340695,
          0.8192232422050065,
          0.8193677180808956,
          0.8198611050839518,
          0.8199865802438153,
          0.8202226429545253,
          0.821040987976591,
          0.8214977951280832,
          0.8219863587065485,
          0.8223172046304174,
          0.8230587551443977,
          0.8236425880037819,
          0.8238806393740319,
          0.824905523003469,
          0.8255846251437718,
          0.8260635302244921,
          0.82639962729633,
          0.8268494677917058,
          0.8271467789230035,
          0.8276159001061844,
          0.8292440340160605,
          0.8300744137282496,
          0.8312275200811355,
          0.8319244080831718,
          0.8328813789594881,
          0.8346324918954454,
          0.8356767929459373,
          0.8364808588890074,
          0.837580733686702,
          0.8380618299551955,
          0.8392070710771372,
          0.8395401156393809,
          0.8401291814928914,
          0.8410708966416237
         ]
        },
        {
         "fill": "toself",
         "fillcolor": "rgba(0, 0, 255, 0.2)",
         "line": {
          "color": "rgba(0, 0, 0, 0)"
         },
         "name": "Night Confidence Interval",
         "type": "scatter",
         "x": [
          "2002-01-22T00:00:00",
          "2002-02-12T00:00:00",
          "2002-02-28T00:00:00",
          "2002-03-07T00:00:00",
          "2002-03-19T00:00:00",
          "2002-04-03T00:00:00",
          "2002-04-15T00:00:00",
          "2002-04-16T00:00:00",
          "2002-05-14T00:00:00",
          "2002-06-04T00:00:00",
          "2002-07-01T00:00:00",
          "2002-08-20T00:00:00",
          "2002-09-17T00:00:00",
          "2002-10-08T00:00:00",
          "2002-11-13T00:00:00",
          "2002-12-09T00:00:00",
          "2003-01-27T00:00:00",
          "2003-02-21T00:00:00",
          "2003-03-04T00:00:00",
          "2003-03-22T00:00:00",
          "2003-04-03T00:00:00",
          "2003-04-22T00:00:00",
          "2003-07-05T00:00:00",
          "2003-07-15T00:00:00",
          "2003-08-13T00:00:00",
          "2003-09-20T00:00:00",
          "2003-10-06T00:00:00",
          "2003-11-03T00:00:00",
          "2003-12-02T00:00:00",
          "2004-02-14T00:00:00",
          "2004-02-23T00:00:00",
          "2004-03-09T00:00:00",
          "2004-03-23T00:00:00",
          "2004-04-20T00:00:00",
          "2004-05-17T00:00:00",
          "2004-06-15T00:00:00",
          "2004-09-14T00:00:00",
          "2004-10-13T00:00:00",
          "2004-11-12T00:00:00",
          "2004-12-08T00:00:00",
          "2005-01-26T00:00:00",
          "2005-02-08T00:00:00",
          "2005-02-23T00:00:00",
          "2005-02-24T00:00:00",
          "2005-03-07T00:00:00",
          "2005-03-20T00:00:00",
          "2005-04-05T00:00:00",
          "2005-05-16T00:00:00",
          "2005-06-15T00:00:00",
          "2005-07-19T00:00:00",
          "2005-08-09T00:00:00",
          "2005-10-11T00:00:00",
          "2005-12-08T00:00:00",
          "2006-01-29T00:00:00",
          "2006-01-30T00:00:00",
          "2006-02-08T00:00:00",
          "2006-02-20T00:00:00",
          "2006-02-21T00:00:00",
          "2006-04-04T00:00:00",
          "2006-06-26T00:00:00",
          "2006-07-16T00:00:00",
          "2006-08-07T00:00:00",
          "2006-08-08T00:00:00",
          "2006-10-10T00:00:00",
          "2006-11-07T00:00:00",
          "2006-12-03T00:00:00",
          "2007-01-30T00:00:00",
          "2007-02-20T00:00:00",
          "2007-03-06T00:00:00",
          "2007-03-07T00:00:00",
          "2007-03-19T00:00:00",
          "2007-03-20T00:00:00",
          "2007-04-02T00:00:00",
          "2007-04-14T00:00:00",
          "2007-05-15T00:00:00",
          "2007-06-21T00:00:00",
          "2007-07-19T00:00:00",
          "2007-08-15T00:00:00",
          "2007-09-08T00:00:00",
          "2007-11-14T00:00:00",
          "2007-12-06T00:00:00",
          "2008-01-15T00:00:00",
          "2008-02-12T00:00:00",
          "2008-02-22T00:00:00",
          "2008-03-13T00:00:00",
          "2008-04-14T00:00:00",
          "2008-05-29T00:00:00",
          "2008-06-22T00:00:00",
          "2008-07-16T00:00:00",
          "2008-08-14T00:00:00",
          "2008-09-10T00:00:00",
          "2008-10-09T00:00:00",
          "2009-03-19T00:00:00",
          "2009-06-11T00:00:00",
          "2009-06-12T00:00:00",
          "2009-07-15T00:00:00",
          "2009-07-16T00:00:00",
          "2009-08-15T00:00:00",
          "2009-09-10T00:00:00",
          "2009-10-10T00:00:00",
          "2009-11-08T00:00:00",
          "2009-12-09T00:00:00",
          "2010-03-10T00:00:00",
          "2010-04-22T00:00:00",
          "2010-04-23T00:00:00",
          "2010-05-14T00:00:00",
          "2010-06-23T00:00:00",
          "2010-06-24T00:00:00",
          "2010-07-24T00:00:00",
          "2010-09-06T00:00:00",
          "2010-10-05T00:00:00",
          "2010-11-09T00:00:00",
          "2010-12-09T00:00:00",
          "2011-03-05T00:00:00",
          "2011-03-26T00:00:00",
          "2011-04-28T00:00:00",
          "2011-06-15T00:00:00",
          "2011-07-05T00:00:00",
          "2011-08-20T00:00:00",
          "2011-09-17T00:00:00",
          "2011-11-17T00:00:00",
          "2011-12-07T00:00:00",
          "2012-01-28T00:00:00",
          "2012-01-29T00:00:00",
          "2012-02-09T00:00:00",
          "2012-03-07T00:00:00",
          "2012-04-12T00:00:00",
          "2012-04-26T00:00:00",
          "2012-05-18T00:00:00",
          "2012-06-18T00:00:00",
          "2012-07-12T00:00:00",
          "2012-08-21T00:00:00",
          "2012-09-11T00:00:00",
          "2012-10-18T00:00:00",
          "2012-11-13T00:00:00",
          "2012-12-10T00:00:00",
          "2013-01-21T00:00:00",
          "2013-01-22T00:00:00",
          "2013-02-11T00:00:00",
          "2013-02-25T00:00:00",
          "2013-03-11T00:00:00",
          "2013-03-12T00:00:00",
          "2013-03-27T00:00:00",
          "2013-04-24T00:00:00",
          "2013-05-16T00:00:00",
          "2013-06-14T00:00:00",
          "2013-07-08T00:00:00",
          "2013-08-02T00:00:00",
          "2013-09-16T00:00:00",
          "2013-10-18T00:00:00",
          "2013-11-13T00:00:00",
          "2013-12-08T00:00:00",
          "2014-03-05T00:00:00",
          "2014-04-11T00:00:00",
          "2014-04-28T00:00:00",
          "2014-08-19T00:00:00",
          "2014-09-13T00:00:00",
          "2014-10-28T00:00:00",
          "2014-11-19T00:00:00",
          "2014-12-11T00:00:00",
          "2014-12-11T00:00:00",
          "2014-11-19T00:00:00",
          "2014-10-28T00:00:00",
          "2014-09-13T00:00:00",
          "2014-08-19T00:00:00",
          "2014-04-28T00:00:00",
          "2014-04-11T00:00:00",
          "2014-03-05T00:00:00",
          "2013-12-08T00:00:00",
          "2013-11-13T00:00:00",
          "2013-10-18T00:00:00",
          "2013-09-16T00:00:00",
          "2013-08-02T00:00:00",
          "2013-07-08T00:00:00",
          "2013-06-14T00:00:00",
          "2013-05-16T00:00:00",
          "2013-04-24T00:00:00",
          "2013-03-27T00:00:00",
          "2013-03-12T00:00:00",
          "2013-03-11T00:00:00",
          "2013-02-25T00:00:00",
          "2013-02-11T00:00:00",
          "2013-01-22T00:00:00",
          "2013-01-21T00:00:00",
          "2012-12-10T00:00:00",
          "2012-11-13T00:00:00",
          "2012-10-18T00:00:00",
          "2012-09-11T00:00:00",
          "2012-08-21T00:00:00",
          "2012-07-12T00:00:00",
          "2012-06-18T00:00:00",
          "2012-05-18T00:00:00",
          "2012-04-26T00:00:00",
          "2012-04-12T00:00:00",
          "2012-03-07T00:00:00",
          "2012-02-09T00:00:00",
          "2012-01-29T00:00:00",
          "2012-01-28T00:00:00",
          "2011-12-07T00:00:00",
          "2011-11-17T00:00:00",
          "2011-09-17T00:00:00",
          "2011-08-20T00:00:00",
          "2011-07-05T00:00:00",
          "2011-06-15T00:00:00",
          "2011-04-28T00:00:00",
          "2011-03-26T00:00:00",
          "2011-03-05T00:00:00",
          "2010-12-09T00:00:00",
          "2010-11-09T00:00:00",
          "2010-10-05T00:00:00",
          "2010-09-06T00:00:00",
          "2010-07-24T00:00:00",
          "2010-06-24T00:00:00",
          "2010-06-23T00:00:00",
          "2010-05-14T00:00:00",
          "2010-04-23T00:00:00",
          "2010-04-22T00:00:00",
          "2010-03-10T00:00:00",
          "2009-12-09T00:00:00",
          "2009-11-08T00:00:00",
          "2009-10-10T00:00:00",
          "2009-09-10T00:00:00",
          "2009-08-15T00:00:00",
          "2009-07-16T00:00:00",
          "2009-07-15T00:00:00",
          "2009-06-12T00:00:00",
          "2009-06-11T00:00:00",
          "2009-03-19T00:00:00",
          "2008-10-09T00:00:00",
          "2008-09-10T00:00:00",
          "2008-08-14T00:00:00",
          "2008-07-16T00:00:00",
          "2008-06-22T00:00:00",
          "2008-05-29T00:00:00",
          "2008-04-14T00:00:00",
          "2008-03-13T00:00:00",
          "2008-02-22T00:00:00",
          "2008-02-12T00:00:00",
          "2008-01-15T00:00:00",
          "2007-12-06T00:00:00",
          "2007-11-14T00:00:00",
          "2007-09-08T00:00:00",
          "2007-08-15T00:00:00",
          "2007-07-19T00:00:00",
          "2007-06-21T00:00:00",
          "2007-05-15T00:00:00",
          "2007-04-14T00:00:00",
          "2007-04-02T00:00:00",
          "2007-03-20T00:00:00",
          "2007-03-19T00:00:00",
          "2007-03-07T00:00:00",
          "2007-03-06T00:00:00",
          "2007-02-20T00:00:00",
          "2007-01-30T00:00:00",
          "2006-12-03T00:00:00",
          "2006-11-07T00:00:00",
          "2006-10-10T00:00:00",
          "2006-08-08T00:00:00",
          "2006-08-07T00:00:00",
          "2006-07-16T00:00:00",
          "2006-06-26T00:00:00",
          "2006-04-04T00:00:00",
          "2006-02-21T00:00:00",
          "2006-02-20T00:00:00",
          "2006-02-08T00:00:00",
          "2006-01-30T00:00:00",
          "2006-01-29T00:00:00",
          "2005-12-08T00:00:00",
          "2005-10-11T00:00:00",
          "2005-08-09T00:00:00",
          "2005-07-19T00:00:00",
          "2005-06-15T00:00:00",
          "2005-05-16T00:00:00",
          "2005-04-05T00:00:00",
          "2005-03-20T00:00:00",
          "2005-03-07T00:00:00",
          "2005-02-24T00:00:00",
          "2005-02-23T00:00:00",
          "2005-02-08T00:00:00",
          "2005-01-26T00:00:00",
          "2004-12-08T00:00:00",
          "2004-11-12T00:00:00",
          "2004-10-13T00:00:00",
          "2004-09-14T00:00:00",
          "2004-06-15T00:00:00",
          "2004-05-17T00:00:00",
          "2004-04-20T00:00:00",
          "2004-03-23T00:00:00",
          "2004-03-09T00:00:00",
          "2004-02-23T00:00:00",
          "2004-02-14T00:00:00",
          "2003-12-02T00:00:00",
          "2003-11-03T00:00:00",
          "2003-10-06T00:00:00",
          "2003-09-20T00:00:00",
          "2003-08-13T00:00:00",
          "2003-07-15T00:00:00",
          "2003-07-05T00:00:00",
          "2003-04-22T00:00:00",
          "2003-04-03T00:00:00",
          "2003-03-22T00:00:00",
          "2003-03-04T00:00:00",
          "2003-02-21T00:00:00",
          "2003-01-27T00:00:00",
          "2002-12-09T00:00:00",
          "2002-11-13T00:00:00",
          "2002-10-08T00:00:00",
          "2002-09-17T00:00:00",
          "2002-08-20T00:00:00",
          "2002-07-01T00:00:00",
          "2002-06-04T00:00:00",
          "2002-05-14T00:00:00",
          "2002-04-16T00:00:00",
          "2002-04-15T00:00:00",
          "2002-04-03T00:00:00",
          "2002-03-19T00:00:00",
          "2002-03-07T00:00:00",
          "2002-02-28T00:00:00",
          "2002-02-12T00:00:00",
          "2002-01-22T00:00:00"
         ],
         "y": [
          1.719627488295196,
          1.71790529771756,
          1.7166075222896189,
          1.7160436535358823,
          1.7150825556914973,
          1.7138910140591528,
          1.712945645291787,
          1.7128671801136441,
          1.7106898650184557,
          1.7090818558888128,
          1.7070458737333107,
          1.7033689884862777,
          1.7013629455630788,
          1.6998833905624282,
          1.6973968193052076,
          1.6956400907925167,
          1.6924185374671512,
          1.6908197933553122,
          1.6901259581598373,
          1.6890032621217095,
          1.688263536472413,
          1.6871066011486262,
          1.6827676911426717,
          1.6822017414969623,
          1.6805879405893882,
          1.6785351046551902,
          1.6776917247855887,
          1.676245714678737,
          1.6747881850641433,
          1.6712539824059498,
          1.6708422790779738,
          1.6701648452408024,
          1.6695424286058467,
          1.6683261406979335,
          1.6671893374453772,
          1.6660077463301,
          1.662565058975101,
          1.6615524097981813,
          1.6605478053667255,
          1.659712490069557,
          1.6582274462657534,
          1.6578530193057057,
          1.6574311829701005,
          1.657403448919999,
          1.6571015784401262,
          1.656752395677764,
          1.656333895073824,
          1.6553182139012195,
          1.6546267346141326,
          1.6538958767177712,
          1.6534725001110566,
          1.6523308244199055,
          1.6514501076984354,
          1.6507993426905945,
          1.6507881144620566,
          1.6506892449992454,
          1.6505635359121158,
          1.650553375707326,
          1.6501704846263692,
          1.6496656540639443,
          1.6495940110753187,
          1.6495376322865434,
          1.6495356278994675,
          1.6495072213262492,
          1.6495564444669262,
          1.6496362313358588,
          1.6499324767849435,
          1.6500800074181945,
          1.6501902550745278,
          1.650198494006128,
          1.6503011478149847,
          1.6503100178515273,
          1.650429746061174,
          1.650547546388642,
          1.6508842201661857,
          1.6513471281501364,
          1.6517416142406973,
          1.6521580573438126,
          1.6525579394698406,
          1.6538222711806005,
          1.6542849519334675,
          1.6551863873681258,
          1.655863608472765,
          1.6561146969944551,
          1.656631437998039,
          1.6574986143200698,
          1.6588021878930992,
          1.659537623662209,
          1.660301022234909,
          1.6612607701883089,
          1.662191029807393,
          1.663229617332026,
          1.6697380879995787,
          1.6736333556610976,
          1.6736817911228588,
          1.675307395966557,
          1.6753574820104744,
          1.676882637466315,
          1.6782397807381366,
          1.679846494371115,
          1.6814411824428404,
          1.6831909972789008,
          1.6885970323176296,
          1.6912913949553596,
          1.6913551225753343,
          1.6927046168441555,
          1.695334308889594,
          1.6954010463946771,
          1.6974257456854875,
          1.7004743384027121,
          1.702535024654406,
          1.7050764319038525,
          1.707302113845467,
          1.7139245521897406,
          1.7155962012582568,
          1.7182663333277286,
          1.7222445362545316,
          1.7239351324504935,
          1.7278971973398338,
          1.7303591832208414,
          1.7358545748853225,
          1.7376956653367175,
          1.7425733796220122,
          1.7426684683029576,
          1.743717647864602,
          1.7463178111605853,
          1.749839747324798,
          1.75122638045334,
          1.7534245997970883,
          1.756561971668242,
          1.759022945442227,
          1.7631867079624028,
          1.765403777340529,
          1.769362132866316,
          1.7721834396038996,
          1.775147993184167,
          1.7798298649034756,
          1.779942381790131,
          1.7822029142953781,
          1.7837968411241456,
          1.7854002830735793,
          1.785515178740401,
          1.7872444393268088,
          1.7905016174349113,
          1.793087529399269,
          1.796532131696005,
          1.7994137126406586,
          1.8024450942100878,
          1.807978041826127,
          1.8119723916829897,
          1.8152544050283344,
          1.8184411355065977,
          1.829767476284654,
          1.8346957915599744,
          1.8369824354915298,
          1.8525384665053533,
          1.8560638090583412,
          1.862485886444786,
          1.8656613475181691,
          1.8688603051140138,
          1.6665580275877256,
          1.663359069991881,
          1.6601836089184978,
          1.653761531532053,
          1.650236188979065,
          1.6346801579652417,
          1.6323935140336863,
          1.627465198758366,
          1.6161388579803095,
          1.6129521275020462,
          1.6096701141567016,
          1.605675764299839,
          1.6001428166837997,
          1.5971114351143705,
          1.5942298541697169,
          1.5907852518729808,
          1.5881993399086232,
          1.5849421618005206,
          1.583212901214113,
          1.5830980055472912,
          1.5814945635978575,
          1.57990063676909,
          1.5776401042638428,
          1.5775275873771875,
          1.5728457156578788,
          1.5698811620776114,
          1.567059855340028,
          1.5631014998142407,
          1.5608844304361147,
          1.5567206679159389,
          1.5542596941419538,
          1.5511223222708002,
          1.5489241029270517,
          1.5475374697985098,
          1.544015533634297,
          1.5414153703383138,
          1.5403661907766695,
          1.540271102095724,
          1.5353933878104293,
          1.5335522973590343,
          1.5280569056945532,
          1.5255949198135457,
          1.5216328549242053,
          1.5199422587282434,
          1.5159640558014404,
          1.5132939237319687,
          1.5116222746634524,
          1.5049998363191788,
          1.5027741543775643,
          1.5002327471281178,
          1.498172060876424,
          1.4951234681591994,
          1.493098768868389,
          1.4930320313633059,
          1.4904023393178674,
          1.4890528450490461,
          1.4889891174290715,
          1.4862947547913414,
          1.4808887197526126,
          1.4791389049165522,
          1.477544216844827,
          1.4759375032118485,
          1.474580359940027,
          1.4730552044841863,
          1.4730051184402688,
          1.4713795135965706,
          1.4713310781348095,
          1.4674358104732905,
          1.4609273398057379,
          1.4598887522811048,
          1.4589584926620207,
          1.457998744708621,
          1.4572353461359209,
          1.456499910366811,
          1.4551963367937817,
          1.4543291604717508,
          1.453812419468167,
          1.4535613309464768,
          1.4528841098418377,
          1.4519826744071793,
          1.4515199936543124,
          1.4502556619435525,
          1.4498557798175244,
          1.4494393367144092,
          1.4490448506238482,
          1.4485819426398976,
          1.448245268862354,
          1.448127468534886,
          1.4480077403252392,
          1.4479988702886966,
          1.44789621647984,
          1.4478879775482396,
          1.4477777298919063,
          1.4476301992586553,
          1.4473339538095706,
          1.447254166940638,
          1.447204943799961,
          1.4472333503731794,
          1.4472353547602552,
          1.4472917335490305,
          1.4473633765376561,
          1.447868207100081,
          1.448251098181038,
          1.4482612583858276,
          1.4483869674729573,
          1.4484858369357685,
          1.4484970651643063,
          1.4491478301721472,
          1.4500285468936174,
          1.4511702225847685,
          1.451593599191483,
          1.4523244570878444,
          1.4530159363749313,
          1.4540316175475358,
          1.4544501181514757,
          1.454799300913838,
          1.4551011713937108,
          1.4551289054438123,
          1.4555507417794176,
          1.4559251687394652,
          1.4574102125432689,
          1.4582455278404374,
          1.4592501322718932,
          1.460262781448813,
          1.4637054688038118,
          1.464887059919089,
          1.4660238631716453,
          1.4672401510795585,
          1.4678625677145143,
          1.4685400015516856,
          1.4689517048796616,
          1.4724859075378551,
          1.473943437152449,
          1.4753894472593005,
          1.476232827128902,
          1.4782856630631,
          1.4798994639706742,
          1.4804654136163835,
          1.484804323622338,
          1.4859612589461249,
          1.4867009845954213,
          1.4878236806335492,
          1.488517515829024,
          1.490116259940863,
          1.4933378132662285,
          1.4950945417789194,
          1.49758111303614,
          1.4990606680367906,
          1.5010667109599896,
          1.5047435962070226,
          1.5067795783625246,
          1.5083875874921675,
          1.510564902587356,
          1.510643367765499,
          1.5115887365328646,
          1.512780278165209,
          1.5137413760095941,
          1.5143052447633307,
          1.5156030201912718,
          1.517325210768908
         ]
        },
        {
         "line": {
          "color": "firebrick"
         },
         "mode": "lines",
         "name": "Day Trend Line",
         "type": "scatter",
         "x": [
          "2002-01-22T00:00:00",
          "2002-02-13T00:00:00",
          "2002-02-27T00:00:00",
          "2002-03-07T00:00:00",
          "2002-04-04T00:00:00",
          "2002-04-16T00:00:00",
          "2002-05-14T00:00:00",
          "2002-06-04T00:00:00",
          "2002-07-02T00:00:00",
          "2002-08-20T00:00:00",
          "2002-09-17T00:00:00",
          "2002-10-08T00:00:00",
          "2002-11-13T00:00:00",
          "2002-12-10T00:00:00",
          "2003-02-04T00:00:00",
          "2003-02-21T00:00:00",
          "2003-03-04T00:00:00",
          "2003-03-21T00:00:00",
          "2003-04-03T00:00:00",
          "2003-04-22T00:00:00",
          "2003-05-20T00:00:00",
          "2003-07-04T00:00:00",
          "2003-07-15T00:00:00",
          "2003-08-12T00:00:00",
          "2003-09-19T00:00:00",
          "2003-10-07T00:00:00",
          "2003-11-04T00:00:00",
          "2003-12-02T00:00:00",
          "2004-01-27T00:00:00",
          "2004-02-14T00:00:00",
          "2004-02-24T00:00:00",
          "2004-04-07T00:00:00",
          "2004-04-21T00:00:00",
          "2004-05-18T00:00:00",
          "2004-06-15T00:00:00",
          "2004-09-14T00:00:00",
          "2004-10-13T00:00:00",
          "2004-11-12T00:00:00",
          "2004-12-08T00:00:00",
          "2005-01-27T00:00:00",
          "2005-02-08T00:00:00",
          "2005-02-24T00:00:00",
          "2005-03-08T00:00:00",
          "2005-03-21T00:00:00",
          "2005-04-06T00:00:00",
          "2005-04-19T00:00:00",
          "2005-05-17T00:00:00",
          "2005-06-14T00:00:00",
          "2005-07-19T00:00:00",
          "2005-08-10T00:00:00",
          "2005-09-06T00:00:00",
          "2005-10-11T00:00:00",
          "2005-11-10T00:00:00",
          "2006-01-29T00:00:00",
          "2006-02-22T00:00:00",
          "2006-05-10T00:00:00",
          "2006-07-18T00:00:00",
          "2006-08-08T00:00:00",
          "2006-10-10T00:00:00",
          "2006-11-07T00:00:00",
          "2006-12-04T00:00:00",
          "2007-02-01T00:00:00",
          "2007-02-22T00:00:00",
          "2007-03-07T00:00:00",
          "2007-03-20T00:00:00",
          "2007-04-03T00:00:00",
          "2007-04-14T00:00:00",
          "2007-05-16T00:00:00",
          "2007-06-21T00:00:00",
          "2007-07-18T00:00:00",
          "2007-08-17T00:00:00",
          "2007-11-14T00:00:00",
          "2007-12-06T00:00:00",
          "2008-01-17T00:00:00",
          "2008-02-12T00:00:00",
          "2008-02-23T00:00:00",
          "2008-03-13T00:00:00",
          "2008-03-25T00:00:00",
          "2008-04-17T00:00:00",
          "2008-05-29T00:00:00",
          "2008-07-18T00:00:00",
          "2008-08-14T00:00:00",
          "2008-09-12T00:00:00",
          "2008-10-09T00:00:00",
          "2009-02-22T00:00:00",
          "2009-03-06T00:00:00",
          "2009-03-19T00:00:00",
          "2009-04-01T00:00:00",
          "2009-06-11T00:00:00",
          "2009-07-15T00:00:00",
          "2009-08-15T00:00:00",
          "2009-09-11T00:00:00",
          "2009-10-10T00:00:00",
          "2009-11-08T00:00:00",
          "2009-12-09T00:00:00",
          "2010-02-24T00:00:00",
          "2010-03-09T00:00:00",
          "2010-04-07T00:00:00",
          "2010-04-21T00:00:00",
          "2010-05-13T00:00:00",
          "2010-06-23T00:00:00",
          "2010-07-24T00:00:00",
          "2010-09-06T00:00:00",
          "2010-10-06T00:00:00",
          "2010-11-10T00:00:00",
          "2010-12-09T00:00:00",
          "2011-03-04T00:00:00",
          "2011-04-27T00:00:00",
          "2011-05-17T00:00:00",
          "2011-06-15T00:00:00",
          "2011-07-06T00:00:00",
          "2011-08-19T00:00:00",
          "2011-09-17T00:00:00",
          "2011-11-01T00:00:00",
          "2011-11-17T00:00:00",
          "2011-12-08T00:00:00",
          "2012-01-29T00:00:00",
          "2012-02-10T00:00:00",
          "2012-03-08T00:00:00",
          "2012-04-26T00:00:00",
          "2012-05-19T00:00:00",
          "2012-06-18T00:00:00",
          "2012-07-12T00:00:00",
          "2012-08-20T00:00:00",
          "2012-09-12T00:00:00",
          "2012-10-19T00:00:00",
          "2012-11-16T00:00:00",
          "2012-12-11T00:00:00",
          "2013-01-22T00:00:00",
          "2013-02-12T00:00:00",
          "2013-02-26T00:00:00",
          "2013-03-12T00:00:00",
          "2013-04-06T00:00:00",
          "2013-04-24T00:00:00",
          "2013-05-15T00:00:00",
          "2013-06-16T00:00:00",
          "2013-07-05T00:00:00",
          "2013-08-02T00:00:00",
          "2013-09-17T00:00:00",
          "2013-10-19T00:00:00",
          "2013-11-14T00:00:00",
          "2013-12-09T00:00:00",
          "2014-03-06T00:00:00",
          "2014-04-11T00:00:00",
          "2014-04-29T00:00:00",
          "2014-06-12T00:00:00",
          "2014-07-10T00:00:00",
          "2014-08-20T00:00:00",
          "2014-09-13T00:00:00",
          "2014-10-28T00:00:00",
          "2014-11-20T00:00:00",
          "2014-12-11T00:00:00"
         ],
         "y": [
          0.9061171021906432,
          0.9051753870419109,
          0.9045863211884004,
          0.9042532766261567,
          0.903108035504215,
          0.9026269392357216,
          0.9015270644380269,
          0.9007229984949569,
          0.8996786974444649,
          0.8979275845085076,
          0.8969706136321913,
          0.8962737256301551,
          0.8951206192772692,
          0.89429023956508,
          0.8926621056552039,
          0.892192984472023,
          0.8918956733407253,
          0.8914458328453495,
          0.8911097357735116,
          0.8906308306927914,
          0.8899517285524885,
          0.8889268449230514,
          0.8886887935528014,
          0.8881049606934173,
          0.8873634101794369,
          0.887032564255568,
          0.8865440006771027,
          0.8860871935256105,
          0.8852688485035448,
          0.8850327857928348,
          0.8849073106329713,
          0.8844139236299151,
          0.884269447754026,
          0.884013235583089,
          0.8837787234204073,
          0.8832358767154742,
          0.8831333614368739,
          0.8830631586459512,
          0.8830318043379122,
          0.8830484683203166,
          0.8830675357766471,
          0.883102032316604,
          0.8831347096702087,
          0.8831766923041943,
          0.8832377605483529,
          0.8832950138111253,
          0.8834415787721192,
          0.8836199001600861,
          0.8838874593704753,
          0.8840810364860262,
          0.8843454028858244,
          0.8847320486973623,
          0.8851029523984492,
          0.8862702537799372,
          0.8866709952414018,
          0.8881142136372627,
          0.8896115142068943,
          0.8901054922163439,
          0.8916946041857267,
          0.8924524803659499,
          0.8932133649823738,
          0.8949788015993674,
          0.8956412020875844,
          0.8960602112805804,
          0.8964860659278603,
          0.8969523341921476,
          0.8973242573547876,
          0.8984340835309986,
          0.8997322168907346,
          0.9007402669630117,
          0.9018949549267602,
          0.9055350268710448,
          0.9064842773304828,
          0.9083509223421428,
          0.9095422714838558,
          0.9100545467121353,
          0.9109509298520947,
          0.9115246006223459,
          0.9126404397881035,
          0.9147333493419457,
          0.9173180713219082,
          0.9187559268107798,
          0.9203331806987209,
          0.9218322807253261,
          0.9298322676690187,
          0.9305741178841572,
          0.9313843711181379,
          0.9322014698064022,
          0.9367848735575379,
          0.9390520455387591,
          0.941159982372401,
          0.943027643277867,
          0.9450665400206689,
          0.9471395020123028,
          0.949393097151295,
          0.9551591591688497,
          0.9561563459621163,
          0.9584055075166741,
          0.959503501846102,
          0.9612449617427047,
          0.9645427227744752,
          0.9670813561489378,
          0.9707514120296623,
          0.9732986841252096,
          0.9763165767430783,
          0.9788547055808313,
          0.9864902985839847,
          0.9914931635955095,
          0.9933760507412613,
          0.9961350163645457,
          0.998154153487277,
          1.0024426495810412,
          1.005312033597091,
          1.0098319679374603,
          1.0114588224584897,
          1.013609805461064,
          1.0190129288038263,
          1.0202753575897001,
          1.023137148580877,
          1.028406190782629,
          1.0309129533486727,
          1.0342148456412943,
          1.0368826071344204,
          1.0412674807476583,
          1.0438823123789622,
          1.0481337419231882,
          1.0513879000951072,
          1.054320233453797,
          1.0593035449412316,
          1.0618219951702073,
          1.0635108858729534,
          1.0652077156824427,
          1.0682575154164153,
          1.0704690469101288,
          1.0730657540484305,
          1.0770569899046776,
          1.0794464111801259,
          1.0829943163015447,
          1.088891958183044,
          1.093045216625888,
          1.096450280368272,
          1.0997502024703032,
          1.1114312748958466,
          1.1163545016080976,
          1.1188358007084946,
          1.1249564482114947,
          1.128892235405226,
          1.1347126476046607,
          1.138151312564814,
          1.1446616943815238,
          1.1480208982812996,
          1.1511067111028903
         ]
        },
        {
         "line": {
          "color": "royalblue"
         },
         "mode": "lines",
         "name": "Night Trend Line",
         "type": "scatter",
         "x": [
          "2002-01-22T00:00:00",
          "2002-02-12T00:00:00",
          "2002-02-28T00:00:00",
          "2002-03-07T00:00:00",
          "2002-03-19T00:00:00",
          "2002-04-03T00:00:00",
          "2002-04-15T00:00:00",
          "2002-04-16T00:00:00",
          "2002-05-14T00:00:00",
          "2002-06-04T00:00:00",
          "2002-07-01T00:00:00",
          "2002-08-20T00:00:00",
          "2002-09-17T00:00:00",
          "2002-10-08T00:00:00",
          "2002-11-13T00:00:00",
          "2002-12-09T00:00:00",
          "2003-01-27T00:00:00",
          "2003-02-21T00:00:00",
          "2003-03-04T00:00:00",
          "2003-03-22T00:00:00",
          "2003-04-03T00:00:00",
          "2003-04-22T00:00:00",
          "2003-07-05T00:00:00",
          "2003-07-15T00:00:00",
          "2003-08-13T00:00:00",
          "2003-09-20T00:00:00",
          "2003-10-06T00:00:00",
          "2003-11-03T00:00:00",
          "2003-12-02T00:00:00",
          "2004-02-14T00:00:00",
          "2004-02-23T00:00:00",
          "2004-03-09T00:00:00",
          "2004-03-23T00:00:00",
          "2004-04-20T00:00:00",
          "2004-05-17T00:00:00",
          "2004-06-15T00:00:00",
          "2004-09-14T00:00:00",
          "2004-10-13T00:00:00",
          "2004-11-12T00:00:00",
          "2004-12-08T00:00:00",
          "2005-01-26T00:00:00",
          "2005-02-08T00:00:00",
          "2005-02-23T00:00:00",
          "2005-02-24T00:00:00",
          "2005-03-07T00:00:00",
          "2005-03-20T00:00:00",
          "2005-04-05T00:00:00",
          "2005-05-16T00:00:00",
          "2005-06-15T00:00:00",
          "2005-07-19T00:00:00",
          "2005-08-09T00:00:00",
          "2005-10-11T00:00:00",
          "2005-12-08T00:00:00",
          "2006-01-29T00:00:00",
          "2006-01-30T00:00:00",
          "2006-02-08T00:00:00",
          "2006-02-20T00:00:00",
          "2006-02-21T00:00:00",
          "2006-04-04T00:00:00",
          "2006-06-26T00:00:00",
          "2006-07-16T00:00:00",
          "2006-08-07T00:00:00",
          "2006-08-08T00:00:00",
          "2006-10-10T00:00:00",
          "2006-11-07T00:00:00",
          "2006-12-03T00:00:00",
          "2007-01-30T00:00:00",
          "2007-02-20T00:00:00",
          "2007-03-06T00:00:00",
          "2007-03-07T00:00:00",
          "2007-03-19T00:00:00",
          "2007-03-20T00:00:00",
          "2007-04-02T00:00:00",
          "2007-04-14T00:00:00",
          "2007-05-15T00:00:00",
          "2007-06-21T00:00:00",
          "2007-07-19T00:00:00",
          "2007-08-15T00:00:00",
          "2007-09-08T00:00:00",
          "2007-11-14T00:00:00",
          "2007-12-06T00:00:00",
          "2008-01-15T00:00:00",
          "2008-02-12T00:00:00",
          "2008-02-22T00:00:00",
          "2008-03-13T00:00:00",
          "2008-04-14T00:00:00",
          "2008-05-29T00:00:00",
          "2008-06-22T00:00:00",
          "2008-07-16T00:00:00",
          "2008-08-14T00:00:00",
          "2008-09-10T00:00:00",
          "2008-10-09T00:00:00",
          "2009-03-19T00:00:00",
          "2009-06-11T00:00:00",
          "2009-06-12T00:00:00",
          "2009-07-15T00:00:00",
          "2009-07-16T00:00:00",
          "2009-08-15T00:00:00",
          "2009-09-10T00:00:00",
          "2009-10-10T00:00:00",
          "2009-11-08T00:00:00",
          "2009-12-09T00:00:00",
          "2010-03-10T00:00:00",
          "2010-04-22T00:00:00",
          "2010-04-23T00:00:00",
          "2010-05-14T00:00:00",
          "2010-06-23T00:00:00",
          "2010-06-24T00:00:00",
          "2010-07-24T00:00:00",
          "2010-09-06T00:00:00",
          "2010-10-05T00:00:00",
          "2010-11-09T00:00:00",
          "2010-12-09T00:00:00",
          "2011-03-05T00:00:00",
          "2011-03-26T00:00:00",
          "2011-04-28T00:00:00",
          "2011-06-15T00:00:00",
          "2011-07-05T00:00:00",
          "2011-08-20T00:00:00",
          "2011-09-17T00:00:00",
          "2011-11-17T00:00:00",
          "2011-12-07T00:00:00",
          "2012-01-28T00:00:00",
          "2012-01-29T00:00:00",
          "2012-02-09T00:00:00",
          "2012-03-07T00:00:00",
          "2012-04-12T00:00:00",
          "2012-04-26T00:00:00",
          "2012-05-18T00:00:00",
          "2012-06-18T00:00:00",
          "2012-07-12T00:00:00",
          "2012-08-21T00:00:00",
          "2012-09-11T00:00:00",
          "2012-10-18T00:00:00",
          "2012-11-13T00:00:00",
          "2012-12-10T00:00:00",
          "2013-01-21T00:00:00",
          "2013-01-22T00:00:00",
          "2013-02-11T00:00:00",
          "2013-02-25T00:00:00",
          "2013-03-11T00:00:00",
          "2013-03-12T00:00:00",
          "2013-03-27T00:00:00",
          "2013-04-24T00:00:00",
          "2013-05-16T00:00:00",
          "2013-06-14T00:00:00",
          "2013-07-08T00:00:00",
          "2013-08-02T00:00:00",
          "2013-09-16T00:00:00",
          "2013-10-18T00:00:00",
          "2013-11-13T00:00:00",
          "2013-12-08T00:00:00",
          "2014-03-05T00:00:00",
          "2014-04-11T00:00:00",
          "2014-04-28T00:00:00",
          "2014-08-19T00:00:00",
          "2014-09-13T00:00:00",
          "2014-10-28T00:00:00",
          "2014-11-19T00:00:00",
          "2014-12-11T00:00:00"
         ],
         "y": [
          1.618476349532052,
          1.6167541589544159,
          1.6154563835264748,
          1.6148925147727382,
          1.6139314169283532,
          1.6127398752960087,
          1.611794506528643,
          1.6117160413505,
          1.6095387262553116,
          1.6079307171256687,
          1.6058947349701667,
          1.6022178497231336,
          1.6002118067999347,
          1.5987322517992841,
          1.5962456805420635,
          1.5944889520293726,
          1.5912673987040071,
          1.589668654592168,
          1.5889748193966933,
          1.5878521233585654,
          1.587112397709269,
          1.5859554623854821,
          1.5816165523795276,
          1.5810506027338183,
          1.5794368018262441,
          1.577383965892046,
          1.5765405860224446,
          1.575094575915593,
          1.5736370463009992,
          1.5701028436428057,
          1.5696911403148297,
          1.5690137064776584,
          1.5683912898427026,
          1.5671750019347894,
          1.5660381986822332,
          1.5648566075669559,
          1.561413920211957,
          1.5604012710350372,
          1.5593966666035814,
          1.558561351306413,
          1.5570763075026093,
          1.5567018805425616,
          1.5562800442069564,
          1.5562523101568548,
          1.555950439676982,
          1.5556012569146198,
          1.55518275631068,
          1.5541670751380754,
          1.5534755958509885,
          1.552744737954627,
          1.5523213613479125,
          1.5511796856567615,
          1.5502989689352913,
          1.5496482039274504,
          1.5496369756989126,
          1.5495381062361013,
          1.5494123971489717,
          1.549402236944182,
          1.549019345863225,
          1.5485145153008002,
          1.5484428723121746,
          1.5483864935233993,
          1.5483844891363234,
          1.548356082563105,
          1.548405305703782,
          1.5484850925727147,
          1.5487813380217994,
          1.5489288686550504,
          1.5490391163113837,
          1.549047355242984,
          1.5491500090518406,
          1.5491588790883832,
          1.54927860729803,
          1.549396407625498,
          1.5497330814030417,
          1.5501959893869923,
          1.5505904754775532,
          1.5510069185806685,
          1.5514068007066966,
          1.5526711324174565,
          1.5531338131703234,
          1.5540352486049818,
          1.5547124697096208,
          1.554963558231311,
          1.5554802992348948,
          1.5563474755569258,
          1.5576510491299551,
          1.558386484899065,
          1.559149883471765,
          1.5601096314251648,
          1.561039891044249,
          1.562078478568882,
          1.5685869492364346,
          1.5724822168979535,
          1.5725306523597147,
          1.574156257203413,
          1.5742063432473303,
          1.575731498703171,
          1.5770886419749925,
          1.578695355607971,
          1.5802900436796963,
          1.5820398585157567,
          1.5874458935544855,
          1.5901402561922156,
          1.5902039838121902,
          1.5915534780810114,
          1.59418317012645,
          1.594249907631533,
          1.5962746069223435,
          1.599323199639568,
          1.601383885891262,
          1.6039252931407084,
          1.6061509750823229,
          1.6127734134265965,
          1.6144450624951128,
          1.6171151945645845,
          1.6210933974913875,
          1.6227839936873494,
          1.6267460585766897,
          1.6292080444576973,
          1.6347034361221784,
          1.6365445265735734,
          1.6414222408588681,
          1.6415173295398136,
          1.6425665091014579,
          1.6451666723974412,
          1.648688608561654,
          1.6500752416901958,
          1.6522734610339442,
          1.6554108329050978,
          1.657871806679083,
          1.6620355691992588,
          1.6642526385773848,
          1.668210994103172,
          1.6710323008407555,
          1.6739968544210229,
          1.6786787261403315,
          1.678791243026987,
          1.681051775532234,
          1.6826457023610015,
          1.6842491443104353,
          1.684364039977257,
          1.6860933005636647,
          1.6893504786717672,
          1.6919363906361249,
          1.695380992932861,
          1.6982625738775146,
          1.7012939554469437,
          1.706826903062983,
          1.7108212529198457,
          1.7141032662651903,
          1.7172899967434536,
          1.72861633752151,
          1.7335446527968303,
          1.7358312967283858,
          1.7513873277422092,
          1.7549126702951972,
          1.7613347476816419,
          1.764510208755025,
          1.7677091663508697
         ]
        }
       ],
       "layout": {
        "height": 600,
        "template": {
         "data": {
          "bar": [
           {
            "error_x": {
             "color": "#2a3f5f"
            },
            "error_y": {
             "color": "#2a3f5f"
            },
            "marker": {
             "line": {
              "color": "#E5ECF6",
              "width": 0.5
             },
             "pattern": {
              "fillmode": "overlay",
              "size": 10,
              "solidity": 0.2
             }
            },
            "type": "bar"
           }
          ],
          "barpolar": [
           {
            "marker": {
             "line": {
              "color": "#E5ECF6",
              "width": 0.5
             },
             "pattern": {
              "fillmode": "overlay",
              "size": 10,
              "solidity": 0.2
             }
            },
            "type": "barpolar"
           }
          ],
          "carpet": [
           {
            "aaxis": {
             "endlinecolor": "#2a3f5f",
             "gridcolor": "white",
             "linecolor": "white",
             "minorgridcolor": "white",
             "startlinecolor": "#2a3f5f"
            },
            "baxis": {
             "endlinecolor": "#2a3f5f",
             "gridcolor": "white",
             "linecolor": "white",
             "minorgridcolor": "white",
             "startlinecolor": "#2a3f5f"
            },
            "type": "carpet"
           }
          ],
          "choropleth": [
           {
            "colorbar": {
             "outlinewidth": 0,
             "ticks": ""
            },
            "type": "choropleth"
           }
          ],
          "contour": [
           {
            "colorbar": {
             "outlinewidth": 0,
             "ticks": ""
            },
            "colorscale": [
             [
              0,
              "#0d0887"
             ],
             [
              0.1111111111111111,
              "#46039f"
             ],
             [
              0.2222222222222222,
              "#7201a8"
             ],
             [
              0.3333333333333333,
              "#9c179e"
             ],
             [
              0.4444444444444444,
              "#bd3786"
             ],
             [
              0.5555555555555556,
              "#d8576b"
             ],
             [
              0.6666666666666666,
              "#ed7953"
             ],
             [
              0.7777777777777778,
              "#fb9f3a"
             ],
             [
              0.8888888888888888,
              "#fdca26"
             ],
             [
              1,
              "#f0f921"
             ]
            ],
            "type": "contour"
           }
          ],
          "contourcarpet": [
           {
            "colorbar": {
             "outlinewidth": 0,
             "ticks": ""
            },
            "type": "contourcarpet"
           }
          ],
          "heatmap": [
           {
            "colorbar": {
             "outlinewidth": 0,
             "ticks": ""
            },
            "colorscale": [
             [
              0,
              "#0d0887"
             ],
             [
              0.1111111111111111,
              "#46039f"
             ],
             [
              0.2222222222222222,
              "#7201a8"
             ],
             [
              0.3333333333333333,
              "#9c179e"
             ],
             [
              0.4444444444444444,
              "#bd3786"
             ],
             [
              0.5555555555555556,
              "#d8576b"
             ],
             [
              0.6666666666666666,
              "#ed7953"
             ],
             [
              0.7777777777777778,
              "#fb9f3a"
             ],
             [
              0.8888888888888888,
              "#fdca26"
             ],
             [
              1,
              "#f0f921"
             ]
            ],
            "type": "heatmap"
           }
          ],
          "heatmapgl": [
           {
            "colorbar": {
             "outlinewidth": 0,
             "ticks": ""
            },
            "colorscale": [
             [
              0,
              "#0d0887"
             ],
             [
              0.1111111111111111,
              "#46039f"
             ],
             [
              0.2222222222222222,
              "#7201a8"
             ],
             [
              0.3333333333333333,
              "#9c179e"
             ],
             [
              0.4444444444444444,
              "#bd3786"
             ],
             [
              0.5555555555555556,
              "#d8576b"
             ],
             [
              0.6666666666666666,
              "#ed7953"
             ],
             [
              0.7777777777777778,
              "#fb9f3a"
             ],
             [
              0.8888888888888888,
              "#fdca26"
             ],
             [
              1,
              "#f0f921"
             ]
            ],
            "type": "heatmapgl"
           }
          ],
          "histogram": [
           {
            "marker": {
             "pattern": {
              "fillmode": "overlay",
              "size": 10,
              "solidity": 0.2
             }
            },
            "type": "histogram"
           }
          ],
          "histogram2d": [
           {
            "colorbar": {
             "outlinewidth": 0,
             "ticks": ""
            },
            "colorscale": [
             [
              0,
              "#0d0887"
             ],
             [
              0.1111111111111111,
              "#46039f"
             ],
             [
              0.2222222222222222,
              "#7201a8"
             ],
             [
              0.3333333333333333,
              "#9c179e"
             ],
             [
              0.4444444444444444,
              "#bd3786"
             ],
             [
              0.5555555555555556,
              "#d8576b"
             ],
             [
              0.6666666666666666,
              "#ed7953"
             ],
             [
              0.7777777777777778,
              "#fb9f3a"
             ],
             [
              0.8888888888888888,
              "#fdca26"
             ],
             [
              1,
              "#f0f921"
             ]
            ],
            "type": "histogram2d"
           }
          ],
          "histogram2dcontour": [
           {
            "colorbar": {
             "outlinewidth": 0,
             "ticks": ""
            },
            "colorscale": [
             [
              0,
              "#0d0887"
             ],
             [
              0.1111111111111111,
              "#46039f"
             ],
             [
              0.2222222222222222,
              "#7201a8"
             ],
             [
              0.3333333333333333,
              "#9c179e"
             ],
             [
              0.4444444444444444,
              "#bd3786"
             ],
             [
              0.5555555555555556,
              "#d8576b"
             ],
             [
              0.6666666666666666,
              "#ed7953"
             ],
             [
              0.7777777777777778,
              "#fb9f3a"
             ],
             [
              0.8888888888888888,
              "#fdca26"
             ],
             [
              1,
              "#f0f921"
             ]
            ],
            "type": "histogram2dcontour"
           }
          ],
          "mesh3d": [
           {
            "colorbar": {
             "outlinewidth": 0,
             "ticks": ""
            },
            "type": "mesh3d"
           }
          ],
          "parcoords": [
           {
            "line": {
             "colorbar": {
              "outlinewidth": 0,
              "ticks": ""
             }
            },
            "type": "parcoords"
           }
          ],
          "pie": [
           {
            "automargin": true,
            "type": "pie"
           }
          ],
          "scatter": [
           {
            "fillpattern": {
             "fillmode": "overlay",
             "size": 10,
             "solidity": 0.2
            },
            "type": "scatter"
           }
          ],
          "scatter3d": [
           {
            "line": {
             "colorbar": {
              "outlinewidth": 0,
              "ticks": ""
             }
            },
            "marker": {
             "colorbar": {
              "outlinewidth": 0,
              "ticks": ""
             }
            },
            "type": "scatter3d"
           }
          ],
          "scattercarpet": [
           {
            "marker": {
             "colorbar": {
              "outlinewidth": 0,
              "ticks": ""
             }
            },
            "type": "scattercarpet"
           }
          ],
          "scattergeo": [
           {
            "marker": {
             "colorbar": {
              "outlinewidth": 0,
              "ticks": ""
             }
            },
            "type": "scattergeo"
           }
          ],
          "scattergl": [
           {
            "marker": {
             "colorbar": {
              "outlinewidth": 0,
              "ticks": ""
             }
            },
            "type": "scattergl"
           }
          ],
          "scattermapbox": [
           {
            "marker": {
             "colorbar": {
              "outlinewidth": 0,
              "ticks": ""
             }
            },
            "type": "scattermapbox"
           }
          ],
          "scatterpolar": [
           {
            "marker": {
             "colorbar": {
              "outlinewidth": 0,
              "ticks": ""
             }
            },
            "type": "scatterpolar"
           }
          ],
          "scatterpolargl": [
           {
            "marker": {
             "colorbar": {
              "outlinewidth": 0,
              "ticks": ""
             }
            },
            "type": "scatterpolargl"
           }
          ],
          "scatterternary": [
           {
            "marker": {
             "colorbar": {
              "outlinewidth": 0,
              "ticks": ""
             }
            },
            "type": "scatterternary"
           }
          ],
          "surface": [
           {
            "colorbar": {
             "outlinewidth": 0,
             "ticks": ""
            },
            "colorscale": [
             [
              0,
              "#0d0887"
             ],
             [
              0.1111111111111111,
              "#46039f"
             ],
             [
              0.2222222222222222,
              "#7201a8"
             ],
             [
              0.3333333333333333,
              "#9c179e"
             ],
             [
              0.4444444444444444,
              "#bd3786"
             ],
             [
              0.5555555555555556,
              "#d8576b"
             ],
             [
              0.6666666666666666,
              "#ed7953"
             ],
             [
              0.7777777777777778,
              "#fb9f3a"
             ],
             [
              0.8888888888888888,
              "#fdca26"
             ],
             [
              1,
              "#f0f921"
             ]
            ],
            "type": "surface"
           }
          ],
          "table": [
           {
            "cells": {
             "fill": {
              "color": "#EBF0F8"
             },
             "line": {
              "color": "white"
             }
            },
            "header": {
             "fill": {
              "color": "#C8D4E3"
             },
             "line": {
              "color": "white"
             }
            },
            "type": "table"
           }
          ]
         },
         "layout": {
          "annotationdefaults": {
           "arrowcolor": "#2a3f5f",
           "arrowhead": 0,
           "arrowwidth": 1
          },
          "autotypenumbers": "strict",
          "coloraxis": {
           "colorbar": {
            "outlinewidth": 0,
            "ticks": ""
           }
          },
          "colorscale": {
           "diverging": [
            [
             0,
             "#8e0152"
            ],
            [
             0.1,
             "#c51b7d"
            ],
            [
             0.2,
             "#de77ae"
            ],
            [
             0.3,
             "#f1b6da"
            ],
            [
             0.4,
             "#fde0ef"
            ],
            [
             0.5,
             "#f7f7f7"
            ],
            [
             0.6,
             "#e6f5d0"
            ],
            [
             0.7,
             "#b8e186"
            ],
            [
             0.8,
             "#7fbc41"
            ],
            [
             0.9,
             "#4d9221"
            ],
            [
             1,
             "#276419"
            ]
           ],
           "sequential": [
            [
             0,
             "#0d0887"
            ],
            [
             0.1111111111111111,
             "#46039f"
            ],
            [
             0.2222222222222222,
             "#7201a8"
            ],
            [
             0.3333333333333333,
             "#9c179e"
            ],
            [
             0.4444444444444444,
             "#bd3786"
            ],
            [
             0.5555555555555556,
             "#d8576b"
            ],
            [
             0.6666666666666666,
             "#ed7953"
            ],
            [
             0.7777777777777778,
             "#fb9f3a"
            ],
            [
             0.8888888888888888,
             "#fdca26"
            ],
            [
             1,
             "#f0f921"
            ]
           ],
           "sequentialminus": [
            [
             0,
             "#0d0887"
            ],
            [
             0.1111111111111111,
             "#46039f"
            ],
            [
             0.2222222222222222,
             "#7201a8"
            ],
            [
             0.3333333333333333,
             "#9c179e"
            ],
            [
             0.4444444444444444,
             "#bd3786"
            ],
            [
             0.5555555555555556,
             "#d8576b"
            ],
            [
             0.6666666666666666,
             "#ed7953"
            ],
            [
             0.7777777777777778,
             "#fb9f3a"
            ],
            [
             0.8888888888888888,
             "#fdca26"
            ],
            [
             1,
             "#f0f921"
            ]
           ]
          },
          "colorway": [
           "#636efa",
           "#EF553B",
           "#00cc96",
           "#ab63fa",
           "#FFA15A",
           "#19d3f3",
           "#FF6692",
           "#B6E880",
           "#FF97FF",
           "#FECB52"
          ],
          "font": {
           "color": "#2a3f5f"
          },
          "geo": {
           "bgcolor": "white",
           "lakecolor": "white",
           "landcolor": "#E5ECF6",
           "showlakes": true,
           "showland": true,
           "subunitcolor": "white"
          },
          "hoverlabel": {
           "align": "left"
          },
          "hovermode": "closest",
          "mapbox": {
           "style": "light"
          },
          "paper_bgcolor": "white",
          "plot_bgcolor": "#E5ECF6",
          "polar": {
           "angularaxis": {
            "gridcolor": "white",
            "linecolor": "white",
            "ticks": ""
           },
           "bgcolor": "#E5ECF6",
           "radialaxis": {
            "gridcolor": "white",
            "linecolor": "white",
            "ticks": ""
           }
          },
          "scene": {
           "xaxis": {
            "backgroundcolor": "#E5ECF6",
            "gridcolor": "white",
            "gridwidth": 2,
            "linecolor": "white",
            "showbackground": true,
            "ticks": "",
            "zerolinecolor": "white"
           },
           "yaxis": {
            "backgroundcolor": "#E5ECF6",
            "gridcolor": "white",
            "gridwidth": 2,
            "linecolor": "white",
            "showbackground": true,
            "ticks": "",
            "zerolinecolor": "white"
           },
           "zaxis": {
            "backgroundcolor": "#E5ECF6",
            "gridcolor": "white",
            "gridwidth": 2,
            "linecolor": "white",
            "showbackground": true,
            "ticks": "",
            "zerolinecolor": "white"
           }
          },
          "shapedefaults": {
           "line": {
            "color": "#2a3f5f"
           }
          },
          "ternary": {
           "aaxis": {
            "gridcolor": "white",
            "linecolor": "white",
            "ticks": ""
           },
           "baxis": {
            "gridcolor": "white",
            "linecolor": "white",
            "ticks": ""
           },
           "bgcolor": "#E5ECF6",
           "caxis": {
            "gridcolor": "white",
            "linecolor": "white",
            "ticks": ""
           }
          },
          "title": {
           "x": 0.05
          },
          "xaxis": {
           "automargin": true,
           "gridcolor": "white",
           "linecolor": "white",
           "ticks": "",
           "title": {
            "standoff": 15
           },
           "zerolinecolor": "white",
           "zerolinewidth": 2
          },
          "yaxis": {
           "automargin": true,
           "gridcolor": "white",
           "linecolor": "white",
           "ticks": "",
           "title": {
            "standoff": 15
           },
           "zerolinecolor": "white",
           "zerolinewidth": 2
          }
         }
        }
       }
      }
     },
     "metadata": {},
     "output_type": "display_data"
    }
   ],
   "source": [
    "day_data = day_data.sel(time=slice(time_start, time_end))\n",
    "night_data = night_data.sel(time=slice(time_start, time_end))\n",
    "plot_trend(day_data, night_data, poly_order=2).show()"
   ]
  },
  {
   "cell_type": "markdown",
   "metadata": {},
   "source": [
    "Only keep data from time_start to time_end bounds.\n"
   ]
  },
  {
   "cell_type": "code",
   "execution_count": 12,
   "metadata": {},
   "outputs": [
    {
     "data": {
      "text/html": [
       "<div><svg style=\"position: absolute; width: 0; height: 0; overflow: hidden\">\n",
       "<defs>\n",
       "<symbol id=\"icon-database\" viewBox=\"0 0 32 32\">\n",
       "<path d=\"M16 0c-8.837 0-16 2.239-16 5v4c0 2.761 7.163 5 16 5s16-2.239 16-5v-4c0-2.761-7.163-5-16-5z\"></path>\n",
       "<path d=\"M16 17c-8.837 0-16-2.239-16-5v6c0 2.761 7.163 5 16 5s16-2.239 16-5v-6c0 2.761-7.163 5-16 5z\"></path>\n",
       "<path d=\"M16 26c-8.837 0-16-2.239-16-5v6c0 2.761 7.163 5 16 5s16-2.239 16-5v-6c0 2.761-7.163 5-16 5z\"></path>\n",
       "</symbol>\n",
       "<symbol id=\"icon-file-text2\" viewBox=\"0 0 32 32\">\n",
       "<path d=\"M28.681 7.159c-0.694-0.947-1.662-2.053-2.724-3.116s-2.169-2.030-3.116-2.724c-1.612-1.182-2.393-1.319-2.841-1.319h-15.5c-1.378 0-2.5 1.121-2.5 2.5v27c0 1.378 1.122 2.5 2.5 2.5h23c1.378 0 2.5-1.122 2.5-2.5v-19.5c0-0.448-0.137-1.23-1.319-2.841zM24.543 5.457c0.959 0.959 1.712 1.825 2.268 2.543h-4.811v-4.811c0.718 0.556 1.584 1.309 2.543 2.268zM28 29.5c0 0.271-0.229 0.5-0.5 0.5h-23c-0.271 0-0.5-0.229-0.5-0.5v-27c0-0.271 0.229-0.5 0.5-0.5 0 0 15.499-0 15.5 0v7c0 0.552 0.448 1 1 1h7v19.5z\"></path>\n",
       "<path d=\"M23 26h-14c-0.552 0-1-0.448-1-1s0.448-1 1-1h14c0.552 0 1 0.448 1 1s-0.448 1-1 1z\"></path>\n",
       "<path d=\"M23 22h-14c-0.552 0-1-0.448-1-1s0.448-1 1-1h14c0.552 0 1 0.448 1 1s-0.448 1-1 1z\"></path>\n",
       "<path d=\"M23 18h-14c-0.552 0-1-0.448-1-1s0.448-1 1-1h14c0.552 0 1 0.448 1 1s-0.448 1-1 1z\"></path>\n",
       "</symbol>\n",
       "</defs>\n",
       "</svg>\n",
       "<style>/* CSS stylesheet for displaying xarray objects in jupyterlab.\n",
       " *\n",
       " */\n",
       "\n",
       ":root {\n",
       "  --xr-font-color0: var(--jp-content-font-color0, rgba(0, 0, 0, 1));\n",
       "  --xr-font-color2: var(--jp-content-font-color2, rgba(0, 0, 0, 0.54));\n",
       "  --xr-font-color3: var(--jp-content-font-color3, rgba(0, 0, 0, 0.38));\n",
       "  --xr-border-color: var(--jp-border-color2, #e0e0e0);\n",
       "  --xr-disabled-color: var(--jp-layout-color3, #bdbdbd);\n",
       "  --xr-background-color: var(--jp-layout-color0, white);\n",
       "  --xr-background-color-row-even: var(--jp-layout-color1, white);\n",
       "  --xr-background-color-row-odd: var(--jp-layout-color2, #eeeeee);\n",
       "}\n",
       "\n",
       "html[theme=\"dark\"],\n",
       "html[data-theme=\"dark\"],\n",
       "body[data-theme=\"dark\"],\n",
       "body.vscode-dark {\n",
       "  --xr-font-color0: rgba(255, 255, 255, 1);\n",
       "  --xr-font-color2: rgba(255, 255, 255, 0.54);\n",
       "  --xr-font-color3: rgba(255, 255, 255, 0.38);\n",
       "  --xr-border-color: #1f1f1f;\n",
       "  --xr-disabled-color: #515151;\n",
       "  --xr-background-color: #111111;\n",
       "  --xr-background-color-row-even: #111111;\n",
       "  --xr-background-color-row-odd: #313131;\n",
       "}\n",
       "\n",
       ".xr-wrap {\n",
       "  display: block !important;\n",
       "  min-width: 300px;\n",
       "  max-width: 700px;\n",
       "}\n",
       "\n",
       ".xr-text-repr-fallback {\n",
       "  /* fallback to plain text repr when CSS is not injected (untrusted notebook) */\n",
       "  display: none;\n",
       "}\n",
       "\n",
       ".xr-header {\n",
       "  padding-top: 6px;\n",
       "  padding-bottom: 6px;\n",
       "  margin-bottom: 4px;\n",
       "  border-bottom: solid 1px var(--xr-border-color);\n",
       "}\n",
       "\n",
       ".xr-header > div,\n",
       ".xr-header > ul {\n",
       "  display: inline;\n",
       "  margin-top: 0;\n",
       "  margin-bottom: 0;\n",
       "}\n",
       "\n",
       ".xr-obj-type,\n",
       ".xr-array-name {\n",
       "  margin-left: 2px;\n",
       "  margin-right: 10px;\n",
       "}\n",
       "\n",
       ".xr-obj-type {\n",
       "  color: var(--xr-font-color2);\n",
       "}\n",
       "\n",
       ".xr-sections {\n",
       "  padding-left: 0 !important;\n",
       "  display: grid;\n",
       "  grid-template-columns: 150px auto auto 1fr 0 20px 0 20px;\n",
       "}\n",
       "\n",
       ".xr-section-item {\n",
       "  display: contents;\n",
       "}\n",
       "\n",
       ".xr-section-item input {\n",
       "  display: inline-block;\n",
       "  opacity: 0;\n",
       "  height: 0;\n",
       "}\n",
       "\n",
       ".xr-section-item input + label {\n",
       "  color: var(--xr-disabled-color);\n",
       "}\n",
       "\n",
       ".xr-section-item input:enabled + label {\n",
       "  cursor: pointer;\n",
       "  color: var(--xr-font-color2);\n",
       "}\n",
       "\n",
       ".xr-section-item input:focus + label {\n",
       "  border: 2px solid var(--xr-font-color0);\n",
       "}\n",
       "\n",
       ".xr-section-item input:enabled + label:hover {\n",
       "  color: var(--xr-font-color0);\n",
       "}\n",
       "\n",
       ".xr-section-summary {\n",
       "  grid-column: 1;\n",
       "  color: var(--xr-font-color2);\n",
       "  font-weight: 500;\n",
       "}\n",
       "\n",
       ".xr-section-summary > span {\n",
       "  display: inline-block;\n",
       "  padding-left: 0.5em;\n",
       "}\n",
       "\n",
       ".xr-section-summary-in:disabled + label {\n",
       "  color: var(--xr-font-color2);\n",
       "}\n",
       "\n",
       ".xr-section-summary-in + label:before {\n",
       "  display: inline-block;\n",
       "  content: \"►\";\n",
       "  font-size: 11px;\n",
       "  width: 15px;\n",
       "  text-align: center;\n",
       "}\n",
       "\n",
       ".xr-section-summary-in:disabled + label:before {\n",
       "  color: var(--xr-disabled-color);\n",
       "}\n",
       "\n",
       ".xr-section-summary-in:checked + label:before {\n",
       "  content: \"▼\";\n",
       "}\n",
       "\n",
       ".xr-section-summary-in:checked + label > span {\n",
       "  display: none;\n",
       "}\n",
       "\n",
       ".xr-section-summary,\n",
       ".xr-section-inline-details {\n",
       "  padding-top: 4px;\n",
       "  padding-bottom: 4px;\n",
       "}\n",
       "\n",
       ".xr-section-inline-details {\n",
       "  grid-column: 2 / -1;\n",
       "}\n",
       "\n",
       ".xr-section-details {\n",
       "  display: none;\n",
       "  grid-column: 1 / -1;\n",
       "  margin-bottom: 5px;\n",
       "}\n",
       "\n",
       ".xr-section-summary-in:checked ~ .xr-section-details {\n",
       "  display: contents;\n",
       "}\n",
       "\n",
       ".xr-array-wrap {\n",
       "  grid-column: 1 / -1;\n",
       "  display: grid;\n",
       "  grid-template-columns: 20px auto;\n",
       "}\n",
       "\n",
       ".xr-array-wrap > label {\n",
       "  grid-column: 1;\n",
       "  vertical-align: top;\n",
       "}\n",
       "\n",
       ".xr-preview {\n",
       "  color: var(--xr-font-color3);\n",
       "}\n",
       "\n",
       ".xr-array-preview,\n",
       ".xr-array-data {\n",
       "  padding: 0 5px !important;\n",
       "  grid-column: 2;\n",
       "}\n",
       "\n",
       ".xr-array-data,\n",
       ".xr-array-in:checked ~ .xr-array-preview {\n",
       "  display: none;\n",
       "}\n",
       "\n",
       ".xr-array-in:checked ~ .xr-array-data,\n",
       ".xr-array-preview {\n",
       "  display: inline-block;\n",
       "}\n",
       "\n",
       ".xr-dim-list {\n",
       "  display: inline-block !important;\n",
       "  list-style: none;\n",
       "  padding: 0 !important;\n",
       "  margin: 0;\n",
       "}\n",
       "\n",
       ".xr-dim-list li {\n",
       "  display: inline-block;\n",
       "  padding: 0;\n",
       "  margin: 0;\n",
       "}\n",
       "\n",
       ".xr-dim-list:before {\n",
       "  content: \"(\";\n",
       "}\n",
       "\n",
       ".xr-dim-list:after {\n",
       "  content: \")\";\n",
       "}\n",
       "\n",
       ".xr-dim-list li:not(:last-child):after {\n",
       "  content: \",\";\n",
       "  padding-right: 5px;\n",
       "}\n",
       "\n",
       ".xr-has-index {\n",
       "  font-weight: bold;\n",
       "}\n",
       "\n",
       ".xr-var-list,\n",
       ".xr-var-item {\n",
       "  display: contents;\n",
       "}\n",
       "\n",
       ".xr-var-item > div,\n",
       ".xr-var-item label,\n",
       ".xr-var-item > .xr-var-name span {\n",
       "  background-color: var(--xr-background-color-row-even);\n",
       "  margin-bottom: 0;\n",
       "}\n",
       "\n",
       ".xr-var-item > .xr-var-name:hover span {\n",
       "  padding-right: 5px;\n",
       "}\n",
       "\n",
       ".xr-var-list > li:nth-child(odd) > div,\n",
       ".xr-var-list > li:nth-child(odd) > label,\n",
       ".xr-var-list > li:nth-child(odd) > .xr-var-name span {\n",
       "  background-color: var(--xr-background-color-row-odd);\n",
       "}\n",
       "\n",
       ".xr-var-name {\n",
       "  grid-column: 1;\n",
       "}\n",
       "\n",
       ".xr-var-dims {\n",
       "  grid-column: 2;\n",
       "}\n",
       "\n",
       ".xr-var-dtype {\n",
       "  grid-column: 3;\n",
       "  text-align: right;\n",
       "  color: var(--xr-font-color2);\n",
       "}\n",
       "\n",
       ".xr-var-preview {\n",
       "  grid-column: 4;\n",
       "}\n",
       "\n",
       ".xr-index-preview {\n",
       "  grid-column: 2 / 5;\n",
       "  color: var(--xr-font-color2);\n",
       "}\n",
       "\n",
       ".xr-var-name,\n",
       ".xr-var-dims,\n",
       ".xr-var-dtype,\n",
       ".xr-preview,\n",
       ".xr-attrs dt {\n",
       "  white-space: nowrap;\n",
       "  overflow: hidden;\n",
       "  text-overflow: ellipsis;\n",
       "  padding-right: 10px;\n",
       "}\n",
       "\n",
       ".xr-var-name:hover,\n",
       ".xr-var-dims:hover,\n",
       ".xr-var-dtype:hover,\n",
       ".xr-attrs dt:hover {\n",
       "  overflow: visible;\n",
       "  width: auto;\n",
       "  z-index: 1;\n",
       "}\n",
       "\n",
       ".xr-var-attrs,\n",
       ".xr-var-data,\n",
       ".xr-index-data {\n",
       "  display: none;\n",
       "  background-color: var(--xr-background-color) !important;\n",
       "  padding-bottom: 5px !important;\n",
       "}\n",
       "\n",
       ".xr-var-attrs-in:checked ~ .xr-var-attrs,\n",
       ".xr-var-data-in:checked ~ .xr-var-data,\n",
       ".xr-index-data-in:checked ~ .xr-index-data {\n",
       "  display: block;\n",
       "}\n",
       "\n",
       ".xr-var-data > table {\n",
       "  float: right;\n",
       "}\n",
       "\n",
       ".xr-var-name span,\n",
       ".xr-var-data,\n",
       ".xr-index-name div,\n",
       ".xr-index-data,\n",
       ".xr-attrs {\n",
       "  padding-left: 25px !important;\n",
       "}\n",
       "\n",
       ".xr-attrs,\n",
       ".xr-var-attrs,\n",
       ".xr-var-data,\n",
       ".xr-index-data {\n",
       "  grid-column: 1 / -1;\n",
       "}\n",
       "\n",
       "dl.xr-attrs {\n",
       "  padding: 0;\n",
       "  margin: 0;\n",
       "  display: grid;\n",
       "  grid-template-columns: 125px auto;\n",
       "}\n",
       "\n",
       ".xr-attrs dt,\n",
       ".xr-attrs dd {\n",
       "  padding: 0;\n",
       "  margin: 0;\n",
       "  float: left;\n",
       "  padding-right: 10px;\n",
       "  width: auto;\n",
       "}\n",
       "\n",
       ".xr-attrs dt {\n",
       "  font-weight: normal;\n",
       "  grid-column: 1;\n",
       "}\n",
       "\n",
       ".xr-attrs dt:hover span {\n",
       "  display: inline-block;\n",
       "  background: var(--xr-background-color);\n",
       "  padding-right: 10px;\n",
       "}\n",
       "\n",
       ".xr-attrs dd {\n",
       "  grid-column: 2;\n",
       "  white-space: pre-wrap;\n",
       "  word-break: break-all;\n",
       "}\n",
       "\n",
       ".xr-icon-database,\n",
       ".xr-icon-file-text2,\n",
       ".xr-no-icon {\n",
       "  display: inline-block;\n",
       "  vertical-align: middle;\n",
       "  width: 1em;\n",
       "  height: 1.5em !important;\n",
       "  stroke-width: 0;\n",
       "  stroke: currentColor;\n",
       "  fill: currentColor;\n",
       "}\n",
       "</style><pre class='xr-text-repr-fallback'>&lt;xarray.Dataset&gt; Size: 6kB\n",
       "Dimensions:    (time: 254, latitude: 1, longitude: 1)\n",
       "Coordinates:\n",
       "  * latitude   (latitude) float64 8B 31.6\n",
       "  * longitude  (longitude) float64 8B -64.2\n",
       "  * time       (time) datetime64[ns] 2kB 2002-01-22 2002-02-12 ... 2014-12-11\n",
       "Data variables:\n",
       "    day        (time, latitude, longitude) float64 2kB 0.524 nan ... 0.53 0.36\n",
       "    night      (time, latitude, longitude) float64 2kB 1.318 1.572 ... nan 1.134\n",
       "Attributes:\n",
       "    creation date:  2025-03-31T16:35:10.270720\n",
       "    layer:          epipelagic\n",
       "    station:        Bats</pre><div class='xr-wrap' style='display:none'><div class='xr-header'><div class='xr-obj-type'>xarray.Dataset</div></div><ul class='xr-sections'><li class='xr-section-item'><input id='section-b257fbb5-a18d-4af1-b1ba-38898b17520d' class='xr-section-summary-in' type='checkbox' disabled ><label for='section-b257fbb5-a18d-4af1-b1ba-38898b17520d' class='xr-section-summary'  title='Expand/collapse section'>Dimensions:</label><div class='xr-section-inline-details'><ul class='xr-dim-list'><li><span class='xr-has-index'>time</span>: 254</li><li><span class='xr-has-index'>latitude</span>: 1</li><li><span class='xr-has-index'>longitude</span>: 1</li></ul></div><div class='xr-section-details'></div></li><li class='xr-section-item'><input id='section-a967c9b2-947a-49fe-a955-87057bcb5f82' class='xr-section-summary-in' type='checkbox'  checked><label for='section-a967c9b2-947a-49fe-a955-87057bcb5f82' class='xr-section-summary' >Coordinates: <span>(3)</span></label><div class='xr-section-inline-details'></div><div class='xr-section-details'><ul class='xr-var-list'><li class='xr-var-item'><div class='xr-var-name'><span class='xr-has-index'>latitude</span></div><div class='xr-var-dims'>(latitude)</div><div class='xr-var-dtype'>float64</div><div class='xr-var-preview xr-preview'>31.6</div><input id='attrs-229ee97e-eb61-4aa4-acff-db2d6f7c722a' class='xr-var-attrs-in' type='checkbox' ><label for='attrs-229ee97e-eb61-4aa4-acff-db2d6f7c722a' title='Show/Hide attributes'><svg class='icon xr-icon-file-text2'><use xlink:href='#icon-file-text2'></use></svg></label><input id='data-03e904bb-8d7a-4887-adaf-e5bc54848774' class='xr-var-data-in' type='checkbox'><label for='data-03e904bb-8d7a-4887-adaf-e5bc54848774' title='Show/Hide data repr'><svg class='icon xr-icon-database'><use xlink:href='#icon-database'></use></svg></label><div class='xr-var-attrs'><dl class='xr-attrs'><dt><span>axis :</span></dt><dd>Y</dd><dt><span>long_name :</span></dt><dd>Latitude</dd><dt><span>standard_name :</span></dt><dd>latitude</dd><dt><span>units :</span></dt><dd>degrees_north</dd></dl></div><div class='xr-var-data'><pre>array([31.6])</pre></div></li><li class='xr-var-item'><div class='xr-var-name'><span class='xr-has-index'>longitude</span></div><div class='xr-var-dims'>(longitude)</div><div class='xr-var-dtype'>float64</div><div class='xr-var-preview xr-preview'>-64.2</div><input id='attrs-ef708590-b9a2-474c-af08-80cd0ca5a6e0' class='xr-var-attrs-in' type='checkbox' ><label for='attrs-ef708590-b9a2-474c-af08-80cd0ca5a6e0' title='Show/Hide attributes'><svg class='icon xr-icon-file-text2'><use xlink:href='#icon-file-text2'></use></svg></label><input id='data-746e5c27-b770-4d81-8ed7-a27fcb5e5834' class='xr-var-data-in' type='checkbox'><label for='data-746e5c27-b770-4d81-8ed7-a27fcb5e5834' title='Show/Hide data repr'><svg class='icon xr-icon-database'><use xlink:href='#icon-database'></use></svg></label><div class='xr-var-attrs'><dl class='xr-attrs'><dt><span>axis :</span></dt><dd>X</dd><dt><span>long_name :</span></dt><dd>Longitude</dd><dt><span>standard_name :</span></dt><dd>longitude</dd><dt><span>units :</span></dt><dd>degrees_east</dd></dl></div><div class='xr-var-data'><pre>array([-64.2])</pre></div></li><li class='xr-var-item'><div class='xr-var-name'><span class='xr-has-index'>time</span></div><div class='xr-var-dims'>(time)</div><div class='xr-var-dtype'>datetime64[ns]</div><div class='xr-var-preview xr-preview'>2002-01-22 ... 2014-12-11</div><input id='attrs-b2115681-3436-4299-a23b-6de1ecf4dd77' class='xr-var-attrs-in' type='checkbox' ><label for='attrs-b2115681-3436-4299-a23b-6de1ecf4dd77' title='Show/Hide attributes'><svg class='icon xr-icon-file-text2'><use xlink:href='#icon-file-text2'></use></svg></label><input id='data-a93f0661-4071-4f70-9551-15d482d0354d' class='xr-var-data-in' type='checkbox'><label for='data-a93f0661-4071-4f70-9551-15d482d0354d' title='Show/Hide data repr'><svg class='icon xr-icon-database'><use xlink:href='#icon-database'></use></svg></label><div class='xr-var-attrs'><dl class='xr-attrs'><dt><span>axis :</span></dt><dd>T</dd><dt><span>long_name :</span></dt><dd>time</dd><dt><span>standard_name :</span></dt><dd>time</dd></dl></div><div class='xr-var-data'><pre>array([&#x27;2002-01-22T00:00:00.000000000&#x27;, &#x27;2002-02-12T00:00:00.000000000&#x27;,\n",
       "       &#x27;2002-02-13T00:00:00.000000000&#x27;, ..., &#x27;2014-11-19T00:00:00.000000000&#x27;,\n",
       "       &#x27;2014-11-20T00:00:00.000000000&#x27;, &#x27;2014-12-11T00:00:00.000000000&#x27;],\n",
       "      dtype=&#x27;datetime64[ns]&#x27;)</pre></div></li></ul></div></li><li class='xr-section-item'><input id='section-d59bfafe-9dfc-40b5-82b8-49c9cc6f85a7' class='xr-section-summary-in' type='checkbox'  checked><label for='section-d59bfafe-9dfc-40b5-82b8-49c9cc6f85a7' class='xr-section-summary' >Data variables: <span>(2)</span></label><div class='xr-section-inline-details'></div><div class='xr-section-details'><ul class='xr-var-list'><li class='xr-var-item'><div class='xr-var-name'><span>day</span></div><div class='xr-var-dims'>(time, latitude, longitude)</div><div class='xr-var-dtype'>float64</div><div class='xr-var-preview xr-preview'>0.524 nan 0.486 ... nan 0.53 0.36</div><input id='attrs-e1759961-5f1a-4753-8003-d0ec72006adf' class='xr-var-attrs-in' type='checkbox' ><label for='attrs-e1759961-5f1a-4753-8003-d0ec72006adf' title='Show/Hide attributes'><svg class='icon xr-icon-file-text2'><use xlink:href='#icon-file-text2'></use></svg></label><input id='data-490b42b4-a4da-4783-b7fb-ad13fc264fc6' class='xr-var-data-in' type='checkbox'><label for='data-490b42b4-a4da-4783-b7fb-ad13fc264fc6' title='Show/Hide data repr'><svg class='icon xr-icon-database'><use xlink:href='#icon-database'></use></svg></label><div class='xr-var-attrs'><dl class='xr-attrs'><dt><span>description :</span></dt><dd>Zooplankton carbon weight by cube meter of sea water during the day</dd><dt><span>units :</span></dt><dd>mg/m3</dd></dl></div><div class='xr-var-data'><pre>array([[[0.524     ]],\n",
       "\n",
       "       [[       nan]],\n",
       "\n",
       "       [[0.486     ]],\n",
       "\n",
       "       [[1.09      ]],\n",
       "\n",
       "       [[       nan]],\n",
       "\n",
       "       [[0.952     ]],\n",
       "\n",
       "       [[       nan]],\n",
       "\n",
       "       [[       nan]],\n",
       "\n",
       "       [[1.6       ]],\n",
       "\n",
       "       [[       nan]],\n",
       "\n",
       "...\n",
       "\n",
       "       [[1.556     ]],\n",
       "\n",
       "       [[       nan]],\n",
       "\n",
       "       [[1.94      ]],\n",
       "\n",
       "       [[       nan]],\n",
       "\n",
       "       [[0.858     ]],\n",
       "\n",
       "       [[0.616     ]],\n",
       "\n",
       "       [[0.748     ]],\n",
       "\n",
       "       [[       nan]],\n",
       "\n",
       "       [[0.53      ]],\n",
       "\n",
       "       [[0.36      ]]])</pre></div></li><li class='xr-var-item'><div class='xr-var-name'><span>night</span></div><div class='xr-var-dims'>(time, latitude, longitude)</div><div class='xr-var-dtype'>float64</div><div class='xr-var-preview xr-preview'>1.318 1.572 nan ... 0.8 nan 1.134</div><input id='attrs-88eedbd6-8cf6-4750-aa91-e0b2a155e4b7' class='xr-var-attrs-in' type='checkbox' ><label for='attrs-88eedbd6-8cf6-4750-aa91-e0b2a155e4b7' title='Show/Hide attributes'><svg class='icon xr-icon-file-text2'><use xlink:href='#icon-file-text2'></use></svg></label><input id='data-90e52b10-400f-46ed-b6a4-15e8c1867921' class='xr-var-data-in' type='checkbox'><label for='data-90e52b10-400f-46ed-b6a4-15e8c1867921' title='Show/Hide data repr'><svg class='icon xr-icon-database'><use xlink:href='#icon-database'></use></svg></label><div class='xr-var-attrs'><dl class='xr-attrs'><dt><span>description :</span></dt><dd>Zooplankton carbon weight by cube meter of sea water at night</dd><dt><span>units :</span></dt><dd>mg/m3</dd></dl></div><div class='xr-var-data'><pre>array([[[1.318     ]],\n",
       "\n",
       "       [[1.572     ]],\n",
       "\n",
       "       [[       nan]],\n",
       "\n",
       "       [[       nan]],\n",
       "\n",
       "       [[1.288     ]],\n",
       "\n",
       "       [[0.98      ]],\n",
       "\n",
       "       [[2.002     ]],\n",
       "\n",
       "       [[2.07      ]],\n",
       "\n",
       "       [[       nan]],\n",
       "\n",
       "       [[0.904     ]],\n",
       "\n",
       "...\n",
       "\n",
       "       [[       nan]],\n",
       "\n",
       "       [[       nan]],\n",
       "\n",
       "       [[       nan]],\n",
       "\n",
       "       [[1.688     ]],\n",
       "\n",
       "       [[       nan]],\n",
       "\n",
       "       [[1.11      ]],\n",
       "\n",
       "       [[1.198     ]],\n",
       "\n",
       "       [[0.8       ]],\n",
       "\n",
       "       [[       nan]],\n",
       "\n",
       "       [[1.134     ]]])</pre></div></li></ul></div></li><li class='xr-section-item'><input id='section-ecddca1f-c22e-478c-947c-237ad57649b9' class='xr-section-summary-in' type='checkbox'  ><label for='section-ecddca1f-c22e-478c-947c-237ad57649b9' class='xr-section-summary' >Indexes: <span>(3)</span></label><div class='xr-section-inline-details'></div><div class='xr-section-details'><ul class='xr-var-list'><li class='xr-var-item'><div class='xr-index-name'><div>latitude</div></div><div class='xr-index-preview'>PandasIndex</div><input type='checkbox' disabled/><label></label><input id='index-ec733f76-a6e1-400c-8053-24285eafed7d' class='xr-index-data-in' type='checkbox'/><label for='index-ec733f76-a6e1-400c-8053-24285eafed7d' title='Show/Hide index repr'><svg class='icon xr-icon-database'><use xlink:href='#icon-database'></use></svg></label><div class='xr-index-data'><pre>PandasIndex(Index([31.6], dtype=&#x27;float64&#x27;, name=&#x27;latitude&#x27;))</pre></div></li><li class='xr-var-item'><div class='xr-index-name'><div>longitude</div></div><div class='xr-index-preview'>PandasIndex</div><input type='checkbox' disabled/><label></label><input id='index-658ed262-b282-4212-8561-146a370e1250' class='xr-index-data-in' type='checkbox'/><label for='index-658ed262-b282-4212-8561-146a370e1250' title='Show/Hide index repr'><svg class='icon xr-icon-database'><use xlink:href='#icon-database'></use></svg></label><div class='xr-index-data'><pre>PandasIndex(Index([-64.2], dtype=&#x27;float64&#x27;, name=&#x27;longitude&#x27;))</pre></div></li><li class='xr-var-item'><div class='xr-index-name'><div>time</div></div><div class='xr-index-preview'>PandasIndex</div><input type='checkbox' disabled/><label></label><input id='index-d696eff4-13c6-48cb-9b91-d69717bc925a' class='xr-index-data-in' type='checkbox'/><label for='index-d696eff4-13c6-48cb-9b91-d69717bc925a' title='Show/Hide index repr'><svg class='icon xr-icon-database'><use xlink:href='#icon-database'></use></svg></label><div class='xr-index-data'><pre>PandasIndex(DatetimeIndex([&#x27;2002-01-22&#x27;, &#x27;2002-02-12&#x27;, &#x27;2002-02-13&#x27;, &#x27;2002-02-27&#x27;,\n",
       "               &#x27;2002-02-28&#x27;, &#x27;2002-03-07&#x27;, &#x27;2002-03-19&#x27;, &#x27;2002-04-03&#x27;,\n",
       "               &#x27;2002-04-04&#x27;, &#x27;2002-04-15&#x27;,\n",
       "               ...\n",
       "               &#x27;2014-06-12&#x27;, &#x27;2014-07-09&#x27;, &#x27;2014-07-10&#x27;, &#x27;2014-08-19&#x27;,\n",
       "               &#x27;2014-08-20&#x27;, &#x27;2014-09-13&#x27;, &#x27;2014-10-28&#x27;, &#x27;2014-11-19&#x27;,\n",
       "               &#x27;2014-11-20&#x27;, &#x27;2014-12-11&#x27;],\n",
       "              dtype=&#x27;datetime64[ns]&#x27;, name=&#x27;time&#x27;, length=254, freq=None))</pre></div></li></ul></div></li><li class='xr-section-item'><input id='section-08b913a7-a0db-469e-8db5-2d9dbace148c' class='xr-section-summary-in' type='checkbox'  checked><label for='section-08b913a7-a0db-469e-8db5-2d9dbace148c' class='xr-section-summary' >Attributes: <span>(3)</span></label><div class='xr-section-inline-details'></div><div class='xr-section-details'><dl class='xr-attrs'><dt><span>creation date :</span></dt><dd>2025-03-31T16:35:10.270720</dd><dt><span>layer :</span></dt><dd>epipelagic</dd><dt><span>station :</span></dt><dd>Bats</dd></dl></div></li></ul></div></div>"
      ],
      "text/plain": [
       "<xarray.Dataset> Size: 6kB\n",
       "Dimensions:    (time: 254, latitude: 1, longitude: 1)\n",
       "Coordinates:\n",
       "  * latitude   (latitude) float64 8B 31.6\n",
       "  * longitude  (longitude) float64 8B -64.2\n",
       "  * time       (time) datetime64[ns] 2kB 2002-01-22 2002-02-12 ... 2014-12-11\n",
       "Data variables:\n",
       "    day        (time, latitude, longitude) float64 2kB 0.524 nan ... 0.53 0.36\n",
       "    night      (time, latitude, longitude) float64 2kB 1.318 1.572 ... nan 1.134\n",
       "Attributes:\n",
       "    creation date:  2025-03-31T16:35:10.270720\n",
       "    layer:          epipelagic\n",
       "    station:        Bats"
      ]
     },
     "execution_count": 12,
     "metadata": {},
     "output_type": "execute_result"
    }
   ],
   "source": [
    "data = data.sel(time=slice(time_start, time_end))\n",
    "data"
   ]
  },
  {
   "cell_type": "markdown",
   "metadata": {},
   "source": [
    "## Number of samples\n"
   ]
  },
  {
   "cell_type": "markdown",
   "metadata": {},
   "source": [
    "### Total\n"
   ]
  },
  {
   "cell_type": "code",
   "execution_count": 13,
   "metadata": {},
   "outputs": [],
   "source": [
    "counts_month = data.groupby(data[\"time\"].dt.month).count().sum(dim=[\"latitude\", \"longitude\"]).to_dataframe()\n",
    "counts_year = (\n",
    "    data.groupby(data[\"time\"].dt.year)\n",
    "    .count()\n",
    "    # .isel(latitude=0, longitude=0, layer=0)\n",
    "    .sum(dim=[\"latitude\", \"longitude\"])\n",
    "    .to_dataframe()\n",
    ")"
   ]
  },
  {
   "cell_type": "code",
   "execution_count": 14,
   "metadata": {},
   "outputs": [
    {
     "data": {
      "application/vnd.plotly.v1+json": {
       "config": {
        "plotlyServerURL": "https://plot.ly"
       },
       "data": [
        {
         "alignmentgroup": "True",
         "hovertemplate": "variable=day<br>month=%{x}<br>Counts=%{y}<extra></extra>",
         "legendgroup": "day",
         "marker": {
          "color": "#636EFA",
          "pattern": {
           "shape": ""
          }
         },
         "name": "day",
         "offsetgroup": "day",
         "orientation": "v",
         "showlegend": true,
         "textposition": "auto",
         "type": "bar",
         "x": [
          1,
          2,
          3,
          4,
          5,
          6,
          7,
          8,
          9,
          10,
          11,
          12
         ],
         "xaxis": "x",
         "y": [
          7,
          18,
          16,
          20,
          11,
          10,
          13,
          11,
          11,
          11,
          13,
          11
         ],
         "yaxis": "y"
        },
        {
         "alignmentgroup": "True",
         "hovertemplate": "variable=night<br>month=%{x}<br>Counts=%{y}<extra></extra>",
         "legendgroup": "night",
         "marker": {
          "color": "#EF553B",
          "pattern": {
           "shape": ""
          }
         },
         "name": "night",
         "offsetgroup": "night",
         "orientation": "v",
         "showlegend": true,
         "textposition": "auto",
         "type": "bar",
         "x": [
          1,
          2,
          3,
          4,
          5,
          6,
          7,
          8,
          9,
          10,
          11,
          12
         ],
         "xaxis": "x",
         "y": [
          11,
          17,
          22,
          19,
          8,
          13,
          13,
          12,
          11,
          11,
          11,
          12
         ],
         "yaxis": "y"
        }
       ],
       "layout": {
        "barmode": "group",
        "height": 600,
        "legend": {
         "title": {
          "text": "variable"
         },
         "tracegroupgap": 0
        },
        "template": {
         "data": {
          "bar": [
           {
            "error_x": {
             "color": "#2a3f5f"
            },
            "error_y": {
             "color": "#2a3f5f"
            },
            "marker": {
             "line": {
              "color": "#E5ECF6",
              "width": 0.5
             },
             "pattern": {
              "fillmode": "overlay",
              "size": 10,
              "solidity": 0.2
             }
            },
            "type": "bar"
           }
          ],
          "barpolar": [
           {
            "marker": {
             "line": {
              "color": "#E5ECF6",
              "width": 0.5
             },
             "pattern": {
              "fillmode": "overlay",
              "size": 10,
              "solidity": 0.2
             }
            },
            "type": "barpolar"
           }
          ],
          "carpet": [
           {
            "aaxis": {
             "endlinecolor": "#2a3f5f",
             "gridcolor": "white",
             "linecolor": "white",
             "minorgridcolor": "white",
             "startlinecolor": "#2a3f5f"
            },
            "baxis": {
             "endlinecolor": "#2a3f5f",
             "gridcolor": "white",
             "linecolor": "white",
             "minorgridcolor": "white",
             "startlinecolor": "#2a3f5f"
            },
            "type": "carpet"
           }
          ],
          "choropleth": [
           {
            "colorbar": {
             "outlinewidth": 0,
             "ticks": ""
            },
            "type": "choropleth"
           }
          ],
          "contour": [
           {
            "colorbar": {
             "outlinewidth": 0,
             "ticks": ""
            },
            "colorscale": [
             [
              0,
              "#0d0887"
             ],
             [
              0.1111111111111111,
              "#46039f"
             ],
             [
              0.2222222222222222,
              "#7201a8"
             ],
             [
              0.3333333333333333,
              "#9c179e"
             ],
             [
              0.4444444444444444,
              "#bd3786"
             ],
             [
              0.5555555555555556,
              "#d8576b"
             ],
             [
              0.6666666666666666,
              "#ed7953"
             ],
             [
              0.7777777777777778,
              "#fb9f3a"
             ],
             [
              0.8888888888888888,
              "#fdca26"
             ],
             [
              1,
              "#f0f921"
             ]
            ],
            "type": "contour"
           }
          ],
          "contourcarpet": [
           {
            "colorbar": {
             "outlinewidth": 0,
             "ticks": ""
            },
            "type": "contourcarpet"
           }
          ],
          "heatmap": [
           {
            "colorbar": {
             "outlinewidth": 0,
             "ticks": ""
            },
            "colorscale": [
             [
              0,
              "#0d0887"
             ],
             [
              0.1111111111111111,
              "#46039f"
             ],
             [
              0.2222222222222222,
              "#7201a8"
             ],
             [
              0.3333333333333333,
              "#9c179e"
             ],
             [
              0.4444444444444444,
              "#bd3786"
             ],
             [
              0.5555555555555556,
              "#d8576b"
             ],
             [
              0.6666666666666666,
              "#ed7953"
             ],
             [
              0.7777777777777778,
              "#fb9f3a"
             ],
             [
              0.8888888888888888,
              "#fdca26"
             ],
             [
              1,
              "#f0f921"
             ]
            ],
            "type": "heatmap"
           }
          ],
          "heatmapgl": [
           {
            "colorbar": {
             "outlinewidth": 0,
             "ticks": ""
            },
            "colorscale": [
             [
              0,
              "#0d0887"
             ],
             [
              0.1111111111111111,
              "#46039f"
             ],
             [
              0.2222222222222222,
              "#7201a8"
             ],
             [
              0.3333333333333333,
              "#9c179e"
             ],
             [
              0.4444444444444444,
              "#bd3786"
             ],
             [
              0.5555555555555556,
              "#d8576b"
             ],
             [
              0.6666666666666666,
              "#ed7953"
             ],
             [
              0.7777777777777778,
              "#fb9f3a"
             ],
             [
              0.8888888888888888,
              "#fdca26"
             ],
             [
              1,
              "#f0f921"
             ]
            ],
            "type": "heatmapgl"
           }
          ],
          "histogram": [
           {
            "marker": {
             "pattern": {
              "fillmode": "overlay",
              "size": 10,
              "solidity": 0.2
             }
            },
            "type": "histogram"
           }
          ],
          "histogram2d": [
           {
            "colorbar": {
             "outlinewidth": 0,
             "ticks": ""
            },
            "colorscale": [
             [
              0,
              "#0d0887"
             ],
             [
              0.1111111111111111,
              "#46039f"
             ],
             [
              0.2222222222222222,
              "#7201a8"
             ],
             [
              0.3333333333333333,
              "#9c179e"
             ],
             [
              0.4444444444444444,
              "#bd3786"
             ],
             [
              0.5555555555555556,
              "#d8576b"
             ],
             [
              0.6666666666666666,
              "#ed7953"
             ],
             [
              0.7777777777777778,
              "#fb9f3a"
             ],
             [
              0.8888888888888888,
              "#fdca26"
             ],
             [
              1,
              "#f0f921"
             ]
            ],
            "type": "histogram2d"
           }
          ],
          "histogram2dcontour": [
           {
            "colorbar": {
             "outlinewidth": 0,
             "ticks": ""
            },
            "colorscale": [
             [
              0,
              "#0d0887"
             ],
             [
              0.1111111111111111,
              "#46039f"
             ],
             [
              0.2222222222222222,
              "#7201a8"
             ],
             [
              0.3333333333333333,
              "#9c179e"
             ],
             [
              0.4444444444444444,
              "#bd3786"
             ],
             [
              0.5555555555555556,
              "#d8576b"
             ],
             [
              0.6666666666666666,
              "#ed7953"
             ],
             [
              0.7777777777777778,
              "#fb9f3a"
             ],
             [
              0.8888888888888888,
              "#fdca26"
             ],
             [
              1,
              "#f0f921"
             ]
            ],
            "type": "histogram2dcontour"
           }
          ],
          "mesh3d": [
           {
            "colorbar": {
             "outlinewidth": 0,
             "ticks": ""
            },
            "type": "mesh3d"
           }
          ],
          "parcoords": [
           {
            "line": {
             "colorbar": {
              "outlinewidth": 0,
              "ticks": ""
             }
            },
            "type": "parcoords"
           }
          ],
          "pie": [
           {
            "automargin": true,
            "type": "pie"
           }
          ],
          "scatter": [
           {
            "fillpattern": {
             "fillmode": "overlay",
             "size": 10,
             "solidity": 0.2
            },
            "type": "scatter"
           }
          ],
          "scatter3d": [
           {
            "line": {
             "colorbar": {
              "outlinewidth": 0,
              "ticks": ""
             }
            },
            "marker": {
             "colorbar": {
              "outlinewidth": 0,
              "ticks": ""
             }
            },
            "type": "scatter3d"
           }
          ],
          "scattercarpet": [
           {
            "marker": {
             "colorbar": {
              "outlinewidth": 0,
              "ticks": ""
             }
            },
            "type": "scattercarpet"
           }
          ],
          "scattergeo": [
           {
            "marker": {
             "colorbar": {
              "outlinewidth": 0,
              "ticks": ""
             }
            },
            "type": "scattergeo"
           }
          ],
          "scattergl": [
           {
            "marker": {
             "colorbar": {
              "outlinewidth": 0,
              "ticks": ""
             }
            },
            "type": "scattergl"
           }
          ],
          "scattermapbox": [
           {
            "marker": {
             "colorbar": {
              "outlinewidth": 0,
              "ticks": ""
             }
            },
            "type": "scattermapbox"
           }
          ],
          "scatterpolar": [
           {
            "marker": {
             "colorbar": {
              "outlinewidth": 0,
              "ticks": ""
             }
            },
            "type": "scatterpolar"
           }
          ],
          "scatterpolargl": [
           {
            "marker": {
             "colorbar": {
              "outlinewidth": 0,
              "ticks": ""
             }
            },
            "type": "scatterpolargl"
           }
          ],
          "scatterternary": [
           {
            "marker": {
             "colorbar": {
              "outlinewidth": 0,
              "ticks": ""
             }
            },
            "type": "scatterternary"
           }
          ],
          "surface": [
           {
            "colorbar": {
             "outlinewidth": 0,
             "ticks": ""
            },
            "colorscale": [
             [
              0,
              "#0d0887"
             ],
             [
              0.1111111111111111,
              "#46039f"
             ],
             [
              0.2222222222222222,
              "#7201a8"
             ],
             [
              0.3333333333333333,
              "#9c179e"
             ],
             [
              0.4444444444444444,
              "#bd3786"
             ],
             [
              0.5555555555555556,
              "#d8576b"
             ],
             [
              0.6666666666666666,
              "#ed7953"
             ],
             [
              0.7777777777777778,
              "#fb9f3a"
             ],
             [
              0.8888888888888888,
              "#fdca26"
             ],
             [
              1,
              "#f0f921"
             ]
            ],
            "type": "surface"
           }
          ],
          "table": [
           {
            "cells": {
             "fill": {
              "color": "#EBF0F8"
             },
             "line": {
              "color": "white"
             }
            },
            "header": {
             "fill": {
              "color": "#C8D4E3"
             },
             "line": {
              "color": "white"
             }
            },
            "type": "table"
           }
          ]
         },
         "layout": {
          "annotationdefaults": {
           "arrowcolor": "#2a3f5f",
           "arrowhead": 0,
           "arrowwidth": 1
          },
          "autotypenumbers": "strict",
          "coloraxis": {
           "colorbar": {
            "outlinewidth": 0,
            "ticks": ""
           }
          },
          "colorscale": {
           "diverging": [
            [
             0,
             "#8e0152"
            ],
            [
             0.1,
             "#c51b7d"
            ],
            [
             0.2,
             "#de77ae"
            ],
            [
             0.3,
             "#f1b6da"
            ],
            [
             0.4,
             "#fde0ef"
            ],
            [
             0.5,
             "#f7f7f7"
            ],
            [
             0.6,
             "#e6f5d0"
            ],
            [
             0.7,
             "#b8e186"
            ],
            [
             0.8,
             "#7fbc41"
            ],
            [
             0.9,
             "#4d9221"
            ],
            [
             1,
             "#276419"
            ]
           ],
           "sequential": [
            [
             0,
             "#0d0887"
            ],
            [
             0.1111111111111111,
             "#46039f"
            ],
            [
             0.2222222222222222,
             "#7201a8"
            ],
            [
             0.3333333333333333,
             "#9c179e"
            ],
            [
             0.4444444444444444,
             "#bd3786"
            ],
            [
             0.5555555555555556,
             "#d8576b"
            ],
            [
             0.6666666666666666,
             "#ed7953"
            ],
            [
             0.7777777777777778,
             "#fb9f3a"
            ],
            [
             0.8888888888888888,
             "#fdca26"
            ],
            [
             1,
             "#f0f921"
            ]
           ],
           "sequentialminus": [
            [
             0,
             "#0d0887"
            ],
            [
             0.1111111111111111,
             "#46039f"
            ],
            [
             0.2222222222222222,
             "#7201a8"
            ],
            [
             0.3333333333333333,
             "#9c179e"
            ],
            [
             0.4444444444444444,
             "#bd3786"
            ],
            [
             0.5555555555555556,
             "#d8576b"
            ],
            [
             0.6666666666666666,
             "#ed7953"
            ],
            [
             0.7777777777777778,
             "#fb9f3a"
            ],
            [
             0.8888888888888888,
             "#fdca26"
            ],
            [
             1,
             "#f0f921"
            ]
           ]
          },
          "colorway": [
           "#636efa",
           "#EF553B",
           "#00cc96",
           "#ab63fa",
           "#FFA15A",
           "#19d3f3",
           "#FF6692",
           "#B6E880",
           "#FF97FF",
           "#FECB52"
          ],
          "font": {
           "color": "#2a3f5f"
          },
          "geo": {
           "bgcolor": "white",
           "lakecolor": "white",
           "landcolor": "#E5ECF6",
           "showlakes": true,
           "showland": true,
           "subunitcolor": "white"
          },
          "hoverlabel": {
           "align": "left"
          },
          "hovermode": "closest",
          "mapbox": {
           "style": "light"
          },
          "paper_bgcolor": "white",
          "plot_bgcolor": "#E5ECF6",
          "polar": {
           "angularaxis": {
            "gridcolor": "white",
            "linecolor": "white",
            "ticks": ""
           },
           "bgcolor": "#E5ECF6",
           "radialaxis": {
            "gridcolor": "white",
            "linecolor": "white",
            "ticks": ""
           }
          },
          "scene": {
           "xaxis": {
            "backgroundcolor": "#E5ECF6",
            "gridcolor": "white",
            "gridwidth": 2,
            "linecolor": "white",
            "showbackground": true,
            "ticks": "",
            "zerolinecolor": "white"
           },
           "yaxis": {
            "backgroundcolor": "#E5ECF6",
            "gridcolor": "white",
            "gridwidth": 2,
            "linecolor": "white",
            "showbackground": true,
            "ticks": "",
            "zerolinecolor": "white"
           },
           "zaxis": {
            "backgroundcolor": "#E5ECF6",
            "gridcolor": "white",
            "gridwidth": 2,
            "linecolor": "white",
            "showbackground": true,
            "ticks": "",
            "zerolinecolor": "white"
           }
          },
          "shapedefaults": {
           "line": {
            "color": "#2a3f5f"
           }
          },
          "ternary": {
           "aaxis": {
            "gridcolor": "white",
            "linecolor": "white",
            "ticks": ""
           },
           "baxis": {
            "gridcolor": "white",
            "linecolor": "white",
            "ticks": ""
           },
           "bgcolor": "#E5ECF6",
           "caxis": {
            "gridcolor": "white",
            "linecolor": "white",
            "ticks": ""
           }
          },
          "title": {
           "x": 0.05
          },
          "xaxis": {
           "automargin": true,
           "gridcolor": "white",
           "linecolor": "white",
           "ticks": "",
           "title": {
            "standoff": 15
           },
           "zerolinecolor": "white",
           "zerolinewidth": 2
          },
          "yaxis": {
           "automargin": true,
           "gridcolor": "white",
           "linecolor": "white",
           "ticks": "",
           "title": {
            "standoff": 15
           },
           "zerolinecolor": "white",
           "zerolinewidth": 2
          }
         }
        },
        "title": {
         "text": "Counts of Bats data per month"
        },
        "xaxis": {
         "anchor": "y",
         "domain": [
          0,
          1
         ],
         "ticktext": [
          "Jan",
          "Feb",
          "Mar",
          "Apr",
          "May",
          "Jun",
          "Jul",
          "Aug",
          "Sep",
          "Oct",
          "Nov",
          "Dec"
         ],
         "tickvals": [
          1,
          2,
          3,
          4,
          5,
          6,
          7,
          8,
          9,
          10,
          11,
          12
         ],
         "title": {
          "text": "Month"
         }
        },
        "yaxis": {
         "anchor": "x",
         "domain": [
          0,
          1
         ],
         "title": {
          "text": "Counts"
         }
        }
       }
      }
     },
     "metadata": {},
     "output_type": "display_data"
    }
   ],
   "source": [
    "px.bar(\n",
    "    counts_month,\n",
    "    x=counts_month.index,\n",
    "    y=counts_month.columns,\n",
    "    # side by side\n",
    "    barmode=\"group\",\n",
    "    title=f\"Counts of {station} data per month\",\n",
    "    labels={\"value\": \"Counts\"},\n",
    "    color_discrete_sequence=px.colors.qualitative.Plotly,\n",
    ").update_layout(height=600).update_xaxes(\n",
    "    title_text=\"Month\",\n",
    "    tickvals=np.arange(1, 13),\n",
    "    ticktext=[\"Jan\", \"Feb\", \"Mar\", \"Apr\", \"May\", \"Jun\", \"Jul\", \"Aug\", \"Sep\", \"Oct\", \"Nov\", \"Dec\"],\n",
    ").show()"
   ]
  },
  {
   "cell_type": "code",
   "execution_count": 15,
   "metadata": {},
   "outputs": [
    {
     "data": {
      "application/vnd.plotly.v1+json": {
       "config": {
        "plotlyServerURL": "https://plot.ly"
       },
       "data": [
        {
         "alignmentgroup": "True",
         "hovertemplate": "variable=day<br>year=%{x}<br>Counts=%{y}<extra></extra>",
         "legendgroup": "day",
         "marker": {
          "color": "#636EFA",
          "pattern": {
           "shape": ""
          }
         },
         "name": "day",
         "offsetgroup": "day",
         "orientation": "v",
         "showlegend": true,
         "textposition": "auto",
         "type": "bar",
         "x": [
          2002,
          2003,
          2004,
          2005,
          2006,
          2007,
          2008,
          2009,
          2010,
          2011,
          2012,
          2013,
          2014
         ],
         "xaxis": "x",
         "y": [
          14,
          14,
          11,
          14,
          8,
          12,
          11,
          11,
          11,
          10,
          12,
          14,
          10
         ],
         "yaxis": "y"
        },
        {
         "alignmentgroup": "True",
         "hovertemplate": "variable=night<br>year=%{x}<br>Counts=%{y}<extra></extra>",
         "legendgroup": "night",
         "marker": {
          "color": "#EF553B",
          "pattern": {
           "shape": ""
          }
         },
         "name": "night",
         "offsetgroup": "night",
         "orientation": "v",
         "showlegend": true,
         "textposition": "auto",
         "type": "bar",
         "x": [
          2002,
          2003,
          2004,
          2005,
          2006,
          2007,
          2008,
          2009,
          2010,
          2011,
          2012,
          2013,
          2014
         ],
         "xaxis": "x",
         "y": [
          16,
          13,
          11,
          13,
          13,
          15,
          11,
          10,
          11,
          9,
          14,
          16,
          8
         ],
         "yaxis": "y"
        }
       ],
       "layout": {
        "barmode": "group",
        "height": 600,
        "legend": {
         "title": {
          "text": "variable"
         },
         "tracegroupgap": 0
        },
        "template": {
         "data": {
          "bar": [
           {
            "error_x": {
             "color": "#2a3f5f"
            },
            "error_y": {
             "color": "#2a3f5f"
            },
            "marker": {
             "line": {
              "color": "#E5ECF6",
              "width": 0.5
             },
             "pattern": {
              "fillmode": "overlay",
              "size": 10,
              "solidity": 0.2
             }
            },
            "type": "bar"
           }
          ],
          "barpolar": [
           {
            "marker": {
             "line": {
              "color": "#E5ECF6",
              "width": 0.5
             },
             "pattern": {
              "fillmode": "overlay",
              "size": 10,
              "solidity": 0.2
             }
            },
            "type": "barpolar"
           }
          ],
          "carpet": [
           {
            "aaxis": {
             "endlinecolor": "#2a3f5f",
             "gridcolor": "white",
             "linecolor": "white",
             "minorgridcolor": "white",
             "startlinecolor": "#2a3f5f"
            },
            "baxis": {
             "endlinecolor": "#2a3f5f",
             "gridcolor": "white",
             "linecolor": "white",
             "minorgridcolor": "white",
             "startlinecolor": "#2a3f5f"
            },
            "type": "carpet"
           }
          ],
          "choropleth": [
           {
            "colorbar": {
             "outlinewidth": 0,
             "ticks": ""
            },
            "type": "choropleth"
           }
          ],
          "contour": [
           {
            "colorbar": {
             "outlinewidth": 0,
             "ticks": ""
            },
            "colorscale": [
             [
              0,
              "#0d0887"
             ],
             [
              0.1111111111111111,
              "#46039f"
             ],
             [
              0.2222222222222222,
              "#7201a8"
             ],
             [
              0.3333333333333333,
              "#9c179e"
             ],
             [
              0.4444444444444444,
              "#bd3786"
             ],
             [
              0.5555555555555556,
              "#d8576b"
             ],
             [
              0.6666666666666666,
              "#ed7953"
             ],
             [
              0.7777777777777778,
              "#fb9f3a"
             ],
             [
              0.8888888888888888,
              "#fdca26"
             ],
             [
              1,
              "#f0f921"
             ]
            ],
            "type": "contour"
           }
          ],
          "contourcarpet": [
           {
            "colorbar": {
             "outlinewidth": 0,
             "ticks": ""
            },
            "type": "contourcarpet"
           }
          ],
          "heatmap": [
           {
            "colorbar": {
             "outlinewidth": 0,
             "ticks": ""
            },
            "colorscale": [
             [
              0,
              "#0d0887"
             ],
             [
              0.1111111111111111,
              "#46039f"
             ],
             [
              0.2222222222222222,
              "#7201a8"
             ],
             [
              0.3333333333333333,
              "#9c179e"
             ],
             [
              0.4444444444444444,
              "#bd3786"
             ],
             [
              0.5555555555555556,
              "#d8576b"
             ],
             [
              0.6666666666666666,
              "#ed7953"
             ],
             [
              0.7777777777777778,
              "#fb9f3a"
             ],
             [
              0.8888888888888888,
              "#fdca26"
             ],
             [
              1,
              "#f0f921"
             ]
            ],
            "type": "heatmap"
           }
          ],
          "heatmapgl": [
           {
            "colorbar": {
             "outlinewidth": 0,
             "ticks": ""
            },
            "colorscale": [
             [
              0,
              "#0d0887"
             ],
             [
              0.1111111111111111,
              "#46039f"
             ],
             [
              0.2222222222222222,
              "#7201a8"
             ],
             [
              0.3333333333333333,
              "#9c179e"
             ],
             [
              0.4444444444444444,
              "#bd3786"
             ],
             [
              0.5555555555555556,
              "#d8576b"
             ],
             [
              0.6666666666666666,
              "#ed7953"
             ],
             [
              0.7777777777777778,
              "#fb9f3a"
             ],
             [
              0.8888888888888888,
              "#fdca26"
             ],
             [
              1,
              "#f0f921"
             ]
            ],
            "type": "heatmapgl"
           }
          ],
          "histogram": [
           {
            "marker": {
             "pattern": {
              "fillmode": "overlay",
              "size": 10,
              "solidity": 0.2
             }
            },
            "type": "histogram"
           }
          ],
          "histogram2d": [
           {
            "colorbar": {
             "outlinewidth": 0,
             "ticks": ""
            },
            "colorscale": [
             [
              0,
              "#0d0887"
             ],
             [
              0.1111111111111111,
              "#46039f"
             ],
             [
              0.2222222222222222,
              "#7201a8"
             ],
             [
              0.3333333333333333,
              "#9c179e"
             ],
             [
              0.4444444444444444,
              "#bd3786"
             ],
             [
              0.5555555555555556,
              "#d8576b"
             ],
             [
              0.6666666666666666,
              "#ed7953"
             ],
             [
              0.7777777777777778,
              "#fb9f3a"
             ],
             [
              0.8888888888888888,
              "#fdca26"
             ],
             [
              1,
              "#f0f921"
             ]
            ],
            "type": "histogram2d"
           }
          ],
          "histogram2dcontour": [
           {
            "colorbar": {
             "outlinewidth": 0,
             "ticks": ""
            },
            "colorscale": [
             [
              0,
              "#0d0887"
             ],
             [
              0.1111111111111111,
              "#46039f"
             ],
             [
              0.2222222222222222,
              "#7201a8"
             ],
             [
              0.3333333333333333,
              "#9c179e"
             ],
             [
              0.4444444444444444,
              "#bd3786"
             ],
             [
              0.5555555555555556,
              "#d8576b"
             ],
             [
              0.6666666666666666,
              "#ed7953"
             ],
             [
              0.7777777777777778,
              "#fb9f3a"
             ],
             [
              0.8888888888888888,
              "#fdca26"
             ],
             [
              1,
              "#f0f921"
             ]
            ],
            "type": "histogram2dcontour"
           }
          ],
          "mesh3d": [
           {
            "colorbar": {
             "outlinewidth": 0,
             "ticks": ""
            },
            "type": "mesh3d"
           }
          ],
          "parcoords": [
           {
            "line": {
             "colorbar": {
              "outlinewidth": 0,
              "ticks": ""
             }
            },
            "type": "parcoords"
           }
          ],
          "pie": [
           {
            "automargin": true,
            "type": "pie"
           }
          ],
          "scatter": [
           {
            "fillpattern": {
             "fillmode": "overlay",
             "size": 10,
             "solidity": 0.2
            },
            "type": "scatter"
           }
          ],
          "scatter3d": [
           {
            "line": {
             "colorbar": {
              "outlinewidth": 0,
              "ticks": ""
             }
            },
            "marker": {
             "colorbar": {
              "outlinewidth": 0,
              "ticks": ""
             }
            },
            "type": "scatter3d"
           }
          ],
          "scattercarpet": [
           {
            "marker": {
             "colorbar": {
              "outlinewidth": 0,
              "ticks": ""
             }
            },
            "type": "scattercarpet"
           }
          ],
          "scattergeo": [
           {
            "marker": {
             "colorbar": {
              "outlinewidth": 0,
              "ticks": ""
             }
            },
            "type": "scattergeo"
           }
          ],
          "scattergl": [
           {
            "marker": {
             "colorbar": {
              "outlinewidth": 0,
              "ticks": ""
             }
            },
            "type": "scattergl"
           }
          ],
          "scattermapbox": [
           {
            "marker": {
             "colorbar": {
              "outlinewidth": 0,
              "ticks": ""
             }
            },
            "type": "scattermapbox"
           }
          ],
          "scatterpolar": [
           {
            "marker": {
             "colorbar": {
              "outlinewidth": 0,
              "ticks": ""
             }
            },
            "type": "scatterpolar"
           }
          ],
          "scatterpolargl": [
           {
            "marker": {
             "colorbar": {
              "outlinewidth": 0,
              "ticks": ""
             }
            },
            "type": "scatterpolargl"
           }
          ],
          "scatterternary": [
           {
            "marker": {
             "colorbar": {
              "outlinewidth": 0,
              "ticks": ""
             }
            },
            "type": "scatterternary"
           }
          ],
          "surface": [
           {
            "colorbar": {
             "outlinewidth": 0,
             "ticks": ""
            },
            "colorscale": [
             [
              0,
              "#0d0887"
             ],
             [
              0.1111111111111111,
              "#46039f"
             ],
             [
              0.2222222222222222,
              "#7201a8"
             ],
             [
              0.3333333333333333,
              "#9c179e"
             ],
             [
              0.4444444444444444,
              "#bd3786"
             ],
             [
              0.5555555555555556,
              "#d8576b"
             ],
             [
              0.6666666666666666,
              "#ed7953"
             ],
             [
              0.7777777777777778,
              "#fb9f3a"
             ],
             [
              0.8888888888888888,
              "#fdca26"
             ],
             [
              1,
              "#f0f921"
             ]
            ],
            "type": "surface"
           }
          ],
          "table": [
           {
            "cells": {
             "fill": {
              "color": "#EBF0F8"
             },
             "line": {
              "color": "white"
             }
            },
            "header": {
             "fill": {
              "color": "#C8D4E3"
             },
             "line": {
              "color": "white"
             }
            },
            "type": "table"
           }
          ]
         },
         "layout": {
          "annotationdefaults": {
           "arrowcolor": "#2a3f5f",
           "arrowhead": 0,
           "arrowwidth": 1
          },
          "autotypenumbers": "strict",
          "coloraxis": {
           "colorbar": {
            "outlinewidth": 0,
            "ticks": ""
           }
          },
          "colorscale": {
           "diverging": [
            [
             0,
             "#8e0152"
            ],
            [
             0.1,
             "#c51b7d"
            ],
            [
             0.2,
             "#de77ae"
            ],
            [
             0.3,
             "#f1b6da"
            ],
            [
             0.4,
             "#fde0ef"
            ],
            [
             0.5,
             "#f7f7f7"
            ],
            [
             0.6,
             "#e6f5d0"
            ],
            [
             0.7,
             "#b8e186"
            ],
            [
             0.8,
             "#7fbc41"
            ],
            [
             0.9,
             "#4d9221"
            ],
            [
             1,
             "#276419"
            ]
           ],
           "sequential": [
            [
             0,
             "#0d0887"
            ],
            [
             0.1111111111111111,
             "#46039f"
            ],
            [
             0.2222222222222222,
             "#7201a8"
            ],
            [
             0.3333333333333333,
             "#9c179e"
            ],
            [
             0.4444444444444444,
             "#bd3786"
            ],
            [
             0.5555555555555556,
             "#d8576b"
            ],
            [
             0.6666666666666666,
             "#ed7953"
            ],
            [
             0.7777777777777778,
             "#fb9f3a"
            ],
            [
             0.8888888888888888,
             "#fdca26"
            ],
            [
             1,
             "#f0f921"
            ]
           ],
           "sequentialminus": [
            [
             0,
             "#0d0887"
            ],
            [
             0.1111111111111111,
             "#46039f"
            ],
            [
             0.2222222222222222,
             "#7201a8"
            ],
            [
             0.3333333333333333,
             "#9c179e"
            ],
            [
             0.4444444444444444,
             "#bd3786"
            ],
            [
             0.5555555555555556,
             "#d8576b"
            ],
            [
             0.6666666666666666,
             "#ed7953"
            ],
            [
             0.7777777777777778,
             "#fb9f3a"
            ],
            [
             0.8888888888888888,
             "#fdca26"
            ],
            [
             1,
             "#f0f921"
            ]
           ]
          },
          "colorway": [
           "#636efa",
           "#EF553B",
           "#00cc96",
           "#ab63fa",
           "#FFA15A",
           "#19d3f3",
           "#FF6692",
           "#B6E880",
           "#FF97FF",
           "#FECB52"
          ],
          "font": {
           "color": "#2a3f5f"
          },
          "geo": {
           "bgcolor": "white",
           "lakecolor": "white",
           "landcolor": "#E5ECF6",
           "showlakes": true,
           "showland": true,
           "subunitcolor": "white"
          },
          "hoverlabel": {
           "align": "left"
          },
          "hovermode": "closest",
          "mapbox": {
           "style": "light"
          },
          "paper_bgcolor": "white",
          "plot_bgcolor": "#E5ECF6",
          "polar": {
           "angularaxis": {
            "gridcolor": "white",
            "linecolor": "white",
            "ticks": ""
           },
           "bgcolor": "#E5ECF6",
           "radialaxis": {
            "gridcolor": "white",
            "linecolor": "white",
            "ticks": ""
           }
          },
          "scene": {
           "xaxis": {
            "backgroundcolor": "#E5ECF6",
            "gridcolor": "white",
            "gridwidth": 2,
            "linecolor": "white",
            "showbackground": true,
            "ticks": "",
            "zerolinecolor": "white"
           },
           "yaxis": {
            "backgroundcolor": "#E5ECF6",
            "gridcolor": "white",
            "gridwidth": 2,
            "linecolor": "white",
            "showbackground": true,
            "ticks": "",
            "zerolinecolor": "white"
           },
           "zaxis": {
            "backgroundcolor": "#E5ECF6",
            "gridcolor": "white",
            "gridwidth": 2,
            "linecolor": "white",
            "showbackground": true,
            "ticks": "",
            "zerolinecolor": "white"
           }
          },
          "shapedefaults": {
           "line": {
            "color": "#2a3f5f"
           }
          },
          "ternary": {
           "aaxis": {
            "gridcolor": "white",
            "linecolor": "white",
            "ticks": ""
           },
           "baxis": {
            "gridcolor": "white",
            "linecolor": "white",
            "ticks": ""
           },
           "bgcolor": "#E5ECF6",
           "caxis": {
            "gridcolor": "white",
            "linecolor": "white",
            "ticks": ""
           }
          },
          "title": {
           "x": 0.05
          },
          "xaxis": {
           "automargin": true,
           "gridcolor": "white",
           "linecolor": "white",
           "ticks": "",
           "title": {
            "standoff": 15
           },
           "zerolinecolor": "white",
           "zerolinewidth": 2
          },
          "yaxis": {
           "automargin": true,
           "gridcolor": "white",
           "linecolor": "white",
           "ticks": "",
           "title": {
            "standoff": 15
           },
           "zerolinecolor": "white",
           "zerolinewidth": 2
          }
         }
        },
        "title": {
         "text": "Counts of Bats data per year"
        },
        "xaxis": {
         "anchor": "y",
         "domain": [
          0,
          1
         ],
         "title": {
          "text": "Year"
         }
        },
        "yaxis": {
         "anchor": "x",
         "domain": [
          0,
          1
         ],
         "title": {
          "text": "Counts"
         }
        }
       }
      }
     },
     "metadata": {},
     "output_type": "display_data"
    }
   ],
   "source": [
    "px.bar(\n",
    "    counts_year,\n",
    "    x=counts_year.index,\n",
    "    y=counts_year.columns,\n",
    "    # side by side\n",
    "    barmode=\"group\",\n",
    "    title=f\"Counts of {station} data per year\",\n",
    "    labels={\"value\": \"Counts\"},\n",
    "    color_discrete_sequence=px.colors.qualitative.Plotly,\n",
    ").update_layout(xaxis_title=\"Year\", height=600).show()"
   ]
  },
  {
   "cell_type": "markdown",
   "metadata": {},
   "source": [
    "### By position\n"
   ]
  },
  {
   "cell_type": "code",
   "execution_count": 16,
   "metadata": {},
   "outputs": [],
   "source": [
    "counts_by_year_position = (\n",
    "    data.groupby(\"time.month\")\n",
    "    .count()\n",
    "    .to_dataframe()\n",
    "    .dropna(how=\"all\")\n",
    "    .query(\"day > 0 or night > 0\")\n",
    "    .stack()\n",
    "    .rename_axis(index={None: \"day_night\"})\n",
    "    .rename(\"counts\")\n",
    "    .reset_index()\n",
    ")\n",
    "average_nb_of_obs_by_year_and_position = (\n",
    "    counts_by_year_position.groupby([\"latitude\", \"longitude\"])[\"counts\"].sum() / NB_YEARS\n",
    ").reset_index()"
   ]
  },
  {
   "cell_type": "code",
   "execution_count": 17,
   "metadata": {},
   "outputs": [
    {
     "data": {
      "application/vnd.plotly.v1+json": {
       "config": {
        "plotlyServerURL": "https://plot.ly"
       },
       "data": [
        {
         "alignmentgroup": "True",
         "hovertemplate": "day_night=day<br>month=%{x}<br>counts=%{y}<extra></extra>",
         "legendgroup": "day",
         "marker": {
          "color": "#636efa",
          "pattern": {
           "shape": ""
          }
         },
         "name": "day",
         "offsetgroup": "day",
         "orientation": "v",
         "showlegend": true,
         "textposition": "auto",
         "type": "bar",
         "x": [
          1,
          2,
          3,
          4,
          5,
          6,
          7,
          8,
          9,
          10,
          11,
          12
         ],
         "xaxis": "x",
         "y": [
          7,
          18,
          16,
          20,
          11,
          10,
          13,
          11,
          11,
          11,
          13,
          11
         ],
         "yaxis": "y"
        },
        {
         "alignmentgroup": "True",
         "hovertemplate": "day_night=night<br>month=%{x}<br>counts=%{y}<extra></extra>",
         "legendgroup": "night",
         "marker": {
          "color": "#EF553B",
          "pattern": {
           "shape": ""
          }
         },
         "name": "night",
         "offsetgroup": "night",
         "orientation": "v",
         "showlegend": true,
         "textposition": "auto",
         "type": "bar",
         "x": [
          1,
          2,
          3,
          4,
          5,
          6,
          7,
          8,
          9,
          10,
          11,
          12
         ],
         "xaxis": "x",
         "y": [
          11,
          17,
          22,
          19,
          8,
          13,
          13,
          12,
          11,
          11,
          11,
          12
         ],
         "yaxis": "y"
        }
       ],
       "layout": {
        "barmode": "group",
        "height": 600,
        "legend": {
         "title": {
          "text": "day_night"
         },
         "tracegroupgap": 0
        },
        "margin": {
         "t": 60
        },
        "template": {
         "data": {
          "bar": [
           {
            "error_x": {
             "color": "#2a3f5f"
            },
            "error_y": {
             "color": "#2a3f5f"
            },
            "marker": {
             "line": {
              "color": "#E5ECF6",
              "width": 0.5
             },
             "pattern": {
              "fillmode": "overlay",
              "size": 10,
              "solidity": 0.2
             }
            },
            "type": "bar"
           }
          ],
          "barpolar": [
           {
            "marker": {
             "line": {
              "color": "#E5ECF6",
              "width": 0.5
             },
             "pattern": {
              "fillmode": "overlay",
              "size": 10,
              "solidity": 0.2
             }
            },
            "type": "barpolar"
           }
          ],
          "carpet": [
           {
            "aaxis": {
             "endlinecolor": "#2a3f5f",
             "gridcolor": "white",
             "linecolor": "white",
             "minorgridcolor": "white",
             "startlinecolor": "#2a3f5f"
            },
            "baxis": {
             "endlinecolor": "#2a3f5f",
             "gridcolor": "white",
             "linecolor": "white",
             "minorgridcolor": "white",
             "startlinecolor": "#2a3f5f"
            },
            "type": "carpet"
           }
          ],
          "choropleth": [
           {
            "colorbar": {
             "outlinewidth": 0,
             "ticks": ""
            },
            "type": "choropleth"
           }
          ],
          "contour": [
           {
            "colorbar": {
             "outlinewidth": 0,
             "ticks": ""
            },
            "colorscale": [
             [
              0,
              "#0d0887"
             ],
             [
              0.1111111111111111,
              "#46039f"
             ],
             [
              0.2222222222222222,
              "#7201a8"
             ],
             [
              0.3333333333333333,
              "#9c179e"
             ],
             [
              0.4444444444444444,
              "#bd3786"
             ],
             [
              0.5555555555555556,
              "#d8576b"
             ],
             [
              0.6666666666666666,
              "#ed7953"
             ],
             [
              0.7777777777777778,
              "#fb9f3a"
             ],
             [
              0.8888888888888888,
              "#fdca26"
             ],
             [
              1,
              "#f0f921"
             ]
            ],
            "type": "contour"
           }
          ],
          "contourcarpet": [
           {
            "colorbar": {
             "outlinewidth": 0,
             "ticks": ""
            },
            "type": "contourcarpet"
           }
          ],
          "heatmap": [
           {
            "colorbar": {
             "outlinewidth": 0,
             "ticks": ""
            },
            "colorscale": [
             [
              0,
              "#0d0887"
             ],
             [
              0.1111111111111111,
              "#46039f"
             ],
             [
              0.2222222222222222,
              "#7201a8"
             ],
             [
              0.3333333333333333,
              "#9c179e"
             ],
             [
              0.4444444444444444,
              "#bd3786"
             ],
             [
              0.5555555555555556,
              "#d8576b"
             ],
             [
              0.6666666666666666,
              "#ed7953"
             ],
             [
              0.7777777777777778,
              "#fb9f3a"
             ],
             [
              0.8888888888888888,
              "#fdca26"
             ],
             [
              1,
              "#f0f921"
             ]
            ],
            "type": "heatmap"
           }
          ],
          "heatmapgl": [
           {
            "colorbar": {
             "outlinewidth": 0,
             "ticks": ""
            },
            "colorscale": [
             [
              0,
              "#0d0887"
             ],
             [
              0.1111111111111111,
              "#46039f"
             ],
             [
              0.2222222222222222,
              "#7201a8"
             ],
             [
              0.3333333333333333,
              "#9c179e"
             ],
             [
              0.4444444444444444,
              "#bd3786"
             ],
             [
              0.5555555555555556,
              "#d8576b"
             ],
             [
              0.6666666666666666,
              "#ed7953"
             ],
             [
              0.7777777777777778,
              "#fb9f3a"
             ],
             [
              0.8888888888888888,
              "#fdca26"
             ],
             [
              1,
              "#f0f921"
             ]
            ],
            "type": "heatmapgl"
           }
          ],
          "histogram": [
           {
            "marker": {
             "pattern": {
              "fillmode": "overlay",
              "size": 10,
              "solidity": 0.2
             }
            },
            "type": "histogram"
           }
          ],
          "histogram2d": [
           {
            "colorbar": {
             "outlinewidth": 0,
             "ticks": ""
            },
            "colorscale": [
             [
              0,
              "#0d0887"
             ],
             [
              0.1111111111111111,
              "#46039f"
             ],
             [
              0.2222222222222222,
              "#7201a8"
             ],
             [
              0.3333333333333333,
              "#9c179e"
             ],
             [
              0.4444444444444444,
              "#bd3786"
             ],
             [
              0.5555555555555556,
              "#d8576b"
             ],
             [
              0.6666666666666666,
              "#ed7953"
             ],
             [
              0.7777777777777778,
              "#fb9f3a"
             ],
             [
              0.8888888888888888,
              "#fdca26"
             ],
             [
              1,
              "#f0f921"
             ]
            ],
            "type": "histogram2d"
           }
          ],
          "histogram2dcontour": [
           {
            "colorbar": {
             "outlinewidth": 0,
             "ticks": ""
            },
            "colorscale": [
             [
              0,
              "#0d0887"
             ],
             [
              0.1111111111111111,
              "#46039f"
             ],
             [
              0.2222222222222222,
              "#7201a8"
             ],
             [
              0.3333333333333333,
              "#9c179e"
             ],
             [
              0.4444444444444444,
              "#bd3786"
             ],
             [
              0.5555555555555556,
              "#d8576b"
             ],
             [
              0.6666666666666666,
              "#ed7953"
             ],
             [
              0.7777777777777778,
              "#fb9f3a"
             ],
             [
              0.8888888888888888,
              "#fdca26"
             ],
             [
              1,
              "#f0f921"
             ]
            ],
            "type": "histogram2dcontour"
           }
          ],
          "mesh3d": [
           {
            "colorbar": {
             "outlinewidth": 0,
             "ticks": ""
            },
            "type": "mesh3d"
           }
          ],
          "parcoords": [
           {
            "line": {
             "colorbar": {
              "outlinewidth": 0,
              "ticks": ""
             }
            },
            "type": "parcoords"
           }
          ],
          "pie": [
           {
            "automargin": true,
            "type": "pie"
           }
          ],
          "scatter": [
           {
            "fillpattern": {
             "fillmode": "overlay",
             "size": 10,
             "solidity": 0.2
            },
            "type": "scatter"
           }
          ],
          "scatter3d": [
           {
            "line": {
             "colorbar": {
              "outlinewidth": 0,
              "ticks": ""
             }
            },
            "marker": {
             "colorbar": {
              "outlinewidth": 0,
              "ticks": ""
             }
            },
            "type": "scatter3d"
           }
          ],
          "scattercarpet": [
           {
            "marker": {
             "colorbar": {
              "outlinewidth": 0,
              "ticks": ""
             }
            },
            "type": "scattercarpet"
           }
          ],
          "scattergeo": [
           {
            "marker": {
             "colorbar": {
              "outlinewidth": 0,
              "ticks": ""
             }
            },
            "type": "scattergeo"
           }
          ],
          "scattergl": [
           {
            "marker": {
             "colorbar": {
              "outlinewidth": 0,
              "ticks": ""
             }
            },
            "type": "scattergl"
           }
          ],
          "scattermapbox": [
           {
            "marker": {
             "colorbar": {
              "outlinewidth": 0,
              "ticks": ""
             }
            },
            "type": "scattermapbox"
           }
          ],
          "scatterpolar": [
           {
            "marker": {
             "colorbar": {
              "outlinewidth": 0,
              "ticks": ""
             }
            },
            "type": "scatterpolar"
           }
          ],
          "scatterpolargl": [
           {
            "marker": {
             "colorbar": {
              "outlinewidth": 0,
              "ticks": ""
             }
            },
            "type": "scatterpolargl"
           }
          ],
          "scatterternary": [
           {
            "marker": {
             "colorbar": {
              "outlinewidth": 0,
              "ticks": ""
             }
            },
            "type": "scatterternary"
           }
          ],
          "surface": [
           {
            "colorbar": {
             "outlinewidth": 0,
             "ticks": ""
            },
            "colorscale": [
             [
              0,
              "#0d0887"
             ],
             [
              0.1111111111111111,
              "#46039f"
             ],
             [
              0.2222222222222222,
              "#7201a8"
             ],
             [
              0.3333333333333333,
              "#9c179e"
             ],
             [
              0.4444444444444444,
              "#bd3786"
             ],
             [
              0.5555555555555556,
              "#d8576b"
             ],
             [
              0.6666666666666666,
              "#ed7953"
             ],
             [
              0.7777777777777778,
              "#fb9f3a"
             ],
             [
              0.8888888888888888,
              "#fdca26"
             ],
             [
              1,
              "#f0f921"
             ]
            ],
            "type": "surface"
           }
          ],
          "table": [
           {
            "cells": {
             "fill": {
              "color": "#EBF0F8"
             },
             "line": {
              "color": "white"
             }
            },
            "header": {
             "fill": {
              "color": "#C8D4E3"
             },
             "line": {
              "color": "white"
             }
            },
            "type": "table"
           }
          ]
         },
         "layout": {
          "annotationdefaults": {
           "arrowcolor": "#2a3f5f",
           "arrowhead": 0,
           "arrowwidth": 1
          },
          "autotypenumbers": "strict",
          "coloraxis": {
           "colorbar": {
            "outlinewidth": 0,
            "ticks": ""
           }
          },
          "colorscale": {
           "diverging": [
            [
             0,
             "#8e0152"
            ],
            [
             0.1,
             "#c51b7d"
            ],
            [
             0.2,
             "#de77ae"
            ],
            [
             0.3,
             "#f1b6da"
            ],
            [
             0.4,
             "#fde0ef"
            ],
            [
             0.5,
             "#f7f7f7"
            ],
            [
             0.6,
             "#e6f5d0"
            ],
            [
             0.7,
             "#b8e186"
            ],
            [
             0.8,
             "#7fbc41"
            ],
            [
             0.9,
             "#4d9221"
            ],
            [
             1,
             "#276419"
            ]
           ],
           "sequential": [
            [
             0,
             "#0d0887"
            ],
            [
             0.1111111111111111,
             "#46039f"
            ],
            [
             0.2222222222222222,
             "#7201a8"
            ],
            [
             0.3333333333333333,
             "#9c179e"
            ],
            [
             0.4444444444444444,
             "#bd3786"
            ],
            [
             0.5555555555555556,
             "#d8576b"
            ],
            [
             0.6666666666666666,
             "#ed7953"
            ],
            [
             0.7777777777777778,
             "#fb9f3a"
            ],
            [
             0.8888888888888888,
             "#fdca26"
            ],
            [
             1,
             "#f0f921"
            ]
           ],
           "sequentialminus": [
            [
             0,
             "#0d0887"
            ],
            [
             0.1111111111111111,
             "#46039f"
            ],
            [
             0.2222222222222222,
             "#7201a8"
            ],
            [
             0.3333333333333333,
             "#9c179e"
            ],
            [
             0.4444444444444444,
             "#bd3786"
            ],
            [
             0.5555555555555556,
             "#d8576b"
            ],
            [
             0.6666666666666666,
             "#ed7953"
            ],
            [
             0.7777777777777778,
             "#fb9f3a"
            ],
            [
             0.8888888888888888,
             "#fdca26"
            ],
            [
             1,
             "#f0f921"
            ]
           ]
          },
          "colorway": [
           "#636efa",
           "#EF553B",
           "#00cc96",
           "#ab63fa",
           "#FFA15A",
           "#19d3f3",
           "#FF6692",
           "#B6E880",
           "#FF97FF",
           "#FECB52"
          ],
          "font": {
           "color": "#2a3f5f"
          },
          "geo": {
           "bgcolor": "white",
           "lakecolor": "white",
           "landcolor": "#E5ECF6",
           "showlakes": true,
           "showland": true,
           "subunitcolor": "white"
          },
          "hoverlabel": {
           "align": "left"
          },
          "hovermode": "closest",
          "mapbox": {
           "style": "light"
          },
          "paper_bgcolor": "white",
          "plot_bgcolor": "#E5ECF6",
          "polar": {
           "angularaxis": {
            "gridcolor": "white",
            "linecolor": "white",
            "ticks": ""
           },
           "bgcolor": "#E5ECF6",
           "radialaxis": {
            "gridcolor": "white",
            "linecolor": "white",
            "ticks": ""
           }
          },
          "scene": {
           "xaxis": {
            "backgroundcolor": "#E5ECF6",
            "gridcolor": "white",
            "gridwidth": 2,
            "linecolor": "white",
            "showbackground": true,
            "ticks": "",
            "zerolinecolor": "white"
           },
           "yaxis": {
            "backgroundcolor": "#E5ECF6",
            "gridcolor": "white",
            "gridwidth": 2,
            "linecolor": "white",
            "showbackground": true,
            "ticks": "",
            "zerolinecolor": "white"
           },
           "zaxis": {
            "backgroundcolor": "#E5ECF6",
            "gridcolor": "white",
            "gridwidth": 2,
            "linecolor": "white",
            "showbackground": true,
            "ticks": "",
            "zerolinecolor": "white"
           }
          },
          "shapedefaults": {
           "line": {
            "color": "#2a3f5f"
           }
          },
          "ternary": {
           "aaxis": {
            "gridcolor": "white",
            "linecolor": "white",
            "ticks": ""
           },
           "baxis": {
            "gridcolor": "white",
            "linecolor": "white",
            "ticks": ""
           },
           "bgcolor": "#E5ECF6",
           "caxis": {
            "gridcolor": "white",
            "linecolor": "white",
            "ticks": ""
           }
          },
          "title": {
           "x": 0.05
          },
          "xaxis": {
           "automargin": true,
           "gridcolor": "white",
           "linecolor": "white",
           "ticks": "",
           "title": {
            "standoff": 15
           },
           "zerolinecolor": "white",
           "zerolinewidth": 2
          },
          "yaxis": {
           "automargin": true,
           "gridcolor": "white",
           "linecolor": "white",
           "ticks": "",
           "title": {
            "standoff": 15
           },
           "zerolinecolor": "white",
           "zerolinewidth": 2
          }
         }
        },
        "title": {
         "text": "Counts of Bats day and night data by month and location"
        },
        "xaxis": {
         "anchor": "y",
         "domain": [
          0,
          1
         ],
         "ticktext": [
          "Jan",
          "Feb",
          "Mar",
          "Apr",
          "May",
          "Jun",
          "Jul",
          "Aug",
          "Sep",
          "Oct",
          "Nov",
          "Dec"
         ],
         "tickvals": [
          1,
          2,
          3,
          4,
          5,
          6,
          7,
          8,
          9,
          10,
          11,
          12
         ],
         "title": {
          "text": "Month"
         }
        },
        "yaxis": {
         "anchor": "x",
         "domain": [
          0,
          1
         ],
         "title": {
          "text": "counts"
         }
        }
       }
      }
     },
     "metadata": {},
     "output_type": "display_data"
    }
   ],
   "source": [
    "px.bar(\n",
    "    counts_by_year_position,\n",
    "    x=\"month\",\n",
    "    y=\"counts\",\n",
    "    color=\"day_night\",\n",
    "    barmode=\"group\",\n",
    ").update_layout(\n",
    "    height=600,\n",
    "    title=f\"Counts of {station} day and night data by month and location\",\n",
    ").update_xaxes(\n",
    "    title_text=\"Month\",\n",
    "    tickvals=np.arange(1, 13),\n",
    "    ticktext=[\"Jan\", \"Feb\", \"Mar\", \"Apr\", \"May\", \"Jun\", \"Jul\", \"Aug\", \"Sep\", \"Oct\", \"Nov\", \"Dec\"],\n",
    ").show()"
   ]
  },
  {
   "cell_type": "code",
   "execution_count": 18,
   "metadata": {},
   "outputs": [
    {
     "data": {
      "text/html": [
       "<div>\n",
       "<style scoped>\n",
       "    .dataframe tbody tr th:only-of-type {\n",
       "        vertical-align: middle;\n",
       "    }\n",
       "\n",
       "    .dataframe tbody tr th {\n",
       "        vertical-align: top;\n",
       "    }\n",
       "\n",
       "    .dataframe thead th {\n",
       "        text-align: right;\n",
       "    }\n",
       "</style>\n",
       "<table border=\"1\" class=\"dataframe\">\n",
       "  <thead>\n",
       "    <tr style=\"text-align: right;\">\n",
       "      <th></th>\n",
       "      <th>latitude</th>\n",
       "      <th>longitude</th>\n",
       "      <th>counts</th>\n",
       "    </tr>\n",
       "  </thead>\n",
       "  <tbody>\n",
       "    <tr>\n",
       "      <th>0</th>\n",
       "      <td>31.6</td>\n",
       "      <td>-64.2</td>\n",
       "      <td>24.0</td>\n",
       "    </tr>\n",
       "  </tbody>\n",
       "</table>\n",
       "</div>"
      ],
      "text/plain": [
       "   latitude  longitude  counts\n",
       "0      31.6      -64.2    24.0"
      ]
     },
     "execution_count": 18,
     "metadata": {},
     "output_type": "execute_result"
    }
   ],
   "source": [
    "average_nb_of_obs_by_year_and_position"
   ]
  },
  {
   "cell_type": "code",
   "execution_count": 19,
   "metadata": {},
   "outputs": [
    {
     "data": {
      "application/vnd.plotly.v1+json": {
       "config": {
        "plotlyServerURL": "https://plot.ly"
       },
       "data": [
        {
         "alignmentgroup": "True",
         "boxpoints": "all",
         "hovertemplate": "counts=%{x}<extra></extra>",
         "legendgroup": "",
         "marker": {
          "color": "#636efa"
         },
         "name": "",
         "notched": false,
         "offsetgroup": "",
         "orientation": "h",
         "showlegend": false,
         "type": "box",
         "x": [
          24
         ],
         "x0": " ",
         "xaxis": "x",
         "y0": " ",
         "yaxis": "y"
        }
       ],
       "layout": {
        "boxmode": "group",
        "legend": {
         "tracegroupgap": 0
        },
        "margin": {
         "t": 60
        },
        "shapes": [
         {
          "line": {
           "color": "black",
           "dash": "dash",
           "width": 2
          },
          "name": "Minimum number of observations by year",
          "type": "line",
          "x0": 2,
          "x1": 2,
          "xref": "x",
          "y0": -1,
          "y1": 1
         }
        ],
        "template": {
         "data": {
          "bar": [
           {
            "error_x": {
             "color": "#2a3f5f"
            },
            "error_y": {
             "color": "#2a3f5f"
            },
            "marker": {
             "line": {
              "color": "#E5ECF6",
              "width": 0.5
             },
             "pattern": {
              "fillmode": "overlay",
              "size": 10,
              "solidity": 0.2
             }
            },
            "type": "bar"
           }
          ],
          "barpolar": [
           {
            "marker": {
             "line": {
              "color": "#E5ECF6",
              "width": 0.5
             },
             "pattern": {
              "fillmode": "overlay",
              "size": 10,
              "solidity": 0.2
             }
            },
            "type": "barpolar"
           }
          ],
          "carpet": [
           {
            "aaxis": {
             "endlinecolor": "#2a3f5f",
             "gridcolor": "white",
             "linecolor": "white",
             "minorgridcolor": "white",
             "startlinecolor": "#2a3f5f"
            },
            "baxis": {
             "endlinecolor": "#2a3f5f",
             "gridcolor": "white",
             "linecolor": "white",
             "minorgridcolor": "white",
             "startlinecolor": "#2a3f5f"
            },
            "type": "carpet"
           }
          ],
          "choropleth": [
           {
            "colorbar": {
             "outlinewidth": 0,
             "ticks": ""
            },
            "type": "choropleth"
           }
          ],
          "contour": [
           {
            "colorbar": {
             "outlinewidth": 0,
             "ticks": ""
            },
            "colorscale": [
             [
              0,
              "#0d0887"
             ],
             [
              0.1111111111111111,
              "#46039f"
             ],
             [
              0.2222222222222222,
              "#7201a8"
             ],
             [
              0.3333333333333333,
              "#9c179e"
             ],
             [
              0.4444444444444444,
              "#bd3786"
             ],
             [
              0.5555555555555556,
              "#d8576b"
             ],
             [
              0.6666666666666666,
              "#ed7953"
             ],
             [
              0.7777777777777778,
              "#fb9f3a"
             ],
             [
              0.8888888888888888,
              "#fdca26"
             ],
             [
              1,
              "#f0f921"
             ]
            ],
            "type": "contour"
           }
          ],
          "contourcarpet": [
           {
            "colorbar": {
             "outlinewidth": 0,
             "ticks": ""
            },
            "type": "contourcarpet"
           }
          ],
          "heatmap": [
           {
            "colorbar": {
             "outlinewidth": 0,
             "ticks": ""
            },
            "colorscale": [
             [
              0,
              "#0d0887"
             ],
             [
              0.1111111111111111,
              "#46039f"
             ],
             [
              0.2222222222222222,
              "#7201a8"
             ],
             [
              0.3333333333333333,
              "#9c179e"
             ],
             [
              0.4444444444444444,
              "#bd3786"
             ],
             [
              0.5555555555555556,
              "#d8576b"
             ],
             [
              0.6666666666666666,
              "#ed7953"
             ],
             [
              0.7777777777777778,
              "#fb9f3a"
             ],
             [
              0.8888888888888888,
              "#fdca26"
             ],
             [
              1,
              "#f0f921"
             ]
            ],
            "type": "heatmap"
           }
          ],
          "heatmapgl": [
           {
            "colorbar": {
             "outlinewidth": 0,
             "ticks": ""
            },
            "colorscale": [
             [
              0,
              "#0d0887"
             ],
             [
              0.1111111111111111,
              "#46039f"
             ],
             [
              0.2222222222222222,
              "#7201a8"
             ],
             [
              0.3333333333333333,
              "#9c179e"
             ],
             [
              0.4444444444444444,
              "#bd3786"
             ],
             [
              0.5555555555555556,
              "#d8576b"
             ],
             [
              0.6666666666666666,
              "#ed7953"
             ],
             [
              0.7777777777777778,
              "#fb9f3a"
             ],
             [
              0.8888888888888888,
              "#fdca26"
             ],
             [
              1,
              "#f0f921"
             ]
            ],
            "type": "heatmapgl"
           }
          ],
          "histogram": [
           {
            "marker": {
             "pattern": {
              "fillmode": "overlay",
              "size": 10,
              "solidity": 0.2
             }
            },
            "type": "histogram"
           }
          ],
          "histogram2d": [
           {
            "colorbar": {
             "outlinewidth": 0,
             "ticks": ""
            },
            "colorscale": [
             [
              0,
              "#0d0887"
             ],
             [
              0.1111111111111111,
              "#46039f"
             ],
             [
              0.2222222222222222,
              "#7201a8"
             ],
             [
              0.3333333333333333,
              "#9c179e"
             ],
             [
              0.4444444444444444,
              "#bd3786"
             ],
             [
              0.5555555555555556,
              "#d8576b"
             ],
             [
              0.6666666666666666,
              "#ed7953"
             ],
             [
              0.7777777777777778,
              "#fb9f3a"
             ],
             [
              0.8888888888888888,
              "#fdca26"
             ],
             [
              1,
              "#f0f921"
             ]
            ],
            "type": "histogram2d"
           }
          ],
          "histogram2dcontour": [
           {
            "colorbar": {
             "outlinewidth": 0,
             "ticks": ""
            },
            "colorscale": [
             [
              0,
              "#0d0887"
             ],
             [
              0.1111111111111111,
              "#46039f"
             ],
             [
              0.2222222222222222,
              "#7201a8"
             ],
             [
              0.3333333333333333,
              "#9c179e"
             ],
             [
              0.4444444444444444,
              "#bd3786"
             ],
             [
              0.5555555555555556,
              "#d8576b"
             ],
             [
              0.6666666666666666,
              "#ed7953"
             ],
             [
              0.7777777777777778,
              "#fb9f3a"
             ],
             [
              0.8888888888888888,
              "#fdca26"
             ],
             [
              1,
              "#f0f921"
             ]
            ],
            "type": "histogram2dcontour"
           }
          ],
          "mesh3d": [
           {
            "colorbar": {
             "outlinewidth": 0,
             "ticks": ""
            },
            "type": "mesh3d"
           }
          ],
          "parcoords": [
           {
            "line": {
             "colorbar": {
              "outlinewidth": 0,
              "ticks": ""
             }
            },
            "type": "parcoords"
           }
          ],
          "pie": [
           {
            "automargin": true,
            "type": "pie"
           }
          ],
          "scatter": [
           {
            "fillpattern": {
             "fillmode": "overlay",
             "size": 10,
             "solidity": 0.2
            },
            "type": "scatter"
           }
          ],
          "scatter3d": [
           {
            "line": {
             "colorbar": {
              "outlinewidth": 0,
              "ticks": ""
             }
            },
            "marker": {
             "colorbar": {
              "outlinewidth": 0,
              "ticks": ""
             }
            },
            "type": "scatter3d"
           }
          ],
          "scattercarpet": [
           {
            "marker": {
             "colorbar": {
              "outlinewidth": 0,
              "ticks": ""
             }
            },
            "type": "scattercarpet"
           }
          ],
          "scattergeo": [
           {
            "marker": {
             "colorbar": {
              "outlinewidth": 0,
              "ticks": ""
             }
            },
            "type": "scattergeo"
           }
          ],
          "scattergl": [
           {
            "marker": {
             "colorbar": {
              "outlinewidth": 0,
              "ticks": ""
             }
            },
            "type": "scattergl"
           }
          ],
          "scattermapbox": [
           {
            "marker": {
             "colorbar": {
              "outlinewidth": 0,
              "ticks": ""
             }
            },
            "type": "scattermapbox"
           }
          ],
          "scatterpolar": [
           {
            "marker": {
             "colorbar": {
              "outlinewidth": 0,
              "ticks": ""
             }
            },
            "type": "scatterpolar"
           }
          ],
          "scatterpolargl": [
           {
            "marker": {
             "colorbar": {
              "outlinewidth": 0,
              "ticks": ""
             }
            },
            "type": "scatterpolargl"
           }
          ],
          "scatterternary": [
           {
            "marker": {
             "colorbar": {
              "outlinewidth": 0,
              "ticks": ""
             }
            },
            "type": "scatterternary"
           }
          ],
          "surface": [
           {
            "colorbar": {
             "outlinewidth": 0,
             "ticks": ""
            },
            "colorscale": [
             [
              0,
              "#0d0887"
             ],
             [
              0.1111111111111111,
              "#46039f"
             ],
             [
              0.2222222222222222,
              "#7201a8"
             ],
             [
              0.3333333333333333,
              "#9c179e"
             ],
             [
              0.4444444444444444,
              "#bd3786"
             ],
             [
              0.5555555555555556,
              "#d8576b"
             ],
             [
              0.6666666666666666,
              "#ed7953"
             ],
             [
              0.7777777777777778,
              "#fb9f3a"
             ],
             [
              0.8888888888888888,
              "#fdca26"
             ],
             [
              1,
              "#f0f921"
             ]
            ],
            "type": "surface"
           }
          ],
          "table": [
           {
            "cells": {
             "fill": {
              "color": "#EBF0F8"
             },
             "line": {
              "color": "white"
             }
            },
            "header": {
             "fill": {
              "color": "#C8D4E3"
             },
             "line": {
              "color": "white"
             }
            },
            "type": "table"
           }
          ]
         },
         "layout": {
          "annotationdefaults": {
           "arrowcolor": "#2a3f5f",
           "arrowhead": 0,
           "arrowwidth": 1
          },
          "autotypenumbers": "strict",
          "coloraxis": {
           "colorbar": {
            "outlinewidth": 0,
            "ticks": ""
           }
          },
          "colorscale": {
           "diverging": [
            [
             0,
             "#8e0152"
            ],
            [
             0.1,
             "#c51b7d"
            ],
            [
             0.2,
             "#de77ae"
            ],
            [
             0.3,
             "#f1b6da"
            ],
            [
             0.4,
             "#fde0ef"
            ],
            [
             0.5,
             "#f7f7f7"
            ],
            [
             0.6,
             "#e6f5d0"
            ],
            [
             0.7,
             "#b8e186"
            ],
            [
             0.8,
             "#7fbc41"
            ],
            [
             0.9,
             "#4d9221"
            ],
            [
             1,
             "#276419"
            ]
           ],
           "sequential": [
            [
             0,
             "#0d0887"
            ],
            [
             0.1111111111111111,
             "#46039f"
            ],
            [
             0.2222222222222222,
             "#7201a8"
            ],
            [
             0.3333333333333333,
             "#9c179e"
            ],
            [
             0.4444444444444444,
             "#bd3786"
            ],
            [
             0.5555555555555556,
             "#d8576b"
            ],
            [
             0.6666666666666666,
             "#ed7953"
            ],
            [
             0.7777777777777778,
             "#fb9f3a"
            ],
            [
             0.8888888888888888,
             "#fdca26"
            ],
            [
             1,
             "#f0f921"
            ]
           ],
           "sequentialminus": [
            [
             0,
             "#0d0887"
            ],
            [
             0.1111111111111111,
             "#46039f"
            ],
            [
             0.2222222222222222,
             "#7201a8"
            ],
            [
             0.3333333333333333,
             "#9c179e"
            ],
            [
             0.4444444444444444,
             "#bd3786"
            ],
            [
             0.5555555555555556,
             "#d8576b"
            ],
            [
             0.6666666666666666,
             "#ed7953"
            ],
            [
             0.7777777777777778,
             "#fb9f3a"
            ],
            [
             0.8888888888888888,
             "#fdca26"
            ],
            [
             1,
             "#f0f921"
            ]
           ]
          },
          "colorway": [
           "#636efa",
           "#EF553B",
           "#00cc96",
           "#ab63fa",
           "#FFA15A",
           "#19d3f3",
           "#FF6692",
           "#B6E880",
           "#FF97FF",
           "#FECB52"
          ],
          "font": {
           "color": "#2a3f5f"
          },
          "geo": {
           "bgcolor": "white",
           "lakecolor": "white",
           "landcolor": "#E5ECF6",
           "showlakes": true,
           "showland": true,
           "subunitcolor": "white"
          },
          "hoverlabel": {
           "align": "left"
          },
          "hovermode": "closest",
          "mapbox": {
           "style": "light"
          },
          "paper_bgcolor": "white",
          "plot_bgcolor": "#E5ECF6",
          "polar": {
           "angularaxis": {
            "gridcolor": "white",
            "linecolor": "white",
            "ticks": ""
           },
           "bgcolor": "#E5ECF6",
           "radialaxis": {
            "gridcolor": "white",
            "linecolor": "white",
            "ticks": ""
           }
          },
          "scene": {
           "xaxis": {
            "backgroundcolor": "#E5ECF6",
            "gridcolor": "white",
            "gridwidth": 2,
            "linecolor": "white",
            "showbackground": true,
            "ticks": "",
            "zerolinecolor": "white"
           },
           "yaxis": {
            "backgroundcolor": "#E5ECF6",
            "gridcolor": "white",
            "gridwidth": 2,
            "linecolor": "white",
            "showbackground": true,
            "ticks": "",
            "zerolinecolor": "white"
           },
           "zaxis": {
            "backgroundcolor": "#E5ECF6",
            "gridcolor": "white",
            "gridwidth": 2,
            "linecolor": "white",
            "showbackground": true,
            "ticks": "",
            "zerolinecolor": "white"
           }
          },
          "shapedefaults": {
           "line": {
            "color": "#2a3f5f"
           }
          },
          "ternary": {
           "aaxis": {
            "gridcolor": "white",
            "linecolor": "white",
            "ticks": ""
           },
           "baxis": {
            "gridcolor": "white",
            "linecolor": "white",
            "ticks": ""
           },
           "bgcolor": "#E5ECF6",
           "caxis": {
            "gridcolor": "white",
            "linecolor": "white",
            "ticks": ""
           }
          },
          "title": {
           "x": 0.05
          },
          "xaxis": {
           "automargin": true,
           "gridcolor": "white",
           "linecolor": "white",
           "ticks": "",
           "title": {
            "standoff": 15
           },
           "zerolinecolor": "white",
           "zerolinewidth": 2
          },
          "yaxis": {
           "automargin": true,
           "gridcolor": "white",
           "linecolor": "white",
           "ticks": "",
           "title": {
            "standoff": 15
           },
           "zerolinecolor": "white",
           "zerolinewidth": 2
          }
         }
        },
        "title": {
         "text": "Average number of observation (day+night) data by year for each position at Bats"
        },
        "xaxis": {
         "anchor": "y",
         "domain": [
          0,
          1
         ],
         "title": {
          "text": "counts"
         },
         "type": "log"
        },
        "yaxis": {
         "anchor": "x",
         "domain": [
          0,
          1
         ]
        }
       }
      }
     },
     "metadata": {},
     "output_type": "display_data"
    }
   ],
   "source": [
    "fig = (\n",
    "    px.box(average_nb_of_obs_by_year_and_position, x=\"counts\", orientation=\"h\", points=\"all\")\n",
    "    .update_layout(\n",
    "        title=f\"Average number of observation (day+night) data by year for each position at {station}\",\n",
    "    )\n",
    "    .update_xaxes(type=\"log\")\n",
    ")\n",
    "fig.add_shape(\n",
    "    type=\"line\",\n",
    "    x0=MINIMUM_OBS_BY_YEAR,\n",
    "    x1=MINIMUM_OBS_BY_YEAR,\n",
    "    y0=-1,\n",
    "    y1=1,\n",
    "    xref=\"x\",\n",
    "    line={\"color\": \"black\", \"width\": 2, \"dash\": \"dash\"},\n",
    "    name=\"Minimum number of observations by year\",\n",
    ")\n",
    "fig.show()"
   ]
  },
  {
   "cell_type": "markdown",
   "metadata": {},
   "source": [
    "## Remove location where there is not enough data (less than 6 by year)\n"
   ]
  },
  {
   "cell_type": "code",
   "execution_count": 20,
   "metadata": {},
   "outputs": [
    {
     "data": {
      "text/html": [
       "<div>\n",
       "<style scoped>\n",
       "    .dataframe tbody tr th:only-of-type {\n",
       "        vertical-align: middle;\n",
       "    }\n",
       "\n",
       "    .dataframe tbody tr th {\n",
       "        vertical-align: top;\n",
       "    }\n",
       "\n",
       "    .dataframe thead th {\n",
       "        text-align: right;\n",
       "    }\n",
       "</style>\n",
       "<table border=\"1\" class=\"dataframe\">\n",
       "  <thead>\n",
       "    <tr style=\"text-align: right;\">\n",
       "      <th></th>\n",
       "      <th>latitude</th>\n",
       "      <th>longitude</th>\n",
       "    </tr>\n",
       "  </thead>\n",
       "  <tbody>\n",
       "    <tr>\n",
       "      <th>0</th>\n",
       "      <td>31.6</td>\n",
       "      <td>-64.2</td>\n",
       "    </tr>\n",
       "  </tbody>\n",
       "</table>\n",
       "</div>"
      ],
      "text/plain": [
       "   latitude  longitude\n",
       "0      31.6      -64.2"
      ]
     },
     "execution_count": 20,
     "metadata": {},
     "output_type": "execute_result"
    }
   ],
   "source": [
    "MINIMUM_OBS = 6\n",
    "positions = average_nb_of_obs_by_year_and_position.query(f\"counts >= {MINIMUM_OBS_BY_YEAR}\")[[\"latitude\", \"longitude\"]]\n",
    "positions"
   ]
  },
  {
   "cell_type": "code",
   "execution_count": 21,
   "metadata": {},
   "outputs": [
    {
     "data": {
      "text/html": [
       "<div><svg style=\"position: absolute; width: 0; height: 0; overflow: hidden\">\n",
       "<defs>\n",
       "<symbol id=\"icon-database\" viewBox=\"0 0 32 32\">\n",
       "<path d=\"M16 0c-8.837 0-16 2.239-16 5v4c0 2.761 7.163 5 16 5s16-2.239 16-5v-4c0-2.761-7.163-5-16-5z\"></path>\n",
       "<path d=\"M16 17c-8.837 0-16-2.239-16-5v6c0 2.761 7.163 5 16 5s16-2.239 16-5v-6c0 2.761-7.163 5-16 5z\"></path>\n",
       "<path d=\"M16 26c-8.837 0-16-2.239-16-5v6c0 2.761 7.163 5 16 5s16-2.239 16-5v-6c0 2.761-7.163 5-16 5z\"></path>\n",
       "</symbol>\n",
       "<symbol id=\"icon-file-text2\" viewBox=\"0 0 32 32\">\n",
       "<path d=\"M28.681 7.159c-0.694-0.947-1.662-2.053-2.724-3.116s-2.169-2.030-3.116-2.724c-1.612-1.182-2.393-1.319-2.841-1.319h-15.5c-1.378 0-2.5 1.121-2.5 2.5v27c0 1.378 1.122 2.5 2.5 2.5h23c1.378 0 2.5-1.122 2.5-2.5v-19.5c0-0.448-0.137-1.23-1.319-2.841zM24.543 5.457c0.959 0.959 1.712 1.825 2.268 2.543h-4.811v-4.811c0.718 0.556 1.584 1.309 2.543 2.268zM28 29.5c0 0.271-0.229 0.5-0.5 0.5h-23c-0.271 0-0.5-0.229-0.5-0.5v-27c0-0.271 0.229-0.5 0.5-0.5 0 0 15.499-0 15.5 0v7c0 0.552 0.448 1 1 1h7v19.5z\"></path>\n",
       "<path d=\"M23 26h-14c-0.552 0-1-0.448-1-1s0.448-1 1-1h14c0.552 0 1 0.448 1 1s-0.448 1-1 1z\"></path>\n",
       "<path d=\"M23 22h-14c-0.552 0-1-0.448-1-1s0.448-1 1-1h14c0.552 0 1 0.448 1 1s-0.448 1-1 1z\"></path>\n",
       "<path d=\"M23 18h-14c-0.552 0-1-0.448-1-1s0.448-1 1-1h14c0.552 0 1 0.448 1 1s-0.448 1-1 1z\"></path>\n",
       "</symbol>\n",
       "</defs>\n",
       "</svg>\n",
       "<style>/* CSS stylesheet for displaying xarray objects in jupyterlab.\n",
       " *\n",
       " */\n",
       "\n",
       ":root {\n",
       "  --xr-font-color0: var(--jp-content-font-color0, rgba(0, 0, 0, 1));\n",
       "  --xr-font-color2: var(--jp-content-font-color2, rgba(0, 0, 0, 0.54));\n",
       "  --xr-font-color3: var(--jp-content-font-color3, rgba(0, 0, 0, 0.38));\n",
       "  --xr-border-color: var(--jp-border-color2, #e0e0e0);\n",
       "  --xr-disabled-color: var(--jp-layout-color3, #bdbdbd);\n",
       "  --xr-background-color: var(--jp-layout-color0, white);\n",
       "  --xr-background-color-row-even: var(--jp-layout-color1, white);\n",
       "  --xr-background-color-row-odd: var(--jp-layout-color2, #eeeeee);\n",
       "}\n",
       "\n",
       "html[theme=\"dark\"],\n",
       "html[data-theme=\"dark\"],\n",
       "body[data-theme=\"dark\"],\n",
       "body.vscode-dark {\n",
       "  --xr-font-color0: rgba(255, 255, 255, 1);\n",
       "  --xr-font-color2: rgba(255, 255, 255, 0.54);\n",
       "  --xr-font-color3: rgba(255, 255, 255, 0.38);\n",
       "  --xr-border-color: #1f1f1f;\n",
       "  --xr-disabled-color: #515151;\n",
       "  --xr-background-color: #111111;\n",
       "  --xr-background-color-row-even: #111111;\n",
       "  --xr-background-color-row-odd: #313131;\n",
       "}\n",
       "\n",
       ".xr-wrap {\n",
       "  display: block !important;\n",
       "  min-width: 300px;\n",
       "  max-width: 700px;\n",
       "}\n",
       "\n",
       ".xr-text-repr-fallback {\n",
       "  /* fallback to plain text repr when CSS is not injected (untrusted notebook) */\n",
       "  display: none;\n",
       "}\n",
       "\n",
       ".xr-header {\n",
       "  padding-top: 6px;\n",
       "  padding-bottom: 6px;\n",
       "  margin-bottom: 4px;\n",
       "  border-bottom: solid 1px var(--xr-border-color);\n",
       "}\n",
       "\n",
       ".xr-header > div,\n",
       ".xr-header > ul {\n",
       "  display: inline;\n",
       "  margin-top: 0;\n",
       "  margin-bottom: 0;\n",
       "}\n",
       "\n",
       ".xr-obj-type,\n",
       ".xr-array-name {\n",
       "  margin-left: 2px;\n",
       "  margin-right: 10px;\n",
       "}\n",
       "\n",
       ".xr-obj-type {\n",
       "  color: var(--xr-font-color2);\n",
       "}\n",
       "\n",
       ".xr-sections {\n",
       "  padding-left: 0 !important;\n",
       "  display: grid;\n",
       "  grid-template-columns: 150px auto auto 1fr 0 20px 0 20px;\n",
       "}\n",
       "\n",
       ".xr-section-item {\n",
       "  display: contents;\n",
       "}\n",
       "\n",
       ".xr-section-item input {\n",
       "  display: inline-block;\n",
       "  opacity: 0;\n",
       "  height: 0;\n",
       "}\n",
       "\n",
       ".xr-section-item input + label {\n",
       "  color: var(--xr-disabled-color);\n",
       "}\n",
       "\n",
       ".xr-section-item input:enabled + label {\n",
       "  cursor: pointer;\n",
       "  color: var(--xr-font-color2);\n",
       "}\n",
       "\n",
       ".xr-section-item input:focus + label {\n",
       "  border: 2px solid var(--xr-font-color0);\n",
       "}\n",
       "\n",
       ".xr-section-item input:enabled + label:hover {\n",
       "  color: var(--xr-font-color0);\n",
       "}\n",
       "\n",
       ".xr-section-summary {\n",
       "  grid-column: 1;\n",
       "  color: var(--xr-font-color2);\n",
       "  font-weight: 500;\n",
       "}\n",
       "\n",
       ".xr-section-summary > span {\n",
       "  display: inline-block;\n",
       "  padding-left: 0.5em;\n",
       "}\n",
       "\n",
       ".xr-section-summary-in:disabled + label {\n",
       "  color: var(--xr-font-color2);\n",
       "}\n",
       "\n",
       ".xr-section-summary-in + label:before {\n",
       "  display: inline-block;\n",
       "  content: \"►\";\n",
       "  font-size: 11px;\n",
       "  width: 15px;\n",
       "  text-align: center;\n",
       "}\n",
       "\n",
       ".xr-section-summary-in:disabled + label:before {\n",
       "  color: var(--xr-disabled-color);\n",
       "}\n",
       "\n",
       ".xr-section-summary-in:checked + label:before {\n",
       "  content: \"▼\";\n",
       "}\n",
       "\n",
       ".xr-section-summary-in:checked + label > span {\n",
       "  display: none;\n",
       "}\n",
       "\n",
       ".xr-section-summary,\n",
       ".xr-section-inline-details {\n",
       "  padding-top: 4px;\n",
       "  padding-bottom: 4px;\n",
       "}\n",
       "\n",
       ".xr-section-inline-details {\n",
       "  grid-column: 2 / -1;\n",
       "}\n",
       "\n",
       ".xr-section-details {\n",
       "  display: none;\n",
       "  grid-column: 1 / -1;\n",
       "  margin-bottom: 5px;\n",
       "}\n",
       "\n",
       ".xr-section-summary-in:checked ~ .xr-section-details {\n",
       "  display: contents;\n",
       "}\n",
       "\n",
       ".xr-array-wrap {\n",
       "  grid-column: 1 / -1;\n",
       "  display: grid;\n",
       "  grid-template-columns: 20px auto;\n",
       "}\n",
       "\n",
       ".xr-array-wrap > label {\n",
       "  grid-column: 1;\n",
       "  vertical-align: top;\n",
       "}\n",
       "\n",
       ".xr-preview {\n",
       "  color: var(--xr-font-color3);\n",
       "}\n",
       "\n",
       ".xr-array-preview,\n",
       ".xr-array-data {\n",
       "  padding: 0 5px !important;\n",
       "  grid-column: 2;\n",
       "}\n",
       "\n",
       ".xr-array-data,\n",
       ".xr-array-in:checked ~ .xr-array-preview {\n",
       "  display: none;\n",
       "}\n",
       "\n",
       ".xr-array-in:checked ~ .xr-array-data,\n",
       ".xr-array-preview {\n",
       "  display: inline-block;\n",
       "}\n",
       "\n",
       ".xr-dim-list {\n",
       "  display: inline-block !important;\n",
       "  list-style: none;\n",
       "  padding: 0 !important;\n",
       "  margin: 0;\n",
       "}\n",
       "\n",
       ".xr-dim-list li {\n",
       "  display: inline-block;\n",
       "  padding: 0;\n",
       "  margin: 0;\n",
       "}\n",
       "\n",
       ".xr-dim-list:before {\n",
       "  content: \"(\";\n",
       "}\n",
       "\n",
       ".xr-dim-list:after {\n",
       "  content: \")\";\n",
       "}\n",
       "\n",
       ".xr-dim-list li:not(:last-child):after {\n",
       "  content: \",\";\n",
       "  padding-right: 5px;\n",
       "}\n",
       "\n",
       ".xr-has-index {\n",
       "  font-weight: bold;\n",
       "}\n",
       "\n",
       ".xr-var-list,\n",
       ".xr-var-item {\n",
       "  display: contents;\n",
       "}\n",
       "\n",
       ".xr-var-item > div,\n",
       ".xr-var-item label,\n",
       ".xr-var-item > .xr-var-name span {\n",
       "  background-color: var(--xr-background-color-row-even);\n",
       "  margin-bottom: 0;\n",
       "}\n",
       "\n",
       ".xr-var-item > .xr-var-name:hover span {\n",
       "  padding-right: 5px;\n",
       "}\n",
       "\n",
       ".xr-var-list > li:nth-child(odd) > div,\n",
       ".xr-var-list > li:nth-child(odd) > label,\n",
       ".xr-var-list > li:nth-child(odd) > .xr-var-name span {\n",
       "  background-color: var(--xr-background-color-row-odd);\n",
       "}\n",
       "\n",
       ".xr-var-name {\n",
       "  grid-column: 1;\n",
       "}\n",
       "\n",
       ".xr-var-dims {\n",
       "  grid-column: 2;\n",
       "}\n",
       "\n",
       ".xr-var-dtype {\n",
       "  grid-column: 3;\n",
       "  text-align: right;\n",
       "  color: var(--xr-font-color2);\n",
       "}\n",
       "\n",
       ".xr-var-preview {\n",
       "  grid-column: 4;\n",
       "}\n",
       "\n",
       ".xr-index-preview {\n",
       "  grid-column: 2 / 5;\n",
       "  color: var(--xr-font-color2);\n",
       "}\n",
       "\n",
       ".xr-var-name,\n",
       ".xr-var-dims,\n",
       ".xr-var-dtype,\n",
       ".xr-preview,\n",
       ".xr-attrs dt {\n",
       "  white-space: nowrap;\n",
       "  overflow: hidden;\n",
       "  text-overflow: ellipsis;\n",
       "  padding-right: 10px;\n",
       "}\n",
       "\n",
       ".xr-var-name:hover,\n",
       ".xr-var-dims:hover,\n",
       ".xr-var-dtype:hover,\n",
       ".xr-attrs dt:hover {\n",
       "  overflow: visible;\n",
       "  width: auto;\n",
       "  z-index: 1;\n",
       "}\n",
       "\n",
       ".xr-var-attrs,\n",
       ".xr-var-data,\n",
       ".xr-index-data {\n",
       "  display: none;\n",
       "  background-color: var(--xr-background-color) !important;\n",
       "  padding-bottom: 5px !important;\n",
       "}\n",
       "\n",
       ".xr-var-attrs-in:checked ~ .xr-var-attrs,\n",
       ".xr-var-data-in:checked ~ .xr-var-data,\n",
       ".xr-index-data-in:checked ~ .xr-index-data {\n",
       "  display: block;\n",
       "}\n",
       "\n",
       ".xr-var-data > table {\n",
       "  float: right;\n",
       "}\n",
       "\n",
       ".xr-var-name span,\n",
       ".xr-var-data,\n",
       ".xr-index-name div,\n",
       ".xr-index-data,\n",
       ".xr-attrs {\n",
       "  padding-left: 25px !important;\n",
       "}\n",
       "\n",
       ".xr-attrs,\n",
       ".xr-var-attrs,\n",
       ".xr-var-data,\n",
       ".xr-index-data {\n",
       "  grid-column: 1 / -1;\n",
       "}\n",
       "\n",
       "dl.xr-attrs {\n",
       "  padding: 0;\n",
       "  margin: 0;\n",
       "  display: grid;\n",
       "  grid-template-columns: 125px auto;\n",
       "}\n",
       "\n",
       ".xr-attrs dt,\n",
       ".xr-attrs dd {\n",
       "  padding: 0;\n",
       "  margin: 0;\n",
       "  float: left;\n",
       "  padding-right: 10px;\n",
       "  width: auto;\n",
       "}\n",
       "\n",
       ".xr-attrs dt {\n",
       "  font-weight: normal;\n",
       "  grid-column: 1;\n",
       "}\n",
       "\n",
       ".xr-attrs dt:hover span {\n",
       "  display: inline-block;\n",
       "  background: var(--xr-background-color);\n",
       "  padding-right: 10px;\n",
       "}\n",
       "\n",
       ".xr-attrs dd {\n",
       "  grid-column: 2;\n",
       "  white-space: pre-wrap;\n",
       "  word-break: break-all;\n",
       "}\n",
       "\n",
       ".xr-icon-database,\n",
       ".xr-icon-file-text2,\n",
       ".xr-no-icon {\n",
       "  display: inline-block;\n",
       "  vertical-align: middle;\n",
       "  width: 1em;\n",
       "  height: 1.5em !important;\n",
       "  stroke-width: 0;\n",
       "  stroke: currentColor;\n",
       "  fill: currentColor;\n",
       "}\n",
       "</style><pre class='xr-text-repr-fallback'>&lt;xarray.Dataset&gt; Size: 6kB\n",
       "Dimensions:    (time: 254, latitude: 1, longitude: 1)\n",
       "Coordinates:\n",
       "  * latitude   (latitude) float64 8B 31.6\n",
       "  * longitude  (longitude) float64 8B -64.2\n",
       "  * time       (time) datetime64[ns] 2kB 2002-01-22 2002-02-12 ... 2014-12-11\n",
       "Data variables:\n",
       "    day        (time, latitude, longitude) float64 2kB 0.524 nan ... 0.53 0.36\n",
       "    night      (time, latitude, longitude) float64 2kB 1.318 1.572 ... nan 1.134\n",
       "Attributes:\n",
       "    creation date:  2025-03-31T16:35:10.270720\n",
       "    layer:          epipelagic\n",
       "    station:        Bats</pre><div class='xr-wrap' style='display:none'><div class='xr-header'><div class='xr-obj-type'>xarray.Dataset</div></div><ul class='xr-sections'><li class='xr-section-item'><input id='section-30cd135e-08b7-4d3a-b472-1c768169ab9c' class='xr-section-summary-in' type='checkbox' disabled ><label for='section-30cd135e-08b7-4d3a-b472-1c768169ab9c' class='xr-section-summary'  title='Expand/collapse section'>Dimensions:</label><div class='xr-section-inline-details'><ul class='xr-dim-list'><li><span class='xr-has-index'>time</span>: 254</li><li><span class='xr-has-index'>latitude</span>: 1</li><li><span class='xr-has-index'>longitude</span>: 1</li></ul></div><div class='xr-section-details'></div></li><li class='xr-section-item'><input id='section-742e6740-1d25-4d80-887e-59a198d90c09' class='xr-section-summary-in' type='checkbox'  checked><label for='section-742e6740-1d25-4d80-887e-59a198d90c09' class='xr-section-summary' >Coordinates: <span>(3)</span></label><div class='xr-section-inline-details'></div><div class='xr-section-details'><ul class='xr-var-list'><li class='xr-var-item'><div class='xr-var-name'><span class='xr-has-index'>latitude</span></div><div class='xr-var-dims'>(latitude)</div><div class='xr-var-dtype'>float64</div><div class='xr-var-preview xr-preview'>31.6</div><input id='attrs-39c0fe5b-4c76-4d63-9f74-74eca69ae98c' class='xr-var-attrs-in' type='checkbox' ><label for='attrs-39c0fe5b-4c76-4d63-9f74-74eca69ae98c' title='Show/Hide attributes'><svg class='icon xr-icon-file-text2'><use xlink:href='#icon-file-text2'></use></svg></label><input id='data-69df19e9-2df4-475c-b118-1cae7dec888e' class='xr-var-data-in' type='checkbox'><label for='data-69df19e9-2df4-475c-b118-1cae7dec888e' title='Show/Hide data repr'><svg class='icon xr-icon-database'><use xlink:href='#icon-database'></use></svg></label><div class='xr-var-attrs'><dl class='xr-attrs'><dt><span>axis :</span></dt><dd>Y</dd><dt><span>long_name :</span></dt><dd>Latitude</dd><dt><span>standard_name :</span></dt><dd>latitude</dd><dt><span>units :</span></dt><dd>degrees_north</dd></dl></div><div class='xr-var-data'><pre>array([31.6])</pre></div></li><li class='xr-var-item'><div class='xr-var-name'><span class='xr-has-index'>longitude</span></div><div class='xr-var-dims'>(longitude)</div><div class='xr-var-dtype'>float64</div><div class='xr-var-preview xr-preview'>-64.2</div><input id='attrs-547be7ee-c85c-494d-8fa7-ad658df7779b' class='xr-var-attrs-in' type='checkbox' ><label for='attrs-547be7ee-c85c-494d-8fa7-ad658df7779b' title='Show/Hide attributes'><svg class='icon xr-icon-file-text2'><use xlink:href='#icon-file-text2'></use></svg></label><input id='data-190a9819-aa56-42f8-97a2-53e59516683b' class='xr-var-data-in' type='checkbox'><label for='data-190a9819-aa56-42f8-97a2-53e59516683b' title='Show/Hide data repr'><svg class='icon xr-icon-database'><use xlink:href='#icon-database'></use></svg></label><div class='xr-var-attrs'><dl class='xr-attrs'><dt><span>axis :</span></dt><dd>X</dd><dt><span>long_name :</span></dt><dd>Longitude</dd><dt><span>standard_name :</span></dt><dd>longitude</dd><dt><span>units :</span></dt><dd>degrees_east</dd></dl></div><div class='xr-var-data'><pre>array([-64.2])</pre></div></li><li class='xr-var-item'><div class='xr-var-name'><span class='xr-has-index'>time</span></div><div class='xr-var-dims'>(time)</div><div class='xr-var-dtype'>datetime64[ns]</div><div class='xr-var-preview xr-preview'>2002-01-22 ... 2014-12-11</div><input id='attrs-a2ade92b-ab2b-4935-a09e-a71d2ad297b4' class='xr-var-attrs-in' type='checkbox' ><label for='attrs-a2ade92b-ab2b-4935-a09e-a71d2ad297b4' title='Show/Hide attributes'><svg class='icon xr-icon-file-text2'><use xlink:href='#icon-file-text2'></use></svg></label><input id='data-cce2f1a0-4508-41be-9702-4e34b4b8804d' class='xr-var-data-in' type='checkbox'><label for='data-cce2f1a0-4508-41be-9702-4e34b4b8804d' title='Show/Hide data repr'><svg class='icon xr-icon-database'><use xlink:href='#icon-database'></use></svg></label><div class='xr-var-attrs'><dl class='xr-attrs'><dt><span>axis :</span></dt><dd>T</dd><dt><span>long_name :</span></dt><dd>time</dd><dt><span>standard_name :</span></dt><dd>time</dd></dl></div><div class='xr-var-data'><pre>array([&#x27;2002-01-22T00:00:00.000000000&#x27;, &#x27;2002-02-12T00:00:00.000000000&#x27;,\n",
       "       &#x27;2002-02-13T00:00:00.000000000&#x27;, ..., &#x27;2014-11-19T00:00:00.000000000&#x27;,\n",
       "       &#x27;2014-11-20T00:00:00.000000000&#x27;, &#x27;2014-12-11T00:00:00.000000000&#x27;],\n",
       "      dtype=&#x27;datetime64[ns]&#x27;)</pre></div></li></ul></div></li><li class='xr-section-item'><input id='section-8b9f6b4d-0684-4865-b075-810a710b04d3' class='xr-section-summary-in' type='checkbox'  checked><label for='section-8b9f6b4d-0684-4865-b075-810a710b04d3' class='xr-section-summary' >Data variables: <span>(2)</span></label><div class='xr-section-inline-details'></div><div class='xr-section-details'><ul class='xr-var-list'><li class='xr-var-item'><div class='xr-var-name'><span>day</span></div><div class='xr-var-dims'>(time, latitude, longitude)</div><div class='xr-var-dtype'>float64</div><div class='xr-var-preview xr-preview'>0.524 nan 0.486 ... nan 0.53 0.36</div><input id='attrs-7be3a5dc-447f-40f5-86d5-2767838a9f0d' class='xr-var-attrs-in' type='checkbox' ><label for='attrs-7be3a5dc-447f-40f5-86d5-2767838a9f0d' title='Show/Hide attributes'><svg class='icon xr-icon-file-text2'><use xlink:href='#icon-file-text2'></use></svg></label><input id='data-ade87d1e-d9b9-49b1-91f0-7c791e640aee' class='xr-var-data-in' type='checkbox'><label for='data-ade87d1e-d9b9-49b1-91f0-7c791e640aee' title='Show/Hide data repr'><svg class='icon xr-icon-database'><use xlink:href='#icon-database'></use></svg></label><div class='xr-var-attrs'><dl class='xr-attrs'><dt><span>description :</span></dt><dd>Zooplankton carbon weight by cube meter of sea water during the day</dd><dt><span>units :</span></dt><dd>mg/m3</dd></dl></div><div class='xr-var-data'><pre>array([[[0.524     ]],\n",
       "\n",
       "       [[       nan]],\n",
       "\n",
       "       [[0.486     ]],\n",
       "\n",
       "       [[1.09      ]],\n",
       "\n",
       "       [[       nan]],\n",
       "\n",
       "       [[0.952     ]],\n",
       "\n",
       "       [[       nan]],\n",
       "\n",
       "       [[       nan]],\n",
       "\n",
       "       [[1.6       ]],\n",
       "\n",
       "       [[       nan]],\n",
       "\n",
       "...\n",
       "\n",
       "       [[1.556     ]],\n",
       "\n",
       "       [[       nan]],\n",
       "\n",
       "       [[1.94      ]],\n",
       "\n",
       "       [[       nan]],\n",
       "\n",
       "       [[0.858     ]],\n",
       "\n",
       "       [[0.616     ]],\n",
       "\n",
       "       [[0.748     ]],\n",
       "\n",
       "       [[       nan]],\n",
       "\n",
       "       [[0.53      ]],\n",
       "\n",
       "       [[0.36      ]]])</pre></div></li><li class='xr-var-item'><div class='xr-var-name'><span>night</span></div><div class='xr-var-dims'>(time, latitude, longitude)</div><div class='xr-var-dtype'>float64</div><div class='xr-var-preview xr-preview'>1.318 1.572 nan ... 0.8 nan 1.134</div><input id='attrs-251560c3-97c1-4233-a3d8-6e4372466809' class='xr-var-attrs-in' type='checkbox' ><label for='attrs-251560c3-97c1-4233-a3d8-6e4372466809' title='Show/Hide attributes'><svg class='icon xr-icon-file-text2'><use xlink:href='#icon-file-text2'></use></svg></label><input id='data-7fe887b2-2624-4c34-8095-f4b3e9607ba5' class='xr-var-data-in' type='checkbox'><label for='data-7fe887b2-2624-4c34-8095-f4b3e9607ba5' title='Show/Hide data repr'><svg class='icon xr-icon-database'><use xlink:href='#icon-database'></use></svg></label><div class='xr-var-attrs'><dl class='xr-attrs'><dt><span>description :</span></dt><dd>Zooplankton carbon weight by cube meter of sea water at night</dd><dt><span>units :</span></dt><dd>mg/m3</dd></dl></div><div class='xr-var-data'><pre>array([[[1.318     ]],\n",
       "\n",
       "       [[1.572     ]],\n",
       "\n",
       "       [[       nan]],\n",
       "\n",
       "       [[       nan]],\n",
       "\n",
       "       [[1.288     ]],\n",
       "\n",
       "       [[0.98      ]],\n",
       "\n",
       "       [[2.002     ]],\n",
       "\n",
       "       [[2.07      ]],\n",
       "\n",
       "       [[       nan]],\n",
       "\n",
       "       [[0.904     ]],\n",
       "\n",
       "...\n",
       "\n",
       "       [[       nan]],\n",
       "\n",
       "       [[       nan]],\n",
       "\n",
       "       [[       nan]],\n",
       "\n",
       "       [[1.688     ]],\n",
       "\n",
       "       [[       nan]],\n",
       "\n",
       "       [[1.11      ]],\n",
       "\n",
       "       [[1.198     ]],\n",
       "\n",
       "       [[0.8       ]],\n",
       "\n",
       "       [[       nan]],\n",
       "\n",
       "       [[1.134     ]]])</pre></div></li></ul></div></li><li class='xr-section-item'><input id='section-56491de3-5fc3-4123-b9a2-af73fc1fb0d4' class='xr-section-summary-in' type='checkbox'  ><label for='section-56491de3-5fc3-4123-b9a2-af73fc1fb0d4' class='xr-section-summary' >Indexes: <span>(3)</span></label><div class='xr-section-inline-details'></div><div class='xr-section-details'><ul class='xr-var-list'><li class='xr-var-item'><div class='xr-index-name'><div>latitude</div></div><div class='xr-index-preview'>PandasIndex</div><input type='checkbox' disabled/><label></label><input id='index-e9c5d3cd-1848-48c7-9741-5c29cde90d20' class='xr-index-data-in' type='checkbox'/><label for='index-e9c5d3cd-1848-48c7-9741-5c29cde90d20' title='Show/Hide index repr'><svg class='icon xr-icon-database'><use xlink:href='#icon-database'></use></svg></label><div class='xr-index-data'><pre>PandasIndex(Index([31.6], dtype=&#x27;float64&#x27;, name=&#x27;latitude&#x27;))</pre></div></li><li class='xr-var-item'><div class='xr-index-name'><div>longitude</div></div><div class='xr-index-preview'>PandasIndex</div><input type='checkbox' disabled/><label></label><input id='index-77140314-eea7-4042-b3d1-8f1e1d02a2cd' class='xr-index-data-in' type='checkbox'/><label for='index-77140314-eea7-4042-b3d1-8f1e1d02a2cd' title='Show/Hide index repr'><svg class='icon xr-icon-database'><use xlink:href='#icon-database'></use></svg></label><div class='xr-index-data'><pre>PandasIndex(Index([-64.2], dtype=&#x27;float64&#x27;, name=&#x27;longitude&#x27;))</pre></div></li><li class='xr-var-item'><div class='xr-index-name'><div>time</div></div><div class='xr-index-preview'>PandasIndex</div><input type='checkbox' disabled/><label></label><input id='index-ad525262-6272-445c-80d5-88b74bc34f87' class='xr-index-data-in' type='checkbox'/><label for='index-ad525262-6272-445c-80d5-88b74bc34f87' title='Show/Hide index repr'><svg class='icon xr-icon-database'><use xlink:href='#icon-database'></use></svg></label><div class='xr-index-data'><pre>PandasIndex(DatetimeIndex([&#x27;2002-01-22&#x27;, &#x27;2002-02-12&#x27;, &#x27;2002-02-13&#x27;, &#x27;2002-02-27&#x27;,\n",
       "               &#x27;2002-02-28&#x27;, &#x27;2002-03-07&#x27;, &#x27;2002-03-19&#x27;, &#x27;2002-04-03&#x27;,\n",
       "               &#x27;2002-04-04&#x27;, &#x27;2002-04-15&#x27;,\n",
       "               ...\n",
       "               &#x27;2014-06-12&#x27;, &#x27;2014-07-09&#x27;, &#x27;2014-07-10&#x27;, &#x27;2014-08-19&#x27;,\n",
       "               &#x27;2014-08-20&#x27;, &#x27;2014-09-13&#x27;, &#x27;2014-10-28&#x27;, &#x27;2014-11-19&#x27;,\n",
       "               &#x27;2014-11-20&#x27;, &#x27;2014-12-11&#x27;],\n",
       "              dtype=&#x27;datetime64[ns]&#x27;, name=&#x27;time&#x27;, length=254, freq=None))</pre></div></li></ul></div></li><li class='xr-section-item'><input id='section-2f7d9874-cb67-4a76-99c3-7d59c74dd820' class='xr-section-summary-in' type='checkbox'  checked><label for='section-2f7d9874-cb67-4a76-99c3-7d59c74dd820' class='xr-section-summary' >Attributes: <span>(3)</span></label><div class='xr-section-inline-details'></div><div class='xr-section-details'><dl class='xr-attrs'><dt><span>creation date :</span></dt><dd>2025-03-31T16:35:10.270720</dd><dt><span>layer :</span></dt><dd>epipelagic</dd><dt><span>station :</span></dt><dd>Bats</dd></dl></div></li></ul></div></div>"
      ],
      "text/plain": [
       "<xarray.Dataset> Size: 6kB\n",
       "Dimensions:    (time: 254, latitude: 1, longitude: 1)\n",
       "Coordinates:\n",
       "  * latitude   (latitude) float64 8B 31.6\n",
       "  * longitude  (longitude) float64 8B -64.2\n",
       "  * time       (time) datetime64[ns] 2kB 2002-01-22 2002-02-12 ... 2014-12-11\n",
       "Data variables:\n",
       "    day        (time, latitude, longitude) float64 2kB 0.524 nan ... 0.53 0.36\n",
       "    night      (time, latitude, longitude) float64 2kB 1.318 1.572 ... nan 1.134\n",
       "Attributes:\n",
       "    creation date:  2025-03-31T16:35:10.270720\n",
       "    layer:          epipelagic\n",
       "    station:        Bats"
      ]
     },
     "execution_count": 21,
     "metadata": {},
     "output_type": "execute_result"
    }
   ],
   "source": [
    "data = xr.combine_by_coords(\n",
    "    [data.sel(latitude=[lat], longitude=[lon]) for lat, lon in positions.itertuples(index=False)]\n",
    ")\n",
    "data"
   ]
  },
  {
   "cell_type": "code",
   "execution_count": 22,
   "metadata": {},
   "outputs": [
    {
     "data": {
      "application/vnd.plotly.v1+json": {
       "config": {
        "plotlyServerURL": "https://plot.ly"
       },
       "data": [
        {
         "hovertemplate": "count=%{marker.color}<br>latitude=%{lat}<br>longitude=%{lon}<extra></extra>",
         "lat": [
          31.6
         ],
         "legendgroup": "",
         "lon": [
          -64.2
         ],
         "marker": {
          "color": [
           24
          ],
          "coloraxis": "coloraxis",
          "size": [
           24
          ],
          "sizemode": "area",
          "sizeref": 0.06
         },
         "mode": "markers",
         "name": "",
         "showlegend": false,
         "subplot": "map",
         "type": "scattermap"
        }
       ],
       "layout": {
        "coloraxis": {
         "colorbar": {
          "title": {
           "text": "count"
          }
         },
         "colorscale": [
          [
           0,
           "#0d0887"
          ],
          [
           0.1111111111111111,
           "#46039f"
          ],
          [
           0.2222222222222222,
           "#7201a8"
          ],
          [
           0.3333333333333333,
           "#9c179e"
          ],
          [
           0.4444444444444444,
           "#bd3786"
          ],
          [
           0.5555555555555556,
           "#d8576b"
          ],
          [
           0.6666666666666666,
           "#ed7953"
          ],
          [
           0.7777777777777778,
           "#fb9f3a"
          ],
          [
           0.8888888888888888,
           "#fdca26"
          ],
          [
           1,
           "#f0f921"
          ]
         ]
        },
        "height": 600,
        "legend": {
         "itemsizing": "constant",
         "tracegroupgap": 0
        },
        "map": {
         "center": {
          "lat": 31.6,
          "lon": -64.2
         },
         "domain": {
          "x": [
           0,
           1
          ],
          "y": [
           0,
           1
          ]
         },
         "zoom": 8
        },
        "mapbox": {
         "center": {
          "lat": 31.6,
          "lon": -64.2
         },
         "zoom": 8
        },
        "margin": {
         "t": 60
        },
        "template": {
         "data": {
          "bar": [
           {
            "error_x": {
             "color": "#2a3f5f"
            },
            "error_y": {
             "color": "#2a3f5f"
            },
            "marker": {
             "line": {
              "color": "#E5ECF6",
              "width": 0.5
             },
             "pattern": {
              "fillmode": "overlay",
              "size": 10,
              "solidity": 0.2
             }
            },
            "type": "bar"
           }
          ],
          "barpolar": [
           {
            "marker": {
             "line": {
              "color": "#E5ECF6",
              "width": 0.5
             },
             "pattern": {
              "fillmode": "overlay",
              "size": 10,
              "solidity": 0.2
             }
            },
            "type": "barpolar"
           }
          ],
          "carpet": [
           {
            "aaxis": {
             "endlinecolor": "#2a3f5f",
             "gridcolor": "white",
             "linecolor": "white",
             "minorgridcolor": "white",
             "startlinecolor": "#2a3f5f"
            },
            "baxis": {
             "endlinecolor": "#2a3f5f",
             "gridcolor": "white",
             "linecolor": "white",
             "minorgridcolor": "white",
             "startlinecolor": "#2a3f5f"
            },
            "type": "carpet"
           }
          ],
          "choropleth": [
           {
            "colorbar": {
             "outlinewidth": 0,
             "ticks": ""
            },
            "type": "choropleth"
           }
          ],
          "contour": [
           {
            "colorbar": {
             "outlinewidth": 0,
             "ticks": ""
            },
            "colorscale": [
             [
              0,
              "#0d0887"
             ],
             [
              0.1111111111111111,
              "#46039f"
             ],
             [
              0.2222222222222222,
              "#7201a8"
             ],
             [
              0.3333333333333333,
              "#9c179e"
             ],
             [
              0.4444444444444444,
              "#bd3786"
             ],
             [
              0.5555555555555556,
              "#d8576b"
             ],
             [
              0.6666666666666666,
              "#ed7953"
             ],
             [
              0.7777777777777778,
              "#fb9f3a"
             ],
             [
              0.8888888888888888,
              "#fdca26"
             ],
             [
              1,
              "#f0f921"
             ]
            ],
            "type": "contour"
           }
          ],
          "contourcarpet": [
           {
            "colorbar": {
             "outlinewidth": 0,
             "ticks": ""
            },
            "type": "contourcarpet"
           }
          ],
          "heatmap": [
           {
            "colorbar": {
             "outlinewidth": 0,
             "ticks": ""
            },
            "colorscale": [
             [
              0,
              "#0d0887"
             ],
             [
              0.1111111111111111,
              "#46039f"
             ],
             [
              0.2222222222222222,
              "#7201a8"
             ],
             [
              0.3333333333333333,
              "#9c179e"
             ],
             [
              0.4444444444444444,
              "#bd3786"
             ],
             [
              0.5555555555555556,
              "#d8576b"
             ],
             [
              0.6666666666666666,
              "#ed7953"
             ],
             [
              0.7777777777777778,
              "#fb9f3a"
             ],
             [
              0.8888888888888888,
              "#fdca26"
             ],
             [
              1,
              "#f0f921"
             ]
            ],
            "type": "heatmap"
           }
          ],
          "heatmapgl": [
           {
            "colorbar": {
             "outlinewidth": 0,
             "ticks": ""
            },
            "colorscale": [
             [
              0,
              "#0d0887"
             ],
             [
              0.1111111111111111,
              "#46039f"
             ],
             [
              0.2222222222222222,
              "#7201a8"
             ],
             [
              0.3333333333333333,
              "#9c179e"
             ],
             [
              0.4444444444444444,
              "#bd3786"
             ],
             [
              0.5555555555555556,
              "#d8576b"
             ],
             [
              0.6666666666666666,
              "#ed7953"
             ],
             [
              0.7777777777777778,
              "#fb9f3a"
             ],
             [
              0.8888888888888888,
              "#fdca26"
             ],
             [
              1,
              "#f0f921"
             ]
            ],
            "type": "heatmapgl"
           }
          ],
          "histogram": [
           {
            "marker": {
             "pattern": {
              "fillmode": "overlay",
              "size": 10,
              "solidity": 0.2
             }
            },
            "type": "histogram"
           }
          ],
          "histogram2d": [
           {
            "colorbar": {
             "outlinewidth": 0,
             "ticks": ""
            },
            "colorscale": [
             [
              0,
              "#0d0887"
             ],
             [
              0.1111111111111111,
              "#46039f"
             ],
             [
              0.2222222222222222,
              "#7201a8"
             ],
             [
              0.3333333333333333,
              "#9c179e"
             ],
             [
              0.4444444444444444,
              "#bd3786"
             ],
             [
              0.5555555555555556,
              "#d8576b"
             ],
             [
              0.6666666666666666,
              "#ed7953"
             ],
             [
              0.7777777777777778,
              "#fb9f3a"
             ],
             [
              0.8888888888888888,
              "#fdca26"
             ],
             [
              1,
              "#f0f921"
             ]
            ],
            "type": "histogram2d"
           }
          ],
          "histogram2dcontour": [
           {
            "colorbar": {
             "outlinewidth": 0,
             "ticks": ""
            },
            "colorscale": [
             [
              0,
              "#0d0887"
             ],
             [
              0.1111111111111111,
              "#46039f"
             ],
             [
              0.2222222222222222,
              "#7201a8"
             ],
             [
              0.3333333333333333,
              "#9c179e"
             ],
             [
              0.4444444444444444,
              "#bd3786"
             ],
             [
              0.5555555555555556,
              "#d8576b"
             ],
             [
              0.6666666666666666,
              "#ed7953"
             ],
             [
              0.7777777777777778,
              "#fb9f3a"
             ],
             [
              0.8888888888888888,
              "#fdca26"
             ],
             [
              1,
              "#f0f921"
             ]
            ],
            "type": "histogram2dcontour"
           }
          ],
          "mesh3d": [
           {
            "colorbar": {
             "outlinewidth": 0,
             "ticks": ""
            },
            "type": "mesh3d"
           }
          ],
          "parcoords": [
           {
            "line": {
             "colorbar": {
              "outlinewidth": 0,
              "ticks": ""
             }
            },
            "type": "parcoords"
           }
          ],
          "pie": [
           {
            "automargin": true,
            "type": "pie"
           }
          ],
          "scatter": [
           {
            "fillpattern": {
             "fillmode": "overlay",
             "size": 10,
             "solidity": 0.2
            },
            "type": "scatter"
           }
          ],
          "scatter3d": [
           {
            "line": {
             "colorbar": {
              "outlinewidth": 0,
              "ticks": ""
             }
            },
            "marker": {
             "colorbar": {
              "outlinewidth": 0,
              "ticks": ""
             }
            },
            "type": "scatter3d"
           }
          ],
          "scattercarpet": [
           {
            "marker": {
             "colorbar": {
              "outlinewidth": 0,
              "ticks": ""
             }
            },
            "type": "scattercarpet"
           }
          ],
          "scattergeo": [
           {
            "marker": {
             "colorbar": {
              "outlinewidth": 0,
              "ticks": ""
             }
            },
            "type": "scattergeo"
           }
          ],
          "scattergl": [
           {
            "marker": {
             "colorbar": {
              "outlinewidth": 0,
              "ticks": ""
             }
            },
            "type": "scattergl"
           }
          ],
          "scattermapbox": [
           {
            "marker": {
             "colorbar": {
              "outlinewidth": 0,
              "ticks": ""
             }
            },
            "type": "scattermapbox"
           }
          ],
          "scatterpolar": [
           {
            "marker": {
             "colorbar": {
              "outlinewidth": 0,
              "ticks": ""
             }
            },
            "type": "scatterpolar"
           }
          ],
          "scatterpolargl": [
           {
            "marker": {
             "colorbar": {
              "outlinewidth": 0,
              "ticks": ""
             }
            },
            "type": "scatterpolargl"
           }
          ],
          "scatterternary": [
           {
            "marker": {
             "colorbar": {
              "outlinewidth": 0,
              "ticks": ""
             }
            },
            "type": "scatterternary"
           }
          ],
          "surface": [
           {
            "colorbar": {
             "outlinewidth": 0,
             "ticks": ""
            },
            "colorscale": [
             [
              0,
              "#0d0887"
             ],
             [
              0.1111111111111111,
              "#46039f"
             ],
             [
              0.2222222222222222,
              "#7201a8"
             ],
             [
              0.3333333333333333,
              "#9c179e"
             ],
             [
              0.4444444444444444,
              "#bd3786"
             ],
             [
              0.5555555555555556,
              "#d8576b"
             ],
             [
              0.6666666666666666,
              "#ed7953"
             ],
             [
              0.7777777777777778,
              "#fb9f3a"
             ],
             [
              0.8888888888888888,
              "#fdca26"
             ],
             [
              1,
              "#f0f921"
             ]
            ],
            "type": "surface"
           }
          ],
          "table": [
           {
            "cells": {
             "fill": {
              "color": "#EBF0F8"
             },
             "line": {
              "color": "white"
             }
            },
            "header": {
             "fill": {
              "color": "#C8D4E3"
             },
             "line": {
              "color": "white"
             }
            },
            "type": "table"
           }
          ]
         },
         "layout": {
          "annotationdefaults": {
           "arrowcolor": "#2a3f5f",
           "arrowhead": 0,
           "arrowwidth": 1
          },
          "autotypenumbers": "strict",
          "coloraxis": {
           "colorbar": {
            "outlinewidth": 0,
            "ticks": ""
           }
          },
          "colorscale": {
           "diverging": [
            [
             0,
             "#8e0152"
            ],
            [
             0.1,
             "#c51b7d"
            ],
            [
             0.2,
             "#de77ae"
            ],
            [
             0.3,
             "#f1b6da"
            ],
            [
             0.4,
             "#fde0ef"
            ],
            [
             0.5,
             "#f7f7f7"
            ],
            [
             0.6,
             "#e6f5d0"
            ],
            [
             0.7,
             "#b8e186"
            ],
            [
             0.8,
             "#7fbc41"
            ],
            [
             0.9,
             "#4d9221"
            ],
            [
             1,
             "#276419"
            ]
           ],
           "sequential": [
            [
             0,
             "#0d0887"
            ],
            [
             0.1111111111111111,
             "#46039f"
            ],
            [
             0.2222222222222222,
             "#7201a8"
            ],
            [
             0.3333333333333333,
             "#9c179e"
            ],
            [
             0.4444444444444444,
             "#bd3786"
            ],
            [
             0.5555555555555556,
             "#d8576b"
            ],
            [
             0.6666666666666666,
             "#ed7953"
            ],
            [
             0.7777777777777778,
             "#fb9f3a"
            ],
            [
             0.8888888888888888,
             "#fdca26"
            ],
            [
             1,
             "#f0f921"
            ]
           ],
           "sequentialminus": [
            [
             0,
             "#0d0887"
            ],
            [
             0.1111111111111111,
             "#46039f"
            ],
            [
             0.2222222222222222,
             "#7201a8"
            ],
            [
             0.3333333333333333,
             "#9c179e"
            ],
            [
             0.4444444444444444,
             "#bd3786"
            ],
            [
             0.5555555555555556,
             "#d8576b"
            ],
            [
             0.6666666666666666,
             "#ed7953"
            ],
            [
             0.7777777777777778,
             "#fb9f3a"
            ],
            [
             0.8888888888888888,
             "#fdca26"
            ],
            [
             1,
             "#f0f921"
            ]
           ]
          },
          "colorway": [
           "#636efa",
           "#EF553B",
           "#00cc96",
           "#ab63fa",
           "#FFA15A",
           "#19d3f3",
           "#FF6692",
           "#B6E880",
           "#FF97FF",
           "#FECB52"
          ],
          "font": {
           "color": "#2a3f5f"
          },
          "geo": {
           "bgcolor": "white",
           "lakecolor": "white",
           "landcolor": "#E5ECF6",
           "showlakes": true,
           "showland": true,
           "subunitcolor": "white"
          },
          "hoverlabel": {
           "align": "left"
          },
          "hovermode": "closest",
          "mapbox": {
           "style": "light"
          },
          "paper_bgcolor": "white",
          "plot_bgcolor": "#E5ECF6",
          "polar": {
           "angularaxis": {
            "gridcolor": "white",
            "linecolor": "white",
            "ticks": ""
           },
           "bgcolor": "#E5ECF6",
           "radialaxis": {
            "gridcolor": "white",
            "linecolor": "white",
            "ticks": ""
           }
          },
          "scene": {
           "xaxis": {
            "backgroundcolor": "#E5ECF6",
            "gridcolor": "white",
            "gridwidth": 2,
            "linecolor": "white",
            "showbackground": true,
            "ticks": "",
            "zerolinecolor": "white"
           },
           "yaxis": {
            "backgroundcolor": "#E5ECF6",
            "gridcolor": "white",
            "gridwidth": 2,
            "linecolor": "white",
            "showbackground": true,
            "ticks": "",
            "zerolinecolor": "white"
           },
           "zaxis": {
            "backgroundcolor": "#E5ECF6",
            "gridcolor": "white",
            "gridwidth": 2,
            "linecolor": "white",
            "showbackground": true,
            "ticks": "",
            "zerolinecolor": "white"
           }
          },
          "shapedefaults": {
           "line": {
            "color": "#2a3f5f"
           }
          },
          "ternary": {
           "aaxis": {
            "gridcolor": "white",
            "linecolor": "white",
            "ticks": ""
           },
           "baxis": {
            "gridcolor": "white",
            "linecolor": "white",
            "ticks": ""
           },
           "bgcolor": "#E5ECF6",
           "caxis": {
            "gridcolor": "white",
            "linecolor": "white",
            "ticks": ""
           }
          },
          "title": {
           "x": 0.05
          },
          "xaxis": {
           "automargin": true,
           "gridcolor": "white",
           "linecolor": "white",
           "ticks": "",
           "title": {
            "standoff": 15
           },
           "zerolinecolor": "white",
           "zerolinewidth": 2
          },
          "yaxis": {
           "automargin": true,
           "gridcolor": "white",
           "linecolor": "white",
           "ticks": "",
           "title": {
            "standoff": 15
           },
           "zerolinecolor": "white",
           "zerolinewidth": 2
          }
         }
        },
        "title": {
         "text": "Average number of observations at Bats locations with at least 2 observations by year"
        },
        "width": 800
       }
      }
     },
     "metadata": {},
     "output_type": "display_data"
    }
   ],
   "source": [
    "px.scatter_map(\n",
    "    (data.count(\"time\") / NB_YEARS).to_dataframe().sum(axis=1).rename(\"count\").reset_index().query(\"count > 0\"),\n",
    "    lon=\"longitude\",\n",
    "    lat=\"latitude\",\n",
    "    color=\"count\",\n",
    "    size=\"count\",\n",
    ").update_layout(\n",
    "    title=f\"Average number of observations at {station} locations with at least {MINIMUM_OBS_BY_YEAR} observations by year\",\n",
    "    height=600,\n",
    "    width=800,\n",
    ")  # .update_traces(marker={\"size\": 20})"
   ]
  },
  {
   "cell_type": "markdown",
   "metadata": {},
   "source": [
    "## Group data by month\n"
   ]
  },
  {
   "cell_type": "code",
   "execution_count": 23,
   "metadata": {},
   "outputs": [
    {
     "data": {
      "text/html": [
       "<div><svg style=\"position: absolute; width: 0; height: 0; overflow: hidden\">\n",
       "<defs>\n",
       "<symbol id=\"icon-database\" viewBox=\"0 0 32 32\">\n",
       "<path d=\"M16 0c-8.837 0-16 2.239-16 5v4c0 2.761 7.163 5 16 5s16-2.239 16-5v-4c0-2.761-7.163-5-16-5z\"></path>\n",
       "<path d=\"M16 17c-8.837 0-16-2.239-16-5v6c0 2.761 7.163 5 16 5s16-2.239 16-5v-6c0 2.761-7.163 5-16 5z\"></path>\n",
       "<path d=\"M16 26c-8.837 0-16-2.239-16-5v6c0 2.761 7.163 5 16 5s16-2.239 16-5v-6c0 2.761-7.163 5-16 5z\"></path>\n",
       "</symbol>\n",
       "<symbol id=\"icon-file-text2\" viewBox=\"0 0 32 32\">\n",
       "<path d=\"M28.681 7.159c-0.694-0.947-1.662-2.053-2.724-3.116s-2.169-2.030-3.116-2.724c-1.612-1.182-2.393-1.319-2.841-1.319h-15.5c-1.378 0-2.5 1.121-2.5 2.5v27c0 1.378 1.122 2.5 2.5 2.5h23c1.378 0 2.5-1.122 2.5-2.5v-19.5c0-0.448-0.137-1.23-1.319-2.841zM24.543 5.457c0.959 0.959 1.712 1.825 2.268 2.543h-4.811v-4.811c0.718 0.556 1.584 1.309 2.543 2.268zM28 29.5c0 0.271-0.229 0.5-0.5 0.5h-23c-0.271 0-0.5-0.229-0.5-0.5v-27c0-0.271 0.229-0.5 0.5-0.5 0 0 15.499-0 15.5 0v7c0 0.552 0.448 1 1 1h7v19.5z\"></path>\n",
       "<path d=\"M23 26h-14c-0.552 0-1-0.448-1-1s0.448-1 1-1h14c0.552 0 1 0.448 1 1s-0.448 1-1 1z\"></path>\n",
       "<path d=\"M23 22h-14c-0.552 0-1-0.448-1-1s0.448-1 1-1h14c0.552 0 1 0.448 1 1s-0.448 1-1 1z\"></path>\n",
       "<path d=\"M23 18h-14c-0.552 0-1-0.448-1-1s0.448-1 1-1h14c0.552 0 1 0.448 1 1s-0.448 1-1 1z\"></path>\n",
       "</symbol>\n",
       "</defs>\n",
       "</svg>\n",
       "<style>/* CSS stylesheet for displaying xarray objects in jupyterlab.\n",
       " *\n",
       " */\n",
       "\n",
       ":root {\n",
       "  --xr-font-color0: var(--jp-content-font-color0, rgba(0, 0, 0, 1));\n",
       "  --xr-font-color2: var(--jp-content-font-color2, rgba(0, 0, 0, 0.54));\n",
       "  --xr-font-color3: var(--jp-content-font-color3, rgba(0, 0, 0, 0.38));\n",
       "  --xr-border-color: var(--jp-border-color2, #e0e0e0);\n",
       "  --xr-disabled-color: var(--jp-layout-color3, #bdbdbd);\n",
       "  --xr-background-color: var(--jp-layout-color0, white);\n",
       "  --xr-background-color-row-even: var(--jp-layout-color1, white);\n",
       "  --xr-background-color-row-odd: var(--jp-layout-color2, #eeeeee);\n",
       "}\n",
       "\n",
       "html[theme=\"dark\"],\n",
       "html[data-theme=\"dark\"],\n",
       "body[data-theme=\"dark\"],\n",
       "body.vscode-dark {\n",
       "  --xr-font-color0: rgba(255, 255, 255, 1);\n",
       "  --xr-font-color2: rgba(255, 255, 255, 0.54);\n",
       "  --xr-font-color3: rgba(255, 255, 255, 0.38);\n",
       "  --xr-border-color: #1f1f1f;\n",
       "  --xr-disabled-color: #515151;\n",
       "  --xr-background-color: #111111;\n",
       "  --xr-background-color-row-even: #111111;\n",
       "  --xr-background-color-row-odd: #313131;\n",
       "}\n",
       "\n",
       ".xr-wrap {\n",
       "  display: block !important;\n",
       "  min-width: 300px;\n",
       "  max-width: 700px;\n",
       "}\n",
       "\n",
       ".xr-text-repr-fallback {\n",
       "  /* fallback to plain text repr when CSS is not injected (untrusted notebook) */\n",
       "  display: none;\n",
       "}\n",
       "\n",
       ".xr-header {\n",
       "  padding-top: 6px;\n",
       "  padding-bottom: 6px;\n",
       "  margin-bottom: 4px;\n",
       "  border-bottom: solid 1px var(--xr-border-color);\n",
       "}\n",
       "\n",
       ".xr-header > div,\n",
       ".xr-header > ul {\n",
       "  display: inline;\n",
       "  margin-top: 0;\n",
       "  margin-bottom: 0;\n",
       "}\n",
       "\n",
       ".xr-obj-type,\n",
       ".xr-array-name {\n",
       "  margin-left: 2px;\n",
       "  margin-right: 10px;\n",
       "}\n",
       "\n",
       ".xr-obj-type {\n",
       "  color: var(--xr-font-color2);\n",
       "}\n",
       "\n",
       ".xr-sections {\n",
       "  padding-left: 0 !important;\n",
       "  display: grid;\n",
       "  grid-template-columns: 150px auto auto 1fr 0 20px 0 20px;\n",
       "}\n",
       "\n",
       ".xr-section-item {\n",
       "  display: contents;\n",
       "}\n",
       "\n",
       ".xr-section-item input {\n",
       "  display: inline-block;\n",
       "  opacity: 0;\n",
       "  height: 0;\n",
       "}\n",
       "\n",
       ".xr-section-item input + label {\n",
       "  color: var(--xr-disabled-color);\n",
       "}\n",
       "\n",
       ".xr-section-item input:enabled + label {\n",
       "  cursor: pointer;\n",
       "  color: var(--xr-font-color2);\n",
       "}\n",
       "\n",
       ".xr-section-item input:focus + label {\n",
       "  border: 2px solid var(--xr-font-color0);\n",
       "}\n",
       "\n",
       ".xr-section-item input:enabled + label:hover {\n",
       "  color: var(--xr-font-color0);\n",
       "}\n",
       "\n",
       ".xr-section-summary {\n",
       "  grid-column: 1;\n",
       "  color: var(--xr-font-color2);\n",
       "  font-weight: 500;\n",
       "}\n",
       "\n",
       ".xr-section-summary > span {\n",
       "  display: inline-block;\n",
       "  padding-left: 0.5em;\n",
       "}\n",
       "\n",
       ".xr-section-summary-in:disabled + label {\n",
       "  color: var(--xr-font-color2);\n",
       "}\n",
       "\n",
       ".xr-section-summary-in + label:before {\n",
       "  display: inline-block;\n",
       "  content: \"►\";\n",
       "  font-size: 11px;\n",
       "  width: 15px;\n",
       "  text-align: center;\n",
       "}\n",
       "\n",
       ".xr-section-summary-in:disabled + label:before {\n",
       "  color: var(--xr-disabled-color);\n",
       "}\n",
       "\n",
       ".xr-section-summary-in:checked + label:before {\n",
       "  content: \"▼\";\n",
       "}\n",
       "\n",
       ".xr-section-summary-in:checked + label > span {\n",
       "  display: none;\n",
       "}\n",
       "\n",
       ".xr-section-summary,\n",
       ".xr-section-inline-details {\n",
       "  padding-top: 4px;\n",
       "  padding-bottom: 4px;\n",
       "}\n",
       "\n",
       ".xr-section-inline-details {\n",
       "  grid-column: 2 / -1;\n",
       "}\n",
       "\n",
       ".xr-section-details {\n",
       "  display: none;\n",
       "  grid-column: 1 / -1;\n",
       "  margin-bottom: 5px;\n",
       "}\n",
       "\n",
       ".xr-section-summary-in:checked ~ .xr-section-details {\n",
       "  display: contents;\n",
       "}\n",
       "\n",
       ".xr-array-wrap {\n",
       "  grid-column: 1 / -1;\n",
       "  display: grid;\n",
       "  grid-template-columns: 20px auto;\n",
       "}\n",
       "\n",
       ".xr-array-wrap > label {\n",
       "  grid-column: 1;\n",
       "  vertical-align: top;\n",
       "}\n",
       "\n",
       ".xr-preview {\n",
       "  color: var(--xr-font-color3);\n",
       "}\n",
       "\n",
       ".xr-array-preview,\n",
       ".xr-array-data {\n",
       "  padding: 0 5px !important;\n",
       "  grid-column: 2;\n",
       "}\n",
       "\n",
       ".xr-array-data,\n",
       ".xr-array-in:checked ~ .xr-array-preview {\n",
       "  display: none;\n",
       "}\n",
       "\n",
       ".xr-array-in:checked ~ .xr-array-data,\n",
       ".xr-array-preview {\n",
       "  display: inline-block;\n",
       "}\n",
       "\n",
       ".xr-dim-list {\n",
       "  display: inline-block !important;\n",
       "  list-style: none;\n",
       "  padding: 0 !important;\n",
       "  margin: 0;\n",
       "}\n",
       "\n",
       ".xr-dim-list li {\n",
       "  display: inline-block;\n",
       "  padding: 0;\n",
       "  margin: 0;\n",
       "}\n",
       "\n",
       ".xr-dim-list:before {\n",
       "  content: \"(\";\n",
       "}\n",
       "\n",
       ".xr-dim-list:after {\n",
       "  content: \")\";\n",
       "}\n",
       "\n",
       ".xr-dim-list li:not(:last-child):after {\n",
       "  content: \",\";\n",
       "  padding-right: 5px;\n",
       "}\n",
       "\n",
       ".xr-has-index {\n",
       "  font-weight: bold;\n",
       "}\n",
       "\n",
       ".xr-var-list,\n",
       ".xr-var-item {\n",
       "  display: contents;\n",
       "}\n",
       "\n",
       ".xr-var-item > div,\n",
       ".xr-var-item label,\n",
       ".xr-var-item > .xr-var-name span {\n",
       "  background-color: var(--xr-background-color-row-even);\n",
       "  margin-bottom: 0;\n",
       "}\n",
       "\n",
       ".xr-var-item > .xr-var-name:hover span {\n",
       "  padding-right: 5px;\n",
       "}\n",
       "\n",
       ".xr-var-list > li:nth-child(odd) > div,\n",
       ".xr-var-list > li:nth-child(odd) > label,\n",
       ".xr-var-list > li:nth-child(odd) > .xr-var-name span {\n",
       "  background-color: var(--xr-background-color-row-odd);\n",
       "}\n",
       "\n",
       ".xr-var-name {\n",
       "  grid-column: 1;\n",
       "}\n",
       "\n",
       ".xr-var-dims {\n",
       "  grid-column: 2;\n",
       "}\n",
       "\n",
       ".xr-var-dtype {\n",
       "  grid-column: 3;\n",
       "  text-align: right;\n",
       "  color: var(--xr-font-color2);\n",
       "}\n",
       "\n",
       ".xr-var-preview {\n",
       "  grid-column: 4;\n",
       "}\n",
       "\n",
       ".xr-index-preview {\n",
       "  grid-column: 2 / 5;\n",
       "  color: var(--xr-font-color2);\n",
       "}\n",
       "\n",
       ".xr-var-name,\n",
       ".xr-var-dims,\n",
       ".xr-var-dtype,\n",
       ".xr-preview,\n",
       ".xr-attrs dt {\n",
       "  white-space: nowrap;\n",
       "  overflow: hidden;\n",
       "  text-overflow: ellipsis;\n",
       "  padding-right: 10px;\n",
       "}\n",
       "\n",
       ".xr-var-name:hover,\n",
       ".xr-var-dims:hover,\n",
       ".xr-var-dtype:hover,\n",
       ".xr-attrs dt:hover {\n",
       "  overflow: visible;\n",
       "  width: auto;\n",
       "  z-index: 1;\n",
       "}\n",
       "\n",
       ".xr-var-attrs,\n",
       ".xr-var-data,\n",
       ".xr-index-data {\n",
       "  display: none;\n",
       "  background-color: var(--xr-background-color) !important;\n",
       "  padding-bottom: 5px !important;\n",
       "}\n",
       "\n",
       ".xr-var-attrs-in:checked ~ .xr-var-attrs,\n",
       ".xr-var-data-in:checked ~ .xr-var-data,\n",
       ".xr-index-data-in:checked ~ .xr-index-data {\n",
       "  display: block;\n",
       "}\n",
       "\n",
       ".xr-var-data > table {\n",
       "  float: right;\n",
       "}\n",
       "\n",
       ".xr-var-name span,\n",
       ".xr-var-data,\n",
       ".xr-index-name div,\n",
       ".xr-index-data,\n",
       ".xr-attrs {\n",
       "  padding-left: 25px !important;\n",
       "}\n",
       "\n",
       ".xr-attrs,\n",
       ".xr-var-attrs,\n",
       ".xr-var-data,\n",
       ".xr-index-data {\n",
       "  grid-column: 1 / -1;\n",
       "}\n",
       "\n",
       "dl.xr-attrs {\n",
       "  padding: 0;\n",
       "  margin: 0;\n",
       "  display: grid;\n",
       "  grid-template-columns: 125px auto;\n",
       "}\n",
       "\n",
       ".xr-attrs dt,\n",
       ".xr-attrs dd {\n",
       "  padding: 0;\n",
       "  margin: 0;\n",
       "  float: left;\n",
       "  padding-right: 10px;\n",
       "  width: auto;\n",
       "}\n",
       "\n",
       ".xr-attrs dt {\n",
       "  font-weight: normal;\n",
       "  grid-column: 1;\n",
       "}\n",
       "\n",
       ".xr-attrs dt:hover span {\n",
       "  display: inline-block;\n",
       "  background: var(--xr-background-color);\n",
       "  padding-right: 10px;\n",
       "}\n",
       "\n",
       ".xr-attrs dd {\n",
       "  grid-column: 2;\n",
       "  white-space: pre-wrap;\n",
       "  word-break: break-all;\n",
       "}\n",
       "\n",
       ".xr-icon-database,\n",
       ".xr-icon-file-text2,\n",
       ".xr-no-icon {\n",
       "  display: inline-block;\n",
       "  vertical-align: middle;\n",
       "  width: 1em;\n",
       "  height: 1.5em !important;\n",
       "  stroke-width: 0;\n",
       "  stroke: currentColor;\n",
       "  fill: currentColor;\n",
       "}\n",
       "</style><pre class='xr-text-repr-fallback'>&lt;xarray.Dataset&gt; Size: 304B\n",
       "Dimensions:    (month: 12, latitude: 1, longitude: 1)\n",
       "Coordinates:\n",
       "  * latitude   (latitude) float64 8B 31.6\n",
       "  * longitude  (longitude) float64 8B -64.2\n",
       "  * month      (month) int64 96B 1 2 3 4 5 6 7 8 9 10 11 12\n",
       "Data variables:\n",
       "    day        (month, latitude, longitude) float64 96B 0.9883 1.069 ... 0.6111\n",
       "    night      (month, latitude, longitude) float64 96B 1.28 2.027 ... 1.176\n",
       "Attributes:\n",
       "    creation date:  2025-03-31T16:35:10.270720\n",
       "    layer:          epipelagic\n",
       "    station:        Bats</pre><div class='xr-wrap' style='display:none'><div class='xr-header'><div class='xr-obj-type'>xarray.Dataset</div></div><ul class='xr-sections'><li class='xr-section-item'><input id='section-73554a36-b37b-4bce-a148-bc68ef158129' class='xr-section-summary-in' type='checkbox' disabled ><label for='section-73554a36-b37b-4bce-a148-bc68ef158129' class='xr-section-summary'  title='Expand/collapse section'>Dimensions:</label><div class='xr-section-inline-details'><ul class='xr-dim-list'><li><span class='xr-has-index'>month</span>: 12</li><li><span class='xr-has-index'>latitude</span>: 1</li><li><span class='xr-has-index'>longitude</span>: 1</li></ul></div><div class='xr-section-details'></div></li><li class='xr-section-item'><input id='section-fbd8b5db-fc5e-483e-93f3-81df35c7ae8c' class='xr-section-summary-in' type='checkbox'  checked><label for='section-fbd8b5db-fc5e-483e-93f3-81df35c7ae8c' class='xr-section-summary' >Coordinates: <span>(3)</span></label><div class='xr-section-inline-details'></div><div class='xr-section-details'><ul class='xr-var-list'><li class='xr-var-item'><div class='xr-var-name'><span class='xr-has-index'>latitude</span></div><div class='xr-var-dims'>(latitude)</div><div class='xr-var-dtype'>float64</div><div class='xr-var-preview xr-preview'>31.6</div><input id='attrs-913686b4-3a82-48f8-b2c0-2ec2d7674292' class='xr-var-attrs-in' type='checkbox' ><label for='attrs-913686b4-3a82-48f8-b2c0-2ec2d7674292' title='Show/Hide attributes'><svg class='icon xr-icon-file-text2'><use xlink:href='#icon-file-text2'></use></svg></label><input id='data-4ce897ad-512e-48ca-b4af-79c74fb615a8' class='xr-var-data-in' type='checkbox'><label for='data-4ce897ad-512e-48ca-b4af-79c74fb615a8' title='Show/Hide data repr'><svg class='icon xr-icon-database'><use xlink:href='#icon-database'></use></svg></label><div class='xr-var-attrs'><dl class='xr-attrs'><dt><span>axis :</span></dt><dd>Y</dd><dt><span>long_name :</span></dt><dd>Latitude</dd><dt><span>standard_name :</span></dt><dd>latitude</dd><dt><span>units :</span></dt><dd>degrees_north</dd></dl></div><div class='xr-var-data'><pre>array([31.6])</pre></div></li><li class='xr-var-item'><div class='xr-var-name'><span class='xr-has-index'>longitude</span></div><div class='xr-var-dims'>(longitude)</div><div class='xr-var-dtype'>float64</div><div class='xr-var-preview xr-preview'>-64.2</div><input id='attrs-8c7f9fe3-14a8-41fc-8489-9d3c5c3849b1' class='xr-var-attrs-in' type='checkbox' ><label for='attrs-8c7f9fe3-14a8-41fc-8489-9d3c5c3849b1' title='Show/Hide attributes'><svg class='icon xr-icon-file-text2'><use xlink:href='#icon-file-text2'></use></svg></label><input id='data-37f16403-7bad-4541-97eb-5bd400a8056a' class='xr-var-data-in' type='checkbox'><label for='data-37f16403-7bad-4541-97eb-5bd400a8056a' title='Show/Hide data repr'><svg class='icon xr-icon-database'><use xlink:href='#icon-database'></use></svg></label><div class='xr-var-attrs'><dl class='xr-attrs'><dt><span>axis :</span></dt><dd>X</dd><dt><span>long_name :</span></dt><dd>Longitude</dd><dt><span>standard_name :</span></dt><dd>longitude</dd><dt><span>units :</span></dt><dd>degrees_east</dd></dl></div><div class='xr-var-data'><pre>array([-64.2])</pre></div></li><li class='xr-var-item'><div class='xr-var-name'><span class='xr-has-index'>month</span></div><div class='xr-var-dims'>(month)</div><div class='xr-var-dtype'>int64</div><div class='xr-var-preview xr-preview'>1 2 3 4 5 6 7 8 9 10 11 12</div><input id='attrs-32b23fa5-8e15-4280-999b-be7c60aed106' class='xr-var-attrs-in' type='checkbox' disabled><label for='attrs-32b23fa5-8e15-4280-999b-be7c60aed106' title='Show/Hide attributes'><svg class='icon xr-icon-file-text2'><use xlink:href='#icon-file-text2'></use></svg></label><input id='data-a69704aa-d43c-4c72-93e3-dfcc844faa2a' class='xr-var-data-in' type='checkbox'><label for='data-a69704aa-d43c-4c72-93e3-dfcc844faa2a' title='Show/Hide data repr'><svg class='icon xr-icon-database'><use xlink:href='#icon-database'></use></svg></label><div class='xr-var-attrs'><dl class='xr-attrs'></dl></div><div class='xr-var-data'><pre>array([ 1,  2,  3,  4,  5,  6,  7,  8,  9, 10, 11, 12])</pre></div></li></ul></div></li><li class='xr-section-item'><input id='section-3cd1ec21-1fe9-4bd1-a01b-8ea8abe5d691' class='xr-section-summary-in' type='checkbox'  checked><label for='section-3cd1ec21-1fe9-4bd1-a01b-8ea8abe5d691' class='xr-section-summary' >Data variables: <span>(2)</span></label><div class='xr-section-inline-details'></div><div class='xr-section-details'><ul class='xr-var-list'><li class='xr-var-item'><div class='xr-var-name'><span>day</span></div><div class='xr-var-dims'>(month, latitude, longitude)</div><div class='xr-var-dtype'>float64</div><div class='xr-var-preview xr-preview'>0.9883 1.069 ... 0.7358 0.6111</div><input id='attrs-09408dc7-1aa7-4084-85df-07c89b914d84' class='xr-var-attrs-in' type='checkbox' ><label for='attrs-09408dc7-1aa7-4084-85df-07c89b914d84' title='Show/Hide attributes'><svg class='icon xr-icon-file-text2'><use xlink:href='#icon-file-text2'></use></svg></label><input id='data-d6955b03-0ccc-42be-8411-55fc3f335aed' class='xr-var-data-in' type='checkbox'><label for='data-d6955b03-0ccc-42be-8411-55fc3f335aed' title='Show/Hide data repr'><svg class='icon xr-icon-database'><use xlink:href='#icon-database'></use></svg></label><div class='xr-var-attrs'><dl class='xr-attrs'><dt><span>description :</span></dt><dd>Zooplankton carbon weight by cube meter of sea water during the day</dd><dt><span>units :</span></dt><dd>mg/m3</dd></dl></div><div class='xr-var-data'><pre>array([[[0.98828571]],\n",
       "\n",
       "       [[1.06944444]],\n",
       "\n",
       "       [[1.268     ]],\n",
       "\n",
       "       [[0.9876    ]],\n",
       "\n",
       "       [[1.07727273]],\n",
       "\n",
       "       [[0.96653333]],\n",
       "\n",
       "       [[0.99553846]],\n",
       "\n",
       "       [[0.88245455]],\n",
       "\n",
       "       [[0.85818182]],\n",
       "\n",
       "       [[0.80036364]],\n",
       "\n",
       "       [[0.73584615]],\n",
       "\n",
       "       [[0.61109091]]])</pre></div></li><li class='xr-var-item'><div class='xr-var-name'><span>night</span></div><div class='xr-var-dims'>(month, latitude, longitude)</div><div class='xr-var-dtype'>float64</div><div class='xr-var-preview xr-preview'>1.28 2.027 2.048 ... 1.086 1.176</div><input id='attrs-c6c64b17-b79a-482e-9a0f-4ea762562306' class='xr-var-attrs-in' type='checkbox' ><label for='attrs-c6c64b17-b79a-482e-9a0f-4ea762562306' title='Show/Hide attributes'><svg class='icon xr-icon-file-text2'><use xlink:href='#icon-file-text2'></use></svg></label><input id='data-7dc7a061-4adb-4ba9-b6ff-cb210b1a6aed' class='xr-var-data-in' type='checkbox'><label for='data-7dc7a061-4adb-4ba9-b6ff-cb210b1a6aed' title='Show/Hide data repr'><svg class='icon xr-icon-database'><use xlink:href='#icon-database'></use></svg></label><div class='xr-var-attrs'><dl class='xr-attrs'><dt><span>description :</span></dt><dd>Zooplankton carbon weight by cube meter of sea water at night</dd><dt><span>units :</span></dt><dd>mg/m3</dd></dl></div><div class='xr-var-data'><pre>array([[[1.28      ]],\n",
       "\n",
       "       [[2.02741176]],\n",
       "\n",
       "       [[2.048     ]],\n",
       "\n",
       "       [[1.91989474]],\n",
       "\n",
       "       [[2.1385    ]],\n",
       "\n",
       "       [[1.1482735 ]],\n",
       "\n",
       "       [[1.60015385]],\n",
       "\n",
       "       [[1.4865    ]],\n",
       "\n",
       "       [[1.44672727]],\n",
       "\n",
       "       [[1.24727273]],\n",
       "\n",
       "       [[1.08618182]],\n",
       "\n",
       "       [[1.176     ]]])</pre></div></li></ul></div></li><li class='xr-section-item'><input id='section-1616b618-a544-4989-a4b8-ec79ddd932b0' class='xr-section-summary-in' type='checkbox'  ><label for='section-1616b618-a544-4989-a4b8-ec79ddd932b0' class='xr-section-summary' >Indexes: <span>(3)</span></label><div class='xr-section-inline-details'></div><div class='xr-section-details'><ul class='xr-var-list'><li class='xr-var-item'><div class='xr-index-name'><div>latitude</div></div><div class='xr-index-preview'>PandasIndex</div><input type='checkbox' disabled/><label></label><input id='index-2d892ffb-d9ee-4cde-8bdc-67ab3aeeb070' class='xr-index-data-in' type='checkbox'/><label for='index-2d892ffb-d9ee-4cde-8bdc-67ab3aeeb070' title='Show/Hide index repr'><svg class='icon xr-icon-database'><use xlink:href='#icon-database'></use></svg></label><div class='xr-index-data'><pre>PandasIndex(Index([31.6], dtype=&#x27;float64&#x27;, name=&#x27;latitude&#x27;))</pre></div></li><li class='xr-var-item'><div class='xr-index-name'><div>longitude</div></div><div class='xr-index-preview'>PandasIndex</div><input type='checkbox' disabled/><label></label><input id='index-3588befa-8801-4869-90a9-623e6042ea50' class='xr-index-data-in' type='checkbox'/><label for='index-3588befa-8801-4869-90a9-623e6042ea50' title='Show/Hide index repr'><svg class='icon xr-icon-database'><use xlink:href='#icon-database'></use></svg></label><div class='xr-index-data'><pre>PandasIndex(Index([-64.2], dtype=&#x27;float64&#x27;, name=&#x27;longitude&#x27;))</pre></div></li><li class='xr-var-item'><div class='xr-index-name'><div>month</div></div><div class='xr-index-preview'>PandasIndex</div><input type='checkbox' disabled/><label></label><input id='index-0b318dcb-c561-4907-96d6-9a4b5a2f5de9' class='xr-index-data-in' type='checkbox'/><label for='index-0b318dcb-c561-4907-96d6-9a4b5a2f5de9' title='Show/Hide index repr'><svg class='icon xr-icon-database'><use xlink:href='#icon-database'></use></svg></label><div class='xr-index-data'><pre>PandasIndex(Index([1, 2, 3, 4, 5, 6, 7, 8, 9, 10, 11, 12], dtype=&#x27;int64&#x27;, name=&#x27;month&#x27;))</pre></div></li></ul></div></li><li class='xr-section-item'><input id='section-3bb40660-08ff-4c5b-8d00-8914bc3f1fba' class='xr-section-summary-in' type='checkbox'  checked><label for='section-3bb40660-08ff-4c5b-8d00-8914bc3f1fba' class='xr-section-summary' >Attributes: <span>(3)</span></label><div class='xr-section-inline-details'></div><div class='xr-section-details'><dl class='xr-attrs'><dt><span>creation date :</span></dt><dd>2025-03-31T16:35:10.270720</dd><dt><span>layer :</span></dt><dd>epipelagic</dd><dt><span>station :</span></dt><dd>Bats</dd></dl></div></li></ul></div></div>"
      ],
      "text/plain": [
       "<xarray.Dataset> Size: 304B\n",
       "Dimensions:    (month: 12, latitude: 1, longitude: 1)\n",
       "Coordinates:\n",
       "  * latitude   (latitude) float64 8B 31.6\n",
       "  * longitude  (longitude) float64 8B -64.2\n",
       "  * month      (month) int64 96B 1 2 3 4 5 6 7 8 9 10 11 12\n",
       "Data variables:\n",
       "    day        (month, latitude, longitude) float64 96B 0.9883 1.069 ... 0.6111\n",
       "    night      (month, latitude, longitude) float64 96B 1.28 2.027 ... 1.176\n",
       "Attributes:\n",
       "    creation date:  2025-03-31T16:35:10.270720\n",
       "    layer:          epipelagic\n",
       "    station:        Bats"
      ]
     },
     "execution_count": 23,
     "metadata": {},
     "output_type": "execute_result"
    }
   ],
   "source": [
    "grouped_data = data.groupby(\"time.month\").mean().reindex(month=np.arange(1, 13))\n",
    "grouped_data"
   ]
  },
  {
   "cell_type": "code",
   "execution_count": 24,
   "metadata": {},
   "outputs": [
    {
     "data": {
      "application/vnd.plotly.v1+json": {
       "config": {
        "plotlyServerURL": "https://plot.ly"
       },
       "data": [
        {
         "alignmentgroup": "True",
         "boxpoints": "all",
         "hovertemplate": "is_day=day<br>month=%{x}<br>biomass=%{y}<extra></extra>",
         "legendgroup": "day",
         "marker": {
          "color": "#636efa"
         },
         "name": "day",
         "notched": false,
         "offsetgroup": "day",
         "orientation": "v",
         "showlegend": true,
         "type": "box",
         "x": [
          1,
          2,
          3,
          4,
          5,
          6,
          7,
          8,
          9,
          10,
          11,
          12
         ],
         "x0": " ",
         "xaxis": "x2",
         "y": [
          0.9882857142857142,
          1.0694444444444444,
          1.268,
          0.9875999999999998,
          1.0772727272727274,
          0.9665333333333337,
          0.9955384615384614,
          0.8824545454545455,
          0.8581818181818182,
          0.8003636363636364,
          0.7358461538461539,
          0.6110909090909091
         ],
         "y0": " ",
         "yaxis": "y2"
        },
        {
         "alignmentgroup": "True",
         "boxpoints": "all",
         "hovertemplate": "is_day=night<br>month=%{x}<br>biomass=%{y}<extra></extra>",
         "legendgroup": "night",
         "marker": {
          "color": "#EF553B"
         },
         "name": "night",
         "notched": false,
         "offsetgroup": "night",
         "orientation": "v",
         "showlegend": true,
         "type": "box",
         "x": [
          1,
          2,
          3,
          4,
          5,
          6,
          7,
          8,
          9,
          10,
          11,
          12
         ],
         "x0": " ",
         "xaxis": "x",
         "y": [
          1.2800000000000002,
          2.0274117647058825,
          2.048,
          1.9198947368421053,
          2.1385,
          1.1482735042735042,
          1.600153846153846,
          1.4864999999999997,
          1.4467272727272729,
          1.2472727272727275,
          1.0861818181818181,
          1.1760000000000002
         ],
         "y0": " ",
         "yaxis": "y"
        }
       ],
       "layout": {
        "annotations": [
         {
          "font": {},
          "showarrow": false,
          "text": "is_day=night",
          "textangle": 90,
          "x": 0.98,
          "xanchor": "left",
          "xref": "paper",
          "y": 0.2425,
          "yanchor": "middle",
          "yref": "paper"
         },
         {
          "font": {},
          "showarrow": false,
          "text": "is_day=day",
          "textangle": 90,
          "x": 0.98,
          "xanchor": "left",
          "xref": "paper",
          "y": 0.7575000000000001,
          "yanchor": "middle",
          "yref": "paper"
         }
        ],
        "boxmode": "group",
        "height": 700,
        "legend": {
         "title": {
          "text": "is_day"
         },
         "tracegroupgap": 0
        },
        "template": {
         "data": {
          "bar": [
           {
            "error_x": {
             "color": "#2a3f5f"
            },
            "error_y": {
             "color": "#2a3f5f"
            },
            "marker": {
             "line": {
              "color": "#E5ECF6",
              "width": 0.5
             },
             "pattern": {
              "fillmode": "overlay",
              "size": 10,
              "solidity": 0.2
             }
            },
            "type": "bar"
           }
          ],
          "barpolar": [
           {
            "marker": {
             "line": {
              "color": "#E5ECF6",
              "width": 0.5
             },
             "pattern": {
              "fillmode": "overlay",
              "size": 10,
              "solidity": 0.2
             }
            },
            "type": "barpolar"
           }
          ],
          "carpet": [
           {
            "aaxis": {
             "endlinecolor": "#2a3f5f",
             "gridcolor": "white",
             "linecolor": "white",
             "minorgridcolor": "white",
             "startlinecolor": "#2a3f5f"
            },
            "baxis": {
             "endlinecolor": "#2a3f5f",
             "gridcolor": "white",
             "linecolor": "white",
             "minorgridcolor": "white",
             "startlinecolor": "#2a3f5f"
            },
            "type": "carpet"
           }
          ],
          "choropleth": [
           {
            "colorbar": {
             "outlinewidth": 0,
             "ticks": ""
            },
            "type": "choropleth"
           }
          ],
          "contour": [
           {
            "colorbar": {
             "outlinewidth": 0,
             "ticks": ""
            },
            "colorscale": [
             [
              0,
              "#0d0887"
             ],
             [
              0.1111111111111111,
              "#46039f"
             ],
             [
              0.2222222222222222,
              "#7201a8"
             ],
             [
              0.3333333333333333,
              "#9c179e"
             ],
             [
              0.4444444444444444,
              "#bd3786"
             ],
             [
              0.5555555555555556,
              "#d8576b"
             ],
             [
              0.6666666666666666,
              "#ed7953"
             ],
             [
              0.7777777777777778,
              "#fb9f3a"
             ],
             [
              0.8888888888888888,
              "#fdca26"
             ],
             [
              1,
              "#f0f921"
             ]
            ],
            "type": "contour"
           }
          ],
          "contourcarpet": [
           {
            "colorbar": {
             "outlinewidth": 0,
             "ticks": ""
            },
            "type": "contourcarpet"
           }
          ],
          "heatmap": [
           {
            "colorbar": {
             "outlinewidth": 0,
             "ticks": ""
            },
            "colorscale": [
             [
              0,
              "#0d0887"
             ],
             [
              0.1111111111111111,
              "#46039f"
             ],
             [
              0.2222222222222222,
              "#7201a8"
             ],
             [
              0.3333333333333333,
              "#9c179e"
             ],
             [
              0.4444444444444444,
              "#bd3786"
             ],
             [
              0.5555555555555556,
              "#d8576b"
             ],
             [
              0.6666666666666666,
              "#ed7953"
             ],
             [
              0.7777777777777778,
              "#fb9f3a"
             ],
             [
              0.8888888888888888,
              "#fdca26"
             ],
             [
              1,
              "#f0f921"
             ]
            ],
            "type": "heatmap"
           }
          ],
          "heatmapgl": [
           {
            "colorbar": {
             "outlinewidth": 0,
             "ticks": ""
            },
            "colorscale": [
             [
              0,
              "#0d0887"
             ],
             [
              0.1111111111111111,
              "#46039f"
             ],
             [
              0.2222222222222222,
              "#7201a8"
             ],
             [
              0.3333333333333333,
              "#9c179e"
             ],
             [
              0.4444444444444444,
              "#bd3786"
             ],
             [
              0.5555555555555556,
              "#d8576b"
             ],
             [
              0.6666666666666666,
              "#ed7953"
             ],
             [
              0.7777777777777778,
              "#fb9f3a"
             ],
             [
              0.8888888888888888,
              "#fdca26"
             ],
             [
              1,
              "#f0f921"
             ]
            ],
            "type": "heatmapgl"
           }
          ],
          "histogram": [
           {
            "marker": {
             "pattern": {
              "fillmode": "overlay",
              "size": 10,
              "solidity": 0.2
             }
            },
            "type": "histogram"
           }
          ],
          "histogram2d": [
           {
            "colorbar": {
             "outlinewidth": 0,
             "ticks": ""
            },
            "colorscale": [
             [
              0,
              "#0d0887"
             ],
             [
              0.1111111111111111,
              "#46039f"
             ],
             [
              0.2222222222222222,
              "#7201a8"
             ],
             [
              0.3333333333333333,
              "#9c179e"
             ],
             [
              0.4444444444444444,
              "#bd3786"
             ],
             [
              0.5555555555555556,
              "#d8576b"
             ],
             [
              0.6666666666666666,
              "#ed7953"
             ],
             [
              0.7777777777777778,
              "#fb9f3a"
             ],
             [
              0.8888888888888888,
              "#fdca26"
             ],
             [
              1,
              "#f0f921"
             ]
            ],
            "type": "histogram2d"
           }
          ],
          "histogram2dcontour": [
           {
            "colorbar": {
             "outlinewidth": 0,
             "ticks": ""
            },
            "colorscale": [
             [
              0,
              "#0d0887"
             ],
             [
              0.1111111111111111,
              "#46039f"
             ],
             [
              0.2222222222222222,
              "#7201a8"
             ],
             [
              0.3333333333333333,
              "#9c179e"
             ],
             [
              0.4444444444444444,
              "#bd3786"
             ],
             [
              0.5555555555555556,
              "#d8576b"
             ],
             [
              0.6666666666666666,
              "#ed7953"
             ],
             [
              0.7777777777777778,
              "#fb9f3a"
             ],
             [
              0.8888888888888888,
              "#fdca26"
             ],
             [
              1,
              "#f0f921"
             ]
            ],
            "type": "histogram2dcontour"
           }
          ],
          "mesh3d": [
           {
            "colorbar": {
             "outlinewidth": 0,
             "ticks": ""
            },
            "type": "mesh3d"
           }
          ],
          "parcoords": [
           {
            "line": {
             "colorbar": {
              "outlinewidth": 0,
              "ticks": ""
             }
            },
            "type": "parcoords"
           }
          ],
          "pie": [
           {
            "automargin": true,
            "type": "pie"
           }
          ],
          "scatter": [
           {
            "fillpattern": {
             "fillmode": "overlay",
             "size": 10,
             "solidity": 0.2
            },
            "type": "scatter"
           }
          ],
          "scatter3d": [
           {
            "line": {
             "colorbar": {
              "outlinewidth": 0,
              "ticks": ""
             }
            },
            "marker": {
             "colorbar": {
              "outlinewidth": 0,
              "ticks": ""
             }
            },
            "type": "scatter3d"
           }
          ],
          "scattercarpet": [
           {
            "marker": {
             "colorbar": {
              "outlinewidth": 0,
              "ticks": ""
             }
            },
            "type": "scattercarpet"
           }
          ],
          "scattergeo": [
           {
            "marker": {
             "colorbar": {
              "outlinewidth": 0,
              "ticks": ""
             }
            },
            "type": "scattergeo"
           }
          ],
          "scattergl": [
           {
            "marker": {
             "colorbar": {
              "outlinewidth": 0,
              "ticks": ""
             }
            },
            "type": "scattergl"
           }
          ],
          "scattermapbox": [
           {
            "marker": {
             "colorbar": {
              "outlinewidth": 0,
              "ticks": ""
             }
            },
            "type": "scattermapbox"
           }
          ],
          "scatterpolar": [
           {
            "marker": {
             "colorbar": {
              "outlinewidth": 0,
              "ticks": ""
             }
            },
            "type": "scatterpolar"
           }
          ],
          "scatterpolargl": [
           {
            "marker": {
             "colorbar": {
              "outlinewidth": 0,
              "ticks": ""
             }
            },
            "type": "scatterpolargl"
           }
          ],
          "scatterternary": [
           {
            "marker": {
             "colorbar": {
              "outlinewidth": 0,
              "ticks": ""
             }
            },
            "type": "scatterternary"
           }
          ],
          "surface": [
           {
            "colorbar": {
             "outlinewidth": 0,
             "ticks": ""
            },
            "colorscale": [
             [
              0,
              "#0d0887"
             ],
             [
              0.1111111111111111,
              "#46039f"
             ],
             [
              0.2222222222222222,
              "#7201a8"
             ],
             [
              0.3333333333333333,
              "#9c179e"
             ],
             [
              0.4444444444444444,
              "#bd3786"
             ],
             [
              0.5555555555555556,
              "#d8576b"
             ],
             [
              0.6666666666666666,
              "#ed7953"
             ],
             [
              0.7777777777777778,
              "#fb9f3a"
             ],
             [
              0.8888888888888888,
              "#fdca26"
             ],
             [
              1,
              "#f0f921"
             ]
            ],
            "type": "surface"
           }
          ],
          "table": [
           {
            "cells": {
             "fill": {
              "color": "#EBF0F8"
             },
             "line": {
              "color": "white"
             }
            },
            "header": {
             "fill": {
              "color": "#C8D4E3"
             },
             "line": {
              "color": "white"
             }
            },
            "type": "table"
           }
          ]
         },
         "layout": {
          "annotationdefaults": {
           "arrowcolor": "#2a3f5f",
           "arrowhead": 0,
           "arrowwidth": 1
          },
          "autotypenumbers": "strict",
          "coloraxis": {
           "colorbar": {
            "outlinewidth": 0,
            "ticks": ""
           }
          },
          "colorscale": {
           "diverging": [
            [
             0,
             "#8e0152"
            ],
            [
             0.1,
             "#c51b7d"
            ],
            [
             0.2,
             "#de77ae"
            ],
            [
             0.3,
             "#f1b6da"
            ],
            [
             0.4,
             "#fde0ef"
            ],
            [
             0.5,
             "#f7f7f7"
            ],
            [
             0.6,
             "#e6f5d0"
            ],
            [
             0.7,
             "#b8e186"
            ],
            [
             0.8,
             "#7fbc41"
            ],
            [
             0.9,
             "#4d9221"
            ],
            [
             1,
             "#276419"
            ]
           ],
           "sequential": [
            [
             0,
             "#0d0887"
            ],
            [
             0.1111111111111111,
             "#46039f"
            ],
            [
             0.2222222222222222,
             "#7201a8"
            ],
            [
             0.3333333333333333,
             "#9c179e"
            ],
            [
             0.4444444444444444,
             "#bd3786"
            ],
            [
             0.5555555555555556,
             "#d8576b"
            ],
            [
             0.6666666666666666,
             "#ed7953"
            ],
            [
             0.7777777777777778,
             "#fb9f3a"
            ],
            [
             0.8888888888888888,
             "#fdca26"
            ],
            [
             1,
             "#f0f921"
            ]
           ],
           "sequentialminus": [
            [
             0,
             "#0d0887"
            ],
            [
             0.1111111111111111,
             "#46039f"
            ],
            [
             0.2222222222222222,
             "#7201a8"
            ],
            [
             0.3333333333333333,
             "#9c179e"
            ],
            [
             0.4444444444444444,
             "#bd3786"
            ],
            [
             0.5555555555555556,
             "#d8576b"
            ],
            [
             0.6666666666666666,
             "#ed7953"
            ],
            [
             0.7777777777777778,
             "#fb9f3a"
            ],
            [
             0.8888888888888888,
             "#fdca26"
            ],
            [
             1,
             "#f0f921"
            ]
           ]
          },
          "colorway": [
           "#636efa",
           "#EF553B",
           "#00cc96",
           "#ab63fa",
           "#FFA15A",
           "#19d3f3",
           "#FF6692",
           "#B6E880",
           "#FF97FF",
           "#FECB52"
          ],
          "font": {
           "color": "#2a3f5f"
          },
          "geo": {
           "bgcolor": "white",
           "lakecolor": "white",
           "landcolor": "#E5ECF6",
           "showlakes": true,
           "showland": true,
           "subunitcolor": "white"
          },
          "hoverlabel": {
           "align": "left"
          },
          "hovermode": "closest",
          "mapbox": {
           "style": "light"
          },
          "paper_bgcolor": "white",
          "plot_bgcolor": "#E5ECF6",
          "polar": {
           "angularaxis": {
            "gridcolor": "white",
            "linecolor": "white",
            "ticks": ""
           },
           "bgcolor": "#E5ECF6",
           "radialaxis": {
            "gridcolor": "white",
            "linecolor": "white",
            "ticks": ""
           }
          },
          "scene": {
           "xaxis": {
            "backgroundcolor": "#E5ECF6",
            "gridcolor": "white",
            "gridwidth": 2,
            "linecolor": "white",
            "showbackground": true,
            "ticks": "",
            "zerolinecolor": "white"
           },
           "yaxis": {
            "backgroundcolor": "#E5ECF6",
            "gridcolor": "white",
            "gridwidth": 2,
            "linecolor": "white",
            "showbackground": true,
            "ticks": "",
            "zerolinecolor": "white"
           },
           "zaxis": {
            "backgroundcolor": "#E5ECF6",
            "gridcolor": "white",
            "gridwidth": 2,
            "linecolor": "white",
            "showbackground": true,
            "ticks": "",
            "zerolinecolor": "white"
           }
          },
          "shapedefaults": {
           "line": {
            "color": "#2a3f5f"
           }
          },
          "ternary": {
           "aaxis": {
            "gridcolor": "white",
            "linecolor": "white",
            "ticks": ""
           },
           "baxis": {
            "gridcolor": "white",
            "linecolor": "white",
            "ticks": ""
           },
           "bgcolor": "#E5ECF6",
           "caxis": {
            "gridcolor": "white",
            "linecolor": "white",
            "ticks": ""
           }
          },
          "title": {
           "x": 0.05
          },
          "xaxis": {
           "automargin": true,
           "gridcolor": "white",
           "linecolor": "white",
           "ticks": "",
           "title": {
            "standoff": 15
           },
           "zerolinecolor": "white",
           "zerolinewidth": 2
          },
          "yaxis": {
           "automargin": true,
           "gridcolor": "white",
           "linecolor": "white",
           "ticks": "",
           "title": {
            "standoff": 15
           },
           "zerolinecolor": "white",
           "zerolinewidth": 2
          }
         }
        },
        "title": {
         "text": "Biomass at Bats by month"
        },
        "xaxis": {
         "anchor": "y",
         "domain": [
          0,
          0.98
         ],
         "ticktext": [
          "Jan",
          "Feb",
          "Mar",
          "Apr",
          "May",
          "Jun",
          "Jul",
          "Aug",
          "Sep",
          "Oct",
          "Nov",
          "Dec"
         ],
         "tickvals": [
          1,
          2,
          3,
          4,
          5,
          6,
          7,
          8,
          9,
          10,
          11,
          12
         ],
         "title": {
          "text": "month"
         }
        },
        "xaxis2": {
         "anchor": "y2",
         "domain": [
          0,
          0.98
         ],
         "matches": "x",
         "showticklabels": false,
         "ticktext": [
          "Jan",
          "Feb",
          "Mar",
          "Apr",
          "May",
          "Jun",
          "Jul",
          "Aug",
          "Sep",
          "Oct",
          "Nov",
          "Dec"
         ],
         "tickvals": [
          1,
          2,
          3,
          4,
          5,
          6,
          7,
          8,
          9,
          10,
          11,
          12
         ]
        },
        "yaxis": {
         "anchor": "x",
         "domain": [
          0,
          0.485
         ],
         "title": {
          "text": "biomass"
         }
        },
        "yaxis2": {
         "anchor": "x2",
         "domain": [
          0.515,
          1
         ],
         "matches": "y",
         "title": {
          "text": "biomass"
         }
        }
       }
      }
     },
     "metadata": {},
     "output_type": "display_data"
    }
   ],
   "source": [
    "px.box(\n",
    "    grouped_data.to_dataframe().stack().rename(\"biomass\").reset_index().rename(columns={\"level_3\": \"is_day\"}),\n",
    "    x=\"month\",\n",
    "    y=\"biomass\",\n",
    "    color=\"is_day\",\n",
    "    title=f\"Biomass at {station} by month\",\n",
    "    points=\"all\",\n",
    "    facet_row=\"is_day\",\n",
    ").update_xaxes(\n",
    "    tickvals=np.arange(1, 13),\n",
    "    ticktext=[\"Jan\", \"Feb\", \"Mar\", \"Apr\", \"May\", \"Jun\", \"Jul\", \"Aug\", \"Sep\", \"Oct\", \"Nov\", \"Dec\"],\n",
    ").update_layout(\n",
    "    height=700,\n",
    ").show()"
   ]
  },
  {
   "cell_type": "markdown",
   "metadata": {},
   "source": [
    "## Duplicating observation across the entire time period\n"
   ]
  },
  {
   "cell_type": "code",
   "execution_count": 25,
   "metadata": {},
   "outputs": [
    {
     "data": {
      "text/html": [
       "<div><svg style=\"position: absolute; width: 0; height: 0; overflow: hidden\">\n",
       "<defs>\n",
       "<symbol id=\"icon-database\" viewBox=\"0 0 32 32\">\n",
       "<path d=\"M16 0c-8.837 0-16 2.239-16 5v4c0 2.761 7.163 5 16 5s16-2.239 16-5v-4c0-2.761-7.163-5-16-5z\"></path>\n",
       "<path d=\"M16 17c-8.837 0-16-2.239-16-5v6c0 2.761 7.163 5 16 5s16-2.239 16-5v-6c0 2.761-7.163 5-16 5z\"></path>\n",
       "<path d=\"M16 26c-8.837 0-16-2.239-16-5v6c0 2.761 7.163 5 16 5s16-2.239 16-5v-6c0 2.761-7.163 5-16 5z\"></path>\n",
       "</symbol>\n",
       "<symbol id=\"icon-file-text2\" viewBox=\"0 0 32 32\">\n",
       "<path d=\"M28.681 7.159c-0.694-0.947-1.662-2.053-2.724-3.116s-2.169-2.030-3.116-2.724c-1.612-1.182-2.393-1.319-2.841-1.319h-15.5c-1.378 0-2.5 1.121-2.5 2.5v27c0 1.378 1.122 2.5 2.5 2.5h23c1.378 0 2.5-1.122 2.5-2.5v-19.5c0-0.448-0.137-1.23-1.319-2.841zM24.543 5.457c0.959 0.959 1.712 1.825 2.268 2.543h-4.811v-4.811c0.718 0.556 1.584 1.309 2.543 2.268zM28 29.5c0 0.271-0.229 0.5-0.5 0.5h-23c-0.271 0-0.5-0.229-0.5-0.5v-27c0-0.271 0.229-0.5 0.5-0.5 0 0 15.499-0 15.5 0v7c0 0.552 0.448 1 1 1h7v19.5z\"></path>\n",
       "<path d=\"M23 26h-14c-0.552 0-1-0.448-1-1s0.448-1 1-1h14c0.552 0 1 0.448 1 1s-0.448 1-1 1z\"></path>\n",
       "<path d=\"M23 22h-14c-0.552 0-1-0.448-1-1s0.448-1 1-1h14c0.552 0 1 0.448 1 1s-0.448 1-1 1z\"></path>\n",
       "<path d=\"M23 18h-14c-0.552 0-1-0.448-1-1s0.448-1 1-1h14c0.552 0 1 0.448 1 1s-0.448 1-1 1z\"></path>\n",
       "</symbol>\n",
       "</defs>\n",
       "</svg>\n",
       "<style>/* CSS stylesheet for displaying xarray objects in jupyterlab.\n",
       " *\n",
       " */\n",
       "\n",
       ":root {\n",
       "  --xr-font-color0: var(--jp-content-font-color0, rgba(0, 0, 0, 1));\n",
       "  --xr-font-color2: var(--jp-content-font-color2, rgba(0, 0, 0, 0.54));\n",
       "  --xr-font-color3: var(--jp-content-font-color3, rgba(0, 0, 0, 0.38));\n",
       "  --xr-border-color: var(--jp-border-color2, #e0e0e0);\n",
       "  --xr-disabled-color: var(--jp-layout-color3, #bdbdbd);\n",
       "  --xr-background-color: var(--jp-layout-color0, white);\n",
       "  --xr-background-color-row-even: var(--jp-layout-color1, white);\n",
       "  --xr-background-color-row-odd: var(--jp-layout-color2, #eeeeee);\n",
       "}\n",
       "\n",
       "html[theme=\"dark\"],\n",
       "html[data-theme=\"dark\"],\n",
       "body[data-theme=\"dark\"],\n",
       "body.vscode-dark {\n",
       "  --xr-font-color0: rgba(255, 255, 255, 1);\n",
       "  --xr-font-color2: rgba(255, 255, 255, 0.54);\n",
       "  --xr-font-color3: rgba(255, 255, 255, 0.38);\n",
       "  --xr-border-color: #1f1f1f;\n",
       "  --xr-disabled-color: #515151;\n",
       "  --xr-background-color: #111111;\n",
       "  --xr-background-color-row-even: #111111;\n",
       "  --xr-background-color-row-odd: #313131;\n",
       "}\n",
       "\n",
       ".xr-wrap {\n",
       "  display: block !important;\n",
       "  min-width: 300px;\n",
       "  max-width: 700px;\n",
       "}\n",
       "\n",
       ".xr-text-repr-fallback {\n",
       "  /* fallback to plain text repr when CSS is not injected (untrusted notebook) */\n",
       "  display: none;\n",
       "}\n",
       "\n",
       ".xr-header {\n",
       "  padding-top: 6px;\n",
       "  padding-bottom: 6px;\n",
       "  margin-bottom: 4px;\n",
       "  border-bottom: solid 1px var(--xr-border-color);\n",
       "}\n",
       "\n",
       ".xr-header > div,\n",
       ".xr-header > ul {\n",
       "  display: inline;\n",
       "  margin-top: 0;\n",
       "  margin-bottom: 0;\n",
       "}\n",
       "\n",
       ".xr-obj-type,\n",
       ".xr-array-name {\n",
       "  margin-left: 2px;\n",
       "  margin-right: 10px;\n",
       "}\n",
       "\n",
       ".xr-obj-type {\n",
       "  color: var(--xr-font-color2);\n",
       "}\n",
       "\n",
       ".xr-sections {\n",
       "  padding-left: 0 !important;\n",
       "  display: grid;\n",
       "  grid-template-columns: 150px auto auto 1fr 0 20px 0 20px;\n",
       "}\n",
       "\n",
       ".xr-section-item {\n",
       "  display: contents;\n",
       "}\n",
       "\n",
       ".xr-section-item input {\n",
       "  display: inline-block;\n",
       "  opacity: 0;\n",
       "  height: 0;\n",
       "}\n",
       "\n",
       ".xr-section-item input + label {\n",
       "  color: var(--xr-disabled-color);\n",
       "}\n",
       "\n",
       ".xr-section-item input:enabled + label {\n",
       "  cursor: pointer;\n",
       "  color: var(--xr-font-color2);\n",
       "}\n",
       "\n",
       ".xr-section-item input:focus + label {\n",
       "  border: 2px solid var(--xr-font-color0);\n",
       "}\n",
       "\n",
       ".xr-section-item input:enabled + label:hover {\n",
       "  color: var(--xr-font-color0);\n",
       "}\n",
       "\n",
       ".xr-section-summary {\n",
       "  grid-column: 1;\n",
       "  color: var(--xr-font-color2);\n",
       "  font-weight: 500;\n",
       "}\n",
       "\n",
       ".xr-section-summary > span {\n",
       "  display: inline-block;\n",
       "  padding-left: 0.5em;\n",
       "}\n",
       "\n",
       ".xr-section-summary-in:disabled + label {\n",
       "  color: var(--xr-font-color2);\n",
       "}\n",
       "\n",
       ".xr-section-summary-in + label:before {\n",
       "  display: inline-block;\n",
       "  content: \"►\";\n",
       "  font-size: 11px;\n",
       "  width: 15px;\n",
       "  text-align: center;\n",
       "}\n",
       "\n",
       ".xr-section-summary-in:disabled + label:before {\n",
       "  color: var(--xr-disabled-color);\n",
       "}\n",
       "\n",
       ".xr-section-summary-in:checked + label:before {\n",
       "  content: \"▼\";\n",
       "}\n",
       "\n",
       ".xr-section-summary-in:checked + label > span {\n",
       "  display: none;\n",
       "}\n",
       "\n",
       ".xr-section-summary,\n",
       ".xr-section-inline-details {\n",
       "  padding-top: 4px;\n",
       "  padding-bottom: 4px;\n",
       "}\n",
       "\n",
       ".xr-section-inline-details {\n",
       "  grid-column: 2 / -1;\n",
       "}\n",
       "\n",
       ".xr-section-details {\n",
       "  display: none;\n",
       "  grid-column: 1 / -1;\n",
       "  margin-bottom: 5px;\n",
       "}\n",
       "\n",
       ".xr-section-summary-in:checked ~ .xr-section-details {\n",
       "  display: contents;\n",
       "}\n",
       "\n",
       ".xr-array-wrap {\n",
       "  grid-column: 1 / -1;\n",
       "  display: grid;\n",
       "  grid-template-columns: 20px auto;\n",
       "}\n",
       "\n",
       ".xr-array-wrap > label {\n",
       "  grid-column: 1;\n",
       "  vertical-align: top;\n",
       "}\n",
       "\n",
       ".xr-preview {\n",
       "  color: var(--xr-font-color3);\n",
       "}\n",
       "\n",
       ".xr-array-preview,\n",
       ".xr-array-data {\n",
       "  padding: 0 5px !important;\n",
       "  grid-column: 2;\n",
       "}\n",
       "\n",
       ".xr-array-data,\n",
       ".xr-array-in:checked ~ .xr-array-preview {\n",
       "  display: none;\n",
       "}\n",
       "\n",
       ".xr-array-in:checked ~ .xr-array-data,\n",
       ".xr-array-preview {\n",
       "  display: inline-block;\n",
       "}\n",
       "\n",
       ".xr-dim-list {\n",
       "  display: inline-block !important;\n",
       "  list-style: none;\n",
       "  padding: 0 !important;\n",
       "  margin: 0;\n",
       "}\n",
       "\n",
       ".xr-dim-list li {\n",
       "  display: inline-block;\n",
       "  padding: 0;\n",
       "  margin: 0;\n",
       "}\n",
       "\n",
       ".xr-dim-list:before {\n",
       "  content: \"(\";\n",
       "}\n",
       "\n",
       ".xr-dim-list:after {\n",
       "  content: \")\";\n",
       "}\n",
       "\n",
       ".xr-dim-list li:not(:last-child):after {\n",
       "  content: \",\";\n",
       "  padding-right: 5px;\n",
       "}\n",
       "\n",
       ".xr-has-index {\n",
       "  font-weight: bold;\n",
       "}\n",
       "\n",
       ".xr-var-list,\n",
       ".xr-var-item {\n",
       "  display: contents;\n",
       "}\n",
       "\n",
       ".xr-var-item > div,\n",
       ".xr-var-item label,\n",
       ".xr-var-item > .xr-var-name span {\n",
       "  background-color: var(--xr-background-color-row-even);\n",
       "  margin-bottom: 0;\n",
       "}\n",
       "\n",
       ".xr-var-item > .xr-var-name:hover span {\n",
       "  padding-right: 5px;\n",
       "}\n",
       "\n",
       ".xr-var-list > li:nth-child(odd) > div,\n",
       ".xr-var-list > li:nth-child(odd) > label,\n",
       ".xr-var-list > li:nth-child(odd) > .xr-var-name span {\n",
       "  background-color: var(--xr-background-color-row-odd);\n",
       "}\n",
       "\n",
       ".xr-var-name {\n",
       "  grid-column: 1;\n",
       "}\n",
       "\n",
       ".xr-var-dims {\n",
       "  grid-column: 2;\n",
       "}\n",
       "\n",
       ".xr-var-dtype {\n",
       "  grid-column: 3;\n",
       "  text-align: right;\n",
       "  color: var(--xr-font-color2);\n",
       "}\n",
       "\n",
       ".xr-var-preview {\n",
       "  grid-column: 4;\n",
       "}\n",
       "\n",
       ".xr-index-preview {\n",
       "  grid-column: 2 / 5;\n",
       "  color: var(--xr-font-color2);\n",
       "}\n",
       "\n",
       ".xr-var-name,\n",
       ".xr-var-dims,\n",
       ".xr-var-dtype,\n",
       ".xr-preview,\n",
       ".xr-attrs dt {\n",
       "  white-space: nowrap;\n",
       "  overflow: hidden;\n",
       "  text-overflow: ellipsis;\n",
       "  padding-right: 10px;\n",
       "}\n",
       "\n",
       ".xr-var-name:hover,\n",
       ".xr-var-dims:hover,\n",
       ".xr-var-dtype:hover,\n",
       ".xr-attrs dt:hover {\n",
       "  overflow: visible;\n",
       "  width: auto;\n",
       "  z-index: 1;\n",
       "}\n",
       "\n",
       ".xr-var-attrs,\n",
       ".xr-var-data,\n",
       ".xr-index-data {\n",
       "  display: none;\n",
       "  background-color: var(--xr-background-color) !important;\n",
       "  padding-bottom: 5px !important;\n",
       "}\n",
       "\n",
       ".xr-var-attrs-in:checked ~ .xr-var-attrs,\n",
       ".xr-var-data-in:checked ~ .xr-var-data,\n",
       ".xr-index-data-in:checked ~ .xr-index-data {\n",
       "  display: block;\n",
       "}\n",
       "\n",
       ".xr-var-data > table {\n",
       "  float: right;\n",
       "}\n",
       "\n",
       ".xr-var-name span,\n",
       ".xr-var-data,\n",
       ".xr-index-name div,\n",
       ".xr-index-data,\n",
       ".xr-attrs {\n",
       "  padding-left: 25px !important;\n",
       "}\n",
       "\n",
       ".xr-attrs,\n",
       ".xr-var-attrs,\n",
       ".xr-var-data,\n",
       ".xr-index-data {\n",
       "  grid-column: 1 / -1;\n",
       "}\n",
       "\n",
       "dl.xr-attrs {\n",
       "  padding: 0;\n",
       "  margin: 0;\n",
       "  display: grid;\n",
       "  grid-template-columns: 125px auto;\n",
       "}\n",
       "\n",
       ".xr-attrs dt,\n",
       ".xr-attrs dd {\n",
       "  padding: 0;\n",
       "  margin: 0;\n",
       "  float: left;\n",
       "  padding-right: 10px;\n",
       "  width: auto;\n",
       "}\n",
       "\n",
       ".xr-attrs dt {\n",
       "  font-weight: normal;\n",
       "  grid-column: 1;\n",
       "}\n",
       "\n",
       ".xr-attrs dt:hover span {\n",
       "  display: inline-block;\n",
       "  background: var(--xr-background-color);\n",
       "  padding-right: 10px;\n",
       "}\n",
       "\n",
       ".xr-attrs dd {\n",
       "  grid-column: 2;\n",
       "  white-space: pre-wrap;\n",
       "  word-break: break-all;\n",
       "}\n",
       "\n",
       ".xr-icon-database,\n",
       ".xr-icon-file-text2,\n",
       ".xr-no-icon {\n",
       "  display: inline-block;\n",
       "  vertical-align: middle;\n",
       "  width: 1em;\n",
       "  height: 1.5em !important;\n",
       "  stroke-width: 0;\n",
       "  stroke: currentColor;\n",
       "  fill: currentColor;\n",
       "}\n",
       "</style><pre class='xr-text-repr-fallback'>&lt;xarray.Dataset&gt; Size: 4kB\n",
       "Dimensions:    (time: 156, latitude: 1, longitude: 1)\n",
       "Coordinates:\n",
       "  * time       (time) datetime64[ns] 1kB 2002-01-31 2002-02-28 ... 2014-12-31\n",
       "  * latitude   (latitude) float64 8B 31.6\n",
       "  * longitude  (longitude) float64 8B -64.2\n",
       "Data variables:\n",
       "    day        (time, latitude, longitude) float64 1kB 0.9883 1.069 ... 0.6111\n",
       "    night      (time, latitude, longitude) float64 1kB 1.28 2.027 ... 1.176\n",
       "Attributes:\n",
       "    desc:     Aggregated and smoothed observations using lowess filtre.</pre><div class='xr-wrap' style='display:none'><div class='xr-header'><div class='xr-obj-type'>xarray.Dataset</div></div><ul class='xr-sections'><li class='xr-section-item'><input id='section-e985c882-1e15-4a8b-a49a-073d0907cbab' class='xr-section-summary-in' type='checkbox' disabled ><label for='section-e985c882-1e15-4a8b-a49a-073d0907cbab' class='xr-section-summary'  title='Expand/collapse section'>Dimensions:</label><div class='xr-section-inline-details'><ul class='xr-dim-list'><li><span class='xr-has-index'>time</span>: 156</li><li><span class='xr-has-index'>latitude</span>: 1</li><li><span class='xr-has-index'>longitude</span>: 1</li></ul></div><div class='xr-section-details'></div></li><li class='xr-section-item'><input id='section-db6b08b8-17f6-4777-9bf8-1d4295dec9d6' class='xr-section-summary-in' type='checkbox'  checked><label for='section-db6b08b8-17f6-4777-9bf8-1d4295dec9d6' class='xr-section-summary' >Coordinates: <span>(3)</span></label><div class='xr-section-inline-details'></div><div class='xr-section-details'><ul class='xr-var-list'><li class='xr-var-item'><div class='xr-var-name'><span class='xr-has-index'>time</span></div><div class='xr-var-dims'>(time)</div><div class='xr-var-dtype'>datetime64[ns]</div><div class='xr-var-preview xr-preview'>2002-01-31 ... 2014-12-31</div><input id='attrs-8751a3bf-cb56-4416-9372-495808ff1184' class='xr-var-attrs-in' type='checkbox' disabled><label for='attrs-8751a3bf-cb56-4416-9372-495808ff1184' title='Show/Hide attributes'><svg class='icon xr-icon-file-text2'><use xlink:href='#icon-file-text2'></use></svg></label><input id='data-b59c71cb-a3be-49a1-8d53-20f21b95ae6f' class='xr-var-data-in' type='checkbox'><label for='data-b59c71cb-a3be-49a1-8d53-20f21b95ae6f' title='Show/Hide data repr'><svg class='icon xr-icon-database'><use xlink:href='#icon-database'></use></svg></label><div class='xr-var-attrs'><dl class='xr-attrs'></dl></div><div class='xr-var-data'><pre>array([&#x27;2002-01-31T00:00:00.000000000&#x27;, &#x27;2002-02-28T00:00:00.000000000&#x27;,\n",
       "       &#x27;2002-03-31T00:00:00.000000000&#x27;, &#x27;2002-04-30T00:00:00.000000000&#x27;,\n",
       "       &#x27;2002-05-31T00:00:00.000000000&#x27;, &#x27;2002-06-30T00:00:00.000000000&#x27;,\n",
       "       &#x27;2002-07-31T00:00:00.000000000&#x27;, &#x27;2002-08-31T00:00:00.000000000&#x27;,\n",
       "       &#x27;2002-09-30T00:00:00.000000000&#x27;, &#x27;2002-10-31T00:00:00.000000000&#x27;,\n",
       "       &#x27;2002-11-30T00:00:00.000000000&#x27;, &#x27;2002-12-31T00:00:00.000000000&#x27;,\n",
       "       &#x27;2003-01-31T00:00:00.000000000&#x27;, &#x27;2003-02-28T00:00:00.000000000&#x27;,\n",
       "       &#x27;2003-03-31T00:00:00.000000000&#x27;, &#x27;2003-04-30T00:00:00.000000000&#x27;,\n",
       "       &#x27;2003-05-31T00:00:00.000000000&#x27;, &#x27;2003-06-30T00:00:00.000000000&#x27;,\n",
       "       &#x27;2003-07-31T00:00:00.000000000&#x27;, &#x27;2003-08-31T00:00:00.000000000&#x27;,\n",
       "       &#x27;2003-09-30T00:00:00.000000000&#x27;, &#x27;2003-10-31T00:00:00.000000000&#x27;,\n",
       "       &#x27;2003-11-30T00:00:00.000000000&#x27;, &#x27;2003-12-31T00:00:00.000000000&#x27;,\n",
       "       &#x27;2004-01-31T00:00:00.000000000&#x27;, &#x27;2004-02-29T00:00:00.000000000&#x27;,\n",
       "       &#x27;2004-03-31T00:00:00.000000000&#x27;, &#x27;2004-04-30T00:00:00.000000000&#x27;,\n",
       "       &#x27;2004-05-31T00:00:00.000000000&#x27;, &#x27;2004-06-30T00:00:00.000000000&#x27;,\n",
       "       &#x27;2004-07-31T00:00:00.000000000&#x27;, &#x27;2004-08-31T00:00:00.000000000&#x27;,\n",
       "       &#x27;2004-09-30T00:00:00.000000000&#x27;, &#x27;2004-10-31T00:00:00.000000000&#x27;,\n",
       "       &#x27;2004-11-30T00:00:00.000000000&#x27;, &#x27;2004-12-31T00:00:00.000000000&#x27;,\n",
       "       &#x27;2005-01-31T00:00:00.000000000&#x27;, &#x27;2005-02-28T00:00:00.000000000&#x27;,\n",
       "       &#x27;2005-03-31T00:00:00.000000000&#x27;, &#x27;2005-04-30T00:00:00.000000000&#x27;,\n",
       "       &#x27;2005-05-31T00:00:00.000000000&#x27;, &#x27;2005-06-30T00:00:00.000000000&#x27;,\n",
       "       &#x27;2005-07-31T00:00:00.000000000&#x27;, &#x27;2005-08-31T00:00:00.000000000&#x27;,\n",
       "       &#x27;2005-09-30T00:00:00.000000000&#x27;, &#x27;2005-10-31T00:00:00.000000000&#x27;,\n",
       "       &#x27;2005-11-30T00:00:00.000000000&#x27;, &#x27;2005-12-31T00:00:00.000000000&#x27;,\n",
       "       &#x27;2006-01-31T00:00:00.000000000&#x27;, &#x27;2006-02-28T00:00:00.000000000&#x27;,\n",
       "       &#x27;2006-03-31T00:00:00.000000000&#x27;, &#x27;2006-04-30T00:00:00.000000000&#x27;,\n",
       "       &#x27;2006-05-31T00:00:00.000000000&#x27;, &#x27;2006-06-30T00:00:00.000000000&#x27;,\n",
       "       &#x27;2006-07-31T00:00:00.000000000&#x27;, &#x27;2006-08-31T00:00:00.000000000&#x27;,\n",
       "       &#x27;2006-09-30T00:00:00.000000000&#x27;, &#x27;2006-10-31T00:00:00.000000000&#x27;,\n",
       "       &#x27;2006-11-30T00:00:00.000000000&#x27;, &#x27;2006-12-31T00:00:00.000000000&#x27;,\n",
       "       &#x27;2007-01-31T00:00:00.000000000&#x27;, &#x27;2007-02-28T00:00:00.000000000&#x27;,\n",
       "       &#x27;2007-03-31T00:00:00.000000000&#x27;, &#x27;2007-04-30T00:00:00.000000000&#x27;,\n",
       "       &#x27;2007-05-31T00:00:00.000000000&#x27;, &#x27;2007-06-30T00:00:00.000000000&#x27;,\n",
       "       &#x27;2007-07-31T00:00:00.000000000&#x27;, &#x27;2007-08-31T00:00:00.000000000&#x27;,\n",
       "       &#x27;2007-09-30T00:00:00.000000000&#x27;, &#x27;2007-10-31T00:00:00.000000000&#x27;,\n",
       "       &#x27;2007-11-30T00:00:00.000000000&#x27;, &#x27;2007-12-31T00:00:00.000000000&#x27;,\n",
       "       &#x27;2008-01-31T00:00:00.000000000&#x27;, &#x27;2008-02-29T00:00:00.000000000&#x27;,\n",
       "       &#x27;2008-03-31T00:00:00.000000000&#x27;, &#x27;2008-04-30T00:00:00.000000000&#x27;,\n",
       "       &#x27;2008-05-31T00:00:00.000000000&#x27;, &#x27;2008-06-30T00:00:00.000000000&#x27;,\n",
       "       &#x27;2008-07-31T00:00:00.000000000&#x27;, &#x27;2008-08-31T00:00:00.000000000&#x27;,\n",
       "       &#x27;2008-09-30T00:00:00.000000000&#x27;, &#x27;2008-10-31T00:00:00.000000000&#x27;,\n",
       "       &#x27;2008-11-30T00:00:00.000000000&#x27;, &#x27;2008-12-31T00:00:00.000000000&#x27;,\n",
       "       &#x27;2009-01-31T00:00:00.000000000&#x27;, &#x27;2009-02-28T00:00:00.000000000&#x27;,\n",
       "       &#x27;2009-03-31T00:00:00.000000000&#x27;, &#x27;2009-04-30T00:00:00.000000000&#x27;,\n",
       "       &#x27;2009-05-31T00:00:00.000000000&#x27;, &#x27;2009-06-30T00:00:00.000000000&#x27;,\n",
       "       &#x27;2009-07-31T00:00:00.000000000&#x27;, &#x27;2009-08-31T00:00:00.000000000&#x27;,\n",
       "       &#x27;2009-09-30T00:00:00.000000000&#x27;, &#x27;2009-10-31T00:00:00.000000000&#x27;,\n",
       "       &#x27;2009-11-30T00:00:00.000000000&#x27;, &#x27;2009-12-31T00:00:00.000000000&#x27;,\n",
       "       &#x27;2010-01-31T00:00:00.000000000&#x27;, &#x27;2010-02-28T00:00:00.000000000&#x27;,\n",
       "       &#x27;2010-03-31T00:00:00.000000000&#x27;, &#x27;2010-04-30T00:00:00.000000000&#x27;,\n",
       "       &#x27;2010-05-31T00:00:00.000000000&#x27;, &#x27;2010-06-30T00:00:00.000000000&#x27;,\n",
       "       &#x27;2010-07-31T00:00:00.000000000&#x27;, &#x27;2010-08-31T00:00:00.000000000&#x27;,\n",
       "       &#x27;2010-09-30T00:00:00.000000000&#x27;, &#x27;2010-10-31T00:00:00.000000000&#x27;,\n",
       "       &#x27;2010-11-30T00:00:00.000000000&#x27;, &#x27;2010-12-31T00:00:00.000000000&#x27;,\n",
       "       &#x27;2011-01-31T00:00:00.000000000&#x27;, &#x27;2011-02-28T00:00:00.000000000&#x27;,\n",
       "       &#x27;2011-03-31T00:00:00.000000000&#x27;, &#x27;2011-04-30T00:00:00.000000000&#x27;,\n",
       "       &#x27;2011-05-31T00:00:00.000000000&#x27;, &#x27;2011-06-30T00:00:00.000000000&#x27;,\n",
       "       &#x27;2011-07-31T00:00:00.000000000&#x27;, &#x27;2011-08-31T00:00:00.000000000&#x27;,\n",
       "       &#x27;2011-09-30T00:00:00.000000000&#x27;, &#x27;2011-10-31T00:00:00.000000000&#x27;,\n",
       "       &#x27;2011-11-30T00:00:00.000000000&#x27;, &#x27;2011-12-31T00:00:00.000000000&#x27;,\n",
       "       &#x27;2012-01-31T00:00:00.000000000&#x27;, &#x27;2012-02-29T00:00:00.000000000&#x27;,\n",
       "       &#x27;2012-03-31T00:00:00.000000000&#x27;, &#x27;2012-04-30T00:00:00.000000000&#x27;,\n",
       "       &#x27;2012-05-31T00:00:00.000000000&#x27;, &#x27;2012-06-30T00:00:00.000000000&#x27;,\n",
       "       &#x27;2012-07-31T00:00:00.000000000&#x27;, &#x27;2012-08-31T00:00:00.000000000&#x27;,\n",
       "       &#x27;2012-09-30T00:00:00.000000000&#x27;, &#x27;2012-10-31T00:00:00.000000000&#x27;,\n",
       "       &#x27;2012-11-30T00:00:00.000000000&#x27;, &#x27;2012-12-31T00:00:00.000000000&#x27;,\n",
       "       &#x27;2013-01-31T00:00:00.000000000&#x27;, &#x27;2013-02-28T00:00:00.000000000&#x27;,\n",
       "       &#x27;2013-03-31T00:00:00.000000000&#x27;, &#x27;2013-04-30T00:00:00.000000000&#x27;,\n",
       "       &#x27;2013-05-31T00:00:00.000000000&#x27;, &#x27;2013-06-30T00:00:00.000000000&#x27;,\n",
       "       &#x27;2013-07-31T00:00:00.000000000&#x27;, &#x27;2013-08-31T00:00:00.000000000&#x27;,\n",
       "       &#x27;2013-09-30T00:00:00.000000000&#x27;, &#x27;2013-10-31T00:00:00.000000000&#x27;,\n",
       "       &#x27;2013-11-30T00:00:00.000000000&#x27;, &#x27;2013-12-31T00:00:00.000000000&#x27;,\n",
       "       &#x27;2014-01-31T00:00:00.000000000&#x27;, &#x27;2014-02-28T00:00:00.000000000&#x27;,\n",
       "       &#x27;2014-03-31T00:00:00.000000000&#x27;, &#x27;2014-04-30T00:00:00.000000000&#x27;,\n",
       "       &#x27;2014-05-31T00:00:00.000000000&#x27;, &#x27;2014-06-30T00:00:00.000000000&#x27;,\n",
       "       &#x27;2014-07-31T00:00:00.000000000&#x27;, &#x27;2014-08-31T00:00:00.000000000&#x27;,\n",
       "       &#x27;2014-09-30T00:00:00.000000000&#x27;, &#x27;2014-10-31T00:00:00.000000000&#x27;,\n",
       "       &#x27;2014-11-30T00:00:00.000000000&#x27;, &#x27;2014-12-31T00:00:00.000000000&#x27;],\n",
       "      dtype=&#x27;datetime64[ns]&#x27;)</pre></div></li><li class='xr-var-item'><div class='xr-var-name'><span class='xr-has-index'>latitude</span></div><div class='xr-var-dims'>(latitude)</div><div class='xr-var-dtype'>float64</div><div class='xr-var-preview xr-preview'>31.6</div><input id='attrs-95abfdd0-62a2-4516-b7f2-f7d3904d6c8f' class='xr-var-attrs-in' type='checkbox' disabled><label for='attrs-95abfdd0-62a2-4516-b7f2-f7d3904d6c8f' title='Show/Hide attributes'><svg class='icon xr-icon-file-text2'><use xlink:href='#icon-file-text2'></use></svg></label><input id='data-a380b4ec-4335-4afa-b10d-d9f1d238ca15' class='xr-var-data-in' type='checkbox'><label for='data-a380b4ec-4335-4afa-b10d-d9f1d238ca15' title='Show/Hide data repr'><svg class='icon xr-icon-database'><use xlink:href='#icon-database'></use></svg></label><div class='xr-var-attrs'><dl class='xr-attrs'></dl></div><div class='xr-var-data'><pre>array([31.6])</pre></div></li><li class='xr-var-item'><div class='xr-var-name'><span class='xr-has-index'>longitude</span></div><div class='xr-var-dims'>(longitude)</div><div class='xr-var-dtype'>float64</div><div class='xr-var-preview xr-preview'>-64.2</div><input id='attrs-3bdf13e4-cc92-43ba-bc04-be65c0203991' class='xr-var-attrs-in' type='checkbox' disabled><label for='attrs-3bdf13e4-cc92-43ba-bc04-be65c0203991' title='Show/Hide attributes'><svg class='icon xr-icon-file-text2'><use xlink:href='#icon-file-text2'></use></svg></label><input id='data-112d01a9-2f29-455f-a4d2-08b8cbf1c44e' class='xr-var-data-in' type='checkbox'><label for='data-112d01a9-2f29-455f-a4d2-08b8cbf1c44e' title='Show/Hide data repr'><svg class='icon xr-icon-database'><use xlink:href='#icon-database'></use></svg></label><div class='xr-var-attrs'><dl class='xr-attrs'></dl></div><div class='xr-var-data'><pre>array([-64.2])</pre></div></li></ul></div></li><li class='xr-section-item'><input id='section-8b14960b-f287-4673-a730-5cf16633c793' class='xr-section-summary-in' type='checkbox'  checked><label for='section-8b14960b-f287-4673-a730-5cf16633c793' class='xr-section-summary' >Data variables: <span>(2)</span></label><div class='xr-section-inline-details'></div><div class='xr-section-details'><ul class='xr-var-list'><li class='xr-var-item'><div class='xr-var-name'><span>day</span></div><div class='xr-var-dims'>(time, latitude, longitude)</div><div class='xr-var-dtype'>float64</div><div class='xr-var-preview xr-preview'>0.9883 1.069 ... 0.7358 0.6111</div><input id='attrs-0d3e5825-a406-4258-8d63-b0ce19c18c78' class='xr-var-attrs-in' type='checkbox' ><label for='attrs-0d3e5825-a406-4258-8d63-b0ce19c18c78' title='Show/Hide attributes'><svg class='icon xr-icon-file-text2'><use xlink:href='#icon-file-text2'></use></svg></label><input id='data-f9a7e69e-48da-4069-ad5a-fb0d1969946a' class='xr-var-data-in' type='checkbox'><label for='data-f9a7e69e-48da-4069-ad5a-fb0d1969946a' title='Show/Hide data repr'><svg class='icon xr-icon-database'><use xlink:href='#icon-database'></use></svg></label><div class='xr-var-attrs'><dl class='xr-attrs'><dt><span>units :</span></dt><dd>mg/m3</dd></dl></div><div class='xr-var-data'><pre>array([[[0.98828571]],\n",
       "\n",
       "       [[1.06944444]],\n",
       "\n",
       "       [[1.268     ]],\n",
       "\n",
       "       [[0.9876    ]],\n",
       "\n",
       "       [[1.07727273]],\n",
       "\n",
       "       [[0.96653333]],\n",
       "\n",
       "       [[0.99553846]],\n",
       "\n",
       "       [[0.88245455]],\n",
       "\n",
       "       [[0.85818182]],\n",
       "\n",
       "       [[0.80036364]],\n",
       "\n",
       "...\n",
       "\n",
       "       [[1.268     ]],\n",
       "\n",
       "       [[0.9876    ]],\n",
       "\n",
       "       [[1.07727273]],\n",
       "\n",
       "       [[0.96653333]],\n",
       "\n",
       "       [[0.99553846]],\n",
       "\n",
       "       [[0.88245455]],\n",
       "\n",
       "       [[0.85818182]],\n",
       "\n",
       "       [[0.80036364]],\n",
       "\n",
       "       [[0.73584615]],\n",
       "\n",
       "       [[0.61109091]]])</pre></div></li><li class='xr-var-item'><div class='xr-var-name'><span>night</span></div><div class='xr-var-dims'>(time, latitude, longitude)</div><div class='xr-var-dtype'>float64</div><div class='xr-var-preview xr-preview'>1.28 2.027 2.048 ... 1.086 1.176</div><input id='attrs-c2ecfb13-256d-4c94-ac1a-db04dc382437' class='xr-var-attrs-in' type='checkbox' ><label for='attrs-c2ecfb13-256d-4c94-ac1a-db04dc382437' title='Show/Hide attributes'><svg class='icon xr-icon-file-text2'><use xlink:href='#icon-file-text2'></use></svg></label><input id='data-d076b06f-c96c-4d3e-96fa-a427f3f4a7d8' class='xr-var-data-in' type='checkbox'><label for='data-d076b06f-c96c-4d3e-96fa-a427f3f4a7d8' title='Show/Hide data repr'><svg class='icon xr-icon-database'><use xlink:href='#icon-database'></use></svg></label><div class='xr-var-attrs'><dl class='xr-attrs'><dt><span>units :</span></dt><dd>mg/m3</dd></dl></div><div class='xr-var-data'><pre>array([[[1.28      ]],\n",
       "\n",
       "       [[2.02741176]],\n",
       "\n",
       "       [[2.048     ]],\n",
       "\n",
       "       [[1.91989474]],\n",
       "\n",
       "       [[2.1385    ]],\n",
       "\n",
       "       [[1.1482735 ]],\n",
       "\n",
       "       [[1.60015385]],\n",
       "\n",
       "       [[1.4865    ]],\n",
       "\n",
       "       [[1.44672727]],\n",
       "\n",
       "       [[1.24727273]],\n",
       "\n",
       "...\n",
       "\n",
       "       [[2.048     ]],\n",
       "\n",
       "       [[1.91989474]],\n",
       "\n",
       "       [[2.1385    ]],\n",
       "\n",
       "       [[1.1482735 ]],\n",
       "\n",
       "       [[1.60015385]],\n",
       "\n",
       "       [[1.4865    ]],\n",
       "\n",
       "       [[1.44672727]],\n",
       "\n",
       "       [[1.24727273]],\n",
       "\n",
       "       [[1.08618182]],\n",
       "\n",
       "       [[1.176     ]]])</pre></div></li></ul></div></li><li class='xr-section-item'><input id='section-ab28d5d0-ae65-4cbb-948d-97614d55e095' class='xr-section-summary-in' type='checkbox'  ><label for='section-ab28d5d0-ae65-4cbb-948d-97614d55e095' class='xr-section-summary' >Indexes: <span>(3)</span></label><div class='xr-section-inline-details'></div><div class='xr-section-details'><ul class='xr-var-list'><li class='xr-var-item'><div class='xr-index-name'><div>time</div></div><div class='xr-index-preview'>PandasIndex</div><input type='checkbox' disabled/><label></label><input id='index-f3834865-6d51-455e-95d1-138942f61b7f' class='xr-index-data-in' type='checkbox'/><label for='index-f3834865-6d51-455e-95d1-138942f61b7f' title='Show/Hide index repr'><svg class='icon xr-icon-database'><use xlink:href='#icon-database'></use></svg></label><div class='xr-index-data'><pre>PandasIndex(DatetimeIndex([&#x27;2002-01-31&#x27;, &#x27;2002-02-28&#x27;, &#x27;2002-03-31&#x27;, &#x27;2002-04-30&#x27;,\n",
       "               &#x27;2002-05-31&#x27;, &#x27;2002-06-30&#x27;, &#x27;2002-07-31&#x27;, &#x27;2002-08-31&#x27;,\n",
       "               &#x27;2002-09-30&#x27;, &#x27;2002-10-31&#x27;,\n",
       "               ...\n",
       "               &#x27;2014-03-31&#x27;, &#x27;2014-04-30&#x27;, &#x27;2014-05-31&#x27;, &#x27;2014-06-30&#x27;,\n",
       "               &#x27;2014-07-31&#x27;, &#x27;2014-08-31&#x27;, &#x27;2014-09-30&#x27;, &#x27;2014-10-31&#x27;,\n",
       "               &#x27;2014-11-30&#x27;, &#x27;2014-12-31&#x27;],\n",
       "              dtype=&#x27;datetime64[ns]&#x27;, name=&#x27;time&#x27;, length=156, freq=None))</pre></div></li><li class='xr-var-item'><div class='xr-index-name'><div>latitude</div></div><div class='xr-index-preview'>PandasIndex</div><input type='checkbox' disabled/><label></label><input id='index-d0bd6b89-98bf-4274-88d2-dad52254fc6b' class='xr-index-data-in' type='checkbox'/><label for='index-d0bd6b89-98bf-4274-88d2-dad52254fc6b' title='Show/Hide index repr'><svg class='icon xr-icon-database'><use xlink:href='#icon-database'></use></svg></label><div class='xr-index-data'><pre>PandasIndex(Index([31.6], dtype=&#x27;float64&#x27;, name=&#x27;latitude&#x27;))</pre></div></li><li class='xr-var-item'><div class='xr-index-name'><div>longitude</div></div><div class='xr-index-preview'>PandasIndex</div><input type='checkbox' disabled/><label></label><input id='index-7781b0f7-3b98-4367-ae80-8b7164ebd7b8' class='xr-index-data-in' type='checkbox'/><label for='index-7781b0f7-3b98-4367-ae80-8b7164ebd7b8' title='Show/Hide index repr'><svg class='icon xr-icon-database'><use xlink:href='#icon-database'></use></svg></label><div class='xr-index-data'><pre>PandasIndex(Index([-64.2], dtype=&#x27;float64&#x27;, name=&#x27;longitude&#x27;))</pre></div></li></ul></div></li><li class='xr-section-item'><input id='section-9a21e00e-591e-41ad-8cbb-3987da5773c4' class='xr-section-summary-in' type='checkbox'  checked><label for='section-9a21e00e-591e-41ad-8cbb-3987da5773c4' class='xr-section-summary' >Attributes: <span>(1)</span></label><div class='xr-section-inline-details'></div><div class='xr-section-details'><dl class='xr-attrs'><dt><span>desc :</span></dt><dd>Aggregated and smoothed observations using lowess filtre.</dd></dl></div></li></ul></div></div>"
      ],
      "text/plain": [
       "<xarray.Dataset> Size: 4kB\n",
       "Dimensions:    (time: 156, latitude: 1, longitude: 1)\n",
       "Coordinates:\n",
       "  * time       (time) datetime64[ns] 1kB 2002-01-31 2002-02-28 ... 2014-12-31\n",
       "  * latitude   (latitude) float64 8B 31.6\n",
       "  * longitude  (longitude) float64 8B -64.2\n",
       "Data variables:\n",
       "    day        (time, latitude, longitude) float64 1kB 0.9883 1.069 ... 0.6111\n",
       "    night      (time, latitude, longitude) float64 1kB 1.28 2.027 ... 1.176\n",
       "Attributes:\n",
       "    desc:     Aggregated and smoothed observations using lowess filtre."
      ]
     },
     "execution_count": 25,
     "metadata": {},
     "output_type": "execute_result"
    }
   ],
   "source": [
    "value_by_month = grouped_data.to_dataframe().reset_index().set_index(\"month\")\n",
    "\n",
    "time = pd.date_range(start=time_start, end=time_end, freq=\"ME\")\n",
    "month = time.month\n",
    "month_by_day = pd.DataFrame({\"month\": month}, index=time)\n",
    "\n",
    "aggregated_smoothed = month_by_day.join(value_by_month, on=\"month\").drop(columns=[\"month\"])\n",
    "aggregated_smoothed.index.name = \"time\"\n",
    "\n",
    "aggregated_smoothed = aggregated_smoothed.reset_index().set_index(\n",
    "    [\"time\", \"latitude\", \"longitude\"], verify_integrity=True\n",
    ")\n",
    "\n",
    "climato_observations = xr.Dataset.from_dataframe(aggregated_smoothed)\n",
    "for var in climato_observations:\n",
    "    climato_observations[var].attrs = {\"units\": \"mg/m3\"}\n",
    "climato_observations.attrs = {\n",
    "    \"desc\": \"Aggregated and smoothed observations using lowess filtre.\",\n",
    "}\n",
    "climato_observations"
   ]
  },
  {
   "cell_type": "markdown",
   "metadata": {},
   "source": [
    "## Plot final results\n"
   ]
  },
  {
   "cell_type": "code",
   "execution_count": 26,
   "metadata": {},
   "outputs": [
    {
     "data": {
      "application/vnd.plotly.v1+json": {
       "config": {
        "plotlyServerURL": "https://plot.ly"
       },
       "data": [
        {
         "mode": "lines",
         "name": "Initial Day Data",
         "type": "scatter",
         "x": [
          "2002-01-22T00:00:00.000000000",
          "2002-02-13T00:00:00.000000000",
          "2002-02-27T00:00:00.000000000",
          "2002-03-07T00:00:00.000000000",
          "2002-04-04T00:00:00.000000000",
          "2002-04-16T00:00:00.000000000",
          "2002-05-14T00:00:00.000000000",
          "2002-06-04T00:00:00.000000000",
          "2002-07-02T00:00:00.000000000",
          "2002-08-20T00:00:00.000000000",
          "2002-09-17T00:00:00.000000000",
          "2002-10-08T00:00:00.000000000",
          "2002-11-13T00:00:00.000000000",
          "2002-12-10T00:00:00.000000000",
          "2003-02-04T00:00:00.000000000",
          "2003-02-21T00:00:00.000000000",
          "2003-03-04T00:00:00.000000000",
          "2003-03-21T00:00:00.000000000",
          "2003-04-03T00:00:00.000000000",
          "2003-04-22T00:00:00.000000000",
          "2003-05-20T00:00:00.000000000",
          "2003-07-04T00:00:00.000000000",
          "2003-07-15T00:00:00.000000000",
          "2003-08-12T00:00:00.000000000",
          "2003-09-19T00:00:00.000000000",
          "2003-10-07T00:00:00.000000000",
          "2003-11-04T00:00:00.000000000",
          "2003-12-02T00:00:00.000000000",
          "2004-01-27T00:00:00.000000000",
          "2004-02-14T00:00:00.000000000",
          "2004-02-24T00:00:00.000000000",
          "2004-04-07T00:00:00.000000000",
          "2004-04-21T00:00:00.000000000",
          "2004-05-18T00:00:00.000000000",
          "2004-06-15T00:00:00.000000000",
          "2004-09-14T00:00:00.000000000",
          "2004-10-13T00:00:00.000000000",
          "2004-11-12T00:00:00.000000000",
          "2004-12-08T00:00:00.000000000",
          "2005-01-27T00:00:00.000000000",
          "2005-02-08T00:00:00.000000000",
          "2005-02-24T00:00:00.000000000",
          "2005-03-08T00:00:00.000000000",
          "2005-03-21T00:00:00.000000000",
          "2005-04-06T00:00:00.000000000",
          "2005-04-19T00:00:00.000000000",
          "2005-05-17T00:00:00.000000000",
          "2005-06-14T00:00:00.000000000",
          "2005-07-19T00:00:00.000000000",
          "2005-08-10T00:00:00.000000000",
          "2005-09-06T00:00:00.000000000",
          "2005-10-11T00:00:00.000000000",
          "2005-11-10T00:00:00.000000000",
          "2006-01-29T00:00:00.000000000",
          "2006-02-22T00:00:00.000000000",
          "2006-05-10T00:00:00.000000000",
          "2006-07-18T00:00:00.000000000",
          "2006-08-08T00:00:00.000000000",
          "2006-10-10T00:00:00.000000000",
          "2006-11-07T00:00:00.000000000",
          "2006-12-04T00:00:00.000000000",
          "2007-02-01T00:00:00.000000000",
          "2007-02-22T00:00:00.000000000",
          "2007-03-07T00:00:00.000000000",
          "2007-03-20T00:00:00.000000000",
          "2007-04-03T00:00:00.000000000",
          "2007-04-14T00:00:00.000000000",
          "2007-05-16T00:00:00.000000000",
          "2007-06-21T00:00:00.000000000",
          "2007-07-18T00:00:00.000000000",
          "2007-08-17T00:00:00.000000000",
          "2007-11-14T00:00:00.000000000",
          "2007-12-06T00:00:00.000000000",
          "2008-01-17T00:00:00.000000000",
          "2008-02-12T00:00:00.000000000",
          "2008-02-23T00:00:00.000000000",
          "2008-03-13T00:00:00.000000000",
          "2008-03-25T00:00:00.000000000",
          "2008-04-17T00:00:00.000000000",
          "2008-05-29T00:00:00.000000000",
          "2008-07-18T00:00:00.000000000",
          "2008-08-14T00:00:00.000000000",
          "2008-09-12T00:00:00.000000000",
          "2008-10-09T00:00:00.000000000",
          "2009-02-22T00:00:00.000000000",
          "2009-03-06T00:00:00.000000000",
          "2009-03-19T00:00:00.000000000",
          "2009-04-01T00:00:00.000000000",
          "2009-06-11T00:00:00.000000000",
          "2009-07-15T00:00:00.000000000",
          "2009-08-15T00:00:00.000000000",
          "2009-09-11T00:00:00.000000000",
          "2009-10-10T00:00:00.000000000",
          "2009-11-08T00:00:00.000000000",
          "2009-12-09T00:00:00.000000000",
          "2010-02-24T00:00:00.000000000",
          "2010-03-09T00:00:00.000000000",
          "2010-04-07T00:00:00.000000000",
          "2010-04-21T00:00:00.000000000",
          "2010-05-13T00:00:00.000000000",
          "2010-06-23T00:00:00.000000000",
          "2010-07-24T00:00:00.000000000",
          "2010-09-06T00:00:00.000000000",
          "2010-10-06T00:00:00.000000000",
          "2010-11-10T00:00:00.000000000",
          "2010-12-09T00:00:00.000000000",
          "2011-03-04T00:00:00.000000000",
          "2011-04-27T00:00:00.000000000",
          "2011-05-17T00:00:00.000000000",
          "2011-06-15T00:00:00.000000000",
          "2011-07-06T00:00:00.000000000",
          "2011-08-19T00:00:00.000000000",
          "2011-09-17T00:00:00.000000000",
          "2011-11-01T00:00:00.000000000",
          "2011-11-17T00:00:00.000000000",
          "2011-12-08T00:00:00.000000000",
          "2012-01-29T00:00:00.000000000",
          "2012-02-10T00:00:00.000000000",
          "2012-03-08T00:00:00.000000000",
          "2012-04-26T00:00:00.000000000",
          "2012-05-19T00:00:00.000000000",
          "2012-06-18T00:00:00.000000000",
          "2012-07-12T00:00:00.000000000",
          "2012-08-20T00:00:00.000000000",
          "2012-09-12T00:00:00.000000000",
          "2012-10-19T00:00:00.000000000",
          "2012-11-16T00:00:00.000000000",
          "2012-12-11T00:00:00.000000000",
          "2013-01-22T00:00:00.000000000",
          "2013-02-12T00:00:00.000000000",
          "2013-02-26T00:00:00.000000000",
          "2013-03-12T00:00:00.000000000",
          "2013-04-06T00:00:00.000000000",
          "2013-04-24T00:00:00.000000000",
          "2013-05-15T00:00:00.000000000",
          "2013-06-16T00:00:00.000000000",
          "2013-07-05T00:00:00.000000000",
          "2013-08-02T00:00:00.000000000",
          "2013-09-17T00:00:00.000000000",
          "2013-10-19T00:00:00.000000000",
          "2013-11-14T00:00:00.000000000",
          "2013-12-09T00:00:00.000000000",
          "2014-03-06T00:00:00.000000000",
          "2014-04-11T00:00:00.000000000",
          "2014-04-29T00:00:00.000000000",
          "2014-06-12T00:00:00.000000000",
          "2014-07-10T00:00:00.000000000",
          "2014-08-20T00:00:00.000000000",
          "2014-09-13T00:00:00.000000000",
          "2014-10-28T00:00:00.000000000",
          "2014-11-20T00:00:00.000000000",
          "2014-12-11T00:00:00.000000000"
         ],
         "xaxis": "x",
         "y": [
          0.5240000000000001,
          0.486,
          1.09,
          0.952,
          1.6,
          0.446,
          0.588,
          0.528,
          0.8119999999999999,
          0.774,
          1.048,
          0.808,
          0.6320000000000001,
          0.638,
          0.6739999999999999,
          1.314,
          1.678,
          0.6960000000000001,
          1.3,
          0.7260000000000002,
          0.6480000000000001,
          0.8400000000000001,
          0.884,
          0.9819999999999999,
          1.3719999999999999,
          0.8800000000000001,
          0.508,
          0.374,
          0.664,
          1.336,
          1.692,
          1.1960000000000002,
          2.0220000000000002,
          0.87,
          0.7040000000000001,
          0.752,
          0.44000000000000006,
          0.5940000000000001,
          0.628,
          0.56,
          1.132,
          1.432,
          1.2940000000000003,
          1.8319999999999999,
          1.0479999999999998,
          1.6620000000000001,
          1.2180000000000002,
          0.8240000000000001,
          0.67,
          0.598,
          0.802,
          0.5040000000000001,
          0.5720000000000001,
          1.442,
          1.306,
          0.6859999999999999,
          0.606,
          0.868,
          0.8579999999999999,
          0.5180000000000001,
          0.42000000000000004,
          0.594,
          0.808,
          1.4900000000000002,
          1.4460000000000002,
          0.8660000000000002,
          0.536,
          0.7000000000000001,
          0.5880000000000001,
          0.9320000000000003,
          0.526,
          0.902,
          0.45599999999999996,
          1.176,
          0.47800000000000004,
          0.8660000000000002,
          0.58,
          1.192,
          0.08000000000000002,
          1.7460000000000002,
          0.568,
          0.5980000000000001,
          0.59,
          0.588,
          0.8480000000000001,
          0.756,
          1.37,
          0.4340000000000001,
          0.9273333333333333,
          1.068,
          1.1260000000000001,
          0.7240000000000001,
          0.66,
          0.7080000000000001,
          0.4960000000000001,
          0.47000000000000003,
          1.722,
          0.4720000000000001,
          0.246,
          1.942,
          1.0260000000000002,
          0.46799999999999997,
          1.1600000000000001,
          1.6280000000000001,
          0.7020000000000001,
          0.868,
          1.0399999999999998,
          1.6839999999999997,
          1.4640000000000004,
          1.1500000000000001,
          1.55,
          0.6400000000000001,
          1.04,
          0.48,
          1.294,
          0.69,
          1.186,
          1.2460000000000004,
          1.4460000000000002,
          1.1380000000000003,
          1.2720000000000002,
          0.9340000000000002,
          1.176,
          1.054,
          0.5540000000000002,
          0.9620000000000002,
          1.352,
          1.0040000000000002,
          1.366,
          1.69,
          1.7880000000000003,
          0.9500000000000001,
          1.3420000000000003,
          1.0760000000000003,
          0.7160000000000001,
          1.428,
          1.428,
          1.6830000000000003,
          0.782,
          0.7280000000000001,
          0.7740000000000001,
          0.788,
          1.8439999999999999,
          0.9580000000000001,
          0.9199999999999999,
          1.556,
          1.94,
          0.8580000000000001,
          0.6160000000000001,
          0.748,
          0.5300000000000001,
          0.3600000000000001
         ],
         "yaxis": "y"
        },
        {
         "mode": "lines",
         "name": "Initial Night Data",
         "type": "scatter",
         "x": [
          "2002-01-22T00:00:00.000000000",
          "2002-02-12T00:00:00.000000000",
          "2002-02-28T00:00:00.000000000",
          "2002-03-07T00:00:00.000000000",
          "2002-03-19T00:00:00.000000000",
          "2002-04-03T00:00:00.000000000",
          "2002-04-15T00:00:00.000000000",
          "2002-04-16T00:00:00.000000000",
          "2002-05-14T00:00:00.000000000",
          "2002-06-04T00:00:00.000000000",
          "2002-07-01T00:00:00.000000000",
          "2002-08-20T00:00:00.000000000",
          "2002-09-17T00:00:00.000000000",
          "2002-10-08T00:00:00.000000000",
          "2002-11-13T00:00:00.000000000",
          "2002-12-09T00:00:00.000000000",
          "2003-01-27T00:00:00.000000000",
          "2003-02-21T00:00:00.000000000",
          "2003-03-04T00:00:00.000000000",
          "2003-03-22T00:00:00.000000000",
          "2003-04-03T00:00:00.000000000",
          "2003-04-22T00:00:00.000000000",
          "2003-07-05T00:00:00.000000000",
          "2003-07-15T00:00:00.000000000",
          "2003-08-13T00:00:00.000000000",
          "2003-09-20T00:00:00.000000000",
          "2003-10-06T00:00:00.000000000",
          "2003-11-03T00:00:00.000000000",
          "2003-12-02T00:00:00.000000000",
          "2004-02-14T00:00:00.000000000",
          "2004-02-23T00:00:00.000000000",
          "2004-03-09T00:00:00.000000000",
          "2004-03-23T00:00:00.000000000",
          "2004-04-20T00:00:00.000000000",
          "2004-05-17T00:00:00.000000000",
          "2004-06-15T00:00:00.000000000",
          "2004-09-14T00:00:00.000000000",
          "2004-10-13T00:00:00.000000000",
          "2004-11-12T00:00:00.000000000",
          "2004-12-08T00:00:00.000000000",
          "2005-01-26T00:00:00.000000000",
          "2005-02-08T00:00:00.000000000",
          "2005-02-23T00:00:00.000000000",
          "2005-02-24T00:00:00.000000000",
          "2005-03-07T00:00:00.000000000",
          "2005-03-20T00:00:00.000000000",
          "2005-04-05T00:00:00.000000000",
          "2005-05-16T00:00:00.000000000",
          "2005-06-15T00:00:00.000000000",
          "2005-07-19T00:00:00.000000000",
          "2005-08-09T00:00:00.000000000",
          "2005-10-11T00:00:00.000000000",
          "2005-12-08T00:00:00.000000000",
          "2006-01-29T00:00:00.000000000",
          "2006-01-30T00:00:00.000000000",
          "2006-02-08T00:00:00.000000000",
          "2006-02-20T00:00:00.000000000",
          "2006-02-21T00:00:00.000000000",
          "2006-04-04T00:00:00.000000000",
          "2006-06-26T00:00:00.000000000",
          "2006-07-16T00:00:00.000000000",
          "2006-08-07T00:00:00.000000000",
          "2006-08-08T00:00:00.000000000",
          "2006-10-10T00:00:00.000000000",
          "2006-11-07T00:00:00.000000000",
          "2006-12-03T00:00:00.000000000",
          "2007-01-30T00:00:00.000000000",
          "2007-02-20T00:00:00.000000000",
          "2007-03-06T00:00:00.000000000",
          "2007-03-07T00:00:00.000000000",
          "2007-03-19T00:00:00.000000000",
          "2007-03-20T00:00:00.000000000",
          "2007-04-02T00:00:00.000000000",
          "2007-04-14T00:00:00.000000000",
          "2007-05-15T00:00:00.000000000",
          "2007-06-21T00:00:00.000000000",
          "2007-07-19T00:00:00.000000000",
          "2007-08-15T00:00:00.000000000",
          "2007-09-08T00:00:00.000000000",
          "2007-11-14T00:00:00.000000000",
          "2007-12-06T00:00:00.000000000",
          "2008-01-15T00:00:00.000000000",
          "2008-02-12T00:00:00.000000000",
          "2008-02-22T00:00:00.000000000",
          "2008-03-13T00:00:00.000000000",
          "2008-04-14T00:00:00.000000000",
          "2008-05-29T00:00:00.000000000",
          "2008-06-22T00:00:00.000000000",
          "2008-07-16T00:00:00.000000000",
          "2008-08-14T00:00:00.000000000",
          "2008-09-10T00:00:00.000000000",
          "2008-10-09T00:00:00.000000000",
          "2009-03-19T00:00:00.000000000",
          "2009-06-11T00:00:00.000000000",
          "2009-06-12T00:00:00.000000000",
          "2009-07-15T00:00:00.000000000",
          "2009-07-16T00:00:00.000000000",
          "2009-08-15T00:00:00.000000000",
          "2009-09-10T00:00:00.000000000",
          "2009-10-10T00:00:00.000000000",
          "2009-11-08T00:00:00.000000000",
          "2009-12-09T00:00:00.000000000",
          "2010-03-10T00:00:00.000000000",
          "2010-04-22T00:00:00.000000000",
          "2010-04-23T00:00:00.000000000",
          "2010-05-14T00:00:00.000000000",
          "2010-06-23T00:00:00.000000000",
          "2010-06-24T00:00:00.000000000",
          "2010-07-24T00:00:00.000000000",
          "2010-09-06T00:00:00.000000000",
          "2010-10-05T00:00:00.000000000",
          "2010-11-09T00:00:00.000000000",
          "2010-12-09T00:00:00.000000000",
          "2011-03-05T00:00:00.000000000",
          "2011-03-26T00:00:00.000000000",
          "2011-04-28T00:00:00.000000000",
          "2011-06-15T00:00:00.000000000",
          "2011-07-05T00:00:00.000000000",
          "2011-08-20T00:00:00.000000000",
          "2011-09-17T00:00:00.000000000",
          "2011-11-17T00:00:00.000000000",
          "2011-12-07T00:00:00.000000000",
          "2012-01-28T00:00:00.000000000",
          "2012-01-29T00:00:00.000000000",
          "2012-02-09T00:00:00.000000000",
          "2012-03-07T00:00:00.000000000",
          "2012-04-12T00:00:00.000000000",
          "2012-04-26T00:00:00.000000000",
          "2012-05-18T00:00:00.000000000",
          "2012-06-18T00:00:00.000000000",
          "2012-07-12T00:00:00.000000000",
          "2012-08-21T00:00:00.000000000",
          "2012-09-11T00:00:00.000000000",
          "2012-10-18T00:00:00.000000000",
          "2012-11-13T00:00:00.000000000",
          "2012-12-10T00:00:00.000000000",
          "2013-01-21T00:00:00.000000000",
          "2013-01-22T00:00:00.000000000",
          "2013-02-11T00:00:00.000000000",
          "2013-02-25T00:00:00.000000000",
          "2013-03-11T00:00:00.000000000",
          "2013-03-12T00:00:00.000000000",
          "2013-03-27T00:00:00.000000000",
          "2013-04-24T00:00:00.000000000",
          "2013-05-16T00:00:00.000000000",
          "2013-06-14T00:00:00.000000000",
          "2013-07-08T00:00:00.000000000",
          "2013-08-02T00:00:00.000000000",
          "2013-09-16T00:00:00.000000000",
          "2013-10-18T00:00:00.000000000",
          "2013-11-13T00:00:00.000000000",
          "2013-12-08T00:00:00.000000000",
          "2014-03-05T00:00:00.000000000",
          "2014-04-11T00:00:00.000000000",
          "2014-04-28T00:00:00.000000000",
          "2014-08-19T00:00:00.000000000",
          "2014-09-13T00:00:00.000000000",
          "2014-10-28T00:00:00.000000000",
          "2014-11-19T00:00:00.000000000",
          "2014-12-11T00:00:00.000000000"
         ],
         "xaxis": "x2",
         "y": [
          1.318,
          1.572,
          1.288,
          0.98,
          2.0020000000000002,
          2.07,
          0.9040000000000001,
          0.8239999999999998,
          2.15,
          1.2220000000000002,
          1.2720000000000002,
          1.7320000000000002,
          1.566,
          1.176,
          1.04,
          1.6940000000000002,
          1.0399999999999998,
          1.834,
          2.2340000000000004,
          2.468,
          2.336,
          1.05,
          1.724,
          1.6600000000000001,
          1.508,
          1.768,
          1.3260000000000003,
          0.7580000000000001,
          0.802,
          2.06,
          2.7119999999999997,
          2.1840000000000006,
          2.8280000000000003,
          3.3160000000000007,
          1.3599999999999999,
          1.54,
          1.596,
          0.674,
          1.374,
          1.312,
          0.7000000000000001,
          2.044,
          2.1799999999999997,
          2.2640000000000002,
          2.78,
          2.5240000000000005,
          2.3720000000000003,
          2.3920000000000003,
          1.068,
          0.63,
          1.5180000000000002,
          0.7600000000000001,
          0.744,
          1.1720000000000002,
          0.7160000000000001,
          3.476,
          2.168,
          2.1479999999999997,
          2.948,
          0.7100000000000001,
          1.052,
          1.076,
          1.1680000000000001,
          1.1640000000000001,
          1.094,
          0.9,
          0.8800000000000001,
          1.7900000000000003,
          1.6440000000000001,
          1.9479999999999997,
          1.4000000000000001,
          1.9040000000000004,
          1.8,
          1.506,
          1.084,
          1.0200000000000002,
          1.568,
          1.154,
          1.7600000000000002,
          0.666,
          0.8560000000000001,
          1.2780000000000002,
          1.18,
          1.3040000000000003,
          1.348,
          0.944,
          3.04,
          0.9319999999999999,
          2.406,
          1.1740000000000002,
          1.3020000000000003,
          1.03,
          1.602,
          1.3195555555555556,
          1.02,
          0.968,
          1.516,
          1.736,
          1.102,
          1.7939999999999998,
          1.0360000000000003,
          1.578,
          1.9960000000000002,
          1.096,
          1.4200000000000004,
          3.3440000000000007,
          0.38,
          0.372,
          0.8300000000000001,
          1.368,
          2.2,
          0.994,
          1.4240000000000002,
          2.602,
          2.0940000000000003,
          2.988,
          2.2659999999999996,
          2.046,
          1.0239999999999998,
          1.784,
          1.4340000000000002,
          0.9300000000000002,
          1.904,
          1.2880000000000003,
          1.658,
          1.56,
          2.5460000000000003,
          2.9480000000000004,
          2.4080000000000004,
          1.56,
          3.0540000000000003,
          1.9080000000000004,
          1.05,
          1.038,
          1.3399999999999999,
          1.7919999999999998,
          2.096,
          1.688,
          2.3640000000000003,
          2.424,
          1.536,
          1.588,
          3.2520000000000007,
          1.74,
          1.33,
          1.5180000000000002,
          2.076,
          2.152,
          1.508,
          1.3600000000000003,
          1.4120000000000001,
          0.9460000000000002,
          2.5820000000000003,
          2.07,
          1.6,
          1.6880000000000004,
          1.11,
          1.198,
          0.8,
          1.1340000000000001
         ],
         "yaxis": "y2"
        },
        {
         "mode": "lines",
         "name": "day",
         "type": "scatter",
         "x": [
          "2002-01-31T00:00:00",
          "2002-02-28T00:00:00",
          "2002-03-31T00:00:00",
          "2002-04-30T00:00:00",
          "2002-05-31T00:00:00",
          "2002-06-30T00:00:00",
          "2002-07-31T00:00:00",
          "2002-08-31T00:00:00",
          "2002-09-30T00:00:00",
          "2002-10-31T00:00:00",
          "2002-11-30T00:00:00",
          "2002-12-31T00:00:00",
          "2003-01-31T00:00:00",
          "2003-02-28T00:00:00",
          "2003-03-31T00:00:00",
          "2003-04-30T00:00:00",
          "2003-05-31T00:00:00",
          "2003-06-30T00:00:00",
          "2003-07-31T00:00:00",
          "2003-08-31T00:00:00",
          "2003-09-30T00:00:00",
          "2003-10-31T00:00:00",
          "2003-11-30T00:00:00",
          "2003-12-31T00:00:00",
          "2004-01-31T00:00:00",
          "2004-02-29T00:00:00",
          "2004-03-31T00:00:00",
          "2004-04-30T00:00:00",
          "2004-05-31T00:00:00",
          "2004-06-30T00:00:00",
          "2004-07-31T00:00:00",
          "2004-08-31T00:00:00",
          "2004-09-30T00:00:00",
          "2004-10-31T00:00:00",
          "2004-11-30T00:00:00",
          "2004-12-31T00:00:00",
          "2005-01-31T00:00:00",
          "2005-02-28T00:00:00",
          "2005-03-31T00:00:00",
          "2005-04-30T00:00:00",
          "2005-05-31T00:00:00",
          "2005-06-30T00:00:00",
          "2005-07-31T00:00:00",
          "2005-08-31T00:00:00",
          "2005-09-30T00:00:00",
          "2005-10-31T00:00:00",
          "2005-11-30T00:00:00",
          "2005-12-31T00:00:00",
          "2006-01-31T00:00:00",
          "2006-02-28T00:00:00",
          "2006-03-31T00:00:00",
          "2006-04-30T00:00:00",
          "2006-05-31T00:00:00",
          "2006-06-30T00:00:00",
          "2006-07-31T00:00:00",
          "2006-08-31T00:00:00",
          "2006-09-30T00:00:00",
          "2006-10-31T00:00:00",
          "2006-11-30T00:00:00",
          "2006-12-31T00:00:00",
          "2007-01-31T00:00:00",
          "2007-02-28T00:00:00",
          "2007-03-31T00:00:00",
          "2007-04-30T00:00:00",
          "2007-05-31T00:00:00",
          "2007-06-30T00:00:00",
          "2007-07-31T00:00:00",
          "2007-08-31T00:00:00",
          "2007-09-30T00:00:00",
          "2007-10-31T00:00:00",
          "2007-11-30T00:00:00",
          "2007-12-31T00:00:00",
          "2008-01-31T00:00:00",
          "2008-02-29T00:00:00",
          "2008-03-31T00:00:00",
          "2008-04-30T00:00:00",
          "2008-05-31T00:00:00",
          "2008-06-30T00:00:00",
          "2008-07-31T00:00:00",
          "2008-08-31T00:00:00",
          "2008-09-30T00:00:00",
          "2008-10-31T00:00:00",
          "2008-11-30T00:00:00",
          "2008-12-31T00:00:00",
          "2009-01-31T00:00:00",
          "2009-02-28T00:00:00",
          "2009-03-31T00:00:00",
          "2009-04-30T00:00:00",
          "2009-05-31T00:00:00",
          "2009-06-30T00:00:00",
          "2009-07-31T00:00:00",
          "2009-08-31T00:00:00",
          "2009-09-30T00:00:00",
          "2009-10-31T00:00:00",
          "2009-11-30T00:00:00",
          "2009-12-31T00:00:00",
          "2010-01-31T00:00:00",
          "2010-02-28T00:00:00",
          "2010-03-31T00:00:00",
          "2010-04-30T00:00:00",
          "2010-05-31T00:00:00",
          "2010-06-30T00:00:00",
          "2010-07-31T00:00:00",
          "2010-08-31T00:00:00",
          "2010-09-30T00:00:00",
          "2010-10-31T00:00:00",
          "2010-11-30T00:00:00",
          "2010-12-31T00:00:00",
          "2011-01-31T00:00:00",
          "2011-02-28T00:00:00",
          "2011-03-31T00:00:00",
          "2011-04-30T00:00:00",
          "2011-05-31T00:00:00",
          "2011-06-30T00:00:00",
          "2011-07-31T00:00:00",
          "2011-08-31T00:00:00",
          "2011-09-30T00:00:00",
          "2011-10-31T00:00:00",
          "2011-11-30T00:00:00",
          "2011-12-31T00:00:00",
          "2012-01-31T00:00:00",
          "2012-02-29T00:00:00",
          "2012-03-31T00:00:00",
          "2012-04-30T00:00:00",
          "2012-05-31T00:00:00",
          "2012-06-30T00:00:00",
          "2012-07-31T00:00:00",
          "2012-08-31T00:00:00",
          "2012-09-30T00:00:00",
          "2012-10-31T00:00:00",
          "2012-11-30T00:00:00",
          "2012-12-31T00:00:00",
          "2013-01-31T00:00:00",
          "2013-02-28T00:00:00",
          "2013-03-31T00:00:00",
          "2013-04-30T00:00:00",
          "2013-05-31T00:00:00",
          "2013-06-30T00:00:00",
          "2013-07-31T00:00:00",
          "2013-08-31T00:00:00",
          "2013-09-30T00:00:00",
          "2013-10-31T00:00:00",
          "2013-11-30T00:00:00",
          "2013-12-31T00:00:00",
          "2014-01-31T00:00:00",
          "2014-02-28T00:00:00",
          "2014-03-31T00:00:00",
          "2014-04-30T00:00:00",
          "2014-05-31T00:00:00",
          "2014-06-30T00:00:00",
          "2014-07-31T00:00:00",
          "2014-08-31T00:00:00",
          "2014-09-30T00:00:00",
          "2014-10-31T00:00:00",
          "2014-11-30T00:00:00",
          "2014-12-31T00:00:00"
         ],
         "xaxis": "x",
         "y": [
          0.9882857142857142,
          1.0694444444444444,
          1.268,
          0.9875999999999998,
          1.0772727272727274,
          0.9665333333333337,
          0.9955384615384614,
          0.8824545454545455,
          0.8581818181818182,
          0.8003636363636364,
          0.7358461538461539,
          0.6110909090909091,
          0.9882857142857142,
          1.0694444444444444,
          1.268,
          0.9875999999999998,
          1.0772727272727274,
          0.9665333333333337,
          0.9955384615384614,
          0.8824545454545455,
          0.8581818181818182,
          0.8003636363636364,
          0.7358461538461539,
          0.6110909090909091,
          0.9882857142857142,
          1.0694444444444444,
          1.268,
          0.9875999999999998,
          1.0772727272727274,
          0.9665333333333337,
          0.9955384615384614,
          0.8824545454545455,
          0.8581818181818182,
          0.8003636363636364,
          0.7358461538461539,
          0.6110909090909091,
          0.9882857142857142,
          1.0694444444444444,
          1.268,
          0.9875999999999998,
          1.0772727272727274,
          0.9665333333333337,
          0.9955384615384614,
          0.8824545454545455,
          0.8581818181818182,
          0.8003636363636364,
          0.7358461538461539,
          0.6110909090909091,
          0.9882857142857142,
          1.0694444444444444,
          1.268,
          0.9875999999999998,
          1.0772727272727274,
          0.9665333333333337,
          0.9955384615384614,
          0.8824545454545455,
          0.8581818181818182,
          0.8003636363636364,
          0.7358461538461539,
          0.6110909090909091,
          0.9882857142857142,
          1.0694444444444444,
          1.268,
          0.9875999999999998,
          1.0772727272727274,
          0.9665333333333337,
          0.9955384615384614,
          0.8824545454545455,
          0.8581818181818182,
          0.8003636363636364,
          0.7358461538461539,
          0.6110909090909091,
          0.9882857142857142,
          1.0694444444444444,
          1.268,
          0.9875999999999998,
          1.0772727272727274,
          0.9665333333333337,
          0.9955384615384614,
          0.8824545454545455,
          0.8581818181818182,
          0.8003636363636364,
          0.7358461538461539,
          0.6110909090909091,
          0.9882857142857142,
          1.0694444444444444,
          1.268,
          0.9875999999999998,
          1.0772727272727274,
          0.9665333333333337,
          0.9955384615384614,
          0.8824545454545455,
          0.8581818181818182,
          0.8003636363636364,
          0.7358461538461539,
          0.6110909090909091,
          0.9882857142857142,
          1.0694444444444444,
          1.268,
          0.9875999999999998,
          1.0772727272727274,
          0.9665333333333337,
          0.9955384615384614,
          0.8824545454545455,
          0.8581818181818182,
          0.8003636363636364,
          0.7358461538461539,
          0.6110909090909091,
          0.9882857142857142,
          1.0694444444444444,
          1.268,
          0.9875999999999998,
          1.0772727272727274,
          0.9665333333333337,
          0.9955384615384614,
          0.8824545454545455,
          0.8581818181818182,
          0.8003636363636364,
          0.7358461538461539,
          0.6110909090909091,
          0.9882857142857142,
          1.0694444444444444,
          1.268,
          0.9875999999999998,
          1.0772727272727274,
          0.9665333333333337,
          0.9955384615384614,
          0.8824545454545455,
          0.8581818181818182,
          0.8003636363636364,
          0.7358461538461539,
          0.6110909090909091,
          0.9882857142857142,
          1.0694444444444444,
          1.268,
          0.9875999999999998,
          1.0772727272727274,
          0.9665333333333337,
          0.9955384615384614,
          0.8824545454545455,
          0.8581818181818182,
          0.8003636363636364,
          0.7358461538461539,
          0.6110909090909091,
          0.9882857142857142,
          1.0694444444444444,
          1.268,
          0.9875999999999998,
          1.0772727272727274,
          0.9665333333333337,
          0.9955384615384614,
          0.8824545454545455,
          0.8581818181818182,
          0.8003636363636364,
          0.7358461538461539,
          0.6110909090909091
         ],
         "yaxis": "y"
        },
        {
         "mode": "lines",
         "name": "night",
         "type": "scatter",
         "x": [
          "2002-01-31T00:00:00",
          "2002-02-28T00:00:00",
          "2002-03-31T00:00:00",
          "2002-04-30T00:00:00",
          "2002-05-31T00:00:00",
          "2002-06-30T00:00:00",
          "2002-07-31T00:00:00",
          "2002-08-31T00:00:00",
          "2002-09-30T00:00:00",
          "2002-10-31T00:00:00",
          "2002-11-30T00:00:00",
          "2002-12-31T00:00:00",
          "2003-01-31T00:00:00",
          "2003-02-28T00:00:00",
          "2003-03-31T00:00:00",
          "2003-04-30T00:00:00",
          "2003-05-31T00:00:00",
          "2003-06-30T00:00:00",
          "2003-07-31T00:00:00",
          "2003-08-31T00:00:00",
          "2003-09-30T00:00:00",
          "2003-10-31T00:00:00",
          "2003-11-30T00:00:00",
          "2003-12-31T00:00:00",
          "2004-01-31T00:00:00",
          "2004-02-29T00:00:00",
          "2004-03-31T00:00:00",
          "2004-04-30T00:00:00",
          "2004-05-31T00:00:00",
          "2004-06-30T00:00:00",
          "2004-07-31T00:00:00",
          "2004-08-31T00:00:00",
          "2004-09-30T00:00:00",
          "2004-10-31T00:00:00",
          "2004-11-30T00:00:00",
          "2004-12-31T00:00:00",
          "2005-01-31T00:00:00",
          "2005-02-28T00:00:00",
          "2005-03-31T00:00:00",
          "2005-04-30T00:00:00",
          "2005-05-31T00:00:00",
          "2005-06-30T00:00:00",
          "2005-07-31T00:00:00",
          "2005-08-31T00:00:00",
          "2005-09-30T00:00:00",
          "2005-10-31T00:00:00",
          "2005-11-30T00:00:00",
          "2005-12-31T00:00:00",
          "2006-01-31T00:00:00",
          "2006-02-28T00:00:00",
          "2006-03-31T00:00:00",
          "2006-04-30T00:00:00",
          "2006-05-31T00:00:00",
          "2006-06-30T00:00:00",
          "2006-07-31T00:00:00",
          "2006-08-31T00:00:00",
          "2006-09-30T00:00:00",
          "2006-10-31T00:00:00",
          "2006-11-30T00:00:00",
          "2006-12-31T00:00:00",
          "2007-01-31T00:00:00",
          "2007-02-28T00:00:00",
          "2007-03-31T00:00:00",
          "2007-04-30T00:00:00",
          "2007-05-31T00:00:00",
          "2007-06-30T00:00:00",
          "2007-07-31T00:00:00",
          "2007-08-31T00:00:00",
          "2007-09-30T00:00:00",
          "2007-10-31T00:00:00",
          "2007-11-30T00:00:00",
          "2007-12-31T00:00:00",
          "2008-01-31T00:00:00",
          "2008-02-29T00:00:00",
          "2008-03-31T00:00:00",
          "2008-04-30T00:00:00",
          "2008-05-31T00:00:00",
          "2008-06-30T00:00:00",
          "2008-07-31T00:00:00",
          "2008-08-31T00:00:00",
          "2008-09-30T00:00:00",
          "2008-10-31T00:00:00",
          "2008-11-30T00:00:00",
          "2008-12-31T00:00:00",
          "2009-01-31T00:00:00",
          "2009-02-28T00:00:00",
          "2009-03-31T00:00:00",
          "2009-04-30T00:00:00",
          "2009-05-31T00:00:00",
          "2009-06-30T00:00:00",
          "2009-07-31T00:00:00",
          "2009-08-31T00:00:00",
          "2009-09-30T00:00:00",
          "2009-10-31T00:00:00",
          "2009-11-30T00:00:00",
          "2009-12-31T00:00:00",
          "2010-01-31T00:00:00",
          "2010-02-28T00:00:00",
          "2010-03-31T00:00:00",
          "2010-04-30T00:00:00",
          "2010-05-31T00:00:00",
          "2010-06-30T00:00:00",
          "2010-07-31T00:00:00",
          "2010-08-31T00:00:00",
          "2010-09-30T00:00:00",
          "2010-10-31T00:00:00",
          "2010-11-30T00:00:00",
          "2010-12-31T00:00:00",
          "2011-01-31T00:00:00",
          "2011-02-28T00:00:00",
          "2011-03-31T00:00:00",
          "2011-04-30T00:00:00",
          "2011-05-31T00:00:00",
          "2011-06-30T00:00:00",
          "2011-07-31T00:00:00",
          "2011-08-31T00:00:00",
          "2011-09-30T00:00:00",
          "2011-10-31T00:00:00",
          "2011-11-30T00:00:00",
          "2011-12-31T00:00:00",
          "2012-01-31T00:00:00",
          "2012-02-29T00:00:00",
          "2012-03-31T00:00:00",
          "2012-04-30T00:00:00",
          "2012-05-31T00:00:00",
          "2012-06-30T00:00:00",
          "2012-07-31T00:00:00",
          "2012-08-31T00:00:00",
          "2012-09-30T00:00:00",
          "2012-10-31T00:00:00",
          "2012-11-30T00:00:00",
          "2012-12-31T00:00:00",
          "2013-01-31T00:00:00",
          "2013-02-28T00:00:00",
          "2013-03-31T00:00:00",
          "2013-04-30T00:00:00",
          "2013-05-31T00:00:00",
          "2013-06-30T00:00:00",
          "2013-07-31T00:00:00",
          "2013-08-31T00:00:00",
          "2013-09-30T00:00:00",
          "2013-10-31T00:00:00",
          "2013-11-30T00:00:00",
          "2013-12-31T00:00:00",
          "2014-01-31T00:00:00",
          "2014-02-28T00:00:00",
          "2014-03-31T00:00:00",
          "2014-04-30T00:00:00",
          "2014-05-31T00:00:00",
          "2014-06-30T00:00:00",
          "2014-07-31T00:00:00",
          "2014-08-31T00:00:00",
          "2014-09-30T00:00:00",
          "2014-10-31T00:00:00",
          "2014-11-30T00:00:00",
          "2014-12-31T00:00:00"
         ],
         "xaxis": "x2",
         "y": [
          1.2800000000000002,
          2.0274117647058825,
          2.048,
          1.9198947368421053,
          2.1385,
          1.1482735042735042,
          1.600153846153846,
          1.4864999999999997,
          1.4467272727272729,
          1.2472727272727275,
          1.0861818181818181,
          1.1760000000000002,
          1.2800000000000002,
          2.0274117647058825,
          2.048,
          1.9198947368421053,
          2.1385,
          1.1482735042735042,
          1.600153846153846,
          1.4864999999999997,
          1.4467272727272729,
          1.2472727272727275,
          1.0861818181818181,
          1.1760000000000002,
          1.2800000000000002,
          2.0274117647058825,
          2.048,
          1.9198947368421053,
          2.1385,
          1.1482735042735042,
          1.600153846153846,
          1.4864999999999997,
          1.4467272727272729,
          1.2472727272727275,
          1.0861818181818181,
          1.1760000000000002,
          1.2800000000000002,
          2.0274117647058825,
          2.048,
          1.9198947368421053,
          2.1385,
          1.1482735042735042,
          1.600153846153846,
          1.4864999999999997,
          1.4467272727272729,
          1.2472727272727275,
          1.0861818181818181,
          1.1760000000000002,
          1.2800000000000002,
          2.0274117647058825,
          2.048,
          1.9198947368421053,
          2.1385,
          1.1482735042735042,
          1.600153846153846,
          1.4864999999999997,
          1.4467272727272729,
          1.2472727272727275,
          1.0861818181818181,
          1.1760000000000002,
          1.2800000000000002,
          2.0274117647058825,
          2.048,
          1.9198947368421053,
          2.1385,
          1.1482735042735042,
          1.600153846153846,
          1.4864999999999997,
          1.4467272727272729,
          1.2472727272727275,
          1.0861818181818181,
          1.1760000000000002,
          1.2800000000000002,
          2.0274117647058825,
          2.048,
          1.9198947368421053,
          2.1385,
          1.1482735042735042,
          1.600153846153846,
          1.4864999999999997,
          1.4467272727272729,
          1.2472727272727275,
          1.0861818181818181,
          1.1760000000000002,
          1.2800000000000002,
          2.0274117647058825,
          2.048,
          1.9198947368421053,
          2.1385,
          1.1482735042735042,
          1.600153846153846,
          1.4864999999999997,
          1.4467272727272729,
          1.2472727272727275,
          1.0861818181818181,
          1.1760000000000002,
          1.2800000000000002,
          2.0274117647058825,
          2.048,
          1.9198947368421053,
          2.1385,
          1.1482735042735042,
          1.600153846153846,
          1.4864999999999997,
          1.4467272727272729,
          1.2472727272727275,
          1.0861818181818181,
          1.1760000000000002,
          1.2800000000000002,
          2.0274117647058825,
          2.048,
          1.9198947368421053,
          2.1385,
          1.1482735042735042,
          1.600153846153846,
          1.4864999999999997,
          1.4467272727272729,
          1.2472727272727275,
          1.0861818181818181,
          1.1760000000000002,
          1.2800000000000002,
          2.0274117647058825,
          2.048,
          1.9198947368421053,
          2.1385,
          1.1482735042735042,
          1.600153846153846,
          1.4864999999999997,
          1.4467272727272729,
          1.2472727272727275,
          1.0861818181818181,
          1.1760000000000002,
          1.2800000000000002,
          2.0274117647058825,
          2.048,
          1.9198947368421053,
          2.1385,
          1.1482735042735042,
          1.600153846153846,
          1.4864999999999997,
          1.4467272727272729,
          1.2472727272727275,
          1.0861818181818181,
          1.1760000000000002,
          1.2800000000000002,
          2.0274117647058825,
          2.048,
          1.9198947368421053,
          2.1385,
          1.1482735042735042,
          1.600153846153846,
          1.4864999999999997,
          1.4467272727272729,
          1.2472727272727275,
          1.0861818181818181,
          1.1760000000000002
         ],
         "yaxis": "y2"
        }
       ],
       "layout": {
        "annotations": [
         {
          "font": {
           "size": 16
          },
          "showarrow": false,
          "text": "Day Data",
          "x": 0.5,
          "xanchor": "center",
          "xref": "paper",
          "y": 1,
          "yanchor": "bottom",
          "yref": "paper"
         },
         {
          "font": {
           "size": 16
          },
          "showarrow": false,
          "text": "Night Data",
          "x": 0.5,
          "xanchor": "center",
          "xref": "paper",
          "y": 0.45,
          "yanchor": "bottom",
          "yref": "paper"
         }
        ],
        "height": 800,
        "template": {
         "data": {
          "bar": [
           {
            "error_x": {
             "color": "#2a3f5f"
            },
            "error_y": {
             "color": "#2a3f5f"
            },
            "marker": {
             "line": {
              "color": "#E5ECF6",
              "width": 0.5
             },
             "pattern": {
              "fillmode": "overlay",
              "size": 10,
              "solidity": 0.2
             }
            },
            "type": "bar"
           }
          ],
          "barpolar": [
           {
            "marker": {
             "line": {
              "color": "#E5ECF6",
              "width": 0.5
             },
             "pattern": {
              "fillmode": "overlay",
              "size": 10,
              "solidity": 0.2
             }
            },
            "type": "barpolar"
           }
          ],
          "carpet": [
           {
            "aaxis": {
             "endlinecolor": "#2a3f5f",
             "gridcolor": "white",
             "linecolor": "white",
             "minorgridcolor": "white",
             "startlinecolor": "#2a3f5f"
            },
            "baxis": {
             "endlinecolor": "#2a3f5f",
             "gridcolor": "white",
             "linecolor": "white",
             "minorgridcolor": "white",
             "startlinecolor": "#2a3f5f"
            },
            "type": "carpet"
           }
          ],
          "choropleth": [
           {
            "colorbar": {
             "outlinewidth": 0,
             "ticks": ""
            },
            "type": "choropleth"
           }
          ],
          "contour": [
           {
            "colorbar": {
             "outlinewidth": 0,
             "ticks": ""
            },
            "colorscale": [
             [
              0,
              "#0d0887"
             ],
             [
              0.1111111111111111,
              "#46039f"
             ],
             [
              0.2222222222222222,
              "#7201a8"
             ],
             [
              0.3333333333333333,
              "#9c179e"
             ],
             [
              0.4444444444444444,
              "#bd3786"
             ],
             [
              0.5555555555555556,
              "#d8576b"
             ],
             [
              0.6666666666666666,
              "#ed7953"
             ],
             [
              0.7777777777777778,
              "#fb9f3a"
             ],
             [
              0.8888888888888888,
              "#fdca26"
             ],
             [
              1,
              "#f0f921"
             ]
            ],
            "type": "contour"
           }
          ],
          "contourcarpet": [
           {
            "colorbar": {
             "outlinewidth": 0,
             "ticks": ""
            },
            "type": "contourcarpet"
           }
          ],
          "heatmap": [
           {
            "colorbar": {
             "outlinewidth": 0,
             "ticks": ""
            },
            "colorscale": [
             [
              0,
              "#0d0887"
             ],
             [
              0.1111111111111111,
              "#46039f"
             ],
             [
              0.2222222222222222,
              "#7201a8"
             ],
             [
              0.3333333333333333,
              "#9c179e"
             ],
             [
              0.4444444444444444,
              "#bd3786"
             ],
             [
              0.5555555555555556,
              "#d8576b"
             ],
             [
              0.6666666666666666,
              "#ed7953"
             ],
             [
              0.7777777777777778,
              "#fb9f3a"
             ],
             [
              0.8888888888888888,
              "#fdca26"
             ],
             [
              1,
              "#f0f921"
             ]
            ],
            "type": "heatmap"
           }
          ],
          "heatmapgl": [
           {
            "colorbar": {
             "outlinewidth": 0,
             "ticks": ""
            },
            "colorscale": [
             [
              0,
              "#0d0887"
             ],
             [
              0.1111111111111111,
              "#46039f"
             ],
             [
              0.2222222222222222,
              "#7201a8"
             ],
             [
              0.3333333333333333,
              "#9c179e"
             ],
             [
              0.4444444444444444,
              "#bd3786"
             ],
             [
              0.5555555555555556,
              "#d8576b"
             ],
             [
              0.6666666666666666,
              "#ed7953"
             ],
             [
              0.7777777777777778,
              "#fb9f3a"
             ],
             [
              0.8888888888888888,
              "#fdca26"
             ],
             [
              1,
              "#f0f921"
             ]
            ],
            "type": "heatmapgl"
           }
          ],
          "histogram": [
           {
            "marker": {
             "pattern": {
              "fillmode": "overlay",
              "size": 10,
              "solidity": 0.2
             }
            },
            "type": "histogram"
           }
          ],
          "histogram2d": [
           {
            "colorbar": {
             "outlinewidth": 0,
             "ticks": ""
            },
            "colorscale": [
             [
              0,
              "#0d0887"
             ],
             [
              0.1111111111111111,
              "#46039f"
             ],
             [
              0.2222222222222222,
              "#7201a8"
             ],
             [
              0.3333333333333333,
              "#9c179e"
             ],
             [
              0.4444444444444444,
              "#bd3786"
             ],
             [
              0.5555555555555556,
              "#d8576b"
             ],
             [
              0.6666666666666666,
              "#ed7953"
             ],
             [
              0.7777777777777778,
              "#fb9f3a"
             ],
             [
              0.8888888888888888,
              "#fdca26"
             ],
             [
              1,
              "#f0f921"
             ]
            ],
            "type": "histogram2d"
           }
          ],
          "histogram2dcontour": [
           {
            "colorbar": {
             "outlinewidth": 0,
             "ticks": ""
            },
            "colorscale": [
             [
              0,
              "#0d0887"
             ],
             [
              0.1111111111111111,
              "#46039f"
             ],
             [
              0.2222222222222222,
              "#7201a8"
             ],
             [
              0.3333333333333333,
              "#9c179e"
             ],
             [
              0.4444444444444444,
              "#bd3786"
             ],
             [
              0.5555555555555556,
              "#d8576b"
             ],
             [
              0.6666666666666666,
              "#ed7953"
             ],
             [
              0.7777777777777778,
              "#fb9f3a"
             ],
             [
              0.8888888888888888,
              "#fdca26"
             ],
             [
              1,
              "#f0f921"
             ]
            ],
            "type": "histogram2dcontour"
           }
          ],
          "mesh3d": [
           {
            "colorbar": {
             "outlinewidth": 0,
             "ticks": ""
            },
            "type": "mesh3d"
           }
          ],
          "parcoords": [
           {
            "line": {
             "colorbar": {
              "outlinewidth": 0,
              "ticks": ""
             }
            },
            "type": "parcoords"
           }
          ],
          "pie": [
           {
            "automargin": true,
            "type": "pie"
           }
          ],
          "scatter": [
           {
            "fillpattern": {
             "fillmode": "overlay",
             "size": 10,
             "solidity": 0.2
            },
            "type": "scatter"
           }
          ],
          "scatter3d": [
           {
            "line": {
             "colorbar": {
              "outlinewidth": 0,
              "ticks": ""
             }
            },
            "marker": {
             "colorbar": {
              "outlinewidth": 0,
              "ticks": ""
             }
            },
            "type": "scatter3d"
           }
          ],
          "scattercarpet": [
           {
            "marker": {
             "colorbar": {
              "outlinewidth": 0,
              "ticks": ""
             }
            },
            "type": "scattercarpet"
           }
          ],
          "scattergeo": [
           {
            "marker": {
             "colorbar": {
              "outlinewidth": 0,
              "ticks": ""
             }
            },
            "type": "scattergeo"
           }
          ],
          "scattergl": [
           {
            "marker": {
             "colorbar": {
              "outlinewidth": 0,
              "ticks": ""
             }
            },
            "type": "scattergl"
           }
          ],
          "scattermapbox": [
           {
            "marker": {
             "colorbar": {
              "outlinewidth": 0,
              "ticks": ""
             }
            },
            "type": "scattermapbox"
           }
          ],
          "scatterpolar": [
           {
            "marker": {
             "colorbar": {
              "outlinewidth": 0,
              "ticks": ""
             }
            },
            "type": "scatterpolar"
           }
          ],
          "scatterpolargl": [
           {
            "marker": {
             "colorbar": {
              "outlinewidth": 0,
              "ticks": ""
             }
            },
            "type": "scatterpolargl"
           }
          ],
          "scatterternary": [
           {
            "marker": {
             "colorbar": {
              "outlinewidth": 0,
              "ticks": ""
             }
            },
            "type": "scatterternary"
           }
          ],
          "surface": [
           {
            "colorbar": {
             "outlinewidth": 0,
             "ticks": ""
            },
            "colorscale": [
             [
              0,
              "#0d0887"
             ],
             [
              0.1111111111111111,
              "#46039f"
             ],
             [
              0.2222222222222222,
              "#7201a8"
             ],
             [
              0.3333333333333333,
              "#9c179e"
             ],
             [
              0.4444444444444444,
              "#bd3786"
             ],
             [
              0.5555555555555556,
              "#d8576b"
             ],
             [
              0.6666666666666666,
              "#ed7953"
             ],
             [
              0.7777777777777778,
              "#fb9f3a"
             ],
             [
              0.8888888888888888,
              "#fdca26"
             ],
             [
              1,
              "#f0f921"
             ]
            ],
            "type": "surface"
           }
          ],
          "table": [
           {
            "cells": {
             "fill": {
              "color": "#EBF0F8"
             },
             "line": {
              "color": "white"
             }
            },
            "header": {
             "fill": {
              "color": "#C8D4E3"
             },
             "line": {
              "color": "white"
             }
            },
            "type": "table"
           }
          ]
         },
         "layout": {
          "annotationdefaults": {
           "arrowcolor": "#2a3f5f",
           "arrowhead": 0,
           "arrowwidth": 1
          },
          "autotypenumbers": "strict",
          "coloraxis": {
           "colorbar": {
            "outlinewidth": 0,
            "ticks": ""
           }
          },
          "colorscale": {
           "diverging": [
            [
             0,
             "#8e0152"
            ],
            [
             0.1,
             "#c51b7d"
            ],
            [
             0.2,
             "#de77ae"
            ],
            [
             0.3,
             "#f1b6da"
            ],
            [
             0.4,
             "#fde0ef"
            ],
            [
             0.5,
             "#f7f7f7"
            ],
            [
             0.6,
             "#e6f5d0"
            ],
            [
             0.7,
             "#b8e186"
            ],
            [
             0.8,
             "#7fbc41"
            ],
            [
             0.9,
             "#4d9221"
            ],
            [
             1,
             "#276419"
            ]
           ],
           "sequential": [
            [
             0,
             "#0d0887"
            ],
            [
             0.1111111111111111,
             "#46039f"
            ],
            [
             0.2222222222222222,
             "#7201a8"
            ],
            [
             0.3333333333333333,
             "#9c179e"
            ],
            [
             0.4444444444444444,
             "#bd3786"
            ],
            [
             0.5555555555555556,
             "#d8576b"
            ],
            [
             0.6666666666666666,
             "#ed7953"
            ],
            [
             0.7777777777777778,
             "#fb9f3a"
            ],
            [
             0.8888888888888888,
             "#fdca26"
            ],
            [
             1,
             "#f0f921"
            ]
           ],
           "sequentialminus": [
            [
             0,
             "#0d0887"
            ],
            [
             0.1111111111111111,
             "#46039f"
            ],
            [
             0.2222222222222222,
             "#7201a8"
            ],
            [
             0.3333333333333333,
             "#9c179e"
            ],
            [
             0.4444444444444444,
             "#bd3786"
            ],
            [
             0.5555555555555556,
             "#d8576b"
            ],
            [
             0.6666666666666666,
             "#ed7953"
            ],
            [
             0.7777777777777778,
             "#fb9f3a"
            ],
            [
             0.8888888888888888,
             "#fdca26"
            ],
            [
             1,
             "#f0f921"
            ]
           ]
          },
          "colorway": [
           "#636efa",
           "#EF553B",
           "#00cc96",
           "#ab63fa",
           "#FFA15A",
           "#19d3f3",
           "#FF6692",
           "#B6E880",
           "#FF97FF",
           "#FECB52"
          ],
          "font": {
           "color": "#2a3f5f"
          },
          "geo": {
           "bgcolor": "white",
           "lakecolor": "white",
           "landcolor": "#E5ECF6",
           "showlakes": true,
           "showland": true,
           "subunitcolor": "white"
          },
          "hoverlabel": {
           "align": "left"
          },
          "hovermode": "closest",
          "mapbox": {
           "style": "light"
          },
          "paper_bgcolor": "white",
          "plot_bgcolor": "#E5ECF6",
          "polar": {
           "angularaxis": {
            "gridcolor": "white",
            "linecolor": "white",
            "ticks": ""
           },
           "bgcolor": "#E5ECF6",
           "radialaxis": {
            "gridcolor": "white",
            "linecolor": "white",
            "ticks": ""
           }
          },
          "scene": {
           "xaxis": {
            "backgroundcolor": "#E5ECF6",
            "gridcolor": "white",
            "gridwidth": 2,
            "linecolor": "white",
            "showbackground": true,
            "ticks": "",
            "zerolinecolor": "white"
           },
           "yaxis": {
            "backgroundcolor": "#E5ECF6",
            "gridcolor": "white",
            "gridwidth": 2,
            "linecolor": "white",
            "showbackground": true,
            "ticks": "",
            "zerolinecolor": "white"
           },
           "zaxis": {
            "backgroundcolor": "#E5ECF6",
            "gridcolor": "white",
            "gridwidth": 2,
            "linecolor": "white",
            "showbackground": true,
            "ticks": "",
            "zerolinecolor": "white"
           }
          },
          "shapedefaults": {
           "line": {
            "color": "#2a3f5f"
           }
          },
          "ternary": {
           "aaxis": {
            "gridcolor": "white",
            "linecolor": "white",
            "ticks": ""
           },
           "baxis": {
            "gridcolor": "white",
            "linecolor": "white",
            "ticks": ""
           },
           "bgcolor": "#E5ECF6",
           "caxis": {
            "gridcolor": "white",
            "linecolor": "white",
            "ticks": ""
           }
          },
          "title": {
           "x": 0.05
          },
          "xaxis": {
           "automargin": true,
           "gridcolor": "white",
           "linecolor": "white",
           "ticks": "",
           "title": {
            "standoff": 15
           },
           "zerolinecolor": "white",
           "zerolinewidth": 2
          },
          "yaxis": {
           "automargin": true,
           "gridcolor": "white",
           "linecolor": "white",
           "ticks": "",
           "title": {
            "standoff": 15
           },
           "zerolinecolor": "white",
           "zerolinewidth": 2
          }
         }
        },
        "title": {
         "text": "Comparison of Initial and Processed Data at Bats : With Trend"
        },
        "xaxis": {
         "anchor": "y",
         "domain": [
          0,
          1
         ],
         "matches": "x2",
         "showticklabels": false,
         "title": {
          "text": "Time"
         }
        },
        "xaxis2": {
         "anchor": "y2",
         "domain": [
          0,
          1
         ]
        },
        "yaxis": {
         "anchor": "x",
         "domain": [
          0.55,
          1
         ],
         "title": {
          "text": "Zooplankton biomass (mg/m3)"
         }
        },
        "yaxis2": {
         "anchor": "x2",
         "domain": [
          0,
          0.45
         ]
        }
       }
      }
     },
     "metadata": {},
     "output_type": "display_data"
    }
   ],
   "source": [
    "fig = make_subplots(\n",
    "    rows=2,\n",
    "    cols=1,\n",
    "    subplot_titles=(\"Day Data\", \"Night Data\"),\n",
    "    shared_xaxes=True,\n",
    "    vertical_spacing=0.1,\n",
    ")\n",
    "# augmente la taille de la figure\n",
    "fig.update_layout(height=800)\n",
    "\n",
    "# -------------------------------------------------------------------------------------------------------------------- #\n",
    "\n",
    "# Ajouter les données d'observation initiales de jour\n",
    "fig.add_trace(\n",
    "    go.Scatter(\n",
    "        x=day_data[\"time\"],\n",
    "        y=day_data,\n",
    "        mode=\"lines\",\n",
    "        name=\"Initial Day Data\",\n",
    "    ),\n",
    "    row=1,\n",
    "    col=1,\n",
    ")\n",
    "\n",
    "# Ajouter les données d'observation initiales de nuit\n",
    "fig.add_trace(\n",
    "    go.Scatter(\n",
    "        x=night_data[\"time\"],\n",
    "        y=night_data,\n",
    "        mode=\"lines\",\n",
    "        name=\"Initial Night Data\",\n",
    "    ),\n",
    "    row=2,\n",
    "    col=1,\n",
    ")\n",
    "\n",
    "# # -------------------------------------------------------------------------------------------------------------------- #\n",
    "\n",
    "# Ajouter les données de jour\n",
    "fig.add_trace(\n",
    "    go.Scatter(\n",
    "        x=climato_observations.day.mean([\"latitude\", \"longitude\"]).dropna(\"time\", how=\"all\").indexes[\"time\"],\n",
    "        y=climato_observations.day.mean([\"latitude\", \"longitude\"]).dropna(\"time\", how=\"all\"),\n",
    "        mode=\"lines\",\n",
    "        name=\"day\",\n",
    "    ),\n",
    "    row=1,\n",
    "    col=1,\n",
    ")\n",
    "\n",
    "# Ajouter les données de nuit\n",
    "fig.add_trace(\n",
    "    go.Scatter(\n",
    "        x=climato_observations.night.mean([\"latitude\", \"longitude\"]).dropna(\"time\", how=\"all\").indexes[\"time\"],\n",
    "        y=climato_observations.night.mean([\"latitude\", \"longitude\"]).dropna(\"time\", how=\"all\"),\n",
    "        mode=\"lines\",\n",
    "        name=\"night\",\n",
    "    ),\n",
    "    row=2,\n",
    "    col=1,\n",
    ")\n",
    "\n",
    "# -------------------------------------------------------------------------------------------------------------------- #\n",
    "\n",
    "# Mettre à jour la mise en page\n",
    "fig.update_layout(\n",
    "    title=f\"Comparison of Initial and Processed Data at {station} : With Trend\",\n",
    "    xaxis_title=\"Time\",\n",
    "    yaxis_title=\"Zooplankton biomass (mg/m3)\",\n",
    "    # night mode\n",
    "    # template=\"plotly_dark\",\n",
    ")\n",
    "\n",
    "fig.show()"
   ]
  },
  {
   "cell_type": "markdown",
   "metadata": {},
   "source": [
    "## Export\n"
   ]
  },
  {
   "cell_type": "code",
   "execution_count": 27,
   "metadata": {},
   "outputs": [
    {
     "data": {
      "text/html": [
       "<div><svg style=\"position: absolute; width: 0; height: 0; overflow: hidden\">\n",
       "<defs>\n",
       "<symbol id=\"icon-database\" viewBox=\"0 0 32 32\">\n",
       "<path d=\"M16 0c-8.837 0-16 2.239-16 5v4c0 2.761 7.163 5 16 5s16-2.239 16-5v-4c0-2.761-7.163-5-16-5z\"></path>\n",
       "<path d=\"M16 17c-8.837 0-16-2.239-16-5v6c0 2.761 7.163 5 16 5s16-2.239 16-5v-6c0 2.761-7.163 5-16 5z\"></path>\n",
       "<path d=\"M16 26c-8.837 0-16-2.239-16-5v6c0 2.761 7.163 5 16 5s16-2.239 16-5v-6c0 2.761-7.163 5-16 5z\"></path>\n",
       "</symbol>\n",
       "<symbol id=\"icon-file-text2\" viewBox=\"0 0 32 32\">\n",
       "<path d=\"M28.681 7.159c-0.694-0.947-1.662-2.053-2.724-3.116s-2.169-2.030-3.116-2.724c-1.612-1.182-2.393-1.319-2.841-1.319h-15.5c-1.378 0-2.5 1.121-2.5 2.5v27c0 1.378 1.122 2.5 2.5 2.5h23c1.378 0 2.5-1.122 2.5-2.5v-19.5c0-0.448-0.137-1.23-1.319-2.841zM24.543 5.457c0.959 0.959 1.712 1.825 2.268 2.543h-4.811v-4.811c0.718 0.556 1.584 1.309 2.543 2.268zM28 29.5c0 0.271-0.229 0.5-0.5 0.5h-23c-0.271 0-0.5-0.229-0.5-0.5v-27c0-0.271 0.229-0.5 0.5-0.5 0 0 15.499-0 15.5 0v7c0 0.552 0.448 1 1 1h7v19.5z\"></path>\n",
       "<path d=\"M23 26h-14c-0.552 0-1-0.448-1-1s0.448-1 1-1h14c0.552 0 1 0.448 1 1s-0.448 1-1 1z\"></path>\n",
       "<path d=\"M23 22h-14c-0.552 0-1-0.448-1-1s0.448-1 1-1h14c0.552 0 1 0.448 1 1s-0.448 1-1 1z\"></path>\n",
       "<path d=\"M23 18h-14c-0.552 0-1-0.448-1-1s0.448-1 1-1h14c0.552 0 1 0.448 1 1s-0.448 1-1 1z\"></path>\n",
       "</symbol>\n",
       "</defs>\n",
       "</svg>\n",
       "<style>/* CSS stylesheet for displaying xarray objects in jupyterlab.\n",
       " *\n",
       " */\n",
       "\n",
       ":root {\n",
       "  --xr-font-color0: var(--jp-content-font-color0, rgba(0, 0, 0, 1));\n",
       "  --xr-font-color2: var(--jp-content-font-color2, rgba(0, 0, 0, 0.54));\n",
       "  --xr-font-color3: var(--jp-content-font-color3, rgba(0, 0, 0, 0.38));\n",
       "  --xr-border-color: var(--jp-border-color2, #e0e0e0);\n",
       "  --xr-disabled-color: var(--jp-layout-color3, #bdbdbd);\n",
       "  --xr-background-color: var(--jp-layout-color0, white);\n",
       "  --xr-background-color-row-even: var(--jp-layout-color1, white);\n",
       "  --xr-background-color-row-odd: var(--jp-layout-color2, #eeeeee);\n",
       "}\n",
       "\n",
       "html[theme=\"dark\"],\n",
       "html[data-theme=\"dark\"],\n",
       "body[data-theme=\"dark\"],\n",
       "body.vscode-dark {\n",
       "  --xr-font-color0: rgba(255, 255, 255, 1);\n",
       "  --xr-font-color2: rgba(255, 255, 255, 0.54);\n",
       "  --xr-font-color3: rgba(255, 255, 255, 0.38);\n",
       "  --xr-border-color: #1f1f1f;\n",
       "  --xr-disabled-color: #515151;\n",
       "  --xr-background-color: #111111;\n",
       "  --xr-background-color-row-even: #111111;\n",
       "  --xr-background-color-row-odd: #313131;\n",
       "}\n",
       "\n",
       ".xr-wrap {\n",
       "  display: block !important;\n",
       "  min-width: 300px;\n",
       "  max-width: 700px;\n",
       "}\n",
       "\n",
       ".xr-text-repr-fallback {\n",
       "  /* fallback to plain text repr when CSS is not injected (untrusted notebook) */\n",
       "  display: none;\n",
       "}\n",
       "\n",
       ".xr-header {\n",
       "  padding-top: 6px;\n",
       "  padding-bottom: 6px;\n",
       "  margin-bottom: 4px;\n",
       "  border-bottom: solid 1px var(--xr-border-color);\n",
       "}\n",
       "\n",
       ".xr-header > div,\n",
       ".xr-header > ul {\n",
       "  display: inline;\n",
       "  margin-top: 0;\n",
       "  margin-bottom: 0;\n",
       "}\n",
       "\n",
       ".xr-obj-type,\n",
       ".xr-array-name {\n",
       "  margin-left: 2px;\n",
       "  margin-right: 10px;\n",
       "}\n",
       "\n",
       ".xr-obj-type {\n",
       "  color: var(--xr-font-color2);\n",
       "}\n",
       "\n",
       ".xr-sections {\n",
       "  padding-left: 0 !important;\n",
       "  display: grid;\n",
       "  grid-template-columns: 150px auto auto 1fr 0 20px 0 20px;\n",
       "}\n",
       "\n",
       ".xr-section-item {\n",
       "  display: contents;\n",
       "}\n",
       "\n",
       ".xr-section-item input {\n",
       "  display: inline-block;\n",
       "  opacity: 0;\n",
       "  height: 0;\n",
       "}\n",
       "\n",
       ".xr-section-item input + label {\n",
       "  color: var(--xr-disabled-color);\n",
       "}\n",
       "\n",
       ".xr-section-item input:enabled + label {\n",
       "  cursor: pointer;\n",
       "  color: var(--xr-font-color2);\n",
       "}\n",
       "\n",
       ".xr-section-item input:focus + label {\n",
       "  border: 2px solid var(--xr-font-color0);\n",
       "}\n",
       "\n",
       ".xr-section-item input:enabled + label:hover {\n",
       "  color: var(--xr-font-color0);\n",
       "}\n",
       "\n",
       ".xr-section-summary {\n",
       "  grid-column: 1;\n",
       "  color: var(--xr-font-color2);\n",
       "  font-weight: 500;\n",
       "}\n",
       "\n",
       ".xr-section-summary > span {\n",
       "  display: inline-block;\n",
       "  padding-left: 0.5em;\n",
       "}\n",
       "\n",
       ".xr-section-summary-in:disabled + label {\n",
       "  color: var(--xr-font-color2);\n",
       "}\n",
       "\n",
       ".xr-section-summary-in + label:before {\n",
       "  display: inline-block;\n",
       "  content: \"►\";\n",
       "  font-size: 11px;\n",
       "  width: 15px;\n",
       "  text-align: center;\n",
       "}\n",
       "\n",
       ".xr-section-summary-in:disabled + label:before {\n",
       "  color: var(--xr-disabled-color);\n",
       "}\n",
       "\n",
       ".xr-section-summary-in:checked + label:before {\n",
       "  content: \"▼\";\n",
       "}\n",
       "\n",
       ".xr-section-summary-in:checked + label > span {\n",
       "  display: none;\n",
       "}\n",
       "\n",
       ".xr-section-summary,\n",
       ".xr-section-inline-details {\n",
       "  padding-top: 4px;\n",
       "  padding-bottom: 4px;\n",
       "}\n",
       "\n",
       ".xr-section-inline-details {\n",
       "  grid-column: 2 / -1;\n",
       "}\n",
       "\n",
       ".xr-section-details {\n",
       "  display: none;\n",
       "  grid-column: 1 / -1;\n",
       "  margin-bottom: 5px;\n",
       "}\n",
       "\n",
       ".xr-section-summary-in:checked ~ .xr-section-details {\n",
       "  display: contents;\n",
       "}\n",
       "\n",
       ".xr-array-wrap {\n",
       "  grid-column: 1 / -1;\n",
       "  display: grid;\n",
       "  grid-template-columns: 20px auto;\n",
       "}\n",
       "\n",
       ".xr-array-wrap > label {\n",
       "  grid-column: 1;\n",
       "  vertical-align: top;\n",
       "}\n",
       "\n",
       ".xr-preview {\n",
       "  color: var(--xr-font-color3);\n",
       "}\n",
       "\n",
       ".xr-array-preview,\n",
       ".xr-array-data {\n",
       "  padding: 0 5px !important;\n",
       "  grid-column: 2;\n",
       "}\n",
       "\n",
       ".xr-array-data,\n",
       ".xr-array-in:checked ~ .xr-array-preview {\n",
       "  display: none;\n",
       "}\n",
       "\n",
       ".xr-array-in:checked ~ .xr-array-data,\n",
       ".xr-array-preview {\n",
       "  display: inline-block;\n",
       "}\n",
       "\n",
       ".xr-dim-list {\n",
       "  display: inline-block !important;\n",
       "  list-style: none;\n",
       "  padding: 0 !important;\n",
       "  margin: 0;\n",
       "}\n",
       "\n",
       ".xr-dim-list li {\n",
       "  display: inline-block;\n",
       "  padding: 0;\n",
       "  margin: 0;\n",
       "}\n",
       "\n",
       ".xr-dim-list:before {\n",
       "  content: \"(\";\n",
       "}\n",
       "\n",
       ".xr-dim-list:after {\n",
       "  content: \")\";\n",
       "}\n",
       "\n",
       ".xr-dim-list li:not(:last-child):after {\n",
       "  content: \",\";\n",
       "  padding-right: 5px;\n",
       "}\n",
       "\n",
       ".xr-has-index {\n",
       "  font-weight: bold;\n",
       "}\n",
       "\n",
       ".xr-var-list,\n",
       ".xr-var-item {\n",
       "  display: contents;\n",
       "}\n",
       "\n",
       ".xr-var-item > div,\n",
       ".xr-var-item label,\n",
       ".xr-var-item > .xr-var-name span {\n",
       "  background-color: var(--xr-background-color-row-even);\n",
       "  margin-bottom: 0;\n",
       "}\n",
       "\n",
       ".xr-var-item > .xr-var-name:hover span {\n",
       "  padding-right: 5px;\n",
       "}\n",
       "\n",
       ".xr-var-list > li:nth-child(odd) > div,\n",
       ".xr-var-list > li:nth-child(odd) > label,\n",
       ".xr-var-list > li:nth-child(odd) > .xr-var-name span {\n",
       "  background-color: var(--xr-background-color-row-odd);\n",
       "}\n",
       "\n",
       ".xr-var-name {\n",
       "  grid-column: 1;\n",
       "}\n",
       "\n",
       ".xr-var-dims {\n",
       "  grid-column: 2;\n",
       "}\n",
       "\n",
       ".xr-var-dtype {\n",
       "  grid-column: 3;\n",
       "  text-align: right;\n",
       "  color: var(--xr-font-color2);\n",
       "}\n",
       "\n",
       ".xr-var-preview {\n",
       "  grid-column: 4;\n",
       "}\n",
       "\n",
       ".xr-index-preview {\n",
       "  grid-column: 2 / 5;\n",
       "  color: var(--xr-font-color2);\n",
       "}\n",
       "\n",
       ".xr-var-name,\n",
       ".xr-var-dims,\n",
       ".xr-var-dtype,\n",
       ".xr-preview,\n",
       ".xr-attrs dt {\n",
       "  white-space: nowrap;\n",
       "  overflow: hidden;\n",
       "  text-overflow: ellipsis;\n",
       "  padding-right: 10px;\n",
       "}\n",
       "\n",
       ".xr-var-name:hover,\n",
       ".xr-var-dims:hover,\n",
       ".xr-var-dtype:hover,\n",
       ".xr-attrs dt:hover {\n",
       "  overflow: visible;\n",
       "  width: auto;\n",
       "  z-index: 1;\n",
       "}\n",
       "\n",
       ".xr-var-attrs,\n",
       ".xr-var-data,\n",
       ".xr-index-data {\n",
       "  display: none;\n",
       "  background-color: var(--xr-background-color) !important;\n",
       "  padding-bottom: 5px !important;\n",
       "}\n",
       "\n",
       ".xr-var-attrs-in:checked ~ .xr-var-attrs,\n",
       ".xr-var-data-in:checked ~ .xr-var-data,\n",
       ".xr-index-data-in:checked ~ .xr-index-data {\n",
       "  display: block;\n",
       "}\n",
       "\n",
       ".xr-var-data > table {\n",
       "  float: right;\n",
       "}\n",
       "\n",
       ".xr-var-name span,\n",
       ".xr-var-data,\n",
       ".xr-index-name div,\n",
       ".xr-index-data,\n",
       ".xr-attrs {\n",
       "  padding-left: 25px !important;\n",
       "}\n",
       "\n",
       ".xr-attrs,\n",
       ".xr-var-attrs,\n",
       ".xr-var-data,\n",
       ".xr-index-data {\n",
       "  grid-column: 1 / -1;\n",
       "}\n",
       "\n",
       "dl.xr-attrs {\n",
       "  padding: 0;\n",
       "  margin: 0;\n",
       "  display: grid;\n",
       "  grid-template-columns: 125px auto;\n",
       "}\n",
       "\n",
       ".xr-attrs dt,\n",
       ".xr-attrs dd {\n",
       "  padding: 0;\n",
       "  margin: 0;\n",
       "  float: left;\n",
       "  padding-right: 10px;\n",
       "  width: auto;\n",
       "}\n",
       "\n",
       ".xr-attrs dt {\n",
       "  font-weight: normal;\n",
       "  grid-column: 1;\n",
       "}\n",
       "\n",
       ".xr-attrs dt:hover span {\n",
       "  display: inline-block;\n",
       "  background: var(--xr-background-color);\n",
       "  padding-right: 10px;\n",
       "}\n",
       "\n",
       ".xr-attrs dd {\n",
       "  grid-column: 2;\n",
       "  white-space: pre-wrap;\n",
       "  word-break: break-all;\n",
       "}\n",
       "\n",
       ".xr-icon-database,\n",
       ".xr-icon-file-text2,\n",
       ".xr-no-icon {\n",
       "  display: inline-block;\n",
       "  vertical-align: middle;\n",
       "  width: 1em;\n",
       "  height: 1.5em !important;\n",
       "  stroke-width: 0;\n",
       "  stroke: currentColor;\n",
       "  fill: currentColor;\n",
       "}\n",
       "</style><pre class='xr-text-repr-fallback'>&lt;xarray.Dataset&gt; Size: 4kB\n",
       "Dimensions:    (layer: 1, time: 156, latitude: 1, longitude: 1)\n",
       "Coordinates:\n",
       "  * layer      (layer) int64 8B 0\n",
       "  * time       (time) datetime64[ns] 1kB 2002-01-31 2002-02-28 ... 2014-12-31\n",
       "  * latitude   (latitude) float64 8B 31.6\n",
       "  * longitude  (longitude) float64 8B -64.2\n",
       "Data variables:\n",
       "    day        (time, latitude, longitude, layer) float64 1kB 0.9883 ... 0.6111\n",
       "    night      (time, latitude, longitude, layer) float64 1kB 1.28 ... 1.176\n",
       "Attributes:\n",
       "    desc:     Aggregated and smoothed observations using lowess filtre.</pre><div class='xr-wrap' style='display:none'><div class='xr-header'><div class='xr-obj-type'>xarray.Dataset</div></div><ul class='xr-sections'><li class='xr-section-item'><input id='section-a84f0c80-8128-424b-b63c-1adbfc212261' class='xr-section-summary-in' type='checkbox' disabled ><label for='section-a84f0c80-8128-424b-b63c-1adbfc212261' class='xr-section-summary'  title='Expand/collapse section'>Dimensions:</label><div class='xr-section-inline-details'><ul class='xr-dim-list'><li><span class='xr-has-index'>layer</span>: 1</li><li><span class='xr-has-index'>time</span>: 156</li><li><span class='xr-has-index'>latitude</span>: 1</li><li><span class='xr-has-index'>longitude</span>: 1</li></ul></div><div class='xr-section-details'></div></li><li class='xr-section-item'><input id='section-f16c7ab4-8304-4f0c-a466-765cf83c0c0c' class='xr-section-summary-in' type='checkbox'  checked><label for='section-f16c7ab4-8304-4f0c-a466-765cf83c0c0c' class='xr-section-summary' >Coordinates: <span>(4)</span></label><div class='xr-section-inline-details'></div><div class='xr-section-details'><ul class='xr-var-list'><li class='xr-var-item'><div class='xr-var-name'><span class='xr-has-index'>layer</span></div><div class='xr-var-dims'>(layer)</div><div class='xr-var-dtype'>int64</div><div class='xr-var-preview xr-preview'>0</div><input id='attrs-ed196b32-3f27-43dc-a2e1-261897de892c' class='xr-var-attrs-in' type='checkbox' ><label for='attrs-ed196b32-3f27-43dc-a2e1-261897de892c' title='Show/Hide attributes'><svg class='icon xr-icon-file-text2'><use xlink:href='#icon-file-text2'></use></svg></label><input id='data-53d44cd8-5e00-4155-907b-0e4c35aed316' class='xr-var-data-in' type='checkbox'><label for='data-53d44cd8-5e00-4155-907b-0e4c35aed316' title='Show/Hide data repr'><svg class='icon xr-icon-database'><use xlink:href='#icon-database'></use></svg></label><div class='xr-var-attrs'><dl class='xr-attrs'><dt><span>axis :</span></dt><dd>Z</dd><dt><span>desc :</span></dt><dd>The layer depth according to Seapodym definition</dd><dt><span>flag_meanings :</span></dt><dd>epipelagic, upper-mesopelagic, lower-mesopelagic</dd><dt><span>flag_values :</span></dt><dd>[0, 1, 2]</dd><dt><span>long_name :</span></dt><dd>Layer depth</dd><dt><span>standard_name :</span></dt><dd>layer</dd></dl></div><div class='xr-var-data'><pre>array([0])</pre></div></li><li class='xr-var-item'><div class='xr-var-name'><span class='xr-has-index'>time</span></div><div class='xr-var-dims'>(time)</div><div class='xr-var-dtype'>datetime64[ns]</div><div class='xr-var-preview xr-preview'>2002-01-31 ... 2014-12-31</div><input id='attrs-347066dd-e6c8-46e7-b5ca-969fa120b232' class='xr-var-attrs-in' type='checkbox' ><label for='attrs-347066dd-e6c8-46e7-b5ca-969fa120b232' title='Show/Hide attributes'><svg class='icon xr-icon-file-text2'><use xlink:href='#icon-file-text2'></use></svg></label><input id='data-3e589ee3-b3a3-484a-bd9b-99c190c3d4bc' class='xr-var-data-in' type='checkbox'><label for='data-3e589ee3-b3a3-484a-bd9b-99c190c3d4bc' title='Show/Hide data repr'><svg class='icon xr-icon-database'><use xlink:href='#icon-database'></use></svg></label><div class='xr-var-attrs'><dl class='xr-attrs'><dt><span>axis :</span></dt><dd>T</dd><dt><span>long_name :</span></dt><dd>time</dd><dt><span>standard_name :</span></dt><dd>time</dd></dl></div><div class='xr-var-data'><pre>array([&#x27;2002-01-31T00:00:00.000000000&#x27;, &#x27;2002-02-28T00:00:00.000000000&#x27;,\n",
       "       &#x27;2002-03-31T00:00:00.000000000&#x27;, &#x27;2002-04-30T00:00:00.000000000&#x27;,\n",
       "       &#x27;2002-05-31T00:00:00.000000000&#x27;, &#x27;2002-06-30T00:00:00.000000000&#x27;,\n",
       "       &#x27;2002-07-31T00:00:00.000000000&#x27;, &#x27;2002-08-31T00:00:00.000000000&#x27;,\n",
       "       &#x27;2002-09-30T00:00:00.000000000&#x27;, &#x27;2002-10-31T00:00:00.000000000&#x27;,\n",
       "       &#x27;2002-11-30T00:00:00.000000000&#x27;, &#x27;2002-12-31T00:00:00.000000000&#x27;,\n",
       "       &#x27;2003-01-31T00:00:00.000000000&#x27;, &#x27;2003-02-28T00:00:00.000000000&#x27;,\n",
       "       &#x27;2003-03-31T00:00:00.000000000&#x27;, &#x27;2003-04-30T00:00:00.000000000&#x27;,\n",
       "       &#x27;2003-05-31T00:00:00.000000000&#x27;, &#x27;2003-06-30T00:00:00.000000000&#x27;,\n",
       "       &#x27;2003-07-31T00:00:00.000000000&#x27;, &#x27;2003-08-31T00:00:00.000000000&#x27;,\n",
       "       &#x27;2003-09-30T00:00:00.000000000&#x27;, &#x27;2003-10-31T00:00:00.000000000&#x27;,\n",
       "       &#x27;2003-11-30T00:00:00.000000000&#x27;, &#x27;2003-12-31T00:00:00.000000000&#x27;,\n",
       "       &#x27;2004-01-31T00:00:00.000000000&#x27;, &#x27;2004-02-29T00:00:00.000000000&#x27;,\n",
       "       &#x27;2004-03-31T00:00:00.000000000&#x27;, &#x27;2004-04-30T00:00:00.000000000&#x27;,\n",
       "       &#x27;2004-05-31T00:00:00.000000000&#x27;, &#x27;2004-06-30T00:00:00.000000000&#x27;,\n",
       "       &#x27;2004-07-31T00:00:00.000000000&#x27;, &#x27;2004-08-31T00:00:00.000000000&#x27;,\n",
       "       &#x27;2004-09-30T00:00:00.000000000&#x27;, &#x27;2004-10-31T00:00:00.000000000&#x27;,\n",
       "       &#x27;2004-11-30T00:00:00.000000000&#x27;, &#x27;2004-12-31T00:00:00.000000000&#x27;,\n",
       "       &#x27;2005-01-31T00:00:00.000000000&#x27;, &#x27;2005-02-28T00:00:00.000000000&#x27;,\n",
       "       &#x27;2005-03-31T00:00:00.000000000&#x27;, &#x27;2005-04-30T00:00:00.000000000&#x27;,\n",
       "       &#x27;2005-05-31T00:00:00.000000000&#x27;, &#x27;2005-06-30T00:00:00.000000000&#x27;,\n",
       "       &#x27;2005-07-31T00:00:00.000000000&#x27;, &#x27;2005-08-31T00:00:00.000000000&#x27;,\n",
       "       &#x27;2005-09-30T00:00:00.000000000&#x27;, &#x27;2005-10-31T00:00:00.000000000&#x27;,\n",
       "       &#x27;2005-11-30T00:00:00.000000000&#x27;, &#x27;2005-12-31T00:00:00.000000000&#x27;,\n",
       "       &#x27;2006-01-31T00:00:00.000000000&#x27;, &#x27;2006-02-28T00:00:00.000000000&#x27;,\n",
       "       &#x27;2006-03-31T00:00:00.000000000&#x27;, &#x27;2006-04-30T00:00:00.000000000&#x27;,\n",
       "       &#x27;2006-05-31T00:00:00.000000000&#x27;, &#x27;2006-06-30T00:00:00.000000000&#x27;,\n",
       "       &#x27;2006-07-31T00:00:00.000000000&#x27;, &#x27;2006-08-31T00:00:00.000000000&#x27;,\n",
       "       &#x27;2006-09-30T00:00:00.000000000&#x27;, &#x27;2006-10-31T00:00:00.000000000&#x27;,\n",
       "       &#x27;2006-11-30T00:00:00.000000000&#x27;, &#x27;2006-12-31T00:00:00.000000000&#x27;,\n",
       "       &#x27;2007-01-31T00:00:00.000000000&#x27;, &#x27;2007-02-28T00:00:00.000000000&#x27;,\n",
       "       &#x27;2007-03-31T00:00:00.000000000&#x27;, &#x27;2007-04-30T00:00:00.000000000&#x27;,\n",
       "       &#x27;2007-05-31T00:00:00.000000000&#x27;, &#x27;2007-06-30T00:00:00.000000000&#x27;,\n",
       "       &#x27;2007-07-31T00:00:00.000000000&#x27;, &#x27;2007-08-31T00:00:00.000000000&#x27;,\n",
       "       &#x27;2007-09-30T00:00:00.000000000&#x27;, &#x27;2007-10-31T00:00:00.000000000&#x27;,\n",
       "       &#x27;2007-11-30T00:00:00.000000000&#x27;, &#x27;2007-12-31T00:00:00.000000000&#x27;,\n",
       "       &#x27;2008-01-31T00:00:00.000000000&#x27;, &#x27;2008-02-29T00:00:00.000000000&#x27;,\n",
       "       &#x27;2008-03-31T00:00:00.000000000&#x27;, &#x27;2008-04-30T00:00:00.000000000&#x27;,\n",
       "       &#x27;2008-05-31T00:00:00.000000000&#x27;, &#x27;2008-06-30T00:00:00.000000000&#x27;,\n",
       "       &#x27;2008-07-31T00:00:00.000000000&#x27;, &#x27;2008-08-31T00:00:00.000000000&#x27;,\n",
       "       &#x27;2008-09-30T00:00:00.000000000&#x27;, &#x27;2008-10-31T00:00:00.000000000&#x27;,\n",
       "       &#x27;2008-11-30T00:00:00.000000000&#x27;, &#x27;2008-12-31T00:00:00.000000000&#x27;,\n",
       "       &#x27;2009-01-31T00:00:00.000000000&#x27;, &#x27;2009-02-28T00:00:00.000000000&#x27;,\n",
       "       &#x27;2009-03-31T00:00:00.000000000&#x27;, &#x27;2009-04-30T00:00:00.000000000&#x27;,\n",
       "       &#x27;2009-05-31T00:00:00.000000000&#x27;, &#x27;2009-06-30T00:00:00.000000000&#x27;,\n",
       "       &#x27;2009-07-31T00:00:00.000000000&#x27;, &#x27;2009-08-31T00:00:00.000000000&#x27;,\n",
       "       &#x27;2009-09-30T00:00:00.000000000&#x27;, &#x27;2009-10-31T00:00:00.000000000&#x27;,\n",
       "       &#x27;2009-11-30T00:00:00.000000000&#x27;, &#x27;2009-12-31T00:00:00.000000000&#x27;,\n",
       "       &#x27;2010-01-31T00:00:00.000000000&#x27;, &#x27;2010-02-28T00:00:00.000000000&#x27;,\n",
       "       &#x27;2010-03-31T00:00:00.000000000&#x27;, &#x27;2010-04-30T00:00:00.000000000&#x27;,\n",
       "       &#x27;2010-05-31T00:00:00.000000000&#x27;, &#x27;2010-06-30T00:00:00.000000000&#x27;,\n",
       "       &#x27;2010-07-31T00:00:00.000000000&#x27;, &#x27;2010-08-31T00:00:00.000000000&#x27;,\n",
       "       &#x27;2010-09-30T00:00:00.000000000&#x27;, &#x27;2010-10-31T00:00:00.000000000&#x27;,\n",
       "       &#x27;2010-11-30T00:00:00.000000000&#x27;, &#x27;2010-12-31T00:00:00.000000000&#x27;,\n",
       "       &#x27;2011-01-31T00:00:00.000000000&#x27;, &#x27;2011-02-28T00:00:00.000000000&#x27;,\n",
       "       &#x27;2011-03-31T00:00:00.000000000&#x27;, &#x27;2011-04-30T00:00:00.000000000&#x27;,\n",
       "       &#x27;2011-05-31T00:00:00.000000000&#x27;, &#x27;2011-06-30T00:00:00.000000000&#x27;,\n",
       "       &#x27;2011-07-31T00:00:00.000000000&#x27;, &#x27;2011-08-31T00:00:00.000000000&#x27;,\n",
       "       &#x27;2011-09-30T00:00:00.000000000&#x27;, &#x27;2011-10-31T00:00:00.000000000&#x27;,\n",
       "       &#x27;2011-11-30T00:00:00.000000000&#x27;, &#x27;2011-12-31T00:00:00.000000000&#x27;,\n",
       "       &#x27;2012-01-31T00:00:00.000000000&#x27;, &#x27;2012-02-29T00:00:00.000000000&#x27;,\n",
       "       &#x27;2012-03-31T00:00:00.000000000&#x27;, &#x27;2012-04-30T00:00:00.000000000&#x27;,\n",
       "       &#x27;2012-05-31T00:00:00.000000000&#x27;, &#x27;2012-06-30T00:00:00.000000000&#x27;,\n",
       "       &#x27;2012-07-31T00:00:00.000000000&#x27;, &#x27;2012-08-31T00:00:00.000000000&#x27;,\n",
       "       &#x27;2012-09-30T00:00:00.000000000&#x27;, &#x27;2012-10-31T00:00:00.000000000&#x27;,\n",
       "       &#x27;2012-11-30T00:00:00.000000000&#x27;, &#x27;2012-12-31T00:00:00.000000000&#x27;,\n",
       "       &#x27;2013-01-31T00:00:00.000000000&#x27;, &#x27;2013-02-28T00:00:00.000000000&#x27;,\n",
       "       &#x27;2013-03-31T00:00:00.000000000&#x27;, &#x27;2013-04-30T00:00:00.000000000&#x27;,\n",
       "       &#x27;2013-05-31T00:00:00.000000000&#x27;, &#x27;2013-06-30T00:00:00.000000000&#x27;,\n",
       "       &#x27;2013-07-31T00:00:00.000000000&#x27;, &#x27;2013-08-31T00:00:00.000000000&#x27;,\n",
       "       &#x27;2013-09-30T00:00:00.000000000&#x27;, &#x27;2013-10-31T00:00:00.000000000&#x27;,\n",
       "       &#x27;2013-11-30T00:00:00.000000000&#x27;, &#x27;2013-12-31T00:00:00.000000000&#x27;,\n",
       "       &#x27;2014-01-31T00:00:00.000000000&#x27;, &#x27;2014-02-28T00:00:00.000000000&#x27;,\n",
       "       &#x27;2014-03-31T00:00:00.000000000&#x27;, &#x27;2014-04-30T00:00:00.000000000&#x27;,\n",
       "       &#x27;2014-05-31T00:00:00.000000000&#x27;, &#x27;2014-06-30T00:00:00.000000000&#x27;,\n",
       "       &#x27;2014-07-31T00:00:00.000000000&#x27;, &#x27;2014-08-31T00:00:00.000000000&#x27;,\n",
       "       &#x27;2014-09-30T00:00:00.000000000&#x27;, &#x27;2014-10-31T00:00:00.000000000&#x27;,\n",
       "       &#x27;2014-11-30T00:00:00.000000000&#x27;, &#x27;2014-12-31T00:00:00.000000000&#x27;],\n",
       "      dtype=&#x27;datetime64[ns]&#x27;)</pre></div></li><li class='xr-var-item'><div class='xr-var-name'><span class='xr-has-index'>latitude</span></div><div class='xr-var-dims'>(latitude)</div><div class='xr-var-dtype'>float64</div><div class='xr-var-preview xr-preview'>31.6</div><input id='attrs-201eadbd-8bbe-4e94-adc0-312d667a6b86' class='xr-var-attrs-in' type='checkbox' ><label for='attrs-201eadbd-8bbe-4e94-adc0-312d667a6b86' title='Show/Hide attributes'><svg class='icon xr-icon-file-text2'><use xlink:href='#icon-file-text2'></use></svg></label><input id='data-c9b68f07-291b-4e7f-9ed9-baec21e755da' class='xr-var-data-in' type='checkbox'><label for='data-c9b68f07-291b-4e7f-9ed9-baec21e755da' title='Show/Hide data repr'><svg class='icon xr-icon-database'><use xlink:href='#icon-database'></use></svg></label><div class='xr-var-attrs'><dl class='xr-attrs'><dt><span>axis :</span></dt><dd>Y</dd><dt><span>long_name :</span></dt><dd>Latitude</dd><dt><span>standard_name :</span></dt><dd>latitude</dd><dt><span>units :</span></dt><dd>degrees_north</dd></dl></div><div class='xr-var-data'><pre>array([31.6])</pre></div></li><li class='xr-var-item'><div class='xr-var-name'><span class='xr-has-index'>longitude</span></div><div class='xr-var-dims'>(longitude)</div><div class='xr-var-dtype'>float64</div><div class='xr-var-preview xr-preview'>-64.2</div><input id='attrs-8a714c8f-3127-408c-8304-6c2666fba5d3' class='xr-var-attrs-in' type='checkbox' ><label for='attrs-8a714c8f-3127-408c-8304-6c2666fba5d3' title='Show/Hide attributes'><svg class='icon xr-icon-file-text2'><use xlink:href='#icon-file-text2'></use></svg></label><input id='data-f1f42a4d-cf8d-47e5-8523-a1c1a7ea394c' class='xr-var-data-in' type='checkbox'><label for='data-f1f42a4d-cf8d-47e5-8523-a1c1a7ea394c' title='Show/Hide data repr'><svg class='icon xr-icon-database'><use xlink:href='#icon-database'></use></svg></label><div class='xr-var-attrs'><dl class='xr-attrs'><dt><span>axis :</span></dt><dd>X</dd><dt><span>long_name :</span></dt><dd>Longitude</dd><dt><span>standard_name :</span></dt><dd>longitude</dd><dt><span>units :</span></dt><dd>degrees_east</dd></dl></div><div class='xr-var-data'><pre>array([-64.2])</pre></div></li></ul></div></li><li class='xr-section-item'><input id='section-b7f20451-21c3-4e1b-8acb-7ab287e11275' class='xr-section-summary-in' type='checkbox'  checked><label for='section-b7f20451-21c3-4e1b-8acb-7ab287e11275' class='xr-section-summary' >Data variables: <span>(2)</span></label><div class='xr-section-inline-details'></div><div class='xr-section-details'><ul class='xr-var-list'><li class='xr-var-item'><div class='xr-var-name'><span>day</span></div><div class='xr-var-dims'>(time, latitude, longitude, layer)</div><div class='xr-var-dtype'>float64</div><div class='xr-var-preview xr-preview'>0.9883 1.069 ... 0.7358 0.6111</div><input id='attrs-2b0e1f2e-c31c-46a4-97c4-dcfc406aa563' class='xr-var-attrs-in' type='checkbox' ><label for='attrs-2b0e1f2e-c31c-46a4-97c4-dcfc406aa563' title='Show/Hide attributes'><svg class='icon xr-icon-file-text2'><use xlink:href='#icon-file-text2'></use></svg></label><input id='data-dd7faea3-1a3c-4730-9fae-ed1d90fd0a79' class='xr-var-data-in' type='checkbox'><label for='data-dd7faea3-1a3c-4730-9fae-ed1d90fd0a79' title='Show/Hide data repr'><svg class='icon xr-icon-database'><use xlink:href='#icon-database'></use></svg></label><div class='xr-var-attrs'><dl class='xr-attrs'><dt><span>description :</span></dt><dd>Zooplankton carbon weight by cube meter of sea water during the day</dd><dt><span>units :</span></dt><dd>mg/m3</dd></dl></div><div class='xr-var-data'><pre>array([[[[0.98828571]]],\n",
       "\n",
       "\n",
       "       [[[1.06944444]]],\n",
       "\n",
       "\n",
       "       [[[1.268     ]]],\n",
       "\n",
       "\n",
       "       [[[0.9876    ]]],\n",
       "\n",
       "\n",
       "       [[[1.07727273]]],\n",
       "\n",
       "\n",
       "       [[[0.96653333]]],\n",
       "\n",
       "\n",
       "       [[[0.99553846]]],\n",
       "\n",
       "...\n",
       "\n",
       "       [[[0.96653333]]],\n",
       "\n",
       "\n",
       "       [[[0.99553846]]],\n",
       "\n",
       "\n",
       "       [[[0.88245455]]],\n",
       "\n",
       "\n",
       "       [[[0.85818182]]],\n",
       "\n",
       "\n",
       "       [[[0.80036364]]],\n",
       "\n",
       "\n",
       "       [[[0.73584615]]],\n",
       "\n",
       "\n",
       "       [[[0.61109091]]]])</pre></div></li><li class='xr-var-item'><div class='xr-var-name'><span>night</span></div><div class='xr-var-dims'>(time, latitude, longitude, layer)</div><div class='xr-var-dtype'>float64</div><div class='xr-var-preview xr-preview'>1.28 2.027 2.048 ... 1.086 1.176</div><input id='attrs-dec5526d-1851-44ef-8ecb-21bced230e60' class='xr-var-attrs-in' type='checkbox' ><label for='attrs-dec5526d-1851-44ef-8ecb-21bced230e60' title='Show/Hide attributes'><svg class='icon xr-icon-file-text2'><use xlink:href='#icon-file-text2'></use></svg></label><input id='data-4c0f556b-ebf2-4ff5-9a5a-d96a6c72455f' class='xr-var-data-in' type='checkbox'><label for='data-4c0f556b-ebf2-4ff5-9a5a-d96a6c72455f' title='Show/Hide data repr'><svg class='icon xr-icon-database'><use xlink:href='#icon-database'></use></svg></label><div class='xr-var-attrs'><dl class='xr-attrs'><dt><span>description :</span></dt><dd>Zooplankton carbon weight by cube meter of sea water at night</dd><dt><span>units :</span></dt><dd>mg/m3</dd></dl></div><div class='xr-var-data'><pre>array([[[[1.28      ]]],\n",
       "\n",
       "\n",
       "       [[[2.02741176]]],\n",
       "\n",
       "\n",
       "       [[[2.048     ]]],\n",
       "\n",
       "\n",
       "       [[[1.91989474]]],\n",
       "\n",
       "\n",
       "       [[[2.1385    ]]],\n",
       "\n",
       "\n",
       "       [[[1.1482735 ]]],\n",
       "\n",
       "\n",
       "       [[[1.60015385]]],\n",
       "\n",
       "...\n",
       "\n",
       "       [[[1.1482735 ]]],\n",
       "\n",
       "\n",
       "       [[[1.60015385]]],\n",
       "\n",
       "\n",
       "       [[[1.4865    ]]],\n",
       "\n",
       "\n",
       "       [[[1.44672727]]],\n",
       "\n",
       "\n",
       "       [[[1.24727273]]],\n",
       "\n",
       "\n",
       "       [[[1.08618182]]],\n",
       "\n",
       "\n",
       "       [[[1.176     ]]]])</pre></div></li></ul></div></li><li class='xr-section-item'><input id='section-8c46105d-c99c-4e91-bdbb-fadb0145d213' class='xr-section-summary-in' type='checkbox'  ><label for='section-8c46105d-c99c-4e91-bdbb-fadb0145d213' class='xr-section-summary' >Indexes: <span>(4)</span></label><div class='xr-section-inline-details'></div><div class='xr-section-details'><ul class='xr-var-list'><li class='xr-var-item'><div class='xr-index-name'><div>time</div></div><div class='xr-index-preview'>PandasIndex</div><input type='checkbox' disabled/><label></label><input id='index-2dce9c7b-1aec-486d-847f-916bed1a2d70' class='xr-index-data-in' type='checkbox'/><label for='index-2dce9c7b-1aec-486d-847f-916bed1a2d70' title='Show/Hide index repr'><svg class='icon xr-icon-database'><use xlink:href='#icon-database'></use></svg></label><div class='xr-index-data'><pre>PandasIndex(DatetimeIndex([&#x27;2002-01-31&#x27;, &#x27;2002-02-28&#x27;, &#x27;2002-03-31&#x27;, &#x27;2002-04-30&#x27;,\n",
       "               &#x27;2002-05-31&#x27;, &#x27;2002-06-30&#x27;, &#x27;2002-07-31&#x27;, &#x27;2002-08-31&#x27;,\n",
       "               &#x27;2002-09-30&#x27;, &#x27;2002-10-31&#x27;,\n",
       "               ...\n",
       "               &#x27;2014-03-31&#x27;, &#x27;2014-04-30&#x27;, &#x27;2014-05-31&#x27;, &#x27;2014-06-30&#x27;,\n",
       "               &#x27;2014-07-31&#x27;, &#x27;2014-08-31&#x27;, &#x27;2014-09-30&#x27;, &#x27;2014-10-31&#x27;,\n",
       "               &#x27;2014-11-30&#x27;, &#x27;2014-12-31&#x27;],\n",
       "              dtype=&#x27;datetime64[ns]&#x27;, name=&#x27;time&#x27;, length=156, freq=None))</pre></div></li><li class='xr-var-item'><div class='xr-index-name'><div>latitude</div></div><div class='xr-index-preview'>PandasIndex</div><input type='checkbox' disabled/><label></label><input id='index-e6f3be7e-8d39-4dec-8337-81f952a21e4f' class='xr-index-data-in' type='checkbox'/><label for='index-e6f3be7e-8d39-4dec-8337-81f952a21e4f' title='Show/Hide index repr'><svg class='icon xr-icon-database'><use xlink:href='#icon-database'></use></svg></label><div class='xr-index-data'><pre>PandasIndex(Index([31.6], dtype=&#x27;float64&#x27;, name=&#x27;latitude&#x27;))</pre></div></li><li class='xr-var-item'><div class='xr-index-name'><div>longitude</div></div><div class='xr-index-preview'>PandasIndex</div><input type='checkbox' disabled/><label></label><input id='index-45234d43-544c-412f-abdc-b8bea88fa281' class='xr-index-data-in' type='checkbox'/><label for='index-45234d43-544c-412f-abdc-b8bea88fa281' title='Show/Hide index repr'><svg class='icon xr-icon-database'><use xlink:href='#icon-database'></use></svg></label><div class='xr-index-data'><pre>PandasIndex(Index([-64.2], dtype=&#x27;float64&#x27;, name=&#x27;longitude&#x27;))</pre></div></li><li class='xr-var-item'><div class='xr-index-name'><div>layer</div></div><div class='xr-index-preview'>PandasIndex</div><input type='checkbox' disabled/><label></label><input id='index-f01171a0-3fd3-4a7d-be66-45811dfaef90' class='xr-index-data-in' type='checkbox'/><label for='index-f01171a0-3fd3-4a7d-be66-45811dfaef90' title='Show/Hide index repr'><svg class='icon xr-icon-database'><use xlink:href='#icon-database'></use></svg></label><div class='xr-index-data'><pre>PandasIndex(Index([0], dtype=&#x27;int64&#x27;, name=&#x27;layer&#x27;))</pre></div></li></ul></div></li><li class='xr-section-item'><input id='section-21d74df2-ea1b-4c21-a2f1-f5a0b03cb0ce' class='xr-section-summary-in' type='checkbox'  checked><label for='section-21d74df2-ea1b-4c21-a2f1-f5a0b03cb0ce' class='xr-section-summary' >Attributes: <span>(1)</span></label><div class='xr-section-inline-details'></div><div class='xr-section-details'><dl class='xr-attrs'><dt><span>desc :</span></dt><dd>Aggregated and smoothed observations using lowess filtre.</dd></dl></div></li></ul></div></div>"
      ],
      "text/plain": [
       "<xarray.Dataset> Size: 4kB\n",
       "Dimensions:    (layer: 1, time: 156, latitude: 1, longitude: 1)\n",
       "Coordinates:\n",
       "  * layer      (layer) int64 8B 0\n",
       "  * time       (time) datetime64[ns] 1kB 2002-01-31 2002-02-28 ... 2014-12-31\n",
       "  * latitude   (latitude) float64 8B 31.6\n",
       "  * longitude  (longitude) float64 8B -64.2\n",
       "Data variables:\n",
       "    day        (time, latitude, longitude, layer) float64 1kB 0.9883 ... 0.6111\n",
       "    night      (time, latitude, longitude, layer) float64 1kB 1.28 ... 1.176\n",
       "Attributes:\n",
       "    desc:     Aggregated and smoothed observations using lowess filtre."
      ]
     },
     "execution_count": 27,
     "metadata": {},
     "output_type": "execute_result"
    }
   ],
   "source": [
    "climato_observations = climato_observations.expand_dims(layer=layer)\n",
    "climato_observations = climato_observations.transpose(\"time\", \"latitude\", \"longitude\", \"layer\")\n",
    "\n",
    "climato_observations.latitude.attrs = data.latitude.attrs\n",
    "climato_observations.longitude.attrs = data.longitude.attrs\n",
    "climato_observations.layer.attrs = layer.attrs\n",
    "climato_observations.time.attrs = data.time.attrs\n",
    "climato_observations.day.attrs = data.day.attrs\n",
    "climato_observations.night.attrs = data.night.attrs\n",
    "\n",
    "climato_observations"
   ]
  },
  {
   "cell_type": "code",
   "execution_count": 28,
   "metadata": {},
   "outputs": [
    {
     "data": {
      "text/plain": [
       "<xarray.backends.zarr.ZarrStore at 0x31d30db40>"
      ]
     },
     "execution_count": 28,
     "metadata": {},
     "output_type": "execute_result"
    }
   ],
   "source": [
    "climato_observations.to_zarr(\n",
    "    f\"../data/1_products/{station}_obs_zoo_climato_monthly_{pd.Timestamp(time_start).year}_{pd.Timestamp(time_end).year}.zarr\",\n",
    "    mode=\"w\",\n",
    ")"
   ]
  }
 ],
 "metadata": {
  "kernelspec": {
   "display_name": ".venv",
   "language": "python",
   "name": "python3"
  },
  "language_info": {
   "codemirror_mode": {
    "name": "ipython",
    "version": 3
   },
   "file_extension": ".py",
   "mimetype": "text/x-python",
   "name": "python",
   "nbconvert_exporter": "python",
   "pygments_lexer": "ipython3",
   "version": "3.12.10"
  }
 },
 "nbformat": 4,
 "nbformat_minor": 2
}
