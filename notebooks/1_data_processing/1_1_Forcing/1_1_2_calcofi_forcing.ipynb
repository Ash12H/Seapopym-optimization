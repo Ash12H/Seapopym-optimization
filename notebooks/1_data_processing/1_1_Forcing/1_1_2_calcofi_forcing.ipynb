{
 "cells": [
  {
   "cell_type": "code",
   "execution_count": null,
   "metadata": {},
   "outputs": [],
   "source": [
    "import copernicusmarine\n",
    "import xarray as xr\n",
    "import numpy as np\n",
    "from dask.distributed import Client\n",
    "import pandas as pd\n",
    "from pathlib import Path\n",
    "import hvplot.xarray"
   ]
  },
  {
   "cell_type": "code",
   "execution_count": null,
   "metadata": {},
   "outputs": [],
   "source": [
    "# copernicusmarine.login()"
   ]
  },
  {
   "cell_type": "code",
   "execution_count": null,
   "metadata": {},
   "outputs": [],
   "source": [
    "date_start = pd.date_range(\"1998-01-01\", \"2023-10-01\", freq=\"1MS\")\n",
    "date_end = pd.date_range(\"1998-02-01\", \"2023-11-01\", freq=\"1MS\")\n",
    "\n",
    "export_filepath = Path(\"./raw/Calcofi_forcing.zarr\")\n",
    "\n",
    "coordinates = {\"minimum_latitude\": 0, \"maximum_latitude\": 57, \"minimum_longitude\": -180, \"maximum_longitude\": -75}\n",
    "\n",
    "physic_dataset_name = \"cmems_mod_glo_bgc_my_0.083deg-lmtl-Fphy_PT1D-i\"\n",
    "physic_variable = [\n",
    "    \"sea_water_potential_temperature_vertical_mean_over_pelagic_layer\",\n",
    "    \"sea_water_pelagic_layer_bottom_depth\",\n",
    "]\n",
    "bio_dataset_name = \"cmems_mod_glo_bgc_my_0.083deg-lmtl_PT1D-i\"\n",
    "bio_variable = [\n",
    "    \"net_primary_productivity_of_biomass_expressed_as_carbon_in_sea_water\",\n",
    "    \"mass_content_of_zooplankton_expressed_as_carbon_in_sea_water\",\n",
    "]\n",
    "\n",
    "latitude = np.arange(0.5, 55.5, 1)\n",
    "longitude = np.arange(-179.5, -76.5, 1)"
   ]
  },
  {
   "cell_type": "code",
   "execution_count": null,
   "metadata": {},
   "outputs": [],
   "source": [
    "for start, end in zip(date_start, date_end):\n",
    "    if (not export_filepath.exists()) or (end not in xr.open_dataset(export_filepath, engine=\"zarr\").time):\n",
    "        coordinates.update({\"start_datetime\": start.strftime(\"%Y-%m-%d\"), \"end_datetime\": end.strftime(\"%Y-%m-%d\")})\n",
    "        print(coordinates)\n",
    "\n",
    "        physic = copernicusmarine.open_dataset(dataset_id=physic_dataset_name, **coordinates, variables=physic_variable)\n",
    "        bio = copernicusmarine.open_dataset(dataset_id=bio_dataset_name, **coordinates, variables=bio_variable)\n",
    "\n",
    "        physic = physic.interp(latitude=latitude, longitude=longitude, method=\"linear\").load()\n",
    "        bio = bio.interp(latitude=latitude, longitude=longitude, method=\"linear\").load()\n",
    "\n",
    "        results = xr.merge([physic, bio])\n",
    "\n",
    "        if export_filepath.exists():\n",
    "            results = xr.concat([xr.open_dataset(export_filepath, engine=\"zarr\"), results], dim=\"time\")\n",
    "        results.to_zarr(export_filepath, mode=\"w\")"
   ]
  }
 ],
 "metadata": {
  "kernelspec": {
   "display_name": ".venv",
   "language": "python",
   "name": "python3"
  },
  "language_info": {
   "codemirror_mode": {
    "name": "ipython",
    "version": 3
   },
   "file_extension": ".py",
   "mimetype": "text/x-python",
   "name": "python",
   "nbconvert_exporter": "python",
   "pygments_lexer": "ipython3",
   "version": "3.12.9"
  }
 },
 "nbformat": 4,
 "nbformat_minor": 2
}
