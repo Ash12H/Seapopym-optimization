{
 "cells": [
  {
   "cell_type": "code",
   "execution_count": 1,
   "metadata": {},
   "outputs": [],
   "source": [
    "import xarray as xr"
   ]
  },
  {
   "cell_type": "code",
   "execution_count": 10,
   "metadata": {},
   "outputs": [
    {
     "data": {
      "text/plain": [
       "<xarray.backends.zarr.ZarrStore at 0x15e91f140>"
      ]
     },
     "execution_count": 10,
     "metadata": {},
     "output_type": "execute_result"
    }
   ],
   "source": [
    "xr.merge(\n",
    "    [\n",
    "        xr.open_dataset(\"./Bats_cafe.zarr\", engine=\"zarr\"),\n",
    "        xr.open_dataset(\"./Hot_cafe.zarr\", engine=\"zarr\"),\n",
    "        xr.open_dataset(\"./Papa_cafe.zarr\", engine=\"zarr\"),\n",
    "    ]\n",
    ").to_zarr(\"./all_stations_cafe.zarr\")"
   ]
  },
  {
   "cell_type": "code",
   "execution_count": 12,
   "metadata": {},
   "outputs": [
    {
     "data": {
      "text/plain": [
       "<xarray.backends.zarr.ZarrStore at 0x15ebb2fc0>"
      ]
     },
     "execution_count": 12,
     "metadata": {},
     "output_type": "execute_result"
    }
   ],
   "source": [
    "xr.merge(\n",
    "    [\n",
    "        xr.open_dataset(\"./Bats_obs.zarr\", engine=\"zarr\"),\n",
    "        xr.open_dataset(\"./Hot_obs.zarr\", engine=\"zarr\"),\n",
    "        xr.open_dataset(\"./Papa_obs.zarr\", engine=\"zarr\"),\n",
    "    ]\n",
    ").to_zarr(\"./all_stations_obs.zarr\")"
   ]
  },
  {
   "cell_type": "code",
   "execution_count": 11,
   "metadata": {},
   "outputs": [
    {
     "data": {
      "text/plain": [
       "<xarray.backends.zarr.ZarrStore at 0x15ebb2540>"
      ]
     },
     "execution_count": 11,
     "metadata": {},
     "output_type": "execute_result"
    }
   ],
   "source": [
    "xr.merge(\n",
    "    [\n",
    "        xr.open_dataset(\"./Bats_cmems.zarr\", engine=\"zarr\"),\n",
    "        xr.open_dataset(\"./Hot_cmems.zarr\", engine=\"zarr\"),\n",
    "        xr.open_dataset(\"./Papa_cmems.zarr\", engine=\"zarr\"),\n",
    "    ]\n",
    ").to_zarr(\"./all_stations_cmems.zarr\")"
   ]
  }
 ],
 "metadata": {
  "kernelspec": {
   "display_name": ".venv",
   "language": "python",
   "name": "python3"
  },
  "language_info": {
   "codemirror_mode": {
    "name": "ipython",
    "version": 3
   },
   "file_extension": ".py",
   "mimetype": "text/x-python",
   "name": "python",
   "nbconvert_exporter": "python",
   "pygments_lexer": "ipython3",
   "version": "3.12.5"
  }
 },
 "nbformat": 4,
 "nbformat_minor": 2
}
