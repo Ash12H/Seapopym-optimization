{
 "cells": [
  {
   "cell_type": "code",
   "execution_count": 1,
   "metadata": {},
   "outputs": [],
   "source": [
    "import matplotlib.pyplot as plt\n",
    "import numpy as np\n",
    "import pandas as pd\n",
    "import plotly.graph_objects as go\n",
    "import xarray as xr\n",
    "from plotly.subplots import make_subplots\n",
    "from scipy.stats import t"
   ]
  },
  {
   "cell_type": "code",
   "execution_count": 2,
   "metadata": {},
   "outputs": [],
   "source": [
    "station = \"Papa\""
   ]
  },
  {
   "cell_type": "code",
   "execution_count": 3,
   "metadata": {},
   "outputs": [
    {
     "data": {
      "text/html": [
       "<div><svg style=\"position: absolute; width: 0; height: 0; overflow: hidden\">\n",
       "<defs>\n",
       "<symbol id=\"icon-database\" viewBox=\"0 0 32 32\">\n",
       "<path d=\"M16 0c-8.837 0-16 2.239-16 5v4c0 2.761 7.163 5 16 5s16-2.239 16-5v-4c0-2.761-7.163-5-16-5z\"></path>\n",
       "<path d=\"M16 17c-8.837 0-16-2.239-16-5v6c0 2.761 7.163 5 16 5s16-2.239 16-5v-6c0 2.761-7.163 5-16 5z\"></path>\n",
       "<path d=\"M16 26c-8.837 0-16-2.239-16-5v6c0 2.761 7.163 5 16 5s16-2.239 16-5v-6c0 2.761-7.163 5-16 5z\"></path>\n",
       "</symbol>\n",
       "<symbol id=\"icon-file-text2\" viewBox=\"0 0 32 32\">\n",
       "<path d=\"M28.681 7.159c-0.694-0.947-1.662-2.053-2.724-3.116s-2.169-2.030-3.116-2.724c-1.612-1.182-2.393-1.319-2.841-1.319h-15.5c-1.378 0-2.5 1.121-2.5 2.5v27c0 1.378 1.122 2.5 2.5 2.5h23c1.378 0 2.5-1.122 2.5-2.5v-19.5c0-0.448-0.137-1.23-1.319-2.841zM24.543 5.457c0.959 0.959 1.712 1.825 2.268 2.543h-4.811v-4.811c0.718 0.556 1.584 1.309 2.543 2.268zM28 29.5c0 0.271-0.229 0.5-0.5 0.5h-23c-0.271 0-0.5-0.229-0.5-0.5v-27c0-0.271 0.229-0.5 0.5-0.5 0 0 15.499-0 15.5 0v7c0 0.552 0.448 1 1 1h7v19.5z\"></path>\n",
       "<path d=\"M23 26h-14c-0.552 0-1-0.448-1-1s0.448-1 1-1h14c0.552 0 1 0.448 1 1s-0.448 1-1 1z\"></path>\n",
       "<path d=\"M23 22h-14c-0.552 0-1-0.448-1-1s0.448-1 1-1h14c0.552 0 1 0.448 1 1s-0.448 1-1 1z\"></path>\n",
       "<path d=\"M23 18h-14c-0.552 0-1-0.448-1-1s0.448-1 1-1h14c0.552 0 1 0.448 1 1s-0.448 1-1 1z\"></path>\n",
       "</symbol>\n",
       "</defs>\n",
       "</svg>\n",
       "<style>/* CSS stylesheet for displaying xarray objects in jupyterlab.\n",
       " *\n",
       " */\n",
       "\n",
       ":root {\n",
       "  --xr-font-color0: var(--jp-content-font-color0, rgba(0, 0, 0, 1));\n",
       "  --xr-font-color2: var(--jp-content-font-color2, rgba(0, 0, 0, 0.54));\n",
       "  --xr-font-color3: var(--jp-content-font-color3, rgba(0, 0, 0, 0.38));\n",
       "  --xr-border-color: var(--jp-border-color2, #e0e0e0);\n",
       "  --xr-disabled-color: var(--jp-layout-color3, #bdbdbd);\n",
       "  --xr-background-color: var(--jp-layout-color0, white);\n",
       "  --xr-background-color-row-even: var(--jp-layout-color1, white);\n",
       "  --xr-background-color-row-odd: var(--jp-layout-color2, #eeeeee);\n",
       "}\n",
       "\n",
       "html[theme=dark],\n",
       "html[data-theme=dark],\n",
       "body[data-theme=dark],\n",
       "body.vscode-dark {\n",
       "  --xr-font-color0: rgba(255, 255, 255, 1);\n",
       "  --xr-font-color2: rgba(255, 255, 255, 0.54);\n",
       "  --xr-font-color3: rgba(255, 255, 255, 0.38);\n",
       "  --xr-border-color: #1F1F1F;\n",
       "  --xr-disabled-color: #515151;\n",
       "  --xr-background-color: #111111;\n",
       "  --xr-background-color-row-even: #111111;\n",
       "  --xr-background-color-row-odd: #313131;\n",
       "}\n",
       "\n",
       ".xr-wrap {\n",
       "  display: block !important;\n",
       "  min-width: 300px;\n",
       "  max-width: 700px;\n",
       "}\n",
       "\n",
       ".xr-text-repr-fallback {\n",
       "  /* fallback to plain text repr when CSS is not injected (untrusted notebook) */\n",
       "  display: none;\n",
       "}\n",
       "\n",
       ".xr-header {\n",
       "  padding-top: 6px;\n",
       "  padding-bottom: 6px;\n",
       "  margin-bottom: 4px;\n",
       "  border-bottom: solid 1px var(--xr-border-color);\n",
       "}\n",
       "\n",
       ".xr-header > div,\n",
       ".xr-header > ul {\n",
       "  display: inline;\n",
       "  margin-top: 0;\n",
       "  margin-bottom: 0;\n",
       "}\n",
       "\n",
       ".xr-obj-type,\n",
       ".xr-array-name {\n",
       "  margin-left: 2px;\n",
       "  margin-right: 10px;\n",
       "}\n",
       "\n",
       ".xr-obj-type {\n",
       "  color: var(--xr-font-color2);\n",
       "}\n",
       "\n",
       ".xr-sections {\n",
       "  padding-left: 0 !important;\n",
       "  display: grid;\n",
       "  grid-template-columns: 150px auto auto 1fr 0 20px 0 20px;\n",
       "}\n",
       "\n",
       ".xr-section-item {\n",
       "  display: contents;\n",
       "}\n",
       "\n",
       ".xr-section-item input {\n",
       "  display: inline-block;\n",
       "  opacity: 0;\n",
       "}\n",
       "\n",
       ".xr-section-item input + label {\n",
       "  color: var(--xr-disabled-color);\n",
       "}\n",
       "\n",
       ".xr-section-item input:enabled + label {\n",
       "  cursor: pointer;\n",
       "  color: var(--xr-font-color2);\n",
       "}\n",
       "\n",
       ".xr-section-item input:focus + label {\n",
       "  border: 2px solid var(--xr-font-color0);\n",
       "}\n",
       "\n",
       ".xr-section-item input:enabled + label:hover {\n",
       "  color: var(--xr-font-color0);\n",
       "}\n",
       "\n",
       ".xr-section-summary {\n",
       "  grid-column: 1;\n",
       "  color: var(--xr-font-color2);\n",
       "  font-weight: 500;\n",
       "}\n",
       "\n",
       ".xr-section-summary > span {\n",
       "  display: inline-block;\n",
       "  padding-left: 0.5em;\n",
       "}\n",
       "\n",
       ".xr-section-summary-in:disabled + label {\n",
       "  color: var(--xr-font-color2);\n",
       "}\n",
       "\n",
       ".xr-section-summary-in + label:before {\n",
       "  display: inline-block;\n",
       "  content: '►';\n",
       "  font-size: 11px;\n",
       "  width: 15px;\n",
       "  text-align: center;\n",
       "}\n",
       "\n",
       ".xr-section-summary-in:disabled + label:before {\n",
       "  color: var(--xr-disabled-color);\n",
       "}\n",
       "\n",
       ".xr-section-summary-in:checked + label:before {\n",
       "  content: '▼';\n",
       "}\n",
       "\n",
       ".xr-section-summary-in:checked + label > span {\n",
       "  display: none;\n",
       "}\n",
       "\n",
       ".xr-section-summary,\n",
       ".xr-section-inline-details {\n",
       "  padding-top: 4px;\n",
       "  padding-bottom: 4px;\n",
       "}\n",
       "\n",
       ".xr-section-inline-details {\n",
       "  grid-column: 2 / -1;\n",
       "}\n",
       "\n",
       ".xr-section-details {\n",
       "  display: none;\n",
       "  grid-column: 1 / -1;\n",
       "  margin-bottom: 5px;\n",
       "}\n",
       "\n",
       ".xr-section-summary-in:checked ~ .xr-section-details {\n",
       "  display: contents;\n",
       "}\n",
       "\n",
       ".xr-array-wrap {\n",
       "  grid-column: 1 / -1;\n",
       "  display: grid;\n",
       "  grid-template-columns: 20px auto;\n",
       "}\n",
       "\n",
       ".xr-array-wrap > label {\n",
       "  grid-column: 1;\n",
       "  vertical-align: top;\n",
       "}\n",
       "\n",
       ".xr-preview {\n",
       "  color: var(--xr-font-color3);\n",
       "}\n",
       "\n",
       ".xr-array-preview,\n",
       ".xr-array-data {\n",
       "  padding: 0 5px !important;\n",
       "  grid-column: 2;\n",
       "}\n",
       "\n",
       ".xr-array-data,\n",
       ".xr-array-in:checked ~ .xr-array-preview {\n",
       "  display: none;\n",
       "}\n",
       "\n",
       ".xr-array-in:checked ~ .xr-array-data,\n",
       ".xr-array-preview {\n",
       "  display: inline-block;\n",
       "}\n",
       "\n",
       ".xr-dim-list {\n",
       "  display: inline-block !important;\n",
       "  list-style: none;\n",
       "  padding: 0 !important;\n",
       "  margin: 0;\n",
       "}\n",
       "\n",
       ".xr-dim-list li {\n",
       "  display: inline-block;\n",
       "  padding: 0;\n",
       "  margin: 0;\n",
       "}\n",
       "\n",
       ".xr-dim-list:before {\n",
       "  content: '(';\n",
       "}\n",
       "\n",
       ".xr-dim-list:after {\n",
       "  content: ')';\n",
       "}\n",
       "\n",
       ".xr-dim-list li:not(:last-child):after {\n",
       "  content: ',';\n",
       "  padding-right: 5px;\n",
       "}\n",
       "\n",
       ".xr-has-index {\n",
       "  font-weight: bold;\n",
       "}\n",
       "\n",
       ".xr-var-list,\n",
       ".xr-var-item {\n",
       "  display: contents;\n",
       "}\n",
       "\n",
       ".xr-var-item > div,\n",
       ".xr-var-item label,\n",
       ".xr-var-item > .xr-var-name span {\n",
       "  background-color: var(--xr-background-color-row-even);\n",
       "  margin-bottom: 0;\n",
       "}\n",
       "\n",
       ".xr-var-item > .xr-var-name:hover span {\n",
       "  padding-right: 5px;\n",
       "}\n",
       "\n",
       ".xr-var-list > li:nth-child(odd) > div,\n",
       ".xr-var-list > li:nth-child(odd) > label,\n",
       ".xr-var-list > li:nth-child(odd) > .xr-var-name span {\n",
       "  background-color: var(--xr-background-color-row-odd);\n",
       "}\n",
       "\n",
       ".xr-var-name {\n",
       "  grid-column: 1;\n",
       "}\n",
       "\n",
       ".xr-var-dims {\n",
       "  grid-column: 2;\n",
       "}\n",
       "\n",
       ".xr-var-dtype {\n",
       "  grid-column: 3;\n",
       "  text-align: right;\n",
       "  color: var(--xr-font-color2);\n",
       "}\n",
       "\n",
       ".xr-var-preview {\n",
       "  grid-column: 4;\n",
       "}\n",
       "\n",
       ".xr-index-preview {\n",
       "  grid-column: 2 / 5;\n",
       "  color: var(--xr-font-color2);\n",
       "}\n",
       "\n",
       ".xr-var-name,\n",
       ".xr-var-dims,\n",
       ".xr-var-dtype,\n",
       ".xr-preview,\n",
       ".xr-attrs dt {\n",
       "  white-space: nowrap;\n",
       "  overflow: hidden;\n",
       "  text-overflow: ellipsis;\n",
       "  padding-right: 10px;\n",
       "}\n",
       "\n",
       ".xr-var-name:hover,\n",
       ".xr-var-dims:hover,\n",
       ".xr-var-dtype:hover,\n",
       ".xr-attrs dt:hover {\n",
       "  overflow: visible;\n",
       "  width: auto;\n",
       "  z-index: 1;\n",
       "}\n",
       "\n",
       ".xr-var-attrs,\n",
       ".xr-var-data,\n",
       ".xr-index-data {\n",
       "  display: none;\n",
       "  background-color: var(--xr-background-color) !important;\n",
       "  padding-bottom: 5px !important;\n",
       "}\n",
       "\n",
       ".xr-var-attrs-in:checked ~ .xr-var-attrs,\n",
       ".xr-var-data-in:checked ~ .xr-var-data,\n",
       ".xr-index-data-in:checked ~ .xr-index-data {\n",
       "  display: block;\n",
       "}\n",
       "\n",
       ".xr-var-data > table {\n",
       "  float: right;\n",
       "}\n",
       "\n",
       ".xr-var-name span,\n",
       ".xr-var-data,\n",
       ".xr-index-name div,\n",
       ".xr-index-data,\n",
       ".xr-attrs {\n",
       "  padding-left: 25px !important;\n",
       "}\n",
       "\n",
       ".xr-attrs,\n",
       ".xr-var-attrs,\n",
       ".xr-var-data,\n",
       ".xr-index-data {\n",
       "  grid-column: 1 / -1;\n",
       "}\n",
       "\n",
       "dl.xr-attrs {\n",
       "  padding: 0;\n",
       "  margin: 0;\n",
       "  display: grid;\n",
       "  grid-template-columns: 125px auto;\n",
       "}\n",
       "\n",
       ".xr-attrs dt,\n",
       ".xr-attrs dd {\n",
       "  padding: 0;\n",
       "  margin: 0;\n",
       "  float: left;\n",
       "  padding-right: 10px;\n",
       "  width: auto;\n",
       "}\n",
       "\n",
       ".xr-attrs dt {\n",
       "  font-weight: normal;\n",
       "  grid-column: 1;\n",
       "}\n",
       "\n",
       ".xr-attrs dt:hover span {\n",
       "  display: inline-block;\n",
       "  background: var(--xr-background-color);\n",
       "  padding-right: 10px;\n",
       "}\n",
       "\n",
       ".xr-attrs dd {\n",
       "  grid-column: 2;\n",
       "  white-space: pre-wrap;\n",
       "  word-break: break-all;\n",
       "}\n",
       "\n",
       ".xr-icon-database,\n",
       ".xr-icon-file-text2,\n",
       ".xr-no-icon {\n",
       "  display: inline-block;\n",
       "  vertical-align: middle;\n",
       "  width: 1em;\n",
       "  height: 1.5em !important;\n",
       "  stroke-width: 0;\n",
       "  stroke: currentColor;\n",
       "  fill: currentColor;\n",
       "}\n",
       "</style><pre class='xr-text-repr-fallback'>&lt;xarray.Dataset&gt; Size: 2kB\n",
       "Dimensions:    (time: 69, latitude: 1, longitude: 1, layer: 1)\n",
       "Coordinates:\n",
       "  * latitude   (latitude) int64 8B 50\n",
       "  * layer      (layer) int64 8B 0\n",
       "  * longitude  (longitude) int64 8B -150\n",
       "  * time       (time) datetime64[ns] 552B 1997-02-21 1997-06-15 ... 2020-08-20\n",
       "Data variables:\n",
       "    day        (time, latitude, longitude, layer) float64 552B nan nan ... nan\n",
       "    night      (time, latitude, longitude, layer) float64 552B 2.727 ... 16.45\n",
       "Attributes:\n",
       "    creation date:  2024-10-13T20:03:40.331216\n",
       "    layer:          epipelagic\n",
       "    station:        Papa</pre><div class='xr-wrap' style='display:none'><div class='xr-header'><div class='xr-obj-type'>xarray.Dataset</div></div><ul class='xr-sections'><li class='xr-section-item'><input id='section-2b769abc-26d9-4de1-8373-13105ab23617' class='xr-section-summary-in' type='checkbox' disabled ><label for='section-2b769abc-26d9-4de1-8373-13105ab23617' class='xr-section-summary'  title='Expand/collapse section'>Dimensions:</label><div class='xr-section-inline-details'><ul class='xr-dim-list'><li><span class='xr-has-index'>time</span>: 69</li><li><span class='xr-has-index'>latitude</span>: 1</li><li><span class='xr-has-index'>longitude</span>: 1</li><li><span class='xr-has-index'>layer</span>: 1</li></ul></div><div class='xr-section-details'></div></li><li class='xr-section-item'><input id='section-d6c99c35-3824-4dae-9d2f-560c33962769' class='xr-section-summary-in' type='checkbox'  checked><label for='section-d6c99c35-3824-4dae-9d2f-560c33962769' class='xr-section-summary' >Coordinates: <span>(4)</span></label><div class='xr-section-inline-details'></div><div class='xr-section-details'><ul class='xr-var-list'><li class='xr-var-item'><div class='xr-var-name'><span class='xr-has-index'>latitude</span></div><div class='xr-var-dims'>(latitude)</div><div class='xr-var-dtype'>int64</div><div class='xr-var-preview xr-preview'>50</div><input id='attrs-57314b1d-6524-451f-9af3-55c3b113f6d8' class='xr-var-attrs-in' type='checkbox' ><label for='attrs-57314b1d-6524-451f-9af3-55c3b113f6d8' title='Show/Hide attributes'><svg class='icon xr-icon-file-text2'><use xlink:href='#icon-file-text2'></use></svg></label><input id='data-b0b4525d-80b9-467b-8ced-65860eedb040' class='xr-var-data-in' type='checkbox'><label for='data-b0b4525d-80b9-467b-8ced-65860eedb040' title='Show/Hide data repr'><svg class='icon xr-icon-database'><use xlink:href='#icon-database'></use></svg></label><div class='xr-var-attrs'><dl class='xr-attrs'><dt><span>axis :</span></dt><dd>Y</dd><dt><span>long_name :</span></dt><dd>Latitude</dd><dt><span>standard_name :</span></dt><dd>latitude</dd><dt><span>units :</span></dt><dd>degrees_north</dd></dl></div><div class='xr-var-data'><pre>array([50])</pre></div></li><li class='xr-var-item'><div class='xr-var-name'><span class='xr-has-index'>layer</span></div><div class='xr-var-dims'>(layer)</div><div class='xr-var-dtype'>int64</div><div class='xr-var-preview xr-preview'>0</div><input id='attrs-20ecfd66-47bb-4080-8c6c-2bd2e9254034' class='xr-var-attrs-in' type='checkbox' ><label for='attrs-20ecfd66-47bb-4080-8c6c-2bd2e9254034' title='Show/Hide attributes'><svg class='icon xr-icon-file-text2'><use xlink:href='#icon-file-text2'></use></svg></label><input id='data-ec14be98-a7e7-4ce1-9503-2352a78aca8e' class='xr-var-data-in' type='checkbox'><label for='data-ec14be98-a7e7-4ce1-9503-2352a78aca8e' title='Show/Hide data repr'><svg class='icon xr-icon-database'><use xlink:href='#icon-database'></use></svg></label><div class='xr-var-attrs'><dl class='xr-attrs'><dt><span>axis :</span></dt><dd>Z</dd><dt><span>desc :</span></dt><dd>The layer depth according to Seapodym definition</dd><dt><span>flag_meanings :</span></dt><dd>epipelagic, upper-mesopelagic, lower-mesopelagic</dd><dt><span>flag_values :</span></dt><dd>[0, 1, 2]</dd><dt><span>long_name :</span></dt><dd>Layer depth</dd><dt><span>standard_name :</span></dt><dd>layer</dd></dl></div><div class='xr-var-data'><pre>array([0])</pre></div></li><li class='xr-var-item'><div class='xr-var-name'><span class='xr-has-index'>longitude</span></div><div class='xr-var-dims'>(longitude)</div><div class='xr-var-dtype'>int64</div><div class='xr-var-preview xr-preview'>-150</div><input id='attrs-cfb22b23-1f1f-4287-802d-4c874cd7c6d7' class='xr-var-attrs-in' type='checkbox' ><label for='attrs-cfb22b23-1f1f-4287-802d-4c874cd7c6d7' title='Show/Hide attributes'><svg class='icon xr-icon-file-text2'><use xlink:href='#icon-file-text2'></use></svg></label><input id='data-e5d7d04b-af0a-4db5-bf5f-4a2eb3f05901' class='xr-var-data-in' type='checkbox'><label for='data-e5d7d04b-af0a-4db5-bf5f-4a2eb3f05901' title='Show/Hide data repr'><svg class='icon xr-icon-database'><use xlink:href='#icon-database'></use></svg></label><div class='xr-var-attrs'><dl class='xr-attrs'><dt><span>axis :</span></dt><dd>X</dd><dt><span>long_name :</span></dt><dd>Longitude</dd><dt><span>standard_name :</span></dt><dd>longitude</dd><dt><span>units :</span></dt><dd>degrees_east</dd></dl></div><div class='xr-var-data'><pre>array([-150])</pre></div></li><li class='xr-var-item'><div class='xr-var-name'><span class='xr-has-index'>time</span></div><div class='xr-var-dims'>(time)</div><div class='xr-var-dtype'>datetime64[ns]</div><div class='xr-var-preview xr-preview'>1997-02-21 ... 2020-08-20</div><input id='attrs-9dd53aff-76f4-4b83-89c6-26768e21cfc0' class='xr-var-attrs-in' type='checkbox' ><label for='attrs-9dd53aff-76f4-4b83-89c6-26768e21cfc0' title='Show/Hide attributes'><svg class='icon xr-icon-file-text2'><use xlink:href='#icon-file-text2'></use></svg></label><input id='data-f36feed4-d20a-4d6e-b510-35a7d4822b7f' class='xr-var-data-in' type='checkbox'><label for='data-f36feed4-d20a-4d6e-b510-35a7d4822b7f' title='Show/Hide data repr'><svg class='icon xr-icon-database'><use xlink:href='#icon-database'></use></svg></label><div class='xr-var-attrs'><dl class='xr-attrs'><dt><span>axis :</span></dt><dd>T</dd><dt><span>long_name :</span></dt><dd>time</dd><dt><span>standard_name :</span></dt><dd>time</dd></dl></div><div class='xr-var-data'><pre>array([&#x27;1997-02-21T00:00:00.000000000&#x27;, &#x27;1997-06-15T00:00:00.000000000&#x27;,\n",
       "       &#x27;1997-06-16T00:00:00.000000000&#x27;, &#x27;1997-09-04T00:00:00.000000000&#x27;,\n",
       "       &#x27;1997-09-05T00:00:00.000000000&#x27;, &#x27;1998-02-27T00:00:00.000000000&#x27;,\n",
       "       &#x27;1998-02-28T00:00:00.000000000&#x27;, &#x27;1998-06-13T00:00:00.000000000&#x27;,\n",
       "       &#x27;1998-09-05T00:00:00.000000000&#x27;, &#x27;1999-02-18T00:00:00.000000000&#x27;,\n",
       "       &#x27;1999-09-02T00:00:00.000000000&#x27;, &#x27;2000-06-09T00:00:00.000000000&#x27;,\n",
       "       &#x27;2000-09-14T00:00:00.000000000&#x27;, &#x27;2001-02-12T00:00:00.000000000&#x27;,\n",
       "       &#x27;2002-02-13T00:00:00.000000000&#x27;, &#x27;2002-07-05T00:00:00.000000000&#x27;,\n",
       "       &#x27;2002-09-03T00:00:00.000000000&#x27;, &#x27;2003-02-12T00:00:00.000000000&#x27;,\n",
       "       &#x27;2003-06-03T00:00:00.000000000&#x27;, &#x27;2003-09-06T00:00:00.000000000&#x27;,\n",
       "       &#x27;2003-09-07T00:00:00.000000000&#x27;, &#x27;2004-02-24T00:00:00.000000000&#x27;,\n",
       "       &#x27;2004-06-07T00:00:00.000000000&#x27;, &#x27;2004-08-26T00:00:00.000000000&#x27;,\n",
       "       &#x27;2005-02-18T00:00:00.000000000&#x27;, &#x27;2005-06-07T00:00:00.000000000&#x27;,\n",
       "       &#x27;2005-08-23T00:00:00.000000000&#x27;, &#x27;2006-02-13T00:00:00.000000000&#x27;,\n",
       "       &#x27;2006-07-17T00:00:00.000000000&#x27;, &#x27;2006-09-28T00:00:00.000000000&#x27;,\n",
       "       &#x27;2007-02-15T00:00:00.000000000&#x27;, &#x27;2007-06-07T00:00:00.000000000&#x27;,\n",
       "       &#x27;2007-08-22T00:00:00.000000000&#x27;, &#x27;2008-02-10T00:00:00.000000000&#x27;,\n",
       "       &#x27;2008-06-08T00:00:00.000000000&#x27;, &#x27;2008-08-21T00:00:00.000000000&#x27;,\n",
       "       &#x27;2009-02-05T00:00:00.000000000&#x27;, &#x27;2009-06-14T00:00:00.000000000&#x27;,\n",
       "       &#x27;2009-08-27T00:00:00.000000000&#x27;, &#x27;2010-06-14T00:00:00.000000000&#x27;,\n",
       "       &#x27;2010-08-26T00:00:00.000000000&#x27;, &#x27;2011-02-16T00:00:00.000000000&#x27;,\n",
       "       &#x27;2011-06-13T00:00:00.000000000&#x27;, &#x27;2011-08-26T00:00:00.000000000&#x27;,\n",
       "       &#x27;2012-02-15T00:00:00.000000000&#x27;, &#x27;2012-06-03T00:00:00.000000000&#x27;,\n",
       "       &#x27;2012-08-24T00:00:00.000000000&#x27;, &#x27;2013-02-13T00:00:00.000000000&#x27;,\n",
       "       &#x27;2013-06-18T00:00:00.000000000&#x27;, &#x27;2013-08-30T00:00:00.000000000&#x27;,\n",
       "       &#x27;2014-06-17T00:00:00.000000000&#x27;, &#x27;2014-08-26T00:00:00.000000000&#x27;,\n",
       "       &#x27;2015-02-19T00:00:00.000000000&#x27;, &#x27;2015-06-17T00:00:00.000000000&#x27;,\n",
       "       &#x27;2015-08-28T00:00:00.000000000&#x27;, &#x27;2016-02-16T00:00:00.000000000&#x27;,\n",
       "       &#x27;2016-06-14T00:00:00.000000000&#x27;, &#x27;2016-08-26T00:00:00.000000000&#x27;,\n",
       "       &#x27;2017-02-12T00:00:00.000000000&#x27;, &#x27;2017-06-13T00:00:00.000000000&#x27;,\n",
       "       &#x27;2017-08-24T00:00:00.000000000&#x27;, &#x27;2018-02-26T00:00:00.000000000&#x27;,\n",
       "       &#x27;2018-06-13T00:00:00.000000000&#x27;, &#x27;2018-09-20T00:00:00.000000000&#x27;,\n",
       "       &#x27;2019-02-12T00:00:00.000000000&#x27;, &#x27;2019-06-11T00:00:00.000000000&#x27;,\n",
       "       &#x27;2019-08-23T00:00:00.000000000&#x27;, &#x27;2020-02-16T00:00:00.000000000&#x27;,\n",
       "       &#x27;2020-08-20T00:00:00.000000000&#x27;], dtype=&#x27;datetime64[ns]&#x27;)</pre></div></li></ul></div></li><li class='xr-section-item'><input id='section-a1b311cc-4e54-4874-b92d-f55e65a75629' class='xr-section-summary-in' type='checkbox'  checked><label for='section-a1b311cc-4e54-4874-b92d-f55e65a75629' class='xr-section-summary' >Data variables: <span>(2)</span></label><div class='xr-section-inline-details'></div><div class='xr-section-details'><ul class='xr-var-list'><li class='xr-var-item'><div class='xr-var-name'><span>day</span></div><div class='xr-var-dims'>(time, latitude, longitude, layer)</div><div class='xr-var-dtype'>float64</div><div class='xr-var-preview xr-preview'>nan nan 8.278 ... 1.389 2.18 nan</div><input id='attrs-a6c83e4b-7fbd-4aa3-9552-21a99d443767' class='xr-var-attrs-in' type='checkbox' ><label for='attrs-a6c83e4b-7fbd-4aa3-9552-21a99d443767' title='Show/Hide attributes'><svg class='icon xr-icon-file-text2'><use xlink:href='#icon-file-text2'></use></svg></label><input id='data-c4782a88-9a22-425b-b0e1-a4d98aef59aa' class='xr-var-data-in' type='checkbox'><label for='data-c4782a88-9a22-425b-b0e1-a4d98aef59aa' title='Show/Hide data repr'><svg class='icon xr-icon-database'><use xlink:href='#icon-database'></use></svg></label><div class='xr-var-attrs'><dl class='xr-attrs'><dt><span>description :</span></dt><dd>Zooplankton carbon weight by cube meter of sea water during the day</dd><dt><span>units :</span></dt><dd>mg/m3</dd></dl></div><div class='xr-var-data'><pre>array([[[[        nan]]],\n",
       "\n",
       "\n",
       "       [[[        nan]]],\n",
       "\n",
       "\n",
       "       [[[ 8.27791091]]],\n",
       "\n",
       "\n",
       "       [[[ 4.1469452 ]]],\n",
       "\n",
       "\n",
       "       [[[ 2.569336  ]]],\n",
       "\n",
       "\n",
       "       [[[ 3.23607133]]],\n",
       "\n",
       "\n",
       "       [[[ 2.11361418]]],\n",
       "\n",
       "...\n",
       "\n",
       "       [[[20.3387    ]]],\n",
       "\n",
       "\n",
       "       [[[        nan]]],\n",
       "\n",
       "\n",
       "       [[[        nan]]],\n",
       "\n",
       "\n",
       "       [[[ 4.282188  ]]],\n",
       "\n",
       "\n",
       "       [[[ 1.38862   ]]],\n",
       "\n",
       "\n",
       "       [[[ 2.1804    ]]],\n",
       "\n",
       "\n",
       "       [[[        nan]]]])</pre></div></li><li class='xr-var-item'><div class='xr-var-name'><span>night</span></div><div class='xr-var-dims'>(time, latitude, longitude, layer)</div><div class='xr-var-dtype'>float64</div><div class='xr-var-preview xr-preview'>2.727 4.326 nan ... nan nan 16.45</div><input id='attrs-94300694-43de-4539-81ec-b3d0805aa684' class='xr-var-attrs-in' type='checkbox' ><label for='attrs-94300694-43de-4539-81ec-b3d0805aa684' title='Show/Hide attributes'><svg class='icon xr-icon-file-text2'><use xlink:href='#icon-file-text2'></use></svg></label><input id='data-8e700a05-88ca-4669-b726-cbb8db028fd7' class='xr-var-data-in' type='checkbox'><label for='data-8e700a05-88ca-4669-b726-cbb8db028fd7' title='Show/Hide data repr'><svg class='icon xr-icon-database'><use xlink:href='#icon-database'></use></svg></label><div class='xr-var-attrs'><dl class='xr-attrs'><dt><span>description :</span></dt><dd>Zooplankton carbon weight by cube meter of sea water at night</dd><dt><span>units :</span></dt><dd>mg/m3</dd></dl></div><div class='xr-var-data'><pre>array([[[[ 2.726968]]],\n",
       "\n",
       "\n",
       "       [[[ 4.325828]]],\n",
       "\n",
       "\n",
       "       [[[      nan]]],\n",
       "\n",
       "\n",
       "       [[[      nan]]],\n",
       "\n",
       "\n",
       "       [[[      nan]]],\n",
       "\n",
       "\n",
       "       [[[ 7.901896]]],\n",
       "\n",
       "\n",
       "       [[[      nan]]],\n",
       "\n",
       "...\n",
       "\n",
       "       [[[      nan]]],\n",
       "\n",
       "\n",
       "       [[[ 7.891832]]],\n",
       "\n",
       "\n",
       "       [[[ 1.946372]]],\n",
       "\n",
       "\n",
       "       [[[      nan]]],\n",
       "\n",
       "\n",
       "       [[[      nan]]],\n",
       "\n",
       "\n",
       "       [[[      nan]]],\n",
       "\n",
       "\n",
       "       [[[16.449276]]]])</pre></div></li></ul></div></li><li class='xr-section-item'><input id='section-912249a0-f2f3-4a80-afab-bb0e870b477d' class='xr-section-summary-in' type='checkbox'  ><label for='section-912249a0-f2f3-4a80-afab-bb0e870b477d' class='xr-section-summary' >Indexes: <span>(4)</span></label><div class='xr-section-inline-details'></div><div class='xr-section-details'><ul class='xr-var-list'><li class='xr-var-item'><div class='xr-index-name'><div>latitude</div></div><div class='xr-index-preview'>PandasIndex</div><div></div><input id='index-d7cf0069-06f8-4709-b755-4a3527dac81c' class='xr-index-data-in' type='checkbox'/><label for='index-d7cf0069-06f8-4709-b755-4a3527dac81c' title='Show/Hide index repr'><svg class='icon xr-icon-database'><use xlink:href='#icon-database'></use></svg></label><div class='xr-index-data'><pre>PandasIndex(Index([50], dtype=&#x27;int64&#x27;, name=&#x27;latitude&#x27;))</pre></div></li><li class='xr-var-item'><div class='xr-index-name'><div>layer</div></div><div class='xr-index-preview'>PandasIndex</div><div></div><input id='index-55193d37-f745-4ef1-8fe3-7bbf150f4102' class='xr-index-data-in' type='checkbox'/><label for='index-55193d37-f745-4ef1-8fe3-7bbf150f4102' title='Show/Hide index repr'><svg class='icon xr-icon-database'><use xlink:href='#icon-database'></use></svg></label><div class='xr-index-data'><pre>PandasIndex(Index([0], dtype=&#x27;int64&#x27;, name=&#x27;layer&#x27;))</pre></div></li><li class='xr-var-item'><div class='xr-index-name'><div>longitude</div></div><div class='xr-index-preview'>PandasIndex</div><div></div><input id='index-07487479-dbe0-4144-8462-db532e93562c' class='xr-index-data-in' type='checkbox'/><label for='index-07487479-dbe0-4144-8462-db532e93562c' title='Show/Hide index repr'><svg class='icon xr-icon-database'><use xlink:href='#icon-database'></use></svg></label><div class='xr-index-data'><pre>PandasIndex(Index([-150], dtype=&#x27;int64&#x27;, name=&#x27;longitude&#x27;))</pre></div></li><li class='xr-var-item'><div class='xr-index-name'><div>time</div></div><div class='xr-index-preview'>PandasIndex</div><div></div><input id='index-b95ab69b-2196-4125-8827-b0f6a683e154' class='xr-index-data-in' type='checkbox'/><label for='index-b95ab69b-2196-4125-8827-b0f6a683e154' title='Show/Hide index repr'><svg class='icon xr-icon-database'><use xlink:href='#icon-database'></use></svg></label><div class='xr-index-data'><pre>PandasIndex(DatetimeIndex([&#x27;1997-02-21&#x27;, &#x27;1997-06-15&#x27;, &#x27;1997-06-16&#x27;, &#x27;1997-09-04&#x27;,\n",
       "               &#x27;1997-09-05&#x27;, &#x27;1998-02-27&#x27;, &#x27;1998-02-28&#x27;, &#x27;1998-06-13&#x27;,\n",
       "               &#x27;1998-09-05&#x27;, &#x27;1999-02-18&#x27;, &#x27;1999-09-02&#x27;, &#x27;2000-06-09&#x27;,\n",
       "               &#x27;2000-09-14&#x27;, &#x27;2001-02-12&#x27;, &#x27;2002-02-13&#x27;, &#x27;2002-07-05&#x27;,\n",
       "               &#x27;2002-09-03&#x27;, &#x27;2003-02-12&#x27;, &#x27;2003-06-03&#x27;, &#x27;2003-09-06&#x27;,\n",
       "               &#x27;2003-09-07&#x27;, &#x27;2004-02-24&#x27;, &#x27;2004-06-07&#x27;, &#x27;2004-08-26&#x27;,\n",
       "               &#x27;2005-02-18&#x27;, &#x27;2005-06-07&#x27;, &#x27;2005-08-23&#x27;, &#x27;2006-02-13&#x27;,\n",
       "               &#x27;2006-07-17&#x27;, &#x27;2006-09-28&#x27;, &#x27;2007-02-15&#x27;, &#x27;2007-06-07&#x27;,\n",
       "               &#x27;2007-08-22&#x27;, &#x27;2008-02-10&#x27;, &#x27;2008-06-08&#x27;, &#x27;2008-08-21&#x27;,\n",
       "               &#x27;2009-02-05&#x27;, &#x27;2009-06-14&#x27;, &#x27;2009-08-27&#x27;, &#x27;2010-06-14&#x27;,\n",
       "               &#x27;2010-08-26&#x27;, &#x27;2011-02-16&#x27;, &#x27;2011-06-13&#x27;, &#x27;2011-08-26&#x27;,\n",
       "               &#x27;2012-02-15&#x27;, &#x27;2012-06-03&#x27;, &#x27;2012-08-24&#x27;, &#x27;2013-02-13&#x27;,\n",
       "               &#x27;2013-06-18&#x27;, &#x27;2013-08-30&#x27;, &#x27;2014-06-17&#x27;, &#x27;2014-08-26&#x27;,\n",
       "               &#x27;2015-02-19&#x27;, &#x27;2015-06-17&#x27;, &#x27;2015-08-28&#x27;, &#x27;2016-02-16&#x27;,\n",
       "               &#x27;2016-06-14&#x27;, &#x27;2016-08-26&#x27;, &#x27;2017-02-12&#x27;, &#x27;2017-06-13&#x27;,\n",
       "               &#x27;2017-08-24&#x27;, &#x27;2018-02-26&#x27;, &#x27;2018-06-13&#x27;, &#x27;2018-09-20&#x27;,\n",
       "               &#x27;2019-02-12&#x27;, &#x27;2019-06-11&#x27;, &#x27;2019-08-23&#x27;, &#x27;2020-02-16&#x27;,\n",
       "               &#x27;2020-08-20&#x27;],\n",
       "              dtype=&#x27;datetime64[ns]&#x27;, name=&#x27;time&#x27;, freq=None))</pre></div></li></ul></div></li><li class='xr-section-item'><input id='section-646436aa-7607-495c-8688-b286164bce76' class='xr-section-summary-in' type='checkbox'  checked><label for='section-646436aa-7607-495c-8688-b286164bce76' class='xr-section-summary' >Attributes: <span>(3)</span></label><div class='xr-section-inline-details'></div><div class='xr-section-details'><dl class='xr-attrs'><dt><span>creation date :</span></dt><dd>2024-10-13T20:03:40.331216</dd><dt><span>layer :</span></dt><dd>epipelagic</dd><dt><span>station :</span></dt><dd>Papa</dd></dl></div></li></ul></div></div>"
      ],
      "text/plain": [
       "<xarray.Dataset> Size: 2kB\n",
       "Dimensions:    (time: 69, latitude: 1, longitude: 1, layer: 1)\n",
       "Coordinates:\n",
       "  * latitude   (latitude) int64 8B 50\n",
       "  * layer      (layer) int64 8B 0\n",
       "  * longitude  (longitude) int64 8B -150\n",
       "  * time       (time) datetime64[ns] 552B 1997-02-21 1997-06-15 ... 2020-08-20\n",
       "Data variables:\n",
       "    day        (time, latitude, longitude, layer) float64 552B nan nan ... nan\n",
       "    night      (time, latitude, longitude, layer) float64 552B 2.727 ... 16.45\n",
       "Attributes:\n",
       "    creation date:  2024-10-13T20:03:40.331216\n",
       "    layer:          epipelagic\n",
       "    station:        Papa"
      ]
     },
     "execution_count": 3,
     "metadata": {},
     "output_type": "execute_result"
    }
   ],
   "source": [
    "data = xr.load_dataset(f\"./products/{station}_obs.zarr\", engine=\"zarr\")\n",
    "data"
   ]
  },
  {
   "cell_type": "markdown",
   "metadata": {},
   "source": [
    "## Number of samples\n"
   ]
  },
  {
   "cell_type": "code",
   "execution_count": 4,
   "metadata": {},
   "outputs": [
    {
     "data": {
      "application/vnd.plotly.v1+json": {
       "config": {
        "plotlyServerURL": "https://plot.ly"
       },
       "data": [
        {
         "mode": "lines+markers",
         "name": "Day",
         "type": "scatter",
         "x": [
          1997,
          1998,
          1999,
          2000,
          2001,
          2002,
          2003,
          2004,
          2005,
          2006,
          2007,
          2008,
          2009,
          2010,
          2011,
          2012,
          2013,
          2014,
          2015,
          2016,
          2017,
          2018,
          2019,
          2020
         ],
         "xaxis": "x",
         "y": [
          3,
          3,
          1,
          0,
          0,
          3,
          3,
          1,
          3,
          3,
          2,
          2,
          1,
          2,
          3,
          1,
          1,
          1,
          1,
          2,
          2,
          2,
          2,
          1
         ],
         "yaxis": "y"
        },
        {
         "mode": "lines+markers",
         "name": "Night",
         "type": "scatter",
         "x": [
          1997,
          1998,
          1999,
          2000,
          2001,
          2002,
          2003,
          2004,
          2005,
          2006,
          2007,
          2008,
          2009,
          2010,
          2011,
          2012,
          2013,
          2014,
          2015,
          2016,
          2017,
          2018,
          2019,
          2020
         ],
         "xaxis": "x",
         "y": [
          2,
          2,
          2,
          2,
          1,
          0,
          1,
          2,
          1,
          0,
          1,
          1,
          2,
          0,
          0,
          2,
          2,
          1,
          2,
          1,
          1,
          1,
          1,
          1
         ],
         "yaxis": "y"
        },
        {
         "mode": "lines+markers",
         "name": "Day Cumulative",
         "type": "scatter",
         "visible": false,
         "x": [
          1997,
          1998,
          1999,
          2000,
          2001,
          2002,
          2003,
          2004,
          2005,
          2006,
          2007,
          2008,
          2009,
          2010,
          2011,
          2012,
          2013,
          2014,
          2015,
          2016,
          2017,
          2018,
          2019,
          2020
         ],
         "xaxis": "x",
         "y": [
          3,
          6,
          7,
          7,
          7,
          10,
          13,
          14,
          17,
          20,
          22,
          24,
          25,
          27,
          30,
          31,
          32,
          33,
          34,
          36,
          38,
          40,
          42,
          43
         ],
         "yaxis": "y"
        },
        {
         "mode": "lines+markers",
         "name": "Night Cumulative",
         "type": "scatter",
         "visible": false,
         "x": [
          1997,
          1998,
          1999,
          2000,
          2001,
          2002,
          2003,
          2004,
          2005,
          2006,
          2007,
          2008,
          2009,
          2010,
          2011,
          2012,
          2013,
          2014,
          2015,
          2016,
          2017,
          2018,
          2019,
          2020
         ],
         "xaxis": "x",
         "y": [
          2,
          4,
          6,
          8,
          9,
          9,
          10,
          12,
          13,
          13,
          14,
          15,
          17,
          17,
          17,
          19,
          21,
          22,
          24,
          25,
          26,
          27,
          28,
          29
         ],
         "yaxis": "y"
        },
        {
         "mode": "lines+markers",
         "name": "Day",
         "type": "scatter",
         "x": [
          2,
          6,
          7,
          8,
          9
         ],
         "xaxis": "x2",
         "y": [
          13,
          13,
          2,
          9,
          6
         ],
         "yaxis": "y2"
        },
        {
         "mode": "lines+markers",
         "name": "Night",
         "type": "scatter",
         "x": [
          2,
          6,
          7,
          8,
          9
         ],
         "xaxis": "x2",
         "y": [
          12,
          7,
          0,
          6,
          4
         ],
         "yaxis": "y2"
        },
        {
         "mode": "lines+markers",
         "name": "Day Cumulative",
         "type": "scatter",
         "visible": false,
         "x": [
          2,
          6,
          7,
          8,
          9
         ],
         "xaxis": "x2",
         "y": [
          13,
          26,
          28,
          37,
          43
         ],
         "yaxis": "y2"
        },
        {
         "mode": "lines+markers",
         "name": "Night Cumulative",
         "type": "scatter",
         "visible": false,
         "x": [
          2,
          6,
          7,
          8,
          9
         ],
         "xaxis": "x2",
         "y": [
          12,
          19,
          19,
          25,
          29
         ],
         "yaxis": "y2"
        }
       ],
       "layout": {
        "annotations": [
         {
          "font": {
           "size": 16
          },
          "showarrow": false,
          "text": "Yearly Data",
          "x": 0.225,
          "xanchor": "center",
          "xref": "paper",
          "y": 1,
          "yanchor": "bottom",
          "yref": "paper"
         },
         {
          "font": {
           "size": 16
          },
          "showarrow": false,
          "text": "Monthly Data",
          "x": 0.775,
          "xanchor": "center",
          "xref": "paper",
          "y": 1,
          "yanchor": "bottom",
          "yref": "paper"
         }
        ],
        "height": 600,
        "legend": {
         "title": {
          "text": "Legend"
         }
        },
        "template": {
         "data": {
          "bar": [
           {
            "error_x": {
             "color": "#2a3f5f"
            },
            "error_y": {
             "color": "#2a3f5f"
            },
            "marker": {
             "line": {
              "color": "#E5ECF6",
              "width": 0.5
             },
             "pattern": {
              "fillmode": "overlay",
              "size": 10,
              "solidity": 0.2
             }
            },
            "type": "bar"
           }
          ],
          "barpolar": [
           {
            "marker": {
             "line": {
              "color": "#E5ECF6",
              "width": 0.5
             },
             "pattern": {
              "fillmode": "overlay",
              "size": 10,
              "solidity": 0.2
             }
            },
            "type": "barpolar"
           }
          ],
          "carpet": [
           {
            "aaxis": {
             "endlinecolor": "#2a3f5f",
             "gridcolor": "white",
             "linecolor": "white",
             "minorgridcolor": "white",
             "startlinecolor": "#2a3f5f"
            },
            "baxis": {
             "endlinecolor": "#2a3f5f",
             "gridcolor": "white",
             "linecolor": "white",
             "minorgridcolor": "white",
             "startlinecolor": "#2a3f5f"
            },
            "type": "carpet"
           }
          ],
          "choropleth": [
           {
            "colorbar": {
             "outlinewidth": 0,
             "ticks": ""
            },
            "type": "choropleth"
           }
          ],
          "contour": [
           {
            "colorbar": {
             "outlinewidth": 0,
             "ticks": ""
            },
            "colorscale": [
             [
              0,
              "#0d0887"
             ],
             [
              0.1111111111111111,
              "#46039f"
             ],
             [
              0.2222222222222222,
              "#7201a8"
             ],
             [
              0.3333333333333333,
              "#9c179e"
             ],
             [
              0.4444444444444444,
              "#bd3786"
             ],
             [
              0.5555555555555556,
              "#d8576b"
             ],
             [
              0.6666666666666666,
              "#ed7953"
             ],
             [
              0.7777777777777778,
              "#fb9f3a"
             ],
             [
              0.8888888888888888,
              "#fdca26"
             ],
             [
              1,
              "#f0f921"
             ]
            ],
            "type": "contour"
           }
          ],
          "contourcarpet": [
           {
            "colorbar": {
             "outlinewidth": 0,
             "ticks": ""
            },
            "type": "contourcarpet"
           }
          ],
          "heatmap": [
           {
            "colorbar": {
             "outlinewidth": 0,
             "ticks": ""
            },
            "colorscale": [
             [
              0,
              "#0d0887"
             ],
             [
              0.1111111111111111,
              "#46039f"
             ],
             [
              0.2222222222222222,
              "#7201a8"
             ],
             [
              0.3333333333333333,
              "#9c179e"
             ],
             [
              0.4444444444444444,
              "#bd3786"
             ],
             [
              0.5555555555555556,
              "#d8576b"
             ],
             [
              0.6666666666666666,
              "#ed7953"
             ],
             [
              0.7777777777777778,
              "#fb9f3a"
             ],
             [
              0.8888888888888888,
              "#fdca26"
             ],
             [
              1,
              "#f0f921"
             ]
            ],
            "type": "heatmap"
           }
          ],
          "heatmapgl": [
           {
            "colorbar": {
             "outlinewidth": 0,
             "ticks": ""
            },
            "colorscale": [
             [
              0,
              "#0d0887"
             ],
             [
              0.1111111111111111,
              "#46039f"
             ],
             [
              0.2222222222222222,
              "#7201a8"
             ],
             [
              0.3333333333333333,
              "#9c179e"
             ],
             [
              0.4444444444444444,
              "#bd3786"
             ],
             [
              0.5555555555555556,
              "#d8576b"
             ],
             [
              0.6666666666666666,
              "#ed7953"
             ],
             [
              0.7777777777777778,
              "#fb9f3a"
             ],
             [
              0.8888888888888888,
              "#fdca26"
             ],
             [
              1,
              "#f0f921"
             ]
            ],
            "type": "heatmapgl"
           }
          ],
          "histogram": [
           {
            "marker": {
             "pattern": {
              "fillmode": "overlay",
              "size": 10,
              "solidity": 0.2
             }
            },
            "type": "histogram"
           }
          ],
          "histogram2d": [
           {
            "colorbar": {
             "outlinewidth": 0,
             "ticks": ""
            },
            "colorscale": [
             [
              0,
              "#0d0887"
             ],
             [
              0.1111111111111111,
              "#46039f"
             ],
             [
              0.2222222222222222,
              "#7201a8"
             ],
             [
              0.3333333333333333,
              "#9c179e"
             ],
             [
              0.4444444444444444,
              "#bd3786"
             ],
             [
              0.5555555555555556,
              "#d8576b"
             ],
             [
              0.6666666666666666,
              "#ed7953"
             ],
             [
              0.7777777777777778,
              "#fb9f3a"
             ],
             [
              0.8888888888888888,
              "#fdca26"
             ],
             [
              1,
              "#f0f921"
             ]
            ],
            "type": "histogram2d"
           }
          ],
          "histogram2dcontour": [
           {
            "colorbar": {
             "outlinewidth": 0,
             "ticks": ""
            },
            "colorscale": [
             [
              0,
              "#0d0887"
             ],
             [
              0.1111111111111111,
              "#46039f"
             ],
             [
              0.2222222222222222,
              "#7201a8"
             ],
             [
              0.3333333333333333,
              "#9c179e"
             ],
             [
              0.4444444444444444,
              "#bd3786"
             ],
             [
              0.5555555555555556,
              "#d8576b"
             ],
             [
              0.6666666666666666,
              "#ed7953"
             ],
             [
              0.7777777777777778,
              "#fb9f3a"
             ],
             [
              0.8888888888888888,
              "#fdca26"
             ],
             [
              1,
              "#f0f921"
             ]
            ],
            "type": "histogram2dcontour"
           }
          ],
          "mesh3d": [
           {
            "colorbar": {
             "outlinewidth": 0,
             "ticks": ""
            },
            "type": "mesh3d"
           }
          ],
          "parcoords": [
           {
            "line": {
             "colorbar": {
              "outlinewidth": 0,
              "ticks": ""
             }
            },
            "type": "parcoords"
           }
          ],
          "pie": [
           {
            "automargin": true,
            "type": "pie"
           }
          ],
          "scatter": [
           {
            "fillpattern": {
             "fillmode": "overlay",
             "size": 10,
             "solidity": 0.2
            },
            "type": "scatter"
           }
          ],
          "scatter3d": [
           {
            "line": {
             "colorbar": {
              "outlinewidth": 0,
              "ticks": ""
             }
            },
            "marker": {
             "colorbar": {
              "outlinewidth": 0,
              "ticks": ""
             }
            },
            "type": "scatter3d"
           }
          ],
          "scattercarpet": [
           {
            "marker": {
             "colorbar": {
              "outlinewidth": 0,
              "ticks": ""
             }
            },
            "type": "scattercarpet"
           }
          ],
          "scattergeo": [
           {
            "marker": {
             "colorbar": {
              "outlinewidth": 0,
              "ticks": ""
             }
            },
            "type": "scattergeo"
           }
          ],
          "scattergl": [
           {
            "marker": {
             "colorbar": {
              "outlinewidth": 0,
              "ticks": ""
             }
            },
            "type": "scattergl"
           }
          ],
          "scattermapbox": [
           {
            "marker": {
             "colorbar": {
              "outlinewidth": 0,
              "ticks": ""
             }
            },
            "type": "scattermapbox"
           }
          ],
          "scatterpolar": [
           {
            "marker": {
             "colorbar": {
              "outlinewidth": 0,
              "ticks": ""
             }
            },
            "type": "scatterpolar"
           }
          ],
          "scatterpolargl": [
           {
            "marker": {
             "colorbar": {
              "outlinewidth": 0,
              "ticks": ""
             }
            },
            "type": "scatterpolargl"
           }
          ],
          "scatterternary": [
           {
            "marker": {
             "colorbar": {
              "outlinewidth": 0,
              "ticks": ""
             }
            },
            "type": "scatterternary"
           }
          ],
          "surface": [
           {
            "colorbar": {
             "outlinewidth": 0,
             "ticks": ""
            },
            "colorscale": [
             [
              0,
              "#0d0887"
             ],
             [
              0.1111111111111111,
              "#46039f"
             ],
             [
              0.2222222222222222,
              "#7201a8"
             ],
             [
              0.3333333333333333,
              "#9c179e"
             ],
             [
              0.4444444444444444,
              "#bd3786"
             ],
             [
              0.5555555555555556,
              "#d8576b"
             ],
             [
              0.6666666666666666,
              "#ed7953"
             ],
             [
              0.7777777777777778,
              "#fb9f3a"
             ],
             [
              0.8888888888888888,
              "#fdca26"
             ],
             [
              1,
              "#f0f921"
             ]
            ],
            "type": "surface"
           }
          ],
          "table": [
           {
            "cells": {
             "fill": {
              "color": "#EBF0F8"
             },
             "line": {
              "color": "white"
             }
            },
            "header": {
             "fill": {
              "color": "#C8D4E3"
             },
             "line": {
              "color": "white"
             }
            },
            "type": "table"
           }
          ]
         },
         "layout": {
          "annotationdefaults": {
           "arrowcolor": "#2a3f5f",
           "arrowhead": 0,
           "arrowwidth": 1
          },
          "autotypenumbers": "strict",
          "coloraxis": {
           "colorbar": {
            "outlinewidth": 0,
            "ticks": ""
           }
          },
          "colorscale": {
           "diverging": [
            [
             0,
             "#8e0152"
            ],
            [
             0.1,
             "#c51b7d"
            ],
            [
             0.2,
             "#de77ae"
            ],
            [
             0.3,
             "#f1b6da"
            ],
            [
             0.4,
             "#fde0ef"
            ],
            [
             0.5,
             "#f7f7f7"
            ],
            [
             0.6,
             "#e6f5d0"
            ],
            [
             0.7,
             "#b8e186"
            ],
            [
             0.8,
             "#7fbc41"
            ],
            [
             0.9,
             "#4d9221"
            ],
            [
             1,
             "#276419"
            ]
           ],
           "sequential": [
            [
             0,
             "#0d0887"
            ],
            [
             0.1111111111111111,
             "#46039f"
            ],
            [
             0.2222222222222222,
             "#7201a8"
            ],
            [
             0.3333333333333333,
             "#9c179e"
            ],
            [
             0.4444444444444444,
             "#bd3786"
            ],
            [
             0.5555555555555556,
             "#d8576b"
            ],
            [
             0.6666666666666666,
             "#ed7953"
            ],
            [
             0.7777777777777778,
             "#fb9f3a"
            ],
            [
             0.8888888888888888,
             "#fdca26"
            ],
            [
             1,
             "#f0f921"
            ]
           ],
           "sequentialminus": [
            [
             0,
             "#0d0887"
            ],
            [
             0.1111111111111111,
             "#46039f"
            ],
            [
             0.2222222222222222,
             "#7201a8"
            ],
            [
             0.3333333333333333,
             "#9c179e"
            ],
            [
             0.4444444444444444,
             "#bd3786"
            ],
            [
             0.5555555555555556,
             "#d8576b"
            ],
            [
             0.6666666666666666,
             "#ed7953"
            ],
            [
             0.7777777777777778,
             "#fb9f3a"
            ],
            [
             0.8888888888888888,
             "#fdca26"
            ],
            [
             1,
             "#f0f921"
            ]
           ]
          },
          "colorway": [
           "#636efa",
           "#EF553B",
           "#00cc96",
           "#ab63fa",
           "#FFA15A",
           "#19d3f3",
           "#FF6692",
           "#B6E880",
           "#FF97FF",
           "#FECB52"
          ],
          "font": {
           "color": "#2a3f5f"
          },
          "geo": {
           "bgcolor": "white",
           "lakecolor": "white",
           "landcolor": "#E5ECF6",
           "showlakes": true,
           "showland": true,
           "subunitcolor": "white"
          },
          "hoverlabel": {
           "align": "left"
          },
          "hovermode": "closest",
          "mapbox": {
           "style": "light"
          },
          "paper_bgcolor": "white",
          "plot_bgcolor": "#E5ECF6",
          "polar": {
           "angularaxis": {
            "gridcolor": "white",
            "linecolor": "white",
            "ticks": ""
           },
           "bgcolor": "#E5ECF6",
           "radialaxis": {
            "gridcolor": "white",
            "linecolor": "white",
            "ticks": ""
           }
          },
          "scene": {
           "xaxis": {
            "backgroundcolor": "#E5ECF6",
            "gridcolor": "white",
            "gridwidth": 2,
            "linecolor": "white",
            "showbackground": true,
            "ticks": "",
            "zerolinecolor": "white"
           },
           "yaxis": {
            "backgroundcolor": "#E5ECF6",
            "gridcolor": "white",
            "gridwidth": 2,
            "linecolor": "white",
            "showbackground": true,
            "ticks": "",
            "zerolinecolor": "white"
           },
           "zaxis": {
            "backgroundcolor": "#E5ECF6",
            "gridcolor": "white",
            "gridwidth": 2,
            "linecolor": "white",
            "showbackground": true,
            "ticks": "",
            "zerolinecolor": "white"
           }
          },
          "shapedefaults": {
           "line": {
            "color": "#2a3f5f"
           }
          },
          "ternary": {
           "aaxis": {
            "gridcolor": "white",
            "linecolor": "white",
            "ticks": ""
           },
           "baxis": {
            "gridcolor": "white",
            "linecolor": "white",
            "ticks": ""
           },
           "bgcolor": "#E5ECF6",
           "caxis": {
            "gridcolor": "white",
            "linecolor": "white",
            "ticks": ""
           }
          },
          "title": {
           "x": 0.05
          },
          "xaxis": {
           "automargin": true,
           "gridcolor": "white",
           "linecolor": "white",
           "ticks": "",
           "title": {
            "standoff": 15
           },
           "zerolinecolor": "white",
           "zerolinewidth": 2
          },
          "yaxis": {
           "automargin": true,
           "gridcolor": "white",
           "linecolor": "white",
           "ticks": "",
           "title": {
            "standoff": 15
           },
           "zerolinecolor": "white",
           "zerolinewidth": 2
          }
         }
        },
        "title": {
         "text": "Nb of samples during day and night by year and month at Papa"
        },
        "updatemenus": [
         {
          "buttons": [
           {
            "args": [
             {
              "visible": [
               true,
               true,
               false,
               false,
               true,
               true,
               false,
               false
              ]
             }
            ],
            "label": "Non-Cumulative",
            "method": "update"
           },
           {
            "args": [
             {
              "visible": [
               false,
               false,
               true,
               true,
               false,
               false,
               true,
               true
              ]
             }
            ],
            "label": "Cumulative",
            "method": "update"
           }
          ],
          "direction": "down",
          "showactive": true
         }
        ],
        "width": 1100,
        "xaxis": {
         "anchor": "y",
         "domain": [
          0,
          0.45
         ],
         "showgrid": true,
         "title": {
          "text": "Year"
         }
        },
        "xaxis2": {
         "anchor": "y2",
         "domain": [
          0.55,
          1
         ]
        },
        "yaxis": {
         "anchor": "x",
         "domain": [
          0,
          1
         ],
         "showgrid": true,
         "title": {
          "text": "Nb of samples"
         }
        },
        "yaxis2": {
         "anchor": "x2",
         "domain": [
          0,
          1
         ]
        }
       }
      }
     },
     "metadata": {},
     "output_type": "display_data"
    }
   ],
   "source": [
    "# Calculer les comptes mensuels\n",
    "day_counts_month = data.groupby(\"time.month\").count().day[:, 0, 0, 0]\n",
    "night_counts_month = data.groupby(\"time.month\").count().night[:, 0, 0, 0]\n",
    "\n",
    "day_counts_month_cumsum = day_counts_month.cumsum()\n",
    "night_counts_month_cumsum = night_counts_month.cumsum()\n",
    "\n",
    "# Calculer les comptes annuels\n",
    "day_counts_year = data.groupby(\"time.year\").count().day[:, 0, 0, 0]\n",
    "night_counts_year = data.groupby(\"time.year\").count().night[:, 0, 0, 0]\n",
    "\n",
    "day_counts_year_cumsum = day_counts_year.cumsum()\n",
    "night_counts_year_cumsum = night_counts_year.cumsum()\n",
    "\n",
    "# Créer la figure avec des subplots\n",
    "fig = make_subplots(rows=1, cols=2, subplot_titles=(\"Yearly Data\", \"Monthly Data\"))\n",
    "\n",
    "# Ajouter les traces pour les données annuelles\n",
    "fig.add_trace(go.Scatter(x=day_counts_year[\"year\"], y=day_counts_year, mode=\"lines+markers\", name=\"Day\"), row=1, col=1)\n",
    "fig.add_trace(\n",
    "    go.Scatter(x=night_counts_year[\"year\"], y=night_counts_year, mode=\"lines+markers\", name=\"Night\"), row=1, col=1\n",
    ")\n",
    "fig.add_trace(\n",
    "    go.Scatter(\n",
    "        x=day_counts_year_cumsum[\"year\"],\n",
    "        y=day_counts_year_cumsum,\n",
    "        mode=\"lines+markers\",\n",
    "        name=\"Day Cumulative\",\n",
    "        visible=False,\n",
    "    ),\n",
    "    row=1,\n",
    "    col=1,\n",
    ")\n",
    "fig.add_trace(\n",
    "    go.Scatter(\n",
    "        x=night_counts_year_cumsum[\"year\"],\n",
    "        y=night_counts_year_cumsum,\n",
    "        mode=\"lines+markers\",\n",
    "        name=\"Night Cumulative\",\n",
    "        visible=False,\n",
    "    ),\n",
    "    row=1,\n",
    "    col=1,\n",
    ")\n",
    "\n",
    "# Ajouter les traces pour les données mensuelles\n",
    "fig.add_trace(\n",
    "    go.Scatter(x=day_counts_month[\"month\"], y=day_counts_month, mode=\"lines+markers\", name=\"Day\"), row=1, col=2\n",
    ")\n",
    "fig.add_trace(\n",
    "    go.Scatter(x=night_counts_month[\"month\"], y=night_counts_month, mode=\"lines+markers\", name=\"Night\"), row=1, col=2\n",
    ")\n",
    "fig.add_trace(\n",
    "    go.Scatter(\n",
    "        x=day_counts_month_cumsum[\"month\"],\n",
    "        y=day_counts_month_cumsum,\n",
    "        mode=\"lines+markers\",\n",
    "        name=\"Day Cumulative\",\n",
    "        visible=False,\n",
    "    ),\n",
    "    row=1,\n",
    "    col=2,\n",
    ")\n",
    "fig.add_trace(\n",
    "    go.Scatter(\n",
    "        x=night_counts_month_cumsum[\"month\"],\n",
    "        y=night_counts_month_cumsum,\n",
    "        mode=\"lines+markers\",\n",
    "        name=\"Night Cumulative\",\n",
    "        visible=False,\n",
    "    ),\n",
    "    row=1,\n",
    "    col=2,\n",
    ")\n",
    "\n",
    "# Mettre à jour la mise en page avec le menu déroulant\n",
    "fig.update_layout(\n",
    "    title=f\"Nb of samples during day and night by year and month at {station}\",\n",
    "    xaxis_title=\"Year\",\n",
    "    yaxis_title=\"Nb of samples\",\n",
    "    legend_title=\"Legend\",\n",
    "    xaxis={\"showgrid\": True},\n",
    "    yaxis={\"showgrid\": True},\n",
    "    updatemenus=[\n",
    "        {\n",
    "            \"buttons\": [\n",
    "                {\n",
    "                    \"args\": [{\"visible\": [True, True, False, False, True, True, False, False]}],\n",
    "                    \"label\": \"Non-Cumulative\",\n",
    "                    \"method\": \"update\",\n",
    "                },\n",
    "                {\n",
    "                    \"args\": [{\"visible\": [False, False, True, True, False, False, True, True]}],\n",
    "                    \"label\": \"Cumulative\",\n",
    "                    \"method\": \"update\",\n",
    "                },\n",
    "            ],\n",
    "            \"direction\": \"down\",\n",
    "            \"showactive\": True,\n",
    "        }\n",
    "    ],\n",
    ")\n",
    "# wider layout\n",
    "fig.update_layout(width=1100, height=600)\n",
    "fig.show()"
   ]
  },
  {
   "cell_type": "markdown",
   "metadata": {},
   "source": [
    "## Computing the trend\n"
   ]
  },
  {
   "cell_type": "code",
   "execution_count": 5,
   "metadata": {},
   "outputs": [
    {
     "name": "stderr",
     "output_type": "stream",
     "text": [
      "/var/folders/36/grrgsqjd14j4tf6cf5ty4ykh0000gn/T/ipykernel_31834/70799619.py:6: UserWarning:\n",
      "\n",
      "Converting non-nanosecond precision timedelta values to nanosecond precision. This behavior can eventually be relaxed in xarray, as it is an artifact from pandas which is now beginning to support non-nanosecond precision values. This warning is caused by passing non-nanosecond np.datetime64 or np.timedelta64 values to the DataArray or Variable constructor; it can be silenced by converting the values to nanosecond precision ahead of time.\n",
      "\n",
      "/var/folders/36/grrgsqjd14j4tf6cf5ty4ykh0000gn/T/ipykernel_31834/70799619.py:13: UserWarning:\n",
      "\n",
      "Converting non-nanosecond precision timedelta values to nanosecond precision. This behavior can eventually be relaxed in xarray, as it is an artifact from pandas which is now beginning to support non-nanosecond precision values. This warning is caused by passing non-nanosecond np.datetime64 or np.timedelta64 values to the DataArray or Variable constructor; it can be silenced by converting the values to nanosecond precision ahead of time.\n",
      "\n"
     ]
    },
    {
     "data": {
      "image/png": "[encoded data removed]",
      "text/plain": [
       "<Figure size 1200x600 with 1 Axes>"
      ]
     },
     "metadata": {},
     "output_type": "display_data"
    }
   ],
   "source": [
    "# Extraire les données de jour et de nuit\n",
    "day_data = data[\"day\"][:, 0, 0, 0].dropna(dim=\"time\")\n",
    "night_data = data[\"night\"][:, 0, 0, 0].dropna(dim=\"time\")\n",
    "\n",
    "# Extraire les indices de temps en jours\n",
    "time_indices = (day_data[\"time\"] - day_data[\"time\"][0]).astype(\"timedelta64[D]\").astype(int)\n",
    "\n",
    "# Ajuster une ligne droite aux données de jour\n",
    "day_trend = np.polyfit(time_indices, day_data, 1)\n",
    "day_trend_line = np.polyval(day_trend, time_indices)\n",
    "\n",
    "# Ajuster une ligne droite aux données de nuit\n",
    "night_time_indices = (night_data[\"time\"] - night_data[\"time\"][0]).astype(\"timedelta64[D]\").astype(int)\n",
    "night_trend = np.polyfit(night_time_indices, night_data, 1)\n",
    "night_trend_line = np.polyval(night_trend, night_time_indices)\n",
    "\n",
    "# Calculer l'erreur standard des tendances de jour et de nuit\n",
    "day_std_error = np.std(day_data - day_trend_line) / np.sqrt(len(day_data))\n",
    "night_std_error = np.std(night_data - night_trend_line) / np.sqrt(len(night_data))\n",
    "\n",
    "# Définir le niveau de confiance (par exemple, 95%)\n",
    "confidence_level = 0.95\n",
    "degrees_freedom_day = len(day_data) - 2\n",
    "degrees_freedom_night = len(night_data) - 2\n",
    "\n",
    "# Calculer la valeur critique t pour le niveau de confiance et les degrés de liberté\n",
    "t_critical_day = t.ppf((1 + confidence_level) / 2, degrees_freedom_day)\n",
    "t_critical_night = t.ppf((1 + confidence_level) / 2, degrees_freedom_night)\n",
    "\n",
    "# Calculer l'intervalle de confiance\n",
    "day_confidence_interval = float(t_critical_day * day_std_error)\n",
    "night_confidence_interval = float(t_critical_night * night_std_error)\n",
    "\n",
    "# Tracer les données et les intervalles de confiance\n",
    "plt.figure(figsize=(12, 6))\n",
    "plt.plot(day_data[\"time\"], day_data, label=\"Day Data\")\n",
    "plt.plot(day_data[\"time\"], day_trend_line, label=\"Day Trend\", linestyle=\"--\")\n",
    "plt.fill_between(\n",
    "    day_data[\"time\"],\n",
    "    day_trend_line - day_confidence_interval,\n",
    "    day_trend_line + day_confidence_interval,\n",
    "    color=\"b\",\n",
    "    alpha=0.2,\n",
    "    label=\"Day Confidence Interval\",\n",
    ")\n",
    "\n",
    "plt.plot(night_data[\"time\"], night_data, label=\"Night Data\")\n",
    "plt.plot(night_data[\"time\"], night_trend_line, label=\"Night Trend\", linestyle=\"--\")\n",
    "plt.fill_between(\n",
    "    night_data[\"time\"],\n",
    "    night_trend_line - night_confidence_interval,\n",
    "    night_trend_line + night_confidence_interval,\n",
    "    color=\"r\",\n",
    "    alpha=0.2,\n",
    "    label=\"Night Confidence Interval\",\n",
    ")\n",
    "\n",
    "plt.legend()\n",
    "plt.title(f\"Trend of samples during day and night at {station}\")\n",
    "plt.xlabel(\"Time\")\n",
    "plt.ylabel(\"Zooplankton biomass (mg/m3)\")\n",
    "plt.grid()\n",
    "plt.show()"
   ]
  },
  {
   "cell_type": "code",
   "execution_count": 6,
   "metadata": {},
   "outputs": [
    {
     "data": {
      "image/png": "[encoded data removed]",
      "text/plain": [
       "<Figure size 1200x600 with 1 Axes>"
      ]
     },
     "metadata": {},
     "output_type": "display_data"
    }
   ],
   "source": [
    "# Ajuster une fonction polynomiale de degré 2 aux données de jour\n",
    "day_poly_trend = np.polyfit(time_indices, day_data, 2)\n",
    "day_poly_trend_line = np.polyval(day_poly_trend, time_indices)\n",
    "\n",
    "# Ajuster une fonction polynomiale de degré 2 aux données de nuit\n",
    "night_poly_trend = np.polyfit(night_time_indices, night_data, 2)\n",
    "night_poly_trend_line = np.polyval(night_poly_trend, night_time_indices)\n",
    "\n",
    "# Calculer l'erreur standard des tendances polynomiales de jour et de nuit\n",
    "day_poly_std_error = np.std(day_data - day_poly_trend_line) / np.sqrt(len(day_data))\n",
    "night_poly_std_error = np.std(night_data - night_poly_trend_line) / np.sqrt(len(night_data))\n",
    "\n",
    "# Calculer l'intervalle de confiance pour les tendances polynomiales\n",
    "day_poly_confidence_interval = float(t_critical_day * day_poly_std_error)\n",
    "night_poly_confidence_interval = float(t_critical_night * night_poly_std_error)\n",
    "\n",
    "# Tracer les données et les intervalles de confiance pour les tendances polynomiales\n",
    "plt.figure(figsize=(12, 6))\n",
    "plt.plot(day_data[\"time\"], day_data, label=\"Day Data\")\n",
    "plt.plot(day_data[\"time\"], day_poly_trend_line, label=\"Day Polynomial Trend\", linestyle=\"--\")\n",
    "plt.fill_between(\n",
    "    day_data[\"time\"],\n",
    "    day_poly_trend_line - day_poly_confidence_interval,\n",
    "    day_poly_trend_line + day_poly_confidence_interval,\n",
    "    color=\"b\",\n",
    "    alpha=0.2,\n",
    "    label=\"Day Polynomial Confidence Interval\",\n",
    ")\n",
    "\n",
    "plt.plot(night_data[\"time\"], night_data, label=\"Night Data\")\n",
    "plt.plot(night_data[\"time\"], night_poly_trend_line, label=\"Night Polynomial Trend\", linestyle=\"--\")\n",
    "plt.fill_between(\n",
    "    night_data[\"time\"],\n",
    "    night_poly_trend_line - night_poly_confidence_interval,\n",
    "    night_poly_trend_line + night_poly_confidence_interval,\n",
    "    color=\"r\",\n",
    "    alpha=0.2,\n",
    "    label=\"Night Polynomial Confidence Interval\",\n",
    ")\n",
    "\n",
    "plt.legend()\n",
    "plt.title(f\"Polynomial Trend of samples during day and night at {station}\")\n",
    "plt.xlabel(\"Time\")\n",
    "plt.ylabel(\"Zooplankton biomass (mg/m3)\")\n",
    "plt.grid()\n",
    "plt.show()"
   ]
  },
  {
   "cell_type": "markdown",
   "metadata": {},
   "source": [
    "## Group data by week\n"
   ]
  },
  {
   "cell_type": "code",
   "execution_count": 7,
   "metadata": {},
   "outputs": [
    {
     "name": "stderr",
     "output_type": "stream",
     "text": [
      "/Users/ash/Documents/Workspaces/PhD/Seapopym-optimisation/.venv/lib/python3.12/site-packages/xarray/core/accessor_dt.py:453: FutureWarning:\n",
      "\n",
      "dt.weekofyear and dt.week have been deprecated. Please use dt.isocalendar().week instead.\n",
      "\n"
     ]
    },
    {
     "data": {
      "text/html": [
       "<div><svg style=\"position: absolute; width: 0; height: 0; overflow: hidden\">\n",
       "<defs>\n",
       "<symbol id=\"icon-database\" viewBox=\"0 0 32 32\">\n",
       "<path d=\"M16 0c-8.837 0-16 2.239-16 5v4c0 2.761 7.163 5 16 5s16-2.239 16-5v-4c0-2.761-7.163-5-16-5z\"></path>\n",
       "<path d=\"M16 17c-8.837 0-16-2.239-16-5v6c0 2.761 7.163 5 16 5s16-2.239 16-5v-6c0 2.761-7.163 5-16 5z\"></path>\n",
       "<path d=\"M16 26c-8.837 0-16-2.239-16-5v6c0 2.761 7.163 5 16 5s16-2.239 16-5v-6c0 2.761-7.163 5-16 5z\"></path>\n",
       "</symbol>\n",
       "<symbol id=\"icon-file-text2\" viewBox=\"0 0 32 32\">\n",
       "<path d=\"M28.681 7.159c-0.694-0.947-1.662-2.053-2.724-3.116s-2.169-2.030-3.116-2.724c-1.612-1.182-2.393-1.319-2.841-1.319h-15.5c-1.378 0-2.5 1.121-2.5 2.5v27c0 1.378 1.122 2.5 2.5 2.5h23c1.378 0 2.5-1.122 2.5-2.5v-19.5c0-0.448-0.137-1.23-1.319-2.841zM24.543 5.457c0.959 0.959 1.712 1.825 2.268 2.543h-4.811v-4.811c0.718 0.556 1.584 1.309 2.543 2.268zM28 29.5c0 0.271-0.229 0.5-0.5 0.5h-23c-0.271 0-0.5-0.229-0.5-0.5v-27c0-0.271 0.229-0.5 0.5-0.5 0 0 15.499-0 15.5 0v7c0 0.552 0.448 1 1 1h7v19.5z\"></path>\n",
       "<path d=\"M23 26h-14c-0.552 0-1-0.448-1-1s0.448-1 1-1h14c0.552 0 1 0.448 1 1s-0.448 1-1 1z\"></path>\n",
       "<path d=\"M23 22h-14c-0.552 0-1-0.448-1-1s0.448-1 1-1h14c0.552 0 1 0.448 1 1s-0.448 1-1 1z\"></path>\n",
       "<path d=\"M23 18h-14c-0.552 0-1-0.448-1-1s0.448-1 1-1h14c0.552 0 1 0.448 1 1s-0.448 1-1 1z\"></path>\n",
       "</symbol>\n",
       "</defs>\n",
       "</svg>\n",
       "<style>/* CSS stylesheet for displaying xarray objects in jupyterlab.\n",
       " *\n",
       " */\n",
       "\n",
       ":root {\n",
       "  --xr-font-color0: var(--jp-content-font-color0, rgba(0, 0, 0, 1));\n",
       "  --xr-font-color2: var(--jp-content-font-color2, rgba(0, 0, 0, 0.54));\n",
       "  --xr-font-color3: var(--jp-content-font-color3, rgba(0, 0, 0, 0.38));\n",
       "  --xr-border-color: var(--jp-border-color2, #e0e0e0);\n",
       "  --xr-disabled-color: var(--jp-layout-color3, #bdbdbd);\n",
       "  --xr-background-color: var(--jp-layout-color0, white);\n",
       "  --xr-background-color-row-even: var(--jp-layout-color1, white);\n",
       "  --xr-background-color-row-odd: var(--jp-layout-color2, #eeeeee);\n",
       "}\n",
       "\n",
       "html[theme=dark],\n",
       "html[data-theme=dark],\n",
       "body[data-theme=dark],\n",
       "body.vscode-dark {\n",
       "  --xr-font-color0: rgba(255, 255, 255, 1);\n",
       "  --xr-font-color2: rgba(255, 255, 255, 0.54);\n",
       "  --xr-font-color3: rgba(255, 255, 255, 0.38);\n",
       "  --xr-border-color: #1F1F1F;\n",
       "  --xr-disabled-color: #515151;\n",
       "  --xr-background-color: #111111;\n",
       "  --xr-background-color-row-even: #111111;\n",
       "  --xr-background-color-row-odd: #313131;\n",
       "}\n",
       "\n",
       ".xr-wrap {\n",
       "  display: block !important;\n",
       "  min-width: 300px;\n",
       "  max-width: 700px;\n",
       "}\n",
       "\n",
       ".xr-text-repr-fallback {\n",
       "  /* fallback to plain text repr when CSS is not injected (untrusted notebook) */\n",
       "  display: none;\n",
       "}\n",
       "\n",
       ".xr-header {\n",
       "  padding-top: 6px;\n",
       "  padding-bottom: 6px;\n",
       "  margin-bottom: 4px;\n",
       "  border-bottom: solid 1px var(--xr-border-color);\n",
       "}\n",
       "\n",
       ".xr-header > div,\n",
       ".xr-header > ul {\n",
       "  display: inline;\n",
       "  margin-top: 0;\n",
       "  margin-bottom: 0;\n",
       "}\n",
       "\n",
       ".xr-obj-type,\n",
       ".xr-array-name {\n",
       "  margin-left: 2px;\n",
       "  margin-right: 10px;\n",
       "}\n",
       "\n",
       ".xr-obj-type {\n",
       "  color: var(--xr-font-color2);\n",
       "}\n",
       "\n",
       ".xr-sections {\n",
       "  padding-left: 0 !important;\n",
       "  display: grid;\n",
       "  grid-template-columns: 150px auto auto 1fr 0 20px 0 20px;\n",
       "}\n",
       "\n",
       ".xr-section-item {\n",
       "  display: contents;\n",
       "}\n",
       "\n",
       ".xr-section-item input {\n",
       "  display: inline-block;\n",
       "  opacity: 0;\n",
       "}\n",
       "\n",
       ".xr-section-item input + label {\n",
       "  color: var(--xr-disabled-color);\n",
       "}\n",
       "\n",
       ".xr-section-item input:enabled + label {\n",
       "  cursor: pointer;\n",
       "  color: var(--xr-font-color2);\n",
       "}\n",
       "\n",
       ".xr-section-item input:focus + label {\n",
       "  border: 2px solid var(--xr-font-color0);\n",
       "}\n",
       "\n",
       ".xr-section-item input:enabled + label:hover {\n",
       "  color: var(--xr-font-color0);\n",
       "}\n",
       "\n",
       ".xr-section-summary {\n",
       "  grid-column: 1;\n",
       "  color: var(--xr-font-color2);\n",
       "  font-weight: 500;\n",
       "}\n",
       "\n",
       ".xr-section-summary > span {\n",
       "  display: inline-block;\n",
       "  padding-left: 0.5em;\n",
       "}\n",
       "\n",
       ".xr-section-summary-in:disabled + label {\n",
       "  color: var(--xr-font-color2);\n",
       "}\n",
       "\n",
       ".xr-section-summary-in + label:before {\n",
       "  display: inline-block;\n",
       "  content: '►';\n",
       "  font-size: 11px;\n",
       "  width: 15px;\n",
       "  text-align: center;\n",
       "}\n",
       "\n",
       ".xr-section-summary-in:disabled + label:before {\n",
       "  color: var(--xr-disabled-color);\n",
       "}\n",
       "\n",
       ".xr-section-summary-in:checked + label:before {\n",
       "  content: '▼';\n",
       "}\n",
       "\n",
       ".xr-section-summary-in:checked + label > span {\n",
       "  display: none;\n",
       "}\n",
       "\n",
       ".xr-section-summary,\n",
       ".xr-section-inline-details {\n",
       "  padding-top: 4px;\n",
       "  padding-bottom: 4px;\n",
       "}\n",
       "\n",
       ".xr-section-inline-details {\n",
       "  grid-column: 2 / -1;\n",
       "}\n",
       "\n",
       ".xr-section-details {\n",
       "  display: none;\n",
       "  grid-column: 1 / -1;\n",
       "  margin-bottom: 5px;\n",
       "}\n",
       "\n",
       ".xr-section-summary-in:checked ~ .xr-section-details {\n",
       "  display: contents;\n",
       "}\n",
       "\n",
       ".xr-array-wrap {\n",
       "  grid-column: 1 / -1;\n",
       "  display: grid;\n",
       "  grid-template-columns: 20px auto;\n",
       "}\n",
       "\n",
       ".xr-array-wrap > label {\n",
       "  grid-column: 1;\n",
       "  vertical-align: top;\n",
       "}\n",
       "\n",
       ".xr-preview {\n",
       "  color: var(--xr-font-color3);\n",
       "}\n",
       "\n",
       ".xr-array-preview,\n",
       ".xr-array-data {\n",
       "  padding: 0 5px !important;\n",
       "  grid-column: 2;\n",
       "}\n",
       "\n",
       ".xr-array-data,\n",
       ".xr-array-in:checked ~ .xr-array-preview {\n",
       "  display: none;\n",
       "}\n",
       "\n",
       ".xr-array-in:checked ~ .xr-array-data,\n",
       ".xr-array-preview {\n",
       "  display: inline-block;\n",
       "}\n",
       "\n",
       ".xr-dim-list {\n",
       "  display: inline-block !important;\n",
       "  list-style: none;\n",
       "  padding: 0 !important;\n",
       "  margin: 0;\n",
       "}\n",
       "\n",
       ".xr-dim-list li {\n",
       "  display: inline-block;\n",
       "  padding: 0;\n",
       "  margin: 0;\n",
       "}\n",
       "\n",
       ".xr-dim-list:before {\n",
       "  content: '(';\n",
       "}\n",
       "\n",
       ".xr-dim-list:after {\n",
       "  content: ')';\n",
       "}\n",
       "\n",
       ".xr-dim-list li:not(:last-child):after {\n",
       "  content: ',';\n",
       "  padding-right: 5px;\n",
       "}\n",
       "\n",
       ".xr-has-index {\n",
       "  font-weight: bold;\n",
       "}\n",
       "\n",
       ".xr-var-list,\n",
       ".xr-var-item {\n",
       "  display: contents;\n",
       "}\n",
       "\n",
       ".xr-var-item > div,\n",
       ".xr-var-item label,\n",
       ".xr-var-item > .xr-var-name span {\n",
       "  background-color: var(--xr-background-color-row-even);\n",
       "  margin-bottom: 0;\n",
       "}\n",
       "\n",
       ".xr-var-item > .xr-var-name:hover span {\n",
       "  padding-right: 5px;\n",
       "}\n",
       "\n",
       ".xr-var-list > li:nth-child(odd) > div,\n",
       ".xr-var-list > li:nth-child(odd) > label,\n",
       ".xr-var-list > li:nth-child(odd) > .xr-var-name span {\n",
       "  background-color: var(--xr-background-color-row-odd);\n",
       "}\n",
       "\n",
       ".xr-var-name {\n",
       "  grid-column: 1;\n",
       "}\n",
       "\n",
       ".xr-var-dims {\n",
       "  grid-column: 2;\n",
       "}\n",
       "\n",
       ".xr-var-dtype {\n",
       "  grid-column: 3;\n",
       "  text-align: right;\n",
       "  color: var(--xr-font-color2);\n",
       "}\n",
       "\n",
       ".xr-var-preview {\n",
       "  grid-column: 4;\n",
       "}\n",
       "\n",
       ".xr-index-preview {\n",
       "  grid-column: 2 / 5;\n",
       "  color: var(--xr-font-color2);\n",
       "}\n",
       "\n",
       ".xr-var-name,\n",
       ".xr-var-dims,\n",
       ".xr-var-dtype,\n",
       ".xr-preview,\n",
       ".xr-attrs dt {\n",
       "  white-space: nowrap;\n",
       "  overflow: hidden;\n",
       "  text-overflow: ellipsis;\n",
       "  padding-right: 10px;\n",
       "}\n",
       "\n",
       ".xr-var-name:hover,\n",
       ".xr-var-dims:hover,\n",
       ".xr-var-dtype:hover,\n",
       ".xr-attrs dt:hover {\n",
       "  overflow: visible;\n",
       "  width: auto;\n",
       "  z-index: 1;\n",
       "}\n",
       "\n",
       ".xr-var-attrs,\n",
       ".xr-var-data,\n",
       ".xr-index-data {\n",
       "  display: none;\n",
       "  background-color: var(--xr-background-color) !important;\n",
       "  padding-bottom: 5px !important;\n",
       "}\n",
       "\n",
       ".xr-var-attrs-in:checked ~ .xr-var-attrs,\n",
       ".xr-var-data-in:checked ~ .xr-var-data,\n",
       ".xr-index-data-in:checked ~ .xr-index-data {\n",
       "  display: block;\n",
       "}\n",
       "\n",
       ".xr-var-data > table {\n",
       "  float: right;\n",
       "}\n",
       "\n",
       ".xr-var-name span,\n",
       ".xr-var-data,\n",
       ".xr-index-name div,\n",
       ".xr-index-data,\n",
       ".xr-attrs {\n",
       "  padding-left: 25px !important;\n",
       "}\n",
       "\n",
       ".xr-attrs,\n",
       ".xr-var-attrs,\n",
       ".xr-var-data,\n",
       ".xr-index-data {\n",
       "  grid-column: 1 / -1;\n",
       "}\n",
       "\n",
       "dl.xr-attrs {\n",
       "  padding: 0;\n",
       "  margin: 0;\n",
       "  display: grid;\n",
       "  grid-template-columns: 125px auto;\n",
       "}\n",
       "\n",
       ".xr-attrs dt,\n",
       ".xr-attrs dd {\n",
       "  padding: 0;\n",
       "  margin: 0;\n",
       "  float: left;\n",
       "  padding-right: 10px;\n",
       "  width: auto;\n",
       "}\n",
       "\n",
       ".xr-attrs dt {\n",
       "  font-weight: normal;\n",
       "  grid-column: 1;\n",
       "}\n",
       "\n",
       ".xr-attrs dt:hover span {\n",
       "  display: inline-block;\n",
       "  background: var(--xr-background-color);\n",
       "  padding-right: 10px;\n",
       "}\n",
       "\n",
       ".xr-attrs dd {\n",
       "  grid-column: 2;\n",
       "  white-space: pre-wrap;\n",
       "  word-break: break-all;\n",
       "}\n",
       "\n",
       ".xr-icon-database,\n",
       ".xr-icon-file-text2,\n",
       ".xr-no-icon {\n",
       "  display: inline-block;\n",
       "  vertical-align: middle;\n",
       "  width: 1em;\n",
       "  height: 1.5em !important;\n",
       "  stroke-width: 0;\n",
       "  stroke: currentColor;\n",
       "  fill: currentColor;\n",
       "}\n",
       "</style><pre class='xr-text-repr-fallback'>&lt;xarray.Dataset&gt; Size: 1kB\n",
       "Dimensions:    (latitude: 1, layer: 1, longitude: 1, week: 52)\n",
       "Coordinates:\n",
       "  * latitude   (latitude) int64 8B 50\n",
       "  * layer      (layer) int64 8B 0\n",
       "  * longitude  (longitude) int64 8B -150\n",
       "  * week       (week) int64 416B 1 2 3 4 5 6 7 8 9 ... 45 46 47 48 49 50 51 52\n",
       "Data variables:\n",
       "    day        (week, latitude, longitude, layer) float64 416B nan nan ... nan\n",
       "    night      (week, latitude, longitude, layer) float64 416B nan nan ... nan</pre><div class='xr-wrap' style='display:none'><div class='xr-header'><div class='xr-obj-type'>xarray.Dataset</div></div><ul class='xr-sections'><li class='xr-section-item'><input id='section-5210e0ca-dad8-4339-80ca-0b3d91a1e60c' class='xr-section-summary-in' type='checkbox' disabled ><label for='section-5210e0ca-dad8-4339-80ca-0b3d91a1e60c' class='xr-section-summary'  title='Expand/collapse section'>Dimensions:</label><div class='xr-section-inline-details'><ul class='xr-dim-list'><li><span class='xr-has-index'>latitude</span>: 1</li><li><span class='xr-has-index'>layer</span>: 1</li><li><span class='xr-has-index'>longitude</span>: 1</li><li><span class='xr-has-index'>week</span>: 52</li></ul></div><div class='xr-section-details'></div></li><li class='xr-section-item'><input id='section-a0eba54c-77f7-4b8c-8c07-210dabc5b941' class='xr-section-summary-in' type='checkbox'  checked><label for='section-a0eba54c-77f7-4b8c-8c07-210dabc5b941' class='xr-section-summary' >Coordinates: <span>(4)</span></label><div class='xr-section-inline-details'></div><div class='xr-section-details'><ul class='xr-var-list'><li class='xr-var-item'><div class='xr-var-name'><span class='xr-has-index'>latitude</span></div><div class='xr-var-dims'>(latitude)</div><div class='xr-var-dtype'>int64</div><div class='xr-var-preview xr-preview'>50</div><input id='attrs-b2eef8e8-3f1f-4437-8904-8c8286a36996' class='xr-var-attrs-in' type='checkbox' ><label for='attrs-b2eef8e8-3f1f-4437-8904-8c8286a36996' title='Show/Hide attributes'><svg class='icon xr-icon-file-text2'><use xlink:href='#icon-file-text2'></use></svg></label><input id='data-46a0efc5-2178-4441-9471-ec33b0901419' class='xr-var-data-in' type='checkbox'><label for='data-46a0efc5-2178-4441-9471-ec33b0901419' title='Show/Hide data repr'><svg class='icon xr-icon-database'><use xlink:href='#icon-database'></use></svg></label><div class='xr-var-attrs'><dl class='xr-attrs'><dt><span>axis :</span></dt><dd>Y</dd><dt><span>long_name :</span></dt><dd>Latitude</dd><dt><span>standard_name :</span></dt><dd>latitude</dd><dt><span>units :</span></dt><dd>degrees_north</dd></dl></div><div class='xr-var-data'><pre>array([50])</pre></div></li><li class='xr-var-item'><div class='xr-var-name'><span class='xr-has-index'>layer</span></div><div class='xr-var-dims'>(layer)</div><div class='xr-var-dtype'>int64</div><div class='xr-var-preview xr-preview'>0</div><input id='attrs-f8a13b45-dfae-4575-a7ec-b4d2697038ab' class='xr-var-attrs-in' type='checkbox' ><label for='attrs-f8a13b45-dfae-4575-a7ec-b4d2697038ab' title='Show/Hide attributes'><svg class='icon xr-icon-file-text2'><use xlink:href='#icon-file-text2'></use></svg></label><input id='data-8915e86b-d3c6-43f6-a27d-fcabc5853aab' class='xr-var-data-in' type='checkbox'><label for='data-8915e86b-d3c6-43f6-a27d-fcabc5853aab' title='Show/Hide data repr'><svg class='icon xr-icon-database'><use xlink:href='#icon-database'></use></svg></label><div class='xr-var-attrs'><dl class='xr-attrs'><dt><span>axis :</span></dt><dd>Z</dd><dt><span>desc :</span></dt><dd>The layer depth according to Seapodym definition</dd><dt><span>flag_meanings :</span></dt><dd>epipelagic, upper-mesopelagic, lower-mesopelagic</dd><dt><span>flag_values :</span></dt><dd>[0, 1, 2]</dd><dt><span>long_name :</span></dt><dd>Layer depth</dd><dt><span>standard_name :</span></dt><dd>layer</dd></dl></div><div class='xr-var-data'><pre>array([0])</pre></div></li><li class='xr-var-item'><div class='xr-var-name'><span class='xr-has-index'>longitude</span></div><div class='xr-var-dims'>(longitude)</div><div class='xr-var-dtype'>int64</div><div class='xr-var-preview xr-preview'>-150</div><input id='attrs-3b0c3017-cecc-450c-910b-e68210b92df5' class='xr-var-attrs-in' type='checkbox' ><label for='attrs-3b0c3017-cecc-450c-910b-e68210b92df5' title='Show/Hide attributes'><svg class='icon xr-icon-file-text2'><use xlink:href='#icon-file-text2'></use></svg></label><input id='data-2829d9e0-e626-4174-98d7-b0296a767633' class='xr-var-data-in' type='checkbox'><label for='data-2829d9e0-e626-4174-98d7-b0296a767633' title='Show/Hide data repr'><svg class='icon xr-icon-database'><use xlink:href='#icon-database'></use></svg></label><div class='xr-var-attrs'><dl class='xr-attrs'><dt><span>axis :</span></dt><dd>X</dd><dt><span>long_name :</span></dt><dd>Longitude</dd><dt><span>standard_name :</span></dt><dd>longitude</dd><dt><span>units :</span></dt><dd>degrees_east</dd></dl></div><div class='xr-var-data'><pre>array([-150])</pre></div></li><li class='xr-var-item'><div class='xr-var-name'><span class='xr-has-index'>week</span></div><div class='xr-var-dims'>(week)</div><div class='xr-var-dtype'>int64</div><div class='xr-var-preview xr-preview'>1 2 3 4 5 6 7 ... 47 48 49 50 51 52</div><input id='attrs-e4ef0967-0226-4685-94ef-19ab81660c4d' class='xr-var-attrs-in' type='checkbox' disabled><label for='attrs-e4ef0967-0226-4685-94ef-19ab81660c4d' title='Show/Hide attributes'><svg class='icon xr-icon-file-text2'><use xlink:href='#icon-file-text2'></use></svg></label><input id='data-c7c75897-cb39-475c-b6b0-3b90bd012b4e' class='xr-var-data-in' type='checkbox'><label for='data-c7c75897-cb39-475c-b6b0-3b90bd012b4e' title='Show/Hide data repr'><svg class='icon xr-icon-database'><use xlink:href='#icon-database'></use></svg></label><div class='xr-var-attrs'><dl class='xr-attrs'></dl></div><div class='xr-var-data'><pre>array([ 1,  2,  3,  4,  5,  6,  7,  8,  9, 10, 11, 12, 13, 14, 15, 16, 17, 18,\n",
       "       19, 20, 21, 22, 23, 24, 25, 26, 27, 28, 29, 30, 31, 32, 33, 34, 35, 36,\n",
       "       37, 38, 39, 40, 41, 42, 43, 44, 45, 46, 47, 48, 49, 50, 51, 52])</pre></div></li></ul></div></li><li class='xr-section-item'><input id='section-a233fe1d-153c-4f9c-a941-154c9f35738d' class='xr-section-summary-in' type='checkbox'  checked><label for='section-a233fe1d-153c-4f9c-a941-154c9f35738d' class='xr-section-summary' >Data variables: <span>(2)</span></label><div class='xr-section-inline-details'></div><div class='xr-section-details'><ul class='xr-var-list'><li class='xr-var-item'><div class='xr-var-name'><span>day</span></div><div class='xr-var-dims'>(week, latitude, longitude, layer)</div><div class='xr-var-dtype'>float64</div><div class='xr-var-preview xr-preview'>nan nan nan nan ... nan nan nan nan</div><input id='attrs-0e9b9af8-d05d-4afc-bd9c-cfd37731de42' class='xr-var-attrs-in' type='checkbox' ><label for='attrs-0e9b9af8-d05d-4afc-bd9c-cfd37731de42' title='Show/Hide attributes'><svg class='icon xr-icon-file-text2'><use xlink:href='#icon-file-text2'></use></svg></label><input id='data-d9819a89-62f2-4d11-b2fc-3d6f80b7cde0' class='xr-var-data-in' type='checkbox'><label for='data-d9819a89-62f2-4d11-b2fc-3d6f80b7cde0' title='Show/Hide data repr'><svg class='icon xr-icon-database'><use xlink:href='#icon-database'></use></svg></label><div class='xr-var-attrs'><dl class='xr-attrs'><dt><span>description :</span></dt><dd>Zooplankton carbon weight by cube meter of sea water during the day</dd><dt><span>units :</span></dt><dd>mg/m3</dd></dl></div><div class='xr-var-data'><pre>array([[[[        nan]]],\n",
       "\n",
       "\n",
       "       [[[        nan]]],\n",
       "\n",
       "\n",
       "       [[[        nan]]],\n",
       "\n",
       "\n",
       "       [[[        nan]]],\n",
       "\n",
       "\n",
       "       [[[        nan]]],\n",
       "\n",
       "\n",
       "       [[[ 1.763848  ]]],\n",
       "\n",
       "\n",
       "       [[[ 4.36639289]]],\n",
       "\n",
       "...\n",
       "\n",
       "       [[[        nan]]],\n",
       "\n",
       "\n",
       "       [[[        nan]]],\n",
       "\n",
       "\n",
       "       [[[        nan]]],\n",
       "\n",
       "\n",
       "       [[[        nan]]],\n",
       "\n",
       "\n",
       "       [[[        nan]]],\n",
       "\n",
       "\n",
       "       [[[        nan]]],\n",
       "\n",
       "\n",
       "       [[[        nan]]]])</pre></div></li><li class='xr-var-item'><div class='xr-var-name'><span>night</span></div><div class='xr-var-dims'>(week, latitude, longitude, layer)</div><div class='xr-var-dtype'>float64</div><div class='xr-var-preview xr-preview'>nan nan nan nan ... nan nan nan nan</div><input id='attrs-cc78faca-9593-43be-97fc-4dff71765d45' class='xr-var-attrs-in' type='checkbox' ><label for='attrs-cc78faca-9593-43be-97fc-4dff71765d45' title='Show/Hide attributes'><svg class='icon xr-icon-file-text2'><use xlink:href='#icon-file-text2'></use></svg></label><input id='data-d7554a9c-bad1-42b9-a50c-d4c343e839c1' class='xr-var-data-in' type='checkbox'><label for='data-d7554a9c-bad1-42b9-a50c-d4c343e839c1' title='Show/Hide data repr'><svg class='icon xr-icon-database'><use xlink:href='#icon-database'></use></svg></label><div class='xr-var-attrs'><dl class='xr-attrs'><dt><span>description :</span></dt><dd>Zooplankton carbon weight by cube meter of sea water at night</dd><dt><span>units :</span></dt><dd>mg/m3</dd></dl></div><div class='xr-var-data'><pre>array([[[[        nan]]],\n",
       "\n",
       "\n",
       "       [[[        nan]]],\n",
       "\n",
       "\n",
       "       [[[        nan]]],\n",
       "\n",
       "\n",
       "       [[[        nan]]],\n",
       "\n",
       "\n",
       "       [[[        nan]]],\n",
       "\n",
       "\n",
       "       [[[ 3.755117  ]]],\n",
       "\n",
       "\n",
       "       [[[ 9.301908  ]]],\n",
       "\n",
       "...\n",
       "\n",
       "       [[[        nan]]],\n",
       "\n",
       "\n",
       "       [[[        nan]]],\n",
       "\n",
       "\n",
       "       [[[        nan]]],\n",
       "\n",
       "\n",
       "       [[[        nan]]],\n",
       "\n",
       "\n",
       "       [[[        nan]]],\n",
       "\n",
       "\n",
       "       [[[        nan]]],\n",
       "\n",
       "\n",
       "       [[[        nan]]]])</pre></div></li></ul></div></li><li class='xr-section-item'><input id='section-028b4f9b-f86a-4bd0-a594-62d7dabe2e06' class='xr-section-summary-in' type='checkbox'  ><label for='section-028b4f9b-f86a-4bd0-a594-62d7dabe2e06' class='xr-section-summary' >Indexes: <span>(4)</span></label><div class='xr-section-inline-details'></div><div class='xr-section-details'><ul class='xr-var-list'><li class='xr-var-item'><div class='xr-index-name'><div>latitude</div></div><div class='xr-index-preview'>PandasIndex</div><div></div><input id='index-c94693dd-9395-417e-9189-c9f697301da2' class='xr-index-data-in' type='checkbox'/><label for='index-c94693dd-9395-417e-9189-c9f697301da2' title='Show/Hide index repr'><svg class='icon xr-icon-database'><use xlink:href='#icon-database'></use></svg></label><div class='xr-index-data'><pre>PandasIndex(Index([50], dtype=&#x27;int64&#x27;, name=&#x27;latitude&#x27;))</pre></div></li><li class='xr-var-item'><div class='xr-index-name'><div>layer</div></div><div class='xr-index-preview'>PandasIndex</div><div></div><input id='index-c603486e-5c05-40b3-8e38-b9bcabf44ff8' class='xr-index-data-in' type='checkbox'/><label for='index-c603486e-5c05-40b3-8e38-b9bcabf44ff8' title='Show/Hide index repr'><svg class='icon xr-icon-database'><use xlink:href='#icon-database'></use></svg></label><div class='xr-index-data'><pre>PandasIndex(Index([0], dtype=&#x27;int64&#x27;, name=&#x27;layer&#x27;))</pre></div></li><li class='xr-var-item'><div class='xr-index-name'><div>longitude</div></div><div class='xr-index-preview'>PandasIndex</div><div></div><input id='index-bb90aabd-82e3-4fd4-a5b6-d5b9a89929c2' class='xr-index-data-in' type='checkbox'/><label for='index-bb90aabd-82e3-4fd4-a5b6-d5b9a89929c2' title='Show/Hide index repr'><svg class='icon xr-icon-database'><use xlink:href='#icon-database'></use></svg></label><div class='xr-index-data'><pre>PandasIndex(Index([-150], dtype=&#x27;int64&#x27;, name=&#x27;longitude&#x27;))</pre></div></li><li class='xr-var-item'><div class='xr-index-name'><div>week</div></div><div class='xr-index-preview'>PandasIndex</div><div></div><input id='index-6968f882-8038-4c5b-8978-6ec52e7c9586' class='xr-index-data-in' type='checkbox'/><label for='index-6968f882-8038-4c5b-8978-6ec52e7c9586' title='Show/Hide index repr'><svg class='icon xr-icon-database'><use xlink:href='#icon-database'></use></svg></label><div class='xr-index-data'><pre>PandasIndex(Index([ 1,  2,  3,  4,  5,  6,  7,  8,  9, 10, 11, 12, 13, 14, 15, 16, 17, 18,\n",
       "       19, 20, 21, 22, 23, 24, 25, 26, 27, 28, 29, 30, 31, 32, 33, 34, 35, 36,\n",
       "       37, 38, 39, 40, 41, 42, 43, 44, 45, 46, 47, 48, 49, 50, 51, 52],\n",
       "      dtype=&#x27;int64&#x27;, name=&#x27;week&#x27;))</pre></div></li></ul></div></li><li class='xr-section-item'><input id='section-e26590d7-a8b1-483a-a6ea-91f7e1fe236f' class='xr-section-summary-in' type='checkbox' disabled ><label for='section-e26590d7-a8b1-483a-a6ea-91f7e1fe236f' class='xr-section-summary'  title='Expand/collapse section'>Attributes: <span>(0)</span></label><div class='xr-section-inline-details'></div><div class='xr-section-details'><dl class='xr-attrs'></dl></div></li></ul></div></div>"
      ],
      "text/plain": [
       "<xarray.Dataset> Size: 1kB\n",
       "Dimensions:    (latitude: 1, layer: 1, longitude: 1, week: 52)\n",
       "Coordinates:\n",
       "  * latitude   (latitude) int64 8B 50\n",
       "  * layer      (layer) int64 8B 0\n",
       "  * longitude  (longitude) int64 8B -150\n",
       "  * week       (week) int64 416B 1 2 3 4 5 6 7 8 9 ... 45 46 47 48 49 50 51 52\n",
       "Data variables:\n",
       "    day        (week, latitude, longitude, layer) float64 416B nan nan ... nan\n",
       "    night      (week, latitude, longitude, layer) float64 416B nan nan ... nan"
      ]
     },
     "execution_count": 7,
     "metadata": {},
     "output_type": "execute_result"
    }
   ],
   "source": [
    "grouped_data = xr.Dataset({\"day\": data.day, \"night\": data.night})\n",
    "\n",
    "# Calculer les moyennes mensuelles des données détrendées\n",
    "grouped_data = grouped_data.groupby(\"time.week\").mean()\n",
    "grouped_data\n",
    "\n",
    "# ajouter des nan pour les semaines manquantes\n",
    "grouped_data = grouped_data.reindex(week=np.arange(1, 53))\n",
    "grouped_data"
   ]
  },
  {
   "cell_type": "markdown",
   "metadata": {},
   "source": [
    "## Raw data, no smoothing\n"
   ]
  },
  {
   "cell_type": "code",
   "execution_count": 8,
   "metadata": {},
   "outputs": [
    {
     "data": {
      "image/png": "[encoded data removed]",
      "text/plain": [
       "<Figure size 640x480 with 1 Axes>"
      ]
     },
     "metadata": {},
     "output_type": "display_data"
    }
   ],
   "source": [
    "grouped_data.day.dropna(\"week\").plot(label=\"day\")\n",
    "grouped_data.night.dropna(\"week\").plot(label=\"night\")\n",
    "plt.legend()\n",
    "plt.title(f\"Climatology of samples during day and night at {station}\")\n",
    "plt.xlabel(\"Day of year\")\n",
    "plt.ylabel(\"Zooplankton biomass (mg/m3)\")\n",
    "plt.grid()\n",
    "plt.show()"
   ]
  },
  {
   "cell_type": "markdown",
   "metadata": {},
   "source": [
    "## Duplicating observation across the entire time period\n"
   ]
  },
  {
   "cell_type": "code",
   "execution_count": 9,
   "metadata": {},
   "outputs": [
    {
     "data": {
      "text/html": [
       "<div>\n",
       "<style scoped>\n",
       "    .dataframe tbody tr th:only-of-type {\n",
       "        vertical-align: middle;\n",
       "    }\n",
       "\n",
       "    .dataframe tbody tr th {\n",
       "        vertical-align: top;\n",
       "    }\n",
       "\n",
       "    .dataframe thead th {\n",
       "        text-align: right;\n",
       "    }\n",
       "</style>\n",
       "<table border=\"1\" class=\"dataframe\">\n",
       "  <thead>\n",
       "    <tr style=\"text-align: right;\">\n",
       "      <th></th>\n",
       "      <th>day</th>\n",
       "      <th>night</th>\n",
       "    </tr>\n",
       "    <tr>\n",
       "      <th>week</th>\n",
       "      <th></th>\n",
       "      <th></th>\n",
       "    </tr>\n",
       "  </thead>\n",
       "  <tbody>\n",
       "    <tr>\n",
       "      <th>1</th>\n",
       "      <td>NaN</td>\n",
       "      <td>NaN</td>\n",
       "    </tr>\n",
       "    <tr>\n",
       "      <th>2</th>\n",
       "      <td>NaN</td>\n",
       "      <td>NaN</td>\n",
       "    </tr>\n",
       "    <tr>\n",
       "      <th>3</th>\n",
       "      <td>NaN</td>\n",
       "      <td>NaN</td>\n",
       "    </tr>\n",
       "    <tr>\n",
       "      <th>4</th>\n",
       "      <td>NaN</td>\n",
       "      <td>NaN</td>\n",
       "    </tr>\n",
       "    <tr>\n",
       "      <th>5</th>\n",
       "      <td>NaN</td>\n",
       "      <td>NaN</td>\n",
       "    </tr>\n",
       "  </tbody>\n",
       "</table>\n",
       "</div>"
      ],
      "text/plain": [
       "      day  night\n",
       "week            \n",
       "1     NaN    NaN\n",
       "2     NaN    NaN\n",
       "3     NaN    NaN\n",
       "4     NaN    NaN\n",
       "5     NaN    NaN"
      ]
     },
     "execution_count": 9,
     "metadata": {},
     "output_type": "execute_result"
    }
   ],
   "source": [
    "value_by_week = (\n",
    "    grouped_data.to_dataframe().reset_index().drop(columns=[\"latitude\", \"longitude\", \"layer\"]).set_index(\"week\")\n",
    ")\n",
    "value_by_week.head()"
   ]
  },
  {
   "cell_type": "code",
   "execution_count": 10,
   "metadata": {},
   "outputs": [
    {
     "data": {
      "text/html": [
       "<div>\n",
       "<style scoped>\n",
       "    .dataframe tbody tr th:only-of-type {\n",
       "        vertical-align: middle;\n",
       "    }\n",
       "\n",
       "    .dataframe tbody tr th {\n",
       "        vertical-align: top;\n",
       "    }\n",
       "\n",
       "    .dataframe thead th {\n",
       "        text-align: right;\n",
       "    }\n",
       "</style>\n",
       "<table border=\"1\" class=\"dataframe\">\n",
       "  <thead>\n",
       "    <tr style=\"text-align: right;\">\n",
       "      <th></th>\n",
       "      <th>week</th>\n",
       "    </tr>\n",
       "  </thead>\n",
       "  <tbody>\n",
       "    <tr>\n",
       "      <th>1997-02-23</th>\n",
       "      <td>8</td>\n",
       "    </tr>\n",
       "    <tr>\n",
       "      <th>1997-03-02</th>\n",
       "      <td>9</td>\n",
       "    </tr>\n",
       "    <tr>\n",
       "      <th>1997-03-09</th>\n",
       "      <td>10</td>\n",
       "    </tr>\n",
       "    <tr>\n",
       "      <th>1997-03-16</th>\n",
       "      <td>11</td>\n",
       "    </tr>\n",
       "    <tr>\n",
       "      <th>1997-03-23</th>\n",
       "      <td>12</td>\n",
       "    </tr>\n",
       "  </tbody>\n",
       "</table>\n",
       "</div>"
      ],
      "text/plain": [
       "            week\n",
       "1997-02-23     8\n",
       "1997-03-02     9\n",
       "1997-03-09    10\n",
       "1997-03-16    11\n",
       "1997-03-23    12"
      ]
     },
     "execution_count": 10,
     "metadata": {},
     "output_type": "execute_result"
    }
   ],
   "source": [
    "week_by_day = (\n",
    "    pd.date_range(start=data.indexes[\"time\"][0], end=data.indexes[\"time\"][-1], freq=\"W\")\n",
    "    .isocalendar()\n",
    "    .drop(columns=[\"day\", \"year\"])\n",
    ")\n",
    "week_by_day.head()"
   ]
  },
  {
   "cell_type": "code",
   "execution_count": 11,
   "metadata": {},
   "outputs": [
    {
     "data": {
      "text/html": [
       "<div>\n",
       "<style scoped>\n",
       "    .dataframe tbody tr th:only-of-type {\n",
       "        vertical-align: middle;\n",
       "    }\n",
       "\n",
       "    .dataframe tbody tr th {\n",
       "        vertical-align: top;\n",
       "    }\n",
       "\n",
       "    .dataframe thead th {\n",
       "        text-align: right;\n",
       "    }\n",
       "</style>\n",
       "<table border=\"1\" class=\"dataframe\">\n",
       "  <thead>\n",
       "    <tr style=\"text-align: right;\">\n",
       "      <th></th>\n",
       "      <th>day</th>\n",
       "      <th>night</th>\n",
       "    </tr>\n",
       "    <tr>\n",
       "      <th>time</th>\n",
       "      <th></th>\n",
       "      <th></th>\n",
       "    </tr>\n",
       "  </thead>\n",
       "  <tbody>\n",
       "    <tr>\n",
       "      <th>1997-02-23</th>\n",
       "      <td>NaN</td>\n",
       "      <td>5.078470</td>\n",
       "    </tr>\n",
       "    <tr>\n",
       "      <th>1997-03-02</th>\n",
       "      <td>3.119859</td>\n",
       "      <td>6.620502</td>\n",
       "    </tr>\n",
       "    <tr>\n",
       "      <th>1997-03-09</th>\n",
       "      <td>NaN</td>\n",
       "      <td>NaN</td>\n",
       "    </tr>\n",
       "    <tr>\n",
       "      <th>1997-03-16</th>\n",
       "      <td>NaN</td>\n",
       "      <td>NaN</td>\n",
       "    </tr>\n",
       "    <tr>\n",
       "      <th>1997-03-23</th>\n",
       "      <td>NaN</td>\n",
       "      <td>NaN</td>\n",
       "    </tr>\n",
       "    <tr>\n",
       "      <th>...</th>\n",
       "      <td>...</td>\n",
       "      <td>...</td>\n",
       "    </tr>\n",
       "    <tr>\n",
       "      <th>2020-07-19</th>\n",
       "      <td>12.918244</td>\n",
       "      <td>NaN</td>\n",
       "    </tr>\n",
       "    <tr>\n",
       "      <th>2020-07-26</th>\n",
       "      <td>NaN</td>\n",
       "      <td>NaN</td>\n",
       "    </tr>\n",
       "    <tr>\n",
       "      <th>2020-08-02</th>\n",
       "      <td>NaN</td>\n",
       "      <td>NaN</td>\n",
       "    </tr>\n",
       "    <tr>\n",
       "      <th>2020-08-09</th>\n",
       "      <td>NaN</td>\n",
       "      <td>NaN</td>\n",
       "    </tr>\n",
       "    <tr>\n",
       "      <th>2020-08-16</th>\n",
       "      <td>NaN</td>\n",
       "      <td>NaN</td>\n",
       "    </tr>\n",
       "  </tbody>\n",
       "</table>\n",
       "<p>1226 rows × 2 columns</p>\n",
       "</div>"
      ],
      "text/plain": [
       "                  day     night\n",
       "time                           \n",
       "1997-02-23        NaN  5.078470\n",
       "1997-03-02   3.119859  6.620502\n",
       "1997-03-09        NaN       NaN\n",
       "1997-03-16        NaN       NaN\n",
       "1997-03-23        NaN       NaN\n",
       "...               ...       ...\n",
       "2020-07-19  12.918244       NaN\n",
       "2020-07-26        NaN       NaN\n",
       "2020-08-02        NaN       NaN\n",
       "2020-08-09        NaN       NaN\n",
       "2020-08-16        NaN       NaN\n",
       "\n",
       "[1226 rows x 2 columns]"
      ]
     },
     "execution_count": 11,
     "metadata": {},
     "output_type": "execute_result"
    }
   ],
   "source": [
    "aggregated_smoothed = week_by_day.join(value_by_week, on=\"week\").drop(columns=[\"week\"])\n",
    "aggregated_smoothed.index.name = \"time\"\n",
    "aggregated_smoothed"
   ]
  },
  {
   "cell_type": "code",
   "execution_count": 12,
   "metadata": {},
   "outputs": [],
   "source": [
    "# # Créer une série temporelle pour les tendances de jour et de nuit\n",
    "# day_trend_series = pd.Series(day_trend_line - day_trend_line[0], index=day_data[\"time\"].values)\n",
    "# night_trend_series = pd.Series(night_trend_line - night_trend_line[0], index=night_data[\"time\"].values)\n",
    "\n",
    "# # Réindexer les séries temporelles pour correspondre à l'index de aggregated_smoothed_detrended\n",
    "# day_trend_interpolated = day_trend_series.reindex(aggregated_smoothed_detrended.index, method=\"nearest\")\n",
    "# night_trend_interpolated = night_trend_series.reindex(aggregated_smoothed_detrended.index, method=\"nearest\")\n",
    "\n",
    "# # Ajouter les tendances interpolées au DataFrame aggregated_smoothed_detrended\n",
    "# aggregated_smoothed_detrended[\"day_trend\"] = day_trend_interpolated\n",
    "# aggregated_smoothed_detrended[\"night_trend\"] = night_trend_interpolated\n",
    "\n",
    "# aggregated_smoothed_detrended.index.name = \"time\"\n",
    "\n",
    "# # Afficher le DataFrame avec les tendances ajoutées\n",
    "# aggregated_smoothed_detrended.head()"
   ]
  },
  {
   "cell_type": "code",
   "execution_count": 13,
   "metadata": {},
   "outputs": [
    {
     "data": {
      "text/html": [
       "<div><svg style=\"position: absolute; width: 0; height: 0; overflow: hidden\">\n",
       "<defs>\n",
       "<symbol id=\"icon-database\" viewBox=\"0 0 32 32\">\n",
       "<path d=\"M16 0c-8.837 0-16 2.239-16 5v4c0 2.761 7.163 5 16 5s16-2.239 16-5v-4c0-2.761-7.163-5-16-5z\"></path>\n",
       "<path d=\"M16 17c-8.837 0-16-2.239-16-5v6c0 2.761 7.163 5 16 5s16-2.239 16-5v-6c0 2.761-7.163 5-16 5z\"></path>\n",
       "<path d=\"M16 26c-8.837 0-16-2.239-16-5v6c0 2.761 7.163 5 16 5s16-2.239 16-5v-6c0 2.761-7.163 5-16 5z\"></path>\n",
       "</symbol>\n",
       "<symbol id=\"icon-file-text2\" viewBox=\"0 0 32 32\">\n",
       "<path d=\"M28.681 7.159c-0.694-0.947-1.662-2.053-2.724-3.116s-2.169-2.030-3.116-2.724c-1.612-1.182-2.393-1.319-2.841-1.319h-15.5c-1.378 0-2.5 1.121-2.5 2.5v27c0 1.378 1.122 2.5 2.5 2.5h23c1.378 0 2.5-1.122 2.5-2.5v-19.5c0-0.448-0.137-1.23-1.319-2.841zM24.543 5.457c0.959 0.959 1.712 1.825 2.268 2.543h-4.811v-4.811c0.718 0.556 1.584 1.309 2.543 2.268zM28 29.5c0 0.271-0.229 0.5-0.5 0.5h-23c-0.271 0-0.5-0.229-0.5-0.5v-27c0-0.271 0.229-0.5 0.5-0.5 0 0 15.499-0 15.5 0v7c0 0.552 0.448 1 1 1h7v19.5z\"></path>\n",
       "<path d=\"M23 26h-14c-0.552 0-1-0.448-1-1s0.448-1 1-1h14c0.552 0 1 0.448 1 1s-0.448 1-1 1z\"></path>\n",
       "<path d=\"M23 22h-14c-0.552 0-1-0.448-1-1s0.448-1 1-1h14c0.552 0 1 0.448 1 1s-0.448 1-1 1z\"></path>\n",
       "<path d=\"M23 18h-14c-0.552 0-1-0.448-1-1s0.448-1 1-1h14c0.552 0 1 0.448 1 1s-0.448 1-1 1z\"></path>\n",
       "</symbol>\n",
       "</defs>\n",
       "</svg>\n",
       "<style>/* CSS stylesheet for displaying xarray objects in jupyterlab.\n",
       " *\n",
       " */\n",
       "\n",
       ":root {\n",
       "  --xr-font-color0: var(--jp-content-font-color0, rgba(0, 0, 0, 1));\n",
       "  --xr-font-color2: var(--jp-content-font-color2, rgba(0, 0, 0, 0.54));\n",
       "  --xr-font-color3: var(--jp-content-font-color3, rgba(0, 0, 0, 0.38));\n",
       "  --xr-border-color: var(--jp-border-color2, #e0e0e0);\n",
       "  --xr-disabled-color: var(--jp-layout-color3, #bdbdbd);\n",
       "  --xr-background-color: var(--jp-layout-color0, white);\n",
       "  --xr-background-color-row-even: var(--jp-layout-color1, white);\n",
       "  --xr-background-color-row-odd: var(--jp-layout-color2, #eeeeee);\n",
       "}\n",
       "\n",
       "html[theme=dark],\n",
       "html[data-theme=dark],\n",
       "body[data-theme=dark],\n",
       "body.vscode-dark {\n",
       "  --xr-font-color0: rgba(255, 255, 255, 1);\n",
       "  --xr-font-color2: rgba(255, 255, 255, 0.54);\n",
       "  --xr-font-color3: rgba(255, 255, 255, 0.38);\n",
       "  --xr-border-color: #1F1F1F;\n",
       "  --xr-disabled-color: #515151;\n",
       "  --xr-background-color: #111111;\n",
       "  --xr-background-color-row-even: #111111;\n",
       "  --xr-background-color-row-odd: #313131;\n",
       "}\n",
       "\n",
       ".xr-wrap {\n",
       "  display: block !important;\n",
       "  min-width: 300px;\n",
       "  max-width: 700px;\n",
       "}\n",
       "\n",
       ".xr-text-repr-fallback {\n",
       "  /* fallback to plain text repr when CSS is not injected (untrusted notebook) */\n",
       "  display: none;\n",
       "}\n",
       "\n",
       ".xr-header {\n",
       "  padding-top: 6px;\n",
       "  padding-bottom: 6px;\n",
       "  margin-bottom: 4px;\n",
       "  border-bottom: solid 1px var(--xr-border-color);\n",
       "}\n",
       "\n",
       ".xr-header > div,\n",
       ".xr-header > ul {\n",
       "  display: inline;\n",
       "  margin-top: 0;\n",
       "  margin-bottom: 0;\n",
       "}\n",
       "\n",
       ".xr-obj-type,\n",
       ".xr-array-name {\n",
       "  margin-left: 2px;\n",
       "  margin-right: 10px;\n",
       "}\n",
       "\n",
       ".xr-obj-type {\n",
       "  color: var(--xr-font-color2);\n",
       "}\n",
       "\n",
       ".xr-sections {\n",
       "  padding-left: 0 !important;\n",
       "  display: grid;\n",
       "  grid-template-columns: 150px auto auto 1fr 0 20px 0 20px;\n",
       "}\n",
       "\n",
       ".xr-section-item {\n",
       "  display: contents;\n",
       "}\n",
       "\n",
       ".xr-section-item input {\n",
       "  display: inline-block;\n",
       "  opacity: 0;\n",
       "}\n",
       "\n",
       ".xr-section-item input + label {\n",
       "  color: var(--xr-disabled-color);\n",
       "}\n",
       "\n",
       ".xr-section-item input:enabled + label {\n",
       "  cursor: pointer;\n",
       "  color: var(--xr-font-color2);\n",
       "}\n",
       "\n",
       ".xr-section-item input:focus + label {\n",
       "  border: 2px solid var(--xr-font-color0);\n",
       "}\n",
       "\n",
       ".xr-section-item input:enabled + label:hover {\n",
       "  color: var(--xr-font-color0);\n",
       "}\n",
       "\n",
       ".xr-section-summary {\n",
       "  grid-column: 1;\n",
       "  color: var(--xr-font-color2);\n",
       "  font-weight: 500;\n",
       "}\n",
       "\n",
       ".xr-section-summary > span {\n",
       "  display: inline-block;\n",
       "  padding-left: 0.5em;\n",
       "}\n",
       "\n",
       ".xr-section-summary-in:disabled + label {\n",
       "  color: var(--xr-font-color2);\n",
       "}\n",
       "\n",
       ".xr-section-summary-in + label:before {\n",
       "  display: inline-block;\n",
       "  content: '►';\n",
       "  font-size: 11px;\n",
       "  width: 15px;\n",
       "  text-align: center;\n",
       "}\n",
       "\n",
       ".xr-section-summary-in:disabled + label:before {\n",
       "  color: var(--xr-disabled-color);\n",
       "}\n",
       "\n",
       ".xr-section-summary-in:checked + label:before {\n",
       "  content: '▼';\n",
       "}\n",
       "\n",
       ".xr-section-summary-in:checked + label > span {\n",
       "  display: none;\n",
       "}\n",
       "\n",
       ".xr-section-summary,\n",
       ".xr-section-inline-details {\n",
       "  padding-top: 4px;\n",
       "  padding-bottom: 4px;\n",
       "}\n",
       "\n",
       ".xr-section-inline-details {\n",
       "  grid-column: 2 / -1;\n",
       "}\n",
       "\n",
       ".xr-section-details {\n",
       "  display: none;\n",
       "  grid-column: 1 / -1;\n",
       "  margin-bottom: 5px;\n",
       "}\n",
       "\n",
       ".xr-section-summary-in:checked ~ .xr-section-details {\n",
       "  display: contents;\n",
       "}\n",
       "\n",
       ".xr-array-wrap {\n",
       "  grid-column: 1 / -1;\n",
       "  display: grid;\n",
       "  grid-template-columns: 20px auto;\n",
       "}\n",
       "\n",
       ".xr-array-wrap > label {\n",
       "  grid-column: 1;\n",
       "  vertical-align: top;\n",
       "}\n",
       "\n",
       ".xr-preview {\n",
       "  color: var(--xr-font-color3);\n",
       "}\n",
       "\n",
       ".xr-array-preview,\n",
       ".xr-array-data {\n",
       "  padding: 0 5px !important;\n",
       "  grid-column: 2;\n",
       "}\n",
       "\n",
       ".xr-array-data,\n",
       ".xr-array-in:checked ~ .xr-array-preview {\n",
       "  display: none;\n",
       "}\n",
       "\n",
       ".xr-array-in:checked ~ .xr-array-data,\n",
       ".xr-array-preview {\n",
       "  display: inline-block;\n",
       "}\n",
       "\n",
       ".xr-dim-list {\n",
       "  display: inline-block !important;\n",
       "  list-style: none;\n",
       "  padding: 0 !important;\n",
       "  margin: 0;\n",
       "}\n",
       "\n",
       ".xr-dim-list li {\n",
       "  display: inline-block;\n",
       "  padding: 0;\n",
       "  margin: 0;\n",
       "}\n",
       "\n",
       ".xr-dim-list:before {\n",
       "  content: '(';\n",
       "}\n",
       "\n",
       ".xr-dim-list:after {\n",
       "  content: ')';\n",
       "}\n",
       "\n",
       ".xr-dim-list li:not(:last-child):after {\n",
       "  content: ',';\n",
       "  padding-right: 5px;\n",
       "}\n",
       "\n",
       ".xr-has-index {\n",
       "  font-weight: bold;\n",
       "}\n",
       "\n",
       ".xr-var-list,\n",
       ".xr-var-item {\n",
       "  display: contents;\n",
       "}\n",
       "\n",
       ".xr-var-item > div,\n",
       ".xr-var-item label,\n",
       ".xr-var-item > .xr-var-name span {\n",
       "  background-color: var(--xr-background-color-row-even);\n",
       "  margin-bottom: 0;\n",
       "}\n",
       "\n",
       ".xr-var-item > .xr-var-name:hover span {\n",
       "  padding-right: 5px;\n",
       "}\n",
       "\n",
       ".xr-var-list > li:nth-child(odd) > div,\n",
       ".xr-var-list > li:nth-child(odd) > label,\n",
       ".xr-var-list > li:nth-child(odd) > .xr-var-name span {\n",
       "  background-color: var(--xr-background-color-row-odd);\n",
       "}\n",
       "\n",
       ".xr-var-name {\n",
       "  grid-column: 1;\n",
       "}\n",
       "\n",
       ".xr-var-dims {\n",
       "  grid-column: 2;\n",
       "}\n",
       "\n",
       ".xr-var-dtype {\n",
       "  grid-column: 3;\n",
       "  text-align: right;\n",
       "  color: var(--xr-font-color2);\n",
       "}\n",
       "\n",
       ".xr-var-preview {\n",
       "  grid-column: 4;\n",
       "}\n",
       "\n",
       ".xr-index-preview {\n",
       "  grid-column: 2 / 5;\n",
       "  color: var(--xr-font-color2);\n",
       "}\n",
       "\n",
       ".xr-var-name,\n",
       ".xr-var-dims,\n",
       ".xr-var-dtype,\n",
       ".xr-preview,\n",
       ".xr-attrs dt {\n",
       "  white-space: nowrap;\n",
       "  overflow: hidden;\n",
       "  text-overflow: ellipsis;\n",
       "  padding-right: 10px;\n",
       "}\n",
       "\n",
       ".xr-var-name:hover,\n",
       ".xr-var-dims:hover,\n",
       ".xr-var-dtype:hover,\n",
       ".xr-attrs dt:hover {\n",
       "  overflow: visible;\n",
       "  width: auto;\n",
       "  z-index: 1;\n",
       "}\n",
       "\n",
       ".xr-var-attrs,\n",
       ".xr-var-data,\n",
       ".xr-index-data {\n",
       "  display: none;\n",
       "  background-color: var(--xr-background-color) !important;\n",
       "  padding-bottom: 5px !important;\n",
       "}\n",
       "\n",
       ".xr-var-attrs-in:checked ~ .xr-var-attrs,\n",
       ".xr-var-data-in:checked ~ .xr-var-data,\n",
       ".xr-index-data-in:checked ~ .xr-index-data {\n",
       "  display: block;\n",
       "}\n",
       "\n",
       ".xr-var-data > table {\n",
       "  float: right;\n",
       "}\n",
       "\n",
       ".xr-var-name span,\n",
       ".xr-var-data,\n",
       ".xr-index-name div,\n",
       ".xr-index-data,\n",
       ".xr-attrs {\n",
       "  padding-left: 25px !important;\n",
       "}\n",
       "\n",
       ".xr-attrs,\n",
       ".xr-var-attrs,\n",
       ".xr-var-data,\n",
       ".xr-index-data {\n",
       "  grid-column: 1 / -1;\n",
       "}\n",
       "\n",
       "dl.xr-attrs {\n",
       "  padding: 0;\n",
       "  margin: 0;\n",
       "  display: grid;\n",
       "  grid-template-columns: 125px auto;\n",
       "}\n",
       "\n",
       ".xr-attrs dt,\n",
       ".xr-attrs dd {\n",
       "  padding: 0;\n",
       "  margin: 0;\n",
       "  float: left;\n",
       "  padding-right: 10px;\n",
       "  width: auto;\n",
       "}\n",
       "\n",
       ".xr-attrs dt {\n",
       "  font-weight: normal;\n",
       "  grid-column: 1;\n",
       "}\n",
       "\n",
       ".xr-attrs dt:hover span {\n",
       "  display: inline-block;\n",
       "  background: var(--xr-background-color);\n",
       "  padding-right: 10px;\n",
       "}\n",
       "\n",
       ".xr-attrs dd {\n",
       "  grid-column: 2;\n",
       "  white-space: pre-wrap;\n",
       "  word-break: break-all;\n",
       "}\n",
       "\n",
       ".xr-icon-database,\n",
       ".xr-icon-file-text2,\n",
       ".xr-no-icon {\n",
       "  display: inline-block;\n",
       "  vertical-align: middle;\n",
       "  width: 1em;\n",
       "  height: 1.5em !important;\n",
       "  stroke-width: 0;\n",
       "  stroke: currentColor;\n",
       "  fill: currentColor;\n",
       "}\n",
       "</style><pre class='xr-text-repr-fallback'>&lt;xarray.Dataset&gt; Size: 29kB\n",
       "Dimensions:  (time: 1226)\n",
       "Coordinates:\n",
       "  * time     (time) datetime64[ns] 10kB 1997-02-23 1997-03-02 ... 2020-08-16\n",
       "Data variables:\n",
       "    day      (time) float64 10kB nan 3.12 nan nan nan ... 12.92 nan nan nan nan\n",
       "    night    (time) float64 10kB 5.078 6.621 nan nan nan ... nan nan nan nan nan</pre><div class='xr-wrap' style='display:none'><div class='xr-header'><div class='xr-obj-type'>xarray.Dataset</div></div><ul class='xr-sections'><li class='xr-section-item'><input id='section-2fc11d2d-f45b-4c55-bb5d-a364808b01cd' class='xr-section-summary-in' type='checkbox' disabled ><label for='section-2fc11d2d-f45b-4c55-bb5d-a364808b01cd' class='xr-section-summary'  title='Expand/collapse section'>Dimensions:</label><div class='xr-section-inline-details'><ul class='xr-dim-list'><li><span class='xr-has-index'>time</span>: 1226</li></ul></div><div class='xr-section-details'></div></li><li class='xr-section-item'><input id='section-febf5339-2c7f-4671-a552-14bccb7f5a80' class='xr-section-summary-in' type='checkbox'  checked><label for='section-febf5339-2c7f-4671-a552-14bccb7f5a80' class='xr-section-summary' >Coordinates: <span>(1)</span></label><div class='xr-section-inline-details'></div><div class='xr-section-details'><ul class='xr-var-list'><li class='xr-var-item'><div class='xr-var-name'><span class='xr-has-index'>time</span></div><div class='xr-var-dims'>(time)</div><div class='xr-var-dtype'>datetime64[ns]</div><div class='xr-var-preview xr-preview'>1997-02-23 ... 2020-08-16</div><input id='attrs-d4d40f3b-3702-4160-9e60-91e3905fffe9' class='xr-var-attrs-in' type='checkbox' disabled><label for='attrs-d4d40f3b-3702-4160-9e60-91e3905fffe9' title='Show/Hide attributes'><svg class='icon xr-icon-file-text2'><use xlink:href='#icon-file-text2'></use></svg></label><input id='data-9628db04-a3b4-48b1-9b64-2c01552e86e5' class='xr-var-data-in' type='checkbox'><label for='data-9628db04-a3b4-48b1-9b64-2c01552e86e5' title='Show/Hide data repr'><svg class='icon xr-icon-database'><use xlink:href='#icon-database'></use></svg></label><div class='xr-var-attrs'><dl class='xr-attrs'></dl></div><div class='xr-var-data'><pre>array([&#x27;1997-02-23T00:00:00.000000000&#x27;, &#x27;1997-03-02T00:00:00.000000000&#x27;,\n",
       "       &#x27;1997-03-09T00:00:00.000000000&#x27;, ..., &#x27;2020-08-02T00:00:00.000000000&#x27;,\n",
       "       &#x27;2020-08-09T00:00:00.000000000&#x27;, &#x27;2020-08-16T00:00:00.000000000&#x27;],\n",
       "      dtype=&#x27;datetime64[ns]&#x27;)</pre></div></li></ul></div></li><li class='xr-section-item'><input id='section-1a8c996f-8ae1-4a35-bbbf-b2af3e6f5e06' class='xr-section-summary-in' type='checkbox'  checked><label for='section-1a8c996f-8ae1-4a35-bbbf-b2af3e6f5e06' class='xr-section-summary' >Data variables: <span>(2)</span></label><div class='xr-section-inline-details'></div><div class='xr-section-details'><ul class='xr-var-list'><li class='xr-var-item'><div class='xr-var-name'><span>day</span></div><div class='xr-var-dims'>(time)</div><div class='xr-var-dtype'>float64</div><div class='xr-var-preview xr-preview'>nan 3.12 nan nan ... nan nan nan</div><input id='attrs-c6a7d281-8a84-417c-bde8-f0a13e539fdc' class='xr-var-attrs-in' type='checkbox' disabled><label for='attrs-c6a7d281-8a84-417c-bde8-f0a13e539fdc' title='Show/Hide attributes'><svg class='icon xr-icon-file-text2'><use xlink:href='#icon-file-text2'></use></svg></label><input id='data-6a9fb5a2-0cf9-45af-a6af-917440833318' class='xr-var-data-in' type='checkbox'><label for='data-6a9fb5a2-0cf9-45af-a6af-917440833318' title='Show/Hide data repr'><svg class='icon xr-icon-database'><use xlink:href='#icon-database'></use></svg></label><div class='xr-var-attrs'><dl class='xr-attrs'></dl></div><div class='xr-var-data'><pre>array([       nan, 3.11985917,        nan, ...,        nan,        nan,\n",
       "              nan])</pre></div></li><li class='xr-var-item'><div class='xr-var-name'><span>night</span></div><div class='xr-var-dims'>(time)</div><div class='xr-var-dtype'>float64</div><div class='xr-var-preview xr-preview'>5.078 6.621 nan nan ... nan nan nan</div><input id='attrs-25201233-4877-4b82-87b9-4c3582f03b86' class='xr-var-attrs-in' type='checkbox' disabled><label for='attrs-25201233-4877-4b82-87b9-4c3582f03b86' title='Show/Hide attributes'><svg class='icon xr-icon-file-text2'><use xlink:href='#icon-file-text2'></use></svg></label><input id='data-d4664ed3-2ec8-4038-aebb-9c18e1258606' class='xr-var-data-in' type='checkbox'><label for='data-d4664ed3-2ec8-4038-aebb-9c18e1258606' title='Show/Hide data repr'><svg class='icon xr-icon-database'><use xlink:href='#icon-database'></use></svg></label><div class='xr-var-attrs'><dl class='xr-attrs'></dl></div><div class='xr-var-data'><pre>array([5.07847 , 6.620502,      nan, ...,      nan,      nan,      nan])</pre></div></li></ul></div></li><li class='xr-section-item'><input id='section-d5bee640-4abb-4e9d-8c23-2ff8ceefd966' class='xr-section-summary-in' type='checkbox'  ><label for='section-d5bee640-4abb-4e9d-8c23-2ff8ceefd966' class='xr-section-summary' >Indexes: <span>(1)</span></label><div class='xr-section-inline-details'></div><div class='xr-section-details'><ul class='xr-var-list'><li class='xr-var-item'><div class='xr-index-name'><div>time</div></div><div class='xr-index-preview'>PandasIndex</div><div></div><input id='index-613a987e-dab0-4d85-8bf3-922507e842d4' class='xr-index-data-in' type='checkbox'/><label for='index-613a987e-dab0-4d85-8bf3-922507e842d4' title='Show/Hide index repr'><svg class='icon xr-icon-database'><use xlink:href='#icon-database'></use></svg></label><div class='xr-index-data'><pre>PandasIndex(DatetimeIndex([&#x27;1997-02-23&#x27;, &#x27;1997-03-02&#x27;, &#x27;1997-03-09&#x27;, &#x27;1997-03-16&#x27;,\n",
       "               &#x27;1997-03-23&#x27;, &#x27;1997-03-30&#x27;, &#x27;1997-04-06&#x27;, &#x27;1997-04-13&#x27;,\n",
       "               &#x27;1997-04-20&#x27;, &#x27;1997-04-27&#x27;,\n",
       "               ...\n",
       "               &#x27;2020-06-14&#x27;, &#x27;2020-06-21&#x27;, &#x27;2020-06-28&#x27;, &#x27;2020-07-05&#x27;,\n",
       "               &#x27;2020-07-12&#x27;, &#x27;2020-07-19&#x27;, &#x27;2020-07-26&#x27;, &#x27;2020-08-02&#x27;,\n",
       "               &#x27;2020-08-09&#x27;, &#x27;2020-08-16&#x27;],\n",
       "              dtype=&#x27;datetime64[ns]&#x27;, name=&#x27;time&#x27;, length=1226, freq=&#x27;W-SUN&#x27;))</pre></div></li></ul></div></li><li class='xr-section-item'><input id='section-a3972158-0bdb-4b16-bad7-721cd6d684ef' class='xr-section-summary-in' type='checkbox' disabled ><label for='section-a3972158-0bdb-4b16-bad7-721cd6d684ef' class='xr-section-summary'  title='Expand/collapse section'>Attributes: <span>(0)</span></label><div class='xr-section-inline-details'></div><div class='xr-section-details'><dl class='xr-attrs'></dl></div></li></ul></div></div>"
      ],
      "text/plain": [
       "<xarray.Dataset> Size: 29kB\n",
       "Dimensions:  (time: 1226)\n",
       "Coordinates:\n",
       "  * time     (time) datetime64[ns] 10kB 1997-02-23 1997-03-02 ... 2020-08-16\n",
       "Data variables:\n",
       "    day      (time) float64 10kB nan 3.12 nan nan nan ... 12.92 nan nan nan nan\n",
       "    night    (time) float64 10kB 5.078 6.621 nan nan nan ... nan nan nan nan nan"
      ]
     },
     "execution_count": 13,
     "metadata": {},
     "output_type": "execute_result"
    }
   ],
   "source": [
    "climato_observations = xr.Dataset.from_dataframe(aggregated_smoothed)\n",
    "climato_observations"
   ]
  },
  {
   "cell_type": "markdown",
   "metadata": {},
   "source": [
    "## Plot final results\n"
   ]
  },
  {
   "cell_type": "code",
   "execution_count": 14,
   "metadata": {},
   "outputs": [
    {
     "data": {
      "application/vnd.plotly.v1+json": {
       "config": {
        "plotlyServerURL": "https://plot.ly"
       },
       "data": [
        {
         "mode": "lines",
         "name": "Day Data with Trend",
         "type": "scatter",
         "x": [
          "1997-03-02T00:00:00",
          "1997-06-08T00:00:00",
          "1997-06-15T00:00:00",
          "1997-06-22T00:00:00",
          "1997-07-06T00:00:00",
          "1997-07-20T00:00:00",
          "1997-08-24T00:00:00",
          "1997-08-31T00:00:00",
          "1997-09-07T00:00:00",
          "1997-09-28T00:00:00",
          "1998-02-08T00:00:00",
          "1998-02-15T00:00:00",
          "1998-03-01T00:00:00",
          "1998-06-07T00:00:00",
          "1998-06-14T00:00:00",
          "1998-06-21T00:00:00",
          "1998-07-05T00:00:00",
          "1998-07-19T00:00:00",
          "1998-08-23T00:00:00",
          "1998-08-30T00:00:00",
          "1998-09-06T00:00:00",
          "1998-09-27T00:00:00",
          "1999-02-14T00:00:00",
          "1999-02-21T00:00:00",
          "1999-03-07T00:00:00",
          "1999-06-13T00:00:00",
          "1999-06-20T00:00:00",
          "1999-06-27T00:00:00",
          "1999-07-11T00:00:00",
          "1999-07-25T00:00:00",
          "1999-08-29T00:00:00",
          "1999-09-05T00:00:00",
          "1999-09-12T00:00:00",
          "1999-10-03T00:00:00",
          "2000-02-13T00:00:00",
          "2000-02-20T00:00:00",
          "2000-03-05T00:00:00",
          "2000-06-11T00:00:00",
          "2000-06-18T00:00:00",
          "2000-06-25T00:00:00",
          "2000-07-09T00:00:00",
          "2000-07-23T00:00:00",
          "2000-08-27T00:00:00",
          "2000-09-03T00:00:00",
          "2000-09-10T00:00:00",
          "2000-10-01T00:00:00",
          "2001-02-11T00:00:00",
          "2001-02-18T00:00:00",
          "2001-03-04T00:00:00",
          "2001-06-10T00:00:00",
          "2001-06-17T00:00:00",
          "2001-06-24T00:00:00",
          "2001-07-08T00:00:00",
          "2001-07-22T00:00:00",
          "2001-08-26T00:00:00",
          "2001-09-02T00:00:00",
          "2001-09-09T00:00:00",
          "2001-09-30T00:00:00",
          "2002-02-10T00:00:00",
          "2002-02-17T00:00:00",
          "2002-03-03T00:00:00",
          "2002-06-09T00:00:00",
          "2002-06-16T00:00:00",
          "2002-06-23T00:00:00",
          "2002-07-07T00:00:00",
          "2002-07-21T00:00:00",
          "2002-08-25T00:00:00",
          "2002-09-01T00:00:00",
          "2002-09-08T00:00:00",
          "2002-09-29T00:00:00",
          "2003-02-09T00:00:00",
          "2003-02-16T00:00:00",
          "2003-03-02T00:00:00",
          "2003-06-08T00:00:00",
          "2003-06-15T00:00:00",
          "2003-06-22T00:00:00",
          "2003-07-06T00:00:00",
          "2003-07-20T00:00:00",
          "2003-08-24T00:00:00",
          "2003-08-31T00:00:00",
          "2003-09-07T00:00:00",
          "2003-09-28T00:00:00",
          "2004-02-08T00:00:00",
          "2004-02-15T00:00:00",
          "2004-02-29T00:00:00",
          "2004-06-06T00:00:00",
          "2004-06-13T00:00:00",
          "2004-06-20T00:00:00",
          "2004-07-04T00:00:00",
          "2004-07-18T00:00:00",
          "2004-08-22T00:00:00",
          "2004-08-29T00:00:00",
          "2004-09-05T00:00:00",
          "2004-09-26T00:00:00",
          "2005-02-13T00:00:00",
          "2005-02-20T00:00:00",
          "2005-03-06T00:00:00",
          "2005-06-12T00:00:00",
          "2005-06-19T00:00:00",
          "2005-06-26T00:00:00",
          "2005-07-10T00:00:00",
          "2005-07-24T00:00:00",
          "2005-08-28T00:00:00",
          "2005-09-04T00:00:00",
          "2005-09-11T00:00:00",
          "2005-10-02T00:00:00",
          "2006-02-12T00:00:00",
          "2006-02-19T00:00:00",
          "2006-03-05T00:00:00",
          "2006-06-11T00:00:00",
          "2006-06-18T00:00:00",
          "2006-06-25T00:00:00",
          "2006-07-09T00:00:00",
          "2006-07-23T00:00:00",
          "2006-08-27T00:00:00",
          "2006-09-03T00:00:00",
          "2006-09-10T00:00:00",
          "2006-10-01T00:00:00",
          "2007-02-11T00:00:00",
          "2007-02-18T00:00:00",
          "2007-03-04T00:00:00",
          "2007-06-10T00:00:00",
          "2007-06-17T00:00:00",
          "2007-06-24T00:00:00",
          "2007-07-08T00:00:00",
          "2007-07-22T00:00:00",
          "2007-08-26T00:00:00",
          "2007-09-02T00:00:00",
          "2007-09-09T00:00:00",
          "2007-09-30T00:00:00",
          "2008-02-10T00:00:00",
          "2008-02-17T00:00:00",
          "2008-03-02T00:00:00",
          "2008-06-08T00:00:00",
          "2008-06-15T00:00:00",
          "2008-06-22T00:00:00",
          "2008-07-06T00:00:00",
          "2008-07-20T00:00:00",
          "2008-08-24T00:00:00",
          "2008-08-31T00:00:00",
          "2008-09-07T00:00:00",
          "2008-09-28T00:00:00",
          "2009-02-08T00:00:00",
          "2009-02-15T00:00:00",
          "2009-03-01T00:00:00",
          "2009-06-07T00:00:00",
          "2009-06-14T00:00:00",
          "2009-06-21T00:00:00",
          "2009-07-05T00:00:00",
          "2009-07-19T00:00:00",
          "2009-08-23T00:00:00",
          "2009-08-30T00:00:00",
          "2009-09-06T00:00:00",
          "2009-09-27T00:00:00",
          "2010-02-14T00:00:00",
          "2010-02-21T00:00:00",
          "2010-03-07T00:00:00",
          "2010-06-13T00:00:00",
          "2010-06-20T00:00:00",
          "2010-06-27T00:00:00",
          "2010-07-11T00:00:00",
          "2010-07-25T00:00:00",
          "2010-08-29T00:00:00",
          "2010-09-05T00:00:00",
          "2010-09-12T00:00:00",
          "2010-10-03T00:00:00",
          "2011-02-13T00:00:00",
          "2011-02-20T00:00:00",
          "2011-03-06T00:00:00",
          "2011-06-12T00:00:00",
          "2011-06-19T00:00:00",
          "2011-06-26T00:00:00",
          "2011-07-10T00:00:00",
          "2011-07-24T00:00:00",
          "2011-08-28T00:00:00",
          "2011-09-04T00:00:00",
          "2011-09-11T00:00:00",
          "2011-10-02T00:00:00",
          "2012-02-12T00:00:00",
          "2012-02-19T00:00:00",
          "2012-03-04T00:00:00",
          "2012-06-10T00:00:00",
          "2012-06-17T00:00:00",
          "2012-06-24T00:00:00",
          "2012-07-08T00:00:00",
          "2012-07-22T00:00:00",
          "2012-08-26T00:00:00",
          "2012-09-02T00:00:00",
          "2012-09-09T00:00:00",
          "2012-09-30T00:00:00",
          "2013-02-10T00:00:00",
          "2013-02-17T00:00:00",
          "2013-03-03T00:00:00",
          "2013-06-09T00:00:00",
          "2013-06-16T00:00:00",
          "2013-06-23T00:00:00",
          "2013-07-07T00:00:00",
          "2013-07-21T00:00:00",
          "2013-08-25T00:00:00",
          "2013-09-01T00:00:00",
          "2013-09-08T00:00:00",
          "2013-09-29T00:00:00",
          "2014-02-09T00:00:00",
          "2014-02-16T00:00:00",
          "2014-03-02T00:00:00",
          "2014-06-08T00:00:00",
          "2014-06-15T00:00:00",
          "2014-06-22T00:00:00",
          "2014-07-06T00:00:00",
          "2014-07-20T00:00:00",
          "2014-08-24T00:00:00",
          "2014-08-31T00:00:00",
          "2014-09-07T00:00:00",
          "2014-09-28T00:00:00",
          "2015-02-08T00:00:00",
          "2015-02-15T00:00:00",
          "2015-03-01T00:00:00",
          "2015-06-07T00:00:00",
          "2015-06-14T00:00:00",
          "2015-06-21T00:00:00",
          "2015-07-05T00:00:00",
          "2015-07-19T00:00:00",
          "2015-08-23T00:00:00",
          "2015-08-30T00:00:00",
          "2015-09-06T00:00:00",
          "2015-09-27T00:00:00",
          "2016-02-14T00:00:00",
          "2016-02-21T00:00:00",
          "2016-03-06T00:00:00",
          "2016-06-12T00:00:00",
          "2016-06-19T00:00:00",
          "2016-06-26T00:00:00",
          "2016-07-10T00:00:00",
          "2016-07-24T00:00:00",
          "2016-08-28T00:00:00",
          "2016-09-04T00:00:00",
          "2016-09-11T00:00:00",
          "2016-10-02T00:00:00",
          "2017-02-12T00:00:00",
          "2017-02-19T00:00:00",
          "2017-03-05T00:00:00",
          "2017-06-11T00:00:00",
          "2017-06-18T00:00:00",
          "2017-06-25T00:00:00",
          "2017-07-09T00:00:00",
          "2017-07-23T00:00:00",
          "2017-08-27T00:00:00",
          "2017-09-03T00:00:00",
          "2017-09-10T00:00:00",
          "2017-10-01T00:00:00",
          "2018-02-11T00:00:00",
          "2018-02-18T00:00:00",
          "2018-03-04T00:00:00",
          "2018-06-10T00:00:00",
          "2018-06-17T00:00:00",
          "2018-06-24T00:00:00",
          "2018-07-08T00:00:00",
          "2018-07-22T00:00:00",
          "2018-08-26T00:00:00",
          "2018-09-02T00:00:00",
          "2018-09-09T00:00:00",
          "2018-09-30T00:00:00",
          "2019-02-10T00:00:00",
          "2019-02-17T00:00:00",
          "2019-03-03T00:00:00",
          "2019-06-09T00:00:00",
          "2019-06-16T00:00:00",
          "2019-06-23T00:00:00",
          "2019-07-07T00:00:00",
          "2019-07-21T00:00:00",
          "2019-08-25T00:00:00",
          "2019-09-01T00:00:00",
          "2019-09-08T00:00:00",
          "2019-09-29T00:00:00",
          "2020-02-09T00:00:00",
          "2020-02-16T00:00:00",
          "2020-03-01T00:00:00",
          "2020-06-07T00:00:00",
          "2020-06-14T00:00:00",
          "2020-06-21T00:00:00",
          "2020-07-05T00:00:00",
          "2020-07-19T00:00:00"
         ],
         "xaxis": "x",
         "y": [
          3.1198591717171715,
          22.894369333333334,
          13.339397714285715,
          14.387527636363636,
          8.370488,
          12.918244000000001,
          6.626894285714286,
          8.711393999999999,
          4.628308240000001,
          3.318884,
          1.7638480000000003,
          4.366392888888889,
          3.1198591717171715,
          22.894369333333334,
          13.339397714285715,
          14.387527636363636,
          8.370488,
          12.918244000000001,
          6.626894285714286,
          8.711393999999999,
          4.628308240000001,
          3.318884,
          1.7638480000000003,
          4.366392888888889,
          3.1198591717171715,
          22.894369333333334,
          13.339397714285715,
          14.387527636363636,
          8.370488,
          12.918244000000001,
          6.626894285714286,
          8.711393999999999,
          4.628308240000001,
          3.318884,
          1.7638480000000003,
          4.366392888888889,
          3.1198591717171715,
          22.894369333333334,
          13.339397714285715,
          14.387527636363636,
          8.370488,
          12.918244000000001,
          6.626894285714286,
          8.711393999999999,
          4.628308240000001,
          3.318884,
          1.7638480000000003,
          4.366392888888889,
          3.1198591717171715,
          22.894369333333334,
          13.339397714285715,
          14.387527636363636,
          8.370488,
          12.918244000000001,
          6.626894285714286,
          8.711393999999999,
          4.628308240000001,
          3.318884,
          1.7638480000000003,
          4.366392888888889,
          3.1198591717171715,
          22.894369333333334,
          13.339397714285715,
          14.387527636363636,
          8.370488,
          12.918244000000001,
          6.626894285714286,
          8.711393999999999,
          4.628308240000001,
          3.318884,
          1.7638480000000003,
          4.366392888888889,
          3.1198591717171715,
          22.894369333333334,
          13.339397714285715,
          14.387527636363636,
          8.370488,
          12.918244000000001,
          6.626894285714286,
          8.711393999999999,
          4.628308240000001,
          3.318884,
          1.7638480000000003,
          4.366392888888889,
          3.1198591717171715,
          22.894369333333334,
          13.339397714285715,
          14.387527636363636,
          8.370488,
          12.918244000000001,
          6.626894285714286,
          8.711393999999999,
          4.628308240000001,
          3.318884,
          1.7638480000000003,
          4.366392888888889,
          3.1198591717171715,
          22.894369333333334,
          13.339397714285715,
          14.387527636363636,
          8.370488,
          12.918244000000001,
          6.626894285714286,
          8.711393999999999,
          4.628308240000001,
          3.318884,
          1.7638480000000003,
          4.366392888888889,
          3.1198591717171715,
          22.894369333333334,
          13.339397714285715,
          14.387527636363636,
          8.370488,
          12.918244000000001,
          6.626894285714286,
          8.711393999999999,
          4.628308240000001,
          3.318884,
          1.7638480000000003,
          4.366392888888889,
          3.1198591717171715,
          22.894369333333334,
          13.339397714285715,
          14.387527636363636,
          8.370488,
          12.918244000000001,
          6.626894285714286,
          8.711393999999999,
          4.628308240000001,
          3.318884,
          1.7638480000000003,
          4.366392888888889,
          3.1198591717171715,
          22.894369333333334,
          13.339397714285715,
          14.387527636363636,
          8.370488,
          12.918244000000001,
          6.626894285714286,
          8.711393999999999,
          4.628308240000001,
          3.318884,
          1.7638480000000003,
          4.366392888888889,
          3.1198591717171715,
          22.894369333333334,
          13.339397714285715,
          14.387527636363636,
          8.370488,
          12.918244000000001,
          6.626894285714286,
          8.711393999999999,
          4.628308240000001,
          3.318884,
          1.7638480000000003,
          4.366392888888889,
          3.1198591717171715,
          22.894369333333334,
          13.339397714285715,
          14.387527636363636,
          8.370488,
          12.918244000000001,
          6.626894285714286,
          8.711393999999999,
          4.628308240000001,
          3.318884,
          1.7638480000000003,
          4.366392888888889,
          3.1198591717171715,
          22.894369333333334,
          13.339397714285715,
          14.387527636363636,
          8.370488,
          12.918244000000001,
          6.626894285714286,
          8.711393999999999,
          4.628308240000001,
          3.318884,
          1.7638480000000003,
          4.366392888888889,
          3.1198591717171715,
          22.894369333333334,
          13.339397714285715,
          14.387527636363636,
          8.370488,
          12.918244000000001,
          6.626894285714286,
          8.711393999999999,
          4.628308240000001,
          3.318884,
          1.7638480000000003,
          4.366392888888889,
          3.1198591717171715,
          22.894369333333334,
          13.339397714285715,
          14.387527636363636,
          8.370488,
          12.918244000000001,
          6.626894285714286,
          8.711393999999999,
          4.628308240000001,
          3.318884,
          1.7638480000000003,
          4.366392888888889,
          3.1198591717171715,
          22.894369333333334,
          13.339397714285715,
          14.387527636363636,
          8.370488,
          12.918244000000001,
          6.626894285714286,
          8.711393999999999,
          4.628308240000001,
          3.318884,
          1.7638480000000003,
          4.366392888888889,
          3.1198591717171715,
          22.894369333333334,
          13.339397714285715,
          14.387527636363636,
          8.370488,
          12.918244000000001,
          6.626894285714286,
          8.711393999999999,
          4.628308240000001,
          3.318884,
          1.7638480000000003,
          4.366392888888889,
          3.1198591717171715,
          22.894369333333334,
          13.339397714285715,
          14.387527636363636,
          8.370488,
          12.918244000000001,
          6.626894285714286,
          8.711393999999999,
          4.628308240000001,
          3.318884,
          1.7638480000000003,
          4.366392888888889,
          3.1198591717171715,
          22.894369333333334,
          13.339397714285715,
          14.387527636363636,
          8.370488,
          12.918244000000001,
          6.626894285714286,
          8.711393999999999,
          4.628308240000001,
          3.318884,
          1.7638480000000003,
          4.366392888888889,
          3.1198591717171715,
          22.894369333333334,
          13.339397714285715,
          14.387527636363636,
          8.370488,
          12.918244000000001,
          6.626894285714286,
          8.711393999999999,
          4.628308240000001,
          3.318884,
          1.7638480000000003,
          4.366392888888889,
          3.1198591717171715,
          22.894369333333334,
          13.339397714285715,
          14.387527636363636,
          8.370488,
          12.918244000000001,
          6.626894285714286,
          8.711393999999999,
          4.628308240000001,
          3.318884,
          1.7638480000000003,
          4.366392888888889,
          3.1198591717171715,
          22.894369333333334,
          13.339397714285715,
          14.387527636363636,
          8.370488,
          12.918244000000001
         ],
         "yaxis": "y"
        },
        {
         "mode": "lines",
         "name": "Night Data with Trend",
         "type": "scatter",
         "x": [
          "1997-02-23T00:00:00",
          "1997-03-02T00:00:00",
          "1997-06-01T00:00:00",
          "1997-06-08T00:00:00",
          "1997-06-15T00:00:00",
          "1997-06-22T00:00:00",
          "1997-08-24T00:00:00",
          "1997-08-31T00:00:00",
          "1997-09-07T00:00:00",
          "1997-09-14T00:00:00",
          "1997-09-21T00:00:00",
          "1998-02-08T00:00:00",
          "1998-02-15T00:00:00",
          "1998-02-22T00:00:00",
          "1998-03-01T00:00:00",
          "1998-05-31T00:00:00",
          "1998-06-07T00:00:00",
          "1998-06-14T00:00:00",
          "1998-06-21T00:00:00",
          "1998-08-23T00:00:00",
          "1998-08-30T00:00:00",
          "1998-09-06T00:00:00",
          "1998-09-13T00:00:00",
          "1998-09-20T00:00:00",
          "1999-02-14T00:00:00",
          "1999-02-21T00:00:00",
          "1999-02-28T00:00:00",
          "1999-03-07T00:00:00",
          "1999-06-06T00:00:00",
          "1999-06-13T00:00:00",
          "1999-06-20T00:00:00",
          "1999-06-27T00:00:00",
          "1999-08-29T00:00:00",
          "1999-09-05T00:00:00",
          "1999-09-12T00:00:00",
          "1999-09-19T00:00:00",
          "1999-09-26T00:00:00",
          "2000-02-13T00:00:00",
          "2000-02-20T00:00:00",
          "2000-02-27T00:00:00",
          "2000-03-05T00:00:00",
          "2000-06-04T00:00:00",
          "2000-06-11T00:00:00",
          "2000-06-18T00:00:00",
          "2000-06-25T00:00:00",
          "2000-08-27T00:00:00",
          "2000-09-03T00:00:00",
          "2000-09-10T00:00:00",
          "2000-09-17T00:00:00",
          "2000-09-24T00:00:00",
          "2001-02-11T00:00:00",
          "2001-02-18T00:00:00",
          "2001-02-25T00:00:00",
          "2001-03-04T00:00:00",
          "2001-06-03T00:00:00",
          "2001-06-10T00:00:00",
          "2001-06-17T00:00:00",
          "2001-06-24T00:00:00",
          "2001-08-26T00:00:00",
          "2001-09-02T00:00:00",
          "2001-09-09T00:00:00",
          "2001-09-16T00:00:00",
          "2001-09-23T00:00:00",
          "2002-02-10T00:00:00",
          "2002-02-17T00:00:00",
          "2002-02-24T00:00:00",
          "2002-03-03T00:00:00",
          "2002-06-02T00:00:00",
          "2002-06-09T00:00:00",
          "2002-06-16T00:00:00",
          "2002-06-23T00:00:00",
          "2002-08-25T00:00:00",
          "2002-09-01T00:00:00",
          "2002-09-08T00:00:00",
          "2002-09-15T00:00:00",
          "2002-09-22T00:00:00",
          "2003-02-09T00:00:00",
          "2003-02-16T00:00:00",
          "2003-02-23T00:00:00",
          "2003-03-02T00:00:00",
          "2003-06-01T00:00:00",
          "2003-06-08T00:00:00",
          "2003-06-15T00:00:00",
          "2003-06-22T00:00:00",
          "2003-08-24T00:00:00",
          "2003-08-31T00:00:00",
          "2003-09-07T00:00:00",
          "2003-09-14T00:00:00",
          "2003-09-21T00:00:00",
          "2004-02-08T00:00:00",
          "2004-02-15T00:00:00",
          "2004-02-22T00:00:00",
          "2004-02-29T00:00:00",
          "2004-05-30T00:00:00",
          "2004-06-06T00:00:00",
          "2004-06-13T00:00:00",
          "2004-06-20T00:00:00",
          "2004-08-22T00:00:00",
          "2004-08-29T00:00:00",
          "2004-09-05T00:00:00",
          "2004-09-12T00:00:00",
          "2004-09-19T00:00:00",
          "2005-02-13T00:00:00",
          "2005-02-20T00:00:00",
          "2005-02-27T00:00:00",
          "2005-03-06T00:00:00",
          "2005-06-05T00:00:00",
          "2005-06-12T00:00:00",
          "2005-06-19T00:00:00",
          "2005-06-26T00:00:00",
          "2005-08-28T00:00:00",
          "2005-09-04T00:00:00",
          "2005-09-11T00:00:00",
          "2005-09-18T00:00:00",
          "2005-09-25T00:00:00",
          "2006-02-12T00:00:00",
          "2006-02-19T00:00:00",
          "2006-02-26T00:00:00",
          "2006-03-05T00:00:00",
          "2006-06-04T00:00:00",
          "2006-06-11T00:00:00",
          "2006-06-18T00:00:00",
          "2006-06-25T00:00:00",
          "2006-08-27T00:00:00",
          "2006-09-03T00:00:00",
          "2006-09-10T00:00:00",
          "2006-09-17T00:00:00",
          "2006-09-24T00:00:00",
          "2007-02-11T00:00:00",
          "2007-02-18T00:00:00",
          "2007-02-25T00:00:00",
          "2007-03-04T00:00:00",
          "2007-06-03T00:00:00",
          "2007-06-10T00:00:00",
          "2007-06-17T00:00:00",
          "2007-06-24T00:00:00",
          "2007-08-26T00:00:00",
          "2007-09-02T00:00:00",
          "2007-09-09T00:00:00",
          "2007-09-16T00:00:00",
          "2007-09-23T00:00:00",
          "2008-02-10T00:00:00",
          "2008-02-17T00:00:00",
          "2008-02-24T00:00:00",
          "2008-03-02T00:00:00",
          "2008-06-01T00:00:00",
          "2008-06-08T00:00:00",
          "2008-06-15T00:00:00",
          "2008-06-22T00:00:00",
          "2008-08-24T00:00:00",
          "2008-08-31T00:00:00",
          "2008-09-07T00:00:00",
          "2008-09-14T00:00:00",
          "2008-09-21T00:00:00",
          "2009-02-08T00:00:00",
          "2009-02-15T00:00:00",
          "2009-02-22T00:00:00",
          "2009-03-01T00:00:00",
          "2009-05-31T00:00:00",
          "2009-06-07T00:00:00",
          "2009-06-14T00:00:00",
          "2009-06-21T00:00:00",
          "2009-08-23T00:00:00",
          "2009-08-30T00:00:00",
          "2009-09-06T00:00:00",
          "2009-09-13T00:00:00",
          "2009-09-20T00:00:00",
          "2010-02-14T00:00:00",
          "2010-02-21T00:00:00",
          "2010-02-28T00:00:00",
          "2010-03-07T00:00:00",
          "2010-06-06T00:00:00",
          "2010-06-13T00:00:00",
          "2010-06-20T00:00:00",
          "2010-06-27T00:00:00",
          "2010-08-29T00:00:00",
          "2010-09-05T00:00:00",
          "2010-09-12T00:00:00",
          "2010-09-19T00:00:00",
          "2010-09-26T00:00:00",
          "2011-02-13T00:00:00",
          "2011-02-20T00:00:00",
          "2011-02-27T00:00:00",
          "2011-03-06T00:00:00",
          "2011-06-05T00:00:00",
          "2011-06-12T00:00:00",
          "2011-06-19T00:00:00",
          "2011-06-26T00:00:00",
          "2011-08-28T00:00:00",
          "2011-09-04T00:00:00",
          "2011-09-11T00:00:00",
          "2011-09-18T00:00:00",
          "2011-09-25T00:00:00",
          "2012-02-12T00:00:00",
          "2012-02-19T00:00:00",
          "2012-02-26T00:00:00",
          "2012-03-04T00:00:00",
          "2012-06-03T00:00:00",
          "2012-06-10T00:00:00",
          "2012-06-17T00:00:00",
          "2012-06-24T00:00:00",
          "2012-08-26T00:00:00",
          "2012-09-02T00:00:00",
          "2012-09-09T00:00:00",
          "2012-09-16T00:00:00",
          "2012-09-23T00:00:00",
          "2013-02-10T00:00:00",
          "2013-02-17T00:00:00",
          "2013-02-24T00:00:00",
          "2013-03-03T00:00:00",
          "2013-06-02T00:00:00",
          "2013-06-09T00:00:00",
          "2013-06-16T00:00:00",
          "2013-06-23T00:00:00",
          "2013-08-25T00:00:00",
          "2013-09-01T00:00:00",
          "2013-09-08T00:00:00",
          "2013-09-15T00:00:00",
          "2013-09-22T00:00:00",
          "2014-02-09T00:00:00",
          "2014-02-16T00:00:00",
          "2014-02-23T00:00:00",
          "2014-03-02T00:00:00",
          "2014-06-01T00:00:00",
          "2014-06-08T00:00:00",
          "2014-06-15T00:00:00",
          "2014-06-22T00:00:00",
          "2014-08-24T00:00:00",
          "2014-08-31T00:00:00",
          "2014-09-07T00:00:00",
          "2014-09-14T00:00:00",
          "2014-09-21T00:00:00",
          "2015-02-08T00:00:00",
          "2015-02-15T00:00:00",
          "2015-02-22T00:00:00",
          "2015-03-01T00:00:00",
          "2015-05-31T00:00:00",
          "2015-06-07T00:00:00",
          "2015-06-14T00:00:00",
          "2015-06-21T00:00:00",
          "2015-08-23T00:00:00",
          "2015-08-30T00:00:00",
          "2015-09-06T00:00:00",
          "2015-09-13T00:00:00",
          "2015-09-20T00:00:00",
          "2016-02-14T00:00:00",
          "2016-02-21T00:00:00",
          "2016-02-28T00:00:00",
          "2016-03-06T00:00:00",
          "2016-06-05T00:00:00",
          "2016-06-12T00:00:00",
          "2016-06-19T00:00:00",
          "2016-06-26T00:00:00",
          "2016-08-28T00:00:00",
          "2016-09-04T00:00:00",
          "2016-09-11T00:00:00",
          "2016-09-18T00:00:00",
          "2016-09-25T00:00:00",
          "2017-02-12T00:00:00",
          "2017-02-19T00:00:00",
          "2017-02-26T00:00:00",
          "2017-03-05T00:00:00",
          "2017-06-04T00:00:00",
          "2017-06-11T00:00:00",
          "2017-06-18T00:00:00",
          "2017-06-25T00:00:00",
          "2017-08-27T00:00:00",
          "2017-09-03T00:00:00",
          "2017-09-10T00:00:00",
          "2017-09-17T00:00:00",
          "2017-09-24T00:00:00",
          "2018-02-11T00:00:00",
          "2018-02-18T00:00:00",
          "2018-02-25T00:00:00",
          "2018-03-04T00:00:00",
          "2018-06-03T00:00:00",
          "2018-06-10T00:00:00",
          "2018-06-17T00:00:00",
          "2018-06-24T00:00:00",
          "2018-08-26T00:00:00",
          "2018-09-02T00:00:00",
          "2018-09-09T00:00:00",
          "2018-09-16T00:00:00",
          "2018-09-23T00:00:00",
          "2019-02-10T00:00:00",
          "2019-02-17T00:00:00",
          "2019-02-24T00:00:00",
          "2019-03-03T00:00:00",
          "2019-06-02T00:00:00",
          "2019-06-09T00:00:00",
          "2019-06-16T00:00:00",
          "2019-06-23T00:00:00",
          "2019-08-25T00:00:00",
          "2019-09-01T00:00:00",
          "2019-09-08T00:00:00",
          "2019-09-15T00:00:00",
          "2019-09-22T00:00:00",
          "2020-02-09T00:00:00",
          "2020-02-16T00:00:00",
          "2020-02-23T00:00:00",
          "2020-03-01T00:00:00",
          "2020-05-31T00:00:00",
          "2020-06-07T00:00:00",
          "2020-06-14T00:00:00",
          "2020-06-21T00:00:00"
         ],
         "xaxis": "x",
         "y": [
          5.078469999999999,
          6.620502000000001,
          9.252112,
          16.779852,
          11.033276,
          12.660716000000003,
          21.242661333333334,
          10.58181,
          19.253864,
          7.477356,
          7.891832000000003,
          3.7551170000000003,
          9.301908,
          5.078469999999999,
          6.620502000000001,
          9.252112,
          16.779852,
          11.033276,
          12.660716000000003,
          21.242661333333334,
          10.58181,
          19.253864,
          7.477356,
          7.891832000000003,
          3.7551170000000003,
          9.301908,
          5.078469999999999,
          6.620502000000001,
          9.252112,
          16.779852,
          11.033276,
          12.660716000000003,
          21.242661333333334,
          10.58181,
          19.253864,
          7.477356,
          7.891832000000003,
          3.7551170000000003,
          9.301908,
          5.078469999999999,
          6.620502000000001,
          9.252112,
          16.779852,
          11.033276,
          12.660716000000003,
          21.242661333333334,
          10.58181,
          19.253864,
          7.477356,
          7.891832000000003,
          3.7551170000000003,
          9.301908,
          5.078469999999999,
          6.620502000000001,
          9.252112,
          16.779852,
          11.033276,
          12.660716000000003,
          21.242661333333334,
          10.58181,
          19.253864,
          7.477356,
          7.891832000000003,
          3.7551170000000003,
          9.301908,
          5.078469999999999,
          6.620502000000001,
          9.252112,
          16.779852,
          11.033276,
          12.660716000000003,
          21.242661333333334,
          10.58181,
          19.253864,
          7.477356,
          7.891832000000003,
          3.7551170000000003,
          9.301908,
          5.078469999999999,
          6.620502000000001,
          9.252112,
          16.779852,
          11.033276,
          12.660716000000003,
          21.242661333333334,
          10.58181,
          19.253864,
          7.477356,
          7.891832000000003,
          3.7551170000000003,
          9.301908,
          5.078469999999999,
          6.620502000000001,
          9.252112,
          16.779852,
          11.033276,
          12.660716000000003,
          21.242661333333334,
          10.58181,
          19.253864,
          7.477356,
          7.891832000000003,
          3.7551170000000003,
          9.301908,
          5.078469999999999,
          6.620502000000001,
          9.252112,
          16.779852,
          11.033276,
          12.660716000000003,
          21.242661333333334,
          10.58181,
          19.253864,
          7.477356,
          7.891832000000003,
          3.7551170000000003,
          9.301908,
          5.078469999999999,
          6.620502000000001,
          9.252112,
          16.779852,
          11.033276,
          12.660716000000003,
          21.242661333333334,
          10.58181,
          19.253864,
          7.477356,
          7.891832000000003,
          3.7551170000000003,
          9.301908,
          5.078469999999999,
          6.620502000000001,
          9.252112,
          16.779852,
          11.033276,
          12.660716000000003,
          21.242661333333334,
          10.58181,
          19.253864,
          7.477356,
          7.891832000000003,
          3.7551170000000003,
          9.301908,
          5.078469999999999,
          6.620502000000001,
          9.252112,
          16.779852,
          11.033276,
          12.660716000000003,
          21.242661333333334,
          10.58181,
          19.253864,
          7.477356,
          7.891832000000003,
          3.7551170000000003,
          9.301908,
          5.078469999999999,
          6.620502000000001,
          9.252112,
          16.779852,
          11.033276,
          12.660716000000003,
          21.242661333333334,
          10.58181,
          19.253864,
          7.477356,
          7.891832000000003,
          3.7551170000000003,
          9.301908,
          5.078469999999999,
          6.620502000000001,
          9.252112,
          16.779852,
          11.033276,
          12.660716000000003,
          21.242661333333334,
          10.58181,
          19.253864,
          7.477356,
          7.891832000000003,
          3.7551170000000003,
          9.301908,
          5.078469999999999,
          6.620502000000001,
          9.252112,
          16.779852,
          11.033276,
          12.660716000000003,
          21.242661333333334,
          10.58181,
          19.253864,
          7.477356,
          7.891832000000003,
          3.7551170000000003,
          9.301908,
          5.078469999999999,
          6.620502000000001,
          9.252112,
          16.779852,
          11.033276,
          12.660716000000003,
          21.242661333333334,
          10.58181,
          19.253864,
          7.477356,
          7.891832000000003,
          3.7551170000000003,
          9.301908,
          5.078469999999999,
          6.620502000000001,
          9.252112,
          16.779852,
          11.033276,
          12.660716000000003,
          21.242661333333334,
          10.58181,
          19.253864,
          7.477356,
          7.891832000000003,
          3.7551170000000003,
          9.301908,
          5.078469999999999,
          6.620502000000001,
          9.252112,
          16.779852,
          11.033276,
          12.660716000000003,
          21.242661333333334,
          10.58181,
          19.253864,
          7.477356,
          7.891832000000003,
          3.7551170000000003,
          9.301908,
          5.078469999999999,
          6.620502000000001,
          9.252112,
          16.779852,
          11.033276,
          12.660716000000003,
          21.242661333333334,
          10.58181,
          19.253864,
          7.477356,
          7.891832000000003,
          3.7551170000000003,
          9.301908,
          5.078469999999999,
          6.620502000000001,
          9.252112,
          16.779852,
          11.033276,
          12.660716000000003,
          21.242661333333334,
          10.58181,
          19.253864,
          7.477356,
          7.891832000000003,
          3.7551170000000003,
          9.301908,
          5.078469999999999,
          6.620502000000001,
          9.252112,
          16.779852,
          11.033276,
          12.660716000000003,
          21.242661333333334,
          10.58181,
          19.253864,
          7.477356,
          7.891832000000003,
          3.7551170000000003,
          9.301908,
          5.078469999999999,
          6.620502000000001,
          9.252112,
          16.779852,
          11.033276,
          12.660716000000003,
          21.242661333333334,
          10.58181,
          19.253864,
          7.477356,
          7.891832000000003,
          3.7551170000000003,
          9.301908,
          5.078469999999999,
          6.620502000000001,
          9.252112,
          16.779852,
          11.033276,
          12.660716000000003,
          21.242661333333334,
          10.58181,
          19.253864,
          7.477356,
          7.891832000000003,
          3.7551170000000003,
          9.301908,
          5.078469999999999,
          6.620502000000001,
          9.252112,
          16.779852,
          11.033276,
          12.660716000000003
         ],
         "yaxis": "y"
        }
       ],
       "layout": {
        "template": {
         "data": {
          "bar": [
           {
            "error_x": {
             "color": "#2a3f5f"
            },
            "error_y": {
             "color": "#2a3f5f"
            },
            "marker": {
             "line": {
              "color": "#E5ECF6",
              "width": 0.5
             },
             "pattern": {
              "fillmode": "overlay",
              "size": 10,
              "solidity": 0.2
             }
            },
            "type": "bar"
           }
          ],
          "barpolar": [
           {
            "marker": {
             "line": {
              "color": "#E5ECF6",
              "width": 0.5
             },
             "pattern": {
              "fillmode": "overlay",
              "size": 10,
              "solidity": 0.2
             }
            },
            "type": "barpolar"
           }
          ],
          "carpet": [
           {
            "aaxis": {
             "endlinecolor": "#2a3f5f",
             "gridcolor": "white",
             "linecolor": "white",
             "minorgridcolor": "white",
             "startlinecolor": "#2a3f5f"
            },
            "baxis": {
             "endlinecolor": "#2a3f5f",
             "gridcolor": "white",
             "linecolor": "white",
             "minorgridcolor": "white",
             "startlinecolor": "#2a3f5f"
            },
            "type": "carpet"
           }
          ],
          "choropleth": [
           {
            "colorbar": {
             "outlinewidth": 0,
             "ticks": ""
            },
            "type": "choropleth"
           }
          ],
          "contour": [
           {
            "colorbar": {
             "outlinewidth": 0,
             "ticks": ""
            },
            "colorscale": [
             [
              0,
              "#0d0887"
             ],
             [
              0.1111111111111111,
              "#46039f"
             ],
             [
              0.2222222222222222,
              "#7201a8"
             ],
             [
              0.3333333333333333,
              "#9c179e"
             ],
             [
              0.4444444444444444,
              "#bd3786"
             ],
             [
              0.5555555555555556,
              "#d8576b"
             ],
             [
              0.6666666666666666,
              "#ed7953"
             ],
             [
              0.7777777777777778,
              "#fb9f3a"
             ],
             [
              0.8888888888888888,
              "#fdca26"
             ],
             [
              1,
              "#f0f921"
             ]
            ],
            "type": "contour"
           }
          ],
          "contourcarpet": [
           {
            "colorbar": {
             "outlinewidth": 0,
             "ticks": ""
            },
            "type": "contourcarpet"
           }
          ],
          "heatmap": [
           {
            "colorbar": {
             "outlinewidth": 0,
             "ticks": ""
            },
            "colorscale": [
             [
              0,
              "#0d0887"
             ],
             [
              0.1111111111111111,
              "#46039f"
             ],
             [
              0.2222222222222222,
              "#7201a8"
             ],
             [
              0.3333333333333333,
              "#9c179e"
             ],
             [
              0.4444444444444444,
              "#bd3786"
             ],
             [
              0.5555555555555556,
              "#d8576b"
             ],
             [
              0.6666666666666666,
              "#ed7953"
             ],
             [
              0.7777777777777778,
              "#fb9f3a"
             ],
             [
              0.8888888888888888,
              "#fdca26"
             ],
             [
              1,
              "#f0f921"
             ]
            ],
            "type": "heatmap"
           }
          ],
          "heatmapgl": [
           {
            "colorbar": {
             "outlinewidth": 0,
             "ticks": ""
            },
            "colorscale": [
             [
              0,
              "#0d0887"
             ],
             [
              0.1111111111111111,
              "#46039f"
             ],
             [
              0.2222222222222222,
              "#7201a8"
             ],
             [
              0.3333333333333333,
              "#9c179e"
             ],
             [
              0.4444444444444444,
              "#bd3786"
             ],
             [
              0.5555555555555556,
              "#d8576b"
             ],
             [
              0.6666666666666666,
              "#ed7953"
             ],
             [
              0.7777777777777778,
              "#fb9f3a"
             ],
             [
              0.8888888888888888,
              "#fdca26"
             ],
             [
              1,
              "#f0f921"
             ]
            ],
            "type": "heatmapgl"
           }
          ],
          "histogram": [
           {
            "marker": {
             "pattern": {
              "fillmode": "overlay",
              "size": 10,
              "solidity": 0.2
             }
            },
            "type": "histogram"
           }
          ],
          "histogram2d": [
           {
            "colorbar": {
             "outlinewidth": 0,
             "ticks": ""
            },
            "colorscale": [
             [
              0,
              "#0d0887"
             ],
             [
              0.1111111111111111,
              "#46039f"
             ],
             [
              0.2222222222222222,
              "#7201a8"
             ],
             [
              0.3333333333333333,
              "#9c179e"
             ],
             [
              0.4444444444444444,
              "#bd3786"
             ],
             [
              0.5555555555555556,
              "#d8576b"
             ],
             [
              0.6666666666666666,
              "#ed7953"
             ],
             [
              0.7777777777777778,
              "#fb9f3a"
             ],
             [
              0.8888888888888888,
              "#fdca26"
             ],
             [
              1,
              "#f0f921"
             ]
            ],
            "type": "histogram2d"
           }
          ],
          "histogram2dcontour": [
           {
            "colorbar": {
             "outlinewidth": 0,
             "ticks": ""
            },
            "colorscale": [
             [
              0,
              "#0d0887"
             ],
             [
              0.1111111111111111,
              "#46039f"
             ],
             [
              0.2222222222222222,
              "#7201a8"
             ],
             [
              0.3333333333333333,
              "#9c179e"
             ],
             [
              0.4444444444444444,
              "#bd3786"
             ],
             [
              0.5555555555555556,
              "#d8576b"
             ],
             [
              0.6666666666666666,
              "#ed7953"
             ],
             [
              0.7777777777777778,
              "#fb9f3a"
             ],
             [
              0.8888888888888888,
              "#fdca26"
             ],
             [
              1,
              "#f0f921"
             ]
            ],
            "type": "histogram2dcontour"
           }
          ],
          "mesh3d": [
           {
            "colorbar": {
             "outlinewidth": 0,
             "ticks": ""
            },
            "type": "mesh3d"
           }
          ],
          "parcoords": [
           {
            "line": {
             "colorbar": {
              "outlinewidth": 0,
              "ticks": ""
             }
            },
            "type": "parcoords"
           }
          ],
          "pie": [
           {
            "automargin": true,
            "type": "pie"
           }
          ],
          "scatter": [
           {
            "fillpattern": {
             "fillmode": "overlay",
             "size": 10,
             "solidity": 0.2
            },
            "type": "scatter"
           }
          ],
          "scatter3d": [
           {
            "line": {
             "colorbar": {
              "outlinewidth": 0,
              "ticks": ""
             }
            },
            "marker": {
             "colorbar": {
              "outlinewidth": 0,
              "ticks": ""
             }
            },
            "type": "scatter3d"
           }
          ],
          "scattercarpet": [
           {
            "marker": {
             "colorbar": {
              "outlinewidth": 0,
              "ticks": ""
             }
            },
            "type": "scattercarpet"
           }
          ],
          "scattergeo": [
           {
            "marker": {
             "colorbar": {
              "outlinewidth": 0,
              "ticks": ""
             }
            },
            "type": "scattergeo"
           }
          ],
          "scattergl": [
           {
            "marker": {
             "colorbar": {
              "outlinewidth": 0,
              "ticks": ""
             }
            },
            "type": "scattergl"
           }
          ],
          "scattermapbox": [
           {
            "marker": {
             "colorbar": {
              "outlinewidth": 0,
              "ticks": ""
             }
            },
            "type": "scattermapbox"
           }
          ],
          "scatterpolar": [
           {
            "marker": {
             "colorbar": {
              "outlinewidth": 0,
              "ticks": ""
             }
            },
            "type": "scatterpolar"
           }
          ],
          "scatterpolargl": [
           {
            "marker": {
             "colorbar": {
              "outlinewidth": 0,
              "ticks": ""
             }
            },
            "type": "scatterpolargl"
           }
          ],
          "scatterternary": [
           {
            "marker": {
             "colorbar": {
              "outlinewidth": 0,
              "ticks": ""
             }
            },
            "type": "scatterternary"
           }
          ],
          "surface": [
           {
            "colorbar": {
             "outlinewidth": 0,
             "ticks": ""
            },
            "colorscale": [
             [
              0,
              "#0d0887"
             ],
             [
              0.1111111111111111,
              "#46039f"
             ],
             [
              0.2222222222222222,
              "#7201a8"
             ],
             [
              0.3333333333333333,
              "#9c179e"
             ],
             [
              0.4444444444444444,
              "#bd3786"
             ],
             [
              0.5555555555555556,
              "#d8576b"
             ],
             [
              0.6666666666666666,
              "#ed7953"
             ],
             [
              0.7777777777777778,
              "#fb9f3a"
             ],
             [
              0.8888888888888888,
              "#fdca26"
             ],
             [
              1,
              "#f0f921"
             ]
            ],
            "type": "surface"
           }
          ],
          "table": [
           {
            "cells": {
             "fill": {
              "color": "#EBF0F8"
             },
             "line": {
              "color": "white"
             }
            },
            "header": {
             "fill": {
              "color": "#C8D4E3"
             },
             "line": {
              "color": "white"
             }
            },
            "type": "table"
           }
          ]
         },
         "layout": {
          "annotationdefaults": {
           "arrowcolor": "#2a3f5f",
           "arrowhead": 0,
           "arrowwidth": 1
          },
          "autotypenumbers": "strict",
          "coloraxis": {
           "colorbar": {
            "outlinewidth": 0,
            "ticks": ""
           }
          },
          "colorscale": {
           "diverging": [
            [
             0,
             "#8e0152"
            ],
            [
             0.1,
             "#c51b7d"
            ],
            [
             0.2,
             "#de77ae"
            ],
            [
             0.3,
             "#f1b6da"
            ],
            [
             0.4,
             "#fde0ef"
            ],
            [
             0.5,
             "#f7f7f7"
            ],
            [
             0.6,
             "#e6f5d0"
            ],
            [
             0.7,
             "#b8e186"
            ],
            [
             0.8,
             "#7fbc41"
            ],
            [
             0.9,
             "#4d9221"
            ],
            [
             1,
             "#276419"
            ]
           ],
           "sequential": [
            [
             0,
             "#0d0887"
            ],
            [
             0.1111111111111111,
             "#46039f"
            ],
            [
             0.2222222222222222,
             "#7201a8"
            ],
            [
             0.3333333333333333,
             "#9c179e"
            ],
            [
             0.4444444444444444,
             "#bd3786"
            ],
            [
             0.5555555555555556,
             "#d8576b"
            ],
            [
             0.6666666666666666,
             "#ed7953"
            ],
            [
             0.7777777777777778,
             "#fb9f3a"
            ],
            [
             0.8888888888888888,
             "#fdca26"
            ],
            [
             1,
             "#f0f921"
            ]
           ],
           "sequentialminus": [
            [
             0,
             "#0d0887"
            ],
            [
             0.1111111111111111,
             "#46039f"
            ],
            [
             0.2222222222222222,
             "#7201a8"
            ],
            [
             0.3333333333333333,
             "#9c179e"
            ],
            [
             0.4444444444444444,
             "#bd3786"
            ],
            [
             0.5555555555555556,
             "#d8576b"
            ],
            [
             0.6666666666666666,
             "#ed7953"
            ],
            [
             0.7777777777777778,
             "#fb9f3a"
            ],
            [
             0.8888888888888888,
             "#fdca26"
            ],
            [
             1,
             "#f0f921"
            ]
           ]
          },
          "colorway": [
           "#636efa",
           "#EF553B",
           "#00cc96",
           "#ab63fa",
           "#FFA15A",
           "#19d3f3",
           "#FF6692",
           "#B6E880",
           "#FF97FF",
           "#FECB52"
          ],
          "font": {
           "color": "#2a3f5f"
          },
          "geo": {
           "bgcolor": "white",
           "lakecolor": "white",
           "landcolor": "#E5ECF6",
           "showlakes": true,
           "showland": true,
           "subunitcolor": "white"
          },
          "hoverlabel": {
           "align": "left"
          },
          "hovermode": "closest",
          "mapbox": {
           "style": "light"
          },
          "paper_bgcolor": "white",
          "plot_bgcolor": "#E5ECF6",
          "polar": {
           "angularaxis": {
            "gridcolor": "white",
            "linecolor": "white",
            "ticks": ""
           },
           "bgcolor": "#E5ECF6",
           "radialaxis": {
            "gridcolor": "white",
            "linecolor": "white",
            "ticks": ""
           }
          },
          "scene": {
           "xaxis": {
            "backgroundcolor": "#E5ECF6",
            "gridcolor": "white",
            "gridwidth": 2,
            "linecolor": "white",
            "showbackground": true,
            "ticks": "",
            "zerolinecolor": "white"
           },
           "yaxis": {
            "backgroundcolor": "#E5ECF6",
            "gridcolor": "white",
            "gridwidth": 2,
            "linecolor": "white",
            "showbackground": true,
            "ticks": "",
            "zerolinecolor": "white"
           },
           "zaxis": {
            "backgroundcolor": "#E5ECF6",
            "gridcolor": "white",
            "gridwidth": 2,
            "linecolor": "white",
            "showbackground": true,
            "ticks": "",
            "zerolinecolor": "white"
           }
          },
          "shapedefaults": {
           "line": {
            "color": "#2a3f5f"
           }
          },
          "ternary": {
           "aaxis": {
            "gridcolor": "white",
            "linecolor": "white",
            "ticks": ""
           },
           "baxis": {
            "gridcolor": "white",
            "linecolor": "white",
            "ticks": ""
           },
           "bgcolor": "#E5ECF6",
           "caxis": {
            "gridcolor": "white",
            "linecolor": "white",
            "ticks": ""
           }
          },
          "title": {
           "x": 0.05
          },
          "xaxis": {
           "automargin": true,
           "gridcolor": "white",
           "linecolor": "white",
           "ticks": "",
           "title": {
            "standoff": 15
           },
           "zerolinecolor": "white",
           "zerolinewidth": 2
          },
          "yaxis": {
           "automargin": true,
           "gridcolor": "white",
           "linecolor": "white",
           "ticks": "",
           "title": {
            "standoff": 15
           },
           "zerolinecolor": "white",
           "zerolinewidth": 2
          }
         }
        },
        "title": {
         "text": "Evolution des données de jour et de nuit avec tendance à Papa"
        },
        "xaxis": {
         "anchor": "y",
         "domain": [
          0,
          1
         ],
         "title": {
          "text": "Time"
         }
        },
        "yaxis": {
         "anchor": "x",
         "domain": [
          0,
          1
         ],
         "title": {
          "text": "Zooplankton biomass (mg/m3)"
         }
        }
       }
      }
     },
     "metadata": {},
     "output_type": "display_data"
    }
   ],
   "source": [
    "fig = make_subplots(rows=1, cols=1)\n",
    "\n",
    "# Ajouter les données de jour et de nuit\n",
    "fig.add_trace(\n",
    "    go.Scatter(\n",
    "        x=aggregated_smoothed[\"day\"].dropna().index,\n",
    "        y=aggregated_smoothed[\"day\"].dropna(),  #  + aggregated_smoothed[\"night_trend\"]\n",
    "        mode=\"lines\",\n",
    "        name=\"Day Data with Trend\",\n",
    "    ),\n",
    "    row=1,\n",
    "    col=1,\n",
    ")\n",
    "fig.add_trace(\n",
    "    go.Scatter(\n",
    "        x=aggregated_smoothed[\"night\"].dropna().index,\n",
    "        y=aggregated_smoothed[\"night\"].dropna(),  # + aggregated_smoothed[\"night_trend\"],\n",
    "        mode=\"lines\",\n",
    "        name=\"Night Data with Trend\",\n",
    "    ),\n",
    "    row=1,\n",
    "    col=1,\n",
    ")\n",
    "\n",
    "# # Ajouter les tendances de jour et de nuit\n",
    "# fig.add_trace(\n",
    "#     go.Scatter(\n",
    "#         x=aggregated_smoothed.index,\n",
    "#         y=aggregated_smoothed[\"day_trend\"],\n",
    "#         mode=\"lines\",\n",
    "#         name=\"Day Trend\",\n",
    "#         line=dict(dash=\"dash\"),\n",
    "#     ),\n",
    "#     row=1,\n",
    "#     col=1,\n",
    "# )\n",
    "# fig.add_trace(\n",
    "#     go.Scatter(\n",
    "#         x=aggregated_smoothed.index,\n",
    "#         y=aggregated_smoothed[\"night_trend\"],\n",
    "#         mode=\"lines\",\n",
    "#         name=\"Night Trend\",\n",
    "#         line=dict(dash=\"dash\"),\n",
    "#     ),\n",
    "#     row=1,\n",
    "#     col=1,\n",
    "# )\n",
    "\n",
    "# Mettre à jour la mise en page\n",
    "fig.update_layout(\n",
    "    title=f\"Evolution des données de jour et de nuit avec tendance à {station}\",\n",
    "    xaxis_title=\"Time\",\n",
    "    yaxis_title=\"Zooplankton biomass (mg/m3)\",\n",
    ")\n",
    "\n",
    "fig.show()"
   ]
  },
  {
   "cell_type": "code",
   "execution_count": 15,
   "metadata": {},
   "outputs": [
    {
     "data": {
      "application/vnd.plotly.v1+json": {
       "config": {
        "plotlyServerURL": "https://plot.ly"
       },
       "data": [
        {
         "mode": "markers",
         "name": "Initial Day Data",
         "type": "scatter",
         "x": [
          "1997-06-16T00:00:00.000000000",
          "1997-09-04T00:00:00.000000000",
          "1997-09-05T00:00:00.000000000",
          "1998-02-27T00:00:00.000000000",
          "1998-02-28T00:00:00.000000000",
          "1998-09-05T00:00:00.000000000",
          "1999-02-18T00:00:00.000000000",
          "2002-02-13T00:00:00.000000000",
          "2002-07-05T00:00:00.000000000",
          "2002-09-03T00:00:00.000000000",
          "2003-02-12T00:00:00.000000000",
          "2003-06-03T00:00:00.000000000",
          "2003-09-06T00:00:00.000000000",
          "2004-06-07T00:00:00.000000000",
          "2005-02-18T00:00:00.000000000",
          "2005-06-07T00:00:00.000000000",
          "2005-08-23T00:00:00.000000000",
          "2006-02-13T00:00:00.000000000",
          "2006-07-17T00:00:00.000000000",
          "2006-09-28T00:00:00.000000000",
          "2007-02-15T00:00:00.000000000",
          "2007-08-22T00:00:00.000000000",
          "2008-02-10T00:00:00.000000000",
          "2008-06-08T00:00:00.000000000",
          "2009-08-27T00:00:00.000000000",
          "2010-06-14T00:00:00.000000000",
          "2010-08-26T00:00:00.000000000",
          "2011-02-16T00:00:00.000000000",
          "2011-06-13T00:00:00.000000000",
          "2011-08-26T00:00:00.000000000",
          "2012-08-24T00:00:00.000000000",
          "2013-08-30T00:00:00.000000000",
          "2014-06-17T00:00:00.000000000",
          "2015-06-17T00:00:00.000000000",
          "2016-02-16T00:00:00.000000000",
          "2016-06-14T00:00:00.000000000",
          "2017-06-13T00:00:00.000000000",
          "2017-08-24T00:00:00.000000000",
          "2018-02-26T00:00:00.000000000",
          "2018-06-13T00:00:00.000000000",
          "2019-06-11T00:00:00.000000000",
          "2019-08-23T00:00:00.000000000",
          "2020-02-16T00:00:00.000000000"
         ],
         "xaxis": "x",
         "y": [
          8.27791090909091,
          4.1469452,
          2.569336,
          3.2360713333333337,
          2.113614181818182,
          2.699504,
          4.493184000000001,
          3.3857160000000004,
          8.370488,
          7.375052000000001,
          8.825144,
          13.447383999999998,
          6.3507039999999995,
          7.575812000000003,
          2.8846079999999996,
          29.154756000000006,
          13.017160000000002,
          3.702616000000001,
          12.918244000000001,
          3.318884,
          3.720364000000001,
          4.651516000000001,
          1.7638480000000003,
          26.080968000000002,
          8.960104,
          18.773864,
          9.577408,
          2.270336,
          23.44328,
          11.388256,
          1.7982440000000004,
          8.462683999999998,
          16.092568,
          18.792104,
          7.8351679999999995,
          12.004031999999999,
          6.957908,
          4.567056,
          4.009892,
          20.338700000000003,
          4.2821880000000005,
          1.3886200000000002,
          2.1804
         ],
         "yaxis": "y"
        },
        {
         "mode": "lines",
         "name": "Processed Day Data",
         "type": "scatter",
         "x": [
          "1997-03-02T00:00:00",
          "1997-06-08T00:00:00",
          "1997-06-15T00:00:00",
          "1997-06-22T00:00:00",
          "1997-07-06T00:00:00",
          "1997-07-20T00:00:00",
          "1997-08-24T00:00:00",
          "1997-08-31T00:00:00",
          "1997-09-07T00:00:00",
          "1997-09-28T00:00:00",
          "1998-02-08T00:00:00",
          "1998-02-15T00:00:00",
          "1998-03-01T00:00:00",
          "1998-06-07T00:00:00",
          "1998-06-14T00:00:00",
          "1998-06-21T00:00:00",
          "1998-07-05T00:00:00",
          "1998-07-19T00:00:00",
          "1998-08-23T00:00:00",
          "1998-08-30T00:00:00",
          "1998-09-06T00:00:00",
          "1998-09-27T00:00:00",
          "1999-02-14T00:00:00",
          "1999-02-21T00:00:00",
          "1999-03-07T00:00:00",
          "1999-06-13T00:00:00",
          "1999-06-20T00:00:00",
          "1999-06-27T00:00:00",
          "1999-07-11T00:00:00",
          "1999-07-25T00:00:00",
          "1999-08-29T00:00:00",
          "1999-09-05T00:00:00",
          "1999-09-12T00:00:00",
          "1999-10-03T00:00:00",
          "2000-02-13T00:00:00",
          "2000-02-20T00:00:00",
          "2000-03-05T00:00:00",
          "2000-06-11T00:00:00",
          "2000-06-18T00:00:00",
          "2000-06-25T00:00:00",
          "2000-07-09T00:00:00",
          "2000-07-23T00:00:00",
          "2000-08-27T00:00:00",
          "2000-09-03T00:00:00",
          "2000-09-10T00:00:00",
          "2000-10-01T00:00:00",
          "2001-02-11T00:00:00",
          "2001-02-18T00:00:00",
          "2001-03-04T00:00:00",
          "2001-06-10T00:00:00",
          "2001-06-17T00:00:00",
          "2001-06-24T00:00:00",
          "2001-07-08T00:00:00",
          "2001-07-22T00:00:00",
          "2001-08-26T00:00:00",
          "2001-09-02T00:00:00",
          "2001-09-09T00:00:00",
          "2001-09-30T00:00:00",
          "2002-02-10T00:00:00",
          "2002-02-17T00:00:00",
          "2002-03-03T00:00:00",
          "2002-06-09T00:00:00",
          "2002-06-16T00:00:00",
          "2002-06-23T00:00:00",
          "2002-07-07T00:00:00",
          "2002-07-21T00:00:00",
          "2002-08-25T00:00:00",
          "2002-09-01T00:00:00",
          "2002-09-08T00:00:00",
          "2002-09-29T00:00:00",
          "2003-02-09T00:00:00",
          "2003-02-16T00:00:00",
          "2003-03-02T00:00:00",
          "2003-06-08T00:00:00",
          "2003-06-15T00:00:00",
          "2003-06-22T00:00:00",
          "2003-07-06T00:00:00",
          "2003-07-20T00:00:00",
          "2003-08-24T00:00:00",
          "2003-08-31T00:00:00",
          "2003-09-07T00:00:00",
          "2003-09-28T00:00:00",
          "2004-02-08T00:00:00",
          "2004-02-15T00:00:00",
          "2004-02-29T00:00:00",
          "2004-06-06T00:00:00",
          "2004-06-13T00:00:00",
          "2004-06-20T00:00:00",
          "2004-07-04T00:00:00",
          "2004-07-18T00:00:00",
          "2004-08-22T00:00:00",
          "2004-08-29T00:00:00",
          "2004-09-05T00:00:00",
          "2004-09-26T00:00:00",
          "2005-02-13T00:00:00",
          "2005-02-20T00:00:00",
          "2005-03-06T00:00:00",
          "2005-06-12T00:00:00",
          "2005-06-19T00:00:00",
          "2005-06-26T00:00:00",
          "2005-07-10T00:00:00",
          "2005-07-24T00:00:00",
          "2005-08-28T00:00:00",
          "2005-09-04T00:00:00",
          "2005-09-11T00:00:00",
          "2005-10-02T00:00:00",
          "2006-02-12T00:00:00",
          "2006-02-19T00:00:00",
          "2006-03-05T00:00:00",
          "2006-06-11T00:00:00",
          "2006-06-18T00:00:00",
          "2006-06-25T00:00:00",
          "2006-07-09T00:00:00",
          "2006-07-23T00:00:00",
          "2006-08-27T00:00:00",
          "2006-09-03T00:00:00",
          "2006-09-10T00:00:00",
          "2006-10-01T00:00:00",
          "2007-02-11T00:00:00",
          "2007-02-18T00:00:00",
          "2007-03-04T00:00:00",
          "2007-06-10T00:00:00",
          "2007-06-17T00:00:00",
          "2007-06-24T00:00:00",
          "2007-07-08T00:00:00",
          "2007-07-22T00:00:00",
          "2007-08-26T00:00:00",
          "2007-09-02T00:00:00",
          "2007-09-09T00:00:00",
          "2007-09-30T00:00:00",
          "2008-02-10T00:00:00",
          "2008-02-17T00:00:00",
          "2008-03-02T00:00:00",
          "2008-06-08T00:00:00",
          "2008-06-15T00:00:00",
          "2008-06-22T00:00:00",
          "2008-07-06T00:00:00",
          "2008-07-20T00:00:00",
          "2008-08-24T00:00:00",
          "2008-08-31T00:00:00",
          "2008-09-07T00:00:00",
          "2008-09-28T00:00:00",
          "2009-02-08T00:00:00",
          "2009-02-15T00:00:00",
          "2009-03-01T00:00:00",
          "2009-06-07T00:00:00",
          "2009-06-14T00:00:00",
          "2009-06-21T00:00:00",
          "2009-07-05T00:00:00",
          "2009-07-19T00:00:00",
          "2009-08-23T00:00:00",
          "2009-08-30T00:00:00",
          "2009-09-06T00:00:00",
          "2009-09-27T00:00:00",
          "2010-02-14T00:00:00",
          "2010-02-21T00:00:00",
          "2010-03-07T00:00:00",
          "2010-06-13T00:00:00",
          "2010-06-20T00:00:00",
          "2010-06-27T00:00:00",
          "2010-07-11T00:00:00",
          "2010-07-25T00:00:00",
          "2010-08-29T00:00:00",
          "2010-09-05T00:00:00",
          "2010-09-12T00:00:00",
          "2010-10-03T00:00:00",
          "2011-02-13T00:00:00",
          "2011-02-20T00:00:00",
          "2011-03-06T00:00:00",
          "2011-06-12T00:00:00",
          "2011-06-19T00:00:00",
          "2011-06-26T00:00:00",
          "2011-07-10T00:00:00",
          "2011-07-24T00:00:00",
          "2011-08-28T00:00:00",
          "2011-09-04T00:00:00",
          "2011-09-11T00:00:00",
          "2011-10-02T00:00:00",
          "2012-02-12T00:00:00",
          "2012-02-19T00:00:00",
          "2012-03-04T00:00:00",
          "2012-06-10T00:00:00",
          "2012-06-17T00:00:00",
          "2012-06-24T00:00:00",
          "2012-07-08T00:00:00",
          "2012-07-22T00:00:00",
          "2012-08-26T00:00:00",
          "2012-09-02T00:00:00",
          "2012-09-09T00:00:00",
          "2012-09-30T00:00:00",
          "2013-02-10T00:00:00",
          "2013-02-17T00:00:00",
          "2013-03-03T00:00:00",
          "2013-06-09T00:00:00",
          "2013-06-16T00:00:00",
          "2013-06-23T00:00:00",
          "2013-07-07T00:00:00",
          "2013-07-21T00:00:00",
          "2013-08-25T00:00:00",
          "2013-09-01T00:00:00",
          "2013-09-08T00:00:00",
          "2013-09-29T00:00:00",
          "2014-02-09T00:00:00",
          "2014-02-16T00:00:00",
          "2014-03-02T00:00:00",
          "2014-06-08T00:00:00",
          "2014-06-15T00:00:00",
          "2014-06-22T00:00:00",
          "2014-07-06T00:00:00",
          "2014-07-20T00:00:00",
          "2014-08-24T00:00:00",
          "2014-08-31T00:00:00",
          "2014-09-07T00:00:00",
          "2014-09-28T00:00:00",
          "2015-02-08T00:00:00",
          "2015-02-15T00:00:00",
          "2015-03-01T00:00:00",
          "2015-06-07T00:00:00",
          "2015-06-14T00:00:00",
          "2015-06-21T00:00:00",
          "2015-07-05T00:00:00",
          "2015-07-19T00:00:00",
          "2015-08-23T00:00:00",
          "2015-08-30T00:00:00",
          "2015-09-06T00:00:00",
          "2015-09-27T00:00:00",
          "2016-02-14T00:00:00",
          "2016-02-21T00:00:00",
          "2016-03-06T00:00:00",
          "2016-06-12T00:00:00",
          "2016-06-19T00:00:00",
          "2016-06-26T00:00:00",
          "2016-07-10T00:00:00",
          "2016-07-24T00:00:00",
          "2016-08-28T00:00:00",
          "2016-09-04T00:00:00",
          "2016-09-11T00:00:00",
          "2016-10-02T00:00:00",
          "2017-02-12T00:00:00",
          "2017-02-19T00:00:00",
          "2017-03-05T00:00:00",
          "2017-06-11T00:00:00",
          "2017-06-18T00:00:00",
          "2017-06-25T00:00:00",
          "2017-07-09T00:00:00",
          "2017-07-23T00:00:00",
          "2017-08-27T00:00:00",
          "2017-09-03T00:00:00",
          "2017-09-10T00:00:00",
          "2017-10-01T00:00:00",
          "2018-02-11T00:00:00",
          "2018-02-18T00:00:00",
          "2018-03-04T00:00:00",
          "2018-06-10T00:00:00",
          "2018-06-17T00:00:00",
          "2018-06-24T00:00:00",
          "2018-07-08T00:00:00",
          "2018-07-22T00:00:00",
          "2018-08-26T00:00:00",
          "2018-09-02T00:00:00",
          "2018-09-09T00:00:00",
          "2018-09-30T00:00:00",
          "2019-02-10T00:00:00",
          "2019-02-17T00:00:00",
          "2019-03-03T00:00:00",
          "2019-06-09T00:00:00",
          "2019-06-16T00:00:00",
          "2019-06-23T00:00:00",
          "2019-07-07T00:00:00",
          "2019-07-21T00:00:00",
          "2019-08-25T00:00:00",
          "2019-09-01T00:00:00",
          "2019-09-08T00:00:00",
          "2019-09-29T00:00:00",
          "2020-02-09T00:00:00",
          "2020-02-16T00:00:00",
          "2020-03-01T00:00:00",
          "2020-06-07T00:00:00",
          "2020-06-14T00:00:00",
          "2020-06-21T00:00:00",
          "2020-07-05T00:00:00",
          "2020-07-19T00:00:00"
         ],
         "xaxis": "x",
         "y": [
          3.1198591717171715,
          22.894369333333334,
          13.339397714285715,
          14.387527636363636,
          8.370488,
          12.918244000000001,
          6.626894285714286,
          8.711393999999999,
          4.628308240000001,
          3.318884,
          1.7638480000000003,
          4.366392888888889,
          3.1198591717171715,
          22.894369333333334,
          13.339397714285715,
          14.387527636363636,
          8.370488,
          12.918244000000001,
          6.626894285714286,
          8.711393999999999,
          4.628308240000001,
          3.318884,
          1.7638480000000003,
          4.366392888888889,
          3.1198591717171715,
          22.894369333333334,
          13.339397714285715,
          14.387527636363636,
          8.370488,
          12.918244000000001,
          6.626894285714286,
          8.711393999999999,
          4.628308240000001,
          3.318884,
          1.7638480000000003,
          4.366392888888889,
          3.1198591717171715,
          22.894369333333334,
          13.339397714285715,
          14.387527636363636,
          8.370488,
          12.918244000000001,
          6.626894285714286,
          8.711393999999999,
          4.628308240000001,
          3.318884,
          1.7638480000000003,
          4.366392888888889,
          3.1198591717171715,
          22.894369333333334,
          13.339397714285715,
          14.387527636363636,
          8.370488,
          12.918244000000001,
          6.626894285714286,
          8.711393999999999,
          4.628308240000001,
          3.318884,
          1.7638480000000003,
          4.366392888888889,
          3.1198591717171715,
          22.894369333333334,
          13.339397714285715,
          14.387527636363636,
          8.370488,
          12.918244000000001,
          6.626894285714286,
          8.711393999999999,
          4.628308240000001,
          3.318884,
          1.7638480000000003,
          4.366392888888889,
          3.1198591717171715,
          22.894369333333334,
          13.339397714285715,
          14.387527636363636,
          8.370488,
          12.918244000000001,
          6.626894285714286,
          8.711393999999999,
          4.628308240000001,
          3.318884,
          1.7638480000000003,
          4.366392888888889,
          3.1198591717171715,
          22.894369333333334,
          13.339397714285715,
          14.387527636363636,
          8.370488,
          12.918244000000001,
          6.626894285714286,
          8.711393999999999,
          4.628308240000001,
          3.318884,
          1.7638480000000003,
          4.366392888888889,
          3.1198591717171715,
          22.894369333333334,
          13.339397714285715,
          14.387527636363636,
          8.370488,
          12.918244000000001,
          6.626894285714286,
          8.711393999999999,
          4.628308240000001,
          3.318884,
          1.7638480000000003,
          4.366392888888889,
          3.1198591717171715,
          22.894369333333334,
          13.339397714285715,
          14.387527636363636,
          8.370488,
          12.918244000000001,
          6.626894285714286,
          8.711393999999999,
          4.628308240000001,
          3.318884,
          1.7638480000000003,
          4.366392888888889,
          3.1198591717171715,
          22.894369333333334,
          13.339397714285715,
          14.387527636363636,
          8.370488,
          12.918244000000001,
          6.626894285714286,
          8.711393999999999,
          4.628308240000001,
          3.318884,
          1.7638480000000003,
          4.366392888888889,
          3.1198591717171715,
          22.894369333333334,
          13.339397714285715,
          14.387527636363636,
          8.370488,
          12.918244000000001,
          6.626894285714286,
          8.711393999999999,
          4.628308240000001,
          3.318884,
          1.7638480000000003,
          4.366392888888889,
          3.1198591717171715,
          22.894369333333334,
          13.339397714285715,
          14.387527636363636,
          8.370488,
          12.918244000000001,
          6.626894285714286,
          8.711393999999999,
          4.628308240000001,
          3.318884,
          1.7638480000000003,
          4.366392888888889,
          3.1198591717171715,
          22.894369333333334,
          13.339397714285715,
          14.387527636363636,
          8.370488,
          12.918244000000001,
          6.626894285714286,
          8.711393999999999,
          4.628308240000001,
          3.318884,
          1.7638480000000003,
          4.366392888888889,
          3.1198591717171715,
          22.894369333333334,
          13.339397714285715,
          14.387527636363636,
          8.370488,
          12.918244000000001,
          6.626894285714286,
          8.711393999999999,
          4.628308240000001,
          3.318884,
          1.7638480000000003,
          4.366392888888889,
          3.1198591717171715,
          22.894369333333334,
          13.339397714285715,
          14.387527636363636,
          8.370488,
          12.918244000000001,
          6.626894285714286,
          8.711393999999999,
          4.628308240000001,
          3.318884,
          1.7638480000000003,
          4.366392888888889,
          3.1198591717171715,
          22.894369333333334,
          13.339397714285715,
          14.387527636363636,
          8.370488,
          12.918244000000001,
          6.626894285714286,
          8.711393999999999,
          4.628308240000001,
          3.318884,
          1.7638480000000003,
          4.366392888888889,
          3.1198591717171715,
          22.894369333333334,
          13.339397714285715,
          14.387527636363636,
          8.370488,
          12.918244000000001,
          6.626894285714286,
          8.711393999999999,
          4.628308240000001,
          3.318884,
          1.7638480000000003,
          4.366392888888889,
          3.1198591717171715,
          22.894369333333334,
          13.339397714285715,
          14.387527636363636,
          8.370488,
          12.918244000000001,
          6.626894285714286,
          8.711393999999999,
          4.628308240000001,
          3.318884,
          1.7638480000000003,
          4.366392888888889,
          3.1198591717171715,
          22.894369333333334,
          13.339397714285715,
          14.387527636363636,
          8.370488,
          12.918244000000001,
          6.626894285714286,
          8.711393999999999,
          4.628308240000001,
          3.318884,
          1.7638480000000003,
          4.366392888888889,
          3.1198591717171715,
          22.894369333333334,
          13.339397714285715,
          14.387527636363636,
          8.370488,
          12.918244000000001,
          6.626894285714286,
          8.711393999999999,
          4.628308240000001,
          3.318884,
          1.7638480000000003,
          4.366392888888889,
          3.1198591717171715,
          22.894369333333334,
          13.339397714285715,
          14.387527636363636,
          8.370488,
          12.918244000000001,
          6.626894285714286,
          8.711393999999999,
          4.628308240000001,
          3.318884,
          1.7638480000000003,
          4.366392888888889,
          3.1198591717171715,
          22.894369333333334,
          13.339397714285715,
          14.387527636363636,
          8.370488,
          12.918244000000001,
          6.626894285714286,
          8.711393999999999,
          4.628308240000001,
          3.318884,
          1.7638480000000003,
          4.366392888888889,
          3.1198591717171715,
          22.894369333333334,
          13.339397714285715,
          14.387527636363636,
          8.370488,
          12.918244000000001
         ],
         "yaxis": "y"
        },
        {
         "mode": "markers",
         "name": "Initial Night Data",
         "type": "scatter",
         "x": [
          "1997-02-21T00:00:00.000000000",
          "1997-06-15T00:00:00.000000000",
          "1998-02-27T00:00:00.000000000",
          "1998-06-13T00:00:00.000000000",
          "1999-02-18T00:00:00.000000000",
          "1999-09-02T00:00:00.000000000",
          "2000-06-09T00:00:00.000000000",
          "2000-09-14T00:00:00.000000000",
          "2001-02-12T00:00:00.000000000",
          "2003-09-07T00:00:00.000000000",
          "2004-02-24T00:00:00.000000000",
          "2004-08-26T00:00:00.000000000",
          "2005-02-18T00:00:00.000000000",
          "2007-06-07T00:00:00.000000000",
          "2008-08-21T00:00:00.000000000",
          "2009-02-05T00:00:00.000000000",
          "2009-06-14T00:00:00.000000000",
          "2012-02-15T00:00:00.000000000",
          "2012-06-03T00:00:00.000000000",
          "2013-02-13T00:00:00.000000000",
          "2013-06-18T00:00:00.000000000",
          "2014-08-26T00:00:00.000000000",
          "2015-02-19T00:00:00.000000000",
          "2015-08-28T00:00:00.000000000",
          "2016-08-26T00:00:00.000000000",
          "2017-02-12T00:00:00.000000000",
          "2018-09-20T00:00:00.000000000",
          "2019-02-12T00:00:00.000000000",
          "2020-08-20T00:00:00.000000000"
         ],
         "xaxis": "x2",
         "y": [
          2.726968,
          4.3258280000000005,
          7.901896000000001,
          16.805196,
          10.64396,
          10.396196000000002,
          14.711544000000002,
          7.477356,
          6.6341399999999995,
          19.253864,
          5.339108000000001,
          8.456528,
          16.043628,
          18.848160000000004,
          16.831979999999998,
          5.033906,
          11.968804,
          12.956968000000003,
          9.252112,
          7.58638,
          12.660716000000003,
          6.709576000000002,
          7.429971999999999,
          16.76494,
          30.446728000000004,
          2.4763280000000005,
          7.891832000000003,
          1.9463720000000002,
          16.449275999999998
         ],
         "yaxis": "y2"
        },
        {
         "mode": "lines",
         "name": "Processed Night Data",
         "type": "scatter",
         "x": [
          "1997-02-23T00:00:00",
          "1997-03-02T00:00:00",
          "1997-06-01T00:00:00",
          "1997-06-08T00:00:00",
          "1997-06-15T00:00:00",
          "1997-06-22T00:00:00",
          "1997-08-24T00:00:00",
          "1997-08-31T00:00:00",
          "1997-09-07T00:00:00",
          "1997-09-14T00:00:00",
          "1997-09-21T00:00:00",
          "1998-02-08T00:00:00",
          "1998-02-15T00:00:00",
          "1998-02-22T00:00:00",
          "1998-03-01T00:00:00",
          "1998-05-31T00:00:00",
          "1998-06-07T00:00:00",
          "1998-06-14T00:00:00",
          "1998-06-21T00:00:00",
          "1998-08-23T00:00:00",
          "1998-08-30T00:00:00",
          "1998-09-06T00:00:00",
          "1998-09-13T00:00:00",
          "1998-09-20T00:00:00",
          "1999-02-14T00:00:00",
          "1999-02-21T00:00:00",
          "1999-02-28T00:00:00",
          "1999-03-07T00:00:00",
          "1999-06-06T00:00:00",
          "1999-06-13T00:00:00",
          "1999-06-20T00:00:00",
          "1999-06-27T00:00:00",
          "1999-08-29T00:00:00",
          "1999-09-05T00:00:00",
          "1999-09-12T00:00:00",
          "1999-09-19T00:00:00",
          "1999-09-26T00:00:00",
          "2000-02-13T00:00:00",
          "2000-02-20T00:00:00",
          "2000-02-27T00:00:00",
          "2000-03-05T00:00:00",
          "2000-06-04T00:00:00",
          "2000-06-11T00:00:00",
          "2000-06-18T00:00:00",
          "2000-06-25T00:00:00",
          "2000-08-27T00:00:00",
          "2000-09-03T00:00:00",
          "2000-09-10T00:00:00",
          "2000-09-17T00:00:00",
          "2000-09-24T00:00:00",
          "2001-02-11T00:00:00",
          "2001-02-18T00:00:00",
          "2001-02-25T00:00:00",
          "2001-03-04T00:00:00",
          "2001-06-03T00:00:00",
          "2001-06-10T00:00:00",
          "2001-06-17T00:00:00",
          "2001-06-24T00:00:00",
          "2001-08-26T00:00:00",
          "2001-09-02T00:00:00",
          "2001-09-09T00:00:00",
          "2001-09-16T00:00:00",
          "2001-09-23T00:00:00",
          "2002-02-10T00:00:00",
          "2002-02-17T00:00:00",
          "2002-02-24T00:00:00",
          "2002-03-03T00:00:00",
          "2002-06-02T00:00:00",
          "2002-06-09T00:00:00",
          "2002-06-16T00:00:00",
          "2002-06-23T00:00:00",
          "2002-08-25T00:00:00",
          "2002-09-01T00:00:00",
          "2002-09-08T00:00:00",
          "2002-09-15T00:00:00",
          "2002-09-22T00:00:00",
          "2003-02-09T00:00:00",
          "2003-02-16T00:00:00",
          "2003-02-23T00:00:00",
          "2003-03-02T00:00:00",
          "2003-06-01T00:00:00",
          "2003-06-08T00:00:00",
          "2003-06-15T00:00:00",
          "2003-06-22T00:00:00",
          "2003-08-24T00:00:00",
          "2003-08-31T00:00:00",
          "2003-09-07T00:00:00",
          "2003-09-14T00:00:00",
          "2003-09-21T00:00:00",
          "2004-02-08T00:00:00",
          "2004-02-15T00:00:00",
          "2004-02-22T00:00:00",
          "2004-02-29T00:00:00",
          "2004-05-30T00:00:00",
          "2004-06-06T00:00:00",
          "2004-06-13T00:00:00",
          "2004-06-20T00:00:00",
          "2004-08-22T00:00:00",
          "2004-08-29T00:00:00",
          "2004-09-05T00:00:00",
          "2004-09-12T00:00:00",
          "2004-09-19T00:00:00",
          "2005-02-13T00:00:00",
          "2005-02-20T00:00:00",
          "2005-02-27T00:00:00",
          "2005-03-06T00:00:00",
          "2005-06-05T00:00:00",
          "2005-06-12T00:00:00",
          "2005-06-19T00:00:00",
          "2005-06-26T00:00:00",
          "2005-08-28T00:00:00",
          "2005-09-04T00:00:00",
          "2005-09-11T00:00:00",
          "2005-09-18T00:00:00",
          "2005-09-25T00:00:00",
          "2006-02-12T00:00:00",
          "2006-02-19T00:00:00",
          "2006-02-26T00:00:00",
          "2006-03-05T00:00:00",
          "2006-06-04T00:00:00",
          "2006-06-11T00:00:00",
          "2006-06-18T00:00:00",
          "2006-06-25T00:00:00",
          "2006-08-27T00:00:00",
          "2006-09-03T00:00:00",
          "2006-09-10T00:00:00",
          "2006-09-17T00:00:00",
          "2006-09-24T00:00:00",
          "2007-02-11T00:00:00",
          "2007-02-18T00:00:00",
          "2007-02-25T00:00:00",
          "2007-03-04T00:00:00",
          "2007-06-03T00:00:00",
          "2007-06-10T00:00:00",
          "2007-06-17T00:00:00",
          "2007-06-24T00:00:00",
          "2007-08-26T00:00:00",
          "2007-09-02T00:00:00",
          "2007-09-09T00:00:00",
          "2007-09-16T00:00:00",
          "2007-09-23T00:00:00",
          "2008-02-10T00:00:00",
          "2008-02-17T00:00:00",
          "2008-02-24T00:00:00",
          "2008-03-02T00:00:00",
          "2008-06-01T00:00:00",
          "2008-06-08T00:00:00",
          "2008-06-15T00:00:00",
          "2008-06-22T00:00:00",
          "2008-08-24T00:00:00",
          "2008-08-31T00:00:00",
          "2008-09-07T00:00:00",
          "2008-09-14T00:00:00",
          "2008-09-21T00:00:00",
          "2009-02-08T00:00:00",
          "2009-02-15T00:00:00",
          "2009-02-22T00:00:00",
          "2009-03-01T00:00:00",
          "2009-05-31T00:00:00",
          "2009-06-07T00:00:00",
          "2009-06-14T00:00:00",
          "2009-06-21T00:00:00",
          "2009-08-23T00:00:00",
          "2009-08-30T00:00:00",
          "2009-09-06T00:00:00",
          "2009-09-13T00:00:00",
          "2009-09-20T00:00:00",
          "2010-02-14T00:00:00",
          "2010-02-21T00:00:00",
          "2010-02-28T00:00:00",
          "2010-03-07T00:00:00",
          "2010-06-06T00:00:00",
          "2010-06-13T00:00:00",
          "2010-06-20T00:00:00",
          "2010-06-27T00:00:00",
          "2010-08-29T00:00:00",
          "2010-09-05T00:00:00",
          "2010-09-12T00:00:00",
          "2010-09-19T00:00:00",
          "2010-09-26T00:00:00",
          "2011-02-13T00:00:00",
          "2011-02-20T00:00:00",
          "2011-02-27T00:00:00",
          "2011-03-06T00:00:00",
          "2011-06-05T00:00:00",
          "2011-06-12T00:00:00",
          "2011-06-19T00:00:00",
          "2011-06-26T00:00:00",
          "2011-08-28T00:00:00",
          "2011-09-04T00:00:00",
          "2011-09-11T00:00:00",
          "2011-09-18T00:00:00",
          "2011-09-25T00:00:00",
          "2012-02-12T00:00:00",
          "2012-02-19T00:00:00",
          "2012-02-26T00:00:00",
          "2012-03-04T00:00:00",
          "2012-06-03T00:00:00",
          "2012-06-10T00:00:00",
          "2012-06-17T00:00:00",
          "2012-06-24T00:00:00",
          "2012-08-26T00:00:00",
          "2012-09-02T00:00:00",
          "2012-09-09T00:00:00",
          "2012-09-16T00:00:00",
          "2012-09-23T00:00:00",
          "2013-02-10T00:00:00",
          "2013-02-17T00:00:00",
          "2013-02-24T00:00:00",
          "2013-03-03T00:00:00",
          "2013-06-02T00:00:00",
          "2013-06-09T00:00:00",
          "2013-06-16T00:00:00",
          "2013-06-23T00:00:00",
          "2013-08-25T00:00:00",
          "2013-09-01T00:00:00",
          "2013-09-08T00:00:00",
          "2013-09-15T00:00:00",
          "2013-09-22T00:00:00",
          "2014-02-09T00:00:00",
          "2014-02-16T00:00:00",
          "2014-02-23T00:00:00",
          "2014-03-02T00:00:00",
          "2014-06-01T00:00:00",
          "2014-06-08T00:00:00",
          "2014-06-15T00:00:00",
          "2014-06-22T00:00:00",
          "2014-08-24T00:00:00",
          "2014-08-31T00:00:00",
          "2014-09-07T00:00:00",
          "2014-09-14T00:00:00",
          "2014-09-21T00:00:00",
          "2015-02-08T00:00:00",
          "2015-02-15T00:00:00",
          "2015-02-22T00:00:00",
          "2015-03-01T00:00:00",
          "2015-05-31T00:00:00",
          "2015-06-07T00:00:00",
          "2015-06-14T00:00:00",
          "2015-06-21T00:00:00",
          "2015-08-23T00:00:00",
          "2015-08-30T00:00:00",
          "2015-09-06T00:00:00",
          "2015-09-13T00:00:00",
          "2015-09-20T00:00:00",
          "2016-02-14T00:00:00",
          "2016-02-21T00:00:00",
          "2016-02-28T00:00:00",
          "2016-03-06T00:00:00",
          "2016-06-05T00:00:00",
          "2016-06-12T00:00:00",
          "2016-06-19T00:00:00",
          "2016-06-26T00:00:00",
          "2016-08-28T00:00:00",
          "2016-09-04T00:00:00",
          "2016-09-11T00:00:00",
          "2016-09-18T00:00:00",
          "2016-09-25T00:00:00",
          "2017-02-12T00:00:00",
          "2017-02-19T00:00:00",
          "2017-02-26T00:00:00",
          "2017-03-05T00:00:00",
          "2017-06-04T00:00:00",
          "2017-06-11T00:00:00",
          "2017-06-18T00:00:00",
          "2017-06-25T00:00:00",
          "2017-08-27T00:00:00",
          "2017-09-03T00:00:00",
          "2017-09-10T00:00:00",
          "2017-09-17T00:00:00",
          "2017-09-24T00:00:00",
          "2018-02-11T00:00:00",
          "2018-02-18T00:00:00",
          "2018-02-25T00:00:00",
          "2018-03-04T00:00:00",
          "2018-06-03T00:00:00",
          "2018-06-10T00:00:00",
          "2018-06-17T00:00:00",
          "2018-06-24T00:00:00",
          "2018-08-26T00:00:00",
          "2018-09-02T00:00:00",
          "2018-09-09T00:00:00",
          "2018-09-16T00:00:00",
          "2018-09-23T00:00:00",
          "2019-02-10T00:00:00",
          "2019-02-17T00:00:00",
          "2019-02-24T00:00:00",
          "2019-03-03T00:00:00",
          "2019-06-02T00:00:00",
          "2019-06-09T00:00:00",
          "2019-06-16T00:00:00",
          "2019-06-23T00:00:00",
          "2019-08-25T00:00:00",
          "2019-09-01T00:00:00",
          "2019-09-08T00:00:00",
          "2019-09-15T00:00:00",
          "2019-09-22T00:00:00",
          "2020-02-09T00:00:00",
          "2020-02-16T00:00:00",
          "2020-02-23T00:00:00",
          "2020-03-01T00:00:00",
          "2020-05-31T00:00:00",
          "2020-06-07T00:00:00",
          "2020-06-14T00:00:00",
          "2020-06-21T00:00:00"
         ],
         "xaxis": "x2",
         "y": [
          5.078469999999999,
          6.620502000000001,
          9.252112,
          16.779852,
          11.033276,
          12.660716000000003,
          21.242661333333334,
          10.58181,
          19.253864,
          7.477356,
          7.891832000000003,
          3.7551170000000003,
          9.301908,
          5.078469999999999,
          6.620502000000001,
          9.252112,
          16.779852,
          11.033276,
          12.660716000000003,
          21.242661333333334,
          10.58181,
          19.253864,
          7.477356,
          7.891832000000003,
          3.7551170000000003,
          9.301908,
          5.078469999999999,
          6.620502000000001,
          9.252112,
          16.779852,
          11.033276,
          12.660716000000003,
          21.242661333333334,
          10.58181,
          19.253864,
          7.477356,
          7.891832000000003,
          3.7551170000000003,
          9.301908,
          5.078469999999999,
          6.620502000000001,
          9.252112,
          16.779852,
          11.033276,
          12.660716000000003,
          21.242661333333334,
          10.58181,
          19.253864,
          7.477356,
          7.891832000000003,
          3.7551170000000003,
          9.301908,
          5.078469999999999,
          6.620502000000001,
          9.252112,
          16.779852,
          11.033276,
          12.660716000000003,
          21.242661333333334,
          10.58181,
          19.253864,
          7.477356,
          7.891832000000003,
          3.7551170000000003,
          9.301908,
          5.078469999999999,
          6.620502000000001,
          9.252112,
          16.779852,
          11.033276,
          12.660716000000003,
          21.242661333333334,
          10.58181,
          19.253864,
          7.477356,
          7.891832000000003,
          3.7551170000000003,
          9.301908,
          5.078469999999999,
          6.620502000000001,
          9.252112,
          16.779852,
          11.033276,
          12.660716000000003,
          21.242661333333334,
          10.58181,
          19.253864,
          7.477356,
          7.891832000000003,
          3.7551170000000003,
          9.301908,
          5.078469999999999,
          6.620502000000001,
          9.252112,
          16.779852,
          11.033276,
          12.660716000000003,
          21.242661333333334,
          10.58181,
          19.253864,
          7.477356,
          7.891832000000003,
          3.7551170000000003,
          9.301908,
          5.078469999999999,
          6.620502000000001,
          9.252112,
          16.779852,
          11.033276,
          12.660716000000003,
          21.242661333333334,
          10.58181,
          19.253864,
          7.477356,
          7.891832000000003,
          3.7551170000000003,
          9.301908,
          5.078469999999999,
          6.620502000000001,
          9.252112,
          16.779852,
          11.033276,
          12.660716000000003,
          21.242661333333334,
          10.58181,
          19.253864,
          7.477356,
          7.891832000000003,
          3.7551170000000003,
          9.301908,
          5.078469999999999,
          6.620502000000001,
          9.252112,
          16.779852,
          11.033276,
          12.660716000000003,
          21.242661333333334,
          10.58181,
          19.253864,
          7.477356,
          7.891832000000003,
          3.7551170000000003,
          9.301908,
          5.078469999999999,
          6.620502000000001,
          9.252112,
          16.779852,
          11.033276,
          12.660716000000003,
          21.242661333333334,
          10.58181,
          19.253864,
          7.477356,
          7.891832000000003,
          3.7551170000000003,
          9.301908,
          5.078469999999999,
          6.620502000000001,
          9.252112,
          16.779852,
          11.033276,
          12.660716000000003,
          21.242661333333334,
          10.58181,
          19.253864,
          7.477356,
          7.891832000000003,
          3.7551170000000003,
          9.301908,
          5.078469999999999,
          6.620502000000001,
          9.252112,
          16.779852,
          11.033276,
          12.660716000000003,
          21.242661333333334,
          10.58181,
          19.253864,
          7.477356,
          7.891832000000003,
          3.7551170000000003,
          9.301908,
          5.078469999999999,
          6.620502000000001,
          9.252112,
          16.779852,
          11.033276,
          12.660716000000003,
          21.242661333333334,
          10.58181,
          19.253864,
          7.477356,
          7.891832000000003,
          3.7551170000000003,
          9.301908,
          5.078469999999999,
          6.620502000000001,
          9.252112,
          16.779852,
          11.033276,
          12.660716000000003,
          21.242661333333334,
          10.58181,
          19.253864,
          7.477356,
          7.891832000000003,
          3.7551170000000003,
          9.301908,
          5.078469999999999,
          6.620502000000001,
          9.252112,
          16.779852,
          11.033276,
          12.660716000000003,
          21.242661333333334,
          10.58181,
          19.253864,
          7.477356,
          7.891832000000003,
          3.7551170000000003,
          9.301908,
          5.078469999999999,
          6.620502000000001,
          9.252112,
          16.779852,
          11.033276,
          12.660716000000003,
          21.242661333333334,
          10.58181,
          19.253864,
          7.477356,
          7.891832000000003,
          3.7551170000000003,
          9.301908,
          5.078469999999999,
          6.620502000000001,
          9.252112,
          16.779852,
          11.033276,
          12.660716000000003,
          21.242661333333334,
          10.58181,
          19.253864,
          7.477356,
          7.891832000000003,
          3.7551170000000003,
          9.301908,
          5.078469999999999,
          6.620502000000001,
          9.252112,
          16.779852,
          11.033276,
          12.660716000000003,
          21.242661333333334,
          10.58181,
          19.253864,
          7.477356,
          7.891832000000003,
          3.7551170000000003,
          9.301908,
          5.078469999999999,
          6.620502000000001,
          9.252112,
          16.779852,
          11.033276,
          12.660716000000003,
          21.242661333333334,
          10.58181,
          19.253864,
          7.477356,
          7.891832000000003,
          3.7551170000000003,
          9.301908,
          5.078469999999999,
          6.620502000000001,
          9.252112,
          16.779852,
          11.033276,
          12.660716000000003,
          21.242661333333334,
          10.58181,
          19.253864,
          7.477356,
          7.891832000000003,
          3.7551170000000003,
          9.301908,
          5.078469999999999,
          6.620502000000001,
          9.252112,
          16.779852,
          11.033276,
          12.660716000000003,
          21.242661333333334,
          10.58181,
          19.253864,
          7.477356,
          7.891832000000003,
          3.7551170000000003,
          9.301908,
          5.078469999999999,
          6.620502000000001,
          9.252112,
          16.779852,
          11.033276,
          12.660716000000003
         ],
         "yaxis": "y2"
        }
       ],
       "layout": {
        "annotations": [
         {
          "font": {
           "size": 16
          },
          "showarrow": false,
          "text": "Day Data",
          "x": 0.5,
          "xanchor": "center",
          "xref": "paper",
          "y": 1,
          "yanchor": "bottom",
          "yref": "paper"
         },
         {
          "font": {
           "size": 16
          },
          "showarrow": false,
          "text": "Night Data",
          "x": 0.5,
          "xanchor": "center",
          "xref": "paper",
          "y": 0.45,
          "yanchor": "bottom",
          "yref": "paper"
         }
        ],
        "height": 800,
        "template": {
         "data": {
          "bar": [
           {
            "error_x": {
             "color": "#2a3f5f"
            },
            "error_y": {
             "color": "#2a3f5f"
            },
            "marker": {
             "line": {
              "color": "#E5ECF6",
              "width": 0.5
             },
             "pattern": {
              "fillmode": "overlay",
              "size": 10,
              "solidity": 0.2
             }
            },
            "type": "bar"
           }
          ],
          "barpolar": [
           {
            "marker": {
             "line": {
              "color": "#E5ECF6",
              "width": 0.5
             },
             "pattern": {
              "fillmode": "overlay",
              "size": 10,
              "solidity": 0.2
             }
            },
            "type": "barpolar"
           }
          ],
          "carpet": [
           {
            "aaxis": {
             "endlinecolor": "#2a3f5f",
             "gridcolor": "white",
             "linecolor": "white",
             "minorgridcolor": "white",
             "startlinecolor": "#2a3f5f"
            },
            "baxis": {
             "endlinecolor": "#2a3f5f",
             "gridcolor": "white",
             "linecolor": "white",
             "minorgridcolor": "white",
             "startlinecolor": "#2a3f5f"
            },
            "type": "carpet"
           }
          ],
          "choropleth": [
           {
            "colorbar": {
             "outlinewidth": 0,
             "ticks": ""
            },
            "type": "choropleth"
           }
          ],
          "contour": [
           {
            "colorbar": {
             "outlinewidth": 0,
             "ticks": ""
            },
            "colorscale": [
             [
              0,
              "#0d0887"
             ],
             [
              0.1111111111111111,
              "#46039f"
             ],
             [
              0.2222222222222222,
              "#7201a8"
             ],
             [
              0.3333333333333333,
              "#9c179e"
             ],
             [
              0.4444444444444444,
              "#bd3786"
             ],
             [
              0.5555555555555556,
              "#d8576b"
             ],
             [
              0.6666666666666666,
              "#ed7953"
             ],
             [
              0.7777777777777778,
              "#fb9f3a"
             ],
             [
              0.8888888888888888,
              "#fdca26"
             ],
             [
              1,
              "#f0f921"
             ]
            ],
            "type": "contour"
           }
          ],
          "contourcarpet": [
           {
            "colorbar": {
             "outlinewidth": 0,
             "ticks": ""
            },
            "type": "contourcarpet"
           }
          ],
          "heatmap": [
           {
            "colorbar": {
             "outlinewidth": 0,
             "ticks": ""
            },
            "colorscale": [
             [
              0,
              "#0d0887"
             ],
             [
              0.1111111111111111,
              "#46039f"
             ],
             [
              0.2222222222222222,
              "#7201a8"
             ],
             [
              0.3333333333333333,
              "#9c179e"
             ],
             [
              0.4444444444444444,
              "#bd3786"
             ],
             [
              0.5555555555555556,
              "#d8576b"
             ],
             [
              0.6666666666666666,
              "#ed7953"
             ],
             [
              0.7777777777777778,
              "#fb9f3a"
             ],
             [
              0.8888888888888888,
              "#fdca26"
             ],
             [
              1,
              "#f0f921"
             ]
            ],
            "type": "heatmap"
           }
          ],
          "heatmapgl": [
           {
            "colorbar": {
             "outlinewidth": 0,
             "ticks": ""
            },
            "colorscale": [
             [
              0,
              "#0d0887"
             ],
             [
              0.1111111111111111,
              "#46039f"
             ],
             [
              0.2222222222222222,
              "#7201a8"
             ],
             [
              0.3333333333333333,
              "#9c179e"
             ],
             [
              0.4444444444444444,
              "#bd3786"
             ],
             [
              0.5555555555555556,
              "#d8576b"
             ],
             [
              0.6666666666666666,
              "#ed7953"
             ],
             [
              0.7777777777777778,
              "#fb9f3a"
             ],
             [
              0.8888888888888888,
              "#fdca26"
             ],
             [
              1,
              "#f0f921"
             ]
            ],
            "type": "heatmapgl"
           }
          ],
          "histogram": [
           {
            "marker": {
             "pattern": {
              "fillmode": "overlay",
              "size": 10,
              "solidity": 0.2
             }
            },
            "type": "histogram"
           }
          ],
          "histogram2d": [
           {
            "colorbar": {
             "outlinewidth": 0,
             "ticks": ""
            },
            "colorscale": [
             [
              0,
              "#0d0887"
             ],
             [
              0.1111111111111111,
              "#46039f"
             ],
             [
              0.2222222222222222,
              "#7201a8"
             ],
             [
              0.3333333333333333,
              "#9c179e"
             ],
             [
              0.4444444444444444,
              "#bd3786"
             ],
             [
              0.5555555555555556,
              "#d8576b"
             ],
             [
              0.6666666666666666,
              "#ed7953"
             ],
             [
              0.7777777777777778,
              "#fb9f3a"
             ],
             [
              0.8888888888888888,
              "#fdca26"
             ],
             [
              1,
              "#f0f921"
             ]
            ],
            "type": "histogram2d"
           }
          ],
          "histogram2dcontour": [
           {
            "colorbar": {
             "outlinewidth": 0,
             "ticks": ""
            },
            "colorscale": [
             [
              0,
              "#0d0887"
             ],
             [
              0.1111111111111111,
              "#46039f"
             ],
             [
              0.2222222222222222,
              "#7201a8"
             ],
             [
              0.3333333333333333,
              "#9c179e"
             ],
             [
              0.4444444444444444,
              "#bd3786"
             ],
             [
              0.5555555555555556,
              "#d8576b"
             ],
             [
              0.6666666666666666,
              "#ed7953"
             ],
             [
              0.7777777777777778,
              "#fb9f3a"
             ],
             [
              0.8888888888888888,
              "#fdca26"
             ],
             [
              1,
              "#f0f921"
             ]
            ],
            "type": "histogram2dcontour"
           }
          ],
          "mesh3d": [
           {
            "colorbar": {
             "outlinewidth": 0,
             "ticks": ""
            },
            "type": "mesh3d"
           }
          ],
          "parcoords": [
           {
            "line": {
             "colorbar": {
              "outlinewidth": 0,
              "ticks": ""
             }
            },
            "type": "parcoords"
           }
          ],
          "pie": [
           {
            "automargin": true,
            "type": "pie"
           }
          ],
          "scatter": [
           {
            "fillpattern": {
             "fillmode": "overlay",
             "size": 10,
             "solidity": 0.2
            },
            "type": "scatter"
           }
          ],
          "scatter3d": [
           {
            "line": {
             "colorbar": {
              "outlinewidth": 0,
              "ticks": ""
             }
            },
            "marker": {
             "colorbar": {
              "outlinewidth": 0,
              "ticks": ""
             }
            },
            "type": "scatter3d"
           }
          ],
          "scattercarpet": [
           {
            "marker": {
             "colorbar": {
              "outlinewidth": 0,
              "ticks": ""
             }
            },
            "type": "scattercarpet"
           }
          ],
          "scattergeo": [
           {
            "marker": {
             "colorbar": {
              "outlinewidth": 0,
              "ticks": ""
             }
            },
            "type": "scattergeo"
           }
          ],
          "scattergl": [
           {
            "marker": {
             "colorbar": {
              "outlinewidth": 0,
              "ticks": ""
             }
            },
            "type": "scattergl"
           }
          ],
          "scattermapbox": [
           {
            "marker": {
             "colorbar": {
              "outlinewidth": 0,
              "ticks": ""
             }
            },
            "type": "scattermapbox"
           }
          ],
          "scatterpolar": [
           {
            "marker": {
             "colorbar": {
              "outlinewidth": 0,
              "ticks": ""
             }
            },
            "type": "scatterpolar"
           }
          ],
          "scatterpolargl": [
           {
            "marker": {
             "colorbar": {
              "outlinewidth": 0,
              "ticks": ""
             }
            },
            "type": "scatterpolargl"
           }
          ],
          "scatterternary": [
           {
            "marker": {
             "colorbar": {
              "outlinewidth": 0,
              "ticks": ""
             }
            },
            "type": "scatterternary"
           }
          ],
          "surface": [
           {
            "colorbar": {
             "outlinewidth": 0,
             "ticks": ""
            },
            "colorscale": [
             [
              0,
              "#0d0887"
             ],
             [
              0.1111111111111111,
              "#46039f"
             ],
             [
              0.2222222222222222,
              "#7201a8"
             ],
             [
              0.3333333333333333,
              "#9c179e"
             ],
             [
              0.4444444444444444,
              "#bd3786"
             ],
             [
              0.5555555555555556,
              "#d8576b"
             ],
             [
              0.6666666666666666,
              "#ed7953"
             ],
             [
              0.7777777777777778,
              "#fb9f3a"
             ],
             [
              0.8888888888888888,
              "#fdca26"
             ],
             [
              1,
              "#f0f921"
             ]
            ],
            "type": "surface"
           }
          ],
          "table": [
           {
            "cells": {
             "fill": {
              "color": "#EBF0F8"
             },
             "line": {
              "color": "white"
             }
            },
            "header": {
             "fill": {
              "color": "#C8D4E3"
             },
             "line": {
              "color": "white"
             }
            },
            "type": "table"
           }
          ]
         },
         "layout": {
          "annotationdefaults": {
           "arrowcolor": "#2a3f5f",
           "arrowhead": 0,
           "arrowwidth": 1
          },
          "autotypenumbers": "strict",
          "coloraxis": {
           "colorbar": {
            "outlinewidth": 0,
            "ticks": ""
           }
          },
          "colorscale": {
           "diverging": [
            [
             0,
             "#8e0152"
            ],
            [
             0.1,
             "#c51b7d"
            ],
            [
             0.2,
             "#de77ae"
            ],
            [
             0.3,
             "#f1b6da"
            ],
            [
             0.4,
             "#fde0ef"
            ],
            [
             0.5,
             "#f7f7f7"
            ],
            [
             0.6,
             "#e6f5d0"
            ],
            [
             0.7,
             "#b8e186"
            ],
            [
             0.8,
             "#7fbc41"
            ],
            [
             0.9,
             "#4d9221"
            ],
            [
             1,
             "#276419"
            ]
           ],
           "sequential": [
            [
             0,
             "#0d0887"
            ],
            [
             0.1111111111111111,
             "#46039f"
            ],
            [
             0.2222222222222222,
             "#7201a8"
            ],
            [
             0.3333333333333333,
             "#9c179e"
            ],
            [
             0.4444444444444444,
             "#bd3786"
            ],
            [
             0.5555555555555556,
             "#d8576b"
            ],
            [
             0.6666666666666666,
             "#ed7953"
            ],
            [
             0.7777777777777778,
             "#fb9f3a"
            ],
            [
             0.8888888888888888,
             "#fdca26"
            ],
            [
             1,
             "#f0f921"
            ]
           ],
           "sequentialminus": [
            [
             0,
             "#0d0887"
            ],
            [
             0.1111111111111111,
             "#46039f"
            ],
            [
             0.2222222222222222,
             "#7201a8"
            ],
            [
             0.3333333333333333,
             "#9c179e"
            ],
            [
             0.4444444444444444,
             "#bd3786"
            ],
            [
             0.5555555555555556,
             "#d8576b"
            ],
            [
             0.6666666666666666,
             "#ed7953"
            ],
            [
             0.7777777777777778,
             "#fb9f3a"
            ],
            [
             0.8888888888888888,
             "#fdca26"
            ],
            [
             1,
             "#f0f921"
            ]
           ]
          },
          "colorway": [
           "#636efa",
           "#EF553B",
           "#00cc96",
           "#ab63fa",
           "#FFA15A",
           "#19d3f3",
           "#FF6692",
           "#B6E880",
           "#FF97FF",
           "#FECB52"
          ],
          "font": {
           "color": "#2a3f5f"
          },
          "geo": {
           "bgcolor": "white",
           "lakecolor": "white",
           "landcolor": "#E5ECF6",
           "showlakes": true,
           "showland": true,
           "subunitcolor": "white"
          },
          "hoverlabel": {
           "align": "left"
          },
          "hovermode": "closest",
          "mapbox": {
           "style": "light"
          },
          "paper_bgcolor": "white",
          "plot_bgcolor": "#E5ECF6",
          "polar": {
           "angularaxis": {
            "gridcolor": "white",
            "linecolor": "white",
            "ticks": ""
           },
           "bgcolor": "#E5ECF6",
           "radialaxis": {
            "gridcolor": "white",
            "linecolor": "white",
            "ticks": ""
           }
          },
          "scene": {
           "xaxis": {
            "backgroundcolor": "#E5ECF6",
            "gridcolor": "white",
            "gridwidth": 2,
            "linecolor": "white",
            "showbackground": true,
            "ticks": "",
            "zerolinecolor": "white"
           },
           "yaxis": {
            "backgroundcolor": "#E5ECF6",
            "gridcolor": "white",
            "gridwidth": 2,
            "linecolor": "white",
            "showbackground": true,
            "ticks": "",
            "zerolinecolor": "white"
           },
           "zaxis": {
            "backgroundcolor": "#E5ECF6",
            "gridcolor": "white",
            "gridwidth": 2,
            "linecolor": "white",
            "showbackground": true,
            "ticks": "",
            "zerolinecolor": "white"
           }
          },
          "shapedefaults": {
           "line": {
            "color": "#2a3f5f"
           }
          },
          "ternary": {
           "aaxis": {
            "gridcolor": "white",
            "linecolor": "white",
            "ticks": ""
           },
           "baxis": {
            "gridcolor": "white",
            "linecolor": "white",
            "ticks": ""
           },
           "bgcolor": "#E5ECF6",
           "caxis": {
            "gridcolor": "white",
            "linecolor": "white",
            "ticks": ""
           }
          },
          "title": {
           "x": 0.05
          },
          "xaxis": {
           "automargin": true,
           "gridcolor": "white",
           "linecolor": "white",
           "ticks": "",
           "title": {
            "standoff": 15
           },
           "zerolinecolor": "white",
           "zerolinewidth": 2
          },
          "yaxis": {
           "automargin": true,
           "gridcolor": "white",
           "linecolor": "white",
           "ticks": "",
           "title": {
            "standoff": 15
           },
           "zerolinecolor": "white",
           "zerolinewidth": 2
          }
         }
        },
        "title": {
         "text": "Comparison of Initial and Processed Data at Papa : With Trend"
        },
        "xaxis": {
         "anchor": "y",
         "domain": [
          0,
          1
         ],
         "matches": "x2",
         "showticklabels": false,
         "title": {
          "text": "Time"
         }
        },
        "xaxis2": {
         "anchor": "y2",
         "domain": [
          0,
          1
         ]
        },
        "yaxis": {
         "anchor": "x",
         "domain": [
          0.55,
          1
         ],
         "title": {
          "text": "Zooplankton biomass (mg/m3)"
         }
        },
        "yaxis2": {
         "anchor": "x2",
         "domain": [
          0,
          0.45
         ]
        }
       }
      }
     },
     "metadata": {},
     "output_type": "display_data"
    }
   ],
   "source": [
    "fig = make_subplots(\n",
    "    rows=2,\n",
    "    cols=1,\n",
    "    subplot_titles=(\"Day Data\", \"Night Data\"),\n",
    "    shared_xaxes=True,\n",
    "    vertical_spacing=0.1,\n",
    ")\n",
    "# augmente la taille de la figure\n",
    "fig.update_layout(height=800)\n",
    "\n",
    "# Ajouter les données d'observation initiales de jour\n",
    "fig.add_trace(\n",
    "    go.Scatter(\n",
    "        x=day_data[\"time\"],\n",
    "        y=day_data,\n",
    "        mode=\"markers\",\n",
    "        name=\"Initial Day Data\",\n",
    "    ),\n",
    "    row=1,\n",
    "    col=1,\n",
    ")\n",
    "\n",
    "# Ajouter les données obtenues après traitement de jour\n",
    "fig.add_trace(\n",
    "    go.Scatter(\n",
    "        x=aggregated_smoothed[\"day\"].dropna().index,\n",
    "        y=aggregated_smoothed[\"day\"].dropna(),  # + aggregated_smoothed[\"day_trend\"],\n",
    "        mode=\"lines\",\n",
    "        name=\"Processed Day Data\",\n",
    "    ),\n",
    "    row=1,\n",
    "    col=1,\n",
    ")\n",
    "\n",
    "# Ajouter les données d'observation initiales de nuit\n",
    "fig.add_trace(\n",
    "    go.Scatter(\n",
    "        x=night_data[\"time\"],\n",
    "        y=night_data,\n",
    "        mode=\"markers\",\n",
    "        name=\"Initial Night Data\",\n",
    "    ),\n",
    "    row=2,\n",
    "    col=1,\n",
    ")\n",
    "\n",
    "# Ajouter les données obtenues après traitement de nuit\n",
    "fig.add_trace(\n",
    "    go.Scatter(\n",
    "        x=aggregated_smoothed[\"night\"].dropna().index,\n",
    "        y=aggregated_smoothed[\"night\"].dropna(),  # + aggregated_smoothed[\"night_trend\"],\n",
    "        mode=\"lines\",\n",
    "        name=\"Processed Night Data\",\n",
    "    ),\n",
    "    row=2,\n",
    "    col=1,\n",
    ")\n",
    "\n",
    "# Mettre à jour la mise en page\n",
    "fig.update_layout(\n",
    "    title=f\"Comparison of Initial and Processed Data at {station} : With Trend\",\n",
    "    xaxis_title=\"Time\",\n",
    "    yaxis_title=\"Zooplankton biomass (mg/m3)\",\n",
    ")\n",
    "\n",
    "fig.show()"
   ]
  },
  {
   "cell_type": "markdown",
   "metadata": {},
   "source": [
    "## Export\n"
   ]
  },
  {
   "cell_type": "code",
   "execution_count": 16,
   "metadata": {},
   "outputs": [
    {
     "data": {
      "text/html": [
       "<div><svg style=\"position: absolute; width: 0; height: 0; overflow: hidden\">\n",
       "<defs>\n",
       "<symbol id=\"icon-database\" viewBox=\"0 0 32 32\">\n",
       "<path d=\"M16 0c-8.837 0-16 2.239-16 5v4c0 2.761 7.163 5 16 5s16-2.239 16-5v-4c0-2.761-7.163-5-16-5z\"></path>\n",
       "<path d=\"M16 17c-8.837 0-16-2.239-16-5v6c0 2.761 7.163 5 16 5s16-2.239 16-5v-6c0 2.761-7.163 5-16 5z\"></path>\n",
       "<path d=\"M16 26c-8.837 0-16-2.239-16-5v6c0 2.761 7.163 5 16 5s16-2.239 16-5v-6c0 2.761-7.163 5-16 5z\"></path>\n",
       "</symbol>\n",
       "<symbol id=\"icon-file-text2\" viewBox=\"0 0 32 32\">\n",
       "<path d=\"M28.681 7.159c-0.694-0.947-1.662-2.053-2.724-3.116s-2.169-2.030-3.116-2.724c-1.612-1.182-2.393-1.319-2.841-1.319h-15.5c-1.378 0-2.5 1.121-2.5 2.5v27c0 1.378 1.122 2.5 2.5 2.5h23c1.378 0 2.5-1.122 2.5-2.5v-19.5c0-0.448-0.137-1.23-1.319-2.841zM24.543 5.457c0.959 0.959 1.712 1.825 2.268 2.543h-4.811v-4.811c0.718 0.556 1.584 1.309 2.543 2.268zM28 29.5c0 0.271-0.229 0.5-0.5 0.5h-23c-0.271 0-0.5-0.229-0.5-0.5v-27c0-0.271 0.229-0.5 0.5-0.5 0 0 15.499-0 15.5 0v7c0 0.552 0.448 1 1 1h7v19.5z\"></path>\n",
       "<path d=\"M23 26h-14c-0.552 0-1-0.448-1-1s0.448-1 1-1h14c0.552 0 1 0.448 1 1s-0.448 1-1 1z\"></path>\n",
       "<path d=\"M23 22h-14c-0.552 0-1-0.448-1-1s0.448-1 1-1h14c0.552 0 1 0.448 1 1s-0.448 1-1 1z\"></path>\n",
       "<path d=\"M23 18h-14c-0.552 0-1-0.448-1-1s0.448-1 1-1h14c0.552 0 1 0.448 1 1s-0.448 1-1 1z\"></path>\n",
       "</symbol>\n",
       "</defs>\n",
       "</svg>\n",
       "<style>/* CSS stylesheet for displaying xarray objects in jupyterlab.\n",
       " *\n",
       " */\n",
       "\n",
       ":root {\n",
       "  --xr-font-color0: var(--jp-content-font-color0, rgba(0, 0, 0, 1));\n",
       "  --xr-font-color2: var(--jp-content-font-color2, rgba(0, 0, 0, 0.54));\n",
       "  --xr-font-color3: var(--jp-content-font-color3, rgba(0, 0, 0, 0.38));\n",
       "  --xr-border-color: var(--jp-border-color2, #e0e0e0);\n",
       "  --xr-disabled-color: var(--jp-layout-color3, #bdbdbd);\n",
       "  --xr-background-color: var(--jp-layout-color0, white);\n",
       "  --xr-background-color-row-even: var(--jp-layout-color1, white);\n",
       "  --xr-background-color-row-odd: var(--jp-layout-color2, #eeeeee);\n",
       "}\n",
       "\n",
       "html[theme=dark],\n",
       "html[data-theme=dark],\n",
       "body[data-theme=dark],\n",
       "body.vscode-dark {\n",
       "  --xr-font-color0: rgba(255, 255, 255, 1);\n",
       "  --xr-font-color2: rgba(255, 255, 255, 0.54);\n",
       "  --xr-font-color3: rgba(255, 255, 255, 0.38);\n",
       "  --xr-border-color: #1F1F1F;\n",
       "  --xr-disabled-color: #515151;\n",
       "  --xr-background-color: #111111;\n",
       "  --xr-background-color-row-even: #111111;\n",
       "  --xr-background-color-row-odd: #313131;\n",
       "}\n",
       "\n",
       ".xr-wrap {\n",
       "  display: block !important;\n",
       "  min-width: 300px;\n",
       "  max-width: 700px;\n",
       "}\n",
       "\n",
       ".xr-text-repr-fallback {\n",
       "  /* fallback to plain text repr when CSS is not injected (untrusted notebook) */\n",
       "  display: none;\n",
       "}\n",
       "\n",
       ".xr-header {\n",
       "  padding-top: 6px;\n",
       "  padding-bottom: 6px;\n",
       "  margin-bottom: 4px;\n",
       "  border-bottom: solid 1px var(--xr-border-color);\n",
       "}\n",
       "\n",
       ".xr-header > div,\n",
       ".xr-header > ul {\n",
       "  display: inline;\n",
       "  margin-top: 0;\n",
       "  margin-bottom: 0;\n",
       "}\n",
       "\n",
       ".xr-obj-type,\n",
       ".xr-array-name {\n",
       "  margin-left: 2px;\n",
       "  margin-right: 10px;\n",
       "}\n",
       "\n",
       ".xr-obj-type {\n",
       "  color: var(--xr-font-color2);\n",
       "}\n",
       "\n",
       ".xr-sections {\n",
       "  padding-left: 0 !important;\n",
       "  display: grid;\n",
       "  grid-template-columns: 150px auto auto 1fr 0 20px 0 20px;\n",
       "}\n",
       "\n",
       ".xr-section-item {\n",
       "  display: contents;\n",
       "}\n",
       "\n",
       ".xr-section-item input {\n",
       "  display: inline-block;\n",
       "  opacity: 0;\n",
       "}\n",
       "\n",
       ".xr-section-item input + label {\n",
       "  color: var(--xr-disabled-color);\n",
       "}\n",
       "\n",
       ".xr-section-item input:enabled + label {\n",
       "  cursor: pointer;\n",
       "  color: var(--xr-font-color2);\n",
       "}\n",
       "\n",
       ".xr-section-item input:focus + label {\n",
       "  border: 2px solid var(--xr-font-color0);\n",
       "}\n",
       "\n",
       ".xr-section-item input:enabled + label:hover {\n",
       "  color: var(--xr-font-color0);\n",
       "}\n",
       "\n",
       ".xr-section-summary {\n",
       "  grid-column: 1;\n",
       "  color: var(--xr-font-color2);\n",
       "  font-weight: 500;\n",
       "}\n",
       "\n",
       ".xr-section-summary > span {\n",
       "  display: inline-block;\n",
       "  padding-left: 0.5em;\n",
       "}\n",
       "\n",
       ".xr-section-summary-in:disabled + label {\n",
       "  color: var(--xr-font-color2);\n",
       "}\n",
       "\n",
       ".xr-section-summary-in + label:before {\n",
       "  display: inline-block;\n",
       "  content: '►';\n",
       "  font-size: 11px;\n",
       "  width: 15px;\n",
       "  text-align: center;\n",
       "}\n",
       "\n",
       ".xr-section-summary-in:disabled + label:before {\n",
       "  color: var(--xr-disabled-color);\n",
       "}\n",
       "\n",
       ".xr-section-summary-in:checked + label:before {\n",
       "  content: '▼';\n",
       "}\n",
       "\n",
       ".xr-section-summary-in:checked + label > span {\n",
       "  display: none;\n",
       "}\n",
       "\n",
       ".xr-section-summary,\n",
       ".xr-section-inline-details {\n",
       "  padding-top: 4px;\n",
       "  padding-bottom: 4px;\n",
       "}\n",
       "\n",
       ".xr-section-inline-details {\n",
       "  grid-column: 2 / -1;\n",
       "}\n",
       "\n",
       ".xr-section-details {\n",
       "  display: none;\n",
       "  grid-column: 1 / -1;\n",
       "  margin-bottom: 5px;\n",
       "}\n",
       "\n",
       ".xr-section-summary-in:checked ~ .xr-section-details {\n",
       "  display: contents;\n",
       "}\n",
       "\n",
       ".xr-array-wrap {\n",
       "  grid-column: 1 / -1;\n",
       "  display: grid;\n",
       "  grid-template-columns: 20px auto;\n",
       "}\n",
       "\n",
       ".xr-array-wrap > label {\n",
       "  grid-column: 1;\n",
       "  vertical-align: top;\n",
       "}\n",
       "\n",
       ".xr-preview {\n",
       "  color: var(--xr-font-color3);\n",
       "}\n",
       "\n",
       ".xr-array-preview,\n",
       ".xr-array-data {\n",
       "  padding: 0 5px !important;\n",
       "  grid-column: 2;\n",
       "}\n",
       "\n",
       ".xr-array-data,\n",
       ".xr-array-in:checked ~ .xr-array-preview {\n",
       "  display: none;\n",
       "}\n",
       "\n",
       ".xr-array-in:checked ~ .xr-array-data,\n",
       ".xr-array-preview {\n",
       "  display: inline-block;\n",
       "}\n",
       "\n",
       ".xr-dim-list {\n",
       "  display: inline-block !important;\n",
       "  list-style: none;\n",
       "  padding: 0 !important;\n",
       "  margin: 0;\n",
       "}\n",
       "\n",
       ".xr-dim-list li {\n",
       "  display: inline-block;\n",
       "  padding: 0;\n",
       "  margin: 0;\n",
       "}\n",
       "\n",
       ".xr-dim-list:before {\n",
       "  content: '(';\n",
       "}\n",
       "\n",
       ".xr-dim-list:after {\n",
       "  content: ')';\n",
       "}\n",
       "\n",
       ".xr-dim-list li:not(:last-child):after {\n",
       "  content: ',';\n",
       "  padding-right: 5px;\n",
       "}\n",
       "\n",
       ".xr-has-index {\n",
       "  font-weight: bold;\n",
       "}\n",
       "\n",
       ".xr-var-list,\n",
       ".xr-var-item {\n",
       "  display: contents;\n",
       "}\n",
       "\n",
       ".xr-var-item > div,\n",
       ".xr-var-item label,\n",
       ".xr-var-item > .xr-var-name span {\n",
       "  background-color: var(--xr-background-color-row-even);\n",
       "  margin-bottom: 0;\n",
       "}\n",
       "\n",
       ".xr-var-item > .xr-var-name:hover span {\n",
       "  padding-right: 5px;\n",
       "}\n",
       "\n",
       ".xr-var-list > li:nth-child(odd) > div,\n",
       ".xr-var-list > li:nth-child(odd) > label,\n",
       ".xr-var-list > li:nth-child(odd) > .xr-var-name span {\n",
       "  background-color: var(--xr-background-color-row-odd);\n",
       "}\n",
       "\n",
       ".xr-var-name {\n",
       "  grid-column: 1;\n",
       "}\n",
       "\n",
       ".xr-var-dims {\n",
       "  grid-column: 2;\n",
       "}\n",
       "\n",
       ".xr-var-dtype {\n",
       "  grid-column: 3;\n",
       "  text-align: right;\n",
       "  color: var(--xr-font-color2);\n",
       "}\n",
       "\n",
       ".xr-var-preview {\n",
       "  grid-column: 4;\n",
       "}\n",
       "\n",
       ".xr-index-preview {\n",
       "  grid-column: 2 / 5;\n",
       "  color: var(--xr-font-color2);\n",
       "}\n",
       "\n",
       ".xr-var-name,\n",
       ".xr-var-dims,\n",
       ".xr-var-dtype,\n",
       ".xr-preview,\n",
       ".xr-attrs dt {\n",
       "  white-space: nowrap;\n",
       "  overflow: hidden;\n",
       "  text-overflow: ellipsis;\n",
       "  padding-right: 10px;\n",
       "}\n",
       "\n",
       ".xr-var-name:hover,\n",
       ".xr-var-dims:hover,\n",
       ".xr-var-dtype:hover,\n",
       ".xr-attrs dt:hover {\n",
       "  overflow: visible;\n",
       "  width: auto;\n",
       "  z-index: 1;\n",
       "}\n",
       "\n",
       ".xr-var-attrs,\n",
       ".xr-var-data,\n",
       ".xr-index-data {\n",
       "  display: none;\n",
       "  background-color: var(--xr-background-color) !important;\n",
       "  padding-bottom: 5px !important;\n",
       "}\n",
       "\n",
       ".xr-var-attrs-in:checked ~ .xr-var-attrs,\n",
       ".xr-var-data-in:checked ~ .xr-var-data,\n",
       ".xr-index-data-in:checked ~ .xr-index-data {\n",
       "  display: block;\n",
       "}\n",
       "\n",
       ".xr-var-data > table {\n",
       "  float: right;\n",
       "}\n",
       "\n",
       ".xr-var-name span,\n",
       ".xr-var-data,\n",
       ".xr-index-name div,\n",
       ".xr-index-data,\n",
       ".xr-attrs {\n",
       "  padding-left: 25px !important;\n",
       "}\n",
       "\n",
       ".xr-attrs,\n",
       ".xr-var-attrs,\n",
       ".xr-var-data,\n",
       ".xr-index-data {\n",
       "  grid-column: 1 / -1;\n",
       "}\n",
       "\n",
       "dl.xr-attrs {\n",
       "  padding: 0;\n",
       "  margin: 0;\n",
       "  display: grid;\n",
       "  grid-template-columns: 125px auto;\n",
       "}\n",
       "\n",
       ".xr-attrs dt,\n",
       ".xr-attrs dd {\n",
       "  padding: 0;\n",
       "  margin: 0;\n",
       "  float: left;\n",
       "  padding-right: 10px;\n",
       "  width: auto;\n",
       "}\n",
       "\n",
       ".xr-attrs dt {\n",
       "  font-weight: normal;\n",
       "  grid-column: 1;\n",
       "}\n",
       "\n",
       ".xr-attrs dt:hover span {\n",
       "  display: inline-block;\n",
       "  background: var(--xr-background-color);\n",
       "  padding-right: 10px;\n",
       "}\n",
       "\n",
       ".xr-attrs dd {\n",
       "  grid-column: 2;\n",
       "  white-space: pre-wrap;\n",
       "  word-break: break-all;\n",
       "}\n",
       "\n",
       ".xr-icon-database,\n",
       ".xr-icon-file-text2,\n",
       ".xr-no-icon {\n",
       "  display: inline-block;\n",
       "  vertical-align: middle;\n",
       "  width: 1em;\n",
       "  height: 1.5em !important;\n",
       "  stroke-width: 0;\n",
       "  stroke: currentColor;\n",
       "  fill: currentColor;\n",
       "}\n",
       "</style><pre class='xr-text-repr-fallback'>&lt;xarray.Dataset&gt; Size: 29kB\n",
       "Dimensions:  (time: 1226)\n",
       "Coordinates:\n",
       "  * time     (time) datetime64[ns] 10kB 1997-02-23 1997-03-02 ... 2020-08-16\n",
       "Data variables:\n",
       "    day      (time) float64 10kB nan 3.12 nan nan nan ... 12.92 nan nan nan nan\n",
       "    night    (time) float64 10kB 5.078 6.621 nan nan nan ... nan nan nan nan nan</pre><div class='xr-wrap' style='display:none'><div class='xr-header'><div class='xr-obj-type'>xarray.Dataset</div></div><ul class='xr-sections'><li class='xr-section-item'><input id='section-598f0c12-3100-491b-8ba4-aff018e619d5' class='xr-section-summary-in' type='checkbox' disabled ><label for='section-598f0c12-3100-491b-8ba4-aff018e619d5' class='xr-section-summary'  title='Expand/collapse section'>Dimensions:</label><div class='xr-section-inline-details'><ul class='xr-dim-list'><li><span class='xr-has-index'>time</span>: 1226</li></ul></div><div class='xr-section-details'></div></li><li class='xr-section-item'><input id='section-58f50103-97a8-4142-ac54-ea5323456ffa' class='xr-section-summary-in' type='checkbox'  checked><label for='section-58f50103-97a8-4142-ac54-ea5323456ffa' class='xr-section-summary' >Coordinates: <span>(1)</span></label><div class='xr-section-inline-details'></div><div class='xr-section-details'><ul class='xr-var-list'><li class='xr-var-item'><div class='xr-var-name'><span class='xr-has-index'>time</span></div><div class='xr-var-dims'>(time)</div><div class='xr-var-dtype'>datetime64[ns]</div><div class='xr-var-preview xr-preview'>1997-02-23 ... 2020-08-16</div><input id='attrs-d9c07503-203f-4409-8305-d99ce4959abd' class='xr-var-attrs-in' type='checkbox' disabled><label for='attrs-d9c07503-203f-4409-8305-d99ce4959abd' title='Show/Hide attributes'><svg class='icon xr-icon-file-text2'><use xlink:href='#icon-file-text2'></use></svg></label><input id='data-0493237b-7d4e-4b93-bab3-9780ae6351d4' class='xr-var-data-in' type='checkbox'><label for='data-0493237b-7d4e-4b93-bab3-9780ae6351d4' title='Show/Hide data repr'><svg class='icon xr-icon-database'><use xlink:href='#icon-database'></use></svg></label><div class='xr-var-attrs'><dl class='xr-attrs'></dl></div><div class='xr-var-data'><pre>array([&#x27;1997-02-23T00:00:00.000000000&#x27;, &#x27;1997-03-02T00:00:00.000000000&#x27;,\n",
       "       &#x27;1997-03-09T00:00:00.000000000&#x27;, ..., &#x27;2020-08-02T00:00:00.000000000&#x27;,\n",
       "       &#x27;2020-08-09T00:00:00.000000000&#x27;, &#x27;2020-08-16T00:00:00.000000000&#x27;],\n",
       "      dtype=&#x27;datetime64[ns]&#x27;)</pre></div></li></ul></div></li><li class='xr-section-item'><input id='section-6fa915f9-8b67-49e5-a34f-50be313cfb80' class='xr-section-summary-in' type='checkbox'  checked><label for='section-6fa915f9-8b67-49e5-a34f-50be313cfb80' class='xr-section-summary' >Data variables: <span>(2)</span></label><div class='xr-section-inline-details'></div><div class='xr-section-details'><ul class='xr-var-list'><li class='xr-var-item'><div class='xr-var-name'><span>day</span></div><div class='xr-var-dims'>(time)</div><div class='xr-var-dtype'>float64</div><div class='xr-var-preview xr-preview'>nan 3.12 nan nan ... nan nan nan</div><input id='attrs-d18b65b1-4c8c-432c-b1b4-201891414200' class='xr-var-attrs-in' type='checkbox' disabled><label for='attrs-d18b65b1-4c8c-432c-b1b4-201891414200' title='Show/Hide attributes'><svg class='icon xr-icon-file-text2'><use xlink:href='#icon-file-text2'></use></svg></label><input id='data-59ce23e8-1759-4c2f-889e-e3dcc63dcd27' class='xr-var-data-in' type='checkbox'><label for='data-59ce23e8-1759-4c2f-889e-e3dcc63dcd27' title='Show/Hide data repr'><svg class='icon xr-icon-database'><use xlink:href='#icon-database'></use></svg></label><div class='xr-var-attrs'><dl class='xr-attrs'></dl></div><div class='xr-var-data'><pre>array([       nan, 3.11985917,        nan, ...,        nan,        nan,\n",
       "              nan])</pre></div></li><li class='xr-var-item'><div class='xr-var-name'><span>night</span></div><div class='xr-var-dims'>(time)</div><div class='xr-var-dtype'>float64</div><div class='xr-var-preview xr-preview'>5.078 6.621 nan nan ... nan nan nan</div><input id='attrs-e8867273-aa46-453f-8f5e-2a889d00cc7c' class='xr-var-attrs-in' type='checkbox' disabled><label for='attrs-e8867273-aa46-453f-8f5e-2a889d00cc7c' title='Show/Hide attributes'><svg class='icon xr-icon-file-text2'><use xlink:href='#icon-file-text2'></use></svg></label><input id='data-b126b695-319d-4b15-a3e6-10d37341629d' class='xr-var-data-in' type='checkbox'><label for='data-b126b695-319d-4b15-a3e6-10d37341629d' title='Show/Hide data repr'><svg class='icon xr-icon-database'><use xlink:href='#icon-database'></use></svg></label><div class='xr-var-attrs'><dl class='xr-attrs'></dl></div><div class='xr-var-data'><pre>array([5.07847 , 6.620502,      nan, ...,      nan,      nan,      nan])</pre></div></li></ul></div></li><li class='xr-section-item'><input id='section-57ed2049-fcbf-455b-90c2-15872fe02ed2' class='xr-section-summary-in' type='checkbox'  ><label for='section-57ed2049-fcbf-455b-90c2-15872fe02ed2' class='xr-section-summary' >Indexes: <span>(1)</span></label><div class='xr-section-inline-details'></div><div class='xr-section-details'><ul class='xr-var-list'><li class='xr-var-item'><div class='xr-index-name'><div>time</div></div><div class='xr-index-preview'>PandasIndex</div><div></div><input id='index-746a2773-e915-429f-ada9-f83b3be70064' class='xr-index-data-in' type='checkbox'/><label for='index-746a2773-e915-429f-ada9-f83b3be70064' title='Show/Hide index repr'><svg class='icon xr-icon-database'><use xlink:href='#icon-database'></use></svg></label><div class='xr-index-data'><pre>PandasIndex(DatetimeIndex([&#x27;1997-02-23&#x27;, &#x27;1997-03-02&#x27;, &#x27;1997-03-09&#x27;, &#x27;1997-03-16&#x27;,\n",
       "               &#x27;1997-03-23&#x27;, &#x27;1997-03-30&#x27;, &#x27;1997-04-06&#x27;, &#x27;1997-04-13&#x27;,\n",
       "               &#x27;1997-04-20&#x27;, &#x27;1997-04-27&#x27;,\n",
       "               ...\n",
       "               &#x27;2020-06-14&#x27;, &#x27;2020-06-21&#x27;, &#x27;2020-06-28&#x27;, &#x27;2020-07-05&#x27;,\n",
       "               &#x27;2020-07-12&#x27;, &#x27;2020-07-19&#x27;, &#x27;2020-07-26&#x27;, &#x27;2020-08-02&#x27;,\n",
       "               &#x27;2020-08-09&#x27;, &#x27;2020-08-16&#x27;],\n",
       "              dtype=&#x27;datetime64[ns]&#x27;, name=&#x27;time&#x27;, length=1226, freq=&#x27;W-SUN&#x27;))</pre></div></li></ul></div></li><li class='xr-section-item'><input id='section-693a30ae-9be8-4a47-b128-7055284d09a9' class='xr-section-summary-in' type='checkbox' disabled ><label for='section-693a30ae-9be8-4a47-b128-7055284d09a9' class='xr-section-summary'  title='Expand/collapse section'>Attributes: <span>(0)</span></label><div class='xr-section-inline-details'></div><div class='xr-section-details'><dl class='xr-attrs'></dl></div></li></ul></div></div>"
      ],
      "text/plain": [
       "<xarray.Dataset> Size: 29kB\n",
       "Dimensions:  (time: 1226)\n",
       "Coordinates:\n",
       "  * time     (time) datetime64[ns] 10kB 1997-02-23 1997-03-02 ... 2020-08-16\n",
       "Data variables:\n",
       "    day      (time) float64 10kB nan 3.12 nan nan nan ... 12.92 nan nan nan nan\n",
       "    night    (time) float64 10kB 5.078 6.621 nan nan nan ... nan nan nan nan nan"
      ]
     },
     "execution_count": 16,
     "metadata": {},
     "output_type": "execute_result"
    }
   ],
   "source": [
    "climato_observations"
   ]
  },
  {
   "cell_type": "code",
   "execution_count": 17,
   "metadata": {},
   "outputs": [],
   "source": [
    "climato_observations = climato_observations.expand_dims(\n",
    "    latitude=[data.latitude[0]], longitude=[data.longitude[0]], layer=[data.layer[0]]\n",
    ")\n",
    "climato_observations = climato_observations.transpose(\"time\", \"latitude\", \"longitude\", \"layer\")"
   ]
  },
  {
   "cell_type": "code",
   "execution_count": 18,
   "metadata": {},
   "outputs": [
    {
     "data": {
      "text/html": [
       "<div><svg style=\"position: absolute; width: 0; height: 0; overflow: hidden\">\n",
       "<defs>\n",
       "<symbol id=\"icon-database\" viewBox=\"0 0 32 32\">\n",
       "<path d=\"M16 0c-8.837 0-16 2.239-16 5v4c0 2.761 7.163 5 16 5s16-2.239 16-5v-4c0-2.761-7.163-5-16-5z\"></path>\n",
       "<path d=\"M16 17c-8.837 0-16-2.239-16-5v6c0 2.761 7.163 5 16 5s16-2.239 16-5v-6c0 2.761-7.163 5-16 5z\"></path>\n",
       "<path d=\"M16 26c-8.837 0-16-2.239-16-5v6c0 2.761 7.163 5 16 5s16-2.239 16-5v-6c0 2.761-7.163 5-16 5z\"></path>\n",
       "</symbol>\n",
       "<symbol id=\"icon-file-text2\" viewBox=\"0 0 32 32\">\n",
       "<path d=\"M28.681 7.159c-0.694-0.947-1.662-2.053-2.724-3.116s-2.169-2.030-3.116-2.724c-1.612-1.182-2.393-1.319-2.841-1.319h-15.5c-1.378 0-2.5 1.121-2.5 2.5v27c0 1.378 1.122 2.5 2.5 2.5h23c1.378 0 2.5-1.122 2.5-2.5v-19.5c0-0.448-0.137-1.23-1.319-2.841zM24.543 5.457c0.959 0.959 1.712 1.825 2.268 2.543h-4.811v-4.811c0.718 0.556 1.584 1.309 2.543 2.268zM28 29.5c0 0.271-0.229 0.5-0.5 0.5h-23c-0.271 0-0.5-0.229-0.5-0.5v-27c0-0.271 0.229-0.5 0.5-0.5 0 0 15.499-0 15.5 0v7c0 0.552 0.448 1 1 1h7v19.5z\"></path>\n",
       "<path d=\"M23 26h-14c-0.552 0-1-0.448-1-1s0.448-1 1-1h14c0.552 0 1 0.448 1 1s-0.448 1-1 1z\"></path>\n",
       "<path d=\"M23 22h-14c-0.552 0-1-0.448-1-1s0.448-1 1-1h14c0.552 0 1 0.448 1 1s-0.448 1-1 1z\"></path>\n",
       "<path d=\"M23 18h-14c-0.552 0-1-0.448-1-1s0.448-1 1-1h14c0.552 0 1 0.448 1 1s-0.448 1-1 1z\"></path>\n",
       "</symbol>\n",
       "</defs>\n",
       "</svg>\n",
       "<style>/* CSS stylesheet for displaying xarray objects in jupyterlab.\n",
       " *\n",
       " */\n",
       "\n",
       ":root {\n",
       "  --xr-font-color0: var(--jp-content-font-color0, rgba(0, 0, 0, 1));\n",
       "  --xr-font-color2: var(--jp-content-font-color2, rgba(0, 0, 0, 0.54));\n",
       "  --xr-font-color3: var(--jp-content-font-color3, rgba(0, 0, 0, 0.38));\n",
       "  --xr-border-color: var(--jp-border-color2, #e0e0e0);\n",
       "  --xr-disabled-color: var(--jp-layout-color3, #bdbdbd);\n",
       "  --xr-background-color: var(--jp-layout-color0, white);\n",
       "  --xr-background-color-row-even: var(--jp-layout-color1, white);\n",
       "  --xr-background-color-row-odd: var(--jp-layout-color2, #eeeeee);\n",
       "}\n",
       "\n",
       "html[theme=dark],\n",
       "html[data-theme=dark],\n",
       "body[data-theme=dark],\n",
       "body.vscode-dark {\n",
       "  --xr-font-color0: rgba(255, 255, 255, 1);\n",
       "  --xr-font-color2: rgba(255, 255, 255, 0.54);\n",
       "  --xr-font-color3: rgba(255, 255, 255, 0.38);\n",
       "  --xr-border-color: #1F1F1F;\n",
       "  --xr-disabled-color: #515151;\n",
       "  --xr-background-color: #111111;\n",
       "  --xr-background-color-row-even: #111111;\n",
       "  --xr-background-color-row-odd: #313131;\n",
       "}\n",
       "\n",
       ".xr-wrap {\n",
       "  display: block !important;\n",
       "  min-width: 300px;\n",
       "  max-width: 700px;\n",
       "}\n",
       "\n",
       ".xr-text-repr-fallback {\n",
       "  /* fallback to plain text repr when CSS is not injected (untrusted notebook) */\n",
       "  display: none;\n",
       "}\n",
       "\n",
       ".xr-header {\n",
       "  padding-top: 6px;\n",
       "  padding-bottom: 6px;\n",
       "  margin-bottom: 4px;\n",
       "  border-bottom: solid 1px var(--xr-border-color);\n",
       "}\n",
       "\n",
       ".xr-header > div,\n",
       ".xr-header > ul {\n",
       "  display: inline;\n",
       "  margin-top: 0;\n",
       "  margin-bottom: 0;\n",
       "}\n",
       "\n",
       ".xr-obj-type,\n",
       ".xr-array-name {\n",
       "  margin-left: 2px;\n",
       "  margin-right: 10px;\n",
       "}\n",
       "\n",
       ".xr-obj-type {\n",
       "  color: var(--xr-font-color2);\n",
       "}\n",
       "\n",
       ".xr-sections {\n",
       "  padding-left: 0 !important;\n",
       "  display: grid;\n",
       "  grid-template-columns: 150px auto auto 1fr 0 20px 0 20px;\n",
       "}\n",
       "\n",
       ".xr-section-item {\n",
       "  display: contents;\n",
       "}\n",
       "\n",
       ".xr-section-item input {\n",
       "  display: inline-block;\n",
       "  opacity: 0;\n",
       "}\n",
       "\n",
       ".xr-section-item input + label {\n",
       "  color: var(--xr-disabled-color);\n",
       "}\n",
       "\n",
       ".xr-section-item input:enabled + label {\n",
       "  cursor: pointer;\n",
       "  color: var(--xr-font-color2);\n",
       "}\n",
       "\n",
       ".xr-section-item input:focus + label {\n",
       "  border: 2px solid var(--xr-font-color0);\n",
       "}\n",
       "\n",
       ".xr-section-item input:enabled + label:hover {\n",
       "  color: var(--xr-font-color0);\n",
       "}\n",
       "\n",
       ".xr-section-summary {\n",
       "  grid-column: 1;\n",
       "  color: var(--xr-font-color2);\n",
       "  font-weight: 500;\n",
       "}\n",
       "\n",
       ".xr-section-summary > span {\n",
       "  display: inline-block;\n",
       "  padding-left: 0.5em;\n",
       "}\n",
       "\n",
       ".xr-section-summary-in:disabled + label {\n",
       "  color: var(--xr-font-color2);\n",
       "}\n",
       "\n",
       ".xr-section-summary-in + label:before {\n",
       "  display: inline-block;\n",
       "  content: '►';\n",
       "  font-size: 11px;\n",
       "  width: 15px;\n",
       "  text-align: center;\n",
       "}\n",
       "\n",
       ".xr-section-summary-in:disabled + label:before {\n",
       "  color: var(--xr-disabled-color);\n",
       "}\n",
       "\n",
       ".xr-section-summary-in:checked + label:before {\n",
       "  content: '▼';\n",
       "}\n",
       "\n",
       ".xr-section-summary-in:checked + label > span {\n",
       "  display: none;\n",
       "}\n",
       "\n",
       ".xr-section-summary,\n",
       ".xr-section-inline-details {\n",
       "  padding-top: 4px;\n",
       "  padding-bottom: 4px;\n",
       "}\n",
       "\n",
       ".xr-section-inline-details {\n",
       "  grid-column: 2 / -1;\n",
       "}\n",
       "\n",
       ".xr-section-details {\n",
       "  display: none;\n",
       "  grid-column: 1 / -1;\n",
       "  margin-bottom: 5px;\n",
       "}\n",
       "\n",
       ".xr-section-summary-in:checked ~ .xr-section-details {\n",
       "  display: contents;\n",
       "}\n",
       "\n",
       ".xr-array-wrap {\n",
       "  grid-column: 1 / -1;\n",
       "  display: grid;\n",
       "  grid-template-columns: 20px auto;\n",
       "}\n",
       "\n",
       ".xr-array-wrap > label {\n",
       "  grid-column: 1;\n",
       "  vertical-align: top;\n",
       "}\n",
       "\n",
       ".xr-preview {\n",
       "  color: var(--xr-font-color3);\n",
       "}\n",
       "\n",
       ".xr-array-preview,\n",
       ".xr-array-data {\n",
       "  padding: 0 5px !important;\n",
       "  grid-column: 2;\n",
       "}\n",
       "\n",
       ".xr-array-data,\n",
       ".xr-array-in:checked ~ .xr-array-preview {\n",
       "  display: none;\n",
       "}\n",
       "\n",
       ".xr-array-in:checked ~ .xr-array-data,\n",
       ".xr-array-preview {\n",
       "  display: inline-block;\n",
       "}\n",
       "\n",
       ".xr-dim-list {\n",
       "  display: inline-block !important;\n",
       "  list-style: none;\n",
       "  padding: 0 !important;\n",
       "  margin: 0;\n",
       "}\n",
       "\n",
       ".xr-dim-list li {\n",
       "  display: inline-block;\n",
       "  padding: 0;\n",
       "  margin: 0;\n",
       "}\n",
       "\n",
       ".xr-dim-list:before {\n",
       "  content: '(';\n",
       "}\n",
       "\n",
       ".xr-dim-list:after {\n",
       "  content: ')';\n",
       "}\n",
       "\n",
       ".xr-dim-list li:not(:last-child):after {\n",
       "  content: ',';\n",
       "  padding-right: 5px;\n",
       "}\n",
       "\n",
       ".xr-has-index {\n",
       "  font-weight: bold;\n",
       "}\n",
       "\n",
       ".xr-var-list,\n",
       ".xr-var-item {\n",
       "  display: contents;\n",
       "}\n",
       "\n",
       ".xr-var-item > div,\n",
       ".xr-var-item label,\n",
       ".xr-var-item > .xr-var-name span {\n",
       "  background-color: var(--xr-background-color-row-even);\n",
       "  margin-bottom: 0;\n",
       "}\n",
       "\n",
       ".xr-var-item > .xr-var-name:hover span {\n",
       "  padding-right: 5px;\n",
       "}\n",
       "\n",
       ".xr-var-list > li:nth-child(odd) > div,\n",
       ".xr-var-list > li:nth-child(odd) > label,\n",
       ".xr-var-list > li:nth-child(odd) > .xr-var-name span {\n",
       "  background-color: var(--xr-background-color-row-odd);\n",
       "}\n",
       "\n",
       ".xr-var-name {\n",
       "  grid-column: 1;\n",
       "}\n",
       "\n",
       ".xr-var-dims {\n",
       "  grid-column: 2;\n",
       "}\n",
       "\n",
       ".xr-var-dtype {\n",
       "  grid-column: 3;\n",
       "  text-align: right;\n",
       "  color: var(--xr-font-color2);\n",
       "}\n",
       "\n",
       ".xr-var-preview {\n",
       "  grid-column: 4;\n",
       "}\n",
       "\n",
       ".xr-index-preview {\n",
       "  grid-column: 2 / 5;\n",
       "  color: var(--xr-font-color2);\n",
       "}\n",
       "\n",
       ".xr-var-name,\n",
       ".xr-var-dims,\n",
       ".xr-var-dtype,\n",
       ".xr-preview,\n",
       ".xr-attrs dt {\n",
       "  white-space: nowrap;\n",
       "  overflow: hidden;\n",
       "  text-overflow: ellipsis;\n",
       "  padding-right: 10px;\n",
       "}\n",
       "\n",
       ".xr-var-name:hover,\n",
       ".xr-var-dims:hover,\n",
       ".xr-var-dtype:hover,\n",
       ".xr-attrs dt:hover {\n",
       "  overflow: visible;\n",
       "  width: auto;\n",
       "  z-index: 1;\n",
       "}\n",
       "\n",
       ".xr-var-attrs,\n",
       ".xr-var-data,\n",
       ".xr-index-data {\n",
       "  display: none;\n",
       "  background-color: var(--xr-background-color) !important;\n",
       "  padding-bottom: 5px !important;\n",
       "}\n",
       "\n",
       ".xr-var-attrs-in:checked ~ .xr-var-attrs,\n",
       ".xr-var-data-in:checked ~ .xr-var-data,\n",
       ".xr-index-data-in:checked ~ .xr-index-data {\n",
       "  display: block;\n",
       "}\n",
       "\n",
       ".xr-var-data > table {\n",
       "  float: right;\n",
       "}\n",
       "\n",
       ".xr-var-name span,\n",
       ".xr-var-data,\n",
       ".xr-index-name div,\n",
       ".xr-index-data,\n",
       ".xr-attrs {\n",
       "  padding-left: 25px !important;\n",
       "}\n",
       "\n",
       ".xr-attrs,\n",
       ".xr-var-attrs,\n",
       ".xr-var-data,\n",
       ".xr-index-data {\n",
       "  grid-column: 1 / -1;\n",
       "}\n",
       "\n",
       "dl.xr-attrs {\n",
       "  padding: 0;\n",
       "  margin: 0;\n",
       "  display: grid;\n",
       "  grid-template-columns: 125px auto;\n",
       "}\n",
       "\n",
       ".xr-attrs dt,\n",
       ".xr-attrs dd {\n",
       "  padding: 0;\n",
       "  margin: 0;\n",
       "  float: left;\n",
       "  padding-right: 10px;\n",
       "  width: auto;\n",
       "}\n",
       "\n",
       ".xr-attrs dt {\n",
       "  font-weight: normal;\n",
       "  grid-column: 1;\n",
       "}\n",
       "\n",
       ".xr-attrs dt:hover span {\n",
       "  display: inline-block;\n",
       "  background: var(--xr-background-color);\n",
       "  padding-right: 10px;\n",
       "}\n",
       "\n",
       ".xr-attrs dd {\n",
       "  grid-column: 2;\n",
       "  white-space: pre-wrap;\n",
       "  word-break: break-all;\n",
       "}\n",
       "\n",
       ".xr-icon-database,\n",
       ".xr-icon-file-text2,\n",
       ".xr-no-icon {\n",
       "  display: inline-block;\n",
       "  vertical-align: middle;\n",
       "  width: 1em;\n",
       "  height: 1.5em !important;\n",
       "  stroke-width: 0;\n",
       "  stroke: currentColor;\n",
       "  fill: currentColor;\n",
       "}\n",
       "</style><pre class='xr-text-repr-fallback'>&lt;xarray.Dataset&gt; Size: 29kB\n",
       "Dimensions:    (latitude: 1, longitude: 1, layer: 1, time: 1226)\n",
       "Coordinates:\n",
       "  * latitude   (latitude) int64 8B 50\n",
       "  * longitude  (longitude) int64 8B -150\n",
       "  * layer      (layer) int64 8B 0\n",
       "  * time       (time) datetime64[ns] 10kB 1997-02-23 1997-03-02 ... 2020-08-16\n",
       "Data variables:\n",
       "    day        (time, latitude, longitude, layer) float64 10kB nan 3.12 ... nan\n",
       "    night      (time, latitude, longitude, layer) float64 10kB 5.078 ... nan</pre><div class='xr-wrap' style='display:none'><div class='xr-header'><div class='xr-obj-type'>xarray.Dataset</div></div><ul class='xr-sections'><li class='xr-section-item'><input id='section-ddf0dcc6-4fc5-467e-a84d-bfd5ade729af' class='xr-section-summary-in' type='checkbox' disabled ><label for='section-ddf0dcc6-4fc5-467e-a84d-bfd5ade729af' class='xr-section-summary'  title='Expand/collapse section'>Dimensions:</label><div class='xr-section-inline-details'><ul class='xr-dim-list'><li><span class='xr-has-index'>latitude</span>: 1</li><li><span class='xr-has-index'>longitude</span>: 1</li><li><span class='xr-has-index'>layer</span>: 1</li><li><span class='xr-has-index'>time</span>: 1226</li></ul></div><div class='xr-section-details'></div></li><li class='xr-section-item'><input id='section-195dc286-a77f-4cda-a119-31e351145f57' class='xr-section-summary-in' type='checkbox'  checked><label for='section-195dc286-a77f-4cda-a119-31e351145f57' class='xr-section-summary' >Coordinates: <span>(4)</span></label><div class='xr-section-inline-details'></div><div class='xr-section-details'><ul class='xr-var-list'><li class='xr-var-item'><div class='xr-var-name'><span class='xr-has-index'>latitude</span></div><div class='xr-var-dims'>(latitude)</div><div class='xr-var-dtype'>int64</div><div class='xr-var-preview xr-preview'>50</div><input id='attrs-a84a6339-386e-4d8c-b782-96f106a16419' class='xr-var-attrs-in' type='checkbox' ><label for='attrs-a84a6339-386e-4d8c-b782-96f106a16419' title='Show/Hide attributes'><svg class='icon xr-icon-file-text2'><use xlink:href='#icon-file-text2'></use></svg></label><input id='data-cd3bbbad-c781-4b34-b41d-6cda5c725122' class='xr-var-data-in' type='checkbox'><label for='data-cd3bbbad-c781-4b34-b41d-6cda5c725122' title='Show/Hide data repr'><svg class='icon xr-icon-database'><use xlink:href='#icon-database'></use></svg></label><div class='xr-var-attrs'><dl class='xr-attrs'><dt><span>axis :</span></dt><dd>Y</dd><dt><span>long_name :</span></dt><dd>Latitude</dd><dt><span>standard_name :</span></dt><dd>latitude</dd><dt><span>units :</span></dt><dd>degrees_north</dd></dl></div><div class='xr-var-data'><pre>array([50])</pre></div></li><li class='xr-var-item'><div class='xr-var-name'><span class='xr-has-index'>longitude</span></div><div class='xr-var-dims'>(longitude)</div><div class='xr-var-dtype'>int64</div><div class='xr-var-preview xr-preview'>-150</div><input id='attrs-665d5ddc-3066-44db-a2f3-9014e82e10af' class='xr-var-attrs-in' type='checkbox' ><label for='attrs-665d5ddc-3066-44db-a2f3-9014e82e10af' title='Show/Hide attributes'><svg class='icon xr-icon-file-text2'><use xlink:href='#icon-file-text2'></use></svg></label><input id='data-e4b2c0fa-5049-4a96-94e1-f38d2368ca9a' class='xr-var-data-in' type='checkbox'><label for='data-e4b2c0fa-5049-4a96-94e1-f38d2368ca9a' title='Show/Hide data repr'><svg class='icon xr-icon-database'><use xlink:href='#icon-database'></use></svg></label><div class='xr-var-attrs'><dl class='xr-attrs'><dt><span>axis :</span></dt><dd>X</dd><dt><span>long_name :</span></dt><dd>Longitude</dd><dt><span>standard_name :</span></dt><dd>longitude</dd><dt><span>units :</span></dt><dd>degrees_east</dd></dl></div><div class='xr-var-data'><pre>array([-150])</pre></div></li><li class='xr-var-item'><div class='xr-var-name'><span class='xr-has-index'>layer</span></div><div class='xr-var-dims'>(layer)</div><div class='xr-var-dtype'>int64</div><div class='xr-var-preview xr-preview'>0</div><input id='attrs-a317dd6d-7837-4fe2-b1f5-044ee27ce0f1' class='xr-var-attrs-in' type='checkbox' ><label for='attrs-a317dd6d-7837-4fe2-b1f5-044ee27ce0f1' title='Show/Hide attributes'><svg class='icon xr-icon-file-text2'><use xlink:href='#icon-file-text2'></use></svg></label><input id='data-a2339a9d-a962-4c37-ba09-05bd48b44623' class='xr-var-data-in' type='checkbox'><label for='data-a2339a9d-a962-4c37-ba09-05bd48b44623' title='Show/Hide data repr'><svg class='icon xr-icon-database'><use xlink:href='#icon-database'></use></svg></label><div class='xr-var-attrs'><dl class='xr-attrs'><dt><span>axis :</span></dt><dd>Z</dd><dt><span>desc :</span></dt><dd>The layer depth according to Seapodym definition</dd><dt><span>flag_meanings :</span></dt><dd>epipelagic, upper-mesopelagic, lower-mesopelagic</dd><dt><span>flag_values :</span></dt><dd>[0, 1, 2]</dd><dt><span>long_name :</span></dt><dd>Layer depth</dd><dt><span>standard_name :</span></dt><dd>layer</dd></dl></div><div class='xr-var-data'><pre>array([0])</pre></div></li><li class='xr-var-item'><div class='xr-var-name'><span class='xr-has-index'>time</span></div><div class='xr-var-dims'>(time)</div><div class='xr-var-dtype'>datetime64[ns]</div><div class='xr-var-preview xr-preview'>1997-02-23 ... 2020-08-16</div><input id='attrs-7090b9c5-b303-4142-9c87-94ae989e7740' class='xr-var-attrs-in' type='checkbox' ><label for='attrs-7090b9c5-b303-4142-9c87-94ae989e7740' title='Show/Hide attributes'><svg class='icon xr-icon-file-text2'><use xlink:href='#icon-file-text2'></use></svg></label><input id='data-86ea5ea4-229a-4e68-ae6a-bc973c5b0df2' class='xr-var-data-in' type='checkbox'><label for='data-86ea5ea4-229a-4e68-ae6a-bc973c5b0df2' title='Show/Hide data repr'><svg class='icon xr-icon-database'><use xlink:href='#icon-database'></use></svg></label><div class='xr-var-attrs'><dl class='xr-attrs'><dt><span>axis :</span></dt><dd>T</dd><dt><span>long_name :</span></dt><dd>time</dd><dt><span>standard_name :</span></dt><dd>time</dd></dl></div><div class='xr-var-data'><pre>array([&#x27;1997-02-23T00:00:00.000000000&#x27;, &#x27;1997-03-02T00:00:00.000000000&#x27;,\n",
       "       &#x27;1997-03-09T00:00:00.000000000&#x27;, ..., &#x27;2020-08-02T00:00:00.000000000&#x27;,\n",
       "       &#x27;2020-08-09T00:00:00.000000000&#x27;, &#x27;2020-08-16T00:00:00.000000000&#x27;],\n",
       "      dtype=&#x27;datetime64[ns]&#x27;)</pre></div></li></ul></div></li><li class='xr-section-item'><input id='section-e0decce9-5a14-4e6e-a972-59f28155a108' class='xr-section-summary-in' type='checkbox'  checked><label for='section-e0decce9-5a14-4e6e-a972-59f28155a108' class='xr-section-summary' >Data variables: <span>(2)</span></label><div class='xr-section-inline-details'></div><div class='xr-section-details'><ul class='xr-var-list'><li class='xr-var-item'><div class='xr-var-name'><span>day</span></div><div class='xr-var-dims'>(time, latitude, longitude, layer)</div><div class='xr-var-dtype'>float64</div><div class='xr-var-preview xr-preview'>nan 3.12 nan nan ... nan nan nan</div><input id='attrs-61c56b58-1b11-47e2-9ddc-94f5b2be65d5' class='xr-var-attrs-in' type='checkbox' ><label for='attrs-61c56b58-1b11-47e2-9ddc-94f5b2be65d5' title='Show/Hide attributes'><svg class='icon xr-icon-file-text2'><use xlink:href='#icon-file-text2'></use></svg></label><input id='data-b277aa15-3130-4ed4-b404-9a9d5531983f' class='xr-var-data-in' type='checkbox'><label for='data-b277aa15-3130-4ed4-b404-9a9d5531983f' title='Show/Hide data repr'><svg class='icon xr-icon-database'><use xlink:href='#icon-database'></use></svg></label><div class='xr-var-attrs'><dl class='xr-attrs'><dt><span>description :</span></dt><dd>Zooplankton carbon weight by cube meter of sea water during the day</dd><dt><span>units :</span></dt><dd>mg/m3</dd></dl></div><div class='xr-var-data'><pre>array([[[[       nan]]],\n",
       "\n",
       "\n",
       "       [[[3.11985917]]],\n",
       "\n",
       "\n",
       "       [[[       nan]]],\n",
       "\n",
       "\n",
       "       ...,\n",
       "\n",
       "\n",
       "       [[[       nan]]],\n",
       "\n",
       "\n",
       "       [[[       nan]]],\n",
       "\n",
       "\n",
       "       [[[       nan]]]])</pre></div></li><li class='xr-var-item'><div class='xr-var-name'><span>night</span></div><div class='xr-var-dims'>(time, latitude, longitude, layer)</div><div class='xr-var-dtype'>float64</div><div class='xr-var-preview xr-preview'>5.078 6.621 nan nan ... nan nan nan</div><input id='attrs-c3c2d426-c5c9-4b70-b5d9-1baaf5218f5b' class='xr-var-attrs-in' type='checkbox' ><label for='attrs-c3c2d426-c5c9-4b70-b5d9-1baaf5218f5b' title='Show/Hide attributes'><svg class='icon xr-icon-file-text2'><use xlink:href='#icon-file-text2'></use></svg></label><input id='data-4e1fe7c2-0660-4c7b-9220-372bb4715cef' class='xr-var-data-in' type='checkbox'><label for='data-4e1fe7c2-0660-4c7b-9220-372bb4715cef' title='Show/Hide data repr'><svg class='icon xr-icon-database'><use xlink:href='#icon-database'></use></svg></label><div class='xr-var-attrs'><dl class='xr-attrs'><dt><span>description :</span></dt><dd>Zooplankton carbon weight by cube meter of sea water at night</dd><dt><span>units :</span></dt><dd>mg/m3</dd></dl></div><div class='xr-var-data'><pre>array([[[[5.07847 ]]],\n",
       "\n",
       "\n",
       "       [[[6.620502]]],\n",
       "\n",
       "\n",
       "       [[[     nan]]],\n",
       "\n",
       "\n",
       "       ...,\n",
       "\n",
       "\n",
       "       [[[     nan]]],\n",
       "\n",
       "\n",
       "       [[[     nan]]],\n",
       "\n",
       "\n",
       "       [[[     nan]]]])</pre></div></li></ul></div></li><li class='xr-section-item'><input id='section-6b73848d-f509-4380-be80-9cd693aab603' class='xr-section-summary-in' type='checkbox'  ><label for='section-6b73848d-f509-4380-be80-9cd693aab603' class='xr-section-summary' >Indexes: <span>(4)</span></label><div class='xr-section-inline-details'></div><div class='xr-section-details'><ul class='xr-var-list'><li class='xr-var-item'><div class='xr-index-name'><div>time</div></div><div class='xr-index-preview'>PandasIndex</div><div></div><input id='index-8538d96a-2465-4ffa-b0c5-e9e4ad8a35de' class='xr-index-data-in' type='checkbox'/><label for='index-8538d96a-2465-4ffa-b0c5-e9e4ad8a35de' title='Show/Hide index repr'><svg class='icon xr-icon-database'><use xlink:href='#icon-database'></use></svg></label><div class='xr-index-data'><pre>PandasIndex(DatetimeIndex([&#x27;1997-02-23&#x27;, &#x27;1997-03-02&#x27;, &#x27;1997-03-09&#x27;, &#x27;1997-03-16&#x27;,\n",
       "               &#x27;1997-03-23&#x27;, &#x27;1997-03-30&#x27;, &#x27;1997-04-06&#x27;, &#x27;1997-04-13&#x27;,\n",
       "               &#x27;1997-04-20&#x27;, &#x27;1997-04-27&#x27;,\n",
       "               ...\n",
       "               &#x27;2020-06-14&#x27;, &#x27;2020-06-21&#x27;, &#x27;2020-06-28&#x27;, &#x27;2020-07-05&#x27;,\n",
       "               &#x27;2020-07-12&#x27;, &#x27;2020-07-19&#x27;, &#x27;2020-07-26&#x27;, &#x27;2020-08-02&#x27;,\n",
       "               &#x27;2020-08-09&#x27;, &#x27;2020-08-16&#x27;],\n",
       "              dtype=&#x27;datetime64[ns]&#x27;, name=&#x27;time&#x27;, length=1226, freq=&#x27;W-SUN&#x27;))</pre></div></li><li class='xr-var-item'><div class='xr-index-name'><div>latitude</div></div><div class='xr-index-preview'>PandasIndex</div><div></div><input id='index-c5a0fe88-de7c-48a5-939c-22a486d87bb2' class='xr-index-data-in' type='checkbox'/><label for='index-c5a0fe88-de7c-48a5-939c-22a486d87bb2' title='Show/Hide index repr'><svg class='icon xr-icon-database'><use xlink:href='#icon-database'></use></svg></label><div class='xr-index-data'><pre>PandasIndex(Index([50], dtype=&#x27;int64&#x27;, name=&#x27;latitude&#x27;))</pre></div></li><li class='xr-var-item'><div class='xr-index-name'><div>longitude</div></div><div class='xr-index-preview'>PandasIndex</div><div></div><input id='index-a5c02722-bf93-4d7d-bc62-937ead539ffe' class='xr-index-data-in' type='checkbox'/><label for='index-a5c02722-bf93-4d7d-bc62-937ead539ffe' title='Show/Hide index repr'><svg class='icon xr-icon-database'><use xlink:href='#icon-database'></use></svg></label><div class='xr-index-data'><pre>PandasIndex(Index([-150], dtype=&#x27;int64&#x27;, name=&#x27;longitude&#x27;))</pre></div></li><li class='xr-var-item'><div class='xr-index-name'><div>layer</div></div><div class='xr-index-preview'>PandasIndex</div><div></div><input id='index-cbddce88-1c0d-4f51-a47b-27aa31661ceb' class='xr-index-data-in' type='checkbox'/><label for='index-cbddce88-1c0d-4f51-a47b-27aa31661ceb' title='Show/Hide index repr'><svg class='icon xr-icon-database'><use xlink:href='#icon-database'></use></svg></label><div class='xr-index-data'><pre>PandasIndex(Index([0], dtype=&#x27;int64&#x27;, name=&#x27;layer&#x27;))</pre></div></li></ul></div></li><li class='xr-section-item'><input id='section-b1add802-920f-4af1-85b3-5122ed403742' class='xr-section-summary-in' type='checkbox' disabled ><label for='section-b1add802-920f-4af1-85b3-5122ed403742' class='xr-section-summary'  title='Expand/collapse section'>Attributes: <span>(0)</span></label><div class='xr-section-inline-details'></div><div class='xr-section-details'><dl class='xr-attrs'></dl></div></li></ul></div></div>"
      ],
      "text/plain": [
       "<xarray.Dataset> Size: 29kB\n",
       "Dimensions:    (latitude: 1, longitude: 1, layer: 1, time: 1226)\n",
       "Coordinates:\n",
       "  * latitude   (latitude) int64 8B 50\n",
       "  * longitude  (longitude) int64 8B -150\n",
       "  * layer      (layer) int64 8B 0\n",
       "  * time       (time) datetime64[ns] 10kB 1997-02-23 1997-03-02 ... 2020-08-16\n",
       "Data variables:\n",
       "    day        (time, latitude, longitude, layer) float64 10kB nan 3.12 ... nan\n",
       "    night      (time, latitude, longitude, layer) float64 10kB 5.078 ... nan"
      ]
     },
     "execution_count": 18,
     "metadata": {},
     "output_type": "execute_result"
    }
   ],
   "source": [
    "climato_observations.latitude.attrs = data.latitude.attrs\n",
    "climato_observations.longitude.attrs = data.longitude.attrs\n",
    "climato_observations.layer.attrs = data.layer.attrs\n",
    "climato_observations.time.attrs = data.time.attrs\n",
    "climato_observations.day.attrs = data.day.attrs\n",
    "climato_observations.night.attrs = data.night.attrs\n",
    "# climato_observations.day_trend.attrs = {\"units\": \"mg/m3\", \"long_name\": \"Day Trend\"}\n",
    "# climato_observations.night_trend.attrs = {\"units\": \"mg/m3\", \"long_name\": \"Night Trend\"}\n",
    "climato_observations"
   ]
  },
  {
   "cell_type": "code",
   "execution_count": 19,
   "metadata": {},
   "outputs": [
    {
     "data": {
      "text/plain": [
       "<xarray.backends.zarr.ZarrStore at 0x148e94dc0>"
      ]
     },
     "execution_count": 19,
     "metadata": {},
     "output_type": "execute_result"
    }
   ],
   "source": [
    "climato_observations.to_zarr(f\"./products/{station}_climato.zarr\", mode=\"w\")"
   ]
  }
 ],
 "metadata": {
  "kernelspec": {
   "display_name": ".venv",
   "language": "python",
   "name": "python3"
  },
  "language_info": {
   "codemirror_mode": {
    "name": "ipython",
    "version": 3
   },
   "file_extension": ".py",
   "mimetype": "text/x-python",
   "name": "python",
   "nbconvert_exporter": "python",
   "pygments_lexer": "ipython3",
   "version": "3.12.8"
  }
 },
 "nbformat": 4,
 "nbformat_minor": 2
}
