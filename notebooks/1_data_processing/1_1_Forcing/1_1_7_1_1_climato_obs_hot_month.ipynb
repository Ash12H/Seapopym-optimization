{
 "cells": [
  {
   "cell_type": "code",
   "execution_count": 1,
   "metadata": {},
   "outputs": [],
   "source": [
    "import matplotlib.pyplot as plt\n",
    "import numpy as np\n",
    "import pandas as pd\n",
    "import plotly.graph_objects as go\n",
    "import xarray as xr\n",
    "from plotly.subplots import make_subplots\n",
    "from scipy.stats import t\n",
    "from statsmodels.nonparametric.smoothers_lowess import lowess"
   ]
  },
  {
   "cell_type": "code",
   "execution_count": 2,
   "metadata": {},
   "outputs": [],
   "source": [
    "station = \"Hot\"\n",
    "time_start = \"2002-01-01\"\n",
    "time_end = \"2015-01-01\""
   ]
  },
  {
   "cell_type": "markdown",
   "metadata": {},
   "source": [
    "## Load\n"
   ]
  },
  {
   "cell_type": "code",
   "execution_count": 3,
   "metadata": {},
   "outputs": [
    {
     "data": {
      "text/html": [
       "<div><svg style=\"position: absolute; width: 0; height: 0; overflow: hidden\">\n",
       "<defs>\n",
       "<symbol id=\"icon-database\" viewBox=\"0 0 32 32\">\n",
       "<path d=\"M16 0c-8.837 0-16 2.239-16 5v4c0 2.761 7.163 5 16 5s16-2.239 16-5v-4c0-2.761-7.163-5-16-5z\"></path>\n",
       "<path d=\"M16 17c-8.837 0-16-2.239-16-5v6c0 2.761 7.163 5 16 5s16-2.239 16-5v-6c0 2.761-7.163 5-16 5z\"></path>\n",
       "<path d=\"M16 26c-8.837 0-16-2.239-16-5v6c0 2.761 7.163 5 16 5s16-2.239 16-5v-6c0 2.761-7.163 5-16 5z\"></path>\n",
       "</symbol>\n",
       "<symbol id=\"icon-file-text2\" viewBox=\"0 0 32 32\">\n",
       "<path d=\"M28.681 7.159c-0.694-0.947-1.662-2.053-2.724-3.116s-2.169-2.030-3.116-2.724c-1.612-1.182-2.393-1.319-2.841-1.319h-15.5c-1.378 0-2.5 1.121-2.5 2.5v27c0 1.378 1.122 2.5 2.5 2.5h23c1.378 0 2.5-1.122 2.5-2.5v-19.5c0-0.448-0.137-1.23-1.319-2.841zM24.543 5.457c0.959 0.959 1.712 1.825 2.268 2.543h-4.811v-4.811c0.718 0.556 1.584 1.309 2.543 2.268zM28 29.5c0 0.271-0.229 0.5-0.5 0.5h-23c-0.271 0-0.5-0.229-0.5-0.5v-27c0-0.271 0.229-0.5 0.5-0.5 0 0 15.499-0 15.5 0v7c0 0.552 0.448 1 1 1h7v19.5z\"></path>\n",
       "<path d=\"M23 26h-14c-0.552 0-1-0.448-1-1s0.448-1 1-1h14c0.552 0 1 0.448 1 1s-0.448 1-1 1z\"></path>\n",
       "<path d=\"M23 22h-14c-0.552 0-1-0.448-1-1s0.448-1 1-1h14c0.552 0 1 0.448 1 1s-0.448 1-1 1z\"></path>\n",
       "<path d=\"M23 18h-14c-0.552 0-1-0.448-1-1s0.448-1 1-1h14c0.552 0 1 0.448 1 1s-0.448 1-1 1z\"></path>\n",
       "</symbol>\n",
       "</defs>\n",
       "</svg>\n",
       "<style>/* CSS stylesheet for displaying xarray objects in jupyterlab.\n",
       " *\n",
       " */\n",
       "\n",
       ":root {\n",
       "  --xr-font-color0: var(--jp-content-font-color0, rgba(0, 0, 0, 1));\n",
       "  --xr-font-color2: var(--jp-content-font-color2, rgba(0, 0, 0, 0.54));\n",
       "  --xr-font-color3: var(--jp-content-font-color3, rgba(0, 0, 0, 0.38));\n",
       "  --xr-border-color: var(--jp-border-color2, #e0e0e0);\n",
       "  --xr-disabled-color: var(--jp-layout-color3, #bdbdbd);\n",
       "  --xr-background-color: var(--jp-layout-color0, white);\n",
       "  --xr-background-color-row-even: var(--jp-layout-color1, white);\n",
       "  --xr-background-color-row-odd: var(--jp-layout-color2, #eeeeee);\n",
       "}\n",
       "\n",
       "html[theme=\"dark\"],\n",
       "html[data-theme=\"dark\"],\n",
       "body[data-theme=\"dark\"],\n",
       "body.vscode-dark {\n",
       "  --xr-font-color0: rgba(255, 255, 255, 1);\n",
       "  --xr-font-color2: rgba(255, 255, 255, 0.54);\n",
       "  --xr-font-color3: rgba(255, 255, 255, 0.38);\n",
       "  --xr-border-color: #1f1f1f;\n",
       "  --xr-disabled-color: #515151;\n",
       "  --xr-background-color: #111111;\n",
       "  --xr-background-color-row-even: #111111;\n",
       "  --xr-background-color-row-odd: #313131;\n",
       "}\n",
       "\n",
       ".xr-wrap {\n",
       "  display: block !important;\n",
       "  min-width: 300px;\n",
       "  max-width: 700px;\n",
       "}\n",
       "\n",
       ".xr-text-repr-fallback {\n",
       "  /* fallback to plain text repr when CSS is not injected (untrusted notebook) */\n",
       "  display: none;\n",
       "}\n",
       "\n",
       ".xr-header {\n",
       "  padding-top: 6px;\n",
       "  padding-bottom: 6px;\n",
       "  margin-bottom: 4px;\n",
       "  border-bottom: solid 1px var(--xr-border-color);\n",
       "}\n",
       "\n",
       ".xr-header > div,\n",
       ".xr-header > ul {\n",
       "  display: inline;\n",
       "  margin-top: 0;\n",
       "  margin-bottom: 0;\n",
       "}\n",
       "\n",
       ".xr-obj-type,\n",
       ".xr-array-name {\n",
       "  margin-left: 2px;\n",
       "  margin-right: 10px;\n",
       "}\n",
       "\n",
       ".xr-obj-type {\n",
       "  color: var(--xr-font-color2);\n",
       "}\n",
       "\n",
       ".xr-sections {\n",
       "  padding-left: 0 !important;\n",
       "  display: grid;\n",
       "  grid-template-columns: 150px auto auto 1fr 0 20px 0 20px;\n",
       "}\n",
       "\n",
       ".xr-section-item {\n",
       "  display: contents;\n",
       "}\n",
       "\n",
       ".xr-section-item input {\n",
       "  display: inline-block;\n",
       "  opacity: 0;\n",
       "  height: 0;\n",
       "}\n",
       "\n",
       ".xr-section-item input + label {\n",
       "  color: var(--xr-disabled-color);\n",
       "}\n",
       "\n",
       ".xr-section-item input:enabled + label {\n",
       "  cursor: pointer;\n",
       "  color: var(--xr-font-color2);\n",
       "}\n",
       "\n",
       ".xr-section-item input:focus + label {\n",
       "  border: 2px solid var(--xr-font-color0);\n",
       "}\n",
       "\n",
       ".xr-section-item input:enabled + label:hover {\n",
       "  color: var(--xr-font-color0);\n",
       "}\n",
       "\n",
       ".xr-section-summary {\n",
       "  grid-column: 1;\n",
       "  color: var(--xr-font-color2);\n",
       "  font-weight: 500;\n",
       "}\n",
       "\n",
       ".xr-section-summary > span {\n",
       "  display: inline-block;\n",
       "  padding-left: 0.5em;\n",
       "}\n",
       "\n",
       ".xr-section-summary-in:disabled + label {\n",
       "  color: var(--xr-font-color2);\n",
       "}\n",
       "\n",
       ".xr-section-summary-in + label:before {\n",
       "  display: inline-block;\n",
       "  content: \"►\";\n",
       "  font-size: 11px;\n",
       "  width: 15px;\n",
       "  text-align: center;\n",
       "}\n",
       "\n",
       ".xr-section-summary-in:disabled + label:before {\n",
       "  color: var(--xr-disabled-color);\n",
       "}\n",
       "\n",
       ".xr-section-summary-in:checked + label:before {\n",
       "  content: \"▼\";\n",
       "}\n",
       "\n",
       ".xr-section-summary-in:checked + label > span {\n",
       "  display: none;\n",
       "}\n",
       "\n",
       ".xr-section-summary,\n",
       ".xr-section-inline-details {\n",
       "  padding-top: 4px;\n",
       "  padding-bottom: 4px;\n",
       "}\n",
       "\n",
       ".xr-section-inline-details {\n",
       "  grid-column: 2 / -1;\n",
       "}\n",
       "\n",
       ".xr-section-details {\n",
       "  display: none;\n",
       "  grid-column: 1 / -1;\n",
       "  margin-bottom: 5px;\n",
       "}\n",
       "\n",
       ".xr-section-summary-in:checked ~ .xr-section-details {\n",
       "  display: contents;\n",
       "}\n",
       "\n",
       ".xr-array-wrap {\n",
       "  grid-column: 1 / -1;\n",
       "  display: grid;\n",
       "  grid-template-columns: 20px auto;\n",
       "}\n",
       "\n",
       ".xr-array-wrap > label {\n",
       "  grid-column: 1;\n",
       "  vertical-align: top;\n",
       "}\n",
       "\n",
       ".xr-preview {\n",
       "  color: var(--xr-font-color3);\n",
       "}\n",
       "\n",
       ".xr-array-preview,\n",
       ".xr-array-data {\n",
       "  padding: 0 5px !important;\n",
       "  grid-column: 2;\n",
       "}\n",
       "\n",
       ".xr-array-data,\n",
       ".xr-array-in:checked ~ .xr-array-preview {\n",
       "  display: none;\n",
       "}\n",
       "\n",
       ".xr-array-in:checked ~ .xr-array-data,\n",
       ".xr-array-preview {\n",
       "  display: inline-block;\n",
       "}\n",
       "\n",
       ".xr-dim-list {\n",
       "  display: inline-block !important;\n",
       "  list-style: none;\n",
       "  padding: 0 !important;\n",
       "  margin: 0;\n",
       "}\n",
       "\n",
       ".xr-dim-list li {\n",
       "  display: inline-block;\n",
       "  padding: 0;\n",
       "  margin: 0;\n",
       "}\n",
       "\n",
       ".xr-dim-list:before {\n",
       "  content: \"(\";\n",
       "}\n",
       "\n",
       ".xr-dim-list:after {\n",
       "  content: \")\";\n",
       "}\n",
       "\n",
       ".xr-dim-list li:not(:last-child):after {\n",
       "  content: \",\";\n",
       "  padding-right: 5px;\n",
       "}\n",
       "\n",
       ".xr-has-index {\n",
       "  font-weight: bold;\n",
       "}\n",
       "\n",
       ".xr-var-list,\n",
       ".xr-var-item {\n",
       "  display: contents;\n",
       "}\n",
       "\n",
       ".xr-var-item > div,\n",
       ".xr-var-item label,\n",
       ".xr-var-item > .xr-var-name span {\n",
       "  background-color: var(--xr-background-color-row-even);\n",
       "  margin-bottom: 0;\n",
       "}\n",
       "\n",
       ".xr-var-item > .xr-var-name:hover span {\n",
       "  padding-right: 5px;\n",
       "}\n",
       "\n",
       ".xr-var-list > li:nth-child(odd) > div,\n",
       ".xr-var-list > li:nth-child(odd) > label,\n",
       ".xr-var-list > li:nth-child(odd) > .xr-var-name span {\n",
       "  background-color: var(--xr-background-color-row-odd);\n",
       "}\n",
       "\n",
       ".xr-var-name {\n",
       "  grid-column: 1;\n",
       "}\n",
       "\n",
       ".xr-var-dims {\n",
       "  grid-column: 2;\n",
       "}\n",
       "\n",
       ".xr-var-dtype {\n",
       "  grid-column: 3;\n",
       "  text-align: right;\n",
       "  color: var(--xr-font-color2);\n",
       "}\n",
       "\n",
       ".xr-var-preview {\n",
       "  grid-column: 4;\n",
       "}\n",
       "\n",
       ".xr-index-preview {\n",
       "  grid-column: 2 / 5;\n",
       "  color: var(--xr-font-color2);\n",
       "}\n",
       "\n",
       ".xr-var-name,\n",
       ".xr-var-dims,\n",
       ".xr-var-dtype,\n",
       ".xr-preview,\n",
       ".xr-attrs dt {\n",
       "  white-space: nowrap;\n",
       "  overflow: hidden;\n",
       "  text-overflow: ellipsis;\n",
       "  padding-right: 10px;\n",
       "}\n",
       "\n",
       ".xr-var-name:hover,\n",
       ".xr-var-dims:hover,\n",
       ".xr-var-dtype:hover,\n",
       ".xr-attrs dt:hover {\n",
       "  overflow: visible;\n",
       "  width: auto;\n",
       "  z-index: 1;\n",
       "}\n",
       "\n",
       ".xr-var-attrs,\n",
       ".xr-var-data,\n",
       ".xr-index-data {\n",
       "  display: none;\n",
       "  background-color: var(--xr-background-color) !important;\n",
       "  padding-bottom: 5px !important;\n",
       "}\n",
       "\n",
       ".xr-var-attrs-in:checked ~ .xr-var-attrs,\n",
       ".xr-var-data-in:checked ~ .xr-var-data,\n",
       ".xr-index-data-in:checked ~ .xr-index-data {\n",
       "  display: block;\n",
       "}\n",
       "\n",
       ".xr-var-data > table {\n",
       "  float: right;\n",
       "}\n",
       "\n",
       ".xr-var-name span,\n",
       ".xr-var-data,\n",
       ".xr-index-name div,\n",
       ".xr-index-data,\n",
       ".xr-attrs {\n",
       "  padding-left: 25px !important;\n",
       "}\n",
       "\n",
       ".xr-attrs,\n",
       ".xr-var-attrs,\n",
       ".xr-var-data,\n",
       ".xr-index-data {\n",
       "  grid-column: 1 / -1;\n",
       "}\n",
       "\n",
       "dl.xr-attrs {\n",
       "  padding: 0;\n",
       "  margin: 0;\n",
       "  display: grid;\n",
       "  grid-template-columns: 125px auto;\n",
       "}\n",
       "\n",
       ".xr-attrs dt,\n",
       ".xr-attrs dd {\n",
       "  padding: 0;\n",
       "  margin: 0;\n",
       "  float: left;\n",
       "  padding-right: 10px;\n",
       "  width: auto;\n",
       "}\n",
       "\n",
       ".xr-attrs dt {\n",
       "  font-weight: normal;\n",
       "  grid-column: 1;\n",
       "}\n",
       "\n",
       ".xr-attrs dt:hover span {\n",
       "  display: inline-block;\n",
       "  background: var(--xr-background-color);\n",
       "  padding-right: 10px;\n",
       "}\n",
       "\n",
       ".xr-attrs dd {\n",
       "  grid-column: 2;\n",
       "  white-space: pre-wrap;\n",
       "  word-break: break-all;\n",
       "}\n",
       "\n",
       ".xr-icon-database,\n",
       ".xr-icon-file-text2,\n",
       ".xr-no-icon {\n",
       "  display: inline-block;\n",
       "  vertical-align: middle;\n",
       "  width: 1em;\n",
       "  height: 1.5em !important;\n",
       "  stroke-width: 0;\n",
       "  stroke: currentColor;\n",
       "  fill: currentColor;\n",
       "}\n",
       "</style><pre class='xr-text-repr-fallback'>&lt;xarray.Dataset&gt; Size: 12kB\n",
       "Dimensions:    (time: 514, latitude: 1, longitude: 1, layer: 1)\n",
       "Coordinates:\n",
       "  * latitude   (latitude) float64 8B 22.75\n",
       "  * layer      (layer) int64 8B 0\n",
       "  * longitude  (longitude) int64 8B -158\n",
       "  * time       (time) datetime64[ns] 4kB 1994-02-17 1994-02-18 ... 2022-09-01\n",
       "Data variables:\n",
       "    day        (time, latitude, longitude, layer) float64 4kB 0.4208 ... 2.282\n",
       "    night      (time, latitude, longitude, layer) float64 4kB 1.48 ... 2.425\n",
       "Attributes:\n",
       "    creation date:  2024-10-13T20:03:40.309826\n",
       "    layer:          epipelagic\n",
       "    station:        Hot</pre><div class='xr-wrap' style='display:none'><div class='xr-header'><div class='xr-obj-type'>xarray.Dataset</div></div><ul class='xr-sections'><li class='xr-section-item'><input id='section-39bab2d8-80d8-4ca7-9444-0efc14cb372a' class='xr-section-summary-in' type='checkbox' disabled ><label for='section-39bab2d8-80d8-4ca7-9444-0efc14cb372a' class='xr-section-summary'  title='Expand/collapse section'>Dimensions:</label><div class='xr-section-inline-details'><ul class='xr-dim-list'><li><span class='xr-has-index'>time</span>: 514</li><li><span class='xr-has-index'>latitude</span>: 1</li><li><span class='xr-has-index'>longitude</span>: 1</li><li><span class='xr-has-index'>layer</span>: 1</li></ul></div><div class='xr-section-details'></div></li><li class='xr-section-item'><input id='section-8016d494-e4b3-4556-b26b-0ad807b1ff2d' class='xr-section-summary-in' type='checkbox'  checked><label for='section-8016d494-e4b3-4556-b26b-0ad807b1ff2d' class='xr-section-summary' >Coordinates: <span>(4)</span></label><div class='xr-section-inline-details'></div><div class='xr-section-details'><ul class='xr-var-list'><li class='xr-var-item'><div class='xr-var-name'><span class='xr-has-index'>latitude</span></div><div class='xr-var-dims'>(latitude)</div><div class='xr-var-dtype'>float64</div><div class='xr-var-preview xr-preview'>22.75</div><input id='attrs-96d08ac5-6fb1-4bad-8e33-19ecc1bbd75e' class='xr-var-attrs-in' type='checkbox' ><label for='attrs-96d08ac5-6fb1-4bad-8e33-19ecc1bbd75e' title='Show/Hide attributes'><svg class='icon xr-icon-file-text2'><use xlink:href='#icon-file-text2'></use></svg></label><input id='data-911c50b8-3aa5-421c-abfc-83f1a4276062' class='xr-var-data-in' type='checkbox'><label for='data-911c50b8-3aa5-421c-abfc-83f1a4276062' title='Show/Hide data repr'><svg class='icon xr-icon-database'><use xlink:href='#icon-database'></use></svg></label><div class='xr-var-attrs'><dl class='xr-attrs'><dt><span>axis :</span></dt><dd>Y</dd><dt><span>long_name :</span></dt><dd>Latitude</dd><dt><span>standard_name :</span></dt><dd>latitude</dd><dt><span>units :</span></dt><dd>degrees_north</dd></dl></div><div class='xr-var-data'><pre>array([22.75])</pre></div></li><li class='xr-var-item'><div class='xr-var-name'><span class='xr-has-index'>layer</span></div><div class='xr-var-dims'>(layer)</div><div class='xr-var-dtype'>int64</div><div class='xr-var-preview xr-preview'>0</div><input id='attrs-0193f17d-5831-4c86-8fc4-a72ce7ac2ee4' class='xr-var-attrs-in' type='checkbox' ><label for='attrs-0193f17d-5831-4c86-8fc4-a72ce7ac2ee4' title='Show/Hide attributes'><svg class='icon xr-icon-file-text2'><use xlink:href='#icon-file-text2'></use></svg></label><input id='data-35b83281-3ed5-44dd-9284-393f26974190' class='xr-var-data-in' type='checkbox'><label for='data-35b83281-3ed5-44dd-9284-393f26974190' title='Show/Hide data repr'><svg class='icon xr-icon-database'><use xlink:href='#icon-database'></use></svg></label><div class='xr-var-attrs'><dl class='xr-attrs'><dt><span>axis :</span></dt><dd>Z</dd><dt><span>desc :</span></dt><dd>The layer depth according to Seapodym definition</dd><dt><span>flag_meanings :</span></dt><dd>epipelagic, upper-mesopelagic, lower-mesopelagic</dd><dt><span>flag_values :</span></dt><dd>[0, 1, 2]</dd><dt><span>long_name :</span></dt><dd>Layer depth</dd><dt><span>standard_name :</span></dt><dd>layer</dd></dl></div><div class='xr-var-data'><pre>array([0])</pre></div></li><li class='xr-var-item'><div class='xr-var-name'><span class='xr-has-index'>longitude</span></div><div class='xr-var-dims'>(longitude)</div><div class='xr-var-dtype'>int64</div><div class='xr-var-preview xr-preview'>-158</div><input id='attrs-2ef44799-ab1d-433b-8c96-1179531bbd56' class='xr-var-attrs-in' type='checkbox' ><label for='attrs-2ef44799-ab1d-433b-8c96-1179531bbd56' title='Show/Hide attributes'><svg class='icon xr-icon-file-text2'><use xlink:href='#icon-file-text2'></use></svg></label><input id='data-4252ff43-49bc-49b1-bea1-704479fb852c' class='xr-var-data-in' type='checkbox'><label for='data-4252ff43-49bc-49b1-bea1-704479fb852c' title='Show/Hide data repr'><svg class='icon xr-icon-database'><use xlink:href='#icon-database'></use></svg></label><div class='xr-var-attrs'><dl class='xr-attrs'><dt><span>axis :</span></dt><dd>X</dd><dt><span>long_name :</span></dt><dd>Longitude</dd><dt><span>standard_name :</span></dt><dd>longitude</dd><dt><span>units :</span></dt><dd>degrees_east</dd></dl></div><div class='xr-var-data'><pre>array([-158])</pre></div></li><li class='xr-var-item'><div class='xr-var-name'><span class='xr-has-index'>time</span></div><div class='xr-var-dims'>(time)</div><div class='xr-var-dtype'>datetime64[ns]</div><div class='xr-var-preview xr-preview'>1994-02-17 ... 2022-09-01</div><input id='attrs-b17f995a-7512-4d10-8d05-4f95db062f8c' class='xr-var-attrs-in' type='checkbox' ><label for='attrs-b17f995a-7512-4d10-8d05-4f95db062f8c' title='Show/Hide attributes'><svg class='icon xr-icon-file-text2'><use xlink:href='#icon-file-text2'></use></svg></label><input id='data-75bc4524-85e1-4956-814c-9905dcd43bc5' class='xr-var-data-in' type='checkbox'><label for='data-75bc4524-85e1-4956-814c-9905dcd43bc5' title='Show/Hide data repr'><svg class='icon xr-icon-database'><use xlink:href='#icon-database'></use></svg></label><div class='xr-var-attrs'><dl class='xr-attrs'><dt><span>axis :</span></dt><dd>T</dd><dt><span>long_name :</span></dt><dd>time</dd><dt><span>standard_name :</span></dt><dd>time</dd></dl></div><div class='xr-var-data'><pre>array([&#x27;1994-02-17T00:00:00.000000000&#x27;, &#x27;1994-02-18T00:00:00.000000000&#x27;,\n",
       "       &#x27;1994-03-09T00:00:00.000000000&#x27;, ..., &#x27;2022-07-30T00:00:00.000000000&#x27;,\n",
       "       &#x27;2022-07-31T00:00:00.000000000&#x27;, &#x27;2022-09-01T00:00:00.000000000&#x27;],\n",
       "      dtype=&#x27;datetime64[ns]&#x27;)</pre></div></li></ul></div></li><li class='xr-section-item'><input id='section-ee3fd94a-9deb-44bf-b31a-3a020c4281f1' class='xr-section-summary-in' type='checkbox'  checked><label for='section-ee3fd94a-9deb-44bf-b31a-3a020c4281f1' class='xr-section-summary' >Data variables: <span>(2)</span></label><div class='xr-section-inline-details'></div><div class='xr-section-details'><ul class='xr-var-list'><li class='xr-var-item'><div class='xr-var-name'><span>day</span></div><div class='xr-var-dims'>(time, latitude, longitude, layer)</div><div class='xr-var-dtype'>float64</div><div class='xr-var-preview xr-preview'>0.4208 0.2419 ... 2.189 2.282</div><input id='attrs-1c0f03af-013f-420f-8c8d-89a1a86a2b66' class='xr-var-attrs-in' type='checkbox' ><label for='attrs-1c0f03af-013f-420f-8c8d-89a1a86a2b66' title='Show/Hide attributes'><svg class='icon xr-icon-file-text2'><use xlink:href='#icon-file-text2'></use></svg></label><input id='data-bb22ff8d-1ef9-424b-bc14-05a42a7fdfe3' class='xr-var-data-in' type='checkbox'><label for='data-bb22ff8d-1ef9-424b-bc14-05a42a7fdfe3' title='Show/Hide data repr'><svg class='icon xr-icon-database'><use xlink:href='#icon-database'></use></svg></label><div class='xr-var-attrs'><dl class='xr-attrs'><dt><span>description :</span></dt><dd>Zooplankton carbon weight by cube meter of sea water during the day</dd><dt><span>units :</span></dt><dd>mg/m3</dd></dl></div><div class='xr-var-data'><pre>array([[[[0.42077348]]],\n",
       "\n",
       "\n",
       "       [[[0.24190476]]],\n",
       "\n",
       "\n",
       "       [[[0.80126984]]],\n",
       "\n",
       "\n",
       "       [[[0.61804878]]],\n",
       "\n",
       "\n",
       "       [[[0.73651376]]],\n",
       "\n",
       "\n",
       "       [[[1.11633068]]],\n",
       "\n",
       "\n",
       "       [[[       nan]]],\n",
       "\n",
       "...\n",
       "\n",
       "       [[[2.12387097]]],\n",
       "\n",
       "\n",
       "       [[[2.08921057]]],\n",
       "\n",
       "\n",
       "       [[[2.8772    ]]],\n",
       "\n",
       "\n",
       "       [[[2.87234694]]],\n",
       "\n",
       "\n",
       "       [[[       nan]]],\n",
       "\n",
       "\n",
       "       [[[2.18908043]]],\n",
       "\n",
       "\n",
       "       [[[2.2816    ]]]])</pre></div></li><li class='xr-var-item'><div class='xr-var-name'><span>night</span></div><div class='xr-var-dims'>(time, latitude, longitude, layer)</div><div class='xr-var-dtype'>float64</div><div class='xr-var-preview xr-preview'>1.48 1.57 1.012 ... 3.957 2.425</div><input id='attrs-df44591d-bada-4b76-baf7-e19d53df1905' class='xr-var-attrs-in' type='checkbox' ><label for='attrs-df44591d-bada-4b76-baf7-e19d53df1905' title='Show/Hide attributes'><svg class='icon xr-icon-file-text2'><use xlink:href='#icon-file-text2'></use></svg></label><input id='data-b93464fd-2993-40a0-aac1-689ddebb16d1' class='xr-var-data-in' type='checkbox'><label for='data-b93464fd-2993-40a0-aac1-689ddebb16d1' title='Show/Hide data repr'><svg class='icon xr-icon-database'><use xlink:href='#icon-database'></use></svg></label><div class='xr-var-attrs'><dl class='xr-attrs'><dt><span>description :</span></dt><dd>Zooplankton carbon weight by cube meter of sea water at night</dd><dt><span>units :</span></dt><dd>mg/m3</dd></dl></div><div class='xr-var-data'><pre>array([[[[1.4797351 ]]],\n",
       "\n",
       "\n",
       "       [[[1.57      ]]],\n",
       "\n",
       "\n",
       "       [[[1.01178295]]],\n",
       "\n",
       "\n",
       "       [[[1.50439367]]],\n",
       "\n",
       "\n",
       "       [[[       nan]]],\n",
       "\n",
       "\n",
       "       [[[1.67178268]]],\n",
       "\n",
       "\n",
       "       [[[2.37828571]]],\n",
       "\n",
       "...\n",
       "\n",
       "       [[[3.30912088]]],\n",
       "\n",
       "\n",
       "       [[[2.73233831]]],\n",
       "\n",
       "\n",
       "       [[[4.02862876]]],\n",
       "\n",
       "\n",
       "       [[[4.00808743]]],\n",
       "\n",
       "\n",
       "       [[[5.29269398]]],\n",
       "\n",
       "\n",
       "       [[[3.95693989]]],\n",
       "\n",
       "\n",
       "       [[[2.42456009]]]])</pre></div></li></ul></div></li><li class='xr-section-item'><input id='section-b5f87b78-c2c4-4eb3-b759-5ff4e2830472' class='xr-section-summary-in' type='checkbox'  ><label for='section-b5f87b78-c2c4-4eb3-b759-5ff4e2830472' class='xr-section-summary' >Indexes: <span>(4)</span></label><div class='xr-section-inline-details'></div><div class='xr-section-details'><ul class='xr-var-list'><li class='xr-var-item'><div class='xr-index-name'><div>latitude</div></div><div class='xr-index-preview'>PandasIndex</div><input type='checkbox' disabled/><label></label><input id='index-79b0e52b-976d-4c14-a523-2ba58753295c' class='xr-index-data-in' type='checkbox'/><label for='index-79b0e52b-976d-4c14-a523-2ba58753295c' title='Show/Hide index repr'><svg class='icon xr-icon-database'><use xlink:href='#icon-database'></use></svg></label><div class='xr-index-data'><pre>PandasIndex(Index([22.75], dtype=&#x27;float64&#x27;, name=&#x27;latitude&#x27;))</pre></div></li><li class='xr-var-item'><div class='xr-index-name'><div>layer</div></div><div class='xr-index-preview'>PandasIndex</div><input type='checkbox' disabled/><label></label><input id='index-e8fe5e2d-1b61-4dc6-a97e-7119bc40135e' class='xr-index-data-in' type='checkbox'/><label for='index-e8fe5e2d-1b61-4dc6-a97e-7119bc40135e' title='Show/Hide index repr'><svg class='icon xr-icon-database'><use xlink:href='#icon-database'></use></svg></label><div class='xr-index-data'><pre>PandasIndex(Index([0], dtype=&#x27;int64&#x27;, name=&#x27;layer&#x27;))</pre></div></li><li class='xr-var-item'><div class='xr-index-name'><div>longitude</div></div><div class='xr-index-preview'>PandasIndex</div><input type='checkbox' disabled/><label></label><input id='index-86459aae-49a5-43e0-a9fb-6d5743dfa4fd' class='xr-index-data-in' type='checkbox'/><label for='index-86459aae-49a5-43e0-a9fb-6d5743dfa4fd' title='Show/Hide index repr'><svg class='icon xr-icon-database'><use xlink:href='#icon-database'></use></svg></label><div class='xr-index-data'><pre>PandasIndex(Index([-158], dtype=&#x27;int64&#x27;, name=&#x27;longitude&#x27;))</pre></div></li><li class='xr-var-item'><div class='xr-index-name'><div>time</div></div><div class='xr-index-preview'>PandasIndex</div><input type='checkbox' disabled/><label></label><input id='index-14fa4002-31eb-4142-9211-9532af63b335' class='xr-index-data-in' type='checkbox'/><label for='index-14fa4002-31eb-4142-9211-9532af63b335' title='Show/Hide index repr'><svg class='icon xr-icon-database'><use xlink:href='#icon-database'></use></svg></label><div class='xr-index-data'><pre>PandasIndex(DatetimeIndex([&#x27;1994-02-17&#x27;, &#x27;1994-02-18&#x27;, &#x27;1994-03-09&#x27;, &#x27;1994-03-10&#x27;,\n",
       "               &#x27;1994-03-11&#x27;, &#x27;1994-06-19&#x27;, &#x27;1994-07-24&#x27;, &#x27;1994-07-25&#x27;,\n",
       "               &#x27;1994-08-30&#x27;, &#x27;1994-08-31&#x27;,\n",
       "               ...\n",
       "               &#x27;2021-12-06&#x27;, &#x27;2022-03-27&#x27;, &#x27;2022-03-28&#x27;, &#x27;2022-05-26&#x27;,\n",
       "               &#x27;2022-05-27&#x27;, &#x27;2022-07-09&#x27;, &#x27;2022-07-10&#x27;, &#x27;2022-07-30&#x27;,\n",
       "               &#x27;2022-07-31&#x27;, &#x27;2022-09-01&#x27;],\n",
       "              dtype=&#x27;datetime64[ns]&#x27;, name=&#x27;time&#x27;, length=514, freq=None))</pre></div></li></ul></div></li><li class='xr-section-item'><input id='section-a5482fce-911b-423b-853c-b18903df8875' class='xr-section-summary-in' type='checkbox'  checked><label for='section-a5482fce-911b-423b-853c-b18903df8875' class='xr-section-summary' >Attributes: <span>(3)</span></label><div class='xr-section-inline-details'></div><div class='xr-section-details'><dl class='xr-attrs'><dt><span>creation date :</span></dt><dd>2024-10-13T20:03:40.309826</dd><dt><span>layer :</span></dt><dd>epipelagic</dd><dt><span>station :</span></dt><dd>Hot</dd></dl></div></li></ul></div></div>"
      ],
      "text/plain": [
       "<xarray.Dataset> Size: 12kB\n",
       "Dimensions:    (time: 514, latitude: 1, longitude: 1, layer: 1)\n",
       "Coordinates:\n",
       "  * latitude   (latitude) float64 8B 22.75\n",
       "  * layer      (layer) int64 8B 0\n",
       "  * longitude  (longitude) int64 8B -158\n",
       "  * time       (time) datetime64[ns] 4kB 1994-02-17 1994-02-18 ... 2022-09-01\n",
       "Data variables:\n",
       "    day        (time, latitude, longitude, layer) float64 4kB 0.4208 ... 2.282\n",
       "    night      (time, latitude, longitude, layer) float64 4kB 1.48 ... 2.425\n",
       "Attributes:\n",
       "    creation date:  2024-10-13T20:03:40.309826\n",
       "    layer:          epipelagic\n",
       "    station:        Hot"
      ]
     },
     "execution_count": 3,
     "metadata": {},
     "output_type": "execute_result"
    }
   ],
   "source": [
    "data = xr.load_dataset(f\"./products/{station}_obs_filtered.zarr\", engine=\"zarr\")\n",
    "data"
   ]
  },
  {
   "cell_type": "code",
   "execution_count": 4,
   "metadata": {},
   "outputs": [
    {
     "data": {
      "application/vnd.plotly.v1+json": {
       "config": {
        "plotlyServerURL": "https://plot.ly"
       },
       "data": [
        {
         "mode": "lines",
         "name": "Day",
         "type": "scatter",
         "x": [
          "1994-02-17T00:00:00.000000000",
          "1994-02-18T00:00:00.000000000",
          "1994-03-09T00:00:00.000000000",
          "1994-03-10T00:00:00.000000000",
          "1994-03-11T00:00:00.000000000",
          "1994-06-19T00:00:00.000000000",
          "1994-07-25T00:00:00.000000000",
          "1994-08-30T00:00:00.000000000",
          "1994-08-31T00:00:00.000000000",
          "1994-09-22T00:00:00.000000000",
          "1994-09-24T00:00:00.000000000",
          "1994-10-16T00:00:00.000000000",
          "1994-10-17T00:00:00.000000000",
          "1995-02-07T00:00:00.000000000",
          "1995-03-04T00:00:00.000000000",
          "1995-03-05T00:00:00.000000000",
          "1995-04-05T00:00:00.000000000",
          "1995-04-06T00:00:00.000000000",
          "1995-05-06T00:00:00.000000000",
          "1995-05-07T00:00:00.000000000",
          "1995-07-30T00:00:00.000000000",
          "1995-08-28T00:00:00.000000000",
          "1995-08-29T00:00:00.000000000",
          "1995-08-30T00:00:00.000000000",
          "1995-09-28T00:00:00.000000000",
          "1995-10-26T00:00:00.000000000",
          "1995-11-17T00:00:00.000000000",
          "1996-01-16T00:00:00.000000000",
          "1996-03-26T00:00:00.000000000",
          "1996-03-27T00:00:00.000000000",
          "1996-04-23T00:00:00.000000000",
          "1996-04-24T00:00:00.000000000",
          "1996-05-21T00:00:00.000000000",
          "1996-05-22T00:00:00.000000000",
          "1996-06-25T00:00:00.000000000",
          "1996-07-26T00:00:00.000000000",
          "1996-07-27T00:00:00.000000000",
          "1996-08-20T00:00:00.000000000",
          "1996-10-01T00:00:00.000000000",
          "1996-10-29T00:00:00.000000000",
          "1996-12-10T00:00:00.000000000",
          "1996-12-11T00:00:00.000000000",
          "1997-01-07T00:00:00.000000000",
          "1997-01-08T00:00:00.000000000",
          "1997-02-17T00:00:00.000000000",
          "1997-02-18T00:00:00.000000000",
          "1997-03-11T00:00:00.000000000",
          "1997-03-12T00:00:00.000000000",
          "1997-04-08T00:00:00.000000000",
          "1997-04-09T00:00:00.000000000",
          "1997-05-07T00:00:00.000000000",
          "1997-06-03T00:00:00.000000000",
          "1997-06-04T00:00:00.000000000",
          "1997-07-08T00:00:00.000000000",
          "1997-08-02T00:00:00.000000000",
          "1997-12-04T00:00:00.000000000",
          "1997-12-05T00:00:00.000000000",
          "1998-01-10T00:00:00.000000000",
          "1998-01-11T00:00:00.000000000",
          "1998-02-18T00:00:00.000000000",
          "1998-03-17T00:00:00.000000000",
          "1998-03-18T00:00:00.000000000",
          "1998-04-14T00:00:00.000000000",
          "1998-04-15T00:00:00.000000000",
          "1998-05-12T00:00:00.000000000",
          "1998-06-16T00:00:00.000000000",
          "1998-06-17T00:00:00.000000000",
          "1998-07-14T00:00:00.000000000",
          "1998-07-15T00:00:00.000000000",
          "1998-08-09T00:00:00.000000000",
          "1998-09-27T00:00:00.000000000",
          "1998-10-18T00:00:00.000000000",
          "1998-10-19T00:00:00.000000000",
          "1998-11-10T00:00:00.000000000",
          "1998-11-11T00:00:00.000000000",
          "1998-12-08T00:00:00.000000000",
          "1999-01-12T00:00:00.000000000",
          "1999-01-13T00:00:00.000000000",
          "1999-02-17T00:00:00.000000000",
          "1999-03-16T00:00:00.000000000",
          "1999-03-17T00:00:00.000000000",
          "1999-04-13T00:00:00.000000000",
          "1999-04-15T00:00:00.000000000",
          "1999-05-09T00:00:00.000000000",
          "1999-07-13T00:00:00.000000000",
          "1999-07-14T00:00:00.000000000",
          "1999-08-13T00:00:00.000000000",
          "1999-10-14T00:00:00.000000000",
          "1999-10-15T00:00:00.000000000",
          "1999-11-08T00:00:00.000000000",
          "1999-11-09T00:00:00.000000000",
          "1999-12-14T00:00:00.000000000",
          "1999-12-15T00:00:00.000000000",
          "2000-01-30T00:00:00.000000000",
          "2000-01-31T00:00:00.000000000",
          "2000-02-01T00:00:00.000000000",
          "2000-02-02T00:00:00.000000000",
          "2000-02-03T00:00:00.000000000",
          "2000-02-29T00:00:00.000000000",
          "2000-03-28T00:00:00.000000000",
          "2000-03-29T00:00:00.000000000",
          "2000-04-25T00:00:00.000000000",
          "2000-05-23T00:00:00.000000000",
          "2000-05-25T00:00:00.000000000",
          "2000-06-20T00:00:00.000000000",
          "2000-06-21T00:00:00.000000000",
          "2000-07-14T00:00:00.000000000",
          "2000-07-15T00:00:00.000000000",
          "2000-07-25T00:00:00.000000000",
          "2000-08-22T00:00:00.000000000",
          "2000-08-23T00:00:00.000000000",
          "2000-10-17T00:00:00.000000000",
          "2000-10-18T00:00:00.000000000",
          "2000-11-29T00:00:00.000000000",
          "2000-12-19T00:00:00.000000000",
          "2000-12-20T00:00:00.000000000",
          "2001-01-16T00:00:00.000000000",
          "2001-01-17T00:00:00.000000000",
          "2001-03-20T00:00:00.000000000",
          "2001-03-21T00:00:00.000000000",
          "2001-04-17T00:00:00.000000000",
          "2001-04-18T00:00:00.000000000",
          "2001-05-15T00:00:00.000000000",
          "2001-05-16T00:00:00.000000000",
          "2001-06-13T00:00:00.000000000",
          "2001-08-08T00:00:00.000000000",
          "2001-10-01T00:00:00.000000000",
          "2001-10-02T00:00:00.000000000",
          "2001-10-23T00:00:00.000000000",
          "2001-11-16T00:00:00.000000000",
          "2001-11-17T00:00:00.000000000",
          "2002-01-15T00:00:00.000000000",
          "2002-01-16T00:00:00.000000000",
          "2002-02-20T00:00:00.000000000",
          "2002-02-21T00:00:00.000000000",
          "2002-03-12T00:00:00.000000000",
          "2002-03-13T00:00:00.000000000",
          "2002-05-20T00:00:00.000000000",
          "2002-05-21T00:00:00.000000000",
          "2002-06-29T00:00:00.000000000",
          "2002-08-27T00:00:00.000000000",
          "2002-08-28T00:00:00.000000000",
          "2002-10-07T00:00:00.000000000",
          "2002-11-03T00:00:00.000000000",
          "2002-12-13T00:00:00.000000000",
          "2002-12-14T00:00:00.000000000",
          "2003-01-16T00:00:00.000000000",
          "2003-01-17T00:00:00.000000000",
          "2003-02-25T00:00:00.000000000",
          "2003-03-27T00:00:00.000000000",
          "2003-03-28T00:00:00.000000000",
          "2003-04-23T00:00:00.000000000",
          "2003-05-20T00:00:00.000000000",
          "2003-05-21T00:00:00.000000000",
          "2003-06-19T00:00:00.000000000",
          "2003-06-20T00:00:00.000000000",
          "2003-07-19T00:00:00.000000000",
          "2003-07-20T00:00:00.000000000",
          "2003-08-20T00:00:00.000000000",
          "2003-08-21T00:00:00.000000000",
          "2003-10-14T00:00:00.000000000",
          "2003-10-15T00:00:00.000000000",
          "2003-11-09T00:00:00.000000000",
          "2003-11-10T00:00:00.000000000",
          "2004-01-21T00:00:00.000000000",
          "2004-02-24T00:00:00.000000000",
          "2004-03-19T00:00:00.000000000",
          "2004-03-20T00:00:00.000000000",
          "2004-04-20T00:00:00.000000000",
          "2004-04-21T00:00:00.000000000",
          "2004-05-18T00:00:00.000000000",
          "2004-05-19T00:00:00.000000000",
          "2004-06-15T00:00:00.000000000",
          "2004-06-16T00:00:00.000000000",
          "2004-08-15T00:00:00.000000000",
          "2004-08-16T00:00:00.000000000",
          "2004-09-28T00:00:00.000000000",
          "2004-10-30T00:00:00.000000000",
          "2004-10-31T00:00:00.000000000",
          "2004-11-28T00:00:00.000000000",
          "2004-12-20T00:00:00.000000000",
          "2004-12-21T00:00:00.000000000",
          "2005-02-02T00:00:00.000000000",
          "2005-02-04T00:00:00.000000000",
          "2005-03-04T00:00:00.000000000",
          "2005-03-05T00:00:00.000000000",
          "2005-06-14T00:00:00.000000000",
          "2005-06-15T00:00:00.000000000",
          "2005-07-16T00:00:00.000000000",
          "2005-07-17T00:00:00.000000000",
          "2005-08-13T00:00:00.000000000",
          "2005-08-14T00:00:00.000000000",
          "2005-10-10T00:00:00.000000000",
          "2005-11-12T00:00:00.000000000",
          "2005-11-13T00:00:00.000000000",
          "2005-12-13T00:00:00.000000000",
          "2005-12-14T00:00:00.000000000",
          "2006-02-15T00:00:00.000000000",
          "2006-02-16T00:00:00.000000000",
          "2006-03-10T00:00:00.000000000",
          "2006-03-11T00:00:00.000000000",
          "2006-04-02T00:00:00.000000000",
          "2006-04-03T00:00:00.000000000",
          "2006-06-14T00:00:00.000000000",
          "2006-06-15T00:00:00.000000000",
          "2006-07-13T00:00:00.000000000",
          "2006-09-16T00:00:00.000000000",
          "2006-09-17T00:00:00.000000000",
          "2006-10-20T00:00:00.000000000",
          "2006-10-21T00:00:00.000000000",
          "2006-10-22T00:00:00.000000000",
          "2006-11-09T00:00:00.000000000",
          "2006-11-10T00:00:00.000000000",
          "2006-12-10T00:00:00.000000000",
          "2006-12-11T00:00:00.000000000",
          "2007-02-07T00:00:00.000000000",
          "2007-02-09T00:00:00.000000000",
          "2007-03-21T00:00:00.000000000",
          "2007-03-22T00:00:00.000000000",
          "2007-05-06T00:00:00.000000000",
          "2007-06-10T00:00:00.000000000",
          "2007-06-11T00:00:00.000000000",
          "2007-07-08T00:00:00.000000000",
          "2007-07-09T00:00:00.000000000",
          "2007-08-04T00:00:00.000000000",
          "2007-09-03T00:00:00.000000000",
          "2007-09-04T00:00:00.000000000",
          "2007-10-03T00:00:00.000000000",
          "2007-10-04T00:00:00.000000000",
          "2007-12-02T00:00:00.000000000",
          "2007-12-03T00:00:00.000000000",
          "2007-12-22T00:00:00.000000000",
          "2008-01-30T00:00:00.000000000",
          "2008-01-31T00:00:00.000000000",
          "2008-02-24T00:00:00.000000000",
          "2008-02-25T00:00:00.000000000",
          "2008-05-28T00:00:00.000000000",
          "2008-06-26T00:00:00.000000000",
          "2008-07-27T00:00:00.000000000",
          "2008-08-16T00:00:00.000000000",
          "2008-08-17T00:00:00.000000000",
          "2008-10-10T00:00:00.000000000",
          "2008-11-30T00:00:00.000000000",
          "2008-12-01T00:00:00.000000000",
          "2009-01-21T00:00:00.000000000",
          "2009-02-18T00:00:00.000000000",
          "2009-04-28T00:00:00.000000000",
          "2009-04-29T00:00:00.000000000",
          "2009-05-27T00:00:00.000000000",
          "2009-07-03T00:00:00.000000000",
          "2009-07-04T00:00:00.000000000",
          "2009-07-24T00:00:00.000000000",
          "2009-09-24T00:00:00.000000000",
          "2009-09-25T00:00:00.000000000",
          "2009-11-03T00:00:00.000000000",
          "2009-12-09T00:00:00.000000000",
          "2009-12-10T00:00:00.000000000",
          "2010-04-06T00:00:00.000000000",
          "2010-04-07T00:00:00.000000000",
          "2010-05-17T00:00:00.000000000",
          "2010-05-18T00:00:00.000000000",
          "2010-06-07T00:00:00.000000000",
          "2010-06-08T00:00:00.000000000",
          "2010-07-07T00:00:00.000000000",
          "2010-07-08T00:00:00.000000000",
          "2010-08-06T00:00:00.000000000",
          "2010-09-02T00:00:00.000000000",
          "2010-09-03T00:00:00.000000000",
          "2010-10-01T00:00:00.000000000",
          "2010-10-03T00:00:00.000000000",
          "2010-11-20T00:00:00.000000000",
          "2011-01-08T00:00:00.000000000",
          "2011-01-27T00:00:00.000000000",
          "2011-01-28T00:00:00.000000000",
          "2011-02-27T00:00:00.000000000",
          "2011-02-28T00:00:00.000000000",
          "2011-04-10T00:00:00.000000000",
          "2011-04-11T00:00:00.000000000",
          "2011-05-08T00:00:00.000000000",
          "2011-05-09T00:00:00.000000000",
          "2011-07-18T00:00:00.000000000",
          "2011-07-19T00:00:00.000000000",
          "2011-11-03T00:00:00.000000000",
          "2011-11-28T00:00:00.000000000",
          "2011-12-18T00:00:00.000000000",
          "2011-12-19T00:00:00.000000000",
          "2012-01-17T00:00:00.000000000",
          "2012-01-18T00:00:00.000000000",
          "2012-03-23T00:00:00.000000000",
          "2012-05-01T00:00:00.000000000",
          "2012-05-29T00:00:00.000000000",
          "2012-05-30T00:00:00.000000000",
          "2012-06-25T00:00:00.000000000",
          "2012-06-26T00:00:00.000000000",
          "2012-07-30T00:00:00.000000000",
          "2012-07-31T00:00:00.000000000",
          "2012-08-16T00:00:00.000000000",
          "2012-08-17T00:00:00.000000000",
          "2012-09-13T00:00:00.000000000",
          "2012-09-14T00:00:00.000000000",
          "2012-10-07T00:00:00.000000000",
          "2012-10-08T00:00:00.000000000",
          "2012-12-03T00:00:00.000000000",
          "2012-12-04T00:00:00.000000000",
          "2013-02-12T00:00:00.000000000",
          "2013-02-13T00:00:00.000000000",
          "2013-03-06T00:00:00.000000000",
          "2013-03-07T00:00:00.000000000",
          "2013-04-05T00:00:00.000000000",
          "2013-04-06T00:00:00.000000000",
          "2013-05-18T00:00:00.000000000",
          "2013-09-11T00:00:00.000000000",
          "2013-09-12T00:00:00.000000000",
          "2013-10-01T00:00:00.000000000",
          "2013-10-02T00:00:00.000000000",
          "2013-10-27T00:00:00.000000000",
          "2013-11-26T00:00:00.000000000",
          "2013-11-27T00:00:00.000000000",
          "2013-12-20T00:00:00.000000000",
          "2013-12-21T00:00:00.000000000",
          "2014-01-16T00:00:00.000000000",
          "2014-02-14T00:00:00.000000000",
          "2014-02-15T00:00:00.000000000",
          "2014-03-05T00:00:00.000000000",
          "2014-03-06T00:00:00.000000000",
          "2014-04-10T00:00:00.000000000",
          "2014-04-11T00:00:00.000000000",
          "2014-05-31T00:00:00.000000000",
          "2014-06-01T00:00:00.000000000",
          "2014-06-30T00:00:00.000000000",
          "2014-07-01T00:00:00.000000000",
          "2014-09-14T00:00:00.000000000",
          "2014-09-15T00:00:00.000000000",
          "2014-10-13T00:00:00.000000000",
          "2014-10-14T00:00:00.000000000",
          "2014-11-21T00:00:00.000000000",
          "2014-11-22T00:00:00.000000000",
          "2014-12-16T00:00:00.000000000",
          "2014-12-17T00:00:00.000000000",
          "2015-02-24T00:00:00.000000000",
          "2015-02-25T00:00:00.000000000",
          "2015-03-28T00:00:00.000000000",
          "2015-04-21T00:00:00.000000000",
          "2015-04-22T00:00:00.000000000",
          "2015-05-23T00:00:00.000000000",
          "2015-05-24T00:00:00.000000000",
          "2015-06-19T00:00:00.000000000",
          "2015-06-20T00:00:00.000000000",
          "2015-07-19T00:00:00.000000000",
          "2015-07-20T00:00:00.000000000",
          "2015-08-12T00:00:00.000000000",
          "2015-08-13T00:00:00.000000000",
          "2015-10-13T00:00:00.000000000",
          "2015-10-14T00:00:00.000000000",
          "2015-11-13T00:00:00.000000000",
          "2015-11-14T00:00:00.000000000",
          "2015-12-08T00:00:00.000000000",
          "2015-12-09T00:00:00.000000000",
          "2016-01-12T00:00:00.000000000",
          "2016-01-13T00:00:00.000000000",
          "2016-02-09T00:00:00.000000000",
          "2016-02-10T00:00:00.000000000",
          "2016-03-08T00:00:00.000000000",
          "2016-03-09T00:00:00.000000000",
          "2016-04-14T00:00:00.000000000",
          "2016-04-15T00:00:00.000000000",
          "2016-05-28T00:00:00.000000000",
          "2016-05-29T00:00:00.000000000",
          "2016-07-11T00:00:00.000000000",
          "2016-07-12T00:00:00.000000000",
          "2016-08-09T00:00:00.000000000",
          "2016-08-10T00:00:00.000000000",
          "2016-10-15T00:00:00.000000000",
          "2016-10-16T00:00:00.000000000",
          "2016-11-28T00:00:00.000000000",
          "2017-01-24T00:00:00.000000000",
          "2017-02-24T00:00:00.000000000",
          "2017-02-25T00:00:00.000000000",
          "2017-03-28T00:00:00.000000000",
          "2017-03-29T00:00:00.000000000",
          "2017-04-25T00:00:00.000000000",
          "2017-04-26T00:00:00.000000000",
          "2017-05-23T00:00:00.000000000",
          "2017-05-24T00:00:00.000000000",
          "2017-06-20T00:00:00.000000000",
          "2017-06-21T00:00:00.000000000",
          "2017-08-08T00:00:00.000000000",
          "2017-08-09T00:00:00.000000000",
          "2017-10-07T00:00:00.000000000",
          "2017-11-08T00:00:00.000000000",
          "2017-11-09T00:00:00.000000000",
          "2017-12-13T00:00:00.000000000",
          "2018-02-25T00:00:00.000000000",
          "2018-02-26T00:00:00.000000000",
          "2018-04-18T00:00:00.000000000",
          "2018-05-15T00:00:00.000000000",
          "2018-06-26T00:00:00.000000000",
          "2018-06-27T00:00:00.000000000",
          "2018-07-24T00:00:00.000000000",
          "2018-09-10T00:00:00.000000000",
          "2018-09-11T00:00:00.000000000",
          "2018-10-12T00:00:00.000000000",
          "2018-10-13T00:00:00.000000000",
          "2018-11-16T00:00:00.000000000",
          "2018-11-17T00:00:00.000000000",
          "2019-01-16T00:00:00.000000000",
          "2019-02-20T00:00:00.000000000",
          "2019-05-02T00:00:00.000000000",
          "2019-05-03T00:00:00.000000000",
          "2019-06-12T00:00:00.000000000",
          "2019-07-01T00:00:00.000000000",
          "2019-07-02T00:00:00.000000000",
          "2019-08-03T00:00:00.000000000",
          "2019-09-04T00:00:00.000000000",
          "2019-09-05T00:00:00.000000000",
          "2019-10-18T00:00:00.000000000",
          "2019-12-20T00:00:00.000000000",
          "2020-08-07T00:00:00.000000000",
          "2020-08-08T00:00:00.000000000",
          "2020-08-09T00:00:00.000000000",
          "2020-09-02T00:00:00.000000000",
          "2020-09-03T00:00:00.000000000",
          "2020-09-26T00:00:00.000000000",
          "2020-09-27T00:00:00.000000000",
          "2020-11-18T00:00:00.000000000",
          "2020-11-19T00:00:00.000000000",
          "2020-12-18T00:00:00.000000000",
          "2020-12-19T00:00:00.000000000",
          "2021-01-12T00:00:00.000000000",
          "2021-01-13T00:00:00.000000000",
          "2021-02-16T00:00:00.000000000",
          "2021-02-17T00:00:00.000000000",
          "2021-03-23T00:00:00.000000000",
          "2021-04-13T00:00:00.000000000",
          "2021-04-14T00:00:00.000000000",
          "2021-05-16T00:00:00.000000000",
          "2021-05-17T00:00:00.000000000",
          "2021-06-22T00:00:00.000000000",
          "2021-06-23T00:00:00.000000000",
          "2021-10-30T00:00:00.000000000",
          "2021-11-01T00:00:00.000000000",
          "2021-12-06T00:00:00.000000000",
          "2022-03-27T00:00:00.000000000",
          "2022-03-28T00:00:00.000000000",
          "2022-05-26T00:00:00.000000000",
          "2022-05-27T00:00:00.000000000",
          "2022-07-09T00:00:00.000000000",
          "2022-07-10T00:00:00.000000000",
          "2022-07-31T00:00:00.000000000",
          "2022-09-01T00:00:00.000000000"
         ],
         "y": [
          0.4207734806629835,
          0.2419047619047619,
          0.8012698412698414,
          0.618048780487805,
          0.7365137614678899,
          1.1163306809399778,
          1.6362100769474015,
          1.8193548387096776,
          1.842990927714369,
          1.4508454106280193,
          1.1698795180722892,
          1.3760846560846562,
          1.1324074074074075,
          0.4624761904761905,
          1.147716535433071,
          0.6884313725490196,
          0.5670270270270271,
          0.7887671232876714,
          1.8146669130555297,
          1.2241509433962263,
          1.655929511013904,
          1.911288888888889,
          1.1344280020793622,
          1.5590643274853802,
          2.418378378378378,
          1.573800253364207,
          1.1206103448275864,
          1.315372696577609,
          1.908226724488413,
          1.5945098039215688,
          1.8869979296066253,
          2.0836363636363635,
          2.0318794326241134,
          1.4000000000000001,
          1.5091857908461386,
          3.2826829268292688,
          2.9791323529411766,
          1.8061650793650792,
          1.920176366815693,
          1.782454526618209,
          1.158406708595388,
          1.2023668639053255,
          0.5317293233082707,
          1.093214683866858,
          0.9830863599677159,
          0.9885,
          1.0200431034482758,
          1.5692307692307694,
          1.931032024793388,
          2.202016806722689,
          1.9017910447761197,
          2.0455531531531537,
          1.731891891891892,
          1.4472471515615954,
          2.5748814081211773,
          1.6645977011494253,
          1.2333436652460288,
          0.8242251955713247,
          0.89203007518797,
          1.0432831748484261,
          2.1539710547184776,
          2.231232876712329,
          2.0016129032258063,
          2.1314619883040935,
          0.7888721804511278,
          2.4274285714285715,
          3.187986537898742,
          2.710440251572327,
          2.220568673096109,
          2.629249694887637,
          0.8276470903831132,
          1.8064725073605477,
          1.551830985915493,
          1.8975070469242252,
          0.7894857142857143,
          0.7004031566306401,
          1.3081610738255034,
          1.2024242424242426,
          1.4207149147083984,
          1.2566666666666668,
          1.841467889908257,
          1.6969486166007905,
          1.8422346368715088,
          2.4009687612965607,
          2.1723595505617976,
          1.622332628611698,
          2.587571428571429,
          1.2394736842105263,
          1.4999213568423744,
          1.288951724137931,
          0.8292156862745099,
          1.4840082662055585,
          1.878248175182482,
          1.2926633165829147,
          1.1324567322711654,
          1.8484936752136756,
          1.0562814339218833,
          0.8674125874125874,
          1.4077142857142857,
          1.333488372093023,
          1.3448767869298843,
          1.7893817386576751,
          2.417700258397933,
          2.110697674418604,
          2.570585542168675,
          3.4332673267326728,
          2.434408602150538,
          2.413480662983426,
          2.2632409337582913,
          2.22149743332916,
          1.7223880597014927,
          2.243598634567014,
          2.6786206896551725,
          2.580469697612282,
          1.5114782608695654,
          1.5972649572649573,
          1.6384372955288988,
          1.9427848101265823,
          2.432700064020487,
          2.3485714285714288,
          2.245952380952381,
          2.1842047930283224,
          2.010148112756809,
          2.0427745664739887,
          2.3332448962510557,
          2.60375,
          3.332332467532467,
          2.473907284768212,
          2.5573831775700935,
          3.2157547169811327,
          1.590810810810811,
          1.0334126072932042,
          1.1727272727272728,
          1.1715909090909091,
          1.4792356687898092,
          1.3090092514718252,
          1.3081481481481483,
          2.136994598133901,
          2.1612500000000003,
          3.542451756556161,
          1.9665802197802198,
          2.873563218390805,
          2.096304347826087,
          2.0266159362714955,
          1.4798063200815497,
          1.6062500000000002,
          1.9072126878920586,
          1.212289156626506,
          1.8202368862870903,
          1.6792546583850934,
          1.584049450549451,
          2.0041173417892537,
          1.3769645262685228,
          1.52,
          1.7490400344382266,
          1.764102564102564,
          2.7828129146395404,
          2.717142857142857,
          2.3777214454096294,
          2.1651685393258426,
          2.4255800634625806,
          3.0015873015873016,
          2.4302445652173916,
          1.437979797979798,
          1.7374375332270071,
          2.0084498850130257,
          1.577052883630807,
          1.8658604651162791,
          2.666931557528672,
          1.9035897435897438,
          2.2411518915866746,
          2.2727093596059116,
          2.7484535786145443,
          2.1691005291005294,
          2.0394749111476282,
          2.290306748466258,
          3.2573778843272403,
          2.6146545454545453,
          1.601780772686433,
          1.231055900621118,
          1.6344838606583576,
          1.3810650887573965,
          1.1399733510992671,
          1.0285416666666665,
          1.7937822947678201,
          1.680658436213992,
          2.1159777051194837,
          2.5946391752577322,
          2.4575221238938054,
          2.656805960264901,
          3.2485106382978723,
          2.887963622956864,
          2.2416470588235295,
          2.5577600000000005,
          2.352641577060932,
          1.70183799675588,
          1.5950967741935487,
          1.8863013698630138,
          1.4917808219178084,
          1.798428171641791,
          1.6351612903225807,
          1.4539357168652944,
          1.5162500000000003,
          2.0559657142857146,
          1.6611428571428573,
          1.8324883116883115,
          1.8462702702702705,
          2.541333333333334,
          0.9583050847457628,
          1.8816,
          2.16260162601626,
          1.1146236559139786,
          1.4860214646464647,
          0.9614003496503498,
          1.0230051813471503,
          2.4407865168539327,
          3.1865168539325848,
          1.5325607725607726,
          2.142105263157895,
          2.33772972972973,
          2.673874698795181,
          2.140487804878049,
          2.1620716981132078,
          2.618064516129033,
          3.327819999999999,
          2.978175032175032,
          3.5334400000000006,
          1.4060744680851063,
          2.068930817610063,
          1.2795000000000003,
          1.2846258503401362,
          1.8794871794871797,
          1.489069758080747,
          0.9905555555555557,
          0.9610744360902257,
          1.1205063291139241,
          1.9679648816664852,
          3.0397101700798337,
          3.0352173913043483,
          2.2686361746361743,
          2.3184732824427483,
          2.095381239202503,
          1.44775,
          2.067286157611784,
          0.4243835616438356,
          1.4525960061443932,
          1.5753686293913904,
          1.0987906976744186,
          3.0553896103896108,
          0.9920675105485233,
          1.00975,
          1.4890526315789474,
          2.8259770366320396,
          1.4323255813953488,
          0.8852380952380952,
          1.7418643738463038,
          1.876078431372549,
          1.549264705882353,
          1.6234285714285717,
          2.313723463910919,
          1.0745341614906834,
          1.423242207316386,
          1.3221556886227546,
          2.1593548387096777,
          1.835441860465116,
          1.7880794701986755,
          3.028623475368288,
          1.6405333333333336,
          1.2588429752066117,
          1.9814634146341465,
          1.626067377901227,
          0.904391129032258,
          2.088944444444445,
          2.6726666666666667,
          1.5008743169398908,
          0.9897142857142859,
          1.899714285714286,
          2.249142857142857,
          1.0424,
          2.094700854700855,
          1.8959434983197587,
          2.8722651933701657,
          2.040692640692641,
          1.9805464480874317,
          1.8179787234042555,
          1.4895918367346939,
          1.383421052631579,
          1.6118060116190958,
          1.4492665130568358,
          2.0682474226804124,
          2.4701604278074867,
          2.830541180449856,
          1.6664840182648402,
          1.704494452183102,
          2.017413793103448,
          2.724622222222222,
          1.69396449704142,
          1.5848998269992747,
          1.479277108433735,
          2.291285829307568,
          2.0193220338983053,
          1.5429626884111687,
          1.8081632653061224,
          1.2351912252850337,
          1.156121212121212,
          1.1688225371120107,
          0.7401834862385321,
          3.2137747899159663,
          1.6952000000000003,
          2.741722222222222,
          1.407833947104118,
          1.808457142857143,
          2.0939067669172933,
          1.610485436893204,
          2.843014575186633,
          2.4425142857142856,
          1.2444670050761424,
          1.5014097669382873,
          1.1889473684210525,
          1.4608178037540744,
          0.9354472691993915,
          1.08972972972973,
          0.887153866248694,
          1.647924528301887,
          1.4520005751533744,
          2.095652173913044,
          2.8319012624835125,
          1.8221818181818183,
          1.5459748508098894,
          1.5853061224489797,
          2.254048917748918,
          1.7007894736842104,
          2.3920079739035884,
          2.3549514563106797,
          2.3168627450980392,
          2.1382716049382715,
          1.7179350438817154,
          1.1775438596491228,
          1.9347620827770364,
          2.290393700787402,
          1.8807268691912886,
          1.3780531400966185,
          1.9172972972972973,
          2.8493904274533417,
          2.520294117647059,
          2.349638020368054,
          2.893513513513514,
          3.211490598290599,
          2.1352380952380954,
          2.9740386484884413,
          2.374915254237288,
          3.431317972350231,
          2.6765079365079365,
          2.985976282404854,
          2.1487323943661973,
          2.1698113207547176,
          1.8541304347826086,
          1.2905456561336819,
          1.2998918918918918,
          1.4544815832875209,
          1.494529914529915,
          1.015737757048972,
          0.9118324607329843,
          1.3552,
          1.3910931174089072,
          1.9203428571428576,
          1.3215384615384616,
          2.005296167247387,
          2.3688549618320613,
          1.8624501424501423,
          1.002412955465587,
          1.0835359116022099,
          1.2036994219653179,
          1.274989095955591,
          1.3216347400259254,
          1.1631072289156628,
          0.9013397157996148,
          0.7093577981651377,
          1.1197860962566846,
          1.2962437911129012,
          1.3068852459016396,
          1.770106005009028,
          1.2572727272727275,
          1.081326530612245,
          1.6686567164179102,
          1.3569459792023548,
          1.123193277310924,
          1.522682906620267,
          1.499481151981751,
          1.013644859813084,
          1.5454876033057852,
          1.5447120304844857,
          0.8360283687943261,
          0.6409206586826347,
          1.1855986905499531,
          1.6394139027714676,
          0.9732374100719424,
          1.5033620516930475,
          2.3485057471264366,
          0.7538696733109433,
          1.1082105263157893,
          1.654468085106383,
          2.1720173250173254,
          1.102857142857143,
          1.5220613521560233,
          2.2238894009216588,
          1.2758023864604895,
          1.061467889908257,
          1.5635132403476852,
          2.293650704225352,
          1.2824242424242427,
          1.3369158075601375,
          1.8901681231793592,
          1.931,
          1.8114871794871796,
          1.3753720165185133,
          1.1865193370165747,
          1.3971428571428572,
          1.9344390243902438,
          2.307764705882353,
          1.7869938650306747,
          1.5810793324020294,
          1.74391959798995,
          1.9750260466911058,
          1.1591150442477876,
          1.1803720930232557,
          0.7918407960199004,
          0.9139735915492958,
          0.8349090909090908,
          0.8136504262198706,
          0.85609756097561,
          0.7637095978287689,
          1.022473300552105,
          1.5736363636363635,
          1.8460154851684263,
          1.429452736318408,
          1.4193377275580668,
          1.6458333333333337,
          1.7829347303662406,
          1.1638714998082087,
          1.3913692946058094,
          0.8545171551920019,
          1.2612962962962964,
          1.1018566426765222,
          2.123870967741936,
          2.0892105652195343,
          2.8772,
          2.87234693877551,
          2.1890804263565893,
          2.2816
         ]
        },
        {
         "mode": "lines",
         "name": "Night",
         "type": "scatter",
         "x": [
          "1994-02-17T00:00:00.000000000",
          "1994-02-18T00:00:00.000000000",
          "1994-03-09T00:00:00.000000000",
          "1994-03-10T00:00:00.000000000",
          "1994-06-19T00:00:00.000000000",
          "1994-07-24T00:00:00.000000000",
          "1994-07-25T00:00:00.000000000",
          "1994-08-30T00:00:00.000000000",
          "1994-08-31T00:00:00.000000000",
          "1994-09-24T00:00:00.000000000",
          "1994-10-15T00:00:00.000000000",
          "1994-10-16T00:00:00.000000000",
          "1994-10-17T00:00:00.000000000",
          "1995-02-05T00:00:00.000000000",
          "1995-03-04T00:00:00.000000000",
          "1995-04-06T00:00:00.000000000",
          "1995-04-07T00:00:00.000000000",
          "1995-05-06T00:00:00.000000000",
          "1995-05-07T00:00:00.000000000",
          "1995-07-30T00:00:00.000000000",
          "1995-08-29T00:00:00.000000000",
          "1995-08-30T00:00:00.000000000",
          "1995-09-26T00:00:00.000000000",
          "1995-09-27T00:00:00.000000000",
          "1995-09-28T00:00:00.000000000",
          "1995-10-26T00:00:00.000000000",
          "1995-11-16T00:00:00.000000000",
          "1995-11-17T00:00:00.000000000",
          "1996-01-16T00:00:00.000000000",
          "1996-03-26T00:00:00.000000000",
          "1996-03-27T00:00:00.000000000",
          "1996-04-23T00:00:00.000000000",
          "1996-04-24T00:00:00.000000000",
          "1996-05-21T00:00:00.000000000",
          "1996-05-22T00:00:00.000000000",
          "1996-06-25T00:00:00.000000000",
          "1996-08-20T00:00:00.000000000",
          "1996-10-01T00:00:00.000000000",
          "1996-10-29T00:00:00.000000000",
          "1996-12-10T00:00:00.000000000",
          "1996-12-11T00:00:00.000000000",
          "1997-01-07T00:00:00.000000000",
          "1997-01-08T00:00:00.000000000",
          "1997-02-17T00:00:00.000000000",
          "1997-02-18T00:00:00.000000000",
          "1997-03-11T00:00:00.000000000",
          "1997-03-12T00:00:00.000000000",
          "1997-04-08T00:00:00.000000000",
          "1997-04-09T00:00:00.000000000",
          "1997-05-07T00:00:00.000000000",
          "1997-06-03T00:00:00.000000000",
          "1997-06-04T00:00:00.000000000",
          "1997-07-08T00:00:00.000000000",
          "1997-08-01T00:00:00.000000000",
          "1997-09-24T00:00:00.000000000",
          "1997-12-04T00:00:00.000000000",
          "1997-12-05T00:00:00.000000000",
          "1998-01-10T00:00:00.000000000",
          "1998-01-11T00:00:00.000000000",
          "1998-02-18T00:00:00.000000000",
          "1998-03-17T00:00:00.000000000",
          "1998-03-18T00:00:00.000000000",
          "1998-04-14T00:00:00.000000000",
          "1998-04-15T00:00:00.000000000",
          "1998-05-12T00:00:00.000000000",
          "1998-06-16T00:00:00.000000000",
          "1998-06-17T00:00:00.000000000",
          "1998-07-14T00:00:00.000000000",
          "1998-07-15T00:00:00.000000000",
          "1998-08-09T00:00:00.000000000",
          "1998-09-27T00:00:00.000000000",
          "1998-10-18T00:00:00.000000000",
          "1998-10-19T00:00:00.000000000",
          "1998-11-10T00:00:00.000000000",
          "1998-11-11T00:00:00.000000000",
          "1998-12-08T00:00:00.000000000",
          "1999-01-12T00:00:00.000000000",
          "1999-01-13T00:00:00.000000000",
          "1999-02-17T00:00:00.000000000",
          "1999-03-16T00:00:00.000000000",
          "1999-03-17T00:00:00.000000000",
          "1999-04-13T00:00:00.000000000",
          "1999-04-14T00:00:00.000000000",
          "1999-05-09T00:00:00.000000000",
          "1999-07-13T00:00:00.000000000",
          "1999-07-14T00:00:00.000000000",
          "1999-08-12T00:00:00.000000000",
          "1999-08-13T00:00:00.000000000",
          "1999-08-14T00:00:00.000000000",
          "1999-10-14T00:00:00.000000000",
          "1999-10-15T00:00:00.000000000",
          "1999-11-08T00:00:00.000000000",
          "1999-11-09T00:00:00.000000000",
          "1999-12-14T00:00:00.000000000",
          "1999-12-15T00:00:00.000000000",
          "2000-01-31T00:00:00.000000000",
          "2000-02-02T00:00:00.000000000",
          "2000-02-03T00:00:00.000000000",
          "2000-02-29T00:00:00.000000000",
          "2000-03-28T00:00:00.000000000",
          "2000-03-29T00:00:00.000000000",
          "2000-04-25T00:00:00.000000000",
          "2000-05-23T00:00:00.000000000",
          "2000-05-24T00:00:00.000000000",
          "2000-06-20T00:00:00.000000000",
          "2000-06-21T00:00:00.000000000",
          "2000-07-14T00:00:00.000000000",
          "2000-07-25T00:00:00.000000000",
          "2000-08-22T00:00:00.000000000",
          "2000-08-23T00:00:00.000000000",
          "2000-10-17T00:00:00.000000000",
          "2000-10-18T00:00:00.000000000",
          "2000-11-29T00:00:00.000000000",
          "2000-12-19T00:00:00.000000000",
          "2000-12-20T00:00:00.000000000",
          "2001-01-16T00:00:00.000000000",
          "2001-01-17T00:00:00.000000000",
          "2001-02-13T00:00:00.000000000",
          "2001-03-20T00:00:00.000000000",
          "2001-03-21T00:00:00.000000000",
          "2001-04-17T00:00:00.000000000",
          "2001-04-18T00:00:00.000000000",
          "2001-05-15T00:00:00.000000000",
          "2001-05-16T00:00:00.000000000",
          "2001-06-13T00:00:00.000000000",
          "2001-08-08T00:00:00.000000000",
          "2001-10-01T00:00:00.000000000",
          "2001-10-02T00:00:00.000000000",
          "2001-10-22T00:00:00.000000000",
          "2001-10-23T00:00:00.000000000",
          "2001-11-16T00:00:00.000000000",
          "2001-11-17T00:00:00.000000000",
          "2002-01-15T00:00:00.000000000",
          "2002-01-16T00:00:00.000000000",
          "2002-02-20T00:00:00.000000000",
          "2002-02-21T00:00:00.000000000",
          "2002-03-12T00:00:00.000000000",
          "2002-03-13T00:00:00.000000000",
          "2002-05-20T00:00:00.000000000",
          "2002-05-21T00:00:00.000000000",
          "2002-06-29T00:00:00.000000000",
          "2002-06-30T00:00:00.000000000",
          "2002-08-27T00:00:00.000000000",
          "2002-08-28T00:00:00.000000000",
          "2002-10-07T00:00:00.000000000",
          "2002-11-03T00:00:00.000000000",
          "2002-12-12T00:00:00.000000000",
          "2002-12-13T00:00:00.000000000",
          "2003-01-16T00:00:00.000000000",
          "2003-01-17T00:00:00.000000000",
          "2003-02-24T00:00:00.000000000",
          "2003-02-25T00:00:00.000000000",
          "2003-03-27T00:00:00.000000000",
          "2003-03-28T00:00:00.000000000",
          "2003-04-23T00:00:00.000000000",
          "2003-04-24T00:00:00.000000000",
          "2003-05-20T00:00:00.000000000",
          "2003-05-21T00:00:00.000000000",
          "2003-06-19T00:00:00.000000000",
          "2003-06-20T00:00:00.000000000",
          "2003-07-19T00:00:00.000000000",
          "2003-08-20T00:00:00.000000000",
          "2003-08-21T00:00:00.000000000",
          "2003-10-14T00:00:00.000000000",
          "2003-10-15T00:00:00.000000000",
          "2003-11-08T00:00:00.000000000",
          "2003-11-09T00:00:00.000000000",
          "2003-11-10T00:00:00.000000000",
          "2004-01-21T00:00:00.000000000",
          "2004-01-22T00:00:00.000000000",
          "2004-02-24T00:00:00.000000000",
          "2004-03-19T00:00:00.000000000",
          "2004-03-20T00:00:00.000000000",
          "2004-04-20T00:00:00.000000000",
          "2004-04-21T00:00:00.000000000",
          "2004-05-18T00:00:00.000000000",
          "2004-06-15T00:00:00.000000000",
          "2004-06-16T00:00:00.000000000",
          "2004-08-15T00:00:00.000000000",
          "2004-08-16T00:00:00.000000000",
          "2004-08-17T00:00:00.000000000",
          "2004-09-28T00:00:00.000000000",
          "2004-10-30T00:00:00.000000000",
          "2004-10-31T00:00:00.000000000",
          "2004-11-28T00:00:00.000000000",
          "2004-12-19T00:00:00.000000000",
          "2004-12-20T00:00:00.000000000",
          "2004-12-21T00:00:00.000000000",
          "2005-02-01T00:00:00.000000000",
          "2005-02-02T00:00:00.000000000",
          "2005-03-04T00:00:00.000000000",
          "2005-03-05T00:00:00.000000000",
          "2005-06-14T00:00:00.000000000",
          "2005-07-16T00:00:00.000000000",
          "2005-07-17T00:00:00.000000000",
          "2005-07-18T00:00:00.000000000",
          "2005-08-13T00:00:00.000000000",
          "2005-08-14T00:00:00.000000000",
          "2005-10-10T00:00:00.000000000",
          "2005-11-12T00:00:00.000000000",
          "2005-11-13T00:00:00.000000000",
          "2005-12-13T00:00:00.000000000",
          "2005-12-14T00:00:00.000000000",
          "2006-02-15T00:00:00.000000000",
          "2006-02-16T00:00:00.000000000",
          "2006-03-10T00:00:00.000000000",
          "2006-03-11T00:00:00.000000000",
          "2006-03-12T00:00:00.000000000",
          "2006-04-02T00:00:00.000000000",
          "2006-04-03T00:00:00.000000000",
          "2006-06-14T00:00:00.000000000",
          "2006-06-15T00:00:00.000000000",
          "2006-08-09T00:00:00.000000000",
          "2006-08-10T00:00:00.000000000",
          "2006-09-16T00:00:00.000000000",
          "2006-09-17T00:00:00.000000000",
          "2006-10-21T00:00:00.000000000",
          "2006-10-22T00:00:00.000000000",
          "2006-11-09T00:00:00.000000000",
          "2006-11-10T00:00:00.000000000",
          "2006-12-10T00:00:00.000000000",
          "2006-12-11T00:00:00.000000000",
          "2007-02-07T00:00:00.000000000",
          "2007-02-08T00:00:00.000000000",
          "2007-03-21T00:00:00.000000000",
          "2007-03-22T00:00:00.000000000",
          "2007-05-05T00:00:00.000000000",
          "2007-05-06T00:00:00.000000000",
          "2007-06-10T00:00:00.000000000",
          "2007-06-11T00:00:00.000000000",
          "2007-07-08T00:00:00.000000000",
          "2007-07-09T00:00:00.000000000",
          "2007-09-03T00:00:00.000000000",
          "2007-10-03T00:00:00.000000000",
          "2007-10-04T00:00:00.000000000",
          "2007-12-02T00:00:00.000000000",
          "2007-12-03T00:00:00.000000000",
          "2007-12-22T00:00:00.000000000",
          "2008-01-30T00:00:00.000000000",
          "2008-01-31T00:00:00.000000000",
          "2008-02-24T00:00:00.000000000",
          "2008-02-25T00:00:00.000000000",
          "2008-05-28T00:00:00.000000000",
          "2008-06-26T00:00:00.000000000",
          "2008-08-16T00:00:00.000000000",
          "2008-08-17T00:00:00.000000000",
          "2008-10-10T00:00:00.000000000",
          "2008-11-30T00:00:00.000000000",
          "2008-12-01T00:00:00.000000000",
          "2009-01-21T00:00:00.000000000",
          "2009-02-18T00:00:00.000000000",
          "2009-04-28T00:00:00.000000000",
          "2009-04-29T00:00:00.000000000",
          "2009-05-27T00:00:00.000000000",
          "2009-05-28T00:00:00.000000000",
          "2009-07-03T00:00:00.000000000",
          "2009-07-04T00:00:00.000000000",
          "2009-09-24T00:00:00.000000000",
          "2009-09-25T00:00:00.000000000",
          "2009-11-03T00:00:00.000000000",
          "2009-12-10T00:00:00.000000000",
          "2010-04-06T00:00:00.000000000",
          "2010-04-07T00:00:00.000000000",
          "2010-05-17T00:00:00.000000000",
          "2010-05-18T00:00:00.000000000",
          "2010-06-07T00:00:00.000000000",
          "2010-06-08T00:00:00.000000000",
          "2010-07-07T00:00:00.000000000",
          "2010-07-08T00:00:00.000000000",
          "2010-08-06T00:00:00.000000000",
          "2010-08-07T00:00:00.000000000",
          "2010-09-03T00:00:00.000000000",
          "2010-10-03T00:00:00.000000000",
          "2010-11-19T00:00:00.000000000",
          "2010-11-20T00:00:00.000000000",
          "2011-01-28T00:00:00.000000000",
          "2011-02-27T00:00:00.000000000",
          "2011-02-28T00:00:00.000000000",
          "2011-04-10T00:00:00.000000000",
          "2011-04-11T00:00:00.000000000",
          "2011-05-08T00:00:00.000000000",
          "2011-05-09T00:00:00.000000000",
          "2011-07-19T00:00:00.000000000",
          "2011-08-29T00:00:00.000000000",
          "2011-11-03T00:00:00.000000000",
          "2011-11-28T00:00:00.000000000",
          "2011-12-18T00:00:00.000000000",
          "2011-12-19T00:00:00.000000000",
          "2012-01-17T00:00:00.000000000",
          "2012-01-18T00:00:00.000000000",
          "2012-03-23T00:00:00.000000000",
          "2012-03-24T00:00:00.000000000",
          "2012-05-01T00:00:00.000000000",
          "2012-05-29T00:00:00.000000000",
          "2012-05-30T00:00:00.000000000",
          "2012-06-25T00:00:00.000000000",
          "2012-06-26T00:00:00.000000000",
          "2012-07-30T00:00:00.000000000",
          "2012-07-31T00:00:00.000000000",
          "2012-08-16T00:00:00.000000000",
          "2012-08-17T00:00:00.000000000",
          "2012-09-13T00:00:00.000000000",
          "2012-09-14T00:00:00.000000000",
          "2012-10-07T00:00:00.000000000",
          "2012-10-08T00:00:00.000000000",
          "2012-12-04T00:00:00.000000000",
          "2013-02-12T00:00:00.000000000",
          "2013-02-13T00:00:00.000000000",
          "2013-03-06T00:00:00.000000000",
          "2013-03-07T00:00:00.000000000",
          "2013-04-05T00:00:00.000000000",
          "2013-04-06T00:00:00.000000000",
          "2013-05-18T00:00:00.000000000",
          "2013-06-26T00:00:00.000000000",
          "2013-09-11T00:00:00.000000000",
          "2013-09-12T00:00:00.000000000",
          "2013-10-01T00:00:00.000000000",
          "2013-10-02T00:00:00.000000000",
          "2013-10-27T00:00:00.000000000",
          "2013-10-28T00:00:00.000000000",
          "2013-11-26T00:00:00.000000000",
          "2013-11-27T00:00:00.000000000",
          "2013-12-20T00:00:00.000000000",
          "2013-12-21T00:00:00.000000000",
          "2014-01-16T00:00:00.000000000",
          "2014-02-15T00:00:00.000000000",
          "2014-03-05T00:00:00.000000000",
          "2014-03-06T00:00:00.000000000",
          "2014-04-10T00:00:00.000000000",
          "2014-04-11T00:00:00.000000000",
          "2014-05-31T00:00:00.000000000",
          "2014-06-01T00:00:00.000000000",
          "2014-06-30T00:00:00.000000000",
          "2014-07-01T00:00:00.000000000",
          "2014-09-14T00:00:00.000000000",
          "2014-09-15T00:00:00.000000000",
          "2014-10-13T00:00:00.000000000",
          "2014-11-21T00:00:00.000000000",
          "2014-11-22T00:00:00.000000000",
          "2014-12-16T00:00:00.000000000",
          "2014-12-17T00:00:00.000000000",
          "2015-02-24T00:00:00.000000000",
          "2015-02-25T00:00:00.000000000",
          "2015-03-29T00:00:00.000000000",
          "2015-04-21T00:00:00.000000000",
          "2015-04-22T00:00:00.000000000",
          "2015-05-23T00:00:00.000000000",
          "2015-05-24T00:00:00.000000000",
          "2015-06-20T00:00:00.000000000",
          "2015-07-19T00:00:00.000000000",
          "2015-07-20T00:00:00.000000000",
          "2015-08-12T00:00:00.000000000",
          "2015-08-13T00:00:00.000000000",
          "2015-10-13T00:00:00.000000000",
          "2015-10-14T00:00:00.000000000",
          "2015-11-13T00:00:00.000000000",
          "2015-12-08T00:00:00.000000000",
          "2015-12-09T00:00:00.000000000",
          "2016-01-12T00:00:00.000000000",
          "2016-01-13T00:00:00.000000000",
          "2016-02-09T00:00:00.000000000",
          "2016-02-10T00:00:00.000000000",
          "2016-04-14T00:00:00.000000000",
          "2016-04-15T00:00:00.000000000",
          "2016-05-28T00:00:00.000000000",
          "2016-05-29T00:00:00.000000000",
          "2016-07-11T00:00:00.000000000",
          "2016-07-12T00:00:00.000000000",
          "2016-08-09T00:00:00.000000000",
          "2016-08-10T00:00:00.000000000",
          "2016-10-15T00:00:00.000000000",
          "2016-10-16T00:00:00.000000000",
          "2016-11-26T00:00:00.000000000",
          "2017-01-23T00:00:00.000000000",
          "2017-01-24T00:00:00.000000000",
          "2017-02-23T00:00:00.000000000",
          "2017-02-24T00:00:00.000000000",
          "2017-03-28T00:00:00.000000000",
          "2017-03-29T00:00:00.000000000",
          "2017-04-25T00:00:00.000000000",
          "2017-04-26T00:00:00.000000000",
          "2017-05-23T00:00:00.000000000",
          "2017-05-24T00:00:00.000000000",
          "2017-06-20T00:00:00.000000000",
          "2017-06-21T00:00:00.000000000",
          "2017-08-08T00:00:00.000000000",
          "2017-08-09T00:00:00.000000000",
          "2017-10-06T00:00:00.000000000",
          "2017-10-07T00:00:00.000000000",
          "2017-11-08T00:00:00.000000000",
          "2017-11-09T00:00:00.000000000",
          "2017-12-12T00:00:00.000000000",
          "2018-01-17T00:00:00.000000000",
          "2018-02-25T00:00:00.000000000",
          "2018-04-17T00:00:00.000000000",
          "2018-05-15T00:00:00.000000000",
          "2018-06-26T00:00:00.000000000",
          "2018-07-24T00:00:00.000000000",
          "2018-09-10T00:00:00.000000000",
          "2018-10-12T00:00:00.000000000",
          "2018-10-13T00:00:00.000000000",
          "2018-11-16T00:00:00.000000000",
          "2018-11-17T00:00:00.000000000",
          "2019-01-15T00:00:00.000000000",
          "2019-01-16T00:00:00.000000000",
          "2019-02-19T00:00:00.000000000",
          "2019-02-20T00:00:00.000000000",
          "2019-05-02T00:00:00.000000000",
          "2019-05-03T00:00:00.000000000",
          "2019-06-11T00:00:00.000000000",
          "2019-06-12T00:00:00.000000000",
          "2019-07-01T00:00:00.000000000",
          "2019-07-02T00:00:00.000000000",
          "2019-08-02T00:00:00.000000000",
          "2019-08-03T00:00:00.000000000",
          "2019-09-04T00:00:00.000000000",
          "2019-09-05T00:00:00.000000000",
          "2019-10-17T00:00:00.000000000",
          "2019-10-18T00:00:00.000000000",
          "2019-12-19T00:00:00.000000000",
          "2019-12-20T00:00:00.000000000",
          "2020-08-07T00:00:00.000000000",
          "2020-08-08T00:00:00.000000000",
          "2020-09-02T00:00:00.000000000",
          "2020-09-03T00:00:00.000000000",
          "2020-09-26T00:00:00.000000000",
          "2020-09-28T00:00:00.000000000",
          "2020-11-18T00:00:00.000000000",
          "2020-11-19T00:00:00.000000000",
          "2020-12-18T00:00:00.000000000",
          "2020-12-19T00:00:00.000000000",
          "2021-01-12T00:00:00.000000000",
          "2021-01-13T00:00:00.000000000",
          "2021-02-16T00:00:00.000000000",
          "2021-02-17T00:00:00.000000000",
          "2021-03-23T00:00:00.000000000",
          "2021-03-24T00:00:00.000000000",
          "2021-04-13T00:00:00.000000000",
          "2021-04-14T00:00:00.000000000",
          "2021-05-16T00:00:00.000000000",
          "2021-05-17T00:00:00.000000000",
          "2021-06-23T00:00:00.000000000",
          "2021-10-28T00:00:00.000000000",
          "2021-10-29T00:00:00.000000000",
          "2021-12-06T00:00:00.000000000",
          "2022-03-27T00:00:00.000000000",
          "2022-03-28T00:00:00.000000000",
          "2022-05-26T00:00:00.000000000",
          "2022-05-27T00:00:00.000000000",
          "2022-07-09T00:00:00.000000000",
          "2022-07-10T00:00:00.000000000",
          "2022-07-30T00:00:00.000000000",
          "2022-07-31T00:00:00.000000000",
          "2022-09-01T00:00:00.000000000"
         ],
         "y": [
          1.4797350993377483,
          1.57,
          1.0117829457364342,
          1.5043936698192715,
          1.6717826755850398,
          2.3782857142857146,
          1.7735519125683064,
          2.973592233009709,
          2.6902172284644195,
          1.9706382978723405,
          1.5876056338028168,
          1.6659360730593609,
          2.592671755725191,
          1.4842236024844722,
          2.4474270072992703,
          2.0489845166275376,
          3.626923076923077,
          2.7041049382716054,
          2.1803508771929825,
          2.1743304818613214,
          1.828717948717949,
          2.9586206896551723,
          1.8954054054054055,
          4.1577570093457945,
          3.466764705882353,
          2.271023378582202,
          2.3035294117647056,
          1.6679518072289157,
          1.9936150932710348,
          2.787272727272727,
          2.4425189519882964,
          3.1443632093340406,
          4.5006289308176095,
          4.163635574083724,
          2.6815748031496063,
          2.9319018491148725,
          2.569128461609706,
          4.244767425810905,
          2.646516883839187,
          2.181844682835821,
          1.4968627450980394,
          1.140377043710377,
          2.4378378378378383,
          1.662900900900901,
          1.6721804511278195,
          1.7206558592922232,
          2.2923076923076926,
          3.4369231967596208,
          2.8843010752688176,
          2.4184572072072075,
          3.1949318181818183,
          3.3600000000000003,
          2.814156390541129,
          2.26448087431694,
          4.245581395348838,
          1.7704754399789864,
          1.8204761904761906,
          1.5356396217023396,
          2.1856,
          1.7486151045337093,
          3.3224394890183784,
          2.846060606060606,
          2.3649704142011836,
          4.072274993440042,
          2.137,
          4.217880319148937,
          4.45027027027027,
          3.715622430333486,
          4.287272727272727,
          3.0331535328715646,
          1.7146860398682777,
          2.0373564727954974,
          2.4983098591549298,
          2.1423813291139244,
          2.3846153846153846,
          2.0193438746859758,
          3.010762162162162,
          1.7874468085106388,
          2.4145619479992795,
          2.032908999497235,
          2.163076923076923,
          2.4651540832049306,
          2.9715107913669065,
          2.7031870061457415,
          3.751818181818182,
          2.854884559265299,
          3.6584,
          3.2981984126984125,
          2.1425,
          2.37768115942029,
          1.7364571428571431,
          2.35275106685633,
          2.186329113924051,
          2.3718000000000004,
          2.3740880503144655,
          2.822969397969398,
          2.366660816147433,
          1.8506060606060606,
          2.6641928057553956,
          2.7869953350296868,
          3.9528571428571433,
          3.338168414640606,
          4.394826724312639,
          4.629473684210526,
          2.7686,
          4.133402061855671,
          4.683559975992455,
          3.373757267441861,
          2.6792373791621915,
          2.9359595959595963,
          3.5193855606758833,
          3.0645614035087725,
          3.9069728237800234,
          3.633202614379085,
          2.01932326222313,
          3.267037037037037,
          2.8058287545787546,
          3.205882352941177,
          3.2311538461538465,
          3.002197802197802,
          3.5514259289843113,
          3.405161290322581,
          2.9774860681114554,
          3.324656084656085,
          3.136866954969123,
          2.8367318375297597,
          4.444210329690857,
          3.8584210526315794,
          3.8346875000000007,
          3.7621174962614834,
          3.565508108108108,
          3.526666666666667,
          2.419150371484571,
          1.6063589743589741,
          1.744065934065934,
          2.645769230769231,
          2.1234092003853564,
          1.74,
          3.204970161977835,
          3.127735849056604,
          3.703956043956044,
          2.688958333333334,
          3.560793471234648,
          3.880000000000001,
          3.6936956521739135,
          2.7709775018670655,
          1.866865671641791,
          2.368411241283779,
          2.289423076923077,
          2.4941492429704404,
          2.8620095693779906,
          3.0310774094326725,
          2.3263502304147465,
          2.378507462686567,
          3.2594264660012477,
          3.330892018779343,
          2.967586206896552,
          2.378456212133134,
          2.1949938304248193,
          2.006603773584906,
          3.0706297460343137,
          2.8162162162162163,
          3.4103127199597796,
          3.2651733780760623,
          3.104695652173913,
          2.595959595959596,
          3.316022099447514,
          2.3412440191387556,
          3.1644059817225147,
          2.4766,
          2.520447263049659,
          2.6875059964634,
          2.672786885245902,
          4.58208695652174,
          2.9938383495018694,
          3.3985026737967923,
          3.8064199834162524,
          4.126756756756757,
          2.9248076923076924,
          3.123,
          3.104578313253012,
          3.402684063373718,
          3.267412587412588,
          2.4832414215686276,
          2.4581502890173414,
          2.596028368794327,
          2.789090909090909,
          2.8222516556291395,
          2.289701863354037,
          2.7374149659863947,
          3.047576570491171,
          3.2236871508379887,
          2.914965440356745,
          3.096132596685083,
          3.4316022099447516,
          3.1267532467532475,
          4.311954022988506,
          4.567317298797409,
          2.3108235294117647,
          3.78144,
          2.918328888888889,
          2.5228387096774196,
          2.482322580645161,
          2.4487671232876718,
          2.812328767123288,
          3.3943225806451616,
          2.7112258064516133,
          2.10141935483871,
          3.712248062015504,
          2.734321226795803,
          3.222933333333333,
          2.8285344129554657,
          2.437263157894737,
          4.880695652173913,
          2.1654736842105264,
          3.0659037101471203,
          2.3703518229536105,
          3.2960000000000003,
          2.9853658536585366,
          2.630945664739885,
          2.0131428571428573,
          1.7649330607399591,
          3.436179775280899,
          3.8597752808988766,
          3.6644067796610167,
          2.757668393782384,
          3.921129943502825,
          4.262232854864434,
          3.4582500000000005,
          3.4044444444444446,
          3.697402597402598,
          4.061613495200452,
          5.066440677966103,
          3.3020000000000005,
          2.914884803921569,
          2.2375129533678755,
          2.3205263157894733,
          2.2551816824290696,
          1.8646551724137934,
          2.219691681210006,
          1.8256000000000001,
          2.4334843462246782,
          2.909,
          3.746272189349112,
          3.207314285714286,
          2.5432024922118384,
          2.778571428571429,
          4.391000000000001,
          4.376681811297895,
          1.2656252123683318,
          1.8025485202423817,
          1.9565217391304346,
          1.9955087868782622,
          4.334179894179894,
          3.63826636108989,
          2.008774193548387,
          3.691963235294118,
          3.318896551724139,
          2.0417585589171976,
          2.26,
          2.7730239585581704,
          4.055035460992907,
          1.9325396825396828,
          2.3473267326732676,
          1.5000336448598135,
          1.9008108108108108,
          1.3314969325153376,
          2.3215584415584423,
          2.559304347826087,
          3.3523178807947023,
          3.267417218543047,
          2.7253781512605046,
          2.054067484662577,
          1.9378000000000002,
          2.022603249830738,
          2.7227689393939394,
          1.7655555555555553,
          3.1711428571428573,
          2.8911999999999995,
          3.740837352692556,
          2.655087719298246,
          2.3051063829787233,
          5.245716981132077,
          4.274933333333333,
          3.5552432432432433,
          3.996521739130436,
          4.205028571428572,
          4.299891891891892,
          2.1252083333333336,
          2.5882205588822353,
          2.350303225115183,
          2.4459340659340665,
          3.178396624472574,
          3.8548646644419726,
          3.0435874439461883,
          3.057769854929924,
          3.849500000000001,
          3.2999269005847953,
          4.136041666666666,
          2.606039304610733,
          2.29025,
          2.3666496598639455,
          2.7138271604938273,
          3.1795817610062898,
          3.304225352112676,
          1.839882386104064,
          2.6019421465260884,
          2.4807894736842107,
          3.3732751649287085,
          3.2227692307692304,
          2.0139886363636363,
          3.435862068965518,
          2.1138650306748468,
          5.24180790960452,
          4.299314285714286,
          3.7642105263157895,
          3.510149417710393,
          4.919526627218936,
          4.567403100775194,
          4.617657657657658,
          3.324966856060607,
          4.279310344827587,
          1.4917509157509157,
          3.375526315789474,
          1.846301369863014,
          2.013169312169312,
          2.47968,
          3.129655172413793,
          3.6098189005331864,
          3.795263157894737,
          2.325075268059933,
          2.7266666666666666,
          2.9645838936202003,
          4.060533333333334,
          3.977565780504431,
          2.8800000000000003,
          3.2981565217391307,
          3.2330339037778497,
          2.7956476683937823,
          2.1204604980678403,
          1.9706666666666663,
          3.6389757475865316,
          2.822947368421053,
          3.1764009009009015,
          3.665155073105893,
          3.6824413145539903,
          2.961075129533679,
          2.9476744186046515,
          4.664000000000001,
          3.8415468329664955,
          4.263783783783784,
          5.227370486656201,
          4.652608695652174,
          3.517697532714015,
          3.6308333333333334,
          3.5548538011695907,
          2.960882783882784,
          2.83868544600939,
          3.5679089403973516,
          3.423954802259887,
          1.9939292521721912,
          3.630442477876106,
          2.8150881218062365,
          3.997257142857143,
          2.3763494979705193,
          2.9761290322580645,
          2.9050782771805785,
          2.6872727272727275,
          2.5691837254735415,
          1.946536585365854,
          2.0140374465946222,
          1.8527058823529412,
          1.301878371001201,
          2.0040417235328523,
          1.9698000000000002,
          1.3934004365753094,
          1.997037037037037,
          2.0601223328591747,
          2.043222748815166,
          3.122503595530479,
          2.488928571428572,
          2.8228476821192054,
          2.507445255474453,
          2.7570312500000003,
          1.9916129032258068,
          1.810354855461312,
          1.7501369863013698,
          2.7266744868035193,
          2.3709090909090906,
          1.883123003642477,
          2.467567567567568,
          1.7671910112359552,
          1.9865363062815942,
          1.8067200000000003,
          3.167347985347986,
          2.0815232329842934,
          2.502128825021133,
          2.9414285714285713,
          1.7841720057720059,
          2.421723868519449,
          3.157142857142857,
          2.20688770053476,
          2.1430985915492955,
          3.0492510822510823,
          3.5107826086956524,
          1.876933104139808,
          1.5498536585365854,
          3.3822433915841277,
          3.746315789473684,
          2.4204053393495015,
          4.41083870967742,
          3.0891273720199175,
          3.4350000000000005,
          2.2127814307608644,
          2.6702083333333335,
          2.56095044233931,
          2.159090909090909,
          4.632830188679246,
          2.3886451612903223,
          1.535932789720781,
          1.612280701754386,
          2.4954523164279263,
          2.7730693069306938,
          1.900262116931102,
          1.6976785714285716,
          2.388698653198653,
          2.0518446601941753,
          3.0766248812915484,
          1.6056140350877195,
          2.1443609022556394,
          2.208695156695157,
          1.6953926969891098,
          1.9002247191011237,
          1.5400366300366304,
          1.7469683257918556,
          2.054758564646508,
          1.6505555555555558,
          3.133000000000001,
          3.1040000000000005,
          3.3095807065792258,
          2.9773469387755105,
          2.264394618834081,
          1.691757219774841,
          1.495084745762712,
          1.6062690893359293,
          1.7940329096462706,
          2.000215053763441,
          3.3091208791208793,
          2.7323383084577118,
          4.028628762541807,
          4.00808743169399,
          5.292693979933111,
          3.9569398907103825,
          2.42456008583691
         ]
        }
       ],
       "layout": {
        "height": 600,
        "legend": {
         "title": {
          "text": "Legend"
         }
        },
        "shapes": [
         {
          "line": {
           "color": "black",
           "dash": "dash",
           "width": 2
          },
          "name": "Year 2000",
          "type": "line",
          "x0": "2002-01-01",
          "x1": "2002-01-01",
          "xref": "x",
          "y0": 0,
          "y1": 1,
          "yref": "paper"
         },
         {
          "line": {
           "color": "black",
           "dash": "dash",
           "width": 2
          },
          "name": "Year 2015",
          "type": "line",
          "x0": "2015-01-01",
          "x1": "2015-01-01",
          "xref": "x",
          "y0": 0,
          "y1": 1,
          "yref": "paper"
         }
        ],
        "showlegend": true,
        "template": {
         "data": {
          "bar": [
           {
            "error_x": {
             "color": "#2a3f5f"
            },
            "error_y": {
             "color": "#2a3f5f"
            },
            "marker": {
             "line": {
              "color": "#E5ECF6",
              "width": 0.5
             },
             "pattern": {
              "fillmode": "overlay",
              "size": 10,
              "solidity": 0.2
             }
            },
            "type": "bar"
           }
          ],
          "barpolar": [
           {
            "marker": {
             "line": {
              "color": "#E5ECF6",
              "width": 0.5
             },
             "pattern": {
              "fillmode": "overlay",
              "size": 10,
              "solidity": 0.2
             }
            },
            "type": "barpolar"
           }
          ],
          "carpet": [
           {
            "aaxis": {
             "endlinecolor": "#2a3f5f",
             "gridcolor": "white",
             "linecolor": "white",
             "minorgridcolor": "white",
             "startlinecolor": "#2a3f5f"
            },
            "baxis": {
             "endlinecolor": "#2a3f5f",
             "gridcolor": "white",
             "linecolor": "white",
             "minorgridcolor": "white",
             "startlinecolor": "#2a3f5f"
            },
            "type": "carpet"
           }
          ],
          "choropleth": [
           {
            "colorbar": {
             "outlinewidth": 0,
             "ticks": ""
            },
            "type": "choropleth"
           }
          ],
          "contour": [
           {
            "colorbar": {
             "outlinewidth": 0,
             "ticks": ""
            },
            "colorscale": [
             [
              0,
              "#0d0887"
             ],
             [
              0.1111111111111111,
              "#46039f"
             ],
             [
              0.2222222222222222,
              "#7201a8"
             ],
             [
              0.3333333333333333,
              "#9c179e"
             ],
             [
              0.4444444444444444,
              "#bd3786"
             ],
             [
              0.5555555555555556,
              "#d8576b"
             ],
             [
              0.6666666666666666,
              "#ed7953"
             ],
             [
              0.7777777777777778,
              "#fb9f3a"
             ],
             [
              0.8888888888888888,
              "#fdca26"
             ],
             [
              1,
              "#f0f921"
             ]
            ],
            "type": "contour"
           }
          ],
          "contourcarpet": [
           {
            "colorbar": {
             "outlinewidth": 0,
             "ticks": ""
            },
            "type": "contourcarpet"
           }
          ],
          "heatmap": [
           {
            "colorbar": {
             "outlinewidth": 0,
             "ticks": ""
            },
            "colorscale": [
             [
              0,
              "#0d0887"
             ],
             [
              0.1111111111111111,
              "#46039f"
             ],
             [
              0.2222222222222222,
              "#7201a8"
             ],
             [
              0.3333333333333333,
              "#9c179e"
             ],
             [
              0.4444444444444444,
              "#bd3786"
             ],
             [
              0.5555555555555556,
              "#d8576b"
             ],
             [
              0.6666666666666666,
              "#ed7953"
             ],
             [
              0.7777777777777778,
              "#fb9f3a"
             ],
             [
              0.8888888888888888,
              "#fdca26"
             ],
             [
              1,
              "#f0f921"
             ]
            ],
            "type": "heatmap"
           }
          ],
          "heatmapgl": [
           {
            "colorbar": {
             "outlinewidth": 0,
             "ticks": ""
            },
            "colorscale": [
             [
              0,
              "#0d0887"
             ],
             [
              0.1111111111111111,
              "#46039f"
             ],
             [
              0.2222222222222222,
              "#7201a8"
             ],
             [
              0.3333333333333333,
              "#9c179e"
             ],
             [
              0.4444444444444444,
              "#bd3786"
             ],
             [
              0.5555555555555556,
              "#d8576b"
             ],
             [
              0.6666666666666666,
              "#ed7953"
             ],
             [
              0.7777777777777778,
              "#fb9f3a"
             ],
             [
              0.8888888888888888,
              "#fdca26"
             ],
             [
              1,
              "#f0f921"
             ]
            ],
            "type": "heatmapgl"
           }
          ],
          "histogram": [
           {
            "marker": {
             "pattern": {
              "fillmode": "overlay",
              "size": 10,
              "solidity": 0.2
             }
            },
            "type": "histogram"
           }
          ],
          "histogram2d": [
           {
            "colorbar": {
             "outlinewidth": 0,
             "ticks": ""
            },
            "colorscale": [
             [
              0,
              "#0d0887"
             ],
             [
              0.1111111111111111,
              "#46039f"
             ],
             [
              0.2222222222222222,
              "#7201a8"
             ],
             [
              0.3333333333333333,
              "#9c179e"
             ],
             [
              0.4444444444444444,
              "#bd3786"
             ],
             [
              0.5555555555555556,
              "#d8576b"
             ],
             [
              0.6666666666666666,
              "#ed7953"
             ],
             [
              0.7777777777777778,
              "#fb9f3a"
             ],
             [
              0.8888888888888888,
              "#fdca26"
             ],
             [
              1,
              "#f0f921"
             ]
            ],
            "type": "histogram2d"
           }
          ],
          "histogram2dcontour": [
           {
            "colorbar": {
             "outlinewidth": 0,
             "ticks": ""
            },
            "colorscale": [
             [
              0,
              "#0d0887"
             ],
             [
              0.1111111111111111,
              "#46039f"
             ],
             [
              0.2222222222222222,
              "#7201a8"
             ],
             [
              0.3333333333333333,
              "#9c179e"
             ],
             [
              0.4444444444444444,
              "#bd3786"
             ],
             [
              0.5555555555555556,
              "#d8576b"
             ],
             [
              0.6666666666666666,
              "#ed7953"
             ],
             [
              0.7777777777777778,
              "#fb9f3a"
             ],
             [
              0.8888888888888888,
              "#fdca26"
             ],
             [
              1,
              "#f0f921"
             ]
            ],
            "type": "histogram2dcontour"
           }
          ],
          "mesh3d": [
           {
            "colorbar": {
             "outlinewidth": 0,
             "ticks": ""
            },
            "type": "mesh3d"
           }
          ],
          "parcoords": [
           {
            "line": {
             "colorbar": {
              "outlinewidth": 0,
              "ticks": ""
             }
            },
            "type": "parcoords"
           }
          ],
          "pie": [
           {
            "automargin": true,
            "type": "pie"
           }
          ],
          "scatter": [
           {
            "fillpattern": {
             "fillmode": "overlay",
             "size": 10,
             "solidity": 0.2
            },
            "type": "scatter"
           }
          ],
          "scatter3d": [
           {
            "line": {
             "colorbar": {
              "outlinewidth": 0,
              "ticks": ""
             }
            },
            "marker": {
             "colorbar": {
              "outlinewidth": 0,
              "ticks": ""
             }
            },
            "type": "scatter3d"
           }
          ],
          "scattercarpet": [
           {
            "marker": {
             "colorbar": {
              "outlinewidth": 0,
              "ticks": ""
             }
            },
            "type": "scattercarpet"
           }
          ],
          "scattergeo": [
           {
            "marker": {
             "colorbar": {
              "outlinewidth": 0,
              "ticks": ""
             }
            },
            "type": "scattergeo"
           }
          ],
          "scattergl": [
           {
            "marker": {
             "colorbar": {
              "outlinewidth": 0,
              "ticks": ""
             }
            },
            "type": "scattergl"
           }
          ],
          "scattermapbox": [
           {
            "marker": {
             "colorbar": {
              "outlinewidth": 0,
              "ticks": ""
             }
            },
            "type": "scattermapbox"
           }
          ],
          "scatterpolar": [
           {
            "marker": {
             "colorbar": {
              "outlinewidth": 0,
              "ticks": ""
             }
            },
            "type": "scatterpolar"
           }
          ],
          "scatterpolargl": [
           {
            "marker": {
             "colorbar": {
              "outlinewidth": 0,
              "ticks": ""
             }
            },
            "type": "scatterpolargl"
           }
          ],
          "scatterternary": [
           {
            "marker": {
             "colorbar": {
              "outlinewidth": 0,
              "ticks": ""
             }
            },
            "type": "scatterternary"
           }
          ],
          "surface": [
           {
            "colorbar": {
             "outlinewidth": 0,
             "ticks": ""
            },
            "colorscale": [
             [
              0,
              "#0d0887"
             ],
             [
              0.1111111111111111,
              "#46039f"
             ],
             [
              0.2222222222222222,
              "#7201a8"
             ],
             [
              0.3333333333333333,
              "#9c179e"
             ],
             [
              0.4444444444444444,
              "#bd3786"
             ],
             [
              0.5555555555555556,
              "#d8576b"
             ],
             [
              0.6666666666666666,
              "#ed7953"
             ],
             [
              0.7777777777777778,
              "#fb9f3a"
             ],
             [
              0.8888888888888888,
              "#fdca26"
             ],
             [
              1,
              "#f0f921"
             ]
            ],
            "type": "surface"
           }
          ],
          "table": [
           {
            "cells": {
             "fill": {
              "color": "#EBF0F8"
             },
             "line": {
              "color": "white"
             }
            },
            "header": {
             "fill": {
              "color": "#C8D4E3"
             },
             "line": {
              "color": "white"
             }
            },
            "type": "table"
           }
          ]
         },
         "layout": {
          "annotationdefaults": {
           "arrowcolor": "#2a3f5f",
           "arrowhead": 0,
           "arrowwidth": 1
          },
          "autotypenumbers": "strict",
          "coloraxis": {
           "colorbar": {
            "outlinewidth": 0,
            "ticks": ""
           }
          },
          "colorscale": {
           "diverging": [
            [
             0,
             "#8e0152"
            ],
            [
             0.1,
             "#c51b7d"
            ],
            [
             0.2,
             "#de77ae"
            ],
            [
             0.3,
             "#f1b6da"
            ],
            [
             0.4,
             "#fde0ef"
            ],
            [
             0.5,
             "#f7f7f7"
            ],
            [
             0.6,
             "#e6f5d0"
            ],
            [
             0.7,
             "#b8e186"
            ],
            [
             0.8,
             "#7fbc41"
            ],
            [
             0.9,
             "#4d9221"
            ],
            [
             1,
             "#276419"
            ]
           ],
           "sequential": [
            [
             0,
             "#0d0887"
            ],
            [
             0.1111111111111111,
             "#46039f"
            ],
            [
             0.2222222222222222,
             "#7201a8"
            ],
            [
             0.3333333333333333,
             "#9c179e"
            ],
            [
             0.4444444444444444,
             "#bd3786"
            ],
            [
             0.5555555555555556,
             "#d8576b"
            ],
            [
             0.6666666666666666,
             "#ed7953"
            ],
            [
             0.7777777777777778,
             "#fb9f3a"
            ],
            [
             0.8888888888888888,
             "#fdca26"
            ],
            [
             1,
             "#f0f921"
            ]
           ],
           "sequentialminus": [
            [
             0,
             "#0d0887"
            ],
            [
             0.1111111111111111,
             "#46039f"
            ],
            [
             0.2222222222222222,
             "#7201a8"
            ],
            [
             0.3333333333333333,
             "#9c179e"
            ],
            [
             0.4444444444444444,
             "#bd3786"
            ],
            [
             0.5555555555555556,
             "#d8576b"
            ],
            [
             0.6666666666666666,
             "#ed7953"
            ],
            [
             0.7777777777777778,
             "#fb9f3a"
            ],
            [
             0.8888888888888888,
             "#fdca26"
            ],
            [
             1,
             "#f0f921"
            ]
           ]
          },
          "colorway": [
           "#636efa",
           "#EF553B",
           "#00cc96",
           "#ab63fa",
           "#FFA15A",
           "#19d3f3",
           "#FF6692",
           "#B6E880",
           "#FF97FF",
           "#FECB52"
          ],
          "font": {
           "color": "#2a3f5f"
          },
          "geo": {
           "bgcolor": "white",
           "lakecolor": "white",
           "landcolor": "#E5ECF6",
           "showlakes": true,
           "showland": true,
           "subunitcolor": "white"
          },
          "hoverlabel": {
           "align": "left"
          },
          "hovermode": "closest",
          "mapbox": {
           "style": "light"
          },
          "paper_bgcolor": "white",
          "plot_bgcolor": "#E5ECF6",
          "polar": {
           "angularaxis": {
            "gridcolor": "white",
            "linecolor": "white",
            "ticks": ""
           },
           "bgcolor": "#E5ECF6",
           "radialaxis": {
            "gridcolor": "white",
            "linecolor": "white",
            "ticks": ""
           }
          },
          "scene": {
           "xaxis": {
            "backgroundcolor": "#E5ECF6",
            "gridcolor": "white",
            "gridwidth": 2,
            "linecolor": "white",
            "showbackground": true,
            "ticks": "",
            "zerolinecolor": "white"
           },
           "yaxis": {
            "backgroundcolor": "#E5ECF6",
            "gridcolor": "white",
            "gridwidth": 2,
            "linecolor": "white",
            "showbackground": true,
            "ticks": "",
            "zerolinecolor": "white"
           },
           "zaxis": {
            "backgroundcolor": "#E5ECF6",
            "gridcolor": "white",
            "gridwidth": 2,
            "linecolor": "white",
            "showbackground": true,
            "ticks": "",
            "zerolinecolor": "white"
           }
          },
          "shapedefaults": {
           "line": {
            "color": "#2a3f5f"
           }
          },
          "ternary": {
           "aaxis": {
            "gridcolor": "white",
            "linecolor": "white",
            "ticks": ""
           },
           "baxis": {
            "gridcolor": "white",
            "linecolor": "white",
            "ticks": ""
           },
           "bgcolor": "#E5ECF6",
           "caxis": {
            "gridcolor": "white",
            "linecolor": "white",
            "ticks": ""
           }
          },
          "title": {
           "x": 0.05
          },
          "xaxis": {
           "automargin": true,
           "gridcolor": "white",
           "linecolor": "white",
           "ticks": "",
           "title": {
            "standoff": 15
           },
           "zerolinecolor": "white",
           "zerolinewidth": 2
          },
          "yaxis": {
           "automargin": true,
           "gridcolor": "white",
           "linecolor": "white",
           "ticks": "",
           "title": {
            "standoff": 15
           },
           "zerolinecolor": "white",
           "zerolinewidth": 2
          }
         }
        },
        "title": {
         "text": "Day and Night Data at Hot : remove interannual variability"
        },
        "width": 800,
        "xaxis": {
         "title": {
          "text": "Time"
         }
        },
        "yaxis": {
         "title": {
          "text": "Zooplankton biomass (mg/m3)"
         }
        }
       }
      }
     },
     "metadata": {},
     "output_type": "display_data"
    }
   ],
   "source": [
    "fig = go.Figure()\n",
    "\n",
    "# Plot day data\n",
    "fig.add_trace(\n",
    "    go.Scatter(\n",
    "        x=data.day.dropna(\"time\").time.data.flatten(),\n",
    "        y=data.day.dropna(\"time\").data.flatten(),\n",
    "        mode=\"lines\",\n",
    "        name=\"Day\",\n",
    "    )\n",
    ")\n",
    "\n",
    "# Plot night data\n",
    "fig.add_trace(\n",
    "    go.Scatter(\n",
    "        x=data.night.dropna(\"time\").time.data.flatten(),\n",
    "        y=data.night.dropna(\"time\").data.flatten(),\n",
    "        mode=\"lines\",\n",
    "        name=\"Night\",\n",
    "    )\n",
    ")\n",
    "\n",
    "# Add vertical lines for 2000 and 2015\n",
    "fig.add_shape(\n",
    "    type=\"line\",\n",
    "    x0=time_start,\n",
    "    y0=0,\n",
    "    x1=time_start,\n",
    "    y1=1,\n",
    "    xref=\"x\",\n",
    "    yref=\"paper\",\n",
    "    line=dict(color=\"black\", width=2, dash=\"dash\"),\n",
    "    name=\"Year 2000\",\n",
    ")\n",
    "\n",
    "fig.add_shape(\n",
    "    type=\"line\",\n",
    "    x0=time_end,\n",
    "    y0=0,\n",
    "    x1=time_end,\n",
    "    y1=1,\n",
    "    xref=\"x\",\n",
    "    yref=\"paper\",\n",
    "    line=dict(color=\"black\", width=2, dash=\"dash\"),\n",
    "    name=\"Year 2015\",\n",
    ")\n",
    "\n",
    "# Update layout\n",
    "fig.update_layout(\n",
    "    title=f\"Day and Night Data at {station} : remove interannual variability\",\n",
    "    xaxis_title=\"Time\",\n",
    "    yaxis_title=\"Zooplankton biomass (mg/m3)\",\n",
    "    legend_title=\"Legend\",\n",
    "    height=600,\n",
    "    width=800,\n",
    "    showlegend=True,\n",
    ")\n",
    "\n",
    "fig.show()"
   ]
  },
  {
   "cell_type": "code",
   "execution_count": 5,
   "metadata": {},
   "outputs": [
    {
     "data": {
      "text/html": [
       "<div><svg style=\"position: absolute; width: 0; height: 0; overflow: hidden\">\n",
       "<defs>\n",
       "<symbol id=\"icon-database\" viewBox=\"0 0 32 32\">\n",
       "<path d=\"M16 0c-8.837 0-16 2.239-16 5v4c0 2.761 7.163 5 16 5s16-2.239 16-5v-4c0-2.761-7.163-5-16-5z\"></path>\n",
       "<path d=\"M16 17c-8.837 0-16-2.239-16-5v6c0 2.761 7.163 5 16 5s16-2.239 16-5v-6c0 2.761-7.163 5-16 5z\"></path>\n",
       "<path d=\"M16 26c-8.837 0-16-2.239-16-5v6c0 2.761 7.163 5 16 5s16-2.239 16-5v-6c0 2.761-7.163 5-16 5z\"></path>\n",
       "</symbol>\n",
       "<symbol id=\"icon-file-text2\" viewBox=\"0 0 32 32\">\n",
       "<path d=\"M28.681 7.159c-0.694-0.947-1.662-2.053-2.724-3.116s-2.169-2.030-3.116-2.724c-1.612-1.182-2.393-1.319-2.841-1.319h-15.5c-1.378 0-2.5 1.121-2.5 2.5v27c0 1.378 1.122 2.5 2.5 2.5h23c1.378 0 2.5-1.122 2.5-2.5v-19.5c0-0.448-0.137-1.23-1.319-2.841zM24.543 5.457c0.959 0.959 1.712 1.825 2.268 2.543h-4.811v-4.811c0.718 0.556 1.584 1.309 2.543 2.268zM28 29.5c0 0.271-0.229 0.5-0.5 0.5h-23c-0.271 0-0.5-0.229-0.5-0.5v-27c0-0.271 0.229-0.5 0.5-0.5 0 0 15.499-0 15.5 0v7c0 0.552 0.448 1 1 1h7v19.5z\"></path>\n",
       "<path d=\"M23 26h-14c-0.552 0-1-0.448-1-1s0.448-1 1-1h14c0.552 0 1 0.448 1 1s-0.448 1-1 1z\"></path>\n",
       "<path d=\"M23 22h-14c-0.552 0-1-0.448-1-1s0.448-1 1-1h14c0.552 0 1 0.448 1 1s-0.448 1-1 1z\"></path>\n",
       "<path d=\"M23 18h-14c-0.552 0-1-0.448-1-1s0.448-1 1-1h14c0.552 0 1 0.448 1 1s-0.448 1-1 1z\"></path>\n",
       "</symbol>\n",
       "</defs>\n",
       "</svg>\n",
       "<style>/* CSS stylesheet for displaying xarray objects in jupyterlab.\n",
       " *\n",
       " */\n",
       "\n",
       ":root {\n",
       "  --xr-font-color0: var(--jp-content-font-color0, rgba(0, 0, 0, 1));\n",
       "  --xr-font-color2: var(--jp-content-font-color2, rgba(0, 0, 0, 0.54));\n",
       "  --xr-font-color3: var(--jp-content-font-color3, rgba(0, 0, 0, 0.38));\n",
       "  --xr-border-color: var(--jp-border-color2, #e0e0e0);\n",
       "  --xr-disabled-color: var(--jp-layout-color3, #bdbdbd);\n",
       "  --xr-background-color: var(--jp-layout-color0, white);\n",
       "  --xr-background-color-row-even: var(--jp-layout-color1, white);\n",
       "  --xr-background-color-row-odd: var(--jp-layout-color2, #eeeeee);\n",
       "}\n",
       "\n",
       "html[theme=\"dark\"],\n",
       "html[data-theme=\"dark\"],\n",
       "body[data-theme=\"dark\"],\n",
       "body.vscode-dark {\n",
       "  --xr-font-color0: rgba(255, 255, 255, 1);\n",
       "  --xr-font-color2: rgba(255, 255, 255, 0.54);\n",
       "  --xr-font-color3: rgba(255, 255, 255, 0.38);\n",
       "  --xr-border-color: #1f1f1f;\n",
       "  --xr-disabled-color: #515151;\n",
       "  --xr-background-color: #111111;\n",
       "  --xr-background-color-row-even: #111111;\n",
       "  --xr-background-color-row-odd: #313131;\n",
       "}\n",
       "\n",
       ".xr-wrap {\n",
       "  display: block !important;\n",
       "  min-width: 300px;\n",
       "  max-width: 700px;\n",
       "}\n",
       "\n",
       ".xr-text-repr-fallback {\n",
       "  /* fallback to plain text repr when CSS is not injected (untrusted notebook) */\n",
       "  display: none;\n",
       "}\n",
       "\n",
       ".xr-header {\n",
       "  padding-top: 6px;\n",
       "  padding-bottom: 6px;\n",
       "  margin-bottom: 4px;\n",
       "  border-bottom: solid 1px var(--xr-border-color);\n",
       "}\n",
       "\n",
       ".xr-header > div,\n",
       ".xr-header > ul {\n",
       "  display: inline;\n",
       "  margin-top: 0;\n",
       "  margin-bottom: 0;\n",
       "}\n",
       "\n",
       ".xr-obj-type,\n",
       ".xr-array-name {\n",
       "  margin-left: 2px;\n",
       "  margin-right: 10px;\n",
       "}\n",
       "\n",
       ".xr-obj-type {\n",
       "  color: var(--xr-font-color2);\n",
       "}\n",
       "\n",
       ".xr-sections {\n",
       "  padding-left: 0 !important;\n",
       "  display: grid;\n",
       "  grid-template-columns: 150px auto auto 1fr 0 20px 0 20px;\n",
       "}\n",
       "\n",
       ".xr-section-item {\n",
       "  display: contents;\n",
       "}\n",
       "\n",
       ".xr-section-item input {\n",
       "  display: inline-block;\n",
       "  opacity: 0;\n",
       "  height: 0;\n",
       "}\n",
       "\n",
       ".xr-section-item input + label {\n",
       "  color: var(--xr-disabled-color);\n",
       "}\n",
       "\n",
       ".xr-section-item input:enabled + label {\n",
       "  cursor: pointer;\n",
       "  color: var(--xr-font-color2);\n",
       "}\n",
       "\n",
       ".xr-section-item input:focus + label {\n",
       "  border: 2px solid var(--xr-font-color0);\n",
       "}\n",
       "\n",
       ".xr-section-item input:enabled + label:hover {\n",
       "  color: var(--xr-font-color0);\n",
       "}\n",
       "\n",
       ".xr-section-summary {\n",
       "  grid-column: 1;\n",
       "  color: var(--xr-font-color2);\n",
       "  font-weight: 500;\n",
       "}\n",
       "\n",
       ".xr-section-summary > span {\n",
       "  display: inline-block;\n",
       "  padding-left: 0.5em;\n",
       "}\n",
       "\n",
       ".xr-section-summary-in:disabled + label {\n",
       "  color: var(--xr-font-color2);\n",
       "}\n",
       "\n",
       ".xr-section-summary-in + label:before {\n",
       "  display: inline-block;\n",
       "  content: \"►\";\n",
       "  font-size: 11px;\n",
       "  width: 15px;\n",
       "  text-align: center;\n",
       "}\n",
       "\n",
       ".xr-section-summary-in:disabled + label:before {\n",
       "  color: var(--xr-disabled-color);\n",
       "}\n",
       "\n",
       ".xr-section-summary-in:checked + label:before {\n",
       "  content: \"▼\";\n",
       "}\n",
       "\n",
       ".xr-section-summary-in:checked + label > span {\n",
       "  display: none;\n",
       "}\n",
       "\n",
       ".xr-section-summary,\n",
       ".xr-section-inline-details {\n",
       "  padding-top: 4px;\n",
       "  padding-bottom: 4px;\n",
       "}\n",
       "\n",
       ".xr-section-inline-details {\n",
       "  grid-column: 2 / -1;\n",
       "}\n",
       "\n",
       ".xr-section-details {\n",
       "  display: none;\n",
       "  grid-column: 1 / -1;\n",
       "  margin-bottom: 5px;\n",
       "}\n",
       "\n",
       ".xr-section-summary-in:checked ~ .xr-section-details {\n",
       "  display: contents;\n",
       "}\n",
       "\n",
       ".xr-array-wrap {\n",
       "  grid-column: 1 / -1;\n",
       "  display: grid;\n",
       "  grid-template-columns: 20px auto;\n",
       "}\n",
       "\n",
       ".xr-array-wrap > label {\n",
       "  grid-column: 1;\n",
       "  vertical-align: top;\n",
       "}\n",
       "\n",
       ".xr-preview {\n",
       "  color: var(--xr-font-color3);\n",
       "}\n",
       "\n",
       ".xr-array-preview,\n",
       ".xr-array-data {\n",
       "  padding: 0 5px !important;\n",
       "  grid-column: 2;\n",
       "}\n",
       "\n",
       ".xr-array-data,\n",
       ".xr-array-in:checked ~ .xr-array-preview {\n",
       "  display: none;\n",
       "}\n",
       "\n",
       ".xr-array-in:checked ~ .xr-array-data,\n",
       ".xr-array-preview {\n",
       "  display: inline-block;\n",
       "}\n",
       "\n",
       ".xr-dim-list {\n",
       "  display: inline-block !important;\n",
       "  list-style: none;\n",
       "  padding: 0 !important;\n",
       "  margin: 0;\n",
       "}\n",
       "\n",
       ".xr-dim-list li {\n",
       "  display: inline-block;\n",
       "  padding: 0;\n",
       "  margin: 0;\n",
       "}\n",
       "\n",
       ".xr-dim-list:before {\n",
       "  content: \"(\";\n",
       "}\n",
       "\n",
       ".xr-dim-list:after {\n",
       "  content: \")\";\n",
       "}\n",
       "\n",
       ".xr-dim-list li:not(:last-child):after {\n",
       "  content: \",\";\n",
       "  padding-right: 5px;\n",
       "}\n",
       "\n",
       ".xr-has-index {\n",
       "  font-weight: bold;\n",
       "}\n",
       "\n",
       ".xr-var-list,\n",
       ".xr-var-item {\n",
       "  display: contents;\n",
       "}\n",
       "\n",
       ".xr-var-item > div,\n",
       ".xr-var-item label,\n",
       ".xr-var-item > .xr-var-name span {\n",
       "  background-color: var(--xr-background-color-row-even);\n",
       "  margin-bottom: 0;\n",
       "}\n",
       "\n",
       ".xr-var-item > .xr-var-name:hover span {\n",
       "  padding-right: 5px;\n",
       "}\n",
       "\n",
       ".xr-var-list > li:nth-child(odd) > div,\n",
       ".xr-var-list > li:nth-child(odd) > label,\n",
       ".xr-var-list > li:nth-child(odd) > .xr-var-name span {\n",
       "  background-color: var(--xr-background-color-row-odd);\n",
       "}\n",
       "\n",
       ".xr-var-name {\n",
       "  grid-column: 1;\n",
       "}\n",
       "\n",
       ".xr-var-dims {\n",
       "  grid-column: 2;\n",
       "}\n",
       "\n",
       ".xr-var-dtype {\n",
       "  grid-column: 3;\n",
       "  text-align: right;\n",
       "  color: var(--xr-font-color2);\n",
       "}\n",
       "\n",
       ".xr-var-preview {\n",
       "  grid-column: 4;\n",
       "}\n",
       "\n",
       ".xr-index-preview {\n",
       "  grid-column: 2 / 5;\n",
       "  color: var(--xr-font-color2);\n",
       "}\n",
       "\n",
       ".xr-var-name,\n",
       ".xr-var-dims,\n",
       ".xr-var-dtype,\n",
       ".xr-preview,\n",
       ".xr-attrs dt {\n",
       "  white-space: nowrap;\n",
       "  overflow: hidden;\n",
       "  text-overflow: ellipsis;\n",
       "  padding-right: 10px;\n",
       "}\n",
       "\n",
       ".xr-var-name:hover,\n",
       ".xr-var-dims:hover,\n",
       ".xr-var-dtype:hover,\n",
       ".xr-attrs dt:hover {\n",
       "  overflow: visible;\n",
       "  width: auto;\n",
       "  z-index: 1;\n",
       "}\n",
       "\n",
       ".xr-var-attrs,\n",
       ".xr-var-data,\n",
       ".xr-index-data {\n",
       "  display: none;\n",
       "  background-color: var(--xr-background-color) !important;\n",
       "  padding-bottom: 5px !important;\n",
       "}\n",
       "\n",
       ".xr-var-attrs-in:checked ~ .xr-var-attrs,\n",
       ".xr-var-data-in:checked ~ .xr-var-data,\n",
       ".xr-index-data-in:checked ~ .xr-index-data {\n",
       "  display: block;\n",
       "}\n",
       "\n",
       ".xr-var-data > table {\n",
       "  float: right;\n",
       "}\n",
       "\n",
       ".xr-var-name span,\n",
       ".xr-var-data,\n",
       ".xr-index-name div,\n",
       ".xr-index-data,\n",
       ".xr-attrs {\n",
       "  padding-left: 25px !important;\n",
       "}\n",
       "\n",
       ".xr-attrs,\n",
       ".xr-var-attrs,\n",
       ".xr-var-data,\n",
       ".xr-index-data {\n",
       "  grid-column: 1 / -1;\n",
       "}\n",
       "\n",
       "dl.xr-attrs {\n",
       "  padding: 0;\n",
       "  margin: 0;\n",
       "  display: grid;\n",
       "  grid-template-columns: 125px auto;\n",
       "}\n",
       "\n",
       ".xr-attrs dt,\n",
       ".xr-attrs dd {\n",
       "  padding: 0;\n",
       "  margin: 0;\n",
       "  float: left;\n",
       "  padding-right: 10px;\n",
       "  width: auto;\n",
       "}\n",
       "\n",
       ".xr-attrs dt {\n",
       "  font-weight: normal;\n",
       "  grid-column: 1;\n",
       "}\n",
       "\n",
       ".xr-attrs dt:hover span {\n",
       "  display: inline-block;\n",
       "  background: var(--xr-background-color);\n",
       "  padding-right: 10px;\n",
       "}\n",
       "\n",
       ".xr-attrs dd {\n",
       "  grid-column: 2;\n",
       "  white-space: pre-wrap;\n",
       "  word-break: break-all;\n",
       "}\n",
       "\n",
       ".xr-icon-database,\n",
       ".xr-icon-file-text2,\n",
       ".xr-no-icon {\n",
       "  display: inline-block;\n",
       "  vertical-align: middle;\n",
       "  width: 1em;\n",
       "  height: 1.5em !important;\n",
       "  stroke-width: 0;\n",
       "  stroke: currentColor;\n",
       "  fill: currentColor;\n",
       "}\n",
       "</style><pre class='xr-text-repr-fallback'>&lt;xarray.Dataset&gt; Size: 6kB\n",
       "Dimensions:    (time: 237, latitude: 1, longitude: 1, layer: 1)\n",
       "Coordinates:\n",
       "  * latitude   (latitude) float64 8B 22.75\n",
       "  * layer      (layer) int64 8B 0\n",
       "  * longitude  (longitude) int64 8B -158\n",
       "  * time       (time) datetime64[ns] 2kB 2002-01-15 2002-01-16 ... 2014-12-17\n",
       "Data variables:\n",
       "    day        (time, latitude, longitude, layer) float64 2kB 1.033 ... 1.935\n",
       "    night      (time, latitude, longitude, layer) float64 2kB 2.419 ... 1.971\n",
       "Attributes:\n",
       "    creation date:  2024-10-13T20:03:40.309826\n",
       "    layer:          epipelagic\n",
       "    station:        Hot</pre><div class='xr-wrap' style='display:none'><div class='xr-header'><div class='xr-obj-type'>xarray.Dataset</div></div><ul class='xr-sections'><li class='xr-section-item'><input id='section-7f43f816-f3ba-4105-b25c-1ba3c0f7e33d' class='xr-section-summary-in' type='checkbox' disabled ><label for='section-7f43f816-f3ba-4105-b25c-1ba3c0f7e33d' class='xr-section-summary'  title='Expand/collapse section'>Dimensions:</label><div class='xr-section-inline-details'><ul class='xr-dim-list'><li><span class='xr-has-index'>time</span>: 237</li><li><span class='xr-has-index'>latitude</span>: 1</li><li><span class='xr-has-index'>longitude</span>: 1</li><li><span class='xr-has-index'>layer</span>: 1</li></ul></div><div class='xr-section-details'></div></li><li class='xr-section-item'><input id='section-72782d12-18eb-4e05-b4a3-798fdad7fad7' class='xr-section-summary-in' type='checkbox'  checked><label for='section-72782d12-18eb-4e05-b4a3-798fdad7fad7' class='xr-section-summary' >Coordinates: <span>(4)</span></label><div class='xr-section-inline-details'></div><div class='xr-section-details'><ul class='xr-var-list'><li class='xr-var-item'><div class='xr-var-name'><span class='xr-has-index'>latitude</span></div><div class='xr-var-dims'>(latitude)</div><div class='xr-var-dtype'>float64</div><div class='xr-var-preview xr-preview'>22.75</div><input id='attrs-17c97060-43d2-4f5b-90f6-f0f4ad26b98d' class='xr-var-attrs-in' type='checkbox' ><label for='attrs-17c97060-43d2-4f5b-90f6-f0f4ad26b98d' title='Show/Hide attributes'><svg class='icon xr-icon-file-text2'><use xlink:href='#icon-file-text2'></use></svg></label><input id='data-6b97206c-b63f-4727-b069-93252f89829d' class='xr-var-data-in' type='checkbox'><label for='data-6b97206c-b63f-4727-b069-93252f89829d' title='Show/Hide data repr'><svg class='icon xr-icon-database'><use xlink:href='#icon-database'></use></svg></label><div class='xr-var-attrs'><dl class='xr-attrs'><dt><span>axis :</span></dt><dd>Y</dd><dt><span>long_name :</span></dt><dd>Latitude</dd><dt><span>standard_name :</span></dt><dd>latitude</dd><dt><span>units :</span></dt><dd>degrees_north</dd></dl></div><div class='xr-var-data'><pre>array([22.75])</pre></div></li><li class='xr-var-item'><div class='xr-var-name'><span class='xr-has-index'>layer</span></div><div class='xr-var-dims'>(layer)</div><div class='xr-var-dtype'>int64</div><div class='xr-var-preview xr-preview'>0</div><input id='attrs-8b001050-6c7b-4671-b073-934bc1d6a1dd' class='xr-var-attrs-in' type='checkbox' ><label for='attrs-8b001050-6c7b-4671-b073-934bc1d6a1dd' title='Show/Hide attributes'><svg class='icon xr-icon-file-text2'><use xlink:href='#icon-file-text2'></use></svg></label><input id='data-22466923-f331-4822-b793-6806bb023c50' class='xr-var-data-in' type='checkbox'><label for='data-22466923-f331-4822-b793-6806bb023c50' title='Show/Hide data repr'><svg class='icon xr-icon-database'><use xlink:href='#icon-database'></use></svg></label><div class='xr-var-attrs'><dl class='xr-attrs'><dt><span>axis :</span></dt><dd>Z</dd><dt><span>desc :</span></dt><dd>The layer depth according to Seapodym definition</dd><dt><span>flag_meanings :</span></dt><dd>epipelagic, upper-mesopelagic, lower-mesopelagic</dd><dt><span>flag_values :</span></dt><dd>[0, 1, 2]</dd><dt><span>long_name :</span></dt><dd>Layer depth</dd><dt><span>standard_name :</span></dt><dd>layer</dd></dl></div><div class='xr-var-data'><pre>array([0])</pre></div></li><li class='xr-var-item'><div class='xr-var-name'><span class='xr-has-index'>longitude</span></div><div class='xr-var-dims'>(longitude)</div><div class='xr-var-dtype'>int64</div><div class='xr-var-preview xr-preview'>-158</div><input id='attrs-83ae3506-dea8-4656-bd06-b30a3a65b659' class='xr-var-attrs-in' type='checkbox' ><label for='attrs-83ae3506-dea8-4656-bd06-b30a3a65b659' title='Show/Hide attributes'><svg class='icon xr-icon-file-text2'><use xlink:href='#icon-file-text2'></use></svg></label><input id='data-51aced71-c8df-4742-97bf-9ceac8f47d5b' class='xr-var-data-in' type='checkbox'><label for='data-51aced71-c8df-4742-97bf-9ceac8f47d5b' title='Show/Hide data repr'><svg class='icon xr-icon-database'><use xlink:href='#icon-database'></use></svg></label><div class='xr-var-attrs'><dl class='xr-attrs'><dt><span>axis :</span></dt><dd>X</dd><dt><span>long_name :</span></dt><dd>Longitude</dd><dt><span>standard_name :</span></dt><dd>longitude</dd><dt><span>units :</span></dt><dd>degrees_east</dd></dl></div><div class='xr-var-data'><pre>array([-158])</pre></div></li><li class='xr-var-item'><div class='xr-var-name'><span class='xr-has-index'>time</span></div><div class='xr-var-dims'>(time)</div><div class='xr-var-dtype'>datetime64[ns]</div><div class='xr-var-preview xr-preview'>2002-01-15 ... 2014-12-17</div><input id='attrs-f125aa9e-cbd4-4952-96cb-7e0ca8d84cbc' class='xr-var-attrs-in' type='checkbox' ><label for='attrs-f125aa9e-cbd4-4952-96cb-7e0ca8d84cbc' title='Show/Hide attributes'><svg class='icon xr-icon-file-text2'><use xlink:href='#icon-file-text2'></use></svg></label><input id='data-3134abde-bfc8-4884-b68b-cc6118d83a39' class='xr-var-data-in' type='checkbox'><label for='data-3134abde-bfc8-4884-b68b-cc6118d83a39' title='Show/Hide data repr'><svg class='icon xr-icon-database'><use xlink:href='#icon-database'></use></svg></label><div class='xr-var-attrs'><dl class='xr-attrs'><dt><span>axis :</span></dt><dd>T</dd><dt><span>long_name :</span></dt><dd>time</dd><dt><span>standard_name :</span></dt><dd>time</dd></dl></div><div class='xr-var-data'><pre>array([&#x27;2002-01-15T00:00:00.000000000&#x27;, &#x27;2002-01-16T00:00:00.000000000&#x27;,\n",
       "       &#x27;2002-02-20T00:00:00.000000000&#x27;, ..., &#x27;2014-11-22T00:00:00.000000000&#x27;,\n",
       "       &#x27;2014-12-16T00:00:00.000000000&#x27;, &#x27;2014-12-17T00:00:00.000000000&#x27;],\n",
       "      dtype=&#x27;datetime64[ns]&#x27;)</pre></div></li></ul></div></li><li class='xr-section-item'><input id='section-3da7302f-777c-46ab-b4ac-8ed030d4187d' class='xr-section-summary-in' type='checkbox'  checked><label for='section-3da7302f-777c-46ab-b4ac-8ed030d4187d' class='xr-section-summary' >Data variables: <span>(2)</span></label><div class='xr-section-inline-details'></div><div class='xr-section-details'><ul class='xr-var-list'><li class='xr-var-item'><div class='xr-var-name'><span>day</span></div><div class='xr-var-dims'>(time, latitude, longitude, layer)</div><div class='xr-var-dtype'>float64</div><div class='xr-var-preview xr-preview'>1.033 1.173 1.172 ... 1.178 1.935</div><input id='attrs-2f2f66dd-9383-43a8-b696-089b8453d748' class='xr-var-attrs-in' type='checkbox' ><label for='attrs-2f2f66dd-9383-43a8-b696-089b8453d748' title='Show/Hide attributes'><svg class='icon xr-icon-file-text2'><use xlink:href='#icon-file-text2'></use></svg></label><input id='data-4846937a-8229-40d3-b371-fb11db95e6e0' class='xr-var-data-in' type='checkbox'><label for='data-4846937a-8229-40d3-b371-fb11db95e6e0' title='Show/Hide data repr'><svg class='icon xr-icon-database'><use xlink:href='#icon-database'></use></svg></label><div class='xr-var-attrs'><dl class='xr-attrs'><dt><span>description :</span></dt><dd>Zooplankton carbon weight by cube meter of sea water during the day</dd><dt><span>units :</span></dt><dd>mg/m3</dd></dl></div><div class='xr-var-data'><pre>array([[[[1.03341261]]],\n",
       "\n",
       "\n",
       "       [[[1.17272727]]],\n",
       "\n",
       "\n",
       "       [[[1.17159091]]],\n",
       "\n",
       "\n",
       "       [[[1.47923567]]],\n",
       "\n",
       "\n",
       "       [[[1.30900925]]],\n",
       "\n",
       "\n",
       "       [[[1.30814815]]],\n",
       "\n",
       "\n",
       "       [[[2.1369946 ]]],\n",
       "\n",
       "...\n",
       "\n",
       "       [[[2.39200797]]],\n",
       "\n",
       "\n",
       "       [[[2.35495146]]],\n",
       "\n",
       "\n",
       "       [[[2.31686275]]],\n",
       "\n",
       "\n",
       "       [[[2.1382716 ]]],\n",
       "\n",
       "\n",
       "       [[[1.71793504]]],\n",
       "\n",
       "\n",
       "       [[[1.17754386]]],\n",
       "\n",
       "\n",
       "       [[[1.93476208]]]])</pre></div></li><li class='xr-var-item'><div class='xr-var-name'><span>night</span></div><div class='xr-var-dims'>(time, latitude, longitude, layer)</div><div class='xr-var-dtype'>float64</div><div class='xr-var-preview xr-preview'>2.419 1.606 1.744 ... 2.12 1.971</div><input id='attrs-f2190027-dd25-4a11-b226-0a770b28d814' class='xr-var-attrs-in' type='checkbox' ><label for='attrs-f2190027-dd25-4a11-b226-0a770b28d814' title='Show/Hide attributes'><svg class='icon xr-icon-file-text2'><use xlink:href='#icon-file-text2'></use></svg></label><input id='data-629b27d4-828c-4975-9d32-4f745dbf16a0' class='xr-var-data-in' type='checkbox'><label for='data-629b27d4-828c-4975-9d32-4f745dbf16a0' title='Show/Hide data repr'><svg class='icon xr-icon-database'><use xlink:href='#icon-database'></use></svg></label><div class='xr-var-attrs'><dl class='xr-attrs'><dt><span>description :</span></dt><dd>Zooplankton carbon weight by cube meter of sea water at night</dd><dt><span>units :</span></dt><dd>mg/m3</dd></dl></div><div class='xr-var-data'><pre>array([[[[2.41915037]]],\n",
       "\n",
       "\n",
       "       [[[1.60635897]]],\n",
       "\n",
       "\n",
       "       [[[1.74406593]]],\n",
       "\n",
       "\n",
       "       [[[2.64576923]]],\n",
       "\n",
       "\n",
       "       [[[2.1234092 ]]],\n",
       "\n",
       "\n",
       "       [[[1.74      ]]],\n",
       "\n",
       "\n",
       "       [[[3.20497016]]],\n",
       "\n",
       "...\n",
       "\n",
       "       [[[2.88      ]]],\n",
       "\n",
       "\n",
       "       [[[3.29815652]]],\n",
       "\n",
       "\n",
       "       [[[       nan]]],\n",
       "\n",
       "\n",
       "       [[[3.2330339 ]]],\n",
       "\n",
       "\n",
       "       [[[2.79564767]]],\n",
       "\n",
       "\n",
       "       [[[2.1204605 ]]],\n",
       "\n",
       "\n",
       "       [[[1.97066667]]]])</pre></div></li></ul></div></li><li class='xr-section-item'><input id='section-780bcde3-72d5-41e9-aaa7-2e4ae1d77418' class='xr-section-summary-in' type='checkbox'  ><label for='section-780bcde3-72d5-41e9-aaa7-2e4ae1d77418' class='xr-section-summary' >Indexes: <span>(4)</span></label><div class='xr-section-inline-details'></div><div class='xr-section-details'><ul class='xr-var-list'><li class='xr-var-item'><div class='xr-index-name'><div>latitude</div></div><div class='xr-index-preview'>PandasIndex</div><input type='checkbox' disabled/><label></label><input id='index-86aa23c9-94e1-4d6c-bd35-45a535b5b825' class='xr-index-data-in' type='checkbox'/><label for='index-86aa23c9-94e1-4d6c-bd35-45a535b5b825' title='Show/Hide index repr'><svg class='icon xr-icon-database'><use xlink:href='#icon-database'></use></svg></label><div class='xr-index-data'><pre>PandasIndex(Index([22.75], dtype=&#x27;float64&#x27;, name=&#x27;latitude&#x27;))</pre></div></li><li class='xr-var-item'><div class='xr-index-name'><div>layer</div></div><div class='xr-index-preview'>PandasIndex</div><input type='checkbox' disabled/><label></label><input id='index-263e8571-93ba-4c6b-92b5-aa30a5a648c6' class='xr-index-data-in' type='checkbox'/><label for='index-263e8571-93ba-4c6b-92b5-aa30a5a648c6' title='Show/Hide index repr'><svg class='icon xr-icon-database'><use xlink:href='#icon-database'></use></svg></label><div class='xr-index-data'><pre>PandasIndex(Index([0], dtype=&#x27;int64&#x27;, name=&#x27;layer&#x27;))</pre></div></li><li class='xr-var-item'><div class='xr-index-name'><div>longitude</div></div><div class='xr-index-preview'>PandasIndex</div><input type='checkbox' disabled/><label></label><input id='index-822f19f8-af52-4993-8c51-c4a9db363420' class='xr-index-data-in' type='checkbox'/><label for='index-822f19f8-af52-4993-8c51-c4a9db363420' title='Show/Hide index repr'><svg class='icon xr-icon-database'><use xlink:href='#icon-database'></use></svg></label><div class='xr-index-data'><pre>PandasIndex(Index([-158], dtype=&#x27;int64&#x27;, name=&#x27;longitude&#x27;))</pre></div></li><li class='xr-var-item'><div class='xr-index-name'><div>time</div></div><div class='xr-index-preview'>PandasIndex</div><input type='checkbox' disabled/><label></label><input id='index-4d3645e1-6325-4a91-a039-09ff8f0fe30f' class='xr-index-data-in' type='checkbox'/><label for='index-4d3645e1-6325-4a91-a039-09ff8f0fe30f' title='Show/Hide index repr'><svg class='icon xr-icon-database'><use xlink:href='#icon-database'></use></svg></label><div class='xr-index-data'><pre>PandasIndex(DatetimeIndex([&#x27;2002-01-15&#x27;, &#x27;2002-01-16&#x27;, &#x27;2002-02-20&#x27;, &#x27;2002-02-21&#x27;,\n",
       "               &#x27;2002-03-12&#x27;, &#x27;2002-03-13&#x27;, &#x27;2002-05-20&#x27;, &#x27;2002-05-21&#x27;,\n",
       "               &#x27;2002-06-29&#x27;, &#x27;2002-06-30&#x27;,\n",
       "               ...\n",
       "               &#x27;2014-06-30&#x27;, &#x27;2014-07-01&#x27;, &#x27;2014-09-14&#x27;, &#x27;2014-09-15&#x27;,\n",
       "               &#x27;2014-10-13&#x27;, &#x27;2014-10-14&#x27;, &#x27;2014-11-21&#x27;, &#x27;2014-11-22&#x27;,\n",
       "               &#x27;2014-12-16&#x27;, &#x27;2014-12-17&#x27;],\n",
       "              dtype=&#x27;datetime64[ns]&#x27;, name=&#x27;time&#x27;, length=237, freq=None))</pre></div></li></ul></div></li><li class='xr-section-item'><input id='section-06965971-7e19-467a-b0be-48eaf0d9f350' class='xr-section-summary-in' type='checkbox'  checked><label for='section-06965971-7e19-467a-b0be-48eaf0d9f350' class='xr-section-summary' >Attributes: <span>(3)</span></label><div class='xr-section-inline-details'></div><div class='xr-section-details'><dl class='xr-attrs'><dt><span>creation date :</span></dt><dd>2024-10-13T20:03:40.309826</dd><dt><span>layer :</span></dt><dd>epipelagic</dd><dt><span>station :</span></dt><dd>Hot</dd></dl></div></li></ul></div></div>"
      ],
      "text/plain": [
       "<xarray.Dataset> Size: 6kB\n",
       "Dimensions:    (time: 237, latitude: 1, longitude: 1, layer: 1)\n",
       "Coordinates:\n",
       "  * latitude   (latitude) float64 8B 22.75\n",
       "  * layer      (layer) int64 8B 0\n",
       "  * longitude  (longitude) int64 8B -158\n",
       "  * time       (time) datetime64[ns] 2kB 2002-01-15 2002-01-16 ... 2014-12-17\n",
       "Data variables:\n",
       "    day        (time, latitude, longitude, layer) float64 2kB 1.033 ... 1.935\n",
       "    night      (time, latitude, longitude, layer) float64 2kB 2.419 ... 1.971\n",
       "Attributes:\n",
       "    creation date:  2024-10-13T20:03:40.309826\n",
       "    layer:          epipelagic\n",
       "    station:        Hot"
      ]
     },
     "execution_count": 5,
     "metadata": {},
     "output_type": "execute_result"
    }
   ],
   "source": [
    "data = data.sel(time=slice(time_start, time_end))\n",
    "data"
   ]
  },
  {
   "cell_type": "markdown",
   "metadata": {},
   "source": [
    "## Number of samples\n"
   ]
  },
  {
   "cell_type": "code",
   "execution_count": 6,
   "metadata": {},
   "outputs": [
    {
     "data": {
      "application/vnd.plotly.v1+json": {
       "config": {
        "plotlyServerURL": "https://plot.ly"
       },
       "data": [
        {
         "mode": "lines+markers",
         "name": "Day",
         "type": "scatter",
         "x": [
          2002,
          2003,
          2004,
          2005,
          2006,
          2007,
          2008,
          2009,
          2010,
          2011,
          2012,
          2013,
          2014
         ],
         "xaxis": "x",
         "y": [
          15,
          18,
          18,
          15,
          18,
          17,
          12,
          13,
          14,
          15,
          18,
          16,
          19
         ],
         "yaxis": "y"
        },
        {
         "mode": "lines+markers",
         "name": "Night",
         "type": "scatter",
         "x": [
          2002,
          2003,
          2004,
          2005,
          2006,
          2007,
          2008,
          2009,
          2010,
          2011,
          2012,
          2013,
          2014
         ],
         "xaxis": "x",
         "y": [
          16,
          20,
          20,
          15,
          19,
          16,
          11,
          12,
          14,
          13,
          18,
          18,
          17
         ],
         "yaxis": "y"
        },
        {
         "mode": "lines+markers",
         "name": "Day Cumulative",
         "type": "scatter",
         "visible": false,
         "x": [
          2002,
          2003,
          2004,
          2005,
          2006,
          2007,
          2008,
          2009,
          2010,
          2011,
          2012,
          2013,
          2014
         ],
         "xaxis": "x",
         "y": [
          15,
          33,
          51,
          66,
          84,
          101,
          113,
          126,
          140,
          155,
          173,
          189,
          208
         ],
         "yaxis": "y"
        },
        {
         "mode": "lines+markers",
         "name": "Night Cumulative",
         "type": "scatter",
         "visible": false,
         "x": [
          2002,
          2003,
          2004,
          2005,
          2006,
          2007,
          2008,
          2009,
          2010,
          2011,
          2012,
          2013,
          2014
         ],
         "xaxis": "x",
         "y": [
          16,
          36,
          56,
          71,
          90,
          106,
          117,
          129,
          143,
          156,
          174,
          192,
          209
         ],
         "yaxis": "y"
        },
        {
         "mode": "lines+markers",
         "name": "Day",
         "type": "scatter",
         "x": [
          1,
          2,
          3,
          4,
          5,
          6,
          7,
          8,
          9,
          10,
          11,
          12
         ],
         "xaxis": "x2",
         "y": [
          14,
          19,
          17,
          15,
          18,
          18,
          18,
          14,
          15,
          21,
          17,
          22
         ],
         "yaxis": "y2"
        },
        {
         "mode": "lines+markers",
         "name": "Night",
         "type": "scatter",
         "x": [
          1,
          2,
          3,
          4,
          5,
          6,
          7,
          8,
          9,
          10,
          11,
          12
         ],
         "xaxis": "x2",
         "y": [
          13,
          19,
          19,
          16,
          19,
          19,
          14,
          18,
          13,
          19,
          19,
          21
         ],
         "yaxis": "y2"
        },
        {
         "mode": "lines+markers",
         "name": "Day Cumulative",
         "type": "scatter",
         "visible": false,
         "x": [
          1,
          2,
          3,
          4,
          5,
          6,
          7,
          8,
          9,
          10,
          11,
          12
         ],
         "xaxis": "x2",
         "y": [
          14,
          33,
          50,
          65,
          83,
          101,
          119,
          133,
          148,
          169,
          186,
          208
         ],
         "yaxis": "y2"
        },
        {
         "mode": "lines+markers",
         "name": "Night Cumulative",
         "type": "scatter",
         "visible": false,
         "x": [
          1,
          2,
          3,
          4,
          5,
          6,
          7,
          8,
          9,
          10,
          11,
          12
         ],
         "xaxis": "x2",
         "y": [
          13,
          32,
          51,
          67,
          86,
          105,
          119,
          137,
          150,
          169,
          188,
          209
         ],
         "yaxis": "y2"
        }
       ],
       "layout": {
        "annotations": [
         {
          "font": {
           "size": 16
          },
          "showarrow": false,
          "text": "Yearly Data",
          "x": 0.225,
          "xanchor": "center",
          "xref": "paper",
          "y": 1,
          "yanchor": "bottom",
          "yref": "paper"
         },
         {
          "font": {
           "size": 16
          },
          "showarrow": false,
          "text": "Monthly Data",
          "x": 0.775,
          "xanchor": "center",
          "xref": "paper",
          "y": 1,
          "yanchor": "bottom",
          "yref": "paper"
         }
        ],
        "height": 600,
        "legend": {
         "title": {
          "text": "Legend"
         }
        },
        "template": {
         "data": {
          "bar": [
           {
            "error_x": {
             "color": "#2a3f5f"
            },
            "error_y": {
             "color": "#2a3f5f"
            },
            "marker": {
             "line": {
              "color": "#E5ECF6",
              "width": 0.5
             },
             "pattern": {
              "fillmode": "overlay",
              "size": 10,
              "solidity": 0.2
             }
            },
            "type": "bar"
           }
          ],
          "barpolar": [
           {
            "marker": {
             "line": {
              "color": "#E5ECF6",
              "width": 0.5
             },
             "pattern": {
              "fillmode": "overlay",
              "size": 10,
              "solidity": 0.2
             }
            },
            "type": "barpolar"
           }
          ],
          "carpet": [
           {
            "aaxis": {
             "endlinecolor": "#2a3f5f",
             "gridcolor": "white",
             "linecolor": "white",
             "minorgridcolor": "white",
             "startlinecolor": "#2a3f5f"
            },
            "baxis": {
             "endlinecolor": "#2a3f5f",
             "gridcolor": "white",
             "linecolor": "white",
             "minorgridcolor": "white",
             "startlinecolor": "#2a3f5f"
            },
            "type": "carpet"
           }
          ],
          "choropleth": [
           {
            "colorbar": {
             "outlinewidth": 0,
             "ticks": ""
            },
            "type": "choropleth"
           }
          ],
          "contour": [
           {
            "colorbar": {
             "outlinewidth": 0,
             "ticks": ""
            },
            "colorscale": [
             [
              0,
              "#0d0887"
             ],
             [
              0.1111111111111111,
              "#46039f"
             ],
             [
              0.2222222222222222,
              "#7201a8"
             ],
             [
              0.3333333333333333,
              "#9c179e"
             ],
             [
              0.4444444444444444,
              "#bd3786"
             ],
             [
              0.5555555555555556,
              "#d8576b"
             ],
             [
              0.6666666666666666,
              "#ed7953"
             ],
             [
              0.7777777777777778,
              "#fb9f3a"
             ],
             [
              0.8888888888888888,
              "#fdca26"
             ],
             [
              1,
              "#f0f921"
             ]
            ],
            "type": "contour"
           }
          ],
          "contourcarpet": [
           {
            "colorbar": {
             "outlinewidth": 0,
             "ticks": ""
            },
            "type": "contourcarpet"
           }
          ],
          "heatmap": [
           {
            "colorbar": {
             "outlinewidth": 0,
             "ticks": ""
            },
            "colorscale": [
             [
              0,
              "#0d0887"
             ],
             [
              0.1111111111111111,
              "#46039f"
             ],
             [
              0.2222222222222222,
              "#7201a8"
             ],
             [
              0.3333333333333333,
              "#9c179e"
             ],
             [
              0.4444444444444444,
              "#bd3786"
             ],
             [
              0.5555555555555556,
              "#d8576b"
             ],
             [
              0.6666666666666666,
              "#ed7953"
             ],
             [
              0.7777777777777778,
              "#fb9f3a"
             ],
             [
              0.8888888888888888,
              "#fdca26"
             ],
             [
              1,
              "#f0f921"
             ]
            ],
            "type": "heatmap"
           }
          ],
          "heatmapgl": [
           {
            "colorbar": {
             "outlinewidth": 0,
             "ticks": ""
            },
            "colorscale": [
             [
              0,
              "#0d0887"
             ],
             [
              0.1111111111111111,
              "#46039f"
             ],
             [
              0.2222222222222222,
              "#7201a8"
             ],
             [
              0.3333333333333333,
              "#9c179e"
             ],
             [
              0.4444444444444444,
              "#bd3786"
             ],
             [
              0.5555555555555556,
              "#d8576b"
             ],
             [
              0.6666666666666666,
              "#ed7953"
             ],
             [
              0.7777777777777778,
              "#fb9f3a"
             ],
             [
              0.8888888888888888,
              "#fdca26"
             ],
             [
              1,
              "#f0f921"
             ]
            ],
            "type": "heatmapgl"
           }
          ],
          "histogram": [
           {
            "marker": {
             "pattern": {
              "fillmode": "overlay",
              "size": 10,
              "solidity": 0.2
             }
            },
            "type": "histogram"
           }
          ],
          "histogram2d": [
           {
            "colorbar": {
             "outlinewidth": 0,
             "ticks": ""
            },
            "colorscale": [
             [
              0,
              "#0d0887"
             ],
             [
              0.1111111111111111,
              "#46039f"
             ],
             [
              0.2222222222222222,
              "#7201a8"
             ],
             [
              0.3333333333333333,
              "#9c179e"
             ],
             [
              0.4444444444444444,
              "#bd3786"
             ],
             [
              0.5555555555555556,
              "#d8576b"
             ],
             [
              0.6666666666666666,
              "#ed7953"
             ],
             [
              0.7777777777777778,
              "#fb9f3a"
             ],
             [
              0.8888888888888888,
              "#fdca26"
             ],
             [
              1,
              "#f0f921"
             ]
            ],
            "type": "histogram2d"
           }
          ],
          "histogram2dcontour": [
           {
            "colorbar": {
             "outlinewidth": 0,
             "ticks": ""
            },
            "colorscale": [
             [
              0,
              "#0d0887"
             ],
             [
              0.1111111111111111,
              "#46039f"
             ],
             [
              0.2222222222222222,
              "#7201a8"
             ],
             [
              0.3333333333333333,
              "#9c179e"
             ],
             [
              0.4444444444444444,
              "#bd3786"
             ],
             [
              0.5555555555555556,
              "#d8576b"
             ],
             [
              0.6666666666666666,
              "#ed7953"
             ],
             [
              0.7777777777777778,
              "#fb9f3a"
             ],
             [
              0.8888888888888888,
              "#fdca26"
             ],
             [
              1,
              "#f0f921"
             ]
            ],
            "type": "histogram2dcontour"
           }
          ],
          "mesh3d": [
           {
            "colorbar": {
             "outlinewidth": 0,
             "ticks": ""
            },
            "type": "mesh3d"
           }
          ],
          "parcoords": [
           {
            "line": {
             "colorbar": {
              "outlinewidth": 0,
              "ticks": ""
             }
            },
            "type": "parcoords"
           }
          ],
          "pie": [
           {
            "automargin": true,
            "type": "pie"
           }
          ],
          "scatter": [
           {
            "fillpattern": {
             "fillmode": "overlay",
             "size": 10,
             "solidity": 0.2
            },
            "type": "scatter"
           }
          ],
          "scatter3d": [
           {
            "line": {
             "colorbar": {
              "outlinewidth": 0,
              "ticks": ""
             }
            },
            "marker": {
             "colorbar": {
              "outlinewidth": 0,
              "ticks": ""
             }
            },
            "type": "scatter3d"
           }
          ],
          "scattercarpet": [
           {
            "marker": {
             "colorbar": {
              "outlinewidth": 0,
              "ticks": ""
             }
            },
            "type": "scattercarpet"
           }
          ],
          "scattergeo": [
           {
            "marker": {
             "colorbar": {
              "outlinewidth": 0,
              "ticks": ""
             }
            },
            "type": "scattergeo"
           }
          ],
          "scattergl": [
           {
            "marker": {
             "colorbar": {
              "outlinewidth": 0,
              "ticks": ""
             }
            },
            "type": "scattergl"
           }
          ],
          "scattermapbox": [
           {
            "marker": {
             "colorbar": {
              "outlinewidth": 0,
              "ticks": ""
             }
            },
            "type": "scattermapbox"
           }
          ],
          "scatterpolar": [
           {
            "marker": {
             "colorbar": {
              "outlinewidth": 0,
              "ticks": ""
             }
            },
            "type": "scatterpolar"
           }
          ],
          "scatterpolargl": [
           {
            "marker": {
             "colorbar": {
              "outlinewidth": 0,
              "ticks": ""
             }
            },
            "type": "scatterpolargl"
           }
          ],
          "scatterternary": [
           {
            "marker": {
             "colorbar": {
              "outlinewidth": 0,
              "ticks": ""
             }
            },
            "type": "scatterternary"
           }
          ],
          "surface": [
           {
            "colorbar": {
             "outlinewidth": 0,
             "ticks": ""
            },
            "colorscale": [
             [
              0,
              "#0d0887"
             ],
             [
              0.1111111111111111,
              "#46039f"
             ],
             [
              0.2222222222222222,
              "#7201a8"
             ],
             [
              0.3333333333333333,
              "#9c179e"
             ],
             [
              0.4444444444444444,
              "#bd3786"
             ],
             [
              0.5555555555555556,
              "#d8576b"
             ],
             [
              0.6666666666666666,
              "#ed7953"
             ],
             [
              0.7777777777777778,
              "#fb9f3a"
             ],
             [
              0.8888888888888888,
              "#fdca26"
             ],
             [
              1,
              "#f0f921"
             ]
            ],
            "type": "surface"
           }
          ],
          "table": [
           {
            "cells": {
             "fill": {
              "color": "#EBF0F8"
             },
             "line": {
              "color": "white"
             }
            },
            "header": {
             "fill": {
              "color": "#C8D4E3"
             },
             "line": {
              "color": "white"
             }
            },
            "type": "table"
           }
          ]
         },
         "layout": {
          "annotationdefaults": {
           "arrowcolor": "#2a3f5f",
           "arrowhead": 0,
           "arrowwidth": 1
          },
          "autotypenumbers": "strict",
          "coloraxis": {
           "colorbar": {
            "outlinewidth": 0,
            "ticks": ""
           }
          },
          "colorscale": {
           "diverging": [
            [
             0,
             "#8e0152"
            ],
            [
             0.1,
             "#c51b7d"
            ],
            [
             0.2,
             "#de77ae"
            ],
            [
             0.3,
             "#f1b6da"
            ],
            [
             0.4,
             "#fde0ef"
            ],
            [
             0.5,
             "#f7f7f7"
            ],
            [
             0.6,
             "#e6f5d0"
            ],
            [
             0.7,
             "#b8e186"
            ],
            [
             0.8,
             "#7fbc41"
            ],
            [
             0.9,
             "#4d9221"
            ],
            [
             1,
             "#276419"
            ]
           ],
           "sequential": [
            [
             0,
             "#0d0887"
            ],
            [
             0.1111111111111111,
             "#46039f"
            ],
            [
             0.2222222222222222,
             "#7201a8"
            ],
            [
             0.3333333333333333,
             "#9c179e"
            ],
            [
             0.4444444444444444,
             "#bd3786"
            ],
            [
             0.5555555555555556,
             "#d8576b"
            ],
            [
             0.6666666666666666,
             "#ed7953"
            ],
            [
             0.7777777777777778,
             "#fb9f3a"
            ],
            [
             0.8888888888888888,
             "#fdca26"
            ],
            [
             1,
             "#f0f921"
            ]
           ],
           "sequentialminus": [
            [
             0,
             "#0d0887"
            ],
            [
             0.1111111111111111,
             "#46039f"
            ],
            [
             0.2222222222222222,
             "#7201a8"
            ],
            [
             0.3333333333333333,
             "#9c179e"
            ],
            [
             0.4444444444444444,
             "#bd3786"
            ],
            [
             0.5555555555555556,
             "#d8576b"
            ],
            [
             0.6666666666666666,
             "#ed7953"
            ],
            [
             0.7777777777777778,
             "#fb9f3a"
            ],
            [
             0.8888888888888888,
             "#fdca26"
            ],
            [
             1,
             "#f0f921"
            ]
           ]
          },
          "colorway": [
           "#636efa",
           "#EF553B",
           "#00cc96",
           "#ab63fa",
           "#FFA15A",
           "#19d3f3",
           "#FF6692",
           "#B6E880",
           "#FF97FF",
           "#FECB52"
          ],
          "font": {
           "color": "#2a3f5f"
          },
          "geo": {
           "bgcolor": "white",
           "lakecolor": "white",
           "landcolor": "#E5ECF6",
           "showlakes": true,
           "showland": true,
           "subunitcolor": "white"
          },
          "hoverlabel": {
           "align": "left"
          },
          "hovermode": "closest",
          "mapbox": {
           "style": "light"
          },
          "paper_bgcolor": "white",
          "plot_bgcolor": "#E5ECF6",
          "polar": {
           "angularaxis": {
            "gridcolor": "white",
            "linecolor": "white",
            "ticks": ""
           },
           "bgcolor": "#E5ECF6",
           "radialaxis": {
            "gridcolor": "white",
            "linecolor": "white",
            "ticks": ""
           }
          },
          "scene": {
           "xaxis": {
            "backgroundcolor": "#E5ECF6",
            "gridcolor": "white",
            "gridwidth": 2,
            "linecolor": "white",
            "showbackground": true,
            "ticks": "",
            "zerolinecolor": "white"
           },
           "yaxis": {
            "backgroundcolor": "#E5ECF6",
            "gridcolor": "white",
            "gridwidth": 2,
            "linecolor": "white",
            "showbackground": true,
            "ticks": "",
            "zerolinecolor": "white"
           },
           "zaxis": {
            "backgroundcolor": "#E5ECF6",
            "gridcolor": "white",
            "gridwidth": 2,
            "linecolor": "white",
            "showbackground": true,
            "ticks": "",
            "zerolinecolor": "white"
           }
          },
          "shapedefaults": {
           "line": {
            "color": "#2a3f5f"
           }
          },
          "ternary": {
           "aaxis": {
            "gridcolor": "white",
            "linecolor": "white",
            "ticks": ""
           },
           "baxis": {
            "gridcolor": "white",
            "linecolor": "white",
            "ticks": ""
           },
           "bgcolor": "#E5ECF6",
           "caxis": {
            "gridcolor": "white",
            "linecolor": "white",
            "ticks": ""
           }
          },
          "title": {
           "x": 0.05
          },
          "xaxis": {
           "automargin": true,
           "gridcolor": "white",
           "linecolor": "white",
           "ticks": "",
           "title": {
            "standoff": 15
           },
           "zerolinecolor": "white",
           "zerolinewidth": 2
          },
          "yaxis": {
           "automargin": true,
           "gridcolor": "white",
           "linecolor": "white",
           "ticks": "",
           "title": {
            "standoff": 15
           },
           "zerolinecolor": "white",
           "zerolinewidth": 2
          }
         }
        },
        "title": {
         "text": "Nb of samples during day and night by year and month at Hot"
        },
        "updatemenus": [
         {
          "buttons": [
           {
            "args": [
             {
              "visible": [
               true,
               true,
               false,
               false,
               true,
               true,
               false,
               false
              ]
             }
            ],
            "label": "Non-Cumulative",
            "method": "update"
           },
           {
            "args": [
             {
              "visible": [
               false,
               false,
               true,
               true,
               false,
               false,
               true,
               true
              ]
             }
            ],
            "label": "Cumulative",
            "method": "update"
           }
          ],
          "direction": "down",
          "showactive": true
         }
        ],
        "width": 1100,
        "xaxis": {
         "anchor": "y",
         "domain": [
          0,
          0.45
         ],
         "showgrid": true,
         "title": {
          "text": "Year"
         }
        },
        "xaxis2": {
         "anchor": "y2",
         "domain": [
          0.55,
          1
         ]
        },
        "yaxis": {
         "anchor": "x",
         "domain": [
          0,
          1
         ],
         "showgrid": true,
         "title": {
          "text": "Nb of samples"
         }
        },
        "yaxis2": {
         "anchor": "x2",
         "domain": [
          0,
          1
         ]
        }
       }
      }
     },
     "metadata": {},
     "output_type": "display_data"
    }
   ],
   "source": [
    "# Calculer les comptes mensuels\n",
    "day_counts_month = data.groupby(\"time.month\").count().day[:, 0, 0, 0]\n",
    "night_counts_month = data.groupby(\"time.month\").count().night[:, 0, 0, 0]\n",
    "\n",
    "day_counts_month_cumsum = day_counts_month.cumsum()\n",
    "night_counts_month_cumsum = night_counts_month.cumsum()\n",
    "\n",
    "# Calculer les comptes annuels\n",
    "day_counts_year = data.groupby(\"time.year\").count().day[:, 0, 0, 0]\n",
    "night_counts_year = data.groupby(\"time.year\").count().night[:, 0, 0, 0]\n",
    "\n",
    "day_counts_year_cumsum = day_counts_year.cumsum()\n",
    "night_counts_year_cumsum = night_counts_year.cumsum()\n",
    "\n",
    "# Créer la figure avec des subplots\n",
    "fig = make_subplots(rows=1, cols=2, subplot_titles=(\"Yearly Data\", \"Monthly Data\"))\n",
    "\n",
    "# Ajouter les traces pour les données annuelles\n",
    "fig.add_trace(go.Scatter(x=day_counts_year[\"year\"], y=day_counts_year, mode=\"lines+markers\", name=\"Day\"), row=1, col=1)\n",
    "fig.add_trace(\n",
    "    go.Scatter(x=night_counts_year[\"year\"], y=night_counts_year, mode=\"lines+markers\", name=\"Night\"), row=1, col=1\n",
    ")\n",
    "fig.add_trace(\n",
    "    go.Scatter(\n",
    "        x=day_counts_year_cumsum[\"year\"],\n",
    "        y=day_counts_year_cumsum,\n",
    "        mode=\"lines+markers\",\n",
    "        name=\"Day Cumulative\",\n",
    "        visible=False,\n",
    "    ),\n",
    "    row=1,\n",
    "    col=1,\n",
    ")\n",
    "fig.add_trace(\n",
    "    go.Scatter(\n",
    "        x=night_counts_year_cumsum[\"year\"],\n",
    "        y=night_counts_year_cumsum,\n",
    "        mode=\"lines+markers\",\n",
    "        name=\"Night Cumulative\",\n",
    "        visible=False,\n",
    "    ),\n",
    "    row=1,\n",
    "    col=1,\n",
    ")\n",
    "\n",
    "# Ajouter les traces pour les données mensuelles\n",
    "fig.add_trace(\n",
    "    go.Scatter(x=day_counts_month[\"month\"], y=day_counts_month, mode=\"lines+markers\", name=\"Day\"), row=1, col=2\n",
    ")\n",
    "fig.add_trace(\n",
    "    go.Scatter(x=night_counts_month[\"month\"], y=night_counts_month, mode=\"lines+markers\", name=\"Night\"), row=1, col=2\n",
    ")\n",
    "fig.add_trace(\n",
    "    go.Scatter(\n",
    "        x=day_counts_month_cumsum[\"month\"],\n",
    "        y=day_counts_month_cumsum,\n",
    "        mode=\"lines+markers\",\n",
    "        name=\"Day Cumulative\",\n",
    "        visible=False,\n",
    "    ),\n",
    "    row=1,\n",
    "    col=2,\n",
    ")\n",
    "fig.add_trace(\n",
    "    go.Scatter(\n",
    "        x=night_counts_month_cumsum[\"month\"],\n",
    "        y=night_counts_month_cumsum,\n",
    "        mode=\"lines+markers\",\n",
    "        name=\"Night Cumulative\",\n",
    "        visible=False,\n",
    "    ),\n",
    "    row=1,\n",
    "    col=2,\n",
    ")\n",
    "\n",
    "# Mettre à jour la mise en page avec le menu déroulant\n",
    "fig.update_layout(\n",
    "    title=f\"Nb of samples during day and night by year and month at {station}\",\n",
    "    xaxis_title=\"Year\",\n",
    "    yaxis_title=\"Nb of samples\",\n",
    "    legend_title=\"Legend\",\n",
    "    xaxis={\"showgrid\": True},\n",
    "    yaxis={\"showgrid\": True},\n",
    "    updatemenus=[\n",
    "        {\n",
    "            \"buttons\": [\n",
    "                {\n",
    "                    \"args\": [{\"visible\": [True, True, False, False, True, True, False, False]}],\n",
    "                    \"label\": \"Non-Cumulative\",\n",
    "                    \"method\": \"update\",\n",
    "                },\n",
    "                {\n",
    "                    \"args\": [{\"visible\": [False, False, True, True, False, False, True, True]}],\n",
    "                    \"label\": \"Cumulative\",\n",
    "                    \"method\": \"update\",\n",
    "                },\n",
    "            ],\n",
    "            \"direction\": \"down\",\n",
    "            \"showactive\": True,\n",
    "        }\n",
    "    ],\n",
    ")\n",
    "# wider layout\n",
    "fig.update_layout(width=1100, height=600)\n",
    "fig.show()"
   ]
  },
  {
   "cell_type": "markdown",
   "metadata": {},
   "source": [
    "## Computing the trend\n"
   ]
  },
  {
   "cell_type": "code",
   "execution_count": 7,
   "metadata": {},
   "outputs": [
    {
     "name": "stderr",
     "output_type": "stream",
     "text": [
      "/var/folders/z_/8j3qx1mn0299kkpjgz9g53780000gq/T/ipykernel_7945/70799619.py:6: UserWarning:\n",
      "\n",
      "Converting non-nanosecond precision timedelta values to nanosecond precision. This behavior can eventually be relaxed in xarray, as it is an artifact from pandas which is now beginning to support non-nanosecond precision values. This warning is caused by passing non-nanosecond np.datetime64 or np.timedelta64 values to the DataArray or Variable constructor; it can be silenced by converting the values to nanosecond precision ahead of time.\n",
      "\n",
      "/var/folders/z_/8j3qx1mn0299kkpjgz9g53780000gq/T/ipykernel_7945/70799619.py:13: UserWarning:\n",
      "\n",
      "Converting non-nanosecond precision timedelta values to nanosecond precision. This behavior can eventually be relaxed in xarray, as it is an artifact from pandas which is now beginning to support non-nanosecond precision values. This warning is caused by passing non-nanosecond np.datetime64 or np.timedelta64 values to the DataArray or Variable constructor; it can be silenced by converting the values to nanosecond precision ahead of time.\n",
      "\n"
     ]
    },
    {
     "data": {
      "image/png": "[encoded data removed]",
      "text/plain": [
       "<Figure size 1200x600 with 1 Axes>"
      ]
     },
     "metadata": {},
     "output_type": "display_data"
    }
   ],
   "source": [
    "# Extraire les données de jour et de nuit\n",
    "day_data = data[\"day\"][:, 0, 0, 0].dropna(dim=\"time\")\n",
    "night_data = data[\"night\"][:, 0, 0, 0].dropna(dim=\"time\")\n",
    "\n",
    "# Extraire les indices de temps en jours\n",
    "time_indices = (day_data[\"time\"] - day_data[\"time\"][0]).astype(\"timedelta64[D]\").astype(int)\n",
    "\n",
    "# Ajuster une ligne droite aux données de jour\n",
    "day_trend = np.polyfit(time_indices, day_data, 1)\n",
    "day_trend_line = np.polyval(day_trend, time_indices)\n",
    "\n",
    "# Ajuster une ligne droite aux données de nuit\n",
    "night_time_indices = (night_data[\"time\"] - night_data[\"time\"][0]).astype(\"timedelta64[D]\").astype(int)\n",
    "night_trend = np.polyfit(night_time_indices, night_data, 1)\n",
    "night_trend_line = np.polyval(night_trend, night_time_indices)\n",
    "\n",
    "# Calculer l'erreur standard des tendances de jour et de nuit\n",
    "day_std_error = np.std(day_data - day_trend_line) / np.sqrt(len(day_data))\n",
    "night_std_error = np.std(night_data - night_trend_line) / np.sqrt(len(night_data))\n",
    "\n",
    "# Définir le niveau de confiance (par exemple, 95%)\n",
    "confidence_level = 0.95\n",
    "degrees_freedom_day = len(day_data) - 2\n",
    "degrees_freedom_night = len(night_data) - 2\n",
    "\n",
    "# Calculer la valeur critique t pour le niveau de confiance et les degrés de liberté\n",
    "t_critical_day = t.ppf((1 + confidence_level) / 2, degrees_freedom_day)\n",
    "t_critical_night = t.ppf((1 + confidence_level) / 2, degrees_freedom_night)\n",
    "\n",
    "# Calculer l'intervalle de confiance\n",
    "day_confidence_interval = float(t_critical_day * day_std_error)\n",
    "night_confidence_interval = float(t_critical_night * night_std_error)\n",
    "\n",
    "# Tracer les données et les intervalles de confiance\n",
    "plt.figure(figsize=(12, 6))\n",
    "plt.plot(day_data[\"time\"], day_data, label=\"Day Data\")\n",
    "plt.plot(day_data[\"time\"], day_trend_line, label=\"Day Trend\", linestyle=\"--\")\n",
    "plt.fill_between(\n",
    "    day_data[\"time\"],\n",
    "    day_trend_line - day_confidence_interval,\n",
    "    day_trend_line + day_confidence_interval,\n",
    "    color=\"b\",\n",
    "    alpha=0.2,\n",
    "    label=\"Day Confidence Interval\",\n",
    ")\n",
    "\n",
    "plt.plot(night_data[\"time\"], night_data, label=\"Night Data\")\n",
    "plt.plot(night_data[\"time\"], night_trend_line, label=\"Night Trend\", linestyle=\"--\")\n",
    "plt.fill_between(\n",
    "    night_data[\"time\"],\n",
    "    night_trend_line - night_confidence_interval,\n",
    "    night_trend_line + night_confidence_interval,\n",
    "    color=\"r\",\n",
    "    alpha=0.2,\n",
    "    label=\"Night Confidence Interval\",\n",
    ")\n",
    "\n",
    "plt.legend()\n",
    "plt.title(f\"Trend of samples during day and night at {station}\")\n",
    "plt.xlabel(\"Time\")\n",
    "plt.ylabel(\"Zooplankton biomass (mg/m3)\")\n",
    "plt.grid()\n",
    "plt.show()"
   ]
  },
  {
   "cell_type": "code",
   "execution_count": 8,
   "metadata": {},
   "outputs": [
    {
     "data": {
      "image/png": "[encoded data removed]",
      "text/plain": [
       "<Figure size 1200x600 with 1 Axes>"
      ]
     },
     "metadata": {},
     "output_type": "display_data"
    }
   ],
   "source": [
    "# Ajuster une fonction polynomiale de degré 2 aux données de jour\n",
    "day_poly_trend = np.polyfit(time_indices, day_data, 2)\n",
    "day_poly_trend_line = np.polyval(day_poly_trend, time_indices)\n",
    "\n",
    "# Ajuster une fonction polynomiale de degré 2 aux données de nuit\n",
    "night_poly_trend = np.polyfit(night_time_indices, night_data, 2)\n",
    "night_poly_trend_line = np.polyval(night_poly_trend, night_time_indices)\n",
    "\n",
    "# Calculer l'erreur standard des tendances polynomiales de jour et de nuit\n",
    "day_poly_std_error = np.std(day_data - day_poly_trend_line) / np.sqrt(len(day_data))\n",
    "night_poly_std_error = np.std(night_data - night_poly_trend_line) / np.sqrt(len(night_data))\n",
    "\n",
    "# Calculer l'intervalle de confiance pour les tendances polynomiales\n",
    "day_poly_confidence_interval = float(t_critical_day * day_poly_std_error)\n",
    "night_poly_confidence_interval = float(t_critical_night * night_poly_std_error)\n",
    "\n",
    "# Tracer les données et les intervalles de confiance pour les tendances polynomiales\n",
    "plt.figure(figsize=(12, 6))\n",
    "plt.plot(day_data[\"time\"], day_data, label=\"Day Data\")\n",
    "plt.plot(day_data[\"time\"], day_poly_trend_line, label=\"Day Polynomial Trend\", linestyle=\"--\")\n",
    "plt.fill_between(\n",
    "    day_data[\"time\"],\n",
    "    day_poly_trend_line - day_poly_confidence_interval,\n",
    "    day_poly_trend_line + day_poly_confidence_interval,\n",
    "    color=\"b\",\n",
    "    alpha=0.2,\n",
    "    label=\"Day Polynomial Confidence Interval\",\n",
    ")\n",
    "\n",
    "plt.plot(night_data[\"time\"], night_data, label=\"Night Data\")\n",
    "plt.plot(night_data[\"time\"], night_poly_trend_line, label=\"Night Polynomial Trend\", linestyle=\"--\")\n",
    "plt.fill_between(\n",
    "    night_data[\"time\"],\n",
    "    night_poly_trend_line - night_poly_confidence_interval,\n",
    "    night_poly_trend_line + night_poly_confidence_interval,\n",
    "    color=\"r\",\n",
    "    alpha=0.2,\n",
    "    label=\"Night Polynomial Confidence Interval\",\n",
    ")\n",
    "\n",
    "plt.legend()\n",
    "plt.title(f\"Polynomial Trend of samples during day and night at {station}\")\n",
    "plt.xlabel(\"Time\")\n",
    "plt.ylabel(\"Zooplankton biomass (mg/m3)\")\n",
    "plt.grid()\n",
    "plt.show()"
   ]
  },
  {
   "cell_type": "markdown",
   "metadata": {},
   "source": [
    "## Group data by month\n"
   ]
  },
  {
   "cell_type": "code",
   "execution_count": 9,
   "metadata": {},
   "outputs": [
    {
     "data": {
      "text/html": [
       "<div><svg style=\"position: absolute; width: 0; height: 0; overflow: hidden\">\n",
       "<defs>\n",
       "<symbol id=\"icon-database\" viewBox=\"0 0 32 32\">\n",
       "<path d=\"M16 0c-8.837 0-16 2.239-16 5v4c0 2.761 7.163 5 16 5s16-2.239 16-5v-4c0-2.761-7.163-5-16-5z\"></path>\n",
       "<path d=\"M16 17c-8.837 0-16-2.239-16-5v6c0 2.761 7.163 5 16 5s16-2.239 16-5v-6c0 2.761-7.163 5-16 5z\"></path>\n",
       "<path d=\"M16 26c-8.837 0-16-2.239-16-5v6c0 2.761 7.163 5 16 5s16-2.239 16-5v-6c0 2.761-7.163 5-16 5z\"></path>\n",
       "</symbol>\n",
       "<symbol id=\"icon-file-text2\" viewBox=\"0 0 32 32\">\n",
       "<path d=\"M28.681 7.159c-0.694-0.947-1.662-2.053-2.724-3.116s-2.169-2.030-3.116-2.724c-1.612-1.182-2.393-1.319-2.841-1.319h-15.5c-1.378 0-2.5 1.121-2.5 2.5v27c0 1.378 1.122 2.5 2.5 2.5h23c1.378 0 2.5-1.122 2.5-2.5v-19.5c0-0.448-0.137-1.23-1.319-2.841zM24.543 5.457c0.959 0.959 1.712 1.825 2.268 2.543h-4.811v-4.811c0.718 0.556 1.584 1.309 2.543 2.268zM28 29.5c0 0.271-0.229 0.5-0.5 0.5h-23c-0.271 0-0.5-0.229-0.5-0.5v-27c0-0.271 0.229-0.5 0.5-0.5 0 0 15.499-0 15.5 0v7c0 0.552 0.448 1 1 1h7v19.5z\"></path>\n",
       "<path d=\"M23 26h-14c-0.552 0-1-0.448-1-1s0.448-1 1-1h14c0.552 0 1 0.448 1 1s-0.448 1-1 1z\"></path>\n",
       "<path d=\"M23 22h-14c-0.552 0-1-0.448-1-1s0.448-1 1-1h14c0.552 0 1 0.448 1 1s-0.448 1-1 1z\"></path>\n",
       "<path d=\"M23 18h-14c-0.552 0-1-0.448-1-1s0.448-1 1-1h14c0.552 0 1 0.448 1 1s-0.448 1-1 1z\"></path>\n",
       "</symbol>\n",
       "</defs>\n",
       "</svg>\n",
       "<style>/* CSS stylesheet for displaying xarray objects in jupyterlab.\n",
       " *\n",
       " */\n",
       "\n",
       ":root {\n",
       "  --xr-font-color0: var(--jp-content-font-color0, rgba(0, 0, 0, 1));\n",
       "  --xr-font-color2: var(--jp-content-font-color2, rgba(0, 0, 0, 0.54));\n",
       "  --xr-font-color3: var(--jp-content-font-color3, rgba(0, 0, 0, 0.38));\n",
       "  --xr-border-color: var(--jp-border-color2, #e0e0e0);\n",
       "  --xr-disabled-color: var(--jp-layout-color3, #bdbdbd);\n",
       "  --xr-background-color: var(--jp-layout-color0, white);\n",
       "  --xr-background-color-row-even: var(--jp-layout-color1, white);\n",
       "  --xr-background-color-row-odd: var(--jp-layout-color2, #eeeeee);\n",
       "}\n",
       "\n",
       "html[theme=\"dark\"],\n",
       "html[data-theme=\"dark\"],\n",
       "body[data-theme=\"dark\"],\n",
       "body.vscode-dark {\n",
       "  --xr-font-color0: rgba(255, 255, 255, 1);\n",
       "  --xr-font-color2: rgba(255, 255, 255, 0.54);\n",
       "  --xr-font-color3: rgba(255, 255, 255, 0.38);\n",
       "  --xr-border-color: #1f1f1f;\n",
       "  --xr-disabled-color: #515151;\n",
       "  --xr-background-color: #111111;\n",
       "  --xr-background-color-row-even: #111111;\n",
       "  --xr-background-color-row-odd: #313131;\n",
       "}\n",
       "\n",
       ".xr-wrap {\n",
       "  display: block !important;\n",
       "  min-width: 300px;\n",
       "  max-width: 700px;\n",
       "}\n",
       "\n",
       ".xr-text-repr-fallback {\n",
       "  /* fallback to plain text repr when CSS is not injected (untrusted notebook) */\n",
       "  display: none;\n",
       "}\n",
       "\n",
       ".xr-header {\n",
       "  padding-top: 6px;\n",
       "  padding-bottom: 6px;\n",
       "  margin-bottom: 4px;\n",
       "  border-bottom: solid 1px var(--xr-border-color);\n",
       "}\n",
       "\n",
       ".xr-header > div,\n",
       ".xr-header > ul {\n",
       "  display: inline;\n",
       "  margin-top: 0;\n",
       "  margin-bottom: 0;\n",
       "}\n",
       "\n",
       ".xr-obj-type,\n",
       ".xr-array-name {\n",
       "  margin-left: 2px;\n",
       "  margin-right: 10px;\n",
       "}\n",
       "\n",
       ".xr-obj-type {\n",
       "  color: var(--xr-font-color2);\n",
       "}\n",
       "\n",
       ".xr-sections {\n",
       "  padding-left: 0 !important;\n",
       "  display: grid;\n",
       "  grid-template-columns: 150px auto auto 1fr 0 20px 0 20px;\n",
       "}\n",
       "\n",
       ".xr-section-item {\n",
       "  display: contents;\n",
       "}\n",
       "\n",
       ".xr-section-item input {\n",
       "  display: inline-block;\n",
       "  opacity: 0;\n",
       "  height: 0;\n",
       "}\n",
       "\n",
       ".xr-section-item input + label {\n",
       "  color: var(--xr-disabled-color);\n",
       "}\n",
       "\n",
       ".xr-section-item input:enabled + label {\n",
       "  cursor: pointer;\n",
       "  color: var(--xr-font-color2);\n",
       "}\n",
       "\n",
       ".xr-section-item input:focus + label {\n",
       "  border: 2px solid var(--xr-font-color0);\n",
       "}\n",
       "\n",
       ".xr-section-item input:enabled + label:hover {\n",
       "  color: var(--xr-font-color0);\n",
       "}\n",
       "\n",
       ".xr-section-summary {\n",
       "  grid-column: 1;\n",
       "  color: var(--xr-font-color2);\n",
       "  font-weight: 500;\n",
       "}\n",
       "\n",
       ".xr-section-summary > span {\n",
       "  display: inline-block;\n",
       "  padding-left: 0.5em;\n",
       "}\n",
       "\n",
       ".xr-section-summary-in:disabled + label {\n",
       "  color: var(--xr-font-color2);\n",
       "}\n",
       "\n",
       ".xr-section-summary-in + label:before {\n",
       "  display: inline-block;\n",
       "  content: \"►\";\n",
       "  font-size: 11px;\n",
       "  width: 15px;\n",
       "  text-align: center;\n",
       "}\n",
       "\n",
       ".xr-section-summary-in:disabled + label:before {\n",
       "  color: var(--xr-disabled-color);\n",
       "}\n",
       "\n",
       ".xr-section-summary-in:checked + label:before {\n",
       "  content: \"▼\";\n",
       "}\n",
       "\n",
       ".xr-section-summary-in:checked + label > span {\n",
       "  display: none;\n",
       "}\n",
       "\n",
       ".xr-section-summary,\n",
       ".xr-section-inline-details {\n",
       "  padding-top: 4px;\n",
       "  padding-bottom: 4px;\n",
       "}\n",
       "\n",
       ".xr-section-inline-details {\n",
       "  grid-column: 2 / -1;\n",
       "}\n",
       "\n",
       ".xr-section-details {\n",
       "  display: none;\n",
       "  grid-column: 1 / -1;\n",
       "  margin-bottom: 5px;\n",
       "}\n",
       "\n",
       ".xr-section-summary-in:checked ~ .xr-section-details {\n",
       "  display: contents;\n",
       "}\n",
       "\n",
       ".xr-array-wrap {\n",
       "  grid-column: 1 / -1;\n",
       "  display: grid;\n",
       "  grid-template-columns: 20px auto;\n",
       "}\n",
       "\n",
       ".xr-array-wrap > label {\n",
       "  grid-column: 1;\n",
       "  vertical-align: top;\n",
       "}\n",
       "\n",
       ".xr-preview {\n",
       "  color: var(--xr-font-color3);\n",
       "}\n",
       "\n",
       ".xr-array-preview,\n",
       ".xr-array-data {\n",
       "  padding: 0 5px !important;\n",
       "  grid-column: 2;\n",
       "}\n",
       "\n",
       ".xr-array-data,\n",
       ".xr-array-in:checked ~ .xr-array-preview {\n",
       "  display: none;\n",
       "}\n",
       "\n",
       ".xr-array-in:checked ~ .xr-array-data,\n",
       ".xr-array-preview {\n",
       "  display: inline-block;\n",
       "}\n",
       "\n",
       ".xr-dim-list {\n",
       "  display: inline-block !important;\n",
       "  list-style: none;\n",
       "  padding: 0 !important;\n",
       "  margin: 0;\n",
       "}\n",
       "\n",
       ".xr-dim-list li {\n",
       "  display: inline-block;\n",
       "  padding: 0;\n",
       "  margin: 0;\n",
       "}\n",
       "\n",
       ".xr-dim-list:before {\n",
       "  content: \"(\";\n",
       "}\n",
       "\n",
       ".xr-dim-list:after {\n",
       "  content: \")\";\n",
       "}\n",
       "\n",
       ".xr-dim-list li:not(:last-child):after {\n",
       "  content: \",\";\n",
       "  padding-right: 5px;\n",
       "}\n",
       "\n",
       ".xr-has-index {\n",
       "  font-weight: bold;\n",
       "}\n",
       "\n",
       ".xr-var-list,\n",
       ".xr-var-item {\n",
       "  display: contents;\n",
       "}\n",
       "\n",
       ".xr-var-item > div,\n",
       ".xr-var-item label,\n",
       ".xr-var-item > .xr-var-name span {\n",
       "  background-color: var(--xr-background-color-row-even);\n",
       "  margin-bottom: 0;\n",
       "}\n",
       "\n",
       ".xr-var-item > .xr-var-name:hover span {\n",
       "  padding-right: 5px;\n",
       "}\n",
       "\n",
       ".xr-var-list > li:nth-child(odd) > div,\n",
       ".xr-var-list > li:nth-child(odd) > label,\n",
       ".xr-var-list > li:nth-child(odd) > .xr-var-name span {\n",
       "  background-color: var(--xr-background-color-row-odd);\n",
       "}\n",
       "\n",
       ".xr-var-name {\n",
       "  grid-column: 1;\n",
       "}\n",
       "\n",
       ".xr-var-dims {\n",
       "  grid-column: 2;\n",
       "}\n",
       "\n",
       ".xr-var-dtype {\n",
       "  grid-column: 3;\n",
       "  text-align: right;\n",
       "  color: var(--xr-font-color2);\n",
       "}\n",
       "\n",
       ".xr-var-preview {\n",
       "  grid-column: 4;\n",
       "}\n",
       "\n",
       ".xr-index-preview {\n",
       "  grid-column: 2 / 5;\n",
       "  color: var(--xr-font-color2);\n",
       "}\n",
       "\n",
       ".xr-var-name,\n",
       ".xr-var-dims,\n",
       ".xr-var-dtype,\n",
       ".xr-preview,\n",
       ".xr-attrs dt {\n",
       "  white-space: nowrap;\n",
       "  overflow: hidden;\n",
       "  text-overflow: ellipsis;\n",
       "  padding-right: 10px;\n",
       "}\n",
       "\n",
       ".xr-var-name:hover,\n",
       ".xr-var-dims:hover,\n",
       ".xr-var-dtype:hover,\n",
       ".xr-attrs dt:hover {\n",
       "  overflow: visible;\n",
       "  width: auto;\n",
       "  z-index: 1;\n",
       "}\n",
       "\n",
       ".xr-var-attrs,\n",
       ".xr-var-data,\n",
       ".xr-index-data {\n",
       "  display: none;\n",
       "  background-color: var(--xr-background-color) !important;\n",
       "  padding-bottom: 5px !important;\n",
       "}\n",
       "\n",
       ".xr-var-attrs-in:checked ~ .xr-var-attrs,\n",
       ".xr-var-data-in:checked ~ .xr-var-data,\n",
       ".xr-index-data-in:checked ~ .xr-index-data {\n",
       "  display: block;\n",
       "}\n",
       "\n",
       ".xr-var-data > table {\n",
       "  float: right;\n",
       "}\n",
       "\n",
       ".xr-var-name span,\n",
       ".xr-var-data,\n",
       ".xr-index-name div,\n",
       ".xr-index-data,\n",
       ".xr-attrs {\n",
       "  padding-left: 25px !important;\n",
       "}\n",
       "\n",
       ".xr-attrs,\n",
       ".xr-var-attrs,\n",
       ".xr-var-data,\n",
       ".xr-index-data {\n",
       "  grid-column: 1 / -1;\n",
       "}\n",
       "\n",
       "dl.xr-attrs {\n",
       "  padding: 0;\n",
       "  margin: 0;\n",
       "  display: grid;\n",
       "  grid-template-columns: 125px auto;\n",
       "}\n",
       "\n",
       ".xr-attrs dt,\n",
       ".xr-attrs dd {\n",
       "  padding: 0;\n",
       "  margin: 0;\n",
       "  float: left;\n",
       "  padding-right: 10px;\n",
       "  width: auto;\n",
       "}\n",
       "\n",
       ".xr-attrs dt {\n",
       "  font-weight: normal;\n",
       "  grid-column: 1;\n",
       "}\n",
       "\n",
       ".xr-attrs dt:hover span {\n",
       "  display: inline-block;\n",
       "  background: var(--xr-background-color);\n",
       "  padding-right: 10px;\n",
       "}\n",
       "\n",
       ".xr-attrs dd {\n",
       "  grid-column: 2;\n",
       "  white-space: pre-wrap;\n",
       "  word-break: break-all;\n",
       "}\n",
       "\n",
       ".xr-icon-database,\n",
       ".xr-icon-file-text2,\n",
       ".xr-no-icon {\n",
       "  display: inline-block;\n",
       "  vertical-align: middle;\n",
       "  width: 1em;\n",
       "  height: 1.5em !important;\n",
       "  stroke-width: 0;\n",
       "  stroke: currentColor;\n",
       "  fill: currentColor;\n",
       "}\n",
       "</style><pre class='xr-text-repr-fallback'>&lt;xarray.Dataset&gt; Size: 312B\n",
       "Dimensions:    (month: 12, latitude: 1, longitude: 1, layer: 1)\n",
       "Coordinates:\n",
       "  * latitude   (latitude) float64 8B 22.75\n",
       "  * layer      (layer) int64 8B 0\n",
       "  * longitude  (longitude) int64 8B -158\n",
       "  * month      (month) int64 96B 1 2 3 4 5 6 7 8 9 10 11 12\n",
       "Data variables:\n",
       "    day        (month, latitude, longitude, layer) float64 96B 1.397 ... 1.528\n",
       "    night      (month, latitude, longitude, layer) float64 96B 2.237 ... 2.595</pre><div class='xr-wrap' style='display:none'><div class='xr-header'><div class='xr-obj-type'>xarray.Dataset</div></div><ul class='xr-sections'><li class='xr-section-item'><input id='section-0bd806a6-38ad-423a-8f0a-dd0f98825823' class='xr-section-summary-in' type='checkbox' disabled ><label for='section-0bd806a6-38ad-423a-8f0a-dd0f98825823' class='xr-section-summary'  title='Expand/collapse section'>Dimensions:</label><div class='xr-section-inline-details'><ul class='xr-dim-list'><li><span class='xr-has-index'>month</span>: 12</li><li><span class='xr-has-index'>latitude</span>: 1</li><li><span class='xr-has-index'>longitude</span>: 1</li><li><span class='xr-has-index'>layer</span>: 1</li></ul></div><div class='xr-section-details'></div></li><li class='xr-section-item'><input id='section-0b0d2d5e-2b31-4f82-be84-5bc07341cf42' class='xr-section-summary-in' type='checkbox'  checked><label for='section-0b0d2d5e-2b31-4f82-be84-5bc07341cf42' class='xr-section-summary' >Coordinates: <span>(4)</span></label><div class='xr-section-inline-details'></div><div class='xr-section-details'><ul class='xr-var-list'><li class='xr-var-item'><div class='xr-var-name'><span class='xr-has-index'>latitude</span></div><div class='xr-var-dims'>(latitude)</div><div class='xr-var-dtype'>float64</div><div class='xr-var-preview xr-preview'>22.75</div><input id='attrs-76aa6282-e0ef-4a4f-a4b6-9f9b22f2c52c' class='xr-var-attrs-in' type='checkbox' ><label for='attrs-76aa6282-e0ef-4a4f-a4b6-9f9b22f2c52c' title='Show/Hide attributes'><svg class='icon xr-icon-file-text2'><use xlink:href='#icon-file-text2'></use></svg></label><input id='data-f5f8c47c-b5b7-4039-976d-3229078a6545' class='xr-var-data-in' type='checkbox'><label for='data-f5f8c47c-b5b7-4039-976d-3229078a6545' title='Show/Hide data repr'><svg class='icon xr-icon-database'><use xlink:href='#icon-database'></use></svg></label><div class='xr-var-attrs'><dl class='xr-attrs'><dt><span>axis :</span></dt><dd>Y</dd><dt><span>long_name :</span></dt><dd>Latitude</dd><dt><span>standard_name :</span></dt><dd>latitude</dd><dt><span>units :</span></dt><dd>degrees_north</dd></dl></div><div class='xr-var-data'><pre>array([22.75])</pre></div></li><li class='xr-var-item'><div class='xr-var-name'><span class='xr-has-index'>layer</span></div><div class='xr-var-dims'>(layer)</div><div class='xr-var-dtype'>int64</div><div class='xr-var-preview xr-preview'>0</div><input id='attrs-6e7e445a-5313-482a-9c90-0659ab652782' class='xr-var-attrs-in' type='checkbox' ><label for='attrs-6e7e445a-5313-482a-9c90-0659ab652782' title='Show/Hide attributes'><svg class='icon xr-icon-file-text2'><use xlink:href='#icon-file-text2'></use></svg></label><input id='data-4ac523a3-cca7-4886-9b87-b41413cf77d8' class='xr-var-data-in' type='checkbox'><label for='data-4ac523a3-cca7-4886-9b87-b41413cf77d8' title='Show/Hide data repr'><svg class='icon xr-icon-database'><use xlink:href='#icon-database'></use></svg></label><div class='xr-var-attrs'><dl class='xr-attrs'><dt><span>axis :</span></dt><dd>Z</dd><dt><span>desc :</span></dt><dd>The layer depth according to Seapodym definition</dd><dt><span>flag_meanings :</span></dt><dd>epipelagic, upper-mesopelagic, lower-mesopelagic</dd><dt><span>flag_values :</span></dt><dd>[0, 1, 2]</dd><dt><span>long_name :</span></dt><dd>Layer depth</dd><dt><span>standard_name :</span></dt><dd>layer</dd></dl></div><div class='xr-var-data'><pre>array([0])</pre></div></li><li class='xr-var-item'><div class='xr-var-name'><span class='xr-has-index'>longitude</span></div><div class='xr-var-dims'>(longitude)</div><div class='xr-var-dtype'>int64</div><div class='xr-var-preview xr-preview'>-158</div><input id='attrs-be1bf033-5307-416d-913a-f2d13d50b6ca' class='xr-var-attrs-in' type='checkbox' ><label for='attrs-be1bf033-5307-416d-913a-f2d13d50b6ca' title='Show/Hide attributes'><svg class='icon xr-icon-file-text2'><use xlink:href='#icon-file-text2'></use></svg></label><input id='data-25061de1-2daa-4aa2-8b87-5c795c25e105' class='xr-var-data-in' type='checkbox'><label for='data-25061de1-2daa-4aa2-8b87-5c795c25e105' title='Show/Hide data repr'><svg class='icon xr-icon-database'><use xlink:href='#icon-database'></use></svg></label><div class='xr-var-attrs'><dl class='xr-attrs'><dt><span>axis :</span></dt><dd>X</dd><dt><span>long_name :</span></dt><dd>Longitude</dd><dt><span>standard_name :</span></dt><dd>longitude</dd><dt><span>units :</span></dt><dd>degrees_east</dd></dl></div><div class='xr-var-data'><pre>array([-158])</pre></div></li><li class='xr-var-item'><div class='xr-var-name'><span class='xr-has-index'>month</span></div><div class='xr-var-dims'>(month)</div><div class='xr-var-dtype'>int64</div><div class='xr-var-preview xr-preview'>1 2 3 4 5 6 7 8 9 10 11 12</div><input id='attrs-7c88bd7a-246b-43bc-94e8-78cee1873b94' class='xr-var-attrs-in' type='checkbox' disabled><label for='attrs-7c88bd7a-246b-43bc-94e8-78cee1873b94' title='Show/Hide attributes'><svg class='icon xr-icon-file-text2'><use xlink:href='#icon-file-text2'></use></svg></label><input id='data-9c9fb9c0-ab5c-47c1-b8f2-3fe931b2c1ac' class='xr-var-data-in' type='checkbox'><label for='data-9c9fb9c0-ab5c-47c1-b8f2-3fe931b2c1ac' title='Show/Hide data repr'><svg class='icon xr-icon-database'><use xlink:href='#icon-database'></use></svg></label><div class='xr-var-attrs'><dl class='xr-attrs'></dl></div><div class='xr-var-data'><pre>array([ 1,  2,  3,  4,  5,  6,  7,  8,  9, 10, 11, 12])</pre></div></li></ul></div></li><li class='xr-section-item'><input id='section-f5c45e4e-9153-4e40-9197-dcaaf3ef2b2e' class='xr-section-summary-in' type='checkbox'  checked><label for='section-f5c45e4e-9153-4e40-9197-dcaaf3ef2b2e' class='xr-section-summary' >Data variables: <span>(2)</span></label><div class='xr-section-inline-details'></div><div class='xr-section-details'><ul class='xr-var-list'><li class='xr-var-item'><div class='xr-var-name'><span>day</span></div><div class='xr-var-dims'>(month, latitude, longitude, layer)</div><div class='xr-var-dtype'>float64</div><div class='xr-var-preview xr-preview'>1.397 1.473 1.671 ... 1.719 1.528</div><input id='attrs-7990f0e8-93b1-4f43-a62f-196e5bb7274c' class='xr-var-attrs-in' type='checkbox' ><label for='attrs-7990f0e8-93b1-4f43-a62f-196e5bb7274c' title='Show/Hide attributes'><svg class='icon xr-icon-file-text2'><use xlink:href='#icon-file-text2'></use></svg></label><input id='data-dccf8045-c513-4bec-99b6-c62f8aa49d39' class='xr-var-data-in' type='checkbox'><label for='data-dccf8045-c513-4bec-99b6-c62f8aa49d39' title='Show/Hide data repr'><svg class='icon xr-icon-database'><use xlink:href='#icon-database'></use></svg></label><div class='xr-var-attrs'><dl class='xr-attrs'><dt><span>description :</span></dt><dd>Zooplankton carbon weight by cube meter of sea water during the day</dd><dt><span>units :</span></dt><dd>mg/m3</dd></dl></div><div class='xr-var-data'><pre>array([[[[1.39741176]]],\n",
       "\n",
       "\n",
       "       [[[1.47263193]]],\n",
       "\n",
       "\n",
       "       [[[1.67113065]]],\n",
       "\n",
       "\n",
       "       [[[1.92700065]]],\n",
       "\n",
       "\n",
       "       [[[2.01080433]]],\n",
       "\n",
       "\n",
       "       [[[2.083478  ]]],\n",
       "\n",
       "\n",
       "       [[[2.1951159 ]]],\n",
       "\n",
       "\n",
       "       [[[2.34508304]]],\n",
       "\n",
       "\n",
       "       [[[2.32331868]]],\n",
       "\n",
       "\n",
       "       [[[2.04404128]]],\n",
       "\n",
       "\n",
       "       [[[1.71878358]]],\n",
       "\n",
       "\n",
       "       [[[1.52839926]]]])</pre></div></li><li class='xr-var-item'><div class='xr-var-name'><span>night</span></div><div class='xr-var-dims'>(month, latitude, longitude, layer)</div><div class='xr-var-dtype'>float64</div><div class='xr-var-preview xr-preview'>2.237 2.552 2.728 ... 3.031 2.595</div><input id='attrs-0adbf9fc-e3ad-44e2-880c-126b94563a81' class='xr-var-attrs-in' type='checkbox' ><label for='attrs-0adbf9fc-e3ad-44e2-880c-126b94563a81' title='Show/Hide attributes'><svg class='icon xr-icon-file-text2'><use xlink:href='#icon-file-text2'></use></svg></label><input id='data-7e914231-215e-4412-bfad-512730beac55' class='xr-var-data-in' type='checkbox'><label for='data-7e914231-215e-4412-bfad-512730beac55' title='Show/Hide data repr'><svg class='icon xr-icon-database'><use xlink:href='#icon-database'></use></svg></label><div class='xr-var-attrs'><dl class='xr-attrs'><dt><span>description :</span></dt><dd>Zooplankton carbon weight by cube meter of sea water at night</dd><dt><span>units :</span></dt><dd>mg/m3</dd></dl></div><div class='xr-var-data'><pre>array([[[[2.23711992]]],\n",
       "\n",
       "\n",
       "       [[[2.55167207]]],\n",
       "\n",
       "\n",
       "       [[[2.72792017]]],\n",
       "\n",
       "\n",
       "       [[[3.1274618 ]]],\n",
       "\n",
       "\n",
       "       [[[3.02449493]]],\n",
       "\n",
       "\n",
       "       [[[3.11451182]]],\n",
       "\n",
       "\n",
       "       [[[3.41485379]]],\n",
       "\n",
       "\n",
       "       [[[3.36435628]]],\n",
       "\n",
       "\n",
       "       [[[3.21446945]]],\n",
       "\n",
       "\n",
       "       [[[3.27566412]]],\n",
       "\n",
       "\n",
       "       [[[3.03129268]]],\n",
       "\n",
       "\n",
       "       [[[2.59485805]]]])</pre></div></li></ul></div></li><li class='xr-section-item'><input id='section-b5ef7983-0e73-48d0-a869-33a2cf31fd85' class='xr-section-summary-in' type='checkbox'  ><label for='section-b5ef7983-0e73-48d0-a869-33a2cf31fd85' class='xr-section-summary' >Indexes: <span>(4)</span></label><div class='xr-section-inline-details'></div><div class='xr-section-details'><ul class='xr-var-list'><li class='xr-var-item'><div class='xr-index-name'><div>latitude</div></div><div class='xr-index-preview'>PandasIndex</div><input type='checkbox' disabled/><label></label><input id='index-5be066f9-dc05-49b9-a831-686c45758f1c' class='xr-index-data-in' type='checkbox'/><label for='index-5be066f9-dc05-49b9-a831-686c45758f1c' title='Show/Hide index repr'><svg class='icon xr-icon-database'><use xlink:href='#icon-database'></use></svg></label><div class='xr-index-data'><pre>PandasIndex(Index([22.75], dtype=&#x27;float64&#x27;, name=&#x27;latitude&#x27;))</pre></div></li><li class='xr-var-item'><div class='xr-index-name'><div>layer</div></div><div class='xr-index-preview'>PandasIndex</div><input type='checkbox' disabled/><label></label><input id='index-efc16376-5337-4540-8f06-6420b5175e87' class='xr-index-data-in' type='checkbox'/><label for='index-efc16376-5337-4540-8f06-6420b5175e87' title='Show/Hide index repr'><svg class='icon xr-icon-database'><use xlink:href='#icon-database'></use></svg></label><div class='xr-index-data'><pre>PandasIndex(Index([0], dtype=&#x27;int64&#x27;, name=&#x27;layer&#x27;))</pre></div></li><li class='xr-var-item'><div class='xr-index-name'><div>longitude</div></div><div class='xr-index-preview'>PandasIndex</div><input type='checkbox' disabled/><label></label><input id='index-4becf6c2-e9b1-4ad2-bd4f-6d0395d31150' class='xr-index-data-in' type='checkbox'/><label for='index-4becf6c2-e9b1-4ad2-bd4f-6d0395d31150' title='Show/Hide index repr'><svg class='icon xr-icon-database'><use xlink:href='#icon-database'></use></svg></label><div class='xr-index-data'><pre>PandasIndex(Index([-158], dtype=&#x27;int64&#x27;, name=&#x27;longitude&#x27;))</pre></div></li><li class='xr-var-item'><div class='xr-index-name'><div>month</div></div><div class='xr-index-preview'>PandasIndex</div><input type='checkbox' disabled/><label></label><input id='index-edd5163f-ed7c-416b-b0f4-17e62a2e2dfd' class='xr-index-data-in' type='checkbox'/><label for='index-edd5163f-ed7c-416b-b0f4-17e62a2e2dfd' title='Show/Hide index repr'><svg class='icon xr-icon-database'><use xlink:href='#icon-database'></use></svg></label><div class='xr-index-data'><pre>PandasIndex(Index([1, 2, 3, 4, 5, 6, 7, 8, 9, 10, 11, 12], dtype=&#x27;int64&#x27;, name=&#x27;month&#x27;))</pre></div></li></ul></div></li><li class='xr-section-item'><input id='section-401ec443-8b5c-4ebb-b66b-761d29525ee9' class='xr-section-summary-in' type='checkbox' disabled ><label for='section-401ec443-8b5c-4ebb-b66b-761d29525ee9' class='xr-section-summary'  title='Expand/collapse section'>Attributes: <span>(0)</span></label><div class='xr-section-inline-details'></div><div class='xr-section-details'><dl class='xr-attrs'></dl></div></li></ul></div></div>"
      ],
      "text/plain": [
       "<xarray.Dataset> Size: 312B\n",
       "Dimensions:    (month: 12, latitude: 1, longitude: 1, layer: 1)\n",
       "Coordinates:\n",
       "  * latitude   (latitude) float64 8B 22.75\n",
       "  * layer      (layer) int64 8B 0\n",
       "  * longitude  (longitude) int64 8B -158\n",
       "  * month      (month) int64 96B 1 2 3 4 5 6 7 8 9 10 11 12\n",
       "Data variables:\n",
       "    day        (month, latitude, longitude, layer) float64 96B 1.397 ... 1.528\n",
       "    night      (month, latitude, longitude, layer) float64 96B 2.237 ... 2.595"
      ]
     },
     "execution_count": 9,
     "metadata": {},
     "output_type": "execute_result"
    }
   ],
   "source": [
    "grouped_data = xr.Dataset({\"day\": data.day, \"night\": data.night})\n",
    "\n",
    "# Calculer les moyennes mensuelles des données détrendées\n",
    "grouped_data = grouped_data.groupby(\"time.month\").mean()\n",
    "grouped_data\n",
    "\n",
    "# ajouter des nan pour les semaines manquantes\n",
    "grouped_data = grouped_data.reindex(month=np.arange(1, 13))\n",
    "grouped_data"
   ]
  },
  {
   "cell_type": "markdown",
   "metadata": {},
   "source": [
    "## Raw data, no smoothing\n"
   ]
  },
  {
   "cell_type": "code",
   "execution_count": 10,
   "metadata": {},
   "outputs": [
    {
     "data": {
      "application/vnd.plotly.v1+json": {
       "config": {
        "plotlyServerURL": "https://plot.ly"
       },
       "data": [
        {
         "mode": "lines",
         "name": "day",
         "type": "scatter",
         "x": [
          1,
          2,
          3,
          4,
          5,
          6,
          7,
          8,
          9,
          10,
          11,
          12
         ],
         "y": [
          1.3974117647599726,
          1.4726319288804461,
          1.6711306458019441,
          1.9270006510417081,
          2.0108043263170545,
          2.083477996000935,
          2.1951159021801545,
          2.345083042506672,
          2.323318682795895,
          2.044041282707298,
          1.7187835812038232,
          1.528399260428799
         ]
        },
        {
         "mode": "lines",
         "name": "night",
         "type": "scatter",
         "x": [
          1,
          2,
          3,
          4,
          5,
          6,
          7,
          8,
          9,
          10,
          11,
          12
         ],
         "y": [
          2.2371199165326328,
          2.5516720733774596,
          2.7279201721613155,
          3.1274618041004016,
          3.024494929942291,
          3.1145118215820355,
          3.41485378514031,
          3.364356281112992,
          3.214469446960891,
          3.275664115744544,
          3.0312926798937805,
          2.5948580486565356
         ]
        }
       ],
       "layout": {
        "height": 600,
        "legend": {
         "title": {
          "text": "Legend"
         }
        },
        "showlegend": true,
        "template": {
         "data": {
          "bar": [
           {
            "error_x": {
             "color": "#2a3f5f"
            },
            "error_y": {
             "color": "#2a3f5f"
            },
            "marker": {
             "line": {
              "color": "#E5ECF6",
              "width": 0.5
             },
             "pattern": {
              "fillmode": "overlay",
              "size": 10,
              "solidity": 0.2
             }
            },
            "type": "bar"
           }
          ],
          "barpolar": [
           {
            "marker": {
             "line": {
              "color": "#E5ECF6",
              "width": 0.5
             },
             "pattern": {
              "fillmode": "overlay",
              "size": 10,
              "solidity": 0.2
             }
            },
            "type": "barpolar"
           }
          ],
          "carpet": [
           {
            "aaxis": {
             "endlinecolor": "#2a3f5f",
             "gridcolor": "white",
             "linecolor": "white",
             "minorgridcolor": "white",
             "startlinecolor": "#2a3f5f"
            },
            "baxis": {
             "endlinecolor": "#2a3f5f",
             "gridcolor": "white",
             "linecolor": "white",
             "minorgridcolor": "white",
             "startlinecolor": "#2a3f5f"
            },
            "type": "carpet"
           }
          ],
          "choropleth": [
           {
            "colorbar": {
             "outlinewidth": 0,
             "ticks": ""
            },
            "type": "choropleth"
           }
          ],
          "contour": [
           {
            "colorbar": {
             "outlinewidth": 0,
             "ticks": ""
            },
            "colorscale": [
             [
              0,
              "#0d0887"
             ],
             [
              0.1111111111111111,
              "#46039f"
             ],
             [
              0.2222222222222222,
              "#7201a8"
             ],
             [
              0.3333333333333333,
              "#9c179e"
             ],
             [
              0.4444444444444444,
              "#bd3786"
             ],
             [
              0.5555555555555556,
              "#d8576b"
             ],
             [
              0.6666666666666666,
              "#ed7953"
             ],
             [
              0.7777777777777778,
              "#fb9f3a"
             ],
             [
              0.8888888888888888,
              "#fdca26"
             ],
             [
              1,
              "#f0f921"
             ]
            ],
            "type": "contour"
           }
          ],
          "contourcarpet": [
           {
            "colorbar": {
             "outlinewidth": 0,
             "ticks": ""
            },
            "type": "contourcarpet"
           }
          ],
          "heatmap": [
           {
            "colorbar": {
             "outlinewidth": 0,
             "ticks": ""
            },
            "colorscale": [
             [
              0,
              "#0d0887"
             ],
             [
              0.1111111111111111,
              "#46039f"
             ],
             [
              0.2222222222222222,
              "#7201a8"
             ],
             [
              0.3333333333333333,
              "#9c179e"
             ],
             [
              0.4444444444444444,
              "#bd3786"
             ],
             [
              0.5555555555555556,
              "#d8576b"
             ],
             [
              0.6666666666666666,
              "#ed7953"
             ],
             [
              0.7777777777777778,
              "#fb9f3a"
             ],
             [
              0.8888888888888888,
              "#fdca26"
             ],
             [
              1,
              "#f0f921"
             ]
            ],
            "type": "heatmap"
           }
          ],
          "heatmapgl": [
           {
            "colorbar": {
             "outlinewidth": 0,
             "ticks": ""
            },
            "colorscale": [
             [
              0,
              "#0d0887"
             ],
             [
              0.1111111111111111,
              "#46039f"
             ],
             [
              0.2222222222222222,
              "#7201a8"
             ],
             [
              0.3333333333333333,
              "#9c179e"
             ],
             [
              0.4444444444444444,
              "#bd3786"
             ],
             [
              0.5555555555555556,
              "#d8576b"
             ],
             [
              0.6666666666666666,
              "#ed7953"
             ],
             [
              0.7777777777777778,
              "#fb9f3a"
             ],
             [
              0.8888888888888888,
              "#fdca26"
             ],
             [
              1,
              "#f0f921"
             ]
            ],
            "type": "heatmapgl"
           }
          ],
          "histogram": [
           {
            "marker": {
             "pattern": {
              "fillmode": "overlay",
              "size": 10,
              "solidity": 0.2
             }
            },
            "type": "histogram"
           }
          ],
          "histogram2d": [
           {
            "colorbar": {
             "outlinewidth": 0,
             "ticks": ""
            },
            "colorscale": [
             [
              0,
              "#0d0887"
             ],
             [
              0.1111111111111111,
              "#46039f"
             ],
             [
              0.2222222222222222,
              "#7201a8"
             ],
             [
              0.3333333333333333,
              "#9c179e"
             ],
             [
              0.4444444444444444,
              "#bd3786"
             ],
             [
              0.5555555555555556,
              "#d8576b"
             ],
             [
              0.6666666666666666,
              "#ed7953"
             ],
             [
              0.7777777777777778,
              "#fb9f3a"
             ],
             [
              0.8888888888888888,
              "#fdca26"
             ],
             [
              1,
              "#f0f921"
             ]
            ],
            "type": "histogram2d"
           }
          ],
          "histogram2dcontour": [
           {
            "colorbar": {
             "outlinewidth": 0,
             "ticks": ""
            },
            "colorscale": [
             [
              0,
              "#0d0887"
             ],
             [
              0.1111111111111111,
              "#46039f"
             ],
             [
              0.2222222222222222,
              "#7201a8"
             ],
             [
              0.3333333333333333,
              "#9c179e"
             ],
             [
              0.4444444444444444,
              "#bd3786"
             ],
             [
              0.5555555555555556,
              "#d8576b"
             ],
             [
              0.6666666666666666,
              "#ed7953"
             ],
             [
              0.7777777777777778,
              "#fb9f3a"
             ],
             [
              0.8888888888888888,
              "#fdca26"
             ],
             [
              1,
              "#f0f921"
             ]
            ],
            "type": "histogram2dcontour"
           }
          ],
          "mesh3d": [
           {
            "colorbar": {
             "outlinewidth": 0,
             "ticks": ""
            },
            "type": "mesh3d"
           }
          ],
          "parcoords": [
           {
            "line": {
             "colorbar": {
              "outlinewidth": 0,
              "ticks": ""
             }
            },
            "type": "parcoords"
           }
          ],
          "pie": [
           {
            "automargin": true,
            "type": "pie"
           }
          ],
          "scatter": [
           {
            "fillpattern": {
             "fillmode": "overlay",
             "size": 10,
             "solidity": 0.2
            },
            "type": "scatter"
           }
          ],
          "scatter3d": [
           {
            "line": {
             "colorbar": {
              "outlinewidth": 0,
              "ticks": ""
             }
            },
            "marker": {
             "colorbar": {
              "outlinewidth": 0,
              "ticks": ""
             }
            },
            "type": "scatter3d"
           }
          ],
          "scattercarpet": [
           {
            "marker": {
             "colorbar": {
              "outlinewidth": 0,
              "ticks": ""
             }
            },
            "type": "scattercarpet"
           }
          ],
          "scattergeo": [
           {
            "marker": {
             "colorbar": {
              "outlinewidth": 0,
              "ticks": ""
             }
            },
            "type": "scattergeo"
           }
          ],
          "scattergl": [
           {
            "marker": {
             "colorbar": {
              "outlinewidth": 0,
              "ticks": ""
             }
            },
            "type": "scattergl"
           }
          ],
          "scattermapbox": [
           {
            "marker": {
             "colorbar": {
              "outlinewidth": 0,
              "ticks": ""
             }
            },
            "type": "scattermapbox"
           }
          ],
          "scatterpolar": [
           {
            "marker": {
             "colorbar": {
              "outlinewidth": 0,
              "ticks": ""
             }
            },
            "type": "scatterpolar"
           }
          ],
          "scatterpolargl": [
           {
            "marker": {
             "colorbar": {
              "outlinewidth": 0,
              "ticks": ""
             }
            },
            "type": "scatterpolargl"
           }
          ],
          "scatterternary": [
           {
            "marker": {
             "colorbar": {
              "outlinewidth": 0,
              "ticks": ""
             }
            },
            "type": "scatterternary"
           }
          ],
          "surface": [
           {
            "colorbar": {
             "outlinewidth": 0,
             "ticks": ""
            },
            "colorscale": [
             [
              0,
              "#0d0887"
             ],
             [
              0.1111111111111111,
              "#46039f"
             ],
             [
              0.2222222222222222,
              "#7201a8"
             ],
             [
              0.3333333333333333,
              "#9c179e"
             ],
             [
              0.4444444444444444,
              "#bd3786"
             ],
             [
              0.5555555555555556,
              "#d8576b"
             ],
             [
              0.6666666666666666,
              "#ed7953"
             ],
             [
              0.7777777777777778,
              "#fb9f3a"
             ],
             [
              0.8888888888888888,
              "#fdca26"
             ],
             [
              1,
              "#f0f921"
             ]
            ],
            "type": "surface"
           }
          ],
          "table": [
           {
            "cells": {
             "fill": {
              "color": "#EBF0F8"
             },
             "line": {
              "color": "white"
             }
            },
            "header": {
             "fill": {
              "color": "#C8D4E3"
             },
             "line": {
              "color": "white"
             }
            },
            "type": "table"
           }
          ]
         },
         "layout": {
          "annotationdefaults": {
           "arrowcolor": "#2a3f5f",
           "arrowhead": 0,
           "arrowwidth": 1
          },
          "autotypenumbers": "strict",
          "coloraxis": {
           "colorbar": {
            "outlinewidth": 0,
            "ticks": ""
           }
          },
          "colorscale": {
           "diverging": [
            [
             0,
             "#8e0152"
            ],
            [
             0.1,
             "#c51b7d"
            ],
            [
             0.2,
             "#de77ae"
            ],
            [
             0.3,
             "#f1b6da"
            ],
            [
             0.4,
             "#fde0ef"
            ],
            [
             0.5,
             "#f7f7f7"
            ],
            [
             0.6,
             "#e6f5d0"
            ],
            [
             0.7,
             "#b8e186"
            ],
            [
             0.8,
             "#7fbc41"
            ],
            [
             0.9,
             "#4d9221"
            ],
            [
             1,
             "#276419"
            ]
           ],
           "sequential": [
            [
             0,
             "#0d0887"
            ],
            [
             0.1111111111111111,
             "#46039f"
            ],
            [
             0.2222222222222222,
             "#7201a8"
            ],
            [
             0.3333333333333333,
             "#9c179e"
            ],
            [
             0.4444444444444444,
             "#bd3786"
            ],
            [
             0.5555555555555556,
             "#d8576b"
            ],
            [
             0.6666666666666666,
             "#ed7953"
            ],
            [
             0.7777777777777778,
             "#fb9f3a"
            ],
            [
             0.8888888888888888,
             "#fdca26"
            ],
            [
             1,
             "#f0f921"
            ]
           ],
           "sequentialminus": [
            [
             0,
             "#0d0887"
            ],
            [
             0.1111111111111111,
             "#46039f"
            ],
            [
             0.2222222222222222,
             "#7201a8"
            ],
            [
             0.3333333333333333,
             "#9c179e"
            ],
            [
             0.4444444444444444,
             "#bd3786"
            ],
            [
             0.5555555555555556,
             "#d8576b"
            ],
            [
             0.6666666666666666,
             "#ed7953"
            ],
            [
             0.7777777777777778,
             "#fb9f3a"
            ],
            [
             0.8888888888888888,
             "#fdca26"
            ],
            [
             1,
             "#f0f921"
            ]
           ]
          },
          "colorway": [
           "#636efa",
           "#EF553B",
           "#00cc96",
           "#ab63fa",
           "#FFA15A",
           "#19d3f3",
           "#FF6692",
           "#B6E880",
           "#FF97FF",
           "#FECB52"
          ],
          "font": {
           "color": "#2a3f5f"
          },
          "geo": {
           "bgcolor": "white",
           "lakecolor": "white",
           "landcolor": "#E5ECF6",
           "showlakes": true,
           "showland": true,
           "subunitcolor": "white"
          },
          "hoverlabel": {
           "align": "left"
          },
          "hovermode": "closest",
          "mapbox": {
           "style": "light"
          },
          "paper_bgcolor": "white",
          "plot_bgcolor": "#E5ECF6",
          "polar": {
           "angularaxis": {
            "gridcolor": "white",
            "linecolor": "white",
            "ticks": ""
           },
           "bgcolor": "#E5ECF6",
           "radialaxis": {
            "gridcolor": "white",
            "linecolor": "white",
            "ticks": ""
           }
          },
          "scene": {
           "xaxis": {
            "backgroundcolor": "#E5ECF6",
            "gridcolor": "white",
            "gridwidth": 2,
            "linecolor": "white",
            "showbackground": true,
            "ticks": "",
            "zerolinecolor": "white"
           },
           "yaxis": {
            "backgroundcolor": "#E5ECF6",
            "gridcolor": "white",
            "gridwidth": 2,
            "linecolor": "white",
            "showbackground": true,
            "ticks": "",
            "zerolinecolor": "white"
           },
           "zaxis": {
            "backgroundcolor": "#E5ECF6",
            "gridcolor": "white",
            "gridwidth": 2,
            "linecolor": "white",
            "showbackground": true,
            "ticks": "",
            "zerolinecolor": "white"
           }
          },
          "shapedefaults": {
           "line": {
            "color": "#2a3f5f"
           }
          },
          "ternary": {
           "aaxis": {
            "gridcolor": "white",
            "linecolor": "white",
            "ticks": ""
           },
           "baxis": {
            "gridcolor": "white",
            "linecolor": "white",
            "ticks": ""
           },
           "bgcolor": "#E5ECF6",
           "caxis": {
            "gridcolor": "white",
            "linecolor": "white",
            "ticks": ""
           }
          },
          "title": {
           "x": 0.05
          },
          "xaxis": {
           "automargin": true,
           "gridcolor": "white",
           "linecolor": "white",
           "ticks": "",
           "title": {
            "standoff": 15
           },
           "zerolinecolor": "white",
           "zerolinewidth": 2
          },
          "yaxis": {
           "automargin": true,
           "gridcolor": "white",
           "linecolor": "white",
           "ticks": "",
           "title": {
            "standoff": 15
           },
           "zerolinecolor": "white",
           "zerolinewidth": 2
          }
         }
        },
        "title": {
         "text": "Climatology of samples during day and night at Hot"
        },
        "width": 800,
        "xaxis": {
         "title": {
          "text": "Month of year"
         }
        },
        "yaxis": {
         "title": {
          "text": "Zooplankton biomass (mg/m3)"
         }
        }
       }
      }
     },
     "metadata": {},
     "output_type": "display_data"
    }
   ],
   "source": [
    "fig = go.Figure()\n",
    "\n",
    "fig.add_trace(\n",
    "    go.Scatter(\n",
    "        x=grouped_data.day.dropna(\"month\").month.data.flatten(),\n",
    "        y=grouped_data.day.dropna(\"month\").data.flatten(),\n",
    "        mode=\"lines\",\n",
    "        name=\"day\",\n",
    "    )\n",
    ")\n",
    "\n",
    "fig.add_trace(\n",
    "    go.Scatter(\n",
    "        x=grouped_data.night.dropna(\"month\").month.data.flatten(),\n",
    "        y=grouped_data.night.dropna(\"month\").data.flatten(),\n",
    "        mode=\"lines\",\n",
    "        name=\"night\",\n",
    "    )\n",
    ")\n",
    "\n",
    "fig.update_layout(\n",
    "    title=f\"Climatology of samples during day and night at {station}\",\n",
    "    xaxis_title=\"Month of year\",\n",
    "    yaxis_title=\"Zooplankton biomass (mg/m3)\",\n",
    "    legend_title=\"Legend\",\n",
    "    height=600,\n",
    "    width=800,\n",
    "    showlegend=True,\n",
    ")\n",
    "\n",
    "fig.show()"
   ]
  },
  {
   "cell_type": "code",
   "execution_count": 11,
   "metadata": {},
   "outputs": [
    {
     "data": {
      "text/html": [
       "<div><svg style=\"position: absolute; width: 0; height: 0; overflow: hidden\">\n",
       "<defs>\n",
       "<symbol id=\"icon-database\" viewBox=\"0 0 32 32\">\n",
       "<path d=\"M16 0c-8.837 0-16 2.239-16 5v4c0 2.761 7.163 5 16 5s16-2.239 16-5v-4c0-2.761-7.163-5-16-5z\"></path>\n",
       "<path d=\"M16 17c-8.837 0-16-2.239-16-5v6c0 2.761 7.163 5 16 5s16-2.239 16-5v-6c0 2.761-7.163 5-16 5z\"></path>\n",
       "<path d=\"M16 26c-8.837 0-16-2.239-16-5v6c0 2.761 7.163 5 16 5s16-2.239 16-5v-6c0 2.761-7.163 5-16 5z\"></path>\n",
       "</symbol>\n",
       "<symbol id=\"icon-file-text2\" viewBox=\"0 0 32 32\">\n",
       "<path d=\"M28.681 7.159c-0.694-0.947-1.662-2.053-2.724-3.116s-2.169-2.030-3.116-2.724c-1.612-1.182-2.393-1.319-2.841-1.319h-15.5c-1.378 0-2.5 1.121-2.5 2.5v27c0 1.378 1.122 2.5 2.5 2.5h23c1.378 0 2.5-1.122 2.5-2.5v-19.5c0-0.448-0.137-1.23-1.319-2.841zM24.543 5.457c0.959 0.959 1.712 1.825 2.268 2.543h-4.811v-4.811c0.718 0.556 1.584 1.309 2.543 2.268zM28 29.5c0 0.271-0.229 0.5-0.5 0.5h-23c-0.271 0-0.5-0.229-0.5-0.5v-27c0-0.271 0.229-0.5 0.5-0.5 0 0 15.499-0 15.5 0v7c0 0.552 0.448 1 1 1h7v19.5z\"></path>\n",
       "<path d=\"M23 26h-14c-0.552 0-1-0.448-1-1s0.448-1 1-1h14c0.552 0 1 0.448 1 1s-0.448 1-1 1z\"></path>\n",
       "<path d=\"M23 22h-14c-0.552 0-1-0.448-1-1s0.448-1 1-1h14c0.552 0 1 0.448 1 1s-0.448 1-1 1z\"></path>\n",
       "<path d=\"M23 18h-14c-0.552 0-1-0.448-1-1s0.448-1 1-1h14c0.552 0 1 0.448 1 1s-0.448 1-1 1z\"></path>\n",
       "</symbol>\n",
       "</defs>\n",
       "</svg>\n",
       "<style>/* CSS stylesheet for displaying xarray objects in jupyterlab.\n",
       " *\n",
       " */\n",
       "\n",
       ":root {\n",
       "  --xr-font-color0: var(--jp-content-font-color0, rgba(0, 0, 0, 1));\n",
       "  --xr-font-color2: var(--jp-content-font-color2, rgba(0, 0, 0, 0.54));\n",
       "  --xr-font-color3: var(--jp-content-font-color3, rgba(0, 0, 0, 0.38));\n",
       "  --xr-border-color: var(--jp-border-color2, #e0e0e0);\n",
       "  --xr-disabled-color: var(--jp-layout-color3, #bdbdbd);\n",
       "  --xr-background-color: var(--jp-layout-color0, white);\n",
       "  --xr-background-color-row-even: var(--jp-layout-color1, white);\n",
       "  --xr-background-color-row-odd: var(--jp-layout-color2, #eeeeee);\n",
       "}\n",
       "\n",
       "html[theme=\"dark\"],\n",
       "html[data-theme=\"dark\"],\n",
       "body[data-theme=\"dark\"],\n",
       "body.vscode-dark {\n",
       "  --xr-font-color0: rgba(255, 255, 255, 1);\n",
       "  --xr-font-color2: rgba(255, 255, 255, 0.54);\n",
       "  --xr-font-color3: rgba(255, 255, 255, 0.38);\n",
       "  --xr-border-color: #1f1f1f;\n",
       "  --xr-disabled-color: #515151;\n",
       "  --xr-background-color: #111111;\n",
       "  --xr-background-color-row-even: #111111;\n",
       "  --xr-background-color-row-odd: #313131;\n",
       "}\n",
       "\n",
       ".xr-wrap {\n",
       "  display: block !important;\n",
       "  min-width: 300px;\n",
       "  max-width: 700px;\n",
       "}\n",
       "\n",
       ".xr-text-repr-fallback {\n",
       "  /* fallback to plain text repr when CSS is not injected (untrusted notebook) */\n",
       "  display: none;\n",
       "}\n",
       "\n",
       ".xr-header {\n",
       "  padding-top: 6px;\n",
       "  padding-bottom: 6px;\n",
       "  margin-bottom: 4px;\n",
       "  border-bottom: solid 1px var(--xr-border-color);\n",
       "}\n",
       "\n",
       ".xr-header > div,\n",
       ".xr-header > ul {\n",
       "  display: inline;\n",
       "  margin-top: 0;\n",
       "  margin-bottom: 0;\n",
       "}\n",
       "\n",
       ".xr-obj-type,\n",
       ".xr-array-name {\n",
       "  margin-left: 2px;\n",
       "  margin-right: 10px;\n",
       "}\n",
       "\n",
       ".xr-obj-type {\n",
       "  color: var(--xr-font-color2);\n",
       "}\n",
       "\n",
       ".xr-sections {\n",
       "  padding-left: 0 !important;\n",
       "  display: grid;\n",
       "  grid-template-columns: 150px auto auto 1fr 0 20px 0 20px;\n",
       "}\n",
       "\n",
       ".xr-section-item {\n",
       "  display: contents;\n",
       "}\n",
       "\n",
       ".xr-section-item input {\n",
       "  display: inline-block;\n",
       "  opacity: 0;\n",
       "  height: 0;\n",
       "}\n",
       "\n",
       ".xr-section-item input + label {\n",
       "  color: var(--xr-disabled-color);\n",
       "}\n",
       "\n",
       ".xr-section-item input:enabled + label {\n",
       "  cursor: pointer;\n",
       "  color: var(--xr-font-color2);\n",
       "}\n",
       "\n",
       ".xr-section-item input:focus + label {\n",
       "  border: 2px solid var(--xr-font-color0);\n",
       "}\n",
       "\n",
       ".xr-section-item input:enabled + label:hover {\n",
       "  color: var(--xr-font-color0);\n",
       "}\n",
       "\n",
       ".xr-section-summary {\n",
       "  grid-column: 1;\n",
       "  color: var(--xr-font-color2);\n",
       "  font-weight: 500;\n",
       "}\n",
       "\n",
       ".xr-section-summary > span {\n",
       "  display: inline-block;\n",
       "  padding-left: 0.5em;\n",
       "}\n",
       "\n",
       ".xr-section-summary-in:disabled + label {\n",
       "  color: var(--xr-font-color2);\n",
       "}\n",
       "\n",
       ".xr-section-summary-in + label:before {\n",
       "  display: inline-block;\n",
       "  content: \"►\";\n",
       "  font-size: 11px;\n",
       "  width: 15px;\n",
       "  text-align: center;\n",
       "}\n",
       "\n",
       ".xr-section-summary-in:disabled + label:before {\n",
       "  color: var(--xr-disabled-color);\n",
       "}\n",
       "\n",
       ".xr-section-summary-in:checked + label:before {\n",
       "  content: \"▼\";\n",
       "}\n",
       "\n",
       ".xr-section-summary-in:checked + label > span {\n",
       "  display: none;\n",
       "}\n",
       "\n",
       ".xr-section-summary,\n",
       ".xr-section-inline-details {\n",
       "  padding-top: 4px;\n",
       "  padding-bottom: 4px;\n",
       "}\n",
       "\n",
       ".xr-section-inline-details {\n",
       "  grid-column: 2 / -1;\n",
       "}\n",
       "\n",
       ".xr-section-details {\n",
       "  display: none;\n",
       "  grid-column: 1 / -1;\n",
       "  margin-bottom: 5px;\n",
       "}\n",
       "\n",
       ".xr-section-summary-in:checked ~ .xr-section-details {\n",
       "  display: contents;\n",
       "}\n",
       "\n",
       ".xr-array-wrap {\n",
       "  grid-column: 1 / -1;\n",
       "  display: grid;\n",
       "  grid-template-columns: 20px auto;\n",
       "}\n",
       "\n",
       ".xr-array-wrap > label {\n",
       "  grid-column: 1;\n",
       "  vertical-align: top;\n",
       "}\n",
       "\n",
       ".xr-preview {\n",
       "  color: var(--xr-font-color3);\n",
       "}\n",
       "\n",
       ".xr-array-preview,\n",
       ".xr-array-data {\n",
       "  padding: 0 5px !important;\n",
       "  grid-column: 2;\n",
       "}\n",
       "\n",
       ".xr-array-data,\n",
       ".xr-array-in:checked ~ .xr-array-preview {\n",
       "  display: none;\n",
       "}\n",
       "\n",
       ".xr-array-in:checked ~ .xr-array-data,\n",
       ".xr-array-preview {\n",
       "  display: inline-block;\n",
       "}\n",
       "\n",
       ".xr-dim-list {\n",
       "  display: inline-block !important;\n",
       "  list-style: none;\n",
       "  padding: 0 !important;\n",
       "  margin: 0;\n",
       "}\n",
       "\n",
       ".xr-dim-list li {\n",
       "  display: inline-block;\n",
       "  padding: 0;\n",
       "  margin: 0;\n",
       "}\n",
       "\n",
       ".xr-dim-list:before {\n",
       "  content: \"(\";\n",
       "}\n",
       "\n",
       ".xr-dim-list:after {\n",
       "  content: \")\";\n",
       "}\n",
       "\n",
       ".xr-dim-list li:not(:last-child):after {\n",
       "  content: \",\";\n",
       "  padding-right: 5px;\n",
       "}\n",
       "\n",
       ".xr-has-index {\n",
       "  font-weight: bold;\n",
       "}\n",
       "\n",
       ".xr-var-list,\n",
       ".xr-var-item {\n",
       "  display: contents;\n",
       "}\n",
       "\n",
       ".xr-var-item > div,\n",
       ".xr-var-item label,\n",
       ".xr-var-item > .xr-var-name span {\n",
       "  background-color: var(--xr-background-color-row-even);\n",
       "  margin-bottom: 0;\n",
       "}\n",
       "\n",
       ".xr-var-item > .xr-var-name:hover span {\n",
       "  padding-right: 5px;\n",
       "}\n",
       "\n",
       ".xr-var-list > li:nth-child(odd) > div,\n",
       ".xr-var-list > li:nth-child(odd) > label,\n",
       ".xr-var-list > li:nth-child(odd) > .xr-var-name span {\n",
       "  background-color: var(--xr-background-color-row-odd);\n",
       "}\n",
       "\n",
       ".xr-var-name {\n",
       "  grid-column: 1;\n",
       "}\n",
       "\n",
       ".xr-var-dims {\n",
       "  grid-column: 2;\n",
       "}\n",
       "\n",
       ".xr-var-dtype {\n",
       "  grid-column: 3;\n",
       "  text-align: right;\n",
       "  color: var(--xr-font-color2);\n",
       "}\n",
       "\n",
       ".xr-var-preview {\n",
       "  grid-column: 4;\n",
       "}\n",
       "\n",
       ".xr-index-preview {\n",
       "  grid-column: 2 / 5;\n",
       "  color: var(--xr-font-color2);\n",
       "}\n",
       "\n",
       ".xr-var-name,\n",
       ".xr-var-dims,\n",
       ".xr-var-dtype,\n",
       ".xr-preview,\n",
       ".xr-attrs dt {\n",
       "  white-space: nowrap;\n",
       "  overflow: hidden;\n",
       "  text-overflow: ellipsis;\n",
       "  padding-right: 10px;\n",
       "}\n",
       "\n",
       ".xr-var-name:hover,\n",
       ".xr-var-dims:hover,\n",
       ".xr-var-dtype:hover,\n",
       ".xr-attrs dt:hover {\n",
       "  overflow: visible;\n",
       "  width: auto;\n",
       "  z-index: 1;\n",
       "}\n",
       "\n",
       ".xr-var-attrs,\n",
       ".xr-var-data,\n",
       ".xr-index-data {\n",
       "  display: none;\n",
       "  background-color: var(--xr-background-color) !important;\n",
       "  padding-bottom: 5px !important;\n",
       "}\n",
       "\n",
       ".xr-var-attrs-in:checked ~ .xr-var-attrs,\n",
       ".xr-var-data-in:checked ~ .xr-var-data,\n",
       ".xr-index-data-in:checked ~ .xr-index-data {\n",
       "  display: block;\n",
       "}\n",
       "\n",
       ".xr-var-data > table {\n",
       "  float: right;\n",
       "}\n",
       "\n",
       ".xr-var-name span,\n",
       ".xr-var-data,\n",
       ".xr-index-name div,\n",
       ".xr-index-data,\n",
       ".xr-attrs {\n",
       "  padding-left: 25px !important;\n",
       "}\n",
       "\n",
       ".xr-attrs,\n",
       ".xr-var-attrs,\n",
       ".xr-var-data,\n",
       ".xr-index-data {\n",
       "  grid-column: 1 / -1;\n",
       "}\n",
       "\n",
       "dl.xr-attrs {\n",
       "  padding: 0;\n",
       "  margin: 0;\n",
       "  display: grid;\n",
       "  grid-template-columns: 125px auto;\n",
       "}\n",
       "\n",
       ".xr-attrs dt,\n",
       ".xr-attrs dd {\n",
       "  padding: 0;\n",
       "  margin: 0;\n",
       "  float: left;\n",
       "  padding-right: 10px;\n",
       "  width: auto;\n",
       "}\n",
       "\n",
       ".xr-attrs dt {\n",
       "  font-weight: normal;\n",
       "  grid-column: 1;\n",
       "}\n",
       "\n",
       ".xr-attrs dt:hover span {\n",
       "  display: inline-block;\n",
       "  background: var(--xr-background-color);\n",
       "  padding-right: 10px;\n",
       "}\n",
       "\n",
       ".xr-attrs dd {\n",
       "  grid-column: 2;\n",
       "  white-space: pre-wrap;\n",
       "  word-break: break-all;\n",
       "}\n",
       "\n",
       ".xr-icon-database,\n",
       ".xr-icon-file-text2,\n",
       ".xr-no-icon {\n",
       "  display: inline-block;\n",
       "  vertical-align: middle;\n",
       "  width: 1em;\n",
       "  height: 1.5em !important;\n",
       "  stroke-width: 0;\n",
       "  stroke: currentColor;\n",
       "  fill: currentColor;\n",
       "}\n",
       "</style><pre class='xr-text-repr-fallback'>&lt;xarray.Dataset&gt; Size: 888B\n",
       "Dimensions:    (month: 36, latitude: 1, longitude: 1, layer: 1)\n",
       "Coordinates:\n",
       "  * latitude   (latitude) float64 8B 22.75\n",
       "  * layer      (layer) int64 8B 0\n",
       "  * longitude  (longitude) int64 8B -158\n",
       "  * month      (month) int64 288B -11 -10 -9 -8 -7 -6 -5 ... 19 20 21 22 23 24\n",
       "Data variables:\n",
       "    day        (month, latitude, longitude, layer) float64 288B 1.397 ... 1.528\n",
       "    night      (month, latitude, longitude, layer) float64 288B 2.237 ... 2.595</pre><div class='xr-wrap' style='display:none'><div class='xr-header'><div class='xr-obj-type'>xarray.Dataset</div></div><ul class='xr-sections'><li class='xr-section-item'><input id='section-83624db6-4536-4e92-b7a8-e52770655184' class='xr-section-summary-in' type='checkbox' disabled ><label for='section-83624db6-4536-4e92-b7a8-e52770655184' class='xr-section-summary'  title='Expand/collapse section'>Dimensions:</label><div class='xr-section-inline-details'><ul class='xr-dim-list'><li><span class='xr-has-index'>month</span>: 36</li><li><span class='xr-has-index'>latitude</span>: 1</li><li><span class='xr-has-index'>longitude</span>: 1</li><li><span class='xr-has-index'>layer</span>: 1</li></ul></div><div class='xr-section-details'></div></li><li class='xr-section-item'><input id='section-3ba7b973-c402-43bf-ac02-e3a2bb33e287' class='xr-section-summary-in' type='checkbox'  checked><label for='section-3ba7b973-c402-43bf-ac02-e3a2bb33e287' class='xr-section-summary' >Coordinates: <span>(4)</span></label><div class='xr-section-inline-details'></div><div class='xr-section-details'><ul class='xr-var-list'><li class='xr-var-item'><div class='xr-var-name'><span class='xr-has-index'>latitude</span></div><div class='xr-var-dims'>(latitude)</div><div class='xr-var-dtype'>float64</div><div class='xr-var-preview xr-preview'>22.75</div><input id='attrs-1a6d435a-5fc5-40be-9310-4b720b28737e' class='xr-var-attrs-in' type='checkbox' ><label for='attrs-1a6d435a-5fc5-40be-9310-4b720b28737e' title='Show/Hide attributes'><svg class='icon xr-icon-file-text2'><use xlink:href='#icon-file-text2'></use></svg></label><input id='data-a7b30ad5-91c3-45a5-9fc9-6f9f5a2c6d55' class='xr-var-data-in' type='checkbox'><label for='data-a7b30ad5-91c3-45a5-9fc9-6f9f5a2c6d55' title='Show/Hide data repr'><svg class='icon xr-icon-database'><use xlink:href='#icon-database'></use></svg></label><div class='xr-var-attrs'><dl class='xr-attrs'><dt><span>axis :</span></dt><dd>Y</dd><dt><span>long_name :</span></dt><dd>Latitude</dd><dt><span>standard_name :</span></dt><dd>latitude</dd><dt><span>units :</span></dt><dd>degrees_north</dd></dl></div><div class='xr-var-data'><pre>array([22.75])</pre></div></li><li class='xr-var-item'><div class='xr-var-name'><span class='xr-has-index'>layer</span></div><div class='xr-var-dims'>(layer)</div><div class='xr-var-dtype'>int64</div><div class='xr-var-preview xr-preview'>0</div><input id='attrs-ebc46f07-a40e-4351-b53e-418c38318e98' class='xr-var-attrs-in' type='checkbox' ><label for='attrs-ebc46f07-a40e-4351-b53e-418c38318e98' title='Show/Hide attributes'><svg class='icon xr-icon-file-text2'><use xlink:href='#icon-file-text2'></use></svg></label><input id='data-e8a47f77-7cca-4cd1-9a06-0f22cec48346' class='xr-var-data-in' type='checkbox'><label for='data-e8a47f77-7cca-4cd1-9a06-0f22cec48346' title='Show/Hide data repr'><svg class='icon xr-icon-database'><use xlink:href='#icon-database'></use></svg></label><div class='xr-var-attrs'><dl class='xr-attrs'><dt><span>axis :</span></dt><dd>Z</dd><dt><span>desc :</span></dt><dd>The layer depth according to Seapodym definition</dd><dt><span>flag_meanings :</span></dt><dd>epipelagic, upper-mesopelagic, lower-mesopelagic</dd><dt><span>flag_values :</span></dt><dd>[0, 1, 2]</dd><dt><span>long_name :</span></dt><dd>Layer depth</dd><dt><span>standard_name :</span></dt><dd>layer</dd></dl></div><div class='xr-var-data'><pre>array([0])</pre></div></li><li class='xr-var-item'><div class='xr-var-name'><span class='xr-has-index'>longitude</span></div><div class='xr-var-dims'>(longitude)</div><div class='xr-var-dtype'>int64</div><div class='xr-var-preview xr-preview'>-158</div><input id='attrs-082f252e-c644-4c9b-83c1-a1e30e57898f' class='xr-var-attrs-in' type='checkbox' ><label for='attrs-082f252e-c644-4c9b-83c1-a1e30e57898f' title='Show/Hide attributes'><svg class='icon xr-icon-file-text2'><use xlink:href='#icon-file-text2'></use></svg></label><input id='data-5f9fb7b5-6fa2-4114-bfe1-482b639fc518' class='xr-var-data-in' type='checkbox'><label for='data-5f9fb7b5-6fa2-4114-bfe1-482b639fc518' title='Show/Hide data repr'><svg class='icon xr-icon-database'><use xlink:href='#icon-database'></use></svg></label><div class='xr-var-attrs'><dl class='xr-attrs'><dt><span>axis :</span></dt><dd>X</dd><dt><span>long_name :</span></dt><dd>Longitude</dd><dt><span>standard_name :</span></dt><dd>longitude</dd><dt><span>units :</span></dt><dd>degrees_east</dd></dl></div><div class='xr-var-data'><pre>array([-158])</pre></div></li><li class='xr-var-item'><div class='xr-var-name'><span class='xr-has-index'>month</span></div><div class='xr-var-dims'>(month)</div><div class='xr-var-dtype'>int64</div><div class='xr-var-preview xr-preview'>-11 -10 -9 -8 -7 ... 20 21 22 23 24</div><input id='attrs-b5bf377b-8b1e-44a2-b7f9-9821d50853b5' class='xr-var-attrs-in' type='checkbox' disabled><label for='attrs-b5bf377b-8b1e-44a2-b7f9-9821d50853b5' title='Show/Hide attributes'><svg class='icon xr-icon-file-text2'><use xlink:href='#icon-file-text2'></use></svg></label><input id='data-be18e08c-07b7-4d2f-9af8-6dac64e2ecc0' class='xr-var-data-in' type='checkbox'><label for='data-be18e08c-07b7-4d2f-9af8-6dac64e2ecc0' title='Show/Hide data repr'><svg class='icon xr-icon-database'><use xlink:href='#icon-database'></use></svg></label><div class='xr-var-attrs'><dl class='xr-attrs'></dl></div><div class='xr-var-data'><pre>array([-11, -10,  -9,  -8,  -7,  -6,  -5,  -4,  -3,  -2,  -1,   0,   1,   2,\n",
       "         3,   4,   5,   6,   7,   8,   9,  10,  11,  12,  13,  14,  15,  16,\n",
       "        17,  18,  19,  20,  21,  22,  23,  24])</pre></div></li></ul></div></li><li class='xr-section-item'><input id='section-fb6d462c-d6fe-4867-8800-504949e30fde' class='xr-section-summary-in' type='checkbox'  checked><label for='section-fb6d462c-d6fe-4867-8800-504949e30fde' class='xr-section-summary' >Data variables: <span>(2)</span></label><div class='xr-section-inline-details'></div><div class='xr-section-details'><ul class='xr-var-list'><li class='xr-var-item'><div class='xr-var-name'><span>day</span></div><div class='xr-var-dims'>(month, latitude, longitude, layer)</div><div class='xr-var-dtype'>float64</div><div class='xr-var-preview xr-preview'>1.397 1.473 1.671 ... 1.719 1.528</div><input id='attrs-e597c3a6-0856-4fe3-989b-49c12edbfe7c' class='xr-var-attrs-in' type='checkbox' ><label for='attrs-e597c3a6-0856-4fe3-989b-49c12edbfe7c' title='Show/Hide attributes'><svg class='icon xr-icon-file-text2'><use xlink:href='#icon-file-text2'></use></svg></label><input id='data-d4c8de58-3109-451d-a8c7-4be5ef965262' class='xr-var-data-in' type='checkbox'><label for='data-d4c8de58-3109-451d-a8c7-4be5ef965262' title='Show/Hide data repr'><svg class='icon xr-icon-database'><use xlink:href='#icon-database'></use></svg></label><div class='xr-var-attrs'><dl class='xr-attrs'><dt><span>description :</span></dt><dd>Zooplankton carbon weight by cube meter of sea water during the day</dd><dt><span>units :</span></dt><dd>mg/m3</dd></dl></div><div class='xr-var-data'><pre>array([[[[1.39741176]]],\n",
       "\n",
       "\n",
       "       [[[1.47263193]]],\n",
       "\n",
       "\n",
       "       [[[1.67113065]]],\n",
       "\n",
       "\n",
       "       [[[1.92700065]]],\n",
       "\n",
       "\n",
       "       [[[2.01080433]]],\n",
       "\n",
       "\n",
       "       [[[2.083478  ]]],\n",
       "\n",
       "\n",
       "       [[[2.1951159 ]]],\n",
       "\n",
       "...\n",
       "\n",
       "       [[[2.083478  ]]],\n",
       "\n",
       "\n",
       "       [[[2.1951159 ]]],\n",
       "\n",
       "\n",
       "       [[[2.34508304]]],\n",
       "\n",
       "\n",
       "       [[[2.32331868]]],\n",
       "\n",
       "\n",
       "       [[[2.04404128]]],\n",
       "\n",
       "\n",
       "       [[[1.71878358]]],\n",
       "\n",
       "\n",
       "       [[[1.52839926]]]])</pre></div></li><li class='xr-var-item'><div class='xr-var-name'><span>night</span></div><div class='xr-var-dims'>(month, latitude, longitude, layer)</div><div class='xr-var-dtype'>float64</div><div class='xr-var-preview xr-preview'>2.237 2.552 2.728 ... 3.031 2.595</div><input id='attrs-95331dec-2e64-4719-9f4a-069c2a4acf39' class='xr-var-attrs-in' type='checkbox' ><label for='attrs-95331dec-2e64-4719-9f4a-069c2a4acf39' title='Show/Hide attributes'><svg class='icon xr-icon-file-text2'><use xlink:href='#icon-file-text2'></use></svg></label><input id='data-bf053751-ec75-4613-a25a-0a9e56a1ba8d' class='xr-var-data-in' type='checkbox'><label for='data-bf053751-ec75-4613-a25a-0a9e56a1ba8d' title='Show/Hide data repr'><svg class='icon xr-icon-database'><use xlink:href='#icon-database'></use></svg></label><div class='xr-var-attrs'><dl class='xr-attrs'><dt><span>description :</span></dt><dd>Zooplankton carbon weight by cube meter of sea water at night</dd><dt><span>units :</span></dt><dd>mg/m3</dd></dl></div><div class='xr-var-data'><pre>array([[[[2.23711992]]],\n",
       "\n",
       "\n",
       "       [[[2.55167207]]],\n",
       "\n",
       "\n",
       "       [[[2.72792017]]],\n",
       "\n",
       "\n",
       "       [[[3.1274618 ]]],\n",
       "\n",
       "\n",
       "       [[[3.02449493]]],\n",
       "\n",
       "\n",
       "       [[[3.11451182]]],\n",
       "\n",
       "\n",
       "       [[[3.41485379]]],\n",
       "\n",
       "...\n",
       "\n",
       "       [[[3.11451182]]],\n",
       "\n",
       "\n",
       "       [[[3.41485379]]],\n",
       "\n",
       "\n",
       "       [[[3.36435628]]],\n",
       "\n",
       "\n",
       "       [[[3.21446945]]],\n",
       "\n",
       "\n",
       "       [[[3.27566412]]],\n",
       "\n",
       "\n",
       "       [[[3.03129268]]],\n",
       "\n",
       "\n",
       "       [[[2.59485805]]]])</pre></div></li></ul></div></li><li class='xr-section-item'><input id='section-a0bf32fa-cab6-4dbc-a3de-d7179865f559' class='xr-section-summary-in' type='checkbox'  ><label for='section-a0bf32fa-cab6-4dbc-a3de-d7179865f559' class='xr-section-summary' >Indexes: <span>(4)</span></label><div class='xr-section-inline-details'></div><div class='xr-section-details'><ul class='xr-var-list'><li class='xr-var-item'><div class='xr-index-name'><div>latitude</div></div><div class='xr-index-preview'>PandasIndex</div><input type='checkbox' disabled/><label></label><input id='index-c0fe06fe-d92f-4b37-a160-60a623bb5f38' class='xr-index-data-in' type='checkbox'/><label for='index-c0fe06fe-d92f-4b37-a160-60a623bb5f38' title='Show/Hide index repr'><svg class='icon xr-icon-database'><use xlink:href='#icon-database'></use></svg></label><div class='xr-index-data'><pre>PandasIndex(Index([22.75], dtype=&#x27;float64&#x27;, name=&#x27;latitude&#x27;))</pre></div></li><li class='xr-var-item'><div class='xr-index-name'><div>layer</div></div><div class='xr-index-preview'>PandasIndex</div><input type='checkbox' disabled/><label></label><input id='index-5afa465d-3fe3-45c0-8964-3bdab5cf461a' class='xr-index-data-in' type='checkbox'/><label for='index-5afa465d-3fe3-45c0-8964-3bdab5cf461a' title='Show/Hide index repr'><svg class='icon xr-icon-database'><use xlink:href='#icon-database'></use></svg></label><div class='xr-index-data'><pre>PandasIndex(Index([0], dtype=&#x27;int64&#x27;, name=&#x27;layer&#x27;))</pre></div></li><li class='xr-var-item'><div class='xr-index-name'><div>longitude</div></div><div class='xr-index-preview'>PandasIndex</div><input type='checkbox' disabled/><label></label><input id='index-80ad857d-97ad-429f-9af9-ab254a3fea95' class='xr-index-data-in' type='checkbox'/><label for='index-80ad857d-97ad-429f-9af9-ab254a3fea95' title='Show/Hide index repr'><svg class='icon xr-icon-database'><use xlink:href='#icon-database'></use></svg></label><div class='xr-index-data'><pre>PandasIndex(Index([-158], dtype=&#x27;int64&#x27;, name=&#x27;longitude&#x27;))</pre></div></li><li class='xr-var-item'><div class='xr-index-name'><div>month</div></div><div class='xr-index-preview'>PandasIndex</div><input type='checkbox' disabled/><label></label><input id='index-0c360b9c-1944-4ca4-a25d-b46c6f96087b' class='xr-index-data-in' type='checkbox'/><label for='index-0c360b9c-1944-4ca4-a25d-b46c6f96087b' title='Show/Hide index repr'><svg class='icon xr-icon-database'><use xlink:href='#icon-database'></use></svg></label><div class='xr-index-data'><pre>PandasIndex(Index([-11, -10,  -9,  -8,  -7,  -6,  -5,  -4,  -3,  -2,  -1,   0,   1,   2,\n",
       "         3,   4,   5,   6,   7,   8,   9,  10,  11,  12,  13,  14,  15,  16,\n",
       "        17,  18,  19,  20,  21,  22,  23,  24],\n",
       "      dtype=&#x27;int64&#x27;, name=&#x27;month&#x27;))</pre></div></li></ul></div></li><li class='xr-section-item'><input id='section-9d7d9d69-0781-438a-a7f1-e371ab573dc7' class='xr-section-summary-in' type='checkbox' disabled ><label for='section-9d7d9d69-0781-438a-a7f1-e371ab573dc7' class='xr-section-summary'  title='Expand/collapse section'>Attributes: <span>(0)</span></label><div class='xr-section-inline-details'></div><div class='xr-section-details'><dl class='xr-attrs'></dl></div></li></ul></div></div>"
      ],
      "text/plain": [
       "<xarray.Dataset> Size: 888B\n",
       "Dimensions:    (month: 36, latitude: 1, longitude: 1, layer: 1)\n",
       "Coordinates:\n",
       "  * latitude   (latitude) float64 8B 22.75\n",
       "  * layer      (layer) int64 8B 0\n",
       "  * longitude  (longitude) int64 8B -158\n",
       "  * month      (month) int64 288B -11 -10 -9 -8 -7 -6 -5 ... 19 20 21 22 23 24\n",
       "Data variables:\n",
       "    day        (month, latitude, longitude, layer) float64 288B 1.397 ... 1.528\n",
       "    night      (month, latitude, longitude, layer) float64 288B 2.237 ... 2.595"
      ]
     },
     "execution_count": 11,
     "metadata": {},
     "output_type": "execute_result"
    }
   ],
   "source": [
    "grouped_data_less = grouped_data.assign_coords(month=grouped_data.month - 12)\n",
    "grouped_data_more = grouped_data.assign_coords(month=grouped_data.month + 12)\n",
    "\n",
    "gathered_data = xr.concat([grouped_data_less, grouped_data, grouped_data_more], dim=\"month\")\n",
    "gathered_data"
   ]
  },
  {
   "cell_type": "markdown",
   "metadata": {},
   "source": [
    "## Smooth\n"
   ]
  },
  {
   "cell_type": "code",
   "execution_count": 12,
   "metadata": {},
   "outputs": [
    {
     "data": {
      "application/vnd.plotly.v1+json": {
       "config": {
        "plotlyServerURL": "https://plot.ly"
       },
       "data": [
        {
         "mode": "lines",
         "name": "day",
         "type": "scatter",
         "x": [
          -11,
          -10,
          -9,
          -8,
          -7,
          -6,
          -5,
          -4,
          -3,
          -2,
          -1,
          0,
          1,
          2,
          3,
          4,
          5,
          6,
          7,
          8,
          9,
          10,
          11,
          12,
          13,
          14,
          15,
          16,
          17,
          18,
          19,
          20,
          21,
          22,
          23,
          24
         ],
         "xaxis": "x",
         "y": [
          1.3974117647599726,
          1.4726319288804461,
          1.6711306458019441,
          1.9270006510417081,
          2.0108043263170545,
          2.083477996000935,
          2.1951159021801545,
          2.345083042506672,
          2.323318682795895,
          2.044041282707298,
          1.7187835812038232,
          1.528399260428799,
          1.3974117647599726,
          1.4726319288804461,
          1.6711306458019441,
          1.9270006510417081,
          2.0108043263170545,
          2.083477996000935,
          2.1951159021801545,
          2.345083042506672,
          2.323318682795895,
          2.044041282707298,
          1.7187835812038232,
          1.528399260428799,
          1.3974117647599726,
          1.4726319288804461,
          1.6711306458019441,
          1.9270006510417081,
          2.0108043263170545,
          2.083477996000935,
          2.1951159021801545,
          2.345083042506672,
          2.323318682795895,
          2.044041282707298,
          1.7187835812038232,
          1.528399260428799
         ],
         "yaxis": "y"
        },
        {
         "mode": "lines",
         "name": "night",
         "type": "scatter",
         "x": [
          -11,
          -10,
          -9,
          -8,
          -7,
          -6,
          -5,
          -4,
          -3,
          -2,
          -1,
          0,
          1,
          2,
          3,
          4,
          5,
          6,
          7,
          8,
          9,
          10,
          11,
          12,
          13,
          14,
          15,
          16,
          17,
          18,
          19,
          20,
          21,
          22,
          23,
          24
         ],
         "xaxis": "x2",
         "y": [
          2.2371199165326328,
          2.5516720733774596,
          2.7279201721613155,
          3.1274618041004016,
          3.024494929942291,
          3.1145118215820355,
          3.41485378514031,
          3.364356281112992,
          3.214469446960891,
          3.275664115744544,
          3.0312926798937805,
          2.5948580486565356,
          2.2371199165326328,
          2.5516720733774596,
          2.7279201721613155,
          3.1274618041004016,
          3.024494929942291,
          3.1145118215820355,
          3.41485378514031,
          3.364356281112992,
          3.214469446960891,
          3.275664115744544,
          3.0312926798937805,
          2.5948580486565356,
          2.2371199165326328,
          2.5516720733774596,
          2.7279201721613155,
          3.1274618041004016,
          3.024494929942291,
          3.1145118215820355,
          3.41485378514031,
          3.364356281112992,
          3.214469446960891,
          3.275664115744544,
          3.0312926798937805,
          2.5948580486565356
         ],
         "yaxis": "y2"
        },
        {
         "mode": "lines",
         "name": "day lowess 0.15",
         "type": "scatter",
         "x": [
          -11,
          -10,
          -9,
          -8,
          -7,
          -6,
          -5,
          -4,
          -3,
          -2,
          -1,
          0,
          1,
          2,
          3,
          4,
          5,
          6,
          7,
          8,
          9,
          10,
          11,
          12,
          13,
          14,
          15,
          16,
          17,
          18,
          19,
          20,
          21,
          22,
          23,
          24
         ],
         "xaxis": "x",
         "y": [
          1.369381381519776,
          1.5227523760750934,
          1.6858886758978886,
          1.8722985764056468,
          2.007825223456305,
          2.0946613731289943,
          2.205645190322178,
          2.3033871075878696,
          2.227385335711763,
          2.0341453790873865,
          1.7596061214540786,
          1.5433336189458051,
          1.4654522730808732,
          1.5057180639412686,
          1.6863390125529922,
          1.8723106440453572,
          2.0078251615445457,
          2.0946613731289943,
          2.205645190322177,
          2.3033871075878705,
          2.227385335711763,
          2.0341453790873865,
          1.7596061214540784,
          1.5433336189458053,
          1.4654522730808732,
          1.5057180639412686,
          1.6863390125529913,
          1.872310644045357,
          2.007825161544546,
          2.0946613731289947,
          2.2056451903221777,
          2.3033881039585884,
          2.2273811165530666,
          2.03426021494057,
          1.7664844402567639,
          1.5077408285614116
         ],
         "yaxis": "y"
        },
        {
         "mode": "lines",
         "name": "night lowess 0.15",
         "type": "scatter",
         "x": [
          -11,
          -10,
          -9,
          -8,
          -7,
          -6,
          -5,
          -4,
          -3,
          -2,
          -1,
          0,
          1,
          2,
          3,
          4,
          5,
          6,
          7,
          8,
          9,
          10,
          11,
          12,
          13,
          14,
          15,
          16,
          17,
          18,
          19,
          20,
          21,
          22,
          23,
          24
         ],
         "xaxis": "x2",
         "y": [
          2.2497359999615063,
          2.5140792946280186,
          2.7852013992451385,
          2.9565321735321244,
          3.0733152296365094,
          3.173103184443234,
          3.3077116677095164,
          3.3373212293201053,
          3.2744650851824066,
          3.1851143053572164,
          2.9768612316955463,
          2.605374985677276,
          2.5375375172979826,
          2.5330978297259206,
          2.785320025146091,
          2.9565333537050154,
          3.0733149493920435,
          3.1731031844432347,
          3.3077116677095164,
          3.3373212293201053,
          3.274465085182407,
          3.185114305357216,
          2.9768612316955463,
          2.6053749856772757,
          2.537537517297982,
          2.5330978297259175,
          2.7853200251460906,
          2.9565333537050154,
          3.073314949392045,
          3.1731031844432342,
          3.307711667709517,
          3.33732193073246,
          3.2745479060843756,
          3.1871692686953135,
          2.9376921636157967,
          2.6632182415220784
         ],
         "yaxis": "y2"
        }
       ],
       "layout": {
        "annotations": [
         {
          "font": {
           "size": 16
          },
          "showarrow": false,
          "text": "Day",
          "x": 0.5,
          "xanchor": "center",
          "xref": "paper",
          "y": 1,
          "yanchor": "bottom",
          "yref": "paper"
         },
         {
          "font": {
           "size": 16
          },
          "showarrow": false,
          "text": "Night",
          "x": 0.5,
          "xanchor": "center",
          "xref": "paper",
          "y": 0.45,
          "yanchor": "bottom",
          "yref": "paper"
         },
         {
          "font": {
           "size": 16
          },
          "showarrow": false,
          "text": "month of year",
          "x": 0.5,
          "xanchor": "center",
          "xref": "paper",
          "y": 0,
          "yanchor": "top",
          "yref": "paper",
          "yshift": -30
         },
         {
          "font": {
           "size": 16
          },
          "showarrow": false,
          "text": "Zooplankton biomass (mg/m3)",
          "textangle": -90,
          "x": 0,
          "xanchor": "right",
          "xref": "paper",
          "xshift": -40,
          "y": 0.5,
          "yanchor": "middle",
          "yref": "paper"
         }
        ],
        "height": 800,
        "template": {
         "data": {
          "bar": [
           {
            "error_x": {
             "color": "#2a3f5f"
            },
            "error_y": {
             "color": "#2a3f5f"
            },
            "marker": {
             "line": {
              "color": "#E5ECF6",
              "width": 0.5
             },
             "pattern": {
              "fillmode": "overlay",
              "size": 10,
              "solidity": 0.2
             }
            },
            "type": "bar"
           }
          ],
          "barpolar": [
           {
            "marker": {
             "line": {
              "color": "#E5ECF6",
              "width": 0.5
             },
             "pattern": {
              "fillmode": "overlay",
              "size": 10,
              "solidity": 0.2
             }
            },
            "type": "barpolar"
           }
          ],
          "carpet": [
           {
            "aaxis": {
             "endlinecolor": "#2a3f5f",
             "gridcolor": "white",
             "linecolor": "white",
             "minorgridcolor": "white",
             "startlinecolor": "#2a3f5f"
            },
            "baxis": {
             "endlinecolor": "#2a3f5f",
             "gridcolor": "white",
             "linecolor": "white",
             "minorgridcolor": "white",
             "startlinecolor": "#2a3f5f"
            },
            "type": "carpet"
           }
          ],
          "choropleth": [
           {
            "colorbar": {
             "outlinewidth": 0,
             "ticks": ""
            },
            "type": "choropleth"
           }
          ],
          "contour": [
           {
            "colorbar": {
             "outlinewidth": 0,
             "ticks": ""
            },
            "colorscale": [
             [
              0,
              "#0d0887"
             ],
             [
              0.1111111111111111,
              "#46039f"
             ],
             [
              0.2222222222222222,
              "#7201a8"
             ],
             [
              0.3333333333333333,
              "#9c179e"
             ],
             [
              0.4444444444444444,
              "#bd3786"
             ],
             [
              0.5555555555555556,
              "#d8576b"
             ],
             [
              0.6666666666666666,
              "#ed7953"
             ],
             [
              0.7777777777777778,
              "#fb9f3a"
             ],
             [
              0.8888888888888888,
              "#fdca26"
             ],
             [
              1,
              "#f0f921"
             ]
            ],
            "type": "contour"
           }
          ],
          "contourcarpet": [
           {
            "colorbar": {
             "outlinewidth": 0,
             "ticks": ""
            },
            "type": "contourcarpet"
           }
          ],
          "heatmap": [
           {
            "colorbar": {
             "outlinewidth": 0,
             "ticks": ""
            },
            "colorscale": [
             [
              0,
              "#0d0887"
             ],
             [
              0.1111111111111111,
              "#46039f"
             ],
             [
              0.2222222222222222,
              "#7201a8"
             ],
             [
              0.3333333333333333,
              "#9c179e"
             ],
             [
              0.4444444444444444,
              "#bd3786"
             ],
             [
              0.5555555555555556,
              "#d8576b"
             ],
             [
              0.6666666666666666,
              "#ed7953"
             ],
             [
              0.7777777777777778,
              "#fb9f3a"
             ],
             [
              0.8888888888888888,
              "#fdca26"
             ],
             [
              1,
              "#f0f921"
             ]
            ],
            "type": "heatmap"
           }
          ],
          "heatmapgl": [
           {
            "colorbar": {
             "outlinewidth": 0,
             "ticks": ""
            },
            "colorscale": [
             [
              0,
              "#0d0887"
             ],
             [
              0.1111111111111111,
              "#46039f"
             ],
             [
              0.2222222222222222,
              "#7201a8"
             ],
             [
              0.3333333333333333,
              "#9c179e"
             ],
             [
              0.4444444444444444,
              "#bd3786"
             ],
             [
              0.5555555555555556,
              "#d8576b"
             ],
             [
              0.6666666666666666,
              "#ed7953"
             ],
             [
              0.7777777777777778,
              "#fb9f3a"
             ],
             [
              0.8888888888888888,
              "#fdca26"
             ],
             [
              1,
              "#f0f921"
             ]
            ],
            "type": "heatmapgl"
           }
          ],
          "histogram": [
           {
            "marker": {
             "pattern": {
              "fillmode": "overlay",
              "size": 10,
              "solidity": 0.2
             }
            },
            "type": "histogram"
           }
          ],
          "histogram2d": [
           {
            "colorbar": {
             "outlinewidth": 0,
             "ticks": ""
            },
            "colorscale": [
             [
              0,
              "#0d0887"
             ],
             [
              0.1111111111111111,
              "#46039f"
             ],
             [
              0.2222222222222222,
              "#7201a8"
             ],
             [
              0.3333333333333333,
              "#9c179e"
             ],
             [
              0.4444444444444444,
              "#bd3786"
             ],
             [
              0.5555555555555556,
              "#d8576b"
             ],
             [
              0.6666666666666666,
              "#ed7953"
             ],
             [
              0.7777777777777778,
              "#fb9f3a"
             ],
             [
              0.8888888888888888,
              "#fdca26"
             ],
             [
              1,
              "#f0f921"
             ]
            ],
            "type": "histogram2d"
           }
          ],
          "histogram2dcontour": [
           {
            "colorbar": {
             "outlinewidth": 0,
             "ticks": ""
            },
            "colorscale": [
             [
              0,
              "#0d0887"
             ],
             [
              0.1111111111111111,
              "#46039f"
             ],
             [
              0.2222222222222222,
              "#7201a8"
             ],
             [
              0.3333333333333333,
              "#9c179e"
             ],
             [
              0.4444444444444444,
              "#bd3786"
             ],
             [
              0.5555555555555556,
              "#d8576b"
             ],
             [
              0.6666666666666666,
              "#ed7953"
             ],
             [
              0.7777777777777778,
              "#fb9f3a"
             ],
             [
              0.8888888888888888,
              "#fdca26"
             ],
             [
              1,
              "#f0f921"
             ]
            ],
            "type": "histogram2dcontour"
           }
          ],
          "mesh3d": [
           {
            "colorbar": {
             "outlinewidth": 0,
             "ticks": ""
            },
            "type": "mesh3d"
           }
          ],
          "parcoords": [
           {
            "line": {
             "colorbar": {
              "outlinewidth": 0,
              "ticks": ""
             }
            },
            "type": "parcoords"
           }
          ],
          "pie": [
           {
            "automargin": true,
            "type": "pie"
           }
          ],
          "scatter": [
           {
            "fillpattern": {
             "fillmode": "overlay",
             "size": 10,
             "solidity": 0.2
            },
            "type": "scatter"
           }
          ],
          "scatter3d": [
           {
            "line": {
             "colorbar": {
              "outlinewidth": 0,
              "ticks": ""
             }
            },
            "marker": {
             "colorbar": {
              "outlinewidth": 0,
              "ticks": ""
             }
            },
            "type": "scatter3d"
           }
          ],
          "scattercarpet": [
           {
            "marker": {
             "colorbar": {
              "outlinewidth": 0,
              "ticks": ""
             }
            },
            "type": "scattercarpet"
           }
          ],
          "scattergeo": [
           {
            "marker": {
             "colorbar": {
              "outlinewidth": 0,
              "ticks": ""
             }
            },
            "type": "scattergeo"
           }
          ],
          "scattergl": [
           {
            "marker": {
             "colorbar": {
              "outlinewidth": 0,
              "ticks": ""
             }
            },
            "type": "scattergl"
           }
          ],
          "scattermapbox": [
           {
            "marker": {
             "colorbar": {
              "outlinewidth": 0,
              "ticks": ""
             }
            },
            "type": "scattermapbox"
           }
          ],
          "scatterpolar": [
           {
            "marker": {
             "colorbar": {
              "outlinewidth": 0,
              "ticks": ""
             }
            },
            "type": "scatterpolar"
           }
          ],
          "scatterpolargl": [
           {
            "marker": {
             "colorbar": {
              "outlinewidth": 0,
              "ticks": ""
             }
            },
            "type": "scatterpolargl"
           }
          ],
          "scatterternary": [
           {
            "marker": {
             "colorbar": {
              "outlinewidth": 0,
              "ticks": ""
             }
            },
            "type": "scatterternary"
           }
          ],
          "surface": [
           {
            "colorbar": {
             "outlinewidth": 0,
             "ticks": ""
            },
            "colorscale": [
             [
              0,
              "#0d0887"
             ],
             [
              0.1111111111111111,
              "#46039f"
             ],
             [
              0.2222222222222222,
              "#7201a8"
             ],
             [
              0.3333333333333333,
              "#9c179e"
             ],
             [
              0.4444444444444444,
              "#bd3786"
             ],
             [
              0.5555555555555556,
              "#d8576b"
             ],
             [
              0.6666666666666666,
              "#ed7953"
             ],
             [
              0.7777777777777778,
              "#fb9f3a"
             ],
             [
              0.8888888888888888,
              "#fdca26"
             ],
             [
              1,
              "#f0f921"
             ]
            ],
            "type": "surface"
           }
          ],
          "table": [
           {
            "cells": {
             "fill": {
              "color": "#EBF0F8"
             },
             "line": {
              "color": "white"
             }
            },
            "header": {
             "fill": {
              "color": "#C8D4E3"
             },
             "line": {
              "color": "white"
             }
            },
            "type": "table"
           }
          ]
         },
         "layout": {
          "annotationdefaults": {
           "arrowcolor": "#2a3f5f",
           "arrowhead": 0,
           "arrowwidth": 1
          },
          "autotypenumbers": "strict",
          "coloraxis": {
           "colorbar": {
            "outlinewidth": 0,
            "ticks": ""
           }
          },
          "colorscale": {
           "diverging": [
            [
             0,
             "#8e0152"
            ],
            [
             0.1,
             "#c51b7d"
            ],
            [
             0.2,
             "#de77ae"
            ],
            [
             0.3,
             "#f1b6da"
            ],
            [
             0.4,
             "#fde0ef"
            ],
            [
             0.5,
             "#f7f7f7"
            ],
            [
             0.6,
             "#e6f5d0"
            ],
            [
             0.7,
             "#b8e186"
            ],
            [
             0.8,
             "#7fbc41"
            ],
            [
             0.9,
             "#4d9221"
            ],
            [
             1,
             "#276419"
            ]
           ],
           "sequential": [
            [
             0,
             "#0d0887"
            ],
            [
             0.1111111111111111,
             "#46039f"
            ],
            [
             0.2222222222222222,
             "#7201a8"
            ],
            [
             0.3333333333333333,
             "#9c179e"
            ],
            [
             0.4444444444444444,
             "#bd3786"
            ],
            [
             0.5555555555555556,
             "#d8576b"
            ],
            [
             0.6666666666666666,
             "#ed7953"
            ],
            [
             0.7777777777777778,
             "#fb9f3a"
            ],
            [
             0.8888888888888888,
             "#fdca26"
            ],
            [
             1,
             "#f0f921"
            ]
           ],
           "sequentialminus": [
            [
             0,
             "#0d0887"
            ],
            [
             0.1111111111111111,
             "#46039f"
            ],
            [
             0.2222222222222222,
             "#7201a8"
            ],
            [
             0.3333333333333333,
             "#9c179e"
            ],
            [
             0.4444444444444444,
             "#bd3786"
            ],
            [
             0.5555555555555556,
             "#d8576b"
            ],
            [
             0.6666666666666666,
             "#ed7953"
            ],
            [
             0.7777777777777778,
             "#fb9f3a"
            ],
            [
             0.8888888888888888,
             "#fdca26"
            ],
            [
             1,
             "#f0f921"
            ]
           ]
          },
          "colorway": [
           "#636efa",
           "#EF553B",
           "#00cc96",
           "#ab63fa",
           "#FFA15A",
           "#19d3f3",
           "#FF6692",
           "#B6E880",
           "#FF97FF",
           "#FECB52"
          ],
          "font": {
           "color": "#2a3f5f"
          },
          "geo": {
           "bgcolor": "white",
           "lakecolor": "white",
           "landcolor": "#E5ECF6",
           "showlakes": true,
           "showland": true,
           "subunitcolor": "white"
          },
          "hoverlabel": {
           "align": "left"
          },
          "hovermode": "closest",
          "mapbox": {
           "style": "light"
          },
          "paper_bgcolor": "white",
          "plot_bgcolor": "#E5ECF6",
          "polar": {
           "angularaxis": {
            "gridcolor": "white",
            "linecolor": "white",
            "ticks": ""
           },
           "bgcolor": "#E5ECF6",
           "radialaxis": {
            "gridcolor": "white",
            "linecolor": "white",
            "ticks": ""
           }
          },
          "scene": {
           "xaxis": {
            "backgroundcolor": "#E5ECF6",
            "gridcolor": "white",
            "gridwidth": 2,
            "linecolor": "white",
            "showbackground": true,
            "ticks": "",
            "zerolinecolor": "white"
           },
           "yaxis": {
            "backgroundcolor": "#E5ECF6",
            "gridcolor": "white",
            "gridwidth": 2,
            "linecolor": "white",
            "showbackground": true,
            "ticks": "",
            "zerolinecolor": "white"
           },
           "zaxis": {
            "backgroundcolor": "#E5ECF6",
            "gridcolor": "white",
            "gridwidth": 2,
            "linecolor": "white",
            "showbackground": true,
            "ticks": "",
            "zerolinecolor": "white"
           }
          },
          "shapedefaults": {
           "line": {
            "color": "#2a3f5f"
           }
          },
          "ternary": {
           "aaxis": {
            "gridcolor": "white",
            "linecolor": "white",
            "ticks": ""
           },
           "baxis": {
            "gridcolor": "white",
            "linecolor": "white",
            "ticks": ""
           },
           "bgcolor": "#E5ECF6",
           "caxis": {
            "gridcolor": "white",
            "linecolor": "white",
            "ticks": ""
           }
          },
          "title": {
           "x": 0.05
          },
          "xaxis": {
           "automargin": true,
           "gridcolor": "white",
           "linecolor": "white",
           "ticks": "",
           "title": {
            "standoff": 15
           },
           "zerolinecolor": "white",
           "zerolinewidth": 2
          },
          "yaxis": {
           "automargin": true,
           "gridcolor": "white",
           "linecolor": "white",
           "ticks": "",
           "title": {
            "standoff": 15
           },
           "zerolinecolor": "white",
           "zerolinewidth": 2
          }
         }
        },
        "title": {
         "text": "Day and night zooplankton observations at Hot"
        },
        "xaxis": {
         "anchor": "y",
         "domain": [
          0,
          1
         ],
         "matches": "x2",
         "showticklabels": false
        },
        "xaxis2": {
         "anchor": "y2",
         "domain": [
          0,
          1
         ]
        },
        "yaxis": {
         "anchor": "x",
         "domain": [
          0.55,
          1
         ]
        },
        "yaxis2": {
         "anchor": "x2",
         "domain": [
          0,
          0.45
         ]
        }
       }
      }
     },
     "metadata": {},
     "output_type": "display_data"
    }
   ],
   "source": [
    "fig = make_subplots(\n",
    "    rows=2,\n",
    "    cols=1,\n",
    "    shared_xaxes=True,\n",
    "    subplot_titles=(\"Day\", \"Night\"),\n",
    "    vertical_spacing=0.1,\n",
    "    x_title=\"month of year\",\n",
    "    y_title=\"Zooplankton biomass (mg/m3)\",\n",
    ")\n",
    "fig.add_trace(\n",
    "    go.Scatter(x=gathered_data.month.data.flatten(), y=gathered_data.day.data.flatten(), mode=\"lines\", name=\"day\"),\n",
    "    row=1,\n",
    "    col=1,\n",
    ")\n",
    "fig.add_trace(\n",
    "    go.Scatter(x=gathered_data.month.data.flatten(), y=gathered_data.night.data.flatten(), mode=\"lines\", name=\"night\"),\n",
    "    row=2,\n",
    "    col=1,\n",
    ")\n",
    "for frac in [0.15]:\n",
    "    lowess_day = lowess(gathered_data.day.data.flatten(), gathered_data.month.data.flatten(), frac=frac)\n",
    "    fig.add_trace(\n",
    "        go.Scatter(x=lowess_day[:, 0], y=lowess_day[:, 1], mode=\"lines\", name=f\"day lowess {frac}\"),\n",
    "        row=1,\n",
    "        col=1,\n",
    "    )\n",
    "\n",
    "    lowess_night = lowess(gathered_data.night.data.flatten(), gathered_data.month.data.flatten(), frac=frac)\n",
    "    fig.add_trace(\n",
    "        go.Scatter(x=lowess_night[:, 0], y=lowess_night[:, 1], mode=\"lines\", name=f\"night lowess {frac}\"),\n",
    "        row=2,\n",
    "        col=1,\n",
    "    )\n",
    "    gathered_data[f\"day_lowess_{frac}\"] = xr.DataArray(\n",
    "        lowess_day[:, 1],\n",
    "        dims=[\"month\"],\n",
    "        coords={\"month\": lowess_day[:, 0]},\n",
    "        attrs={\"frac\": frac, \"units\": \"mg/m3\"},\n",
    "    )\n",
    "    gathered_data[f\"night_lowess_{frac}\"] = xr.DataArray(\n",
    "        lowess_night[:, 1],\n",
    "        dims=[\"month\"],\n",
    "        coords={\"month\": lowess_night[:, 0]},\n",
    "        attrs={\"frac\": frac, \"units\": \"mg/m3\"},\n",
    "    )\n",
    "\n",
    "fig.update_layout(\n",
    "    title=f\"Day and night zooplankton observations at {station}\",\n",
    "    height=800,\n",
    ")\n",
    "\n",
    "fig.show()"
   ]
  },
  {
   "cell_type": "code",
   "execution_count": 13,
   "metadata": {},
   "outputs": [
    {
     "data": {
      "text/html": [
       "<div><svg style=\"position: absolute; width: 0; height: 0; overflow: hidden\">\n",
       "<defs>\n",
       "<symbol id=\"icon-database\" viewBox=\"0 0 32 32\">\n",
       "<path d=\"M16 0c-8.837 0-16 2.239-16 5v4c0 2.761 7.163 5 16 5s16-2.239 16-5v-4c0-2.761-7.163-5-16-5z\"></path>\n",
       "<path d=\"M16 17c-8.837 0-16-2.239-16-5v6c0 2.761 7.163 5 16 5s16-2.239 16-5v-6c0 2.761-7.163 5-16 5z\"></path>\n",
       "<path d=\"M16 26c-8.837 0-16-2.239-16-5v6c0 2.761 7.163 5 16 5s16-2.239 16-5v-6c0 2.761-7.163 5-16 5z\"></path>\n",
       "</symbol>\n",
       "<symbol id=\"icon-file-text2\" viewBox=\"0 0 32 32\">\n",
       "<path d=\"M28.681 7.159c-0.694-0.947-1.662-2.053-2.724-3.116s-2.169-2.030-3.116-2.724c-1.612-1.182-2.393-1.319-2.841-1.319h-15.5c-1.378 0-2.5 1.121-2.5 2.5v27c0 1.378 1.122 2.5 2.5 2.5h23c1.378 0 2.5-1.122 2.5-2.5v-19.5c0-0.448-0.137-1.23-1.319-2.841zM24.543 5.457c0.959 0.959 1.712 1.825 2.268 2.543h-4.811v-4.811c0.718 0.556 1.584 1.309 2.543 2.268zM28 29.5c0 0.271-0.229 0.5-0.5 0.5h-23c-0.271 0-0.5-0.229-0.5-0.5v-27c0-0.271 0.229-0.5 0.5-0.5 0 0 15.499-0 15.5 0v7c0 0.552 0.448 1 1 1h7v19.5z\"></path>\n",
       "<path d=\"M23 26h-14c-0.552 0-1-0.448-1-1s0.448-1 1-1h14c0.552 0 1 0.448 1 1s-0.448 1-1 1z\"></path>\n",
       "<path d=\"M23 22h-14c-0.552 0-1-0.448-1-1s0.448-1 1-1h14c0.552 0 1 0.448 1 1s-0.448 1-1 1z\"></path>\n",
       "<path d=\"M23 18h-14c-0.552 0-1-0.448-1-1s0.448-1 1-1h14c0.552 0 1 0.448 1 1s-0.448 1-1 1z\"></path>\n",
       "</symbol>\n",
       "</defs>\n",
       "</svg>\n",
       "<style>/* CSS stylesheet for displaying xarray objects in jupyterlab.\n",
       " *\n",
       " */\n",
       "\n",
       ":root {\n",
       "  --xr-font-color0: var(--jp-content-font-color0, rgba(0, 0, 0, 1));\n",
       "  --xr-font-color2: var(--jp-content-font-color2, rgba(0, 0, 0, 0.54));\n",
       "  --xr-font-color3: var(--jp-content-font-color3, rgba(0, 0, 0, 0.38));\n",
       "  --xr-border-color: var(--jp-border-color2, #e0e0e0);\n",
       "  --xr-disabled-color: var(--jp-layout-color3, #bdbdbd);\n",
       "  --xr-background-color: var(--jp-layout-color0, white);\n",
       "  --xr-background-color-row-even: var(--jp-layout-color1, white);\n",
       "  --xr-background-color-row-odd: var(--jp-layout-color2, #eeeeee);\n",
       "}\n",
       "\n",
       "html[theme=\"dark\"],\n",
       "html[data-theme=\"dark\"],\n",
       "body[data-theme=\"dark\"],\n",
       "body.vscode-dark {\n",
       "  --xr-font-color0: rgba(255, 255, 255, 1);\n",
       "  --xr-font-color2: rgba(255, 255, 255, 0.54);\n",
       "  --xr-font-color3: rgba(255, 255, 255, 0.38);\n",
       "  --xr-border-color: #1f1f1f;\n",
       "  --xr-disabled-color: #515151;\n",
       "  --xr-background-color: #111111;\n",
       "  --xr-background-color-row-even: #111111;\n",
       "  --xr-background-color-row-odd: #313131;\n",
       "}\n",
       "\n",
       ".xr-wrap {\n",
       "  display: block !important;\n",
       "  min-width: 300px;\n",
       "  max-width: 700px;\n",
       "}\n",
       "\n",
       ".xr-text-repr-fallback {\n",
       "  /* fallback to plain text repr when CSS is not injected (untrusted notebook) */\n",
       "  display: none;\n",
       "}\n",
       "\n",
       ".xr-header {\n",
       "  padding-top: 6px;\n",
       "  padding-bottom: 6px;\n",
       "  margin-bottom: 4px;\n",
       "  border-bottom: solid 1px var(--xr-border-color);\n",
       "}\n",
       "\n",
       ".xr-header > div,\n",
       ".xr-header > ul {\n",
       "  display: inline;\n",
       "  margin-top: 0;\n",
       "  margin-bottom: 0;\n",
       "}\n",
       "\n",
       ".xr-obj-type,\n",
       ".xr-array-name {\n",
       "  margin-left: 2px;\n",
       "  margin-right: 10px;\n",
       "}\n",
       "\n",
       ".xr-obj-type {\n",
       "  color: var(--xr-font-color2);\n",
       "}\n",
       "\n",
       ".xr-sections {\n",
       "  padding-left: 0 !important;\n",
       "  display: grid;\n",
       "  grid-template-columns: 150px auto auto 1fr 0 20px 0 20px;\n",
       "}\n",
       "\n",
       ".xr-section-item {\n",
       "  display: contents;\n",
       "}\n",
       "\n",
       ".xr-section-item input {\n",
       "  display: inline-block;\n",
       "  opacity: 0;\n",
       "  height: 0;\n",
       "}\n",
       "\n",
       ".xr-section-item input + label {\n",
       "  color: var(--xr-disabled-color);\n",
       "}\n",
       "\n",
       ".xr-section-item input:enabled + label {\n",
       "  cursor: pointer;\n",
       "  color: var(--xr-font-color2);\n",
       "}\n",
       "\n",
       ".xr-section-item input:focus + label {\n",
       "  border: 2px solid var(--xr-font-color0);\n",
       "}\n",
       "\n",
       ".xr-section-item input:enabled + label:hover {\n",
       "  color: var(--xr-font-color0);\n",
       "}\n",
       "\n",
       ".xr-section-summary {\n",
       "  grid-column: 1;\n",
       "  color: var(--xr-font-color2);\n",
       "  font-weight: 500;\n",
       "}\n",
       "\n",
       ".xr-section-summary > span {\n",
       "  display: inline-block;\n",
       "  padding-left: 0.5em;\n",
       "}\n",
       "\n",
       ".xr-section-summary-in:disabled + label {\n",
       "  color: var(--xr-font-color2);\n",
       "}\n",
       "\n",
       ".xr-section-summary-in + label:before {\n",
       "  display: inline-block;\n",
       "  content: \"►\";\n",
       "  font-size: 11px;\n",
       "  width: 15px;\n",
       "  text-align: center;\n",
       "}\n",
       "\n",
       ".xr-section-summary-in:disabled + label:before {\n",
       "  color: var(--xr-disabled-color);\n",
       "}\n",
       "\n",
       ".xr-section-summary-in:checked + label:before {\n",
       "  content: \"▼\";\n",
       "}\n",
       "\n",
       ".xr-section-summary-in:checked + label > span {\n",
       "  display: none;\n",
       "}\n",
       "\n",
       ".xr-section-summary,\n",
       ".xr-section-inline-details {\n",
       "  padding-top: 4px;\n",
       "  padding-bottom: 4px;\n",
       "}\n",
       "\n",
       ".xr-section-inline-details {\n",
       "  grid-column: 2 / -1;\n",
       "}\n",
       "\n",
       ".xr-section-details {\n",
       "  display: none;\n",
       "  grid-column: 1 / -1;\n",
       "  margin-bottom: 5px;\n",
       "}\n",
       "\n",
       ".xr-section-summary-in:checked ~ .xr-section-details {\n",
       "  display: contents;\n",
       "}\n",
       "\n",
       ".xr-array-wrap {\n",
       "  grid-column: 1 / -1;\n",
       "  display: grid;\n",
       "  grid-template-columns: 20px auto;\n",
       "}\n",
       "\n",
       ".xr-array-wrap > label {\n",
       "  grid-column: 1;\n",
       "  vertical-align: top;\n",
       "}\n",
       "\n",
       ".xr-preview {\n",
       "  color: var(--xr-font-color3);\n",
       "}\n",
       "\n",
       ".xr-array-preview,\n",
       ".xr-array-data {\n",
       "  padding: 0 5px !important;\n",
       "  grid-column: 2;\n",
       "}\n",
       "\n",
       ".xr-array-data,\n",
       ".xr-array-in:checked ~ .xr-array-preview {\n",
       "  display: none;\n",
       "}\n",
       "\n",
       ".xr-array-in:checked ~ .xr-array-data,\n",
       ".xr-array-preview {\n",
       "  display: inline-block;\n",
       "}\n",
       "\n",
       ".xr-dim-list {\n",
       "  display: inline-block !important;\n",
       "  list-style: none;\n",
       "  padding: 0 !important;\n",
       "  margin: 0;\n",
       "}\n",
       "\n",
       ".xr-dim-list li {\n",
       "  display: inline-block;\n",
       "  padding: 0;\n",
       "  margin: 0;\n",
       "}\n",
       "\n",
       ".xr-dim-list:before {\n",
       "  content: \"(\";\n",
       "}\n",
       "\n",
       ".xr-dim-list:after {\n",
       "  content: \")\";\n",
       "}\n",
       "\n",
       ".xr-dim-list li:not(:last-child):after {\n",
       "  content: \",\";\n",
       "  padding-right: 5px;\n",
       "}\n",
       "\n",
       ".xr-has-index {\n",
       "  font-weight: bold;\n",
       "}\n",
       "\n",
       ".xr-var-list,\n",
       ".xr-var-item {\n",
       "  display: contents;\n",
       "}\n",
       "\n",
       ".xr-var-item > div,\n",
       ".xr-var-item label,\n",
       ".xr-var-item > .xr-var-name span {\n",
       "  background-color: var(--xr-background-color-row-even);\n",
       "  margin-bottom: 0;\n",
       "}\n",
       "\n",
       ".xr-var-item > .xr-var-name:hover span {\n",
       "  padding-right: 5px;\n",
       "}\n",
       "\n",
       ".xr-var-list > li:nth-child(odd) > div,\n",
       ".xr-var-list > li:nth-child(odd) > label,\n",
       ".xr-var-list > li:nth-child(odd) > .xr-var-name span {\n",
       "  background-color: var(--xr-background-color-row-odd);\n",
       "}\n",
       "\n",
       ".xr-var-name {\n",
       "  grid-column: 1;\n",
       "}\n",
       "\n",
       ".xr-var-dims {\n",
       "  grid-column: 2;\n",
       "}\n",
       "\n",
       ".xr-var-dtype {\n",
       "  grid-column: 3;\n",
       "  text-align: right;\n",
       "  color: var(--xr-font-color2);\n",
       "}\n",
       "\n",
       ".xr-var-preview {\n",
       "  grid-column: 4;\n",
       "}\n",
       "\n",
       ".xr-index-preview {\n",
       "  grid-column: 2 / 5;\n",
       "  color: var(--xr-font-color2);\n",
       "}\n",
       "\n",
       ".xr-var-name,\n",
       ".xr-var-dims,\n",
       ".xr-var-dtype,\n",
       ".xr-preview,\n",
       ".xr-attrs dt {\n",
       "  white-space: nowrap;\n",
       "  overflow: hidden;\n",
       "  text-overflow: ellipsis;\n",
       "  padding-right: 10px;\n",
       "}\n",
       "\n",
       ".xr-var-name:hover,\n",
       ".xr-var-dims:hover,\n",
       ".xr-var-dtype:hover,\n",
       ".xr-attrs dt:hover {\n",
       "  overflow: visible;\n",
       "  width: auto;\n",
       "  z-index: 1;\n",
       "}\n",
       "\n",
       ".xr-var-attrs,\n",
       ".xr-var-data,\n",
       ".xr-index-data {\n",
       "  display: none;\n",
       "  background-color: var(--xr-background-color) !important;\n",
       "  padding-bottom: 5px !important;\n",
       "}\n",
       "\n",
       ".xr-var-attrs-in:checked ~ .xr-var-attrs,\n",
       ".xr-var-data-in:checked ~ .xr-var-data,\n",
       ".xr-index-data-in:checked ~ .xr-index-data {\n",
       "  display: block;\n",
       "}\n",
       "\n",
       ".xr-var-data > table {\n",
       "  float: right;\n",
       "}\n",
       "\n",
       ".xr-var-name span,\n",
       ".xr-var-data,\n",
       ".xr-index-name div,\n",
       ".xr-index-data,\n",
       ".xr-attrs {\n",
       "  padding-left: 25px !important;\n",
       "}\n",
       "\n",
       ".xr-attrs,\n",
       ".xr-var-attrs,\n",
       ".xr-var-data,\n",
       ".xr-index-data {\n",
       "  grid-column: 1 / -1;\n",
       "}\n",
       "\n",
       "dl.xr-attrs {\n",
       "  padding: 0;\n",
       "  margin: 0;\n",
       "  display: grid;\n",
       "  grid-template-columns: 125px auto;\n",
       "}\n",
       "\n",
       ".xr-attrs dt,\n",
       ".xr-attrs dd {\n",
       "  padding: 0;\n",
       "  margin: 0;\n",
       "  float: left;\n",
       "  padding-right: 10px;\n",
       "  width: auto;\n",
       "}\n",
       "\n",
       ".xr-attrs dt {\n",
       "  font-weight: normal;\n",
       "  grid-column: 1;\n",
       "}\n",
       "\n",
       ".xr-attrs dt:hover span {\n",
       "  display: inline-block;\n",
       "  background: var(--xr-background-color);\n",
       "  padding-right: 10px;\n",
       "}\n",
       "\n",
       ".xr-attrs dd {\n",
       "  grid-column: 2;\n",
       "  white-space: pre-wrap;\n",
       "  word-break: break-all;\n",
       "}\n",
       "\n",
       ".xr-icon-database,\n",
       ".xr-icon-file-text2,\n",
       ".xr-no-icon {\n",
       "  display: inline-block;\n",
       "  vertical-align: middle;\n",
       "  width: 1em;\n",
       "  height: 1.5em !important;\n",
       "  stroke-width: 0;\n",
       "  stroke: currentColor;\n",
       "  fill: currentColor;\n",
       "}\n",
       "</style><pre class='xr-text-repr-fallback'>&lt;xarray.Dataset&gt; Size: 504B\n",
       "Dimensions:            (month: 12, latitude: 1, longitude: 1, layer: 1)\n",
       "Coordinates:\n",
       "  * latitude           (latitude) float64 8B 22.75\n",
       "  * layer              (layer) int64 8B 0\n",
       "  * longitude          (longitude) int64 8B -158\n",
       "  * month              (month) float64 96B 1.0 2.0 3.0 4.0 ... 10.0 11.0 12.0\n",
       "Data variables:\n",
       "    day                (month, latitude, longitude, layer) float64 96B 1.397 ...\n",
       "    night              (month, latitude, longitude, layer) float64 96B 2.237 ...\n",
       "    day_lowess_0.15    (month) float64 96B 1.465 1.506 1.686 ... 1.76 1.543\n",
       "    night_lowess_0.15  (month) float64 96B 2.538 2.533 2.785 ... 2.977 2.605</pre><div class='xr-wrap' style='display:none'><div class='xr-header'><div class='xr-obj-type'>xarray.Dataset</div></div><ul class='xr-sections'><li class='xr-section-item'><input id='section-b4aae9cb-a2c8-46d0-ae14-1447c01a59cf' class='xr-section-summary-in' type='checkbox' disabled ><label for='section-b4aae9cb-a2c8-46d0-ae14-1447c01a59cf' class='xr-section-summary'  title='Expand/collapse section'>Dimensions:</label><div class='xr-section-inline-details'><ul class='xr-dim-list'><li><span class='xr-has-index'>month</span>: 12</li><li><span class='xr-has-index'>latitude</span>: 1</li><li><span class='xr-has-index'>longitude</span>: 1</li><li><span class='xr-has-index'>layer</span>: 1</li></ul></div><div class='xr-section-details'></div></li><li class='xr-section-item'><input id='section-b06c8a2e-d9ed-488d-a49f-5ed7ca876118' class='xr-section-summary-in' type='checkbox'  checked><label for='section-b06c8a2e-d9ed-488d-a49f-5ed7ca876118' class='xr-section-summary' >Coordinates: <span>(4)</span></label><div class='xr-section-inline-details'></div><div class='xr-section-details'><ul class='xr-var-list'><li class='xr-var-item'><div class='xr-var-name'><span class='xr-has-index'>latitude</span></div><div class='xr-var-dims'>(latitude)</div><div class='xr-var-dtype'>float64</div><div class='xr-var-preview xr-preview'>22.75</div><input id='attrs-4d32f471-9c2d-449a-8acc-ad91a1c5521a' class='xr-var-attrs-in' type='checkbox' ><label for='attrs-4d32f471-9c2d-449a-8acc-ad91a1c5521a' title='Show/Hide attributes'><svg class='icon xr-icon-file-text2'><use xlink:href='#icon-file-text2'></use></svg></label><input id='data-c4aa0ece-9577-4b1c-aed0-8651ba88edb1' class='xr-var-data-in' type='checkbox'><label for='data-c4aa0ece-9577-4b1c-aed0-8651ba88edb1' title='Show/Hide data repr'><svg class='icon xr-icon-database'><use xlink:href='#icon-database'></use></svg></label><div class='xr-var-attrs'><dl class='xr-attrs'><dt><span>axis :</span></dt><dd>Y</dd><dt><span>long_name :</span></dt><dd>Latitude</dd><dt><span>standard_name :</span></dt><dd>latitude</dd><dt><span>units :</span></dt><dd>degrees_north</dd></dl></div><div class='xr-var-data'><pre>array([22.75])</pre></div></li><li class='xr-var-item'><div class='xr-var-name'><span class='xr-has-index'>layer</span></div><div class='xr-var-dims'>(layer)</div><div class='xr-var-dtype'>int64</div><div class='xr-var-preview xr-preview'>0</div><input id='attrs-3d3c0219-4ba0-4175-b375-f142ca469e5c' class='xr-var-attrs-in' type='checkbox' ><label for='attrs-3d3c0219-4ba0-4175-b375-f142ca469e5c' title='Show/Hide attributes'><svg class='icon xr-icon-file-text2'><use xlink:href='#icon-file-text2'></use></svg></label><input id='data-3700be24-4f2d-412e-9322-0ca282f2c096' class='xr-var-data-in' type='checkbox'><label for='data-3700be24-4f2d-412e-9322-0ca282f2c096' title='Show/Hide data repr'><svg class='icon xr-icon-database'><use xlink:href='#icon-database'></use></svg></label><div class='xr-var-attrs'><dl class='xr-attrs'><dt><span>axis :</span></dt><dd>Z</dd><dt><span>desc :</span></dt><dd>The layer depth according to Seapodym definition</dd><dt><span>flag_meanings :</span></dt><dd>epipelagic, upper-mesopelagic, lower-mesopelagic</dd><dt><span>flag_values :</span></dt><dd>[0, 1, 2]</dd><dt><span>long_name :</span></dt><dd>Layer depth</dd><dt><span>standard_name :</span></dt><dd>layer</dd></dl></div><div class='xr-var-data'><pre>array([0])</pre></div></li><li class='xr-var-item'><div class='xr-var-name'><span class='xr-has-index'>longitude</span></div><div class='xr-var-dims'>(longitude)</div><div class='xr-var-dtype'>int64</div><div class='xr-var-preview xr-preview'>-158</div><input id='attrs-8b8416c7-981e-499e-977a-ff6050de9772' class='xr-var-attrs-in' type='checkbox' ><label for='attrs-8b8416c7-981e-499e-977a-ff6050de9772' title='Show/Hide attributes'><svg class='icon xr-icon-file-text2'><use xlink:href='#icon-file-text2'></use></svg></label><input id='data-a82f1087-692b-488b-be9b-ed70872c3ec6' class='xr-var-data-in' type='checkbox'><label for='data-a82f1087-692b-488b-be9b-ed70872c3ec6' title='Show/Hide data repr'><svg class='icon xr-icon-database'><use xlink:href='#icon-database'></use></svg></label><div class='xr-var-attrs'><dl class='xr-attrs'><dt><span>axis :</span></dt><dd>X</dd><dt><span>long_name :</span></dt><dd>Longitude</dd><dt><span>standard_name :</span></dt><dd>longitude</dd><dt><span>units :</span></dt><dd>degrees_east</dd></dl></div><div class='xr-var-data'><pre>array([-158])</pre></div></li><li class='xr-var-item'><div class='xr-var-name'><span class='xr-has-index'>month</span></div><div class='xr-var-dims'>(month)</div><div class='xr-var-dtype'>float64</div><div class='xr-var-preview xr-preview'>1.0 2.0 3.0 4.0 ... 10.0 11.0 12.0</div><input id='attrs-e54fbad0-978f-4628-b94a-280995ab839f' class='xr-var-attrs-in' type='checkbox' disabled><label for='attrs-e54fbad0-978f-4628-b94a-280995ab839f' title='Show/Hide attributes'><svg class='icon xr-icon-file-text2'><use xlink:href='#icon-file-text2'></use></svg></label><input id='data-52c9e3bd-085e-4439-b98c-44c1ee7abacc' class='xr-var-data-in' type='checkbox'><label for='data-52c9e3bd-085e-4439-b98c-44c1ee7abacc' title='Show/Hide data repr'><svg class='icon xr-icon-database'><use xlink:href='#icon-database'></use></svg></label><div class='xr-var-attrs'><dl class='xr-attrs'></dl></div><div class='xr-var-data'><pre>array([ 1.,  2.,  3.,  4.,  5.,  6.,  7.,  8.,  9., 10., 11., 12.])</pre></div></li></ul></div></li><li class='xr-section-item'><input id='section-e0f7451d-b17e-4340-a756-c019c6504d0e' class='xr-section-summary-in' type='checkbox'  checked><label for='section-e0f7451d-b17e-4340-a756-c019c6504d0e' class='xr-section-summary' >Data variables: <span>(4)</span></label><div class='xr-section-inline-details'></div><div class='xr-section-details'><ul class='xr-var-list'><li class='xr-var-item'><div class='xr-var-name'><span>day</span></div><div class='xr-var-dims'>(month, latitude, longitude, layer)</div><div class='xr-var-dtype'>float64</div><div class='xr-var-preview xr-preview'>1.397 1.473 1.671 ... 1.719 1.528</div><input id='attrs-4b614a76-bd5b-489b-a4ea-0706b9c87c6f' class='xr-var-attrs-in' type='checkbox' ><label for='attrs-4b614a76-bd5b-489b-a4ea-0706b9c87c6f' title='Show/Hide attributes'><svg class='icon xr-icon-file-text2'><use xlink:href='#icon-file-text2'></use></svg></label><input id='data-2349bb6e-a81d-4afa-bdb6-2a133ef6f6f3' class='xr-var-data-in' type='checkbox'><label for='data-2349bb6e-a81d-4afa-bdb6-2a133ef6f6f3' title='Show/Hide data repr'><svg class='icon xr-icon-database'><use xlink:href='#icon-database'></use></svg></label><div class='xr-var-attrs'><dl class='xr-attrs'><dt><span>description :</span></dt><dd>Zooplankton carbon weight by cube meter of sea water during the day</dd><dt><span>units :</span></dt><dd>mg/m3</dd></dl></div><div class='xr-var-data'><pre>array([[[[1.39741176]]],\n",
       "\n",
       "\n",
       "       [[[1.47263193]]],\n",
       "\n",
       "\n",
       "       [[[1.67113065]]],\n",
       "\n",
       "\n",
       "       [[[1.92700065]]],\n",
       "\n",
       "\n",
       "       [[[2.01080433]]],\n",
       "\n",
       "\n",
       "       [[[2.083478  ]]],\n",
       "\n",
       "\n",
       "       [[[2.1951159 ]]],\n",
       "\n",
       "\n",
       "       [[[2.34508304]]],\n",
       "\n",
       "\n",
       "       [[[2.32331868]]],\n",
       "\n",
       "\n",
       "       [[[2.04404128]]],\n",
       "\n",
       "\n",
       "       [[[1.71878358]]],\n",
       "\n",
       "\n",
       "       [[[1.52839926]]]])</pre></div></li><li class='xr-var-item'><div class='xr-var-name'><span>night</span></div><div class='xr-var-dims'>(month, latitude, longitude, layer)</div><div class='xr-var-dtype'>float64</div><div class='xr-var-preview xr-preview'>2.237 2.552 2.728 ... 3.031 2.595</div><input id='attrs-6c05dd56-601d-46f2-a850-c01619c98a0a' class='xr-var-attrs-in' type='checkbox' ><label for='attrs-6c05dd56-601d-46f2-a850-c01619c98a0a' title='Show/Hide attributes'><svg class='icon xr-icon-file-text2'><use xlink:href='#icon-file-text2'></use></svg></label><input id='data-99162c97-031f-4e94-90ba-e1451e02d6c7' class='xr-var-data-in' type='checkbox'><label for='data-99162c97-031f-4e94-90ba-e1451e02d6c7' title='Show/Hide data repr'><svg class='icon xr-icon-database'><use xlink:href='#icon-database'></use></svg></label><div class='xr-var-attrs'><dl class='xr-attrs'><dt><span>description :</span></dt><dd>Zooplankton carbon weight by cube meter of sea water at night</dd><dt><span>units :</span></dt><dd>mg/m3</dd></dl></div><div class='xr-var-data'><pre>array([[[[2.23711992]]],\n",
       "\n",
       "\n",
       "       [[[2.55167207]]],\n",
       "\n",
       "\n",
       "       [[[2.72792017]]],\n",
       "\n",
       "\n",
       "       [[[3.1274618 ]]],\n",
       "\n",
       "\n",
       "       [[[3.02449493]]],\n",
       "\n",
       "\n",
       "       [[[3.11451182]]],\n",
       "\n",
       "\n",
       "       [[[3.41485379]]],\n",
       "\n",
       "\n",
       "       [[[3.36435628]]],\n",
       "\n",
       "\n",
       "       [[[3.21446945]]],\n",
       "\n",
       "\n",
       "       [[[3.27566412]]],\n",
       "\n",
       "\n",
       "       [[[3.03129268]]],\n",
       "\n",
       "\n",
       "       [[[2.59485805]]]])</pre></div></li><li class='xr-var-item'><div class='xr-var-name'><span>day_lowess_0.15</span></div><div class='xr-var-dims'>(month)</div><div class='xr-var-dtype'>float64</div><div class='xr-var-preview xr-preview'>1.465 1.506 1.686 ... 1.76 1.543</div><input id='attrs-786f5e62-a8ac-4bc7-adff-97d534d27f45' class='xr-var-attrs-in' type='checkbox' ><label for='attrs-786f5e62-a8ac-4bc7-adff-97d534d27f45' title='Show/Hide attributes'><svg class='icon xr-icon-file-text2'><use xlink:href='#icon-file-text2'></use></svg></label><input id='data-eadddad8-9474-4d3f-99c9-b6d2bb8eccec' class='xr-var-data-in' type='checkbox'><label for='data-eadddad8-9474-4d3f-99c9-b6d2bb8eccec' title='Show/Hide data repr'><svg class='icon xr-icon-database'><use xlink:href='#icon-database'></use></svg></label><div class='xr-var-attrs'><dl class='xr-attrs'><dt><span>frac :</span></dt><dd>0.15</dd><dt><span>units :</span></dt><dd>mg/m3</dd></dl></div><div class='xr-var-data'><pre>array([1.46545227, 1.50571806, 1.68633901, 1.87231064, 2.00782516,\n",
       "       2.09466137, 2.20564519, 2.30338711, 2.22738534, 2.03414538,\n",
       "       1.75960612, 1.54333362])</pre></div></li><li class='xr-var-item'><div class='xr-var-name'><span>night_lowess_0.15</span></div><div class='xr-var-dims'>(month)</div><div class='xr-var-dtype'>float64</div><div class='xr-var-preview xr-preview'>2.538 2.533 2.785 ... 2.977 2.605</div><input id='attrs-dbfc32cc-7017-46f2-b605-1be80d03263b' class='xr-var-attrs-in' type='checkbox' ><label for='attrs-dbfc32cc-7017-46f2-b605-1be80d03263b' title='Show/Hide attributes'><svg class='icon xr-icon-file-text2'><use xlink:href='#icon-file-text2'></use></svg></label><input id='data-5149cfba-95d3-467a-8829-a34babafd771' class='xr-var-data-in' type='checkbox'><label for='data-5149cfba-95d3-467a-8829-a34babafd771' title='Show/Hide data repr'><svg class='icon xr-icon-database'><use xlink:href='#icon-database'></use></svg></label><div class='xr-var-attrs'><dl class='xr-attrs'><dt><span>frac :</span></dt><dd>0.15</dd><dt><span>units :</span></dt><dd>mg/m3</dd></dl></div><div class='xr-var-data'><pre>array([2.53753752, 2.53309783, 2.78532003, 2.95653335, 3.07331495,\n",
       "       3.17310318, 3.30771167, 3.33732123, 3.27446509, 3.18511431,\n",
       "       2.97686123, 2.60537499])</pre></div></li></ul></div></li><li class='xr-section-item'><input id='section-cc04dd7a-babe-4229-8222-2415044046d2' class='xr-section-summary-in' type='checkbox'  ><label for='section-cc04dd7a-babe-4229-8222-2415044046d2' class='xr-section-summary' >Indexes: <span>(4)</span></label><div class='xr-section-inline-details'></div><div class='xr-section-details'><ul class='xr-var-list'><li class='xr-var-item'><div class='xr-index-name'><div>latitude</div></div><div class='xr-index-preview'>PandasIndex</div><input type='checkbox' disabled/><label></label><input id='index-04ca6ac5-391f-4e8e-90e0-2603f33d79f7' class='xr-index-data-in' type='checkbox'/><label for='index-04ca6ac5-391f-4e8e-90e0-2603f33d79f7' title='Show/Hide index repr'><svg class='icon xr-icon-database'><use xlink:href='#icon-database'></use></svg></label><div class='xr-index-data'><pre>PandasIndex(Index([22.75], dtype=&#x27;float64&#x27;, name=&#x27;latitude&#x27;))</pre></div></li><li class='xr-var-item'><div class='xr-index-name'><div>layer</div></div><div class='xr-index-preview'>PandasIndex</div><input type='checkbox' disabled/><label></label><input id='index-f1ebd878-aa2c-4f03-acfa-bb002f0867e7' class='xr-index-data-in' type='checkbox'/><label for='index-f1ebd878-aa2c-4f03-acfa-bb002f0867e7' title='Show/Hide index repr'><svg class='icon xr-icon-database'><use xlink:href='#icon-database'></use></svg></label><div class='xr-index-data'><pre>PandasIndex(Index([0], dtype=&#x27;int64&#x27;, name=&#x27;layer&#x27;))</pre></div></li><li class='xr-var-item'><div class='xr-index-name'><div>longitude</div></div><div class='xr-index-preview'>PandasIndex</div><input type='checkbox' disabled/><label></label><input id='index-88dec918-d362-4226-ab0a-aa4210f1d954' class='xr-index-data-in' type='checkbox'/><label for='index-88dec918-d362-4226-ab0a-aa4210f1d954' title='Show/Hide index repr'><svg class='icon xr-icon-database'><use xlink:href='#icon-database'></use></svg></label><div class='xr-index-data'><pre>PandasIndex(Index([-158], dtype=&#x27;int64&#x27;, name=&#x27;longitude&#x27;))</pre></div></li><li class='xr-var-item'><div class='xr-index-name'><div>month</div></div><div class='xr-index-preview'>PandasIndex</div><input type='checkbox' disabled/><label></label><input id='index-25b54de9-1b9b-47c1-9f55-e5e9d595cfef' class='xr-index-data-in' type='checkbox'/><label for='index-25b54de9-1b9b-47c1-9f55-e5e9d595cfef' title='Show/Hide index repr'><svg class='icon xr-icon-database'><use xlink:href='#icon-database'></use></svg></label><div class='xr-index-data'><pre>PandasIndex(Index([1.0, 2.0, 3.0, 4.0, 5.0, 6.0, 7.0, 8.0, 9.0, 10.0, 11.0, 12.0], dtype=&#x27;float64&#x27;, name=&#x27;month&#x27;))</pre></div></li></ul></div></li><li class='xr-section-item'><input id='section-52b2974a-8896-4a59-a62b-8c40b6f3c6d0' class='xr-section-summary-in' type='checkbox' disabled ><label for='section-52b2974a-8896-4a59-a62b-8c40b6f3c6d0' class='xr-section-summary'  title='Expand/collapse section'>Attributes: <span>(0)</span></label><div class='xr-section-inline-details'></div><div class='xr-section-details'><dl class='xr-attrs'></dl></div></li></ul></div></div>"
      ],
      "text/plain": [
       "<xarray.Dataset> Size: 504B\n",
       "Dimensions:            (month: 12, latitude: 1, longitude: 1, layer: 1)\n",
       "Coordinates:\n",
       "  * latitude           (latitude) float64 8B 22.75\n",
       "  * layer              (layer) int64 8B 0\n",
       "  * longitude          (longitude) int64 8B -158\n",
       "  * month              (month) float64 96B 1.0 2.0 3.0 4.0 ... 10.0 11.0 12.0\n",
       "Data variables:\n",
       "    day                (month, latitude, longitude, layer) float64 96B 1.397 ...\n",
       "    night              (month, latitude, longitude, layer) float64 96B 2.237 ...\n",
       "    day_lowess_0.15    (month) float64 96B 1.465 1.506 1.686 ... 1.76 1.543\n",
       "    night_lowess_0.15  (month) float64 96B 2.538 2.533 2.785 ... 2.977 2.605"
      ]
     },
     "execution_count": 13,
     "metadata": {},
     "output_type": "execute_result"
    }
   ],
   "source": [
    "gathered_data = gathered_data.sel(month=slice(1, 12))\n",
    "gathered_data"
   ]
  },
  {
   "cell_type": "markdown",
   "metadata": {},
   "source": [
    "## Duplicating observation across the entire time period\n"
   ]
  },
  {
   "cell_type": "code",
   "execution_count": 14,
   "metadata": {},
   "outputs": [
    {
     "data": {
      "text/html": [
       "<div>\n",
       "<style scoped>\n",
       "    .dataframe tbody tr th:only-of-type {\n",
       "        vertical-align: middle;\n",
       "    }\n",
       "\n",
       "    .dataframe tbody tr th {\n",
       "        vertical-align: top;\n",
       "    }\n",
       "\n",
       "    .dataframe thead th {\n",
       "        text-align: right;\n",
       "    }\n",
       "</style>\n",
       "<table border=\"1\" class=\"dataframe\">\n",
       "  <thead>\n",
       "    <tr style=\"text-align: right;\">\n",
       "      <th></th>\n",
       "      <th>day</th>\n",
       "      <th>night</th>\n",
       "      <th>day_lowess_0.15</th>\n",
       "      <th>night_lowess_0.15</th>\n",
       "    </tr>\n",
       "    <tr>\n",
       "      <th>month</th>\n",
       "      <th></th>\n",
       "      <th></th>\n",
       "      <th></th>\n",
       "      <th></th>\n",
       "    </tr>\n",
       "  </thead>\n",
       "  <tbody>\n",
       "    <tr>\n",
       "      <th>1.0</th>\n",
       "      <td>1.397412</td>\n",
       "      <td>2.237120</td>\n",
       "      <td>1.465452</td>\n",
       "      <td>2.537538</td>\n",
       "    </tr>\n",
       "    <tr>\n",
       "      <th>2.0</th>\n",
       "      <td>1.472632</td>\n",
       "      <td>2.551672</td>\n",
       "      <td>1.505718</td>\n",
       "      <td>2.533098</td>\n",
       "    </tr>\n",
       "    <tr>\n",
       "      <th>3.0</th>\n",
       "      <td>1.671131</td>\n",
       "      <td>2.727920</td>\n",
       "      <td>1.686339</td>\n",
       "      <td>2.785320</td>\n",
       "    </tr>\n",
       "    <tr>\n",
       "      <th>4.0</th>\n",
       "      <td>1.927001</td>\n",
       "      <td>3.127462</td>\n",
       "      <td>1.872311</td>\n",
       "      <td>2.956533</td>\n",
       "    </tr>\n",
       "    <tr>\n",
       "      <th>5.0</th>\n",
       "      <td>2.010804</td>\n",
       "      <td>3.024495</td>\n",
       "      <td>2.007825</td>\n",
       "      <td>3.073315</td>\n",
       "    </tr>\n",
       "  </tbody>\n",
       "</table>\n",
       "</div>"
      ],
      "text/plain": [
       "            day     night  day_lowess_0.15  night_lowess_0.15\n",
       "month                                                        \n",
       "1.0    1.397412  2.237120         1.465452           2.537538\n",
       "2.0    1.472632  2.551672         1.505718           2.533098\n",
       "3.0    1.671131  2.727920         1.686339           2.785320\n",
       "4.0    1.927001  3.127462         1.872311           2.956533\n",
       "5.0    2.010804  3.024495         2.007825           3.073315"
      ]
     },
     "execution_count": 14,
     "metadata": {},
     "output_type": "execute_result"
    }
   ],
   "source": [
    "value_by_month = (\n",
    "    gathered_data.to_dataframe().reset_index().drop(columns=[\"latitude\", \"longitude\", \"layer\"]).set_index(\"month\")\n",
    ")\n",
    "value_by_month.head()"
   ]
  },
  {
   "cell_type": "code",
   "execution_count": 26,
   "metadata": {},
   "outputs": [
    {
     "data": {
      "text/html": [
       "<div>\n",
       "<style scoped>\n",
       "    .dataframe tbody tr th:only-of-type {\n",
       "        vertical-align: middle;\n",
       "    }\n",
       "\n",
       "    .dataframe tbody tr th {\n",
       "        vertical-align: top;\n",
       "    }\n",
       "\n",
       "    .dataframe thead th {\n",
       "        text-align: right;\n",
       "    }\n",
       "</style>\n",
       "<table border=\"1\" class=\"dataframe\">\n",
       "  <thead>\n",
       "    <tr style=\"text-align: right;\">\n",
       "      <th></th>\n",
       "      <th>month</th>\n",
       "    </tr>\n",
       "  </thead>\n",
       "  <tbody>\n",
       "    <tr>\n",
       "      <th>2002-01-31</th>\n",
       "      <td>1</td>\n",
       "    </tr>\n",
       "    <tr>\n",
       "      <th>2002-02-28</th>\n",
       "      <td>2</td>\n",
       "    </tr>\n",
       "    <tr>\n",
       "      <th>2002-03-31</th>\n",
       "      <td>3</td>\n",
       "    </tr>\n",
       "    <tr>\n",
       "      <th>2002-04-30</th>\n",
       "      <td>4</td>\n",
       "    </tr>\n",
       "    <tr>\n",
       "      <th>2002-05-31</th>\n",
       "      <td>5</td>\n",
       "    </tr>\n",
       "  </tbody>\n",
       "</table>\n",
       "</div>"
      ],
      "text/plain": [
       "            month\n",
       "2002-01-31      1\n",
       "2002-02-28      2\n",
       "2002-03-31      3\n",
       "2002-04-30      4\n",
       "2002-05-31      5"
      ]
     },
     "execution_count": 26,
     "metadata": {},
     "output_type": "execute_result"
    }
   ],
   "source": [
    "time = pd.date_range(start=data.indexes[\"time\"][0], end=data.indexes[\"time\"][-1], freq=\"ME\")\n",
    "month = time.month\n",
    "month_by_day = pd.DataFrame({\"month\": month}, index=time)\n",
    "month_by_day.head()"
   ]
  },
  {
   "cell_type": "code",
   "execution_count": 27,
   "metadata": {},
   "outputs": [
    {
     "data": {
      "text/html": [
       "<div>\n",
       "<style scoped>\n",
       "    .dataframe tbody tr th:only-of-type {\n",
       "        vertical-align: middle;\n",
       "    }\n",
       "\n",
       "    .dataframe tbody tr th {\n",
       "        vertical-align: top;\n",
       "    }\n",
       "\n",
       "    .dataframe thead th {\n",
       "        text-align: right;\n",
       "    }\n",
       "</style>\n",
       "<table border=\"1\" class=\"dataframe\">\n",
       "  <thead>\n",
       "    <tr style=\"text-align: right;\">\n",
       "      <th></th>\n",
       "      <th>day</th>\n",
       "      <th>night</th>\n",
       "      <th>day_lowess_0.15</th>\n",
       "      <th>night_lowess_0.15</th>\n",
       "    </tr>\n",
       "    <tr>\n",
       "      <th>time</th>\n",
       "      <th></th>\n",
       "      <th></th>\n",
       "      <th></th>\n",
       "      <th></th>\n",
       "    </tr>\n",
       "  </thead>\n",
       "  <tbody>\n",
       "    <tr>\n",
       "      <th>2002-01-31</th>\n",
       "      <td>1.397412</td>\n",
       "      <td>2.237120</td>\n",
       "      <td>1.465452</td>\n",
       "      <td>2.537538</td>\n",
       "    </tr>\n",
       "    <tr>\n",
       "      <th>2002-02-28</th>\n",
       "      <td>1.472632</td>\n",
       "      <td>2.551672</td>\n",
       "      <td>1.505718</td>\n",
       "      <td>2.533098</td>\n",
       "    </tr>\n",
       "    <tr>\n",
       "      <th>2002-03-31</th>\n",
       "      <td>1.671131</td>\n",
       "      <td>2.727920</td>\n",
       "      <td>1.686339</td>\n",
       "      <td>2.785320</td>\n",
       "    </tr>\n",
       "    <tr>\n",
       "      <th>2002-04-30</th>\n",
       "      <td>1.927001</td>\n",
       "      <td>3.127462</td>\n",
       "      <td>1.872311</td>\n",
       "      <td>2.956533</td>\n",
       "    </tr>\n",
       "    <tr>\n",
       "      <th>2002-05-31</th>\n",
       "      <td>2.010804</td>\n",
       "      <td>3.024495</td>\n",
       "      <td>2.007825</td>\n",
       "      <td>3.073315</td>\n",
       "    </tr>\n",
       "    <tr>\n",
       "      <th>...</th>\n",
       "      <td>...</td>\n",
       "      <td>...</td>\n",
       "      <td>...</td>\n",
       "      <td>...</td>\n",
       "    </tr>\n",
       "    <tr>\n",
       "      <th>2014-07-31</th>\n",
       "      <td>2.195116</td>\n",
       "      <td>3.414854</td>\n",
       "      <td>2.205645</td>\n",
       "      <td>3.307712</td>\n",
       "    </tr>\n",
       "    <tr>\n",
       "      <th>2014-08-31</th>\n",
       "      <td>2.345083</td>\n",
       "      <td>3.364356</td>\n",
       "      <td>2.303387</td>\n",
       "      <td>3.337321</td>\n",
       "    </tr>\n",
       "    <tr>\n",
       "      <th>2014-09-30</th>\n",
       "      <td>2.323319</td>\n",
       "      <td>3.214469</td>\n",
       "      <td>2.227385</td>\n",
       "      <td>3.274465</td>\n",
       "    </tr>\n",
       "    <tr>\n",
       "      <th>2014-10-31</th>\n",
       "      <td>2.044041</td>\n",
       "      <td>3.275664</td>\n",
       "      <td>2.034145</td>\n",
       "      <td>3.185114</td>\n",
       "    </tr>\n",
       "    <tr>\n",
       "      <th>2014-11-30</th>\n",
       "      <td>1.718784</td>\n",
       "      <td>3.031293</td>\n",
       "      <td>1.759606</td>\n",
       "      <td>2.976861</td>\n",
       "    </tr>\n",
       "  </tbody>\n",
       "</table>\n",
       "<p>155 rows × 4 columns</p>\n",
       "</div>"
      ],
      "text/plain": [
       "                 day     night  day_lowess_0.15  night_lowess_0.15\n",
       "time                                                              \n",
       "2002-01-31  1.397412  2.237120         1.465452           2.537538\n",
       "2002-02-28  1.472632  2.551672         1.505718           2.533098\n",
       "2002-03-31  1.671131  2.727920         1.686339           2.785320\n",
       "2002-04-30  1.927001  3.127462         1.872311           2.956533\n",
       "2002-05-31  2.010804  3.024495         2.007825           3.073315\n",
       "...              ...       ...              ...                ...\n",
       "2014-07-31  2.195116  3.414854         2.205645           3.307712\n",
       "2014-08-31  2.345083  3.364356         2.303387           3.337321\n",
       "2014-09-30  2.323319  3.214469         2.227385           3.274465\n",
       "2014-10-31  2.044041  3.275664         2.034145           3.185114\n",
       "2014-11-30  1.718784  3.031293         1.759606           2.976861\n",
       "\n",
       "[155 rows x 4 columns]"
      ]
     },
     "execution_count": 27,
     "metadata": {},
     "output_type": "execute_result"
    }
   ],
   "source": [
    "aggregated_smoothed = month_by_day.join(value_by_month, on=\"month\").drop(columns=[\"month\"])\n",
    "aggregated_smoothed.index.name = \"time\"\n",
    "aggregated_smoothed"
   ]
  },
  {
   "cell_type": "code",
   "execution_count": 28,
   "metadata": {},
   "outputs": [
    {
     "data": {
      "text/html": [
       "<div><svg style=\"position: absolute; width: 0; height: 0; overflow: hidden\">\n",
       "<defs>\n",
       "<symbol id=\"icon-database\" viewBox=\"0 0 32 32\">\n",
       "<path d=\"M16 0c-8.837 0-16 2.239-16 5v4c0 2.761 7.163 5 16 5s16-2.239 16-5v-4c0-2.761-7.163-5-16-5z\"></path>\n",
       "<path d=\"M16 17c-8.837 0-16-2.239-16-5v6c0 2.761 7.163 5 16 5s16-2.239 16-5v-6c0 2.761-7.163 5-16 5z\"></path>\n",
       "<path d=\"M16 26c-8.837 0-16-2.239-16-5v6c0 2.761 7.163 5 16 5s16-2.239 16-5v-6c0 2.761-7.163 5-16 5z\"></path>\n",
       "</symbol>\n",
       "<symbol id=\"icon-file-text2\" viewBox=\"0 0 32 32\">\n",
       "<path d=\"M28.681 7.159c-0.694-0.947-1.662-2.053-2.724-3.116s-2.169-2.030-3.116-2.724c-1.612-1.182-2.393-1.319-2.841-1.319h-15.5c-1.378 0-2.5 1.121-2.5 2.5v27c0 1.378 1.122 2.5 2.5 2.5h23c1.378 0 2.5-1.122 2.5-2.5v-19.5c0-0.448-0.137-1.23-1.319-2.841zM24.543 5.457c0.959 0.959 1.712 1.825 2.268 2.543h-4.811v-4.811c0.718 0.556 1.584 1.309 2.543 2.268zM28 29.5c0 0.271-0.229 0.5-0.5 0.5h-23c-0.271 0-0.5-0.229-0.5-0.5v-27c0-0.271 0.229-0.5 0.5-0.5 0 0 15.499-0 15.5 0v7c0 0.552 0.448 1 1 1h7v19.5z\"></path>\n",
       "<path d=\"M23 26h-14c-0.552 0-1-0.448-1-1s0.448-1 1-1h14c0.552 0 1 0.448 1 1s-0.448 1-1 1z\"></path>\n",
       "<path d=\"M23 22h-14c-0.552 0-1-0.448-1-1s0.448-1 1-1h14c0.552 0 1 0.448 1 1s-0.448 1-1 1z\"></path>\n",
       "<path d=\"M23 18h-14c-0.552 0-1-0.448-1-1s0.448-1 1-1h14c0.552 0 1 0.448 1 1s-0.448 1-1 1z\"></path>\n",
       "</symbol>\n",
       "</defs>\n",
       "</svg>\n",
       "<style>/* CSS stylesheet for displaying xarray objects in jupyterlab.\n",
       " *\n",
       " */\n",
       "\n",
       ":root {\n",
       "  --xr-font-color0: var(--jp-content-font-color0, rgba(0, 0, 0, 1));\n",
       "  --xr-font-color2: var(--jp-content-font-color2, rgba(0, 0, 0, 0.54));\n",
       "  --xr-font-color3: var(--jp-content-font-color3, rgba(0, 0, 0, 0.38));\n",
       "  --xr-border-color: var(--jp-border-color2, #e0e0e0);\n",
       "  --xr-disabled-color: var(--jp-layout-color3, #bdbdbd);\n",
       "  --xr-background-color: var(--jp-layout-color0, white);\n",
       "  --xr-background-color-row-even: var(--jp-layout-color1, white);\n",
       "  --xr-background-color-row-odd: var(--jp-layout-color2, #eeeeee);\n",
       "}\n",
       "\n",
       "html[theme=\"dark\"],\n",
       "html[data-theme=\"dark\"],\n",
       "body[data-theme=\"dark\"],\n",
       "body.vscode-dark {\n",
       "  --xr-font-color0: rgba(255, 255, 255, 1);\n",
       "  --xr-font-color2: rgba(255, 255, 255, 0.54);\n",
       "  --xr-font-color3: rgba(255, 255, 255, 0.38);\n",
       "  --xr-border-color: #1f1f1f;\n",
       "  --xr-disabled-color: #515151;\n",
       "  --xr-background-color: #111111;\n",
       "  --xr-background-color-row-even: #111111;\n",
       "  --xr-background-color-row-odd: #313131;\n",
       "}\n",
       "\n",
       ".xr-wrap {\n",
       "  display: block !important;\n",
       "  min-width: 300px;\n",
       "  max-width: 700px;\n",
       "}\n",
       "\n",
       ".xr-text-repr-fallback {\n",
       "  /* fallback to plain text repr when CSS is not injected (untrusted notebook) */\n",
       "  display: none;\n",
       "}\n",
       "\n",
       ".xr-header {\n",
       "  padding-top: 6px;\n",
       "  padding-bottom: 6px;\n",
       "  margin-bottom: 4px;\n",
       "  border-bottom: solid 1px var(--xr-border-color);\n",
       "}\n",
       "\n",
       ".xr-header > div,\n",
       ".xr-header > ul {\n",
       "  display: inline;\n",
       "  margin-top: 0;\n",
       "  margin-bottom: 0;\n",
       "}\n",
       "\n",
       ".xr-obj-type,\n",
       ".xr-array-name {\n",
       "  margin-left: 2px;\n",
       "  margin-right: 10px;\n",
       "}\n",
       "\n",
       ".xr-obj-type {\n",
       "  color: var(--xr-font-color2);\n",
       "}\n",
       "\n",
       ".xr-sections {\n",
       "  padding-left: 0 !important;\n",
       "  display: grid;\n",
       "  grid-template-columns: 150px auto auto 1fr 0 20px 0 20px;\n",
       "}\n",
       "\n",
       ".xr-section-item {\n",
       "  display: contents;\n",
       "}\n",
       "\n",
       ".xr-section-item input {\n",
       "  display: inline-block;\n",
       "  opacity: 0;\n",
       "  height: 0;\n",
       "}\n",
       "\n",
       ".xr-section-item input + label {\n",
       "  color: var(--xr-disabled-color);\n",
       "}\n",
       "\n",
       ".xr-section-item input:enabled + label {\n",
       "  cursor: pointer;\n",
       "  color: var(--xr-font-color2);\n",
       "}\n",
       "\n",
       ".xr-section-item input:focus + label {\n",
       "  border: 2px solid var(--xr-font-color0);\n",
       "}\n",
       "\n",
       ".xr-section-item input:enabled + label:hover {\n",
       "  color: var(--xr-font-color0);\n",
       "}\n",
       "\n",
       ".xr-section-summary {\n",
       "  grid-column: 1;\n",
       "  color: var(--xr-font-color2);\n",
       "  font-weight: 500;\n",
       "}\n",
       "\n",
       ".xr-section-summary > span {\n",
       "  display: inline-block;\n",
       "  padding-left: 0.5em;\n",
       "}\n",
       "\n",
       ".xr-section-summary-in:disabled + label {\n",
       "  color: var(--xr-font-color2);\n",
       "}\n",
       "\n",
       ".xr-section-summary-in + label:before {\n",
       "  display: inline-block;\n",
       "  content: \"►\";\n",
       "  font-size: 11px;\n",
       "  width: 15px;\n",
       "  text-align: center;\n",
       "}\n",
       "\n",
       ".xr-section-summary-in:disabled + label:before {\n",
       "  color: var(--xr-disabled-color);\n",
       "}\n",
       "\n",
       ".xr-section-summary-in:checked + label:before {\n",
       "  content: \"▼\";\n",
       "}\n",
       "\n",
       ".xr-section-summary-in:checked + label > span {\n",
       "  display: none;\n",
       "}\n",
       "\n",
       ".xr-section-summary,\n",
       ".xr-section-inline-details {\n",
       "  padding-top: 4px;\n",
       "  padding-bottom: 4px;\n",
       "}\n",
       "\n",
       ".xr-section-inline-details {\n",
       "  grid-column: 2 / -1;\n",
       "}\n",
       "\n",
       ".xr-section-details {\n",
       "  display: none;\n",
       "  grid-column: 1 / -1;\n",
       "  margin-bottom: 5px;\n",
       "}\n",
       "\n",
       ".xr-section-summary-in:checked ~ .xr-section-details {\n",
       "  display: contents;\n",
       "}\n",
       "\n",
       ".xr-array-wrap {\n",
       "  grid-column: 1 / -1;\n",
       "  display: grid;\n",
       "  grid-template-columns: 20px auto;\n",
       "}\n",
       "\n",
       ".xr-array-wrap > label {\n",
       "  grid-column: 1;\n",
       "  vertical-align: top;\n",
       "}\n",
       "\n",
       ".xr-preview {\n",
       "  color: var(--xr-font-color3);\n",
       "}\n",
       "\n",
       ".xr-array-preview,\n",
       ".xr-array-data {\n",
       "  padding: 0 5px !important;\n",
       "  grid-column: 2;\n",
       "}\n",
       "\n",
       ".xr-array-data,\n",
       ".xr-array-in:checked ~ .xr-array-preview {\n",
       "  display: none;\n",
       "}\n",
       "\n",
       ".xr-array-in:checked ~ .xr-array-data,\n",
       ".xr-array-preview {\n",
       "  display: inline-block;\n",
       "}\n",
       "\n",
       ".xr-dim-list {\n",
       "  display: inline-block !important;\n",
       "  list-style: none;\n",
       "  padding: 0 !important;\n",
       "  margin: 0;\n",
       "}\n",
       "\n",
       ".xr-dim-list li {\n",
       "  display: inline-block;\n",
       "  padding: 0;\n",
       "  margin: 0;\n",
       "}\n",
       "\n",
       ".xr-dim-list:before {\n",
       "  content: \"(\";\n",
       "}\n",
       "\n",
       ".xr-dim-list:after {\n",
       "  content: \")\";\n",
       "}\n",
       "\n",
       ".xr-dim-list li:not(:last-child):after {\n",
       "  content: \",\";\n",
       "  padding-right: 5px;\n",
       "}\n",
       "\n",
       ".xr-has-index {\n",
       "  font-weight: bold;\n",
       "}\n",
       "\n",
       ".xr-var-list,\n",
       ".xr-var-item {\n",
       "  display: contents;\n",
       "}\n",
       "\n",
       ".xr-var-item > div,\n",
       ".xr-var-item label,\n",
       ".xr-var-item > .xr-var-name span {\n",
       "  background-color: var(--xr-background-color-row-even);\n",
       "  margin-bottom: 0;\n",
       "}\n",
       "\n",
       ".xr-var-item > .xr-var-name:hover span {\n",
       "  padding-right: 5px;\n",
       "}\n",
       "\n",
       ".xr-var-list > li:nth-child(odd) > div,\n",
       ".xr-var-list > li:nth-child(odd) > label,\n",
       ".xr-var-list > li:nth-child(odd) > .xr-var-name span {\n",
       "  background-color: var(--xr-background-color-row-odd);\n",
       "}\n",
       "\n",
       ".xr-var-name {\n",
       "  grid-column: 1;\n",
       "}\n",
       "\n",
       ".xr-var-dims {\n",
       "  grid-column: 2;\n",
       "}\n",
       "\n",
       ".xr-var-dtype {\n",
       "  grid-column: 3;\n",
       "  text-align: right;\n",
       "  color: var(--xr-font-color2);\n",
       "}\n",
       "\n",
       ".xr-var-preview {\n",
       "  grid-column: 4;\n",
       "}\n",
       "\n",
       ".xr-index-preview {\n",
       "  grid-column: 2 / 5;\n",
       "  color: var(--xr-font-color2);\n",
       "}\n",
       "\n",
       ".xr-var-name,\n",
       ".xr-var-dims,\n",
       ".xr-var-dtype,\n",
       ".xr-preview,\n",
       ".xr-attrs dt {\n",
       "  white-space: nowrap;\n",
       "  overflow: hidden;\n",
       "  text-overflow: ellipsis;\n",
       "  padding-right: 10px;\n",
       "}\n",
       "\n",
       ".xr-var-name:hover,\n",
       ".xr-var-dims:hover,\n",
       ".xr-var-dtype:hover,\n",
       ".xr-attrs dt:hover {\n",
       "  overflow: visible;\n",
       "  width: auto;\n",
       "  z-index: 1;\n",
       "}\n",
       "\n",
       ".xr-var-attrs,\n",
       ".xr-var-data,\n",
       ".xr-index-data {\n",
       "  display: none;\n",
       "  background-color: var(--xr-background-color) !important;\n",
       "  padding-bottom: 5px !important;\n",
       "}\n",
       "\n",
       ".xr-var-attrs-in:checked ~ .xr-var-attrs,\n",
       ".xr-var-data-in:checked ~ .xr-var-data,\n",
       ".xr-index-data-in:checked ~ .xr-index-data {\n",
       "  display: block;\n",
       "}\n",
       "\n",
       ".xr-var-data > table {\n",
       "  float: right;\n",
       "}\n",
       "\n",
       ".xr-var-name span,\n",
       ".xr-var-data,\n",
       ".xr-index-name div,\n",
       ".xr-index-data,\n",
       ".xr-attrs {\n",
       "  padding-left: 25px !important;\n",
       "}\n",
       "\n",
       ".xr-attrs,\n",
       ".xr-var-attrs,\n",
       ".xr-var-data,\n",
       ".xr-index-data {\n",
       "  grid-column: 1 / -1;\n",
       "}\n",
       "\n",
       "dl.xr-attrs {\n",
       "  padding: 0;\n",
       "  margin: 0;\n",
       "  display: grid;\n",
       "  grid-template-columns: 125px auto;\n",
       "}\n",
       "\n",
       ".xr-attrs dt,\n",
       ".xr-attrs dd {\n",
       "  padding: 0;\n",
       "  margin: 0;\n",
       "  float: left;\n",
       "  padding-right: 10px;\n",
       "  width: auto;\n",
       "}\n",
       "\n",
       ".xr-attrs dt {\n",
       "  font-weight: normal;\n",
       "  grid-column: 1;\n",
       "}\n",
       "\n",
       ".xr-attrs dt:hover span {\n",
       "  display: inline-block;\n",
       "  background: var(--xr-background-color);\n",
       "  padding-right: 10px;\n",
       "}\n",
       "\n",
       ".xr-attrs dd {\n",
       "  grid-column: 2;\n",
       "  white-space: pre-wrap;\n",
       "  word-break: break-all;\n",
       "}\n",
       "\n",
       ".xr-icon-database,\n",
       ".xr-icon-file-text2,\n",
       ".xr-no-icon {\n",
       "  display: inline-block;\n",
       "  vertical-align: middle;\n",
       "  width: 1em;\n",
       "  height: 1.5em !important;\n",
       "  stroke-width: 0;\n",
       "  stroke: currentColor;\n",
       "  fill: currentColor;\n",
       "}\n",
       "</style><pre class='xr-text-repr-fallback'>&lt;xarray.Dataset&gt; Size: 6kB\n",
       "Dimensions:            (time: 155)\n",
       "Coordinates:\n",
       "  * time               (time) datetime64[ns] 1kB 2002-01-31 ... 2014-11-30\n",
       "Data variables:\n",
       "    day                (time) float64 1kB 1.397 1.473 1.671 ... 2.044 1.719\n",
       "    night              (time) float64 1kB 2.237 2.552 2.728 ... 3.276 3.031\n",
       "    day_lowess_0.15    (time) float64 1kB 1.465 1.506 1.686 ... 2.227 2.034 1.76\n",
       "    night_lowess_0.15  (time) float64 1kB 2.538 2.533 2.785 ... 3.185 2.977\n",
       "Attributes:\n",
       "    desc:     Aggregated and smoothed observations using lowess filtre.</pre><div class='xr-wrap' style='display:none'><div class='xr-header'><div class='xr-obj-type'>xarray.Dataset</div></div><ul class='xr-sections'><li class='xr-section-item'><input id='section-940b05f8-43ad-4c5d-849c-23fd7c301779' class='xr-section-summary-in' type='checkbox' disabled ><label for='section-940b05f8-43ad-4c5d-849c-23fd7c301779' class='xr-section-summary'  title='Expand/collapse section'>Dimensions:</label><div class='xr-section-inline-details'><ul class='xr-dim-list'><li><span class='xr-has-index'>time</span>: 155</li></ul></div><div class='xr-section-details'></div></li><li class='xr-section-item'><input id='section-f8be895e-7e5e-46e4-b153-9b6548df6348' class='xr-section-summary-in' type='checkbox'  checked><label for='section-f8be895e-7e5e-46e4-b153-9b6548df6348' class='xr-section-summary' >Coordinates: <span>(1)</span></label><div class='xr-section-inline-details'></div><div class='xr-section-details'><ul class='xr-var-list'><li class='xr-var-item'><div class='xr-var-name'><span class='xr-has-index'>time</span></div><div class='xr-var-dims'>(time)</div><div class='xr-var-dtype'>datetime64[ns]</div><div class='xr-var-preview xr-preview'>2002-01-31 ... 2014-11-30</div><input id='attrs-28cf9c07-eb56-40ee-8945-71e4409f3599' class='xr-var-attrs-in' type='checkbox' disabled><label for='attrs-28cf9c07-eb56-40ee-8945-71e4409f3599' title='Show/Hide attributes'><svg class='icon xr-icon-file-text2'><use xlink:href='#icon-file-text2'></use></svg></label><input id='data-0a230d6b-4624-422d-8097-2efcb818ff24' class='xr-var-data-in' type='checkbox'><label for='data-0a230d6b-4624-422d-8097-2efcb818ff24' title='Show/Hide data repr'><svg class='icon xr-icon-database'><use xlink:href='#icon-database'></use></svg></label><div class='xr-var-attrs'><dl class='xr-attrs'></dl></div><div class='xr-var-data'><pre>array([&#x27;2002-01-31T00:00:00.000000000&#x27;, &#x27;2002-02-28T00:00:00.000000000&#x27;,\n",
       "       &#x27;2002-03-31T00:00:00.000000000&#x27;, &#x27;2002-04-30T00:00:00.000000000&#x27;,\n",
       "       &#x27;2002-05-31T00:00:00.000000000&#x27;, &#x27;2002-06-30T00:00:00.000000000&#x27;,\n",
       "       &#x27;2002-07-31T00:00:00.000000000&#x27;, &#x27;2002-08-31T00:00:00.000000000&#x27;,\n",
       "       &#x27;2002-09-30T00:00:00.000000000&#x27;, &#x27;2002-10-31T00:00:00.000000000&#x27;,\n",
       "       &#x27;2002-11-30T00:00:00.000000000&#x27;, &#x27;2002-12-31T00:00:00.000000000&#x27;,\n",
       "       &#x27;2003-01-31T00:00:00.000000000&#x27;, &#x27;2003-02-28T00:00:00.000000000&#x27;,\n",
       "       &#x27;2003-03-31T00:00:00.000000000&#x27;, &#x27;2003-04-30T00:00:00.000000000&#x27;,\n",
       "       &#x27;2003-05-31T00:00:00.000000000&#x27;, &#x27;2003-06-30T00:00:00.000000000&#x27;,\n",
       "       &#x27;2003-07-31T00:00:00.000000000&#x27;, &#x27;2003-08-31T00:00:00.000000000&#x27;,\n",
       "       &#x27;2003-09-30T00:00:00.000000000&#x27;, &#x27;2003-10-31T00:00:00.000000000&#x27;,\n",
       "       &#x27;2003-11-30T00:00:00.000000000&#x27;, &#x27;2003-12-31T00:00:00.000000000&#x27;,\n",
       "       &#x27;2004-01-31T00:00:00.000000000&#x27;, &#x27;2004-02-29T00:00:00.000000000&#x27;,\n",
       "       &#x27;2004-03-31T00:00:00.000000000&#x27;, &#x27;2004-04-30T00:00:00.000000000&#x27;,\n",
       "       &#x27;2004-05-31T00:00:00.000000000&#x27;, &#x27;2004-06-30T00:00:00.000000000&#x27;,\n",
       "       &#x27;2004-07-31T00:00:00.000000000&#x27;, &#x27;2004-08-31T00:00:00.000000000&#x27;,\n",
       "       &#x27;2004-09-30T00:00:00.000000000&#x27;, &#x27;2004-10-31T00:00:00.000000000&#x27;,\n",
       "       &#x27;2004-11-30T00:00:00.000000000&#x27;, &#x27;2004-12-31T00:00:00.000000000&#x27;,\n",
       "       &#x27;2005-01-31T00:00:00.000000000&#x27;, &#x27;2005-02-28T00:00:00.000000000&#x27;,\n",
       "       &#x27;2005-03-31T00:00:00.000000000&#x27;, &#x27;2005-04-30T00:00:00.000000000&#x27;,\n",
       "       &#x27;2005-05-31T00:00:00.000000000&#x27;, &#x27;2005-06-30T00:00:00.000000000&#x27;,\n",
       "       &#x27;2005-07-31T00:00:00.000000000&#x27;, &#x27;2005-08-31T00:00:00.000000000&#x27;,\n",
       "       &#x27;2005-09-30T00:00:00.000000000&#x27;, &#x27;2005-10-31T00:00:00.000000000&#x27;,\n",
       "       &#x27;2005-11-30T00:00:00.000000000&#x27;, &#x27;2005-12-31T00:00:00.000000000&#x27;,\n",
       "       &#x27;2006-01-31T00:00:00.000000000&#x27;, &#x27;2006-02-28T00:00:00.000000000&#x27;,\n",
       "       &#x27;2006-03-31T00:00:00.000000000&#x27;, &#x27;2006-04-30T00:00:00.000000000&#x27;,\n",
       "       &#x27;2006-05-31T00:00:00.000000000&#x27;, &#x27;2006-06-30T00:00:00.000000000&#x27;,\n",
       "       &#x27;2006-07-31T00:00:00.000000000&#x27;, &#x27;2006-08-31T00:00:00.000000000&#x27;,\n",
       "       &#x27;2006-09-30T00:00:00.000000000&#x27;, &#x27;2006-10-31T00:00:00.000000000&#x27;,\n",
       "       &#x27;2006-11-30T00:00:00.000000000&#x27;, &#x27;2006-12-31T00:00:00.000000000&#x27;,\n",
       "       &#x27;2007-01-31T00:00:00.000000000&#x27;, &#x27;2007-02-28T00:00:00.000000000&#x27;,\n",
       "       &#x27;2007-03-31T00:00:00.000000000&#x27;, &#x27;2007-04-30T00:00:00.000000000&#x27;,\n",
       "       &#x27;2007-05-31T00:00:00.000000000&#x27;, &#x27;2007-06-30T00:00:00.000000000&#x27;,\n",
       "       &#x27;2007-07-31T00:00:00.000000000&#x27;, &#x27;2007-08-31T00:00:00.000000000&#x27;,\n",
       "       &#x27;2007-09-30T00:00:00.000000000&#x27;, &#x27;2007-10-31T00:00:00.000000000&#x27;,\n",
       "       &#x27;2007-11-30T00:00:00.000000000&#x27;, &#x27;2007-12-31T00:00:00.000000000&#x27;,\n",
       "       &#x27;2008-01-31T00:00:00.000000000&#x27;, &#x27;2008-02-29T00:00:00.000000000&#x27;,\n",
       "       &#x27;2008-03-31T00:00:00.000000000&#x27;, &#x27;2008-04-30T00:00:00.000000000&#x27;,\n",
       "       &#x27;2008-05-31T00:00:00.000000000&#x27;, &#x27;2008-06-30T00:00:00.000000000&#x27;,\n",
       "       &#x27;2008-07-31T00:00:00.000000000&#x27;, &#x27;2008-08-31T00:00:00.000000000&#x27;,\n",
       "       &#x27;2008-09-30T00:00:00.000000000&#x27;, &#x27;2008-10-31T00:00:00.000000000&#x27;,\n",
       "       &#x27;2008-11-30T00:00:00.000000000&#x27;, &#x27;2008-12-31T00:00:00.000000000&#x27;,\n",
       "       &#x27;2009-01-31T00:00:00.000000000&#x27;, &#x27;2009-02-28T00:00:00.000000000&#x27;,\n",
       "       &#x27;2009-03-31T00:00:00.000000000&#x27;, &#x27;2009-04-30T00:00:00.000000000&#x27;,\n",
       "       &#x27;2009-05-31T00:00:00.000000000&#x27;, &#x27;2009-06-30T00:00:00.000000000&#x27;,\n",
       "       &#x27;2009-07-31T00:00:00.000000000&#x27;, &#x27;2009-08-31T00:00:00.000000000&#x27;,\n",
       "       &#x27;2009-09-30T00:00:00.000000000&#x27;, &#x27;2009-10-31T00:00:00.000000000&#x27;,\n",
       "       &#x27;2009-11-30T00:00:00.000000000&#x27;, &#x27;2009-12-31T00:00:00.000000000&#x27;,\n",
       "       &#x27;2010-01-31T00:00:00.000000000&#x27;, &#x27;2010-02-28T00:00:00.000000000&#x27;,\n",
       "       &#x27;2010-03-31T00:00:00.000000000&#x27;, &#x27;2010-04-30T00:00:00.000000000&#x27;,\n",
       "       &#x27;2010-05-31T00:00:00.000000000&#x27;, &#x27;2010-06-30T00:00:00.000000000&#x27;,\n",
       "       &#x27;2010-07-31T00:00:00.000000000&#x27;, &#x27;2010-08-31T00:00:00.000000000&#x27;,\n",
       "       &#x27;2010-09-30T00:00:00.000000000&#x27;, &#x27;2010-10-31T00:00:00.000000000&#x27;,\n",
       "       &#x27;2010-11-30T00:00:00.000000000&#x27;, &#x27;2010-12-31T00:00:00.000000000&#x27;,\n",
       "       &#x27;2011-01-31T00:00:00.000000000&#x27;, &#x27;2011-02-28T00:00:00.000000000&#x27;,\n",
       "       &#x27;2011-03-31T00:00:00.000000000&#x27;, &#x27;2011-04-30T00:00:00.000000000&#x27;,\n",
       "       &#x27;2011-05-31T00:00:00.000000000&#x27;, &#x27;2011-06-30T00:00:00.000000000&#x27;,\n",
       "       &#x27;2011-07-31T00:00:00.000000000&#x27;, &#x27;2011-08-31T00:00:00.000000000&#x27;,\n",
       "       &#x27;2011-09-30T00:00:00.000000000&#x27;, &#x27;2011-10-31T00:00:00.000000000&#x27;,\n",
       "       &#x27;2011-11-30T00:00:00.000000000&#x27;, &#x27;2011-12-31T00:00:00.000000000&#x27;,\n",
       "       &#x27;2012-01-31T00:00:00.000000000&#x27;, &#x27;2012-02-29T00:00:00.000000000&#x27;,\n",
       "       &#x27;2012-03-31T00:00:00.000000000&#x27;, &#x27;2012-04-30T00:00:00.000000000&#x27;,\n",
       "       &#x27;2012-05-31T00:00:00.000000000&#x27;, &#x27;2012-06-30T00:00:00.000000000&#x27;,\n",
       "       &#x27;2012-07-31T00:00:00.000000000&#x27;, &#x27;2012-08-31T00:00:00.000000000&#x27;,\n",
       "       &#x27;2012-09-30T00:00:00.000000000&#x27;, &#x27;2012-10-31T00:00:00.000000000&#x27;,\n",
       "       &#x27;2012-11-30T00:00:00.000000000&#x27;, &#x27;2012-12-31T00:00:00.000000000&#x27;,\n",
       "       &#x27;2013-01-31T00:00:00.000000000&#x27;, &#x27;2013-02-28T00:00:00.000000000&#x27;,\n",
       "       &#x27;2013-03-31T00:00:00.000000000&#x27;, &#x27;2013-04-30T00:00:00.000000000&#x27;,\n",
       "       &#x27;2013-05-31T00:00:00.000000000&#x27;, &#x27;2013-06-30T00:00:00.000000000&#x27;,\n",
       "       &#x27;2013-07-31T00:00:00.000000000&#x27;, &#x27;2013-08-31T00:00:00.000000000&#x27;,\n",
       "       &#x27;2013-09-30T00:00:00.000000000&#x27;, &#x27;2013-10-31T00:00:00.000000000&#x27;,\n",
       "       &#x27;2013-11-30T00:00:00.000000000&#x27;, &#x27;2013-12-31T00:00:00.000000000&#x27;,\n",
       "       &#x27;2014-01-31T00:00:00.000000000&#x27;, &#x27;2014-02-28T00:00:00.000000000&#x27;,\n",
       "       &#x27;2014-03-31T00:00:00.000000000&#x27;, &#x27;2014-04-30T00:00:00.000000000&#x27;,\n",
       "       &#x27;2014-05-31T00:00:00.000000000&#x27;, &#x27;2014-06-30T00:00:00.000000000&#x27;,\n",
       "       &#x27;2014-07-31T00:00:00.000000000&#x27;, &#x27;2014-08-31T00:00:00.000000000&#x27;,\n",
       "       &#x27;2014-09-30T00:00:00.000000000&#x27;, &#x27;2014-10-31T00:00:00.000000000&#x27;,\n",
       "       &#x27;2014-11-30T00:00:00.000000000&#x27;], dtype=&#x27;datetime64[ns]&#x27;)</pre></div></li></ul></div></li><li class='xr-section-item'><input id='section-4c8ba72d-5450-457f-981d-4fc7515bae26' class='xr-section-summary-in' type='checkbox'  checked><label for='section-4c8ba72d-5450-457f-981d-4fc7515bae26' class='xr-section-summary' >Data variables: <span>(4)</span></label><div class='xr-section-inline-details'></div><div class='xr-section-details'><ul class='xr-var-list'><li class='xr-var-item'><div class='xr-var-name'><span>day</span></div><div class='xr-var-dims'>(time)</div><div class='xr-var-dtype'>float64</div><div class='xr-var-preview xr-preview'>1.397 1.473 1.671 ... 2.044 1.719</div><input id='attrs-34e37231-7aa5-478c-a92b-18d06f3b34f3' class='xr-var-attrs-in' type='checkbox' ><label for='attrs-34e37231-7aa5-478c-a92b-18d06f3b34f3' title='Show/Hide attributes'><svg class='icon xr-icon-file-text2'><use xlink:href='#icon-file-text2'></use></svg></label><input id='data-b7b6e190-deac-41e6-acfd-2758912f8c6f' class='xr-var-data-in' type='checkbox'><label for='data-b7b6e190-deac-41e6-acfd-2758912f8c6f' title='Show/Hide data repr'><svg class='icon xr-icon-database'><use xlink:href='#icon-database'></use></svg></label><div class='xr-var-attrs'><dl class='xr-attrs'><dt><span>units :</span></dt><dd>mg/m3</dd></dl></div><div class='xr-var-data'><pre>array([1.39741176, 1.47263193, 1.67113065, 1.92700065, 2.01080433,\n",
       "       2.083478  , 2.1951159 , 2.34508304, 2.32331868, 2.04404128,\n",
       "       1.71878358, 1.52839926, 1.39741176, 1.47263193, 1.67113065,\n",
       "       1.92700065, 2.01080433, 2.083478  , 2.1951159 , 2.34508304,\n",
       "       2.32331868, 2.04404128, 1.71878358, 1.52839926, 1.39741176,\n",
       "       1.47263193, 1.67113065, 1.92700065, 2.01080433, 2.083478  ,\n",
       "       2.1951159 , 2.34508304, 2.32331868, 2.04404128, 1.71878358,\n",
       "       1.52839926, 1.39741176, 1.47263193, 1.67113065, 1.92700065,\n",
       "       2.01080433, 2.083478  , 2.1951159 , 2.34508304, 2.32331868,\n",
       "       2.04404128, 1.71878358, 1.52839926, 1.39741176, 1.47263193,\n",
       "       1.67113065, 1.92700065, 2.01080433, 2.083478  , 2.1951159 ,\n",
       "       2.34508304, 2.32331868, 2.04404128, 1.71878358, 1.52839926,\n",
       "       1.39741176, 1.47263193, 1.67113065, 1.92700065, 2.01080433,\n",
       "       2.083478  , 2.1951159 , 2.34508304, 2.32331868, 2.04404128,\n",
       "       1.71878358, 1.52839926, 1.39741176, 1.47263193, 1.67113065,\n",
       "       1.92700065, 2.01080433, 2.083478  , 2.1951159 , 2.34508304,\n",
       "       2.32331868, 2.04404128, 1.71878358, 1.52839926, 1.39741176,\n",
       "       1.47263193, 1.67113065, 1.92700065, 2.01080433, 2.083478  ,\n",
       "       2.1951159 , 2.34508304, 2.32331868, 2.04404128, 1.71878358,\n",
       "       1.52839926, 1.39741176, 1.47263193, 1.67113065, 1.92700065,\n",
       "       2.01080433, 2.083478  , 2.1951159 , 2.34508304, 2.32331868,\n",
       "       2.04404128, 1.71878358, 1.52839926, 1.39741176, 1.47263193,\n",
       "       1.67113065, 1.92700065, 2.01080433, 2.083478  , 2.1951159 ,\n",
       "       2.34508304, 2.32331868, 2.04404128, 1.71878358, 1.52839926,\n",
       "       1.39741176, 1.47263193, 1.67113065, 1.92700065, 2.01080433,\n",
       "       2.083478  , 2.1951159 , 2.34508304, 2.32331868, 2.04404128,\n",
       "       1.71878358, 1.52839926, 1.39741176, 1.47263193, 1.67113065,\n",
       "       1.92700065, 2.01080433, 2.083478  , 2.1951159 , 2.34508304,\n",
       "       2.32331868, 2.04404128, 1.71878358, 1.52839926, 1.39741176,\n",
       "       1.47263193, 1.67113065, 1.92700065, 2.01080433, 2.083478  ,\n",
       "       2.1951159 , 2.34508304, 2.32331868, 2.04404128, 1.71878358])</pre></div></li><li class='xr-var-item'><div class='xr-var-name'><span>night</span></div><div class='xr-var-dims'>(time)</div><div class='xr-var-dtype'>float64</div><div class='xr-var-preview xr-preview'>2.237 2.552 2.728 ... 3.276 3.031</div><input id='attrs-540c57a3-4c87-4f66-ab1b-9927c73f45ab' class='xr-var-attrs-in' type='checkbox' ><label for='attrs-540c57a3-4c87-4f66-ab1b-9927c73f45ab' title='Show/Hide attributes'><svg class='icon xr-icon-file-text2'><use xlink:href='#icon-file-text2'></use></svg></label><input id='data-2352fb03-f4a5-4f56-a26b-7e808d07f943' class='xr-var-data-in' type='checkbox'><label for='data-2352fb03-f4a5-4f56-a26b-7e808d07f943' title='Show/Hide data repr'><svg class='icon xr-icon-database'><use xlink:href='#icon-database'></use></svg></label><div class='xr-var-attrs'><dl class='xr-attrs'><dt><span>units :</span></dt><dd>mg/m3</dd></dl></div><div class='xr-var-data'><pre>array([2.23711992, 2.55167207, 2.72792017, 3.1274618 , 3.02449493,\n",
       "       3.11451182, 3.41485379, 3.36435628, 3.21446945, 3.27566412,\n",
       "       3.03129268, 2.59485805, 2.23711992, 2.55167207, 2.72792017,\n",
       "       3.1274618 , 3.02449493, 3.11451182, 3.41485379, 3.36435628,\n",
       "       3.21446945, 3.27566412, 3.03129268, 2.59485805, 2.23711992,\n",
       "       2.55167207, 2.72792017, 3.1274618 , 3.02449493, 3.11451182,\n",
       "       3.41485379, 3.36435628, 3.21446945, 3.27566412, 3.03129268,\n",
       "       2.59485805, 2.23711992, 2.55167207, 2.72792017, 3.1274618 ,\n",
       "       3.02449493, 3.11451182, 3.41485379, 3.36435628, 3.21446945,\n",
       "       3.27566412, 3.03129268, 2.59485805, 2.23711992, 2.55167207,\n",
       "       2.72792017, 3.1274618 , 3.02449493, 3.11451182, 3.41485379,\n",
       "       3.36435628, 3.21446945, 3.27566412, 3.03129268, 2.59485805,\n",
       "       2.23711992, 2.55167207, 2.72792017, 3.1274618 , 3.02449493,\n",
       "       3.11451182, 3.41485379, 3.36435628, 3.21446945, 3.27566412,\n",
       "       3.03129268, 2.59485805, 2.23711992, 2.55167207, 2.72792017,\n",
       "       3.1274618 , 3.02449493, 3.11451182, 3.41485379, 3.36435628,\n",
       "       3.21446945, 3.27566412, 3.03129268, 2.59485805, 2.23711992,\n",
       "       2.55167207, 2.72792017, 3.1274618 , 3.02449493, 3.11451182,\n",
       "       3.41485379, 3.36435628, 3.21446945, 3.27566412, 3.03129268,\n",
       "       2.59485805, 2.23711992, 2.55167207, 2.72792017, 3.1274618 ,\n",
       "       3.02449493, 3.11451182, 3.41485379, 3.36435628, 3.21446945,\n",
       "       3.27566412, 3.03129268, 2.59485805, 2.23711992, 2.55167207,\n",
       "       2.72792017, 3.1274618 , 3.02449493, 3.11451182, 3.41485379,\n",
       "       3.36435628, 3.21446945, 3.27566412, 3.03129268, 2.59485805,\n",
       "       2.23711992, 2.55167207, 2.72792017, 3.1274618 , 3.02449493,\n",
       "       3.11451182, 3.41485379, 3.36435628, 3.21446945, 3.27566412,\n",
       "       3.03129268, 2.59485805, 2.23711992, 2.55167207, 2.72792017,\n",
       "       3.1274618 , 3.02449493, 3.11451182, 3.41485379, 3.36435628,\n",
       "       3.21446945, 3.27566412, 3.03129268, 2.59485805, 2.23711992,\n",
       "       2.55167207, 2.72792017, 3.1274618 , 3.02449493, 3.11451182,\n",
       "       3.41485379, 3.36435628, 3.21446945, 3.27566412, 3.03129268])</pre></div></li><li class='xr-var-item'><div class='xr-var-name'><span>day_lowess_0.15</span></div><div class='xr-var-dims'>(time)</div><div class='xr-var-dtype'>float64</div><div class='xr-var-preview xr-preview'>1.465 1.506 1.686 ... 2.034 1.76</div><input id='attrs-ddd63612-73ee-4eef-b0b1-fbd13e949e48' class='xr-var-attrs-in' type='checkbox' ><label for='attrs-ddd63612-73ee-4eef-b0b1-fbd13e949e48' title='Show/Hide attributes'><svg class='icon xr-icon-file-text2'><use xlink:href='#icon-file-text2'></use></svg></label><input id='data-a977c29c-4e50-4b11-b080-d00b57d9b160' class='xr-var-data-in' type='checkbox'><label for='data-a977c29c-4e50-4b11-b080-d00b57d9b160' title='Show/Hide data repr'><svg class='icon xr-icon-database'><use xlink:href='#icon-database'></use></svg></label><div class='xr-var-attrs'><dl class='xr-attrs'><dt><span>units :</span></dt><dd>mg/m3</dd></dl></div><div class='xr-var-data'><pre>array([1.46545227, 1.50571806, 1.68633901, 1.87231064, 2.00782516,\n",
       "       2.09466137, 2.20564519, 2.30338711, 2.22738534, 2.03414538,\n",
       "       1.75960612, 1.54333362, 1.46545227, 1.50571806, 1.68633901,\n",
       "       1.87231064, 2.00782516, 2.09466137, 2.20564519, 2.30338711,\n",
       "       2.22738534, 2.03414538, 1.75960612, 1.54333362, 1.46545227,\n",
       "       1.50571806, 1.68633901, 1.87231064, 2.00782516, 2.09466137,\n",
       "       2.20564519, 2.30338711, 2.22738534, 2.03414538, 1.75960612,\n",
       "       1.54333362, 1.46545227, 1.50571806, 1.68633901, 1.87231064,\n",
       "       2.00782516, 2.09466137, 2.20564519, 2.30338711, 2.22738534,\n",
       "       2.03414538, 1.75960612, 1.54333362, 1.46545227, 1.50571806,\n",
       "       1.68633901, 1.87231064, 2.00782516, 2.09466137, 2.20564519,\n",
       "       2.30338711, 2.22738534, 2.03414538, 1.75960612, 1.54333362,\n",
       "       1.46545227, 1.50571806, 1.68633901, 1.87231064, 2.00782516,\n",
       "       2.09466137, 2.20564519, 2.30338711, 2.22738534, 2.03414538,\n",
       "       1.75960612, 1.54333362, 1.46545227, 1.50571806, 1.68633901,\n",
       "       1.87231064, 2.00782516, 2.09466137, 2.20564519, 2.30338711,\n",
       "       2.22738534, 2.03414538, 1.75960612, 1.54333362, 1.46545227,\n",
       "       1.50571806, 1.68633901, 1.87231064, 2.00782516, 2.09466137,\n",
       "       2.20564519, 2.30338711, 2.22738534, 2.03414538, 1.75960612,\n",
       "       1.54333362, 1.46545227, 1.50571806, 1.68633901, 1.87231064,\n",
       "       2.00782516, 2.09466137, 2.20564519, 2.30338711, 2.22738534,\n",
       "       2.03414538, 1.75960612, 1.54333362, 1.46545227, 1.50571806,\n",
       "       1.68633901, 1.87231064, 2.00782516, 2.09466137, 2.20564519,\n",
       "       2.30338711, 2.22738534, 2.03414538, 1.75960612, 1.54333362,\n",
       "       1.46545227, 1.50571806, 1.68633901, 1.87231064, 2.00782516,\n",
       "       2.09466137, 2.20564519, 2.30338711, 2.22738534, 2.03414538,\n",
       "       1.75960612, 1.54333362, 1.46545227, 1.50571806, 1.68633901,\n",
       "       1.87231064, 2.00782516, 2.09466137, 2.20564519, 2.30338711,\n",
       "       2.22738534, 2.03414538, 1.75960612, 1.54333362, 1.46545227,\n",
       "       1.50571806, 1.68633901, 1.87231064, 2.00782516, 2.09466137,\n",
       "       2.20564519, 2.30338711, 2.22738534, 2.03414538, 1.75960612])</pre></div></li><li class='xr-var-item'><div class='xr-var-name'><span>night_lowess_0.15</span></div><div class='xr-var-dims'>(time)</div><div class='xr-var-dtype'>float64</div><div class='xr-var-preview xr-preview'>2.538 2.533 2.785 ... 3.185 2.977</div><input id='attrs-c175b315-c585-46d2-96a0-b0aed3902a0e' class='xr-var-attrs-in' type='checkbox' ><label for='attrs-c175b315-c585-46d2-96a0-b0aed3902a0e' title='Show/Hide attributes'><svg class='icon xr-icon-file-text2'><use xlink:href='#icon-file-text2'></use></svg></label><input id='data-85b8c070-49ac-4ec6-8266-2dcbfcf661e8' class='xr-var-data-in' type='checkbox'><label for='data-85b8c070-49ac-4ec6-8266-2dcbfcf661e8' title='Show/Hide data repr'><svg class='icon xr-icon-database'><use xlink:href='#icon-database'></use></svg></label><div class='xr-var-attrs'><dl class='xr-attrs'><dt><span>units :</span></dt><dd>mg/m3</dd></dl></div><div class='xr-var-data'><pre>array([2.53753752, 2.53309783, 2.78532003, 2.95653335, 3.07331495,\n",
       "       3.17310318, 3.30771167, 3.33732123, 3.27446509, 3.18511431,\n",
       "       2.97686123, 2.60537499, 2.53753752, 2.53309783, 2.78532003,\n",
       "       2.95653335, 3.07331495, 3.17310318, 3.30771167, 3.33732123,\n",
       "       3.27446509, 3.18511431, 2.97686123, 2.60537499, 2.53753752,\n",
       "       2.53309783, 2.78532003, 2.95653335, 3.07331495, 3.17310318,\n",
       "       3.30771167, 3.33732123, 3.27446509, 3.18511431, 2.97686123,\n",
       "       2.60537499, 2.53753752, 2.53309783, 2.78532003, 2.95653335,\n",
       "       3.07331495, 3.17310318, 3.30771167, 3.33732123, 3.27446509,\n",
       "       3.18511431, 2.97686123, 2.60537499, 2.53753752, 2.53309783,\n",
       "       2.78532003, 2.95653335, 3.07331495, 3.17310318, 3.30771167,\n",
       "       3.33732123, 3.27446509, 3.18511431, 2.97686123, 2.60537499,\n",
       "       2.53753752, 2.53309783, 2.78532003, 2.95653335, 3.07331495,\n",
       "       3.17310318, 3.30771167, 3.33732123, 3.27446509, 3.18511431,\n",
       "       2.97686123, 2.60537499, 2.53753752, 2.53309783, 2.78532003,\n",
       "       2.95653335, 3.07331495, 3.17310318, 3.30771167, 3.33732123,\n",
       "       3.27446509, 3.18511431, 2.97686123, 2.60537499, 2.53753752,\n",
       "       2.53309783, 2.78532003, 2.95653335, 3.07331495, 3.17310318,\n",
       "       3.30771167, 3.33732123, 3.27446509, 3.18511431, 2.97686123,\n",
       "       2.60537499, 2.53753752, 2.53309783, 2.78532003, 2.95653335,\n",
       "       3.07331495, 3.17310318, 3.30771167, 3.33732123, 3.27446509,\n",
       "       3.18511431, 2.97686123, 2.60537499, 2.53753752, 2.53309783,\n",
       "       2.78532003, 2.95653335, 3.07331495, 3.17310318, 3.30771167,\n",
       "       3.33732123, 3.27446509, 3.18511431, 2.97686123, 2.60537499,\n",
       "       2.53753752, 2.53309783, 2.78532003, 2.95653335, 3.07331495,\n",
       "       3.17310318, 3.30771167, 3.33732123, 3.27446509, 3.18511431,\n",
       "       2.97686123, 2.60537499, 2.53753752, 2.53309783, 2.78532003,\n",
       "       2.95653335, 3.07331495, 3.17310318, 3.30771167, 3.33732123,\n",
       "       3.27446509, 3.18511431, 2.97686123, 2.60537499, 2.53753752,\n",
       "       2.53309783, 2.78532003, 2.95653335, 3.07331495, 3.17310318,\n",
       "       3.30771167, 3.33732123, 3.27446509, 3.18511431, 2.97686123])</pre></div></li></ul></div></li><li class='xr-section-item'><input id='section-3e8e3b17-4828-4f49-ac9d-f2c2d62a3f0f' class='xr-section-summary-in' type='checkbox'  ><label for='section-3e8e3b17-4828-4f49-ac9d-f2c2d62a3f0f' class='xr-section-summary' >Indexes: <span>(1)</span></label><div class='xr-section-inline-details'></div><div class='xr-section-details'><ul class='xr-var-list'><li class='xr-var-item'><div class='xr-index-name'><div>time</div></div><div class='xr-index-preview'>PandasIndex</div><input type='checkbox' disabled/><label></label><input id='index-42bcd4a4-a48d-4526-a3a7-545eb8b08ba7' class='xr-index-data-in' type='checkbox'/><label for='index-42bcd4a4-a48d-4526-a3a7-545eb8b08ba7' title='Show/Hide index repr'><svg class='icon xr-icon-database'><use xlink:href='#icon-database'></use></svg></label><div class='xr-index-data'><pre>PandasIndex(DatetimeIndex([&#x27;2002-01-31&#x27;, &#x27;2002-02-28&#x27;, &#x27;2002-03-31&#x27;, &#x27;2002-04-30&#x27;,\n",
       "               &#x27;2002-05-31&#x27;, &#x27;2002-06-30&#x27;, &#x27;2002-07-31&#x27;, &#x27;2002-08-31&#x27;,\n",
       "               &#x27;2002-09-30&#x27;, &#x27;2002-10-31&#x27;,\n",
       "               ...\n",
       "               &#x27;2014-02-28&#x27;, &#x27;2014-03-31&#x27;, &#x27;2014-04-30&#x27;, &#x27;2014-05-31&#x27;,\n",
       "               &#x27;2014-06-30&#x27;, &#x27;2014-07-31&#x27;, &#x27;2014-08-31&#x27;, &#x27;2014-09-30&#x27;,\n",
       "               &#x27;2014-10-31&#x27;, &#x27;2014-11-30&#x27;],\n",
       "              dtype=&#x27;datetime64[ns]&#x27;, name=&#x27;time&#x27;, length=155, freq=&#x27;ME&#x27;))</pre></div></li></ul></div></li><li class='xr-section-item'><input id='section-390cb4ad-18cb-4dfc-a4df-611705d7e724' class='xr-section-summary-in' type='checkbox'  checked><label for='section-390cb4ad-18cb-4dfc-a4df-611705d7e724' class='xr-section-summary' >Attributes: <span>(1)</span></label><div class='xr-section-inline-details'></div><div class='xr-section-details'><dl class='xr-attrs'><dt><span>desc :</span></dt><dd>Aggregated and smoothed observations using lowess filtre.</dd></dl></div></li></ul></div></div>"
      ],
      "text/plain": [
       "<xarray.Dataset> Size: 6kB\n",
       "Dimensions:            (time: 155)\n",
       "Coordinates:\n",
       "  * time               (time) datetime64[ns] 1kB 2002-01-31 ... 2014-11-30\n",
       "Data variables:\n",
       "    day                (time) float64 1kB 1.397 1.473 1.671 ... 2.044 1.719\n",
       "    night              (time) float64 1kB 2.237 2.552 2.728 ... 3.276 3.031\n",
       "    day_lowess_0.15    (time) float64 1kB 1.465 1.506 1.686 ... 2.227 2.034 1.76\n",
       "    night_lowess_0.15  (time) float64 1kB 2.538 2.533 2.785 ... 3.185 2.977\n",
       "Attributes:\n",
       "    desc:     Aggregated and smoothed observations using lowess filtre."
      ]
     },
     "execution_count": 28,
     "metadata": {},
     "output_type": "execute_result"
    }
   ],
   "source": [
    "climato_observations = xr.Dataset.from_dataframe(aggregated_smoothed)\n",
    "for var in climato_observations:\n",
    "    climato_observations[var].attrs = {\"units\": \"mg/m3\"}\n",
    "climato_observations.attrs = {\n",
    "    \"desc\": \"Aggregated and smoothed observations using lowess filtre.\",\n",
    "}\n",
    "climato_observations"
   ]
  },
  {
   "cell_type": "markdown",
   "metadata": {},
   "source": [
    "## Plot final results\n"
   ]
  },
  {
   "cell_type": "code",
   "execution_count": 31,
   "metadata": {},
   "outputs": [
    {
     "data": {
      "application/vnd.plotly.v1+json": {
       "config": {
        "plotlyServerURL": "https://plot.ly"
       },
       "data": [
        {
         "mode": "lines",
         "name": "Initial Day Data",
         "type": "scatter",
         "x": [
          "2002-01-15T00:00:00.000000000",
          "2002-01-16T00:00:00.000000000",
          "2002-02-20T00:00:00.000000000",
          "2002-02-21T00:00:00.000000000",
          "2002-03-12T00:00:00.000000000",
          "2002-03-13T00:00:00.000000000",
          "2002-05-20T00:00:00.000000000",
          "2002-05-21T00:00:00.000000000",
          "2002-06-29T00:00:00.000000000",
          "2002-08-27T00:00:00.000000000",
          "2002-08-28T00:00:00.000000000",
          "2002-10-07T00:00:00.000000000",
          "2002-11-03T00:00:00.000000000",
          "2002-12-13T00:00:00.000000000",
          "2002-12-14T00:00:00.000000000",
          "2003-01-16T00:00:00.000000000",
          "2003-01-17T00:00:00.000000000",
          "2003-02-25T00:00:00.000000000",
          "2003-03-27T00:00:00.000000000",
          "2003-03-28T00:00:00.000000000",
          "2003-04-23T00:00:00.000000000",
          "2003-05-20T00:00:00.000000000",
          "2003-05-21T00:00:00.000000000",
          "2003-06-19T00:00:00.000000000",
          "2003-06-20T00:00:00.000000000",
          "2003-07-19T00:00:00.000000000",
          "2003-07-20T00:00:00.000000000",
          "2003-08-20T00:00:00.000000000",
          "2003-08-21T00:00:00.000000000",
          "2003-10-14T00:00:00.000000000",
          "2003-10-15T00:00:00.000000000",
          "2003-11-09T00:00:00.000000000",
          "2003-11-10T00:00:00.000000000",
          "2004-01-21T00:00:00.000000000",
          "2004-02-24T00:00:00.000000000",
          "2004-03-19T00:00:00.000000000",
          "2004-03-20T00:00:00.000000000",
          "2004-04-20T00:00:00.000000000",
          "2004-04-21T00:00:00.000000000",
          "2004-05-18T00:00:00.000000000",
          "2004-05-19T00:00:00.000000000",
          "2004-06-15T00:00:00.000000000",
          "2004-06-16T00:00:00.000000000",
          "2004-08-15T00:00:00.000000000",
          "2004-08-16T00:00:00.000000000",
          "2004-09-28T00:00:00.000000000",
          "2004-10-30T00:00:00.000000000",
          "2004-10-31T00:00:00.000000000",
          "2004-11-28T00:00:00.000000000",
          "2004-12-20T00:00:00.000000000",
          "2004-12-21T00:00:00.000000000",
          "2005-02-02T00:00:00.000000000",
          "2005-02-04T00:00:00.000000000",
          "2005-03-04T00:00:00.000000000",
          "2005-03-05T00:00:00.000000000",
          "2005-06-14T00:00:00.000000000",
          "2005-06-15T00:00:00.000000000",
          "2005-07-16T00:00:00.000000000",
          "2005-07-17T00:00:00.000000000",
          "2005-08-13T00:00:00.000000000",
          "2005-08-14T00:00:00.000000000",
          "2005-10-10T00:00:00.000000000",
          "2005-11-12T00:00:00.000000000",
          "2005-11-13T00:00:00.000000000",
          "2005-12-13T00:00:00.000000000",
          "2005-12-14T00:00:00.000000000",
          "2006-02-15T00:00:00.000000000",
          "2006-02-16T00:00:00.000000000",
          "2006-03-10T00:00:00.000000000",
          "2006-03-11T00:00:00.000000000",
          "2006-04-02T00:00:00.000000000",
          "2006-04-03T00:00:00.000000000",
          "2006-06-14T00:00:00.000000000",
          "2006-06-15T00:00:00.000000000",
          "2006-07-13T00:00:00.000000000",
          "2006-09-16T00:00:00.000000000",
          "2006-09-17T00:00:00.000000000",
          "2006-10-20T00:00:00.000000000",
          "2006-10-21T00:00:00.000000000",
          "2006-10-22T00:00:00.000000000",
          "2006-11-09T00:00:00.000000000",
          "2006-11-10T00:00:00.000000000",
          "2006-12-10T00:00:00.000000000",
          "2006-12-11T00:00:00.000000000",
          "2007-02-07T00:00:00.000000000",
          "2007-02-09T00:00:00.000000000",
          "2007-03-21T00:00:00.000000000",
          "2007-03-22T00:00:00.000000000",
          "2007-05-06T00:00:00.000000000",
          "2007-06-10T00:00:00.000000000",
          "2007-06-11T00:00:00.000000000",
          "2007-07-08T00:00:00.000000000",
          "2007-07-09T00:00:00.000000000",
          "2007-08-04T00:00:00.000000000",
          "2007-09-03T00:00:00.000000000",
          "2007-09-04T00:00:00.000000000",
          "2007-10-03T00:00:00.000000000",
          "2007-10-04T00:00:00.000000000",
          "2007-12-02T00:00:00.000000000",
          "2007-12-03T00:00:00.000000000",
          "2007-12-22T00:00:00.000000000",
          "2008-01-30T00:00:00.000000000",
          "2008-01-31T00:00:00.000000000",
          "2008-02-24T00:00:00.000000000",
          "2008-02-25T00:00:00.000000000",
          "2008-05-28T00:00:00.000000000",
          "2008-06-26T00:00:00.000000000",
          "2008-07-27T00:00:00.000000000",
          "2008-08-16T00:00:00.000000000",
          "2008-08-17T00:00:00.000000000",
          "2008-10-10T00:00:00.000000000",
          "2008-11-30T00:00:00.000000000",
          "2008-12-01T00:00:00.000000000",
          "2009-01-21T00:00:00.000000000",
          "2009-02-18T00:00:00.000000000",
          "2009-04-28T00:00:00.000000000",
          "2009-04-29T00:00:00.000000000",
          "2009-05-27T00:00:00.000000000",
          "2009-07-03T00:00:00.000000000",
          "2009-07-04T00:00:00.000000000",
          "2009-07-24T00:00:00.000000000",
          "2009-09-24T00:00:00.000000000",
          "2009-09-25T00:00:00.000000000",
          "2009-11-03T00:00:00.000000000",
          "2009-12-09T00:00:00.000000000",
          "2009-12-10T00:00:00.000000000",
          "2010-04-06T00:00:00.000000000",
          "2010-04-07T00:00:00.000000000",
          "2010-05-17T00:00:00.000000000",
          "2010-05-18T00:00:00.000000000",
          "2010-06-07T00:00:00.000000000",
          "2010-06-08T00:00:00.000000000",
          "2010-07-07T00:00:00.000000000",
          "2010-07-08T00:00:00.000000000",
          "2010-08-06T00:00:00.000000000",
          "2010-09-02T00:00:00.000000000",
          "2010-09-03T00:00:00.000000000",
          "2010-10-01T00:00:00.000000000",
          "2010-10-03T00:00:00.000000000",
          "2010-11-20T00:00:00.000000000",
          "2011-01-08T00:00:00.000000000",
          "2011-01-27T00:00:00.000000000",
          "2011-01-28T00:00:00.000000000",
          "2011-02-27T00:00:00.000000000",
          "2011-02-28T00:00:00.000000000",
          "2011-04-10T00:00:00.000000000",
          "2011-04-11T00:00:00.000000000",
          "2011-05-08T00:00:00.000000000",
          "2011-05-09T00:00:00.000000000",
          "2011-07-18T00:00:00.000000000",
          "2011-07-19T00:00:00.000000000",
          "2011-11-03T00:00:00.000000000",
          "2011-11-28T00:00:00.000000000",
          "2011-12-18T00:00:00.000000000",
          "2011-12-19T00:00:00.000000000",
          "2012-01-17T00:00:00.000000000",
          "2012-01-18T00:00:00.000000000",
          "2012-03-23T00:00:00.000000000",
          "2012-05-01T00:00:00.000000000",
          "2012-05-29T00:00:00.000000000",
          "2012-05-30T00:00:00.000000000",
          "2012-06-25T00:00:00.000000000",
          "2012-06-26T00:00:00.000000000",
          "2012-07-30T00:00:00.000000000",
          "2012-07-31T00:00:00.000000000",
          "2012-08-16T00:00:00.000000000",
          "2012-08-17T00:00:00.000000000",
          "2012-09-13T00:00:00.000000000",
          "2012-09-14T00:00:00.000000000",
          "2012-10-07T00:00:00.000000000",
          "2012-10-08T00:00:00.000000000",
          "2012-12-03T00:00:00.000000000",
          "2012-12-04T00:00:00.000000000",
          "2013-02-12T00:00:00.000000000",
          "2013-02-13T00:00:00.000000000",
          "2013-03-06T00:00:00.000000000",
          "2013-03-07T00:00:00.000000000",
          "2013-04-05T00:00:00.000000000",
          "2013-04-06T00:00:00.000000000",
          "2013-05-18T00:00:00.000000000",
          "2013-09-11T00:00:00.000000000",
          "2013-09-12T00:00:00.000000000",
          "2013-10-01T00:00:00.000000000",
          "2013-10-02T00:00:00.000000000",
          "2013-10-27T00:00:00.000000000",
          "2013-11-26T00:00:00.000000000",
          "2013-11-27T00:00:00.000000000",
          "2013-12-20T00:00:00.000000000",
          "2013-12-21T00:00:00.000000000",
          "2014-01-16T00:00:00.000000000",
          "2014-02-14T00:00:00.000000000",
          "2014-02-15T00:00:00.000000000",
          "2014-03-05T00:00:00.000000000",
          "2014-03-06T00:00:00.000000000",
          "2014-04-10T00:00:00.000000000",
          "2014-04-11T00:00:00.000000000",
          "2014-05-31T00:00:00.000000000",
          "2014-06-01T00:00:00.000000000",
          "2014-06-30T00:00:00.000000000",
          "2014-07-01T00:00:00.000000000",
          "2014-09-14T00:00:00.000000000",
          "2014-09-15T00:00:00.000000000",
          "2014-10-13T00:00:00.000000000",
          "2014-10-14T00:00:00.000000000",
          "2014-11-21T00:00:00.000000000",
          "2014-11-22T00:00:00.000000000",
          "2014-12-16T00:00:00.000000000",
          "2014-12-17T00:00:00.000000000"
         ],
         "xaxis": "x",
         "y": [
          1.0334126072932042,
          1.1727272727272728,
          1.1715909090909091,
          1.4792356687898092,
          1.3090092514718252,
          1.3081481481481483,
          2.136994598133901,
          2.1612500000000003,
          3.542451756556161,
          1.9665802197802198,
          2.873563218390805,
          2.096304347826087,
          2.0266159362714955,
          1.4798063200815497,
          1.6062500000000002,
          1.9072126878920586,
          1.212289156626506,
          1.8202368862870903,
          1.6792546583850934,
          1.584049450549451,
          2.0041173417892537,
          1.3769645262685228,
          1.52,
          1.7490400344382266,
          1.764102564102564,
          2.7828129146395404,
          2.717142857142857,
          2.3777214454096294,
          2.1651685393258426,
          2.4255800634625806,
          3.0015873015873016,
          2.4302445652173916,
          1.437979797979798,
          1.7374375332270071,
          2.0084498850130257,
          1.577052883630807,
          1.8658604651162791,
          2.666931557528672,
          1.9035897435897438,
          2.2411518915866746,
          2.2727093596059116,
          2.7484535786145443,
          2.1691005291005294,
          2.0394749111476282,
          2.290306748466258,
          3.2573778843272403,
          2.6146545454545453,
          1.601780772686433,
          1.231055900621118,
          1.6344838606583576,
          1.3810650887573965,
          1.1399733510992671,
          1.0285416666666665,
          1.7937822947678201,
          1.680658436213992,
          2.1159777051194837,
          2.5946391752577322,
          2.4575221238938054,
          2.656805960264901,
          3.2485106382978723,
          2.887963622956864,
          2.2416470588235295,
          2.5577600000000005,
          2.352641577060932,
          1.70183799675588,
          1.5950967741935487,
          1.8863013698630138,
          1.4917808219178084,
          1.798428171641791,
          1.6351612903225807,
          1.4539357168652944,
          1.5162500000000003,
          2.0559657142857146,
          1.6611428571428573,
          1.8324883116883115,
          1.8462702702702705,
          2.541333333333334,
          0.9583050847457628,
          1.8816,
          2.16260162601626,
          1.1146236559139786,
          1.4860214646464647,
          0.9614003496503498,
          1.0230051813471503,
          2.4407865168539327,
          3.1865168539325848,
          1.5325607725607726,
          2.142105263157895,
          2.33772972972973,
          2.673874698795181,
          2.140487804878049,
          2.1620716981132078,
          2.618064516129033,
          3.327819999999999,
          2.978175032175032,
          3.5334400000000006,
          1.4060744680851063,
          2.068930817610063,
          1.2795000000000003,
          1.2846258503401362,
          1.8794871794871797,
          1.489069758080747,
          0.9905555555555557,
          0.9610744360902257,
          1.1205063291139241,
          1.9679648816664852,
          3.0397101700798337,
          3.0352173913043483,
          2.2686361746361743,
          2.3184732824427483,
          2.095381239202503,
          1.44775,
          2.067286157611784,
          0.4243835616438356,
          1.4525960061443932,
          1.5753686293913904,
          1.0987906976744186,
          3.0553896103896108,
          0.9920675105485233,
          1.00975,
          1.4890526315789474,
          2.8259770366320396,
          1.4323255813953488,
          0.8852380952380952,
          1.7418643738463038,
          1.876078431372549,
          1.549264705882353,
          1.6234285714285717,
          2.313723463910919,
          1.0745341614906834,
          1.423242207316386,
          1.3221556886227546,
          2.1593548387096777,
          1.835441860465116,
          1.7880794701986755,
          3.028623475368288,
          1.6405333333333336,
          1.2588429752066117,
          1.9814634146341465,
          1.626067377901227,
          0.904391129032258,
          2.088944444444445,
          2.6726666666666667,
          1.5008743169398908,
          0.9897142857142859,
          1.899714285714286,
          2.249142857142857,
          1.0424,
          2.094700854700855,
          1.8959434983197587,
          2.8722651933701657,
          2.040692640692641,
          1.9805464480874317,
          1.8179787234042555,
          1.4895918367346939,
          1.383421052631579,
          1.6118060116190958,
          1.4492665130568358,
          2.0682474226804124,
          2.4701604278074867,
          2.830541180449856,
          1.6664840182648402,
          1.704494452183102,
          2.017413793103448,
          2.724622222222222,
          1.69396449704142,
          1.5848998269992747,
          1.479277108433735,
          2.291285829307568,
          2.0193220338983053,
          1.5429626884111687,
          1.8081632653061224,
          1.2351912252850337,
          1.156121212121212,
          1.1688225371120107,
          0.7401834862385321,
          3.2137747899159663,
          1.6952000000000003,
          2.741722222222222,
          1.407833947104118,
          1.808457142857143,
          2.0939067669172933,
          1.610485436893204,
          2.843014575186633,
          2.4425142857142856,
          1.2444670050761424,
          1.5014097669382873,
          1.1889473684210525,
          1.4608178037540744,
          0.9354472691993915,
          1.08972972972973,
          0.887153866248694,
          1.647924528301887,
          1.4520005751533744,
          2.095652173913044,
          2.8319012624835125,
          1.8221818181818183,
          1.5459748508098894,
          1.5853061224489797,
          2.254048917748918,
          1.7007894736842104,
          2.3920079739035884,
          2.3549514563106797,
          2.3168627450980392,
          2.1382716049382715,
          1.7179350438817154,
          1.1775438596491228,
          1.9347620827770364
         ],
         "yaxis": "y"
        },
        {
         "mode": "lines",
         "name": "Initial Night Data",
         "type": "scatter",
         "x": [
          "2002-01-15T00:00:00.000000000",
          "2002-01-16T00:00:00.000000000",
          "2002-02-20T00:00:00.000000000",
          "2002-02-21T00:00:00.000000000",
          "2002-03-12T00:00:00.000000000",
          "2002-03-13T00:00:00.000000000",
          "2002-05-20T00:00:00.000000000",
          "2002-05-21T00:00:00.000000000",
          "2002-06-29T00:00:00.000000000",
          "2002-06-30T00:00:00.000000000",
          "2002-08-27T00:00:00.000000000",
          "2002-08-28T00:00:00.000000000",
          "2002-10-07T00:00:00.000000000",
          "2002-11-03T00:00:00.000000000",
          "2002-12-12T00:00:00.000000000",
          "2002-12-13T00:00:00.000000000",
          "2003-01-16T00:00:00.000000000",
          "2003-01-17T00:00:00.000000000",
          "2003-02-24T00:00:00.000000000",
          "2003-02-25T00:00:00.000000000",
          "2003-03-27T00:00:00.000000000",
          "2003-03-28T00:00:00.000000000",
          "2003-04-23T00:00:00.000000000",
          "2003-04-24T00:00:00.000000000",
          "2003-05-20T00:00:00.000000000",
          "2003-05-21T00:00:00.000000000",
          "2003-06-19T00:00:00.000000000",
          "2003-06-20T00:00:00.000000000",
          "2003-07-19T00:00:00.000000000",
          "2003-08-20T00:00:00.000000000",
          "2003-08-21T00:00:00.000000000",
          "2003-10-14T00:00:00.000000000",
          "2003-10-15T00:00:00.000000000",
          "2003-11-08T00:00:00.000000000",
          "2003-11-09T00:00:00.000000000",
          "2003-11-10T00:00:00.000000000",
          "2004-01-21T00:00:00.000000000",
          "2004-01-22T00:00:00.000000000",
          "2004-02-24T00:00:00.000000000",
          "2004-03-19T00:00:00.000000000",
          "2004-03-20T00:00:00.000000000",
          "2004-04-20T00:00:00.000000000",
          "2004-04-21T00:00:00.000000000",
          "2004-05-18T00:00:00.000000000",
          "2004-06-15T00:00:00.000000000",
          "2004-06-16T00:00:00.000000000",
          "2004-08-15T00:00:00.000000000",
          "2004-08-16T00:00:00.000000000",
          "2004-08-17T00:00:00.000000000",
          "2004-09-28T00:00:00.000000000",
          "2004-10-30T00:00:00.000000000",
          "2004-10-31T00:00:00.000000000",
          "2004-11-28T00:00:00.000000000",
          "2004-12-19T00:00:00.000000000",
          "2004-12-20T00:00:00.000000000",
          "2004-12-21T00:00:00.000000000",
          "2005-02-01T00:00:00.000000000",
          "2005-02-02T00:00:00.000000000",
          "2005-03-04T00:00:00.000000000",
          "2005-03-05T00:00:00.000000000",
          "2005-06-14T00:00:00.000000000",
          "2005-07-16T00:00:00.000000000",
          "2005-07-17T00:00:00.000000000",
          "2005-07-18T00:00:00.000000000",
          "2005-08-13T00:00:00.000000000",
          "2005-08-14T00:00:00.000000000",
          "2005-10-10T00:00:00.000000000",
          "2005-11-12T00:00:00.000000000",
          "2005-11-13T00:00:00.000000000",
          "2005-12-13T00:00:00.000000000",
          "2005-12-14T00:00:00.000000000",
          "2006-02-15T00:00:00.000000000",
          "2006-02-16T00:00:00.000000000",
          "2006-03-10T00:00:00.000000000",
          "2006-03-11T00:00:00.000000000",
          "2006-03-12T00:00:00.000000000",
          "2006-04-02T00:00:00.000000000",
          "2006-04-03T00:00:00.000000000",
          "2006-06-14T00:00:00.000000000",
          "2006-06-15T00:00:00.000000000",
          "2006-08-09T00:00:00.000000000",
          "2006-08-10T00:00:00.000000000",
          "2006-09-16T00:00:00.000000000",
          "2006-09-17T00:00:00.000000000",
          "2006-10-21T00:00:00.000000000",
          "2006-10-22T00:00:00.000000000",
          "2006-11-09T00:00:00.000000000",
          "2006-11-10T00:00:00.000000000",
          "2006-12-10T00:00:00.000000000",
          "2006-12-11T00:00:00.000000000",
          "2007-02-07T00:00:00.000000000",
          "2007-02-08T00:00:00.000000000",
          "2007-03-21T00:00:00.000000000",
          "2007-03-22T00:00:00.000000000",
          "2007-05-05T00:00:00.000000000",
          "2007-05-06T00:00:00.000000000",
          "2007-06-10T00:00:00.000000000",
          "2007-06-11T00:00:00.000000000",
          "2007-07-08T00:00:00.000000000",
          "2007-07-09T00:00:00.000000000",
          "2007-09-03T00:00:00.000000000",
          "2007-10-03T00:00:00.000000000",
          "2007-10-04T00:00:00.000000000",
          "2007-12-02T00:00:00.000000000",
          "2007-12-03T00:00:00.000000000",
          "2007-12-22T00:00:00.000000000",
          "2008-01-30T00:00:00.000000000",
          "2008-01-31T00:00:00.000000000",
          "2008-02-24T00:00:00.000000000",
          "2008-02-25T00:00:00.000000000",
          "2008-05-28T00:00:00.000000000",
          "2008-06-26T00:00:00.000000000",
          "2008-08-16T00:00:00.000000000",
          "2008-08-17T00:00:00.000000000",
          "2008-10-10T00:00:00.000000000",
          "2008-11-30T00:00:00.000000000",
          "2008-12-01T00:00:00.000000000",
          "2009-01-21T00:00:00.000000000",
          "2009-02-18T00:00:00.000000000",
          "2009-04-28T00:00:00.000000000",
          "2009-04-29T00:00:00.000000000",
          "2009-05-27T00:00:00.000000000",
          "2009-05-28T00:00:00.000000000",
          "2009-07-03T00:00:00.000000000",
          "2009-07-04T00:00:00.000000000",
          "2009-09-24T00:00:00.000000000",
          "2009-09-25T00:00:00.000000000",
          "2009-11-03T00:00:00.000000000",
          "2009-12-10T00:00:00.000000000",
          "2010-04-06T00:00:00.000000000",
          "2010-04-07T00:00:00.000000000",
          "2010-05-17T00:00:00.000000000",
          "2010-05-18T00:00:00.000000000",
          "2010-06-07T00:00:00.000000000",
          "2010-06-08T00:00:00.000000000",
          "2010-07-07T00:00:00.000000000",
          "2010-07-08T00:00:00.000000000",
          "2010-08-06T00:00:00.000000000",
          "2010-08-07T00:00:00.000000000",
          "2010-09-03T00:00:00.000000000",
          "2010-10-03T00:00:00.000000000",
          "2010-11-19T00:00:00.000000000",
          "2010-11-20T00:00:00.000000000",
          "2011-01-28T00:00:00.000000000",
          "2011-02-27T00:00:00.000000000",
          "2011-02-28T00:00:00.000000000",
          "2011-04-10T00:00:00.000000000",
          "2011-04-11T00:00:00.000000000",
          "2011-05-08T00:00:00.000000000",
          "2011-05-09T00:00:00.000000000",
          "2011-07-19T00:00:00.000000000",
          "2011-08-29T00:00:00.000000000",
          "2011-11-03T00:00:00.000000000",
          "2011-11-28T00:00:00.000000000",
          "2011-12-18T00:00:00.000000000",
          "2011-12-19T00:00:00.000000000",
          "2012-01-17T00:00:00.000000000",
          "2012-01-18T00:00:00.000000000",
          "2012-03-23T00:00:00.000000000",
          "2012-03-24T00:00:00.000000000",
          "2012-05-01T00:00:00.000000000",
          "2012-05-29T00:00:00.000000000",
          "2012-05-30T00:00:00.000000000",
          "2012-06-25T00:00:00.000000000",
          "2012-06-26T00:00:00.000000000",
          "2012-07-30T00:00:00.000000000",
          "2012-07-31T00:00:00.000000000",
          "2012-08-16T00:00:00.000000000",
          "2012-08-17T00:00:00.000000000",
          "2012-09-13T00:00:00.000000000",
          "2012-09-14T00:00:00.000000000",
          "2012-10-07T00:00:00.000000000",
          "2012-10-08T00:00:00.000000000",
          "2012-12-04T00:00:00.000000000",
          "2013-02-12T00:00:00.000000000",
          "2013-02-13T00:00:00.000000000",
          "2013-03-06T00:00:00.000000000",
          "2013-03-07T00:00:00.000000000",
          "2013-04-05T00:00:00.000000000",
          "2013-04-06T00:00:00.000000000",
          "2013-05-18T00:00:00.000000000",
          "2013-06-26T00:00:00.000000000",
          "2013-09-11T00:00:00.000000000",
          "2013-09-12T00:00:00.000000000",
          "2013-10-01T00:00:00.000000000",
          "2013-10-02T00:00:00.000000000",
          "2013-10-27T00:00:00.000000000",
          "2013-10-28T00:00:00.000000000",
          "2013-11-26T00:00:00.000000000",
          "2013-11-27T00:00:00.000000000",
          "2013-12-20T00:00:00.000000000",
          "2013-12-21T00:00:00.000000000",
          "2014-01-16T00:00:00.000000000",
          "2014-02-15T00:00:00.000000000",
          "2014-03-05T00:00:00.000000000",
          "2014-03-06T00:00:00.000000000",
          "2014-04-10T00:00:00.000000000",
          "2014-04-11T00:00:00.000000000",
          "2014-05-31T00:00:00.000000000",
          "2014-06-01T00:00:00.000000000",
          "2014-06-30T00:00:00.000000000",
          "2014-07-01T00:00:00.000000000",
          "2014-09-14T00:00:00.000000000",
          "2014-09-15T00:00:00.000000000",
          "2014-10-13T00:00:00.000000000",
          "2014-11-21T00:00:00.000000000",
          "2014-11-22T00:00:00.000000000",
          "2014-12-16T00:00:00.000000000",
          "2014-12-17T00:00:00.000000000"
         ],
         "xaxis": "x2",
         "y": [
          2.419150371484571,
          1.6063589743589741,
          1.744065934065934,
          2.645769230769231,
          2.1234092003853564,
          1.74,
          3.204970161977835,
          3.127735849056604,
          3.703956043956044,
          2.688958333333334,
          3.560793471234648,
          3.880000000000001,
          3.6936956521739135,
          2.7709775018670655,
          1.866865671641791,
          2.368411241283779,
          2.289423076923077,
          2.4941492429704404,
          2.8620095693779906,
          3.0310774094326725,
          2.3263502304147465,
          2.378507462686567,
          3.2594264660012477,
          3.330892018779343,
          2.967586206896552,
          2.378456212133134,
          2.1949938304248193,
          2.006603773584906,
          3.0706297460343137,
          2.8162162162162163,
          3.4103127199597796,
          3.2651733780760623,
          3.104695652173913,
          2.595959595959596,
          3.316022099447514,
          2.3412440191387556,
          3.1644059817225147,
          2.4766,
          2.520447263049659,
          2.6875059964634,
          2.672786885245902,
          4.58208695652174,
          2.9938383495018694,
          3.3985026737967923,
          3.8064199834162524,
          4.126756756756757,
          2.9248076923076924,
          3.123,
          3.104578313253012,
          3.402684063373718,
          3.267412587412588,
          2.4832414215686276,
          2.4581502890173414,
          2.596028368794327,
          2.789090909090909,
          2.8222516556291395,
          2.289701863354037,
          2.7374149659863947,
          3.047576570491171,
          3.2236871508379887,
          2.914965440356745,
          3.096132596685083,
          3.4316022099447516,
          3.1267532467532475,
          4.311954022988506,
          4.567317298797409,
          2.3108235294117647,
          3.78144,
          2.918328888888889,
          2.5228387096774196,
          2.482322580645161,
          2.4487671232876718,
          2.812328767123288,
          3.3943225806451616,
          2.7112258064516133,
          2.10141935483871,
          3.712248062015504,
          2.734321226795803,
          3.222933333333333,
          2.8285344129554657,
          2.437263157894737,
          4.880695652173913,
          2.1654736842105264,
          3.0659037101471203,
          2.3703518229536105,
          3.2960000000000003,
          2.9853658536585366,
          2.630945664739885,
          2.0131428571428573,
          1.7649330607399591,
          3.436179775280899,
          3.8597752808988766,
          3.6644067796610167,
          2.757668393782384,
          3.921129943502825,
          4.262232854864434,
          3.4582500000000005,
          3.4044444444444446,
          3.697402597402598,
          4.061613495200452,
          5.066440677966103,
          3.3020000000000005,
          2.914884803921569,
          2.2375129533678755,
          2.3205263157894733,
          2.2551816824290696,
          1.8646551724137934,
          2.219691681210006,
          1.8256000000000001,
          2.4334843462246782,
          2.909,
          3.746272189349112,
          3.207314285714286,
          2.5432024922118384,
          2.778571428571429,
          4.391000000000001,
          4.376681811297895,
          1.2656252123683318,
          1.8025485202423817,
          1.9565217391304346,
          1.9955087868782622,
          4.334179894179894,
          3.63826636108989,
          2.008774193548387,
          3.691963235294118,
          3.318896551724139,
          2.0417585589171976,
          2.26,
          2.7730239585581704,
          4.055035460992907,
          1.9325396825396828,
          2.3473267326732676,
          1.5000336448598135,
          1.9008108108108108,
          1.3314969325153376,
          2.3215584415584423,
          2.559304347826087,
          3.3523178807947023,
          3.267417218543047,
          2.7253781512605046,
          2.054067484662577,
          1.9378000000000002,
          2.022603249830738,
          2.7227689393939394,
          1.7655555555555553,
          3.1711428571428573,
          2.8911999999999995,
          3.740837352692556,
          2.655087719298246,
          2.3051063829787233,
          5.245716981132077,
          4.274933333333333,
          3.5552432432432433,
          3.996521739130436,
          4.205028571428572,
          4.299891891891892,
          2.1252083333333336,
          2.5882205588822353,
          2.350303225115183,
          2.4459340659340665,
          3.178396624472574,
          3.8548646644419726,
          3.0435874439461883,
          3.057769854929924,
          3.849500000000001,
          3.2999269005847953,
          4.136041666666666,
          2.606039304610733,
          2.29025,
          2.3666496598639455,
          2.7138271604938273,
          3.1795817610062898,
          3.304225352112676,
          1.839882386104064,
          2.6019421465260884,
          2.4807894736842107,
          3.3732751649287085,
          3.2227692307692304,
          2.0139886363636363,
          3.435862068965518,
          2.1138650306748468,
          5.24180790960452,
          4.299314285714286,
          3.7642105263157895,
          3.510149417710393,
          4.919526627218936,
          4.567403100775194,
          4.617657657657658,
          3.324966856060607,
          4.279310344827587,
          1.4917509157509157,
          3.375526315789474,
          1.846301369863014,
          2.013169312169312,
          2.47968,
          3.129655172413793,
          3.6098189005331864,
          3.795263157894737,
          2.325075268059933,
          2.7266666666666666,
          2.9645838936202003,
          4.060533333333334,
          3.977565780504431,
          2.8800000000000003,
          3.2981565217391307,
          3.2330339037778497,
          2.7956476683937823,
          2.1204604980678403,
          1.9706666666666663
         ],
         "yaxis": "y2"
        },
        {
         "mode": "lines",
         "name": "day",
         "type": "scatter",
         "x": [
          "2002-01-31T00:00:00",
          "2002-02-28T00:00:00",
          "2002-03-31T00:00:00",
          "2002-04-30T00:00:00",
          "2002-05-31T00:00:00",
          "2002-06-30T00:00:00",
          "2002-07-31T00:00:00",
          "2002-08-31T00:00:00",
          "2002-09-30T00:00:00",
          "2002-10-31T00:00:00",
          "2002-11-30T00:00:00",
          "2002-12-31T00:00:00",
          "2003-01-31T00:00:00",
          "2003-02-28T00:00:00",
          "2003-03-31T00:00:00",
          "2003-04-30T00:00:00",
          "2003-05-31T00:00:00",
          "2003-06-30T00:00:00",
          "2003-07-31T00:00:00",
          "2003-08-31T00:00:00",
          "2003-09-30T00:00:00",
          "2003-10-31T00:00:00",
          "2003-11-30T00:00:00",
          "2003-12-31T00:00:00",
          "2004-01-31T00:00:00",
          "2004-02-29T00:00:00",
          "2004-03-31T00:00:00",
          "2004-04-30T00:00:00",
          "2004-05-31T00:00:00",
          "2004-06-30T00:00:00",
          "2004-07-31T00:00:00",
          "2004-08-31T00:00:00",
          "2004-09-30T00:00:00",
          "2004-10-31T00:00:00",
          "2004-11-30T00:00:00",
          "2004-12-31T00:00:00",
          "2005-01-31T00:00:00",
          "2005-02-28T00:00:00",
          "2005-03-31T00:00:00",
          "2005-04-30T00:00:00",
          "2005-05-31T00:00:00",
          "2005-06-30T00:00:00",
          "2005-07-31T00:00:00",
          "2005-08-31T00:00:00",
          "2005-09-30T00:00:00",
          "2005-10-31T00:00:00",
          "2005-11-30T00:00:00",
          "2005-12-31T00:00:00",
          "2006-01-31T00:00:00",
          "2006-02-28T00:00:00",
          "2006-03-31T00:00:00",
          "2006-04-30T00:00:00",
          "2006-05-31T00:00:00",
          "2006-06-30T00:00:00",
          "2006-07-31T00:00:00",
          "2006-08-31T00:00:00",
          "2006-09-30T00:00:00",
          "2006-10-31T00:00:00",
          "2006-11-30T00:00:00",
          "2006-12-31T00:00:00",
          "2007-01-31T00:00:00",
          "2007-02-28T00:00:00",
          "2007-03-31T00:00:00",
          "2007-04-30T00:00:00",
          "2007-05-31T00:00:00",
          "2007-06-30T00:00:00",
          "2007-07-31T00:00:00",
          "2007-08-31T00:00:00",
          "2007-09-30T00:00:00",
          "2007-10-31T00:00:00",
          "2007-11-30T00:00:00",
          "2007-12-31T00:00:00",
          "2008-01-31T00:00:00",
          "2008-02-29T00:00:00",
          "2008-03-31T00:00:00",
          "2008-04-30T00:00:00",
          "2008-05-31T00:00:00",
          "2008-06-30T00:00:00",
          "2008-07-31T00:00:00",
          "2008-08-31T00:00:00",
          "2008-09-30T00:00:00",
          "2008-10-31T00:00:00",
          "2008-11-30T00:00:00",
          "2008-12-31T00:00:00",
          "2009-01-31T00:00:00",
          "2009-02-28T00:00:00",
          "2009-03-31T00:00:00",
          "2009-04-30T00:00:00",
          "2009-05-31T00:00:00",
          "2009-06-30T00:00:00",
          "2009-07-31T00:00:00",
          "2009-08-31T00:00:00",
          "2009-09-30T00:00:00",
          "2009-10-31T00:00:00",
          "2009-11-30T00:00:00",
          "2009-12-31T00:00:00",
          "2010-01-31T00:00:00",
          "2010-02-28T00:00:00",
          "2010-03-31T00:00:00",
          "2010-04-30T00:00:00",
          "2010-05-31T00:00:00",
          "2010-06-30T00:00:00",
          "2010-07-31T00:00:00",
          "2010-08-31T00:00:00",
          "2010-09-30T00:00:00",
          "2010-10-31T00:00:00",
          "2010-11-30T00:00:00",
          "2010-12-31T00:00:00",
          "2011-01-31T00:00:00",
          "2011-02-28T00:00:00",
          "2011-03-31T00:00:00",
          "2011-04-30T00:00:00",
          "2011-05-31T00:00:00",
          "2011-06-30T00:00:00",
          "2011-07-31T00:00:00",
          "2011-08-31T00:00:00",
          "2011-09-30T00:00:00",
          "2011-10-31T00:00:00",
          "2011-11-30T00:00:00",
          "2011-12-31T00:00:00",
          "2012-01-31T00:00:00",
          "2012-02-29T00:00:00",
          "2012-03-31T00:00:00",
          "2012-04-30T00:00:00",
          "2012-05-31T00:00:00",
          "2012-06-30T00:00:00",
          "2012-07-31T00:00:00",
          "2012-08-31T00:00:00",
          "2012-09-30T00:00:00",
          "2012-10-31T00:00:00",
          "2012-11-30T00:00:00",
          "2012-12-31T00:00:00",
          "2013-01-31T00:00:00",
          "2013-02-28T00:00:00",
          "2013-03-31T00:00:00",
          "2013-04-30T00:00:00",
          "2013-05-31T00:00:00",
          "2013-06-30T00:00:00",
          "2013-07-31T00:00:00",
          "2013-08-31T00:00:00",
          "2013-09-30T00:00:00",
          "2013-10-31T00:00:00",
          "2013-11-30T00:00:00",
          "2013-12-31T00:00:00",
          "2014-01-31T00:00:00",
          "2014-02-28T00:00:00",
          "2014-03-31T00:00:00",
          "2014-04-30T00:00:00",
          "2014-05-31T00:00:00",
          "2014-06-30T00:00:00",
          "2014-07-31T00:00:00",
          "2014-08-31T00:00:00",
          "2014-09-30T00:00:00",
          "2014-10-31T00:00:00",
          "2014-11-30T00:00:00"
         ],
         "xaxis": "x",
         "y": [
          1.3974117647599726,
          1.4726319288804461,
          1.6711306458019441,
          1.9270006510417081,
          2.0108043263170545,
          2.083477996000935,
          2.1951159021801545,
          2.345083042506672,
          2.323318682795895,
          2.044041282707298,
          1.7187835812038232,
          1.528399260428799,
          1.3974117647599726,
          1.4726319288804461,
          1.6711306458019441,
          1.9270006510417081,
          2.0108043263170545,
          2.083477996000935,
          2.1951159021801545,
          2.345083042506672,
          2.323318682795895,
          2.044041282707298,
          1.7187835812038232,
          1.528399260428799,
          1.3974117647599726,
          1.4726319288804461,
          1.6711306458019441,
          1.9270006510417081,
          2.0108043263170545,
          2.083477996000935,
          2.1951159021801545,
          2.345083042506672,
          2.323318682795895,
          2.044041282707298,
          1.7187835812038232,
          1.528399260428799,
          1.3974117647599726,
          1.4726319288804461,
          1.6711306458019441,
          1.9270006510417081,
          2.0108043263170545,
          2.083477996000935,
          2.1951159021801545,
          2.345083042506672,
          2.323318682795895,
          2.044041282707298,
          1.7187835812038232,
          1.528399260428799,
          1.3974117647599726,
          1.4726319288804461,
          1.6711306458019441,
          1.9270006510417081,
          2.0108043263170545,
          2.083477996000935,
          2.1951159021801545,
          2.345083042506672,
          2.323318682795895,
          2.044041282707298,
          1.7187835812038232,
          1.528399260428799,
          1.3974117647599726,
          1.4726319288804461,
          1.6711306458019441,
          1.9270006510417081,
          2.0108043263170545,
          2.083477996000935,
          2.1951159021801545,
          2.345083042506672,
          2.323318682795895,
          2.044041282707298,
          1.7187835812038232,
          1.528399260428799,
          1.3974117647599726,
          1.4726319288804461,
          1.6711306458019441,
          1.9270006510417081,
          2.0108043263170545,
          2.083477996000935,
          2.1951159021801545,
          2.345083042506672,
          2.323318682795895,
          2.044041282707298,
          1.7187835812038232,
          1.528399260428799,
          1.3974117647599726,
          1.4726319288804461,
          1.6711306458019441,
          1.9270006510417081,
          2.0108043263170545,
          2.083477996000935,
          2.1951159021801545,
          2.345083042506672,
          2.323318682795895,
          2.044041282707298,
          1.7187835812038232,
          1.528399260428799,
          1.3974117647599726,
          1.4726319288804461,
          1.6711306458019441,
          1.9270006510417081,
          2.0108043263170545,
          2.083477996000935,
          2.1951159021801545,
          2.345083042506672,
          2.323318682795895,
          2.044041282707298,
          1.7187835812038232,
          1.528399260428799,
          1.3974117647599726,
          1.4726319288804461,
          1.6711306458019441,
          1.9270006510417081,
          2.0108043263170545,
          2.083477996000935,
          2.1951159021801545,
          2.345083042506672,
          2.323318682795895,
          2.044041282707298,
          1.7187835812038232,
          1.528399260428799,
          1.3974117647599726,
          1.4726319288804461,
          1.6711306458019441,
          1.9270006510417081,
          2.0108043263170545,
          2.083477996000935,
          2.1951159021801545,
          2.345083042506672,
          2.323318682795895,
          2.044041282707298,
          1.7187835812038232,
          1.528399260428799,
          1.3974117647599726,
          1.4726319288804461,
          1.6711306458019441,
          1.9270006510417081,
          2.0108043263170545,
          2.083477996000935,
          2.1951159021801545,
          2.345083042506672,
          2.323318682795895,
          2.044041282707298,
          1.7187835812038232,
          1.528399260428799,
          1.3974117647599726,
          1.4726319288804461,
          1.6711306458019441,
          1.9270006510417081,
          2.0108043263170545,
          2.083477996000935,
          2.1951159021801545,
          2.345083042506672,
          2.323318682795895,
          2.044041282707298,
          1.7187835812038232
         ],
         "yaxis": "y"
        },
        {
         "mode": "lines",
         "name": "night",
         "type": "scatter",
         "x": [
          "2002-01-31T00:00:00",
          "2002-02-28T00:00:00",
          "2002-03-31T00:00:00",
          "2002-04-30T00:00:00",
          "2002-05-31T00:00:00",
          "2002-06-30T00:00:00",
          "2002-07-31T00:00:00",
          "2002-08-31T00:00:00",
          "2002-09-30T00:00:00",
          "2002-10-31T00:00:00",
          "2002-11-30T00:00:00",
          "2002-12-31T00:00:00",
          "2003-01-31T00:00:00",
          "2003-02-28T00:00:00",
          "2003-03-31T00:00:00",
          "2003-04-30T00:00:00",
          "2003-05-31T00:00:00",
          "2003-06-30T00:00:00",
          "2003-07-31T00:00:00",
          "2003-08-31T00:00:00",
          "2003-09-30T00:00:00",
          "2003-10-31T00:00:00",
          "2003-11-30T00:00:00",
          "2003-12-31T00:00:00",
          "2004-01-31T00:00:00",
          "2004-02-29T00:00:00",
          "2004-03-31T00:00:00",
          "2004-04-30T00:00:00",
          "2004-05-31T00:00:00",
          "2004-06-30T00:00:00",
          "2004-07-31T00:00:00",
          "2004-08-31T00:00:00",
          "2004-09-30T00:00:00",
          "2004-10-31T00:00:00",
          "2004-11-30T00:00:00",
          "2004-12-31T00:00:00",
          "2005-01-31T00:00:00",
          "2005-02-28T00:00:00",
          "2005-03-31T00:00:00",
          "2005-04-30T00:00:00",
          "2005-05-31T00:00:00",
          "2005-06-30T00:00:00",
          "2005-07-31T00:00:00",
          "2005-08-31T00:00:00",
          "2005-09-30T00:00:00",
          "2005-10-31T00:00:00",
          "2005-11-30T00:00:00",
          "2005-12-31T00:00:00",
          "2006-01-31T00:00:00",
          "2006-02-28T00:00:00",
          "2006-03-31T00:00:00",
          "2006-04-30T00:00:00",
          "2006-05-31T00:00:00",
          "2006-06-30T00:00:00",
          "2006-07-31T00:00:00",
          "2006-08-31T00:00:00",
          "2006-09-30T00:00:00",
          "2006-10-31T00:00:00",
          "2006-11-30T00:00:00",
          "2006-12-31T00:00:00",
          "2007-01-31T00:00:00",
          "2007-02-28T00:00:00",
          "2007-03-31T00:00:00",
          "2007-04-30T00:00:00",
          "2007-05-31T00:00:00",
          "2007-06-30T00:00:00",
          "2007-07-31T00:00:00",
          "2007-08-31T00:00:00",
          "2007-09-30T00:00:00",
          "2007-10-31T00:00:00",
          "2007-11-30T00:00:00",
          "2007-12-31T00:00:00",
          "2008-01-31T00:00:00",
          "2008-02-29T00:00:00",
          "2008-03-31T00:00:00",
          "2008-04-30T00:00:00",
          "2008-05-31T00:00:00",
          "2008-06-30T00:00:00",
          "2008-07-31T00:00:00",
          "2008-08-31T00:00:00",
          "2008-09-30T00:00:00",
          "2008-10-31T00:00:00",
          "2008-11-30T00:00:00",
          "2008-12-31T00:00:00",
          "2009-01-31T00:00:00",
          "2009-02-28T00:00:00",
          "2009-03-31T00:00:00",
          "2009-04-30T00:00:00",
          "2009-05-31T00:00:00",
          "2009-06-30T00:00:00",
          "2009-07-31T00:00:00",
          "2009-08-31T00:00:00",
          "2009-09-30T00:00:00",
          "2009-10-31T00:00:00",
          "2009-11-30T00:00:00",
          "2009-12-31T00:00:00",
          "2010-01-31T00:00:00",
          "2010-02-28T00:00:00",
          "2010-03-31T00:00:00",
          "2010-04-30T00:00:00",
          "2010-05-31T00:00:00",
          "2010-06-30T00:00:00",
          "2010-07-31T00:00:00",
          "2010-08-31T00:00:00",
          "2010-09-30T00:00:00",
          "2010-10-31T00:00:00",
          "2010-11-30T00:00:00",
          "2010-12-31T00:00:00",
          "2011-01-31T00:00:00",
          "2011-02-28T00:00:00",
          "2011-03-31T00:00:00",
          "2011-04-30T00:00:00",
          "2011-05-31T00:00:00",
          "2011-06-30T00:00:00",
          "2011-07-31T00:00:00",
          "2011-08-31T00:00:00",
          "2011-09-30T00:00:00",
          "2011-10-31T00:00:00",
          "2011-11-30T00:00:00",
          "2011-12-31T00:00:00",
          "2012-01-31T00:00:00",
          "2012-02-29T00:00:00",
          "2012-03-31T00:00:00",
          "2012-04-30T00:00:00",
          "2012-05-31T00:00:00",
          "2012-06-30T00:00:00",
          "2012-07-31T00:00:00",
          "2012-08-31T00:00:00",
          "2012-09-30T00:00:00",
          "2012-10-31T00:00:00",
          "2012-11-30T00:00:00",
          "2012-12-31T00:00:00",
          "2013-01-31T00:00:00",
          "2013-02-28T00:00:00",
          "2013-03-31T00:00:00",
          "2013-04-30T00:00:00",
          "2013-05-31T00:00:00",
          "2013-06-30T00:00:00",
          "2013-07-31T00:00:00",
          "2013-08-31T00:00:00",
          "2013-09-30T00:00:00",
          "2013-10-31T00:00:00",
          "2013-11-30T00:00:00",
          "2013-12-31T00:00:00",
          "2014-01-31T00:00:00",
          "2014-02-28T00:00:00",
          "2014-03-31T00:00:00",
          "2014-04-30T00:00:00",
          "2014-05-31T00:00:00",
          "2014-06-30T00:00:00",
          "2014-07-31T00:00:00",
          "2014-08-31T00:00:00",
          "2014-09-30T00:00:00",
          "2014-10-31T00:00:00",
          "2014-11-30T00:00:00"
         ],
         "xaxis": "x2",
         "y": [
          2.2371199165326328,
          2.5516720733774596,
          2.7279201721613155,
          3.1274618041004016,
          3.024494929942291,
          3.1145118215820355,
          3.41485378514031,
          3.364356281112992,
          3.214469446960891,
          3.275664115744544,
          3.0312926798937805,
          2.5948580486565356,
          2.2371199165326328,
          2.5516720733774596,
          2.7279201721613155,
          3.1274618041004016,
          3.024494929942291,
          3.1145118215820355,
          3.41485378514031,
          3.364356281112992,
          3.214469446960891,
          3.275664115744544,
          3.0312926798937805,
          2.5948580486565356,
          2.2371199165326328,
          2.5516720733774596,
          2.7279201721613155,
          3.1274618041004016,
          3.024494929942291,
          3.1145118215820355,
          3.41485378514031,
          3.364356281112992,
          3.214469446960891,
          3.275664115744544,
          3.0312926798937805,
          2.5948580486565356,
          2.2371199165326328,
          2.5516720733774596,
          2.7279201721613155,
          3.1274618041004016,
          3.024494929942291,
          3.1145118215820355,
          3.41485378514031,
          3.364356281112992,
          3.214469446960891,
          3.275664115744544,
          3.0312926798937805,
          2.5948580486565356,
          2.2371199165326328,
          2.5516720733774596,
          2.7279201721613155,
          3.1274618041004016,
          3.024494929942291,
          3.1145118215820355,
          3.41485378514031,
          3.364356281112992,
          3.214469446960891,
          3.275664115744544,
          3.0312926798937805,
          2.5948580486565356,
          2.2371199165326328,
          2.5516720733774596,
          2.7279201721613155,
          3.1274618041004016,
          3.024494929942291,
          3.1145118215820355,
          3.41485378514031,
          3.364356281112992,
          3.214469446960891,
          3.275664115744544,
          3.0312926798937805,
          2.5948580486565356,
          2.2371199165326328,
          2.5516720733774596,
          2.7279201721613155,
          3.1274618041004016,
          3.024494929942291,
          3.1145118215820355,
          3.41485378514031,
          3.364356281112992,
          3.214469446960891,
          3.275664115744544,
          3.0312926798937805,
          2.5948580486565356,
          2.2371199165326328,
          2.5516720733774596,
          2.7279201721613155,
          3.1274618041004016,
          3.024494929942291,
          3.1145118215820355,
          3.41485378514031,
          3.364356281112992,
          3.214469446960891,
          3.275664115744544,
          3.0312926798937805,
          2.5948580486565356,
          2.2371199165326328,
          2.5516720733774596,
          2.7279201721613155,
          3.1274618041004016,
          3.024494929942291,
          3.1145118215820355,
          3.41485378514031,
          3.364356281112992,
          3.214469446960891,
          3.275664115744544,
          3.0312926798937805,
          2.5948580486565356,
          2.2371199165326328,
          2.5516720733774596,
          2.7279201721613155,
          3.1274618041004016,
          3.024494929942291,
          3.1145118215820355,
          3.41485378514031,
          3.364356281112992,
          3.214469446960891,
          3.275664115744544,
          3.0312926798937805,
          2.5948580486565356,
          2.2371199165326328,
          2.5516720733774596,
          2.7279201721613155,
          3.1274618041004016,
          3.024494929942291,
          3.1145118215820355,
          3.41485378514031,
          3.364356281112992,
          3.214469446960891,
          3.275664115744544,
          3.0312926798937805,
          2.5948580486565356,
          2.2371199165326328,
          2.5516720733774596,
          2.7279201721613155,
          3.1274618041004016,
          3.024494929942291,
          3.1145118215820355,
          3.41485378514031,
          3.364356281112992,
          3.214469446960891,
          3.275664115744544,
          3.0312926798937805,
          2.5948580486565356,
          2.2371199165326328,
          2.5516720733774596,
          2.7279201721613155,
          3.1274618041004016,
          3.024494929942291,
          3.1145118215820355,
          3.41485378514031,
          3.364356281112992,
          3.214469446960891,
          3.275664115744544,
          3.0312926798937805
         ],
         "yaxis": "y2"
        },
        {
         "mode": "lines",
         "name": "day_lowess_0.15",
         "type": "scatter",
         "x": [
          "2002-01-31T00:00:00",
          "2002-02-28T00:00:00",
          "2002-03-31T00:00:00",
          "2002-04-30T00:00:00",
          "2002-05-31T00:00:00",
          "2002-06-30T00:00:00",
          "2002-07-31T00:00:00",
          "2002-08-31T00:00:00",
          "2002-09-30T00:00:00",
          "2002-10-31T00:00:00",
          "2002-11-30T00:00:00",
          "2002-12-31T00:00:00",
          "2003-01-31T00:00:00",
          "2003-02-28T00:00:00",
          "2003-03-31T00:00:00",
          "2003-04-30T00:00:00",
          "2003-05-31T00:00:00",
          "2003-06-30T00:00:00",
          "2003-07-31T00:00:00",
          "2003-08-31T00:00:00",
          "2003-09-30T00:00:00",
          "2003-10-31T00:00:00",
          "2003-11-30T00:00:00",
          "2003-12-31T00:00:00",
          "2004-01-31T00:00:00",
          "2004-02-29T00:00:00",
          "2004-03-31T00:00:00",
          "2004-04-30T00:00:00",
          "2004-05-31T00:00:00",
          "2004-06-30T00:00:00",
          "2004-07-31T00:00:00",
          "2004-08-31T00:00:00",
          "2004-09-30T00:00:00",
          "2004-10-31T00:00:00",
          "2004-11-30T00:00:00",
          "2004-12-31T00:00:00",
          "2005-01-31T00:00:00",
          "2005-02-28T00:00:00",
          "2005-03-31T00:00:00",
          "2005-04-30T00:00:00",
          "2005-05-31T00:00:00",
          "2005-06-30T00:00:00",
          "2005-07-31T00:00:00",
          "2005-08-31T00:00:00",
          "2005-09-30T00:00:00",
          "2005-10-31T00:00:00",
          "2005-11-30T00:00:00",
          "2005-12-31T00:00:00",
          "2006-01-31T00:00:00",
          "2006-02-28T00:00:00",
          "2006-03-31T00:00:00",
          "2006-04-30T00:00:00",
          "2006-05-31T00:00:00",
          "2006-06-30T00:00:00",
          "2006-07-31T00:00:00",
          "2006-08-31T00:00:00",
          "2006-09-30T00:00:00",
          "2006-10-31T00:00:00",
          "2006-11-30T00:00:00",
          "2006-12-31T00:00:00",
          "2007-01-31T00:00:00",
          "2007-02-28T00:00:00",
          "2007-03-31T00:00:00",
          "2007-04-30T00:00:00",
          "2007-05-31T00:00:00",
          "2007-06-30T00:00:00",
          "2007-07-31T00:00:00",
          "2007-08-31T00:00:00",
          "2007-09-30T00:00:00",
          "2007-10-31T00:00:00",
          "2007-11-30T00:00:00",
          "2007-12-31T00:00:00",
          "2008-01-31T00:00:00",
          "2008-02-29T00:00:00",
          "2008-03-31T00:00:00",
          "2008-04-30T00:00:00",
          "2008-05-31T00:00:00",
          "2008-06-30T00:00:00",
          "2008-07-31T00:00:00",
          "2008-08-31T00:00:00",
          "2008-09-30T00:00:00",
          "2008-10-31T00:00:00",
          "2008-11-30T00:00:00",
          "2008-12-31T00:00:00",
          "2009-01-31T00:00:00",
          "2009-02-28T00:00:00",
          "2009-03-31T00:00:00",
          "2009-04-30T00:00:00",
          "2009-05-31T00:00:00",
          "2009-06-30T00:00:00",
          "2009-07-31T00:00:00",
          "2009-08-31T00:00:00",
          "2009-09-30T00:00:00",
          "2009-10-31T00:00:00",
          "2009-11-30T00:00:00",
          "2009-12-31T00:00:00",
          "2010-01-31T00:00:00",
          "2010-02-28T00:00:00",
          "2010-03-31T00:00:00",
          "2010-04-30T00:00:00",
          "2010-05-31T00:00:00",
          "2010-06-30T00:00:00",
          "2010-07-31T00:00:00",
          "2010-08-31T00:00:00",
          "2010-09-30T00:00:00",
          "2010-10-31T00:00:00",
          "2010-11-30T00:00:00",
          "2010-12-31T00:00:00",
          "2011-01-31T00:00:00",
          "2011-02-28T00:00:00",
          "2011-03-31T00:00:00",
          "2011-04-30T00:00:00",
          "2011-05-31T00:00:00",
          "2011-06-30T00:00:00",
          "2011-07-31T00:00:00",
          "2011-08-31T00:00:00",
          "2011-09-30T00:00:00",
          "2011-10-31T00:00:00",
          "2011-11-30T00:00:00",
          "2011-12-31T00:00:00",
          "2012-01-31T00:00:00",
          "2012-02-29T00:00:00",
          "2012-03-31T00:00:00",
          "2012-04-30T00:00:00",
          "2012-05-31T00:00:00",
          "2012-06-30T00:00:00",
          "2012-07-31T00:00:00",
          "2012-08-31T00:00:00",
          "2012-09-30T00:00:00",
          "2012-10-31T00:00:00",
          "2012-11-30T00:00:00",
          "2012-12-31T00:00:00",
          "2013-01-31T00:00:00",
          "2013-02-28T00:00:00",
          "2013-03-31T00:00:00",
          "2013-04-30T00:00:00",
          "2013-05-31T00:00:00",
          "2013-06-30T00:00:00",
          "2013-07-31T00:00:00",
          "2013-08-31T00:00:00",
          "2013-09-30T00:00:00",
          "2013-10-31T00:00:00",
          "2013-11-30T00:00:00",
          "2013-12-31T00:00:00",
          "2014-01-31T00:00:00",
          "2014-02-28T00:00:00",
          "2014-03-31T00:00:00",
          "2014-04-30T00:00:00",
          "2014-05-31T00:00:00",
          "2014-06-30T00:00:00",
          "2014-07-31T00:00:00",
          "2014-08-31T00:00:00",
          "2014-09-30T00:00:00",
          "2014-10-31T00:00:00",
          "2014-11-30T00:00:00"
         ],
         "xaxis": "x",
         "y": [
          1.4654522730808732,
          1.5057180639412686,
          1.6863390125529922,
          1.8723106440453572,
          2.0078251615445457,
          2.0946613731289943,
          2.205645190322177,
          2.3033871075878705,
          2.227385335711763,
          2.0341453790873865,
          1.7596061214540784,
          1.5433336189458053,
          1.4654522730808732,
          1.5057180639412686,
          1.6863390125529922,
          1.8723106440453572,
          2.0078251615445457,
          2.0946613731289943,
          2.205645190322177,
          2.3033871075878705,
          2.227385335711763,
          2.0341453790873865,
          1.7596061214540784,
          1.5433336189458053,
          1.4654522730808732,
          1.5057180639412686,
          1.6863390125529922,
          1.8723106440453572,
          2.0078251615445457,
          2.0946613731289943,
          2.205645190322177,
          2.3033871075878705,
          2.227385335711763,
          2.0341453790873865,
          1.7596061214540784,
          1.5433336189458053,
          1.4654522730808732,
          1.5057180639412686,
          1.6863390125529922,
          1.8723106440453572,
          2.0078251615445457,
          2.0946613731289943,
          2.205645190322177,
          2.3033871075878705,
          2.227385335711763,
          2.0341453790873865,
          1.7596061214540784,
          1.5433336189458053,
          1.4654522730808732,
          1.5057180639412686,
          1.6863390125529922,
          1.8723106440453572,
          2.0078251615445457,
          2.0946613731289943,
          2.205645190322177,
          2.3033871075878705,
          2.227385335711763,
          2.0341453790873865,
          1.7596061214540784,
          1.5433336189458053,
          1.4654522730808732,
          1.5057180639412686,
          1.6863390125529922,
          1.8723106440453572,
          2.0078251615445457,
          2.0946613731289943,
          2.205645190322177,
          2.3033871075878705,
          2.227385335711763,
          2.0341453790873865,
          1.7596061214540784,
          1.5433336189458053,
          1.4654522730808732,
          1.5057180639412686,
          1.6863390125529922,
          1.8723106440453572,
          2.0078251615445457,
          2.0946613731289943,
          2.205645190322177,
          2.3033871075878705,
          2.227385335711763,
          2.0341453790873865,
          1.7596061214540784,
          1.5433336189458053,
          1.4654522730808732,
          1.5057180639412686,
          1.6863390125529922,
          1.8723106440453572,
          2.0078251615445457,
          2.0946613731289943,
          2.205645190322177,
          2.3033871075878705,
          2.227385335711763,
          2.0341453790873865,
          1.7596061214540784,
          1.5433336189458053,
          1.4654522730808732,
          1.5057180639412686,
          1.6863390125529922,
          1.8723106440453572,
          2.0078251615445457,
          2.0946613731289943,
          2.205645190322177,
          2.3033871075878705,
          2.227385335711763,
          2.0341453790873865,
          1.7596061214540784,
          1.5433336189458053,
          1.4654522730808732,
          1.5057180639412686,
          1.6863390125529922,
          1.8723106440453572,
          2.0078251615445457,
          2.0946613731289943,
          2.205645190322177,
          2.3033871075878705,
          2.227385335711763,
          2.0341453790873865,
          1.7596061214540784,
          1.5433336189458053,
          1.4654522730808732,
          1.5057180639412686,
          1.6863390125529922,
          1.8723106440453572,
          2.0078251615445457,
          2.0946613731289943,
          2.205645190322177,
          2.3033871075878705,
          2.227385335711763,
          2.0341453790873865,
          1.7596061214540784,
          1.5433336189458053,
          1.4654522730808732,
          1.5057180639412686,
          1.6863390125529922,
          1.8723106440453572,
          2.0078251615445457,
          2.0946613731289943,
          2.205645190322177,
          2.3033871075878705,
          2.227385335711763,
          2.0341453790873865,
          1.7596061214540784,
          1.5433336189458053,
          1.4654522730808732,
          1.5057180639412686,
          1.6863390125529922,
          1.8723106440453572,
          2.0078251615445457,
          2.0946613731289943,
          2.205645190322177,
          2.3033871075878705,
          2.227385335711763,
          2.0341453790873865,
          1.7596061214540784
         ],
         "yaxis": "y"
        },
        {
         "mode": "lines",
         "name": "night_lowess_0.15",
         "type": "scatter",
         "x": [
          "2002-01-31T00:00:00",
          "2002-02-28T00:00:00",
          "2002-03-31T00:00:00",
          "2002-04-30T00:00:00",
          "2002-05-31T00:00:00",
          "2002-06-30T00:00:00",
          "2002-07-31T00:00:00",
          "2002-08-31T00:00:00",
          "2002-09-30T00:00:00",
          "2002-10-31T00:00:00",
          "2002-11-30T00:00:00",
          "2002-12-31T00:00:00",
          "2003-01-31T00:00:00",
          "2003-02-28T00:00:00",
          "2003-03-31T00:00:00",
          "2003-04-30T00:00:00",
          "2003-05-31T00:00:00",
          "2003-06-30T00:00:00",
          "2003-07-31T00:00:00",
          "2003-08-31T00:00:00",
          "2003-09-30T00:00:00",
          "2003-10-31T00:00:00",
          "2003-11-30T00:00:00",
          "2003-12-31T00:00:00",
          "2004-01-31T00:00:00",
          "2004-02-29T00:00:00",
          "2004-03-31T00:00:00",
          "2004-04-30T00:00:00",
          "2004-05-31T00:00:00",
          "2004-06-30T00:00:00",
          "2004-07-31T00:00:00",
          "2004-08-31T00:00:00",
          "2004-09-30T00:00:00",
          "2004-10-31T00:00:00",
          "2004-11-30T00:00:00",
          "2004-12-31T00:00:00",
          "2005-01-31T00:00:00",
          "2005-02-28T00:00:00",
          "2005-03-31T00:00:00",
          "2005-04-30T00:00:00",
          "2005-05-31T00:00:00",
          "2005-06-30T00:00:00",
          "2005-07-31T00:00:00",
          "2005-08-31T00:00:00",
          "2005-09-30T00:00:00",
          "2005-10-31T00:00:00",
          "2005-11-30T00:00:00",
          "2005-12-31T00:00:00",
          "2006-01-31T00:00:00",
          "2006-02-28T00:00:00",
          "2006-03-31T00:00:00",
          "2006-04-30T00:00:00",
          "2006-05-31T00:00:00",
          "2006-06-30T00:00:00",
          "2006-07-31T00:00:00",
          "2006-08-31T00:00:00",
          "2006-09-30T00:00:00",
          "2006-10-31T00:00:00",
          "2006-11-30T00:00:00",
          "2006-12-31T00:00:00",
          "2007-01-31T00:00:00",
          "2007-02-28T00:00:00",
          "2007-03-31T00:00:00",
          "2007-04-30T00:00:00",
          "2007-05-31T00:00:00",
          "2007-06-30T00:00:00",
          "2007-07-31T00:00:00",
          "2007-08-31T00:00:00",
          "2007-09-30T00:00:00",
          "2007-10-31T00:00:00",
          "2007-11-30T00:00:00",
          "2007-12-31T00:00:00",
          "2008-01-31T00:00:00",
          "2008-02-29T00:00:00",
          "2008-03-31T00:00:00",
          "2008-04-30T00:00:00",
          "2008-05-31T00:00:00",
          "2008-06-30T00:00:00",
          "2008-07-31T00:00:00",
          "2008-08-31T00:00:00",
          "2008-09-30T00:00:00",
          "2008-10-31T00:00:00",
          "2008-11-30T00:00:00",
          "2008-12-31T00:00:00",
          "2009-01-31T00:00:00",
          "2009-02-28T00:00:00",
          "2009-03-31T00:00:00",
          "2009-04-30T00:00:00",
          "2009-05-31T00:00:00",
          "2009-06-30T00:00:00",
          "2009-07-31T00:00:00",
          "2009-08-31T00:00:00",
          "2009-09-30T00:00:00",
          "2009-10-31T00:00:00",
          "2009-11-30T00:00:00",
          "2009-12-31T00:00:00",
          "2010-01-31T00:00:00",
          "2010-02-28T00:00:00",
          "2010-03-31T00:00:00",
          "2010-04-30T00:00:00",
          "2010-05-31T00:00:00",
          "2010-06-30T00:00:00",
          "2010-07-31T00:00:00",
          "2010-08-31T00:00:00",
          "2010-09-30T00:00:00",
          "2010-10-31T00:00:00",
          "2010-11-30T00:00:00",
          "2010-12-31T00:00:00",
          "2011-01-31T00:00:00",
          "2011-02-28T00:00:00",
          "2011-03-31T00:00:00",
          "2011-04-30T00:00:00",
          "2011-05-31T00:00:00",
          "2011-06-30T00:00:00",
          "2011-07-31T00:00:00",
          "2011-08-31T00:00:00",
          "2011-09-30T00:00:00",
          "2011-10-31T00:00:00",
          "2011-11-30T00:00:00",
          "2011-12-31T00:00:00",
          "2012-01-31T00:00:00",
          "2012-02-29T00:00:00",
          "2012-03-31T00:00:00",
          "2012-04-30T00:00:00",
          "2012-05-31T00:00:00",
          "2012-06-30T00:00:00",
          "2012-07-31T00:00:00",
          "2012-08-31T00:00:00",
          "2012-09-30T00:00:00",
          "2012-10-31T00:00:00",
          "2012-11-30T00:00:00",
          "2012-12-31T00:00:00",
          "2013-01-31T00:00:00",
          "2013-02-28T00:00:00",
          "2013-03-31T00:00:00",
          "2013-04-30T00:00:00",
          "2013-05-31T00:00:00",
          "2013-06-30T00:00:00",
          "2013-07-31T00:00:00",
          "2013-08-31T00:00:00",
          "2013-09-30T00:00:00",
          "2013-10-31T00:00:00",
          "2013-11-30T00:00:00",
          "2013-12-31T00:00:00",
          "2014-01-31T00:00:00",
          "2014-02-28T00:00:00",
          "2014-03-31T00:00:00",
          "2014-04-30T00:00:00",
          "2014-05-31T00:00:00",
          "2014-06-30T00:00:00",
          "2014-07-31T00:00:00",
          "2014-08-31T00:00:00",
          "2014-09-30T00:00:00",
          "2014-10-31T00:00:00",
          "2014-11-30T00:00:00"
         ],
         "xaxis": "x2",
         "y": [
          2.5375375172979826,
          2.5330978297259206,
          2.785320025146091,
          2.9565333537050154,
          3.0733149493920435,
          3.1731031844432347,
          3.3077116677095164,
          3.3373212293201053,
          3.274465085182407,
          3.185114305357216,
          2.9768612316955463,
          2.6053749856772757,
          2.5375375172979826,
          2.5330978297259206,
          2.785320025146091,
          2.9565333537050154,
          3.0733149493920435,
          3.1731031844432347,
          3.3077116677095164,
          3.3373212293201053,
          3.274465085182407,
          3.185114305357216,
          2.9768612316955463,
          2.6053749856772757,
          2.5375375172979826,
          2.5330978297259206,
          2.785320025146091,
          2.9565333537050154,
          3.0733149493920435,
          3.1731031844432347,
          3.3077116677095164,
          3.3373212293201053,
          3.274465085182407,
          3.185114305357216,
          2.9768612316955463,
          2.6053749856772757,
          2.5375375172979826,
          2.5330978297259206,
          2.785320025146091,
          2.9565333537050154,
          3.0733149493920435,
          3.1731031844432347,
          3.3077116677095164,
          3.3373212293201053,
          3.274465085182407,
          3.185114305357216,
          2.9768612316955463,
          2.6053749856772757,
          2.5375375172979826,
          2.5330978297259206,
          2.785320025146091,
          2.9565333537050154,
          3.0733149493920435,
          3.1731031844432347,
          3.3077116677095164,
          3.3373212293201053,
          3.274465085182407,
          3.185114305357216,
          2.9768612316955463,
          2.6053749856772757,
          2.5375375172979826,
          2.5330978297259206,
          2.785320025146091,
          2.9565333537050154,
          3.0733149493920435,
          3.1731031844432347,
          3.3077116677095164,
          3.3373212293201053,
          3.274465085182407,
          3.185114305357216,
          2.9768612316955463,
          2.6053749856772757,
          2.5375375172979826,
          2.5330978297259206,
          2.785320025146091,
          2.9565333537050154,
          3.0733149493920435,
          3.1731031844432347,
          3.3077116677095164,
          3.3373212293201053,
          3.274465085182407,
          3.185114305357216,
          2.9768612316955463,
          2.6053749856772757,
          2.5375375172979826,
          2.5330978297259206,
          2.785320025146091,
          2.9565333537050154,
          3.0733149493920435,
          3.1731031844432347,
          3.3077116677095164,
          3.3373212293201053,
          3.274465085182407,
          3.185114305357216,
          2.9768612316955463,
          2.6053749856772757,
          2.5375375172979826,
          2.5330978297259206,
          2.785320025146091,
          2.9565333537050154,
          3.0733149493920435,
          3.1731031844432347,
          3.3077116677095164,
          3.3373212293201053,
          3.274465085182407,
          3.185114305357216,
          2.9768612316955463,
          2.6053749856772757,
          2.5375375172979826,
          2.5330978297259206,
          2.785320025146091,
          2.9565333537050154,
          3.0733149493920435,
          3.1731031844432347,
          3.3077116677095164,
          3.3373212293201053,
          3.274465085182407,
          3.185114305357216,
          2.9768612316955463,
          2.6053749856772757,
          2.5375375172979826,
          2.5330978297259206,
          2.785320025146091,
          2.9565333537050154,
          3.0733149493920435,
          3.1731031844432347,
          3.3077116677095164,
          3.3373212293201053,
          3.274465085182407,
          3.185114305357216,
          2.9768612316955463,
          2.6053749856772757,
          2.5375375172979826,
          2.5330978297259206,
          2.785320025146091,
          2.9565333537050154,
          3.0733149493920435,
          3.1731031844432347,
          3.3077116677095164,
          3.3373212293201053,
          3.274465085182407,
          3.185114305357216,
          2.9768612316955463,
          2.6053749856772757,
          2.5375375172979826,
          2.5330978297259206,
          2.785320025146091,
          2.9565333537050154,
          3.0733149493920435,
          3.1731031844432347,
          3.3077116677095164,
          3.3373212293201053,
          3.274465085182407,
          3.185114305357216,
          2.9768612316955463
         ],
         "yaxis": "y2"
        }
       ],
       "layout": {
        "annotations": [
         {
          "font": {
           "size": 16
          },
          "showarrow": false,
          "text": "Day Data",
          "x": 0.5,
          "xanchor": "center",
          "xref": "paper",
          "y": 1,
          "yanchor": "bottom",
          "yref": "paper"
         },
         {
          "font": {
           "size": 16
          },
          "showarrow": false,
          "text": "Night Data",
          "x": 0.5,
          "xanchor": "center",
          "xref": "paper",
          "y": 0.45,
          "yanchor": "bottom",
          "yref": "paper"
         }
        ],
        "height": 800,
        "template": {
         "data": {
          "bar": [
           {
            "error_x": {
             "color": "#2a3f5f"
            },
            "error_y": {
             "color": "#2a3f5f"
            },
            "marker": {
             "line": {
              "color": "#E5ECF6",
              "width": 0.5
             },
             "pattern": {
              "fillmode": "overlay",
              "size": 10,
              "solidity": 0.2
             }
            },
            "type": "bar"
           }
          ],
          "barpolar": [
           {
            "marker": {
             "line": {
              "color": "#E5ECF6",
              "width": 0.5
             },
             "pattern": {
              "fillmode": "overlay",
              "size": 10,
              "solidity": 0.2
             }
            },
            "type": "barpolar"
           }
          ],
          "carpet": [
           {
            "aaxis": {
             "endlinecolor": "#2a3f5f",
             "gridcolor": "white",
             "linecolor": "white",
             "minorgridcolor": "white",
             "startlinecolor": "#2a3f5f"
            },
            "baxis": {
             "endlinecolor": "#2a3f5f",
             "gridcolor": "white",
             "linecolor": "white",
             "minorgridcolor": "white",
             "startlinecolor": "#2a3f5f"
            },
            "type": "carpet"
           }
          ],
          "choropleth": [
           {
            "colorbar": {
             "outlinewidth": 0,
             "ticks": ""
            },
            "type": "choropleth"
           }
          ],
          "contour": [
           {
            "colorbar": {
             "outlinewidth": 0,
             "ticks": ""
            },
            "colorscale": [
             [
              0,
              "#0d0887"
             ],
             [
              0.1111111111111111,
              "#46039f"
             ],
             [
              0.2222222222222222,
              "#7201a8"
             ],
             [
              0.3333333333333333,
              "#9c179e"
             ],
             [
              0.4444444444444444,
              "#bd3786"
             ],
             [
              0.5555555555555556,
              "#d8576b"
             ],
             [
              0.6666666666666666,
              "#ed7953"
             ],
             [
              0.7777777777777778,
              "#fb9f3a"
             ],
             [
              0.8888888888888888,
              "#fdca26"
             ],
             [
              1,
              "#f0f921"
             ]
            ],
            "type": "contour"
           }
          ],
          "contourcarpet": [
           {
            "colorbar": {
             "outlinewidth": 0,
             "ticks": ""
            },
            "type": "contourcarpet"
           }
          ],
          "heatmap": [
           {
            "colorbar": {
             "outlinewidth": 0,
             "ticks": ""
            },
            "colorscale": [
             [
              0,
              "#0d0887"
             ],
             [
              0.1111111111111111,
              "#46039f"
             ],
             [
              0.2222222222222222,
              "#7201a8"
             ],
             [
              0.3333333333333333,
              "#9c179e"
             ],
             [
              0.4444444444444444,
              "#bd3786"
             ],
             [
              0.5555555555555556,
              "#d8576b"
             ],
             [
              0.6666666666666666,
              "#ed7953"
             ],
             [
              0.7777777777777778,
              "#fb9f3a"
             ],
             [
              0.8888888888888888,
              "#fdca26"
             ],
             [
              1,
              "#f0f921"
             ]
            ],
            "type": "heatmap"
           }
          ],
          "heatmapgl": [
           {
            "colorbar": {
             "outlinewidth": 0,
             "ticks": ""
            },
            "colorscale": [
             [
              0,
              "#0d0887"
             ],
             [
              0.1111111111111111,
              "#46039f"
             ],
             [
              0.2222222222222222,
              "#7201a8"
             ],
             [
              0.3333333333333333,
              "#9c179e"
             ],
             [
              0.4444444444444444,
              "#bd3786"
             ],
             [
              0.5555555555555556,
              "#d8576b"
             ],
             [
              0.6666666666666666,
              "#ed7953"
             ],
             [
              0.7777777777777778,
              "#fb9f3a"
             ],
             [
              0.8888888888888888,
              "#fdca26"
             ],
             [
              1,
              "#f0f921"
             ]
            ],
            "type": "heatmapgl"
           }
          ],
          "histogram": [
           {
            "marker": {
             "pattern": {
              "fillmode": "overlay",
              "size": 10,
              "solidity": 0.2
             }
            },
            "type": "histogram"
           }
          ],
          "histogram2d": [
           {
            "colorbar": {
             "outlinewidth": 0,
             "ticks": ""
            },
            "colorscale": [
             [
              0,
              "#0d0887"
             ],
             [
              0.1111111111111111,
              "#46039f"
             ],
             [
              0.2222222222222222,
              "#7201a8"
             ],
             [
              0.3333333333333333,
              "#9c179e"
             ],
             [
              0.4444444444444444,
              "#bd3786"
             ],
             [
              0.5555555555555556,
              "#d8576b"
             ],
             [
              0.6666666666666666,
              "#ed7953"
             ],
             [
              0.7777777777777778,
              "#fb9f3a"
             ],
             [
              0.8888888888888888,
              "#fdca26"
             ],
             [
              1,
              "#f0f921"
             ]
            ],
            "type": "histogram2d"
           }
          ],
          "histogram2dcontour": [
           {
            "colorbar": {
             "outlinewidth": 0,
             "ticks": ""
            },
            "colorscale": [
             [
              0,
              "#0d0887"
             ],
             [
              0.1111111111111111,
              "#46039f"
             ],
             [
              0.2222222222222222,
              "#7201a8"
             ],
             [
              0.3333333333333333,
              "#9c179e"
             ],
             [
              0.4444444444444444,
              "#bd3786"
             ],
             [
              0.5555555555555556,
              "#d8576b"
             ],
             [
              0.6666666666666666,
              "#ed7953"
             ],
             [
              0.7777777777777778,
              "#fb9f3a"
             ],
             [
              0.8888888888888888,
              "#fdca26"
             ],
             [
              1,
              "#f0f921"
             ]
            ],
            "type": "histogram2dcontour"
           }
          ],
          "mesh3d": [
           {
            "colorbar": {
             "outlinewidth": 0,
             "ticks": ""
            },
            "type": "mesh3d"
           }
          ],
          "parcoords": [
           {
            "line": {
             "colorbar": {
              "outlinewidth": 0,
              "ticks": ""
             }
            },
            "type": "parcoords"
           }
          ],
          "pie": [
           {
            "automargin": true,
            "type": "pie"
           }
          ],
          "scatter": [
           {
            "fillpattern": {
             "fillmode": "overlay",
             "size": 10,
             "solidity": 0.2
            },
            "type": "scatter"
           }
          ],
          "scatter3d": [
           {
            "line": {
             "colorbar": {
              "outlinewidth": 0,
              "ticks": ""
             }
            },
            "marker": {
             "colorbar": {
              "outlinewidth": 0,
              "ticks": ""
             }
            },
            "type": "scatter3d"
           }
          ],
          "scattercarpet": [
           {
            "marker": {
             "colorbar": {
              "outlinewidth": 0,
              "ticks": ""
             }
            },
            "type": "scattercarpet"
           }
          ],
          "scattergeo": [
           {
            "marker": {
             "colorbar": {
              "outlinewidth": 0,
              "ticks": ""
             }
            },
            "type": "scattergeo"
           }
          ],
          "scattergl": [
           {
            "marker": {
             "colorbar": {
              "outlinewidth": 0,
              "ticks": ""
             }
            },
            "type": "scattergl"
           }
          ],
          "scattermapbox": [
           {
            "marker": {
             "colorbar": {
              "outlinewidth": 0,
              "ticks": ""
             }
            },
            "type": "scattermapbox"
           }
          ],
          "scatterpolar": [
           {
            "marker": {
             "colorbar": {
              "outlinewidth": 0,
              "ticks": ""
             }
            },
            "type": "scatterpolar"
           }
          ],
          "scatterpolargl": [
           {
            "marker": {
             "colorbar": {
              "outlinewidth": 0,
              "ticks": ""
             }
            },
            "type": "scatterpolargl"
           }
          ],
          "scatterternary": [
           {
            "marker": {
             "colorbar": {
              "outlinewidth": 0,
              "ticks": ""
             }
            },
            "type": "scatterternary"
           }
          ],
          "surface": [
           {
            "colorbar": {
             "outlinewidth": 0,
             "ticks": ""
            },
            "colorscale": [
             [
              0,
              "#0d0887"
             ],
             [
              0.1111111111111111,
              "#46039f"
             ],
             [
              0.2222222222222222,
              "#7201a8"
             ],
             [
              0.3333333333333333,
              "#9c179e"
             ],
             [
              0.4444444444444444,
              "#bd3786"
             ],
             [
              0.5555555555555556,
              "#d8576b"
             ],
             [
              0.6666666666666666,
              "#ed7953"
             ],
             [
              0.7777777777777778,
              "#fb9f3a"
             ],
             [
              0.8888888888888888,
              "#fdca26"
             ],
             [
              1,
              "#f0f921"
             ]
            ],
            "type": "surface"
           }
          ],
          "table": [
           {
            "cells": {
             "fill": {
              "color": "#EBF0F8"
             },
             "line": {
              "color": "white"
             }
            },
            "header": {
             "fill": {
              "color": "#C8D4E3"
             },
             "line": {
              "color": "white"
             }
            },
            "type": "table"
           }
          ]
         },
         "layout": {
          "annotationdefaults": {
           "arrowcolor": "#2a3f5f",
           "arrowhead": 0,
           "arrowwidth": 1
          },
          "autotypenumbers": "strict",
          "coloraxis": {
           "colorbar": {
            "outlinewidth": 0,
            "ticks": ""
           }
          },
          "colorscale": {
           "diverging": [
            [
             0,
             "#8e0152"
            ],
            [
             0.1,
             "#c51b7d"
            ],
            [
             0.2,
             "#de77ae"
            ],
            [
             0.3,
             "#f1b6da"
            ],
            [
             0.4,
             "#fde0ef"
            ],
            [
             0.5,
             "#f7f7f7"
            ],
            [
             0.6,
             "#e6f5d0"
            ],
            [
             0.7,
             "#b8e186"
            ],
            [
             0.8,
             "#7fbc41"
            ],
            [
             0.9,
             "#4d9221"
            ],
            [
             1,
             "#276419"
            ]
           ],
           "sequential": [
            [
             0,
             "#0d0887"
            ],
            [
             0.1111111111111111,
             "#46039f"
            ],
            [
             0.2222222222222222,
             "#7201a8"
            ],
            [
             0.3333333333333333,
             "#9c179e"
            ],
            [
             0.4444444444444444,
             "#bd3786"
            ],
            [
             0.5555555555555556,
             "#d8576b"
            ],
            [
             0.6666666666666666,
             "#ed7953"
            ],
            [
             0.7777777777777778,
             "#fb9f3a"
            ],
            [
             0.8888888888888888,
             "#fdca26"
            ],
            [
             1,
             "#f0f921"
            ]
           ],
           "sequentialminus": [
            [
             0,
             "#0d0887"
            ],
            [
             0.1111111111111111,
             "#46039f"
            ],
            [
             0.2222222222222222,
             "#7201a8"
            ],
            [
             0.3333333333333333,
             "#9c179e"
            ],
            [
             0.4444444444444444,
             "#bd3786"
            ],
            [
             0.5555555555555556,
             "#d8576b"
            ],
            [
             0.6666666666666666,
             "#ed7953"
            ],
            [
             0.7777777777777778,
             "#fb9f3a"
            ],
            [
             0.8888888888888888,
             "#fdca26"
            ],
            [
             1,
             "#f0f921"
            ]
           ]
          },
          "colorway": [
           "#636efa",
           "#EF553B",
           "#00cc96",
           "#ab63fa",
           "#FFA15A",
           "#19d3f3",
           "#FF6692",
           "#B6E880",
           "#FF97FF",
           "#FECB52"
          ],
          "font": {
           "color": "#2a3f5f"
          },
          "geo": {
           "bgcolor": "white",
           "lakecolor": "white",
           "landcolor": "#E5ECF6",
           "showlakes": true,
           "showland": true,
           "subunitcolor": "white"
          },
          "hoverlabel": {
           "align": "left"
          },
          "hovermode": "closest",
          "mapbox": {
           "style": "light"
          },
          "paper_bgcolor": "white",
          "plot_bgcolor": "#E5ECF6",
          "polar": {
           "angularaxis": {
            "gridcolor": "white",
            "linecolor": "white",
            "ticks": ""
           },
           "bgcolor": "#E5ECF6",
           "radialaxis": {
            "gridcolor": "white",
            "linecolor": "white",
            "ticks": ""
           }
          },
          "scene": {
           "xaxis": {
            "backgroundcolor": "#E5ECF6",
            "gridcolor": "white",
            "gridwidth": 2,
            "linecolor": "white",
            "showbackground": true,
            "ticks": "",
            "zerolinecolor": "white"
           },
           "yaxis": {
            "backgroundcolor": "#E5ECF6",
            "gridcolor": "white",
            "gridwidth": 2,
            "linecolor": "white",
            "showbackground": true,
            "ticks": "",
            "zerolinecolor": "white"
           },
           "zaxis": {
            "backgroundcolor": "#E5ECF6",
            "gridcolor": "white",
            "gridwidth": 2,
            "linecolor": "white",
            "showbackground": true,
            "ticks": "",
            "zerolinecolor": "white"
           }
          },
          "shapedefaults": {
           "line": {
            "color": "#2a3f5f"
           }
          },
          "ternary": {
           "aaxis": {
            "gridcolor": "white",
            "linecolor": "white",
            "ticks": ""
           },
           "baxis": {
            "gridcolor": "white",
            "linecolor": "white",
            "ticks": ""
           },
           "bgcolor": "#E5ECF6",
           "caxis": {
            "gridcolor": "white",
            "linecolor": "white",
            "ticks": ""
           }
          },
          "title": {
           "x": 0.05
          },
          "xaxis": {
           "automargin": true,
           "gridcolor": "white",
           "linecolor": "white",
           "ticks": "",
           "title": {
            "standoff": 15
           },
           "zerolinecolor": "white",
           "zerolinewidth": 2
          },
          "yaxis": {
           "automargin": true,
           "gridcolor": "white",
           "linecolor": "white",
           "ticks": "",
           "title": {
            "standoff": 15
           },
           "zerolinecolor": "white",
           "zerolinewidth": 2
          }
         }
        },
        "title": {
         "text": "Comparison of Initial and Processed Data at Hot : With Trend"
        },
        "xaxis": {
         "anchor": "y",
         "domain": [
          0,
          1
         ],
         "matches": "x2",
         "showticklabels": false,
         "title": {
          "text": "Time"
         }
        },
        "xaxis2": {
         "anchor": "y2",
         "domain": [
          0,
          1
         ]
        },
        "yaxis": {
         "anchor": "x",
         "domain": [
          0.55,
          1
         ],
         "title": {
          "text": "Zooplankton biomass (mg/m3)"
         }
        },
        "yaxis2": {
         "anchor": "x2",
         "domain": [
          0,
          0.45
         ]
        }
       }
      }
     },
     "metadata": {},
     "output_type": "display_data"
    }
   ],
   "source": [
    "day_names = [\"day\", \"day_lowess_0.15\"]\n",
    "night_names = [\"night\", \"night_lowess_0.15\"]\n",
    "\n",
    "fig = make_subplots(\n",
    "    rows=2,\n",
    "    cols=1,\n",
    "    subplot_titles=(\"Day Data\", \"Night Data\"),\n",
    "    shared_xaxes=True,\n",
    "    vertical_spacing=0.1,\n",
    ")\n",
    "# augmente la taille de la figure\n",
    "fig.update_layout(height=800)\n",
    "\n",
    "# -------------------------------------------------------------------------------------------------------------------- #\n",
    "\n",
    "# Ajouter les données d'observation initiales de jour\n",
    "fig.add_trace(\n",
    "    go.Scatter(\n",
    "        x=day_data[\"time\"],\n",
    "        y=day_data,\n",
    "        mode=\"lines\",\n",
    "        name=\"Initial Day Data\",\n",
    "    ),\n",
    "    row=1,\n",
    "    col=1,\n",
    ")\n",
    "\n",
    "# Ajouter les données d'observation initiales de nuit\n",
    "fig.add_trace(\n",
    "    go.Scatter(\n",
    "        x=night_data[\"time\"],\n",
    "        y=night_data,\n",
    "        mode=\"lines\",\n",
    "        name=\"Initial Night Data\",\n",
    "    ),\n",
    "    row=2,\n",
    "    col=1,\n",
    ")\n",
    "\n",
    "# -------------------------------------------------------------------------------------------------------------------- #\n",
    "\n",
    "for day, night in zip(day_names, night_names):\n",
    "    # Ajouter les données de jour\n",
    "    fig.add_trace(\n",
    "        go.Scatter(\n",
    "            x=aggregated_smoothed.index,\n",
    "            y=aggregated_smoothed[day],\n",
    "            mode=\"lines\",\n",
    "            name=day,\n",
    "        ),\n",
    "        row=1,\n",
    "        col=1,\n",
    "    )\n",
    "\n",
    "    # Ajouter les données de nuit\n",
    "    fig.add_trace(\n",
    "        go.Scatter(\n",
    "            x=aggregated_smoothed.index,\n",
    "            y=aggregated_smoothed[night],\n",
    "            mode=\"lines\",\n",
    "            name=night,\n",
    "        ),\n",
    "        row=2,\n",
    "        col=1,\n",
    "    )\n",
    "\n",
    "# -------------------------------------------------------------------------------------------------------------------- #\n",
    "\n",
    "# Mettre à jour la mise en page\n",
    "fig.update_layout(\n",
    "    title=f\"Comparison of Initial and Processed Data at {station} : With Trend\",\n",
    "    xaxis_title=\"Time\",\n",
    "    yaxis_title=\"Zooplankton biomass (mg/m3)\",\n",
    "    # night mode\n",
    "    # template=\"plotly_dark\",\n",
    ")\n",
    "\n",
    "fig.show()"
   ]
  },
  {
   "cell_type": "code",
   "execution_count": 17,
   "metadata": {},
   "outputs": [],
   "source": [
    "# fig.write_html(f\"Hot_climato_observations_filtered.html\")"
   ]
  },
  {
   "cell_type": "markdown",
   "metadata": {},
   "source": [
    "## Export\n"
   ]
  },
  {
   "cell_type": "code",
   "execution_count": 32,
   "metadata": {},
   "outputs": [
    {
     "data": {
      "text/html": [
       "<div><svg style=\"position: absolute; width: 0; height: 0; overflow: hidden\">\n",
       "<defs>\n",
       "<symbol id=\"icon-database\" viewBox=\"0 0 32 32\">\n",
       "<path d=\"M16 0c-8.837 0-16 2.239-16 5v4c0 2.761 7.163 5 16 5s16-2.239 16-5v-4c0-2.761-7.163-5-16-5z\"></path>\n",
       "<path d=\"M16 17c-8.837 0-16-2.239-16-5v6c0 2.761 7.163 5 16 5s16-2.239 16-5v-6c0 2.761-7.163 5-16 5z\"></path>\n",
       "<path d=\"M16 26c-8.837 0-16-2.239-16-5v6c0 2.761 7.163 5 16 5s16-2.239 16-5v-6c0 2.761-7.163 5-16 5z\"></path>\n",
       "</symbol>\n",
       "<symbol id=\"icon-file-text2\" viewBox=\"0 0 32 32\">\n",
       "<path d=\"M28.681 7.159c-0.694-0.947-1.662-2.053-2.724-3.116s-2.169-2.030-3.116-2.724c-1.612-1.182-2.393-1.319-2.841-1.319h-15.5c-1.378 0-2.5 1.121-2.5 2.5v27c0 1.378 1.122 2.5 2.5 2.5h23c1.378 0 2.5-1.122 2.5-2.5v-19.5c0-0.448-0.137-1.23-1.319-2.841zM24.543 5.457c0.959 0.959 1.712 1.825 2.268 2.543h-4.811v-4.811c0.718 0.556 1.584 1.309 2.543 2.268zM28 29.5c0 0.271-0.229 0.5-0.5 0.5h-23c-0.271 0-0.5-0.229-0.5-0.5v-27c0-0.271 0.229-0.5 0.5-0.5 0 0 15.499-0 15.5 0v7c0 0.552 0.448 1 1 1h7v19.5z\"></path>\n",
       "<path d=\"M23 26h-14c-0.552 0-1-0.448-1-1s0.448-1 1-1h14c0.552 0 1 0.448 1 1s-0.448 1-1 1z\"></path>\n",
       "<path d=\"M23 22h-14c-0.552 0-1-0.448-1-1s0.448-1 1-1h14c0.552 0 1 0.448 1 1s-0.448 1-1 1z\"></path>\n",
       "<path d=\"M23 18h-14c-0.552 0-1-0.448-1-1s0.448-1 1-1h14c0.552 0 1 0.448 1 1s-0.448 1-1 1z\"></path>\n",
       "</symbol>\n",
       "</defs>\n",
       "</svg>\n",
       "<style>/* CSS stylesheet for displaying xarray objects in jupyterlab.\n",
       " *\n",
       " */\n",
       "\n",
       ":root {\n",
       "  --xr-font-color0: var(--jp-content-font-color0, rgba(0, 0, 0, 1));\n",
       "  --xr-font-color2: var(--jp-content-font-color2, rgba(0, 0, 0, 0.54));\n",
       "  --xr-font-color3: var(--jp-content-font-color3, rgba(0, 0, 0, 0.38));\n",
       "  --xr-border-color: var(--jp-border-color2, #e0e0e0);\n",
       "  --xr-disabled-color: var(--jp-layout-color3, #bdbdbd);\n",
       "  --xr-background-color: var(--jp-layout-color0, white);\n",
       "  --xr-background-color-row-even: var(--jp-layout-color1, white);\n",
       "  --xr-background-color-row-odd: var(--jp-layout-color2, #eeeeee);\n",
       "}\n",
       "\n",
       "html[theme=\"dark\"],\n",
       "html[data-theme=\"dark\"],\n",
       "body[data-theme=\"dark\"],\n",
       "body.vscode-dark {\n",
       "  --xr-font-color0: rgba(255, 255, 255, 1);\n",
       "  --xr-font-color2: rgba(255, 255, 255, 0.54);\n",
       "  --xr-font-color3: rgba(255, 255, 255, 0.38);\n",
       "  --xr-border-color: #1f1f1f;\n",
       "  --xr-disabled-color: #515151;\n",
       "  --xr-background-color: #111111;\n",
       "  --xr-background-color-row-even: #111111;\n",
       "  --xr-background-color-row-odd: #313131;\n",
       "}\n",
       "\n",
       ".xr-wrap {\n",
       "  display: block !important;\n",
       "  min-width: 300px;\n",
       "  max-width: 700px;\n",
       "}\n",
       "\n",
       ".xr-text-repr-fallback {\n",
       "  /* fallback to plain text repr when CSS is not injected (untrusted notebook) */\n",
       "  display: none;\n",
       "}\n",
       "\n",
       ".xr-header {\n",
       "  padding-top: 6px;\n",
       "  padding-bottom: 6px;\n",
       "  margin-bottom: 4px;\n",
       "  border-bottom: solid 1px var(--xr-border-color);\n",
       "}\n",
       "\n",
       ".xr-header > div,\n",
       ".xr-header > ul {\n",
       "  display: inline;\n",
       "  margin-top: 0;\n",
       "  margin-bottom: 0;\n",
       "}\n",
       "\n",
       ".xr-obj-type,\n",
       ".xr-array-name {\n",
       "  margin-left: 2px;\n",
       "  margin-right: 10px;\n",
       "}\n",
       "\n",
       ".xr-obj-type {\n",
       "  color: var(--xr-font-color2);\n",
       "}\n",
       "\n",
       ".xr-sections {\n",
       "  padding-left: 0 !important;\n",
       "  display: grid;\n",
       "  grid-template-columns: 150px auto auto 1fr 0 20px 0 20px;\n",
       "}\n",
       "\n",
       ".xr-section-item {\n",
       "  display: contents;\n",
       "}\n",
       "\n",
       ".xr-section-item input {\n",
       "  display: inline-block;\n",
       "  opacity: 0;\n",
       "  height: 0;\n",
       "}\n",
       "\n",
       ".xr-section-item input + label {\n",
       "  color: var(--xr-disabled-color);\n",
       "}\n",
       "\n",
       ".xr-section-item input:enabled + label {\n",
       "  cursor: pointer;\n",
       "  color: var(--xr-font-color2);\n",
       "}\n",
       "\n",
       ".xr-section-item input:focus + label {\n",
       "  border: 2px solid var(--xr-font-color0);\n",
       "}\n",
       "\n",
       ".xr-section-item input:enabled + label:hover {\n",
       "  color: var(--xr-font-color0);\n",
       "}\n",
       "\n",
       ".xr-section-summary {\n",
       "  grid-column: 1;\n",
       "  color: var(--xr-font-color2);\n",
       "  font-weight: 500;\n",
       "}\n",
       "\n",
       ".xr-section-summary > span {\n",
       "  display: inline-block;\n",
       "  padding-left: 0.5em;\n",
       "}\n",
       "\n",
       ".xr-section-summary-in:disabled + label {\n",
       "  color: var(--xr-font-color2);\n",
       "}\n",
       "\n",
       ".xr-section-summary-in + label:before {\n",
       "  display: inline-block;\n",
       "  content: \"►\";\n",
       "  font-size: 11px;\n",
       "  width: 15px;\n",
       "  text-align: center;\n",
       "}\n",
       "\n",
       ".xr-section-summary-in:disabled + label:before {\n",
       "  color: var(--xr-disabled-color);\n",
       "}\n",
       "\n",
       ".xr-section-summary-in:checked + label:before {\n",
       "  content: \"▼\";\n",
       "}\n",
       "\n",
       ".xr-section-summary-in:checked + label > span {\n",
       "  display: none;\n",
       "}\n",
       "\n",
       ".xr-section-summary,\n",
       ".xr-section-inline-details {\n",
       "  padding-top: 4px;\n",
       "  padding-bottom: 4px;\n",
       "}\n",
       "\n",
       ".xr-section-inline-details {\n",
       "  grid-column: 2 / -1;\n",
       "}\n",
       "\n",
       ".xr-section-details {\n",
       "  display: none;\n",
       "  grid-column: 1 / -1;\n",
       "  margin-bottom: 5px;\n",
       "}\n",
       "\n",
       ".xr-section-summary-in:checked ~ .xr-section-details {\n",
       "  display: contents;\n",
       "}\n",
       "\n",
       ".xr-array-wrap {\n",
       "  grid-column: 1 / -1;\n",
       "  display: grid;\n",
       "  grid-template-columns: 20px auto;\n",
       "}\n",
       "\n",
       ".xr-array-wrap > label {\n",
       "  grid-column: 1;\n",
       "  vertical-align: top;\n",
       "}\n",
       "\n",
       ".xr-preview {\n",
       "  color: var(--xr-font-color3);\n",
       "}\n",
       "\n",
       ".xr-array-preview,\n",
       ".xr-array-data {\n",
       "  padding: 0 5px !important;\n",
       "  grid-column: 2;\n",
       "}\n",
       "\n",
       ".xr-array-data,\n",
       ".xr-array-in:checked ~ .xr-array-preview {\n",
       "  display: none;\n",
       "}\n",
       "\n",
       ".xr-array-in:checked ~ .xr-array-data,\n",
       ".xr-array-preview {\n",
       "  display: inline-block;\n",
       "}\n",
       "\n",
       ".xr-dim-list {\n",
       "  display: inline-block !important;\n",
       "  list-style: none;\n",
       "  padding: 0 !important;\n",
       "  margin: 0;\n",
       "}\n",
       "\n",
       ".xr-dim-list li {\n",
       "  display: inline-block;\n",
       "  padding: 0;\n",
       "  margin: 0;\n",
       "}\n",
       "\n",
       ".xr-dim-list:before {\n",
       "  content: \"(\";\n",
       "}\n",
       "\n",
       ".xr-dim-list:after {\n",
       "  content: \")\";\n",
       "}\n",
       "\n",
       ".xr-dim-list li:not(:last-child):after {\n",
       "  content: \",\";\n",
       "  padding-right: 5px;\n",
       "}\n",
       "\n",
       ".xr-has-index {\n",
       "  font-weight: bold;\n",
       "}\n",
       "\n",
       ".xr-var-list,\n",
       ".xr-var-item {\n",
       "  display: contents;\n",
       "}\n",
       "\n",
       ".xr-var-item > div,\n",
       ".xr-var-item label,\n",
       ".xr-var-item > .xr-var-name span {\n",
       "  background-color: var(--xr-background-color-row-even);\n",
       "  margin-bottom: 0;\n",
       "}\n",
       "\n",
       ".xr-var-item > .xr-var-name:hover span {\n",
       "  padding-right: 5px;\n",
       "}\n",
       "\n",
       ".xr-var-list > li:nth-child(odd) > div,\n",
       ".xr-var-list > li:nth-child(odd) > label,\n",
       ".xr-var-list > li:nth-child(odd) > .xr-var-name span {\n",
       "  background-color: var(--xr-background-color-row-odd);\n",
       "}\n",
       "\n",
       ".xr-var-name {\n",
       "  grid-column: 1;\n",
       "}\n",
       "\n",
       ".xr-var-dims {\n",
       "  grid-column: 2;\n",
       "}\n",
       "\n",
       ".xr-var-dtype {\n",
       "  grid-column: 3;\n",
       "  text-align: right;\n",
       "  color: var(--xr-font-color2);\n",
       "}\n",
       "\n",
       ".xr-var-preview {\n",
       "  grid-column: 4;\n",
       "}\n",
       "\n",
       ".xr-index-preview {\n",
       "  grid-column: 2 / 5;\n",
       "  color: var(--xr-font-color2);\n",
       "}\n",
       "\n",
       ".xr-var-name,\n",
       ".xr-var-dims,\n",
       ".xr-var-dtype,\n",
       ".xr-preview,\n",
       ".xr-attrs dt {\n",
       "  white-space: nowrap;\n",
       "  overflow: hidden;\n",
       "  text-overflow: ellipsis;\n",
       "  padding-right: 10px;\n",
       "}\n",
       "\n",
       ".xr-var-name:hover,\n",
       ".xr-var-dims:hover,\n",
       ".xr-var-dtype:hover,\n",
       ".xr-attrs dt:hover {\n",
       "  overflow: visible;\n",
       "  width: auto;\n",
       "  z-index: 1;\n",
       "}\n",
       "\n",
       ".xr-var-attrs,\n",
       ".xr-var-data,\n",
       ".xr-index-data {\n",
       "  display: none;\n",
       "  background-color: var(--xr-background-color) !important;\n",
       "  padding-bottom: 5px !important;\n",
       "}\n",
       "\n",
       ".xr-var-attrs-in:checked ~ .xr-var-attrs,\n",
       ".xr-var-data-in:checked ~ .xr-var-data,\n",
       ".xr-index-data-in:checked ~ .xr-index-data {\n",
       "  display: block;\n",
       "}\n",
       "\n",
       ".xr-var-data > table {\n",
       "  float: right;\n",
       "}\n",
       "\n",
       ".xr-var-name span,\n",
       ".xr-var-data,\n",
       ".xr-index-name div,\n",
       ".xr-index-data,\n",
       ".xr-attrs {\n",
       "  padding-left: 25px !important;\n",
       "}\n",
       "\n",
       ".xr-attrs,\n",
       ".xr-var-attrs,\n",
       ".xr-var-data,\n",
       ".xr-index-data {\n",
       "  grid-column: 1 / -1;\n",
       "}\n",
       "\n",
       "dl.xr-attrs {\n",
       "  padding: 0;\n",
       "  margin: 0;\n",
       "  display: grid;\n",
       "  grid-template-columns: 125px auto;\n",
       "}\n",
       "\n",
       ".xr-attrs dt,\n",
       ".xr-attrs dd {\n",
       "  padding: 0;\n",
       "  margin: 0;\n",
       "  float: left;\n",
       "  padding-right: 10px;\n",
       "  width: auto;\n",
       "}\n",
       "\n",
       ".xr-attrs dt {\n",
       "  font-weight: normal;\n",
       "  grid-column: 1;\n",
       "}\n",
       "\n",
       ".xr-attrs dt:hover span {\n",
       "  display: inline-block;\n",
       "  background: var(--xr-background-color);\n",
       "  padding-right: 10px;\n",
       "}\n",
       "\n",
       ".xr-attrs dd {\n",
       "  grid-column: 2;\n",
       "  white-space: pre-wrap;\n",
       "  word-break: break-all;\n",
       "}\n",
       "\n",
       ".xr-icon-database,\n",
       ".xr-icon-file-text2,\n",
       ".xr-no-icon {\n",
       "  display: inline-block;\n",
       "  vertical-align: middle;\n",
       "  width: 1em;\n",
       "  height: 1.5em !important;\n",
       "  stroke-width: 0;\n",
       "  stroke: currentColor;\n",
       "  fill: currentColor;\n",
       "}\n",
       "</style><pre class='xr-text-repr-fallback'>&lt;xarray.Dataset&gt; Size: 6kB\n",
       "Dimensions:            (time: 155)\n",
       "Coordinates:\n",
       "  * time               (time) datetime64[ns] 1kB 2002-01-31 ... 2014-11-30\n",
       "Data variables:\n",
       "    day                (time) float64 1kB 1.397 1.473 1.671 ... 2.044 1.719\n",
       "    night              (time) float64 1kB 2.237 2.552 2.728 ... 3.276 3.031\n",
       "    day_lowess_0.15    (time) float64 1kB 1.465 1.506 1.686 ... 2.227 2.034 1.76\n",
       "    night_lowess_0.15  (time) float64 1kB 2.538 2.533 2.785 ... 3.185 2.977\n",
       "Attributes:\n",
       "    desc:     Aggregated and smoothed observations using lowess filtre.</pre><div class='xr-wrap' style='display:none'><div class='xr-header'><div class='xr-obj-type'>xarray.Dataset</div></div><ul class='xr-sections'><li class='xr-section-item'><input id='section-221bdcb8-d1b4-4db9-a9f6-5eafb15ffe57' class='xr-section-summary-in' type='checkbox' disabled ><label for='section-221bdcb8-d1b4-4db9-a9f6-5eafb15ffe57' class='xr-section-summary'  title='Expand/collapse section'>Dimensions:</label><div class='xr-section-inline-details'><ul class='xr-dim-list'><li><span class='xr-has-index'>time</span>: 155</li></ul></div><div class='xr-section-details'></div></li><li class='xr-section-item'><input id='section-f6e04ede-a51e-4ed5-ae87-0ab7862fdb2f' class='xr-section-summary-in' type='checkbox'  checked><label for='section-f6e04ede-a51e-4ed5-ae87-0ab7862fdb2f' class='xr-section-summary' >Coordinates: <span>(1)</span></label><div class='xr-section-inline-details'></div><div class='xr-section-details'><ul class='xr-var-list'><li class='xr-var-item'><div class='xr-var-name'><span class='xr-has-index'>time</span></div><div class='xr-var-dims'>(time)</div><div class='xr-var-dtype'>datetime64[ns]</div><div class='xr-var-preview xr-preview'>2002-01-31 ... 2014-11-30</div><input id='attrs-fd2f0d91-29cd-44b9-9603-624bb547fd0b' class='xr-var-attrs-in' type='checkbox' disabled><label for='attrs-fd2f0d91-29cd-44b9-9603-624bb547fd0b' title='Show/Hide attributes'><svg class='icon xr-icon-file-text2'><use xlink:href='#icon-file-text2'></use></svg></label><input id='data-dfa4be84-9c47-49fa-a206-88c98c4e3407' class='xr-var-data-in' type='checkbox'><label for='data-dfa4be84-9c47-49fa-a206-88c98c4e3407' title='Show/Hide data repr'><svg class='icon xr-icon-database'><use xlink:href='#icon-database'></use></svg></label><div class='xr-var-attrs'><dl class='xr-attrs'></dl></div><div class='xr-var-data'><pre>array([&#x27;2002-01-31T00:00:00.000000000&#x27;, &#x27;2002-02-28T00:00:00.000000000&#x27;,\n",
       "       &#x27;2002-03-31T00:00:00.000000000&#x27;, &#x27;2002-04-30T00:00:00.000000000&#x27;,\n",
       "       &#x27;2002-05-31T00:00:00.000000000&#x27;, &#x27;2002-06-30T00:00:00.000000000&#x27;,\n",
       "       &#x27;2002-07-31T00:00:00.000000000&#x27;, &#x27;2002-08-31T00:00:00.000000000&#x27;,\n",
       "       &#x27;2002-09-30T00:00:00.000000000&#x27;, &#x27;2002-10-31T00:00:00.000000000&#x27;,\n",
       "       &#x27;2002-11-30T00:00:00.000000000&#x27;, &#x27;2002-12-31T00:00:00.000000000&#x27;,\n",
       "       &#x27;2003-01-31T00:00:00.000000000&#x27;, &#x27;2003-02-28T00:00:00.000000000&#x27;,\n",
       "       &#x27;2003-03-31T00:00:00.000000000&#x27;, &#x27;2003-04-30T00:00:00.000000000&#x27;,\n",
       "       &#x27;2003-05-31T00:00:00.000000000&#x27;, &#x27;2003-06-30T00:00:00.000000000&#x27;,\n",
       "       &#x27;2003-07-31T00:00:00.000000000&#x27;, &#x27;2003-08-31T00:00:00.000000000&#x27;,\n",
       "       &#x27;2003-09-30T00:00:00.000000000&#x27;, &#x27;2003-10-31T00:00:00.000000000&#x27;,\n",
       "       &#x27;2003-11-30T00:00:00.000000000&#x27;, &#x27;2003-12-31T00:00:00.000000000&#x27;,\n",
       "       &#x27;2004-01-31T00:00:00.000000000&#x27;, &#x27;2004-02-29T00:00:00.000000000&#x27;,\n",
       "       &#x27;2004-03-31T00:00:00.000000000&#x27;, &#x27;2004-04-30T00:00:00.000000000&#x27;,\n",
       "       &#x27;2004-05-31T00:00:00.000000000&#x27;, &#x27;2004-06-30T00:00:00.000000000&#x27;,\n",
       "       &#x27;2004-07-31T00:00:00.000000000&#x27;, &#x27;2004-08-31T00:00:00.000000000&#x27;,\n",
       "       &#x27;2004-09-30T00:00:00.000000000&#x27;, &#x27;2004-10-31T00:00:00.000000000&#x27;,\n",
       "       &#x27;2004-11-30T00:00:00.000000000&#x27;, &#x27;2004-12-31T00:00:00.000000000&#x27;,\n",
       "       &#x27;2005-01-31T00:00:00.000000000&#x27;, &#x27;2005-02-28T00:00:00.000000000&#x27;,\n",
       "       &#x27;2005-03-31T00:00:00.000000000&#x27;, &#x27;2005-04-30T00:00:00.000000000&#x27;,\n",
       "       &#x27;2005-05-31T00:00:00.000000000&#x27;, &#x27;2005-06-30T00:00:00.000000000&#x27;,\n",
       "       &#x27;2005-07-31T00:00:00.000000000&#x27;, &#x27;2005-08-31T00:00:00.000000000&#x27;,\n",
       "       &#x27;2005-09-30T00:00:00.000000000&#x27;, &#x27;2005-10-31T00:00:00.000000000&#x27;,\n",
       "       &#x27;2005-11-30T00:00:00.000000000&#x27;, &#x27;2005-12-31T00:00:00.000000000&#x27;,\n",
       "       &#x27;2006-01-31T00:00:00.000000000&#x27;, &#x27;2006-02-28T00:00:00.000000000&#x27;,\n",
       "       &#x27;2006-03-31T00:00:00.000000000&#x27;, &#x27;2006-04-30T00:00:00.000000000&#x27;,\n",
       "       &#x27;2006-05-31T00:00:00.000000000&#x27;, &#x27;2006-06-30T00:00:00.000000000&#x27;,\n",
       "       &#x27;2006-07-31T00:00:00.000000000&#x27;, &#x27;2006-08-31T00:00:00.000000000&#x27;,\n",
       "       &#x27;2006-09-30T00:00:00.000000000&#x27;, &#x27;2006-10-31T00:00:00.000000000&#x27;,\n",
       "       &#x27;2006-11-30T00:00:00.000000000&#x27;, &#x27;2006-12-31T00:00:00.000000000&#x27;,\n",
       "       &#x27;2007-01-31T00:00:00.000000000&#x27;, &#x27;2007-02-28T00:00:00.000000000&#x27;,\n",
       "       &#x27;2007-03-31T00:00:00.000000000&#x27;, &#x27;2007-04-30T00:00:00.000000000&#x27;,\n",
       "       &#x27;2007-05-31T00:00:00.000000000&#x27;, &#x27;2007-06-30T00:00:00.000000000&#x27;,\n",
       "       &#x27;2007-07-31T00:00:00.000000000&#x27;, &#x27;2007-08-31T00:00:00.000000000&#x27;,\n",
       "       &#x27;2007-09-30T00:00:00.000000000&#x27;, &#x27;2007-10-31T00:00:00.000000000&#x27;,\n",
       "       &#x27;2007-11-30T00:00:00.000000000&#x27;, &#x27;2007-12-31T00:00:00.000000000&#x27;,\n",
       "       &#x27;2008-01-31T00:00:00.000000000&#x27;, &#x27;2008-02-29T00:00:00.000000000&#x27;,\n",
       "       &#x27;2008-03-31T00:00:00.000000000&#x27;, &#x27;2008-04-30T00:00:00.000000000&#x27;,\n",
       "       &#x27;2008-05-31T00:00:00.000000000&#x27;, &#x27;2008-06-30T00:00:00.000000000&#x27;,\n",
       "       &#x27;2008-07-31T00:00:00.000000000&#x27;, &#x27;2008-08-31T00:00:00.000000000&#x27;,\n",
       "       &#x27;2008-09-30T00:00:00.000000000&#x27;, &#x27;2008-10-31T00:00:00.000000000&#x27;,\n",
       "       &#x27;2008-11-30T00:00:00.000000000&#x27;, &#x27;2008-12-31T00:00:00.000000000&#x27;,\n",
       "       &#x27;2009-01-31T00:00:00.000000000&#x27;, &#x27;2009-02-28T00:00:00.000000000&#x27;,\n",
       "       &#x27;2009-03-31T00:00:00.000000000&#x27;, &#x27;2009-04-30T00:00:00.000000000&#x27;,\n",
       "       &#x27;2009-05-31T00:00:00.000000000&#x27;, &#x27;2009-06-30T00:00:00.000000000&#x27;,\n",
       "       &#x27;2009-07-31T00:00:00.000000000&#x27;, &#x27;2009-08-31T00:00:00.000000000&#x27;,\n",
       "       &#x27;2009-09-30T00:00:00.000000000&#x27;, &#x27;2009-10-31T00:00:00.000000000&#x27;,\n",
       "       &#x27;2009-11-30T00:00:00.000000000&#x27;, &#x27;2009-12-31T00:00:00.000000000&#x27;,\n",
       "       &#x27;2010-01-31T00:00:00.000000000&#x27;, &#x27;2010-02-28T00:00:00.000000000&#x27;,\n",
       "       &#x27;2010-03-31T00:00:00.000000000&#x27;, &#x27;2010-04-30T00:00:00.000000000&#x27;,\n",
       "       &#x27;2010-05-31T00:00:00.000000000&#x27;, &#x27;2010-06-30T00:00:00.000000000&#x27;,\n",
       "       &#x27;2010-07-31T00:00:00.000000000&#x27;, &#x27;2010-08-31T00:00:00.000000000&#x27;,\n",
       "       &#x27;2010-09-30T00:00:00.000000000&#x27;, &#x27;2010-10-31T00:00:00.000000000&#x27;,\n",
       "       &#x27;2010-11-30T00:00:00.000000000&#x27;, &#x27;2010-12-31T00:00:00.000000000&#x27;,\n",
       "       &#x27;2011-01-31T00:00:00.000000000&#x27;, &#x27;2011-02-28T00:00:00.000000000&#x27;,\n",
       "       &#x27;2011-03-31T00:00:00.000000000&#x27;, &#x27;2011-04-30T00:00:00.000000000&#x27;,\n",
       "       &#x27;2011-05-31T00:00:00.000000000&#x27;, &#x27;2011-06-30T00:00:00.000000000&#x27;,\n",
       "       &#x27;2011-07-31T00:00:00.000000000&#x27;, &#x27;2011-08-31T00:00:00.000000000&#x27;,\n",
       "       &#x27;2011-09-30T00:00:00.000000000&#x27;, &#x27;2011-10-31T00:00:00.000000000&#x27;,\n",
       "       &#x27;2011-11-30T00:00:00.000000000&#x27;, &#x27;2011-12-31T00:00:00.000000000&#x27;,\n",
       "       &#x27;2012-01-31T00:00:00.000000000&#x27;, &#x27;2012-02-29T00:00:00.000000000&#x27;,\n",
       "       &#x27;2012-03-31T00:00:00.000000000&#x27;, &#x27;2012-04-30T00:00:00.000000000&#x27;,\n",
       "       &#x27;2012-05-31T00:00:00.000000000&#x27;, &#x27;2012-06-30T00:00:00.000000000&#x27;,\n",
       "       &#x27;2012-07-31T00:00:00.000000000&#x27;, &#x27;2012-08-31T00:00:00.000000000&#x27;,\n",
       "       &#x27;2012-09-30T00:00:00.000000000&#x27;, &#x27;2012-10-31T00:00:00.000000000&#x27;,\n",
       "       &#x27;2012-11-30T00:00:00.000000000&#x27;, &#x27;2012-12-31T00:00:00.000000000&#x27;,\n",
       "       &#x27;2013-01-31T00:00:00.000000000&#x27;, &#x27;2013-02-28T00:00:00.000000000&#x27;,\n",
       "       &#x27;2013-03-31T00:00:00.000000000&#x27;, &#x27;2013-04-30T00:00:00.000000000&#x27;,\n",
       "       &#x27;2013-05-31T00:00:00.000000000&#x27;, &#x27;2013-06-30T00:00:00.000000000&#x27;,\n",
       "       &#x27;2013-07-31T00:00:00.000000000&#x27;, &#x27;2013-08-31T00:00:00.000000000&#x27;,\n",
       "       &#x27;2013-09-30T00:00:00.000000000&#x27;, &#x27;2013-10-31T00:00:00.000000000&#x27;,\n",
       "       &#x27;2013-11-30T00:00:00.000000000&#x27;, &#x27;2013-12-31T00:00:00.000000000&#x27;,\n",
       "       &#x27;2014-01-31T00:00:00.000000000&#x27;, &#x27;2014-02-28T00:00:00.000000000&#x27;,\n",
       "       &#x27;2014-03-31T00:00:00.000000000&#x27;, &#x27;2014-04-30T00:00:00.000000000&#x27;,\n",
       "       &#x27;2014-05-31T00:00:00.000000000&#x27;, &#x27;2014-06-30T00:00:00.000000000&#x27;,\n",
       "       &#x27;2014-07-31T00:00:00.000000000&#x27;, &#x27;2014-08-31T00:00:00.000000000&#x27;,\n",
       "       &#x27;2014-09-30T00:00:00.000000000&#x27;, &#x27;2014-10-31T00:00:00.000000000&#x27;,\n",
       "       &#x27;2014-11-30T00:00:00.000000000&#x27;], dtype=&#x27;datetime64[ns]&#x27;)</pre></div></li></ul></div></li><li class='xr-section-item'><input id='section-a3cc2d8b-3277-4557-9761-f422db445d65' class='xr-section-summary-in' type='checkbox'  checked><label for='section-a3cc2d8b-3277-4557-9761-f422db445d65' class='xr-section-summary' >Data variables: <span>(4)</span></label><div class='xr-section-inline-details'></div><div class='xr-section-details'><ul class='xr-var-list'><li class='xr-var-item'><div class='xr-var-name'><span>day</span></div><div class='xr-var-dims'>(time)</div><div class='xr-var-dtype'>float64</div><div class='xr-var-preview xr-preview'>1.397 1.473 1.671 ... 2.044 1.719</div><input id='attrs-c7ec868e-e647-4917-80d3-40c8af602e97' class='xr-var-attrs-in' type='checkbox' ><label for='attrs-c7ec868e-e647-4917-80d3-40c8af602e97' title='Show/Hide attributes'><svg class='icon xr-icon-file-text2'><use xlink:href='#icon-file-text2'></use></svg></label><input id='data-5a1abbf2-0ec9-421f-bf31-0a32a522120c' class='xr-var-data-in' type='checkbox'><label for='data-5a1abbf2-0ec9-421f-bf31-0a32a522120c' title='Show/Hide data repr'><svg class='icon xr-icon-database'><use xlink:href='#icon-database'></use></svg></label><div class='xr-var-attrs'><dl class='xr-attrs'><dt><span>units :</span></dt><dd>mg/m3</dd></dl></div><div class='xr-var-data'><pre>array([1.39741176, 1.47263193, 1.67113065, 1.92700065, 2.01080433,\n",
       "       2.083478  , 2.1951159 , 2.34508304, 2.32331868, 2.04404128,\n",
       "       1.71878358, 1.52839926, 1.39741176, 1.47263193, 1.67113065,\n",
       "       1.92700065, 2.01080433, 2.083478  , 2.1951159 , 2.34508304,\n",
       "       2.32331868, 2.04404128, 1.71878358, 1.52839926, 1.39741176,\n",
       "       1.47263193, 1.67113065, 1.92700065, 2.01080433, 2.083478  ,\n",
       "       2.1951159 , 2.34508304, 2.32331868, 2.04404128, 1.71878358,\n",
       "       1.52839926, 1.39741176, 1.47263193, 1.67113065, 1.92700065,\n",
       "       2.01080433, 2.083478  , 2.1951159 , 2.34508304, 2.32331868,\n",
       "       2.04404128, 1.71878358, 1.52839926, 1.39741176, 1.47263193,\n",
       "       1.67113065, 1.92700065, 2.01080433, 2.083478  , 2.1951159 ,\n",
       "       2.34508304, 2.32331868, 2.04404128, 1.71878358, 1.52839926,\n",
       "       1.39741176, 1.47263193, 1.67113065, 1.92700065, 2.01080433,\n",
       "       2.083478  , 2.1951159 , 2.34508304, 2.32331868, 2.04404128,\n",
       "       1.71878358, 1.52839926, 1.39741176, 1.47263193, 1.67113065,\n",
       "       1.92700065, 2.01080433, 2.083478  , 2.1951159 , 2.34508304,\n",
       "       2.32331868, 2.04404128, 1.71878358, 1.52839926, 1.39741176,\n",
       "       1.47263193, 1.67113065, 1.92700065, 2.01080433, 2.083478  ,\n",
       "       2.1951159 , 2.34508304, 2.32331868, 2.04404128, 1.71878358,\n",
       "       1.52839926, 1.39741176, 1.47263193, 1.67113065, 1.92700065,\n",
       "       2.01080433, 2.083478  , 2.1951159 , 2.34508304, 2.32331868,\n",
       "       2.04404128, 1.71878358, 1.52839926, 1.39741176, 1.47263193,\n",
       "       1.67113065, 1.92700065, 2.01080433, 2.083478  , 2.1951159 ,\n",
       "       2.34508304, 2.32331868, 2.04404128, 1.71878358, 1.52839926,\n",
       "       1.39741176, 1.47263193, 1.67113065, 1.92700065, 2.01080433,\n",
       "       2.083478  , 2.1951159 , 2.34508304, 2.32331868, 2.04404128,\n",
       "       1.71878358, 1.52839926, 1.39741176, 1.47263193, 1.67113065,\n",
       "       1.92700065, 2.01080433, 2.083478  , 2.1951159 , 2.34508304,\n",
       "       2.32331868, 2.04404128, 1.71878358, 1.52839926, 1.39741176,\n",
       "       1.47263193, 1.67113065, 1.92700065, 2.01080433, 2.083478  ,\n",
       "       2.1951159 , 2.34508304, 2.32331868, 2.04404128, 1.71878358])</pre></div></li><li class='xr-var-item'><div class='xr-var-name'><span>night</span></div><div class='xr-var-dims'>(time)</div><div class='xr-var-dtype'>float64</div><div class='xr-var-preview xr-preview'>2.237 2.552 2.728 ... 3.276 3.031</div><input id='attrs-cb2eb4d6-ca2c-4423-b376-e6cde6a07dac' class='xr-var-attrs-in' type='checkbox' ><label for='attrs-cb2eb4d6-ca2c-4423-b376-e6cde6a07dac' title='Show/Hide attributes'><svg class='icon xr-icon-file-text2'><use xlink:href='#icon-file-text2'></use></svg></label><input id='data-e4a49359-78b2-44b8-a143-91a5f4e8d423' class='xr-var-data-in' type='checkbox'><label for='data-e4a49359-78b2-44b8-a143-91a5f4e8d423' title='Show/Hide data repr'><svg class='icon xr-icon-database'><use xlink:href='#icon-database'></use></svg></label><div class='xr-var-attrs'><dl class='xr-attrs'><dt><span>units :</span></dt><dd>mg/m3</dd></dl></div><div class='xr-var-data'><pre>array([2.23711992, 2.55167207, 2.72792017, 3.1274618 , 3.02449493,\n",
       "       3.11451182, 3.41485379, 3.36435628, 3.21446945, 3.27566412,\n",
       "       3.03129268, 2.59485805, 2.23711992, 2.55167207, 2.72792017,\n",
       "       3.1274618 , 3.02449493, 3.11451182, 3.41485379, 3.36435628,\n",
       "       3.21446945, 3.27566412, 3.03129268, 2.59485805, 2.23711992,\n",
       "       2.55167207, 2.72792017, 3.1274618 , 3.02449493, 3.11451182,\n",
       "       3.41485379, 3.36435628, 3.21446945, 3.27566412, 3.03129268,\n",
       "       2.59485805, 2.23711992, 2.55167207, 2.72792017, 3.1274618 ,\n",
       "       3.02449493, 3.11451182, 3.41485379, 3.36435628, 3.21446945,\n",
       "       3.27566412, 3.03129268, 2.59485805, 2.23711992, 2.55167207,\n",
       "       2.72792017, 3.1274618 , 3.02449493, 3.11451182, 3.41485379,\n",
       "       3.36435628, 3.21446945, 3.27566412, 3.03129268, 2.59485805,\n",
       "       2.23711992, 2.55167207, 2.72792017, 3.1274618 , 3.02449493,\n",
       "       3.11451182, 3.41485379, 3.36435628, 3.21446945, 3.27566412,\n",
       "       3.03129268, 2.59485805, 2.23711992, 2.55167207, 2.72792017,\n",
       "       3.1274618 , 3.02449493, 3.11451182, 3.41485379, 3.36435628,\n",
       "       3.21446945, 3.27566412, 3.03129268, 2.59485805, 2.23711992,\n",
       "       2.55167207, 2.72792017, 3.1274618 , 3.02449493, 3.11451182,\n",
       "       3.41485379, 3.36435628, 3.21446945, 3.27566412, 3.03129268,\n",
       "       2.59485805, 2.23711992, 2.55167207, 2.72792017, 3.1274618 ,\n",
       "       3.02449493, 3.11451182, 3.41485379, 3.36435628, 3.21446945,\n",
       "       3.27566412, 3.03129268, 2.59485805, 2.23711992, 2.55167207,\n",
       "       2.72792017, 3.1274618 , 3.02449493, 3.11451182, 3.41485379,\n",
       "       3.36435628, 3.21446945, 3.27566412, 3.03129268, 2.59485805,\n",
       "       2.23711992, 2.55167207, 2.72792017, 3.1274618 , 3.02449493,\n",
       "       3.11451182, 3.41485379, 3.36435628, 3.21446945, 3.27566412,\n",
       "       3.03129268, 2.59485805, 2.23711992, 2.55167207, 2.72792017,\n",
       "       3.1274618 , 3.02449493, 3.11451182, 3.41485379, 3.36435628,\n",
       "       3.21446945, 3.27566412, 3.03129268, 2.59485805, 2.23711992,\n",
       "       2.55167207, 2.72792017, 3.1274618 , 3.02449493, 3.11451182,\n",
       "       3.41485379, 3.36435628, 3.21446945, 3.27566412, 3.03129268])</pre></div></li><li class='xr-var-item'><div class='xr-var-name'><span>day_lowess_0.15</span></div><div class='xr-var-dims'>(time)</div><div class='xr-var-dtype'>float64</div><div class='xr-var-preview xr-preview'>1.465 1.506 1.686 ... 2.034 1.76</div><input id='attrs-39da15c8-b589-449c-bda6-3e7b6f0adc52' class='xr-var-attrs-in' type='checkbox' ><label for='attrs-39da15c8-b589-449c-bda6-3e7b6f0adc52' title='Show/Hide attributes'><svg class='icon xr-icon-file-text2'><use xlink:href='#icon-file-text2'></use></svg></label><input id='data-db950c43-8429-4c7e-bb37-b780c699b14e' class='xr-var-data-in' type='checkbox'><label for='data-db950c43-8429-4c7e-bb37-b780c699b14e' title='Show/Hide data repr'><svg class='icon xr-icon-database'><use xlink:href='#icon-database'></use></svg></label><div class='xr-var-attrs'><dl class='xr-attrs'><dt><span>units :</span></dt><dd>mg/m3</dd></dl></div><div class='xr-var-data'><pre>array([1.46545227, 1.50571806, 1.68633901, 1.87231064, 2.00782516,\n",
       "       2.09466137, 2.20564519, 2.30338711, 2.22738534, 2.03414538,\n",
       "       1.75960612, 1.54333362, 1.46545227, 1.50571806, 1.68633901,\n",
       "       1.87231064, 2.00782516, 2.09466137, 2.20564519, 2.30338711,\n",
       "       2.22738534, 2.03414538, 1.75960612, 1.54333362, 1.46545227,\n",
       "       1.50571806, 1.68633901, 1.87231064, 2.00782516, 2.09466137,\n",
       "       2.20564519, 2.30338711, 2.22738534, 2.03414538, 1.75960612,\n",
       "       1.54333362, 1.46545227, 1.50571806, 1.68633901, 1.87231064,\n",
       "       2.00782516, 2.09466137, 2.20564519, 2.30338711, 2.22738534,\n",
       "       2.03414538, 1.75960612, 1.54333362, 1.46545227, 1.50571806,\n",
       "       1.68633901, 1.87231064, 2.00782516, 2.09466137, 2.20564519,\n",
       "       2.30338711, 2.22738534, 2.03414538, 1.75960612, 1.54333362,\n",
       "       1.46545227, 1.50571806, 1.68633901, 1.87231064, 2.00782516,\n",
       "       2.09466137, 2.20564519, 2.30338711, 2.22738534, 2.03414538,\n",
       "       1.75960612, 1.54333362, 1.46545227, 1.50571806, 1.68633901,\n",
       "       1.87231064, 2.00782516, 2.09466137, 2.20564519, 2.30338711,\n",
       "       2.22738534, 2.03414538, 1.75960612, 1.54333362, 1.46545227,\n",
       "       1.50571806, 1.68633901, 1.87231064, 2.00782516, 2.09466137,\n",
       "       2.20564519, 2.30338711, 2.22738534, 2.03414538, 1.75960612,\n",
       "       1.54333362, 1.46545227, 1.50571806, 1.68633901, 1.87231064,\n",
       "       2.00782516, 2.09466137, 2.20564519, 2.30338711, 2.22738534,\n",
       "       2.03414538, 1.75960612, 1.54333362, 1.46545227, 1.50571806,\n",
       "       1.68633901, 1.87231064, 2.00782516, 2.09466137, 2.20564519,\n",
       "       2.30338711, 2.22738534, 2.03414538, 1.75960612, 1.54333362,\n",
       "       1.46545227, 1.50571806, 1.68633901, 1.87231064, 2.00782516,\n",
       "       2.09466137, 2.20564519, 2.30338711, 2.22738534, 2.03414538,\n",
       "       1.75960612, 1.54333362, 1.46545227, 1.50571806, 1.68633901,\n",
       "       1.87231064, 2.00782516, 2.09466137, 2.20564519, 2.30338711,\n",
       "       2.22738534, 2.03414538, 1.75960612, 1.54333362, 1.46545227,\n",
       "       1.50571806, 1.68633901, 1.87231064, 2.00782516, 2.09466137,\n",
       "       2.20564519, 2.30338711, 2.22738534, 2.03414538, 1.75960612])</pre></div></li><li class='xr-var-item'><div class='xr-var-name'><span>night_lowess_0.15</span></div><div class='xr-var-dims'>(time)</div><div class='xr-var-dtype'>float64</div><div class='xr-var-preview xr-preview'>2.538 2.533 2.785 ... 3.185 2.977</div><input id='attrs-7b45fc97-e3aa-40cc-922f-9b7b63fb887c' class='xr-var-attrs-in' type='checkbox' ><label for='attrs-7b45fc97-e3aa-40cc-922f-9b7b63fb887c' title='Show/Hide attributes'><svg class='icon xr-icon-file-text2'><use xlink:href='#icon-file-text2'></use></svg></label><input id='data-347cdae7-f7be-47c6-934f-22d7c10af545' class='xr-var-data-in' type='checkbox'><label for='data-347cdae7-f7be-47c6-934f-22d7c10af545' title='Show/Hide data repr'><svg class='icon xr-icon-database'><use xlink:href='#icon-database'></use></svg></label><div class='xr-var-attrs'><dl class='xr-attrs'><dt><span>units :</span></dt><dd>mg/m3</dd></dl></div><div class='xr-var-data'><pre>array([2.53753752, 2.53309783, 2.78532003, 2.95653335, 3.07331495,\n",
       "       3.17310318, 3.30771167, 3.33732123, 3.27446509, 3.18511431,\n",
       "       2.97686123, 2.60537499, 2.53753752, 2.53309783, 2.78532003,\n",
       "       2.95653335, 3.07331495, 3.17310318, 3.30771167, 3.33732123,\n",
       "       3.27446509, 3.18511431, 2.97686123, 2.60537499, 2.53753752,\n",
       "       2.53309783, 2.78532003, 2.95653335, 3.07331495, 3.17310318,\n",
       "       3.30771167, 3.33732123, 3.27446509, 3.18511431, 2.97686123,\n",
       "       2.60537499, 2.53753752, 2.53309783, 2.78532003, 2.95653335,\n",
       "       3.07331495, 3.17310318, 3.30771167, 3.33732123, 3.27446509,\n",
       "       3.18511431, 2.97686123, 2.60537499, 2.53753752, 2.53309783,\n",
       "       2.78532003, 2.95653335, 3.07331495, 3.17310318, 3.30771167,\n",
       "       3.33732123, 3.27446509, 3.18511431, 2.97686123, 2.60537499,\n",
       "       2.53753752, 2.53309783, 2.78532003, 2.95653335, 3.07331495,\n",
       "       3.17310318, 3.30771167, 3.33732123, 3.27446509, 3.18511431,\n",
       "       2.97686123, 2.60537499, 2.53753752, 2.53309783, 2.78532003,\n",
       "       2.95653335, 3.07331495, 3.17310318, 3.30771167, 3.33732123,\n",
       "       3.27446509, 3.18511431, 2.97686123, 2.60537499, 2.53753752,\n",
       "       2.53309783, 2.78532003, 2.95653335, 3.07331495, 3.17310318,\n",
       "       3.30771167, 3.33732123, 3.27446509, 3.18511431, 2.97686123,\n",
       "       2.60537499, 2.53753752, 2.53309783, 2.78532003, 2.95653335,\n",
       "       3.07331495, 3.17310318, 3.30771167, 3.33732123, 3.27446509,\n",
       "       3.18511431, 2.97686123, 2.60537499, 2.53753752, 2.53309783,\n",
       "       2.78532003, 2.95653335, 3.07331495, 3.17310318, 3.30771167,\n",
       "       3.33732123, 3.27446509, 3.18511431, 2.97686123, 2.60537499,\n",
       "       2.53753752, 2.53309783, 2.78532003, 2.95653335, 3.07331495,\n",
       "       3.17310318, 3.30771167, 3.33732123, 3.27446509, 3.18511431,\n",
       "       2.97686123, 2.60537499, 2.53753752, 2.53309783, 2.78532003,\n",
       "       2.95653335, 3.07331495, 3.17310318, 3.30771167, 3.33732123,\n",
       "       3.27446509, 3.18511431, 2.97686123, 2.60537499, 2.53753752,\n",
       "       2.53309783, 2.78532003, 2.95653335, 3.07331495, 3.17310318,\n",
       "       3.30771167, 3.33732123, 3.27446509, 3.18511431, 2.97686123])</pre></div></li></ul></div></li><li class='xr-section-item'><input id='section-83f91890-8658-4ba1-805b-b9e23fa2e839' class='xr-section-summary-in' type='checkbox'  ><label for='section-83f91890-8658-4ba1-805b-b9e23fa2e839' class='xr-section-summary' >Indexes: <span>(1)</span></label><div class='xr-section-inline-details'></div><div class='xr-section-details'><ul class='xr-var-list'><li class='xr-var-item'><div class='xr-index-name'><div>time</div></div><div class='xr-index-preview'>PandasIndex</div><input type='checkbox' disabled/><label></label><input id='index-c598b8c6-a485-4898-950a-7c63e06831d1' class='xr-index-data-in' type='checkbox'/><label for='index-c598b8c6-a485-4898-950a-7c63e06831d1' title='Show/Hide index repr'><svg class='icon xr-icon-database'><use xlink:href='#icon-database'></use></svg></label><div class='xr-index-data'><pre>PandasIndex(DatetimeIndex([&#x27;2002-01-31&#x27;, &#x27;2002-02-28&#x27;, &#x27;2002-03-31&#x27;, &#x27;2002-04-30&#x27;,\n",
       "               &#x27;2002-05-31&#x27;, &#x27;2002-06-30&#x27;, &#x27;2002-07-31&#x27;, &#x27;2002-08-31&#x27;,\n",
       "               &#x27;2002-09-30&#x27;, &#x27;2002-10-31&#x27;,\n",
       "               ...\n",
       "               &#x27;2014-02-28&#x27;, &#x27;2014-03-31&#x27;, &#x27;2014-04-30&#x27;, &#x27;2014-05-31&#x27;,\n",
       "               &#x27;2014-06-30&#x27;, &#x27;2014-07-31&#x27;, &#x27;2014-08-31&#x27;, &#x27;2014-09-30&#x27;,\n",
       "               &#x27;2014-10-31&#x27;, &#x27;2014-11-30&#x27;],\n",
       "              dtype=&#x27;datetime64[ns]&#x27;, name=&#x27;time&#x27;, length=155, freq=&#x27;ME&#x27;))</pre></div></li></ul></div></li><li class='xr-section-item'><input id='section-76bfeeb5-60aa-4354-b5e3-02f8ebb8905b' class='xr-section-summary-in' type='checkbox'  checked><label for='section-76bfeeb5-60aa-4354-b5e3-02f8ebb8905b' class='xr-section-summary' >Attributes: <span>(1)</span></label><div class='xr-section-inline-details'></div><div class='xr-section-details'><dl class='xr-attrs'><dt><span>desc :</span></dt><dd>Aggregated and smoothed observations using lowess filtre.</dd></dl></div></li></ul></div></div>"
      ],
      "text/plain": [
       "<xarray.Dataset> Size: 6kB\n",
       "Dimensions:            (time: 155)\n",
       "Coordinates:\n",
       "  * time               (time) datetime64[ns] 1kB 2002-01-31 ... 2014-11-30\n",
       "Data variables:\n",
       "    day                (time) float64 1kB 1.397 1.473 1.671 ... 2.044 1.719\n",
       "    night              (time) float64 1kB 2.237 2.552 2.728 ... 3.276 3.031\n",
       "    day_lowess_0.15    (time) float64 1kB 1.465 1.506 1.686 ... 2.227 2.034 1.76\n",
       "    night_lowess_0.15  (time) float64 1kB 2.538 2.533 2.785 ... 3.185 2.977\n",
       "Attributes:\n",
       "    desc:     Aggregated and smoothed observations using lowess filtre."
      ]
     },
     "execution_count": 32,
     "metadata": {},
     "output_type": "execute_result"
    }
   ],
   "source": [
    "climato_observations"
   ]
  },
  {
   "cell_type": "code",
   "execution_count": 33,
   "metadata": {},
   "outputs": [],
   "source": [
    "climato_observations = climato_observations.expand_dims(\n",
    "    latitude=[data.latitude[0]], longitude=[data.longitude[0]], layer=[data.layer[0]]\n",
    ")\n",
    "climato_observations = climato_observations.transpose(\"time\", \"latitude\", \"longitude\", \"layer\")"
   ]
  },
  {
   "cell_type": "code",
   "execution_count": 34,
   "metadata": {},
   "outputs": [
    {
     "data": {
      "text/html": [
       "<div><svg style=\"position: absolute; width: 0; height: 0; overflow: hidden\">\n",
       "<defs>\n",
       "<symbol id=\"icon-database\" viewBox=\"0 0 32 32\">\n",
       "<path d=\"M16 0c-8.837 0-16 2.239-16 5v4c0 2.761 7.163 5 16 5s16-2.239 16-5v-4c0-2.761-7.163-5-16-5z\"></path>\n",
       "<path d=\"M16 17c-8.837 0-16-2.239-16-5v6c0 2.761 7.163 5 16 5s16-2.239 16-5v-6c0 2.761-7.163 5-16 5z\"></path>\n",
       "<path d=\"M16 26c-8.837 0-16-2.239-16-5v6c0 2.761 7.163 5 16 5s16-2.239 16-5v-6c0 2.761-7.163 5-16 5z\"></path>\n",
       "</symbol>\n",
       "<symbol id=\"icon-file-text2\" viewBox=\"0 0 32 32\">\n",
       "<path d=\"M28.681 7.159c-0.694-0.947-1.662-2.053-2.724-3.116s-2.169-2.030-3.116-2.724c-1.612-1.182-2.393-1.319-2.841-1.319h-15.5c-1.378 0-2.5 1.121-2.5 2.5v27c0 1.378 1.122 2.5 2.5 2.5h23c1.378 0 2.5-1.122 2.5-2.5v-19.5c0-0.448-0.137-1.23-1.319-2.841zM24.543 5.457c0.959 0.959 1.712 1.825 2.268 2.543h-4.811v-4.811c0.718 0.556 1.584 1.309 2.543 2.268zM28 29.5c0 0.271-0.229 0.5-0.5 0.5h-23c-0.271 0-0.5-0.229-0.5-0.5v-27c0-0.271 0.229-0.5 0.5-0.5 0 0 15.499-0 15.5 0v7c0 0.552 0.448 1 1 1h7v19.5z\"></path>\n",
       "<path d=\"M23 26h-14c-0.552 0-1-0.448-1-1s0.448-1 1-1h14c0.552 0 1 0.448 1 1s-0.448 1-1 1z\"></path>\n",
       "<path d=\"M23 22h-14c-0.552 0-1-0.448-1-1s0.448-1 1-1h14c0.552 0 1 0.448 1 1s-0.448 1-1 1z\"></path>\n",
       "<path d=\"M23 18h-14c-0.552 0-1-0.448-1-1s0.448-1 1-1h14c0.552 0 1 0.448 1 1s-0.448 1-1 1z\"></path>\n",
       "</symbol>\n",
       "</defs>\n",
       "</svg>\n",
       "<style>/* CSS stylesheet for displaying xarray objects in jupyterlab.\n",
       " *\n",
       " */\n",
       "\n",
       ":root {\n",
       "  --xr-font-color0: var(--jp-content-font-color0, rgba(0, 0, 0, 1));\n",
       "  --xr-font-color2: var(--jp-content-font-color2, rgba(0, 0, 0, 0.54));\n",
       "  --xr-font-color3: var(--jp-content-font-color3, rgba(0, 0, 0, 0.38));\n",
       "  --xr-border-color: var(--jp-border-color2, #e0e0e0);\n",
       "  --xr-disabled-color: var(--jp-layout-color3, #bdbdbd);\n",
       "  --xr-background-color: var(--jp-layout-color0, white);\n",
       "  --xr-background-color-row-even: var(--jp-layout-color1, white);\n",
       "  --xr-background-color-row-odd: var(--jp-layout-color2, #eeeeee);\n",
       "}\n",
       "\n",
       "html[theme=\"dark\"],\n",
       "html[data-theme=\"dark\"],\n",
       "body[data-theme=\"dark\"],\n",
       "body.vscode-dark {\n",
       "  --xr-font-color0: rgba(255, 255, 255, 1);\n",
       "  --xr-font-color2: rgba(255, 255, 255, 0.54);\n",
       "  --xr-font-color3: rgba(255, 255, 255, 0.38);\n",
       "  --xr-border-color: #1f1f1f;\n",
       "  --xr-disabled-color: #515151;\n",
       "  --xr-background-color: #111111;\n",
       "  --xr-background-color-row-even: #111111;\n",
       "  --xr-background-color-row-odd: #313131;\n",
       "}\n",
       "\n",
       ".xr-wrap {\n",
       "  display: block !important;\n",
       "  min-width: 300px;\n",
       "  max-width: 700px;\n",
       "}\n",
       "\n",
       ".xr-text-repr-fallback {\n",
       "  /* fallback to plain text repr when CSS is not injected (untrusted notebook) */\n",
       "  display: none;\n",
       "}\n",
       "\n",
       ".xr-header {\n",
       "  padding-top: 6px;\n",
       "  padding-bottom: 6px;\n",
       "  margin-bottom: 4px;\n",
       "  border-bottom: solid 1px var(--xr-border-color);\n",
       "}\n",
       "\n",
       ".xr-header > div,\n",
       ".xr-header > ul {\n",
       "  display: inline;\n",
       "  margin-top: 0;\n",
       "  margin-bottom: 0;\n",
       "}\n",
       "\n",
       ".xr-obj-type,\n",
       ".xr-array-name {\n",
       "  margin-left: 2px;\n",
       "  margin-right: 10px;\n",
       "}\n",
       "\n",
       ".xr-obj-type {\n",
       "  color: var(--xr-font-color2);\n",
       "}\n",
       "\n",
       ".xr-sections {\n",
       "  padding-left: 0 !important;\n",
       "  display: grid;\n",
       "  grid-template-columns: 150px auto auto 1fr 0 20px 0 20px;\n",
       "}\n",
       "\n",
       ".xr-section-item {\n",
       "  display: contents;\n",
       "}\n",
       "\n",
       ".xr-section-item input {\n",
       "  display: inline-block;\n",
       "  opacity: 0;\n",
       "  height: 0;\n",
       "}\n",
       "\n",
       ".xr-section-item input + label {\n",
       "  color: var(--xr-disabled-color);\n",
       "}\n",
       "\n",
       ".xr-section-item input:enabled + label {\n",
       "  cursor: pointer;\n",
       "  color: var(--xr-font-color2);\n",
       "}\n",
       "\n",
       ".xr-section-item input:focus + label {\n",
       "  border: 2px solid var(--xr-font-color0);\n",
       "}\n",
       "\n",
       ".xr-section-item input:enabled + label:hover {\n",
       "  color: var(--xr-font-color0);\n",
       "}\n",
       "\n",
       ".xr-section-summary {\n",
       "  grid-column: 1;\n",
       "  color: var(--xr-font-color2);\n",
       "  font-weight: 500;\n",
       "}\n",
       "\n",
       ".xr-section-summary > span {\n",
       "  display: inline-block;\n",
       "  padding-left: 0.5em;\n",
       "}\n",
       "\n",
       ".xr-section-summary-in:disabled + label {\n",
       "  color: var(--xr-font-color2);\n",
       "}\n",
       "\n",
       ".xr-section-summary-in + label:before {\n",
       "  display: inline-block;\n",
       "  content: \"►\";\n",
       "  font-size: 11px;\n",
       "  width: 15px;\n",
       "  text-align: center;\n",
       "}\n",
       "\n",
       ".xr-section-summary-in:disabled + label:before {\n",
       "  color: var(--xr-disabled-color);\n",
       "}\n",
       "\n",
       ".xr-section-summary-in:checked + label:before {\n",
       "  content: \"▼\";\n",
       "}\n",
       "\n",
       ".xr-section-summary-in:checked + label > span {\n",
       "  display: none;\n",
       "}\n",
       "\n",
       ".xr-section-summary,\n",
       ".xr-section-inline-details {\n",
       "  padding-top: 4px;\n",
       "  padding-bottom: 4px;\n",
       "}\n",
       "\n",
       ".xr-section-inline-details {\n",
       "  grid-column: 2 / -1;\n",
       "}\n",
       "\n",
       ".xr-section-details {\n",
       "  display: none;\n",
       "  grid-column: 1 / -1;\n",
       "  margin-bottom: 5px;\n",
       "}\n",
       "\n",
       ".xr-section-summary-in:checked ~ .xr-section-details {\n",
       "  display: contents;\n",
       "}\n",
       "\n",
       ".xr-array-wrap {\n",
       "  grid-column: 1 / -1;\n",
       "  display: grid;\n",
       "  grid-template-columns: 20px auto;\n",
       "}\n",
       "\n",
       ".xr-array-wrap > label {\n",
       "  grid-column: 1;\n",
       "  vertical-align: top;\n",
       "}\n",
       "\n",
       ".xr-preview {\n",
       "  color: var(--xr-font-color3);\n",
       "}\n",
       "\n",
       ".xr-array-preview,\n",
       ".xr-array-data {\n",
       "  padding: 0 5px !important;\n",
       "  grid-column: 2;\n",
       "}\n",
       "\n",
       ".xr-array-data,\n",
       ".xr-array-in:checked ~ .xr-array-preview {\n",
       "  display: none;\n",
       "}\n",
       "\n",
       ".xr-array-in:checked ~ .xr-array-data,\n",
       ".xr-array-preview {\n",
       "  display: inline-block;\n",
       "}\n",
       "\n",
       ".xr-dim-list {\n",
       "  display: inline-block !important;\n",
       "  list-style: none;\n",
       "  padding: 0 !important;\n",
       "  margin: 0;\n",
       "}\n",
       "\n",
       ".xr-dim-list li {\n",
       "  display: inline-block;\n",
       "  padding: 0;\n",
       "  margin: 0;\n",
       "}\n",
       "\n",
       ".xr-dim-list:before {\n",
       "  content: \"(\";\n",
       "}\n",
       "\n",
       ".xr-dim-list:after {\n",
       "  content: \")\";\n",
       "}\n",
       "\n",
       ".xr-dim-list li:not(:last-child):after {\n",
       "  content: \",\";\n",
       "  padding-right: 5px;\n",
       "}\n",
       "\n",
       ".xr-has-index {\n",
       "  font-weight: bold;\n",
       "}\n",
       "\n",
       ".xr-var-list,\n",
       ".xr-var-item {\n",
       "  display: contents;\n",
       "}\n",
       "\n",
       ".xr-var-item > div,\n",
       ".xr-var-item label,\n",
       ".xr-var-item > .xr-var-name span {\n",
       "  background-color: var(--xr-background-color-row-even);\n",
       "  margin-bottom: 0;\n",
       "}\n",
       "\n",
       ".xr-var-item > .xr-var-name:hover span {\n",
       "  padding-right: 5px;\n",
       "}\n",
       "\n",
       ".xr-var-list > li:nth-child(odd) > div,\n",
       ".xr-var-list > li:nth-child(odd) > label,\n",
       ".xr-var-list > li:nth-child(odd) > .xr-var-name span {\n",
       "  background-color: var(--xr-background-color-row-odd);\n",
       "}\n",
       "\n",
       ".xr-var-name {\n",
       "  grid-column: 1;\n",
       "}\n",
       "\n",
       ".xr-var-dims {\n",
       "  grid-column: 2;\n",
       "}\n",
       "\n",
       ".xr-var-dtype {\n",
       "  grid-column: 3;\n",
       "  text-align: right;\n",
       "  color: var(--xr-font-color2);\n",
       "}\n",
       "\n",
       ".xr-var-preview {\n",
       "  grid-column: 4;\n",
       "}\n",
       "\n",
       ".xr-index-preview {\n",
       "  grid-column: 2 / 5;\n",
       "  color: var(--xr-font-color2);\n",
       "}\n",
       "\n",
       ".xr-var-name,\n",
       ".xr-var-dims,\n",
       ".xr-var-dtype,\n",
       ".xr-preview,\n",
       ".xr-attrs dt {\n",
       "  white-space: nowrap;\n",
       "  overflow: hidden;\n",
       "  text-overflow: ellipsis;\n",
       "  padding-right: 10px;\n",
       "}\n",
       "\n",
       ".xr-var-name:hover,\n",
       ".xr-var-dims:hover,\n",
       ".xr-var-dtype:hover,\n",
       ".xr-attrs dt:hover {\n",
       "  overflow: visible;\n",
       "  width: auto;\n",
       "  z-index: 1;\n",
       "}\n",
       "\n",
       ".xr-var-attrs,\n",
       ".xr-var-data,\n",
       ".xr-index-data {\n",
       "  display: none;\n",
       "  background-color: var(--xr-background-color) !important;\n",
       "  padding-bottom: 5px !important;\n",
       "}\n",
       "\n",
       ".xr-var-attrs-in:checked ~ .xr-var-attrs,\n",
       ".xr-var-data-in:checked ~ .xr-var-data,\n",
       ".xr-index-data-in:checked ~ .xr-index-data {\n",
       "  display: block;\n",
       "}\n",
       "\n",
       ".xr-var-data > table {\n",
       "  float: right;\n",
       "}\n",
       "\n",
       ".xr-var-name span,\n",
       ".xr-var-data,\n",
       ".xr-index-name div,\n",
       ".xr-index-data,\n",
       ".xr-attrs {\n",
       "  padding-left: 25px !important;\n",
       "}\n",
       "\n",
       ".xr-attrs,\n",
       ".xr-var-attrs,\n",
       ".xr-var-data,\n",
       ".xr-index-data {\n",
       "  grid-column: 1 / -1;\n",
       "}\n",
       "\n",
       "dl.xr-attrs {\n",
       "  padding: 0;\n",
       "  margin: 0;\n",
       "  display: grid;\n",
       "  grid-template-columns: 125px auto;\n",
       "}\n",
       "\n",
       ".xr-attrs dt,\n",
       ".xr-attrs dd {\n",
       "  padding: 0;\n",
       "  margin: 0;\n",
       "  float: left;\n",
       "  padding-right: 10px;\n",
       "  width: auto;\n",
       "}\n",
       "\n",
       ".xr-attrs dt {\n",
       "  font-weight: normal;\n",
       "  grid-column: 1;\n",
       "}\n",
       "\n",
       ".xr-attrs dt:hover span {\n",
       "  display: inline-block;\n",
       "  background: var(--xr-background-color);\n",
       "  padding-right: 10px;\n",
       "}\n",
       "\n",
       ".xr-attrs dd {\n",
       "  grid-column: 2;\n",
       "  white-space: pre-wrap;\n",
       "  word-break: break-all;\n",
       "}\n",
       "\n",
       ".xr-icon-database,\n",
       ".xr-icon-file-text2,\n",
       ".xr-no-icon {\n",
       "  display: inline-block;\n",
       "  vertical-align: middle;\n",
       "  width: 1em;\n",
       "  height: 1.5em !important;\n",
       "  stroke-width: 0;\n",
       "  stroke: currentColor;\n",
       "  fill: currentColor;\n",
       "}\n",
       "</style><pre class='xr-text-repr-fallback'>&lt;xarray.Dataset&gt; Size: 6kB\n",
       "Dimensions:            (latitude: 1, longitude: 1, layer: 1, time: 155)\n",
       "Coordinates:\n",
       "  * latitude           (latitude) float64 8B 22.75\n",
       "  * longitude          (longitude) int64 8B -158\n",
       "  * layer              (layer) int64 8B 0\n",
       "  * time               (time) datetime64[ns] 1kB 2002-01-31 ... 2014-11-30\n",
       "Data variables:\n",
       "    day                (time, latitude, longitude, layer) float64 1kB 1.397 ....\n",
       "    night              (time, latitude, longitude, layer) float64 1kB 2.237 ....\n",
       "    day_lowess_0.15    (time, latitude, longitude, layer) float64 1kB 1.465 ....\n",
       "    night_lowess_0.15  (time, latitude, longitude, layer) float64 1kB 2.538 ....\n",
       "Attributes:\n",
       "    desc:     Aggregated and smoothed observations using lowess filtre.</pre><div class='xr-wrap' style='display:none'><div class='xr-header'><div class='xr-obj-type'>xarray.Dataset</div></div><ul class='xr-sections'><li class='xr-section-item'><input id='section-459d0845-159b-4d09-943e-0ef3b0cef1cf' class='xr-section-summary-in' type='checkbox' disabled ><label for='section-459d0845-159b-4d09-943e-0ef3b0cef1cf' class='xr-section-summary'  title='Expand/collapse section'>Dimensions:</label><div class='xr-section-inline-details'><ul class='xr-dim-list'><li><span class='xr-has-index'>latitude</span>: 1</li><li><span class='xr-has-index'>longitude</span>: 1</li><li><span class='xr-has-index'>layer</span>: 1</li><li><span class='xr-has-index'>time</span>: 155</li></ul></div><div class='xr-section-details'></div></li><li class='xr-section-item'><input id='section-1a544e16-0a77-4e30-890a-9c995e6da857' class='xr-section-summary-in' type='checkbox'  checked><label for='section-1a544e16-0a77-4e30-890a-9c995e6da857' class='xr-section-summary' >Coordinates: <span>(4)</span></label><div class='xr-section-inline-details'></div><div class='xr-section-details'><ul class='xr-var-list'><li class='xr-var-item'><div class='xr-var-name'><span class='xr-has-index'>latitude</span></div><div class='xr-var-dims'>(latitude)</div><div class='xr-var-dtype'>float64</div><div class='xr-var-preview xr-preview'>22.75</div><input id='attrs-a45f418f-ca6f-453b-bbc4-2e5211a8b00d' class='xr-var-attrs-in' type='checkbox' ><label for='attrs-a45f418f-ca6f-453b-bbc4-2e5211a8b00d' title='Show/Hide attributes'><svg class='icon xr-icon-file-text2'><use xlink:href='#icon-file-text2'></use></svg></label><input id='data-e14fc8cc-1252-429d-a867-9f97bccc23b6' class='xr-var-data-in' type='checkbox'><label for='data-e14fc8cc-1252-429d-a867-9f97bccc23b6' title='Show/Hide data repr'><svg class='icon xr-icon-database'><use xlink:href='#icon-database'></use></svg></label><div class='xr-var-attrs'><dl class='xr-attrs'><dt><span>axis :</span></dt><dd>Y</dd><dt><span>long_name :</span></dt><dd>Latitude</dd><dt><span>standard_name :</span></dt><dd>latitude</dd><dt><span>units :</span></dt><dd>degrees_north</dd></dl></div><div class='xr-var-data'><pre>array([22.75])</pre></div></li><li class='xr-var-item'><div class='xr-var-name'><span class='xr-has-index'>longitude</span></div><div class='xr-var-dims'>(longitude)</div><div class='xr-var-dtype'>int64</div><div class='xr-var-preview xr-preview'>-158</div><input id='attrs-f4769068-de21-4ca3-9ed9-f90b4a38bf87' class='xr-var-attrs-in' type='checkbox' ><label for='attrs-f4769068-de21-4ca3-9ed9-f90b4a38bf87' title='Show/Hide attributes'><svg class='icon xr-icon-file-text2'><use xlink:href='#icon-file-text2'></use></svg></label><input id='data-76590bee-4033-44c8-9bc4-d573f42a9e19' class='xr-var-data-in' type='checkbox'><label for='data-76590bee-4033-44c8-9bc4-d573f42a9e19' title='Show/Hide data repr'><svg class='icon xr-icon-database'><use xlink:href='#icon-database'></use></svg></label><div class='xr-var-attrs'><dl class='xr-attrs'><dt><span>axis :</span></dt><dd>X</dd><dt><span>long_name :</span></dt><dd>Longitude</dd><dt><span>standard_name :</span></dt><dd>longitude</dd><dt><span>units :</span></dt><dd>degrees_east</dd></dl></div><div class='xr-var-data'><pre>array([-158])</pre></div></li><li class='xr-var-item'><div class='xr-var-name'><span class='xr-has-index'>layer</span></div><div class='xr-var-dims'>(layer)</div><div class='xr-var-dtype'>int64</div><div class='xr-var-preview xr-preview'>0</div><input id='attrs-f0c6d818-6bfc-4e04-9673-2dc6d4962afe' class='xr-var-attrs-in' type='checkbox' ><label for='attrs-f0c6d818-6bfc-4e04-9673-2dc6d4962afe' title='Show/Hide attributes'><svg class='icon xr-icon-file-text2'><use xlink:href='#icon-file-text2'></use></svg></label><input id='data-7e808b46-db80-4d4e-9cfe-b00a72f2609f' class='xr-var-data-in' type='checkbox'><label for='data-7e808b46-db80-4d4e-9cfe-b00a72f2609f' title='Show/Hide data repr'><svg class='icon xr-icon-database'><use xlink:href='#icon-database'></use></svg></label><div class='xr-var-attrs'><dl class='xr-attrs'><dt><span>axis :</span></dt><dd>Z</dd><dt><span>desc :</span></dt><dd>The layer depth according to Seapodym definition</dd><dt><span>flag_meanings :</span></dt><dd>epipelagic, upper-mesopelagic, lower-mesopelagic</dd><dt><span>flag_values :</span></dt><dd>[0, 1, 2]</dd><dt><span>long_name :</span></dt><dd>Layer depth</dd><dt><span>standard_name :</span></dt><dd>layer</dd></dl></div><div class='xr-var-data'><pre>array([0])</pre></div></li><li class='xr-var-item'><div class='xr-var-name'><span class='xr-has-index'>time</span></div><div class='xr-var-dims'>(time)</div><div class='xr-var-dtype'>datetime64[ns]</div><div class='xr-var-preview xr-preview'>2002-01-31 ... 2014-11-30</div><input id='attrs-742e4326-aaab-4224-8628-5f6337e4df16' class='xr-var-attrs-in' type='checkbox' ><label for='attrs-742e4326-aaab-4224-8628-5f6337e4df16' title='Show/Hide attributes'><svg class='icon xr-icon-file-text2'><use xlink:href='#icon-file-text2'></use></svg></label><input id='data-4d227c3f-0c1a-4bd5-876b-0031c0b23672' class='xr-var-data-in' type='checkbox'><label for='data-4d227c3f-0c1a-4bd5-876b-0031c0b23672' title='Show/Hide data repr'><svg class='icon xr-icon-database'><use xlink:href='#icon-database'></use></svg></label><div class='xr-var-attrs'><dl class='xr-attrs'><dt><span>axis :</span></dt><dd>T</dd><dt><span>long_name :</span></dt><dd>time</dd><dt><span>standard_name :</span></dt><dd>time</dd></dl></div><div class='xr-var-data'><pre>array([&#x27;2002-01-31T00:00:00.000000000&#x27;, &#x27;2002-02-28T00:00:00.000000000&#x27;,\n",
       "       &#x27;2002-03-31T00:00:00.000000000&#x27;, &#x27;2002-04-30T00:00:00.000000000&#x27;,\n",
       "       &#x27;2002-05-31T00:00:00.000000000&#x27;, &#x27;2002-06-30T00:00:00.000000000&#x27;,\n",
       "       &#x27;2002-07-31T00:00:00.000000000&#x27;, &#x27;2002-08-31T00:00:00.000000000&#x27;,\n",
       "       &#x27;2002-09-30T00:00:00.000000000&#x27;, &#x27;2002-10-31T00:00:00.000000000&#x27;,\n",
       "       &#x27;2002-11-30T00:00:00.000000000&#x27;, &#x27;2002-12-31T00:00:00.000000000&#x27;,\n",
       "       &#x27;2003-01-31T00:00:00.000000000&#x27;, &#x27;2003-02-28T00:00:00.000000000&#x27;,\n",
       "       &#x27;2003-03-31T00:00:00.000000000&#x27;, &#x27;2003-04-30T00:00:00.000000000&#x27;,\n",
       "       &#x27;2003-05-31T00:00:00.000000000&#x27;, &#x27;2003-06-30T00:00:00.000000000&#x27;,\n",
       "       &#x27;2003-07-31T00:00:00.000000000&#x27;, &#x27;2003-08-31T00:00:00.000000000&#x27;,\n",
       "       &#x27;2003-09-30T00:00:00.000000000&#x27;, &#x27;2003-10-31T00:00:00.000000000&#x27;,\n",
       "       &#x27;2003-11-30T00:00:00.000000000&#x27;, &#x27;2003-12-31T00:00:00.000000000&#x27;,\n",
       "       &#x27;2004-01-31T00:00:00.000000000&#x27;, &#x27;2004-02-29T00:00:00.000000000&#x27;,\n",
       "       &#x27;2004-03-31T00:00:00.000000000&#x27;, &#x27;2004-04-30T00:00:00.000000000&#x27;,\n",
       "       &#x27;2004-05-31T00:00:00.000000000&#x27;, &#x27;2004-06-30T00:00:00.000000000&#x27;,\n",
       "       &#x27;2004-07-31T00:00:00.000000000&#x27;, &#x27;2004-08-31T00:00:00.000000000&#x27;,\n",
       "       &#x27;2004-09-30T00:00:00.000000000&#x27;, &#x27;2004-10-31T00:00:00.000000000&#x27;,\n",
       "       &#x27;2004-11-30T00:00:00.000000000&#x27;, &#x27;2004-12-31T00:00:00.000000000&#x27;,\n",
       "       &#x27;2005-01-31T00:00:00.000000000&#x27;, &#x27;2005-02-28T00:00:00.000000000&#x27;,\n",
       "       &#x27;2005-03-31T00:00:00.000000000&#x27;, &#x27;2005-04-30T00:00:00.000000000&#x27;,\n",
       "       &#x27;2005-05-31T00:00:00.000000000&#x27;, &#x27;2005-06-30T00:00:00.000000000&#x27;,\n",
       "       &#x27;2005-07-31T00:00:00.000000000&#x27;, &#x27;2005-08-31T00:00:00.000000000&#x27;,\n",
       "       &#x27;2005-09-30T00:00:00.000000000&#x27;, &#x27;2005-10-31T00:00:00.000000000&#x27;,\n",
       "       &#x27;2005-11-30T00:00:00.000000000&#x27;, &#x27;2005-12-31T00:00:00.000000000&#x27;,\n",
       "       &#x27;2006-01-31T00:00:00.000000000&#x27;, &#x27;2006-02-28T00:00:00.000000000&#x27;,\n",
       "       &#x27;2006-03-31T00:00:00.000000000&#x27;, &#x27;2006-04-30T00:00:00.000000000&#x27;,\n",
       "       &#x27;2006-05-31T00:00:00.000000000&#x27;, &#x27;2006-06-30T00:00:00.000000000&#x27;,\n",
       "       &#x27;2006-07-31T00:00:00.000000000&#x27;, &#x27;2006-08-31T00:00:00.000000000&#x27;,\n",
       "       &#x27;2006-09-30T00:00:00.000000000&#x27;, &#x27;2006-10-31T00:00:00.000000000&#x27;,\n",
       "       &#x27;2006-11-30T00:00:00.000000000&#x27;, &#x27;2006-12-31T00:00:00.000000000&#x27;,\n",
       "       &#x27;2007-01-31T00:00:00.000000000&#x27;, &#x27;2007-02-28T00:00:00.000000000&#x27;,\n",
       "       &#x27;2007-03-31T00:00:00.000000000&#x27;, &#x27;2007-04-30T00:00:00.000000000&#x27;,\n",
       "       &#x27;2007-05-31T00:00:00.000000000&#x27;, &#x27;2007-06-30T00:00:00.000000000&#x27;,\n",
       "       &#x27;2007-07-31T00:00:00.000000000&#x27;, &#x27;2007-08-31T00:00:00.000000000&#x27;,\n",
       "       &#x27;2007-09-30T00:00:00.000000000&#x27;, &#x27;2007-10-31T00:00:00.000000000&#x27;,\n",
       "       &#x27;2007-11-30T00:00:00.000000000&#x27;, &#x27;2007-12-31T00:00:00.000000000&#x27;,\n",
       "       &#x27;2008-01-31T00:00:00.000000000&#x27;, &#x27;2008-02-29T00:00:00.000000000&#x27;,\n",
       "       &#x27;2008-03-31T00:00:00.000000000&#x27;, &#x27;2008-04-30T00:00:00.000000000&#x27;,\n",
       "       &#x27;2008-05-31T00:00:00.000000000&#x27;, &#x27;2008-06-30T00:00:00.000000000&#x27;,\n",
       "       &#x27;2008-07-31T00:00:00.000000000&#x27;, &#x27;2008-08-31T00:00:00.000000000&#x27;,\n",
       "       &#x27;2008-09-30T00:00:00.000000000&#x27;, &#x27;2008-10-31T00:00:00.000000000&#x27;,\n",
       "       &#x27;2008-11-30T00:00:00.000000000&#x27;, &#x27;2008-12-31T00:00:00.000000000&#x27;,\n",
       "       &#x27;2009-01-31T00:00:00.000000000&#x27;, &#x27;2009-02-28T00:00:00.000000000&#x27;,\n",
       "       &#x27;2009-03-31T00:00:00.000000000&#x27;, &#x27;2009-04-30T00:00:00.000000000&#x27;,\n",
       "       &#x27;2009-05-31T00:00:00.000000000&#x27;, &#x27;2009-06-30T00:00:00.000000000&#x27;,\n",
       "       &#x27;2009-07-31T00:00:00.000000000&#x27;, &#x27;2009-08-31T00:00:00.000000000&#x27;,\n",
       "       &#x27;2009-09-30T00:00:00.000000000&#x27;, &#x27;2009-10-31T00:00:00.000000000&#x27;,\n",
       "       &#x27;2009-11-30T00:00:00.000000000&#x27;, &#x27;2009-12-31T00:00:00.000000000&#x27;,\n",
       "       &#x27;2010-01-31T00:00:00.000000000&#x27;, &#x27;2010-02-28T00:00:00.000000000&#x27;,\n",
       "       &#x27;2010-03-31T00:00:00.000000000&#x27;, &#x27;2010-04-30T00:00:00.000000000&#x27;,\n",
       "       &#x27;2010-05-31T00:00:00.000000000&#x27;, &#x27;2010-06-30T00:00:00.000000000&#x27;,\n",
       "       &#x27;2010-07-31T00:00:00.000000000&#x27;, &#x27;2010-08-31T00:00:00.000000000&#x27;,\n",
       "       &#x27;2010-09-30T00:00:00.000000000&#x27;, &#x27;2010-10-31T00:00:00.000000000&#x27;,\n",
       "       &#x27;2010-11-30T00:00:00.000000000&#x27;, &#x27;2010-12-31T00:00:00.000000000&#x27;,\n",
       "       &#x27;2011-01-31T00:00:00.000000000&#x27;, &#x27;2011-02-28T00:00:00.000000000&#x27;,\n",
       "       &#x27;2011-03-31T00:00:00.000000000&#x27;, &#x27;2011-04-30T00:00:00.000000000&#x27;,\n",
       "       &#x27;2011-05-31T00:00:00.000000000&#x27;, &#x27;2011-06-30T00:00:00.000000000&#x27;,\n",
       "       &#x27;2011-07-31T00:00:00.000000000&#x27;, &#x27;2011-08-31T00:00:00.000000000&#x27;,\n",
       "       &#x27;2011-09-30T00:00:00.000000000&#x27;, &#x27;2011-10-31T00:00:00.000000000&#x27;,\n",
       "       &#x27;2011-11-30T00:00:00.000000000&#x27;, &#x27;2011-12-31T00:00:00.000000000&#x27;,\n",
       "       &#x27;2012-01-31T00:00:00.000000000&#x27;, &#x27;2012-02-29T00:00:00.000000000&#x27;,\n",
       "       &#x27;2012-03-31T00:00:00.000000000&#x27;, &#x27;2012-04-30T00:00:00.000000000&#x27;,\n",
       "       &#x27;2012-05-31T00:00:00.000000000&#x27;, &#x27;2012-06-30T00:00:00.000000000&#x27;,\n",
       "       &#x27;2012-07-31T00:00:00.000000000&#x27;, &#x27;2012-08-31T00:00:00.000000000&#x27;,\n",
       "       &#x27;2012-09-30T00:00:00.000000000&#x27;, &#x27;2012-10-31T00:00:00.000000000&#x27;,\n",
       "       &#x27;2012-11-30T00:00:00.000000000&#x27;, &#x27;2012-12-31T00:00:00.000000000&#x27;,\n",
       "       &#x27;2013-01-31T00:00:00.000000000&#x27;, &#x27;2013-02-28T00:00:00.000000000&#x27;,\n",
       "       &#x27;2013-03-31T00:00:00.000000000&#x27;, &#x27;2013-04-30T00:00:00.000000000&#x27;,\n",
       "       &#x27;2013-05-31T00:00:00.000000000&#x27;, &#x27;2013-06-30T00:00:00.000000000&#x27;,\n",
       "       &#x27;2013-07-31T00:00:00.000000000&#x27;, &#x27;2013-08-31T00:00:00.000000000&#x27;,\n",
       "       &#x27;2013-09-30T00:00:00.000000000&#x27;, &#x27;2013-10-31T00:00:00.000000000&#x27;,\n",
       "       &#x27;2013-11-30T00:00:00.000000000&#x27;, &#x27;2013-12-31T00:00:00.000000000&#x27;,\n",
       "       &#x27;2014-01-31T00:00:00.000000000&#x27;, &#x27;2014-02-28T00:00:00.000000000&#x27;,\n",
       "       &#x27;2014-03-31T00:00:00.000000000&#x27;, &#x27;2014-04-30T00:00:00.000000000&#x27;,\n",
       "       &#x27;2014-05-31T00:00:00.000000000&#x27;, &#x27;2014-06-30T00:00:00.000000000&#x27;,\n",
       "       &#x27;2014-07-31T00:00:00.000000000&#x27;, &#x27;2014-08-31T00:00:00.000000000&#x27;,\n",
       "       &#x27;2014-09-30T00:00:00.000000000&#x27;, &#x27;2014-10-31T00:00:00.000000000&#x27;,\n",
       "       &#x27;2014-11-30T00:00:00.000000000&#x27;], dtype=&#x27;datetime64[ns]&#x27;)</pre></div></li></ul></div></li><li class='xr-section-item'><input id='section-97b1f4dd-2110-413d-a84f-81dd3b05924a' class='xr-section-summary-in' type='checkbox'  checked><label for='section-97b1f4dd-2110-413d-a84f-81dd3b05924a' class='xr-section-summary' >Data variables: <span>(4)</span></label><div class='xr-section-inline-details'></div><div class='xr-section-details'><ul class='xr-var-list'><li class='xr-var-item'><div class='xr-var-name'><span>day</span></div><div class='xr-var-dims'>(time, latitude, longitude, layer)</div><div class='xr-var-dtype'>float64</div><div class='xr-var-preview xr-preview'>1.397 1.473 1.671 ... 2.044 1.719</div><input id='attrs-9d80c600-e7b1-4515-b278-1005d9edaaea' class='xr-var-attrs-in' type='checkbox' ><label for='attrs-9d80c600-e7b1-4515-b278-1005d9edaaea' title='Show/Hide attributes'><svg class='icon xr-icon-file-text2'><use xlink:href='#icon-file-text2'></use></svg></label><input id='data-b386a78c-e895-4a25-8a25-2d02dfa4d3ed' class='xr-var-data-in' type='checkbox'><label for='data-b386a78c-e895-4a25-8a25-2d02dfa4d3ed' title='Show/Hide data repr'><svg class='icon xr-icon-database'><use xlink:href='#icon-database'></use></svg></label><div class='xr-var-attrs'><dl class='xr-attrs'><dt><span>description :</span></dt><dd>Zooplankton carbon weight by cube meter of sea water during the day</dd><dt><span>units :</span></dt><dd>mg/m3</dd></dl></div><div class='xr-var-data'><pre>array([[[[1.39741176]]],\n",
       "\n",
       "\n",
       "       [[[1.47263193]]],\n",
       "\n",
       "\n",
       "       [[[1.67113065]]],\n",
       "\n",
       "\n",
       "       [[[1.92700065]]],\n",
       "\n",
       "\n",
       "       [[[2.01080433]]],\n",
       "\n",
       "\n",
       "       [[[2.083478  ]]],\n",
       "\n",
       "\n",
       "       [[[2.1951159 ]]],\n",
       "\n",
       "...\n",
       "\n",
       "       [[[2.01080433]]],\n",
       "\n",
       "\n",
       "       [[[2.083478  ]]],\n",
       "\n",
       "\n",
       "       [[[2.1951159 ]]],\n",
       "\n",
       "\n",
       "       [[[2.34508304]]],\n",
       "\n",
       "\n",
       "       [[[2.32331868]]],\n",
       "\n",
       "\n",
       "       [[[2.04404128]]],\n",
       "\n",
       "\n",
       "       [[[1.71878358]]]])</pre></div></li><li class='xr-var-item'><div class='xr-var-name'><span>night</span></div><div class='xr-var-dims'>(time, latitude, longitude, layer)</div><div class='xr-var-dtype'>float64</div><div class='xr-var-preview xr-preview'>2.237 2.552 2.728 ... 3.276 3.031</div><input id='attrs-fd11856e-f07e-4859-8669-9964eab29d03' class='xr-var-attrs-in' type='checkbox' ><label for='attrs-fd11856e-f07e-4859-8669-9964eab29d03' title='Show/Hide attributes'><svg class='icon xr-icon-file-text2'><use xlink:href='#icon-file-text2'></use></svg></label><input id='data-fba01d03-c207-4b99-847d-bd3feb6bfad8' class='xr-var-data-in' type='checkbox'><label for='data-fba01d03-c207-4b99-847d-bd3feb6bfad8' title='Show/Hide data repr'><svg class='icon xr-icon-database'><use xlink:href='#icon-database'></use></svg></label><div class='xr-var-attrs'><dl class='xr-attrs'><dt><span>description :</span></dt><dd>Zooplankton carbon weight by cube meter of sea water at night</dd><dt><span>units :</span></dt><dd>mg/m3</dd></dl></div><div class='xr-var-data'><pre>array([[[[2.23711992]]],\n",
       "\n",
       "\n",
       "       [[[2.55167207]]],\n",
       "\n",
       "\n",
       "       [[[2.72792017]]],\n",
       "\n",
       "\n",
       "       [[[3.1274618 ]]],\n",
       "\n",
       "\n",
       "       [[[3.02449493]]],\n",
       "\n",
       "\n",
       "       [[[3.11451182]]],\n",
       "\n",
       "\n",
       "       [[[3.41485379]]],\n",
       "\n",
       "...\n",
       "\n",
       "       [[[3.02449493]]],\n",
       "\n",
       "\n",
       "       [[[3.11451182]]],\n",
       "\n",
       "\n",
       "       [[[3.41485379]]],\n",
       "\n",
       "\n",
       "       [[[3.36435628]]],\n",
       "\n",
       "\n",
       "       [[[3.21446945]]],\n",
       "\n",
       "\n",
       "       [[[3.27566412]]],\n",
       "\n",
       "\n",
       "       [[[3.03129268]]]])</pre></div></li><li class='xr-var-item'><div class='xr-var-name'><span>day_lowess_0.15</span></div><div class='xr-var-dims'>(time, latitude, longitude, layer)</div><div class='xr-var-dtype'>float64</div><div class='xr-var-preview xr-preview'>1.465 1.506 1.686 ... 2.034 1.76</div><input id='attrs-904444f8-f3c5-450d-a40f-8bd3ce7309f3' class='xr-var-attrs-in' type='checkbox' ><label for='attrs-904444f8-f3c5-450d-a40f-8bd3ce7309f3' title='Show/Hide attributes'><svg class='icon xr-icon-file-text2'><use xlink:href='#icon-file-text2'></use></svg></label><input id='data-2ffa8acb-ae34-43b5-a0c4-510e6d5aa254' class='xr-var-data-in' type='checkbox'><label for='data-2ffa8acb-ae34-43b5-a0c4-510e6d5aa254' title='Show/Hide data repr'><svg class='icon xr-icon-database'><use xlink:href='#icon-database'></use></svg></label><div class='xr-var-attrs'><dl class='xr-attrs'><dt><span>units :</span></dt><dd>mg/m3</dd></dl></div><div class='xr-var-data'><pre>array([[[[1.46545227]]],\n",
       "\n",
       "\n",
       "       [[[1.50571806]]],\n",
       "\n",
       "\n",
       "       [[[1.68633901]]],\n",
       "\n",
       "\n",
       "       [[[1.87231064]]],\n",
       "\n",
       "\n",
       "       [[[2.00782516]]],\n",
       "\n",
       "\n",
       "       [[[2.09466137]]],\n",
       "\n",
       "\n",
       "       [[[2.20564519]]],\n",
       "\n",
       "...\n",
       "\n",
       "       [[[2.00782516]]],\n",
       "\n",
       "\n",
       "       [[[2.09466137]]],\n",
       "\n",
       "\n",
       "       [[[2.20564519]]],\n",
       "\n",
       "\n",
       "       [[[2.30338711]]],\n",
       "\n",
       "\n",
       "       [[[2.22738534]]],\n",
       "\n",
       "\n",
       "       [[[2.03414538]]],\n",
       "\n",
       "\n",
       "       [[[1.75960612]]]])</pre></div></li><li class='xr-var-item'><div class='xr-var-name'><span>night_lowess_0.15</span></div><div class='xr-var-dims'>(time, latitude, longitude, layer)</div><div class='xr-var-dtype'>float64</div><div class='xr-var-preview xr-preview'>2.538 2.533 2.785 ... 3.185 2.977</div><input id='attrs-30ac8f67-f3b0-4a64-a403-6e3b318ff66b' class='xr-var-attrs-in' type='checkbox' ><label for='attrs-30ac8f67-f3b0-4a64-a403-6e3b318ff66b' title='Show/Hide attributes'><svg class='icon xr-icon-file-text2'><use xlink:href='#icon-file-text2'></use></svg></label><input id='data-196dd91f-340d-44c7-be31-51b51b4f2141' class='xr-var-data-in' type='checkbox'><label for='data-196dd91f-340d-44c7-be31-51b51b4f2141' title='Show/Hide data repr'><svg class='icon xr-icon-database'><use xlink:href='#icon-database'></use></svg></label><div class='xr-var-attrs'><dl class='xr-attrs'><dt><span>units :</span></dt><dd>mg/m3</dd></dl></div><div class='xr-var-data'><pre>array([[[[2.53753752]]],\n",
       "\n",
       "\n",
       "       [[[2.53309783]]],\n",
       "\n",
       "\n",
       "       [[[2.78532003]]],\n",
       "\n",
       "\n",
       "       [[[2.95653335]]],\n",
       "\n",
       "\n",
       "       [[[3.07331495]]],\n",
       "\n",
       "\n",
       "       [[[3.17310318]]],\n",
       "\n",
       "\n",
       "       [[[3.30771167]]],\n",
       "\n",
       "...\n",
       "\n",
       "       [[[3.07331495]]],\n",
       "\n",
       "\n",
       "       [[[3.17310318]]],\n",
       "\n",
       "\n",
       "       [[[3.30771167]]],\n",
       "\n",
       "\n",
       "       [[[3.33732123]]],\n",
       "\n",
       "\n",
       "       [[[3.27446509]]],\n",
       "\n",
       "\n",
       "       [[[3.18511431]]],\n",
       "\n",
       "\n",
       "       [[[2.97686123]]]])</pre></div></li></ul></div></li><li class='xr-section-item'><input id='section-b8e7d06c-1ea7-4775-8496-8872bd376269' class='xr-section-summary-in' type='checkbox'  ><label for='section-b8e7d06c-1ea7-4775-8496-8872bd376269' class='xr-section-summary' >Indexes: <span>(4)</span></label><div class='xr-section-inline-details'></div><div class='xr-section-details'><ul class='xr-var-list'><li class='xr-var-item'><div class='xr-index-name'><div>time</div></div><div class='xr-index-preview'>PandasIndex</div><input type='checkbox' disabled/><label></label><input id='index-1a9a6c51-3f9d-4a8a-83d7-cb44e51eefe0' class='xr-index-data-in' type='checkbox'/><label for='index-1a9a6c51-3f9d-4a8a-83d7-cb44e51eefe0' title='Show/Hide index repr'><svg class='icon xr-icon-database'><use xlink:href='#icon-database'></use></svg></label><div class='xr-index-data'><pre>PandasIndex(DatetimeIndex([&#x27;2002-01-31&#x27;, &#x27;2002-02-28&#x27;, &#x27;2002-03-31&#x27;, &#x27;2002-04-30&#x27;,\n",
       "               &#x27;2002-05-31&#x27;, &#x27;2002-06-30&#x27;, &#x27;2002-07-31&#x27;, &#x27;2002-08-31&#x27;,\n",
       "               &#x27;2002-09-30&#x27;, &#x27;2002-10-31&#x27;,\n",
       "               ...\n",
       "               &#x27;2014-02-28&#x27;, &#x27;2014-03-31&#x27;, &#x27;2014-04-30&#x27;, &#x27;2014-05-31&#x27;,\n",
       "               &#x27;2014-06-30&#x27;, &#x27;2014-07-31&#x27;, &#x27;2014-08-31&#x27;, &#x27;2014-09-30&#x27;,\n",
       "               &#x27;2014-10-31&#x27;, &#x27;2014-11-30&#x27;],\n",
       "              dtype=&#x27;datetime64[ns]&#x27;, name=&#x27;time&#x27;, length=155, freq=&#x27;ME&#x27;))</pre></div></li><li class='xr-var-item'><div class='xr-index-name'><div>latitude</div></div><div class='xr-index-preview'>PandasIndex</div><input type='checkbox' disabled/><label></label><input id='index-09adb99d-dcea-459f-b21e-ab7c77e1d565' class='xr-index-data-in' type='checkbox'/><label for='index-09adb99d-dcea-459f-b21e-ab7c77e1d565' title='Show/Hide index repr'><svg class='icon xr-icon-database'><use xlink:href='#icon-database'></use></svg></label><div class='xr-index-data'><pre>PandasIndex(Index([22.75], dtype=&#x27;float64&#x27;, name=&#x27;latitude&#x27;))</pre></div></li><li class='xr-var-item'><div class='xr-index-name'><div>longitude</div></div><div class='xr-index-preview'>PandasIndex</div><input type='checkbox' disabled/><label></label><input id='index-288949fd-c7cd-441c-b2a2-45c00c59c35b' class='xr-index-data-in' type='checkbox'/><label for='index-288949fd-c7cd-441c-b2a2-45c00c59c35b' title='Show/Hide index repr'><svg class='icon xr-icon-database'><use xlink:href='#icon-database'></use></svg></label><div class='xr-index-data'><pre>PandasIndex(Index([-158], dtype=&#x27;int64&#x27;, name=&#x27;longitude&#x27;))</pre></div></li><li class='xr-var-item'><div class='xr-index-name'><div>layer</div></div><div class='xr-index-preview'>PandasIndex</div><input type='checkbox' disabled/><label></label><input id='index-1156dd2c-b2cc-4a23-9ca3-48f8a802cf5d' class='xr-index-data-in' type='checkbox'/><label for='index-1156dd2c-b2cc-4a23-9ca3-48f8a802cf5d' title='Show/Hide index repr'><svg class='icon xr-icon-database'><use xlink:href='#icon-database'></use></svg></label><div class='xr-index-data'><pre>PandasIndex(Index([0], dtype=&#x27;int64&#x27;, name=&#x27;layer&#x27;))</pre></div></li></ul></div></li><li class='xr-section-item'><input id='section-98fa1e89-41c9-4226-969f-9e306799c88a' class='xr-section-summary-in' type='checkbox'  checked><label for='section-98fa1e89-41c9-4226-969f-9e306799c88a' class='xr-section-summary' >Attributes: <span>(1)</span></label><div class='xr-section-inline-details'></div><div class='xr-section-details'><dl class='xr-attrs'><dt><span>desc :</span></dt><dd>Aggregated and smoothed observations using lowess filtre.</dd></dl></div></li></ul></div></div>"
      ],
      "text/plain": [
       "<xarray.Dataset> Size: 6kB\n",
       "Dimensions:            (latitude: 1, longitude: 1, layer: 1, time: 155)\n",
       "Coordinates:\n",
       "  * latitude           (latitude) float64 8B 22.75\n",
       "  * longitude          (longitude) int64 8B -158\n",
       "  * layer              (layer) int64 8B 0\n",
       "  * time               (time) datetime64[ns] 1kB 2002-01-31 ... 2014-11-30\n",
       "Data variables:\n",
       "    day                (time, latitude, longitude, layer) float64 1kB 1.397 ....\n",
       "    night              (time, latitude, longitude, layer) float64 1kB 2.237 ....\n",
       "    day_lowess_0.15    (time, latitude, longitude, layer) float64 1kB 1.465 ....\n",
       "    night_lowess_0.15  (time, latitude, longitude, layer) float64 1kB 2.538 ....\n",
       "Attributes:\n",
       "    desc:     Aggregated and smoothed observations using lowess filtre."
      ]
     },
     "execution_count": 34,
     "metadata": {},
     "output_type": "execute_result"
    }
   ],
   "source": [
    "climato_observations.latitude.attrs = data.latitude.attrs\n",
    "climato_observations.longitude.attrs = data.longitude.attrs\n",
    "climato_observations.layer.attrs = data.layer.attrs\n",
    "climato_observations.time.attrs = data.time.attrs\n",
    "climato_observations.day.attrs = data.day.attrs\n",
    "climato_observations.night.attrs = data.night.attrs\n",
    "climato_observations"
   ]
  },
  {
   "cell_type": "code",
   "execution_count": 52,
   "metadata": {},
   "outputs": [
    {
     "data": {
      "text/plain": [
       "<xarray.backends.zarr.ZarrStore at 0x321d9e7c0>"
      ]
     },
     "execution_count": 52,
     "metadata": {},
     "output_type": "execute_result"
    }
   ],
   "source": [
    "climato_observations.to_zarr(\n",
    "    f\"./products/{station}_obs_zoo_climato_monthly_{pd.Timestamp(time_start).year}_{pd.Timestamp(time_end).year}.zarr\",\n",
    "    mode=\"w\",\n",
    ")"
   ]
  }
 ],
 "metadata": {
  "kernelspec": {
   "display_name": ".venv",
   "language": "python",
   "name": "python3"
  },
  "language_info": {
   "codemirror_mode": {
    "name": "ipython",
    "version": 3
   },
   "file_extension": ".py",
   "mimetype": "text/x-python",
   "name": "python",
   "nbconvert_exporter": "python",
   "pygments_lexer": "ipython3",
   "version": "3.12.8"
  }
 },
 "nbformat": 4,
 "nbformat_minor": 2
}
