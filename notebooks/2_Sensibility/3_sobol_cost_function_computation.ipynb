{
 "cells": [
  {
   "cell_type": "code",
   "execution_count": null,
   "metadata": {},
   "outputs": [],
   "source": [
    "from pathlib import Path\n",
    "\n",
    "import numpy as np\n",
    "import pandas as pd"
   ]
  },
  {
   "cell_type": "markdown",
   "metadata": {},
   "source": [
    "User parameters\n"
   ]
  },
  {
   "cell_type": "code",
   "execution_count": null,
   "metadata": {},
   "outputs": [],
   "source": [
    "nb_samples_by_batch = 10000\n",
    "\n",
    "quantity_of_interest = [\"mean\", \"variance\"]"
   ]
  },
  {
   "cell_type": "markdown",
   "metadata": {},
   "source": [
    "Samples (sobol sequence)\n"
   ]
  },
  {
   "cell_type": "code",
   "execution_count": null,
   "metadata": {},
   "outputs": [],
   "source": [
    "input_parameters = pd.read_parquet(\"./input_samples.parquet\")\n",
    "input_parameters"
   ]
  },
  {
   "cell_type": "markdown",
   "metadata": {},
   "source": [
    "Seting the output file\n"
   ]
  },
  {
   "cell_type": "code",
   "execution_count": null,
   "metadata": {},
   "outputs": [],
   "source": [
    "output_sobol_index_filepath = Path(\"./output_sobol_index.parquet\")\n",
    "if output_sobol_index_filepath.exists():\n",
    "    output_sobol_index = pd.read_parquet(output_sobol_index_filepath)\n",
    "else:\n",
    "    output_sobol_index = pd.DataFrame(columns=quantity_of_interest)\n",
    "    output_sobol_index.to_parquet(output_sobol_index_filepath)\n",
    "output_sobol_index"
   ]
  },
  {
   "cell_type": "markdown",
   "metadata": {},
   "source": [
    "---\n",
    "\n",
    "Cost function definition\n"
   ]
  },
  {
   "cell_type": "code",
   "execution_count": null,
   "metadata": {},
   "outputs": [],
   "source": []
  },
  {
   "cell_type": "code",
   "execution_count": null,
   "metadata": {},
   "outputs": [],
   "source": [
    "def batch_cost_function_execution(input_parameters: pd.DataFrame) -> np.ndarray:\n",
    "    return np.full((input_parameters.shape[0], len(quantity_of_interest)), 1)"
   ]
  },
  {
   "cell_type": "markdown",
   "metadata": {},
   "source": [
    "---\n"
   ]
  },
  {
   "cell_type": "markdown",
   "metadata": {},
   "source": [
    "Run as much batch you can\n"
   ]
  },
  {
   "cell_type": "code",
   "execution_count": null,
   "metadata": {},
   "outputs": [],
   "source": [
    "for batch_number in range(0, (len(input_parameters) // nb_samples_by_batch) + 1):\n",
    "    min_batch = batch_number * nb_samples_by_batch\n",
    "    max_batch = min(batch_number * nb_samples_by_batch + nb_samples_by_batch, len(input_parameters))\n",
    "    print(f\"Batch {batch_number} = {min_batch} : {max_batch}\")\n",
    "\n",
    "    if not (max_batch) in output_sobol_index.index:\n",
    "        batch_samples = input_parameters.iloc[\n",
    "            batch_number * nb_samples_by_batch : batch_number * nb_samples_by_batch + nb_samples_by_batch\n",
    "        ]\n",
    "\n",
    "        results = batch_cost_function_execution(batch_samples)\n",
    "\n",
    "        output_sobol_index = pd.concat(\n",
    "            [output_sobol_index, pd.DataFrame(results, columns=quantity_of_interest, index=batch_samples.index)]\n",
    "        )\n",
    "        output_sobol_index.to_parquet(output_sobol_index_filepath)"
   ]
  },
  {
   "cell_type": "markdown",
   "metadata": {},
   "source": [
    "Show output\n"
   ]
  },
  {
   "cell_type": "code",
   "execution_count": null,
   "metadata": {},
   "outputs": [],
   "source": [
    "output_sobol_index"
   ]
  }
 ],
 "metadata": {
  "kernelspec": {
   "display_name": ".venv",
   "language": "python",
   "name": "python3"
  },
  "language_info": {
   "codemirror_mode": {
    "name": "ipython",
    "version": 3
   },
   "file_extension": ".py",
   "mimetype": "text/x-python",
   "name": "python",
   "nbconvert_exporter": "python",
   "pygments_lexer": "ipython3",
   "version": "3.12.9"
  }
 },
 "nbformat": 4,
 "nbformat_minor": 2
}
