{
 "cells": [
  {
   "cell_type": "code",
   "execution_count": 1,
   "metadata": {},
   "outputs": [],
   "source": [
    "import xarray as xr\n",
    "import pandas as pd\n",
    "import plotly.express as px"
   ]
  },
  {
   "cell_type": "code",
   "execution_count": 2,
   "metadata": {},
   "outputs": [],
   "source": [
    "barents = xr.load_dataset(\"../1_data_processing/1_3_Sensibility/barents.zarr\", engine=\"zarr\")\n",
    "hot = xr.load_dataset(\"../1_data_processing/1_3_Sensibility/hot.zarr\", engine=\"zarr\")\n",
    "# south_pole = xr.load_dataset(\"../1_data_processing/1_3_Sensibility/south_pole.zarr\", engine=\"zarr\")\n",
    "# upwelling_south_america = xr.load_dataset(\n",
    "#     \"../1_data_processing/1_3_Sensibility/upwelling_south_america.zarr\", engine=\"zarr\"\n",
    "# )\n",
    "bats = xr.load_dataset(\"../1_data_processing/1_3_Sensibility/bats.zarr\", engine=\"zarr\")\n",
    "papa = xr.load_dataset(\"../1_data_processing/1_3_Sensibility/papa.zarr\", engine=\"zarr\")\n",
    "guam = xr.load_dataset(\"../1_data_processing/1_3_Sensibility/guam.zarr\", engine=\"zarr\")\n",
    "\n",
    "stations = [barents, hot, bats, papa, guam]\n",
    "names = [\"BARENTS\", \"HOT\", \"BATS\", \"PAPA\", \"GUAM\"]"
   ]
  },
  {
   "cell_type": "markdown",
   "metadata": {},
   "source": [
    "Standardize format\n"
   ]
  },
  {
   "cell_type": "code",
   "execution_count": 3,
   "metadata": {},
   "outputs": [
    {
     "data": {
      "text/html": [
       "<div>\n",
       "<style scoped>\n",
       "    .dataframe tbody tr th:only-of-type {\n",
       "        vertical-align: middle;\n",
       "    }\n",
       "\n",
       "    .dataframe tbody tr th {\n",
       "        vertical-align: top;\n",
       "    }\n",
       "\n",
       "    .dataframe thead th {\n",
       "        text-align: right;\n",
       "    }\n",
       "</style>\n",
       "<table border=\"1\" class=\"dataframe\">\n",
       "  <thead>\n",
       "    <tr style=\"text-align: right;\">\n",
       "      <th></th>\n",
       "      <th>longitude</th>\n",
       "      <th>latitude</th>\n",
       "      <th>temperature</th>\n",
       "      <th>primary production</th>\n",
       "      <th>name</th>\n",
       "    </tr>\n",
       "  </thead>\n",
       "  <tbody>\n",
       "    <tr>\n",
       "      <th>0</th>\n",
       "      <td>26.969</td>\n",
       "      <td>74.620</td>\n",
       "      <td>4.036164</td>\n",
       "      <td>121.380569</td>\n",
       "      <td>BARENTS</td>\n",
       "    </tr>\n",
       "    <tr>\n",
       "      <th>1</th>\n",
       "      <td>-158.004</td>\n",
       "      <td>22.752</td>\n",
       "      <td>23.839729</td>\n",
       "      <td>254.277267</td>\n",
       "      <td>HOT</td>\n",
       "    </tr>\n",
       "    <tr>\n",
       "      <th>2</th>\n",
       "      <td>-64.200</td>\n",
       "      <td>31.604</td>\n",
       "      <td>21.537741</td>\n",
       "      <td>265.166229</td>\n",
       "      <td>BATS</td>\n",
       "    </tr>\n",
       "    <tr>\n",
       "      <th>3</th>\n",
       "      <td>-149.996</td>\n",
       "      <td>50.006</td>\n",
       "      <td>6.785365</td>\n",
       "      <td>276.715942</td>\n",
       "      <td>PAPA</td>\n",
       "    </tr>\n",
       "    <tr>\n",
       "      <th>4</th>\n",
       "      <td>149.995</td>\n",
       "      <td>13.001</td>\n",
       "      <td>27.390701</td>\n",
       "      <td>112.102440</td>\n",
       "      <td>GUAM</td>\n",
       "    </tr>\n",
       "  </tbody>\n",
       "</table>\n",
       "</div>"
      ],
      "text/plain": [
       "   longitude  latitude  temperature  primary production     name\n",
       "0     26.969    74.620     4.036164          121.380569  BARENTS\n",
       "1   -158.004    22.752    23.839729          254.277267      HOT\n",
       "2    -64.200    31.604    21.537741          265.166229     BATS\n",
       "3   -149.996    50.006     6.785365          276.715942     PAPA\n",
       "4    149.995    13.001    27.390701          112.102440     GUAM"
      ]
     },
     "execution_count": 3,
     "metadata": {},
     "output_type": "execute_result"
    }
   ],
   "source": [
    "table = []\n",
    "\n",
    "table = [station.mean(\"time\").to_dataframe().reset_index() for station in stations]\n",
    "table = pd.concat(table).reset_index(drop=True)\n",
    "table[\"name\"] = names\n",
    "table = table.rename(columns={\"T\": \"temperature\", \"npp\": \"primary production\"})\n",
    "table"
   ]
  },
  {
   "cell_type": "code",
   "execution_count": 4,
   "metadata": {},
   "outputs": [
    {
     "data": {
      "application/vnd.plotly.v1+json": {
       "config": {
        "plotlyServerURL": "https://plot.ly"
       },
       "data": [
        {
         "hovertemplate": "name=BARENTS<br>temperature=%{x}<br>primary production=%{y}<extra></extra>",
         "legendgroup": "BARENTS",
         "marker": {
          "color": "#636efa",
          "symbol": "circle"
         },
         "mode": "markers",
         "name": "BARENTS",
         "orientation": "v",
         "showlegend": true,
         "type": "scatter",
         "x": [
          4.036164283752441
         ],
         "xaxis": "x",
         "y": [
          121.38056945800781
         ],
         "yaxis": "y"
        },
        {
         "hovertemplate": "name=HOT<br>temperature=%{x}<br>primary production=%{y}<extra></extra>",
         "legendgroup": "HOT",
         "marker": {
          "color": "#EF553B",
          "symbol": "circle"
         },
         "mode": "markers",
         "name": "HOT",
         "orientation": "v",
         "showlegend": true,
         "type": "scatter",
         "x": [
          23.83972930908203
         ],
         "xaxis": "x",
         "y": [
          254.2772674560547
         ],
         "yaxis": "y"
        },
        {
         "hovertemplate": "name=BATS<br>temperature=%{x}<br>primary production=%{y}<extra></extra>",
         "legendgroup": "BATS",
         "marker": {
          "color": "#00cc96",
          "symbol": "circle"
         },
         "mode": "markers",
         "name": "BATS",
         "orientation": "v",
         "showlegend": true,
         "type": "scatter",
         "x": [
          21.53774070739746
         ],
         "xaxis": "x",
         "y": [
          265.1662292480469
         ],
         "yaxis": "y"
        },
        {
         "hovertemplate": "name=PAPA<br>temperature=%{x}<br>primary production=%{y}<extra></extra>",
         "legendgroup": "PAPA",
         "marker": {
          "color": "#ab63fa",
          "symbol": "circle"
         },
         "mode": "markers",
         "name": "PAPA",
         "orientation": "v",
         "showlegend": true,
         "type": "scatter",
         "x": [
          6.785364627838135
         ],
         "xaxis": "x",
         "y": [
          276.7159423828125
         ],
         "yaxis": "y"
        },
        {
         "hovertemplate": "name=GUAM<br>temperature=%{x}<br>primary production=%{y}<extra></extra>",
         "legendgroup": "GUAM",
         "marker": {
          "color": "#FFA15A",
          "symbol": "circle"
         },
         "mode": "markers",
         "name": "GUAM",
         "orientation": "v",
         "showlegend": true,
         "type": "scatter",
         "x": [
          27.390701293945312
         ],
         "xaxis": "x",
         "y": [
          112.1024398803711
         ],
         "yaxis": "y"
        }
       ],
       "layout": {
        "height": 500,
        "legend": {
         "title": {
          "text": "name"
         },
         "tracegroupgap": 0
        },
        "margin": {
         "t": 60
        },
        "template": {
         "data": {
          "bar": [
           {
            "error_x": {
             "color": "#2a3f5f"
            },
            "error_y": {
             "color": "#2a3f5f"
            },
            "marker": {
             "line": {
              "color": "#E5ECF6",
              "width": 0.5
             },
             "pattern": {
              "fillmode": "overlay",
              "size": 10,
              "solidity": 0.2
             }
            },
            "type": "bar"
           }
          ],
          "barpolar": [
           {
            "marker": {
             "line": {
              "color": "#E5ECF6",
              "width": 0.5
             },
             "pattern": {
              "fillmode": "overlay",
              "size": 10,
              "solidity": 0.2
             }
            },
            "type": "barpolar"
           }
          ],
          "carpet": [
           {
            "aaxis": {
             "endlinecolor": "#2a3f5f",
             "gridcolor": "white",
             "linecolor": "white",
             "minorgridcolor": "white",
             "startlinecolor": "#2a3f5f"
            },
            "baxis": {
             "endlinecolor": "#2a3f5f",
             "gridcolor": "white",
             "linecolor": "white",
             "minorgridcolor": "white",
             "startlinecolor": "#2a3f5f"
            },
            "type": "carpet"
           }
          ],
          "choropleth": [
           {
            "colorbar": {
             "outlinewidth": 0,
             "ticks": ""
            },
            "type": "choropleth"
           }
          ],
          "contour": [
           {
            "colorbar": {
             "outlinewidth": 0,
             "ticks": ""
            },
            "colorscale": [
             [
              0,
              "#0d0887"
             ],
             [
              0.1111111111111111,
              "#46039f"
             ],
             [
              0.2222222222222222,
              "#7201a8"
             ],
             [
              0.3333333333333333,
              "#9c179e"
             ],
             [
              0.4444444444444444,
              "#bd3786"
             ],
             [
              0.5555555555555556,
              "#d8576b"
             ],
             [
              0.6666666666666666,
              "#ed7953"
             ],
             [
              0.7777777777777778,
              "#fb9f3a"
             ],
             [
              0.8888888888888888,
              "#fdca26"
             ],
             [
              1,
              "#f0f921"
             ]
            ],
            "type": "contour"
           }
          ],
          "contourcarpet": [
           {
            "colorbar": {
             "outlinewidth": 0,
             "ticks": ""
            },
            "type": "contourcarpet"
           }
          ],
          "heatmap": [
           {
            "colorbar": {
             "outlinewidth": 0,
             "ticks": ""
            },
            "colorscale": [
             [
              0,
              "#0d0887"
             ],
             [
              0.1111111111111111,
              "#46039f"
             ],
             [
              0.2222222222222222,
              "#7201a8"
             ],
             [
              0.3333333333333333,
              "#9c179e"
             ],
             [
              0.4444444444444444,
              "#bd3786"
             ],
             [
              0.5555555555555556,
              "#d8576b"
             ],
             [
              0.6666666666666666,
              "#ed7953"
             ],
             [
              0.7777777777777778,
              "#fb9f3a"
             ],
             [
              0.8888888888888888,
              "#fdca26"
             ],
             [
              1,
              "#f0f921"
             ]
            ],
            "type": "heatmap"
           }
          ],
          "heatmapgl": [
           {
            "colorbar": {
             "outlinewidth": 0,
             "ticks": ""
            },
            "colorscale": [
             [
              0,
              "#0d0887"
             ],
             [
              0.1111111111111111,
              "#46039f"
             ],
             [
              0.2222222222222222,
              "#7201a8"
             ],
             [
              0.3333333333333333,
              "#9c179e"
             ],
             [
              0.4444444444444444,
              "#bd3786"
             ],
             [
              0.5555555555555556,
              "#d8576b"
             ],
             [
              0.6666666666666666,
              "#ed7953"
             ],
             [
              0.7777777777777778,
              "#fb9f3a"
             ],
             [
              0.8888888888888888,
              "#fdca26"
             ],
             [
              1,
              "#f0f921"
             ]
            ],
            "type": "heatmapgl"
           }
          ],
          "histogram": [
           {
            "marker": {
             "pattern": {
              "fillmode": "overlay",
              "size": 10,
              "solidity": 0.2
             }
            },
            "type": "histogram"
           }
          ],
          "histogram2d": [
           {
            "colorbar": {
             "outlinewidth": 0,
             "ticks": ""
            },
            "colorscale": [
             [
              0,
              "#0d0887"
             ],
             [
              0.1111111111111111,
              "#46039f"
             ],
             [
              0.2222222222222222,
              "#7201a8"
             ],
             [
              0.3333333333333333,
              "#9c179e"
             ],
             [
              0.4444444444444444,
              "#bd3786"
             ],
             [
              0.5555555555555556,
              "#d8576b"
             ],
             [
              0.6666666666666666,
              "#ed7953"
             ],
             [
              0.7777777777777778,
              "#fb9f3a"
             ],
             [
              0.8888888888888888,
              "#fdca26"
             ],
             [
              1,
              "#f0f921"
             ]
            ],
            "type": "histogram2d"
           }
          ],
          "histogram2dcontour": [
           {
            "colorbar": {
             "outlinewidth": 0,
             "ticks": ""
            },
            "colorscale": [
             [
              0,
              "#0d0887"
             ],
             [
              0.1111111111111111,
              "#46039f"
             ],
             [
              0.2222222222222222,
              "#7201a8"
             ],
             [
              0.3333333333333333,
              "#9c179e"
             ],
             [
              0.4444444444444444,
              "#bd3786"
             ],
             [
              0.5555555555555556,
              "#d8576b"
             ],
             [
              0.6666666666666666,
              "#ed7953"
             ],
             [
              0.7777777777777778,
              "#fb9f3a"
             ],
             [
              0.8888888888888888,
              "#fdca26"
             ],
             [
              1,
              "#f0f921"
             ]
            ],
            "type": "histogram2dcontour"
           }
          ],
          "mesh3d": [
           {
            "colorbar": {
             "outlinewidth": 0,
             "ticks": ""
            },
            "type": "mesh3d"
           }
          ],
          "parcoords": [
           {
            "line": {
             "colorbar": {
              "outlinewidth": 0,
              "ticks": ""
             }
            },
            "type": "parcoords"
           }
          ],
          "pie": [
           {
            "automargin": true,
            "type": "pie"
           }
          ],
          "scatter": [
           {
            "fillpattern": {
             "fillmode": "overlay",
             "size": 10,
             "solidity": 0.2
            },
            "type": "scatter"
           }
          ],
          "scatter3d": [
           {
            "line": {
             "colorbar": {
              "outlinewidth": 0,
              "ticks": ""
             }
            },
            "marker": {
             "colorbar": {
              "outlinewidth": 0,
              "ticks": ""
             }
            },
            "type": "scatter3d"
           }
          ],
          "scattercarpet": [
           {
            "marker": {
             "colorbar": {
              "outlinewidth": 0,
              "ticks": ""
             }
            },
            "type": "scattercarpet"
           }
          ],
          "scattergeo": [
           {
            "marker": {
             "colorbar": {
              "outlinewidth": 0,
              "ticks": ""
             }
            },
            "type": "scattergeo"
           }
          ],
          "scattergl": [
           {
            "marker": {
             "colorbar": {
              "outlinewidth": 0,
              "ticks": ""
             }
            },
            "type": "scattergl"
           }
          ],
          "scattermapbox": [
           {
            "marker": {
             "colorbar": {
              "outlinewidth": 0,
              "ticks": ""
             }
            },
            "type": "scattermapbox"
           }
          ],
          "scatterpolar": [
           {
            "marker": {
             "colorbar": {
              "outlinewidth": 0,
              "ticks": ""
             }
            },
            "type": "scatterpolar"
           }
          ],
          "scatterpolargl": [
           {
            "marker": {
             "colorbar": {
              "outlinewidth": 0,
              "ticks": ""
             }
            },
            "type": "scatterpolargl"
           }
          ],
          "scatterternary": [
           {
            "marker": {
             "colorbar": {
              "outlinewidth": 0,
              "ticks": ""
             }
            },
            "type": "scatterternary"
           }
          ],
          "surface": [
           {
            "colorbar": {
             "outlinewidth": 0,
             "ticks": ""
            },
            "colorscale": [
             [
              0,
              "#0d0887"
             ],
             [
              0.1111111111111111,
              "#46039f"
             ],
             [
              0.2222222222222222,
              "#7201a8"
             ],
             [
              0.3333333333333333,
              "#9c179e"
             ],
             [
              0.4444444444444444,
              "#bd3786"
             ],
             [
              0.5555555555555556,
              "#d8576b"
             ],
             [
              0.6666666666666666,
              "#ed7953"
             ],
             [
              0.7777777777777778,
              "#fb9f3a"
             ],
             [
              0.8888888888888888,
              "#fdca26"
             ],
             [
              1,
              "#f0f921"
             ]
            ],
            "type": "surface"
           }
          ],
          "table": [
           {
            "cells": {
             "fill": {
              "color": "#EBF0F8"
             },
             "line": {
              "color": "white"
             }
            },
            "header": {
             "fill": {
              "color": "#C8D4E3"
             },
             "line": {
              "color": "white"
             }
            },
            "type": "table"
           }
          ]
         },
         "layout": {
          "annotationdefaults": {
           "arrowcolor": "#2a3f5f",
           "arrowhead": 0,
           "arrowwidth": 1
          },
          "autotypenumbers": "strict",
          "coloraxis": {
           "colorbar": {
            "outlinewidth": 0,
            "ticks": ""
           }
          },
          "colorscale": {
           "diverging": [
            [
             0,
             "#8e0152"
            ],
            [
             0.1,
             "#c51b7d"
            ],
            [
             0.2,
             "#de77ae"
            ],
            [
             0.3,
             "#f1b6da"
            ],
            [
             0.4,
             "#fde0ef"
            ],
            [
             0.5,
             "#f7f7f7"
            ],
            [
             0.6,
             "#e6f5d0"
            ],
            [
             0.7,
             "#b8e186"
            ],
            [
             0.8,
             "#7fbc41"
            ],
            [
             0.9,
             "#4d9221"
            ],
            [
             1,
             "#276419"
            ]
           ],
           "sequential": [
            [
             0,
             "#0d0887"
            ],
            [
             0.1111111111111111,
             "#46039f"
            ],
            [
             0.2222222222222222,
             "#7201a8"
            ],
            [
             0.3333333333333333,
             "#9c179e"
            ],
            [
             0.4444444444444444,
             "#bd3786"
            ],
            [
             0.5555555555555556,
             "#d8576b"
            ],
            [
             0.6666666666666666,
             "#ed7953"
            ],
            [
             0.7777777777777778,
             "#fb9f3a"
            ],
            [
             0.8888888888888888,
             "#fdca26"
            ],
            [
             1,
             "#f0f921"
            ]
           ],
           "sequentialminus": [
            [
             0,
             "#0d0887"
            ],
            [
             0.1111111111111111,
             "#46039f"
            ],
            [
             0.2222222222222222,
             "#7201a8"
            ],
            [
             0.3333333333333333,
             "#9c179e"
            ],
            [
             0.4444444444444444,
             "#bd3786"
            ],
            [
             0.5555555555555556,
             "#d8576b"
            ],
            [
             0.6666666666666666,
             "#ed7953"
            ],
            [
             0.7777777777777778,
             "#fb9f3a"
            ],
            [
             0.8888888888888888,
             "#fdca26"
            ],
            [
             1,
             "#f0f921"
            ]
           ]
          },
          "colorway": [
           "#636efa",
           "#EF553B",
           "#00cc96",
           "#ab63fa",
           "#FFA15A",
           "#19d3f3",
           "#FF6692",
           "#B6E880",
           "#FF97FF",
           "#FECB52"
          ],
          "font": {
           "color": "#2a3f5f"
          },
          "geo": {
           "bgcolor": "white",
           "lakecolor": "white",
           "landcolor": "#E5ECF6",
           "showlakes": true,
           "showland": true,
           "subunitcolor": "white"
          },
          "hoverlabel": {
           "align": "left"
          },
          "hovermode": "closest",
          "mapbox": {
           "style": "light"
          },
          "paper_bgcolor": "white",
          "plot_bgcolor": "#E5ECF6",
          "polar": {
           "angularaxis": {
            "gridcolor": "white",
            "linecolor": "white",
            "ticks": ""
           },
           "bgcolor": "#E5ECF6",
           "radialaxis": {
            "gridcolor": "white",
            "linecolor": "white",
            "ticks": ""
           }
          },
          "scene": {
           "xaxis": {
            "backgroundcolor": "#E5ECF6",
            "gridcolor": "white",
            "gridwidth": 2,
            "linecolor": "white",
            "showbackground": true,
            "ticks": "",
            "zerolinecolor": "white"
           },
           "yaxis": {
            "backgroundcolor": "#E5ECF6",
            "gridcolor": "white",
            "gridwidth": 2,
            "linecolor": "white",
            "showbackground": true,
            "ticks": "",
            "zerolinecolor": "white"
           },
           "zaxis": {
            "backgroundcolor": "#E5ECF6",
            "gridcolor": "white",
            "gridwidth": 2,
            "linecolor": "white",
            "showbackground": true,
            "ticks": "",
            "zerolinecolor": "white"
           }
          },
          "shapedefaults": {
           "line": {
            "color": "#2a3f5f"
           }
          },
          "ternary": {
           "aaxis": {
            "gridcolor": "white",
            "linecolor": "white",
            "ticks": ""
           },
           "baxis": {
            "gridcolor": "white",
            "linecolor": "white",
            "ticks": ""
           },
           "bgcolor": "#E5ECF6",
           "caxis": {
            "gridcolor": "white",
            "linecolor": "white",
            "ticks": ""
           }
          },
          "title": {
           "x": 0.05
          },
          "xaxis": {
           "automargin": true,
           "gridcolor": "white",
           "linecolor": "white",
           "ticks": "",
           "title": {
            "standoff": 15
           },
           "zerolinecolor": "white",
           "zerolinewidth": 2
          },
          "yaxis": {
           "automargin": true,
           "gridcolor": "white",
           "linecolor": "white",
           "ticks": "",
           "title": {
            "standoff": 15
           },
           "zerolinecolor": "white",
           "zerolinewidth": 2
          }
         }
        },
        "width": 700,
        "xaxis": {
         "anchor": "y",
         "domain": [
          0,
          1
         ],
         "title": {
          "text": "temperature"
         }
        },
        "yaxis": {
         "anchor": "x",
         "domain": [
          0,
          1
         ],
         "title": {
          "text": "primary production"
         }
        }
       }
      }
     },
     "metadata": {},
     "output_type": "display_data"
    }
   ],
   "source": [
    "fig = px.scatter(table, x=\"temperature\", y=\"primary production\", color=\"name\")\n",
    "fig.update_layout(width=700, height=500)\n",
    "fig.show()"
   ]
  },
  {
   "cell_type": "markdown",
   "metadata": {},
   "source": [
    "Export in unique file\n"
   ]
  },
  {
   "cell_type": "code",
   "execution_count": 5,
   "metadata": {},
   "outputs": [
    {
     "data": {
      "text/html": [
       "<div><svg style=\"position: absolute; width: 0; height: 0; overflow: hidden\">\n",
       "<defs>\n",
       "<symbol id=\"icon-database\" viewBox=\"0 0 32 32\">\n",
       "<path d=\"M16 0c-8.837 0-16 2.239-16 5v4c0 2.761 7.163 5 16 5s16-2.239 16-5v-4c0-2.761-7.163-5-16-5z\"></path>\n",
       "<path d=\"M16 17c-8.837 0-16-2.239-16-5v6c0 2.761 7.163 5 16 5s16-2.239 16-5v-6c0 2.761-7.163 5-16 5z\"></path>\n",
       "<path d=\"M16 26c-8.837 0-16-2.239-16-5v6c0 2.761 7.163 5 16 5s16-2.239 16-5v-6c0 2.761-7.163 5-16 5z\"></path>\n",
       "</symbol>\n",
       "<symbol id=\"icon-file-text2\" viewBox=\"0 0 32 32\">\n",
       "<path d=\"M28.681 7.159c-0.694-0.947-1.662-2.053-2.724-3.116s-2.169-2.030-3.116-2.724c-1.612-1.182-2.393-1.319-2.841-1.319h-15.5c-1.378 0-2.5 1.121-2.5 2.5v27c0 1.378 1.122 2.5 2.5 2.5h23c1.378 0 2.5-1.122 2.5-2.5v-19.5c0-0.448-0.137-1.23-1.319-2.841zM24.543 5.457c0.959 0.959 1.712 1.825 2.268 2.543h-4.811v-4.811c0.718 0.556 1.584 1.309 2.543 2.268zM28 29.5c0 0.271-0.229 0.5-0.5 0.5h-23c-0.271 0-0.5-0.229-0.5-0.5v-27c0-0.271 0.229-0.5 0.5-0.5 0 0 15.499-0 15.5 0v7c0 0.552 0.448 1 1 1h7v19.5z\"></path>\n",
       "<path d=\"M23 26h-14c-0.552 0-1-0.448-1-1s0.448-1 1-1h14c0.552 0 1 0.448 1 1s-0.448 1-1 1z\"></path>\n",
       "<path d=\"M23 22h-14c-0.552 0-1-0.448-1-1s0.448-1 1-1h14c0.552 0 1 0.448 1 1s-0.448 1-1 1z\"></path>\n",
       "<path d=\"M23 18h-14c-0.552 0-1-0.448-1-1s0.448-1 1-1h14c0.552 0 1 0.448 1 1s-0.448 1-1 1z\"></path>\n",
       "</symbol>\n",
       "</defs>\n",
       "</svg>\n",
       "<style>/* CSS stylesheet for displaying xarray objects in jupyterlab.\n",
       " *\n",
       " */\n",
       "\n",
       ":root {\n",
       "  --xr-font-color0: var(--jp-content-font-color0, rgba(0, 0, 0, 1));\n",
       "  --xr-font-color2: var(--jp-content-font-color2, rgba(0, 0, 0, 0.54));\n",
       "  --xr-font-color3: var(--jp-content-font-color3, rgba(0, 0, 0, 0.38));\n",
       "  --xr-border-color: var(--jp-border-color2, #e0e0e0);\n",
       "  --xr-disabled-color: var(--jp-layout-color3, #bdbdbd);\n",
       "  --xr-background-color: var(--jp-layout-color0, white);\n",
       "  --xr-background-color-row-even: var(--jp-layout-color1, white);\n",
       "  --xr-background-color-row-odd: var(--jp-layout-color2, #eeeeee);\n",
       "}\n",
       "\n",
       "html[theme=\"dark\"],\n",
       "html[data-theme=\"dark\"],\n",
       "body[data-theme=\"dark\"],\n",
       "body.vscode-dark {\n",
       "  --xr-font-color0: rgba(255, 255, 255, 1);\n",
       "  --xr-font-color2: rgba(255, 255, 255, 0.54);\n",
       "  --xr-font-color3: rgba(255, 255, 255, 0.38);\n",
       "  --xr-border-color: #1f1f1f;\n",
       "  --xr-disabled-color: #515151;\n",
       "  --xr-background-color: #111111;\n",
       "  --xr-background-color-row-even: #111111;\n",
       "  --xr-background-color-row-odd: #313131;\n",
       "}\n",
       "\n",
       ".xr-wrap {\n",
       "  display: block !important;\n",
       "  min-width: 300px;\n",
       "  max-width: 700px;\n",
       "}\n",
       "\n",
       ".xr-text-repr-fallback {\n",
       "  /* fallback to plain text repr when CSS is not injected (untrusted notebook) */\n",
       "  display: none;\n",
       "}\n",
       "\n",
       ".xr-header {\n",
       "  padding-top: 6px;\n",
       "  padding-bottom: 6px;\n",
       "  margin-bottom: 4px;\n",
       "  border-bottom: solid 1px var(--xr-border-color);\n",
       "}\n",
       "\n",
       ".xr-header > div,\n",
       ".xr-header > ul {\n",
       "  display: inline;\n",
       "  margin-top: 0;\n",
       "  margin-bottom: 0;\n",
       "}\n",
       "\n",
       ".xr-obj-type,\n",
       ".xr-array-name {\n",
       "  margin-left: 2px;\n",
       "  margin-right: 10px;\n",
       "}\n",
       "\n",
       ".xr-obj-type {\n",
       "  color: var(--xr-font-color2);\n",
       "}\n",
       "\n",
       ".xr-sections {\n",
       "  padding-left: 0 !important;\n",
       "  display: grid;\n",
       "  grid-template-columns: 150px auto auto 1fr 0 20px 0 20px;\n",
       "}\n",
       "\n",
       ".xr-section-item {\n",
       "  display: contents;\n",
       "}\n",
       "\n",
       ".xr-section-item input {\n",
       "  display: inline-block;\n",
       "  opacity: 0;\n",
       "  height: 0;\n",
       "}\n",
       "\n",
       ".xr-section-item input + label {\n",
       "  color: var(--xr-disabled-color);\n",
       "}\n",
       "\n",
       ".xr-section-item input:enabled + label {\n",
       "  cursor: pointer;\n",
       "  color: var(--xr-font-color2);\n",
       "}\n",
       "\n",
       ".xr-section-item input:focus + label {\n",
       "  border: 2px solid var(--xr-font-color0);\n",
       "}\n",
       "\n",
       ".xr-section-item input:enabled + label:hover {\n",
       "  color: var(--xr-font-color0);\n",
       "}\n",
       "\n",
       ".xr-section-summary {\n",
       "  grid-column: 1;\n",
       "  color: var(--xr-font-color2);\n",
       "  font-weight: 500;\n",
       "}\n",
       "\n",
       ".xr-section-summary > span {\n",
       "  display: inline-block;\n",
       "  padding-left: 0.5em;\n",
       "}\n",
       "\n",
       ".xr-section-summary-in:disabled + label {\n",
       "  color: var(--xr-font-color2);\n",
       "}\n",
       "\n",
       ".xr-section-summary-in + label:before {\n",
       "  display: inline-block;\n",
       "  content: \"►\";\n",
       "  font-size: 11px;\n",
       "  width: 15px;\n",
       "  text-align: center;\n",
       "}\n",
       "\n",
       ".xr-section-summary-in:disabled + label:before {\n",
       "  color: var(--xr-disabled-color);\n",
       "}\n",
       "\n",
       ".xr-section-summary-in:checked + label:before {\n",
       "  content: \"▼\";\n",
       "}\n",
       "\n",
       ".xr-section-summary-in:checked + label > span {\n",
       "  display: none;\n",
       "}\n",
       "\n",
       ".xr-section-summary,\n",
       ".xr-section-inline-details {\n",
       "  padding-top: 4px;\n",
       "  padding-bottom: 4px;\n",
       "}\n",
       "\n",
       ".xr-section-inline-details {\n",
       "  grid-column: 2 / -1;\n",
       "}\n",
       "\n",
       ".xr-section-details {\n",
       "  display: none;\n",
       "  grid-column: 1 / -1;\n",
       "  margin-bottom: 5px;\n",
       "}\n",
       "\n",
       ".xr-section-summary-in:checked ~ .xr-section-details {\n",
       "  display: contents;\n",
       "}\n",
       "\n",
       ".xr-array-wrap {\n",
       "  grid-column: 1 / -1;\n",
       "  display: grid;\n",
       "  grid-template-columns: 20px auto;\n",
       "}\n",
       "\n",
       ".xr-array-wrap > label {\n",
       "  grid-column: 1;\n",
       "  vertical-align: top;\n",
       "}\n",
       "\n",
       ".xr-preview {\n",
       "  color: var(--xr-font-color3);\n",
       "}\n",
       "\n",
       ".xr-array-preview,\n",
       ".xr-array-data {\n",
       "  padding: 0 5px !important;\n",
       "  grid-column: 2;\n",
       "}\n",
       "\n",
       ".xr-array-data,\n",
       ".xr-array-in:checked ~ .xr-array-preview {\n",
       "  display: none;\n",
       "}\n",
       "\n",
       ".xr-array-in:checked ~ .xr-array-data,\n",
       ".xr-array-preview {\n",
       "  display: inline-block;\n",
       "}\n",
       "\n",
       ".xr-dim-list {\n",
       "  display: inline-block !important;\n",
       "  list-style: none;\n",
       "  padding: 0 !important;\n",
       "  margin: 0;\n",
       "}\n",
       "\n",
       ".xr-dim-list li {\n",
       "  display: inline-block;\n",
       "  padding: 0;\n",
       "  margin: 0;\n",
       "}\n",
       "\n",
       ".xr-dim-list:before {\n",
       "  content: \"(\";\n",
       "}\n",
       "\n",
       ".xr-dim-list:after {\n",
       "  content: \")\";\n",
       "}\n",
       "\n",
       ".xr-dim-list li:not(:last-child):after {\n",
       "  content: \",\";\n",
       "  padding-right: 5px;\n",
       "}\n",
       "\n",
       ".xr-has-index {\n",
       "  font-weight: bold;\n",
       "}\n",
       "\n",
       ".xr-var-list,\n",
       ".xr-var-item {\n",
       "  display: contents;\n",
       "}\n",
       "\n",
       ".xr-var-item > div,\n",
       ".xr-var-item label,\n",
       ".xr-var-item > .xr-var-name span {\n",
       "  background-color: var(--xr-background-color-row-even);\n",
       "  margin-bottom: 0;\n",
       "}\n",
       "\n",
       ".xr-var-item > .xr-var-name:hover span {\n",
       "  padding-right: 5px;\n",
       "}\n",
       "\n",
       ".xr-var-list > li:nth-child(odd) > div,\n",
       ".xr-var-list > li:nth-child(odd) > label,\n",
       ".xr-var-list > li:nth-child(odd) > .xr-var-name span {\n",
       "  background-color: var(--xr-background-color-row-odd);\n",
       "}\n",
       "\n",
       ".xr-var-name {\n",
       "  grid-column: 1;\n",
       "}\n",
       "\n",
       ".xr-var-dims {\n",
       "  grid-column: 2;\n",
       "}\n",
       "\n",
       ".xr-var-dtype {\n",
       "  grid-column: 3;\n",
       "  text-align: right;\n",
       "  color: var(--xr-font-color2);\n",
       "}\n",
       "\n",
       ".xr-var-preview {\n",
       "  grid-column: 4;\n",
       "}\n",
       "\n",
       ".xr-index-preview {\n",
       "  grid-column: 2 / 5;\n",
       "  color: var(--xr-font-color2);\n",
       "}\n",
       "\n",
       ".xr-var-name,\n",
       ".xr-var-dims,\n",
       ".xr-var-dtype,\n",
       ".xr-preview,\n",
       ".xr-attrs dt {\n",
       "  white-space: nowrap;\n",
       "  overflow: hidden;\n",
       "  text-overflow: ellipsis;\n",
       "  padding-right: 10px;\n",
       "}\n",
       "\n",
       ".xr-var-name:hover,\n",
       ".xr-var-dims:hover,\n",
       ".xr-var-dtype:hover,\n",
       ".xr-attrs dt:hover {\n",
       "  overflow: visible;\n",
       "  width: auto;\n",
       "  z-index: 1;\n",
       "}\n",
       "\n",
       ".xr-var-attrs,\n",
       ".xr-var-data,\n",
       ".xr-index-data {\n",
       "  display: none;\n",
       "  background-color: var(--xr-background-color) !important;\n",
       "  padding-bottom: 5px !important;\n",
       "}\n",
       "\n",
       ".xr-var-attrs-in:checked ~ .xr-var-attrs,\n",
       ".xr-var-data-in:checked ~ .xr-var-data,\n",
       ".xr-index-data-in:checked ~ .xr-index-data {\n",
       "  display: block;\n",
       "}\n",
       "\n",
       ".xr-var-data > table {\n",
       "  float: right;\n",
       "}\n",
       "\n",
       ".xr-var-name span,\n",
       ".xr-var-data,\n",
       ".xr-index-name div,\n",
       ".xr-index-data,\n",
       ".xr-attrs {\n",
       "  padding-left: 25px !important;\n",
       "}\n",
       "\n",
       ".xr-attrs,\n",
       ".xr-var-attrs,\n",
       ".xr-var-data,\n",
       ".xr-index-data {\n",
       "  grid-column: 1 / -1;\n",
       "}\n",
       "\n",
       "dl.xr-attrs {\n",
       "  padding: 0;\n",
       "  margin: 0;\n",
       "  display: grid;\n",
       "  grid-template-columns: 125px auto;\n",
       "}\n",
       "\n",
       ".xr-attrs dt,\n",
       ".xr-attrs dd {\n",
       "  padding: 0;\n",
       "  margin: 0;\n",
       "  float: left;\n",
       "  padding-right: 10px;\n",
       "  width: auto;\n",
       "}\n",
       "\n",
       ".xr-attrs dt {\n",
       "  font-weight: normal;\n",
       "  grid-column: 1;\n",
       "}\n",
       "\n",
       ".xr-attrs dt:hover span {\n",
       "  display: inline-block;\n",
       "  background: var(--xr-background-color);\n",
       "  padding-right: 10px;\n",
       "}\n",
       "\n",
       ".xr-attrs dd {\n",
       "  grid-column: 2;\n",
       "  white-space: pre-wrap;\n",
       "  word-break: break-all;\n",
       "}\n",
       "\n",
       ".xr-icon-database,\n",
       ".xr-icon-file-text2,\n",
       ".xr-no-icon {\n",
       "  display: inline-block;\n",
       "  vertical-align: middle;\n",
       "  width: 1em;\n",
       "  height: 1.5em !important;\n",
       "  stroke-width: 0;\n",
       "  stroke: currentColor;\n",
       "  fill: currentColor;\n",
       "}\n",
       "</style><pre class='xr-text-repr-fallback'>&lt;xarray.Dataset&gt; Size: 2MB\n",
       "Dimensions:    (latitude: 5, longitude: 5, time: 9496)\n",
       "Coordinates:\n",
       "  * latitude   (latitude) float64 40B 13.0 22.75 31.6 50.01 74.62\n",
       "  * longitude  (longitude) float64 40B -158.0 -150.0 -64.2 26.97 150.0\n",
       "  * time       (time) datetime64[ns] 76kB 1998-01-01 1998-01-02 ... 2023-12-31\n",
       "Data variables:\n",
       "    T          (longitude, latitude, time) float32 950kB nan nan nan ... nan nan\n",
       "    npp        (longitude, latitude, time) float32 950kB nan nan nan ... nan nan\n",
       "Attributes:\n",
       "    Conventions:       CF-1.11\n",
       "    history:           Created on 2024-09-6\n",
       "    institution:       CLS\n",
       "    references:        http://www.cls.fr; http://www.seapodym.eu\n",
       "    source:            SEAPODYM-LMTL 3.0.0\n",
       "    subset:datasetId:  cmems_mod_glo_bgc_my_0.083deg-lmtl-Fphy_PT1D-i_202411\n",
       "    subset:date:       2025-03-14T12:07:51.550Z\n",
       "    subset:productId:  GLOBAL_MULTIYEAR_BGC_001_033\n",
       "    subset:source:     ARCO data downloaded from the Marine Data Store using ...\n",
       "    title:             Physical forcings of global ocean low and mid trophic ...</pre><div class='xr-wrap' style='display:none'><div class='xr-header'><div class='xr-obj-type'>xarray.Dataset</div></div><ul class='xr-sections'><li class='xr-section-item'><input id='section-b9b1161a-e0a0-4295-911c-ee5dcf421a0e' class='xr-section-summary-in' type='checkbox' disabled ><label for='section-b9b1161a-e0a0-4295-911c-ee5dcf421a0e' class='xr-section-summary'  title='Expand/collapse section'>Dimensions:</label><div class='xr-section-inline-details'><ul class='xr-dim-list'><li><span class='xr-has-index'>latitude</span>: 5</li><li><span class='xr-has-index'>longitude</span>: 5</li><li><span class='xr-has-index'>time</span>: 9496</li></ul></div><div class='xr-section-details'></div></li><li class='xr-section-item'><input id='section-6f7bb707-158b-4776-8d0d-7aaaeffaa41f' class='xr-section-summary-in' type='checkbox'  checked><label for='section-6f7bb707-158b-4776-8d0d-7aaaeffaa41f' class='xr-section-summary' >Coordinates: <span>(3)</span></label><div class='xr-section-inline-details'></div><div class='xr-section-details'><ul class='xr-var-list'><li class='xr-var-item'><div class='xr-var-name'><span class='xr-has-index'>latitude</span></div><div class='xr-var-dims'>(latitude)</div><div class='xr-var-dtype'>float64</div><div class='xr-var-preview xr-preview'>13.0 22.75 31.6 50.01 74.62</div><input id='attrs-dd90a23c-ffe0-405b-b3ea-775ed37ce724' class='xr-var-attrs-in' type='checkbox' disabled><label for='attrs-dd90a23c-ffe0-405b-b3ea-775ed37ce724' title='Show/Hide attributes'><svg class='icon xr-icon-file-text2'><use xlink:href='#icon-file-text2'></use></svg></label><input id='data-c8e18021-40cd-440d-8e88-d9e9200d5888' class='xr-var-data-in' type='checkbox'><label for='data-c8e18021-40cd-440d-8e88-d9e9200d5888' title='Show/Hide data repr'><svg class='icon xr-icon-database'><use xlink:href='#icon-database'></use></svg></label><div class='xr-var-attrs'><dl class='xr-attrs'></dl></div><div class='xr-var-data'><pre>array([13.001, 22.752, 31.604, 50.006, 74.62 ])</pre></div></li><li class='xr-var-item'><div class='xr-var-name'><span class='xr-has-index'>longitude</span></div><div class='xr-var-dims'>(longitude)</div><div class='xr-var-dtype'>float64</div><div class='xr-var-preview xr-preview'>-158.0 -150.0 -64.2 26.97 150.0</div><input id='attrs-fc0f02f6-facb-47cb-ad92-28ddd5d07431' class='xr-var-attrs-in' type='checkbox' disabled><label for='attrs-fc0f02f6-facb-47cb-ad92-28ddd5d07431' title='Show/Hide attributes'><svg class='icon xr-icon-file-text2'><use xlink:href='#icon-file-text2'></use></svg></label><input id='data-88bb4189-13d6-456d-8960-ad8040888a47' class='xr-var-data-in' type='checkbox'><label for='data-88bb4189-13d6-456d-8960-ad8040888a47' title='Show/Hide data repr'><svg class='icon xr-icon-database'><use xlink:href='#icon-database'></use></svg></label><div class='xr-var-attrs'><dl class='xr-attrs'></dl></div><div class='xr-var-data'><pre>array([-158.004, -149.996,  -64.2  ,   26.969,  149.995])</pre></div></li><li class='xr-var-item'><div class='xr-var-name'><span class='xr-has-index'>time</span></div><div class='xr-var-dims'>(time)</div><div class='xr-var-dtype'>datetime64[ns]</div><div class='xr-var-preview xr-preview'>1998-01-01 ... 2023-12-31</div><input id='attrs-df05295c-55fd-4ca6-8fc2-ff9232cf4c01' class='xr-var-attrs-in' type='checkbox' ><label for='attrs-df05295c-55fd-4ca6-8fc2-ff9232cf4c01' title='Show/Hide attributes'><svg class='icon xr-icon-file-text2'><use xlink:href='#icon-file-text2'></use></svg></label><input id='data-d1297a7d-4e86-4376-afc2-8aadf52cfdf1' class='xr-var-data-in' type='checkbox'><label for='data-d1297a7d-4e86-4376-afc2-8aadf52cfdf1' title='Show/Hide data repr'><svg class='icon xr-icon-database'><use xlink:href='#icon-database'></use></svg></label><div class='xr-var-attrs'><dl class='xr-attrs'><dt><span>axis :</span></dt><dd>T</dd><dt><span>long_name :</span></dt><dd>Time</dd><dt><span>standard_name :</span></dt><dd>time</dd></dl></div><div class='xr-var-data'><pre>array([&#x27;1998-01-01T00:00:00.000000000&#x27;, &#x27;1998-01-02T00:00:00.000000000&#x27;,\n",
       "       &#x27;1998-01-03T00:00:00.000000000&#x27;, ..., &#x27;2023-12-29T00:00:00.000000000&#x27;,\n",
       "       &#x27;2023-12-30T00:00:00.000000000&#x27;, &#x27;2023-12-31T00:00:00.000000000&#x27;],\n",
       "      dtype=&#x27;datetime64[ns]&#x27;)</pre></div></li></ul></div></li><li class='xr-section-item'><input id='section-da8a1a93-0b2f-4aa3-b813-a9a6c8bc346b' class='xr-section-summary-in' type='checkbox'  checked><label for='section-da8a1a93-0b2f-4aa3-b813-a9a6c8bc346b' class='xr-section-summary' >Data variables: <span>(2)</span></label><div class='xr-section-inline-details'></div><div class='xr-section-details'><ul class='xr-var-list'><li class='xr-var-item'><div class='xr-var-name'><span>T</span></div><div class='xr-var-dims'>(longitude, latitude, time)</div><div class='xr-var-dtype'>float32</div><div class='xr-var-preview xr-preview'>nan nan nan nan ... nan nan nan nan</div><input id='attrs-7dfae12f-9b1a-4445-aa6a-6989f5f91c0e' class='xr-var-attrs-in' type='checkbox' ><label for='attrs-7dfae12f-9b1a-4445-aa6a-6989f5f91c0e' title='Show/Hide attributes'><svg class='icon xr-icon-file-text2'><use xlink:href='#icon-file-text2'></use></svg></label><input id='data-a5607a82-9c2d-45f4-b110-0f7556cdd022' class='xr-var-data-in' type='checkbox'><label for='data-a5607a82-9c2d-45f4-b110-0f7556cdd022' title='Show/Hide data repr'><svg class='icon xr-icon-database'><use xlink:href='#icon-database'></use></svg></label><div class='xr-var-attrs'><dl class='xr-attrs'><dt><span>long_name :</span></dt><dd>Sea water potential temperature vertical mean over pelagic layer</dd><dt><span>standard_name :</span></dt><dd>sea_water_potential_temperature_vertical_mean_over_pelagic_layer</dd><dt><span>units :</span></dt><dd>Celsius degree</dd></dl></div><div class='xr-var-data'><pre>array([[[       nan,        nan,        nan, ...,        nan,\n",
       "                nan,        nan],\n",
       "        [23.53703  , 23.50127  , 23.52738  , ..., 24.40147  ,\n",
       "         24.19657  , 24.155136 ],\n",
       "        [       nan,        nan,        nan, ...,        nan,\n",
       "                nan,        nan],\n",
       "        [       nan,        nan,        nan, ...,        nan,\n",
       "                nan,        nan],\n",
       "        [       nan,        nan,        nan, ...,        nan,\n",
       "                nan,        nan]],\n",
       "\n",
       "       [[       nan,        nan,        nan, ...,        nan,\n",
       "                nan,        nan],\n",
       "        [       nan,        nan,        nan, ...,        nan,\n",
       "                nan,        nan],\n",
       "        [       nan,        nan,        nan, ...,        nan,\n",
       "                nan,        nan],\n",
       "        [ 5.663591 ,  5.6034265,  5.53418  , ...,  7.3516064,\n",
       "          7.2903066,  7.263062 ],\n",
       "        [       nan,        nan,        nan, ...,        nan,\n",
       "...\n",
       "                nan,        nan],\n",
       "        [       nan,        nan,        nan, ...,        nan,\n",
       "                nan,        nan],\n",
       "        [       nan,        nan,        nan, ...,        nan,\n",
       "                nan,        nan],\n",
       "        [       nan,        nan,        nan, ...,        nan,\n",
       "                nan,        nan],\n",
       "        [ 3.4942584,  3.4051466,  3.2904932, ...,  3.650346 ,\n",
       "          3.7649994,  3.879085 ]],\n",
       "\n",
       "       [[25.786392 , 25.740986 , 25.71885  , ..., 27.860369 ,\n",
       "         27.762743 , 27.812124 ],\n",
       "        [       nan,        nan,        nan, ...,        nan,\n",
       "                nan,        nan],\n",
       "        [       nan,        nan,        nan, ...,        nan,\n",
       "                nan,        nan],\n",
       "        [       nan,        nan,        nan, ...,        nan,\n",
       "                nan,        nan],\n",
       "        [       nan,        nan,        nan, ...,        nan,\n",
       "                nan,        nan]]], dtype=float32)</pre></div></li><li class='xr-var-item'><div class='xr-var-name'><span>npp</span></div><div class='xr-var-dims'>(longitude, latitude, time)</div><div class='xr-var-dtype'>float32</div><div class='xr-var-preview xr-preview'>nan nan nan nan ... nan nan nan nan</div><input id='attrs-bcdbabd2-e1d0-421e-bb89-df6f192e7f32' class='xr-var-attrs-in' type='checkbox' ><label for='attrs-bcdbabd2-e1d0-421e-bb89-df6f192e7f32' title='Show/Hide attributes'><svg class='icon xr-icon-file-text2'><use xlink:href='#icon-file-text2'></use></svg></label><input id='data-6431a084-0450-4f30-9449-00f25c74b3d8' class='xr-var-data-in' type='checkbox'><label for='data-6431a084-0450-4f30-9449-00f25c74b3d8' title='Show/Hide data repr'><svg class='icon xr-icon-database'><use xlink:href='#icon-database'></use></svg></label><div class='xr-var-attrs'><dl class='xr-attrs'><dt><span>long_name :</span></dt><dd>Net primary productivity of biomass expressed as carbon in sea water</dd><dt><span>standard_name :</span></dt><dd>net_primary_productivity_of_biomass_expressed_as_carbon_in_sea_water</dd><dt><span>units :</span></dt><dd>mg m-2 day-1</dd></dl></div><div class='xr-var-data'><pre>array([[[          nan,           nan,           nan, ...,\n",
       "                   nan,           nan,           nan],\n",
       "        [3.1609662e+02, 2.9191043e+02, 3.2304117e+02, ...,\n",
       "         3.2088596e+02, 2.6293494e+02, 2.6197705e+02],\n",
       "        [          nan,           nan,           nan, ...,\n",
       "                   nan,           nan,           nan],\n",
       "        [          nan,           nan,           nan, ...,\n",
       "                   nan,           nan,           nan],\n",
       "        [          nan,           nan,           nan, ...,\n",
       "                   nan,           nan,           nan]],\n",
       "\n",
       "       [[          nan,           nan,           nan, ...,\n",
       "                   nan,           nan,           nan],\n",
       "        [          nan,           nan,           nan, ...,\n",
       "                   nan,           nan,           nan],\n",
       "        [          nan,           nan,           nan, ...,\n",
       "                   nan,           nan,           nan],\n",
       "        [1.3266479e+02, 1.4272241e+02, 1.5206163e+02, ...,\n",
       "         1.6427446e+02, 1.4942751e+02, 1.2883333e+02],\n",
       "        [          nan,           nan,           nan, ...,\n",
       "...\n",
       "                   nan,           nan,           nan],\n",
       "        [          nan,           nan,           nan, ...,\n",
       "                   nan,           nan,           nan],\n",
       "        [          nan,           nan,           nan, ...,\n",
       "                   nan,           nan,           nan],\n",
       "        [          nan,           nan,           nan, ...,\n",
       "                   nan,           nan,           nan],\n",
       "        [3.6540341e-06, 3.6540341e-06, 3.6540341e-06, ...,\n",
       "         3.6540341e-06, 3.6540341e-06, 3.6540341e-06]],\n",
       "\n",
       "       [[1.9181319e+02, 1.8295290e+02, 1.8295290e+02, ...,\n",
       "         1.0201301e+02, 9.0039650e+01, 1.0105514e+02],\n",
       "        [          nan,           nan,           nan, ...,\n",
       "                   nan,           nan,           nan],\n",
       "        [          nan,           nan,           nan, ...,\n",
       "                   nan,           nan,           nan],\n",
       "        [          nan,           nan,           nan, ...,\n",
       "                   nan,           nan,           nan],\n",
       "        [          nan,           nan,           nan, ...,\n",
       "                   nan,           nan,           nan]]], dtype=float32)</pre></div></li></ul></div></li><li class='xr-section-item'><input id='section-9c99889b-315d-4929-94b1-4a0485a00d82' class='xr-section-summary-in' type='checkbox'  ><label for='section-9c99889b-315d-4929-94b1-4a0485a00d82' class='xr-section-summary' >Indexes: <span>(3)</span></label><div class='xr-section-inline-details'></div><div class='xr-section-details'><ul class='xr-var-list'><li class='xr-var-item'><div class='xr-index-name'><div>latitude</div></div><div class='xr-index-preview'>PandasIndex</div><input type='checkbox' disabled/><label></label><input id='index-d5e483fb-4078-448b-83bf-85b4ecda1a6f' class='xr-index-data-in' type='checkbox'/><label for='index-d5e483fb-4078-448b-83bf-85b4ecda1a6f' title='Show/Hide index repr'><svg class='icon xr-icon-database'><use xlink:href='#icon-database'></use></svg></label><div class='xr-index-data'><pre>PandasIndex(Index([13.001, 22.752, 31.604, 50.006, 74.62], dtype=&#x27;float64&#x27;, name=&#x27;latitude&#x27;))</pre></div></li><li class='xr-var-item'><div class='xr-index-name'><div>longitude</div></div><div class='xr-index-preview'>PandasIndex</div><input type='checkbox' disabled/><label></label><input id='index-aa5bc7cd-737d-4e0c-ba0a-5285c68aad51' class='xr-index-data-in' type='checkbox'/><label for='index-aa5bc7cd-737d-4e0c-ba0a-5285c68aad51' title='Show/Hide index repr'><svg class='icon xr-icon-database'><use xlink:href='#icon-database'></use></svg></label><div class='xr-index-data'><pre>PandasIndex(Index([-158.004, -149.996, -64.2, 26.969, 149.995], dtype=&#x27;float64&#x27;, name=&#x27;longitude&#x27;))</pre></div></li><li class='xr-var-item'><div class='xr-index-name'><div>time</div></div><div class='xr-index-preview'>PandasIndex</div><input type='checkbox' disabled/><label></label><input id='index-8784171a-f588-4fe0-8884-8555ff7f1c2a' class='xr-index-data-in' type='checkbox'/><label for='index-8784171a-f588-4fe0-8884-8555ff7f1c2a' title='Show/Hide index repr'><svg class='icon xr-icon-database'><use xlink:href='#icon-database'></use></svg></label><div class='xr-index-data'><pre>PandasIndex(DatetimeIndex([&#x27;1998-01-01&#x27;, &#x27;1998-01-02&#x27;, &#x27;1998-01-03&#x27;, &#x27;1998-01-04&#x27;,\n",
       "               &#x27;1998-01-05&#x27;, &#x27;1998-01-06&#x27;, &#x27;1998-01-07&#x27;, &#x27;1998-01-08&#x27;,\n",
       "               &#x27;1998-01-09&#x27;, &#x27;1998-01-10&#x27;,\n",
       "               ...\n",
       "               &#x27;2023-12-22&#x27;, &#x27;2023-12-23&#x27;, &#x27;2023-12-24&#x27;, &#x27;2023-12-25&#x27;,\n",
       "               &#x27;2023-12-26&#x27;, &#x27;2023-12-27&#x27;, &#x27;2023-12-28&#x27;, &#x27;2023-12-29&#x27;,\n",
       "               &#x27;2023-12-30&#x27;, &#x27;2023-12-31&#x27;],\n",
       "              dtype=&#x27;datetime64[ns]&#x27;, name=&#x27;time&#x27;, length=9496, freq=None))</pre></div></li></ul></div></li><li class='xr-section-item'><input id='section-afd510f2-1d4e-4e4e-a82c-8f9c2026fbd4' class='xr-section-summary-in' type='checkbox'  ><label for='section-afd510f2-1d4e-4e4e-a82c-8f9c2026fbd4' class='xr-section-summary' >Attributes: <span>(10)</span></label><div class='xr-section-inline-details'></div><div class='xr-section-details'><dl class='xr-attrs'><dt><span>Conventions :</span></dt><dd>CF-1.11</dd><dt><span>history :</span></dt><dd>Created on 2024-09-6</dd><dt><span>institution :</span></dt><dd>CLS</dd><dt><span>references :</span></dt><dd>http://www.cls.fr; http://www.seapodym.eu</dd><dt><span>source :</span></dt><dd>SEAPODYM-LMTL 3.0.0</dd><dt><span>subset:datasetId :</span></dt><dd>cmems_mod_glo_bgc_my_0.083deg-lmtl-Fphy_PT1D-i_202411</dd><dt><span>subset:date :</span></dt><dd>2025-03-14T12:07:51.550Z</dd><dt><span>subset:productId :</span></dt><dd>GLOBAL_MULTIYEAR_BGC_001_033</dd><dt><span>subset:source :</span></dt><dd>ARCO data downloaded from the Marine Data Store using the MyOcean Data Portal</dd><dt><span>title :</span></dt><dd>Physical forcings of global ocean low and mid trophic levels biomass content hindcast</dd></dl></div></li></ul></div></div>"
      ],
      "text/plain": [
       "<xarray.Dataset> Size: 2MB\n",
       "Dimensions:    (latitude: 5, longitude: 5, time: 9496)\n",
       "Coordinates:\n",
       "  * latitude   (latitude) float64 40B 13.0 22.75 31.6 50.01 74.62\n",
       "  * longitude  (longitude) float64 40B -158.0 -150.0 -64.2 26.97 150.0\n",
       "  * time       (time) datetime64[ns] 76kB 1998-01-01 1998-01-02 ... 2023-12-31\n",
       "Data variables:\n",
       "    T          (longitude, latitude, time) float32 950kB nan nan nan ... nan nan\n",
       "    npp        (longitude, latitude, time) float32 950kB nan nan nan ... nan nan\n",
       "Attributes:\n",
       "    Conventions:       CF-1.11\n",
       "    history:           Created on 2024-09-6\n",
       "    institution:       CLS\n",
       "    references:        http://www.cls.fr; http://www.seapodym.eu\n",
       "    source:            SEAPODYM-LMTL 3.0.0\n",
       "    subset:datasetId:  cmems_mod_glo_bgc_my_0.083deg-lmtl-Fphy_PT1D-i_202411\n",
       "    subset:date:       2025-03-14T12:07:51.550Z\n",
       "    subset:productId:  GLOBAL_MULTIYEAR_BGC_001_033\n",
       "    subset:source:     ARCO data downloaded from the Marine Data Store using ...\n",
       "    title:             Physical forcings of global ocean low and mid trophic ..."
      ]
     },
     "execution_count": 5,
     "metadata": {},
     "output_type": "execute_result"
    }
   ],
   "source": [
    "export_file = xr.merge(stations)\n",
    "export_file"
   ]
  },
  {
   "cell_type": "code",
   "execution_count": 6,
   "metadata": {},
   "outputs": [
    {
     "data": {
      "text/html": [
       "<div><svg style=\"position: absolute; width: 0; height: 0; overflow: hidden\">\n",
       "<defs>\n",
       "<symbol id=\"icon-database\" viewBox=\"0 0 32 32\">\n",
       "<path d=\"M16 0c-8.837 0-16 2.239-16 5v4c0 2.761 7.163 5 16 5s16-2.239 16-5v-4c0-2.761-7.163-5-16-5z\"></path>\n",
       "<path d=\"M16 17c-8.837 0-16-2.239-16-5v6c0 2.761 7.163 5 16 5s16-2.239 16-5v-6c0 2.761-7.163 5-16 5z\"></path>\n",
       "<path d=\"M16 26c-8.837 0-16-2.239-16-5v6c0 2.761 7.163 5 16 5s16-2.239 16-5v-6c0 2.761-7.163 5-16 5z\"></path>\n",
       "</symbol>\n",
       "<symbol id=\"icon-file-text2\" viewBox=\"0 0 32 32\">\n",
       "<path d=\"M28.681 7.159c-0.694-0.947-1.662-2.053-2.724-3.116s-2.169-2.030-3.116-2.724c-1.612-1.182-2.393-1.319-2.841-1.319h-15.5c-1.378 0-2.5 1.121-2.5 2.5v27c0 1.378 1.122 2.5 2.5 2.5h23c1.378 0 2.5-1.122 2.5-2.5v-19.5c0-0.448-0.137-1.23-1.319-2.841zM24.543 5.457c0.959 0.959 1.712 1.825 2.268 2.543h-4.811v-4.811c0.718 0.556 1.584 1.309 2.543 2.268zM28 29.5c0 0.271-0.229 0.5-0.5 0.5h-23c-0.271 0-0.5-0.229-0.5-0.5v-27c0-0.271 0.229-0.5 0.5-0.5 0 0 15.499-0 15.5 0v7c0 0.552 0.448 1 1 1h7v19.5z\"></path>\n",
       "<path d=\"M23 26h-14c-0.552 0-1-0.448-1-1s0.448-1 1-1h14c0.552 0 1 0.448 1 1s-0.448 1-1 1z\"></path>\n",
       "<path d=\"M23 22h-14c-0.552 0-1-0.448-1-1s0.448-1 1-1h14c0.552 0 1 0.448 1 1s-0.448 1-1 1z\"></path>\n",
       "<path d=\"M23 18h-14c-0.552 0-1-0.448-1-1s0.448-1 1-1h14c0.552 0 1 0.448 1 1s-0.448 1-1 1z\"></path>\n",
       "</symbol>\n",
       "</defs>\n",
       "</svg>\n",
       "<style>/* CSS stylesheet for displaying xarray objects in jupyterlab.\n",
       " *\n",
       " */\n",
       "\n",
       ":root {\n",
       "  --xr-font-color0: var(--jp-content-font-color0, rgba(0, 0, 0, 1));\n",
       "  --xr-font-color2: var(--jp-content-font-color2, rgba(0, 0, 0, 0.54));\n",
       "  --xr-font-color3: var(--jp-content-font-color3, rgba(0, 0, 0, 0.38));\n",
       "  --xr-border-color: var(--jp-border-color2, #e0e0e0);\n",
       "  --xr-disabled-color: var(--jp-layout-color3, #bdbdbd);\n",
       "  --xr-background-color: var(--jp-layout-color0, white);\n",
       "  --xr-background-color-row-even: var(--jp-layout-color1, white);\n",
       "  --xr-background-color-row-odd: var(--jp-layout-color2, #eeeeee);\n",
       "}\n",
       "\n",
       "html[theme=\"dark\"],\n",
       "html[data-theme=\"dark\"],\n",
       "body[data-theme=\"dark\"],\n",
       "body.vscode-dark {\n",
       "  --xr-font-color0: rgba(255, 255, 255, 1);\n",
       "  --xr-font-color2: rgba(255, 255, 255, 0.54);\n",
       "  --xr-font-color3: rgba(255, 255, 255, 0.38);\n",
       "  --xr-border-color: #1f1f1f;\n",
       "  --xr-disabled-color: #515151;\n",
       "  --xr-background-color: #111111;\n",
       "  --xr-background-color-row-even: #111111;\n",
       "  --xr-background-color-row-odd: #313131;\n",
       "}\n",
       "\n",
       ".xr-wrap {\n",
       "  display: block !important;\n",
       "  min-width: 300px;\n",
       "  max-width: 700px;\n",
       "}\n",
       "\n",
       ".xr-text-repr-fallback {\n",
       "  /* fallback to plain text repr when CSS is not injected (untrusted notebook) */\n",
       "  display: none;\n",
       "}\n",
       "\n",
       ".xr-header {\n",
       "  padding-top: 6px;\n",
       "  padding-bottom: 6px;\n",
       "  margin-bottom: 4px;\n",
       "  border-bottom: solid 1px var(--xr-border-color);\n",
       "}\n",
       "\n",
       ".xr-header > div,\n",
       ".xr-header > ul {\n",
       "  display: inline;\n",
       "  margin-top: 0;\n",
       "  margin-bottom: 0;\n",
       "}\n",
       "\n",
       ".xr-obj-type,\n",
       ".xr-array-name {\n",
       "  margin-left: 2px;\n",
       "  margin-right: 10px;\n",
       "}\n",
       "\n",
       ".xr-obj-type {\n",
       "  color: var(--xr-font-color2);\n",
       "}\n",
       "\n",
       ".xr-sections {\n",
       "  padding-left: 0 !important;\n",
       "  display: grid;\n",
       "  grid-template-columns: 150px auto auto 1fr 0 20px 0 20px;\n",
       "}\n",
       "\n",
       ".xr-section-item {\n",
       "  display: contents;\n",
       "}\n",
       "\n",
       ".xr-section-item input {\n",
       "  display: inline-block;\n",
       "  opacity: 0;\n",
       "  height: 0;\n",
       "}\n",
       "\n",
       ".xr-section-item input + label {\n",
       "  color: var(--xr-disabled-color);\n",
       "}\n",
       "\n",
       ".xr-section-item input:enabled + label {\n",
       "  cursor: pointer;\n",
       "  color: var(--xr-font-color2);\n",
       "}\n",
       "\n",
       ".xr-section-item input:focus + label {\n",
       "  border: 2px solid var(--xr-font-color0);\n",
       "}\n",
       "\n",
       ".xr-section-item input:enabled + label:hover {\n",
       "  color: var(--xr-font-color0);\n",
       "}\n",
       "\n",
       ".xr-section-summary {\n",
       "  grid-column: 1;\n",
       "  color: var(--xr-font-color2);\n",
       "  font-weight: 500;\n",
       "}\n",
       "\n",
       ".xr-section-summary > span {\n",
       "  display: inline-block;\n",
       "  padding-left: 0.5em;\n",
       "}\n",
       "\n",
       ".xr-section-summary-in:disabled + label {\n",
       "  color: var(--xr-font-color2);\n",
       "}\n",
       "\n",
       ".xr-section-summary-in + label:before {\n",
       "  display: inline-block;\n",
       "  content: \"►\";\n",
       "  font-size: 11px;\n",
       "  width: 15px;\n",
       "  text-align: center;\n",
       "}\n",
       "\n",
       ".xr-section-summary-in:disabled + label:before {\n",
       "  color: var(--xr-disabled-color);\n",
       "}\n",
       "\n",
       ".xr-section-summary-in:checked + label:before {\n",
       "  content: \"▼\";\n",
       "}\n",
       "\n",
       ".xr-section-summary-in:checked + label > span {\n",
       "  display: none;\n",
       "}\n",
       "\n",
       ".xr-section-summary,\n",
       ".xr-section-inline-details {\n",
       "  padding-top: 4px;\n",
       "  padding-bottom: 4px;\n",
       "}\n",
       "\n",
       ".xr-section-inline-details {\n",
       "  grid-column: 2 / -1;\n",
       "}\n",
       "\n",
       ".xr-section-details {\n",
       "  display: none;\n",
       "  grid-column: 1 / -1;\n",
       "  margin-bottom: 5px;\n",
       "}\n",
       "\n",
       ".xr-section-summary-in:checked ~ .xr-section-details {\n",
       "  display: contents;\n",
       "}\n",
       "\n",
       ".xr-array-wrap {\n",
       "  grid-column: 1 / -1;\n",
       "  display: grid;\n",
       "  grid-template-columns: 20px auto;\n",
       "}\n",
       "\n",
       ".xr-array-wrap > label {\n",
       "  grid-column: 1;\n",
       "  vertical-align: top;\n",
       "}\n",
       "\n",
       ".xr-preview {\n",
       "  color: var(--xr-font-color3);\n",
       "}\n",
       "\n",
       ".xr-array-preview,\n",
       ".xr-array-data {\n",
       "  padding: 0 5px !important;\n",
       "  grid-column: 2;\n",
       "}\n",
       "\n",
       ".xr-array-data,\n",
       ".xr-array-in:checked ~ .xr-array-preview {\n",
       "  display: none;\n",
       "}\n",
       "\n",
       ".xr-array-in:checked ~ .xr-array-data,\n",
       ".xr-array-preview {\n",
       "  display: inline-block;\n",
       "}\n",
       "\n",
       ".xr-dim-list {\n",
       "  display: inline-block !important;\n",
       "  list-style: none;\n",
       "  padding: 0 !important;\n",
       "  margin: 0;\n",
       "}\n",
       "\n",
       ".xr-dim-list li {\n",
       "  display: inline-block;\n",
       "  padding: 0;\n",
       "  margin: 0;\n",
       "}\n",
       "\n",
       ".xr-dim-list:before {\n",
       "  content: \"(\";\n",
       "}\n",
       "\n",
       ".xr-dim-list:after {\n",
       "  content: \")\";\n",
       "}\n",
       "\n",
       ".xr-dim-list li:not(:last-child):after {\n",
       "  content: \",\";\n",
       "  padding-right: 5px;\n",
       "}\n",
       "\n",
       ".xr-has-index {\n",
       "  font-weight: bold;\n",
       "}\n",
       "\n",
       ".xr-var-list,\n",
       ".xr-var-item {\n",
       "  display: contents;\n",
       "}\n",
       "\n",
       ".xr-var-item > div,\n",
       ".xr-var-item label,\n",
       ".xr-var-item > .xr-var-name span {\n",
       "  background-color: var(--xr-background-color-row-even);\n",
       "  margin-bottom: 0;\n",
       "}\n",
       "\n",
       ".xr-var-item > .xr-var-name:hover span {\n",
       "  padding-right: 5px;\n",
       "}\n",
       "\n",
       ".xr-var-list > li:nth-child(odd) > div,\n",
       ".xr-var-list > li:nth-child(odd) > label,\n",
       ".xr-var-list > li:nth-child(odd) > .xr-var-name span {\n",
       "  background-color: var(--xr-background-color-row-odd);\n",
       "}\n",
       "\n",
       ".xr-var-name {\n",
       "  grid-column: 1;\n",
       "}\n",
       "\n",
       ".xr-var-dims {\n",
       "  grid-column: 2;\n",
       "}\n",
       "\n",
       ".xr-var-dtype {\n",
       "  grid-column: 3;\n",
       "  text-align: right;\n",
       "  color: var(--xr-font-color2);\n",
       "}\n",
       "\n",
       ".xr-var-preview {\n",
       "  grid-column: 4;\n",
       "}\n",
       "\n",
       ".xr-index-preview {\n",
       "  grid-column: 2 / 5;\n",
       "  color: var(--xr-font-color2);\n",
       "}\n",
       "\n",
       ".xr-var-name,\n",
       ".xr-var-dims,\n",
       ".xr-var-dtype,\n",
       ".xr-preview,\n",
       ".xr-attrs dt {\n",
       "  white-space: nowrap;\n",
       "  overflow: hidden;\n",
       "  text-overflow: ellipsis;\n",
       "  padding-right: 10px;\n",
       "}\n",
       "\n",
       ".xr-var-name:hover,\n",
       ".xr-var-dims:hover,\n",
       ".xr-var-dtype:hover,\n",
       ".xr-attrs dt:hover {\n",
       "  overflow: visible;\n",
       "  width: auto;\n",
       "  z-index: 1;\n",
       "}\n",
       "\n",
       ".xr-var-attrs,\n",
       ".xr-var-data,\n",
       ".xr-index-data {\n",
       "  display: none;\n",
       "  background-color: var(--xr-background-color) !important;\n",
       "  padding-bottom: 5px !important;\n",
       "}\n",
       "\n",
       ".xr-var-attrs-in:checked ~ .xr-var-attrs,\n",
       ".xr-var-data-in:checked ~ .xr-var-data,\n",
       ".xr-index-data-in:checked ~ .xr-index-data {\n",
       "  display: block;\n",
       "}\n",
       "\n",
       ".xr-var-data > table {\n",
       "  float: right;\n",
       "}\n",
       "\n",
       ".xr-var-name span,\n",
       ".xr-var-data,\n",
       ".xr-index-name div,\n",
       ".xr-index-data,\n",
       ".xr-attrs {\n",
       "  padding-left: 25px !important;\n",
       "}\n",
       "\n",
       ".xr-attrs,\n",
       ".xr-var-attrs,\n",
       ".xr-var-data,\n",
       ".xr-index-data {\n",
       "  grid-column: 1 / -1;\n",
       "}\n",
       "\n",
       "dl.xr-attrs {\n",
       "  padding: 0;\n",
       "  margin: 0;\n",
       "  display: grid;\n",
       "  grid-template-columns: 125px auto;\n",
       "}\n",
       "\n",
       ".xr-attrs dt,\n",
       ".xr-attrs dd {\n",
       "  padding: 0;\n",
       "  margin: 0;\n",
       "  float: left;\n",
       "  padding-right: 10px;\n",
       "  width: auto;\n",
       "}\n",
       "\n",
       ".xr-attrs dt {\n",
       "  font-weight: normal;\n",
       "  grid-column: 1;\n",
       "}\n",
       "\n",
       ".xr-attrs dt:hover span {\n",
       "  display: inline-block;\n",
       "  background: var(--xr-background-color);\n",
       "  padding-right: 10px;\n",
       "}\n",
       "\n",
       ".xr-attrs dd {\n",
       "  grid-column: 2;\n",
       "  white-space: pre-wrap;\n",
       "  word-break: break-all;\n",
       "}\n",
       "\n",
       ".xr-icon-database,\n",
       ".xr-icon-file-text2,\n",
       ".xr-no-icon {\n",
       "  display: inline-block;\n",
       "  vertical-align: middle;\n",
       "  width: 1em;\n",
       "  height: 1.5em !important;\n",
       "  stroke-width: 0;\n",
       "  stroke: currentColor;\n",
       "  fill: currentColor;\n",
       "}\n",
       "</style><pre class='xr-text-repr-fallback'>&lt;xarray.Dataset&gt; Size: 2MB\n",
       "Dimensions:    (latitude: 5, longitude: 5, time: 9496, depth: 1)\n",
       "Coordinates:\n",
       "  * latitude   (latitude) float64 40B 13.0 22.75 31.6 50.01 74.62\n",
       "  * longitude  (longitude) float64 40B -158.0 -150.0 -64.2 26.97 150.0\n",
       "  * time       (time) datetime64[ns] 76kB 1998-01-01 1998-01-02 ... 2023-12-31\n",
       "  * depth      (depth) int64 8B 0\n",
       "Data variables:\n",
       "    T          (time, latitude, longitude, depth) float32 950kB nan nan ... nan\n",
       "    npp        (time, latitude, longitude) float32 950kB nan nan ... nan\n",
       "Attributes:\n",
       "    Conventions:       CF-1.11\n",
       "    history:           Created on 2024-09-6\n",
       "    institution:       CLS\n",
       "    references:        http://www.cls.fr; http://www.seapodym.eu\n",
       "    source:            SEAPODYM-LMTL 3.0.0\n",
       "    subset:datasetId:  cmems_mod_glo_bgc_my_0.083deg-lmtl-Fphy_PT1D-i_202411\n",
       "    subset:date:       2025-03-14T12:07:51.550Z\n",
       "    subset:productId:  GLOBAL_MULTIYEAR_BGC_001_033\n",
       "    subset:source:     ARCO data downloaded from the Marine Data Store using ...\n",
       "    title:             Physical forcings of global ocean low and mid trophic ...</pre><div class='xr-wrap' style='display:none'><div class='xr-header'><div class='xr-obj-type'>xarray.Dataset</div></div><ul class='xr-sections'><li class='xr-section-item'><input id='section-ca3f9868-d131-4879-a624-b76ff8c65b21' class='xr-section-summary-in' type='checkbox' disabled ><label for='section-ca3f9868-d131-4879-a624-b76ff8c65b21' class='xr-section-summary'  title='Expand/collapse section'>Dimensions:</label><div class='xr-section-inline-details'><ul class='xr-dim-list'><li><span class='xr-has-index'>latitude</span>: 5</li><li><span class='xr-has-index'>longitude</span>: 5</li><li><span class='xr-has-index'>time</span>: 9496</li><li><span class='xr-has-index'>depth</span>: 1</li></ul></div><div class='xr-section-details'></div></li><li class='xr-section-item'><input id='section-fe6d733d-cedf-41d6-8e86-ab4ff3252612' class='xr-section-summary-in' type='checkbox'  checked><label for='section-fe6d733d-cedf-41d6-8e86-ab4ff3252612' class='xr-section-summary' >Coordinates: <span>(4)</span></label><div class='xr-section-inline-details'></div><div class='xr-section-details'><ul class='xr-var-list'><li class='xr-var-item'><div class='xr-var-name'><span class='xr-has-index'>latitude</span></div><div class='xr-var-dims'>(latitude)</div><div class='xr-var-dtype'>float64</div><div class='xr-var-preview xr-preview'>13.0 22.75 31.6 50.01 74.62</div><input id='attrs-df776cd7-8b75-4a15-9235-1125c2647122' class='xr-var-attrs-in' type='checkbox' ><label for='attrs-df776cd7-8b75-4a15-9235-1125c2647122' title='Show/Hide attributes'><svg class='icon xr-icon-file-text2'><use xlink:href='#icon-file-text2'></use></svg></label><input id='data-0b7a84a4-55c4-4771-b584-97eb186626a5' class='xr-var-data-in' type='checkbox'><label for='data-0b7a84a4-55c4-4771-b584-97eb186626a5' title='Show/Hide data repr'><svg class='icon xr-icon-database'><use xlink:href='#icon-database'></use></svg></label><div class='xr-var-attrs'><dl class='xr-attrs'><dt><span>axis :</span></dt><dd>Y</dd></dl></div><div class='xr-var-data'><pre>array([13.001, 22.752, 31.604, 50.006, 74.62 ])</pre></div></li><li class='xr-var-item'><div class='xr-var-name'><span class='xr-has-index'>longitude</span></div><div class='xr-var-dims'>(longitude)</div><div class='xr-var-dtype'>float64</div><div class='xr-var-preview xr-preview'>-158.0 -150.0 -64.2 26.97 150.0</div><input id='attrs-b786a4fc-1694-4de0-ac5f-ca18042eabe8' class='xr-var-attrs-in' type='checkbox' ><label for='attrs-b786a4fc-1694-4de0-ac5f-ca18042eabe8' title='Show/Hide attributes'><svg class='icon xr-icon-file-text2'><use xlink:href='#icon-file-text2'></use></svg></label><input id='data-f34c9e67-69eb-49ca-b351-b9ed909d3cb6' class='xr-var-data-in' type='checkbox'><label for='data-f34c9e67-69eb-49ca-b351-b9ed909d3cb6' title='Show/Hide data repr'><svg class='icon xr-icon-database'><use xlink:href='#icon-database'></use></svg></label><div class='xr-var-attrs'><dl class='xr-attrs'><dt><span>axis :</span></dt><dd>X</dd></dl></div><div class='xr-var-data'><pre>array([-158.004, -149.996,  -64.2  ,   26.969,  149.995])</pre></div></li><li class='xr-var-item'><div class='xr-var-name'><span class='xr-has-index'>time</span></div><div class='xr-var-dims'>(time)</div><div class='xr-var-dtype'>datetime64[ns]</div><div class='xr-var-preview xr-preview'>1998-01-01 ... 2023-12-31</div><input id='attrs-ef422961-f458-4547-b67b-079400f78694' class='xr-var-attrs-in' type='checkbox' ><label for='attrs-ef422961-f458-4547-b67b-079400f78694' title='Show/Hide attributes'><svg class='icon xr-icon-file-text2'><use xlink:href='#icon-file-text2'></use></svg></label><input id='data-81381316-d9d3-4d37-976c-9d87d51bb7f3' class='xr-var-data-in' type='checkbox'><label for='data-81381316-d9d3-4d37-976c-9d87d51bb7f3' title='Show/Hide data repr'><svg class='icon xr-icon-database'><use xlink:href='#icon-database'></use></svg></label><div class='xr-var-attrs'><dl class='xr-attrs'><dt><span>axis :</span></dt><dd>T</dd><dt><span>long_name :</span></dt><dd>Time</dd><dt><span>standard_name :</span></dt><dd>time</dd></dl></div><div class='xr-var-data'><pre>array([&#x27;1998-01-01T00:00:00.000000000&#x27;, &#x27;1998-01-02T00:00:00.000000000&#x27;,\n",
       "       &#x27;1998-01-03T00:00:00.000000000&#x27;, ..., &#x27;2023-12-29T00:00:00.000000000&#x27;,\n",
       "       &#x27;2023-12-30T00:00:00.000000000&#x27;, &#x27;2023-12-31T00:00:00.000000000&#x27;],\n",
       "      dtype=&#x27;datetime64[ns]&#x27;)</pre></div></li><li class='xr-var-item'><div class='xr-var-name'><span class='xr-has-index'>depth</span></div><div class='xr-var-dims'>(depth)</div><div class='xr-var-dtype'>int64</div><div class='xr-var-preview xr-preview'>0</div><input id='attrs-bb0118f2-f101-4d2a-91ca-95ddd46409b2' class='xr-var-attrs-in' type='checkbox' ><label for='attrs-bb0118f2-f101-4d2a-91ca-95ddd46409b2' title='Show/Hide attributes'><svg class='icon xr-icon-file-text2'><use xlink:href='#icon-file-text2'></use></svg></label><input id='data-5ad59a14-5276-4170-be06-1e4d0a826a00' class='xr-var-data-in' type='checkbox'><label for='data-5ad59a14-5276-4170-be06-1e4d0a826a00' title='Show/Hide data repr'><svg class='icon xr-icon-database'><use xlink:href='#icon-database'></use></svg></label><div class='xr-var-attrs'><dl class='xr-attrs'><dt><span>axis :</span></dt><dd>Z</dd></dl></div><div class='xr-var-data'><pre>array([0])</pre></div></li></ul></div></li><li class='xr-section-item'><input id='section-32095284-e5ac-4d64-8c45-f7bedd0cd52e' class='xr-section-summary-in' type='checkbox'  checked><label for='section-32095284-e5ac-4d64-8c45-f7bedd0cd52e' class='xr-section-summary' >Data variables: <span>(2)</span></label><div class='xr-section-inline-details'></div><div class='xr-section-details'><ul class='xr-var-list'><li class='xr-var-item'><div class='xr-var-name'><span>T</span></div><div class='xr-var-dims'>(time, latitude, longitude, depth)</div><div class='xr-var-dtype'>float32</div><div class='xr-var-preview xr-preview'>nan nan nan nan ... nan 3.879 nan</div><input id='attrs-03b43d80-c1cd-4225-836d-fd77e8c4316d' class='xr-var-attrs-in' type='checkbox' ><label for='attrs-03b43d80-c1cd-4225-836d-fd77e8c4316d' title='Show/Hide attributes'><svg class='icon xr-icon-file-text2'><use xlink:href='#icon-file-text2'></use></svg></label><input id='data-7d68dce9-af6b-4be8-a0e8-407e7efd7b62' class='xr-var-data-in' type='checkbox'><label for='data-7d68dce9-af6b-4be8-a0e8-407e7efd7b62' title='Show/Hide data repr'><svg class='icon xr-icon-database'><use xlink:href='#icon-database'></use></svg></label><div class='xr-var-attrs'><dl class='xr-attrs'><dt><span>long_name :</span></dt><dd>Sea water potential temperature vertical mean over pelagic layer</dd><dt><span>standard_name :</span></dt><dd>sea_water_potential_temperature_vertical_mean_over_pelagic_layer</dd><dt><span>units :</span></dt><dd>degree_Celsius</dd></dl></div><div class='xr-var-data'><pre>array([[[[       nan],\n",
       "         [       nan],\n",
       "         [       nan],\n",
       "         [       nan],\n",
       "         [25.786392 ]],\n",
       "\n",
       "        [[23.53703  ],\n",
       "         [       nan],\n",
       "         [       nan],\n",
       "         [       nan],\n",
       "         [       nan]],\n",
       "\n",
       "        [[       nan],\n",
       "         [       nan],\n",
       "         [20.52142  ],\n",
       "         [       nan],\n",
       "         [       nan]],\n",
       "\n",
       "        [[       nan],\n",
       "         [ 5.663591 ],\n",
       "...\n",
       "         [       nan],\n",
       "         [       nan]],\n",
       "\n",
       "        [[       nan],\n",
       "         [       nan],\n",
       "         [20.915894 ],\n",
       "         [       nan],\n",
       "         [       nan]],\n",
       "\n",
       "        [[       nan],\n",
       "         [ 7.263062 ],\n",
       "         [       nan],\n",
       "         [       nan],\n",
       "         [       nan]],\n",
       "\n",
       "        [[       nan],\n",
       "         [       nan],\n",
       "         [       nan],\n",
       "         [ 3.879085 ],\n",
       "         [       nan]]]], dtype=float32)</pre></div></li><li class='xr-var-item'><div class='xr-var-name'><span>npp</span></div><div class='xr-var-dims'>(time, latitude, longitude)</div><div class='xr-var-dtype'>float32</div><div class='xr-var-preview xr-preview'>nan nan nan ... nan 3.654e-06 nan</div><input id='attrs-d90f0860-cc08-4660-a10c-77ff186c04eb' class='xr-var-attrs-in' type='checkbox' ><label for='attrs-d90f0860-cc08-4660-a10c-77ff186c04eb' title='Show/Hide attributes'><svg class='icon xr-icon-file-text2'><use xlink:href='#icon-file-text2'></use></svg></label><input id='data-aaa5ea84-bdf8-4b73-a3a3-75bc2decb59e' class='xr-var-data-in' type='checkbox'><label for='data-aaa5ea84-bdf8-4b73-a3a3-75bc2decb59e' title='Show/Hide data repr'><svg class='icon xr-icon-database'><use xlink:href='#icon-database'></use></svg></label><div class='xr-var-attrs'><dl class='xr-attrs'><dt><span>long_name :</span></dt><dd>Net primary productivity of biomass expressed as carbon in sea water</dd><dt><span>standard_name :</span></dt><dd>net_primary_productivity_of_biomass_expressed_as_carbon_in_sea_water</dd><dt><span>units :</span></dt><dd>mg m-2 day-1</dd></dl></div><div class='xr-var-data'><pre>array([[[          nan,           nan,           nan,           nan,\n",
       "         1.9181319e+02],\n",
       "        [3.1609662e+02,           nan,           nan,           nan,\n",
       "                   nan],\n",
       "        [          nan,           nan, 4.5307184e+02,           nan,\n",
       "                   nan],\n",
       "        [          nan, 1.3266479e+02,           nan,           nan,\n",
       "                   nan],\n",
       "        [          nan,           nan,           nan, 3.6540341e-06,\n",
       "                   nan]],\n",
       "\n",
       "       [[          nan,           nan,           nan,           nan,\n",
       "         1.8295290e+02],\n",
       "        [2.9191043e+02,           nan,           nan,           nan,\n",
       "                   nan],\n",
       "        [          nan,           nan, 4.3606967e+02,           nan,\n",
       "                   nan],\n",
       "        [          nan, 1.4272241e+02,           nan,           nan,\n",
       "                   nan],\n",
       "        [          nan,           nan,           nan, 3.6540341e-06,\n",
       "...\n",
       "         9.0039650e+01],\n",
       "        [2.6293494e+02,           nan,           nan,           nan,\n",
       "                   nan],\n",
       "        [          nan,           nan, 3.5896124e+02,           nan,\n",
       "                   nan],\n",
       "        [          nan, 1.4942751e+02,           nan,           nan,\n",
       "                   nan],\n",
       "        [          nan,           nan,           nan, 3.6540341e-06,\n",
       "                   nan]],\n",
       "\n",
       "       [[          nan,           nan,           nan,           nan,\n",
       "         1.0105514e+02],\n",
       "        [2.6197705e+02,           nan,           nan,           nan,\n",
       "                   nan],\n",
       "        [          nan,           nan, 3.0795474e+02,           nan,\n",
       "                   nan],\n",
       "        [          nan, 1.2883333e+02,           nan,           nan,\n",
       "                   nan],\n",
       "        [          nan,           nan,           nan, 3.6540341e-06,\n",
       "                   nan]]], dtype=float32)</pre></div></li></ul></div></li><li class='xr-section-item'><input id='section-0451c80b-36b3-4342-9994-087233fed1af' class='xr-section-summary-in' type='checkbox'  ><label for='section-0451c80b-36b3-4342-9994-087233fed1af' class='xr-section-summary' >Indexes: <span>(4)</span></label><div class='xr-section-inline-details'></div><div class='xr-section-details'><ul class='xr-var-list'><li class='xr-var-item'><div class='xr-index-name'><div>latitude</div></div><div class='xr-index-preview'>PandasIndex</div><input type='checkbox' disabled/><label></label><input id='index-cbd7e168-e761-4334-80f1-fa4bfa6520f8' class='xr-index-data-in' type='checkbox'/><label for='index-cbd7e168-e761-4334-80f1-fa4bfa6520f8' title='Show/Hide index repr'><svg class='icon xr-icon-database'><use xlink:href='#icon-database'></use></svg></label><div class='xr-index-data'><pre>PandasIndex(Index([13.001, 22.752, 31.604, 50.006, 74.62], dtype=&#x27;float64&#x27;, name=&#x27;latitude&#x27;))</pre></div></li><li class='xr-var-item'><div class='xr-index-name'><div>longitude</div></div><div class='xr-index-preview'>PandasIndex</div><input type='checkbox' disabled/><label></label><input id='index-9d771204-6d3b-4ead-89cc-49bdd91fc6a3' class='xr-index-data-in' type='checkbox'/><label for='index-9d771204-6d3b-4ead-89cc-49bdd91fc6a3' title='Show/Hide index repr'><svg class='icon xr-icon-database'><use xlink:href='#icon-database'></use></svg></label><div class='xr-index-data'><pre>PandasIndex(Index([-158.004, -149.996, -64.2, 26.969, 149.995], dtype=&#x27;float64&#x27;, name=&#x27;longitude&#x27;))</pre></div></li><li class='xr-var-item'><div class='xr-index-name'><div>time</div></div><div class='xr-index-preview'>PandasIndex</div><input type='checkbox' disabled/><label></label><input id='index-8db897b5-9e21-414d-bda0-2cdb61299727' class='xr-index-data-in' type='checkbox'/><label for='index-8db897b5-9e21-414d-bda0-2cdb61299727' title='Show/Hide index repr'><svg class='icon xr-icon-database'><use xlink:href='#icon-database'></use></svg></label><div class='xr-index-data'><pre>PandasIndex(DatetimeIndex([&#x27;1998-01-01&#x27;, &#x27;1998-01-02&#x27;, &#x27;1998-01-03&#x27;, &#x27;1998-01-04&#x27;,\n",
       "               &#x27;1998-01-05&#x27;, &#x27;1998-01-06&#x27;, &#x27;1998-01-07&#x27;, &#x27;1998-01-08&#x27;,\n",
       "               &#x27;1998-01-09&#x27;, &#x27;1998-01-10&#x27;,\n",
       "               ...\n",
       "               &#x27;2023-12-22&#x27;, &#x27;2023-12-23&#x27;, &#x27;2023-12-24&#x27;, &#x27;2023-12-25&#x27;,\n",
       "               &#x27;2023-12-26&#x27;, &#x27;2023-12-27&#x27;, &#x27;2023-12-28&#x27;, &#x27;2023-12-29&#x27;,\n",
       "               &#x27;2023-12-30&#x27;, &#x27;2023-12-31&#x27;],\n",
       "              dtype=&#x27;datetime64[ns]&#x27;, name=&#x27;time&#x27;, length=9496, freq=None))</pre></div></li><li class='xr-var-item'><div class='xr-index-name'><div>depth</div></div><div class='xr-index-preview'>PandasIndex</div><input type='checkbox' disabled/><label></label><input id='index-b9eb4d51-f0d4-49b4-ba39-0b9d93d03911' class='xr-index-data-in' type='checkbox'/><label for='index-b9eb4d51-f0d4-49b4-ba39-0b9d93d03911' title='Show/Hide index repr'><svg class='icon xr-icon-database'><use xlink:href='#icon-database'></use></svg></label><div class='xr-index-data'><pre>PandasIndex(Index([0], dtype=&#x27;int64&#x27;, name=&#x27;depth&#x27;))</pre></div></li></ul></div></li><li class='xr-section-item'><input id='section-b409571b-66c3-44e4-8dce-54c250f0485e' class='xr-section-summary-in' type='checkbox'  ><label for='section-b409571b-66c3-44e4-8dce-54c250f0485e' class='xr-section-summary' >Attributes: <span>(10)</span></label><div class='xr-section-inline-details'></div><div class='xr-section-details'><dl class='xr-attrs'><dt><span>Conventions :</span></dt><dd>CF-1.11</dd><dt><span>history :</span></dt><dd>Created on 2024-09-6</dd><dt><span>institution :</span></dt><dd>CLS</dd><dt><span>references :</span></dt><dd>http://www.cls.fr; http://www.seapodym.eu</dd><dt><span>source :</span></dt><dd>SEAPODYM-LMTL 3.0.0</dd><dt><span>subset:datasetId :</span></dt><dd>cmems_mod_glo_bgc_my_0.083deg-lmtl-Fphy_PT1D-i_202411</dd><dt><span>subset:date :</span></dt><dd>2025-03-14T12:07:51.550Z</dd><dt><span>subset:productId :</span></dt><dd>GLOBAL_MULTIYEAR_BGC_001_033</dd><dt><span>subset:source :</span></dt><dd>ARCO data downloaded from the Marine Data Store using the MyOcean Data Portal</dd><dt><span>title :</span></dt><dd>Physical forcings of global ocean low and mid trophic levels biomass content hindcast</dd></dl></div></li></ul></div></div>"
      ],
      "text/plain": [
       "<xarray.Dataset> Size: 2MB\n",
       "Dimensions:    (latitude: 5, longitude: 5, time: 9496, depth: 1)\n",
       "Coordinates:\n",
       "  * latitude   (latitude) float64 40B 13.0 22.75 31.6 50.01 74.62\n",
       "  * longitude  (longitude) float64 40B -158.0 -150.0 -64.2 26.97 150.0\n",
       "  * time       (time) datetime64[ns] 76kB 1998-01-01 1998-01-02 ... 2023-12-31\n",
       "  * depth      (depth) int64 8B 0\n",
       "Data variables:\n",
       "    T          (time, latitude, longitude, depth) float32 950kB nan nan ... nan\n",
       "    npp        (time, latitude, longitude) float32 950kB nan nan ... nan\n",
       "Attributes:\n",
       "    Conventions:       CF-1.11\n",
       "    history:           Created on 2024-09-6\n",
       "    institution:       CLS\n",
       "    references:        http://www.cls.fr; http://www.seapodym.eu\n",
       "    source:            SEAPODYM-LMTL 3.0.0\n",
       "    subset:datasetId:  cmems_mod_glo_bgc_my_0.083deg-lmtl-Fphy_PT1D-i_202411\n",
       "    subset:date:       2025-03-14T12:07:51.550Z\n",
       "    subset:productId:  GLOBAL_MULTIYEAR_BGC_001_033\n",
       "    subset:source:     ARCO data downloaded from the Marine Data Store using ...\n",
       "    title:             Physical forcings of global ocean low and mid trophic ..."
      ]
     },
     "execution_count": 6,
     "metadata": {},
     "output_type": "execute_result"
    }
   ],
   "source": [
    "export_file[\"T\"].attrs[\"units\"] = \"degree_Celsius\"\n",
    "export_file.latitude.attrs = {\"axis\": \"Y\"}\n",
    "export_file.longitude.attrs = {\"axis\": \"X\"}\n",
    "export_file[\"T\"] = export_file[\"T\"].expand_dims({\"depth\": [0]})\n",
    "export_file[\"depth\"].attrs[\"axis\"] = \"Z\"\n",
    "export_file = export_file.transpose(\"time\", \"latitude\", \"longitude\", \"depth\")\n",
    "export_file"
   ]
  },
  {
   "cell_type": "code",
   "execution_count": 7,
   "metadata": {},
   "outputs": [
    {
     "data": {
      "text/plain": [
       "<xarray.backends.zarr.ZarrStore at 0x104edd9c0>"
      ]
     },
     "execution_count": 7,
     "metadata": {},
     "output_type": "execute_result"
    }
   ],
   "source": [
    "export_file.to_zarr(\"../1_data_processing/1_3_Sensibility/all_stations.zarr\", mode=\"w\")"
   ]
  },
  {
   "cell_type": "markdown",
   "metadata": {},
   "source": [
    "Export stations locations\n"
   ]
  },
  {
   "cell_type": "code",
   "execution_count": 8,
   "metadata": {},
   "outputs": [],
   "source": [
    "table = table[[\"name\", \"latitude\", \"longitude\"]]\n",
    "table.to_json(\"../1_data_processing/1_3_Sensibility/stations_locations.json\")"
   ]
  }
 ],
 "metadata": {
  "kernelspec": {
   "display_name": ".venv",
   "language": "python",
   "name": "python3"
  },
  "language_info": {
   "codemirror_mode": {
    "name": "ipython",
    "version": 3
   },
   "file_extension": ".py",
   "mimetype": "text/x-python",
   "name": "python",
   "nbconvert_exporter": "python",
   "pygments_lexer": "ipython3",
   "version": "3.12.9"
  }
 },
 "nbformat": 4,
 "nbformat_minor": 2
}
