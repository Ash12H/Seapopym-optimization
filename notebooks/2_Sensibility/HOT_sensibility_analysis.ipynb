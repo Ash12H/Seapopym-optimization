{
 "cells": [
  {
   "cell_type": "code",
   "execution_count": 1,
   "metadata": {},
   "outputs": [],
   "source": [
    "import dask\n",
    "import numpy as np\n",
    "import plotly.express as px\n",
    "import xarray as xr\n",
    "from dask.distributed import Client\n",
    "from plotly.subplots import make_subplots\n",
    "from SALib import ProblemSpec\n",
    "from seapopym.configuration.no_transport.parameter import ForcingParameters, ForcingUnit, KernelParameters\n",
    "\n",
    "from seapopym_optimization import wrapper"
   ]
  },
  {
   "cell_type": "markdown",
   "metadata": {},
   "source": [
    "User can modify this :\n"
   ]
  },
  {
   "cell_type": "code",
   "execution_count": 2,
   "metadata": {},
   "outputs": [],
   "source": [
    "STATION = \"Hot\"\n",
    "SAMPLE_NUMBER = 1"
   ]
  },
  {
   "cell_type": "code",
   "execution_count": 3,
   "metadata": {},
   "outputs": [
    {
     "data": {
      "text/html": [
       "<div>\n",
       "    <div style=\"width: 24px; height: 24px; background-color: #e1e1e1; border: 3px solid #9D9D9D; border-radius: 5px; position: absolute;\"> </div>\n",
       "    <div style=\"margin-left: 48px;\">\n",
       "        <h3 style=\"margin-bottom: 0px;\">Client</h3>\n",
       "        <p style=\"color: #9D9D9D; margin-bottom: 0px;\">Client-72594810-fffe-11ef-a476-36240d3e2cc2</p>\n",
       "        <table style=\"width: 100%; text-align: left;\">\n",
       "\n",
       "        <tr>\n",
       "        \n",
       "            <td style=\"text-align: left;\"><strong>Connection method:</strong> Cluster object</td>\n",
       "            <td style=\"text-align: left;\"><strong>Cluster type:</strong> distributed.LocalCluster</td>\n",
       "        \n",
       "        </tr>\n",
       "\n",
       "        \n",
       "            <tr>\n",
       "                <td style=\"text-align: left;\">\n",
       "                    <strong>Dashboard: </strong> <a href=\"http://127.0.0.1:8787/status\" target=\"_blank\">http://127.0.0.1:8787/status</a>\n",
       "                </td>\n",
       "                <td style=\"text-align: left;\"></td>\n",
       "            </tr>\n",
       "        \n",
       "\n",
       "        </table>\n",
       "\n",
       "        \n",
       "\n",
       "        \n",
       "            <details>\n",
       "            <summary style=\"margin-bottom: 20px;\"><h3 style=\"display: inline;\">Cluster Info</h3></summary>\n",
       "            <div class=\"jp-RenderedHTMLCommon jp-RenderedHTML jp-mod-trusted jp-OutputArea-output\">\n",
       "    <div style=\"width: 24px; height: 24px; background-color: #e1e1e1; border: 3px solid #9D9D9D; border-radius: 5px; position: absolute;\">\n",
       "    </div>\n",
       "    <div style=\"margin-left: 48px;\">\n",
       "        <h3 style=\"margin-bottom: 0px; margin-top: 0px;\">LocalCluster</h3>\n",
       "        <p style=\"color: #9D9D9D; margin-bottom: 0px;\">eacc5cdb</p>\n",
       "        <table style=\"width: 100%; text-align: left;\">\n",
       "            <tr>\n",
       "                <td style=\"text-align: left;\">\n",
       "                    <strong>Dashboard:</strong> <a href=\"http://127.0.0.1:8787/status\" target=\"_blank\">http://127.0.0.1:8787/status</a>\n",
       "                </td>\n",
       "                <td style=\"text-align: left;\">\n",
       "                    <strong>Workers:</strong> 4\n",
       "                </td>\n",
       "            </tr>\n",
       "            <tr>\n",
       "                <td style=\"text-align: left;\">\n",
       "                    <strong>Total threads:</strong> 12\n",
       "                </td>\n",
       "                <td style=\"text-align: left;\">\n",
       "                    <strong>Total memory:</strong> 48.00 GiB\n",
       "                </td>\n",
       "            </tr>\n",
       "            \n",
       "            <tr>\n",
       "    <td style=\"text-align: left;\"><strong>Status:</strong> running</td>\n",
       "    <td style=\"text-align: left;\"><strong>Using processes:</strong> True</td>\n",
       "</tr>\n",
       "\n",
       "            \n",
       "        </table>\n",
       "\n",
       "        <details>\n",
       "            <summary style=\"margin-bottom: 20px;\">\n",
       "                <h3 style=\"display: inline;\">Scheduler Info</h3>\n",
       "            </summary>\n",
       "\n",
       "            <div style=\"\">\n",
       "    <div>\n",
       "        <div style=\"width: 24px; height: 24px; background-color: #FFF7E5; border: 3px solid #FF6132; border-radius: 5px; position: absolute;\"> </div>\n",
       "        <div style=\"margin-left: 48px;\">\n",
       "            <h3 style=\"margin-bottom: 0px;\">Scheduler</h3>\n",
       "            <p style=\"color: #9D9D9D; margin-bottom: 0px;\">Scheduler-dd9ef516-0c1f-443a-85c2-c68f0cbcc431</p>\n",
       "            <table style=\"width: 100%; text-align: left;\">\n",
       "                <tr>\n",
       "                    <td style=\"text-align: left;\">\n",
       "                        <strong>Comm:</strong> tcp://127.0.0.1:56153\n",
       "                    </td>\n",
       "                    <td style=\"text-align: left;\">\n",
       "                        <strong>Workers:</strong> 4\n",
       "                    </td>\n",
       "                </tr>\n",
       "                <tr>\n",
       "                    <td style=\"text-align: left;\">\n",
       "                        <strong>Dashboard:</strong> <a href=\"http://127.0.0.1:8787/status\" target=\"_blank\">http://127.0.0.1:8787/status</a>\n",
       "                    </td>\n",
       "                    <td style=\"text-align: left;\">\n",
       "                        <strong>Total threads:</strong> 12\n",
       "                    </td>\n",
       "                </tr>\n",
       "                <tr>\n",
       "                    <td style=\"text-align: left;\">\n",
       "                        <strong>Started:</strong> Just now\n",
       "                    </td>\n",
       "                    <td style=\"text-align: left;\">\n",
       "                        <strong>Total memory:</strong> 48.00 GiB\n",
       "                    </td>\n",
       "                </tr>\n",
       "            </table>\n",
       "        </div>\n",
       "    </div>\n",
       "\n",
       "    <details style=\"margin-left: 48px;\">\n",
       "        <summary style=\"margin-bottom: 20px;\">\n",
       "            <h3 style=\"display: inline;\">Workers</h3>\n",
       "        </summary>\n",
       "\n",
       "        \n",
       "        <div style=\"margin-bottom: 20px;\">\n",
       "            <div style=\"width: 24px; height: 24px; background-color: #DBF5FF; border: 3px solid #4CC9FF; border-radius: 5px; position: absolute;\"> </div>\n",
       "            <div style=\"margin-left: 48px;\">\n",
       "            <details>\n",
       "                <summary>\n",
       "                    <h4 style=\"margin-bottom: 0px; display: inline;\">Worker: 0</h4>\n",
       "                </summary>\n",
       "                <table style=\"width: 100%; text-align: left;\">\n",
       "                    <tr>\n",
       "                        <td style=\"text-align: left;\">\n",
       "                            <strong>Comm: </strong> tcp://127.0.0.1:56167\n",
       "                        </td>\n",
       "                        <td style=\"text-align: left;\">\n",
       "                            <strong>Total threads: </strong> 3\n",
       "                        </td>\n",
       "                    </tr>\n",
       "                    <tr>\n",
       "                        <td style=\"text-align: left;\">\n",
       "                            <strong>Dashboard: </strong> <a href=\"http://127.0.0.1:56171/status\" target=\"_blank\">http://127.0.0.1:56171/status</a>\n",
       "                        </td>\n",
       "                        <td style=\"text-align: left;\">\n",
       "                            <strong>Memory: </strong> 12.00 GiB\n",
       "                        </td>\n",
       "                    </tr>\n",
       "                    <tr>\n",
       "                        <td style=\"text-align: left;\">\n",
       "                            <strong>Nanny: </strong> tcp://127.0.0.1:56156\n",
       "                        </td>\n",
       "                        <td style=\"text-align: left;\"></td>\n",
       "                    </tr>\n",
       "                    <tr>\n",
       "                        <td colspan=\"2\" style=\"text-align: left;\">\n",
       "                            <strong>Local directory: </strong> /var/folders/z_/8j3qx1mn0299kkpjgz9g53780000gq/T/dask-scratch-space/worker-gg73o7at\n",
       "                        </td>\n",
       "                    </tr>\n",
       "\n",
       "                    \n",
       "\n",
       "                    \n",
       "\n",
       "                </table>\n",
       "            </details>\n",
       "            </div>\n",
       "        </div>\n",
       "        \n",
       "        <div style=\"margin-bottom: 20px;\">\n",
       "            <div style=\"width: 24px; height: 24px; background-color: #DBF5FF; border: 3px solid #4CC9FF; border-radius: 5px; position: absolute;\"> </div>\n",
       "            <div style=\"margin-left: 48px;\">\n",
       "            <details>\n",
       "                <summary>\n",
       "                    <h4 style=\"margin-bottom: 0px; display: inline;\">Worker: 1</h4>\n",
       "                </summary>\n",
       "                <table style=\"width: 100%; text-align: left;\">\n",
       "                    <tr>\n",
       "                        <td style=\"text-align: left;\">\n",
       "                            <strong>Comm: </strong> tcp://127.0.0.1:56166\n",
       "                        </td>\n",
       "                        <td style=\"text-align: left;\">\n",
       "                            <strong>Total threads: </strong> 3\n",
       "                        </td>\n",
       "                    </tr>\n",
       "                    <tr>\n",
       "                        <td style=\"text-align: left;\">\n",
       "                            <strong>Dashboard: </strong> <a href=\"http://127.0.0.1:56168/status\" target=\"_blank\">http://127.0.0.1:56168/status</a>\n",
       "                        </td>\n",
       "                        <td style=\"text-align: left;\">\n",
       "                            <strong>Memory: </strong> 12.00 GiB\n",
       "                        </td>\n",
       "                    </tr>\n",
       "                    <tr>\n",
       "                        <td style=\"text-align: left;\">\n",
       "                            <strong>Nanny: </strong> tcp://127.0.0.1:56158\n",
       "                        </td>\n",
       "                        <td style=\"text-align: left;\"></td>\n",
       "                    </tr>\n",
       "                    <tr>\n",
       "                        <td colspan=\"2\" style=\"text-align: left;\">\n",
       "                            <strong>Local directory: </strong> /var/folders/z_/8j3qx1mn0299kkpjgz9g53780000gq/T/dask-scratch-space/worker-rniid1w3\n",
       "                        </td>\n",
       "                    </tr>\n",
       "\n",
       "                    \n",
       "\n",
       "                    \n",
       "\n",
       "                </table>\n",
       "            </details>\n",
       "            </div>\n",
       "        </div>\n",
       "        \n",
       "        <div style=\"margin-bottom: 20px;\">\n",
       "            <div style=\"width: 24px; height: 24px; background-color: #DBF5FF; border: 3px solid #4CC9FF; border-radius: 5px; position: absolute;\"> </div>\n",
       "            <div style=\"margin-left: 48px;\">\n",
       "            <details>\n",
       "                <summary>\n",
       "                    <h4 style=\"margin-bottom: 0px; display: inline;\">Worker: 2</h4>\n",
       "                </summary>\n",
       "                <table style=\"width: 100%; text-align: left;\">\n",
       "                    <tr>\n",
       "                        <td style=\"text-align: left;\">\n",
       "                            <strong>Comm: </strong> tcp://127.0.0.1:56164\n",
       "                        </td>\n",
       "                        <td style=\"text-align: left;\">\n",
       "                            <strong>Total threads: </strong> 3\n",
       "                        </td>\n",
       "                    </tr>\n",
       "                    <tr>\n",
       "                        <td style=\"text-align: left;\">\n",
       "                            <strong>Dashboard: </strong> <a href=\"http://127.0.0.1:56170/status\" target=\"_blank\">http://127.0.0.1:56170/status</a>\n",
       "                        </td>\n",
       "                        <td style=\"text-align: left;\">\n",
       "                            <strong>Memory: </strong> 12.00 GiB\n",
       "                        </td>\n",
       "                    </tr>\n",
       "                    <tr>\n",
       "                        <td style=\"text-align: left;\">\n",
       "                            <strong>Nanny: </strong> tcp://127.0.0.1:56160\n",
       "                        </td>\n",
       "                        <td style=\"text-align: left;\"></td>\n",
       "                    </tr>\n",
       "                    <tr>\n",
       "                        <td colspan=\"2\" style=\"text-align: left;\">\n",
       "                            <strong>Local directory: </strong> /var/folders/z_/8j3qx1mn0299kkpjgz9g53780000gq/T/dask-scratch-space/worker-ihov5eqs\n",
       "                        </td>\n",
       "                    </tr>\n",
       "\n",
       "                    \n",
       "\n",
       "                    \n",
       "\n",
       "                </table>\n",
       "            </details>\n",
       "            </div>\n",
       "        </div>\n",
       "        \n",
       "        <div style=\"margin-bottom: 20px;\">\n",
       "            <div style=\"width: 24px; height: 24px; background-color: #DBF5FF; border: 3px solid #4CC9FF; border-radius: 5px; position: absolute;\"> </div>\n",
       "            <div style=\"margin-left: 48px;\">\n",
       "            <details>\n",
       "                <summary>\n",
       "                    <h4 style=\"margin-bottom: 0px; display: inline;\">Worker: 3</h4>\n",
       "                </summary>\n",
       "                <table style=\"width: 100%; text-align: left;\">\n",
       "                    <tr>\n",
       "                        <td style=\"text-align: left;\">\n",
       "                            <strong>Comm: </strong> tcp://127.0.0.1:56165\n",
       "                        </td>\n",
       "                        <td style=\"text-align: left;\">\n",
       "                            <strong>Total threads: </strong> 3\n",
       "                        </td>\n",
       "                    </tr>\n",
       "                    <tr>\n",
       "                        <td style=\"text-align: left;\">\n",
       "                            <strong>Dashboard: </strong> <a href=\"http://127.0.0.1:56169/status\" target=\"_blank\">http://127.0.0.1:56169/status</a>\n",
       "                        </td>\n",
       "                        <td style=\"text-align: left;\">\n",
       "                            <strong>Memory: </strong> 12.00 GiB\n",
       "                        </td>\n",
       "                    </tr>\n",
       "                    <tr>\n",
       "                        <td style=\"text-align: left;\">\n",
       "                            <strong>Nanny: </strong> tcp://127.0.0.1:56162\n",
       "                        </td>\n",
       "                        <td style=\"text-align: left;\"></td>\n",
       "                    </tr>\n",
       "                    <tr>\n",
       "                        <td colspan=\"2\" style=\"text-align: left;\">\n",
       "                            <strong>Local directory: </strong> /var/folders/z_/8j3qx1mn0299kkpjgz9g53780000gq/T/dask-scratch-space/worker-3meu0x0o\n",
       "                        </td>\n",
       "                    </tr>\n",
       "\n",
       "                    \n",
       "\n",
       "                    \n",
       "\n",
       "                </table>\n",
       "            </details>\n",
       "            </div>\n",
       "        </div>\n",
       "        \n",
       "\n",
       "    </details>\n",
       "</div>\n",
       "\n",
       "        </details>\n",
       "    </div>\n",
       "</div>\n",
       "            </details>\n",
       "        \n",
       "\n",
       "    </div>\n",
       "</div>"
      ],
      "text/plain": [
       "<Client: 'tcp://127.0.0.1:56153' processes=4 threads=12, memory=48.00 GiB>"
      ]
     },
     "execution_count": 3,
     "metadata": {},
     "output_type": "execute_result"
    }
   ],
   "source": [
    "client = Client()\n",
    "client"
   ]
  },
  {
   "cell_type": "markdown",
   "metadata": {},
   "source": [
    "Load forcing.\n"
   ]
  },
  {
   "cell_type": "code",
   "execution_count": 4,
   "metadata": {},
   "outputs": [],
   "source": [
    "time_start, time_end = \"2005-01-01\", \"2015-01-01\"\n",
    "\n",
    "data = xr.open_dataset(f\"../1_data_processing/1_1_Forcing/products/{STATION}_cmems.zarr\", engine=\"zarr\")\n",
    "data[\"time\"].attrs = {\"axis\": \"T\"}\n",
    "data = data.sel(time=slice(time_start, time_end))\n",
    "_ = data.load()\n",
    "\n",
    "cafe_npp = xr.open_dataset(f\"../1_data_processing/1_1_Forcing/products/{STATION}_cafe.zarr\", engine=\"zarr\")\n",
    "cafe_npp = cafe_npp.sel(time=slice(time_start, time_end))\n",
    "cafe_npp = cafe_npp.dropna(\"time\")\n",
    "cafe_npp = cafe_npp.resample(time=\"D\").interpolate(\"linear\")\n",
    "cafe_npp.time.attrs[\"axis\"] = \"T\"\n",
    "_ = cafe_npp.load()"
   ]
  },
  {
   "cell_type": "code",
   "execution_count": 5,
   "metadata": {},
   "outputs": [
    {
     "data": {
      "text/html": [
       "<div><svg style=\"position: absolute; width: 0; height: 0; overflow: hidden\">\n",
       "<defs>\n",
       "<symbol id=\"icon-database\" viewBox=\"0 0 32 32\">\n",
       "<path d=\"M16 0c-8.837 0-16 2.239-16 5v4c0 2.761 7.163 5 16 5s16-2.239 16-5v-4c0-2.761-7.163-5-16-5z\"></path>\n",
       "<path d=\"M16 17c-8.837 0-16-2.239-16-5v6c0 2.761 7.163 5 16 5s16-2.239 16-5v-6c0 2.761-7.163 5-16 5z\"></path>\n",
       "<path d=\"M16 26c-8.837 0-16-2.239-16-5v6c0 2.761 7.163 5 16 5s16-2.239 16-5v-6c0 2.761-7.163 5-16 5z\"></path>\n",
       "</symbol>\n",
       "<symbol id=\"icon-file-text2\" viewBox=\"0 0 32 32\">\n",
       "<path d=\"M28.681 7.159c-0.694-0.947-1.662-2.053-2.724-3.116s-2.169-2.030-3.116-2.724c-1.612-1.182-2.393-1.319-2.841-1.319h-15.5c-1.378 0-2.5 1.121-2.5 2.5v27c0 1.378 1.122 2.5 2.5 2.5h23c1.378 0 2.5-1.122 2.5-2.5v-19.5c0-0.448-0.137-1.23-1.319-2.841zM24.543 5.457c0.959 0.959 1.712 1.825 2.268 2.543h-4.811v-4.811c0.718 0.556 1.584 1.309 2.543 2.268zM28 29.5c0 0.271-0.229 0.5-0.5 0.5h-23c-0.271 0-0.5-0.229-0.5-0.5v-27c0-0.271 0.229-0.5 0.5-0.5 0 0 15.499-0 15.5 0v7c0 0.552 0.448 1 1 1h7v19.5z\"></path>\n",
       "<path d=\"M23 26h-14c-0.552 0-1-0.448-1-1s0.448-1 1-1h14c0.552 0 1 0.448 1 1s-0.448 1-1 1z\"></path>\n",
       "<path d=\"M23 22h-14c-0.552 0-1-0.448-1-1s0.448-1 1-1h14c0.552 0 1 0.448 1 1s-0.448 1-1 1z\"></path>\n",
       "<path d=\"M23 18h-14c-0.552 0-1-0.448-1-1s0.448-1 1-1h14c0.552 0 1 0.448 1 1s-0.448 1-1 1z\"></path>\n",
       "</symbol>\n",
       "</defs>\n",
       "</svg>\n",
       "<style>/* CSS stylesheet for displaying xarray objects in jupyterlab.\n",
       " *\n",
       " */\n",
       "\n",
       ":root {\n",
       "  --xr-font-color0: var(--jp-content-font-color0, rgba(0, 0, 0, 1));\n",
       "  --xr-font-color2: var(--jp-content-font-color2, rgba(0, 0, 0, 0.54));\n",
       "  --xr-font-color3: var(--jp-content-font-color3, rgba(0, 0, 0, 0.38));\n",
       "  --xr-border-color: var(--jp-border-color2, #e0e0e0);\n",
       "  --xr-disabled-color: var(--jp-layout-color3, #bdbdbd);\n",
       "  --xr-background-color: var(--jp-layout-color0, white);\n",
       "  --xr-background-color-row-even: var(--jp-layout-color1, white);\n",
       "  --xr-background-color-row-odd: var(--jp-layout-color2, #eeeeee);\n",
       "}\n",
       "\n",
       "html[theme=\"dark\"],\n",
       "html[data-theme=\"dark\"],\n",
       "body[data-theme=\"dark\"],\n",
       "body.vscode-dark {\n",
       "  --xr-font-color0: rgba(255, 255, 255, 1);\n",
       "  --xr-font-color2: rgba(255, 255, 255, 0.54);\n",
       "  --xr-font-color3: rgba(255, 255, 255, 0.38);\n",
       "  --xr-border-color: #1f1f1f;\n",
       "  --xr-disabled-color: #515151;\n",
       "  --xr-background-color: #111111;\n",
       "  --xr-background-color-row-even: #111111;\n",
       "  --xr-background-color-row-odd: #313131;\n",
       "}\n",
       "\n",
       ".xr-wrap {\n",
       "  display: block !important;\n",
       "  min-width: 300px;\n",
       "  max-width: 700px;\n",
       "}\n",
       "\n",
       ".xr-text-repr-fallback {\n",
       "  /* fallback to plain text repr when CSS is not injected (untrusted notebook) */\n",
       "  display: none;\n",
       "}\n",
       "\n",
       ".xr-header {\n",
       "  padding-top: 6px;\n",
       "  padding-bottom: 6px;\n",
       "  margin-bottom: 4px;\n",
       "  border-bottom: solid 1px var(--xr-border-color);\n",
       "}\n",
       "\n",
       ".xr-header > div,\n",
       ".xr-header > ul {\n",
       "  display: inline;\n",
       "  margin-top: 0;\n",
       "  margin-bottom: 0;\n",
       "}\n",
       "\n",
       ".xr-obj-type,\n",
       ".xr-array-name {\n",
       "  margin-left: 2px;\n",
       "  margin-right: 10px;\n",
       "}\n",
       "\n",
       ".xr-obj-type {\n",
       "  color: var(--xr-font-color2);\n",
       "}\n",
       "\n",
       ".xr-sections {\n",
       "  padding-left: 0 !important;\n",
       "  display: grid;\n",
       "  grid-template-columns: 150px auto auto 1fr 0 20px 0 20px;\n",
       "}\n",
       "\n",
       ".xr-section-item {\n",
       "  display: contents;\n",
       "}\n",
       "\n",
       ".xr-section-item input {\n",
       "  display: inline-block;\n",
       "  opacity: 0;\n",
       "  height: 0;\n",
       "}\n",
       "\n",
       ".xr-section-item input + label {\n",
       "  color: var(--xr-disabled-color);\n",
       "}\n",
       "\n",
       ".xr-section-item input:enabled + label {\n",
       "  cursor: pointer;\n",
       "  color: var(--xr-font-color2);\n",
       "}\n",
       "\n",
       ".xr-section-item input:focus + label {\n",
       "  border: 2px solid var(--xr-font-color0);\n",
       "}\n",
       "\n",
       ".xr-section-item input:enabled + label:hover {\n",
       "  color: var(--xr-font-color0);\n",
       "}\n",
       "\n",
       ".xr-section-summary {\n",
       "  grid-column: 1;\n",
       "  color: var(--xr-font-color2);\n",
       "  font-weight: 500;\n",
       "}\n",
       "\n",
       ".xr-section-summary > span {\n",
       "  display: inline-block;\n",
       "  padding-left: 0.5em;\n",
       "}\n",
       "\n",
       ".xr-section-summary-in:disabled + label {\n",
       "  color: var(--xr-font-color2);\n",
       "}\n",
       "\n",
       ".xr-section-summary-in + label:before {\n",
       "  display: inline-block;\n",
       "  content: \"►\";\n",
       "  font-size: 11px;\n",
       "  width: 15px;\n",
       "  text-align: center;\n",
       "}\n",
       "\n",
       ".xr-section-summary-in:disabled + label:before {\n",
       "  color: var(--xr-disabled-color);\n",
       "}\n",
       "\n",
       ".xr-section-summary-in:checked + label:before {\n",
       "  content: \"▼\";\n",
       "}\n",
       "\n",
       ".xr-section-summary-in:checked + label > span {\n",
       "  display: none;\n",
       "}\n",
       "\n",
       ".xr-section-summary,\n",
       ".xr-section-inline-details {\n",
       "  padding-top: 4px;\n",
       "  padding-bottom: 4px;\n",
       "}\n",
       "\n",
       ".xr-section-inline-details {\n",
       "  grid-column: 2 / -1;\n",
       "}\n",
       "\n",
       ".xr-section-details {\n",
       "  display: none;\n",
       "  grid-column: 1 / -1;\n",
       "  margin-bottom: 5px;\n",
       "}\n",
       "\n",
       ".xr-section-summary-in:checked ~ .xr-section-details {\n",
       "  display: contents;\n",
       "}\n",
       "\n",
       ".xr-array-wrap {\n",
       "  grid-column: 1 / -1;\n",
       "  display: grid;\n",
       "  grid-template-columns: 20px auto;\n",
       "}\n",
       "\n",
       ".xr-array-wrap > label {\n",
       "  grid-column: 1;\n",
       "  vertical-align: top;\n",
       "}\n",
       "\n",
       ".xr-preview {\n",
       "  color: var(--xr-font-color3);\n",
       "}\n",
       "\n",
       ".xr-array-preview,\n",
       ".xr-array-data {\n",
       "  padding: 0 5px !important;\n",
       "  grid-column: 2;\n",
       "}\n",
       "\n",
       ".xr-array-data,\n",
       ".xr-array-in:checked ~ .xr-array-preview {\n",
       "  display: none;\n",
       "}\n",
       "\n",
       ".xr-array-in:checked ~ .xr-array-data,\n",
       ".xr-array-preview {\n",
       "  display: inline-block;\n",
       "}\n",
       "\n",
       ".xr-dim-list {\n",
       "  display: inline-block !important;\n",
       "  list-style: none;\n",
       "  padding: 0 !important;\n",
       "  margin: 0;\n",
       "}\n",
       "\n",
       ".xr-dim-list li {\n",
       "  display: inline-block;\n",
       "  padding: 0;\n",
       "  margin: 0;\n",
       "}\n",
       "\n",
       ".xr-dim-list:before {\n",
       "  content: \"(\";\n",
       "}\n",
       "\n",
       ".xr-dim-list:after {\n",
       "  content: \")\";\n",
       "}\n",
       "\n",
       ".xr-dim-list li:not(:last-child):after {\n",
       "  content: \",\";\n",
       "  padding-right: 5px;\n",
       "}\n",
       "\n",
       ".xr-has-index {\n",
       "  font-weight: bold;\n",
       "}\n",
       "\n",
       ".xr-var-list,\n",
       ".xr-var-item {\n",
       "  display: contents;\n",
       "}\n",
       "\n",
       ".xr-var-item > div,\n",
       ".xr-var-item label,\n",
       ".xr-var-item > .xr-var-name span {\n",
       "  background-color: var(--xr-background-color-row-even);\n",
       "  margin-bottom: 0;\n",
       "}\n",
       "\n",
       ".xr-var-item > .xr-var-name:hover span {\n",
       "  padding-right: 5px;\n",
       "}\n",
       "\n",
       ".xr-var-list > li:nth-child(odd) > div,\n",
       ".xr-var-list > li:nth-child(odd) > label,\n",
       ".xr-var-list > li:nth-child(odd) > .xr-var-name span {\n",
       "  background-color: var(--xr-background-color-row-odd);\n",
       "}\n",
       "\n",
       ".xr-var-name {\n",
       "  grid-column: 1;\n",
       "}\n",
       "\n",
       ".xr-var-dims {\n",
       "  grid-column: 2;\n",
       "}\n",
       "\n",
       ".xr-var-dtype {\n",
       "  grid-column: 3;\n",
       "  text-align: right;\n",
       "  color: var(--xr-font-color2);\n",
       "}\n",
       "\n",
       ".xr-var-preview {\n",
       "  grid-column: 4;\n",
       "}\n",
       "\n",
       ".xr-index-preview {\n",
       "  grid-column: 2 / 5;\n",
       "  color: var(--xr-font-color2);\n",
       "}\n",
       "\n",
       ".xr-var-name,\n",
       ".xr-var-dims,\n",
       ".xr-var-dtype,\n",
       ".xr-preview,\n",
       ".xr-attrs dt {\n",
       "  white-space: nowrap;\n",
       "  overflow: hidden;\n",
       "  text-overflow: ellipsis;\n",
       "  padding-right: 10px;\n",
       "}\n",
       "\n",
       ".xr-var-name:hover,\n",
       ".xr-var-dims:hover,\n",
       ".xr-var-dtype:hover,\n",
       ".xr-attrs dt:hover {\n",
       "  overflow: visible;\n",
       "  width: auto;\n",
       "  z-index: 1;\n",
       "}\n",
       "\n",
       ".xr-var-attrs,\n",
       ".xr-var-data,\n",
       ".xr-index-data {\n",
       "  display: none;\n",
       "  background-color: var(--xr-background-color) !important;\n",
       "  padding-bottom: 5px !important;\n",
       "}\n",
       "\n",
       ".xr-var-attrs-in:checked ~ .xr-var-attrs,\n",
       ".xr-var-data-in:checked ~ .xr-var-data,\n",
       ".xr-index-data-in:checked ~ .xr-index-data {\n",
       "  display: block;\n",
       "}\n",
       "\n",
       ".xr-var-data > table {\n",
       "  float: right;\n",
       "}\n",
       "\n",
       ".xr-var-name span,\n",
       ".xr-var-data,\n",
       ".xr-index-name div,\n",
       ".xr-index-data,\n",
       ".xr-attrs {\n",
       "  padding-left: 25px !important;\n",
       "}\n",
       "\n",
       ".xr-attrs,\n",
       ".xr-var-attrs,\n",
       ".xr-var-data,\n",
       ".xr-index-data {\n",
       "  grid-column: 1 / -1;\n",
       "}\n",
       "\n",
       "dl.xr-attrs {\n",
       "  padding: 0;\n",
       "  margin: 0;\n",
       "  display: grid;\n",
       "  grid-template-columns: 125px auto;\n",
       "}\n",
       "\n",
       ".xr-attrs dt,\n",
       ".xr-attrs dd {\n",
       "  padding: 0;\n",
       "  margin: 0;\n",
       "  float: left;\n",
       "  padding-right: 10px;\n",
       "  width: auto;\n",
       "}\n",
       "\n",
       ".xr-attrs dt {\n",
       "  font-weight: normal;\n",
       "  grid-column: 1;\n",
       "}\n",
       "\n",
       ".xr-attrs dt:hover span {\n",
       "  display: inline-block;\n",
       "  background: var(--xr-background-color);\n",
       "  padding-right: 10px;\n",
       "}\n",
       "\n",
       ".xr-attrs dd {\n",
       "  grid-column: 2;\n",
       "  white-space: pre-wrap;\n",
       "  word-break: break-all;\n",
       "}\n",
       "\n",
       ".xr-icon-database,\n",
       ".xr-icon-file-text2,\n",
       ".xr-no-icon {\n",
       "  display: inline-block;\n",
       "  vertical-align: middle;\n",
       "  width: 1em;\n",
       "  height: 1.5em !important;\n",
       "  stroke-width: 0;\n",
       "  stroke: currentColor;\n",
       "  fill: currentColor;\n",
       "}\n",
       "</style><pre class='xr-text-repr-fallback'>&lt;xarray.Dataset&gt; Size: 643kB\n",
       "Dimensions:              (latitude: 1, longitude: 1, time: 3653, depth: 3)\n",
       "Coordinates:\n",
       "  * depth                (depth) int64 24B 0 1 2\n",
       "  * latitude             (latitude) float64 8B 22.75\n",
       "  * longitude            (longitude) int64 8B -158\n",
       "  * time                 (time) datetime64[ns] 29kB 2005-01-01 ... 2015-01-01\n",
       "Data variables: (12/13)\n",
       "    T                    (latitude, longitude, time, depth) float64 88kB 24.7...\n",
       "    U                    (latitude, longitude, time, depth) float64 88kB -0.0...\n",
       "    V                    (latitude, longitude, time, depth) float64 88kB 0.15...\n",
       "    mnkc_epi             (latitude, longitude, time) float64 29kB 0.2904 ... ...\n",
       "    mnkc_hmlmeso         (latitude, longitude, time) float64 29kB 0.8233 ... ...\n",
       "    mnkc_lmeso           (latitude, longitude, time) float64 29kB 2.403 ... 1...\n",
       "    ...                   ...\n",
       "    mnkc_mumeso          (latitude, longitude, time) float64 29kB 0.5779 ... ...\n",
       "    mnkc_umeso           (latitude, longitude, time) float64 29kB 0.79 ... 0....\n",
       "    npp                  (latitude, longitude, time) float64 29kB 221.1 ... 3...\n",
       "    pelagic_layer_depth  (latitude, longitude, time, depth) float64 88kB 107....\n",
       "    zeu                  (latitude, longitude, time) float64 29kB 71.63 ... 7...\n",
       "    zooc                 (latitude, longitude, time) float64 29kB 0.2527 ... ...\n",
       "Attributes:\n",
       "    Conventions:  CF-1.7\n",
       "    history:      Created on 2024-10-17\n",
       "    institution:  CLS\n",
       "    references:   http://www.cls.fr; http://www.seapodym.eu\n",
       "    source:       SEAPODYM-LMTL 3.0.0\n",
       "    title:        Global ocean low and mid trophic levels biomass content hin...</pre><div class='xr-wrap' style='display:none'><div class='xr-header'><div class='xr-obj-type'>xarray.Dataset</div></div><ul class='xr-sections'><li class='xr-section-item'><input id='section-3bf475de-1436-440f-9155-b1cba60a60b5' class='xr-section-summary-in' type='checkbox' disabled ><label for='section-3bf475de-1436-440f-9155-b1cba60a60b5' class='xr-section-summary'  title='Expand/collapse section'>Dimensions:</label><div class='xr-section-inline-details'><ul class='xr-dim-list'><li><span class='xr-has-index'>latitude</span>: 1</li><li><span class='xr-has-index'>longitude</span>: 1</li><li><span class='xr-has-index'>time</span>: 3653</li><li><span class='xr-has-index'>depth</span>: 3</li></ul></div><div class='xr-section-details'></div></li><li class='xr-section-item'><input id='section-bf2afd04-7f6b-482c-b224-91927971ecd8' class='xr-section-summary-in' type='checkbox'  checked><label for='section-bf2afd04-7f6b-482c-b224-91927971ecd8' class='xr-section-summary' >Coordinates: <span>(4)</span></label><div class='xr-section-inline-details'></div><div class='xr-section-details'><ul class='xr-var-list'><li class='xr-var-item'><div class='xr-var-name'><span class='xr-has-index'>depth</span></div><div class='xr-var-dims'>(depth)</div><div class='xr-var-dtype'>int64</div><div class='xr-var-preview xr-preview'>0 1 2</div><input id='attrs-70054bf8-d151-4ed0-8381-ef2f550a984b' class='xr-var-attrs-in' type='checkbox' ><label for='attrs-70054bf8-d151-4ed0-8381-ef2f550a984b' title='Show/Hide attributes'><svg class='icon xr-icon-file-text2'><use xlink:href='#icon-file-text2'></use></svg></label><input id='data-bc0152bc-810f-4644-85f5-64ca11008b3e' class='xr-var-data-in' type='checkbox'><label for='data-bc0152bc-810f-4644-85f5-64ca11008b3e' title='Show/Hide data repr'><svg class='icon xr-icon-database'><use xlink:href='#icon-database'></use></svg></label><div class='xr-var-attrs'><dl class='xr-attrs'><dt><span>axis :</span></dt><dd>Z</dd><dt><span>desc :</span></dt><dd>The layer depth according to Seapodym definition</dd><dt><span>flag_meanings :</span></dt><dd>epipelagic, upper-mesopelagic, lower-mesopelagic</dd><dt><span>flag_values :</span></dt><dd>[0 1 2]</dd><dt><span>long_name :</span></dt><dd>Layer depth</dd><dt><span>standard_name :</span></dt><dd>depth</dd></dl></div><div class='xr-var-data'><pre>array([0, 1, 2])</pre></div></li><li class='xr-var-item'><div class='xr-var-name'><span class='xr-has-index'>latitude</span></div><div class='xr-var-dims'>(latitude)</div><div class='xr-var-dtype'>float64</div><div class='xr-var-preview xr-preview'>22.75</div><input id='attrs-9a4e7f60-4b3a-41a3-895a-ea6b41ced0aa' class='xr-var-attrs-in' type='checkbox' ><label for='attrs-9a4e7f60-4b3a-41a3-895a-ea6b41ced0aa' title='Show/Hide attributes'><svg class='icon xr-icon-file-text2'><use xlink:href='#icon-file-text2'></use></svg></label><input id='data-fea983be-4ed1-4b15-ab8e-6c4df0704e14' class='xr-var-data-in' type='checkbox'><label for='data-fea983be-4ed1-4b15-ab8e-6c4df0704e14' title='Show/Hide data repr'><svg class='icon xr-icon-database'><use xlink:href='#icon-database'></use></svg></label><div class='xr-var-attrs'><dl class='xr-attrs'><dt><span>axis :</span></dt><dd>Y</dd><dt><span>standard_name :</span></dt><dd>latitude</dd><dt><span>units :</span></dt><dd>degrees_north</dd></dl></div><div class='xr-var-data'><pre>array([22.75])</pre></div></li><li class='xr-var-item'><div class='xr-var-name'><span class='xr-has-index'>longitude</span></div><div class='xr-var-dims'>(longitude)</div><div class='xr-var-dtype'>int64</div><div class='xr-var-preview xr-preview'>-158</div><input id='attrs-1eac1c9e-3cb5-4254-a631-ec1c82f8af9b' class='xr-var-attrs-in' type='checkbox' ><label for='attrs-1eac1c9e-3cb5-4254-a631-ec1c82f8af9b' title='Show/Hide attributes'><svg class='icon xr-icon-file-text2'><use xlink:href='#icon-file-text2'></use></svg></label><input id='data-bd41267d-d615-49fa-a236-d01ecf9fedec' class='xr-var-data-in' type='checkbox'><label for='data-bd41267d-d615-49fa-a236-d01ecf9fedec' title='Show/Hide data repr'><svg class='icon xr-icon-database'><use xlink:href='#icon-database'></use></svg></label><div class='xr-var-attrs'><dl class='xr-attrs'><dt><span>axis :</span></dt><dd>X</dd><dt><span>standard_name :</span></dt><dd>longitude</dd><dt><span>units :</span></dt><dd>degrees_east</dd></dl></div><div class='xr-var-data'><pre>array([-158])</pre></div></li><li class='xr-var-item'><div class='xr-var-name'><span class='xr-has-index'>time</span></div><div class='xr-var-dims'>(time)</div><div class='xr-var-dtype'>datetime64[ns]</div><div class='xr-var-preview xr-preview'>2005-01-01 ... 2015-01-01</div><input id='attrs-226ea9d7-b275-4ca8-895a-8675201215a6' class='xr-var-attrs-in' type='checkbox' ><label for='attrs-226ea9d7-b275-4ca8-895a-8675201215a6' title='Show/Hide attributes'><svg class='icon xr-icon-file-text2'><use xlink:href='#icon-file-text2'></use></svg></label><input id='data-657d51d2-7279-412c-90ee-f72f359644ed' class='xr-var-data-in' type='checkbox'><label for='data-657d51d2-7279-412c-90ee-f72f359644ed' title='Show/Hide data repr'><svg class='icon xr-icon-database'><use xlink:href='#icon-database'></use></svg></label><div class='xr-var-attrs'><dl class='xr-attrs'><dt><span>axis :</span></dt><dd>T</dd></dl></div><div class='xr-var-data'><pre>array([&#x27;2005-01-01T00:00:00.000000000&#x27;, &#x27;2005-01-02T00:00:00.000000000&#x27;,\n",
       "       &#x27;2005-01-03T00:00:00.000000000&#x27;, ..., &#x27;2014-12-30T00:00:00.000000000&#x27;,\n",
       "       &#x27;2014-12-31T00:00:00.000000000&#x27;, &#x27;2015-01-01T00:00:00.000000000&#x27;],\n",
       "      dtype=&#x27;datetime64[ns]&#x27;)</pre></div></li></ul></div></li><li class='xr-section-item'><input id='section-c8ce9ca9-17b4-48b5-92eb-5588957b9a3f' class='xr-section-summary-in' type='checkbox'  checked><label for='section-c8ce9ca9-17b4-48b5-92eb-5588957b9a3f' class='xr-section-summary' >Data variables: <span>(13)</span></label><div class='xr-section-inline-details'></div><div class='xr-section-details'><ul class='xr-var-list'><li class='xr-var-item'><div class='xr-var-name'><span>T</span></div><div class='xr-var-dims'>(latitude, longitude, time, depth)</div><div class='xr-var-dtype'>float64</div><div class='xr-var-preview xr-preview'>24.78 16.91 6.84 ... 17.73 7.169</div><input id='attrs-30911dd7-a155-4c62-a922-a938e4a1fd24' class='xr-var-attrs-in' type='checkbox' ><label for='attrs-30911dd7-a155-4c62-a922-a938e4a1fd24' title='Show/Hide attributes'><svg class='icon xr-icon-file-text2'><use xlink:href='#icon-file-text2'></use></svg></label><input id='data-fdf9b162-2ce7-427a-8a02-357a86ae4dd8' class='xr-var-data-in' type='checkbox'><label for='data-fdf9b162-2ce7-427a-8a02-357a86ae4dd8' title='Show/Hide data repr'><svg class='icon xr-icon-database'><use xlink:href='#icon-database'></use></svg></label><div class='xr-var-attrs'><dl class='xr-attrs'><dt><span>standard_name :</span></dt><dd>sea_water_potential_temperature_vertical_mean_over_pelagic_layer</dd><dt><span>units :</span></dt><dd>degree_Celsius</dd></dl></div><div class='xr-var-data'><pre>array([[[[24.77601729, 16.91053138,  6.84020696],\n",
       "         [24.76926926, 16.98450739,  6.82267471],\n",
       "         [24.70059076, 16.64571867,  6.57356535],\n",
       "         ...,\n",
       "         [24.17531689, 16.75822781,  6.6792634 ],\n",
       "         [24.18351542, 17.76595397,  7.22553814],\n",
       "         [24.09736773, 17.73025881,  7.16852678]]]])</pre></div></li><li class='xr-var-item'><div class='xr-var-name'><span>U</span></div><div class='xr-var-dims'>(latitude, longitude, time, depth)</div><div class='xr-var-dtype'>float64</div><div class='xr-var-preview xr-preview'>-0.006909 -0.06108 ... -0.08738</div><input id='attrs-f016f9ea-0db4-479e-949e-eea121973dc7' class='xr-var-attrs-in' type='checkbox' ><label for='attrs-f016f9ea-0db4-479e-949e-eea121973dc7' title='Show/Hide attributes'><svg class='icon xr-icon-file-text2'><use xlink:href='#icon-file-text2'></use></svg></label><input id='data-9ab250f2-5b09-4a77-98b6-2617171d1112' class='xr-var-data-in' type='checkbox'><label for='data-9ab250f2-5b09-4a77-98b6-2617171d1112' title='Show/Hide data repr'><svg class='icon xr-icon-database'><use xlink:href='#icon-database'></use></svg></label><div class='xr-var-attrs'><dl class='xr-attrs'><dt><span>standard_name :</span></dt><dd>eastward_sea_water_velocity_vertical_mean_over_pelagic_layer</dd><dt><span>units :</span></dt><dd>m/s</dd></dl></div><div class='xr-var-data'><pre>array([[[[-0.00690909, -0.06107504, -0.04054592],\n",
       "         [-0.01154823, -0.06016183, -0.03713658],\n",
       "         [-0.00225168, -0.06435654, -0.03283837],\n",
       "         ...,\n",
       "         [-0.14015966, -0.11978274, -0.07561346],\n",
       "         [-0.15514859, -0.13454641, -0.08007605],\n",
       "         [-0.16809801, -0.13059523, -0.0873757 ]]]])</pre></div></li><li class='xr-var-item'><div class='xr-var-name'><span>V</span></div><div class='xr-var-dims'>(latitude, longitude, time, depth)</div><div class='xr-var-dtype'>float64</div><div class='xr-var-preview xr-preview'>0.1576 0.05396 ... -0.02606</div><input id='attrs-b6df775a-6df2-408c-92d9-bc912ba9d0b6' class='xr-var-attrs-in' type='checkbox' ><label for='attrs-b6df775a-6df2-408c-92d9-bc912ba9d0b6' title='Show/Hide attributes'><svg class='icon xr-icon-file-text2'><use xlink:href='#icon-file-text2'></use></svg></label><input id='data-438cf91f-728b-4119-820d-a4ae6b21ae6e' class='xr-var-data-in' type='checkbox'><label for='data-438cf91f-728b-4119-820d-a4ae6b21ae6e' title='Show/Hide data repr'><svg class='icon xr-icon-database'><use xlink:href='#icon-database'></use></svg></label><div class='xr-var-attrs'><dl class='xr-attrs'><dt><span>standard_name :</span></dt><dd>northward_sea_water_velocity_vertical_mean_over_pelagic_layer</dd><dt><span>units :</span></dt><dd>m/s</dd></dl></div><div class='xr-var-data'><pre>array([[[[ 0.15757503,  0.05395977, -0.02135997],\n",
       "         [ 0.10265439,  0.05494683, -0.01894928],\n",
       "         [ 0.10018043,  0.05642741, -0.01314085],\n",
       "         ...,\n",
       "         [-0.04024052, -0.02189778, -0.01094529],\n",
       "         [-0.08713819, -0.0482888 , -0.01381154],\n",
       "         [-0.05916536, -0.06641008, -0.02606112]]]])</pre></div></li><li class='xr-var-item'><div class='xr-var-name'><span>mnkc_epi</span></div><div class='xr-var-dims'>(latitude, longitude, time)</div><div class='xr-var-dtype'>float64</div><div class='xr-var-preview xr-preview'>0.2904 0.2904 0.305 ... 0.183 0.183</div><input id='attrs-2aaec138-a136-448e-b97d-fc7e1db0ac29' class='xr-var-attrs-in' type='checkbox' ><label for='attrs-2aaec138-a136-448e-b97d-fc7e1db0ac29' title='Show/Hide attributes'><svg class='icon xr-icon-file-text2'><use xlink:href='#icon-file-text2'></use></svg></label><input id='data-be377f34-080a-42fe-aa37-caed55816e4a' class='xr-var-data-in' type='checkbox'><label for='data-be377f34-080a-42fe-aa37-caed55816e4a' title='Show/Hide data repr'><svg class='icon xr-icon-database'><use xlink:href='#icon-database'></use></svg></label><div class='xr-var-attrs'><dl class='xr-attrs'><dt><span>carbon_to_wet_weight_conversion_factor :</span></dt><dd>11.9</dd><dt><span>day_layer :</span></dt><dd>epipelagic (1)</dd><dt><span>night_layer :</span></dt><dd>epipelagic (1)</dd><dt><span>standard_name :</span></dt><dd>mass_content_of_epipelagic_micronekton_expressed_as_wet_weight_in_sea_water</dd><dt><span>units :</span></dt><dd>g m-2</dd></dl></div><div class='xr-var-data'><pre>array([[[0.29043383, 0.29043383, 0.3049555 , ..., 0.18297346,\n",
       "         0.18297346, 0.18297346]]])</pre></div></li><li class='xr-var-item'><div class='xr-var-name'><span>mnkc_hmlmeso</span></div><div class='xr-var-dims'>(latitude, longitude, time)</div><div class='xr-var-dtype'>float64</div><div class='xr-var-preview xr-preview'>0.8233 0.8372 ... 0.6178 0.6289</div><input id='attrs-09e965cb-f7ea-45d0-b082-e707b18224cb' class='xr-var-attrs-in' type='checkbox' ><label for='attrs-09e965cb-f7ea-45d0-b082-e707b18224cb' title='Show/Hide attributes'><svg class='icon xr-icon-file-text2'><use xlink:href='#icon-file-text2'></use></svg></label><input id='data-849d5c6a-6048-48d0-b1a0-bc8ba99e60a1' class='xr-var-data-in' type='checkbox'><label for='data-849d5c6a-6048-48d0-b1a0-bc8ba99e60a1' title='Show/Hide data repr'><svg class='icon xr-icon-database'><use xlink:href='#icon-database'></use></svg></label><div class='xr-var-attrs'><dl class='xr-attrs'><dt><span>carbon_to_wet_weight_conversion_factor :</span></dt><dd>11.9</dd><dt><span>day_layer :</span></dt><dd>lower mesopelagic (3)</dd><dt><span>night_layer :</span></dt><dd>epipelagic (1)</dd><dt><span>standard_name :</span></dt><dd>mass_content_of_highly_migrant_lower_mesopelagic_micronekton_expressed_as_wet_weight_in_sea_water</dd><dt><span>units :</span></dt><dd>g m-2</dd></dl></div><div class='xr-var-data'><pre>array([[[0.82328812, 0.83717156, 0.86493844, ..., 0.6233666 ,\n",
       "         0.61781322, 0.62891998]]])</pre></div></li><li class='xr-var-item'><div class='xr-var-name'><span>mnkc_lmeso</span></div><div class='xr-var-dims'>(latitude, longitude, time)</div><div class='xr-var-dtype'>float64</div><div class='xr-var-preview xr-preview'>2.403 2.385 2.404 ... 1.989 1.986</div><input id='attrs-3a253e2e-f5c2-4608-bf25-81dd77ff8f07' class='xr-var-attrs-in' type='checkbox' ><label for='attrs-3a253e2e-f5c2-4608-bf25-81dd77ff8f07' title='Show/Hide attributes'><svg class='icon xr-icon-file-text2'><use xlink:href='#icon-file-text2'></use></svg></label><input id='data-e362f231-0f26-41a3-a2bc-cce4273b0774' class='xr-var-data-in' type='checkbox'><label for='data-e362f231-0f26-41a3-a2bc-cce4273b0774' title='Show/Hide data repr'><svg class='icon xr-icon-database'><use xlink:href='#icon-database'></use></svg></label><div class='xr-var-attrs'><dl class='xr-attrs'><dt><span>carbon_to_wet_weight_conversion_factor :</span></dt><dd>11.9</dd><dt><span>day_layer :</span></dt><dd>lower mesopelagic (3)</dd><dt><span>night_layer :</span></dt><dd>lower mesopelagic (3)</dd><dt><span>standard_name :</span></dt><dd>mass_content_of_lower_mesopelagic_micronekton_expressed_as_wet_weight_in_sea_water</dd><dt><span>units :</span></dt><dd>g m-2</dd></dl></div><div class='xr-var-data'><pre>array([[[2.40332421, 2.38500788, 2.40387925, ..., 1.99148437,\n",
       "         1.98870916, 1.986489  ]]])</pre></div></li><li class='xr-var-item'><div class='xr-var-name'><span>mnkc_mlmeso</span></div><div class='xr-var-dims'>(latitude, longitude, time)</div><div class='xr-var-dtype'>float64</div><div class='xr-var-preview xr-preview'>1.256 1.264 1.26 ... 0.9348 0.9592</div><input id='attrs-3402aff6-afa0-446d-976f-1687e3f50539' class='xr-var-attrs-in' type='checkbox' ><label for='attrs-3402aff6-afa0-446d-976f-1687e3f50539' title='Show/Hide attributes'><svg class='icon xr-icon-file-text2'><use xlink:href='#icon-file-text2'></use></svg></label><input id='data-7b301f61-8cf4-46c4-952f-23a8a41608e3' class='xr-var-data-in' type='checkbox'><label for='data-7b301f61-8cf4-46c4-952f-23a8a41608e3' title='Show/Hide data repr'><svg class='icon xr-icon-database'><use xlink:href='#icon-database'></use></svg></label><div class='xr-var-attrs'><dl class='xr-attrs'><dt><span>carbon_to_wet_weight_conversion_factor :</span></dt><dd>11.9</dd><dt><span>day_layer :</span></dt><dd>lower mesopelagic (3)</dd><dt><span>night_layer :</span></dt><dd>upper mesopelagic (2)</dd><dt><span>standard_name :</span></dt><dd>mass_content_of_migrant_lower_mesopelagic_micronekton_expressed_as_wet_weight_in_sea_water</dd><dt><span>units :</span></dt><dd>g m-2</dd></dl></div><div class='xr-var-data'><pre>array([[[1.25603542, 1.26386932, 1.26038758, ..., 0.91308468,\n",
       "         0.93484552, 0.95921765]]])</pre></div></li><li class='xr-var-item'><div class='xr-var-name'><span>mnkc_mumeso</span></div><div class='xr-var-dims'>(latitude, longitude, time)</div><div class='xr-var-dtype'>float64</div><div class='xr-var-preview xr-preview'>0.5779 0.5823 ... 0.4389 0.4693</div><input id='attrs-37a1aaeb-914e-4ba5-8b78-ccfc345947ce' class='xr-var-attrs-in' type='checkbox' ><label for='attrs-37a1aaeb-914e-4ba5-8b78-ccfc345947ce' title='Show/Hide attributes'><svg class='icon xr-icon-file-text2'><use xlink:href='#icon-file-text2'></use></svg></label><input id='data-9207bac2-548b-4843-8a77-a923531ca815' class='xr-var-data-in' type='checkbox'><label for='data-9207bac2-548b-4843-8a77-a923531ca815' title='Show/Hide data repr'><svg class='icon xr-icon-database'><use xlink:href='#icon-database'></use></svg></label><div class='xr-var-attrs'><dl class='xr-attrs'><dt><span>carbon_to_wet_weight_conversion_factor :</span></dt><dd>11.9</dd><dt><span>day_layer :</span></dt><dd>upper mesopelagic (2)</dd><dt><span>night_layer :</span></dt><dd>epipelagic (1)</dd><dt><span>standard_name :</span></dt><dd>mass_content_of_migrant_upper_mesopelagic_micronekton_expressed_as_wet_weight_in_sea_water</dd><dt><span>units :</span></dt><dd>g m-2</dd></dl></div><div class='xr-var-data'><pre>array([[[0.57793245, 0.5822778 , 0.60400456, ..., 0.46929864,\n",
       "         0.43888118, 0.46929864]]])</pre></div></li><li class='xr-var-item'><div class='xr-var-name'><span>mnkc_umeso</span></div><div class='xr-var-dims'>(latitude, longitude, time)</div><div class='xr-var-dtype'>float64</div><div class='xr-var-preview xr-preview'>0.79 0.7694 ... 0.4969 0.4923</div><input id='attrs-29b0df97-c1a4-4421-9b22-1507d2e0a257' class='xr-var-attrs-in' type='checkbox' ><label for='attrs-29b0df97-c1a4-4421-9b22-1507d2e0a257' title='Show/Hide attributes'><svg class='icon xr-icon-file-text2'><use xlink:href='#icon-file-text2'></use></svg></label><input id='data-04aad228-f4eb-4a1a-805e-5178028e266c' class='xr-var-data-in' type='checkbox'><label for='data-04aad228-f4eb-4a1a-805e-5178028e266c' title='Show/Hide data repr'><svg class='icon xr-icon-database'><use xlink:href='#icon-database'></use></svg></label><div class='xr-var-attrs'><dl class='xr-attrs'><dt><span>carbon_to_wet_weight_conversion_factor :</span></dt><dd>11.9</dd><dt><span>day_layer :</span></dt><dd>upper mesopelagic (2)</dd><dt><span>night_layer :</span></dt><dd>upper mesopelagic (2)</dd><dt><span>standard_name :</span></dt><dd>mass_content_of_upper_mesopelagic_micronekton_expressed_as_wet_weight_in_sea_water</dd><dt><span>units :</span></dt><dd>g m-2</dd></dl></div><div class='xr-var-data'><pre>array([[[0.79004582, 0.76943593, 0.72363619, ..., 0.49921747,\n",
       "         0.49692749, 0.49234751]]])</pre></div></li><li class='xr-var-item'><div class='xr-var-name'><span>npp</span></div><div class='xr-var-dims'>(latitude, longitude, time)</div><div class='xr-var-dtype'>float64</div><div class='xr-var-preview xr-preview'>221.1 337.0 321.6 ... 366.3 369.3</div><input id='attrs-8e1a4876-0195-47d9-be18-447e7536f9f2' class='xr-var-attrs-in' type='checkbox' ><label for='attrs-8e1a4876-0195-47d9-be18-447e7536f9f2' title='Show/Hide attributes'><svg class='icon xr-icon-file-text2'><use xlink:href='#icon-file-text2'></use></svg></label><input id='data-b82f0c39-7f50-4d48-a0b0-e4f25bf34be3' class='xr-var-data-in' type='checkbox'><label for='data-b82f0c39-7f50-4d48-a0b0-e4f25bf34be3' title='Show/Hide data repr'><svg class='icon xr-icon-database'><use xlink:href='#icon-database'></use></svg></label><div class='xr-var-attrs'><dl class='xr-attrs'><dt><span>standard_name :</span></dt><dd>net_primary_productivity_of_biomass_expressed_as_carbon_in_sea_water</dd><dt><span>units :</span></dt><dd>mg m-2 day-1</dd></dl></div><div class='xr-var-data'><pre>array([[[221.08138754, 337.03669756, 321.60437084, ..., 299.04124489,\n",
       "         366.30490339, 369.31154635]]])</pre></div></li><li class='xr-var-item'><div class='xr-var-name'><span>pelagic_layer_depth</span></div><div class='xr-var-dims'>(latitude, longitude, time, depth)</div><div class='xr-var-dtype'>float64</div><div class='xr-var-preview xr-preview'>107.4 322.3 752.1 ... 319.3 745.0</div><input id='attrs-2dcbfacb-c37b-4a6e-b60e-2d849bd3a24a' class='xr-var-attrs-in' type='checkbox' ><label for='attrs-2dcbfacb-c37b-4a6e-b60e-2d849bd3a24a' title='Show/Hide attributes'><svg class='icon xr-icon-file-text2'><use xlink:href='#icon-file-text2'></use></svg></label><input id='data-1662bec3-5dff-4db1-8b51-e419bb8fad0e' class='xr-var-data-in' type='checkbox'><label for='data-1662bec3-5dff-4db1-8b51-e419bb8fad0e' title='Show/Hide data repr'><svg class='icon xr-icon-database'><use xlink:href='#icon-database'></use></svg></label><div class='xr-var-attrs'><dl class='xr-attrs'><dt><span>standard_name :</span></dt><dd>sea_water_pelagic_layer_bottom_depth</dd><dt><span>units :</span></dt><dd>m</dd></dl></div><div class='xr-var-data'><pre>array([[[[107.43817319, 322.32573916, 752.10421236],\n",
       "         [107.62027139, 322.87203375, 753.37555848],\n",
       "         [111.36080222, 334.06689626, 779.4974612 ],\n",
       "         ...,\n",
       "         [115.44047007, 346.32093543, 808.07685426],\n",
       "         [105.89785634, 317.68808235, 741.27521687],\n",
       "         [106.43078592, 319.28520047, 745.00071208]]]])</pre></div></li><li class='xr-var-item'><div class='xr-var-name'><span>zeu</span></div><div class='xr-var-dims'>(latitude, longitude, time)</div><div class='xr-var-dtype'>float64</div><div class='xr-var-preview xr-preview'>71.63 71.75 74.24 ... 70.6 70.95</div><input id='attrs-eab6aefb-dd9e-4a49-98ae-91cac2c5750e' class='xr-var-attrs-in' type='checkbox' ><label for='attrs-eab6aefb-dd9e-4a49-98ae-91cac2c5750e' title='Show/Hide attributes'><svg class='icon xr-icon-file-text2'><use xlink:href='#icon-file-text2'></use></svg></label><input id='data-d473e9ad-ae4c-4be6-ba5f-924511098647' class='xr-var-data-in' type='checkbox'><label for='data-d473e9ad-ae4c-4be6-ba5f-924511098647' title='Show/Hide data repr'><svg class='icon xr-icon-database'><use xlink:href='#icon-database'></use></svg></label><div class='xr-var-attrs'><dl class='xr-attrs'><dt><span>standard_name :</span></dt><dd>euphotic_zone_depth</dd><dt><span>units :</span></dt><dd>m</dd></dl></div><div class='xr-var-data'><pre>array([[[71.62940714, 71.75043408, 74.23767516, ..., 76.96009359,\n",
       "         70.59792757, 70.95241271]]])</pre></div></li><li class='xr-var-item'><div class='xr-var-name'><span>zooc</span></div><div class='xr-var-dims'>(latitude, longitude, time)</div><div class='xr-var-dtype'>float64</div><div class='xr-var-preview xr-preview'>0.2527 0.2593 ... 0.2575 0.2643</div><input id='attrs-e76528d2-06c6-4331-b542-9d9877f90442' class='xr-var-attrs-in' type='checkbox' ><label for='attrs-e76528d2-06c6-4331-b542-9d9877f90442' title='Show/Hide attributes'><svg class='icon xr-icon-file-text2'><use xlink:href='#icon-file-text2'></use></svg></label><input id='data-33f4c119-920f-482b-afc9-01fa2596790a' class='xr-var-data-in' type='checkbox'><label for='data-33f4c119-920f-482b-afc9-01fa2596790a' title='Show/Hide data repr'><svg class='icon xr-icon-database'><use xlink:href='#icon-database'></use></svg></label><div class='xr-var-attrs'><dl class='xr-attrs'><dt><span>standard_name :</span></dt><dd>mass_content_of_zooplankton_expressed_as_carbon_in_sea_water</dd><dt><span>units :</span></dt><dd>g m-2</dd></dl></div><div class='xr-var-data'><pre>array([[[0.25270119, 0.259278  , 0.26459003, ..., 0.25093051,\n",
       "         0.25750732, 0.26433708]]])</pre></div></li></ul></div></li><li class='xr-section-item'><input id='section-280ce1a6-b466-4edb-96d2-39746512994f' class='xr-section-summary-in' type='checkbox'  ><label for='section-280ce1a6-b466-4edb-96d2-39746512994f' class='xr-section-summary' >Indexes: <span>(4)</span></label><div class='xr-section-inline-details'></div><div class='xr-section-details'><ul class='xr-var-list'><li class='xr-var-item'><div class='xr-index-name'><div>depth</div></div><div class='xr-index-preview'>PandasIndex</div><input type='checkbox' disabled/><label></label><input id='index-f61003e7-7d17-4e9a-8c9e-140a240fcbfe' class='xr-index-data-in' type='checkbox'/><label for='index-f61003e7-7d17-4e9a-8c9e-140a240fcbfe' title='Show/Hide index repr'><svg class='icon xr-icon-database'><use xlink:href='#icon-database'></use></svg></label><div class='xr-index-data'><pre>PandasIndex(Index([0, 1, 2], dtype=&#x27;int64&#x27;, name=&#x27;depth&#x27;))</pre></div></li><li class='xr-var-item'><div class='xr-index-name'><div>latitude</div></div><div class='xr-index-preview'>PandasIndex</div><input type='checkbox' disabled/><label></label><input id='index-03f8491f-6cfc-4205-8142-a4ac41a82c17' class='xr-index-data-in' type='checkbox'/><label for='index-03f8491f-6cfc-4205-8142-a4ac41a82c17' title='Show/Hide index repr'><svg class='icon xr-icon-database'><use xlink:href='#icon-database'></use></svg></label><div class='xr-index-data'><pre>PandasIndex(Index([22.75], dtype=&#x27;float64&#x27;, name=&#x27;latitude&#x27;))</pre></div></li><li class='xr-var-item'><div class='xr-index-name'><div>longitude</div></div><div class='xr-index-preview'>PandasIndex</div><input type='checkbox' disabled/><label></label><input id='index-14cecb69-48b3-41f8-b06d-f8fbe382f9f5' class='xr-index-data-in' type='checkbox'/><label for='index-14cecb69-48b3-41f8-b06d-f8fbe382f9f5' title='Show/Hide index repr'><svg class='icon xr-icon-database'><use xlink:href='#icon-database'></use></svg></label><div class='xr-index-data'><pre>PandasIndex(Index([-158], dtype=&#x27;int64&#x27;, name=&#x27;longitude&#x27;))</pre></div></li><li class='xr-var-item'><div class='xr-index-name'><div>time</div></div><div class='xr-index-preview'>PandasIndex</div><input type='checkbox' disabled/><label></label><input id='index-f9ed2a23-3a88-4a8c-9f6c-263a9202d4fd' class='xr-index-data-in' type='checkbox'/><label for='index-f9ed2a23-3a88-4a8c-9f6c-263a9202d4fd' title='Show/Hide index repr'><svg class='icon xr-icon-database'><use xlink:href='#icon-database'></use></svg></label><div class='xr-index-data'><pre>PandasIndex(DatetimeIndex([&#x27;2005-01-01&#x27;, &#x27;2005-01-02&#x27;, &#x27;2005-01-03&#x27;, &#x27;2005-01-04&#x27;,\n",
       "               &#x27;2005-01-05&#x27;, &#x27;2005-01-06&#x27;, &#x27;2005-01-07&#x27;, &#x27;2005-01-08&#x27;,\n",
       "               &#x27;2005-01-09&#x27;, &#x27;2005-01-10&#x27;,\n",
       "               ...\n",
       "               &#x27;2014-12-23&#x27;, &#x27;2014-12-24&#x27;, &#x27;2014-12-25&#x27;, &#x27;2014-12-26&#x27;,\n",
       "               &#x27;2014-12-27&#x27;, &#x27;2014-12-28&#x27;, &#x27;2014-12-29&#x27;, &#x27;2014-12-30&#x27;,\n",
       "               &#x27;2014-12-31&#x27;, &#x27;2015-01-01&#x27;],\n",
       "              dtype=&#x27;datetime64[ns]&#x27;, name=&#x27;time&#x27;, length=3653, freq=None))</pre></div></li></ul></div></li><li class='xr-section-item'><input id='section-f3f67443-542f-4e05-9c19-549109f2be7f' class='xr-section-summary-in' type='checkbox'  checked><label for='section-f3f67443-542f-4e05-9c19-549109f2be7f' class='xr-section-summary' >Attributes: <span>(6)</span></label><div class='xr-section-inline-details'></div><div class='xr-section-details'><dl class='xr-attrs'><dt><span>Conventions :</span></dt><dd>CF-1.7</dd><dt><span>history :</span></dt><dd>Created on 2024-10-17</dd><dt><span>institution :</span></dt><dd>CLS</dd><dt><span>references :</span></dt><dd>http://www.cls.fr; http://www.seapodym.eu</dd><dt><span>source :</span></dt><dd>SEAPODYM-LMTL 3.0.0</dd><dt><span>title :</span></dt><dd>Global ocean low and mid trophic levels biomass content hindcast</dd></dl></div></li></ul></div></div>"
      ],
      "text/plain": [
       "<xarray.Dataset> Size: 643kB\n",
       "Dimensions:              (latitude: 1, longitude: 1, time: 3653, depth: 3)\n",
       "Coordinates:\n",
       "  * depth                (depth) int64 24B 0 1 2\n",
       "  * latitude             (latitude) float64 8B 22.75\n",
       "  * longitude            (longitude) int64 8B -158\n",
       "  * time                 (time) datetime64[ns] 29kB 2005-01-01 ... 2015-01-01\n",
       "Data variables: (12/13)\n",
       "    T                    (latitude, longitude, time, depth) float64 88kB 24.7...\n",
       "    U                    (latitude, longitude, time, depth) float64 88kB -0.0...\n",
       "    V                    (latitude, longitude, time, depth) float64 88kB 0.15...\n",
       "    mnkc_epi             (latitude, longitude, time) float64 29kB 0.2904 ... ...\n",
       "    mnkc_hmlmeso         (latitude, longitude, time) float64 29kB 0.8233 ... ...\n",
       "    mnkc_lmeso           (latitude, longitude, time) float64 29kB 2.403 ... 1...\n",
       "    ...                   ...\n",
       "    mnkc_mumeso          (latitude, longitude, time) float64 29kB 0.5779 ... ...\n",
       "    mnkc_umeso           (latitude, longitude, time) float64 29kB 0.79 ... 0....\n",
       "    npp                  (latitude, longitude, time) float64 29kB 221.1 ... 3...\n",
       "    pelagic_layer_depth  (latitude, longitude, time, depth) float64 88kB 107....\n",
       "    zeu                  (latitude, longitude, time) float64 29kB 71.63 ... 7...\n",
       "    zooc                 (latitude, longitude, time) float64 29kB 0.2527 ... ...\n",
       "Attributes:\n",
       "    Conventions:  CF-1.7\n",
       "    history:      Created on 2024-10-17\n",
       "    institution:  CLS\n",
       "    references:   http://www.cls.fr; http://www.seapodym.eu\n",
       "    source:       SEAPODYM-LMTL 3.0.0\n",
       "    title:        Global ocean low and mid trophic levels biomass content hin..."
      ]
     },
     "execution_count": 5,
     "metadata": {},
     "output_type": "execute_result"
    }
   ],
   "source": [
    "data"
   ]
  },
  {
   "cell_type": "code",
   "execution_count": 6,
   "metadata": {},
   "outputs": [
    {
     "data": {
      "text/html": [
       "<div><svg style=\"position: absolute; width: 0; height: 0; overflow: hidden\">\n",
       "<defs>\n",
       "<symbol id=\"icon-database\" viewBox=\"0 0 32 32\">\n",
       "<path d=\"M16 0c-8.837 0-16 2.239-16 5v4c0 2.761 7.163 5 16 5s16-2.239 16-5v-4c0-2.761-7.163-5-16-5z\"></path>\n",
       "<path d=\"M16 17c-8.837 0-16-2.239-16-5v6c0 2.761 7.163 5 16 5s16-2.239 16-5v-6c0 2.761-7.163 5-16 5z\"></path>\n",
       "<path d=\"M16 26c-8.837 0-16-2.239-16-5v6c0 2.761 7.163 5 16 5s16-2.239 16-5v-6c0 2.761-7.163 5-16 5z\"></path>\n",
       "</symbol>\n",
       "<symbol id=\"icon-file-text2\" viewBox=\"0 0 32 32\">\n",
       "<path d=\"M28.681 7.159c-0.694-0.947-1.662-2.053-2.724-3.116s-2.169-2.030-3.116-2.724c-1.612-1.182-2.393-1.319-2.841-1.319h-15.5c-1.378 0-2.5 1.121-2.5 2.5v27c0 1.378 1.122 2.5 2.5 2.5h23c1.378 0 2.5-1.122 2.5-2.5v-19.5c0-0.448-0.137-1.23-1.319-2.841zM24.543 5.457c0.959 0.959 1.712 1.825 2.268 2.543h-4.811v-4.811c0.718 0.556 1.584 1.309 2.543 2.268zM28 29.5c0 0.271-0.229 0.5-0.5 0.5h-23c-0.271 0-0.5-0.229-0.5-0.5v-27c0-0.271 0.229-0.5 0.5-0.5 0 0 15.499-0 15.5 0v7c0 0.552 0.448 1 1 1h7v19.5z\"></path>\n",
       "<path d=\"M23 26h-14c-0.552 0-1-0.448-1-1s0.448-1 1-1h14c0.552 0 1 0.448 1 1s-0.448 1-1 1z\"></path>\n",
       "<path d=\"M23 22h-14c-0.552 0-1-0.448-1-1s0.448-1 1-1h14c0.552 0 1 0.448 1 1s-0.448 1-1 1z\"></path>\n",
       "<path d=\"M23 18h-14c-0.552 0-1-0.448-1-1s0.448-1 1-1h14c0.552 0 1 0.448 1 1s-0.448 1-1 1z\"></path>\n",
       "</symbol>\n",
       "</defs>\n",
       "</svg>\n",
       "<style>/* CSS stylesheet for displaying xarray objects in jupyterlab.\n",
       " *\n",
       " */\n",
       "\n",
       ":root {\n",
       "  --xr-font-color0: var(--jp-content-font-color0, rgba(0, 0, 0, 1));\n",
       "  --xr-font-color2: var(--jp-content-font-color2, rgba(0, 0, 0, 0.54));\n",
       "  --xr-font-color3: var(--jp-content-font-color3, rgba(0, 0, 0, 0.38));\n",
       "  --xr-border-color: var(--jp-border-color2, #e0e0e0);\n",
       "  --xr-disabled-color: var(--jp-layout-color3, #bdbdbd);\n",
       "  --xr-background-color: var(--jp-layout-color0, white);\n",
       "  --xr-background-color-row-even: var(--jp-layout-color1, white);\n",
       "  --xr-background-color-row-odd: var(--jp-layout-color2, #eeeeee);\n",
       "}\n",
       "\n",
       "html[theme=\"dark\"],\n",
       "html[data-theme=\"dark\"],\n",
       "body[data-theme=\"dark\"],\n",
       "body.vscode-dark {\n",
       "  --xr-font-color0: rgba(255, 255, 255, 1);\n",
       "  --xr-font-color2: rgba(255, 255, 255, 0.54);\n",
       "  --xr-font-color3: rgba(255, 255, 255, 0.38);\n",
       "  --xr-border-color: #1f1f1f;\n",
       "  --xr-disabled-color: #515151;\n",
       "  --xr-background-color: #111111;\n",
       "  --xr-background-color-row-even: #111111;\n",
       "  --xr-background-color-row-odd: #313131;\n",
       "}\n",
       "\n",
       ".xr-wrap {\n",
       "  display: block !important;\n",
       "  min-width: 300px;\n",
       "  max-width: 700px;\n",
       "}\n",
       "\n",
       ".xr-text-repr-fallback {\n",
       "  /* fallback to plain text repr when CSS is not injected (untrusted notebook) */\n",
       "  display: none;\n",
       "}\n",
       "\n",
       ".xr-header {\n",
       "  padding-top: 6px;\n",
       "  padding-bottom: 6px;\n",
       "  margin-bottom: 4px;\n",
       "  border-bottom: solid 1px var(--xr-border-color);\n",
       "}\n",
       "\n",
       ".xr-header > div,\n",
       ".xr-header > ul {\n",
       "  display: inline;\n",
       "  margin-top: 0;\n",
       "  margin-bottom: 0;\n",
       "}\n",
       "\n",
       ".xr-obj-type,\n",
       ".xr-array-name {\n",
       "  margin-left: 2px;\n",
       "  margin-right: 10px;\n",
       "}\n",
       "\n",
       ".xr-obj-type {\n",
       "  color: var(--xr-font-color2);\n",
       "}\n",
       "\n",
       ".xr-sections {\n",
       "  padding-left: 0 !important;\n",
       "  display: grid;\n",
       "  grid-template-columns: 150px auto auto 1fr 0 20px 0 20px;\n",
       "}\n",
       "\n",
       ".xr-section-item {\n",
       "  display: contents;\n",
       "}\n",
       "\n",
       ".xr-section-item input {\n",
       "  display: inline-block;\n",
       "  opacity: 0;\n",
       "  height: 0;\n",
       "}\n",
       "\n",
       ".xr-section-item input + label {\n",
       "  color: var(--xr-disabled-color);\n",
       "}\n",
       "\n",
       ".xr-section-item input:enabled + label {\n",
       "  cursor: pointer;\n",
       "  color: var(--xr-font-color2);\n",
       "}\n",
       "\n",
       ".xr-section-item input:focus + label {\n",
       "  border: 2px solid var(--xr-font-color0);\n",
       "}\n",
       "\n",
       ".xr-section-item input:enabled + label:hover {\n",
       "  color: var(--xr-font-color0);\n",
       "}\n",
       "\n",
       ".xr-section-summary {\n",
       "  grid-column: 1;\n",
       "  color: var(--xr-font-color2);\n",
       "  font-weight: 500;\n",
       "}\n",
       "\n",
       ".xr-section-summary > span {\n",
       "  display: inline-block;\n",
       "  padding-left: 0.5em;\n",
       "}\n",
       "\n",
       ".xr-section-summary-in:disabled + label {\n",
       "  color: var(--xr-font-color2);\n",
       "}\n",
       "\n",
       ".xr-section-summary-in + label:before {\n",
       "  display: inline-block;\n",
       "  content: \"►\";\n",
       "  font-size: 11px;\n",
       "  width: 15px;\n",
       "  text-align: center;\n",
       "}\n",
       "\n",
       ".xr-section-summary-in:disabled + label:before {\n",
       "  color: var(--xr-disabled-color);\n",
       "}\n",
       "\n",
       ".xr-section-summary-in:checked + label:before {\n",
       "  content: \"▼\";\n",
       "}\n",
       "\n",
       ".xr-section-summary-in:checked + label > span {\n",
       "  display: none;\n",
       "}\n",
       "\n",
       ".xr-section-summary,\n",
       ".xr-section-inline-details {\n",
       "  padding-top: 4px;\n",
       "  padding-bottom: 4px;\n",
       "}\n",
       "\n",
       ".xr-section-inline-details {\n",
       "  grid-column: 2 / -1;\n",
       "}\n",
       "\n",
       ".xr-section-details {\n",
       "  display: none;\n",
       "  grid-column: 1 / -1;\n",
       "  margin-bottom: 5px;\n",
       "}\n",
       "\n",
       ".xr-section-summary-in:checked ~ .xr-section-details {\n",
       "  display: contents;\n",
       "}\n",
       "\n",
       ".xr-array-wrap {\n",
       "  grid-column: 1 / -1;\n",
       "  display: grid;\n",
       "  grid-template-columns: 20px auto;\n",
       "}\n",
       "\n",
       ".xr-array-wrap > label {\n",
       "  grid-column: 1;\n",
       "  vertical-align: top;\n",
       "}\n",
       "\n",
       ".xr-preview {\n",
       "  color: var(--xr-font-color3);\n",
       "}\n",
       "\n",
       ".xr-array-preview,\n",
       ".xr-array-data {\n",
       "  padding: 0 5px !important;\n",
       "  grid-column: 2;\n",
       "}\n",
       "\n",
       ".xr-array-data,\n",
       ".xr-array-in:checked ~ .xr-array-preview {\n",
       "  display: none;\n",
       "}\n",
       "\n",
       ".xr-array-in:checked ~ .xr-array-data,\n",
       ".xr-array-preview {\n",
       "  display: inline-block;\n",
       "}\n",
       "\n",
       ".xr-dim-list {\n",
       "  display: inline-block !important;\n",
       "  list-style: none;\n",
       "  padding: 0 !important;\n",
       "  margin: 0;\n",
       "}\n",
       "\n",
       ".xr-dim-list li {\n",
       "  display: inline-block;\n",
       "  padding: 0;\n",
       "  margin: 0;\n",
       "}\n",
       "\n",
       ".xr-dim-list:before {\n",
       "  content: \"(\";\n",
       "}\n",
       "\n",
       ".xr-dim-list:after {\n",
       "  content: \")\";\n",
       "}\n",
       "\n",
       ".xr-dim-list li:not(:last-child):after {\n",
       "  content: \",\";\n",
       "  padding-right: 5px;\n",
       "}\n",
       "\n",
       ".xr-has-index {\n",
       "  font-weight: bold;\n",
       "}\n",
       "\n",
       ".xr-var-list,\n",
       ".xr-var-item {\n",
       "  display: contents;\n",
       "}\n",
       "\n",
       ".xr-var-item > div,\n",
       ".xr-var-item label,\n",
       ".xr-var-item > .xr-var-name span {\n",
       "  background-color: var(--xr-background-color-row-even);\n",
       "  margin-bottom: 0;\n",
       "}\n",
       "\n",
       ".xr-var-item > .xr-var-name:hover span {\n",
       "  padding-right: 5px;\n",
       "}\n",
       "\n",
       ".xr-var-list > li:nth-child(odd) > div,\n",
       ".xr-var-list > li:nth-child(odd) > label,\n",
       ".xr-var-list > li:nth-child(odd) > .xr-var-name span {\n",
       "  background-color: var(--xr-background-color-row-odd);\n",
       "}\n",
       "\n",
       ".xr-var-name {\n",
       "  grid-column: 1;\n",
       "}\n",
       "\n",
       ".xr-var-dims {\n",
       "  grid-column: 2;\n",
       "}\n",
       "\n",
       ".xr-var-dtype {\n",
       "  grid-column: 3;\n",
       "  text-align: right;\n",
       "  color: var(--xr-font-color2);\n",
       "}\n",
       "\n",
       ".xr-var-preview {\n",
       "  grid-column: 4;\n",
       "}\n",
       "\n",
       ".xr-index-preview {\n",
       "  grid-column: 2 / 5;\n",
       "  color: var(--xr-font-color2);\n",
       "}\n",
       "\n",
       ".xr-var-name,\n",
       ".xr-var-dims,\n",
       ".xr-var-dtype,\n",
       ".xr-preview,\n",
       ".xr-attrs dt {\n",
       "  white-space: nowrap;\n",
       "  overflow: hidden;\n",
       "  text-overflow: ellipsis;\n",
       "  padding-right: 10px;\n",
       "}\n",
       "\n",
       ".xr-var-name:hover,\n",
       ".xr-var-dims:hover,\n",
       ".xr-var-dtype:hover,\n",
       ".xr-attrs dt:hover {\n",
       "  overflow: visible;\n",
       "  width: auto;\n",
       "  z-index: 1;\n",
       "}\n",
       "\n",
       ".xr-var-attrs,\n",
       ".xr-var-data,\n",
       ".xr-index-data {\n",
       "  display: none;\n",
       "  background-color: var(--xr-background-color) !important;\n",
       "  padding-bottom: 5px !important;\n",
       "}\n",
       "\n",
       ".xr-var-attrs-in:checked ~ .xr-var-attrs,\n",
       ".xr-var-data-in:checked ~ .xr-var-data,\n",
       ".xr-index-data-in:checked ~ .xr-index-data {\n",
       "  display: block;\n",
       "}\n",
       "\n",
       ".xr-var-data > table {\n",
       "  float: right;\n",
       "}\n",
       "\n",
       ".xr-var-name span,\n",
       ".xr-var-data,\n",
       ".xr-index-name div,\n",
       ".xr-index-data,\n",
       ".xr-attrs {\n",
       "  padding-left: 25px !important;\n",
       "}\n",
       "\n",
       ".xr-attrs,\n",
       ".xr-var-attrs,\n",
       ".xr-var-data,\n",
       ".xr-index-data {\n",
       "  grid-column: 1 / -1;\n",
       "}\n",
       "\n",
       "dl.xr-attrs {\n",
       "  padding: 0;\n",
       "  margin: 0;\n",
       "  display: grid;\n",
       "  grid-template-columns: 125px auto;\n",
       "}\n",
       "\n",
       ".xr-attrs dt,\n",
       ".xr-attrs dd {\n",
       "  padding: 0;\n",
       "  margin: 0;\n",
       "  float: left;\n",
       "  padding-right: 10px;\n",
       "  width: auto;\n",
       "}\n",
       "\n",
       ".xr-attrs dt {\n",
       "  font-weight: normal;\n",
       "  grid-column: 1;\n",
       "}\n",
       "\n",
       ".xr-attrs dt:hover span {\n",
       "  display: inline-block;\n",
       "  background: var(--xr-background-color);\n",
       "  padding-right: 10px;\n",
       "}\n",
       "\n",
       ".xr-attrs dd {\n",
       "  grid-column: 2;\n",
       "  white-space: pre-wrap;\n",
       "  word-break: break-all;\n",
       "}\n",
       "\n",
       ".xr-icon-database,\n",
       ".xr-icon-file-text2,\n",
       ".xr-no-icon {\n",
       "  display: inline-block;\n",
       "  vertical-align: middle;\n",
       "  width: 1em;\n",
       "  height: 1.5em !important;\n",
       "  stroke-width: 0;\n",
       "  stroke: currentColor;\n",
       "  fill: currentColor;\n",
       "}\n",
       "</style><pre class='xr-text-repr-fallback'>&lt;xarray.Dataset&gt; Size: 58kB\n",
       "Dimensions:    (time: 3653, latitude: 1, longitude: 1)\n",
       "Coordinates:\n",
       "  * latitude   (latitude) float64 8B 22.75\n",
       "  * longitude  (longitude) int64 8B -158\n",
       "  * time       (time) datetime64[ns] 29kB 2005-01-01 2005-01-02 ... 2015-01-01\n",
       "Data variables:\n",
       "    CAFE       (time, latitude, longitude) float64 29kB 349.7 353.3 ... 332.5\n",
       "Attributes:\n",
       "    Conventions:  CF-1.8\n",
       "    History:      2023-01-02 08:55:09.514113 Python\n",
       "    Keywords:     Primary Production\n",
       "    PI Contact:   tryankeogh@csir.co.za\n",
       "    PI Name:      Thomas Ryan-Keogh</pre><div class='xr-wrap' style='display:none'><div class='xr-header'><div class='xr-obj-type'>xarray.Dataset</div></div><ul class='xr-sections'><li class='xr-section-item'><input id='section-de6867b1-8a94-4dd5-a0d0-e2e801e90b4a' class='xr-section-summary-in' type='checkbox' disabled ><label for='section-de6867b1-8a94-4dd5-a0d0-e2e801e90b4a' class='xr-section-summary'  title='Expand/collapse section'>Dimensions:</label><div class='xr-section-inline-details'><ul class='xr-dim-list'><li><span class='xr-has-index'>time</span>: 3653</li><li><span class='xr-has-index'>latitude</span>: 1</li><li><span class='xr-has-index'>longitude</span>: 1</li></ul></div><div class='xr-section-details'></div></li><li class='xr-section-item'><input id='section-ec74577d-a79a-44c1-8900-e7587dc27d6b' class='xr-section-summary-in' type='checkbox'  checked><label for='section-ec74577d-a79a-44c1-8900-e7587dc27d6b' class='xr-section-summary' >Coordinates: <span>(3)</span></label><div class='xr-section-inline-details'></div><div class='xr-section-details'><ul class='xr-var-list'><li class='xr-var-item'><div class='xr-var-name'><span class='xr-has-index'>latitude</span></div><div class='xr-var-dims'>(latitude)</div><div class='xr-var-dtype'>float64</div><div class='xr-var-preview xr-preview'>22.75</div><input id='attrs-21727a93-b34b-4adf-b05d-a9f81c397499' class='xr-var-attrs-in' type='checkbox' ><label for='attrs-21727a93-b34b-4adf-b05d-a9f81c397499' title='Show/Hide attributes'><svg class='icon xr-icon-file-text2'><use xlink:href='#icon-file-text2'></use></svg></label><input id='data-9e65b88a-e425-4620-96bf-b36788b3f976' class='xr-var-data-in' type='checkbox'><label for='data-9e65b88a-e425-4620-96bf-b36788b3f976' title='Show/Hide data repr'><svg class='icon xr-icon-database'><use xlink:href='#icon-database'></use></svg></label><div class='xr-var-attrs'><dl class='xr-attrs'><dt><span>axis :</span></dt><dd>Y</dd><dt><span>long_name :</span></dt><dd>latitude</dd><dt><span>units :</span></dt><dd>degrees_north</dd></dl></div><div class='xr-var-data'><pre>array([22.75])</pre></div></li><li class='xr-var-item'><div class='xr-var-name'><span class='xr-has-index'>longitude</span></div><div class='xr-var-dims'>(longitude)</div><div class='xr-var-dtype'>int64</div><div class='xr-var-preview xr-preview'>-158</div><input id='attrs-8832947d-6d7f-4d07-b5fe-4850720bbed8' class='xr-var-attrs-in' type='checkbox' ><label for='attrs-8832947d-6d7f-4d07-b5fe-4850720bbed8' title='Show/Hide attributes'><svg class='icon xr-icon-file-text2'><use xlink:href='#icon-file-text2'></use></svg></label><input id='data-18feec81-b47e-4268-9f2a-f5b1f2bc4f8d' class='xr-var-data-in' type='checkbox'><label for='data-18feec81-b47e-4268-9f2a-f5b1f2bc4f8d' title='Show/Hide data repr'><svg class='icon xr-icon-database'><use xlink:href='#icon-database'></use></svg></label><div class='xr-var-attrs'><dl class='xr-attrs'><dt><span>axis :</span></dt><dd>X</dd><dt><span>long_name :</span></dt><dd>longitude</dd><dt><span>units :</span></dt><dd>degrees_east</dd></dl></div><div class='xr-var-data'><pre>array([-158])</pre></div></li><li class='xr-var-item'><div class='xr-var-name'><span class='xr-has-index'>time</span></div><div class='xr-var-dims'>(time)</div><div class='xr-var-dtype'>datetime64[ns]</div><div class='xr-var-preview xr-preview'>2005-01-01 ... 2015-01-01</div><input id='attrs-35f6179a-5947-4f30-907b-142ff58d07b8' class='xr-var-attrs-in' type='checkbox' ><label for='attrs-35f6179a-5947-4f30-907b-142ff58d07b8' title='Show/Hide attributes'><svg class='icon xr-icon-file-text2'><use xlink:href='#icon-file-text2'></use></svg></label><input id='data-7a74e1ed-3910-4382-868a-9df99eb46f3d' class='xr-var-data-in' type='checkbox'><label for='data-7a74e1ed-3910-4382-868a-9df99eb46f3d' title='Show/Hide data repr'><svg class='icon xr-icon-database'><use xlink:href='#icon-database'></use></svg></label><div class='xr-var-attrs'><dl class='xr-attrs'><dt><span>format :</span></dt><dd>datetime64[ns]</dd><dt><span>long_name :</span></dt><dd>time</dd><dt><span>standard_name :</span></dt><dd>Time</dd><dt><span>axis :</span></dt><dd>T</dd></dl></div><div class='xr-var-data'><pre>array([&#x27;2005-01-01T00:00:00.000000000&#x27;, &#x27;2005-01-02T00:00:00.000000000&#x27;,\n",
       "       &#x27;2005-01-03T00:00:00.000000000&#x27;, ..., &#x27;2014-12-30T00:00:00.000000000&#x27;,\n",
       "       &#x27;2014-12-31T00:00:00.000000000&#x27;, &#x27;2015-01-01T00:00:00.000000000&#x27;],\n",
       "      dtype=&#x27;datetime64[ns]&#x27;)</pre></div></li></ul></div></li><li class='xr-section-item'><input id='section-dffa6572-fa54-421b-ae98-7f09e9da4e30' class='xr-section-summary-in' type='checkbox'  checked><label for='section-dffa6572-fa54-421b-ae98-7f09e9da4e30' class='xr-section-summary' >Data variables: <span>(1)</span></label><div class='xr-section-inline-details'></div><div class='xr-section-details'><ul class='xr-var-list'><li class='xr-var-item'><div class='xr-var-name'><span>CAFE</span></div><div class='xr-var-dims'>(time, latitude, longitude)</div><div class='xr-var-dtype'>float64</div><div class='xr-var-preview xr-preview'>349.7 353.3 357.0 ... 326.7 332.5</div><input id='attrs-ca7a14fe-7835-4bf2-a1bf-04c4654a673a' class='xr-var-attrs-in' type='checkbox' ><label for='attrs-ca7a14fe-7835-4bf2-a1bf-04c4654a673a' title='Show/Hide attributes'><svg class='icon xr-icon-file-text2'><use xlink:href='#icon-file-text2'></use></svg></label><input id='data-3d736fd1-94fe-4215-a67c-a24a1a8c7a7f' class='xr-var-data-in' type='checkbox'><label for='data-3d736fd1-94fe-4215-a67c-a24a1a8c7a7f' title='Show/Hide data repr'><svg class='icon xr-icon-database'><use xlink:href='#icon-database'></use></svg></label><div class='xr-var-attrs'><dl class='xr-attrs'><dt><span>adg wavelength :</span></dt><dd>443nm</dd><dt><span>aph wavelength :</span></dt><dd>443nm</dd><dt><span>bbp wavelength :</span></dt><dd>443nm</dd><dt><span>doi :</span></dt><dd>10.1002/2016GB005521</dd><dt><span>long_name :</span></dt><dd>primary_production_using_CAFE_model</dd><dt><span>mld_criteria :</span></dt><dd>0.030 kg m^-3</dd><dt><span>mld_product :</span></dt><dd>HADLEY</dd><dt><span>reference :</span></dt><dd>Silsbe_et_al_2016</dd><dt><span>remote_sensing_data_product :</span></dt><dd>OCCCIv6</dd><dt><span>resolution :</span></dt><dd>0.00f; // float</dd><dt><span>standard_name :</span></dt><dd>NPP</dd><dt><span>units :</span></dt><dd>mg m-2 day-1</dd><dt><span>weight :</span></dt><dd>carbon</dd></dl></div><div class='xr-var-data'><pre>array([[[349.6751709 ]],\n",
       "\n",
       "       [[353.32577896]],\n",
       "\n",
       "       [[356.97638702]],\n",
       "\n",
       "       ...,\n",
       "\n",
       "       [[320.846875  ]],\n",
       "\n",
       "       [[326.68381348]],\n",
       "\n",
       "       [[332.52075195]]])</pre></div></li></ul></div></li><li class='xr-section-item'><input id='section-5ca1ce39-79e8-40f1-a329-0c9ea05804cd' class='xr-section-summary-in' type='checkbox'  ><label for='section-5ca1ce39-79e8-40f1-a329-0c9ea05804cd' class='xr-section-summary' >Indexes: <span>(3)</span></label><div class='xr-section-inline-details'></div><div class='xr-section-details'><ul class='xr-var-list'><li class='xr-var-item'><div class='xr-index-name'><div>latitude</div></div><div class='xr-index-preview'>PandasIndex</div><input type='checkbox' disabled/><label></label><input id='index-590415af-030a-467f-b10f-5a1e6eb68de5' class='xr-index-data-in' type='checkbox'/><label for='index-590415af-030a-467f-b10f-5a1e6eb68de5' title='Show/Hide index repr'><svg class='icon xr-icon-database'><use xlink:href='#icon-database'></use></svg></label><div class='xr-index-data'><pre>PandasIndex(Index([22.75], dtype=&#x27;float64&#x27;, name=&#x27;latitude&#x27;))</pre></div></li><li class='xr-var-item'><div class='xr-index-name'><div>longitude</div></div><div class='xr-index-preview'>PandasIndex</div><input type='checkbox' disabled/><label></label><input id='index-461e99bb-0082-49b2-b0c5-87ec4200163f' class='xr-index-data-in' type='checkbox'/><label for='index-461e99bb-0082-49b2-b0c5-87ec4200163f' title='Show/Hide index repr'><svg class='icon xr-icon-database'><use xlink:href='#icon-database'></use></svg></label><div class='xr-index-data'><pre>PandasIndex(Index([-158], dtype=&#x27;int64&#x27;, name=&#x27;longitude&#x27;))</pre></div></li><li class='xr-var-item'><div class='xr-index-name'><div>time</div></div><div class='xr-index-preview'>PandasIndex</div><input type='checkbox' disabled/><label></label><input id='index-98bcd614-7cb2-4913-9ea5-c0e6f08a0f16' class='xr-index-data-in' type='checkbox'/><label for='index-98bcd614-7cb2-4913-9ea5-c0e6f08a0f16' title='Show/Hide index repr'><svg class='icon xr-icon-database'><use xlink:href='#icon-database'></use></svg></label><div class='xr-index-data'><pre>PandasIndex(DatetimeIndex([&#x27;2005-01-01&#x27;, &#x27;2005-01-02&#x27;, &#x27;2005-01-03&#x27;, &#x27;2005-01-04&#x27;,\n",
       "               &#x27;2005-01-05&#x27;, &#x27;2005-01-06&#x27;, &#x27;2005-01-07&#x27;, &#x27;2005-01-08&#x27;,\n",
       "               &#x27;2005-01-09&#x27;, &#x27;2005-01-10&#x27;,\n",
       "               ...\n",
       "               &#x27;2014-12-23&#x27;, &#x27;2014-12-24&#x27;, &#x27;2014-12-25&#x27;, &#x27;2014-12-26&#x27;,\n",
       "               &#x27;2014-12-27&#x27;, &#x27;2014-12-28&#x27;, &#x27;2014-12-29&#x27;, &#x27;2014-12-30&#x27;,\n",
       "               &#x27;2014-12-31&#x27;, &#x27;2015-01-01&#x27;],\n",
       "              dtype=&#x27;datetime64[ns]&#x27;, name=&#x27;time&#x27;, length=3653, freq=None))</pre></div></li></ul></div></li><li class='xr-section-item'><input id='section-bab83e2d-49c5-4e7f-b08e-d869bb3a1a17' class='xr-section-summary-in' type='checkbox'  checked><label for='section-bab83e2d-49c5-4e7f-b08e-d869bb3a1a17' class='xr-section-summary' >Attributes: <span>(5)</span></label><div class='xr-section-inline-details'></div><div class='xr-section-details'><dl class='xr-attrs'><dt><span>Conventions :</span></dt><dd>CF-1.8</dd><dt><span>History :</span></dt><dd>2023-01-02 08:55:09.514113 Python</dd><dt><span>Keywords :</span></dt><dd>Primary Production</dd><dt><span>PI Contact :</span></dt><dd>tryankeogh@csir.co.za</dd><dt><span>PI Name :</span></dt><dd>Thomas Ryan-Keogh</dd></dl></div></li></ul></div></div>"
      ],
      "text/plain": [
       "<xarray.Dataset> Size: 58kB\n",
       "Dimensions:    (time: 3653, latitude: 1, longitude: 1)\n",
       "Coordinates:\n",
       "  * latitude   (latitude) float64 8B 22.75\n",
       "  * longitude  (longitude) int64 8B -158\n",
       "  * time       (time) datetime64[ns] 29kB 2005-01-01 2005-01-02 ... 2015-01-01\n",
       "Data variables:\n",
       "    CAFE       (time, latitude, longitude) float64 29kB 349.7 353.3 ... 332.5\n",
       "Attributes:\n",
       "    Conventions:  CF-1.8\n",
       "    History:      2023-01-02 08:55:09.514113 Python\n",
       "    Keywords:     Primary Production\n",
       "    PI Contact:   tryankeogh@csir.co.za\n",
       "    PI Name:      Thomas Ryan-Keogh"
      ]
     },
     "execution_count": 6,
     "metadata": {},
     "output_type": "execute_result"
    }
   ],
   "source": [
    "cafe_npp"
   ]
  },
  {
   "cell_type": "code",
   "execution_count": 7,
   "metadata": {},
   "outputs": [
    {
     "name": "stderr",
     "output_type": "stream",
     "text": [
      "\u001b[38;5;226m2025-03-13 12:29:38,525 :: Seapodym ::  WARNING ::\n",
      "|\tCAFE unit is milligram / day / meter ** 2, it will be converted to kilogram / day / meter ** 2.\n",
      "\u001b[0m\n"
     ]
    }
   ],
   "source": [
    "forcing_parameter_initial = ForcingParameters(\n",
    "    temperature=ForcingUnit.from_dataset(forcing=data, name=\"T\", resolution=0.08333, timestep=1),\n",
    "    primary_production=ForcingUnit.from_dataset(cafe_npp, name=\"CAFE\", resolution=0.08333, timestep=1),\n",
    ")"
   ]
  },
  {
   "cell_type": "markdown",
   "metadata": {},
   "source": [
    "Generate initial conditions.\n"
   ]
  },
  {
   "cell_type": "code",
   "execution_count": 8,
   "metadata": {},
   "outputs": [],
   "source": [
    "fg_parameters = wrapper.FunctionalGroupGeneratorNoTransport(\n",
    "    [[0, 0, 0.1668, 10.38, -0.11, 150, -0.15]],\n",
    ")\n",
    "model = wrapper.model_generator_no_transport(\n",
    "    fg_parameters=fg_parameters,\n",
    "    forcing_parameters=forcing_parameter_initial,\n",
    "    kernel_parameters=KernelParameters(compute_initial_conditions=True),\n",
    ")\n",
    "model.run()\n",
    "initial_conditions = model.export_initial_conditions()"
   ]
  },
  {
   "cell_type": "markdown",
   "metadata": {},
   "source": [
    "Model generation used in sensibility analysis.\n"
   ]
  },
  {
   "cell_type": "code",
   "execution_count": 9,
   "metadata": {},
   "outputs": [
    {
     "name": "stderr",
     "output_type": "stream",
     "text": [
      "\u001b[38;5;226m2025-03-13 12:29:40,991 :: Seapodym ::  WARNING ::\n",
      "|\tCAFE unit is milligram / day / meter ** 2, it will be converted to kilogram / day / meter ** 2.\n",
      "\u001b[0m\n"
     ]
    }
   ],
   "source": [
    "FORCING_PARAMETERS = ForcingParameters(\n",
    "    temperature=ForcingUnit.from_dataset(data, name=\"T\", resolution=0.08333, timestep=1),\n",
    "    primary_production=ForcingUnit.from_dataset(cafe_npp, name=\"CAFE\", resolution=0.08333, timestep=1),\n",
    "    initial_condition_biomass=ForcingUnit.from_dataset(\n",
    "        initial_conditions, name=\"initial_condition_biomass\", resolution=0.08333, timestep=1\n",
    "    ),\n",
    "    initial_condition_production=ForcingUnit.from_dataset(\n",
    "        initial_conditions, name=\"initial_condition_production\", resolution=0.08333, timestep=1\n",
    "    ),\n",
    ")\n",
    "\n",
    "\n",
    "def wrapper_model_generator_no_transport(fg_parameters):\n",
    "    fg_parameters = wrapper.FunctionalGroupGeneratorNoTransport(np.array([fg_parameters]))\n",
    "    return wrapper.model_generator_no_transport(\n",
    "        fg_parameters=fg_parameters,\n",
    "        forcing_parameters=FORCING_PARAMETERS,\n",
    "    )"
   ]
  },
  {
   "cell_type": "code",
   "execution_count": 10,
   "metadata": {},
   "outputs": [],
   "source": [
    "model = wrapper_model_generator_no_transport([0, 0, 0.1668, 10.38, -0.11, 150, -0.15])\n",
    "model.run()"
   ]
  },
  {
   "cell_type": "code",
   "execution_count": 11,
   "metadata": {},
   "outputs": [
    {
     "data": {
      "text/plain": [
       "2.6084412623590297e-09"
      ]
     },
     "execution_count": 11,
     "metadata": {},
     "output_type": "execute_result"
    }
   ],
   "source": [
    "float(model.export_biomass().isel(functional_group=0, latitude=0, longitude=0).var().to_numpy())"
   ]
  },
  {
   "cell_type": "code",
   "execution_count": 12,
   "metadata": {},
   "outputs": [
    {
     "data": {
      "text/plain": [
       "2.6084412623590297e-09"
      ]
     },
     "execution_count": 12,
     "metadata": {},
     "output_type": "execute_result"
    }
   ],
   "source": [
    "np.var(model.export_biomass().isel(functional_group=0, latitude=0, longitude=0).to_numpy())"
   ]
  },
  {
   "cell_type": "markdown",
   "metadata": {},
   "source": [
    "Setup sensitivity analysis structure.\n"
   ]
  },
  {
   "cell_type": "code",
   "execution_count": 13,
   "metadata": {},
   "outputs": [],
   "source": [
    "sp = ProblemSpec(\n",
    "    {\n",
    "        \"names\": [\n",
    "            \"energy_transfert\",\n",
    "            \"tr_max\",\n",
    "            \"tr_rate\",\n",
    "            \"inv_lambda_max\",\n",
    "            \"inv_lambda_rate\",\n",
    "        ],\n",
    "        \"groups\": None,\n",
    "        \"bounds\": [\n",
    "            [0, 1],\n",
    "            [0.1, 50],\n",
    "            [-0.5, -0.0001],\n",
    "            [0.1, 500],\n",
    "            [-0.5, -0.0001],\n",
    "        ],\n",
    "        \"outputs\": [\"mean\", \"variance\"],\n",
    "    }\n",
    ")"
   ]
  },
  {
   "cell_type": "markdown",
   "metadata": {},
   "source": [
    "Create the cost function.\n"
   ]
  },
  {
   "cell_type": "code",
   "execution_count": 14,
   "metadata": {},
   "outputs": [],
   "source": [
    "@dask.delayed\n",
    "def cost_function(x: np.ndarray):\n",
    "    energy_transfert, tr_max, tr_rate, inv_lambda_max, inv_lambda_rate = x.T\n",
    "    fg_parameters = [\n",
    "        0,\n",
    "        0,\n",
    "        energy_transfert,\n",
    "        tr_max,\n",
    "        tr_rate,\n",
    "        inv_lambda_max,\n",
    "        inv_lambda_rate,\n",
    "    ]\n",
    "    model = wrapper_model_generator_no_transport(fg_parameters)\n",
    "\n",
    "    model.run()\n",
    "    biomass_forcing = model.export_biomass().sel(time=slice(time_start, time_end))\n",
    "\n",
    "    mean = float(biomass_forcing.mean())\n",
    "    variance = float(biomass_forcing.var())\n",
    "\n",
    "    return mean, variance"
   ]
  },
  {
   "cell_type": "markdown",
   "metadata": {},
   "source": [
    "# SOBOL SENSITIVITY ANALYSIS\n"
   ]
  },
  {
   "cell_type": "code",
   "execution_count": 15,
   "metadata": {},
   "outputs": [],
   "source": [
    "param_values = sp.sample_sobol(SAMPLE_NUMBER)"
   ]
  },
  {
   "cell_type": "code",
   "execution_count": 17,
   "metadata": {},
   "outputs": [
    {
     "data": {
      "text/plain": [
       "Samples:\n",
       "\t5 parameters: ['energy_transfert', 'tr_max', 'tr_rate', 'inv_lambda_max', 'inv_lambda_rate']\n",
       "\t12 samples\n",
       "Outputs:\n",
       "\t2 outputs: ['mean', 'variance']\n",
       "\t12 evaluations\n"
      ]
     },
     "execution_count": 17,
     "metadata": {},
     "output_type": "execute_result"
    }
   ],
   "source": [
    "res = [cost_function(param) for param in param_values.samples]\n",
    "res = client.compute(res)\n",
    "res = client.gather(res)\n",
    "sp.set_results(np.asarray(res))"
   ]
  },
  {
   "cell_type": "code",
   "execution_count": 18,
   "metadata": {},
   "outputs": [
    {
     "name": "stderr",
     "output_type": "stream",
     "text": [
      "/Users/adm-lehodey/Documents/Workspace/Projects/Seapopym-optimisation/.venv/lib/python3.12/site-packages/SALib/util/__init__.py:274: FutureWarning: unique with argument that is not not a Series, Index, ExtensionArray, or np.ndarray is deprecated and will raise in a future version.\n",
      "  names = list(pd.unique(groups))\n"
     ]
    }
   ],
   "source": [
    "sp.analyze_sobol()\n",
    "\n",
    "mean_si, variance_si = sp.to_df()"
   ]
  },
  {
   "cell_type": "code",
   "execution_count": 19,
   "metadata": {},
   "outputs": [],
   "source": [
    "def plot_sobol(mean, variance, title):\n",
    "    def generate_fig(total_si, first_si, second_si):\n",
    "        fig_total = px.bar(total_si, x=total_si.index, y=\"ST\", error_y=\"ST_conf\", orientation=\"v\")\n",
    "        fig_first = px.bar(first_si, x=first_si.index, y=\"S1\", error_y=\"S1_conf\", orientation=\"v\")\n",
    "        fig_second = px.bar(second_si, x=second_si.index.map(str), y=\"S2\", error_y=\"S2_conf\", orientation=\"v\")\n",
    "        return fig_total, fig_first, fig_second\n",
    "\n",
    "    fig_total_mean, fig_first_mean, fig_second_mean = generate_fig(*mean)\n",
    "    fig_total_var, fig_first_var, fig_second_var = generate_fig(*variance)\n",
    "\n",
    "    figure_mean = (\n",
    "        make_subplots(\n",
    "            rows=2,\n",
    "            cols=3,\n",
    "            # shared_yaxes=True,\n",
    "            shared_xaxes=True,\n",
    "            subplot_titles=(\n",
    "                \"Total Sobol indice : MEAN\",\n",
    "                \"1st Sobol indice : MEAN\",\n",
    "                \"2nd Sobol indice : MEAN\",\n",
    "                \"Total Sobol indice : VARIANCE\",\n",
    "                \"1st Sobol indice : VARIANCE\",\n",
    "                \"2nd Sobol indice : VARIANCE\",\n",
    "            ),\n",
    "            specs=[\n",
    "                [{\"type\": \"bar\"}, {\"type\": \"bar\"}, {\"type\": \"bar\"}],\n",
    "                [{\"type\": \"bar\"}, {\"type\": \"bar\"}, {\"type\": \"bar\"}],\n",
    "            ],\n",
    "            vertical_spacing=0.05,\n",
    "            horizontal_spacing=0.05,\n",
    "        )\n",
    "        .add_trace(fig_total_mean.data[0], row=1, col=1)\n",
    "        .add_trace(fig_first_mean.data[0], row=1, col=2)\n",
    "        .add_trace(fig_second_mean.data[0], row=1, col=3)\n",
    "        .add_trace(fig_total_var.data[0], row=2, col=1)\n",
    "        .add_trace(fig_first_var.data[0], row=2, col=2)\n",
    "        .add_trace(fig_second_var.data[0], row=2, col=3)\n",
    "    )\n",
    "    figure_mean.update_layout(height=800, width=1200, title_text=title)\n",
    "    return figure_mean"
   ]
  },
  {
   "cell_type": "code",
   "execution_count": 20,
   "metadata": {},
   "outputs": [],
   "source": [
    "final_figure = plot_sobol(mean_si, variance_si, f\"Sobol indices for mean biomass and variance in {STATION}\")"
   ]
  },
  {
   "cell_type": "code",
   "execution_count": 21,
   "metadata": {},
   "outputs": [
    {
     "data": {
      "application/vnd.plotly.v1+json": {
       "config": {
        "plotlyServerURL": "https://plot.ly"
       },
       "data": [
        {
         "alignmentgroup": "True",
         "error_y": {
          "array": [
           1.312175648810283e-15,
           0,
           0,
           8.747837658735219e-16,
           2.1869594146838046e-16
          ]
         },
         "hovertemplate": "index=%{x}<br>ST=%{y}<extra></extra>",
         "legendgroup": "",
         "marker": {
          "color": "#636efa",
          "pattern": {
           "shape": ""
          }
         },
         "name": "",
         "offsetgroup": "",
         "orientation": "v",
         "showlegend": false,
         "textposition": "auto",
         "type": "bar",
         "x": [
          "energy_transfert",
          "tr_max",
          "tr_rate",
          "inv_lambda_max",
          "inv_lambda_rate"
         ],
         "xaxis": "x",
         "y": [
          1.3793880320843757,
          0,
          0,
          1.7293515687222836,
          0.8489043825053084
         ],
         "yaxis": "y"
        },
        {
         "alignmentgroup": "True",
         "error_y": {
          "array": [
           0,
           0,
           0,
           8.747837658735219e-16,
           1.312175648810283e-15
          ]
         },
         "hovertemplate": "index=%{x}<br>S1=%{y}<extra></extra>",
         "legendgroup": "",
         "marker": {
          "color": "#636efa",
          "pattern": {
           "shape": ""
          }
         },
         "name": "",
         "offsetgroup": "",
         "orientation": "v",
         "showlegend": false,
         "textposition": "auto",
         "type": "bar",
         "x": [
          "energy_transfert",
          "tr_max",
          "tr_rate",
          "inv_lambda_max",
          "inv_lambda_rate"
         ],
         "xaxis": "x2",
         "y": [
          -1.7079941915599344,
          0,
          0,
          1.9124267454913377,
          1.3399005039095282
         ],
         "yaxis": "y2"
        },
        {
         "alignmentgroup": "True",
         "error_y": {
          "array": [
           8.747837658735219e-16,
           8.747837658735219e-16,
           4.3739188293676093e-16,
           0,
           0,
           0,
           0,
           0,
           0,
           0
          ]
         },
         "hovertemplate": "x=%{x}<br>S2=%{y}<extra></extra>",
         "legendgroup": "",
         "marker": {
          "color": "#636efa",
          "pattern": {
           "shape": ""
          }
         },
         "name": "",
         "offsetgroup": "",
         "orientation": "v",
         "showlegend": false,
         "textposition": "auto",
         "type": "bar",
         "x": [
          "('energy_transfert', 'tr_max')",
          "('energy_transfert', 'tr_rate')",
          "('energy_transfert', 'inv_lambda_max')",
          "('energy_transfert', 'inv_lambda_rate')",
          "('tr_max', 'tr_rate')",
          "('tr_max', 'inv_lambda_max')",
          "('tr_max', 'inv_lambda_rate')",
          "('tr_rate', 'inv_lambda_max')",
          "('tr_rate', 'inv_lambda_rate')",
          "('inv_lambda_max', 'inv_lambda_rate')"
         ],
         "xaxis": "x3",
         "y": [
          1.5255684352579333,
          1.5255684352579333,
          1.8747243560310076,
          1.7701969917711622,
          0,
          0,
          0,
          0,
          0,
          -2.402955621376858
         ],
         "yaxis": "y3"
        },
        {
         "alignmentgroup": "True",
         "error_y": {
          "array": [
           0,
           0,
           0,
           1.312175648810283e-15,
           0
          ]
         },
         "hovertemplate": "index=%{x}<br>ST=%{y}<extra></extra>",
         "legendgroup": "",
         "marker": {
          "color": "#636efa",
          "pattern": {
           "shape": ""
          }
         },
         "name": "",
         "offsetgroup": "",
         "orientation": "v",
         "showlegend": false,
         "textposition": "auto",
         "type": "bar",
         "x": [
          "energy_transfert",
          "tr_max",
          "tr_rate",
          "inv_lambda_max",
          "inv_lambda_rate"
         ],
         "xaxis": "x4",
         "y": [
          6.794503832250602,
          0,
          0,
          1.9557044307291398,
          1.5949939123562111
         ],
         "yaxis": "y4"
        },
        {
         "alignmentgroup": "True",
         "error_y": {
          "array": [
           1.7495675317470437e-15,
           0,
           0,
           1.7495675317470437e-15,
           4.3739188293676093e-16
          ]
         },
         "hovertemplate": "index=%{x}<br>S1=%{y}<extra></extra>",
         "legendgroup": "",
         "marker": {
          "color": "#636efa",
          "pattern": {
           "shape": ""
          }
         },
         "name": "",
         "offsetgroup": "",
         "orientation": "v",
         "showlegend": false,
         "textposition": "auto",
         "type": "bar",
         "x": [
          "energy_transfert",
          "tr_max",
          "tr_rate",
          "inv_lambda_max",
          "inv_lambda_rate"
         ],
         "xaxis": "x5",
         "y": [
          -3.899784495074924,
          0,
          0,
          2.0922488804053136,
          1.889475431351097
         ],
         "yaxis": "y5"
        },
        {
         "alignmentgroup": "True",
         "error_y": {
          "array": [
           1.7495675317470437e-15,
           1.7495675317470437e-15,
           0,
           0,
           0,
           0,
           0,
           0,
           0,
           0
          ]
         },
         "hovertemplate": "x=%{x}<br>S2=%{y}<extra></extra>",
         "legendgroup": "",
         "marker": {
          "color": "#636efa",
          "pattern": {
           "shape": ""
          }
         },
         "name": "",
         "offsetgroup": "",
         "orientation": "v",
         "showlegend": false,
         "textposition": "auto",
         "type": "bar",
         "x": [
          "('energy_transfert', 'tr_max')",
          "('energy_transfert', 'tr_rate')",
          "('energy_transfert', 'inv_lambda_max')",
          "('energy_transfert', 'inv_lambda_rate')",
          "('tr_max', 'tr_rate')",
          "('tr_max', 'inv_lambda_max')",
          "('tr_max', 'inv_lambda_rate')",
          "('tr_rate', 'inv_lambda_max')",
          "('tr_rate', 'inv_lambda_rate')",
          "('inv_lambda_max', 'inv_lambda_rate')"
         ],
         "xaxis": "x6",
         "y": [
          3.8782196271131757,
          3.8782196271131757,
          3.923490491525752,
          3.9191029975690936,
          0,
          0,
          0,
          0,
          0,
          -2.655761339440734
         ],
         "yaxis": "y6"
        }
       ],
       "layout": {
        "annotations": [
         {
          "font": {
           "size": 16
          },
          "showarrow": false,
          "text": "Total Sobol indice : MEAN",
          "x": 0.15,
          "xanchor": "center",
          "xref": "paper",
          "y": 1,
          "yanchor": "bottom",
          "yref": "paper"
         },
         {
          "font": {
           "size": 16
          },
          "showarrow": false,
          "text": "1st Sobol indice : MEAN",
          "x": 0.49999999999999994,
          "xanchor": "center",
          "xref": "paper",
          "y": 1,
          "yanchor": "bottom",
          "yref": "paper"
         },
         {
          "font": {
           "size": 16
          },
          "showarrow": false,
          "text": "2nd Sobol indice : MEAN",
          "x": 0.85,
          "xanchor": "center",
          "xref": "paper",
          "y": 1,
          "yanchor": "bottom",
          "yref": "paper"
         },
         {
          "font": {
           "size": 16
          },
          "showarrow": false,
          "text": "Total Sobol indice : VARIANCE",
          "x": 0.15,
          "xanchor": "center",
          "xref": "paper",
          "y": 0.475,
          "yanchor": "bottom",
          "yref": "paper"
         },
         {
          "font": {
           "size": 16
          },
          "showarrow": false,
          "text": "1st Sobol indice : VARIANCE",
          "x": 0.49999999999999994,
          "xanchor": "center",
          "xref": "paper",
          "y": 0.475,
          "yanchor": "bottom",
          "yref": "paper"
         },
         {
          "font": {
           "size": 16
          },
          "showarrow": false,
          "text": "2nd Sobol indice : VARIANCE",
          "x": 0.85,
          "xanchor": "center",
          "xref": "paper",
          "y": 0.475,
          "yanchor": "bottom",
          "yref": "paper"
         }
        ],
        "height": 800,
        "template": {
         "data": {
          "bar": [
           {
            "error_x": {
             "color": "#2a3f5f"
            },
            "error_y": {
             "color": "#2a3f5f"
            },
            "marker": {
             "line": {
              "color": "#E5ECF6",
              "width": 0.5
             },
             "pattern": {
              "fillmode": "overlay",
              "size": 10,
              "solidity": 0.2
             }
            },
            "type": "bar"
           }
          ],
          "barpolar": [
           {
            "marker": {
             "line": {
              "color": "#E5ECF6",
              "width": 0.5
             },
             "pattern": {
              "fillmode": "overlay",
              "size": 10,
              "solidity": 0.2
             }
            },
            "type": "barpolar"
           }
          ],
          "carpet": [
           {
            "aaxis": {
             "endlinecolor": "#2a3f5f",
             "gridcolor": "white",
             "linecolor": "white",
             "minorgridcolor": "white",
             "startlinecolor": "#2a3f5f"
            },
            "baxis": {
             "endlinecolor": "#2a3f5f",
             "gridcolor": "white",
             "linecolor": "white",
             "minorgridcolor": "white",
             "startlinecolor": "#2a3f5f"
            },
            "type": "carpet"
           }
          ],
          "choropleth": [
           {
            "colorbar": {
             "outlinewidth": 0,
             "ticks": ""
            },
            "type": "choropleth"
           }
          ],
          "contour": [
           {
            "colorbar": {
             "outlinewidth": 0,
             "ticks": ""
            },
            "colorscale": [
             [
              0,
              "#0d0887"
             ],
             [
              0.1111111111111111,
              "#46039f"
             ],
             [
              0.2222222222222222,
              "#7201a8"
             ],
             [
              0.3333333333333333,
              "#9c179e"
             ],
             [
              0.4444444444444444,
              "#bd3786"
             ],
             [
              0.5555555555555556,
              "#d8576b"
             ],
             [
              0.6666666666666666,
              "#ed7953"
             ],
             [
              0.7777777777777778,
              "#fb9f3a"
             ],
             [
              0.8888888888888888,
              "#fdca26"
             ],
             [
              1,
              "#f0f921"
             ]
            ],
            "type": "contour"
           }
          ],
          "contourcarpet": [
           {
            "colorbar": {
             "outlinewidth": 0,
             "ticks": ""
            },
            "type": "contourcarpet"
           }
          ],
          "heatmap": [
           {
            "colorbar": {
             "outlinewidth": 0,
             "ticks": ""
            },
            "colorscale": [
             [
              0,
              "#0d0887"
             ],
             [
              0.1111111111111111,
              "#46039f"
             ],
             [
              0.2222222222222222,
              "#7201a8"
             ],
             [
              0.3333333333333333,
              "#9c179e"
             ],
             [
              0.4444444444444444,
              "#bd3786"
             ],
             [
              0.5555555555555556,
              "#d8576b"
             ],
             [
              0.6666666666666666,
              "#ed7953"
             ],
             [
              0.7777777777777778,
              "#fb9f3a"
             ],
             [
              0.8888888888888888,
              "#fdca26"
             ],
             [
              1,
              "#f0f921"
             ]
            ],
            "type": "heatmap"
           }
          ],
          "heatmapgl": [
           {
            "colorbar": {
             "outlinewidth": 0,
             "ticks": ""
            },
            "colorscale": [
             [
              0,
              "#0d0887"
             ],
             [
              0.1111111111111111,
              "#46039f"
             ],
             [
              0.2222222222222222,
              "#7201a8"
             ],
             [
              0.3333333333333333,
              "#9c179e"
             ],
             [
              0.4444444444444444,
              "#bd3786"
             ],
             [
              0.5555555555555556,
              "#d8576b"
             ],
             [
              0.6666666666666666,
              "#ed7953"
             ],
             [
              0.7777777777777778,
              "#fb9f3a"
             ],
             [
              0.8888888888888888,
              "#fdca26"
             ],
             [
              1,
              "#f0f921"
             ]
            ],
            "type": "heatmapgl"
           }
          ],
          "histogram": [
           {
            "marker": {
             "pattern": {
              "fillmode": "overlay",
              "size": 10,
              "solidity": 0.2
             }
            },
            "type": "histogram"
           }
          ],
          "histogram2d": [
           {
            "colorbar": {
             "outlinewidth": 0,
             "ticks": ""
            },
            "colorscale": [
             [
              0,
              "#0d0887"
             ],
             [
              0.1111111111111111,
              "#46039f"
             ],
             [
              0.2222222222222222,
              "#7201a8"
             ],
             [
              0.3333333333333333,
              "#9c179e"
             ],
             [
              0.4444444444444444,
              "#bd3786"
             ],
             [
              0.5555555555555556,
              "#d8576b"
             ],
             [
              0.6666666666666666,
              "#ed7953"
             ],
             [
              0.7777777777777778,
              "#fb9f3a"
             ],
             [
              0.8888888888888888,
              "#fdca26"
             ],
             [
              1,
              "#f0f921"
             ]
            ],
            "type": "histogram2d"
           }
          ],
          "histogram2dcontour": [
           {
            "colorbar": {
             "outlinewidth": 0,
             "ticks": ""
            },
            "colorscale": [
             [
              0,
              "#0d0887"
             ],
             [
              0.1111111111111111,
              "#46039f"
             ],
             [
              0.2222222222222222,
              "#7201a8"
             ],
             [
              0.3333333333333333,
              "#9c179e"
             ],
             [
              0.4444444444444444,
              "#bd3786"
             ],
             [
              0.5555555555555556,
              "#d8576b"
             ],
             [
              0.6666666666666666,
              "#ed7953"
             ],
             [
              0.7777777777777778,
              "#fb9f3a"
             ],
             [
              0.8888888888888888,
              "#fdca26"
             ],
             [
              1,
              "#f0f921"
             ]
            ],
            "type": "histogram2dcontour"
           }
          ],
          "mesh3d": [
           {
            "colorbar": {
             "outlinewidth": 0,
             "ticks": ""
            },
            "type": "mesh3d"
           }
          ],
          "parcoords": [
           {
            "line": {
             "colorbar": {
              "outlinewidth": 0,
              "ticks": ""
             }
            },
            "type": "parcoords"
           }
          ],
          "pie": [
           {
            "automargin": true,
            "type": "pie"
           }
          ],
          "scatter": [
           {
            "fillpattern": {
             "fillmode": "overlay",
             "size": 10,
             "solidity": 0.2
            },
            "type": "scatter"
           }
          ],
          "scatter3d": [
           {
            "line": {
             "colorbar": {
              "outlinewidth": 0,
              "ticks": ""
             }
            },
            "marker": {
             "colorbar": {
              "outlinewidth": 0,
              "ticks": ""
             }
            },
            "type": "scatter3d"
           }
          ],
          "scattercarpet": [
           {
            "marker": {
             "colorbar": {
              "outlinewidth": 0,
              "ticks": ""
             }
            },
            "type": "scattercarpet"
           }
          ],
          "scattergeo": [
           {
            "marker": {
             "colorbar": {
              "outlinewidth": 0,
              "ticks": ""
             }
            },
            "type": "scattergeo"
           }
          ],
          "scattergl": [
           {
            "marker": {
             "colorbar": {
              "outlinewidth": 0,
              "ticks": ""
             }
            },
            "type": "scattergl"
           }
          ],
          "scattermapbox": [
           {
            "marker": {
             "colorbar": {
              "outlinewidth": 0,
              "ticks": ""
             }
            },
            "type": "scattermapbox"
           }
          ],
          "scatterpolar": [
           {
            "marker": {
             "colorbar": {
              "outlinewidth": 0,
              "ticks": ""
             }
            },
            "type": "scatterpolar"
           }
          ],
          "scatterpolargl": [
           {
            "marker": {
             "colorbar": {
              "outlinewidth": 0,
              "ticks": ""
             }
            },
            "type": "scatterpolargl"
           }
          ],
          "scatterternary": [
           {
            "marker": {
             "colorbar": {
              "outlinewidth": 0,
              "ticks": ""
             }
            },
            "type": "scatterternary"
           }
          ],
          "surface": [
           {
            "colorbar": {
             "outlinewidth": 0,
             "ticks": ""
            },
            "colorscale": [
             [
              0,
              "#0d0887"
             ],
             [
              0.1111111111111111,
              "#46039f"
             ],
             [
              0.2222222222222222,
              "#7201a8"
             ],
             [
              0.3333333333333333,
              "#9c179e"
             ],
             [
              0.4444444444444444,
              "#bd3786"
             ],
             [
              0.5555555555555556,
              "#d8576b"
             ],
             [
              0.6666666666666666,
              "#ed7953"
             ],
             [
              0.7777777777777778,
              "#fb9f3a"
             ],
             [
              0.8888888888888888,
              "#fdca26"
             ],
             [
              1,
              "#f0f921"
             ]
            ],
            "type": "surface"
           }
          ],
          "table": [
           {
            "cells": {
             "fill": {
              "color": "#EBF0F8"
             },
             "line": {
              "color": "white"
             }
            },
            "header": {
             "fill": {
              "color": "#C8D4E3"
             },
             "line": {
              "color": "white"
             }
            },
            "type": "table"
           }
          ]
         },
         "layout": {
          "annotationdefaults": {
           "arrowcolor": "#2a3f5f",
           "arrowhead": 0,
           "arrowwidth": 1
          },
          "autotypenumbers": "strict",
          "coloraxis": {
           "colorbar": {
            "outlinewidth": 0,
            "ticks": ""
           }
          },
          "colorscale": {
           "diverging": [
            [
             0,
             "#8e0152"
            ],
            [
             0.1,
             "#c51b7d"
            ],
            [
             0.2,
             "#de77ae"
            ],
            [
             0.3,
             "#f1b6da"
            ],
            [
             0.4,
             "#fde0ef"
            ],
            [
             0.5,
             "#f7f7f7"
            ],
            [
             0.6,
             "#e6f5d0"
            ],
            [
             0.7,
             "#b8e186"
            ],
            [
             0.8,
             "#7fbc41"
            ],
            [
             0.9,
             "#4d9221"
            ],
            [
             1,
             "#276419"
            ]
           ],
           "sequential": [
            [
             0,
             "#0d0887"
            ],
            [
             0.1111111111111111,
             "#46039f"
            ],
            [
             0.2222222222222222,
             "#7201a8"
            ],
            [
             0.3333333333333333,
             "#9c179e"
            ],
            [
             0.4444444444444444,
             "#bd3786"
            ],
            [
             0.5555555555555556,
             "#d8576b"
            ],
            [
             0.6666666666666666,
             "#ed7953"
            ],
            [
             0.7777777777777778,
             "#fb9f3a"
            ],
            [
             0.8888888888888888,
             "#fdca26"
            ],
            [
             1,
             "#f0f921"
            ]
           ],
           "sequentialminus": [
            [
             0,
             "#0d0887"
            ],
            [
             0.1111111111111111,
             "#46039f"
            ],
            [
             0.2222222222222222,
             "#7201a8"
            ],
            [
             0.3333333333333333,
             "#9c179e"
            ],
            [
             0.4444444444444444,
             "#bd3786"
            ],
            [
             0.5555555555555556,
             "#d8576b"
            ],
            [
             0.6666666666666666,
             "#ed7953"
            ],
            [
             0.7777777777777778,
             "#fb9f3a"
            ],
            [
             0.8888888888888888,
             "#fdca26"
            ],
            [
             1,
             "#f0f921"
            ]
           ]
          },
          "colorway": [
           "#636efa",
           "#EF553B",
           "#00cc96",
           "#ab63fa",
           "#FFA15A",
           "#19d3f3",
           "#FF6692",
           "#B6E880",
           "#FF97FF",
           "#FECB52"
          ],
          "font": {
           "color": "#2a3f5f"
          },
          "geo": {
           "bgcolor": "white",
           "lakecolor": "white",
           "landcolor": "#E5ECF6",
           "showlakes": true,
           "showland": true,
           "subunitcolor": "white"
          },
          "hoverlabel": {
           "align": "left"
          },
          "hovermode": "closest",
          "mapbox": {
           "style": "light"
          },
          "paper_bgcolor": "white",
          "plot_bgcolor": "#E5ECF6",
          "polar": {
           "angularaxis": {
            "gridcolor": "white",
            "linecolor": "white",
            "ticks": ""
           },
           "bgcolor": "#E5ECF6",
           "radialaxis": {
            "gridcolor": "white",
            "linecolor": "white",
            "ticks": ""
           }
          },
          "scene": {
           "xaxis": {
            "backgroundcolor": "#E5ECF6",
            "gridcolor": "white",
            "gridwidth": 2,
            "linecolor": "white",
            "showbackground": true,
            "ticks": "",
            "zerolinecolor": "white"
           },
           "yaxis": {
            "backgroundcolor": "#E5ECF6",
            "gridcolor": "white",
            "gridwidth": 2,
            "linecolor": "white",
            "showbackground": true,
            "ticks": "",
            "zerolinecolor": "white"
           },
           "zaxis": {
            "backgroundcolor": "#E5ECF6",
            "gridcolor": "white",
            "gridwidth": 2,
            "linecolor": "white",
            "showbackground": true,
            "ticks": "",
            "zerolinecolor": "white"
           }
          },
          "shapedefaults": {
           "line": {
            "color": "#2a3f5f"
           }
          },
          "ternary": {
           "aaxis": {
            "gridcolor": "white",
            "linecolor": "white",
            "ticks": ""
           },
           "baxis": {
            "gridcolor": "white",
            "linecolor": "white",
            "ticks": ""
           },
           "bgcolor": "#E5ECF6",
           "caxis": {
            "gridcolor": "white",
            "linecolor": "white",
            "ticks": ""
           }
          },
          "title": {
           "x": 0.05
          },
          "xaxis": {
           "automargin": true,
           "gridcolor": "white",
           "linecolor": "white",
           "ticks": "",
           "title": {
            "standoff": 15
           },
           "zerolinecolor": "white",
           "zerolinewidth": 2
          },
          "yaxis": {
           "automargin": true,
           "gridcolor": "white",
           "linecolor": "white",
           "ticks": "",
           "title": {
            "standoff": 15
           },
           "zerolinecolor": "white",
           "zerolinewidth": 2
          }
         }
        },
        "title": {
         "text": "Sobol indices for mean biomass and variance in Hot"
        },
        "width": 1200,
        "xaxis": {
         "anchor": "y",
         "domain": [
          0,
          0.3
         ],
         "matches": "x4",
         "showticklabels": false
        },
        "xaxis2": {
         "anchor": "y2",
         "domain": [
          0.35,
          0.6499999999999999
         ],
         "matches": "x5",
         "showticklabels": false
        },
        "xaxis3": {
         "anchor": "y3",
         "domain": [
          0.7,
          1
         ],
         "matches": "x6",
         "showticklabels": false
        },
        "xaxis4": {
         "anchor": "y4",
         "domain": [
          0,
          0.3
         ]
        },
        "xaxis5": {
         "anchor": "y5",
         "domain": [
          0.35,
          0.6499999999999999
         ]
        },
        "xaxis6": {
         "anchor": "y6",
         "domain": [
          0.7,
          1
         ]
        },
        "yaxis": {
         "anchor": "x",
         "domain": [
          0.525,
          1
         ]
        },
        "yaxis2": {
         "anchor": "x2",
         "domain": [
          0.525,
          1
         ]
        },
        "yaxis3": {
         "anchor": "x3",
         "domain": [
          0.525,
          1
         ]
        },
        "yaxis4": {
         "anchor": "x4",
         "domain": [
          0,
          0.475
         ]
        },
        "yaxis5": {
         "anchor": "x5",
         "domain": [
          0,
          0.475
         ]
        },
        "yaxis6": {
         "anchor": "x6",
         "domain": [
          0,
          0.475
         ]
        }
       }
      }
     },
     "metadata": {},
     "output_type": "display_data"
    }
   ],
   "source": [
    "final_figure"
   ]
  },
  {
   "cell_type": "code",
   "execution_count": 22,
   "metadata": {},
   "outputs": [],
   "source": [
    "final_figure.write_html(f\"./{STATION}_sobol_indice.html\")"
   ]
  }
 ],
 "metadata": {
  "kernelspec": {
   "display_name": ".venv",
   "language": "python",
   "name": "python3"
  },
  "language_info": {
   "codemirror_mode": {
    "name": "ipython",
    "version": 3
   },
   "file_extension": ".py",
   "mimetype": "text/x-python",
   "name": "python",
   "nbconvert_exporter": "python",
   "pygments_lexer": "ipython3",
   "version": "3.12.9"
  }
 },
 "nbformat": 4,
 "nbformat_minor": 2
}
